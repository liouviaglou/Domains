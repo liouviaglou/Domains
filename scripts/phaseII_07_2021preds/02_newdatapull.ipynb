{
 "cells": [
  {
   "cell_type": "markdown",
   "metadata": {},
   "source": [
    "# New Expiry Data Pull for rerunning of MVP scripts"
   ]
  },
  {
   "cell_type": "markdown",
   "metadata": {},
   "source": [
    "Client provided new BQ query for expiry data. Query has been QAed \n",
    "\n",
    "In order to pull data by executing a query in a given .sql file, we need to first pull the data into a table within our locally owned GCP project (otherwise, we'll run into constraints).\n",
    "\n",
    "This can be done via the following command line statement:\n",
    "\n",
    "`bq query --use_legacy_sql=false --destination_table=\"radix2020:expiry.expiry_20180101_20211231_20210215\" --flagfile=\"expiry_prepped_data.sql\"`\n",
    "\n",
    "This will create a new a new table expiry.expiry_20180101_20211231_20210215\n",
    "\n",
    "Naming convention for expiry data pulls: expiry_mindate_maxdate_pulldate"
   ]
  },
  {
   "cell_type": "code",
   "execution_count": 1,
   "metadata": {},
   "outputs": [],
   "source": [
    "library(bigrquery)"
   ]
  },
  {
   "cell_type": "code",
   "execution_count": 2,
   "metadata": {},
   "outputs": [],
   "source": [
    "projname_str <- 'radix2020'\n",
    "dbname_str <- 'expiry'\n",
    "query_file <- 'expiry_prepped_data.sql'"
   ]
  },
  {
   "cell_type": "code",
   "execution_count": 5,
   "metadata": {},
   "outputs": [],
   "source": [
    "today <- Sys.Date()"
   ]
  },
  {
   "cell_type": "code",
   "execution_count": 2,
   "metadata": {},
   "outputs": [
    {
     "name": "stdout",
     "output_type": "stream",
     "text": [
      "Executing command:\n",
      "\t bq query --use_legacy_sql=false --destination_table='radix2020:expiry.expiry_20180101_20211231_20210222' --flagfile='expiry_prepped_data.sql'  \n"
     ]
    }
   ],
   "source": [
    "tblname_str_1 <- paste0('expiry_20180101_20211231_',format(today, format=\"%Y%m%d\"))\n",
    "tblloc_str_1 <- paste0(projname_str,':',dbname_str,'.',tblname_str_1)\n",
    "\n",
    "command_str <-  paste0(\"bq query --use_legacy_sql=false --destination_table='\",\n",
    "                       tblloc_str_1,\"' --flagfile='\",query_file,\"' \")\n",
    "\n",
    "\n",
    "cat(\"Executing command:\\n\\t\", command_str,\"\\n\")"
   ]
  },
  {
   "cell_type": "code",
   "execution_count": 3,
   "metadata": {},
   "outputs": [
    {
     "name": "stdout",
     "output_type": "stream",
     "text": [
      "Created BQ table radix2020:expiry.expiry_20180101_20211231_20210222 \n"
     ]
    }
   ],
   "source": [
    "system(command_str)\n",
    "\n",
    "cat(\"Created BQ table\", tblloc_str_1 ,\"\\n\")"
   ]
  },
  {
   "cell_type": "code",
   "execution_count": 4,
   "metadata": {},
   "outputs": [
    {
     "name": "stdout",
     "output_type": "stream",
     "text": [
      "Executing command:\n",
      "\t bq update --expiration 3600 'radix2020:expiry.expiry_20180101_20211231_20210222' \n"
     ]
    }
   ],
   "source": [
    "command_str <- paste0(\"bq update --expiration 3600 '\", tblloc_str_1,\"'\")\n",
    "cat(\"Executing command:\\n\\t\", command_str,\"\\n\")"
   ]
  },
  {
   "cell_type": "code",
   "execution_count": 5,
   "metadata": {},
   "outputs": [
    {
     "name": "stdout",
     "output_type": "stream",
     "text": [
      "Updated BQ table radix2020:expiry.expiry_20180101_20211231_20210222  to be automatically deleted in 1 hour ( 2021-02-22 15:16:38 PST )\n"
     ]
    }
   ],
   "source": [
    "system(command_str)\n",
    "cat(\"Updated BQ table\", tblloc_str_1 ,\" to be automatically deleted in 1 hour (\",format(Sys.time()+ 1*60*60, tz=\"America/Los_Angeles\",usetz=TRUE),\")\\n\")"
   ]
  },
  {
   "cell_type": "code",
   "execution_count": null,
   "metadata": {},
   "outputs": [],
   "source": []
  },
  {
   "cell_type": "markdown",
   "metadata": {},
   "source": [
    "# Test/Train split"
   ]
  },
  {
   "cell_type": "markdown",
   "metadata": {},
   "source": [
    "Client has requested a 10%/45%/45% (Test/Train/Train) split \n",
    "\n",
    "with a 5 quarter time horizon... leading to an est. 560K/2.5M/2.5M obs\n",
    "\n",
    "09/28/2019 - 12/27/2020 =5Q\n",
    "\n",
    "https://www.oreilly.com/content/repeatable-sampling-of-data-sets-in-bigquery-for-machine-learning/\n",
    "https://stackoverflow.com/questions/46019624/how-to-do-repeatable-sampling-in-bigquery-standard-sql\n",
    "https://stackoverflow.com/questions/46019624/how-to-do-repeatable-sampling-in-bigquery-standard-sql"
   ]
  },
  {
   "cell_type": "code",
   "execution_count": 6,
   "metadata": {},
   "outputs": [],
   "source": [
    "maxdate <- today - 50\n",
    "mindate <- maxdate - 456"
   ]
  },
  {
   "cell_type": "code",
   "execution_count": 10,
   "metadata": {},
   "outputs": [],
   "source": [
    "# Create local dir for data\n",
    "directory <- paste0('../../data/output/datapull_', format(today, format=\"%Y%m%d\"))\n",
    "dir.create(directory, showWarnings = FALSE)"
   ]
  },
  {
   "cell_type": "code",
   "execution_count": 11,
   "metadata": {},
   "outputs": [
    {
     "name": "stdout",
     "output_type": "stream",
     "text": [
      "Executing command:\n",
      "\t bq query --destination_table='radix2020:expiry.expiry_20191005_20210103_test' 'SELECT * FROM  expiry.expiry_20180101_20211231_20210222 t WHERE   DATE(expiry_date) BETWEEN \"2019-10-05\" AND \"2021-01-03\" AND renewed_count=1 AND     ABS(HASH(expiry_date)) % 100 < 10' \n"
     ]
    }
   ],
   "source": [
    "tblname_str_2 <- paste0('expiry_',format(mindate, format=\"%Y%m%d\"),'_',format(maxdate, format=\"%Y%m%d\") ,'_test')\n",
    "tblloc_str_2 <- paste0(projname_str,':',dbname_str,'.',tblname_str_2)\n",
    "\n",
    "query_str <- gsub(\"[\\r\\n]\", \" \", paste0(\"SELECT * FROM  \",dbname_str,'.',tblname_str_1,\" t WHERE\n",
    "  DATE(expiry_date) BETWEEN \\\"\",mindate,\"\\\" AND \\\"\",maxdate,\"\\\" AND renewed_count=1 AND  \n",
    "  ABS(HASH(expiry_date)) % 100 < 10\"))\n",
    "\n",
    "command_str <- paste0(\"bq query --destination_table='\", tblloc_str_2,\"' '\", query_str ,\"'\")\n",
    "cat(\"Executing command:\\n\\t\", command_str,\"\\n\")"
   ]
  },
  {
   "cell_type": "code",
   "execution_count": 12,
   "metadata": {},
   "outputs": [
    {
     "name": "stdout",
     "output_type": "stream",
     "text": [
      "Created BQ table radix2020:expiry.expiry_20191005_20210103_test \n"
     ]
    }
   ],
   "source": [
    "system(command_str)\n",
    "\n",
    "cat(\"Created BQ table\", tblloc_str_2 ,\"\\n\")"
   ]
  },
  {
   "cell_type": "code",
   "execution_count": 17,
   "metadata": {},
   "outputs": [],
   "source": [
    "# Write data to local\n",
    "# https://community.exploratory.io/t/google-bigquery-import-fails-with-invalid-value-at-start-index-type-uint64-1e-05-invalid/1901\n",
    "options(scipen = 20)\n",
    "\n",
    "eval(call(\"<-\", as.name(tblname_str_2), \n",
    "          bq_table_download(bq_project_query(projname_str, \n",
    "                                             paste0(\"SELECT * FROM  \",dbname_str,'.',tblname_str_2)\n",
    "                                            ))))\n",
    "saveRDS(get(tblname_str_2),file = paste0(directory,'/',tblname_str_2,'.RDS'), \n",
    "        compress=TRUE)\n"
   ]
  },
  {
   "cell_type": "code",
   "execution_count": 27,
   "metadata": {},
   "outputs": [
    {
     "name": "stdout",
     "output_type": "stream",
     "text": [
      "Executing command:\n",
      "\t bq query --destination_table='radix2020:expiry.expiry_20191005_20210103_train1' 'SELECT * FROM  expiry.expiry_20180101_20211231_20210222 t WHERE   DATE(expiry_date) BETWEEN \"2019-10-05\" AND \"2021-01-03\" AND renewed_count=1 AND     ABS(HASH(expiry_date)) % 100 >= 10 AND     ABS(HASH(expiry_date)) % 100 < 55' \n"
     ]
    }
   ],
   "source": [
    "tblname_str_2 <- paste0('expiry_',format(mindate, format=\"%Y%m%d\"),'_',format(maxdate, format=\"%Y%m%d\") ,'_train1')\n",
    "tblloc_str_2 <- paste0(projname_str,':',dbname_str,'.',tblname_str_2)\n",
    "\n",
    "query_str <- gsub(\"[\\r\\n]\", \" \", paste0(\"SELECT * FROM  \",dbname_str,'.',tblname_str_1,\" t WHERE\n",
    "  DATE(expiry_date) BETWEEN \\\"\",mindate,\"\\\" AND \\\"\",maxdate,\"\\\" AND renewed_count=1 AND  \n",
    "  ABS(HASH(expiry_date)) % 100 >= 10 AND  \n",
    "  ABS(HASH(expiry_date)) % 100 < 55\"))\n",
    "\n",
    "command_str <- paste0(\"bq query --destination_table='\", tblloc_str_2,\"' '\", query_str ,\"'\")\n",
    "cat(\"Executing command:\\n\\t\", command_str,\"\\n\")"
   ]
  },
  {
   "cell_type": "code",
   "execution_count": 28,
   "metadata": {},
   "outputs": [
    {
     "name": "stdout",
     "output_type": "stream",
     "text": [
      "Created BQ table radix2020:expiry.expiry_20191005_20210103_train1 \n"
     ]
    }
   ],
   "source": [
    "system(command_str)\n",
    "\n",
    "cat(\"Created BQ table\", tblloc_str_2 ,\"\\n\")"
   ]
  },
  {
   "cell_type": "code",
   "execution_count": 29,
   "metadata": {},
   "outputs": [],
   "source": [
    "# Write data to local\n",
    "# https://community.exploratory.io/t/google-bigquery-import-fails-with-invalid-value-at-start-index-type-uint64-1e-05-invalid/1901\n",
    "options(scipen = 20)\n",
    "\n",
    "eval(call(\"<-\", as.name(tblname_str_2), \n",
    "          bq_table_download(bq_project_query(projname_str, \n",
    "                                             paste0(\"SELECT * FROM  \",dbname_str,'.',tblname_str_2)\n",
    "                                            ))))\n",
    "saveRDS(get(tblname_str_2),file = paste0(directory,'/',tblname_str_2,'.RDS'), \n",
    "        compress=TRUE)"
   ]
  },
  {
   "cell_type": "code",
   "execution_count": 32,
   "metadata": {},
   "outputs": [
    {
     "name": "stdout",
     "output_type": "stream",
     "text": [
      "Executing command:\n",
      "\t bq query --destination_table='radix2020:expiry.expiry_20191005_20210103_train2' 'SELECT* FROM expiry.expiry_20180101_20211231_20210222 t WHERE   DATE(expiry_date) BETWEEN \"2019-10-05\" AND \"2021-01-03\" AND renewed_count=1 AND     ABS(HASH(expiry_date)) % 100 >= 55 ' \n"
     ]
    }
   ],
   "source": [
    "tblname_str_2 <- paste0('expiry_',format(mindate, format=\"%Y%m%d\"),'_',format(maxdate, format=\"%Y%m%d\") ,'_train2')\n",
    "tblloc_str_2 <- paste0(projname_str,':',dbname_str,'.',tblname_str_2)\n",
    "\n",
    "query_str <- gsub(\"[\\r\\n]\", \" \", paste0(\"SELECT* FROM \",dbname_str,'.',tblname_str_1,\" t WHERE\n",
    "  DATE(expiry_date) BETWEEN \\\"\",mindate,\"\\\" AND \\\"\",maxdate,\"\\\" AND renewed_count=1 AND  \n",
    "  ABS(HASH(expiry_date)) % 100 >= 55 \"))\n",
    "\n",
    "command_str <- paste0(\"bq query --destination_table='\", tblloc_str_2,\"' '\", query_str ,\"'\")\n",
    "cat(\"Executing command:\\n\\t\", command_str,\"\\n\")"
   ]
  },
  {
   "cell_type": "code",
   "execution_count": 33,
   "metadata": {},
   "outputs": [
    {
     "name": "stdout",
     "output_type": "stream",
     "text": [
      "Created BQ table radix2020:expiry.expiry_20191005_20210103_train2 \n"
     ]
    }
   ],
   "source": [
    "system(command_str)\n",
    "\n",
    "cat(\"Created BQ table\", tblloc_str_2 ,\"\\n\")"
   ]
  },
  {
   "cell_type": "code",
   "execution_count": 34,
   "metadata": {},
   "outputs": [],
   "source": [
    "# Write data to local\n",
    "# https://community.exploratory.io/t/google-bigquery-import-fails-with-invalid-value-at-start-index-type-uint64-1e-05-invalid/1901\n",
    "options(scipen = 20)\n",
    "\n",
    "eval(call(\"<-\", as.name(tblname_str_2), \n",
    "          bq_table_download(bq_project_query(projname_str, \n",
    "                                             paste0(\"SELECT * FROM  \",dbname_str,'.',tblname_str_2)\n",
    "                                            ))))\n",
    "saveRDS(get(tblname_str_2),file = paste0(directory,'/',tblname_str_2,'.RDS'), \n",
    "        compress=TRUE)"
   ]
  },
  {
   "cell_type": "code",
   "execution_count": 36,
   "metadata": {},
   "outputs": [],
   "source": [
    "system(paste0(\"gsutil cp -r \",directory,\" gs://data_outputt/output/\"))"
   ]
  },
  {
   "cell_type": "markdown",
   "metadata": {},
   "source": [
    "# Ad-hoc testing of  script components"
   ]
  },
  {
   "cell_type": "code",
   "execution_count": 12,
   "metadata": {},
   "outputs": [
    {
     "name": "stdout",
     "output_type": "stream",
     "text": [
      "Executing command:\n",
      "\t bq query  --max_rows=0 --destination_table='radix2020:expiry.expiry_20191006_20210104_deleteme2' 'SELECT * FROM expiry.expiry_20191006_20210104_test' \n"
     ]
    }
   ],
   "source": [
    "# does maxrows argument work? tested via terminal\n",
    "\n",
    "tblname_str_1 <- paste0('expiry_20180101_20211231_',format(today, format=\"%Y%m%d\"))\n",
    "tblloc_str_1 <- paste0(projname_str,':',dbname_str,'.',tblname_str_1)\n",
    "\n",
    "tblname_str_2 <- paste0('expiry_',format(mindate, format=\"%Y%m%d\"),'_',format(maxdate, format=\"%Y%m%d\") ,'_deleteme2')\n",
    "tblloc_str_2 <- paste0(projname_str,':',dbname_str,'.',tblname_str_2)\n",
    "\n",
    "query_str <- gsub(\"[\\r\\n]\", \" \", paste0(\"SELECT * FROM expiry.expiry_20191006_20210104_test\"))\n",
    "\n",
    "command_str <- paste0(\"bq query  --max_rows=0 --destination_table='\", tblloc_str_2,\"' '\", query_str ,\"'\")\n",
    "cat(\"Executing command:\\n\\t\", command_str,\"\\n\")"
   ]
  },
  {
   "cell_type": "code",
   "execution_count": null,
   "metadata": {},
   "outputs": [],
   "source": []
  }
 ],
 "metadata": {
  "environment": {
   "name": "r-cpu.3-6.m48",
   "type": "gcloud",
   "uri": "gcr.io/deeplearning-platform-release/r-cpu.3-6:m48"
  },
  "kernelspec": {
   "display_name": "R",
   "language": "R",
   "name": "ir"
  },
  "language_info": {
   "codemirror_mode": "r",
   "file_extension": ".r",
   "mimetype": "text/x-r-source",
   "name": "R",
   "pygments_lexer": "r",
   "version": "3.6.3"
  }
 },
 "nbformat": 4,
 "nbformat_minor": 4
}
