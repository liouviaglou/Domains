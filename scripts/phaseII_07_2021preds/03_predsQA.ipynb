{
 "cells": [
  {
   "cell_type": "markdown",
   "metadata": {},
   "source": [
    "# QAing & PerfMetrics of 10% validation set"
   ]
  },
  {
   "cell_type": "code",
   "execution_count": 43,
   "metadata": {},
   "outputs": [
    {
     "name": "stderr",
     "output_type": "stream",
     "text": [
      "\n",
      "Attaching package: ‘data.table’\n",
      "\n",
      "\n",
      "The following objects are masked from ‘package:dplyr’:\n",
      "\n",
      "    between, first, last\n",
      "\n",
      "\n"
     ]
    }
   ],
   "source": [
    "library(dplyr)\n",
    "library(bigrquery)\n",
    "library(data.table)\n",
    "options(scipen = 20)\n",
    "options(repr.matrix.max.cols=50, repr.matrix.max.rows=100)\n",
    "\n",
    "\n",
    "source('../phaseII_03_forest/functions_eval.R')"
   ]
  },
  {
   "cell_type": "markdown",
   "metadata": {},
   "source": [
    "## Load preds data into memory"
   ]
  },
  {
   "cell_type": "code",
   "execution_count": 7,
   "metadata": {},
   "outputs": [],
   "source": [
    "preds_df <- bq_table_download(bq_project_query('radix2020', \"SELECT * FROM  myriad-303821.expiry.expiry_meta_preds\"))"
   ]
  },
  {
   "cell_type": "code",
   "execution_count": 8,
   "metadata": {},
   "outputs": [],
   "source": [
    "saveRDS(preds_df,file = \"../../data/output/deliv_20210316/preds_20191006_20210104_test.RDS\", compress=TRUE)"
   ]
  },
  {
   "cell_type": "markdown",
   "metadata": {},
   "source": [
    "## QA data"
   ]
  },
  {
   "cell_type": "code",
   "execution_count": 9,
   "metadata": {},
   "outputs": [
    {
     "data": {
      "text/html": [
       "<style>\n",
       ".list-inline {list-style: none; margin:0; padding: 0}\n",
       ".list-inline>li {display: inline-block}\n",
       ".list-inline>li:not(:last-child)::after {content: \"\\00b7\"; padding: 0 .5ex}\n",
       "</style>\n",
       "<ol class=list-inline><li>10476180</li><li>40</li></ol>\n"
      ],
      "text/latex": [
       "\\begin{enumerate*}\n",
       "\\item 10476180\n",
       "\\item 40\n",
       "\\end{enumerate*}\n"
      ],
      "text/markdown": [
       "1. 10476180\n",
       "2. 40\n",
       "\n",
       "\n"
      ],
      "text/plain": [
       "[1] 10476180       40"
      ]
     },
     "metadata": {},
     "output_type": "display_data"
    }
   ],
   "source": [
    "dim(preds_df) # matches count(*) via BQ console"
   ]
  },
  {
   "cell_type": "code",
   "execution_count": 11,
   "metadata": {},
   "outputs": [
    {
     "data": {
      "text/html": [
       "574160"
      ],
      "text/latex": [
       "574160"
      ],
      "text/markdown": [
       "574160"
      ],
      "text/plain": [
       "[1] 574160"
      ]
     },
     "metadata": {},
     "output_type": "display_data"
    }
   ],
   "source": [
    "length(unique(preds_df$domain_id)) # count(*) from _test returns 582,643, count(distinct(domain_id)) returns 574,772"
   ]
  },
  {
   "cell_type": "markdown",
   "metadata": {},
   "source": [
    "### number of distinct domain_ids in predictions does not match number of rows in test, number of  distinct domain_ids in test"
   ]
  },
  {
   "cell_type": "markdown",
   "metadata": {},
   "source": [
    "#### TODO: examine rows of duplicate domain_ids in test"
   ]
  },
  {
   "cell_type": "code",
   "execution_count": null,
   "metadata": {},
   "outputs": [],
   "source": []
  },
  {
   "cell_type": "markdown",
   "metadata": {},
   "source": [
    "#### TODO: examine 612 missing (\\*) domain_ids in test (\\*just via cardinality, need to confirm)"
   ]
  },
  {
   "cell_type": "code",
   "execution_count": null,
   "metadata": {},
   "outputs": [],
   "source": []
  },
  {
   "cell_type": "markdown",
   "metadata": {},
   "source": [
    "### number of nas per domain_id"
   ]
  },
  {
   "cell_type": "code",
   "execution_count": 23,
   "metadata": {},
   "outputs": [
    {
     "name": "stderr",
     "output_type": "stream",
     "text": [
      "`summarise()` ungrouping output (override with `.groups` argument)\n",
      "\n"
     ]
    },
    {
     "data": {
      "text/html": [
       "<table>\n",
       "<caption>A tibble: 6 × 2</caption>\n",
       "<thead>\n",
       "\t<tr><th scope=col>domain_id</th><th scope=col>na_count</th></tr>\n",
       "\t<tr><th scope=col>&lt;int&gt;</th><th scope=col>&lt;int&gt;</th></tr>\n",
       "</thead>\n",
       "<tbody>\n",
       "\t<tr><td>80893539</td><td>10</td></tr>\n",
       "\t<tr><td>90627238</td><td>10</td></tr>\n",
       "\t<tr><td>90686968</td><td>10</td></tr>\n",
       "\t<tr><td>91349668</td><td>10</td></tr>\n",
       "\t<tr><td>91395713</td><td>10</td></tr>\n",
       "\t<tr><td>79015134</td><td> 8</td></tr>\n",
       "</tbody>\n",
       "</table>\n"
      ],
      "text/latex": [
       "A tibble: 6 × 2\n",
       "\\begin{tabular}{ll}\n",
       " domain\\_id & na\\_count\\\\\n",
       " <int> & <int>\\\\\n",
       "\\hline\n",
       "\t 80893539 & 10\\\\\n",
       "\t 90627238 & 10\\\\\n",
       "\t 90686968 & 10\\\\\n",
       "\t 91349668 & 10\\\\\n",
       "\t 91395713 & 10\\\\\n",
       "\t 79015134 &  8\\\\\n",
       "\\end{tabular}\n"
      ],
      "text/markdown": [
       "\n",
       "A tibble: 6 × 2\n",
       "\n",
       "| domain_id &lt;int&gt; | na_count &lt;int&gt; |\n",
       "|---|---|\n",
       "| 80893539 | 10 |\n",
       "| 90627238 | 10 |\n",
       "| 90686968 | 10 |\n",
       "| 91349668 | 10 |\n",
       "| 91395713 | 10 |\n",
       "| 79015134 |  8 |\n",
       "\n"
      ],
      "text/plain": [
       "  domain_id na_count\n",
       "1 80893539  10      \n",
       "2 90627238  10      \n",
       "3 90686968  10      \n",
       "4 91349668  10      \n",
       "5 91395713  10      \n",
       "6 79015134   8      "
      ]
     },
     "metadata": {},
     "output_type": "display_data"
    }
   ],
   "source": [
    "preds_df %>% group_by(domain_id)  %>% summarise(na_count = sum(is.na(predicted))) %>% filter(na_count>0) %>% arrange(desc(na_count)) %>% head()"
   ]
  },
  {
   "cell_type": "markdown",
   "metadata": {},
   "source": [
    "## we have two different renewal_statuses for a given domain_id\n",
    "confirmed via `select domain,expiry_date,gibb_score,renewal_status from radix2020.expiry.expiry_20191006_20210104_test where domain_id=80893539`\n",
    "\n",
    "and by running the .sql query with `where domain_id=80893539`"
   ]
  },
  {
   "cell_type": "code",
   "execution_count": 30,
   "metadata": {},
   "outputs": [
    {
     "data": {
      "text/html": [
       "<table>\n",
       "<caption>A tibble: 36 × 6</caption>\n",
       "<thead>\n",
       "\t<tr><th scope=col>domain</th><th scope=col>expiry_date</th><th scope=col>gibb_score</th><th scope=col>renewal_status</th><th scope=col>model</th><th scope=col>predicted</th></tr>\n",
       "\t<tr><th scope=col>&lt;chr&gt;</th><th scope=col>&lt;chr&gt;</th><th scope=col>&lt;dbl&gt;</th><th scope=col>&lt;chr&gt;</th><th scope=col>&lt;chr&gt;</th><th scope=col>&lt;dbl&gt;</th></tr>\n",
       "</thead>\n",
       "<tbody>\n",
       "\t<tr><td>gardasee.host</td><td>2019-10-29</td><td>5.22</td><td>Renewed   </td><td>pred_seg_glm_ALL_fb </td><td>0.39600</td></tr>\n",
       "\t<tr><td>gardasee.host</td><td>2019-10-29</td><td>5.22</td><td>Not Renewd</td><td>pred_agg_glm        </td><td>     NA</td></tr>\n",
       "\t<tr><td>gardasee.host</td><td>2019-10-29</td><td>5.22</td><td>Not Renewd</td><td>pred_seg2_rf_ALL    </td><td>     NA</td></tr>\n",
       "\t<tr><td>gardasee.host</td><td>2019-10-29</td><td>5.22</td><td>Renewed   </td><td>pred_agg_glm_fb     </td><td>0.01300</td></tr>\n",
       "\t<tr><td>gardasee.host</td><td>2019-10-29</td><td>5.22</td><td>Not Renewd</td><td>pred_agg_rf_ALL_fb  </td><td>0.28343</td></tr>\n",
       "\t<tr><td>gardasee.host</td><td>2019-10-29</td><td>5.22</td><td>Renewed   </td><td>pred_seg2_rf_ALL_fb </td><td>0.01300</td></tr>\n",
       "\t<tr><td>gardasee.host</td><td>2019-10-29</td><td>5.22</td><td>Not Renewd</td><td>pred_meta_l10       </td><td>     NA</td></tr>\n",
       "\t<tr><td>gardasee.host</td><td>2019-10-29</td><td>5.22</td><td>Not Renewd</td><td>pred_agg_glm_ALL    </td><td>0.16700</td></tr>\n",
       "\t<tr><td>gardasee.host</td><td>2019-10-29</td><td>5.22</td><td>Not Renewd</td><td>pred_seg_glm_ALL    </td><td>0.39600</td></tr>\n",
       "\t<tr><td>gardasee.host</td><td>2019-10-29</td><td>5.22</td><td>Renewed   </td><td>pred_agg_glm_ALL    </td><td>0.16700</td></tr>\n",
       "\t<tr><td>gardasee.host</td><td>2019-10-29</td><td>5.22</td><td>Renewed   </td><td>pred_seg_glm_ALL    </td><td>0.39600</td></tr>\n",
       "\t<tr><td>gardasee.host</td><td>2019-10-29</td><td>5.22</td><td>Not Renewd</td><td>pred_agg_glm_fb     </td><td>0.01300</td></tr>\n",
       "\t<tr><td>gardasee.host</td><td>2019-10-29</td><td>5.22</td><td>Not Renewd</td><td>pred_agg_rf_ALL     </td><td>0.28343</td></tr>\n",
       "\t<tr><td>gardasee.host</td><td>2019-10-29</td><td>5.22</td><td>Not Renewd</td><td>pred_seg_rf_ALL     </td><td>0.39836</td></tr>\n",
       "\t<tr><td>gardasee.host</td><td>2019-10-29</td><td>5.22</td><td>Renewed   </td><td>pred_agg_rf_ALL     </td><td>0.28343</td></tr>\n",
       "\t<tr><td>gardasee.host</td><td>2019-10-29</td><td>5.22</td><td>Renewed   </td><td>pred_seg2_glm_ALL   </td><td>     NA</td></tr>\n",
       "\t<tr><td>gardasee.host</td><td>2019-10-29</td><td>5.22</td><td>Renewed   </td><td>pred_seg2_rf_ALL    </td><td>     NA</td></tr>\n",
       "\t<tr><td>gardasee.host</td><td>2019-10-29</td><td>5.22</td><td>Not Renewd</td><td>pred_seg2_rf_ALL_fb </td><td>0.01300</td></tr>\n",
       "\t<tr><td>gardasee.host</td><td>2019-10-29</td><td>5.22</td><td>Renewed   </td><td>pred_seg_rf_ALL_fb  </td><td>0.39836</td></tr>\n",
       "\t<tr><td>gardasee.host</td><td>2019-10-29</td><td>5.22</td><td>Not Renewd</td><td>pred_seg_glm_ALL_fb </td><td>0.39600</td></tr>\n",
       "\t<tr><td>gardasee.host</td><td>2019-10-29</td><td>5.22</td><td>Renewed   </td><td>pred_agg_rf         </td><td>0.54963</td></tr>\n",
       "\t<tr><td>gardasee.host</td><td>2019-10-29</td><td>5.22</td><td>Renewed   </td><td>pred_agg_glm_ALL_fb </td><td>0.16700</td></tr>\n",
       "\t<tr><td>gardasee.host</td><td>2019-10-29</td><td>5.22</td><td>Not Renewd</td><td>pred_agg_glm_ALL_fb </td><td>0.16700</td></tr>\n",
       "\t<tr><td>gardasee.host</td><td>2019-10-29</td><td>5.22</td><td>Not Renewd</td><td>pred_agg_rf_fb      </td><td>0.54963</td></tr>\n",
       "\t<tr><td>gardasee.host</td><td>2019-10-29</td><td>5.22</td><td>Not Renewd</td><td>pred_seg2_glm_ALL_fb</td><td>0.01300</td></tr>\n",
       "\t<tr><td>gardasee.host</td><td>2019-10-29</td><td>5.22</td><td>Not Renewd</td><td>pred_seg2_glm_ALL   </td><td>     NA</td></tr>\n",
       "\t<tr><td>gardasee.host</td><td>2019-10-29</td><td>5.22</td><td>Renewed   </td><td>pred_meta_l10       </td><td>     NA</td></tr>\n",
       "\t<tr><td>gardasee.host</td><td>2019-10-29</td><td>5.22</td><td>Renewed   </td><td>pred_meta_auc       </td><td>     NA</td></tr>\n",
       "\t<tr><td>gardasee.host</td><td>2019-10-29</td><td>5.22</td><td>Not Renewd</td><td>pred_meta_auc       </td><td>     NA</td></tr>\n",
       "\t<tr><td>gardasee.host</td><td>2019-10-29</td><td>5.22</td><td>Renewed   </td><td>pred_agg_rf_ALL_fb  </td><td>0.28343</td></tr>\n",
       "\t<tr><td>gardasee.host</td><td>2019-10-29</td><td>5.22</td><td>Not Renewd</td><td>pred_agg_rf         </td><td>0.54963</td></tr>\n",
       "\t<tr><td>gardasee.host</td><td>2019-10-29</td><td>5.22</td><td>Renewed   </td><td>pred_agg_rf_fb      </td><td>0.54963</td></tr>\n",
       "\t<tr><td>gardasee.host</td><td>2019-10-29</td><td>5.22</td><td>Not Renewd</td><td>pred_seg_rf_ALL_fb  </td><td>0.39836</td></tr>\n",
       "\t<tr><td>gardasee.host</td><td>2019-10-29</td><td>5.22</td><td>Renewed   </td><td>pred_agg_glm        </td><td>     NA</td></tr>\n",
       "\t<tr><td>gardasee.host</td><td>2019-10-29</td><td>5.22</td><td>Renewed   </td><td>pred_seg2_glm_ALL_fb</td><td>0.01300</td></tr>\n",
       "\t<tr><td>gardasee.host</td><td>2019-10-29</td><td>5.22</td><td>Renewed   </td><td>pred_seg_rf_ALL     </td><td>0.39836</td></tr>\n",
       "</tbody>\n",
       "</table>\n"
      ],
      "text/latex": [
       "A tibble: 36 × 6\n",
       "\\begin{tabular}{llllll}\n",
       " domain & expiry\\_date & gibb\\_score & renewal\\_status & model & predicted\\\\\n",
       " <chr> & <chr> & <dbl> & <chr> & <chr> & <dbl>\\\\\n",
       "\\hline\n",
       "\t gardasee.host & 2019-10-29 & 5.22 & Renewed    & pred\\_seg\\_glm\\_ALL\\_fb  & 0.39600\\\\\n",
       "\t gardasee.host & 2019-10-29 & 5.22 & Not Renewd & pred\\_agg\\_glm         &      NA\\\\\n",
       "\t gardasee.host & 2019-10-29 & 5.22 & Not Renewd & pred\\_seg2\\_rf\\_ALL     &      NA\\\\\n",
       "\t gardasee.host & 2019-10-29 & 5.22 & Renewed    & pred\\_agg\\_glm\\_fb      & 0.01300\\\\\n",
       "\t gardasee.host & 2019-10-29 & 5.22 & Not Renewd & pred\\_agg\\_rf\\_ALL\\_fb   & 0.28343\\\\\n",
       "\t gardasee.host & 2019-10-29 & 5.22 & Renewed    & pred\\_seg2\\_rf\\_ALL\\_fb  & 0.01300\\\\\n",
       "\t gardasee.host & 2019-10-29 & 5.22 & Not Renewd & pred\\_meta\\_l10        &      NA\\\\\n",
       "\t gardasee.host & 2019-10-29 & 5.22 & Not Renewd & pred\\_agg\\_glm\\_ALL     & 0.16700\\\\\n",
       "\t gardasee.host & 2019-10-29 & 5.22 & Not Renewd & pred\\_seg\\_glm\\_ALL     & 0.39600\\\\\n",
       "\t gardasee.host & 2019-10-29 & 5.22 & Renewed    & pred\\_agg\\_glm\\_ALL     & 0.16700\\\\\n",
       "\t gardasee.host & 2019-10-29 & 5.22 & Renewed    & pred\\_seg\\_glm\\_ALL     & 0.39600\\\\\n",
       "\t gardasee.host & 2019-10-29 & 5.22 & Not Renewd & pred\\_agg\\_glm\\_fb      & 0.01300\\\\\n",
       "\t gardasee.host & 2019-10-29 & 5.22 & Not Renewd & pred\\_agg\\_rf\\_ALL      & 0.28343\\\\\n",
       "\t gardasee.host & 2019-10-29 & 5.22 & Not Renewd & pred\\_seg\\_rf\\_ALL      & 0.39836\\\\\n",
       "\t gardasee.host & 2019-10-29 & 5.22 & Renewed    & pred\\_agg\\_rf\\_ALL      & 0.28343\\\\\n",
       "\t gardasee.host & 2019-10-29 & 5.22 & Renewed    & pred\\_seg2\\_glm\\_ALL    &      NA\\\\\n",
       "\t gardasee.host & 2019-10-29 & 5.22 & Renewed    & pred\\_seg2\\_rf\\_ALL     &      NA\\\\\n",
       "\t gardasee.host & 2019-10-29 & 5.22 & Not Renewd & pred\\_seg2\\_rf\\_ALL\\_fb  & 0.01300\\\\\n",
       "\t gardasee.host & 2019-10-29 & 5.22 & Renewed    & pred\\_seg\\_rf\\_ALL\\_fb   & 0.39836\\\\\n",
       "\t gardasee.host & 2019-10-29 & 5.22 & Not Renewd & pred\\_seg\\_glm\\_ALL\\_fb  & 0.39600\\\\\n",
       "\t gardasee.host & 2019-10-29 & 5.22 & Renewed    & pred\\_agg\\_rf          & 0.54963\\\\\n",
       "\t gardasee.host & 2019-10-29 & 5.22 & Renewed    & pred\\_agg\\_glm\\_ALL\\_fb  & 0.16700\\\\\n",
       "\t gardasee.host & 2019-10-29 & 5.22 & Not Renewd & pred\\_agg\\_glm\\_ALL\\_fb  & 0.16700\\\\\n",
       "\t gardasee.host & 2019-10-29 & 5.22 & Not Renewd & pred\\_agg\\_rf\\_fb       & 0.54963\\\\\n",
       "\t gardasee.host & 2019-10-29 & 5.22 & Not Renewd & pred\\_seg2\\_glm\\_ALL\\_fb & 0.01300\\\\\n",
       "\t gardasee.host & 2019-10-29 & 5.22 & Not Renewd & pred\\_seg2\\_glm\\_ALL    &      NA\\\\\n",
       "\t gardasee.host & 2019-10-29 & 5.22 & Renewed    & pred\\_meta\\_l10        &      NA\\\\\n",
       "\t gardasee.host & 2019-10-29 & 5.22 & Renewed    & pred\\_meta\\_auc        &      NA\\\\\n",
       "\t gardasee.host & 2019-10-29 & 5.22 & Not Renewd & pred\\_meta\\_auc        &      NA\\\\\n",
       "\t gardasee.host & 2019-10-29 & 5.22 & Renewed    & pred\\_agg\\_rf\\_ALL\\_fb   & 0.28343\\\\\n",
       "\t gardasee.host & 2019-10-29 & 5.22 & Not Renewd & pred\\_agg\\_rf          & 0.54963\\\\\n",
       "\t gardasee.host & 2019-10-29 & 5.22 & Renewed    & pred\\_agg\\_rf\\_fb       & 0.54963\\\\\n",
       "\t gardasee.host & 2019-10-29 & 5.22 & Not Renewd & pred\\_seg\\_rf\\_ALL\\_fb   & 0.39836\\\\\n",
       "\t gardasee.host & 2019-10-29 & 5.22 & Renewed    & pred\\_agg\\_glm         &      NA\\\\\n",
       "\t gardasee.host & 2019-10-29 & 5.22 & Renewed    & pred\\_seg2\\_glm\\_ALL\\_fb & 0.01300\\\\\n",
       "\t gardasee.host & 2019-10-29 & 5.22 & Renewed    & pred\\_seg\\_rf\\_ALL      & 0.39836\\\\\n",
       "\\end{tabular}\n"
      ],
      "text/markdown": [
       "\n",
       "A tibble: 36 × 6\n",
       "\n",
       "| domain &lt;chr&gt; | expiry_date &lt;chr&gt; | gibb_score &lt;dbl&gt; | renewal_status &lt;chr&gt; | model &lt;chr&gt; | predicted &lt;dbl&gt; |\n",
       "|---|---|---|---|---|---|\n",
       "| gardasee.host | 2019-10-29 | 5.22 | Renewed    | pred_seg_glm_ALL_fb  | 0.39600 |\n",
       "| gardasee.host | 2019-10-29 | 5.22 | Not Renewd | pred_agg_glm         |      NA |\n",
       "| gardasee.host | 2019-10-29 | 5.22 | Not Renewd | pred_seg2_rf_ALL     |      NA |\n",
       "| gardasee.host | 2019-10-29 | 5.22 | Renewed    | pred_agg_glm_fb      | 0.01300 |\n",
       "| gardasee.host | 2019-10-29 | 5.22 | Not Renewd | pred_agg_rf_ALL_fb   | 0.28343 |\n",
       "| gardasee.host | 2019-10-29 | 5.22 | Renewed    | pred_seg2_rf_ALL_fb  | 0.01300 |\n",
       "| gardasee.host | 2019-10-29 | 5.22 | Not Renewd | pred_meta_l10        |      NA |\n",
       "| gardasee.host | 2019-10-29 | 5.22 | Not Renewd | pred_agg_glm_ALL     | 0.16700 |\n",
       "| gardasee.host | 2019-10-29 | 5.22 | Not Renewd | pred_seg_glm_ALL     | 0.39600 |\n",
       "| gardasee.host | 2019-10-29 | 5.22 | Renewed    | pred_agg_glm_ALL     | 0.16700 |\n",
       "| gardasee.host | 2019-10-29 | 5.22 | Renewed    | pred_seg_glm_ALL     | 0.39600 |\n",
       "| gardasee.host | 2019-10-29 | 5.22 | Not Renewd | pred_agg_glm_fb      | 0.01300 |\n",
       "| gardasee.host | 2019-10-29 | 5.22 | Not Renewd | pred_agg_rf_ALL      | 0.28343 |\n",
       "| gardasee.host | 2019-10-29 | 5.22 | Not Renewd | pred_seg_rf_ALL      | 0.39836 |\n",
       "| gardasee.host | 2019-10-29 | 5.22 | Renewed    | pred_agg_rf_ALL      | 0.28343 |\n",
       "| gardasee.host | 2019-10-29 | 5.22 | Renewed    | pred_seg2_glm_ALL    |      NA |\n",
       "| gardasee.host | 2019-10-29 | 5.22 | Renewed    | pred_seg2_rf_ALL     |      NA |\n",
       "| gardasee.host | 2019-10-29 | 5.22 | Not Renewd | pred_seg2_rf_ALL_fb  | 0.01300 |\n",
       "| gardasee.host | 2019-10-29 | 5.22 | Renewed    | pred_seg_rf_ALL_fb   | 0.39836 |\n",
       "| gardasee.host | 2019-10-29 | 5.22 | Not Renewd | pred_seg_glm_ALL_fb  | 0.39600 |\n",
       "| gardasee.host | 2019-10-29 | 5.22 | Renewed    | pred_agg_rf          | 0.54963 |\n",
       "| gardasee.host | 2019-10-29 | 5.22 | Renewed    | pred_agg_glm_ALL_fb  | 0.16700 |\n",
       "| gardasee.host | 2019-10-29 | 5.22 | Not Renewd | pred_agg_glm_ALL_fb  | 0.16700 |\n",
       "| gardasee.host | 2019-10-29 | 5.22 | Not Renewd | pred_agg_rf_fb       | 0.54963 |\n",
       "| gardasee.host | 2019-10-29 | 5.22 | Not Renewd | pred_seg2_glm_ALL_fb | 0.01300 |\n",
       "| gardasee.host | 2019-10-29 | 5.22 | Not Renewd | pred_seg2_glm_ALL    |      NA |\n",
       "| gardasee.host | 2019-10-29 | 5.22 | Renewed    | pred_meta_l10        |      NA |\n",
       "| gardasee.host | 2019-10-29 | 5.22 | Renewed    | pred_meta_auc        |      NA |\n",
       "| gardasee.host | 2019-10-29 | 5.22 | Not Renewd | pred_meta_auc        |      NA |\n",
       "| gardasee.host | 2019-10-29 | 5.22 | Renewed    | pred_agg_rf_ALL_fb   | 0.28343 |\n",
       "| gardasee.host | 2019-10-29 | 5.22 | Not Renewd | pred_agg_rf          | 0.54963 |\n",
       "| gardasee.host | 2019-10-29 | 5.22 | Renewed    | pred_agg_rf_fb       | 0.54963 |\n",
       "| gardasee.host | 2019-10-29 | 5.22 | Not Renewd | pred_seg_rf_ALL_fb   | 0.39836 |\n",
       "| gardasee.host | 2019-10-29 | 5.22 | Renewed    | pred_agg_glm         |      NA |\n",
       "| gardasee.host | 2019-10-29 | 5.22 | Renewed    | pred_seg2_glm_ALL_fb | 0.01300 |\n",
       "| gardasee.host | 2019-10-29 | 5.22 | Renewed    | pred_seg_rf_ALL      | 0.39836 |\n",
       "\n"
      ],
      "text/plain": [
       "   domain        expiry_date gibb_score renewal_status model               \n",
       "1  gardasee.host 2019-10-29  5.22       Renewed        pred_seg_glm_ALL_fb \n",
       "2  gardasee.host 2019-10-29  5.22       Not Renewd     pred_agg_glm        \n",
       "3  gardasee.host 2019-10-29  5.22       Not Renewd     pred_seg2_rf_ALL    \n",
       "4  gardasee.host 2019-10-29  5.22       Renewed        pred_agg_glm_fb     \n",
       "5  gardasee.host 2019-10-29  5.22       Not Renewd     pred_agg_rf_ALL_fb  \n",
       "6  gardasee.host 2019-10-29  5.22       Renewed        pred_seg2_rf_ALL_fb \n",
       "7  gardasee.host 2019-10-29  5.22       Not Renewd     pred_meta_l10       \n",
       "8  gardasee.host 2019-10-29  5.22       Not Renewd     pred_agg_glm_ALL    \n",
       "9  gardasee.host 2019-10-29  5.22       Not Renewd     pred_seg_glm_ALL    \n",
       "10 gardasee.host 2019-10-29  5.22       Renewed        pred_agg_glm_ALL    \n",
       "11 gardasee.host 2019-10-29  5.22       Renewed        pred_seg_glm_ALL    \n",
       "12 gardasee.host 2019-10-29  5.22       Not Renewd     pred_agg_glm_fb     \n",
       "13 gardasee.host 2019-10-29  5.22       Not Renewd     pred_agg_rf_ALL     \n",
       "14 gardasee.host 2019-10-29  5.22       Not Renewd     pred_seg_rf_ALL     \n",
       "15 gardasee.host 2019-10-29  5.22       Renewed        pred_agg_rf_ALL     \n",
       "16 gardasee.host 2019-10-29  5.22       Renewed        pred_seg2_glm_ALL   \n",
       "17 gardasee.host 2019-10-29  5.22       Renewed        pred_seg2_rf_ALL    \n",
       "18 gardasee.host 2019-10-29  5.22       Not Renewd     pred_seg2_rf_ALL_fb \n",
       "19 gardasee.host 2019-10-29  5.22       Renewed        pred_seg_rf_ALL_fb  \n",
       "20 gardasee.host 2019-10-29  5.22       Not Renewd     pred_seg_glm_ALL_fb \n",
       "21 gardasee.host 2019-10-29  5.22       Renewed        pred_agg_rf         \n",
       "22 gardasee.host 2019-10-29  5.22       Renewed        pred_agg_glm_ALL_fb \n",
       "23 gardasee.host 2019-10-29  5.22       Not Renewd     pred_agg_glm_ALL_fb \n",
       "24 gardasee.host 2019-10-29  5.22       Not Renewd     pred_agg_rf_fb      \n",
       "25 gardasee.host 2019-10-29  5.22       Not Renewd     pred_seg2_glm_ALL_fb\n",
       "26 gardasee.host 2019-10-29  5.22       Not Renewd     pred_seg2_glm_ALL   \n",
       "27 gardasee.host 2019-10-29  5.22       Renewed        pred_meta_l10       \n",
       "28 gardasee.host 2019-10-29  5.22       Renewed        pred_meta_auc       \n",
       "29 gardasee.host 2019-10-29  5.22       Not Renewd     pred_meta_auc       \n",
       "30 gardasee.host 2019-10-29  5.22       Renewed        pred_agg_rf_ALL_fb  \n",
       "31 gardasee.host 2019-10-29  5.22       Not Renewd     pred_agg_rf         \n",
       "32 gardasee.host 2019-10-29  5.22       Renewed        pred_agg_rf_fb      \n",
       "33 gardasee.host 2019-10-29  5.22       Not Renewd     pred_seg_rf_ALL_fb  \n",
       "34 gardasee.host 2019-10-29  5.22       Renewed        pred_agg_glm        \n",
       "35 gardasee.host 2019-10-29  5.22       Renewed        pred_seg2_glm_ALL_fb\n",
       "36 gardasee.host 2019-10-29  5.22       Renewed        pred_seg_rf_ALL     \n",
       "   predicted\n",
       "1  0.39600  \n",
       "2       NA  \n",
       "3       NA  \n",
       "4  0.01300  \n",
       "5  0.28343  \n",
       "6  0.01300  \n",
       "7       NA  \n",
       "8  0.16700  \n",
       "9  0.39600  \n",
       "10 0.16700  \n",
       "11 0.39600  \n",
       "12 0.01300  \n",
       "13 0.28343  \n",
       "14 0.39836  \n",
       "15 0.28343  \n",
       "16      NA  \n",
       "17      NA  \n",
       "18 0.01300  \n",
       "19 0.39836  \n",
       "20 0.39600  \n",
       "21 0.54963  \n",
       "22 0.16700  \n",
       "23 0.16700  \n",
       "24 0.54963  \n",
       "25 0.01300  \n",
       "26      NA  \n",
       "27      NA  \n",
       "28      NA  \n",
       "29      NA  \n",
       "30 0.28343  \n",
       "31 0.54963  \n",
       "32 0.54963  \n",
       "33 0.39836  \n",
       "34      NA  \n",
       "35 0.01300  \n",
       "36 0.39836  "
      ]
     },
     "metadata": {},
     "output_type": "display_data"
    }
   ],
   "source": [
    "preds_df %>% filter(domain_id==80893539) %>% select(domain,expiry_date,gibb_score,renewal_status, model, predicted)"
   ]
  },
  {
   "cell_type": "code",
   "execution_count": 32,
   "metadata": {},
   "outputs": [
    {
     "name": "stderr",
     "output_type": "stream",
     "text": [
      "`summarise()` ungrouping output (override with `.groups` argument)\n",
      "\n"
     ]
    }
   ],
   "source": [
    "# how many domain_ids does this affect?\n",
    "temp_df <- preds_df %>%                   \n",
    "  filter(!is.na(renewal_status)) %>%   \n",
    "  group_by(domain_id) %>%          \n",
    "  summarise(num_status = n_distinct(renewal_status))  %>% \n",
    "  filter(num_status>1)\n",
    "\n"
   ]
  },
  {
   "cell_type": "code",
   "execution_count": 33,
   "metadata": {},
   "outputs": [
    {
     "data": {
      "text/html": [
       "<style>\n",
       ".list-inline {list-style: none; margin:0; padding: 0}\n",
       ".list-inline>li {display: inline-block}\n",
       ".list-inline>li:not(:last-child)::after {content: \"\\00b7\"; padding: 0 .5ex}\n",
       "</style>\n",
       "<ol class=list-inline><li>7138</li><li>2</li></ol>\n"
      ],
      "text/latex": [
       "\\begin{enumerate*}\n",
       "\\item 7138\n",
       "\\item 2\n",
       "\\end{enumerate*}\n"
      ],
      "text/markdown": [
       "1. 7138\n",
       "2. 2\n",
       "\n",
       "\n"
      ],
      "text/plain": [
       "[1] 7138    2"
      ]
     },
     "metadata": {},
     "output_type": "display_data"
    },
    {
     "data": {
      "text/html": [
       "<table>\n",
       "<caption>A tibble: 6 × 2</caption>\n",
       "<thead>\n",
       "\t<tr><th scope=col>domain_id</th><th scope=col>num_status</th></tr>\n",
       "\t<tr><th scope=col>&lt;int&gt;</th><th scope=col>&lt;int&gt;</th></tr>\n",
       "</thead>\n",
       "<tbody>\n",
       "\t<tr><td>42206456</td><td>2</td></tr>\n",
       "\t<tr><td>42214106</td><td>2</td></tr>\n",
       "\t<tr><td>42729648</td><td>2</td></tr>\n",
       "\t<tr><td>42741248</td><td>2</td></tr>\n",
       "\t<tr><td>42822012</td><td>2</td></tr>\n",
       "\t<tr><td>42834067</td><td>2</td></tr>\n",
       "</tbody>\n",
       "</table>\n"
      ],
      "text/latex": [
       "A tibble: 6 × 2\n",
       "\\begin{tabular}{ll}\n",
       " domain\\_id & num\\_status\\\\\n",
       " <int> & <int>\\\\\n",
       "\\hline\n",
       "\t 42206456 & 2\\\\\n",
       "\t 42214106 & 2\\\\\n",
       "\t 42729648 & 2\\\\\n",
       "\t 42741248 & 2\\\\\n",
       "\t 42822012 & 2\\\\\n",
       "\t 42834067 & 2\\\\\n",
       "\\end{tabular}\n"
      ],
      "text/markdown": [
       "\n",
       "A tibble: 6 × 2\n",
       "\n",
       "| domain_id &lt;int&gt; | num_status &lt;int&gt; |\n",
       "|---|---|\n",
       "| 42206456 | 2 |\n",
       "| 42214106 | 2 |\n",
       "| 42729648 | 2 |\n",
       "| 42741248 | 2 |\n",
       "| 42822012 | 2 |\n",
       "| 42834067 | 2 |\n",
       "\n"
      ],
      "text/plain": [
       "  domain_id num_status\n",
       "1 42206456  2         \n",
       "2 42214106  2         \n",
       "3 42729648  2         \n",
       "4 42741248  2         \n",
       "5 42822012  2         \n",
       "6 42834067  2         "
      ]
     },
     "metadata": {},
     "output_type": "display_data"
    }
   ],
   "source": [
    "dim(temp_df)\n",
    "head(temp_df)"
   ]
  },
  {
   "cell_type": "markdown",
   "metadata": {},
   "source": [
    "# Classic Performance Metrics"
   ]
  },
  {
   "cell_type": "code",
   "execution_count": 36,
   "metadata": {},
   "outputs": [
    {
     "data": {
      "text/html": [
       "<table>\n",
       "<caption>A tibble: 6 × 40</caption>\n",
       "<thead>\n",
       "\t<tr><th scope=col>tld_registrar_index</th><th scope=col>reseller</th><th scope=col>reseller_country</th><th scope=col>domain_id</th><th scope=col>renewed_count</th><th scope=col>renewal_type</th><th scope=col>expiry_date</th><th scope=col>creation_date</th><th scope=col>creation_time</th><th scope=col>tld</th><th scope=col>domain</th><th scope=col>registrar</th><th scope=col>reg_period</th><th scope=col>reg_revenue</th><th scope=col>reg_arpt</th><th scope=col>renewal_id</th><th scope=col>renew_type</th><th scope=col>autorenew_type</th><th scope=col>renewal_status</th><th scope=col>renew_period</th><th scope=col>renew_revenue</th><th scope=col>renew_date</th><th scope=col>renew_arpt</th><th scope=col>gibb_score</th><th scope=col>pattern</th><th scope=col>pattern_domain_count</th><th scope=col>day_domains</th><th scope=col>sld_length</th><th scope=col>sld_type</th><th scope=col>sld_type2</th><th scope=col>predicted_renewal_rate</th><th scope=col>log_reg_arpt</th><th scope=col>region</th><th scope=col>reseller_geo</th><th scope=col>reg_arpt_org</th><th scope=col>reg_arpt_slab</th><th scope=col>l10_win_04_pred_model</th><th scope=col>auc_win_04_pred_model</th><th scope=col>model</th><th scope=col>predicted</th></tr>\n",
       "\t<tr><th scope=col>&lt;chr&gt;</th><th scope=col>&lt;chr&gt;</th><th scope=col>&lt;chr&gt;</th><th scope=col>&lt;int&gt;</th><th scope=col>&lt;int&gt;</th><th scope=col>&lt;chr&gt;</th><th scope=col>&lt;chr&gt;</th><th scope=col>&lt;chr&gt;</th><th scope=col>&lt;chr&gt;</th><th scope=col>&lt;chr&gt;</th><th scope=col>&lt;chr&gt;</th><th scope=col>&lt;chr&gt;</th><th scope=col>&lt;int&gt;</th><th scope=col>&lt;dbl&gt;</th><th scope=col>&lt;dbl&gt;</th><th scope=col>&lt;int&gt;</th><th scope=col>&lt;chr&gt;</th><th scope=col>&lt;chr&gt;</th><th scope=col>&lt;chr&gt;</th><th scope=col>&lt;int&gt;</th><th scope=col>&lt;dbl&gt;</th><th scope=col>&lt;chr&gt;</th><th scope=col>&lt;dbl&gt;</th><th scope=col>&lt;dbl&gt;</th><th scope=col>&lt;chr&gt;</th><th scope=col>&lt;int&gt;</th><th scope=col>&lt;int&gt;</th><th scope=col>&lt;int&gt;</th><th scope=col>&lt;chr&gt;</th><th scope=col>&lt;chr&gt;</th><th scope=col>&lt;dbl&gt;</th><th scope=col>&lt;dbl&gt;</th><th scope=col>&lt;chr&gt;</th><th scope=col>&lt;chr&gt;</th><th scope=col>&lt;dbl&gt;</th><th scope=col>&lt;chr&gt;</th><th scope=col>&lt;chr&gt;</th><th scope=col>&lt;chr&gt;</th><th scope=col>&lt;chr&gt;</th><th scope=col>&lt;dbl&gt;</th></tr>\n",
       "</thead>\n",
       "<tbody>\n",
       "\t<tr><td>sitegmo</td><td>GMO</td><td>Japan</td><td>80776294</td><td>1</td><td>FirstTime</td><td>2019-10-28</td><td>2018-10-28</td><td>2018-10-28 10:41:52</td><td>site</td><td>wvxmdn.site</td><td>GMO</td><td>1</td><td>0.1</td><td>0.1</td><td>244667715</td><td>auto-renewal</td><td>unrealized</td><td>Not Renewd</td><td>1</td><td>20</td><td>2019-10-28</td><td>20</td><td>0.04</td><td>wxmnd </td><td>2</td><td>931</td><td>6</td><td>l</td><td>6l</td><td>0</td><td>-2.30259</td><td>Non China</td><td>Japan</td><td>0.1</td><td>(0,0.3]</td><td>seg2_glm</td><td>agg_rf_ALL</td><td>pred_seg_glm_ALL_fb</td><td>0.03300</td></tr>\n",
       "\t<tr><td>sitegmo</td><td>GMO</td><td>Japan</td><td>80777429</td><td>1</td><td>FirstTime</td><td>2019-10-28</td><td>2018-10-28</td><td>2018-10-28 10:55:12</td><td>site</td><td>nbwvgs.site</td><td>GMO</td><td>1</td><td>0.1</td><td>0.1</td><td>244668875</td><td>auto-renewal</td><td>unrealized</td><td>Not Renewd</td><td>1</td><td>20</td><td>2019-10-28</td><td>20</td><td>0.08</td><td>nbws  </td><td>2</td><td>931</td><td>6</td><td>l</td><td>6l</td><td>0</td><td>-2.30259</td><td>Non China</td><td>Japan</td><td>0.1</td><td>(0,0.3]</td><td>seg2_glm</td><td>agg_rf_ALL</td><td>pred_seg_glm_ALL_fb</td><td>0.03300</td></tr>\n",
       "\t<tr><td>sitegmo</td><td>GMO</td><td>Japan</td><td>80765189</td><td>1</td><td>FirstTime</td><td>2019-10-28</td><td>2018-10-28</td><td>2018-10-28 07:53:01</td><td>site</td><td>vouata.site</td><td>GMO</td><td>1</td><td>0.1</td><td>0.1</td><td>244656510</td><td>auto-renewal</td><td>unrealized</td><td>Not Renewd</td><td>1</td><td>20</td><td>2019-10-28</td><td>20</td><td>6.33</td><td>vouata</td><td>1</td><td>931</td><td>6</td><td>l</td><td>6l</td><td>0</td><td>-2.30259</td><td>Non China</td><td>Japan</td><td>0.1</td><td>(0,0.3]</td><td>seg2_glm</td><td>agg_rf_ALL</td><td>pred_seg_rf_ALL_fb </td><td>0.12956</td></tr>\n",
       "\t<tr><td>sitegmo</td><td>GMO</td><td>Japan</td><td>80771924</td><td>1</td><td>FirstTime</td><td>2019-10-28</td><td>2018-10-28</td><td>2018-10-28 09:46:30</td><td>site</td><td>hzeksw.site</td><td>GMO</td><td>1</td><td>0.1</td><td>0.1</td><td>244663525</td><td>auto-renewal</td><td>unrealized</td><td>Not Renewd</td><td>1</td><td>20</td><td>2019-10-28</td><td>20</td><td>0.50</td><td>zeks  </td><td>2</td><td>931</td><td>6</td><td>l</td><td>6l</td><td>0</td><td>-2.30259</td><td>Non China</td><td>Japan</td><td>0.1</td><td>(0,0.3]</td><td>seg2_glm</td><td>agg_rf_ALL</td><td>pred_seg_rf_ALL_fb </td><td>0.00425</td></tr>\n",
       "\t<tr><td>sitegmo</td><td>GMO</td><td>Japan</td><td>80766104</td><td>1</td><td>FirstTime</td><td>2019-10-28</td><td>2018-10-28</td><td>2018-10-28 08:11:02</td><td>site</td><td>qifcqx.site</td><td>GMO</td><td>1</td><td>0.1</td><td>0.1</td><td>244657545</td><td>auto-renewal</td><td>unrealized</td><td>Not Renewd</td><td>1</td><td>20</td><td>2019-10-28</td><td>20</td><td>0.24</td><td>qifcqx</td><td>1</td><td>931</td><td>6</td><td>l</td><td>6l</td><td>0</td><td>-2.30259</td><td>Non China</td><td>Japan</td><td>0.1</td><td>(0,0.3]</td><td>seg2_glm</td><td>agg_rf_ALL</td><td>pred_seg_glm_ALL_fb</td><td>0.04800</td></tr>\n",
       "\t<tr><td>sitegmo</td><td>GMO</td><td>Japan</td><td>80774849</td><td>1</td><td>FirstTime</td><td>2019-10-28</td><td>2018-10-28</td><td>2018-10-28 10:15:18</td><td>site</td><td>deinwc.site</td><td>GMO</td><td>1</td><td>0.1</td><td>0.1</td><td>244666200</td><td>auto-renewal</td><td>unrealized</td><td>Not Renewd</td><td>1</td><td>20</td><td>2019-10-28</td><td>20</td><td>1.10</td><td>dienc </td><td>2</td><td>931</td><td>6</td><td>l</td><td>6l</td><td>0</td><td>-2.30259</td><td>Non China</td><td>Japan</td><td>0.1</td><td>(0,0.3]</td><td>seg2_glm</td><td>agg_rf_ALL</td><td>pred_seg_glm_ALL_fb</td><td>0.03500</td></tr>\n",
       "</tbody>\n",
       "</table>\n"
      ],
      "text/latex": [
       "A tibble: 6 × 40\n",
       "\\begin{tabular}{llllllllllllllllllllllllllllllllllllllll}\n",
       " tld\\_registrar\\_index & reseller & reseller\\_country & domain\\_id & renewed\\_count & renewal\\_type & expiry\\_date & creation\\_date & creation\\_time & tld & domain & registrar & reg\\_period & reg\\_revenue & reg\\_arpt & renewal\\_id & renew\\_type & autorenew\\_type & renewal\\_status & renew\\_period & renew\\_revenue & renew\\_date & renew\\_arpt & gibb\\_score & pattern & pattern\\_domain\\_count & day\\_domains & sld\\_length & sld\\_type & sld\\_type2 & predicted\\_renewal\\_rate & log\\_reg\\_arpt & region & reseller\\_geo & reg\\_arpt\\_org & reg\\_arpt\\_slab & l10\\_win\\_04\\_pred\\_model & auc\\_win\\_04\\_pred\\_model & model & predicted\\\\\n",
       " <chr> & <chr> & <chr> & <int> & <int> & <chr> & <chr> & <chr> & <chr> & <chr> & <chr> & <chr> & <int> & <dbl> & <dbl> & <int> & <chr> & <chr> & <chr> & <int> & <dbl> & <chr> & <dbl> & <dbl> & <chr> & <int> & <int> & <int> & <chr> & <chr> & <dbl> & <dbl> & <chr> & <chr> & <dbl> & <chr> & <chr> & <chr> & <chr> & <dbl>\\\\\n",
       "\\hline\n",
       "\t sitegmo & GMO & Japan & 80776294 & 1 & FirstTime & 2019-10-28 & 2018-10-28 & 2018-10-28 10:41:52 & site & wvxmdn.site & GMO & 1 & 0.1 & 0.1 & 244667715 & auto-renewal & unrealized & Not Renewd & 1 & 20 & 2019-10-28 & 20 & 0.04 & wxmnd  & 2 & 931 & 6 & l & 6l & 0 & -2.30259 & Non China & Japan & 0.1 & (0,0.3{]} & seg2\\_glm & agg\\_rf\\_ALL & pred\\_seg\\_glm\\_ALL\\_fb & 0.03300\\\\\n",
       "\t sitegmo & GMO & Japan & 80777429 & 1 & FirstTime & 2019-10-28 & 2018-10-28 & 2018-10-28 10:55:12 & site & nbwvgs.site & GMO & 1 & 0.1 & 0.1 & 244668875 & auto-renewal & unrealized & Not Renewd & 1 & 20 & 2019-10-28 & 20 & 0.08 & nbws   & 2 & 931 & 6 & l & 6l & 0 & -2.30259 & Non China & Japan & 0.1 & (0,0.3{]} & seg2\\_glm & agg\\_rf\\_ALL & pred\\_seg\\_glm\\_ALL\\_fb & 0.03300\\\\\n",
       "\t sitegmo & GMO & Japan & 80765189 & 1 & FirstTime & 2019-10-28 & 2018-10-28 & 2018-10-28 07:53:01 & site & vouata.site & GMO & 1 & 0.1 & 0.1 & 244656510 & auto-renewal & unrealized & Not Renewd & 1 & 20 & 2019-10-28 & 20 & 6.33 & vouata & 1 & 931 & 6 & l & 6l & 0 & -2.30259 & Non China & Japan & 0.1 & (0,0.3{]} & seg2\\_glm & agg\\_rf\\_ALL & pred\\_seg\\_rf\\_ALL\\_fb  & 0.12956\\\\\n",
       "\t sitegmo & GMO & Japan & 80771924 & 1 & FirstTime & 2019-10-28 & 2018-10-28 & 2018-10-28 09:46:30 & site & hzeksw.site & GMO & 1 & 0.1 & 0.1 & 244663525 & auto-renewal & unrealized & Not Renewd & 1 & 20 & 2019-10-28 & 20 & 0.50 & zeks   & 2 & 931 & 6 & l & 6l & 0 & -2.30259 & Non China & Japan & 0.1 & (0,0.3{]} & seg2\\_glm & agg\\_rf\\_ALL & pred\\_seg\\_rf\\_ALL\\_fb  & 0.00425\\\\\n",
       "\t sitegmo & GMO & Japan & 80766104 & 1 & FirstTime & 2019-10-28 & 2018-10-28 & 2018-10-28 08:11:02 & site & qifcqx.site & GMO & 1 & 0.1 & 0.1 & 244657545 & auto-renewal & unrealized & Not Renewd & 1 & 20 & 2019-10-28 & 20 & 0.24 & qifcqx & 1 & 931 & 6 & l & 6l & 0 & -2.30259 & Non China & Japan & 0.1 & (0,0.3{]} & seg2\\_glm & agg\\_rf\\_ALL & pred\\_seg\\_glm\\_ALL\\_fb & 0.04800\\\\\n",
       "\t sitegmo & GMO & Japan & 80774849 & 1 & FirstTime & 2019-10-28 & 2018-10-28 & 2018-10-28 10:15:18 & site & deinwc.site & GMO & 1 & 0.1 & 0.1 & 244666200 & auto-renewal & unrealized & Not Renewd & 1 & 20 & 2019-10-28 & 20 & 1.10 & dienc  & 2 & 931 & 6 & l & 6l & 0 & -2.30259 & Non China & Japan & 0.1 & (0,0.3{]} & seg2\\_glm & agg\\_rf\\_ALL & pred\\_seg\\_glm\\_ALL\\_fb & 0.03500\\\\\n",
       "\\end{tabular}\n"
      ],
      "text/markdown": [
       "\n",
       "A tibble: 6 × 40\n",
       "\n",
       "| tld_registrar_index &lt;chr&gt; | reseller &lt;chr&gt; | reseller_country &lt;chr&gt; | domain_id &lt;int&gt; | renewed_count &lt;int&gt; | renewal_type &lt;chr&gt; | expiry_date &lt;chr&gt; | creation_date &lt;chr&gt; | creation_time &lt;chr&gt; | tld &lt;chr&gt; | domain &lt;chr&gt; | registrar &lt;chr&gt; | reg_period &lt;int&gt; | reg_revenue &lt;dbl&gt; | reg_arpt &lt;dbl&gt; | renewal_id &lt;int&gt; | renew_type &lt;chr&gt; | autorenew_type &lt;chr&gt; | renewal_status &lt;chr&gt; | renew_period &lt;int&gt; | renew_revenue &lt;dbl&gt; | renew_date &lt;chr&gt; | renew_arpt &lt;dbl&gt; | gibb_score &lt;dbl&gt; | pattern &lt;chr&gt; | pattern_domain_count &lt;int&gt; | day_domains &lt;int&gt; | sld_length &lt;int&gt; | sld_type &lt;chr&gt; | sld_type2 &lt;chr&gt; | predicted_renewal_rate &lt;dbl&gt; | log_reg_arpt &lt;dbl&gt; | region &lt;chr&gt; | reseller_geo &lt;chr&gt; | reg_arpt_org &lt;dbl&gt; | reg_arpt_slab &lt;chr&gt; | l10_win_04_pred_model &lt;chr&gt; | auc_win_04_pred_model &lt;chr&gt; | model &lt;chr&gt; | predicted &lt;dbl&gt; |\n",
       "|---|---|---|---|---|---|---|---|---|---|---|---|---|---|---|---|---|---|---|---|---|---|---|---|---|---|---|---|---|---|---|---|---|---|---|---|---|---|---|---|\n",
       "| sitegmo | GMO | Japan | 80776294 | 1 | FirstTime | 2019-10-28 | 2018-10-28 | 2018-10-28 10:41:52 | site | wvxmdn.site | GMO | 1 | 0.1 | 0.1 | 244667715 | auto-renewal | unrealized | Not Renewd | 1 | 20 | 2019-10-28 | 20 | 0.04 | wxmnd  | 2 | 931 | 6 | l | 6l | 0 | -2.30259 | Non China | Japan | 0.1 | (0,0.3] | seg2_glm | agg_rf_ALL | pred_seg_glm_ALL_fb | 0.03300 |\n",
       "| sitegmo | GMO | Japan | 80777429 | 1 | FirstTime | 2019-10-28 | 2018-10-28 | 2018-10-28 10:55:12 | site | nbwvgs.site | GMO | 1 | 0.1 | 0.1 | 244668875 | auto-renewal | unrealized | Not Renewd | 1 | 20 | 2019-10-28 | 20 | 0.08 | nbws   | 2 | 931 | 6 | l | 6l | 0 | -2.30259 | Non China | Japan | 0.1 | (0,0.3] | seg2_glm | agg_rf_ALL | pred_seg_glm_ALL_fb | 0.03300 |\n",
       "| sitegmo | GMO | Japan | 80765189 | 1 | FirstTime | 2019-10-28 | 2018-10-28 | 2018-10-28 07:53:01 | site | vouata.site | GMO | 1 | 0.1 | 0.1 | 244656510 | auto-renewal | unrealized | Not Renewd | 1 | 20 | 2019-10-28 | 20 | 6.33 | vouata | 1 | 931 | 6 | l | 6l | 0 | -2.30259 | Non China | Japan | 0.1 | (0,0.3] | seg2_glm | agg_rf_ALL | pred_seg_rf_ALL_fb  | 0.12956 |\n",
       "| sitegmo | GMO | Japan | 80771924 | 1 | FirstTime | 2019-10-28 | 2018-10-28 | 2018-10-28 09:46:30 | site | hzeksw.site | GMO | 1 | 0.1 | 0.1 | 244663525 | auto-renewal | unrealized | Not Renewd | 1 | 20 | 2019-10-28 | 20 | 0.50 | zeks   | 2 | 931 | 6 | l | 6l | 0 | -2.30259 | Non China | Japan | 0.1 | (0,0.3] | seg2_glm | agg_rf_ALL | pred_seg_rf_ALL_fb  | 0.00425 |\n",
       "| sitegmo | GMO | Japan | 80766104 | 1 | FirstTime | 2019-10-28 | 2018-10-28 | 2018-10-28 08:11:02 | site | qifcqx.site | GMO | 1 | 0.1 | 0.1 | 244657545 | auto-renewal | unrealized | Not Renewd | 1 | 20 | 2019-10-28 | 20 | 0.24 | qifcqx | 1 | 931 | 6 | l | 6l | 0 | -2.30259 | Non China | Japan | 0.1 | (0,0.3] | seg2_glm | agg_rf_ALL | pred_seg_glm_ALL_fb | 0.04800 |\n",
       "| sitegmo | GMO | Japan | 80774849 | 1 | FirstTime | 2019-10-28 | 2018-10-28 | 2018-10-28 10:15:18 | site | deinwc.site | GMO | 1 | 0.1 | 0.1 | 244666200 | auto-renewal | unrealized | Not Renewd | 1 | 20 | 2019-10-28 | 20 | 1.10 | dienc  | 2 | 931 | 6 | l | 6l | 0 | -2.30259 | Non China | Japan | 0.1 | (0,0.3] | seg2_glm | agg_rf_ALL | pred_seg_glm_ALL_fb | 0.03500 |\n",
       "\n"
      ],
      "text/plain": [
       "  tld_registrar_index reseller reseller_country domain_id renewed_count\n",
       "1 sitegmo             GMO      Japan            80776294  1            \n",
       "2 sitegmo             GMO      Japan            80777429  1            \n",
       "3 sitegmo             GMO      Japan            80765189  1            \n",
       "4 sitegmo             GMO      Japan            80771924  1            \n",
       "5 sitegmo             GMO      Japan            80766104  1            \n",
       "6 sitegmo             GMO      Japan            80774849  1            \n",
       "  renewal_type expiry_date creation_date creation_time       tld  domain     \n",
       "1 FirstTime    2019-10-28  2018-10-28    2018-10-28 10:41:52 site wvxmdn.site\n",
       "2 FirstTime    2019-10-28  2018-10-28    2018-10-28 10:55:12 site nbwvgs.site\n",
       "3 FirstTime    2019-10-28  2018-10-28    2018-10-28 07:53:01 site vouata.site\n",
       "4 FirstTime    2019-10-28  2018-10-28    2018-10-28 09:46:30 site hzeksw.site\n",
       "5 FirstTime    2019-10-28  2018-10-28    2018-10-28 08:11:02 site qifcqx.site\n",
       "6 FirstTime    2019-10-28  2018-10-28    2018-10-28 10:15:18 site deinwc.site\n",
       "  registrar reg_period reg_revenue reg_arpt renewal_id renew_type  \n",
       "1 GMO       1          0.1         0.1      244667715  auto-renewal\n",
       "2 GMO       1          0.1         0.1      244668875  auto-renewal\n",
       "3 GMO       1          0.1         0.1      244656510  auto-renewal\n",
       "4 GMO       1          0.1         0.1      244663525  auto-renewal\n",
       "5 GMO       1          0.1         0.1      244657545  auto-renewal\n",
       "6 GMO       1          0.1         0.1      244666200  auto-renewal\n",
       "  autorenew_type renewal_status renew_period renew_revenue renew_date\n",
       "1 unrealized     Not Renewd     1            20            2019-10-28\n",
       "2 unrealized     Not Renewd     1            20            2019-10-28\n",
       "3 unrealized     Not Renewd     1            20            2019-10-28\n",
       "4 unrealized     Not Renewd     1            20            2019-10-28\n",
       "5 unrealized     Not Renewd     1            20            2019-10-28\n",
       "6 unrealized     Not Renewd     1            20            2019-10-28\n",
       "  renew_arpt gibb_score pattern pattern_domain_count day_domains sld_length\n",
       "1 20         0.04       wxmnd   2                    931         6         \n",
       "2 20         0.08       nbws    2                    931         6         \n",
       "3 20         6.33       vouata  1                    931         6         \n",
       "4 20         0.50       zeks    2                    931         6         \n",
       "5 20         0.24       qifcqx  1                    931         6         \n",
       "6 20         1.10       dienc   2                    931         6         \n",
       "  sld_type sld_type2 predicted_renewal_rate log_reg_arpt region    reseller_geo\n",
       "1 l        6l        0                      -2.30259     Non China Japan       \n",
       "2 l        6l        0                      -2.30259     Non China Japan       \n",
       "3 l        6l        0                      -2.30259     Non China Japan       \n",
       "4 l        6l        0                      -2.30259     Non China Japan       \n",
       "5 l        6l        0                      -2.30259     Non China Japan       \n",
       "6 l        6l        0                      -2.30259     Non China Japan       \n",
       "  reg_arpt_org reg_arpt_slab l10_win_04_pred_model auc_win_04_pred_model\n",
       "1 0.1          (0,0.3]       seg2_glm              agg_rf_ALL           \n",
       "2 0.1          (0,0.3]       seg2_glm              agg_rf_ALL           \n",
       "3 0.1          (0,0.3]       seg2_glm              agg_rf_ALL           \n",
       "4 0.1          (0,0.3]       seg2_glm              agg_rf_ALL           \n",
       "5 0.1          (0,0.3]       seg2_glm              agg_rf_ALL           \n",
       "6 0.1          (0,0.3]       seg2_glm              agg_rf_ALL           \n",
       "  model               predicted\n",
       "1 pred_seg_glm_ALL_fb 0.03300  \n",
       "2 pred_seg_glm_ALL_fb 0.03300  \n",
       "3 pred_seg_rf_ALL_fb  0.12956  \n",
       "4 pred_seg_rf_ALL_fb  0.00425  \n",
       "5 pred_seg_glm_ALL_fb 0.04800  \n",
       "6 pred_seg_glm_ALL_fb 0.03500  "
      ]
     },
     "metadata": {},
     "output_type": "display_data"
    }
   ],
   "source": [
    "head(preds_df)"
   ]
  },
  {
   "cell_type": "code",
   "execution_count": null,
   "metadata": {},
   "outputs": [],
   "source": [
    "preds_wide_df <- preds_df %>% \n",
    "  spread(model, predicted)"
   ]
  },
  {
   "cell_type": "code",
   "execution_count": 39,
   "metadata": {},
   "outputs": [
    {
     "data": {
      "text/html": [
       "<table>\n",
       "<caption>A tibble: 6 × 56</caption>\n",
       "<thead>\n",
       "\t<tr><th scope=col>tld_registrar_index</th><th scope=col>reseller</th><th scope=col>reseller_country</th><th scope=col>domain_id</th><th scope=col>renewed_count</th><th scope=col>renewal_type</th><th scope=col>expiry_date</th><th scope=col>creation_date</th><th scope=col>creation_time</th><th scope=col>tld</th><th scope=col>domain</th><th scope=col>registrar</th><th scope=col>reg_period</th><th scope=col>reg_revenue</th><th scope=col>reg_arpt</th><th scope=col>renewal_id</th><th scope=col>renew_type</th><th scope=col>autorenew_type</th><th scope=col>renewal_status</th><th scope=col>renew_period</th><th scope=col>renew_revenue</th><th scope=col>renew_date</th><th scope=col>renew_arpt</th><th scope=col>gibb_score</th><th scope=col>pattern</th><th scope=col>⋯</th><th scope=col>log_reg_arpt</th><th scope=col>region</th><th scope=col>reseller_geo</th><th scope=col>reg_arpt_org</th><th scope=col>reg_arpt_slab</th><th scope=col>l10_win_04_pred_model</th><th scope=col>auc_win_04_pred_model</th><th scope=col>pred_agg_glm</th><th scope=col>pred_agg_glm_ALL</th><th scope=col>pred_agg_glm_ALL_fb</th><th scope=col>pred_agg_glm_fb</th><th scope=col>pred_agg_rf</th><th scope=col>pred_agg_rf_ALL</th><th scope=col>pred_agg_rf_ALL_fb</th><th scope=col>pred_agg_rf_fb</th><th scope=col>pred_meta_auc</th><th scope=col>pred_meta_l10</th><th scope=col>pred_seg_glm_ALL</th><th scope=col>pred_seg_glm_ALL_fb</th><th scope=col>pred_seg_rf_ALL</th><th scope=col>pred_seg_rf_ALL_fb</th><th scope=col>pred_seg2_glm_ALL</th><th scope=col>pred_seg2_glm_ALL_fb</th><th scope=col>pred_seg2_rf_ALL</th><th scope=col>pred_seg2_rf_ALL_fb</th></tr>\n",
       "\t<tr><th scope=col>&lt;chr&gt;</th><th scope=col>&lt;chr&gt;</th><th scope=col>&lt;chr&gt;</th><th scope=col>&lt;int&gt;</th><th scope=col>&lt;int&gt;</th><th scope=col>&lt;chr&gt;</th><th scope=col>&lt;chr&gt;</th><th scope=col>&lt;chr&gt;</th><th scope=col>&lt;chr&gt;</th><th scope=col>&lt;chr&gt;</th><th scope=col>&lt;chr&gt;</th><th scope=col>&lt;chr&gt;</th><th scope=col>&lt;int&gt;</th><th scope=col>&lt;dbl&gt;</th><th scope=col>&lt;dbl&gt;</th><th scope=col>&lt;int&gt;</th><th scope=col>&lt;chr&gt;</th><th scope=col>&lt;chr&gt;</th><th scope=col>&lt;chr&gt;</th><th scope=col>&lt;int&gt;</th><th scope=col>&lt;dbl&gt;</th><th scope=col>&lt;chr&gt;</th><th scope=col>&lt;dbl&gt;</th><th scope=col>&lt;dbl&gt;</th><th scope=col>&lt;chr&gt;</th><th scope=col>⋯</th><th scope=col>&lt;dbl&gt;</th><th scope=col>&lt;chr&gt;</th><th scope=col>&lt;chr&gt;</th><th scope=col>&lt;dbl&gt;</th><th scope=col>&lt;chr&gt;</th><th scope=col>&lt;chr&gt;</th><th scope=col>&lt;chr&gt;</th><th scope=col>&lt;dbl&gt;</th><th scope=col>&lt;dbl&gt;</th><th scope=col>&lt;dbl&gt;</th><th scope=col>&lt;dbl&gt;</th><th scope=col>&lt;dbl&gt;</th><th scope=col>&lt;dbl&gt;</th><th scope=col>&lt;dbl&gt;</th><th scope=col>&lt;dbl&gt;</th><th scope=col>&lt;dbl&gt;</th><th scope=col>&lt;dbl&gt;</th><th scope=col>&lt;dbl&gt;</th><th scope=col>&lt;dbl&gt;</th><th scope=col>&lt;dbl&gt;</th><th scope=col>&lt;dbl&gt;</th><th scope=col>&lt;dbl&gt;</th><th scope=col>&lt;dbl&gt;</th><th scope=col>&lt;dbl&gt;</th><th scope=col>&lt;dbl&gt;</th></tr>\n",
       "</thead>\n",
       "<tbody>\n",
       "\t<tr><td>sitegmo</td><td>GMO</td><td>Japan</td><td>80776294</td><td>1</td><td>FirstTime</td><td>2019-10-28</td><td>2018-10-28</td><td>2018-10-28 10:41:52</td><td>site</td><td>wvxmdn.site</td><td>GMO</td><td>1</td><td>0.1</td><td>0.1</td><td>244667715</td><td>auto-renewal</td><td>unrealized</td><td>Not Renewd</td><td>1</td><td>20</td><td>2019-10-28</td><td>20</td><td>0.04</td><td>wxmnd </td><td>⋯</td><td>-2.30259</td><td>Non China</td><td>Japan</td><td>0.1</td><td>(0,0.3]</td><td>seg2_glm</td><td>agg_rf_ALL</td><td>0.056</td><td>0.056</td><td>0.056</td><td>0.056</td><td>0.00145</td><td>0.00105</td><td>0.00105</td><td>0.00145</td><td>0.00105</td><td>0.02680</td><td>0.033</td><td>0.033</td><td>0.00434</td><td>0.00434</td><td>0.02680</td><td>0.02680</td><td>0.00602</td><td>0.00602</td></tr>\n",
       "\t<tr><td>sitegmo</td><td>GMO</td><td>Japan</td><td>80777429</td><td>1</td><td>FirstTime</td><td>2019-10-28</td><td>2018-10-28</td><td>2018-10-28 10:55:12</td><td>site</td><td>nbwvgs.site</td><td>GMO</td><td>1</td><td>0.1</td><td>0.1</td><td>244668875</td><td>auto-renewal</td><td>unrealized</td><td>Not Renewd</td><td>1</td><td>20</td><td>2019-10-28</td><td>20</td><td>0.08</td><td>nbws  </td><td>⋯</td><td>-2.30259</td><td>Non China</td><td>Japan</td><td>0.1</td><td>(0,0.3]</td><td>seg2_glm</td><td>agg_rf_ALL</td><td>0.056</td><td>0.056</td><td>0.056</td><td>0.056</td><td>0.00158</td><td>0.00086</td><td>0.00086</td><td>0.00158</td><td>0.00086</td><td>0.02684</td><td>0.033</td><td>0.033</td><td>0.00429</td><td>0.00429</td><td>0.02684</td><td>0.02684</td><td>0.00598</td><td>0.00598</td></tr>\n",
       "\t<tr><td>sitegmo</td><td>GMO</td><td>Japan</td><td>80765189</td><td>1</td><td>FirstTime</td><td>2019-10-28</td><td>2018-10-28</td><td>2018-10-28 07:53:01</td><td>site</td><td>vouata.site</td><td>GMO</td><td>1</td><td>0.1</td><td>0.1</td><td>244656510</td><td>auto-renewal</td><td>unrealized</td><td>Not Renewd</td><td>1</td><td>20</td><td>2019-10-28</td><td>20</td><td>6.33</td><td>vouata</td><td>⋯</td><td>-2.30259</td><td>Non China</td><td>Japan</td><td>0.1</td><td>(0,0.3]</td><td>seg2_glm</td><td>agg_rf_ALL</td><td>0.062</td><td>0.063</td><td>0.063</td><td>0.062</td><td>0.10716</td><td>0.10658</td><td>0.10658</td><td>0.10716</td><td>0.10658</td><td>0.04457</td><td>0.061</td><td>0.061</td><td>0.12956</td><td>0.12956</td><td>0.04457</td><td>0.04457</td><td>0.12195</td><td>0.12195</td></tr>\n",
       "\t<tr><td>sitegmo</td><td>GMO</td><td>Japan</td><td>80771924</td><td>1</td><td>FirstTime</td><td>2019-10-28</td><td>2018-10-28</td><td>2018-10-28 09:46:30</td><td>site</td><td>hzeksw.site</td><td>GMO</td><td>1</td><td>0.1</td><td>0.1</td><td>244663525</td><td>auto-renewal</td><td>unrealized</td><td>Not Renewd</td><td>1</td><td>20</td><td>2019-10-28</td><td>20</td><td>0.50</td><td>zeks  </td><td>⋯</td><td>-2.30259</td><td>Non China</td><td>Japan</td><td>0.1</td><td>(0,0.3]</td><td>seg2_glm</td><td>agg_rf_ALL</td><td>0.056</td><td>0.056</td><td>0.056</td><td>0.056</td><td>0.00170</td><td>0.00103</td><td>0.00103</td><td>0.00170</td><td>0.00103</td><td>0.02734</td><td>0.034</td><td>0.034</td><td>0.00425</td><td>0.00425</td><td>0.02734</td><td>0.02734</td><td>0.00592</td><td>0.00592</td></tr>\n",
       "\t<tr><td>sitegmo</td><td>GMO</td><td>Japan</td><td>80766104</td><td>1</td><td>FirstTime</td><td>2019-10-28</td><td>2018-10-28</td><td>2018-10-28 08:11:02</td><td>site</td><td>qifcqx.site</td><td>GMO</td><td>1</td><td>0.1</td><td>0.1</td><td>244657545</td><td>auto-renewal</td><td>unrealized</td><td>Not Renewd</td><td>1</td><td>20</td><td>2019-10-28</td><td>20</td><td>0.24</td><td>qifcqx</td><td>⋯</td><td>-2.30259</td><td>Non China</td><td>Japan</td><td>0.1</td><td>(0,0.3]</td><td>seg2_glm</td><td>agg_rf_ALL</td><td>0.058</td><td>0.058</td><td>0.058</td><td>0.058</td><td>0.00223</td><td>0.00423</td><td>0.00423</td><td>0.00223</td><td>0.00423</td><td>0.03425</td><td>0.048</td><td>0.048</td><td>0.00653</td><td>0.00653</td><td>0.03425</td><td>0.03425</td><td>0.00636</td><td>0.00636</td></tr>\n",
       "\t<tr><td>sitegmo</td><td>GMO</td><td>Japan</td><td>80774849</td><td>1</td><td>FirstTime</td><td>2019-10-28</td><td>2018-10-28</td><td>2018-10-28 10:15:18</td><td>site</td><td>deinwc.site</td><td>GMO</td><td>1</td><td>0.1</td><td>0.1</td><td>244666200</td><td>auto-renewal</td><td>unrealized</td><td>Not Renewd</td><td>1</td><td>20</td><td>2019-10-28</td><td>20</td><td>1.10</td><td>dienc </td><td>⋯</td><td>-2.30259</td><td>Non China</td><td>Japan</td><td>0.1</td><td>(0,0.3]</td><td>seg2_glm</td><td>agg_rf_ALL</td><td>0.056</td><td>0.056</td><td>0.056</td><td>0.056</td><td>0.00441</td><td>0.00640</td><td>0.00640</td><td>0.00441</td><td>0.00640</td><td>0.02807</td><td>0.035</td><td>0.035</td><td>0.00706</td><td>0.00706</td><td>0.02807</td><td>0.02807</td><td>0.00916</td><td>0.00916</td></tr>\n",
       "</tbody>\n",
       "</table>\n"
      ],
      "text/latex": [
       "A tibble: 6 × 56\n",
       "\\begin{tabular}{lllllllllllllllllllllllllllllllllllllllllllllllllll}\n",
       " tld\\_registrar\\_index & reseller & reseller\\_country & domain\\_id & renewed\\_count & renewal\\_type & expiry\\_date & creation\\_date & creation\\_time & tld & domain & registrar & reg\\_period & reg\\_revenue & reg\\_arpt & renewal\\_id & renew\\_type & autorenew\\_type & renewal\\_status & renew\\_period & renew\\_revenue & renew\\_date & renew\\_arpt & gibb\\_score & pattern & ⋯ & log\\_reg\\_arpt & region & reseller\\_geo & reg\\_arpt\\_org & reg\\_arpt\\_slab & l10\\_win\\_04\\_pred\\_model & auc\\_win\\_04\\_pred\\_model & pred\\_agg\\_glm & pred\\_agg\\_glm\\_ALL & pred\\_agg\\_glm\\_ALL\\_fb & pred\\_agg\\_glm\\_fb & pred\\_agg\\_rf & pred\\_agg\\_rf\\_ALL & pred\\_agg\\_rf\\_ALL\\_fb & pred\\_agg\\_rf\\_fb & pred\\_meta\\_auc & pred\\_meta\\_l10 & pred\\_seg\\_glm\\_ALL & pred\\_seg\\_glm\\_ALL\\_fb & pred\\_seg\\_rf\\_ALL & pred\\_seg\\_rf\\_ALL\\_fb & pred\\_seg2\\_glm\\_ALL & pred\\_seg2\\_glm\\_ALL\\_fb & pred\\_seg2\\_rf\\_ALL & pred\\_seg2\\_rf\\_ALL\\_fb\\\\\n",
       " <chr> & <chr> & <chr> & <int> & <int> & <chr> & <chr> & <chr> & <chr> & <chr> & <chr> & <chr> & <int> & <dbl> & <dbl> & <int> & <chr> & <chr> & <chr> & <int> & <dbl> & <chr> & <dbl> & <dbl> & <chr> & ⋯ & <dbl> & <chr> & <chr> & <dbl> & <chr> & <chr> & <chr> & <dbl> & <dbl> & <dbl> & <dbl> & <dbl> & <dbl> & <dbl> & <dbl> & <dbl> & <dbl> & <dbl> & <dbl> & <dbl> & <dbl> & <dbl> & <dbl> & <dbl> & <dbl>\\\\\n",
       "\\hline\n",
       "\t sitegmo & GMO & Japan & 80776294 & 1 & FirstTime & 2019-10-28 & 2018-10-28 & 2018-10-28 10:41:52 & site & wvxmdn.site & GMO & 1 & 0.1 & 0.1 & 244667715 & auto-renewal & unrealized & Not Renewd & 1 & 20 & 2019-10-28 & 20 & 0.04 & wxmnd  & ⋯ & -2.30259 & Non China & Japan & 0.1 & (0,0.3{]} & seg2\\_glm & agg\\_rf\\_ALL & 0.056 & 0.056 & 0.056 & 0.056 & 0.00145 & 0.00105 & 0.00105 & 0.00145 & 0.00105 & 0.02680 & 0.033 & 0.033 & 0.00434 & 0.00434 & 0.02680 & 0.02680 & 0.00602 & 0.00602\\\\\n",
       "\t sitegmo & GMO & Japan & 80777429 & 1 & FirstTime & 2019-10-28 & 2018-10-28 & 2018-10-28 10:55:12 & site & nbwvgs.site & GMO & 1 & 0.1 & 0.1 & 244668875 & auto-renewal & unrealized & Not Renewd & 1 & 20 & 2019-10-28 & 20 & 0.08 & nbws   & ⋯ & -2.30259 & Non China & Japan & 0.1 & (0,0.3{]} & seg2\\_glm & agg\\_rf\\_ALL & 0.056 & 0.056 & 0.056 & 0.056 & 0.00158 & 0.00086 & 0.00086 & 0.00158 & 0.00086 & 0.02684 & 0.033 & 0.033 & 0.00429 & 0.00429 & 0.02684 & 0.02684 & 0.00598 & 0.00598\\\\\n",
       "\t sitegmo & GMO & Japan & 80765189 & 1 & FirstTime & 2019-10-28 & 2018-10-28 & 2018-10-28 07:53:01 & site & vouata.site & GMO & 1 & 0.1 & 0.1 & 244656510 & auto-renewal & unrealized & Not Renewd & 1 & 20 & 2019-10-28 & 20 & 6.33 & vouata & ⋯ & -2.30259 & Non China & Japan & 0.1 & (0,0.3{]} & seg2\\_glm & agg\\_rf\\_ALL & 0.062 & 0.063 & 0.063 & 0.062 & 0.10716 & 0.10658 & 0.10658 & 0.10716 & 0.10658 & 0.04457 & 0.061 & 0.061 & 0.12956 & 0.12956 & 0.04457 & 0.04457 & 0.12195 & 0.12195\\\\\n",
       "\t sitegmo & GMO & Japan & 80771924 & 1 & FirstTime & 2019-10-28 & 2018-10-28 & 2018-10-28 09:46:30 & site & hzeksw.site & GMO & 1 & 0.1 & 0.1 & 244663525 & auto-renewal & unrealized & Not Renewd & 1 & 20 & 2019-10-28 & 20 & 0.50 & zeks   & ⋯ & -2.30259 & Non China & Japan & 0.1 & (0,0.3{]} & seg2\\_glm & agg\\_rf\\_ALL & 0.056 & 0.056 & 0.056 & 0.056 & 0.00170 & 0.00103 & 0.00103 & 0.00170 & 0.00103 & 0.02734 & 0.034 & 0.034 & 0.00425 & 0.00425 & 0.02734 & 0.02734 & 0.00592 & 0.00592\\\\\n",
       "\t sitegmo & GMO & Japan & 80766104 & 1 & FirstTime & 2019-10-28 & 2018-10-28 & 2018-10-28 08:11:02 & site & qifcqx.site & GMO & 1 & 0.1 & 0.1 & 244657545 & auto-renewal & unrealized & Not Renewd & 1 & 20 & 2019-10-28 & 20 & 0.24 & qifcqx & ⋯ & -2.30259 & Non China & Japan & 0.1 & (0,0.3{]} & seg2\\_glm & agg\\_rf\\_ALL & 0.058 & 0.058 & 0.058 & 0.058 & 0.00223 & 0.00423 & 0.00423 & 0.00223 & 0.00423 & 0.03425 & 0.048 & 0.048 & 0.00653 & 0.00653 & 0.03425 & 0.03425 & 0.00636 & 0.00636\\\\\n",
       "\t sitegmo & GMO & Japan & 80774849 & 1 & FirstTime & 2019-10-28 & 2018-10-28 & 2018-10-28 10:15:18 & site & deinwc.site & GMO & 1 & 0.1 & 0.1 & 244666200 & auto-renewal & unrealized & Not Renewd & 1 & 20 & 2019-10-28 & 20 & 1.10 & dienc  & ⋯ & -2.30259 & Non China & Japan & 0.1 & (0,0.3{]} & seg2\\_glm & agg\\_rf\\_ALL & 0.056 & 0.056 & 0.056 & 0.056 & 0.00441 & 0.00640 & 0.00640 & 0.00441 & 0.00640 & 0.02807 & 0.035 & 0.035 & 0.00706 & 0.00706 & 0.02807 & 0.02807 & 0.00916 & 0.00916\\\\\n",
       "\\end{tabular}\n"
      ],
      "text/markdown": [
       "\n",
       "A tibble: 6 × 56\n",
       "\n",
       "| tld_registrar_index &lt;chr&gt; | reseller &lt;chr&gt; | reseller_country &lt;chr&gt; | domain_id &lt;int&gt; | renewed_count &lt;int&gt; | renewal_type &lt;chr&gt; | expiry_date &lt;chr&gt; | creation_date &lt;chr&gt; | creation_time &lt;chr&gt; | tld &lt;chr&gt; | domain &lt;chr&gt; | registrar &lt;chr&gt; | reg_period &lt;int&gt; | reg_revenue &lt;dbl&gt; | reg_arpt &lt;dbl&gt; | renewal_id &lt;int&gt; | renew_type &lt;chr&gt; | autorenew_type &lt;chr&gt; | renewal_status &lt;chr&gt; | renew_period &lt;int&gt; | renew_revenue &lt;dbl&gt; | renew_date &lt;chr&gt; | renew_arpt &lt;dbl&gt; | gibb_score &lt;dbl&gt; | pattern &lt;chr&gt; | ⋯ ⋯ | log_reg_arpt &lt;dbl&gt; | region &lt;chr&gt; | reseller_geo &lt;chr&gt; | reg_arpt_org &lt;dbl&gt; | reg_arpt_slab &lt;chr&gt; | l10_win_04_pred_model &lt;chr&gt; | auc_win_04_pred_model &lt;chr&gt; | pred_agg_glm &lt;dbl&gt; | pred_agg_glm_ALL &lt;dbl&gt; | pred_agg_glm_ALL_fb &lt;dbl&gt; | pred_agg_glm_fb &lt;dbl&gt; | pred_agg_rf &lt;dbl&gt; | pred_agg_rf_ALL &lt;dbl&gt; | pred_agg_rf_ALL_fb &lt;dbl&gt; | pred_agg_rf_fb &lt;dbl&gt; | pred_meta_auc &lt;dbl&gt; | pred_meta_l10 &lt;dbl&gt; | pred_seg_glm_ALL &lt;dbl&gt; | pred_seg_glm_ALL_fb &lt;dbl&gt; | pred_seg_rf_ALL &lt;dbl&gt; | pred_seg_rf_ALL_fb &lt;dbl&gt; | pred_seg2_glm_ALL &lt;dbl&gt; | pred_seg2_glm_ALL_fb &lt;dbl&gt; | pred_seg2_rf_ALL &lt;dbl&gt; | pred_seg2_rf_ALL_fb &lt;dbl&gt; |\n",
       "|---|---|---|---|---|---|---|---|---|---|---|---|---|---|---|---|---|---|---|---|---|---|---|---|---|---|---|---|---|---|---|---|---|---|---|---|---|---|---|---|---|---|---|---|---|---|---|---|---|---|---|\n",
       "| sitegmo | GMO | Japan | 80776294 | 1 | FirstTime | 2019-10-28 | 2018-10-28 | 2018-10-28 10:41:52 | site | wvxmdn.site | GMO | 1 | 0.1 | 0.1 | 244667715 | auto-renewal | unrealized | Not Renewd | 1 | 20 | 2019-10-28 | 20 | 0.04 | wxmnd  | ⋯ | -2.30259 | Non China | Japan | 0.1 | (0,0.3] | seg2_glm | agg_rf_ALL | 0.056 | 0.056 | 0.056 | 0.056 | 0.00145 | 0.00105 | 0.00105 | 0.00145 | 0.00105 | 0.02680 | 0.033 | 0.033 | 0.00434 | 0.00434 | 0.02680 | 0.02680 | 0.00602 | 0.00602 |\n",
       "| sitegmo | GMO | Japan | 80777429 | 1 | FirstTime | 2019-10-28 | 2018-10-28 | 2018-10-28 10:55:12 | site | nbwvgs.site | GMO | 1 | 0.1 | 0.1 | 244668875 | auto-renewal | unrealized | Not Renewd | 1 | 20 | 2019-10-28 | 20 | 0.08 | nbws   | ⋯ | -2.30259 | Non China | Japan | 0.1 | (0,0.3] | seg2_glm | agg_rf_ALL | 0.056 | 0.056 | 0.056 | 0.056 | 0.00158 | 0.00086 | 0.00086 | 0.00158 | 0.00086 | 0.02684 | 0.033 | 0.033 | 0.00429 | 0.00429 | 0.02684 | 0.02684 | 0.00598 | 0.00598 |\n",
       "| sitegmo | GMO | Japan | 80765189 | 1 | FirstTime | 2019-10-28 | 2018-10-28 | 2018-10-28 07:53:01 | site | vouata.site | GMO | 1 | 0.1 | 0.1 | 244656510 | auto-renewal | unrealized | Not Renewd | 1 | 20 | 2019-10-28 | 20 | 6.33 | vouata | ⋯ | -2.30259 | Non China | Japan | 0.1 | (0,0.3] | seg2_glm | agg_rf_ALL | 0.062 | 0.063 | 0.063 | 0.062 | 0.10716 | 0.10658 | 0.10658 | 0.10716 | 0.10658 | 0.04457 | 0.061 | 0.061 | 0.12956 | 0.12956 | 0.04457 | 0.04457 | 0.12195 | 0.12195 |\n",
       "| sitegmo | GMO | Japan | 80771924 | 1 | FirstTime | 2019-10-28 | 2018-10-28 | 2018-10-28 09:46:30 | site | hzeksw.site | GMO | 1 | 0.1 | 0.1 | 244663525 | auto-renewal | unrealized | Not Renewd | 1 | 20 | 2019-10-28 | 20 | 0.50 | zeks   | ⋯ | -2.30259 | Non China | Japan | 0.1 | (0,0.3] | seg2_glm | agg_rf_ALL | 0.056 | 0.056 | 0.056 | 0.056 | 0.00170 | 0.00103 | 0.00103 | 0.00170 | 0.00103 | 0.02734 | 0.034 | 0.034 | 0.00425 | 0.00425 | 0.02734 | 0.02734 | 0.00592 | 0.00592 |\n",
       "| sitegmo | GMO | Japan | 80766104 | 1 | FirstTime | 2019-10-28 | 2018-10-28 | 2018-10-28 08:11:02 | site | qifcqx.site | GMO | 1 | 0.1 | 0.1 | 244657545 | auto-renewal | unrealized | Not Renewd | 1 | 20 | 2019-10-28 | 20 | 0.24 | qifcqx | ⋯ | -2.30259 | Non China | Japan | 0.1 | (0,0.3] | seg2_glm | agg_rf_ALL | 0.058 | 0.058 | 0.058 | 0.058 | 0.00223 | 0.00423 | 0.00423 | 0.00223 | 0.00423 | 0.03425 | 0.048 | 0.048 | 0.00653 | 0.00653 | 0.03425 | 0.03425 | 0.00636 | 0.00636 |\n",
       "| sitegmo | GMO | Japan | 80774849 | 1 | FirstTime | 2019-10-28 | 2018-10-28 | 2018-10-28 10:15:18 | site | deinwc.site | GMO | 1 | 0.1 | 0.1 | 244666200 | auto-renewal | unrealized | Not Renewd | 1 | 20 | 2019-10-28 | 20 | 1.10 | dienc  | ⋯ | -2.30259 | Non China | Japan | 0.1 | (0,0.3] | seg2_glm | agg_rf_ALL | 0.056 | 0.056 | 0.056 | 0.056 | 0.00441 | 0.00640 | 0.00640 | 0.00441 | 0.00640 | 0.02807 | 0.035 | 0.035 | 0.00706 | 0.00706 | 0.02807 | 0.02807 | 0.00916 | 0.00916 |\n",
       "\n"
      ],
      "text/plain": [
       "  tld_registrar_index reseller reseller_country domain_id renewed_count\n",
       "1 sitegmo             GMO      Japan            80776294  1            \n",
       "2 sitegmo             GMO      Japan            80777429  1            \n",
       "3 sitegmo             GMO      Japan            80765189  1            \n",
       "4 sitegmo             GMO      Japan            80771924  1            \n",
       "5 sitegmo             GMO      Japan            80766104  1            \n",
       "6 sitegmo             GMO      Japan            80774849  1            \n",
       "  renewal_type expiry_date creation_date creation_time       tld  domain     \n",
       "1 FirstTime    2019-10-28  2018-10-28    2018-10-28 10:41:52 site wvxmdn.site\n",
       "2 FirstTime    2019-10-28  2018-10-28    2018-10-28 10:55:12 site nbwvgs.site\n",
       "3 FirstTime    2019-10-28  2018-10-28    2018-10-28 07:53:01 site vouata.site\n",
       "4 FirstTime    2019-10-28  2018-10-28    2018-10-28 09:46:30 site hzeksw.site\n",
       "5 FirstTime    2019-10-28  2018-10-28    2018-10-28 08:11:02 site qifcqx.site\n",
       "6 FirstTime    2019-10-28  2018-10-28    2018-10-28 10:15:18 site deinwc.site\n",
       "  registrar reg_period reg_revenue reg_arpt renewal_id renew_type  \n",
       "1 GMO       1          0.1         0.1      244667715  auto-renewal\n",
       "2 GMO       1          0.1         0.1      244668875  auto-renewal\n",
       "3 GMO       1          0.1         0.1      244656510  auto-renewal\n",
       "4 GMO       1          0.1         0.1      244663525  auto-renewal\n",
       "5 GMO       1          0.1         0.1      244657545  auto-renewal\n",
       "6 GMO       1          0.1         0.1      244666200  auto-renewal\n",
       "  autorenew_type renewal_status renew_period renew_revenue renew_date\n",
       "1 unrealized     Not Renewd     1            20            2019-10-28\n",
       "2 unrealized     Not Renewd     1            20            2019-10-28\n",
       "3 unrealized     Not Renewd     1            20            2019-10-28\n",
       "4 unrealized     Not Renewd     1            20            2019-10-28\n",
       "5 unrealized     Not Renewd     1            20            2019-10-28\n",
       "6 unrealized     Not Renewd     1            20            2019-10-28\n",
       "  renew_arpt gibb_score pattern ⋯ log_reg_arpt region    reseller_geo\n",
       "1 20         0.04       wxmnd   ⋯ -2.30259     Non China Japan       \n",
       "2 20         0.08       nbws    ⋯ -2.30259     Non China Japan       \n",
       "3 20         6.33       vouata  ⋯ -2.30259     Non China Japan       \n",
       "4 20         0.50       zeks    ⋯ -2.30259     Non China Japan       \n",
       "5 20         0.24       qifcqx  ⋯ -2.30259     Non China Japan       \n",
       "6 20         1.10       dienc   ⋯ -2.30259     Non China Japan       \n",
       "  reg_arpt_org reg_arpt_slab l10_win_04_pred_model auc_win_04_pred_model\n",
       "1 0.1          (0,0.3]       seg2_glm              agg_rf_ALL           \n",
       "2 0.1          (0,0.3]       seg2_glm              agg_rf_ALL           \n",
       "3 0.1          (0,0.3]       seg2_glm              agg_rf_ALL           \n",
       "4 0.1          (0,0.3]       seg2_glm              agg_rf_ALL           \n",
       "5 0.1          (0,0.3]       seg2_glm              agg_rf_ALL           \n",
       "6 0.1          (0,0.3]       seg2_glm              agg_rf_ALL           \n",
       "  pred_agg_glm pred_agg_glm_ALL pred_agg_glm_ALL_fb pred_agg_glm_fb pred_agg_rf\n",
       "1 0.056        0.056            0.056               0.056           0.00145    \n",
       "2 0.056        0.056            0.056               0.056           0.00158    \n",
       "3 0.062        0.063            0.063               0.062           0.10716    \n",
       "4 0.056        0.056            0.056               0.056           0.00170    \n",
       "5 0.058        0.058            0.058               0.058           0.00223    \n",
       "6 0.056        0.056            0.056               0.056           0.00441    \n",
       "  pred_agg_rf_ALL pred_agg_rf_ALL_fb pred_agg_rf_fb pred_meta_auc pred_meta_l10\n",
       "1 0.00105         0.00105            0.00145        0.00105       0.02680      \n",
       "2 0.00086         0.00086            0.00158        0.00086       0.02684      \n",
       "3 0.10658         0.10658            0.10716        0.10658       0.04457      \n",
       "4 0.00103         0.00103            0.00170        0.00103       0.02734      \n",
       "5 0.00423         0.00423            0.00223        0.00423       0.03425      \n",
       "6 0.00640         0.00640            0.00441        0.00640       0.02807      \n",
       "  pred_seg_glm_ALL pred_seg_glm_ALL_fb pred_seg_rf_ALL pred_seg_rf_ALL_fb\n",
       "1 0.033            0.033               0.00434         0.00434           \n",
       "2 0.033            0.033               0.00429         0.00429           \n",
       "3 0.061            0.061               0.12956         0.12956           \n",
       "4 0.034            0.034               0.00425         0.00425           \n",
       "5 0.048            0.048               0.00653         0.00653           \n",
       "6 0.035            0.035               0.00706         0.00706           \n",
       "  pred_seg2_glm_ALL pred_seg2_glm_ALL_fb pred_seg2_rf_ALL pred_seg2_rf_ALL_fb\n",
       "1 0.02680           0.02680              0.00602          0.00602            \n",
       "2 0.02684           0.02684              0.00598          0.00598            \n",
       "3 0.04457           0.04457              0.12195          0.12195            \n",
       "4 0.02734           0.02734              0.00592          0.00592            \n",
       "5 0.03425           0.03425              0.00636          0.00636            \n",
       "6 0.02807           0.02807              0.00916          0.00916            "
      ]
     },
     "metadata": {},
     "output_type": "display_data"
    }
   ],
   "source": [
    "head(preds_wide_df)"
   ]
  },
  {
   "cell_type": "code",
   "execution_count": 41,
   "metadata": {},
   "outputs": [
    {
     "data": {
      "text/html": [
       "<style>\n",
       ".list-inline {list-style: none; margin:0; padding: 0}\n",
       ".list-inline>li {display: inline-block}\n",
       ".list-inline>li:not(:last-child)::after {content: \"\\00b7\"; padding: 0 .5ex}\n",
       "</style>\n",
       "<ol class=list-inline><li>'pred_agg_glm'</li><li>'pred_agg_glm_ALL'</li><li>'pred_agg_glm_ALL_fb'</li><li>'pred_agg_glm_fb'</li><li>'pred_agg_rf'</li><li>'pred_agg_rf_ALL'</li><li>'pred_agg_rf_ALL_fb'</li><li>'pred_agg_rf_fb'</li><li>'pred_meta_auc'</li><li>'pred_meta_l10'</li><li>'pred_seg_glm_ALL'</li><li>'pred_seg_glm_ALL_fb'</li><li>'pred_seg_rf_ALL'</li><li>'pred_seg_rf_ALL_fb'</li><li>'pred_seg2_glm_ALL'</li><li>'pred_seg2_glm_ALL_fb'</li><li>'pred_seg2_rf_ALL'</li><li>'pred_seg2_rf_ALL_fb'</li></ol>\n"
      ],
      "text/latex": [
       "\\begin{enumerate*}\n",
       "\\item 'pred\\_agg\\_glm'\n",
       "\\item 'pred\\_agg\\_glm\\_ALL'\n",
       "\\item 'pred\\_agg\\_glm\\_ALL\\_fb'\n",
       "\\item 'pred\\_agg\\_glm\\_fb'\n",
       "\\item 'pred\\_agg\\_rf'\n",
       "\\item 'pred\\_agg\\_rf\\_ALL'\n",
       "\\item 'pred\\_agg\\_rf\\_ALL\\_fb'\n",
       "\\item 'pred\\_agg\\_rf\\_fb'\n",
       "\\item 'pred\\_meta\\_auc'\n",
       "\\item 'pred\\_meta\\_l10'\n",
       "\\item 'pred\\_seg\\_glm\\_ALL'\n",
       "\\item 'pred\\_seg\\_glm\\_ALL\\_fb'\n",
       "\\item 'pred\\_seg\\_rf\\_ALL'\n",
       "\\item 'pred\\_seg\\_rf\\_ALL\\_fb'\n",
       "\\item 'pred\\_seg2\\_glm\\_ALL'\n",
       "\\item 'pred\\_seg2\\_glm\\_ALL\\_fb'\n",
       "\\item 'pred\\_seg2\\_rf\\_ALL'\n",
       "\\item 'pred\\_seg2\\_rf\\_ALL\\_fb'\n",
       "\\end{enumerate*}\n"
      ],
      "text/markdown": [
       "1. 'pred_agg_glm'\n",
       "2. 'pred_agg_glm_ALL'\n",
       "3. 'pred_agg_glm_ALL_fb'\n",
       "4. 'pred_agg_glm_fb'\n",
       "5. 'pred_agg_rf'\n",
       "6. 'pred_agg_rf_ALL'\n",
       "7. 'pred_agg_rf_ALL_fb'\n",
       "8. 'pred_agg_rf_fb'\n",
       "9. 'pred_meta_auc'\n",
       "10. 'pred_meta_l10'\n",
       "11. 'pred_seg_glm_ALL'\n",
       "12. 'pred_seg_glm_ALL_fb'\n",
       "13. 'pred_seg_rf_ALL'\n",
       "14. 'pred_seg_rf_ALL_fb'\n",
       "15. 'pred_seg2_glm_ALL'\n",
       "16. 'pred_seg2_glm_ALL_fb'\n",
       "17. 'pred_seg2_rf_ALL'\n",
       "18. 'pred_seg2_rf_ALL_fb'\n",
       "\n",
       "\n"
      ],
      "text/plain": [
       " [1] \"pred_agg_glm\"         \"pred_agg_glm_ALL\"     \"pred_agg_glm_ALL_fb\" \n",
       " [4] \"pred_agg_glm_fb\"      \"pred_agg_rf\"          \"pred_agg_rf_ALL\"     \n",
       " [7] \"pred_agg_rf_ALL_fb\"   \"pred_agg_rf_fb\"       \"pred_meta_auc\"       \n",
       "[10] \"pred_meta_l10\"        \"pred_seg_glm_ALL\"     \"pred_seg_glm_ALL_fb\" \n",
       "[13] \"pred_seg_rf_ALL\"      \"pred_seg_rf_ALL_fb\"   \"pred_seg2_glm_ALL\"   \n",
       "[16] \"pred_seg2_glm_ALL_fb\" \"pred_seg2_rf_ALL\"     \"pred_seg2_rf_ALL_fb\" "
      ]
     },
     "metadata": {},
     "output_type": "display_data"
    }
   ],
   "source": [
    "models <- preds_wide_df %>% select(starts_with(\"pred_\")) %>% names()\n",
    "models"
   ]
  },
  {
   "cell_type": "code",
   "execution_count": 44,
   "metadata": {},
   "outputs": [],
   "source": [
    "\n",
    "lift_list <- list()\n",
    "auc_list <- list()\n",
    "\n",
    "fallback_lift <- chart_lift(pred_df=preds_wide_df,\n",
    "                        dep_var = \"renewal_status\",\n",
    "                        pred_var = \"pred_agg_glm\") \n",
    "\n",
    "lift_list[[\"pred_l10_bf\"]] <- fallback_lift\n",
    "auc_list[[\"pred_l10_bf\"]] <- calc_auc(lift_df=fallback_lift)\n",
    "\n",
    "for (model in models){\n",
    "    model_lift <- chart_lift(pred_df=preds_wide_df,\n",
    "                        dep_var = \"renewal_status\",\n",
    "                        pred_var = model) \n",
    "    \n",
    "    fallback_lift <- merge(fallback_lift, model_lift, by=c(\"P\"),all= TRUE, \n",
    "                           suffixes = c(\"\",\n",
    "                                        paste(\"_\",gsub(\"pred_df_\", \"\", model)) ))\n",
    "    \n",
    "    lift_list[[model]] <- model_lift\n",
    "    auc_list[[model]] <- calc_auc(lift_df=model_lift)\n",
    "}\n",
    "\n",
    "lift_df <- fallback_lift\n"
   ]
  },
  {
   "cell_type": "code",
   "execution_count": 45,
   "metadata": {},
   "outputs": [
    {
     "data": {
      "text/plain": [
       "\n",
       "Not Renewd    Renewed \n",
       "0.92363018 0.07636982 "
      ]
     },
     "metadata": {},
     "output_type": "display_data"
    }
   ],
   "source": [
    "prop.table(table(preds_wide_df$renewal_status))"
   ]
  },
  {
   "cell_type": "code",
   "execution_count": 46,
   "metadata": {},
   "outputs": [],
   "source": [
    "plot_multigains <- function (lift_df_list=list(metamodel = fallback_lift),\n",
    "                             auc_list = list(metamodel = calc_auc(lift_df=fallback_lift)),\n",
    "                             prop_positive = 0.08231877 ) {\n",
    "  \n",
    "  optimal_df <- data.frame( \"P\"=c(0,prop_positive,1.0),\n",
    "                            \"actu_renwd2\"=c(NA,NA,NA),\n",
    "                            \"gain\"=c(0,1.0,1.0),\n",
    "                            \"lift\"=c(NA,NA,NA))\n",
    "  \n",
    "  lift_df_list <- lapply(lift_df_list, function(df) {\n",
    "    df <- df %>%\n",
    "      add_row(P = 0, gain =0) %>%\n",
    "      arrange(P)\n",
    "  })\n",
    "\n",
    "  auc_lift_list = paste(lapply(auc_list, round, 3),sapply(lift_df_list, function(x) round(x[2,\"lift\"],2)), sep=\", \")\n",
    "  \n",
    "  auc_map = paste(names(lift_df_list),auc_lift_list, sep=\" = \")[1:length(lift_df_list)]\n",
    "  \n",
    "  \n",
    "  gains_plot <- ggplot(NULL, aes(P,  gain)) +\n",
    "    geom_line(data = lift_df_list[[1]] %>% slice(1, n())) +\n",
    "    \n",
    "    list(geom_line(data=optimal_df), geom_point(data=optimal_df)) +\n",
    "    \n",
    "    scale_y_continuous(breaks = seq(0, 1, by = .1), limits = c(0,1)) +\n",
    "    scale_x_continuous(breaks = seq(0, 1, by = .1)) +\n",
    "    labs(title = \"Cumulative Gains Plot\",\n",
    "         y = \"Cumulative Gain\",\n",
    "         x = \"Percentile\")+\n",
    "    theme(text = element_text(size=20))\n",
    "  \n",
    "  for(i in seq(length(lift_df_list))){\n",
    "    name = names(lift_df_list)[[i]]\n",
    "    df = lift_df_list[[i]]\n",
    "    auc = auc_list[[i]]\n",
    "    gains_plot <- gains_plot + list(geom_line(data=df), \n",
    "                                    geom_point(data=df))+ \n",
    "      annotate(\"text\", x = .4, y = .9-i*.075, hjust = 0, label = auc_map[[i]], size = 5)\n",
    "  }\n",
    "  \n",
    "  \n",
    "  return(gains_plot)\n",
    "}\n"
   ]
  },
  {
   "cell_type": "code",
   "execution_count": 47,
   "metadata": {},
   "outputs": [
    {
     "name": "stderr",
     "output_type": "stream",
     "text": [
      "Warning message:\n",
      "“Removed 1 rows containing missing values (geom_text).”\n",
      "Warning message:\n",
      "“Removed 1 rows containing missing values (geom_text).”\n",
      "Warning message:\n",
      "“Removed 1 rows containing missing values (geom_text).”\n",
      "Warning message:\n",
      "“Removed 1 rows containing missing values (geom_text).”\n",
      "Warning message:\n",
      "“Removed 1 rows containing missing values (geom_text).”\n",
      "Warning message:\n",
      "“Removed 1 rows containing missing values (geom_text).”\n",
      "Warning message:\n",
      "“Removed 1 rows containing missing values (geom_text).”\n"
     ]
    },
    {
     "data": {
      "image/png": "[encoded data removed]",
      "text/plain": [
       "plot without title"
      ]
     },
     "metadata": {
      "image/png": {
       "height": 420,
       "width": 420
      },
      "text/plain": {
       "height": 420,
       "width": 420
      }
     },
     "output_type": "display_data"
    }
   ],
   "source": [
    "plot_multigains(            lift_df_list=lift_list,\n",
    "                             auc_list = auc_list,\n",
    "                             prop_positive =0.07636982 ) "
   ]
  },
  {
   "cell_type": "code",
   "execution_count": 48,
   "metadata": {},
   "outputs": [
    {
     "data": {
      "text/html": [
       "<table>\n",
       "<caption>A data.frame: 18 × 1</caption>\n",
       "<thead>\n",
       "\t<tr><th></th><th scope=col>V1</th></tr>\n",
       "\t<tr><th></th><th scope=col>&lt;dbl&gt;</th></tr>\n",
       "</thead>\n",
       "<tbody>\n",
       "\t<tr><th scope=row>lift_ pred_seg_rf_ALL</th><td>5.153888</td></tr>\n",
       "\t<tr><th scope=row>lift_ pred_agg_rf_ALL</th><td>5.091793</td></tr>\n",
       "\t<tr><th scope=row>lift_ pred_seg2_rf_ALL</th><td>5.046571</td></tr>\n",
       "\t<tr><th scope=row>lift_ pred_meta_auc</th><td>5.015974</td></tr>\n",
       "\t<tr><th scope=row>lift_ pred_seg2_glm_ALL</th><td>4.993251</td></tr>\n",
       "\t<tr><th scope=row>lift_ pred_meta_l10</th><td>4.951629</td></tr>\n",
       "\t<tr><th scope=row>lift_ pred_agg_rf</th><td>4.939480</td></tr>\n",
       "\t<tr><th scope=row>lift_ pred_seg_glm_ALL</th><td>4.919906</td></tr>\n",
       "\t<tr><th scope=row>lift_ pred_seg_rf_ALL_fb</th><td>4.914507</td></tr>\n",
       "\t<tr><th scope=row>lift_ pred_agg_rf_ALL_fb</th><td>4.866586</td></tr>\n",
       "\t<tr><th scope=row>lift_ pred_agg_rf_fb</th><td>4.857136</td></tr>\n",
       "\t<tr><th scope=row>lift_ pred_agg_glm_ALL</th><td>4.836438</td></tr>\n",
       "\t<tr><th scope=row>lift_ pred_seg2_rf_ALL_fb</th><td>4.836213</td></tr>\n",
       "\t<tr><th scope=row>lift_ pred_seg2_glm_ALL_fb</th><td>4.799316</td></tr>\n",
       "\t<tr><th scope=row>lift_ pred_seg_glm_ALL_fb</th><td>4.668152</td></tr>\n",
       "\t<tr><th scope=row>lift_ pred_agg_glm_fb</th><td>4.667252</td></tr>\n",
       "\t<tr><th scope=row>lift_ pred_agg_glm_ALL_fb</th><td>4.646103</td></tr>\n",
       "\t<tr><th scope=row>lift_ pred_agg_glm</th><td>4.546661</td></tr>\n",
       "</tbody>\n",
       "</table>\n"
      ],
      "text/latex": [
       "A data.frame: 18 × 1\n",
       "\\begin{tabular}{r|l}\n",
       "  & V1\\\\\n",
       "  & <dbl>\\\\\n",
       "\\hline\n",
       "\tlift\\_ pred\\_seg\\_rf\\_ALL & 5.153888\\\\\n",
       "\tlift\\_ pred\\_agg\\_rf\\_ALL & 5.091793\\\\\n",
       "\tlift\\_ pred\\_seg2\\_rf\\_ALL & 5.046571\\\\\n",
       "\tlift\\_ pred\\_meta\\_auc & 5.015974\\\\\n",
       "\tlift\\_ pred\\_seg2\\_glm\\_ALL & 4.993251\\\\\n",
       "\tlift\\_ pred\\_meta\\_l10 & 4.951629\\\\\n",
       "\tlift\\_ pred\\_agg\\_rf & 4.939480\\\\\n",
       "\tlift\\_ pred\\_seg\\_glm\\_ALL & 4.919906\\\\\n",
       "\tlift\\_ pred\\_seg\\_rf\\_ALL\\_fb & 4.914507\\\\\n",
       "\tlift\\_ pred\\_agg\\_rf\\_ALL\\_fb & 4.866586\\\\\n",
       "\tlift\\_ pred\\_agg\\_rf\\_fb & 4.857136\\\\\n",
       "\tlift\\_ pred\\_agg\\_glm\\_ALL & 4.836438\\\\\n",
       "\tlift\\_ pred\\_seg2\\_rf\\_ALL\\_fb & 4.836213\\\\\n",
       "\tlift\\_ pred\\_seg2\\_glm\\_ALL\\_fb & 4.799316\\\\\n",
       "\tlift\\_ pred\\_seg\\_glm\\_ALL\\_fb & 4.668152\\\\\n",
       "\tlift\\_ pred\\_agg\\_glm\\_fb & 4.667252\\\\\n",
       "\tlift\\_ pred\\_agg\\_glm\\_ALL\\_fb & 4.646103\\\\\n",
       "\tlift\\_ pred\\_agg\\_glm & 4.546661\\\\\n",
       "\\end{tabular}\n"
      ],
      "text/markdown": [
       "\n",
       "A data.frame: 18 × 1\n",
       "\n",
       "| <!--/--> | V1 &lt;dbl&gt; |\n",
       "|---|---|\n",
       "| lift_ pred_seg_rf_ALL | 5.153888 |\n",
       "| lift_ pred_agg_rf_ALL | 5.091793 |\n",
       "| lift_ pred_seg2_rf_ALL | 5.046571 |\n",
       "| lift_ pred_meta_auc | 5.015974 |\n",
       "| lift_ pred_seg2_glm_ALL | 4.993251 |\n",
       "| lift_ pred_meta_l10 | 4.951629 |\n",
       "| lift_ pred_agg_rf | 4.939480 |\n",
       "| lift_ pred_seg_glm_ALL | 4.919906 |\n",
       "| lift_ pred_seg_rf_ALL_fb | 4.914507 |\n",
       "| lift_ pred_agg_rf_ALL_fb | 4.866586 |\n",
       "| lift_ pred_agg_rf_fb | 4.857136 |\n",
       "| lift_ pred_agg_glm_ALL | 4.836438 |\n",
       "| lift_ pred_seg2_rf_ALL_fb | 4.836213 |\n",
       "| lift_ pred_seg2_glm_ALL_fb | 4.799316 |\n",
       "| lift_ pred_seg_glm_ALL_fb | 4.668152 |\n",
       "| lift_ pred_agg_glm_fb | 4.667252 |\n",
       "| lift_ pred_agg_glm_ALL_fb | 4.646103 |\n",
       "| lift_ pred_agg_glm | 4.546661 |\n",
       "\n"
      ],
      "text/plain": [
       "                           V1      \n",
       "lift_ pred_seg_rf_ALL      5.153888\n",
       "lift_ pred_agg_rf_ALL      5.091793\n",
       "lift_ pred_seg2_rf_ALL     5.046571\n",
       "lift_ pred_meta_auc        5.015974\n",
       "lift_ pred_seg2_glm_ALL    4.993251\n",
       "lift_ pred_meta_l10        4.951629\n",
       "lift_ pred_agg_rf          4.939480\n",
       "lift_ pred_seg_glm_ALL     4.919906\n",
       "lift_ pred_seg_rf_ALL_fb   4.914507\n",
       "lift_ pred_agg_rf_ALL_fb   4.866586\n",
       "lift_ pred_agg_rf_fb       4.857136\n",
       "lift_ pred_agg_glm_ALL     4.836438\n",
       "lift_ pred_seg2_rf_ALL_fb  4.836213\n",
       "lift_ pred_seg2_glm_ALL_fb 4.799316\n",
       "lift_ pred_seg_glm_ALL_fb  4.668152\n",
       "lift_ pred_agg_glm_fb      4.667252\n",
       "lift_ pred_agg_glm_ALL_fb  4.646103\n",
       "lift_ pred_agg_glm         4.546661"
      ]
     },
     "metadata": {},
     "output_type": "display_data"
    }
   ],
   "source": [
    "lift_df_10 <- lift_df %>% filter(P==0.1) %>% select(contains(\"lift_\")) %>% t\n",
    "df <- as.data.frame(as.data.frame(lift_df_10))\n",
    "df %>% arrange(desc(V1))"
   ]
  },
  {
   "cell_type": "code",
   "execution_count": 49,
   "metadata": {},
   "outputs": [
    {
     "data": {
      "text/html": [
       "<strong>lift_ pred_seg_rf_ALL:</strong> 0.0738796174760924"
      ],
      "text/latex": [
       "\\textbf{lift\\textbackslash{}\\_ pred\\textbackslash{}\\_seg\\textbackslash{}\\_rf\\textbackslash{}\\_ALL:} 0.0738796174760924"
      ],
      "text/markdown": [
       "**lift_ pred_seg_rf_ALL:** 0.0738796174760924"
      ],
      "text/plain": [
       "lift_ pred_seg_rf_ALL \n",
       "           0.07387962 "
      ]
     },
     "metadata": {},
     "output_type": "display_data"
    }
   ],
   "source": [
    "# 7.4% improvement in performance of  agg_rf over backfilled seg2_glm\n",
    "(lift_df_10['lift_ pred_seg_rf_ALL',]-lift_df_10['lift_ pred_seg2_glm_ALL_fb',])/lift_df_10['lift_ pred_seg2_glm_ALL_fb',]"
   ]
  },
  {
   "cell_type": "code",
   "execution_count": 50,
   "metadata": {},
   "outputs": [
    {
     "data": {
      "text/html": [
       "<strong>lift_ pred_meta_auc:</strong> 0.045143446465404"
      ],
      "text/latex": [
       "\\textbf{lift\\textbackslash{}\\_ pred\\textbackslash{}\\_meta\\textbackslash{}\\_auc:} 0.045143446465404"
      ],
      "text/markdown": [
       "**lift_ pred_meta_auc:** 0.045143446465404"
      ],
      "text/plain": [
       "lift_ pred_meta_auc \n",
       "         0.04514345 "
      ]
     },
     "metadata": {},
     "output_type": "display_data"
    },
    {
     "data": {
      "text/html": [
       "<strong>lift_ pred_meta_l10:</strong> 0.0317363585224078"
      ],
      "text/latex": [
       "\\textbf{lift\\textbackslash{}\\_ pred\\textbackslash{}\\_meta\\textbackslash{}\\_l10:} 0.0317363585224078"
      ],
      "text/markdown": [
       "**lift_ pred_meta_l10:** 0.0317363585224078"
      ],
      "text/plain": [
       "lift_ pred_meta_l10 \n",
       "         0.03173636 "
      ]
     },
     "metadata": {},
     "output_type": "display_data"
    }
   ],
   "source": [
    "# 4.5%-3.2% improvement in performance of meta based predictions NAs backfilled with agg_rf over backfilled seg2_glm\n",
    "(lift_df_10['lift_ pred_meta_auc',]-lift_df_10['lift_ pred_seg2_glm_ALL_fb',])/lift_df_10['lift_ pred_seg2_glm_ALL_fb',]\n",
    "(lift_df_10['lift_ pred_meta_l10',]-lift_df_10['lift_ pred_seg2_glm_ALL_fb',])/lift_df_10['lift_ pred_seg2_glm_ALL_fb',]"
   ]
  },
  {
   "cell_type": "code",
   "execution_count": 51,
   "metadata": {},
   "outputs": [
    {
     "data": {
      "text/html": [
       "<strong>lift_ pred_seg2_glm_ALL:</strong> 0.0404087755484719"
      ],
      "text/latex": [
       "\\textbf{lift\\textbackslash{}\\_ pred\\textbackslash{}\\_seg2\\textbackslash{}\\_glm\\textbackslash{}\\_ALL:} 0.0404087755484719"
      ],
      "text/markdown": [
       "**lift_ pred_seg2_glm_ALL:** 0.0404087755484719"
      ],
      "text/plain": [
       "lift_ pred_seg2_glm_ALL \n",
       "             0.04040878 "
      ]
     },
     "metadata": {},
     "output_type": "display_data"
    }
   ],
   "source": [
    "# 4% improvement in performance of agg_rf over backfilled seg2_glm\n",
    "(lift_df_10['lift_ pred_seg2_glm_ALL',]-lift_df_10['lift_ pred_seg2_glm_ALL_fb',])/lift_df_10['lift_ pred_seg2_glm_ALL_fb',]"
   ]
  },
  {
   "cell_type": "code",
   "execution_count": 52,
   "metadata": {},
   "outputs": [
    {
     "data": {
      "text/html": [
       "<table>\n",
       "<caption>A data.frame: 19 × 1</caption>\n",
       "<thead>\n",
       "\t<tr><th></th><th scope=col>V1</th></tr>\n",
       "\t<tr><th></th><th scope=col>&lt;dbl&gt;</th></tr>\n",
       "</thead>\n",
       "<tbody>\n",
       "\t<tr><th scope=row>pred_seg_rf_ALL</th><td>0.8435340</td></tr>\n",
       "\t<tr><th scope=row>pred_agg_rf_ALL</th><td>0.8409062</td></tr>\n",
       "\t<tr><th scope=row>pred_agg_rf</th><td>0.8385327</td></tr>\n",
       "\t<tr><th scope=row>pred_seg2_rf_ALL</th><td>0.8372750</td></tr>\n",
       "\t<tr><th scope=row>pred_meta_auc</th><td>0.8357564</td></tr>\n",
       "\t<tr><th scope=row>pred_seg_rf_ALL_fb</th><td>0.8355179</td></tr>\n",
       "\t<tr><th scope=row>pred_agg_rf_ALL_fb</th><td>0.8332613</td></tr>\n",
       "\t<tr><th scope=row>pred_agg_rf_fb</th><td>0.8332456</td></tr>\n",
       "\t<tr><th scope=row>pred_seg2_rf_ALL_fb</th><td>0.8317832</td></tr>\n",
       "\t<tr><th scope=row>pred_seg2_glm_ALL_fb</th><td>0.8317225</td></tr>\n",
       "\t<tr><th scope=row>pred_seg2_glm_ALL</th><td>0.8303366</td></tr>\n",
       "\t<tr><th scope=row>pred_meta_l10</th><td>0.8293422</td></tr>\n",
       "\t<tr><th scope=row>pred_seg_glm_ALL</th><td>0.8271508</td></tr>\n",
       "\t<tr><th scope=row>pred_agg_glm_ALL</th><td>0.8261654</td></tr>\n",
       "\t<tr><th scope=row>pred_seg_glm_ALL_fb</th><td>0.8199109</td></tr>\n",
       "\t<tr><th scope=row>pred_agg_glm_fb</th><td>0.8188332</td></tr>\n",
       "\t<tr><th scope=row>pred_agg_glm_ALL_fb</th><td>0.8187657</td></tr>\n",
       "\t<tr><th scope=row>pred_l10_bf</th><td>0.7783747</td></tr>\n",
       "\t<tr><th scope=row>pred_agg_glm</th><td>0.7783747</td></tr>\n",
       "</tbody>\n",
       "</table>\n"
      ],
      "text/latex": [
       "A data.frame: 19 × 1\n",
       "\\begin{tabular}{r|l}\n",
       "  & V1\\\\\n",
       "  & <dbl>\\\\\n",
       "\\hline\n",
       "\tpred\\_seg\\_rf\\_ALL & 0.8435340\\\\\n",
       "\tpred\\_agg\\_rf\\_ALL & 0.8409062\\\\\n",
       "\tpred\\_agg\\_rf & 0.8385327\\\\\n",
       "\tpred\\_seg2\\_rf\\_ALL & 0.8372750\\\\\n",
       "\tpred\\_meta\\_auc & 0.8357564\\\\\n",
       "\tpred\\_seg\\_rf\\_ALL\\_fb & 0.8355179\\\\\n",
       "\tpred\\_agg\\_rf\\_ALL\\_fb & 0.8332613\\\\\n",
       "\tpred\\_agg\\_rf\\_fb & 0.8332456\\\\\n",
       "\tpred\\_seg2\\_rf\\_ALL\\_fb & 0.8317832\\\\\n",
       "\tpred\\_seg2\\_glm\\_ALL\\_fb & 0.8317225\\\\\n",
       "\tpred\\_seg2\\_glm\\_ALL & 0.8303366\\\\\n",
       "\tpred\\_meta\\_l10 & 0.8293422\\\\\n",
       "\tpred\\_seg\\_glm\\_ALL & 0.8271508\\\\\n",
       "\tpred\\_agg\\_glm\\_ALL & 0.8261654\\\\\n",
       "\tpred\\_seg\\_glm\\_ALL\\_fb & 0.8199109\\\\\n",
       "\tpred\\_agg\\_glm\\_fb & 0.8188332\\\\\n",
       "\tpred\\_agg\\_glm\\_ALL\\_fb & 0.8187657\\\\\n",
       "\tpred\\_l10\\_bf & 0.7783747\\\\\n",
       "\tpred\\_agg\\_glm & 0.7783747\\\\\n",
       "\\end{tabular}\n"
      ],
      "text/markdown": [
       "\n",
       "A data.frame: 19 × 1\n",
       "\n",
       "| <!--/--> | V1 &lt;dbl&gt; |\n",
       "|---|---|\n",
       "| pred_seg_rf_ALL | 0.8435340 |\n",
       "| pred_agg_rf_ALL | 0.8409062 |\n",
       "| pred_agg_rf | 0.8385327 |\n",
       "| pred_seg2_rf_ALL | 0.8372750 |\n",
       "| pred_meta_auc | 0.8357564 |\n",
       "| pred_seg_rf_ALL_fb | 0.8355179 |\n",
       "| pred_agg_rf_ALL_fb | 0.8332613 |\n",
       "| pred_agg_rf_fb | 0.8332456 |\n",
       "| pred_seg2_rf_ALL_fb | 0.8317832 |\n",
       "| pred_seg2_glm_ALL_fb | 0.8317225 |\n",
       "| pred_seg2_glm_ALL | 0.8303366 |\n",
       "| pred_meta_l10 | 0.8293422 |\n",
       "| pred_seg_glm_ALL | 0.8271508 |\n",
       "| pred_agg_glm_ALL | 0.8261654 |\n",
       "| pred_seg_glm_ALL_fb | 0.8199109 |\n",
       "| pred_agg_glm_fb | 0.8188332 |\n",
       "| pred_agg_glm_ALL_fb | 0.8187657 |\n",
       "| pred_l10_bf | 0.7783747 |\n",
       "| pred_agg_glm | 0.7783747 |\n",
       "\n"
      ],
      "text/plain": [
       "                     V1       \n",
       "pred_seg_rf_ALL      0.8435340\n",
       "pred_agg_rf_ALL      0.8409062\n",
       "pred_agg_rf          0.8385327\n",
       "pred_seg2_rf_ALL     0.8372750\n",
       "pred_meta_auc        0.8357564\n",
       "pred_seg_rf_ALL_fb   0.8355179\n",
       "pred_agg_rf_ALL_fb   0.8332613\n",
       "pred_agg_rf_fb       0.8332456\n",
       "pred_seg2_rf_ALL_fb  0.8317832\n",
       "pred_seg2_glm_ALL_fb 0.8317225\n",
       "pred_seg2_glm_ALL    0.8303366\n",
       "pred_meta_l10        0.8293422\n",
       "pred_seg_glm_ALL     0.8271508\n",
       "pred_agg_glm_ALL     0.8261654\n",
       "pred_seg_glm_ALL_fb  0.8199109\n",
       "pred_agg_glm_fb      0.8188332\n",
       "pred_agg_glm_ALL_fb  0.8187657\n",
       "pred_l10_bf          0.7783747\n",
       "pred_agg_glm         0.7783747"
      ]
     },
     "metadata": {},
     "output_type": "display_data"
    }
   ],
   "source": [
    "df <- as.data.frame(as.data.frame(as.data.frame(auc_list)) %>% t())\n",
    "df %>% arrange(desc(V1))"
   ]
  },
  {
   "cell_type": "code",
   "execution_count": 54,
   "metadata": {},
   "outputs": [
    {
     "data": {
      "text/html": [
       "0.835756389488841"
      ],
      "text/latex": [
       "0.835756389488841"
      ],
      "text/markdown": [
       "0.835756389488841"
      ],
      "text/plain": [
       "[1] 0.8357564"
      ]
     },
     "metadata": {},
     "output_type": "display_data"
    },
    {
     "data": {
      "text/html": [
       "0.82934215262779"
      ],
      "text/latex": [
       "0.82934215262779"
      ],
      "text/markdown": [
       "0.82934215262779"
      ],
      "text/plain": [
       "[1] 0.8293422"
      ]
     },
     "metadata": {},
     "output_type": "display_data"
    },
    {
     "data": {
      "text/html": [
       "0.831722462203024"
      ],
      "text/latex": [
       "0.831722462203024"
      ],
      "text/markdown": [
       "0.831722462203024"
      ],
      "text/plain": [
       "[1] 0.8317225"
      ]
     },
     "metadata": {},
     "output_type": "display_data"
    },
    {
     "name": "stdout",
     "output_type": "stream",
     "text": [
      "\n"
     ]
    },
    {
     "data": {
      "text/html": [
       "0.0142013178822996"
      ],
      "text/latex": [
       "0.0142013178822996"
      ],
      "text/markdown": [
       "0.0142013178822996"
      ],
      "text/plain": [
       "[1] 0.01420132"
      ]
     },
     "metadata": {},
     "output_type": "display_data"
    },
    {
     "data": {
      "text/html": [
       "0.00485008818342159"
      ],
      "text/latex": [
       "0.00485008818342159"
      ],
      "text/markdown": [
       "0.00485008818342159"
      ],
      "text/plain": [
       "[1] 0.004850088"
      ]
     },
     "metadata": {},
     "output_type": "display_data"
    },
    {
     "data": {
      "text/html": [
       "-0.00286190367989954"
      ],
      "text/latex": [
       "-0.00286190367989954"
      ],
      "text/markdown": [
       "-0.00286190367989954"
      ],
      "text/plain": [
       "[1] -0.002861904"
      ]
     },
     "metadata": {},
     "output_type": "display_data"
    }
   ],
   "source": [
    "# 1.4-.5% improvement in performance of meta_bf over seg2_glm_fb - auc\n",
    "auc_list$pred_meta_auc\n",
    "auc_list$pred_meta_l10\n",
    "auc_list$pred_seg2_glm_ALL_fb\n",
    "cat(\"\\n\")\n",
    "(auc_list$pred_seg_rf_ALL-auc_list$pred_seg2_glm_ALL_fb)/(auc_list$pred_seg2_glm_ALL_fb)\n",
    "(auc_list$pred_meta_auc-auc_list$pred_seg2_glm_ALL_fb)/(auc_list$pred_seg2_glm_ALL_fb)\n",
    "(auc_list$pred_meta_l10-auc_list$pred_seg2_glm_ALL_fb)/(auc_list$pred_seg2_glm_ALL_fb)"
   ]
  },
  {
   "cell_type": "markdown",
   "metadata": {},
   "source": [
    "# Radix metric:\n",
    "## aggregate probabilities at the tld-reseller level... over day or month\n",
    "Agg number of of domains at tld-registrar level. At a day level or month level. Side by side — sum of prob and count of actual"
   ]
  },
  {
   "cell_type": "code",
   "execution_count": 37,
   "metadata": {},
   "outputs": [],
   "source": [
    "# preds_all <- read.csv('../../data/output/deliv_20201218/20200902_20201008_preds_all.csv')"
   ]
  },
  {
   "cell_type": "code",
   "execution_count": 56,
   "metadata": {},
   "outputs": [
    {
     "data": {
      "text/html": [
       "<style>\n",
       ".list-inline {list-style: none; margin:0; padding: 0}\n",
       ".list-inline>li {display: inline-block}\n",
       ".list-inline>li:not(:last-child)::after {content: \"\\00b7\"; padding: 0 .5ex}\n",
       "</style>\n",
       "<ol class=list-inline><li>10476180</li><li>40</li></ol>\n"
      ],
      "text/latex": [
       "\\begin{enumerate*}\n",
       "\\item 10476180\n",
       "\\item 40\n",
       "\\end{enumerate*}\n"
      ],
      "text/markdown": [
       "1. 10476180\n",
       "2. 40\n",
       "\n",
       "\n"
      ],
      "text/plain": [
       "[1] 10476180       40"
      ]
     },
     "metadata": {},
     "output_type": "display_data"
    },
    {
     "name": "stdout",
     "output_type": "stream",
     "text": [
      "tibble [10,476,180 × 40] (S3: tbl_df/tbl/data.frame)\n",
      " $ tld_registrar_index   : chr [1:10476180] \"sitegmo\" \"sitegmo\" \"sitegmo\" \"sitegmo\" ...\n",
      " $ reseller              : chr [1:10476180] \"GMO\" \"GMO\" \"GMO\" \"GMO\" ...\n",
      " $ reseller_country      : chr [1:10476180] \"Japan\" \"Japan\" \"Japan\" \"Japan\" ...\n",
      " $ domain_id             : int [1:10476180] 80776294 80777429 80765189 80771924 80766104 80774849 80776029 80770934 80777239 80775204 ...\n",
      " $ renewed_count         : int [1:10476180] 1 1 1 1 1 1 1 1 1 1 ...\n",
      " $ renewal_type          : chr [1:10476180] \"FirstTime\" \"FirstTime\" \"FirstTime\" \"FirstTime\" ...\n",
      " $ expiry_date           : chr [1:10476180] \"2019-10-28\" \"2019-10-28\" \"2019-10-28\" \"2019-10-28\" ...\n",
      " $ creation_date         : chr [1:10476180] \"2018-10-28\" \"2018-10-28\" \"2018-10-28\" \"2018-10-28\" ...\n",
      " $ creation_time         : chr [1:10476180] \"2018-10-28 10:41:52\" \"2018-10-28 10:55:12\" \"2018-10-28 07:53:01\" \"2018-10-28 09:46:30\" ...\n",
      " $ tld                   : chr [1:10476180] \"site\" \"site\" \"site\" \"site\" ...\n",
      " $ domain                : chr [1:10476180] \"wvxmdn.site\" \"nbwvgs.site\" \"vouata.site\" \"hzeksw.site\" ...\n",
      " $ registrar             : chr [1:10476180] \"GMO\" \"GMO\" \"GMO\" \"GMO\" ...\n",
      " $ reg_period            : int [1:10476180] 1 1 1 1 1 1 1 1 1 1 ...\n",
      " $ reg_revenue           : num [1:10476180] 0.1 0.1 0.1 0.1 0.1 0.1 0.1 0.1 0.1 0.1 ...\n",
      " $ reg_arpt              : num [1:10476180] 0.1 0.1 0.1 0.1 0.1 0.1 0.1 0.1 0.1 0.1 ...\n",
      " $ renewal_id            : int [1:10476180] 244667715 244668875 244656510 244663525 244657545 244666200 244667475 244662525 244668680 244666565 ...\n",
      " $ renew_type            : chr [1:10476180] \"auto-renewal\" \"auto-renewal\" \"auto-renewal\" \"auto-renewal\" ...\n",
      " $ autorenew_type        : chr [1:10476180] \"unrealized\" \"unrealized\" \"unrealized\" \"unrealized\" ...\n",
      " $ renewal_status        : chr [1:10476180] \"Not Renewd\" \"Not Renewd\" \"Not Renewd\" \"Not Renewd\" ...\n",
      " $ renew_period          : int [1:10476180] 1 1 1 1 1 1 1 1 1 1 ...\n",
      " $ renew_revenue         : num [1:10476180] 20 20 20 20 20 20 20 20 20 20 ...\n",
      " $ renew_date            : chr [1:10476180] \"2019-10-28\" \"2019-10-28\" \"2019-10-28\" \"2019-10-28\" ...\n",
      " $ renew_arpt            : num [1:10476180] 20 20 20 20 20 20 20 20 20 20 ...\n",
      " $ gibb_score            : num [1:10476180] 0.04 0.08 6.33 0.5 0.24 1.1 0.53 1.04 0.04 0.42 ...\n",
      " $ pattern               : chr [1:10476180] \"wxmnd\" \"nbws\" \"vouata\" \"zeks\" ...\n",
      " $ pattern_domain_count  : int [1:10476180] 2 2 1 2 1 2 1 2 1 2 ...\n",
      " $ day_domains           : int [1:10476180] 931 931 931 931 931 931 931 931 931 931 ...\n",
      " $ sld_length            : int [1:10476180] 6 6 6 6 6 6 6 6 6 6 ...\n",
      " $ sld_type              : chr [1:10476180] \"l\" \"l\" \"l\" \"l\" ...\n",
      " $ sld_type2             : chr [1:10476180] \"6l\" \"6l\" \"6l\" \"6l\" ...\n",
      " $ predicted_renewal_rate: num [1:10476180] 0 0 0 0 0 0 0 0 0 0 ...\n",
      " $ log_reg_arpt          : num [1:10476180] -2.3 -2.3 -2.3 -2.3 -2.3 ...\n",
      " $ region                : chr [1:10476180] \"Non China\" \"Non China\" \"Non China\" \"Non China\" ...\n",
      " $ reseller_geo          : chr [1:10476180] \"Japan\" \"Japan\" \"Japan\" \"Japan\" ...\n",
      " $ reg_arpt_org          : num [1:10476180] 0.1 0.1 0.1 0.1 0.1 0.1 0.1 0.1 0.1 0.1 ...\n",
      " $ reg_arpt_slab         : chr [1:10476180] \"(0,0.3]\" \"(0,0.3]\" \"(0,0.3]\" \"(0,0.3]\" ...\n",
      " $ l10_win_04_pred_model : chr [1:10476180] \"seg2_glm\" \"seg2_glm\" \"seg2_glm\" \"seg2_glm\" ...\n",
      " $ auc_win_04_pred_model : chr [1:10476180] \"agg_rf_ALL\" \"agg_rf_ALL\" \"agg_rf_ALL\" \"agg_rf_ALL\" ...\n",
      " $ model                 : chr [1:10476180] \"pred_seg_glm_ALL_fb\" \"pred_seg_glm_ALL_fb\" \"pred_seg_rf_ALL_fb\" \"pred_seg_rf_ALL_fb\" ...\n",
      " $ predicted             : num [1:10476180] 0.033 0.033 0.12956 0.00425 0.048 ...\n"
     ]
    },
    {
     "data": {
      "text/html": [
       "<table>\n",
       "<caption>A tibble: 6 × 40</caption>\n",
       "<thead>\n",
       "\t<tr><th scope=col>tld_registrar_index</th><th scope=col>reseller</th><th scope=col>reseller_country</th><th scope=col>domain_id</th><th scope=col>renewed_count</th><th scope=col>renewal_type</th><th scope=col>expiry_date</th><th scope=col>creation_date</th><th scope=col>creation_time</th><th scope=col>tld</th><th scope=col>domain</th><th scope=col>registrar</th><th scope=col>reg_period</th><th scope=col>reg_revenue</th><th scope=col>reg_arpt</th><th scope=col>renewal_id</th><th scope=col>renew_type</th><th scope=col>autorenew_type</th><th scope=col>renewal_status</th><th scope=col>renew_period</th><th scope=col>renew_revenue</th><th scope=col>renew_date</th><th scope=col>renew_arpt</th><th scope=col>gibb_score</th><th scope=col>pattern</th><th scope=col>pattern_domain_count</th><th scope=col>day_domains</th><th scope=col>sld_length</th><th scope=col>sld_type</th><th scope=col>sld_type2</th><th scope=col>predicted_renewal_rate</th><th scope=col>log_reg_arpt</th><th scope=col>region</th><th scope=col>reseller_geo</th><th scope=col>reg_arpt_org</th><th scope=col>reg_arpt_slab</th><th scope=col>l10_win_04_pred_model</th><th scope=col>auc_win_04_pred_model</th><th scope=col>model</th><th scope=col>predicted</th></tr>\n",
       "\t<tr><th scope=col>&lt;chr&gt;</th><th scope=col>&lt;chr&gt;</th><th scope=col>&lt;chr&gt;</th><th scope=col>&lt;int&gt;</th><th scope=col>&lt;int&gt;</th><th scope=col>&lt;chr&gt;</th><th scope=col>&lt;chr&gt;</th><th scope=col>&lt;chr&gt;</th><th scope=col>&lt;chr&gt;</th><th scope=col>&lt;chr&gt;</th><th scope=col>&lt;chr&gt;</th><th scope=col>&lt;chr&gt;</th><th scope=col>&lt;int&gt;</th><th scope=col>&lt;dbl&gt;</th><th scope=col>&lt;dbl&gt;</th><th scope=col>&lt;int&gt;</th><th scope=col>&lt;chr&gt;</th><th scope=col>&lt;chr&gt;</th><th scope=col>&lt;chr&gt;</th><th scope=col>&lt;int&gt;</th><th scope=col>&lt;dbl&gt;</th><th scope=col>&lt;chr&gt;</th><th scope=col>&lt;dbl&gt;</th><th scope=col>&lt;dbl&gt;</th><th scope=col>&lt;chr&gt;</th><th scope=col>&lt;int&gt;</th><th scope=col>&lt;int&gt;</th><th scope=col>&lt;int&gt;</th><th scope=col>&lt;chr&gt;</th><th scope=col>&lt;chr&gt;</th><th scope=col>&lt;dbl&gt;</th><th scope=col>&lt;dbl&gt;</th><th scope=col>&lt;chr&gt;</th><th scope=col>&lt;chr&gt;</th><th scope=col>&lt;dbl&gt;</th><th scope=col>&lt;chr&gt;</th><th scope=col>&lt;chr&gt;</th><th scope=col>&lt;chr&gt;</th><th scope=col>&lt;chr&gt;</th><th scope=col>&lt;dbl&gt;</th></tr>\n",
       "</thead>\n",
       "<tbody>\n",
       "\t<tr><td>sitegmo</td><td>GMO</td><td>Japan</td><td>80776294</td><td>1</td><td>FirstTime</td><td>2019-10-28</td><td>2018-10-28</td><td>2018-10-28 10:41:52</td><td>site</td><td>wvxmdn.site</td><td>GMO</td><td>1</td><td>0.1</td><td>0.1</td><td>244667715</td><td>auto-renewal</td><td>unrealized</td><td>Not Renewd</td><td>1</td><td>20</td><td>2019-10-28</td><td>20</td><td>0.04</td><td>wxmnd </td><td>2</td><td>931</td><td>6</td><td>l</td><td>6l</td><td>0</td><td>-2.30259</td><td>Non China</td><td>Japan</td><td>0.1</td><td>(0,0.3]</td><td>seg2_glm</td><td>agg_rf_ALL</td><td>pred_seg_glm_ALL_fb</td><td>0.03300</td></tr>\n",
       "\t<tr><td>sitegmo</td><td>GMO</td><td>Japan</td><td>80777429</td><td>1</td><td>FirstTime</td><td>2019-10-28</td><td>2018-10-28</td><td>2018-10-28 10:55:12</td><td>site</td><td>nbwvgs.site</td><td>GMO</td><td>1</td><td>0.1</td><td>0.1</td><td>244668875</td><td>auto-renewal</td><td>unrealized</td><td>Not Renewd</td><td>1</td><td>20</td><td>2019-10-28</td><td>20</td><td>0.08</td><td>nbws  </td><td>2</td><td>931</td><td>6</td><td>l</td><td>6l</td><td>0</td><td>-2.30259</td><td>Non China</td><td>Japan</td><td>0.1</td><td>(0,0.3]</td><td>seg2_glm</td><td>agg_rf_ALL</td><td>pred_seg_glm_ALL_fb</td><td>0.03300</td></tr>\n",
       "\t<tr><td>sitegmo</td><td>GMO</td><td>Japan</td><td>80765189</td><td>1</td><td>FirstTime</td><td>2019-10-28</td><td>2018-10-28</td><td>2018-10-28 07:53:01</td><td>site</td><td>vouata.site</td><td>GMO</td><td>1</td><td>0.1</td><td>0.1</td><td>244656510</td><td>auto-renewal</td><td>unrealized</td><td>Not Renewd</td><td>1</td><td>20</td><td>2019-10-28</td><td>20</td><td>6.33</td><td>vouata</td><td>1</td><td>931</td><td>6</td><td>l</td><td>6l</td><td>0</td><td>-2.30259</td><td>Non China</td><td>Japan</td><td>0.1</td><td>(0,0.3]</td><td>seg2_glm</td><td>agg_rf_ALL</td><td>pred_seg_rf_ALL_fb </td><td>0.12956</td></tr>\n",
       "\t<tr><td>sitegmo</td><td>GMO</td><td>Japan</td><td>80771924</td><td>1</td><td>FirstTime</td><td>2019-10-28</td><td>2018-10-28</td><td>2018-10-28 09:46:30</td><td>site</td><td>hzeksw.site</td><td>GMO</td><td>1</td><td>0.1</td><td>0.1</td><td>244663525</td><td>auto-renewal</td><td>unrealized</td><td>Not Renewd</td><td>1</td><td>20</td><td>2019-10-28</td><td>20</td><td>0.50</td><td>zeks  </td><td>2</td><td>931</td><td>6</td><td>l</td><td>6l</td><td>0</td><td>-2.30259</td><td>Non China</td><td>Japan</td><td>0.1</td><td>(0,0.3]</td><td>seg2_glm</td><td>agg_rf_ALL</td><td>pred_seg_rf_ALL_fb </td><td>0.00425</td></tr>\n",
       "\t<tr><td>sitegmo</td><td>GMO</td><td>Japan</td><td>80766104</td><td>1</td><td>FirstTime</td><td>2019-10-28</td><td>2018-10-28</td><td>2018-10-28 08:11:02</td><td>site</td><td>qifcqx.site</td><td>GMO</td><td>1</td><td>0.1</td><td>0.1</td><td>244657545</td><td>auto-renewal</td><td>unrealized</td><td>Not Renewd</td><td>1</td><td>20</td><td>2019-10-28</td><td>20</td><td>0.24</td><td>qifcqx</td><td>1</td><td>931</td><td>6</td><td>l</td><td>6l</td><td>0</td><td>-2.30259</td><td>Non China</td><td>Japan</td><td>0.1</td><td>(0,0.3]</td><td>seg2_glm</td><td>agg_rf_ALL</td><td>pred_seg_glm_ALL_fb</td><td>0.04800</td></tr>\n",
       "\t<tr><td>sitegmo</td><td>GMO</td><td>Japan</td><td>80774849</td><td>1</td><td>FirstTime</td><td>2019-10-28</td><td>2018-10-28</td><td>2018-10-28 10:15:18</td><td>site</td><td>deinwc.site</td><td>GMO</td><td>1</td><td>0.1</td><td>0.1</td><td>244666200</td><td>auto-renewal</td><td>unrealized</td><td>Not Renewd</td><td>1</td><td>20</td><td>2019-10-28</td><td>20</td><td>1.10</td><td>dienc </td><td>2</td><td>931</td><td>6</td><td>l</td><td>6l</td><td>0</td><td>-2.30259</td><td>Non China</td><td>Japan</td><td>0.1</td><td>(0,0.3]</td><td>seg2_glm</td><td>agg_rf_ALL</td><td>pred_seg_glm_ALL_fb</td><td>0.03500</td></tr>\n",
       "</tbody>\n",
       "</table>\n"
      ],
      "text/latex": [
       "A tibble: 6 × 40\n",
       "\\begin{tabular}{llllllllllllllllllllllllllllllllllllllll}\n",
       " tld\\_registrar\\_index & reseller & reseller\\_country & domain\\_id & renewed\\_count & renewal\\_type & expiry\\_date & creation\\_date & creation\\_time & tld & domain & registrar & reg\\_period & reg\\_revenue & reg\\_arpt & renewal\\_id & renew\\_type & autorenew\\_type & renewal\\_status & renew\\_period & renew\\_revenue & renew\\_date & renew\\_arpt & gibb\\_score & pattern & pattern\\_domain\\_count & day\\_domains & sld\\_length & sld\\_type & sld\\_type2 & predicted\\_renewal\\_rate & log\\_reg\\_arpt & region & reseller\\_geo & reg\\_arpt\\_org & reg\\_arpt\\_slab & l10\\_win\\_04\\_pred\\_model & auc\\_win\\_04\\_pred\\_model & model & predicted\\\\\n",
       " <chr> & <chr> & <chr> & <int> & <int> & <chr> & <chr> & <chr> & <chr> & <chr> & <chr> & <chr> & <int> & <dbl> & <dbl> & <int> & <chr> & <chr> & <chr> & <int> & <dbl> & <chr> & <dbl> & <dbl> & <chr> & <int> & <int> & <int> & <chr> & <chr> & <dbl> & <dbl> & <chr> & <chr> & <dbl> & <chr> & <chr> & <chr> & <chr> & <dbl>\\\\\n",
       "\\hline\n",
       "\t sitegmo & GMO & Japan & 80776294 & 1 & FirstTime & 2019-10-28 & 2018-10-28 & 2018-10-28 10:41:52 & site & wvxmdn.site & GMO & 1 & 0.1 & 0.1 & 244667715 & auto-renewal & unrealized & Not Renewd & 1 & 20 & 2019-10-28 & 20 & 0.04 & wxmnd  & 2 & 931 & 6 & l & 6l & 0 & -2.30259 & Non China & Japan & 0.1 & (0,0.3{]} & seg2\\_glm & agg\\_rf\\_ALL & pred\\_seg\\_glm\\_ALL\\_fb & 0.03300\\\\\n",
       "\t sitegmo & GMO & Japan & 80777429 & 1 & FirstTime & 2019-10-28 & 2018-10-28 & 2018-10-28 10:55:12 & site & nbwvgs.site & GMO & 1 & 0.1 & 0.1 & 244668875 & auto-renewal & unrealized & Not Renewd & 1 & 20 & 2019-10-28 & 20 & 0.08 & nbws   & 2 & 931 & 6 & l & 6l & 0 & -2.30259 & Non China & Japan & 0.1 & (0,0.3{]} & seg2\\_glm & agg\\_rf\\_ALL & pred\\_seg\\_glm\\_ALL\\_fb & 0.03300\\\\\n",
       "\t sitegmo & GMO & Japan & 80765189 & 1 & FirstTime & 2019-10-28 & 2018-10-28 & 2018-10-28 07:53:01 & site & vouata.site & GMO & 1 & 0.1 & 0.1 & 244656510 & auto-renewal & unrealized & Not Renewd & 1 & 20 & 2019-10-28 & 20 & 6.33 & vouata & 1 & 931 & 6 & l & 6l & 0 & -2.30259 & Non China & Japan & 0.1 & (0,0.3{]} & seg2\\_glm & agg\\_rf\\_ALL & pred\\_seg\\_rf\\_ALL\\_fb  & 0.12956\\\\\n",
       "\t sitegmo & GMO & Japan & 80771924 & 1 & FirstTime & 2019-10-28 & 2018-10-28 & 2018-10-28 09:46:30 & site & hzeksw.site & GMO & 1 & 0.1 & 0.1 & 244663525 & auto-renewal & unrealized & Not Renewd & 1 & 20 & 2019-10-28 & 20 & 0.50 & zeks   & 2 & 931 & 6 & l & 6l & 0 & -2.30259 & Non China & Japan & 0.1 & (0,0.3{]} & seg2\\_glm & agg\\_rf\\_ALL & pred\\_seg\\_rf\\_ALL\\_fb  & 0.00425\\\\\n",
       "\t sitegmo & GMO & Japan & 80766104 & 1 & FirstTime & 2019-10-28 & 2018-10-28 & 2018-10-28 08:11:02 & site & qifcqx.site & GMO & 1 & 0.1 & 0.1 & 244657545 & auto-renewal & unrealized & Not Renewd & 1 & 20 & 2019-10-28 & 20 & 0.24 & qifcqx & 1 & 931 & 6 & l & 6l & 0 & -2.30259 & Non China & Japan & 0.1 & (0,0.3{]} & seg2\\_glm & agg\\_rf\\_ALL & pred\\_seg\\_glm\\_ALL\\_fb & 0.04800\\\\\n",
       "\t sitegmo & GMO & Japan & 80774849 & 1 & FirstTime & 2019-10-28 & 2018-10-28 & 2018-10-28 10:15:18 & site & deinwc.site & GMO & 1 & 0.1 & 0.1 & 244666200 & auto-renewal & unrealized & Not Renewd & 1 & 20 & 2019-10-28 & 20 & 1.10 & dienc  & 2 & 931 & 6 & l & 6l & 0 & -2.30259 & Non China & Japan & 0.1 & (0,0.3{]} & seg2\\_glm & agg\\_rf\\_ALL & pred\\_seg\\_glm\\_ALL\\_fb & 0.03500\\\\\n",
       "\\end{tabular}\n"
      ],
      "text/markdown": [
       "\n",
       "A tibble: 6 × 40\n",
       "\n",
       "| tld_registrar_index &lt;chr&gt; | reseller &lt;chr&gt; | reseller_country &lt;chr&gt; | domain_id &lt;int&gt; | renewed_count &lt;int&gt; | renewal_type &lt;chr&gt; | expiry_date &lt;chr&gt; | creation_date &lt;chr&gt; | creation_time &lt;chr&gt; | tld &lt;chr&gt; | domain &lt;chr&gt; | registrar &lt;chr&gt; | reg_period &lt;int&gt; | reg_revenue &lt;dbl&gt; | reg_arpt &lt;dbl&gt; | renewal_id &lt;int&gt; | renew_type &lt;chr&gt; | autorenew_type &lt;chr&gt; | renewal_status &lt;chr&gt; | renew_period &lt;int&gt; | renew_revenue &lt;dbl&gt; | renew_date &lt;chr&gt; | renew_arpt &lt;dbl&gt; | gibb_score &lt;dbl&gt; | pattern &lt;chr&gt; | pattern_domain_count &lt;int&gt; | day_domains &lt;int&gt; | sld_length &lt;int&gt; | sld_type &lt;chr&gt; | sld_type2 &lt;chr&gt; | predicted_renewal_rate &lt;dbl&gt; | log_reg_arpt &lt;dbl&gt; | region &lt;chr&gt; | reseller_geo &lt;chr&gt; | reg_arpt_org &lt;dbl&gt; | reg_arpt_slab &lt;chr&gt; | l10_win_04_pred_model &lt;chr&gt; | auc_win_04_pred_model &lt;chr&gt; | model &lt;chr&gt; | predicted &lt;dbl&gt; |\n",
       "|---|---|---|---|---|---|---|---|---|---|---|---|---|---|---|---|---|---|---|---|---|---|---|---|---|---|---|---|---|---|---|---|---|---|---|---|---|---|---|---|\n",
       "| sitegmo | GMO | Japan | 80776294 | 1 | FirstTime | 2019-10-28 | 2018-10-28 | 2018-10-28 10:41:52 | site | wvxmdn.site | GMO | 1 | 0.1 | 0.1 | 244667715 | auto-renewal | unrealized | Not Renewd | 1 | 20 | 2019-10-28 | 20 | 0.04 | wxmnd  | 2 | 931 | 6 | l | 6l | 0 | -2.30259 | Non China | Japan | 0.1 | (0,0.3] | seg2_glm | agg_rf_ALL | pred_seg_glm_ALL_fb | 0.03300 |\n",
       "| sitegmo | GMO | Japan | 80777429 | 1 | FirstTime | 2019-10-28 | 2018-10-28 | 2018-10-28 10:55:12 | site | nbwvgs.site | GMO | 1 | 0.1 | 0.1 | 244668875 | auto-renewal | unrealized | Not Renewd | 1 | 20 | 2019-10-28 | 20 | 0.08 | nbws   | 2 | 931 | 6 | l | 6l | 0 | -2.30259 | Non China | Japan | 0.1 | (0,0.3] | seg2_glm | agg_rf_ALL | pred_seg_glm_ALL_fb | 0.03300 |\n",
       "| sitegmo | GMO | Japan | 80765189 | 1 | FirstTime | 2019-10-28 | 2018-10-28 | 2018-10-28 07:53:01 | site | vouata.site | GMO | 1 | 0.1 | 0.1 | 244656510 | auto-renewal | unrealized | Not Renewd | 1 | 20 | 2019-10-28 | 20 | 6.33 | vouata | 1 | 931 | 6 | l | 6l | 0 | -2.30259 | Non China | Japan | 0.1 | (0,0.3] | seg2_glm | agg_rf_ALL | pred_seg_rf_ALL_fb  | 0.12956 |\n",
       "| sitegmo | GMO | Japan | 80771924 | 1 | FirstTime | 2019-10-28 | 2018-10-28 | 2018-10-28 09:46:30 | site | hzeksw.site | GMO | 1 | 0.1 | 0.1 | 244663525 | auto-renewal | unrealized | Not Renewd | 1 | 20 | 2019-10-28 | 20 | 0.50 | zeks   | 2 | 931 | 6 | l | 6l | 0 | -2.30259 | Non China | Japan | 0.1 | (0,0.3] | seg2_glm | agg_rf_ALL | pred_seg_rf_ALL_fb  | 0.00425 |\n",
       "| sitegmo | GMO | Japan | 80766104 | 1 | FirstTime | 2019-10-28 | 2018-10-28 | 2018-10-28 08:11:02 | site | qifcqx.site | GMO | 1 | 0.1 | 0.1 | 244657545 | auto-renewal | unrealized | Not Renewd | 1 | 20 | 2019-10-28 | 20 | 0.24 | qifcqx | 1 | 931 | 6 | l | 6l | 0 | -2.30259 | Non China | Japan | 0.1 | (0,0.3] | seg2_glm | agg_rf_ALL | pred_seg_glm_ALL_fb | 0.04800 |\n",
       "| sitegmo | GMO | Japan | 80774849 | 1 | FirstTime | 2019-10-28 | 2018-10-28 | 2018-10-28 10:15:18 | site | deinwc.site | GMO | 1 | 0.1 | 0.1 | 244666200 | auto-renewal | unrealized | Not Renewd | 1 | 20 | 2019-10-28 | 20 | 1.10 | dienc  | 2 | 931 | 6 | l | 6l | 0 | -2.30259 | Non China | Japan | 0.1 | (0,0.3] | seg2_glm | agg_rf_ALL | pred_seg_glm_ALL_fb | 0.03500 |\n",
       "\n"
      ],
      "text/plain": [
       "  tld_registrar_index reseller reseller_country domain_id renewed_count\n",
       "1 sitegmo             GMO      Japan            80776294  1            \n",
       "2 sitegmo             GMO      Japan            80777429  1            \n",
       "3 sitegmo             GMO      Japan            80765189  1            \n",
       "4 sitegmo             GMO      Japan            80771924  1            \n",
       "5 sitegmo             GMO      Japan            80766104  1            \n",
       "6 sitegmo             GMO      Japan            80774849  1            \n",
       "  renewal_type expiry_date creation_date creation_time       tld  domain     \n",
       "1 FirstTime    2019-10-28  2018-10-28    2018-10-28 10:41:52 site wvxmdn.site\n",
       "2 FirstTime    2019-10-28  2018-10-28    2018-10-28 10:55:12 site nbwvgs.site\n",
       "3 FirstTime    2019-10-28  2018-10-28    2018-10-28 07:53:01 site vouata.site\n",
       "4 FirstTime    2019-10-28  2018-10-28    2018-10-28 09:46:30 site hzeksw.site\n",
       "5 FirstTime    2019-10-28  2018-10-28    2018-10-28 08:11:02 site qifcqx.site\n",
       "6 FirstTime    2019-10-28  2018-10-28    2018-10-28 10:15:18 site deinwc.site\n",
       "  registrar reg_period reg_revenue reg_arpt renewal_id renew_type  \n",
       "1 GMO       1          0.1         0.1      244667715  auto-renewal\n",
       "2 GMO       1          0.1         0.1      244668875  auto-renewal\n",
       "3 GMO       1          0.1         0.1      244656510  auto-renewal\n",
       "4 GMO       1          0.1         0.1      244663525  auto-renewal\n",
       "5 GMO       1          0.1         0.1      244657545  auto-renewal\n",
       "6 GMO       1          0.1         0.1      244666200  auto-renewal\n",
       "  autorenew_type renewal_status renew_period renew_revenue renew_date\n",
       "1 unrealized     Not Renewd     1            20            2019-10-28\n",
       "2 unrealized     Not Renewd     1            20            2019-10-28\n",
       "3 unrealized     Not Renewd     1            20            2019-10-28\n",
       "4 unrealized     Not Renewd     1            20            2019-10-28\n",
       "5 unrealized     Not Renewd     1            20            2019-10-28\n",
       "6 unrealized     Not Renewd     1            20            2019-10-28\n",
       "  renew_arpt gibb_score pattern pattern_domain_count day_domains sld_length\n",
       "1 20         0.04       wxmnd   2                    931         6         \n",
       "2 20         0.08       nbws    2                    931         6         \n",
       "3 20         6.33       vouata  1                    931         6         \n",
       "4 20         0.50       zeks    2                    931         6         \n",
       "5 20         0.24       qifcqx  1                    931         6         \n",
       "6 20         1.10       dienc   2                    931         6         \n",
       "  sld_type sld_type2 predicted_renewal_rate log_reg_arpt region    reseller_geo\n",
       "1 l        6l        0                      -2.30259     Non China Japan       \n",
       "2 l        6l        0                      -2.30259     Non China Japan       \n",
       "3 l        6l        0                      -2.30259     Non China Japan       \n",
       "4 l        6l        0                      -2.30259     Non China Japan       \n",
       "5 l        6l        0                      -2.30259     Non China Japan       \n",
       "6 l        6l        0                      -2.30259     Non China Japan       \n",
       "  reg_arpt_org reg_arpt_slab l10_win_04_pred_model auc_win_04_pred_model\n",
       "1 0.1          (0,0.3]       seg2_glm              agg_rf_ALL           \n",
       "2 0.1          (0,0.3]       seg2_glm              agg_rf_ALL           \n",
       "3 0.1          (0,0.3]       seg2_glm              agg_rf_ALL           \n",
       "4 0.1          (0,0.3]       seg2_glm              agg_rf_ALL           \n",
       "5 0.1          (0,0.3]       seg2_glm              agg_rf_ALL           \n",
       "6 0.1          (0,0.3]       seg2_glm              agg_rf_ALL           \n",
       "  model               predicted\n",
       "1 pred_seg_glm_ALL_fb 0.03300  \n",
       "2 pred_seg_glm_ALL_fb 0.03300  \n",
       "3 pred_seg_rf_ALL_fb  0.12956  \n",
       "4 pred_seg_rf_ALL_fb  0.00425  \n",
       "5 pred_seg_glm_ALL_fb 0.04800  \n",
       "6 pred_seg_glm_ALL_fb 0.03500  "
      ]
     },
     "metadata": {},
     "output_type": "display_data"
    }
   ],
   "source": [
    "dim(preds_df)\n",
    "str(preds_df)\n",
    "head(preds_df)"
   ]
  },
  {
   "cell_type": "code",
   "execution_count": 59,
   "metadata": {},
   "outputs": [
    {
     "name": "stdout",
     "output_type": "stream",
     "text": [
      " Date[1:582010], format: \"2019-10-28\" \"2019-10-28\" \"2019-10-28\" \"2019-10-28\" \"2019-10-28\" ...\n"
     ]
    },
    {
     "data": {
      "text/html": [
       "<table>\n",
       "<caption>A tibble: 6 × 56</caption>\n",
       "<thead>\n",
       "\t<tr><th scope=col>tld_registrar_index</th><th scope=col>reseller</th><th scope=col>reseller_country</th><th scope=col>domain_id</th><th scope=col>renewed_count</th><th scope=col>renewal_type</th><th scope=col>expiry_date</th><th scope=col>creation_date</th><th scope=col>creation_time</th><th scope=col>tld</th><th scope=col>domain</th><th scope=col>registrar</th><th scope=col>reg_period</th><th scope=col>reg_revenue</th><th scope=col>reg_arpt</th><th scope=col>renewal_id</th><th scope=col>renew_type</th><th scope=col>autorenew_type</th><th scope=col>renewal_status</th><th scope=col>renew_period</th><th scope=col>renew_revenue</th><th scope=col>renew_date</th><th scope=col>renew_arpt</th><th scope=col>gibb_score</th><th scope=col>pattern</th><th scope=col>⋯</th><th scope=col>log_reg_arpt</th><th scope=col>region</th><th scope=col>reseller_geo</th><th scope=col>reg_arpt_org</th><th scope=col>reg_arpt_slab</th><th scope=col>l10_win_04_pred_model</th><th scope=col>auc_win_04_pred_model</th><th scope=col>pred_agg_glm</th><th scope=col>pred_agg_glm_ALL</th><th scope=col>pred_agg_glm_ALL_fb</th><th scope=col>pred_agg_glm_fb</th><th scope=col>pred_agg_rf</th><th scope=col>pred_agg_rf_ALL</th><th scope=col>pred_agg_rf_ALL_fb</th><th scope=col>pred_agg_rf_fb</th><th scope=col>pred_meta_auc</th><th scope=col>pred_meta_l10</th><th scope=col>pred_seg_glm_ALL</th><th scope=col>pred_seg_glm_ALL_fb</th><th scope=col>pred_seg_rf_ALL</th><th scope=col>pred_seg_rf_ALL_fb</th><th scope=col>pred_seg2_glm_ALL</th><th scope=col>pred_seg2_glm_ALL_fb</th><th scope=col>pred_seg2_rf_ALL</th><th scope=col>pred_seg2_rf_ALL_fb</th></tr>\n",
       "\t<tr><th scope=col>&lt;chr&gt;</th><th scope=col>&lt;chr&gt;</th><th scope=col>&lt;chr&gt;</th><th scope=col>&lt;int&gt;</th><th scope=col>&lt;int&gt;</th><th scope=col>&lt;chr&gt;</th><th scope=col>&lt;date&gt;</th><th scope=col>&lt;chr&gt;</th><th scope=col>&lt;chr&gt;</th><th scope=col>&lt;chr&gt;</th><th scope=col>&lt;chr&gt;</th><th scope=col>&lt;chr&gt;</th><th scope=col>&lt;int&gt;</th><th scope=col>&lt;dbl&gt;</th><th scope=col>&lt;dbl&gt;</th><th scope=col>&lt;int&gt;</th><th scope=col>&lt;chr&gt;</th><th scope=col>&lt;chr&gt;</th><th scope=col>&lt;chr&gt;</th><th scope=col>&lt;int&gt;</th><th scope=col>&lt;dbl&gt;</th><th scope=col>&lt;chr&gt;</th><th scope=col>&lt;dbl&gt;</th><th scope=col>&lt;dbl&gt;</th><th scope=col>&lt;chr&gt;</th><th scope=col>⋯</th><th scope=col>&lt;dbl&gt;</th><th scope=col>&lt;chr&gt;</th><th scope=col>&lt;chr&gt;</th><th scope=col>&lt;dbl&gt;</th><th scope=col>&lt;chr&gt;</th><th scope=col>&lt;chr&gt;</th><th scope=col>&lt;chr&gt;</th><th scope=col>&lt;dbl&gt;</th><th scope=col>&lt;dbl&gt;</th><th scope=col>&lt;dbl&gt;</th><th scope=col>&lt;dbl&gt;</th><th scope=col>&lt;dbl&gt;</th><th scope=col>&lt;dbl&gt;</th><th scope=col>&lt;dbl&gt;</th><th scope=col>&lt;dbl&gt;</th><th scope=col>&lt;dbl&gt;</th><th scope=col>&lt;dbl&gt;</th><th scope=col>&lt;dbl&gt;</th><th scope=col>&lt;dbl&gt;</th><th scope=col>&lt;dbl&gt;</th><th scope=col>&lt;dbl&gt;</th><th scope=col>&lt;dbl&gt;</th><th scope=col>&lt;dbl&gt;</th><th scope=col>&lt;dbl&gt;</th><th scope=col>&lt;dbl&gt;</th></tr>\n",
       "</thead>\n",
       "<tbody>\n",
       "\t<tr><td>sitegmo</td><td>GMO</td><td>Japan</td><td>80776294</td><td>1</td><td>FirstTime</td><td>2019-10-28</td><td>2018-10-28</td><td>2018-10-28 10:41:52</td><td>site</td><td>wvxmdn.site</td><td>GMO</td><td>1</td><td>0.1</td><td>0.1</td><td>244667715</td><td>auto-renewal</td><td>unrealized</td><td>Not Renewd</td><td>1</td><td>20</td><td>2019-10-28</td><td>20</td><td>0.04</td><td>wxmnd </td><td>⋯</td><td>-2.30259</td><td>Non China</td><td>Japan</td><td>0.1</td><td>(0,0.3]</td><td>seg2_glm</td><td>agg_rf_ALL</td><td>0.056</td><td>0.056</td><td>0.056</td><td>0.056</td><td>0.00145</td><td>0.00105</td><td>0.00105</td><td>0.00145</td><td>0.00105</td><td>0.02680</td><td>0.033</td><td>0.033</td><td>0.00434</td><td>0.00434</td><td>0.02680</td><td>0.02680</td><td>0.00602</td><td>0.00602</td></tr>\n",
       "\t<tr><td>sitegmo</td><td>GMO</td><td>Japan</td><td>80777429</td><td>1</td><td>FirstTime</td><td>2019-10-28</td><td>2018-10-28</td><td>2018-10-28 10:55:12</td><td>site</td><td>nbwvgs.site</td><td>GMO</td><td>1</td><td>0.1</td><td>0.1</td><td>244668875</td><td>auto-renewal</td><td>unrealized</td><td>Not Renewd</td><td>1</td><td>20</td><td>2019-10-28</td><td>20</td><td>0.08</td><td>nbws  </td><td>⋯</td><td>-2.30259</td><td>Non China</td><td>Japan</td><td>0.1</td><td>(0,0.3]</td><td>seg2_glm</td><td>agg_rf_ALL</td><td>0.056</td><td>0.056</td><td>0.056</td><td>0.056</td><td>0.00158</td><td>0.00086</td><td>0.00086</td><td>0.00158</td><td>0.00086</td><td>0.02684</td><td>0.033</td><td>0.033</td><td>0.00429</td><td>0.00429</td><td>0.02684</td><td>0.02684</td><td>0.00598</td><td>0.00598</td></tr>\n",
       "\t<tr><td>sitegmo</td><td>GMO</td><td>Japan</td><td>80765189</td><td>1</td><td>FirstTime</td><td>2019-10-28</td><td>2018-10-28</td><td>2018-10-28 07:53:01</td><td>site</td><td>vouata.site</td><td>GMO</td><td>1</td><td>0.1</td><td>0.1</td><td>244656510</td><td>auto-renewal</td><td>unrealized</td><td>Not Renewd</td><td>1</td><td>20</td><td>2019-10-28</td><td>20</td><td>6.33</td><td>vouata</td><td>⋯</td><td>-2.30259</td><td>Non China</td><td>Japan</td><td>0.1</td><td>(0,0.3]</td><td>seg2_glm</td><td>agg_rf_ALL</td><td>0.062</td><td>0.063</td><td>0.063</td><td>0.062</td><td>0.10716</td><td>0.10658</td><td>0.10658</td><td>0.10716</td><td>0.10658</td><td>0.04457</td><td>0.061</td><td>0.061</td><td>0.12956</td><td>0.12956</td><td>0.04457</td><td>0.04457</td><td>0.12195</td><td>0.12195</td></tr>\n",
       "\t<tr><td>sitegmo</td><td>GMO</td><td>Japan</td><td>80771924</td><td>1</td><td>FirstTime</td><td>2019-10-28</td><td>2018-10-28</td><td>2018-10-28 09:46:30</td><td>site</td><td>hzeksw.site</td><td>GMO</td><td>1</td><td>0.1</td><td>0.1</td><td>244663525</td><td>auto-renewal</td><td>unrealized</td><td>Not Renewd</td><td>1</td><td>20</td><td>2019-10-28</td><td>20</td><td>0.50</td><td>zeks  </td><td>⋯</td><td>-2.30259</td><td>Non China</td><td>Japan</td><td>0.1</td><td>(0,0.3]</td><td>seg2_glm</td><td>agg_rf_ALL</td><td>0.056</td><td>0.056</td><td>0.056</td><td>0.056</td><td>0.00170</td><td>0.00103</td><td>0.00103</td><td>0.00170</td><td>0.00103</td><td>0.02734</td><td>0.034</td><td>0.034</td><td>0.00425</td><td>0.00425</td><td>0.02734</td><td>0.02734</td><td>0.00592</td><td>0.00592</td></tr>\n",
       "\t<tr><td>sitegmo</td><td>GMO</td><td>Japan</td><td>80766104</td><td>1</td><td>FirstTime</td><td>2019-10-28</td><td>2018-10-28</td><td>2018-10-28 08:11:02</td><td>site</td><td>qifcqx.site</td><td>GMO</td><td>1</td><td>0.1</td><td>0.1</td><td>244657545</td><td>auto-renewal</td><td>unrealized</td><td>Not Renewd</td><td>1</td><td>20</td><td>2019-10-28</td><td>20</td><td>0.24</td><td>qifcqx</td><td>⋯</td><td>-2.30259</td><td>Non China</td><td>Japan</td><td>0.1</td><td>(0,0.3]</td><td>seg2_glm</td><td>agg_rf_ALL</td><td>0.058</td><td>0.058</td><td>0.058</td><td>0.058</td><td>0.00223</td><td>0.00423</td><td>0.00423</td><td>0.00223</td><td>0.00423</td><td>0.03425</td><td>0.048</td><td>0.048</td><td>0.00653</td><td>0.00653</td><td>0.03425</td><td>0.03425</td><td>0.00636</td><td>0.00636</td></tr>\n",
       "\t<tr><td>sitegmo</td><td>GMO</td><td>Japan</td><td>80774849</td><td>1</td><td>FirstTime</td><td>2019-10-28</td><td>2018-10-28</td><td>2018-10-28 10:15:18</td><td>site</td><td>deinwc.site</td><td>GMO</td><td>1</td><td>0.1</td><td>0.1</td><td>244666200</td><td>auto-renewal</td><td>unrealized</td><td>Not Renewd</td><td>1</td><td>20</td><td>2019-10-28</td><td>20</td><td>1.10</td><td>dienc </td><td>⋯</td><td>-2.30259</td><td>Non China</td><td>Japan</td><td>0.1</td><td>(0,0.3]</td><td>seg2_glm</td><td>agg_rf_ALL</td><td>0.056</td><td>0.056</td><td>0.056</td><td>0.056</td><td>0.00441</td><td>0.00640</td><td>0.00640</td><td>0.00441</td><td>0.00640</td><td>0.02807</td><td>0.035</td><td>0.035</td><td>0.00706</td><td>0.00706</td><td>0.02807</td><td>0.02807</td><td>0.00916</td><td>0.00916</td></tr>\n",
       "</tbody>\n",
       "</table>\n"
      ],
      "text/latex": [
       "A tibble: 6 × 56\n",
       "\\begin{tabular}{lllllllllllllllllllllllllllllllllllllllllllllllllll}\n",
       " tld\\_registrar\\_index & reseller & reseller\\_country & domain\\_id & renewed\\_count & renewal\\_type & expiry\\_date & creation\\_date & creation\\_time & tld & domain & registrar & reg\\_period & reg\\_revenue & reg\\_arpt & renewal\\_id & renew\\_type & autorenew\\_type & renewal\\_status & renew\\_period & renew\\_revenue & renew\\_date & renew\\_arpt & gibb\\_score & pattern & ⋯ & log\\_reg\\_arpt & region & reseller\\_geo & reg\\_arpt\\_org & reg\\_arpt\\_slab & l10\\_win\\_04\\_pred\\_model & auc\\_win\\_04\\_pred\\_model & pred\\_agg\\_glm & pred\\_agg\\_glm\\_ALL & pred\\_agg\\_glm\\_ALL\\_fb & pred\\_agg\\_glm\\_fb & pred\\_agg\\_rf & pred\\_agg\\_rf\\_ALL & pred\\_agg\\_rf\\_ALL\\_fb & pred\\_agg\\_rf\\_fb & pred\\_meta\\_auc & pred\\_meta\\_l10 & pred\\_seg\\_glm\\_ALL & pred\\_seg\\_glm\\_ALL\\_fb & pred\\_seg\\_rf\\_ALL & pred\\_seg\\_rf\\_ALL\\_fb & pred\\_seg2\\_glm\\_ALL & pred\\_seg2\\_glm\\_ALL\\_fb & pred\\_seg2\\_rf\\_ALL & pred\\_seg2\\_rf\\_ALL\\_fb\\\\\n",
       " <chr> & <chr> & <chr> & <int> & <int> & <chr> & <date> & <chr> & <chr> & <chr> & <chr> & <chr> & <int> & <dbl> & <dbl> & <int> & <chr> & <chr> & <chr> & <int> & <dbl> & <chr> & <dbl> & <dbl> & <chr> & ⋯ & <dbl> & <chr> & <chr> & <dbl> & <chr> & <chr> & <chr> & <dbl> & <dbl> & <dbl> & <dbl> & <dbl> & <dbl> & <dbl> & <dbl> & <dbl> & <dbl> & <dbl> & <dbl> & <dbl> & <dbl> & <dbl> & <dbl> & <dbl> & <dbl>\\\\\n",
       "\\hline\n",
       "\t sitegmo & GMO & Japan & 80776294 & 1 & FirstTime & 2019-10-28 & 2018-10-28 & 2018-10-28 10:41:52 & site & wvxmdn.site & GMO & 1 & 0.1 & 0.1 & 244667715 & auto-renewal & unrealized & Not Renewd & 1 & 20 & 2019-10-28 & 20 & 0.04 & wxmnd  & ⋯ & -2.30259 & Non China & Japan & 0.1 & (0,0.3{]} & seg2\\_glm & agg\\_rf\\_ALL & 0.056 & 0.056 & 0.056 & 0.056 & 0.00145 & 0.00105 & 0.00105 & 0.00145 & 0.00105 & 0.02680 & 0.033 & 0.033 & 0.00434 & 0.00434 & 0.02680 & 0.02680 & 0.00602 & 0.00602\\\\\n",
       "\t sitegmo & GMO & Japan & 80777429 & 1 & FirstTime & 2019-10-28 & 2018-10-28 & 2018-10-28 10:55:12 & site & nbwvgs.site & GMO & 1 & 0.1 & 0.1 & 244668875 & auto-renewal & unrealized & Not Renewd & 1 & 20 & 2019-10-28 & 20 & 0.08 & nbws   & ⋯ & -2.30259 & Non China & Japan & 0.1 & (0,0.3{]} & seg2\\_glm & agg\\_rf\\_ALL & 0.056 & 0.056 & 0.056 & 0.056 & 0.00158 & 0.00086 & 0.00086 & 0.00158 & 0.00086 & 0.02684 & 0.033 & 0.033 & 0.00429 & 0.00429 & 0.02684 & 0.02684 & 0.00598 & 0.00598\\\\\n",
       "\t sitegmo & GMO & Japan & 80765189 & 1 & FirstTime & 2019-10-28 & 2018-10-28 & 2018-10-28 07:53:01 & site & vouata.site & GMO & 1 & 0.1 & 0.1 & 244656510 & auto-renewal & unrealized & Not Renewd & 1 & 20 & 2019-10-28 & 20 & 6.33 & vouata & ⋯ & -2.30259 & Non China & Japan & 0.1 & (0,0.3{]} & seg2\\_glm & agg\\_rf\\_ALL & 0.062 & 0.063 & 0.063 & 0.062 & 0.10716 & 0.10658 & 0.10658 & 0.10716 & 0.10658 & 0.04457 & 0.061 & 0.061 & 0.12956 & 0.12956 & 0.04457 & 0.04457 & 0.12195 & 0.12195\\\\\n",
       "\t sitegmo & GMO & Japan & 80771924 & 1 & FirstTime & 2019-10-28 & 2018-10-28 & 2018-10-28 09:46:30 & site & hzeksw.site & GMO & 1 & 0.1 & 0.1 & 244663525 & auto-renewal & unrealized & Not Renewd & 1 & 20 & 2019-10-28 & 20 & 0.50 & zeks   & ⋯ & -2.30259 & Non China & Japan & 0.1 & (0,0.3{]} & seg2\\_glm & agg\\_rf\\_ALL & 0.056 & 0.056 & 0.056 & 0.056 & 0.00170 & 0.00103 & 0.00103 & 0.00170 & 0.00103 & 0.02734 & 0.034 & 0.034 & 0.00425 & 0.00425 & 0.02734 & 0.02734 & 0.00592 & 0.00592\\\\\n",
       "\t sitegmo & GMO & Japan & 80766104 & 1 & FirstTime & 2019-10-28 & 2018-10-28 & 2018-10-28 08:11:02 & site & qifcqx.site & GMO & 1 & 0.1 & 0.1 & 244657545 & auto-renewal & unrealized & Not Renewd & 1 & 20 & 2019-10-28 & 20 & 0.24 & qifcqx & ⋯ & -2.30259 & Non China & Japan & 0.1 & (0,0.3{]} & seg2\\_glm & agg\\_rf\\_ALL & 0.058 & 0.058 & 0.058 & 0.058 & 0.00223 & 0.00423 & 0.00423 & 0.00223 & 0.00423 & 0.03425 & 0.048 & 0.048 & 0.00653 & 0.00653 & 0.03425 & 0.03425 & 0.00636 & 0.00636\\\\\n",
       "\t sitegmo & GMO & Japan & 80774849 & 1 & FirstTime & 2019-10-28 & 2018-10-28 & 2018-10-28 10:15:18 & site & deinwc.site & GMO & 1 & 0.1 & 0.1 & 244666200 & auto-renewal & unrealized & Not Renewd & 1 & 20 & 2019-10-28 & 20 & 1.10 & dienc  & ⋯ & -2.30259 & Non China & Japan & 0.1 & (0,0.3{]} & seg2\\_glm & agg\\_rf\\_ALL & 0.056 & 0.056 & 0.056 & 0.056 & 0.00441 & 0.00640 & 0.00640 & 0.00441 & 0.00640 & 0.02807 & 0.035 & 0.035 & 0.00706 & 0.00706 & 0.02807 & 0.02807 & 0.00916 & 0.00916\\\\\n",
       "\\end{tabular}\n"
      ],
      "text/markdown": [
       "\n",
       "A tibble: 6 × 56\n",
       "\n",
       "| tld_registrar_index &lt;chr&gt; | reseller &lt;chr&gt; | reseller_country &lt;chr&gt; | domain_id &lt;int&gt; | renewed_count &lt;int&gt; | renewal_type &lt;chr&gt; | expiry_date &lt;date&gt; | creation_date &lt;chr&gt; | creation_time &lt;chr&gt; | tld &lt;chr&gt; | domain &lt;chr&gt; | registrar &lt;chr&gt; | reg_period &lt;int&gt; | reg_revenue &lt;dbl&gt; | reg_arpt &lt;dbl&gt; | renewal_id &lt;int&gt; | renew_type &lt;chr&gt; | autorenew_type &lt;chr&gt; | renewal_status &lt;chr&gt; | renew_period &lt;int&gt; | renew_revenue &lt;dbl&gt; | renew_date &lt;chr&gt; | renew_arpt &lt;dbl&gt; | gibb_score &lt;dbl&gt; | pattern &lt;chr&gt; | ⋯ ⋯ | log_reg_arpt &lt;dbl&gt; | region &lt;chr&gt; | reseller_geo &lt;chr&gt; | reg_arpt_org &lt;dbl&gt; | reg_arpt_slab &lt;chr&gt; | l10_win_04_pred_model &lt;chr&gt; | auc_win_04_pred_model &lt;chr&gt; | pred_agg_glm &lt;dbl&gt; | pred_agg_glm_ALL &lt;dbl&gt; | pred_agg_glm_ALL_fb &lt;dbl&gt; | pred_agg_glm_fb &lt;dbl&gt; | pred_agg_rf &lt;dbl&gt; | pred_agg_rf_ALL &lt;dbl&gt; | pred_agg_rf_ALL_fb &lt;dbl&gt; | pred_agg_rf_fb &lt;dbl&gt; | pred_meta_auc &lt;dbl&gt; | pred_meta_l10 &lt;dbl&gt; | pred_seg_glm_ALL &lt;dbl&gt; | pred_seg_glm_ALL_fb &lt;dbl&gt; | pred_seg_rf_ALL &lt;dbl&gt; | pred_seg_rf_ALL_fb &lt;dbl&gt; | pred_seg2_glm_ALL &lt;dbl&gt; | pred_seg2_glm_ALL_fb &lt;dbl&gt; | pred_seg2_rf_ALL &lt;dbl&gt; | pred_seg2_rf_ALL_fb &lt;dbl&gt; |\n",
       "|---|---|---|---|---|---|---|---|---|---|---|---|---|---|---|---|---|---|---|---|---|---|---|---|---|---|---|---|---|---|---|---|---|---|---|---|---|---|---|---|---|---|---|---|---|---|---|---|---|---|---|\n",
       "| sitegmo | GMO | Japan | 80776294 | 1 | FirstTime | 2019-10-28 | 2018-10-28 | 2018-10-28 10:41:52 | site | wvxmdn.site | GMO | 1 | 0.1 | 0.1 | 244667715 | auto-renewal | unrealized | Not Renewd | 1 | 20 | 2019-10-28 | 20 | 0.04 | wxmnd  | ⋯ | -2.30259 | Non China | Japan | 0.1 | (0,0.3] | seg2_glm | agg_rf_ALL | 0.056 | 0.056 | 0.056 | 0.056 | 0.00145 | 0.00105 | 0.00105 | 0.00145 | 0.00105 | 0.02680 | 0.033 | 0.033 | 0.00434 | 0.00434 | 0.02680 | 0.02680 | 0.00602 | 0.00602 |\n",
       "| sitegmo | GMO | Japan | 80777429 | 1 | FirstTime | 2019-10-28 | 2018-10-28 | 2018-10-28 10:55:12 | site | nbwvgs.site | GMO | 1 | 0.1 | 0.1 | 244668875 | auto-renewal | unrealized | Not Renewd | 1 | 20 | 2019-10-28 | 20 | 0.08 | nbws   | ⋯ | -2.30259 | Non China | Japan | 0.1 | (0,0.3] | seg2_glm | agg_rf_ALL | 0.056 | 0.056 | 0.056 | 0.056 | 0.00158 | 0.00086 | 0.00086 | 0.00158 | 0.00086 | 0.02684 | 0.033 | 0.033 | 0.00429 | 0.00429 | 0.02684 | 0.02684 | 0.00598 | 0.00598 |\n",
       "| sitegmo | GMO | Japan | 80765189 | 1 | FirstTime | 2019-10-28 | 2018-10-28 | 2018-10-28 07:53:01 | site | vouata.site | GMO | 1 | 0.1 | 0.1 | 244656510 | auto-renewal | unrealized | Not Renewd | 1 | 20 | 2019-10-28 | 20 | 6.33 | vouata | ⋯ | -2.30259 | Non China | Japan | 0.1 | (0,0.3] | seg2_glm | agg_rf_ALL | 0.062 | 0.063 | 0.063 | 0.062 | 0.10716 | 0.10658 | 0.10658 | 0.10716 | 0.10658 | 0.04457 | 0.061 | 0.061 | 0.12956 | 0.12956 | 0.04457 | 0.04457 | 0.12195 | 0.12195 |\n",
       "| sitegmo | GMO | Japan | 80771924 | 1 | FirstTime | 2019-10-28 | 2018-10-28 | 2018-10-28 09:46:30 | site | hzeksw.site | GMO | 1 | 0.1 | 0.1 | 244663525 | auto-renewal | unrealized | Not Renewd | 1 | 20 | 2019-10-28 | 20 | 0.50 | zeks   | ⋯ | -2.30259 | Non China | Japan | 0.1 | (0,0.3] | seg2_glm | agg_rf_ALL | 0.056 | 0.056 | 0.056 | 0.056 | 0.00170 | 0.00103 | 0.00103 | 0.00170 | 0.00103 | 0.02734 | 0.034 | 0.034 | 0.00425 | 0.00425 | 0.02734 | 0.02734 | 0.00592 | 0.00592 |\n",
       "| sitegmo | GMO | Japan | 80766104 | 1 | FirstTime | 2019-10-28 | 2018-10-28 | 2018-10-28 08:11:02 | site | qifcqx.site | GMO | 1 | 0.1 | 0.1 | 244657545 | auto-renewal | unrealized | Not Renewd | 1 | 20 | 2019-10-28 | 20 | 0.24 | qifcqx | ⋯ | -2.30259 | Non China | Japan | 0.1 | (0,0.3] | seg2_glm | agg_rf_ALL | 0.058 | 0.058 | 0.058 | 0.058 | 0.00223 | 0.00423 | 0.00423 | 0.00223 | 0.00423 | 0.03425 | 0.048 | 0.048 | 0.00653 | 0.00653 | 0.03425 | 0.03425 | 0.00636 | 0.00636 |\n",
       "| sitegmo | GMO | Japan | 80774849 | 1 | FirstTime | 2019-10-28 | 2018-10-28 | 2018-10-28 10:15:18 | site | deinwc.site | GMO | 1 | 0.1 | 0.1 | 244666200 | auto-renewal | unrealized | Not Renewd | 1 | 20 | 2019-10-28 | 20 | 1.10 | dienc  | ⋯ | -2.30259 | Non China | Japan | 0.1 | (0,0.3] | seg2_glm | agg_rf_ALL | 0.056 | 0.056 | 0.056 | 0.056 | 0.00441 | 0.00640 | 0.00640 | 0.00441 | 0.00640 | 0.02807 | 0.035 | 0.035 | 0.00706 | 0.00706 | 0.02807 | 0.02807 | 0.00916 | 0.00916 |\n",
       "\n"
      ],
      "text/plain": [
       "  tld_registrar_index reseller reseller_country domain_id renewed_count\n",
       "1 sitegmo             GMO      Japan            80776294  1            \n",
       "2 sitegmo             GMO      Japan            80777429  1            \n",
       "3 sitegmo             GMO      Japan            80765189  1            \n",
       "4 sitegmo             GMO      Japan            80771924  1            \n",
       "5 sitegmo             GMO      Japan            80766104  1            \n",
       "6 sitegmo             GMO      Japan            80774849  1            \n",
       "  renewal_type expiry_date creation_date creation_time       tld  domain     \n",
       "1 FirstTime    2019-10-28  2018-10-28    2018-10-28 10:41:52 site wvxmdn.site\n",
       "2 FirstTime    2019-10-28  2018-10-28    2018-10-28 10:55:12 site nbwvgs.site\n",
       "3 FirstTime    2019-10-28  2018-10-28    2018-10-28 07:53:01 site vouata.site\n",
       "4 FirstTime    2019-10-28  2018-10-28    2018-10-28 09:46:30 site hzeksw.site\n",
       "5 FirstTime    2019-10-28  2018-10-28    2018-10-28 08:11:02 site qifcqx.site\n",
       "6 FirstTime    2019-10-28  2018-10-28    2018-10-28 10:15:18 site deinwc.site\n",
       "  registrar reg_period reg_revenue reg_arpt renewal_id renew_type  \n",
       "1 GMO       1          0.1         0.1      244667715  auto-renewal\n",
       "2 GMO       1          0.1         0.1      244668875  auto-renewal\n",
       "3 GMO       1          0.1         0.1      244656510  auto-renewal\n",
       "4 GMO       1          0.1         0.1      244663525  auto-renewal\n",
       "5 GMO       1          0.1         0.1      244657545  auto-renewal\n",
       "6 GMO       1          0.1         0.1      244666200  auto-renewal\n",
       "  autorenew_type renewal_status renew_period renew_revenue renew_date\n",
       "1 unrealized     Not Renewd     1            20            2019-10-28\n",
       "2 unrealized     Not Renewd     1            20            2019-10-28\n",
       "3 unrealized     Not Renewd     1            20            2019-10-28\n",
       "4 unrealized     Not Renewd     1            20            2019-10-28\n",
       "5 unrealized     Not Renewd     1            20            2019-10-28\n",
       "6 unrealized     Not Renewd     1            20            2019-10-28\n",
       "  renew_arpt gibb_score pattern ⋯ log_reg_arpt region    reseller_geo\n",
       "1 20         0.04       wxmnd   ⋯ -2.30259     Non China Japan       \n",
       "2 20         0.08       nbws    ⋯ -2.30259     Non China Japan       \n",
       "3 20         6.33       vouata  ⋯ -2.30259     Non China Japan       \n",
       "4 20         0.50       zeks    ⋯ -2.30259     Non China Japan       \n",
       "5 20         0.24       qifcqx  ⋯ -2.30259     Non China Japan       \n",
       "6 20         1.10       dienc   ⋯ -2.30259     Non China Japan       \n",
       "  reg_arpt_org reg_arpt_slab l10_win_04_pred_model auc_win_04_pred_model\n",
       "1 0.1          (0,0.3]       seg2_glm              agg_rf_ALL           \n",
       "2 0.1          (0,0.3]       seg2_glm              agg_rf_ALL           \n",
       "3 0.1          (0,0.3]       seg2_glm              agg_rf_ALL           \n",
       "4 0.1          (0,0.3]       seg2_glm              agg_rf_ALL           \n",
       "5 0.1          (0,0.3]       seg2_glm              agg_rf_ALL           \n",
       "6 0.1          (0,0.3]       seg2_glm              agg_rf_ALL           \n",
       "  pred_agg_glm pred_agg_glm_ALL pred_agg_glm_ALL_fb pred_agg_glm_fb pred_agg_rf\n",
       "1 0.056        0.056            0.056               0.056           0.00145    \n",
       "2 0.056        0.056            0.056               0.056           0.00158    \n",
       "3 0.062        0.063            0.063               0.062           0.10716    \n",
       "4 0.056        0.056            0.056               0.056           0.00170    \n",
       "5 0.058        0.058            0.058               0.058           0.00223    \n",
       "6 0.056        0.056            0.056               0.056           0.00441    \n",
       "  pred_agg_rf_ALL pred_agg_rf_ALL_fb pred_agg_rf_fb pred_meta_auc pred_meta_l10\n",
       "1 0.00105         0.00105            0.00145        0.00105       0.02680      \n",
       "2 0.00086         0.00086            0.00158        0.00086       0.02684      \n",
       "3 0.10658         0.10658            0.10716        0.10658       0.04457      \n",
       "4 0.00103         0.00103            0.00170        0.00103       0.02734      \n",
       "5 0.00423         0.00423            0.00223        0.00423       0.03425      \n",
       "6 0.00640         0.00640            0.00441        0.00640       0.02807      \n",
       "  pred_seg_glm_ALL pred_seg_glm_ALL_fb pred_seg_rf_ALL pred_seg_rf_ALL_fb\n",
       "1 0.033            0.033               0.00434         0.00434           \n",
       "2 0.033            0.033               0.00429         0.00429           \n",
       "3 0.061            0.061               0.12956         0.12956           \n",
       "4 0.034            0.034               0.00425         0.00425           \n",
       "5 0.048            0.048               0.00653         0.00653           \n",
       "6 0.035            0.035               0.00706         0.00706           \n",
       "  pred_seg2_glm_ALL pred_seg2_glm_ALL_fb pred_seg2_rf_ALL pred_seg2_rf_ALL_fb\n",
       "1 0.02680           0.02680              0.00602          0.00602            \n",
       "2 0.02684           0.02684              0.00598          0.00598            \n",
       "3 0.04457           0.04457              0.12195          0.12195            \n",
       "4 0.02734           0.02734              0.00592          0.00592            \n",
       "5 0.03425           0.03425              0.00636          0.00636            \n",
       "6 0.02807           0.02807              0.00916          0.00916            "
      ]
     },
     "metadata": {},
     "output_type": "display_data"
    }
   ],
   "source": [
    "preds_wide_df$expiry_date <- as.Date(preds_wide_df$expiry_date)\n",
    "str(preds_wide_df$expiry_date)\n",
    "head(preds_wide_df)"
   ]
  },
  {
   "cell_type": "code",
   "execution_count": 60,
   "metadata": {},
   "outputs": [
    {
     "name": "stderr",
     "output_type": "stream",
     "text": [
      "`summarise()` ungrouping output (override with `.groups` argument)\n",
      "\n",
      "`summarise()` regrouping output by 'tld_registrar_index' (override with `.groups` argument)\n",
      "\n",
      "`summarise()` regrouping output by 'tld_registrar_index' (override with `.groups` argument)\n",
      "\n"
     ]
    }
   ],
   "source": [
    "options(scipen=999)\n",
    "library(lubridate)\n",
    "\n",
    "agg_prob <- preds_wide_df %>% \n",
    "   group_by(tld_registrar_index) %>% \n",
    "   summarize(sum_pred_meta_l10 = round(sum(pred_meta_l10, na.rm=TRUE),4), \n",
    "             sum_pred_meta_auc = round(sum(pred_meta_auc, na.rm=TRUE),4), \n",
    "             sum_pred_agg_rf_ALL = round(sum(pred_agg_rf_ALL, na.rm=TRUE),4), \n",
    "             sum_pred_seg2_glm_ALL_fb = round(sum(pred_seg2_glm_ALL_fb, na.rm=TRUE),4), \n",
    "             sum_actl = sum(renewal_status=='Renewed', na.rm=TRUE), \n",
    "             count = length(renewal_status))  %>% \n",
    "   arrange(desc(count))\n",
    "\n",
    "agg_prob_day <- preds_wide_df %>% \n",
    "   group_by(tld_registrar_index, expiry_date) %>% \n",
    "   summarize(sum_pred_meta_l10 = round(sum(pred_meta_l10, na.rm=TRUE),4), \n",
    "             sum_pred_meta_auc = round(sum(pred_meta_auc, na.rm=TRUE),4), \n",
    "             sum_pred_agg_rf_ALL = round(sum(pred_agg_rf_ALL, na.rm=TRUE),4), \n",
    "             sum_pred_seg2_glm_ALL_fb = round(sum(pred_seg2_glm_ALL_fb, na.rm=TRUE),4), \n",
    "             sum_actl = sum(renewal_status=='Renewed', na.rm=TRUE), \n",
    "             count = length(renewal_status))  %>% \n",
    "   arrange(desc(count))\n",
    "\n",
    "agg_prob_month <- preds_wide_df %>% \n",
    "   group_by(tld_registrar_index, month=floor_date(as.Date(expiry_date), \"month\") ) %>% \n",
    "   summarize(sum_pred_meta_l10 = round(sum(pred_meta_l10, na.rm=TRUE),4), \n",
    "             sum_pred_meta_auc = round(sum(pred_meta_auc, na.rm=TRUE),4), \n",
    "             sum_pred_agg_rf_ALL = round(sum(pred_agg_rf_ALL, na.rm=TRUE),4), \n",
    "             sum_pred_seg2_glm_ALL_fb = round(sum(pred_seg2_glm_ALL_fb, na.rm=TRUE),4), \n",
    "             sum_actl = sum(renewal_status=='Renewed', na.rm=TRUE), \n",
    "             count = length(renewal_status))  %>%  \n",
    "   arrange(desc(count))\n"
   ]
  },
  {
   "cell_type": "code",
   "execution_count": 62,
   "metadata": {},
   "outputs": [
    {
     "data": {
      "text/html": [
       "<table>\n",
       "<caption>A tibble: 1519 × 7</caption>\n",
       "<thead>\n",
       "\t<tr><th scope=col>tld_registrar_index</th><th scope=col>sum_pred_meta_l10</th><th scope=col>sum_pred_meta_auc</th><th scope=col>sum_pred_agg_rf_ALL</th><th scope=col>sum_pred_seg2_glm_ALL_fb</th><th scope=col>sum_actl</th><th scope=col>count</th></tr>\n",
       "\t<tr><th scope=col>&lt;chr&gt;</th><th scope=col>&lt;dbl&gt;</th><th scope=col>&lt;dbl&gt;</th><th scope=col>&lt;dbl&gt;</th><th scope=col>&lt;dbl&gt;</th><th scope=col>&lt;int&gt;</th><th scope=col>&lt;int&gt;</th></tr>\n",
       "</thead>\n",
       "<tbody>\n",
       "\t<tr><td>sitegmo                      </td><td>1049.0909</td><td>1616.2998</td><td>1616.2998</td><td>1049.0909</td><td> 910</td><td>71230</td></tr>\n",
       "\t<tr><td>funalibaba                   </td><td> 352.4536</td><td> 576.1703</td><td> 576.1703</td><td> 352.4536</td><td> 342</td><td>33558</td></tr>\n",
       "\t<tr><td>sitealibaba                  </td><td> 278.2382</td><td> 820.0601</td><td> 820.0601</td><td> 278.2382</td><td> 311</td><td>23651</td></tr>\n",
       "\t<tr><td>sitenamecheap                </td><td> 899.2499</td><td> 905.0562</td><td> 905.0562</td><td> 899.2499</td><td> 715</td><td>23551</td></tr>\n",
       "\t<tr><td>onlinealibaba                </td><td> 493.0381</td><td> 571.6094</td><td> 571.6094</td><td> 493.0381</td><td> 457</td><td>22778</td></tr>\n",
       "\t<tr><td>pwnamecheap                  </td><td> 450.6514</td><td> 450.6514</td><td> 498.3477</td><td> 450.6514</td><td> 494</td><td>16877</td></tr>\n",
       "\t<tr><td>funchengdu west              </td><td>  17.8521</td><td>  17.8521</td><td> 186.1679</td><td>  17.8521</td><td>   9</td><td>16406</td></tr>\n",
       "\t<tr><td>onlinego daddy               </td><td>2890.6153</td><td>2890.6153</td><td>2889.5651</td><td>2890.6153</td><td>2681</td><td>14933</td></tr>\n",
       "\t<tr><td>onlinenamecheap              </td><td>1056.4992</td><td>1056.4992</td><td>1404.3703</td><td>1056.4992</td><td>1349</td><td>14062</td></tr>\n",
       "\t<tr><td>sitereg.ru                   </td><td> 354.1151</td><td> 354.1151</td><td> 369.9095</td><td> 354.1151</td><td> 372</td><td>12814</td></tr>\n",
       "\t<tr><td>sitegandi sas                </td><td> 165.2611</td><td> 165.2611</td><td> 165.2611</td><td> 181.0879</td><td> 140</td><td>11869</td></tr>\n",
       "\t<tr><td>websitenamecheap             </td><td> 867.8445</td><td> 867.8445</td><td> 940.8731</td><td> 867.8445</td><td> 903</td><td>11281</td></tr>\n",
       "\t<tr><td>siteonlinenic                </td><td>  17.0426</td><td>  17.0426</td><td>  17.0426</td><td>  26.4492</td><td>   7</td><td>11115</td></tr>\n",
       "\t<tr><td>sitego daddy                 </td><td> 696.5759</td><td> 752.9931</td><td> 696.5759</td><td> 752.9931</td><td> 651</td><td>10227</td></tr>\n",
       "\t<tr><td>hostnamecheap                </td><td> 275.3895</td><td> 233.6793</td><td> 275.3895</td><td> 233.6793</td><td> 204</td><td> 9771</td></tr>\n",
       "\t<tr><td>sitechengdu west             </td><td> 106.2220</td><td>  65.6753</td><td> 106.2220</td><td>  65.6753</td><td>  46</td><td> 8707</td></tr>\n",
       "\t<tr><td>spacenamecheap               </td><td> 542.9155</td><td> 542.9155</td><td> 604.8275</td><td> 542.9155</td><td> 494</td><td> 8365</td></tr>\n",
       "\t<tr><td>funnamecheap                 </td><td> 338.9257</td><td> 350.6228</td><td> 350.6228</td><td> 338.9257</td><td> 480</td><td> 7528</td></tr>\n",
       "\t<tr><td>onlinehostinger              </td><td> 482.6989</td><td> 482.6989</td><td> 485.9168</td><td> 482.6989</td><td> 418</td><td> 7027</td></tr>\n",
       "\t<tr><td>sitenetwork solutions        </td><td>1225.1130</td><td>1196.4413</td><td>1225.1130</td><td>1196.4413</td><td>1133</td><td> 6900</td></tr>\n",
       "\t<tr><td>sitezhengzhou century connect</td><td>  31.0993</td><td>  31.0993</td><td>  31.0993</td><td>   1.0000</td><td>   0</td><td> 6745</td></tr>\n",
       "\t<tr><td>spacego daddy                </td><td> 509.4904</td><td> 505.4734</td><td> 509.4904</td><td> 505.4734</td><td> 714</td><td> 5086</td></tr>\n",
       "\t<tr><td>storealibaba                 </td><td> 426.3795</td><td> 399.8585</td><td> 426.3795</td><td> 399.8585</td><td> 406</td><td> 4890</td></tr>\n",
       "\t<tr><td>onlinereg.ru                 </td><td> 434.1286</td><td> 434.1286</td><td> 426.2106</td><td> 434.1286</td><td> 421</td><td> 3950</td></tr>\n",
       "\t<tr><td>storego daddy                </td><td>1272.8512</td><td>1257.8007</td><td>1272.8512</td><td>1257.8007</td><td>1236</td><td> 3924</td></tr>\n",
       "\t<tr><td>websiteuniregistrar          </td><td>  41.5796</td><td>  27.7270</td><td>  41.5796</td><td>  27.7270</td><td> 289</td><td> 3738</td></tr>\n",
       "\t<tr><td>onlinechengdu west           </td><td>  68.2927</td><td>  68.2927</td><td>  68.2927</td><td>  38.6189</td><td>  30</td><td> 3664</td></tr>\n",
       "\t<tr><td>spacereg.ru                  </td><td> 132.9055</td><td> 132.9055</td><td> 134.5944</td><td> 132.9055</td><td> 120</td><td> 3556</td></tr>\n",
       "\t<tr><td>siteurl solutions            </td><td>  31.0734</td><td>  31.9201</td><td>  31.0734</td><td>  31.9201</td><td>  29</td><td> 3386</td></tr>\n",
       "\t<tr><td>funreg.ru                    </td><td>  27.9843</td><td>  27.9843</td><td>  36.4306</td><td>  28.0033</td><td>  42</td><td> 3302</td></tr>\n",
       "\t<tr><td><span style=white-space:pre-wrap>online1&amp;1 internet           </span></td><td>1502.1489</td><td>1502.1489</td><td>1502.1489</td><td>1513.2878</td><td>1438</td><td> 3251</td></tr>\n",
       "\t<tr><td>techhostinger                </td><td> 223.6837</td><td> 223.6837</td><td> 230.1620</td><td> 223.6837</td><td> 186</td><td> 3047</td></tr>\n",
       "\t<tr><td>websitereg.ru                </td><td>  35.8512</td><td>  35.8512</td><td>  50.4793</td><td>  35.8512</td><td>  54</td><td> 3026</td></tr>\n",
       "\t<tr><td>sitehostinger                </td><td> 195.5073</td><td> 195.5073</td><td> 188.2995</td><td> 195.5073</td><td> 158</td><td> 2987</td></tr>\n",
       "\t<tr><td>sitexiamen chinasource       </td><td>   7.8844</td><td> 117.2951</td><td> 117.2951</td><td>   7.8844</td><td>   6</td><td> 2772</td></tr>\n",
       "\t<tr><td>onlinefbs                    </td><td>  35.7508</td><td>  34.1948</td><td>  35.7508</td><td>  34.1948</td><td> 177</td><td> 2756</td></tr>\n",
       "\t<tr><td>storenamecheap               </td><td> 408.7066</td><td> 372.8824</td><td> 408.7066</td><td> 372.8824</td><td> 434</td><td> 2742</td></tr>\n",
       "\t<tr><td>onlinenamesilo               </td><td> 301.3700</td><td> 187.4444</td><td> 301.3700</td><td> 187.4444</td><td> 195</td><td> 2694</td></tr>\n",
       "\t<tr><td>onlinedynadot                </td><td>  81.7191</td><td>  81.7191</td><td> 124.8654</td><td>  81.7191</td><td> 122</td><td> 2659</td></tr>\n",
       "\t<tr><td>sitehome.pl                  </td><td>  61.9848</td><td>  61.9848</td><td>  61.9848</td><td>  22.8020</td><td>  38</td><td> 2607</td></tr>\n",
       "\t<tr><td>sitepdr china                </td><td>  17.7846</td><td>   9.9819</td><td>  17.7846</td><td>   9.9819</td><td>   4</td><td> 2523</td></tr>\n",
       "\t<tr><td>websitego daddy              </td><td> 315.1173</td><td> 317.6624</td><td> 315.1173</td><td> 317.6624</td><td> 284</td><td> 2452</td></tr>\n",
       "\t<tr><td>hostreg.ru                   </td><td>   6.3497</td><td>   6.3497</td><td>  13.5059</td><td>   6.3497</td><td>  10</td><td> 2450</td></tr>\n",
       "\t<tr><td>onlineversio                 </td><td> 365.7541</td><td> 362.5281</td><td> 365.7541</td><td> 362.5281</td><td> 423</td><td> 2362</td></tr>\n",
       "\t<tr><td>technamecheap                </td><td> 470.4894</td><td> 485.3284</td><td> 470.4894</td><td> 485.3284</td><td> 430</td><td> 2353</td></tr>\n",
       "\t<tr><td>onlinebigrock                </td><td> 135.8235</td><td> 135.8235</td><td> 140.0609</td><td> 135.8235</td><td> 160</td><td> 2016</td></tr>\n",
       "\t<tr><td>storeshopify                 </td><td> 271.8086</td><td> 263.9822</td><td> 271.8086</td><td> 263.9822</td><td> 265</td><td> 1904</td></tr>\n",
       "\t<tr><td>funpdr ltd                   </td><td>  14.7762</td><td>  23.7629</td><td>  23.7629</td><td>  14.7762</td><td>  16</td><td> 1900</td></tr>\n",
       "\t<tr><td>onlinebeget                  </td><td>  82.1476</td><td>  82.1476</td><td>  96.9313</td><td>  82.1476</td><td>  92</td><td> 1839</td></tr>\n",
       "\t<tr><td>storehostinger               </td><td> 119.7978</td><td> 119.7978</td><td> 120.4979</td><td> 119.7978</td><td> 109</td><td> 1833</td></tr>\n",
       "\t<tr><td>⋮</td><td>⋮</td><td>⋮</td><td>⋮</td><td>⋮</td><td>⋮</td><td>⋮</td></tr>\n",
       "\t<tr><td>storesiteground         </td><td>0.0000</td><td>0.0000</td><td>0.5983</td><td>0.261</td><td>0</td><td>1</td></tr>\n",
       "\t<tr><td>storeumbler             </td><td>0.5000</td><td>0.5000</td><td>0.3278</td><td>0.261</td><td>0</td><td>1</td></tr>\n",
       "\t<tr><td>storewebonic            </td><td>0.0000</td><td>0.0000</td><td>0.3765</td><td>0.187</td><td>1</td><td>1</td></tr>\n",
       "\t<tr><td>techcheck domain        </td><td>0.0000</td><td>0.0000</td><td>0.7533</td><td>0.450</td><td>1</td><td>1</td></tr>\n",
       "\t<tr><td>techdomaininfo          </td><td>1.0000</td><td>1.0000</td><td>0.7605</td><td>0.616</td><td>1</td><td>1</td></tr>\n",
       "\t<tr><td>techdotname korea       </td><td>0.0000</td><td>0.0000</td><td>0.3850</td><td>0.269</td><td>1</td><td>1</td></tr>\n",
       "\t<tr><td>techeasydns             </td><td>0.4998</td><td>0.4998</td><td>0.5790</td><td>0.450</td><td>1</td><td>1</td></tr>\n",
       "\t<tr><td>techkinghost            </td><td>0.0000</td><td>0.0000</td><td>0.4821</td><td>0.450</td><td>0</td><td>1</td></tr>\n",
       "\t<tr><td>techmelbourne it        </td><td>0.0000</td><td>0.0000</td><td>0.8095</td><td>0.616</td><td>1</td><td>1</td></tr>\n",
       "\t<tr><td>techmijn internet       </td><td>0.0000</td><td>0.0000</td><td>0.9111</td><td>0.616</td><td>1</td><td>1</td></tr>\n",
       "\t<tr><td>techopentld b.v.        </td><td>0.0000</td><td>0.0000</td><td>0.4486</td><td>0.616</td><td>0</td><td>1</td></tr>\n",
       "\t<tr><td>techorigiweb            </td><td>0.0000</td><td>0.0000</td><td>0.4208</td><td>0.519</td><td>1</td><td>1</td></tr>\n",
       "\t<tr><td>techqwords              </td><td>0.0000</td><td>0.0000</td><td>0.1450</td><td>0.144</td><td>0</td><td>1</td></tr>\n",
       "\t<tr><td>techsafenames ltd       </td><td>0.0000</td><td>0.0000</td><td>0.8386</td><td>0.616</td><td>1</td><td>1</td></tr>\n",
       "\t<tr><td>techtodaynic            </td><td>1.0000</td><td>1.0000</td><td>0.2838</td><td>0.269</td><td>0</td><td>1</td></tr>\n",
       "\t<tr><td>techventraip            </td><td>0.0000</td><td>0.0000</td><td>0.6721</td><td>0.616</td><td>1</td><td>1</td></tr>\n",
       "\t<tr><td>techwebonic             </td><td>1.0000</td><td>1.0000</td><td>0.5983</td><td>0.269</td><td>0</td><td>1</td></tr>\n",
       "\t<tr><td>websiteab name isp      </td><td>0.0000</td><td>0.0000</td><td>0.3996</td><td>0.478</td><td>1</td><td>1</td></tr>\n",
       "\t<tr><td>websitearsys            </td><td>0.0000</td><td>0.0000</td><td>0.6282</td><td>0.311</td><td>1</td><td>1</td></tr>\n",
       "\t<tr><td>websiteblacknight       </td><td>1.0000</td><td>1.0000</td><td>0.6274</td><td>0.478</td><td>1</td><td>1</td></tr>\n",
       "\t<tr><td>websitednc holdings     </td><td>0.0000</td><td>0.0000</td><td>0.5765</td><td>0.478</td><td>0</td><td>1</td></tr>\n",
       "\t<tr><td>websitedomainfactory    </td><td>1.0000</td><td>1.0000</td><td>0.8295</td><td>0.049</td><td>1</td><td>1</td></tr>\n",
       "\t<tr><td>websitedomeneshop       </td><td>1.0000</td><td>1.0000</td><td>0.6010</td><td>0.478</td><td>1</td><td>1</td></tr>\n",
       "\t<tr><td>websitedotserve inc     </td><td>0.0000</td><td>0.0000</td><td>0.4172</td><td>0.099</td><td>0</td><td>1</td></tr>\n",
       "\t<tr><td>websiteembratelcloud    </td><td>0.0000</td><td>0.0000</td><td>0.4356</td><td>0.311</td><td>0</td><td>1</td></tr>\n",
       "\t<tr><td>websiteflexwebhosting   </td><td>0.1060</td><td>0.1060</td><td>0.5768</td><td>0.049</td><td>1</td><td>1</td></tr>\n",
       "\t<tr><td>websitegransy           </td><td>0.0000</td><td>0.0000</td><td>0.4167</td><td>0.478</td><td>0</td><td>1</td></tr>\n",
       "\t<tr><td>websitegridhost         </td><td>0.0000</td><td>0.0000</td><td>0.4809</td><td>0.124</td><td>1</td><td>1</td></tr>\n",
       "\t<tr><td>websitehostens          </td><td>0.0000</td><td>0.0000</td><td>0.1120</td><td>0.099</td><td>0</td><td>1</td></tr>\n",
       "\t<tr><td>websitehostgator mexico </td><td>0.0000</td><td>0.0000</td><td>0.1322</td><td>0.311</td><td>0</td><td>1</td></tr>\n",
       "\t<tr><td>websiteidwebhost        </td><td>0.0000</td><td>0.0000</td><td>0.0813</td><td>0.124</td><td>0</td><td>1</td></tr>\n",
       "\t<tr><td>websiteinterserver      </td><td>0.4282</td><td>0.4282</td><td>0.3751</td><td>0.311</td><td>0</td><td>1</td></tr>\n",
       "\t<tr><td>websiteipage pdr ltd    </td><td>1.0000</td><td>1.0000</td><td>0.4581</td><td>0.427</td><td>0</td><td>1</td></tr>\n",
       "\t<tr><td>websitejogjacamp        </td><td>0.0000</td><td>0.0000</td><td>0.1318</td><td>0.124</td><td>0</td><td>1</td></tr>\n",
       "\t<tr><td>websitekreativmedia     </td><td>0.0000</td><td>0.0000</td><td>0.4745</td><td>0.049</td><td>1</td><td>1</td></tr>\n",
       "\t<tr><td>websiteloopia           </td><td>0.1578</td><td>0.1578</td><td>0.3006</td><td>0.311</td><td>1</td><td>1</td></tr>\n",
       "\t<tr><td>websitemarcaria.com     </td><td>0.5000</td><td>0.5000</td><td>0.5258</td><td>0.478</td><td>1</td><td>1</td></tr>\n",
       "\t<tr><td>websitemelbourne it     </td><td>1.0000</td><td>1.0000</td><td>0.6572</td><td>0.478</td><td>1</td><td>1</td></tr>\n",
       "\t<tr><td>websitenhan hoa software</td><td>0.0000</td><td>0.0000</td><td>0.0530</td><td>0.049</td><td>0</td><td>1</td></tr>\n",
       "\t<tr><td>websiteopentld b.v.     </td><td>1.0000</td><td>1.0000</td><td>0.4683</td><td>0.478</td><td>1</td><td>1</td></tr>\n",
       "\t<tr><td>websiteproisp           </td><td>0.0000</td><td>0.0000</td><td>0.7374</td><td>0.311</td><td>0</td><td>1</td></tr>\n",
       "\t<tr><td>websitepromo people     </td><td>0.0000</td><td>0.0000</td><td>0.2877</td><td>0.124</td><td>1</td><td>1</td></tr>\n",
       "\t<tr><td>websiteregway           </td><td>0.0000</td><td>0.0000</td><td>0.0462</td><td>0.049</td><td>0</td><td>1</td></tr>\n",
       "\t<tr><td>websitesafenames ltd    </td><td>0.0000</td><td>0.0000</td><td>0.9861</td><td>0.478</td><td>1</td><td>1</td></tr>\n",
       "\t<tr><td>websitetradeindia       </td><td>0.0000</td><td>0.0000</td><td>0.1131</td><td>0.311</td><td>0</td><td>1</td></tr>\n",
       "\t<tr><td>websitetransip          </td><td>1.0000</td><td>1.0000</td><td>0.4739</td><td>0.427</td><td>0</td><td>1</td></tr>\n",
       "\t<tr><td>websiteunoeuro          </td><td>0.0000</td><td>0.0000</td><td>0.6045</td><td>0.427</td><td>1</td><td>1</td></tr>\n",
       "\t<tr><td>websitevimexx trc       </td><td>0.0000</td><td>0.0000</td><td>0.6128</td><td>0.478</td><td>1</td><td>1</td></tr>\n",
       "\t<tr><td>websitewhogohost        </td><td>0.0000</td><td>0.0000</td><td>0.0608</td><td>0.049</td><td>0</td><td>1</td></tr>\n",
       "\t<tr><td>websitexpress           </td><td>1.0000</td><td>1.0000</td><td>0.2680</td><td>0.311</td><td>0</td><td>1</td></tr>\n",
       "</tbody>\n",
       "</table>\n"
      ],
      "text/latex": [
       "A tibble: 1519 × 7\n",
       "\\begin{tabular}{lllllll}\n",
       " tld\\_registrar\\_index & sum\\_pred\\_meta\\_l10 & sum\\_pred\\_meta\\_auc & sum\\_pred\\_agg\\_rf\\_ALL & sum\\_pred\\_seg2\\_glm\\_ALL\\_fb & sum\\_actl & count\\\\\n",
       " <chr> & <dbl> & <dbl> & <dbl> & <dbl> & <int> & <int>\\\\\n",
       "\\hline\n",
       "\t sitegmo                       & 1049.0909 & 1616.2998 & 1616.2998 & 1049.0909 &  910 & 71230\\\\\n",
       "\t funalibaba                    &  352.4536 &  576.1703 &  576.1703 &  352.4536 &  342 & 33558\\\\\n",
       "\t sitealibaba                   &  278.2382 &  820.0601 &  820.0601 &  278.2382 &  311 & 23651\\\\\n",
       "\t sitenamecheap                 &  899.2499 &  905.0562 &  905.0562 &  899.2499 &  715 & 23551\\\\\n",
       "\t onlinealibaba                 &  493.0381 &  571.6094 &  571.6094 &  493.0381 &  457 & 22778\\\\\n",
       "\t pwnamecheap                   &  450.6514 &  450.6514 &  498.3477 &  450.6514 &  494 & 16877\\\\\n",
       "\t funchengdu west               &   17.8521 &   17.8521 &  186.1679 &   17.8521 &    9 & 16406\\\\\n",
       "\t onlinego daddy                & 2890.6153 & 2890.6153 & 2889.5651 & 2890.6153 & 2681 & 14933\\\\\n",
       "\t onlinenamecheap               & 1056.4992 & 1056.4992 & 1404.3703 & 1056.4992 & 1349 & 14062\\\\\n",
       "\t sitereg.ru                    &  354.1151 &  354.1151 &  369.9095 &  354.1151 &  372 & 12814\\\\\n",
       "\t sitegandi sas                 &  165.2611 &  165.2611 &  165.2611 &  181.0879 &  140 & 11869\\\\\n",
       "\t websitenamecheap              &  867.8445 &  867.8445 &  940.8731 &  867.8445 &  903 & 11281\\\\\n",
       "\t siteonlinenic                 &   17.0426 &   17.0426 &   17.0426 &   26.4492 &    7 & 11115\\\\\n",
       "\t sitego daddy                  &  696.5759 &  752.9931 &  696.5759 &  752.9931 &  651 & 10227\\\\\n",
       "\t hostnamecheap                 &  275.3895 &  233.6793 &  275.3895 &  233.6793 &  204 &  9771\\\\\n",
       "\t sitechengdu west              &  106.2220 &   65.6753 &  106.2220 &   65.6753 &   46 &  8707\\\\\n",
       "\t spacenamecheap                &  542.9155 &  542.9155 &  604.8275 &  542.9155 &  494 &  8365\\\\\n",
       "\t funnamecheap                  &  338.9257 &  350.6228 &  350.6228 &  338.9257 &  480 &  7528\\\\\n",
       "\t onlinehostinger               &  482.6989 &  482.6989 &  485.9168 &  482.6989 &  418 &  7027\\\\\n",
       "\t sitenetwork solutions         & 1225.1130 & 1196.4413 & 1225.1130 & 1196.4413 & 1133 &  6900\\\\\n",
       "\t sitezhengzhou century connect &   31.0993 &   31.0993 &   31.0993 &    1.0000 &    0 &  6745\\\\\n",
       "\t spacego daddy                 &  509.4904 &  505.4734 &  509.4904 &  505.4734 &  714 &  5086\\\\\n",
       "\t storealibaba                  &  426.3795 &  399.8585 &  426.3795 &  399.8585 &  406 &  4890\\\\\n",
       "\t onlinereg.ru                  &  434.1286 &  434.1286 &  426.2106 &  434.1286 &  421 &  3950\\\\\n",
       "\t storego daddy                 & 1272.8512 & 1257.8007 & 1272.8512 & 1257.8007 & 1236 &  3924\\\\\n",
       "\t websiteuniregistrar           &   41.5796 &   27.7270 &   41.5796 &   27.7270 &  289 &  3738\\\\\n",
       "\t onlinechengdu west            &   68.2927 &   68.2927 &   68.2927 &   38.6189 &   30 &  3664\\\\\n",
       "\t spacereg.ru                   &  132.9055 &  132.9055 &  134.5944 &  132.9055 &  120 &  3556\\\\\n",
       "\t siteurl solutions             &   31.0734 &   31.9201 &   31.0734 &   31.9201 &   29 &  3386\\\\\n",
       "\t funreg.ru                     &   27.9843 &   27.9843 &   36.4306 &   28.0033 &   42 &  3302\\\\\n",
       "\t online1\\&1 internet            & 1502.1489 & 1502.1489 & 1502.1489 & 1513.2878 & 1438 &  3251\\\\\n",
       "\t techhostinger                 &  223.6837 &  223.6837 &  230.1620 &  223.6837 &  186 &  3047\\\\\n",
       "\t websitereg.ru                 &   35.8512 &   35.8512 &   50.4793 &   35.8512 &   54 &  3026\\\\\n",
       "\t sitehostinger                 &  195.5073 &  195.5073 &  188.2995 &  195.5073 &  158 &  2987\\\\\n",
       "\t sitexiamen chinasource        &    7.8844 &  117.2951 &  117.2951 &    7.8844 &    6 &  2772\\\\\n",
       "\t onlinefbs                     &   35.7508 &   34.1948 &   35.7508 &   34.1948 &  177 &  2756\\\\\n",
       "\t storenamecheap                &  408.7066 &  372.8824 &  408.7066 &  372.8824 &  434 &  2742\\\\\n",
       "\t onlinenamesilo                &  301.3700 &  187.4444 &  301.3700 &  187.4444 &  195 &  2694\\\\\n",
       "\t onlinedynadot                 &   81.7191 &   81.7191 &  124.8654 &   81.7191 &  122 &  2659\\\\\n",
       "\t sitehome.pl                   &   61.9848 &   61.9848 &   61.9848 &   22.8020 &   38 &  2607\\\\\n",
       "\t sitepdr china                 &   17.7846 &    9.9819 &   17.7846 &    9.9819 &    4 &  2523\\\\\n",
       "\t websitego daddy               &  315.1173 &  317.6624 &  315.1173 &  317.6624 &  284 &  2452\\\\\n",
       "\t hostreg.ru                    &    6.3497 &    6.3497 &   13.5059 &    6.3497 &   10 &  2450\\\\\n",
       "\t onlineversio                  &  365.7541 &  362.5281 &  365.7541 &  362.5281 &  423 &  2362\\\\\n",
       "\t technamecheap                 &  470.4894 &  485.3284 &  470.4894 &  485.3284 &  430 &  2353\\\\\n",
       "\t onlinebigrock                 &  135.8235 &  135.8235 &  140.0609 &  135.8235 &  160 &  2016\\\\\n",
       "\t storeshopify                  &  271.8086 &  263.9822 &  271.8086 &  263.9822 &  265 &  1904\\\\\n",
       "\t funpdr ltd                    &   14.7762 &   23.7629 &   23.7629 &   14.7762 &   16 &  1900\\\\\n",
       "\t onlinebeget                   &   82.1476 &   82.1476 &   96.9313 &   82.1476 &   92 &  1839\\\\\n",
       "\t storehostinger                &  119.7978 &  119.7978 &  120.4979 &  119.7978 &  109 &  1833\\\\\n",
       "\t ⋮ & ⋮ & ⋮ & ⋮ & ⋮ & ⋮ & ⋮\\\\\n",
       "\t storesiteground          & 0.0000 & 0.0000 & 0.5983 & 0.261 & 0 & 1\\\\\n",
       "\t storeumbler              & 0.5000 & 0.5000 & 0.3278 & 0.261 & 0 & 1\\\\\n",
       "\t storewebonic             & 0.0000 & 0.0000 & 0.3765 & 0.187 & 1 & 1\\\\\n",
       "\t techcheck domain         & 0.0000 & 0.0000 & 0.7533 & 0.450 & 1 & 1\\\\\n",
       "\t techdomaininfo           & 1.0000 & 1.0000 & 0.7605 & 0.616 & 1 & 1\\\\\n",
       "\t techdotname korea        & 0.0000 & 0.0000 & 0.3850 & 0.269 & 1 & 1\\\\\n",
       "\t techeasydns              & 0.4998 & 0.4998 & 0.5790 & 0.450 & 1 & 1\\\\\n",
       "\t techkinghost             & 0.0000 & 0.0000 & 0.4821 & 0.450 & 0 & 1\\\\\n",
       "\t techmelbourne it         & 0.0000 & 0.0000 & 0.8095 & 0.616 & 1 & 1\\\\\n",
       "\t techmijn internet        & 0.0000 & 0.0000 & 0.9111 & 0.616 & 1 & 1\\\\\n",
       "\t techopentld b.v.         & 0.0000 & 0.0000 & 0.4486 & 0.616 & 0 & 1\\\\\n",
       "\t techorigiweb             & 0.0000 & 0.0000 & 0.4208 & 0.519 & 1 & 1\\\\\n",
       "\t techqwords               & 0.0000 & 0.0000 & 0.1450 & 0.144 & 0 & 1\\\\\n",
       "\t techsafenames ltd        & 0.0000 & 0.0000 & 0.8386 & 0.616 & 1 & 1\\\\\n",
       "\t techtodaynic             & 1.0000 & 1.0000 & 0.2838 & 0.269 & 0 & 1\\\\\n",
       "\t techventraip             & 0.0000 & 0.0000 & 0.6721 & 0.616 & 1 & 1\\\\\n",
       "\t techwebonic              & 1.0000 & 1.0000 & 0.5983 & 0.269 & 0 & 1\\\\\n",
       "\t websiteab name isp       & 0.0000 & 0.0000 & 0.3996 & 0.478 & 1 & 1\\\\\n",
       "\t websitearsys             & 0.0000 & 0.0000 & 0.6282 & 0.311 & 1 & 1\\\\\n",
       "\t websiteblacknight        & 1.0000 & 1.0000 & 0.6274 & 0.478 & 1 & 1\\\\\n",
       "\t websitednc holdings      & 0.0000 & 0.0000 & 0.5765 & 0.478 & 0 & 1\\\\\n",
       "\t websitedomainfactory     & 1.0000 & 1.0000 & 0.8295 & 0.049 & 1 & 1\\\\\n",
       "\t websitedomeneshop        & 1.0000 & 1.0000 & 0.6010 & 0.478 & 1 & 1\\\\\n",
       "\t websitedotserve inc      & 0.0000 & 0.0000 & 0.4172 & 0.099 & 0 & 1\\\\\n",
       "\t websiteembratelcloud     & 0.0000 & 0.0000 & 0.4356 & 0.311 & 0 & 1\\\\\n",
       "\t websiteflexwebhosting    & 0.1060 & 0.1060 & 0.5768 & 0.049 & 1 & 1\\\\\n",
       "\t websitegransy            & 0.0000 & 0.0000 & 0.4167 & 0.478 & 0 & 1\\\\\n",
       "\t websitegridhost          & 0.0000 & 0.0000 & 0.4809 & 0.124 & 1 & 1\\\\\n",
       "\t websitehostens           & 0.0000 & 0.0000 & 0.1120 & 0.099 & 0 & 1\\\\\n",
       "\t websitehostgator mexico  & 0.0000 & 0.0000 & 0.1322 & 0.311 & 0 & 1\\\\\n",
       "\t websiteidwebhost         & 0.0000 & 0.0000 & 0.0813 & 0.124 & 0 & 1\\\\\n",
       "\t websiteinterserver       & 0.4282 & 0.4282 & 0.3751 & 0.311 & 0 & 1\\\\\n",
       "\t websiteipage pdr ltd     & 1.0000 & 1.0000 & 0.4581 & 0.427 & 0 & 1\\\\\n",
       "\t websitejogjacamp         & 0.0000 & 0.0000 & 0.1318 & 0.124 & 0 & 1\\\\\n",
       "\t websitekreativmedia      & 0.0000 & 0.0000 & 0.4745 & 0.049 & 1 & 1\\\\\n",
       "\t websiteloopia            & 0.1578 & 0.1578 & 0.3006 & 0.311 & 1 & 1\\\\\n",
       "\t websitemarcaria.com      & 0.5000 & 0.5000 & 0.5258 & 0.478 & 1 & 1\\\\\n",
       "\t websitemelbourne it      & 1.0000 & 1.0000 & 0.6572 & 0.478 & 1 & 1\\\\\n",
       "\t websitenhan hoa software & 0.0000 & 0.0000 & 0.0530 & 0.049 & 0 & 1\\\\\n",
       "\t websiteopentld b.v.      & 1.0000 & 1.0000 & 0.4683 & 0.478 & 1 & 1\\\\\n",
       "\t websiteproisp            & 0.0000 & 0.0000 & 0.7374 & 0.311 & 0 & 1\\\\\n",
       "\t websitepromo people      & 0.0000 & 0.0000 & 0.2877 & 0.124 & 1 & 1\\\\\n",
       "\t websiteregway            & 0.0000 & 0.0000 & 0.0462 & 0.049 & 0 & 1\\\\\n",
       "\t websitesafenames ltd     & 0.0000 & 0.0000 & 0.9861 & 0.478 & 1 & 1\\\\\n",
       "\t websitetradeindia        & 0.0000 & 0.0000 & 0.1131 & 0.311 & 0 & 1\\\\\n",
       "\t websitetransip           & 1.0000 & 1.0000 & 0.4739 & 0.427 & 0 & 1\\\\\n",
       "\t websiteunoeuro           & 0.0000 & 0.0000 & 0.6045 & 0.427 & 1 & 1\\\\\n",
       "\t websitevimexx trc        & 0.0000 & 0.0000 & 0.6128 & 0.478 & 1 & 1\\\\\n",
       "\t websitewhogohost         & 0.0000 & 0.0000 & 0.0608 & 0.049 & 0 & 1\\\\\n",
       "\t websitexpress            & 1.0000 & 1.0000 & 0.2680 & 0.311 & 0 & 1\\\\\n",
       "\\end{tabular}\n"
      ],
      "text/markdown": [
       "\n",
       "A tibble: 1519 × 7\n",
       "\n",
       "| tld_registrar_index &lt;chr&gt; | sum_pred_meta_l10 &lt;dbl&gt; | sum_pred_meta_auc &lt;dbl&gt; | sum_pred_agg_rf_ALL &lt;dbl&gt; | sum_pred_seg2_glm_ALL_fb &lt;dbl&gt; | sum_actl &lt;int&gt; | count &lt;int&gt; |\n",
       "|---|---|---|---|---|---|---|\n",
       "| sitegmo                       | 1049.0909 | 1616.2998 | 1616.2998 | 1049.0909 |  910 | 71230 |\n",
       "| funalibaba                    |  352.4536 |  576.1703 |  576.1703 |  352.4536 |  342 | 33558 |\n",
       "| sitealibaba                   |  278.2382 |  820.0601 |  820.0601 |  278.2382 |  311 | 23651 |\n",
       "| sitenamecheap                 |  899.2499 |  905.0562 |  905.0562 |  899.2499 |  715 | 23551 |\n",
       "| onlinealibaba                 |  493.0381 |  571.6094 |  571.6094 |  493.0381 |  457 | 22778 |\n",
       "| pwnamecheap                   |  450.6514 |  450.6514 |  498.3477 |  450.6514 |  494 | 16877 |\n",
       "| funchengdu west               |   17.8521 |   17.8521 |  186.1679 |   17.8521 |    9 | 16406 |\n",
       "| onlinego daddy                | 2890.6153 | 2890.6153 | 2889.5651 | 2890.6153 | 2681 | 14933 |\n",
       "| onlinenamecheap               | 1056.4992 | 1056.4992 | 1404.3703 | 1056.4992 | 1349 | 14062 |\n",
       "| sitereg.ru                    |  354.1151 |  354.1151 |  369.9095 |  354.1151 |  372 | 12814 |\n",
       "| sitegandi sas                 |  165.2611 |  165.2611 |  165.2611 |  181.0879 |  140 | 11869 |\n",
       "| websitenamecheap              |  867.8445 |  867.8445 |  940.8731 |  867.8445 |  903 | 11281 |\n",
       "| siteonlinenic                 |   17.0426 |   17.0426 |   17.0426 |   26.4492 |    7 | 11115 |\n",
       "| sitego daddy                  |  696.5759 |  752.9931 |  696.5759 |  752.9931 |  651 | 10227 |\n",
       "| hostnamecheap                 |  275.3895 |  233.6793 |  275.3895 |  233.6793 |  204 |  9771 |\n",
       "| sitechengdu west              |  106.2220 |   65.6753 |  106.2220 |   65.6753 |   46 |  8707 |\n",
       "| spacenamecheap                |  542.9155 |  542.9155 |  604.8275 |  542.9155 |  494 |  8365 |\n",
       "| funnamecheap                  |  338.9257 |  350.6228 |  350.6228 |  338.9257 |  480 |  7528 |\n",
       "| onlinehostinger               |  482.6989 |  482.6989 |  485.9168 |  482.6989 |  418 |  7027 |\n",
       "| sitenetwork solutions         | 1225.1130 | 1196.4413 | 1225.1130 | 1196.4413 | 1133 |  6900 |\n",
       "| sitezhengzhou century connect |   31.0993 |   31.0993 |   31.0993 |    1.0000 |    0 |  6745 |\n",
       "| spacego daddy                 |  509.4904 |  505.4734 |  509.4904 |  505.4734 |  714 |  5086 |\n",
       "| storealibaba                  |  426.3795 |  399.8585 |  426.3795 |  399.8585 |  406 |  4890 |\n",
       "| onlinereg.ru                  |  434.1286 |  434.1286 |  426.2106 |  434.1286 |  421 |  3950 |\n",
       "| storego daddy                 | 1272.8512 | 1257.8007 | 1272.8512 | 1257.8007 | 1236 |  3924 |\n",
       "| websiteuniregistrar           |   41.5796 |   27.7270 |   41.5796 |   27.7270 |  289 |  3738 |\n",
       "| onlinechengdu west            |   68.2927 |   68.2927 |   68.2927 |   38.6189 |   30 |  3664 |\n",
       "| spacereg.ru                   |  132.9055 |  132.9055 |  134.5944 |  132.9055 |  120 |  3556 |\n",
       "| siteurl solutions             |   31.0734 |   31.9201 |   31.0734 |   31.9201 |   29 |  3386 |\n",
       "| funreg.ru                     |   27.9843 |   27.9843 |   36.4306 |   28.0033 |   42 |  3302 |\n",
       "| online1&amp;1 internet            | 1502.1489 | 1502.1489 | 1502.1489 | 1513.2878 | 1438 |  3251 |\n",
       "| techhostinger                 |  223.6837 |  223.6837 |  230.1620 |  223.6837 |  186 |  3047 |\n",
       "| websitereg.ru                 |   35.8512 |   35.8512 |   50.4793 |   35.8512 |   54 |  3026 |\n",
       "| sitehostinger                 |  195.5073 |  195.5073 |  188.2995 |  195.5073 |  158 |  2987 |\n",
       "| sitexiamen chinasource        |    7.8844 |  117.2951 |  117.2951 |    7.8844 |    6 |  2772 |\n",
       "| onlinefbs                     |   35.7508 |   34.1948 |   35.7508 |   34.1948 |  177 |  2756 |\n",
       "| storenamecheap                |  408.7066 |  372.8824 |  408.7066 |  372.8824 |  434 |  2742 |\n",
       "| onlinenamesilo                |  301.3700 |  187.4444 |  301.3700 |  187.4444 |  195 |  2694 |\n",
       "| onlinedynadot                 |   81.7191 |   81.7191 |  124.8654 |   81.7191 |  122 |  2659 |\n",
       "| sitehome.pl                   |   61.9848 |   61.9848 |   61.9848 |   22.8020 |   38 |  2607 |\n",
       "| sitepdr china                 |   17.7846 |    9.9819 |   17.7846 |    9.9819 |    4 |  2523 |\n",
       "| websitego daddy               |  315.1173 |  317.6624 |  315.1173 |  317.6624 |  284 |  2452 |\n",
       "| hostreg.ru                    |    6.3497 |    6.3497 |   13.5059 |    6.3497 |   10 |  2450 |\n",
       "| onlineversio                  |  365.7541 |  362.5281 |  365.7541 |  362.5281 |  423 |  2362 |\n",
       "| technamecheap                 |  470.4894 |  485.3284 |  470.4894 |  485.3284 |  430 |  2353 |\n",
       "| onlinebigrock                 |  135.8235 |  135.8235 |  140.0609 |  135.8235 |  160 |  2016 |\n",
       "| storeshopify                  |  271.8086 |  263.9822 |  271.8086 |  263.9822 |  265 |  1904 |\n",
       "| funpdr ltd                    |   14.7762 |   23.7629 |   23.7629 |   14.7762 |   16 |  1900 |\n",
       "| onlinebeget                   |   82.1476 |   82.1476 |   96.9313 |   82.1476 |   92 |  1839 |\n",
       "| storehostinger                |  119.7978 |  119.7978 |  120.4979 |  119.7978 |  109 |  1833 |\n",
       "| ⋮ | ⋮ | ⋮ | ⋮ | ⋮ | ⋮ | ⋮ |\n",
       "| storesiteground          | 0.0000 | 0.0000 | 0.5983 | 0.261 | 0 | 1 |\n",
       "| storeumbler              | 0.5000 | 0.5000 | 0.3278 | 0.261 | 0 | 1 |\n",
       "| storewebonic             | 0.0000 | 0.0000 | 0.3765 | 0.187 | 1 | 1 |\n",
       "| techcheck domain         | 0.0000 | 0.0000 | 0.7533 | 0.450 | 1 | 1 |\n",
       "| techdomaininfo           | 1.0000 | 1.0000 | 0.7605 | 0.616 | 1 | 1 |\n",
       "| techdotname korea        | 0.0000 | 0.0000 | 0.3850 | 0.269 | 1 | 1 |\n",
       "| techeasydns              | 0.4998 | 0.4998 | 0.5790 | 0.450 | 1 | 1 |\n",
       "| techkinghost             | 0.0000 | 0.0000 | 0.4821 | 0.450 | 0 | 1 |\n",
       "| techmelbourne it         | 0.0000 | 0.0000 | 0.8095 | 0.616 | 1 | 1 |\n",
       "| techmijn internet        | 0.0000 | 0.0000 | 0.9111 | 0.616 | 1 | 1 |\n",
       "| techopentld b.v.         | 0.0000 | 0.0000 | 0.4486 | 0.616 | 0 | 1 |\n",
       "| techorigiweb             | 0.0000 | 0.0000 | 0.4208 | 0.519 | 1 | 1 |\n",
       "| techqwords               | 0.0000 | 0.0000 | 0.1450 | 0.144 | 0 | 1 |\n",
       "| techsafenames ltd        | 0.0000 | 0.0000 | 0.8386 | 0.616 | 1 | 1 |\n",
       "| techtodaynic             | 1.0000 | 1.0000 | 0.2838 | 0.269 | 0 | 1 |\n",
       "| techventraip             | 0.0000 | 0.0000 | 0.6721 | 0.616 | 1 | 1 |\n",
       "| techwebonic              | 1.0000 | 1.0000 | 0.5983 | 0.269 | 0 | 1 |\n",
       "| websiteab name isp       | 0.0000 | 0.0000 | 0.3996 | 0.478 | 1 | 1 |\n",
       "| websitearsys             | 0.0000 | 0.0000 | 0.6282 | 0.311 | 1 | 1 |\n",
       "| websiteblacknight        | 1.0000 | 1.0000 | 0.6274 | 0.478 | 1 | 1 |\n",
       "| websitednc holdings      | 0.0000 | 0.0000 | 0.5765 | 0.478 | 0 | 1 |\n",
       "| websitedomainfactory     | 1.0000 | 1.0000 | 0.8295 | 0.049 | 1 | 1 |\n",
       "| websitedomeneshop        | 1.0000 | 1.0000 | 0.6010 | 0.478 | 1 | 1 |\n",
       "| websitedotserve inc      | 0.0000 | 0.0000 | 0.4172 | 0.099 | 0 | 1 |\n",
       "| websiteembratelcloud     | 0.0000 | 0.0000 | 0.4356 | 0.311 | 0 | 1 |\n",
       "| websiteflexwebhosting    | 0.1060 | 0.1060 | 0.5768 | 0.049 | 1 | 1 |\n",
       "| websitegransy            | 0.0000 | 0.0000 | 0.4167 | 0.478 | 0 | 1 |\n",
       "| websitegridhost          | 0.0000 | 0.0000 | 0.4809 | 0.124 | 1 | 1 |\n",
       "| websitehostens           | 0.0000 | 0.0000 | 0.1120 | 0.099 | 0 | 1 |\n",
       "| websitehostgator mexico  | 0.0000 | 0.0000 | 0.1322 | 0.311 | 0 | 1 |\n",
       "| websiteidwebhost         | 0.0000 | 0.0000 | 0.0813 | 0.124 | 0 | 1 |\n",
       "| websiteinterserver       | 0.4282 | 0.4282 | 0.3751 | 0.311 | 0 | 1 |\n",
       "| websiteipage pdr ltd     | 1.0000 | 1.0000 | 0.4581 | 0.427 | 0 | 1 |\n",
       "| websitejogjacamp         | 0.0000 | 0.0000 | 0.1318 | 0.124 | 0 | 1 |\n",
       "| websitekreativmedia      | 0.0000 | 0.0000 | 0.4745 | 0.049 | 1 | 1 |\n",
       "| websiteloopia            | 0.1578 | 0.1578 | 0.3006 | 0.311 | 1 | 1 |\n",
       "| websitemarcaria.com      | 0.5000 | 0.5000 | 0.5258 | 0.478 | 1 | 1 |\n",
       "| websitemelbourne it      | 1.0000 | 1.0000 | 0.6572 | 0.478 | 1 | 1 |\n",
       "| websitenhan hoa software | 0.0000 | 0.0000 | 0.0530 | 0.049 | 0 | 1 |\n",
       "| websiteopentld b.v.      | 1.0000 | 1.0000 | 0.4683 | 0.478 | 1 | 1 |\n",
       "| websiteproisp            | 0.0000 | 0.0000 | 0.7374 | 0.311 | 0 | 1 |\n",
       "| websitepromo people      | 0.0000 | 0.0000 | 0.2877 | 0.124 | 1 | 1 |\n",
       "| websiteregway            | 0.0000 | 0.0000 | 0.0462 | 0.049 | 0 | 1 |\n",
       "| websitesafenames ltd     | 0.0000 | 0.0000 | 0.9861 | 0.478 | 1 | 1 |\n",
       "| websitetradeindia        | 0.0000 | 0.0000 | 0.1131 | 0.311 | 0 | 1 |\n",
       "| websitetransip           | 1.0000 | 1.0000 | 0.4739 | 0.427 | 0 | 1 |\n",
       "| websiteunoeuro           | 0.0000 | 0.0000 | 0.6045 | 0.427 | 1 | 1 |\n",
       "| websitevimexx trc        | 0.0000 | 0.0000 | 0.6128 | 0.478 | 1 | 1 |\n",
       "| websitewhogohost         | 0.0000 | 0.0000 | 0.0608 | 0.049 | 0 | 1 |\n",
       "| websitexpress            | 1.0000 | 1.0000 | 0.2680 | 0.311 | 0 | 1 |\n",
       "\n"
      ],
      "text/plain": [
       "     tld_registrar_index           sum_pred_meta_l10 sum_pred_meta_auc\n",
       "1    sitegmo                       1049.0909         1616.2998        \n",
       "2    funalibaba                     352.4536          576.1703        \n",
       "3    sitealibaba                    278.2382          820.0601        \n",
       "4    sitenamecheap                  899.2499          905.0562        \n",
       "5    onlinealibaba                  493.0381          571.6094        \n",
       "6    pwnamecheap                    450.6514          450.6514        \n",
       "7    funchengdu west                 17.8521           17.8521        \n",
       "8    onlinego daddy                2890.6153         2890.6153        \n",
       "9    onlinenamecheap               1056.4992         1056.4992        \n",
       "10   sitereg.ru                     354.1151          354.1151        \n",
       "11   sitegandi sas                  165.2611          165.2611        \n",
       "12   websitenamecheap               867.8445          867.8445        \n",
       "13   siteonlinenic                   17.0426           17.0426        \n",
       "14   sitego daddy                   696.5759          752.9931        \n",
       "15   hostnamecheap                  275.3895          233.6793        \n",
       "16   sitechengdu west               106.2220           65.6753        \n",
       "17   spacenamecheap                 542.9155          542.9155        \n",
       "18   funnamecheap                   338.9257          350.6228        \n",
       "19   onlinehostinger                482.6989          482.6989        \n",
       "20   sitenetwork solutions         1225.1130         1196.4413        \n",
       "21   sitezhengzhou century connect   31.0993           31.0993        \n",
       "22   spacego daddy                  509.4904          505.4734        \n",
       "23   storealibaba                   426.3795          399.8585        \n",
       "24   onlinereg.ru                   434.1286          434.1286        \n",
       "25   storego daddy                 1272.8512         1257.8007        \n",
       "26   websiteuniregistrar             41.5796           27.7270        \n",
       "27   onlinechengdu west              68.2927           68.2927        \n",
       "28   spacereg.ru                    132.9055          132.9055        \n",
       "29   siteurl solutions               31.0734           31.9201        \n",
       "30   funreg.ru                       27.9843           27.9843        \n",
       "31   online1&1 internet            1502.1489         1502.1489        \n",
       "32   techhostinger                  223.6837          223.6837        \n",
       "33   websitereg.ru                   35.8512           35.8512        \n",
       "34   sitehostinger                  195.5073          195.5073        \n",
       "35   sitexiamen chinasource           7.8844          117.2951        \n",
       "36   onlinefbs                       35.7508           34.1948        \n",
       "37   storenamecheap                 408.7066          372.8824        \n",
       "38   onlinenamesilo                 301.3700          187.4444        \n",
       "39   onlinedynadot                   81.7191           81.7191        \n",
       "40   sitehome.pl                     61.9848           61.9848        \n",
       "41   sitepdr china                   17.7846            9.9819        \n",
       "42   websitego daddy                315.1173          317.6624        \n",
       "43   hostreg.ru                       6.3497            6.3497        \n",
       "44   onlineversio                   365.7541          362.5281        \n",
       "45   technamecheap                  470.4894          485.3284        \n",
       "46   onlinebigrock                  135.8235          135.8235        \n",
       "47   storeshopify                   271.8086          263.9822        \n",
       "48   funpdr ltd                      14.7762           23.7629        \n",
       "49   onlinebeget                     82.1476           82.1476        \n",
       "50   storehostinger                 119.7978          119.7978        \n",
       "⋮    ⋮                             ⋮                 ⋮                \n",
       "1470 storesiteground               0.0000            0.0000           \n",
       "1471 storeumbler                   0.5000            0.5000           \n",
       "1472 storewebonic                  0.0000            0.0000           \n",
       "1473 techcheck domain              0.0000            0.0000           \n",
       "1474 techdomaininfo                1.0000            1.0000           \n",
       "1475 techdotname korea             0.0000            0.0000           \n",
       "1476 techeasydns                   0.4998            0.4998           \n",
       "1477 techkinghost                  0.0000            0.0000           \n",
       "1478 techmelbourne it              0.0000            0.0000           \n",
       "1479 techmijn internet             0.0000            0.0000           \n",
       "1480 techopentld b.v.              0.0000            0.0000           \n",
       "1481 techorigiweb                  0.0000            0.0000           \n",
       "1482 techqwords                    0.0000            0.0000           \n",
       "1483 techsafenames ltd             0.0000            0.0000           \n",
       "1484 techtodaynic                  1.0000            1.0000           \n",
       "1485 techventraip                  0.0000            0.0000           \n",
       "1486 techwebonic                   1.0000            1.0000           \n",
       "1487 websiteab name isp            0.0000            0.0000           \n",
       "1488 websitearsys                  0.0000            0.0000           \n",
       "1489 websiteblacknight             1.0000            1.0000           \n",
       "1490 websitednc holdings           0.0000            0.0000           \n",
       "1491 websitedomainfactory          1.0000            1.0000           \n",
       "1492 websitedomeneshop             1.0000            1.0000           \n",
       "1493 websitedotserve inc           0.0000            0.0000           \n",
       "1494 websiteembratelcloud          0.0000            0.0000           \n",
       "1495 websiteflexwebhosting         0.1060            0.1060           \n",
       "1496 websitegransy                 0.0000            0.0000           \n",
       "1497 websitegridhost               0.0000            0.0000           \n",
       "1498 websitehostens                0.0000            0.0000           \n",
       "1499 websitehostgator mexico       0.0000            0.0000           \n",
       "1500 websiteidwebhost              0.0000            0.0000           \n",
       "1501 websiteinterserver            0.4282            0.4282           \n",
       "1502 websiteipage pdr ltd          1.0000            1.0000           \n",
       "1503 websitejogjacamp              0.0000            0.0000           \n",
       "1504 websitekreativmedia           0.0000            0.0000           \n",
       "1505 websiteloopia                 0.1578            0.1578           \n",
       "1506 websitemarcaria.com           0.5000            0.5000           \n",
       "1507 websitemelbourne it           1.0000            1.0000           \n",
       "1508 websitenhan hoa software      0.0000            0.0000           \n",
       "1509 websiteopentld b.v.           1.0000            1.0000           \n",
       "1510 websiteproisp                 0.0000            0.0000           \n",
       "1511 websitepromo people           0.0000            0.0000           \n",
       "1512 websiteregway                 0.0000            0.0000           \n",
       "1513 websitesafenames ltd          0.0000            0.0000           \n",
       "1514 websitetradeindia             0.0000            0.0000           \n",
       "1515 websitetransip                1.0000            1.0000           \n",
       "1516 websiteunoeuro                0.0000            0.0000           \n",
       "1517 websitevimexx trc             0.0000            0.0000           \n",
       "1518 websitewhogohost              0.0000            0.0000           \n",
       "1519 websitexpress                 1.0000            1.0000           \n",
       "     sum_pred_agg_rf_ALL sum_pred_seg2_glm_ALL_fb sum_actl count\n",
       "1    1616.2998           1049.0909                 910     71230\n",
       "2     576.1703            352.4536                 342     33558\n",
       "3     820.0601            278.2382                 311     23651\n",
       "4     905.0562            899.2499                 715     23551\n",
       "5     571.6094            493.0381                 457     22778\n",
       "6     498.3477            450.6514                 494     16877\n",
       "7     186.1679             17.8521                   9     16406\n",
       "8    2889.5651           2890.6153                2681     14933\n",
       "9    1404.3703           1056.4992                1349     14062\n",
       "10    369.9095            354.1151                 372     12814\n",
       "11    165.2611            181.0879                 140     11869\n",
       "12    940.8731            867.8445                 903     11281\n",
       "13     17.0426             26.4492                   7     11115\n",
       "14    696.5759            752.9931                 651     10227\n",
       "15    275.3895            233.6793                 204      9771\n",
       "16    106.2220             65.6753                  46      8707\n",
       "17    604.8275            542.9155                 494      8365\n",
       "18    350.6228            338.9257                 480      7528\n",
       "19    485.9168            482.6989                 418      7027\n",
       "20   1225.1130           1196.4413                1133      6900\n",
       "21     31.0993              1.0000                   0      6745\n",
       "22    509.4904            505.4734                 714      5086\n",
       "23    426.3795            399.8585                 406      4890\n",
       "24    426.2106            434.1286                 421      3950\n",
       "25   1272.8512           1257.8007                1236      3924\n",
       "26     41.5796             27.7270                 289      3738\n",
       "27     68.2927             38.6189                  30      3664\n",
       "28    134.5944            132.9055                 120      3556\n",
       "29     31.0734             31.9201                  29      3386\n",
       "30     36.4306             28.0033                  42      3302\n",
       "31   1502.1489           1513.2878                1438      3251\n",
       "32    230.1620            223.6837                 186      3047\n",
       "33     50.4793             35.8512                  54      3026\n",
       "34    188.2995            195.5073                 158      2987\n",
       "35    117.2951              7.8844                   6      2772\n",
       "36     35.7508             34.1948                 177      2756\n",
       "37    408.7066            372.8824                 434      2742\n",
       "38    301.3700            187.4444                 195      2694\n",
       "39    124.8654             81.7191                 122      2659\n",
       "40     61.9848             22.8020                  38      2607\n",
       "41     17.7846              9.9819                   4      2523\n",
       "42    315.1173            317.6624                 284      2452\n",
       "43     13.5059              6.3497                  10      2450\n",
       "44    365.7541            362.5281                 423      2362\n",
       "45    470.4894            485.3284                 430      2353\n",
       "46    140.0609            135.8235                 160      2016\n",
       "47    271.8086            263.9822                 265      1904\n",
       "48     23.7629             14.7762                  16      1900\n",
       "49     96.9313             82.1476                  92      1839\n",
       "50    120.4979            119.7978                 109      1833\n",
       "⋮    ⋮                   ⋮                        ⋮        ⋮    \n",
       "1470 0.5983              0.261                    0        1    \n",
       "1471 0.3278              0.261                    0        1    \n",
       "1472 0.3765              0.187                    1        1    \n",
       "1473 0.7533              0.450                    1        1    \n",
       "1474 0.7605              0.616                    1        1    \n",
       "1475 0.3850              0.269                    1        1    \n",
       "1476 0.5790              0.450                    1        1    \n",
       "1477 0.4821              0.450                    0        1    \n",
       "1478 0.8095              0.616                    1        1    \n",
       "1479 0.9111              0.616                    1        1    \n",
       "1480 0.4486              0.616                    0        1    \n",
       "1481 0.4208              0.519                    1        1    \n",
       "1482 0.1450              0.144                    0        1    \n",
       "1483 0.8386              0.616                    1        1    \n",
       "1484 0.2838              0.269                    0        1    \n",
       "1485 0.6721              0.616                    1        1    \n",
       "1486 0.5983              0.269                    0        1    \n",
       "1487 0.3996              0.478                    1        1    \n",
       "1488 0.6282              0.311                    1        1    \n",
       "1489 0.6274              0.478                    1        1    \n",
       "1490 0.5765              0.478                    0        1    \n",
       "1491 0.8295              0.049                    1        1    \n",
       "1492 0.6010              0.478                    1        1    \n",
       "1493 0.4172              0.099                    0        1    \n",
       "1494 0.4356              0.311                    0        1    \n",
       "1495 0.5768              0.049                    1        1    \n",
       "1496 0.4167              0.478                    0        1    \n",
       "1497 0.4809              0.124                    1        1    \n",
       "1498 0.1120              0.099                    0        1    \n",
       "1499 0.1322              0.311                    0        1    \n",
       "1500 0.0813              0.124                    0        1    \n",
       "1501 0.3751              0.311                    0        1    \n",
       "1502 0.4581              0.427                    0        1    \n",
       "1503 0.1318              0.124                    0        1    \n",
       "1504 0.4745              0.049                    1        1    \n",
       "1505 0.3006              0.311                    1        1    \n",
       "1506 0.5258              0.478                    1        1    \n",
       "1507 0.6572              0.478                    1        1    \n",
       "1508 0.0530              0.049                    0        1    \n",
       "1509 0.4683              0.478                    1        1    \n",
       "1510 0.7374              0.311                    0        1    \n",
       "1511 0.2877              0.124                    1        1    \n",
       "1512 0.0462              0.049                    0        1    \n",
       "1513 0.9861              0.478                    1        1    \n",
       "1514 0.1131              0.311                    0        1    \n",
       "1515 0.4739              0.427                    0        1    \n",
       "1516 0.6045              0.427                    1        1    \n",
       "1517 0.6128              0.478                    1        1    \n",
       "1518 0.0608              0.049                    0        1    \n",
       "1519 0.2680              0.311                    0        1    "
      ]
     },
     "metadata": {},
     "output_type": "display_data"
    }
   ],
   "source": [
    "agg_prob"
   ]
  },
  {
   "cell_type": "code",
   "execution_count": 61,
   "metadata": {},
   "outputs": [],
   "source": [
    "write.csv(agg_prob ,'../../data/output/deliv_20210316/20200902_20201008_agg_prob.csv', row.names=FALSE)\n",
    "write.csv(agg_prob_day ,'../../data/output/deliv_20210316/20200902_20201008_agg_prob_day.csv', row.names=FALSE)\n",
    "write.csv(agg_prob_month ,'../../data/output/deliv_20210316/20200902_20201008_agg_prob_month.csv', row.names=FALSE)"
   ]
  },
  {
   "cell_type": "code",
   "execution_count": 40,
   "metadata": {},
   "outputs": [],
   "source": [
    "system(\"gsutil cp -r /home/jupyter/Domains_202003/data/output/deliv_20210316/ gs://output_shared/\")"
   ]
  },
  {
   "cell_type": "markdown",
   "metadata": {},
   "source": [
    "### aside: visual of Aggregate probabilities by priority"
   ]
  },
  {
   "cell_type": "code",
   "execution_count": 41,
   "metadata": {},
   "outputs": [],
   "source": [
    "vis_df <- preds_all\n",
    "# add reseller priority columns to metalearning predictions\n",
    "priorityLookup_df <- read.csv(\"/home/jupyter/Domains_202003/data/data_input/PredictiveModelAnalysis_ResellerPriorityList.csv\")\n",
    "names(priorityLookup_df) <- c(\"market\",\"reseller\",\"npv2020\",\"priority\")\n",
    "priorityLookup_df$reseller <- tolower(priorityLookup_df$reseller)\n",
    "vis_df$reseller <- tolower(vis_df$reseller)\n",
    "vis_df <- merge(vis_df, priorityLookup_df, by=\"reseller\", all.x=TRUE)\n"
   ]
  },
  {
   "cell_type": "code",
   "execution_count": 42,
   "metadata": {},
   "outputs": [
    {
     "name": "stderr",
     "output_type": "stream",
     "text": [
      "`summarise()` ungrouping output (override with `.groups` argument)\n",
      "\n"
     ]
    },
    {
     "data": {
      "text/html": [
       "<table>\n",
       "<caption>A tibble: 5 × 7</caption>\n",
       "<thead>\n",
       "\t<tr><th scope=col>priority</th><th scope=col>sum_pred_l10_bf</th><th scope=col>sum_pred_auc_bf</th><th scope=col>sum_pred_agg_rf_ALL</th><th scope=col>sum_pred_seg2_glm_ALL_fb</th><th scope=col>sum_actl</th><th scope=col>count</th></tr>\n",
       "\t<tr><th scope=col>&lt;int&gt;</th><th scope=col>&lt;dbl&gt;</th><th scope=col>&lt;dbl&gt;</th><th scope=col>&lt;dbl&gt;</th><th scope=col>&lt;dbl&gt;</th><th scope=col>&lt;int&gt;</th><th scope=col>&lt;int&gt;</th></tr>\n",
       "</thead>\n",
       "<tbody>\n",
       "\t<tr><td> 1</td><td>27486.1368</td><td>27740.4800</td><td>27587.4308</td><td>26396.164</td><td>23340</td><td>317998</td></tr>\n",
       "\t<tr><td> 2</td><td> 6335.6203</td><td> 6206.7984</td><td> 6289.1868</td><td> 6106.593</td><td> 5536</td><td> 39684</td></tr>\n",
       "\t<tr><td> 3</td><td> 3635.1455</td><td> 3589.7470</td><td> 3669.2143</td><td> 3020.204</td><td> 3011</td><td> 38575</td></tr>\n",
       "\t<tr><td> 4</td><td> 2456.1624</td><td> 2445.4203</td><td> 2658.1945</td><td> 2074.868</td><td> 2140</td><td> 34519</td></tr>\n",
       "\t<tr><td>NA</td><td>   14.6967</td><td>   18.0375</td><td>   17.7764</td><td>   16.596</td><td>   14</td><td>    91</td></tr>\n",
       "</tbody>\n",
       "</table>\n"
      ],
      "text/latex": [
       "A tibble: 5 × 7\n",
       "\\begin{tabular}{lllllll}\n",
       " priority & sum\\_pred\\_l10\\_bf & sum\\_pred\\_auc\\_bf & sum\\_pred\\_agg\\_rf\\_ALL & sum\\_pred\\_seg2\\_glm\\_ALL\\_fb & sum\\_actl & count\\\\\n",
       " <int> & <dbl> & <dbl> & <dbl> & <dbl> & <int> & <int>\\\\\n",
       "\\hline\n",
       "\t  1 & 27486.1368 & 27740.4800 & 27587.4308 & 26396.164 & 23340 & 317998\\\\\n",
       "\t  2 &  6335.6203 &  6206.7984 &  6289.1868 &  6106.593 &  5536 &  39684\\\\\n",
       "\t  3 &  3635.1455 &  3589.7470 &  3669.2143 &  3020.204 &  3011 &  38575\\\\\n",
       "\t  4 &  2456.1624 &  2445.4203 &  2658.1945 &  2074.868 &  2140 &  34519\\\\\n",
       "\t NA &    14.6967 &    18.0375 &    17.7764 &    16.596 &    14 &     91\\\\\n",
       "\\end{tabular}\n"
      ],
      "text/markdown": [
       "\n",
       "A tibble: 5 × 7\n",
       "\n",
       "| priority &lt;int&gt; | sum_pred_l10_bf &lt;dbl&gt; | sum_pred_auc_bf &lt;dbl&gt; | sum_pred_agg_rf_ALL &lt;dbl&gt; | sum_pred_seg2_glm_ALL_fb &lt;dbl&gt; | sum_actl &lt;int&gt; | count &lt;int&gt; |\n",
       "|---|---|---|---|---|---|---|\n",
       "|  1 | 27486.1368 | 27740.4800 | 27587.4308 | 26396.164 | 23340 | 317998 |\n",
       "|  2 |  6335.6203 |  6206.7984 |  6289.1868 |  6106.593 |  5536 |  39684 |\n",
       "|  3 |  3635.1455 |  3589.7470 |  3669.2143 |  3020.204 |  3011 |  38575 |\n",
       "|  4 |  2456.1624 |  2445.4203 |  2658.1945 |  2074.868 |  2140 |  34519 |\n",
       "| NA |    14.6967 |    18.0375 |    17.7764 |    16.596 |    14 |     91 |\n",
       "\n"
      ],
      "text/plain": [
       "  priority sum_pred_l10_bf sum_pred_auc_bf sum_pred_agg_rf_ALL\n",
       "1  1       27486.1368      27740.4800      27587.4308         \n",
       "2  2        6335.6203       6206.7984       6289.1868         \n",
       "3  3        3635.1455       3589.7470       3669.2143         \n",
       "4  4        2456.1624       2445.4203       2658.1945         \n",
       "5 NA          14.6967         18.0375         17.7764         \n",
       "  sum_pred_seg2_glm_ALL_fb sum_actl count \n",
       "1 26396.164                23340    317998\n",
       "2  6106.593                 5536     39684\n",
       "3  3020.204                 3011     38575\n",
       "4  2074.868                 2140     34519\n",
       "5    16.596                   14        91"
      ]
     },
     "metadata": {},
     "output_type": "display_data"
    }
   ],
   "source": [
    "agg_prob_prio <- vis_df %>% \n",
    "   group_by(priority) %>% \n",
    "   summarize(sum_pred_l10_bf = round(sum(pred_l10_bf, na.rm=TRUE),4), \n",
    "             sum_pred_auc_bf = round(sum(pred_auc_bf, na.rm=TRUE),4), \n",
    "             sum_pred_agg_rf_ALL = round(sum(pred_agg_rf_ALL, na.rm=TRUE),4), \n",
    "             sum_pred_seg2_glm_ALL_fb = round(sum(pred_seg2_glm_ALL_fb, na.rm=TRUE),4), \n",
    "             sum_actl = sum(renewal_status=='Renewed', na.rm=TRUE), \n",
    "             count = length(renewal_status))  %>% \n",
    "   arrange(desc(count))\n",
    "agg_prob_prio"
   ]
  },
  {
   "cell_type": "markdown",
   "metadata": {},
   "source": [
    "# lift metric. by tld-reseller"
   ]
  },
  {
   "cell_type": "code",
   "execution_count": 43,
   "metadata": {},
   "outputs": [],
   "source": [
    "calc_lift <- function (pred_df,\n",
    "                       P=0.1,\n",
    "                        dep_var = \"renewal_status\",\n",
    "                        pred_var = \"first_renewal_prediction\"){\n",
    "    actu_renwd <- sum(pred_df[[dep_var]]=='Renewed', na.rm=TRUE)\n",
    "    ttmp_df <- pred_df[order(pred_df[pred_var],decreasing = TRUE),][1:round(dim(pred_df)[1]*P),]\n",
    "    actu_renwd2 <-  sum(ttmp_df[[dep_var]] == 'Renewed', na.rm=TRUE)\n",
    "    gain = actu_renwd2/actu_renwd\n",
    "    lift = gain/(P)\n",
    "    return(lift)\n",
    "}"
   ]
  },
  {
   "cell_type": "code",
   "execution_count": 44,
   "metadata": {},
   "outputs": [
    {
     "name": "stderr",
     "output_type": "stream",
     "text": [
      "Joining, by = \"tld_registrar_index\"\n",
      "\n"
     ]
    },
    {
     "data": {
      "text/html": [
       "<table>\n",
       "<caption>A data.frame: 6 × 6</caption>\n",
       "<thead>\n",
       "\t<tr><th></th><th scope=col>lift_l10_bf</th><th scope=col>lift_auc_bf</th><th scope=col>lift_agg_rf_ALL</th><th scope=col>lift_seg2_glm_ALL_fb</th><th scope=col>tld_registrar_index</th><th scope=col>n</th></tr>\n",
       "\t<tr><th></th><th scope=col>&lt;dbl&gt;</th><th scope=col>&lt;dbl&gt;</th><th scope=col>&lt;dbl&gt;</th><th scope=col>&lt;dbl&gt;</th><th scope=col>&lt;chr&gt;</th><th scope=col>&lt;int&gt;</th></tr>\n",
       "</thead>\n",
       "<tbody>\n",
       "\t<tr><th scope=row>1</th><td>7.8354978</td><td>7.8354978</td><td>7.8354978</td><td>6.796537</td><td>funalibaba    </td><td>53104</td></tr>\n",
       "\t<tr><th scope=row>2</th><td>9.5276873</td><td>9.5276873</td><td>9.5276873</td><td>8.485342</td><td>sitegmo       </td><td>33517</td></tr>\n",
       "\t<tr><th scope=row>3</th><td>9.1666667</td><td>4.4444444</td><td>9.1666667</td><td>4.444444</td><td>spacealibaba  </td><td>19358</td></tr>\n",
       "\t<tr><th scope=row>4</th><td>0.9318996</td><td>0.9318996</td><td>0.9318996</td><td>1.433692</td><td>sitenamecheap </td><td>19072</td></tr>\n",
       "\t<tr><th scope=row>5</th><td>1.2052117</td><td>1.2052117</td><td>1.2052117</td><td>2.052117</td><td>sitereg.ru    </td><td>13108</td></tr>\n",
       "\t<tr><th scope=row>6</th><td>8.7500000</td><td>5.4166667</td><td>8.7500000</td><td>7.916667</td><td>websitealibaba</td><td>12505</td></tr>\n",
       "</tbody>\n",
       "</table>\n"
      ],
      "text/latex": [
       "A data.frame: 6 × 6\n",
       "\\begin{tabular}{r|llllll}\n",
       "  & lift\\_l10\\_bf & lift\\_auc\\_bf & lift\\_agg\\_rf\\_ALL & lift\\_seg2\\_glm\\_ALL\\_fb & tld\\_registrar\\_index & n\\\\\n",
       "  & <dbl> & <dbl> & <dbl> & <dbl> & <chr> & <int>\\\\\n",
       "\\hline\n",
       "\t1 & 7.8354978 & 7.8354978 & 7.8354978 & 6.796537 & funalibaba     & 53104\\\\\n",
       "\t2 & 9.5276873 & 9.5276873 & 9.5276873 & 8.485342 & sitegmo        & 33517\\\\\n",
       "\t3 & 9.1666667 & 4.4444444 & 9.1666667 & 4.444444 & spacealibaba   & 19358\\\\\n",
       "\t4 & 0.9318996 & 0.9318996 & 0.9318996 & 1.433692 & sitenamecheap  & 19072\\\\\n",
       "\t5 & 1.2052117 & 1.2052117 & 1.2052117 & 2.052117 & sitereg.ru     & 13108\\\\\n",
       "\t6 & 8.7500000 & 5.4166667 & 8.7500000 & 7.916667 & websitealibaba & 12505\\\\\n",
       "\\end{tabular}\n"
      ],
      "text/markdown": [
       "\n",
       "A data.frame: 6 × 6\n",
       "\n",
       "| <!--/--> | lift_l10_bf &lt;dbl&gt; | lift_auc_bf &lt;dbl&gt; | lift_agg_rf_ALL &lt;dbl&gt; | lift_seg2_glm_ALL_fb &lt;dbl&gt; | tld_registrar_index &lt;chr&gt; | n &lt;int&gt; |\n",
       "|---|---|---|---|---|---|---|\n",
       "| 1 | 7.8354978 | 7.8354978 | 7.8354978 | 6.796537 | funalibaba     | 53104 |\n",
       "| 2 | 9.5276873 | 9.5276873 | 9.5276873 | 8.485342 | sitegmo        | 33517 |\n",
       "| 3 | 9.1666667 | 4.4444444 | 9.1666667 | 4.444444 | spacealibaba   | 19358 |\n",
       "| 4 | 0.9318996 | 0.9318996 | 0.9318996 | 1.433692 | sitenamecheap  | 19072 |\n",
       "| 5 | 1.2052117 | 1.2052117 | 1.2052117 | 2.052117 | sitereg.ru     | 13108 |\n",
       "| 6 | 8.7500000 | 5.4166667 | 8.7500000 | 7.916667 | websitealibaba | 12505 |\n",
       "\n"
      ],
      "text/plain": [
       "  lift_l10_bf lift_auc_bf lift_agg_rf_ALL lift_seg2_glm_ALL_fb\n",
       "1 7.8354978   7.8354978   7.8354978       6.796537            \n",
       "2 9.5276873   9.5276873   9.5276873       8.485342            \n",
       "3 9.1666667   4.4444444   9.1666667       4.444444            \n",
       "4 0.9318996   0.9318996   0.9318996       1.433692            \n",
       "5 1.2052117   1.2052117   1.2052117       2.052117            \n",
       "6 8.7500000   5.4166667   8.7500000       7.916667            \n",
       "  tld_registrar_index n    \n",
       "1 funalibaba          53104\n",
       "2 sitegmo             33517\n",
       "3 spacealibaba        19358\n",
       "4 sitenamecheap       19072\n",
       "5 sitereg.ru          13108\n",
       "6 websitealibaba      12505"
      ]
     },
     "metadata": {},
     "output_type": "display_data"
    }
   ],
   "source": [
    "preds_all_tldre_list <- split(preds_all, preds_all$tld_registrar_index)\n",
    "\n",
    "models <- c('pred_l10_bf', 'pred_auc_bf', 'pred_agg_rf_ALL', 'pred_seg2_glm_ALL_fb' )\n",
    "lift_tldre_list = list()\n",
    "for (model in models){\n",
    "    lift_tldre_list[[model]] <- lapply(preds_all_tldre_list,\n",
    "                                    calc_lift, \n",
    "                                    dep_var = \"renewal_status\", \n",
    "                                    pred_var = model)\n",
    "}\n",
    "\n",
    "lift_tldre_df <- rbindlist(lift_tldre_list)\n",
    "lift_tldre_df <- as.data.frame(t(lift_tldre_df))\n",
    "names(lift_tldre_df) <- str_replace(models, \"pred_\", \"lift_\")\n",
    "lift_tldre_df$tld_registrar_index <- row.names(lift_tldre_df)\n",
    "lift_tldre_df <- left_join(lift_tldre_df, \n",
    "                           preds_all %>% \n",
    "                           group_by(tld_registrar_index) %>% tally(),\n",
    "                           on='tld_registrar_index') %>% arrange (desc(n))\n",
    "head(lift_tldre_df)"
   ]
  },
  {
   "cell_type": "code",
   "execution_count": 45,
   "metadata": {},
   "outputs": [],
   "source": [
    "write.csv(lift_tldre_df ,'../../data/output/deliv_20201218/20200902_20201008_lift_tldre.csv', row.names=FALSE)\n",
    "system(\"gsutil cp -r /home/jupyter/Domains_202003/data/output/deliv_20201218/ gs://output_shared/\")"
   ]
  },
  {
   "cell_type": "markdown",
   "metadata": {},
   "source": [
    "## inverse of the lift. \n",
    "below which probability level can we be sure that these domains be dropped (not renewed) the other end of the lift. from the bottom up. will help formulate retention strategy"
   ]
  },
  {
   "cell_type": "code",
   "execution_count": 46,
   "metadata": {},
   "outputs": [
    {
     "name": "stdout",
     "output_type": "stream",
     "text": [
      " Factor w/ 2 levels \"Not Renewd\",\"Renewed\": 2 2 2 2 2 2 2 2 2 2 ...\n"
     ]
    }
   ],
   "source": [
    "str(preds_all$renewal_status)"
   ]
  },
  {
   "cell_type": "code",
   "execution_count": 47,
   "metadata": {},
   "outputs": [],
   "source": [
    "calc_ilift <- function (pred_df,\n",
    "                       P=0.3,\n",
    "                        dep_var = \"renewal_status\",\n",
    "                        pred_var = \"first_renewal_prediction\"){\n",
    "    actu_renwd <- sum(pred_df[[dep_var]]==\"Not Renewd\")\n",
    "    ttmp_df <- pred_df[order(pred_df[pred_var],decreasing = FALSE),][1:round(dim(pred_df)[1]*P),]\n",
    "    actu_renwd2 <-  sum(ttmp_df[[dep_var]] == \"Not Renewd\")\n",
    "    gain = actu_renwd2/actu_renwd\n",
    "    lift = gain/(P)\n",
    "    return(lift)\n",
    "}"
   ]
  },
  {
   "cell_type": "code",
   "execution_count": 48,
   "metadata": {},
   "outputs": [
    {
     "name": "stderr",
     "output_type": "stream",
     "text": [
      "Joining, by = \"tld_registrar_index\"\n",
      "\n"
     ]
    },
    {
     "data": {
      "text/html": [
       "<table>\n",
       "<caption>A data.frame: 6 × 6</caption>\n",
       "<thead>\n",
       "\t<tr><th></th><th scope=col>ilift_l10_bf</th><th scope=col>ilift_auc_bf</th><th scope=col>ilift_agg_rf_ALL</th><th scope=col>ilift_seg2_glm_ALL_fb</th><th scope=col>tld_registrar_index</th><th scope=col>n</th></tr>\n",
       "\t<tr><th></th><th scope=col>&lt;dbl&gt;</th><th scope=col>&lt;dbl&gt;</th><th scope=col>&lt;dbl&gt;</th><th scope=col>&lt;dbl&gt;</th><th scope=col>&lt;chr&gt;</th><th scope=col>&lt;int&gt;</th></tr>\n",
       "</thead>\n",
       "<tbody>\n",
       "\t<tr><th scope=row>1</th><td>1.003915</td><td>1.003915</td><td>1.003915</td><td>1.0038520</td><td>funalibaba    </td><td>53104</td></tr>\n",
       "\t<tr><th scope=row>2</th><td>1.018651</td><td>1.018651</td><td>1.018651</td><td>1.0177390</td><td>sitegmo       </td><td>33517</td></tr>\n",
       "\t<tr><th scope=row>3</th><td>1.001794</td><td>1.000242</td><td>1.001794</td><td>1.0002415</td><td>spacealibaba  </td><td>19358</td></tr>\n",
       "\t<tr><th scope=row>4</th><td>1.013647</td><td>1.013647</td><td>1.013647</td><td>1.0159879</td><td>sitenamecheap </td><td>19072</td></tr>\n",
       "\t<tr><th scope=row>5</th><td>1.014764</td><td>1.014764</td><td>1.014764</td><td>1.0132021</td><td>sitereg.ru    </td><td>13108</td></tr>\n",
       "\t<tr><th scope=row>6</th><td>1.002056</td><td>1.000454</td><td>1.002056</td><td>0.9972492</td><td>websitealibaba</td><td>12505</td></tr>\n",
       "</tbody>\n",
       "</table>\n"
      ],
      "text/latex": [
       "A data.frame: 6 × 6\n",
       "\\begin{tabular}{r|llllll}\n",
       "  & ilift\\_l10\\_bf & ilift\\_auc\\_bf & ilift\\_agg\\_rf\\_ALL & ilift\\_seg2\\_glm\\_ALL\\_fb & tld\\_registrar\\_index & n\\\\\n",
       "  & <dbl> & <dbl> & <dbl> & <dbl> & <chr> & <int>\\\\\n",
       "\\hline\n",
       "\t1 & 1.003915 & 1.003915 & 1.003915 & 1.0038520 & funalibaba     & 53104\\\\\n",
       "\t2 & 1.018651 & 1.018651 & 1.018651 & 1.0177390 & sitegmo        & 33517\\\\\n",
       "\t3 & 1.001794 & 1.000242 & 1.001794 & 1.0002415 & spacealibaba   & 19358\\\\\n",
       "\t4 & 1.013647 & 1.013647 & 1.013647 & 1.0159879 & sitenamecheap  & 19072\\\\\n",
       "\t5 & 1.014764 & 1.014764 & 1.014764 & 1.0132021 & sitereg.ru     & 13108\\\\\n",
       "\t6 & 1.002056 & 1.000454 & 1.002056 & 0.9972492 & websitealibaba & 12505\\\\\n",
       "\\end{tabular}\n"
      ],
      "text/markdown": [
       "\n",
       "A data.frame: 6 × 6\n",
       "\n",
       "| <!--/--> | ilift_l10_bf &lt;dbl&gt; | ilift_auc_bf &lt;dbl&gt; | ilift_agg_rf_ALL &lt;dbl&gt; | ilift_seg2_glm_ALL_fb &lt;dbl&gt; | tld_registrar_index &lt;chr&gt; | n &lt;int&gt; |\n",
       "|---|---|---|---|---|---|---|\n",
       "| 1 | 1.003915 | 1.003915 | 1.003915 | 1.0038520 | funalibaba     | 53104 |\n",
       "| 2 | 1.018651 | 1.018651 | 1.018651 | 1.0177390 | sitegmo        | 33517 |\n",
       "| 3 | 1.001794 | 1.000242 | 1.001794 | 1.0002415 | spacealibaba   | 19358 |\n",
       "| 4 | 1.013647 | 1.013647 | 1.013647 | 1.0159879 | sitenamecheap  | 19072 |\n",
       "| 5 | 1.014764 | 1.014764 | 1.014764 | 1.0132021 | sitereg.ru     | 13108 |\n",
       "| 6 | 1.002056 | 1.000454 | 1.002056 | 0.9972492 | websitealibaba | 12505 |\n",
       "\n"
      ],
      "text/plain": [
       "  ilift_l10_bf ilift_auc_bf ilift_agg_rf_ALL ilift_seg2_glm_ALL_fb\n",
       "1 1.003915     1.003915     1.003915         1.0038520            \n",
       "2 1.018651     1.018651     1.018651         1.0177390            \n",
       "3 1.001794     1.000242     1.001794         1.0002415            \n",
       "4 1.013647     1.013647     1.013647         1.0159879            \n",
       "5 1.014764     1.014764     1.014764         1.0132021            \n",
       "6 1.002056     1.000454     1.002056         0.9972492            \n",
       "  tld_registrar_index n    \n",
       "1 funalibaba          53104\n",
       "2 sitegmo             33517\n",
       "3 spacealibaba        19358\n",
       "4 sitenamecheap       19072\n",
       "5 sitereg.ru          13108\n",
       "6 websitealibaba      12505"
      ]
     },
     "metadata": {},
     "output_type": "display_data"
    }
   ],
   "source": [
    "# preds_all_tldre_list <- split(preds_all, preds_all$tld_registrar_index)\n",
    "\n",
    "models <- c('pred_l10_bf', 'pred_auc_bf', 'pred_agg_rf_ALL', 'pred_seg2_glm_ALL_fb' )\n",
    "ilift_tldre_list = list()\n",
    "for (model in models){\n",
    "    ilift_tldre_list[[model]] <- lapply(preds_all_tldre_list,\n",
    "                                    calc_ilift, \n",
    "                                    dep_var = \"renewal_status\", \n",
    "                                    pred_var = model)\n",
    "}\n",
    "\n",
    "ilift_tldre_df <- rbindlist(ilift_tldre_list)\n",
    "ilift_tldre_df <- as.data.frame(t(ilift_tldre_df))\n",
    "names(ilift_tldre_df) <- str_replace(models, \"pred_\", \"ilift_\")\n",
    "ilift_tldre_df$tld_registrar_index <- row.names(ilift_tldre_df)\n",
    "ilift_tldre_df <- left_join(ilift_tldre_df, \n",
    "                           preds_all %>% \n",
    "                           group_by(tld_registrar_index) %>% tally(),\n",
    "                           on='tld_registrar_index') %>% arrange (desc(n))\n",
    "head(ilift_tldre_df)"
   ]
  },
  {
   "cell_type": "code",
   "execution_count": 49,
   "metadata": {},
   "outputs": [],
   "source": [
    "write.csv(ilift_tldre_df ,'../../data/output/deliv_20201218/20200902_20201008_ilift_tldre.csv', row.names=FALSE)\n",
    "system(\"gsutil cp -r /home/jupyter/Domains_202003/data/output/deliv_20201218/ gs://output_shared/\")"
   ]
  },
  {
   "cell_type": "code",
   "execution_count": 50,
   "metadata": {},
   "outputs": [
    {
     "data": {
      "text/html": [
       "<table>\n",
       "<caption>A data.frame: 9 × 6</caption>\n",
       "<thead>\n",
       "\t<tr><th scope=col>ilift_l10_bf</th><th scope=col>ilift_auc_bf</th><th scope=col>ilift_agg_rf_ALL</th><th scope=col>ilift_seg2_glm_ALL_fb</th><th scope=col>tld_registrar_index</th><th scope=col>n</th></tr>\n",
       "\t<tr><th scope=col>&lt;dbl&gt;</th><th scope=col>&lt;dbl&gt;</th><th scope=col>&lt;dbl&gt;</th><th scope=col>&lt;dbl&gt;</th><th scope=col>&lt;chr&gt;</th><th scope=col>&lt;int&gt;</th></tr>\n",
       "</thead>\n",
       "<tbody>\n",
       "\t<tr><td>0.9961686</td><td>0.9961686</td><td>0.9961686</td><td>1.047254</td><td>sitedotserve inc</td><td>298</td></tr>\n",
       "\t<tr><td>1.1711712</td><td>1.1711712</td><td>1.1711712</td><td>1.216216</td><td>websitehostgator</td><td>289</td></tr>\n",
       "\t<tr><td>1.0181818</td><td>1.0181818</td><td>1.0181818</td><td>1.018182</td><td>pwwhois         </td><td>280</td></tr>\n",
       "\t<tr><td>1.1064426</td><td>1.1624650</td><td>1.1624650</td><td>1.106443</td><td>fungmo          </td><td>278</td></tr>\n",
       "\t<tr><td>1.0050891</td><td>1.0050891</td><td>1.0178117</td><td>1.005089</td><td>sitebaidu       </td><td>272</td></tr>\n",
       "\t<tr><td>1.0242086</td><td>1.0242086</td><td>1.0242086</td><td>1.135940</td><td>storewix        </td><td>268</td></tr>\n",
       "\t<tr><td>1.0606061</td><td>1.0606061</td><td>1.0606061</td><td>1.015152</td><td>spaceregister.it</td><td>257</td></tr>\n",
       "\t<tr><td>1.0365854</td><td>1.0162602</td><td>1.0162602</td><td>1.036585</td><td>storeetsy.com   </td><td>254</td></tr>\n",
       "\t<tr><td>1.0092961</td><td>1.0092961</td><td>1.0092961</td><td>1.009296</td><td>sitedomainesia  </td><td>253</td></tr>\n",
       "</tbody>\n",
       "</table>\n"
      ],
      "text/latex": [
       "A data.frame: 9 × 6\n",
       "\\begin{tabular}{llllll}\n",
       " ilift\\_l10\\_bf & ilift\\_auc\\_bf & ilift\\_agg\\_rf\\_ALL & ilift\\_seg2\\_glm\\_ALL\\_fb & tld\\_registrar\\_index & n\\\\\n",
       " <dbl> & <dbl> & <dbl> & <dbl> & <chr> & <int>\\\\\n",
       "\\hline\n",
       "\t 0.9961686 & 0.9961686 & 0.9961686 & 1.047254 & sitedotserve inc & 298\\\\\n",
       "\t 1.1711712 & 1.1711712 & 1.1711712 & 1.216216 & websitehostgator & 289\\\\\n",
       "\t 1.0181818 & 1.0181818 & 1.0181818 & 1.018182 & pwwhois          & 280\\\\\n",
       "\t 1.1064426 & 1.1624650 & 1.1624650 & 1.106443 & fungmo           & 278\\\\\n",
       "\t 1.0050891 & 1.0050891 & 1.0178117 & 1.005089 & sitebaidu        & 272\\\\\n",
       "\t 1.0242086 & 1.0242086 & 1.0242086 & 1.135940 & storewix         & 268\\\\\n",
       "\t 1.0606061 & 1.0606061 & 1.0606061 & 1.015152 & spaceregister.it & 257\\\\\n",
       "\t 1.0365854 & 1.0162602 & 1.0162602 & 1.036585 & storeetsy.com    & 254\\\\\n",
       "\t 1.0092961 & 1.0092961 & 1.0092961 & 1.009296 & sitedomainesia   & 253\\\\\n",
       "\\end{tabular}\n"
      ],
      "text/markdown": [
       "\n",
       "A data.frame: 9 × 6\n",
       "\n",
       "| ilift_l10_bf &lt;dbl&gt; | ilift_auc_bf &lt;dbl&gt; | ilift_agg_rf_ALL &lt;dbl&gt; | ilift_seg2_glm_ALL_fb &lt;dbl&gt; | tld_registrar_index &lt;chr&gt; | n &lt;int&gt; |\n",
       "|---|---|---|---|---|---|\n",
       "| 0.9961686 | 0.9961686 | 0.9961686 | 1.047254 | sitedotserve inc | 298 |\n",
       "| 1.1711712 | 1.1711712 | 1.1711712 | 1.216216 | websitehostgator | 289 |\n",
       "| 1.0181818 | 1.0181818 | 1.0181818 | 1.018182 | pwwhois          | 280 |\n",
       "| 1.1064426 | 1.1624650 | 1.1624650 | 1.106443 | fungmo           | 278 |\n",
       "| 1.0050891 | 1.0050891 | 1.0178117 | 1.005089 | sitebaidu        | 272 |\n",
       "| 1.0242086 | 1.0242086 | 1.0242086 | 1.135940 | storewix         | 268 |\n",
       "| 1.0606061 | 1.0606061 | 1.0606061 | 1.015152 | spaceregister.it | 257 |\n",
       "| 1.0365854 | 1.0162602 | 1.0162602 | 1.036585 | storeetsy.com    | 254 |\n",
       "| 1.0092961 | 1.0092961 | 1.0092961 | 1.009296 | sitedomainesia   | 253 |\n",
       "\n"
      ],
      "text/plain": [
       "  ilift_l10_bf ilift_auc_bf ilift_agg_rf_ALL ilift_seg2_glm_ALL_fb\n",
       "1 0.9961686    0.9961686    0.9961686        1.047254             \n",
       "2 1.1711712    1.1711712    1.1711712        1.216216             \n",
       "3 1.0181818    1.0181818    1.0181818        1.018182             \n",
       "4 1.1064426    1.1624650    1.1624650        1.106443             \n",
       "5 1.0050891    1.0050891    1.0178117        1.005089             \n",
       "6 1.0242086    1.0242086    1.0242086        1.135940             \n",
       "7 1.0606061    1.0606061    1.0606061        1.015152             \n",
       "8 1.0365854    1.0162602    1.0162602        1.036585             \n",
       "9 1.0092961    1.0092961    1.0092961        1.009296             \n",
       "  tld_registrar_index n  \n",
       "1 sitedotserve inc    298\n",
       "2 websitehostgator    289\n",
       "3 pwwhois             280\n",
       "4 fungmo              278\n",
       "5 sitebaidu           272\n",
       "6 storewix            268\n",
       "7 spaceregister.it    257\n",
       "8 storeetsy.com       254\n",
       "9 sitedomainesia      253"
      ]
     },
     "metadata": {},
     "output_type": "display_data"
    }
   ],
   "source": [
    "ilift_tldre_df %>% filter((n>251)&(n<300))"
   ]
  },
  {
   "cell_type": "code",
   "execution_count": null,
   "metadata": {},
   "outputs": [],
   "source": []
  },
  {
   "cell_type": "code",
   "execution_count": null,
   "metadata": {},
   "outputs": [],
   "source": []
  },
  {
   "cell_type": "code",
   "execution_count": null,
   "metadata": {},
   "outputs": [],
   "source": []
  },
  {
   "cell_type": "markdown",
   "metadata": {},
   "source": [
    "## accuracy metrics -- split by priority... by tld. tld priority 2x2 matrix"
   ]
  },
  {
   "cell_type": "code",
   "execution_count": null,
   "metadata": {},
   "outputs": [],
   "source": [
    "head(vis_df)"
   ]
  },
  {
   "cell_type": "code",
   "execution_count": null,
   "metadata": {},
   "outputs": [],
   "source": [
    "vis_df %>% filter((tld=='site') & (priority==1))"
   ]
  },
  {
   "cell_type": "code",
   "execution_count": null,
   "metadata": {},
   "outputs": [],
   "source": [
    "vis_temp <- vis_df %>% group_by(tld,priority) %>% summarize(sum_pred = round(sum(predicted, na.rm=TRUE),4), \n",
    "                                                sum_actl = sum(actual=='Renewed', na.rm=TRUE), \n",
    "                                                error_pa = round((sum_pred)/(sum_actl+0.0000001),2),\n",
    "                                                count = length(actual),\n",
    "                                               )  %>% \n",
    "    arrange(desc(count))\n",
    "head(vis_temp)\n",
    "tail(vis_temp)"
   ]
  },
  {
   "cell_type": "code",
   "execution_count": null,
   "metadata": {},
   "outputs": [],
   "source": [
    "wide_vis_temp <- vis_temp %>% select(tld, priority, error_pa) %>% spread(priority, error_pa)\n",
    "head(wide_vis_temp, 24)"
   ]
  },
  {
   "cell_type": "code",
   "execution_count": null,
   "metadata": {},
   "outputs": [],
   "source": [
    "write.csv(wide_vis_temp ,'../../data/output/deliv_20201210/perf_metrics/20200902_20201008_errorrate_bytldprio_matrix.csv', row.names=FALSE)"
   ]
  },
  {
   "cell_type": "code",
   "execution_count": null,
   "metadata": {},
   "outputs": [],
   "source": [
    "system(\"gsutil cp -r /home/jupyter/Domains_202003/data/output/deliv_20201210/ gs://output_shared/\")"
   ]
  },
  {
   "cell_type": "code",
   "execution_count": null,
   "metadata": {},
   "outputs": [],
   "source": []
  },
  {
   "cell_type": "code",
   "execution_count": null,
   "metadata": {},
   "outputs": [],
   "source": [
    "str(vis_temp$priority)\n",
    "vis_temp$priority <- factor(vis_temp$priority, levels=c(1,2,3,4))\n",
    "str(vis_temp$priority)"
   ]
  },
  {
   "cell_type": "code",
   "execution_count": null,
   "metadata": {},
   "outputs": [],
   "source": [
    "summary(vis_temp$error_pa)\n",
    "summary(vis_temp$error_pa[vis_temp$error_pa<5])\n",
    "min(vis_temp$error_pa)\n",
    "max(vis_temp$error_pa)"
   ]
  },
  {
   "cell_type": "code",
   "execution_count": null,
   "metadata": {},
   "outputs": [],
   "source": [
    "\n",
    "options(repr.plot.width=10, repr.plot.height=10)\n",
    "ggplot(vis_temp[vis_temp$error_pa<5,] , \n",
    "       aes(tld, priority, fill=error_pa)) + geom_raster() +geom_text(aes(label=error_pa), size=5)+ \n",
    "  theme(legend.position = \"none\",\n",
    "       axis.text=element_text(size=15),\n",
    "        axis.title=element_text(size=20),\n",
    "       plot.title = element_text(hjust = 0.5, size=20)) + ggtitle('Error Rate (pred/actual) by TLD x Reseller_Priority, excluding tail')\n"
   ]
  },
  {
   "cell_type": "code",
   "execution_count": null,
   "metadata": {},
   "outputs": [],
   "source": [
    "ggsave('../../data/output/deliv_20201210/20200902_20201008_errorrate_bytldprio_plot.pdf', width=10, height= 10) \n",
    "system(\"gsutil cp -r /home/jupyter/Domains_202003/data/output/deliv_20201203/ gs://output_shared/\")"
   ]
  },
  {
   "cell_type": "code",
   "execution_count": null,
   "metadata": {},
   "outputs": [],
   "source": []
  },
  {
   "cell_type": "code",
   "execution_count": null,
   "metadata": {},
   "outputs": [],
   "source": []
  },
  {
   "cell_type": "code",
   "execution_count": null,
   "metadata": {},
   "outputs": [],
   "source": []
  },
  {
   "cell_type": "code",
   "execution_count": null,
   "metadata": {},
   "outputs": [],
   "source": []
  },
  {
   "cell_type": "code",
   "execution_count": null,
   "metadata": {},
   "outputs": [],
   "source": []
  },
  {
   "cell_type": "markdown",
   "metadata": {},
   "source": [
    "# Evaluate perfromance"
   ]
  },
  {
   "cell_type": "code",
   "execution_count": null,
   "metadata": {},
   "outputs": [],
   "source": []
  },
  {
   "cell_type": "code",
   "execution_count": null,
   "metadata": {},
   "outputs": [],
   "source": []
  },
  {
   "cell_type": "code",
   "execution_count": null,
   "metadata": {},
   "outputs": [],
   "source": []
  },
  {
   "cell_type": "code",
   "execution_count": null,
   "metadata": {},
   "outputs": [],
   "source": []
  }
 ],
 "metadata": {
  "environment": {
   "name": "r-cpu.3-6.m48",
   "type": "gcloud",
   "uri": "gcr.io/deeplearning-platform-release/r-cpu.3-6:m48"
  },
  "kernelspec": {
   "display_name": "R",
   "language": "R",
   "name": "ir"
  },
  "language_info": {
   "codemirror_mode": "r",
   "file_extension": ".r",
   "mimetype": "text/x-r-source",
   "name": "R",
   "pygments_lexer": "r",
   "version": "3.6.3"
  }
 },
 "nbformat": 4,
 "nbformat_minor": 4
}
