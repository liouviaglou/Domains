{
 "cells": [
  {
   "cell_type": "markdown",
   "metadata": {},
   "source": [
    "# Validate seg_glm performance from scratch\n",
    "for one tld_registrar, build logistic model & prediction from scratch. confirm predictions match model_functions output"
   ]
  },
  {
   "cell_type": "code",
   "execution_count": 1,
   "metadata": {},
   "outputs": [
    {
     "data": {
      "text/html": [],
      "text/latex": [],
      "text/markdown": [],
      "text/plain": [
       "character(0)"
      ]
     },
     "metadata": {},
     "output_type": "display_data"
    }
   ],
   "source": [
    "ls()"
   ]
  },
  {
   "cell_type": "code",
   "execution_count": 2,
   "metadata": {},
   "outputs": [],
   "source": [
    "options(repr.matrix.max.cols=50, repr.matrix.max.rows=100)"
   ]
  },
  {
   "cell_type": "code",
   "execution_count": 3,
   "metadata": {},
   "outputs": [
    {
     "name": "stderr",
     "output_type": "stream",
     "text": [
      "\n",
      "Attaching package: ‘dplyr’\n",
      "\n",
      "\n",
      "The following objects are masked from ‘package:stats’:\n",
      "\n",
      "    filter, lag\n",
      "\n",
      "\n",
      "The following objects are masked from ‘package:base’:\n",
      "\n",
      "    intersect, setdiff, setequal, union\n",
      "\n",
      "\n",
      "\n",
      "Attaching package: ‘data.table’\n",
      "\n",
      "\n",
      "The following objects are masked from ‘package:dplyr’:\n",
      "\n",
      "    between, first, last\n",
      "\n",
      "\n",
      "Loading required package: grid\n",
      "\n",
      "Loading required package: libcoin\n",
      "\n",
      "Loading required package: mvtnorm\n",
      "\n",
      "Loading required package: lattice\n",
      "\n",
      "Loading required package: ggplot2\n",
      "\n",
      "randomForest 4.6-14\n",
      "\n",
      "Type rfNews() to see new features/changes/bug fixes.\n",
      "\n",
      "\n",
      "Attaching package: ‘randomForest’\n",
      "\n",
      "\n",
      "The following object is masked from ‘package:ggplot2’:\n",
      "\n",
      "    margin\n",
      "\n",
      "\n",
      "The following object is masked from ‘package:dplyr’:\n",
      "\n",
      "    combine\n",
      "\n",
      "\n",
      "\n",
      "Attaching package: ‘ranger’\n",
      "\n",
      "\n",
      "The following object is masked from ‘package:randomForest’:\n",
      "\n",
      "    importance\n",
      "\n",
      "\n",
      "\n",
      "Attaching package: ‘plotly’\n",
      "\n",
      "\n",
      "The following object is masked from ‘package:ggplot2’:\n",
      "\n",
      "    last_plot\n",
      "\n",
      "\n",
      "The following object is masked from ‘package:stats’:\n",
      "\n",
      "    filter\n",
      "\n",
      "\n",
      "The following object is masked from ‘package:graphics’:\n",
      "\n",
      "    layout\n",
      "\n",
      "\n",
      "Loading required package: RJSONIO\n",
      "\n"
     ]
    },
    {
     "data": {
      "text/html": [
       "'/home/jupyter/local/Domains_202003/scripts/phaseII_04_fusion'"
      ],
      "text/latex": [
       "'/home/jupyter/local/Domains\\_202003/scripts/phaseII\\_04\\_fusion'"
      ],
      "text/markdown": [
       "'/home/jupyter/local/Domains_202003/scripts/phaseII_04_fusion'"
      ],
      "text/plain": [
       "[1] \"/home/jupyter/local/Domains_202003/scripts/phaseII_04_fusion\""
      ]
     },
     "metadata": {},
     "output_type": "display_data"
    }
   ],
   "source": [
    "library(dplyr)\n",
    "library(data.table)\n",
    "library(partykit)\n",
    "library(tictoc)\n",
    "library(caret)\n",
    "library(e1071)\n",
    "library(randomForest)\n",
    "library(ranger)\n",
    "\n",
    "#for 3d plotting\n",
    "library(akima)\n",
    "library(plotly)\n",
    "\n",
    "# for prep data\n",
    "library(rPython)\n",
    "library(stringr)\n",
    "library(pbapply)\n",
    "library(stringdist)\n",
    "library(data.table)\n",
    "\n",
    "getwd()"
   ]
  },
  {
   "cell_type": "code",
   "execution_count": 4,
   "metadata": {},
   "outputs": [],
   "source": [
    "\n",
    "source('../orig/functions.R')\n",
    "\n",
    "source('../orig/functions_models.R')\n",
    "\n",
    "source('../phaseII_03_forest/functions_eval.R')\n",
    "\n",
    "\n",
    "source('../phaseII_03_forest/load_prep_data_expiry.R')\n",
    "\n",
    "# expiry_train_prepped_2_1 (list, less df's w/ 0 obs)\n",
    "# expiry_test_prepped_2_1  (list, less df's w/ 0 obs)\n",
    "# expiry_train_df_1 (above, rbound)\n",
    "# expiry_test_df_1 (above, rbound)\n",
    "# expiry_train_df_sub (subset vars)                                        \n",
    "# expiry_test_df_sub (subset vars)"
   ]
  },
  {
   "cell_type": "code",
   "execution_count": 5,
   "metadata": {},
   "outputs": [],
   "source": [
    "# processed glm test data\n",
    "filename = 'seg_glm_expiry_exptest'\n",
    "system(paste(sprintf(\"gsutil cp gs://data_input/%s /home/jupyter/local/Domains_202003/data/\", filename)))\n",
    "seg_glm_expiry_exptest <- readRDS(file.path(\"/home/jupyter/local/Domains_202003/data/\", filename))"
   ]
  },
  {
   "cell_type": "markdown",
   "metadata": {},
   "source": [
    "# Select one tld_registrar segment"
   ]
  },
  {
   "cell_type": "code",
   "execution_count": 6,
   "metadata": {},
   "outputs": [],
   "source": [
    "tld_reg = 'sitegmo'"
   ]
  },
  {
   "cell_type": "markdown",
   "metadata": {},
   "source": [
    "# Train Model from Scratch "
   ]
  },
  {
   "cell_type": "code",
   "execution_count": 8,
   "metadata": {},
   "outputs": [
    {
     "data": {
      "text/html": [
       "<style>\n",
       ".list-inline {list-style: none; margin:0; padding: 0}\n",
       ".list-inline>li {display: inline-block}\n",
       ".list-inline>li:not(:last-child)::after {content: \"\\00b7\"; padding: 0 .5ex}\n",
       "</style>\n",
       "<ol class=list-inline><li>106569</li><li>39</li></ol>\n"
      ],
      "text/latex": [
       "\\begin{enumerate*}\n",
       "\\item 106569\n",
       "\\item 39\n",
       "\\end{enumerate*}\n"
      ],
      "text/markdown": [
       "1. 106569\n",
       "2. 39\n",
       "\n",
       "\n"
      ],
      "text/plain": [
       "[1] 106569     39"
      ]
     },
     "metadata": {},
     "output_type": "display_data"
    },
    {
     "data": {
      "text/html": [
       "<table>\n",
       "<caption>A data.table: 6 × 39</caption>\n",
       "<thead>\n",
       "\t<tr><th scope=col>renewal_type</th><th scope=col>renewed_count</th><th scope=col>expiry_date</th><th scope=col>domain_id</th><th scope=col>domain</th><th scope=col>creation_date</th><th scope=col>status</th><th scope=col>tld</th><th scope=col>registrar</th><th scope=col>reseller</th><th scope=col>reseller_country</th><th scope=col>region</th><th scope=col>reg_period</th><th scope=col>registrant_country</th><th scope=col>renewal_status</th><th scope=col>renew_mbg</th><th scope=col>renew_type</th><th scope=col>autorenew_type</th><th scope=col>renew_date</th><th scope=col>renew_registrar</th><th scope=col>renew_reseller</th><th scope=col>reg_revenue</th><th scope=col>reg_arpt</th><th scope=col>renew_period</th><th scope=col>renew_domain_revenue</th><th scope=col>renew_arpt</th><th scope=col>reg_arpt_org</th><th scope=col>tld_registrar_index</th><th scope=col>sld</th><th scope=col>sld_type</th><th scope=col>sld_length</th><th scope=col>sld_type2</th><th scope=col>day_domains</th><th scope=col>log_reg_arpt</th><th scope=col>gibb_score</th><th scope=col>pattern</th><th scope=col>cluster</th><th scope=col>pattern_score</th><th scope=col>pattern_domain_count</th></tr>\n",
       "\t<tr><th scope=col>&lt;chr&gt;</th><th scope=col>&lt;int&gt;</th><th scope=col>&lt;date&gt;</th><th scope=col>&lt;int&gt;</th><th scope=col>&lt;chr&gt;</th><th scope=col>&lt;date&gt;</th><th scope=col>&lt;chr&gt;</th><th scope=col>&lt;fct&gt;</th><th scope=col>&lt;chr&gt;</th><th scope=col>&lt;chr&gt;</th><th scope=col>&lt;chr&gt;</th><th scope=col>&lt;chr&gt;</th><th scope=col>&lt;int&gt;</th><th scope=col>&lt;chr&gt;</th><th scope=col>&lt;fct&gt;</th><th scope=col>&lt;int&gt;</th><th scope=col>&lt;chr&gt;</th><th scope=col>&lt;chr&gt;</th><th scope=col>&lt;date&gt;</th><th scope=col>&lt;chr&gt;</th><th scope=col>&lt;chr&gt;</th><th scope=col>&lt;dbl&gt;</th><th scope=col>&lt;dbl&gt;</th><th scope=col>&lt;int&gt;</th><th scope=col>&lt;dbl&gt;</th><th scope=col>&lt;dbl&gt;</th><th scope=col>&lt;dbl&gt;</th><th scope=col>&lt;chr&gt;</th><th scope=col>&lt;chr&gt;</th><th scope=col>&lt;fct&gt;</th><th scope=col>&lt;int&gt;</th><th scope=col>&lt;chr&gt;</th><th scope=col>&lt;int&gt;</th><th scope=col>&lt;dbl&gt;</th><th scope=col>&lt;dbl&gt;</th><th scope=col>&lt;chr&gt;</th><th scope=col>&lt;chr&gt;</th><th scope=col>&lt;dbl&gt;</th><th scope=col>&lt;int&gt;</th></tr>\n",
       "</thead>\n",
       "<tbody>\n",
       "\t<tr><td>FirstTime</td><td>1</td><td>2020-02-14</td><td>44295182</td><td>ekagen.site               </td><td>2017-02-14</td><td>Active</td><td>site</td><td>gmo</td><td>gmo</td><td>Japan</td><td>Non China</td><td>3</td><td>NA</td><td>Not Renewd</td><td>0</td><td>auto-renewal</td><td>unrealized</td><td>2020-02-14</td><td>GMO</td><td>GMO</td><td>40.1</td><td>13.37</td><td>1</td><td>20</td><td>20</td><td>13.37</td><td>sitegmo</td><td>ekagen               </td><td>l       </td><td> 6</td><td>6l        </td><td>1</td><td>2.593013</td><td>2.25</td><td>ekagen               </td><td>1</td><td>1</td><td>1</td></tr>\n",
       "\t<tr><td>FirstTime</td><td>1</td><td>2020-03-16</td><td>45843918</td><td>spazio.site               </td><td>2017-03-16</td><td>Active</td><td>site</td><td>gmo</td><td>gmo</td><td>Japan</td><td>Non China</td><td>3</td><td>NA</td><td>Not Renewd</td><td>0</td><td>auto-renewal</td><td>unrealized</td><td>2020-03-16</td><td>GMO</td><td>GMO</td><td>40.1</td><td>13.37</td><td>1</td><td>20</td><td>20</td><td>13.37</td><td>sitegmo</td><td>spazio               </td><td>l       </td><td> 6</td><td>6l        </td><td>1</td><td>2.593013</td><td>2.94</td><td>spazio               </td><td>1</td><td>1</td><td>1</td></tr>\n",
       "\t<tr><td>FirstTime</td><td>1</td><td>2020-03-17</td><td>45899157</td><td>tokachi-amri.site         </td><td>2017-03-17</td><td>Active</td><td>site</td><td>gmo</td><td>gmo</td><td>Japan</td><td>Non China</td><td>3</td><td>NA</td><td>Renewed   </td><td>0</td><td>renewal     </td><td>NA        </td><td>2020-01-29</td><td>GMO</td><td>GMO</td><td>40.1</td><td>13.37</td><td>1</td><td>20</td><td>20</td><td>13.37</td><td>sitegmo</td><td>tokachi-amri         </td><td>hyphen-l</td><td>12</td><td>12hyphen-l</td><td>1</td><td>2.593013</td><td>3.79</td><td>tokachi-amri         </td><td>1</td><td>1</td><td>1</td></tr>\n",
       "\t<tr><td>FirstTime</td><td>1</td><td>2020-03-31</td><td>46397759</td><td>xn--fdknt2gtdz265a2mg.site</td><td>2017-03-31</td><td>Active</td><td>site</td><td>gmo</td><td>gmo</td><td>Japan</td><td>Non China</td><td>3</td><td>NA</td><td>Renewed   </td><td>0</td><td>renewal     </td><td>NA        </td><td>2017-06-29</td><td>GMO</td><td>GMO</td><td>40.1</td><td>13.37</td><td>3</td><td>60</td><td>20</td><td>13.37</td><td>sitegmo</td><td>xn--fdknt2gtdz265a2mg</td><td>idn     </td><td>21</td><td>21idn     </td><td>1</td><td>2.593013</td><td>0.20</td><td>xn--fdknt2gtdz265a2mg</td><td>1</td><td>1</td><td>1</td></tr>\n",
       "\t<tr><td>FirstTime</td><td>1</td><td>2020-04-29</td><td>47381054</td><td>empty00.site              </td><td>2017-04-29</td><td>Active</td><td>site</td><td>gmo</td><td>gmo</td><td>Japan</td><td>Non China</td><td>3</td><td>NA</td><td>Not Renewd</td><td>0</td><td>auto-renewal</td><td>unrealized</td><td>2020-04-29</td><td>GMO</td><td>GMO</td><td>40.1</td><td>13.37</td><td>1</td><td>20</td><td>20</td><td>13.37</td><td>sitegmo</td><td>empty00              </td><td>ln      </td><td> 7</td><td>7ln       </td><td>1</td><td>2.593013</td><td>3.06</td><td>empty00              </td><td>1</td><td>1</td><td>1</td></tr>\n",
       "\t<tr><td>FirstTime</td><td>1</td><td>2020-05-02</td><td>47444450</td><td>kakinotane.site           </td><td>2017-05-02</td><td>Active</td><td>site</td><td>gmo</td><td>gmo</td><td>Japan</td><td>Non China</td><td>3</td><td>NA</td><td>Renewed   </td><td>0</td><td>renewal     </td><td>NA        </td><td>2020-04-16</td><td>GMO</td><td>GMO</td><td>40.1</td><td>13.37</td><td>1</td><td>20</td><td>20</td><td>13.37</td><td>sitegmo</td><td>kakinotane           </td><td>l       </td><td>10</td><td>10l       </td><td>1</td><td>2.593013</td><td>6.60</td><td>kakinotane           </td><td>1</td><td>1</td><td>1</td></tr>\n",
       "</tbody>\n",
       "</table>\n"
      ],
      "text/latex": [
       "A data.table: 6 × 39\n",
       "\\begin{tabular}{lllllllllllllllllllllllllllllllllllllll}\n",
       " renewal\\_type & renewed\\_count & expiry\\_date & domain\\_id & domain & creation\\_date & status & tld & registrar & reseller & reseller\\_country & region & reg\\_period & registrant\\_country & renewal\\_status & renew\\_mbg & renew\\_type & autorenew\\_type & renew\\_date & renew\\_registrar & renew\\_reseller & reg\\_revenue & reg\\_arpt & renew\\_period & renew\\_domain\\_revenue & renew\\_arpt & reg\\_arpt\\_org & tld\\_registrar\\_index & sld & sld\\_type & sld\\_length & sld\\_type2 & day\\_domains & log\\_reg\\_arpt & gibb\\_score & pattern & cluster & pattern\\_score & pattern\\_domain\\_count\\\\\n",
       " <chr> & <int> & <date> & <int> & <chr> & <date> & <chr> & <fct> & <chr> & <chr> & <chr> & <chr> & <int> & <chr> & <fct> & <int> & <chr> & <chr> & <date> & <chr> & <chr> & <dbl> & <dbl> & <int> & <dbl> & <dbl> & <dbl> & <chr> & <chr> & <fct> & <int> & <chr> & <int> & <dbl> & <dbl> & <chr> & <chr> & <dbl> & <int>\\\\\n",
       "\\hline\n",
       "\t FirstTime & 1 & 2020-02-14 & 44295182 & ekagen.site                & 2017-02-14 & Active & site & gmo & gmo & Japan & Non China & 3 & NA & Not Renewd & 0 & auto-renewal & unrealized & 2020-02-14 & GMO & GMO & 40.1 & 13.37 & 1 & 20 & 20 & 13.37 & sitegmo & ekagen                & l        &  6 & 6l         & 1 & 2.593013 & 2.25 & ekagen                & 1 & 1 & 1\\\\\n",
       "\t FirstTime & 1 & 2020-03-16 & 45843918 & spazio.site                & 2017-03-16 & Active & site & gmo & gmo & Japan & Non China & 3 & NA & Not Renewd & 0 & auto-renewal & unrealized & 2020-03-16 & GMO & GMO & 40.1 & 13.37 & 1 & 20 & 20 & 13.37 & sitegmo & spazio                & l        &  6 & 6l         & 1 & 2.593013 & 2.94 & spazio                & 1 & 1 & 1\\\\\n",
       "\t FirstTime & 1 & 2020-03-17 & 45899157 & tokachi-amri.site          & 2017-03-17 & Active & site & gmo & gmo & Japan & Non China & 3 & NA & Renewed    & 0 & renewal      & NA         & 2020-01-29 & GMO & GMO & 40.1 & 13.37 & 1 & 20 & 20 & 13.37 & sitegmo & tokachi-amri          & hyphen-l & 12 & 12hyphen-l & 1 & 2.593013 & 3.79 & tokachi-amri          & 1 & 1 & 1\\\\\n",
       "\t FirstTime & 1 & 2020-03-31 & 46397759 & xn--fdknt2gtdz265a2mg.site & 2017-03-31 & Active & site & gmo & gmo & Japan & Non China & 3 & NA & Renewed    & 0 & renewal      & NA         & 2017-06-29 & GMO & GMO & 40.1 & 13.37 & 3 & 60 & 20 & 13.37 & sitegmo & xn--fdknt2gtdz265a2mg & idn      & 21 & 21idn      & 1 & 2.593013 & 0.20 & xn--fdknt2gtdz265a2mg & 1 & 1 & 1\\\\\n",
       "\t FirstTime & 1 & 2020-04-29 & 47381054 & empty00.site               & 2017-04-29 & Active & site & gmo & gmo & Japan & Non China & 3 & NA & Not Renewd & 0 & auto-renewal & unrealized & 2020-04-29 & GMO & GMO & 40.1 & 13.37 & 1 & 20 & 20 & 13.37 & sitegmo & empty00               & ln       &  7 & 7ln        & 1 & 2.593013 & 3.06 & empty00               & 1 & 1 & 1\\\\\n",
       "\t FirstTime & 1 & 2020-05-02 & 47444450 & kakinotane.site            & 2017-05-02 & Active & site & gmo & gmo & Japan & Non China & 3 & NA & Renewed    & 0 & renewal      & NA         & 2020-04-16 & GMO & GMO & 40.1 & 13.37 & 1 & 20 & 20 & 13.37 & sitegmo & kakinotane            & l        & 10 & 10l        & 1 & 2.593013 & 6.60 & kakinotane            & 1 & 1 & 1\\\\\n",
       "\\end{tabular}\n"
      ],
      "text/markdown": [
       "\n",
       "A data.table: 6 × 39\n",
       "\n",
       "| renewal_type &lt;chr&gt; | renewed_count &lt;int&gt; | expiry_date &lt;date&gt; | domain_id &lt;int&gt; | domain &lt;chr&gt; | creation_date &lt;date&gt; | status &lt;chr&gt; | tld &lt;fct&gt; | registrar &lt;chr&gt; | reseller &lt;chr&gt; | reseller_country &lt;chr&gt; | region &lt;chr&gt; | reg_period &lt;int&gt; | registrant_country &lt;chr&gt; | renewal_status &lt;fct&gt; | renew_mbg &lt;int&gt; | renew_type &lt;chr&gt; | autorenew_type &lt;chr&gt; | renew_date &lt;date&gt; | renew_registrar &lt;chr&gt; | renew_reseller &lt;chr&gt; | reg_revenue &lt;dbl&gt; | reg_arpt &lt;dbl&gt; | renew_period &lt;int&gt; | renew_domain_revenue &lt;dbl&gt; | renew_arpt &lt;dbl&gt; | reg_arpt_org &lt;dbl&gt; | tld_registrar_index &lt;chr&gt; | sld &lt;chr&gt; | sld_type &lt;fct&gt; | sld_length &lt;int&gt; | sld_type2 &lt;chr&gt; | day_domains &lt;int&gt; | log_reg_arpt &lt;dbl&gt; | gibb_score &lt;dbl&gt; | pattern &lt;chr&gt; | cluster &lt;chr&gt; | pattern_score &lt;dbl&gt; | pattern_domain_count &lt;int&gt; |\n",
       "|---|---|---|---|---|---|---|---|---|---|---|---|---|---|---|---|---|---|---|---|---|---|---|---|---|---|---|---|---|---|---|---|---|---|---|---|---|---|---|\n",
       "| FirstTime | 1 | 2020-02-14 | 44295182 | ekagen.site                | 2017-02-14 | Active | site | gmo | gmo | Japan | Non China | 3 | NA | Not Renewd | 0 | auto-renewal | unrealized | 2020-02-14 | GMO | GMO | 40.1 | 13.37 | 1 | 20 | 20 | 13.37 | sitegmo | ekagen                | l        |  6 | 6l         | 1 | 2.593013 | 2.25 | ekagen                | 1 | 1 | 1 |\n",
       "| FirstTime | 1 | 2020-03-16 | 45843918 | spazio.site                | 2017-03-16 | Active | site | gmo | gmo | Japan | Non China | 3 | NA | Not Renewd | 0 | auto-renewal | unrealized | 2020-03-16 | GMO | GMO | 40.1 | 13.37 | 1 | 20 | 20 | 13.37 | sitegmo | spazio                | l        |  6 | 6l         | 1 | 2.593013 | 2.94 | spazio                | 1 | 1 | 1 |\n",
       "| FirstTime | 1 | 2020-03-17 | 45899157 | tokachi-amri.site          | 2017-03-17 | Active | site | gmo | gmo | Japan | Non China | 3 | NA | Renewed    | 0 | renewal      | NA         | 2020-01-29 | GMO | GMO | 40.1 | 13.37 | 1 | 20 | 20 | 13.37 | sitegmo | tokachi-amri          | hyphen-l | 12 | 12hyphen-l | 1 | 2.593013 | 3.79 | tokachi-amri          | 1 | 1 | 1 |\n",
       "| FirstTime | 1 | 2020-03-31 | 46397759 | xn--fdknt2gtdz265a2mg.site | 2017-03-31 | Active | site | gmo | gmo | Japan | Non China | 3 | NA | Renewed    | 0 | renewal      | NA         | 2017-06-29 | GMO | GMO | 40.1 | 13.37 | 3 | 60 | 20 | 13.37 | sitegmo | xn--fdknt2gtdz265a2mg | idn      | 21 | 21idn      | 1 | 2.593013 | 0.20 | xn--fdknt2gtdz265a2mg | 1 | 1 | 1 |\n",
       "| FirstTime | 1 | 2020-04-29 | 47381054 | empty00.site               | 2017-04-29 | Active | site | gmo | gmo | Japan | Non China | 3 | NA | Not Renewd | 0 | auto-renewal | unrealized | 2020-04-29 | GMO | GMO | 40.1 | 13.37 | 1 | 20 | 20 | 13.37 | sitegmo | empty00               | ln       |  7 | 7ln        | 1 | 2.593013 | 3.06 | empty00               | 1 | 1 | 1 |\n",
       "| FirstTime | 1 | 2020-05-02 | 47444450 | kakinotane.site            | 2017-05-02 | Active | site | gmo | gmo | Japan | Non China | 3 | NA | Renewed    | 0 | renewal      | NA         | 2020-04-16 | GMO | GMO | 40.1 | 13.37 | 1 | 20 | 20 | 13.37 | sitegmo | kakinotane            | l        | 10 | 10l        | 1 | 2.593013 | 6.60 | kakinotane            | 1 | 1 | 1 |\n",
       "\n"
      ],
      "text/plain": [
       "  renewal_type renewed_count expiry_date domain_id domain                    \n",
       "1 FirstTime    1             2020-02-14  44295182  ekagen.site               \n",
       "2 FirstTime    1             2020-03-16  45843918  spazio.site               \n",
       "3 FirstTime    1             2020-03-17  45899157  tokachi-amri.site         \n",
       "4 FirstTime    1             2020-03-31  46397759  xn--fdknt2gtdz265a2mg.site\n",
       "5 FirstTime    1             2020-04-29  47381054  empty00.site              \n",
       "6 FirstTime    1             2020-05-02  47444450  kakinotane.site           \n",
       "  creation_date status tld  registrar reseller reseller_country region   \n",
       "1 2017-02-14    Active site gmo       gmo      Japan            Non China\n",
       "2 2017-03-16    Active site gmo       gmo      Japan            Non China\n",
       "3 2017-03-17    Active site gmo       gmo      Japan            Non China\n",
       "4 2017-03-31    Active site gmo       gmo      Japan            Non China\n",
       "5 2017-04-29    Active site gmo       gmo      Japan            Non China\n",
       "6 2017-05-02    Active site gmo       gmo      Japan            Non China\n",
       "  reg_period registrant_country renewal_status renew_mbg renew_type  \n",
       "1 3          NA                 Not Renewd     0         auto-renewal\n",
       "2 3          NA                 Not Renewd     0         auto-renewal\n",
       "3 3          NA                 Renewed        0         renewal     \n",
       "4 3          NA                 Renewed        0         renewal     \n",
       "5 3          NA                 Not Renewd     0         auto-renewal\n",
       "6 3          NA                 Renewed        0         renewal     \n",
       "  autorenew_type renew_date renew_registrar renew_reseller reg_revenue reg_arpt\n",
       "1 unrealized     2020-02-14 GMO             GMO            40.1        13.37   \n",
       "2 unrealized     2020-03-16 GMO             GMO            40.1        13.37   \n",
       "3 NA             2020-01-29 GMO             GMO            40.1        13.37   \n",
       "4 NA             2017-06-29 GMO             GMO            40.1        13.37   \n",
       "5 unrealized     2020-04-29 GMO             GMO            40.1        13.37   \n",
       "6 NA             2020-04-16 GMO             GMO            40.1        13.37   \n",
       "  renew_period renew_domain_revenue renew_arpt reg_arpt_org tld_registrar_index\n",
       "1 1            20                   20         13.37        sitegmo            \n",
       "2 1            20                   20         13.37        sitegmo            \n",
       "3 1            20                   20         13.37        sitegmo            \n",
       "4 3            60                   20         13.37        sitegmo            \n",
       "5 1            20                   20         13.37        sitegmo            \n",
       "6 1            20                   20         13.37        sitegmo            \n",
       "  sld                   sld_type sld_length sld_type2  day_domains log_reg_arpt\n",
       "1 ekagen                l         6         6l         1           2.593013    \n",
       "2 spazio                l         6         6l         1           2.593013    \n",
       "3 tokachi-amri          hyphen-l 12         12hyphen-l 1           2.593013    \n",
       "4 xn--fdknt2gtdz265a2mg idn      21         21idn      1           2.593013    \n",
       "5 empty00               ln        7         7ln        1           2.593013    \n",
       "6 kakinotane            l        10         10l        1           2.593013    \n",
       "  gibb_score pattern               cluster pattern_score pattern_domain_count\n",
       "1 2.25       ekagen                1       1             1                   \n",
       "2 2.94       spazio                1       1             1                   \n",
       "3 3.79       tokachi-amri          1       1             1                   \n",
       "4 0.20       xn--fdknt2gtdz265a2mg 1       1             1                   \n",
       "5 3.06       empty00               1       1             1                   \n",
       "6 6.60       kakinotane            1       1             1                   "
      ]
     },
     "metadata": {},
     "output_type": "display_data"
    }
   ],
   "source": [
    "train_data = expiry_train_prepped_2_1[[tld_reg]]\n",
    "dim(train_data)\n",
    "head(train_data)"
   ]
  },
  {
   "cell_type": "code",
   "execution_count": 10,
   "metadata": {},
   "outputs": [
    {
     "data": {
      "text/html": [
       "2"
      ],
      "text/latex": [
       "2"
      ],
      "text/markdown": [
       "2"
      ],
      "text/plain": [
       "[1] 2"
      ]
     },
     "metadata": {},
     "output_type": "display_data"
    },
    {
     "data": {
      "text/html": [
       "6"
      ],
      "text/latex": [
       "6"
      ],
      "text/markdown": [
       "6"
      ],
      "text/plain": [
       "[1] 6"
      ]
     },
     "metadata": {},
     "output_type": "display_data"
    }
   ],
   "source": [
    "nlevels(train_data$renewal_status)\n",
    "nlevels(train_data$sld_type)"
   ]
  },
  {
   "cell_type": "code",
   "execution_count": 11,
   "metadata": {},
   "outputs": [],
   "source": [
    "build_data<-subset(train_data,\n",
    "                            select=c(renewal_status,\n",
    "                                     pattern_domain_count, \n",
    "                                     log_reg_arpt, \n",
    "                                     sld_length, \n",
    "                                     sld_type, \n",
    "                                     day_domains, \n",
    "                                     gibb_score,\n",
    "                                     reg_period))"
   ]
  },
  {
   "cell_type": "code",
   "execution_count": 12,
   "metadata": {},
   "outputs": [
    {
     "name": "stderr",
     "output_type": "stream",
     "text": [
      "Warning message:\n",
      "“glm.fit: fitted probabilities numerically 0 or 1 occurred”\n"
     ]
    }
   ],
   "source": [
    "model<-glm(renewal_status ~.,\n",
    "             family=binomial(link='logit'),\n",
    "             data=build_data, \n",
    "             y = FALSE, model = FALSE)"
   ]
  },
  {
   "cell_type": "code",
   "execution_count": 13,
   "metadata": {},
   "outputs": [
    {
     "data": {
      "text/plain": [
       "\n",
       "Call:  glm(formula = renewal_status ~ ., family = binomial(link = \"logit\"), \n",
       "    data = build_data, model = FALSE, y = FALSE)\n",
       "\n",
       "Coefficients:\n",
       "         (Intercept)  pattern_domain_count          log_reg_arpt  \n",
       "          -1.7973434            -0.5719211             0.0785909  \n",
       "          sld_length     sld_typehyphen-ln           sld_typeidn  \n",
       "           0.0459092            -3.5544350            -1.2066577  \n",
       "           sld_typel            sld_typeln             sld_typen  \n",
       "          -1.5166662            -1.8760341            -6.7406954  \n",
       "         day_domains            gibb_score            reg_period  \n",
       "          -0.0005876             0.0587751             1.2548155  \n",
       "\n",
       "Degrees of Freedom: 106568 Total (i.e. Null);  106557 Residual\n",
       "Null Deviance:\t    24460 \n",
       "Residual Deviance: 17410 \tAIC: 17430"
      ]
     },
     "metadata": {},
     "output_type": "display_data"
    }
   ],
   "source": [
    "model"
   ]
  },
  {
   "cell_type": "markdown",
   "metadata": {},
   "source": [
    "# Generate Predictions from Scratch "
   ]
  },
  {
   "cell_type": "code",
   "execution_count": 15,
   "metadata": {},
   "outputs": [
    {
     "data": {
      "text/html": [
       "<style>\n",
       ".list-inline {list-style: none; margin:0; padding: 0}\n",
       ".list-inline>li {display: inline-block}\n",
       ".list-inline>li:not(:last-child)::after {content: \"\\00b7\"; padding: 0 .5ex}\n",
       "</style>\n",
       "<ol class=list-inline><li>26419</li><li>39</li></ol>\n"
      ],
      "text/latex": [
       "\\begin{enumerate*}\n",
       "\\item 26419\n",
       "\\item 39\n",
       "\\end{enumerate*}\n"
      ],
      "text/markdown": [
       "1. 26419\n",
       "2. 39\n",
       "\n",
       "\n"
      ],
      "text/plain": [
       "[1] 26419    39"
      ]
     },
     "metadata": {},
     "output_type": "display_data"
    },
    {
     "data": {
      "text/html": [
       "<table>\n",
       "<caption>A data.table: 6 × 39</caption>\n",
       "<thead>\n",
       "\t<tr><th scope=col>renewal_type</th><th scope=col>renewed_count</th><th scope=col>expiry_date</th><th scope=col>domain_id</th><th scope=col>domain</th><th scope=col>creation_date</th><th scope=col>status</th><th scope=col>tld</th><th scope=col>registrar</th><th scope=col>reseller</th><th scope=col>reseller_country</th><th scope=col>region</th><th scope=col>reg_period</th><th scope=col>registrant_country</th><th scope=col>renewal_status</th><th scope=col>renew_mbg</th><th scope=col>renew_type</th><th scope=col>autorenew_type</th><th scope=col>renew_date</th><th scope=col>renew_registrar</th><th scope=col>renew_reseller</th><th scope=col>reg_revenue</th><th scope=col>reg_arpt</th><th scope=col>renew_period</th><th scope=col>renew_domain_revenue</th><th scope=col>renew_arpt</th><th scope=col>reg_arpt_org</th><th scope=col>tld_registrar_index</th><th scope=col>sld</th><th scope=col>sld_type</th><th scope=col>sld_length</th><th scope=col>sld_type2</th><th scope=col>day_domains</th><th scope=col>log_reg_arpt</th><th scope=col>gibb_score</th><th scope=col>pattern</th><th scope=col>cluster</th><th scope=col>pattern_score</th><th scope=col>pattern_domain_count</th></tr>\n",
       "\t<tr><th scope=col>&lt;chr&gt;</th><th scope=col>&lt;int&gt;</th><th scope=col>&lt;date&gt;</th><th scope=col>&lt;int&gt;</th><th scope=col>&lt;chr&gt;</th><th scope=col>&lt;date&gt;</th><th scope=col>&lt;chr&gt;</th><th scope=col>&lt;fct&gt;</th><th scope=col>&lt;chr&gt;</th><th scope=col>&lt;chr&gt;</th><th scope=col>&lt;chr&gt;</th><th scope=col>&lt;chr&gt;</th><th scope=col>&lt;int&gt;</th><th scope=col>&lt;chr&gt;</th><th scope=col>&lt;fct&gt;</th><th scope=col>&lt;int&gt;</th><th scope=col>&lt;chr&gt;</th><th scope=col>&lt;chr&gt;</th><th scope=col>&lt;date&gt;</th><th scope=col>&lt;chr&gt;</th><th scope=col>&lt;chr&gt;</th><th scope=col>&lt;dbl&gt;</th><th scope=col>&lt;dbl&gt;</th><th scope=col>&lt;int&gt;</th><th scope=col>&lt;dbl&gt;</th><th scope=col>&lt;dbl&gt;</th><th scope=col>&lt;dbl&gt;</th><th scope=col>&lt;chr&gt;</th><th scope=col>&lt;chr&gt;</th><th scope=col>&lt;fct&gt;</th><th scope=col>&lt;int&gt;</th><th scope=col>&lt;chr&gt;</th><th scope=col>&lt;int&gt;</th><th scope=col>&lt;dbl&gt;</th><th scope=col>&lt;dbl&gt;</th><th scope=col>&lt;chr&gt;</th><th scope=col>&lt;chr&gt;</th><th scope=col>&lt;dbl&gt;</th><th scope=col>&lt;int&gt;</th></tr>\n",
       "</thead>\n",
       "<tbody>\n",
       "\t<tr><td>FirstTime</td><td>1</td><td>2020-02-14</td><td>44295183</td><td>kagen.site           </td><td>2017-02-14</td><td>Active</td><td>site</td><td>gmo</td><td>gmo</td><td>Japan</td><td>Non China</td><td>3</td><td>NA</td><td>Not Renewd</td><td>0</td><td>auto-renewal</td><td>unrealized</td><td>2020-02-14</td><td>GMO</td><td>GMO</td><td>40.1</td><td>13.37</td><td>1</td><td>20</td><td>20</td><td>13.37</td><td>sitegmo</td><td>kagen           </td><td>l       </td><td> 5</td><td>5l        </td><td>1</td><td>2.593013</td><td>5.02</td><td>kagen           </td><td>1</td><td>1</td><td>1</td></tr>\n",
       "\t<tr><td>FirstTime</td><td>1</td><td>2020-02-19</td><td>44573611</td><td>designlab.site       </td><td>2017-02-19</td><td>Active</td><td>site</td><td>gmo</td><td>gmo</td><td>Japan</td><td>Non China</td><td>3</td><td>NA</td><td>Renewed   </td><td>0</td><td>renewal     </td><td>NA        </td><td>2020-02-03</td><td>GMO</td><td>GMO</td><td>40.1</td><td>13.37</td><td>1</td><td>20</td><td>20</td><td>13.37</td><td>sitegmo</td><td>designlab       </td><td>l       </td><td> 9</td><td>9l        </td><td>1</td><td>2.593013</td><td>4.11</td><td>designlab       </td><td>1</td><td>1</td><td>1</td></tr>\n",
       "\t<tr><td>FirstTime</td><td>1</td><td>2020-03-03</td><td>45304858</td><td>hokatu-blog.site     </td><td>2017-03-03</td><td>Active</td><td>site</td><td>gmo</td><td>gmo</td><td>Japan</td><td>Non China</td><td>3</td><td>NA</td><td>Renewed   </td><td>0</td><td>renewal     </td><td>NA        </td><td>2020-02-02</td><td>GMO</td><td>GMO</td><td>40.3</td><td>13.43</td><td>1</td><td>20</td><td>20</td><td>13.43</td><td>sitegmo</td><td>hokatu-blog     </td><td>hyphen-l</td><td>11</td><td>11hyphen-l</td><td>1</td><td>2.597491</td><td>3.54</td><td>hokatu-blog     </td><td>1</td><td>1</td><td>1</td></tr>\n",
       "\t<tr><td>FirstTime</td><td>1</td><td>2020-03-26</td><td>46235129</td><td>suzuya.site          </td><td>2017-03-26</td><td>Active</td><td>site</td><td>gmo</td><td>gmo</td><td>Japan</td><td>Non China</td><td>3</td><td>NA</td><td>Renewed   </td><td>0</td><td>renewal     </td><td>NA        </td><td>2020-03-10</td><td>GMO</td><td>GMO</td><td>40.1</td><td>13.37</td><td>1</td><td>20</td><td>20</td><td>13.37</td><td>sitegmo</td><td>suzuya          </td><td>l       </td><td> 6</td><td>6l        </td><td>1</td><td>2.593013</td><td>1.03</td><td>suzuya          </td><td>1</td><td>1</td><td>1</td></tr>\n",
       "\t<tr><td>FirstTime</td><td>1</td><td>2020-03-27</td><td>46276970</td><td>wins-company.site    </td><td>2017-03-27</td><td>Active</td><td>site</td><td>gmo</td><td>gmo</td><td>Japan</td><td>Non China</td><td>3</td><td>NA</td><td>Not Renewd</td><td>0</td><td>auto-renewal</td><td>unrealized</td><td>2020-03-27</td><td>GMO</td><td>GMO</td><td>40.1</td><td>13.37</td><td>1</td><td>20</td><td>20</td><td>13.37</td><td>sitegmo</td><td>wins-company    </td><td>hyphen-l</td><td>12</td><td>12hyphen-l</td><td>1</td><td>2.593013</td><td>7.74</td><td>wins-company    </td><td>1</td><td>1</td><td>1</td></tr>\n",
       "\t<tr><td>FirstTime</td><td>1</td><td>2020-05-16</td><td>47809960</td><td>yamatoku-company.site</td><td>2017-05-16</td><td>Active</td><td>site</td><td>gmo</td><td>gmo</td><td>Japan</td><td>Non China</td><td>3</td><td>NA</td><td>Renewed   </td><td>0</td><td>renewal     </td><td>NA        </td><td>2020-04-20</td><td>GMO</td><td>GMO</td><td>40.1</td><td>13.37</td><td>1</td><td>20</td><td>20</td><td>13.37</td><td>sitegmo</td><td>yamatoku-company</td><td>hyphen-l</td><td>16</td><td>16hyphen-l</td><td>1</td><td>2.593013</td><td>5.61</td><td>yamatoku-company</td><td>1</td><td>1</td><td>1</td></tr>\n",
       "</tbody>\n",
       "</table>\n"
      ],
      "text/latex": [
       "A data.table: 6 × 39\n",
       "\\begin{tabular}{lllllllllllllllllllllllllllllllllllllll}\n",
       " renewal\\_type & renewed\\_count & expiry\\_date & domain\\_id & domain & creation\\_date & status & tld & registrar & reseller & reseller\\_country & region & reg\\_period & registrant\\_country & renewal\\_status & renew\\_mbg & renew\\_type & autorenew\\_type & renew\\_date & renew\\_registrar & renew\\_reseller & reg\\_revenue & reg\\_arpt & renew\\_period & renew\\_domain\\_revenue & renew\\_arpt & reg\\_arpt\\_org & tld\\_registrar\\_index & sld & sld\\_type & sld\\_length & sld\\_type2 & day\\_domains & log\\_reg\\_arpt & gibb\\_score & pattern & cluster & pattern\\_score & pattern\\_domain\\_count\\\\\n",
       " <chr> & <int> & <date> & <int> & <chr> & <date> & <chr> & <fct> & <chr> & <chr> & <chr> & <chr> & <int> & <chr> & <fct> & <int> & <chr> & <chr> & <date> & <chr> & <chr> & <dbl> & <dbl> & <int> & <dbl> & <dbl> & <dbl> & <chr> & <chr> & <fct> & <int> & <chr> & <int> & <dbl> & <dbl> & <chr> & <chr> & <dbl> & <int>\\\\\n",
       "\\hline\n",
       "\t FirstTime & 1 & 2020-02-14 & 44295183 & kagen.site            & 2017-02-14 & Active & site & gmo & gmo & Japan & Non China & 3 & NA & Not Renewd & 0 & auto-renewal & unrealized & 2020-02-14 & GMO & GMO & 40.1 & 13.37 & 1 & 20 & 20 & 13.37 & sitegmo & kagen            & l        &  5 & 5l         & 1 & 2.593013 & 5.02 & kagen            & 1 & 1 & 1\\\\\n",
       "\t FirstTime & 1 & 2020-02-19 & 44573611 & designlab.site        & 2017-02-19 & Active & site & gmo & gmo & Japan & Non China & 3 & NA & Renewed    & 0 & renewal      & NA         & 2020-02-03 & GMO & GMO & 40.1 & 13.37 & 1 & 20 & 20 & 13.37 & sitegmo & designlab        & l        &  9 & 9l         & 1 & 2.593013 & 4.11 & designlab        & 1 & 1 & 1\\\\\n",
       "\t FirstTime & 1 & 2020-03-03 & 45304858 & hokatu-blog.site      & 2017-03-03 & Active & site & gmo & gmo & Japan & Non China & 3 & NA & Renewed    & 0 & renewal      & NA         & 2020-02-02 & GMO & GMO & 40.3 & 13.43 & 1 & 20 & 20 & 13.43 & sitegmo & hokatu-blog      & hyphen-l & 11 & 11hyphen-l & 1 & 2.597491 & 3.54 & hokatu-blog      & 1 & 1 & 1\\\\\n",
       "\t FirstTime & 1 & 2020-03-26 & 46235129 & suzuya.site           & 2017-03-26 & Active & site & gmo & gmo & Japan & Non China & 3 & NA & Renewed    & 0 & renewal      & NA         & 2020-03-10 & GMO & GMO & 40.1 & 13.37 & 1 & 20 & 20 & 13.37 & sitegmo & suzuya           & l        &  6 & 6l         & 1 & 2.593013 & 1.03 & suzuya           & 1 & 1 & 1\\\\\n",
       "\t FirstTime & 1 & 2020-03-27 & 46276970 & wins-company.site     & 2017-03-27 & Active & site & gmo & gmo & Japan & Non China & 3 & NA & Not Renewd & 0 & auto-renewal & unrealized & 2020-03-27 & GMO & GMO & 40.1 & 13.37 & 1 & 20 & 20 & 13.37 & sitegmo & wins-company     & hyphen-l & 12 & 12hyphen-l & 1 & 2.593013 & 7.74 & wins-company     & 1 & 1 & 1\\\\\n",
       "\t FirstTime & 1 & 2020-05-16 & 47809960 & yamatoku-company.site & 2017-05-16 & Active & site & gmo & gmo & Japan & Non China & 3 & NA & Renewed    & 0 & renewal      & NA         & 2020-04-20 & GMO & GMO & 40.1 & 13.37 & 1 & 20 & 20 & 13.37 & sitegmo & yamatoku-company & hyphen-l & 16 & 16hyphen-l & 1 & 2.593013 & 5.61 & yamatoku-company & 1 & 1 & 1\\\\\n",
       "\\end{tabular}\n"
      ],
      "text/markdown": [
       "\n",
       "A data.table: 6 × 39\n",
       "\n",
       "| renewal_type &lt;chr&gt; | renewed_count &lt;int&gt; | expiry_date &lt;date&gt; | domain_id &lt;int&gt; | domain &lt;chr&gt; | creation_date &lt;date&gt; | status &lt;chr&gt; | tld &lt;fct&gt; | registrar &lt;chr&gt; | reseller &lt;chr&gt; | reseller_country &lt;chr&gt; | region &lt;chr&gt; | reg_period &lt;int&gt; | registrant_country &lt;chr&gt; | renewal_status &lt;fct&gt; | renew_mbg &lt;int&gt; | renew_type &lt;chr&gt; | autorenew_type &lt;chr&gt; | renew_date &lt;date&gt; | renew_registrar &lt;chr&gt; | renew_reseller &lt;chr&gt; | reg_revenue &lt;dbl&gt; | reg_arpt &lt;dbl&gt; | renew_period &lt;int&gt; | renew_domain_revenue &lt;dbl&gt; | renew_arpt &lt;dbl&gt; | reg_arpt_org &lt;dbl&gt; | tld_registrar_index &lt;chr&gt; | sld &lt;chr&gt; | sld_type &lt;fct&gt; | sld_length &lt;int&gt; | sld_type2 &lt;chr&gt; | day_domains &lt;int&gt; | log_reg_arpt &lt;dbl&gt; | gibb_score &lt;dbl&gt; | pattern &lt;chr&gt; | cluster &lt;chr&gt; | pattern_score &lt;dbl&gt; | pattern_domain_count &lt;int&gt; |\n",
       "|---|---|---|---|---|---|---|---|---|---|---|---|---|---|---|---|---|---|---|---|---|---|---|---|---|---|---|---|---|---|---|---|---|---|---|---|---|---|---|\n",
       "| FirstTime | 1 | 2020-02-14 | 44295183 | kagen.site            | 2017-02-14 | Active | site | gmo | gmo | Japan | Non China | 3 | NA | Not Renewd | 0 | auto-renewal | unrealized | 2020-02-14 | GMO | GMO | 40.1 | 13.37 | 1 | 20 | 20 | 13.37 | sitegmo | kagen            | l        |  5 | 5l         | 1 | 2.593013 | 5.02 | kagen            | 1 | 1 | 1 |\n",
       "| FirstTime | 1 | 2020-02-19 | 44573611 | designlab.site        | 2017-02-19 | Active | site | gmo | gmo | Japan | Non China | 3 | NA | Renewed    | 0 | renewal      | NA         | 2020-02-03 | GMO | GMO | 40.1 | 13.37 | 1 | 20 | 20 | 13.37 | sitegmo | designlab        | l        |  9 | 9l         | 1 | 2.593013 | 4.11 | designlab        | 1 | 1 | 1 |\n",
       "| FirstTime | 1 | 2020-03-03 | 45304858 | hokatu-blog.site      | 2017-03-03 | Active | site | gmo | gmo | Japan | Non China | 3 | NA | Renewed    | 0 | renewal      | NA         | 2020-02-02 | GMO | GMO | 40.3 | 13.43 | 1 | 20 | 20 | 13.43 | sitegmo | hokatu-blog      | hyphen-l | 11 | 11hyphen-l | 1 | 2.597491 | 3.54 | hokatu-blog      | 1 | 1 | 1 |\n",
       "| FirstTime | 1 | 2020-03-26 | 46235129 | suzuya.site           | 2017-03-26 | Active | site | gmo | gmo | Japan | Non China | 3 | NA | Renewed    | 0 | renewal      | NA         | 2020-03-10 | GMO | GMO | 40.1 | 13.37 | 1 | 20 | 20 | 13.37 | sitegmo | suzuya           | l        |  6 | 6l         | 1 | 2.593013 | 1.03 | suzuya           | 1 | 1 | 1 |\n",
       "| FirstTime | 1 | 2020-03-27 | 46276970 | wins-company.site     | 2017-03-27 | Active | site | gmo | gmo | Japan | Non China | 3 | NA | Not Renewd | 0 | auto-renewal | unrealized | 2020-03-27 | GMO | GMO | 40.1 | 13.37 | 1 | 20 | 20 | 13.37 | sitegmo | wins-company     | hyphen-l | 12 | 12hyphen-l | 1 | 2.593013 | 7.74 | wins-company     | 1 | 1 | 1 |\n",
       "| FirstTime | 1 | 2020-05-16 | 47809960 | yamatoku-company.site | 2017-05-16 | Active | site | gmo | gmo | Japan | Non China | 3 | NA | Renewed    | 0 | renewal      | NA         | 2020-04-20 | GMO | GMO | 40.1 | 13.37 | 1 | 20 | 20 | 13.37 | sitegmo | yamatoku-company | hyphen-l | 16 | 16hyphen-l | 1 | 2.593013 | 5.61 | yamatoku-company | 1 | 1 | 1 |\n",
       "\n"
      ],
      "text/plain": [
       "  renewal_type renewed_count expiry_date domain_id domain               \n",
       "1 FirstTime    1             2020-02-14  44295183  kagen.site           \n",
       "2 FirstTime    1             2020-02-19  44573611  designlab.site       \n",
       "3 FirstTime    1             2020-03-03  45304858  hokatu-blog.site     \n",
       "4 FirstTime    1             2020-03-26  46235129  suzuya.site          \n",
       "5 FirstTime    1             2020-03-27  46276970  wins-company.site    \n",
       "6 FirstTime    1             2020-05-16  47809960  yamatoku-company.site\n",
       "  creation_date status tld  registrar reseller reseller_country region   \n",
       "1 2017-02-14    Active site gmo       gmo      Japan            Non China\n",
       "2 2017-02-19    Active site gmo       gmo      Japan            Non China\n",
       "3 2017-03-03    Active site gmo       gmo      Japan            Non China\n",
       "4 2017-03-26    Active site gmo       gmo      Japan            Non China\n",
       "5 2017-03-27    Active site gmo       gmo      Japan            Non China\n",
       "6 2017-05-16    Active site gmo       gmo      Japan            Non China\n",
       "  reg_period registrant_country renewal_status renew_mbg renew_type  \n",
       "1 3          NA                 Not Renewd     0         auto-renewal\n",
       "2 3          NA                 Renewed        0         renewal     \n",
       "3 3          NA                 Renewed        0         renewal     \n",
       "4 3          NA                 Renewed        0         renewal     \n",
       "5 3          NA                 Not Renewd     0         auto-renewal\n",
       "6 3          NA                 Renewed        0         renewal     \n",
       "  autorenew_type renew_date renew_registrar renew_reseller reg_revenue reg_arpt\n",
       "1 unrealized     2020-02-14 GMO             GMO            40.1        13.37   \n",
       "2 NA             2020-02-03 GMO             GMO            40.1        13.37   \n",
       "3 NA             2020-02-02 GMO             GMO            40.3        13.43   \n",
       "4 NA             2020-03-10 GMO             GMO            40.1        13.37   \n",
       "5 unrealized     2020-03-27 GMO             GMO            40.1        13.37   \n",
       "6 NA             2020-04-20 GMO             GMO            40.1        13.37   \n",
       "  renew_period renew_domain_revenue renew_arpt reg_arpt_org tld_registrar_index\n",
       "1 1            20                   20         13.37        sitegmo            \n",
       "2 1            20                   20         13.37        sitegmo            \n",
       "3 1            20                   20         13.43        sitegmo            \n",
       "4 1            20                   20         13.37        sitegmo            \n",
       "5 1            20                   20         13.37        sitegmo            \n",
       "6 1            20                   20         13.37        sitegmo            \n",
       "  sld              sld_type sld_length sld_type2  day_domains log_reg_arpt\n",
       "1 kagen            l         5         5l         1           2.593013    \n",
       "2 designlab        l         9         9l         1           2.593013    \n",
       "3 hokatu-blog      hyphen-l 11         11hyphen-l 1           2.597491    \n",
       "4 suzuya           l         6         6l         1           2.593013    \n",
       "5 wins-company     hyphen-l 12         12hyphen-l 1           2.593013    \n",
       "6 yamatoku-company hyphen-l 16         16hyphen-l 1           2.593013    \n",
       "  gibb_score pattern          cluster pattern_score pattern_domain_count\n",
       "1 5.02       kagen            1       1             1                   \n",
       "2 4.11       designlab        1       1             1                   \n",
       "3 3.54       hokatu-blog      1       1             1                   \n",
       "4 1.03       suzuya           1       1             1                   \n",
       "5 7.74       wins-company     1       1             1                   \n",
       "6 5.61       yamatoku-company 1       1             1                   "
      ]
     },
     "metadata": {},
     "output_type": "display_data"
    }
   ],
   "source": [
    "test_data = expiry_test_prepped_2_1[[tld_reg]]\n",
    "dim(test_data)\n",
    "head(test_data)"
   ]
  },
  {
   "cell_type": "code",
   "execution_count": 17,
   "metadata": {},
   "outputs": [],
   "source": [
    "test_data$sld_type[!(test_data$sld_type %in% model$xlevels$sld_type)]<-NA"
   ]
  },
  {
   "cell_type": "code",
   "execution_count": 18,
   "metadata": {},
   "outputs": [
    {
     "data": {
      "text/html": [
       "0"
      ],
      "text/latex": [
       "0"
      ],
      "text/markdown": [
       "0"
      ],
      "text/plain": [
       "[1] 0"
      ]
     },
     "metadata": {},
     "output_type": "display_data"
    }
   ],
   "source": [
    "sum(is.na(test_data$sld_type))"
   ]
  },
  {
   "cell_type": "code",
   "execution_count": 19,
   "metadata": {},
   "outputs": [],
   "source": [
    "test_data$probabilities<-predict(model,\n",
    "                               newdata=subset(test_data,\n",
    "                                              select=c(pattern_domain_count, \n",
    "                                                       log_reg_arpt,\n",
    "                                                       sld_length, \n",
    "                                                       gibb_score,\n",
    "                                                       sld_type, \n",
    "                                                       day_domains,\n",
    "                                                       reg_period)),type='response')"
   ]
  },
  {
   "cell_type": "code",
   "execution_count": 27,
   "metadata": {},
   "outputs": [
    {
     "data": {
      "text/html": [
       "<table>\n",
       "<caption>A data.table: 6 × 40</caption>\n",
       "<thead>\n",
       "\t<tr><th scope=col>renewal_type</th><th scope=col>renewed_count</th><th scope=col>expiry_date</th><th scope=col>domain_id</th><th scope=col>domain</th><th scope=col>creation_date</th><th scope=col>status</th><th scope=col>tld</th><th scope=col>registrar</th><th scope=col>reseller</th><th scope=col>reseller_country</th><th scope=col>region</th><th scope=col>reg_period</th><th scope=col>registrant_country</th><th scope=col>renewal_status</th><th scope=col>renew_mbg</th><th scope=col>renew_type</th><th scope=col>autorenew_type</th><th scope=col>renew_date</th><th scope=col>renew_registrar</th><th scope=col>renew_reseller</th><th scope=col>reg_revenue</th><th scope=col>reg_arpt</th><th scope=col>renew_period</th><th scope=col>renew_domain_revenue</th><th scope=col>renew_arpt</th><th scope=col>reg_arpt_org</th><th scope=col>tld_registrar_index</th><th scope=col>sld</th><th scope=col>sld_type</th><th scope=col>sld_length</th><th scope=col>sld_type2</th><th scope=col>day_domains</th><th scope=col>log_reg_arpt</th><th scope=col>gibb_score</th><th scope=col>pattern</th><th scope=col>cluster</th><th scope=col>pattern_score</th><th scope=col>pattern_domain_count</th><th scope=col>probabilities</th></tr>\n",
       "\t<tr><th scope=col>&lt;chr&gt;</th><th scope=col>&lt;int&gt;</th><th scope=col>&lt;date&gt;</th><th scope=col>&lt;int&gt;</th><th scope=col>&lt;chr&gt;</th><th scope=col>&lt;date&gt;</th><th scope=col>&lt;chr&gt;</th><th scope=col>&lt;fct&gt;</th><th scope=col>&lt;chr&gt;</th><th scope=col>&lt;chr&gt;</th><th scope=col>&lt;chr&gt;</th><th scope=col>&lt;chr&gt;</th><th scope=col>&lt;int&gt;</th><th scope=col>&lt;chr&gt;</th><th scope=col>&lt;fct&gt;</th><th scope=col>&lt;int&gt;</th><th scope=col>&lt;chr&gt;</th><th scope=col>&lt;chr&gt;</th><th scope=col>&lt;date&gt;</th><th scope=col>&lt;chr&gt;</th><th scope=col>&lt;chr&gt;</th><th scope=col>&lt;dbl&gt;</th><th scope=col>&lt;dbl&gt;</th><th scope=col>&lt;int&gt;</th><th scope=col>&lt;dbl&gt;</th><th scope=col>&lt;dbl&gt;</th><th scope=col>&lt;dbl&gt;</th><th scope=col>&lt;chr&gt;</th><th scope=col>&lt;chr&gt;</th><th scope=col>&lt;fct&gt;</th><th scope=col>&lt;int&gt;</th><th scope=col>&lt;chr&gt;</th><th scope=col>&lt;int&gt;</th><th scope=col>&lt;dbl&gt;</th><th scope=col>&lt;dbl&gt;</th><th scope=col>&lt;chr&gt;</th><th scope=col>&lt;chr&gt;</th><th scope=col>&lt;dbl&gt;</th><th scope=col>&lt;int&gt;</th><th scope=col>&lt;dbl&gt;</th></tr>\n",
       "</thead>\n",
       "<tbody>\n",
       "\t<tr><td>FirstTime</td><td>1</td><td>2020-02-14</td><td>44295183</td><td>kagen.site           </td><td>2017-02-14</td><td>Active</td><td>site</td><td>gmo</td><td>gmo</td><td>Japan</td><td>Non China</td><td>3</td><td>NA</td><td>Not Renewd</td><td>0</td><td>auto-renewal</td><td>unrealized</td><td>2020-02-14</td><td>GMO</td><td>GMO</td><td>40.1</td><td>13.37</td><td>1</td><td>20</td><td>20</td><td>13.37</td><td>sitegmo</td><td>kagen           </td><td>l       </td><td> 5</td><td>5l        </td><td>1</td><td>2.593013</td><td>5.02</td><td>kagen           </td><td>1</td><td>1</td><td>1</td><td>0.6470992</td></tr>\n",
       "\t<tr><td>FirstTime</td><td>1</td><td>2020-02-19</td><td>44573611</td><td>designlab.site       </td><td>2017-02-19</td><td>Active</td><td>site</td><td>gmo</td><td>gmo</td><td>Japan</td><td>Non China</td><td>3</td><td>NA</td><td>Renewed   </td><td>0</td><td>renewal     </td><td>NA        </td><td>2020-02-03</td><td>GMO</td><td>GMO</td><td>40.1</td><td>13.37</td><td>1</td><td>20</td><td>20</td><td>13.37</td><td>sitegmo</td><td>designlab       </td><td>l       </td><td> 9</td><td>9l        </td><td>1</td><td>2.593013</td><td>4.11</td><td>designlab       </td><td>1</td><td>1</td><td>1</td><td>0.6762222</td></tr>\n",
       "\t<tr><td>FirstTime</td><td>1</td><td>2020-03-03</td><td>45304858</td><td>hokatu-blog.site     </td><td>2017-03-03</td><td>Active</td><td>site</td><td>gmo</td><td>gmo</td><td>Japan</td><td>Non China</td><td>3</td><td>NA</td><td>Renewed   </td><td>0</td><td>renewal     </td><td>NA        </td><td>2020-02-02</td><td>GMO</td><td>GMO</td><td>40.3</td><td>13.43</td><td>1</td><td>20</td><td>20</td><td>13.43</td><td>sitegmo</td><td>hokatu-blog     </td><td>hyphen-l</td><td>11</td><td>11hyphen-l</td><td>1</td><td>2.597491</td><td>3.54</td><td>hokatu-blog     </td><td>1</td><td>1</td><td>1</td><td>0.9098495</td></tr>\n",
       "\t<tr><td>FirstTime</td><td>1</td><td>2020-03-26</td><td>46235129</td><td>suzuya.site          </td><td>2017-03-26</td><td>Active</td><td>site</td><td>gmo</td><td>gmo</td><td>Japan</td><td>Non China</td><td>3</td><td>NA</td><td>Renewed   </td><td>0</td><td>renewal     </td><td>NA        </td><td>2020-03-10</td><td>GMO</td><td>GMO</td><td>40.1</td><td>13.37</td><td>1</td><td>20</td><td>20</td><td>13.37</td><td>sitegmo</td><td>suzuya          </td><td>l       </td><td> 6</td><td>6l        </td><td>1</td><td>2.593013</td><td>1.03</td><td>suzuya          </td><td>1</td><td>1</td><td>1</td><td>0.6029350</td></tr>\n",
       "\t<tr><td>FirstTime</td><td>1</td><td>2020-03-27</td><td>46276970</td><td>wins-company.site    </td><td>2017-03-27</td><td>Active</td><td>site</td><td>gmo</td><td>gmo</td><td>Japan</td><td>Non China</td><td>3</td><td>NA</td><td>Not Renewd</td><td>0</td><td>auto-renewal</td><td>unrealized</td><td>2020-03-27</td><td>GMO</td><td>GMO</td><td>40.1</td><td>13.37</td><td>1</td><td>20</td><td>20</td><td>13.37</td><td>sitegmo</td><td>wins-company    </td><td>hyphen-l</td><td>12</td><td>12hyphen-l</td><td>1</td><td>2.593013</td><td>7.74</td><td>wins-company    </td><td>1</td><td>1</td><td>1</td><td>0.9311321</td></tr>\n",
       "\t<tr><td>FirstTime</td><td>1</td><td>2020-05-16</td><td>47809960</td><td>yamatoku-company.site</td><td>2017-05-16</td><td>Active</td><td>site</td><td>gmo</td><td>gmo</td><td>Japan</td><td>Non China</td><td>3</td><td>NA</td><td>Renewed   </td><td>0</td><td>renewal     </td><td>NA        </td><td>2020-04-20</td><td>GMO</td><td>GMO</td><td>40.1</td><td>13.37</td><td>1</td><td>20</td><td>20</td><td>13.37</td><td>sitegmo</td><td>yamatoku-company</td><td>hyphen-l</td><td>16</td><td>16hyphen-l</td><td>1</td><td>2.593013</td><td>5.61</td><td>yamatoku-company</td><td>1</td><td>1</td><td>1</td><td>0.9347869</td></tr>\n",
       "</tbody>\n",
       "</table>\n"
      ],
      "text/latex": [
       "A data.table: 6 × 40\n",
       "\\begin{tabular}{llllllllllllllllllllllllllllllllllllllll}\n",
       " renewal\\_type & renewed\\_count & expiry\\_date & domain\\_id & domain & creation\\_date & status & tld & registrar & reseller & reseller\\_country & region & reg\\_period & registrant\\_country & renewal\\_status & renew\\_mbg & renew\\_type & autorenew\\_type & renew\\_date & renew\\_registrar & renew\\_reseller & reg\\_revenue & reg\\_arpt & renew\\_period & renew\\_domain\\_revenue & renew\\_arpt & reg\\_arpt\\_org & tld\\_registrar\\_index & sld & sld\\_type & sld\\_length & sld\\_type2 & day\\_domains & log\\_reg\\_arpt & gibb\\_score & pattern & cluster & pattern\\_score & pattern\\_domain\\_count & probabilities\\\\\n",
       " <chr> & <int> & <date> & <int> & <chr> & <date> & <chr> & <fct> & <chr> & <chr> & <chr> & <chr> & <int> & <chr> & <fct> & <int> & <chr> & <chr> & <date> & <chr> & <chr> & <dbl> & <dbl> & <int> & <dbl> & <dbl> & <dbl> & <chr> & <chr> & <fct> & <int> & <chr> & <int> & <dbl> & <dbl> & <chr> & <chr> & <dbl> & <int> & <dbl>\\\\\n",
       "\\hline\n",
       "\t FirstTime & 1 & 2020-02-14 & 44295183 & kagen.site            & 2017-02-14 & Active & site & gmo & gmo & Japan & Non China & 3 & NA & Not Renewd & 0 & auto-renewal & unrealized & 2020-02-14 & GMO & GMO & 40.1 & 13.37 & 1 & 20 & 20 & 13.37 & sitegmo & kagen            & l        &  5 & 5l         & 1 & 2.593013 & 5.02 & kagen            & 1 & 1 & 1 & 0.6470992\\\\\n",
       "\t FirstTime & 1 & 2020-02-19 & 44573611 & designlab.site        & 2017-02-19 & Active & site & gmo & gmo & Japan & Non China & 3 & NA & Renewed    & 0 & renewal      & NA         & 2020-02-03 & GMO & GMO & 40.1 & 13.37 & 1 & 20 & 20 & 13.37 & sitegmo & designlab        & l        &  9 & 9l         & 1 & 2.593013 & 4.11 & designlab        & 1 & 1 & 1 & 0.6762222\\\\\n",
       "\t FirstTime & 1 & 2020-03-03 & 45304858 & hokatu-blog.site      & 2017-03-03 & Active & site & gmo & gmo & Japan & Non China & 3 & NA & Renewed    & 0 & renewal      & NA         & 2020-02-02 & GMO & GMO & 40.3 & 13.43 & 1 & 20 & 20 & 13.43 & sitegmo & hokatu-blog      & hyphen-l & 11 & 11hyphen-l & 1 & 2.597491 & 3.54 & hokatu-blog      & 1 & 1 & 1 & 0.9098495\\\\\n",
       "\t FirstTime & 1 & 2020-03-26 & 46235129 & suzuya.site           & 2017-03-26 & Active & site & gmo & gmo & Japan & Non China & 3 & NA & Renewed    & 0 & renewal      & NA         & 2020-03-10 & GMO & GMO & 40.1 & 13.37 & 1 & 20 & 20 & 13.37 & sitegmo & suzuya           & l        &  6 & 6l         & 1 & 2.593013 & 1.03 & suzuya           & 1 & 1 & 1 & 0.6029350\\\\\n",
       "\t FirstTime & 1 & 2020-03-27 & 46276970 & wins-company.site     & 2017-03-27 & Active & site & gmo & gmo & Japan & Non China & 3 & NA & Not Renewd & 0 & auto-renewal & unrealized & 2020-03-27 & GMO & GMO & 40.1 & 13.37 & 1 & 20 & 20 & 13.37 & sitegmo & wins-company     & hyphen-l & 12 & 12hyphen-l & 1 & 2.593013 & 7.74 & wins-company     & 1 & 1 & 1 & 0.9311321\\\\\n",
       "\t FirstTime & 1 & 2020-05-16 & 47809960 & yamatoku-company.site & 2017-05-16 & Active & site & gmo & gmo & Japan & Non China & 3 & NA & Renewed    & 0 & renewal      & NA         & 2020-04-20 & GMO & GMO & 40.1 & 13.37 & 1 & 20 & 20 & 13.37 & sitegmo & yamatoku-company & hyphen-l & 16 & 16hyphen-l & 1 & 2.593013 & 5.61 & yamatoku-company & 1 & 1 & 1 & 0.9347869\\\\\n",
       "\\end{tabular}\n"
      ],
      "text/markdown": [
       "\n",
       "A data.table: 6 × 40\n",
       "\n",
       "| renewal_type &lt;chr&gt; | renewed_count &lt;int&gt; | expiry_date &lt;date&gt; | domain_id &lt;int&gt; | domain &lt;chr&gt; | creation_date &lt;date&gt; | status &lt;chr&gt; | tld &lt;fct&gt; | registrar &lt;chr&gt; | reseller &lt;chr&gt; | reseller_country &lt;chr&gt; | region &lt;chr&gt; | reg_period &lt;int&gt; | registrant_country &lt;chr&gt; | renewal_status &lt;fct&gt; | renew_mbg &lt;int&gt; | renew_type &lt;chr&gt; | autorenew_type &lt;chr&gt; | renew_date &lt;date&gt; | renew_registrar &lt;chr&gt; | renew_reseller &lt;chr&gt; | reg_revenue &lt;dbl&gt; | reg_arpt &lt;dbl&gt; | renew_period &lt;int&gt; | renew_domain_revenue &lt;dbl&gt; | renew_arpt &lt;dbl&gt; | reg_arpt_org &lt;dbl&gt; | tld_registrar_index &lt;chr&gt; | sld &lt;chr&gt; | sld_type &lt;fct&gt; | sld_length &lt;int&gt; | sld_type2 &lt;chr&gt; | day_domains &lt;int&gt; | log_reg_arpt &lt;dbl&gt; | gibb_score &lt;dbl&gt; | pattern &lt;chr&gt; | cluster &lt;chr&gt; | pattern_score &lt;dbl&gt; | pattern_domain_count &lt;int&gt; | probabilities &lt;dbl&gt; |\n",
       "|---|---|---|---|---|---|---|---|---|---|---|---|---|---|---|---|---|---|---|---|---|---|---|---|---|---|---|---|---|---|---|---|---|---|---|---|---|---|---|---|\n",
       "| FirstTime | 1 | 2020-02-14 | 44295183 | kagen.site            | 2017-02-14 | Active | site | gmo | gmo | Japan | Non China | 3 | NA | Not Renewd | 0 | auto-renewal | unrealized | 2020-02-14 | GMO | GMO | 40.1 | 13.37 | 1 | 20 | 20 | 13.37 | sitegmo | kagen            | l        |  5 | 5l         | 1 | 2.593013 | 5.02 | kagen            | 1 | 1 | 1 | 0.6470992 |\n",
       "| FirstTime | 1 | 2020-02-19 | 44573611 | designlab.site        | 2017-02-19 | Active | site | gmo | gmo | Japan | Non China | 3 | NA | Renewed    | 0 | renewal      | NA         | 2020-02-03 | GMO | GMO | 40.1 | 13.37 | 1 | 20 | 20 | 13.37 | sitegmo | designlab        | l        |  9 | 9l         | 1 | 2.593013 | 4.11 | designlab        | 1 | 1 | 1 | 0.6762222 |\n",
       "| FirstTime | 1 | 2020-03-03 | 45304858 | hokatu-blog.site      | 2017-03-03 | Active | site | gmo | gmo | Japan | Non China | 3 | NA | Renewed    | 0 | renewal      | NA         | 2020-02-02 | GMO | GMO | 40.3 | 13.43 | 1 | 20 | 20 | 13.43 | sitegmo | hokatu-blog      | hyphen-l | 11 | 11hyphen-l | 1 | 2.597491 | 3.54 | hokatu-blog      | 1 | 1 | 1 | 0.9098495 |\n",
       "| FirstTime | 1 | 2020-03-26 | 46235129 | suzuya.site           | 2017-03-26 | Active | site | gmo | gmo | Japan | Non China | 3 | NA | Renewed    | 0 | renewal      | NA         | 2020-03-10 | GMO | GMO | 40.1 | 13.37 | 1 | 20 | 20 | 13.37 | sitegmo | suzuya           | l        |  6 | 6l         | 1 | 2.593013 | 1.03 | suzuya           | 1 | 1 | 1 | 0.6029350 |\n",
       "| FirstTime | 1 | 2020-03-27 | 46276970 | wins-company.site     | 2017-03-27 | Active | site | gmo | gmo | Japan | Non China | 3 | NA | Not Renewd | 0 | auto-renewal | unrealized | 2020-03-27 | GMO | GMO | 40.1 | 13.37 | 1 | 20 | 20 | 13.37 | sitegmo | wins-company     | hyphen-l | 12 | 12hyphen-l | 1 | 2.593013 | 7.74 | wins-company     | 1 | 1 | 1 | 0.9311321 |\n",
       "| FirstTime | 1 | 2020-05-16 | 47809960 | yamatoku-company.site | 2017-05-16 | Active | site | gmo | gmo | Japan | Non China | 3 | NA | Renewed    | 0 | renewal      | NA         | 2020-04-20 | GMO | GMO | 40.1 | 13.37 | 1 | 20 | 20 | 13.37 | sitegmo | yamatoku-company | hyphen-l | 16 | 16hyphen-l | 1 | 2.593013 | 5.61 | yamatoku-company | 1 | 1 | 1 | 0.9347869 |\n",
       "\n"
      ],
      "text/plain": [
       "  renewal_type renewed_count expiry_date domain_id domain               \n",
       "1 FirstTime    1             2020-02-14  44295183  kagen.site           \n",
       "2 FirstTime    1             2020-02-19  44573611  designlab.site       \n",
       "3 FirstTime    1             2020-03-03  45304858  hokatu-blog.site     \n",
       "4 FirstTime    1             2020-03-26  46235129  suzuya.site          \n",
       "5 FirstTime    1             2020-03-27  46276970  wins-company.site    \n",
       "6 FirstTime    1             2020-05-16  47809960  yamatoku-company.site\n",
       "  creation_date status tld  registrar reseller reseller_country region   \n",
       "1 2017-02-14    Active site gmo       gmo      Japan            Non China\n",
       "2 2017-02-19    Active site gmo       gmo      Japan            Non China\n",
       "3 2017-03-03    Active site gmo       gmo      Japan            Non China\n",
       "4 2017-03-26    Active site gmo       gmo      Japan            Non China\n",
       "5 2017-03-27    Active site gmo       gmo      Japan            Non China\n",
       "6 2017-05-16    Active site gmo       gmo      Japan            Non China\n",
       "  reg_period registrant_country renewal_status renew_mbg renew_type  \n",
       "1 3          NA                 Not Renewd     0         auto-renewal\n",
       "2 3          NA                 Renewed        0         renewal     \n",
       "3 3          NA                 Renewed        0         renewal     \n",
       "4 3          NA                 Renewed        0         renewal     \n",
       "5 3          NA                 Not Renewd     0         auto-renewal\n",
       "6 3          NA                 Renewed        0         renewal     \n",
       "  autorenew_type renew_date renew_registrar renew_reseller reg_revenue reg_arpt\n",
       "1 unrealized     2020-02-14 GMO             GMO            40.1        13.37   \n",
       "2 NA             2020-02-03 GMO             GMO            40.1        13.37   \n",
       "3 NA             2020-02-02 GMO             GMO            40.3        13.43   \n",
       "4 NA             2020-03-10 GMO             GMO            40.1        13.37   \n",
       "5 unrealized     2020-03-27 GMO             GMO            40.1        13.37   \n",
       "6 NA             2020-04-20 GMO             GMO            40.1        13.37   \n",
       "  renew_period renew_domain_revenue renew_arpt reg_arpt_org tld_registrar_index\n",
       "1 1            20                   20         13.37        sitegmo            \n",
       "2 1            20                   20         13.37        sitegmo            \n",
       "3 1            20                   20         13.43        sitegmo            \n",
       "4 1            20                   20         13.37        sitegmo            \n",
       "5 1            20                   20         13.37        sitegmo            \n",
       "6 1            20                   20         13.37        sitegmo            \n",
       "  sld              sld_type sld_length sld_type2  day_domains log_reg_arpt\n",
       "1 kagen            l         5         5l         1           2.593013    \n",
       "2 designlab        l         9         9l         1           2.593013    \n",
       "3 hokatu-blog      hyphen-l 11         11hyphen-l 1           2.597491    \n",
       "4 suzuya           l         6         6l         1           2.593013    \n",
       "5 wins-company     hyphen-l 12         12hyphen-l 1           2.593013    \n",
       "6 yamatoku-company hyphen-l 16         16hyphen-l 1           2.593013    \n",
       "  gibb_score pattern          cluster pattern_score pattern_domain_count\n",
       "1 5.02       kagen            1       1             1                   \n",
       "2 4.11       designlab        1       1             1                   \n",
       "3 3.54       hokatu-blog      1       1             1                   \n",
       "4 1.03       suzuya           1       1             1                   \n",
       "5 7.74       wins-company     1       1             1                   \n",
       "6 5.61       yamatoku-company 1       1             1                   \n",
       "  probabilities\n",
       "1 0.6470992    \n",
       "2 0.6762222    \n",
       "3 0.9098495    \n",
       "4 0.6029350    \n",
       "5 0.9311321    \n",
       "6 0.9347869    "
      ]
     },
     "metadata": {},
     "output_type": "display_data"
    }
   ],
   "source": [
    "head(test_data)"
   ]
  },
  {
   "cell_type": "markdown",
   "metadata": {},
   "source": [
    "# Compare to expiry test results"
   ]
  },
  {
   "cell_type": "code",
   "execution_count": 32,
   "metadata": {},
   "outputs": [
    {
     "data": {
      "text/html": [
       "<style>\n",
       ".list-inline {list-style: none; margin:0; padding: 0}\n",
       ".list-inline>li {display: inline-block}\n",
       ".list-inline>li:not(:last-child)::after {content: \"\\00b7\"; padding: 0 .5ex}\n",
       "</style>\n",
       "<ol class=list-inline><li>26419</li><li>40</li></ol>\n"
      ],
      "text/latex": [
       "\\begin{enumerate*}\n",
       "\\item 26419\n",
       "\\item 40\n",
       "\\end{enumerate*}\n"
      ],
      "text/markdown": [
       "1. 26419\n",
       "2. 40\n",
       "\n",
       "\n"
      ],
      "text/plain": [
       "[1] 26419    40"
      ]
     },
     "metadata": {},
     "output_type": "display_data"
    },
    {
     "data": {
      "text/html": [
       "<table>\n",
       "<caption>A data.table: 6 × 2</caption>\n",
       "<thead>\n",
       "\t<tr><th scope=col>domain</th><th scope=col>probabilities</th></tr>\n",
       "\t<tr><th scope=col>&lt;chr&gt;</th><th scope=col>&lt;dbl&gt;</th></tr>\n",
       "</thead>\n",
       "<tbody>\n",
       "\t<tr><td>kagen.site           </td><td>0.6470992</td></tr>\n",
       "\t<tr><td>designlab.site       </td><td>0.6762222</td></tr>\n",
       "\t<tr><td>hokatu-blog.site     </td><td>0.9098495</td></tr>\n",
       "\t<tr><td>suzuya.site          </td><td>0.6029350</td></tr>\n",
       "\t<tr><td>wins-company.site    </td><td>0.9311321</td></tr>\n",
       "\t<tr><td>yamatoku-company.site</td><td>0.9347869</td></tr>\n",
       "</tbody>\n",
       "</table>\n"
      ],
      "text/latex": [
       "A data.table: 6 × 2\n",
       "\\begin{tabular}{ll}\n",
       " domain & probabilities\\\\\n",
       " <chr> & <dbl>\\\\\n",
       "\\hline\n",
       "\t kagen.site            & 0.6470992\\\\\n",
       "\t designlab.site        & 0.6762222\\\\\n",
       "\t hokatu-blog.site      & 0.9098495\\\\\n",
       "\t suzuya.site           & 0.6029350\\\\\n",
       "\t wins-company.site     & 0.9311321\\\\\n",
       "\t yamatoku-company.site & 0.9347869\\\\\n",
       "\\end{tabular}\n"
      ],
      "text/markdown": [
       "\n",
       "A data.table: 6 × 2\n",
       "\n",
       "| domain &lt;chr&gt; | probabilities &lt;dbl&gt; |\n",
       "|---|---|\n",
       "| kagen.site            | 0.6470992 |\n",
       "| designlab.site        | 0.6762222 |\n",
       "| hokatu-blog.site      | 0.9098495 |\n",
       "| suzuya.site           | 0.6029350 |\n",
       "| wins-company.site     | 0.9311321 |\n",
       "| yamatoku-company.site | 0.9347869 |\n",
       "\n"
      ],
      "text/plain": [
       "  domain                probabilities\n",
       "1 kagen.site            0.6470992    \n",
       "2 designlab.site        0.6762222    \n",
       "3 hokatu-blog.site      0.9098495    \n",
       "4 suzuya.site           0.6029350    \n",
       "5 wins-company.site     0.9311321    \n",
       "6 yamatoku-company.site 0.9347869    "
      ]
     },
     "metadata": {},
     "output_type": "display_data"
    }
   ],
   "source": [
    "dim(test_data)\n",
    "head(test_data %>% select(domain,probabilities))"
   ]
  },
  {
   "cell_type": "code",
   "execution_count": 33,
   "metadata": {},
   "outputs": [
    {
     "data": {
      "text/html": [
       "<style>\n",
       ".list-inline {list-style: none; margin:0; padding: 0}\n",
       ".list-inline>li {display: inline-block}\n",
       ".list-inline>li:not(:last-child)::after {content: \"\\00b7\"; padding: 0 .5ex}\n",
       "</style>\n",
       "<ol class=list-inline><li>26419</li><li>40</li></ol>\n"
      ],
      "text/latex": [
       "\\begin{enumerate*}\n",
       "\\item 26419\n",
       "\\item 40\n",
       "\\end{enumerate*}\n"
      ],
      "text/markdown": [
       "1. 26419\n",
       "2. 40\n",
       "\n",
       "\n"
      ],
      "text/plain": [
       "[1] 26419    40"
      ]
     },
     "metadata": {},
     "output_type": "display_data"
    },
    {
     "data": {
      "text/html": [
       "<table>\n",
       "<caption>A data.table: 6 × 2</caption>\n",
       "<thead>\n",
       "\t<tr><th scope=col>domain</th><th scope=col>first_renewal_prediction</th></tr>\n",
       "\t<tr><th scope=col>&lt;chr&gt;</th><th scope=col>&lt;dbl&gt;</th></tr>\n",
       "</thead>\n",
       "<tbody>\n",
       "\t<tr><td>kagen.site           </td><td>0.6470992</td></tr>\n",
       "\t<tr><td>designlab.site       </td><td>0.6762222</td></tr>\n",
       "\t<tr><td>hokatu-blog.site     </td><td>0.9098495</td></tr>\n",
       "\t<tr><td>suzuya.site          </td><td>0.6029350</td></tr>\n",
       "\t<tr><td>wins-company.site    </td><td>0.9311321</td></tr>\n",
       "\t<tr><td>yamatoku-company.site</td><td>0.9347869</td></tr>\n",
       "</tbody>\n",
       "</table>\n"
      ],
      "text/latex": [
       "A data.table: 6 × 2\n",
       "\\begin{tabular}{ll}\n",
       " domain & first\\_renewal\\_prediction\\\\\n",
       " <chr> & <dbl>\\\\\n",
       "\\hline\n",
       "\t kagen.site            & 0.6470992\\\\\n",
       "\t designlab.site        & 0.6762222\\\\\n",
       "\t hokatu-blog.site      & 0.9098495\\\\\n",
       "\t suzuya.site           & 0.6029350\\\\\n",
       "\t wins-company.site     & 0.9311321\\\\\n",
       "\t yamatoku-company.site & 0.9347869\\\\\n",
       "\\end{tabular}\n"
      ],
      "text/markdown": [
       "\n",
       "A data.table: 6 × 2\n",
       "\n",
       "| domain &lt;chr&gt; | first_renewal_prediction &lt;dbl&gt; |\n",
       "|---|---|\n",
       "| kagen.site            | 0.6470992 |\n",
       "| designlab.site        | 0.6762222 |\n",
       "| hokatu-blog.site      | 0.9098495 |\n",
       "| suzuya.site           | 0.6029350 |\n",
       "| wins-company.site     | 0.9311321 |\n",
       "| yamatoku-company.site | 0.9347869 |\n",
       "\n"
      ],
      "text/plain": [
       "  domain                first_renewal_prediction\n",
       "1 kagen.site            0.6470992               \n",
       "2 designlab.site        0.6762222               \n",
       "3 hokatu-blog.site      0.9098495               \n",
       "4 suzuya.site           0.6029350               \n",
       "5 wins-company.site     0.9311321               \n",
       "6 yamatoku-company.site 0.9347869               "
      ]
     },
     "metadata": {},
     "output_type": "display_data"
    }
   ],
   "source": [
    "test_data2 <- seg_glm_expiry_exptest %>% filter(tld_registrar_index==tld_reg)\n",
    "dim(test_data2)\n",
    "head(test_data2 %>% select(domain,first_renewal_prediction))"
   ]
  },
  {
   "cell_type": "code",
   "execution_count": 34,
   "metadata": {},
   "outputs": [
    {
     "data": {
      "text/html": [
       "<style>\n",
       ".list-inline {list-style: none; margin:0; padding: 0}\n",
       ".list-inline>li {display: inline-block}\n",
       ".list-inline>li:not(:last-child)::after {content: \"\\00b7\"; padding: 0 .5ex}\n",
       "</style>\n",
       "<ol class=list-inline><li>26419</li><li>3</li></ol>\n"
      ],
      "text/latex": [
       "\\begin{enumerate*}\n",
       "\\item 26419\n",
       "\\item 3\n",
       "\\end{enumerate*}\n"
      ],
      "text/markdown": [
       "1. 26419\n",
       "2. 3\n",
       "\n",
       "\n"
      ],
      "text/plain": [
       "[1] 26419     3"
      ]
     },
     "metadata": {},
     "output_type": "display_data"
    },
    {
     "data": {
      "text/html": [
       "<table>\n",
       "<caption>A data.table: 6 × 3</caption>\n",
       "<thead>\n",
       "\t<tr><th scope=col>domain</th><th scope=col>probabilities</th><th scope=col>first_renewal_prediction</th></tr>\n",
       "\t<tr><th scope=col>&lt;chr&gt;</th><th scope=col>&lt;dbl&gt;</th><th scope=col>&lt;dbl&gt;</th></tr>\n",
       "</thead>\n",
       "<tbody>\n",
       "\t<tr><td>06961.site       </td><td>0.118203693</td><td>0.118203693</td></tr>\n",
       "\t<tr><td>07330.site       </td><td>0.125882262</td><td>0.125882262</td></tr>\n",
       "\t<tr><td>0aqoyumyx.site   </td><td>0.059621932</td><td>0.059621932</td></tr>\n",
       "\t<tr><td>1-lucky-1.site   </td><td>0.013290105</td><td>0.013290105</td></tr>\n",
       "\t<tr><td>1-portal.site    </td><td>0.003022454</td><td>0.003022454</td></tr>\n",
       "\t<tr><td>100millionfx.site</td><td>0.046078524</td><td>0.046078524</td></tr>\n",
       "</tbody>\n",
       "</table>\n"
      ],
      "text/latex": [
       "A data.table: 6 × 3\n",
       "\\begin{tabular}{lll}\n",
       " domain & probabilities & first\\_renewal\\_prediction\\\\\n",
       " <chr> & <dbl> & <dbl>\\\\\n",
       "\\hline\n",
       "\t 06961.site        & 0.118203693 & 0.118203693\\\\\n",
       "\t 07330.site        & 0.125882262 & 0.125882262\\\\\n",
       "\t 0aqoyumyx.site    & 0.059621932 & 0.059621932\\\\\n",
       "\t 1-lucky-1.site    & 0.013290105 & 0.013290105\\\\\n",
       "\t 1-portal.site     & 0.003022454 & 0.003022454\\\\\n",
       "\t 100millionfx.site & 0.046078524 & 0.046078524\\\\\n",
       "\\end{tabular}\n"
      ],
      "text/markdown": [
       "\n",
       "A data.table: 6 × 3\n",
       "\n",
       "| domain &lt;chr&gt; | probabilities &lt;dbl&gt; | first_renewal_prediction &lt;dbl&gt; |\n",
       "|---|---|---|\n",
       "| 06961.site        | 0.118203693 | 0.118203693 |\n",
       "| 07330.site        | 0.125882262 | 0.125882262 |\n",
       "| 0aqoyumyx.site    | 0.059621932 | 0.059621932 |\n",
       "| 1-lucky-1.site    | 0.013290105 | 0.013290105 |\n",
       "| 1-portal.site     | 0.003022454 | 0.003022454 |\n",
       "| 100millionfx.site | 0.046078524 | 0.046078524 |\n",
       "\n"
      ],
      "text/plain": [
       "  domain            probabilities first_renewal_prediction\n",
       "1 06961.site        0.118203693   0.118203693             \n",
       "2 07330.site        0.125882262   0.125882262             \n",
       "3 0aqoyumyx.site    0.059621932   0.059621932             \n",
       "4 1-lucky-1.site    0.013290105   0.013290105             \n",
       "5 1-portal.site     0.003022454   0.003022454             \n",
       "6 100millionfx.site 0.046078524   0.046078524             "
      ]
     },
     "metadata": {},
     "output_type": "display_data"
    }
   ],
   "source": [
    "merged_resulst <- merge((test_data %>% select(domain,probabilities)),\n",
    "                       (test_data2 %>% select(domain,first_renewal_prediction)))\n",
    "\n",
    "dim(merged_resulst)\n",
    "head(merged_resulst)"
   ]
  },
  {
   "cell_type": "code",
   "execution_count": 37,
   "metadata": {},
   "outputs": [
    {
     "data": {
      "text/html": [
       "<table>\n",
       "<caption>A data.table: 0 × 3</caption>\n",
       "<thead>\n",
       "\t<tr><th scope=col>domain</th><th scope=col>probabilities</th><th scope=col>first_renewal_prediction</th></tr>\n",
       "\t<tr><th scope=col>&lt;chr&gt;</th><th scope=col>&lt;dbl&gt;</th><th scope=col>&lt;dbl&gt;</th></tr>\n",
       "</thead>\n",
       "<tbody>\n",
       "</tbody>\n",
       "</table>\n"
      ],
      "text/latex": [
       "A data.table: 0 × 3\n",
       "\\begin{tabular}{lll}\n",
       " domain & probabilities & first\\_renewal\\_prediction\\\\\n",
       " <chr> & <dbl> & <dbl>\\\\\n",
       "\\hline\n",
       "\\end{tabular}\n"
      ],
      "text/markdown": [
       "\n",
       "A data.table: 0 × 3\n",
       "\n",
       "| domain &lt;chr&gt; | probabilities &lt;dbl&gt; | first_renewal_prediction &lt;dbl&gt; |\n",
       "|---|---|---|\n",
       "\n"
      ],
      "text/plain": [
       "     domain probabilities first_renewal_prediction"
      ]
     },
     "metadata": {},
     "output_type": "display_data"
    }
   ],
   "source": [
    "merged_resulst[round(merged_resulst$probabilities,5)!=round(merged_resulst$first_renewal_prediction,5)]"
   ]
  },
  {
   "cell_type": "code",
   "execution_count": null,
   "metadata": {},
   "outputs": [],
   "source": []
  }
 ],
 "metadata": {
  "environment": {
   "name": "r-cpu.3-6.m48",
   "type": "gcloud",
   "uri": "gcr.io/deeplearning-platform-release/r-cpu.3-6:m48"
  },
  "kernelspec": {
   "display_name": "R",
   "language": "R",
   "name": "ir"
  },
  "language_info": {
   "codemirror_mode": "r",
   "file_extension": ".r",
   "mimetype": "text/x-r-source",
   "name": "R",
   "pygments_lexer": "r",
   "version": "3.6.3"
  }
 },
 "nbformat": 4,
 "nbformat_minor": 4
}
