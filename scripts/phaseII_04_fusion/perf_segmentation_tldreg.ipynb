{
 "cells": [
  {
   "cell_type": "markdown",
   "metadata": {},
   "source": [
    "# Comparing Performance\n",
    "## seg_glm & ranger_03 on new data\n",
    "## on a per-registrar basis"
   ]
  },
  {
   "cell_type": "markdown",
   "metadata": {},
   "source": [
    "# Load Data, Models, Predictions & Lifts\n",
    "tr_expiry, pf_expiry \n",
    "\n",
    "|           | train                   | test                   | **PREDS**             | **MODELS**                      | **LIFT_DF**          |\n",
    "|-----------|-------------------------|------------------------|-----------------------|---------------------------------|----------------------|\n",
    "| *seg_glm* | expiry_train_prepped_2_1| expiry_test_prepped_2_1| seg_glm_expiry_exptest| first_renewal_model_expiry_train| lift_df_seg_glm_expiry_exptest   \n",
    "| *rf_500*  | expiry_train_df_sub     | expiry_test_df_sub | ranger_predict_03_expiry| ranger_03_expiry                | lift_df_ranger_03_expiry"
   ]
  },
  {
   "cell_type": "code",
   "execution_count": 1,
   "metadata": {},
   "outputs": [],
   "source": [
    "# preds\n",
    "seg_glm_expiry_exptest <- readRDS(\"/home/jupyter/local/Domains_202003/data/seg_glm_expiry_exptest\")\n",
    "load(\"/home/jupyter/local/Domains_202003/data/ranger_predict_03_expiry\")"
   ]
  },
  {
   "cell_type": "code",
   "execution_count": 151,
   "metadata": {},
   "outputs": [
    {
     "data": {
      "text/html": [
       "<style>\n",
       ".list-inline {list-style: none; margin:0; padding: 0}\n",
       ".list-inline>li {display: inline-block}\n",
       ".list-inline>li:not(:last-child)::after {content: \"\\00b7\"; padding: 0 .5ex}\n",
       "</style>\n",
       "<ol class=list-inline><li>1485047</li><li>24</li></ol>\n"
      ],
      "text/latex": [
       "\\begin{enumerate*}\n",
       "\\item 1485047\n",
       "\\item 24\n",
       "\\end{enumerate*}\n"
      ],
      "text/markdown": [
       "1. 1485047\n",
       "2. 24\n",
       "\n",
       "\n"
      ],
      "text/plain": [
       "[1] 1485047      24"
      ]
     },
     "metadata": {},
     "output_type": "display_data"
    }
   ],
   "source": [
    "dim(expiry_train_df_sub) + dim(expiry_test_df_sub) "
   ]
  },
  {
   "cell_type": "code",
   "execution_count": 2,
   "metadata": {},
   "outputs": [
    {
     "name": "stderr",
     "output_type": "stream",
     "text": [
      "\n",
      "Attaching package: ‘dplyr’\n",
      "\n",
      "\n",
      "The following objects are masked from ‘package:stats’:\n",
      "\n",
      "    filter, lag\n",
      "\n",
      "\n",
      "The following objects are masked from ‘package:base’:\n",
      "\n",
      "    intersect, setdiff, setequal, union\n",
      "\n",
      "\n",
      "\n",
      "Attaching package: ‘data.table’\n",
      "\n",
      "\n",
      "The following objects are masked from ‘package:dplyr’:\n",
      "\n",
      "    between, first, last\n",
      "\n",
      "\n"
     ]
    }
   ],
   "source": [
    "source('functions_eval.R')\n",
    "\n",
    "source('load_prep_data_expiry.R')"
   ]
  },
  {
   "cell_type": "code",
   "execution_count": 3,
   "metadata": {},
   "outputs": [
    {
     "name": "stderr",
     "output_type": "stream",
     "text": [
      "Loading required package: grid\n",
      "\n",
      "Loading required package: libcoin\n",
      "\n",
      "Loading required package: mvtnorm\n",
      "\n",
      "Loading required package: lattice\n",
      "\n",
      "randomForest 4.6-14\n",
      "\n",
      "Type rfNews() to see new features/changes/bug fixes.\n",
      "\n",
      "\n",
      "Attaching package: ‘randomForest’\n",
      "\n",
      "\n",
      "The following object is masked from ‘package:ggplot2’:\n",
      "\n",
      "    margin\n",
      "\n",
      "\n",
      "The following object is masked from ‘package:dplyr’:\n",
      "\n",
      "    combine\n",
      "\n",
      "\n",
      "\n",
      "Attaching package: ‘ranger’\n",
      "\n",
      "\n",
      "The following object is masked from ‘package:randomForest’:\n",
      "\n",
      "    importance\n",
      "\n",
      "\n",
      "\n",
      "Attaching package: ‘plotly’\n",
      "\n",
      "\n",
      "The following object is masked from ‘package:ggplot2’:\n",
      "\n",
      "    last_plot\n",
      "\n",
      "\n",
      "The following object is masked from ‘package:stats’:\n",
      "\n",
      "    filter\n",
      "\n",
      "\n",
      "The following object is masked from ‘package:graphics’:\n",
      "\n",
      "    layout\n",
      "\n",
      "\n"
     ]
    },
    {
     "data": {
      "text/html": [
       "'/home/jupyter/local/Domains_202003/scripts/phaseII_gcloudaccess'"
      ],
      "text/latex": [
       "'/home/jupyter/local/Domains\\_202003/scripts/phaseII\\_gcloudaccess'"
      ],
      "text/markdown": [
       "'/home/jupyter/local/Domains_202003/scripts/phaseII_gcloudaccess'"
      ],
      "text/plain": [
       "[1] \"/home/jupyter/local/Domains_202003/scripts/phaseII_gcloudaccess\""
      ]
     },
     "metadata": {},
     "output_type": "display_data"
    }
   ],
   "source": [
    "library(dplyr)\n",
    "library(data.table)\n",
    "library(partykit)\n",
    "library(tictoc)\n",
    "library(caret)\n",
    "library(e1071)\n",
    "library(randomForest)\n",
    "library(ranger)\n",
    "\n",
    "#for 3d plotting\n",
    "library(akima)\n",
    "library(plotly)\n",
    "\n",
    "# for prep data\n",
    "library(stringr)\n",
    "library(pbapply)\n",
    "library(stringdist)\n",
    "library(data.table)\n",
    "\n",
    "# for metrics\n",
    "library(ROCR)\n",
    "\n",
    "getwd()"
   ]
  },
  {
   "cell_type": "code",
   "execution_count": 4,
   "metadata": {},
   "outputs": [
    {
     "data": {
      "text/html": [
       "<style>\n",
       ".list-inline {list-style: none; margin:0; padding: 0}\n",
       ".list-inline>li {display: inline-block}\n",
       ".list-inline>li:not(:last-child)::after {content: \"\\00b7\"; padding: 0 .5ex}\n",
       "</style>\n",
       "<ol class=list-inline><li>'calc_auc'</li><li>'chart_lift'</li><li>'expiry_test_df_1'</li><li>'expiry_test_df_sub'</li><li>'expiry_test_prepped_2'</li><li>'expiry_test_prepped_2_1'</li><li>'expiry_train_df_1'</li><li>'expiry_train_df_sub'</li><li>'expiry_train_prepped_2'</li><li>'expiry_train_prepped_2_1'</li><li>'plot_gains'</li><li>'plot_multigains'</li><li>'ranger_predict_03_expiry'</li><li>'seg_glm_expiry_exptest'</li></ol>\n"
      ],
      "text/latex": [
       "\\begin{enumerate*}\n",
       "\\item 'calc\\_auc'\n",
       "\\item 'chart\\_lift'\n",
       "\\item 'expiry\\_test\\_df\\_1'\n",
       "\\item 'expiry\\_test\\_df\\_sub'\n",
       "\\item 'expiry\\_test\\_prepped\\_2'\n",
       "\\item 'expiry\\_test\\_prepped\\_2\\_1'\n",
       "\\item 'expiry\\_train\\_df\\_1'\n",
       "\\item 'expiry\\_train\\_df\\_sub'\n",
       "\\item 'expiry\\_train\\_prepped\\_2'\n",
       "\\item 'expiry\\_train\\_prepped\\_2\\_1'\n",
       "\\item 'plot\\_gains'\n",
       "\\item 'plot\\_multigains'\n",
       "\\item 'ranger\\_predict\\_03\\_expiry'\n",
       "\\item 'seg\\_glm\\_expiry\\_exptest'\n",
       "\\end{enumerate*}\n"
      ],
      "text/markdown": [
       "1. 'calc_auc'\n",
       "2. 'chart_lift'\n",
       "3. 'expiry_test_df_1'\n",
       "4. 'expiry_test_df_sub'\n",
       "5. 'expiry_test_prepped_2'\n",
       "6. 'expiry_test_prepped_2_1'\n",
       "7. 'expiry_train_df_1'\n",
       "8. 'expiry_train_df_sub'\n",
       "9. 'expiry_train_prepped_2'\n",
       "10. 'expiry_train_prepped_2_1'\n",
       "11. 'plot_gains'\n",
       "12. 'plot_multigains'\n",
       "13. 'ranger_predict_03_expiry'\n",
       "14. 'seg_glm_expiry_exptest'\n",
       "\n",
       "\n"
      ],
      "text/plain": [
       " [1] \"calc_auc\"                 \"chart_lift\"              \n",
       " [3] \"expiry_test_df_1\"         \"expiry_test_df_sub\"      \n",
       " [5] \"expiry_test_prepped_2\"    \"expiry_test_prepped_2_1\" \n",
       " [7] \"expiry_train_df_1\"        \"expiry_train_df_sub\"     \n",
       " [9] \"expiry_train_prepped_2\"   \"expiry_train_prepped_2_1\"\n",
       "[11] \"plot_gains\"               \"plot_multigains\"         \n",
       "[13] \"ranger_predict_03_expiry\" \"seg_glm_expiry_exptest\"  "
      ]
     },
     "metadata": {},
     "output_type": "display_data"
    }
   ],
   "source": [
    "ls()"
   ]
  },
  {
   "cell_type": "code",
   "execution_count": 5,
   "metadata": {},
   "outputs": [],
   "source": [
    "options(repr.matrix.max.cols=50, repr.matrix.max.rows=100)"
   ]
  },
  {
   "cell_type": "markdown",
   "metadata": {},
   "source": [
    "# seg_glm"
   ]
  },
  {
   "cell_type": "code",
   "execution_count": 6,
   "metadata": {},
   "outputs": [
    {
     "data": {
      "text/html": [
       "<table>\n",
       "<caption>A data.table: 6 × 40</caption>\n",
       "<thead>\n",
       "\t<tr><th scope=col>renewal_type</th><th scope=col>renewed_count</th><th scope=col>expiry_date</th><th scope=col>domain_id</th><th scope=col>domain</th><th scope=col>creation_date</th><th scope=col>status</th><th scope=col>tld</th><th scope=col>registrar</th><th scope=col>reseller</th><th scope=col>reseller_country</th><th scope=col>region</th><th scope=col>reg_period</th><th scope=col>registrant_country</th><th scope=col>renewal_status</th><th scope=col>renew_mbg</th><th scope=col>renew_type</th><th scope=col>autorenew_type</th><th scope=col>renew_date</th><th scope=col>renew_registrar</th><th scope=col>renew_reseller</th><th scope=col>reg_revenue</th><th scope=col>reg_arpt</th><th scope=col>renew_period</th><th scope=col>renew_domain_revenue</th><th scope=col>renew_arpt</th><th scope=col>reg_arpt_org</th><th scope=col>tld_registrar_index</th><th scope=col>sld</th><th scope=col>sld_type</th><th scope=col>sld_length</th><th scope=col>sld_type2</th><th scope=col>day_domains</th><th scope=col>log_reg_arpt</th><th scope=col>gibb_score</th><th scope=col>pattern</th><th scope=col>cluster</th><th scope=col>pattern_score</th><th scope=col>pattern_domain_count</th><th scope=col>first_renewal_prediction</th></tr>\n",
       "\t<tr><th scope=col>&lt;chr&gt;</th><th scope=col>&lt;int&gt;</th><th scope=col>&lt;date&gt;</th><th scope=col>&lt;int&gt;</th><th scope=col>&lt;chr&gt;</th><th scope=col>&lt;date&gt;</th><th scope=col>&lt;chr&gt;</th><th scope=col>&lt;fct&gt;</th><th scope=col>&lt;chr&gt;</th><th scope=col>&lt;chr&gt;</th><th scope=col>&lt;chr&gt;</th><th scope=col>&lt;chr&gt;</th><th scope=col>&lt;int&gt;</th><th scope=col>&lt;chr&gt;</th><th scope=col>&lt;fct&gt;</th><th scope=col>&lt;int&gt;</th><th scope=col>&lt;chr&gt;</th><th scope=col>&lt;chr&gt;</th><th scope=col>&lt;date&gt;</th><th scope=col>&lt;chr&gt;</th><th scope=col>&lt;chr&gt;</th><th scope=col>&lt;dbl&gt;</th><th scope=col>&lt;dbl&gt;</th><th scope=col>&lt;int&gt;</th><th scope=col>&lt;dbl&gt;</th><th scope=col>&lt;dbl&gt;</th><th scope=col>&lt;dbl&gt;</th><th scope=col>&lt;chr&gt;</th><th scope=col>&lt;chr&gt;</th><th scope=col>&lt;fct&gt;</th><th scope=col>&lt;int&gt;</th><th scope=col>&lt;chr&gt;</th><th scope=col>&lt;int&gt;</th><th scope=col>&lt;dbl&gt;</th><th scope=col>&lt;dbl&gt;</th><th scope=col>&lt;chr&gt;</th><th scope=col>&lt;chr&gt;</th><th scope=col>&lt;dbl&gt;</th><th scope=col>&lt;int&gt;</th><th scope=col>&lt;dbl&gt;</th></tr>\n",
       "</thead>\n",
       "<tbody>\n",
       "\t<tr><td>FirstTime</td><td>1</td><td>2020-01-22</td><td> 91639803</td><td><span style=white-space:pre-wrap>segeln.fun   </span></td><td>2019-01-22</td><td>Active</td><td>fun</td><td><span style=white-space:pre-wrap>1&amp;1 internet    </span></td><td><span style=white-space:pre-wrap>1&amp;1 internet    </span></td><td>Germany</td><td>Non China</td><td>1</td><td>NA</td><td><span style=white-space:pre-wrap>Renewed   </span></td><td>0</td><td>auto-renewal</td><td><span style=white-space:pre-wrap>realized  </span></td><td>2020-01-22</td><td><span style=white-space:pre-wrap>1&amp;1 Internet    </span></td><td><span style=white-space:pre-wrap>1&amp;1 Internet    </span></td><td>15</td><td>15</td><td>1</td><td>15</td><td>15</td><td>15</td><td><span style=white-space:pre-wrap>fun1&amp;1 internet    </span></td><td><span style=white-space:pre-wrap>segeln   </span></td><td>l</td><td>6</td><td>6l</td><td>1</td><td>2.708050</td><td>2.23</td><td><span style=white-space:pre-wrap>segeln   </span></td><td>1</td><td>1</td><td>1</td><td>0.8459141</td></tr>\n",
       "\t<tr><td>FirstTime</td><td>1</td><td>2020-03-07</td><td> 95819759</td><td>harzhotel.fun</td><td>2019-03-07</td><td>Active</td><td>fun</td><td><span style=white-space:pre-wrap>1&amp;1 internet    </span></td><td><span style=white-space:pre-wrap>1&amp;1 internet    </span></td><td>Germany</td><td>Non China</td><td>1</td><td>NA</td><td><span style=white-space:pre-wrap>Renewed   </span></td><td>0</td><td>auto-renewal</td><td><span style=white-space:pre-wrap>realized  </span></td><td>2020-03-07</td><td><span style=white-space:pre-wrap>1&amp;1 Internet    </span></td><td><span style=white-space:pre-wrap>1&amp;1 Internet    </span></td><td>15</td><td>15</td><td>1</td><td>15</td><td>15</td><td>15</td><td><span style=white-space:pre-wrap>fun1&amp;1 internet    </span></td><td>harzhotel</td><td>l</td><td>9</td><td>9l</td><td>1</td><td>2.708050</td><td>3.45</td><td>harzhotel</td><td>1</td><td>1</td><td>1</td><td>0.4607455</td></tr>\n",
       "\t<tr><td>FirstTime</td><td>1</td><td>2020-01-15</td><td> 91044973</td><td>movistar.fun </td><td>2019-01-15</td><td>Active</td><td>fun</td><td>10dencehispahard</td><td>10dencehispahard</td><td>Spain  </td><td>Non China</td><td>1</td><td>NA</td><td>Not Renewd</td><td>0</td><td>auto-renewal</td><td>unrealized</td><td>2020-01-15</td><td>10dencehispahard</td><td>10dencehispahard</td><td>15</td><td>15</td><td>1</td><td>15</td><td>15</td><td>15</td><td>fun10dencehispahard</td><td>movistar </td><td>l</td><td>8</td><td>8l</td><td>1</td><td>2.708050</td><td>8.62</td><td>movistar </td><td>1</td><td>1</td><td>1</td><td>       NA</td></tr>\n",
       "\t<tr><td>FirstTime</td><td>1</td><td>2020-02-01</td><td> 92472913</td><td>kuinik.fun   </td><td>2019-02-01</td><td>Active</td><td>fun</td><td>10dencehispahard</td><td>10dencehispahard</td><td>Spain  </td><td>Non China</td><td>1</td><td>NA</td><td>Not Renewd</td><td>0</td><td>auto-renewal</td><td>unrealized</td><td>2020-02-01</td><td>10dencehispahard</td><td>10dencehispahard</td><td>15</td><td>15</td><td>1</td><td>15</td><td>15</td><td>15</td><td>fun10dencehispahard</td><td>kuinik   </td><td>l</td><td>6</td><td>6l</td><td>1</td><td>2.708050</td><td>3.13</td><td>kuinik   </td><td>1</td><td>1</td><td>1</td><td>       NA</td></tr>\n",
       "\t<tr><td>FirstTime</td><td>1</td><td>2020-01-21</td><td> 91532433</td><td>bulgari.fun  </td><td>2019-01-21</td><td>Active</td><td>fun</td><td>1api            </td><td>1api            </td><td>Germany</td><td>Non China</td><td>1</td><td>NA</td><td>Renewed   </td><td>0</td><td>auto-renewal</td><td>realized  </td><td>2020-01-21</td><td>1API            </td><td>1API            </td><td> 5</td><td> 5</td><td>1</td><td>15</td><td>15</td><td> 5</td><td>fun1api            </td><td>bulgari  </td><td>l</td><td>7</td><td>7l</td><td>1</td><td>1.609438</td><td>4.51</td><td>bulgari  </td><td>1</td><td>1</td><td>1</td><td>0.9999971</td></tr>\n",
       "\t<tr><td>FirstTime</td><td>1</td><td>2020-04-24</td><td>101717674</td><td>gotsome.fun  </td><td>2019-04-24</td><td>Active</td><td>fun</td><td>1api            </td><td>1api            </td><td>Germany</td><td>Non China</td><td>1</td><td>NA</td><td>Not Renewd</td><td>0</td><td>auto-renewal</td><td>unrealized</td><td>2020-04-24</td><td>1API            </td><td>1API            </td><td> 5</td><td> 5</td><td>1</td><td>15</td><td>15</td><td> 5</td><td>fun1api            </td><td>gotsome  </td><td>l</td><td>7</td><td>7l</td><td>1</td><td>1.609438</td><td>6.09</td><td>gotsome  </td><td>1</td><td>1</td><td>1</td><td>0.9999992</td></tr>\n",
       "</tbody>\n",
       "</table>\n"
      ],
      "text/latex": [
       "A data.table: 6 × 40\n",
       "\\begin{tabular}{llllllllllllllllllllllllllllllllllllllll}\n",
       " renewal\\_type & renewed\\_count & expiry\\_date & domain\\_id & domain & creation\\_date & status & tld & registrar & reseller & reseller\\_country & region & reg\\_period & registrant\\_country & renewal\\_status & renew\\_mbg & renew\\_type & autorenew\\_type & renew\\_date & renew\\_registrar & renew\\_reseller & reg\\_revenue & reg\\_arpt & renew\\_period & renew\\_domain\\_revenue & renew\\_arpt & reg\\_arpt\\_org & tld\\_registrar\\_index & sld & sld\\_type & sld\\_length & sld\\_type2 & day\\_domains & log\\_reg\\_arpt & gibb\\_score & pattern & cluster & pattern\\_score & pattern\\_domain\\_count & first\\_renewal\\_prediction\\\\\n",
       " <chr> & <int> & <date> & <int> & <chr> & <date> & <chr> & <fct> & <chr> & <chr> & <chr> & <chr> & <int> & <chr> & <fct> & <int> & <chr> & <chr> & <date> & <chr> & <chr> & <dbl> & <dbl> & <int> & <dbl> & <dbl> & <dbl> & <chr> & <chr> & <fct> & <int> & <chr> & <int> & <dbl> & <dbl> & <chr> & <chr> & <dbl> & <int> & <dbl>\\\\\n",
       "\\hline\n",
       "\t FirstTime & 1 & 2020-01-22 &  91639803 & segeln.fun    & 2019-01-22 & Active & fun & 1\\&1 internet     & 1\\&1 internet     & Germany & Non China & 1 & NA & Renewed    & 0 & auto-renewal & realized   & 2020-01-22 & 1\\&1 Internet     & 1\\&1 Internet     & 15 & 15 & 1 & 15 & 15 & 15 & fun1\\&1 internet     & segeln    & l & 6 & 6l & 1 & 2.708050 & 2.23 & segeln    & 1 & 1 & 1 & 0.8459141\\\\\n",
       "\t FirstTime & 1 & 2020-03-07 &  95819759 & harzhotel.fun & 2019-03-07 & Active & fun & 1\\&1 internet     & 1\\&1 internet     & Germany & Non China & 1 & NA & Renewed    & 0 & auto-renewal & realized   & 2020-03-07 & 1\\&1 Internet     & 1\\&1 Internet     & 15 & 15 & 1 & 15 & 15 & 15 & fun1\\&1 internet     & harzhotel & l & 9 & 9l & 1 & 2.708050 & 3.45 & harzhotel & 1 & 1 & 1 & 0.4607455\\\\\n",
       "\t FirstTime & 1 & 2020-01-15 &  91044973 & movistar.fun  & 2019-01-15 & Active & fun & 10dencehispahard & 10dencehispahard & Spain   & Non China & 1 & NA & Not Renewd & 0 & auto-renewal & unrealized & 2020-01-15 & 10dencehispahard & 10dencehispahard & 15 & 15 & 1 & 15 & 15 & 15 & fun10dencehispahard & movistar  & l & 8 & 8l & 1 & 2.708050 & 8.62 & movistar  & 1 & 1 & 1 &        NA\\\\\n",
       "\t FirstTime & 1 & 2020-02-01 &  92472913 & kuinik.fun    & 2019-02-01 & Active & fun & 10dencehispahard & 10dencehispahard & Spain   & Non China & 1 & NA & Not Renewd & 0 & auto-renewal & unrealized & 2020-02-01 & 10dencehispahard & 10dencehispahard & 15 & 15 & 1 & 15 & 15 & 15 & fun10dencehispahard & kuinik    & l & 6 & 6l & 1 & 2.708050 & 3.13 & kuinik    & 1 & 1 & 1 &        NA\\\\\n",
       "\t FirstTime & 1 & 2020-01-21 &  91532433 & bulgari.fun   & 2019-01-21 & Active & fun & 1api             & 1api             & Germany & Non China & 1 & NA & Renewed    & 0 & auto-renewal & realized   & 2020-01-21 & 1API             & 1API             &  5 &  5 & 1 & 15 & 15 &  5 & fun1api             & bulgari   & l & 7 & 7l & 1 & 1.609438 & 4.51 & bulgari   & 1 & 1 & 1 & 0.9999971\\\\\n",
       "\t FirstTime & 1 & 2020-04-24 & 101717674 & gotsome.fun   & 2019-04-24 & Active & fun & 1api             & 1api             & Germany & Non China & 1 & NA & Not Renewd & 0 & auto-renewal & unrealized & 2020-04-24 & 1API             & 1API             &  5 &  5 & 1 & 15 & 15 &  5 & fun1api             & gotsome   & l & 7 & 7l & 1 & 1.609438 & 6.09 & gotsome   & 1 & 1 & 1 & 0.9999992\\\\\n",
       "\\end{tabular}\n"
      ],
      "text/markdown": [
       "\n",
       "A data.table: 6 × 40\n",
       "\n",
       "| renewal_type &lt;chr&gt; | renewed_count &lt;int&gt; | expiry_date &lt;date&gt; | domain_id &lt;int&gt; | domain &lt;chr&gt; | creation_date &lt;date&gt; | status &lt;chr&gt; | tld &lt;fct&gt; | registrar &lt;chr&gt; | reseller &lt;chr&gt; | reseller_country &lt;chr&gt; | region &lt;chr&gt; | reg_period &lt;int&gt; | registrant_country &lt;chr&gt; | renewal_status &lt;fct&gt; | renew_mbg &lt;int&gt; | renew_type &lt;chr&gt; | autorenew_type &lt;chr&gt; | renew_date &lt;date&gt; | renew_registrar &lt;chr&gt; | renew_reseller &lt;chr&gt; | reg_revenue &lt;dbl&gt; | reg_arpt &lt;dbl&gt; | renew_period &lt;int&gt; | renew_domain_revenue &lt;dbl&gt; | renew_arpt &lt;dbl&gt; | reg_arpt_org &lt;dbl&gt; | tld_registrar_index &lt;chr&gt; | sld &lt;chr&gt; | sld_type &lt;fct&gt; | sld_length &lt;int&gt; | sld_type2 &lt;chr&gt; | day_domains &lt;int&gt; | log_reg_arpt &lt;dbl&gt; | gibb_score &lt;dbl&gt; | pattern &lt;chr&gt; | cluster &lt;chr&gt; | pattern_score &lt;dbl&gt; | pattern_domain_count &lt;int&gt; | first_renewal_prediction &lt;dbl&gt; |\n",
       "|---|---|---|---|---|---|---|---|---|---|---|---|---|---|---|---|---|---|---|---|---|---|---|---|---|---|---|---|---|---|---|---|---|---|---|---|---|---|---|---|\n",
       "| FirstTime | 1 | 2020-01-22 |  91639803 | segeln.fun    | 2019-01-22 | Active | fun | 1&amp;1 internet     | 1&amp;1 internet     | Germany | Non China | 1 | NA | Renewed    | 0 | auto-renewal | realized   | 2020-01-22 | 1&amp;1 Internet     | 1&amp;1 Internet     | 15 | 15 | 1 | 15 | 15 | 15 | fun1&amp;1 internet     | segeln    | l | 6 | 6l | 1 | 2.708050 | 2.23 | segeln    | 1 | 1 | 1 | 0.8459141 |\n",
       "| FirstTime | 1 | 2020-03-07 |  95819759 | harzhotel.fun | 2019-03-07 | Active | fun | 1&amp;1 internet     | 1&amp;1 internet     | Germany | Non China | 1 | NA | Renewed    | 0 | auto-renewal | realized   | 2020-03-07 | 1&amp;1 Internet     | 1&amp;1 Internet     | 15 | 15 | 1 | 15 | 15 | 15 | fun1&amp;1 internet     | harzhotel | l | 9 | 9l | 1 | 2.708050 | 3.45 | harzhotel | 1 | 1 | 1 | 0.4607455 |\n",
       "| FirstTime | 1 | 2020-01-15 |  91044973 | movistar.fun  | 2019-01-15 | Active | fun | 10dencehispahard | 10dencehispahard | Spain   | Non China | 1 | NA | Not Renewd | 0 | auto-renewal | unrealized | 2020-01-15 | 10dencehispahard | 10dencehispahard | 15 | 15 | 1 | 15 | 15 | 15 | fun10dencehispahard | movistar  | l | 8 | 8l | 1 | 2.708050 | 8.62 | movistar  | 1 | 1 | 1 |        NA |\n",
       "| FirstTime | 1 | 2020-02-01 |  92472913 | kuinik.fun    | 2019-02-01 | Active | fun | 10dencehispahard | 10dencehispahard | Spain   | Non China | 1 | NA | Not Renewd | 0 | auto-renewal | unrealized | 2020-02-01 | 10dencehispahard | 10dencehispahard | 15 | 15 | 1 | 15 | 15 | 15 | fun10dencehispahard | kuinik    | l | 6 | 6l | 1 | 2.708050 | 3.13 | kuinik    | 1 | 1 | 1 |        NA |\n",
       "| FirstTime | 1 | 2020-01-21 |  91532433 | bulgari.fun   | 2019-01-21 | Active | fun | 1api             | 1api             | Germany | Non China | 1 | NA | Renewed    | 0 | auto-renewal | realized   | 2020-01-21 | 1API             | 1API             |  5 |  5 | 1 | 15 | 15 |  5 | fun1api             | bulgari   | l | 7 | 7l | 1 | 1.609438 | 4.51 | bulgari   | 1 | 1 | 1 | 0.9999971 |\n",
       "| FirstTime | 1 | 2020-04-24 | 101717674 | gotsome.fun   | 2019-04-24 | Active | fun | 1api             | 1api             | Germany | Non China | 1 | NA | Not Renewd | 0 | auto-renewal | unrealized | 2020-04-24 | 1API             | 1API             |  5 |  5 | 1 | 15 | 15 |  5 | fun1api             | gotsome   | l | 7 | 7l | 1 | 1.609438 | 6.09 | gotsome   | 1 | 1 | 1 | 0.9999992 |\n",
       "\n"
      ],
      "text/plain": [
       "  renewal_type renewed_count expiry_date domain_id domain        creation_date\n",
       "1 FirstTime    1             2020-01-22   91639803 segeln.fun    2019-01-22   \n",
       "2 FirstTime    1             2020-03-07   95819759 harzhotel.fun 2019-03-07   \n",
       "3 FirstTime    1             2020-01-15   91044973 movistar.fun  2019-01-15   \n",
       "4 FirstTime    1             2020-02-01   92472913 kuinik.fun    2019-02-01   \n",
       "5 FirstTime    1             2020-01-21   91532433 bulgari.fun   2019-01-21   \n",
       "6 FirstTime    1             2020-04-24  101717674 gotsome.fun   2019-04-24   \n",
       "  status tld registrar        reseller         reseller_country region   \n",
       "1 Active fun 1&1 internet     1&1 internet     Germany          Non China\n",
       "2 Active fun 1&1 internet     1&1 internet     Germany          Non China\n",
       "3 Active fun 10dencehispahard 10dencehispahard Spain            Non China\n",
       "4 Active fun 10dencehispahard 10dencehispahard Spain            Non China\n",
       "5 Active fun 1api             1api             Germany          Non China\n",
       "6 Active fun 1api             1api             Germany          Non China\n",
       "  reg_period registrant_country renewal_status renew_mbg renew_type  \n",
       "1 1          NA                 Renewed        0         auto-renewal\n",
       "2 1          NA                 Renewed        0         auto-renewal\n",
       "3 1          NA                 Not Renewd     0         auto-renewal\n",
       "4 1          NA                 Not Renewd     0         auto-renewal\n",
       "5 1          NA                 Renewed        0         auto-renewal\n",
       "6 1          NA                 Not Renewd     0         auto-renewal\n",
       "  autorenew_type renew_date renew_registrar  renew_reseller   reg_revenue\n",
       "1 realized       2020-01-22 1&1 Internet     1&1 Internet     15         \n",
       "2 realized       2020-03-07 1&1 Internet     1&1 Internet     15         \n",
       "3 unrealized     2020-01-15 10dencehispahard 10dencehispahard 15         \n",
       "4 unrealized     2020-02-01 10dencehispahard 10dencehispahard 15         \n",
       "5 realized       2020-01-21 1API             1API              5         \n",
       "6 unrealized     2020-04-24 1API             1API              5         \n",
       "  reg_arpt renew_period renew_domain_revenue renew_arpt reg_arpt_org\n",
       "1 15       1            15                   15         15          \n",
       "2 15       1            15                   15         15          \n",
       "3 15       1            15                   15         15          \n",
       "4 15       1            15                   15         15          \n",
       "5  5       1            15                   15          5          \n",
       "6  5       1            15                   15          5          \n",
       "  tld_registrar_index sld       sld_type sld_length sld_type2 day_domains\n",
       "1 fun1&1 internet     segeln    l        6          6l        1          \n",
       "2 fun1&1 internet     harzhotel l        9          9l        1          \n",
       "3 fun10dencehispahard movistar  l        8          8l        1          \n",
       "4 fun10dencehispahard kuinik    l        6          6l        1          \n",
       "5 fun1api             bulgari   l        7          7l        1          \n",
       "6 fun1api             gotsome   l        7          7l        1          \n",
       "  log_reg_arpt gibb_score pattern   cluster pattern_score pattern_domain_count\n",
       "1 2.708050     2.23       segeln    1       1             1                   \n",
       "2 2.708050     3.45       harzhotel 1       1             1                   \n",
       "3 2.708050     8.62       movistar  1       1             1                   \n",
       "4 2.708050     3.13       kuinik    1       1             1                   \n",
       "5 1.609438     4.51       bulgari   1       1             1                   \n",
       "6 1.609438     6.09       gotsome   1       1             1                   \n",
       "  first_renewal_prediction\n",
       "1 0.8459141               \n",
       "2 0.4607455               \n",
       "3        NA               \n",
       "4        NA               \n",
       "5 0.9999971               \n",
       "6 0.9999992               "
      ]
     },
     "metadata": {},
     "output_type": "display_data"
    }
   ],
   "source": [
    "# examine results\n",
    "head(seg_glm_expiry_exptest)"
   ]
  },
  {
   "cell_type": "code",
   "execution_count": 8,
   "metadata": {},
   "outputs": [
    {
     "data": {
      "text/plain": [
       "\n",
       "FirstTime \n",
       "   296797 "
      ]
     },
     "metadata": {},
     "output_type": "display_data"
    }
   ],
   "source": [
    "table(seg_glm_expiry_exptest$renewal_type)"
   ]
  },
  {
   "cell_type": "code",
   "execution_count": 147,
   "metadata": {},
   "outputs": [],
   "source": [
    "top_tld_reg <- seg_glm_expiry_exptest %>% group_by(tld_registrar_index) %>% count() %>% arrange(desc(n)) %>% head(50) %>% select(n)\n",
    "sum(top_tld_reg$n)\n",
    "\n",
    "sum(top_tld_reg$n)/nrow(seg_glm_expiry_exptest)\n",
    "\n",
    "tld_registrars = top_tld_reg$tld_registrar_index\n",
    "tld_registrars"
   ]
  },
  {
   "cell_type": "code",
   "execution_count": 109,
   "metadata": {},
   "outputs": [],
   "source": [
    "iterations = length(tld_registrars)\n",
    "variables = 14\n",
    "\n",
    "output <- matrix(ncol=variables, nrow=iterations)\n",
    "\n",
    "for(i in 1:iterations){\n",
    "    tld_registrar = tld_registrars[i]\n",
    "    temp = subset(seg_glm_expiry_exptest, tld_registrar_index==tld_registrar)\n",
    "    obs_count = dim(temp)[1]\n",
    "    na_count = sum(is.na(temp$first_renewal_prediction)) # na_count\n",
    "    \n",
    "    if (obs_count>na_count) {\n",
    "        temp = temp[!is.na(temp$first_renewal_prediction)] \n",
    "        temp$Y = factor(as.numeric(temp$renewal_status == \"Renewed\"), levels=c(0,1))\n",
    "        temp$pred = as.numeric(temp$first_renewal_prediction>0.5)\n",
    "        \n",
    "        TP = sum((temp$pred==1) & (temp$Y==1))\n",
    "        TN = sum((temp$pred==0) & (temp$Y==0))\n",
    "        P = sum((temp$Y==1))\n",
    "        N = sum((temp$Y==0))\n",
    "        \n",
    "\n",
    "        pred_obj = prediction(temp$first_renewal_prediction, temp$Y)\n",
    "\n",
    "        perf = performance(pred_obj,'acc')\n",
    "        acc_0.5 = performance(pred_obj,'acc')@y.values[[1]][max(which(performance(pred_obj,'acc')@x.values[[1]] >= 0.5))] # acc_0.5\n",
    "\n",
    "        perf = performance(pred_obj,\"tpr\")\n",
    "        tpr_0.5 = perf@y.values[[1]][max(which(perf@x.values[[1]] >= 0.5))] # tpr_0.5 \n",
    "\n",
    "        perf = performance(pred_obj,\"tnr\")\n",
    "        tnr_0.5 = perf@y.values[[1]][max(which(perf@x.values[[1]] >= 0.5))] # tnr_0.5 \n",
    "\n",
    "        perf = performance(pred_obj,\"fpr\")\n",
    "        fpr_0.5 = perf@y.values[[1]][max(which(perf@x.values[[1]] >= 0.5))] # fpr_0.5 \n",
    "\n",
    "        perf = performance(pred_obj,\"fnr\")\n",
    "        fnr_0.5 = perf@y.values[[1]][max(which(perf@x.values[[1]] >= 0.5))] # fnr_0.5 \n",
    "\n",
    "        auc = NA\n",
    "        aucpr = NA\n",
    "        tryCatch(\n",
    "        {auc = performance(pred_obj,\"auc\")@y.values[[1]]\n",
    "        aucpr = performance(pred_obj,\"aucpr\")@y.values[[1]]},\n",
    "    error = function(e){\n",
    "        # (Optional)\n",
    "        # Do this at the end before quitting the tryCatch structure...\n",
    "    })\n",
    "        \n",
    "        output[i,] <- c(tld_registrar, obs_count, na_count, TP, TN, P, N, acc_0.5, tpr_0.5, tnr_0.5, fpr_0.5, fnr_0.5, auc, aucpr )\n",
    "    } else {\n",
    "        output[i,] <- c(tld_registrar, obs_count, na_count, rep (NA,11))\n",
    "    } \n",
    "}"
   ]
  },
  {
   "cell_type": "code",
   "execution_count": 110,
   "metadata": {},
   "outputs": [
    {
     "data": {
      "text/html": [
       "<style>\n",
       ".list-inline {list-style: none; margin:0; padding: 0}\n",
       ".list-inline>li {display: inline-block}\n",
       ".list-inline>li:not(:last-child)::after {content: \"\\00b7\"; padding: 0 .5ex}\n",
       "</style>\n",
       "<ol class=list-inline><li>15</li><li>14</li></ol>\n"
      ],
      "text/latex": [
       "\\begin{enumerate*}\n",
       "\\item 15\n",
       "\\item 14\n",
       "\\end{enumerate*}\n"
      ],
      "text/markdown": [
       "1. 15\n",
       "2. 14\n",
       "\n",
       "\n"
      ],
      "text/plain": [
       "[1] 15 14"
      ]
     },
     "metadata": {},
     "output_type": "display_data"
    },
    {
     "data": {
      "text/html": [
       "<table>\n",
       "<caption>A data.frame: 15 × 14</caption>\n",
       "<thead>\n",
       "\t<tr><th></th><th scope=col>tld_reg</th><th scope=col>obs_count</th><th scope=col>na_count</th><th scope=col>TP</th><th scope=col>TN</th><th scope=col>P</th><th scope=col>N</th><th scope=col>acc_0.5</th><th scope=col>tpr_0.5</th><th scope=col>tnr_0.5</th><th scope=col>fpr_0.5</th><th scope=col>fnr_0.5</th><th scope=col>auc</th><th scope=col>aucpr</th></tr>\n",
       "\t<tr><th></th><th scope=col>&lt;fct&gt;</th><th scope=col>&lt;fct&gt;</th><th scope=col>&lt;fct&gt;</th><th scope=col>&lt;fct&gt;</th><th scope=col>&lt;fct&gt;</th><th scope=col>&lt;fct&gt;</th><th scope=col>&lt;fct&gt;</th><th scope=col>&lt;fct&gt;</th><th scope=col>&lt;fct&gt;</th><th scope=col>&lt;fct&gt;</th><th scope=col>&lt;fct&gt;</th><th scope=col>&lt;fct&gt;</th><th scope=col>&lt;fct&gt;</th><th scope=col>&lt;fct&gt;</th></tr>\n",
       "</thead>\n",
       "<tbody>\n",
       "\t<tr><th scope=row>1</th><td>sitegmo                      </td><td>26419</td><td>0</td><td>10 </td><td>25739</td><td>646 </td><td>25773</td><td>0.974639464022105</td><td>0.0154798761609907 </td><td>0.998680789974004</td><td>0.0013192100259962  </td><td>0.984520123839009</td><td>0.919756515536533</td><td>0.256579851350292 </td></tr>\n",
       "\t<tr><th scope=row>2</th><td>funalibaba                   </td><td>18208</td><td>0</td><td>1  </td><td>17993</td><td>215 </td><td>17993</td><td>0.988246924428822</td><td>0.00465116279069767</td><td>1                </td><td>0                   </td><td>0.995348837209302</td><td>0.839255059138015</td><td>0.0759749781436754</td></tr>\n",
       "\t<tr><th scope=row>3</th><td>sitenamecheap                </td><td>13362</td><td>0</td><td>0  </td><td>12803</td><td>557 </td><td>12805</td><td>0.95816494536746 </td><td>0                  </td><td>0.999843811011324</td><td>0.000156188988676298</td><td>1                </td><td>0.698464258449285</td><td>0.0907543770656836</td></tr>\n",
       "\t<tr><th scope=row>4</th><td>pwnamecheap                  </td><td>12631</td><td>0</td><td>2  </td><td>12377</td><td>253 </td><td>12378</td><td>0.980049085583089</td><td>0.00790513833992095</td><td>0.999919211504282</td><td>8.07884957182097e-05</td><td>0.992094861660079</td><td>0.73713275561578 </td><td>0.09895867199366  </td></tr>\n",
       "\t<tr><th scope=row>5</th><td>onlinego daddy               </td><td>10685</td><td>0</td><td>274</td><td>8625 </td><td>1859</td><td>8826 </td><td>0.832849789424427</td><td>0.147391070467994  </td><td>0.977226376614548</td><td>0.0227736233854521  </td><td>0.852608929532007</td><td>0.684376914897762</td><td>0.353545012697168 </td></tr>\n",
       "\t<tr><th scope=row>6</th><td>sitegandi sas                </td><td>8719 </td><td>0</td><td>0  </td><td>8571 </td><td>148 </td><td>8571 </td><td>0.98302557632756 </td><td>0                  </td><td>1                </td><td>0                   </td><td>1                </td><td>0.928636634534472</td><td>0.129532383035908 </td></tr>\n",
       "\t<tr><th scope=row>7</th><td>sitereg.ru                   </td><td>6986 </td><td>0</td><td>0  </td><td>6764 </td><td>222 </td><td>6764 </td><td>0.96822215860292 </td><td>0                  </td><td>1                </td><td>0                   </td><td>1                </td><td>0.612234684418312</td><td>0.0471043184893006</td></tr>\n",
       "\t<tr><th scope=row>8</th><td>onlinenamecheap              </td><td>6611 </td><td>0</td><td>0  </td><td>5861 </td><td>750 </td><td>5861 </td><td>0.886552715171684</td><td>0                  </td><td>1                </td><td>0                   </td><td>1                </td><td>0.633514986066098</td><td>0.25187664679637  </td></tr>\n",
       "\t<tr><th scope=row>9</th><td>siteonlinenic                </td><td>6220 </td><td>0</td><td>0  </td><td>6216 </td><td>4   </td><td>6216 </td><td>0.99935691318328 </td><td>0                  </td><td>1                </td><td>0                   </td><td>1                </td><td>0.914253539253542</td><td>0.144148003812705 </td></tr>\n",
       "\t<tr><th scope=row>10</th><td>hostnamecheap                </td><td>5979 </td><td>0</td><td>0  </td><td>5840 </td><td>137 </td><td>5842 </td><td>0.976751965211574</td><td>0                  </td><td>0.999657651489216</td><td>0.000342348510783978</td><td>1                </td><td>0.749402139553225</td><td>0.0806920875315707</td></tr>\n",
       "\t<tr><th scope=row>11</th><td>sitezhengzhou century connect</td><td>5854 </td><td>0</td><td>0  </td><td>5853 </td><td>1   </td><td>5853 </td><td>0.999829176631363</td><td>0                  </td><td>1                </td><td>0                   </td><td>1                </td><td>0.477618315393815</td><td>0.500085411684318 </td></tr>\n",
       "\t<tr><th scope=row>12</th><td>funchengdu west              </td><td>5662 </td><td>0</td><td>7  </td><td>5646 </td><td>15  </td><td>5647 </td><td>0.998410455669375</td><td>0.466666666666667  </td><td>0.999822914822029</td><td>0.000177085177970604</td><td>0.533333333333333</td><td>0.985738740334101</td><td>0.57249693517321  </td></tr>\n",
       "\t<tr><th scope=row>13</th><td>spacego daddy                </td><td>5169 </td><td>0</td><td>9  </td><td>4793 </td><td>366 </td><td>4803 </td><td>0.928999806538982</td><td>0.0245901639344262 </td><td>0.997917967936706</td><td>0.00208203206329377 </td><td>0.975409836065574</td><td>0.750793276970565</td><td>0.215759656809739 </td></tr>\n",
       "\t<tr><th scope=row>14</th><td>websitenamecheap             </td><td>5096 </td><td>0</td><td>0  </td><td>4623 </td><td>473 </td><td>4623 </td><td>0.907182103610675</td><td>0                  </td><td>1                </td><td>0                   </td><td>1                </td><td>0.66411073596078 </td><td>0.162506486387145 </td></tr>\n",
       "\t<tr><th scope=row>15</th><td>funnamecheap                 </td><td>4765 </td><td>0</td><td>1  </td><td>4553 </td><td>205 </td><td>4560 </td><td>0.955718782791186</td><td>0.0048780487804878 </td><td>0.998464912280702</td><td>0.00153508771929825 </td><td>0.995121951219512</td><td>0.784663564398808</td><td>0.131173552788066 </td></tr>\n",
       "</tbody>\n",
       "</table>\n"
      ],
      "text/latex": [
       "A data.frame: 15 × 14\n",
       "\\begin{tabular}{r|llllllllllllll}\n",
       "  & tld\\_reg & obs\\_count & na\\_count & TP & TN & P & N & acc\\_0.5 & tpr\\_0.5 & tnr\\_0.5 & fpr\\_0.5 & fnr\\_0.5 & auc & aucpr\\\\\n",
       "  & <fct> & <fct> & <fct> & <fct> & <fct> & <fct> & <fct> & <fct> & <fct> & <fct> & <fct> & <fct> & <fct> & <fct>\\\\\n",
       "\\hline\n",
       "\t1 & sitegmo                       & 26419 & 0 & 10  & 25739 & 646  & 25773 & 0.974639464022105 & 0.0154798761609907  & 0.998680789974004 & 0.0013192100259962   & 0.984520123839009 & 0.919756515536533 & 0.256579851350292 \\\\\n",
       "\t2 & funalibaba                    & 18208 & 0 & 1   & 17993 & 215  & 17993 & 0.988246924428822 & 0.00465116279069767 & 1                 & 0                    & 0.995348837209302 & 0.839255059138015 & 0.0759749781436754\\\\\n",
       "\t3 & sitenamecheap                 & 13362 & 0 & 0   & 12803 & 557  & 12805 & 0.95816494536746  & 0                   & 0.999843811011324 & 0.000156188988676298 & 1                 & 0.698464258449285 & 0.0907543770656836\\\\\n",
       "\t4 & pwnamecheap                   & 12631 & 0 & 2   & 12377 & 253  & 12378 & 0.980049085583089 & 0.00790513833992095 & 0.999919211504282 & 8.07884957182097e-05 & 0.992094861660079 & 0.73713275561578  & 0.09895867199366  \\\\\n",
       "\t5 & onlinego daddy                & 10685 & 0 & 274 & 8625  & 1859 & 8826  & 0.832849789424427 & 0.147391070467994   & 0.977226376614548 & 0.0227736233854521   & 0.852608929532007 & 0.684376914897762 & 0.353545012697168 \\\\\n",
       "\t6 & sitegandi sas                 & 8719  & 0 & 0   & 8571  & 148  & 8571  & 0.98302557632756  & 0                   & 1                 & 0                    & 1                 & 0.928636634534472 & 0.129532383035908 \\\\\n",
       "\t7 & sitereg.ru                    & 6986  & 0 & 0   & 6764  & 222  & 6764  & 0.96822215860292  & 0                   & 1                 & 0                    & 1                 & 0.612234684418312 & 0.0471043184893006\\\\\n",
       "\t8 & onlinenamecheap               & 6611  & 0 & 0   & 5861  & 750  & 5861  & 0.886552715171684 & 0                   & 1                 & 0                    & 1                 & 0.633514986066098 & 0.25187664679637  \\\\\n",
       "\t9 & siteonlinenic                 & 6220  & 0 & 0   & 6216  & 4    & 6216  & 0.99935691318328  & 0                   & 1                 & 0                    & 1                 & 0.914253539253542 & 0.144148003812705 \\\\\n",
       "\t10 & hostnamecheap                 & 5979  & 0 & 0   & 5840  & 137  & 5842  & 0.976751965211574 & 0                   & 0.999657651489216 & 0.000342348510783978 & 1                 & 0.749402139553225 & 0.0806920875315707\\\\\n",
       "\t11 & sitezhengzhou century connect & 5854  & 0 & 0   & 5853  & 1    & 5853  & 0.999829176631363 & 0                   & 1                 & 0                    & 1                 & 0.477618315393815 & 0.500085411684318 \\\\\n",
       "\t12 & funchengdu west               & 5662  & 0 & 7   & 5646  & 15   & 5647  & 0.998410455669375 & 0.466666666666667   & 0.999822914822029 & 0.000177085177970604 & 0.533333333333333 & 0.985738740334101 & 0.57249693517321  \\\\\n",
       "\t13 & spacego daddy                 & 5169  & 0 & 9   & 4793  & 366  & 4803  & 0.928999806538982 & 0.0245901639344262  & 0.997917967936706 & 0.00208203206329377  & 0.975409836065574 & 0.750793276970565 & 0.215759656809739 \\\\\n",
       "\t14 & websitenamecheap              & 5096  & 0 & 0   & 4623  & 473  & 4623  & 0.907182103610675 & 0                   & 1                 & 0                    & 1                 & 0.66411073596078  & 0.162506486387145 \\\\\n",
       "\t15 & funnamecheap                  & 4765  & 0 & 1   & 4553  & 205  & 4560  & 0.955718782791186 & 0.0048780487804878  & 0.998464912280702 & 0.00153508771929825  & 0.995121951219512 & 0.784663564398808 & 0.131173552788066 \\\\\n",
       "\\end{tabular}\n"
      ],
      "text/markdown": [
       "\n",
       "A data.frame: 15 × 14\n",
       "\n",
       "| <!--/--> | tld_reg &lt;fct&gt; | obs_count &lt;fct&gt; | na_count &lt;fct&gt; | TP &lt;fct&gt; | TN &lt;fct&gt; | P &lt;fct&gt; | N &lt;fct&gt; | acc_0.5 &lt;fct&gt; | tpr_0.5 &lt;fct&gt; | tnr_0.5 &lt;fct&gt; | fpr_0.5 &lt;fct&gt; | fnr_0.5 &lt;fct&gt; | auc &lt;fct&gt; | aucpr &lt;fct&gt; |\n",
       "|---|---|---|---|---|---|---|---|---|---|---|---|---|---|---|\n",
       "| 1 | sitegmo                       | 26419 | 0 | 10  | 25739 | 646  | 25773 | 0.974639464022105 | 0.0154798761609907  | 0.998680789974004 | 0.0013192100259962   | 0.984520123839009 | 0.919756515536533 | 0.256579851350292  |\n",
       "| 2 | funalibaba                    | 18208 | 0 | 1   | 17993 | 215  | 17993 | 0.988246924428822 | 0.00465116279069767 | 1                 | 0                    | 0.995348837209302 | 0.839255059138015 | 0.0759749781436754 |\n",
       "| 3 | sitenamecheap                 | 13362 | 0 | 0   | 12803 | 557  | 12805 | 0.95816494536746  | 0                   | 0.999843811011324 | 0.000156188988676298 | 1                 | 0.698464258449285 | 0.0907543770656836 |\n",
       "| 4 | pwnamecheap                   | 12631 | 0 | 2   | 12377 | 253  | 12378 | 0.980049085583089 | 0.00790513833992095 | 0.999919211504282 | 8.07884957182097e-05 | 0.992094861660079 | 0.73713275561578  | 0.09895867199366   |\n",
       "| 5 | onlinego daddy                | 10685 | 0 | 274 | 8625  | 1859 | 8826  | 0.832849789424427 | 0.147391070467994   | 0.977226376614548 | 0.0227736233854521   | 0.852608929532007 | 0.684376914897762 | 0.353545012697168  |\n",
       "| 6 | sitegandi sas                 | 8719  | 0 | 0   | 8571  | 148  | 8571  | 0.98302557632756  | 0                   | 1                 | 0                    | 1                 | 0.928636634534472 | 0.129532383035908  |\n",
       "| 7 | sitereg.ru                    | 6986  | 0 | 0   | 6764  | 222  | 6764  | 0.96822215860292  | 0                   | 1                 | 0                    | 1                 | 0.612234684418312 | 0.0471043184893006 |\n",
       "| 8 | onlinenamecheap               | 6611  | 0 | 0   | 5861  | 750  | 5861  | 0.886552715171684 | 0                   | 1                 | 0                    | 1                 | 0.633514986066098 | 0.25187664679637   |\n",
       "| 9 | siteonlinenic                 | 6220  | 0 | 0   | 6216  | 4    | 6216  | 0.99935691318328  | 0                   | 1                 | 0                    | 1                 | 0.914253539253542 | 0.144148003812705  |\n",
       "| 10 | hostnamecheap                 | 5979  | 0 | 0   | 5840  | 137  | 5842  | 0.976751965211574 | 0                   | 0.999657651489216 | 0.000342348510783978 | 1                 | 0.749402139553225 | 0.0806920875315707 |\n",
       "| 11 | sitezhengzhou century connect | 5854  | 0 | 0   | 5853  | 1    | 5853  | 0.999829176631363 | 0                   | 1                 | 0                    | 1                 | 0.477618315393815 | 0.500085411684318  |\n",
       "| 12 | funchengdu west               | 5662  | 0 | 7   | 5646  | 15   | 5647  | 0.998410455669375 | 0.466666666666667   | 0.999822914822029 | 0.000177085177970604 | 0.533333333333333 | 0.985738740334101 | 0.57249693517321   |\n",
       "| 13 | spacego daddy                 | 5169  | 0 | 9   | 4793  | 366  | 4803  | 0.928999806538982 | 0.0245901639344262  | 0.997917967936706 | 0.00208203206329377  | 0.975409836065574 | 0.750793276970565 | 0.215759656809739  |\n",
       "| 14 | websitenamecheap              | 5096  | 0 | 0   | 4623  | 473  | 4623  | 0.907182103610675 | 0                   | 1                 | 0                    | 1                 | 0.66411073596078  | 0.162506486387145  |\n",
       "| 15 | funnamecheap                  | 4765  | 0 | 1   | 4553  | 205  | 4560  | 0.955718782791186 | 0.0048780487804878  | 0.998464912280702 | 0.00153508771929825  | 0.995121951219512 | 0.784663564398808 | 0.131173552788066  |\n",
       "\n"
      ],
      "text/plain": [
       "   tld_reg                       obs_count na_count TP  TN    P    N    \n",
       "1  sitegmo                       26419     0        10  25739 646  25773\n",
       "2  funalibaba                    18208     0        1   17993 215  17993\n",
       "3  sitenamecheap                 13362     0        0   12803 557  12805\n",
       "4  pwnamecheap                   12631     0        2   12377 253  12378\n",
       "5  onlinego daddy                10685     0        274 8625  1859 8826 \n",
       "6  sitegandi sas                 8719      0        0   8571  148  8571 \n",
       "7  sitereg.ru                    6986      0        0   6764  222  6764 \n",
       "8  onlinenamecheap               6611      0        0   5861  750  5861 \n",
       "9  siteonlinenic                 6220      0        0   6216  4    6216 \n",
       "10 hostnamecheap                 5979      0        0   5840  137  5842 \n",
       "11 sitezhengzhou century connect 5854      0        0   5853  1    5853 \n",
       "12 funchengdu west               5662      0        7   5646  15   5647 \n",
       "13 spacego daddy                 5169      0        9   4793  366  4803 \n",
       "14 websitenamecheap              5096      0        0   4623  473  4623 \n",
       "15 funnamecheap                  4765      0        1   4553  205  4560 \n",
       "   acc_0.5           tpr_0.5             tnr_0.5           fpr_0.5             \n",
       "1  0.974639464022105 0.0154798761609907  0.998680789974004 0.0013192100259962  \n",
       "2  0.988246924428822 0.00465116279069767 1                 0                   \n",
       "3  0.95816494536746  0                   0.999843811011324 0.000156188988676298\n",
       "4  0.980049085583089 0.00790513833992095 0.999919211504282 8.07884957182097e-05\n",
       "5  0.832849789424427 0.147391070467994   0.977226376614548 0.0227736233854521  \n",
       "6  0.98302557632756  0                   1                 0                   \n",
       "7  0.96822215860292  0                   1                 0                   \n",
       "8  0.886552715171684 0                   1                 0                   \n",
       "9  0.99935691318328  0                   1                 0                   \n",
       "10 0.976751965211574 0                   0.999657651489216 0.000342348510783978\n",
       "11 0.999829176631363 0                   1                 0                   \n",
       "12 0.998410455669375 0.466666666666667   0.999822914822029 0.000177085177970604\n",
       "13 0.928999806538982 0.0245901639344262  0.997917967936706 0.00208203206329377 \n",
       "14 0.907182103610675 0                   1                 0                   \n",
       "15 0.955718782791186 0.0048780487804878  0.998464912280702 0.00153508771929825 \n",
       "   fnr_0.5           auc               aucpr             \n",
       "1  0.984520123839009 0.919756515536533 0.256579851350292 \n",
       "2  0.995348837209302 0.839255059138015 0.0759749781436754\n",
       "3  1                 0.698464258449285 0.0907543770656836\n",
       "4  0.992094861660079 0.73713275561578  0.09895867199366  \n",
       "5  0.852608929532007 0.684376914897762 0.353545012697168 \n",
       "6  1                 0.928636634534472 0.129532383035908 \n",
       "7  1                 0.612234684418312 0.0471043184893006\n",
       "8  1                 0.633514986066098 0.25187664679637  \n",
       "9  1                 0.914253539253542 0.144148003812705 \n",
       "10 1                 0.749402139553225 0.0806920875315707\n",
       "11 1                 0.477618315393815 0.500085411684318 \n",
       "12 0.533333333333333 0.985738740334101 0.57249693517321  \n",
       "13 0.975409836065574 0.750793276970565 0.215759656809739 \n",
       "14 1                 0.66411073596078  0.162506486387145 \n",
       "15 0.995121951219512 0.784663564398808 0.131173552788066 "
      ]
     },
     "metadata": {},
     "output_type": "display_data"
    }
   ],
   "source": [
    "seg_glm_perf_df <- data.frame(output) # %>% drop_na()\n",
    "names(seg_glm_perf_df) <- c('tld_reg', 'obs_count', 'na_count', 'TP', 'TN','P', 'N', 'acc_0.5', 'tpr_0.5', 'tnr_0.5', 'fpr_0.5', 'fnr_0.5', 'auc', 'aucpr')\n",
    "dim(seg_glm_perf_df)\n",
    "head(seg_glm_perf_df,50)"
   ]
  },
  {
   "cell_type": "code",
   "execution_count": 111,
   "metadata": {},
   "outputs": [
    {
     "data": {
      "text/html": [
       "<table>\n",
       "<caption>A data.frame: 15 × 4</caption>\n",
       "<thead>\n",
       "\t<tr><th></th><th scope=col>tld_reg</th><th scope=col>obs_count</th><th scope=col>na_count</th><th scope=col>aucpr</th></tr>\n",
       "\t<tr><th></th><th scope=col>&lt;fct&gt;</th><th scope=col>&lt;fct&gt;</th><th scope=col>&lt;fct&gt;</th><th scope=col>&lt;fct&gt;</th></tr>\n",
       "</thead>\n",
       "<tbody>\n",
       "\t<tr><th scope=row>1</th><td>funchengdu west              </td><td>5662 </td><td>0</td><td>0.57249693517321  </td></tr>\n",
       "\t<tr><th scope=row>2</th><td>sitezhengzhou century connect</td><td>5854 </td><td>0</td><td>0.500085411684318 </td></tr>\n",
       "\t<tr><th scope=row>3</th><td>onlinego daddy               </td><td>10685</td><td>0</td><td>0.353545012697168 </td></tr>\n",
       "\t<tr><th scope=row>4</th><td>sitegmo                      </td><td>26419</td><td>0</td><td>0.256579851350292 </td></tr>\n",
       "\t<tr><th scope=row>5</th><td>onlinenamecheap              </td><td>6611 </td><td>0</td><td>0.25187664679637  </td></tr>\n",
       "\t<tr><th scope=row>6</th><td>spacego daddy                </td><td>5169 </td><td>0</td><td>0.215759656809739 </td></tr>\n",
       "\t<tr><th scope=row>7</th><td>websitenamecheap             </td><td>5096 </td><td>0</td><td>0.162506486387145 </td></tr>\n",
       "\t<tr><th scope=row>8</th><td>siteonlinenic                </td><td>6220 </td><td>0</td><td>0.144148003812705 </td></tr>\n",
       "\t<tr><th scope=row>9</th><td>funnamecheap                 </td><td>4765 </td><td>0</td><td>0.131173552788066 </td></tr>\n",
       "\t<tr><th scope=row>10</th><td>sitegandi sas                </td><td>8719 </td><td>0</td><td>0.129532383035908 </td></tr>\n",
       "\t<tr><th scope=row>11</th><td>pwnamecheap                  </td><td>12631</td><td>0</td><td>0.09895867199366  </td></tr>\n",
       "\t<tr><th scope=row>12</th><td>sitenamecheap                </td><td>13362</td><td>0</td><td>0.0907543770656836</td></tr>\n",
       "\t<tr><th scope=row>13</th><td>hostnamecheap                </td><td>5979 </td><td>0</td><td>0.0806920875315707</td></tr>\n",
       "\t<tr><th scope=row>14</th><td>funalibaba                   </td><td>18208</td><td>0</td><td>0.0759749781436754</td></tr>\n",
       "\t<tr><th scope=row>15</th><td>sitereg.ru                   </td><td>6986 </td><td>0</td><td>0.0471043184893006</td></tr>\n",
       "</tbody>\n",
       "</table>\n"
      ],
      "text/latex": [
       "A data.frame: 15 × 4\n",
       "\\begin{tabular}{r|llll}\n",
       "  & tld\\_reg & obs\\_count & na\\_count & aucpr\\\\\n",
       "  & <fct> & <fct> & <fct> & <fct>\\\\\n",
       "\\hline\n",
       "\t1 & funchengdu west               & 5662  & 0 & 0.57249693517321  \\\\\n",
       "\t2 & sitezhengzhou century connect & 5854  & 0 & 0.500085411684318 \\\\\n",
       "\t3 & onlinego daddy                & 10685 & 0 & 0.353545012697168 \\\\\n",
       "\t4 & sitegmo                       & 26419 & 0 & 0.256579851350292 \\\\\n",
       "\t5 & onlinenamecheap               & 6611  & 0 & 0.25187664679637  \\\\\n",
       "\t6 & spacego daddy                 & 5169  & 0 & 0.215759656809739 \\\\\n",
       "\t7 & websitenamecheap              & 5096  & 0 & 0.162506486387145 \\\\\n",
       "\t8 & siteonlinenic                 & 6220  & 0 & 0.144148003812705 \\\\\n",
       "\t9 & funnamecheap                  & 4765  & 0 & 0.131173552788066 \\\\\n",
       "\t10 & sitegandi sas                 & 8719  & 0 & 0.129532383035908 \\\\\n",
       "\t11 & pwnamecheap                   & 12631 & 0 & 0.09895867199366  \\\\\n",
       "\t12 & sitenamecheap                 & 13362 & 0 & 0.0907543770656836\\\\\n",
       "\t13 & hostnamecheap                 & 5979  & 0 & 0.0806920875315707\\\\\n",
       "\t14 & funalibaba                    & 18208 & 0 & 0.0759749781436754\\\\\n",
       "\t15 & sitereg.ru                    & 6986  & 0 & 0.0471043184893006\\\\\n",
       "\\end{tabular}\n"
      ],
      "text/markdown": [
       "\n",
       "A data.frame: 15 × 4\n",
       "\n",
       "| <!--/--> | tld_reg &lt;fct&gt; | obs_count &lt;fct&gt; | na_count &lt;fct&gt; | aucpr &lt;fct&gt; |\n",
       "|---|---|---|---|---|\n",
       "| 1 | funchengdu west               | 5662  | 0 | 0.57249693517321   |\n",
       "| 2 | sitezhengzhou century connect | 5854  | 0 | 0.500085411684318  |\n",
       "| 3 | onlinego daddy                | 10685 | 0 | 0.353545012697168  |\n",
       "| 4 | sitegmo                       | 26419 | 0 | 0.256579851350292  |\n",
       "| 5 | onlinenamecheap               | 6611  | 0 | 0.25187664679637   |\n",
       "| 6 | spacego daddy                 | 5169  | 0 | 0.215759656809739  |\n",
       "| 7 | websitenamecheap              | 5096  | 0 | 0.162506486387145  |\n",
       "| 8 | siteonlinenic                 | 6220  | 0 | 0.144148003812705  |\n",
       "| 9 | funnamecheap                  | 4765  | 0 | 0.131173552788066  |\n",
       "| 10 | sitegandi sas                 | 8719  | 0 | 0.129532383035908  |\n",
       "| 11 | pwnamecheap                   | 12631 | 0 | 0.09895867199366   |\n",
       "| 12 | sitenamecheap                 | 13362 | 0 | 0.0907543770656836 |\n",
       "| 13 | hostnamecheap                 | 5979  | 0 | 0.0806920875315707 |\n",
       "| 14 | funalibaba                    | 18208 | 0 | 0.0759749781436754 |\n",
       "| 15 | sitereg.ru                    | 6986  | 0 | 0.0471043184893006 |\n",
       "\n"
      ],
      "text/plain": [
       "   tld_reg                       obs_count na_count aucpr             \n",
       "1  funchengdu west               5662      0        0.57249693517321  \n",
       "2  sitezhengzhou century connect 5854      0        0.500085411684318 \n",
       "3  onlinego daddy                10685     0        0.353545012697168 \n",
       "4  sitegmo                       26419     0        0.256579851350292 \n",
       "5  onlinenamecheap               6611      0        0.25187664679637  \n",
       "6  spacego daddy                 5169      0        0.215759656809739 \n",
       "7  websitenamecheap              5096      0        0.162506486387145 \n",
       "8  siteonlinenic                 6220      0        0.144148003812705 \n",
       "9  funnamecheap                  4765      0        0.131173552788066 \n",
       "10 sitegandi sas                 8719      0        0.129532383035908 \n",
       "11 pwnamecheap                   12631     0        0.09895867199366  \n",
       "12 sitenamecheap                 13362     0        0.0907543770656836\n",
       "13 hostnamecheap                 5979      0        0.0806920875315707\n",
       "14 funalibaba                    18208     0        0.0759749781436754\n",
       "15 sitereg.ru                    6986      0        0.0471043184893006"
      ]
     },
     "metadata": {},
     "output_type": "display_data"
    }
   ],
   "source": [
    "seg_glm_perf_df %>% arrange(desc(aucpr)) %>% select(tld_reg,obs_count,na_count,aucpr)  %>% head(30)"
   ]
  },
  {
   "cell_type": "code",
   "execution_count": 112,
   "metadata": {},
   "outputs": [],
   "source": [
    "seg_glm_expiry_exptest_sub <- seg_glm_expiry_exptest %>% filter((tld_registrar_index %in% tld_registrars))\n",
    "seg_glm_expiry_exptest_pred_df = data.frame(\"actual\" = seg_glm_expiry_exptest_sub$renewal_status,\n",
    "          \"predicted\" = seg_glm_expiry_exptest_sub$first_renewal_prediction)\n",
    "\n",
    "lift_df_seg_glm_expiry_exptest <- chart_lift(pred_df = seg_glm_expiry_exptest_pred_df,\n",
    "                        dep_var = \"actual\",\n",
    "                        pred_var = \"predicted\")\n",
    "gains_plot_seg_glm_expiry_exptest <- plot_gains (lift_df_seg_glm_expiry_exptest) \n",
    "auc_seg_glm_expiry_exptest<- calc_auc(lift_df_seg_glm_expiry_exptest)"
   ]
  },
  {
   "cell_type": "code",
   "execution_count": 113,
   "metadata": {},
   "outputs": [
    {
     "data": {
      "text/html": [
       "0.834498376345924"
      ],
      "text/latex": [
       "0.834498376345924"
      ],
      "text/markdown": [
       "0.834498376345924"
      ],
      "text/plain": [
       "[1] 0.8344984"
      ]
     },
     "metadata": {},
     "output_type": "display_data"
    }
   ],
   "source": [
    "auc_seg_glm_expiry_exptest"
   ]
  },
  {
   "cell_type": "code",
   "execution_count": 114,
   "metadata": {},
   "outputs": [
    {
     "data": {
      "text/html": [
       "<table>\n",
       "<caption>A data.frame: 10 × 4</caption>\n",
       "<thead>\n",
       "\t<tr><th scope=col>P</th><th scope=col>actu_renwd2</th><th scope=col>gain</th><th scope=col>lift</th></tr>\n",
       "\t<tr><th scope=col>&lt;dbl&gt;</th><th scope=col>&lt;int&gt;</th><th scope=col>&lt;dbl&gt;</th><th scope=col>&lt;dbl&gt;</th></tr>\n",
       "</thead>\n",
       "<tbody>\n",
       "\t<tr><td>0.1</td><td>2755</td><td>0.4708597</td><td>4.708597</td></tr>\n",
       "\t<tr><td>0.2</td><td>4209</td><td>0.7193642</td><td>3.596821</td></tr>\n",
       "\t<tr><td>0.3</td><td>4814</td><td>0.8227653</td><td>2.742551</td></tr>\n",
       "\t<tr><td>0.4</td><td>5292</td><td>0.9044608</td><td>2.261152</td></tr>\n",
       "\t<tr><td>0.5</td><td>5606</td><td>0.9581268</td><td>1.916254</td></tr>\n",
       "\t<tr><td>0.6</td><td>5732</td><td>0.9796616</td><td>1.632769</td></tr>\n",
       "\t<tr><td>0.7</td><td>5808</td><td>0.9926508</td><td>1.418073</td></tr>\n",
       "\t<tr><td>0.8</td><td>5840</td><td>0.9981200</td><td>1.247650</td></tr>\n",
       "\t<tr><td>0.9</td><td>5845</td><td>0.9989745</td><td>1.109972</td></tr>\n",
       "\t<tr><td>1.0</td><td>5851</td><td>1.0000000</td><td>1.000000</td></tr>\n",
       "</tbody>\n",
       "</table>\n"
      ],
      "text/latex": [
       "A data.frame: 10 × 4\n",
       "\\begin{tabular}{llll}\n",
       " P & actu\\_renwd2 & gain & lift\\\\\n",
       " <dbl> & <int> & <dbl> & <dbl>\\\\\n",
       "\\hline\n",
       "\t 0.1 & 2755 & 0.4708597 & 4.708597\\\\\n",
       "\t 0.2 & 4209 & 0.7193642 & 3.596821\\\\\n",
       "\t 0.3 & 4814 & 0.8227653 & 2.742551\\\\\n",
       "\t 0.4 & 5292 & 0.9044608 & 2.261152\\\\\n",
       "\t 0.5 & 5606 & 0.9581268 & 1.916254\\\\\n",
       "\t 0.6 & 5732 & 0.9796616 & 1.632769\\\\\n",
       "\t 0.7 & 5808 & 0.9926508 & 1.418073\\\\\n",
       "\t 0.8 & 5840 & 0.9981200 & 1.247650\\\\\n",
       "\t 0.9 & 5845 & 0.9989745 & 1.109972\\\\\n",
       "\t 1.0 & 5851 & 1.0000000 & 1.000000\\\\\n",
       "\\end{tabular}\n"
      ],
      "text/markdown": [
       "\n",
       "A data.frame: 10 × 4\n",
       "\n",
       "| P &lt;dbl&gt; | actu_renwd2 &lt;int&gt; | gain &lt;dbl&gt; | lift &lt;dbl&gt; |\n",
       "|---|---|---|---|\n",
       "| 0.1 | 2755 | 0.4708597 | 4.708597 |\n",
       "| 0.2 | 4209 | 0.7193642 | 3.596821 |\n",
       "| 0.3 | 4814 | 0.8227653 | 2.742551 |\n",
       "| 0.4 | 5292 | 0.9044608 | 2.261152 |\n",
       "| 0.5 | 5606 | 0.9581268 | 1.916254 |\n",
       "| 0.6 | 5732 | 0.9796616 | 1.632769 |\n",
       "| 0.7 | 5808 | 0.9926508 | 1.418073 |\n",
       "| 0.8 | 5840 | 0.9981200 | 1.247650 |\n",
       "| 0.9 | 5845 | 0.9989745 | 1.109972 |\n",
       "| 1.0 | 5851 | 1.0000000 | 1.000000 |\n",
       "\n"
      ],
      "text/plain": [
       "   P   actu_renwd2 gain      lift    \n",
       "1  0.1 2755        0.4708597 4.708597\n",
       "2  0.2 4209        0.7193642 3.596821\n",
       "3  0.3 4814        0.8227653 2.742551\n",
       "4  0.4 5292        0.9044608 2.261152\n",
       "5  0.5 5606        0.9581268 1.916254\n",
       "6  0.6 5732        0.9796616 1.632769\n",
       "7  0.7 5808        0.9926508 1.418073\n",
       "8  0.8 5840        0.9981200 1.247650\n",
       "9  0.9 5845        0.9989745 1.109972\n",
       "10 1.0 5851        1.0000000 1.000000"
      ]
     },
     "metadata": {},
     "output_type": "display_data"
    }
   ],
   "source": [
    "lift_df_seg_glm_expiry_exptest"
   ]
  },
  {
   "cell_type": "markdown",
   "metadata": {},
   "source": [
    "# ranger_03"
   ]
  },
  {
   "cell_type": "code",
   "execution_count": 115,
   "metadata": {},
   "outputs": [
    {
     "data": {
      "text/html": [
       "<table>\n",
       "<caption>A data.table: 6 × 12</caption>\n",
       "<thead>\n",
       "\t<tr><th scope=col>renewal_status</th><th scope=col>tld</th><th scope=col>registrar</th><th scope=col>reseller_country</th><th scope=col>region</th><th scope=col>reg_period</th><th scope=col>sld_type</th><th scope=col>sld_length</th><th scope=col>day_domains</th><th scope=col>gibb_score</th><th scope=col>pattern_domain_count</th><th scope=col>reg_arpt</th></tr>\n",
       "\t<tr><th scope=col>&lt;fct&gt;</th><th scope=col>&lt;fct&gt;</th><th scope=col>&lt;chr&gt;</th><th scope=col>&lt;chr&gt;</th><th scope=col>&lt;chr&gt;</th><th scope=col>&lt;int&gt;</th><th scope=col>&lt;fct&gt;</th><th scope=col>&lt;int&gt;</th><th scope=col>&lt;int&gt;</th><th scope=col>&lt;dbl&gt;</th><th scope=col>&lt;int&gt;</th><th scope=col>&lt;dbl&gt;</th></tr>\n",
       "</thead>\n",
       "<tbody>\n",
       "\t<tr><td><span style=white-space:pre-wrap>Renewed   </span></td><td>fun</td><td><span style=white-space:pre-wrap>1&amp;1 internet    </span></td><td>Germany</td><td>Non China</td><td>1</td><td>l</td><td>6</td><td>1</td><td>2.23</td><td>1</td><td>15</td></tr>\n",
       "\t<tr><td><span style=white-space:pre-wrap>Renewed   </span></td><td>fun</td><td><span style=white-space:pre-wrap>1&amp;1 internet    </span></td><td>Germany</td><td>Non China</td><td>1</td><td>l</td><td>9</td><td>1</td><td>3.45</td><td>1</td><td>15</td></tr>\n",
       "\t<tr><td>Not Renewd</td><td>fun</td><td>10dencehispahard</td><td>Spain  </td><td>Non China</td><td>1</td><td>l</td><td>8</td><td>1</td><td>8.62</td><td>1</td><td>15</td></tr>\n",
       "\t<tr><td>Not Renewd</td><td>fun</td><td>10dencehispahard</td><td>Spain  </td><td>Non China</td><td>1</td><td>l</td><td>6</td><td>1</td><td>3.13</td><td>1</td><td>15</td></tr>\n",
       "\t<tr><td>Renewed   </td><td>fun</td><td>1api            </td><td>Germany</td><td>Non China</td><td>1</td><td>l</td><td>7</td><td>1</td><td>4.51</td><td>1</td><td> 5</td></tr>\n",
       "\t<tr><td>Not Renewd</td><td>fun</td><td>1api            </td><td>Germany</td><td>Non China</td><td>1</td><td>l</td><td>7</td><td>1</td><td>6.09</td><td>1</td><td> 5</td></tr>\n",
       "</tbody>\n",
       "</table>\n"
      ],
      "text/latex": [
       "A data.table: 6 × 12\n",
       "\\begin{tabular}{llllllllllll}\n",
       " renewal\\_status & tld & registrar & reseller\\_country & region & reg\\_period & sld\\_type & sld\\_length & day\\_domains & gibb\\_score & pattern\\_domain\\_count & reg\\_arpt\\\\\n",
       " <fct> & <fct> & <chr> & <chr> & <chr> & <int> & <fct> & <int> & <int> & <dbl> & <int> & <dbl>\\\\\n",
       "\\hline\n",
       "\t Renewed    & fun & 1\\&1 internet     & Germany & Non China & 1 & l & 6 & 1 & 2.23 & 1 & 15\\\\\n",
       "\t Renewed    & fun & 1\\&1 internet     & Germany & Non China & 1 & l & 9 & 1 & 3.45 & 1 & 15\\\\\n",
       "\t Not Renewd & fun & 10dencehispahard & Spain   & Non China & 1 & l & 8 & 1 & 8.62 & 1 & 15\\\\\n",
       "\t Not Renewd & fun & 10dencehispahard & Spain   & Non China & 1 & l & 6 & 1 & 3.13 & 1 & 15\\\\\n",
       "\t Renewed    & fun & 1api             & Germany & Non China & 1 & l & 7 & 1 & 4.51 & 1 &  5\\\\\n",
       "\t Not Renewd & fun & 1api             & Germany & Non China & 1 & l & 7 & 1 & 6.09 & 1 &  5\\\\\n",
       "\\end{tabular}\n"
      ],
      "text/markdown": [
       "\n",
       "A data.table: 6 × 12\n",
       "\n",
       "| renewal_status &lt;fct&gt; | tld &lt;fct&gt; | registrar &lt;chr&gt; | reseller_country &lt;chr&gt; | region &lt;chr&gt; | reg_period &lt;int&gt; | sld_type &lt;fct&gt; | sld_length &lt;int&gt; | day_domains &lt;int&gt; | gibb_score &lt;dbl&gt; | pattern_domain_count &lt;int&gt; | reg_arpt &lt;dbl&gt; |\n",
       "|---|---|---|---|---|---|---|---|---|---|---|---|\n",
       "| Renewed    | fun | 1&amp;1 internet     | Germany | Non China | 1 | l | 6 | 1 | 2.23 | 1 | 15 |\n",
       "| Renewed    | fun | 1&amp;1 internet     | Germany | Non China | 1 | l | 9 | 1 | 3.45 | 1 | 15 |\n",
       "| Not Renewd | fun | 10dencehispahard | Spain   | Non China | 1 | l | 8 | 1 | 8.62 | 1 | 15 |\n",
       "| Not Renewd | fun | 10dencehispahard | Spain   | Non China | 1 | l | 6 | 1 | 3.13 | 1 | 15 |\n",
       "| Renewed    | fun | 1api             | Germany | Non China | 1 | l | 7 | 1 | 4.51 | 1 |  5 |\n",
       "| Not Renewd | fun | 1api             | Germany | Non China | 1 | l | 7 | 1 | 6.09 | 1 |  5 |\n",
       "\n"
      ],
      "text/plain": [
       "  renewal_status tld registrar        reseller_country region    reg_period\n",
       "1 Renewed        fun 1&1 internet     Germany          Non China 1         \n",
       "2 Renewed        fun 1&1 internet     Germany          Non China 1         \n",
       "3 Not Renewd     fun 10dencehispahard Spain            Non China 1         \n",
       "4 Not Renewd     fun 10dencehispahard Spain            Non China 1         \n",
       "5 Renewed        fun 1api             Germany          Non China 1         \n",
       "6 Not Renewd     fun 1api             Germany          Non China 1         \n",
       "  sld_type sld_length day_domains gibb_score pattern_domain_count reg_arpt\n",
       "1 l        6          1           2.23       1                    15      \n",
       "2 l        9          1           3.45       1                    15      \n",
       "3 l        8          1           8.62       1                    15      \n",
       "4 l        6          1           3.13       1                    15      \n",
       "5 l        7          1           4.51       1                     5      \n",
       "6 l        7          1           6.09       1                     5      "
      ]
     },
     "metadata": {},
     "output_type": "display_data"
    }
   ],
   "source": [
    "head(expiry_test_df_sub)"
   ]
  },
  {
   "cell_type": "code",
   "execution_count": 116,
   "metadata": {},
   "outputs": [
    {
     "data": {
      "text/plain": [
       "\n",
       "FirstTime \n",
       "   296797 "
      ]
     },
     "metadata": {},
     "output_type": "display_data"
    }
   ],
   "source": [
    "table(expiry_test_df_1$renewal_type)"
   ]
  },
  {
   "cell_type": "code",
   "execution_count": 117,
   "metadata": {},
   "outputs": [
    {
     "data": {
      "text/html": [
       "<style>\n",
       ".list-inline {list-style: none; margin:0; padding: 0}\n",
       ".list-inline>li {display: inline-block}\n",
       ".list-inline>li:not(:last-child)::after {content: \"\\00b7\"; padding: 0 .5ex}\n",
       "</style>\n",
       "<ol class=list-inline><li>0.508586390279474</li><li>0.492292087259203</li><li>0.595032497269293</li><li>0.45788487904655</li><li>0.541949387662944</li><li>0.539759115022046</li></ol>\n"
      ],
      "text/latex": [
       "\\begin{enumerate*}\n",
       "\\item 0.508586390279474\n",
       "\\item 0.492292087259203\n",
       "\\item 0.595032497269293\n",
       "\\item 0.45788487904655\n",
       "\\item 0.541949387662944\n",
       "\\item 0.539759115022046\n",
       "\\end{enumerate*}\n"
      ],
      "text/markdown": [
       "1. 0.508586390279474\n",
       "2. 0.492292087259203\n",
       "3. 0.595032497269293\n",
       "4. 0.45788487904655\n",
       "5. 0.541949387662944\n",
       "6. 0.539759115022046\n",
       "\n",
       "\n"
      ],
      "text/plain": [
       "[1] 0.5085864 0.4922921 0.5950325 0.4578849 0.5419494 0.5397591"
      ]
     },
     "metadata": {},
     "output_type": "display_data"
    }
   ],
   "source": [
    "head(ranger_predict_03_expiry)"
   ]
  },
  {
   "cell_type": "code",
   "execution_count": 129,
   "metadata": {},
   "outputs": [],
   "source": [
    "ranger_results <- expiry_test_df_sub\n",
    "ranger_results$predicted <- ranger_predict_03_expiry\n",
    "\n",
    "ranger_results$tld_registrar_index <- tolower(paste(ranger_results$tld,ranger_results$registrar,sep=\"\"))"
   ]
  },
  {
   "cell_type": "code",
   "execution_count": 130,
   "metadata": {},
   "outputs": [
    {
     "data": {
      "text/html": [
       "<table>\n",
       "<caption>A data.table: 6 × 14</caption>\n",
       "<thead>\n",
       "\t<tr><th scope=col>renewal_status</th><th scope=col>tld</th><th scope=col>registrar</th><th scope=col>reseller_country</th><th scope=col>region</th><th scope=col>reg_period</th><th scope=col>sld_type</th><th scope=col>sld_length</th><th scope=col>day_domains</th><th scope=col>gibb_score</th><th scope=col>pattern_domain_count</th><th scope=col>reg_arpt</th><th scope=col>predicted</th><th scope=col>tld_registrar_index</th></tr>\n",
       "\t<tr><th scope=col>&lt;fct&gt;</th><th scope=col>&lt;fct&gt;</th><th scope=col>&lt;chr&gt;</th><th scope=col>&lt;chr&gt;</th><th scope=col>&lt;chr&gt;</th><th scope=col>&lt;int&gt;</th><th scope=col>&lt;fct&gt;</th><th scope=col>&lt;int&gt;</th><th scope=col>&lt;int&gt;</th><th scope=col>&lt;dbl&gt;</th><th scope=col>&lt;int&gt;</th><th scope=col>&lt;dbl&gt;</th><th scope=col>&lt;dbl&gt;</th><th scope=col>&lt;chr&gt;</th></tr>\n",
       "</thead>\n",
       "<tbody>\n",
       "\t<tr><td><span style=white-space:pre-wrap>Renewed   </span></td><td>fun</td><td><span style=white-space:pre-wrap>1&amp;1 internet    </span></td><td>Germany</td><td>Non China</td><td>1</td><td>l</td><td>6</td><td>1</td><td>2.23</td><td>1</td><td>15</td><td>0.5085864</td><td><span style=white-space:pre-wrap>fun1&amp;1 internet    </span></td></tr>\n",
       "\t<tr><td><span style=white-space:pre-wrap>Renewed   </span></td><td>fun</td><td><span style=white-space:pre-wrap>1&amp;1 internet    </span></td><td>Germany</td><td>Non China</td><td>1</td><td>l</td><td>9</td><td>1</td><td>3.45</td><td>1</td><td>15</td><td>0.4922921</td><td><span style=white-space:pre-wrap>fun1&amp;1 internet    </span></td></tr>\n",
       "\t<tr><td>Not Renewd</td><td>fun</td><td>10dencehispahard</td><td>Spain  </td><td>Non China</td><td>1</td><td>l</td><td>8</td><td>1</td><td>8.62</td><td>1</td><td>15</td><td>0.5950325</td><td>fun10dencehispahard</td></tr>\n",
       "\t<tr><td>Not Renewd</td><td>fun</td><td>10dencehispahard</td><td>Spain  </td><td>Non China</td><td>1</td><td>l</td><td>6</td><td>1</td><td>3.13</td><td>1</td><td>15</td><td>0.4578849</td><td>fun10dencehispahard</td></tr>\n",
       "\t<tr><td>Renewed   </td><td>fun</td><td>1api            </td><td>Germany</td><td>Non China</td><td>1</td><td>l</td><td>7</td><td>1</td><td>4.51</td><td>1</td><td> 5</td><td>0.5419494</td><td>fun1api            </td></tr>\n",
       "\t<tr><td>Not Renewd</td><td>fun</td><td>1api            </td><td>Germany</td><td>Non China</td><td>1</td><td>l</td><td>7</td><td>1</td><td>6.09</td><td>1</td><td> 5</td><td>0.5397591</td><td>fun1api            </td></tr>\n",
       "</tbody>\n",
       "</table>\n"
      ],
      "text/latex": [
       "A data.table: 6 × 14\n",
       "\\begin{tabular}{llllllllllllll}\n",
       " renewal\\_status & tld & registrar & reseller\\_country & region & reg\\_period & sld\\_type & sld\\_length & day\\_domains & gibb\\_score & pattern\\_domain\\_count & reg\\_arpt & predicted & tld\\_registrar\\_index\\\\\n",
       " <fct> & <fct> & <chr> & <chr> & <chr> & <int> & <fct> & <int> & <int> & <dbl> & <int> & <dbl> & <dbl> & <chr>\\\\\n",
       "\\hline\n",
       "\t Renewed    & fun & 1\\&1 internet     & Germany & Non China & 1 & l & 6 & 1 & 2.23 & 1 & 15 & 0.5085864 & fun1\\&1 internet    \\\\\n",
       "\t Renewed    & fun & 1\\&1 internet     & Germany & Non China & 1 & l & 9 & 1 & 3.45 & 1 & 15 & 0.4922921 & fun1\\&1 internet    \\\\\n",
       "\t Not Renewd & fun & 10dencehispahard & Spain   & Non China & 1 & l & 8 & 1 & 8.62 & 1 & 15 & 0.5950325 & fun10dencehispahard\\\\\n",
       "\t Not Renewd & fun & 10dencehispahard & Spain   & Non China & 1 & l & 6 & 1 & 3.13 & 1 & 15 & 0.4578849 & fun10dencehispahard\\\\\n",
       "\t Renewed    & fun & 1api             & Germany & Non China & 1 & l & 7 & 1 & 4.51 & 1 &  5 & 0.5419494 & fun1api            \\\\\n",
       "\t Not Renewd & fun & 1api             & Germany & Non China & 1 & l & 7 & 1 & 6.09 & 1 &  5 & 0.5397591 & fun1api            \\\\\n",
       "\\end{tabular}\n"
      ],
      "text/markdown": [
       "\n",
       "A data.table: 6 × 14\n",
       "\n",
       "| renewal_status &lt;fct&gt; | tld &lt;fct&gt; | registrar &lt;chr&gt; | reseller_country &lt;chr&gt; | region &lt;chr&gt; | reg_period &lt;int&gt; | sld_type &lt;fct&gt; | sld_length &lt;int&gt; | day_domains &lt;int&gt; | gibb_score &lt;dbl&gt; | pattern_domain_count &lt;int&gt; | reg_arpt &lt;dbl&gt; | predicted &lt;dbl&gt; | tld_registrar_index &lt;chr&gt; |\n",
       "|---|---|---|---|---|---|---|---|---|---|---|---|---|---|\n",
       "| Renewed    | fun | 1&amp;1 internet     | Germany | Non China | 1 | l | 6 | 1 | 2.23 | 1 | 15 | 0.5085864 | fun1&amp;1 internet     |\n",
       "| Renewed    | fun | 1&amp;1 internet     | Germany | Non China | 1 | l | 9 | 1 | 3.45 | 1 | 15 | 0.4922921 | fun1&amp;1 internet     |\n",
       "| Not Renewd | fun | 10dencehispahard | Spain   | Non China | 1 | l | 8 | 1 | 8.62 | 1 | 15 | 0.5950325 | fun10dencehispahard |\n",
       "| Not Renewd | fun | 10dencehispahard | Spain   | Non China | 1 | l | 6 | 1 | 3.13 | 1 | 15 | 0.4578849 | fun10dencehispahard |\n",
       "| Renewed    | fun | 1api             | Germany | Non China | 1 | l | 7 | 1 | 4.51 | 1 |  5 | 0.5419494 | fun1api             |\n",
       "| Not Renewd | fun | 1api             | Germany | Non China | 1 | l | 7 | 1 | 6.09 | 1 |  5 | 0.5397591 | fun1api             |\n",
       "\n"
      ],
      "text/plain": [
       "  renewal_status tld registrar        reseller_country region    reg_period\n",
       "1 Renewed        fun 1&1 internet     Germany          Non China 1         \n",
       "2 Renewed        fun 1&1 internet     Germany          Non China 1         \n",
       "3 Not Renewd     fun 10dencehispahard Spain            Non China 1         \n",
       "4 Not Renewd     fun 10dencehispahard Spain            Non China 1         \n",
       "5 Renewed        fun 1api             Germany          Non China 1         \n",
       "6 Not Renewd     fun 1api             Germany          Non China 1         \n",
       "  sld_type sld_length day_domains gibb_score pattern_domain_count reg_arpt\n",
       "1 l        6          1           2.23       1                    15      \n",
       "2 l        9          1           3.45       1                    15      \n",
       "3 l        8          1           8.62       1                    15      \n",
       "4 l        6          1           3.13       1                    15      \n",
       "5 l        7          1           4.51       1                     5      \n",
       "6 l        7          1           6.09       1                     5      \n",
       "  predicted tld_registrar_index\n",
       "1 0.5085864 fun1&1 internet    \n",
       "2 0.4922921 fun1&1 internet    \n",
       "3 0.5950325 fun10dencehispahard\n",
       "4 0.4578849 fun10dencehispahard\n",
       "5 0.5419494 fun1api            \n",
       "6 0.5397591 fun1api            "
      ]
     },
     "metadata": {},
     "output_type": "display_data"
    }
   ],
   "source": [
    "head(ranger_results)"
   ]
  },
  {
   "cell_type": "code",
   "execution_count": 131,
   "metadata": {},
   "outputs": [
    {
     "data": {
      "text/html": [
       "<style>\n",
       ".list-inline {list-style: none; margin:0; padding: 0}\n",
       ".list-inline>li {display: inline-block}\n",
       ".list-inline>li:not(:last-child)::after {content: \"\\00b7\"; padding: 0 .5ex}\n",
       "</style>\n",
       "<ol class=list-inline><li>'sitegmo'</li><li>'funalibaba'</li><li>'sitenamecheap'</li><li>'pwnamecheap'</li><li>'onlinego daddy'</li><li>'sitegandi sas'</li><li>'sitereg.ru'</li><li>'onlinenamecheap'</li><li>'siteonlinenic'</li><li>'hostnamecheap'</li><li>'sitezhengzhou century connect'</li><li>'funchengdu west'</li><li>'spacego daddy'</li><li>'websitenamecheap'</li><li>'funnamecheap'</li></ol>\n"
      ],
      "text/latex": [
       "\\begin{enumerate*}\n",
       "\\item 'sitegmo'\n",
       "\\item 'funalibaba'\n",
       "\\item 'sitenamecheap'\n",
       "\\item 'pwnamecheap'\n",
       "\\item 'onlinego daddy'\n",
       "\\item 'sitegandi sas'\n",
       "\\item 'sitereg.ru'\n",
       "\\item 'onlinenamecheap'\n",
       "\\item 'siteonlinenic'\n",
       "\\item 'hostnamecheap'\n",
       "\\item 'sitezhengzhou century connect'\n",
       "\\item 'funchengdu west'\n",
       "\\item 'spacego daddy'\n",
       "\\item 'websitenamecheap'\n",
       "\\item 'funnamecheap'\n",
       "\\end{enumerate*}\n"
      ],
      "text/markdown": [
       "1. 'sitegmo'\n",
       "2. 'funalibaba'\n",
       "3. 'sitenamecheap'\n",
       "4. 'pwnamecheap'\n",
       "5. 'onlinego daddy'\n",
       "6. 'sitegandi sas'\n",
       "7. 'sitereg.ru'\n",
       "8. 'onlinenamecheap'\n",
       "9. 'siteonlinenic'\n",
       "10. 'hostnamecheap'\n",
       "11. 'sitezhengzhou century connect'\n",
       "12. 'funchengdu west'\n",
       "13. 'spacego daddy'\n",
       "14. 'websitenamecheap'\n",
       "15. 'funnamecheap'\n",
       "\n",
       "\n"
      ],
      "text/plain": [
       " [1] \"sitegmo\"                       \"funalibaba\"                   \n",
       " [3] \"sitenamecheap\"                 \"pwnamecheap\"                  \n",
       " [5] \"onlinego daddy\"                \"sitegandi sas\"                \n",
       " [7] \"sitereg.ru\"                    \"onlinenamecheap\"              \n",
       " [9] \"siteonlinenic\"                 \"hostnamecheap\"                \n",
       "[11] \"sitezhengzhou century connect\" \"funchengdu west\"              \n",
       "[13] \"spacego daddy\"                 \"websitenamecheap\"             \n",
       "[15] \"funnamecheap\"                 "
      ]
     },
     "metadata": {},
     "output_type": "display_data"
    }
   ],
   "source": [
    "tld_registrars"
   ]
  },
  {
   "cell_type": "code",
   "execution_count": 132,
   "metadata": {},
   "outputs": [],
   "source": [
    "iterations = length(tld_registrars)\n",
    "variables = 14\n",
    "\n",
    "output2 <- matrix(ncol=variables, nrow=iterations)\n",
    "\n",
    "for(i in 1:iterations){\n",
    "    tld_registrar = tld_registrars[i]\n",
    "    temp = subset(ranger_results, tld_registrar_index==tld_registrar)\n",
    "    obs_count = dim(temp)[1]\n",
    "    na_count = sum(is.na(temp$first_renewal_prediction)) # na_count\n",
    "    \n",
    "    if (obs_count>na_count) {\n",
    "        temp = temp[!is.na(temp$predicted)] \n",
    "        temp$Y = factor(as.numeric(temp$renewal_status == \"Renewed\"), levels=c(0,1))\n",
    "        temp$pred = as.numeric(temp$predicted>0.5)\n",
    "        \n",
    "        TP = sum((temp$pred==1) & (temp$Y==1))\n",
    "        TN = sum((temp$pred==0) & (temp$Y==0))\n",
    "        P = sum((temp$Y==1))\n",
    "        N = sum((temp$Y==0))\n",
    "        \n",
    "\n",
    "        pred_obj = prediction(temp$predicted, temp$Y)\n",
    "\n",
    "        perf = performance(pred_obj,'acc')\n",
    "        acc_0.5 = performance(pred_obj,'acc')@y.values[[1]][max(which(performance(pred_obj,'acc')@x.values[[1]] >= 0.5))] # acc_0.5\n",
    "\n",
    "        perf = performance(pred_obj,\"tpr\")\n",
    "        tpr_0.5 = perf@y.values[[1]][max(which(perf@x.values[[1]] >= 0.5))] # tpr_0.5 \n",
    "\n",
    "        perf = performance(pred_obj,\"tnr\")\n",
    "        tnr_0.5 = perf@y.values[[1]][max(which(perf@x.values[[1]] >= 0.5))] # tnr_0.5 \n",
    "\n",
    "        perf = performance(pred_obj,\"fpr\")\n",
    "        fpr_0.5 = perf@y.values[[1]][max(which(perf@x.values[[1]] >= 0.5))] # fpr_0.5 \n",
    "\n",
    "        perf = performance(pred_obj,\"fnr\")\n",
    "        fnr_0.5 = perf@y.values[[1]][max(which(perf@x.values[[1]] >= 0.5))] # fnr_0.5 \n",
    "\n",
    "        auc = NA\n",
    "        aucpr = NA\n",
    "        tryCatch(\n",
    "        {auc = performance(pred_obj,\"auc\")@y.values[[1]]\n",
    "        aucpr = performance(pred_obj,\"aucpr\")@y.values[[1]]},\n",
    "    error = function(e){\n",
    "        # (Optional)\n",
    "        # Do this at the end before quitting the tryCatch structure...\n",
    "    })\n",
    "        \n",
    "        output2[i,] <- c(tld_registrar, obs_count, na_count, TP, TN, P, N, acc_0.5, tpr_0.5, tnr_0.5, fpr_0.5, fnr_0.5, auc, aucpr )\n",
    "    } else {\n",
    "        output2[i,] <- c(tld_registrar, obs_count, na_count, rep (NA,11))\n",
    "    } \n",
    "}"
   ]
  },
  {
   "cell_type": "code",
   "execution_count": 133,
   "metadata": {},
   "outputs": [],
   "source": [
    "ranger_03_perf_df <- data.frame(output2) #%>% drop_na()\n",
    "names(ranger_03_perf_df) <- c('tld_reg', 'obs_count', 'na_count', 'TP', 'TN','P', 'N', 'acc_0.5', 'tpr_0.5', 'tnr_0.5', 'fpr_0.5', 'fnr_0.5', 'auc', 'aucpr')"
   ]
  },
  {
   "cell_type": "code",
   "execution_count": 134,
   "metadata": {},
   "outputs": [
    {
     "data": {
      "text/html": [
       "<table>\n",
       "<caption>A data.frame: 15 × 4</caption>\n",
       "<thead>\n",
       "\t<tr><th></th><th scope=col>tld_reg</th><th scope=col>obs_count</th><th scope=col>na_count</th><th scope=col>aucpr</th></tr>\n",
       "\t<tr><th></th><th scope=col>&lt;fct&gt;</th><th scope=col>&lt;fct&gt;</th><th scope=col>&lt;fct&gt;</th><th scope=col>&lt;fct&gt;</th></tr>\n",
       "</thead>\n",
       "<tbody>\n",
       "\t<tr><th scope=row>1</th><td>sitezhengzhou century connect</td><td>5854 </td><td>0</td><td>1                 </td></tr>\n",
       "\t<tr><th scope=row>2</th><td>funchengdu west              </td><td>5662 </td><td>0</td><td>0.551912659989666 </td></tr>\n",
       "\t<tr><th scope=row>3</th><td>siteonlinenic                </td><td>6220 </td><td>0</td><td>0.337092731829574 </td></tr>\n",
       "\t<tr><th scope=row>4</th><td>onlinego daddy               </td><td>10685</td><td>0</td><td>0.311666177099674 </td></tr>\n",
       "\t<tr><th scope=row>5</th><td>spacego daddy                </td><td>5169 </td><td>0</td><td>0.210300015208934 </td></tr>\n",
       "\t<tr><th scope=row>6</th><td>onlinenamecheap              </td><td>6611 </td><td>0</td><td>0.194342858017378 </td></tr>\n",
       "\t<tr><th scope=row>7</th><td>sitegandi sas                </td><td>8719 </td><td>0</td><td>0.15996959096145  </td></tr>\n",
       "\t<tr><th scope=row>8</th><td>funnamecheap                 </td><td>4765 </td><td>0</td><td>0.120290980815913 </td></tr>\n",
       "\t<tr><th scope=row>9</th><td>websitenamecheap             </td><td>5096 </td><td>0</td><td>0.114914633977908 </td></tr>\n",
       "\t<tr><th scope=row>10</th><td>hostnamecheap                </td><td>5979 </td><td>0</td><td>0.102089580233375 </td></tr>\n",
       "\t<tr><th scope=row>11</th><td>funalibaba                   </td><td>18208</td><td>0</td><td>0.0869117904386394</td></tr>\n",
       "\t<tr><th scope=row>12</th><td>pwnamecheap                  </td><td>12631</td><td>0</td><td>0.0861721957876115</td></tr>\n",
       "\t<tr><th scope=row>13</th><td>sitenamecheap                </td><td>13362</td><td>0</td><td>0.0701116534719986</td></tr>\n",
       "\t<tr><th scope=row>14</th><td>sitereg.ru                   </td><td>6986 </td><td>0</td><td>0.0430362384520553</td></tr>\n",
       "\t<tr><th scope=row>15</th><td>sitegmo                      </td><td>28066</td><td>0</td><td>0.0420925307836172</td></tr>\n",
       "</tbody>\n",
       "</table>\n"
      ],
      "text/latex": [
       "A data.frame: 15 × 4\n",
       "\\begin{tabular}{r|llll}\n",
       "  & tld\\_reg & obs\\_count & na\\_count & aucpr\\\\\n",
       "  & <fct> & <fct> & <fct> & <fct>\\\\\n",
       "\\hline\n",
       "\t1 & sitezhengzhou century connect & 5854  & 0 & 1                 \\\\\n",
       "\t2 & funchengdu west               & 5662  & 0 & 0.551912659989666 \\\\\n",
       "\t3 & siteonlinenic                 & 6220  & 0 & 0.337092731829574 \\\\\n",
       "\t4 & onlinego daddy                & 10685 & 0 & 0.311666177099674 \\\\\n",
       "\t5 & spacego daddy                 & 5169  & 0 & 0.210300015208934 \\\\\n",
       "\t6 & onlinenamecheap               & 6611  & 0 & 0.194342858017378 \\\\\n",
       "\t7 & sitegandi sas                 & 8719  & 0 & 0.15996959096145  \\\\\n",
       "\t8 & funnamecheap                  & 4765  & 0 & 0.120290980815913 \\\\\n",
       "\t9 & websitenamecheap              & 5096  & 0 & 0.114914633977908 \\\\\n",
       "\t10 & hostnamecheap                 & 5979  & 0 & 0.102089580233375 \\\\\n",
       "\t11 & funalibaba                    & 18208 & 0 & 0.0869117904386394\\\\\n",
       "\t12 & pwnamecheap                   & 12631 & 0 & 0.0861721957876115\\\\\n",
       "\t13 & sitenamecheap                 & 13362 & 0 & 0.0701116534719986\\\\\n",
       "\t14 & sitereg.ru                    & 6986  & 0 & 0.0430362384520553\\\\\n",
       "\t15 & sitegmo                       & 28066 & 0 & 0.0420925307836172\\\\\n",
       "\\end{tabular}\n"
      ],
      "text/markdown": [
       "\n",
       "A data.frame: 15 × 4\n",
       "\n",
       "| <!--/--> | tld_reg &lt;fct&gt; | obs_count &lt;fct&gt; | na_count &lt;fct&gt; | aucpr &lt;fct&gt; |\n",
       "|---|---|---|---|---|\n",
       "| 1 | sitezhengzhou century connect | 5854  | 0 | 1                  |\n",
       "| 2 | funchengdu west               | 5662  | 0 | 0.551912659989666  |\n",
       "| 3 | siteonlinenic                 | 6220  | 0 | 0.337092731829574  |\n",
       "| 4 | onlinego daddy                | 10685 | 0 | 0.311666177099674  |\n",
       "| 5 | spacego daddy                 | 5169  | 0 | 0.210300015208934  |\n",
       "| 6 | onlinenamecheap               | 6611  | 0 | 0.194342858017378  |\n",
       "| 7 | sitegandi sas                 | 8719  | 0 | 0.15996959096145   |\n",
       "| 8 | funnamecheap                  | 4765  | 0 | 0.120290980815913  |\n",
       "| 9 | websitenamecheap              | 5096  | 0 | 0.114914633977908  |\n",
       "| 10 | hostnamecheap                 | 5979  | 0 | 0.102089580233375  |\n",
       "| 11 | funalibaba                    | 18208 | 0 | 0.0869117904386394 |\n",
       "| 12 | pwnamecheap                   | 12631 | 0 | 0.0861721957876115 |\n",
       "| 13 | sitenamecheap                 | 13362 | 0 | 0.0701116534719986 |\n",
       "| 14 | sitereg.ru                    | 6986  | 0 | 0.0430362384520553 |\n",
       "| 15 | sitegmo                       | 28066 | 0 | 0.0420925307836172 |\n",
       "\n"
      ],
      "text/plain": [
       "   tld_reg                       obs_count na_count aucpr             \n",
       "1  sitezhengzhou century connect 5854      0        1                 \n",
       "2  funchengdu west               5662      0        0.551912659989666 \n",
       "3  siteonlinenic                 6220      0        0.337092731829574 \n",
       "4  onlinego daddy                10685     0        0.311666177099674 \n",
       "5  spacego daddy                 5169      0        0.210300015208934 \n",
       "6  onlinenamecheap               6611      0        0.194342858017378 \n",
       "7  sitegandi sas                 8719      0        0.15996959096145  \n",
       "8  funnamecheap                  4765      0        0.120290980815913 \n",
       "9  websitenamecheap              5096      0        0.114914633977908 \n",
       "10 hostnamecheap                 5979      0        0.102089580233375 \n",
       "11 funalibaba                    18208     0        0.0869117904386394\n",
       "12 pwnamecheap                   12631     0        0.0861721957876115\n",
       "13 sitenamecheap                 13362     0        0.0701116534719986\n",
       "14 sitereg.ru                    6986      0        0.0430362384520553\n",
       "15 sitegmo                       28066     0        0.0420925307836172"
      ]
     },
     "metadata": {},
     "output_type": "display_data"
    }
   ],
   "source": [
    "ranger_03_perf_df %>% arrange(desc(aucpr)) %>% select(tld_reg,obs_count,na_count,aucpr)  %>% head(30)"
   ]
  },
  {
   "cell_type": "code",
   "execution_count": 143,
   "metadata": {},
   "outputs": [],
   "source": [
    "ranger_results_sub <- ranger_results %>% filter((tld_registrar_index %in% tld_registrars))\n",
    "pred_df = data.frame(\"actual\" = ranger_results_sub$renewal_status,\n",
    "          \"predicted\" = ranger_results_sub$predicted)\n",
    "\n",
    "lift_df <- chart_lift(pred_df = pred_df,\n",
    "                        dep_var = \"actual\",\n",
    "                        pred_var = \"predicted\")\n",
    "gains_plot <- plot_gains (lift_df) \n",
    "auc <- calc_auc(lift_df)"
   ]
  },
  {
   "cell_type": "code",
   "execution_count": 144,
   "metadata": {},
   "outputs": [
    {
     "data": {
      "text/html": [
       "0.681314134392585"
      ],
      "text/latex": [
       "0.681314134392585"
      ],
      "text/markdown": [
       "0.681314134392585"
      ],
      "text/plain": [
       "[1] 0.6813141"
      ]
     },
     "metadata": {},
     "output_type": "display_data"
    }
   ],
   "source": [
    "auc"
   ]
  },
  {
   "cell_type": "code",
   "execution_count": 146,
   "metadata": {},
   "outputs": [
    {
     "data": {
      "text/html": [
       "<table>\n",
       "<caption>A data.frame: 10 × 4</caption>\n",
       "<thead>\n",
       "\t<tr><th scope=col>P</th><th scope=col>actu_renwd2</th><th scope=col>gain</th><th scope=col>lift</th></tr>\n",
       "\t<tr><th scope=col>&lt;dbl&gt;</th><th scope=col>&lt;int&gt;</th><th scope=col>&lt;dbl&gt;</th><th scope=col>&lt;dbl&gt;</th></tr>\n",
       "</thead>\n",
       "<tbody>\n",
       "\t<tr><td>0.1</td><td>1396</td><td>0.2310493</td><td>2.310493</td></tr>\n",
       "\t<tr><td>0.2</td><td>2387</td><td>0.3950679</td><td>1.975339</td></tr>\n",
       "\t<tr><td>0.3</td><td>3216</td><td>0.5322741</td><td>1.774247</td></tr>\n",
       "\t<tr><td>0.4</td><td>3945</td><td>0.6529295</td><td>1.632324</td></tr>\n",
       "\t<tr><td>0.5</td><td>4508</td><td>0.7461106</td><td>1.492221</td></tr>\n",
       "\t<tr><td>0.6</td><td>5065</td><td>0.8382986</td><td>1.397164</td></tr>\n",
       "\t<tr><td>0.7</td><td>5658</td><td>0.9364449</td><td>1.337778</td></tr>\n",
       "\t<tr><td>0.8</td><td>5948</td><td>0.9844422</td><td>1.230553</td></tr>\n",
       "\t<tr><td>0.9</td><td>6021</td><td>0.9965243</td><td>1.107249</td></tr>\n",
       "\t<tr><td>1.0</td><td>6042</td><td>1.0000000</td><td>1.000000</td></tr>\n",
       "</tbody>\n",
       "</table>\n"
      ],
      "text/latex": [
       "A data.frame: 10 × 4\n",
       "\\begin{tabular}{llll}\n",
       " P & actu\\_renwd2 & gain & lift\\\\\n",
       " <dbl> & <int> & <dbl> & <dbl>\\\\\n",
       "\\hline\n",
       "\t 0.1 & 1396 & 0.2310493 & 2.310493\\\\\n",
       "\t 0.2 & 2387 & 0.3950679 & 1.975339\\\\\n",
       "\t 0.3 & 3216 & 0.5322741 & 1.774247\\\\\n",
       "\t 0.4 & 3945 & 0.6529295 & 1.632324\\\\\n",
       "\t 0.5 & 4508 & 0.7461106 & 1.492221\\\\\n",
       "\t 0.6 & 5065 & 0.8382986 & 1.397164\\\\\n",
       "\t 0.7 & 5658 & 0.9364449 & 1.337778\\\\\n",
       "\t 0.8 & 5948 & 0.9844422 & 1.230553\\\\\n",
       "\t 0.9 & 6021 & 0.9965243 & 1.107249\\\\\n",
       "\t 1.0 & 6042 & 1.0000000 & 1.000000\\\\\n",
       "\\end{tabular}\n"
      ],
      "text/markdown": [
       "\n",
       "A data.frame: 10 × 4\n",
       "\n",
       "| P &lt;dbl&gt; | actu_renwd2 &lt;int&gt; | gain &lt;dbl&gt; | lift &lt;dbl&gt; |\n",
       "|---|---|---|---|\n",
       "| 0.1 | 1396 | 0.2310493 | 2.310493 |\n",
       "| 0.2 | 2387 | 0.3950679 | 1.975339 |\n",
       "| 0.3 | 3216 | 0.5322741 | 1.774247 |\n",
       "| 0.4 | 3945 | 0.6529295 | 1.632324 |\n",
       "| 0.5 | 4508 | 0.7461106 | 1.492221 |\n",
       "| 0.6 | 5065 | 0.8382986 | 1.397164 |\n",
       "| 0.7 | 5658 | 0.9364449 | 1.337778 |\n",
       "| 0.8 | 5948 | 0.9844422 | 1.230553 |\n",
       "| 0.9 | 6021 | 0.9965243 | 1.107249 |\n",
       "| 1.0 | 6042 | 1.0000000 | 1.000000 |\n",
       "\n"
      ],
      "text/plain": [
       "   P   actu_renwd2 gain      lift    \n",
       "1  0.1 1396        0.2310493 2.310493\n",
       "2  0.2 2387        0.3950679 1.975339\n",
       "3  0.3 3216        0.5322741 1.774247\n",
       "4  0.4 3945        0.6529295 1.632324\n",
       "5  0.5 4508        0.7461106 1.492221\n",
       "6  0.6 5065        0.8382986 1.397164\n",
       "7  0.7 5658        0.9364449 1.337778\n",
       "8  0.8 5948        0.9844422 1.230553\n",
       "9  0.9 6021        0.9965243 1.107249\n",
       "10 1.0 6042        1.0000000 1.000000"
      ]
     },
     "metadata": {},
     "output_type": "display_data"
    }
   ],
   "source": [
    "lift_df"
   ]
  },
  {
   "cell_type": "code",
   "execution_count": null,
   "metadata": {},
   "outputs": [],
   "source": []
  },
  {
   "cell_type": "markdown",
   "metadata": {},
   "source": [
    "# Combine two performance dfs"
   ]
  },
  {
   "cell_type": "code",
   "execution_count": 135,
   "metadata": {},
   "outputs": [
    {
     "data": {
      "text/html": [
       "<style>\n",
       ".list-inline {list-style: none; margin:0; padding: 0}\n",
       ".list-inline>li {display: inline-block}\n",
       ".list-inline>li:not(:last-child)::after {content: \"\\00b7\"; padding: 0 .5ex}\n",
       "</style>\n",
       "<ol class=list-inline><li>15</li><li>1</li></ol>\n"
      ],
      "text/latex": [
       "\\begin{enumerate*}\n",
       "\\item 15\n",
       "\\item 1\n",
       "\\end{enumerate*}\n"
      ],
      "text/markdown": [
       "1. 15\n",
       "2. 1\n",
       "\n",
       "\n"
      ],
      "text/plain": [
       "[1] 15  1"
      ]
     },
     "metadata": {},
     "output_type": "display_data"
    },
    {
     "data": {
      "text/html": [
       "<table>\n",
       "<caption>A data.frame: 6 × 1</caption>\n",
       "<thead>\n",
       "\t<tr><th></th><th scope=col>tld_reg</th></tr>\n",
       "\t<tr><th></th><th scope=col>&lt;fct&gt;</th></tr>\n",
       "</thead>\n",
       "<tbody>\n",
       "\t<tr><th scope=row>1</th><td>sitegmo       </td></tr>\n",
       "\t<tr><th scope=row>2</th><td>funalibaba    </td></tr>\n",
       "\t<tr><th scope=row>3</th><td>sitenamecheap </td></tr>\n",
       "\t<tr><th scope=row>4</th><td>pwnamecheap   </td></tr>\n",
       "\t<tr><th scope=row>5</th><td>onlinego daddy</td></tr>\n",
       "\t<tr><th scope=row>6</th><td>sitegandi sas </td></tr>\n",
       "</tbody>\n",
       "</table>\n"
      ],
      "text/latex": [
       "A data.frame: 6 × 1\n",
       "\\begin{tabular}{r|l}\n",
       "  & tld\\_reg\\\\\n",
       "  & <fct>\\\\\n",
       "\\hline\n",
       "\t1 & sitegmo       \\\\\n",
       "\t2 & funalibaba    \\\\\n",
       "\t3 & sitenamecheap \\\\\n",
       "\t4 & pwnamecheap   \\\\\n",
       "\t5 & onlinego daddy\\\\\n",
       "\t6 & sitegandi sas \\\\\n",
       "\\end{tabular}\n"
      ],
      "text/markdown": [
       "\n",
       "A data.frame: 6 × 1\n",
       "\n",
       "| <!--/--> | tld_reg &lt;fct&gt; |\n",
       "|---|---|\n",
       "| 1 | sitegmo        |\n",
       "| 2 | funalibaba     |\n",
       "| 3 | sitenamecheap  |\n",
       "| 4 | pwnamecheap    |\n",
       "| 5 | onlinego daddy |\n",
       "| 6 | sitegandi sas  |\n",
       "\n"
      ],
      "text/plain": [
       "  tld_reg       \n",
       "1 sitegmo       \n",
       "2 funalibaba    \n",
       "3 sitenamecheap \n",
       "4 pwnamecheap   \n",
       "5 onlinego daddy\n",
       "6 sitegandi sas "
      ]
     },
     "metadata": {},
     "output_type": "display_data"
    }
   ],
   "source": [
    "registrars = data.frame(tld_registrars)\n",
    "names(registrars) <- \"tld_reg\"\n",
    "dim(registrars)\n",
    "head(registrars)"
   ]
  },
  {
   "cell_type": "code",
   "execution_count": 136,
   "metadata": {},
   "outputs": [
    {
     "data": {
      "text/html": [
       "<style>\n",
       ".list-inline {list-style: none; margin:0; padding: 0}\n",
       ".list-inline>li {display: inline-block}\n",
       ".list-inline>li:not(:last-child)::after {content: \"\\00b7\"; padding: 0 .5ex}\n",
       "</style>\n",
       "<ol class=list-inline><li>15</li><li>14</li></ol>\n"
      ],
      "text/latex": [
       "\\begin{enumerate*}\n",
       "\\item 15\n",
       "\\item 14\n",
       "\\end{enumerate*}\n"
      ],
      "text/markdown": [
       "1. 15\n",
       "2. 14\n",
       "\n",
       "\n"
      ],
      "text/plain": [
       "[1] 15 14"
      ]
     },
     "metadata": {},
     "output_type": "display_data"
    },
    {
     "data": {
      "text/html": [
       "<table>\n",
       "<caption>A data.frame: 6 × 14</caption>\n",
       "<thead>\n",
       "\t<tr><th></th><th scope=col>tld_reg</th><th scope=col>obs_count</th><th scope=col>na_count</th><th scope=col>TP</th><th scope=col>TN</th><th scope=col>P</th><th scope=col>N</th><th scope=col>acc_0.5</th><th scope=col>tpr_0.5</th><th scope=col>tnr_0.5</th><th scope=col>fpr_0.5</th><th scope=col>fnr_0.5</th><th scope=col>auc</th><th scope=col>aucpr</th></tr>\n",
       "\t<tr><th></th><th scope=col>&lt;fct&gt;</th><th scope=col>&lt;fct&gt;</th><th scope=col>&lt;fct&gt;</th><th scope=col>&lt;fct&gt;</th><th scope=col>&lt;fct&gt;</th><th scope=col>&lt;fct&gt;</th><th scope=col>&lt;fct&gt;</th><th scope=col>&lt;fct&gt;</th><th scope=col>&lt;fct&gt;</th><th scope=col>&lt;fct&gt;</th><th scope=col>&lt;fct&gt;</th><th scope=col>&lt;fct&gt;</th><th scope=col>&lt;fct&gt;</th><th scope=col>&lt;fct&gt;</th></tr>\n",
       "</thead>\n",
       "<tbody>\n",
       "\t<tr><th scope=row>1</th><td>sitegmo       </td><td>28066</td><td>0</td><td>6  </td><td>27228</td><td>837 </td><td>27229</td><td>0.970355590394071</td><td>0.00716845878136201</td><td>0.999963274450035</td><td>3.67255499651107e-05</td><td>0.992831541218638</td><td>0.595170401505913</td><td>0.0420925307836172</td></tr>\n",
       "\t<tr><th scope=row>2</th><td>funalibaba    </td><td>18208</td><td>0</td><td>1  </td><td>17993</td><td>215 </td><td>17993</td><td>0.988246924428822</td><td>0.00465116279069767</td><td>1                </td><td>0                   </td><td>0.995348837209302</td><td>0.883730236177172</td><td>0.0869117904386394</td></tr>\n",
       "\t<tr><th scope=row>3</th><td>sitenamecheap </td><td>13362</td><td>0</td><td>5  </td><td>12797</td><td>557 </td><td>12805</td><td>0.958090106271516</td><td>0.00897666068222621</td><td>0.999375244045295</td><td>0.000624755954705193</td><td>0.991023339317774</td><td>0.633626269473673</td><td>0.0701116534719986</td></tr>\n",
       "\t<tr><th scope=row>4</th><td>pwnamecheap   </td><td>12631</td><td>0</td><td>0  </td><td>12374</td><td>253 </td><td>12378</td><td>0.979653234106563</td><td>0                  </td><td>0.999676846017127</td><td>0.000323153982872839</td><td>1                </td><td>0.727459850033551</td><td>0.0861721957876115</td></tr>\n",
       "\t<tr><th scope=row>5</th><td>onlinego daddy</td><td>10685</td><td>0</td><td>148</td><td>8711 </td><td>1859</td><td>8826 </td><td>0.829106223678053</td><td>0.0796126949973104 </td><td>0.986970314978473</td><td>0.0130296850215273  </td><td>0.92038730500269 </td><td>0.592409103037665</td><td>0.311666177099674 </td></tr>\n",
       "\t<tr><th scope=row>6</th><td>sitegandi sas </td><td>8719 </td><td>0</td><td>0  </td><td>8571 </td><td>148 </td><td>8571 </td><td>0.98302557632756 </td><td>0                  </td><td>1                </td><td>0                   </td><td>1                </td><td>0.944870666956771</td><td>0.15996959096145  </td></tr>\n",
       "</tbody>\n",
       "</table>\n"
      ],
      "text/latex": [
       "A data.frame: 6 × 14\n",
       "\\begin{tabular}{r|llllllllllllll}\n",
       "  & tld\\_reg & obs\\_count & na\\_count & TP & TN & P & N & acc\\_0.5 & tpr\\_0.5 & tnr\\_0.5 & fpr\\_0.5 & fnr\\_0.5 & auc & aucpr\\\\\n",
       "  & <fct> & <fct> & <fct> & <fct> & <fct> & <fct> & <fct> & <fct> & <fct> & <fct> & <fct> & <fct> & <fct> & <fct>\\\\\n",
       "\\hline\n",
       "\t1 & sitegmo        & 28066 & 0 & 6   & 27228 & 837  & 27229 & 0.970355590394071 & 0.00716845878136201 & 0.999963274450035 & 3.67255499651107e-05 & 0.992831541218638 & 0.595170401505913 & 0.0420925307836172\\\\\n",
       "\t2 & funalibaba     & 18208 & 0 & 1   & 17993 & 215  & 17993 & 0.988246924428822 & 0.00465116279069767 & 1                 & 0                    & 0.995348837209302 & 0.883730236177172 & 0.0869117904386394\\\\\n",
       "\t3 & sitenamecheap  & 13362 & 0 & 5   & 12797 & 557  & 12805 & 0.958090106271516 & 0.00897666068222621 & 0.999375244045295 & 0.000624755954705193 & 0.991023339317774 & 0.633626269473673 & 0.0701116534719986\\\\\n",
       "\t4 & pwnamecheap    & 12631 & 0 & 0   & 12374 & 253  & 12378 & 0.979653234106563 & 0                   & 0.999676846017127 & 0.000323153982872839 & 1                 & 0.727459850033551 & 0.0861721957876115\\\\\n",
       "\t5 & onlinego daddy & 10685 & 0 & 148 & 8711  & 1859 & 8826  & 0.829106223678053 & 0.0796126949973104  & 0.986970314978473 & 0.0130296850215273   & 0.92038730500269  & 0.592409103037665 & 0.311666177099674 \\\\\n",
       "\t6 & sitegandi sas  & 8719  & 0 & 0   & 8571  & 148  & 8571  & 0.98302557632756  & 0                   & 1                 & 0                    & 1                 & 0.944870666956771 & 0.15996959096145  \\\\\n",
       "\\end{tabular}\n"
      ],
      "text/markdown": [
       "\n",
       "A data.frame: 6 × 14\n",
       "\n",
       "| <!--/--> | tld_reg &lt;fct&gt; | obs_count &lt;fct&gt; | na_count &lt;fct&gt; | TP &lt;fct&gt; | TN &lt;fct&gt; | P &lt;fct&gt; | N &lt;fct&gt; | acc_0.5 &lt;fct&gt; | tpr_0.5 &lt;fct&gt; | tnr_0.5 &lt;fct&gt; | fpr_0.5 &lt;fct&gt; | fnr_0.5 &lt;fct&gt; | auc &lt;fct&gt; | aucpr &lt;fct&gt; |\n",
       "|---|---|---|---|---|---|---|---|---|---|---|---|---|---|---|\n",
       "| 1 | sitegmo        | 28066 | 0 | 6   | 27228 | 837  | 27229 | 0.970355590394071 | 0.00716845878136201 | 0.999963274450035 | 3.67255499651107e-05 | 0.992831541218638 | 0.595170401505913 | 0.0420925307836172 |\n",
       "| 2 | funalibaba     | 18208 | 0 | 1   | 17993 | 215  | 17993 | 0.988246924428822 | 0.00465116279069767 | 1                 | 0                    | 0.995348837209302 | 0.883730236177172 | 0.0869117904386394 |\n",
       "| 3 | sitenamecheap  | 13362 | 0 | 5   | 12797 | 557  | 12805 | 0.958090106271516 | 0.00897666068222621 | 0.999375244045295 | 0.000624755954705193 | 0.991023339317774 | 0.633626269473673 | 0.0701116534719986 |\n",
       "| 4 | pwnamecheap    | 12631 | 0 | 0   | 12374 | 253  | 12378 | 0.979653234106563 | 0                   | 0.999676846017127 | 0.000323153982872839 | 1                 | 0.727459850033551 | 0.0861721957876115 |\n",
       "| 5 | onlinego daddy | 10685 | 0 | 148 | 8711  | 1859 | 8826  | 0.829106223678053 | 0.0796126949973104  | 0.986970314978473 | 0.0130296850215273   | 0.92038730500269  | 0.592409103037665 | 0.311666177099674  |\n",
       "| 6 | sitegandi sas  | 8719  | 0 | 0   | 8571  | 148  | 8571  | 0.98302557632756  | 0                   | 1                 | 0                    | 1                 | 0.944870666956771 | 0.15996959096145   |\n",
       "\n"
      ],
      "text/plain": [
       "  tld_reg        obs_count na_count TP  TN    P    N     acc_0.5          \n",
       "1 sitegmo        28066     0        6   27228 837  27229 0.970355590394071\n",
       "2 funalibaba     18208     0        1   17993 215  17993 0.988246924428822\n",
       "3 sitenamecheap  13362     0        5   12797 557  12805 0.958090106271516\n",
       "4 pwnamecheap    12631     0        0   12374 253  12378 0.979653234106563\n",
       "5 onlinego daddy 10685     0        148 8711  1859 8826  0.829106223678053\n",
       "6 sitegandi sas  8719      0        0   8571  148  8571  0.98302557632756 \n",
       "  tpr_0.5             tnr_0.5           fpr_0.5              fnr_0.5          \n",
       "1 0.00716845878136201 0.999963274450035 3.67255499651107e-05 0.992831541218638\n",
       "2 0.00465116279069767 1                 0                    0.995348837209302\n",
       "3 0.00897666068222621 0.999375244045295 0.000624755954705193 0.991023339317774\n",
       "4 0                   0.999676846017127 0.000323153982872839 1                \n",
       "5 0.0796126949973104  0.986970314978473 0.0130296850215273   0.92038730500269 \n",
       "6 0                   1                 0                    1                \n",
       "  auc               aucpr             \n",
       "1 0.595170401505913 0.0420925307836172\n",
       "2 0.883730236177172 0.0869117904386394\n",
       "3 0.633626269473673 0.0701116534719986\n",
       "4 0.727459850033551 0.0861721957876115\n",
       "5 0.592409103037665 0.311666177099674 \n",
       "6 0.944870666956771 0.15996959096145  "
      ]
     },
     "metadata": {},
     "output_type": "display_data"
    }
   ],
   "source": [
    "dim(ranger_03_perf_df)\n",
    "head(ranger_03_perf_df)"
   ]
  },
  {
   "cell_type": "code",
   "execution_count": 137,
   "metadata": {},
   "outputs": [
    {
     "data": {
      "text/html": [
       "<style>\n",
       ".list-inline {list-style: none; margin:0; padding: 0}\n",
       ".list-inline>li {display: inline-block}\n",
       ".list-inline>li:not(:last-child)::after {content: \"\\00b7\"; padding: 0 .5ex}\n",
       "</style>\n",
       "<ol class=list-inline><li>15</li><li>14</li></ol>\n"
      ],
      "text/latex": [
       "\\begin{enumerate*}\n",
       "\\item 15\n",
       "\\item 14\n",
       "\\end{enumerate*}\n"
      ],
      "text/markdown": [
       "1. 15\n",
       "2. 14\n",
       "\n",
       "\n"
      ],
      "text/plain": [
       "[1] 15 14"
      ]
     },
     "metadata": {},
     "output_type": "display_data"
    },
    {
     "data": {
      "text/html": [
       "<table>\n",
       "<caption>A data.frame: 6 × 14</caption>\n",
       "<thead>\n",
       "\t<tr><th></th><th scope=col>tld_reg</th><th scope=col>obs_count</th><th scope=col>na_count</th><th scope=col>TP</th><th scope=col>TN</th><th scope=col>P</th><th scope=col>N</th><th scope=col>acc_0.5</th><th scope=col>tpr_0.5</th><th scope=col>tnr_0.5</th><th scope=col>fpr_0.5</th><th scope=col>fnr_0.5</th><th scope=col>auc</th><th scope=col>aucpr</th></tr>\n",
       "\t<tr><th></th><th scope=col>&lt;fct&gt;</th><th scope=col>&lt;fct&gt;</th><th scope=col>&lt;fct&gt;</th><th scope=col>&lt;fct&gt;</th><th scope=col>&lt;fct&gt;</th><th scope=col>&lt;fct&gt;</th><th scope=col>&lt;fct&gt;</th><th scope=col>&lt;fct&gt;</th><th scope=col>&lt;fct&gt;</th><th scope=col>&lt;fct&gt;</th><th scope=col>&lt;fct&gt;</th><th scope=col>&lt;fct&gt;</th><th scope=col>&lt;fct&gt;</th><th scope=col>&lt;fct&gt;</th></tr>\n",
       "</thead>\n",
       "<tbody>\n",
       "\t<tr><th scope=row>1</th><td>sitegmo       </td><td>26419</td><td>0</td><td>10 </td><td>25739</td><td>646 </td><td>25773</td><td>0.974639464022105</td><td>0.0154798761609907 </td><td>0.998680789974004</td><td>0.0013192100259962  </td><td>0.984520123839009</td><td>0.919756515536533</td><td>0.256579851350292 </td></tr>\n",
       "\t<tr><th scope=row>2</th><td>funalibaba    </td><td>18208</td><td>0</td><td>1  </td><td>17993</td><td>215 </td><td>17993</td><td>0.988246924428822</td><td>0.00465116279069767</td><td>1                </td><td>0                   </td><td>0.995348837209302</td><td>0.839255059138015</td><td>0.0759749781436754</td></tr>\n",
       "\t<tr><th scope=row>3</th><td>sitenamecheap </td><td>13362</td><td>0</td><td>0  </td><td>12803</td><td>557 </td><td>12805</td><td>0.95816494536746 </td><td>0                  </td><td>0.999843811011324</td><td>0.000156188988676298</td><td>1                </td><td>0.698464258449285</td><td>0.0907543770656836</td></tr>\n",
       "\t<tr><th scope=row>4</th><td>pwnamecheap   </td><td>12631</td><td>0</td><td>2  </td><td>12377</td><td>253 </td><td>12378</td><td>0.980049085583089</td><td>0.00790513833992095</td><td>0.999919211504282</td><td>8.07884957182097e-05</td><td>0.992094861660079</td><td>0.73713275561578 </td><td>0.09895867199366  </td></tr>\n",
       "\t<tr><th scope=row>5</th><td>onlinego daddy</td><td>10685</td><td>0</td><td>274</td><td>8625 </td><td>1859</td><td>8826 </td><td>0.832849789424427</td><td>0.147391070467994  </td><td>0.977226376614548</td><td>0.0227736233854521  </td><td>0.852608929532007</td><td>0.684376914897762</td><td>0.353545012697168 </td></tr>\n",
       "\t<tr><th scope=row>6</th><td>sitegandi sas </td><td>8719 </td><td>0</td><td>0  </td><td>8571 </td><td>148 </td><td>8571 </td><td>0.98302557632756 </td><td>0                  </td><td>1                </td><td>0                   </td><td>1                </td><td>0.928636634534472</td><td>0.129532383035908 </td></tr>\n",
       "</tbody>\n",
       "</table>\n"
      ],
      "text/latex": [
       "A data.frame: 6 × 14\n",
       "\\begin{tabular}{r|llllllllllllll}\n",
       "  & tld\\_reg & obs\\_count & na\\_count & TP & TN & P & N & acc\\_0.5 & tpr\\_0.5 & tnr\\_0.5 & fpr\\_0.5 & fnr\\_0.5 & auc & aucpr\\\\\n",
       "  & <fct> & <fct> & <fct> & <fct> & <fct> & <fct> & <fct> & <fct> & <fct> & <fct> & <fct> & <fct> & <fct> & <fct>\\\\\n",
       "\\hline\n",
       "\t1 & sitegmo        & 26419 & 0 & 10  & 25739 & 646  & 25773 & 0.974639464022105 & 0.0154798761609907  & 0.998680789974004 & 0.0013192100259962   & 0.984520123839009 & 0.919756515536533 & 0.256579851350292 \\\\\n",
       "\t2 & funalibaba     & 18208 & 0 & 1   & 17993 & 215  & 17993 & 0.988246924428822 & 0.00465116279069767 & 1                 & 0                    & 0.995348837209302 & 0.839255059138015 & 0.0759749781436754\\\\\n",
       "\t3 & sitenamecheap  & 13362 & 0 & 0   & 12803 & 557  & 12805 & 0.95816494536746  & 0                   & 0.999843811011324 & 0.000156188988676298 & 1                 & 0.698464258449285 & 0.0907543770656836\\\\\n",
       "\t4 & pwnamecheap    & 12631 & 0 & 2   & 12377 & 253  & 12378 & 0.980049085583089 & 0.00790513833992095 & 0.999919211504282 & 8.07884957182097e-05 & 0.992094861660079 & 0.73713275561578  & 0.09895867199366  \\\\\n",
       "\t5 & onlinego daddy & 10685 & 0 & 274 & 8625  & 1859 & 8826  & 0.832849789424427 & 0.147391070467994   & 0.977226376614548 & 0.0227736233854521   & 0.852608929532007 & 0.684376914897762 & 0.353545012697168 \\\\\n",
       "\t6 & sitegandi sas  & 8719  & 0 & 0   & 8571  & 148  & 8571  & 0.98302557632756  & 0                   & 1                 & 0                    & 1                 & 0.928636634534472 & 0.129532383035908 \\\\\n",
       "\\end{tabular}\n"
      ],
      "text/markdown": [
       "\n",
       "A data.frame: 6 × 14\n",
       "\n",
       "| <!--/--> | tld_reg &lt;fct&gt; | obs_count &lt;fct&gt; | na_count &lt;fct&gt; | TP &lt;fct&gt; | TN &lt;fct&gt; | P &lt;fct&gt; | N &lt;fct&gt; | acc_0.5 &lt;fct&gt; | tpr_0.5 &lt;fct&gt; | tnr_0.5 &lt;fct&gt; | fpr_0.5 &lt;fct&gt; | fnr_0.5 &lt;fct&gt; | auc &lt;fct&gt; | aucpr &lt;fct&gt; |\n",
       "|---|---|---|---|---|---|---|---|---|---|---|---|---|---|---|\n",
       "| 1 | sitegmo        | 26419 | 0 | 10  | 25739 | 646  | 25773 | 0.974639464022105 | 0.0154798761609907  | 0.998680789974004 | 0.0013192100259962   | 0.984520123839009 | 0.919756515536533 | 0.256579851350292  |\n",
       "| 2 | funalibaba     | 18208 | 0 | 1   | 17993 | 215  | 17993 | 0.988246924428822 | 0.00465116279069767 | 1                 | 0                    | 0.995348837209302 | 0.839255059138015 | 0.0759749781436754 |\n",
       "| 3 | sitenamecheap  | 13362 | 0 | 0   | 12803 | 557  | 12805 | 0.95816494536746  | 0                   | 0.999843811011324 | 0.000156188988676298 | 1                 | 0.698464258449285 | 0.0907543770656836 |\n",
       "| 4 | pwnamecheap    | 12631 | 0 | 2   | 12377 | 253  | 12378 | 0.980049085583089 | 0.00790513833992095 | 0.999919211504282 | 8.07884957182097e-05 | 0.992094861660079 | 0.73713275561578  | 0.09895867199366   |\n",
       "| 5 | onlinego daddy | 10685 | 0 | 274 | 8625  | 1859 | 8826  | 0.832849789424427 | 0.147391070467994   | 0.977226376614548 | 0.0227736233854521   | 0.852608929532007 | 0.684376914897762 | 0.353545012697168  |\n",
       "| 6 | sitegandi sas  | 8719  | 0 | 0   | 8571  | 148  | 8571  | 0.98302557632756  | 0                   | 1                 | 0                    | 1                 | 0.928636634534472 | 0.129532383035908  |\n",
       "\n"
      ],
      "text/plain": [
       "  tld_reg        obs_count na_count TP  TN    P    N     acc_0.5          \n",
       "1 sitegmo        26419     0        10  25739 646  25773 0.974639464022105\n",
       "2 funalibaba     18208     0        1   17993 215  17993 0.988246924428822\n",
       "3 sitenamecheap  13362     0        0   12803 557  12805 0.95816494536746 \n",
       "4 pwnamecheap    12631     0        2   12377 253  12378 0.980049085583089\n",
       "5 onlinego daddy 10685     0        274 8625  1859 8826  0.832849789424427\n",
       "6 sitegandi sas  8719      0        0   8571  148  8571  0.98302557632756 \n",
       "  tpr_0.5             tnr_0.5           fpr_0.5              fnr_0.5          \n",
       "1 0.0154798761609907  0.998680789974004 0.0013192100259962   0.984520123839009\n",
       "2 0.00465116279069767 1                 0                    0.995348837209302\n",
       "3 0                   0.999843811011324 0.000156188988676298 1                \n",
       "4 0.00790513833992095 0.999919211504282 8.07884957182097e-05 0.992094861660079\n",
       "5 0.147391070467994   0.977226376614548 0.0227736233854521   0.852608929532007\n",
       "6 0                   1                 0                    1                \n",
       "  auc               aucpr             \n",
       "1 0.919756515536533 0.256579851350292 \n",
       "2 0.839255059138015 0.0759749781436754\n",
       "3 0.698464258449285 0.0907543770656836\n",
       "4 0.73713275561578  0.09895867199366  \n",
       "5 0.684376914897762 0.353545012697168 \n",
       "6 0.928636634534472 0.129532383035908 "
      ]
     },
     "metadata": {},
     "output_type": "display_data"
    }
   ],
   "source": [
    "dim(seg_glm_perf_df)\n",
    "head(seg_glm_perf_df)"
   ]
  },
  {
   "cell_type": "code",
   "execution_count": null,
   "metadata": {},
   "outputs": [],
   "source": []
  },
  {
   "cell_type": "code",
   "execution_count": 138,
   "metadata": {},
   "outputs": [
    {
     "data": {
      "text/html": [
       "<style>\n",
       ".list-inline {list-style: none; margin:0; padding: 0}\n",
       ".list-inline>li {display: inline-block}\n",
       ".list-inline>li:not(:last-child)::after {content: \"\\00b7\"; padding: 0 .5ex}\n",
       "</style>\n",
       "<ol class=list-inline><li>15</li><li>27</li></ol>\n"
      ],
      "text/latex": [
       "\\begin{enumerate*}\n",
       "\\item 15\n",
       "\\item 27\n",
       "\\end{enumerate*}\n"
      ],
      "text/markdown": [
       "1. 15\n",
       "2. 27\n",
       "\n",
       "\n"
      ],
      "text/plain": [
       "[1] 15 27"
      ]
     },
     "metadata": {},
     "output_type": "display_data"
    },
    {
     "data": {
      "text/html": [
       "<table>\n",
       "<caption>A data.frame: 6 × 27</caption>\n",
       "<thead>\n",
       "\t<tr><th></th><th scope=col>tld_reg</th><th scope=col>obs_count_s</th><th scope=col>na_count_s</th><th scope=col>TP_s</th><th scope=col>TN_s</th><th scope=col>P_s</th><th scope=col>N_s</th><th scope=col>acc_0.5_s</th><th scope=col>tpr_0.5_s</th><th scope=col>tnr_0.5_s</th><th scope=col>fpr_0.5_s</th><th scope=col>fnr_0.5_s</th><th scope=col>auc_s</th><th scope=col>aucpr_s</th><th scope=col>obs_count_r</th><th scope=col>na_count_r</th><th scope=col>TP_r</th><th scope=col>TN_r</th><th scope=col>P_r</th><th scope=col>N_r</th><th scope=col>acc_0.5_r</th><th scope=col>tpr_0.5_r</th><th scope=col>tnr_0.5_r</th><th scope=col>fpr_0.5_r</th><th scope=col>fnr_0.5_r</th><th scope=col>auc_r</th><th scope=col>aucpr_r</th></tr>\n",
       "\t<tr><th></th><th scope=col>&lt;fct&gt;</th><th scope=col>&lt;dbl&gt;</th><th scope=col>&lt;dbl&gt;</th><th scope=col>&lt;dbl&gt;</th><th scope=col>&lt;dbl&gt;</th><th scope=col>&lt;dbl&gt;</th><th scope=col>&lt;dbl&gt;</th><th scope=col>&lt;dbl&gt;</th><th scope=col>&lt;dbl&gt;</th><th scope=col>&lt;dbl&gt;</th><th scope=col>&lt;dbl&gt;</th><th scope=col>&lt;dbl&gt;</th><th scope=col>&lt;dbl&gt;</th><th scope=col>&lt;dbl&gt;</th><th scope=col>&lt;dbl&gt;</th><th scope=col>&lt;dbl&gt;</th><th scope=col>&lt;dbl&gt;</th><th scope=col>&lt;dbl&gt;</th><th scope=col>&lt;dbl&gt;</th><th scope=col>&lt;dbl&gt;</th><th scope=col>&lt;dbl&gt;</th><th scope=col>&lt;dbl&gt;</th><th scope=col>&lt;dbl&gt;</th><th scope=col>&lt;dbl&gt;</th><th scope=col>&lt;dbl&gt;</th><th scope=col>&lt;dbl&gt;</th><th scope=col>&lt;dbl&gt;</th></tr>\n",
       "</thead>\n",
       "<tbody>\n",
       "\t<tr><th scope=row>1</th><td>funalibaba     </td><td>18208</td><td>0</td><td>  1</td><td>17993</td><td> 215</td><td>17993</td><td>0.9882469</td><td>0.004651163</td><td>1.0000000</td><td>0.0000000000</td><td>0.9953488</td><td>0.8392551</td><td>0.07597498</td><td>18208</td><td>0</td><td>  1</td><td>17993</td><td> 215</td><td>17993</td><td>0.9882469</td><td>0.004651163</td><td>1.0000000</td><td>0.0000000000</td><td>0.9953488</td><td>0.8837302</td><td>0.08691179</td></tr>\n",
       "\t<tr><th scope=row>2</th><td>funchengdu west</td><td> 5662</td><td>0</td><td>  7</td><td> 5646</td><td>  15</td><td> 5647</td><td>0.9984105</td><td>0.466666667</td><td>0.9998229</td><td>0.0001770852</td><td>0.5333333</td><td>0.9857387</td><td>0.57249694</td><td> 5662</td><td>0</td><td>  0</td><td> 5647</td><td>  15</td><td> 5647</td><td>0.9973508</td><td>0.000000000</td><td>1.0000000</td><td>0.0000000000</td><td>1.0000000</td><td>0.9834721</td><td>0.55191266</td></tr>\n",
       "\t<tr><th scope=row>3</th><td>funnamecheap   </td><td> 4765</td><td>0</td><td>  1</td><td> 4553</td><td> 205</td><td> 4560</td><td>0.9557188</td><td>0.004878049</td><td>0.9984649</td><td>0.0015350877</td><td>0.9951220</td><td>0.7846636</td><td>0.13117355</td><td> 4765</td><td>0</td><td>  3</td><td> 4554</td><td> 205</td><td> 4560</td><td>0.9563484</td><td>0.014634146</td><td>0.9986842</td><td>0.0013157895</td><td>0.9853659</td><td>0.7265164</td><td>0.12029098</td></tr>\n",
       "\t<tr><th scope=row>4</th><td>hostnamecheap  </td><td> 5979</td><td>0</td><td>  0</td><td> 5840</td><td> 137</td><td> 5842</td><td>0.9767520</td><td>0.000000000</td><td>0.9996577</td><td>0.0003423485</td><td>1.0000000</td><td>0.7494021</td><td>0.08069209</td><td> 5979</td><td>0</td><td>  0</td><td> 5840</td><td> 137</td><td> 5842</td><td>0.9767520</td><td>0.000000000</td><td>0.9996577</td><td>0.0003423485</td><td>1.0000000</td><td>0.7710238</td><td>0.10208958</td></tr>\n",
       "\t<tr><th scope=row>5</th><td>onlinego daddy </td><td>10685</td><td>0</td><td>274</td><td> 8625</td><td>1859</td><td> 8826</td><td>0.8328498</td><td>0.147391070</td><td>0.9772264</td><td>0.0227736234</td><td>0.8526089</td><td>0.6843769</td><td>0.35354501</td><td>10685</td><td>0</td><td>148</td><td> 8711</td><td>1859</td><td> 8826</td><td>0.8291062</td><td>0.079612695</td><td>0.9869703</td><td>0.0130296850</td><td>0.9203873</td><td>0.5924091</td><td>0.31166618</td></tr>\n",
       "\t<tr><th scope=row>6</th><td>onlinenamecheap</td><td> 6611</td><td>0</td><td>  0</td><td> 5861</td><td> 750</td><td> 5861</td><td>0.8865527</td><td>0.000000000</td><td>1.0000000</td><td>0.0000000000</td><td>1.0000000</td><td>0.6335150</td><td>0.25187665</td><td> 6611</td><td>0</td><td> 12</td><td> 5844</td><td> 750</td><td> 5861</td><td>0.8857964</td><td>0.016000000</td><td>0.9970995</td><td>0.0029005289</td><td>0.9840000</td><td>0.6457805</td><td>0.19434286</td></tr>\n",
       "</tbody>\n",
       "</table>\n"
      ],
      "text/latex": [
       "A data.frame: 6 × 27\n",
       "\\begin{tabular}{r|lllllllllllllllllllllllllll}\n",
       "  & tld\\_reg & obs\\_count\\_s & na\\_count\\_s & TP\\_s & TN\\_s & P\\_s & N\\_s & acc\\_0.5\\_s & tpr\\_0.5\\_s & tnr\\_0.5\\_s & fpr\\_0.5\\_s & fnr\\_0.5\\_s & auc\\_s & aucpr\\_s & obs\\_count\\_r & na\\_count\\_r & TP\\_r & TN\\_r & P\\_r & N\\_r & acc\\_0.5\\_r & tpr\\_0.5\\_r & tnr\\_0.5\\_r & fpr\\_0.5\\_r & fnr\\_0.5\\_r & auc\\_r & aucpr\\_r\\\\\n",
       "  & <fct> & <dbl> & <dbl> & <dbl> & <dbl> & <dbl> & <dbl> & <dbl> & <dbl> & <dbl> & <dbl> & <dbl> & <dbl> & <dbl> & <dbl> & <dbl> & <dbl> & <dbl> & <dbl> & <dbl> & <dbl> & <dbl> & <dbl> & <dbl> & <dbl> & <dbl> & <dbl>\\\\\n",
       "\\hline\n",
       "\t1 & funalibaba      & 18208 & 0 &   1 & 17993 &  215 & 17993 & 0.9882469 & 0.004651163 & 1.0000000 & 0.0000000000 & 0.9953488 & 0.8392551 & 0.07597498 & 18208 & 0 &   1 & 17993 &  215 & 17993 & 0.9882469 & 0.004651163 & 1.0000000 & 0.0000000000 & 0.9953488 & 0.8837302 & 0.08691179\\\\\n",
       "\t2 & funchengdu west &  5662 & 0 &   7 &  5646 &   15 &  5647 & 0.9984105 & 0.466666667 & 0.9998229 & 0.0001770852 & 0.5333333 & 0.9857387 & 0.57249694 &  5662 & 0 &   0 &  5647 &   15 &  5647 & 0.9973508 & 0.000000000 & 1.0000000 & 0.0000000000 & 1.0000000 & 0.9834721 & 0.55191266\\\\\n",
       "\t3 & funnamecheap    &  4765 & 0 &   1 &  4553 &  205 &  4560 & 0.9557188 & 0.004878049 & 0.9984649 & 0.0015350877 & 0.9951220 & 0.7846636 & 0.13117355 &  4765 & 0 &   3 &  4554 &  205 &  4560 & 0.9563484 & 0.014634146 & 0.9986842 & 0.0013157895 & 0.9853659 & 0.7265164 & 0.12029098\\\\\n",
       "\t4 & hostnamecheap   &  5979 & 0 &   0 &  5840 &  137 &  5842 & 0.9767520 & 0.000000000 & 0.9996577 & 0.0003423485 & 1.0000000 & 0.7494021 & 0.08069209 &  5979 & 0 &   0 &  5840 &  137 &  5842 & 0.9767520 & 0.000000000 & 0.9996577 & 0.0003423485 & 1.0000000 & 0.7710238 & 0.10208958\\\\\n",
       "\t5 & onlinego daddy  & 10685 & 0 & 274 &  8625 & 1859 &  8826 & 0.8328498 & 0.147391070 & 0.9772264 & 0.0227736234 & 0.8526089 & 0.6843769 & 0.35354501 & 10685 & 0 & 148 &  8711 & 1859 &  8826 & 0.8291062 & 0.079612695 & 0.9869703 & 0.0130296850 & 0.9203873 & 0.5924091 & 0.31166618\\\\\n",
       "\t6 & onlinenamecheap &  6611 & 0 &   0 &  5861 &  750 &  5861 & 0.8865527 & 0.000000000 & 1.0000000 & 0.0000000000 & 1.0000000 & 0.6335150 & 0.25187665 &  6611 & 0 &  12 &  5844 &  750 &  5861 & 0.8857964 & 0.016000000 & 0.9970995 & 0.0029005289 & 0.9840000 & 0.6457805 & 0.19434286\\\\\n",
       "\\end{tabular}\n"
      ],
      "text/markdown": [
       "\n",
       "A data.frame: 6 × 27\n",
       "\n",
       "| <!--/--> | tld_reg &lt;fct&gt; | obs_count_s &lt;dbl&gt; | na_count_s &lt;dbl&gt; | TP_s &lt;dbl&gt; | TN_s &lt;dbl&gt; | P_s &lt;dbl&gt; | N_s &lt;dbl&gt; | acc_0.5_s &lt;dbl&gt; | tpr_0.5_s &lt;dbl&gt; | tnr_0.5_s &lt;dbl&gt; | fpr_0.5_s &lt;dbl&gt; | fnr_0.5_s &lt;dbl&gt; | auc_s &lt;dbl&gt; | aucpr_s &lt;dbl&gt; | obs_count_r &lt;dbl&gt; | na_count_r &lt;dbl&gt; | TP_r &lt;dbl&gt; | TN_r &lt;dbl&gt; | P_r &lt;dbl&gt; | N_r &lt;dbl&gt; | acc_0.5_r &lt;dbl&gt; | tpr_0.5_r &lt;dbl&gt; | tnr_0.5_r &lt;dbl&gt; | fpr_0.5_r &lt;dbl&gt; | fnr_0.5_r &lt;dbl&gt; | auc_r &lt;dbl&gt; | aucpr_r &lt;dbl&gt; |\n",
       "|---|---|---|---|---|---|---|---|---|---|---|---|---|---|---|---|---|---|---|---|---|---|---|---|---|---|---|---|\n",
       "| 1 | funalibaba      | 18208 | 0 |   1 | 17993 |  215 | 17993 | 0.9882469 | 0.004651163 | 1.0000000 | 0.0000000000 | 0.9953488 | 0.8392551 | 0.07597498 | 18208 | 0 |   1 | 17993 |  215 | 17993 | 0.9882469 | 0.004651163 | 1.0000000 | 0.0000000000 | 0.9953488 | 0.8837302 | 0.08691179 |\n",
       "| 2 | funchengdu west |  5662 | 0 |   7 |  5646 |   15 |  5647 | 0.9984105 | 0.466666667 | 0.9998229 | 0.0001770852 | 0.5333333 | 0.9857387 | 0.57249694 |  5662 | 0 |   0 |  5647 |   15 |  5647 | 0.9973508 | 0.000000000 | 1.0000000 | 0.0000000000 | 1.0000000 | 0.9834721 | 0.55191266 |\n",
       "| 3 | funnamecheap    |  4765 | 0 |   1 |  4553 |  205 |  4560 | 0.9557188 | 0.004878049 | 0.9984649 | 0.0015350877 | 0.9951220 | 0.7846636 | 0.13117355 |  4765 | 0 |   3 |  4554 |  205 |  4560 | 0.9563484 | 0.014634146 | 0.9986842 | 0.0013157895 | 0.9853659 | 0.7265164 | 0.12029098 |\n",
       "| 4 | hostnamecheap   |  5979 | 0 |   0 |  5840 |  137 |  5842 | 0.9767520 | 0.000000000 | 0.9996577 | 0.0003423485 | 1.0000000 | 0.7494021 | 0.08069209 |  5979 | 0 |   0 |  5840 |  137 |  5842 | 0.9767520 | 0.000000000 | 0.9996577 | 0.0003423485 | 1.0000000 | 0.7710238 | 0.10208958 |\n",
       "| 5 | onlinego daddy  | 10685 | 0 | 274 |  8625 | 1859 |  8826 | 0.8328498 | 0.147391070 | 0.9772264 | 0.0227736234 | 0.8526089 | 0.6843769 | 0.35354501 | 10685 | 0 | 148 |  8711 | 1859 |  8826 | 0.8291062 | 0.079612695 | 0.9869703 | 0.0130296850 | 0.9203873 | 0.5924091 | 0.31166618 |\n",
       "| 6 | onlinenamecheap |  6611 | 0 |   0 |  5861 |  750 |  5861 | 0.8865527 | 0.000000000 | 1.0000000 | 0.0000000000 | 1.0000000 | 0.6335150 | 0.25187665 |  6611 | 0 |  12 |  5844 |  750 |  5861 | 0.8857964 | 0.016000000 | 0.9970995 | 0.0029005289 | 0.9840000 | 0.6457805 | 0.19434286 |\n",
       "\n"
      ],
      "text/plain": [
       "  tld_reg         obs_count_s na_count_s TP_s TN_s  P_s  N_s   acc_0.5_s\n",
       "1 funalibaba      18208       0            1  17993  215 17993 0.9882469\n",
       "2 funchengdu west  5662       0            7   5646   15  5647 0.9984105\n",
       "3 funnamecheap     4765       0            1   4553  205  4560 0.9557188\n",
       "4 hostnamecheap    5979       0            0   5840  137  5842 0.9767520\n",
       "5 onlinego daddy  10685       0          274   8625 1859  8826 0.8328498\n",
       "6 onlinenamecheap  6611       0            0   5861  750  5861 0.8865527\n",
       "  tpr_0.5_s   tnr_0.5_s fpr_0.5_s    fnr_0.5_s auc_s     aucpr_s    obs_count_r\n",
       "1 0.004651163 1.0000000 0.0000000000 0.9953488 0.8392551 0.07597498 18208      \n",
       "2 0.466666667 0.9998229 0.0001770852 0.5333333 0.9857387 0.57249694  5662      \n",
       "3 0.004878049 0.9984649 0.0015350877 0.9951220 0.7846636 0.13117355  4765      \n",
       "4 0.000000000 0.9996577 0.0003423485 1.0000000 0.7494021 0.08069209  5979      \n",
       "5 0.147391070 0.9772264 0.0227736234 0.8526089 0.6843769 0.35354501 10685      \n",
       "6 0.000000000 1.0000000 0.0000000000 1.0000000 0.6335150 0.25187665  6611      \n",
       "  na_count_r TP_r TN_r  P_r  N_r   acc_0.5_r tpr_0.5_r   tnr_0.5_r fpr_0.5_r   \n",
       "1 0            1  17993  215 17993 0.9882469 0.004651163 1.0000000 0.0000000000\n",
       "2 0            0   5647   15  5647 0.9973508 0.000000000 1.0000000 0.0000000000\n",
       "3 0            3   4554  205  4560 0.9563484 0.014634146 0.9986842 0.0013157895\n",
       "4 0            0   5840  137  5842 0.9767520 0.000000000 0.9996577 0.0003423485\n",
       "5 0          148   8711 1859  8826 0.8291062 0.079612695 0.9869703 0.0130296850\n",
       "6 0           12   5844  750  5861 0.8857964 0.016000000 0.9970995 0.0029005289\n",
       "  fnr_0.5_r auc_r     aucpr_r   \n",
       "1 0.9953488 0.8837302 0.08691179\n",
       "2 1.0000000 0.9834721 0.55191266\n",
       "3 0.9853659 0.7265164 0.12029098\n",
       "4 1.0000000 0.7710238 0.10208958\n",
       "5 0.9203873 0.5924091 0.31166618\n",
       "6 0.9840000 0.6457805 0.19434286"
      ]
     },
     "metadata": {},
     "output_type": "display_data"
    }
   ],
   "source": [
    "joint_pred_df <- merge(registrars, merge(seg_glm_perf_df, ranger_03_perf_df, \n",
    "                       by = 'tld_reg',\n",
    "                       sort = TRUE, \n",
    "                       suffixes = c(\"_s\",\"_r\")) %>% mutate_at(c('obs_count_s','na_count_s','TP_s','TN_s','P_s','N_s','acc_0.5_s','tpr_0.5_s','tnr_0.5_s',\n",
    "                                                              'fpr_0.5_s','fnr_0.5_s','auc_s','aucpr_s','obs_count_r','na_count_r','TP_r','TN_r','P_r','N_r',\n",
    "                                                              'acc_0.5_r','tpr_0.5_r','tnr_0.5_r','fpr_0.5_r','fnr_0.5_r','auc_r','aucpr_r'),\n",
    "                                                              as.character) %>% mutate_at(c('obs_count_s','na_count_s','TP_s','TN_s','P_s','N_s','acc_0.5_s','tpr_0.5_s','tnr_0.5_s',\n",
    "                                                              'fpr_0.5_s','fnr_0.5_s','auc_s','aucpr_s','obs_count_r','na_count_r','TP_r','TN_r','P_r','N_r',\n",
    "                                                              'acc_0.5_r','tpr_0.5_r','tnr_0.5_r','fpr_0.5_r','fnr_0.5_r','auc_r','aucpr_r'),\n",
    "                                                              as.numeric) , by = 'tld_reg', all.x=TRUE)\n",
    "dim(joint_pred_df)\n",
    "head(joint_pred_df)"
   ]
  },
  {
   "cell_type": "code",
   "execution_count": 139,
   "metadata": {},
   "outputs": [
    {
     "data": {
      "text/html": [
       "<table>\n",
       "<caption>A data.frame: 1 × 27</caption>\n",
       "<thead>\n",
       "\t<tr><th scope=col>tld_reg</th><th scope=col>obs_count_s</th><th scope=col>na_count_s</th><th scope=col>TP_s</th><th scope=col>TN_s</th><th scope=col>P_s</th><th scope=col>N_s</th><th scope=col>acc_0.5_s</th><th scope=col>tpr_0.5_s</th><th scope=col>tnr_0.5_s</th><th scope=col>fpr_0.5_s</th><th scope=col>fnr_0.5_s</th><th scope=col>auc_s</th><th scope=col>aucpr_s</th><th scope=col>obs_count_r</th><th scope=col>na_count_r</th><th scope=col>TP_r</th><th scope=col>TN_r</th><th scope=col>P_r</th><th scope=col>N_r</th><th scope=col>acc_0.5_r</th><th scope=col>tpr_0.5_r</th><th scope=col>tnr_0.5_r</th><th scope=col>fpr_0.5_r</th><th scope=col>fnr_0.5_r</th><th scope=col>auc_r</th><th scope=col>aucpr_r</th></tr>\n",
       "\t<tr><th scope=col>&lt;int&gt;</th><th scope=col>&lt;int&gt;</th><th scope=col>&lt;int&gt;</th><th scope=col>&lt;int&gt;</th><th scope=col>&lt;int&gt;</th><th scope=col>&lt;int&gt;</th><th scope=col>&lt;int&gt;</th><th scope=col>&lt;int&gt;</th><th scope=col>&lt;int&gt;</th><th scope=col>&lt;int&gt;</th><th scope=col>&lt;int&gt;</th><th scope=col>&lt;int&gt;</th><th scope=col>&lt;int&gt;</th><th scope=col>&lt;int&gt;</th><th scope=col>&lt;int&gt;</th><th scope=col>&lt;int&gt;</th><th scope=col>&lt;int&gt;</th><th scope=col>&lt;int&gt;</th><th scope=col>&lt;int&gt;</th><th scope=col>&lt;int&gt;</th><th scope=col>&lt;int&gt;</th><th scope=col>&lt;int&gt;</th><th scope=col>&lt;int&gt;</th><th scope=col>&lt;int&gt;</th><th scope=col>&lt;int&gt;</th><th scope=col>&lt;int&gt;</th><th scope=col>&lt;int&gt;</th></tr>\n",
       "</thead>\n",
       "<tbody>\n",
       "\t<tr><td>0</td><td>0</td><td>0</td><td>0</td><td>0</td><td>0</td><td>0</td><td>0</td><td>0</td><td>0</td><td>0</td><td>0</td><td>0</td><td>0</td><td>0</td><td>0</td><td>0</td><td>0</td><td>0</td><td>0</td><td>0</td><td>0</td><td>0</td><td>0</td><td>0</td><td>0</td><td>0</td></tr>\n",
       "</tbody>\n",
       "</table>\n"
      ],
      "text/latex": [
       "A data.frame: 1 × 27\n",
       "\\begin{tabular}{lllllllllllllllllllllllllll}\n",
       " tld\\_reg & obs\\_count\\_s & na\\_count\\_s & TP\\_s & TN\\_s & P\\_s & N\\_s & acc\\_0.5\\_s & tpr\\_0.5\\_s & tnr\\_0.5\\_s & fpr\\_0.5\\_s & fnr\\_0.5\\_s & auc\\_s & aucpr\\_s & obs\\_count\\_r & na\\_count\\_r & TP\\_r & TN\\_r & P\\_r & N\\_r & acc\\_0.5\\_r & tpr\\_0.5\\_r & tnr\\_0.5\\_r & fpr\\_0.5\\_r & fnr\\_0.5\\_r & auc\\_r & aucpr\\_r\\\\\n",
       " <int> & <int> & <int> & <int> & <int> & <int> & <int> & <int> & <int> & <int> & <int> & <int> & <int> & <int> & <int> & <int> & <int> & <int> & <int> & <int> & <int> & <int> & <int> & <int> & <int> & <int> & <int>\\\\\n",
       "\\hline\n",
       "\t 0 & 0 & 0 & 0 & 0 & 0 & 0 & 0 & 0 & 0 & 0 & 0 & 0 & 0 & 0 & 0 & 0 & 0 & 0 & 0 & 0 & 0 & 0 & 0 & 0 & 0 & 0\\\\\n",
       "\\end{tabular}\n"
      ],
      "text/markdown": [
       "\n",
       "A data.frame: 1 × 27\n",
       "\n",
       "| tld_reg &lt;int&gt; | obs_count_s &lt;int&gt; | na_count_s &lt;int&gt; | TP_s &lt;int&gt; | TN_s &lt;int&gt; | P_s &lt;int&gt; | N_s &lt;int&gt; | acc_0.5_s &lt;int&gt; | tpr_0.5_s &lt;int&gt; | tnr_0.5_s &lt;int&gt; | fpr_0.5_s &lt;int&gt; | fnr_0.5_s &lt;int&gt; | auc_s &lt;int&gt; | aucpr_s &lt;int&gt; | obs_count_r &lt;int&gt; | na_count_r &lt;int&gt; | TP_r &lt;int&gt; | TN_r &lt;int&gt; | P_r &lt;int&gt; | N_r &lt;int&gt; | acc_0.5_r &lt;int&gt; | tpr_0.5_r &lt;int&gt; | tnr_0.5_r &lt;int&gt; | fpr_0.5_r &lt;int&gt; | fnr_0.5_r &lt;int&gt; | auc_r &lt;int&gt; | aucpr_r &lt;int&gt; |\n",
       "|---|---|---|---|---|---|---|---|---|---|---|---|---|---|---|---|---|---|---|---|---|---|---|---|---|---|---|\n",
       "| 0 | 0 | 0 | 0 | 0 | 0 | 0 | 0 | 0 | 0 | 0 | 0 | 0 | 0 | 0 | 0 | 0 | 0 | 0 | 0 | 0 | 0 | 0 | 0 | 0 | 0 | 0 |\n",
       "\n"
      ],
      "text/plain": [
       "  tld_reg obs_count_s na_count_s TP_s TN_s P_s N_s acc_0.5_s tpr_0.5_s\n",
       "1 0       0           0          0    0    0   0   0         0        \n",
       "  tnr_0.5_s fpr_0.5_s fnr_0.5_s auc_s aucpr_s obs_count_r na_count_r TP_r TN_r\n",
       "1 0         0         0         0     0       0           0          0    0   \n",
       "  P_r N_r acc_0.5_r tpr_0.5_r tnr_0.5_r fpr_0.5_r fnr_0.5_r auc_r aucpr_r\n",
       "1 0   0   0         0         0         0         0         0     0      "
      ]
     },
     "metadata": {},
     "output_type": "display_data"
    }
   ],
   "source": [
    "joint_pred_df %>% summarise_all(funs(sum(is.na(.))))"
   ]
  },
  {
   "cell_type": "code",
   "execution_count": 141,
   "metadata": {},
   "outputs": [
    {
     "data": {
      "text/html": [
       "<table>\n",
       "<caption>A data.frame: 15 × 6</caption>\n",
       "<thead>\n",
       "\t<tr><th scope=col>tld_reg</th><th scope=col>obs_count_s</th><th scope=col>na_count_s</th><th scope=col>aucpr_s</th><th scope=col>aucpr_r</th><th scope=col>aucpr_srrat</th></tr>\n",
       "\t<tr><th scope=col>&lt;fct&gt;</th><th scope=col>&lt;dbl&gt;</th><th scope=col>&lt;dbl&gt;</th><th scope=col>&lt;dbl&gt;</th><th scope=col>&lt;dbl&gt;</th><th scope=col>&lt;dbl&gt;</th></tr>\n",
       "</thead>\n",
       "<tbody>\n",
       "\t<tr><td>sitegmo                      </td><td>26419</td><td>0</td><td>0.25657985</td><td>0.04209253</td><td>6.0956147</td></tr>\n",
       "\t<tr><td>websitenamecheap             </td><td> 5096</td><td>0</td><td>0.16250649</td><td>0.11491463</td><td>1.4141496</td></tr>\n",
       "\t<tr><td>onlinenamecheap              </td><td> 6611</td><td>0</td><td>0.25187665</td><td>0.19434286</td><td>1.2960427</td></tr>\n",
       "\t<tr><td>sitenamecheap                </td><td>13362</td><td>0</td><td>0.09075438</td><td>0.07011165</td><td>1.2944264</td></tr>\n",
       "\t<tr><td>pwnamecheap                  </td><td>12631</td><td>0</td><td>0.09895867</td><td>0.08617220</td><td>1.1483829</td></tr>\n",
       "\t<tr><td>onlinego daddy               </td><td>10685</td><td>0</td><td>0.35354501</td><td>0.31166618</td><td>1.1343708</td></tr>\n",
       "\t<tr><td>sitereg.ru                   </td><td> 6986</td><td>0</td><td>0.04710432</td><td>0.04303624</td><td>1.0945268</td></tr>\n",
       "\t<tr><td>funnamecheap                 </td><td> 4765</td><td>0</td><td>0.13117355</td><td>0.12029098</td><td>1.0904687</td></tr>\n",
       "\t<tr><td>funchengdu west              </td><td> 5662</td><td>0</td><td>0.57249694</td><td>0.55191266</td><td>1.0372963</td></tr>\n",
       "\t<tr><td>spacego daddy                </td><td> 5169</td><td>0</td><td>0.21575966</td><td>0.21030002</td><td>1.0259612</td></tr>\n",
       "\t<tr><td>funalibaba                   </td><td>18208</td><td>0</td><td>0.07597498</td><td>0.08691179</td><td>0.8741619</td></tr>\n",
       "\t<tr><td>sitegandi sas                </td><td> 8719</td><td>0</td><td>0.12953238</td><td>0.15996959</td><td>0.8097313</td></tr>\n",
       "\t<tr><td>hostnamecheap                </td><td> 5979</td><td>0</td><td>0.08069209</td><td>0.10208958</td><td>0.7904047</td></tr>\n",
       "\t<tr><td>sitezhengzhou century connect</td><td> 5854</td><td>0</td><td>0.50008541</td><td>1.00000000</td><td>0.5000854</td></tr>\n",
       "\t<tr><td>siteonlinenic                </td><td> 6220</td><td>0</td><td>0.14414800</td><td>0.33709273</td><td>0.4276212</td></tr>\n",
       "</tbody>\n",
       "</table>\n"
      ],
      "text/latex": [
       "A data.frame: 15 × 6\n",
       "\\begin{tabular}{llllll}\n",
       " tld\\_reg & obs\\_count\\_s & na\\_count\\_s & aucpr\\_s & aucpr\\_r & aucpr\\_srrat\\\\\n",
       " <fct> & <dbl> & <dbl> & <dbl> & <dbl> & <dbl>\\\\\n",
       "\\hline\n",
       "\t sitegmo                       & 26419 & 0 & 0.25657985 & 0.04209253 & 6.0956147\\\\\n",
       "\t websitenamecheap              &  5096 & 0 & 0.16250649 & 0.11491463 & 1.4141496\\\\\n",
       "\t onlinenamecheap               &  6611 & 0 & 0.25187665 & 0.19434286 & 1.2960427\\\\\n",
       "\t sitenamecheap                 & 13362 & 0 & 0.09075438 & 0.07011165 & 1.2944264\\\\\n",
       "\t pwnamecheap                   & 12631 & 0 & 0.09895867 & 0.08617220 & 1.1483829\\\\\n",
       "\t onlinego daddy                & 10685 & 0 & 0.35354501 & 0.31166618 & 1.1343708\\\\\n",
       "\t sitereg.ru                    &  6986 & 0 & 0.04710432 & 0.04303624 & 1.0945268\\\\\n",
       "\t funnamecheap                  &  4765 & 0 & 0.13117355 & 0.12029098 & 1.0904687\\\\\n",
       "\t funchengdu west               &  5662 & 0 & 0.57249694 & 0.55191266 & 1.0372963\\\\\n",
       "\t spacego daddy                 &  5169 & 0 & 0.21575966 & 0.21030002 & 1.0259612\\\\\n",
       "\t funalibaba                    & 18208 & 0 & 0.07597498 & 0.08691179 & 0.8741619\\\\\n",
       "\t sitegandi sas                 &  8719 & 0 & 0.12953238 & 0.15996959 & 0.8097313\\\\\n",
       "\t hostnamecheap                 &  5979 & 0 & 0.08069209 & 0.10208958 & 0.7904047\\\\\n",
       "\t sitezhengzhou century connect &  5854 & 0 & 0.50008541 & 1.00000000 & 0.5000854\\\\\n",
       "\t siteonlinenic                 &  6220 & 0 & 0.14414800 & 0.33709273 & 0.4276212\\\\\n",
       "\\end{tabular}\n"
      ],
      "text/markdown": [
       "\n",
       "A data.frame: 15 × 6\n",
       "\n",
       "| tld_reg &lt;fct&gt; | obs_count_s &lt;dbl&gt; | na_count_s &lt;dbl&gt; | aucpr_s &lt;dbl&gt; | aucpr_r &lt;dbl&gt; | aucpr_srrat &lt;dbl&gt; |\n",
       "|---|---|---|---|---|---|\n",
       "| sitegmo                       | 26419 | 0 | 0.25657985 | 0.04209253 | 6.0956147 |\n",
       "| websitenamecheap              |  5096 | 0 | 0.16250649 | 0.11491463 | 1.4141496 |\n",
       "| onlinenamecheap               |  6611 | 0 | 0.25187665 | 0.19434286 | 1.2960427 |\n",
       "| sitenamecheap                 | 13362 | 0 | 0.09075438 | 0.07011165 | 1.2944264 |\n",
       "| pwnamecheap                   | 12631 | 0 | 0.09895867 | 0.08617220 | 1.1483829 |\n",
       "| onlinego daddy                | 10685 | 0 | 0.35354501 | 0.31166618 | 1.1343708 |\n",
       "| sitereg.ru                    |  6986 | 0 | 0.04710432 | 0.04303624 | 1.0945268 |\n",
       "| funnamecheap                  |  4765 | 0 | 0.13117355 | 0.12029098 | 1.0904687 |\n",
       "| funchengdu west               |  5662 | 0 | 0.57249694 | 0.55191266 | 1.0372963 |\n",
       "| spacego daddy                 |  5169 | 0 | 0.21575966 | 0.21030002 | 1.0259612 |\n",
       "| funalibaba                    | 18208 | 0 | 0.07597498 | 0.08691179 | 0.8741619 |\n",
       "| sitegandi sas                 |  8719 | 0 | 0.12953238 | 0.15996959 | 0.8097313 |\n",
       "| hostnamecheap                 |  5979 | 0 | 0.08069209 | 0.10208958 | 0.7904047 |\n",
       "| sitezhengzhou century connect |  5854 | 0 | 0.50008541 | 1.00000000 | 0.5000854 |\n",
       "| siteonlinenic                 |  6220 | 0 | 0.14414800 | 0.33709273 | 0.4276212 |\n",
       "\n"
      ],
      "text/plain": [
       "   tld_reg                       obs_count_s na_count_s aucpr_s    aucpr_r   \n",
       "1  sitegmo                       26419       0          0.25657985 0.04209253\n",
       "2  websitenamecheap               5096       0          0.16250649 0.11491463\n",
       "3  onlinenamecheap                6611       0          0.25187665 0.19434286\n",
       "4  sitenamecheap                 13362       0          0.09075438 0.07011165\n",
       "5  pwnamecheap                   12631       0          0.09895867 0.08617220\n",
       "6  onlinego daddy                10685       0          0.35354501 0.31166618\n",
       "7  sitereg.ru                     6986       0          0.04710432 0.04303624\n",
       "8  funnamecheap                   4765       0          0.13117355 0.12029098\n",
       "9  funchengdu west                5662       0          0.57249694 0.55191266\n",
       "10 spacego daddy                  5169       0          0.21575966 0.21030002\n",
       "11 funalibaba                    18208       0          0.07597498 0.08691179\n",
       "12 sitegandi sas                  8719       0          0.12953238 0.15996959\n",
       "13 hostnamecheap                  5979       0          0.08069209 0.10208958\n",
       "14 sitezhengzhou century connect  5854       0          0.50008541 1.00000000\n",
       "15 siteonlinenic                  6220       0          0.14414800 0.33709273\n",
       "   aucpr_srrat\n",
       "1  6.0956147  \n",
       "2  1.4141496  \n",
       "3  1.2960427  \n",
       "4  1.2944264  \n",
       "5  1.1483829  \n",
       "6  1.1343708  \n",
       "7  1.0945268  \n",
       "8  1.0904687  \n",
       "9  1.0372963  \n",
       "10 1.0259612  \n",
       "11 0.8741619  \n",
       "12 0.8097313  \n",
       "13 0.7904047  \n",
       "14 0.5000854  \n",
       "15 0.4276212  "
      ]
     },
     "metadata": {},
     "output_type": "display_data"
    }
   ],
   "source": [
    "# compare AUCpr\n",
    "joint_pred_df$aucpr_srrat = joint_pred_df$aucpr_s/joint_pred_df$aucpr_r\n",
    "joint_pred_df[c(\"tld_reg\",\"obs_count_s\",\"na_count_s\",\"aucpr_s\",\"aucpr_r\",\"aucpr_srrat\")] %>% arrange(desc(aucpr_srrat))"
   ]
  },
  {
   "cell_type": "code",
   "execution_count": 142,
   "metadata": {},
   "outputs": [
    {
     "name": "stdout",
     "output_type": "stream",
     "text": [
      "seg_glm outperforms ranger_03 on 10 registrars:  0.6666667 \n",
      "ranger_03 outperforms seg_glm on 5 registrars:  0.3333333 \n",
      "\n",
      "seg_glm outperforms ranger_03 on 97386 domains:  0.6840538 \n",
      "ranger_03 outperforms seg_glm on 44980 domains:  0.3159462 \n",
      "\n"
     ]
    }
   ],
   "source": [
    "df = joint_pred_df\n",
    "\n",
    "cat(\"seg_glm outperforms ranger_03 on\",nrow(df[df$aucpr_srrat>1,]),\"registrars: \",nrow(df[df$aucpr_srrat>1,])/nrow(df),\"\\n\") \n",
    "cat(\"ranger_03 outperforms seg_glm on\",nrow(df[df$aucpr_srrat<1,]),\"registrars: \",nrow(df[df$aucpr_srrat<1,])/nrow(df),\"\\n\\n\") \n",
    "\n",
    "cat(\"seg_glm outperforms ranger_03 on\",sum(df[df$aucpr_srrat>1,\"obs_count_s\"]),\"domains: \",sum(df[df$aucpr_srrat>1,\"obs_count_s\"])/sum(df[\"obs_count_s\"]),\"\\n\") \n",
    "cat(\"ranger_03 outperforms seg_glm on\",sum(df[df$aucpr_srrat<1,\"obs_count_s\"]),\"domains: \",sum(df[df$aucpr_srrat<1,\"obs_count_s\"])/sum(df[\"obs_count_s\"]),\"\\n\\n\") "
   ]
  },
  {
   "cell_type": "code",
   "execution_count": 84,
   "metadata": {},
   "outputs": [
    {
     "name": "stdout",
     "output_type": "stream",
     "text": [
      "On the  0  registrars w/ less than  600  domains renewing....\n",
      "\n",
      "seg_glm outperforms ranger_03 on 0 registrars:  NaN \n",
      "ranger_03 outperforms seg_glm on 0 registrars:  NaN \n",
      "\n"
     ]
    },
    {
     "ename": "ERROR",
     "evalue": "Error in FUN(X[[i]], ...): only defined on a data frame with all numeric variables\n",
     "output_type": "error",
     "traceback": [
      "Error in FUN(X[[i]], ...): only defined on a data frame with all numeric variables\nTraceback:\n",
      "1. cat(\"seg_glm outperforms ranger_03 on\", sum(joint_pred_df_small[joint_pred_df_small$aucpr_srrat > \n .     1, \"obs_count_s\"]), \"domains: \", sum(joint_pred_df_small[joint_pred_df_small$aucpr_srrat > \n .     1, \"obs_count_s\"])/sum(joint_pred_df_small[\"obs_count_s\"]), \n .     \"\\n\")",
      "2. Summary.data.frame(structure(list(obs_count_s = numeric(0)), row.names = integer(0), class = \"data.frame\"), \n .     na.rm = FALSE)",
      "3. lapply(args, function(x) {\n .     x <- as.matrix(x)\n .     if (!is.numeric(x) && !is.complex(x)) \n .         stop(\"only defined on a data frame with all numeric variables\")\n .     x\n . })",
      "4. FUN(X[[i]], ...)",
      "5. stop(\"only defined on a data frame with all numeric variables\")"
     ]
    }
   ],
   "source": [
    "cutoff = 600\n",
    "joint_pred_df_small  <- joint_pred_df[joint_pred_df$obs_count_s<cutoff,]\n",
    "\n",
    "cat(\"On the \",nrow(joint_pred_df_small),\" registrars w/ less than \",cutoff,\" domains renewing....\\n\\n\")\n",
    "cat(\"seg_glm outperforms ranger_03 on\",nrow(joint_pred_df_small[joint_pred_df_small$aucpr_srrat>1,]),\"registrars: \",nrow(joint_pred_df_small[joint_pred_df_small$aucpr_srrat>1,])/nrow(joint_pred_df_small),\"\\n\") \n",
    "cat(\"ranger_03 outperforms seg_glm on\",nrow(joint_pred_df_small[joint_pred_df_small$aucpr_srrat<1,]),\"registrars: \",nrow(joint_pred_df_small[joint_pred_df_small$aucpr_srrat<1,])/nrow(joint_pred_df_small),\"\\n\\n\") \n",
    "\n",
    "cat(\"seg_glm outperforms ranger_03 on\",sum(joint_pred_df_small[joint_pred_df_small$aucpr_srrat>1,\"obs_count_s\"]),\"domains: \",sum(joint_pred_df_small[joint_pred_df_small$aucpr_srrat>1,\"obs_count_s\"])/sum(joint_pred_df_small[\"obs_count_s\"]),\"\\n\") \n",
    "cat(\"ranger_03 outperforms seg_glm on\",sum(joint_pred_df_small[joint_pred_df_small$aucpr_srrat<1,\"obs_count_s\"]),\"domains: \",sum(joint_pred_df_small[joint_pred_df_small$aucpr_srrat<1,\"obs_count_s\"])/sum(joint_pred_df_small[\"obs_count_s\"]),\"\\n\\n\") "
   ]
  },
  {
   "cell_type": "code",
   "execution_count": 78,
   "metadata": {},
   "outputs": [
    {
     "data": {
      "text/html": [
       "<table>\n",
       "<caption>A data.frame: 70 × 28</caption>\n",
       "<thead>\n",
       "\t<tr><th></th><th scope=col>reg</th><th scope=col>obs_count_s</th><th scope=col>na_count_s</th><th scope=col>TP_s</th><th scope=col>TN_s</th><th scope=col>P_s</th><th scope=col>N_s</th><th scope=col>acc_0.5_s</th><th scope=col>tpr_0.5_s</th><th scope=col>tnr_0.5_s</th><th scope=col>fpr_0.5_s</th><th scope=col>fnr_0.5_s</th><th scope=col>auc_s</th><th scope=col>aucpr_s</th><th scope=col>obs_count_r</th><th scope=col>na_count_r</th><th scope=col>TP_r</th><th scope=col>TN_r</th><th scope=col>P_r</th><th scope=col>N_r</th><th scope=col>acc_0.5_r</th><th scope=col>tpr_0.5_r</th><th scope=col>tnr_0.5_r</th><th scope=col>fpr_0.5_r</th><th scope=col>fnr_0.5_r</th><th scope=col>auc_r</th><th scope=col>aucpr_r</th><th scope=col>aucpr_srrat</th></tr>\n",
       "\t<tr><th></th><th scope=col>&lt;fct&gt;</th><th scope=col>&lt;dbl&gt;</th><th scope=col>&lt;dbl&gt;</th><th scope=col>&lt;dbl&gt;</th><th scope=col>&lt;dbl&gt;</th><th scope=col>&lt;dbl&gt;</th><th scope=col>&lt;dbl&gt;</th><th scope=col>&lt;dbl&gt;</th><th scope=col>&lt;dbl&gt;</th><th scope=col>&lt;dbl&gt;</th><th scope=col>&lt;dbl&gt;</th><th scope=col>&lt;dbl&gt;</th><th scope=col>&lt;dbl&gt;</th><th scope=col>&lt;dbl&gt;</th><th scope=col>&lt;dbl&gt;</th><th scope=col>&lt;dbl&gt;</th><th scope=col>&lt;dbl&gt;</th><th scope=col>&lt;dbl&gt;</th><th scope=col>&lt;dbl&gt;</th><th scope=col>&lt;dbl&gt;</th><th scope=col>&lt;dbl&gt;</th><th scope=col>&lt;dbl&gt;</th><th scope=col>&lt;dbl&gt;</th><th scope=col>&lt;dbl&gt;</th><th scope=col>&lt;dbl&gt;</th><th scope=col>&lt;dbl&gt;</th><th scope=col>&lt;dbl&gt;</th><th scope=col>&lt;dbl&gt;</th></tr>\n",
       "</thead>\n",
       "<tbody>\n",
       "\t<tr><th scope=row>2</th><td>101 domain         </td><td> 32</td><td> 6</td><td> 14</td><td>  6</td><td> 16</td><td> 10</td><td>0.7692308</td><td>0.87500000</td><td>0.6000000</td><td>0.400000000</td><td>0.12500000</td><td>0.6656250</td><td>0.69928561</td><td> 32</td><td>0</td><td> 19</td><td>  2</td><td> 19</td><td> 13</td><td>0.6562500</td><td>1.00000000</td><td>0.15384615</td><td>0.846153846</td><td>0.00000000</td><td>0.6923077</td><td>0.8021654</td><td>0.8717474</td></tr>\n",
       "\t<tr><th scope=row>3</th><td>10dencehispahard   </td><td>165</td><td> 2</td><td>  2</td><td>128</td><td> 31</td><td>132</td><td>0.7975460</td><td>0.06451613</td><td>0.9696970</td><td>0.030303030</td><td>0.93548387</td><td>0.7065005</td><td>0.34897498</td><td>165</td><td>0</td><td>  1</td><td>132</td><td> 31</td><td>134</td><td>0.8060606</td><td>0.03225806</td><td>0.98507463</td><td>0.014925373</td><td>0.96774194</td><td>0.7087145</td><td>0.3286169</td><td>1.0619508</td></tr>\n",
       "\t<tr><th scope=row>4</th><td>1api               </td><td>190</td><td> 8</td><td> 56</td><td> 45</td><td> 79</td><td>103</td><td>0.5549451</td><td>0.70886076</td><td>0.4368932</td><td>0.563106796</td><td>0.29113924</td><td>0.5710336</td><td>0.46988104</td><td>190</td><td>0</td><td> 21</td><td> 70</td><td> 84</td><td>106</td><td>0.4789474</td><td>0.25000000</td><td>0.66037736</td><td>0.339622642</td><td>0.75000000</td><td>0.4977538</td><td>0.4620861</td><td>1.0168691</td></tr>\n",
       "\t<tr><th scope=row>5</th><td>22net inc          </td><td> 51</td><td> 0</td><td>  2</td><td> 49</td><td>  2</td><td> 49</td><td>1.0000000</td><td>1.00000000</td><td>1.0000000</td><td>0.000000000</td><td>0.00000000</td><td>1.0000000</td><td>1.00000000</td><td> 51</td><td>0</td><td>  2</td><td> 49</td><td>  2</td><td> 49</td><td>1.0000000</td><td>1.00000000</td><td>1.00000000</td><td>0.000000000</td><td>0.00000000</td><td>1.0000000</td><td>1.0000000</td><td>1.0000000</td></tr>\n",
       "\t<tr><th scope=row>6</th><td>ab name isp        </td><td> 15</td><td> 3</td><td>  7</td><td>  0</td><td>  7</td><td>  5</td><td>0.5833333</td><td>1.00000000</td><td>0.0000000</td><td>1.000000000</td><td>0.00000000</td><td>0.5571429</td><td>0.72857143</td><td> 15</td><td>0</td><td>  7</td><td>  1</td><td>  9</td><td>  6</td><td>0.5333333</td><td>0.77777778</td><td>0.16666667</td><td>0.833333333</td><td>0.22222222</td><td>0.3888889</td><td>0.5754147</td><td>1.2661675</td></tr>\n",
       "\t<tr><th scope=row>8</th><td>alibaba sg         </td><td>268</td><td> 1</td><td>  0</td><td>250</td><td> 17</td><td>250</td><td>0.9363296</td><td>0.00000000</td><td>1.0000000</td><td>0.000000000</td><td>1.00000000</td><td>0.6015294</td><td>0.13529667</td><td>268</td><td>0</td><td>  0</td><td>251</td><td> 17</td><td>251</td><td>0.9365672</td><td>0.00000000</td><td>1.00000000</td><td>0.000000000</td><td>1.00000000</td><td>0.6135458</td><td>0.1805290</td><td>0.7494456</td></tr>\n",
       "\t<tr><th scope=row>9</th><td>alpnames           </td><td>  3</td><td> 1</td><td>  0</td><td>  1</td><td>  1</td><td>  1</td><td>0.5000000</td><td>0.00000000</td><td>1.0000000</td><td>0.000000000</td><td>1.00000000</td><td>1.0000000</td><td>1.00000000</td><td>  3</td><td>0</td><td>  1</td><td>  2</td><td>  1</td><td>  2</td><td>1.0000000</td><td>1.00000000</td><td>1.00000000</td><td>0.000000000</td><td>0.00000000</td><td>1.0000000</td><td>1.0000000</td><td>1.0000000</td></tr>\n",
       "\t<tr><th scope=row>11</th><td>atak               </td><td> 31</td><td> 1</td><td>  0</td><td> 25</td><td>  4</td><td> 26</td><td>0.8333333</td><td>0.00000000</td><td>0.9615385</td><td>0.038461538</td><td>1.00000000</td><td>0.4423077</td><td>0.25393908</td><td> 31</td><td>0</td><td>  0</td><td> 25</td><td>  5</td><td> 26</td><td>0.8064516</td><td>0.00000000</td><td>0.96153846</td><td>0.038461538</td><td>1.00000000</td><td>0.7769231</td><td>0.4261905</td><td>0.5958347</td></tr>\n",
       "\t<tr><th scope=row>12</th><td>automattic         </td><td>355</td><td> 0</td><td>132</td><td> 54</td><td>191</td><td>164</td><td>0.5239437</td><td>0.69109948</td><td>0.3292683</td><td>0.670731707</td><td>0.30890052</td><td>0.5039586</td><td>0.52275400</td><td>355</td><td>0</td><td>187</td><td> 15</td><td>191</td><td>164</td><td>0.5690141</td><td>0.97905759</td><td>0.09146341</td><td>0.908536585</td><td>0.02094241</td><td>0.5475993</td><td>0.5566967</td><td>0.9390284</td></tr>\n",
       "\t<tr><th scope=row>14</th><td>bizcn              </td><td>231</td><td>11</td><td>  1</td><td>176</td><td> 24</td><td>196</td><td>0.8045455</td><td>0.04166667</td><td>0.8979592</td><td>0.102040816</td><td>0.95833333</td><td>0.5980017</td><td>0.15678244</td><td>231</td><td>0</td><td>  0</td><td>204</td><td> 26</td><td>205</td><td>0.8831169</td><td>0.00000000</td><td>0.99512195</td><td>0.004878049</td><td>1.00000000</td><td>0.6700750</td><td>0.2199552</td><td>0.7127927</td></tr>\n",
       "\t<tr><th scope=row>15</th><td>c-soft oy          </td><td>  5</td><td> 0</td><td>  0</td><td>  3</td><td>  1</td><td>  4</td><td>0.6000000</td><td>0.00000000</td><td>0.7500000</td><td>0.250000000</td><td>1.00000000</td><td>0.3750000</td><td>0.60000000</td><td>  5</td><td>0</td><td>  0</td><td>  4</td><td>  1</td><td>  4</td><td>0.8000000</td><td>0.00000000</td><td>1.00000000</td><td>0.000000000</td><td>1.00000000</td><td>0.0000000</td><td>0.6000000</td><td>1.0000000</td></tr>\n",
       "\t<tr><th scope=row>16</th><td>chengdu fly        </td><td> 69</td><td>12</td><td>  1</td><td> 51</td><td>  3</td><td> 54</td><td>0.9122807</td><td>0.33333333</td><td>0.9444444</td><td>0.055555556</td><td>0.66666667</td><td>0.6882716</td><td>0.31432749</td><td> 69</td><td>0</td><td>  0</td><td> 66</td><td>  3</td><td> 66</td><td>0.9565217</td><td>0.00000000</td><td>1.00000000</td><td>0.000000000</td><td>1.00000000</td><td>0.7373737</td><td>0.2618301</td><td>1.2005016</td></tr>\n",
       "\t<tr><th scope=row>18</th><td>com laude          </td><td>  8</td><td> 4</td><td>  1</td><td>  0</td><td>  1</td><td>  3</td><td>0.2500000</td><td>1.00000000</td><td>0.0000000</td><td>1.000000000</td><td>0.00000000</td><td>0.8333333</td><td>0.75000000</td><td>  8</td><td>0</td><td>  5</td><td>  1</td><td>  5</td><td>  3</td><td>0.7500000</td><td>1.00000000</td><td>0.33333333</td><td>0.666666667</td><td>0.00000000</td><td>1.0000000</td><td>1.0000000</td><td>0.7500000</td></tr>\n",
       "\t<tr><th scope=row>19</th><td>corehub            </td><td> 10</td><td> 2</td><td>  4</td><td>  0</td><td>  7</td><td>  1</td><td>0.5000000</td><td>0.57142857</td><td>0.0000000</td><td>1.000000000</td><td>0.42857143</td><td>0.5714286</td><td>0.97232143</td><td> 10</td><td>0</td><td>  9</td><td>  0</td><td>  9</td><td>  1</td><td>0.9000000</td><td>1.00000000</td><td>0.00000000</td><td>1.000000000</td><td>0.00000000</td><td>1.0000000</td><td>1.0000000</td><td>0.9723214</td></tr>\n",
       "\t<tr><th scope=row>20</th><td>crazy domains      </td><td>195</td><td> 2</td><td> 30</td><td> 82</td><td> 87</td><td>106</td><td>0.5803109</td><td>0.34482759</td><td>0.7735849</td><td>0.226415094</td><td>0.65517241</td><td>0.5895684</td><td>0.52179858</td><td>195</td><td>0</td><td> 27</td><td> 83</td><td> 89</td><td>106</td><td>0.5641026</td><td>0.30337079</td><td>0.78301887</td><td>0.216981132</td><td>0.69662921</td><td>0.5595718</td><td>0.5315648</td><td>0.9816274</td></tr>\n",
       "\t<tr><th scope=row>22</th><td>csc corporate      </td><td> 25</td><td>18</td><td>  6</td><td>  0</td><td>  6</td><td>  1</td><td>0.8571429</td><td>1.00000000</td><td>0.0000000</td><td>1.000000000</td><td>0.00000000</td><td>0.8333333</td><td>0.98809524</td><td> 25</td><td>0</td><td> 24</td><td>  0</td><td> 24</td><td>  1</td><td>0.9600000</td><td>1.00000000</td><td>0.00000000</td><td>1.000000000</td><td>0.00000000</td><td>0.9166667</td><td>0.9974306</td><td>0.9906406</td></tr>\n",
       "\t<tr><th scope=row>23</th><td>csl                </td><td>216</td><td> 3</td><td>  9</td><td>132</td><td> 70</td><td>143</td><td>0.6619718</td><td>0.12857143</td><td>0.9230769</td><td>0.076923077</td><td>0.87142857</td><td>0.6994505</td><td>0.47239347</td><td>216</td><td>0</td><td>  5</td><td>139</td><td> 72</td><td>144</td><td>0.6666667</td><td>0.06944444</td><td>0.96527778</td><td>0.034722222</td><td>0.93055556</td><td>0.6668596</td><td>0.4697571</td><td>1.0056121</td></tr>\n",
       "\t<tr><th scope=row>24</th><td>diamatrix          </td><td>144</td><td> 0</td><td>  1</td><td> 94</td><td> 50</td><td> 94</td><td>0.6597222</td><td>0.02000000</td><td>1.0000000</td><td>0.000000000</td><td>0.98000000</td><td>0.4775532</td><td>0.36635909</td><td>144</td><td>0</td><td>  1</td><td> 94</td><td> 50</td><td> 94</td><td>0.6597222</td><td>0.02000000</td><td>1.00000000</td><td>0.000000000</td><td>0.98000000</td><td>0.5509574</td><td>0.4167497</td><td>0.8790867</td></tr>\n",
       "\t<tr><th scope=row>25</th><td>dinahosting        </td><td> 33</td><td> 2</td><td> 13</td><td>  3</td><td> 18</td><td> 13</td><td>0.5161290</td><td>0.72222222</td><td>0.2307692</td><td>0.769230769</td><td>0.27777778</td><td>0.3888889</td><td>0.52518246</td><td> 33</td><td>0</td><td> 14</td><td>  7</td><td> 18</td><td> 15</td><td>0.6363636</td><td>0.77777778</td><td>0.46666667</td><td>0.533333333</td><td>0.22222222</td><td>0.6259259</td><td>0.6897674</td><td>0.7613907</td></tr>\n",
       "\t<tr><th scope=row>27</th><td>domeneshop         </td><td> 59</td><td> 1</td><td> 24</td><td> 11</td><td> 34</td><td> 24</td><td>0.6034483</td><td>0.70588235</td><td>0.4583333</td><td>0.541666667</td><td>0.29411765</td><td>0.6115196</td><td>0.71134726</td><td> 59</td><td>0</td><td> 16</td><td> 15</td><td> 35</td><td> 24</td><td>0.5254237</td><td>0.45714286</td><td>0.62500000</td><td>0.375000000</td><td>0.54285714</td><td>0.5452381</td><td>0.6355431</td><td>1.1192746</td></tr>\n",
       "\t<tr><th scope=row>28</th><td>dotname korea      </td><td>132</td><td> 0</td><td>  0</td><td>125</td><td>  3</td><td>129</td><td>0.9469697</td><td>0.00000000</td><td>0.9689922</td><td>0.031007752</td><td>1.00000000</td><td>0.3449612</td><td>0.18397668</td><td>132</td><td>0</td><td>  0</td><td>129</td><td>  3</td><td>129</td><td>0.9772727</td><td>0.00000000</td><td>1.00000000</td><td>0.000000000</td><td>1.00000000</td><td>0.8449612</td><td>0.2638889</td><td>0.6971748</td></tr>\n",
       "\t<tr><th scope=row>31</th><td>ejee group         </td><td>  8</td><td> 5</td><td>  0</td><td>  2</td><td>  1</td><td>  2</td><td>0.6666667</td><td>0.00000000</td><td>1.0000000</td><td>0.000000000</td><td>1.00000000</td><td>0.2500000</td><td>0.66666667</td><td>  8</td><td>0</td><td>  0</td><td>  7</td><td>  1</td><td>  7</td><td>0.8750000</td><td>0.00000000</td><td>1.00000000</td><td>0.000000000</td><td>1.00000000</td><td>1.0000000</td><td>1.0000000</td><td>0.6666667</td></tr>\n",
       "\t<tr><th scope=row>33</th><td>epag               </td><td> 42</td><td> 0</td><td>  1</td><td> 35</td><td>  6</td><td> 36</td><td>0.8571429</td><td>0.16666667</td><td>0.9722222</td><td>0.027777778</td><td>0.83333333</td><td>0.6203704</td><td>0.41481062</td><td> 42</td><td>0</td><td>  0</td><td> 36</td><td>  6</td><td> 36</td><td>0.8571429</td><td>0.00000000</td><td>1.00000000</td><td>0.000000000</td><td>1.00000000</td><td>0.6481481</td><td>0.2725634</td><td>1.5218870</td></tr>\n",
       "\t<tr><th scope=row>34</th><td>epik llc           </td><td> 54</td><td>27</td><td>  1</td><td> 24</td><td>  3</td><td> 24</td><td>0.9259259</td><td>0.33333333</td><td>1.0000000</td><td>0.000000000</td><td>0.66666667</td><td>0.7500000</td><td>0.60227273</td><td> 54</td><td>0</td><td>  3</td><td> 51</td><td>  3</td><td> 51</td><td>1.0000000</td><td>1.00000000</td><td>1.00000000</td><td>0.000000000</td><td>0.00000000</td><td>1.0000000</td><td>1.0000000</td><td>0.6022727</td></tr>\n",
       "\t<tr><th scope=row>36</th><td>euro dns           </td><td>257</td><td> 3</td><td>  7</td><td>185</td><td> 62</td><td>192</td><td>0.7559055</td><td>0.11290323</td><td>0.9635417</td><td>0.036458333</td><td>0.88709677</td><td>0.6978327</td><td>0.39678347</td><td>257</td><td>0</td><td>  9</td><td>187</td><td> 64</td><td>193</td><td>0.7626459</td><td>0.14062500</td><td>0.96891192</td><td>0.031088083</td><td>0.85937500</td><td>0.7098446</td><td>0.4777649</td><td>0.8304995</td></tr>\n",
       "\t<tr><th scope=row>38</th><td>freeparking        </td><td>  6</td><td> 1</td><td>  2</td><td>  1</td><td>  3</td><td>  2</td><td>0.6000000</td><td>0.66666667</td><td>0.5000000</td><td>0.500000000</td><td>0.33333333</td><td>0.5000000</td><td>0.82222222</td><td>  6</td><td>0</td><td>  4</td><td>  0</td><td>  4</td><td>  2</td><td>0.6666667</td><td>1.00000000</td><td>0.00000000</td><td>1.000000000</td><td>0.00000000</td><td>0.6250000</td><td>0.8291667</td><td>0.9916248</td></tr>\n",
       "\t<tr><th scope=row>41</th><td>global domains     </td><td>542</td><td>38</td><td>  1</td><td>488</td><td>  5</td><td>499</td><td>0.9702381</td><td>0.20000000</td><td>0.9779559</td><td>0.022044088</td><td>0.80000000</td><td>0.7991984</td><td>0.13728811</td><td>542</td><td>0</td><td>  0</td><td>537</td><td>  5</td><td>537</td><td>0.9907749</td><td>0.00000000</td><td>1.00000000</td><td>0.000000000</td><td>1.00000000</td><td>0.6145251</td><td>0.1334530</td><td>1.0287379</td></tr>\n",
       "\t<tr><th scope=row>45</th><td>gransy             </td><td>183</td><td> 4</td><td> 14</td><td>119</td><td> 40</td><td>139</td><td>0.7430168</td><td>0.35000000</td><td>0.8561151</td><td>0.143884892</td><td>0.65000000</td><td>0.7052158</td><td>0.40094067</td><td>183</td><td>0</td><td>  4</td><td>133</td><td> 43</td><td>140</td><td>0.7486339</td><td>0.09302326</td><td>0.95000000</td><td>0.050000000</td><td>0.90697674</td><td>0.6611296</td><td>0.3471426</td><td>1.1549741</td></tr>\n",
       "\t<tr><th scope=row>49</th><td>instra corporation </td><td>205</td><td> 3</td><td>  7</td><td>150</td><td> 46</td><td>156</td><td>0.7772277</td><td>0.15217391</td><td>0.9615385</td><td>0.038461538</td><td>0.84782609</td><td>0.6539855</td><td>0.40807026</td><td>205</td><td>0</td><td>  2</td><td>156</td><td> 46</td><td>159</td><td>0.7707317</td><td>0.04347826</td><td>0.98113208</td><td>0.018867925</td><td>0.95652174</td><td>0.6372710</td><td>0.3782804</td><td>1.0787506</td></tr>\n",
       "\t<tr><th scope=row>50</th><td>internet gmbh      </td><td>  4</td><td> 0</td><td>  0</td><td>  0</td><td>  1</td><td>  3</td><td>0.0000000</td><td>0.00000000</td><td>0.0000000</td><td>1.000000000</td><td>1.00000000</td><td>0.0000000</td><td>0.62500000</td><td>  4</td><td>0</td><td>  0</td><td>  3</td><td>  1</td><td>  3</td><td>0.7500000</td><td>0.00000000</td><td>1.00000000</td><td>0.000000000</td><td>1.00000000</td><td>0.0000000</td><td>0.6250000</td><td>1.0000000</td></tr>\n",
       "\t<tr><th scope=row>51</th><td>internetworx ltd   </td><td> 19</td><td> 3</td><td>  7</td><td>  3</td><td>  9</td><td>  7</td><td>0.6250000</td><td>0.77777778</td><td>0.4285714</td><td>0.571428571</td><td>0.22222222</td><td>0.5555556</td><td>0.65680716</td><td> 19</td><td>0</td><td>  2</td><td>  5</td><td> 11</td><td>  8</td><td>0.3684211</td><td>0.18181818</td><td>0.62500000</td><td>0.375000000</td><td>0.81818182</td><td>0.3295455</td><td>0.6138572</td><td>1.0699673</td></tr>\n",
       "\t<tr><th scope=row>52</th><td>internetx          </td><td>150</td><td> 5</td><td> 82</td><td>  7</td><td> 97</td><td> 48</td><td>0.6137931</td><td>0.84536082</td><td>0.1458333</td><td>0.854166667</td><td>0.15463918</td><td>0.5550902</td><td>0.71975971</td><td>150</td><td>0</td><td> 20</td><td> 43</td><td>101</td><td> 49</td><td>0.4200000</td><td>0.19801980</td><td>0.87755102</td><td>0.122448980</td><td>0.80198020</td><td>0.6112346</td><td>0.7520411</td><td>0.9570749</td></tr>\n",
       "\t<tr><th scope=row>53</th><td>jogjacamp          </td><td>344</td><td> 4</td><td>  0</td><td>329</td><td> 11</td><td>329</td><td>0.9676471</td><td>0.00000000</td><td>1.0000000</td><td>0.000000000</td><td>1.00000000</td><td>0.6808511</td><td>0.12339626</td><td>344</td><td>0</td><td>  0</td><td>333</td><td> 11</td><td>333</td><td>0.9680233</td><td>0.00000000</td><td>1.00000000</td><td>0.000000000</td><td>1.00000000</td><td>0.5948676</td><td>0.1307480</td><td>0.9437718</td></tr>\n",
       "\t<tr><th scope=row>55</th><td>ledl.net           </td><td> 62</td><td> 0</td><td>  6</td><td> 36</td><td> 16</td><td> 46</td><td>0.6774194</td><td>0.37500000</td><td>0.7826087</td><td>0.217391304</td><td>0.62500000</td><td>0.5332880</td><td>0.40512063</td><td> 62</td><td>0</td><td>  1</td><td> 44</td><td> 16</td><td> 46</td><td>0.7258065</td><td>0.06250000</td><td>0.95652174</td><td>0.043478261</td><td>0.93750000</td><td>0.6154891</td><td>0.3710203</td><td>1.0919097</td></tr>\n",
       "\t<tr><th scope=row>56</th><td>ligne web services </td><td>268</td><td> 1</td><td>  1</td><td>249</td><td> 17</td><td>250</td><td>0.9363296</td><td>0.05882353</td><td>0.9960000</td><td>0.004000000</td><td>0.94117647</td><td>0.6157647</td><td>0.17786917</td><td>268</td><td>0</td><td>  0</td><td>251</td><td> 17</td><td>251</td><td>0.9365672</td><td>0.00000000</td><td>1.00000000</td><td>0.000000000</td><td>1.00000000</td><td>0.5720647</td><td>0.1952201</td><td>0.9111211</td></tr>\n",
       "\t<tr><th scope=row>57</th><td>liquidnet          </td><td>127</td><td> 0</td><td>  3</td><td> 96</td><td> 21</td><td>106</td><td>0.7795276</td><td>0.14285714</td><td>0.9056604</td><td>0.094339623</td><td>0.85714286</td><td>0.4847260</td><td>0.21314824</td><td>127</td><td>0</td><td>  2</td><td> 98</td><td> 21</td><td>106</td><td>0.7874016</td><td>0.09523810</td><td>0.92452830</td><td>0.075471698</td><td>0.90476190</td><td>0.6531896</td><td>0.3207404</td><td>0.6645506</td></tr>\n",
       "\t<tr><th scope=row>58</th><td>marcaria.com       </td><td> 13</td><td> 4</td><td>  4</td><td>  0</td><td>  8</td><td>  1</td><td>0.4444444</td><td>0.50000000</td><td>0.0000000</td><td>1.000000000</td><td>0.50000000</td><td>0.1875000</td><td>0.81999008</td><td> 13</td><td>0</td><td> 10</td><td>  0</td><td> 10</td><td>  3</td><td>0.7692308</td><td>1.00000000</td><td>0.00000000</td><td>1.000000000</td><td>0.00000000</td><td>0.3333333</td><td>0.6876912</td><td>1.1923812</td></tr>\n",
       "\t<tr><th scope=row>59</th><td>mat bao            </td><td>272</td><td> 3</td><td>  0</td><td>253</td><td> 14</td><td>255</td><td>0.9405204</td><td>0.00000000</td><td>0.9921569</td><td>0.007843137</td><td>1.00000000</td><td>0.5787115</td><td>0.12891410</td><td>272</td><td>0</td><td>  1</td><td>253</td><td> 15</td><td>257</td><td>0.9338235</td><td>0.06666667</td><td>0.98443580</td><td>0.015564202</td><td>0.93333333</td><td>0.6809339</td><td>0.1747161</td><td>0.7378492</td></tr>\n",
       "\t<tr><th scope=row>60</th><td>melbourne it       </td><td> 13</td><td> 1</td><td>  2</td><td>  6</td><td>  4</td><td>  8</td><td>0.6666667</td><td>0.50000000</td><td>0.7500000</td><td>0.250000000</td><td>0.50000000</td><td>0.5468750</td><td>0.52380952</td><td> 13</td><td>0</td><td>  1</td><td>  7</td><td>  5</td><td>  8</td><td>0.6153846</td><td>0.20000000</td><td>0.87500000</td><td>0.125000000</td><td>0.80000000</td><td>0.7750000</td><td>0.6491667</td><td>0.8068953</td></tr>\n",
       "\t<tr><th scope=row>61</th><td>mesh digital       </td><td>462</td><td> 9</td><td>264</td><td> 30</td><td>280</td><td>173</td><td>0.6490066</td><td>0.94285714</td><td>0.1734104</td><td>0.826589595</td><td>0.05714286</td><td>0.6013832</td><td>0.68564139</td><td>462</td><td>0</td><td>152</td><td>101</td><td>288</td><td>174</td><td>0.5476190</td><td>0.52777778</td><td>0.58045977</td><td>0.419540230</td><td>0.47222222</td><td>0.5528815</td><td>0.6551191</td><td>1.0465904</td></tr>\n",
       "\t<tr><th scope=row>62</th><td>metaregistrar      </td><td>217</td><td> 1</td><td> 99</td><td> 45</td><td>119</td><td> 97</td><td>0.6666667</td><td>0.83193277</td><td>0.4639175</td><td>0.536082474</td><td>0.16806723</td><td>0.6890756</td><td>0.69559400</td><td>217</td><td>0</td><td> 11</td><td> 91</td><td>120</td><td> 97</td><td>0.4700461</td><td>0.09166667</td><td>0.93814433</td><td>0.061855670</td><td>0.90833333</td><td>0.6536942</td><td>0.6817109</td><td>1.0203650</td></tr>\n",
       "\t<tr><th scope=row>65</th><td>nameshield         </td><td>  9</td><td> 6</td><td>  0</td><td>  1</td><td>  2</td><td>  1</td><td>0.3333333</td><td>0.00000000</td><td>1.0000000</td><td>0.000000000</td><td>1.00000000</td><td>1.0000000</td><td>1.00000000</td><td>  9</td><td>0</td><td>  4</td><td>  1</td><td>  8</td><td>  1</td><td>0.5555556</td><td>0.50000000</td><td>1.00000000</td><td>0.000000000</td><td>0.50000000</td><td>1.0000000</td><td>1.0000000</td><td>1.0000000</td></tr>\n",
       "\t<tr><th scope=row>67</th><td>netim              </td><td> 56</td><td> 1</td><td>  8</td><td> 35</td><td> 16</td><td> 39</td><td>0.7818182</td><td>0.50000000</td><td>0.8974359</td><td>0.102564103</td><td>0.50000000</td><td>0.6794872</td><td>0.52281476</td><td> 56</td><td>0</td><td>  9</td><td> 34</td><td> 17</td><td> 39</td><td>0.7678571</td><td>0.52941176</td><td>0.87179487</td><td>0.128205128</td><td>0.47058824</td><td>0.7843137</td><td>0.5574412</td><td>0.9378833</td></tr>\n",
       "\t<tr><th scope=row>68</th><td>netistrar          </td><td>  3</td><td> 0</td><td>  1</td><td>  2</td><td>  1</td><td>  2</td><td>1.0000000</td><td>1.00000000</td><td>1.0000000</td><td>0.000000000</td><td>0.00000000</td><td>1.0000000</td><td>1.00000000</td><td>  3</td><td>0</td><td>  0</td><td>  2</td><td>  1</td><td>  2</td><td>0.6666667</td><td>0.00000000</td><td>1.00000000</td><td>0.000000000</td><td>1.00000000</td><td>1.0000000</td><td>1.0000000</td><td>1.0000000</td></tr>\n",
       "\t<tr><th scope=row>69</th><td>netowl             </td><td> 60</td><td> 3</td><td>  2</td><td> 49</td><td>  4</td><td> 53</td><td>0.8947368</td><td>0.50000000</td><td>0.9245283</td><td>0.075471698</td><td>0.50000000</td><td>0.8820755</td><td>0.40024510</td><td> 60</td><td>0</td><td>  4</td><td> 53</td><td>  6</td><td> 54</td><td>0.9500000</td><td>0.66666667</td><td>0.98148148</td><td>0.018518519</td><td>0.33333333</td><td>0.9814815</td><td>0.9343434</td><td>0.4283704</td></tr>\n",
       "\t<tr><th scope=row>71</th><td>nhan hoa software  </td><td>114</td><td> 8</td><td>  0</td><td>103</td><td>  3</td><td>103</td><td>0.9716981</td><td>0.00000000</td><td>1.0000000</td><td>0.000000000</td><td>1.00000000</td><td>0.6828479</td><td>0.56105006</td><td>114</td><td>0</td><td>  0</td><td>111</td><td>  3</td><td>111</td><td>0.9736842</td><td>0.00000000</td><td>1.00000000</td><td>0.000000000</td><td>1.00000000</td><td>0.6246246</td><td>0.2260965</td><td>2.4814629</td></tr>\n",
       "\t<tr><th scope=row>73</th><td>online sas         </td><td> 15</td><td> 0</td><td>  3</td><td>  0</td><td> 13</td><td>  2</td><td>0.2000000</td><td>0.23076923</td><td>0.0000000</td><td>1.000000000</td><td>0.76923077</td><td>0.1538462</td><td>0.80104169</td><td> 15</td><td>0</td><td> 13</td><td>  0</td><td> 13</td><td>  2</td><td>0.8666667</td><td>1.00000000</td><td>0.00000000</td><td>1.000000000</td><td>0.00000000</td><td>0.5000000</td><td>0.9000066</td><td>0.8900398</td></tr>\n",
       "\t<tr><th scope=row>75</th><td>opentld b.v.       </td><td>  7</td><td> 2</td><td>  1</td><td>  0</td><td>  4</td><td>  1</td><td>0.2000000</td><td>0.25000000</td><td>0.0000000</td><td>1.000000000</td><td>0.75000000</td><td>0.0000000</td><td>0.70416667</td><td>  7</td><td>0</td><td>  2</td><td>  1</td><td>  4</td><td>  3</td><td>0.4285714</td><td>0.50000000</td><td>0.33333333</td><td>0.666666667</td><td>0.50000000</td><td>0.4166667</td><td>0.6083333</td><td>1.1575342</td></tr>\n",
       "\t<tr><th scope=row>77</th><td>p.a viet nam       </td><td>258</td><td> 8</td><td>  2</td><td>231</td><td> 17</td><td>233</td><td>0.9320000</td><td>0.11764706</td><td>0.9914163</td><td>0.008583691</td><td>0.88235294</td><td>0.6707902</td><td>0.25516912</td><td>258</td><td>0</td><td>  0</td><td>240</td><td> 18</td><td>240</td><td>0.9302326</td><td>0.00000000</td><td>1.00000000</td><td>0.000000000</td><td>1.00000000</td><td>0.5835648</td><td>0.1187759</td><td>2.1483242</td></tr>\n",
       "\t<tr><th scope=row>78</th><td>paragon internet   </td><td> 47</td><td> 0</td><td> 18</td><td> 11</td><td> 30</td><td> 17</td><td>0.6170213</td><td>0.60000000</td><td>0.6470588</td><td>0.352941176</td><td>0.40000000</td><td>0.7411765</td><td>0.87885044</td><td> 47</td><td>0</td><td>  0</td><td> 17</td><td> 30</td><td> 17</td><td>0.3617021</td><td>0.00000000</td><td>1.00000000</td><td>0.000000000</td><td>1.00000000</td><td>0.3313725</td><td>0.5996116</td><td>1.4656995</td></tr>\n",
       "\t<tr><th scope=row>80</th><td>porkbun            </td><td>479</td><td> 2</td><td>  5</td><td>384</td><td> 77</td><td>400</td><td>0.8155136</td><td>0.06493506</td><td>0.9600000</td><td>0.040000000</td><td>0.93506494</td><td>0.5860714</td><td>0.21487292</td><td>479</td><td>0</td><td>  1</td><td>395</td><td> 78</td><td>401</td><td>0.8267223</td><td>0.01282051</td><td>0.98503741</td><td>0.014962594</td><td>0.98717949</td><td>0.5540636</td><td>0.2157076</td><td>0.9961306</td></tr>\n",
       "\t<tr><th scope=row>81</th><td>promo people       </td><td> 61</td><td> 1</td><td>  6</td><td> 18</td><td> 25</td><td> 35</td><td>0.4000000</td><td>0.24000000</td><td>0.5142857</td><td>0.485714286</td><td>0.76000000</td><td>0.4240000</td><td>0.43778382</td><td> 61</td><td>0</td><td>  0</td><td> 35</td><td> 25</td><td> 36</td><td>0.5737705</td><td>0.00000000</td><td>0.97222222</td><td>0.027777778</td><td>1.00000000</td><td>0.4911111</td><td>0.3922531</td><td>1.1160750</td></tr>\n",
       "\t<tr><th scope=row>84</th><td>register.com       </td><td>110</td><td> 2</td><td> 39</td><td> 24</td><td> 60</td><td> 48</td><td>0.5833333</td><td>0.65000000</td><td>0.5000000</td><td>0.500000000</td><td>0.35000000</td><td>0.6142361</td><td>0.68089650</td><td>110</td><td>0</td><td>  3</td><td> 46</td><td> 60</td><td> 50</td><td>0.4454545</td><td>0.05000000</td><td>0.92000000</td><td>0.080000000</td><td>0.95000000</td><td>0.4423333</td><td>0.5394309</td><td>1.2622498</td></tr>\n",
       "\t<tr><th scope=row>85</th><td>registrator domenov</td><td> 55</td><td> 6</td><td>  5</td><td> 27</td><td> 12</td><td> 37</td><td>0.6530612</td><td>0.41666667</td><td>0.7297297</td><td>0.270270270</td><td>0.58333333</td><td>0.5630631</td><td>0.32960679</td><td> 55</td><td>0</td><td>  0</td><td> 41</td><td> 14</td><td> 41</td><td>0.7454545</td><td>0.00000000</td><td>1.00000000</td><td>0.000000000</td><td>1.00000000</td><td>0.4808362</td><td>0.3918459</td><td>0.8411644</td></tr>\n",
       "\t<tr><th scope=row>86</th><td>registrygate       </td><td> 18</td><td> 4</td><td>  7</td><td>  0</td><td> 12</td><td>  2</td><td>0.5000000</td><td>0.58333333</td><td>0.0000000</td><td>1.000000000</td><td>0.41666667</td><td>0.4583333</td><td>0.89930972</td><td> 18</td><td>0</td><td> 11</td><td>  1</td><td> 13</td><td>  5</td><td>0.6666667</td><td>0.84615385</td><td>0.20000000</td><td>0.800000000</td><td>0.15384615</td><td>0.5076923</td><td>0.8182617</td><td>1.0990491</td></tr>\n",
       "\t<tr><th scope=row>88</th><td>rumahweb           </td><td>308</td><td> 0</td><td>  0</td><td>290</td><td> 16</td><td>292</td><td>0.9415584</td><td>0.00000000</td><td>0.9931507</td><td>0.006849315</td><td>1.00000000</td><td>0.4689640</td><td>0.08421945</td><td>308</td><td>0</td><td>  0</td><td>292</td><td> 16</td><td>292</td><td>0.9480519</td><td>0.00000000</td><td>1.00000000</td><td>0.000000000</td><td>1.00000000</td><td>0.6065925</td><td>0.1939003</td><td>0.4343440</td></tr>\n",
       "\t<tr><th scope=row>89</th><td>server plan        </td><td>  3</td><td> 1</td><td>  0</td><td>  0</td><td>  1</td><td>  1</td><td>0.0000000</td><td>0.00000000</td><td>0.0000000</td><td>1.000000000</td><td>1.00000000</td><td>0.0000000</td><td>0.75000000</td><td>  3</td><td>0</td><td>  0</td><td>  1</td><td>  2</td><td>  1</td><td>0.3333333</td><td>0.00000000</td><td>1.00000000</td><td>0.000000000</td><td>1.00000000</td><td>1.0000000</td><td>1.0000000</td><td>0.7500000</td></tr>\n",
       "\t<tr><th scope=row>90</th><td>shanghai best oray </td><td>138</td><td> 4</td><td>  1</td><td>117</td><td> 16</td><td>118</td><td>0.8805970</td><td>0.06250000</td><td>0.9915254</td><td>0.008474576</td><td>0.93750000</td><td>0.6009004</td><td>0.22929132</td><td>138</td><td>0</td><td>  0</td><td>122</td><td> 16</td><td>122</td><td>0.8840580</td><td>0.00000000</td><td>1.00000000</td><td>0.000000000</td><td>1.00000000</td><td>0.5204918</td><td>0.1948107</td><td>1.1769954</td></tr>\n",
       "\t<tr><th scope=row>93</th><td>super registry     </td><td> 13</td><td> 0</td><td>  3</td><td>  1</td><td>  7</td><td>  6</td><td>0.3076923</td><td>0.42857143</td><td>0.1666667</td><td>0.833333333</td><td>0.57142857</td><td>0.4285714</td><td>0.63546176</td><td> 13</td><td>0</td><td>  2</td><td>  5</td><td>  7</td><td>  6</td><td>0.5384615</td><td>0.28571429</td><td>0.83333333</td><td>0.166666667</td><td>0.71428571</td><td>0.5000000</td><td>0.6989538</td><td>0.9091613</td></tr>\n",
       "\t<tr><th scope=row>94</th><td>synergy wholesale  </td><td> 10</td><td> 5</td><td>  2</td><td>  0</td><td>  4</td><td>  1</td><td>0.4000000</td><td>0.50000000</td><td>0.0000000</td><td>1.000000000</td><td>0.50000000</td><td>0.2500000</td><td>0.82916667</td><td> 10</td><td>0</td><td>  3</td><td>  3</td><td>  5</td><td>  5</td><td>0.6000000</td><td>0.60000000</td><td>0.60000000</td><td>0.400000000</td><td>0.40000000</td><td>0.6400000</td><td>0.7422222</td><td>1.1171407</td></tr>\n",
       "\t<tr><th scope=row>95</th><td>tecnocratica centro</td><td>  3</td><td> 1</td><td>  1</td><td>  1</td><td>  1</td><td>  1</td><td>1.0000000</td><td>1.00000000</td><td>1.0000000</td><td>0.000000000</td><td>0.00000000</td><td>1.0000000</td><td>1.00000000</td><td>  3</td><td>0</td><td>  0</td><td>  1</td><td>  1</td><td>  2</td><td>0.3333333</td><td>0.00000000</td><td>0.50000000</td><td>0.500000000</td><td>1.00000000</td><td>0.5000000</td><td>0.7500000</td><td>1.3333333</td></tr>\n",
       "\t<tr><th scope=row>96</th><td>tld registrar solns</td><td>411</td><td> 4</td><td>  8</td><td>354</td><td> 38</td><td>369</td><td>0.8894349</td><td>0.21052632</td><td>0.9593496</td><td>0.040650407</td><td>0.78947368</td><td>0.7342034</td><td>0.25230691</td><td>411</td><td>0</td><td>  4</td><td>367</td><td> 40</td><td>371</td><td>0.9026764</td><td>0.10000000</td><td>0.98921833</td><td>0.010781671</td><td>0.90000000</td><td>0.8083558</td><td>0.2931159</td><td>0.8607751</td></tr>\n",
       "\t<tr><th scope=row>97</th><td>todaynic           </td><td>  6</td><td> 1</td><td>  1</td><td>  0</td><td>  1</td><td>  4</td><td>0.2000000</td><td>1.00000000</td><td>0.0000000</td><td>1.000000000</td><td>0.00000000</td><td>0.5000000</td><td>0.60000000</td><td>  6</td><td>0</td><td>  0</td><td>  5</td><td>  1</td><td>  5</td><td>0.8333333</td><td>0.00000000</td><td>1.00000000</td><td>0.000000000</td><td>1.00000000</td><td>0.4000000</td><td>0.6250000</td><td>0.9600000</td></tr>\n",
       "\t<tr><th scope=row>102</th><td>vautron            </td><td> 30</td><td> 5</td><td> 11</td><td>  2</td><td> 14</td><td> 11</td><td>0.5200000</td><td>0.78571429</td><td>0.1818182</td><td>0.818181818</td><td>0.21428571</td><td>0.4025974</td><td>0.51202252</td><td> 30</td><td>0</td><td> 14</td><td>  4</td><td> 15</td><td> 15</td><td>0.6000000</td><td>0.93333333</td><td>0.26666667</td><td>0.733333333</td><td>0.06666667</td><td>0.6133333</td><td>0.5739217</td><td>0.8921470</td></tr>\n",
       "\t<tr><th scope=row>103</th><td>web commerce comm  </td><td>488</td><td> 8</td><td>  1</td><td>463</td><td> 17</td><td>463</td><td>0.9666667</td><td>0.05882353</td><td>1.0000000</td><td>0.000000000</td><td>0.94117647</td><td>0.5539322</td><td>0.20282337</td><td>488</td><td>0</td><td>  0</td><td>469</td><td> 19</td><td>469</td><td>0.9610656</td><td>0.00000000</td><td>1.00000000</td><td>0.000000000</td><td>1.00000000</td><td>0.5989227</td><td>0.1430682</td><td>1.4176687</td></tr>\n",
       "\t<tr><th scope=row>104</th><td>web4africa         </td><td> 29</td><td> 5</td><td>  0</td><td> 22</td><td>  1</td><td> 23</td><td>0.9166667</td><td>0.00000000</td><td>0.9565217</td><td>0.043478261</td><td>1.00000000</td><td>0.2826087</td><td>0.52083333</td><td> 29</td><td>0</td><td>  0</td><td> 26</td><td>  3</td><td> 26</td><td>0.8965517</td><td>0.00000000</td><td>1.00000000</td><td>0.000000000</td><td>1.00000000</td><td>0.3846154</td><td>0.2632275</td><td>1.9786432</td></tr>\n",
       "\t<tr><th scope=row>105</th><td>webnames           </td><td> 18</td><td> 2</td><td>  3</td><td>  8</td><td>  5</td><td> 11</td><td>0.6875000</td><td>0.60000000</td><td>0.7272727</td><td>0.272727273</td><td>0.40000000</td><td>0.7272727</td><td>0.67500000</td><td> 18</td><td>0</td><td>  1</td><td> 11</td><td>  6</td><td> 12</td><td>0.6666667</td><td>0.16666667</td><td>0.91666667</td><td>0.083333333</td><td>0.83333333</td><td>0.6944444</td><td>0.6591270</td><td>1.0240819</td></tr>\n",
       "\t<tr><th scope=row>107</th><td>wild west          </td><td> 93</td><td> 3</td><td>  7</td><td> 38</td><td> 42</td><td> 48</td><td>0.5000000</td><td>0.16666667</td><td>0.7916667</td><td>0.208333333</td><td>0.83333333</td><td>0.5138889</td><td>0.46718132</td><td> 93</td><td>0</td><td>  2</td><td> 49</td><td> 43</td><td> 50</td><td>0.5483871</td><td>0.04651163</td><td>0.98000000</td><td>0.020000000</td><td>0.95348837</td><td>0.5139535</td><td>0.4982931</td><td>0.9375634</td></tr>\n",
       "\t<tr><th scope=row>108</th><td>xiamen chinasource </td><td>136</td><td> 1</td><td>  0</td><td>114</td><td> 12</td><td>123</td><td>0.8444444</td><td>0.00000000</td><td>0.9268293</td><td>0.073170732</td><td>1.00000000</td><td>0.6795393</td><td>0.19329511</td><td>136</td><td>0</td><td>  0</td><td>124</td><td> 12</td><td>124</td><td>0.9117647</td><td>0.00000000</td><td>1.00000000</td><td>0.000000000</td><td>1.00000000</td><td>0.7533602</td><td>0.3586393</td><td>0.5389679</td></tr>\n",
       "\t<tr><th scope=row>109</th><td>xiamen nawang      </td><td> 31</td><td> 2</td><td>  0</td><td> 25</td><td>  3</td><td> 26</td><td>0.8620690</td><td>0.00000000</td><td>0.9615385</td><td>0.038461538</td><td>1.00000000</td><td>0.6025641</td><td>0.29330065</td><td> 31</td><td>0</td><td>  0</td><td> 28</td><td>  3</td><td> 28</td><td>0.9032258</td><td>0.00000000</td><td>1.00000000</td><td>0.000000000</td><td>1.00000000</td><td>0.2380952</td><td>0.2303419</td><td>1.2733275</td></tr>\n",
       "</tbody>\n",
       "</table>\n"
      ],
      "text/latex": [
       "A data.frame: 70 × 28\n",
       "\\begin{tabular}{r|llllllllllllllllllllllllllll}\n",
       "  & reg & obs\\_count\\_s & na\\_count\\_s & TP\\_s & TN\\_s & P\\_s & N\\_s & acc\\_0.5\\_s & tpr\\_0.5\\_s & tnr\\_0.5\\_s & fpr\\_0.5\\_s & fnr\\_0.5\\_s & auc\\_s & aucpr\\_s & obs\\_count\\_r & na\\_count\\_r & TP\\_r & TN\\_r & P\\_r & N\\_r & acc\\_0.5\\_r & tpr\\_0.5\\_r & tnr\\_0.5\\_r & fpr\\_0.5\\_r & fnr\\_0.5\\_r & auc\\_r & aucpr\\_r & aucpr\\_srrat\\\\\n",
       "  & <fct> & <dbl> & <dbl> & <dbl> & <dbl> & <dbl> & <dbl> & <dbl> & <dbl> & <dbl> & <dbl> & <dbl> & <dbl> & <dbl> & <dbl> & <dbl> & <dbl> & <dbl> & <dbl> & <dbl> & <dbl> & <dbl> & <dbl> & <dbl> & <dbl> & <dbl> & <dbl> & <dbl>\\\\\n",
       "\\hline\n",
       "\t2 & 101 domain          &  32 &  6 &  14 &   6 &  16 &  10 & 0.7692308 & 0.87500000 & 0.6000000 & 0.400000000 & 0.12500000 & 0.6656250 & 0.69928561 &  32 & 0 &  19 &   2 &  19 &  13 & 0.6562500 & 1.00000000 & 0.15384615 & 0.846153846 & 0.00000000 & 0.6923077 & 0.8021654 & 0.8717474\\\\\n",
       "\t3 & 10dencehispahard    & 165 &  2 &   2 & 128 &  31 & 132 & 0.7975460 & 0.06451613 & 0.9696970 & 0.030303030 & 0.93548387 & 0.7065005 & 0.34897498 & 165 & 0 &   1 & 132 &  31 & 134 & 0.8060606 & 0.03225806 & 0.98507463 & 0.014925373 & 0.96774194 & 0.7087145 & 0.3286169 & 1.0619508\\\\\n",
       "\t4 & 1api                & 190 &  8 &  56 &  45 &  79 & 103 & 0.5549451 & 0.70886076 & 0.4368932 & 0.563106796 & 0.29113924 & 0.5710336 & 0.46988104 & 190 & 0 &  21 &  70 &  84 & 106 & 0.4789474 & 0.25000000 & 0.66037736 & 0.339622642 & 0.75000000 & 0.4977538 & 0.4620861 & 1.0168691\\\\\n",
       "\t5 & 22net inc           &  51 &  0 &   2 &  49 &   2 &  49 & 1.0000000 & 1.00000000 & 1.0000000 & 0.000000000 & 0.00000000 & 1.0000000 & 1.00000000 &  51 & 0 &   2 &  49 &   2 &  49 & 1.0000000 & 1.00000000 & 1.00000000 & 0.000000000 & 0.00000000 & 1.0000000 & 1.0000000 & 1.0000000\\\\\n",
       "\t6 & ab name isp         &  15 &  3 &   7 &   0 &   7 &   5 & 0.5833333 & 1.00000000 & 0.0000000 & 1.000000000 & 0.00000000 & 0.5571429 & 0.72857143 &  15 & 0 &   7 &   1 &   9 &   6 & 0.5333333 & 0.77777778 & 0.16666667 & 0.833333333 & 0.22222222 & 0.3888889 & 0.5754147 & 1.2661675\\\\\n",
       "\t8 & alibaba sg          & 268 &  1 &   0 & 250 &  17 & 250 & 0.9363296 & 0.00000000 & 1.0000000 & 0.000000000 & 1.00000000 & 0.6015294 & 0.13529667 & 268 & 0 &   0 & 251 &  17 & 251 & 0.9365672 & 0.00000000 & 1.00000000 & 0.000000000 & 1.00000000 & 0.6135458 & 0.1805290 & 0.7494456\\\\\n",
       "\t9 & alpnames            &   3 &  1 &   0 &   1 &   1 &   1 & 0.5000000 & 0.00000000 & 1.0000000 & 0.000000000 & 1.00000000 & 1.0000000 & 1.00000000 &   3 & 0 &   1 &   2 &   1 &   2 & 1.0000000 & 1.00000000 & 1.00000000 & 0.000000000 & 0.00000000 & 1.0000000 & 1.0000000 & 1.0000000\\\\\n",
       "\t11 & atak                &  31 &  1 &   0 &  25 &   4 &  26 & 0.8333333 & 0.00000000 & 0.9615385 & 0.038461538 & 1.00000000 & 0.4423077 & 0.25393908 &  31 & 0 &   0 &  25 &   5 &  26 & 0.8064516 & 0.00000000 & 0.96153846 & 0.038461538 & 1.00000000 & 0.7769231 & 0.4261905 & 0.5958347\\\\\n",
       "\t12 & automattic          & 355 &  0 & 132 &  54 & 191 & 164 & 0.5239437 & 0.69109948 & 0.3292683 & 0.670731707 & 0.30890052 & 0.5039586 & 0.52275400 & 355 & 0 & 187 &  15 & 191 & 164 & 0.5690141 & 0.97905759 & 0.09146341 & 0.908536585 & 0.02094241 & 0.5475993 & 0.5566967 & 0.9390284\\\\\n",
       "\t14 & bizcn               & 231 & 11 &   1 & 176 &  24 & 196 & 0.8045455 & 0.04166667 & 0.8979592 & 0.102040816 & 0.95833333 & 0.5980017 & 0.15678244 & 231 & 0 &   0 & 204 &  26 & 205 & 0.8831169 & 0.00000000 & 0.99512195 & 0.004878049 & 1.00000000 & 0.6700750 & 0.2199552 & 0.7127927\\\\\n",
       "\t15 & c-soft oy           &   5 &  0 &   0 &   3 &   1 &   4 & 0.6000000 & 0.00000000 & 0.7500000 & 0.250000000 & 1.00000000 & 0.3750000 & 0.60000000 &   5 & 0 &   0 &   4 &   1 &   4 & 0.8000000 & 0.00000000 & 1.00000000 & 0.000000000 & 1.00000000 & 0.0000000 & 0.6000000 & 1.0000000\\\\\n",
       "\t16 & chengdu fly         &  69 & 12 &   1 &  51 &   3 &  54 & 0.9122807 & 0.33333333 & 0.9444444 & 0.055555556 & 0.66666667 & 0.6882716 & 0.31432749 &  69 & 0 &   0 &  66 &   3 &  66 & 0.9565217 & 0.00000000 & 1.00000000 & 0.000000000 & 1.00000000 & 0.7373737 & 0.2618301 & 1.2005016\\\\\n",
       "\t18 & com laude           &   8 &  4 &   1 &   0 &   1 &   3 & 0.2500000 & 1.00000000 & 0.0000000 & 1.000000000 & 0.00000000 & 0.8333333 & 0.75000000 &   8 & 0 &   5 &   1 &   5 &   3 & 0.7500000 & 1.00000000 & 0.33333333 & 0.666666667 & 0.00000000 & 1.0000000 & 1.0000000 & 0.7500000\\\\\n",
       "\t19 & corehub             &  10 &  2 &   4 &   0 &   7 &   1 & 0.5000000 & 0.57142857 & 0.0000000 & 1.000000000 & 0.42857143 & 0.5714286 & 0.97232143 &  10 & 0 &   9 &   0 &   9 &   1 & 0.9000000 & 1.00000000 & 0.00000000 & 1.000000000 & 0.00000000 & 1.0000000 & 1.0000000 & 0.9723214\\\\\n",
       "\t20 & crazy domains       & 195 &  2 &  30 &  82 &  87 & 106 & 0.5803109 & 0.34482759 & 0.7735849 & 0.226415094 & 0.65517241 & 0.5895684 & 0.52179858 & 195 & 0 &  27 &  83 &  89 & 106 & 0.5641026 & 0.30337079 & 0.78301887 & 0.216981132 & 0.69662921 & 0.5595718 & 0.5315648 & 0.9816274\\\\\n",
       "\t22 & csc corporate       &  25 & 18 &   6 &   0 &   6 &   1 & 0.8571429 & 1.00000000 & 0.0000000 & 1.000000000 & 0.00000000 & 0.8333333 & 0.98809524 &  25 & 0 &  24 &   0 &  24 &   1 & 0.9600000 & 1.00000000 & 0.00000000 & 1.000000000 & 0.00000000 & 0.9166667 & 0.9974306 & 0.9906406\\\\\n",
       "\t23 & csl                 & 216 &  3 &   9 & 132 &  70 & 143 & 0.6619718 & 0.12857143 & 0.9230769 & 0.076923077 & 0.87142857 & 0.6994505 & 0.47239347 & 216 & 0 &   5 & 139 &  72 & 144 & 0.6666667 & 0.06944444 & 0.96527778 & 0.034722222 & 0.93055556 & 0.6668596 & 0.4697571 & 1.0056121\\\\\n",
       "\t24 & diamatrix           & 144 &  0 &   1 &  94 &  50 &  94 & 0.6597222 & 0.02000000 & 1.0000000 & 0.000000000 & 0.98000000 & 0.4775532 & 0.36635909 & 144 & 0 &   1 &  94 &  50 &  94 & 0.6597222 & 0.02000000 & 1.00000000 & 0.000000000 & 0.98000000 & 0.5509574 & 0.4167497 & 0.8790867\\\\\n",
       "\t25 & dinahosting         &  33 &  2 &  13 &   3 &  18 &  13 & 0.5161290 & 0.72222222 & 0.2307692 & 0.769230769 & 0.27777778 & 0.3888889 & 0.52518246 &  33 & 0 &  14 &   7 &  18 &  15 & 0.6363636 & 0.77777778 & 0.46666667 & 0.533333333 & 0.22222222 & 0.6259259 & 0.6897674 & 0.7613907\\\\\n",
       "\t27 & domeneshop          &  59 &  1 &  24 &  11 &  34 &  24 & 0.6034483 & 0.70588235 & 0.4583333 & 0.541666667 & 0.29411765 & 0.6115196 & 0.71134726 &  59 & 0 &  16 &  15 &  35 &  24 & 0.5254237 & 0.45714286 & 0.62500000 & 0.375000000 & 0.54285714 & 0.5452381 & 0.6355431 & 1.1192746\\\\\n",
       "\t28 & dotname korea       & 132 &  0 &   0 & 125 &   3 & 129 & 0.9469697 & 0.00000000 & 0.9689922 & 0.031007752 & 1.00000000 & 0.3449612 & 0.18397668 & 132 & 0 &   0 & 129 &   3 & 129 & 0.9772727 & 0.00000000 & 1.00000000 & 0.000000000 & 1.00000000 & 0.8449612 & 0.2638889 & 0.6971748\\\\\n",
       "\t31 & ejee group          &   8 &  5 &   0 &   2 &   1 &   2 & 0.6666667 & 0.00000000 & 1.0000000 & 0.000000000 & 1.00000000 & 0.2500000 & 0.66666667 &   8 & 0 &   0 &   7 &   1 &   7 & 0.8750000 & 0.00000000 & 1.00000000 & 0.000000000 & 1.00000000 & 1.0000000 & 1.0000000 & 0.6666667\\\\\n",
       "\t33 & epag                &  42 &  0 &   1 &  35 &   6 &  36 & 0.8571429 & 0.16666667 & 0.9722222 & 0.027777778 & 0.83333333 & 0.6203704 & 0.41481062 &  42 & 0 &   0 &  36 &   6 &  36 & 0.8571429 & 0.00000000 & 1.00000000 & 0.000000000 & 1.00000000 & 0.6481481 & 0.2725634 & 1.5218870\\\\\n",
       "\t34 & epik llc            &  54 & 27 &   1 &  24 &   3 &  24 & 0.9259259 & 0.33333333 & 1.0000000 & 0.000000000 & 0.66666667 & 0.7500000 & 0.60227273 &  54 & 0 &   3 &  51 &   3 &  51 & 1.0000000 & 1.00000000 & 1.00000000 & 0.000000000 & 0.00000000 & 1.0000000 & 1.0000000 & 0.6022727\\\\\n",
       "\t36 & euro dns            & 257 &  3 &   7 & 185 &  62 & 192 & 0.7559055 & 0.11290323 & 0.9635417 & 0.036458333 & 0.88709677 & 0.6978327 & 0.39678347 & 257 & 0 &   9 & 187 &  64 & 193 & 0.7626459 & 0.14062500 & 0.96891192 & 0.031088083 & 0.85937500 & 0.7098446 & 0.4777649 & 0.8304995\\\\\n",
       "\t38 & freeparking         &   6 &  1 &   2 &   1 &   3 &   2 & 0.6000000 & 0.66666667 & 0.5000000 & 0.500000000 & 0.33333333 & 0.5000000 & 0.82222222 &   6 & 0 &   4 &   0 &   4 &   2 & 0.6666667 & 1.00000000 & 0.00000000 & 1.000000000 & 0.00000000 & 0.6250000 & 0.8291667 & 0.9916248\\\\\n",
       "\t41 & global domains      & 542 & 38 &   1 & 488 &   5 & 499 & 0.9702381 & 0.20000000 & 0.9779559 & 0.022044088 & 0.80000000 & 0.7991984 & 0.13728811 & 542 & 0 &   0 & 537 &   5 & 537 & 0.9907749 & 0.00000000 & 1.00000000 & 0.000000000 & 1.00000000 & 0.6145251 & 0.1334530 & 1.0287379\\\\\n",
       "\t45 & gransy              & 183 &  4 &  14 & 119 &  40 & 139 & 0.7430168 & 0.35000000 & 0.8561151 & 0.143884892 & 0.65000000 & 0.7052158 & 0.40094067 & 183 & 0 &   4 & 133 &  43 & 140 & 0.7486339 & 0.09302326 & 0.95000000 & 0.050000000 & 0.90697674 & 0.6611296 & 0.3471426 & 1.1549741\\\\\n",
       "\t49 & instra corporation  & 205 &  3 &   7 & 150 &  46 & 156 & 0.7772277 & 0.15217391 & 0.9615385 & 0.038461538 & 0.84782609 & 0.6539855 & 0.40807026 & 205 & 0 &   2 & 156 &  46 & 159 & 0.7707317 & 0.04347826 & 0.98113208 & 0.018867925 & 0.95652174 & 0.6372710 & 0.3782804 & 1.0787506\\\\\n",
       "\t50 & internet gmbh       &   4 &  0 &   0 &   0 &   1 &   3 & 0.0000000 & 0.00000000 & 0.0000000 & 1.000000000 & 1.00000000 & 0.0000000 & 0.62500000 &   4 & 0 &   0 &   3 &   1 &   3 & 0.7500000 & 0.00000000 & 1.00000000 & 0.000000000 & 1.00000000 & 0.0000000 & 0.6250000 & 1.0000000\\\\\n",
       "\t51 & internetworx ltd    &  19 &  3 &   7 &   3 &   9 &   7 & 0.6250000 & 0.77777778 & 0.4285714 & 0.571428571 & 0.22222222 & 0.5555556 & 0.65680716 &  19 & 0 &   2 &   5 &  11 &   8 & 0.3684211 & 0.18181818 & 0.62500000 & 0.375000000 & 0.81818182 & 0.3295455 & 0.6138572 & 1.0699673\\\\\n",
       "\t52 & internetx           & 150 &  5 &  82 &   7 &  97 &  48 & 0.6137931 & 0.84536082 & 0.1458333 & 0.854166667 & 0.15463918 & 0.5550902 & 0.71975971 & 150 & 0 &  20 &  43 & 101 &  49 & 0.4200000 & 0.19801980 & 0.87755102 & 0.122448980 & 0.80198020 & 0.6112346 & 0.7520411 & 0.9570749\\\\\n",
       "\t53 & jogjacamp           & 344 &  4 &   0 & 329 &  11 & 329 & 0.9676471 & 0.00000000 & 1.0000000 & 0.000000000 & 1.00000000 & 0.6808511 & 0.12339626 & 344 & 0 &   0 & 333 &  11 & 333 & 0.9680233 & 0.00000000 & 1.00000000 & 0.000000000 & 1.00000000 & 0.5948676 & 0.1307480 & 0.9437718\\\\\n",
       "\t55 & ledl.net            &  62 &  0 &   6 &  36 &  16 &  46 & 0.6774194 & 0.37500000 & 0.7826087 & 0.217391304 & 0.62500000 & 0.5332880 & 0.40512063 &  62 & 0 &   1 &  44 &  16 &  46 & 0.7258065 & 0.06250000 & 0.95652174 & 0.043478261 & 0.93750000 & 0.6154891 & 0.3710203 & 1.0919097\\\\\n",
       "\t56 & ligne web services  & 268 &  1 &   1 & 249 &  17 & 250 & 0.9363296 & 0.05882353 & 0.9960000 & 0.004000000 & 0.94117647 & 0.6157647 & 0.17786917 & 268 & 0 &   0 & 251 &  17 & 251 & 0.9365672 & 0.00000000 & 1.00000000 & 0.000000000 & 1.00000000 & 0.5720647 & 0.1952201 & 0.9111211\\\\\n",
       "\t57 & liquidnet           & 127 &  0 &   3 &  96 &  21 & 106 & 0.7795276 & 0.14285714 & 0.9056604 & 0.094339623 & 0.85714286 & 0.4847260 & 0.21314824 & 127 & 0 &   2 &  98 &  21 & 106 & 0.7874016 & 0.09523810 & 0.92452830 & 0.075471698 & 0.90476190 & 0.6531896 & 0.3207404 & 0.6645506\\\\\n",
       "\t58 & marcaria.com        &  13 &  4 &   4 &   0 &   8 &   1 & 0.4444444 & 0.50000000 & 0.0000000 & 1.000000000 & 0.50000000 & 0.1875000 & 0.81999008 &  13 & 0 &  10 &   0 &  10 &   3 & 0.7692308 & 1.00000000 & 0.00000000 & 1.000000000 & 0.00000000 & 0.3333333 & 0.6876912 & 1.1923812\\\\\n",
       "\t59 & mat bao             & 272 &  3 &   0 & 253 &  14 & 255 & 0.9405204 & 0.00000000 & 0.9921569 & 0.007843137 & 1.00000000 & 0.5787115 & 0.12891410 & 272 & 0 &   1 & 253 &  15 & 257 & 0.9338235 & 0.06666667 & 0.98443580 & 0.015564202 & 0.93333333 & 0.6809339 & 0.1747161 & 0.7378492\\\\\n",
       "\t60 & melbourne it        &  13 &  1 &   2 &   6 &   4 &   8 & 0.6666667 & 0.50000000 & 0.7500000 & 0.250000000 & 0.50000000 & 0.5468750 & 0.52380952 &  13 & 0 &   1 &   7 &   5 &   8 & 0.6153846 & 0.20000000 & 0.87500000 & 0.125000000 & 0.80000000 & 0.7750000 & 0.6491667 & 0.8068953\\\\\n",
       "\t61 & mesh digital        & 462 &  9 & 264 &  30 & 280 & 173 & 0.6490066 & 0.94285714 & 0.1734104 & 0.826589595 & 0.05714286 & 0.6013832 & 0.68564139 & 462 & 0 & 152 & 101 & 288 & 174 & 0.5476190 & 0.52777778 & 0.58045977 & 0.419540230 & 0.47222222 & 0.5528815 & 0.6551191 & 1.0465904\\\\\n",
       "\t62 & metaregistrar       & 217 &  1 &  99 &  45 & 119 &  97 & 0.6666667 & 0.83193277 & 0.4639175 & 0.536082474 & 0.16806723 & 0.6890756 & 0.69559400 & 217 & 0 &  11 &  91 & 120 &  97 & 0.4700461 & 0.09166667 & 0.93814433 & 0.061855670 & 0.90833333 & 0.6536942 & 0.6817109 & 1.0203650\\\\\n",
       "\t65 & nameshield          &   9 &  6 &   0 &   1 &   2 &   1 & 0.3333333 & 0.00000000 & 1.0000000 & 0.000000000 & 1.00000000 & 1.0000000 & 1.00000000 &   9 & 0 &   4 &   1 &   8 &   1 & 0.5555556 & 0.50000000 & 1.00000000 & 0.000000000 & 0.50000000 & 1.0000000 & 1.0000000 & 1.0000000\\\\\n",
       "\t67 & netim               &  56 &  1 &   8 &  35 &  16 &  39 & 0.7818182 & 0.50000000 & 0.8974359 & 0.102564103 & 0.50000000 & 0.6794872 & 0.52281476 &  56 & 0 &   9 &  34 &  17 &  39 & 0.7678571 & 0.52941176 & 0.87179487 & 0.128205128 & 0.47058824 & 0.7843137 & 0.5574412 & 0.9378833\\\\\n",
       "\t68 & netistrar           &   3 &  0 &   1 &   2 &   1 &   2 & 1.0000000 & 1.00000000 & 1.0000000 & 0.000000000 & 0.00000000 & 1.0000000 & 1.00000000 &   3 & 0 &   0 &   2 &   1 &   2 & 0.6666667 & 0.00000000 & 1.00000000 & 0.000000000 & 1.00000000 & 1.0000000 & 1.0000000 & 1.0000000\\\\\n",
       "\t69 & netowl              &  60 &  3 &   2 &  49 &   4 &  53 & 0.8947368 & 0.50000000 & 0.9245283 & 0.075471698 & 0.50000000 & 0.8820755 & 0.40024510 &  60 & 0 &   4 &  53 &   6 &  54 & 0.9500000 & 0.66666667 & 0.98148148 & 0.018518519 & 0.33333333 & 0.9814815 & 0.9343434 & 0.4283704\\\\\n",
       "\t71 & nhan hoa software   & 114 &  8 &   0 & 103 &   3 & 103 & 0.9716981 & 0.00000000 & 1.0000000 & 0.000000000 & 1.00000000 & 0.6828479 & 0.56105006 & 114 & 0 &   0 & 111 &   3 & 111 & 0.9736842 & 0.00000000 & 1.00000000 & 0.000000000 & 1.00000000 & 0.6246246 & 0.2260965 & 2.4814629\\\\\n",
       "\t73 & online sas          &  15 &  0 &   3 &   0 &  13 &   2 & 0.2000000 & 0.23076923 & 0.0000000 & 1.000000000 & 0.76923077 & 0.1538462 & 0.80104169 &  15 & 0 &  13 &   0 &  13 &   2 & 0.8666667 & 1.00000000 & 0.00000000 & 1.000000000 & 0.00000000 & 0.5000000 & 0.9000066 & 0.8900398\\\\\n",
       "\t75 & opentld b.v.        &   7 &  2 &   1 &   0 &   4 &   1 & 0.2000000 & 0.25000000 & 0.0000000 & 1.000000000 & 0.75000000 & 0.0000000 & 0.70416667 &   7 & 0 &   2 &   1 &   4 &   3 & 0.4285714 & 0.50000000 & 0.33333333 & 0.666666667 & 0.50000000 & 0.4166667 & 0.6083333 & 1.1575342\\\\\n",
       "\t77 & p.a viet nam        & 258 &  8 &   2 & 231 &  17 & 233 & 0.9320000 & 0.11764706 & 0.9914163 & 0.008583691 & 0.88235294 & 0.6707902 & 0.25516912 & 258 & 0 &   0 & 240 &  18 & 240 & 0.9302326 & 0.00000000 & 1.00000000 & 0.000000000 & 1.00000000 & 0.5835648 & 0.1187759 & 2.1483242\\\\\n",
       "\t78 & paragon internet    &  47 &  0 &  18 &  11 &  30 &  17 & 0.6170213 & 0.60000000 & 0.6470588 & 0.352941176 & 0.40000000 & 0.7411765 & 0.87885044 &  47 & 0 &   0 &  17 &  30 &  17 & 0.3617021 & 0.00000000 & 1.00000000 & 0.000000000 & 1.00000000 & 0.3313725 & 0.5996116 & 1.4656995\\\\\n",
       "\t80 & porkbun             & 479 &  2 &   5 & 384 &  77 & 400 & 0.8155136 & 0.06493506 & 0.9600000 & 0.040000000 & 0.93506494 & 0.5860714 & 0.21487292 & 479 & 0 &   1 & 395 &  78 & 401 & 0.8267223 & 0.01282051 & 0.98503741 & 0.014962594 & 0.98717949 & 0.5540636 & 0.2157076 & 0.9961306\\\\\n",
       "\t81 & promo people        &  61 &  1 &   6 &  18 &  25 &  35 & 0.4000000 & 0.24000000 & 0.5142857 & 0.485714286 & 0.76000000 & 0.4240000 & 0.43778382 &  61 & 0 &   0 &  35 &  25 &  36 & 0.5737705 & 0.00000000 & 0.97222222 & 0.027777778 & 1.00000000 & 0.4911111 & 0.3922531 & 1.1160750\\\\\n",
       "\t84 & register.com        & 110 &  2 &  39 &  24 &  60 &  48 & 0.5833333 & 0.65000000 & 0.5000000 & 0.500000000 & 0.35000000 & 0.6142361 & 0.68089650 & 110 & 0 &   3 &  46 &  60 &  50 & 0.4454545 & 0.05000000 & 0.92000000 & 0.080000000 & 0.95000000 & 0.4423333 & 0.5394309 & 1.2622498\\\\\n",
       "\t85 & registrator domenov &  55 &  6 &   5 &  27 &  12 &  37 & 0.6530612 & 0.41666667 & 0.7297297 & 0.270270270 & 0.58333333 & 0.5630631 & 0.32960679 &  55 & 0 &   0 &  41 &  14 &  41 & 0.7454545 & 0.00000000 & 1.00000000 & 0.000000000 & 1.00000000 & 0.4808362 & 0.3918459 & 0.8411644\\\\\n",
       "\t86 & registrygate        &  18 &  4 &   7 &   0 &  12 &   2 & 0.5000000 & 0.58333333 & 0.0000000 & 1.000000000 & 0.41666667 & 0.4583333 & 0.89930972 &  18 & 0 &  11 &   1 &  13 &   5 & 0.6666667 & 0.84615385 & 0.20000000 & 0.800000000 & 0.15384615 & 0.5076923 & 0.8182617 & 1.0990491\\\\\n",
       "\t88 & rumahweb            & 308 &  0 &   0 & 290 &  16 & 292 & 0.9415584 & 0.00000000 & 0.9931507 & 0.006849315 & 1.00000000 & 0.4689640 & 0.08421945 & 308 & 0 &   0 & 292 &  16 & 292 & 0.9480519 & 0.00000000 & 1.00000000 & 0.000000000 & 1.00000000 & 0.6065925 & 0.1939003 & 0.4343440\\\\\n",
       "\t89 & server plan         &   3 &  1 &   0 &   0 &   1 &   1 & 0.0000000 & 0.00000000 & 0.0000000 & 1.000000000 & 1.00000000 & 0.0000000 & 0.75000000 &   3 & 0 &   0 &   1 &   2 &   1 & 0.3333333 & 0.00000000 & 1.00000000 & 0.000000000 & 1.00000000 & 1.0000000 & 1.0000000 & 0.7500000\\\\\n",
       "\t90 & shanghai best oray  & 138 &  4 &   1 & 117 &  16 & 118 & 0.8805970 & 0.06250000 & 0.9915254 & 0.008474576 & 0.93750000 & 0.6009004 & 0.22929132 & 138 & 0 &   0 & 122 &  16 & 122 & 0.8840580 & 0.00000000 & 1.00000000 & 0.000000000 & 1.00000000 & 0.5204918 & 0.1948107 & 1.1769954\\\\\n",
       "\t93 & super registry      &  13 &  0 &   3 &   1 &   7 &   6 & 0.3076923 & 0.42857143 & 0.1666667 & 0.833333333 & 0.57142857 & 0.4285714 & 0.63546176 &  13 & 0 &   2 &   5 &   7 &   6 & 0.5384615 & 0.28571429 & 0.83333333 & 0.166666667 & 0.71428571 & 0.5000000 & 0.6989538 & 0.9091613\\\\\n",
       "\t94 & synergy wholesale   &  10 &  5 &   2 &   0 &   4 &   1 & 0.4000000 & 0.50000000 & 0.0000000 & 1.000000000 & 0.50000000 & 0.2500000 & 0.82916667 &  10 & 0 &   3 &   3 &   5 &   5 & 0.6000000 & 0.60000000 & 0.60000000 & 0.400000000 & 0.40000000 & 0.6400000 & 0.7422222 & 1.1171407\\\\\n",
       "\t95 & tecnocratica centro &   3 &  1 &   1 &   1 &   1 &   1 & 1.0000000 & 1.00000000 & 1.0000000 & 0.000000000 & 0.00000000 & 1.0000000 & 1.00000000 &   3 & 0 &   0 &   1 &   1 &   2 & 0.3333333 & 0.00000000 & 0.50000000 & 0.500000000 & 1.00000000 & 0.5000000 & 0.7500000 & 1.3333333\\\\\n",
       "\t96 & tld registrar solns & 411 &  4 &   8 & 354 &  38 & 369 & 0.8894349 & 0.21052632 & 0.9593496 & 0.040650407 & 0.78947368 & 0.7342034 & 0.25230691 & 411 & 0 &   4 & 367 &  40 & 371 & 0.9026764 & 0.10000000 & 0.98921833 & 0.010781671 & 0.90000000 & 0.8083558 & 0.2931159 & 0.8607751\\\\\n",
       "\t97 & todaynic            &   6 &  1 &   1 &   0 &   1 &   4 & 0.2000000 & 1.00000000 & 0.0000000 & 1.000000000 & 0.00000000 & 0.5000000 & 0.60000000 &   6 & 0 &   0 &   5 &   1 &   5 & 0.8333333 & 0.00000000 & 1.00000000 & 0.000000000 & 1.00000000 & 0.4000000 & 0.6250000 & 0.9600000\\\\\n",
       "\t102 & vautron             &  30 &  5 &  11 &   2 &  14 &  11 & 0.5200000 & 0.78571429 & 0.1818182 & 0.818181818 & 0.21428571 & 0.4025974 & 0.51202252 &  30 & 0 &  14 &   4 &  15 &  15 & 0.6000000 & 0.93333333 & 0.26666667 & 0.733333333 & 0.06666667 & 0.6133333 & 0.5739217 & 0.8921470\\\\\n",
       "\t103 & web commerce comm   & 488 &  8 &   1 & 463 &  17 & 463 & 0.9666667 & 0.05882353 & 1.0000000 & 0.000000000 & 0.94117647 & 0.5539322 & 0.20282337 & 488 & 0 &   0 & 469 &  19 & 469 & 0.9610656 & 0.00000000 & 1.00000000 & 0.000000000 & 1.00000000 & 0.5989227 & 0.1430682 & 1.4176687\\\\\n",
       "\t104 & web4africa          &  29 &  5 &   0 &  22 &   1 &  23 & 0.9166667 & 0.00000000 & 0.9565217 & 0.043478261 & 1.00000000 & 0.2826087 & 0.52083333 &  29 & 0 &   0 &  26 &   3 &  26 & 0.8965517 & 0.00000000 & 1.00000000 & 0.000000000 & 1.00000000 & 0.3846154 & 0.2632275 & 1.9786432\\\\\n",
       "\t105 & webnames            &  18 &  2 &   3 &   8 &   5 &  11 & 0.6875000 & 0.60000000 & 0.7272727 & 0.272727273 & 0.40000000 & 0.7272727 & 0.67500000 &  18 & 0 &   1 &  11 &   6 &  12 & 0.6666667 & 0.16666667 & 0.91666667 & 0.083333333 & 0.83333333 & 0.6944444 & 0.6591270 & 1.0240819\\\\\n",
       "\t107 & wild west           &  93 &  3 &   7 &  38 &  42 &  48 & 0.5000000 & 0.16666667 & 0.7916667 & 0.208333333 & 0.83333333 & 0.5138889 & 0.46718132 &  93 & 0 &   2 &  49 &  43 &  50 & 0.5483871 & 0.04651163 & 0.98000000 & 0.020000000 & 0.95348837 & 0.5139535 & 0.4982931 & 0.9375634\\\\\n",
       "\t108 & xiamen chinasource  & 136 &  1 &   0 & 114 &  12 & 123 & 0.8444444 & 0.00000000 & 0.9268293 & 0.073170732 & 1.00000000 & 0.6795393 & 0.19329511 & 136 & 0 &   0 & 124 &  12 & 124 & 0.9117647 & 0.00000000 & 1.00000000 & 0.000000000 & 1.00000000 & 0.7533602 & 0.3586393 & 0.5389679\\\\\n",
       "\t109 & xiamen nawang       &  31 &  2 &   0 &  25 &   3 &  26 & 0.8620690 & 0.00000000 & 0.9615385 & 0.038461538 & 1.00000000 & 0.6025641 & 0.29330065 &  31 & 0 &   0 &  28 &   3 &  28 & 0.9032258 & 0.00000000 & 1.00000000 & 0.000000000 & 1.00000000 & 0.2380952 & 0.2303419 & 1.2733275\\\\\n",
       "\\end{tabular}\n"
      ],
      "text/markdown": [
       "\n",
       "A data.frame: 70 × 28\n",
       "\n",
       "| <!--/--> | reg &lt;fct&gt; | obs_count_s &lt;dbl&gt; | na_count_s &lt;dbl&gt; | TP_s &lt;dbl&gt; | TN_s &lt;dbl&gt; | P_s &lt;dbl&gt; | N_s &lt;dbl&gt; | acc_0.5_s &lt;dbl&gt; | tpr_0.5_s &lt;dbl&gt; | tnr_0.5_s &lt;dbl&gt; | fpr_0.5_s &lt;dbl&gt; | fnr_0.5_s &lt;dbl&gt; | auc_s &lt;dbl&gt; | aucpr_s &lt;dbl&gt; | obs_count_r &lt;dbl&gt; | na_count_r &lt;dbl&gt; | TP_r &lt;dbl&gt; | TN_r &lt;dbl&gt; | P_r &lt;dbl&gt; | N_r &lt;dbl&gt; | acc_0.5_r &lt;dbl&gt; | tpr_0.5_r &lt;dbl&gt; | tnr_0.5_r &lt;dbl&gt; | fpr_0.5_r &lt;dbl&gt; | fnr_0.5_r &lt;dbl&gt; | auc_r &lt;dbl&gt; | aucpr_r &lt;dbl&gt; | aucpr_srrat &lt;dbl&gt; |\n",
       "|---|---|---|---|---|---|---|---|---|---|---|---|---|---|---|---|---|---|---|---|---|---|---|---|---|---|---|---|---|\n",
       "| 2 | 101 domain          |  32 |  6 |  14 |   6 |  16 |  10 | 0.7692308 | 0.87500000 | 0.6000000 | 0.400000000 | 0.12500000 | 0.6656250 | 0.69928561 |  32 | 0 |  19 |   2 |  19 |  13 | 0.6562500 | 1.00000000 | 0.15384615 | 0.846153846 | 0.00000000 | 0.6923077 | 0.8021654 | 0.8717474 |\n",
       "| 3 | 10dencehispahard    | 165 |  2 |   2 | 128 |  31 | 132 | 0.7975460 | 0.06451613 | 0.9696970 | 0.030303030 | 0.93548387 | 0.7065005 | 0.34897498 | 165 | 0 |   1 | 132 |  31 | 134 | 0.8060606 | 0.03225806 | 0.98507463 | 0.014925373 | 0.96774194 | 0.7087145 | 0.3286169 | 1.0619508 |\n",
       "| 4 | 1api                | 190 |  8 |  56 |  45 |  79 | 103 | 0.5549451 | 0.70886076 | 0.4368932 | 0.563106796 | 0.29113924 | 0.5710336 | 0.46988104 | 190 | 0 |  21 |  70 |  84 | 106 | 0.4789474 | 0.25000000 | 0.66037736 | 0.339622642 | 0.75000000 | 0.4977538 | 0.4620861 | 1.0168691 |\n",
       "| 5 | 22net inc           |  51 |  0 |   2 |  49 |   2 |  49 | 1.0000000 | 1.00000000 | 1.0000000 | 0.000000000 | 0.00000000 | 1.0000000 | 1.00000000 |  51 | 0 |   2 |  49 |   2 |  49 | 1.0000000 | 1.00000000 | 1.00000000 | 0.000000000 | 0.00000000 | 1.0000000 | 1.0000000 | 1.0000000 |\n",
       "| 6 | ab name isp         |  15 |  3 |   7 |   0 |   7 |   5 | 0.5833333 | 1.00000000 | 0.0000000 | 1.000000000 | 0.00000000 | 0.5571429 | 0.72857143 |  15 | 0 |   7 |   1 |   9 |   6 | 0.5333333 | 0.77777778 | 0.16666667 | 0.833333333 | 0.22222222 | 0.3888889 | 0.5754147 | 1.2661675 |\n",
       "| 8 | alibaba sg          | 268 |  1 |   0 | 250 |  17 | 250 | 0.9363296 | 0.00000000 | 1.0000000 | 0.000000000 | 1.00000000 | 0.6015294 | 0.13529667 | 268 | 0 |   0 | 251 |  17 | 251 | 0.9365672 | 0.00000000 | 1.00000000 | 0.000000000 | 1.00000000 | 0.6135458 | 0.1805290 | 0.7494456 |\n",
       "| 9 | alpnames            |   3 |  1 |   0 |   1 |   1 |   1 | 0.5000000 | 0.00000000 | 1.0000000 | 0.000000000 | 1.00000000 | 1.0000000 | 1.00000000 |   3 | 0 |   1 |   2 |   1 |   2 | 1.0000000 | 1.00000000 | 1.00000000 | 0.000000000 | 0.00000000 | 1.0000000 | 1.0000000 | 1.0000000 |\n",
       "| 11 | atak                |  31 |  1 |   0 |  25 |   4 |  26 | 0.8333333 | 0.00000000 | 0.9615385 | 0.038461538 | 1.00000000 | 0.4423077 | 0.25393908 |  31 | 0 |   0 |  25 |   5 |  26 | 0.8064516 | 0.00000000 | 0.96153846 | 0.038461538 | 1.00000000 | 0.7769231 | 0.4261905 | 0.5958347 |\n",
       "| 12 | automattic          | 355 |  0 | 132 |  54 | 191 | 164 | 0.5239437 | 0.69109948 | 0.3292683 | 0.670731707 | 0.30890052 | 0.5039586 | 0.52275400 | 355 | 0 | 187 |  15 | 191 | 164 | 0.5690141 | 0.97905759 | 0.09146341 | 0.908536585 | 0.02094241 | 0.5475993 | 0.5566967 | 0.9390284 |\n",
       "| 14 | bizcn               | 231 | 11 |   1 | 176 |  24 | 196 | 0.8045455 | 0.04166667 | 0.8979592 | 0.102040816 | 0.95833333 | 0.5980017 | 0.15678244 | 231 | 0 |   0 | 204 |  26 | 205 | 0.8831169 | 0.00000000 | 0.99512195 | 0.004878049 | 1.00000000 | 0.6700750 | 0.2199552 | 0.7127927 |\n",
       "| 15 | c-soft oy           |   5 |  0 |   0 |   3 |   1 |   4 | 0.6000000 | 0.00000000 | 0.7500000 | 0.250000000 | 1.00000000 | 0.3750000 | 0.60000000 |   5 | 0 |   0 |   4 |   1 |   4 | 0.8000000 | 0.00000000 | 1.00000000 | 0.000000000 | 1.00000000 | 0.0000000 | 0.6000000 | 1.0000000 |\n",
       "| 16 | chengdu fly         |  69 | 12 |   1 |  51 |   3 |  54 | 0.9122807 | 0.33333333 | 0.9444444 | 0.055555556 | 0.66666667 | 0.6882716 | 0.31432749 |  69 | 0 |   0 |  66 |   3 |  66 | 0.9565217 | 0.00000000 | 1.00000000 | 0.000000000 | 1.00000000 | 0.7373737 | 0.2618301 | 1.2005016 |\n",
       "| 18 | com laude           |   8 |  4 |   1 |   0 |   1 |   3 | 0.2500000 | 1.00000000 | 0.0000000 | 1.000000000 | 0.00000000 | 0.8333333 | 0.75000000 |   8 | 0 |   5 |   1 |   5 |   3 | 0.7500000 | 1.00000000 | 0.33333333 | 0.666666667 | 0.00000000 | 1.0000000 | 1.0000000 | 0.7500000 |\n",
       "| 19 | corehub             |  10 |  2 |   4 |   0 |   7 |   1 | 0.5000000 | 0.57142857 | 0.0000000 | 1.000000000 | 0.42857143 | 0.5714286 | 0.97232143 |  10 | 0 |   9 |   0 |   9 |   1 | 0.9000000 | 1.00000000 | 0.00000000 | 1.000000000 | 0.00000000 | 1.0000000 | 1.0000000 | 0.9723214 |\n",
       "| 20 | crazy domains       | 195 |  2 |  30 |  82 |  87 | 106 | 0.5803109 | 0.34482759 | 0.7735849 | 0.226415094 | 0.65517241 | 0.5895684 | 0.52179858 | 195 | 0 |  27 |  83 |  89 | 106 | 0.5641026 | 0.30337079 | 0.78301887 | 0.216981132 | 0.69662921 | 0.5595718 | 0.5315648 | 0.9816274 |\n",
       "| 22 | csc corporate       |  25 | 18 |   6 |   0 |   6 |   1 | 0.8571429 | 1.00000000 | 0.0000000 | 1.000000000 | 0.00000000 | 0.8333333 | 0.98809524 |  25 | 0 |  24 |   0 |  24 |   1 | 0.9600000 | 1.00000000 | 0.00000000 | 1.000000000 | 0.00000000 | 0.9166667 | 0.9974306 | 0.9906406 |\n",
       "| 23 | csl                 | 216 |  3 |   9 | 132 |  70 | 143 | 0.6619718 | 0.12857143 | 0.9230769 | 0.076923077 | 0.87142857 | 0.6994505 | 0.47239347 | 216 | 0 |   5 | 139 |  72 | 144 | 0.6666667 | 0.06944444 | 0.96527778 | 0.034722222 | 0.93055556 | 0.6668596 | 0.4697571 | 1.0056121 |\n",
       "| 24 | diamatrix           | 144 |  0 |   1 |  94 |  50 |  94 | 0.6597222 | 0.02000000 | 1.0000000 | 0.000000000 | 0.98000000 | 0.4775532 | 0.36635909 | 144 | 0 |   1 |  94 |  50 |  94 | 0.6597222 | 0.02000000 | 1.00000000 | 0.000000000 | 0.98000000 | 0.5509574 | 0.4167497 | 0.8790867 |\n",
       "| 25 | dinahosting         |  33 |  2 |  13 |   3 |  18 |  13 | 0.5161290 | 0.72222222 | 0.2307692 | 0.769230769 | 0.27777778 | 0.3888889 | 0.52518246 |  33 | 0 |  14 |   7 |  18 |  15 | 0.6363636 | 0.77777778 | 0.46666667 | 0.533333333 | 0.22222222 | 0.6259259 | 0.6897674 | 0.7613907 |\n",
       "| 27 | domeneshop          |  59 |  1 |  24 |  11 |  34 |  24 | 0.6034483 | 0.70588235 | 0.4583333 | 0.541666667 | 0.29411765 | 0.6115196 | 0.71134726 |  59 | 0 |  16 |  15 |  35 |  24 | 0.5254237 | 0.45714286 | 0.62500000 | 0.375000000 | 0.54285714 | 0.5452381 | 0.6355431 | 1.1192746 |\n",
       "| 28 | dotname korea       | 132 |  0 |   0 | 125 |   3 | 129 | 0.9469697 | 0.00000000 | 0.9689922 | 0.031007752 | 1.00000000 | 0.3449612 | 0.18397668 | 132 | 0 |   0 | 129 |   3 | 129 | 0.9772727 | 0.00000000 | 1.00000000 | 0.000000000 | 1.00000000 | 0.8449612 | 0.2638889 | 0.6971748 |\n",
       "| 31 | ejee group          |   8 |  5 |   0 |   2 |   1 |   2 | 0.6666667 | 0.00000000 | 1.0000000 | 0.000000000 | 1.00000000 | 0.2500000 | 0.66666667 |   8 | 0 |   0 |   7 |   1 |   7 | 0.8750000 | 0.00000000 | 1.00000000 | 0.000000000 | 1.00000000 | 1.0000000 | 1.0000000 | 0.6666667 |\n",
       "| 33 | epag                |  42 |  0 |   1 |  35 |   6 |  36 | 0.8571429 | 0.16666667 | 0.9722222 | 0.027777778 | 0.83333333 | 0.6203704 | 0.41481062 |  42 | 0 |   0 |  36 |   6 |  36 | 0.8571429 | 0.00000000 | 1.00000000 | 0.000000000 | 1.00000000 | 0.6481481 | 0.2725634 | 1.5218870 |\n",
       "| 34 | epik llc            |  54 | 27 |   1 |  24 |   3 |  24 | 0.9259259 | 0.33333333 | 1.0000000 | 0.000000000 | 0.66666667 | 0.7500000 | 0.60227273 |  54 | 0 |   3 |  51 |   3 |  51 | 1.0000000 | 1.00000000 | 1.00000000 | 0.000000000 | 0.00000000 | 1.0000000 | 1.0000000 | 0.6022727 |\n",
       "| 36 | euro dns            | 257 |  3 |   7 | 185 |  62 | 192 | 0.7559055 | 0.11290323 | 0.9635417 | 0.036458333 | 0.88709677 | 0.6978327 | 0.39678347 | 257 | 0 |   9 | 187 |  64 | 193 | 0.7626459 | 0.14062500 | 0.96891192 | 0.031088083 | 0.85937500 | 0.7098446 | 0.4777649 | 0.8304995 |\n",
       "| 38 | freeparking         |   6 |  1 |   2 |   1 |   3 |   2 | 0.6000000 | 0.66666667 | 0.5000000 | 0.500000000 | 0.33333333 | 0.5000000 | 0.82222222 |   6 | 0 |   4 |   0 |   4 |   2 | 0.6666667 | 1.00000000 | 0.00000000 | 1.000000000 | 0.00000000 | 0.6250000 | 0.8291667 | 0.9916248 |\n",
       "| 41 | global domains      | 542 | 38 |   1 | 488 |   5 | 499 | 0.9702381 | 0.20000000 | 0.9779559 | 0.022044088 | 0.80000000 | 0.7991984 | 0.13728811 | 542 | 0 |   0 | 537 |   5 | 537 | 0.9907749 | 0.00000000 | 1.00000000 | 0.000000000 | 1.00000000 | 0.6145251 | 0.1334530 | 1.0287379 |\n",
       "| 45 | gransy              | 183 |  4 |  14 | 119 |  40 | 139 | 0.7430168 | 0.35000000 | 0.8561151 | 0.143884892 | 0.65000000 | 0.7052158 | 0.40094067 | 183 | 0 |   4 | 133 |  43 | 140 | 0.7486339 | 0.09302326 | 0.95000000 | 0.050000000 | 0.90697674 | 0.6611296 | 0.3471426 | 1.1549741 |\n",
       "| 49 | instra corporation  | 205 |  3 |   7 | 150 |  46 | 156 | 0.7772277 | 0.15217391 | 0.9615385 | 0.038461538 | 0.84782609 | 0.6539855 | 0.40807026 | 205 | 0 |   2 | 156 |  46 | 159 | 0.7707317 | 0.04347826 | 0.98113208 | 0.018867925 | 0.95652174 | 0.6372710 | 0.3782804 | 1.0787506 |\n",
       "| 50 | internet gmbh       |   4 |  0 |   0 |   0 |   1 |   3 | 0.0000000 | 0.00000000 | 0.0000000 | 1.000000000 | 1.00000000 | 0.0000000 | 0.62500000 |   4 | 0 |   0 |   3 |   1 |   3 | 0.7500000 | 0.00000000 | 1.00000000 | 0.000000000 | 1.00000000 | 0.0000000 | 0.6250000 | 1.0000000 |\n",
       "| 51 | internetworx ltd    |  19 |  3 |   7 |   3 |   9 |   7 | 0.6250000 | 0.77777778 | 0.4285714 | 0.571428571 | 0.22222222 | 0.5555556 | 0.65680716 |  19 | 0 |   2 |   5 |  11 |   8 | 0.3684211 | 0.18181818 | 0.62500000 | 0.375000000 | 0.81818182 | 0.3295455 | 0.6138572 | 1.0699673 |\n",
       "| 52 | internetx           | 150 |  5 |  82 |   7 |  97 |  48 | 0.6137931 | 0.84536082 | 0.1458333 | 0.854166667 | 0.15463918 | 0.5550902 | 0.71975971 | 150 | 0 |  20 |  43 | 101 |  49 | 0.4200000 | 0.19801980 | 0.87755102 | 0.122448980 | 0.80198020 | 0.6112346 | 0.7520411 | 0.9570749 |\n",
       "| 53 | jogjacamp           | 344 |  4 |   0 | 329 |  11 | 329 | 0.9676471 | 0.00000000 | 1.0000000 | 0.000000000 | 1.00000000 | 0.6808511 | 0.12339626 | 344 | 0 |   0 | 333 |  11 | 333 | 0.9680233 | 0.00000000 | 1.00000000 | 0.000000000 | 1.00000000 | 0.5948676 | 0.1307480 | 0.9437718 |\n",
       "| 55 | ledl.net            |  62 |  0 |   6 |  36 |  16 |  46 | 0.6774194 | 0.37500000 | 0.7826087 | 0.217391304 | 0.62500000 | 0.5332880 | 0.40512063 |  62 | 0 |   1 |  44 |  16 |  46 | 0.7258065 | 0.06250000 | 0.95652174 | 0.043478261 | 0.93750000 | 0.6154891 | 0.3710203 | 1.0919097 |\n",
       "| 56 | ligne web services  | 268 |  1 |   1 | 249 |  17 | 250 | 0.9363296 | 0.05882353 | 0.9960000 | 0.004000000 | 0.94117647 | 0.6157647 | 0.17786917 | 268 | 0 |   0 | 251 |  17 | 251 | 0.9365672 | 0.00000000 | 1.00000000 | 0.000000000 | 1.00000000 | 0.5720647 | 0.1952201 | 0.9111211 |\n",
       "| 57 | liquidnet           | 127 |  0 |   3 |  96 |  21 | 106 | 0.7795276 | 0.14285714 | 0.9056604 | 0.094339623 | 0.85714286 | 0.4847260 | 0.21314824 | 127 | 0 |   2 |  98 |  21 | 106 | 0.7874016 | 0.09523810 | 0.92452830 | 0.075471698 | 0.90476190 | 0.6531896 | 0.3207404 | 0.6645506 |\n",
       "| 58 | marcaria.com        |  13 |  4 |   4 |   0 |   8 |   1 | 0.4444444 | 0.50000000 | 0.0000000 | 1.000000000 | 0.50000000 | 0.1875000 | 0.81999008 |  13 | 0 |  10 |   0 |  10 |   3 | 0.7692308 | 1.00000000 | 0.00000000 | 1.000000000 | 0.00000000 | 0.3333333 | 0.6876912 | 1.1923812 |\n",
       "| 59 | mat bao             | 272 |  3 |   0 | 253 |  14 | 255 | 0.9405204 | 0.00000000 | 0.9921569 | 0.007843137 | 1.00000000 | 0.5787115 | 0.12891410 | 272 | 0 |   1 | 253 |  15 | 257 | 0.9338235 | 0.06666667 | 0.98443580 | 0.015564202 | 0.93333333 | 0.6809339 | 0.1747161 | 0.7378492 |\n",
       "| 60 | melbourne it        |  13 |  1 |   2 |   6 |   4 |   8 | 0.6666667 | 0.50000000 | 0.7500000 | 0.250000000 | 0.50000000 | 0.5468750 | 0.52380952 |  13 | 0 |   1 |   7 |   5 |   8 | 0.6153846 | 0.20000000 | 0.87500000 | 0.125000000 | 0.80000000 | 0.7750000 | 0.6491667 | 0.8068953 |\n",
       "| 61 | mesh digital        | 462 |  9 | 264 |  30 | 280 | 173 | 0.6490066 | 0.94285714 | 0.1734104 | 0.826589595 | 0.05714286 | 0.6013832 | 0.68564139 | 462 | 0 | 152 | 101 | 288 | 174 | 0.5476190 | 0.52777778 | 0.58045977 | 0.419540230 | 0.47222222 | 0.5528815 | 0.6551191 | 1.0465904 |\n",
       "| 62 | metaregistrar       | 217 |  1 |  99 |  45 | 119 |  97 | 0.6666667 | 0.83193277 | 0.4639175 | 0.536082474 | 0.16806723 | 0.6890756 | 0.69559400 | 217 | 0 |  11 |  91 | 120 |  97 | 0.4700461 | 0.09166667 | 0.93814433 | 0.061855670 | 0.90833333 | 0.6536942 | 0.6817109 | 1.0203650 |\n",
       "| 65 | nameshield          |   9 |  6 |   0 |   1 |   2 |   1 | 0.3333333 | 0.00000000 | 1.0000000 | 0.000000000 | 1.00000000 | 1.0000000 | 1.00000000 |   9 | 0 |   4 |   1 |   8 |   1 | 0.5555556 | 0.50000000 | 1.00000000 | 0.000000000 | 0.50000000 | 1.0000000 | 1.0000000 | 1.0000000 |\n",
       "| 67 | netim               |  56 |  1 |   8 |  35 |  16 |  39 | 0.7818182 | 0.50000000 | 0.8974359 | 0.102564103 | 0.50000000 | 0.6794872 | 0.52281476 |  56 | 0 |   9 |  34 |  17 |  39 | 0.7678571 | 0.52941176 | 0.87179487 | 0.128205128 | 0.47058824 | 0.7843137 | 0.5574412 | 0.9378833 |\n",
       "| 68 | netistrar           |   3 |  0 |   1 |   2 |   1 |   2 | 1.0000000 | 1.00000000 | 1.0000000 | 0.000000000 | 0.00000000 | 1.0000000 | 1.00000000 |   3 | 0 |   0 |   2 |   1 |   2 | 0.6666667 | 0.00000000 | 1.00000000 | 0.000000000 | 1.00000000 | 1.0000000 | 1.0000000 | 1.0000000 |\n",
       "| 69 | netowl              |  60 |  3 |   2 |  49 |   4 |  53 | 0.8947368 | 0.50000000 | 0.9245283 | 0.075471698 | 0.50000000 | 0.8820755 | 0.40024510 |  60 | 0 |   4 |  53 |   6 |  54 | 0.9500000 | 0.66666667 | 0.98148148 | 0.018518519 | 0.33333333 | 0.9814815 | 0.9343434 | 0.4283704 |\n",
       "| 71 | nhan hoa software   | 114 |  8 |   0 | 103 |   3 | 103 | 0.9716981 | 0.00000000 | 1.0000000 | 0.000000000 | 1.00000000 | 0.6828479 | 0.56105006 | 114 | 0 |   0 | 111 |   3 | 111 | 0.9736842 | 0.00000000 | 1.00000000 | 0.000000000 | 1.00000000 | 0.6246246 | 0.2260965 | 2.4814629 |\n",
       "| 73 | online sas          |  15 |  0 |   3 |   0 |  13 |   2 | 0.2000000 | 0.23076923 | 0.0000000 | 1.000000000 | 0.76923077 | 0.1538462 | 0.80104169 |  15 | 0 |  13 |   0 |  13 |   2 | 0.8666667 | 1.00000000 | 0.00000000 | 1.000000000 | 0.00000000 | 0.5000000 | 0.9000066 | 0.8900398 |\n",
       "| 75 | opentld b.v.        |   7 |  2 |   1 |   0 |   4 |   1 | 0.2000000 | 0.25000000 | 0.0000000 | 1.000000000 | 0.75000000 | 0.0000000 | 0.70416667 |   7 | 0 |   2 |   1 |   4 |   3 | 0.4285714 | 0.50000000 | 0.33333333 | 0.666666667 | 0.50000000 | 0.4166667 | 0.6083333 | 1.1575342 |\n",
       "| 77 | p.a viet nam        | 258 |  8 |   2 | 231 |  17 | 233 | 0.9320000 | 0.11764706 | 0.9914163 | 0.008583691 | 0.88235294 | 0.6707902 | 0.25516912 | 258 | 0 |   0 | 240 |  18 | 240 | 0.9302326 | 0.00000000 | 1.00000000 | 0.000000000 | 1.00000000 | 0.5835648 | 0.1187759 | 2.1483242 |\n",
       "| 78 | paragon internet    |  47 |  0 |  18 |  11 |  30 |  17 | 0.6170213 | 0.60000000 | 0.6470588 | 0.352941176 | 0.40000000 | 0.7411765 | 0.87885044 |  47 | 0 |   0 |  17 |  30 |  17 | 0.3617021 | 0.00000000 | 1.00000000 | 0.000000000 | 1.00000000 | 0.3313725 | 0.5996116 | 1.4656995 |\n",
       "| 80 | porkbun             | 479 |  2 |   5 | 384 |  77 | 400 | 0.8155136 | 0.06493506 | 0.9600000 | 0.040000000 | 0.93506494 | 0.5860714 | 0.21487292 | 479 | 0 |   1 | 395 |  78 | 401 | 0.8267223 | 0.01282051 | 0.98503741 | 0.014962594 | 0.98717949 | 0.5540636 | 0.2157076 | 0.9961306 |\n",
       "| 81 | promo people        |  61 |  1 |   6 |  18 |  25 |  35 | 0.4000000 | 0.24000000 | 0.5142857 | 0.485714286 | 0.76000000 | 0.4240000 | 0.43778382 |  61 | 0 |   0 |  35 |  25 |  36 | 0.5737705 | 0.00000000 | 0.97222222 | 0.027777778 | 1.00000000 | 0.4911111 | 0.3922531 | 1.1160750 |\n",
       "| 84 | register.com        | 110 |  2 |  39 |  24 |  60 |  48 | 0.5833333 | 0.65000000 | 0.5000000 | 0.500000000 | 0.35000000 | 0.6142361 | 0.68089650 | 110 | 0 |   3 |  46 |  60 |  50 | 0.4454545 | 0.05000000 | 0.92000000 | 0.080000000 | 0.95000000 | 0.4423333 | 0.5394309 | 1.2622498 |\n",
       "| 85 | registrator domenov |  55 |  6 |   5 |  27 |  12 |  37 | 0.6530612 | 0.41666667 | 0.7297297 | 0.270270270 | 0.58333333 | 0.5630631 | 0.32960679 |  55 | 0 |   0 |  41 |  14 |  41 | 0.7454545 | 0.00000000 | 1.00000000 | 0.000000000 | 1.00000000 | 0.4808362 | 0.3918459 | 0.8411644 |\n",
       "| 86 | registrygate        |  18 |  4 |   7 |   0 |  12 |   2 | 0.5000000 | 0.58333333 | 0.0000000 | 1.000000000 | 0.41666667 | 0.4583333 | 0.89930972 |  18 | 0 |  11 |   1 |  13 |   5 | 0.6666667 | 0.84615385 | 0.20000000 | 0.800000000 | 0.15384615 | 0.5076923 | 0.8182617 | 1.0990491 |\n",
       "| 88 | rumahweb            | 308 |  0 |   0 | 290 |  16 | 292 | 0.9415584 | 0.00000000 | 0.9931507 | 0.006849315 | 1.00000000 | 0.4689640 | 0.08421945 | 308 | 0 |   0 | 292 |  16 | 292 | 0.9480519 | 0.00000000 | 1.00000000 | 0.000000000 | 1.00000000 | 0.6065925 | 0.1939003 | 0.4343440 |\n",
       "| 89 | server plan         |   3 |  1 |   0 |   0 |   1 |   1 | 0.0000000 | 0.00000000 | 0.0000000 | 1.000000000 | 1.00000000 | 0.0000000 | 0.75000000 |   3 | 0 |   0 |   1 |   2 |   1 | 0.3333333 | 0.00000000 | 1.00000000 | 0.000000000 | 1.00000000 | 1.0000000 | 1.0000000 | 0.7500000 |\n",
       "| 90 | shanghai best oray  | 138 |  4 |   1 | 117 |  16 | 118 | 0.8805970 | 0.06250000 | 0.9915254 | 0.008474576 | 0.93750000 | 0.6009004 | 0.22929132 | 138 | 0 |   0 | 122 |  16 | 122 | 0.8840580 | 0.00000000 | 1.00000000 | 0.000000000 | 1.00000000 | 0.5204918 | 0.1948107 | 1.1769954 |\n",
       "| 93 | super registry      |  13 |  0 |   3 |   1 |   7 |   6 | 0.3076923 | 0.42857143 | 0.1666667 | 0.833333333 | 0.57142857 | 0.4285714 | 0.63546176 |  13 | 0 |   2 |   5 |   7 |   6 | 0.5384615 | 0.28571429 | 0.83333333 | 0.166666667 | 0.71428571 | 0.5000000 | 0.6989538 | 0.9091613 |\n",
       "| 94 | synergy wholesale   |  10 |  5 |   2 |   0 |   4 |   1 | 0.4000000 | 0.50000000 | 0.0000000 | 1.000000000 | 0.50000000 | 0.2500000 | 0.82916667 |  10 | 0 |   3 |   3 |   5 |   5 | 0.6000000 | 0.60000000 | 0.60000000 | 0.400000000 | 0.40000000 | 0.6400000 | 0.7422222 | 1.1171407 |\n",
       "| 95 | tecnocratica centro |   3 |  1 |   1 |   1 |   1 |   1 | 1.0000000 | 1.00000000 | 1.0000000 | 0.000000000 | 0.00000000 | 1.0000000 | 1.00000000 |   3 | 0 |   0 |   1 |   1 |   2 | 0.3333333 | 0.00000000 | 0.50000000 | 0.500000000 | 1.00000000 | 0.5000000 | 0.7500000 | 1.3333333 |\n",
       "| 96 | tld registrar solns | 411 |  4 |   8 | 354 |  38 | 369 | 0.8894349 | 0.21052632 | 0.9593496 | 0.040650407 | 0.78947368 | 0.7342034 | 0.25230691 | 411 | 0 |   4 | 367 |  40 | 371 | 0.9026764 | 0.10000000 | 0.98921833 | 0.010781671 | 0.90000000 | 0.8083558 | 0.2931159 | 0.8607751 |\n",
       "| 97 | todaynic            |   6 |  1 |   1 |   0 |   1 |   4 | 0.2000000 | 1.00000000 | 0.0000000 | 1.000000000 | 0.00000000 | 0.5000000 | 0.60000000 |   6 | 0 |   0 |   5 |   1 |   5 | 0.8333333 | 0.00000000 | 1.00000000 | 0.000000000 | 1.00000000 | 0.4000000 | 0.6250000 | 0.9600000 |\n",
       "| 102 | vautron             |  30 |  5 |  11 |   2 |  14 |  11 | 0.5200000 | 0.78571429 | 0.1818182 | 0.818181818 | 0.21428571 | 0.4025974 | 0.51202252 |  30 | 0 |  14 |   4 |  15 |  15 | 0.6000000 | 0.93333333 | 0.26666667 | 0.733333333 | 0.06666667 | 0.6133333 | 0.5739217 | 0.8921470 |\n",
       "| 103 | web commerce comm   | 488 |  8 |   1 | 463 |  17 | 463 | 0.9666667 | 0.05882353 | 1.0000000 | 0.000000000 | 0.94117647 | 0.5539322 | 0.20282337 | 488 | 0 |   0 | 469 |  19 | 469 | 0.9610656 | 0.00000000 | 1.00000000 | 0.000000000 | 1.00000000 | 0.5989227 | 0.1430682 | 1.4176687 |\n",
       "| 104 | web4africa          |  29 |  5 |   0 |  22 |   1 |  23 | 0.9166667 | 0.00000000 | 0.9565217 | 0.043478261 | 1.00000000 | 0.2826087 | 0.52083333 |  29 | 0 |   0 |  26 |   3 |  26 | 0.8965517 | 0.00000000 | 1.00000000 | 0.000000000 | 1.00000000 | 0.3846154 | 0.2632275 | 1.9786432 |\n",
       "| 105 | webnames            |  18 |  2 |   3 |   8 |   5 |  11 | 0.6875000 | 0.60000000 | 0.7272727 | 0.272727273 | 0.40000000 | 0.7272727 | 0.67500000 |  18 | 0 |   1 |  11 |   6 |  12 | 0.6666667 | 0.16666667 | 0.91666667 | 0.083333333 | 0.83333333 | 0.6944444 | 0.6591270 | 1.0240819 |\n",
       "| 107 | wild west           |  93 |  3 |   7 |  38 |  42 |  48 | 0.5000000 | 0.16666667 | 0.7916667 | 0.208333333 | 0.83333333 | 0.5138889 | 0.46718132 |  93 | 0 |   2 |  49 |  43 |  50 | 0.5483871 | 0.04651163 | 0.98000000 | 0.020000000 | 0.95348837 | 0.5139535 | 0.4982931 | 0.9375634 |\n",
       "| 108 | xiamen chinasource  | 136 |  1 |   0 | 114 |  12 | 123 | 0.8444444 | 0.00000000 | 0.9268293 | 0.073170732 | 1.00000000 | 0.6795393 | 0.19329511 | 136 | 0 |   0 | 124 |  12 | 124 | 0.9117647 | 0.00000000 | 1.00000000 | 0.000000000 | 1.00000000 | 0.7533602 | 0.3586393 | 0.5389679 |\n",
       "| 109 | xiamen nawang       |  31 |  2 |   0 |  25 |   3 |  26 | 0.8620690 | 0.00000000 | 0.9615385 | 0.038461538 | 1.00000000 | 0.6025641 | 0.29330065 |  31 | 0 |   0 |  28 |   3 |  28 | 0.9032258 | 0.00000000 | 1.00000000 | 0.000000000 | 1.00000000 | 0.2380952 | 0.2303419 | 1.2733275 |\n",
       "\n"
      ],
      "text/plain": [
       "    reg                 obs_count_s na_count_s TP_s TN_s P_s N_s acc_0.5_s\n",
       "2   101 domain           32          6          14    6   16  10 0.7692308\n",
       "3   10dencehispahard    165          2           2  128   31 132 0.7975460\n",
       "4   1api                190          8          56   45   79 103 0.5549451\n",
       "5   22net inc            51          0           2   49    2  49 1.0000000\n",
       "6   ab name isp          15          3           7    0    7   5 0.5833333\n",
       "8   alibaba sg          268          1           0  250   17 250 0.9363296\n",
       "9   alpnames              3          1           0    1    1   1 0.5000000\n",
       "11  atak                 31          1           0   25    4  26 0.8333333\n",
       "12  automattic          355          0         132   54  191 164 0.5239437\n",
       "14  bizcn               231         11           1  176   24 196 0.8045455\n",
       "15  c-soft oy             5          0           0    3    1   4 0.6000000\n",
       "16  chengdu fly          69         12           1   51    3  54 0.9122807\n",
       "18  com laude             8          4           1    0    1   3 0.2500000\n",
       "19  corehub              10          2           4    0    7   1 0.5000000\n",
       "20  crazy domains       195          2          30   82   87 106 0.5803109\n",
       "22  csc corporate        25         18           6    0    6   1 0.8571429\n",
       "23  csl                 216          3           9  132   70 143 0.6619718\n",
       "24  diamatrix           144          0           1   94   50  94 0.6597222\n",
       "25  dinahosting          33          2          13    3   18  13 0.5161290\n",
       "27  domeneshop           59          1          24   11   34  24 0.6034483\n",
       "28  dotname korea       132          0           0  125    3 129 0.9469697\n",
       "31  ejee group            8          5           0    2    1   2 0.6666667\n",
       "33  epag                 42          0           1   35    6  36 0.8571429\n",
       "34  epik llc             54         27           1   24    3  24 0.9259259\n",
       "36  euro dns            257          3           7  185   62 192 0.7559055\n",
       "38  freeparking           6          1           2    1    3   2 0.6000000\n",
       "41  global domains      542         38           1  488    5 499 0.9702381\n",
       "45  gransy              183          4          14  119   40 139 0.7430168\n",
       "49  instra corporation  205          3           7  150   46 156 0.7772277\n",
       "50  internet gmbh         4          0           0    0    1   3 0.0000000\n",
       "51  internetworx ltd     19          3           7    3    9   7 0.6250000\n",
       "52  internetx           150          5          82    7   97  48 0.6137931\n",
       "53  jogjacamp           344          4           0  329   11 329 0.9676471\n",
       "55  ledl.net             62          0           6   36   16  46 0.6774194\n",
       "56  ligne web services  268          1           1  249   17 250 0.9363296\n",
       "57  liquidnet           127          0           3   96   21 106 0.7795276\n",
       "58  marcaria.com         13          4           4    0    8   1 0.4444444\n",
       "59  mat bao             272          3           0  253   14 255 0.9405204\n",
       "60  melbourne it         13          1           2    6    4   8 0.6666667\n",
       "61  mesh digital        462          9         264   30  280 173 0.6490066\n",
       "62  metaregistrar       217          1          99   45  119  97 0.6666667\n",
       "65  nameshield            9          6           0    1    2   1 0.3333333\n",
       "67  netim                56          1           8   35   16  39 0.7818182\n",
       "68  netistrar             3          0           1    2    1   2 1.0000000\n",
       "69  netowl               60          3           2   49    4  53 0.8947368\n",
       "71  nhan hoa software   114          8           0  103    3 103 0.9716981\n",
       "73  online sas           15          0           3    0   13   2 0.2000000\n",
       "75  opentld b.v.          7          2           1    0    4   1 0.2000000\n",
       "77  p.a viet nam        258          8           2  231   17 233 0.9320000\n",
       "78  paragon internet     47          0          18   11   30  17 0.6170213\n",
       "80  porkbun             479          2           5  384   77 400 0.8155136\n",
       "81  promo people         61          1           6   18   25  35 0.4000000\n",
       "84  register.com        110          2          39   24   60  48 0.5833333\n",
       "85  registrator domenov  55          6           5   27   12  37 0.6530612\n",
       "86  registrygate         18          4           7    0   12   2 0.5000000\n",
       "88  rumahweb            308          0           0  290   16 292 0.9415584\n",
       "89  server plan           3          1           0    0    1   1 0.0000000\n",
       "90  shanghai best oray  138          4           1  117   16 118 0.8805970\n",
       "93  super registry       13          0           3    1    7   6 0.3076923\n",
       "94  synergy wholesale    10          5           2    0    4   1 0.4000000\n",
       "95  tecnocratica centro   3          1           1    1    1   1 1.0000000\n",
       "96  tld registrar solns 411          4           8  354   38 369 0.8894349\n",
       "97  todaynic              6          1           1    0    1   4 0.2000000\n",
       "102 vautron              30          5          11    2   14  11 0.5200000\n",
       "103 web commerce comm   488          8           1  463   17 463 0.9666667\n",
       "104 web4africa           29          5           0   22    1  23 0.9166667\n",
       "105 webnames             18          2           3    8    5  11 0.6875000\n",
       "107 wild west            93          3           7   38   42  48 0.5000000\n",
       "108 xiamen chinasource  136          1           0  114   12 123 0.8444444\n",
       "109 xiamen nawang        31          2           0   25    3  26 0.8620690\n",
       "    tpr_0.5_s  tnr_0.5_s fpr_0.5_s   fnr_0.5_s  auc_s     aucpr_s   \n",
       "2   0.87500000 0.6000000 0.400000000 0.12500000 0.6656250 0.69928561\n",
       "3   0.06451613 0.9696970 0.030303030 0.93548387 0.7065005 0.34897498\n",
       "4   0.70886076 0.4368932 0.563106796 0.29113924 0.5710336 0.46988104\n",
       "5   1.00000000 1.0000000 0.000000000 0.00000000 1.0000000 1.00000000\n",
       "6   1.00000000 0.0000000 1.000000000 0.00000000 0.5571429 0.72857143\n",
       "8   0.00000000 1.0000000 0.000000000 1.00000000 0.6015294 0.13529667\n",
       "9   0.00000000 1.0000000 0.000000000 1.00000000 1.0000000 1.00000000\n",
       "11  0.00000000 0.9615385 0.038461538 1.00000000 0.4423077 0.25393908\n",
       "12  0.69109948 0.3292683 0.670731707 0.30890052 0.5039586 0.52275400\n",
       "14  0.04166667 0.8979592 0.102040816 0.95833333 0.5980017 0.15678244\n",
       "15  0.00000000 0.7500000 0.250000000 1.00000000 0.3750000 0.60000000\n",
       "16  0.33333333 0.9444444 0.055555556 0.66666667 0.6882716 0.31432749\n",
       "18  1.00000000 0.0000000 1.000000000 0.00000000 0.8333333 0.75000000\n",
       "19  0.57142857 0.0000000 1.000000000 0.42857143 0.5714286 0.97232143\n",
       "20  0.34482759 0.7735849 0.226415094 0.65517241 0.5895684 0.52179858\n",
       "22  1.00000000 0.0000000 1.000000000 0.00000000 0.8333333 0.98809524\n",
       "23  0.12857143 0.9230769 0.076923077 0.87142857 0.6994505 0.47239347\n",
       "24  0.02000000 1.0000000 0.000000000 0.98000000 0.4775532 0.36635909\n",
       "25  0.72222222 0.2307692 0.769230769 0.27777778 0.3888889 0.52518246\n",
       "27  0.70588235 0.4583333 0.541666667 0.29411765 0.6115196 0.71134726\n",
       "28  0.00000000 0.9689922 0.031007752 1.00000000 0.3449612 0.18397668\n",
       "31  0.00000000 1.0000000 0.000000000 1.00000000 0.2500000 0.66666667\n",
       "33  0.16666667 0.9722222 0.027777778 0.83333333 0.6203704 0.41481062\n",
       "34  0.33333333 1.0000000 0.000000000 0.66666667 0.7500000 0.60227273\n",
       "36  0.11290323 0.9635417 0.036458333 0.88709677 0.6978327 0.39678347\n",
       "38  0.66666667 0.5000000 0.500000000 0.33333333 0.5000000 0.82222222\n",
       "41  0.20000000 0.9779559 0.022044088 0.80000000 0.7991984 0.13728811\n",
       "45  0.35000000 0.8561151 0.143884892 0.65000000 0.7052158 0.40094067\n",
       "49  0.15217391 0.9615385 0.038461538 0.84782609 0.6539855 0.40807026\n",
       "50  0.00000000 0.0000000 1.000000000 1.00000000 0.0000000 0.62500000\n",
       "51  0.77777778 0.4285714 0.571428571 0.22222222 0.5555556 0.65680716\n",
       "52  0.84536082 0.1458333 0.854166667 0.15463918 0.5550902 0.71975971\n",
       "53  0.00000000 1.0000000 0.000000000 1.00000000 0.6808511 0.12339626\n",
       "55  0.37500000 0.7826087 0.217391304 0.62500000 0.5332880 0.40512063\n",
       "56  0.05882353 0.9960000 0.004000000 0.94117647 0.6157647 0.17786917\n",
       "57  0.14285714 0.9056604 0.094339623 0.85714286 0.4847260 0.21314824\n",
       "58  0.50000000 0.0000000 1.000000000 0.50000000 0.1875000 0.81999008\n",
       "59  0.00000000 0.9921569 0.007843137 1.00000000 0.5787115 0.12891410\n",
       "60  0.50000000 0.7500000 0.250000000 0.50000000 0.5468750 0.52380952\n",
       "61  0.94285714 0.1734104 0.826589595 0.05714286 0.6013832 0.68564139\n",
       "62  0.83193277 0.4639175 0.536082474 0.16806723 0.6890756 0.69559400\n",
       "65  0.00000000 1.0000000 0.000000000 1.00000000 1.0000000 1.00000000\n",
       "67  0.50000000 0.8974359 0.102564103 0.50000000 0.6794872 0.52281476\n",
       "68  1.00000000 1.0000000 0.000000000 0.00000000 1.0000000 1.00000000\n",
       "69  0.50000000 0.9245283 0.075471698 0.50000000 0.8820755 0.40024510\n",
       "71  0.00000000 1.0000000 0.000000000 1.00000000 0.6828479 0.56105006\n",
       "73  0.23076923 0.0000000 1.000000000 0.76923077 0.1538462 0.80104169\n",
       "75  0.25000000 0.0000000 1.000000000 0.75000000 0.0000000 0.70416667\n",
       "77  0.11764706 0.9914163 0.008583691 0.88235294 0.6707902 0.25516912\n",
       "78  0.60000000 0.6470588 0.352941176 0.40000000 0.7411765 0.87885044\n",
       "80  0.06493506 0.9600000 0.040000000 0.93506494 0.5860714 0.21487292\n",
       "81  0.24000000 0.5142857 0.485714286 0.76000000 0.4240000 0.43778382\n",
       "84  0.65000000 0.5000000 0.500000000 0.35000000 0.6142361 0.68089650\n",
       "85  0.41666667 0.7297297 0.270270270 0.58333333 0.5630631 0.32960679\n",
       "86  0.58333333 0.0000000 1.000000000 0.41666667 0.4583333 0.89930972\n",
       "88  0.00000000 0.9931507 0.006849315 1.00000000 0.4689640 0.08421945\n",
       "89  0.00000000 0.0000000 1.000000000 1.00000000 0.0000000 0.75000000\n",
       "90  0.06250000 0.9915254 0.008474576 0.93750000 0.6009004 0.22929132\n",
       "93  0.42857143 0.1666667 0.833333333 0.57142857 0.4285714 0.63546176\n",
       "94  0.50000000 0.0000000 1.000000000 0.50000000 0.2500000 0.82916667\n",
       "95  1.00000000 1.0000000 0.000000000 0.00000000 1.0000000 1.00000000\n",
       "96  0.21052632 0.9593496 0.040650407 0.78947368 0.7342034 0.25230691\n",
       "97  1.00000000 0.0000000 1.000000000 0.00000000 0.5000000 0.60000000\n",
       "102 0.78571429 0.1818182 0.818181818 0.21428571 0.4025974 0.51202252\n",
       "103 0.05882353 1.0000000 0.000000000 0.94117647 0.5539322 0.20282337\n",
       "104 0.00000000 0.9565217 0.043478261 1.00000000 0.2826087 0.52083333\n",
       "105 0.60000000 0.7272727 0.272727273 0.40000000 0.7272727 0.67500000\n",
       "107 0.16666667 0.7916667 0.208333333 0.83333333 0.5138889 0.46718132\n",
       "108 0.00000000 0.9268293 0.073170732 1.00000000 0.6795393 0.19329511\n",
       "109 0.00000000 0.9615385 0.038461538 1.00000000 0.6025641 0.29330065\n",
       "    obs_count_r na_count_r TP_r TN_r P_r N_r acc_0.5_r tpr_0.5_r  tnr_0.5_r \n",
       "2    32         0           19    2   19  13 0.6562500 1.00000000 0.15384615\n",
       "3   165         0            1  132   31 134 0.8060606 0.03225806 0.98507463\n",
       "4   190         0           21   70   84 106 0.4789474 0.25000000 0.66037736\n",
       "5    51         0            2   49    2  49 1.0000000 1.00000000 1.00000000\n",
       "6    15         0            7    1    9   6 0.5333333 0.77777778 0.16666667\n",
       "8   268         0            0  251   17 251 0.9365672 0.00000000 1.00000000\n",
       "9     3         0            1    2    1   2 1.0000000 1.00000000 1.00000000\n",
       "11   31         0            0   25    5  26 0.8064516 0.00000000 0.96153846\n",
       "12  355         0          187   15  191 164 0.5690141 0.97905759 0.09146341\n",
       "14  231         0            0  204   26 205 0.8831169 0.00000000 0.99512195\n",
       "15    5         0            0    4    1   4 0.8000000 0.00000000 1.00000000\n",
       "16   69         0            0   66    3  66 0.9565217 0.00000000 1.00000000\n",
       "18    8         0            5    1    5   3 0.7500000 1.00000000 0.33333333\n",
       "19   10         0            9    0    9   1 0.9000000 1.00000000 0.00000000\n",
       "20  195         0           27   83   89 106 0.5641026 0.30337079 0.78301887\n",
       "22   25         0           24    0   24   1 0.9600000 1.00000000 0.00000000\n",
       "23  216         0            5  139   72 144 0.6666667 0.06944444 0.96527778\n",
       "24  144         0            1   94   50  94 0.6597222 0.02000000 1.00000000\n",
       "25   33         0           14    7   18  15 0.6363636 0.77777778 0.46666667\n",
       "27   59         0           16   15   35  24 0.5254237 0.45714286 0.62500000\n",
       "28  132         0            0  129    3 129 0.9772727 0.00000000 1.00000000\n",
       "31    8         0            0    7    1   7 0.8750000 0.00000000 1.00000000\n",
       "33   42         0            0   36    6  36 0.8571429 0.00000000 1.00000000\n",
       "34   54         0            3   51    3  51 1.0000000 1.00000000 1.00000000\n",
       "36  257         0            9  187   64 193 0.7626459 0.14062500 0.96891192\n",
       "38    6         0            4    0    4   2 0.6666667 1.00000000 0.00000000\n",
       "41  542         0            0  537    5 537 0.9907749 0.00000000 1.00000000\n",
       "45  183         0            4  133   43 140 0.7486339 0.09302326 0.95000000\n",
       "49  205         0            2  156   46 159 0.7707317 0.04347826 0.98113208\n",
       "50    4         0            0    3    1   3 0.7500000 0.00000000 1.00000000\n",
       "51   19         0            2    5   11   8 0.3684211 0.18181818 0.62500000\n",
       "52  150         0           20   43  101  49 0.4200000 0.19801980 0.87755102\n",
       "53  344         0            0  333   11 333 0.9680233 0.00000000 1.00000000\n",
       "55   62         0            1   44   16  46 0.7258065 0.06250000 0.95652174\n",
       "56  268         0            0  251   17 251 0.9365672 0.00000000 1.00000000\n",
       "57  127         0            2   98   21 106 0.7874016 0.09523810 0.92452830\n",
       "58   13         0           10    0   10   3 0.7692308 1.00000000 0.00000000\n",
       "59  272         0            1  253   15 257 0.9338235 0.06666667 0.98443580\n",
       "60   13         0            1    7    5   8 0.6153846 0.20000000 0.87500000\n",
       "61  462         0          152  101  288 174 0.5476190 0.52777778 0.58045977\n",
       "62  217         0           11   91  120  97 0.4700461 0.09166667 0.93814433\n",
       "65    9         0            4    1    8   1 0.5555556 0.50000000 1.00000000\n",
       "67   56         0            9   34   17  39 0.7678571 0.52941176 0.87179487\n",
       "68    3         0            0    2    1   2 0.6666667 0.00000000 1.00000000\n",
       "69   60         0            4   53    6  54 0.9500000 0.66666667 0.98148148\n",
       "71  114         0            0  111    3 111 0.9736842 0.00000000 1.00000000\n",
       "73   15         0           13    0   13   2 0.8666667 1.00000000 0.00000000\n",
       "75    7         0            2    1    4   3 0.4285714 0.50000000 0.33333333\n",
       "77  258         0            0  240   18 240 0.9302326 0.00000000 1.00000000\n",
       "78   47         0            0   17   30  17 0.3617021 0.00000000 1.00000000\n",
       "80  479         0            1  395   78 401 0.8267223 0.01282051 0.98503741\n",
       "81   61         0            0   35   25  36 0.5737705 0.00000000 0.97222222\n",
       "84  110         0            3   46   60  50 0.4454545 0.05000000 0.92000000\n",
       "85   55         0            0   41   14  41 0.7454545 0.00000000 1.00000000\n",
       "86   18         0           11    1   13   5 0.6666667 0.84615385 0.20000000\n",
       "88  308         0            0  292   16 292 0.9480519 0.00000000 1.00000000\n",
       "89    3         0            0    1    2   1 0.3333333 0.00000000 1.00000000\n",
       "90  138         0            0  122   16 122 0.8840580 0.00000000 1.00000000\n",
       "93   13         0            2    5    7   6 0.5384615 0.28571429 0.83333333\n",
       "94   10         0            3    3    5   5 0.6000000 0.60000000 0.60000000\n",
       "95    3         0            0    1    1   2 0.3333333 0.00000000 0.50000000\n",
       "96  411         0            4  367   40 371 0.9026764 0.10000000 0.98921833\n",
       "97    6         0            0    5    1   5 0.8333333 0.00000000 1.00000000\n",
       "102  30         0           14    4   15  15 0.6000000 0.93333333 0.26666667\n",
       "103 488         0            0  469   19 469 0.9610656 0.00000000 1.00000000\n",
       "104  29         0            0   26    3  26 0.8965517 0.00000000 1.00000000\n",
       "105  18         0            1   11    6  12 0.6666667 0.16666667 0.91666667\n",
       "107  93         0            2   49   43  50 0.5483871 0.04651163 0.98000000\n",
       "108 136         0            0  124   12 124 0.9117647 0.00000000 1.00000000\n",
       "109  31         0            0   28    3  28 0.9032258 0.00000000 1.00000000\n",
       "    fpr_0.5_r   fnr_0.5_r  auc_r     aucpr_r   aucpr_srrat\n",
       "2   0.846153846 0.00000000 0.6923077 0.8021654 0.8717474  \n",
       "3   0.014925373 0.96774194 0.7087145 0.3286169 1.0619508  \n",
       "4   0.339622642 0.75000000 0.4977538 0.4620861 1.0168691  \n",
       "5   0.000000000 0.00000000 1.0000000 1.0000000 1.0000000  \n",
       "6   0.833333333 0.22222222 0.3888889 0.5754147 1.2661675  \n",
       "8   0.000000000 1.00000000 0.6135458 0.1805290 0.7494456  \n",
       "9   0.000000000 0.00000000 1.0000000 1.0000000 1.0000000  \n",
       "11  0.038461538 1.00000000 0.7769231 0.4261905 0.5958347  \n",
       "12  0.908536585 0.02094241 0.5475993 0.5566967 0.9390284  \n",
       "14  0.004878049 1.00000000 0.6700750 0.2199552 0.7127927  \n",
       "15  0.000000000 1.00000000 0.0000000 0.6000000 1.0000000  \n",
       "16  0.000000000 1.00000000 0.7373737 0.2618301 1.2005016  \n",
       "18  0.666666667 0.00000000 1.0000000 1.0000000 0.7500000  \n",
       "19  1.000000000 0.00000000 1.0000000 1.0000000 0.9723214  \n",
       "20  0.216981132 0.69662921 0.5595718 0.5315648 0.9816274  \n",
       "22  1.000000000 0.00000000 0.9166667 0.9974306 0.9906406  \n",
       "23  0.034722222 0.93055556 0.6668596 0.4697571 1.0056121  \n",
       "24  0.000000000 0.98000000 0.5509574 0.4167497 0.8790867  \n",
       "25  0.533333333 0.22222222 0.6259259 0.6897674 0.7613907  \n",
       "27  0.375000000 0.54285714 0.5452381 0.6355431 1.1192746  \n",
       "28  0.000000000 1.00000000 0.8449612 0.2638889 0.6971748  \n",
       "31  0.000000000 1.00000000 1.0000000 1.0000000 0.6666667  \n",
       "33  0.000000000 1.00000000 0.6481481 0.2725634 1.5218870  \n",
       "34  0.000000000 0.00000000 1.0000000 1.0000000 0.6022727  \n",
       "36  0.031088083 0.85937500 0.7098446 0.4777649 0.8304995  \n",
       "38  1.000000000 0.00000000 0.6250000 0.8291667 0.9916248  \n",
       "41  0.000000000 1.00000000 0.6145251 0.1334530 1.0287379  \n",
       "45  0.050000000 0.90697674 0.6611296 0.3471426 1.1549741  \n",
       "49  0.018867925 0.95652174 0.6372710 0.3782804 1.0787506  \n",
       "50  0.000000000 1.00000000 0.0000000 0.6250000 1.0000000  \n",
       "51  0.375000000 0.81818182 0.3295455 0.6138572 1.0699673  \n",
       "52  0.122448980 0.80198020 0.6112346 0.7520411 0.9570749  \n",
       "53  0.000000000 1.00000000 0.5948676 0.1307480 0.9437718  \n",
       "55  0.043478261 0.93750000 0.6154891 0.3710203 1.0919097  \n",
       "56  0.000000000 1.00000000 0.5720647 0.1952201 0.9111211  \n",
       "57  0.075471698 0.90476190 0.6531896 0.3207404 0.6645506  \n",
       "58  1.000000000 0.00000000 0.3333333 0.6876912 1.1923812  \n",
       "59  0.015564202 0.93333333 0.6809339 0.1747161 0.7378492  \n",
       "60  0.125000000 0.80000000 0.7750000 0.6491667 0.8068953  \n",
       "61  0.419540230 0.47222222 0.5528815 0.6551191 1.0465904  \n",
       "62  0.061855670 0.90833333 0.6536942 0.6817109 1.0203650  \n",
       "65  0.000000000 0.50000000 1.0000000 1.0000000 1.0000000  \n",
       "67  0.128205128 0.47058824 0.7843137 0.5574412 0.9378833  \n",
       "68  0.000000000 1.00000000 1.0000000 1.0000000 1.0000000  \n",
       "69  0.018518519 0.33333333 0.9814815 0.9343434 0.4283704  \n",
       "71  0.000000000 1.00000000 0.6246246 0.2260965 2.4814629  \n",
       "73  1.000000000 0.00000000 0.5000000 0.9000066 0.8900398  \n",
       "75  0.666666667 0.50000000 0.4166667 0.6083333 1.1575342  \n",
       "77  0.000000000 1.00000000 0.5835648 0.1187759 2.1483242  \n",
       "78  0.000000000 1.00000000 0.3313725 0.5996116 1.4656995  \n",
       "80  0.014962594 0.98717949 0.5540636 0.2157076 0.9961306  \n",
       "81  0.027777778 1.00000000 0.4911111 0.3922531 1.1160750  \n",
       "84  0.080000000 0.95000000 0.4423333 0.5394309 1.2622498  \n",
       "85  0.000000000 1.00000000 0.4808362 0.3918459 0.8411644  \n",
       "86  0.800000000 0.15384615 0.5076923 0.8182617 1.0990491  \n",
       "88  0.000000000 1.00000000 0.6065925 0.1939003 0.4343440  \n",
       "89  0.000000000 1.00000000 1.0000000 1.0000000 0.7500000  \n",
       "90  0.000000000 1.00000000 0.5204918 0.1948107 1.1769954  \n",
       "93  0.166666667 0.71428571 0.5000000 0.6989538 0.9091613  \n",
       "94  0.400000000 0.40000000 0.6400000 0.7422222 1.1171407  \n",
       "95  0.500000000 1.00000000 0.5000000 0.7500000 1.3333333  \n",
       "96  0.010781671 0.90000000 0.8083558 0.2931159 0.8607751  \n",
       "97  0.000000000 1.00000000 0.4000000 0.6250000 0.9600000  \n",
       "102 0.733333333 0.06666667 0.6133333 0.5739217 0.8921470  \n",
       "103 0.000000000 1.00000000 0.5989227 0.1430682 1.4176687  \n",
       "104 0.000000000 1.00000000 0.3846154 0.2632275 1.9786432  \n",
       "105 0.083333333 0.83333333 0.6944444 0.6591270 1.0240819  \n",
       "107 0.020000000 0.95348837 0.5139535 0.4982931 0.9375634  \n",
       "108 0.000000000 1.00000000 0.7533602 0.3586393 0.5389679  \n",
       "109 0.000000000 1.00000000 0.2380952 0.2303419 1.2733275  "
      ]
     },
     "metadata": {},
     "output_type": "display_data"
    }
   ],
   "source": [
    "joint_pred_df_small"
   ]
  },
  {
   "cell_type": "code",
   "execution_count": null,
   "metadata": {},
   "outputs": [],
   "source": [
    "# compare acc_0.5\n",
    "# replaced NA's and 0s with very small values for ratio calc\n",
    "joint_pred_df <- joint_pred_df %>%  \n",
    "                    mutate_at(vars(acc_0.5_s, acc_0.5_r), ~replace_na(., 0.000001)) %>%\n",
    "                    mutate_at(vars(acc_0.5_s, acc_0.5_r), ~replace(., .==0, 0.000001)) \n",
    "joint_pred_df$acc_srrat = joint_pred_df$acc_0.5_s/joint_pred_df$acc_0.5_r\n",
    "joint_pred_df[c(\"reg\",\"obs_count_s\",\"na_count_s\",\"acc_0.5_s\",\"acc_0.5_r\",\"acc_srrat\")] %>% arrange(desc(acc_srrat))"
   ]
  },
  {
   "cell_type": "code",
   "execution_count": 82,
   "metadata": {},
   "outputs": [
    {
     "name": "stdout",
     "output_type": "stream",
     "text": [
      "seg_glm outperforms ranger_03 on 51 registrars:  0.3290323 \n",
      "ranger_03 outperforms seg_glm on 86 registrars:  0.5548387 \n",
      "\n",
      "seg_glm outperforms ranger_03 on 152087 domains:  0.5124277 \n",
      "ranger_03 outperforms seg_glm on 133261 domains:  0.4489971 \n",
      "\n"
     ]
    }
   ],
   "source": [
    "df = joint_pred_df\n",
    "\n",
    "cat(\"seg_glm outperforms ranger_03 on\",nrow(df[df$acc_srrat>1,]),\"registrars: \",nrow(df[df$acc_srrat>1,])/nrow(df),\"\\n\") \n",
    "cat(\"ranger_03 outperforms seg_glm on\",nrow(df[df$acc_srrat<1,]),\"registrars: \",nrow(df[df$acc_srrat<1,])/nrow(df),\"\\n\\n\") \n",
    "\n",
    "cat(\"seg_glm outperforms ranger_03 on\",sum(df[df$acc_srrat>1,\"obs_count_s\"]),\"domains: \",sum(df[df$acc_srrat>1,\"obs_count_s\"])/sum(df[\"obs_count_s\"]),\"\\n\") \n",
    "cat(\"ranger_03 outperforms seg_glm on\",sum(df[df$acc_srrat<1,\"obs_count_s\"]),\"domains: \",sum(df[df$acc_srrat<1,\"obs_count_s\"])/sum(df[\"obs_count_s\"]),\"\\n\\n\") "
   ]
  },
  {
   "cell_type": "code",
   "execution_count": 84,
   "metadata": {},
   "outputs": [
    {
     "name": "stdout",
     "output_type": "stream",
     "text": [
      "On the  114  registrars w/ less than  600  domains renewing....\n",
      "\n",
      "seg_glm outperforms ranger_03 on 28 registrars:  0.245614 \n",
      "ranger_03 outperforms seg_glm on 69 registrars:  0.6052632 \n",
      "\n",
      "seg_glm outperforms ranger_03 on 3009 domains:  0.3418153 \n",
      "ranger_03 outperforms seg_glm on 5485 domains:  0.623083 \n",
      "\n"
     ]
    }
   ],
   "source": [
    "cutoff = 600\n",
    "joint_pred_df_small  <- joint_pred_df[joint_pred_df$obs_count_s<cutoff,]\n",
    "\n",
    "cat(\"On the \",nrow(joint_pred_df_small),\" registrars w/ less than \",cutoff,\" domains renewing....\\n\\n\")\n",
    "cat(\"seg_glm outperforms ranger_03 on\",nrow(joint_pred_df_small[joint_pred_df_small$acc_srrat>1,]),\"registrars: \",nrow(joint_pred_df_small[joint_pred_df_small$acc_srrat>1,])/nrow(joint_pred_df_small),\"\\n\") \n",
    "cat(\"ranger_03 outperforms seg_glm on\",nrow(joint_pred_df_small[joint_pred_df_small$acc_srrat<1,]),\"registrars: \",nrow(joint_pred_df_small[joint_pred_df_small$acc_srrat<1,])/nrow(joint_pred_df_small),\"\\n\\n\") \n",
    "\n",
    "cat(\"seg_glm outperforms ranger_03 on\",sum(joint_pred_df_small[joint_pred_df_small$acc_srrat>1,\"obs_count_s\"]),\"domains: \",sum(joint_pred_df_small[joint_pred_df_small$acc_srrat>1,\"obs_count_s\"])/sum(joint_pred_df_small[\"obs_count_s\"]),\"\\n\") \n",
    "cat(\"ranger_03 outperforms seg_glm on\",sum(joint_pred_df_small[joint_pred_df_small$acc_srrat<1,\"obs_count_s\"]),\"domains: \",sum(joint_pred_df_small[joint_pred_df_small$acc_srrat<1,\"obs_count_s\"])/sum(joint_pred_df_small[\"obs_count_s\"]),\"\\n\\n\") "
   ]
  },
  {
   "cell_type": "code",
   "execution_count": 86,
   "metadata": {},
   "outputs": [],
   "source": [
    "write.csv(joint_pred_df, \"../../data/output/joint_pred_df.csv\", row.names=FALSE)"
   ]
  },
  {
   "cell_type": "code",
   "execution_count": 90,
   "metadata": {},
   "outputs": [],
   "source": [
    "system(\"gsutil cp /home/jupyter/local/Domains_202003/data/output/* gs://data_outputt/output/ \")\n",
    "system(\"mv /home/jupyter/local/Domains_202003/data/output/* /home/jupyter/local/Domains_202003/data/\")"
   ]
  },
  {
   "cell_type": "code",
   "execution_count": null,
   "metadata": {},
   "outputs": [],
   "source": []
  }
 ],
 "metadata": {
  "environment": {
   "name": "r-cpu.3-6.m48",
   "type": "gcloud",
   "uri": "gcr.io/deeplearning-platform-release/r-cpu.3-6:m48"
  },
  "kernelspec": {
   "display_name": "R",
   "language": "R",
   "name": "ir"
  },
  "language_info": {
   "codemirror_mode": "r",
   "file_extension": ".r",
   "mimetype": "text/x-r-source",
   "name": "R",
   "pygments_lexer": "r",
   "version": "3.6.3"
  }
 },
 "nbformat": 4,
 "nbformat_minor": 4
}
