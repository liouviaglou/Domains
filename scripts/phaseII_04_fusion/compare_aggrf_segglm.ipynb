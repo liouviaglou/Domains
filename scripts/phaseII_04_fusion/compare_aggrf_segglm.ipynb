{
 "cells": [
  {
   "cell_type": "markdown",
   "metadata": {},
   "source": [
    "# Compare agg_rf and seg_glm results\n",
    "Where does random forests outperfm seg_glm?"
   ]
  },
  {
   "cell_type": "code",
   "execution_count": 1,
   "metadata": {},
   "outputs": [
    {
     "data": {
      "text/html": [],
      "text/latex": [],
      "text/markdown": [],
      "text/plain": [
       "character(0)"
      ]
     },
     "metadata": {},
     "output_type": "display_data"
    }
   ],
   "source": [
    "ls()"
   ]
  },
  {
   "cell_type": "code",
   "execution_count": 2,
   "metadata": {},
   "outputs": [],
   "source": [
    "options(repr.matrix.max.cols=50, repr.matrix.max.rows=100)"
   ]
  },
  {
   "cell_type": "code",
   "execution_count": 3,
   "metadata": {},
   "outputs": [
    {
     "name": "stderr",
     "output_type": "stream",
     "text": [
      "\n",
      "Attaching package: ‘dplyr’\n",
      "\n",
      "\n",
      "The following objects are masked from ‘package:stats’:\n",
      "\n",
      "    filter, lag\n",
      "\n",
      "\n",
      "The following objects are masked from ‘package:base’:\n",
      "\n",
      "    intersect, setdiff, setequal, union\n",
      "\n",
      "\n",
      "\n",
      "Attaching package: ‘data.table’\n",
      "\n",
      "\n",
      "The following objects are masked from ‘package:dplyr’:\n",
      "\n",
      "    between, first, last\n",
      "\n",
      "\n",
      "Loading required package: grid\n",
      "\n",
      "Loading required package: libcoin\n",
      "\n",
      "Loading required package: mvtnorm\n",
      "\n",
      "Loading required package: lattice\n",
      "\n",
      "Loading required package: ggplot2\n",
      "\n",
      "randomForest 4.6-14\n",
      "\n",
      "Type rfNews() to see new features/changes/bug fixes.\n",
      "\n",
      "\n",
      "Attaching package: ‘randomForest’\n",
      "\n",
      "\n",
      "The following object is masked from ‘package:ggplot2’:\n",
      "\n",
      "    margin\n",
      "\n",
      "\n",
      "The following object is masked from ‘package:dplyr’:\n",
      "\n",
      "    combine\n",
      "\n",
      "\n",
      "\n",
      "Attaching package: ‘ranger’\n",
      "\n",
      "\n",
      "The following object is masked from ‘package:randomForest’:\n",
      "\n",
      "    importance\n",
      "\n",
      "\n",
      "\n",
      "Attaching package: ‘plotly’\n",
      "\n",
      "\n",
      "The following object is masked from ‘package:ggplot2’:\n",
      "\n",
      "    last_plot\n",
      "\n",
      "\n",
      "The following object is masked from ‘package:stats’:\n",
      "\n",
      "    filter\n",
      "\n",
      "\n",
      "The following object is masked from ‘package:graphics’:\n",
      "\n",
      "    layout\n",
      "\n",
      "\n",
      "Loading required package: RJSONIO\n",
      "\n"
     ]
    },
    {
     "data": {
      "text/html": [
       "'/home/jupyter/local/Domains_202003/scripts/phaseII_04_fusion'"
      ],
      "text/latex": [
       "'/home/jupyter/local/Domains\\_202003/scripts/phaseII\\_04\\_fusion'"
      ],
      "text/markdown": [
       "'/home/jupyter/local/Domains_202003/scripts/phaseII_04_fusion'"
      ],
      "text/plain": [
       "[1] \"/home/jupyter/local/Domains_202003/scripts/phaseII_04_fusion\""
      ]
     },
     "metadata": {},
     "output_type": "display_data"
    }
   ],
   "source": [
    "library(dplyr)\n",
    "library(data.table)\n",
    "library(partykit)\n",
    "library(tictoc)\n",
    "library(caret)\n",
    "library(e1071)\n",
    "library(randomForest)\n",
    "library(ranger)\n",
    "\n",
    "#for 3d plotting\n",
    "library(akima)\n",
    "library(plotly)\n",
    "\n",
    "# for prep data\n",
    "library(rPython)\n",
    "library(stringr)\n",
    "library(pbapply)\n",
    "library(stringdist)\n",
    "library(data.table)\n",
    "\n",
    "getwd()"
   ]
  },
  {
   "cell_type": "code",
   "execution_count": 4,
   "metadata": {},
   "outputs": [],
   "source": [
    "\n",
    "source('../orig/functions.R')\n",
    "\n",
    "source('../orig/functions_models.R')\n",
    "\n",
    "source('../phaseII_03_forest/functions_eval.R')\n",
    "\n",
    "\n",
    "source('../phaseII_03_forest/load_prep_data_expiry.R')\n",
    "\n",
    "# expiry_train_prepped_2_1 (list, less df's w/ 0 obs)\n",
    "# expiry_test_prepped_2_1  (list, less df's w/ 0 obs)\n",
    "# expiry_train_df_1 (above, rbound)\n",
    "# expiry_test_df_1 (above, rbound)\n",
    "# expiry_train_df_sub (subset vars)                                        \n",
    "# expiry_test_df_sub (subset vars)"
   ]
  },
  {
   "cell_type": "code",
   "execution_count": 10,
   "metadata": {},
   "outputs": [],
   "source": [
    "# processed glm test data\n",
    "filename = 'seg_glm_expiry_exptest'\n",
    "system(paste(sprintf(\"gsutil cp gs://data_input/%s /home/jupyter/local/Domains_202003/data/\", filename)))\n",
    "seg_glm_expiry_exptest <- readRDS(file.path(\"/home/jupyter/local/Domains_202003/data/\", filename))"
   ]
  },
  {
   "cell_type": "code",
   "execution_count": 8,
   "metadata": {},
   "outputs": [],
   "source": [
    "# processed rf test data\n",
    "filename = 'predict_ranger_03_expiry2'\n",
    "system(paste(sprintf(\"gsutil cp gs://data_output/outputt/%s /home/jupyter/local/Domains_202003/data/\", filename)))\n",
    "load(file.path(\"/home/jupyter/local/Domains_202003/data/\", filename))"
   ]
  },
  {
   "cell_type": "markdown",
   "metadata": {},
   "source": [
    "# Combine results"
   ]
  },
  {
   "cell_type": "code",
   "execution_count": 13,
   "metadata": {},
   "outputs": [
    {
     "data": {
      "text/html": [
       "<style>\n",
       ".list-inline {list-style: none; margin:0; padding: 0}\n",
       ".list-inline>li {display: inline-block}\n",
       ".list-inline>li:not(:last-child)::after {content: \"\\00b7\"; padding: 0 .5ex}\n",
       "</style>\n",
       "<ol class=list-inline><li>296797</li><li>40</li></ol>\n"
      ],
      "text/latex": [
       "\\begin{enumerate*}\n",
       "\\item 296797\n",
       "\\item 40\n",
       "\\end{enumerate*}\n"
      ],
      "text/markdown": [
       "1. 296797\n",
       "2. 40\n",
       "\n",
       "\n"
      ],
      "text/plain": [
       "[1] 296797     40"
      ]
     },
     "metadata": {},
     "output_type": "display_data"
    },
    {
     "data": {
      "text/html": [
       "<table>\n",
       "<caption>A data.table: 6 × 40</caption>\n",
       "<thead>\n",
       "\t<tr><th scope=col>renewal_type</th><th scope=col>renewed_count</th><th scope=col>expiry_date</th><th scope=col>domain_id</th><th scope=col>domain</th><th scope=col>creation_date</th><th scope=col>status</th><th scope=col>tld</th><th scope=col>registrar</th><th scope=col>reseller</th><th scope=col>reseller_country</th><th scope=col>region</th><th scope=col>reg_period</th><th scope=col>registrant_country</th><th scope=col>renewal_status</th><th scope=col>renew_mbg</th><th scope=col>renew_type</th><th scope=col>autorenew_type</th><th scope=col>renew_date</th><th scope=col>renew_registrar</th><th scope=col>renew_reseller</th><th scope=col>reg_revenue</th><th scope=col>reg_arpt</th><th scope=col>renew_period</th><th scope=col>renew_domain_revenue</th><th scope=col>renew_arpt</th><th scope=col>reg_arpt_org</th><th scope=col>tld_registrar_index</th><th scope=col>sld</th><th scope=col>sld_type</th><th scope=col>sld_length</th><th scope=col>sld_type2</th><th scope=col>day_domains</th><th scope=col>log_reg_arpt</th><th scope=col>gibb_score</th><th scope=col>pattern</th><th scope=col>cluster</th><th scope=col>pattern_score</th><th scope=col>pattern_domain_count</th><th scope=col>first_renewal_prediction</th></tr>\n",
       "\t<tr><th scope=col>&lt;chr&gt;</th><th scope=col>&lt;int&gt;</th><th scope=col>&lt;date&gt;</th><th scope=col>&lt;int&gt;</th><th scope=col>&lt;chr&gt;</th><th scope=col>&lt;date&gt;</th><th scope=col>&lt;chr&gt;</th><th scope=col>&lt;fct&gt;</th><th scope=col>&lt;chr&gt;</th><th scope=col>&lt;chr&gt;</th><th scope=col>&lt;chr&gt;</th><th scope=col>&lt;chr&gt;</th><th scope=col>&lt;int&gt;</th><th scope=col>&lt;chr&gt;</th><th scope=col>&lt;fct&gt;</th><th scope=col>&lt;int&gt;</th><th scope=col>&lt;chr&gt;</th><th scope=col>&lt;chr&gt;</th><th scope=col>&lt;date&gt;</th><th scope=col>&lt;chr&gt;</th><th scope=col>&lt;chr&gt;</th><th scope=col>&lt;dbl&gt;</th><th scope=col>&lt;dbl&gt;</th><th scope=col>&lt;int&gt;</th><th scope=col>&lt;dbl&gt;</th><th scope=col>&lt;dbl&gt;</th><th scope=col>&lt;dbl&gt;</th><th scope=col>&lt;chr&gt;</th><th scope=col>&lt;chr&gt;</th><th scope=col>&lt;fct&gt;</th><th scope=col>&lt;int&gt;</th><th scope=col>&lt;chr&gt;</th><th scope=col>&lt;int&gt;</th><th scope=col>&lt;dbl&gt;</th><th scope=col>&lt;dbl&gt;</th><th scope=col>&lt;chr&gt;</th><th scope=col>&lt;chr&gt;</th><th scope=col>&lt;dbl&gt;</th><th scope=col>&lt;int&gt;</th><th scope=col>&lt;dbl&gt;</th></tr>\n",
       "</thead>\n",
       "<tbody>\n",
       "\t<tr><td>FirstTime</td><td>1</td><td>2020-01-22</td><td> 91639803</td><td><span style=white-space:pre-wrap>segeln.fun   </span></td><td>2019-01-22</td><td>Active</td><td>fun</td><td><span style=white-space:pre-wrap>1&amp;1 internet    </span></td><td><span style=white-space:pre-wrap>1&amp;1 internet    </span></td><td>Germany</td><td>Non China</td><td>1</td><td>NA</td><td><span style=white-space:pre-wrap>Renewed   </span></td><td>0</td><td>auto-renewal</td><td><span style=white-space:pre-wrap>realized  </span></td><td>2020-01-22</td><td><span style=white-space:pre-wrap>1&amp;1 Internet    </span></td><td><span style=white-space:pre-wrap>1&amp;1 Internet    </span></td><td>15</td><td>15</td><td>1</td><td>15</td><td>15</td><td>15</td><td><span style=white-space:pre-wrap>fun1&amp;1 internet    </span></td><td><span style=white-space:pre-wrap>segeln   </span></td><td>l</td><td>6</td><td>6l</td><td>1</td><td>2.708050</td><td>2.23</td><td><span style=white-space:pre-wrap>segeln   </span></td><td>1</td><td>1</td><td>1</td><td>0.8459141</td></tr>\n",
       "\t<tr><td>FirstTime</td><td>1</td><td>2020-03-07</td><td> 95819759</td><td>harzhotel.fun</td><td>2019-03-07</td><td>Active</td><td>fun</td><td><span style=white-space:pre-wrap>1&amp;1 internet    </span></td><td><span style=white-space:pre-wrap>1&amp;1 internet    </span></td><td>Germany</td><td>Non China</td><td>1</td><td>NA</td><td><span style=white-space:pre-wrap>Renewed   </span></td><td>0</td><td>auto-renewal</td><td><span style=white-space:pre-wrap>realized  </span></td><td>2020-03-07</td><td><span style=white-space:pre-wrap>1&amp;1 Internet    </span></td><td><span style=white-space:pre-wrap>1&amp;1 Internet    </span></td><td>15</td><td>15</td><td>1</td><td>15</td><td>15</td><td>15</td><td><span style=white-space:pre-wrap>fun1&amp;1 internet    </span></td><td>harzhotel</td><td>l</td><td>9</td><td>9l</td><td>1</td><td>2.708050</td><td>3.45</td><td>harzhotel</td><td>1</td><td>1</td><td>1</td><td>0.4607455</td></tr>\n",
       "\t<tr><td>FirstTime</td><td>1</td><td>2020-01-15</td><td> 91044973</td><td>movistar.fun </td><td>2019-01-15</td><td>Active</td><td>fun</td><td>10dencehispahard</td><td>10dencehispahard</td><td>Spain  </td><td>Non China</td><td>1</td><td>NA</td><td>Not Renewd</td><td>0</td><td>auto-renewal</td><td>unrealized</td><td>2020-01-15</td><td>10dencehispahard</td><td>10dencehispahard</td><td>15</td><td>15</td><td>1</td><td>15</td><td>15</td><td>15</td><td>fun10dencehispahard</td><td>movistar </td><td>l</td><td>8</td><td>8l</td><td>1</td><td>2.708050</td><td>8.62</td><td>movistar </td><td>1</td><td>1</td><td>1</td><td>       NA</td></tr>\n",
       "\t<tr><td>FirstTime</td><td>1</td><td>2020-02-01</td><td> 92472913</td><td>kuinik.fun   </td><td>2019-02-01</td><td>Active</td><td>fun</td><td>10dencehispahard</td><td>10dencehispahard</td><td>Spain  </td><td>Non China</td><td>1</td><td>NA</td><td>Not Renewd</td><td>0</td><td>auto-renewal</td><td>unrealized</td><td>2020-02-01</td><td>10dencehispahard</td><td>10dencehispahard</td><td>15</td><td>15</td><td>1</td><td>15</td><td>15</td><td>15</td><td>fun10dencehispahard</td><td>kuinik   </td><td>l</td><td>6</td><td>6l</td><td>1</td><td>2.708050</td><td>3.13</td><td>kuinik   </td><td>1</td><td>1</td><td>1</td><td>       NA</td></tr>\n",
       "\t<tr><td>FirstTime</td><td>1</td><td>2020-01-21</td><td> 91532433</td><td>bulgari.fun  </td><td>2019-01-21</td><td>Active</td><td>fun</td><td>1api            </td><td>1api            </td><td>Germany</td><td>Non China</td><td>1</td><td>NA</td><td>Renewed   </td><td>0</td><td>auto-renewal</td><td>realized  </td><td>2020-01-21</td><td>1API            </td><td>1API            </td><td> 5</td><td> 5</td><td>1</td><td>15</td><td>15</td><td> 5</td><td>fun1api            </td><td>bulgari  </td><td>l</td><td>7</td><td>7l</td><td>1</td><td>1.609438</td><td>4.51</td><td>bulgari  </td><td>1</td><td>1</td><td>1</td><td>0.9999971</td></tr>\n",
       "\t<tr><td>FirstTime</td><td>1</td><td>2020-04-24</td><td>101717674</td><td>gotsome.fun  </td><td>2019-04-24</td><td>Active</td><td>fun</td><td>1api            </td><td>1api            </td><td>Germany</td><td>Non China</td><td>1</td><td>NA</td><td>Not Renewd</td><td>0</td><td>auto-renewal</td><td>unrealized</td><td>2020-04-24</td><td>1API            </td><td>1API            </td><td> 5</td><td> 5</td><td>1</td><td>15</td><td>15</td><td> 5</td><td>fun1api            </td><td>gotsome  </td><td>l</td><td>7</td><td>7l</td><td>1</td><td>1.609438</td><td>6.09</td><td>gotsome  </td><td>1</td><td>1</td><td>1</td><td>0.9999992</td></tr>\n",
       "</tbody>\n",
       "</table>\n"
      ],
      "text/latex": [
       "A data.table: 6 × 40\n",
       "\\begin{tabular}{llllllllllllllllllllllllllllllllllllllll}\n",
       " renewal\\_type & renewed\\_count & expiry\\_date & domain\\_id & domain & creation\\_date & status & tld & registrar & reseller & reseller\\_country & region & reg\\_period & registrant\\_country & renewal\\_status & renew\\_mbg & renew\\_type & autorenew\\_type & renew\\_date & renew\\_registrar & renew\\_reseller & reg\\_revenue & reg\\_arpt & renew\\_period & renew\\_domain\\_revenue & renew\\_arpt & reg\\_arpt\\_org & tld\\_registrar\\_index & sld & sld\\_type & sld\\_length & sld\\_type2 & day\\_domains & log\\_reg\\_arpt & gibb\\_score & pattern & cluster & pattern\\_score & pattern\\_domain\\_count & first\\_renewal\\_prediction\\\\\n",
       " <chr> & <int> & <date> & <int> & <chr> & <date> & <chr> & <fct> & <chr> & <chr> & <chr> & <chr> & <int> & <chr> & <fct> & <int> & <chr> & <chr> & <date> & <chr> & <chr> & <dbl> & <dbl> & <int> & <dbl> & <dbl> & <dbl> & <chr> & <chr> & <fct> & <int> & <chr> & <int> & <dbl> & <dbl> & <chr> & <chr> & <dbl> & <int> & <dbl>\\\\\n",
       "\\hline\n",
       "\t FirstTime & 1 & 2020-01-22 &  91639803 & segeln.fun    & 2019-01-22 & Active & fun & 1\\&1 internet     & 1\\&1 internet     & Germany & Non China & 1 & NA & Renewed    & 0 & auto-renewal & realized   & 2020-01-22 & 1\\&1 Internet     & 1\\&1 Internet     & 15 & 15 & 1 & 15 & 15 & 15 & fun1\\&1 internet     & segeln    & l & 6 & 6l & 1 & 2.708050 & 2.23 & segeln    & 1 & 1 & 1 & 0.8459141\\\\\n",
       "\t FirstTime & 1 & 2020-03-07 &  95819759 & harzhotel.fun & 2019-03-07 & Active & fun & 1\\&1 internet     & 1\\&1 internet     & Germany & Non China & 1 & NA & Renewed    & 0 & auto-renewal & realized   & 2020-03-07 & 1\\&1 Internet     & 1\\&1 Internet     & 15 & 15 & 1 & 15 & 15 & 15 & fun1\\&1 internet     & harzhotel & l & 9 & 9l & 1 & 2.708050 & 3.45 & harzhotel & 1 & 1 & 1 & 0.4607455\\\\\n",
       "\t FirstTime & 1 & 2020-01-15 &  91044973 & movistar.fun  & 2019-01-15 & Active & fun & 10dencehispahard & 10dencehispahard & Spain   & Non China & 1 & NA & Not Renewd & 0 & auto-renewal & unrealized & 2020-01-15 & 10dencehispahard & 10dencehispahard & 15 & 15 & 1 & 15 & 15 & 15 & fun10dencehispahard & movistar  & l & 8 & 8l & 1 & 2.708050 & 8.62 & movistar  & 1 & 1 & 1 &        NA\\\\\n",
       "\t FirstTime & 1 & 2020-02-01 &  92472913 & kuinik.fun    & 2019-02-01 & Active & fun & 10dencehispahard & 10dencehispahard & Spain   & Non China & 1 & NA & Not Renewd & 0 & auto-renewal & unrealized & 2020-02-01 & 10dencehispahard & 10dencehispahard & 15 & 15 & 1 & 15 & 15 & 15 & fun10dencehispahard & kuinik    & l & 6 & 6l & 1 & 2.708050 & 3.13 & kuinik    & 1 & 1 & 1 &        NA\\\\\n",
       "\t FirstTime & 1 & 2020-01-21 &  91532433 & bulgari.fun   & 2019-01-21 & Active & fun & 1api             & 1api             & Germany & Non China & 1 & NA & Renewed    & 0 & auto-renewal & realized   & 2020-01-21 & 1API             & 1API             &  5 &  5 & 1 & 15 & 15 &  5 & fun1api             & bulgari   & l & 7 & 7l & 1 & 1.609438 & 4.51 & bulgari   & 1 & 1 & 1 & 0.9999971\\\\\n",
       "\t FirstTime & 1 & 2020-04-24 & 101717674 & gotsome.fun   & 2019-04-24 & Active & fun & 1api             & 1api             & Germany & Non China & 1 & NA & Not Renewd & 0 & auto-renewal & unrealized & 2020-04-24 & 1API             & 1API             &  5 &  5 & 1 & 15 & 15 &  5 & fun1api             & gotsome   & l & 7 & 7l & 1 & 1.609438 & 6.09 & gotsome   & 1 & 1 & 1 & 0.9999992\\\\\n",
       "\\end{tabular}\n"
      ],
      "text/markdown": [
       "\n",
       "A data.table: 6 × 40\n",
       "\n",
       "| renewal_type &lt;chr&gt; | renewed_count &lt;int&gt; | expiry_date &lt;date&gt; | domain_id &lt;int&gt; | domain &lt;chr&gt; | creation_date &lt;date&gt; | status &lt;chr&gt; | tld &lt;fct&gt; | registrar &lt;chr&gt; | reseller &lt;chr&gt; | reseller_country &lt;chr&gt; | region &lt;chr&gt; | reg_period &lt;int&gt; | registrant_country &lt;chr&gt; | renewal_status &lt;fct&gt; | renew_mbg &lt;int&gt; | renew_type &lt;chr&gt; | autorenew_type &lt;chr&gt; | renew_date &lt;date&gt; | renew_registrar &lt;chr&gt; | renew_reseller &lt;chr&gt; | reg_revenue &lt;dbl&gt; | reg_arpt &lt;dbl&gt; | renew_period &lt;int&gt; | renew_domain_revenue &lt;dbl&gt; | renew_arpt &lt;dbl&gt; | reg_arpt_org &lt;dbl&gt; | tld_registrar_index &lt;chr&gt; | sld &lt;chr&gt; | sld_type &lt;fct&gt; | sld_length &lt;int&gt; | sld_type2 &lt;chr&gt; | day_domains &lt;int&gt; | log_reg_arpt &lt;dbl&gt; | gibb_score &lt;dbl&gt; | pattern &lt;chr&gt; | cluster &lt;chr&gt; | pattern_score &lt;dbl&gt; | pattern_domain_count &lt;int&gt; | first_renewal_prediction &lt;dbl&gt; |\n",
       "|---|---|---|---|---|---|---|---|---|---|---|---|---|---|---|---|---|---|---|---|---|---|---|---|---|---|---|---|---|---|---|---|---|---|---|---|---|---|---|---|\n",
       "| FirstTime | 1 | 2020-01-22 |  91639803 | segeln.fun    | 2019-01-22 | Active | fun | 1&amp;1 internet     | 1&amp;1 internet     | Germany | Non China | 1 | NA | Renewed    | 0 | auto-renewal | realized   | 2020-01-22 | 1&amp;1 Internet     | 1&amp;1 Internet     | 15 | 15 | 1 | 15 | 15 | 15 | fun1&amp;1 internet     | segeln    | l | 6 | 6l | 1 | 2.708050 | 2.23 | segeln    | 1 | 1 | 1 | 0.8459141 |\n",
       "| FirstTime | 1 | 2020-03-07 |  95819759 | harzhotel.fun | 2019-03-07 | Active | fun | 1&amp;1 internet     | 1&amp;1 internet     | Germany | Non China | 1 | NA | Renewed    | 0 | auto-renewal | realized   | 2020-03-07 | 1&amp;1 Internet     | 1&amp;1 Internet     | 15 | 15 | 1 | 15 | 15 | 15 | fun1&amp;1 internet     | harzhotel | l | 9 | 9l | 1 | 2.708050 | 3.45 | harzhotel | 1 | 1 | 1 | 0.4607455 |\n",
       "| FirstTime | 1 | 2020-01-15 |  91044973 | movistar.fun  | 2019-01-15 | Active | fun | 10dencehispahard | 10dencehispahard | Spain   | Non China | 1 | NA | Not Renewd | 0 | auto-renewal | unrealized | 2020-01-15 | 10dencehispahard | 10dencehispahard | 15 | 15 | 1 | 15 | 15 | 15 | fun10dencehispahard | movistar  | l | 8 | 8l | 1 | 2.708050 | 8.62 | movistar  | 1 | 1 | 1 |        NA |\n",
       "| FirstTime | 1 | 2020-02-01 |  92472913 | kuinik.fun    | 2019-02-01 | Active | fun | 10dencehispahard | 10dencehispahard | Spain   | Non China | 1 | NA | Not Renewd | 0 | auto-renewal | unrealized | 2020-02-01 | 10dencehispahard | 10dencehispahard | 15 | 15 | 1 | 15 | 15 | 15 | fun10dencehispahard | kuinik    | l | 6 | 6l | 1 | 2.708050 | 3.13 | kuinik    | 1 | 1 | 1 |        NA |\n",
       "| FirstTime | 1 | 2020-01-21 |  91532433 | bulgari.fun   | 2019-01-21 | Active | fun | 1api             | 1api             | Germany | Non China | 1 | NA | Renewed    | 0 | auto-renewal | realized   | 2020-01-21 | 1API             | 1API             |  5 |  5 | 1 | 15 | 15 |  5 | fun1api             | bulgari   | l | 7 | 7l | 1 | 1.609438 | 4.51 | bulgari   | 1 | 1 | 1 | 0.9999971 |\n",
       "| FirstTime | 1 | 2020-04-24 | 101717674 | gotsome.fun   | 2019-04-24 | Active | fun | 1api             | 1api             | Germany | Non China | 1 | NA | Not Renewd | 0 | auto-renewal | unrealized | 2020-04-24 | 1API             | 1API             |  5 |  5 | 1 | 15 | 15 |  5 | fun1api             | gotsome   | l | 7 | 7l | 1 | 1.609438 | 6.09 | gotsome   | 1 | 1 | 1 | 0.9999992 |\n",
       "\n"
      ],
      "text/plain": [
       "  renewal_type renewed_count expiry_date domain_id domain        creation_date\n",
       "1 FirstTime    1             2020-01-22   91639803 segeln.fun    2019-01-22   \n",
       "2 FirstTime    1             2020-03-07   95819759 harzhotel.fun 2019-03-07   \n",
       "3 FirstTime    1             2020-01-15   91044973 movistar.fun  2019-01-15   \n",
       "4 FirstTime    1             2020-02-01   92472913 kuinik.fun    2019-02-01   \n",
       "5 FirstTime    1             2020-01-21   91532433 bulgari.fun   2019-01-21   \n",
       "6 FirstTime    1             2020-04-24  101717674 gotsome.fun   2019-04-24   \n",
       "  status tld registrar        reseller         reseller_country region   \n",
       "1 Active fun 1&1 internet     1&1 internet     Germany          Non China\n",
       "2 Active fun 1&1 internet     1&1 internet     Germany          Non China\n",
       "3 Active fun 10dencehispahard 10dencehispahard Spain            Non China\n",
       "4 Active fun 10dencehispahard 10dencehispahard Spain            Non China\n",
       "5 Active fun 1api             1api             Germany          Non China\n",
       "6 Active fun 1api             1api             Germany          Non China\n",
       "  reg_period registrant_country renewal_status renew_mbg renew_type  \n",
       "1 1          NA                 Renewed        0         auto-renewal\n",
       "2 1          NA                 Renewed        0         auto-renewal\n",
       "3 1          NA                 Not Renewd     0         auto-renewal\n",
       "4 1          NA                 Not Renewd     0         auto-renewal\n",
       "5 1          NA                 Renewed        0         auto-renewal\n",
       "6 1          NA                 Not Renewd     0         auto-renewal\n",
       "  autorenew_type renew_date renew_registrar  renew_reseller   reg_revenue\n",
       "1 realized       2020-01-22 1&1 Internet     1&1 Internet     15         \n",
       "2 realized       2020-03-07 1&1 Internet     1&1 Internet     15         \n",
       "3 unrealized     2020-01-15 10dencehispahard 10dencehispahard 15         \n",
       "4 unrealized     2020-02-01 10dencehispahard 10dencehispahard 15         \n",
       "5 realized       2020-01-21 1API             1API              5         \n",
       "6 unrealized     2020-04-24 1API             1API              5         \n",
       "  reg_arpt renew_period renew_domain_revenue renew_arpt reg_arpt_org\n",
       "1 15       1            15                   15         15          \n",
       "2 15       1            15                   15         15          \n",
       "3 15       1            15                   15         15          \n",
       "4 15       1            15                   15         15          \n",
       "5  5       1            15                   15          5          \n",
       "6  5       1            15                   15          5          \n",
       "  tld_registrar_index sld       sld_type sld_length sld_type2 day_domains\n",
       "1 fun1&1 internet     segeln    l        6          6l        1          \n",
       "2 fun1&1 internet     harzhotel l        9          9l        1          \n",
       "3 fun10dencehispahard movistar  l        8          8l        1          \n",
       "4 fun10dencehispahard kuinik    l        6          6l        1          \n",
       "5 fun1api             bulgari   l        7          7l        1          \n",
       "6 fun1api             gotsome   l        7          7l        1          \n",
       "  log_reg_arpt gibb_score pattern   cluster pattern_score pattern_domain_count\n",
       "1 2.708050     2.23       segeln    1       1             1                   \n",
       "2 2.708050     3.45       harzhotel 1       1             1                   \n",
       "3 2.708050     8.62       movistar  1       1             1                   \n",
       "4 2.708050     3.13       kuinik    1       1             1                   \n",
       "5 1.609438     4.51       bulgari   1       1             1                   \n",
       "6 1.609438     6.09       gotsome   1       1             1                   \n",
       "  first_renewal_prediction\n",
       "1 0.8459141               \n",
       "2 0.4607455               \n",
       "3        NA               \n",
       "4        NA               \n",
       "5 0.9999971               \n",
       "6 0.9999992               "
      ]
     },
     "metadata": {},
     "output_type": "display_data"
    }
   ],
   "source": [
    "dim(seg_glm_expiry_exptest)\n",
    "head(seg_glm_expiry_exptest)"
   ]
  },
  {
   "cell_type": "code",
   "execution_count": 14,
   "metadata": {},
   "outputs": [
    {
     "data": {
      "text/html": [
       "296797"
      ],
      "text/latex": [
       "296797"
      ],
      "text/markdown": [
       "296797"
      ],
      "text/plain": [
       "[1] 296797"
      ]
     },
     "metadata": {},
     "output_type": "display_data"
    },
    {
     "data": {
      "text/html": [
       "<style>\n",
       ".list-inline {list-style: none; margin:0; padding: 0}\n",
       ".list-inline>li {display: inline-block}\n",
       ".list-inline>li:not(:last-child)::after {content: \"\\00b7\"; padding: 0 .5ex}\n",
       "</style>\n",
       "<ol class=list-inline><li>0.488750420395975</li><li>0.465104475173781</li><li>0.597713026376181</li><li>0.522665172073782</li><li>0.480516974689695</li><li>0.46532712326384</li></ol>\n"
      ],
      "text/latex": [
       "\\begin{enumerate*}\n",
       "\\item 0.488750420395975\n",
       "\\item 0.465104475173781\n",
       "\\item 0.597713026376181\n",
       "\\item 0.522665172073782\n",
       "\\item 0.480516974689695\n",
       "\\item 0.46532712326384\n",
       "\\end{enumerate*}\n"
      ],
      "text/markdown": [
       "1. 0.488750420395975\n",
       "2. 0.465104475173781\n",
       "3. 0.597713026376181\n",
       "4. 0.522665172073782\n",
       "5. 0.480516974689695\n",
       "6. 0.46532712326384\n",
       "\n",
       "\n"
      ],
      "text/plain": [
       "[1] 0.4887504 0.4651045 0.5977130 0.5226652 0.4805170 0.4653271"
      ]
     },
     "metadata": {},
     "output_type": "display_data"
    }
   ],
   "source": [
    "length(predict_ranger_03_expiry2)\n",
    "head(predict_ranger_03_expiry2)"
   ]
  },
  {
   "cell_type": "code",
   "execution_count": 15,
   "metadata": {},
   "outputs": [],
   "source": [
    "seg_glm_expiry_exptest$rf_predict <- predict_ranger_03_expiry2"
   ]
  },
  {
   "cell_type": "code",
   "execution_count": null,
   "metadata": {},
   "outputs": [],
   "source": []
  }
 ],
 "metadata": {
  "environment": {
   "name": "r-cpu.3-6.m48",
   "type": "gcloud",
   "uri": "gcr.io/deeplearning-platform-release/r-cpu.3-6:m48"
  },
  "kernelspec": {
   "display_name": "R",
   "language": "R",
   "name": "ir"
  },
  "language_info": {
   "codemirror_mode": "r",
   "file_extension": ".r",
   "mimetype": "text/x-r-source",
   "name": "R",
   "pygments_lexer": "r",
   "version": "3.6.3"
  }
 },
 "nbformat": 4,
 "nbformat_minor": 4
}
