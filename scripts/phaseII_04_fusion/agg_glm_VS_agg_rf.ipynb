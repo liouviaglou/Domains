{
 "cells": [
  {
   "cell_type": "markdown",
   "metadata": {},
   "source": [
    "moving forward with fusion approach, combining segmented glm and aggregate random forest\n",
    "## ***Does aggregate glm outperform aggregate random forest?***"
   ]
  },
  {
   "cell_type": "code",
   "execution_count": 1,
   "metadata": {},
   "outputs": [
    {
     "data": {
      "text/html": [],
      "text/latex": [],
      "text/markdown": [],
      "text/plain": [
       "character(0)"
      ]
     },
     "metadata": {},
     "output_type": "display_data"
    }
   ],
   "source": [
    "ls()"
   ]
  },
  {
   "cell_type": "code",
   "execution_count": 2,
   "metadata": {},
   "outputs": [],
   "source": [
    "options(repr.matrix.max.cols=50, repr.matrix.max.rows=100)"
   ]
  },
  {
   "cell_type": "code",
   "execution_count": 3,
   "metadata": {},
   "outputs": [
    {
     "name": "stderr",
     "output_type": "stream",
     "text": [
      "\n",
      "Attaching package: ‘dplyr’\n",
      "\n",
      "\n",
      "The following objects are masked from ‘package:stats’:\n",
      "\n",
      "    filter, lag\n",
      "\n",
      "\n",
      "The following objects are masked from ‘package:base’:\n",
      "\n",
      "    intersect, setdiff, setequal, union\n",
      "\n",
      "\n",
      "\n",
      "Attaching package: ‘data.table’\n",
      "\n",
      "\n",
      "The following objects are masked from ‘package:dplyr’:\n",
      "\n",
      "    between, first, last\n",
      "\n",
      "\n",
      "Loading required package: grid\n",
      "\n",
      "Loading required package: libcoin\n",
      "\n",
      "Loading required package: mvtnorm\n",
      "\n",
      "Loading required package: lattice\n",
      "\n",
      "Loading required package: ggplot2\n",
      "\n",
      "randomForest 4.6-14\n",
      "\n",
      "Type rfNews() to see new features/changes/bug fixes.\n",
      "\n",
      "\n",
      "Attaching package: ‘randomForest’\n",
      "\n",
      "\n",
      "The following object is masked from ‘package:ggplot2’:\n",
      "\n",
      "    margin\n",
      "\n",
      "\n",
      "The following object is masked from ‘package:dplyr’:\n",
      "\n",
      "    combine\n",
      "\n",
      "\n",
      "\n",
      "Attaching package: ‘ranger’\n",
      "\n",
      "\n",
      "The following object is masked from ‘package:randomForest’:\n",
      "\n",
      "    importance\n",
      "\n",
      "\n",
      "\n",
      "Attaching package: ‘plotly’\n",
      "\n",
      "\n",
      "The following object is masked from ‘package:ggplot2’:\n",
      "\n",
      "    last_plot\n",
      "\n",
      "\n",
      "The following object is masked from ‘package:stats’:\n",
      "\n",
      "    filter\n",
      "\n",
      "\n",
      "The following object is masked from ‘package:graphics’:\n",
      "\n",
      "    layout\n",
      "\n",
      "\n",
      "Loading required package: RJSONIO\n",
      "\n"
     ]
    },
    {
     "data": {
      "text/html": [
       "'/home/jupyter/local/Domains_202003/scripts/phaseII_04_fusion'"
      ],
      "text/latex": [
       "'/home/jupyter/local/Domains\\_202003/scripts/phaseII\\_04\\_fusion'"
      ],
      "text/markdown": [
       "'/home/jupyter/local/Domains_202003/scripts/phaseII_04_fusion'"
      ],
      "text/plain": [
       "[1] \"/home/jupyter/local/Domains_202003/scripts/phaseII_04_fusion\""
      ]
     },
     "metadata": {},
     "output_type": "display_data"
    }
   ],
   "source": [
    "library(dplyr)\n",
    "library(data.table)\n",
    "library(partykit)\n",
    "library(tictoc)\n",
    "library(caret)\n",
    "library(e1071)\n",
    "library(randomForest)\n",
    "library(ranger)\n",
    "\n",
    "#for 3d plotting\n",
    "library(akima)\n",
    "library(plotly)\n",
    "\n",
    "# for prep data\n",
    "library(rPython)\n",
    "library(stringr)\n",
    "library(pbapply)\n",
    "library(stringdist)\n",
    "library(data.table)\n",
    "\n",
    "getwd()"
   ]
  },
  {
   "cell_type": "code",
   "execution_count": 9,
   "metadata": {},
   "outputs": [],
   "source": [
    "\n",
    "source('../orig/functions.R')\n",
    "\n",
    "source('../orig/functions_models.R')\n",
    "\n",
    "source('../phaseII_03_forest/functions_eval.R')\n",
    "\n",
    "\n",
    "source('../phaseII_03_forest/load_prep_data_expiry.R')\n",
    "\n",
    "# expiry_train_prepped_2_1 (list, less df's w/ 0 obs)\n",
    "# expiry_test_prepped_2_1  (list, less df's w/ 0 obs)\n",
    "# expiry_train_df_1 (above, rbound)\n",
    "# expiry_test_df_1 (above, rbound)\n",
    "# expiry_train_df_sub (subset vars)                                        \n",
    "# expiry_test_df_sub (subset vars)"
   ]
  },
  {
   "cell_type": "code",
   "execution_count": 5,
   "metadata": {},
   "outputs": [],
   "source": [
    "# processed glm test data\n",
    "filename = 'seg_glm_expiry_exptest'\n",
    "system(paste(sprintf(\"gsutil cp gs://data_input/%s /home/jupyter/local/Domains_202003/data/\", filename)))\n",
    "seg_glm_expiry_exptest <- readRDS(file.path(\"/home/jupyter/local/Domains_202003/data/\", filename))"
   ]
  },
  {
   "cell_type": "markdown",
   "metadata": {},
   "source": [
    "# Verify both prepped expiry & expiry glm test output is segmented on tld-reseller"
   ]
  },
  {
   "cell_type": "code",
   "execution_count": 10,
   "metadata": {},
   "outputs": [
    {
     "data": {
      "text/html": [
       "<table>\n",
       "<caption>A data.table: 6 × 4</caption>\n",
       "<thead>\n",
       "\t<tr><th scope=col>tld</th><th scope=col>registrar</th><th scope=col>reseller</th><th scope=col>tld_registrar_index</th></tr>\n",
       "\t<tr><th scope=col>&lt;fct&gt;</th><th scope=col>&lt;chr&gt;</th><th scope=col>&lt;chr&gt;</th><th scope=col>&lt;chr&gt;</th></tr>\n",
       "</thead>\n",
       "<tbody>\n",
       "\t<tr><td>fun</td><td>ascio</td><td>active 24</td><td>funactive 24</td></tr>\n",
       "\t<tr><td>fun</td><td>ascio</td><td>active 24</td><td>funactive 24</td></tr>\n",
       "\t<tr><td>fun</td><td>ascio</td><td>active 24</td><td>funactive 24</td></tr>\n",
       "\t<tr><td>fun</td><td>ascio</td><td>active 24</td><td>funactive 24</td></tr>\n",
       "\t<tr><td>fun</td><td>ascio</td><td>active 24</td><td>funactive 24</td></tr>\n",
       "\t<tr><td>fun</td><td>ascio</td><td>active 24</td><td>funactive 24</td></tr>\n",
       "</tbody>\n",
       "</table>\n"
      ],
      "text/latex": [
       "A data.table: 6 × 4\n",
       "\\begin{tabular}{llll}\n",
       " tld & registrar & reseller & tld\\_registrar\\_index\\\\\n",
       " <fct> & <chr> & <chr> & <chr>\\\\\n",
       "\\hline\n",
       "\t fun & ascio & active 24 & funactive 24\\\\\n",
       "\t fun & ascio & active 24 & funactive 24\\\\\n",
       "\t fun & ascio & active 24 & funactive 24\\\\\n",
       "\t fun & ascio & active 24 & funactive 24\\\\\n",
       "\t fun & ascio & active 24 & funactive 24\\\\\n",
       "\t fun & ascio & active 24 & funactive 24\\\\\n",
       "\\end{tabular}\n"
      ],
      "text/markdown": [
       "\n",
       "A data.table: 6 × 4\n",
       "\n",
       "| tld &lt;fct&gt; | registrar &lt;chr&gt; | reseller &lt;chr&gt; | tld_registrar_index &lt;chr&gt; |\n",
       "|---|---|---|---|\n",
       "| fun | ascio | active 24 | funactive 24 |\n",
       "| fun | ascio | active 24 | funactive 24 |\n",
       "| fun | ascio | active 24 | funactive 24 |\n",
       "| fun | ascio | active 24 | funactive 24 |\n",
       "| fun | ascio | active 24 | funactive 24 |\n",
       "| fun | ascio | active 24 | funactive 24 |\n",
       "\n"
      ],
      "text/plain": [
       "  tld registrar reseller  tld_registrar_index\n",
       "1 fun ascio     active 24 funactive 24       \n",
       "2 fun ascio     active 24 funactive 24       \n",
       "3 fun ascio     active 24 funactive 24       \n",
       "4 fun ascio     active 24 funactive 24       \n",
       "5 fun ascio     active 24 funactive 24       \n",
       "6 fun ascio     active 24 funactive 24       "
      ]
     },
     "metadata": {},
     "output_type": "display_data"
    }
   ],
   "source": [
    "seg_glm_expiry_exptest %>% select(tld,registrar,reseller,tld_registrar_index) %>% filter(registrar!=reseller) %>% head()"
   ]
  },
  {
   "cell_type": "code",
   "execution_count": 18,
   "metadata": {},
   "outputs": [
    {
     "data": {
      "text/html": [
       "<table>\n",
       "<caption>A data.table: 6 × 4</caption>\n",
       "<thead>\n",
       "\t<tr><th scope=col>tld</th><th scope=col>registrar</th><th scope=col>reseller</th><th scope=col>tld_registrar_index</th></tr>\n",
       "\t<tr><th scope=col>&lt;fct&gt;</th><th scope=col>&lt;chr&gt;</th><th scope=col>&lt;chr&gt;</th><th scope=col>&lt;chr&gt;</th></tr>\n",
       "</thead>\n",
       "<tbody>\n",
       "\t<tr><td>fun</td><td>ascio</td><td>active 24</td><td>funactive 24</td></tr>\n",
       "\t<tr><td>fun</td><td>ascio</td><td>active 24</td><td>funactive 24</td></tr>\n",
       "\t<tr><td>fun</td><td>ascio</td><td>active 24</td><td>funactive 24</td></tr>\n",
       "\t<tr><td>fun</td><td>ascio</td><td>active 24</td><td>funactive 24</td></tr>\n",
       "\t<tr><td>fun</td><td>ascio</td><td>active 24</td><td>funactive 24</td></tr>\n",
       "\t<tr><td>fun</td><td>ascio</td><td>active 24</td><td>funactive 24</td></tr>\n",
       "</tbody>\n",
       "</table>\n"
      ],
      "text/latex": [
       "A data.table: 6 × 4\n",
       "\\begin{tabular}{llll}\n",
       " tld & registrar & reseller & tld\\_registrar\\_index\\\\\n",
       " <fct> & <chr> & <chr> & <chr>\\\\\n",
       "\\hline\n",
       "\t fun & ascio & active 24 & funactive 24\\\\\n",
       "\t fun & ascio & active 24 & funactive 24\\\\\n",
       "\t fun & ascio & active 24 & funactive 24\\\\\n",
       "\t fun & ascio & active 24 & funactive 24\\\\\n",
       "\t fun & ascio & active 24 & funactive 24\\\\\n",
       "\t fun & ascio & active 24 & funactive 24\\\\\n",
       "\\end{tabular}\n"
      ],
      "text/markdown": [
       "\n",
       "A data.table: 6 × 4\n",
       "\n",
       "| tld &lt;fct&gt; | registrar &lt;chr&gt; | reseller &lt;chr&gt; | tld_registrar_index &lt;chr&gt; |\n",
       "|---|---|---|---|\n",
       "| fun | ascio | active 24 | funactive 24 |\n",
       "| fun | ascio | active 24 | funactive 24 |\n",
       "| fun | ascio | active 24 | funactive 24 |\n",
       "| fun | ascio | active 24 | funactive 24 |\n",
       "| fun | ascio | active 24 | funactive 24 |\n",
       "| fun | ascio | active 24 | funactive 24 |\n",
       "\n"
      ],
      "text/plain": [
       "  tld registrar reseller  tld_registrar_index\n",
       "1 fun ascio     active 24 funactive 24       \n",
       "2 fun ascio     active 24 funactive 24       \n",
       "3 fun ascio     active 24 funactive 24       \n",
       "4 fun ascio     active 24 funactive 24       \n",
       "5 fun ascio     active 24 funactive 24       \n",
       "6 fun ascio     active 24 funactive 24       "
      ]
     },
     "metadata": {},
     "output_type": "display_data"
    }
   ],
   "source": [
    "expiry_train_df_1 %>% select(tld,registrar,reseller,tld_registrar_index) %>% filter(registrar!=reseller) %>% head()"
   ]
  },
  {
   "cell_type": "code",
   "execution_count": 23,
   "metadata": {},
   "outputs": [
    {
     "data": {
      "text/html": [
       "<table>\n",
       "<caption>A data.table: 6 × 4</caption>\n",
       "<thead>\n",
       "\t<tr><th scope=col>tld</th><th scope=col>registrar</th><th scope=col>reseller</th><th scope=col>tld_registrar_index</th></tr>\n",
       "\t<tr><th scope=col>&lt;fct&gt;</th><th scope=col>&lt;chr&gt;</th><th scope=col>&lt;chr&gt;</th><th scope=col>&lt;chr&gt;</th></tr>\n",
       "</thead>\n",
       "<tbody>\n",
       "\t<tr><td>fun</td><td>ascio</td><td>active 24</td><td>funactive 24</td></tr>\n",
       "\t<tr><td>fun</td><td>ascio</td><td>active 24</td><td>funactive 24</td></tr>\n",
       "\t<tr><td>fun</td><td>ascio</td><td>active 24</td><td>funactive 24</td></tr>\n",
       "\t<tr><td>fun</td><td>ascio</td><td>active 24</td><td>funactive 24</td></tr>\n",
       "\t<tr><td>fun</td><td>ascio</td><td>active 24</td><td>funactive 24</td></tr>\n",
       "\t<tr><td>fun</td><td>ascio</td><td>active 24</td><td>funactive 24</td></tr>\n",
       "</tbody>\n",
       "</table>\n"
      ],
      "text/latex": [
       "A data.table: 6 × 4\n",
       "\\begin{tabular}{llll}\n",
       " tld & registrar & reseller & tld\\_registrar\\_index\\\\\n",
       " <fct> & <chr> & <chr> & <chr>\\\\\n",
       "\\hline\n",
       "\t fun & ascio & active 24 & funactive 24\\\\\n",
       "\t fun & ascio & active 24 & funactive 24\\\\\n",
       "\t fun & ascio & active 24 & funactive 24\\\\\n",
       "\t fun & ascio & active 24 & funactive 24\\\\\n",
       "\t fun & ascio & active 24 & funactive 24\\\\\n",
       "\t fun & ascio & active 24 & funactive 24\\\\\n",
       "\\end{tabular}\n"
      ],
      "text/markdown": [
       "\n",
       "A data.table: 6 × 4\n",
       "\n",
       "| tld &lt;fct&gt; | registrar &lt;chr&gt; | reseller &lt;chr&gt; | tld_registrar_index &lt;chr&gt; |\n",
       "|---|---|---|---|\n",
       "| fun | ascio | active 24 | funactive 24 |\n",
       "| fun | ascio | active 24 | funactive 24 |\n",
       "| fun | ascio | active 24 | funactive 24 |\n",
       "| fun | ascio | active 24 | funactive 24 |\n",
       "| fun | ascio | active 24 | funactive 24 |\n",
       "| fun | ascio | active 24 | funactive 24 |\n",
       "\n"
      ],
      "text/plain": [
       "  tld registrar reseller  tld_registrar_index\n",
       "1 fun ascio     active 24 funactive 24       \n",
       "2 fun ascio     active 24 funactive 24       \n",
       "3 fun ascio     active 24 funactive 24       \n",
       "4 fun ascio     active 24 funactive 24       \n",
       "5 fun ascio     active 24 funactive 24       \n",
       "6 fun ascio     active 24 funactive 24       "
      ]
     },
     "metadata": {},
     "output_type": "display_data"
    }
   ],
   "source": [
    "expiry_test_df_1 %>% select(tld,registrar,reseller,tld_registrar_index) %>% filter(registrar!=reseller) %>% head()"
   ]
  },
  {
   "cell_type": "markdown",
   "metadata": {},
   "source": [
    "# Define top N tld_registrars (right now in perf_segmentation_tld_reg)"
   ]
  },
  {
   "cell_type": "code",
   "execution_count": 11,
   "metadata": {},
   "outputs": [
    {
     "name": "stderr",
     "output_type": "stream",
     "text": [
      "Adding missing grouping variables: `tld_registrar_index`\n",
      "\n"
     ]
    },
    {
     "data": {
      "text/html": [
       "142366"
      ],
      "text/latex": [
       "142366"
      ],
      "text/markdown": [
       "142366"
      ],
      "text/plain": [
       "[1] 142366"
      ]
     },
     "metadata": {},
     "output_type": "display_data"
    },
    {
     "data": {
      "text/html": [
       "0.479674659784297"
      ],
      "text/latex": [
       "0.479674659784297"
      ],
      "text/markdown": [
       "0.479674659784297"
      ],
      "text/plain": [
       "[1] 0.4796747"
      ]
     },
     "metadata": {},
     "output_type": "display_data"
    },
    {
     "data": {
      "text/html": [
       "<style>\n",
       ".list-inline {list-style: none; margin:0; padding: 0}\n",
       ".list-inline>li {display: inline-block}\n",
       ".list-inline>li:not(:last-child)::after {content: \"\\00b7\"; padding: 0 .5ex}\n",
       "</style>\n",
       "<ol class=list-inline><li>'sitegmo'</li><li>'funalibaba'</li><li>'sitenamecheap'</li><li>'pwnamecheap'</li><li>'onlinego daddy'</li><li>'sitegandi sas'</li><li>'sitereg.ru'</li><li>'onlinenamecheap'</li><li>'siteonlinenic'</li><li>'hostnamecheap'</li><li>'sitezhengzhou century connect'</li><li>'funchengdu west'</li><li>'spacego daddy'</li><li>'websitenamecheap'</li><li>'funnamecheap'</li></ol>\n"
      ],
      "text/latex": [
       "\\begin{enumerate*}\n",
       "\\item 'sitegmo'\n",
       "\\item 'funalibaba'\n",
       "\\item 'sitenamecheap'\n",
       "\\item 'pwnamecheap'\n",
       "\\item 'onlinego daddy'\n",
       "\\item 'sitegandi sas'\n",
       "\\item 'sitereg.ru'\n",
       "\\item 'onlinenamecheap'\n",
       "\\item 'siteonlinenic'\n",
       "\\item 'hostnamecheap'\n",
       "\\item 'sitezhengzhou century connect'\n",
       "\\item 'funchengdu west'\n",
       "\\item 'spacego daddy'\n",
       "\\item 'websitenamecheap'\n",
       "\\item 'funnamecheap'\n",
       "\\end{enumerate*}\n"
      ],
      "text/markdown": [
       "1. 'sitegmo'\n",
       "2. 'funalibaba'\n",
       "3. 'sitenamecheap'\n",
       "4. 'pwnamecheap'\n",
       "5. 'onlinego daddy'\n",
       "6. 'sitegandi sas'\n",
       "7. 'sitereg.ru'\n",
       "8. 'onlinenamecheap'\n",
       "9. 'siteonlinenic'\n",
       "10. 'hostnamecheap'\n",
       "11. 'sitezhengzhou century connect'\n",
       "12. 'funchengdu west'\n",
       "13. 'spacego daddy'\n",
       "14. 'websitenamecheap'\n",
       "15. 'funnamecheap'\n",
       "\n",
       "\n"
      ],
      "text/plain": [
       " [1] \"sitegmo\"                       \"funalibaba\"                   \n",
       " [3] \"sitenamecheap\"                 \"pwnamecheap\"                  \n",
       " [5] \"onlinego daddy\"                \"sitegandi sas\"                \n",
       " [7] \"sitereg.ru\"                    \"onlinenamecheap\"              \n",
       " [9] \"siteonlinenic\"                 \"hostnamecheap\"                \n",
       "[11] \"sitezhengzhou century connect\" \"funchengdu west\"              \n",
       "[13] \"spacego daddy\"                 \"websitenamecheap\"             \n",
       "[15] \"funnamecheap\"                 "
      ]
     },
     "metadata": {},
     "output_type": "display_data"
    }
   ],
   "source": [
    "N = 15\n",
    "top_tld_reg <- seg_glm_expiry_exptest %>% group_by(tld_registrar_index) %>% count() %>% arrange(desc(n)) %>% head(15) %>% select(n)\n",
    "sum(top_tld_reg$n)\n",
    "\n",
    "sum(top_tld_reg$n)/nrow(seg_glm_expiry_exptest)\n",
    "\n",
    "tld_registrars = top_tld_reg$tld_registrar_index\n",
    "tld_registrars"
   ]
  },
  {
   "cell_type": "markdown",
   "metadata": {},
   "source": [
    "# Seg_GLM for top N tld_registrars"
   ]
  },
  {
   "cell_type": "code",
   "execution_count": 12,
   "metadata": {},
   "outputs": [],
   "source": [
    "seg_glm_expiry_exptest_sub <- seg_glm_expiry_exptest %>% filter(tld_registrar_index %in% tld_registrars)"
   ]
  },
  {
   "cell_type": "code",
   "execution_count": 13,
   "metadata": {},
   "outputs": [
    {
     "data": {
      "text/html": [
       "<style>\n",
       ".list-inline {list-style: none; margin:0; padding: 0}\n",
       ".list-inline>li {display: inline-block}\n",
       ".list-inline>li:not(:last-child)::after {content: \"\\00b7\"; padding: 0 .5ex}\n",
       "</style>\n",
       "<ol class=list-inline><li>0.479674659784297</li><li>1</li></ol>\n"
      ],
      "text/latex": [
       "\\begin{enumerate*}\n",
       "\\item 0.479674659784297\n",
       "\\item 1\n",
       "\\end{enumerate*}\n"
      ],
      "text/markdown": [
       "1. 0.479674659784297\n",
       "2. 1\n",
       "\n",
       "\n"
      ],
      "text/plain": [
       "[1] 0.4796747 1.0000000"
      ]
     },
     "metadata": {},
     "output_type": "display_data"
    }
   ],
   "source": [
    "dim(seg_glm_expiry_exptest_sub)/dim(seg_glm_expiry_exptest)"
   ]
  },
  {
   "cell_type": "code",
   "execution_count": 14,
   "metadata": {},
   "outputs": [
    {
     "data": {
      "text/html": [
       "<table>\n",
       "<caption>A data.table: 6 × 40</caption>\n",
       "<thead>\n",
       "\t<tr><th scope=col>renewal_type</th><th scope=col>renewed_count</th><th scope=col>expiry_date</th><th scope=col>domain_id</th><th scope=col>domain</th><th scope=col>creation_date</th><th scope=col>status</th><th scope=col>tld</th><th scope=col>registrar</th><th scope=col>reseller</th><th scope=col>reseller_country</th><th scope=col>region</th><th scope=col>reg_period</th><th scope=col>registrant_country</th><th scope=col>renewal_status</th><th scope=col>renew_mbg</th><th scope=col>renew_type</th><th scope=col>autorenew_type</th><th scope=col>renew_date</th><th scope=col>renew_registrar</th><th scope=col>renew_reseller</th><th scope=col>reg_revenue</th><th scope=col>reg_arpt</th><th scope=col>renew_period</th><th scope=col>renew_domain_revenue</th><th scope=col>renew_arpt</th><th scope=col>reg_arpt_org</th><th scope=col>tld_registrar_index</th><th scope=col>sld</th><th scope=col>sld_type</th><th scope=col>sld_length</th><th scope=col>sld_type2</th><th scope=col>day_domains</th><th scope=col>log_reg_arpt</th><th scope=col>gibb_score</th><th scope=col>pattern</th><th scope=col>cluster</th><th scope=col>pattern_score</th><th scope=col>pattern_domain_count</th><th scope=col>first_renewal_prediction</th></tr>\n",
       "\t<tr><th scope=col>&lt;chr&gt;</th><th scope=col>&lt;int&gt;</th><th scope=col>&lt;date&gt;</th><th scope=col>&lt;int&gt;</th><th scope=col>&lt;chr&gt;</th><th scope=col>&lt;date&gt;</th><th scope=col>&lt;chr&gt;</th><th scope=col>&lt;fct&gt;</th><th scope=col>&lt;chr&gt;</th><th scope=col>&lt;chr&gt;</th><th scope=col>&lt;chr&gt;</th><th scope=col>&lt;chr&gt;</th><th scope=col>&lt;int&gt;</th><th scope=col>&lt;chr&gt;</th><th scope=col>&lt;fct&gt;</th><th scope=col>&lt;int&gt;</th><th scope=col>&lt;chr&gt;</th><th scope=col>&lt;chr&gt;</th><th scope=col>&lt;date&gt;</th><th scope=col>&lt;chr&gt;</th><th scope=col>&lt;chr&gt;</th><th scope=col>&lt;dbl&gt;</th><th scope=col>&lt;dbl&gt;</th><th scope=col>&lt;int&gt;</th><th scope=col>&lt;dbl&gt;</th><th scope=col>&lt;dbl&gt;</th><th scope=col>&lt;dbl&gt;</th><th scope=col>&lt;chr&gt;</th><th scope=col>&lt;chr&gt;</th><th scope=col>&lt;fct&gt;</th><th scope=col>&lt;int&gt;</th><th scope=col>&lt;chr&gt;</th><th scope=col>&lt;int&gt;</th><th scope=col>&lt;dbl&gt;</th><th scope=col>&lt;dbl&gt;</th><th scope=col>&lt;chr&gt;</th><th scope=col>&lt;chr&gt;</th><th scope=col>&lt;dbl&gt;</th><th scope=col>&lt;int&gt;</th><th scope=col>&lt;dbl&gt;</th></tr>\n",
       "</thead>\n",
       "<tbody>\n",
       "\t<tr><td>FirstTime</td><td>1</td><td>2020-01-05</td><td>58999453</td><td>joymee.fun </td><td>2018-01-05</td><td>Active</td><td>fun</td><td>alibaba</td><td>alibaba</td><td>China</td><td>China</td><td>2</td><td>NA</td><td>Not Renewd</td><td>0</td><td>auto-renewal</td><td>unrealized</td><td>2020-01-05</td><td>Alibaba</td><td>Alibaba</td><td>9.5</td><td>4.75</td><td>1</td><td> 6</td><td>6</td><td>4.75</td><td>funalibaba</td><td>joymee </td><td>l</td><td>6</td><td>6l</td><td>1</td><td>1.558145</td><td>  3.81</td><td>joymee </td><td>1</td><td>1</td><td>1</td><td>0.3892428</td></tr>\n",
       "\t<tr><td>FirstTime</td><td>1</td><td>2020-01-07</td><td>59109488</td><td>prophet.fun</td><td>2018-01-07</td><td>Active</td><td>fun</td><td>alibaba</td><td>alibaba</td><td>China</td><td>China</td><td>2</td><td>NA</td><td>Not Renewd</td><td>0</td><td>auto-renewal</td><td>unrealized</td><td>2020-01-07</td><td>Alibaba</td><td>Alibaba</td><td>9.5</td><td>4.75</td><td>1</td><td> 6</td><td>6</td><td>4.75</td><td>funalibaba</td><td>prophet</td><td>l</td><td>7</td><td>7l</td><td>1</td><td>1.558145</td><td>  6.76</td><td>prophet</td><td>1</td><td>1</td><td>1</td><td>0.3677247</td></tr>\n",
       "\t<tr><td>FirstTime</td><td>1</td><td>2020-01-17</td><td>59590658</td><td>fuyintv.fun</td><td>2018-01-17</td><td>Active</td><td>fun</td><td>alibaba</td><td>alibaba</td><td>China</td><td>China</td><td>2</td><td>NA</td><td>Renewed   </td><td>0</td><td>renewal     </td><td>NA        </td><td>2019-08-15</td><td>Alibaba</td><td>Alibaba</td><td>9.5</td><td>4.75</td><td>5</td><td>30</td><td>6</td><td>4.75</td><td>funalibaba</td><td>fuyintv</td><td>l</td><td>7</td><td>7l</td><td>1</td><td>1.558145</td><td>  0.97</td><td>fuyintv</td><td>1</td><td>1</td><td>1</td><td>0.3334929</td></tr>\n",
       "\t<tr><td>FirstTime</td><td>1</td><td>2020-01-21</td><td>59849738</td><td>mul.fun    </td><td>2018-01-21</td><td>Active</td><td>fun</td><td>alibaba</td><td>alibaba</td><td>China</td><td>China</td><td>2</td><td>NA</td><td>Renewed   </td><td>0</td><td>renewal     </td><td>NA        </td><td>2019-12-24</td><td>Alibaba</td><td>Alibaba</td><td>9.5</td><td>4.75</td><td>1</td><td> 6</td><td>6</td><td>4.75</td><td>funalibaba</td><td>mul    </td><td>l</td><td>3</td><td>3l</td><td>1</td><td>1.558145</td><td>  5.71</td><td>mul    </td><td>1</td><td>1</td><td>1</td><td>0.5258015</td></tr>\n",
       "\t<tr><td>FirstTime</td><td>1</td><td>2020-02-05</td><td>60613428</td><td>12138.fun  </td><td>2018-02-05</td><td>Active</td><td>fun</td><td>alibaba</td><td>alibaba</td><td>China</td><td>China</td><td>2</td><td>NA</td><td>Not Renewd</td><td>0</td><td>auto-renewal</td><td>unrealized</td><td>2020-02-05</td><td>Alibaba</td><td>Alibaba</td><td>9.5</td><td>4.75</td><td>1</td><td> 6</td><td>6</td><td>4.75</td><td>funalibaba</td><td>12138  </td><td>n</td><td>5</td><td>5n</td><td>1</td><td>1.558145</td><td>100.00</td><td>12138  </td><td>1</td><td>1</td><td>1</td><td>0.4359649</td></tr>\n",
       "\t<tr><td>FirstTime</td><td>1</td><td>2020-02-07</td><td>60745783</td><td>yimo.fun   </td><td>2018-02-07</td><td>Active</td><td>fun</td><td>alibaba</td><td>alibaba</td><td>China</td><td>China</td><td>2</td><td>NA</td><td>Not Renewd</td><td>0</td><td>auto-renewal</td><td>unrealized</td><td>2020-02-07</td><td>Alibaba</td><td>Alibaba</td><td>9.5</td><td>4.75</td><td>1</td><td> 6</td><td>6</td><td>4.75</td><td>funalibaba</td><td>yimo   </td><td>l</td><td>4</td><td>4l</td><td>1</td><td>1.558145</td><td>  4.61</td><td>yimo   </td><td>1</td><td>1</td><td>1</td><td>0.4766606</td></tr>\n",
       "</tbody>\n",
       "</table>\n"
      ],
      "text/latex": [
       "A data.table: 6 × 40\n",
       "\\begin{tabular}{llllllllllllllllllllllllllllllllllllllll}\n",
       " renewal\\_type & renewed\\_count & expiry\\_date & domain\\_id & domain & creation\\_date & status & tld & registrar & reseller & reseller\\_country & region & reg\\_period & registrant\\_country & renewal\\_status & renew\\_mbg & renew\\_type & autorenew\\_type & renew\\_date & renew\\_registrar & renew\\_reseller & reg\\_revenue & reg\\_arpt & renew\\_period & renew\\_domain\\_revenue & renew\\_arpt & reg\\_arpt\\_org & tld\\_registrar\\_index & sld & sld\\_type & sld\\_length & sld\\_type2 & day\\_domains & log\\_reg\\_arpt & gibb\\_score & pattern & cluster & pattern\\_score & pattern\\_domain\\_count & first\\_renewal\\_prediction\\\\\n",
       " <chr> & <int> & <date> & <int> & <chr> & <date> & <chr> & <fct> & <chr> & <chr> & <chr> & <chr> & <int> & <chr> & <fct> & <int> & <chr> & <chr> & <date> & <chr> & <chr> & <dbl> & <dbl> & <int> & <dbl> & <dbl> & <dbl> & <chr> & <chr> & <fct> & <int> & <chr> & <int> & <dbl> & <dbl> & <chr> & <chr> & <dbl> & <int> & <dbl>\\\\\n",
       "\\hline\n",
       "\t FirstTime & 1 & 2020-01-05 & 58999453 & joymee.fun  & 2018-01-05 & Active & fun & alibaba & alibaba & China & China & 2 & NA & Not Renewd & 0 & auto-renewal & unrealized & 2020-01-05 & Alibaba & Alibaba & 9.5 & 4.75 & 1 &  6 & 6 & 4.75 & funalibaba & joymee  & l & 6 & 6l & 1 & 1.558145 &   3.81 & joymee  & 1 & 1 & 1 & 0.3892428\\\\\n",
       "\t FirstTime & 1 & 2020-01-07 & 59109488 & prophet.fun & 2018-01-07 & Active & fun & alibaba & alibaba & China & China & 2 & NA & Not Renewd & 0 & auto-renewal & unrealized & 2020-01-07 & Alibaba & Alibaba & 9.5 & 4.75 & 1 &  6 & 6 & 4.75 & funalibaba & prophet & l & 7 & 7l & 1 & 1.558145 &   6.76 & prophet & 1 & 1 & 1 & 0.3677247\\\\\n",
       "\t FirstTime & 1 & 2020-01-17 & 59590658 & fuyintv.fun & 2018-01-17 & Active & fun & alibaba & alibaba & China & China & 2 & NA & Renewed    & 0 & renewal      & NA         & 2019-08-15 & Alibaba & Alibaba & 9.5 & 4.75 & 5 & 30 & 6 & 4.75 & funalibaba & fuyintv & l & 7 & 7l & 1 & 1.558145 &   0.97 & fuyintv & 1 & 1 & 1 & 0.3334929\\\\\n",
       "\t FirstTime & 1 & 2020-01-21 & 59849738 & mul.fun     & 2018-01-21 & Active & fun & alibaba & alibaba & China & China & 2 & NA & Renewed    & 0 & renewal      & NA         & 2019-12-24 & Alibaba & Alibaba & 9.5 & 4.75 & 1 &  6 & 6 & 4.75 & funalibaba & mul     & l & 3 & 3l & 1 & 1.558145 &   5.71 & mul     & 1 & 1 & 1 & 0.5258015\\\\\n",
       "\t FirstTime & 1 & 2020-02-05 & 60613428 & 12138.fun   & 2018-02-05 & Active & fun & alibaba & alibaba & China & China & 2 & NA & Not Renewd & 0 & auto-renewal & unrealized & 2020-02-05 & Alibaba & Alibaba & 9.5 & 4.75 & 1 &  6 & 6 & 4.75 & funalibaba & 12138   & n & 5 & 5n & 1 & 1.558145 & 100.00 & 12138   & 1 & 1 & 1 & 0.4359649\\\\\n",
       "\t FirstTime & 1 & 2020-02-07 & 60745783 & yimo.fun    & 2018-02-07 & Active & fun & alibaba & alibaba & China & China & 2 & NA & Not Renewd & 0 & auto-renewal & unrealized & 2020-02-07 & Alibaba & Alibaba & 9.5 & 4.75 & 1 &  6 & 6 & 4.75 & funalibaba & yimo    & l & 4 & 4l & 1 & 1.558145 &   4.61 & yimo    & 1 & 1 & 1 & 0.4766606\\\\\n",
       "\\end{tabular}\n"
      ],
      "text/markdown": [
       "\n",
       "A data.table: 6 × 40\n",
       "\n",
       "| renewal_type &lt;chr&gt; | renewed_count &lt;int&gt; | expiry_date &lt;date&gt; | domain_id &lt;int&gt; | domain &lt;chr&gt; | creation_date &lt;date&gt; | status &lt;chr&gt; | tld &lt;fct&gt; | registrar &lt;chr&gt; | reseller &lt;chr&gt; | reseller_country &lt;chr&gt; | region &lt;chr&gt; | reg_period &lt;int&gt; | registrant_country &lt;chr&gt; | renewal_status &lt;fct&gt; | renew_mbg &lt;int&gt; | renew_type &lt;chr&gt; | autorenew_type &lt;chr&gt; | renew_date &lt;date&gt; | renew_registrar &lt;chr&gt; | renew_reseller &lt;chr&gt; | reg_revenue &lt;dbl&gt; | reg_arpt &lt;dbl&gt; | renew_period &lt;int&gt; | renew_domain_revenue &lt;dbl&gt; | renew_arpt &lt;dbl&gt; | reg_arpt_org &lt;dbl&gt; | tld_registrar_index &lt;chr&gt; | sld &lt;chr&gt; | sld_type &lt;fct&gt; | sld_length &lt;int&gt; | sld_type2 &lt;chr&gt; | day_domains &lt;int&gt; | log_reg_arpt &lt;dbl&gt; | gibb_score &lt;dbl&gt; | pattern &lt;chr&gt; | cluster &lt;chr&gt; | pattern_score &lt;dbl&gt; | pattern_domain_count &lt;int&gt; | first_renewal_prediction &lt;dbl&gt; |\n",
       "|---|---|---|---|---|---|---|---|---|---|---|---|---|---|---|---|---|---|---|---|---|---|---|---|---|---|---|---|---|---|---|---|---|---|---|---|---|---|---|---|\n",
       "| FirstTime | 1 | 2020-01-05 | 58999453 | joymee.fun  | 2018-01-05 | Active | fun | alibaba | alibaba | China | China | 2 | NA | Not Renewd | 0 | auto-renewal | unrealized | 2020-01-05 | Alibaba | Alibaba | 9.5 | 4.75 | 1 |  6 | 6 | 4.75 | funalibaba | joymee  | l | 6 | 6l | 1 | 1.558145 |   3.81 | joymee  | 1 | 1 | 1 | 0.3892428 |\n",
       "| FirstTime | 1 | 2020-01-07 | 59109488 | prophet.fun | 2018-01-07 | Active | fun | alibaba | alibaba | China | China | 2 | NA | Not Renewd | 0 | auto-renewal | unrealized | 2020-01-07 | Alibaba | Alibaba | 9.5 | 4.75 | 1 |  6 | 6 | 4.75 | funalibaba | prophet | l | 7 | 7l | 1 | 1.558145 |   6.76 | prophet | 1 | 1 | 1 | 0.3677247 |\n",
       "| FirstTime | 1 | 2020-01-17 | 59590658 | fuyintv.fun | 2018-01-17 | Active | fun | alibaba | alibaba | China | China | 2 | NA | Renewed    | 0 | renewal      | NA         | 2019-08-15 | Alibaba | Alibaba | 9.5 | 4.75 | 5 | 30 | 6 | 4.75 | funalibaba | fuyintv | l | 7 | 7l | 1 | 1.558145 |   0.97 | fuyintv | 1 | 1 | 1 | 0.3334929 |\n",
       "| FirstTime | 1 | 2020-01-21 | 59849738 | mul.fun     | 2018-01-21 | Active | fun | alibaba | alibaba | China | China | 2 | NA | Renewed    | 0 | renewal      | NA         | 2019-12-24 | Alibaba | Alibaba | 9.5 | 4.75 | 1 |  6 | 6 | 4.75 | funalibaba | mul     | l | 3 | 3l | 1 | 1.558145 |   5.71 | mul     | 1 | 1 | 1 | 0.5258015 |\n",
       "| FirstTime | 1 | 2020-02-05 | 60613428 | 12138.fun   | 2018-02-05 | Active | fun | alibaba | alibaba | China | China | 2 | NA | Not Renewd | 0 | auto-renewal | unrealized | 2020-02-05 | Alibaba | Alibaba | 9.5 | 4.75 | 1 |  6 | 6 | 4.75 | funalibaba | 12138   | n | 5 | 5n | 1 | 1.558145 | 100.00 | 12138   | 1 | 1 | 1 | 0.4359649 |\n",
       "| FirstTime | 1 | 2020-02-07 | 60745783 | yimo.fun    | 2018-02-07 | Active | fun | alibaba | alibaba | China | China | 2 | NA | Not Renewd | 0 | auto-renewal | unrealized | 2020-02-07 | Alibaba | Alibaba | 9.5 | 4.75 | 1 |  6 | 6 | 4.75 | funalibaba | yimo    | l | 4 | 4l | 1 | 1.558145 |   4.61 | yimo    | 1 | 1 | 1 | 0.4766606 |\n",
       "\n"
      ],
      "text/plain": [
       "  renewal_type renewed_count expiry_date domain_id domain      creation_date\n",
       "1 FirstTime    1             2020-01-05  58999453  joymee.fun  2018-01-05   \n",
       "2 FirstTime    1             2020-01-07  59109488  prophet.fun 2018-01-07   \n",
       "3 FirstTime    1             2020-01-17  59590658  fuyintv.fun 2018-01-17   \n",
       "4 FirstTime    1             2020-01-21  59849738  mul.fun     2018-01-21   \n",
       "5 FirstTime    1             2020-02-05  60613428  12138.fun   2018-02-05   \n",
       "6 FirstTime    1             2020-02-07  60745783  yimo.fun    2018-02-07   \n",
       "  status tld registrar reseller reseller_country region reg_period\n",
       "1 Active fun alibaba   alibaba  China            China  2         \n",
       "2 Active fun alibaba   alibaba  China            China  2         \n",
       "3 Active fun alibaba   alibaba  China            China  2         \n",
       "4 Active fun alibaba   alibaba  China            China  2         \n",
       "5 Active fun alibaba   alibaba  China            China  2         \n",
       "6 Active fun alibaba   alibaba  China            China  2         \n",
       "  registrant_country renewal_status renew_mbg renew_type   autorenew_type\n",
       "1 NA                 Not Renewd     0         auto-renewal unrealized    \n",
       "2 NA                 Not Renewd     0         auto-renewal unrealized    \n",
       "3 NA                 Renewed        0         renewal      NA            \n",
       "4 NA                 Renewed        0         renewal      NA            \n",
       "5 NA                 Not Renewd     0         auto-renewal unrealized    \n",
       "6 NA                 Not Renewd     0         auto-renewal unrealized    \n",
       "  renew_date renew_registrar renew_reseller reg_revenue reg_arpt renew_period\n",
       "1 2020-01-05 Alibaba         Alibaba        9.5         4.75     1           \n",
       "2 2020-01-07 Alibaba         Alibaba        9.5         4.75     1           \n",
       "3 2019-08-15 Alibaba         Alibaba        9.5         4.75     5           \n",
       "4 2019-12-24 Alibaba         Alibaba        9.5         4.75     1           \n",
       "5 2020-02-05 Alibaba         Alibaba        9.5         4.75     1           \n",
       "6 2020-02-07 Alibaba         Alibaba        9.5         4.75     1           \n",
       "  renew_domain_revenue renew_arpt reg_arpt_org tld_registrar_index sld    \n",
       "1  6                   6          4.75         funalibaba          joymee \n",
       "2  6                   6          4.75         funalibaba          prophet\n",
       "3 30                   6          4.75         funalibaba          fuyintv\n",
       "4  6                   6          4.75         funalibaba          mul    \n",
       "5  6                   6          4.75         funalibaba          12138  \n",
       "6  6                   6          4.75         funalibaba          yimo   \n",
       "  sld_type sld_length sld_type2 day_domains log_reg_arpt gibb_score pattern\n",
       "1 l        6          6l        1           1.558145       3.81     joymee \n",
       "2 l        7          7l        1           1.558145       6.76     prophet\n",
       "3 l        7          7l        1           1.558145       0.97     fuyintv\n",
       "4 l        3          3l        1           1.558145       5.71     mul    \n",
       "5 n        5          5n        1           1.558145     100.00     12138  \n",
       "6 l        4          4l        1           1.558145       4.61     yimo   \n",
       "  cluster pattern_score pattern_domain_count first_renewal_prediction\n",
       "1 1       1             1                    0.3892428               \n",
       "2 1       1             1                    0.3677247               \n",
       "3 1       1             1                    0.3334929               \n",
       "4 1       1             1                    0.5258015               \n",
       "5 1       1             1                    0.4359649               \n",
       "6 1       1             1                    0.4766606               "
      ]
     },
     "metadata": {},
     "output_type": "display_data"
    }
   ],
   "source": [
    "head(seg_glm_expiry_exptest_sub)"
   ]
  },
  {
   "cell_type": "code",
   "execution_count": 15,
   "metadata": {},
   "outputs": [
    {
     "data": {
      "text/html": [
       "<table>\n",
       "<caption>A data.table: 6 × 39</caption>\n",
       "<thead>\n",
       "\t<tr><th scope=col>renewal_type</th><th scope=col>renewed_count</th><th scope=col>expiry_date</th><th scope=col>domain_id</th><th scope=col>domain</th><th scope=col>creation_date</th><th scope=col>status</th><th scope=col>tld</th><th scope=col>registrar</th><th scope=col>reseller</th><th scope=col>reseller_country</th><th scope=col>region</th><th scope=col>reg_period</th><th scope=col>registrant_country</th><th scope=col>renewal_status</th><th scope=col>renew_mbg</th><th scope=col>renew_type</th><th scope=col>autorenew_type</th><th scope=col>renew_date</th><th scope=col>renew_registrar</th><th scope=col>renew_reseller</th><th scope=col>reg_revenue</th><th scope=col>reg_arpt</th><th scope=col>renew_period</th><th scope=col>renew_domain_revenue</th><th scope=col>renew_arpt</th><th scope=col>reg_arpt_org</th><th scope=col>tld_registrar_index</th><th scope=col>sld</th><th scope=col>sld_type</th><th scope=col>sld_length</th><th scope=col>sld_type2</th><th scope=col>day_domains</th><th scope=col>log_reg_arpt</th><th scope=col>gibb_score</th><th scope=col>pattern</th><th scope=col>cluster</th><th scope=col>pattern_score</th><th scope=col>pattern_domain_count</th></tr>\n",
       "\t<tr><th scope=col>&lt;chr&gt;</th><th scope=col>&lt;int&gt;</th><th scope=col>&lt;date&gt;</th><th scope=col>&lt;int&gt;</th><th scope=col>&lt;chr&gt;</th><th scope=col>&lt;date&gt;</th><th scope=col>&lt;chr&gt;</th><th scope=col>&lt;fct&gt;</th><th scope=col>&lt;chr&gt;</th><th scope=col>&lt;chr&gt;</th><th scope=col>&lt;chr&gt;</th><th scope=col>&lt;chr&gt;</th><th scope=col>&lt;int&gt;</th><th scope=col>&lt;chr&gt;</th><th scope=col>&lt;fct&gt;</th><th scope=col>&lt;int&gt;</th><th scope=col>&lt;chr&gt;</th><th scope=col>&lt;chr&gt;</th><th scope=col>&lt;date&gt;</th><th scope=col>&lt;chr&gt;</th><th scope=col>&lt;chr&gt;</th><th scope=col>&lt;dbl&gt;</th><th scope=col>&lt;dbl&gt;</th><th scope=col>&lt;int&gt;</th><th scope=col>&lt;dbl&gt;</th><th scope=col>&lt;dbl&gt;</th><th scope=col>&lt;dbl&gt;</th><th scope=col>&lt;chr&gt;</th><th scope=col>&lt;chr&gt;</th><th scope=col>&lt;fct&gt;</th><th scope=col>&lt;int&gt;</th><th scope=col>&lt;chr&gt;</th><th scope=col>&lt;int&gt;</th><th scope=col>&lt;dbl&gt;</th><th scope=col>&lt;dbl&gt;</th><th scope=col>&lt;chr&gt;</th><th scope=col>&lt;chr&gt;</th><th scope=col>&lt;dbl&gt;</th><th scope=col>&lt;int&gt;</th></tr>\n",
       "</thead>\n",
       "<tbody>\n",
       "\t<tr><td>FirstTime</td><td>1</td><td>2020-01-21</td><td>91584433</td><td><span style=white-space:pre-wrap>racefor.fun     </span></td><td>2019-01-21</td><td>Active</td><td>fun</td><td>1&amp;1 internet</td><td>1&amp;1 internet</td><td>Germany</td><td>Non China</td><td>1</td><td>NA</td><td><span style=white-space:pre-wrap>Renewed   </span></td><td>0</td><td>auto-renewal</td><td><span style=white-space:pre-wrap>realized  </span></td><td>2020-01-21</td><td>1&amp;1 Internet</td><td>1&amp;1 Internet</td><td>15</td><td>15</td><td>1</td><td>15</td><td>15</td><td>15</td><td>fun1&amp;1 internet</td><td><span style=white-space:pre-wrap>racefor     </span></td><td>l </td><td> 7</td><td>7l </td><td>1</td><td>2.70805</td><td> 6.77</td><td><span style=white-space:pre-wrap>racefor     </span></td><td>1</td><td>1</td><td>1</td></tr>\n",
       "\t<tr><td>FirstTime</td><td>1</td><td>2020-01-30</td><td>92254793</td><td><span style=white-space:pre-wrap>united4.fun     </span></td><td>2019-01-30</td><td>Active</td><td>fun</td><td>1&amp;1 internet</td><td>1&amp;1 internet</td><td>Germany</td><td>Non China</td><td>1</td><td>NA</td><td><span style=white-space:pre-wrap>Renewed   </span></td><td>0</td><td>auto-renewal</td><td><span style=white-space:pre-wrap>realized  </span></td><td>2020-01-30</td><td>1&amp;1 Internet</td><td>1&amp;1 Internet</td><td>15</td><td>15</td><td>1</td><td>15</td><td>15</td><td>15</td><td>fun1&amp;1 internet</td><td><span style=white-space:pre-wrap>united4     </span></td><td>ln</td><td> 7</td><td>7ln</td><td>1</td><td>2.70805</td><td> 8.65</td><td><span style=white-space:pre-wrap>united4     </span></td><td>1</td><td>1</td><td>1</td></tr>\n",
       "\t<tr><td>FirstTime</td><td>1</td><td>2020-02-04</td><td>92827233</td><td><span style=white-space:pre-wrap>bereal.fun      </span></td><td>2019-02-04</td><td>Active</td><td>fun</td><td>1&amp;1 internet</td><td>1&amp;1 internet</td><td>Germany</td><td>Non China</td><td>1</td><td>NA</td><td><span style=white-space:pre-wrap>Renewed   </span></td><td>0</td><td>auto-renewal</td><td><span style=white-space:pre-wrap>realized  </span></td><td>2020-02-04</td><td>1&amp;1 Internet</td><td>1&amp;1 Internet</td><td>15</td><td>15</td><td>1</td><td>15</td><td>15</td><td>15</td><td>fun1&amp;1 internet</td><td><span style=white-space:pre-wrap>bereal      </span></td><td>l </td><td> 6</td><td>6l </td><td>1</td><td>2.70805</td><td>13.09</td><td><span style=white-space:pre-wrap>bereal      </span></td><td>1</td><td>1</td><td>1</td></tr>\n",
       "\t<tr><td>FirstTime</td><td>1</td><td>2020-02-12</td><td>93490823</td><td>dogsoutdoors.fun</td><td>2019-02-12</td><td>Active</td><td>fun</td><td>1&amp;1 internet</td><td>1&amp;1 internet</td><td>Germany</td><td>Non China</td><td>1</td><td>NA</td><td>Not Renewd</td><td>0</td><td>auto-renewal</td><td>unrealized</td><td>2020-02-12</td><td>1&amp;1 Internet</td><td>1&amp;1 Internet</td><td>15</td><td>15</td><td>1</td><td>15</td><td>15</td><td>15</td><td>fun1&amp;1 internet</td><td>dogsoutdoors</td><td>l </td><td>12</td><td>12l</td><td>1</td><td>2.70805</td><td> 2.44</td><td>dogsoutdoors</td><td>1</td><td>1</td><td>1</td></tr>\n",
       "\t<tr><td>FirstTime</td><td>1</td><td>2020-02-15</td><td>93767978</td><td><span style=white-space:pre-wrap>rosalux.fun     </span></td><td>2019-02-15</td><td>Active</td><td>fun</td><td>1&amp;1 internet</td><td>1&amp;1 internet</td><td>Germany</td><td>Non China</td><td>1</td><td>NA</td><td><span style=white-space:pre-wrap>Renewed   </span></td><td>0</td><td>auto-renewal</td><td><span style=white-space:pre-wrap>realized  </span></td><td>2020-02-15</td><td>1&amp;1 Internet</td><td>1&amp;1 Internet</td><td>15</td><td>15</td><td>1</td><td>15</td><td>15</td><td>15</td><td>fun1&amp;1 internet</td><td><span style=white-space:pre-wrap>rosalux     </span></td><td>l </td><td> 7</td><td>7l </td><td>1</td><td>2.70805</td><td> 2.34</td><td><span style=white-space:pre-wrap>rosalux     </span></td><td>1</td><td>1</td><td>1</td></tr>\n",
       "\t<tr><td>FirstTime</td><td>1</td><td>2020-02-16</td><td>93823708</td><td><span style=white-space:pre-wrap>verygood.fun    </span></td><td>2019-02-16</td><td>Active</td><td>fun</td><td>1&amp;1 internet</td><td>1&amp;1 internet</td><td>Germany</td><td>Non China</td><td>1</td><td>NA</td><td><span style=white-space:pre-wrap>Renewed   </span></td><td>0</td><td>auto-renewal</td><td><span style=white-space:pre-wrap>realized  </span></td><td>2020-02-16</td><td>1&amp;1 Internet</td><td>1&amp;1 Internet</td><td>15</td><td>15</td><td>1</td><td>15</td><td>15</td><td>15</td><td>fun1&amp;1 internet</td><td><span style=white-space:pre-wrap>verygood    </span></td><td>l </td><td> 8</td><td>8l </td><td>1</td><td>2.70805</td><td> 3.64</td><td><span style=white-space:pre-wrap>verygood    </span></td><td>1</td><td>1</td><td>1</td></tr>\n",
       "</tbody>\n",
       "</table>\n"
      ],
      "text/latex": [
       "A data.table: 6 × 39\n",
       "\\begin{tabular}{lllllllllllllllllllllllllllllllllllllll}\n",
       " renewal\\_type & renewed\\_count & expiry\\_date & domain\\_id & domain & creation\\_date & status & tld & registrar & reseller & reseller\\_country & region & reg\\_period & registrant\\_country & renewal\\_status & renew\\_mbg & renew\\_type & autorenew\\_type & renew\\_date & renew\\_registrar & renew\\_reseller & reg\\_revenue & reg\\_arpt & renew\\_period & renew\\_domain\\_revenue & renew\\_arpt & reg\\_arpt\\_org & tld\\_registrar\\_index & sld & sld\\_type & sld\\_length & sld\\_type2 & day\\_domains & log\\_reg\\_arpt & gibb\\_score & pattern & cluster & pattern\\_score & pattern\\_domain\\_count\\\\\n",
       " <chr> & <int> & <date> & <int> & <chr> & <date> & <chr> & <fct> & <chr> & <chr> & <chr> & <chr> & <int> & <chr> & <fct> & <int> & <chr> & <chr> & <date> & <chr> & <chr> & <dbl> & <dbl> & <int> & <dbl> & <dbl> & <dbl> & <chr> & <chr> & <fct> & <int> & <chr> & <int> & <dbl> & <dbl> & <chr> & <chr> & <dbl> & <int>\\\\\n",
       "\\hline\n",
       "\t FirstTime & 1 & 2020-01-21 & 91584433 & racefor.fun      & 2019-01-21 & Active & fun & 1\\&1 internet & 1\\&1 internet & Germany & Non China & 1 & NA & Renewed    & 0 & auto-renewal & realized   & 2020-01-21 & 1\\&1 Internet & 1\\&1 Internet & 15 & 15 & 1 & 15 & 15 & 15 & fun1\\&1 internet & racefor      & l  &  7 & 7l  & 1 & 2.70805 &  6.77 & racefor      & 1 & 1 & 1\\\\\n",
       "\t FirstTime & 1 & 2020-01-30 & 92254793 & united4.fun      & 2019-01-30 & Active & fun & 1\\&1 internet & 1\\&1 internet & Germany & Non China & 1 & NA & Renewed    & 0 & auto-renewal & realized   & 2020-01-30 & 1\\&1 Internet & 1\\&1 Internet & 15 & 15 & 1 & 15 & 15 & 15 & fun1\\&1 internet & united4      & ln &  7 & 7ln & 1 & 2.70805 &  8.65 & united4      & 1 & 1 & 1\\\\\n",
       "\t FirstTime & 1 & 2020-02-04 & 92827233 & bereal.fun       & 2019-02-04 & Active & fun & 1\\&1 internet & 1\\&1 internet & Germany & Non China & 1 & NA & Renewed    & 0 & auto-renewal & realized   & 2020-02-04 & 1\\&1 Internet & 1\\&1 Internet & 15 & 15 & 1 & 15 & 15 & 15 & fun1\\&1 internet & bereal       & l  &  6 & 6l  & 1 & 2.70805 & 13.09 & bereal       & 1 & 1 & 1\\\\\n",
       "\t FirstTime & 1 & 2020-02-12 & 93490823 & dogsoutdoors.fun & 2019-02-12 & Active & fun & 1\\&1 internet & 1\\&1 internet & Germany & Non China & 1 & NA & Not Renewd & 0 & auto-renewal & unrealized & 2020-02-12 & 1\\&1 Internet & 1\\&1 Internet & 15 & 15 & 1 & 15 & 15 & 15 & fun1\\&1 internet & dogsoutdoors & l  & 12 & 12l & 1 & 2.70805 &  2.44 & dogsoutdoors & 1 & 1 & 1\\\\\n",
       "\t FirstTime & 1 & 2020-02-15 & 93767978 & rosalux.fun      & 2019-02-15 & Active & fun & 1\\&1 internet & 1\\&1 internet & Germany & Non China & 1 & NA & Renewed    & 0 & auto-renewal & realized   & 2020-02-15 & 1\\&1 Internet & 1\\&1 Internet & 15 & 15 & 1 & 15 & 15 & 15 & fun1\\&1 internet & rosalux      & l  &  7 & 7l  & 1 & 2.70805 &  2.34 & rosalux      & 1 & 1 & 1\\\\\n",
       "\t FirstTime & 1 & 2020-02-16 & 93823708 & verygood.fun     & 2019-02-16 & Active & fun & 1\\&1 internet & 1\\&1 internet & Germany & Non China & 1 & NA & Renewed    & 0 & auto-renewal & realized   & 2020-02-16 & 1\\&1 Internet & 1\\&1 Internet & 15 & 15 & 1 & 15 & 15 & 15 & fun1\\&1 internet & verygood     & l  &  8 & 8l  & 1 & 2.70805 &  3.64 & verygood     & 1 & 1 & 1\\\\\n",
       "\\end{tabular}\n"
      ],
      "text/markdown": [
       "\n",
       "A data.table: 6 × 39\n",
       "\n",
       "| renewal_type &lt;chr&gt; | renewed_count &lt;int&gt; | expiry_date &lt;date&gt; | domain_id &lt;int&gt; | domain &lt;chr&gt; | creation_date &lt;date&gt; | status &lt;chr&gt; | tld &lt;fct&gt; | registrar &lt;chr&gt; | reseller &lt;chr&gt; | reseller_country &lt;chr&gt; | region &lt;chr&gt; | reg_period &lt;int&gt; | registrant_country &lt;chr&gt; | renewal_status &lt;fct&gt; | renew_mbg &lt;int&gt; | renew_type &lt;chr&gt; | autorenew_type &lt;chr&gt; | renew_date &lt;date&gt; | renew_registrar &lt;chr&gt; | renew_reseller &lt;chr&gt; | reg_revenue &lt;dbl&gt; | reg_arpt &lt;dbl&gt; | renew_period &lt;int&gt; | renew_domain_revenue &lt;dbl&gt; | renew_arpt &lt;dbl&gt; | reg_arpt_org &lt;dbl&gt; | tld_registrar_index &lt;chr&gt; | sld &lt;chr&gt; | sld_type &lt;fct&gt; | sld_length &lt;int&gt; | sld_type2 &lt;chr&gt; | day_domains &lt;int&gt; | log_reg_arpt &lt;dbl&gt; | gibb_score &lt;dbl&gt; | pattern &lt;chr&gt; | cluster &lt;chr&gt; | pattern_score &lt;dbl&gt; | pattern_domain_count &lt;int&gt; |\n",
       "|---|---|---|---|---|---|---|---|---|---|---|---|---|---|---|---|---|---|---|---|---|---|---|---|---|---|---|---|---|---|---|---|---|---|---|---|---|---|---|\n",
       "| FirstTime | 1 | 2020-01-21 | 91584433 | racefor.fun      | 2019-01-21 | Active | fun | 1&amp;1 internet | 1&amp;1 internet | Germany | Non China | 1 | NA | Renewed    | 0 | auto-renewal | realized   | 2020-01-21 | 1&amp;1 Internet | 1&amp;1 Internet | 15 | 15 | 1 | 15 | 15 | 15 | fun1&amp;1 internet | racefor      | l  |  7 | 7l  | 1 | 2.70805 |  6.77 | racefor      | 1 | 1 | 1 |\n",
       "| FirstTime | 1 | 2020-01-30 | 92254793 | united4.fun      | 2019-01-30 | Active | fun | 1&amp;1 internet | 1&amp;1 internet | Germany | Non China | 1 | NA | Renewed    | 0 | auto-renewal | realized   | 2020-01-30 | 1&amp;1 Internet | 1&amp;1 Internet | 15 | 15 | 1 | 15 | 15 | 15 | fun1&amp;1 internet | united4      | ln |  7 | 7ln | 1 | 2.70805 |  8.65 | united4      | 1 | 1 | 1 |\n",
       "| FirstTime | 1 | 2020-02-04 | 92827233 | bereal.fun       | 2019-02-04 | Active | fun | 1&amp;1 internet | 1&amp;1 internet | Germany | Non China | 1 | NA | Renewed    | 0 | auto-renewal | realized   | 2020-02-04 | 1&amp;1 Internet | 1&amp;1 Internet | 15 | 15 | 1 | 15 | 15 | 15 | fun1&amp;1 internet | bereal       | l  |  6 | 6l  | 1 | 2.70805 | 13.09 | bereal       | 1 | 1 | 1 |\n",
       "| FirstTime | 1 | 2020-02-12 | 93490823 | dogsoutdoors.fun | 2019-02-12 | Active | fun | 1&amp;1 internet | 1&amp;1 internet | Germany | Non China | 1 | NA | Not Renewd | 0 | auto-renewal | unrealized | 2020-02-12 | 1&amp;1 Internet | 1&amp;1 Internet | 15 | 15 | 1 | 15 | 15 | 15 | fun1&amp;1 internet | dogsoutdoors | l  | 12 | 12l | 1 | 2.70805 |  2.44 | dogsoutdoors | 1 | 1 | 1 |\n",
       "| FirstTime | 1 | 2020-02-15 | 93767978 | rosalux.fun      | 2019-02-15 | Active | fun | 1&amp;1 internet | 1&amp;1 internet | Germany | Non China | 1 | NA | Renewed    | 0 | auto-renewal | realized   | 2020-02-15 | 1&amp;1 Internet | 1&amp;1 Internet | 15 | 15 | 1 | 15 | 15 | 15 | fun1&amp;1 internet | rosalux      | l  |  7 | 7l  | 1 | 2.70805 |  2.34 | rosalux      | 1 | 1 | 1 |\n",
       "| FirstTime | 1 | 2020-02-16 | 93823708 | verygood.fun     | 2019-02-16 | Active | fun | 1&amp;1 internet | 1&amp;1 internet | Germany | Non China | 1 | NA | Renewed    | 0 | auto-renewal | realized   | 2020-02-16 | 1&amp;1 Internet | 1&amp;1 Internet | 15 | 15 | 1 | 15 | 15 | 15 | fun1&amp;1 internet | verygood     | l  |  8 | 8l  | 1 | 2.70805 |  3.64 | verygood     | 1 | 1 | 1 |\n",
       "\n"
      ],
      "text/plain": [
       "  renewal_type renewed_count expiry_date domain_id domain          \n",
       "1 FirstTime    1             2020-01-21  91584433  racefor.fun     \n",
       "2 FirstTime    1             2020-01-30  92254793  united4.fun     \n",
       "3 FirstTime    1             2020-02-04  92827233  bereal.fun      \n",
       "4 FirstTime    1             2020-02-12  93490823  dogsoutdoors.fun\n",
       "5 FirstTime    1             2020-02-15  93767978  rosalux.fun     \n",
       "6 FirstTime    1             2020-02-16  93823708  verygood.fun    \n",
       "  creation_date status tld registrar    reseller     reseller_country region   \n",
       "1 2019-01-21    Active fun 1&1 internet 1&1 internet Germany          Non China\n",
       "2 2019-01-30    Active fun 1&1 internet 1&1 internet Germany          Non China\n",
       "3 2019-02-04    Active fun 1&1 internet 1&1 internet Germany          Non China\n",
       "4 2019-02-12    Active fun 1&1 internet 1&1 internet Germany          Non China\n",
       "5 2019-02-15    Active fun 1&1 internet 1&1 internet Germany          Non China\n",
       "6 2019-02-16    Active fun 1&1 internet 1&1 internet Germany          Non China\n",
       "  reg_period registrant_country renewal_status renew_mbg renew_type  \n",
       "1 1          NA                 Renewed        0         auto-renewal\n",
       "2 1          NA                 Renewed        0         auto-renewal\n",
       "3 1          NA                 Renewed        0         auto-renewal\n",
       "4 1          NA                 Not Renewd     0         auto-renewal\n",
       "5 1          NA                 Renewed        0         auto-renewal\n",
       "6 1          NA                 Renewed        0         auto-renewal\n",
       "  autorenew_type renew_date renew_registrar renew_reseller reg_revenue reg_arpt\n",
       "1 realized       2020-01-21 1&1 Internet    1&1 Internet   15          15      \n",
       "2 realized       2020-01-30 1&1 Internet    1&1 Internet   15          15      \n",
       "3 realized       2020-02-04 1&1 Internet    1&1 Internet   15          15      \n",
       "4 unrealized     2020-02-12 1&1 Internet    1&1 Internet   15          15      \n",
       "5 realized       2020-02-15 1&1 Internet    1&1 Internet   15          15      \n",
       "6 realized       2020-02-16 1&1 Internet    1&1 Internet   15          15      \n",
       "  renew_period renew_domain_revenue renew_arpt reg_arpt_org tld_registrar_index\n",
       "1 1            15                   15         15           fun1&1 internet    \n",
       "2 1            15                   15         15           fun1&1 internet    \n",
       "3 1            15                   15         15           fun1&1 internet    \n",
       "4 1            15                   15         15           fun1&1 internet    \n",
       "5 1            15                   15         15           fun1&1 internet    \n",
       "6 1            15                   15         15           fun1&1 internet    \n",
       "  sld          sld_type sld_length sld_type2 day_domains log_reg_arpt\n",
       "1 racefor      l         7         7l        1           2.70805     \n",
       "2 united4      ln        7         7ln       1           2.70805     \n",
       "3 bereal       l         6         6l        1           2.70805     \n",
       "4 dogsoutdoors l        12         12l       1           2.70805     \n",
       "5 rosalux      l         7         7l        1           2.70805     \n",
       "6 verygood     l         8         8l        1           2.70805     \n",
       "  gibb_score pattern      cluster pattern_score pattern_domain_count\n",
       "1  6.77      racefor      1       1             1                   \n",
       "2  8.65      united4      1       1             1                   \n",
       "3 13.09      bereal       1       1             1                   \n",
       "4  2.44      dogsoutdoors 1       1             1                   \n",
       "5  2.34      rosalux      1       1             1                   \n",
       "6  3.64      verygood     1       1             1                   "
      ]
     },
     "metadata": {},
     "output_type": "display_data"
    }
   ],
   "source": [
    "head(expiry_train_df_1)"
   ]
  },
  {
   "cell_type": "markdown",
   "metadata": {},
   "source": [
    "# RF on the rest "
   ]
  },
  {
   "cell_type": "code",
   "execution_count": 16,
   "metadata": {},
   "outputs": [
    {
     "data": {
      "text/html": [
       "<style>\n",
       ".list-inline {list-style: none; margin:0; padding: 0}\n",
       ".list-inline>li {display: inline-block}\n",
       ".list-inline>li:not(:last-child)::after {content: \"\\00b7\"; padding: 0 .5ex}\n",
       "</style>\n",
       "<ol class=list-inline><li>'sitegmo'</li><li>'funalibaba'</li><li>'sitenamecheap'</li><li>'pwnamecheap'</li><li>'onlinego daddy'</li><li>'sitegandi sas'</li><li>'sitereg.ru'</li><li>'onlinenamecheap'</li><li>'siteonlinenic'</li><li>'hostnamecheap'</li><li>'sitezhengzhou century connect'</li><li>'funchengdu west'</li><li>'spacego daddy'</li><li>'websitenamecheap'</li><li>'funnamecheap'</li></ol>\n"
      ],
      "text/latex": [
       "\\begin{enumerate*}\n",
       "\\item 'sitegmo'\n",
       "\\item 'funalibaba'\n",
       "\\item 'sitenamecheap'\n",
       "\\item 'pwnamecheap'\n",
       "\\item 'onlinego daddy'\n",
       "\\item 'sitegandi sas'\n",
       "\\item 'sitereg.ru'\n",
       "\\item 'onlinenamecheap'\n",
       "\\item 'siteonlinenic'\n",
       "\\item 'hostnamecheap'\n",
       "\\item 'sitezhengzhou century connect'\n",
       "\\item 'funchengdu west'\n",
       "\\item 'spacego daddy'\n",
       "\\item 'websitenamecheap'\n",
       "\\item 'funnamecheap'\n",
       "\\end{enumerate*}\n"
      ],
      "text/markdown": [
       "1. 'sitegmo'\n",
       "2. 'funalibaba'\n",
       "3. 'sitenamecheap'\n",
       "4. 'pwnamecheap'\n",
       "5. 'onlinego daddy'\n",
       "6. 'sitegandi sas'\n",
       "7. 'sitereg.ru'\n",
       "8. 'onlinenamecheap'\n",
       "9. 'siteonlinenic'\n",
       "10. 'hostnamecheap'\n",
       "11. 'sitezhengzhou century connect'\n",
       "12. 'funchengdu west'\n",
       "13. 'spacego daddy'\n",
       "14. 'websitenamecheap'\n",
       "15. 'funnamecheap'\n",
       "\n",
       "\n"
      ],
      "text/plain": [
       " [1] \"sitegmo\"                       \"funalibaba\"                   \n",
       " [3] \"sitenamecheap\"                 \"pwnamecheap\"                  \n",
       " [5] \"onlinego daddy\"                \"sitegandi sas\"                \n",
       " [7] \"sitereg.ru\"                    \"onlinenamecheap\"              \n",
       " [9] \"siteonlinenic\"                 \"hostnamecheap\"                \n",
       "[11] \"sitezhengzhou century connect\" \"funchengdu west\"              \n",
       "[13] \"spacego daddy\"                 \"websitenamecheap\"             \n",
       "[15] \"funnamecheap\"                 "
      ]
     },
     "metadata": {},
     "output_type": "display_data"
    },
    {
     "data": {
      "text/html": [
       "0.521409636019356"
      ],
      "text/latex": [
       "0.521409636019356"
      ],
      "text/markdown": [
       "0.521409636019356"
      ],
      "text/plain": [
       "[1] 0.5214096"
      ]
     },
     "metadata": {},
     "output_type": "display_data"
    },
    {
     "data": {
      "text/html": [
       "<table>\n",
       "<caption>A data.table: 6 × 13</caption>\n",
       "<thead>\n",
       "\t<tr><th scope=col>renewal_status</th><th scope=col>tld</th><th scope=col>reseller</th><th scope=col>reseller_country</th><th scope=col>region</th><th scope=col>reg_period</th><th scope=col>sld_type</th><th scope=col>sld_length</th><th scope=col>day_domains</th><th scope=col>gibb_score</th><th scope=col>pattern_domain_count</th><th scope=col>reg_arpt</th><th scope=col>tld_registrar_index</th></tr>\n",
       "\t<tr><th scope=col>&lt;fct&gt;</th><th scope=col>&lt;fct&gt;</th><th scope=col>&lt;chr&gt;</th><th scope=col>&lt;chr&gt;</th><th scope=col>&lt;chr&gt;</th><th scope=col>&lt;int&gt;</th><th scope=col>&lt;fct&gt;</th><th scope=col>&lt;int&gt;</th><th scope=col>&lt;int&gt;</th><th scope=col>&lt;dbl&gt;</th><th scope=col>&lt;int&gt;</th><th scope=col>&lt;dbl&gt;</th><th scope=col>&lt;chr&gt;</th></tr>\n",
       "</thead>\n",
       "<tbody>\n",
       "\t<tr><td><span style=white-space:pre-wrap>Renewed   </span></td><td>fun</td><td>1&amp;1 internet</td><td>Germany</td><td>Non China</td><td>1</td><td>l </td><td> 7</td><td>1</td><td> 6.77</td><td>1</td><td>15</td><td>fun1&amp;1 internet</td></tr>\n",
       "\t<tr><td><span style=white-space:pre-wrap>Renewed   </span></td><td>fun</td><td>1&amp;1 internet</td><td>Germany</td><td>Non China</td><td>1</td><td>ln</td><td> 7</td><td>1</td><td> 8.65</td><td>1</td><td>15</td><td>fun1&amp;1 internet</td></tr>\n",
       "\t<tr><td><span style=white-space:pre-wrap>Renewed   </span></td><td>fun</td><td>1&amp;1 internet</td><td>Germany</td><td>Non China</td><td>1</td><td>l </td><td> 6</td><td>1</td><td>13.09</td><td>1</td><td>15</td><td>fun1&amp;1 internet</td></tr>\n",
       "\t<tr><td>Not Renewd</td><td>fun</td><td>1&amp;1 internet</td><td>Germany</td><td>Non China</td><td>1</td><td>l </td><td>12</td><td>1</td><td> 2.44</td><td>1</td><td>15</td><td>fun1&amp;1 internet</td></tr>\n",
       "\t<tr><td><span style=white-space:pre-wrap>Renewed   </span></td><td>fun</td><td>1&amp;1 internet</td><td>Germany</td><td>Non China</td><td>1</td><td>l </td><td> 7</td><td>1</td><td> 2.34</td><td>1</td><td>15</td><td>fun1&amp;1 internet</td></tr>\n",
       "\t<tr><td><span style=white-space:pre-wrap>Renewed   </span></td><td>fun</td><td>1&amp;1 internet</td><td>Germany</td><td>Non China</td><td>1</td><td>l </td><td> 8</td><td>1</td><td> 3.64</td><td>1</td><td>15</td><td>fun1&amp;1 internet</td></tr>\n",
       "</tbody>\n",
       "</table>\n"
      ],
      "text/latex": [
       "A data.table: 6 × 13\n",
       "\\begin{tabular}{lllllllllllll}\n",
       " renewal\\_status & tld & reseller & reseller\\_country & region & reg\\_period & sld\\_type & sld\\_length & day\\_domains & gibb\\_score & pattern\\_domain\\_count & reg\\_arpt & tld\\_registrar\\_index\\\\\n",
       " <fct> & <fct> & <chr> & <chr> & <chr> & <int> & <fct> & <int> & <int> & <dbl> & <int> & <dbl> & <chr>\\\\\n",
       "\\hline\n",
       "\t Renewed    & fun & 1\\&1 internet & Germany & Non China & 1 & l  &  7 & 1 &  6.77 & 1 & 15 & fun1\\&1 internet\\\\\n",
       "\t Renewed    & fun & 1\\&1 internet & Germany & Non China & 1 & ln &  7 & 1 &  8.65 & 1 & 15 & fun1\\&1 internet\\\\\n",
       "\t Renewed    & fun & 1\\&1 internet & Germany & Non China & 1 & l  &  6 & 1 & 13.09 & 1 & 15 & fun1\\&1 internet\\\\\n",
       "\t Not Renewd & fun & 1\\&1 internet & Germany & Non China & 1 & l  & 12 & 1 &  2.44 & 1 & 15 & fun1\\&1 internet\\\\\n",
       "\t Renewed    & fun & 1\\&1 internet & Germany & Non China & 1 & l  &  7 & 1 &  2.34 & 1 & 15 & fun1\\&1 internet\\\\\n",
       "\t Renewed    & fun & 1\\&1 internet & Germany & Non China & 1 & l  &  8 & 1 &  3.64 & 1 & 15 & fun1\\&1 internet\\\\\n",
       "\\end{tabular}\n"
      ],
      "text/markdown": [
       "\n",
       "A data.table: 6 × 13\n",
       "\n",
       "| renewal_status &lt;fct&gt; | tld &lt;fct&gt; | reseller &lt;chr&gt; | reseller_country &lt;chr&gt; | region &lt;chr&gt; | reg_period &lt;int&gt; | sld_type &lt;fct&gt; | sld_length &lt;int&gt; | day_domains &lt;int&gt; | gibb_score &lt;dbl&gt; | pattern_domain_count &lt;int&gt; | reg_arpt &lt;dbl&gt; | tld_registrar_index &lt;chr&gt; |\n",
       "|---|---|---|---|---|---|---|---|---|---|---|---|---|\n",
       "| Renewed    | fun | 1&amp;1 internet | Germany | Non China | 1 | l  |  7 | 1 |  6.77 | 1 | 15 | fun1&amp;1 internet |\n",
       "| Renewed    | fun | 1&amp;1 internet | Germany | Non China | 1 | ln |  7 | 1 |  8.65 | 1 | 15 | fun1&amp;1 internet |\n",
       "| Renewed    | fun | 1&amp;1 internet | Germany | Non China | 1 | l  |  6 | 1 | 13.09 | 1 | 15 | fun1&amp;1 internet |\n",
       "| Not Renewd | fun | 1&amp;1 internet | Germany | Non China | 1 | l  | 12 | 1 |  2.44 | 1 | 15 | fun1&amp;1 internet |\n",
       "| Renewed    | fun | 1&amp;1 internet | Germany | Non China | 1 | l  |  7 | 1 |  2.34 | 1 | 15 | fun1&amp;1 internet |\n",
       "| Renewed    | fun | 1&amp;1 internet | Germany | Non China | 1 | l  |  8 | 1 |  3.64 | 1 | 15 | fun1&amp;1 internet |\n",
       "\n"
      ],
      "text/plain": [
       "  renewal_status tld reseller     reseller_country region    reg_period\n",
       "1 Renewed        fun 1&1 internet Germany          Non China 1         \n",
       "2 Renewed        fun 1&1 internet Germany          Non China 1         \n",
       "3 Renewed        fun 1&1 internet Germany          Non China 1         \n",
       "4 Not Renewd     fun 1&1 internet Germany          Non China 1         \n",
       "5 Renewed        fun 1&1 internet Germany          Non China 1         \n",
       "6 Renewed        fun 1&1 internet Germany          Non China 1         \n",
       "  sld_type sld_length day_domains gibb_score pattern_domain_count reg_arpt\n",
       "1 l         7         1            6.77      1                    15      \n",
       "2 ln        7         1            8.65      1                    15      \n",
       "3 l         6         1           13.09      1                    15      \n",
       "4 l        12         1            2.44      1                    15      \n",
       "5 l         7         1            2.34      1                    15      \n",
       "6 l         8         1            3.64      1                    15      \n",
       "  tld_registrar_index\n",
       "1 fun1&1 internet    \n",
       "2 fun1&1 internet    \n",
       "3 fun1&1 internet    \n",
       "4 fun1&1 internet    \n",
       "5 fun1&1 internet    \n",
       "6 fun1&1 internet    "
      ]
     },
     "metadata": {},
     "output_type": "display_data"
    }
   ],
   "source": [
    "tld_registrars\n",
    "num_trees = 1000\n",
    "train = expiry_train_df_sub\n",
    "test = expiry_test_df_sub\n",
    "\n",
    "\n",
    "train$tld_registrar_index <- tolower(paste(train$tld,\n",
    "                                           train$reseller,sep=\"\"))\n",
    "test$tld_registrar_index <- tolower(paste(test$tld,\n",
    "                                          test$reseller,sep=\"\"))\n",
    "\n",
    "train <- train %>% filter(!(tld_registrar_index %in% tld_registrars))\n",
    "test <- test %>% filter(!(tld_registrar_index %in% tld_registrars))\n",
    "\n",
    "nrow(train)/nrow(expiry_train_df_sub)\n",
    "head(train)"
   ]
  },
  {
   "cell_type": "code",
   "execution_count": 20,
   "metadata": {},
   "outputs": [
    {
     "data": {
      "text/html": [
       "'renewal_status + tld + reseller + reseller_country + region + reg_period + sld_type + sld_length + day_domains + gibb_score + pattern_domain_count + reg_arpt + tld_registrar_index'"
      ],
      "text/latex": [
       "'renewal\\_status + tld + reseller + reseller\\_country + region + reg\\_period + sld\\_type + sld\\_length + day\\_domains + gibb\\_score + pattern\\_domain\\_count + reg\\_arpt + tld\\_registrar\\_index'"
      ],
      "text/markdown": [
       "'renewal_status + tld + reseller + reseller_country + region + reg_period + sld_type + sld_length + day_domains + gibb_score + pattern_domain_count + reg_arpt + tld_registrar_index'"
      ],
      "text/plain": [
       "[1] \"renewal_status + tld + reseller + reseller_country + region + reg_period + sld_type + sld_length + day_domains + gibb_score + pattern_domain_count + reg_arpt + tld_registrar_index\""
      ]
     },
     "metadata": {},
     "output_type": "display_data"
    }
   ],
   "source": [
    "\n",
    "paste(names(train), collapse=\" + \")"
   ]
  },
  {
   "cell_type": "code",
   "execution_count": 22,
   "metadata": {},
   "outputs": [
    {
     "name": "stdout",
     "output_type": "stream",
     "text": [
      "\n",
      "Training & Testing remaining aggregate forest.\n",
      "Growing trees.. Progress: 18%. Estimated remaining time: 2 minutes, 24 seconds.\n",
      "Growing trees.. Progress: 36%. Estimated remaining time: 1 minute, 52 seconds.\n",
      "Growing trees.. Progress: 53%. Estimated remaining time: 1 minute, 22 seconds.\n",
      "Growing trees.. Progress: 71%. Estimated remaining time: 50 seconds.\n",
      "Growing trees.. Progress: 89%. Estimated remaining time: 19 seconds.\n"
     ]
    }
   ],
   "source": [
    "cat(\"\\nTraining & Testing remaining aggregate forest.\\n\")\n",
    "\n",
    "ranger_03_reg <- ranger(\n",
    "formula         = renewal_status ~ tld + reseller + reseller_country + \n",
    "                            region + reg_period + sld_type + sld_length + day_domains + \n",
    "                            gibb_score + pattern_domain_count + reg_arpt,\n",
    "data            = train, \n",
    "importance      = 'impurity', \n",
    "num.trees       = num_trees,\n",
    "    probability     = TRUE,\n",
    "#     mtry            = 3,\n",
    "#     min.node.size   = 10,\n",
    "#     replace         = FALSE,\n",
    "#     sample.fraction = .8,\n",
    "seed            = 123\n",
    ")\n",
    "\n",
    "ranger_predict_03_reg <- predict(ranger_03_reg, \n",
    "                                 data = test,\n",
    "                                 type=\"response\")$predictions\n",
    "\n",
    "ranger_predict_03_reg <- as.data.frame(ranger_predict_03_reg)$Renewed"
   ]
  },
  {
   "cell_type": "code",
   "execution_count": 24,
   "metadata": {},
   "outputs": [
    {
     "data": {
      "text/html": [
       "<table>\n",
       "<caption>A data.table: 6 × 14</caption>\n",
       "<thead>\n",
       "\t<tr><th scope=col>renewal_status</th><th scope=col>tld</th><th scope=col>reseller</th><th scope=col>reseller_country</th><th scope=col>region</th><th scope=col>reg_period</th><th scope=col>sld_type</th><th scope=col>sld_length</th><th scope=col>day_domains</th><th scope=col>gibb_score</th><th scope=col>pattern_domain_count</th><th scope=col>reg_arpt</th><th scope=col>tld_registrar_index</th><th scope=col>first_renewal_prediction</th></tr>\n",
       "\t<tr><th scope=col>&lt;fct&gt;</th><th scope=col>&lt;fct&gt;</th><th scope=col>&lt;chr&gt;</th><th scope=col>&lt;chr&gt;</th><th scope=col>&lt;chr&gt;</th><th scope=col>&lt;int&gt;</th><th scope=col>&lt;fct&gt;</th><th scope=col>&lt;int&gt;</th><th scope=col>&lt;int&gt;</th><th scope=col>&lt;dbl&gt;</th><th scope=col>&lt;int&gt;</th><th scope=col>&lt;dbl&gt;</th><th scope=col>&lt;chr&gt;</th><th scope=col>&lt;dbl&gt;</th></tr>\n",
       "</thead>\n",
       "<tbody>\n",
       "\t<tr><td><span style=white-space:pre-wrap>Renewed   </span></td><td>fun</td><td><span style=white-space:pre-wrap>1&amp;1 internet    </span></td><td>Germany</td><td>Non China</td><td>1</td><td>l</td><td>6</td><td>1</td><td>2.23</td><td>1</td><td>15</td><td><span style=white-space:pre-wrap>fun1&amp;1 internet    </span></td><td>0.4890293</td></tr>\n",
       "\t<tr><td><span style=white-space:pre-wrap>Renewed   </span></td><td>fun</td><td><span style=white-space:pre-wrap>1&amp;1 internet    </span></td><td>Germany</td><td>Non China</td><td>1</td><td>l</td><td>9</td><td>1</td><td>3.45</td><td>1</td><td>15</td><td><span style=white-space:pre-wrap>fun1&amp;1 internet    </span></td><td>0.4570346</td></tr>\n",
       "\t<tr><td>Not Renewd</td><td>fun</td><td>10dencehispahard</td><td>Spain  </td><td>Non China</td><td>1</td><td>l</td><td>8</td><td>1</td><td>8.62</td><td>1</td><td>15</td><td>fun10dencehispahard</td><td>0.5571666</td></tr>\n",
       "\t<tr><td>Not Renewd</td><td>fun</td><td>10dencehispahard</td><td>Spain  </td><td>Non China</td><td>1</td><td>l</td><td>6</td><td>1</td><td>3.13</td><td>1</td><td>15</td><td>fun10dencehispahard</td><td>0.5202203</td></tr>\n",
       "\t<tr><td>Renewed   </td><td>fun</td><td>1api            </td><td>Germany</td><td>Non China</td><td>1</td><td>l</td><td>7</td><td>1</td><td>4.51</td><td>1</td><td> 5</td><td>fun1api            </td><td>0.4847403</td></tr>\n",
       "\t<tr><td>Not Renewd</td><td>fun</td><td>1api            </td><td>Germany</td><td>Non China</td><td>1</td><td>l</td><td>7</td><td>1</td><td>6.09</td><td>1</td><td> 5</td><td>fun1api            </td><td>0.4571582</td></tr>\n",
       "</tbody>\n",
       "</table>\n"
      ],
      "text/latex": [
       "A data.table: 6 × 14\n",
       "\\begin{tabular}{llllllllllllll}\n",
       " renewal\\_status & tld & reseller & reseller\\_country & region & reg\\_period & sld\\_type & sld\\_length & day\\_domains & gibb\\_score & pattern\\_domain\\_count & reg\\_arpt & tld\\_registrar\\_index & first\\_renewal\\_prediction\\\\\n",
       " <fct> & <fct> & <chr> & <chr> & <chr> & <int> & <fct> & <int> & <int> & <dbl> & <int> & <dbl> & <chr> & <dbl>\\\\\n",
       "\\hline\n",
       "\t Renewed    & fun & 1\\&1 internet     & Germany & Non China & 1 & l & 6 & 1 & 2.23 & 1 & 15 & fun1\\&1 internet     & 0.4890293\\\\\n",
       "\t Renewed    & fun & 1\\&1 internet     & Germany & Non China & 1 & l & 9 & 1 & 3.45 & 1 & 15 & fun1\\&1 internet     & 0.4570346\\\\\n",
       "\t Not Renewd & fun & 10dencehispahard & Spain   & Non China & 1 & l & 8 & 1 & 8.62 & 1 & 15 & fun10dencehispahard & 0.5571666\\\\\n",
       "\t Not Renewd & fun & 10dencehispahard & Spain   & Non China & 1 & l & 6 & 1 & 3.13 & 1 & 15 & fun10dencehispahard & 0.5202203\\\\\n",
       "\t Renewed    & fun & 1api             & Germany & Non China & 1 & l & 7 & 1 & 4.51 & 1 &  5 & fun1api             & 0.4847403\\\\\n",
       "\t Not Renewd & fun & 1api             & Germany & Non China & 1 & l & 7 & 1 & 6.09 & 1 &  5 & fun1api             & 0.4571582\\\\\n",
       "\\end{tabular}\n"
      ],
      "text/markdown": [
       "\n",
       "A data.table: 6 × 14\n",
       "\n",
       "| renewal_status &lt;fct&gt; | tld &lt;fct&gt; | reseller &lt;chr&gt; | reseller_country &lt;chr&gt; | region &lt;chr&gt; | reg_period &lt;int&gt; | sld_type &lt;fct&gt; | sld_length &lt;int&gt; | day_domains &lt;int&gt; | gibb_score &lt;dbl&gt; | pattern_domain_count &lt;int&gt; | reg_arpt &lt;dbl&gt; | tld_registrar_index &lt;chr&gt; | first_renewal_prediction &lt;dbl&gt; |\n",
       "|---|---|---|---|---|---|---|---|---|---|---|---|---|---|\n",
       "| Renewed    | fun | 1&amp;1 internet     | Germany | Non China | 1 | l | 6 | 1 | 2.23 | 1 | 15 | fun1&amp;1 internet     | 0.4890293 |\n",
       "| Renewed    | fun | 1&amp;1 internet     | Germany | Non China | 1 | l | 9 | 1 | 3.45 | 1 | 15 | fun1&amp;1 internet     | 0.4570346 |\n",
       "| Not Renewd | fun | 10dencehispahard | Spain   | Non China | 1 | l | 8 | 1 | 8.62 | 1 | 15 | fun10dencehispahard | 0.5571666 |\n",
       "| Not Renewd | fun | 10dencehispahard | Spain   | Non China | 1 | l | 6 | 1 | 3.13 | 1 | 15 | fun10dencehispahard | 0.5202203 |\n",
       "| Renewed    | fun | 1api             | Germany | Non China | 1 | l | 7 | 1 | 4.51 | 1 |  5 | fun1api             | 0.4847403 |\n",
       "| Not Renewd | fun | 1api             | Germany | Non China | 1 | l | 7 | 1 | 6.09 | 1 |  5 | fun1api             | 0.4571582 |\n",
       "\n"
      ],
      "text/plain": [
       "  renewal_status tld reseller         reseller_country region    reg_period\n",
       "1 Renewed        fun 1&1 internet     Germany          Non China 1         \n",
       "2 Renewed        fun 1&1 internet     Germany          Non China 1         \n",
       "3 Not Renewd     fun 10dencehispahard Spain            Non China 1         \n",
       "4 Not Renewd     fun 10dencehispahard Spain            Non China 1         \n",
       "5 Renewed        fun 1api             Germany          Non China 1         \n",
       "6 Not Renewd     fun 1api             Germany          Non China 1         \n",
       "  sld_type sld_length day_domains gibb_score pattern_domain_count reg_arpt\n",
       "1 l        6          1           2.23       1                    15      \n",
       "2 l        9          1           3.45       1                    15      \n",
       "3 l        8          1           8.62       1                    15      \n",
       "4 l        6          1           3.13       1                    15      \n",
       "5 l        7          1           4.51       1                     5      \n",
       "6 l        7          1           6.09       1                     5      \n",
       "  tld_registrar_index first_renewal_prediction\n",
       "1 fun1&1 internet     0.4890293               \n",
       "2 fun1&1 internet     0.4570346               \n",
       "3 fun10dencehispahard 0.5571666               \n",
       "4 fun10dencehispahard 0.5202203               \n",
       "5 fun1api             0.4847403               \n",
       "6 fun1api             0.4571582               "
      ]
     },
     "metadata": {},
     "output_type": "display_data"
    }
   ],
   "source": [
    "test$first_renewal_prediction <- ranger_predict_03_reg\n",
    "head(test)"
   ]
  },
  {
   "cell_type": "code",
   "execution_count": 25,
   "metadata": {},
   "outputs": [
    {
     "data": {
      "text/html": [
       "<style>\n",
       ".list-inline {list-style: none; margin:0; padding: 0}\n",
       ".list-inline>li {display: inline-block}\n",
       ".list-inline>li:not(:last-child)::after {content: \"\\00b7\"; padding: 0 .5ex}\n",
       "</style>\n",
       "<ol class=list-inline><li>154431</li><li>14</li></ol>\n"
      ],
      "text/latex": [
       "\\begin{enumerate*}\n",
       "\\item 154431\n",
       "\\item 14\n",
       "\\end{enumerate*}\n"
      ],
      "text/markdown": [
       "1. 154431\n",
       "2. 14\n",
       "\n",
       "\n"
      ],
      "text/plain": [
       "[1] 154431     14"
      ]
     },
     "metadata": {},
     "output_type": "display_data"
    }
   ],
   "source": [
    "dim(test)"
   ]
  },
  {
   "cell_type": "code",
   "execution_count": 28,
   "metadata": {},
   "outputs": [
    {
     "data": {
      "text/html": [
       "<style>\n",
       ".list-inline {list-style: none; margin:0; padding: 0}\n",
       ".list-inline>li {display: inline-block}\n",
       ".list-inline>li:not(:last-child)::after {content: \"\\00b7\"; padding: 0 .5ex}\n",
       "</style>\n",
       "<ol class=list-inline><li>154431</li><li>39</li></ol>\n"
      ],
      "text/latex": [
       "\\begin{enumerate*}\n",
       "\\item 154431\n",
       "\\item 39\n",
       "\\end{enumerate*}\n"
      ],
      "text/markdown": [
       "1. 154431\n",
       "2. 39\n",
       "\n",
       "\n"
      ],
      "text/plain": [
       "[1] 154431     39"
      ]
     },
     "metadata": {},
     "output_type": "display_data"
    }
   ],
   "source": [
    "test_full <- expiry_test_df_1\n",
    "test_full$tld_registrar_index <- tolower(paste(test_full$tld,\n",
    "                                               test_full$reseller,sep=\"\"))\n",
    "test_full <- test_full %>% filter(!(tld_registrar_index %in% tld_registrars))\n",
    "\n",
    "dim(test_full)"
   ]
  },
  {
   "cell_type": "code",
   "execution_count": 29,
   "metadata": {},
   "outputs": [
    {
     "data": {
      "text/html": [
       "<table>\n",
       "<caption>A data.table: 6 × 40</caption>\n",
       "<thead>\n",
       "\t<tr><th scope=col>renewal_type</th><th scope=col>renewed_count</th><th scope=col>expiry_date</th><th scope=col>domain_id</th><th scope=col>domain</th><th scope=col>creation_date</th><th scope=col>status</th><th scope=col>tld</th><th scope=col>registrar</th><th scope=col>reseller</th><th scope=col>reseller_country</th><th scope=col>region</th><th scope=col>reg_period</th><th scope=col>registrant_country</th><th scope=col>renewal_status</th><th scope=col>renew_mbg</th><th scope=col>renew_type</th><th scope=col>autorenew_type</th><th scope=col>renew_date</th><th scope=col>renew_registrar</th><th scope=col>renew_reseller</th><th scope=col>reg_revenue</th><th scope=col>reg_arpt</th><th scope=col>renew_period</th><th scope=col>renew_domain_revenue</th><th scope=col>renew_arpt</th><th scope=col>reg_arpt_org</th><th scope=col>tld_registrar_index</th><th scope=col>sld</th><th scope=col>sld_type</th><th scope=col>sld_length</th><th scope=col>sld_type2</th><th scope=col>day_domains</th><th scope=col>log_reg_arpt</th><th scope=col>gibb_score</th><th scope=col>pattern</th><th scope=col>cluster</th><th scope=col>pattern_score</th><th scope=col>pattern_domain_count</th><th scope=col>first_renewal_prediction</th></tr>\n",
       "\t<tr><th scope=col>&lt;chr&gt;</th><th scope=col>&lt;int&gt;</th><th scope=col>&lt;date&gt;</th><th scope=col>&lt;int&gt;</th><th scope=col>&lt;chr&gt;</th><th scope=col>&lt;date&gt;</th><th scope=col>&lt;chr&gt;</th><th scope=col>&lt;fct&gt;</th><th scope=col>&lt;chr&gt;</th><th scope=col>&lt;chr&gt;</th><th scope=col>&lt;chr&gt;</th><th scope=col>&lt;chr&gt;</th><th scope=col>&lt;int&gt;</th><th scope=col>&lt;chr&gt;</th><th scope=col>&lt;fct&gt;</th><th scope=col>&lt;int&gt;</th><th scope=col>&lt;chr&gt;</th><th scope=col>&lt;chr&gt;</th><th scope=col>&lt;date&gt;</th><th scope=col>&lt;chr&gt;</th><th scope=col>&lt;chr&gt;</th><th scope=col>&lt;dbl&gt;</th><th scope=col>&lt;dbl&gt;</th><th scope=col>&lt;int&gt;</th><th scope=col>&lt;dbl&gt;</th><th scope=col>&lt;dbl&gt;</th><th scope=col>&lt;dbl&gt;</th><th scope=col>&lt;chr&gt;</th><th scope=col>&lt;chr&gt;</th><th scope=col>&lt;fct&gt;</th><th scope=col>&lt;int&gt;</th><th scope=col>&lt;chr&gt;</th><th scope=col>&lt;int&gt;</th><th scope=col>&lt;dbl&gt;</th><th scope=col>&lt;dbl&gt;</th><th scope=col>&lt;chr&gt;</th><th scope=col>&lt;chr&gt;</th><th scope=col>&lt;dbl&gt;</th><th scope=col>&lt;int&gt;</th><th scope=col>&lt;dbl&gt;</th></tr>\n",
       "</thead>\n",
       "<tbody>\n",
       "\t<tr><td>FirstTime</td><td>1</td><td>2020-01-22</td><td> 91639803</td><td><span style=white-space:pre-wrap>segeln.fun   </span></td><td>2019-01-22</td><td>Active</td><td>fun</td><td><span style=white-space:pre-wrap>1&amp;1 internet    </span></td><td><span style=white-space:pre-wrap>1&amp;1 internet    </span></td><td>Germany</td><td>Non China</td><td>1</td><td>NA</td><td><span style=white-space:pre-wrap>Renewed   </span></td><td>0</td><td>auto-renewal</td><td><span style=white-space:pre-wrap>realized  </span></td><td>2020-01-22</td><td><span style=white-space:pre-wrap>1&amp;1 Internet    </span></td><td><span style=white-space:pre-wrap>1&amp;1 Internet    </span></td><td>15</td><td>15</td><td>1</td><td>15</td><td>15</td><td>15</td><td><span style=white-space:pre-wrap>fun1&amp;1 internet    </span></td><td><span style=white-space:pre-wrap>segeln   </span></td><td>l</td><td>6</td><td>6l</td><td>1</td><td>2.708050</td><td>2.23</td><td><span style=white-space:pre-wrap>segeln   </span></td><td>1</td><td>1</td><td>1</td><td>0.4890293</td></tr>\n",
       "\t<tr><td>FirstTime</td><td>1</td><td>2020-03-07</td><td> 95819759</td><td>harzhotel.fun</td><td>2019-03-07</td><td>Active</td><td>fun</td><td><span style=white-space:pre-wrap>1&amp;1 internet    </span></td><td><span style=white-space:pre-wrap>1&amp;1 internet    </span></td><td>Germany</td><td>Non China</td><td>1</td><td>NA</td><td><span style=white-space:pre-wrap>Renewed   </span></td><td>0</td><td>auto-renewal</td><td><span style=white-space:pre-wrap>realized  </span></td><td>2020-03-07</td><td><span style=white-space:pre-wrap>1&amp;1 Internet    </span></td><td><span style=white-space:pre-wrap>1&amp;1 Internet    </span></td><td>15</td><td>15</td><td>1</td><td>15</td><td>15</td><td>15</td><td><span style=white-space:pre-wrap>fun1&amp;1 internet    </span></td><td>harzhotel</td><td>l</td><td>9</td><td>9l</td><td>1</td><td>2.708050</td><td>3.45</td><td>harzhotel</td><td>1</td><td>1</td><td>1</td><td>0.4570346</td></tr>\n",
       "\t<tr><td>FirstTime</td><td>1</td><td>2020-01-15</td><td> 91044973</td><td>movistar.fun </td><td>2019-01-15</td><td>Active</td><td>fun</td><td>10dencehispahard</td><td>10dencehispahard</td><td>Spain  </td><td>Non China</td><td>1</td><td>NA</td><td>Not Renewd</td><td>0</td><td>auto-renewal</td><td>unrealized</td><td>2020-01-15</td><td>10dencehispahard</td><td>10dencehispahard</td><td>15</td><td>15</td><td>1</td><td>15</td><td>15</td><td>15</td><td>fun10dencehispahard</td><td>movistar </td><td>l</td><td>8</td><td>8l</td><td>1</td><td>2.708050</td><td>8.62</td><td>movistar </td><td>1</td><td>1</td><td>1</td><td>0.5571666</td></tr>\n",
       "\t<tr><td>FirstTime</td><td>1</td><td>2020-02-01</td><td> 92472913</td><td>kuinik.fun   </td><td>2019-02-01</td><td>Active</td><td>fun</td><td>10dencehispahard</td><td>10dencehispahard</td><td>Spain  </td><td>Non China</td><td>1</td><td>NA</td><td>Not Renewd</td><td>0</td><td>auto-renewal</td><td>unrealized</td><td>2020-02-01</td><td>10dencehispahard</td><td>10dencehispahard</td><td>15</td><td>15</td><td>1</td><td>15</td><td>15</td><td>15</td><td>fun10dencehispahard</td><td>kuinik   </td><td>l</td><td>6</td><td>6l</td><td>1</td><td>2.708050</td><td>3.13</td><td>kuinik   </td><td>1</td><td>1</td><td>1</td><td>0.5202203</td></tr>\n",
       "\t<tr><td>FirstTime</td><td>1</td><td>2020-01-21</td><td> 91532433</td><td>bulgari.fun  </td><td>2019-01-21</td><td>Active</td><td>fun</td><td>1api            </td><td>1api            </td><td>Germany</td><td>Non China</td><td>1</td><td>NA</td><td>Renewed   </td><td>0</td><td>auto-renewal</td><td>realized  </td><td>2020-01-21</td><td>1API            </td><td>1API            </td><td> 5</td><td> 5</td><td>1</td><td>15</td><td>15</td><td> 5</td><td>fun1api            </td><td>bulgari  </td><td>l</td><td>7</td><td>7l</td><td>1</td><td>1.609438</td><td>4.51</td><td>bulgari  </td><td>1</td><td>1</td><td>1</td><td>0.4847403</td></tr>\n",
       "\t<tr><td>FirstTime</td><td>1</td><td>2020-04-24</td><td>101717674</td><td>gotsome.fun  </td><td>2019-04-24</td><td>Active</td><td>fun</td><td>1api            </td><td>1api            </td><td>Germany</td><td>Non China</td><td>1</td><td>NA</td><td>Not Renewd</td><td>0</td><td>auto-renewal</td><td>unrealized</td><td>2020-04-24</td><td>1API            </td><td>1API            </td><td> 5</td><td> 5</td><td>1</td><td>15</td><td>15</td><td> 5</td><td>fun1api            </td><td>gotsome  </td><td>l</td><td>7</td><td>7l</td><td>1</td><td>1.609438</td><td>6.09</td><td>gotsome  </td><td>1</td><td>1</td><td>1</td><td>0.4571582</td></tr>\n",
       "</tbody>\n",
       "</table>\n"
      ],
      "text/latex": [
       "A data.table: 6 × 40\n",
       "\\begin{tabular}{llllllllllllllllllllllllllllllllllllllll}\n",
       " renewal\\_type & renewed\\_count & expiry\\_date & domain\\_id & domain & creation\\_date & status & tld & registrar & reseller & reseller\\_country & region & reg\\_period & registrant\\_country & renewal\\_status & renew\\_mbg & renew\\_type & autorenew\\_type & renew\\_date & renew\\_registrar & renew\\_reseller & reg\\_revenue & reg\\_arpt & renew\\_period & renew\\_domain\\_revenue & renew\\_arpt & reg\\_arpt\\_org & tld\\_registrar\\_index & sld & sld\\_type & sld\\_length & sld\\_type2 & day\\_domains & log\\_reg\\_arpt & gibb\\_score & pattern & cluster & pattern\\_score & pattern\\_domain\\_count & first\\_renewal\\_prediction\\\\\n",
       " <chr> & <int> & <date> & <int> & <chr> & <date> & <chr> & <fct> & <chr> & <chr> & <chr> & <chr> & <int> & <chr> & <fct> & <int> & <chr> & <chr> & <date> & <chr> & <chr> & <dbl> & <dbl> & <int> & <dbl> & <dbl> & <dbl> & <chr> & <chr> & <fct> & <int> & <chr> & <int> & <dbl> & <dbl> & <chr> & <chr> & <dbl> & <int> & <dbl>\\\\\n",
       "\\hline\n",
       "\t FirstTime & 1 & 2020-01-22 &  91639803 & segeln.fun    & 2019-01-22 & Active & fun & 1\\&1 internet     & 1\\&1 internet     & Germany & Non China & 1 & NA & Renewed    & 0 & auto-renewal & realized   & 2020-01-22 & 1\\&1 Internet     & 1\\&1 Internet     & 15 & 15 & 1 & 15 & 15 & 15 & fun1\\&1 internet     & segeln    & l & 6 & 6l & 1 & 2.708050 & 2.23 & segeln    & 1 & 1 & 1 & 0.4890293\\\\\n",
       "\t FirstTime & 1 & 2020-03-07 &  95819759 & harzhotel.fun & 2019-03-07 & Active & fun & 1\\&1 internet     & 1\\&1 internet     & Germany & Non China & 1 & NA & Renewed    & 0 & auto-renewal & realized   & 2020-03-07 & 1\\&1 Internet     & 1\\&1 Internet     & 15 & 15 & 1 & 15 & 15 & 15 & fun1\\&1 internet     & harzhotel & l & 9 & 9l & 1 & 2.708050 & 3.45 & harzhotel & 1 & 1 & 1 & 0.4570346\\\\\n",
       "\t FirstTime & 1 & 2020-01-15 &  91044973 & movistar.fun  & 2019-01-15 & Active & fun & 10dencehispahard & 10dencehispahard & Spain   & Non China & 1 & NA & Not Renewd & 0 & auto-renewal & unrealized & 2020-01-15 & 10dencehispahard & 10dencehispahard & 15 & 15 & 1 & 15 & 15 & 15 & fun10dencehispahard & movistar  & l & 8 & 8l & 1 & 2.708050 & 8.62 & movistar  & 1 & 1 & 1 & 0.5571666\\\\\n",
       "\t FirstTime & 1 & 2020-02-01 &  92472913 & kuinik.fun    & 2019-02-01 & Active & fun & 10dencehispahard & 10dencehispahard & Spain   & Non China & 1 & NA & Not Renewd & 0 & auto-renewal & unrealized & 2020-02-01 & 10dencehispahard & 10dencehispahard & 15 & 15 & 1 & 15 & 15 & 15 & fun10dencehispahard & kuinik    & l & 6 & 6l & 1 & 2.708050 & 3.13 & kuinik    & 1 & 1 & 1 & 0.5202203\\\\\n",
       "\t FirstTime & 1 & 2020-01-21 &  91532433 & bulgari.fun   & 2019-01-21 & Active & fun & 1api             & 1api             & Germany & Non China & 1 & NA & Renewed    & 0 & auto-renewal & realized   & 2020-01-21 & 1API             & 1API             &  5 &  5 & 1 & 15 & 15 &  5 & fun1api             & bulgari   & l & 7 & 7l & 1 & 1.609438 & 4.51 & bulgari   & 1 & 1 & 1 & 0.4847403\\\\\n",
       "\t FirstTime & 1 & 2020-04-24 & 101717674 & gotsome.fun   & 2019-04-24 & Active & fun & 1api             & 1api             & Germany & Non China & 1 & NA & Not Renewd & 0 & auto-renewal & unrealized & 2020-04-24 & 1API             & 1API             &  5 &  5 & 1 & 15 & 15 &  5 & fun1api             & gotsome   & l & 7 & 7l & 1 & 1.609438 & 6.09 & gotsome   & 1 & 1 & 1 & 0.4571582\\\\\n",
       "\\end{tabular}\n"
      ],
      "text/markdown": [
       "\n",
       "A data.table: 6 × 40\n",
       "\n",
       "| renewal_type &lt;chr&gt; | renewed_count &lt;int&gt; | expiry_date &lt;date&gt; | domain_id &lt;int&gt; | domain &lt;chr&gt; | creation_date &lt;date&gt; | status &lt;chr&gt; | tld &lt;fct&gt; | registrar &lt;chr&gt; | reseller &lt;chr&gt; | reseller_country &lt;chr&gt; | region &lt;chr&gt; | reg_period &lt;int&gt; | registrant_country &lt;chr&gt; | renewal_status &lt;fct&gt; | renew_mbg &lt;int&gt; | renew_type &lt;chr&gt; | autorenew_type &lt;chr&gt; | renew_date &lt;date&gt; | renew_registrar &lt;chr&gt; | renew_reseller &lt;chr&gt; | reg_revenue &lt;dbl&gt; | reg_arpt &lt;dbl&gt; | renew_period &lt;int&gt; | renew_domain_revenue &lt;dbl&gt; | renew_arpt &lt;dbl&gt; | reg_arpt_org &lt;dbl&gt; | tld_registrar_index &lt;chr&gt; | sld &lt;chr&gt; | sld_type &lt;fct&gt; | sld_length &lt;int&gt; | sld_type2 &lt;chr&gt; | day_domains &lt;int&gt; | log_reg_arpt &lt;dbl&gt; | gibb_score &lt;dbl&gt; | pattern &lt;chr&gt; | cluster &lt;chr&gt; | pattern_score &lt;dbl&gt; | pattern_domain_count &lt;int&gt; | first_renewal_prediction &lt;dbl&gt; |\n",
       "|---|---|---|---|---|---|---|---|---|---|---|---|---|---|---|---|---|---|---|---|---|---|---|---|---|---|---|---|---|---|---|---|---|---|---|---|---|---|---|---|\n",
       "| FirstTime | 1 | 2020-01-22 |  91639803 | segeln.fun    | 2019-01-22 | Active | fun | 1&amp;1 internet     | 1&amp;1 internet     | Germany | Non China | 1 | NA | Renewed    | 0 | auto-renewal | realized   | 2020-01-22 | 1&amp;1 Internet     | 1&amp;1 Internet     | 15 | 15 | 1 | 15 | 15 | 15 | fun1&amp;1 internet     | segeln    | l | 6 | 6l | 1 | 2.708050 | 2.23 | segeln    | 1 | 1 | 1 | 0.4890293 |\n",
       "| FirstTime | 1 | 2020-03-07 |  95819759 | harzhotel.fun | 2019-03-07 | Active | fun | 1&amp;1 internet     | 1&amp;1 internet     | Germany | Non China | 1 | NA | Renewed    | 0 | auto-renewal | realized   | 2020-03-07 | 1&amp;1 Internet     | 1&amp;1 Internet     | 15 | 15 | 1 | 15 | 15 | 15 | fun1&amp;1 internet     | harzhotel | l | 9 | 9l | 1 | 2.708050 | 3.45 | harzhotel | 1 | 1 | 1 | 0.4570346 |\n",
       "| FirstTime | 1 | 2020-01-15 |  91044973 | movistar.fun  | 2019-01-15 | Active | fun | 10dencehispahard | 10dencehispahard | Spain   | Non China | 1 | NA | Not Renewd | 0 | auto-renewal | unrealized | 2020-01-15 | 10dencehispahard | 10dencehispahard | 15 | 15 | 1 | 15 | 15 | 15 | fun10dencehispahard | movistar  | l | 8 | 8l | 1 | 2.708050 | 8.62 | movistar  | 1 | 1 | 1 | 0.5571666 |\n",
       "| FirstTime | 1 | 2020-02-01 |  92472913 | kuinik.fun    | 2019-02-01 | Active | fun | 10dencehispahard | 10dencehispahard | Spain   | Non China | 1 | NA | Not Renewd | 0 | auto-renewal | unrealized | 2020-02-01 | 10dencehispahard | 10dencehispahard | 15 | 15 | 1 | 15 | 15 | 15 | fun10dencehispahard | kuinik    | l | 6 | 6l | 1 | 2.708050 | 3.13 | kuinik    | 1 | 1 | 1 | 0.5202203 |\n",
       "| FirstTime | 1 | 2020-01-21 |  91532433 | bulgari.fun   | 2019-01-21 | Active | fun | 1api             | 1api             | Germany | Non China | 1 | NA | Renewed    | 0 | auto-renewal | realized   | 2020-01-21 | 1API             | 1API             |  5 |  5 | 1 | 15 | 15 |  5 | fun1api             | bulgari   | l | 7 | 7l | 1 | 1.609438 | 4.51 | bulgari   | 1 | 1 | 1 | 0.4847403 |\n",
       "| FirstTime | 1 | 2020-04-24 | 101717674 | gotsome.fun   | 2019-04-24 | Active | fun | 1api             | 1api             | Germany | Non China | 1 | NA | Not Renewd | 0 | auto-renewal | unrealized | 2020-04-24 | 1API             | 1API             |  5 |  5 | 1 | 15 | 15 |  5 | fun1api             | gotsome   | l | 7 | 7l | 1 | 1.609438 | 6.09 | gotsome   | 1 | 1 | 1 | 0.4571582 |\n",
       "\n"
      ],
      "text/plain": [
       "  renewal_type renewed_count expiry_date domain_id domain        creation_date\n",
       "1 FirstTime    1             2020-01-22   91639803 segeln.fun    2019-01-22   \n",
       "2 FirstTime    1             2020-03-07   95819759 harzhotel.fun 2019-03-07   \n",
       "3 FirstTime    1             2020-01-15   91044973 movistar.fun  2019-01-15   \n",
       "4 FirstTime    1             2020-02-01   92472913 kuinik.fun    2019-02-01   \n",
       "5 FirstTime    1             2020-01-21   91532433 bulgari.fun   2019-01-21   \n",
       "6 FirstTime    1             2020-04-24  101717674 gotsome.fun   2019-04-24   \n",
       "  status tld registrar        reseller         reseller_country region   \n",
       "1 Active fun 1&1 internet     1&1 internet     Germany          Non China\n",
       "2 Active fun 1&1 internet     1&1 internet     Germany          Non China\n",
       "3 Active fun 10dencehispahard 10dencehispahard Spain            Non China\n",
       "4 Active fun 10dencehispahard 10dencehispahard Spain            Non China\n",
       "5 Active fun 1api             1api             Germany          Non China\n",
       "6 Active fun 1api             1api             Germany          Non China\n",
       "  reg_period registrant_country renewal_status renew_mbg renew_type  \n",
       "1 1          NA                 Renewed        0         auto-renewal\n",
       "2 1          NA                 Renewed        0         auto-renewal\n",
       "3 1          NA                 Not Renewd     0         auto-renewal\n",
       "4 1          NA                 Not Renewd     0         auto-renewal\n",
       "5 1          NA                 Renewed        0         auto-renewal\n",
       "6 1          NA                 Not Renewd     0         auto-renewal\n",
       "  autorenew_type renew_date renew_registrar  renew_reseller   reg_revenue\n",
       "1 realized       2020-01-22 1&1 Internet     1&1 Internet     15         \n",
       "2 realized       2020-03-07 1&1 Internet     1&1 Internet     15         \n",
       "3 unrealized     2020-01-15 10dencehispahard 10dencehispahard 15         \n",
       "4 unrealized     2020-02-01 10dencehispahard 10dencehispahard 15         \n",
       "5 realized       2020-01-21 1API             1API              5         \n",
       "6 unrealized     2020-04-24 1API             1API              5         \n",
       "  reg_arpt renew_period renew_domain_revenue renew_arpt reg_arpt_org\n",
       "1 15       1            15                   15         15          \n",
       "2 15       1            15                   15         15          \n",
       "3 15       1            15                   15         15          \n",
       "4 15       1            15                   15         15          \n",
       "5  5       1            15                   15          5          \n",
       "6  5       1            15                   15          5          \n",
       "  tld_registrar_index sld       sld_type sld_length sld_type2 day_domains\n",
       "1 fun1&1 internet     segeln    l        6          6l        1          \n",
       "2 fun1&1 internet     harzhotel l        9          9l        1          \n",
       "3 fun10dencehispahard movistar  l        8          8l        1          \n",
       "4 fun10dencehispahard kuinik    l        6          6l        1          \n",
       "5 fun1api             bulgari   l        7          7l        1          \n",
       "6 fun1api             gotsome   l        7          7l        1          \n",
       "  log_reg_arpt gibb_score pattern   cluster pattern_score pattern_domain_count\n",
       "1 2.708050     2.23       segeln    1       1             1                   \n",
       "2 2.708050     3.45       harzhotel 1       1             1                   \n",
       "3 2.708050     8.62       movistar  1       1             1                   \n",
       "4 2.708050     3.13       kuinik    1       1             1                   \n",
       "5 1.609438     4.51       bulgari   1       1             1                   \n",
       "6 1.609438     6.09       gotsome   1       1             1                   \n",
       "  first_renewal_prediction\n",
       "1 0.4890293               \n",
       "2 0.4570346               \n",
       "3 0.5571666               \n",
       "4 0.5202203               \n",
       "5 0.4847403               \n",
       "6 0.4571582               "
      ]
     },
     "metadata": {},
     "output_type": "display_data"
    }
   ],
   "source": [
    "test_full$first_renewal_prediction <- ranger_predict_03_reg\n",
    "head(test_full)"
   ]
  },
  {
   "cell_type": "markdown",
   "metadata": {},
   "source": [
    "# GLM on rest"
   ]
  },
  {
   "cell_type": "code",
   "execution_count": 30,
   "metadata": {},
   "outputs": [
    {
     "data": {
      "text/html": [
       "15"
      ],
      "text/latex": [
       "15"
      ],
      "text/markdown": [
       "15"
      ],
      "text/plain": [
       "[1] 15"
      ]
     },
     "metadata": {},
     "output_type": "display_data"
    },
    {
     "data": {
      "text/html": [
       "1723"
      ],
      "text/latex": [
       "1723"
      ],
      "text/markdown": [
       "1723"
      ],
      "text/plain": [
       "[1] 1723"
      ]
     },
     "metadata": {},
     "output_type": "display_data"
    },
    {
     "data": {
      "text/html": [
       "1708"
      ],
      "text/latex": [
       "1708"
      ],
      "text/markdown": [
       "1708"
      ],
      "text/plain": [
       "[1] 1708"
      ]
     },
     "metadata": {},
     "output_type": "display_data"
    },
    {
     "data": {
      "text/html": [
       "1405"
      ],
      "text/latex": [
       "1405"
      ],
      "text/markdown": [
       "1405"
      ],
      "text/plain": [
       "[1] 1405"
      ]
     },
     "metadata": {},
     "output_type": "display_data"
    },
    {
     "data": {
      "text/html": [
       "1390"
      ],
      "text/latex": [
       "1390"
      ],
      "text/markdown": [
       "1390"
      ],
      "text/plain": [
       "[1] 1390"
      ]
     },
     "metadata": {},
     "output_type": "display_data"
    }
   ],
   "source": [
    "length(tld_registrars)\n",
    "# expiry_train_prepped_2_1_sub <- list.remove(expiry_train_prepped_2_1, tld_registrars)\n",
    "# expiry_train_prepped_2_1_sub <- expiry_train_prepped_2_1[names(expiry_train_prepped_2_1) %in% tld_registrars == FALSE]\n",
    "\n",
    "expiry_train_df_1_sub <- expiry_train_df_1 %>% filter(!(tld_registrar_index %in% tld_registrars))\n",
    "length(unique(expiry_train_df_1$tld_registrar_index))\n",
    "length(unique(expiry_train_df_1_sub$tld_registrar_index))\n",
    "\n",
    "expiry_test_df_1_sub <- expiry_test_df_1 %>% filter(!(tld_registrar_index %in% tld_registrars))\n",
    "length(unique(expiry_test_df_1$tld_registrar_index))\n",
    "length(unique(expiry_test_df_1_sub$tld_registrar_index))\n",
    "\n",
    "# expiry_train_prepped_2_1 (list, less df's w/ 0 obs)\n",
    "# expiry_test_prepped_2_1  (list, less df's w/ 0 obs)"
   ]
  },
  {
   "cell_type": "code",
   "execution_count": 31,
   "metadata": {},
   "outputs": [
    {
     "data": {
      "text/html": [
       "<table>\n",
       "<caption>A data.table: 6 × 39</caption>\n",
       "<thead>\n",
       "\t<tr><th scope=col>renewal_type</th><th scope=col>renewed_count</th><th scope=col>expiry_date</th><th scope=col>domain_id</th><th scope=col>domain</th><th scope=col>creation_date</th><th scope=col>status</th><th scope=col>tld</th><th scope=col>registrar</th><th scope=col>reseller</th><th scope=col>reseller_country</th><th scope=col>region</th><th scope=col>reg_period</th><th scope=col>registrant_country</th><th scope=col>renewal_status</th><th scope=col>renew_mbg</th><th scope=col>renew_type</th><th scope=col>autorenew_type</th><th scope=col>renew_date</th><th scope=col>renew_registrar</th><th scope=col>renew_reseller</th><th scope=col>reg_revenue</th><th scope=col>reg_arpt</th><th scope=col>renew_period</th><th scope=col>renew_domain_revenue</th><th scope=col>renew_arpt</th><th scope=col>reg_arpt_org</th><th scope=col>tld_registrar_index</th><th scope=col>sld</th><th scope=col>sld_type</th><th scope=col>sld_length</th><th scope=col>sld_type2</th><th scope=col>day_domains</th><th scope=col>log_reg_arpt</th><th scope=col>gibb_score</th><th scope=col>pattern</th><th scope=col>cluster</th><th scope=col>pattern_score</th><th scope=col>pattern_domain_count</th></tr>\n",
       "\t<tr><th scope=col>&lt;chr&gt;</th><th scope=col>&lt;int&gt;</th><th scope=col>&lt;date&gt;</th><th scope=col>&lt;int&gt;</th><th scope=col>&lt;chr&gt;</th><th scope=col>&lt;date&gt;</th><th scope=col>&lt;chr&gt;</th><th scope=col>&lt;fct&gt;</th><th scope=col>&lt;chr&gt;</th><th scope=col>&lt;chr&gt;</th><th scope=col>&lt;chr&gt;</th><th scope=col>&lt;chr&gt;</th><th scope=col>&lt;int&gt;</th><th scope=col>&lt;chr&gt;</th><th scope=col>&lt;fct&gt;</th><th scope=col>&lt;int&gt;</th><th scope=col>&lt;chr&gt;</th><th scope=col>&lt;chr&gt;</th><th scope=col>&lt;date&gt;</th><th scope=col>&lt;chr&gt;</th><th scope=col>&lt;chr&gt;</th><th scope=col>&lt;dbl&gt;</th><th scope=col>&lt;dbl&gt;</th><th scope=col>&lt;int&gt;</th><th scope=col>&lt;dbl&gt;</th><th scope=col>&lt;dbl&gt;</th><th scope=col>&lt;dbl&gt;</th><th scope=col>&lt;chr&gt;</th><th scope=col>&lt;chr&gt;</th><th scope=col>&lt;fct&gt;</th><th scope=col>&lt;int&gt;</th><th scope=col>&lt;chr&gt;</th><th scope=col>&lt;int&gt;</th><th scope=col>&lt;dbl&gt;</th><th scope=col>&lt;dbl&gt;</th><th scope=col>&lt;chr&gt;</th><th scope=col>&lt;chr&gt;</th><th scope=col>&lt;dbl&gt;</th><th scope=col>&lt;int&gt;</th></tr>\n",
       "</thead>\n",
       "<tbody>\n",
       "\t<tr><td>FirstTime</td><td>1</td><td>2020-01-21</td><td>91584433</td><td><span style=white-space:pre-wrap>racefor.fun     </span></td><td>2019-01-21</td><td>Active</td><td>fun</td><td>1&amp;1 internet</td><td>1&amp;1 internet</td><td>Germany</td><td>Non China</td><td>1</td><td>NA</td><td><span style=white-space:pre-wrap>Renewed   </span></td><td>0</td><td>auto-renewal</td><td><span style=white-space:pre-wrap>realized  </span></td><td>2020-01-21</td><td>1&amp;1 Internet</td><td>1&amp;1 Internet</td><td>15</td><td>15</td><td>1</td><td>15</td><td>15</td><td>15</td><td>fun1&amp;1 internet</td><td><span style=white-space:pre-wrap>racefor     </span></td><td>l </td><td> 7</td><td>7l </td><td>1</td><td>2.70805</td><td> 6.77</td><td><span style=white-space:pre-wrap>racefor     </span></td><td>1</td><td>1</td><td>1</td></tr>\n",
       "\t<tr><td>FirstTime</td><td>1</td><td>2020-01-30</td><td>92254793</td><td><span style=white-space:pre-wrap>united4.fun     </span></td><td>2019-01-30</td><td>Active</td><td>fun</td><td>1&amp;1 internet</td><td>1&amp;1 internet</td><td>Germany</td><td>Non China</td><td>1</td><td>NA</td><td><span style=white-space:pre-wrap>Renewed   </span></td><td>0</td><td>auto-renewal</td><td><span style=white-space:pre-wrap>realized  </span></td><td>2020-01-30</td><td>1&amp;1 Internet</td><td>1&amp;1 Internet</td><td>15</td><td>15</td><td>1</td><td>15</td><td>15</td><td>15</td><td>fun1&amp;1 internet</td><td><span style=white-space:pre-wrap>united4     </span></td><td>ln</td><td> 7</td><td>7ln</td><td>1</td><td>2.70805</td><td> 8.65</td><td><span style=white-space:pre-wrap>united4     </span></td><td>1</td><td>1</td><td>1</td></tr>\n",
       "\t<tr><td>FirstTime</td><td>1</td><td>2020-02-04</td><td>92827233</td><td><span style=white-space:pre-wrap>bereal.fun      </span></td><td>2019-02-04</td><td>Active</td><td>fun</td><td>1&amp;1 internet</td><td>1&amp;1 internet</td><td>Germany</td><td>Non China</td><td>1</td><td>NA</td><td><span style=white-space:pre-wrap>Renewed   </span></td><td>0</td><td>auto-renewal</td><td><span style=white-space:pre-wrap>realized  </span></td><td>2020-02-04</td><td>1&amp;1 Internet</td><td>1&amp;1 Internet</td><td>15</td><td>15</td><td>1</td><td>15</td><td>15</td><td>15</td><td>fun1&amp;1 internet</td><td><span style=white-space:pre-wrap>bereal      </span></td><td>l </td><td> 6</td><td>6l </td><td>1</td><td>2.70805</td><td>13.09</td><td><span style=white-space:pre-wrap>bereal      </span></td><td>1</td><td>1</td><td>1</td></tr>\n",
       "\t<tr><td>FirstTime</td><td>1</td><td>2020-02-12</td><td>93490823</td><td>dogsoutdoors.fun</td><td>2019-02-12</td><td>Active</td><td>fun</td><td>1&amp;1 internet</td><td>1&amp;1 internet</td><td>Germany</td><td>Non China</td><td>1</td><td>NA</td><td>Not Renewd</td><td>0</td><td>auto-renewal</td><td>unrealized</td><td>2020-02-12</td><td>1&amp;1 Internet</td><td>1&amp;1 Internet</td><td>15</td><td>15</td><td>1</td><td>15</td><td>15</td><td>15</td><td>fun1&amp;1 internet</td><td>dogsoutdoors</td><td>l </td><td>12</td><td>12l</td><td>1</td><td>2.70805</td><td> 2.44</td><td>dogsoutdoors</td><td>1</td><td>1</td><td>1</td></tr>\n",
       "\t<tr><td>FirstTime</td><td>1</td><td>2020-02-15</td><td>93767978</td><td><span style=white-space:pre-wrap>rosalux.fun     </span></td><td>2019-02-15</td><td>Active</td><td>fun</td><td>1&amp;1 internet</td><td>1&amp;1 internet</td><td>Germany</td><td>Non China</td><td>1</td><td>NA</td><td><span style=white-space:pre-wrap>Renewed   </span></td><td>0</td><td>auto-renewal</td><td><span style=white-space:pre-wrap>realized  </span></td><td>2020-02-15</td><td>1&amp;1 Internet</td><td>1&amp;1 Internet</td><td>15</td><td>15</td><td>1</td><td>15</td><td>15</td><td>15</td><td>fun1&amp;1 internet</td><td><span style=white-space:pre-wrap>rosalux     </span></td><td>l </td><td> 7</td><td>7l </td><td>1</td><td>2.70805</td><td> 2.34</td><td><span style=white-space:pre-wrap>rosalux     </span></td><td>1</td><td>1</td><td>1</td></tr>\n",
       "\t<tr><td>FirstTime</td><td>1</td><td>2020-02-16</td><td>93823708</td><td><span style=white-space:pre-wrap>verygood.fun    </span></td><td>2019-02-16</td><td>Active</td><td>fun</td><td>1&amp;1 internet</td><td>1&amp;1 internet</td><td>Germany</td><td>Non China</td><td>1</td><td>NA</td><td><span style=white-space:pre-wrap>Renewed   </span></td><td>0</td><td>auto-renewal</td><td><span style=white-space:pre-wrap>realized  </span></td><td>2020-02-16</td><td>1&amp;1 Internet</td><td>1&amp;1 Internet</td><td>15</td><td>15</td><td>1</td><td>15</td><td>15</td><td>15</td><td>fun1&amp;1 internet</td><td><span style=white-space:pre-wrap>verygood    </span></td><td>l </td><td> 8</td><td>8l </td><td>1</td><td>2.70805</td><td> 3.64</td><td><span style=white-space:pre-wrap>verygood    </span></td><td>1</td><td>1</td><td>1</td></tr>\n",
       "</tbody>\n",
       "</table>\n"
      ],
      "text/latex": [
       "A data.table: 6 × 39\n",
       "\\begin{tabular}{lllllllllllllllllllllllllllllllllllllll}\n",
       " renewal\\_type & renewed\\_count & expiry\\_date & domain\\_id & domain & creation\\_date & status & tld & registrar & reseller & reseller\\_country & region & reg\\_period & registrant\\_country & renewal\\_status & renew\\_mbg & renew\\_type & autorenew\\_type & renew\\_date & renew\\_registrar & renew\\_reseller & reg\\_revenue & reg\\_arpt & renew\\_period & renew\\_domain\\_revenue & renew\\_arpt & reg\\_arpt\\_org & tld\\_registrar\\_index & sld & sld\\_type & sld\\_length & sld\\_type2 & day\\_domains & log\\_reg\\_arpt & gibb\\_score & pattern & cluster & pattern\\_score & pattern\\_domain\\_count\\\\\n",
       " <chr> & <int> & <date> & <int> & <chr> & <date> & <chr> & <fct> & <chr> & <chr> & <chr> & <chr> & <int> & <chr> & <fct> & <int> & <chr> & <chr> & <date> & <chr> & <chr> & <dbl> & <dbl> & <int> & <dbl> & <dbl> & <dbl> & <chr> & <chr> & <fct> & <int> & <chr> & <int> & <dbl> & <dbl> & <chr> & <chr> & <dbl> & <int>\\\\\n",
       "\\hline\n",
       "\t FirstTime & 1 & 2020-01-21 & 91584433 & racefor.fun      & 2019-01-21 & Active & fun & 1\\&1 internet & 1\\&1 internet & Germany & Non China & 1 & NA & Renewed    & 0 & auto-renewal & realized   & 2020-01-21 & 1\\&1 Internet & 1\\&1 Internet & 15 & 15 & 1 & 15 & 15 & 15 & fun1\\&1 internet & racefor      & l  &  7 & 7l  & 1 & 2.70805 &  6.77 & racefor      & 1 & 1 & 1\\\\\n",
       "\t FirstTime & 1 & 2020-01-30 & 92254793 & united4.fun      & 2019-01-30 & Active & fun & 1\\&1 internet & 1\\&1 internet & Germany & Non China & 1 & NA & Renewed    & 0 & auto-renewal & realized   & 2020-01-30 & 1\\&1 Internet & 1\\&1 Internet & 15 & 15 & 1 & 15 & 15 & 15 & fun1\\&1 internet & united4      & ln &  7 & 7ln & 1 & 2.70805 &  8.65 & united4      & 1 & 1 & 1\\\\\n",
       "\t FirstTime & 1 & 2020-02-04 & 92827233 & bereal.fun       & 2019-02-04 & Active & fun & 1\\&1 internet & 1\\&1 internet & Germany & Non China & 1 & NA & Renewed    & 0 & auto-renewal & realized   & 2020-02-04 & 1\\&1 Internet & 1\\&1 Internet & 15 & 15 & 1 & 15 & 15 & 15 & fun1\\&1 internet & bereal       & l  &  6 & 6l  & 1 & 2.70805 & 13.09 & bereal       & 1 & 1 & 1\\\\\n",
       "\t FirstTime & 1 & 2020-02-12 & 93490823 & dogsoutdoors.fun & 2019-02-12 & Active & fun & 1\\&1 internet & 1\\&1 internet & Germany & Non China & 1 & NA & Not Renewd & 0 & auto-renewal & unrealized & 2020-02-12 & 1\\&1 Internet & 1\\&1 Internet & 15 & 15 & 1 & 15 & 15 & 15 & fun1\\&1 internet & dogsoutdoors & l  & 12 & 12l & 1 & 2.70805 &  2.44 & dogsoutdoors & 1 & 1 & 1\\\\\n",
       "\t FirstTime & 1 & 2020-02-15 & 93767978 & rosalux.fun      & 2019-02-15 & Active & fun & 1\\&1 internet & 1\\&1 internet & Germany & Non China & 1 & NA & Renewed    & 0 & auto-renewal & realized   & 2020-02-15 & 1\\&1 Internet & 1\\&1 Internet & 15 & 15 & 1 & 15 & 15 & 15 & fun1\\&1 internet & rosalux      & l  &  7 & 7l  & 1 & 2.70805 &  2.34 & rosalux      & 1 & 1 & 1\\\\\n",
       "\t FirstTime & 1 & 2020-02-16 & 93823708 & verygood.fun     & 2019-02-16 & Active & fun & 1\\&1 internet & 1\\&1 internet & Germany & Non China & 1 & NA & Renewed    & 0 & auto-renewal & realized   & 2020-02-16 & 1\\&1 Internet & 1\\&1 Internet & 15 & 15 & 1 & 15 & 15 & 15 & fun1\\&1 internet & verygood     & l  &  8 & 8l  & 1 & 2.70805 &  3.64 & verygood     & 1 & 1 & 1\\\\\n",
       "\\end{tabular}\n"
      ],
      "text/markdown": [
       "\n",
       "A data.table: 6 × 39\n",
       "\n",
       "| renewal_type &lt;chr&gt; | renewed_count &lt;int&gt; | expiry_date &lt;date&gt; | domain_id &lt;int&gt; | domain &lt;chr&gt; | creation_date &lt;date&gt; | status &lt;chr&gt; | tld &lt;fct&gt; | registrar &lt;chr&gt; | reseller &lt;chr&gt; | reseller_country &lt;chr&gt; | region &lt;chr&gt; | reg_period &lt;int&gt; | registrant_country &lt;chr&gt; | renewal_status &lt;fct&gt; | renew_mbg &lt;int&gt; | renew_type &lt;chr&gt; | autorenew_type &lt;chr&gt; | renew_date &lt;date&gt; | renew_registrar &lt;chr&gt; | renew_reseller &lt;chr&gt; | reg_revenue &lt;dbl&gt; | reg_arpt &lt;dbl&gt; | renew_period &lt;int&gt; | renew_domain_revenue &lt;dbl&gt; | renew_arpt &lt;dbl&gt; | reg_arpt_org &lt;dbl&gt; | tld_registrar_index &lt;chr&gt; | sld &lt;chr&gt; | sld_type &lt;fct&gt; | sld_length &lt;int&gt; | sld_type2 &lt;chr&gt; | day_domains &lt;int&gt; | log_reg_arpt &lt;dbl&gt; | gibb_score &lt;dbl&gt; | pattern &lt;chr&gt; | cluster &lt;chr&gt; | pattern_score &lt;dbl&gt; | pattern_domain_count &lt;int&gt; |\n",
       "|---|---|---|---|---|---|---|---|---|---|---|---|---|---|---|---|---|---|---|---|---|---|---|---|---|---|---|---|---|---|---|---|---|---|---|---|---|---|---|\n",
       "| FirstTime | 1 | 2020-01-21 | 91584433 | racefor.fun      | 2019-01-21 | Active | fun | 1&amp;1 internet | 1&amp;1 internet | Germany | Non China | 1 | NA | Renewed    | 0 | auto-renewal | realized   | 2020-01-21 | 1&amp;1 Internet | 1&amp;1 Internet | 15 | 15 | 1 | 15 | 15 | 15 | fun1&amp;1 internet | racefor      | l  |  7 | 7l  | 1 | 2.70805 |  6.77 | racefor      | 1 | 1 | 1 |\n",
       "| FirstTime | 1 | 2020-01-30 | 92254793 | united4.fun      | 2019-01-30 | Active | fun | 1&amp;1 internet | 1&amp;1 internet | Germany | Non China | 1 | NA | Renewed    | 0 | auto-renewal | realized   | 2020-01-30 | 1&amp;1 Internet | 1&amp;1 Internet | 15 | 15 | 1 | 15 | 15 | 15 | fun1&amp;1 internet | united4      | ln |  7 | 7ln | 1 | 2.70805 |  8.65 | united4      | 1 | 1 | 1 |\n",
       "| FirstTime | 1 | 2020-02-04 | 92827233 | bereal.fun       | 2019-02-04 | Active | fun | 1&amp;1 internet | 1&amp;1 internet | Germany | Non China | 1 | NA | Renewed    | 0 | auto-renewal | realized   | 2020-02-04 | 1&amp;1 Internet | 1&amp;1 Internet | 15 | 15 | 1 | 15 | 15 | 15 | fun1&amp;1 internet | bereal       | l  |  6 | 6l  | 1 | 2.70805 | 13.09 | bereal       | 1 | 1 | 1 |\n",
       "| FirstTime | 1 | 2020-02-12 | 93490823 | dogsoutdoors.fun | 2019-02-12 | Active | fun | 1&amp;1 internet | 1&amp;1 internet | Germany | Non China | 1 | NA | Not Renewd | 0 | auto-renewal | unrealized | 2020-02-12 | 1&amp;1 Internet | 1&amp;1 Internet | 15 | 15 | 1 | 15 | 15 | 15 | fun1&amp;1 internet | dogsoutdoors | l  | 12 | 12l | 1 | 2.70805 |  2.44 | dogsoutdoors | 1 | 1 | 1 |\n",
       "| FirstTime | 1 | 2020-02-15 | 93767978 | rosalux.fun      | 2019-02-15 | Active | fun | 1&amp;1 internet | 1&amp;1 internet | Germany | Non China | 1 | NA | Renewed    | 0 | auto-renewal | realized   | 2020-02-15 | 1&amp;1 Internet | 1&amp;1 Internet | 15 | 15 | 1 | 15 | 15 | 15 | fun1&amp;1 internet | rosalux      | l  |  7 | 7l  | 1 | 2.70805 |  2.34 | rosalux      | 1 | 1 | 1 |\n",
       "| FirstTime | 1 | 2020-02-16 | 93823708 | verygood.fun     | 2019-02-16 | Active | fun | 1&amp;1 internet | 1&amp;1 internet | Germany | Non China | 1 | NA | Renewed    | 0 | auto-renewal | realized   | 2020-02-16 | 1&amp;1 Internet | 1&amp;1 Internet | 15 | 15 | 1 | 15 | 15 | 15 | fun1&amp;1 internet | verygood     | l  |  8 | 8l  | 1 | 2.70805 |  3.64 | verygood     | 1 | 1 | 1 |\n",
       "\n"
      ],
      "text/plain": [
       "  renewal_type renewed_count expiry_date domain_id domain          \n",
       "1 FirstTime    1             2020-01-21  91584433  racefor.fun     \n",
       "2 FirstTime    1             2020-01-30  92254793  united4.fun     \n",
       "3 FirstTime    1             2020-02-04  92827233  bereal.fun      \n",
       "4 FirstTime    1             2020-02-12  93490823  dogsoutdoors.fun\n",
       "5 FirstTime    1             2020-02-15  93767978  rosalux.fun     \n",
       "6 FirstTime    1             2020-02-16  93823708  verygood.fun    \n",
       "  creation_date status tld registrar    reseller     reseller_country region   \n",
       "1 2019-01-21    Active fun 1&1 internet 1&1 internet Germany          Non China\n",
       "2 2019-01-30    Active fun 1&1 internet 1&1 internet Germany          Non China\n",
       "3 2019-02-04    Active fun 1&1 internet 1&1 internet Germany          Non China\n",
       "4 2019-02-12    Active fun 1&1 internet 1&1 internet Germany          Non China\n",
       "5 2019-02-15    Active fun 1&1 internet 1&1 internet Germany          Non China\n",
       "6 2019-02-16    Active fun 1&1 internet 1&1 internet Germany          Non China\n",
       "  reg_period registrant_country renewal_status renew_mbg renew_type  \n",
       "1 1          NA                 Renewed        0         auto-renewal\n",
       "2 1          NA                 Renewed        0         auto-renewal\n",
       "3 1          NA                 Renewed        0         auto-renewal\n",
       "4 1          NA                 Not Renewd     0         auto-renewal\n",
       "5 1          NA                 Renewed        0         auto-renewal\n",
       "6 1          NA                 Renewed        0         auto-renewal\n",
       "  autorenew_type renew_date renew_registrar renew_reseller reg_revenue reg_arpt\n",
       "1 realized       2020-01-21 1&1 Internet    1&1 Internet   15          15      \n",
       "2 realized       2020-01-30 1&1 Internet    1&1 Internet   15          15      \n",
       "3 realized       2020-02-04 1&1 Internet    1&1 Internet   15          15      \n",
       "4 unrealized     2020-02-12 1&1 Internet    1&1 Internet   15          15      \n",
       "5 realized       2020-02-15 1&1 Internet    1&1 Internet   15          15      \n",
       "6 realized       2020-02-16 1&1 Internet    1&1 Internet   15          15      \n",
       "  renew_period renew_domain_revenue renew_arpt reg_arpt_org tld_registrar_index\n",
       "1 1            15                   15         15           fun1&1 internet    \n",
       "2 1            15                   15         15           fun1&1 internet    \n",
       "3 1            15                   15         15           fun1&1 internet    \n",
       "4 1            15                   15         15           fun1&1 internet    \n",
       "5 1            15                   15         15           fun1&1 internet    \n",
       "6 1            15                   15         15           fun1&1 internet    \n",
       "  sld          sld_type sld_length sld_type2 day_domains log_reg_arpt\n",
       "1 racefor      l         7         7l        1           2.70805     \n",
       "2 united4      ln        7         7ln       1           2.70805     \n",
       "3 bereal       l         6         6l        1           2.70805     \n",
       "4 dogsoutdoors l        12         12l       1           2.70805     \n",
       "5 rosalux      l         7         7l        1           2.70805     \n",
       "6 verygood     l         8         8l        1           2.70805     \n",
       "  gibb_score pattern      cluster pattern_score pattern_domain_count\n",
       "1  6.77      racefor      1       1             1                   \n",
       "2  8.65      united4      1       1             1                   \n",
       "3 13.09      bereal       1       1             1                   \n",
       "4  2.44      dogsoutdoors 1       1             1                   \n",
       "5  2.34      rosalux      1       1             1                   \n",
       "6  3.64      verygood     1       1             1                   "
      ]
     },
     "metadata": {},
     "output_type": "display_data"
    }
   ],
   "source": [
    "head(expiry_train_df_1_sub)"
   ]
  },
  {
   "cell_type": "code",
   "execution_count": 50,
   "metadata": {},
   "outputs": [
    {
     "name": "stderr",
     "output_type": "stream",
     "text": [
      "Warning message:\n",
      "“glm.fit: fitted probabilities numerically 0 or 1 occurred”\n"
     ]
    },
    {
     "name": "stdout",
     "output_type": "stream",
     "text": [
      "model fitting: 766.265 sec elapsed\n"
     ]
    }
   ],
   "source": [
    "# model fitting: 335.093 sec elapsed (8 core)\n",
    "tic(\"model fitting\")\n",
    "first_renewal_model_expiry_train_agg <- build_model_first_renewal_agg(expiry_train_df_1_sub)\n",
    "toc()\n",
    "# tic(\"model saving\")\n",
    "# saveRDS(first_renewal_model_expiry_train, \"../../data/output/first_renewal_model_expiry_train\")\n",
    "# toc()\n"
   ]
  },
  {
   "cell_type": "code",
   "execution_count": 53,
   "metadata": {},
   "outputs": [],
   "source": [
    "seg_glm_expiry_agg <- predict_first_renewal_agg(expiry_test_df_1_sub, first_renewal_model_expiry_train_agg)"
   ]
  },
  {
   "cell_type": "code",
   "execution_count": 54,
   "metadata": {},
   "outputs": [
    {
     "data": {
      "text/html": [
       "<table>\n",
       "<caption>A data.table: 6 × 41</caption>\n",
       "<thead>\n",
       "\t<tr><th scope=col>renewal_type</th><th scope=col>renewed_count</th><th scope=col>expiry_date</th><th scope=col>domain_id</th><th scope=col>domain</th><th scope=col>creation_date</th><th scope=col>status</th><th scope=col>tld</th><th scope=col>registrar</th><th scope=col>reseller</th><th scope=col>reseller_country</th><th scope=col>region</th><th scope=col>reg_period</th><th scope=col>registrant_country</th><th scope=col>renewal_status</th><th scope=col>renew_mbg</th><th scope=col>renew_type</th><th scope=col>autorenew_type</th><th scope=col>renew_date</th><th scope=col>renew_registrar</th><th scope=col>renew_reseller</th><th scope=col>reg_revenue</th><th scope=col>reg_arpt</th><th scope=col>renew_period</th><th scope=col>renew_domain_revenue</th><th scope=col>renew_arpt</th><th scope=col>reg_arpt_org</th><th scope=col>tld_registrar_index</th><th scope=col>sld</th><th scope=col>sld_type</th><th scope=col>sld_length</th><th scope=col>sld_type2</th><th scope=col>day_domains</th><th scope=col>log_reg_arpt</th><th scope=col>gibb_score</th><th scope=col>pattern</th><th scope=col>cluster</th><th scope=col>pattern_score</th><th scope=col>pattern_domain_count</th><th scope=col>probabilities</th><th scope=col>first_renewal_prediction</th></tr>\n",
       "\t<tr><th scope=col>&lt;chr&gt;</th><th scope=col>&lt;int&gt;</th><th scope=col>&lt;date&gt;</th><th scope=col>&lt;int&gt;</th><th scope=col>&lt;chr&gt;</th><th scope=col>&lt;date&gt;</th><th scope=col>&lt;chr&gt;</th><th scope=col>&lt;fct&gt;</th><th scope=col>&lt;chr&gt;</th><th scope=col>&lt;chr&gt;</th><th scope=col>&lt;chr&gt;</th><th scope=col>&lt;chr&gt;</th><th scope=col>&lt;int&gt;</th><th scope=col>&lt;chr&gt;</th><th scope=col>&lt;fct&gt;</th><th scope=col>&lt;int&gt;</th><th scope=col>&lt;chr&gt;</th><th scope=col>&lt;chr&gt;</th><th scope=col>&lt;date&gt;</th><th scope=col>&lt;chr&gt;</th><th scope=col>&lt;chr&gt;</th><th scope=col>&lt;dbl&gt;</th><th scope=col>&lt;dbl&gt;</th><th scope=col>&lt;int&gt;</th><th scope=col>&lt;dbl&gt;</th><th scope=col>&lt;dbl&gt;</th><th scope=col>&lt;dbl&gt;</th><th scope=col>&lt;chr&gt;</th><th scope=col>&lt;chr&gt;</th><th scope=col>&lt;fct&gt;</th><th scope=col>&lt;int&gt;</th><th scope=col>&lt;chr&gt;</th><th scope=col>&lt;int&gt;</th><th scope=col>&lt;dbl&gt;</th><th scope=col>&lt;dbl&gt;</th><th scope=col>&lt;chr&gt;</th><th scope=col>&lt;chr&gt;</th><th scope=col>&lt;dbl&gt;</th><th scope=col>&lt;int&gt;</th><th scope=col>&lt;dbl&gt;</th><th scope=col>&lt;dbl&gt;</th></tr>\n",
       "</thead>\n",
       "<tbody>\n",
       "\t<tr><td>FirstTime</td><td>1</td><td>2020-01-22</td><td> 91639803</td><td><span style=white-space:pre-wrap>segeln.fun   </span></td><td>2019-01-22</td><td>Active</td><td>fun</td><td><span style=white-space:pre-wrap>1&amp;1 internet    </span></td><td><span style=white-space:pre-wrap>1&amp;1 internet    </span></td><td>Germany</td><td>Non China</td><td>1</td><td>NA</td><td><span style=white-space:pre-wrap>Renewed   </span></td><td>0</td><td>auto-renewal</td><td><span style=white-space:pre-wrap>realized  </span></td><td>2020-01-22</td><td><span style=white-space:pre-wrap>1&amp;1 Internet    </span></td><td><span style=white-space:pre-wrap>1&amp;1 Internet    </span></td><td>15</td><td>15</td><td>1</td><td>15</td><td>15</td><td>15</td><td><span style=white-space:pre-wrap>fun1&amp;1 internet    </span></td><td><span style=white-space:pre-wrap>segeln   </span></td><td>l</td><td>6</td><td>6l</td><td>1</td><td>2.708050</td><td>2.23</td><td><span style=white-space:pre-wrap>segeln   </span></td><td>1</td><td>1</td><td>1</td><td>0.5033386</td><td>0.503</td></tr>\n",
       "\t<tr><td>FirstTime</td><td>1</td><td>2020-03-07</td><td> 95819759</td><td>harzhotel.fun</td><td>2019-03-07</td><td>Active</td><td>fun</td><td><span style=white-space:pre-wrap>1&amp;1 internet    </span></td><td><span style=white-space:pre-wrap>1&amp;1 internet    </span></td><td>Germany</td><td>Non China</td><td>1</td><td>NA</td><td><span style=white-space:pre-wrap>Renewed   </span></td><td>0</td><td>auto-renewal</td><td><span style=white-space:pre-wrap>realized  </span></td><td>2020-03-07</td><td><span style=white-space:pre-wrap>1&amp;1 Internet    </span></td><td><span style=white-space:pre-wrap>1&amp;1 Internet    </span></td><td>15</td><td>15</td><td>1</td><td>15</td><td>15</td><td>15</td><td><span style=white-space:pre-wrap>fun1&amp;1 internet    </span></td><td>harzhotel</td><td>l</td><td>9</td><td>9l</td><td>1</td><td>2.708050</td><td>3.45</td><td>harzhotel</td><td>1</td><td>1</td><td>1</td><td>0.4872029</td><td>0.487</td></tr>\n",
       "\t<tr><td>FirstTime</td><td>1</td><td>2020-01-15</td><td> 91044973</td><td>movistar.fun </td><td>2019-01-15</td><td>Active</td><td>fun</td><td>10dencehispahard</td><td>10dencehispahard</td><td>Spain  </td><td>Non China</td><td>1</td><td>NA</td><td>Not Renewd</td><td>0</td><td>auto-renewal</td><td>unrealized</td><td>2020-01-15</td><td>10dencehispahard</td><td>10dencehispahard</td><td>15</td><td>15</td><td>1</td><td>15</td><td>15</td><td>15</td><td>fun10dencehispahard</td><td>movistar </td><td>l</td><td>8</td><td>8l</td><td>1</td><td>2.708050</td><td>8.62</td><td>movistar </td><td>1</td><td>1</td><td>1</td><td>0.1668106</td><td>0.167</td></tr>\n",
       "\t<tr><td>FirstTime</td><td>1</td><td>2020-02-01</td><td> 92472913</td><td>kuinik.fun   </td><td>2019-02-01</td><td>Active</td><td>fun</td><td>10dencehispahard</td><td>10dencehispahard</td><td>Spain  </td><td>Non China</td><td>1</td><td>NA</td><td>Not Renewd</td><td>0</td><td>auto-renewal</td><td>unrealized</td><td>2020-02-01</td><td>10dencehispahard</td><td>10dencehispahard</td><td>15</td><td>15</td><td>1</td><td>15</td><td>15</td><td>15</td><td>fun10dencehispahard</td><td>kuinik   </td><td>l</td><td>6</td><td>6l</td><td>1</td><td>2.708050</td><td>3.13</td><td>kuinik   </td><td>1</td><td>1</td><td>1</td><td>0.1645742</td><td>0.165</td></tr>\n",
       "\t<tr><td>FirstTime</td><td>1</td><td>2020-01-21</td><td> 91532433</td><td>bulgari.fun  </td><td>2019-01-21</td><td>Active</td><td>fun</td><td>1api            </td><td>1api            </td><td>Germany</td><td>Non China</td><td>1</td><td>NA</td><td>Renewed   </td><td>0</td><td>auto-renewal</td><td>realized  </td><td>2020-01-21</td><td>1API            </td><td>1API            </td><td> 5</td><td> 5</td><td>1</td><td>15</td><td>15</td><td> 5</td><td>fun1api            </td><td>bulgari  </td><td>l</td><td>7</td><td>7l</td><td>1</td><td>1.609438</td><td>4.51</td><td>bulgari  </td><td>1</td><td>1</td><td>1</td><td>0.4077363</td><td>0.408</td></tr>\n",
       "\t<tr><td>FirstTime</td><td>1</td><td>2020-04-24</td><td>101717674</td><td>gotsome.fun  </td><td>2019-04-24</td><td>Active</td><td>fun</td><td>1api            </td><td>1api            </td><td>Germany</td><td>Non China</td><td>1</td><td>NA</td><td>Not Renewd</td><td>0</td><td>auto-renewal</td><td>unrealized</td><td>2020-04-24</td><td>1API            </td><td>1API            </td><td> 5</td><td> 5</td><td>1</td><td>15</td><td>15</td><td> 5</td><td>fun1api            </td><td>gotsome  </td><td>l</td><td>7</td><td>7l</td><td>1</td><td>1.609438</td><td>6.09</td><td>gotsome  </td><td>1</td><td>1</td><td>1</td><td>0.4125760</td><td>0.413</td></tr>\n",
       "</tbody>\n",
       "</table>\n"
      ],
      "text/latex": [
       "A data.table: 6 × 41\n",
       "\\begin{tabular}{lllllllllllllllllllllllllllllllllllllllll}\n",
       " renewal\\_type & renewed\\_count & expiry\\_date & domain\\_id & domain & creation\\_date & status & tld & registrar & reseller & reseller\\_country & region & reg\\_period & registrant\\_country & renewal\\_status & renew\\_mbg & renew\\_type & autorenew\\_type & renew\\_date & renew\\_registrar & renew\\_reseller & reg\\_revenue & reg\\_arpt & renew\\_period & renew\\_domain\\_revenue & renew\\_arpt & reg\\_arpt\\_org & tld\\_registrar\\_index & sld & sld\\_type & sld\\_length & sld\\_type2 & day\\_domains & log\\_reg\\_arpt & gibb\\_score & pattern & cluster & pattern\\_score & pattern\\_domain\\_count & probabilities & first\\_renewal\\_prediction\\\\\n",
       " <chr> & <int> & <date> & <int> & <chr> & <date> & <chr> & <fct> & <chr> & <chr> & <chr> & <chr> & <int> & <chr> & <fct> & <int> & <chr> & <chr> & <date> & <chr> & <chr> & <dbl> & <dbl> & <int> & <dbl> & <dbl> & <dbl> & <chr> & <chr> & <fct> & <int> & <chr> & <int> & <dbl> & <dbl> & <chr> & <chr> & <dbl> & <int> & <dbl> & <dbl>\\\\\n",
       "\\hline\n",
       "\t FirstTime & 1 & 2020-01-22 &  91639803 & segeln.fun    & 2019-01-22 & Active & fun & 1\\&1 internet     & 1\\&1 internet     & Germany & Non China & 1 & NA & Renewed    & 0 & auto-renewal & realized   & 2020-01-22 & 1\\&1 Internet     & 1\\&1 Internet     & 15 & 15 & 1 & 15 & 15 & 15 & fun1\\&1 internet     & segeln    & l & 6 & 6l & 1 & 2.708050 & 2.23 & segeln    & 1 & 1 & 1 & 0.5033386 & 0.503\\\\\n",
       "\t FirstTime & 1 & 2020-03-07 &  95819759 & harzhotel.fun & 2019-03-07 & Active & fun & 1\\&1 internet     & 1\\&1 internet     & Germany & Non China & 1 & NA & Renewed    & 0 & auto-renewal & realized   & 2020-03-07 & 1\\&1 Internet     & 1\\&1 Internet     & 15 & 15 & 1 & 15 & 15 & 15 & fun1\\&1 internet     & harzhotel & l & 9 & 9l & 1 & 2.708050 & 3.45 & harzhotel & 1 & 1 & 1 & 0.4872029 & 0.487\\\\\n",
       "\t FirstTime & 1 & 2020-01-15 &  91044973 & movistar.fun  & 2019-01-15 & Active & fun & 10dencehispahard & 10dencehispahard & Spain   & Non China & 1 & NA & Not Renewd & 0 & auto-renewal & unrealized & 2020-01-15 & 10dencehispahard & 10dencehispahard & 15 & 15 & 1 & 15 & 15 & 15 & fun10dencehispahard & movistar  & l & 8 & 8l & 1 & 2.708050 & 8.62 & movistar  & 1 & 1 & 1 & 0.1668106 & 0.167\\\\\n",
       "\t FirstTime & 1 & 2020-02-01 &  92472913 & kuinik.fun    & 2019-02-01 & Active & fun & 10dencehispahard & 10dencehispahard & Spain   & Non China & 1 & NA & Not Renewd & 0 & auto-renewal & unrealized & 2020-02-01 & 10dencehispahard & 10dencehispahard & 15 & 15 & 1 & 15 & 15 & 15 & fun10dencehispahard & kuinik    & l & 6 & 6l & 1 & 2.708050 & 3.13 & kuinik    & 1 & 1 & 1 & 0.1645742 & 0.165\\\\\n",
       "\t FirstTime & 1 & 2020-01-21 &  91532433 & bulgari.fun   & 2019-01-21 & Active & fun & 1api             & 1api             & Germany & Non China & 1 & NA & Renewed    & 0 & auto-renewal & realized   & 2020-01-21 & 1API             & 1API             &  5 &  5 & 1 & 15 & 15 &  5 & fun1api             & bulgari   & l & 7 & 7l & 1 & 1.609438 & 4.51 & bulgari   & 1 & 1 & 1 & 0.4077363 & 0.408\\\\\n",
       "\t FirstTime & 1 & 2020-04-24 & 101717674 & gotsome.fun   & 2019-04-24 & Active & fun & 1api             & 1api             & Germany & Non China & 1 & NA & Not Renewd & 0 & auto-renewal & unrealized & 2020-04-24 & 1API             & 1API             &  5 &  5 & 1 & 15 & 15 &  5 & fun1api             & gotsome   & l & 7 & 7l & 1 & 1.609438 & 6.09 & gotsome   & 1 & 1 & 1 & 0.4125760 & 0.413\\\\\n",
       "\\end{tabular}\n"
      ],
      "text/markdown": [
       "\n",
       "A data.table: 6 × 41\n",
       "\n",
       "| renewal_type &lt;chr&gt; | renewed_count &lt;int&gt; | expiry_date &lt;date&gt; | domain_id &lt;int&gt; | domain &lt;chr&gt; | creation_date &lt;date&gt; | status &lt;chr&gt; | tld &lt;fct&gt; | registrar &lt;chr&gt; | reseller &lt;chr&gt; | reseller_country &lt;chr&gt; | region &lt;chr&gt; | reg_period &lt;int&gt; | registrant_country &lt;chr&gt; | renewal_status &lt;fct&gt; | renew_mbg &lt;int&gt; | renew_type &lt;chr&gt; | autorenew_type &lt;chr&gt; | renew_date &lt;date&gt; | renew_registrar &lt;chr&gt; | renew_reseller &lt;chr&gt; | reg_revenue &lt;dbl&gt; | reg_arpt &lt;dbl&gt; | renew_period &lt;int&gt; | renew_domain_revenue &lt;dbl&gt; | renew_arpt &lt;dbl&gt; | reg_arpt_org &lt;dbl&gt; | tld_registrar_index &lt;chr&gt; | sld &lt;chr&gt; | sld_type &lt;fct&gt; | sld_length &lt;int&gt; | sld_type2 &lt;chr&gt; | day_domains &lt;int&gt; | log_reg_arpt &lt;dbl&gt; | gibb_score &lt;dbl&gt; | pattern &lt;chr&gt; | cluster &lt;chr&gt; | pattern_score &lt;dbl&gt; | pattern_domain_count &lt;int&gt; | probabilities &lt;dbl&gt; | first_renewal_prediction &lt;dbl&gt; |\n",
       "|---|---|---|---|---|---|---|---|---|---|---|---|---|---|---|---|---|---|---|---|---|---|---|---|---|---|---|---|---|---|---|---|---|---|---|---|---|---|---|---|---|\n",
       "| FirstTime | 1 | 2020-01-22 |  91639803 | segeln.fun    | 2019-01-22 | Active | fun | 1&amp;1 internet     | 1&amp;1 internet     | Germany | Non China | 1 | NA | Renewed    | 0 | auto-renewal | realized   | 2020-01-22 | 1&amp;1 Internet     | 1&amp;1 Internet     | 15 | 15 | 1 | 15 | 15 | 15 | fun1&amp;1 internet     | segeln    | l | 6 | 6l | 1 | 2.708050 | 2.23 | segeln    | 1 | 1 | 1 | 0.5033386 | 0.503 |\n",
       "| FirstTime | 1 | 2020-03-07 |  95819759 | harzhotel.fun | 2019-03-07 | Active | fun | 1&amp;1 internet     | 1&amp;1 internet     | Germany | Non China | 1 | NA | Renewed    | 0 | auto-renewal | realized   | 2020-03-07 | 1&amp;1 Internet     | 1&amp;1 Internet     | 15 | 15 | 1 | 15 | 15 | 15 | fun1&amp;1 internet     | harzhotel | l | 9 | 9l | 1 | 2.708050 | 3.45 | harzhotel | 1 | 1 | 1 | 0.4872029 | 0.487 |\n",
       "| FirstTime | 1 | 2020-01-15 |  91044973 | movistar.fun  | 2019-01-15 | Active | fun | 10dencehispahard | 10dencehispahard | Spain   | Non China | 1 | NA | Not Renewd | 0 | auto-renewal | unrealized | 2020-01-15 | 10dencehispahard | 10dencehispahard | 15 | 15 | 1 | 15 | 15 | 15 | fun10dencehispahard | movistar  | l | 8 | 8l | 1 | 2.708050 | 8.62 | movistar  | 1 | 1 | 1 | 0.1668106 | 0.167 |\n",
       "| FirstTime | 1 | 2020-02-01 |  92472913 | kuinik.fun    | 2019-02-01 | Active | fun | 10dencehispahard | 10dencehispahard | Spain   | Non China | 1 | NA | Not Renewd | 0 | auto-renewal | unrealized | 2020-02-01 | 10dencehispahard | 10dencehispahard | 15 | 15 | 1 | 15 | 15 | 15 | fun10dencehispahard | kuinik    | l | 6 | 6l | 1 | 2.708050 | 3.13 | kuinik    | 1 | 1 | 1 | 0.1645742 | 0.165 |\n",
       "| FirstTime | 1 | 2020-01-21 |  91532433 | bulgari.fun   | 2019-01-21 | Active | fun | 1api             | 1api             | Germany | Non China | 1 | NA | Renewed    | 0 | auto-renewal | realized   | 2020-01-21 | 1API             | 1API             |  5 |  5 | 1 | 15 | 15 |  5 | fun1api             | bulgari   | l | 7 | 7l | 1 | 1.609438 | 4.51 | bulgari   | 1 | 1 | 1 | 0.4077363 | 0.408 |\n",
       "| FirstTime | 1 | 2020-04-24 | 101717674 | gotsome.fun   | 2019-04-24 | Active | fun | 1api             | 1api             | Germany | Non China | 1 | NA | Not Renewd | 0 | auto-renewal | unrealized | 2020-04-24 | 1API             | 1API             |  5 |  5 | 1 | 15 | 15 |  5 | fun1api             | gotsome   | l | 7 | 7l | 1 | 1.609438 | 6.09 | gotsome   | 1 | 1 | 1 | 0.4125760 | 0.413 |\n",
       "\n"
      ],
      "text/plain": [
       "  renewal_type renewed_count expiry_date domain_id domain        creation_date\n",
       "1 FirstTime    1             2020-01-22   91639803 segeln.fun    2019-01-22   \n",
       "2 FirstTime    1             2020-03-07   95819759 harzhotel.fun 2019-03-07   \n",
       "3 FirstTime    1             2020-01-15   91044973 movistar.fun  2019-01-15   \n",
       "4 FirstTime    1             2020-02-01   92472913 kuinik.fun    2019-02-01   \n",
       "5 FirstTime    1             2020-01-21   91532433 bulgari.fun   2019-01-21   \n",
       "6 FirstTime    1             2020-04-24  101717674 gotsome.fun   2019-04-24   \n",
       "  status tld registrar        reseller         reseller_country region   \n",
       "1 Active fun 1&1 internet     1&1 internet     Germany          Non China\n",
       "2 Active fun 1&1 internet     1&1 internet     Germany          Non China\n",
       "3 Active fun 10dencehispahard 10dencehispahard Spain            Non China\n",
       "4 Active fun 10dencehispahard 10dencehispahard Spain            Non China\n",
       "5 Active fun 1api             1api             Germany          Non China\n",
       "6 Active fun 1api             1api             Germany          Non China\n",
       "  reg_period registrant_country renewal_status renew_mbg renew_type  \n",
       "1 1          NA                 Renewed        0         auto-renewal\n",
       "2 1          NA                 Renewed        0         auto-renewal\n",
       "3 1          NA                 Not Renewd     0         auto-renewal\n",
       "4 1          NA                 Not Renewd     0         auto-renewal\n",
       "5 1          NA                 Renewed        0         auto-renewal\n",
       "6 1          NA                 Not Renewd     0         auto-renewal\n",
       "  autorenew_type renew_date renew_registrar  renew_reseller   reg_revenue\n",
       "1 realized       2020-01-22 1&1 Internet     1&1 Internet     15         \n",
       "2 realized       2020-03-07 1&1 Internet     1&1 Internet     15         \n",
       "3 unrealized     2020-01-15 10dencehispahard 10dencehispahard 15         \n",
       "4 unrealized     2020-02-01 10dencehispahard 10dencehispahard 15         \n",
       "5 realized       2020-01-21 1API             1API              5         \n",
       "6 unrealized     2020-04-24 1API             1API              5         \n",
       "  reg_arpt renew_period renew_domain_revenue renew_arpt reg_arpt_org\n",
       "1 15       1            15                   15         15          \n",
       "2 15       1            15                   15         15          \n",
       "3 15       1            15                   15         15          \n",
       "4 15       1            15                   15         15          \n",
       "5  5       1            15                   15          5          \n",
       "6  5       1            15                   15          5          \n",
       "  tld_registrar_index sld       sld_type sld_length sld_type2 day_domains\n",
       "1 fun1&1 internet     segeln    l        6          6l        1          \n",
       "2 fun1&1 internet     harzhotel l        9          9l        1          \n",
       "3 fun10dencehispahard movistar  l        8          8l        1          \n",
       "4 fun10dencehispahard kuinik    l        6          6l        1          \n",
       "5 fun1api             bulgari   l        7          7l        1          \n",
       "6 fun1api             gotsome   l        7          7l        1          \n",
       "  log_reg_arpt gibb_score pattern   cluster pattern_score pattern_domain_count\n",
       "1 2.708050     2.23       segeln    1       1             1                   \n",
       "2 2.708050     3.45       harzhotel 1       1             1                   \n",
       "3 2.708050     8.62       movistar  1       1             1                   \n",
       "4 2.708050     3.13       kuinik    1       1             1                   \n",
       "5 1.609438     4.51       bulgari   1       1             1                   \n",
       "6 1.609438     6.09       gotsome   1       1             1                   \n",
       "  probabilities first_renewal_prediction\n",
       "1 0.5033386     0.503                   \n",
       "2 0.4872029     0.487                   \n",
       "3 0.1668106     0.167                   \n",
       "4 0.1645742     0.165                   \n",
       "5 0.4077363     0.408                   \n",
       "6 0.4125760     0.413                   "
      ]
     },
     "metadata": {},
     "output_type": "display_data"
    }
   ],
   "source": [
    "head(seg_glm_expiry_agg)"
   ]
  },
  {
   "cell_type": "markdown",
   "metadata": {},
   "source": [
    "# Aggregate Results -- seg_glm + agg_rf"
   ]
  },
  {
   "cell_type": "code",
   "execution_count": 55,
   "metadata": {},
   "outputs": [
    {
     "data": {
      "text/html": [
       "<style>\n",
       ".list-inline {list-style: none; margin:0; padding: 0}\n",
       ".list-inline>li {display: inline-block}\n",
       ".list-inline>li:not(:last-child)::after {content: \"\\00b7\"; padding: 0 .5ex}\n",
       "</style>\n",
       "<ol class=list-inline><li>'renewal_status'</li><li>'tld'</li><li>'reseller'</li><li>'reseller_country'</li><li>'region'</li><li>'reg_period'</li><li>'sld_type'</li><li>'sld_length'</li><li>'day_domains'</li><li>'gibb_score'</li><li>'pattern_domain_count'</li><li>'reg_arpt'</li><li>'tld_registrar_index'</li><li>'first_renewal_prediction'</li></ol>\n"
      ],
      "text/latex": [
       "\\begin{enumerate*}\n",
       "\\item 'renewal\\_status'\n",
       "\\item 'tld'\n",
       "\\item 'reseller'\n",
       "\\item 'reseller\\_country'\n",
       "\\item 'region'\n",
       "\\item 'reg\\_period'\n",
       "\\item 'sld\\_type'\n",
       "\\item 'sld\\_length'\n",
       "\\item 'day\\_domains'\n",
       "\\item 'gibb\\_score'\n",
       "\\item 'pattern\\_domain\\_count'\n",
       "\\item 'reg\\_arpt'\n",
       "\\item 'tld\\_registrar\\_index'\n",
       "\\item 'first\\_renewal\\_prediction'\n",
       "\\end{enumerate*}\n"
      ],
      "text/markdown": [
       "1. 'renewal_status'\n",
       "2. 'tld'\n",
       "3. 'reseller'\n",
       "4. 'reseller_country'\n",
       "5. 'region'\n",
       "6. 'reg_period'\n",
       "7. 'sld_type'\n",
       "8. 'sld_length'\n",
       "9. 'day_domains'\n",
       "10. 'gibb_score'\n",
       "11. 'pattern_domain_count'\n",
       "12. 'reg_arpt'\n",
       "13. 'tld_registrar_index'\n",
       "14. 'first_renewal_prediction'\n",
       "\n",
       "\n"
      ],
      "text/plain": [
       " [1] \"renewal_status\"           \"tld\"                     \n",
       " [3] \"reseller\"                 \"reseller_country\"        \n",
       " [5] \"region\"                   \"reg_period\"              \n",
       " [7] \"sld_type\"                 \"sld_length\"              \n",
       " [9] \"day_domains\"              \"gibb_score\"              \n",
       "[11] \"pattern_domain_count\"     \"reg_arpt\"                \n",
       "[13] \"tld_registrar_index\"      \"first_renewal_prediction\""
      ]
     },
     "metadata": {},
     "output_type": "display_data"
    }
   ],
   "source": [
    "cols = names(test)\n",
    "cols"
   ]
  },
  {
   "cell_type": "code",
   "execution_count": 56,
   "metadata": {},
   "outputs": [
    {
     "data": {
      "text/html": [
       "<style>\n",
       ".list-inline {list-style: none; margin:0; padding: 0}\n",
       ".list-inline>li {display: inline-block}\n",
       ".list-inline>li:not(:last-child)::after {content: \"\\00b7\"; padding: 0 .5ex}\n",
       "</style>\n",
       "<ol class=list-inline><li>142366</li><li>14</li></ol>\n"
      ],
      "text/latex": [
       "\\begin{enumerate*}\n",
       "\\item 142366\n",
       "\\item 14\n",
       "\\end{enumerate*}\n"
      ],
      "text/markdown": [
       "1. 142366\n",
       "2. 14\n",
       "\n",
       "\n"
      ],
      "text/plain": [
       "[1] 142366     14"
      ]
     },
     "metadata": {},
     "output_type": "display_data"
    }
   ],
   "source": [
    "dim(seg_glm_expiry_exptest_sub %>% select(all_of(cols)))"
   ]
  },
  {
   "cell_type": "code",
   "execution_count": 57,
   "metadata": {},
   "outputs": [
    {
     "data": {
      "text/html": [
       "<style>\n",
       ".list-inline {list-style: none; margin:0; padding: 0}\n",
       ".list-inline>li {display: inline-block}\n",
       ".list-inline>li:not(:last-child)::after {content: \"\\00b7\"; padding: 0 .5ex}\n",
       "</style>\n",
       "<ol class=list-inline><li>154431</li><li>14</li></ol>\n"
      ],
      "text/latex": [
       "\\begin{enumerate*}\n",
       "\\item 154431\n",
       "\\item 14\n",
       "\\end{enumerate*}\n"
      ],
      "text/markdown": [
       "1. 154431\n",
       "2. 14\n",
       "\n",
       "\n"
      ],
      "text/plain": [
       "[1] 154431     14"
      ]
     },
     "metadata": {},
     "output_type": "display_data"
    }
   ],
   "source": [
    "dim(test)"
   ]
  },
  {
   "cell_type": "code",
   "execution_count": 58,
   "metadata": {},
   "outputs": [
    {
     "data": {
      "text/html": [
       "<style>\n",
       ".list-inline {list-style: none; margin:0; padding: 0}\n",
       ".list-inline>li {display: inline-block}\n",
       ".list-inline>li:not(:last-child)::after {content: \"\\00b7\"; padding: 0 .5ex}\n",
       "</style>\n",
       "<ol class=list-inline><li>296797</li><li>14</li></ol>\n"
      ],
      "text/latex": [
       "\\begin{enumerate*}\n",
       "\\item 296797\n",
       "\\item 14\n",
       "\\end{enumerate*}\n"
      ],
      "text/markdown": [
       "1. 296797\n",
       "2. 14\n",
       "\n",
       "\n"
      ],
      "text/plain": [
       "[1] 296797     14"
      ]
     },
     "metadata": {},
     "output_type": "display_data"
    },
    {
     "data": {
      "text/html": [
       "<style>\n",
       ".list-inline {list-style: none; margin:0; padding: 0}\n",
       ".list-inline>li {display: inline-block}\n",
       ".list-inline>li:not(:last-child)::after {content: \"\\00b7\"; padding: 0 .5ex}\n",
       "</style>\n",
       "<ol class=list-inline><li>296797</li><li>40</li></ol>\n"
      ],
      "text/latex": [
       "\\begin{enumerate*}\n",
       "\\item 296797\n",
       "\\item 40\n",
       "\\end{enumerate*}\n"
      ],
      "text/markdown": [
       "1. 296797\n",
       "2. 40\n",
       "\n",
       "\n"
      ],
      "text/plain": [
       "[1] 296797     40"
      ]
     },
     "metadata": {},
     "output_type": "display_data"
    },
    {
     "data": {
      "text/html": [
       "<style>\n",
       ".list-inline {list-style: none; margin:0; padding: 0}\n",
       ".list-inline>li {display: inline-block}\n",
       ".list-inline>li:not(:last-child)::after {content: \"\\00b7\"; padding: 0 .5ex}\n",
       "</style>\n",
       "<ol class=list-inline><li>0</li><li>26</li></ol>\n"
      ],
      "text/latex": [
       "\\begin{enumerate*}\n",
       "\\item 0\n",
       "\\item 26\n",
       "\\end{enumerate*}\n"
      ],
      "text/markdown": [
       "1. 0\n",
       "2. 26\n",
       "\n",
       "\n"
      ],
      "text/plain": [
       "[1]  0 26"
      ]
     },
     "metadata": {},
     "output_type": "display_data"
    },
    {
     "data": {
      "text/html": [
       "<table>\n",
       "<caption>A data.table: 6 × 14</caption>\n",
       "<thead>\n",
       "\t<tr><th scope=col>renewal_status</th><th scope=col>tld</th><th scope=col>reseller</th><th scope=col>reseller_country</th><th scope=col>region</th><th scope=col>reg_period</th><th scope=col>sld_type</th><th scope=col>sld_length</th><th scope=col>day_domains</th><th scope=col>gibb_score</th><th scope=col>pattern_domain_count</th><th scope=col>reg_arpt</th><th scope=col>tld_registrar_index</th><th scope=col>first_renewal_prediction</th></tr>\n",
       "\t<tr><th scope=col>&lt;fct&gt;</th><th scope=col>&lt;fct&gt;</th><th scope=col>&lt;chr&gt;</th><th scope=col>&lt;chr&gt;</th><th scope=col>&lt;chr&gt;</th><th scope=col>&lt;int&gt;</th><th scope=col>&lt;fct&gt;</th><th scope=col>&lt;int&gt;</th><th scope=col>&lt;int&gt;</th><th scope=col>&lt;dbl&gt;</th><th scope=col>&lt;int&gt;</th><th scope=col>&lt;dbl&gt;</th><th scope=col>&lt;chr&gt;</th><th scope=col>&lt;dbl&gt;</th></tr>\n",
       "</thead>\n",
       "<tbody>\n",
       "\t<tr><td>Not Renewd</td><td>fun</td><td>alibaba</td><td>China</td><td>China</td><td>2</td><td>l</td><td>6</td><td>1</td><td>  3.81</td><td>1</td><td>4.75</td><td>funalibaba</td><td>0.3892428</td></tr>\n",
       "\t<tr><td>Not Renewd</td><td>fun</td><td>alibaba</td><td>China</td><td>China</td><td>2</td><td>l</td><td>7</td><td>1</td><td>  6.76</td><td>1</td><td>4.75</td><td>funalibaba</td><td>0.3677247</td></tr>\n",
       "\t<tr><td>Renewed   </td><td>fun</td><td>alibaba</td><td>China</td><td>China</td><td>2</td><td>l</td><td>7</td><td>1</td><td>  0.97</td><td>1</td><td>4.75</td><td>funalibaba</td><td>0.3334929</td></tr>\n",
       "\t<tr><td>Renewed   </td><td>fun</td><td>alibaba</td><td>China</td><td>China</td><td>2</td><td>l</td><td>3</td><td>1</td><td>  5.71</td><td>1</td><td>4.75</td><td>funalibaba</td><td>0.5258015</td></tr>\n",
       "\t<tr><td>Not Renewd</td><td>fun</td><td>alibaba</td><td>China</td><td>China</td><td>2</td><td>n</td><td>5</td><td>1</td><td>100.00</td><td>1</td><td>4.75</td><td>funalibaba</td><td>0.4359649</td></tr>\n",
       "\t<tr><td>Not Renewd</td><td>fun</td><td>alibaba</td><td>China</td><td>China</td><td>2</td><td>l</td><td>4</td><td>1</td><td>  4.61</td><td>1</td><td>4.75</td><td>funalibaba</td><td>0.4766606</td></tr>\n",
       "</tbody>\n",
       "</table>\n"
      ],
      "text/latex": [
       "A data.table: 6 × 14\n",
       "\\begin{tabular}{llllllllllllll}\n",
       " renewal\\_status & tld & reseller & reseller\\_country & region & reg\\_period & sld\\_type & sld\\_length & day\\_domains & gibb\\_score & pattern\\_domain\\_count & reg\\_arpt & tld\\_registrar\\_index & first\\_renewal\\_prediction\\\\\n",
       " <fct> & <fct> & <chr> & <chr> & <chr> & <int> & <fct> & <int> & <int> & <dbl> & <int> & <dbl> & <chr> & <dbl>\\\\\n",
       "\\hline\n",
       "\t Not Renewd & fun & alibaba & China & China & 2 & l & 6 & 1 &   3.81 & 1 & 4.75 & funalibaba & 0.3892428\\\\\n",
       "\t Not Renewd & fun & alibaba & China & China & 2 & l & 7 & 1 &   6.76 & 1 & 4.75 & funalibaba & 0.3677247\\\\\n",
       "\t Renewed    & fun & alibaba & China & China & 2 & l & 7 & 1 &   0.97 & 1 & 4.75 & funalibaba & 0.3334929\\\\\n",
       "\t Renewed    & fun & alibaba & China & China & 2 & l & 3 & 1 &   5.71 & 1 & 4.75 & funalibaba & 0.5258015\\\\\n",
       "\t Not Renewd & fun & alibaba & China & China & 2 & n & 5 & 1 & 100.00 & 1 & 4.75 & funalibaba & 0.4359649\\\\\n",
       "\t Not Renewd & fun & alibaba & China & China & 2 & l & 4 & 1 &   4.61 & 1 & 4.75 & funalibaba & 0.4766606\\\\\n",
       "\\end{tabular}\n"
      ],
      "text/markdown": [
       "\n",
       "A data.table: 6 × 14\n",
       "\n",
       "| renewal_status &lt;fct&gt; | tld &lt;fct&gt; | reseller &lt;chr&gt; | reseller_country &lt;chr&gt; | region &lt;chr&gt; | reg_period &lt;int&gt; | sld_type &lt;fct&gt; | sld_length &lt;int&gt; | day_domains &lt;int&gt; | gibb_score &lt;dbl&gt; | pattern_domain_count &lt;int&gt; | reg_arpt &lt;dbl&gt; | tld_registrar_index &lt;chr&gt; | first_renewal_prediction &lt;dbl&gt; |\n",
       "|---|---|---|---|---|---|---|---|---|---|---|---|---|---|\n",
       "| Not Renewd | fun | alibaba | China | China | 2 | l | 6 | 1 |   3.81 | 1 | 4.75 | funalibaba | 0.3892428 |\n",
       "| Not Renewd | fun | alibaba | China | China | 2 | l | 7 | 1 |   6.76 | 1 | 4.75 | funalibaba | 0.3677247 |\n",
       "| Renewed    | fun | alibaba | China | China | 2 | l | 7 | 1 |   0.97 | 1 | 4.75 | funalibaba | 0.3334929 |\n",
       "| Renewed    | fun | alibaba | China | China | 2 | l | 3 | 1 |   5.71 | 1 | 4.75 | funalibaba | 0.5258015 |\n",
       "| Not Renewd | fun | alibaba | China | China | 2 | n | 5 | 1 | 100.00 | 1 | 4.75 | funalibaba | 0.4359649 |\n",
       "| Not Renewd | fun | alibaba | China | China | 2 | l | 4 | 1 |   4.61 | 1 | 4.75 | funalibaba | 0.4766606 |\n",
       "\n"
      ],
      "text/plain": [
       "  renewal_status tld reseller reseller_country region reg_period sld_type\n",
       "1 Not Renewd     fun alibaba  China            China  2          l       \n",
       "2 Not Renewd     fun alibaba  China            China  2          l       \n",
       "3 Renewed        fun alibaba  China            China  2          l       \n",
       "4 Renewed        fun alibaba  China            China  2          l       \n",
       "5 Not Renewd     fun alibaba  China            China  2          n       \n",
       "6 Not Renewd     fun alibaba  China            China  2          l       \n",
       "  sld_length day_domains gibb_score pattern_domain_count reg_arpt\n",
       "1 6          1             3.81     1                    4.75    \n",
       "2 7          1             6.76     1                    4.75    \n",
       "3 7          1             0.97     1                    4.75    \n",
       "4 3          1             5.71     1                    4.75    \n",
       "5 5          1           100.00     1                    4.75    \n",
       "6 4          1             4.61     1                    4.75    \n",
       "  tld_registrar_index first_renewal_prediction\n",
       "1 funalibaba          0.3892428               \n",
       "2 funalibaba          0.3677247               \n",
       "3 funalibaba          0.3334929               \n",
       "4 funalibaba          0.5258015               \n",
       "5 funalibaba          0.4359649               \n",
       "6 funalibaba          0.4766606               "
      ]
     },
     "metadata": {},
     "output_type": "display_data"
    }
   ],
   "source": [
    "agg_results = rbind(seg_glm_expiry_exptest_sub %>% select(all_of(cols)), \n",
    "                    test)\n",
    "dim(agg_results)\n",
    "dim(seg_glm_expiry_exptest)\n",
    "dim(seg_glm_expiry_exptest)-dim(agg_results)\n",
    "head(agg_results)"
   ]
  },
  {
   "cell_type": "markdown",
   "metadata": {},
   "source": [
    "# Aggregate Results -- seg_glm + agg_glm"
   ]
  },
  {
   "cell_type": "code",
   "execution_count": 59,
   "metadata": {},
   "outputs": [
    {
     "data": {
      "text/html": [
       "<style>\n",
       ".list-inline {list-style: none; margin:0; padding: 0}\n",
       ".list-inline>li {display: inline-block}\n",
       ".list-inline>li:not(:last-child)::after {content: \"\\00b7\"; padding: 0 .5ex}\n",
       "</style>\n",
       "<ol class=list-inline><li>296797</li><li>14</li></ol>\n"
      ],
      "text/latex": [
       "\\begin{enumerate*}\n",
       "\\item 296797\n",
       "\\item 14\n",
       "\\end{enumerate*}\n"
      ],
      "text/markdown": [
       "1. 296797\n",
       "2. 14\n",
       "\n",
       "\n"
      ],
      "text/plain": [
       "[1] 296797     14"
      ]
     },
     "metadata": {},
     "output_type": "display_data"
    },
    {
     "data": {
      "text/html": [
       "<style>\n",
       ".list-inline {list-style: none; margin:0; padding: 0}\n",
       ".list-inline>li {display: inline-block}\n",
       ".list-inline>li:not(:last-child)::after {content: \"\\00b7\"; padding: 0 .5ex}\n",
       "</style>\n",
       "<ol class=list-inline><li>296797</li><li>40</li></ol>\n"
      ],
      "text/latex": [
       "\\begin{enumerate*}\n",
       "\\item 296797\n",
       "\\item 40\n",
       "\\end{enumerate*}\n"
      ],
      "text/markdown": [
       "1. 296797\n",
       "2. 40\n",
       "\n",
       "\n"
      ],
      "text/plain": [
       "[1] 296797     40"
      ]
     },
     "metadata": {},
     "output_type": "display_data"
    },
    {
     "data": {
      "text/html": [
       "<style>\n",
       ".list-inline {list-style: none; margin:0; padding: 0}\n",
       ".list-inline>li {display: inline-block}\n",
       ".list-inline>li:not(:last-child)::after {content: \"\\00b7\"; padding: 0 .5ex}\n",
       "</style>\n",
       "<ol class=list-inline><li>0</li><li>26</li></ol>\n"
      ],
      "text/latex": [
       "\\begin{enumerate*}\n",
       "\\item 0\n",
       "\\item 26\n",
       "\\end{enumerate*}\n"
      ],
      "text/markdown": [
       "1. 0\n",
       "2. 26\n",
       "\n",
       "\n"
      ],
      "text/plain": [
       "[1]  0 26"
      ]
     },
     "metadata": {},
     "output_type": "display_data"
    },
    {
     "data": {
      "text/html": [
       "<table>\n",
       "<caption>A data.table: 6 × 14</caption>\n",
       "<thead>\n",
       "\t<tr><th scope=col>renewal_status</th><th scope=col>tld</th><th scope=col>reseller</th><th scope=col>reseller_country</th><th scope=col>region</th><th scope=col>reg_period</th><th scope=col>sld_type</th><th scope=col>sld_length</th><th scope=col>day_domains</th><th scope=col>gibb_score</th><th scope=col>pattern_domain_count</th><th scope=col>reg_arpt</th><th scope=col>tld_registrar_index</th><th scope=col>first_renewal_prediction</th></tr>\n",
       "\t<tr><th scope=col>&lt;fct&gt;</th><th scope=col>&lt;fct&gt;</th><th scope=col>&lt;chr&gt;</th><th scope=col>&lt;chr&gt;</th><th scope=col>&lt;chr&gt;</th><th scope=col>&lt;int&gt;</th><th scope=col>&lt;fct&gt;</th><th scope=col>&lt;int&gt;</th><th scope=col>&lt;int&gt;</th><th scope=col>&lt;dbl&gt;</th><th scope=col>&lt;int&gt;</th><th scope=col>&lt;dbl&gt;</th><th scope=col>&lt;chr&gt;</th><th scope=col>&lt;dbl&gt;</th></tr>\n",
       "</thead>\n",
       "<tbody>\n",
       "\t<tr><td>Not Renewd</td><td>fun</td><td>alibaba</td><td>China</td><td>China</td><td>2</td><td>l</td><td>6</td><td>1</td><td>  3.81</td><td>1</td><td>4.75</td><td>funalibaba</td><td>0.3892428</td></tr>\n",
       "\t<tr><td>Not Renewd</td><td>fun</td><td>alibaba</td><td>China</td><td>China</td><td>2</td><td>l</td><td>7</td><td>1</td><td>  6.76</td><td>1</td><td>4.75</td><td>funalibaba</td><td>0.3677247</td></tr>\n",
       "\t<tr><td>Renewed   </td><td>fun</td><td>alibaba</td><td>China</td><td>China</td><td>2</td><td>l</td><td>7</td><td>1</td><td>  0.97</td><td>1</td><td>4.75</td><td>funalibaba</td><td>0.3334929</td></tr>\n",
       "\t<tr><td>Renewed   </td><td>fun</td><td>alibaba</td><td>China</td><td>China</td><td>2</td><td>l</td><td>3</td><td>1</td><td>  5.71</td><td>1</td><td>4.75</td><td>funalibaba</td><td>0.5258015</td></tr>\n",
       "\t<tr><td>Not Renewd</td><td>fun</td><td>alibaba</td><td>China</td><td>China</td><td>2</td><td>n</td><td>5</td><td>1</td><td>100.00</td><td>1</td><td>4.75</td><td>funalibaba</td><td>0.4359649</td></tr>\n",
       "\t<tr><td>Not Renewd</td><td>fun</td><td>alibaba</td><td>China</td><td>China</td><td>2</td><td>l</td><td>4</td><td>1</td><td>  4.61</td><td>1</td><td>4.75</td><td>funalibaba</td><td>0.4766606</td></tr>\n",
       "</tbody>\n",
       "</table>\n"
      ],
      "text/latex": [
       "A data.table: 6 × 14\n",
       "\\begin{tabular}{llllllllllllll}\n",
       " renewal\\_status & tld & reseller & reseller\\_country & region & reg\\_period & sld\\_type & sld\\_length & day\\_domains & gibb\\_score & pattern\\_domain\\_count & reg\\_arpt & tld\\_registrar\\_index & first\\_renewal\\_prediction\\\\\n",
       " <fct> & <fct> & <chr> & <chr> & <chr> & <int> & <fct> & <int> & <int> & <dbl> & <int> & <dbl> & <chr> & <dbl>\\\\\n",
       "\\hline\n",
       "\t Not Renewd & fun & alibaba & China & China & 2 & l & 6 & 1 &   3.81 & 1 & 4.75 & funalibaba & 0.3892428\\\\\n",
       "\t Not Renewd & fun & alibaba & China & China & 2 & l & 7 & 1 &   6.76 & 1 & 4.75 & funalibaba & 0.3677247\\\\\n",
       "\t Renewed    & fun & alibaba & China & China & 2 & l & 7 & 1 &   0.97 & 1 & 4.75 & funalibaba & 0.3334929\\\\\n",
       "\t Renewed    & fun & alibaba & China & China & 2 & l & 3 & 1 &   5.71 & 1 & 4.75 & funalibaba & 0.5258015\\\\\n",
       "\t Not Renewd & fun & alibaba & China & China & 2 & n & 5 & 1 & 100.00 & 1 & 4.75 & funalibaba & 0.4359649\\\\\n",
       "\t Not Renewd & fun & alibaba & China & China & 2 & l & 4 & 1 &   4.61 & 1 & 4.75 & funalibaba & 0.4766606\\\\\n",
       "\\end{tabular}\n"
      ],
      "text/markdown": [
       "\n",
       "A data.table: 6 × 14\n",
       "\n",
       "| renewal_status &lt;fct&gt; | tld &lt;fct&gt; | reseller &lt;chr&gt; | reseller_country &lt;chr&gt; | region &lt;chr&gt; | reg_period &lt;int&gt; | sld_type &lt;fct&gt; | sld_length &lt;int&gt; | day_domains &lt;int&gt; | gibb_score &lt;dbl&gt; | pattern_domain_count &lt;int&gt; | reg_arpt &lt;dbl&gt; | tld_registrar_index &lt;chr&gt; | first_renewal_prediction &lt;dbl&gt; |\n",
       "|---|---|---|---|---|---|---|---|---|---|---|---|---|---|\n",
       "| Not Renewd | fun | alibaba | China | China | 2 | l | 6 | 1 |   3.81 | 1 | 4.75 | funalibaba | 0.3892428 |\n",
       "| Not Renewd | fun | alibaba | China | China | 2 | l | 7 | 1 |   6.76 | 1 | 4.75 | funalibaba | 0.3677247 |\n",
       "| Renewed    | fun | alibaba | China | China | 2 | l | 7 | 1 |   0.97 | 1 | 4.75 | funalibaba | 0.3334929 |\n",
       "| Renewed    | fun | alibaba | China | China | 2 | l | 3 | 1 |   5.71 | 1 | 4.75 | funalibaba | 0.5258015 |\n",
       "| Not Renewd | fun | alibaba | China | China | 2 | n | 5 | 1 | 100.00 | 1 | 4.75 | funalibaba | 0.4359649 |\n",
       "| Not Renewd | fun | alibaba | China | China | 2 | l | 4 | 1 |   4.61 | 1 | 4.75 | funalibaba | 0.4766606 |\n",
       "\n"
      ],
      "text/plain": [
       "  renewal_status tld reseller reseller_country region reg_period sld_type\n",
       "1 Not Renewd     fun alibaba  China            China  2          l       \n",
       "2 Not Renewd     fun alibaba  China            China  2          l       \n",
       "3 Renewed        fun alibaba  China            China  2          l       \n",
       "4 Renewed        fun alibaba  China            China  2          l       \n",
       "5 Not Renewd     fun alibaba  China            China  2          n       \n",
       "6 Not Renewd     fun alibaba  China            China  2          l       \n",
       "  sld_length day_domains gibb_score pattern_domain_count reg_arpt\n",
       "1 6          1             3.81     1                    4.75    \n",
       "2 7          1             6.76     1                    4.75    \n",
       "3 7          1             0.97     1                    4.75    \n",
       "4 3          1             5.71     1                    4.75    \n",
       "5 5          1           100.00     1                    4.75    \n",
       "6 4          1             4.61     1                    4.75    \n",
       "  tld_registrar_index first_renewal_prediction\n",
       "1 funalibaba          0.3892428               \n",
       "2 funalibaba          0.3677247               \n",
       "3 funalibaba          0.3334929               \n",
       "4 funalibaba          0.5258015               \n",
       "5 funalibaba          0.4359649               \n",
       "6 funalibaba          0.4766606               "
      ]
     },
     "metadata": {},
     "output_type": "display_data"
    }
   ],
   "source": [
    "agg_results2 = rbind(seg_glm_expiry_exptest_sub %>% select(all_of(cols)), \n",
    "                     seg_glm_expiry_agg %>% select(all_of(cols)))\n",
    "dim(agg_results2)\n",
    "dim(seg_glm_expiry_exptest)\n",
    "dim(seg_glm_expiry_exptest)-dim(agg_results2)\n",
    "head(agg_results2)"
   ]
  },
  {
   "cell_type": "markdown",
   "metadata": {},
   "source": [
    "# Assess performance"
   ]
  },
  {
   "cell_type": "code",
   "execution_count": 60,
   "metadata": {},
   "outputs": [],
   "source": [
    "df = data.frame(\"actual\" = agg_results$renewal_status,\n",
    "          \"predicted\" = agg_results$first_renewal_prediction)\n",
    "\n",
    "lift_df <- chart_lift(pred_df = df,\n",
    "                        dep_var = \"actual\",\n",
    "                        pred_var = \"predicted\")\n",
    "\n",
    "gains_plot <- plot_gains (lift_df) \n",
    "\n",
    "auc_val <- calc_auc(lift_df)\n",
    "\n",
    "\n",
    "# saveRDS(lift_df_seg_glm_expiry_exptest, file.path('../../data/output/',\"lift_df_seg_glm_expiry_exptest\"))"
   ]
  },
  {
   "cell_type": "code",
   "execution_count": 61,
   "metadata": {},
   "outputs": [
    {
     "data": {
      "text/html": [
       "0.796116737249125"
      ],
      "text/latex": [
       "0.796116737249125"
      ],
      "text/markdown": [
       "0.796116737249125"
      ],
      "text/plain": [
       "[1] 0.7961167"
      ]
     },
     "metadata": {},
     "output_type": "display_data"
    }
   ],
   "source": [
    "auc_val"
   ]
  },
  {
   "cell_type": "code",
   "execution_count": 62,
   "metadata": {},
   "outputs": [
    {
     "data": {
      "text/html": [
       "<table>\n",
       "<caption>A data.frame: 10 × 4</caption>\n",
       "<thead>\n",
       "\t<tr><th scope=col>P</th><th scope=col>actu_renwd2</th><th scope=col>gain</th><th scope=col>lift</th></tr>\n",
       "\t<tr><th scope=col>&lt;dbl&gt;</th><th scope=col>&lt;int&gt;</th><th scope=col>&lt;dbl&gt;</th><th scope=col>&lt;dbl&gt;</th></tr>\n",
       "</thead>\n",
       "<tbody>\n",
       "\t<tr><td>0.1</td><td>11401</td><td>0.4198490</td><td>4.198490</td></tr>\n",
       "\t<tr><td>0.2</td><td>16725</td><td>0.6159087</td><td>3.079543</td></tr>\n",
       "\t<tr><td>0.3</td><td>20178</td><td>0.7430676</td><td>2.476892</td></tr>\n",
       "\t<tr><td>0.4</td><td>22873</td><td>0.8423126</td><td>2.105782</td></tr>\n",
       "\t<tr><td>0.5</td><td>24765</td><td>0.9119867</td><td>1.823973</td></tr>\n",
       "\t<tr><td>0.6</td><td>25843</td><td>0.9516848</td><td>1.586141</td></tr>\n",
       "\t<tr><td>0.7</td><td>26667</td><td>0.9820291</td><td>1.402899</td></tr>\n",
       "\t<tr><td>0.8</td><td>27013</td><td>0.9947708</td><td>1.243463</td></tr>\n",
       "\t<tr><td>0.9</td><td>27143</td><td>0.9995581</td><td>1.110620</td></tr>\n",
       "\t<tr><td>1.0</td><td>27155</td><td>1.0000000</td><td>1.000000</td></tr>\n",
       "</tbody>\n",
       "</table>\n"
      ],
      "text/latex": [
       "A data.frame: 10 × 4\n",
       "\\begin{tabular}{llll}\n",
       " P & actu\\_renwd2 & gain & lift\\\\\n",
       " <dbl> & <int> & <dbl> & <dbl>\\\\\n",
       "\\hline\n",
       "\t 0.1 & 11401 & 0.4198490 & 4.198490\\\\\n",
       "\t 0.2 & 16725 & 0.6159087 & 3.079543\\\\\n",
       "\t 0.3 & 20178 & 0.7430676 & 2.476892\\\\\n",
       "\t 0.4 & 22873 & 0.8423126 & 2.105782\\\\\n",
       "\t 0.5 & 24765 & 0.9119867 & 1.823973\\\\\n",
       "\t 0.6 & 25843 & 0.9516848 & 1.586141\\\\\n",
       "\t 0.7 & 26667 & 0.9820291 & 1.402899\\\\\n",
       "\t 0.8 & 27013 & 0.9947708 & 1.243463\\\\\n",
       "\t 0.9 & 27143 & 0.9995581 & 1.110620\\\\\n",
       "\t 1.0 & 27155 & 1.0000000 & 1.000000\\\\\n",
       "\\end{tabular}\n"
      ],
      "text/markdown": [
       "\n",
       "A data.frame: 10 × 4\n",
       "\n",
       "| P &lt;dbl&gt; | actu_renwd2 &lt;int&gt; | gain &lt;dbl&gt; | lift &lt;dbl&gt; |\n",
       "|---|---|---|---|\n",
       "| 0.1 | 11401 | 0.4198490 | 4.198490 |\n",
       "| 0.2 | 16725 | 0.6159087 | 3.079543 |\n",
       "| 0.3 | 20178 | 0.7430676 | 2.476892 |\n",
       "| 0.4 | 22873 | 0.8423126 | 2.105782 |\n",
       "| 0.5 | 24765 | 0.9119867 | 1.823973 |\n",
       "| 0.6 | 25843 | 0.9516848 | 1.586141 |\n",
       "| 0.7 | 26667 | 0.9820291 | 1.402899 |\n",
       "| 0.8 | 27013 | 0.9947708 | 1.243463 |\n",
       "| 0.9 | 27143 | 0.9995581 | 1.110620 |\n",
       "| 1.0 | 27155 | 1.0000000 | 1.000000 |\n",
       "\n"
      ],
      "text/plain": [
       "   P   actu_renwd2 gain      lift    \n",
       "1  0.1 11401       0.4198490 4.198490\n",
       "2  0.2 16725       0.6159087 3.079543\n",
       "3  0.3 20178       0.7430676 2.476892\n",
       "4  0.4 22873       0.8423126 2.105782\n",
       "5  0.5 24765       0.9119867 1.823973\n",
       "6  0.6 25843       0.9516848 1.586141\n",
       "7  0.7 26667       0.9820291 1.402899\n",
       "8  0.8 27013       0.9947708 1.243463\n",
       "9  0.9 27143       0.9995581 1.110620\n",
       "10 1.0 27155       1.0000000 1.000000"
      ]
     },
     "metadata": {},
     "output_type": "display_data"
    }
   ],
   "source": [
    "lift_df"
   ]
  },
  {
   "cell_type": "code",
   "execution_count": 63,
   "metadata": {},
   "outputs": [],
   "source": [
    "df2 = data.frame(\"actual\" = agg_results2$renewal_status,\n",
    "          \"predicted\" = agg_results2$first_renewal_prediction)\n",
    "\n",
    "lift_df2 <- chart_lift(pred_df = df2,\n",
    "                        dep_var = \"actual\",\n",
    "                        pred_var = \"predicted\")\n",
    "\n",
    "gains_plot2 <- plot_gains (lift_df2) \n",
    "\n",
    "auc_val2 <- calc_auc(lift_df2)\n",
    "\n",
    "\n",
    "# saveRDS(lift_df_seg_glm_expiry_exptest, file.path('../../data/output/',\"lift_df_seg_glm_expiry_exptest\"))"
   ]
  },
  {
   "cell_type": "code",
   "execution_count": 64,
   "metadata": {},
   "outputs": [
    {
     "data": {
      "text/html": [
       "0.82069048057448"
      ],
      "text/latex": [
       "0.82069048057448"
      ],
      "text/markdown": [
       "0.82069048057448"
      ],
      "text/plain": [
       "[1] 0.8206905"
      ]
     },
     "metadata": {},
     "output_type": "display_data"
    }
   ],
   "source": [
    "auc_val2"
   ]
  },
  {
   "cell_type": "code",
   "execution_count": 65,
   "metadata": {},
   "outputs": [
    {
     "data": {
      "text/html": [
       "<table>\n",
       "<caption>A data.frame: 10 × 4</caption>\n",
       "<thead>\n",
       "\t<tr><th scope=col>P</th><th scope=col>actu_renwd2</th><th scope=col>gain</th><th scope=col>lift</th></tr>\n",
       "\t<tr><th scope=col>&lt;dbl&gt;</th><th scope=col>&lt;int&gt;</th><th scope=col>&lt;dbl&gt;</th><th scope=col>&lt;dbl&gt;</th></tr>\n",
       "</thead>\n",
       "<tbody>\n",
       "\t<tr><td>0.1</td><td>12614</td><td>0.4645185</td><td>4.645185</td></tr>\n",
       "\t<tr><td>0.2</td><td>18346</td><td>0.6756030</td><td>3.378015</td></tr>\n",
       "\t<tr><td>0.3</td><td>21812</td><td>0.8032407</td><td>2.677469</td></tr>\n",
       "\t<tr><td>0.4</td><td>24088</td><td>0.8870558</td><td>2.217639</td></tr>\n",
       "\t<tr><td>0.5</td><td>25296</td><td>0.9315412</td><td>1.863082</td></tr>\n",
       "\t<tr><td>0.6</td><td>26218</td><td>0.9654944</td><td>1.609157</td></tr>\n",
       "\t<tr><td>0.7</td><td>26752</td><td>0.9851593</td><td>1.407370</td></tr>\n",
       "\t<tr><td>0.8</td><td>27019</td><td>0.9949917</td><td>1.243740</td></tr>\n",
       "\t<tr><td>0.9</td><td>27136</td><td>0.9993003</td><td>1.110334</td></tr>\n",
       "\t<tr><td>1.0</td><td>27155</td><td>1.0000000</td><td>1.000000</td></tr>\n",
       "</tbody>\n",
       "</table>\n"
      ],
      "text/latex": [
       "A data.frame: 10 × 4\n",
       "\\begin{tabular}{llll}\n",
       " P & actu\\_renwd2 & gain & lift\\\\\n",
       " <dbl> & <int> & <dbl> & <dbl>\\\\\n",
       "\\hline\n",
       "\t 0.1 & 12614 & 0.4645185 & 4.645185\\\\\n",
       "\t 0.2 & 18346 & 0.6756030 & 3.378015\\\\\n",
       "\t 0.3 & 21812 & 0.8032407 & 2.677469\\\\\n",
       "\t 0.4 & 24088 & 0.8870558 & 2.217639\\\\\n",
       "\t 0.5 & 25296 & 0.9315412 & 1.863082\\\\\n",
       "\t 0.6 & 26218 & 0.9654944 & 1.609157\\\\\n",
       "\t 0.7 & 26752 & 0.9851593 & 1.407370\\\\\n",
       "\t 0.8 & 27019 & 0.9949917 & 1.243740\\\\\n",
       "\t 0.9 & 27136 & 0.9993003 & 1.110334\\\\\n",
       "\t 1.0 & 27155 & 1.0000000 & 1.000000\\\\\n",
       "\\end{tabular}\n"
      ],
      "text/markdown": [
       "\n",
       "A data.frame: 10 × 4\n",
       "\n",
       "| P &lt;dbl&gt; | actu_renwd2 &lt;int&gt; | gain &lt;dbl&gt; | lift &lt;dbl&gt; |\n",
       "|---|---|---|---|\n",
       "| 0.1 | 12614 | 0.4645185 | 4.645185 |\n",
       "| 0.2 | 18346 | 0.6756030 | 3.378015 |\n",
       "| 0.3 | 21812 | 0.8032407 | 2.677469 |\n",
       "| 0.4 | 24088 | 0.8870558 | 2.217639 |\n",
       "| 0.5 | 25296 | 0.9315412 | 1.863082 |\n",
       "| 0.6 | 26218 | 0.9654944 | 1.609157 |\n",
       "| 0.7 | 26752 | 0.9851593 | 1.407370 |\n",
       "| 0.8 | 27019 | 0.9949917 | 1.243740 |\n",
       "| 0.9 | 27136 | 0.9993003 | 1.110334 |\n",
       "| 1.0 | 27155 | 1.0000000 | 1.000000 |\n",
       "\n"
      ],
      "text/plain": [
       "   P   actu_renwd2 gain      lift    \n",
       "1  0.1 12614       0.4645185 4.645185\n",
       "2  0.2 18346       0.6756030 3.378015\n",
       "3  0.3 21812       0.8032407 2.677469\n",
       "4  0.4 24088       0.8870558 2.217639\n",
       "5  0.5 25296       0.9315412 1.863082\n",
       "6  0.6 26218       0.9654944 1.609157\n",
       "7  0.7 26752       0.9851593 1.407370\n",
       "8  0.8 27019       0.9949917 1.243740\n",
       "9  0.9 27136       0.9993003 1.110334\n",
       "10 1.0 27155       1.0000000 1.000000"
      ]
     },
     "metadata": {},
     "output_type": "display_data"
    }
   ],
   "source": [
    "lift_df2"
   ]
  },
  {
   "cell_type": "code",
   "execution_count": 66,
   "metadata": {},
   "outputs": [
    {
     "data": {
      "image/png": "[encoded data removed]",
      "text/plain": [
       "plot without title"
      ]
     },
     "metadata": {
      "image/png": {
       "height": 420,
       "width": 420
      },
      "text/plain": {
       "height": 420,
       "width": 420
      }
     },
     "output_type": "display_data"
    }
   ],
   "source": [
    "lift_df_seg_glm_expiry_exptest <- readRDS('../../data/lift_df_seg_glm_expiry_exptest')\n",
    "plot_multigains <- plot_multigains(\n",
    "    lift_df_list=list(\n",
    "        agg_rf = lift_df,\n",
    "        agg_glm = lift_df2,\n",
    "        seg_glm = lift_df_seg_glm_expiry_exptest),\n",
    "    auc_list = list(\n",
    "        agg_rf = calc_auc(lift_df),\n",
    "        agg_glm = calc_auc(lift_df2),\n",
    "        seg_glm = calc_auc(lift_df_seg_glm_expiry_exptest)))\n",
    "# png(file = \"../../data/output/plot_multigains_03_summ5.png\",\n",
    "#     width = 500, height = 375)\n",
    "plot(plot_multigains)\n",
    "# dev.off()"
   ]
  },
  {
   "cell_type": "code",
   "execution_count": 67,
   "metadata": {},
   "outputs": [
    {
     "data": {
      "text/html": [
       "0.816507088933898"
      ],
      "text/latex": [
       "0.816507088933898"
      ],
      "text/markdown": [
       "0.816507088933898"
      ],
      "text/plain": [
       "[1] 0.8165071"
      ]
     },
     "metadata": {},
     "output_type": "display_data"
    }
   ],
   "source": [
    "calc_auc(lift_df_seg_glm_expiry_exptest)"
   ]
  },
  {
   "cell_type": "code",
   "execution_count": 68,
   "metadata": {},
   "outputs": [
    {
     "data": {
      "text/html": [
       "<table>\n",
       "<caption>A data.frame: 10 × 4</caption>\n",
       "<thead>\n",
       "\t<tr><th scope=col>P</th><th scope=col>actu_renwd2</th><th scope=col>gain</th><th scope=col>lift</th></tr>\n",
       "\t<tr><th scope=col>&lt;dbl&gt;</th><th scope=col>&lt;int&gt;</th><th scope=col>&lt;dbl&gt;</th><th scope=col>&lt;dbl&gt;</th></tr>\n",
       "</thead>\n",
       "<tbody>\n",
       "\t<tr><td>0.1</td><td>12787</td><td>0.4708893</td><td>4.708893</td></tr>\n",
       "\t<tr><td>0.2</td><td>18692</td><td>0.6883447</td><td>3.441723</td></tr>\n",
       "\t<tr><td>0.3</td><td>21933</td><td>0.8076966</td><td>2.692322</td></tr>\n",
       "\t<tr><td>0.4</td><td>24000</td><td>0.8838151</td><td>2.209538</td></tr>\n",
       "\t<tr><td>0.5</td><td>25227</td><td>0.9290002</td><td>1.858000</td></tr>\n",
       "\t<tr><td>0.6</td><td>25947</td><td>0.9555146</td><td>1.592524</td></tr>\n",
       "\t<tr><td>0.7</td><td>26325</td><td>0.9694347</td><td>1.384907</td></tr>\n",
       "\t<tr><td>0.8</td><td>26587</td><td>0.9790830</td><td>1.223854</td></tr>\n",
       "\t<tr><td>0.9</td><td>26647</td><td>0.9812926</td><td>1.090325</td></tr>\n",
       "\t<tr><td>1.0</td><td>27155</td><td>1.0000000</td><td>1.000000</td></tr>\n",
       "</tbody>\n",
       "</table>\n"
      ],
      "text/latex": [
       "A data.frame: 10 × 4\n",
       "\\begin{tabular}{llll}\n",
       " P & actu\\_renwd2 & gain & lift\\\\\n",
       " <dbl> & <int> & <dbl> & <dbl>\\\\\n",
       "\\hline\n",
       "\t 0.1 & 12787 & 0.4708893 & 4.708893\\\\\n",
       "\t 0.2 & 18692 & 0.6883447 & 3.441723\\\\\n",
       "\t 0.3 & 21933 & 0.8076966 & 2.692322\\\\\n",
       "\t 0.4 & 24000 & 0.8838151 & 2.209538\\\\\n",
       "\t 0.5 & 25227 & 0.9290002 & 1.858000\\\\\n",
       "\t 0.6 & 25947 & 0.9555146 & 1.592524\\\\\n",
       "\t 0.7 & 26325 & 0.9694347 & 1.384907\\\\\n",
       "\t 0.8 & 26587 & 0.9790830 & 1.223854\\\\\n",
       "\t 0.9 & 26647 & 0.9812926 & 1.090325\\\\\n",
       "\t 1.0 & 27155 & 1.0000000 & 1.000000\\\\\n",
       "\\end{tabular}\n"
      ],
      "text/markdown": [
       "\n",
       "A data.frame: 10 × 4\n",
       "\n",
       "| P &lt;dbl&gt; | actu_renwd2 &lt;int&gt; | gain &lt;dbl&gt; | lift &lt;dbl&gt; |\n",
       "|---|---|---|---|\n",
       "| 0.1 | 12787 | 0.4708893 | 4.708893 |\n",
       "| 0.2 | 18692 | 0.6883447 | 3.441723 |\n",
       "| 0.3 | 21933 | 0.8076966 | 2.692322 |\n",
       "| 0.4 | 24000 | 0.8838151 | 2.209538 |\n",
       "| 0.5 | 25227 | 0.9290002 | 1.858000 |\n",
       "| 0.6 | 25947 | 0.9555146 | 1.592524 |\n",
       "| 0.7 | 26325 | 0.9694347 | 1.384907 |\n",
       "| 0.8 | 26587 | 0.9790830 | 1.223854 |\n",
       "| 0.9 | 26647 | 0.9812926 | 1.090325 |\n",
       "| 1.0 | 27155 | 1.0000000 | 1.000000 |\n",
       "\n"
      ],
      "text/plain": [
       "   P   actu_renwd2 gain      lift    \n",
       "1  0.1 12787       0.4708893 4.708893\n",
       "2  0.2 18692       0.6883447 3.441723\n",
       "3  0.3 21933       0.8076966 2.692322\n",
       "4  0.4 24000       0.8838151 2.209538\n",
       "5  0.5 25227       0.9290002 1.858000\n",
       "6  0.6 25947       0.9555146 1.592524\n",
       "7  0.7 26325       0.9694347 1.384907\n",
       "8  0.8 26587       0.9790830 1.223854\n",
       "9  0.9 26647       0.9812926 1.090325\n",
       "10 1.0 27155       1.0000000 1.000000"
      ]
     },
     "metadata": {},
     "output_type": "display_data"
    }
   ],
   "source": [
    "lift_df_seg_glm_expiry_exptest"
   ]
  },
  {
   "cell_type": "markdown",
   "metadata": {},
   "source": [
    "# Rerun seg_rf results (now w/ reseller instead of registrar)"
   ]
  },
  {
   "cell_type": "code",
   "execution_count": 11,
   "metadata": {},
   "outputs": [],
   "source": [
    "num_trees = 1000\n",
    "train = expiry_train_df_1\n",
    "test = expiry_test_df_1"
   ]
  },
  {
   "cell_type": "code",
   "execution_count": 12,
   "metadata": {},
   "outputs": [
    {
     "name": "stdout",
     "output_type": "stream",
     "text": [
      "\n",
      "Training & Testing remaining aggregate forest.\n",
      "Growing trees.. Progress: 7%. Estimated remaining time: 7 minutes, 40 seconds.\n",
      "Growing trees.. Progress: 13%. Estimated remaining time: 6 minutes, 54 seconds.\n",
      "Growing trees.. Progress: 20%. Estimated remaining time: 6 minutes, 18 seconds.\n",
      "Growing trees.. Progress: 27%. Estimated remaining time: 5 minutes, 42 seconds.\n",
      "Growing trees.. Progress: 34%. Estimated remaining time: 5 minutes, 7 seconds.\n",
      "Growing trees.. Progress: 41%. Estimated remaining time: 4 minutes, 31 seconds.\n",
      "Growing trees.. Progress: 48%. Estimated remaining time: 3 minutes, 59 seconds.\n",
      "Growing trees.. Progress: 54%. Estimated remaining time: 3 minutes, 30 seconds.\n",
      "Growing trees.. Progress: 61%. Estimated remaining time: 2 minutes, 58 seconds.\n",
      "Growing trees.. Progress: 68%. Estimated remaining time: 2 minutes, 25 seconds.\n",
      "Growing trees.. Progress: 76%. Estimated remaining time: 1 minute, 51 seconds.\n",
      "Growing trees.. Progress: 83%. Estimated remaining time: 1 minute, 18 seconds.\n",
      "Growing trees.. Progress: 90%. Estimated remaining time: 46 seconds.\n",
      "Growing trees.. Progress: 97%. Estimated remaining time: 13 seconds.\n"
     ]
    }
   ],
   "source": [
    "cat(\"\\nTraining & Testing remaining aggregate forest.\\n\")\n",
    "\n",
    "ranger_03_reg_full <- ranger(\n",
    "formula         = renewal_status ~ tld + reseller + reseller_country + \n",
    "                            region + reg_period + sld_type + sld_length + day_domains + \n",
    "                            gibb_score + pattern_domain_count + reg_arpt,\n",
    "data            = train, \n",
    "importance      = 'impurity', \n",
    "num.trees       = num_trees,\n",
    "    probability     = TRUE,\n",
    "#     mtry            = 3,\n",
    "#     min.node.size   = 10,\n",
    "#     replace         = FALSE,\n",
    "#     sample.fraction = .8,\n",
    "seed            = 123\n",
    ")\n",
    "\n",
    "ranger_predict_03_reg_full <- predict(ranger_03_reg_full, \n",
    "                                 data = test,\n",
    "                                 type=\"response\")$predictions\n",
    "\n",
    "ranger_predict_03_reg_full <- as.data.frame(ranger_predict_03_reg_full)$Renewed"
   ]
  },
  {
   "cell_type": "code",
   "execution_count": 13,
   "metadata": {},
   "outputs": [
    {
     "data": {
      "text/html": [
       "<table>\n",
       "<caption>A data.table: 6 × 40</caption>\n",
       "<thead>\n",
       "\t<tr><th scope=col>renewal_type</th><th scope=col>renewed_count</th><th scope=col>expiry_date</th><th scope=col>domain_id</th><th scope=col>domain</th><th scope=col>creation_date</th><th scope=col>status</th><th scope=col>tld</th><th scope=col>registrar</th><th scope=col>reseller</th><th scope=col>reseller_country</th><th scope=col>region</th><th scope=col>reg_period</th><th scope=col>registrant_country</th><th scope=col>renewal_status</th><th scope=col>renew_mbg</th><th scope=col>renew_type</th><th scope=col>autorenew_type</th><th scope=col>renew_date</th><th scope=col>renew_registrar</th><th scope=col>renew_reseller</th><th scope=col>reg_revenue</th><th scope=col>reg_arpt</th><th scope=col>renew_period</th><th scope=col>renew_domain_revenue</th><th scope=col>renew_arpt</th><th scope=col>reg_arpt_org</th><th scope=col>tld_registrar_index</th><th scope=col>sld</th><th scope=col>sld_type</th><th scope=col>sld_length</th><th scope=col>sld_type2</th><th scope=col>day_domains</th><th scope=col>log_reg_arpt</th><th scope=col>gibb_score</th><th scope=col>pattern</th><th scope=col>cluster</th><th scope=col>pattern_score</th><th scope=col>pattern_domain_count</th><th scope=col>first_renewal_prediction</th></tr>\n",
       "\t<tr><th scope=col>&lt;chr&gt;</th><th scope=col>&lt;int&gt;</th><th scope=col>&lt;date&gt;</th><th scope=col>&lt;int&gt;</th><th scope=col>&lt;chr&gt;</th><th scope=col>&lt;date&gt;</th><th scope=col>&lt;chr&gt;</th><th scope=col>&lt;fct&gt;</th><th scope=col>&lt;chr&gt;</th><th scope=col>&lt;chr&gt;</th><th scope=col>&lt;chr&gt;</th><th scope=col>&lt;chr&gt;</th><th scope=col>&lt;int&gt;</th><th scope=col>&lt;chr&gt;</th><th scope=col>&lt;fct&gt;</th><th scope=col>&lt;int&gt;</th><th scope=col>&lt;chr&gt;</th><th scope=col>&lt;chr&gt;</th><th scope=col>&lt;date&gt;</th><th scope=col>&lt;chr&gt;</th><th scope=col>&lt;chr&gt;</th><th scope=col>&lt;dbl&gt;</th><th scope=col>&lt;dbl&gt;</th><th scope=col>&lt;int&gt;</th><th scope=col>&lt;dbl&gt;</th><th scope=col>&lt;dbl&gt;</th><th scope=col>&lt;dbl&gt;</th><th scope=col>&lt;chr&gt;</th><th scope=col>&lt;chr&gt;</th><th scope=col>&lt;fct&gt;</th><th scope=col>&lt;int&gt;</th><th scope=col>&lt;chr&gt;</th><th scope=col>&lt;int&gt;</th><th scope=col>&lt;dbl&gt;</th><th scope=col>&lt;dbl&gt;</th><th scope=col>&lt;chr&gt;</th><th scope=col>&lt;chr&gt;</th><th scope=col>&lt;dbl&gt;</th><th scope=col>&lt;int&gt;</th><th scope=col>&lt;dbl&gt;</th></tr>\n",
       "</thead>\n",
       "<tbody>\n",
       "\t<tr><td>FirstTime</td><td>1</td><td>2020-01-22</td><td> 91639803</td><td><span style=white-space:pre-wrap>segeln.fun   </span></td><td>2019-01-22</td><td>Active</td><td>fun</td><td><span style=white-space:pre-wrap>1&amp;1 internet    </span></td><td><span style=white-space:pre-wrap>1&amp;1 internet    </span></td><td>Germany</td><td>Non China</td><td>1</td><td>NA</td><td><span style=white-space:pre-wrap>Renewed   </span></td><td>0</td><td>auto-renewal</td><td><span style=white-space:pre-wrap>realized  </span></td><td>2020-01-22</td><td><span style=white-space:pre-wrap>1&amp;1 Internet    </span></td><td><span style=white-space:pre-wrap>1&amp;1 Internet    </span></td><td>15</td><td>15</td><td>1</td><td>15</td><td>15</td><td>15</td><td><span style=white-space:pre-wrap>fun1&amp;1 internet    </span></td><td><span style=white-space:pre-wrap>segeln   </span></td><td>l</td><td>6</td><td>6l</td><td>1</td><td>2.708050</td><td>2.23</td><td><span style=white-space:pre-wrap>segeln   </span></td><td>1</td><td>1</td><td>1</td><td>0.4887504</td></tr>\n",
       "\t<tr><td>FirstTime</td><td>1</td><td>2020-03-07</td><td> 95819759</td><td>harzhotel.fun</td><td>2019-03-07</td><td>Active</td><td>fun</td><td><span style=white-space:pre-wrap>1&amp;1 internet    </span></td><td><span style=white-space:pre-wrap>1&amp;1 internet    </span></td><td>Germany</td><td>Non China</td><td>1</td><td>NA</td><td><span style=white-space:pre-wrap>Renewed   </span></td><td>0</td><td>auto-renewal</td><td><span style=white-space:pre-wrap>realized  </span></td><td>2020-03-07</td><td><span style=white-space:pre-wrap>1&amp;1 Internet    </span></td><td><span style=white-space:pre-wrap>1&amp;1 Internet    </span></td><td>15</td><td>15</td><td>1</td><td>15</td><td>15</td><td>15</td><td><span style=white-space:pre-wrap>fun1&amp;1 internet    </span></td><td>harzhotel</td><td>l</td><td>9</td><td>9l</td><td>1</td><td>2.708050</td><td>3.45</td><td>harzhotel</td><td>1</td><td>1</td><td>1</td><td>0.4651045</td></tr>\n",
       "\t<tr><td>FirstTime</td><td>1</td><td>2020-01-15</td><td> 91044973</td><td>movistar.fun </td><td>2019-01-15</td><td>Active</td><td>fun</td><td>10dencehispahard</td><td>10dencehispahard</td><td>Spain  </td><td>Non China</td><td>1</td><td>NA</td><td>Not Renewd</td><td>0</td><td>auto-renewal</td><td>unrealized</td><td>2020-01-15</td><td>10dencehispahard</td><td>10dencehispahard</td><td>15</td><td>15</td><td>1</td><td>15</td><td>15</td><td>15</td><td>fun10dencehispahard</td><td>movistar </td><td>l</td><td>8</td><td>8l</td><td>1</td><td>2.708050</td><td>8.62</td><td>movistar </td><td>1</td><td>1</td><td>1</td><td>0.5977130</td></tr>\n",
       "\t<tr><td>FirstTime</td><td>1</td><td>2020-02-01</td><td> 92472913</td><td>kuinik.fun   </td><td>2019-02-01</td><td>Active</td><td>fun</td><td>10dencehispahard</td><td>10dencehispahard</td><td>Spain  </td><td>Non China</td><td>1</td><td>NA</td><td>Not Renewd</td><td>0</td><td>auto-renewal</td><td>unrealized</td><td>2020-02-01</td><td>10dencehispahard</td><td>10dencehispahard</td><td>15</td><td>15</td><td>1</td><td>15</td><td>15</td><td>15</td><td>fun10dencehispahard</td><td>kuinik   </td><td>l</td><td>6</td><td>6l</td><td>1</td><td>2.708050</td><td>3.13</td><td>kuinik   </td><td>1</td><td>1</td><td>1</td><td>0.5226652</td></tr>\n",
       "\t<tr><td>FirstTime</td><td>1</td><td>2020-01-21</td><td> 91532433</td><td>bulgari.fun  </td><td>2019-01-21</td><td>Active</td><td>fun</td><td>1api            </td><td>1api            </td><td>Germany</td><td>Non China</td><td>1</td><td>NA</td><td>Renewed   </td><td>0</td><td>auto-renewal</td><td>realized  </td><td>2020-01-21</td><td>1API            </td><td>1API            </td><td> 5</td><td> 5</td><td>1</td><td>15</td><td>15</td><td> 5</td><td>fun1api            </td><td>bulgari  </td><td>l</td><td>7</td><td>7l</td><td>1</td><td>1.609438</td><td>4.51</td><td>bulgari  </td><td>1</td><td>1</td><td>1</td><td>0.4805170</td></tr>\n",
       "\t<tr><td>FirstTime</td><td>1</td><td>2020-04-24</td><td>101717674</td><td>gotsome.fun  </td><td>2019-04-24</td><td>Active</td><td>fun</td><td>1api            </td><td>1api            </td><td>Germany</td><td>Non China</td><td>1</td><td>NA</td><td>Not Renewd</td><td>0</td><td>auto-renewal</td><td>unrealized</td><td>2020-04-24</td><td>1API            </td><td>1API            </td><td> 5</td><td> 5</td><td>1</td><td>15</td><td>15</td><td> 5</td><td>fun1api            </td><td>gotsome  </td><td>l</td><td>7</td><td>7l</td><td>1</td><td>1.609438</td><td>6.09</td><td>gotsome  </td><td>1</td><td>1</td><td>1</td><td>0.4653271</td></tr>\n",
       "</tbody>\n",
       "</table>\n"
      ],
      "text/latex": [
       "A data.table: 6 × 40\n",
       "\\begin{tabular}{llllllllllllllllllllllllllllllllllllllll}\n",
       " renewal\\_type & renewed\\_count & expiry\\_date & domain\\_id & domain & creation\\_date & status & tld & registrar & reseller & reseller\\_country & region & reg\\_period & registrant\\_country & renewal\\_status & renew\\_mbg & renew\\_type & autorenew\\_type & renew\\_date & renew\\_registrar & renew\\_reseller & reg\\_revenue & reg\\_arpt & renew\\_period & renew\\_domain\\_revenue & renew\\_arpt & reg\\_arpt\\_org & tld\\_registrar\\_index & sld & sld\\_type & sld\\_length & sld\\_type2 & day\\_domains & log\\_reg\\_arpt & gibb\\_score & pattern & cluster & pattern\\_score & pattern\\_domain\\_count & first\\_renewal\\_prediction\\\\\n",
       " <chr> & <int> & <date> & <int> & <chr> & <date> & <chr> & <fct> & <chr> & <chr> & <chr> & <chr> & <int> & <chr> & <fct> & <int> & <chr> & <chr> & <date> & <chr> & <chr> & <dbl> & <dbl> & <int> & <dbl> & <dbl> & <dbl> & <chr> & <chr> & <fct> & <int> & <chr> & <int> & <dbl> & <dbl> & <chr> & <chr> & <dbl> & <int> & <dbl>\\\\\n",
       "\\hline\n",
       "\t FirstTime & 1 & 2020-01-22 &  91639803 & segeln.fun    & 2019-01-22 & Active & fun & 1\\&1 internet     & 1\\&1 internet     & Germany & Non China & 1 & NA & Renewed    & 0 & auto-renewal & realized   & 2020-01-22 & 1\\&1 Internet     & 1\\&1 Internet     & 15 & 15 & 1 & 15 & 15 & 15 & fun1\\&1 internet     & segeln    & l & 6 & 6l & 1 & 2.708050 & 2.23 & segeln    & 1 & 1 & 1 & 0.4887504\\\\\n",
       "\t FirstTime & 1 & 2020-03-07 &  95819759 & harzhotel.fun & 2019-03-07 & Active & fun & 1\\&1 internet     & 1\\&1 internet     & Germany & Non China & 1 & NA & Renewed    & 0 & auto-renewal & realized   & 2020-03-07 & 1\\&1 Internet     & 1\\&1 Internet     & 15 & 15 & 1 & 15 & 15 & 15 & fun1\\&1 internet     & harzhotel & l & 9 & 9l & 1 & 2.708050 & 3.45 & harzhotel & 1 & 1 & 1 & 0.4651045\\\\\n",
       "\t FirstTime & 1 & 2020-01-15 &  91044973 & movistar.fun  & 2019-01-15 & Active & fun & 10dencehispahard & 10dencehispahard & Spain   & Non China & 1 & NA & Not Renewd & 0 & auto-renewal & unrealized & 2020-01-15 & 10dencehispahard & 10dencehispahard & 15 & 15 & 1 & 15 & 15 & 15 & fun10dencehispahard & movistar  & l & 8 & 8l & 1 & 2.708050 & 8.62 & movistar  & 1 & 1 & 1 & 0.5977130\\\\\n",
       "\t FirstTime & 1 & 2020-02-01 &  92472913 & kuinik.fun    & 2019-02-01 & Active & fun & 10dencehispahard & 10dencehispahard & Spain   & Non China & 1 & NA & Not Renewd & 0 & auto-renewal & unrealized & 2020-02-01 & 10dencehispahard & 10dencehispahard & 15 & 15 & 1 & 15 & 15 & 15 & fun10dencehispahard & kuinik    & l & 6 & 6l & 1 & 2.708050 & 3.13 & kuinik    & 1 & 1 & 1 & 0.5226652\\\\\n",
       "\t FirstTime & 1 & 2020-01-21 &  91532433 & bulgari.fun   & 2019-01-21 & Active & fun & 1api             & 1api             & Germany & Non China & 1 & NA & Renewed    & 0 & auto-renewal & realized   & 2020-01-21 & 1API             & 1API             &  5 &  5 & 1 & 15 & 15 &  5 & fun1api             & bulgari   & l & 7 & 7l & 1 & 1.609438 & 4.51 & bulgari   & 1 & 1 & 1 & 0.4805170\\\\\n",
       "\t FirstTime & 1 & 2020-04-24 & 101717674 & gotsome.fun   & 2019-04-24 & Active & fun & 1api             & 1api             & Germany & Non China & 1 & NA & Not Renewd & 0 & auto-renewal & unrealized & 2020-04-24 & 1API             & 1API             &  5 &  5 & 1 & 15 & 15 &  5 & fun1api             & gotsome   & l & 7 & 7l & 1 & 1.609438 & 6.09 & gotsome   & 1 & 1 & 1 & 0.4653271\\\\\n",
       "\\end{tabular}\n"
      ],
      "text/markdown": [
       "\n",
       "A data.table: 6 × 40\n",
       "\n",
       "| renewal_type &lt;chr&gt; | renewed_count &lt;int&gt; | expiry_date &lt;date&gt; | domain_id &lt;int&gt; | domain &lt;chr&gt; | creation_date &lt;date&gt; | status &lt;chr&gt; | tld &lt;fct&gt; | registrar &lt;chr&gt; | reseller &lt;chr&gt; | reseller_country &lt;chr&gt; | region &lt;chr&gt; | reg_period &lt;int&gt; | registrant_country &lt;chr&gt; | renewal_status &lt;fct&gt; | renew_mbg &lt;int&gt; | renew_type &lt;chr&gt; | autorenew_type &lt;chr&gt; | renew_date &lt;date&gt; | renew_registrar &lt;chr&gt; | renew_reseller &lt;chr&gt; | reg_revenue &lt;dbl&gt; | reg_arpt &lt;dbl&gt; | renew_period &lt;int&gt; | renew_domain_revenue &lt;dbl&gt; | renew_arpt &lt;dbl&gt; | reg_arpt_org &lt;dbl&gt; | tld_registrar_index &lt;chr&gt; | sld &lt;chr&gt; | sld_type &lt;fct&gt; | sld_length &lt;int&gt; | sld_type2 &lt;chr&gt; | day_domains &lt;int&gt; | log_reg_arpt &lt;dbl&gt; | gibb_score &lt;dbl&gt; | pattern &lt;chr&gt; | cluster &lt;chr&gt; | pattern_score &lt;dbl&gt; | pattern_domain_count &lt;int&gt; | first_renewal_prediction &lt;dbl&gt; |\n",
       "|---|---|---|---|---|---|---|---|---|---|---|---|---|---|---|---|---|---|---|---|---|---|---|---|---|---|---|---|---|---|---|---|---|---|---|---|---|---|---|---|\n",
       "| FirstTime | 1 | 2020-01-22 |  91639803 | segeln.fun    | 2019-01-22 | Active | fun | 1&amp;1 internet     | 1&amp;1 internet     | Germany | Non China | 1 | NA | Renewed    | 0 | auto-renewal | realized   | 2020-01-22 | 1&amp;1 Internet     | 1&amp;1 Internet     | 15 | 15 | 1 | 15 | 15 | 15 | fun1&amp;1 internet     | segeln    | l | 6 | 6l | 1 | 2.708050 | 2.23 | segeln    | 1 | 1 | 1 | 0.4887504 |\n",
       "| FirstTime | 1 | 2020-03-07 |  95819759 | harzhotel.fun | 2019-03-07 | Active | fun | 1&amp;1 internet     | 1&amp;1 internet     | Germany | Non China | 1 | NA | Renewed    | 0 | auto-renewal | realized   | 2020-03-07 | 1&amp;1 Internet     | 1&amp;1 Internet     | 15 | 15 | 1 | 15 | 15 | 15 | fun1&amp;1 internet     | harzhotel | l | 9 | 9l | 1 | 2.708050 | 3.45 | harzhotel | 1 | 1 | 1 | 0.4651045 |\n",
       "| FirstTime | 1 | 2020-01-15 |  91044973 | movistar.fun  | 2019-01-15 | Active | fun | 10dencehispahard | 10dencehispahard | Spain   | Non China | 1 | NA | Not Renewd | 0 | auto-renewal | unrealized | 2020-01-15 | 10dencehispahard | 10dencehispahard | 15 | 15 | 1 | 15 | 15 | 15 | fun10dencehispahard | movistar  | l | 8 | 8l | 1 | 2.708050 | 8.62 | movistar  | 1 | 1 | 1 | 0.5977130 |\n",
       "| FirstTime | 1 | 2020-02-01 |  92472913 | kuinik.fun    | 2019-02-01 | Active | fun | 10dencehispahard | 10dencehispahard | Spain   | Non China | 1 | NA | Not Renewd | 0 | auto-renewal | unrealized | 2020-02-01 | 10dencehispahard | 10dencehispahard | 15 | 15 | 1 | 15 | 15 | 15 | fun10dencehispahard | kuinik    | l | 6 | 6l | 1 | 2.708050 | 3.13 | kuinik    | 1 | 1 | 1 | 0.5226652 |\n",
       "| FirstTime | 1 | 2020-01-21 |  91532433 | bulgari.fun   | 2019-01-21 | Active | fun | 1api             | 1api             | Germany | Non China | 1 | NA | Renewed    | 0 | auto-renewal | realized   | 2020-01-21 | 1API             | 1API             |  5 |  5 | 1 | 15 | 15 |  5 | fun1api             | bulgari   | l | 7 | 7l | 1 | 1.609438 | 4.51 | bulgari   | 1 | 1 | 1 | 0.4805170 |\n",
       "| FirstTime | 1 | 2020-04-24 | 101717674 | gotsome.fun   | 2019-04-24 | Active | fun | 1api             | 1api             | Germany | Non China | 1 | NA | Not Renewd | 0 | auto-renewal | unrealized | 2020-04-24 | 1API             | 1API             |  5 |  5 | 1 | 15 | 15 |  5 | fun1api             | gotsome   | l | 7 | 7l | 1 | 1.609438 | 6.09 | gotsome   | 1 | 1 | 1 | 0.4653271 |\n",
       "\n"
      ],
      "text/plain": [
       "  renewal_type renewed_count expiry_date domain_id domain        creation_date\n",
       "1 FirstTime    1             2020-01-22   91639803 segeln.fun    2019-01-22   \n",
       "2 FirstTime    1             2020-03-07   95819759 harzhotel.fun 2019-03-07   \n",
       "3 FirstTime    1             2020-01-15   91044973 movistar.fun  2019-01-15   \n",
       "4 FirstTime    1             2020-02-01   92472913 kuinik.fun    2019-02-01   \n",
       "5 FirstTime    1             2020-01-21   91532433 bulgari.fun   2019-01-21   \n",
       "6 FirstTime    1             2020-04-24  101717674 gotsome.fun   2019-04-24   \n",
       "  status tld registrar        reseller         reseller_country region   \n",
       "1 Active fun 1&1 internet     1&1 internet     Germany          Non China\n",
       "2 Active fun 1&1 internet     1&1 internet     Germany          Non China\n",
       "3 Active fun 10dencehispahard 10dencehispahard Spain            Non China\n",
       "4 Active fun 10dencehispahard 10dencehispahard Spain            Non China\n",
       "5 Active fun 1api             1api             Germany          Non China\n",
       "6 Active fun 1api             1api             Germany          Non China\n",
       "  reg_period registrant_country renewal_status renew_mbg renew_type  \n",
       "1 1          NA                 Renewed        0         auto-renewal\n",
       "2 1          NA                 Renewed        0         auto-renewal\n",
       "3 1          NA                 Not Renewd     0         auto-renewal\n",
       "4 1          NA                 Not Renewd     0         auto-renewal\n",
       "5 1          NA                 Renewed        0         auto-renewal\n",
       "6 1          NA                 Not Renewd     0         auto-renewal\n",
       "  autorenew_type renew_date renew_registrar  renew_reseller   reg_revenue\n",
       "1 realized       2020-01-22 1&1 Internet     1&1 Internet     15         \n",
       "2 realized       2020-03-07 1&1 Internet     1&1 Internet     15         \n",
       "3 unrealized     2020-01-15 10dencehispahard 10dencehispahard 15         \n",
       "4 unrealized     2020-02-01 10dencehispahard 10dencehispahard 15         \n",
       "5 realized       2020-01-21 1API             1API              5         \n",
       "6 unrealized     2020-04-24 1API             1API              5         \n",
       "  reg_arpt renew_period renew_domain_revenue renew_arpt reg_arpt_org\n",
       "1 15       1            15                   15         15          \n",
       "2 15       1            15                   15         15          \n",
       "3 15       1            15                   15         15          \n",
       "4 15       1            15                   15         15          \n",
       "5  5       1            15                   15          5          \n",
       "6  5       1            15                   15          5          \n",
       "  tld_registrar_index sld       sld_type sld_length sld_type2 day_domains\n",
       "1 fun1&1 internet     segeln    l        6          6l        1          \n",
       "2 fun1&1 internet     harzhotel l        9          9l        1          \n",
       "3 fun10dencehispahard movistar  l        8          8l        1          \n",
       "4 fun10dencehispahard kuinik    l        6          6l        1          \n",
       "5 fun1api             bulgari   l        7          7l        1          \n",
       "6 fun1api             gotsome   l        7          7l        1          \n",
       "  log_reg_arpt gibb_score pattern   cluster pattern_score pattern_domain_count\n",
       "1 2.708050     2.23       segeln    1       1             1                   \n",
       "2 2.708050     3.45       harzhotel 1       1             1                   \n",
       "3 2.708050     8.62       movistar  1       1             1                   \n",
       "4 2.708050     3.13       kuinik    1       1             1                   \n",
       "5 1.609438     4.51       bulgari   1       1             1                   \n",
       "6 1.609438     6.09       gotsome   1       1             1                   \n",
       "  first_renewal_prediction\n",
       "1 0.4887504               \n",
       "2 0.4651045               \n",
       "3 0.5977130               \n",
       "4 0.5226652               \n",
       "5 0.4805170               \n",
       "6 0.4653271               "
      ]
     },
     "metadata": {},
     "output_type": "display_data"
    }
   ],
   "source": [
    "test$first_renewal_prediction <- ranger_predict_03_reg_full\n",
    "head(test)"
   ]
  },
  {
   "cell_type": "code",
   "execution_count": 14,
   "metadata": {},
   "outputs": [
    {
     "data": {
      "text/html": [
       "<table>\n",
       "<caption>A data.table: 6 × 40</caption>\n",
       "<thead>\n",
       "\t<tr><th scope=col>renewal_type</th><th scope=col>renewed_count</th><th scope=col>expiry_date</th><th scope=col>domain_id</th><th scope=col>domain</th><th scope=col>creation_date</th><th scope=col>status</th><th scope=col>tld</th><th scope=col>registrar</th><th scope=col>reseller</th><th scope=col>reseller_country</th><th scope=col>region</th><th scope=col>reg_period</th><th scope=col>registrant_country</th><th scope=col>renewal_status</th><th scope=col>renew_mbg</th><th scope=col>renew_type</th><th scope=col>autorenew_type</th><th scope=col>renew_date</th><th scope=col>renew_registrar</th><th scope=col>renew_reseller</th><th scope=col>reg_revenue</th><th scope=col>reg_arpt</th><th scope=col>renew_period</th><th scope=col>renew_domain_revenue</th><th scope=col>renew_arpt</th><th scope=col>reg_arpt_org</th><th scope=col>tld_registrar_index</th><th scope=col>sld</th><th scope=col>sld_type</th><th scope=col>sld_length</th><th scope=col>sld_type2</th><th scope=col>day_domains</th><th scope=col>log_reg_arpt</th><th scope=col>gibb_score</th><th scope=col>pattern</th><th scope=col>cluster</th><th scope=col>pattern_score</th><th scope=col>pattern_domain_count</th><th scope=col>first_renewal_prediction</th></tr>\n",
       "\t<tr><th scope=col>&lt;chr&gt;</th><th scope=col>&lt;int&gt;</th><th scope=col>&lt;date&gt;</th><th scope=col>&lt;int&gt;</th><th scope=col>&lt;chr&gt;</th><th scope=col>&lt;date&gt;</th><th scope=col>&lt;chr&gt;</th><th scope=col>&lt;fct&gt;</th><th scope=col>&lt;chr&gt;</th><th scope=col>&lt;chr&gt;</th><th scope=col>&lt;chr&gt;</th><th scope=col>&lt;chr&gt;</th><th scope=col>&lt;int&gt;</th><th scope=col>&lt;chr&gt;</th><th scope=col>&lt;fct&gt;</th><th scope=col>&lt;int&gt;</th><th scope=col>&lt;chr&gt;</th><th scope=col>&lt;chr&gt;</th><th scope=col>&lt;date&gt;</th><th scope=col>&lt;chr&gt;</th><th scope=col>&lt;chr&gt;</th><th scope=col>&lt;dbl&gt;</th><th scope=col>&lt;dbl&gt;</th><th scope=col>&lt;int&gt;</th><th scope=col>&lt;dbl&gt;</th><th scope=col>&lt;dbl&gt;</th><th scope=col>&lt;dbl&gt;</th><th scope=col>&lt;chr&gt;</th><th scope=col>&lt;chr&gt;</th><th scope=col>&lt;fct&gt;</th><th scope=col>&lt;int&gt;</th><th scope=col>&lt;chr&gt;</th><th scope=col>&lt;int&gt;</th><th scope=col>&lt;dbl&gt;</th><th scope=col>&lt;dbl&gt;</th><th scope=col>&lt;chr&gt;</th><th scope=col>&lt;chr&gt;</th><th scope=col>&lt;dbl&gt;</th><th scope=col>&lt;int&gt;</th><th scope=col>&lt;dbl&gt;</th></tr>\n",
       "</thead>\n",
       "<tbody>\n",
       "\t<tr><td>FirstTime</td><td>1</td><td>2020-01-22</td><td> 91639803</td><td><span style=white-space:pre-wrap>segeln.fun   </span></td><td>2019-01-22</td><td>Active</td><td>fun</td><td><span style=white-space:pre-wrap>1&amp;1 internet    </span></td><td><span style=white-space:pre-wrap>1&amp;1 internet    </span></td><td>Germany</td><td>Non China</td><td>1</td><td>NA</td><td><span style=white-space:pre-wrap>Renewed   </span></td><td>0</td><td>auto-renewal</td><td><span style=white-space:pre-wrap>realized  </span></td><td>2020-01-22</td><td><span style=white-space:pre-wrap>1&amp;1 Internet    </span></td><td><span style=white-space:pre-wrap>1&amp;1 Internet    </span></td><td>15</td><td>15</td><td>1</td><td>15</td><td>15</td><td>15</td><td><span style=white-space:pre-wrap>fun1&amp;1 internet    </span></td><td><span style=white-space:pre-wrap>segeln   </span></td><td>l</td><td>6</td><td>6l</td><td>1</td><td>2.708050</td><td>2.23</td><td><span style=white-space:pre-wrap>segeln   </span></td><td>1</td><td>1</td><td>1</td><td>0.4887504</td></tr>\n",
       "\t<tr><td>FirstTime</td><td>1</td><td>2020-03-07</td><td> 95819759</td><td>harzhotel.fun</td><td>2019-03-07</td><td>Active</td><td>fun</td><td><span style=white-space:pre-wrap>1&amp;1 internet    </span></td><td><span style=white-space:pre-wrap>1&amp;1 internet    </span></td><td>Germany</td><td>Non China</td><td>1</td><td>NA</td><td><span style=white-space:pre-wrap>Renewed   </span></td><td>0</td><td>auto-renewal</td><td><span style=white-space:pre-wrap>realized  </span></td><td>2020-03-07</td><td><span style=white-space:pre-wrap>1&amp;1 Internet    </span></td><td><span style=white-space:pre-wrap>1&amp;1 Internet    </span></td><td>15</td><td>15</td><td>1</td><td>15</td><td>15</td><td>15</td><td><span style=white-space:pre-wrap>fun1&amp;1 internet    </span></td><td>harzhotel</td><td>l</td><td>9</td><td>9l</td><td>1</td><td>2.708050</td><td>3.45</td><td>harzhotel</td><td>1</td><td>1</td><td>1</td><td>0.4651045</td></tr>\n",
       "\t<tr><td>FirstTime</td><td>1</td><td>2020-01-15</td><td> 91044973</td><td>movistar.fun </td><td>2019-01-15</td><td>Active</td><td>fun</td><td>10dencehispahard</td><td>10dencehispahard</td><td>Spain  </td><td>Non China</td><td>1</td><td>NA</td><td>Not Renewd</td><td>0</td><td>auto-renewal</td><td>unrealized</td><td>2020-01-15</td><td>10dencehispahard</td><td>10dencehispahard</td><td>15</td><td>15</td><td>1</td><td>15</td><td>15</td><td>15</td><td>fun10dencehispahard</td><td>movistar </td><td>l</td><td>8</td><td>8l</td><td>1</td><td>2.708050</td><td>8.62</td><td>movistar </td><td>1</td><td>1</td><td>1</td><td>0.5977130</td></tr>\n",
       "\t<tr><td>FirstTime</td><td>1</td><td>2020-02-01</td><td> 92472913</td><td>kuinik.fun   </td><td>2019-02-01</td><td>Active</td><td>fun</td><td>10dencehispahard</td><td>10dencehispahard</td><td>Spain  </td><td>Non China</td><td>1</td><td>NA</td><td>Not Renewd</td><td>0</td><td>auto-renewal</td><td>unrealized</td><td>2020-02-01</td><td>10dencehispahard</td><td>10dencehispahard</td><td>15</td><td>15</td><td>1</td><td>15</td><td>15</td><td>15</td><td>fun10dencehispahard</td><td>kuinik   </td><td>l</td><td>6</td><td>6l</td><td>1</td><td>2.708050</td><td>3.13</td><td>kuinik   </td><td>1</td><td>1</td><td>1</td><td>0.5226652</td></tr>\n",
       "\t<tr><td>FirstTime</td><td>1</td><td>2020-01-21</td><td> 91532433</td><td>bulgari.fun  </td><td>2019-01-21</td><td>Active</td><td>fun</td><td>1api            </td><td>1api            </td><td>Germany</td><td>Non China</td><td>1</td><td>NA</td><td>Renewed   </td><td>0</td><td>auto-renewal</td><td>realized  </td><td>2020-01-21</td><td>1API            </td><td>1API            </td><td> 5</td><td> 5</td><td>1</td><td>15</td><td>15</td><td> 5</td><td>fun1api            </td><td>bulgari  </td><td>l</td><td>7</td><td>7l</td><td>1</td><td>1.609438</td><td>4.51</td><td>bulgari  </td><td>1</td><td>1</td><td>1</td><td>0.4805170</td></tr>\n",
       "\t<tr><td>FirstTime</td><td>1</td><td>2020-04-24</td><td>101717674</td><td>gotsome.fun  </td><td>2019-04-24</td><td>Active</td><td>fun</td><td>1api            </td><td>1api            </td><td>Germany</td><td>Non China</td><td>1</td><td>NA</td><td>Not Renewd</td><td>0</td><td>auto-renewal</td><td>unrealized</td><td>2020-04-24</td><td>1API            </td><td>1API            </td><td> 5</td><td> 5</td><td>1</td><td>15</td><td>15</td><td> 5</td><td>fun1api            </td><td>gotsome  </td><td>l</td><td>7</td><td>7l</td><td>1</td><td>1.609438</td><td>6.09</td><td>gotsome  </td><td>1</td><td>1</td><td>1</td><td>0.4653271</td></tr>\n",
       "</tbody>\n",
       "</table>\n"
      ],
      "text/latex": [
       "A data.table: 6 × 40\n",
       "\\begin{tabular}{llllllllllllllllllllllllllllllllllllllll}\n",
       " renewal\\_type & renewed\\_count & expiry\\_date & domain\\_id & domain & creation\\_date & status & tld & registrar & reseller & reseller\\_country & region & reg\\_period & registrant\\_country & renewal\\_status & renew\\_mbg & renew\\_type & autorenew\\_type & renew\\_date & renew\\_registrar & renew\\_reseller & reg\\_revenue & reg\\_arpt & renew\\_period & renew\\_domain\\_revenue & renew\\_arpt & reg\\_arpt\\_org & tld\\_registrar\\_index & sld & sld\\_type & sld\\_length & sld\\_type2 & day\\_domains & log\\_reg\\_arpt & gibb\\_score & pattern & cluster & pattern\\_score & pattern\\_domain\\_count & first\\_renewal\\_prediction\\\\\n",
       " <chr> & <int> & <date> & <int> & <chr> & <date> & <chr> & <fct> & <chr> & <chr> & <chr> & <chr> & <int> & <chr> & <fct> & <int> & <chr> & <chr> & <date> & <chr> & <chr> & <dbl> & <dbl> & <int> & <dbl> & <dbl> & <dbl> & <chr> & <chr> & <fct> & <int> & <chr> & <int> & <dbl> & <dbl> & <chr> & <chr> & <dbl> & <int> & <dbl>\\\\\n",
       "\\hline\n",
       "\t FirstTime & 1 & 2020-01-22 &  91639803 & segeln.fun    & 2019-01-22 & Active & fun & 1\\&1 internet     & 1\\&1 internet     & Germany & Non China & 1 & NA & Renewed    & 0 & auto-renewal & realized   & 2020-01-22 & 1\\&1 Internet     & 1\\&1 Internet     & 15 & 15 & 1 & 15 & 15 & 15 & fun1\\&1 internet     & segeln    & l & 6 & 6l & 1 & 2.708050 & 2.23 & segeln    & 1 & 1 & 1 & 0.4887504\\\\\n",
       "\t FirstTime & 1 & 2020-03-07 &  95819759 & harzhotel.fun & 2019-03-07 & Active & fun & 1\\&1 internet     & 1\\&1 internet     & Germany & Non China & 1 & NA & Renewed    & 0 & auto-renewal & realized   & 2020-03-07 & 1\\&1 Internet     & 1\\&1 Internet     & 15 & 15 & 1 & 15 & 15 & 15 & fun1\\&1 internet     & harzhotel & l & 9 & 9l & 1 & 2.708050 & 3.45 & harzhotel & 1 & 1 & 1 & 0.4651045\\\\\n",
       "\t FirstTime & 1 & 2020-01-15 &  91044973 & movistar.fun  & 2019-01-15 & Active & fun & 10dencehispahard & 10dencehispahard & Spain   & Non China & 1 & NA & Not Renewd & 0 & auto-renewal & unrealized & 2020-01-15 & 10dencehispahard & 10dencehispahard & 15 & 15 & 1 & 15 & 15 & 15 & fun10dencehispahard & movistar  & l & 8 & 8l & 1 & 2.708050 & 8.62 & movistar  & 1 & 1 & 1 & 0.5977130\\\\\n",
       "\t FirstTime & 1 & 2020-02-01 &  92472913 & kuinik.fun    & 2019-02-01 & Active & fun & 10dencehispahard & 10dencehispahard & Spain   & Non China & 1 & NA & Not Renewd & 0 & auto-renewal & unrealized & 2020-02-01 & 10dencehispahard & 10dencehispahard & 15 & 15 & 1 & 15 & 15 & 15 & fun10dencehispahard & kuinik    & l & 6 & 6l & 1 & 2.708050 & 3.13 & kuinik    & 1 & 1 & 1 & 0.5226652\\\\\n",
       "\t FirstTime & 1 & 2020-01-21 &  91532433 & bulgari.fun   & 2019-01-21 & Active & fun & 1api             & 1api             & Germany & Non China & 1 & NA & Renewed    & 0 & auto-renewal & realized   & 2020-01-21 & 1API             & 1API             &  5 &  5 & 1 & 15 & 15 &  5 & fun1api             & bulgari   & l & 7 & 7l & 1 & 1.609438 & 4.51 & bulgari   & 1 & 1 & 1 & 0.4805170\\\\\n",
       "\t FirstTime & 1 & 2020-04-24 & 101717674 & gotsome.fun   & 2019-04-24 & Active & fun & 1api             & 1api             & Germany & Non China & 1 & NA & Not Renewd & 0 & auto-renewal & unrealized & 2020-04-24 & 1API             & 1API             &  5 &  5 & 1 & 15 & 15 &  5 & fun1api             & gotsome   & l & 7 & 7l & 1 & 1.609438 & 6.09 & gotsome   & 1 & 1 & 1 & 0.4653271\\\\\n",
       "\\end{tabular}\n"
      ],
      "text/markdown": [
       "\n",
       "A data.table: 6 × 40\n",
       "\n",
       "| renewal_type &lt;chr&gt; | renewed_count &lt;int&gt; | expiry_date &lt;date&gt; | domain_id &lt;int&gt; | domain &lt;chr&gt; | creation_date &lt;date&gt; | status &lt;chr&gt; | tld &lt;fct&gt; | registrar &lt;chr&gt; | reseller &lt;chr&gt; | reseller_country &lt;chr&gt; | region &lt;chr&gt; | reg_period &lt;int&gt; | registrant_country &lt;chr&gt; | renewal_status &lt;fct&gt; | renew_mbg &lt;int&gt; | renew_type &lt;chr&gt; | autorenew_type &lt;chr&gt; | renew_date &lt;date&gt; | renew_registrar &lt;chr&gt; | renew_reseller &lt;chr&gt; | reg_revenue &lt;dbl&gt; | reg_arpt &lt;dbl&gt; | renew_period &lt;int&gt; | renew_domain_revenue &lt;dbl&gt; | renew_arpt &lt;dbl&gt; | reg_arpt_org &lt;dbl&gt; | tld_registrar_index &lt;chr&gt; | sld &lt;chr&gt; | sld_type &lt;fct&gt; | sld_length &lt;int&gt; | sld_type2 &lt;chr&gt; | day_domains &lt;int&gt; | log_reg_arpt &lt;dbl&gt; | gibb_score &lt;dbl&gt; | pattern &lt;chr&gt; | cluster &lt;chr&gt; | pattern_score &lt;dbl&gt; | pattern_domain_count &lt;int&gt; | first_renewal_prediction &lt;dbl&gt; |\n",
       "|---|---|---|---|---|---|---|---|---|---|---|---|---|---|---|---|---|---|---|---|---|---|---|---|---|---|---|---|---|---|---|---|---|---|---|---|---|---|---|---|\n",
       "| FirstTime | 1 | 2020-01-22 |  91639803 | segeln.fun    | 2019-01-22 | Active | fun | 1&amp;1 internet     | 1&amp;1 internet     | Germany | Non China | 1 | NA | Renewed    | 0 | auto-renewal | realized   | 2020-01-22 | 1&amp;1 Internet     | 1&amp;1 Internet     | 15 | 15 | 1 | 15 | 15 | 15 | fun1&amp;1 internet     | segeln    | l | 6 | 6l | 1 | 2.708050 | 2.23 | segeln    | 1 | 1 | 1 | 0.4887504 |\n",
       "| FirstTime | 1 | 2020-03-07 |  95819759 | harzhotel.fun | 2019-03-07 | Active | fun | 1&amp;1 internet     | 1&amp;1 internet     | Germany | Non China | 1 | NA | Renewed    | 0 | auto-renewal | realized   | 2020-03-07 | 1&amp;1 Internet     | 1&amp;1 Internet     | 15 | 15 | 1 | 15 | 15 | 15 | fun1&amp;1 internet     | harzhotel | l | 9 | 9l | 1 | 2.708050 | 3.45 | harzhotel | 1 | 1 | 1 | 0.4651045 |\n",
       "| FirstTime | 1 | 2020-01-15 |  91044973 | movistar.fun  | 2019-01-15 | Active | fun | 10dencehispahard | 10dencehispahard | Spain   | Non China | 1 | NA | Not Renewd | 0 | auto-renewal | unrealized | 2020-01-15 | 10dencehispahard | 10dencehispahard | 15 | 15 | 1 | 15 | 15 | 15 | fun10dencehispahard | movistar  | l | 8 | 8l | 1 | 2.708050 | 8.62 | movistar  | 1 | 1 | 1 | 0.5977130 |\n",
       "| FirstTime | 1 | 2020-02-01 |  92472913 | kuinik.fun    | 2019-02-01 | Active | fun | 10dencehispahard | 10dencehispahard | Spain   | Non China | 1 | NA | Not Renewd | 0 | auto-renewal | unrealized | 2020-02-01 | 10dencehispahard | 10dencehispahard | 15 | 15 | 1 | 15 | 15 | 15 | fun10dencehispahard | kuinik    | l | 6 | 6l | 1 | 2.708050 | 3.13 | kuinik    | 1 | 1 | 1 | 0.5226652 |\n",
       "| FirstTime | 1 | 2020-01-21 |  91532433 | bulgari.fun   | 2019-01-21 | Active | fun | 1api             | 1api             | Germany | Non China | 1 | NA | Renewed    | 0 | auto-renewal | realized   | 2020-01-21 | 1API             | 1API             |  5 |  5 | 1 | 15 | 15 |  5 | fun1api             | bulgari   | l | 7 | 7l | 1 | 1.609438 | 4.51 | bulgari   | 1 | 1 | 1 | 0.4805170 |\n",
       "| FirstTime | 1 | 2020-04-24 | 101717674 | gotsome.fun   | 2019-04-24 | Active | fun | 1api             | 1api             | Germany | Non China | 1 | NA | Not Renewd | 0 | auto-renewal | unrealized | 2020-04-24 | 1API             | 1API             |  5 |  5 | 1 | 15 | 15 |  5 | fun1api             | gotsome   | l | 7 | 7l | 1 | 1.609438 | 6.09 | gotsome   | 1 | 1 | 1 | 0.4653271 |\n",
       "\n"
      ],
      "text/plain": [
       "  renewal_type renewed_count expiry_date domain_id domain        creation_date\n",
       "1 FirstTime    1             2020-01-22   91639803 segeln.fun    2019-01-22   \n",
       "2 FirstTime    1             2020-03-07   95819759 harzhotel.fun 2019-03-07   \n",
       "3 FirstTime    1             2020-01-15   91044973 movistar.fun  2019-01-15   \n",
       "4 FirstTime    1             2020-02-01   92472913 kuinik.fun    2019-02-01   \n",
       "5 FirstTime    1             2020-01-21   91532433 bulgari.fun   2019-01-21   \n",
       "6 FirstTime    1             2020-04-24  101717674 gotsome.fun   2019-04-24   \n",
       "  status tld registrar        reseller         reseller_country region   \n",
       "1 Active fun 1&1 internet     1&1 internet     Germany          Non China\n",
       "2 Active fun 1&1 internet     1&1 internet     Germany          Non China\n",
       "3 Active fun 10dencehispahard 10dencehispahard Spain            Non China\n",
       "4 Active fun 10dencehispahard 10dencehispahard Spain            Non China\n",
       "5 Active fun 1api             1api             Germany          Non China\n",
       "6 Active fun 1api             1api             Germany          Non China\n",
       "  reg_period registrant_country renewal_status renew_mbg renew_type  \n",
       "1 1          NA                 Renewed        0         auto-renewal\n",
       "2 1          NA                 Renewed        0         auto-renewal\n",
       "3 1          NA                 Not Renewd     0         auto-renewal\n",
       "4 1          NA                 Not Renewd     0         auto-renewal\n",
       "5 1          NA                 Renewed        0         auto-renewal\n",
       "6 1          NA                 Not Renewd     0         auto-renewal\n",
       "  autorenew_type renew_date renew_registrar  renew_reseller   reg_revenue\n",
       "1 realized       2020-01-22 1&1 Internet     1&1 Internet     15         \n",
       "2 realized       2020-03-07 1&1 Internet     1&1 Internet     15         \n",
       "3 unrealized     2020-01-15 10dencehispahard 10dencehispahard 15         \n",
       "4 unrealized     2020-02-01 10dencehispahard 10dencehispahard 15         \n",
       "5 realized       2020-01-21 1API             1API              5         \n",
       "6 unrealized     2020-04-24 1API             1API              5         \n",
       "  reg_arpt renew_period renew_domain_revenue renew_arpt reg_arpt_org\n",
       "1 15       1            15                   15         15          \n",
       "2 15       1            15                   15         15          \n",
       "3 15       1            15                   15         15          \n",
       "4 15       1            15                   15         15          \n",
       "5  5       1            15                   15          5          \n",
       "6  5       1            15                   15          5          \n",
       "  tld_registrar_index sld       sld_type sld_length sld_type2 day_domains\n",
       "1 fun1&1 internet     segeln    l        6          6l        1          \n",
       "2 fun1&1 internet     harzhotel l        9          9l        1          \n",
       "3 fun10dencehispahard movistar  l        8          8l        1          \n",
       "4 fun10dencehispahard kuinik    l        6          6l        1          \n",
       "5 fun1api             bulgari   l        7          7l        1          \n",
       "6 fun1api             gotsome   l        7          7l        1          \n",
       "  log_reg_arpt gibb_score pattern   cluster pattern_score pattern_domain_count\n",
       "1 2.708050     2.23       segeln    1       1             1                   \n",
       "2 2.708050     3.45       harzhotel 1       1             1                   \n",
       "3 2.708050     8.62       movistar  1       1             1                   \n",
       "4 2.708050     3.13       kuinik    1       1             1                   \n",
       "5 1.609438     4.51       bulgari   1       1             1                   \n",
       "6 1.609438     6.09       gotsome   1       1             1                   \n",
       "  first_renewal_prediction\n",
       "1 0.4887504               \n",
       "2 0.4651045               \n",
       "3 0.5977130               \n",
       "4 0.5226652               \n",
       "5 0.4805170               \n",
       "6 0.4653271               "
      ]
     },
     "metadata": {},
     "output_type": "display_data"
    }
   ],
   "source": [
    "test_full <- expiry_test_df_1\n",
    "\n",
    "test_full$first_renewal_prediction <- ranger_predict_03_reg_full\n",
    "head(test_full)"
   ]
  },
  {
   "cell_type": "code",
   "execution_count": 16,
   "metadata": {},
   "outputs": [],
   "source": [
    "df3 = data.frame(\"actual\" = test$renewal_status,\n",
    "          \"predicted\" = test$first_renewal_prediction)\n",
    "\n",
    "lift_df3 <- chart_lift(pred_df = df3,\n",
    "                        dep_var = \"actual\",\n",
    "                        pred_var = \"predicted\")\n",
    "\n",
    "gains_plot3 <- plot_gains (lift_df3) \n",
    "\n",
    "auc_val3 <- calc_auc(lift_df3)\n",
    "\n",
    "\n",
    "# saveRDS(lift_df_seg_glm_expiry_exptest, file.path('../../data/output/',\"lift_df_seg_glm_expiry_exptest\"))"
   ]
  },
  {
   "cell_type": "code",
   "execution_count": 17,
   "metadata": {},
   "outputs": [
    {
     "data": {
      "text/html": [
       "0.759681458294973"
      ],
      "text/latex": [
       "0.759681458294973"
      ],
      "text/markdown": [
       "0.759681458294973"
      ],
      "text/plain": [
       "[1] 0.7596815"
      ]
     },
     "metadata": {},
     "output_type": "display_data"
    }
   ],
   "source": [
    "auc_val3"
   ]
  },
  {
   "cell_type": "code",
   "execution_count": 18,
   "metadata": {},
   "outputs": [
    {
     "data": {
      "text/html": [
       "<table>\n",
       "<caption>A data.frame: 10 × 4</caption>\n",
       "<thead>\n",
       "\t<tr><th scope=col>P</th><th scope=col>actu_renwd2</th><th scope=col>gain</th><th scope=col>lift</th></tr>\n",
       "\t<tr><th scope=col>&lt;dbl&gt;</th><th scope=col>&lt;int&gt;</th><th scope=col>&lt;dbl&gt;</th><th scope=col>&lt;dbl&gt;</th></tr>\n",
       "</thead>\n",
       "<tbody>\n",
       "\t<tr><td>0.1</td><td>10790</td><td>0.3973486</td><td>3.973486</td></tr>\n",
       "\t<tr><td>0.2</td><td>15550</td><td>0.5726386</td><td>2.863193</td></tr>\n",
       "\t<tr><td>0.3</td><td>18529</td><td>0.6823421</td><td>2.274474</td></tr>\n",
       "\t<tr><td>0.4</td><td>20958</td><td>0.7717916</td><td>1.929479</td></tr>\n",
       "\t<tr><td>0.5</td><td>22958</td><td>0.8454428</td><td>1.690886</td></tr>\n",
       "\t<tr><td>0.6</td><td>24567</td><td>0.9046953</td><td>1.507825</td></tr>\n",
       "\t<tr><td>0.7</td><td>25707</td><td>0.9466765</td><td>1.352395</td></tr>\n",
       "\t<tr><td>0.8</td><td>26630</td><td>0.9806665</td><td>1.225833</td></tr>\n",
       "\t<tr><td>0.9</td><td>27025</td><td>0.9952127</td><td>1.105792</td></tr>\n",
       "\t<tr><td>1.0</td><td>27155</td><td>1.0000000</td><td>1.000000</td></tr>\n",
       "</tbody>\n",
       "</table>\n"
      ],
      "text/latex": [
       "A data.frame: 10 × 4\n",
       "\\begin{tabular}{llll}\n",
       " P & actu\\_renwd2 & gain & lift\\\\\n",
       " <dbl> & <int> & <dbl> & <dbl>\\\\\n",
       "\\hline\n",
       "\t 0.1 & 10790 & 0.3973486 & 3.973486\\\\\n",
       "\t 0.2 & 15550 & 0.5726386 & 2.863193\\\\\n",
       "\t 0.3 & 18529 & 0.6823421 & 2.274474\\\\\n",
       "\t 0.4 & 20958 & 0.7717916 & 1.929479\\\\\n",
       "\t 0.5 & 22958 & 0.8454428 & 1.690886\\\\\n",
       "\t 0.6 & 24567 & 0.9046953 & 1.507825\\\\\n",
       "\t 0.7 & 25707 & 0.9466765 & 1.352395\\\\\n",
       "\t 0.8 & 26630 & 0.9806665 & 1.225833\\\\\n",
       "\t 0.9 & 27025 & 0.9952127 & 1.105792\\\\\n",
       "\t 1.0 & 27155 & 1.0000000 & 1.000000\\\\\n",
       "\\end{tabular}\n"
      ],
      "text/markdown": [
       "\n",
       "A data.frame: 10 × 4\n",
       "\n",
       "| P &lt;dbl&gt; | actu_renwd2 &lt;int&gt; | gain &lt;dbl&gt; | lift &lt;dbl&gt; |\n",
       "|---|---|---|---|\n",
       "| 0.1 | 10790 | 0.3973486 | 3.973486 |\n",
       "| 0.2 | 15550 | 0.5726386 | 2.863193 |\n",
       "| 0.3 | 18529 | 0.6823421 | 2.274474 |\n",
       "| 0.4 | 20958 | 0.7717916 | 1.929479 |\n",
       "| 0.5 | 22958 | 0.8454428 | 1.690886 |\n",
       "| 0.6 | 24567 | 0.9046953 | 1.507825 |\n",
       "| 0.7 | 25707 | 0.9466765 | 1.352395 |\n",
       "| 0.8 | 26630 | 0.9806665 | 1.225833 |\n",
       "| 0.9 | 27025 | 0.9952127 | 1.105792 |\n",
       "| 1.0 | 27155 | 1.0000000 | 1.000000 |\n",
       "\n"
      ],
      "text/plain": [
       "   P   actu_renwd2 gain      lift    \n",
       "1  0.1 10790       0.3973486 3.973486\n",
       "2  0.2 15550       0.5726386 2.863193\n",
       "3  0.3 18529       0.6823421 2.274474\n",
       "4  0.4 20958       0.7717916 1.929479\n",
       "5  0.5 22958       0.8454428 1.690886\n",
       "6  0.6 24567       0.9046953 1.507825\n",
       "7  0.7 25707       0.9466765 1.352395\n",
       "8  0.8 26630       0.9806665 1.225833\n",
       "9  0.9 27025       0.9952127 1.105792\n",
       "10 1.0 27155       1.0000000 1.000000"
      ]
     },
     "metadata": {},
     "output_type": "display_data"
    }
   ],
   "source": [
    "lift_df3"
   ]
  },
  {
   "cell_type": "code",
   "execution_count": null,
   "metadata": {},
   "outputs": [],
   "source": [
    "plot_multigains <- plot_multigains(\n",
    "    lift_df_list=list(\n",
    "        _agg_rf = lift_df,\n",
    "        _agg_glm = lift_df2,\n",
    "        agg_rf = lift_df3,\n",
    "        seg_glm = lift_df_seg_glm_expiry_exptest),\n",
    "    auc_list = list(\n",
    "        _agg_rf = calc_auc(lift_df),\n",
    "        _agg_glm = calc_auc(lift_df2),\n",
    "        agg_rf = calc_auc(lift_df3),\n",
    "        seg_glm = calc_auc(lift_df_seg_glm_expiry_exptest)))\n",
    "# png(file = \"../../data/output/plot_multigains_03_summ5.png\",\n",
    "#     width = 500, height = 375)\n",
    "plot(plot_multigains)\n",
    "# dev.off()"
   ]
  },
  {
   "cell_type": "code",
   "execution_count": 24,
   "metadata": {},
   "outputs": [],
   "source": [
    "# save(ranger_03_expiry2, file=\"../../data/output/ranger_03_expiry2\")\n",
    "# save(predict_ranger_03_expiry2, file=\"../../data/output/predict_ranger_03_expiry2\")\n",
    "\n",
    "system(\"gsutil cp /home/jupyter/local/Domains_202003/data/output/* gs://data_outputt/output/\")\n",
    "system(\"mv /home/jupyter/local/Domains_202003/data/output/* /home/jupyter/local/Domains_202003/data/\")"
   ]
  },
  {
   "cell_type": "markdown",
   "metadata": {},
   "source": [
    "# Compare agg_rf and agg_glm results\n",
    "## Investigate why agg_rf test results has fewer rows than agg_glm"
   ]
  },
  {
   "cell_type": "code",
   "execution_count": 124,
   "metadata": {},
   "outputs": [
    {
     "name": "stdout",
     "output_type": "stream",
     "text": [
      "'data.frame':\t152784 obs. of  5 variables:\n",
      " $ domain             : chr  \"segeln.fun\" \"harzhotel.fun\" \"movistar.fun\" \"kuinik.fun\" ...\n",
      " $ pred_rf            : num  0.65 0.671 0.611 0.501 0.806 ...\n",
      " $ renewal_status     : Factor w/ 2 levels \"Renewed\",\"Not Renewd\": 1 1 2 2 1 2 2 2 2 2 ...\n",
      " $ tld_registrar_index: chr  \"fun1&1 internet\" \"fun1&1 internet\" \"fun10dencehispahard\" \"fun10dencehispahard\" ...\n",
      " $ registrar          : chr  \"1&1 internet\" \"1&1 internet\" \"10dencehispahard\" \"10dencehispahard\" ...\n"
     ]
    },
    {
     "data": {
      "text/html": [
       "<table>\n",
       "<caption>A data.frame: 6 × 5</caption>\n",
       "<thead>\n",
       "\t<tr><th></th><th scope=col>domain</th><th scope=col>pred_rf</th><th scope=col>renewal_status</th><th scope=col>tld_registrar_index</th><th scope=col>registrar</th></tr>\n",
       "\t<tr><th></th><th scope=col>&lt;chr&gt;</th><th scope=col>&lt;dbl&gt;</th><th scope=col>&lt;fct&gt;</th><th scope=col>&lt;chr&gt;</th><th scope=col>&lt;chr&gt;</th></tr>\n",
       "</thead>\n",
       "<tbody>\n",
       "\t<tr><th scope=row>1</th><td><span style=white-space:pre-wrap>segeln.fun   </span></td><td>0.6502946</td><td><span style=white-space:pre-wrap>Renewed   </span></td><td><span style=white-space:pre-wrap>fun1&amp;1 internet    </span></td><td><span style=white-space:pre-wrap>1&amp;1 internet    </span></td></tr>\n",
       "\t<tr><th scope=row>2</th><td>harzhotel.fun</td><td>0.6714504</td><td><span style=white-space:pre-wrap>Renewed   </span></td><td><span style=white-space:pre-wrap>fun1&amp;1 internet    </span></td><td><span style=white-space:pre-wrap>1&amp;1 internet    </span></td></tr>\n",
       "\t<tr><th scope=row>3</th><td>movistar.fun </td><td>0.6107611</td><td>Not Renewd</td><td>fun10dencehispahard</td><td>10dencehispahard</td></tr>\n",
       "\t<tr><th scope=row>4</th><td>kuinik.fun   </td><td>0.5011916</td><td>Not Renewd</td><td>fun10dencehispahard</td><td>10dencehispahard</td></tr>\n",
       "\t<tr><th scope=row>5</th><td>bulgari.fun  </td><td>0.8055027</td><td>Renewed   </td><td>fun1api            </td><td>1api            </td></tr>\n",
       "\t<tr><th scope=row>6</th><td>gotsome.fun  </td><td>0.8044683</td><td>Not Renewd</td><td>fun1api            </td><td>1api            </td></tr>\n",
       "</tbody>\n",
       "</table>\n"
      ],
      "text/latex": [
       "A data.frame: 6 × 5\n",
       "\\begin{tabular}{r|lllll}\n",
       "  & domain & pred\\_rf & renewal\\_status & tld\\_registrar\\_index & registrar\\\\\n",
       "  & <chr> & <dbl> & <fct> & <chr> & <chr>\\\\\n",
       "\\hline\n",
       "\t1 & segeln.fun    & 0.6502946 & Renewed    & fun1\\&1 internet     & 1\\&1 internet    \\\\\n",
       "\t2 & harzhotel.fun & 0.6714504 & Renewed    & fun1\\&1 internet     & 1\\&1 internet    \\\\\n",
       "\t3 & movistar.fun  & 0.6107611 & Not Renewd & fun10dencehispahard & 10dencehispahard\\\\\n",
       "\t4 & kuinik.fun    & 0.5011916 & Not Renewd & fun10dencehispahard & 10dencehispahard\\\\\n",
       "\t5 & bulgari.fun   & 0.8055027 & Renewed    & fun1api             & 1api            \\\\\n",
       "\t6 & gotsome.fun   & 0.8044683 & Not Renewd & fun1api             & 1api            \\\\\n",
       "\\end{tabular}\n"
      ],
      "text/markdown": [
       "\n",
       "A data.frame: 6 × 5\n",
       "\n",
       "| <!--/--> | domain &lt;chr&gt; | pred_rf &lt;dbl&gt; | renewal_status &lt;fct&gt; | tld_registrar_index &lt;chr&gt; | registrar &lt;chr&gt; |\n",
       "|---|---|---|---|---|---|\n",
       "| 1 | segeln.fun    | 0.6502946 | Renewed    | fun1&amp;1 internet     | 1&amp;1 internet     |\n",
       "| 2 | harzhotel.fun | 0.6714504 | Renewed    | fun1&amp;1 internet     | 1&amp;1 internet     |\n",
       "| 3 | movistar.fun  | 0.6107611 | Not Renewd | fun10dencehispahard | 10dencehispahard |\n",
       "| 4 | kuinik.fun    | 0.5011916 | Not Renewd | fun10dencehispahard | 10dencehispahard |\n",
       "| 5 | bulgari.fun   | 0.8055027 | Renewed    | fun1api             | 1api             |\n",
       "| 6 | gotsome.fun   | 0.8044683 | Not Renewd | fun1api             | 1api             |\n",
       "\n"
      ],
      "text/plain": [
       "  domain        pred_rf   renewal_status tld_registrar_index registrar       \n",
       "1 segeln.fun    0.6502946 Renewed        fun1&1 internet     1&1 internet    \n",
       "2 harzhotel.fun 0.6714504 Renewed        fun1&1 internet     1&1 internet    \n",
       "3 movistar.fun  0.6107611 Not Renewd     fun10dencehispahard 10dencehispahard\n",
       "4 kuinik.fun    0.5011916 Not Renewd     fun10dencehispahard 10dencehispahard\n",
       "5 bulgari.fun   0.8055027 Renewed        fun1api             1api            \n",
       "6 gotsome.fun   0.8044683 Not Renewd     fun1api             1api            "
      ]
     },
     "metadata": {},
     "output_type": "display_data"
    }
   ],
   "source": [
    "agg_rf_results <- data.frame(test_full)[c(\"domain\",\"first_renewal_prediction\",\"renewal_status\",\"tld_registrar_index\",\"registrar\")]\n",
    "names(agg_rf_results) <- c(\"domain\",\"pred_rf\",\"renewal_status\",\"tld_registrar_index\",\"registrar\")\n",
    "str(agg_rf_results)\n",
    "head(agg_rf_results)"
   ]
  },
  {
   "cell_type": "code",
   "execution_count": 125,
   "metadata": {},
   "outputs": [
    {
     "name": "stdout",
     "output_type": "stream",
     "text": [
      "'data.frame':\t154431 obs. of  5 variables:\n",
      " $ domain             : chr  \"segeln.fun\" \"harzhotel.fun\" \"movistar.fun\" \"kuinik.fun\" ...\n",
      " $ pred_glm           : num  0.518 0.502 0.169 0.166 0.426 0.432 0.266 0.279 0.295 0.293 ...\n",
      " $ renewal_status     : Factor w/ 2 levels \"Renewed\",\"Not Renewd\": 1 1 2 2 1 2 2 2 2 2 ...\n",
      " $ tld_registrar_index: chr  \"fun1&1 internet\" \"fun1&1 internet\" \"fun10dencehispahard\" \"fun10dencehispahard\" ...\n",
      " $ registrar          : chr  \"1&1 internet\" \"1&1 internet\" \"10dencehispahard\" \"10dencehispahard\" ...\n"
     ]
    },
    {
     "data": {
      "text/html": [
       "<table>\n",
       "<caption>A data.frame: 6 × 5</caption>\n",
       "<thead>\n",
       "\t<tr><th></th><th scope=col>domain</th><th scope=col>pred_glm</th><th scope=col>renewal_status</th><th scope=col>tld_registrar_index</th><th scope=col>registrar</th></tr>\n",
       "\t<tr><th></th><th scope=col>&lt;chr&gt;</th><th scope=col>&lt;dbl&gt;</th><th scope=col>&lt;fct&gt;</th><th scope=col>&lt;chr&gt;</th><th scope=col>&lt;chr&gt;</th></tr>\n",
       "</thead>\n",
       "<tbody>\n",
       "\t<tr><th scope=row>1</th><td><span style=white-space:pre-wrap>segeln.fun   </span></td><td>0.518</td><td><span style=white-space:pre-wrap>Renewed   </span></td><td><span style=white-space:pre-wrap>fun1&amp;1 internet    </span></td><td><span style=white-space:pre-wrap>1&amp;1 internet    </span></td></tr>\n",
       "\t<tr><th scope=row>2</th><td>harzhotel.fun</td><td>0.502</td><td><span style=white-space:pre-wrap>Renewed   </span></td><td><span style=white-space:pre-wrap>fun1&amp;1 internet    </span></td><td><span style=white-space:pre-wrap>1&amp;1 internet    </span></td></tr>\n",
       "\t<tr><th scope=row>3</th><td>movistar.fun </td><td>0.169</td><td>Not Renewd</td><td>fun10dencehispahard</td><td>10dencehispahard</td></tr>\n",
       "\t<tr><th scope=row>4</th><td>kuinik.fun   </td><td>0.166</td><td>Not Renewd</td><td>fun10dencehispahard</td><td>10dencehispahard</td></tr>\n",
       "\t<tr><th scope=row>5</th><td>bulgari.fun  </td><td>0.426</td><td>Renewed   </td><td>fun1api            </td><td>1api            </td></tr>\n",
       "\t<tr><th scope=row>6</th><td>gotsome.fun  </td><td>0.432</td><td>Not Renewd</td><td>fun1api            </td><td>1api            </td></tr>\n",
       "</tbody>\n",
       "</table>\n"
      ],
      "text/latex": [
       "A data.frame: 6 × 5\n",
       "\\begin{tabular}{r|lllll}\n",
       "  & domain & pred\\_glm & renewal\\_status & tld\\_registrar\\_index & registrar\\\\\n",
       "  & <chr> & <dbl> & <fct> & <chr> & <chr>\\\\\n",
       "\\hline\n",
       "\t1 & segeln.fun    & 0.518 & Renewed    & fun1\\&1 internet     & 1\\&1 internet    \\\\\n",
       "\t2 & harzhotel.fun & 0.502 & Renewed    & fun1\\&1 internet     & 1\\&1 internet    \\\\\n",
       "\t3 & movistar.fun  & 0.169 & Not Renewd & fun10dencehispahard & 10dencehispahard\\\\\n",
       "\t4 & kuinik.fun    & 0.166 & Not Renewd & fun10dencehispahard & 10dencehispahard\\\\\n",
       "\t5 & bulgari.fun   & 0.426 & Renewed    & fun1api             & 1api            \\\\\n",
       "\t6 & gotsome.fun   & 0.432 & Not Renewd & fun1api             & 1api            \\\\\n",
       "\\end{tabular}\n"
      ],
      "text/markdown": [
       "\n",
       "A data.frame: 6 × 5\n",
       "\n",
       "| <!--/--> | domain &lt;chr&gt; | pred_glm &lt;dbl&gt; | renewal_status &lt;fct&gt; | tld_registrar_index &lt;chr&gt; | registrar &lt;chr&gt; |\n",
       "|---|---|---|---|---|---|\n",
       "| 1 | segeln.fun    | 0.518 | Renewed    | fun1&amp;1 internet     | 1&amp;1 internet     |\n",
       "| 2 | harzhotel.fun | 0.502 | Renewed    | fun1&amp;1 internet     | 1&amp;1 internet     |\n",
       "| 3 | movistar.fun  | 0.169 | Not Renewd | fun10dencehispahard | 10dencehispahard |\n",
       "| 4 | kuinik.fun    | 0.166 | Not Renewd | fun10dencehispahard | 10dencehispahard |\n",
       "| 5 | bulgari.fun   | 0.426 | Renewed    | fun1api             | 1api             |\n",
       "| 6 | gotsome.fun   | 0.432 | Not Renewd | fun1api             | 1api             |\n",
       "\n"
      ],
      "text/plain": [
       "  domain        pred_glm renewal_status tld_registrar_index registrar       \n",
       "1 segeln.fun    0.518    Renewed        fun1&1 internet     1&1 internet    \n",
       "2 harzhotel.fun 0.502    Renewed        fun1&1 internet     1&1 internet    \n",
       "3 movistar.fun  0.169    Not Renewd     fun10dencehispahard 10dencehispahard\n",
       "4 kuinik.fun    0.166    Not Renewd     fun10dencehispahard 10dencehispahard\n",
       "5 bulgari.fun   0.426    Renewed        fun1api             1api            \n",
       "6 gotsome.fun   0.432    Not Renewd     fun1api             1api            "
      ]
     },
     "metadata": {},
     "output_type": "display_data"
    }
   ],
   "source": [
    "agg_glm_results <- data.frame(seg_glm_expiry_agg)[c(\"domain\",\"first_renewal_prediction\",\"renewal_status\",\"tld_registrar_index\",\"registrar\")]\n",
    "names(agg_glm_results) <- c(\"domain\",\"pred_glm\",\"renewal_status\",\"tld_registrar_index\",\"registrar\")\n",
    "str(agg_glm_results)\n",
    "head(agg_glm_results)"
   ]
  },
  {
   "cell_type": "code",
   "execution_count": 126,
   "metadata": {},
   "outputs": [],
   "source": [
    "agg_merged_results <- merge(agg_rf_results, \n",
    "                           agg_glm_results,\n",
    "                           all.x = TRUE, all.y = TRUE, by=c('domain',\"renewal_status\"))"
   ]
  },
  {
   "cell_type": "code",
   "execution_count": 127,
   "metadata": {},
   "outputs": [
    {
     "data": {
      "text/html": [
       "<style>\n",
       ".list-inline {list-style: none; margin:0; padding: 0}\n",
       ".list-inline>li {display: inline-block}\n",
       ".list-inline>li:not(:last-child)::after {content: \"\\00b7\"; padding: 0 .5ex}\n",
       "</style>\n",
       "<ol class=list-inline><li>152784</li><li>5</li></ol>\n"
      ],
      "text/latex": [
       "\\begin{enumerate*}\n",
       "\\item 152784\n",
       "\\item 5\n",
       "\\end{enumerate*}\n"
      ],
      "text/markdown": [
       "1. 152784\n",
       "2. 5\n",
       "\n",
       "\n"
      ],
      "text/plain": [
       "[1] 152784      5"
      ]
     },
     "metadata": {},
     "output_type": "display_data"
    },
    {
     "data": {
      "text/html": [
       "<style>\n",
       ".list-inline {list-style: none; margin:0; padding: 0}\n",
       ".list-inline>li {display: inline-block}\n",
       ".list-inline>li:not(:last-child)::after {content: \"\\00b7\"; padding: 0 .5ex}\n",
       "</style>\n",
       "<ol class=list-inline><li>154431</li><li>5</li></ol>\n"
      ],
      "text/latex": [
       "\\begin{enumerate*}\n",
       "\\item 154431\n",
       "\\item 5\n",
       "\\end{enumerate*}\n"
      ],
      "text/markdown": [
       "1. 154431\n",
       "2. 5\n",
       "\n",
       "\n"
      ],
      "text/plain": [
       "[1] 154431      5"
      ]
     },
     "metadata": {},
     "output_type": "display_data"
    },
    {
     "data": {
      "text/html": [
       "<style>\n",
       ".list-inline {list-style: none; margin:0; padding: 0}\n",
       ".list-inline>li {display: inline-block}\n",
       ".list-inline>li:not(:last-child)::after {content: \"\\00b7\"; padding: 0 .5ex}\n",
       "</style>\n",
       "<ol class=list-inline><li>154431</li><li>8</li></ol>\n"
      ],
      "text/latex": [
       "\\begin{enumerate*}\n",
       "\\item 154431\n",
       "\\item 8\n",
       "\\end{enumerate*}\n"
      ],
      "text/markdown": [
       "1. 154431\n",
       "2. 8\n",
       "\n",
       "\n"
      ],
      "text/plain": [
       "[1] 154431      8"
      ]
     },
     "metadata": {},
     "output_type": "display_data"
    }
   ],
   "source": [
    "dim(agg_rf_results)\n",
    "dim(agg_glm_results)\n",
    "dim(agg_merged_results)"
   ]
  },
  {
   "cell_type": "code",
   "execution_count": 128,
   "metadata": {},
   "outputs": [
    {
     "data": {
      "text/html": [
       "<table>\n",
       "<caption>A data.frame: 6 × 8</caption>\n",
       "<thead>\n",
       "\t<tr><th></th><th scope=col>domain</th><th scope=col>renewal_status</th><th scope=col>pred_rf</th><th scope=col>tld_registrar_index.x</th><th scope=col>registrar.x</th><th scope=col>pred_glm</th><th scope=col>tld_registrar_index.y</th><th scope=col>registrar.y</th></tr>\n",
       "\t<tr><th></th><th scope=col>&lt;chr&gt;</th><th scope=col>&lt;fct&gt;</th><th scope=col>&lt;dbl&gt;</th><th scope=col>&lt;chr&gt;</th><th scope=col>&lt;chr&gt;</th><th scope=col>&lt;dbl&gt;</th><th scope=col>&lt;chr&gt;</th><th scope=col>&lt;chr&gt;</th></tr>\n",
       "</thead>\n",
       "<tbody>\n",
       "\t<tr><th scope=row>1</th><td>0-0-24.online</td><td>Not Renewd</td><td>0.32097057</td><td>onlinereg.ru</td><td>reg.ru </td><td>0.215</td><td>onlinereg.ru</td><td>reg.ru </td></tr>\n",
       "\t<tr><th scope=row>2</th><td>0-1love.site </td><td>Not Renewd</td><td>0.04862976</td><td>sitealibaba </td><td>alibaba</td><td>0.019</td><td>sitealibaba </td><td>alibaba</td></tr>\n",
       "\t<tr><th scope=row>3</th><td>0-2love.site </td><td>Not Renewd</td><td>0.04862976</td><td>sitealibaba </td><td>alibaba</td><td>0.019</td><td>sitealibaba </td><td>alibaba</td></tr>\n",
       "\t<tr><th scope=row>4</th><td>0-6soso.site </td><td>Not Renewd</td><td>0.04457711</td><td>sitealibaba </td><td>alibaba</td><td>0.033</td><td>sitealibaba </td><td>alibaba</td></tr>\n",
       "\t<tr><th scope=row>5</th><td>0-7love.site </td><td>Not Renewd</td><td>0.04862976</td><td>sitealibaba </td><td>alibaba</td><td>0.019</td><td>sitealibaba </td><td>alibaba</td></tr>\n",
       "\t<tr><th scope=row>6</th><td>0-7soso.site </td><td>Not Renewd</td><td>0.04457711</td><td>sitealibaba </td><td>alibaba</td><td>0.033</td><td>sitealibaba </td><td>alibaba</td></tr>\n",
       "</tbody>\n",
       "</table>\n"
      ],
      "text/latex": [
       "A data.frame: 6 × 8\n",
       "\\begin{tabular}{r|llllllll}\n",
       "  & domain & renewal\\_status & pred\\_rf & tld\\_registrar\\_index.x & registrar.x & pred\\_glm & tld\\_registrar\\_index.y & registrar.y\\\\\n",
       "  & <chr> & <fct> & <dbl> & <chr> & <chr> & <dbl> & <chr> & <chr>\\\\\n",
       "\\hline\n",
       "\t1 & 0-0-24.online & Not Renewd & 0.32097057 & onlinereg.ru & reg.ru  & 0.215 & onlinereg.ru & reg.ru \\\\\n",
       "\t2 & 0-1love.site  & Not Renewd & 0.04862976 & sitealibaba  & alibaba & 0.019 & sitealibaba  & alibaba\\\\\n",
       "\t3 & 0-2love.site  & Not Renewd & 0.04862976 & sitealibaba  & alibaba & 0.019 & sitealibaba  & alibaba\\\\\n",
       "\t4 & 0-6soso.site  & Not Renewd & 0.04457711 & sitealibaba  & alibaba & 0.033 & sitealibaba  & alibaba\\\\\n",
       "\t5 & 0-7love.site  & Not Renewd & 0.04862976 & sitealibaba  & alibaba & 0.019 & sitealibaba  & alibaba\\\\\n",
       "\t6 & 0-7soso.site  & Not Renewd & 0.04457711 & sitealibaba  & alibaba & 0.033 & sitealibaba  & alibaba\\\\\n",
       "\\end{tabular}\n"
      ],
      "text/markdown": [
       "\n",
       "A data.frame: 6 × 8\n",
       "\n",
       "| <!--/--> | domain &lt;chr&gt; | renewal_status &lt;fct&gt; | pred_rf &lt;dbl&gt; | tld_registrar_index.x &lt;chr&gt; | registrar.x &lt;chr&gt; | pred_glm &lt;dbl&gt; | tld_registrar_index.y &lt;chr&gt; | registrar.y &lt;chr&gt; |\n",
       "|---|---|---|---|---|---|---|---|---|\n",
       "| 1 | 0-0-24.online | Not Renewd | 0.32097057 | onlinereg.ru | reg.ru  | 0.215 | onlinereg.ru | reg.ru  |\n",
       "| 2 | 0-1love.site  | Not Renewd | 0.04862976 | sitealibaba  | alibaba | 0.019 | sitealibaba  | alibaba |\n",
       "| 3 | 0-2love.site  | Not Renewd | 0.04862976 | sitealibaba  | alibaba | 0.019 | sitealibaba  | alibaba |\n",
       "| 4 | 0-6soso.site  | Not Renewd | 0.04457711 | sitealibaba  | alibaba | 0.033 | sitealibaba  | alibaba |\n",
       "| 5 | 0-7love.site  | Not Renewd | 0.04862976 | sitealibaba  | alibaba | 0.019 | sitealibaba  | alibaba |\n",
       "| 6 | 0-7soso.site  | Not Renewd | 0.04457711 | sitealibaba  | alibaba | 0.033 | sitealibaba  | alibaba |\n",
       "\n"
      ],
      "text/plain": [
       "  domain        renewal_status pred_rf    tld_registrar_index.x registrar.x\n",
       "1 0-0-24.online Not Renewd     0.32097057 onlinereg.ru          reg.ru     \n",
       "2 0-1love.site  Not Renewd     0.04862976 sitealibaba           alibaba    \n",
       "3 0-2love.site  Not Renewd     0.04862976 sitealibaba           alibaba    \n",
       "4 0-6soso.site  Not Renewd     0.04457711 sitealibaba           alibaba    \n",
       "5 0-7love.site  Not Renewd     0.04862976 sitealibaba           alibaba    \n",
       "6 0-7soso.site  Not Renewd     0.04457711 sitealibaba           alibaba    \n",
       "  pred_glm tld_registrar_index.y registrar.y\n",
       "1 0.215    onlinereg.ru          reg.ru     \n",
       "2 0.019    sitealibaba           alibaba    \n",
       "3 0.019    sitealibaba           alibaba    \n",
       "4 0.033    sitealibaba           alibaba    \n",
       "5 0.019    sitealibaba           alibaba    \n",
       "6 0.033    sitealibaba           alibaba    "
      ]
     },
     "metadata": {},
     "output_type": "display_data"
    }
   ],
   "source": [
    "head(agg_merged_results)"
   ]
  },
  {
   "cell_type": "code",
   "execution_count": 129,
   "metadata": {},
   "outputs": [
    {
     "data": {
      "text/html": [
       "<table>\n",
       "<caption>A data.frame: 6 × 8</caption>\n",
       "<thead>\n",
       "\t<tr><th></th><th scope=col>domain</th><th scope=col>renewal_status</th><th scope=col>pred_rf</th><th scope=col>tld_registrar_index.x</th><th scope=col>registrar.x</th><th scope=col>pred_glm</th><th scope=col>tld_registrar_index.y</th><th scope=col>registrar.y</th></tr>\n",
       "\t<tr><th></th><th scope=col>&lt;chr&gt;</th><th scope=col>&lt;fct&gt;</th><th scope=col>&lt;dbl&gt;</th><th scope=col>&lt;chr&gt;</th><th scope=col>&lt;chr&gt;</th><th scope=col>&lt;dbl&gt;</th><th scope=col>&lt;chr&gt;</th><th scope=col>&lt;chr&gt;</th></tr>\n",
       "</thead>\n",
       "<tbody>\n",
       "\t<tr><th scope=row>1</th><td>052rasp5.site   </td><td>Not Renewd</td><td>NA</td><td>NA</td><td>NA</td><td>0.101</td><td>sitevalue domain</td><td>gmo</td></tr>\n",
       "\t<tr><th scope=row>2</th><td>0676bbj6.site   </td><td>Not Renewd</td><td>NA</td><td>NA</td><td>NA</td><td>0.094</td><td>sitevalue domain</td><td>gmo</td></tr>\n",
       "\t<tr><th scope=row>3</th><td>0defhiefhei.site</td><td>Not Renewd</td><td>NA</td><td>NA</td><td>NA</td><td>0.091</td><td>sitevalue domain</td><td>gmo</td></tr>\n",
       "\t<tr><th scope=row>4</th><td>0qxht68o.site   </td><td>Not Renewd</td><td>NA</td><td>NA</td><td>NA</td><td>0.096</td><td>sitevalue domain</td><td>gmo</td></tr>\n",
       "\t<tr><th scope=row>5</th><td>0yp8vdnl.site   </td><td>Not Renewd</td><td>NA</td><td>NA</td><td>NA</td><td>0.095</td><td>sitevalue domain</td><td>gmo</td></tr>\n",
       "\t<tr><th scope=row>6</th><td>114510.site     </td><td>Not Renewd</td><td>NA</td><td>NA</td><td>NA</td><td>0.165</td><td>sitemuumuu      </td><td>gmo</td></tr>\n",
       "</tbody>\n",
       "</table>\n"
      ],
      "text/latex": [
       "A data.frame: 6 × 8\n",
       "\\begin{tabular}{r|llllllll}\n",
       "  & domain & renewal\\_status & pred\\_rf & tld\\_registrar\\_index.x & registrar.x & pred\\_glm & tld\\_registrar\\_index.y & registrar.y\\\\\n",
       "  & <chr> & <fct> & <dbl> & <chr> & <chr> & <dbl> & <chr> & <chr>\\\\\n",
       "\\hline\n",
       "\t1 & 052rasp5.site    & Not Renewd & NA & NA & NA & 0.101 & sitevalue domain & gmo\\\\\n",
       "\t2 & 0676bbj6.site    & Not Renewd & NA & NA & NA & 0.094 & sitevalue domain & gmo\\\\\n",
       "\t3 & 0defhiefhei.site & Not Renewd & NA & NA & NA & 0.091 & sitevalue domain & gmo\\\\\n",
       "\t4 & 0qxht68o.site    & Not Renewd & NA & NA & NA & 0.096 & sitevalue domain & gmo\\\\\n",
       "\t5 & 0yp8vdnl.site    & Not Renewd & NA & NA & NA & 0.095 & sitevalue domain & gmo\\\\\n",
       "\t6 & 114510.site      & Not Renewd & NA & NA & NA & 0.165 & sitemuumuu       & gmo\\\\\n",
       "\\end{tabular}\n"
      ],
      "text/markdown": [
       "\n",
       "A data.frame: 6 × 8\n",
       "\n",
       "| <!--/--> | domain &lt;chr&gt; | renewal_status &lt;fct&gt; | pred_rf &lt;dbl&gt; | tld_registrar_index.x &lt;chr&gt; | registrar.x &lt;chr&gt; | pred_glm &lt;dbl&gt; | tld_registrar_index.y &lt;chr&gt; | registrar.y &lt;chr&gt; |\n",
       "|---|---|---|---|---|---|---|---|---|\n",
       "| 1 | 052rasp5.site    | Not Renewd | NA | NA | NA | 0.101 | sitevalue domain | gmo |\n",
       "| 2 | 0676bbj6.site    | Not Renewd | NA | NA | NA | 0.094 | sitevalue domain | gmo |\n",
       "| 3 | 0defhiefhei.site | Not Renewd | NA | NA | NA | 0.091 | sitevalue domain | gmo |\n",
       "| 4 | 0qxht68o.site    | Not Renewd | NA | NA | NA | 0.096 | sitevalue domain | gmo |\n",
       "| 5 | 0yp8vdnl.site    | Not Renewd | NA | NA | NA | 0.095 | sitevalue domain | gmo |\n",
       "| 6 | 114510.site      | Not Renewd | NA | NA | NA | 0.165 | sitemuumuu       | gmo |\n",
       "\n"
      ],
      "text/plain": [
       "  domain           renewal_status pred_rf tld_registrar_index.x registrar.x\n",
       "1 052rasp5.site    Not Renewd     NA      NA                    NA         \n",
       "2 0676bbj6.site    Not Renewd     NA      NA                    NA         \n",
       "3 0defhiefhei.site Not Renewd     NA      NA                    NA         \n",
       "4 0qxht68o.site    Not Renewd     NA      NA                    NA         \n",
       "5 0yp8vdnl.site    Not Renewd     NA      NA                    NA         \n",
       "6 114510.site      Not Renewd     NA      NA                    NA         \n",
       "  pred_glm tld_registrar_index.y registrar.y\n",
       "1 0.101    sitevalue domain      gmo        \n",
       "2 0.094    sitevalue domain      gmo        \n",
       "3 0.091    sitevalue domain      gmo        \n",
       "4 0.096    sitevalue domain      gmo        \n",
       "5 0.095    sitevalue domain      gmo        \n",
       "6 0.165    sitemuumuu            gmo        "
      ]
     },
     "metadata": {},
     "output_type": "display_data"
    }
   ],
   "source": [
    "agg_merged_results %>% filter(is.na(pred_rf)) %>% head()"
   ]
  },
  {
   "cell_type": "code",
   "execution_count": 130,
   "metadata": {},
   "outputs": [
    {
     "data": {
      "text/html": [
       "<table>\n",
       "<caption>A tibble: 2 × 2</caption>\n",
       "<thead>\n",
       "\t<tr><th scope=col>renewal_status</th><th scope=col>n</th></tr>\n",
       "\t<tr><th scope=col>&lt;fct&gt;</th><th scope=col>&lt;int&gt;</th></tr>\n",
       "</thead>\n",
       "<tbody>\n",
       "\t<tr><td>Renewed   </td><td> 191</td></tr>\n",
       "\t<tr><td>Not Renewd</td><td>1456</td></tr>\n",
       "</tbody>\n",
       "</table>\n"
      ],
      "text/latex": [
       "A tibble: 2 × 2\n",
       "\\begin{tabular}{ll}\n",
       " renewal\\_status & n\\\\\n",
       " <fct> & <int>\\\\\n",
       "\\hline\n",
       "\t Renewed    &  191\\\\\n",
       "\t Not Renewd & 1456\\\\\n",
       "\\end{tabular}\n"
      ],
      "text/markdown": [
       "\n",
       "A tibble: 2 × 2\n",
       "\n",
       "| renewal_status &lt;fct&gt; | n &lt;int&gt; |\n",
       "|---|---|\n",
       "| Renewed    |  191 |\n",
       "| Not Renewd | 1456 |\n",
       "\n"
      ],
      "text/plain": [
       "  renewal_status n   \n",
       "1 Renewed         191\n",
       "2 Not Renewd     1456"
      ]
     },
     "metadata": {},
     "output_type": "display_data"
    }
   ],
   "source": [
    "agg_merged_results %>% filter(is.na(pred_rf)) %>% group_by(renewal_status) %>% tally()"
   ]
  },
  {
   "cell_type": "code",
   "execution_count": 142,
   "metadata": {},
   "outputs": [
    {
     "data": {
      "text/html": [
       "<table>\n",
       "<caption>A data.frame: 3 × 1</caption>\n",
       "<thead>\n",
       "\t<tr><th></th><th scope=col>tld_registrar_index.y</th></tr>\n",
       "\t<tr><th></th><th scope=col>&lt;chr&gt;</th></tr>\n",
       "</thead>\n",
       "<tbody>\n",
       "\t<tr><th scope=row>1</th><td>sitevalue domain</td></tr>\n",
       "\t<tr><th scope=row>6</th><td>sitemuumuu      </td></tr>\n",
       "\t<tr><th scope=row>8</th><td>sitetenten      </td></tr>\n",
       "</tbody>\n",
       "</table>\n"
      ],
      "text/latex": [
       "A data.frame: 3 × 1\n",
       "\\begin{tabular}{r|l}\n",
       "  & tld\\_registrar\\_index.y\\\\\n",
       "  & <chr>\\\\\n",
       "\\hline\n",
       "\t1 & sitevalue domain\\\\\n",
       "\t6 & sitemuumuu      \\\\\n",
       "\t8 & sitetenten      \\\\\n",
       "\\end{tabular}\n"
      ],
      "text/markdown": [
       "\n",
       "A data.frame: 3 × 1\n",
       "\n",
       "| <!--/--> | tld_registrar_index.y &lt;chr&gt; |\n",
       "|---|---|\n",
       "| 1 | sitevalue domain |\n",
       "| 6 | sitemuumuu       |\n",
       "| 8 | sitetenten       |\n",
       "\n"
      ],
      "text/plain": [
       "  tld_registrar_index.y\n",
       "1 sitevalue domain     \n",
       "6 sitemuumuu           \n",
       "8 sitetenten           "
      ]
     },
     "metadata": {},
     "output_type": "display_data"
    }
   ],
   "source": [
    "agg_merged_results %>% filter(is.na(pred_rf)) %>% select(tld_registrar_index.y) %>% unique() "
   ]
  },
  {
   "cell_type": "code",
   "execution_count": 144,
   "metadata": {},
   "outputs": [
    {
     "data": {
      "text/html": [
       "<table>\n",
       "<caption>A tibble: 3 × 2</caption>\n",
       "<thead>\n",
       "\t<tr><th scope=col>tld_registrar_index.y</th><th scope=col>n</th></tr>\n",
       "\t<tr><th scope=col>&lt;chr&gt;</th><th scope=col>&lt;int&gt;</th></tr>\n",
       "</thead>\n",
       "<tbody>\n",
       "\t<tr><td>sitemuumuu      </td><td>394</td></tr>\n",
       "\t<tr><td>sitetenten      </td><td>776</td></tr>\n",
       "\t<tr><td>sitevalue domain</td><td>477</td></tr>\n",
       "</tbody>\n",
       "</table>\n"
      ],
      "text/latex": [
       "A tibble: 3 × 2\n",
       "\\begin{tabular}{ll}\n",
       " tld\\_registrar\\_index.y & n\\\\\n",
       " <chr> & <int>\\\\\n",
       "\\hline\n",
       "\t sitemuumuu       & 394\\\\\n",
       "\t sitetenten       & 776\\\\\n",
       "\t sitevalue domain & 477\\\\\n",
       "\\end{tabular}\n"
      ],
      "text/markdown": [
       "\n",
       "A tibble: 3 × 2\n",
       "\n",
       "| tld_registrar_index.y &lt;chr&gt; | n &lt;int&gt; |\n",
       "|---|---|\n",
       "| sitemuumuu       | 394 |\n",
       "| sitetenten       | 776 |\n",
       "| sitevalue domain | 477 |\n",
       "\n"
      ],
      "text/plain": [
       "  tld_registrar_index.y n  \n",
       "1 sitemuumuu            394\n",
       "2 sitetenten            776\n",
       "3 sitevalue domain      477"
      ]
     },
     "metadata": {},
     "output_type": "display_data"
    }
   ],
   "source": [
    "agg_merged_results %>% filter(is.na(pred_rf)) %>% group_by(tld_registrar_index.y) %>% tally() "
   ]
  },
  {
   "cell_type": "code",
   "execution_count": 148,
   "metadata": {},
   "outputs": [
    {
     "data": {
      "text/html": [
       "<table>\n",
       "<caption>A tibble: 6 × 2</caption>\n",
       "<thead>\n",
       "\t<tr><th scope=col>tld_registrar_index.y</th><th scope=col>n</th></tr>\n",
       "\t<tr><th scope=col>&lt;chr&gt;</th><th scope=col>&lt;int&gt;</th></tr>\n",
       "</thead>\n",
       "<tbody>\n",
       "\t<tr><td>sitealibaba        </td><td>4369</td></tr>\n",
       "\t<tr><td>onlinehostinger    </td><td>4346</td></tr>\n",
       "\t<tr><td>spacenamecheap     </td><td>4273</td></tr>\n",
       "\t<tr><td>websiteuniregistrar</td><td>4214</td></tr>\n",
       "\t<tr><td>onlinealibaba      </td><td>4134</td></tr>\n",
       "\t<tr><td>onlinefbs          </td><td>4077</td></tr>\n",
       "</tbody>\n",
       "</table>\n"
      ],
      "text/latex": [
       "A tibble: 6 × 2\n",
       "\\begin{tabular}{ll}\n",
       " tld\\_registrar\\_index.y & n\\\\\n",
       " <chr> & <int>\\\\\n",
       "\\hline\n",
       "\t sitealibaba         & 4369\\\\\n",
       "\t onlinehostinger     & 4346\\\\\n",
       "\t spacenamecheap      & 4273\\\\\n",
       "\t websiteuniregistrar & 4214\\\\\n",
       "\t onlinealibaba       & 4134\\\\\n",
       "\t onlinefbs           & 4077\\\\\n",
       "\\end{tabular}\n"
      ],
      "text/markdown": [
       "\n",
       "A tibble: 6 × 2\n",
       "\n",
       "| tld_registrar_index.y &lt;chr&gt; | n &lt;int&gt; |\n",
       "|---|---|\n",
       "| sitealibaba         | 4369 |\n",
       "| onlinehostinger     | 4346 |\n",
       "| spacenamecheap      | 4273 |\n",
       "| websiteuniregistrar | 4214 |\n",
       "| onlinealibaba       | 4134 |\n",
       "| onlinefbs           | 4077 |\n",
       "\n"
      ],
      "text/plain": [
       "  tld_registrar_index.y n   \n",
       "1 sitealibaba           4369\n",
       "2 onlinehostinger       4346\n",
       "3 spacenamecheap        4273\n",
       "4 websiteuniregistrar   4214\n",
       "5 onlinealibaba         4134\n",
       "6 onlinefbs             4077"
      ]
     },
     "metadata": {},
     "output_type": "display_data"
    }
   ],
   "source": [
    "agg_merged_results %>% group_by(tld_registrar_index.y) %>% tally() %>% arrange(desc(n)) %>% head()"
   ]
  },
  {
   "cell_type": "code",
   "execution_count": 132,
   "metadata": {},
   "outputs": [
    {
     "data": {
      "text/html": [
       "<table>\n",
       "<caption>A data.frame: 1 × 1</caption>\n",
       "<thead>\n",
       "\t<tr><th></th><th scope=col>registrar.y</th></tr>\n",
       "\t<tr><th></th><th scope=col>&lt;chr&gt;</th></tr>\n",
       "</thead>\n",
       "<tbody>\n",
       "\t<tr><th scope=row>1</th><td>gmo</td></tr>\n",
       "</tbody>\n",
       "</table>\n"
      ],
      "text/latex": [
       "A data.frame: 1 × 1\n",
       "\\begin{tabular}{r|l}\n",
       "  & registrar.y\\\\\n",
       "  & <chr>\\\\\n",
       "\\hline\n",
       "\t1 & gmo\\\\\n",
       "\\end{tabular}\n"
      ],
      "text/markdown": [
       "\n",
       "A data.frame: 1 × 1\n",
       "\n",
       "| <!--/--> | registrar.y &lt;chr&gt; |\n",
       "|---|---|\n",
       "| 1 | gmo |\n",
       "\n"
      ],
      "text/plain": [
       "  registrar.y\n",
       "1 gmo        "
      ]
     },
     "metadata": {},
     "output_type": "display_data"
    }
   ],
   "source": [
    "agg_merged_results %>% filter(is.na(pred_rf)) %>% select(registrar.y) %>% unique()"
   ]
  },
  {
   "cell_type": "code",
   "execution_count": 136,
   "metadata": {},
   "outputs": [
    {
     "data": {
      "text/plain": [
       "Ranger result\n",
       "\n",
       "Call:\n",
       " ranger(formula = renewal_status ~ ., data = train, importance = \"impurity\",      num.trees = num_trees, probability = TRUE, seed = 123) \n",
       "\n",
       "Type:                             Probability estimation \n",
       "Number of trees:                  1000 \n",
       "Sample size:                      613054 \n",
       "Number of independent variables:  12 \n",
       "Mtry:                             3 \n",
       "Target node size:                 10 \n",
       "Variable importance mode:         impurity \n",
       "Splitrule:                        gini \n",
       "OOB prediction error (Brier s.):  0.08666443 "
      ]
     },
     "metadata": {},
     "output_type": "display_data"
    }
   ],
   "source": [
    "train$"
   ]
  },
  {
   "cell_type": "code",
   "execution_count": 145,
   "metadata": {},
   "outputs": [
    {
     "data": {
      "text/html": [
       "<table>\n",
       "<caption>A data.table: 0 × 13</caption>\n",
       "<thead>\n",
       "\t<tr><th scope=col>renewal_status</th><th scope=col>tld</th><th scope=col>registrar</th><th scope=col>reseller_country</th><th scope=col>region</th><th scope=col>reg_period</th><th scope=col>sld_type</th><th scope=col>sld_length</th><th scope=col>day_domains</th><th scope=col>gibb_score</th><th scope=col>pattern_domain_count</th><th scope=col>reg_arpt</th><th scope=col>tld_registrar_index</th></tr>\n",
       "\t<tr><th scope=col>&lt;fct&gt;</th><th scope=col>&lt;fct&gt;</th><th scope=col>&lt;chr&gt;</th><th scope=col>&lt;chr&gt;</th><th scope=col>&lt;chr&gt;</th><th scope=col>&lt;int&gt;</th><th scope=col>&lt;fct&gt;</th><th scope=col>&lt;int&gt;</th><th scope=col>&lt;int&gt;</th><th scope=col>&lt;dbl&gt;</th><th scope=col>&lt;int&gt;</th><th scope=col>&lt;dbl&gt;</th><th scope=col>&lt;chr&gt;</th></tr>\n",
       "</thead>\n",
       "<tbody>\n",
       "</tbody>\n",
       "</table>\n"
      ],
      "text/latex": [
       "A data.table: 0 × 13\n",
       "\\begin{tabular}{lllllllllllll}\n",
       " renewal\\_status & tld & registrar & reseller\\_country & region & reg\\_period & sld\\_type & sld\\_length & day\\_domains & gibb\\_score & pattern\\_domain\\_count & reg\\_arpt & tld\\_registrar\\_index\\\\\n",
       " <fct> & <fct> & <chr> & <chr> & <chr> & <int> & <fct> & <int> & <int> & <dbl> & <int> & <dbl> & <chr>\\\\\n",
       "\\hline\n",
       "\\end{tabular}\n"
      ],
      "text/markdown": [
       "\n",
       "A data.table: 0 × 13\n",
       "\n",
       "| renewal_status &lt;fct&gt; | tld &lt;fct&gt; | registrar &lt;chr&gt; | reseller_country &lt;chr&gt; | region &lt;chr&gt; | reg_period &lt;int&gt; | sld_type &lt;fct&gt; | sld_length &lt;int&gt; | day_domains &lt;int&gt; | gibb_score &lt;dbl&gt; | pattern_domain_count &lt;int&gt; | reg_arpt &lt;dbl&gt; | tld_registrar_index &lt;chr&gt; |\n",
       "|---|---|---|---|---|---|---|---|---|---|---|---|---|\n",
       "\n"
      ],
      "text/plain": [
       "     renewal_status tld registrar reseller_country region reg_period sld_type\n",
       "     sld_length day_domains gibb_score pattern_domain_count reg_arpt\n",
       "     tld_registrar_index"
      ]
     },
     "metadata": {},
     "output_type": "display_data"
    }
   ],
   "source": [
    "train %>% subset(tld_registrar_index %in% c(\"sitevalue domain\",\"sitemuumuu\",\"sitetenten\"))"
   ]
  },
  {
   "cell_type": "code",
   "execution_count": 153,
   "metadata": {},
   "outputs": [
    {
     "data": {
      "text/html": [
       "<table>\n",
       "<caption>A tibble: 118 × 2</caption>\n",
       "<thead>\n",
       "\t<tr><th scope=col>registrar</th><th scope=col>n</th></tr>\n",
       "\t<tr><th scope=col>&lt;chr&gt;</th><th scope=col>&lt;int&gt;</th></tr>\n",
       "</thead>\n",
       "<tbody>\n",
       "\t<tr><td>alibaba                </td><td>17785</td></tr>\n",
       "\t<tr><td>go daddy               </td><td>13644</td></tr>\n",
       "\t<tr><td>chengdu west           </td><td>12928</td></tr>\n",
       "\t<tr><td>pdr ltd                </td><td>12430</td></tr>\n",
       "\t<tr><td>hostinger              </td><td> 8322</td></tr>\n",
       "\t<tr><td>network solutions      </td><td> 7048</td></tr>\n",
       "\t<tr><td>url solutions          </td><td> 5710</td></tr>\n",
       "\t<tr><td>fbs                    </td><td> 5312</td></tr>\n",
       "\t<tr><td>dynadot                </td><td> 4099</td></tr>\n",
       "\t<tr><td>uniregistrar           </td><td> 3578</td></tr>\n",
       "\t<tr><td>nics telekom           </td><td> 2620</td></tr>\n",
       "\t<tr><td>beget                  </td><td> 2227</td></tr>\n",
       "\t<tr><td>hosting concepts       </td><td> 1932</td></tr>\n",
       "\t<tr><td>dotserve inc           </td><td> 1889</td></tr>\n",
       "\t<tr><td>hosting ukraine        </td><td> 1856</td></tr>\n",
       "\t<tr><td>enom                   </td><td> 1398</td></tr>\n",
       "\t<tr><td>ovh                    </td><td> 1287</td></tr>\n",
       "\t<tr><td>tucows                 </td><td> 1215</td></tr>\n",
       "\t<tr><td>key-systems            </td><td> 1192</td></tr>\n",
       "\t<tr><td>realtime register      </td><td> 1189</td></tr>\n",
       "\t<tr><td>gabia                  </td><td> 1127</td></tr>\n",
       "\t<tr><td>name.com               </td><td> 1049</td></tr>\n",
       "\t<tr><td>xin net                </td><td>  849</td></tr>\n",
       "\t<tr><td>web commerce comm      </td><td>  699</td></tr>\n",
       "\t<tr><td>google                 </td><td>  614</td></tr>\n",
       "\t<tr><td>namesilo               </td><td>  610</td></tr>\n",
       "\t<tr><td>dotname korea          </td><td>  542</td></tr>\n",
       "\t<tr><td>ligne web services     </td><td>  527</td></tr>\n",
       "\t<tr><td>domain.com - registrar </td><td>  503</td></tr>\n",
       "\t<tr><td>jogjacamp              </td><td>  486</td></tr>\n",
       "\t<tr><td>ru-center              </td><td>  442</td></tr>\n",
       "\t<tr><td>west263 international  </td><td>  441</td></tr>\n",
       "\t<tr><td>global domains         </td><td>  400</td></tr>\n",
       "\t<tr><td>eranet                 </td><td>  388</td></tr>\n",
       "\t<tr><td>alibaba sg             </td><td>  368</td></tr>\n",
       "\t<tr><td>ascio                  </td><td>  324</td></tr>\n",
       "\t<tr><td>euro dns               </td><td>  305</td></tr>\n",
       "\t<tr><td>shanghai meicheng      </td><td>  271</td></tr>\n",
       "\t<tr><td>soluciones corporativas</td><td>  242</td></tr>\n",
       "\t<tr><td>porkbun                </td><td>  198</td></tr>\n",
       "\t<tr><td>netowl                 </td><td>  192</td></tr>\n",
       "\t<tr><td>xiamen chinasource     </td><td>  190</td></tr>\n",
       "\t<tr><td>chengdu fly            </td><td>  178</td></tr>\n",
       "\t<tr><td>csl                    </td><td>  153</td></tr>\n",
       "\t<tr><td>rumahweb               </td><td>  150</td></tr>\n",
       "\t<tr><td>mat bao                </td><td>  141</td></tr>\n",
       "\t<tr><td>22net inc              </td><td>  140</td></tr>\n",
       "\t<tr><td>united domains         </td><td>  126</td></tr>\n",
       "\t<tr><td>10dencehispahard       </td><td>  115</td></tr>\n",
       "\t<tr><td>metaregistrar          </td><td>  115</td></tr>\n",
       "\t<tr><td>⋮</td><td>⋮</td></tr>\n",
       "\t<tr><td>register.com              </td><td>28</td></tr>\n",
       "\t<tr><td>nhan hoa software         </td><td>27</td></tr>\n",
       "\t<tr><td>netim                     </td><td>21</td></tr>\n",
       "\t<tr><td>xiamen 35.com             </td><td>21</td></tr>\n",
       "\t<tr><td>registrator domenov       </td><td>20</td></tr>\n",
       "\t<tr><td>ab name isp               </td><td>16</td></tr>\n",
       "\t<tr><td>cronon ag                 </td><td>15</td></tr>\n",
       "\t<tr><td>diamatrix                 </td><td>15</td></tr>\n",
       "\t<tr><td>ejee group                </td><td>14</td></tr>\n",
       "\t<tr><td>web4africa                </td><td>14</td></tr>\n",
       "\t<tr><td>paragon internet          </td><td>12</td></tr>\n",
       "\t<tr><td>csc corporate             </td><td>11</td></tr>\n",
       "\t<tr><td>online sas                </td><td>11</td></tr>\n",
       "\t<tr><td>markmonitor               </td><td>10</td></tr>\n",
       "\t<tr><td>101 domain                </td><td> 9</td></tr>\n",
       "\t<tr><td>internetx                 </td><td> 9</td></tr>\n",
       "\t<tr><td>nameshield                </td><td> 7</td></tr>\n",
       "\t<tr><td>bb online                 </td><td> 4</td></tr>\n",
       "\t<tr><td>vautron                   </td><td> 4</td></tr>\n",
       "\t<tr><td>com laude                 </td><td> 3</td></tr>\n",
       "\t<tr><td>eims                      </td><td> 3</td></tr>\n",
       "\t<tr><td>foshan yidong             </td><td> 3</td></tr>\n",
       "\t<tr><td>nameweb                   </td><td> 3</td></tr>\n",
       "\t<tr><td>opentld b.v.              </td><td> 3</td></tr>\n",
       "\t<tr><td>beijing guoxu             </td><td> 2</td></tr>\n",
       "\t<tr><td>brandma                   </td><td> 2</td></tr>\n",
       "\t<tr><td>crazy domains             </td><td> 2</td></tr>\n",
       "\t<tr><td>domaininfo                </td><td> 2</td></tr>\n",
       "\t<tr><td>domeneshop                </td><td> 2</td></tr>\n",
       "\t<tr><td>freeparking               </td><td> 2</td></tr>\n",
       "\t<tr><td>internetworx ltd          </td><td> 2</td></tr>\n",
       "\t<tr><td>the registrar company b.v.</td><td> 2</td></tr>\n",
       "\t<tr><td>blacknight                </td><td> 1</td></tr>\n",
       "\t<tr><td>dinahosting               </td><td> 1</td></tr>\n",
       "\t<tr><td>domaindiscover.com        </td><td> 1</td></tr>\n",
       "\t<tr><td>eu technology             </td><td> 1</td></tr>\n",
       "\t<tr><td>evoplus ltd               </td><td> 1</td></tr>\n",
       "\t<tr><td>hosteur                   </td><td> 1</td></tr>\n",
       "\t<tr><td>inames                    </td><td> 1</td></tr>\n",
       "\t<tr><td>jiangsu bangning          </td><td> 1</td></tr>\n",
       "\t<tr><td>marcaria.com              </td><td> 1</td></tr>\n",
       "\t<tr><td>omnis network             </td><td> 1</td></tr>\n",
       "\t<tr><td>ownregistrar              </td><td> 1</td></tr>\n",
       "\t<tr><td>planet hoster             </td><td> 1</td></tr>\n",
       "\t<tr><td>sea wasp                  </td><td> 1</td></tr>\n",
       "\t<tr><td>sibername                 </td><td> 1</td></tr>\n",
       "\t<tr><td>super registry            </td><td> 1</td></tr>\n",
       "\t<tr><td>synergy wholesale         </td><td> 1</td></tr>\n",
       "\t<tr><td>tecnocratica centro       </td><td> 1</td></tr>\n",
       "\t<tr><td>whois networks            </td><td> 1</td></tr>\n",
       "</tbody>\n",
       "</table>\n"
      ],
      "text/latex": [
       "A tibble: 118 × 2\n",
       "\\begin{tabular}{ll}\n",
       " registrar & n\\\\\n",
       " <chr> & <int>\\\\\n",
       "\\hline\n",
       "\t alibaba                 & 17785\\\\\n",
       "\t go daddy                & 13644\\\\\n",
       "\t chengdu west            & 12928\\\\\n",
       "\t pdr ltd                 & 12430\\\\\n",
       "\t hostinger               &  8322\\\\\n",
       "\t network solutions       &  7048\\\\\n",
       "\t url solutions           &  5710\\\\\n",
       "\t fbs                     &  5312\\\\\n",
       "\t dynadot                 &  4099\\\\\n",
       "\t uniregistrar            &  3578\\\\\n",
       "\t nics telekom            &  2620\\\\\n",
       "\t beget                   &  2227\\\\\n",
       "\t hosting concepts        &  1932\\\\\n",
       "\t dotserve inc            &  1889\\\\\n",
       "\t hosting ukraine         &  1856\\\\\n",
       "\t enom                    &  1398\\\\\n",
       "\t ovh                     &  1287\\\\\n",
       "\t tucows                  &  1215\\\\\n",
       "\t key-systems             &  1192\\\\\n",
       "\t realtime register       &  1189\\\\\n",
       "\t gabia                   &  1127\\\\\n",
       "\t name.com                &  1049\\\\\n",
       "\t xin net                 &   849\\\\\n",
       "\t web commerce comm       &   699\\\\\n",
       "\t google                  &   614\\\\\n",
       "\t namesilo                &   610\\\\\n",
       "\t dotname korea           &   542\\\\\n",
       "\t ligne web services      &   527\\\\\n",
       "\t domain.com - registrar  &   503\\\\\n",
       "\t jogjacamp               &   486\\\\\n",
       "\t ru-center               &   442\\\\\n",
       "\t west263 international   &   441\\\\\n",
       "\t global domains          &   400\\\\\n",
       "\t eranet                  &   388\\\\\n",
       "\t alibaba sg              &   368\\\\\n",
       "\t ascio                   &   324\\\\\n",
       "\t euro dns                &   305\\\\\n",
       "\t shanghai meicheng       &   271\\\\\n",
       "\t soluciones corporativas &   242\\\\\n",
       "\t porkbun                 &   198\\\\\n",
       "\t netowl                  &   192\\\\\n",
       "\t xiamen chinasource      &   190\\\\\n",
       "\t chengdu fly             &   178\\\\\n",
       "\t csl                     &   153\\\\\n",
       "\t rumahweb                &   150\\\\\n",
       "\t mat bao                 &   141\\\\\n",
       "\t 22net inc               &   140\\\\\n",
       "\t united domains          &   126\\\\\n",
       "\t 10dencehispahard        &   115\\\\\n",
       "\t metaregistrar           &   115\\\\\n",
       "\t ⋮ & ⋮\\\\\n",
       "\t register.com               & 28\\\\\n",
       "\t nhan hoa software          & 27\\\\\n",
       "\t netim                      & 21\\\\\n",
       "\t xiamen 35.com              & 21\\\\\n",
       "\t registrator domenov        & 20\\\\\n",
       "\t ab name isp                & 16\\\\\n",
       "\t cronon ag                  & 15\\\\\n",
       "\t diamatrix                  & 15\\\\\n",
       "\t ejee group                 & 14\\\\\n",
       "\t web4africa                 & 14\\\\\n",
       "\t paragon internet           & 12\\\\\n",
       "\t csc corporate              & 11\\\\\n",
       "\t online sas                 & 11\\\\\n",
       "\t markmonitor                & 10\\\\\n",
       "\t 101 domain                 &  9\\\\\n",
       "\t internetx                  &  9\\\\\n",
       "\t nameshield                 &  7\\\\\n",
       "\t bb online                  &  4\\\\\n",
       "\t vautron                    &  4\\\\\n",
       "\t com laude                  &  3\\\\\n",
       "\t eims                       &  3\\\\\n",
       "\t foshan yidong              &  3\\\\\n",
       "\t nameweb                    &  3\\\\\n",
       "\t opentld b.v.               &  3\\\\\n",
       "\t beijing guoxu              &  2\\\\\n",
       "\t brandma                    &  2\\\\\n",
       "\t crazy domains              &  2\\\\\n",
       "\t domaininfo                 &  2\\\\\n",
       "\t domeneshop                 &  2\\\\\n",
       "\t freeparking                &  2\\\\\n",
       "\t internetworx ltd           &  2\\\\\n",
       "\t the registrar company b.v. &  2\\\\\n",
       "\t blacknight                 &  1\\\\\n",
       "\t dinahosting                &  1\\\\\n",
       "\t domaindiscover.com         &  1\\\\\n",
       "\t eu technology              &  1\\\\\n",
       "\t evoplus ltd                &  1\\\\\n",
       "\t hosteur                    &  1\\\\\n",
       "\t inames                     &  1\\\\\n",
       "\t jiangsu bangning           &  1\\\\\n",
       "\t marcaria.com               &  1\\\\\n",
       "\t omnis network              &  1\\\\\n",
       "\t ownregistrar               &  1\\\\\n",
       "\t planet hoster              &  1\\\\\n",
       "\t sea wasp                   &  1\\\\\n",
       "\t sibername                  &  1\\\\\n",
       "\t super registry             &  1\\\\\n",
       "\t synergy wholesale          &  1\\\\\n",
       "\t tecnocratica centro        &  1\\\\\n",
       "\t whois networks             &  1\\\\\n",
       "\\end{tabular}\n"
      ],
      "text/markdown": [
       "\n",
       "A tibble: 118 × 2\n",
       "\n",
       "| registrar &lt;chr&gt; | n &lt;int&gt; |\n",
       "|---|---|\n",
       "| alibaba                 | 17785 |\n",
       "| go daddy                | 13644 |\n",
       "| chengdu west            | 12928 |\n",
       "| pdr ltd                 | 12430 |\n",
       "| hostinger               |  8322 |\n",
       "| network solutions       |  7048 |\n",
       "| url solutions           |  5710 |\n",
       "| fbs                     |  5312 |\n",
       "| dynadot                 |  4099 |\n",
       "| uniregistrar            |  3578 |\n",
       "| nics telekom            |  2620 |\n",
       "| beget                   |  2227 |\n",
       "| hosting concepts        |  1932 |\n",
       "| dotserve inc            |  1889 |\n",
       "| hosting ukraine         |  1856 |\n",
       "| enom                    |  1398 |\n",
       "| ovh                     |  1287 |\n",
       "| tucows                  |  1215 |\n",
       "| key-systems             |  1192 |\n",
       "| realtime register       |  1189 |\n",
       "| gabia                   |  1127 |\n",
       "| name.com                |  1049 |\n",
       "| xin net                 |   849 |\n",
       "| web commerce comm       |   699 |\n",
       "| google                  |   614 |\n",
       "| namesilo                |   610 |\n",
       "| dotname korea           |   542 |\n",
       "| ligne web services      |   527 |\n",
       "| domain.com - registrar  |   503 |\n",
       "| jogjacamp               |   486 |\n",
       "| ru-center               |   442 |\n",
       "| west263 international   |   441 |\n",
       "| global domains          |   400 |\n",
       "| eranet                  |   388 |\n",
       "| alibaba sg              |   368 |\n",
       "| ascio                   |   324 |\n",
       "| euro dns                |   305 |\n",
       "| shanghai meicheng       |   271 |\n",
       "| soluciones corporativas |   242 |\n",
       "| porkbun                 |   198 |\n",
       "| netowl                  |   192 |\n",
       "| xiamen chinasource      |   190 |\n",
       "| chengdu fly             |   178 |\n",
       "| csl                     |   153 |\n",
       "| rumahweb                |   150 |\n",
       "| mat bao                 |   141 |\n",
       "| 22net inc               |   140 |\n",
       "| united domains          |   126 |\n",
       "| 10dencehispahard        |   115 |\n",
       "| metaregistrar           |   115 |\n",
       "| ⋮ | ⋮ |\n",
       "| register.com               | 28 |\n",
       "| nhan hoa software          | 27 |\n",
       "| netim                      | 21 |\n",
       "| xiamen 35.com              | 21 |\n",
       "| registrator domenov        | 20 |\n",
       "| ab name isp                | 16 |\n",
       "| cronon ag                  | 15 |\n",
       "| diamatrix                  | 15 |\n",
       "| ejee group                 | 14 |\n",
       "| web4africa                 | 14 |\n",
       "| paragon internet           | 12 |\n",
       "| csc corporate              | 11 |\n",
       "| online sas                 | 11 |\n",
       "| markmonitor                | 10 |\n",
       "| 101 domain                 |  9 |\n",
       "| internetx                  |  9 |\n",
       "| nameshield                 |  7 |\n",
       "| bb online                  |  4 |\n",
       "| vautron                    |  4 |\n",
       "| com laude                  |  3 |\n",
       "| eims                       |  3 |\n",
       "| foshan yidong              |  3 |\n",
       "| nameweb                    |  3 |\n",
       "| opentld b.v.               |  3 |\n",
       "| beijing guoxu              |  2 |\n",
       "| brandma                    |  2 |\n",
       "| crazy domains              |  2 |\n",
       "| domaininfo                 |  2 |\n",
       "| domeneshop                 |  2 |\n",
       "| freeparking                |  2 |\n",
       "| internetworx ltd           |  2 |\n",
       "| the registrar company b.v. |  2 |\n",
       "| blacknight                 |  1 |\n",
       "| dinahosting                |  1 |\n",
       "| domaindiscover.com         |  1 |\n",
       "| eu technology              |  1 |\n",
       "| evoplus ltd                |  1 |\n",
       "| hosteur                    |  1 |\n",
       "| inames                     |  1 |\n",
       "| jiangsu bangning           |  1 |\n",
       "| marcaria.com               |  1 |\n",
       "| omnis network              |  1 |\n",
       "| ownregistrar               |  1 |\n",
       "| planet hoster              |  1 |\n",
       "| sea wasp                   |  1 |\n",
       "| sibername                  |  1 |\n",
       "| super registry             |  1 |\n",
       "| synergy wholesale          |  1 |\n",
       "| tecnocratica centro        |  1 |\n",
       "| whois networks             |  1 |\n",
       "\n"
      ],
      "text/plain": [
       "    registrar                  n    \n",
       "1   alibaba                    17785\n",
       "2   go daddy                   13644\n",
       "3   chengdu west               12928\n",
       "4   pdr ltd                    12430\n",
       "5   hostinger                   8322\n",
       "6   network solutions           7048\n",
       "7   url solutions               5710\n",
       "8   fbs                         5312\n",
       "9   dynadot                     4099\n",
       "10  uniregistrar                3578\n",
       "11  nics telekom                2620\n",
       "12  beget                       2227\n",
       "13  hosting concepts            1932\n",
       "14  dotserve inc                1889\n",
       "15  hosting ukraine             1856\n",
       "16  enom                        1398\n",
       "17  ovh                         1287\n",
       "18  tucows                      1215\n",
       "19  key-systems                 1192\n",
       "20  realtime register           1189\n",
       "21  gabia                       1127\n",
       "22  name.com                    1049\n",
       "23  xin net                      849\n",
       "24  web commerce comm            699\n",
       "25  google                       614\n",
       "26  namesilo                     610\n",
       "27  dotname korea                542\n",
       "28  ligne web services           527\n",
       "29  domain.com - registrar       503\n",
       "30  jogjacamp                    486\n",
       "31  ru-center                    442\n",
       "32  west263 international        441\n",
       "33  global domains               400\n",
       "34  eranet                       388\n",
       "35  alibaba sg                   368\n",
       "36  ascio                        324\n",
       "37  euro dns                     305\n",
       "38  shanghai meicheng            271\n",
       "39  soluciones corporativas      242\n",
       "40  porkbun                      198\n",
       "41  netowl                       192\n",
       "42  xiamen chinasource           190\n",
       "43  chengdu fly                  178\n",
       "44  csl                          153\n",
       "45  rumahweb                     150\n",
       "46  mat bao                      141\n",
       "47  22net inc                    140\n",
       "48  united domains               126\n",
       "49  10dencehispahard             115\n",
       "50  metaregistrar                115\n",
       "⋮   ⋮                          ⋮    \n",
       "69  register.com               28   \n",
       "70  nhan hoa software          27   \n",
       "71  netim                      21   \n",
       "72  xiamen 35.com              21   \n",
       "73  registrator domenov        20   \n",
       "74  ab name isp                16   \n",
       "75  cronon ag                  15   \n",
       "76  diamatrix                  15   \n",
       "77  ejee group                 14   \n",
       "78  web4africa                 14   \n",
       "79  paragon internet           12   \n",
       "80  csc corporate              11   \n",
       "81  online sas                 11   \n",
       "82  markmonitor                10   \n",
       "83  101 domain                  9   \n",
       "84  internetx                   9   \n",
       "85  nameshield                  7   \n",
       "86  bb online                   4   \n",
       "87  vautron                     4   \n",
       "88  com laude                   3   \n",
       "89  eims                        3   \n",
       "90  foshan yidong               3   \n",
       "91  nameweb                     3   \n",
       "92  opentld b.v.                3   \n",
       "93  beijing guoxu               2   \n",
       "94  brandma                     2   \n",
       "95  crazy domains               2   \n",
       "96  domaininfo                  2   \n",
       "97  domeneshop                  2   \n",
       "98  freeparking                 2   \n",
       "99  internetworx ltd            2   \n",
       "100 the registrar company b.v.  2   \n",
       "101 blacknight                  1   \n",
       "102 dinahosting                 1   \n",
       "103 domaindiscover.com          1   \n",
       "104 eu technology               1   \n",
       "105 evoplus ltd                 1   \n",
       "106 hosteur                     1   \n",
       "107 inames                      1   \n",
       "108 jiangsu bangning            1   \n",
       "109 marcaria.com                1   \n",
       "110 omnis network               1   \n",
       "111 ownregistrar                1   \n",
       "112 planet hoster               1   \n",
       "113 sea wasp                    1   \n",
       "114 sibername                   1   \n",
       "115 super registry              1   \n",
       "116 synergy wholesale           1   \n",
       "117 tecnocratica centro         1   \n",
       "118 whois networks              1   "
      ]
     },
     "metadata": {},
     "output_type": "display_data"
    }
   ],
   "source": [
    "train %>% subset(tld %in% c(\"site\")) %>% group_by(registrar) %>% tally() %>% arrange(desc(n))"
   ]
  },
  {
   "cell_type": "code",
   "execution_count": 154,
   "metadata": {},
   "outputs": [
    {
     "data": {
      "text/html": [
       "<table>\n",
       "<caption>A tibble: 0 × 2</caption>\n",
       "<thead>\n",
       "\t<tr><th scope=col>registrar</th><th scope=col>n</th></tr>\n",
       "\t<tr><th scope=col>&lt;chr&gt;</th><th scope=col>&lt;int&gt;</th></tr>\n",
       "</thead>\n",
       "<tbody>\n",
       "</tbody>\n",
       "</table>\n"
      ],
      "text/latex": [
       "A tibble: 0 × 2\n",
       "\\begin{tabular}{ll}\n",
       " registrar & n\\\\\n",
       " <chr> & <int>\\\\\n",
       "\\hline\n",
       "\\end{tabular}\n"
      ],
      "text/markdown": [
       "\n",
       "A tibble: 0 × 2\n",
       "\n",
       "| registrar &lt;chr&gt; | n &lt;int&gt; |\n",
       "|---|---|\n",
       "\n"
      ],
      "text/plain": [
       "     registrar n"
      ]
     },
     "metadata": {},
     "output_type": "display_data"
    }
   ],
   "source": [
    "train %>% subset((tld %in% c(\"site\"))&(registrar %in% c(\"gmo\"))) %>% group_by(registrar) %>% tally() %>% arrange(desc(n))"
   ]
  },
  {
   "cell_type": "code",
   "execution_count": 1,
   "metadata": {},
   "outputs": [
    {
     "ename": "ERROR",
     "evalue": "Error in eval(expr, envir, enclos): object 'expiry_train_df_1' not found\n",
     "output_type": "error",
     "traceback": [
      "Error in eval(expr, envir, enclos): object 'expiry_train_df_1' not found\nTraceback:\n"
     ]
    }
   ],
   "source": [
    "names(expiry_train_df_1)"
   ]
  },
  {
   "cell_type": "code",
   "execution_count": 159,
   "metadata": {},
   "outputs": [
    {
     "data": {
      "text/html": [
       "<style>\n",
       ".list-inline {list-style: none; margin:0; padding: 0}\n",
       ".list-inline>li {display: inline-block}\n",
       ".list-inline>li:not(:last-child)::after {content: \"\\00b7\"; padding: 0 .5ex}\n",
       "</style>\n",
       "<ol class=list-inline><li>176</li><li>1</li></ol>\n"
      ],
      "text/latex": [
       "\\begin{enumerate*}\n",
       "\\item 176\n",
       "\\item 1\n",
       "\\end{enumerate*}\n"
      ],
      "text/markdown": [
       "1. 176\n",
       "2. 1\n",
       "\n",
       "\n"
      ],
      "text/plain": [
       "[1] 176   1"
      ]
     },
     "metadata": {},
     "output_type": "display_data"
    }
   ],
   "source": [
    "expiry_train_df_1 %>% select(registrar) %>% unique() %>% dim()"
   ]
  },
  {
   "cell_type": "code",
   "execution_count": 160,
   "metadata": {},
   "outputs": [
    {
     "data": {
      "text/html": [
       "<style>\n",
       ".list-inline {list-style: none; margin:0; padding: 0}\n",
       ".list-inline>li {display: inline-block}\n",
       ".list-inline>li:not(:last-child)::after {content: \"\\00b7\"; padding: 0 .5ex}\n",
       "</style>\n",
       "<ol class=list-inline><li>309</li><li>1</li></ol>\n"
      ],
      "text/latex": [
       "\\begin{enumerate*}\n",
       "\\item 309\n",
       "\\item 1\n",
       "\\end{enumerate*}\n"
      ],
      "text/markdown": [
       "1. 309\n",
       "2. 1\n",
       "\n",
       "\n"
      ],
      "text/plain": [
       "[1] 309   1"
      ]
     },
     "metadata": {},
     "output_type": "display_data"
    }
   ],
   "source": [
    "expiry_train_df_1 %>% select(reseller) %>% unique() %>% dim()"
   ]
  },
  {
   "cell_type": "code",
   "execution_count": null,
   "metadata": {},
   "outputs": [],
   "source": []
  }
 ],
 "metadata": {
  "environment": {
   "name": "r-cpu.3-6.m48",
   "type": "gcloud",
   "uri": "gcr.io/deeplearning-platform-release/r-cpu.3-6:m48"
  },
  "kernelspec": {
   "display_name": "R",
   "language": "R",
   "name": "ir"
  },
  "language_info": {
   "codemirror_mode": "r",
   "file_extension": ".r",
   "mimetype": "text/x-r-source",
   "name": "R",
   "pygments_lexer": "r",
   "version": "3.6.3"
  }
 },
 "nbformat": 4,
 "nbformat_minor": 4
}
