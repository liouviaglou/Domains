{
 "cells": [
  {
   "cell_type": "code",
   "execution_count": 5,
   "id": "2cbe99b9",
   "metadata": {},
   "outputs": [],
   "source": [
    "library(naniar)\n",
    "library(tidyverse)\n",
    "library(yardstick)\n",
    "library(ranger)\n",
    "library(ppsr)\n",
    "library(minerva)\n",
    "library(randomForest)"
   ]
  },
  {
   "cell_type": "markdown",
   "id": "196d0c55",
   "metadata": {},
   "source": [
    "## Temp -- Combine datasets, create new train test\n",
    "\n",
    "Can be skipped"
   ]
  },
  {
   "cell_type": "code",
   "execution_count": 1,
   "id": "d32347fb",
   "metadata": {},
   "outputs": [],
   "source": [
    "dataDir='/home/jupyter/Domains_202003/data/output/dp_datapull_20210223/expiry_20191006_20210104_train1.RDS'\n",
    "train1 <- readRDS(dataDir)\n",
    "dataDir='/home/jupyter/Domains_202003/data/output/dp_datapull_20210223/expiry_20191006_20210104_train2.RDS'\n",
    "train2 <- readRDS(dataDir)\n",
    "dataDir='/home/jupyter/Domains_202003/data/output/dp_datapull_20210223/expiry_20191006_20210104_test.RDS'\n",
    "test <- readRDS(dataDir)\n"
   ]
  },
  {
   "cell_type": "code",
   "execution_count": 2,
   "id": "2007efcf",
   "metadata": {},
   "outputs": [
    {
     "name": "stdout",
     "output_type": "stream",
     "text": [
      "[1] \"expiry_date\"\n",
      "[1] \"creation_date\"\n",
      "[1] \"renew_date\"\n",
      "[1] \"download_date\"\n",
      "[1] \"scandate\"\n",
      "[1] \"max_date\"\n"
     ]
    }
   ],
   "source": [
    "for (col in colnames(train2)) {\n",
    "    if (grepl(\"date\", col)) {\n",
    "        print(col)\n",
    "        if (col == 'scandate') {\n",
    "            train2[,col] <- as.POSIXct(train2[,col], format=\"%Y-%m-%d %H:%M:%S UTC\")\n",
    "        }\n",
    "        else {\n",
    "            train2[,col] <- as.Date(train2[,col], format=\"%Y-%m-%d\")\n",
    "        }\n",
    "    }\n",
    "}"
   ]
  },
  {
   "cell_type": "code",
   "execution_count": 3,
   "id": "af0812bc",
   "metadata": {},
   "outputs": [],
   "source": [
    "# Common columns\n",
    "common <- names(train1)[names(train2) %in% names(train1)]\n",
    "\n",
    "# Fix data types\n",
    "train2[common] <- lapply(common, function(x) {\n",
    "  match.fun(paste0(\"as.\", class(train1[[x]])[1]))(train2[[x]])\n",
    "})"
   ]
  },
  {
   "cell_type": "code",
   "execution_count": 20,
   "id": "a60d46b4",
   "metadata": {},
   "outputs": [],
   "source": [
    "# Combine data; add relevant columns\n",
    "all_data <- bind_rows(train1, train2, test) %>% arrange(expiry_date)\n",
    "all_data <- all_data %>% \n",
    "                filter(!is.na(gibb_score)) %>% # remove where gibb_score, etc. are NA\n",
    "                mutate (reg_arpt = ifelse(reg_arpt <= 0, 0.0001,reg_arpt), # add necessary columns\n",
    "                                   log_reg_arpt = log(reg_arpt),\n",
    "                                   tld_registrar_index = tolower(paste(tld, reseller,sep=\"\")))"
   ]
  },
  {
   "cell_type": "code",
   "execution_count": 21,
   "id": "9e68ab4d",
   "metadata": {},
   "outputs": [
    {
     "name": "stdout",
     "output_type": "stream",
     "text": [
      "[1] \"2020-04-13\"\n",
      "[1] \"2020-10-24\"\n"
     ]
    }
   ],
   "source": [
    "row_split1 <- round(0.4 * nrow(all_data))\n",
    "row_split2 <- round(0.8 * nrow(all_data))\n",
    "\n",
    "date_split1 <- all_data %>% slice(row_split1) %>% pull(expiry_date)\n",
    "date_split2 <- all_data %>% slice(row_split2) %>% pull(expiry_date)\n",
    "\n",
    "print(date_split1)\n",
    "print(date_split2)"
   ]
  },
  {
   "cell_type": "code",
   "execution_count": 22,
   "id": "0ae89d31",
   "metadata": {},
   "outputs": [],
   "source": [
    "train1 <- all_data %>% filter(expiry_date <= date_split1)\n",
    "train2 <- all_data %>% filter(expiry_date > date_split1, expiry_date <= date_split2)\n",
    "test <- all_data %>% filter(expiry_date > date_split2)"
   ]
  },
  {
   "cell_type": "code",
   "execution_count": 23,
   "id": "e2c3cd5a",
   "metadata": {},
   "outputs": [],
   "source": [
    "directory <- '/home/jupyter/Domains_202003/data/output/dp_datapull_20210223/'\n",
    "train1_file <- paste0('expiry_20191006_', strftime(date_split1, format=\"%Y%m%d\"), '_train1.RDS')\n",
    "train2_file <- paste0('expiry_', strftime(date_split1, format=\"%Y%m%d\"), '_', strftime(date_split2, format=\"%Y%m%d\"), '_train2.RDS')\n",
    "test_file <- paste0('expiry_', strftime(date_split2, format=\"%Y%m%d\"), '_20210104_test.RDS')\n",
    "\n",
    "saveRDS(train1,file = paste0(directory, train1_file), compress=TRUE)\n",
    "saveRDS(train2,file = paste0(directory, train2_file), compress=TRUE)\n",
    "saveRDS(test,file = paste0(directory, test_file), compress=TRUE)"
   ]
  },
  {
   "cell_type": "code",
   "execution_count": 19,
   "id": "a163cd5e",
   "metadata": {},
   "outputs": [
    {
     "data": {
      "text/html": [
       "<style>\n",
       ".list-inline {list-style: none; margin:0; padding: 0}\n",
       ".list-inline>li {display: inline-block}\n",
       ".list-inline>li:not(:last-child)::after {content: \"\\00b7\"; padding: 0 .5ex}\n",
       "</style>\n",
       "<ol class=list-inline><li>'autorenew_type'</li><li>'country'</li><li>'creation_date'</li><li>'creation_time'</li><li>'day_domains'</li><li>'domain'</li><li>'domain_id'</li><li>'download_date'</li><li>'ecommerce'</li><li>'ecommercequality'</li><li>'economy_footprint'</li><li>'expiry_date'</li><li>'gibb_score'</li><li>'hosting_country'</li><li>'max_date'</li><li>'mxdomain'</li><li>'nameserver'</li><li>'online'</li><li>'pattern'</li><li>'pattern_domain_count'</li><li>'predicted_renewal_rate'</li><li>'predictions_domain_id'</li><li>'predictions_renewal_type'</li><li>'reg_arpt'</li><li>'reg_period'</li><li>'reg_revenue'</li><li>'registrar'</li><li>'renew_arpt'</li><li>'renew_date'</li><li>'renew_period'</li><li>'renew_revenue'</li><li>'renew_type'</li><li>'renewal_id'</li><li>'renewal_status'</li><li>'renewal_type'</li><li>'renewalprobability'</li><li>'renewed_count'</li><li>'reseller'</li><li>'reseller_country'</li><li>'response'</li><li>'scandate'</li><li>'siccode'</li><li>'sicdivision'</li><li>'sicmajorgroup'</li><li>'sld_length'</li><li>'sld_type'</li><li>'sld_type2'</li><li>'ssl'</li><li>'tld'</li><li>'websitetype'</li></ol>\n"
      ],
      "text/latex": [
       "\\begin{enumerate*}\n",
       "\\item 'autorenew\\_type'\n",
       "\\item 'country'\n",
       "\\item 'creation\\_date'\n",
       "\\item 'creation\\_time'\n",
       "\\item 'day\\_domains'\n",
       "\\item 'domain'\n",
       "\\item 'domain\\_id'\n",
       "\\item 'download\\_date'\n",
       "\\item 'ecommerce'\n",
       "\\item 'ecommercequality'\n",
       "\\item 'economy\\_footprint'\n",
       "\\item 'expiry\\_date'\n",
       "\\item 'gibb\\_score'\n",
       "\\item 'hosting\\_country'\n",
       "\\item 'max\\_date'\n",
       "\\item 'mxdomain'\n",
       "\\item 'nameserver'\n",
       "\\item 'online'\n",
       "\\item 'pattern'\n",
       "\\item 'pattern\\_domain\\_count'\n",
       "\\item 'predicted\\_renewal\\_rate'\n",
       "\\item 'predictions\\_domain\\_id'\n",
       "\\item 'predictions\\_renewal\\_type'\n",
       "\\item 'reg\\_arpt'\n",
       "\\item 'reg\\_period'\n",
       "\\item 'reg\\_revenue'\n",
       "\\item 'registrar'\n",
       "\\item 'renew\\_arpt'\n",
       "\\item 'renew\\_date'\n",
       "\\item 'renew\\_period'\n",
       "\\item 'renew\\_revenue'\n",
       "\\item 'renew\\_type'\n",
       "\\item 'renewal\\_id'\n",
       "\\item 'renewal\\_status'\n",
       "\\item 'renewal\\_type'\n",
       "\\item 'renewalprobability'\n",
       "\\item 'renewed\\_count'\n",
       "\\item 'reseller'\n",
       "\\item 'reseller\\_country'\n",
       "\\item 'response'\n",
       "\\item 'scandate'\n",
       "\\item 'siccode'\n",
       "\\item 'sicdivision'\n",
       "\\item 'sicmajorgroup'\n",
       "\\item 'sld\\_length'\n",
       "\\item 'sld\\_type'\n",
       "\\item 'sld\\_type2'\n",
       "\\item 'ssl'\n",
       "\\item 'tld'\n",
       "\\item 'websitetype'\n",
       "\\end{enumerate*}\n"
      ],
      "text/markdown": [
       "1. 'autorenew_type'\n",
       "2. 'country'\n",
       "3. 'creation_date'\n",
       "4. 'creation_time'\n",
       "5. 'day_domains'\n",
       "6. 'domain'\n",
       "7. 'domain_id'\n",
       "8. 'download_date'\n",
       "9. 'ecommerce'\n",
       "10. 'ecommercequality'\n",
       "11. 'economy_footprint'\n",
       "12. 'expiry_date'\n",
       "13. 'gibb_score'\n",
       "14. 'hosting_country'\n",
       "15. 'max_date'\n",
       "16. 'mxdomain'\n",
       "17. 'nameserver'\n",
       "18. 'online'\n",
       "19. 'pattern'\n",
       "20. 'pattern_domain_count'\n",
       "21. 'predicted_renewal_rate'\n",
       "22. 'predictions_domain_id'\n",
       "23. 'predictions_renewal_type'\n",
       "24. 'reg_arpt'\n",
       "25. 'reg_period'\n",
       "26. 'reg_revenue'\n",
       "27. 'registrar'\n",
       "28. 'renew_arpt'\n",
       "29. 'renew_date'\n",
       "30. 'renew_period'\n",
       "31. 'renew_revenue'\n",
       "32. 'renew_type'\n",
       "33. 'renewal_id'\n",
       "34. 'renewal_status'\n",
       "35. 'renewal_type'\n",
       "36. 'renewalprobability'\n",
       "37. 'renewed_count'\n",
       "38. 'reseller'\n",
       "39. 'reseller_country'\n",
       "40. 'response'\n",
       "41. 'scandate'\n",
       "42. 'siccode'\n",
       "43. 'sicdivision'\n",
       "44. 'sicmajorgroup'\n",
       "45. 'sld_length'\n",
       "46. 'sld_type'\n",
       "47. 'sld_type2'\n",
       "48. 'ssl'\n",
       "49. 'tld'\n",
       "50. 'websitetype'\n",
       "\n",
       "\n"
      ],
      "text/plain": [
       " [1] \"autorenew_type\"           \"country\"                 \n",
       " [3] \"creation_date\"            \"creation_time\"           \n",
       " [5] \"day_domains\"              \"domain\"                  \n",
       " [7] \"domain_id\"                \"download_date\"           \n",
       " [9] \"ecommerce\"                \"ecommercequality\"        \n",
       "[11] \"economy_footprint\"        \"expiry_date\"             \n",
       "[13] \"gibb_score\"               \"hosting_country\"         \n",
       "[15] \"max_date\"                 \"mxdomain\"                \n",
       "[17] \"nameserver\"               \"online\"                  \n",
       "[19] \"pattern\"                  \"pattern_domain_count\"    \n",
       "[21] \"predicted_renewal_rate\"   \"predictions_domain_id\"   \n",
       "[23] \"predictions_renewal_type\" \"reg_arpt\"                \n",
       "[25] \"reg_period\"               \"reg_revenue\"             \n",
       "[27] \"registrar\"                \"renew_arpt\"              \n",
       "[29] \"renew_date\"               \"renew_period\"            \n",
       "[31] \"renew_revenue\"            \"renew_type\"              \n",
       "[33] \"renewal_id\"               \"renewal_status\"          \n",
       "[35] \"renewal_type\"             \"renewalprobability\"      \n",
       "[37] \"renewed_count\"            \"reseller\"                \n",
       "[39] \"reseller_country\"         \"response\"                \n",
       "[41] \"scandate\"                 \"siccode\"                 \n",
       "[43] \"sicdivision\"              \"sicmajorgroup\"           \n",
       "[45] \"sld_length\"               \"sld_type\"                \n",
       "[47] \"sld_type2\"                \"ssl\"                     \n",
       "[49] \"tld\"                      \"websitetype\"             "
      ]
     },
     "metadata": {},
     "output_type": "display_data"
    }
   ],
   "source": [
    "sort(colnames(test))"
   ]
  },
  {
   "cell_type": "code",
   "execution_count": 13,
   "id": "38b81980",
   "metadata": {},
   "outputs": [
    {
     "data": {
      "text/html": [
       "<style>\n",
       ".list-inline {list-style: none; margin:0; padding: 0}\n",
       ".list-inline>li {display: inline-block}\n",
       ".list-inline>li:not(:last-child)::after {content: \"\\00b7\"; padding: 0 .5ex}\n",
       "</style>\n",
       "<ol class=list-inline><li>'domain'</li><li>'domain_id'</li><li>'renewed_count'</li><li>'renewal_type'</li><li>'expiry_date'</li><li>'creation_date'</li><li>'creation_time'</li><li>'tld'</li><li>'registrar'</li><li>'reseller'</li><li>'reseller_country'</li><li>'reg_period'</li><li>'reg_revenue'</li><li>'reg_arpt'</li><li>'renewal_id'</li><li>'renew_type'</li><li>'autorenew_type'</li><li>'renew_period'</li><li>'renew_revenue'</li><li>'renew_date'</li><li>'renew_arpt'</li><li>'renewal_status'</li><li>'gibb_score'</li><li>'pattern_domain_count'</li><li>'pattern'</li><li>'day_domains'</li><li>'sld_length'</li><li>'sld_type'</li><li>'sld_type2'</li><li>'predictions_domain_id'</li><li>'predictions_renewal_type'</li><li>'predicted_renewal_rate'</li><li>'download_date'</li><li>'response'</li><li>'websitetype'</li><li>'economy_footprint'</li><li>'online'</li><li>'ecommerce'</li><li>'ecommercequality'</li><li>'scandate'</li><li>'country'</li><li>'hosting_country'</li><li>'mxdomain'</li><li>'nameserver'</li><li>'renewalprobability'</li><li>'siccode'</li><li>'sicdivision'</li><li>'sicmajorgroup'</li><li>'ssl'</li><li>'max_date'</li></ol>\n"
      ],
      "text/latex": [
       "\\begin{enumerate*}\n",
       "\\item 'domain'\n",
       "\\item 'domain\\_id'\n",
       "\\item 'renewed\\_count'\n",
       "\\item 'renewal\\_type'\n",
       "\\item 'expiry\\_date'\n",
       "\\item 'creation\\_date'\n",
       "\\item 'creation\\_time'\n",
       "\\item 'tld'\n",
       "\\item 'registrar'\n",
       "\\item 'reseller'\n",
       "\\item 'reseller\\_country'\n",
       "\\item 'reg\\_period'\n",
       "\\item 'reg\\_revenue'\n",
       "\\item 'reg\\_arpt'\n",
       "\\item 'renewal\\_id'\n",
       "\\item 'renew\\_type'\n",
       "\\item 'autorenew\\_type'\n",
       "\\item 'renew\\_period'\n",
       "\\item 'renew\\_revenue'\n",
       "\\item 'renew\\_date'\n",
       "\\item 'renew\\_arpt'\n",
       "\\item 'renewal\\_status'\n",
       "\\item 'gibb\\_score'\n",
       "\\item 'pattern\\_domain\\_count'\n",
       "\\item 'pattern'\n",
       "\\item 'day\\_domains'\n",
       "\\item 'sld\\_length'\n",
       "\\item 'sld\\_type'\n",
       "\\item 'sld\\_type2'\n",
       "\\item 'predictions\\_domain\\_id'\n",
       "\\item 'predictions\\_renewal\\_type'\n",
       "\\item 'predicted\\_renewal\\_rate'\n",
       "\\item 'download\\_date'\n",
       "\\item 'response'\n",
       "\\item 'websitetype'\n",
       "\\item 'economy\\_footprint'\n",
       "\\item 'online'\n",
       "\\item 'ecommerce'\n",
       "\\item 'ecommercequality'\n",
       "\\item 'scandate'\n",
       "\\item 'country'\n",
       "\\item 'hosting\\_country'\n",
       "\\item 'mxdomain'\n",
       "\\item 'nameserver'\n",
       "\\item 'renewalprobability'\n",
       "\\item 'siccode'\n",
       "\\item 'sicdivision'\n",
       "\\item 'sicmajorgroup'\n",
       "\\item 'ssl'\n",
       "\\item 'max\\_date'\n",
       "\\end{enumerate*}\n"
      ],
      "text/markdown": [
       "1. 'domain'\n",
       "2. 'domain_id'\n",
       "3. 'renewed_count'\n",
       "4. 'renewal_type'\n",
       "5. 'expiry_date'\n",
       "6. 'creation_date'\n",
       "7. 'creation_time'\n",
       "8. 'tld'\n",
       "9. 'registrar'\n",
       "10. 'reseller'\n",
       "11. 'reseller_country'\n",
       "12. 'reg_period'\n",
       "13. 'reg_revenue'\n",
       "14. 'reg_arpt'\n",
       "15. 'renewal_id'\n",
       "16. 'renew_type'\n",
       "17. 'autorenew_type'\n",
       "18. 'renew_period'\n",
       "19. 'renew_revenue'\n",
       "20. 'renew_date'\n",
       "21. 'renew_arpt'\n",
       "22. 'renewal_status'\n",
       "23. 'gibb_score'\n",
       "24. 'pattern_domain_count'\n",
       "25. 'pattern'\n",
       "26. 'day_domains'\n",
       "27. 'sld_length'\n",
       "28. 'sld_type'\n",
       "29. 'sld_type2'\n",
       "30. 'predictions_domain_id'\n",
       "31. 'predictions_renewal_type'\n",
       "32. 'predicted_renewal_rate'\n",
       "33. 'download_date'\n",
       "34. 'response'\n",
       "35. 'websitetype'\n",
       "36. 'economy_footprint'\n",
       "37. 'online'\n",
       "38. 'ecommerce'\n",
       "39. 'ecommercequality'\n",
       "40. 'scandate'\n",
       "41. 'country'\n",
       "42. 'hosting_country'\n",
       "43. 'mxdomain'\n",
       "44. 'nameserver'\n",
       "45. 'renewalprobability'\n",
       "46. 'siccode'\n",
       "47. 'sicdivision'\n",
       "48. 'sicmajorgroup'\n",
       "49. 'ssl'\n",
       "50. 'max_date'\n",
       "\n",
       "\n"
      ],
      "text/plain": [
       " [1] \"domain\"                   \"domain_id\"               \n",
       " [3] \"renewed_count\"            \"renewal_type\"            \n",
       " [5] \"expiry_date\"              \"creation_date\"           \n",
       " [7] \"creation_time\"            \"tld\"                     \n",
       " [9] \"registrar\"                \"reseller\"                \n",
       "[11] \"reseller_country\"         \"reg_period\"              \n",
       "[13] \"reg_revenue\"              \"reg_arpt\"                \n",
       "[15] \"renewal_id\"               \"renew_type\"              \n",
       "[17] \"autorenew_type\"           \"renew_period\"            \n",
       "[19] \"renew_revenue\"            \"renew_date\"              \n",
       "[21] \"renew_arpt\"               \"renewal_status\"          \n",
       "[23] \"gibb_score\"               \"pattern_domain_count\"    \n",
       "[25] \"pattern\"                  \"day_domains\"             \n",
       "[27] \"sld_length\"               \"sld_type\"                \n",
       "[29] \"sld_type2\"                \"predictions_domain_id\"   \n",
       "[31] \"predictions_renewal_type\" \"predicted_renewal_rate\"  \n",
       "[33] \"download_date\"            \"response\"                \n",
       "[35] \"websitetype\"              \"economy_footprint\"       \n",
       "[37] \"online\"                   \"ecommerce\"               \n",
       "[39] \"ecommercequality\"         \"scandate\"                \n",
       "[41] \"country\"                  \"hosting_country\"         \n",
       "[43] \"mxdomain\"                 \"nameserver\"              \n",
       "[45] \"renewalprobability\"       \"siccode\"                 \n",
       "[47] \"sicdivision\"              \"sicmajorgroup\"           \n",
       "[49] \"ssl\"                      \"max_date\"                "
      ]
     },
     "metadata": {},
     "output_type": "display_data"
    }
   ],
   "source": [
    "colnames(all_data)"
   ]
  },
  {
   "cell_type": "markdown",
   "id": "8877ccbe",
   "metadata": {},
   "source": [
    "## Baseline Ranger\n"
   ]
  },
  {
   "cell_type": "code",
   "execution_count": 3,
   "id": "f3d2f393",
   "metadata": {},
   "outputs": [],
   "source": [
    "directory <- '/home/jupyter/Domains_202003/data/output/dp_datapull_20210223/'\n",
    "train_file <- 'expiry_20191006_20201024_train.RDS'\n",
    "test_file <- 'expiry_20201024_20210104_test.RDS'\n",
    "\n",
    "all_train <- readRDS(paste0(directory, train_file))\n",
    "all_test <- readRDS(paste0(directory, test_file))"
   ]
  },
  {
   "cell_type": "code",
   "execution_count": 4,
   "id": "721c369c",
   "metadata": {},
   "outputs": [],
   "source": [
    "# Create target variable\n",
    "all_train[,'target'] <- as.integer(all_train[, \"renewal_status\"] == \"Renewed\")\n",
    "all_test[,'target'] <- as.integer(all_test[, \"renewal_status\"] == \"Renewed\")"
   ]
  },
  {
   "cell_type": "code",
   "execution_count": 5,
   "id": "7b563eb1",
   "metadata": {},
   "outputs": [],
   "source": [
    "dp_vars <- c('response', 'websitetype', 'economy_footprint', 'online', 'ecommerce', 'ecommercequality', 'country',\n",
    "             'hosting_country', 'renewalprobability', 'siccode','sicdivision','sicmajorgroup',\n",
    "             'mxdomain', 'nameserver', 'ssl')\n",
    "radix_vars <- c('pattern_domain_count','sld_length','gibb_score','sld_type','day_domains','reg_period')\n",
    "all_vars <- c(dp_vars, radix_vars, 'target')"
   ]
  },
  {
   "cell_type": "code",
   "execution_count": 8,
   "id": "691a9569",
   "metadata": {},
   "outputs": [],
   "source": [
    "impute_zero <- function(vec) {\n",
    "    vec[is.na(vec)] <- 0\n",
    "    vec\n",
    "}\n",
    "\n",
    "custom_na_fix <- function(dat) {\n",
    "    var_mode <- sapply(dat, mode)\n",
    "    ind1 <- which(var_mode %in% c(\"logical\", \"character\"))\n",
    "    dat[ind1] <- lapply(dat[ind1], as.factor)\n",
    "    fctr <- which(sapply(dat, is.factor))\n",
    "    dat[fctr] <- lapply(dat[fctr], addNA)\n",
    "    dat[-fctr] <- lapply(dat[-fctr], impute_zero)\n",
    "    dat\n",
    "} "
   ]
  },
  {
   "cell_type": "code",
   "execution_count": 11,
   "id": "0c4dd8a1",
   "metadata": {},
   "outputs": [],
   "source": [
    "train_imp <- custom_na_fix(all_train[,all_vars])\n",
    "test_imp <- custom_na_fix(all_test[,all_vars])"
   ]
  },
  {
   "cell_type": "code",
   "execution_count": 13,
   "id": "78d882b7",
   "metadata": {},
   "outputs": [],
   "source": [
    "# # Train and test model\n",
    "# rf <- ranger(target ~ ., data = train_imp, num.trees = 50, max.depth = 5)\n",
    "# pred <- predict(rf, test_imp)\n",
    "all_test$estimate <- pred$predictions\n",
    "all_test$target <- as.factor(all_test$target)"
   ]
  },
  {
   "cell_type": "code",
   "execution_count": 16,
   "id": "a3490d63",
   "metadata": {},
   "outputs": [],
   "source": [
    "# Save out predictions\n",
    "rel_vars <- c(\"tld\", \"registrar\", \"response\", \"estimate\", \"target\")\n",
    "predDir <- '/home/jupyter/Domains_202003/data/output/dp_predictions/'\n",
    "saveRDS(all_test[,rel_vars], paste0(predDir, 'baseline_predictions.RDS'))"
   ]
  },
  {
   "cell_type": "markdown",
   "id": "e190b6f7",
   "metadata": {},
   "source": [
    "## Baseline average per group"
   ]
  },
  {
   "cell_type": "code",
   "execution_count": 2,
   "id": "f48dd7c5",
   "metadata": {},
   "outputs": [],
   "source": [
    "directory <- '/home/jupyter/Domains_202003/data/output/dp_datapull_20210223/'\n",
    "train_file <- 'expiry_20191006_20201024_train.RDS'\n",
    "test_file <- 'expiry_20201024_20210104_test.RDS'\n",
    "\n",
    "all_train <- readRDS(paste0(directory, train_file))\n",
    "all_test <- readRDS(paste0(directory, test_file))"
   ]
  },
  {
   "cell_type": "code",
   "execution_count": 3,
   "id": "d1d1ec0e",
   "metadata": {},
   "outputs": [],
   "source": [
    "# Create target variable\n",
    "all_train[,'target'] <- as.integer(all_train[, \"renewal_status\"] == \"Renewed\")\n",
    "all_test[,'target'] <- as.integer(all_test[, \"renewal_status\"] == \"Renewed\")"
   ]
  },
  {
   "cell_type": "code",
   "execution_count": 4,
   "id": "43872821",
   "metadata": {},
   "outputs": [],
   "source": [
    "# Create response_available column\n",
    "all_train[,'response_available'] = as.integer(all_train$response == \"Available\")\n",
    "all_train[is.na(all_train$response_available),'response_available'] = 0\n",
    "all_test[,'response_available'] = as.integer(all_test$response == \"Available\")\n",
    "all_test[is.na(all_test$response_available),'response_available'] = 0"
   ]
  },
  {
   "cell_type": "code",
   "execution_count": 8,
   "id": "c3c79d92",
   "metadata": {},
   "outputs": [
    {
     "name": "stderr",
     "output_type": "stream",
     "text": [
      "`summarise()` has grouped output by 'tld', 'registrar'. You can override using the `.groups` argument.\n",
      "\n"
     ]
    }
   ],
   "source": [
    "# Create train value matrix\n",
    "train_lookup <- all_train %>% group_by(tld, registrar, response_available) %>%\n",
    "    summarize(n = n(), total_renewed = sum(target), estimate = mean(target))\n",
    "\n",
    "# Generate predictions on test set\n",
    "all_test <- all_test %>% left_join(train_lookup, by=c('tld', 'registrar', 'response_available'))\n",
    "all_test$target <- as.factor(all_test$target)"
   ]
  },
  {
   "cell_type": "code",
   "execution_count": 9,
   "id": "93774e29",
   "metadata": {},
   "outputs": [],
   "source": [
    "# Save out predictions\n",
    "rel_vars <- c(\"tld\", \"registrar\", \"response\", \"estimate\", \"target\")\n",
    "predDir <- '/home/jupyter/Domains_202003/data/output/dp_predictions/'\n",
    "saveRDS(all_test[,rel_vars], paste0(predDir, 'baseline_grouping_predictions.RDS'))"
   ]
  },
  {
   "cell_type": "markdown",
   "id": "06a78ad9",
   "metadata": {},
   "source": [
    "## General Exploration"
   ]
  },
  {
   "cell_type": "code",
   "execution_count": 5,
   "id": "f61a31ad",
   "metadata": {},
   "outputs": [],
   "source": [
    "dataDir='/home/jupyter/Domains_202003/data/output/dp_datapull_20210223/expiry_20191006_20210104_train1.RDS'\n",
    "df <- readRDS(dataDir)"
   ]
  },
  {
   "cell_type": "code",
   "execution_count": 6,
   "id": "dbaa4387",
   "metadata": {},
   "outputs": [
    {
     "data": {
      "text/html": [
       "<table class=\"dataframe\">\n",
       "<caption>A tibble: 6 × 50</caption>\n",
       "<thead>\n",
       "\t<tr><th scope=col>domain</th><th scope=col>domain_id</th><th scope=col>renewed_count</th><th scope=col>renewal_type</th><th scope=col>expiry_date</th><th scope=col>creation_date</th><th scope=col>creation_time</th><th scope=col>tld</th><th scope=col>registrar</th><th scope=col>reseller</th><th scope=col>⋯</th><th scope=col>country</th><th scope=col>hosting_country</th><th scope=col>mxdomain</th><th scope=col>nameserver</th><th scope=col>renewalprobability</th><th scope=col>siccode</th><th scope=col>sicdivision</th><th scope=col>sicmajorgroup</th><th scope=col>ssl</th><th scope=col>max_date</th></tr>\n",
       "\t<tr><th scope=col>&lt;chr&gt;</th><th scope=col>&lt;int&gt;</th><th scope=col>&lt;int&gt;</th><th scope=col>&lt;chr&gt;</th><th scope=col>&lt;date&gt;</th><th scope=col>&lt;date&gt;</th><th scope=col>&lt;chr&gt;</th><th scope=col>&lt;chr&gt;</th><th scope=col>&lt;chr&gt;</th><th scope=col>&lt;chr&gt;</th><th scope=col>⋯</th><th scope=col>&lt;chr&gt;</th><th scope=col>&lt;chr&gt;</th><th scope=col>&lt;chr&gt;</th><th scope=col>&lt;chr&gt;</th><th scope=col>&lt;dbl&gt;</th><th scope=col>&lt;dbl&gt;</th><th scope=col>&lt;chr&gt;</th><th scope=col>&lt;chr&gt;</th><th scope=col>&lt;lgl&gt;</th><th scope=col>&lt;chr&gt;</th></tr>\n",
       "</thead>\n",
       "<tbody>\n",
       "\t<tr><td>vaibhavi.tech                       </td><td> 98509464</td><td>1</td><td>FirstTime</td><td>2020-03-31</td><td>2019-03-31</td><td>2019-03-31 15:41:09</td><td>tech  </td><td>Dotserve Inc</td><td>Dotserve Inc</td><td>⋯</td><td>NA</td><td>NA</td><td>NA</td><td>NA</td><td>NA</td><td>NA</td><td>NA</td><td>NA</td><td>NA</td><td>NA</td></tr>\n",
       "\t<tr><td>xn--2v5b23ngta.site                 </td><td>118960981</td><td>1</td><td>FirstTime</td><td>2020-08-22</td><td>2019-08-22</td><td>2019-08-22 07:56:58</td><td>site  </td><td>Gabia       </td><td>Gabia       </td><td>⋯</td><td>NA</td><td>NA</td><td>NA</td><td>NA</td><td>NA</td><td>NA</td><td>NA</td><td>NA</td><td>NA</td><td>NA</td></tr>\n",
       "\t<tr><td>cingerneto.pw                       </td><td> 93944008</td><td>1</td><td>FirstTime</td><td>2020-02-18</td><td>2019-02-18</td><td>2019-02-18 10:25:29</td><td>pw    </td><td>PDR Ltd     </td><td>Whois       </td><td>⋯</td><td>NA</td><td>NA</td><td>NA</td><td>NA</td><td>NA</td><td>NA</td><td>NA</td><td>NA</td><td>NA</td><td>NA</td></tr>\n",
       "\t<tr><td>eritreanorthodoxtewahdomezmur.online</td><td> 98425744</td><td>1</td><td>FirstTime</td><td>2020-03-30</td><td>2019-03-30</td><td>2019-03-30 11:32:28</td><td>online</td><td>PDR Ltd     </td><td>Hostgator   </td><td>⋯</td><td>NA</td><td>NA</td><td>NA</td><td>NA</td><td>NA</td><td>NA</td><td>NA</td><td>NA</td><td>NA</td><td>NA</td></tr>\n",
       "\t<tr><td>attic.pw                            </td><td>156293866</td><td>1</td><td>FirstTime</td><td>2020-12-27</td><td>2019-12-27</td><td>2019-12-27 04:13:40</td><td>pw    </td><td>Key-Systems </td><td>Key-Systems </td><td>⋯</td><td>NA</td><td>NA</td><td>NA</td><td>NA</td><td>NA</td><td>NA</td><td>NA</td><td>NA</td><td>NA</td><td>NA</td></tr>\n",
       "\t<tr><td>shoppingwire.pw                     </td><td> 86341832</td><td>1</td><td>FirstTime</td><td>2019-12-08</td><td>2018-12-08</td><td>2018-12-08 15:37:14</td><td>pw    </td><td>Key-Systems </td><td>Key-Systems </td><td>⋯</td><td>NA</td><td>NA</td><td>NA</td><td>NA</td><td>NA</td><td>NA</td><td>NA</td><td>NA</td><td>NA</td><td>NA</td></tr>\n",
       "</tbody>\n",
       "</table>\n"
      ],
      "text/latex": [
       "A tibble: 6 × 50\n",
       "\\begin{tabular}{lllllllllllllllllllll}\n",
       " domain & domain\\_id & renewed\\_count & renewal\\_type & expiry\\_date & creation\\_date & creation\\_time & tld & registrar & reseller & ⋯ & country & hosting\\_country & mxdomain & nameserver & renewalprobability & siccode & sicdivision & sicmajorgroup & ssl & max\\_date\\\\\n",
       " <chr> & <int> & <int> & <chr> & <date> & <date> & <chr> & <chr> & <chr> & <chr> & ⋯ & <chr> & <chr> & <chr> & <chr> & <dbl> & <dbl> & <chr> & <chr> & <lgl> & <chr>\\\\\n",
       "\\hline\n",
       "\t vaibhavi.tech                        &  98509464 & 1 & FirstTime & 2020-03-31 & 2019-03-31 & 2019-03-31 15:41:09 & tech   & Dotserve Inc & Dotserve Inc & ⋯ & NA & NA & NA & NA & NA & NA & NA & NA & NA & NA\\\\\n",
       "\t xn--2v5b23ngta.site                  & 118960981 & 1 & FirstTime & 2020-08-22 & 2019-08-22 & 2019-08-22 07:56:58 & site   & Gabia        & Gabia        & ⋯ & NA & NA & NA & NA & NA & NA & NA & NA & NA & NA\\\\\n",
       "\t cingerneto.pw                        &  93944008 & 1 & FirstTime & 2020-02-18 & 2019-02-18 & 2019-02-18 10:25:29 & pw     & PDR Ltd      & Whois        & ⋯ & NA & NA & NA & NA & NA & NA & NA & NA & NA & NA\\\\\n",
       "\t eritreanorthodoxtewahdomezmur.online &  98425744 & 1 & FirstTime & 2020-03-30 & 2019-03-30 & 2019-03-30 11:32:28 & online & PDR Ltd      & Hostgator    & ⋯ & NA & NA & NA & NA & NA & NA & NA & NA & NA & NA\\\\\n",
       "\t attic.pw                             & 156293866 & 1 & FirstTime & 2020-12-27 & 2019-12-27 & 2019-12-27 04:13:40 & pw     & Key-Systems  & Key-Systems  & ⋯ & NA & NA & NA & NA & NA & NA & NA & NA & NA & NA\\\\\n",
       "\t shoppingwire.pw                      &  86341832 & 1 & FirstTime & 2019-12-08 & 2018-12-08 & 2018-12-08 15:37:14 & pw     & Key-Systems  & Key-Systems  & ⋯ & NA & NA & NA & NA & NA & NA & NA & NA & NA & NA\\\\\n",
       "\\end{tabular}\n"
      ],
      "text/markdown": [
       "\n",
       "A tibble: 6 × 50\n",
       "\n",
       "| domain &lt;chr&gt; | domain_id &lt;int&gt; | renewed_count &lt;int&gt; | renewal_type &lt;chr&gt; | expiry_date &lt;date&gt; | creation_date &lt;date&gt; | creation_time &lt;chr&gt; | tld &lt;chr&gt; | registrar &lt;chr&gt; | reseller &lt;chr&gt; | ⋯ ⋯ | country &lt;chr&gt; | hosting_country &lt;chr&gt; | mxdomain &lt;chr&gt; | nameserver &lt;chr&gt; | renewalprobability &lt;dbl&gt; | siccode &lt;dbl&gt; | sicdivision &lt;chr&gt; | sicmajorgroup &lt;chr&gt; | ssl &lt;lgl&gt; | max_date &lt;chr&gt; |\n",
       "|---|---|---|---|---|---|---|---|---|---|---|---|---|---|---|---|---|---|---|---|---|\n",
       "| vaibhavi.tech                        |  98509464 | 1 | FirstTime | 2020-03-31 | 2019-03-31 | 2019-03-31 15:41:09 | tech   | Dotserve Inc | Dotserve Inc | ⋯ | NA | NA | NA | NA | NA | NA | NA | NA | NA | NA |\n",
       "| xn--2v5b23ngta.site                  | 118960981 | 1 | FirstTime | 2020-08-22 | 2019-08-22 | 2019-08-22 07:56:58 | site   | Gabia        | Gabia        | ⋯ | NA | NA | NA | NA | NA | NA | NA | NA | NA | NA |\n",
       "| cingerneto.pw                        |  93944008 | 1 | FirstTime | 2020-02-18 | 2019-02-18 | 2019-02-18 10:25:29 | pw     | PDR Ltd      | Whois        | ⋯ | NA | NA | NA | NA | NA | NA | NA | NA | NA | NA |\n",
       "| eritreanorthodoxtewahdomezmur.online |  98425744 | 1 | FirstTime | 2020-03-30 | 2019-03-30 | 2019-03-30 11:32:28 | online | PDR Ltd      | Hostgator    | ⋯ | NA | NA | NA | NA | NA | NA | NA | NA | NA | NA |\n",
       "| attic.pw                             | 156293866 | 1 | FirstTime | 2020-12-27 | 2019-12-27 | 2019-12-27 04:13:40 | pw     | Key-Systems  | Key-Systems  | ⋯ | NA | NA | NA | NA | NA | NA | NA | NA | NA | NA |\n",
       "| shoppingwire.pw                      |  86341832 | 1 | FirstTime | 2019-12-08 | 2018-12-08 | 2018-12-08 15:37:14 | pw     | Key-Systems  | Key-Systems  | ⋯ | NA | NA | NA | NA | NA | NA | NA | NA | NA | NA |\n",
       "\n"
      ],
      "text/plain": [
       "  domain                               domain_id renewed_count renewal_type\n",
       "1 vaibhavi.tech                         98509464 1             FirstTime   \n",
       "2 xn--2v5b23ngta.site                  118960981 1             FirstTime   \n",
       "3 cingerneto.pw                         93944008 1             FirstTime   \n",
       "4 eritreanorthodoxtewahdomezmur.online  98425744 1             FirstTime   \n",
       "5 attic.pw                             156293866 1             FirstTime   \n",
       "6 shoppingwire.pw                       86341832 1             FirstTime   \n",
       "  expiry_date creation_date creation_time       tld    registrar   \n",
       "1 2020-03-31  2019-03-31    2019-03-31 15:41:09 tech   Dotserve Inc\n",
       "2 2020-08-22  2019-08-22    2019-08-22 07:56:58 site   Gabia       \n",
       "3 2020-02-18  2019-02-18    2019-02-18 10:25:29 pw     PDR Ltd     \n",
       "4 2020-03-30  2019-03-30    2019-03-30 11:32:28 online PDR Ltd     \n",
       "5 2020-12-27  2019-12-27    2019-12-27 04:13:40 pw     Key-Systems \n",
       "6 2019-12-08  2018-12-08    2018-12-08 15:37:14 pw     Key-Systems \n",
       "  reseller     ⋯ country hosting_country mxdomain nameserver renewalprobability\n",
       "1 Dotserve Inc ⋯ NA      NA              NA       NA         NA                \n",
       "2 Gabia        ⋯ NA      NA              NA       NA         NA                \n",
       "3 Whois        ⋯ NA      NA              NA       NA         NA                \n",
       "4 Hostgator    ⋯ NA      NA              NA       NA         NA                \n",
       "5 Key-Systems  ⋯ NA      NA              NA       NA         NA                \n",
       "6 Key-Systems  ⋯ NA      NA              NA       NA         NA                \n",
       "  siccode sicdivision sicmajorgroup ssl max_date\n",
       "1 NA      NA          NA            NA  NA      \n",
       "2 NA      NA          NA            NA  NA      \n",
       "3 NA      NA          NA            NA  NA      \n",
       "4 NA      NA          NA            NA  NA      \n",
       "5 NA      NA          NA            NA  NA      \n",
       "6 NA      NA          NA            NA  NA      "
      ]
     },
     "metadata": {},
     "output_type": "display_data"
    }
   ],
   "source": [
    "head(df)"
   ]
  },
  {
   "cell_type": "code",
   "execution_count": null,
   "id": "bcaaf68a",
   "metadata": {},
   "outputs": [],
   "source": []
  },
  {
   "cell_type": "code",
   "execution_count": 7,
   "id": "7b0a776b",
   "metadata": {},
   "outputs": [
    {
     "data": {
      "text/plain": [
       "\n",
       "        Namecheap           Alibaba               GMO          Go Daddy \n",
       "           431631            340581            315689            202691 \n",
       "           REG.RU           PDR Ltd      CHENGDU WEST         Hostinger \n",
       "           148240            143179            124026             83357 \n",
       "        Gandi SAS Network Solutions            DNSPod     URL Solutions \n",
       "            63204             59551             44506             43359 \n",
       "           Tucows           Dynadot      Uniregistrar \n",
       "            38188             38012             31397 "
      ]
     },
     "metadata": {},
     "output_type": "display_data"
    }
   ],
   "source": [
    "sort(table(df$registrar), decreasing = T)[1:15]"
   ]
  },
  {
   "cell_type": "code",
   "execution_count": 8,
   "id": "bb13c389",
   "metadata": {},
   "outputs": [
    {
     "data": {
      "text/plain": [
       "\n",
       "   site  online     fun   space      pw website   store    tech    host   press \n",
       " 932951  598443  277263  175083  153628  143244  130729   99124   65402   17266 \n",
       " in.net    <NA>    <NA>    <NA>    <NA> \n",
       "   6674                                 "
      ]
     },
     "metadata": {},
     "output_type": "display_data"
    }
   ],
   "source": [
    "sort(table(df$tld), decreasing = T)[1:15]"
   ]
  },
  {
   "cell_type": "code",
   "execution_count": 9,
   "id": "c22c2f8d",
   "metadata": {},
   "outputs": [],
   "source": [
    "# Subset to Go Daddy tld = site\n",
    "mask <- (df$tld == \"site\") & (df$registrar == \"Go Daddy\")\n",
    "mask[is.na(mask)] = FALSE\n",
    "tdf = df[mask, ]"
   ]
  },
  {
   "cell_type": "code",
   "execution_count": 57,
   "id": "485110e6",
   "metadata": {},
   "outputs": [
    {
     "data": {
      "text/plain": [
       "\n",
       " FALSE   TRUE   <NA>   <NA>   <NA>   <NA>   <NA>   <NA>   <NA>   <NA> \n",
       "631187 219920                                                         "
      ]
     },
     "metadata": {},
     "output_type": "display_data"
    }
   ],
   "source": [
    "sort(table(df$ssl), decreasing=T)[1:10]"
   ]
  },
  {
   "cell_type": "code",
   "execution_count": 58,
   "id": "a44ac11a",
   "metadata": {},
   "outputs": [],
   "source": [
    "dp_vars <- c('response', 'websitetype', 'economy_footprint', 'online', 'ecommerce', 'ecommercequality', 'country',\n",
    "             'hosting_country', 'renewalprobability', 'siccode','sicdivision','sicmajorgroup',\n",
    "             'mxdomain', 'nameserver', 'ssl')\n",
    "radix_vars <- c('pattern_domain_count','sld_length','gibb_score','sld_type','day_domains','reg_period')\n",
    "all_vars <- c(dp_vars, radix_vars)"
   ]
  },
  {
   "cell_type": "code",
   "execution_count": null,
   "id": "4e25ac78",
   "metadata": {},
   "outputs": [],
   "source": []
  },
  {
   "cell_type": "code",
   "execution_count": 15,
   "id": "8486454c",
   "metadata": {},
   "outputs": [],
   "source": [
    "# vars <- c('pattern_domain_count','sld_length','gibb_score','sld_type','day_domains','reg_period')\n",
    "# dp_vars <- c('response','websitetype','economy_footprint','online','ecommerce','ecommercequality','country',\n",
    "#               'hosting_country','mxdomain','nameserver','renewalprobability','siccode','sicdivision','sicmajorgroup',\n",
    "#               'ssl','renewed_count')"
   ]
  },
  {
   "cell_type": "code",
   "execution_count": 9,
   "id": "3791c371",
   "metadata": {},
   "outputs": [
    {
     "data": {
      "text/plain": [
       "\n",
       "Not Renewd    Renewed Transfered \n",
       "     40252       3277        110 "
      ]
     },
     "metadata": {},
     "output_type": "display_data"
    }
   ],
   "source": [
    "table(df[,\"renewal_status\"])"
   ]
  },
  {
   "cell_type": "code",
   "execution_count": 10,
   "id": "b4e0c1cc",
   "metadata": {},
   "outputs": [
    {
     "data": {
      "text/plain": [
       "\n",
       "    0     1 \n",
       "40362  3277 "
      ]
     },
     "metadata": {},
     "output_type": "display_data"
    }
   ],
   "source": [
    "# Create target variable\n",
    "df[,'target'] <- as.integer(df[, \"renewal_status\"] == \"Renewed\")\n",
    "table(df$target)"
   ]
  },
  {
   "cell_type": "code",
   "execution_count": 11,
   "id": "099aa730",
   "metadata": {},
   "outputs": [
    {
     "data": {
      "text/html": [
       "0.0750933797749719"
      ],
      "text/latex": [
       "0.0750933797749719"
      ],
      "text/markdown": [
       "0.0750933797749719"
      ],
      "text/plain": [
       "[1] 0.07509338"
      ]
     },
     "metadata": {},
     "output_type": "display_data"
    }
   ],
   "source": [
    "mean(df$target)"
   ]
  },
  {
   "cell_type": "code",
   "execution_count": 18,
   "id": "6de1b891",
   "metadata": {},
   "outputs": [
    {
     "data": {
      "image/png": "[encoded data removed]",
      "text/plain": [
       "plot without title"
      ]
     },
     "metadata": {
      "image/png": {
       "height": 720,
       "width": 720
      }
     },
     "output_type": "display_data"
    }
   ],
   "source": [
    "options(repr.plot.width=12, repr.plot.height=12)\n",
    "gg_miss_fct(df[, c(radix_vars, dp_vars, unknown_vars)], response)"
   ]
  },
  {
   "cell_type": "code",
   "execution_count": 20,
   "id": "48ea1ea9",
   "metadata": {},
   "outputs": [
    {
     "data": {
      "image/png": "[encoded data removed]",
      "text/plain": [
       "plot without title"
      ]
     },
     "metadata": {
      "image/png": {
       "height": 720,
       "width": 720
      }
     },
     "output_type": "display_data"
    }
   ],
   "source": [
    "gg_miss_var(df[,c(radix_vars, dp_vars)], show_pct = TRUE)"
   ]
  },
  {
   "cell_type": "markdown",
   "id": "f0e74760",
   "metadata": {},
   "source": [
    "## Available Websites only"
   ]
  },
  {
   "cell_type": "code",
   "execution_count": 21,
   "id": "1a7bf053",
   "metadata": {},
   "outputs": [
    {
     "data": {
      "text/plain": [
       "\n",
       " Access denied      Available Host not found       Redirect \n",
       "         15733          15830           7576           3523 "
      ]
     },
     "metadata": {},
     "output_type": "display_data"
    }
   ],
   "source": [
    "mask <- df$response == \"Available\"\n",
    "mask[is.na(mask)] = FALSE\n",
    "avail = df[mask,]\n",
    "table(df$response)"
   ]
  },
  {
   "cell_type": "code",
   "execution_count": 24,
   "id": "1aabeaec",
   "metadata": {},
   "outputs": [
    {
     "data": {
      "image/png": "[encoded data removed]",
      "text/plain": [
       "plot without title"
      ]
     },
     "metadata": {
      "image/png": {
       "height": 720,
       "width": 720
      }
     },
     "output_type": "display_data"
    }
   ],
   "source": [
    "gg_miss_var(avail[,c(radix_vars, dp_vars, unknown_vars)], show_pct = TRUE)"
   ]
  },
  {
   "cell_type": "code",
   "execution_count": 25,
   "id": "958d3716",
   "metadata": {},
   "outputs": [],
   "source": [
    "# Select variables with less than 5% missing\n",
    "miss_sum <- miss_var_summary(avail[,c(radix_vars, dp_vars, unknown_vars)])\n",
    "thresh = 5\n",
    "use_vars <- miss_sum %>% filter(pct_miss < thresh) %>% pull(variable)\n",
    "use_vars <- c(use_vars, \"target\")"
   ]
  },
  {
   "cell_type": "code",
   "execution_count": 26,
   "id": "5f64d2ec",
   "metadata": {},
   "outputs": [
    {
     "name": "stdout",
     "output_type": "stream",
     "text": [
      "[1] \"Kept 99% of records\"\n"
     ]
    }
   ],
   "source": [
    "# Subset to rows where no variables missing; split traing test\n",
    "use_df = avail[rowSums(is.na(avail[,use_vars])) == 0, use_vars]\n",
    "print(paste0(\"Kept \", round(100 * nrow(use_df) / nrow(avail), 1), \"% of records\"))\n",
    "set.seed(10)\n",
    "train_ind <- sample(seq_len(nrow(use_df)), size = floor(0.75 * nrow(use_df)))\n",
    "train <- use_df[train_ind, ]\n",
    "test <- use_df[-train_ind, ]"
   ]
  },
  {
   "cell_type": "code",
   "execution_count": 27,
   "id": "c91600ca",
   "metadata": {},
   "outputs": [],
   "source": [
    "# Train and test model\n",
    "rf <- ranger(target ~ ., data = train, num.trees = 50, importance = \"permutation\", max.depth = 5)\n",
    "pred <- predict(rf, test)\n",
    "test$estimate <- pred$predictions\n",
    "test$target <- as.factor(test$target)"
   ]
  },
  {
   "cell_type": "code",
   "execution_count": 28,
   "id": "a39c9df4",
   "metadata": {},
   "outputs": [
    {
     "data": {
      "image/png": "[encoded data removed]",
      "text/plain": [
       "plot without title"
      ]
     },
     "metadata": {
      "image/png": {
       "height": 720,
       "width": 720
      }
     },
     "output_type": "display_data"
    }
   ],
   "source": [
    "test %>% gain_curve(truth=target, estimate, event_level = \"second\") %>% autoplot()\n"
   ]
  },
  {
   "cell_type": "code",
   "execution_count": 29,
   "id": "66ab75b9",
   "metadata": {},
   "outputs": [
    {
     "data": {
      "image/png": "[encoded data removed]",
      "text/plain": [
       "plot without title"
      ]
     },
     "metadata": {
      "image/png": {
       "height": 720,
       "width": 720
      }
     },
     "output_type": "display_data"
    }
   ],
   "source": [
    "# Credit: https://stackoverflow.com/a/56306139\n",
    "df1 <- data.frame(imp = rf$variable.importance)\n",
    "df2 <- df1 %>% \n",
    "  tibble::rownames_to_column() %>% \n",
    "  dplyr::rename(\"variable\" = rowname) %>% \n",
    "  dplyr::arrange(imp) %>%\n",
    "  dplyr::mutate(variable = forcats::fct_inorder(variable))\n",
    "ggplot2::ggplot(df2) +\n",
    "  geom_col(aes(x = variable, y = imp),\n",
    "           col = \"black\", show.legend = F) +\n",
    "  coord_flip() +\n",
    "  scale_fill_grey() +\n",
    "  theme_bw()\n",
    "\n"
   ]
  },
  {
   "cell_type": "code",
   "execution_count": 30,
   "id": "c94f9b57",
   "metadata": {},
   "outputs": [
    {
     "data": {
      "text/html": [
       "<table class=\"dataframe\">\n",
       "<caption>A tibble: 10 × 4</caption>\n",
       "<thead>\n",
       "\t<tr><th scope=col>get(col)</th><th scope=col>mu</th><th scope=col>count</th><th scope=col>mu_perc</th></tr>\n",
       "\t<tr><th scope=col>&lt;chr&gt;</th><th scope=col>&lt;dbl&gt;</th><th scope=col>&lt;int&gt;</th><th scope=col>&lt;chr&gt;</th></tr>\n",
       "</thead>\n",
       "<tbody>\n",
       "\t<tr><td>US</td><td>0.19257951</td><td>3962</td><td>19.26%</td></tr>\n",
       "\t<tr><td>CN</td><td>0.01713770</td><td>3326</td><td>1.71% </td></tr>\n",
       "\t<tr><td>IN</td><td>0.05238095</td><td> 630</td><td>5.24% </td></tr>\n",
       "\t<tr><td>BR</td><td>0.11564626</td><td> 588</td><td>11.56%</td></tr>\n",
       "\t<tr><td>TR</td><td>0.03486239</td><td> 545</td><td>3.49% </td></tr>\n",
       "\t<tr><td>MY</td><td>0.88326848</td><td> 257</td><td>88.33%</td></tr>\n",
       "\t<tr><td>VN</td><td>0.04453441</td><td> 247</td><td>4.45% </td></tr>\n",
       "\t<tr><td>RU</td><td>0.05042017</td><td> 238</td><td>5.04% </td></tr>\n",
       "\t<tr><td>UA</td><td>0.02525253</td><td> 198</td><td>2.53% </td></tr>\n",
       "\t<tr><td>UK</td><td>0.19047619</td><td> 189</td><td>19.05%</td></tr>\n",
       "</tbody>\n",
       "</table>\n"
      ],
      "text/latex": [
       "A tibble: 10 × 4\n",
       "\\begin{tabular}{llll}\n",
       " get(col) & mu & count & mu\\_perc\\\\\n",
       " <chr> & <dbl> & <int> & <chr>\\\\\n",
       "\\hline\n",
       "\t US & 0.19257951 & 3962 & 19.26\\%\\\\\n",
       "\t CN & 0.01713770 & 3326 & 1.71\\% \\\\\n",
       "\t IN & 0.05238095 &  630 & 5.24\\% \\\\\n",
       "\t BR & 0.11564626 &  588 & 11.56\\%\\\\\n",
       "\t TR & 0.03486239 &  545 & 3.49\\% \\\\\n",
       "\t MY & 0.88326848 &  257 & 88.33\\%\\\\\n",
       "\t VN & 0.04453441 &  247 & 4.45\\% \\\\\n",
       "\t RU & 0.05042017 &  238 & 5.04\\% \\\\\n",
       "\t UA & 0.02525253 &  198 & 2.53\\% \\\\\n",
       "\t UK & 0.19047619 &  189 & 19.05\\%\\\\\n",
       "\\end{tabular}\n"
      ],
      "text/markdown": [
       "\n",
       "A tibble: 10 × 4\n",
       "\n",
       "| get(col) &lt;chr&gt; | mu &lt;dbl&gt; | count &lt;int&gt; | mu_perc &lt;chr&gt; |\n",
       "|---|---|---|---|\n",
       "| US | 0.19257951 | 3962 | 19.26% |\n",
       "| CN | 0.01713770 | 3326 | 1.71%  |\n",
       "| IN | 0.05238095 |  630 | 5.24%  |\n",
       "| BR | 0.11564626 |  588 | 11.56% |\n",
       "| TR | 0.03486239 |  545 | 3.49%  |\n",
       "| MY | 0.88326848 |  257 | 88.33% |\n",
       "| VN | 0.04453441 |  247 | 4.45%  |\n",
       "| RU | 0.05042017 |  238 | 5.04%  |\n",
       "| UA | 0.02525253 |  198 | 2.53%  |\n",
       "| UK | 0.19047619 |  189 | 19.05% |\n",
       "\n"
      ],
      "text/plain": [
       "   get(col) mu         count mu_perc\n",
       "1  US       0.19257951 3962  19.26% \n",
       "2  CN       0.01713770 3326  1.71%  \n",
       "3  IN       0.05238095  630  5.24%  \n",
       "4  BR       0.11564626  588  11.56% \n",
       "5  TR       0.03486239  545  3.49%  \n",
       "6  MY       0.88326848  257  88.33% \n",
       "7  VN       0.04453441  247  4.45%  \n",
       "8  RU       0.05042017  238  5.04%  \n",
       "9  UA       0.02525253  198  2.53%  \n",
       "10 UK       0.19047619  189  19.05% "
      ]
     },
     "metadata": {},
     "output_type": "display_data"
    }
   ],
   "source": [
    "renewal_by_factor <- function(col) {\n",
    "    train %>% group_by(get(col)) %>% summarize(mu = mean(target), count = n()) %>% mutate(mu_perc = paste0(as.character(round(mu*100, digits= 2)),\"%\")) %>% arrange(desc(count)) %>% head(10)    \n",
    "}\n",
    "renewal_by_factor(\"country\")"
   ]
  },
  {
   "cell_type": "code",
   "execution_count": 27,
   "id": "11c42154",
   "metadata": {},
   "outputs": [
    {
     "data": {
      "text/html": [
       "<table class=\"dataframe\">\n",
       "<caption>A tibble: 10 × 4</caption>\n",
       "<thead>\n",
       "\t<tr><th scope=col>get(col)</th><th scope=col>mu</th><th scope=col>count</th><th scope=col>mu_perc</th></tr>\n",
       "\t<tr><th scope=col>&lt;chr&gt;</th><th scope=col>&lt;dbl&gt;</th><th scope=col>&lt;int&gt;</th><th scope=col>&lt;chr&gt;</th></tr>\n",
       "</thead>\n",
       "<tbody>\n",
       "\t<tr><td>domaincontrol.com   </td><td>0.129128278</td><td>7055</td><td>12.91%</td></tr>\n",
       "\t<tr><td>cloudflare.com      </td><td>0.309055118</td><td>1016</td><td>30.91%</td></tr>\n",
       "\t<tr><td>dns.com             </td><td>0.000000000</td><td> 913</td><td>0%    </td></tr>\n",
       "\t<tr><td>dnsdun.com          </td><td>0.000000000</td><td> 694</td><td>0%    </td></tr>\n",
       "\t<tr><td>dnspod.net          </td><td>0.009823183</td><td> 509</td><td>0.98% </td></tr>\n",
       "\t<tr><td>xundns.com          </td><td>0.010309278</td><td>  97</td><td>1.03% </td></tr>\n",
       "\t<tr><td>hostgator.com       </td><td>0.134831461</td><td>  89</td><td>13.48%</td></tr>\n",
       "\t<tr><td>namecheaphosting.com</td><td>0.144736842</td><td>  76</td><td>14.47%</td></tr>\n",
       "\t<tr><td>well-web.net        </td><td>0.000000000</td><td>  72</td><td>0%    </td></tr>\n",
       "\t<tr><td>l4dns.com           </td><td>0.095238095</td><td>  63</td><td>9.52% </td></tr>\n",
       "</tbody>\n",
       "</table>\n"
      ],
      "text/latex": [
       "A tibble: 10 × 4\n",
       "\\begin{tabular}{llll}\n",
       " get(col) & mu & count & mu\\_perc\\\\\n",
       " <chr> & <dbl> & <int> & <chr>\\\\\n",
       "\\hline\n",
       "\t domaincontrol.com    & 0.129128278 & 7055 & 12.91\\%\\\\\n",
       "\t cloudflare.com       & 0.309055118 & 1016 & 30.91\\%\\\\\n",
       "\t dns.com              & 0.000000000 &  913 & 0\\%    \\\\\n",
       "\t dnsdun.com           & 0.000000000 &  694 & 0\\%    \\\\\n",
       "\t dnspod.net           & 0.009823183 &  509 & 0.98\\% \\\\\n",
       "\t xundns.com           & 0.010309278 &   97 & 1.03\\% \\\\\n",
       "\t hostgator.com        & 0.134831461 &   89 & 13.48\\%\\\\\n",
       "\t namecheaphosting.com & 0.144736842 &   76 & 14.47\\%\\\\\n",
       "\t well-web.net         & 0.000000000 &   72 & 0\\%    \\\\\n",
       "\t l4dns.com            & 0.095238095 &   63 & 9.52\\% \\\\\n",
       "\\end{tabular}\n"
      ],
      "text/markdown": [
       "\n",
       "A tibble: 10 × 4\n",
       "\n",
       "| get(col) &lt;chr&gt; | mu &lt;dbl&gt; | count &lt;int&gt; | mu_perc &lt;chr&gt; |\n",
       "|---|---|---|---|\n",
       "| domaincontrol.com    | 0.129128278 | 7055 | 12.91% |\n",
       "| cloudflare.com       | 0.309055118 | 1016 | 30.91% |\n",
       "| dns.com              | 0.000000000 |  913 | 0%     |\n",
       "| dnsdun.com           | 0.000000000 |  694 | 0%     |\n",
       "| dnspod.net           | 0.009823183 |  509 | 0.98%  |\n",
       "| xundns.com           | 0.010309278 |   97 | 1.03%  |\n",
       "| hostgator.com        | 0.134831461 |   89 | 13.48% |\n",
       "| namecheaphosting.com | 0.144736842 |   76 | 14.47% |\n",
       "| well-web.net         | 0.000000000 |   72 | 0%     |\n",
       "| l4dns.com            | 0.095238095 |   63 | 9.52%  |\n",
       "\n"
      ],
      "text/plain": [
       "   get(col)             mu          count mu_perc\n",
       "1  domaincontrol.com    0.129128278 7055  12.91% \n",
       "2  cloudflare.com       0.309055118 1016  30.91% \n",
       "3  dns.com              0.000000000  913  0%     \n",
       "4  dnsdun.com           0.000000000  694  0%     \n",
       "5  dnspod.net           0.009823183  509  0.98%  \n",
       "6  xundns.com           0.010309278   97  1.03%  \n",
       "7  hostgator.com        0.134831461   89  13.48% \n",
       "8  namecheaphosting.com 0.144736842   76  14.47% \n",
       "9  well-web.net         0.000000000   72  0%     \n",
       "10 l4dns.com            0.095238095   63  9.52%  "
      ]
     },
     "metadata": {},
     "output_type": "display_data"
    }
   ],
   "source": [
    "renewal_by_factor(\"nameserver\")"
   ]
  },
  {
   "cell_type": "code",
   "execution_count": 31,
   "id": "56063d11",
   "metadata": {},
   "outputs": [
    {
     "data": {
      "text/html": [
       "<table class=\"dataframe\">\n",
       "<caption>A tibble: 10 × 4</caption>\n",
       "<thead>\n",
       "\t<tr><th scope=col>get(col)</th><th scope=col>mu</th><th scope=col>count</th><th scope=col>mu_perc</th></tr>\n",
       "\t<tr><th scope=col>&lt;int&gt;</th><th scope=col>&lt;dbl&gt;</th><th scope=col>&lt;int&gt;</th><th scope=col>&lt;chr&gt;</th></tr>\n",
       "</thead>\n",
       "<tbody>\n",
       "\t<tr><td>1136</td><td>0.052493438</td><td>381</td><td>5.25% </td></tr>\n",
       "\t<tr><td>1370</td><td>0.023684211</td><td>380</td><td>2.37% </td></tr>\n",
       "\t<tr><td> 295</td><td>0.088652482</td><td>282</td><td>8.87% </td></tr>\n",
       "\t<tr><td> 777</td><td>0.014814815</td><td>270</td><td>1.48% </td></tr>\n",
       "\t<tr><td> 440</td><td>0.881679389</td><td>262</td><td>88.17%</td></tr>\n",
       "\t<tr><td> 422</td><td>0.004115226</td><td>243</td><td>0.41% </td></tr>\n",
       "\t<tr><td> 643</td><td>0.049504950</td><td>202</td><td>4.95% </td></tr>\n",
       "\t<tr><td> 595</td><td>0.045685279</td><td>197</td><td>4.57% </td></tr>\n",
       "\t<tr><td> 435</td><td>0.046875000</td><td>192</td><td>4.69% </td></tr>\n",
       "\t<tr><td> 354</td><td>0.142857143</td><td>189</td><td>14.29%</td></tr>\n",
       "</tbody>\n",
       "</table>\n"
      ],
      "text/latex": [
       "A tibble: 10 × 4\n",
       "\\begin{tabular}{llll}\n",
       " get(col) & mu & count & mu\\_perc\\\\\n",
       " <int> & <dbl> & <int> & <chr>\\\\\n",
       "\\hline\n",
       "\t 1136 & 0.052493438 & 381 & 5.25\\% \\\\\n",
       "\t 1370 & 0.023684211 & 380 & 2.37\\% \\\\\n",
       "\t  295 & 0.088652482 & 282 & 8.87\\% \\\\\n",
       "\t  777 & 0.014814815 & 270 & 1.48\\% \\\\\n",
       "\t  440 & 0.881679389 & 262 & 88.17\\%\\\\\n",
       "\t  422 & 0.004115226 & 243 & 0.41\\% \\\\\n",
       "\t  643 & 0.049504950 & 202 & 4.95\\% \\\\\n",
       "\t  595 & 0.045685279 & 197 & 4.57\\% \\\\\n",
       "\t  435 & 0.046875000 & 192 & 4.69\\% \\\\\n",
       "\t  354 & 0.142857143 & 189 & 14.29\\%\\\\\n",
       "\\end{tabular}\n"
      ],
      "text/markdown": [
       "\n",
       "A tibble: 10 × 4\n",
       "\n",
       "| get(col) &lt;int&gt; | mu &lt;dbl&gt; | count &lt;int&gt; | mu_perc &lt;chr&gt; |\n",
       "|---|---|---|---|\n",
       "| 1136 | 0.052493438 | 381 | 5.25%  |\n",
       "| 1370 | 0.023684211 | 380 | 2.37%  |\n",
       "|  295 | 0.088652482 | 282 | 8.87%  |\n",
       "|  777 | 0.014814815 | 270 | 1.48%  |\n",
       "|  440 | 0.881679389 | 262 | 88.17% |\n",
       "|  422 | 0.004115226 | 243 | 0.41%  |\n",
       "|  643 | 0.049504950 | 202 | 4.95%  |\n",
       "|  595 | 0.045685279 | 197 | 4.57%  |\n",
       "|  435 | 0.046875000 | 192 | 4.69%  |\n",
       "|  354 | 0.142857143 | 189 | 14.29% |\n",
       "\n"
      ],
      "text/plain": [
       "   get(col) mu          count mu_perc\n",
       "1  1136     0.052493438 381   5.25%  \n",
       "2  1370     0.023684211 380   2.37%  \n",
       "3   295     0.088652482 282   8.87%  \n",
       "4   777     0.014814815 270   1.48%  \n",
       "5   440     0.881679389 262   88.17% \n",
       "6   422     0.004115226 243   0.41%  \n",
       "7   643     0.049504950 202   4.95%  \n",
       "8   595     0.045685279 197   4.57%  \n",
       "9   435     0.046875000 192   4.69%  \n",
       "10  354     0.142857143 189   14.29% "
      ]
     },
     "metadata": {},
     "output_type": "display_data"
    }
   ],
   "source": [
    "renewal_by_factor(\"day_domains\")"
   ]
  },
  {
   "cell_type": "code",
   "execution_count": 31,
   "id": "caa662f2",
   "metadata": {},
   "outputs": [
    {
     "data": {
      "text/html": [
       "<table class=\"dataframe\">\n",
       "<caption>A tibble: 100 × 7</caption>\n",
       "<thead>\n",
       "\t<tr><th scope=col>country</th><th scope=col>nameserver</th><th scope=col>day_domains</th><th scope=col>ecommercequality</th><th scope=col>ssl</th><th scope=col>estimate</th><th scope=col>target</th></tr>\n",
       "\t<tr><th scope=col>&lt;chr&gt;</th><th scope=col>&lt;chr&gt;</th><th scope=col>&lt;int&gt;</th><th scope=col>&lt;dbl&gt;</th><th scope=col>&lt;lgl&gt;</th><th scope=col>&lt;dbl&gt;</th><th scope=col>&lt;fct&gt;</th></tr>\n",
       "</thead>\n",
       "<tbody>\n",
       "\t<tr><td>MY</td><td>cloudflare.com</td><td>440</td><td>27</td><td>TRUE</td><td>0.8086971</td><td>1</td></tr>\n",
       "\t<tr><td>MY</td><td>cloudflare.com</td><td>440</td><td>27</td><td>TRUE</td><td>0.8061257</td><td>1</td></tr>\n",
       "\t<tr><td>MY</td><td>cloudflare.com</td><td>440</td><td>27</td><td>TRUE</td><td>0.7996474</td><td>1</td></tr>\n",
       "\t<tr><td>MY</td><td>cloudflare.com</td><td>440</td><td>27</td><td>TRUE</td><td>0.7961257</td><td>1</td></tr>\n",
       "\t<tr><td>MY</td><td>cloudflare.com</td><td>440</td><td>27</td><td>TRUE</td><td>0.7961257</td><td>1</td></tr>\n",
       "\t<tr><td>MY</td><td>cloudflare.com</td><td>440</td><td>27</td><td>TRUE</td><td>0.7958757</td><td>1</td></tr>\n",
       "\t<tr><td>MY</td><td>cloudflare.com</td><td>440</td><td>27</td><td>TRUE</td><td>0.7958757</td><td>1</td></tr>\n",
       "\t<tr><td>MY</td><td>cloudflare.com</td><td>440</td><td>27</td><td>TRUE</td><td>0.7958315</td><td>1</td></tr>\n",
       "\t<tr><td>MY</td><td>cloudflare.com</td><td>440</td><td>27</td><td>TRUE</td><td>0.7958315</td><td>1</td></tr>\n",
       "\t<tr><td>MY</td><td>cloudflare.com</td><td>440</td><td>27</td><td>TRUE</td><td>0.7955815</td><td>1</td></tr>\n",
       "\t<tr><td>MY</td><td>cloudflare.com</td><td>440</td><td>27</td><td>TRUE</td><td>0.7955815</td><td>1</td></tr>\n",
       "\t<tr><td>MY</td><td>cloudflare.com</td><td>440</td><td>27</td><td>TRUE</td><td>0.7955815</td><td>1</td></tr>\n",
       "\t<tr><td>MY</td><td>cloudflare.com</td><td>440</td><td>27</td><td>TRUE</td><td>0.7955815</td><td>1</td></tr>\n",
       "\t<tr><td>MY</td><td>cloudflare.com</td><td>440</td><td>27</td><td>TRUE</td><td>0.7955815</td><td>1</td></tr>\n",
       "\t<tr><td>MY</td><td>cloudflare.com</td><td>440</td><td>27</td><td>TRUE</td><td>0.7955815</td><td>1</td></tr>\n",
       "\t<tr><td>MY</td><td>cloudflare.com</td><td>440</td><td>27</td><td>TRUE</td><td>0.7955815</td><td>1</td></tr>\n",
       "\t<tr><td>MY</td><td>cloudflare.com</td><td>440</td><td>27</td><td>TRUE</td><td>0.7955815</td><td>1</td></tr>\n",
       "\t<tr><td>MY</td><td>cloudflare.com</td><td>440</td><td>27</td><td>TRUE</td><td>0.7811303</td><td>1</td></tr>\n",
       "\t<tr><td>MY</td><td>cloudflare.com</td><td>440</td><td>27</td><td>TRUE</td><td>0.7733572</td><td>1</td></tr>\n",
       "\t<tr><td>MY</td><td>cloudflare.com</td><td>440</td><td>27</td><td>TRUE</td><td>0.7664633</td><td>1</td></tr>\n",
       "\t<tr><td>MY</td><td>cloudflare.com</td><td>440</td><td>27</td><td>TRUE</td><td>0.7625735</td><td>1</td></tr>\n",
       "\t<tr><td>MY</td><td>cloudflare.com</td><td>440</td><td>27</td><td>TRUE</td><td>0.7571655</td><td>1</td></tr>\n",
       "\t<tr><td>MY</td><td>cloudflare.com</td><td>440</td><td>27</td><td>TRUE</td><td>0.7544428</td><td>1</td></tr>\n",
       "\t<tr><td>MY</td><td>cloudflare.com</td><td>440</td><td>27</td><td>TRUE</td><td>0.7544428</td><td>1</td></tr>\n",
       "\t<tr><td>MY</td><td>cloudflare.com</td><td>440</td><td>27</td><td>TRUE</td><td>0.7544428</td><td>1</td></tr>\n",
       "\t<tr><td>MY</td><td>cloudflare.com</td><td>440</td><td>27</td><td>TRUE</td><td>0.7467575</td><td>1</td></tr>\n",
       "\t<tr><td>MY</td><td>cloudflare.com</td><td>440</td><td>27</td><td>TRUE</td><td>0.7452708</td><td>1</td></tr>\n",
       "\t<tr><td>MY</td><td>cloudflare.com</td><td>440</td><td>27</td><td>TRUE</td><td>0.7452708</td><td>1</td></tr>\n",
       "\t<tr><td>MY</td><td>cloudflare.com</td><td>440</td><td>27</td><td>TRUE</td><td>0.7375855</td><td>1</td></tr>\n",
       "\t<tr><td>MY</td><td>cloudflare.com</td><td>440</td><td>27</td><td>TRUE</td><td>0.7374598</td><td>1</td></tr>\n",
       "\t<tr><td>⋮</td><td>⋮</td><td>⋮</td><td>⋮</td><td>⋮</td><td>⋮</td><td>⋮</td></tr>\n",
       "\t<tr><td>US</td><td>domaincontrol.com</td><td> 433</td><td> 3</td><td>FALSE</td><td>0.4379739</td><td>1</td></tr>\n",
       "\t<tr><td>US</td><td>domaincontrol.com</td><td> 365</td><td> 3</td><td>FALSE</td><td>0.4326526</td><td>1</td></tr>\n",
       "\t<tr><td>US</td><td>domaincontrol.com</td><td> 176</td><td> 3</td><td>FALSE</td><td>0.4284998</td><td>1</td></tr>\n",
       "\t<tr><td>US</td><td>domaincontrol.com</td><td> 235</td><td> 3</td><td>FALSE</td><td>0.4284444</td><td>0</td></tr>\n",
       "\t<tr><td>US</td><td>domaincontrol.com</td><td> 202</td><td> 3</td><td>FALSE</td><td>0.4252231</td><td>0</td></tr>\n",
       "\t<tr><td>US</td><td>domaincontrol.com</td><td> 175</td><td> 3</td><td>FALSE</td><td>0.4246062</td><td>0</td></tr>\n",
       "\t<tr><td>US</td><td>domaincontrol.com</td><td>  46</td><td> 3</td><td>FALSE</td><td>0.4241516</td><td>0</td></tr>\n",
       "\t<tr><td>US</td><td>domaincontrol.com</td><td> 132</td><td> 3</td><td>FALSE</td><td>0.4198834</td><td>1</td></tr>\n",
       "\t<tr><td>US</td><td>domaincontrol.com</td><td> 195</td><td> 3</td><td>FALSE</td><td>0.4194810</td><td>1</td></tr>\n",
       "\t<tr><td>US</td><td>domaincontrol.com</td><td>  94</td><td> 3</td><td>FALSE</td><td>0.4132899</td><td>1</td></tr>\n",
       "\t<tr><td>US</td><td>domaincontrol.com</td><td>  53</td><td> 3</td><td>FALSE</td><td>0.4117366</td><td>1</td></tr>\n",
       "\t<tr><td>US</td><td>domaincontrol.com</td><td> 454</td><td> 3</td><td>FALSE</td><td>0.4080189</td><td>1</td></tr>\n",
       "\t<tr><td>US</td><td>domaincontrol.com</td><td>  49</td><td> 3</td><td>FALSE</td><td>0.4059954</td><td>1</td></tr>\n",
       "\t<tr><td>US</td><td>domaincontrol.com</td><td> 235</td><td> 3</td><td>FALSE</td><td>0.4053361</td><td>1</td></tr>\n",
       "\t<tr><td>TR</td><td>domaincontrol.com</td><td> 175</td><td>27</td><td>FALSE</td><td>0.3980635</td><td>0</td></tr>\n",
       "\t<tr><td>US</td><td>domaincontrol.com</td><td>  78</td><td> 3</td><td>FALSE</td><td>0.3975389</td><td>1</td></tr>\n",
       "\t<tr><td>US</td><td>domaincontrol.com</td><td>  40</td><td> 3</td><td>FALSE</td><td>0.3962544</td><td>1</td></tr>\n",
       "\t<tr><td>MY</td><td>domaincontrol.com</td><td>  40</td><td>27</td><td>FALSE</td><td>0.3928749</td><td>0</td></tr>\n",
       "\t<tr><td>US</td><td>domaincontrol.com</td><td> 185</td><td> 3</td><td>FALSE</td><td>0.3925351</td><td>1</td></tr>\n",
       "\t<tr><td>US</td><td>domaincontrol.com</td><td>  47</td><td> 3</td><td>FALSE</td><td>0.3903562</td><td>0</td></tr>\n",
       "\t<tr><td>US</td><td>domaincontrol.com</td><td>  26</td><td> 3</td><td>FALSE</td><td>0.3892074</td><td>0</td></tr>\n",
       "\t<tr><td>BR</td><td>cloudflare.com   </td><td>  55</td><td> 2</td><td> TRUE</td><td>0.3821964</td><td>1</td></tr>\n",
       "\t<tr><td>US</td><td>domaincontrol.com</td><td> 454</td><td> 3</td><td>FALSE</td><td>0.3813065</td><td>1</td></tr>\n",
       "\t<tr><td>US</td><td>domaincontrol.com</td><td>  32</td><td> 3</td><td>FALSE</td><td>0.3725136</td><td>0</td></tr>\n",
       "\t<tr><td>MX</td><td>domaincontrol.com</td><td>1370</td><td>27</td><td> TRUE</td><td>0.3704654</td><td>0</td></tr>\n",
       "\t<tr><td>UK</td><td>domaincontrol.com</td><td>  94</td><td> 2</td><td>FALSE</td><td>0.3687047</td><td>1</td></tr>\n",
       "\t<tr><td>US</td><td>domaincontrol.com</td><td> 184</td><td> 3</td><td>FALSE</td><td>0.3660713</td><td>1</td></tr>\n",
       "\t<tr><td>US</td><td>domaincontrol.com</td><td>  39</td><td> 3</td><td>FALSE</td><td>0.3649805</td><td>1</td></tr>\n",
       "\t<tr><td>US</td><td>domaincontrol.com</td><td>  76</td><td> 3</td><td>FALSE</td><td>0.3611847</td><td>1</td></tr>\n",
       "\t<tr><td>CN</td><td>cloudflare.com   </td><td> 103</td><td> 5</td><td> TRUE</td><td>0.3573953</td><td>0</td></tr>\n",
       "</tbody>\n",
       "</table>\n"
      ],
      "text/latex": [
       "A tibble: 100 × 7\n",
       "\\begin{tabular}{lllllll}\n",
       " country & nameserver & day\\_domains & ecommercequality & ssl & estimate & target\\\\\n",
       " <chr> & <chr> & <int> & <dbl> & <lgl> & <dbl> & <fct>\\\\\n",
       "\\hline\n",
       "\t MY & cloudflare.com & 440 & 27 & TRUE & 0.8086971 & 1\\\\\n",
       "\t MY & cloudflare.com & 440 & 27 & TRUE & 0.8061257 & 1\\\\\n",
       "\t MY & cloudflare.com & 440 & 27 & TRUE & 0.7996474 & 1\\\\\n",
       "\t MY & cloudflare.com & 440 & 27 & TRUE & 0.7961257 & 1\\\\\n",
       "\t MY & cloudflare.com & 440 & 27 & TRUE & 0.7961257 & 1\\\\\n",
       "\t MY & cloudflare.com & 440 & 27 & TRUE & 0.7958757 & 1\\\\\n",
       "\t MY & cloudflare.com & 440 & 27 & TRUE & 0.7958757 & 1\\\\\n",
       "\t MY & cloudflare.com & 440 & 27 & TRUE & 0.7958315 & 1\\\\\n",
       "\t MY & cloudflare.com & 440 & 27 & TRUE & 0.7958315 & 1\\\\\n",
       "\t MY & cloudflare.com & 440 & 27 & TRUE & 0.7955815 & 1\\\\\n",
       "\t MY & cloudflare.com & 440 & 27 & TRUE & 0.7955815 & 1\\\\\n",
       "\t MY & cloudflare.com & 440 & 27 & TRUE & 0.7955815 & 1\\\\\n",
       "\t MY & cloudflare.com & 440 & 27 & TRUE & 0.7955815 & 1\\\\\n",
       "\t MY & cloudflare.com & 440 & 27 & TRUE & 0.7955815 & 1\\\\\n",
       "\t MY & cloudflare.com & 440 & 27 & TRUE & 0.7955815 & 1\\\\\n",
       "\t MY & cloudflare.com & 440 & 27 & TRUE & 0.7955815 & 1\\\\\n",
       "\t MY & cloudflare.com & 440 & 27 & TRUE & 0.7955815 & 1\\\\\n",
       "\t MY & cloudflare.com & 440 & 27 & TRUE & 0.7811303 & 1\\\\\n",
       "\t MY & cloudflare.com & 440 & 27 & TRUE & 0.7733572 & 1\\\\\n",
       "\t MY & cloudflare.com & 440 & 27 & TRUE & 0.7664633 & 1\\\\\n",
       "\t MY & cloudflare.com & 440 & 27 & TRUE & 0.7625735 & 1\\\\\n",
       "\t MY & cloudflare.com & 440 & 27 & TRUE & 0.7571655 & 1\\\\\n",
       "\t MY & cloudflare.com & 440 & 27 & TRUE & 0.7544428 & 1\\\\\n",
       "\t MY & cloudflare.com & 440 & 27 & TRUE & 0.7544428 & 1\\\\\n",
       "\t MY & cloudflare.com & 440 & 27 & TRUE & 0.7544428 & 1\\\\\n",
       "\t MY & cloudflare.com & 440 & 27 & TRUE & 0.7467575 & 1\\\\\n",
       "\t MY & cloudflare.com & 440 & 27 & TRUE & 0.7452708 & 1\\\\\n",
       "\t MY & cloudflare.com & 440 & 27 & TRUE & 0.7452708 & 1\\\\\n",
       "\t MY & cloudflare.com & 440 & 27 & TRUE & 0.7375855 & 1\\\\\n",
       "\t MY & cloudflare.com & 440 & 27 & TRUE & 0.7374598 & 1\\\\\n",
       "\t ⋮ & ⋮ & ⋮ & ⋮ & ⋮ & ⋮ & ⋮\\\\\n",
       "\t US & domaincontrol.com &  433 &  3 & FALSE & 0.4379739 & 1\\\\\n",
       "\t US & domaincontrol.com &  365 &  3 & FALSE & 0.4326526 & 1\\\\\n",
       "\t US & domaincontrol.com &  176 &  3 & FALSE & 0.4284998 & 1\\\\\n",
       "\t US & domaincontrol.com &  235 &  3 & FALSE & 0.4284444 & 0\\\\\n",
       "\t US & domaincontrol.com &  202 &  3 & FALSE & 0.4252231 & 0\\\\\n",
       "\t US & domaincontrol.com &  175 &  3 & FALSE & 0.4246062 & 0\\\\\n",
       "\t US & domaincontrol.com &   46 &  3 & FALSE & 0.4241516 & 0\\\\\n",
       "\t US & domaincontrol.com &  132 &  3 & FALSE & 0.4198834 & 1\\\\\n",
       "\t US & domaincontrol.com &  195 &  3 & FALSE & 0.4194810 & 1\\\\\n",
       "\t US & domaincontrol.com &   94 &  3 & FALSE & 0.4132899 & 1\\\\\n",
       "\t US & domaincontrol.com &   53 &  3 & FALSE & 0.4117366 & 1\\\\\n",
       "\t US & domaincontrol.com &  454 &  3 & FALSE & 0.4080189 & 1\\\\\n",
       "\t US & domaincontrol.com &   49 &  3 & FALSE & 0.4059954 & 1\\\\\n",
       "\t US & domaincontrol.com &  235 &  3 & FALSE & 0.4053361 & 1\\\\\n",
       "\t TR & domaincontrol.com &  175 & 27 & FALSE & 0.3980635 & 0\\\\\n",
       "\t US & domaincontrol.com &   78 &  3 & FALSE & 0.3975389 & 1\\\\\n",
       "\t US & domaincontrol.com &   40 &  3 & FALSE & 0.3962544 & 1\\\\\n",
       "\t MY & domaincontrol.com &   40 & 27 & FALSE & 0.3928749 & 0\\\\\n",
       "\t US & domaincontrol.com &  185 &  3 & FALSE & 0.3925351 & 1\\\\\n",
       "\t US & domaincontrol.com &   47 &  3 & FALSE & 0.3903562 & 0\\\\\n",
       "\t US & domaincontrol.com &   26 &  3 & FALSE & 0.3892074 & 0\\\\\n",
       "\t BR & cloudflare.com    &   55 &  2 &  TRUE & 0.3821964 & 1\\\\\n",
       "\t US & domaincontrol.com &  454 &  3 & FALSE & 0.3813065 & 1\\\\\n",
       "\t US & domaincontrol.com &   32 &  3 & FALSE & 0.3725136 & 0\\\\\n",
       "\t MX & domaincontrol.com & 1370 & 27 &  TRUE & 0.3704654 & 0\\\\\n",
       "\t UK & domaincontrol.com &   94 &  2 & FALSE & 0.3687047 & 1\\\\\n",
       "\t US & domaincontrol.com &  184 &  3 & FALSE & 0.3660713 & 1\\\\\n",
       "\t US & domaincontrol.com &   39 &  3 & FALSE & 0.3649805 & 1\\\\\n",
       "\t US & domaincontrol.com &   76 &  3 & FALSE & 0.3611847 & 1\\\\\n",
       "\t CN & cloudflare.com    &  103 &  5 &  TRUE & 0.3573953 & 0\\\\\n",
       "\\end{tabular}\n"
      ],
      "text/markdown": [
       "\n",
       "A tibble: 100 × 7\n",
       "\n",
       "| country &lt;chr&gt; | nameserver &lt;chr&gt; | day_domains &lt;int&gt; | ecommercequality &lt;dbl&gt; | ssl &lt;lgl&gt; | estimate &lt;dbl&gt; | target &lt;fct&gt; |\n",
       "|---|---|---|---|---|---|---|\n",
       "| MY | cloudflare.com | 440 | 27 | TRUE | 0.8086971 | 1 |\n",
       "| MY | cloudflare.com | 440 | 27 | TRUE | 0.8061257 | 1 |\n",
       "| MY | cloudflare.com | 440 | 27 | TRUE | 0.7996474 | 1 |\n",
       "| MY | cloudflare.com | 440 | 27 | TRUE | 0.7961257 | 1 |\n",
       "| MY | cloudflare.com | 440 | 27 | TRUE | 0.7961257 | 1 |\n",
       "| MY | cloudflare.com | 440 | 27 | TRUE | 0.7958757 | 1 |\n",
       "| MY | cloudflare.com | 440 | 27 | TRUE | 0.7958757 | 1 |\n",
       "| MY | cloudflare.com | 440 | 27 | TRUE | 0.7958315 | 1 |\n",
       "| MY | cloudflare.com | 440 | 27 | TRUE | 0.7958315 | 1 |\n",
       "| MY | cloudflare.com | 440 | 27 | TRUE | 0.7955815 | 1 |\n",
       "| MY | cloudflare.com | 440 | 27 | TRUE | 0.7955815 | 1 |\n",
       "| MY | cloudflare.com | 440 | 27 | TRUE | 0.7955815 | 1 |\n",
       "| MY | cloudflare.com | 440 | 27 | TRUE | 0.7955815 | 1 |\n",
       "| MY | cloudflare.com | 440 | 27 | TRUE | 0.7955815 | 1 |\n",
       "| MY | cloudflare.com | 440 | 27 | TRUE | 0.7955815 | 1 |\n",
       "| MY | cloudflare.com | 440 | 27 | TRUE | 0.7955815 | 1 |\n",
       "| MY | cloudflare.com | 440 | 27 | TRUE | 0.7955815 | 1 |\n",
       "| MY | cloudflare.com | 440 | 27 | TRUE | 0.7811303 | 1 |\n",
       "| MY | cloudflare.com | 440 | 27 | TRUE | 0.7733572 | 1 |\n",
       "| MY | cloudflare.com | 440 | 27 | TRUE | 0.7664633 | 1 |\n",
       "| MY | cloudflare.com | 440 | 27 | TRUE | 0.7625735 | 1 |\n",
       "| MY | cloudflare.com | 440 | 27 | TRUE | 0.7571655 | 1 |\n",
       "| MY | cloudflare.com | 440 | 27 | TRUE | 0.7544428 | 1 |\n",
       "| MY | cloudflare.com | 440 | 27 | TRUE | 0.7544428 | 1 |\n",
       "| MY | cloudflare.com | 440 | 27 | TRUE | 0.7544428 | 1 |\n",
       "| MY | cloudflare.com | 440 | 27 | TRUE | 0.7467575 | 1 |\n",
       "| MY | cloudflare.com | 440 | 27 | TRUE | 0.7452708 | 1 |\n",
       "| MY | cloudflare.com | 440 | 27 | TRUE | 0.7452708 | 1 |\n",
       "| MY | cloudflare.com | 440 | 27 | TRUE | 0.7375855 | 1 |\n",
       "| MY | cloudflare.com | 440 | 27 | TRUE | 0.7374598 | 1 |\n",
       "| ⋮ | ⋮ | ⋮ | ⋮ | ⋮ | ⋮ | ⋮ |\n",
       "| US | domaincontrol.com |  433 |  3 | FALSE | 0.4379739 | 1 |\n",
       "| US | domaincontrol.com |  365 |  3 | FALSE | 0.4326526 | 1 |\n",
       "| US | domaincontrol.com |  176 |  3 | FALSE | 0.4284998 | 1 |\n",
       "| US | domaincontrol.com |  235 |  3 | FALSE | 0.4284444 | 0 |\n",
       "| US | domaincontrol.com |  202 |  3 | FALSE | 0.4252231 | 0 |\n",
       "| US | domaincontrol.com |  175 |  3 | FALSE | 0.4246062 | 0 |\n",
       "| US | domaincontrol.com |   46 |  3 | FALSE | 0.4241516 | 0 |\n",
       "| US | domaincontrol.com |  132 |  3 | FALSE | 0.4198834 | 1 |\n",
       "| US | domaincontrol.com |  195 |  3 | FALSE | 0.4194810 | 1 |\n",
       "| US | domaincontrol.com |   94 |  3 | FALSE | 0.4132899 | 1 |\n",
       "| US | domaincontrol.com |   53 |  3 | FALSE | 0.4117366 | 1 |\n",
       "| US | domaincontrol.com |  454 |  3 | FALSE | 0.4080189 | 1 |\n",
       "| US | domaincontrol.com |   49 |  3 | FALSE | 0.4059954 | 1 |\n",
       "| US | domaincontrol.com |  235 |  3 | FALSE | 0.4053361 | 1 |\n",
       "| TR | domaincontrol.com |  175 | 27 | FALSE | 0.3980635 | 0 |\n",
       "| US | domaincontrol.com |   78 |  3 | FALSE | 0.3975389 | 1 |\n",
       "| US | domaincontrol.com |   40 |  3 | FALSE | 0.3962544 | 1 |\n",
       "| MY | domaincontrol.com |   40 | 27 | FALSE | 0.3928749 | 0 |\n",
       "| US | domaincontrol.com |  185 |  3 | FALSE | 0.3925351 | 1 |\n",
       "| US | domaincontrol.com |   47 |  3 | FALSE | 0.3903562 | 0 |\n",
       "| US | domaincontrol.com |   26 |  3 | FALSE | 0.3892074 | 0 |\n",
       "| BR | cloudflare.com    |   55 |  2 |  TRUE | 0.3821964 | 1 |\n",
       "| US | domaincontrol.com |  454 |  3 | FALSE | 0.3813065 | 1 |\n",
       "| US | domaincontrol.com |   32 |  3 | FALSE | 0.3725136 | 0 |\n",
       "| MX | domaincontrol.com | 1370 | 27 |  TRUE | 0.3704654 | 0 |\n",
       "| UK | domaincontrol.com |   94 |  2 | FALSE | 0.3687047 | 1 |\n",
       "| US | domaincontrol.com |  184 |  3 | FALSE | 0.3660713 | 1 |\n",
       "| US | domaincontrol.com |   39 |  3 | FALSE | 0.3649805 | 1 |\n",
       "| US | domaincontrol.com |   76 |  3 | FALSE | 0.3611847 | 1 |\n",
       "| CN | cloudflare.com    |  103 |  5 |  TRUE | 0.3573953 | 0 |\n",
       "\n"
      ],
      "text/plain": [
       "    country nameserver        day_domains ecommercequality ssl   estimate \n",
       "1   MY      cloudflare.com    440         27               TRUE  0.8086971\n",
       "2   MY      cloudflare.com    440         27               TRUE  0.8061257\n",
       "3   MY      cloudflare.com    440         27               TRUE  0.7996474\n",
       "4   MY      cloudflare.com    440         27               TRUE  0.7961257\n",
       "5   MY      cloudflare.com    440         27               TRUE  0.7961257\n",
       "6   MY      cloudflare.com    440         27               TRUE  0.7958757\n",
       "7   MY      cloudflare.com    440         27               TRUE  0.7958757\n",
       "8   MY      cloudflare.com    440         27               TRUE  0.7958315\n",
       "9   MY      cloudflare.com    440         27               TRUE  0.7958315\n",
       "10  MY      cloudflare.com    440         27               TRUE  0.7955815\n",
       "11  MY      cloudflare.com    440         27               TRUE  0.7955815\n",
       "12  MY      cloudflare.com    440         27               TRUE  0.7955815\n",
       "13  MY      cloudflare.com    440         27               TRUE  0.7955815\n",
       "14  MY      cloudflare.com    440         27               TRUE  0.7955815\n",
       "15  MY      cloudflare.com    440         27               TRUE  0.7955815\n",
       "16  MY      cloudflare.com    440         27               TRUE  0.7955815\n",
       "17  MY      cloudflare.com    440         27               TRUE  0.7955815\n",
       "18  MY      cloudflare.com    440         27               TRUE  0.7811303\n",
       "19  MY      cloudflare.com    440         27               TRUE  0.7733572\n",
       "20  MY      cloudflare.com    440         27               TRUE  0.7664633\n",
       "21  MY      cloudflare.com    440         27               TRUE  0.7625735\n",
       "22  MY      cloudflare.com    440         27               TRUE  0.7571655\n",
       "23  MY      cloudflare.com    440         27               TRUE  0.7544428\n",
       "24  MY      cloudflare.com    440         27               TRUE  0.7544428\n",
       "25  MY      cloudflare.com    440         27               TRUE  0.7544428\n",
       "26  MY      cloudflare.com    440         27               TRUE  0.7467575\n",
       "27  MY      cloudflare.com    440         27               TRUE  0.7452708\n",
       "28  MY      cloudflare.com    440         27               TRUE  0.7452708\n",
       "29  MY      cloudflare.com    440         27               TRUE  0.7375855\n",
       "30  MY      cloudflare.com    440         27               TRUE  0.7374598\n",
       "⋮   ⋮       ⋮                 ⋮           ⋮                ⋮     ⋮        \n",
       "71  US      domaincontrol.com  433         3               FALSE 0.4379739\n",
       "72  US      domaincontrol.com  365         3               FALSE 0.4326526\n",
       "73  US      domaincontrol.com  176         3               FALSE 0.4284998\n",
       "74  US      domaincontrol.com  235         3               FALSE 0.4284444\n",
       "75  US      domaincontrol.com  202         3               FALSE 0.4252231\n",
       "76  US      domaincontrol.com  175         3               FALSE 0.4246062\n",
       "77  US      domaincontrol.com   46         3               FALSE 0.4241516\n",
       "78  US      domaincontrol.com  132         3               FALSE 0.4198834\n",
       "79  US      domaincontrol.com  195         3               FALSE 0.4194810\n",
       "80  US      domaincontrol.com   94         3               FALSE 0.4132899\n",
       "81  US      domaincontrol.com   53         3               FALSE 0.4117366\n",
       "82  US      domaincontrol.com  454         3               FALSE 0.4080189\n",
       "83  US      domaincontrol.com   49         3               FALSE 0.4059954\n",
       "84  US      domaincontrol.com  235         3               FALSE 0.4053361\n",
       "85  TR      domaincontrol.com  175        27               FALSE 0.3980635\n",
       "86  US      domaincontrol.com   78         3               FALSE 0.3975389\n",
       "87  US      domaincontrol.com   40         3               FALSE 0.3962544\n",
       "88  MY      domaincontrol.com   40        27               FALSE 0.3928749\n",
       "89  US      domaincontrol.com  185         3               FALSE 0.3925351\n",
       "90  US      domaincontrol.com   47         3               FALSE 0.3903562\n",
       "91  US      domaincontrol.com   26         3               FALSE 0.3892074\n",
       "92  BR      cloudflare.com      55         2                TRUE 0.3821964\n",
       "93  US      domaincontrol.com  454         3               FALSE 0.3813065\n",
       "94  US      domaincontrol.com   32         3               FALSE 0.3725136\n",
       "95  MX      domaincontrol.com 1370        27                TRUE 0.3704654\n",
       "96  UK      domaincontrol.com   94         2               FALSE 0.3687047\n",
       "97  US      domaincontrol.com  184         3               FALSE 0.3660713\n",
       "98  US      domaincontrol.com   39         3               FALSE 0.3649805\n",
       "99  US      domaincontrol.com   76         3               FALSE 0.3611847\n",
       "100 CN      cloudflare.com     103         5                TRUE 0.3573953\n",
       "    target\n",
       "1   1     \n",
       "2   1     \n",
       "3   1     \n",
       "4   1     \n",
       "5   1     \n",
       "6   1     \n",
       "7   1     \n",
       "8   1     \n",
       "9   1     \n",
       "10  1     \n",
       "11  1     \n",
       "12  1     \n",
       "13  1     \n",
       "14  1     \n",
       "15  1     \n",
       "16  1     \n",
       "17  1     \n",
       "18  1     \n",
       "19  1     \n",
       "20  1     \n",
       "21  1     \n",
       "22  1     \n",
       "23  1     \n",
       "24  1     \n",
       "25  1     \n",
       "26  1     \n",
       "27  1     \n",
       "28  1     \n",
       "29  1     \n",
       "30  1     \n",
       "⋮   ⋮     \n",
       "71  1     \n",
       "72  1     \n",
       "73  1     \n",
       "74  0     \n",
       "75  0     \n",
       "76  0     \n",
       "77  0     \n",
       "78  1     \n",
       "79  1     \n",
       "80  1     \n",
       "81  1     \n",
       "82  1     \n",
       "83  1     \n",
       "84  1     \n",
       "85  0     \n",
       "86  1     \n",
       "87  1     \n",
       "88  0     \n",
       "89  1     \n",
       "90  0     \n",
       "91  0     \n",
       "92  1     \n",
       "93  1     \n",
       "94  0     \n",
       "95  0     \n",
       "96  1     \n",
       "97  1     \n",
       "98  1     \n",
       "99  1     \n",
       "100 0     "
      ]
     },
     "metadata": {},
     "output_type": "display_data"
    }
   ],
   "source": [
    "imp_vars <- c(\"country\", \"nameserver\", \"day_domains\", \"ecommercequality\", \"ssl\")\n",
    "test %>% arrange(desc(estimate)) %>% select(country,nameserver,day_domains,ecommercequality,ssl,estimate, target) %>% head(100)"
   ]
  },
  {
   "cell_type": "code",
   "execution_count": 36,
   "id": "9d5f3e62",
   "metadata": {},
   "outputs": [],
   "source": [
    "library(ppsr)"
   ]
  },
  {
   "cell_type": "code",
   "execution_count": 48,
   "id": "2d6d3f85",
   "metadata": {},
   "outputs": [],
   "source": [
    "usevars <- c('pattern_domain_count','sld_length','gibb_score','sld_type','day_domains','reg_period',\n",
    "             'response','websitetype','economy_footprint','online','ecommerce','ecommercequality','country',\n",
    "              'nameserver','renewalprobability','siccode','sicdivision','sicmajorgroup',\n",
    "              'ssl','renewed_count', 'target')\n",
    "rem <- c('hosting_country', 'mxdomain')"
   ]
  },
  {
   "cell_type": "code",
   "execution_count": null,
   "id": "b495475f",
   "metadata": {},
   "outputs": [],
   "source": [
    "score_df(df[,usevars], cv_folds=1)"
   ]
  },
  {
   "cell_type": "code",
   "execution_count": 38,
   "id": "b54a0308",
   "metadata": {},
   "outputs": [
    {
     "data": {
      "image/png": "[encoded data removed]",
      "text/plain": [
       "plot without title"
      ]
     },
     "metadata": {
      "image/png": {
       "height": 720,
       "width": 720
      }
     },
     "output_type": "display_data"
    }
   ],
   "source": [
    "g <- df %>% select(any_of(c(radix_vars, 'target'))) %>% visualize_pps(do_parallel = TRUE, color_text=\"red\")\n",
    "\n",
    "g + theme(axis.text.x = element_text(angle = 45, hjust = 1))"
   ]
  },
  {
   "cell_type": "code",
   "execution_count": 39,
   "id": "facc6a31",
   "metadata": {},
   "outputs": [],
   "source": [
    "g <- df %>% select(any_of(c(dp_vars, 'target'))) %>% visualize_pps(do_parallel = TRUE, color_text=\"red\")\n",
    "\n",
    "g + theme(axis.text.x = element_text(angle = 45, hjust = 1))"
   ]
  },
  {
   "cell_type": "code",
   "execution_count": 37,
   "id": "61ed01b6",
   "metadata": {},
   "outputs": [
    {
     "data": {
      "text/plain": [
       "\n",
       " hyphen-l hyphen-ln       idn         l        ln         n \n",
       "     1434       207       145     27314     10993      3535 "
      ]
     },
     "metadata": {},
     "output_type": "display_data"
    }
   ],
   "source": [
    "table(df$sld_type)"
   ]
  },
  {
   "cell_type": "markdown",
   "id": "7f0273e0",
   "metadata": {},
   "source": [
    "## EDA Pipeline for all tld-resellers"
   ]
  },
  {
   "cell_type": "code",
   "execution_count": 43,
   "id": "a3d7403c",
   "metadata": {},
   "outputs": [],
   "source": [
    "eda_pipeline <- function(df, tld, registrar, verbose=1) {\n",
    "    # Subset data\n",
    "    mask <- (df$tld == tld) & (df$registrar == registrar)\n",
    "    mask[is.na(mask)] = FALSE\n",
    "    df = df[mask, ]\n",
    "    \n",
    "    # Create target variable\n",
    "    df[,'target'] <- as.integer(df[, \"renewal_status\"] == \"Renewed\")\n",
    "    prev <- mean(df$target)\n",
    "    \n",
    "    # Plot missing data relationships to response\n",
    "    gg_miss_fct(df[, c(radix_vars, dp_vars, unknown_vars)], response)\n",
    "\n",
    "    # Subset to available data\n",
    "    mask <- df$response == \"Available\"\n",
    "    mask[is.na(mask)] = FALSE\n",
    "    pct_avail <- mean(as.integer(mask))\n",
    "    avail <- df[mask,]\n",
    "    non_avail <- df[!mask,]\n",
    "    \n",
    "    # Select variables with less than 5% missing\n",
    "    miss_sum <- miss_var_summary(avail[,c(radix_vars, dp_vars, unknown_vars)])\n",
    "    thresh = 5\n",
    "    avail_vars <- miss_sum %>% filter(pct_miss < thresh) %>% pull(variable)\n",
    "    avail_vars <- c(avail_vars, \"expiry_date\", \"target\")\n",
    "    \n",
    "    miss_sum <- miss_var_summary(non_avail[,c(radix_vars, dp_vars, unknown_vars)])\n",
    "    non_avail_vars <- miss_sum %>% filter(pct_miss < thresh) %>% pull(variable)\n",
    "    non_avail_vars <- c(non_avail_vars, \"expiry_date\", \"target\")\n",
    "    \n",
    "    # Subset to rows where no variables missing\n",
    "    keep_mask <- rowSums(is.na(avail[,avail_vars])) == 0\n",
    "    avail = avail[keep_mask, avail_vars]\n",
    "    keep_mask <- rowSums(is.na(non_avail[,non_avail_vars])) == 0\n",
    "    non_avail = non_avail[keep_mask, non_avail_vars]\n",
    "\n",
    "    \n",
    "    # Get new prevalences\n",
    "    prev_avail <- mean(avail$target)\n",
    "    prev_non_avail <- mean(non_avail$target)\n",
    "    \n",
    "    if (verbose > 0) {\n",
    "        cat(paste0(round(100 * prev, 1), \"% of domains renewed\\n\"))\n",
    "        cat(paste0(round(100 * pct_avail, 1), \"% of responses available\\n\"))\n",
    "        print(paste0(\"Kept \", round(100 * mean(keep_mask), 1), \"% of the Available records\"))\n",
    "        print(paste0(\"Kept \", round(100 * mean(keep_mask), 1), \"% of the Non-Available records\"))    \n",
    "        cat(paste0(round(100 * prev_avail, 1), \"% of Available domains renewed\\n\"))\n",
    "        cat(paste0(round(100 * prev_non_avail, 1), \"% of Non Available domains renewed\\n\"))\n",
    "    }\n",
    "    \n",
    "    # Split train test on time\n",
    "    train_size = 0.75\n",
    "    avail_date <- avail %>% arrange(expiry_date) %>% slice(round(0.75 * nrow(avail))) %>% pull(expiry_date)\n",
    "    non_avail_date <- non_avail %>% arrange(expiry_date) %>% slice(round(0.75 * nrow(non_avail))) %>% pull(expiry_date)\n",
    "    avail_train_mask <- avail$expiry_date <= avail_date\n",
    "    non_avail_train_mask <- non_avail$expiry_date <= non_avail_date\n",
    "    train_avail <- avail[avail_train_mask, ] %>% select(-expiry_date)\n",
    "    test_avail <- avail[!avail_train_mask, ] %>% select(-expiry_date)\n",
    "    train_non_avail <- non_avail[non_avail_train_mask, ] %>% select(-expiry_date)\n",
    "    test_non_avail <- non_avail[!non_avail_train_mask, ] %>% select(-expiry_date)\n",
    "\n",
    "    # Train and test Avaiable model\n",
    "    set.seed(100)\n",
    "    rf <- ranger(target ~ ., data = train_avail, num.trees = 50, importance = \"permutation\", max.depth = 5)\n",
    "    pred <- predict(rf, test_avail)\n",
    "    test_avail$est <- pred$predictions\n",
    "    test_avail$target <- as.factor(test_avail$target)\n",
    "    ap <- test_avail %>% average_precision(truth = target, est, event_level = \"second\") %>% pull(.estimate)\n",
    "    auc <- test_avail %>% roc_auc(truth = target, est, event_level = \"second\") %>% pull(.estimate)\n",
    "    gini <- test_avail %>% gain_capture(truth = target, est, event_level = \"second\") %>% pull(.estimate)\n",
    "\n",
    "    # Train and test Non Avaiable model\n",
    "    set.seed(100)\n",
    "    rf_non <- ranger(target ~ ., data = train_non_avail, num.trees = 50, importance = \"permutation\", max.depth = 5)\n",
    "    pred <- predict(rf_non, test_non_avail)\n",
    "    test_non_avail$est <- pred$predictions\n",
    "    test_non_avail$target <- as.factor(test_non_avail$target)\n",
    "    ap_non <- test_non_avail %>% average_precision(truth = target, est, event_level = \"second\") %>% pull(.estimate)\n",
    "    auc_non <- test_non_avail %>% roc_auc(truth = target, est, event_level = \"second\") %>% pull(.estimate)\n",
    "    gini_non <- test_non_avail %>% gain_capture(truth = target, est, event_level = \"second\") %>% pull(.estimate)\n",
    "    \n",
    "    if (verbose > 0) {\n",
    "        cat(paste0(\"Available Average Precision: \", round(ap, 3), \"\\n\"))\n",
    "        cat(paste0(\"Available AUC: \", round(auc, 3), \"\\n\"))\n",
    "        cat(paste0(\"Available Gini: \", round(gini, 3), \"\\n\"))\n",
    "        cat(paste0(\"Non Available Average Precision: \", round(ap_non, 3), \"\\n\"))\n",
    "        cat(paste0(\"Non Available AUC: \", round(auc_non, 3), \"\\n\"))\n",
    "        cat(paste0(\"Non Available Gini: \", round(gini_non, 3), \"\\n\"))\n",
    "\n",
    "        # Plot avail Variable importances-- credit: https://stackoverflow.com/a/56306139\n",
    "        df1 <- data.frame(imp = rf$variable.importance)\n",
    "        df2 <- df1 %>% \n",
    "          tibble::rownames_to_column() %>% \n",
    "          dplyr::rename(\"variable\" = rowname) %>% \n",
    "          dplyr::arrange(imp) %>%\n",
    "          dplyr::mutate(variable = forcats::fct_inorder(variable))\n",
    "        g <- ggplot2::ggplot(df2) +\n",
    "          geom_col(aes(x = variable, y = imp),\n",
    "                   col = \"black\", show.legend = F) +\n",
    "          coord_flip() +\n",
    "          scale_fill_grey() +\n",
    "          theme_bw()\n",
    "        plot(g)\n",
    "        \n",
    "        # Plot non avail Variable importances-- credit: https://stackoverflow.com/a/56306139\n",
    "        df1 <- data.frame(imp = rf_non$variable.importance)\n",
    "        df2 <- df1 %>% \n",
    "          tibble::rownames_to_column() %>% \n",
    "          dplyr::rename(\"variable\" = rowname) %>% \n",
    "          dplyr::arrange(imp) %>%\n",
    "          dplyr::mutate(variable = forcats::fct_inorder(variable))\n",
    "        g <- ggplot2::ggplot(df2) +\n",
    "          geom_col(aes(x = variable, y = imp),\n",
    "                   col = \"black\", show.legend = F) +\n",
    "          coord_flip() +\n",
    "          scale_fill_grey() +\n",
    "          theme_bw() \n",
    "        plot(g)\n",
    "    }\n",
    "\n",
    "    \n",
    "    # Create response list\n",
    "    list(rf_avail=rf, rf_non_avail=rf_non, prev=prev, pct_avail=pct_avail, ap_avail=ap, auc_avail=auc, gini_avail=gini, ap_non_avail=ap_non, \n",
    "         auc_non_avail=auc_non, gini_non_avail=gini_non, rf_avail_imp=rf$variable.importance, rf_non_avail_imp=rf_non$variable.importance)\n",
    "\n",
    "}"
   ]
  },
  {
   "cell_type": "code",
   "execution_count": 63,
   "id": "1ca0f275",
   "metadata": {},
   "outputs": [
    {
     "data": {
      "text/plain": [
       "         \n",
       "          Go Daddy Namecheap\n",
       "  fun         2.55      7.54\n",
       "  host        0.40     20.72\n",
       "  in.net      0.00      0.03\n",
       "  online     16.51     28.93\n",
       "  press       0.17      1.45\n",
       "  pw          2.48     34.53\n",
       "  site       21.53     26.51\n",
       "  space       7.72     17.93\n",
       "  store       8.48      3.14\n",
       "  tech        1.71      4.52\n",
       "  website     5.90     11.27"
      ]
     },
     "metadata": {},
     "output_type": "display_data"
    }
   ],
   "source": [
    "big_reg <- df$registrar %in% c(\"Go Daddy\", \"Namecheap\")\n",
    "big_reg[is.na(big_reg)] <- F\n",
    "tab <- table(df[big_reg,]$tld, df[big_reg,]$registrar)\n",
    "round(100 * tab / colSums(tab), 2)\n"
   ]
  },
  {
   "cell_type": "code",
   "execution_count": 48,
   "id": "222c6674",
   "metadata": {},
   "outputs": [
    {
     "data": {
      "text/html": [
       "<table class=\"dataframe\">\n",
       "<caption>A data.frame: 16 × 7</caption>\n",
       "<thead>\n",
       "\t<tr><th scope=col>rowname</th><th scope=col>site</th><th scope=col>online</th><th scope=col>website</th><th scope=col>space</th><th scope=col>store</th><th scope=col>tech</th></tr>\n",
       "\t<tr><th scope=col>&lt;chr&gt;</th><th scope=col>&lt;dbl&gt;</th><th scope=col>&lt;dbl&gt;</th><th scope=col>&lt;dbl&gt;</th><th scope=col>&lt;dbl&gt;</th><th scope=col>&lt;dbl&gt;</th><th scope=col>&lt;dbl&gt;</th></tr>\n",
       "</thead>\n",
       "<tbody>\n",
       "\t<tr><td>nameserver          </td><td> 1.050818e-02</td><td> 1.264701e-03</td><td> 0.0007618826</td><td>6.382216e-03</td><td>0.0001760400</td><td>8.862718e-04</td></tr>\n",
       "\t<tr><td>country             </td><td> 1.439716e-02</td><td> 4.977483e-03</td><td> 0.0200547161</td><td>2.209286e-02</td><td>0.0083823618</td><td>4.974255e-03</td></tr>\n",
       "\t<tr><td>hosting_country     </td><td> 6.875485e-04</td><td> 1.516706e-04</td><td> 0.0036383367</td><td>1.902318e-03</td><td>0.0009965984</td><td>5.812142e-04</td></tr>\n",
       "\t<tr><td>pattern_domain_count</td><td> 1.524442e-03</td><td> 1.034094e-03</td><td> 0.0052096737</td><td>1.117632e-03</td><td>0.0006705290</td><td>3.534522e-04</td></tr>\n",
       "\t<tr><td>sld_length          </td><td> 5.288591e-03</td><td> 4.472623e-04</td><td> 0.0021456049</td><td>8.936139e-04</td><td>0.0001511549</td><td>2.613805e-04</td></tr>\n",
       "\t<tr><td>gibb_score          </td><td> 1.437978e-03</td><td> 2.878378e-04</td><td> 0.0004275175</td><td>1.639027e-03</td><td>0.0001588271</td><td>1.138672e-03</td></tr>\n",
       "\t<tr><td>sld_type            </td><td> 5.187110e-04</td><td> 7.250226e-04</td><td> 0.0008700443</td><td>3.165603e-03</td><td>0.0001346794</td><td>1.720771e-05</td></tr>\n",
       "\t<tr><td>day_domains         </td><td> 9.658541e-03</td><td> 2.078631e-03</td><td> 0.0085341593</td><td>1.041224e-02</td><td>0.0015211170</td><td>6.486481e-04</td></tr>\n",
       "\t<tr><td>reg_period          </td><td> 3.378353e-03</td><td> 9.064972e-03</td><td> 0.0023361649</td><td>1.620680e-03</td><td>0.0063447700</td><td>2.168244e-03</td></tr>\n",
       "\t<tr><td>response            </td><td> 0.000000e+00</td><td> 0.000000e+00</td><td> 0.0000000000</td><td>0.000000e+00</td><td>0.0000000000</td><td>0.000000e+00</td></tr>\n",
       "\t<tr><td>websitetype         </td><td> 1.336780e-03</td><td> 3.186433e-04</td><td> 0.0033112638</td><td>8.318260e-03</td><td>0.0014426776</td><td>2.190911e-03</td></tr>\n",
       "\t<tr><td>economy_footprint   </td><td> 5.667043e-03</td><td> 5.242574e-04</td><td> 0.0066111920</td><td>2.906896e-03</td><td>0.0033739225</td><td>3.051604e-03</td></tr>\n",
       "\t<tr><td>ecommerce           </td><td>-8.161770e-09</td><td>-3.629791e-06</td><td>-0.0000303521</td><td>3.044891e-07</td><td>0.0010896538</td><td>2.102657e-05</td></tr>\n",
       "\t<tr><td>ecommercequality    </td><td> 5.961741e-03</td><td> 6.820632e-03</td><td> 0.0089336594</td><td>5.802634e-03</td><td>0.0059366175</td><td>3.552601e-03</td></tr>\n",
       "\t<tr><td>ssl                 </td><td> 1.005892e-02</td><td> 2.053828e-04</td><td> 0.0002084462</td><td>4.569029e-03</td><td>0.0027846100</td><td>2.903697e-03</td></tr>\n",
       "\t<tr><td>renewed_count       </td><td> 0.000000e+00</td><td> 0.000000e+00</td><td> 0.0000000000</td><td>0.000000e+00</td><td>0.0000000000</td><td>0.000000e+00</td></tr>\n",
       "</tbody>\n",
       "</table>\n"
      ],
      "text/latex": [
       "A data.frame: 16 × 7\n",
       "\\begin{tabular}{lllllll}\n",
       " rowname & site & online & website & space & store & tech\\\\\n",
       " <chr> & <dbl> & <dbl> & <dbl> & <dbl> & <dbl> & <dbl>\\\\\n",
       "\\hline\n",
       "\t nameserver           &  1.050818e-02 &  1.264701e-03 &  0.0007618826 & 6.382216e-03 & 0.0001760400 & 8.862718e-04\\\\\n",
       "\t country              &  1.439716e-02 &  4.977483e-03 &  0.0200547161 & 2.209286e-02 & 0.0083823618 & 4.974255e-03\\\\\n",
       "\t hosting\\_country      &  6.875485e-04 &  1.516706e-04 &  0.0036383367 & 1.902318e-03 & 0.0009965984 & 5.812142e-04\\\\\n",
       "\t pattern\\_domain\\_count &  1.524442e-03 &  1.034094e-03 &  0.0052096737 & 1.117632e-03 & 0.0006705290 & 3.534522e-04\\\\\n",
       "\t sld\\_length           &  5.288591e-03 &  4.472623e-04 &  0.0021456049 & 8.936139e-04 & 0.0001511549 & 2.613805e-04\\\\\n",
       "\t gibb\\_score           &  1.437978e-03 &  2.878378e-04 &  0.0004275175 & 1.639027e-03 & 0.0001588271 & 1.138672e-03\\\\\n",
       "\t sld\\_type             &  5.187110e-04 &  7.250226e-04 &  0.0008700443 & 3.165603e-03 & 0.0001346794 & 1.720771e-05\\\\\n",
       "\t day\\_domains          &  9.658541e-03 &  2.078631e-03 &  0.0085341593 & 1.041224e-02 & 0.0015211170 & 6.486481e-04\\\\\n",
       "\t reg\\_period           &  3.378353e-03 &  9.064972e-03 &  0.0023361649 & 1.620680e-03 & 0.0063447700 & 2.168244e-03\\\\\n",
       "\t response             &  0.000000e+00 &  0.000000e+00 &  0.0000000000 & 0.000000e+00 & 0.0000000000 & 0.000000e+00\\\\\n",
       "\t websitetype          &  1.336780e-03 &  3.186433e-04 &  0.0033112638 & 8.318260e-03 & 0.0014426776 & 2.190911e-03\\\\\n",
       "\t economy\\_footprint    &  5.667043e-03 &  5.242574e-04 &  0.0066111920 & 2.906896e-03 & 0.0033739225 & 3.051604e-03\\\\\n",
       "\t ecommerce            & -8.161770e-09 & -3.629791e-06 & -0.0000303521 & 3.044891e-07 & 0.0010896538 & 2.102657e-05\\\\\n",
       "\t ecommercequality     &  5.961741e-03 &  6.820632e-03 &  0.0089336594 & 5.802634e-03 & 0.0059366175 & 3.552601e-03\\\\\n",
       "\t ssl                  &  1.005892e-02 &  2.053828e-04 &  0.0002084462 & 4.569029e-03 & 0.0027846100 & 2.903697e-03\\\\\n",
       "\t renewed\\_count        &  0.000000e+00 &  0.000000e+00 &  0.0000000000 & 0.000000e+00 & 0.0000000000 & 0.000000e+00\\\\\n",
       "\\end{tabular}\n"
      ],
      "text/markdown": [
       "\n",
       "A data.frame: 16 × 7\n",
       "\n",
       "| rowname &lt;chr&gt; | site &lt;dbl&gt; | online &lt;dbl&gt; | website &lt;dbl&gt; | space &lt;dbl&gt; | store &lt;dbl&gt; | tech &lt;dbl&gt; |\n",
       "|---|---|---|---|---|---|---|\n",
       "| nameserver           |  1.050818e-02 |  1.264701e-03 |  0.0007618826 | 6.382216e-03 | 0.0001760400 | 8.862718e-04 |\n",
       "| country              |  1.439716e-02 |  4.977483e-03 |  0.0200547161 | 2.209286e-02 | 0.0083823618 | 4.974255e-03 |\n",
       "| hosting_country      |  6.875485e-04 |  1.516706e-04 |  0.0036383367 | 1.902318e-03 | 0.0009965984 | 5.812142e-04 |\n",
       "| pattern_domain_count |  1.524442e-03 |  1.034094e-03 |  0.0052096737 | 1.117632e-03 | 0.0006705290 | 3.534522e-04 |\n",
       "| sld_length           |  5.288591e-03 |  4.472623e-04 |  0.0021456049 | 8.936139e-04 | 0.0001511549 | 2.613805e-04 |\n",
       "| gibb_score           |  1.437978e-03 |  2.878378e-04 |  0.0004275175 | 1.639027e-03 | 0.0001588271 | 1.138672e-03 |\n",
       "| sld_type             |  5.187110e-04 |  7.250226e-04 |  0.0008700443 | 3.165603e-03 | 0.0001346794 | 1.720771e-05 |\n",
       "| day_domains          |  9.658541e-03 |  2.078631e-03 |  0.0085341593 | 1.041224e-02 | 0.0015211170 | 6.486481e-04 |\n",
       "| reg_period           |  3.378353e-03 |  9.064972e-03 |  0.0023361649 | 1.620680e-03 | 0.0063447700 | 2.168244e-03 |\n",
       "| response             |  0.000000e+00 |  0.000000e+00 |  0.0000000000 | 0.000000e+00 | 0.0000000000 | 0.000000e+00 |\n",
       "| websitetype          |  1.336780e-03 |  3.186433e-04 |  0.0033112638 | 8.318260e-03 | 0.0014426776 | 2.190911e-03 |\n",
       "| economy_footprint    |  5.667043e-03 |  5.242574e-04 |  0.0066111920 | 2.906896e-03 | 0.0033739225 | 3.051604e-03 |\n",
       "| ecommerce            | -8.161770e-09 | -3.629791e-06 | -0.0000303521 | 3.044891e-07 | 0.0010896538 | 2.102657e-05 |\n",
       "| ecommercequality     |  5.961741e-03 |  6.820632e-03 |  0.0089336594 | 5.802634e-03 | 0.0059366175 | 3.552601e-03 |\n",
       "| ssl                  |  1.005892e-02 |  2.053828e-04 |  0.0002084462 | 4.569029e-03 | 0.0027846100 | 2.903697e-03 |\n",
       "| renewed_count        |  0.000000e+00 |  0.000000e+00 |  0.0000000000 | 0.000000e+00 | 0.0000000000 | 0.000000e+00 |\n",
       "\n"
      ],
      "text/plain": [
       "   rowname              site          online        website       space       \n",
       "1  nameserver            1.050818e-02  1.264701e-03  0.0007618826 6.382216e-03\n",
       "2  country               1.439716e-02  4.977483e-03  0.0200547161 2.209286e-02\n",
       "3  hosting_country       6.875485e-04  1.516706e-04  0.0036383367 1.902318e-03\n",
       "4  pattern_domain_count  1.524442e-03  1.034094e-03  0.0052096737 1.117632e-03\n",
       "5  sld_length            5.288591e-03  4.472623e-04  0.0021456049 8.936139e-04\n",
       "6  gibb_score            1.437978e-03  2.878378e-04  0.0004275175 1.639027e-03\n",
       "7  sld_type              5.187110e-04  7.250226e-04  0.0008700443 3.165603e-03\n",
       "8  day_domains           9.658541e-03  2.078631e-03  0.0085341593 1.041224e-02\n",
       "9  reg_period            3.378353e-03  9.064972e-03  0.0023361649 1.620680e-03\n",
       "10 response              0.000000e+00  0.000000e+00  0.0000000000 0.000000e+00\n",
       "11 websitetype           1.336780e-03  3.186433e-04  0.0033112638 8.318260e-03\n",
       "12 economy_footprint     5.667043e-03  5.242574e-04  0.0066111920 2.906896e-03\n",
       "13 ecommerce            -8.161770e-09 -3.629791e-06 -0.0000303521 3.044891e-07\n",
       "14 ecommercequality      5.961741e-03  6.820632e-03  0.0089336594 5.802634e-03\n",
       "15 ssl                   1.005892e-02  2.053828e-04  0.0002084462 4.569029e-03\n",
       "16 renewed_count         0.000000e+00  0.000000e+00  0.0000000000 0.000000e+00\n",
       "   store        tech        \n",
       "1  0.0001760400 8.862718e-04\n",
       "2  0.0083823618 4.974255e-03\n",
       "3  0.0009965984 5.812142e-04\n",
       "4  0.0006705290 3.534522e-04\n",
       "5  0.0001511549 2.613805e-04\n",
       "6  0.0001588271 1.138672e-03\n",
       "7  0.0001346794 1.720771e-05\n",
       "8  0.0015211170 6.486481e-04\n",
       "9  0.0063447700 2.168244e-03\n",
       "10 0.0000000000 0.000000e+00\n",
       "11 0.0014426776 2.190911e-03\n",
       "12 0.0033739225 3.051604e-03\n",
       "13 0.0010896538 2.102657e-05\n",
       "14 0.0059366175 3.552601e-03\n",
       "15 0.0027846100 2.903697e-03\n",
       "16 0.0000000000 0.000000e+00"
      ]
     },
     "metadata": {},
     "output_type": "display_data"
    }
   ],
   "source": [
    "tlds <- c(\"site\", \"online\", \"website\", \"space\", \"store\", \"tech\")\n",
    "registrars <- c(\"Go Daddy\", \"Namecheap\")\n",
    "reg = registrars[1]\n",
    "imps <- data.frame()\n",
    "for (tld in tlds) {\n",
    "    l <- eda_pipeline(df, tld, reg, verbose=0)\n",
    "    name <- quo_name(tld)\n",
    "    imp <- data.frame(l$rf_avail_imp) %>% rownames_to_column() %>% rename(!!name := l.rf_avail_imp)\n",
    "    if (length(imps) == 0)  imps <- imp\n",
    "    else {\n",
    "        imps <- imps %>% left_join(imp, by=\"rowname\")\n",
    "    }\n",
    "}\n",
    "imps"
   ]
  },
  {
   "cell_type": "code",
   "execution_count": 51,
   "id": "e56bcb08",
   "metadata": {},
   "outputs": [
    {
     "name": "stderr",
     "output_type": "stream",
     "text": [
      "`summarise()` has grouped output by 'variable'. You can override using the `.groups` argument.\n",
      "\n"
     ]
    },
    {
     "data": {
      "text/html": [
       "<table class=\"dataframe\">\n",
       "<caption>A grouped_df: 90 × 3</caption>\n",
       "<thead>\n",
       "\t<tr><th scope=col>variable</th><th scope=col>value</th><th scope=col>n</th></tr>\n",
       "\t<tr><th scope=col>&lt;chr&gt;</th><th scope=col>&lt;dbl&gt;</th><th scope=col>&lt;int&gt;</th></tr>\n",
       "</thead>\n",
       "<tbody>\n",
       "\t<tr><td>online</td><td>-3.629791e-06</td><td>1</td></tr>\n",
       "\t<tr><td>online</td><td> 0.000000e+00</td><td>2</td></tr>\n",
       "\t<tr><td>online</td><td> 1.516706e-04</td><td>1</td></tr>\n",
       "\t<tr><td>online</td><td> 2.053828e-04</td><td>1</td></tr>\n",
       "\t<tr><td>online</td><td> 2.878378e-04</td><td>1</td></tr>\n",
       "\t<tr><td>online</td><td> 3.186433e-04</td><td>1</td></tr>\n",
       "\t<tr><td>online</td><td> 4.472623e-04</td><td>1</td></tr>\n",
       "\t<tr><td>online</td><td> 5.242574e-04</td><td>1</td></tr>\n",
       "\t<tr><td>online</td><td> 7.250226e-04</td><td>1</td></tr>\n",
       "\t<tr><td>online</td><td> 1.034094e-03</td><td>1</td></tr>\n",
       "\t<tr><td>online</td><td> 1.264701e-03</td><td>1</td></tr>\n",
       "\t<tr><td>online</td><td> 2.078631e-03</td><td>1</td></tr>\n",
       "\t<tr><td>online</td><td> 4.977483e-03</td><td>1</td></tr>\n",
       "\t<tr><td>online</td><td> 6.820632e-03</td><td>1</td></tr>\n",
       "\t<tr><td>online</td><td> 9.064972e-03</td><td>1</td></tr>\n",
       "\t<tr><td>site  </td><td>-8.161770e-09</td><td>1</td></tr>\n",
       "\t<tr><td>site  </td><td> 0.000000e+00</td><td>2</td></tr>\n",
       "\t<tr><td>site  </td><td> 5.187110e-04</td><td>1</td></tr>\n",
       "\t<tr><td>site  </td><td> 6.875485e-04</td><td>1</td></tr>\n",
       "\t<tr><td>site  </td><td> 1.336780e-03</td><td>1</td></tr>\n",
       "\t<tr><td>site  </td><td> 1.437978e-03</td><td>1</td></tr>\n",
       "\t<tr><td>site  </td><td> 1.524442e-03</td><td>1</td></tr>\n",
       "\t<tr><td>site  </td><td> 3.378353e-03</td><td>1</td></tr>\n",
       "\t<tr><td>site  </td><td> 5.288591e-03</td><td>1</td></tr>\n",
       "\t<tr><td>site  </td><td> 5.667043e-03</td><td>1</td></tr>\n",
       "\t<tr><td>site  </td><td> 5.961741e-03</td><td>1</td></tr>\n",
       "\t<tr><td>site  </td><td> 9.658541e-03</td><td>1</td></tr>\n",
       "\t<tr><td>site  </td><td> 1.005892e-02</td><td>1</td></tr>\n",
       "\t<tr><td>site  </td><td> 1.050818e-02</td><td>1</td></tr>\n",
       "\t<tr><td>site  </td><td> 1.439716e-02</td><td>1</td></tr>\n",
       "\t<tr><td>⋮</td><td>⋮</td><td>⋮</td></tr>\n",
       "\t<tr><td>tech   </td><td> 0.000000e+00</td><td>2</td></tr>\n",
       "\t<tr><td>tech   </td><td> 1.720771e-05</td><td>1</td></tr>\n",
       "\t<tr><td>tech   </td><td> 2.102657e-05</td><td>1</td></tr>\n",
       "\t<tr><td>tech   </td><td> 2.613805e-04</td><td>1</td></tr>\n",
       "\t<tr><td>tech   </td><td> 3.534522e-04</td><td>1</td></tr>\n",
       "\t<tr><td>tech   </td><td> 5.812142e-04</td><td>1</td></tr>\n",
       "\t<tr><td>tech   </td><td> 6.486481e-04</td><td>1</td></tr>\n",
       "\t<tr><td>tech   </td><td> 8.862718e-04</td><td>1</td></tr>\n",
       "\t<tr><td>tech   </td><td> 1.138672e-03</td><td>1</td></tr>\n",
       "\t<tr><td>tech   </td><td> 2.168244e-03</td><td>1</td></tr>\n",
       "\t<tr><td>tech   </td><td> 2.190911e-03</td><td>1</td></tr>\n",
       "\t<tr><td>tech   </td><td> 2.903697e-03</td><td>1</td></tr>\n",
       "\t<tr><td>tech   </td><td> 3.051604e-03</td><td>1</td></tr>\n",
       "\t<tr><td>tech   </td><td> 3.552601e-03</td><td>1</td></tr>\n",
       "\t<tr><td>tech   </td><td> 4.974255e-03</td><td>1</td></tr>\n",
       "\t<tr><td>website</td><td>-3.035210e-05</td><td>1</td></tr>\n",
       "\t<tr><td>website</td><td> 0.000000e+00</td><td>2</td></tr>\n",
       "\t<tr><td>website</td><td> 2.084462e-04</td><td>1</td></tr>\n",
       "\t<tr><td>website</td><td> 4.275175e-04</td><td>1</td></tr>\n",
       "\t<tr><td>website</td><td> 7.618826e-04</td><td>1</td></tr>\n",
       "\t<tr><td>website</td><td> 8.700443e-04</td><td>1</td></tr>\n",
       "\t<tr><td>website</td><td> 2.145605e-03</td><td>1</td></tr>\n",
       "\t<tr><td>website</td><td> 2.336165e-03</td><td>1</td></tr>\n",
       "\t<tr><td>website</td><td> 3.311264e-03</td><td>1</td></tr>\n",
       "\t<tr><td>website</td><td> 3.638337e-03</td><td>1</td></tr>\n",
       "\t<tr><td>website</td><td> 5.209674e-03</td><td>1</td></tr>\n",
       "\t<tr><td>website</td><td> 6.611192e-03</td><td>1</td></tr>\n",
       "\t<tr><td>website</td><td> 8.534159e-03</td><td>1</td></tr>\n",
       "\t<tr><td>website</td><td> 8.933659e-03</td><td>1</td></tr>\n",
       "\t<tr><td>website</td><td> 2.005472e-02</td><td>1</td></tr>\n",
       "</tbody>\n",
       "</table>\n"
      ],
      "text/latex": [
       "A grouped\\_df: 90 × 3\n",
       "\\begin{tabular}{lll}\n",
       " variable & value & n\\\\\n",
       " <chr> & <dbl> & <int>\\\\\n",
       "\\hline\n",
       "\t online & -3.629791e-06 & 1\\\\\n",
       "\t online &  0.000000e+00 & 2\\\\\n",
       "\t online &  1.516706e-04 & 1\\\\\n",
       "\t online &  2.053828e-04 & 1\\\\\n",
       "\t online &  2.878378e-04 & 1\\\\\n",
       "\t online &  3.186433e-04 & 1\\\\\n",
       "\t online &  4.472623e-04 & 1\\\\\n",
       "\t online &  5.242574e-04 & 1\\\\\n",
       "\t online &  7.250226e-04 & 1\\\\\n",
       "\t online &  1.034094e-03 & 1\\\\\n",
       "\t online &  1.264701e-03 & 1\\\\\n",
       "\t online &  2.078631e-03 & 1\\\\\n",
       "\t online &  4.977483e-03 & 1\\\\\n",
       "\t online &  6.820632e-03 & 1\\\\\n",
       "\t online &  9.064972e-03 & 1\\\\\n",
       "\t site   & -8.161770e-09 & 1\\\\\n",
       "\t site   &  0.000000e+00 & 2\\\\\n",
       "\t site   &  5.187110e-04 & 1\\\\\n",
       "\t site   &  6.875485e-04 & 1\\\\\n",
       "\t site   &  1.336780e-03 & 1\\\\\n",
       "\t site   &  1.437978e-03 & 1\\\\\n",
       "\t site   &  1.524442e-03 & 1\\\\\n",
       "\t site   &  3.378353e-03 & 1\\\\\n",
       "\t site   &  5.288591e-03 & 1\\\\\n",
       "\t site   &  5.667043e-03 & 1\\\\\n",
       "\t site   &  5.961741e-03 & 1\\\\\n",
       "\t site   &  9.658541e-03 & 1\\\\\n",
       "\t site   &  1.005892e-02 & 1\\\\\n",
       "\t site   &  1.050818e-02 & 1\\\\\n",
       "\t site   &  1.439716e-02 & 1\\\\\n",
       "\t ⋮ & ⋮ & ⋮\\\\\n",
       "\t tech    &  0.000000e+00 & 2\\\\\n",
       "\t tech    &  1.720771e-05 & 1\\\\\n",
       "\t tech    &  2.102657e-05 & 1\\\\\n",
       "\t tech    &  2.613805e-04 & 1\\\\\n",
       "\t tech    &  3.534522e-04 & 1\\\\\n",
       "\t tech    &  5.812142e-04 & 1\\\\\n",
       "\t tech    &  6.486481e-04 & 1\\\\\n",
       "\t tech    &  8.862718e-04 & 1\\\\\n",
       "\t tech    &  1.138672e-03 & 1\\\\\n",
       "\t tech    &  2.168244e-03 & 1\\\\\n",
       "\t tech    &  2.190911e-03 & 1\\\\\n",
       "\t tech    &  2.903697e-03 & 1\\\\\n",
       "\t tech    &  3.051604e-03 & 1\\\\\n",
       "\t tech    &  3.552601e-03 & 1\\\\\n",
       "\t tech    &  4.974255e-03 & 1\\\\\n",
       "\t website & -3.035210e-05 & 1\\\\\n",
       "\t website &  0.000000e+00 & 2\\\\\n",
       "\t website &  2.084462e-04 & 1\\\\\n",
       "\t website &  4.275175e-04 & 1\\\\\n",
       "\t website &  7.618826e-04 & 1\\\\\n",
       "\t website &  8.700443e-04 & 1\\\\\n",
       "\t website &  2.145605e-03 & 1\\\\\n",
       "\t website &  2.336165e-03 & 1\\\\\n",
       "\t website &  3.311264e-03 & 1\\\\\n",
       "\t website &  3.638337e-03 & 1\\\\\n",
       "\t website &  5.209674e-03 & 1\\\\\n",
       "\t website &  6.611192e-03 & 1\\\\\n",
       "\t website &  8.534159e-03 & 1\\\\\n",
       "\t website &  8.933659e-03 & 1\\\\\n",
       "\t website &  2.005472e-02 & 1\\\\\n",
       "\\end{tabular}\n"
      ],
      "text/markdown": [
       "\n",
       "A grouped_df: 90 × 3\n",
       "\n",
       "| variable &lt;chr&gt; | value &lt;dbl&gt; | n &lt;int&gt; |\n",
       "|---|---|---|\n",
       "| online | -3.629791e-06 | 1 |\n",
       "| online |  0.000000e+00 | 2 |\n",
       "| online |  1.516706e-04 | 1 |\n",
       "| online |  2.053828e-04 | 1 |\n",
       "| online |  2.878378e-04 | 1 |\n",
       "| online |  3.186433e-04 | 1 |\n",
       "| online |  4.472623e-04 | 1 |\n",
       "| online |  5.242574e-04 | 1 |\n",
       "| online |  7.250226e-04 | 1 |\n",
       "| online |  1.034094e-03 | 1 |\n",
       "| online |  1.264701e-03 | 1 |\n",
       "| online |  2.078631e-03 | 1 |\n",
       "| online |  4.977483e-03 | 1 |\n",
       "| online |  6.820632e-03 | 1 |\n",
       "| online |  9.064972e-03 | 1 |\n",
       "| site   | -8.161770e-09 | 1 |\n",
       "| site   |  0.000000e+00 | 2 |\n",
       "| site   |  5.187110e-04 | 1 |\n",
       "| site   |  6.875485e-04 | 1 |\n",
       "| site   |  1.336780e-03 | 1 |\n",
       "| site   |  1.437978e-03 | 1 |\n",
       "| site   |  1.524442e-03 | 1 |\n",
       "| site   |  3.378353e-03 | 1 |\n",
       "| site   |  5.288591e-03 | 1 |\n",
       "| site   |  5.667043e-03 | 1 |\n",
       "| site   |  5.961741e-03 | 1 |\n",
       "| site   |  9.658541e-03 | 1 |\n",
       "| site   |  1.005892e-02 | 1 |\n",
       "| site   |  1.050818e-02 | 1 |\n",
       "| site   |  1.439716e-02 | 1 |\n",
       "| ⋮ | ⋮ | ⋮ |\n",
       "| tech    |  0.000000e+00 | 2 |\n",
       "| tech    |  1.720771e-05 | 1 |\n",
       "| tech    |  2.102657e-05 | 1 |\n",
       "| tech    |  2.613805e-04 | 1 |\n",
       "| tech    |  3.534522e-04 | 1 |\n",
       "| tech    |  5.812142e-04 | 1 |\n",
       "| tech    |  6.486481e-04 | 1 |\n",
       "| tech    |  8.862718e-04 | 1 |\n",
       "| tech    |  1.138672e-03 | 1 |\n",
       "| tech    |  2.168244e-03 | 1 |\n",
       "| tech    |  2.190911e-03 | 1 |\n",
       "| tech    |  2.903697e-03 | 1 |\n",
       "| tech    |  3.051604e-03 | 1 |\n",
       "| tech    |  3.552601e-03 | 1 |\n",
       "| tech    |  4.974255e-03 | 1 |\n",
       "| website | -3.035210e-05 | 1 |\n",
       "| website |  0.000000e+00 | 2 |\n",
       "| website |  2.084462e-04 | 1 |\n",
       "| website |  4.275175e-04 | 1 |\n",
       "| website |  7.618826e-04 | 1 |\n",
       "| website |  8.700443e-04 | 1 |\n",
       "| website |  2.145605e-03 | 1 |\n",
       "| website |  2.336165e-03 | 1 |\n",
       "| website |  3.311264e-03 | 1 |\n",
       "| website |  3.638337e-03 | 1 |\n",
       "| website |  5.209674e-03 | 1 |\n",
       "| website |  6.611192e-03 | 1 |\n",
       "| website |  8.534159e-03 | 1 |\n",
       "| website |  8.933659e-03 | 1 |\n",
       "| website |  2.005472e-02 | 1 |\n",
       "\n"
      ],
      "text/plain": [
       "   variable value         n\n",
       "1  online   -3.629791e-06 1\n",
       "2  online    0.000000e+00 2\n",
       "3  online    1.516706e-04 1\n",
       "4  online    2.053828e-04 1\n",
       "5  online    2.878378e-04 1\n",
       "6  online    3.186433e-04 1\n",
       "7  online    4.472623e-04 1\n",
       "8  online    5.242574e-04 1\n",
       "9  online    7.250226e-04 1\n",
       "10 online    1.034094e-03 1\n",
       "11 online    1.264701e-03 1\n",
       "12 online    2.078631e-03 1\n",
       "13 online    4.977483e-03 1\n",
       "14 online    6.820632e-03 1\n",
       "15 online    9.064972e-03 1\n",
       "16 site     -8.161770e-09 1\n",
       "17 site      0.000000e+00 2\n",
       "18 site      5.187110e-04 1\n",
       "19 site      6.875485e-04 1\n",
       "20 site      1.336780e-03 1\n",
       "21 site      1.437978e-03 1\n",
       "22 site      1.524442e-03 1\n",
       "23 site      3.378353e-03 1\n",
       "24 site      5.288591e-03 1\n",
       "25 site      5.667043e-03 1\n",
       "26 site      5.961741e-03 1\n",
       "27 site      9.658541e-03 1\n",
       "28 site      1.005892e-02 1\n",
       "29 site      1.050818e-02 1\n",
       "30 site      1.439716e-02 1\n",
       "⋮  ⋮        ⋮             ⋮\n",
       "61 tech      0.000000e+00 2\n",
       "62 tech      1.720771e-05 1\n",
       "63 tech      2.102657e-05 1\n",
       "64 tech      2.613805e-04 1\n",
       "65 tech      3.534522e-04 1\n",
       "66 tech      5.812142e-04 1\n",
       "67 tech      6.486481e-04 1\n",
       "68 tech      8.862718e-04 1\n",
       "69 tech      1.138672e-03 1\n",
       "70 tech      2.168244e-03 1\n",
       "71 tech      2.190911e-03 1\n",
       "72 tech      2.903697e-03 1\n",
       "73 tech      3.051604e-03 1\n",
       "74 tech      3.552601e-03 1\n",
       "75 tech      4.974255e-03 1\n",
       "76 website  -3.035210e-05 1\n",
       "77 website   0.000000e+00 2\n",
       "78 website   2.084462e-04 1\n",
       "79 website   4.275175e-04 1\n",
       "80 website   7.618826e-04 1\n",
       "81 website   8.700443e-04 1\n",
       "82 website   2.145605e-03 1\n",
       "83 website   2.336165e-03 1\n",
       "84 website   3.311264e-03 1\n",
       "85 website   3.638337e-03 1\n",
       "86 website   5.209674e-03 1\n",
       "87 website   6.611192e-03 1\n",
       "88 website   8.534159e-03 1\n",
       "89 website   8.933659e-03 1\n",
       "90 website   2.005472e-02 1"
      ]
     },
     "metadata": {},
     "output_type": "display_data"
    }
   ],
   "source": [
    "imps %>% pivot_longer(cols=all_of(tlds), names_to=\"variable\", values_to=\"value\") %>%\n",
    "    group_by(variable, value) %>%\n",
    "    summarise(n = n())"
   ]
  },
  {
   "cell_type": "code",
   "execution_count": 21,
   "id": "0680e483",
   "metadata": {},
   "outputs": [
    {
     "ename": "ERROR",
     "evalue": "Error in `[<-.data.frame`(`*tmp*`, , tld, value = c(nameserver = 0.0105081845548473, : replacement has 96 rows, data has 0\n",
     "output_type": "error",
     "traceback": [
      "Error in `[<-.data.frame`(`*tmp*`, , tld, value = c(nameserver = 0.0105081845548473, : replacement has 96 rows, data has 0\nTraceback:\n",
      "1. `[<-`(`*tmp*`, , tld, value = c(nameserver = 0.0105081845548473, \n . country = 0.0143971555473989, hosting_country = 0.000687548501691673, \n . pattern_domain_count = 0.00152444156925479, sld_length = 0.00528859057555358, \n . gibb_score = 0.00143797811957016, sld_type = 0.000518710950418546, \n . day_domains = 0.00965854062178635, reg_period = 0.00337835296401453, \n . response = 0, websitetype = 0.0013367802540496, economy_footprint = 0.00566704341484208, \n . ecommerce = -8.16176992213258e-09, ecommercequality = 0.00596174149650986, \n . ssl = 0.0100589183705128, renewed_count = 0, nameserver = 0.0012647009671553, \n . country = 0.0049774830449368, pattern_domain_count = 0.00103409356127442, \n . sld_length = 0.000447262300969353, gibb_score = 0.000287837820152848, \n . sld_type = 0.000725022620770379, day_domains = 0.00207863061910143, \n . hosting_country = 0.00015167062467133, reg_period = 0.00906497179073901, \n . response = 0, websitetype = 0.000318643257607354, economy_footprint = 0.000524257433304092, \n . ecommerce = -3.62979070205105e-06, ecommercequality = 0.00682063192330683, \n . ssl = 0.000205382768217313, renewed_count = 0, pattern_domain_count = 0.0052096737194511, \n . sld_length = 0.00214560491793557, gibb_score = 0.000427517499526273, \n . sld_type = 0.000870044343055474, day_domains = 0.008534159253159, \n . country = 0.0200547160550895, nameserver = 0.000761882574348438, \n . hosting_country = 0.00363833666324795, reg_period = 0.00233616490943614, \n . response = 0, websitetype = 0.00331126382561131, economy_footprint = 0.00661119201719473, \n . ecommerce = -3.03520995398476e-05, ecommercequality = 0.00893365944563647, \n . ssl = 0.000208446210067732, renewed_count = 0, pattern_domain_count = 0.00111763204016777, \n . sld_length = 0.000893613884058957, gibb_score = 0.00163902711453784, \n . sld_type = 0.00316560337427809, day_domains = 0.0104122445361065, \n . nameserver = 0.00638221627447002, country = 0.0220928550927312, \n . hosting_country = 0.0019023178844115, reg_period = 0.00162067985612407, \n . response = 0, websitetype = 0.00831826044109547, economy_footprint = 0.00290689609201167, \n . ecommerce = 3.04489142186615e-07, ecommercequality = 0.00580263409322699, \n . ssl = 0.00456902878533002, renewed_count = 0, nameserver = 0.000176040047694068, \n . country = 0.00838236176224835, pattern_domain_count = 0.000670528956790712, \n . sld_length = 0.000151154878269564, gibb_score = 0.000158827058692821, \n . sld_type = 0.000134679440246674, day_domains = 0.00152111702005529, \n . hosting_country = 0.000996598386859053, reg_period = 0.00634477001731702, \n . response = 0, websitetype = 0.0014426775807727, economy_footprint = 0.00337392250042201, \n . ecommerce = 0.00108965379778383, ecommercequality = 0.00593661745167155, \n . ssl = 0.00278460999178324, renewed_count = 0, pattern_domain_count = 0.000353452213074721, \n . sld_length = 0.000261380547796513, gibb_score = 0.00113867215956815, \n . sld_type = 1.72077146120819e-05, day_domains = 0.000648648058845724, \n . country = 0.00497425516328716, nameserver = 0.000886271815945949, \n . hosting_country = 0.000581214236940224, reg_period = 0.00216824398319277, \n . response = 0, websitetype = 0.0021909114608201, economy_footprint = 0.00305160384501294, \n . ecommerce = 2.10265715467539e-05, ecommercequality = 0.00355260125801102, \n . ssl = 0.00290369732433913, renewed_count = 0))",
      "2. `[<-.data.frame`(`*tmp*`, , tld, value = c(nameserver = 0.0105081845548473, \n . country = 0.0143971555473989, hosting_country = 0.000687548501691673, \n . pattern_domain_count = 0.00152444156925479, sld_length = 0.00528859057555358, \n . gibb_score = 0.00143797811957016, sld_type = 0.000518710950418546, \n . day_domains = 0.00965854062178635, reg_period = 0.00337835296401453, \n . response = 0, websitetype = 0.0013367802540496, economy_footprint = 0.00566704341484208, \n . ecommerce = -8.16176992213258e-09, ecommercequality = 0.00596174149650986, \n . ssl = 0.0100589183705128, renewed_count = 0, nameserver = 0.0012647009671553, \n . country = 0.0049774830449368, pattern_domain_count = 0.00103409356127442, \n . sld_length = 0.000447262300969353, gibb_score = 0.000287837820152848, \n . sld_type = 0.000725022620770379, day_domains = 0.00207863061910143, \n . hosting_country = 0.00015167062467133, reg_period = 0.00906497179073901, \n . response = 0, websitetype = 0.000318643257607354, economy_footprint = 0.000524257433304092, \n . ecommerce = -3.62979070205105e-06, ecommercequality = 0.00682063192330683, \n . ssl = 0.000205382768217313, renewed_count = 0, pattern_domain_count = 0.0052096737194511, \n . sld_length = 0.00214560491793557, gibb_score = 0.000427517499526273, \n . sld_type = 0.000870044343055474, day_domains = 0.008534159253159, \n . country = 0.0200547160550895, nameserver = 0.000761882574348438, \n . hosting_country = 0.00363833666324795, reg_period = 0.00233616490943614, \n . response = 0, websitetype = 0.00331126382561131, economy_footprint = 0.00661119201719473, \n . ecommerce = -3.03520995398476e-05, ecommercequality = 0.00893365944563647, \n . ssl = 0.000208446210067732, renewed_count = 0, pattern_domain_count = 0.00111763204016777, \n . sld_length = 0.000893613884058957, gibb_score = 0.00163902711453784, \n . sld_type = 0.00316560337427809, day_domains = 0.0104122445361065, \n . nameserver = 0.00638221627447002, country = 0.0220928550927312, \n . hosting_country = 0.0019023178844115, reg_period = 0.00162067985612407, \n . response = 0, websitetype = 0.00831826044109547, economy_footprint = 0.00290689609201167, \n . ecommerce = 3.04489142186615e-07, ecommercequality = 0.00580263409322699, \n . ssl = 0.00456902878533002, renewed_count = 0, nameserver = 0.000176040047694068, \n . country = 0.00838236176224835, pattern_domain_count = 0.000670528956790712, \n . sld_length = 0.000151154878269564, gibb_score = 0.000158827058692821, \n . sld_type = 0.000134679440246674, day_domains = 0.00152111702005529, \n . hosting_country = 0.000996598386859053, reg_period = 0.00634477001731702, \n . response = 0, websitetype = 0.0014426775807727, economy_footprint = 0.00337392250042201, \n . ecommerce = 0.00108965379778383, ecommercequality = 0.00593661745167155, \n . ssl = 0.00278460999178324, renewed_count = 0, pattern_domain_count = 0.000353452213074721, \n . sld_length = 0.000261380547796513, gibb_score = 0.00113867215956815, \n . sld_type = 1.72077146120819e-05, day_domains = 0.000648648058845724, \n . country = 0.00497425516328716, nameserver = 0.000886271815945949, \n . hosting_country = 0.000581214236940224, reg_period = 0.00216824398319277, \n . response = 0, websitetype = 0.0021909114608201, economy_footprint = 0.00305160384501294, \n . ecommerce = 2.10265715467539e-05, ecommercequality = 0.00355260125801102, \n . ssl = 0.00290369732433913, renewed_count = 0))",
      "3. stop(sprintf(ngettext(N, \"replacement has %d row, data has %d\", \n .     \"replacement has %d rows, data has %d\"), N, n), domain = NA)"
     ]
    }
   ],
   "source": [
    "d <- data.frame()\n",
    "for (i in seq(length(tlds))) {\n",
    "    tld = tlds[i]\n",
    "    d[,tld] = imps\n",
    "}\n",
    "d"
   ]
  },
  {
   "cell_type": "code",
   "execution_count": 23,
   "id": "b7afe7d4",
   "metadata": {},
   "outputs": [
    {
     "data": {
      "text/html": [
       "TRUE"
      ],
      "text/latex": [
       "TRUE"
      ],
      "text/markdown": [
       "TRUE"
      ],
      "text/plain": [
       "[1] TRUE"
      ]
     },
     "metadata": {},
     "output_type": "display_data"
    }
   ],
   "source": [
    "is.vector(l$rf_avail_imp)"
   ]
  },
  {
   "cell_type": "code",
   "execution_count": 24,
   "id": "006f00ed",
   "metadata": {},
   "outputs": [
    {
     "data": {
      "text/html": [
       "<table class=\"dataframe\">\n",
       "<caption>A data.frame: 16 × 1</caption>\n",
       "<thead>\n",
       "\t<tr><th></th><th scope=col>l.rf_avail_imp</th></tr>\n",
       "\t<tr><th></th><th scope=col>&lt;dbl&gt;</th></tr>\n",
       "</thead>\n",
       "<tbody>\n",
       "\t<tr><th scope=row>pattern_domain_count</th><td>3.534522e-04</td></tr>\n",
       "\t<tr><th scope=row>sld_length</th><td>2.613805e-04</td></tr>\n",
       "\t<tr><th scope=row>gibb_score</th><td>1.138672e-03</td></tr>\n",
       "\t<tr><th scope=row>sld_type</th><td>1.720771e-05</td></tr>\n",
       "\t<tr><th scope=row>day_domains</th><td>6.486481e-04</td></tr>\n",
       "\t<tr><th scope=row>country</th><td>4.974255e-03</td></tr>\n",
       "\t<tr><th scope=row>nameserver</th><td>8.862718e-04</td></tr>\n",
       "\t<tr><th scope=row>hosting_country</th><td>5.812142e-04</td></tr>\n",
       "\t<tr><th scope=row>reg_period</th><td>2.168244e-03</td></tr>\n",
       "\t<tr><th scope=row>response</th><td>0.000000e+00</td></tr>\n",
       "\t<tr><th scope=row>websitetype</th><td>2.190911e-03</td></tr>\n",
       "\t<tr><th scope=row>economy_footprint</th><td>3.051604e-03</td></tr>\n",
       "\t<tr><th scope=row>ecommerce</th><td>2.102657e-05</td></tr>\n",
       "\t<tr><th scope=row>ecommercequality</th><td>3.552601e-03</td></tr>\n",
       "\t<tr><th scope=row>ssl</th><td>2.903697e-03</td></tr>\n",
       "\t<tr><th scope=row>renewed_count</th><td>0.000000e+00</td></tr>\n",
       "</tbody>\n",
       "</table>\n"
      ],
      "text/latex": [
       "A data.frame: 16 × 1\n",
       "\\begin{tabular}{r|l}\n",
       "  & l.rf\\_avail\\_imp\\\\\n",
       "  & <dbl>\\\\\n",
       "\\hline\n",
       "\tpattern\\_domain\\_count & 3.534522e-04\\\\\n",
       "\tsld\\_length & 2.613805e-04\\\\\n",
       "\tgibb\\_score & 1.138672e-03\\\\\n",
       "\tsld\\_type & 1.720771e-05\\\\\n",
       "\tday\\_domains & 6.486481e-04\\\\\n",
       "\tcountry & 4.974255e-03\\\\\n",
       "\tnameserver & 8.862718e-04\\\\\n",
       "\thosting\\_country & 5.812142e-04\\\\\n",
       "\treg\\_period & 2.168244e-03\\\\\n",
       "\tresponse & 0.000000e+00\\\\\n",
       "\twebsitetype & 2.190911e-03\\\\\n",
       "\teconomy\\_footprint & 3.051604e-03\\\\\n",
       "\tecommerce & 2.102657e-05\\\\\n",
       "\tecommercequality & 3.552601e-03\\\\\n",
       "\tssl & 2.903697e-03\\\\\n",
       "\trenewed\\_count & 0.000000e+00\\\\\n",
       "\\end{tabular}\n"
      ],
      "text/markdown": [
       "\n",
       "A data.frame: 16 × 1\n",
       "\n",
       "| <!--/--> | l.rf_avail_imp &lt;dbl&gt; |\n",
       "|---|---|\n",
       "| pattern_domain_count | 3.534522e-04 |\n",
       "| sld_length | 2.613805e-04 |\n",
       "| gibb_score | 1.138672e-03 |\n",
       "| sld_type | 1.720771e-05 |\n",
       "| day_domains | 6.486481e-04 |\n",
       "| country | 4.974255e-03 |\n",
       "| nameserver | 8.862718e-04 |\n",
       "| hosting_country | 5.812142e-04 |\n",
       "| reg_period | 2.168244e-03 |\n",
       "| response | 0.000000e+00 |\n",
       "| websitetype | 2.190911e-03 |\n",
       "| economy_footprint | 3.051604e-03 |\n",
       "| ecommerce | 2.102657e-05 |\n",
       "| ecommercequality | 3.552601e-03 |\n",
       "| ssl | 2.903697e-03 |\n",
       "| renewed_count | 0.000000e+00 |\n",
       "\n"
      ],
      "text/plain": [
       "                     l.rf_avail_imp\n",
       "pattern_domain_count 3.534522e-04  \n",
       "sld_length           2.613805e-04  \n",
       "gibb_score           1.138672e-03  \n",
       "sld_type             1.720771e-05  \n",
       "day_domains          6.486481e-04  \n",
       "country              4.974255e-03  \n",
       "nameserver           8.862718e-04  \n",
       "hosting_country      5.812142e-04  \n",
       "reg_period           2.168244e-03  \n",
       "response             0.000000e+00  \n",
       "websitetype          2.190911e-03  \n",
       "economy_footprint    3.051604e-03  \n",
       "ecommerce            2.102657e-05  \n",
       "ecommercequality     3.552601e-03  \n",
       "ssl                  2.903697e-03  \n",
       "renewed_count        0.000000e+00  "
      ]
     },
     "metadata": {},
     "output_type": "display_data"
    }
   ],
   "source": [
    "data.frame(l$rf_avail_imp)"
   ]
  },
  {
   "cell_type": "code",
   "execution_count": 33,
   "id": "4200ed43",
   "metadata": {},
   "outputs": [
    {
     "name": "stdout",
     "output_type": "stream",
     "text": [
      "7.5% of domains renewed\n",
      "8% of domains renewed\n"
     ]
    },
    {
     "data": {
      "text/html": [
       "<table class=\"dataframe\">\n",
       "<caption>A data.frame: 16 × 1</caption>\n",
       "<thead>\n",
       "\t<tr><th></th><th scope=col>l1.rf_avail_imp</th></tr>\n",
       "\t<tr><th></th><th scope=col>&lt;dbl&gt;</th></tr>\n",
       "</thead>\n",
       "<tbody>\n",
       "\t<tr><th scope=row>nameserver</th><td> 1.050818e-02</td></tr>\n",
       "\t<tr><th scope=row>country</th><td> 1.439716e-02</td></tr>\n",
       "\t<tr><th scope=row>hosting_country</th><td> 6.875485e-04</td></tr>\n",
       "\t<tr><th scope=row>pattern_domain_count</th><td> 1.524442e-03</td></tr>\n",
       "\t<tr><th scope=row>sld_length</th><td> 5.288591e-03</td></tr>\n",
       "\t<tr><th scope=row>gibb_score</th><td> 1.437978e-03</td></tr>\n",
       "\t<tr><th scope=row>sld_type</th><td> 5.187110e-04</td></tr>\n",
       "\t<tr><th scope=row>day_domains</th><td> 9.658541e-03</td></tr>\n",
       "\t<tr><th scope=row>reg_period</th><td> 3.378353e-03</td></tr>\n",
       "\t<tr><th scope=row>response</th><td> 0.000000e+00</td></tr>\n",
       "\t<tr><th scope=row>websitetype</th><td> 1.336780e-03</td></tr>\n",
       "\t<tr><th scope=row>economy_footprint</th><td> 5.667043e-03</td></tr>\n",
       "\t<tr><th scope=row>ecommerce</th><td>-8.161770e-09</td></tr>\n",
       "\t<tr><th scope=row>ecommercequality</th><td> 5.961741e-03</td></tr>\n",
       "\t<tr><th scope=row>ssl</th><td> 1.005892e-02</td></tr>\n",
       "\t<tr><th scope=row>renewed_count</th><td> 0.000000e+00</td></tr>\n",
       "</tbody>\n",
       "</table>\n"
      ],
      "text/latex": [
       "A data.frame: 16 × 1\n",
       "\\begin{tabular}{r|l}\n",
       "  & l1.rf\\_avail\\_imp\\\\\n",
       "  & <dbl>\\\\\n",
       "\\hline\n",
       "\tnameserver &  1.050818e-02\\\\\n",
       "\tcountry &  1.439716e-02\\\\\n",
       "\thosting\\_country &  6.875485e-04\\\\\n",
       "\tpattern\\_domain\\_count &  1.524442e-03\\\\\n",
       "\tsld\\_length &  5.288591e-03\\\\\n",
       "\tgibb\\_score &  1.437978e-03\\\\\n",
       "\tsld\\_type &  5.187110e-04\\\\\n",
       "\tday\\_domains &  9.658541e-03\\\\\n",
       "\treg\\_period &  3.378353e-03\\\\\n",
       "\tresponse &  0.000000e+00\\\\\n",
       "\twebsitetype &  1.336780e-03\\\\\n",
       "\teconomy\\_footprint &  5.667043e-03\\\\\n",
       "\tecommerce & -8.161770e-09\\\\\n",
       "\tecommercequality &  5.961741e-03\\\\\n",
       "\tssl &  1.005892e-02\\\\\n",
       "\trenewed\\_count &  0.000000e+00\\\\\n",
       "\\end{tabular}\n"
      ],
      "text/markdown": [
       "\n",
       "A data.frame: 16 × 1\n",
       "\n",
       "| <!--/--> | l1.rf_avail_imp &lt;dbl&gt; |\n",
       "|---|---|\n",
       "| nameserver |  1.050818e-02 |\n",
       "| country |  1.439716e-02 |\n",
       "| hosting_country |  6.875485e-04 |\n",
       "| pattern_domain_count |  1.524442e-03 |\n",
       "| sld_length |  5.288591e-03 |\n",
       "| gibb_score |  1.437978e-03 |\n",
       "| sld_type |  5.187110e-04 |\n",
       "| day_domains |  9.658541e-03 |\n",
       "| reg_period |  3.378353e-03 |\n",
       "| response |  0.000000e+00 |\n",
       "| websitetype |  1.336780e-03 |\n",
       "| economy_footprint |  5.667043e-03 |\n",
       "| ecommerce | -8.161770e-09 |\n",
       "| ecommercequality |  5.961741e-03 |\n",
       "| ssl |  1.005892e-02 |\n",
       "| renewed_count |  0.000000e+00 |\n",
       "\n"
      ],
      "text/plain": [
       "                     l1.rf_avail_imp\n",
       "nameserver            1.050818e-02  \n",
       "country               1.439716e-02  \n",
       "hosting_country       6.875485e-04  \n",
       "pattern_domain_count  1.524442e-03  \n",
       "sld_length            5.288591e-03  \n",
       "gibb_score            1.437978e-03  \n",
       "sld_type              5.187110e-04  \n",
       "day_domains           9.658541e-03  \n",
       "reg_period            3.378353e-03  \n",
       "response              0.000000e+00  \n",
       "websitetype           1.336780e-03  \n",
       "economy_footprint     5.667043e-03  \n",
       "ecommerce            -8.161770e-09  \n",
       "ecommercequality      5.961741e-03  \n",
       "ssl                   1.005892e-02  \n",
       "renewed_count         0.000000e+00  "
      ]
     },
     "metadata": {},
     "output_type": "display_data"
    }
   ],
   "source": [
    "l1 <- eda_pipeline(df, \"site\", \"Go Daddy\", verbose=0)\n",
    "l2 <- eda_pipeline(df, \"online\", \"Namecheap\", verbose=0)\n",
    "\n",
    "imp1 <- data.frame(l1$rf_avail_imp)\n",
    "imp2 <- data.frame(l2$rf_avail_imp)\n",
    "imp1"
   ]
  },
  {
   "cell_type": "code",
   "execution_count": 35,
   "id": "dc4aa37b",
   "metadata": {},
   "outputs": [
    {
     "data": {
      "text/html": [
       "<table class=\"dataframe\">\n",
       "<caption>A data.frame: 16 × 1</caption>\n",
       "<thead>\n",
       "\t<tr><th></th><th scope=col>l2.rf_avail_imp</th></tr>\n",
       "\t<tr><th></th><th scope=col>&lt;dbl&gt;</th></tr>\n",
       "</thead>\n",
       "<tbody>\n",
       "\t<tr><th scope=row>country</th><td>2.262485e-03</td></tr>\n",
       "\t<tr><th scope=row>nameserver</th><td>9.650397e-04</td></tr>\n",
       "\t<tr><th scope=row>hosting_country</th><td>2.867156e-04</td></tr>\n",
       "\t<tr><th scope=row>pattern_domain_count</th><td>4.027911e-04</td></tr>\n",
       "\t<tr><th scope=row>sld_length</th><td>3.538961e-04</td></tr>\n",
       "\t<tr><th scope=row>gibb_score</th><td>9.888567e-05</td></tr>\n",
       "\t<tr><th scope=row>sld_type</th><td>3.953727e-04</td></tr>\n",
       "\t<tr><th scope=row>day_domains</th><td>1.847587e-03</td></tr>\n",
       "\t<tr><th scope=row>reg_period</th><td>5.414605e-04</td></tr>\n",
       "\t<tr><th scope=row>response</th><td>0.000000e+00</td></tr>\n",
       "\t<tr><th scope=row>websitetype</th><td>9.578655e-04</td></tr>\n",
       "\t<tr><th scope=row>economy_footprint</th><td>4.470419e-03</td></tr>\n",
       "\t<tr><th scope=row>ecommerce</th><td>1.364319e-05</td></tr>\n",
       "\t<tr><th scope=row>ecommercequality</th><td>4.568560e-03</td></tr>\n",
       "\t<tr><th scope=row>ssl</th><td>1.283582e-03</td></tr>\n",
       "\t<tr><th scope=row>renewed_count</th><td>0.000000e+00</td></tr>\n",
       "</tbody>\n",
       "</table>\n"
      ],
      "text/latex": [
       "A data.frame: 16 × 1\n",
       "\\begin{tabular}{r|l}\n",
       "  & l2.rf\\_avail\\_imp\\\\\n",
       "  & <dbl>\\\\\n",
       "\\hline\n",
       "\tcountry & 2.262485e-03\\\\\n",
       "\tnameserver & 9.650397e-04\\\\\n",
       "\thosting\\_country & 2.867156e-04\\\\\n",
       "\tpattern\\_domain\\_count & 4.027911e-04\\\\\n",
       "\tsld\\_length & 3.538961e-04\\\\\n",
       "\tgibb\\_score & 9.888567e-05\\\\\n",
       "\tsld\\_type & 3.953727e-04\\\\\n",
       "\tday\\_domains & 1.847587e-03\\\\\n",
       "\treg\\_period & 5.414605e-04\\\\\n",
       "\tresponse & 0.000000e+00\\\\\n",
       "\twebsitetype & 9.578655e-04\\\\\n",
       "\teconomy\\_footprint & 4.470419e-03\\\\\n",
       "\tecommerce & 1.364319e-05\\\\\n",
       "\tecommercequality & 4.568560e-03\\\\\n",
       "\tssl & 1.283582e-03\\\\\n",
       "\trenewed\\_count & 0.000000e+00\\\\\n",
       "\\end{tabular}\n"
      ],
      "text/markdown": [
       "\n",
       "A data.frame: 16 × 1\n",
       "\n",
       "| <!--/--> | l2.rf_avail_imp &lt;dbl&gt; |\n",
       "|---|---|\n",
       "| country | 2.262485e-03 |\n",
       "| nameserver | 9.650397e-04 |\n",
       "| hosting_country | 2.867156e-04 |\n",
       "| pattern_domain_count | 4.027911e-04 |\n",
       "| sld_length | 3.538961e-04 |\n",
       "| gibb_score | 9.888567e-05 |\n",
       "| sld_type | 3.953727e-04 |\n",
       "| day_domains | 1.847587e-03 |\n",
       "| reg_period | 5.414605e-04 |\n",
       "| response | 0.000000e+00 |\n",
       "| websitetype | 9.578655e-04 |\n",
       "| economy_footprint | 4.470419e-03 |\n",
       "| ecommerce | 1.364319e-05 |\n",
       "| ecommercequality | 4.568560e-03 |\n",
       "| ssl | 1.283582e-03 |\n",
       "| renewed_count | 0.000000e+00 |\n",
       "\n"
      ],
      "text/plain": [
       "                     l2.rf_avail_imp\n",
       "country              2.262485e-03   \n",
       "nameserver           9.650397e-04   \n",
       "hosting_country      2.867156e-04   \n",
       "pattern_domain_count 4.027911e-04   \n",
       "sld_length           3.538961e-04   \n",
       "gibb_score           9.888567e-05   \n",
       "sld_type             3.953727e-04   \n",
       "day_domains          1.847587e-03   \n",
       "reg_period           5.414605e-04   \n",
       "response             0.000000e+00   \n",
       "websitetype          9.578655e-04   \n",
       "economy_footprint    4.470419e-03   \n",
       "ecommerce            1.364319e-05   \n",
       "ecommercequality     4.568560e-03   \n",
       "ssl                  1.283582e-03   \n",
       "renewed_count        0.000000e+00   "
      ]
     },
     "metadata": {},
     "output_type": "display_data"
    }
   ],
   "source": [
    "imp2"
   ]
  },
  {
   "cell_type": "code",
   "execution_count": 40,
   "id": "765da393",
   "metadata": {},
   "outputs": [],
   "source": [
    "imp = imp1 %>% rownames_to_column() %>% left_join(rownames_to_column(imp2), by=\"rowname\")"
   ]
  },
  {
   "cell_type": "code",
   "execution_count": 41,
   "id": "afc211ec",
   "metadata": {},
   "outputs": [
    {
     "data": {
      "text/html": [
       "<table class=\"dataframe\">\n",
       "<caption>A data.frame: 16 × 3</caption>\n",
       "<thead>\n",
       "\t<tr><th scope=col>rowname</th><th scope=col>l1.rf_avail_imp</th><th scope=col>l2.rf_avail_imp</th></tr>\n",
       "\t<tr><th scope=col>&lt;chr&gt;</th><th scope=col>&lt;dbl&gt;</th><th scope=col>&lt;dbl&gt;</th></tr>\n",
       "</thead>\n",
       "<tbody>\n",
       "\t<tr><td>nameserver          </td><td> 1.050818e-02</td><td>9.650397e-04</td></tr>\n",
       "\t<tr><td>country             </td><td> 1.439716e-02</td><td>2.262485e-03</td></tr>\n",
       "\t<tr><td>hosting_country     </td><td> 6.875485e-04</td><td>2.867156e-04</td></tr>\n",
       "\t<tr><td>pattern_domain_count</td><td> 1.524442e-03</td><td>4.027911e-04</td></tr>\n",
       "\t<tr><td>sld_length          </td><td> 5.288591e-03</td><td>3.538961e-04</td></tr>\n",
       "\t<tr><td>gibb_score          </td><td> 1.437978e-03</td><td>9.888567e-05</td></tr>\n",
       "\t<tr><td>sld_type            </td><td> 5.187110e-04</td><td>3.953727e-04</td></tr>\n",
       "\t<tr><td>day_domains         </td><td> 9.658541e-03</td><td>1.847587e-03</td></tr>\n",
       "\t<tr><td>reg_period          </td><td> 3.378353e-03</td><td>5.414605e-04</td></tr>\n",
       "\t<tr><td>response            </td><td> 0.000000e+00</td><td>0.000000e+00</td></tr>\n",
       "\t<tr><td>websitetype         </td><td> 1.336780e-03</td><td>9.578655e-04</td></tr>\n",
       "\t<tr><td>economy_footprint   </td><td> 5.667043e-03</td><td>4.470419e-03</td></tr>\n",
       "\t<tr><td>ecommerce           </td><td>-8.161770e-09</td><td>1.364319e-05</td></tr>\n",
       "\t<tr><td>ecommercequality    </td><td> 5.961741e-03</td><td>4.568560e-03</td></tr>\n",
       "\t<tr><td>ssl                 </td><td> 1.005892e-02</td><td>1.283582e-03</td></tr>\n",
       "\t<tr><td>renewed_count       </td><td> 0.000000e+00</td><td>0.000000e+00</td></tr>\n",
       "</tbody>\n",
       "</table>\n"
      ],
      "text/latex": [
       "A data.frame: 16 × 3\n",
       "\\begin{tabular}{lll}\n",
       " rowname & l1.rf\\_avail\\_imp & l2.rf\\_avail\\_imp\\\\\n",
       " <chr> & <dbl> & <dbl>\\\\\n",
       "\\hline\n",
       "\t nameserver           &  1.050818e-02 & 9.650397e-04\\\\\n",
       "\t country              &  1.439716e-02 & 2.262485e-03\\\\\n",
       "\t hosting\\_country      &  6.875485e-04 & 2.867156e-04\\\\\n",
       "\t pattern\\_domain\\_count &  1.524442e-03 & 4.027911e-04\\\\\n",
       "\t sld\\_length           &  5.288591e-03 & 3.538961e-04\\\\\n",
       "\t gibb\\_score           &  1.437978e-03 & 9.888567e-05\\\\\n",
       "\t sld\\_type             &  5.187110e-04 & 3.953727e-04\\\\\n",
       "\t day\\_domains          &  9.658541e-03 & 1.847587e-03\\\\\n",
       "\t reg\\_period           &  3.378353e-03 & 5.414605e-04\\\\\n",
       "\t response             &  0.000000e+00 & 0.000000e+00\\\\\n",
       "\t websitetype          &  1.336780e-03 & 9.578655e-04\\\\\n",
       "\t economy\\_footprint    &  5.667043e-03 & 4.470419e-03\\\\\n",
       "\t ecommerce            & -8.161770e-09 & 1.364319e-05\\\\\n",
       "\t ecommercequality     &  5.961741e-03 & 4.568560e-03\\\\\n",
       "\t ssl                  &  1.005892e-02 & 1.283582e-03\\\\\n",
       "\t renewed\\_count        &  0.000000e+00 & 0.000000e+00\\\\\n",
       "\\end{tabular}\n"
      ],
      "text/markdown": [
       "\n",
       "A data.frame: 16 × 3\n",
       "\n",
       "| rowname &lt;chr&gt; | l1.rf_avail_imp &lt;dbl&gt; | l2.rf_avail_imp &lt;dbl&gt; |\n",
       "|---|---|---|\n",
       "| nameserver           |  1.050818e-02 | 9.650397e-04 |\n",
       "| country              |  1.439716e-02 | 2.262485e-03 |\n",
       "| hosting_country      |  6.875485e-04 | 2.867156e-04 |\n",
       "| pattern_domain_count |  1.524442e-03 | 4.027911e-04 |\n",
       "| sld_length           |  5.288591e-03 | 3.538961e-04 |\n",
       "| gibb_score           |  1.437978e-03 | 9.888567e-05 |\n",
       "| sld_type             |  5.187110e-04 | 3.953727e-04 |\n",
       "| day_domains          |  9.658541e-03 | 1.847587e-03 |\n",
       "| reg_period           |  3.378353e-03 | 5.414605e-04 |\n",
       "| response             |  0.000000e+00 | 0.000000e+00 |\n",
       "| websitetype          |  1.336780e-03 | 9.578655e-04 |\n",
       "| economy_footprint    |  5.667043e-03 | 4.470419e-03 |\n",
       "| ecommerce            | -8.161770e-09 | 1.364319e-05 |\n",
       "| ecommercequality     |  5.961741e-03 | 4.568560e-03 |\n",
       "| ssl                  |  1.005892e-02 | 1.283582e-03 |\n",
       "| renewed_count        |  0.000000e+00 | 0.000000e+00 |\n",
       "\n"
      ],
      "text/plain": [
       "   rowname              l1.rf_avail_imp l2.rf_avail_imp\n",
       "1  nameserver            1.050818e-02   9.650397e-04   \n",
       "2  country               1.439716e-02   2.262485e-03   \n",
       "3  hosting_country       6.875485e-04   2.867156e-04   \n",
       "4  pattern_domain_count  1.524442e-03   4.027911e-04   \n",
       "5  sld_length            5.288591e-03   3.538961e-04   \n",
       "6  gibb_score            1.437978e-03   9.888567e-05   \n",
       "7  sld_type              5.187110e-04   3.953727e-04   \n",
       "8  day_domains           9.658541e-03   1.847587e-03   \n",
       "9  reg_period            3.378353e-03   5.414605e-04   \n",
       "10 response              0.000000e+00   0.000000e+00   \n",
       "11 websitetype           1.336780e-03   9.578655e-04   \n",
       "12 economy_footprint     5.667043e-03   4.470419e-03   \n",
       "13 ecommerce            -8.161770e-09   1.364319e-05   \n",
       "14 ecommercequality      5.961741e-03   4.568560e-03   \n",
       "15 ssl                   1.005892e-02   1.283582e-03   \n",
       "16 renewed_count         0.000000e+00   0.000000e+00   "
      ]
     },
     "metadata": {},
     "output_type": "display_data"
    }
   ],
   "source": [
    "imp"
   ]
  }
 ],
 "metadata": {
  "environment": {
   "name": "r-cpu.3-6.m65",
   "type": "gcloud",
   "uri": "gcr.io/deeplearning-platform-release/r-cpu.3-6:m65"
  },
  "kernelspec": {
   "display_name": "R",
   "language": "R",
   "name": "ir"
  },
  "language_info": {
   "codemirror_mode": "r",
   "file_extension": ".r",
   "mimetype": "text/x-r-source",
   "name": "R",
   "pygments_lexer": "r",
   "version": "3.6.3"
  }
 },
 "nbformat": 4,
 "nbformat_minor": 5
}
