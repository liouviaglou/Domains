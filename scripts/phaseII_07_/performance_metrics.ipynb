{
 "cells": [
  {
   "cell_type": "markdown",
   "id": "f81c74f8",
   "metadata": {},
   "source": [
    "# Evaluation Notebook\n",
    "\n",
    "Purpose of this notebook is to compute relevant eval statistics.\n",
    "\n",
    "Here are the main evaluation interests of Radix and the metrics I think capture them well:\n",
    "\n",
    "* Bias - When predictions are aggregated, do they add up to the correct number of renewals? Basically a measure of calibration.\n",
    "    * MAPE (Mean Absolute Percentage Error) of the sum of predicted renewals per tld-renewal should handle this well.\n",
    "* Confusion Matrix\n",
    "    * TP, TN, FP, FN with 0.5 threshold?\n",
    "    * AUC? (redundant with Gini below)\n",
    "* Lift\n",
    "    * Gini Coefficient/area under gains curve\n",
    "    * Lift at 10%?"
   ]
  },
  {
   "cell_type": "code",
   "execution_count": 1,
   "id": "70cbf04a",
   "metadata": {},
   "outputs": [
    {
     "name": "stderr",
     "output_type": "stream",
     "text": [
      "── \u001b[1mAttaching packages\u001b[22m ─────────────────────────────────────── tidyverse 1.3.0 ──\n",
      "\n",
      "\u001b[32m✔\u001b[39m \u001b[34mggplot2\u001b[39m 3.3.3     \u001b[32m✔\u001b[39m \u001b[34mpurrr  \u001b[39m 0.3.4\n",
      "\u001b[32m✔\u001b[39m \u001b[34mtibble \u001b[39m 3.1.0     \u001b[32m✔\u001b[39m \u001b[34mdplyr  \u001b[39m 1.0.5\n",
      "\u001b[32m✔\u001b[39m \u001b[34mtidyr  \u001b[39m 1.1.3     \u001b[32m✔\u001b[39m \u001b[34mstringr\u001b[39m 1.4.0\n",
      "\u001b[32m✔\u001b[39m \u001b[34mreadr  \u001b[39m 1.4.0     \u001b[32m✔\u001b[39m \u001b[34mforcats\u001b[39m 0.5.1\n",
      "\n",
      "── \u001b[1mConflicts\u001b[22m ────────────────────────────────────────── tidyverse_conflicts() ──\n",
      "\u001b[31m✖\u001b[39m \u001b[34mdplyr\u001b[39m::\u001b[32mfilter()\u001b[39m masks \u001b[34mstats\u001b[39m::filter()\n",
      "\u001b[31m✖\u001b[39m \u001b[34mdplyr\u001b[39m::\u001b[32mlag()\u001b[39m    masks \u001b[34mstats\u001b[39m::lag()\n",
      "\n",
      "For binary classification, the first factor level is assumed to be the event.\n",
      "Use the argument `event_level = \"second\"` to alter this as needed.\n",
      "\n",
      "\n",
      "Attaching package: ‘yardstick’\n",
      "\n",
      "\n",
      "The following object is masked from ‘package:readr’:\n",
      "\n",
      "    spec\n",
      "\n",
      "\n"
     ]
    }
   ],
   "source": [
    "library(tidyverse)\n",
    "library(yardstick)"
   ]
  },
  {
   "cell_type": "code",
   "execution_count": 2,
   "id": "26552136",
   "metadata": {},
   "outputs": [],
   "source": [
    "# # Old performance reporting\n",
    "# options(warn=-1)\n",
    "# predDir <- '/home/jupyter/Domains_202003/data/output/dp_predictions/'\n",
    "# rf_preds <- readRDS(paste0(predDir, 'baseline_predictions.RDS'))\n",
    "# rf_seg_preds <- readRDS(paste0(predDir, 'ranger_seg.RDS'))\n",
    "# rf_seg2_preds <- readRDS(paste0(predDir, 'ranger_seg2.RDS'))\n",
    "# group_preds <- readRDS(paste0(predDir, 'baseline_grouping_predictions.RDS'))"
   ]
  },
  {
   "cell_type": "code",
   "execution_count": 17,
   "id": "aeaa1114",
   "metadata": {},
   "outputs": [
    {
     "ename": "ERROR",
     "evalue": "Error in readChar(con, 5L, useBytes = TRUE): cannot open the connection\n",
     "output_type": "error",
     "traceback": [
      "Error in readChar(con, 5L, useBytes = TRUE): cannot open the connection\nTraceback:\n",
      "1. load(\"/home/jupyter/Domains_202003/data/output/dp_models_20201104/preds_test/preds_agg_glm_ALL.RData\")",
      "2. readChar(con, 5L, useBytes = TRUE)"
     ]
    }
   ],
   "source": [
    "load(\"/home/jupyter/Domains_202003/data/output/dp_models_20201104_/preds_test/preds_agg_glm_ALL.RData\")"
   ]
  },
  {
   "cell_type": "code",
   "execution_count": 18,
   "id": "a8abfba6",
   "metadata": {},
   "outputs": [
    {
     "name": "stdout",
     "output_type": "stream",
     "text": [
      "[1] 919586     64\n"
     ]
    },
    {
     "data": {
      "text/html": [
       "<table class=\"dataframe\">\n",
       "<caption>A data.frame: 6 × 64</caption>\n",
       "<thead>\n",
       "\t<tr><th></th><th scope=col>domain</th><th scope=col>domain_id</th><th scope=col>renewed_count</th><th scope=col>renewal_type</th><th scope=col>expiry_date</th><th scope=col>creation_date</th><th scope=col>creation_time</th><th scope=col>tld</th><th scope=col>registrar</th><th scope=col>reseller</th><th scope=col>⋯</th><th scope=col>pred_seg2_glm_ALL</th><th scope=col>pred_seg_glm_ALL</th><th scope=col>pred_seg_rf_ALL</th><th scope=col>pred_seg2_rf_ALL</th><th scope=col>l10_best_model</th><th scope=col>pred_meta_l10</th><th scope=col>auc_best_model</th><th scope=col>pred_meta_auc</th><th scope=col>mape_best_model</th><th scope=col>pred_meta_mape</th></tr>\n",
       "\t<tr><th></th><th scope=col>&lt;fct&gt;</th><th scope=col>&lt;int&gt;</th><th scope=col>&lt;int&gt;</th><th scope=col>&lt;fct&gt;</th><th scope=col>&lt;fct&gt;</th><th scope=col>&lt;fct&gt;</th><th scope=col>&lt;fct&gt;</th><th scope=col>&lt;fct&gt;</th><th scope=col>&lt;fct&gt;</th><th scope=col>&lt;fct&gt;</th><th scope=col>⋯</th><th scope=col>&lt;dbl&gt;</th><th scope=col>&lt;dbl&gt;</th><th scope=col>&lt;dbl&gt;</th><th scope=col>&lt;dbl&gt;</th><th scope=col>&lt;fct&gt;</th><th scope=col>&lt;dbl&gt;</th><th scope=col>&lt;fct&gt;</th><th scope=col>&lt;dbl&gt;</th><th scope=col>&lt;fct&gt;</th><th scope=col>&lt;dbl&gt;</th></tr>\n",
       "</thead>\n",
       "<tbody>\n",
       "\t<tr><th scope=row>1</th><td>immeo.tech           </td><td>137308830</td><td>1</td><td>FirstTime</td><td>2020-10-25</td><td>2019-10-25</td><td>2019-10-25 02:23:49</td><td>tech</td><td>CSL</td><td>CSL</td><td>⋯</td><td>0.007</td><td>0.003</td><td>0.1952172</td><td>0.22720395</td><td>pred_agg_glm_ALL</td><td>0.320</td><td>pred_seg_glm_ALL</td><td>0.003</td><td>pred_seg_rf_ALL</td><td>0.1952172</td></tr>\n",
       "\t<tr><th scope=row>2</th><td>unitedlinesgroup.tech</td><td>137712590</td><td>1</td><td>FirstTime</td><td>2020-10-27</td><td>2019-10-27</td><td>2019-10-27 13:19:15</td><td>tech</td><td>CSL</td><td>CSL</td><td>⋯</td><td>0.001</td><td>0.003</td><td>0.3091089</td><td>0.31140437</td><td>pred_agg_glm_ALL</td><td>0.371</td><td>pred_seg_glm_ALL</td><td>0.003</td><td>pred_seg_rf_ALL</td><td>0.3091089</td></tr>\n",
       "\t<tr><th scope=row>3</th><td>torsbo.tech          </td><td>137863570</td><td>1</td><td>FirstTime</td><td>2020-10-28</td><td>2019-10-28</td><td>2019-10-28 22:31:39</td><td>tech</td><td>CSL</td><td>CSL</td><td>⋯</td><td>0.000</td><td>0.000</td><td>0.1571547</td><td>0.31257162</td><td>pred_agg_glm_ALL</td><td>0.344</td><td>pred_seg_glm_ALL</td><td>0.000</td><td>pred_seg_rf_ALL</td><td>0.1571547</td></tr>\n",
       "\t<tr><th scope=row>4</th><td>bestform.tech        </td><td>138683110</td><td>1</td><td>FirstTime</td><td>2020-10-31</td><td>2019-10-31</td><td>2019-10-31 09:32:31</td><td>tech</td><td>CSL</td><td>CSL</td><td>⋯</td><td>0.000</td><td>0.000</td><td>0.1479771</td><td>0.09338231</td><td>pred_agg_glm_ALL</td><td>0.223</td><td>pred_seg_glm_ALL</td><td>0.000</td><td>pred_seg_rf_ALL</td><td>0.1479771</td></tr>\n",
       "\t<tr><th scope=row>5</th><td>marouf.tech          </td><td>139110540</td><td>1</td><td>FirstTime</td><td>2020-11-02</td><td>2019-11-02</td><td>2019-11-02 11:28:55</td><td>tech</td><td>CSL</td><td>CSL</td><td>⋯</td><td>0.001</td><td>0.305</td><td>0.1632089</td><td>0.18113906</td><td>pred_agg_glm_ALL</td><td>0.496</td><td>pred_seg_glm_ALL</td><td>0.305</td><td>pred_seg_rf_ALL</td><td>0.1632089</td></tr>\n",
       "\t<tr><th scope=row>6</th><td>fundland.tech        </td><td>139203275</td><td>1</td><td>FirstTime</td><td>2020-11-03</td><td>2019-11-03</td><td>2019-11-03 07:37:23</td><td>tech</td><td>CSL</td><td>CSL</td><td>⋯</td><td>0.001</td><td>0.060</td><td>0.1635743</td><td>0.08184104</td><td>pred_agg_glm_ALL</td><td>0.287</td><td>pred_seg_glm_ALL</td><td>0.060</td><td>pred_seg_rf_ALL</td><td>0.1635743</td></tr>\n",
       "</tbody>\n",
       "</table>\n"
      ],
      "text/latex": [
       "A data.frame: 6 × 64\n",
       "\\begin{tabular}{r|lllllllllllllllllllll}\n",
       "  & domain & domain\\_id & renewed\\_count & renewal\\_type & expiry\\_date & creation\\_date & creation\\_time & tld & registrar & reseller & ⋯ & pred\\_seg2\\_glm\\_ALL & pred\\_seg\\_glm\\_ALL & pred\\_seg\\_rf\\_ALL & pred\\_seg2\\_rf\\_ALL & l10\\_best\\_model & pred\\_meta\\_l10 & auc\\_best\\_model & pred\\_meta\\_auc & mape\\_best\\_model & pred\\_meta\\_mape\\\\\n",
       "  & <fct> & <int> & <int> & <fct> & <fct> & <fct> & <fct> & <fct> & <fct> & <fct> & ⋯ & <dbl> & <dbl> & <dbl> & <dbl> & <fct> & <dbl> & <fct> & <dbl> & <fct> & <dbl>\\\\\n",
       "\\hline\n",
       "\t1 & immeo.tech            & 137308830 & 1 & FirstTime & 2020-10-25 & 2019-10-25 & 2019-10-25 02:23:49 & tech & CSL & CSL & ⋯ & 0.007 & 0.003 & 0.1952172 & 0.22720395 & pred\\_agg\\_glm\\_ALL & 0.320 & pred\\_seg\\_glm\\_ALL & 0.003 & pred\\_seg\\_rf\\_ALL & 0.1952172\\\\\n",
       "\t2 & unitedlinesgroup.tech & 137712590 & 1 & FirstTime & 2020-10-27 & 2019-10-27 & 2019-10-27 13:19:15 & tech & CSL & CSL & ⋯ & 0.001 & 0.003 & 0.3091089 & 0.31140437 & pred\\_agg\\_glm\\_ALL & 0.371 & pred\\_seg\\_glm\\_ALL & 0.003 & pred\\_seg\\_rf\\_ALL & 0.3091089\\\\\n",
       "\t3 & torsbo.tech           & 137863570 & 1 & FirstTime & 2020-10-28 & 2019-10-28 & 2019-10-28 22:31:39 & tech & CSL & CSL & ⋯ & 0.000 & 0.000 & 0.1571547 & 0.31257162 & pred\\_agg\\_glm\\_ALL & 0.344 & pred\\_seg\\_glm\\_ALL & 0.000 & pred\\_seg\\_rf\\_ALL & 0.1571547\\\\\n",
       "\t4 & bestform.tech         & 138683110 & 1 & FirstTime & 2020-10-31 & 2019-10-31 & 2019-10-31 09:32:31 & tech & CSL & CSL & ⋯ & 0.000 & 0.000 & 0.1479771 & 0.09338231 & pred\\_agg\\_glm\\_ALL & 0.223 & pred\\_seg\\_glm\\_ALL & 0.000 & pred\\_seg\\_rf\\_ALL & 0.1479771\\\\\n",
       "\t5 & marouf.tech           & 139110540 & 1 & FirstTime & 2020-11-02 & 2019-11-02 & 2019-11-02 11:28:55 & tech & CSL & CSL & ⋯ & 0.001 & 0.305 & 0.1632089 & 0.18113906 & pred\\_agg\\_glm\\_ALL & 0.496 & pred\\_seg\\_glm\\_ALL & 0.305 & pred\\_seg\\_rf\\_ALL & 0.1632089\\\\\n",
       "\t6 & fundland.tech         & 139203275 & 1 & FirstTime & 2020-11-03 & 2019-11-03 & 2019-11-03 07:37:23 & tech & CSL & CSL & ⋯ & 0.001 & 0.060 & 0.1635743 & 0.08184104 & pred\\_agg\\_glm\\_ALL & 0.287 & pred\\_seg\\_glm\\_ALL & 0.060 & pred\\_seg\\_rf\\_ALL & 0.1635743\\\\\n",
       "\\end{tabular}\n"
      ],
      "text/markdown": [
       "\n",
       "A data.frame: 6 × 64\n",
       "\n",
       "| <!--/--> | domain &lt;fct&gt; | domain_id &lt;int&gt; | renewed_count &lt;int&gt; | renewal_type &lt;fct&gt; | expiry_date &lt;fct&gt; | creation_date &lt;fct&gt; | creation_time &lt;fct&gt; | tld &lt;fct&gt; | registrar &lt;fct&gt; | reseller &lt;fct&gt; | ⋯ ⋯ | pred_seg2_glm_ALL &lt;dbl&gt; | pred_seg_glm_ALL &lt;dbl&gt; | pred_seg_rf_ALL &lt;dbl&gt; | pred_seg2_rf_ALL &lt;dbl&gt; | l10_best_model &lt;fct&gt; | pred_meta_l10 &lt;dbl&gt; | auc_best_model &lt;fct&gt; | pred_meta_auc &lt;dbl&gt; | mape_best_model &lt;fct&gt; | pred_meta_mape &lt;dbl&gt; |\n",
       "|---|---|---|---|---|---|---|---|---|---|---|---|---|---|---|---|---|---|---|---|---|---|\n",
       "| 1 | immeo.tech            | 137308830 | 1 | FirstTime | 2020-10-25 | 2019-10-25 | 2019-10-25 02:23:49 | tech | CSL | CSL | ⋯ | 0.007 | 0.003 | 0.1952172 | 0.22720395 | pred_agg_glm_ALL | 0.320 | pred_seg_glm_ALL | 0.003 | pred_seg_rf_ALL | 0.1952172 |\n",
       "| 2 | unitedlinesgroup.tech | 137712590 | 1 | FirstTime | 2020-10-27 | 2019-10-27 | 2019-10-27 13:19:15 | tech | CSL | CSL | ⋯ | 0.001 | 0.003 | 0.3091089 | 0.31140437 | pred_agg_glm_ALL | 0.371 | pred_seg_glm_ALL | 0.003 | pred_seg_rf_ALL | 0.3091089 |\n",
       "| 3 | torsbo.tech           | 137863570 | 1 | FirstTime | 2020-10-28 | 2019-10-28 | 2019-10-28 22:31:39 | tech | CSL | CSL | ⋯ | 0.000 | 0.000 | 0.1571547 | 0.31257162 | pred_agg_glm_ALL | 0.344 | pred_seg_glm_ALL | 0.000 | pred_seg_rf_ALL | 0.1571547 |\n",
       "| 4 | bestform.tech         | 138683110 | 1 | FirstTime | 2020-10-31 | 2019-10-31 | 2019-10-31 09:32:31 | tech | CSL | CSL | ⋯ | 0.000 | 0.000 | 0.1479771 | 0.09338231 | pred_agg_glm_ALL | 0.223 | pred_seg_glm_ALL | 0.000 | pred_seg_rf_ALL | 0.1479771 |\n",
       "| 5 | marouf.tech           | 139110540 | 1 | FirstTime | 2020-11-02 | 2019-11-02 | 2019-11-02 11:28:55 | tech | CSL | CSL | ⋯ | 0.001 | 0.305 | 0.1632089 | 0.18113906 | pred_agg_glm_ALL | 0.496 | pred_seg_glm_ALL | 0.305 | pred_seg_rf_ALL | 0.1632089 |\n",
       "| 6 | fundland.tech         | 139203275 | 1 | FirstTime | 2020-11-03 | 2019-11-03 | 2019-11-03 07:37:23 | tech | CSL | CSL | ⋯ | 0.001 | 0.060 | 0.1635743 | 0.08184104 | pred_agg_glm_ALL | 0.287 | pred_seg_glm_ALL | 0.060 | pred_seg_rf_ALL | 0.1635743 |\n",
       "\n"
      ],
      "text/plain": [
       "  domain                domain_id renewed_count renewal_type expiry_date\n",
       "1 immeo.tech            137308830 1             FirstTime    2020-10-25 \n",
       "2 unitedlinesgroup.tech 137712590 1             FirstTime    2020-10-27 \n",
       "3 torsbo.tech           137863570 1             FirstTime    2020-10-28 \n",
       "4 bestform.tech         138683110 1             FirstTime    2020-10-31 \n",
       "5 marouf.tech           139110540 1             FirstTime    2020-11-02 \n",
       "6 fundland.tech         139203275 1             FirstTime    2020-11-03 \n",
       "  creation_date creation_time       tld  registrar reseller ⋯ pred_seg2_glm_ALL\n",
       "1 2019-10-25    2019-10-25 02:23:49 tech CSL       CSL      ⋯ 0.007            \n",
       "2 2019-10-27    2019-10-27 13:19:15 tech CSL       CSL      ⋯ 0.001            \n",
       "3 2019-10-28    2019-10-28 22:31:39 tech CSL       CSL      ⋯ 0.000            \n",
       "4 2019-10-31    2019-10-31 09:32:31 tech CSL       CSL      ⋯ 0.000            \n",
       "5 2019-11-02    2019-11-02 11:28:55 tech CSL       CSL      ⋯ 0.001            \n",
       "6 2019-11-03    2019-11-03 07:37:23 tech CSL       CSL      ⋯ 0.001            \n",
       "  pred_seg_glm_ALL pred_seg_rf_ALL pred_seg2_rf_ALL l10_best_model  \n",
       "1 0.003            0.1952172       0.22720395       pred_agg_glm_ALL\n",
       "2 0.003            0.3091089       0.31140437       pred_agg_glm_ALL\n",
       "3 0.000            0.1571547       0.31257162       pred_agg_glm_ALL\n",
       "4 0.000            0.1479771       0.09338231       pred_agg_glm_ALL\n",
       "5 0.305            0.1632089       0.18113906       pred_agg_glm_ALL\n",
       "6 0.060            0.1635743       0.08184104       pred_agg_glm_ALL\n",
       "  pred_meta_l10 auc_best_model   pred_meta_auc mape_best_model pred_meta_mape\n",
       "1 0.320         pred_seg_glm_ALL 0.003         pred_seg_rf_ALL 0.1952172     \n",
       "2 0.371         pred_seg_glm_ALL 0.003         pred_seg_rf_ALL 0.3091089     \n",
       "3 0.344         pred_seg_glm_ALL 0.000         pred_seg_rf_ALL 0.1571547     \n",
       "4 0.223         pred_seg_glm_ALL 0.000         pred_seg_rf_ALL 0.1479771     \n",
       "5 0.496         pred_seg_glm_ALL 0.305         pred_seg_rf_ALL 0.1632089     \n",
       "6 0.287         pred_seg_glm_ALL 0.060         pred_seg_rf_ALL 0.1635743     "
      ]
     },
     "metadata": {},
     "output_type": "display_data"
    }
   ],
   "source": [
    "options(warn=-1)\n",
    "df <- read.csv('/home/jupyter/Domains_202003/data/output/dp_models_20201104_all/preds/preds_test_with_meta.csv')\n",
    "print(dim(df))\n",
    "head(df)"
   ]
  },
  {
   "cell_type": "code",
   "execution_count": 19,
   "id": "18b43114",
   "metadata": {},
   "outputs": [
    {
     "data": {
      "text/plain": [
       "         \n",
       "          1&1 Internet Alibaba Alibaba SG Ascio Automattic Beget Bizcn\n",
       "  fun               18   25258        212     2          7   705     7\n",
       "  host               1       0          0     0          6   199     2\n",
       "  online          3479    5369        372   456        182  5065    22\n",
       "  press              0    4901        523     0         60     8     0\n",
       "  site             291   39199        872   127         21  4364    88\n",
       "  space             61    1261        494     0         22   924     1\n",
       "  store            550   24084        194   340         19    52    44\n",
       "  tech             159    1915        871   210         32    20     8\n",
       "  website           72    1218        473     4          8   334     0\n",
       "         \n",
       "          CHENGDU WEST Crazy Domains Cronon AG   CSL Domain.com - Registrar\n",
       "  fun             5221             3         9    26                     22\n",
       "  host            1186             0         0     0                     37\n",
       "  online          4169         15574      1327    91                    769\n",
       "  press           1282             0         1     0                     28\n",
       "  site           19384             4         7    99                    314\n",
       "  space            874             6       274    52                    725\n",
       "  store           5566           158       560    50                    515\n",
       "  tech            3524           107       394    26                   1088\n",
       "  website          225             3         4    55                    340\n",
       "         \n",
       "          Dotserve Inc Dynadot  eNom Euro DNS   FBS Gabia Gandi SAS\n",
       "  fun                0     719   216        0    29    45        48\n",
       "  host             180      95     3        0    19     0        83\n",
       "  online            35    3085  3044       75   160   191       189\n",
       "  press              4       0     3        0    43     0        18\n",
       "  site            1726    3166   949       69  1825   547     15416\n",
       "  space           1019    2188   810      250    73    69       529\n",
       "  store            230     588  1113       55    14   226        48\n",
       "  tech            3031      93   423       80    30     3       250\n",
       "  website            0     457   702     1876    56    34       380\n",
       "         \n",
       "          Global Domains   GMO Go Daddy Google Hosting Concepts Hosting Ukraine\n",
       "  fun                 66  1150     1419    587               31            2025\n",
       "  host                49    16      373     20                0               0\n",
       "  online              41  3437    28412    499              328             294\n",
       "  press                1    28      107     74                0               0\n",
       "  site                93 83572    31741    474              646             831\n",
       "  space               52  1957    11399    279               46            3003\n",
       "  store                1     2     8482    421               35             389\n",
       "  tech                18  1216     2441    395               11             104\n",
       "  website            112   482     4123    181              349             190\n",
       "         \n",
       "          Hostinger Instra Corporation Jogjacamp Key-Systems Ledl.net\n",
       "  fun             0                  8         0          28       11\n",
       "  host            0                  0         0           2        0\n",
       "  online      13079                323       329        1329       36\n",
       "  press           0                  0         0           3        0\n",
       "  site         5779                 12       219         561        6\n",
       "  space        2153                 14         7         182        6\n",
       "  store        1414                 58         1         202        8\n",
       "  tech         6551                 92         0         184       15\n",
       "  website      1156                  5         8         538        8\n",
       "         \n",
       "          Ligne Web Services Mat Bao Mesh Digital Metaregistrar Name.com\n",
       "  fun                     44      31           11            10      106\n",
       "  host                     0       0            4             5        5\n",
       "  online                 201     517          583           239     4637\n",
       "  press                    0       1            5            10        4\n",
       "  site                   375     365           92            23     2331\n",
       "  space                   54       1           38            11      158\n",
       "  store                   24     356           62           107     1229\n",
       "  tech                    25      43           68             4      407\n",
       "  website                 16      77           43            10      109\n",
       "         \n",
       "          Namecheap NameSilo Network Solutions Nics Telekom Onlinenic   OVH\n",
       "  fun          5068      420                20            0         0   256\n",
       "  host        10314        0                 3            0         1     3\n",
       "  online      26102     2523              8415         1110       105  2704\n",
       "  press        2345        0                 1            0         1     3\n",
       "  site        73238     3506              6366         1085      1459  6321\n",
       "  space       10101     1366               170           51        53  1170\n",
       "  store        8449      347               893          173         5  1027\n",
       "  tech         7309      262                33           39         5  1448\n",
       "  website     15584      933                90            1         9   676\n",
       "         \n",
       "          P.A Viet Nam PDR Ltd Porkbun Realtime Register REG.RU Regtime Ltd\n",
       "  fun               32    6429      39                 1  10658           0\n",
       "  host               1     145      26                 0   6349           0\n",
       "  online           569    8712     709              8339  11359           4\n",
       "  press              1      21      16                 0    380           0\n",
       "  site              18   39889     291              3094  31690           1\n",
       "  space              0    3380      43                28   8072           0\n",
       "  store            201    1304      72                98   1486           5\n",
       "  tech               7    2396      78                20    423           2\n",
       "  website          103    1333      31                15   6401           0\n",
       "         \n",
       "          RU-CENTER Rumahweb Shanghai Meicheng Soluciones Corporativas\n",
       "  fun            26        5                15                       2\n",
       "  host            0        0                 1                       0\n",
       "  online       1573       81                72                    2641\n",
       "  press          16        0                 2                       0\n",
       "  site          124      232                58                     242\n",
       "  space         246        3                 3                      75\n",
       "  store         308      222                48                      80\n",
       "  tech          401       73                13                      52\n",
       "  website        16       13                 2                       0\n",
       "         \n",
       "          TLD Registrar Solns Tucows Uniregistrar United Domains URL Solutions\n",
       "  fun                       0     97          144             10          1045\n",
       "  host                      0      7            0              1             0\n",
       "  online                  418   5015          129            937          1174\n",
       "  press                     1      9            0              1             0\n",
       "  site                    284    437          272              0          9222\n",
       "  space                     6    619          143             26          2181\n",
       "  store                    25   4120           94            161           821\n",
       "  tech                     27    582            9              8           793\n",
       "  website                 234    218         1413              0          1457\n",
       "         \n",
       "          Web Commerce Comm West263 International Xiamen ChinaSource Xin Net\n",
       "  fun                     0                     7                102     868\n",
       "  host                    3                     0                  1       4\n",
       "  online                843                  1243                183    1062\n",
       "  press                   0                     7                  6       0\n",
       "  site                  664                 12361               3111    4784\n",
       "  space                  17                    24                  7     322\n",
       "  store                 117                    30                 85      79\n",
       "  tech                   38                   177                539      74\n",
       "  website                41                     0                  1       8\n",
       "         \n",
       "          Zhengzhou Century Connect\n",
       "  fun                          1172\n",
       "  host                           11\n",
       "  online                        351\n",
       "  press                           0\n",
       "  site                        21926\n",
       "  space                           1\n",
       "  store                           4\n",
       "  tech                           30\n",
       "  website                         0"
      ]
     },
     "metadata": {},
     "output_type": "display_data"
    }
   ],
   "source": [
    "table(df$tld, df$registrar)"
   ]
  },
  {
   "cell_type": "code",
   "execution_count": 20,
   "id": "058e2be2",
   "metadata": {},
   "outputs": [
    {
     "data": {
      "text/html": [
       "<style>\n",
       ".list-inline {list-style: none; margin:0; padding: 0}\n",
       ".list-inline>li {display: inline-block}\n",
       ".list-inline>li:not(:last-child)::after {content: \"\\00b7\"; padding: 0 .5ex}\n",
       "</style>\n",
       "<ol class=list-inline><li>'pred_agg_rf_ALL'</li><li>'pred_agg_glm_ALL'</li><li>'pred_seg2_glm_ALL'</li><li>'pred_seg_glm_ALL'</li><li>'pred_seg_rf_ALL'</li><li>'pred_seg2_rf_ALL'</li><li>'pred_meta_l10'</li><li>'pred_meta_auc'</li><li>'pred_meta_mape'</li></ol>\n"
      ],
      "text/latex": [
       "\\begin{enumerate*}\n",
       "\\item 'pred\\_agg\\_rf\\_ALL'\n",
       "\\item 'pred\\_agg\\_glm\\_ALL'\n",
       "\\item 'pred\\_seg2\\_glm\\_ALL'\n",
       "\\item 'pred\\_seg\\_glm\\_ALL'\n",
       "\\item 'pred\\_seg\\_rf\\_ALL'\n",
       "\\item 'pred\\_seg2\\_rf\\_ALL'\n",
       "\\item 'pred\\_meta\\_l10'\n",
       "\\item 'pred\\_meta\\_auc'\n",
       "\\item 'pred\\_meta\\_mape'\n",
       "\\end{enumerate*}\n"
      ],
      "text/markdown": [
       "1. 'pred_agg_rf_ALL'\n",
       "2. 'pred_agg_glm_ALL'\n",
       "3. 'pred_seg2_glm_ALL'\n",
       "4. 'pred_seg_glm_ALL'\n",
       "5. 'pred_seg_rf_ALL'\n",
       "6. 'pred_seg2_rf_ALL'\n",
       "7. 'pred_meta_l10'\n",
       "8. 'pred_meta_auc'\n",
       "9. 'pred_meta_mape'\n",
       "\n",
       "\n"
      ],
      "text/plain": [
       "[1] \"pred_agg_rf_ALL\"   \"pred_agg_glm_ALL\"  \"pred_seg2_glm_ALL\"\n",
       "[4] \"pred_seg_glm_ALL\"  \"pred_seg_rf_ALL\"   \"pred_seg2_rf_ALL\" \n",
       "[7] \"pred_meta_l10\"     \"pred_meta_auc\"     \"pred_meta_mape\"   "
      ]
     },
     "metadata": {},
     "output_type": "display_data"
    }
   ],
   "source": [
    "pred_cols <- names(df)[grepl( \"^pred_\" , names(df))]\n",
    "pred_cols"
   ]
  },
  {
   "cell_type": "code",
   "execution_count": 24,
   "id": "670e100e",
   "metadata": {},
   "outputs": [],
   "source": [
    "# df[,\"target\"] <- as.integer(df$renewal_status == \"Renewed\")\n",
    "df[,\"target\"] <- as.integer(df$renewal_status)"
   ]
  },
  {
   "cell_type": "code",
   "execution_count": 60,
   "id": "8e42f7b4",
   "metadata": {},
   "outputs": [],
   "source": [
    "# Helper metrics\n",
    "l10_vec <- function(pred_vec, target_vec, p=0.10) {\n",
    "    # Convert from factor to binary\n",
    "    target_vec <- as.integer(target_vec)\n",
    "    \n",
    "    # Drop missing\n",
    "    non_missing <- !is.na(pred_vec)\n",
    "    pred_vec <- pred_vec[non_missing]\n",
    "    target_vec <- target_vec[non_missing]\n",
    "    \n",
    "    # Get prevalence\n",
    "    prop <- mean(target_vec)\n",
    "    \n",
    "    # Calculate number returned at specified proportion\n",
    "    n_rows <- max(round(p * length(pred_vec)), 1)\n",
    "    argsort <- order(desc(pred_vec))\n",
    "    l10_prop <- mean(target_vec[argsort][1:n_rows])\n",
    "    \n",
    "    # Return lift at 10%\n",
    "    return(ifelse(prop == 0, 0, l10_prop / prop))\n",
    "}"
   ]
  },
  {
   "cell_type": "code",
   "execution_count": 63,
   "id": "7cfd06ef",
   "metadata": {},
   "outputs": [],
   "source": [
    "augc_vec <- function (pred_vec, target_vec) {\n",
    "    # Convert from factor to binary\n",
    "    target_vec <- as.integer(target_vec)\n",
    "    \n",
    "    # Drop missing\n",
    "    non_missing <- !is.na(pred_vec)\n",
    "    pred_vec <- pred_vec[non_missing]\n",
    "    target_vec <- target_vec[non_missing]    \n",
    "    \n",
    "    actu_renwd <- sum(target_vec)\n",
    "    if (actu_renwd > 0) {\n",
    "        argsort <- order(desc(pred_vec))\n",
    "        cs <- cumsum(target_vec[argsort])\n",
    "        gain <- cs / actu_renwd\n",
    "        auc <- sum(gain) / length(pred_vec)\n",
    "    } else {\n",
    "        auc = 0\n",
    "    }\n",
    "    auc\n",
    "}"
   ]
  },
  {
   "cell_type": "code",
   "execution_count": 64,
   "id": "9b206e7a",
   "metadata": {},
   "outputs": [
    {
     "data": {
      "text/html": [
       "0.654320987654321"
      ],
      "text/latex": [
       "0.654320987654321"
      ],
      "text/markdown": [
       "0.654320987654321"
      ],
      "text/plain": [
       "[1] 0.654321"
      ]
     },
     "metadata": {},
     "output_type": "display_data"
    }
   ],
   "source": [
    "tmp = df[df$tld_registrar_index == \"fun1&1 internet\",]\n",
    "augc_vec(tmp$pred_agg_glm_ALL, tmp$target)"
   ]
  },
  {
   "cell_type": "code",
   "execution_count": 65,
   "id": "67cae98d",
   "metadata": {},
   "outputs": [],
   "source": [
    "eval_preds <- function(test, col) {\n",
    "    test$target = as.factor(test$target)\n",
    "    test %>% group_by(tld_registrar_index) %>%\n",
    "        summarise(roc_auc = roc_auc_vec(get(col), truth=target, event_level = \"second\"),\n",
    "                  log_loss = mn_log_loss_vec(get(col), truth=target, event_level = \"second\"),\n",
    "                  mape = mape_vec(sum(as.numeric(target) - 1), sum(get(col))),\n",
    "                  l10 = l10_vec(pred_vec=get(col), target_vec=target),\n",
    "                  augc = augc_vec(pred_vec=get(col), target_vec=target),\n",
    "                  average_precision = average_precision_vec(get(col), truth=target, event_level = \"second\"),\n",
    "                  specificity = specificity_vec(factor(round(get(col)), levels=c(0,1)), truth=target, event_level = \"second\"),\n",
    "                  sensitivity = sensitivity_vec(factor(round(get(col)), levels=c(0,1)), truth=target, event_level = \"second\"),\n",
    "                  precision = precision_vec(factor(round(get(col)), levels=c(0,1)), truth=target, event_level = \"second\"),\n",
    "                  prev = mean(as.numeric(target)) - 1,\n",
    "                  mean_pred = mean(get(col)),\n",
    "                  total_actual = sum(as.numeric(target) - 1),\n",
    "                  total_pred = sum(get(col)),\n",
    "                  n=n()) %>% arrange(desc(n))# %>% filter((registrar == \"Go Daddy\") | (registrar == \"Namecheap\"))\n",
    "}\n",
    "all_eval <- list()\n",
    "for (col in pred_cols) {\n",
    "    all_eval[[col]] <- eval_preds(df, col)\n",
    "}"
   ]
  },
  {
   "cell_type": "code",
   "execution_count": 66,
   "id": "3e93236b",
   "metadata": {},
   "outputs": [
    {
     "data": {
      "text/html": [
       "<table class=\"dataframe\">\n",
       "<caption>A tibble: 670 × 15</caption>\n",
       "<thead>\n",
       "\t<tr><th scope=col>tld_registrar_index</th><th scope=col>roc_auc</th><th scope=col>log_loss</th><th scope=col>mape</th><th scope=col>l10</th><th scope=col>augc</th><th scope=col>average_precision</th><th scope=col>specificity</th><th scope=col>sensitivity</th><th scope=col>precision</th><th scope=col>prev</th><th scope=col>mean_pred</th><th scope=col>total_actual</th><th scope=col>total_pred</th><th scope=col>n</th></tr>\n",
       "\t<tr><th scope=col>&lt;fct&gt;</th><th scope=col>&lt;dbl&gt;</th><th scope=col>&lt;dbl&gt;</th><th scope=col>&lt;dbl&gt;</th><th scope=col>&lt;dbl&gt;</th><th scope=col>&lt;dbl&gt;</th><th scope=col>&lt;dbl&gt;</th><th scope=col>&lt;dbl&gt;</th><th scope=col>&lt;dbl&gt;</th><th scope=col>&lt;dbl&gt;</th><th scope=col>&lt;dbl&gt;</th><th scope=col>&lt;dbl&gt;</th><th scope=col>&lt;dbl&gt;</th><th scope=col>&lt;dbl&gt;</th><th scope=col>&lt;int&gt;</th></tr>\n",
       "</thead>\n",
       "<tbody>\n",
       "\t<tr><td>sitegmo                      </td><td>0.9006804</td><td>0.072819485</td><td>  9.661362</td><td>1.1069638</td><td>0.5062704</td><td>0.342715417</td><td>0.9979166</td><td>0.1660290742</td><td>0.56510417</td><td>0.016043897</td><td>0.014493838</td><td>1307</td><td>1180.726</td><td>81464</td></tr>\n",
       "\t<tr><td>sitenamecheap                </td><td>0.6257433</td><td>0.110246162</td><td> 75.185958</td><td>1.0438106</td><td>0.5024266</td><td>0.058229877</td><td>0.9999861</td><td>0.0000000000</td><td>0.00000000</td><td>0.020030585</td><td>0.035090773</td><td>1467</td><td>2569.978</td><td>73238</td></tr>\n",
       "\t<tr><td>sitealibaba                  </td><td>0.9221046</td><td>0.043651354</td><td>  6.464815</td><td>1.0616332</td><td>0.5034492</td><td>0.160257135</td><td>0.9999743</td><td>0.0123456790</td><td>0.80000000</td><td>0.008265517</td><td>0.007731167</td><td> 324</td><td> 303.054</td><td>39199</td></tr>\n",
       "\t<tr><td>sitego daddy                 </td><td>0.8185395</td><td>0.177800609</td><td>  6.959034</td><td>1.1447780</td><td>0.5158289</td><td>0.187888215</td><td>0.9995664</td><td>0.0017045455</td><td>0.18750000</td><td>0.055448789</td><td>0.059307489</td><td>1760</td><td>1882.479</td><td>31741</td></tr>\n",
       "\t<tr><td>sitereg.ru                   </td><td>0.6880103</td><td>0.106139779</td><td> 50.184987</td><td>1.0580836</td><td>0.5042287</td><td>0.090217992</td><td>1.0000000</td><td>0.0000000000</td><td>        NA</td><td>0.023540549</td><td>0.035354370</td><td> 746</td><td>1120.380</td><td>31690</td></tr>\n",
       "\t<tr><td>sitepdr china                </td><td>0.7582697</td><td>0.016905140</td><td> 13.245570</td><td>1.0113105</td><td>0.5007494</td><td>0.008774414</td><td>1.0000000</td><td>0.0000000000</td><td>        NA</td><td>0.002627203</td><td>0.002279215</td><td>  79</td><td>  68.536</td><td>30070</td></tr>\n",
       "\t<tr><td>onlinego daddy               </td><td>0.7223878</td><td>0.397823837</td><td> 10.483356</td><td>1.1739428</td><td>0.5255580</td><td>0.309191283</td><td>0.9886725</td><td>0.0492424242</td><td>0.44918699</td><td>0.157961425</td><td>0.174521083</td><td>4488</td><td>4958.493</td><td>28412</td></tr>\n",
       "\t<tr><td>onlinenamecheap              </td><td>0.6501243</td><td>0.257818177</td><td> 72.023611</td><td>1.1129087</td><td>0.5090441</td><td>0.155627561</td><td>0.9979426</td><td>0.0200000000</td><td>0.41860465</td><td>0.068960233</td><td>0.118627883</td><td>1800</td><td>3096.425</td><td>26102</td></tr>\n",
       "\t<tr><td>funalibaba                   </td><td>0.9142462</td><td>0.065003143</td><td> 10.477340</td><td>1.0831437</td><td>0.5064832</td><td>0.186664957</td><td>1.0000000</td><td>0.0073891626</td><td>1.00000000</td><td>0.016074115</td><td>0.014389975</td><td> 406</td><td> 363.462</td><td>25258</td></tr>\n",
       "\t<tr><td>storealibaba                 </td><td>0.6497880</td><td>0.309227474</td><td> 14.964829</td><td>1.0792262</td><td>0.5041779</td><td>0.088232653</td><td>0.9997427</td><td>0.0039370079</td><td>0.33333333</td><td>0.031639263</td><td>0.036374024</td><td> 762</td><td> 876.032</td><td>24084</td></tr>\n",
       "\t<tr><td>sitezhengzhou century connect</td><td>       NA</td><td>0.001002921</td><td>       Inf</td><td>1.0000000</td><td>0.5000228</td><td>        NaN</td><td>1.0000000</td><td>          NA</td><td>        NA</td><td>0.000000000</td><td>0.001001733</td><td>   0</td><td>  21.964</td><td>21926</td></tr>\n",
       "\t<tr><td>sitechengdu west             </td><td>0.8887394</td><td>0.022856701</td><td>251.517188</td><td>1.0162525</td><td>0.5013007</td><td>0.047088425</td><td>1.0000000</td><td>0.0000000000</td><td>        NA</td><td>0.003301692</td><td>0.011606015</td><td>  64</td><td> 224.971</td><td>19384</td></tr>\n",
       "\t<tr><td>websitenamecheap             </td><td>0.6078491</td><td>0.310966144</td><td> 11.938791</td><td>1.0638284</td><td>0.5084609</td><td>0.137951749</td><td>0.9999291</td><td>0.0006793478</td><td>0.50000000</td><td>0.094455852</td><td>0.083178966</td><td>1472</td><td>1296.261</td><td>15584</td></tr>\n",
       "\t<tr><td>onlinecrazy domains          </td><td>0.5434177</td><td>0.613138712</td><td> 23.788159</td><td>1.0013015</td><td>0.5069907</td><td>0.313871261</td><td>0.9945647</td><td>0.0105843440</td><td>0.44444444</td><td>0.291190446</td><td>0.221921600</td><td>4535</td><td>3456.207</td><td>15574</td></tr>\n",
       "\t<tr><td>sitegandi sas                </td><td>0.9483401</td><td>0.057840606</td><td>  6.573103</td><td>1.1292117</td><td>0.5081553</td><td>0.176851803</td><td>0.9998017</td><td>0.0000000000</td><td>0.00000000</td><td>0.018811624</td><td>0.020048132</td><td> 290</td><td> 309.062</td><td>15416</td></tr>\n",
       "\t<tr><td>onlinehostinger              </td><td>0.6847261</td><td>0.210411755</td><td> 21.510940</td><td>1.0508748</td><td>0.5095097</td><td>0.115657414</td><td>0.9998289</td><td>0.0056100982</td><td>0.66666667</td><td>0.057490727</td><td>0.069857523</td><td> 713</td><td> 866.373</td><td>12402</td></tr>\n",
       "\t<tr><td>sitewest263 international    </td><td>0.9618039</td><td>0.013676015</td><td>858.221429</td><td>1.0101827</td><td>0.5005621</td><td>0.151866566</td><td>0.9998380</td><td>0.1428571429</td><td>0.50000000</td><td>0.001132594</td><td>0.010852763</td><td>  14</td><td> 134.151</td><td>12361</td></tr>\n",
       "\t<tr><td>spacego daddy                </td><td>0.8470467</td><td>0.201264968</td><td>112.963919</td><td>1.1890669</td><td>0.5175218</td><td>0.321375502</td><td>0.9958163</td><td>0.0870917574</td><td>0.55445545</td><td>0.056408457</td><td>0.120129660</td><td> 643</td><td>1369.358</td><td>11399</td></tr>\n",
       "\t<tr><td>onlinereg.ru                 </td><td>0.6611743</td><td>0.240469581</td><td>  4.689889</td><td>1.1272631</td><td>0.5099965</td><td>0.200786096</td><td>0.9997156</td><td>0.0000000000</td><td>0.00000000</td><td>0.071397130</td><td>0.074745576</td><td> 811</td><td> 849.035</td><td>11359</td></tr>\n",
       "\t<tr><td>funreg.ru                    </td><td>0.7606723</td><td>0.056373419</td><td>598.891803</td><td>1.0157624</td><td>0.5015214</td><td>0.068500853</td><td>1.0000000</td><td>0.0163934426</td><td>1.00000000</td><td>0.005723400</td><td>0.040000375</td><td>  61</td><td> 426.324</td><td>10658</td></tr>\n",
       "\t<tr><td>hostnamecheap                </td><td>0.7806502</td><td>0.107225937</td><td>  8.437643</td><td>1.0857950</td><td>0.5068185</td><td>0.127792355</td><td>1.0000000</td><td>0.0000000000</td><td>        NA</td><td>0.025499321</td><td>0.027650863</td><td> 263</td><td> 285.191</td><td>10314</td></tr>\n",
       "\t<tr><td>spacenamecheap               </td><td>0.7655173</td><td>0.188666426</td><td> 74.950579</td><td>1.1414634</td><td>0.5123414</td><td>0.205541930</td><td>0.9994782</td><td>0.0212355212</td><td>0.68750000</td><td>0.051282051</td><td>0.089718246</td><td> 518</td><td> 906.244</td><td>10101</td></tr>\n",
       "\t<tr><td>siteurl solutions            </td><td>0.6834520</td><td>0.020461077</td><td>396.915000</td><td>1.0043295</td><td>0.5004563</td><td>0.053948046</td><td>1.0000000</td><td>0.0000000000</td><td>        NA</td><td>0.002168727</td><td>0.010776730</td><td>  20</td><td>  99.383</td><td> 9222</td></tr>\n",
       "\t<tr><td>storego daddy                </td><td>0.6230478</td><td>0.616412343</td><td> 15.942495</td><td>1.1339030</td><td>0.5204386</td><td>0.422985417</td><td>0.9504985</td><td>0.1045207957</td><td>0.50524476</td><td>0.325984438</td><td>0.274014383</td><td>2765</td><td>2324.190</td><td> 8482</td></tr>\n",
       "\t<tr><td>storenamecheap               </td><td>0.6933971</td><td>0.329523158</td><td>106.647748</td><td>1.0826813</td><td>0.5148621</td><td>0.170207107</td><td>0.9908759</td><td>0.0398970399</td><td>0.30693069</td><td>0.091963546</td><td>0.190040597</td><td> 777</td><td>1605.653</td><td> 8449</td></tr>\n",
       "\t<tr><td>onlineversio                 </td><td>0.4399458</td><td>0.417962099</td><td>107.589201</td><td>0.9582417</td><td>0.4947557</td><td>0.096187349</td><td>0.9730608</td><td>0.0086393089</td><td>0.03864734</td><td>0.111391796</td><td>0.231237339</td><td> 926</td><td>1922.276</td><td> 8313</td></tr>\n",
       "\t<tr><td>spacereg.ru                  </td><td>0.7203288</td><td>0.109914385</td><td>252.908784</td><td>1.0367532</td><td>0.5039533</td><td>0.077142942</td><td>1.0000000</td><td>0.0000000000</td><td>        NA</td><td>0.018334985</td><td>0.064705773</td><td> 148</td><td> 522.305</td><td> 8072</td></tr>\n",
       "\t<tr><td>technamecheap                </td><td>0.7131592</td><td>0.373981907</td><td>126.142219</td><td>1.1798707</td><td>0.5184953</td><td>0.264764935</td><td>0.9486590</td><td>0.2066326531</td><td>0.32595573</td><td>0.107265016</td><td>0.242571487</td><td> 784</td><td>1772.955</td><td> 7309</td></tr>\n",
       "\t<tr><td>onlinenetwork solutions      </td><td>0.5441424</td><td>0.498586667</td><td> 25.057232</td><td>1.1206203</td><td>0.5057190</td><td>0.248021300</td><td>0.9399681</td><td>0.1415168100</td><td>0.34807692</td><td>0.184666474</td><td>0.230938781</td><td>1279</td><td>1599.482</td><td> 6926</td></tr>\n",
       "\t<tr><td>techhostinger                </td><td>0.7270223</td><td>0.209583606</td><td>122.964134</td><td>1.0789499</td><td>0.5104401</td><td>0.137392896</td><td>0.9985451</td><td>0.0212765957</td><td>0.43750000</td><td>0.050498849</td><td>0.112594321</td><td> 329</td><td> 733.552</td><td> 6515</td></tr>\n",
       "\t<tr><td>⋮</td><td>⋮</td><td>⋮</td><td>⋮</td><td>⋮</td><td>⋮</td><td>⋮</td><td>⋮</td><td>⋮</td><td>⋮</td><td>⋮</td><td>⋮</td><td>⋮</td><td>⋮</td><td>⋮</td></tr>\n",
       "\t<tr><td>hostregway                    </td><td>NA</td><td>4.017383521</td><td>98.2</td><td>1</td><td>1</td><td>  1</td><td>NA</td><td> 0</td><td>NA</td><td>1</td><td>0.018</td><td>1</td><td>0.018</td><td>1</td></tr>\n",
       "\t<tr><td>hostshanghai meicheng         </td><td>NA</td><td>0.006018072</td><td> Inf</td><td>1</td><td>1</td><td>NaN</td><td> 1</td><td>NA</td><td>NA</td><td>0</td><td>0.006</td><td>0</td><td>0.006</td><td>1</td></tr>\n",
       "\t<tr><td>hostunited domains            </td><td>NA</td><td>0.274436846</td><td> Inf</td><td>1</td><td>1</td><td>NaN</td><td> 1</td><td>NA</td><td>NA</td><td>0</td><td>0.240</td><td>0</td><td>0.240</td><td>1</td></tr>\n",
       "\t<tr><td>hostxiamen chinasource        </td><td>NA</td><td>0.060812139</td><td> Inf</td><td>1</td><td>1</td><td>NaN</td><td> 1</td><td>NA</td><td>NA</td><td>0</td><td>0.059</td><td>0</td><td>0.059</td><td>1</td></tr>\n",
       "\t<tr><td>presscronon ag                </td><td>NA</td><td>0.474815186</td><td>37.8</td><td>1</td><td>1</td><td>  1</td><td>NA</td><td> 1</td><td> 1</td><td>1</td><td>0.622</td><td>1</td><td>0.622</td><td>1</td></tr>\n",
       "\t<tr><td>pressdonweb                   </td><td>NA</td><td>1.754463684</td><td>82.7</td><td>1</td><td>1</td><td>  1</td><td>NA</td><td> 0</td><td>NA</td><td>1</td><td>0.173</td><td>1</td><td>0.173</td><td>1</td></tr>\n",
       "\t<tr><td>pressglobal domains           </td><td>NA</td><td>0.066139803</td><td> Inf</td><td>1</td><td>1</td><td>NaN</td><td> 1</td><td>NA</td><td>NA</td><td>0</td><td>0.064</td><td>0</td><td>0.064</td><td>1</td></tr>\n",
       "\t<tr><td>pressmat bao                  </td><td>NA</td><td>0.027371197</td><td> Inf</td><td>1</td><td>1</td><td>NaN</td><td> 1</td><td>NA</td><td>NA</td><td>0</td><td>0.027</td><td>0</td><td>0.027</td><td>1</td></tr>\n",
       "\t<tr><td>pressnetwork solutions        </td><td>NA</td><td>1.339410775</td><td>73.8</td><td>1</td><td>1</td><td>  1</td><td>NA</td><td> 0</td><td>NA</td><td>1</td><td>0.262</td><td>1</td><td>0.262</td><td>1</td></tr>\n",
       "\t<tr><td>pressonlinenic                </td><td>NA</td><td>0.019182819</td><td> Inf</td><td>1</td><td>1</td><td>NaN</td><td> 1</td><td>NA</td><td>NA</td><td>0</td><td>0.019</td><td>0</td><td>0.019</td><td>1</td></tr>\n",
       "\t<tr><td>pressp.a viet nam             </td><td>NA</td><td>4.135166557</td><td>98.4</td><td>1</td><td>1</td><td>  1</td><td>NA</td><td> 0</td><td>NA</td><td>1</td><td>0.016</td><td>1</td><td>0.016</td><td>1</td></tr>\n",
       "\t<tr><td>pressregway                   </td><td>NA</td><td>0.290352301</td><td> Inf</td><td>1</td><td>1</td><td>NaN</td><td> 1</td><td>NA</td><td>NA</td><td>0</td><td>0.252</td><td>0</td><td>0.252</td><td>1</td></tr>\n",
       "\t<tr><td>pressshopify                  </td><td>NA</td><td>2.244316185</td><td>89.4</td><td>1</td><td>1</td><td>  1</td><td>NA</td><td> 0</td><td>NA</td><td>1</td><td>0.106</td><td>1</td><td>0.106</td><td>1</td></tr>\n",
       "\t<tr><td>presstenten                   </td><td>NA</td><td>0.007024615</td><td> Inf</td><td>1</td><td>1</td><td>NaN</td><td> 1</td><td>NA</td><td>NA</td><td>0</td><td>0.007</td><td>0</td><td>0.007</td><td>1</td></tr>\n",
       "\t<tr><td>presstld registrar solns      </td><td>NA</td><td>1.090644119</td><td>66.4</td><td>1</td><td>1</td><td>  1</td><td>NA</td><td> 0</td><td>NA</td><td>1</td><td>0.336</td><td>1</td><td>0.336</td><td>1</td></tr>\n",
       "\t<tr><td>pressunited domains           </td><td>NA</td><td>1.422958345</td><td>75.9</td><td>1</td><td>1</td><td>  1</td><td>NA</td><td> 0</td><td>NA</td><td>1</td><td>0.241</td><td>1</td><td>0.241</td><td>1</td></tr>\n",
       "\t<tr><td>presswhois                    </td><td>NA</td><td>0.095410185</td><td> Inf</td><td>1</td><td>1</td><td>NaN</td><td> 1</td><td>NA</td><td>NA</td><td>0</td><td>0.091</td><td>0</td><td>0.091</td><td>1</td></tr>\n",
       "\t<tr><td>siteregtime ltd               </td><td>NA</td><td>0.018163971</td><td> Inf</td><td>1</td><td>1</td><td>NaN</td><td> 1</td><td>NA</td><td>NA</td><td>0</td><td>0.018</td><td>0</td><td>0.018</td><td>1</td></tr>\n",
       "\t<tr><td>spacebizcn                    </td><td>NA</td><td>2.847312268</td><td>94.2</td><td>1</td><td>1</td><td>  1</td><td>NA</td><td> 0</td><td>NA</td><td>1</td><td>0.058</td><td>1</td><td>0.058</td><td>1</td></tr>\n",
       "\t<tr><td>spacehome.pl                  </td><td>NA</td><td>2.796881415</td><td>93.9</td><td>1</td><td>1</td><td>  1</td><td>NA</td><td> 0</td><td>NA</td><td>1</td><td>0.061</td><td>1</td><td>0.061</td><td>1</td></tr>\n",
       "\t<tr><td>spacehostnet.nl               </td><td>NA</td><td>0.423120043</td><td>34.5</td><td>1</td><td>1</td><td>  1</td><td>NA</td><td> 1</td><td> 1</td><td>1</td><td>0.655</td><td>1</td><td>0.655</td><td>1</td></tr>\n",
       "\t<tr><td>spacemat bao                  </td><td>NA</td><td>0.071496002</td><td> Inf</td><td>1</td><td>1</td><td>NaN</td><td> 1</td><td>NA</td><td>NA</td><td>0</td><td>0.069</td><td>0</td><td>0.069</td><td>1</td></tr>\n",
       "\t<tr><td>spacemoniker                  </td><td>NA</td><td>0.239527031</td><td> Inf</td><td>1</td><td>1</td><td>NaN</td><td> 1</td><td>NA</td><td>NA</td><td>0</td><td>0.213</td><td>0</td><td>0.213</td><td>1</td></tr>\n",
       "\t<tr><td>spacezhengzhou century connect</td><td>NA</td><td>0.005012542</td><td> Inf</td><td>1</td><td>1</td><td>NaN</td><td> 1</td><td>NA</td><td>NA</td><td>0</td><td>0.005</td><td>0</td><td>0.005</td><td>1</td></tr>\n",
       "\t<tr><td>storeglobal domains           </td><td>NA</td><td>0.046043939</td><td> Inf</td><td>1</td><td>1</td><td>NaN</td><td> 1</td><td>NA</td><td>NA</td><td>0</td><td>0.045</td><td>0</td><td>0.045</td><td>1</td></tr>\n",
       "\t<tr><td>storeidwebhost                </td><td>NA</td><td>0.028399475</td><td> Inf</td><td>1</td><td>1</td><td>NaN</td><td> 1</td><td>NA</td><td>NA</td><td>0</td><td>0.028</td><td>0</td><td>0.028</td><td>1</td></tr>\n",
       "\t<tr><td>websitenics telekom           </td><td>NA</td><td>1.324258970</td><td>73.4</td><td>1</td><td>1</td><td>  1</td><td>NA</td><td> 0</td><td>NA</td><td>1</td><td>0.266</td><td>1</td><td>0.266</td><td>1</td></tr>\n",
       "\t<tr><td>websiteregway                 </td><td>NA</td><td>0.038740828</td><td> Inf</td><td>1</td><td>1</td><td>NaN</td><td> 1</td><td>NA</td><td>NA</td><td>0</td><td>0.038</td><td>0</td><td>0.038</td><td>1</td></tr>\n",
       "\t<tr><td>websiteru-center              </td><td>NA</td><td>2.207274913</td><td>89.0</td><td>1</td><td>1</td><td>  1</td><td>NA</td><td> 0</td><td>NA</td><td>1</td><td>0.110</td><td>1</td><td>0.110</td><td>1</td></tr>\n",
       "\t<tr><td>websitexiamen chinasource     </td><td>NA</td><td>0.066139803</td><td> Inf</td><td>1</td><td>1</td><td>NaN</td><td> 1</td><td>NA</td><td>NA</td><td>0</td><td>0.064</td><td>0</td><td>0.064</td><td>1</td></tr>\n",
       "</tbody>\n",
       "</table>\n"
      ],
      "text/latex": [
       "A tibble: 670 × 15\n",
       "\\begin{tabular}{lllllllllllllll}\n",
       " tld\\_registrar\\_index & roc\\_auc & log\\_loss & mape & l10 & augc & average\\_precision & specificity & sensitivity & precision & prev & mean\\_pred & total\\_actual & total\\_pred & n\\\\\n",
       " <fct> & <dbl> & <dbl> & <dbl> & <dbl> & <dbl> & <dbl> & <dbl> & <dbl> & <dbl> & <dbl> & <dbl> & <dbl> & <dbl> & <int>\\\\\n",
       "\\hline\n",
       "\t sitegmo                       & 0.9006804 & 0.072819485 &   9.661362 & 1.1069638 & 0.5062704 & 0.342715417 & 0.9979166 & 0.1660290742 & 0.56510417 & 0.016043897 & 0.014493838 & 1307 & 1180.726 & 81464\\\\\n",
       "\t sitenamecheap                 & 0.6257433 & 0.110246162 &  75.185958 & 1.0438106 & 0.5024266 & 0.058229877 & 0.9999861 & 0.0000000000 & 0.00000000 & 0.020030585 & 0.035090773 & 1467 & 2569.978 & 73238\\\\\n",
       "\t sitealibaba                   & 0.9221046 & 0.043651354 &   6.464815 & 1.0616332 & 0.5034492 & 0.160257135 & 0.9999743 & 0.0123456790 & 0.80000000 & 0.008265517 & 0.007731167 &  324 &  303.054 & 39199\\\\\n",
       "\t sitego daddy                  & 0.8185395 & 0.177800609 &   6.959034 & 1.1447780 & 0.5158289 & 0.187888215 & 0.9995664 & 0.0017045455 & 0.18750000 & 0.055448789 & 0.059307489 & 1760 & 1882.479 & 31741\\\\\n",
       "\t sitereg.ru                    & 0.6880103 & 0.106139779 &  50.184987 & 1.0580836 & 0.5042287 & 0.090217992 & 1.0000000 & 0.0000000000 &         NA & 0.023540549 & 0.035354370 &  746 & 1120.380 & 31690\\\\\n",
       "\t sitepdr china                 & 0.7582697 & 0.016905140 &  13.245570 & 1.0113105 & 0.5007494 & 0.008774414 & 1.0000000 & 0.0000000000 &         NA & 0.002627203 & 0.002279215 &   79 &   68.536 & 30070\\\\\n",
       "\t onlinego daddy                & 0.7223878 & 0.397823837 &  10.483356 & 1.1739428 & 0.5255580 & 0.309191283 & 0.9886725 & 0.0492424242 & 0.44918699 & 0.157961425 & 0.174521083 & 4488 & 4958.493 & 28412\\\\\n",
       "\t onlinenamecheap               & 0.6501243 & 0.257818177 &  72.023611 & 1.1129087 & 0.5090441 & 0.155627561 & 0.9979426 & 0.0200000000 & 0.41860465 & 0.068960233 & 0.118627883 & 1800 & 3096.425 & 26102\\\\\n",
       "\t funalibaba                    & 0.9142462 & 0.065003143 &  10.477340 & 1.0831437 & 0.5064832 & 0.186664957 & 1.0000000 & 0.0073891626 & 1.00000000 & 0.016074115 & 0.014389975 &  406 &  363.462 & 25258\\\\\n",
       "\t storealibaba                  & 0.6497880 & 0.309227474 &  14.964829 & 1.0792262 & 0.5041779 & 0.088232653 & 0.9997427 & 0.0039370079 & 0.33333333 & 0.031639263 & 0.036374024 &  762 &  876.032 & 24084\\\\\n",
       "\t sitezhengzhou century connect &        NA & 0.001002921 &        Inf & 1.0000000 & 0.5000228 &         NaN & 1.0000000 &           NA &         NA & 0.000000000 & 0.001001733 &    0 &   21.964 & 21926\\\\\n",
       "\t sitechengdu west              & 0.8887394 & 0.022856701 & 251.517188 & 1.0162525 & 0.5013007 & 0.047088425 & 1.0000000 & 0.0000000000 &         NA & 0.003301692 & 0.011606015 &   64 &  224.971 & 19384\\\\\n",
       "\t websitenamecheap              & 0.6078491 & 0.310966144 &  11.938791 & 1.0638284 & 0.5084609 & 0.137951749 & 0.9999291 & 0.0006793478 & 0.50000000 & 0.094455852 & 0.083178966 & 1472 & 1296.261 & 15584\\\\\n",
       "\t onlinecrazy domains           & 0.5434177 & 0.613138712 &  23.788159 & 1.0013015 & 0.5069907 & 0.313871261 & 0.9945647 & 0.0105843440 & 0.44444444 & 0.291190446 & 0.221921600 & 4535 & 3456.207 & 15574\\\\\n",
       "\t sitegandi sas                 & 0.9483401 & 0.057840606 &   6.573103 & 1.1292117 & 0.5081553 & 0.176851803 & 0.9998017 & 0.0000000000 & 0.00000000 & 0.018811624 & 0.020048132 &  290 &  309.062 & 15416\\\\\n",
       "\t onlinehostinger               & 0.6847261 & 0.210411755 &  21.510940 & 1.0508748 & 0.5095097 & 0.115657414 & 0.9998289 & 0.0056100982 & 0.66666667 & 0.057490727 & 0.069857523 &  713 &  866.373 & 12402\\\\\n",
       "\t sitewest263 international     & 0.9618039 & 0.013676015 & 858.221429 & 1.0101827 & 0.5005621 & 0.151866566 & 0.9998380 & 0.1428571429 & 0.50000000 & 0.001132594 & 0.010852763 &   14 &  134.151 & 12361\\\\\n",
       "\t spacego daddy                 & 0.8470467 & 0.201264968 & 112.963919 & 1.1890669 & 0.5175218 & 0.321375502 & 0.9958163 & 0.0870917574 & 0.55445545 & 0.056408457 & 0.120129660 &  643 & 1369.358 & 11399\\\\\n",
       "\t onlinereg.ru                  & 0.6611743 & 0.240469581 &   4.689889 & 1.1272631 & 0.5099965 & 0.200786096 & 0.9997156 & 0.0000000000 & 0.00000000 & 0.071397130 & 0.074745576 &  811 &  849.035 & 11359\\\\\n",
       "\t funreg.ru                     & 0.7606723 & 0.056373419 & 598.891803 & 1.0157624 & 0.5015214 & 0.068500853 & 1.0000000 & 0.0163934426 & 1.00000000 & 0.005723400 & 0.040000375 &   61 &  426.324 & 10658\\\\\n",
       "\t hostnamecheap                 & 0.7806502 & 0.107225937 &   8.437643 & 1.0857950 & 0.5068185 & 0.127792355 & 1.0000000 & 0.0000000000 &         NA & 0.025499321 & 0.027650863 &  263 &  285.191 & 10314\\\\\n",
       "\t spacenamecheap                & 0.7655173 & 0.188666426 &  74.950579 & 1.1414634 & 0.5123414 & 0.205541930 & 0.9994782 & 0.0212355212 & 0.68750000 & 0.051282051 & 0.089718246 &  518 &  906.244 & 10101\\\\\n",
       "\t siteurl solutions             & 0.6834520 & 0.020461077 & 396.915000 & 1.0043295 & 0.5004563 & 0.053948046 & 1.0000000 & 0.0000000000 &         NA & 0.002168727 & 0.010776730 &   20 &   99.383 &  9222\\\\\n",
       "\t storego daddy                 & 0.6230478 & 0.616412343 &  15.942495 & 1.1339030 & 0.5204386 & 0.422985417 & 0.9504985 & 0.1045207957 & 0.50524476 & 0.325984438 & 0.274014383 & 2765 & 2324.190 &  8482\\\\\n",
       "\t storenamecheap                & 0.6933971 & 0.329523158 & 106.647748 & 1.0826813 & 0.5148621 & 0.170207107 & 0.9908759 & 0.0398970399 & 0.30693069 & 0.091963546 & 0.190040597 &  777 & 1605.653 &  8449\\\\\n",
       "\t onlineversio                  & 0.4399458 & 0.417962099 & 107.589201 & 0.9582417 & 0.4947557 & 0.096187349 & 0.9730608 & 0.0086393089 & 0.03864734 & 0.111391796 & 0.231237339 &  926 & 1922.276 &  8313\\\\\n",
       "\t spacereg.ru                   & 0.7203288 & 0.109914385 & 252.908784 & 1.0367532 & 0.5039533 & 0.077142942 & 1.0000000 & 0.0000000000 &         NA & 0.018334985 & 0.064705773 &  148 &  522.305 &  8072\\\\\n",
       "\t technamecheap                 & 0.7131592 & 0.373981907 & 126.142219 & 1.1798707 & 0.5184953 & 0.264764935 & 0.9486590 & 0.2066326531 & 0.32595573 & 0.107265016 & 0.242571487 &  784 & 1772.955 &  7309\\\\\n",
       "\t onlinenetwork solutions       & 0.5441424 & 0.498586667 &  25.057232 & 1.1206203 & 0.5057190 & 0.248021300 & 0.9399681 & 0.1415168100 & 0.34807692 & 0.184666474 & 0.230938781 & 1279 & 1599.482 &  6926\\\\\n",
       "\t techhostinger                 & 0.7270223 & 0.209583606 & 122.964134 & 1.0789499 & 0.5104401 & 0.137392896 & 0.9985451 & 0.0212765957 & 0.43750000 & 0.050498849 & 0.112594321 &  329 &  733.552 &  6515\\\\\n",
       "\t ⋮ & ⋮ & ⋮ & ⋮ & ⋮ & ⋮ & ⋮ & ⋮ & ⋮ & ⋮ & ⋮ & ⋮ & ⋮ & ⋮ & ⋮\\\\\n",
       "\t hostregway                     & NA & 4.017383521 & 98.2 & 1 & 1 &   1 & NA &  0 & NA & 1 & 0.018 & 1 & 0.018 & 1\\\\\n",
       "\t hostshanghai meicheng          & NA & 0.006018072 &  Inf & 1 & 1 & NaN &  1 & NA & NA & 0 & 0.006 & 0 & 0.006 & 1\\\\\n",
       "\t hostunited domains             & NA & 0.274436846 &  Inf & 1 & 1 & NaN &  1 & NA & NA & 0 & 0.240 & 0 & 0.240 & 1\\\\\n",
       "\t hostxiamen chinasource         & NA & 0.060812139 &  Inf & 1 & 1 & NaN &  1 & NA & NA & 0 & 0.059 & 0 & 0.059 & 1\\\\\n",
       "\t presscronon ag                 & NA & 0.474815186 & 37.8 & 1 & 1 &   1 & NA &  1 &  1 & 1 & 0.622 & 1 & 0.622 & 1\\\\\n",
       "\t pressdonweb                    & NA & 1.754463684 & 82.7 & 1 & 1 &   1 & NA &  0 & NA & 1 & 0.173 & 1 & 0.173 & 1\\\\\n",
       "\t pressglobal domains            & NA & 0.066139803 &  Inf & 1 & 1 & NaN &  1 & NA & NA & 0 & 0.064 & 0 & 0.064 & 1\\\\\n",
       "\t pressmat bao                   & NA & 0.027371197 &  Inf & 1 & 1 & NaN &  1 & NA & NA & 0 & 0.027 & 0 & 0.027 & 1\\\\\n",
       "\t pressnetwork solutions         & NA & 1.339410775 & 73.8 & 1 & 1 &   1 & NA &  0 & NA & 1 & 0.262 & 1 & 0.262 & 1\\\\\n",
       "\t pressonlinenic                 & NA & 0.019182819 &  Inf & 1 & 1 & NaN &  1 & NA & NA & 0 & 0.019 & 0 & 0.019 & 1\\\\\n",
       "\t pressp.a viet nam              & NA & 4.135166557 & 98.4 & 1 & 1 &   1 & NA &  0 & NA & 1 & 0.016 & 1 & 0.016 & 1\\\\\n",
       "\t pressregway                    & NA & 0.290352301 &  Inf & 1 & 1 & NaN &  1 & NA & NA & 0 & 0.252 & 0 & 0.252 & 1\\\\\n",
       "\t pressshopify                   & NA & 2.244316185 & 89.4 & 1 & 1 &   1 & NA &  0 & NA & 1 & 0.106 & 1 & 0.106 & 1\\\\\n",
       "\t presstenten                    & NA & 0.007024615 &  Inf & 1 & 1 & NaN &  1 & NA & NA & 0 & 0.007 & 0 & 0.007 & 1\\\\\n",
       "\t presstld registrar solns       & NA & 1.090644119 & 66.4 & 1 & 1 &   1 & NA &  0 & NA & 1 & 0.336 & 1 & 0.336 & 1\\\\\n",
       "\t pressunited domains            & NA & 1.422958345 & 75.9 & 1 & 1 &   1 & NA &  0 & NA & 1 & 0.241 & 1 & 0.241 & 1\\\\\n",
       "\t presswhois                     & NA & 0.095410185 &  Inf & 1 & 1 & NaN &  1 & NA & NA & 0 & 0.091 & 0 & 0.091 & 1\\\\\n",
       "\t siteregtime ltd                & NA & 0.018163971 &  Inf & 1 & 1 & NaN &  1 & NA & NA & 0 & 0.018 & 0 & 0.018 & 1\\\\\n",
       "\t spacebizcn                     & NA & 2.847312268 & 94.2 & 1 & 1 &   1 & NA &  0 & NA & 1 & 0.058 & 1 & 0.058 & 1\\\\\n",
       "\t spacehome.pl                   & NA & 2.796881415 & 93.9 & 1 & 1 &   1 & NA &  0 & NA & 1 & 0.061 & 1 & 0.061 & 1\\\\\n",
       "\t spacehostnet.nl                & NA & 0.423120043 & 34.5 & 1 & 1 &   1 & NA &  1 &  1 & 1 & 0.655 & 1 & 0.655 & 1\\\\\n",
       "\t spacemat bao                   & NA & 0.071496002 &  Inf & 1 & 1 & NaN &  1 & NA & NA & 0 & 0.069 & 0 & 0.069 & 1\\\\\n",
       "\t spacemoniker                   & NA & 0.239527031 &  Inf & 1 & 1 & NaN &  1 & NA & NA & 0 & 0.213 & 0 & 0.213 & 1\\\\\n",
       "\t spacezhengzhou century connect & NA & 0.005012542 &  Inf & 1 & 1 & NaN &  1 & NA & NA & 0 & 0.005 & 0 & 0.005 & 1\\\\\n",
       "\t storeglobal domains            & NA & 0.046043939 &  Inf & 1 & 1 & NaN &  1 & NA & NA & 0 & 0.045 & 0 & 0.045 & 1\\\\\n",
       "\t storeidwebhost                 & NA & 0.028399475 &  Inf & 1 & 1 & NaN &  1 & NA & NA & 0 & 0.028 & 0 & 0.028 & 1\\\\\n",
       "\t websitenics telekom            & NA & 1.324258970 & 73.4 & 1 & 1 &   1 & NA &  0 & NA & 1 & 0.266 & 1 & 0.266 & 1\\\\\n",
       "\t websiteregway                  & NA & 0.038740828 &  Inf & 1 & 1 & NaN &  1 & NA & NA & 0 & 0.038 & 0 & 0.038 & 1\\\\\n",
       "\t websiteru-center               & NA & 2.207274913 & 89.0 & 1 & 1 &   1 & NA &  0 & NA & 1 & 0.110 & 1 & 0.110 & 1\\\\\n",
       "\t websitexiamen chinasource      & NA & 0.066139803 &  Inf & 1 & 1 & NaN &  1 & NA & NA & 0 & 0.064 & 0 & 0.064 & 1\\\\\n",
       "\\end{tabular}\n"
      ],
      "text/markdown": [
       "\n",
       "A tibble: 670 × 15\n",
       "\n",
       "| tld_registrar_index &lt;fct&gt; | roc_auc &lt;dbl&gt; | log_loss &lt;dbl&gt; | mape &lt;dbl&gt; | l10 &lt;dbl&gt; | augc &lt;dbl&gt; | average_precision &lt;dbl&gt; | specificity &lt;dbl&gt; | sensitivity &lt;dbl&gt; | precision &lt;dbl&gt; | prev &lt;dbl&gt; | mean_pred &lt;dbl&gt; | total_actual &lt;dbl&gt; | total_pred &lt;dbl&gt; | n &lt;int&gt; |\n",
       "|---|---|---|---|---|---|---|---|---|---|---|---|---|---|---|\n",
       "| sitegmo                       | 0.9006804 | 0.072819485 |   9.661362 | 1.1069638 | 0.5062704 | 0.342715417 | 0.9979166 | 0.1660290742 | 0.56510417 | 0.016043897 | 0.014493838 | 1307 | 1180.726 | 81464 |\n",
       "| sitenamecheap                 | 0.6257433 | 0.110246162 |  75.185958 | 1.0438106 | 0.5024266 | 0.058229877 | 0.9999861 | 0.0000000000 | 0.00000000 | 0.020030585 | 0.035090773 | 1467 | 2569.978 | 73238 |\n",
       "| sitealibaba                   | 0.9221046 | 0.043651354 |   6.464815 | 1.0616332 | 0.5034492 | 0.160257135 | 0.9999743 | 0.0123456790 | 0.80000000 | 0.008265517 | 0.007731167 |  324 |  303.054 | 39199 |\n",
       "| sitego daddy                  | 0.8185395 | 0.177800609 |   6.959034 | 1.1447780 | 0.5158289 | 0.187888215 | 0.9995664 | 0.0017045455 | 0.18750000 | 0.055448789 | 0.059307489 | 1760 | 1882.479 | 31741 |\n",
       "| sitereg.ru                    | 0.6880103 | 0.106139779 |  50.184987 | 1.0580836 | 0.5042287 | 0.090217992 | 1.0000000 | 0.0000000000 |         NA | 0.023540549 | 0.035354370 |  746 | 1120.380 | 31690 |\n",
       "| sitepdr china                 | 0.7582697 | 0.016905140 |  13.245570 | 1.0113105 | 0.5007494 | 0.008774414 | 1.0000000 | 0.0000000000 |         NA | 0.002627203 | 0.002279215 |   79 |   68.536 | 30070 |\n",
       "| onlinego daddy                | 0.7223878 | 0.397823837 |  10.483356 | 1.1739428 | 0.5255580 | 0.309191283 | 0.9886725 | 0.0492424242 | 0.44918699 | 0.157961425 | 0.174521083 | 4488 | 4958.493 | 28412 |\n",
       "| onlinenamecheap               | 0.6501243 | 0.257818177 |  72.023611 | 1.1129087 | 0.5090441 | 0.155627561 | 0.9979426 | 0.0200000000 | 0.41860465 | 0.068960233 | 0.118627883 | 1800 | 3096.425 | 26102 |\n",
       "| funalibaba                    | 0.9142462 | 0.065003143 |  10.477340 | 1.0831437 | 0.5064832 | 0.186664957 | 1.0000000 | 0.0073891626 | 1.00000000 | 0.016074115 | 0.014389975 |  406 |  363.462 | 25258 |\n",
       "| storealibaba                  | 0.6497880 | 0.309227474 |  14.964829 | 1.0792262 | 0.5041779 | 0.088232653 | 0.9997427 | 0.0039370079 | 0.33333333 | 0.031639263 | 0.036374024 |  762 |  876.032 | 24084 |\n",
       "| sitezhengzhou century connect |        NA | 0.001002921 |        Inf | 1.0000000 | 0.5000228 |         NaN | 1.0000000 |           NA |         NA | 0.000000000 | 0.001001733 |    0 |   21.964 | 21926 |\n",
       "| sitechengdu west              | 0.8887394 | 0.022856701 | 251.517188 | 1.0162525 | 0.5013007 | 0.047088425 | 1.0000000 | 0.0000000000 |         NA | 0.003301692 | 0.011606015 |   64 |  224.971 | 19384 |\n",
       "| websitenamecheap              | 0.6078491 | 0.310966144 |  11.938791 | 1.0638284 | 0.5084609 | 0.137951749 | 0.9999291 | 0.0006793478 | 0.50000000 | 0.094455852 | 0.083178966 | 1472 | 1296.261 | 15584 |\n",
       "| onlinecrazy domains           | 0.5434177 | 0.613138712 |  23.788159 | 1.0013015 | 0.5069907 | 0.313871261 | 0.9945647 | 0.0105843440 | 0.44444444 | 0.291190446 | 0.221921600 | 4535 | 3456.207 | 15574 |\n",
       "| sitegandi sas                 | 0.9483401 | 0.057840606 |   6.573103 | 1.1292117 | 0.5081553 | 0.176851803 | 0.9998017 | 0.0000000000 | 0.00000000 | 0.018811624 | 0.020048132 |  290 |  309.062 | 15416 |\n",
       "| onlinehostinger               | 0.6847261 | 0.210411755 |  21.510940 | 1.0508748 | 0.5095097 | 0.115657414 | 0.9998289 | 0.0056100982 | 0.66666667 | 0.057490727 | 0.069857523 |  713 |  866.373 | 12402 |\n",
       "| sitewest263 international     | 0.9618039 | 0.013676015 | 858.221429 | 1.0101827 | 0.5005621 | 0.151866566 | 0.9998380 | 0.1428571429 | 0.50000000 | 0.001132594 | 0.010852763 |   14 |  134.151 | 12361 |\n",
       "| spacego daddy                 | 0.8470467 | 0.201264968 | 112.963919 | 1.1890669 | 0.5175218 | 0.321375502 | 0.9958163 | 0.0870917574 | 0.55445545 | 0.056408457 | 0.120129660 |  643 | 1369.358 | 11399 |\n",
       "| onlinereg.ru                  | 0.6611743 | 0.240469581 |   4.689889 | 1.1272631 | 0.5099965 | 0.200786096 | 0.9997156 | 0.0000000000 | 0.00000000 | 0.071397130 | 0.074745576 |  811 |  849.035 | 11359 |\n",
       "| funreg.ru                     | 0.7606723 | 0.056373419 | 598.891803 | 1.0157624 | 0.5015214 | 0.068500853 | 1.0000000 | 0.0163934426 | 1.00000000 | 0.005723400 | 0.040000375 |   61 |  426.324 | 10658 |\n",
       "| hostnamecheap                 | 0.7806502 | 0.107225937 |   8.437643 | 1.0857950 | 0.5068185 | 0.127792355 | 1.0000000 | 0.0000000000 |         NA | 0.025499321 | 0.027650863 |  263 |  285.191 | 10314 |\n",
       "| spacenamecheap                | 0.7655173 | 0.188666426 |  74.950579 | 1.1414634 | 0.5123414 | 0.205541930 | 0.9994782 | 0.0212355212 | 0.68750000 | 0.051282051 | 0.089718246 |  518 |  906.244 | 10101 |\n",
       "| siteurl solutions             | 0.6834520 | 0.020461077 | 396.915000 | 1.0043295 | 0.5004563 | 0.053948046 | 1.0000000 | 0.0000000000 |         NA | 0.002168727 | 0.010776730 |   20 |   99.383 |  9222 |\n",
       "| storego daddy                 | 0.6230478 | 0.616412343 |  15.942495 | 1.1339030 | 0.5204386 | 0.422985417 | 0.9504985 | 0.1045207957 | 0.50524476 | 0.325984438 | 0.274014383 | 2765 | 2324.190 |  8482 |\n",
       "| storenamecheap                | 0.6933971 | 0.329523158 | 106.647748 | 1.0826813 | 0.5148621 | 0.170207107 | 0.9908759 | 0.0398970399 | 0.30693069 | 0.091963546 | 0.190040597 |  777 | 1605.653 |  8449 |\n",
       "| onlineversio                  | 0.4399458 | 0.417962099 | 107.589201 | 0.9582417 | 0.4947557 | 0.096187349 | 0.9730608 | 0.0086393089 | 0.03864734 | 0.111391796 | 0.231237339 |  926 | 1922.276 |  8313 |\n",
       "| spacereg.ru                   | 0.7203288 | 0.109914385 | 252.908784 | 1.0367532 | 0.5039533 | 0.077142942 | 1.0000000 | 0.0000000000 |         NA | 0.018334985 | 0.064705773 |  148 |  522.305 |  8072 |\n",
       "| technamecheap                 | 0.7131592 | 0.373981907 | 126.142219 | 1.1798707 | 0.5184953 | 0.264764935 | 0.9486590 | 0.2066326531 | 0.32595573 | 0.107265016 | 0.242571487 |  784 | 1772.955 |  7309 |\n",
       "| onlinenetwork solutions       | 0.5441424 | 0.498586667 |  25.057232 | 1.1206203 | 0.5057190 | 0.248021300 | 0.9399681 | 0.1415168100 | 0.34807692 | 0.184666474 | 0.230938781 | 1279 | 1599.482 |  6926 |\n",
       "| techhostinger                 | 0.7270223 | 0.209583606 | 122.964134 | 1.0789499 | 0.5104401 | 0.137392896 | 0.9985451 | 0.0212765957 | 0.43750000 | 0.050498849 | 0.112594321 |  329 |  733.552 |  6515 |\n",
       "| ⋮ | ⋮ | ⋮ | ⋮ | ⋮ | ⋮ | ⋮ | ⋮ | ⋮ | ⋮ | ⋮ | ⋮ | ⋮ | ⋮ | ⋮ |\n",
       "| hostregway                     | NA | 4.017383521 | 98.2 | 1 | 1 |   1 | NA |  0 | NA | 1 | 0.018 | 1 | 0.018 | 1 |\n",
       "| hostshanghai meicheng          | NA | 0.006018072 |  Inf | 1 | 1 | NaN |  1 | NA | NA | 0 | 0.006 | 0 | 0.006 | 1 |\n",
       "| hostunited domains             | NA | 0.274436846 |  Inf | 1 | 1 | NaN |  1 | NA | NA | 0 | 0.240 | 0 | 0.240 | 1 |\n",
       "| hostxiamen chinasource         | NA | 0.060812139 |  Inf | 1 | 1 | NaN |  1 | NA | NA | 0 | 0.059 | 0 | 0.059 | 1 |\n",
       "| presscronon ag                 | NA | 0.474815186 | 37.8 | 1 | 1 |   1 | NA |  1 |  1 | 1 | 0.622 | 1 | 0.622 | 1 |\n",
       "| pressdonweb                    | NA | 1.754463684 | 82.7 | 1 | 1 |   1 | NA |  0 | NA | 1 | 0.173 | 1 | 0.173 | 1 |\n",
       "| pressglobal domains            | NA | 0.066139803 |  Inf | 1 | 1 | NaN |  1 | NA | NA | 0 | 0.064 | 0 | 0.064 | 1 |\n",
       "| pressmat bao                   | NA | 0.027371197 |  Inf | 1 | 1 | NaN |  1 | NA | NA | 0 | 0.027 | 0 | 0.027 | 1 |\n",
       "| pressnetwork solutions         | NA | 1.339410775 | 73.8 | 1 | 1 |   1 | NA |  0 | NA | 1 | 0.262 | 1 | 0.262 | 1 |\n",
       "| pressonlinenic                 | NA | 0.019182819 |  Inf | 1 | 1 | NaN |  1 | NA | NA | 0 | 0.019 | 0 | 0.019 | 1 |\n",
       "| pressp.a viet nam              | NA | 4.135166557 | 98.4 | 1 | 1 |   1 | NA |  0 | NA | 1 | 0.016 | 1 | 0.016 | 1 |\n",
       "| pressregway                    | NA | 0.290352301 |  Inf | 1 | 1 | NaN |  1 | NA | NA | 0 | 0.252 | 0 | 0.252 | 1 |\n",
       "| pressshopify                   | NA | 2.244316185 | 89.4 | 1 | 1 |   1 | NA |  0 | NA | 1 | 0.106 | 1 | 0.106 | 1 |\n",
       "| presstenten                    | NA | 0.007024615 |  Inf | 1 | 1 | NaN |  1 | NA | NA | 0 | 0.007 | 0 | 0.007 | 1 |\n",
       "| presstld registrar solns       | NA | 1.090644119 | 66.4 | 1 | 1 |   1 | NA |  0 | NA | 1 | 0.336 | 1 | 0.336 | 1 |\n",
       "| pressunited domains            | NA | 1.422958345 | 75.9 | 1 | 1 |   1 | NA |  0 | NA | 1 | 0.241 | 1 | 0.241 | 1 |\n",
       "| presswhois                     | NA | 0.095410185 |  Inf | 1 | 1 | NaN |  1 | NA | NA | 0 | 0.091 | 0 | 0.091 | 1 |\n",
       "| siteregtime ltd                | NA | 0.018163971 |  Inf | 1 | 1 | NaN |  1 | NA | NA | 0 | 0.018 | 0 | 0.018 | 1 |\n",
       "| spacebizcn                     | NA | 2.847312268 | 94.2 | 1 | 1 |   1 | NA |  0 | NA | 1 | 0.058 | 1 | 0.058 | 1 |\n",
       "| spacehome.pl                   | NA | 2.796881415 | 93.9 | 1 | 1 |   1 | NA |  0 | NA | 1 | 0.061 | 1 | 0.061 | 1 |\n",
       "| spacehostnet.nl                | NA | 0.423120043 | 34.5 | 1 | 1 |   1 | NA |  1 |  1 | 1 | 0.655 | 1 | 0.655 | 1 |\n",
       "| spacemat bao                   | NA | 0.071496002 |  Inf | 1 | 1 | NaN |  1 | NA | NA | 0 | 0.069 | 0 | 0.069 | 1 |\n",
       "| spacemoniker                   | NA | 0.239527031 |  Inf | 1 | 1 | NaN |  1 | NA | NA | 0 | 0.213 | 0 | 0.213 | 1 |\n",
       "| spacezhengzhou century connect | NA | 0.005012542 |  Inf | 1 | 1 | NaN |  1 | NA | NA | 0 | 0.005 | 0 | 0.005 | 1 |\n",
       "| storeglobal domains            | NA | 0.046043939 |  Inf | 1 | 1 | NaN |  1 | NA | NA | 0 | 0.045 | 0 | 0.045 | 1 |\n",
       "| storeidwebhost                 | NA | 0.028399475 |  Inf | 1 | 1 | NaN |  1 | NA | NA | 0 | 0.028 | 0 | 0.028 | 1 |\n",
       "| websitenics telekom            | NA | 1.324258970 | 73.4 | 1 | 1 |   1 | NA |  0 | NA | 1 | 0.266 | 1 | 0.266 | 1 |\n",
       "| websiteregway                  | NA | 0.038740828 |  Inf | 1 | 1 | NaN |  1 | NA | NA | 0 | 0.038 | 0 | 0.038 | 1 |\n",
       "| websiteru-center               | NA | 2.207274913 | 89.0 | 1 | 1 |   1 | NA |  0 | NA | 1 | 0.110 | 1 | 0.110 | 1 |\n",
       "| websitexiamen chinasource      | NA | 0.066139803 |  Inf | 1 | 1 | NaN |  1 | NA | NA | 0 | 0.064 | 0 | 0.064 | 1 |\n",
       "\n"
      ],
      "text/plain": [
       "    tld_registrar_index            roc_auc   log_loss    mape       l10      \n",
       "1   sitegmo                        0.9006804 0.072819485   9.661362 1.1069638\n",
       "2   sitenamecheap                  0.6257433 0.110246162  75.185958 1.0438106\n",
       "3   sitealibaba                    0.9221046 0.043651354   6.464815 1.0616332\n",
       "4   sitego daddy                   0.8185395 0.177800609   6.959034 1.1447780\n",
       "5   sitereg.ru                     0.6880103 0.106139779  50.184987 1.0580836\n",
       "6   sitepdr china                  0.7582697 0.016905140  13.245570 1.0113105\n",
       "7   onlinego daddy                 0.7223878 0.397823837  10.483356 1.1739428\n",
       "8   onlinenamecheap                0.6501243 0.257818177  72.023611 1.1129087\n",
       "9   funalibaba                     0.9142462 0.065003143  10.477340 1.0831437\n",
       "10  storealibaba                   0.6497880 0.309227474  14.964829 1.0792262\n",
       "11  sitezhengzhou century connect         NA 0.001002921        Inf 1.0000000\n",
       "12  sitechengdu west               0.8887394 0.022856701 251.517188 1.0162525\n",
       "13  websitenamecheap               0.6078491 0.310966144  11.938791 1.0638284\n",
       "14  onlinecrazy domains            0.5434177 0.613138712  23.788159 1.0013015\n",
       "15  sitegandi sas                  0.9483401 0.057840606   6.573103 1.1292117\n",
       "16  onlinehostinger                0.6847261 0.210411755  21.510940 1.0508748\n",
       "17  sitewest263 international      0.9618039 0.013676015 858.221429 1.0101827\n",
       "18  spacego daddy                  0.8470467 0.201264968 112.963919 1.1890669\n",
       "19  onlinereg.ru                   0.6611743 0.240469581   4.689889 1.1272631\n",
       "20  funreg.ru                      0.7606723 0.056373419 598.891803 1.0157624\n",
       "21  hostnamecheap                  0.7806502 0.107225937   8.437643 1.0857950\n",
       "22  spacenamecheap                 0.7655173 0.188666426  74.950579 1.1414634\n",
       "23  siteurl solutions              0.6834520 0.020461077 396.915000 1.0043295\n",
       "24  storego daddy                  0.6230478 0.616412343  15.942495 1.1339030\n",
       "25  storenamecheap                 0.6933971 0.329523158 106.647748 1.0826813\n",
       "26  onlineversio                   0.4399458 0.417962099 107.589201 0.9582417\n",
       "27  spacereg.ru                    0.7203288 0.109914385 252.908784 1.0367532\n",
       "28  technamecheap                  0.7131592 0.373981907 126.142219 1.1798707\n",
       "29  onlinenetwork solutions        0.5441424 0.498586667  25.057232 1.1206203\n",
       "30  techhostinger                  0.7270223 0.209583606 122.964134 1.0789499\n",
       "⋮   ⋮                              ⋮         ⋮           ⋮          ⋮        \n",
       "641 hostregway                     NA        4.017383521 98.2       1        \n",
       "642 hostshanghai meicheng          NA        0.006018072  Inf       1        \n",
       "643 hostunited domains             NA        0.274436846  Inf       1        \n",
       "644 hostxiamen chinasource         NA        0.060812139  Inf       1        \n",
       "645 presscronon ag                 NA        0.474815186 37.8       1        \n",
       "646 pressdonweb                    NA        1.754463684 82.7       1        \n",
       "647 pressglobal domains            NA        0.066139803  Inf       1        \n",
       "648 pressmat bao                   NA        0.027371197  Inf       1        \n",
       "649 pressnetwork solutions         NA        1.339410775 73.8       1        \n",
       "650 pressonlinenic                 NA        0.019182819  Inf       1        \n",
       "651 pressp.a viet nam              NA        4.135166557 98.4       1        \n",
       "652 pressregway                    NA        0.290352301  Inf       1        \n",
       "653 pressshopify                   NA        2.244316185 89.4       1        \n",
       "654 presstenten                    NA        0.007024615  Inf       1        \n",
       "655 presstld registrar solns       NA        1.090644119 66.4       1        \n",
       "656 pressunited domains            NA        1.422958345 75.9       1        \n",
       "657 presswhois                     NA        0.095410185  Inf       1        \n",
       "658 siteregtime ltd                NA        0.018163971  Inf       1        \n",
       "659 spacebizcn                     NA        2.847312268 94.2       1        \n",
       "660 spacehome.pl                   NA        2.796881415 93.9       1        \n",
       "661 spacehostnet.nl                NA        0.423120043 34.5       1        \n",
       "662 spacemat bao                   NA        0.071496002  Inf       1        \n",
       "663 spacemoniker                   NA        0.239527031  Inf       1        \n",
       "664 spacezhengzhou century connect NA        0.005012542  Inf       1        \n",
       "665 storeglobal domains            NA        0.046043939  Inf       1        \n",
       "666 storeidwebhost                 NA        0.028399475  Inf       1        \n",
       "667 websitenics telekom            NA        1.324258970 73.4       1        \n",
       "668 websiteregway                  NA        0.038740828  Inf       1        \n",
       "669 websiteru-center               NA        2.207274913 89.0       1        \n",
       "670 websitexiamen chinasource      NA        0.066139803  Inf       1        \n",
       "    augc      average_precision specificity sensitivity  precision  prev       \n",
       "1   0.5062704 0.342715417       0.9979166   0.1660290742 0.56510417 0.016043897\n",
       "2   0.5024266 0.058229877       0.9999861   0.0000000000 0.00000000 0.020030585\n",
       "3   0.5034492 0.160257135       0.9999743   0.0123456790 0.80000000 0.008265517\n",
       "4   0.5158289 0.187888215       0.9995664   0.0017045455 0.18750000 0.055448789\n",
       "5   0.5042287 0.090217992       1.0000000   0.0000000000         NA 0.023540549\n",
       "6   0.5007494 0.008774414       1.0000000   0.0000000000         NA 0.002627203\n",
       "7   0.5255580 0.309191283       0.9886725   0.0492424242 0.44918699 0.157961425\n",
       "8   0.5090441 0.155627561       0.9979426   0.0200000000 0.41860465 0.068960233\n",
       "9   0.5064832 0.186664957       1.0000000   0.0073891626 1.00000000 0.016074115\n",
       "10  0.5041779 0.088232653       0.9997427   0.0039370079 0.33333333 0.031639263\n",
       "11  0.5000228         NaN       1.0000000             NA         NA 0.000000000\n",
       "12  0.5013007 0.047088425       1.0000000   0.0000000000         NA 0.003301692\n",
       "13  0.5084609 0.137951749       0.9999291   0.0006793478 0.50000000 0.094455852\n",
       "14  0.5069907 0.313871261       0.9945647   0.0105843440 0.44444444 0.291190446\n",
       "15  0.5081553 0.176851803       0.9998017   0.0000000000 0.00000000 0.018811624\n",
       "16  0.5095097 0.115657414       0.9998289   0.0056100982 0.66666667 0.057490727\n",
       "17  0.5005621 0.151866566       0.9998380   0.1428571429 0.50000000 0.001132594\n",
       "18  0.5175218 0.321375502       0.9958163   0.0870917574 0.55445545 0.056408457\n",
       "19  0.5099965 0.200786096       0.9997156   0.0000000000 0.00000000 0.071397130\n",
       "20  0.5015214 0.068500853       1.0000000   0.0163934426 1.00000000 0.005723400\n",
       "21  0.5068185 0.127792355       1.0000000   0.0000000000         NA 0.025499321\n",
       "22  0.5123414 0.205541930       0.9994782   0.0212355212 0.68750000 0.051282051\n",
       "23  0.5004563 0.053948046       1.0000000   0.0000000000         NA 0.002168727\n",
       "24  0.5204386 0.422985417       0.9504985   0.1045207957 0.50524476 0.325984438\n",
       "25  0.5148621 0.170207107       0.9908759   0.0398970399 0.30693069 0.091963546\n",
       "26  0.4947557 0.096187349       0.9730608   0.0086393089 0.03864734 0.111391796\n",
       "27  0.5039533 0.077142942       1.0000000   0.0000000000         NA 0.018334985\n",
       "28  0.5184953 0.264764935       0.9486590   0.2066326531 0.32595573 0.107265016\n",
       "29  0.5057190 0.248021300       0.9399681   0.1415168100 0.34807692 0.184666474\n",
       "30  0.5104401 0.137392896       0.9985451   0.0212765957 0.43750000 0.050498849\n",
       "⋮   ⋮         ⋮                 ⋮           ⋮            ⋮          ⋮          \n",
       "641 1           1               NA           0           NA         1          \n",
       "642 1         NaN                1          NA           NA         0          \n",
       "643 1         NaN                1          NA           NA         0          \n",
       "644 1         NaN                1          NA           NA         0          \n",
       "645 1           1               NA           1            1         1          \n",
       "646 1           1               NA           0           NA         1          \n",
       "647 1         NaN                1          NA           NA         0          \n",
       "648 1         NaN                1          NA           NA         0          \n",
       "649 1           1               NA           0           NA         1          \n",
       "650 1         NaN                1          NA           NA         0          \n",
       "651 1           1               NA           0           NA         1          \n",
       "652 1         NaN                1          NA           NA         0          \n",
       "653 1           1               NA           0           NA         1          \n",
       "654 1         NaN                1          NA           NA         0          \n",
       "655 1           1               NA           0           NA         1          \n",
       "656 1           1               NA           0           NA         1          \n",
       "657 1         NaN                1          NA           NA         0          \n",
       "658 1         NaN                1          NA           NA         0          \n",
       "659 1           1               NA           0           NA         1          \n",
       "660 1           1               NA           0           NA         1          \n",
       "661 1           1               NA           1            1         1          \n",
       "662 1         NaN                1          NA           NA         0          \n",
       "663 1         NaN                1          NA           NA         0          \n",
       "664 1         NaN                1          NA           NA         0          \n",
       "665 1         NaN                1          NA           NA         0          \n",
       "666 1         NaN                1          NA           NA         0          \n",
       "667 1           1               NA           0           NA         1          \n",
       "668 1         NaN                1          NA           NA         0          \n",
       "669 1           1               NA           0           NA         1          \n",
       "670 1         NaN                1          NA           NA         0          \n",
       "    mean_pred   total_actual total_pred n    \n",
       "1   0.014493838 1307         1180.726   81464\n",
       "2   0.035090773 1467         2569.978   73238\n",
       "3   0.007731167  324          303.054   39199\n",
       "4   0.059307489 1760         1882.479   31741\n",
       "5   0.035354370  746         1120.380   31690\n",
       "6   0.002279215   79           68.536   30070\n",
       "7   0.174521083 4488         4958.493   28412\n",
       "8   0.118627883 1800         3096.425   26102\n",
       "9   0.014389975  406          363.462   25258\n",
       "10  0.036374024  762          876.032   24084\n",
       "11  0.001001733    0           21.964   21926\n",
       "12  0.011606015   64          224.971   19384\n",
       "13  0.083178966 1472         1296.261   15584\n",
       "14  0.221921600 4535         3456.207   15574\n",
       "15  0.020048132  290          309.062   15416\n",
       "16  0.069857523  713          866.373   12402\n",
       "17  0.010852763   14          134.151   12361\n",
       "18  0.120129660  643         1369.358   11399\n",
       "19  0.074745576  811          849.035   11359\n",
       "20  0.040000375   61          426.324   10658\n",
       "21  0.027650863  263          285.191   10314\n",
       "22  0.089718246  518          906.244   10101\n",
       "23  0.010776730   20           99.383    9222\n",
       "24  0.274014383 2765         2324.190    8482\n",
       "25  0.190040597  777         1605.653    8449\n",
       "26  0.231237339  926         1922.276    8313\n",
       "27  0.064705773  148          522.305    8072\n",
       "28  0.242571487  784         1772.955    7309\n",
       "29  0.230938781 1279         1599.482    6926\n",
       "30  0.112594321  329          733.552    6515\n",
       "⋮   ⋮           ⋮            ⋮          ⋮    \n",
       "641 0.018       1            0.018      1    \n",
       "642 0.006       0            0.006      1    \n",
       "643 0.240       0            0.240      1    \n",
       "644 0.059       0            0.059      1    \n",
       "645 0.622       1            0.622      1    \n",
       "646 0.173       1            0.173      1    \n",
       "647 0.064       0            0.064      1    \n",
       "648 0.027       0            0.027      1    \n",
       "649 0.262       1            0.262      1    \n",
       "650 0.019       0            0.019      1    \n",
       "651 0.016       1            0.016      1    \n",
       "652 0.252       0            0.252      1    \n",
       "653 0.106       1            0.106      1    \n",
       "654 0.007       0            0.007      1    \n",
       "655 0.336       1            0.336      1    \n",
       "656 0.241       1            0.241      1    \n",
       "657 0.091       0            0.091      1    \n",
       "658 0.018       0            0.018      1    \n",
       "659 0.058       1            0.058      1    \n",
       "660 0.061       1            0.061      1    \n",
       "661 0.655       1            0.655      1    \n",
       "662 0.069       0            0.069      1    \n",
       "663 0.213       0            0.213      1    \n",
       "664 0.005       0            0.005      1    \n",
       "665 0.045       0            0.045      1    \n",
       "666 0.028       0            0.028      1    \n",
       "667 0.266       1            0.266      1    \n",
       "668 0.038       0            0.038      1    \n",
       "669 0.110       1            0.110      1    \n",
       "670 0.064       0            0.064      1    "
      ]
     },
     "metadata": {},
     "output_type": "display_data"
    }
   ],
   "source": [
    "all_eval[['pred_agg_glm_ALL']]"
   ]
  },
  {
   "cell_type": "code",
   "execution_count": 9,
   "id": "b9960c7a",
   "metadata": {},
   "outputs": [
    {
     "ename": "ERROR",
     "evalue": "Error: Can't subset columns that don't exist.\n\u001b[31m✖\u001b[39m Columns `tld` and `registrar` don't exist.\n",
     "output_type": "error",
     "traceback": [
      "Error: Can't subset columns that don't exist.\n\u001b[31m✖\u001b[39m Columns `tld` and `registrar` don't exist.\nTraceback:\n",
      "1. comp_perf(all_eval, metrics = c(\"mape\"), gen_cols = c(\"n\", \"prev\"))",
      "2. df[, keep_cols]   # at line 13 of file <text>",
      "3. `[.tbl_df`(df, , keep_cols)   # at line 13 of file <text>",
      "4. vectbl_as_col_location(j, length(xo), names(xo), j_arg = j_arg, \n .     assign = FALSE)",
      "5. subclass_col_index_errors(vec_as_location(j, n, names), j_arg = j_arg, \n .     assign = assign)",
      "6. withCallingHandlers(expr, vctrs_error_subscript = function(cnd) {\n .     cnd$subscript_arg <- j_arg\n .     cnd$subscript_elt <- \"column\"\n .     if (isTRUE(assign) && !isTRUE(cnd$subscript_action %in% c(\"negate\"))) {\n .         cnd$subscript_action <- \"assign\"\n .     }\n .     cnd_signal(cnd)\n . })",
      "7. vec_as_location(j, n, names)",
      "8. (function () \n . stop_subscript_oob(i = i, subscript_type = subscript_type, names = names, \n .     subscript_action = subscript_action, subscript_arg = subscript_arg))()",
      "9. stop_subscript_oob(i = i, subscript_type = subscript_type, names = names, \n .     subscript_action = subscript_action, subscript_arg = subscript_arg)",
      "10. stop_subscript(class = \"vctrs_error_subscript_oob\", i = i, subscript_type = subscript_type, \n  .     ...)",
      "11. abort(class = c(class, \"vctrs_error_subscript\"), i = i, ...)",
      "12. signal_abort(cnd)",
      "13. signalCondition(cnd)",
      "14. (function (cnd) \n  . {\n  .     cnd$subscript_arg <- j_arg\n  .     cnd$subscript_elt <- \"column\"\n  .     if (isTRUE(assign) && !isTRUE(cnd$subscript_action %in% c(\"negate\"))) {\n  .         cnd$subscript_action <- \"assign\"\n  .     }\n  .     cnd_signal(cnd)\n  . })(structure(list(message = \"\", trace = structure(list(calls = list(\n  .     IRkernel::main(), kernel$run(), IRkernel:::handle_shell(), \n  .     executor$execute(msg), base::tryCatch(evaluate(request$content$code, \n  .         envir = .GlobalEnv, output_handler = oh, stop_on_error = 1L), \n  .         interrupt = function(cond) {\n  .             log_debug(\"Interrupt during execution\")\n  .             interrupted <<- TRUE\n  .         }, error = .self$handle_error), base:::tryCatchList(expr, \n  .         classes, parentenv, handlers), base:::tryCatchOne(tryCatchList(expr, \n  .         names[-nh], parentenv, handlers[-nh]), names[nh], parentenv, \n  .         handlers[[nh]]), base:::doTryCatch(return(expr), name, \n  .         parentenv, handler), base:::tryCatchList(expr, names[-nh], \n  .         parentenv, handlers[-nh]), base:::tryCatchOne(expr, names, \n  .         parentenv, handlers[[1L]]), base:::doTryCatch(return(expr), \n  .         name, parentenv, handler), evaluate::evaluate(request$content$code, \n  .         envir = .GlobalEnv, output_handler = oh, stop_on_error = 1L), \n  .     evaluate:::evaluate_call(expr, parsed$src[[i]], envir = envir, \n  .         enclos = enclos, debug = debug, last = i == length(out), \n  .         use_try = stop_on_error != 2L, keep_warning = keep_warning, \n  .         keep_message = keep_message, output_handler = output_handler, \n  .         include_timing = include_timing), evaluate:::timing_fn(handle(ev <- withCallingHandlers(withVisible(eval(expr, \n  .         envir, enclos)), warning = wHandler, error = eHandler, \n  .         message = mHandler))), evaluate:::handle(ev <- withCallingHandlers(withVisible(eval(expr, \n  .         envir, enclos)), warning = wHandler, error = eHandler, \n  .         message = mHandler)), base::try(f, silent = TRUE), base::tryCatch(expr, \n  .         error = function(e) {\n  .             call <- conditionCall(e)\n  .             if (!is.null(call)) {\n  .                 if (identical(call[[1L]], quote(doTryCatch))) \n  .                   call <- sys.call(-4L)\n  .                 dcall <- deparse(call)[1L]\n  .                 prefix <- paste(\"Error in\", dcall, \": \")\n  .                 LONG <- 75L\n  .                 sm <- strsplit(conditionMessage(e), \"\\n\")[[1L]]\n  .                 w <- 14L + nchar(dcall, type = \"w\") + nchar(sm[1L], \n  .                   type = \"w\")\n  .                 if (is.na(w)) \n  .                   w <- 14L + nchar(dcall, type = \"b\") + nchar(sm[1L], \n  .                     type = \"b\")\n  .                 if (w > LONG) \n  .                   prefix <- paste0(prefix, \"\\n  \")\n  .             }\n  .             else prefix <- \"Error : \"\n  .             msg <- paste0(prefix, conditionMessage(e), \"\\n\")\n  .             .Internal(seterrmessage(msg[1L]))\n  .             if (!silent && isTRUE(getOption(\"show.error.messages\"))) {\n  .                 cat(msg, file = outFile)\n  .                 .Internal(printDeferredWarnings())\n  .             }\n  .             invisible(structure(msg, class = \"try-error\", condition = e))\n  .         }), base:::tryCatchList(expr, classes, parentenv, handlers), \n  .     base:::tryCatchOne(expr, names, parentenv, handlers[[1L]]), \n  .     base:::doTryCatch(return(expr), name, parentenv, handler), \n  .     base::withCallingHandlers(withVisible(eval(expr, envir, enclos)), \n  .         warning = wHandler, error = eHandler, message = mHandler), \n  .     base::withVisible(eval(expr, envir, enclos)), base::eval(expr, \n  .         envir, enclos), base::eval(expr, envir, enclos), global::comp_perf(all_eval, \n  .         metrics = c(\"mape\"), gen_cols = c(\"n\", \"prev\")), df[, \n  .         keep_cols], tibble:::`[.tbl_df`(df, , keep_cols), tibble:::vectbl_as_col_location(j, \n  .         length(xo), names(xo), j_arg = j_arg, assign = FALSE), \n  .     tibble:::subclass_col_index_errors(vec_as_location(j, n, \n  .         names), j_arg = j_arg, assign = assign), base::withCallingHandlers(expr, \n  .         vctrs_error_subscript = function(cnd) {\n  .             cnd$subscript_arg <- j_arg\n  .             cnd$subscript_elt <- \"column\"\n  .             if (isTRUE(assign) && !isTRUE(cnd$subscript_action %in% \n  .                 c(\"negate\"))) {\n  .                 cnd$subscript_action <- \"assign\"\n  .             }\n  .             cnd_signal(cnd)\n  .         }), vctrs::vec_as_location(j, n, names), (function () \n  .     stop_subscript_oob(i = i, subscript_type = subscript_type, \n  .         names = names, subscript_action = subscript_action, subscript_arg = subscript_arg))(), \n  .     vctrs:::stop_subscript_oob(i = i, subscript_type = subscript_type, \n  .         names = names, subscript_action = subscript_action, subscript_arg = subscript_arg), \n  .     vctrs:::stop_subscript(class = \"vctrs_error_subscript_oob\", \n  .         i = i, subscript_type = subscript_type, ...)), parents = c(0L, \n  . 1L, 2L, 3L, 4L, 5L, 6L, 7L, 6L, 9L, 10L, 4L, 12L, 13L, 13L, 15L, \n  . 16L, 17L, 18L, 19L, 13L, 13L, 13L, 23L, 0L, 25L, 25L, 27L, 28L, \n  . 29L, 28L, 31L, 32L, 33L), indices = 1:34), class = \"rlang_trace\", version = 1L), \n  .     parent = NULL, i = c(\"tld\", \"registrar\", \"mape\"), subscript_type = \"character\", \n  .     names = c(\"tld_registrar_index\", \"roc_auc\", \"log_loss\", \"mape\", \n  .     \"average_precision\", \"specificity\", \"sensitivity\", \"precision\", \n  .     \"prev\", \"mean_pred\", \"total_actual\", \"total_pred\", \"n\"), \n  .     subscript_action = NULL, subscript_arg = \"\"), class = c(\"vctrs_error_subscript_oob\", \n  . \"vctrs_error_subscript\", \"rlang_error\", \"error\", \"condition\")))",
      "15. cnd_signal(cnd)",
      "16. rlang:::signal_abort(x)"
     ]
    }
   ],
   "source": [
    "comp_perf <- function(eval_df_list, metrics = c(), gen_cols = c()) {\n",
    "    keep_cols <- c('tld', 'registrar', metrics)\n",
    "#     eval1 <- eval1 %>% select(all_of(c(keep_cols, 'n')))\n",
    "#     print(head(eval1))\n",
    "    eval_results <- list()\n",
    "    last_col = names(eval_df_list)[length(eval_df_list)]\n",
    "    for (col in names(eval_df_list)) {\n",
    "        rep_cols <- paste(metrics, col, sep=\"_\")\n",
    "        df <- eval_df_list[[col]]\n",
    "        if (col == last_col) {\n",
    "            df <- df[, c(keep_cols, gen_cols)]\n",
    "        } else{\n",
    "            df <- df[, keep_cols]\n",
    "        }\n",
    "        df <- df %>% rename_at(vars(metrics), ~rep_cols)\n",
    "        eval_results[[col]] <- df\n",
    "    }\n",
    "\n",
    "#     evals <- eval1 %>% inner_join(eval2, by=c(\"tld\", \"registrar\"), suffix=suff)\n",
    "    evals <- Reduce(function(...) merge(..., by=c(\"tld\", \"registrar\"), all=T), eval_results)\n",
    "    evals\n",
    "}\n",
    "\n",
    "# eval_df_list = list(rf_eval, rf_seg_eval, rf_seg2_eval, group_eval)                    \n",
    "evals <- comp_perf(all_eval, metrics=c(\"mape\"), gen_cols=c(\"n\", \"prev\"))\n",
    "evals %>% arrange(desc(n)) %>% na.exclude"
   ]
  },
  {
   "cell_type": "markdown",
   "id": "0857804b",
   "metadata": {},
   "source": [
    "## Best model chosen by Meta Models"
   ]
  },
  {
   "cell_type": "code",
   "execution_count": 27,
   "id": "fecbecfc",
   "metadata": {},
   "outputs": [
    {
     "name": "stderr",
     "output_type": "stream",
     "text": [
      "Adding missing grouping variables: `tld_registrar_index`\n",
      "\n"
     ]
    },
    {
     "data": {
      "text/html": [
       "<table class=\"dataframe\">\n",
       "<caption>A tibble: 3 × 8</caption>\n",
       "<thead>\n",
       "\t<tr><th scope=col>metric</th><th scope=col>pred_agg_glm_ALL</th><th scope=col>pred_seg_rf_ALL</th><th scope=col>pred_seg_glm_ALL</th><th scope=col>pred_seg2_glm_ALL</th><th scope=col>pred_agg_rf_ALL</th><th scope=col>pred_seg2_rf_ALL</th><th scope=col>NA</th></tr>\n",
       "\t<tr><th scope=col>&lt;chr&gt;</th><th scope=col>&lt;dbl&gt;</th><th scope=col>&lt;dbl&gt;</th><th scope=col>&lt;dbl&gt;</th><th scope=col>&lt;dbl&gt;</th><th scope=col>&lt;dbl&gt;</th><th scope=col>&lt;dbl&gt;</th><th scope=col>&lt;dbl&gt;</th></tr>\n",
       "</thead>\n",
       "<tbody>\n",
       "\t<tr><td>l10_best_model </td><td>127</td><td> 84</td><td>131</td><td>181</td><td> 76</td><td>60</td><td>11</td></tr>\n",
       "\t<tr><td>auc_best_model </td><td>134</td><td>101</td><td>127</td><td>120</td><td>122</td><td>55</td><td>11</td></tr>\n",
       "\t<tr><td>mape_best_model</td><td>129</td><td> 71</td><td>136</td><td>142</td><td>115</td><td>66</td><td>11</td></tr>\n",
       "</tbody>\n",
       "</table>\n"
      ],
      "text/latex": [
       "A tibble: 3 × 8\n",
       "\\begin{tabular}{llllllll}\n",
       " metric & pred\\_agg\\_glm\\_ALL & pred\\_seg\\_rf\\_ALL & pred\\_seg\\_glm\\_ALL & pred\\_seg2\\_glm\\_ALL & pred\\_agg\\_rf\\_ALL & pred\\_seg2\\_rf\\_ALL & NA\\\\\n",
       " <chr> & <dbl> & <dbl> & <dbl> & <dbl> & <dbl> & <dbl> & <dbl>\\\\\n",
       "\\hline\n",
       "\t l10\\_best\\_model  & 127 &  84 & 131 & 181 &  76 & 60 & 11\\\\\n",
       "\t auc\\_best\\_model  & 134 & 101 & 127 & 120 & 122 & 55 & 11\\\\\n",
       "\t mape\\_best\\_model & 129 &  71 & 136 & 142 & 115 & 66 & 11\\\\\n",
       "\\end{tabular}\n"
      ],
      "text/markdown": [
       "\n",
       "A tibble: 3 × 8\n",
       "\n",
       "| metric &lt;chr&gt; | pred_agg_glm_ALL &lt;dbl&gt; | pred_seg_rf_ALL &lt;dbl&gt; | pred_seg_glm_ALL &lt;dbl&gt; | pred_seg2_glm_ALL &lt;dbl&gt; | pred_agg_rf_ALL &lt;dbl&gt; | pred_seg2_rf_ALL &lt;dbl&gt; | NA &lt;dbl&gt; |\n",
       "|---|---|---|---|---|---|---|---|\n",
       "| l10_best_model  | 127 |  84 | 131 | 181 |  76 | 60 | 11 |\n",
       "| auc_best_model  | 134 | 101 | 127 | 120 | 122 | 55 | 11 |\n",
       "| mape_best_model | 129 |  71 | 136 | 142 | 115 | 66 | 11 |\n",
       "\n"
      ],
      "text/plain": [
       "  metric          pred_agg_glm_ALL pred_seg_rf_ALL pred_seg_glm_ALL\n",
       "1 l10_best_model  127               84             131             \n",
       "2 auc_best_model  134              101             127             \n",
       "3 mape_best_model 129               71             136             \n",
       "  pred_seg2_glm_ALL pred_agg_rf_ALL pred_seg2_rf_ALL NA\n",
       "1 181                76             60               11\n",
       "2 120               122             55               11\n",
       "3 142               115             66               11"
      ]
     },
     "metadata": {},
     "output_type": "display_data"
    }
   ],
   "source": [
    "best_model_cols <- names(df)[grepl('best_model', names(df))]\n",
    "\n",
    "df %>% group_by(tld_registrar_index) %>%\n",
    "    select(all_of(best_model_cols)) %>%\n",
    "    summarise_all(first) %>%\n",
    "    pivot_longer(!tld_registrar_index, names_to=\"metric\", values_to=\"model\") %>%\n",
    "    select(metric, model) %>%\n",
    "    mutate(ones = 1) %>%\n",
    "    pivot_wider(names_from=model, values_from=ones, values_fill=0, values_fn=sum)"
   ]
  },
  {
   "cell_type": "markdown",
   "id": "df7d5b3e",
   "metadata": {},
   "source": [
    "## Best Performing models on Test Set"
   ]
  },
  {
   "cell_type": "code",
   "execution_count": 67,
   "id": "1d76caf2",
   "metadata": {},
   "outputs": [
    {
     "data": {
      "text/html": [
       "<table class=\"dataframe\">\n",
       "<caption>A tibble: 6 × 16</caption>\n",
       "<thead>\n",
       "\t<tr><th scope=col>tld_registrar_index</th><th scope=col>roc_auc</th><th scope=col>log_loss</th><th scope=col>mape</th><th scope=col>l10</th><th scope=col>augc</th><th scope=col>average_precision</th><th scope=col>specificity</th><th scope=col>sensitivity</th><th scope=col>precision</th><th scope=col>prev</th><th scope=col>mean_pred</th><th scope=col>total_actual</th><th scope=col>total_pred</th><th scope=col>n</th><th scope=col>model</th></tr>\n",
       "\t<tr><th scope=col>&lt;fct&gt;</th><th scope=col>&lt;dbl&gt;</th><th scope=col>&lt;dbl&gt;</th><th scope=col>&lt;dbl&gt;</th><th scope=col>&lt;dbl&gt;</th><th scope=col>&lt;dbl&gt;</th><th scope=col>&lt;dbl&gt;</th><th scope=col>&lt;dbl&gt;</th><th scope=col>&lt;dbl&gt;</th><th scope=col>&lt;dbl&gt;</th><th scope=col>&lt;dbl&gt;</th><th scope=col>&lt;dbl&gt;</th><th scope=col>&lt;dbl&gt;</th><th scope=col>&lt;dbl&gt;</th><th scope=col>&lt;int&gt;</th><th scope=col>&lt;chr&gt;</th></tr>\n",
       "</thead>\n",
       "<tbody>\n",
       "\t<tr><td>sitegmo      </td><td>0.9736152</td><td>0.05115357</td><td> 89.16774</td><td>1.133061</td><td>0.5073648</td><td>0.43520608</td><td>0.9974300</td><td>0.235654170</td><td>0.5992218</td><td>0.016043897</td><td>0.03034988</td><td>1307</td><td>2472.4224</td><td>81464</td><td>pred_agg_rf_ALL</td></tr>\n",
       "\t<tr><td>sitenamecheap</td><td>0.7450947</td><td>0.10959148</td><td>217.80284</td><td>1.068574</td><td>0.5047234</td><td>0.17492730</td><td>0.9999443</td><td>0.004771643</td><td>0.6363636</td><td>0.020030585</td><td>0.06365777</td><td>1467</td><td>4662.1676</td><td>73238</td><td>pred_agg_rf_ALL</td></tr>\n",
       "\t<tr><td>sitealibaba  </td><td>0.9352985</td><td>0.04743158</td><td>258.25177</td><td>1.061886</td><td>0.5035517</td><td>0.15563072</td><td>0.9998199</td><td>0.021604938</td><td>0.5000000</td><td>0.008265517</td><td>0.02961136</td><td> 324</td><td>1160.7357</td><td>39199</td><td>pred_agg_rf_ALL</td></tr>\n",
       "\t<tr><td>sitego daddy </td><td>0.7324261</td><td>0.21060918</td><td> 80.24787</td><td>1.079106</td><td>0.5115494</td><td>0.13827348</td><td>0.9994997</td><td>0.011931818</td><td>0.5833333</td><td>0.055448789</td><td>0.09994526</td><td>1760</td><td>3172.3625</td><td>31741</td><td>pred_agg_rf_ALL</td></tr>\n",
       "\t<tr><td>sitereg.ru   </td><td>0.6989629</td><td>0.11475091</td><td>112.77196</td><td>1.050993</td><td>0.5044840</td><td>0.07479221</td><td>0.9999031</td><td>0.000000000</td><td>0.0000000</td><td>0.023540549</td><td>0.05008769</td><td> 746</td><td>1587.2788</td><td>31690</td><td>pred_agg_rf_ALL</td></tr>\n",
       "\t<tr><td>sitepdr china</td><td>0.6995044</td><td>0.03051156</td><td>711.67816</td><td>1.011310</td><td>0.5005380</td><td>0.01859156</td><td>1.0000000</td><td>0.000000000</td><td>       NA</td><td>0.002627203</td><td>0.02132443</td><td>  79</td><td> 641.2257</td><td>30070</td><td>pred_agg_rf_ALL</td></tr>\n",
       "</tbody>\n",
       "</table>\n"
      ],
      "text/latex": [
       "A tibble: 6 × 16\n",
       "\\begin{tabular}{llllllllllllllll}\n",
       " tld\\_registrar\\_index & roc\\_auc & log\\_loss & mape & l10 & augc & average\\_precision & specificity & sensitivity & precision & prev & mean\\_pred & total\\_actual & total\\_pred & n & model\\\\\n",
       " <fct> & <dbl> & <dbl> & <dbl> & <dbl> & <dbl> & <dbl> & <dbl> & <dbl> & <dbl> & <dbl> & <dbl> & <dbl> & <dbl> & <int> & <chr>\\\\\n",
       "\\hline\n",
       "\t sitegmo       & 0.9736152 & 0.05115357 &  89.16774 & 1.133061 & 0.5073648 & 0.43520608 & 0.9974300 & 0.235654170 & 0.5992218 & 0.016043897 & 0.03034988 & 1307 & 2472.4224 & 81464 & pred\\_agg\\_rf\\_ALL\\\\\n",
       "\t sitenamecheap & 0.7450947 & 0.10959148 & 217.80284 & 1.068574 & 0.5047234 & 0.17492730 & 0.9999443 & 0.004771643 & 0.6363636 & 0.020030585 & 0.06365777 & 1467 & 4662.1676 & 73238 & pred\\_agg\\_rf\\_ALL\\\\\n",
       "\t sitealibaba   & 0.9352985 & 0.04743158 & 258.25177 & 1.061886 & 0.5035517 & 0.15563072 & 0.9998199 & 0.021604938 & 0.5000000 & 0.008265517 & 0.02961136 &  324 & 1160.7357 & 39199 & pred\\_agg\\_rf\\_ALL\\\\\n",
       "\t sitego daddy  & 0.7324261 & 0.21060918 &  80.24787 & 1.079106 & 0.5115494 & 0.13827348 & 0.9994997 & 0.011931818 & 0.5833333 & 0.055448789 & 0.09994526 & 1760 & 3172.3625 & 31741 & pred\\_agg\\_rf\\_ALL\\\\\n",
       "\t sitereg.ru    & 0.6989629 & 0.11475091 & 112.77196 & 1.050993 & 0.5044840 & 0.07479221 & 0.9999031 & 0.000000000 & 0.0000000 & 0.023540549 & 0.05008769 &  746 & 1587.2788 & 31690 & pred\\_agg\\_rf\\_ALL\\\\\n",
       "\t sitepdr china & 0.6995044 & 0.03051156 & 711.67816 & 1.011310 & 0.5005380 & 0.01859156 & 1.0000000 & 0.000000000 &        NA & 0.002627203 & 0.02132443 &   79 &  641.2257 & 30070 & pred\\_agg\\_rf\\_ALL\\\\\n",
       "\\end{tabular}\n"
      ],
      "text/markdown": [
       "\n",
       "A tibble: 6 × 16\n",
       "\n",
       "| tld_registrar_index &lt;fct&gt; | roc_auc &lt;dbl&gt; | log_loss &lt;dbl&gt; | mape &lt;dbl&gt; | l10 &lt;dbl&gt; | augc &lt;dbl&gt; | average_precision &lt;dbl&gt; | specificity &lt;dbl&gt; | sensitivity &lt;dbl&gt; | precision &lt;dbl&gt; | prev &lt;dbl&gt; | mean_pred &lt;dbl&gt; | total_actual &lt;dbl&gt; | total_pred &lt;dbl&gt; | n &lt;int&gt; | model &lt;chr&gt; |\n",
       "|---|---|---|---|---|---|---|---|---|---|---|---|---|---|---|---|\n",
       "| sitegmo       | 0.9736152 | 0.05115357 |  89.16774 | 1.133061 | 0.5073648 | 0.43520608 | 0.9974300 | 0.235654170 | 0.5992218 | 0.016043897 | 0.03034988 | 1307 | 2472.4224 | 81464 | pred_agg_rf_ALL |\n",
       "| sitenamecheap | 0.7450947 | 0.10959148 | 217.80284 | 1.068574 | 0.5047234 | 0.17492730 | 0.9999443 | 0.004771643 | 0.6363636 | 0.020030585 | 0.06365777 | 1467 | 4662.1676 | 73238 | pred_agg_rf_ALL |\n",
       "| sitealibaba   | 0.9352985 | 0.04743158 | 258.25177 | 1.061886 | 0.5035517 | 0.15563072 | 0.9998199 | 0.021604938 | 0.5000000 | 0.008265517 | 0.02961136 |  324 | 1160.7357 | 39199 | pred_agg_rf_ALL |\n",
       "| sitego daddy  | 0.7324261 | 0.21060918 |  80.24787 | 1.079106 | 0.5115494 | 0.13827348 | 0.9994997 | 0.011931818 | 0.5833333 | 0.055448789 | 0.09994526 | 1760 | 3172.3625 | 31741 | pred_agg_rf_ALL |\n",
       "| sitereg.ru    | 0.6989629 | 0.11475091 | 112.77196 | 1.050993 | 0.5044840 | 0.07479221 | 0.9999031 | 0.000000000 | 0.0000000 | 0.023540549 | 0.05008769 |  746 | 1587.2788 | 31690 | pred_agg_rf_ALL |\n",
       "| sitepdr china | 0.6995044 | 0.03051156 | 711.67816 | 1.011310 | 0.5005380 | 0.01859156 | 1.0000000 | 0.000000000 |        NA | 0.002627203 | 0.02132443 |   79 |  641.2257 | 30070 | pred_agg_rf_ALL |\n",
       "\n"
      ],
      "text/plain": [
       "  tld_registrar_index roc_auc   log_loss   mape      l10      augc     \n",
       "1 sitegmo             0.9736152 0.05115357  89.16774 1.133061 0.5073648\n",
       "2 sitenamecheap       0.7450947 0.10959148 217.80284 1.068574 0.5047234\n",
       "3 sitealibaba         0.9352985 0.04743158 258.25177 1.061886 0.5035517\n",
       "4 sitego daddy        0.7324261 0.21060918  80.24787 1.079106 0.5115494\n",
       "5 sitereg.ru          0.6989629 0.11475091 112.77196 1.050993 0.5044840\n",
       "6 sitepdr china       0.6995044 0.03051156 711.67816 1.011310 0.5005380\n",
       "  average_precision specificity sensitivity precision prev        mean_pred \n",
       "1 0.43520608        0.9974300   0.235654170 0.5992218 0.016043897 0.03034988\n",
       "2 0.17492730        0.9999443   0.004771643 0.6363636 0.020030585 0.06365777\n",
       "3 0.15563072        0.9998199   0.021604938 0.5000000 0.008265517 0.02961136\n",
       "4 0.13827348        0.9994997   0.011931818 0.5833333 0.055448789 0.09994526\n",
       "5 0.07479221        0.9999031   0.000000000 0.0000000 0.023540549 0.05008769\n",
       "6 0.01859156        1.0000000   0.000000000        NA 0.002627203 0.02132443\n",
       "  total_actual total_pred n     model          \n",
       "1 1307         2472.4224  81464 pred_agg_rf_ALL\n",
       "2 1467         4662.1676  73238 pred_agg_rf_ALL\n",
       "3  324         1160.7357  39199 pred_agg_rf_ALL\n",
       "4 1760         3172.3625  31741 pred_agg_rf_ALL\n",
       "5  746         1587.2788  31690 pred_agg_rf_ALL\n",
       "6   79          641.2257  30070 pred_agg_rf_ALL"
      ]
     },
     "metadata": {},
     "output_type": "display_data"
    }
   ],
   "source": [
    "# Combine into one df\n",
    "df_list <- list()\n",
    "for (model in names(all_eval)) {\n",
    "    tmp <- all_eval[[model]]\n",
    "    tmp[,'model'] <- model\n",
    "    df_list[[model]] <- tmp\n",
    "}\n",
    "results <- bind_rows(df_list)\n",
    "head(results)"
   ]
  },
  {
   "cell_type": "code",
   "execution_count": 71,
   "id": "3ab1bfe8",
   "metadata": {},
   "outputs": [
    {
     "name": "stderr",
     "output_type": "stream",
     "text": [
      "Adding missing grouping variables: `model`\n",
      "\n"
     ]
    },
    {
     "data": {
      "text/html": [
       "<table class=\"dataframe\">\n",
       "<caption>A tibble: 9 × 6</caption>\n",
       "<thead>\n",
       "\t<tr><th scope=col>model</th><th scope=col>l10_rank</th><th scope=col>ll_rank</th><th scope=col>auc_rank</th><th scope=col>augc_rank</th><th scope=col>mape_rank</th></tr>\n",
       "\t<tr><th scope=col>&lt;chr&gt;</th><th scope=col>&lt;dbl&gt;</th><th scope=col>&lt;dbl&gt;</th><th scope=col>&lt;dbl&gt;</th><th scope=col>&lt;dbl&gt;</th><th scope=col>&lt;dbl&gt;</th></tr>\n",
       "</thead>\n",
       "<tbody>\n",
       "\t<tr><td>pred_agg_glm_ALL </td><td>4.940299</td><td>5.311940</td><td>4.578358</td><td>5.036567</td><td>4.882090</td></tr>\n",
       "\t<tr><td>pred_agg_rf_ALL  </td><td>4.653731</td><td>5.775373</td><td>3.997761</td><td>4.601493</td><td>4.814179</td></tr>\n",
       "\t<tr><td>pred_meta_auc    </td><td>4.780597</td><td>5.611194</td><td>5.003731</td><td>4.600746</td><td>5.136567</td></tr>\n",
       "\t<tr><td>pred_meta_l10    </td><td>4.772388</td><td>5.026119</td><td>5.179851</td><td>4.920896</td><td>5.183582</td></tr>\n",
       "\t<tr><td>pred_meta_mape   </td><td>5.076866</td><td>5.488806</td><td>5.477612</td><td>4.894776</td><td>4.382090</td></tr>\n",
       "\t<tr><td>pred_seg_glm_ALL </td><td>4.747761</td><td>5.102239</td><td>4.600000</td><td>4.714925</td><td>4.680597</td></tr>\n",
       "\t<tr><td>pred_seg_rf_ALL  </td><td>4.976866</td><td>5.332090</td><td>4.899254</td><td>4.869403</td><td>4.908955</td></tr>\n",
       "\t<tr><td>pred_seg2_glm_ALL</td><td>5.493284</td><td>2.813433</td><td>5.288060</td><td>5.550746</td><td>5.433582</td></tr>\n",
       "\t<tr><td>pred_seg2_rf_ALL </td><td>5.558209</td><td>4.538806</td><td>5.975373</td><td>5.810448</td><td>5.578358</td></tr>\n",
       "</tbody>\n",
       "</table>\n"
      ],
      "text/latex": [
       "A tibble: 9 × 6\n",
       "\\begin{tabular}{llllll}\n",
       " model & l10\\_rank & ll\\_rank & auc\\_rank & augc\\_rank & mape\\_rank\\\\\n",
       " <chr> & <dbl> & <dbl> & <dbl> & <dbl> & <dbl>\\\\\n",
       "\\hline\n",
       "\t pred\\_agg\\_glm\\_ALL  & 4.940299 & 5.311940 & 4.578358 & 5.036567 & 4.882090\\\\\n",
       "\t pred\\_agg\\_rf\\_ALL   & 4.653731 & 5.775373 & 3.997761 & 4.601493 & 4.814179\\\\\n",
       "\t pred\\_meta\\_auc     & 4.780597 & 5.611194 & 5.003731 & 4.600746 & 5.136567\\\\\n",
       "\t pred\\_meta\\_l10     & 4.772388 & 5.026119 & 5.179851 & 4.920896 & 5.183582\\\\\n",
       "\t pred\\_meta\\_mape    & 5.076866 & 5.488806 & 5.477612 & 4.894776 & 4.382090\\\\\n",
       "\t pred\\_seg\\_glm\\_ALL  & 4.747761 & 5.102239 & 4.600000 & 4.714925 & 4.680597\\\\\n",
       "\t pred\\_seg\\_rf\\_ALL   & 4.976866 & 5.332090 & 4.899254 & 4.869403 & 4.908955\\\\\n",
       "\t pred\\_seg2\\_glm\\_ALL & 5.493284 & 2.813433 & 5.288060 & 5.550746 & 5.433582\\\\\n",
       "\t pred\\_seg2\\_rf\\_ALL  & 5.558209 & 4.538806 & 5.975373 & 5.810448 & 5.578358\\\\\n",
       "\\end{tabular}\n"
      ],
      "text/markdown": [
       "\n",
       "A tibble: 9 × 6\n",
       "\n",
       "| model &lt;chr&gt; | l10_rank &lt;dbl&gt; | ll_rank &lt;dbl&gt; | auc_rank &lt;dbl&gt; | augc_rank &lt;dbl&gt; | mape_rank &lt;dbl&gt; |\n",
       "|---|---|---|---|---|---|\n",
       "| pred_agg_glm_ALL  | 4.940299 | 5.311940 | 4.578358 | 5.036567 | 4.882090 |\n",
       "| pred_agg_rf_ALL   | 4.653731 | 5.775373 | 3.997761 | 4.601493 | 4.814179 |\n",
       "| pred_meta_auc     | 4.780597 | 5.611194 | 5.003731 | 4.600746 | 5.136567 |\n",
       "| pred_meta_l10     | 4.772388 | 5.026119 | 5.179851 | 4.920896 | 5.183582 |\n",
       "| pred_meta_mape    | 5.076866 | 5.488806 | 5.477612 | 4.894776 | 4.382090 |\n",
       "| pred_seg_glm_ALL  | 4.747761 | 5.102239 | 4.600000 | 4.714925 | 4.680597 |\n",
       "| pred_seg_rf_ALL   | 4.976866 | 5.332090 | 4.899254 | 4.869403 | 4.908955 |\n",
       "| pred_seg2_glm_ALL | 5.493284 | 2.813433 | 5.288060 | 5.550746 | 5.433582 |\n",
       "| pred_seg2_rf_ALL  | 5.558209 | 4.538806 | 5.975373 | 5.810448 | 5.578358 |\n",
       "\n"
      ],
      "text/plain": [
       "  model             l10_rank ll_rank  auc_rank augc_rank mape_rank\n",
       "1 pred_agg_glm_ALL  4.940299 5.311940 4.578358 5.036567  4.882090 \n",
       "2 pred_agg_rf_ALL   4.653731 5.775373 3.997761 4.601493  4.814179 \n",
       "3 pred_meta_auc     4.780597 5.611194 5.003731 4.600746  5.136567 \n",
       "4 pred_meta_l10     4.772388 5.026119 5.179851 4.920896  5.183582 \n",
       "5 pred_meta_mape    5.076866 5.488806 5.477612 4.894776  4.382090 \n",
       "6 pred_seg_glm_ALL  4.747761 5.102239 4.600000 4.714925  4.680597 \n",
       "7 pred_seg_rf_ALL   4.976866 5.332090 4.899254 4.869403  4.908955 \n",
       "8 pred_seg2_glm_ALL 5.493284 2.813433 5.288060 5.550746  5.433582 \n",
       "9 pred_seg2_rf_ALL  5.558209 4.538806 5.975373 5.810448  5.578358 "
      ]
     },
     "metadata": {},
     "output_type": "display_data"
    }
   ],
   "source": [
    "metrics <- c('roc_auc', 'log_loss', 'mape', 'l10', 'augc')\n",
    "results %>% select(all_of(c('tld_registrar_index', 'model', metrics))) %>%\n",
    "    group_by(tld_registrar_index) %>%\n",
    "    mutate(\n",
    "        ll_rank = rank(desc(log_loss)),\n",
    "        auc_rank = rank(desc(roc_auc)),\n",
    "        mape_rank = rank(mape),\n",
    "        l10_rank = rank(desc(l10)),\n",
    "        augc_rank = rank(desc(augc))\n",
    "    ) %>%\n",
    "    ungroup() %>%\n",
    "    group_by(model) %>%\n",
    "    select(l10_rank, ll_rank, auc_rank, augc_rank, mape_rank) %>%\n",
    "    summarise_all(mean)"
   ]
  },
  {
   "cell_type": "code",
   "execution_count": 72,
   "id": "fda5ef71",
   "metadata": {},
   "outputs": [
    {
     "name": "stderr",
     "output_type": "stream",
     "text": [
      "Adding missing grouping variables: `model`\n",
      "\n"
     ]
    },
    {
     "data": {
      "text/html": [
       "<table class=\"dataframe\">\n",
       "<caption>A tibble: 9 × 6</caption>\n",
       "<thead>\n",
       "\t<tr><th scope=col>model</th><th scope=col>roc_auc</th><th scope=col>mape</th><th scope=col>l10</th><th scope=col>augc</th><th scope=col>log_loss</th></tr>\n",
       "\t<tr><th scope=col>&lt;chr&gt;</th><th scope=col>&lt;dbl&gt;</th><th scope=col>&lt;dbl&gt;</th><th scope=col>&lt;dbl&gt;</th><th scope=col>&lt;dbl&gt;</th><th scope=col>&lt;dbl&gt;</th></tr>\n",
       "</thead>\n",
       "<tbody>\n",
       "\t<tr><td>pred_agg_glm_ALL </td><td>0.6336300</td><td> 94.56334</td><td>1.077632</td><td>0.5642464</td><td>0.5103772</td></tr>\n",
       "\t<tr><td>pred_agg_rf_ALL  </td><td>0.6485482</td><td>122.07627</td><td>1.090383</td><td>0.5655534</td><td>0.4522401</td></tr>\n",
       "\t<tr><td>pred_meta_auc    </td><td>0.6462018</td><td>107.33034</td><td>1.085281</td><td>0.5413842</td><td>1.5130798</td></tr>\n",
       "\t<tr><td>pred_meta_l10    </td><td>0.6283236</td><td> 98.66943</td><td>1.085421</td><td>0.5399839</td><td>2.1262997</td></tr>\n",
       "\t<tr><td>pred_meta_mape   </td><td>0.6405128</td><td> 53.28077</td><td>1.079971</td><td>0.5443152</td><td>1.2472890</td></tr>\n",
       "\t<tr><td>pred_seg_glm_ALL </td><td>0.6318735</td><td> 59.29935</td><td>1.080967</td><td>0.5631592</td><td>1.5648633</td></tr>\n",
       "\t<tr><td>pred_seg_rf_ALL  </td><td>0.6341160</td><td>124.61916</td><td>1.076303</td><td>0.5638892</td><td>0.4698480</td></tr>\n",
       "\t<tr><td>pred_seg2_glm_ALL</td><td>0.5925520</td><td>223.28578</td><td>1.052348</td><td>0.5396937</td><td>4.3997144</td></tr>\n",
       "\t<tr><td>pred_seg2_rf_ALL </td><td>0.5968603</td><td>169.71552</td><td>1.061403</td><td>0.5405241</td><td>1.1684953</td></tr>\n",
       "</tbody>\n",
       "</table>\n"
      ],
      "text/latex": [
       "A tibble: 9 × 6\n",
       "\\begin{tabular}{llllll}\n",
       " model & roc\\_auc & mape & l10 & augc & log\\_loss\\\\\n",
       " <chr> & <dbl> & <dbl> & <dbl> & <dbl> & <dbl>\\\\\n",
       "\\hline\n",
       "\t pred\\_agg\\_glm\\_ALL  & 0.6336300 &  94.56334 & 1.077632 & 0.5642464 & 0.5103772\\\\\n",
       "\t pred\\_agg\\_rf\\_ALL   & 0.6485482 & 122.07627 & 1.090383 & 0.5655534 & 0.4522401\\\\\n",
       "\t pred\\_meta\\_auc     & 0.6462018 & 107.33034 & 1.085281 & 0.5413842 & 1.5130798\\\\\n",
       "\t pred\\_meta\\_l10     & 0.6283236 &  98.66943 & 1.085421 & 0.5399839 & 2.1262997\\\\\n",
       "\t pred\\_meta\\_mape    & 0.6405128 &  53.28077 & 1.079971 & 0.5443152 & 1.2472890\\\\\n",
       "\t pred\\_seg\\_glm\\_ALL  & 0.6318735 &  59.29935 & 1.080967 & 0.5631592 & 1.5648633\\\\\n",
       "\t pred\\_seg\\_rf\\_ALL   & 0.6341160 & 124.61916 & 1.076303 & 0.5638892 & 0.4698480\\\\\n",
       "\t pred\\_seg2\\_glm\\_ALL & 0.5925520 & 223.28578 & 1.052348 & 0.5396937 & 4.3997144\\\\\n",
       "\t pred\\_seg2\\_rf\\_ALL  & 0.5968603 & 169.71552 & 1.061403 & 0.5405241 & 1.1684953\\\\\n",
       "\\end{tabular}\n"
      ],
      "text/markdown": [
       "\n",
       "A tibble: 9 × 6\n",
       "\n",
       "| model &lt;chr&gt; | roc_auc &lt;dbl&gt; | mape &lt;dbl&gt; | l10 &lt;dbl&gt; | augc &lt;dbl&gt; | log_loss &lt;dbl&gt; |\n",
       "|---|---|---|---|---|---|\n",
       "| pred_agg_glm_ALL  | 0.6336300 |  94.56334 | 1.077632 | 0.5642464 | 0.5103772 |\n",
       "| pred_agg_rf_ALL   | 0.6485482 | 122.07627 | 1.090383 | 0.5655534 | 0.4522401 |\n",
       "| pred_meta_auc     | 0.6462018 | 107.33034 | 1.085281 | 0.5413842 | 1.5130798 |\n",
       "| pred_meta_l10     | 0.6283236 |  98.66943 | 1.085421 | 0.5399839 | 2.1262997 |\n",
       "| pred_meta_mape    | 0.6405128 |  53.28077 | 1.079971 | 0.5443152 | 1.2472890 |\n",
       "| pred_seg_glm_ALL  | 0.6318735 |  59.29935 | 1.080967 | 0.5631592 | 1.5648633 |\n",
       "| pred_seg_rf_ALL   | 0.6341160 | 124.61916 | 1.076303 | 0.5638892 | 0.4698480 |\n",
       "| pred_seg2_glm_ALL | 0.5925520 | 223.28578 | 1.052348 | 0.5396937 | 4.3997144 |\n",
       "| pred_seg2_rf_ALL  | 0.5968603 | 169.71552 | 1.061403 | 0.5405241 | 1.1684953 |\n",
       "\n"
      ],
      "text/plain": [
       "  model             roc_auc   mape      l10      augc      log_loss \n",
       "1 pred_agg_glm_ALL  0.6336300  94.56334 1.077632 0.5642464 0.5103772\n",
       "2 pred_agg_rf_ALL   0.6485482 122.07627 1.090383 0.5655534 0.4522401\n",
       "3 pred_meta_auc     0.6462018 107.33034 1.085281 0.5413842 1.5130798\n",
       "4 pred_meta_l10     0.6283236  98.66943 1.085421 0.5399839 2.1262997\n",
       "5 pred_meta_mape    0.6405128  53.28077 1.079971 0.5443152 1.2472890\n",
       "6 pred_seg_glm_ALL  0.6318735  59.29935 1.080967 0.5631592 1.5648633\n",
       "7 pred_seg_rf_ALL   0.6341160 124.61916 1.076303 0.5638892 0.4698480\n",
       "8 pred_seg2_glm_ALL 0.5925520 223.28578 1.052348 0.5396937 4.3997144\n",
       "9 pred_seg2_rf_ALL  0.5968603 169.71552 1.061403 0.5405241 1.1684953"
      ]
     },
     "metadata": {},
     "output_type": "display_data"
    }
   ],
   "source": [
    "new_mean <- function(vec, na.rm=F) {\n",
    "    if (na.rm) {\n",
    "        vec = vec[(!is.na(vec)) & (!is.infinite(vec))]\n",
    "    }\n",
    "    mean(vec)\n",
    "}\n",
    "\n",
    "\n",
    "results %>% select(all_of(c('tld_registrar_index', 'model', metrics))) %>%\n",
    "#     group_by(tld_registrar_index) %>%\n",
    "#     mutate(auc_rank = rank(desc(roc_auc), ties.method=), mape_rank = rank(mape)) %>%\n",
    "#     ungroup() %>%\n",
    "    group_by(model) %>%\n",
    "    select(roc_auc, mape, l10, augc, log_loss) %>%\n",
    "    summarise_all(new_mean, na.rm=T)"
   ]
  },
  {
   "cell_type": "code",
   "execution_count": 132,
   "id": "5308ce6e",
   "metadata": {},
   "outputs": [
    {
     "data": {
      "text/html": [
       "<style>\n",
       ".list-inline {list-style: none; margin:0; padding: 0}\n",
       ".list-inline>li {display: inline-block}\n",
       ".list-inline>li:not(:last-child)::after {content: \"\\00b7\"; padding: 0 .5ex}\n",
       "</style>\n",
       "<ol class=list-inline><li>'roc_auc_rank'</li><li>'mape_rank'</li></ol>\n"
      ],
      "text/latex": [
       "\\begin{enumerate*}\n",
       "\\item 'roc\\_auc\\_rank'\n",
       "\\item 'mape\\_rank'\n",
       "\\end{enumerate*}\n"
      ],
      "text/markdown": [
       "1. 'roc_auc_rank'\n",
       "2. 'mape_rank'\n",
       "\n",
       "\n"
      ],
      "text/plain": [
       "[1] \"roc_auc_rank\" \"mape_rank\"   "
      ]
     },
     "metadata": {},
     "output_type": "display_data"
    }
   ],
   "source": [
    "metric_rank"
   ]
  },
  {
   "cell_type": "markdown",
   "id": "f3fabd09",
   "metadata": {},
   "source": [
    "## Plot ROC Curves"
   ]
  },
  {
   "cell_type": "code",
   "execution_count": 75,
   "id": "4e0596d1",
   "metadata": {},
   "outputs": [
    {
     "data": {
      "image/png": "[encoded data removed]",
      "text/plain": [
       "plot without title"
      ]
     },
     "metadata": {
      "image/png": {
       "height": 420,
       "width": 420
      }
     },
     "output_type": "display_data"
    }
   ],
   "source": [
    "tld_registrar = 'onlinego daddy'\n",
    "tld_registrar = 'technamecheap'\n",
    "\n",
    "pred_col = 'pred_seg2_glm_ALL'\n",
    "df$target <- as.factor(df$target)\n",
    "df %>% filter(tld_registrar_index == tld_registrar) %>%\n",
    "    select(all_of(c(pred_cols, 'target'))) %>%\n",
    "    pivot_longer(!target, names_to='model', values_to='prediction') %>%\n",
    "    group_by(model) %>%\n",
    "    roc_curve(truth=target, event_level = \"second\", prediction) %>%\n",
    "    autoplot()"
   ]
  },
  {
   "cell_type": "code",
   "execution_count": 76,
   "id": "46be75fa",
   "metadata": {},
   "outputs": [
    {
     "data": {
      "text/html": [
       "<style>\n",
       ".dl-inline {width: auto; margin:0; padding: 0}\n",
       ".dl-inline>dt, .dl-inline>dd {float: none; width: auto; display: inline-block}\n",
       ".dl-inline>dt::after {content: \":\\0020\"; padding-right: .5ex}\n",
       ".dl-inline>dt:not(:first-of-type) {padding-left: .5ex}\n",
       "</style><dl class=dl-inline><dt>pred_agg_rf_ALL</dt><dd>0</dd><dt>pred_agg_glm_ALL</dt><dd>0</dd><dt>pred_seg2_glm_ALL</dt><dd>0.00198893850058613</dd><dt>pred_seg_glm_ALL</dt><dd>0</dd><dt>pred_seg_rf_ALL</dt><dd>0</dd><dt>pred_seg2_rf_ALL</dt><dd>0.00198893850058613</dd><dt>pred_meta_l10</dt><dd>0.00061331947202328</dd><dt>pred_meta_auc</dt><dd>0.00061331947202328</dd><dt>pred_meta_mape</dt><dd>0.000611144580278517</dd></dl>\n"
      ],
      "text/latex": [
       "\\begin{description*}\n",
       "\\item[pred\\textbackslash{}\\_agg\\textbackslash{}\\_rf\\textbackslash{}\\_ALL] 0\n",
       "\\item[pred\\textbackslash{}\\_agg\\textbackslash{}\\_glm\\textbackslash{}\\_ALL] 0\n",
       "\\item[pred\\textbackslash{}\\_seg2\\textbackslash{}\\_glm\\textbackslash{}\\_ALL] 0.00198893850058613\n",
       "\\item[pred\\textbackslash{}\\_seg\\textbackslash{}\\_glm\\textbackslash{}\\_ALL] 0\n",
       "\\item[pred\\textbackslash{}\\_seg\\textbackslash{}\\_rf\\textbackslash{}\\_ALL] 0\n",
       "\\item[pred\\textbackslash{}\\_seg2\\textbackslash{}\\_rf\\textbackslash{}\\_ALL] 0.00198893850058613\n",
       "\\item[pred\\textbackslash{}\\_meta\\textbackslash{}\\_l10] 0.00061331947202328\n",
       "\\item[pred\\textbackslash{}\\_meta\\textbackslash{}\\_auc] 0.00061331947202328\n",
       "\\item[pred\\textbackslash{}\\_meta\\textbackslash{}\\_mape] 0.000611144580278517\n",
       "\\end{description*}\n"
      ],
      "text/markdown": [
       "pred_agg_rf_ALL\n",
       ":   0pred_agg_glm_ALL\n",
       ":   0pred_seg2_glm_ALL\n",
       ":   0.00198893850058613pred_seg_glm_ALL\n",
       ":   0pred_seg_rf_ALL\n",
       ":   0pred_seg2_rf_ALL\n",
       ":   0.00198893850058613pred_meta_l10\n",
       ":   0.00061331947202328pred_meta_auc\n",
       ":   0.00061331947202328pred_meta_mape\n",
       ":   0.000611144580278517\n",
       "\n"
      ],
      "text/plain": [
       "  pred_agg_rf_ALL  pred_agg_glm_ALL pred_seg2_glm_ALL  pred_seg_glm_ALL \n",
       "     0.0000000000      0.0000000000      0.0019889385      0.0000000000 \n",
       "  pred_seg_rf_ALL  pred_seg2_rf_ALL     pred_meta_l10     pred_meta_auc \n",
       "     0.0000000000      0.0019889385      0.0006133195      0.0006133195 \n",
       "   pred_meta_mape \n",
       "     0.0006111446 "
      ]
     },
     "metadata": {},
     "output_type": "display_data"
    }
   ],
   "source": [
    "colMeans(is.na(df[,pred_cols]))"
   ]
  },
  {
   "cell_type": "code",
   "execution_count": 113,
   "id": "173a15fc",
   "metadata": {},
   "outputs": [
    {
     "data": {
      "text/plain": [
       "\n",
       "   sitenamecheap     sitego daddy   onlinego daddy  onlinenamecheap \n",
       "           73238            31741            28412            26102 \n",
       "websitenamecheap    spacego daddy    hostnamecheap   spacenamecheap \n",
       "           15584            11399            10314            10101 \n",
       "   storego daddy   storenamecheap    technamecheap     funnamecheap \n",
       "            8482             8449             7309             5068 \n",
       " websitego daddy     techgo daddy   pressnamecheap      fungo daddy \n",
       "            4123             2441             2345             1419 \n",
       "    hostgo daddy    pressgo daddy \n",
       "             373              107 "
      ]
     },
     "metadata": {},
     "output_type": "display_data"
    }
   ],
   "source": [
    "sort(table(df$tld_registrar_index), decreasing=T)"
   ]
  },
  {
   "cell_type": "markdown",
   "id": "6cf5c9d9",
   "metadata": {},
   "source": [
    "## Old Predictions"
   ]
  },
  {
   "cell_type": "code",
   "execution_count": 5,
   "id": "2b57dd47",
   "metadata": {},
   "outputs": [
    {
     "ename": "ERROR",
     "evalue": "Error in file(file, \"rt\"): cannot open the connection\n",
     "output_type": "error",
     "traceback": [
      "Error in file(file, \"rt\"): cannot open the connection\nTraceback:\n",
      "1. read.csv(pred_path)",
      "2. read.table(file = file, header = header, sep = sep, quote = quote, \n .     dec = dec, fill = fill, comment.char = comment.char, ...)",
      "3. file(file, \"rt\")"
     ]
    }
   ],
   "source": [
    "pred_path <- '/home/jupyter/Domains_202003/data/output/dp_models_20201104/preds/preds.csv'\n",
    "preds <- read.csv(pred_path)\n",
    "print(dim(preds))\n",
    "head(preds)"
   ]
  },
  {
   "cell_type": "code",
   "execution_count": null,
   "id": "1e2221b5",
   "metadata": {},
   "outputs": [],
   "source": []
  }
 ],
 "metadata": {
  "environment": {
   "name": "r-cpu.3-6.m65",
   "type": "gcloud",
   "uri": "gcr.io/deeplearning-platform-release/r-cpu.3-6:m65"
  },
  "kernelspec": {
   "display_name": "R",
   "language": "R",
   "name": "ir"
  },
  "language_info": {
   "codemirror_mode": "r",
   "file_extension": ".r",
   "mimetype": "text/x-r-source",
   "name": "R",
   "pygments_lexer": "r",
   "version": "3.6.3"
  }
 },
 "nbformat": 4,
 "nbformat_minor": 5
}
