{
 "cells": [
  {
   "cell_type": "markdown",
   "metadata": {},
   "source": [
    "# New Expiry Data Pull for rerunning of MVP scripts"
   ]
  },
  {
   "cell_type": "markdown",
   "metadata": {},
   "source": [
    "Client provided new BQ query for expiry data. Query has been QAed \n",
    "\n",
    "In order to pull data by executing a query in a given .sql file, we need to first pull the data into a table within our locally owned GCP project (otherwise, we'll run into constraints).\n",
    "\n",
    "This can be done via the following command line statement:\n",
    "\n",
    "`bq query --use_legacy_sql=false --destination_table=\"radix2020:expiry.expiry_20180101_20211231_20210215\" --flagfile=\"expiry_prepped_data.sql\"`\n",
    "\n",
    "This will create a new a new table expiry.expiry_20180101_20211231_20210215\n",
    "\n",
    "Naming convention for expiry data pulls: expiry_mindate_maxdate_pulldate"
   ]
  },
  {
   "cell_type": "code",
   "execution_count": 15,
   "metadata": {},
   "outputs": [],
   "source": [
    "library(bigrquery)"
   ]
  },
  {
   "cell_type": "code",
   "execution_count": 1,
   "metadata": {},
   "outputs": [],
   "source": [
    "projname_str <- 'radix2020'\n",
    "dbname_str <- 'expiry'\n",
    "query_file <- 'expiry_prepped_data.sql'"
   ]
  },
  {
   "cell_type": "code",
   "execution_count": 2,
   "metadata": {},
   "outputs": [
    {
     "name": "stdout",
     "output_type": "stream",
     "text": [
      "Executing command:\n",
      "\t bq query --use_legacy_sql=false --destination_table='radix2020:expiry.expiry_20180101_20211231_20210222' --flagfile='expiry_prepped_data.sql'  \n"
     ]
    }
   ],
   "source": [
    "today <- Sys.Date()\n",
    "\n",
    "tblname_str_1 <- paste0('expiry_20180101_20211231_',format(today, format=\"%Y%m%d\"))\n",
    "tblloc_str_1 <- paste0(projname_str,':',dbname_str,'.',tblname_str_1)\n",
    "\n",
    "command_str <-  paste0(\"bq query --use_legacy_sql=false --destination_table='\",\n",
    "                       tblloc_str_1,\"' --flagfile='\",query_file,\"' \")\n",
    "\n",
    "\n",
    "cat(\"Executing command:\\n\\t\", command_str,\"\\n\")"
   ]
  },
  {
   "cell_type": "code",
   "execution_count": 3,
   "metadata": {},
   "outputs": [
    {
     "name": "stdout",
     "output_type": "stream",
     "text": [
      "Created BQ table radix2020:expiry.expiry_20180101_20211231_20210222 \n"
     ]
    }
   ],
   "source": [
    "system(command_str)\n",
    "\n",
    "cat(\"Created BQ table\", tblloc_str_1 ,\"\\n\")"
   ]
  },
  {
   "cell_type": "code",
   "execution_count": 4,
   "metadata": {},
   "outputs": [
    {
     "name": "stdout",
     "output_type": "stream",
     "text": [
      "Executing command:\n",
      "\t bq update --expiration 3600 'radix2020:expiry.expiry_20180101_20211231_20210222' \n"
     ]
    }
   ],
   "source": [
    "command_str <- paste0(\"bq update --expiration 3600 '\", tblloc_str_1,\"'\")\n",
    "cat(\"Executing command:\\n\\t\", command_str,\"\\n\")"
   ]
  },
  {
   "cell_type": "code",
   "execution_count": 5,
   "metadata": {},
   "outputs": [
    {
     "name": "stdout",
     "output_type": "stream",
     "text": [
      "Updated BQ table radix2020:expiry.expiry_20180101_20211231_20210222  to be automatically deleted in 1 hour ( 2021-02-22 15:16:38 PST )\n"
     ]
    }
   ],
   "source": [
    "system(command_str)\n",
    "cat(\"Updated BQ table\", tblloc_str_1 ,\" to be automatically deleted in 1 hour (\",format(Sys.time()+ 1*60*60, tz=\"America/Los_Angeles\",usetz=TRUE),\")\\n\")"
   ]
  },
  {
   "cell_type": "code",
   "execution_count": null,
   "metadata": {},
   "outputs": [],
   "source": []
  },
  {
   "cell_type": "markdown",
   "metadata": {},
   "source": [
    "# Test/Train split"
   ]
  },
  {
   "cell_type": "markdown",
   "metadata": {},
   "source": [
    "Client has requested a 10%/45%/45% (Test/Train/Train) split \n",
    "\n",
    "with a 5 quarter time horizon... leading to an est. 560K/2.5M/2.5M obs\n",
    "\n",
    "09/28/2019 - 12/27/2020 =5Q\n",
    "\n",
    "https://www.oreilly.com/content/repeatable-sampling-of-data-sets-in-bigquery-for-machine-learning/\n",
    "https://stackoverflow.com/questions/46019624/how-to-do-repeatable-sampling-in-bigquery-standard-sql\n",
    "https://stackoverflow.com/questions/46019624/how-to-do-repeatable-sampling-in-bigquery-standard-sql"
   ]
  },
  {
   "cell_type": "code",
   "execution_count": 9,
   "metadata": {},
   "outputs": [],
   "source": [
    "maxdate <- today - 50\n",
    "mindate <- maxdate - 456"
   ]
  },
  {
   "cell_type": "code",
   "execution_count": 10,
   "metadata": {},
   "outputs": [],
   "source": [
    "# Create local dir for data\n",
    "directory <- paste0('../../data/output/datapull_', format(today, format=\"%Y%m%d\"))\n",
    "dir.create(directory, showWarnings = FALSE)"
   ]
  },
  {
   "cell_type": "code",
   "execution_count": 11,
   "metadata": {},
   "outputs": [
    {
     "name": "stdout",
     "output_type": "stream",
     "text": [
      "Executing command:\n",
      "\t bq query --destination_table='radix2020:expiry.expiry_20191005_20210103_test' 'SELECT * FROM  expiry.expiry_20180101_20211231_20210222 t WHERE   DATE(expiry_date) BETWEEN \"2019-10-05\" AND \"2021-01-03\" AND renewed_count=1 AND     ABS(HASH(expiry_date)) % 100 < 10' \n"
     ]
    }
   ],
   "source": [
    "tblname_str_2 <- paste0('expiry_',format(mindate, format=\"%Y%m%d\"),'_',format(maxdate, format=\"%Y%m%d\") ,'_test')\n",
    "tblloc_str_2 <- paste0(projname_str,':',dbname_str,'.',tblname_str_2)\n",
    "\n",
    "query_str <- gsub(\"[\\r\\n]\", \" \", paste0(\"SELECT * FROM  \",dbname_str,'.',tblname_str_1,\" t WHERE\n",
    "  DATE(expiry_date) BETWEEN \\\"\",mindate,\"\\\" AND \\\"\",maxdate,\"\\\" AND renewed_count=1 AND  \n",
    "  ABS(HASH(expiry_date)) % 100 < 10\"))\n",
    "\n",
    "command_str <- paste0(\"bq query --destination_table='\", tblloc_str_2,\"' '\", query_str ,\"'\")\n",
    "cat(\"Executing command:\\n\\t\", command_str,\"\\n\")"
   ]
  },
  {
   "cell_type": "code",
   "execution_count": 12,
   "metadata": {},
   "outputs": [
    {
     "name": "stdout",
     "output_type": "stream",
     "text": [
      "Created BQ table radix2020:expiry.expiry_20191005_20210103_test \n"
     ]
    }
   ],
   "source": [
    "system(command_str)\n",
    "\n",
    "cat(\"Created BQ table\", tblloc_str_2 ,\"\\n\")"
   ]
  },
  {
   "cell_type": "code",
   "execution_count": 17,
   "metadata": {},
   "outputs": [],
   "source": [
    "# Write data to local\n",
    "# https://community.exploratory.io/t/google-bigquery-import-fails-with-invalid-value-at-start-index-type-uint64-1e-05-invalid/1901\n",
    "options(scipen = 20)\n",
    "\n",
    "eval(call(\"<-\", as.name(tblname_str_2), \n",
    "          bq_table_download(bq_project_query(projname_str, \n",
    "                                             paste0(\"SELECT * FROM  \",dbname_str,'.',tblname_str_2)\n",
    "                                            ))))\n",
    "saveRDS(get(tblname_str_2),file = paste0(directory,'/',tblname_str_2,'.RDS'), \n",
    "        compress=TRUE)\n"
   ]
  },
  {
   "cell_type": "code",
   "execution_count": 27,
   "metadata": {},
   "outputs": [
    {
     "name": "stdout",
     "output_type": "stream",
     "text": [
      "Executing command:\n",
      "\t bq query --destination_table='radix2020:expiry.expiry_20191005_20210103_train1' 'SELECT * FROM  expiry.expiry_20180101_20211231_20210222 t WHERE   DATE(expiry_date) BETWEEN \"2019-10-05\" AND \"2021-01-03\" AND renewed_count=1 AND     ABS(HASH(expiry_date)) % 100 >= 10 AND     ABS(HASH(expiry_date)) % 100 < 55' \n"
     ]
    }
   ],
   "source": [
    "tblname_str_2 <- paste0('expiry_',format(mindate, format=\"%Y%m%d\"),'_',format(maxdate, format=\"%Y%m%d\") ,'_train1')\n",
    "tblloc_str_2 <- paste0(projname_str,':',dbname_str,'.',tblname_str_2)\n",
    "\n",
    "query_str <- gsub(\"[\\r\\n]\", \" \", paste0(\"SELECT * FROM  \",dbname_str,'.',tblname_str_1,\" t WHERE\n",
    "  DATE(expiry_date) BETWEEN \\\"\",mindate,\"\\\" AND \\\"\",maxdate,\"\\\" AND renewed_count=1 AND  \n",
    "  ABS(HASH(expiry_date)) % 100 >= 10 AND  \n",
    "  ABS(HASH(expiry_date)) % 100 < 55\"))\n",
    "\n",
    "command_str <- paste0(\"bq query --destination_table='\", tblloc_str_2,\"' '\", query_str ,\"'\")\n",
    "cat(\"Executing command:\\n\\t\", command_str,\"\\n\")"
   ]
  },
  {
   "cell_type": "code",
   "execution_count": 28,
   "metadata": {},
   "outputs": [
    {
     "name": "stdout",
     "output_type": "stream",
     "text": [
      "Created BQ table radix2020:expiry.expiry_20191005_20210103_train1 \n"
     ]
    }
   ],
   "source": [
    "system(command_str)\n",
    "\n",
    "cat(\"Created BQ table\", tblloc_str_2 ,\"\\n\")"
   ]
  },
  {
   "cell_type": "code",
   "execution_count": 29,
   "metadata": {},
   "outputs": [],
   "source": [
    "# Write data to local\n",
    "# https://community.exploratory.io/t/google-bigquery-import-fails-with-invalid-value-at-start-index-type-uint64-1e-05-invalid/1901\n",
    "options(scipen = 20)\n",
    "\n",
    "eval(call(\"<-\", as.name(tblname_str_2), \n",
    "          bq_table_download(bq_project_query(projname_str, \n",
    "                                             paste0(\"SELECT * FROM  \",dbname_str,'.',tblname_str_2)\n",
    "                                            ))))\n",
    "saveRDS(get(tblname_str_2),file = paste0(directory,'/',tblname_str_2,'.RDS'), \n",
    "        compress=TRUE)"
   ]
  },
  {
   "cell_type": "code",
   "execution_count": 32,
   "metadata": {},
   "outputs": [
    {
     "name": "stdout",
     "output_type": "stream",
     "text": [
      "Executing command:\n",
      "\t bq query --destination_table='radix2020:expiry.expiry_20191005_20210103_train2' 'SELECT* FROM expiry.expiry_20180101_20211231_20210222 t WHERE   DATE(expiry_date) BETWEEN \"2019-10-05\" AND \"2021-01-03\" AND renewed_count=1 AND     ABS(HASH(expiry_date)) % 100 >= 55 ' \n"
     ]
    }
   ],
   "source": [
    "tblname_str_2 <- paste0('expiry_',format(mindate, format=\"%Y%m%d\"),'_',format(maxdate, format=\"%Y%m%d\") ,'_train2')\n",
    "tblloc_str_2 <- paste0(projname_str,':',dbname_str,'.',tblname_str_2)\n",
    "\n",
    "query_str <- gsub(\"[\\r\\n]\", \" \", paste0(\"SELECT* FROM \",dbname_str,'.',tblname_str_1,\" t WHERE\n",
    "  DATE(expiry_date) BETWEEN \\\"\",mindate,\"\\\" AND \\\"\",maxdate,\"\\\" AND renewed_count=1 AND  \n",
    "  ABS(HASH(expiry_date)) % 100 >= 55 \"))\n",
    "\n",
    "command_str <- paste0(\"bq query --destination_table='\", tblloc_str_2,\"' '\", query_str ,\"'\")\n",
    "cat(\"Executing command:\\n\\t\", command_str,\"\\n\")"
   ]
  },
  {
   "cell_type": "code",
   "execution_count": 33,
   "metadata": {},
   "outputs": [
    {
     "name": "stdout",
     "output_type": "stream",
     "text": [
      "Created BQ table radix2020:expiry.expiry_20191005_20210103_train2 \n"
     ]
    }
   ],
   "source": [
    "system(command_str)\n",
    "\n",
    "cat(\"Created BQ table\", tblloc_str_2 ,\"\\n\")"
   ]
  },
  {
   "cell_type": "code",
   "execution_count": 34,
   "metadata": {},
   "outputs": [],
   "source": [
    "# Write data to local\n",
    "# https://community.exploratory.io/t/google-bigquery-import-fails-with-invalid-value-at-start-index-type-uint64-1e-05-invalid/1901\n",
    "options(scipen = 20)\n",
    "\n",
    "eval(call(\"<-\", as.name(tblname_str_2), \n",
    "          bq_table_download(bq_project_query(projname_str, \n",
    "                                             paste0(\"SELECT * FROM  \",dbname_str,'.',tblname_str_2)\n",
    "                                            ))))\n",
    "saveRDS(get(tblname_str_2),file = paste0(directory,'/',tblname_str_2,'.RDS'), \n",
    "        compress=TRUE)"
   ]
  },
  {
   "cell_type": "code",
   "execution_count": 36,
   "metadata": {},
   "outputs": [],
   "source": [
    "system(paste0(\"gsutil cp -r \",directory,\" gs://data_outputt/output/\"))"
   ]
  },
  {
   "cell_type": "code",
   "execution_count": null,
   "metadata": {},
   "outputs": [],
   "source": []
  },
  {
   "cell_type": "code",
   "execution_count": null,
   "metadata": {},
   "outputs": [],
   "source": []
  },
  {
   "cell_type": "code",
   "execution_count": 6,
   "metadata": {},
   "outputs": [],
   "source": [
    "sql <- paste(\"SELECT * FROM `radix2020.expiry.expiry_20200902_20201102_20201127`\")\n",
    "\n",
    "expiry_20200902_20201102_20201127 <- bq_table_download(bq_project_query(\"radix2020\", sql))"
   ]
  },
  {
   "cell_type": "code",
   "execution_count": 7,
   "metadata": {},
   "outputs": [
    {
     "data": {
      "text/html": [
       "<style>\n",
       ".list-inline {list-style: none; margin:0; padding: 0}\n",
       ".list-inline>li {display: inline-block}\n",
       ".list-inline>li:not(:last-child)::after {content: \"\\00b7\"; padding: 0 .5ex}\n",
       "</style>\n",
       "<ol class=list-inline><li>943779</li><li>30</li></ol>\n"
      ],
      "text/latex": [
       "\\begin{enumerate*}\n",
       "\\item 943779\n",
       "\\item 30\n",
       "\\end{enumerate*}\n"
      ],
      "text/markdown": [
       "1. 943779\n",
       "2. 30\n",
       "\n",
       "\n"
      ],
      "text/plain": [
       "[1] 943779     30"
      ]
     },
     "metadata": {},
     "output_type": "display_data"
    }
   ],
   "source": [
    "dim(expiry_20200902_20201102_20201127)"
   ]
  },
  {
   "cell_type": "code",
   "execution_count": 8,
   "metadata": {},
   "outputs": [],
   "source": [
    "saveRDS(expiry_20200902_20201102_20201127,\"../../data/output/datapull_20201127/expiry_20200902_20201102_20201127\")\n"
   ]
  },
  {
   "cell_type": "code",
   "execution_count": null,
   "metadata": {},
   "outputs": [],
   "source": []
  },
  {
   "cell_type": "code",
   "execution_count": null,
   "metadata": {},
   "outputs": [],
   "source": [
    "# Create cloud storage dir for data \n",
    "bucket <- 'gs://data_outputt/output/'\n",
    "system(paste0(\"gsutil cp -r \",directory, \" \", bucket))"
   ]
  },
  {
   "cell_type": "code",
   "execution_count": null,
   "metadata": {},
   "outputs": [],
   "source": []
  },
  {
   "cell_type": "code",
   "execution_count": null,
   "metadata": {},
   "outputs": [],
   "source": []
  },
  {
   "cell_type": "code",
   "execution_count": null,
   "metadata": {},
   "outputs": [],
   "source": []
  },
  {
   "cell_type": "code",
   "execution_count": null,
   "metadata": {},
   "outputs": [],
   "source": []
  },
  {
   "cell_type": "raw",
   "metadata": {},
   "source": [
    "bq query --destination_table='radix2020:expiry.expiry_20190929_20201228_test' 'SELECT * FROM   `expiry.expiry_20180101_20211231_20210216` t WHERE   DATE(expiry_date) BETWEEN \"2019-09-29\" AND \"2020-12-28\" AND renewed_count=1 AND     MOD(ABS(FARM_FINGERPRINT(FORMAT(\"%t\", t))), 10) < 1' "
   ]
  },
  {
   "cell_type": "raw",
   "metadata": {},
   "source": [
    " bq query --destination_table='expiry.expiry_20190929_20201228_test' 'SELECT * FROM  expiry.expiry_20180101_20211231_20210216 t WHERE   DATE(expiry_date) BETWEEN \"2019-09-29\" AND \"2020-12-28\" AND renewed_count=1 AND    ABS(HASH(expiry_date)) % 10 < 8 < 1'"
   ]
  },
  {
   "cell_type": "code",
   "execution_count": null,
   "metadata": {},
   "outputs": [],
   "source": []
  },
  {
   "cell_type": "code",
   "execution_count": null,
   "metadata": {},
   "outputs": [],
   "source": []
  },
  {
   "cell_type": "code",
   "execution_count": 13,
   "metadata": {},
   "outputs": [],
   "source": [
    "library(bigrquery)"
   ]
  },
  {
   "cell_type": "code",
   "execution_count": 30,
   "metadata": {},
   "outputs": [
    {
     "data": {
      "text/html": [
       "<span style=white-space:pre-wrap>'\\nSELECT\\n*\\nFROM\\n  `radix2020.expiry.expiry_20180101_20211231_20210215` t\\nWHERE\\n  DATE(expiry_date) BETWEEN \\'2020-12-26\\' AND \\'2020-12-27\\' AND renewed_count=1 AND  \\n  MOD(ABS(FARM_FINGERPRINT(FORMAT(\\'%t\\', t))), 10) &lt; 1\\n'</span>"
      ],
      "text/latex": [
       "'\\textbackslash{}nSELECT\\textbackslash{}n*\\textbackslash{}nFROM\\textbackslash{}n  `radix2020.expiry.expiry\\_20180101\\_20211231\\_20210215` t\\textbackslash{}nWHERE\\textbackslash{}n  DATE(expiry\\_date) BETWEEN \\textbackslash{}'2020-12-26\\textbackslash{}' AND \\textbackslash{}'2020-12-27\\textbackslash{}' AND renewed\\_count=1 AND  \\textbackslash{}n  MOD(ABS(FARM\\_FINGERPRINT(FORMAT(\\textbackslash{}'\\%t\\textbackslash{}', t))), 10) < 1\\textbackslash{}n'"
      ],
      "text/markdown": [
       "<span style=white-space:pre-wrap>'\\nSELECT\\n*\\nFROM\\n  `radix2020.expiry.expiry_20180101_20211231_20210215` t\\nWHERE\\n  DATE(expiry_date) BETWEEN \\'2020-12-26\\' AND \\'2020-12-27\\' AND renewed_count=1 AND  \\n  MOD(ABS(FARM_FINGERPRINT(FORMAT(\\'%t\\', t))), 10) &lt; 1\\n'</span>"
      ],
      "text/plain": [
       "[1] \"\\nSELECT\\n*\\nFROM\\n  `radix2020.expiry.expiry_20180101_20211231_20210215` t\\nWHERE\\n  DATE(expiry_date) BETWEEN '2020-12-26' AND '2020-12-27' AND renewed_count=1 AND  \\n  MOD(ABS(FARM_FINGERPRINT(FORMAT('%t', t))), 10) < 1\\n\""
      ]
     },
     "metadata": {},
     "output_type": "display_data"
    }
   ],
   "source": [
    "query <- paste(\"\n",
    "SELECT\n",
    "*\n",
    "FROM\n",
    "  `radix2020.expiry.expiry_20180101_20211231_20210215` t\n",
    "WHERE\n",
    "  DATE(expiry_date) BETWEEN '2020-12-26' AND '2020-12-27' AND renewed_count=1 AND  \n",
    "  MOD(ABS(FARM_FINGERPRINT(FORMAT('%t', t))), 10) < 1\n",
    "\")\n",
    "\n",
    "query\n",
    "test_df <- bq_table_download(bq_project_query(\"radix2020\", query))\n",
    "\n",
    "# sql <- paste(\"SELECT * FROM `radix2020.expiry.new_test`\")\n"
   ]
  },
  {
   "cell_type": "code",
   "execution_count": 31,
   "metadata": {},
   "outputs": [
    {
     "data": {
      "text/html": [
       "<style>\n",
       ".list-inline {list-style: none; margin:0; padding: 0}\n",
       ".list-inline>li {display: inline-block}\n",
       ".list-inline>li:not(:last-child)::after {content: \"\\00b7\"; padding: 0 .5ex}\n",
       "</style>\n",
       "<ol class=list-inline><li>2335</li><li>30</li></ol>\n"
      ],
      "text/latex": [
       "\\begin{enumerate*}\n",
       "\\item 2335\n",
       "\\item 30\n",
       "\\end{enumerate*}\n"
      ],
      "text/markdown": [
       "1. 2335\n",
       "2. 30\n",
       "\n",
       "\n"
      ],
      "text/plain": [
       "[1] 2335   30"
      ]
     },
     "metadata": {},
     "output_type": "display_data"
    },
    {
     "data": {
      "text/html": [
       "<table>\n",
       "<caption>A tibble: 6 × 30</caption>\n",
       "<thead>\n",
       "\t<tr><th scope=col>domain_id</th><th scope=col>renewed_count</th><th scope=col>renewal_type</th><th scope=col>expiry_date</th><th scope=col>creation_date</th><th scope=col>creation_time</th><th scope=col>tld</th><th scope=col>domain</th><th scope=col>registrar</th><th scope=col>reseller</th><th scope=col>⋯</th><th scope=col>renew_date</th><th scope=col>renew_arpt</th><th scope=col>gibb_score</th><th scope=col>pattern</th><th scope=col>pattern_domain_count</th><th scope=col>day_domains</th><th scope=col>sld_length</th><th scope=col>sld_type</th><th scope=col>sld_type2</th><th scope=col>predicted_renewal_rate</th></tr>\n",
       "\t<tr><th scope=col>&lt;int&gt;</th><th scope=col>&lt;int&gt;</th><th scope=col>&lt;chr&gt;</th><th scope=col>&lt;date&gt;</th><th scope=col>&lt;date&gt;</th><th scope=col>&lt;chr&gt;</th><th scope=col>&lt;chr&gt;</th><th scope=col>&lt;chr&gt;</th><th scope=col>&lt;chr&gt;</th><th scope=col>&lt;chr&gt;</th><th scope=col>⋯</th><th scope=col>&lt;date&gt;</th><th scope=col>&lt;dbl&gt;</th><th scope=col>&lt;dbl&gt;</th><th scope=col>&lt;chr&gt;</th><th scope=col>&lt;int&gt;</th><th scope=col>&lt;int&gt;</th><th scope=col>&lt;int&gt;</th><th scope=col>&lt;chr&gt;</th><th scope=col>&lt;chr&gt;</th><th scope=col>&lt;dbl&gt;</th></tr>\n",
       "</thead>\n",
       "<tbody>\n",
       "\t<tr><td>156057156</td><td>1</td><td>FirstTime</td><td>2020-12-26</td><td>2019-12-26</td><td>2019-12-26 08:57:44</td><td>press  </td><td>todayis.press             </td><td>Porkbun          </td><td>Porkbun          </td><td>⋯</td><td>2020-12-26</td><td>49</td><td>3.77</td><td>todayis               </td><td>1</td><td> 1</td><td> 7</td><td>l</td><td>7l </td><td>0.048</td></tr>\n",
       "\t<tr><td>156188916</td><td>1</td><td>FirstTime</td><td>2020-12-27</td><td>2019-12-27</td><td>2019-12-27 01:41:59</td><td>space  </td><td>roama.space               </td><td>Google           </td><td>Google           </td><td>⋯</td><td>NA</td><td>NA</td><td>4.08</td><td>roama                 </td><td>1</td><td> 5</td><td> 5</td><td>l</td><td>5l </td><td>0.698</td></tr>\n",
       "\t<tr><td>156159101</td><td>1</td><td>FirstTime</td><td>2020-12-26</td><td>2019-12-26</td><td>2019-12-26 21:35:07</td><td>website</td><td>saudenatural.website      </td><td>Hostinger        </td><td>Hostinger        </td><td>⋯</td><td>2020-12-21</td><td>15</td><td>5.28</td><td>saudenatural          </td><td>1</td><td>11</td><td>12</td><td>l</td><td>12l</td><td>0.079</td></tr>\n",
       "\t<tr><td>156162086</td><td>1</td><td>FirstTime</td><td>2020-12-26</td><td>2019-12-26</td><td>2019-12-26 21:57:29</td><td>fun    </td><td>forhumanitywithlovellc.fun</td><td>Network Solutions</td><td>Network Solutions</td><td>⋯</td><td>2020-12-26</td><td>15</td><td>4.18</td><td>forhumanitywithlovellc</td><td>1</td><td> 1</td><td>22</td><td>l</td><td>22l</td><td>0.482</td></tr>\n",
       "\t<tr><td>156544421</td><td>1</td><td>FirstTime</td><td>2020-12-27</td><td>2019-12-27</td><td>2019-12-27 15:31:23</td><td>pw     </td><td>financeshome.pw           </td><td>Key-Systems      </td><td>Key-Systems      </td><td>⋯</td><td>2020-12-27</td><td>15</td><td>9.62</td><td>financeshome          </td><td>1</td><td>10</td><td>12</td><td>l</td><td>12l</td><td>0.239</td></tr>\n",
       "\t<tr><td>156604436</td><td>1</td><td>FirstTime</td><td>2020-12-27</td><td>2019-12-27</td><td>2019-12-27 21:56:50</td><td>space  </td><td>onemotion.space           </td><td>Porkbun          </td><td>Porkbun          </td><td>⋯</td><td>2020-04-10</td><td>15</td><td>8.04</td><td>onemotion             </td><td>1</td><td> 1</td><td> 9</td><td>l</td><td>9l </td><td>0.276</td></tr>\n",
       "</tbody>\n",
       "</table>\n"
      ],
      "text/latex": [
       "A tibble: 6 × 30\n",
       "\\begin{tabular}{lllllllllllllllllllll}\n",
       " domain\\_id & renewed\\_count & renewal\\_type & expiry\\_date & creation\\_date & creation\\_time & tld & domain & registrar & reseller & ⋯ & renew\\_date & renew\\_arpt & gibb\\_score & pattern & pattern\\_domain\\_count & day\\_domains & sld\\_length & sld\\_type & sld\\_type2 & predicted\\_renewal\\_rate\\\\\n",
       " <int> & <int> & <chr> & <date> & <date> & <chr> & <chr> & <chr> & <chr> & <chr> & ⋯ & <date> & <dbl> & <dbl> & <chr> & <int> & <int> & <int> & <chr> & <chr> & <dbl>\\\\\n",
       "\\hline\n",
       "\t 156057156 & 1 & FirstTime & 2020-12-26 & 2019-12-26 & 2019-12-26 08:57:44 & press   & todayis.press              & Porkbun           & Porkbun           & ⋯ & 2020-12-26 & 49 & 3.77 & todayis                & 1 &  1 &  7 & l & 7l  & 0.048\\\\\n",
       "\t 156188916 & 1 & FirstTime & 2020-12-27 & 2019-12-27 & 2019-12-27 01:41:59 & space   & roama.space                & Google            & Google            & ⋯ & NA & NA & 4.08 & roama                  & 1 &  5 &  5 & l & 5l  & 0.698\\\\\n",
       "\t 156159101 & 1 & FirstTime & 2020-12-26 & 2019-12-26 & 2019-12-26 21:35:07 & website & saudenatural.website       & Hostinger         & Hostinger         & ⋯ & 2020-12-21 & 15 & 5.28 & saudenatural           & 1 & 11 & 12 & l & 12l & 0.079\\\\\n",
       "\t 156162086 & 1 & FirstTime & 2020-12-26 & 2019-12-26 & 2019-12-26 21:57:29 & fun     & forhumanitywithlovellc.fun & Network Solutions & Network Solutions & ⋯ & 2020-12-26 & 15 & 4.18 & forhumanitywithlovellc & 1 &  1 & 22 & l & 22l & 0.482\\\\\n",
       "\t 156544421 & 1 & FirstTime & 2020-12-27 & 2019-12-27 & 2019-12-27 15:31:23 & pw      & financeshome.pw            & Key-Systems       & Key-Systems       & ⋯ & 2020-12-27 & 15 & 9.62 & financeshome           & 1 & 10 & 12 & l & 12l & 0.239\\\\\n",
       "\t 156604436 & 1 & FirstTime & 2020-12-27 & 2019-12-27 & 2019-12-27 21:56:50 & space   & onemotion.space            & Porkbun           & Porkbun           & ⋯ & 2020-04-10 & 15 & 8.04 & onemotion              & 1 &  1 &  9 & l & 9l  & 0.276\\\\\n",
       "\\end{tabular}\n"
      ],
      "text/markdown": [
       "\n",
       "A tibble: 6 × 30\n",
       "\n",
       "| domain_id &lt;int&gt; | renewed_count &lt;int&gt; | renewal_type &lt;chr&gt; | expiry_date &lt;date&gt; | creation_date &lt;date&gt; | creation_time &lt;chr&gt; | tld &lt;chr&gt; | domain &lt;chr&gt; | registrar &lt;chr&gt; | reseller &lt;chr&gt; | ⋯ ⋯ | renew_date &lt;date&gt; | renew_arpt &lt;dbl&gt; | gibb_score &lt;dbl&gt; | pattern &lt;chr&gt; | pattern_domain_count &lt;int&gt; | day_domains &lt;int&gt; | sld_length &lt;int&gt; | sld_type &lt;chr&gt; | sld_type2 &lt;chr&gt; | predicted_renewal_rate &lt;dbl&gt; |\n",
       "|---|---|---|---|---|---|---|---|---|---|---|---|---|---|---|---|---|---|---|---|---|\n",
       "| 156057156 | 1 | FirstTime | 2020-12-26 | 2019-12-26 | 2019-12-26 08:57:44 | press   | todayis.press              | Porkbun           | Porkbun           | ⋯ | 2020-12-26 | 49 | 3.77 | todayis                | 1 |  1 |  7 | l | 7l  | 0.048 |\n",
       "| 156188916 | 1 | FirstTime | 2020-12-27 | 2019-12-27 | 2019-12-27 01:41:59 | space   | roama.space                | Google            | Google            | ⋯ | NA | NA | 4.08 | roama                  | 1 |  5 |  5 | l | 5l  | 0.698 |\n",
       "| 156159101 | 1 | FirstTime | 2020-12-26 | 2019-12-26 | 2019-12-26 21:35:07 | website | saudenatural.website       | Hostinger         | Hostinger         | ⋯ | 2020-12-21 | 15 | 5.28 | saudenatural           | 1 | 11 | 12 | l | 12l | 0.079 |\n",
       "| 156162086 | 1 | FirstTime | 2020-12-26 | 2019-12-26 | 2019-12-26 21:57:29 | fun     | forhumanitywithlovellc.fun | Network Solutions | Network Solutions | ⋯ | 2020-12-26 | 15 | 4.18 | forhumanitywithlovellc | 1 |  1 | 22 | l | 22l | 0.482 |\n",
       "| 156544421 | 1 | FirstTime | 2020-12-27 | 2019-12-27 | 2019-12-27 15:31:23 | pw      | financeshome.pw            | Key-Systems       | Key-Systems       | ⋯ | 2020-12-27 | 15 | 9.62 | financeshome           | 1 | 10 | 12 | l | 12l | 0.239 |\n",
       "| 156604436 | 1 | FirstTime | 2020-12-27 | 2019-12-27 | 2019-12-27 21:56:50 | space   | onemotion.space            | Porkbun           | Porkbun           | ⋯ | 2020-04-10 | 15 | 8.04 | onemotion              | 1 |  1 |  9 | l | 9l  | 0.276 |\n",
       "\n"
      ],
      "text/plain": [
       "  domain_id renewed_count renewal_type expiry_date creation_date\n",
       "1 156057156 1             FirstTime    2020-12-26  2019-12-26   \n",
       "2 156188916 1             FirstTime    2020-12-27  2019-12-27   \n",
       "3 156159101 1             FirstTime    2020-12-26  2019-12-26   \n",
       "4 156162086 1             FirstTime    2020-12-26  2019-12-26   \n",
       "5 156544421 1             FirstTime    2020-12-27  2019-12-27   \n",
       "6 156604436 1             FirstTime    2020-12-27  2019-12-27   \n",
       "  creation_time       tld     domain                     registrar        \n",
       "1 2019-12-26 08:57:44 press   todayis.press              Porkbun          \n",
       "2 2019-12-27 01:41:59 space   roama.space                Google           \n",
       "3 2019-12-26 21:35:07 website saudenatural.website       Hostinger        \n",
       "4 2019-12-26 21:57:29 fun     forhumanitywithlovellc.fun Network Solutions\n",
       "5 2019-12-27 15:31:23 pw      financeshome.pw            Key-Systems      \n",
       "6 2019-12-27 21:56:50 space   onemotion.space            Porkbun          \n",
       "  reseller          ⋯ renew_date renew_arpt gibb_score pattern               \n",
       "1 Porkbun           ⋯ 2020-12-26 49         3.77       todayis               \n",
       "2 Google            ⋯ <NA>       NA         4.08       roama                 \n",
       "3 Hostinger         ⋯ 2020-12-21 15         5.28       saudenatural          \n",
       "4 Network Solutions ⋯ 2020-12-26 15         4.18       forhumanitywithlovellc\n",
       "5 Key-Systems       ⋯ 2020-12-27 15         9.62       financeshome          \n",
       "6 Porkbun           ⋯ 2020-04-10 15         8.04       onemotion             \n",
       "  pattern_domain_count day_domains sld_length sld_type sld_type2\n",
       "1 1                     1           7         l        7l       \n",
       "2 1                     5           5         l        5l       \n",
       "3 1                    11          12         l        12l      \n",
       "4 1                     1          22         l        22l      \n",
       "5 1                    10          12         l        12l      \n",
       "6 1                     1           9         l        9l       \n",
       "  predicted_renewal_rate\n",
       "1 0.048                 \n",
       "2 0.698                 \n",
       "3 0.079                 \n",
       "4 0.482                 \n",
       "5 0.239                 \n",
       "6 0.276                 "
      ]
     },
     "metadata": {},
     "output_type": "display_data"
    }
   ],
   "source": [
    "dim(test_df)\n",
    "head(test_df)"
   ]
  },
  {
   "cell_type": "code",
   "execution_count": 34,
   "metadata": {},
   "outputs": [
    {
     "data": {
      "text/html": [
       "<table>\n",
       "<caption>A tibble: 1 × 1</caption>\n",
       "<thead>\n",
       "\t<tr><th scope=col>f0_</th></tr>\n",
       "\t<tr><th scope=col>&lt;int&gt;</th></tr>\n",
       "</thead>\n",
       "<tbody>\n",
       "\t<tr><td>22886</td></tr>\n",
       "</tbody>\n",
       "</table>\n"
      ],
      "text/latex": [
       "A tibble: 1 × 1\n",
       "\\begin{tabular}{l}\n",
       " f0\\_\\\\\n",
       " <int>\\\\\n",
       "\\hline\n",
       "\t 22886\\\\\n",
       "\\end{tabular}\n"
      ],
      "text/markdown": [
       "\n",
       "A tibble: 1 × 1\n",
       "\n",
       "| f0_ &lt;int&gt; |\n",
       "|---|\n",
       "| 22886 |\n",
       "\n"
      ],
      "text/plain": [
       "  f0_  \n",
       "1 22886"
      ]
     },
     "metadata": {},
     "output_type": "display_data"
    }
   ],
   "source": [
    "bq_table_download(bq_project_query(\"radix2020\", \"select count(*) from  `radix2020.expiry.expiry_20180101_20211231_20210215` WHERE\n",
    "  DATE(expiry_date) BETWEEN '2020-12-26' AND '2020-12-27' AND renewed_count=1 \", use_legacy_sql = FALSE))\n"
   ]
  },
  {
   "cell_type": "code",
   "execution_count": 35,
   "metadata": {},
   "outputs": [
    {
     "data": {
      "text/html": [
       "2288.6"
      ],
      "text/latex": [
       "2288.6"
      ],
      "text/markdown": [
       "2288.6"
      ],
      "text/plain": [
       "[1] 2288.6"
      ]
     },
     "metadata": {},
     "output_type": "display_data"
    }
   ],
   "source": [
    "22886*0.1"
   ]
  },
  {
   "cell_type": "code",
   "execution_count": null,
   "metadata": {},
   "outputs": [],
   "source": []
  }
 ],
 "metadata": {
  "environment": {
   "name": "r-cpu.3-6.m48",
   "type": "gcloud",
   "uri": "gcr.io/deeplearning-platform-release/r-cpu.3-6:m48"
  },
  "kernelspec": {
   "display_name": "R",
   "language": "R",
   "name": "ir"
  },
  "language_info": {
   "codemirror_mode": "r",
   "file_extension": ".r",
   "mimetype": "text/x-r-source",
   "name": "R",
   "pygments_lexer": "r",
   "version": "3.6.3"
  }
 },
 "nbformat": 4,
 "nbformat_minor": 4
}
