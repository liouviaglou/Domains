{
 "cells": [
  {
   "cell_type": "markdown",
   "metadata": {},
   "source": [
    "# Test new data\n",
    "Client has provided new query for obtaining expiry data (`./expiry_prepped_data.sql`)\n",
    "\n",
    "Verifying that query returns data that's usable by existing scripts\n",
    "\n",
    "\n",
    "In general: Steps for running queries provided by client\n",
    "\n",
    "0. ensure w/ client that they have set you up with necessary Permissions to query their Project's tables.\n",
    "1. make sure query definition points to correct Project name (radixbi-249015) by appending this to every table call (FROM statement) that fails to mention it (i.e. change prediction_vendors.predictions to radixbi-249015.prediction_vendors.predictions) otherwise, BuigQuery will default to whichever project you're working in.\n",
    "2. in BigQuery, run query \n",
    "3. in BigQuery, save results to BigQuery table (this will create a table in your project)\n",
    "4. in R, use bigrquery package to load data in memory<br>\n",
    "``sql <- paste(\"SELECT * FROM `radix2020.expiry.new_test`\")\n",
    "new_test_df <- bq_table_download(bq_project_query(\"radix2020\", sql))``\n",
    "\n",
    "I've created a new BigQuery table (`radix2020.expiry.new_test`) that has just the first 100 results of this query"
   ]
  },
  {
   "cell_type": "markdown",
   "metadata": {},
   "source": [
    "## TODO for John:\n",
    "\n",
    "1. Modify load_prep_data_expiry_2.R such that the date filter is dynamic, \n",
    "    - we don't want to analyze data that is 'premature' -- renewal status lags 90 days (so domains that expired today won't have a correct renewal status until 90 days from today).\n",
    "    - in general, we want to analyze 5 quarters of data \n",
    "    - implement the above as a script argument (like min date and max date) to kill two birds with one stone\n",
    "    - we could also just bake this into the intial data pull (i.e. modify date constraints in 2 above)\n",
    "2. Create a script that, when given the name of a \"local\" BigQuery table (such as radix2020.expiry.new_test), first runs load_prep_data_expiry_2.R and then predictions_metalearning.R. This will generate a file of predictions across all models\n",
    "3. Cleate a cleaner version of training_metalearning.R, \n",
    "    - one that uses predictions from (2) (maybe as a script argument?) \n",
    "    - may be split into two scripts -- one that trains the metalearning model and one that generates predictions on a new dataset\n",
    "    - good idea to create a separate script file that contains functions (similar to how predictions_metalearning.R is kept \"lean\" and easy to read)\n",
    "4. ensure output is in line with Radix request \n",
    "    - expiry data columns + prediction column + model name column + model version/info column\n",
    "    - write to bigquery table\n",
    "    - see 16_fallbackmeta_analysis_deliv.ipynb for part of this"
   ]
  },
  {
   "cell_type": "code",
   "execution_count": 1,
   "metadata": {},
   "outputs": [
    {
     "name": "stderr",
     "output_type": "stream",
     "text": [
      "Loading required package: ggplot2\n",
      "\n",
      "\n",
      "Attaching package: ‘plotly’\n",
      "\n",
      "\n",
      "The following object is masked from ‘package:ggplot2’:\n",
      "\n",
      "    last_plot\n",
      "\n",
      "\n",
      "The following object is masked from ‘package:stats’:\n",
      "\n",
      "    filter\n",
      "\n",
      "\n",
      "The following object is masked from ‘package:graphics’:\n",
      "\n",
      "    layout\n",
      "\n",
      "\n",
      "\n",
      "Attaching package: ‘dplyr’\n",
      "\n",
      "\n",
      "The following objects are masked from ‘package:data.table’:\n",
      "\n",
      "    between, first, last\n",
      "\n",
      "\n",
      "The following objects are masked from ‘package:stats’:\n",
      "\n",
      "    filter, lag\n",
      "\n",
      "\n",
      "The following objects are masked from ‘package:base’:\n",
      "\n",
      "    intersect, setdiff, setequal, union\n",
      "\n",
      "\n"
     ]
    }
   ],
   "source": [
    "library(bigrquery)\n",
    "library(plotly)\n",
    "library(data.table)\n",
    "library(stringr)\n",
    "library(readr)\n",
    "library(dplyr)"
   ]
  },
  {
   "cell_type": "code",
   "execution_count": 2,
   "metadata": {},
   "outputs": [
    {
     "data": {
      "text/html": [],
      "text/latex": [],
      "text/markdown": [],
      "text/plain": [
       "character(0)"
      ]
     },
     "metadata": {},
     "output_type": "display_data"
    }
   ],
   "source": [
    "objects()"
   ]
  },
  {
   "cell_type": "markdown",
   "metadata": {},
   "source": [
    "# Pull new data 02/09"
   ]
  },
  {
   "cell_type": "code",
   "execution_count": 5,
   "metadata": {},
   "outputs": [],
   "source": [
    "# Following work around does not seem to be necessary for this new data set\n",
    "# https://community.exploratory.io/t/google-bigquery-import-fails-with-invalid-value-at-start-index-type-uint64-1e-05-invalid/1901\n",
    "# options(scipen = 20)"
   ]
  },
  {
   "cell_type": "code",
   "execution_count": 2,
   "metadata": {},
   "outputs": [],
   "source": [
    "sql <- paste(\"SELECT * FROM `radix2020.expiry.new_test`\")\n",
    "new_test_df <- bq_table_download(bq_project_query(\"radix2020\", sql))"
   ]
  },
  {
   "cell_type": "code",
   "execution_count": 3,
   "metadata": {},
   "outputs": [
    {
     "data": {
      "text/html": [
       "<style>\n",
       ".list-inline {list-style: none; margin:0; padding: 0}\n",
       ".list-inline>li {display: inline-block}\n",
       ".list-inline>li:not(:last-child)::after {content: \"\\00b7\"; padding: 0 .5ex}\n",
       "</style>\n",
       "<ol class=list-inline><li>100</li><li>30</li></ol>\n"
      ],
      "text/latex": [
       "\\begin{enumerate*}\n",
       "\\item 100\n",
       "\\item 30\n",
       "\\end{enumerate*}\n"
      ],
      "text/markdown": [
       "1. 100\n",
       "2. 30\n",
       "\n",
       "\n"
      ],
      "text/plain": [
       "[1] 100  30"
      ]
     },
     "metadata": {},
     "output_type": "display_data"
    }
   ],
   "source": [
    "dim(new_test_df)"
   ]
  },
  {
   "cell_type": "code",
   "execution_count": 4,
   "metadata": {},
   "outputs": [],
   "source": [
    "# Following writes data to an RDS on the virtual machine and then copies it to an already created Google Cloud Storage bucket location\n",
    "# saveRDS(expiry_20200902_20201102_20201127,\"../../data/output/datapull_20201127/expiry_20200902_20201102_20201127\")\n",
    "# system(\"gsutil cp /home/jupyter/local/Domains_202003/data/output/datapull_20201127/* gs://data_outputt/output/\")"
   ]
  },
  {
   "cell_type": "markdown",
   "metadata": {},
   "source": [
    "# Test Scripts"
   ]
  },
  {
   "cell_type": "markdown",
   "metadata": {},
   "source": [
    "### load_prep_data_expiry_2.R"
   ]
  },
  {
   "cell_type": "code",
   "execution_count": 12,
   "metadata": {},
   "outputs": [
    {
     "name": "stdout",
     "output_type": "stream",
     "text": [
      "Loading data...Loaded 100 rows\n",
      "Removing 68 rows due to expiry_date constraints\n",
      "Removing 4 rows due to renewed_count constraints\n",
      "Removing 0 rows due to missing gibb_score\n",
      "... now dataset min(creation_date) is  2018-06-08 .\n"
     ]
    }
   ],
   "source": [
    "cat(\"Loading data...\")\n",
    "expiry_df <- new_test_df#readRDS(\"/home/jupyter/Domains_202003/data/output/expiry_20190601_20200901_20201116_excl\")\n",
    "cat(\"Loaded\", expiry_df %>% nrow(),\"rows\\n\")\n",
    "\n",
    "# select most recent 5Q [1 quarter = 90 days, 5 quarters = 450 days ]\n",
    "# 450 days before 20200901 is 20190609 ... round off to 20190601\n",
    "cat(\"Removing\", expiry_df %>%filter(expiry_date < as.Date(\"2019-06-01\") | expiry_date > as.Date(\"2020-09-01\")) %>% tally() %>% pull(n) ,\"rows due to expiry_date constraints\\n\")\n",
    "expiry_df <- expiry_df %>% filter(expiry_date >= as.Date(\"2019-06-01\") & expiry_date <= as.Date(\"2020-09-01\"))\n",
    "\n",
    "# remove renewed_count>1\n",
    "cat(\"Removing\", expiry_df %>% filter(renewed_count>1) %>% tally() %>% pull(n) ,\"rows due to renewed_count constraints\\n\")\n",
    "expiry_df <- expiry_df %>% filter(renewed_count==1)\n",
    "\n",
    "# remove where gibb_score, etc. are NA\n",
    "cat(\"Removing\", expiry_df %>% filter(is.na(gibb_score)) %>% tally() %>% pull(n) ,\"rows due to missing gibb_score\\n\")\n",
    "expiry_df <- expiry_df %>% filter(!is.na(gibb_score))\n",
    "cat(\"... now dataset min(creation_date) is \", expiry_df %>% summarise(min(creation_date)) %>% pull(1) %>% as.character(),\".\\n\")\n",
    "\n",
    "# add necessary columns\n",
    "expiry_df <- expiry_df %>% mutate (reg_arpt = ifelse(reg_arpt <= 0, 0.0001,reg_arpt),\n",
    "                                   log_reg_arpt = log(reg_arpt),\n",
    "                                   tld_registrar_index = tolower(paste(tld, reseller,sep=\"\")))\n",
    "\n",
    "# test/train split \n",
    "set.seed(123) \n",
    "smp_siz = floor(0.8*nrow(expiry_df))\n",
    "train_ind = sample(seq_len(nrow(expiry_df)),size = smp_siz) \n",
    "expiry_train_df = expiry_df[train_ind,] \n",
    "expiry_test_df = expiry_df[-train_ind,]\n",
    "\n",
    "# split into lists\n",
    "expiry_list <- split(expiry_df, expiry_df$tld_registrar_index)\n",
    "expiry_train_list <- split(expiry_train_df, expiry_train_df$tld_registrar_index)\n",
    "expiry_test_list <- split(expiry_test_df, expiry_test_df$tld_registrar_index)\n"
   ]
  },
  {
   "cell_type": "code",
   "execution_count": 13,
   "metadata": {},
   "outputs": [
    {
     "data": {
      "text/html": [
       "<style>\n",
       ".list-inline {list-style: none; margin:0; padding: 0}\n",
       ".list-inline>li {display: inline-block}\n",
       ".list-inline>li:not(:last-child)::after {content: \"\\00b7\"; padding: 0 .5ex}\n",
       "</style>\n",
       "<ol class=list-inline><li>28</li><li>32</li></ol>\n"
      ],
      "text/latex": [
       "\\begin{enumerate*}\n",
       "\\item 28\n",
       "\\item 32\n",
       "\\end{enumerate*}\n"
      ],
      "text/markdown": [
       "1. 28\n",
       "2. 32\n",
       "\n",
       "\n"
      ],
      "text/plain": [
       "[1] 28 32"
      ]
     },
     "metadata": {},
     "output_type": "display_data"
    },
    {
     "data": {
      "text/html": [
       "<style>\n",
       ".list-inline {list-style: none; margin:0; padding: 0}\n",
       ".list-inline>li {display: inline-block}\n",
       ".list-inline>li:not(:last-child)::after {content: \"\\00b7\"; padding: 0 .5ex}\n",
       "</style>\n",
       "<ol class=list-inline><li>22</li><li>32</li></ol>\n"
      ],
      "text/latex": [
       "\\begin{enumerate*}\n",
       "\\item 22\n",
       "\\item 32\n",
       "\\end{enumerate*}\n"
      ],
      "text/markdown": [
       "1. 22\n",
       "2. 32\n",
       "\n",
       "\n"
      ],
      "text/plain": [
       "[1] 22 32"
      ]
     },
     "metadata": {},
     "output_type": "display_data"
    },
    {
     "data": {
      "text/html": [
       "<style>\n",
       ".list-inline {list-style: none; margin:0; padding: 0}\n",
       ".list-inline>li {display: inline-block}\n",
       ".list-inline>li:not(:last-child)::after {content: \"\\00b7\"; padding: 0 .5ex}\n",
       "</style>\n",
       "<ol class=list-inline><li>6</li><li>32</li></ol>\n"
      ],
      "text/latex": [
       "\\begin{enumerate*}\n",
       "\\item 6\n",
       "\\item 32\n",
       "\\end{enumerate*}\n"
      ],
      "text/markdown": [
       "1. 6\n",
       "2. 32\n",
       "\n",
       "\n"
      ],
      "text/plain": [
       "[1]  6 32"
      ]
     },
     "metadata": {},
     "output_type": "display_data"
    }
   ],
   "source": [
    "dim(expiry_df)\n",
    "dim(expiry_train_df)\n",
    "dim(expiry_test_df)"
   ]
  },
  {
   "cell_type": "markdown",
   "metadata": {},
   "source": [
    "### predictions_metalearning\n",
    "Not excluding any low-vol tld-re's using tld_registrar_excl() because dataet is already so small"
   ]
  },
  {
   "cell_type": "code",
   "execution_count": null,
   "metadata": {},
   "outputs": [],
   "source": [
    "# load & prep input data\n",
    "source('/home/jupyter/Domains_202003/scripts/orig/functions_models.R')\n",
    "source('/home/jupyter/Domains_202003/scripts/phaseII_03_forest/functions_eval.R')\n",
    "source('/home/jupyter/Domains_202003/scripts/phaseII_06_fallbacksupp/functions_metalearning.R')\n",
    "# source('/home/jupyter/Domains_202003/scripts/phaseII_06_fallbacksupp/load_prep_data_expiry_2.R')\n",
    "# defines expiry_df & list of expiry_20180101_20190331\n",
    "# as well as expiry_train_df, expiry_test_df,  expiry_train_list, expiry_test_list\n",
    "\n",
    "\n",
    "# define oputput folder\n",
    "fullDir='/home/jupyter/Domains_202003/data/output/models_20201104'\n",
    "dir.create(fullDir)\n",
    "dir.create(file.path(fullDir,'preds'))\n",
    "\n",
    "# define tld-re's for training\n",
    "tld_reseller_list = expiry_train_df %>%  distinct(tld_registrar_index) %>% pull(tld_registrar_index)\n",
    "tld_registrar_excl_list = list() #tld_registrar_excl(train_list = expiry_train_list)\n",
    "\n",
    "# train & save models\n",
    "tld_reseller_list = train_all(  tld_reseller_list,\n",
    "                                tld_registrar_excl_list,\n",
    "                                train_list = expiry_train_list,\n",
    "                                test_list = expiry_test_list,\n",
    "                                model_agg_glm = NULL, \n",
    "                                model_agg_rf = NULL,\n",
    "                                fullDir)   \n",
    "\n",
    "# define tld-re's for testing\n",
    "tld_reseller_list = expiry_test_df %>%  distinct(tld_registrar_index) %>% pull(tld_registrar_index)\n",
    "tld_registrar_excl_list=list() #= tld_registrar_excl(train_list = expiry_train_list)\n",
    "\n",
    "# predict based on saved models\n",
    "preds_df <- pred_all(tld_reseller_list, tld_registrar_excl_list,\n",
    "                     test_list = expiry_test_list,\n",
    "                     modelDir=fullDir,\n",
    "                     fullDir=fullDir)\n",
    "\n",
    "# write.csv(preds_df, file=file.path(fullDir,'preds','preds.csv'),row.names = FALSE)\n"
   ]
  },
  {
   "cell_type": "code",
   "execution_count": null,
   "metadata": {},
   "outputs": [],
   "source": [
    "preds_df"
   ]
  },
  {
   "cell_type": "markdown",
   "metadata": {},
   "source": [
    "# 2/11: having created radix2020.expiry.new_test2 via cloud shell, test its contents & querying\n",
    "new_test2 is the result of running expiry_prepped_data.sql -- so all domains expiring between 2018-01-01 and 2021-12-31\n",
    "\n",
    "should have 15,964,063 rows (according to BQ web interface) and has the same number of rows when tested w/in R"
   ]
  },
  {
   "cell_type": "code",
   "execution_count": 3,
   "metadata": {},
   "outputs": [],
   "source": [
    "sql <- paste(\"SELECT count(*) FROM `radix2020.expiry.new_test2`\")\n",
    "new_test_df <- bq_table_download(bq_project_query(\"radix2020\", sql))"
   ]
  },
  {
   "cell_type": "code",
   "execution_count": 4,
   "metadata": {},
   "outputs": [
    {
     "data": {
      "text/html": [
       "<table>\n",
       "<caption>A tibble: 1 × 1</caption>\n",
       "<thead>\n",
       "\t<tr><th scope=col>f0_</th></tr>\n",
       "\t<tr><th scope=col>&lt;int&gt;</th></tr>\n",
       "</thead>\n",
       "<tbody>\n",
       "\t<tr><td>15964063</td></tr>\n",
       "</tbody>\n",
       "</table>\n"
      ],
      "text/latex": [
       "A tibble: 1 × 1\n",
       "\\begin{tabular}{l}\n",
       " f0\\_\\\\\n",
       " <int>\\\\\n",
       "\\hline\n",
       "\t 15964063\\\\\n",
       "\\end{tabular}\n"
      ],
      "text/markdown": [
       "\n",
       "A tibble: 1 × 1\n",
       "\n",
       "| f0_ &lt;int&gt; |\n",
       "|---|\n",
       "| 15964063 |\n",
       "\n"
      ],
      "text/plain": [
       "  f0_     \n",
       "1 15964063"
      ]
     },
     "metadata": {},
     "output_type": "display_data"
    }
   ],
   "source": [
    "new_test_df"
   ]
  },
  {
   "cell_type": "code",
   "execution_count": 5,
   "metadata": {},
   "outputs": [
    {
     "data": {
      "text/html": [
       "<table>\n",
       "<caption>A tibble: 5 × 30</caption>\n",
       "<thead>\n",
       "\t<tr><th scope=col>domain_id</th><th scope=col>renewed_count</th><th scope=col>renewal_type</th><th scope=col>expiry_date</th><th scope=col>creation_date</th><th scope=col>creation_time</th><th scope=col>tld</th><th scope=col>domain</th><th scope=col>registrar</th><th scope=col>reseller</th><th scope=col>⋯</th><th scope=col>renew_date</th><th scope=col>renew_arpt</th><th scope=col>gibb_score</th><th scope=col>pattern</th><th scope=col>pattern_domain_count</th><th scope=col>day_domains</th><th scope=col>sld_length</th><th scope=col>sld_type</th><th scope=col>sld_type2</th><th scope=col>predicted_renewal_rate</th></tr>\n",
       "\t<tr><th scope=col>&lt;int&gt;</th><th scope=col>&lt;int&gt;</th><th scope=col>&lt;chr&gt;</th><th scope=col>&lt;date&gt;</th><th scope=col>&lt;date&gt;</th><th scope=col>&lt;chr&gt;</th><th scope=col>&lt;chr&gt;</th><th scope=col>&lt;chr&gt;</th><th scope=col>&lt;chr&gt;</th><th scope=col>&lt;chr&gt;</th><th scope=col>⋯</th><th scope=col>&lt;date&gt;</th><th scope=col>&lt;dbl&gt;</th><th scope=col>&lt;dbl&gt;</th><th scope=col>&lt;chr&gt;</th><th scope=col>&lt;int&gt;</th><th scope=col>&lt;int&gt;</th><th scope=col>&lt;int&gt;</th><th scope=col>&lt;chr&gt;</th><th scope=col>&lt;chr&gt;</th><th scope=col>&lt;dbl&gt;</th></tr>\n",
       "</thead>\n",
       "<tbody>\n",
       "\t<tr><td> 51960043</td><td>1</td><td>FirstTime</td><td>2018-09-05</td><td>2017-09-05</td><td>2017-09-05 07:20:05</td><td>online</td><td>datenrettung-ecsglobal-abzocke.online</td><td>Namecheap</td><td>Namecheap</td><td>⋯</td><td>2018-09-05</td><td>16.5</td><td>2.87</td><td>datenrettung-ecsglobal-abzocke</td><td>1</td><td>355</td><td>30</td><td>hyphen-l </td><td>30hyphen-l </td><td>0</td></tr>\n",
       "\t<tr><td>103981226</td><td>1</td><td>FirstTime</td><td>2020-05-18</td><td>2019-05-18</td><td>2019-05-18 19:54:20</td><td>host  </td><td>krasivoe-litso.host                  </td><td>Beget    </td><td>Beget    </td><td>⋯</td><td>2020-05-18</td><td>65.0</td><td>3.59</td><td>krasivoe-litso                </td><td>1</td><td>  2</td><td>14</td><td>hyphen-l </td><td>14hyphen-l </td><td>0</td></tr>\n",
       "\t<tr><td> 65036459</td><td>1</td><td>FirstTime</td><td>2019-04-03</td><td>2018-04-03</td><td>2018-04-03 02:59:55</td><td>online</td><td>relay-r6dns.online                   </td><td>Namecheap</td><td>Namecheap</td><td>⋯</td><td>2019-04-03</td><td>17.5</td><td>2.58</td><td>relay-rdns                    </td><td>8</td><td>177</td><td>11</td><td>hyphen-ln</td><td>11hyphen-ln</td><td>0</td></tr>\n",
       "\t<tr><td> 99645379</td><td>1</td><td>FirstTime</td><td>2020-04-11</td><td>2019-04-11</td><td>2019-04-11 21:51:53</td><td>site  </td><td>24newsfromuk3.site                   </td><td>PDR Ltd  </td><td>DOMENY.PL</td><td>⋯</td><td>2020-04-11</td><td>14.5</td><td>2.09</td><td>24newsfromuk                  </td><td>3</td><td> 37</td><td>13</td><td>ln       </td><td>13ln       </td><td>0</td></tr>\n",
       "\t<tr><td> 49116638</td><td>1</td><td>FirstTime</td><td>2018-07-01</td><td>2017-07-01</td><td>2017-07-01 07:47:12</td><td>press </td><td>kissasian-korean.press               </td><td>Namecheap</td><td>Namecheap</td><td>⋯</td><td>2018-07-01</td><td>16.0</td><td>6.98</td><td>kissasian-korean              </td><td>1</td><td> 64</td><td>16</td><td>hyphen-l </td><td>16hyphen-l </td><td>0</td></tr>\n",
       "</tbody>\n",
       "</table>\n"
      ],
      "text/latex": [
       "A tibble: 5 × 30\n",
       "\\begin{tabular}{lllllllllllllllllllll}\n",
       " domain\\_id & renewed\\_count & renewal\\_type & expiry\\_date & creation\\_date & creation\\_time & tld & domain & registrar & reseller & ⋯ & renew\\_date & renew\\_arpt & gibb\\_score & pattern & pattern\\_domain\\_count & day\\_domains & sld\\_length & sld\\_type & sld\\_type2 & predicted\\_renewal\\_rate\\\\\n",
       " <int> & <int> & <chr> & <date> & <date> & <chr> & <chr> & <chr> & <chr> & <chr> & ⋯ & <date> & <dbl> & <dbl> & <chr> & <int> & <int> & <int> & <chr> & <chr> & <dbl>\\\\\n",
       "\\hline\n",
       "\t  51960043 & 1 & FirstTime & 2018-09-05 & 2017-09-05 & 2017-09-05 07:20:05 & online & datenrettung-ecsglobal-abzocke.online & Namecheap & Namecheap & ⋯ & 2018-09-05 & 16.5 & 2.87 & datenrettung-ecsglobal-abzocke & 1 & 355 & 30 & hyphen-l  & 30hyphen-l  & 0\\\\\n",
       "\t 103981226 & 1 & FirstTime & 2020-05-18 & 2019-05-18 & 2019-05-18 19:54:20 & host   & krasivoe-litso.host                   & Beget     & Beget     & ⋯ & 2020-05-18 & 65.0 & 3.59 & krasivoe-litso                 & 1 &   2 & 14 & hyphen-l  & 14hyphen-l  & 0\\\\\n",
       "\t  65036459 & 1 & FirstTime & 2019-04-03 & 2018-04-03 & 2018-04-03 02:59:55 & online & relay-r6dns.online                    & Namecheap & Namecheap & ⋯ & 2019-04-03 & 17.5 & 2.58 & relay-rdns                     & 8 & 177 & 11 & hyphen-ln & 11hyphen-ln & 0\\\\\n",
       "\t  99645379 & 1 & FirstTime & 2020-04-11 & 2019-04-11 & 2019-04-11 21:51:53 & site   & 24newsfromuk3.site                    & PDR Ltd   & DOMENY.PL & ⋯ & 2020-04-11 & 14.5 & 2.09 & 24newsfromuk                   & 3 &  37 & 13 & ln        & 13ln        & 0\\\\\n",
       "\t  49116638 & 1 & FirstTime & 2018-07-01 & 2017-07-01 & 2017-07-01 07:47:12 & press  & kissasian-korean.press                & Namecheap & Namecheap & ⋯ & 2018-07-01 & 16.0 & 6.98 & kissasian-korean               & 1 &  64 & 16 & hyphen-l  & 16hyphen-l  & 0\\\\\n",
       "\\end{tabular}\n"
      ],
      "text/markdown": [
       "\n",
       "A tibble: 5 × 30\n",
       "\n",
       "| domain_id &lt;int&gt; | renewed_count &lt;int&gt; | renewal_type &lt;chr&gt; | expiry_date &lt;date&gt; | creation_date &lt;date&gt; | creation_time &lt;chr&gt; | tld &lt;chr&gt; | domain &lt;chr&gt; | registrar &lt;chr&gt; | reseller &lt;chr&gt; | ⋯ ⋯ | renew_date &lt;date&gt; | renew_arpt &lt;dbl&gt; | gibb_score &lt;dbl&gt; | pattern &lt;chr&gt; | pattern_domain_count &lt;int&gt; | day_domains &lt;int&gt; | sld_length &lt;int&gt; | sld_type &lt;chr&gt; | sld_type2 &lt;chr&gt; | predicted_renewal_rate &lt;dbl&gt; |\n",
       "|---|---|---|---|---|---|---|---|---|---|---|---|---|---|---|---|---|---|---|---|---|\n",
       "|  51960043 | 1 | FirstTime | 2018-09-05 | 2017-09-05 | 2017-09-05 07:20:05 | online | datenrettung-ecsglobal-abzocke.online | Namecheap | Namecheap | ⋯ | 2018-09-05 | 16.5 | 2.87 | datenrettung-ecsglobal-abzocke | 1 | 355 | 30 | hyphen-l  | 30hyphen-l  | 0 |\n",
       "| 103981226 | 1 | FirstTime | 2020-05-18 | 2019-05-18 | 2019-05-18 19:54:20 | host   | krasivoe-litso.host                   | Beget     | Beget     | ⋯ | 2020-05-18 | 65.0 | 3.59 | krasivoe-litso                 | 1 |   2 | 14 | hyphen-l  | 14hyphen-l  | 0 |\n",
       "|  65036459 | 1 | FirstTime | 2019-04-03 | 2018-04-03 | 2018-04-03 02:59:55 | online | relay-r6dns.online                    | Namecheap | Namecheap | ⋯ | 2019-04-03 | 17.5 | 2.58 | relay-rdns                     | 8 | 177 | 11 | hyphen-ln | 11hyphen-ln | 0 |\n",
       "|  99645379 | 1 | FirstTime | 2020-04-11 | 2019-04-11 | 2019-04-11 21:51:53 | site   | 24newsfromuk3.site                    | PDR Ltd   | DOMENY.PL | ⋯ | 2020-04-11 | 14.5 | 2.09 | 24newsfromuk                   | 3 |  37 | 13 | ln        | 13ln        | 0 |\n",
       "|  49116638 | 1 | FirstTime | 2018-07-01 | 2017-07-01 | 2017-07-01 07:47:12 | press  | kissasian-korean.press                | Namecheap | Namecheap | ⋯ | 2018-07-01 | 16.0 | 6.98 | kissasian-korean               | 1 |  64 | 16 | hyphen-l  | 16hyphen-l  | 0 |\n",
       "\n"
      ],
      "text/plain": [
       "  domain_id renewed_count renewal_type expiry_date creation_date\n",
       "1  51960043 1             FirstTime    2018-09-05  2017-09-05   \n",
       "2 103981226 1             FirstTime    2020-05-18  2019-05-18   \n",
       "3  65036459 1             FirstTime    2019-04-03  2018-04-03   \n",
       "4  99645379 1             FirstTime    2020-04-11  2019-04-11   \n",
       "5  49116638 1             FirstTime    2018-07-01  2017-07-01   \n",
       "  creation_time       tld    domain                                registrar\n",
       "1 2017-09-05 07:20:05 online datenrettung-ecsglobal-abzocke.online Namecheap\n",
       "2 2019-05-18 19:54:20 host   krasivoe-litso.host                   Beget    \n",
       "3 2018-04-03 02:59:55 online relay-r6dns.online                    Namecheap\n",
       "4 2019-04-11 21:51:53 site   24newsfromuk3.site                    PDR Ltd  \n",
       "5 2017-07-01 07:47:12 press  kissasian-korean.press                Namecheap\n",
       "  reseller  ⋯ renew_date renew_arpt gibb_score pattern                       \n",
       "1 Namecheap ⋯ 2018-09-05 16.5       2.87       datenrettung-ecsglobal-abzocke\n",
       "2 Beget     ⋯ 2020-05-18 65.0       3.59       krasivoe-litso                \n",
       "3 Namecheap ⋯ 2019-04-03 17.5       2.58       relay-rdns                    \n",
       "4 DOMENY.PL ⋯ 2020-04-11 14.5       2.09       24newsfromuk                  \n",
       "5 Namecheap ⋯ 2018-07-01 16.0       6.98       kissasian-korean              \n",
       "  pattern_domain_count day_domains sld_length sld_type  sld_type2  \n",
       "1 1                    355         30         hyphen-l  30hyphen-l \n",
       "2 1                      2         14         hyphen-l  14hyphen-l \n",
       "3 8                    177         11         hyphen-ln 11hyphen-ln\n",
       "4 3                     37         13         ln        13ln       \n",
       "5 1                     64         16         hyphen-l  16hyphen-l \n",
       "  predicted_renewal_rate\n",
       "1 0                     \n",
       "2 0                     \n",
       "3 0                     \n",
       "4 0                     \n",
       "5 0                     "
      ]
     },
     "metadata": {},
     "output_type": "display_data"
    }
   ],
   "source": [
    "# get a glimpse of the table, identify date variable\n",
    "sql <- paste(\"SELECT * FROM `radix2020.expiry.new_test2` LIMIT 5 \")\n",
    "new_test_df <- bq_table_download(bq_project_query(\"radix2020\", sql))\n",
    "new_test_df"
   ]
  },
  {
   "cell_type": "code",
   "execution_count": 6,
   "metadata": {},
   "outputs": [
    {
     "data": {
      "text/html": [
       "<style>\n",
       ".list-inline {list-style: none; margin:0; padding: 0}\n",
       ".list-inline>li {display: inline-block}\n",
       ".list-inline>li:not(:last-child)::after {content: \"\\00b7\"; padding: 0 .5ex}\n",
       "</style>\n",
       "<ol class=list-inline><li>'domain_id'</li><li>'renewed_count'</li><li>'renewal_type'</li><li>'expiry_date'</li><li>'creation_date'</li><li>'creation_time'</li><li>'tld'</li><li>'domain'</li><li>'registrar'</li><li>'reseller'</li><li>'reseller_country'</li><li>'reg_period'</li><li>'reg_revenue'</li><li>'reg_arpt'</li><li>'renewal_id'</li><li>'renew_type'</li><li>'autorenew_type'</li><li>'renewal_status'</li><li>'renew_period'</li><li>'renew_revenue'</li><li>'renew_date'</li><li>'renew_arpt'</li><li>'gibb_score'</li><li>'pattern'</li><li>'pattern_domain_count'</li><li>'day_domains'</li><li>'sld_length'</li><li>'sld_type'</li><li>'sld_type2'</li><li>'predicted_renewal_rate'</li></ol>\n"
      ],
      "text/latex": [
       "\\begin{enumerate*}\n",
       "\\item 'domain\\_id'\n",
       "\\item 'renewed\\_count'\n",
       "\\item 'renewal\\_type'\n",
       "\\item 'expiry\\_date'\n",
       "\\item 'creation\\_date'\n",
       "\\item 'creation\\_time'\n",
       "\\item 'tld'\n",
       "\\item 'domain'\n",
       "\\item 'registrar'\n",
       "\\item 'reseller'\n",
       "\\item 'reseller\\_country'\n",
       "\\item 'reg\\_period'\n",
       "\\item 'reg\\_revenue'\n",
       "\\item 'reg\\_arpt'\n",
       "\\item 'renewal\\_id'\n",
       "\\item 'renew\\_type'\n",
       "\\item 'autorenew\\_type'\n",
       "\\item 'renewal\\_status'\n",
       "\\item 'renew\\_period'\n",
       "\\item 'renew\\_revenue'\n",
       "\\item 'renew\\_date'\n",
       "\\item 'renew\\_arpt'\n",
       "\\item 'gibb\\_score'\n",
       "\\item 'pattern'\n",
       "\\item 'pattern\\_domain\\_count'\n",
       "\\item 'day\\_domains'\n",
       "\\item 'sld\\_length'\n",
       "\\item 'sld\\_type'\n",
       "\\item 'sld\\_type2'\n",
       "\\item 'predicted\\_renewal\\_rate'\n",
       "\\end{enumerate*}\n"
      ],
      "text/markdown": [
       "1. 'domain_id'\n",
       "2. 'renewed_count'\n",
       "3. 'renewal_type'\n",
       "4. 'expiry_date'\n",
       "5. 'creation_date'\n",
       "6. 'creation_time'\n",
       "7. 'tld'\n",
       "8. 'domain'\n",
       "9. 'registrar'\n",
       "10. 'reseller'\n",
       "11. 'reseller_country'\n",
       "12. 'reg_period'\n",
       "13. 'reg_revenue'\n",
       "14. 'reg_arpt'\n",
       "15. 'renewal_id'\n",
       "16. 'renew_type'\n",
       "17. 'autorenew_type'\n",
       "18. 'renewal_status'\n",
       "19. 'renew_period'\n",
       "20. 'renew_revenue'\n",
       "21. 'renew_date'\n",
       "22. 'renew_arpt'\n",
       "23. 'gibb_score'\n",
       "24. 'pattern'\n",
       "25. 'pattern_domain_count'\n",
       "26. 'day_domains'\n",
       "27. 'sld_length'\n",
       "28. 'sld_type'\n",
       "29. 'sld_type2'\n",
       "30. 'predicted_renewal_rate'\n",
       "\n",
       "\n"
      ],
      "text/plain": [
       " [1] \"domain_id\"              \"renewed_count\"          \"renewal_type\"          \n",
       " [4] \"expiry_date\"            \"creation_date\"          \"creation_time\"         \n",
       " [7] \"tld\"                    \"domain\"                 \"registrar\"             \n",
       "[10] \"reseller\"               \"reseller_country\"       \"reg_period\"            \n",
       "[13] \"reg_revenue\"            \"reg_arpt\"               \"renewal_id\"            \n",
       "[16] \"renew_type\"             \"autorenew_type\"         \"renewal_status\"        \n",
       "[19] \"renew_period\"           \"renew_revenue\"          \"renew_date\"            \n",
       "[22] \"renew_arpt\"             \"gibb_score\"             \"pattern\"               \n",
       "[25] \"pattern_domain_count\"   \"day_domains\"            \"sld_length\"            \n",
       "[28] \"sld_type\"               \"sld_type2\"              \"predicted_renewal_rate\""
      ]
     },
     "metadata": {},
     "output_type": "display_data"
    }
   ],
   "source": [
    "names(new_test_df)"
   ]
  },
  {
   "cell_type": "code",
   "execution_count": 7,
   "metadata": {},
   "outputs": [
    {
     "data": {
      "text/html": [
       "<style>\n",
       ".list-inline {list-style: none; margin:0; padding: 0}\n",
       ".list-inline>li {display: inline-block}\n",
       ".list-inline>li:not(:last-child)::after {content: \"\\00b7\"; padding: 0 .5ex}\n",
       "</style>\n",
       "<ol class=list-inline><li>1</li><li>1</li><li>1</li><li>1</li><li>1</li></ol>\n"
      ],
      "text/latex": [
       "\\begin{enumerate*}\n",
       "\\item 1\n",
       "\\item 1\n",
       "\\item 1\n",
       "\\item 1\n",
       "\\item 1\n",
       "\\end{enumerate*}\n"
      ],
      "text/markdown": [
       "1. 1\n",
       "2. 1\n",
       "3. 1\n",
       "4. 1\n",
       "5. 1\n",
       "\n",
       "\n"
      ],
      "text/plain": [
       "[1] 1 1 1 1 1"
      ]
     },
     "metadata": {},
     "output_type": "display_data"
    }
   ],
   "source": [
    "new_test_df$renew_period"
   ]
  },
  {
   "cell_type": "code",
   "execution_count": 9,
   "metadata": {},
   "outputs": [
    {
     "data": {
      "text/html": [
       "<table>\n",
       "<caption>A tibble: 1 × 1</caption>\n",
       "<thead>\n",
       "\t<tr><th scope=col>f0_</th></tr>\n",
       "\t<tr><th scope=col>&lt;int&gt;</th></tr>\n",
       "</thead>\n",
       "<tbody>\n",
       "\t<tr><td>3908959</td></tr>\n",
       "</tbody>\n",
       "</table>\n"
      ],
      "text/latex": [
       "A tibble: 1 × 1\n",
       "\\begin{tabular}{l}\n",
       " f0\\_\\\\\n",
       " <int>\\\\\n",
       "\\hline\n",
       "\t 3908959\\\\\n",
       "\\end{tabular}\n"
      ],
      "text/markdown": [
       "\n",
       "A tibble: 1 × 1\n",
       "\n",
       "| f0_ &lt;int&gt; |\n",
       "|---|\n",
       "| 3908959 |\n",
       "\n"
      ],
      "text/plain": [
       "  f0_    \n",
       "1 3908959"
      ]
     },
     "metadata": {},
     "output_type": "display_data"
    }
   ],
   "source": [
    "# test filtering on expiry_date and renewed_count -- works 3,908,959 rows\n",
    "sql <- paste(\"SELECT count(*) FROM `radix2020.expiry.new_test2` WHERE DATE(expiry_date) BETWEEN '2021-01-01' AND '2021-12-31' AND renewed_count=1\")\n",
    "new_test_df <- bq_table_download(bq_project_query(\"radix2020\", sql))\n",
    "new_test_df"
   ]
  },
  {
   "cell_type": "markdown",
   "metadata": {},
   "source": [
    "# Figuring out the number of obs for 5Q and 10Q pulls\n",
    "\n",
    "09/24/2019 - 12/23/2020 =5Q\n",
    "\n",
    "06/24/2018 - 12/23/2020 =10Q\n"
   ]
  },
  {
   "cell_type": "code",
   "execution_count": 3,
   "metadata": {},
   "outputs": [
    {
     "data": {
      "text/html": [
       "-7.2551185605026e-05"
      ],
      "text/latex": [
       "-7.2551185605026e-05"
      ],
      "text/markdown": [
       "-7.2551185605026e-05"
      ],
      "text/plain": [
       "[1] -7.255119e-05"
      ]
     },
     "metadata": {},
     "output_type": "display_data"
    },
    {
     "data": {
      "text/html": [
       "<table>\n",
       "<caption>A tibble: 1 × 1</caption>\n",
       "<thead>\n",
       "\t<tr><th scope=col>f0_</th></tr>\n",
       "\t<tr><th scope=col>&lt;int&gt;</th></tr>\n",
       "</thead>\n",
       "<tbody>\n",
       "\t<tr><td>5642873</td></tr>\n",
       "</tbody>\n",
       "</table>\n"
      ],
      "text/latex": [
       "A tibble: 1 × 1\n",
       "\\begin{tabular}{l}\n",
       " f0\\_\\\\\n",
       " <int>\\\\\n",
       "\\hline\n",
       "\t 5642873\\\\\n",
       "\\end{tabular}\n"
      ],
      "text/markdown": [
       "\n",
       "A tibble: 1 × 1\n",
       "\n",
       "| f0_ &lt;int&gt; |\n",
       "|---|\n",
       "| 5642873 |\n",
       "\n"
      ],
      "text/plain": [
       "  f0_    \n",
       "1 5642873"
      ]
     },
     "metadata": {},
     "output_type": "display_data"
    }
   ],
   "source": [
    "# 5Q\n",
    "sql <- paste(\"SELECT count(*) FROM `radix2020.expiry.new_test2` WHERE DATE(expiry_date) BETWEEN '2019-09-24' AND '2020-12-23' AND renewed_count=1\")\n",
    "bq_table_download(bq_project_query(\"radix2020\", sql))"
   ]
  },
  {
   "cell_type": "code",
   "execution_count": 4,
   "metadata": {},
   "outputs": [
    {
     "data": {
      "text/html": [
       "<table>\n",
       "<caption>A tibble: 1 × 1</caption>\n",
       "<thead>\n",
       "\t<tr><th scope=col>f0_</th></tr>\n",
       "\t<tr><th scope=col>&lt;int&gt;</th></tr>\n",
       "</thead>\n",
       "<tbody>\n",
       "\t<tr><td>8450420</td></tr>\n",
       "</tbody>\n",
       "</table>\n"
      ],
      "text/latex": [
       "A tibble: 1 × 1\n",
       "\\begin{tabular}{l}\n",
       " f0\\_\\\\\n",
       " <int>\\\\\n",
       "\\hline\n",
       "\t 8450420\\\\\n",
       "\\end{tabular}\n"
      ],
      "text/markdown": [
       "\n",
       "A tibble: 1 × 1\n",
       "\n",
       "| f0_ &lt;int&gt; |\n",
       "|---|\n",
       "| 8450420 |\n",
       "\n"
      ],
      "text/plain": [
       "  f0_    \n",
       "1 8450420"
      ]
     },
     "metadata": {},
     "output_type": "display_data"
    }
   ],
   "source": [
    "# 10Q\n",
    "sql <- paste(\"SELECT count(*) FROM `radix2020.expiry.new_test2` WHERE DATE(expiry_date) BETWEEN '2018-06-24' AND '2020-12-23' AND renewed_count=1\")\n",
    "bq_table_download(bq_project_query(\"radix2020\", sql))"
   ]
  },
  {
   "cell_type": "code",
   "execution_count": null,
   "metadata": {},
   "outputs": [],
   "source": []
  }
 ],
 "metadata": {
  "environment": {
   "name": "r-cpu.3-6.m48",
   "type": "gcloud",
   "uri": "gcr.io/deeplearning-platform-release/r-cpu.3-6:m48"
  },
  "kernelspec": {
   "display_name": "R",
   "language": "R",
   "name": "ir"
  },
  "language_info": {
   "codemirror_mode": "r",
   "file_extension": ".r",
   "mimetype": "text/x-r-source",
   "name": "R",
   "pygments_lexer": "r",
   "version": "3.6.3"
  }
 },
 "nbformat": 4,
 "nbformat_minor": 4
}
