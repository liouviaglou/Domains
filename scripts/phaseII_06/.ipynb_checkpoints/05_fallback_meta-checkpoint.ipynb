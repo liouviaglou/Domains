{
 "cells": [
  {
   "cell_type": "markdown",
   "metadata": {},
   "source": [
    "# Fallback Table Metalearning\n",
    "\n"
   ]
  },
  {
   "cell_type": "code",
   "execution_count": 1,
   "metadata": {},
   "outputs": [],
   "source": [
    "options(repr.matrix.max.cols=50, repr.matrix.max.rows=100)"
   ]
  },
  {
   "cell_type": "code",
   "execution_count": 2,
   "metadata": {},
   "outputs": [],
   "source": [
    "# install.packages(\"pkgcond\")"
   ]
  },
  {
   "cell_type": "code",
   "execution_count": 3,
   "metadata": {},
   "outputs": [
    {
     "name": "stderr",
     "output_type": "stream",
     "text": [
      "\n",
      "Attaching package: ‘dplyr’\n",
      "\n",
      "\n",
      "The following objects are masked from ‘package:stats’:\n",
      "\n",
      "    filter, lag\n",
      "\n",
      "\n",
      "The following objects are masked from ‘package:base’:\n",
      "\n",
      "    intersect, setdiff, setequal, union\n",
      "\n",
      "\n",
      "\n",
      "Attaching package: ‘data.table’\n",
      "\n",
      "\n",
      "The following objects are masked from ‘package:dplyr’:\n",
      "\n",
      "    between, first, last\n",
      "\n",
      "\n",
      "Loading required package: grid\n",
      "\n",
      "Loading required package: libcoin\n",
      "\n",
      "Loading required package: mvtnorm\n",
      "\n",
      "Loading required package: lattice\n",
      "\n",
      "Loading required package: ggplot2\n",
      "\n",
      "randomForest 4.6-14\n",
      "\n",
      "Type rfNews() to see new features/changes/bug fixes.\n",
      "\n",
      "\n",
      "Attaching package: ‘randomForest’\n",
      "\n",
      "\n",
      "The following object is masked from ‘package:ggplot2’:\n",
      "\n",
      "    margin\n",
      "\n",
      "\n",
      "The following object is masked from ‘package:dplyr’:\n",
      "\n",
      "    combine\n",
      "\n",
      "\n",
      "\n",
      "Attaching package: ‘ranger’\n",
      "\n",
      "\n",
      "The following object is masked from ‘package:randomForest’:\n",
      "\n",
      "    importance\n",
      "\n",
      "\n",
      "\n",
      "Attaching package: ‘plotly’\n",
      "\n",
      "\n",
      "The following object is masked from ‘package:ggplot2’:\n",
      "\n",
      "    last_plot\n",
      "\n",
      "\n",
      "The following object is masked from ‘package:stats’:\n",
      "\n",
      "    filter\n",
      "\n",
      "\n",
      "The following object is masked from ‘package:graphics’:\n",
      "\n",
      "    layout\n",
      "\n",
      "\n",
      "Loading required package: RJSONIO\n",
      "\n"
     ]
    },
    {
     "data": {
      "text/html": [
       "'/home/jupyter/local/Domains_202003/scripts/phaseII_06'"
      ],
      "text/latex": [
       "'/home/jupyter/local/Domains\\_202003/scripts/phaseII\\_06'"
      ],
      "text/markdown": [
       "'/home/jupyter/local/Domains_202003/scripts/phaseII_06'"
      ],
      "text/plain": [
       "[1] \"/home/jupyter/local/Domains_202003/scripts/phaseII_06\""
      ]
     },
     "metadata": {},
     "output_type": "display_data"
    }
   ],
   "source": [
    "library(dplyr)\n",
    "library(data.table)\n",
    "library(partykit)\n",
    "library(tictoc)\n",
    "library(caret)\n",
    "library(e1071)\n",
    "library(randomForest)\n",
    "library(ranger)\n",
    "\n",
    "#for 3d plotting\n",
    "library(akima)\n",
    "library(plotly)\n",
    "\n",
    "# for prep data\n",
    "library(rPython)\n",
    "library(stringr)\n",
    "library(pbapply)\n",
    "library(stringdist)\n",
    "library(data.table)\n",
    "library(dominanceanalysis)\n",
    "\n",
    "\n",
    "getwd()"
   ]
  },
  {
   "cell_type": "code",
   "execution_count": 28,
   "metadata": {},
   "outputs": [],
   "source": [
    "\n",
    "source('../orig/functions.R')\n",
    "\n",
    "source('../orig/functions_models.R')\n",
    "\n",
    "source('../phaseII_03_forest/functions_eval.R')\n",
    "\n",
    "\n",
    "source('../phaseII_03_forest/load_prep_data_expiry.R')\n",
    "\n",
    "# expiry_train_prepped_2_1 (list, less df's w/ 0 obs)\n",
    "# expiry_test_prepped_2_1  (list, less df's w/ 0 obs)\n",
    "# expiry_train_df_1 (above, rbound)\n",
    "# expiry_test_df_1 (above, rbound)\n",
    "# expiry_train_df_sub (subset vars)                                        \n",
    "# expiry_test_df_sub (subset vars)"
   ]
  },
  {
   "cell_type": "code",
   "execution_count": 30,
   "metadata": {},
   "outputs": [],
   "source": [
    "\n",
    "source('functions_fallback.R')"
   ]
  },
  {
   "cell_type": "markdown",
   "metadata": {},
   "source": [
    "# Load model predctions"
   ]
  },
  {
   "cell_type": "code",
   "execution_count": 10,
   "metadata": {},
   "outputs": [
    {
     "data": {
      "text/html": [
       "<style>\n",
       ".list-inline {list-style: none; margin:0; padding: 0}\n",
       ".list-inline>li {display: inline-block}\n",
       ".list-inline>li:not(:last-child)::after {content: \"\\00b7\"; padding: 0 .5ex}\n",
       "</style>\n",
       "<ol class=list-inline><li>297100</li><li>12</li></ol>\n"
      ],
      "text/latex": [
       "\\begin{enumerate*}\n",
       "\\item 297100\n",
       "\\item 12\n",
       "\\end{enumerate*}\n"
      ],
      "text/markdown": [
       "1. 297100\n",
       "2. 12\n",
       "\n",
       "\n"
      ],
      "text/plain": [
       "[1] 297100     12"
      ]
     },
     "metadata": {},
     "output_type": "display_data"
    },
    {
     "data": {
      "text/html": [
       "<table>\n",
       "<caption>A data.frame: 6 × 12</caption>\n",
       "<thead>\n",
       "\t<tr><th></th><th scope=col>actual</th><th scope=col>pred_df_seg2_glm</th><th scope=col>pred_df_seg_glm</th><th scope=col>pred_df_agg_glm</th><th scope=col>pred_df_seg2_rf</th><th scope=col>pred_df_seg_rf</th><th scope=col>pred_df_agg_rf</th><th scope=col>tld_registrar_index</th><th scope=col>reseller</th><th scope=col>n</th><th scope=col>domain_id</th><th scope=col>domain</th></tr>\n",
       "\t<tr><th></th><th scope=col>&lt;fct&gt;</th><th scope=col>&lt;dbl&gt;</th><th scope=col>&lt;dbl&gt;</th><th scope=col>&lt;dbl&gt;</th><th scope=col>&lt;dbl&gt;</th><th scope=col>&lt;dbl&gt;</th><th scope=col>&lt;dbl&gt;</th><th scope=col>&lt;fct&gt;</th><th scope=col>&lt;fct&gt;</th><th scope=col>&lt;int&gt;</th><th scope=col>&lt;int&gt;</th><th scope=col>&lt;fct&gt;</th></tr>\n",
       "</thead>\n",
       "<tbody>\n",
       "\t<tr><th scope=row>1</th><td>Not Renewd</td><td>0.6470992</td><td>0.558</td><td>0.419</td><td>0.4765771</td><td>0.4545657</td><td>0.5386137</td><td>sitegmo</td><td>gmo</td><td>106569</td><td>44295183</td><td>kagen.site           </td></tr>\n",
       "\t<tr><th scope=row>2</th><td>Renewed   </td><td>0.6762222</td><td>0.567</td><td>0.397</td><td>0.5410605</td><td>0.5769973</td><td>0.6091513</td><td>sitegmo</td><td>gmo</td><td>106569</td><td>44573611</td><td>designlab.site       </td></tr>\n",
       "\t<tr><th scope=row>3</th><td>Renewed   </td><td>0.9098495</td><td>0.835</td><td>0.410</td><td>0.7018108</td><td>0.6343404</td><td>0.6886680</td><td>sitegmo</td><td>gmo</td><td>106569</td><td>45304858</td><td>hokatu-blog.site     </td></tr>\n",
       "\t<tr><th scope=row>4</th><td>Renewed   </td><td>0.6029350</td><td>0.515</td><td>0.402</td><td>0.2414726</td><td>0.3999603</td><td>0.3464197</td><td>sitegmo</td><td>gmo</td><td>106569</td><td>46235129</td><td>suzuya.site          </td></tr>\n",
       "\t<tr><th scope=row>5</th><td>Not Renewd</td><td>0.9311321</td><td>0.863</td><td>0.417</td><td>0.7749462</td><td>0.7039504</td><td>0.6711740</td><td>sitegmo</td><td>gmo</td><td>106569</td><td>46276970</td><td>wins-company.site    </td></tr>\n",
       "\t<tr><th scope=row>6</th><td>Renewed   </td><td>0.9347869</td><td>0.861</td><td>0.391</td><td>0.6376848</td><td>0.6566740</td><td>0.6717237</td><td>sitegmo</td><td>gmo</td><td>106569</td><td>47809960</td><td>yamatoku-company.site</td></tr>\n",
       "</tbody>\n",
       "</table>\n"
      ],
      "text/latex": [
       "A data.frame: 6 × 12\n",
       "\\begin{tabular}{r|llllllllllll}\n",
       "  & actual & pred\\_df\\_seg2\\_glm & pred\\_df\\_seg\\_glm & pred\\_df\\_agg\\_glm & pred\\_df\\_seg2\\_rf & pred\\_df\\_seg\\_rf & pred\\_df\\_agg\\_rf & tld\\_registrar\\_index & reseller & n & domain\\_id & domain\\\\\n",
       "  & <fct> & <dbl> & <dbl> & <dbl> & <dbl> & <dbl> & <dbl> & <fct> & <fct> & <int> & <int> & <fct>\\\\\n",
       "\\hline\n",
       "\t1 & Not Renewd & 0.6470992 & 0.558 & 0.419 & 0.4765771 & 0.4545657 & 0.5386137 & sitegmo & gmo & 106569 & 44295183 & kagen.site           \\\\\n",
       "\t2 & Renewed    & 0.6762222 & 0.567 & 0.397 & 0.5410605 & 0.5769973 & 0.6091513 & sitegmo & gmo & 106569 & 44573611 & designlab.site       \\\\\n",
       "\t3 & Renewed    & 0.9098495 & 0.835 & 0.410 & 0.7018108 & 0.6343404 & 0.6886680 & sitegmo & gmo & 106569 & 45304858 & hokatu-blog.site     \\\\\n",
       "\t4 & Renewed    & 0.6029350 & 0.515 & 0.402 & 0.2414726 & 0.3999603 & 0.3464197 & sitegmo & gmo & 106569 & 46235129 & suzuya.site          \\\\\n",
       "\t5 & Not Renewd & 0.9311321 & 0.863 & 0.417 & 0.7749462 & 0.7039504 & 0.6711740 & sitegmo & gmo & 106569 & 46276970 & wins-company.site    \\\\\n",
       "\t6 & Renewed    & 0.9347869 & 0.861 & 0.391 & 0.6376848 & 0.6566740 & 0.6717237 & sitegmo & gmo & 106569 & 47809960 & yamatoku-company.site\\\\\n",
       "\\end{tabular}\n"
      ],
      "text/markdown": [
       "\n",
       "A data.frame: 6 × 12\n",
       "\n",
       "| <!--/--> | actual &lt;fct&gt; | pred_df_seg2_glm &lt;dbl&gt; | pred_df_seg_glm &lt;dbl&gt; | pred_df_agg_glm &lt;dbl&gt; | pred_df_seg2_rf &lt;dbl&gt; | pred_df_seg_rf &lt;dbl&gt; | pred_df_agg_rf &lt;dbl&gt; | tld_registrar_index &lt;fct&gt; | reseller &lt;fct&gt; | n &lt;int&gt; | domain_id &lt;int&gt; | domain &lt;fct&gt; |\n",
       "|---|---|---|---|---|---|---|---|---|---|---|---|---|\n",
       "| 1 | Not Renewd | 0.6470992 | 0.558 | 0.419 | 0.4765771 | 0.4545657 | 0.5386137 | sitegmo | gmo | 106569 | 44295183 | kagen.site            |\n",
       "| 2 | Renewed    | 0.6762222 | 0.567 | 0.397 | 0.5410605 | 0.5769973 | 0.6091513 | sitegmo | gmo | 106569 | 44573611 | designlab.site        |\n",
       "| 3 | Renewed    | 0.9098495 | 0.835 | 0.410 | 0.7018108 | 0.6343404 | 0.6886680 | sitegmo | gmo | 106569 | 45304858 | hokatu-blog.site      |\n",
       "| 4 | Renewed    | 0.6029350 | 0.515 | 0.402 | 0.2414726 | 0.3999603 | 0.3464197 | sitegmo | gmo | 106569 | 46235129 | suzuya.site           |\n",
       "| 5 | Not Renewd | 0.9311321 | 0.863 | 0.417 | 0.7749462 | 0.7039504 | 0.6711740 | sitegmo | gmo | 106569 | 46276970 | wins-company.site     |\n",
       "| 6 | Renewed    | 0.9347869 | 0.861 | 0.391 | 0.6376848 | 0.6566740 | 0.6717237 | sitegmo | gmo | 106569 | 47809960 | yamatoku-company.site |\n",
       "\n"
      ],
      "text/plain": [
       "  actual     pred_df_seg2_glm pred_df_seg_glm pred_df_agg_glm pred_df_seg2_rf\n",
       "1 Not Renewd 0.6470992        0.558           0.419           0.4765771      \n",
       "2 Renewed    0.6762222        0.567           0.397           0.5410605      \n",
       "3 Renewed    0.9098495        0.835           0.410           0.7018108      \n",
       "4 Renewed    0.6029350        0.515           0.402           0.2414726      \n",
       "5 Not Renewd 0.9311321        0.863           0.417           0.7749462      \n",
       "6 Renewed    0.9347869        0.861           0.391           0.6376848      \n",
       "  pred_df_seg_rf pred_df_agg_rf tld_registrar_index reseller n      domain_id\n",
       "1 0.4545657      0.5386137      sitegmo             gmo      106569 44295183 \n",
       "2 0.5769973      0.6091513      sitegmo             gmo      106569 44573611 \n",
       "3 0.6343404      0.6886680      sitegmo             gmo      106569 45304858 \n",
       "4 0.3999603      0.3464197      sitegmo             gmo      106569 46235129 \n",
       "5 0.7039504      0.6711740      sitegmo             gmo      106569 46276970 \n",
       "6 0.6566740      0.6717237      sitegmo             gmo      106569 47809960 \n",
       "  domain               \n",
       "1 kagen.site           \n",
       "2 designlab.site       \n",
       "3 hokatu-blog.site     \n",
       "4 suzuya.site          \n",
       "5 wins-company.site    \n",
       "6 yamatoku-company.site"
      ]
     },
     "metadata": {},
     "output_type": "display_data"
    }
   ],
   "source": [
    "predictions_df <- read.csv(\"../../data/tld_reseller_compare_predictions.csv\")\n",
    "\n",
    "dim(predictions_df)\n",
    "head(predictions_df)"
   ]
  },
  {
   "cell_type": "code",
   "execution_count": 11,
   "metadata": {},
   "outputs": [
    {
     "data": {
      "text/html": [
       "<style>\n",
       ".list-inline {list-style: none; margin:0; padding: 0}\n",
       ".list-inline>li {display: inline-block}\n",
       ".list-inline>li:not(:last-child)::after {content: \"\\00b7\"; padding: 0 .5ex}\n",
       "</style>\n",
       "<ol class=list-inline><li>391</li><li>12</li></ol>\n"
      ],
      "text/latex": [
       "\\begin{enumerate*}\n",
       "\\item 391\n",
       "\\item 12\n",
       "\\end{enumerate*}\n"
      ],
      "text/markdown": [
       "1. 391\n",
       "2. 12\n",
       "\n",
       "\n"
      ],
      "text/plain": [
       "[1] 391  12"
      ]
     },
     "metadata": {},
     "output_type": "display_data"
    },
    {
     "name": "stdout",
     "output_type": "stream",
     "text": [
      "0000000000000000000000000000000000000000000000000000000000000000000000000000000000000000000000000000000000000000000000000000000000000000000000000000000000000000000000000000000000000000000000000000000000000000000000000000000000000000000000000000000000000000000000000000000000000000000000000000000000000000000000000000000000000000000000000000000000000000000000000000000000000000000000000000000"
     ]
    }
   ],
   "source": [
    "# there exist 391 rows of predictions df (391 tld-reg) where all predicitions are n/a\n",
    "# this correspnds with tld-reg in training data that do not have any domains in test data\n",
    "predictions_df %>% filter(is.na(domain_id)) %>% dim()\n",
    "vector <- predictions_df %>% filter(is.na(domain_id)) %>% pull(tld_registrar_index)\n",
    "for (v in vector){\n",
    "    cat(expiry_test_df_1 %>% filter(tld_registrar_index==v) %>% nrow())\n",
    "}"
   ]
  },
  {
   "cell_type": "code",
   "execution_count": 12,
   "metadata": {},
   "outputs": [
    {
     "data": {
      "text/html": [
       "<style>\n",
       ".list-inline {list-style: none; margin:0; padding: 0}\n",
       ".list-inline>li {display: inline-block}\n",
       ".list-inline>li:not(:last-child)::after {content: \"\\00b7\"; padding: 0 .5ex}\n",
       "</style>\n",
       "<ol class=list-inline><li>296709</li><li>12</li></ol>\n"
      ],
      "text/latex": [
       "\\begin{enumerate*}\n",
       "\\item 296709\n",
       "\\item 12\n",
       "\\end{enumerate*}\n"
      ],
      "text/markdown": [
       "1. 296709\n",
       "2. 12\n",
       "\n",
       "\n"
      ],
      "text/plain": [
       "[1] 296709     12"
      ]
     },
     "metadata": {},
     "output_type": "display_data"
    }
   ],
   "source": [
    "predictions_df <- predictions_df %>% filter(!is.na(domain_id))\n",
    "dim(predictions_df)"
   ]
  },
  {
   "cell_type": "code",
   "execution_count": 51,
   "metadata": {},
   "outputs": [
    {
     "data": {
      "text/html": [
       "<style>\n",
       ".list-inline {list-style: none; margin:0; padding: 0}\n",
       ".list-inline>li {display: inline-block}\n",
       ".list-inline>li:not(:last-child)::after {content: \"\\00b7\"; padding: 0 .5ex}\n",
       "</style>\n",
       "<ol class=list-inline><li>296797</li><li>39</li></ol>\n"
      ],
      "text/latex": [
       "\\begin{enumerate*}\n",
       "\\item 296797\n",
       "\\item 39\n",
       "\\end{enumerate*}\n"
      ],
      "text/markdown": [
       "1. 296797\n",
       "2. 39\n",
       "\n",
       "\n"
      ],
      "text/plain": [
       "[1] 296797     39"
      ]
     },
     "metadata": {},
     "output_type": "display_data"
    },
    {
     "data": {
      "text/html": [
       "<style>\n",
       ".list-inline {list-style: none; margin:0; padding: 0}\n",
       ".list-inline>li {display: inline-block}\n",
       ".list-inline>li:not(:last-child)::after {content: \"\\00b7\"; padding: 0 .5ex}\n",
       "</style>\n",
       "<ol class=list-inline><li>296797</li><li>47</li></ol>\n"
      ],
      "text/latex": [
       "\\begin{enumerate*}\n",
       "\\item 296797\n",
       "\\item 47\n",
       "\\end{enumerate*}\n"
      ],
      "text/markdown": [
       "1. 296797\n",
       "2. 47\n",
       "\n",
       "\n"
      ],
      "text/plain": [
       "[1] 296797     47"
      ]
     },
     "metadata": {},
     "output_type": "display_data"
    }
   ],
   "source": [
    "dim(expiry_test_df_1)\n",
    "expiry_test_predictions <- merge(expiry_test_df_1, \n",
    "      predictions_df,\n",
    "     on = 'domain_id', all=TRUE)\n",
    "dim(expiry_test_predictions)"
   ]
  },
  {
   "cell_type": "code",
   "execution_count": 52,
   "metadata": {},
   "outputs": [
    {
     "data": {
      "text/html": [
       "<style>\n",
       ".list-inline {list-style: none; margin:0; padding: 0}\n",
       ".list-inline>li {display: inline-block}\n",
       ".list-inline>li:not(:last-child)::after {content: \"\\00b7\"; padding: 0 .5ex}\n",
       "</style>\n",
       "<ol class=list-inline><li>88</li><li>47</li></ol>\n"
      ],
      "text/latex": [
       "\\begin{enumerate*}\n",
       "\\item 88\n",
       "\\item 47\n",
       "\\end{enumerate*}\n"
      ],
      "text/markdown": [
       "1. 88\n",
       "2. 47\n",
       "\n",
       "\n"
      ],
      "text/plain": [
       "[1] 88 47"
      ]
     },
     "metadata": {},
     "output_type": "display_data"
    }
   ],
   "source": [
    "expiry_test_predictions %>% filter(is.na(n)) %>% dim()"
   ]
  },
  {
   "cell_type": "markdown",
   "metadata": {},
   "source": [
    "# Pull up reseller_geo"
   ]
  },
  {
   "cell_type": "code",
   "execution_count": 53,
   "metadata": {},
   "outputs": [
    {
     "data": {
      "text/html": [
       "<style>\n",
       ".list-inline {list-style: none; margin:0; padding: 0}\n",
       ".list-inline>li {display: inline-block}\n",
       ".list-inline>li:not(:last-child)::after {content: \"\\00b7\"; padding: 0 .5ex}\n",
       "</style>\n",
       "<ol class=list-inline><li>1498</li><li>7</li></ol>\n"
      ],
      "text/latex": [
       "\\begin{enumerate*}\n",
       "\\item 1498\n",
       "\\item 7\n",
       "\\end{enumerate*}\n"
      ],
      "text/markdown": [
       "1. 1498\n",
       "2. 7\n",
       "\n",
       "\n"
      ],
      "text/plain": [
       "[1] 1498    7"
      ]
     },
     "metadata": {},
     "output_type": "display_data"
    },
    {
     "data": {
      "text/html": [
       "<table>\n",
       "<caption>A data.frame: 6 × 7</caption>\n",
       "<thead>\n",
       "\t<tr><th></th><th scope=col>start_date</th><th scope=col>end_date</th><th scope=col>reseller</th><th scope=col>reseller_am</th><th scope=col>reseller_country</th><th scope=col>registrar</th><th scope=col>reseller_geo</th></tr>\n",
       "\t<tr><th></th><th scope=col>&lt;fct&gt;</th><th scope=col>&lt;fct&gt;</th><th scope=col>&lt;fct&gt;</th><th scope=col>&lt;fct&gt;</th><th scope=col>&lt;fct&gt;</th><th scope=col>&lt;fct&gt;</th><th scope=col>&lt;fct&gt;</th></tr>\n",
       "</thead>\n",
       "<tbody>\n",
       "\t<tr><th scope=row>1</th><td>2013-01-01T00:00:00Z</td><td>2019-12-31T00:00:00Z</td><td>NA                 </td><td>Not Assigned</td><td>NA           </td><td>NA                 </td><td>Others       </td></tr>\n",
       "\t<tr><th scope=row>2</th><td>2013-01-01T00:00:00Z</td><td>2019-12-31T00:00:00Z</td><td>007names           </td><td>Varun       </td><td>United States</td><td>007names           </td><td>United States</td></tr>\n",
       "\t<tr><th scope=row>3</th><td>2013-01-01T00:00:00Z</td><td>2019-12-31T00:00:00Z</td><td>0101 internet      </td><td>Not Assigned</td><td>Hong Kong    </td><td>0101 internet      </td><td>China        </td></tr>\n",
       "\t<tr><th scope=row>4</th><td>2013-01-01T00:00:00Z</td><td>2019-12-31T00:00:00Z</td><td><span style=white-space:pre-wrap>1&amp;1 internet       </span></td><td><span style=white-space:pre-wrap>Neha        </span></td><td><span style=white-space:pre-wrap>Germany      </span></td><td><span style=white-space:pre-wrap>1&amp;1 internet       </span></td><td><span style=white-space:pre-wrap>EU           </span></td></tr>\n",
       "\t<tr><th scope=row>5</th><td>2018-01-01T00:00:00Z</td><td>2019-12-31T00:00:00Z</td><td>101 domain         </td><td>Divya-Brands</td><td>United States</td><td>101 domain         </td><td>United States</td></tr>\n",
       "\t<tr><th scope=row>6</th><td>2013-01-01T00:00:00Z</td><td>2019-12-31T00:00:00Z</td><td>101domain discovery</td><td>Not Assigned</td><td>Germany      </td><td>101domain discovery</td><td>EU           </td></tr>\n",
       "</tbody>\n",
       "</table>\n"
      ],
      "text/latex": [
       "A data.frame: 6 × 7\n",
       "\\begin{tabular}{r|lllllll}\n",
       "  & start\\_date & end\\_date & reseller & reseller\\_am & reseller\\_country & registrar & reseller\\_geo\\\\\n",
       "  & <fct> & <fct> & <fct> & <fct> & <fct> & <fct> & <fct>\\\\\n",
       "\\hline\n",
       "\t1 & 2013-01-01T00:00:00Z & 2019-12-31T00:00:00Z & NA                  & Not Assigned & NA            & NA                  & Others       \\\\\n",
       "\t2 & 2013-01-01T00:00:00Z & 2019-12-31T00:00:00Z & 007names            & Varun        & United States & 007names            & United States\\\\\n",
       "\t3 & 2013-01-01T00:00:00Z & 2019-12-31T00:00:00Z & 0101 internet       & Not Assigned & Hong Kong     & 0101 internet       & China        \\\\\n",
       "\t4 & 2013-01-01T00:00:00Z & 2019-12-31T00:00:00Z & 1\\&1 internet        & Neha         & Germany       & 1\\&1 internet        & EU           \\\\\n",
       "\t5 & 2018-01-01T00:00:00Z & 2019-12-31T00:00:00Z & 101 domain          & Divya-Brands & United States & 101 domain          & United States\\\\\n",
       "\t6 & 2013-01-01T00:00:00Z & 2019-12-31T00:00:00Z & 101domain discovery & Not Assigned & Germany       & 101domain discovery & EU           \\\\\n",
       "\\end{tabular}\n"
      ],
      "text/markdown": [
       "\n",
       "A data.frame: 6 × 7\n",
       "\n",
       "| <!--/--> | start_date &lt;fct&gt; | end_date &lt;fct&gt; | reseller &lt;fct&gt; | reseller_am &lt;fct&gt; | reseller_country &lt;fct&gt; | registrar &lt;fct&gt; | reseller_geo &lt;fct&gt; |\n",
       "|---|---|---|---|---|---|---|---|\n",
       "| 1 | 2013-01-01T00:00:00Z | 2019-12-31T00:00:00Z | NA                  | Not Assigned | NA            | NA                  | Others        |\n",
       "| 2 | 2013-01-01T00:00:00Z | 2019-12-31T00:00:00Z | 007names            | Varun        | United States | 007names            | United States |\n",
       "| 3 | 2013-01-01T00:00:00Z | 2019-12-31T00:00:00Z | 0101 internet       | Not Assigned | Hong Kong     | 0101 internet       | China         |\n",
       "| 4 | 2013-01-01T00:00:00Z | 2019-12-31T00:00:00Z | 1&amp;1 internet        | Neha         | Germany       | 1&amp;1 internet        | EU            |\n",
       "| 5 | 2018-01-01T00:00:00Z | 2019-12-31T00:00:00Z | 101 domain          | Divya-Brands | United States | 101 domain          | United States |\n",
       "| 6 | 2013-01-01T00:00:00Z | 2019-12-31T00:00:00Z | 101domain discovery | Not Assigned | Germany       | 101domain discovery | EU            |\n",
       "\n"
      ],
      "text/plain": [
       "  start_date           end_date             reseller            reseller_am \n",
       "1 2013-01-01T00:00:00Z 2019-12-31T00:00:00Z NA                  Not Assigned\n",
       "2 2013-01-01T00:00:00Z 2019-12-31T00:00:00Z 007names            Varun       \n",
       "3 2013-01-01T00:00:00Z 2019-12-31T00:00:00Z 0101 internet       Not Assigned\n",
       "4 2013-01-01T00:00:00Z 2019-12-31T00:00:00Z 1&1 internet        Neha        \n",
       "5 2018-01-01T00:00:00Z 2019-12-31T00:00:00Z 101 domain          Divya-Brands\n",
       "6 2013-01-01T00:00:00Z 2019-12-31T00:00:00Z 101domain discovery Not Assigned\n",
       "  reseller_country registrar           reseller_geo \n",
       "1 NA               NA                  Others       \n",
       "2 United States    007names            United States\n",
       "3 Hong Kong        0101 internet       China        \n",
       "4 Germany          1&1 internet        EU           \n",
       "5 United States    101 domain          United States\n",
       "6 Germany          101domain discovery EU           "
      ]
     },
     "metadata": {},
     "output_type": "display_data"
    }
   ],
   "source": [
    "# system(\"gsutil cp gs://data_input/PredictiveModelAnalysis_ResellerGeoMap.csv /home/jupyter/local/Domains_202003/data/PredictiveModelAnalysis_ResellerGeoMap.csv\")\n",
    "geoLookupDF <- read.csv(\"/home/jupyter/local/Domains_202003/data/PredictiveModelAnalysis_ResellerGeoMap.csv\")\n",
    "# need to remove final row with all NAs\n",
    "geoLookupDF <- geoLookupDF %>% filter_all(any_vars(!is.na(.)))\n",
    "dim(geoLookupDF)\n",
    "head(geoLookupDF)"
   ]
  },
  {
   "cell_type": "markdown",
   "metadata": {},
   "source": [
    "# Add reseller_geo to expiry_train_df_1 for fall_back gen"
   ]
  },
  {
   "cell_type": "code",
   "execution_count": 54,
   "metadata": {},
   "outputs": [
    {
     "data": {
      "text/html": [
       "<style>\n",
       ".list-inline {list-style: none; margin:0; padding: 0}\n",
       ".list-inline>li {display: inline-block}\n",
       ".list-inline>li:not(:last-child)::after {content: \"\\00b7\"; padding: 0 .5ex}\n",
       "</style>\n",
       "<ol class=list-inline><li>1190186</li><li>43</li></ol>\n"
      ],
      "text/latex": [
       "\\begin{enumerate*}\n",
       "\\item 1190186\n",
       "\\item 43\n",
       "\\end{enumerate*}\n"
      ],
      "text/markdown": [
       "1. 1190186\n",
       "2. 43\n",
       "\n",
       "\n"
      ],
      "text/plain": [
       "[1] 1190186      43"
      ]
     },
     "metadata": {},
     "output_type": "display_data"
    },
    {
     "data": {
      "text/html": [
       "<style>\n",
       ".list-inline {list-style: none; margin:0; padding: 0}\n",
       ".list-inline>li {display: inline-block}\n",
       ".list-inline>li:not(:last-child)::after {content: \"\\00b7\"; padding: 0 .5ex}\n",
       "</style>\n",
       "<ol class=list-inline><li>1190186</li><li>43</li></ol>\n"
      ],
      "text/latex": [
       "\\begin{enumerate*}\n",
       "\\item 1190186\n",
       "\\item 43\n",
       "\\end{enumerate*}\n"
      ],
      "text/markdown": [
       "1. 1190186\n",
       "2. 43\n",
       "\n",
       "\n"
      ],
      "text/plain": [
       "[1] 1190186      43"
      ]
     },
     "metadata": {},
     "output_type": "display_data"
    },
    {
     "data": {
      "text/html": [
       "<table>\n",
       "<caption>A data.frame: 6 × 43</caption>\n",
       "<thead>\n",
       "\t<tr><th></th><th scope=col>registrar</th><th scope=col>reseller</th><th scope=col>reseller_country</th><th scope=col>start_date</th><th scope=col>end_date</th><th scope=col>reseller_am</th><th scope=col>reseller_geo</th><th scope=col>renewal_type</th><th scope=col>renewed_count</th><th scope=col>expiry_date</th><th scope=col>domain_id</th><th scope=col>domain</th><th scope=col>creation_date</th><th scope=col>status</th><th scope=col>tld</th><th scope=col>region</th><th scope=col>reg_period</th><th scope=col>registrant_country</th><th scope=col>renewal_status</th><th scope=col>renew_mbg</th><th scope=col>renew_type</th><th scope=col>autorenew_type</th><th scope=col>renew_date</th><th scope=col>renew_registrar</th><th scope=col>renew_reseller</th><th scope=col>reg_revenue</th><th scope=col>reg_arpt</th><th scope=col>renew_period</th><th scope=col>renew_domain_revenue</th><th scope=col>renew_arpt</th><th scope=col>reg_arpt_org</th><th scope=col>tld_registrar_index</th><th scope=col>sld</th><th scope=col>sld_type</th><th scope=col>sld_length</th><th scope=col>sld_type2</th><th scope=col>day_domains</th><th scope=col>log_reg_arpt</th><th scope=col>gibb_score</th><th scope=col>pattern</th><th scope=col>cluster</th><th scope=col>pattern_score</th><th scope=col>pattern_domain_count</th></tr>\n",
       "\t<tr><th></th><th scope=col>&lt;chr&gt;</th><th scope=col>&lt;fct&gt;</th><th scope=col>&lt;fct&gt;</th><th scope=col>&lt;fct&gt;</th><th scope=col>&lt;fct&gt;</th><th scope=col>&lt;fct&gt;</th><th scope=col>&lt;fct&gt;</th><th scope=col>&lt;chr&gt;</th><th scope=col>&lt;int&gt;</th><th scope=col>&lt;date&gt;</th><th scope=col>&lt;int&gt;</th><th scope=col>&lt;chr&gt;</th><th scope=col>&lt;date&gt;</th><th scope=col>&lt;chr&gt;</th><th scope=col>&lt;fct&gt;</th><th scope=col>&lt;chr&gt;</th><th scope=col>&lt;int&gt;</th><th scope=col>&lt;chr&gt;</th><th scope=col>&lt;fct&gt;</th><th scope=col>&lt;int&gt;</th><th scope=col>&lt;chr&gt;</th><th scope=col>&lt;chr&gt;</th><th scope=col>&lt;date&gt;</th><th scope=col>&lt;chr&gt;</th><th scope=col>&lt;chr&gt;</th><th scope=col>&lt;dbl&gt;</th><th scope=col>&lt;dbl&gt;</th><th scope=col>&lt;int&gt;</th><th scope=col>&lt;dbl&gt;</th><th scope=col>&lt;dbl&gt;</th><th scope=col>&lt;dbl&gt;</th><th scope=col>&lt;chr&gt;</th><th scope=col>&lt;chr&gt;</th><th scope=col>&lt;fct&gt;</th><th scope=col>&lt;int&gt;</th><th scope=col>&lt;chr&gt;</th><th scope=col>&lt;int&gt;</th><th scope=col>&lt;dbl&gt;</th><th scope=col>&lt;dbl&gt;</th><th scope=col>&lt;chr&gt;</th><th scope=col>&lt;chr&gt;</th><th scope=col>&lt;dbl&gt;</th><th scope=col>&lt;int&gt;</th></tr>\n",
       "</thead>\n",
       "<tbody>\n",
       "\t<tr><th scope=row>1</th><td>1&amp;1 internet</td><td>1&amp;1 internet</td><td>Germany</td><td>2013-01-01T00:00:00Z</td><td>2019-12-31T00:00:00Z</td><td>Neha</td><td>EU</td><td>FirstTime</td><td>1</td><td>2020-01-31</td><td> 92327528</td><td>laboutiquedulieu.online </td><td>2019-01-31</td><td>Active</td><td>online</td><td>Non China</td><td>1</td><td>NA</td><td><span style=white-space:pre-wrap>Renewed   </span></td><td>0</td><td>auto-renewal</td><td><span style=white-space:pre-wrap>realized         </span></td><td>2020-01-31</td><td>1&amp;1 Internet</td><td>1&amp;1 Internet</td><td> 1</td><td> 1.0000</td><td>1</td><td>25</td><td>25</td><td> 1</td><td>online1&amp;1 internet</td><td>laboutiquedulieu </td><td><span style=white-space:pre-wrap>l       </span></td><td>16</td><td><span style=white-space:pre-wrap>16l       </span></td><td>33</td><td> 0.000000</td><td>4.60</td><td>22</td><td>laboutiquedulieu </td><td>0.0009182736</td><td>1</td></tr>\n",
       "\t<tr><th scope=row>2</th><td>1&amp;1 internet</td><td>1&amp;1 internet</td><td>Germany</td><td>2013-01-01T00:00:00Z</td><td>2019-12-31T00:00:00Z</td><td>Neha</td><td>EU</td><td>FirstTime</td><td>1</td><td>2020-05-04</td><td>102734819</td><td>flippingreselling.online</td><td>2019-05-04</td><td>Active</td><td>online</td><td>Non China</td><td>1</td><td>NA</td><td>Not Renewd</td><td>0</td><td>auto-renewal</td><td><span style=white-space:pre-wrap>unrealized       </span></td><td>2020-05-04</td><td>1&amp;1 Internet</td><td>1&amp;1 Internet</td><td> 0</td><td> 0.0001</td><td>1</td><td>25</td><td>25</td><td> 0</td><td>online1&amp;1 internet</td><td>flippingreselling</td><td><span style=white-space:pre-wrap>l       </span></td><td>17</td><td><span style=white-space:pre-wrap>17l       </span></td><td>32</td><td>-9.210340</td><td>8.48</td><td>25</td><td>flippingreselling</td><td>0.0009765625</td><td>1</td></tr>\n",
       "\t<tr><th scope=row>3</th><td>1&amp;1 internet</td><td>1&amp;1 internet</td><td>Germany</td><td>2013-01-01T00:00:00Z</td><td>2019-12-31T00:00:00Z</td><td>Neha</td><td>EU</td><td>FirstTime</td><td>1</td><td>2020-05-23</td><td>104455721</td><td><span style=white-space:pre-wrap>sudhaus7.tech           </span></td><td>2019-05-23</td><td>Active</td><td><span style=white-space:pre-wrap>tech  </span></td><td>Non China</td><td>1</td><td>NA</td><td>Not Renewd</td><td>0</td><td>auto-renewal</td><td>presumed-realized</td><td>2020-05-23</td><td>1&amp;1 Internet</td><td>1&amp;1 Internet</td><td>35</td><td>35.0000</td><td>1</td><td>35</td><td>35</td><td>35</td><td><span style=white-space:pre-wrap>tech1&amp;1 internet  </span></td><td><span style=white-space:pre-wrap>sudhaus7         </span></td><td><span style=white-space:pre-wrap>ln      </span></td><td> 8</td><td><span style=white-space:pre-wrap>8ln       </span></td><td> 2</td><td> 3.555348</td><td>2.38</td><td>2 </td><td><span style=white-space:pre-wrap>sudhaus7         </span></td><td>0.2500000000</td><td>1</td></tr>\n",
       "\t<tr><th scope=row>4</th><td>1&amp;1 internet</td><td>1&amp;1 internet</td><td>Germany</td><td>2013-01-01T00:00:00Z</td><td>2019-12-31T00:00:00Z</td><td>Neha</td><td>EU</td><td>FirstTime</td><td>1</td><td>2020-01-14</td><td> 90870408</td><td><span style=white-space:pre-wrap>make-life-wow.online    </span></td><td>2019-01-14</td><td>Active</td><td>online</td><td>Non China</td><td>1</td><td>NA</td><td><span style=white-space:pre-wrap>Renewed   </span></td><td>0</td><td>auto-renewal</td><td><span style=white-space:pre-wrap>realized         </span></td><td>2020-01-14</td><td>1&amp;1 Internet</td><td>1&amp;1 Internet</td><td> 5</td><td> 5.0000</td><td>1</td><td>25</td><td>25</td><td> 5</td><td>online1&amp;1 internet</td><td><span style=white-space:pre-wrap>make-life-wow    </span></td><td>hyphen-l</td><td>13</td><td>13hyphen-l</td><td>82</td><td> 1.609438</td><td>5.06</td><td>48</td><td><span style=white-space:pre-wrap>make-life-wow    </span></td><td>0.0001487210</td><td>1</td></tr>\n",
       "\t<tr><th scope=row>5</th><td>1&amp;1 internet</td><td>1&amp;1 internet</td><td>Germany</td><td>2013-01-01T00:00:00Z</td><td>2019-12-31T00:00:00Z</td><td>Neha</td><td>EU</td><td>FirstTime</td><td>1</td><td>2020-04-18</td><td>100790119</td><td><span style=white-space:pre-wrap>vaupel.online           </span></td><td>2019-04-18</td><td>Active</td><td>online</td><td>Non China</td><td>1</td><td>NA</td><td><span style=white-space:pre-wrap>Renewed   </span></td><td>0</td><td>auto-renewal</td><td><span style=white-space:pre-wrap>realized         </span></td><td>2020-04-18</td><td>1&amp;1 Internet</td><td>1&amp;1 Internet</td><td> 0</td><td> 0.0001</td><td>1</td><td> 9</td><td> 9</td><td> 0</td><td>online1&amp;1 internet</td><td><span style=white-space:pre-wrap>vaupel           </span></td><td><span style=white-space:pre-wrap>l       </span></td><td> 6</td><td><span style=white-space:pre-wrap>6l        </span></td><td>45</td><td>-9.210340</td><td>4.71</td><td>3 </td><td><span style=white-space:pre-wrap>vaupel           </span></td><td>0.0004938272</td><td>1</td></tr>\n",
       "\t<tr><th scope=row>6</th><td>1&amp;1 internet</td><td>1&amp;1 internet</td><td>Germany</td><td>2013-01-01T00:00:00Z</td><td>2019-12-31T00:00:00Z</td><td>Neha</td><td>EU</td><td>FirstTime</td><td>1</td><td>2020-05-17</td><td>103888696</td><td><span style=white-space:pre-wrap>kingkabs.online         </span></td><td>2019-05-17</td><td>Active</td><td>online</td><td>Non China</td><td>1</td><td>NA</td><td>Not Renewd</td><td>0</td><td>auto-renewal</td><td>presumed-realized</td><td>2020-05-17</td><td>1&amp;1 Internet</td><td>1&amp;1 Internet</td><td> 0</td><td> 0.0001</td><td>1</td><td>25</td><td>25</td><td> 0</td><td>online1&amp;1 internet</td><td><span style=white-space:pre-wrap>kingkabs         </span></td><td><span style=white-space:pre-wrap>l       </span></td><td> 8</td><td><span style=white-space:pre-wrap>8l        </span></td><td>68</td><td>-9.210340</td><td>2.77</td><td>54</td><td><span style=white-space:pre-wrap>kingkabs         </span></td><td>0.0002162630</td><td>1</td></tr>\n",
       "</tbody>\n",
       "</table>\n"
      ],
      "text/latex": [
       "A data.frame: 6 × 43\n",
       "\\begin{tabular}{r|lllllllllllllllllllllllllllllllllllllllllll}\n",
       "  & registrar & reseller & reseller\\_country & start\\_date & end\\_date & reseller\\_am & reseller\\_geo & renewal\\_type & renewed\\_count & expiry\\_date & domain\\_id & domain & creation\\_date & status & tld & region & reg\\_period & registrant\\_country & renewal\\_status & renew\\_mbg & renew\\_type & autorenew\\_type & renew\\_date & renew\\_registrar & renew\\_reseller & reg\\_revenue & reg\\_arpt & renew\\_period & renew\\_domain\\_revenue & renew\\_arpt & reg\\_arpt\\_org & tld\\_registrar\\_index & sld & sld\\_type & sld\\_length & sld\\_type2 & day\\_domains & log\\_reg\\_arpt & gibb\\_score & pattern & cluster & pattern\\_score & pattern\\_domain\\_count\\\\\n",
       "  & <chr> & <fct> & <fct> & <fct> & <fct> & <fct> & <fct> & <chr> & <int> & <date> & <int> & <chr> & <date> & <chr> & <fct> & <chr> & <int> & <chr> & <fct> & <int> & <chr> & <chr> & <date> & <chr> & <chr> & <dbl> & <dbl> & <int> & <dbl> & <dbl> & <dbl> & <chr> & <chr> & <fct> & <int> & <chr> & <int> & <dbl> & <dbl> & <chr> & <chr> & <dbl> & <int>\\\\\n",
       "\\hline\n",
       "\t1 & 1\\&1 internet & 1\\&1 internet & Germany & 2013-01-01T00:00:00Z & 2019-12-31T00:00:00Z & Neha & EU & FirstTime & 1 & 2020-01-31 &  92327528 & laboutiquedulieu.online  & 2019-01-31 & Active & online & Non China & 1 & NA & Renewed    & 0 & auto-renewal & realized          & 2020-01-31 & 1\\&1 Internet & 1\\&1 Internet &  1 &  1.0000 & 1 & 25 & 25 &  1 & online1\\&1 internet & laboutiquedulieu  & l        & 16 & 16l        & 33 &  0.000000 & 4.60 & 22 & laboutiquedulieu  & 0.0009182736 & 1\\\\\n",
       "\t2 & 1\\&1 internet & 1\\&1 internet & Germany & 2013-01-01T00:00:00Z & 2019-12-31T00:00:00Z & Neha & EU & FirstTime & 1 & 2020-05-04 & 102734819 & flippingreselling.online & 2019-05-04 & Active & online & Non China & 1 & NA & Not Renewd & 0 & auto-renewal & unrealized        & 2020-05-04 & 1\\&1 Internet & 1\\&1 Internet &  0 &  0.0001 & 1 & 25 & 25 &  0 & online1\\&1 internet & flippingreselling & l        & 17 & 17l        & 32 & -9.210340 & 8.48 & 25 & flippingreselling & 0.0009765625 & 1\\\\\n",
       "\t3 & 1\\&1 internet & 1\\&1 internet & Germany & 2013-01-01T00:00:00Z & 2019-12-31T00:00:00Z & Neha & EU & FirstTime & 1 & 2020-05-23 & 104455721 & sudhaus7.tech            & 2019-05-23 & Active & tech   & Non China & 1 & NA & Not Renewd & 0 & auto-renewal & presumed-realized & 2020-05-23 & 1\\&1 Internet & 1\\&1 Internet & 35 & 35.0000 & 1 & 35 & 35 & 35 & tech1\\&1 internet   & sudhaus7          & ln       &  8 & 8ln        &  2 &  3.555348 & 2.38 & 2  & sudhaus7          & 0.2500000000 & 1\\\\\n",
       "\t4 & 1\\&1 internet & 1\\&1 internet & Germany & 2013-01-01T00:00:00Z & 2019-12-31T00:00:00Z & Neha & EU & FirstTime & 1 & 2020-01-14 &  90870408 & make-life-wow.online     & 2019-01-14 & Active & online & Non China & 1 & NA & Renewed    & 0 & auto-renewal & realized          & 2020-01-14 & 1\\&1 Internet & 1\\&1 Internet &  5 &  5.0000 & 1 & 25 & 25 &  5 & online1\\&1 internet & make-life-wow     & hyphen-l & 13 & 13hyphen-l & 82 &  1.609438 & 5.06 & 48 & make-life-wow     & 0.0001487210 & 1\\\\\n",
       "\t5 & 1\\&1 internet & 1\\&1 internet & Germany & 2013-01-01T00:00:00Z & 2019-12-31T00:00:00Z & Neha & EU & FirstTime & 1 & 2020-04-18 & 100790119 & vaupel.online            & 2019-04-18 & Active & online & Non China & 1 & NA & Renewed    & 0 & auto-renewal & realized          & 2020-04-18 & 1\\&1 Internet & 1\\&1 Internet &  0 &  0.0001 & 1 &  9 &  9 &  0 & online1\\&1 internet & vaupel            & l        &  6 & 6l         & 45 & -9.210340 & 4.71 & 3  & vaupel            & 0.0004938272 & 1\\\\\n",
       "\t6 & 1\\&1 internet & 1\\&1 internet & Germany & 2013-01-01T00:00:00Z & 2019-12-31T00:00:00Z & Neha & EU & FirstTime & 1 & 2020-05-17 & 103888696 & kingkabs.online          & 2019-05-17 & Active & online & Non China & 1 & NA & Not Renewd & 0 & auto-renewal & presumed-realized & 2020-05-17 & 1\\&1 Internet & 1\\&1 Internet &  0 &  0.0001 & 1 & 25 & 25 &  0 & online1\\&1 internet & kingkabs          & l        &  8 & 8l         & 68 & -9.210340 & 2.77 & 54 & kingkabs          & 0.0002162630 & 1\\\\\n",
       "\\end{tabular}\n"
      ],
      "text/markdown": [
       "\n",
       "A data.frame: 6 × 43\n",
       "\n",
       "| <!--/--> | registrar &lt;chr&gt; | reseller &lt;fct&gt; | reseller_country &lt;fct&gt; | start_date &lt;fct&gt; | end_date &lt;fct&gt; | reseller_am &lt;fct&gt; | reseller_geo &lt;fct&gt; | renewal_type &lt;chr&gt; | renewed_count &lt;int&gt; | expiry_date &lt;date&gt; | domain_id &lt;int&gt; | domain &lt;chr&gt; | creation_date &lt;date&gt; | status &lt;chr&gt; | tld &lt;fct&gt; | region &lt;chr&gt; | reg_period &lt;int&gt; | registrant_country &lt;chr&gt; | renewal_status &lt;fct&gt; | renew_mbg &lt;int&gt; | renew_type &lt;chr&gt; | autorenew_type &lt;chr&gt; | renew_date &lt;date&gt; | renew_registrar &lt;chr&gt; | renew_reseller &lt;chr&gt; | reg_revenue &lt;dbl&gt; | reg_arpt &lt;dbl&gt; | renew_period &lt;int&gt; | renew_domain_revenue &lt;dbl&gt; | renew_arpt &lt;dbl&gt; | reg_arpt_org &lt;dbl&gt; | tld_registrar_index &lt;chr&gt; | sld &lt;chr&gt; | sld_type &lt;fct&gt; | sld_length &lt;int&gt; | sld_type2 &lt;chr&gt; | day_domains &lt;int&gt; | log_reg_arpt &lt;dbl&gt; | gibb_score &lt;dbl&gt; | pattern &lt;chr&gt; | cluster &lt;chr&gt; | pattern_score &lt;dbl&gt; | pattern_domain_count &lt;int&gt; |\n",
       "|---|---|---|---|---|---|---|---|---|---|---|---|---|---|---|---|---|---|---|---|---|---|---|---|---|---|---|---|---|---|---|---|---|---|---|---|---|---|---|---|---|---|---|---|\n",
       "| 1 | 1&amp;1 internet | 1&amp;1 internet | Germany | 2013-01-01T00:00:00Z | 2019-12-31T00:00:00Z | Neha | EU | FirstTime | 1 | 2020-01-31 |  92327528 | laboutiquedulieu.online  | 2019-01-31 | Active | online | Non China | 1 | NA | Renewed    | 0 | auto-renewal | realized          | 2020-01-31 | 1&amp;1 Internet | 1&amp;1 Internet |  1 |  1.0000 | 1 | 25 | 25 |  1 | online1&amp;1 internet | laboutiquedulieu  | l        | 16 | 16l        | 33 |  0.000000 | 4.60 | 22 | laboutiquedulieu  | 0.0009182736 | 1 |\n",
       "| 2 | 1&amp;1 internet | 1&amp;1 internet | Germany | 2013-01-01T00:00:00Z | 2019-12-31T00:00:00Z | Neha | EU | FirstTime | 1 | 2020-05-04 | 102734819 | flippingreselling.online | 2019-05-04 | Active | online | Non China | 1 | NA | Not Renewd | 0 | auto-renewal | unrealized        | 2020-05-04 | 1&amp;1 Internet | 1&amp;1 Internet |  0 |  0.0001 | 1 | 25 | 25 |  0 | online1&amp;1 internet | flippingreselling | l        | 17 | 17l        | 32 | -9.210340 | 8.48 | 25 | flippingreselling | 0.0009765625 | 1 |\n",
       "| 3 | 1&amp;1 internet | 1&amp;1 internet | Germany | 2013-01-01T00:00:00Z | 2019-12-31T00:00:00Z | Neha | EU | FirstTime | 1 | 2020-05-23 | 104455721 | sudhaus7.tech            | 2019-05-23 | Active | tech   | Non China | 1 | NA | Not Renewd | 0 | auto-renewal | presumed-realized | 2020-05-23 | 1&amp;1 Internet | 1&amp;1 Internet | 35 | 35.0000 | 1 | 35 | 35 | 35 | tech1&amp;1 internet   | sudhaus7          | ln       |  8 | 8ln        |  2 |  3.555348 | 2.38 | 2  | sudhaus7          | 0.2500000000 | 1 |\n",
       "| 4 | 1&amp;1 internet | 1&amp;1 internet | Germany | 2013-01-01T00:00:00Z | 2019-12-31T00:00:00Z | Neha | EU | FirstTime | 1 | 2020-01-14 |  90870408 | make-life-wow.online     | 2019-01-14 | Active | online | Non China | 1 | NA | Renewed    | 0 | auto-renewal | realized          | 2020-01-14 | 1&amp;1 Internet | 1&amp;1 Internet |  5 |  5.0000 | 1 | 25 | 25 |  5 | online1&amp;1 internet | make-life-wow     | hyphen-l | 13 | 13hyphen-l | 82 |  1.609438 | 5.06 | 48 | make-life-wow     | 0.0001487210 | 1 |\n",
       "| 5 | 1&amp;1 internet | 1&amp;1 internet | Germany | 2013-01-01T00:00:00Z | 2019-12-31T00:00:00Z | Neha | EU | FirstTime | 1 | 2020-04-18 | 100790119 | vaupel.online            | 2019-04-18 | Active | online | Non China | 1 | NA | Renewed    | 0 | auto-renewal | realized          | 2020-04-18 | 1&amp;1 Internet | 1&amp;1 Internet |  0 |  0.0001 | 1 |  9 |  9 |  0 | online1&amp;1 internet | vaupel            | l        |  6 | 6l         | 45 | -9.210340 | 4.71 | 3  | vaupel            | 0.0004938272 | 1 |\n",
       "| 6 | 1&amp;1 internet | 1&amp;1 internet | Germany | 2013-01-01T00:00:00Z | 2019-12-31T00:00:00Z | Neha | EU | FirstTime | 1 | 2020-05-17 | 103888696 | kingkabs.online          | 2019-05-17 | Active | online | Non China | 1 | NA | Not Renewd | 0 | auto-renewal | presumed-realized | 2020-05-17 | 1&amp;1 Internet | 1&amp;1 Internet |  0 |  0.0001 | 1 | 25 | 25 |  0 | online1&amp;1 internet | kingkabs          | l        |  8 | 8l         | 68 | -9.210340 | 2.77 | 54 | kingkabs          | 0.0002162630 | 1 |\n",
       "\n"
      ],
      "text/plain": [
       "  registrar    reseller     reseller_country start_date          \n",
       "1 1&1 internet 1&1 internet Germany          2013-01-01T00:00:00Z\n",
       "2 1&1 internet 1&1 internet Germany          2013-01-01T00:00:00Z\n",
       "3 1&1 internet 1&1 internet Germany          2013-01-01T00:00:00Z\n",
       "4 1&1 internet 1&1 internet Germany          2013-01-01T00:00:00Z\n",
       "5 1&1 internet 1&1 internet Germany          2013-01-01T00:00:00Z\n",
       "6 1&1 internet 1&1 internet Germany          2013-01-01T00:00:00Z\n",
       "  end_date             reseller_am reseller_geo renewal_type renewed_count\n",
       "1 2019-12-31T00:00:00Z Neha        EU           FirstTime    1            \n",
       "2 2019-12-31T00:00:00Z Neha        EU           FirstTime    1            \n",
       "3 2019-12-31T00:00:00Z Neha        EU           FirstTime    1            \n",
       "4 2019-12-31T00:00:00Z Neha        EU           FirstTime    1            \n",
       "5 2019-12-31T00:00:00Z Neha        EU           FirstTime    1            \n",
       "6 2019-12-31T00:00:00Z Neha        EU           FirstTime    1            \n",
       "  expiry_date domain_id domain                   creation_date status tld   \n",
       "1 2020-01-31   92327528 laboutiquedulieu.online  2019-01-31    Active online\n",
       "2 2020-05-04  102734819 flippingreselling.online 2019-05-04    Active online\n",
       "3 2020-05-23  104455721 sudhaus7.tech            2019-05-23    Active tech  \n",
       "4 2020-01-14   90870408 make-life-wow.online     2019-01-14    Active online\n",
       "5 2020-04-18  100790119 vaupel.online            2019-04-18    Active online\n",
       "6 2020-05-17  103888696 kingkabs.online          2019-05-17    Active online\n",
       "  region    reg_period registrant_country renewal_status renew_mbg renew_type  \n",
       "1 Non China 1          NA                 Renewed        0         auto-renewal\n",
       "2 Non China 1          NA                 Not Renewd     0         auto-renewal\n",
       "3 Non China 1          NA                 Not Renewd     0         auto-renewal\n",
       "4 Non China 1          NA                 Renewed        0         auto-renewal\n",
       "5 Non China 1          NA                 Renewed        0         auto-renewal\n",
       "6 Non China 1          NA                 Not Renewd     0         auto-renewal\n",
       "  autorenew_type    renew_date renew_registrar renew_reseller reg_revenue\n",
       "1 realized          2020-01-31 1&1 Internet    1&1 Internet    1         \n",
       "2 unrealized        2020-05-04 1&1 Internet    1&1 Internet    0         \n",
       "3 presumed-realized 2020-05-23 1&1 Internet    1&1 Internet   35         \n",
       "4 realized          2020-01-14 1&1 Internet    1&1 Internet    5         \n",
       "5 realized          2020-04-18 1&1 Internet    1&1 Internet    0         \n",
       "6 presumed-realized 2020-05-17 1&1 Internet    1&1 Internet    0         \n",
       "  reg_arpt renew_period renew_domain_revenue renew_arpt reg_arpt_org\n",
       "1  1.0000  1            25                   25          1          \n",
       "2  0.0001  1            25                   25          0          \n",
       "3 35.0000  1            35                   35         35          \n",
       "4  5.0000  1            25                   25          5          \n",
       "5  0.0001  1             9                    9          0          \n",
       "6  0.0001  1            25                   25          0          \n",
       "  tld_registrar_index sld               sld_type sld_length sld_type2 \n",
       "1 online1&1 internet  laboutiquedulieu  l        16         16l       \n",
       "2 online1&1 internet  flippingreselling l        17         17l       \n",
       "3 tech1&1 internet    sudhaus7          ln        8         8ln       \n",
       "4 online1&1 internet  make-life-wow     hyphen-l 13         13hyphen-l\n",
       "5 online1&1 internet  vaupel            l         6         6l        \n",
       "6 online1&1 internet  kingkabs          l         8         8l        \n",
       "  day_domains log_reg_arpt gibb_score pattern cluster           pattern_score\n",
       "1 33           0.000000    4.60       22      laboutiquedulieu  0.0009182736 \n",
       "2 32          -9.210340    8.48       25      flippingreselling 0.0009765625 \n",
       "3  2           3.555348    2.38       2       sudhaus7          0.2500000000 \n",
       "4 82           1.609438    5.06       48      make-life-wow     0.0001487210 \n",
       "5 45          -9.210340    4.71       3       vaupel            0.0004938272 \n",
       "6 68          -9.210340    2.77       54      kingkabs          0.0002162630 \n",
       "  pattern_domain_count\n",
       "1 1                   \n",
       "2 1                   \n",
       "3 1                   \n",
       "4 1                   \n",
       "5 1                   \n",
       "6 1                   "
      ]
     },
     "metadata": {},
     "output_type": "display_data"
    }
   ],
   "source": [
    "expiry_train_df_1$reseller <- factor(expiry_train_df_1$reseller)\n",
    "expiry_train_df_1$reseller_country <- factor(expiry_train_df_1$reseller_country)\n",
    "expiry_train_df_1 <- as.data.frame(expiry_train_df_1)\n",
    "\n",
    "# why result has more rows than input?\n",
    "dim(expiry_train_df_1)\n",
    "expiry_train_df_1 <- merge(expiry_train_df_1,\n",
    "                                 geoLookupDF,\n",
    "                                 on=c('reseller','reseller_country'), \n",
    "                                 all.x = TRUE)\n",
    "dim(expiry_train_df_1)\n",
    "head(expiry_train_df_1)\n"
   ]
  },
  {
   "cell_type": "markdown",
   "metadata": {},
   "source": [
    "# Add reseller_geo to expiry_test_predictions"
   ]
  },
  {
   "cell_type": "code",
   "execution_count": 55,
   "metadata": {},
   "outputs": [
    {
     "data": {
      "text/html": [
       "<style>\n",
       ".list-inline {list-style: none; margin:0; padding: 0}\n",
       ".list-inline>li {display: inline-block}\n",
       ".list-inline>li:not(:last-child)::after {content: \"\\00b7\"; padding: 0 .5ex}\n",
       "</style>\n",
       "<ol class=list-inline><li>296797</li><li>47</li></ol>\n"
      ],
      "text/latex": [
       "\\begin{enumerate*}\n",
       "\\item 296797\n",
       "\\item 47\n",
       "\\end{enumerate*}\n"
      ],
      "text/markdown": [
       "1. 296797\n",
       "2. 47\n",
       "\n",
       "\n"
      ],
      "text/plain": [
       "[1] 296797     47"
      ]
     },
     "metadata": {},
     "output_type": "display_data"
    },
    {
     "data": {
      "text/html": [
       "<style>\n",
       ".list-inline {list-style: none; margin:0; padding: 0}\n",
       ".list-inline>li {display: inline-block}\n",
       ".list-inline>li:not(:last-child)::after {content: \"\\00b7\"; padding: 0 .5ex}\n",
       "</style>\n",
       "<ol class=list-inline><li>297261</li><li>51</li></ol>\n"
      ],
      "text/latex": [
       "\\begin{enumerate*}\n",
       "\\item 297261\n",
       "\\item 51\n",
       "\\end{enumerate*}\n"
      ],
      "text/markdown": [
       "1. 297261\n",
       "2. 51\n",
       "\n",
       "\n"
      ],
      "text/plain": [
       "[1] 297261     51"
      ]
     },
     "metadata": {},
     "output_type": "display_data"
    },
    {
     "data": {
      "text/html": [
       "<table>\n",
       "<caption>A data.frame: 6 × 51</caption>\n",
       "<thead>\n",
       "\t<tr><th></th><th scope=col>reseller</th><th scope=col>registrar</th><th scope=col>reseller_country</th><th scope=col>domain_id</th><th scope=col>domain</th><th scope=col>tld_registrar_index</th><th scope=col>renewal_type</th><th scope=col>renewed_count</th><th scope=col>expiry_date</th><th scope=col>creation_date</th><th scope=col>status</th><th scope=col>tld</th><th scope=col>region</th><th scope=col>reg_period</th><th scope=col>registrant_country</th><th scope=col>renewal_status</th><th scope=col>renew_mbg</th><th scope=col>renew_type</th><th scope=col>autorenew_type</th><th scope=col>renew_date</th><th scope=col>renew_registrar</th><th scope=col>renew_reseller</th><th scope=col>reg_revenue</th><th scope=col>reg_arpt</th><th scope=col>renew_period</th><th scope=col>⋯</th><th scope=col>renew_arpt</th><th scope=col>reg_arpt_org</th><th scope=col>sld</th><th scope=col>sld_type</th><th scope=col>sld_length</th><th scope=col>sld_type2</th><th scope=col>day_domains</th><th scope=col>log_reg_arpt</th><th scope=col>gibb_score</th><th scope=col>pattern</th><th scope=col>cluster</th><th scope=col>pattern_score</th><th scope=col>pattern_domain_count</th><th scope=col>actual</th><th scope=col>pred_df_seg2_glm</th><th scope=col>pred_df_seg_glm</th><th scope=col>pred_df_agg_glm</th><th scope=col>pred_df_seg2_rf</th><th scope=col>pred_df_seg_rf</th><th scope=col>pred_df_agg_rf</th><th scope=col>n</th><th scope=col>start_date</th><th scope=col>end_date</th><th scope=col>reseller_am</th><th scope=col>reseller_geo</th></tr>\n",
       "\t<tr><th></th><th scope=col>&lt;fct&gt;</th><th scope=col>&lt;chr&gt;</th><th scope=col>&lt;fct&gt;</th><th scope=col>&lt;int&gt;</th><th scope=col>&lt;chr&gt;</th><th scope=col>&lt;chr&gt;</th><th scope=col>&lt;chr&gt;</th><th scope=col>&lt;int&gt;</th><th scope=col>&lt;date&gt;</th><th scope=col>&lt;date&gt;</th><th scope=col>&lt;chr&gt;</th><th scope=col>&lt;fct&gt;</th><th scope=col>&lt;chr&gt;</th><th scope=col>&lt;int&gt;</th><th scope=col>&lt;chr&gt;</th><th scope=col>&lt;fct&gt;</th><th scope=col>&lt;int&gt;</th><th scope=col>&lt;chr&gt;</th><th scope=col>&lt;chr&gt;</th><th scope=col>&lt;date&gt;</th><th scope=col>&lt;chr&gt;</th><th scope=col>&lt;chr&gt;</th><th scope=col>&lt;dbl&gt;</th><th scope=col>&lt;dbl&gt;</th><th scope=col>&lt;int&gt;</th><th scope=col>⋯</th><th scope=col>&lt;dbl&gt;</th><th scope=col>&lt;dbl&gt;</th><th scope=col>&lt;chr&gt;</th><th scope=col>&lt;fct&gt;</th><th scope=col>&lt;int&gt;</th><th scope=col>&lt;chr&gt;</th><th scope=col>&lt;int&gt;</th><th scope=col>&lt;dbl&gt;</th><th scope=col>&lt;dbl&gt;</th><th scope=col>&lt;chr&gt;</th><th scope=col>&lt;chr&gt;</th><th scope=col>&lt;dbl&gt;</th><th scope=col>&lt;int&gt;</th><th scope=col>&lt;fct&gt;</th><th scope=col>&lt;dbl&gt;</th><th scope=col>&lt;dbl&gt;</th><th scope=col>&lt;dbl&gt;</th><th scope=col>&lt;dbl&gt;</th><th scope=col>&lt;dbl&gt;</th><th scope=col>&lt;dbl&gt;</th><th scope=col>&lt;int&gt;</th><th scope=col>&lt;fct&gt;</th><th scope=col>&lt;fct&gt;</th><th scope=col>&lt;fct&gt;</th><th scope=col>&lt;fct&gt;</th></tr>\n",
       "</thead>\n",
       "<tbody>\n",
       "\t<tr><th scope=row>1</th><td>1&amp;1 internet</td><td>1&amp;1 internet</td><td>Germany</td><td>92459593</td><td><span style=white-space:pre-wrap>penrosetile.store    </span></td><td>store1&amp;1 internet </td><td>FirstTime</td><td>1</td><td>2020-02-01</td><td>2019-02-01</td><td>Active </td><td>store </td><td>Non China</td><td>1</td><td>NA</td><td><span style=white-space:pre-wrap>Renewed   </span></td><td>0</td><td>auto-renewal</td><td><span style=white-space:pre-wrap>realized  </span></td><td>2020-02-01</td><td>1&amp;1 Internet</td><td>1&amp;1 Internet</td><td>15</td><td>15.0000</td><td> 1</td><td>⋯</td><td>40</td><td>15</td><td><span style=white-space:pre-wrap>penrosetile   </span></td><td><span style=white-space:pre-wrap>l        </span></td><td>11</td><td><span style=white-space:pre-wrap>11l       </span></td><td> 4</td><td> 2.70805</td><td>4.92</td><td>2 </td><td><span style=white-space:pre-wrap>penrosetile   </span></td><td>0.062500000</td><td>1</td><td><span style=white-space:pre-wrap>Renewed   </span></td><td>0.5069604</td><td>0.534</td><td>0.558</td><td>0.4878033</td><td>0.4981100</td><td>0.4763754</td><td> 765</td><td>2013-01-01T00:00:00Z</td><td>2019-12-31T00:00:00Z</td><td>Neha</td><td>EU</td></tr>\n",
       "\t<tr><th scope=row>2</th><td>1&amp;1 internet</td><td>1&amp;1 internet</td><td>Germany</td><td>91070293</td><td>alcantarapalma.online</td><td>online1&amp;1 internet</td><td>FirstTime</td><td>1</td><td>2020-01-15</td><td>2019-01-15</td><td>Active </td><td>online</td><td>Non China</td><td>1</td><td>NA</td><td>Not Renewd</td><td>0</td><td>auto-renewal</td><td>unrealized</td><td>2020-01-15</td><td>1&amp;1 Internet</td><td>1&amp;1 Internet</td><td> 0</td><td> 0.0001</td><td> 1</td><td>⋯</td><td>25</td><td> 0</td><td>alcantarapalma</td><td><span style=white-space:pre-wrap>l        </span></td><td>14</td><td><span style=white-space:pre-wrap>14l       </span></td><td>25</td><td>-9.21034</td><td>5.56</td><td>19</td><td>alcantarapalma</td><td>0.001600000</td><td>1</td><td>Not Renewd</td><td>0.4234759</td><td>0.425</td><td>0.374</td><td>0.5154490</td><td>0.5268478</td><td>0.5192867</td><td>8041</td><td>2013-01-01T00:00:00Z</td><td>2019-12-31T00:00:00Z</td><td>Neha</td><td>EU</td></tr>\n",
       "\t<tr><th scope=row>3</th><td>1&amp;1 internet</td><td>1&amp;1 internet</td><td>Germany</td><td>92243793</td><td><span style=white-space:pre-wrap>layerfarms.online    </span></td><td>online1&amp;1 internet</td><td>FirstTime</td><td>1</td><td>2020-01-30</td><td>2019-01-30</td><td>Active </td><td>online</td><td>Non China</td><td>1</td><td>NA</td><td><span style=white-space:pre-wrap>Renewed   </span></td><td>0</td><td><span style=white-space:pre-wrap>renewal     </span></td><td><span style=white-space:pre-wrap>NA        </span></td><td>2019-05-19</td><td>1&amp;1 Internet</td><td>1&amp;1 Internet</td><td> 1</td><td> 1.0000</td><td> 1</td><td>⋯</td><td>25</td><td> 1</td><td><span style=white-space:pre-wrap>layerfarms    </span></td><td><span style=white-space:pre-wrap>l        </span></td><td>10</td><td><span style=white-space:pre-wrap>10l       </span></td><td> 8</td><td> 0.00000</td><td>4.21</td><td>2 </td><td><span style=white-space:pre-wrap>lryfarms      </span></td><td>0.031250000</td><td>2</td><td><span style=white-space:pre-wrap>Renewed   </span></td><td>0.4671778</td><td>0.485</td><td>0.475</td><td>0.3369761</td><td>0.3348900</td><td>0.3264582</td><td>8041</td><td>2013-01-01T00:00:00Z</td><td>2019-12-31T00:00:00Z</td><td>Neha</td><td>EU</td></tr>\n",
       "\t<tr><th scope=row>4</th><td>1&amp;1 internet</td><td>1&amp;1 internet</td><td>Germany</td><td>92382343</td><td><span style=white-space:pre-wrap>koiunyq.online       </span></td><td>online1&amp;1 internet</td><td>FirstTime</td><td>1</td><td>2020-01-31</td><td>2019-01-31</td><td>Deleted</td><td>online</td><td>Non China</td><td>1</td><td>NA</td><td>Not Renewd</td><td>0</td><td><span style=white-space:pre-wrap>NA          </span></td><td><span style=white-space:pre-wrap>NA        </span></td><td>NA</td><td>Not Assigned</td><td>Not Assigned</td><td> 1</td><td> 1.0000</td><td>NA</td><td>⋯</td><td>NA</td><td> 1</td><td><span style=white-space:pre-wrap>koiunyq       </span></td><td><span style=white-space:pre-wrap>l        </span></td><td> 7</td><td><span style=white-space:pre-wrap>7l        </span></td><td> 9</td><td> 0.00000</td><td>0.62</td><td>1 </td><td><span style=white-space:pre-wrap>koiunyq       </span></td><td>0.012345679</td><td>1</td><td>Not Renewd</td><td>0.5380713</td><td>0.547</td><td>0.508</td><td>0.3168814</td><td>0.3273583</td><td>0.4140139</td><td>8041</td><td>2013-01-01T00:00:00Z</td><td>2019-12-31T00:00:00Z</td><td>Neha</td><td>EU</td></tr>\n",
       "\t<tr><th scope=row>5</th><td>1&amp;1 internet</td><td>1&amp;1 internet</td><td>Germany</td><td>89480877</td><td><span style=white-space:pre-wrap>e-move24.online      </span></td><td>online1&amp;1 internet</td><td>FirstTime</td><td>1</td><td>2020-01-02</td><td>2019-01-02</td><td>Active </td><td>online</td><td>Non China</td><td>1</td><td>NA</td><td><span style=white-space:pre-wrap>Renewed   </span></td><td>0</td><td>auto-renewal</td><td><span style=white-space:pre-wrap>realized  </span></td><td>2020-01-02</td><td>1&amp;1 Internet</td><td>1&amp;1 Internet</td><td> 0</td><td> 0.0001</td><td> 1</td><td>⋯</td><td>25</td><td> 0</td><td><span style=white-space:pre-wrap>e-move24      </span></td><td>hyphen-ln</td><td> 8</td><td>8hyphen-ln</td><td>18</td><td>-9.21034</td><td>8.12</td><td>1 </td><td><span style=white-space:pre-wrap>e-move24      </span></td><td>0.003086420</td><td>1</td><td><span style=white-space:pre-wrap>Renewed   </span></td><td>0.4357224</td><td>0.450</td><td>0.292</td><td>0.5910136</td><td>0.5345685</td><td>0.5278744</td><td>8041</td><td>2013-01-01T00:00:00Z</td><td>2019-12-31T00:00:00Z</td><td>Neha</td><td>EU</td></tr>\n",
       "\t<tr><th scope=row>6</th><td>1&amp;1 internet</td><td>1&amp;1 internet</td><td>Germany</td><td>90751138</td><td>votenigeriang.online </td><td>online1&amp;1 internet</td><td>FirstTime</td><td>1</td><td>2020-01-12</td><td>2019-01-12</td><td>Active </td><td>online</td><td>Non China</td><td>1</td><td>NA</td><td><span style=white-space:pre-wrap>Renewed   </span></td><td>0</td><td>auto-renewal</td><td><span style=white-space:pre-wrap>realized  </span></td><td>2020-01-12</td><td>1&amp;1 Internet</td><td>1&amp;1 Internet</td><td> 0</td><td> 0.0001</td><td> 1</td><td>⋯</td><td>25</td><td> 0</td><td>votenigeriang </td><td><span style=white-space:pre-wrap>l        </span></td><td>13</td><td><span style=white-space:pre-wrap>13l       </span></td><td>22</td><td>-9.21034</td><td>7.36</td><td>4 </td><td>votenigeriang </td><td>0.002066116</td><td>1</td><td><span style=white-space:pre-wrap>Renewed   </span></td><td>0.4415465</td><td>0.444</td><td>0.385</td><td>0.4651246</td><td>0.4706303</td><td>0.4768728</td><td>8041</td><td>2013-01-01T00:00:00Z</td><td>2019-12-31T00:00:00Z</td><td>Neha</td><td>EU</td></tr>\n",
       "</tbody>\n",
       "</table>\n"
      ],
      "text/latex": [
       "A data.frame: 6 × 51\n",
       "\\begin{tabular}{r|lllllllllllllllllllllllllllllllllllllllllllllllllll}\n",
       "  & reseller & registrar & reseller\\_country & domain\\_id & domain & tld\\_registrar\\_index & renewal\\_type & renewed\\_count & expiry\\_date & creation\\_date & status & tld & region & reg\\_period & registrant\\_country & renewal\\_status & renew\\_mbg & renew\\_type & autorenew\\_type & renew\\_date & renew\\_registrar & renew\\_reseller & reg\\_revenue & reg\\_arpt & renew\\_period & ⋯ & renew\\_arpt & reg\\_arpt\\_org & sld & sld\\_type & sld\\_length & sld\\_type2 & day\\_domains & log\\_reg\\_arpt & gibb\\_score & pattern & cluster & pattern\\_score & pattern\\_domain\\_count & actual & pred\\_df\\_seg2\\_glm & pred\\_df\\_seg\\_glm & pred\\_df\\_agg\\_glm & pred\\_df\\_seg2\\_rf & pred\\_df\\_seg\\_rf & pred\\_df\\_agg\\_rf & n & start\\_date & end\\_date & reseller\\_am & reseller\\_geo\\\\\n",
       "  & <fct> & <chr> & <fct> & <int> & <chr> & <chr> & <chr> & <int> & <date> & <date> & <chr> & <fct> & <chr> & <int> & <chr> & <fct> & <int> & <chr> & <chr> & <date> & <chr> & <chr> & <dbl> & <dbl> & <int> & ⋯ & <dbl> & <dbl> & <chr> & <fct> & <int> & <chr> & <int> & <dbl> & <dbl> & <chr> & <chr> & <dbl> & <int> & <fct> & <dbl> & <dbl> & <dbl> & <dbl> & <dbl> & <dbl> & <int> & <fct> & <fct> & <fct> & <fct>\\\\\n",
       "\\hline\n",
       "\t1 & 1\\&1 internet & 1\\&1 internet & Germany & 92459593 & penrosetile.store     & store1\\&1 internet  & FirstTime & 1 & 2020-02-01 & 2019-02-01 & Active  & store  & Non China & 1 & NA & Renewed    & 0 & auto-renewal & realized   & 2020-02-01 & 1\\&1 Internet & 1\\&1 Internet & 15 & 15.0000 &  1 & ⋯ & 40 & 15 & penrosetile    & l         & 11 & 11l        &  4 &  2.70805 & 4.92 & 2  & penrosetile    & 0.062500000 & 1 & Renewed    & 0.5069604 & 0.534 & 0.558 & 0.4878033 & 0.4981100 & 0.4763754 &  765 & 2013-01-01T00:00:00Z & 2019-12-31T00:00:00Z & Neha & EU\\\\\n",
       "\t2 & 1\\&1 internet & 1\\&1 internet & Germany & 91070293 & alcantarapalma.online & online1\\&1 internet & FirstTime & 1 & 2020-01-15 & 2019-01-15 & Active  & online & Non China & 1 & NA & Not Renewd & 0 & auto-renewal & unrealized & 2020-01-15 & 1\\&1 Internet & 1\\&1 Internet &  0 &  0.0001 &  1 & ⋯ & 25 &  0 & alcantarapalma & l         & 14 & 14l        & 25 & -9.21034 & 5.56 & 19 & alcantarapalma & 0.001600000 & 1 & Not Renewd & 0.4234759 & 0.425 & 0.374 & 0.5154490 & 0.5268478 & 0.5192867 & 8041 & 2013-01-01T00:00:00Z & 2019-12-31T00:00:00Z & Neha & EU\\\\\n",
       "\t3 & 1\\&1 internet & 1\\&1 internet & Germany & 92243793 & layerfarms.online     & online1\\&1 internet & FirstTime & 1 & 2020-01-30 & 2019-01-30 & Active  & online & Non China & 1 & NA & Renewed    & 0 & renewal      & NA         & 2019-05-19 & 1\\&1 Internet & 1\\&1 Internet &  1 &  1.0000 &  1 & ⋯ & 25 &  1 & layerfarms     & l         & 10 & 10l        &  8 &  0.00000 & 4.21 & 2  & lryfarms       & 0.031250000 & 2 & Renewed    & 0.4671778 & 0.485 & 0.475 & 0.3369761 & 0.3348900 & 0.3264582 & 8041 & 2013-01-01T00:00:00Z & 2019-12-31T00:00:00Z & Neha & EU\\\\\n",
       "\t4 & 1\\&1 internet & 1\\&1 internet & Germany & 92382343 & koiunyq.online        & online1\\&1 internet & FirstTime & 1 & 2020-01-31 & 2019-01-31 & Deleted & online & Non China & 1 & NA & Not Renewd & 0 & NA           & NA         & NA & Not Assigned & Not Assigned &  1 &  1.0000 & NA & ⋯ & NA &  1 & koiunyq        & l         &  7 & 7l         &  9 &  0.00000 & 0.62 & 1  & koiunyq        & 0.012345679 & 1 & Not Renewd & 0.5380713 & 0.547 & 0.508 & 0.3168814 & 0.3273583 & 0.4140139 & 8041 & 2013-01-01T00:00:00Z & 2019-12-31T00:00:00Z & Neha & EU\\\\\n",
       "\t5 & 1\\&1 internet & 1\\&1 internet & Germany & 89480877 & e-move24.online       & online1\\&1 internet & FirstTime & 1 & 2020-01-02 & 2019-01-02 & Active  & online & Non China & 1 & NA & Renewed    & 0 & auto-renewal & realized   & 2020-01-02 & 1\\&1 Internet & 1\\&1 Internet &  0 &  0.0001 &  1 & ⋯ & 25 &  0 & e-move24       & hyphen-ln &  8 & 8hyphen-ln & 18 & -9.21034 & 8.12 & 1  & e-move24       & 0.003086420 & 1 & Renewed    & 0.4357224 & 0.450 & 0.292 & 0.5910136 & 0.5345685 & 0.5278744 & 8041 & 2013-01-01T00:00:00Z & 2019-12-31T00:00:00Z & Neha & EU\\\\\n",
       "\t6 & 1\\&1 internet & 1\\&1 internet & Germany & 90751138 & votenigeriang.online  & online1\\&1 internet & FirstTime & 1 & 2020-01-12 & 2019-01-12 & Active  & online & Non China & 1 & NA & Renewed    & 0 & auto-renewal & realized   & 2020-01-12 & 1\\&1 Internet & 1\\&1 Internet &  0 &  0.0001 &  1 & ⋯ & 25 &  0 & votenigeriang  & l         & 13 & 13l        & 22 & -9.21034 & 7.36 & 4  & votenigeriang  & 0.002066116 & 1 & Renewed    & 0.4415465 & 0.444 & 0.385 & 0.4651246 & 0.4706303 & 0.4768728 & 8041 & 2013-01-01T00:00:00Z & 2019-12-31T00:00:00Z & Neha & EU\\\\\n",
       "\\end{tabular}\n"
      ],
      "text/markdown": [
       "\n",
       "A data.frame: 6 × 51\n",
       "\n",
       "| <!--/--> | reseller &lt;fct&gt; | registrar &lt;chr&gt; | reseller_country &lt;fct&gt; | domain_id &lt;int&gt; | domain &lt;chr&gt; | tld_registrar_index &lt;chr&gt; | renewal_type &lt;chr&gt; | renewed_count &lt;int&gt; | expiry_date &lt;date&gt; | creation_date &lt;date&gt; | status &lt;chr&gt; | tld &lt;fct&gt; | region &lt;chr&gt; | reg_period &lt;int&gt; | registrant_country &lt;chr&gt; | renewal_status &lt;fct&gt; | renew_mbg &lt;int&gt; | renew_type &lt;chr&gt; | autorenew_type &lt;chr&gt; | renew_date &lt;date&gt; | renew_registrar &lt;chr&gt; | renew_reseller &lt;chr&gt; | reg_revenue &lt;dbl&gt; | reg_arpt &lt;dbl&gt; | renew_period &lt;int&gt; | ⋯ ⋯ | renew_arpt &lt;dbl&gt; | reg_arpt_org &lt;dbl&gt; | sld &lt;chr&gt; | sld_type &lt;fct&gt; | sld_length &lt;int&gt; | sld_type2 &lt;chr&gt; | day_domains &lt;int&gt; | log_reg_arpt &lt;dbl&gt; | gibb_score &lt;dbl&gt; | pattern &lt;chr&gt; | cluster &lt;chr&gt; | pattern_score &lt;dbl&gt; | pattern_domain_count &lt;int&gt; | actual &lt;fct&gt; | pred_df_seg2_glm &lt;dbl&gt; | pred_df_seg_glm &lt;dbl&gt; | pred_df_agg_glm &lt;dbl&gt; | pred_df_seg2_rf &lt;dbl&gt; | pred_df_seg_rf &lt;dbl&gt; | pred_df_agg_rf &lt;dbl&gt; | n &lt;int&gt; | start_date &lt;fct&gt; | end_date &lt;fct&gt; | reseller_am &lt;fct&gt; | reseller_geo &lt;fct&gt; |\n",
       "|---|---|---|---|---|---|---|---|---|---|---|---|---|---|---|---|---|---|---|---|---|---|---|---|---|---|---|---|---|---|---|---|---|---|---|---|---|---|---|---|---|---|---|---|---|---|---|---|---|---|---|---|\n",
       "| 1 | 1&amp;1 internet | 1&amp;1 internet | Germany | 92459593 | penrosetile.store     | store1&amp;1 internet  | FirstTime | 1 | 2020-02-01 | 2019-02-01 | Active  | store  | Non China | 1 | NA | Renewed    | 0 | auto-renewal | realized   | 2020-02-01 | 1&amp;1 Internet | 1&amp;1 Internet | 15 | 15.0000 |  1 | ⋯ | 40 | 15 | penrosetile    | l         | 11 | 11l        |  4 |  2.70805 | 4.92 | 2  | penrosetile    | 0.062500000 | 1 | Renewed    | 0.5069604 | 0.534 | 0.558 | 0.4878033 | 0.4981100 | 0.4763754 |  765 | 2013-01-01T00:00:00Z | 2019-12-31T00:00:00Z | Neha | EU |\n",
       "| 2 | 1&amp;1 internet | 1&amp;1 internet | Germany | 91070293 | alcantarapalma.online | online1&amp;1 internet | FirstTime | 1 | 2020-01-15 | 2019-01-15 | Active  | online | Non China | 1 | NA | Not Renewd | 0 | auto-renewal | unrealized | 2020-01-15 | 1&amp;1 Internet | 1&amp;1 Internet |  0 |  0.0001 |  1 | ⋯ | 25 |  0 | alcantarapalma | l         | 14 | 14l        | 25 | -9.21034 | 5.56 | 19 | alcantarapalma | 0.001600000 | 1 | Not Renewd | 0.4234759 | 0.425 | 0.374 | 0.5154490 | 0.5268478 | 0.5192867 | 8041 | 2013-01-01T00:00:00Z | 2019-12-31T00:00:00Z | Neha | EU |\n",
       "| 3 | 1&amp;1 internet | 1&amp;1 internet | Germany | 92243793 | layerfarms.online     | online1&amp;1 internet | FirstTime | 1 | 2020-01-30 | 2019-01-30 | Active  | online | Non China | 1 | NA | Renewed    | 0 | renewal      | NA         | 2019-05-19 | 1&amp;1 Internet | 1&amp;1 Internet |  1 |  1.0000 |  1 | ⋯ | 25 |  1 | layerfarms     | l         | 10 | 10l        |  8 |  0.00000 | 4.21 | 2  | lryfarms       | 0.031250000 | 2 | Renewed    | 0.4671778 | 0.485 | 0.475 | 0.3369761 | 0.3348900 | 0.3264582 | 8041 | 2013-01-01T00:00:00Z | 2019-12-31T00:00:00Z | Neha | EU |\n",
       "| 4 | 1&amp;1 internet | 1&amp;1 internet | Germany | 92382343 | koiunyq.online        | online1&amp;1 internet | FirstTime | 1 | 2020-01-31 | 2019-01-31 | Deleted | online | Non China | 1 | NA | Not Renewd | 0 | NA           | NA         | NA | Not Assigned | Not Assigned |  1 |  1.0000 | NA | ⋯ | NA |  1 | koiunyq        | l         |  7 | 7l         |  9 |  0.00000 | 0.62 | 1  | koiunyq        | 0.012345679 | 1 | Not Renewd | 0.5380713 | 0.547 | 0.508 | 0.3168814 | 0.3273583 | 0.4140139 | 8041 | 2013-01-01T00:00:00Z | 2019-12-31T00:00:00Z | Neha | EU |\n",
       "| 5 | 1&amp;1 internet | 1&amp;1 internet | Germany | 89480877 | e-move24.online       | online1&amp;1 internet | FirstTime | 1 | 2020-01-02 | 2019-01-02 | Active  | online | Non China | 1 | NA | Renewed    | 0 | auto-renewal | realized   | 2020-01-02 | 1&amp;1 Internet | 1&amp;1 Internet |  0 |  0.0001 |  1 | ⋯ | 25 |  0 | e-move24       | hyphen-ln |  8 | 8hyphen-ln | 18 | -9.21034 | 8.12 | 1  | e-move24       | 0.003086420 | 1 | Renewed    | 0.4357224 | 0.450 | 0.292 | 0.5910136 | 0.5345685 | 0.5278744 | 8041 | 2013-01-01T00:00:00Z | 2019-12-31T00:00:00Z | Neha | EU |\n",
       "| 6 | 1&amp;1 internet | 1&amp;1 internet | Germany | 90751138 | votenigeriang.online  | online1&amp;1 internet | FirstTime | 1 | 2020-01-12 | 2019-01-12 | Active  | online | Non China | 1 | NA | Renewed    | 0 | auto-renewal | realized   | 2020-01-12 | 1&amp;1 Internet | 1&amp;1 Internet |  0 |  0.0001 |  1 | ⋯ | 25 |  0 | votenigeriang  | l         | 13 | 13l        | 22 | -9.21034 | 7.36 | 4  | votenigeriang  | 0.002066116 | 1 | Renewed    | 0.4415465 | 0.444 | 0.385 | 0.4651246 | 0.4706303 | 0.4768728 | 8041 | 2013-01-01T00:00:00Z | 2019-12-31T00:00:00Z | Neha | EU |\n",
       "\n"
      ],
      "text/plain": [
       "  reseller     registrar    reseller_country domain_id domain               \n",
       "1 1&1 internet 1&1 internet Germany          92459593  penrosetile.store    \n",
       "2 1&1 internet 1&1 internet Germany          91070293  alcantarapalma.online\n",
       "3 1&1 internet 1&1 internet Germany          92243793  layerfarms.online    \n",
       "4 1&1 internet 1&1 internet Germany          92382343  koiunyq.online       \n",
       "5 1&1 internet 1&1 internet Germany          89480877  e-move24.online      \n",
       "6 1&1 internet 1&1 internet Germany          90751138  votenigeriang.online \n",
       "  tld_registrar_index renewal_type renewed_count expiry_date creation_date\n",
       "1 store1&1 internet   FirstTime    1             2020-02-01  2019-02-01   \n",
       "2 online1&1 internet  FirstTime    1             2020-01-15  2019-01-15   \n",
       "3 online1&1 internet  FirstTime    1             2020-01-30  2019-01-30   \n",
       "4 online1&1 internet  FirstTime    1             2020-01-31  2019-01-31   \n",
       "5 online1&1 internet  FirstTime    1             2020-01-02  2019-01-02   \n",
       "6 online1&1 internet  FirstTime    1             2020-01-12  2019-01-12   \n",
       "  status  tld    region    reg_period registrant_country renewal_status\n",
       "1 Active  store  Non China 1          NA                 Renewed       \n",
       "2 Active  online Non China 1          NA                 Not Renewd    \n",
       "3 Active  online Non China 1          NA                 Renewed       \n",
       "4 Deleted online Non China 1          NA                 Not Renewd    \n",
       "5 Active  online Non China 1          NA                 Renewed       \n",
       "6 Active  online Non China 1          NA                 Renewed       \n",
       "  renew_mbg renew_type   autorenew_type renew_date renew_registrar\n",
       "1 0         auto-renewal realized       2020-02-01 1&1 Internet   \n",
       "2 0         auto-renewal unrealized     2020-01-15 1&1 Internet   \n",
       "3 0         renewal      NA             2019-05-19 1&1 Internet   \n",
       "4 0         NA           NA             <NA>       Not Assigned   \n",
       "5 0         auto-renewal realized       2020-01-02 1&1 Internet   \n",
       "6 0         auto-renewal realized       2020-01-12 1&1 Internet   \n",
       "  renew_reseller reg_revenue reg_arpt renew_period ⋯ renew_arpt reg_arpt_org\n",
       "1 1&1 Internet   15          15.0000   1           ⋯ 40         15          \n",
       "2 1&1 Internet    0           0.0001   1           ⋯ 25          0          \n",
       "3 1&1 Internet    1           1.0000   1           ⋯ 25          1          \n",
       "4 Not Assigned    1           1.0000  NA           ⋯ NA          1          \n",
       "5 1&1 Internet    0           0.0001   1           ⋯ 25          0          \n",
       "6 1&1 Internet    0           0.0001   1           ⋯ 25          0          \n",
       "  sld            sld_type  sld_length sld_type2  day_domains log_reg_arpt\n",
       "1 penrosetile    l         11         11l         4           2.70805    \n",
       "2 alcantarapalma l         14         14l        25          -9.21034    \n",
       "3 layerfarms     l         10         10l         8           0.00000    \n",
       "4 koiunyq        l          7         7l          9           0.00000    \n",
       "5 e-move24       hyphen-ln  8         8hyphen-ln 18          -9.21034    \n",
       "6 votenigeriang  l         13         13l        22          -9.21034    \n",
       "  gibb_score pattern cluster        pattern_score pattern_domain_count\n",
       "1 4.92       2       penrosetile    0.062500000   1                   \n",
       "2 5.56       19      alcantarapalma 0.001600000   1                   \n",
       "3 4.21       2       lryfarms       0.031250000   2                   \n",
       "4 0.62       1       koiunyq        0.012345679   1                   \n",
       "5 8.12       1       e-move24       0.003086420   1                   \n",
       "6 7.36       4       votenigeriang  0.002066116   1                   \n",
       "  actual     pred_df_seg2_glm pred_df_seg_glm pred_df_agg_glm pred_df_seg2_rf\n",
       "1 Renewed    0.5069604        0.534           0.558           0.4878033      \n",
       "2 Not Renewd 0.4234759        0.425           0.374           0.5154490      \n",
       "3 Renewed    0.4671778        0.485           0.475           0.3369761      \n",
       "4 Not Renewd 0.5380713        0.547           0.508           0.3168814      \n",
       "5 Renewed    0.4357224        0.450           0.292           0.5910136      \n",
       "6 Renewed    0.4415465        0.444           0.385           0.4651246      \n",
       "  pred_df_seg_rf pred_df_agg_rf n    start_date           end_date            \n",
       "1 0.4981100      0.4763754       765 2013-01-01T00:00:00Z 2019-12-31T00:00:00Z\n",
       "2 0.5268478      0.5192867      8041 2013-01-01T00:00:00Z 2019-12-31T00:00:00Z\n",
       "3 0.3348900      0.3264582      8041 2013-01-01T00:00:00Z 2019-12-31T00:00:00Z\n",
       "4 0.3273583      0.4140139      8041 2013-01-01T00:00:00Z 2019-12-31T00:00:00Z\n",
       "5 0.5345685      0.5278744      8041 2013-01-01T00:00:00Z 2019-12-31T00:00:00Z\n",
       "6 0.4706303      0.4768728      8041 2013-01-01T00:00:00Z 2019-12-31T00:00:00Z\n",
       "  reseller_am reseller_geo\n",
       "1 Neha        EU          \n",
       "2 Neha        EU          \n",
       "3 Neha        EU          \n",
       "4 Neha        EU          \n",
       "5 Neha        EU          \n",
       "6 Neha        EU          "
      ]
     },
     "metadata": {},
     "output_type": "display_data"
    }
   ],
   "source": [
    "expiry_test_predictions$reseller <- factor(expiry_test_predictions$reseller)\n",
    "expiry_test_predictions$reseller_country <- factor(expiry_test_predictions$reseller_country)\n",
    "expiry_test_predictions <- as.data.frame(expiry_test_predictions)\n",
    "\n",
    "# why result has more rows than input?\n",
    "dim(expiry_test_predictions)\n",
    "expiry_test_predictions <- merge(expiry_test_predictions,\n",
    "                                 geoLookupDF,\n",
    "                                 on=c('reseller','reseller_country'), \n",
    "                                 all.x = TRUE)\n",
    "dim(expiry_test_predictions)\n",
    "head(expiry_test_predictions)\n"
   ]
  },
  {
   "cell_type": "markdown",
   "metadata": {},
   "source": [
    "# Generate fallback table predictions"
   ]
  },
  {
   "cell_type": "code",
   "execution_count": 56,
   "metadata": {},
   "outputs": [
    {
     "name": "stderr",
     "output_type": "stream",
     "text": [
      "`summarise()` regrouping output by 'tld', 'reseller_geo' (override with `.groups` argument)\n",
      "\n",
      "`summarise()` regrouping output by 'reseller_geo' (override with `.groups` argument)\n",
      "\n",
      "`summarise()` regrouping output by 'tld' (override with `.groups` argument)\n",
      "\n",
      "`summarise()` regrouping output by 'tld' (override with `.groups` argument)\n",
      "\n",
      "`summarise()` ungrouping output (override with `.groups` argument)\n",
      "\n",
      "`summarise()` regrouping output by 'tld' (override with `.groups` argument)\n",
      "\n",
      "`summarise()` ungrouping output (override with `.groups` argument)\n",
      "\n",
      "`summarise()` regrouping output by 'region' (override with `.groups` argument)\n",
      "\n",
      "`summarise()` ungrouping output (override with `.groups` argument)\n",
      "\n",
      "`summarise()` ungrouping output (override with `.groups` argument)\n",
      "\n"
     ]
    }
   ],
   "source": [
    "npv_fallback_list = fallback_gen( npv_historic_renewal_data = expiry_train_df_1, reseller_am_geo_map = geoLookupDF)"
   ]
  },
  {
   "cell_type": "code",
   "execution_count": 57,
   "metadata": {},
   "outputs": [
    {
     "data": {
      "text/html": [
       "<style>\n",
       ".list-inline {list-style: none; margin:0; padding: 0}\n",
       ".list-inline>li {display: inline-block}\n",
       ".list-inline>li:not(:last-child)::after {content: \"\\00b7\"; padding: 0 .5ex}\n",
       "</style>\n",
       "<ol class=list-inline><li>'npv_fallback_first_geo_arpt_tld'</li><li>'npv_fallback_first_geo_arpt'</li><li>'npv_fallback_first_tld_arpt'</li><li>'npv_fallback_second_tld_geo'</li><li>'npv_fallback_second_geo'</li><li>'npv_fallback_third_tld_geo'</li><li>'npv_fallback_third_geo'</li><li>'npv_fallback_first_final'</li><li>'npv_fallback_second_final'</li><li>'npv_fallback_third_final'</li></ol>\n"
      ],
      "text/latex": [
       "\\begin{enumerate*}\n",
       "\\item 'npv\\_fallback\\_first\\_geo\\_arpt\\_tld'\n",
       "\\item 'npv\\_fallback\\_first\\_geo\\_arpt'\n",
       "\\item 'npv\\_fallback\\_first\\_tld\\_arpt'\n",
       "\\item 'npv\\_fallback\\_second\\_tld\\_geo'\n",
       "\\item 'npv\\_fallback\\_second\\_geo'\n",
       "\\item 'npv\\_fallback\\_third\\_tld\\_geo'\n",
       "\\item 'npv\\_fallback\\_third\\_geo'\n",
       "\\item 'npv\\_fallback\\_first\\_final'\n",
       "\\item 'npv\\_fallback\\_second\\_final'\n",
       "\\item 'npv\\_fallback\\_third\\_final'\n",
       "\\end{enumerate*}\n"
      ],
      "text/markdown": [
       "1. 'npv_fallback_first_geo_arpt_tld'\n",
       "2. 'npv_fallback_first_geo_arpt'\n",
       "3. 'npv_fallback_first_tld_arpt'\n",
       "4. 'npv_fallback_second_tld_geo'\n",
       "5. 'npv_fallback_second_geo'\n",
       "6. 'npv_fallback_third_tld_geo'\n",
       "7. 'npv_fallback_third_geo'\n",
       "8. 'npv_fallback_first_final'\n",
       "9. 'npv_fallback_second_final'\n",
       "10. 'npv_fallback_third_final'\n",
       "\n",
       "\n"
      ],
      "text/plain": [
       " [1] \"npv_fallback_first_geo_arpt_tld\" \"npv_fallback_first_geo_arpt\"    \n",
       " [3] \"npv_fallback_first_tld_arpt\"     \"npv_fallback_second_tld_geo\"    \n",
       " [5] \"npv_fallback_second_geo\"         \"npv_fallback_third_tld_geo\"     \n",
       " [7] \"npv_fallback_third_geo\"          \"npv_fallback_first_final\"       \n",
       " [9] \"npv_fallback_second_final\"       \"npv_fallback_third_final\"       "
      ]
     },
     "metadata": {},
     "output_type": "display_data"
    }
   ],
   "source": [
    "# return list members to objects\n",
    "names(npv_fallback_list)\n",
    "for(i in 1:length(npv_fallback_list)) assign(names(npv_fallback_list)[i], npv_fallback_list[[i]])"
   ]
  },
  {
   "cell_type": "code",
   "execution_count": null,
   "metadata": {},
   "outputs": [
    {
     "data": {
      "text/html": [
       "<style>\n",
       ".list-inline {list-style: none; margin:0; padding: 0}\n",
       ".list-inline>li {display: inline-block}\n",
       ".list-inline>li:not(:last-child)::after {content: \"\\00b7\"; padding: 0 .5ex}\n",
       "</style>\n",
       "<ol class=list-inline><li>297261</li><li>51</li></ol>\n"
      ],
      "text/latex": [
       "\\begin{enumerate*}\n",
       "\\item 297261\n",
       "\\item 51\n",
       "\\end{enumerate*}\n"
      ],
      "text/markdown": [
       "1. 297261\n",
       "2. 51\n",
       "\n",
       "\n"
      ],
      "text/plain": [
       "[1] 297261     51"
      ]
     },
     "metadata": {},
     "output_type": "display_data"
    },
    {
     "data": {
      "text/html": [
       "<style>\n",
       ".list-inline {list-style: none; margin:0; padding: 0}\n",
       ".list-inline>li {display: inline-block}\n",
       ".list-inline>li:not(:last-child)::after {content: \"\\00b7\"; padding: 0 .5ex}\n",
       "</style>\n",
       "<ol class=list-inline><li>297261</li><li>53</li></ol>\n"
      ],
      "text/latex": [
       "\\begin{enumerate*}\n",
       "\\item 297261\n",
       "\\item 53\n",
       "\\end{enumerate*}\n"
      ],
      "text/markdown": [
       "1. 297261\n",
       "2. 53\n",
       "\n",
       "\n"
      ],
      "text/plain": [
       "[1] 297261     53"
      ]
     },
     "metadata": {},
     "output_type": "display_data"
    },
    {
     "data": {
      "text/html": [
       "<table>\n",
       "<caption>A data.frame: 6 × 53</caption>\n",
       "<thead>\n",
       "\t<tr><th></th><th scope=col>reseller</th><th scope=col>registrar</th><th scope=col>reseller_country</th><th scope=col>domain_id</th><th scope=col>domain</th><th scope=col>tld_registrar_index</th><th scope=col>renewal_type</th><th scope=col>renewed_count</th><th scope=col>expiry_date</th><th scope=col>creation_date</th><th scope=col>status</th><th scope=col>tld</th><th scope=col>region</th><th scope=col>reg_period</th><th scope=col>registrant_country</th><th scope=col>renewal_status</th><th scope=col>renew_mbg</th><th scope=col>renew_type</th><th scope=col>autorenew_type</th><th scope=col>renew_date</th><th scope=col>renew_registrar</th><th scope=col>renew_reseller</th><th scope=col>reg_revenue</th><th scope=col>reg_arpt</th><th scope=col>renew_period</th><th scope=col>⋯</th><th scope=col>sld</th><th scope=col>sld_type</th><th scope=col>sld_length</th><th scope=col>sld_type2</th><th scope=col>day_domains</th><th scope=col>log_reg_arpt</th><th scope=col>gibb_score</th><th scope=col>pattern</th><th scope=col>cluster</th><th scope=col>pattern_score</th><th scope=col>pattern_domain_count</th><th scope=col>actual</th><th scope=col>pred_df_seg2_glm</th><th scope=col>pred_df_seg_glm</th><th scope=col>pred_df_agg_glm</th><th scope=col>pred_df_seg2_rf</th><th scope=col>pred_df_seg_rf</th><th scope=col>pred_df_agg_rf</th><th scope=col>n</th><th scope=col>start_date</th><th scope=col>end_date</th><th scope=col>reseller_am</th><th scope=col>reseller_geo</th><th scope=col>reg_arpt_slab</th><th scope=col>pred_df_seg2_glm_fb</th></tr>\n",
       "\t<tr><th></th><th scope=col>&lt;fct&gt;</th><th scope=col>&lt;chr&gt;</th><th scope=col>&lt;fct&gt;</th><th scope=col>&lt;int&gt;</th><th scope=col>&lt;chr&gt;</th><th scope=col>&lt;chr&gt;</th><th scope=col>&lt;chr&gt;</th><th scope=col>&lt;int&gt;</th><th scope=col>&lt;date&gt;</th><th scope=col>&lt;date&gt;</th><th scope=col>&lt;chr&gt;</th><th scope=col>&lt;fct&gt;</th><th scope=col>&lt;chr&gt;</th><th scope=col>&lt;int&gt;</th><th scope=col>&lt;chr&gt;</th><th scope=col>&lt;fct&gt;</th><th scope=col>&lt;int&gt;</th><th scope=col>&lt;chr&gt;</th><th scope=col>&lt;chr&gt;</th><th scope=col>&lt;date&gt;</th><th scope=col>&lt;chr&gt;</th><th scope=col>&lt;chr&gt;</th><th scope=col>&lt;dbl&gt;</th><th scope=col>&lt;dbl&gt;</th><th scope=col>&lt;int&gt;</th><th scope=col>⋯</th><th scope=col>&lt;chr&gt;</th><th scope=col>&lt;fct&gt;</th><th scope=col>&lt;int&gt;</th><th scope=col>&lt;chr&gt;</th><th scope=col>&lt;int&gt;</th><th scope=col>&lt;dbl&gt;</th><th scope=col>&lt;dbl&gt;</th><th scope=col>&lt;chr&gt;</th><th scope=col>&lt;chr&gt;</th><th scope=col>&lt;dbl&gt;</th><th scope=col>&lt;int&gt;</th><th scope=col>&lt;fct&gt;</th><th scope=col>&lt;dbl&gt;</th><th scope=col>&lt;dbl&gt;</th><th scope=col>&lt;dbl&gt;</th><th scope=col>&lt;dbl&gt;</th><th scope=col>&lt;dbl&gt;</th><th scope=col>&lt;dbl&gt;</th><th scope=col>&lt;int&gt;</th><th scope=col>&lt;fct&gt;</th><th scope=col>&lt;fct&gt;</th><th scope=col>&lt;fct&gt;</th><th scope=col>&lt;fct&gt;</th><th scope=col>&lt;fct&gt;</th><th scope=col>&lt;dbl&gt;</th></tr>\n",
       "</thead>\n",
       "<tbody>\n",
       "\t<tr><th scope=row>1</th><td>1&amp;1 internet</td><td>1&amp;1 internet</td><td>Germany</td><td>92459593</td><td><span style=white-space:pre-wrap>penrosetile.store    </span></td><td>store1&amp;1 internet </td><td>FirstTime</td><td>1</td><td>2020-02-01</td><td>2019-02-01</td><td>Active </td><td>store </td><td>Non China</td><td>1</td><td>NA</td><td><span style=white-space:pre-wrap>Renewed   </span></td><td>0</td><td>auto-renewal</td><td><span style=white-space:pre-wrap>realized  </span></td><td>2020-02-01</td><td>1&amp;1 Internet</td><td>1&amp;1 Internet</td><td>15</td><td>15.0000</td><td> 1</td><td>⋯</td><td><span style=white-space:pre-wrap>penrosetile   </span></td><td><span style=white-space:pre-wrap>l        </span></td><td>11</td><td><span style=white-space:pre-wrap>11l       </span></td><td> 4</td><td> 2.70805</td><td>4.92</td><td>2 </td><td><span style=white-space:pre-wrap>penrosetile   </span></td><td>0.062500000</td><td>1</td><td><span style=white-space:pre-wrap>Renewed   </span></td><td>0.5069604</td><td>0.534</td><td>0.558</td><td>0.4878033</td><td>0.4981100</td><td>0.4763754</td><td> 765</td><td>2013-01-01T00:00:00Z</td><td>2019-12-31T00:00:00Z</td><td>Neha</td><td>EU</td><td>(10,15] </td><td>0.5069604</td></tr>\n",
       "\t<tr><th scope=row>2</th><td>1&amp;1 internet</td><td>1&amp;1 internet</td><td>Germany</td><td>91070293</td><td>alcantarapalma.online</td><td>online1&amp;1 internet</td><td>FirstTime</td><td>1</td><td>2020-01-15</td><td>2019-01-15</td><td>Active </td><td>online</td><td>Non China</td><td>1</td><td>NA</td><td>Not Renewd</td><td>0</td><td>auto-renewal</td><td>unrealized</td><td>2020-01-15</td><td>1&amp;1 Internet</td><td>1&amp;1 Internet</td><td> 0</td><td> 0.0001</td><td> 1</td><td>⋯</td><td>alcantarapalma</td><td><span style=white-space:pre-wrap>l        </span></td><td>14</td><td><span style=white-space:pre-wrap>14l       </span></td><td>25</td><td>-9.21034</td><td>5.56</td><td>19</td><td>alcantarapalma</td><td>0.001600000</td><td>1</td><td>Not Renewd</td><td>0.4234759</td><td>0.425</td><td>0.374</td><td>0.5154490</td><td>0.5268478</td><td>0.5192867</td><td>8041</td><td>2013-01-01T00:00:00Z</td><td>2019-12-31T00:00:00Z</td><td>Neha</td><td>EU</td><td>(-Inf,0]</td><td>0.4234759</td></tr>\n",
       "\t<tr><th scope=row>3</th><td>1&amp;1 internet</td><td>1&amp;1 internet</td><td>Germany</td><td>92243793</td><td><span style=white-space:pre-wrap>layerfarms.online    </span></td><td>online1&amp;1 internet</td><td>FirstTime</td><td>1</td><td>2020-01-30</td><td>2019-01-30</td><td>Active </td><td>online</td><td>Non China</td><td>1</td><td>NA</td><td><span style=white-space:pre-wrap>Renewed   </span></td><td>0</td><td><span style=white-space:pre-wrap>renewal     </span></td><td><span style=white-space:pre-wrap>NA        </span></td><td>2019-05-19</td><td>1&amp;1 Internet</td><td>1&amp;1 Internet</td><td> 1</td><td> 1.0000</td><td> 1</td><td>⋯</td><td><span style=white-space:pre-wrap>layerfarms    </span></td><td><span style=white-space:pre-wrap>l        </span></td><td>10</td><td><span style=white-space:pre-wrap>10l       </span></td><td> 8</td><td> 0.00000</td><td>4.21</td><td>2 </td><td><span style=white-space:pre-wrap>lryfarms      </span></td><td>0.031250000</td><td>2</td><td><span style=white-space:pre-wrap>Renewed   </span></td><td>0.4671778</td><td>0.485</td><td>0.475</td><td>0.3369761</td><td>0.3348900</td><td>0.3264582</td><td>8041</td><td>2013-01-01T00:00:00Z</td><td>2019-12-31T00:00:00Z</td><td>Neha</td><td>EU</td><td>(0.3,1] </td><td>0.4671778</td></tr>\n",
       "\t<tr><th scope=row>4</th><td>1&amp;1 internet</td><td>1&amp;1 internet</td><td>Germany</td><td>92382343</td><td><span style=white-space:pre-wrap>koiunyq.online       </span></td><td>online1&amp;1 internet</td><td>FirstTime</td><td>1</td><td>2020-01-31</td><td>2019-01-31</td><td>Deleted</td><td>online</td><td>Non China</td><td>1</td><td>NA</td><td>Not Renewd</td><td>0</td><td><span style=white-space:pre-wrap>NA          </span></td><td><span style=white-space:pre-wrap>NA        </span></td><td>NA</td><td>Not Assigned</td><td>Not Assigned</td><td> 1</td><td> 1.0000</td><td>NA</td><td>⋯</td><td><span style=white-space:pre-wrap>koiunyq       </span></td><td><span style=white-space:pre-wrap>l        </span></td><td> 7</td><td><span style=white-space:pre-wrap>7l        </span></td><td> 9</td><td> 0.00000</td><td>0.62</td><td>1 </td><td><span style=white-space:pre-wrap>koiunyq       </span></td><td>0.012345679</td><td>1</td><td>Not Renewd</td><td>0.5380713</td><td>0.547</td><td>0.508</td><td>0.3168814</td><td>0.3273583</td><td>0.4140139</td><td>8041</td><td>2013-01-01T00:00:00Z</td><td>2019-12-31T00:00:00Z</td><td>Neha</td><td>EU</td><td>(0.3,1] </td><td>0.5380713</td></tr>\n",
       "\t<tr><th scope=row>5</th><td>1&amp;1 internet</td><td>1&amp;1 internet</td><td>Germany</td><td>89480877</td><td><span style=white-space:pre-wrap>e-move24.online      </span></td><td>online1&amp;1 internet</td><td>FirstTime</td><td>1</td><td>2020-01-02</td><td>2019-01-02</td><td>Active </td><td>online</td><td>Non China</td><td>1</td><td>NA</td><td><span style=white-space:pre-wrap>Renewed   </span></td><td>0</td><td>auto-renewal</td><td><span style=white-space:pre-wrap>realized  </span></td><td>2020-01-02</td><td>1&amp;1 Internet</td><td>1&amp;1 Internet</td><td> 0</td><td> 0.0001</td><td> 1</td><td>⋯</td><td><span style=white-space:pre-wrap>e-move24      </span></td><td>hyphen-ln</td><td> 8</td><td>8hyphen-ln</td><td>18</td><td>-9.21034</td><td>8.12</td><td>1 </td><td><span style=white-space:pre-wrap>e-move24      </span></td><td>0.003086420</td><td>1</td><td><span style=white-space:pre-wrap>Renewed   </span></td><td>0.4357224</td><td>0.450</td><td>0.292</td><td>0.5910136</td><td>0.5345685</td><td>0.5278744</td><td>8041</td><td>2013-01-01T00:00:00Z</td><td>2019-12-31T00:00:00Z</td><td>Neha</td><td>EU</td><td>(-Inf,0]</td><td>0.4357224</td></tr>\n",
       "\t<tr><th scope=row>6</th><td>1&amp;1 internet</td><td>1&amp;1 internet</td><td>Germany</td><td>90751138</td><td>votenigeriang.online </td><td>online1&amp;1 internet</td><td>FirstTime</td><td>1</td><td>2020-01-12</td><td>2019-01-12</td><td>Active </td><td>online</td><td>Non China</td><td>1</td><td>NA</td><td><span style=white-space:pre-wrap>Renewed   </span></td><td>0</td><td>auto-renewal</td><td><span style=white-space:pre-wrap>realized  </span></td><td>2020-01-12</td><td>1&amp;1 Internet</td><td>1&amp;1 Internet</td><td> 0</td><td> 0.0001</td><td> 1</td><td>⋯</td><td>votenigeriang </td><td><span style=white-space:pre-wrap>l        </span></td><td>13</td><td><span style=white-space:pre-wrap>13l       </span></td><td>22</td><td>-9.21034</td><td>7.36</td><td>4 </td><td>votenigeriang </td><td>0.002066116</td><td>1</td><td><span style=white-space:pre-wrap>Renewed   </span></td><td>0.4415465</td><td>0.444</td><td>0.385</td><td>0.4651246</td><td>0.4706303</td><td>0.4768728</td><td>8041</td><td>2013-01-01T00:00:00Z</td><td>2019-12-31T00:00:00Z</td><td>Neha</td><td>EU</td><td>(-Inf,0]</td><td>0.4415465</td></tr>\n",
       "</tbody>\n",
       "</table>\n"
      ],
      "text/latex": [
       "A data.frame: 6 × 53\n",
       "\\begin{tabular}{r|lllllllllllllllllllllllllllllllllllllllllllllllllll}\n",
       "  & reseller & registrar & reseller\\_country & domain\\_id & domain & tld\\_registrar\\_index & renewal\\_type & renewed\\_count & expiry\\_date & creation\\_date & status & tld & region & reg\\_period & registrant\\_country & renewal\\_status & renew\\_mbg & renew\\_type & autorenew\\_type & renew\\_date & renew\\_registrar & renew\\_reseller & reg\\_revenue & reg\\_arpt & renew\\_period & ⋯ & sld & sld\\_type & sld\\_length & sld\\_type2 & day\\_domains & log\\_reg\\_arpt & gibb\\_score & pattern & cluster & pattern\\_score & pattern\\_domain\\_count & actual & pred\\_df\\_seg2\\_glm & pred\\_df\\_seg\\_glm & pred\\_df\\_agg\\_glm & pred\\_df\\_seg2\\_rf & pred\\_df\\_seg\\_rf & pred\\_df\\_agg\\_rf & n & start\\_date & end\\_date & reseller\\_am & reseller\\_geo & reg\\_arpt\\_slab & pred\\_df\\_seg2\\_glm\\_fb\\\\\n",
       "  & <fct> & <chr> & <fct> & <int> & <chr> & <chr> & <chr> & <int> & <date> & <date> & <chr> & <fct> & <chr> & <int> & <chr> & <fct> & <int> & <chr> & <chr> & <date> & <chr> & <chr> & <dbl> & <dbl> & <int> & ⋯ & <chr> & <fct> & <int> & <chr> & <int> & <dbl> & <dbl> & <chr> & <chr> & <dbl> & <int> & <fct> & <dbl> & <dbl> & <dbl> & <dbl> & <dbl> & <dbl> & <int> & <fct> & <fct> & <fct> & <fct> & <fct> & <dbl>\\\\\n",
       "\\hline\n",
       "\t1 & 1\\&1 internet & 1\\&1 internet & Germany & 92459593 & penrosetile.store     & store1\\&1 internet  & FirstTime & 1 & 2020-02-01 & 2019-02-01 & Active  & store  & Non China & 1 & NA & Renewed    & 0 & auto-renewal & realized   & 2020-02-01 & 1\\&1 Internet & 1\\&1 Internet & 15 & 15.0000 &  1 & ⋯ & penrosetile    & l         & 11 & 11l        &  4 &  2.70805 & 4.92 & 2  & penrosetile    & 0.062500000 & 1 & Renewed    & 0.5069604 & 0.534 & 0.558 & 0.4878033 & 0.4981100 & 0.4763754 &  765 & 2013-01-01T00:00:00Z & 2019-12-31T00:00:00Z & Neha & EU & (10,15{]}  & 0.5069604\\\\\n",
       "\t2 & 1\\&1 internet & 1\\&1 internet & Germany & 91070293 & alcantarapalma.online & online1\\&1 internet & FirstTime & 1 & 2020-01-15 & 2019-01-15 & Active  & online & Non China & 1 & NA & Not Renewd & 0 & auto-renewal & unrealized & 2020-01-15 & 1\\&1 Internet & 1\\&1 Internet &  0 &  0.0001 &  1 & ⋯ & alcantarapalma & l         & 14 & 14l        & 25 & -9.21034 & 5.56 & 19 & alcantarapalma & 0.001600000 & 1 & Not Renewd & 0.4234759 & 0.425 & 0.374 & 0.5154490 & 0.5268478 & 0.5192867 & 8041 & 2013-01-01T00:00:00Z & 2019-12-31T00:00:00Z & Neha & EU & (-Inf,0{]} & 0.4234759\\\\\n",
       "\t3 & 1\\&1 internet & 1\\&1 internet & Germany & 92243793 & layerfarms.online     & online1\\&1 internet & FirstTime & 1 & 2020-01-30 & 2019-01-30 & Active  & online & Non China & 1 & NA & Renewed    & 0 & renewal      & NA         & 2019-05-19 & 1\\&1 Internet & 1\\&1 Internet &  1 &  1.0000 &  1 & ⋯ & layerfarms     & l         & 10 & 10l        &  8 &  0.00000 & 4.21 & 2  & lryfarms       & 0.031250000 & 2 & Renewed    & 0.4671778 & 0.485 & 0.475 & 0.3369761 & 0.3348900 & 0.3264582 & 8041 & 2013-01-01T00:00:00Z & 2019-12-31T00:00:00Z & Neha & EU & (0.3,1{]}  & 0.4671778\\\\\n",
       "\t4 & 1\\&1 internet & 1\\&1 internet & Germany & 92382343 & koiunyq.online        & online1\\&1 internet & FirstTime & 1 & 2020-01-31 & 2019-01-31 & Deleted & online & Non China & 1 & NA & Not Renewd & 0 & NA           & NA         & NA & Not Assigned & Not Assigned &  1 &  1.0000 & NA & ⋯ & koiunyq        & l         &  7 & 7l         &  9 &  0.00000 & 0.62 & 1  & koiunyq        & 0.012345679 & 1 & Not Renewd & 0.5380713 & 0.547 & 0.508 & 0.3168814 & 0.3273583 & 0.4140139 & 8041 & 2013-01-01T00:00:00Z & 2019-12-31T00:00:00Z & Neha & EU & (0.3,1{]}  & 0.5380713\\\\\n",
       "\t5 & 1\\&1 internet & 1\\&1 internet & Germany & 89480877 & e-move24.online       & online1\\&1 internet & FirstTime & 1 & 2020-01-02 & 2019-01-02 & Active  & online & Non China & 1 & NA & Renewed    & 0 & auto-renewal & realized   & 2020-01-02 & 1\\&1 Internet & 1\\&1 Internet &  0 &  0.0001 &  1 & ⋯ & e-move24       & hyphen-ln &  8 & 8hyphen-ln & 18 & -9.21034 & 8.12 & 1  & e-move24       & 0.003086420 & 1 & Renewed    & 0.4357224 & 0.450 & 0.292 & 0.5910136 & 0.5345685 & 0.5278744 & 8041 & 2013-01-01T00:00:00Z & 2019-12-31T00:00:00Z & Neha & EU & (-Inf,0{]} & 0.4357224\\\\\n",
       "\t6 & 1\\&1 internet & 1\\&1 internet & Germany & 90751138 & votenigeriang.online  & online1\\&1 internet & FirstTime & 1 & 2020-01-12 & 2019-01-12 & Active  & online & Non China & 1 & NA & Renewed    & 0 & auto-renewal & realized   & 2020-01-12 & 1\\&1 Internet & 1\\&1 Internet &  0 &  0.0001 &  1 & ⋯ & votenigeriang  & l         & 13 & 13l        & 22 & -9.21034 & 7.36 & 4  & votenigeriang  & 0.002066116 & 1 & Renewed    & 0.4415465 & 0.444 & 0.385 & 0.4651246 & 0.4706303 & 0.4768728 & 8041 & 2013-01-01T00:00:00Z & 2019-12-31T00:00:00Z & Neha & EU & (-Inf,0{]} & 0.4415465\\\\\n",
       "\\end{tabular}\n"
      ],
      "text/markdown": [
       "\n",
       "A data.frame: 6 × 53\n",
       "\n",
       "| <!--/--> | reseller &lt;fct&gt; | registrar &lt;chr&gt; | reseller_country &lt;fct&gt; | domain_id &lt;int&gt; | domain &lt;chr&gt; | tld_registrar_index &lt;chr&gt; | renewal_type &lt;chr&gt; | renewed_count &lt;int&gt; | expiry_date &lt;date&gt; | creation_date &lt;date&gt; | status &lt;chr&gt; | tld &lt;fct&gt; | region &lt;chr&gt; | reg_period &lt;int&gt; | registrant_country &lt;chr&gt; | renewal_status &lt;fct&gt; | renew_mbg &lt;int&gt; | renew_type &lt;chr&gt; | autorenew_type &lt;chr&gt; | renew_date &lt;date&gt; | renew_registrar &lt;chr&gt; | renew_reseller &lt;chr&gt; | reg_revenue &lt;dbl&gt; | reg_arpt &lt;dbl&gt; | renew_period &lt;int&gt; | ⋯ ⋯ | sld &lt;chr&gt; | sld_type &lt;fct&gt; | sld_length &lt;int&gt; | sld_type2 &lt;chr&gt; | day_domains &lt;int&gt; | log_reg_arpt &lt;dbl&gt; | gibb_score &lt;dbl&gt; | pattern &lt;chr&gt; | cluster &lt;chr&gt; | pattern_score &lt;dbl&gt; | pattern_domain_count &lt;int&gt; | actual &lt;fct&gt; | pred_df_seg2_glm &lt;dbl&gt; | pred_df_seg_glm &lt;dbl&gt; | pred_df_agg_glm &lt;dbl&gt; | pred_df_seg2_rf &lt;dbl&gt; | pred_df_seg_rf &lt;dbl&gt; | pred_df_agg_rf &lt;dbl&gt; | n &lt;int&gt; | start_date &lt;fct&gt; | end_date &lt;fct&gt; | reseller_am &lt;fct&gt; | reseller_geo &lt;fct&gt; | reg_arpt_slab &lt;fct&gt; | pred_df_seg2_glm_fb &lt;dbl&gt; |\n",
       "|---|---|---|---|---|---|---|---|---|---|---|---|---|---|---|---|---|---|---|---|---|---|---|---|---|---|---|---|---|---|---|---|---|---|---|---|---|---|---|---|---|---|---|---|---|---|---|---|---|---|---|---|\n",
       "| 1 | 1&amp;1 internet | 1&amp;1 internet | Germany | 92459593 | penrosetile.store     | store1&amp;1 internet  | FirstTime | 1 | 2020-02-01 | 2019-02-01 | Active  | store  | Non China | 1 | NA | Renewed    | 0 | auto-renewal | realized   | 2020-02-01 | 1&amp;1 Internet | 1&amp;1 Internet | 15 | 15.0000 |  1 | ⋯ | penrosetile    | l         | 11 | 11l        |  4 |  2.70805 | 4.92 | 2  | penrosetile    | 0.062500000 | 1 | Renewed    | 0.5069604 | 0.534 | 0.558 | 0.4878033 | 0.4981100 | 0.4763754 |  765 | 2013-01-01T00:00:00Z | 2019-12-31T00:00:00Z | Neha | EU | (10,15]  | 0.5069604 |\n",
       "| 2 | 1&amp;1 internet | 1&amp;1 internet | Germany | 91070293 | alcantarapalma.online | online1&amp;1 internet | FirstTime | 1 | 2020-01-15 | 2019-01-15 | Active  | online | Non China | 1 | NA | Not Renewd | 0 | auto-renewal | unrealized | 2020-01-15 | 1&amp;1 Internet | 1&amp;1 Internet |  0 |  0.0001 |  1 | ⋯ | alcantarapalma | l         | 14 | 14l        | 25 | -9.21034 | 5.56 | 19 | alcantarapalma | 0.001600000 | 1 | Not Renewd | 0.4234759 | 0.425 | 0.374 | 0.5154490 | 0.5268478 | 0.5192867 | 8041 | 2013-01-01T00:00:00Z | 2019-12-31T00:00:00Z | Neha | EU | (-Inf,0] | 0.4234759 |\n",
       "| 3 | 1&amp;1 internet | 1&amp;1 internet | Germany | 92243793 | layerfarms.online     | online1&amp;1 internet | FirstTime | 1 | 2020-01-30 | 2019-01-30 | Active  | online | Non China | 1 | NA | Renewed    | 0 | renewal      | NA         | 2019-05-19 | 1&amp;1 Internet | 1&amp;1 Internet |  1 |  1.0000 |  1 | ⋯ | layerfarms     | l         | 10 | 10l        |  8 |  0.00000 | 4.21 | 2  | lryfarms       | 0.031250000 | 2 | Renewed    | 0.4671778 | 0.485 | 0.475 | 0.3369761 | 0.3348900 | 0.3264582 | 8041 | 2013-01-01T00:00:00Z | 2019-12-31T00:00:00Z | Neha | EU | (0.3,1]  | 0.4671778 |\n",
       "| 4 | 1&amp;1 internet | 1&amp;1 internet | Germany | 92382343 | koiunyq.online        | online1&amp;1 internet | FirstTime | 1 | 2020-01-31 | 2019-01-31 | Deleted | online | Non China | 1 | NA | Not Renewd | 0 | NA           | NA         | NA | Not Assigned | Not Assigned |  1 |  1.0000 | NA | ⋯ | koiunyq        | l         |  7 | 7l         |  9 |  0.00000 | 0.62 | 1  | koiunyq        | 0.012345679 | 1 | Not Renewd | 0.5380713 | 0.547 | 0.508 | 0.3168814 | 0.3273583 | 0.4140139 | 8041 | 2013-01-01T00:00:00Z | 2019-12-31T00:00:00Z | Neha | EU | (0.3,1]  | 0.5380713 |\n",
       "| 5 | 1&amp;1 internet | 1&amp;1 internet | Germany | 89480877 | e-move24.online       | online1&amp;1 internet | FirstTime | 1 | 2020-01-02 | 2019-01-02 | Active  | online | Non China | 1 | NA | Renewed    | 0 | auto-renewal | realized   | 2020-01-02 | 1&amp;1 Internet | 1&amp;1 Internet |  0 |  0.0001 |  1 | ⋯ | e-move24       | hyphen-ln |  8 | 8hyphen-ln | 18 | -9.21034 | 8.12 | 1  | e-move24       | 0.003086420 | 1 | Renewed    | 0.4357224 | 0.450 | 0.292 | 0.5910136 | 0.5345685 | 0.5278744 | 8041 | 2013-01-01T00:00:00Z | 2019-12-31T00:00:00Z | Neha | EU | (-Inf,0] | 0.4357224 |\n",
       "| 6 | 1&amp;1 internet | 1&amp;1 internet | Germany | 90751138 | votenigeriang.online  | online1&amp;1 internet | FirstTime | 1 | 2020-01-12 | 2019-01-12 | Active  | online | Non China | 1 | NA | Renewed    | 0 | auto-renewal | realized   | 2020-01-12 | 1&amp;1 Internet | 1&amp;1 Internet |  0 |  0.0001 |  1 | ⋯ | votenigeriang  | l         | 13 | 13l        | 22 | -9.21034 | 7.36 | 4  | votenigeriang  | 0.002066116 | 1 | Renewed    | 0.4415465 | 0.444 | 0.385 | 0.4651246 | 0.4706303 | 0.4768728 | 8041 | 2013-01-01T00:00:00Z | 2019-12-31T00:00:00Z | Neha | EU | (-Inf,0] | 0.4415465 |\n",
       "\n"
      ],
      "text/plain": [
       "  reseller     registrar    reseller_country domain_id domain               \n",
       "1 1&1 internet 1&1 internet Germany          92459593  penrosetile.store    \n",
       "2 1&1 internet 1&1 internet Germany          91070293  alcantarapalma.online\n",
       "3 1&1 internet 1&1 internet Germany          92243793  layerfarms.online    \n",
       "4 1&1 internet 1&1 internet Germany          92382343  koiunyq.online       \n",
       "5 1&1 internet 1&1 internet Germany          89480877  e-move24.online      \n",
       "6 1&1 internet 1&1 internet Germany          90751138  votenigeriang.online \n",
       "  tld_registrar_index renewal_type renewed_count expiry_date creation_date\n",
       "1 store1&1 internet   FirstTime    1             2020-02-01  2019-02-01   \n",
       "2 online1&1 internet  FirstTime    1             2020-01-15  2019-01-15   \n",
       "3 online1&1 internet  FirstTime    1             2020-01-30  2019-01-30   \n",
       "4 online1&1 internet  FirstTime    1             2020-01-31  2019-01-31   \n",
       "5 online1&1 internet  FirstTime    1             2020-01-02  2019-01-02   \n",
       "6 online1&1 internet  FirstTime    1             2020-01-12  2019-01-12   \n",
       "  status  tld    region    reg_period registrant_country renewal_status\n",
       "1 Active  store  Non China 1          NA                 Renewed       \n",
       "2 Active  online Non China 1          NA                 Not Renewd    \n",
       "3 Active  online Non China 1          NA                 Renewed       \n",
       "4 Deleted online Non China 1          NA                 Not Renewd    \n",
       "5 Active  online Non China 1          NA                 Renewed       \n",
       "6 Active  online Non China 1          NA                 Renewed       \n",
       "  renew_mbg renew_type   autorenew_type renew_date renew_registrar\n",
       "1 0         auto-renewal realized       2020-02-01 1&1 Internet   \n",
       "2 0         auto-renewal unrealized     2020-01-15 1&1 Internet   \n",
       "3 0         renewal      NA             2019-05-19 1&1 Internet   \n",
       "4 0         NA           NA             <NA>       Not Assigned   \n",
       "5 0         auto-renewal realized       2020-01-02 1&1 Internet   \n",
       "6 0         auto-renewal realized       2020-01-12 1&1 Internet   \n",
       "  renew_reseller reg_revenue reg_arpt renew_period ⋯ sld            sld_type \n",
       "1 1&1 Internet   15          15.0000   1           ⋯ penrosetile    l        \n",
       "2 1&1 Internet    0           0.0001   1           ⋯ alcantarapalma l        \n",
       "3 1&1 Internet    1           1.0000   1           ⋯ layerfarms     l        \n",
       "4 Not Assigned    1           1.0000  NA           ⋯ koiunyq        l        \n",
       "5 1&1 Internet    0           0.0001   1           ⋯ e-move24       hyphen-ln\n",
       "6 1&1 Internet    0           0.0001   1           ⋯ votenigeriang  l        \n",
       "  sld_length sld_type2  day_domains log_reg_arpt gibb_score pattern\n",
       "1 11         11l         4           2.70805     4.92       2      \n",
       "2 14         14l        25          -9.21034     5.56       19     \n",
       "3 10         10l         8           0.00000     4.21       2      \n",
       "4  7         7l          9           0.00000     0.62       1      \n",
       "5  8         8hyphen-ln 18          -9.21034     8.12       1      \n",
       "6 13         13l        22          -9.21034     7.36       4      \n",
       "  cluster        pattern_score pattern_domain_count actual     pred_df_seg2_glm\n",
       "1 penrosetile    0.062500000   1                    Renewed    0.5069604       \n",
       "2 alcantarapalma 0.001600000   1                    Not Renewd 0.4234759       \n",
       "3 lryfarms       0.031250000   2                    Renewed    0.4671778       \n",
       "4 koiunyq        0.012345679   1                    Not Renewd 0.5380713       \n",
       "5 e-move24       0.003086420   1                    Renewed    0.4357224       \n",
       "6 votenigeriang  0.002066116   1                    Renewed    0.4415465       \n",
       "  pred_df_seg_glm pred_df_agg_glm pred_df_seg2_rf pred_df_seg_rf pred_df_agg_rf\n",
       "1 0.534           0.558           0.4878033       0.4981100      0.4763754     \n",
       "2 0.425           0.374           0.5154490       0.5268478      0.5192867     \n",
       "3 0.485           0.475           0.3369761       0.3348900      0.3264582     \n",
       "4 0.547           0.508           0.3168814       0.3273583      0.4140139     \n",
       "5 0.450           0.292           0.5910136       0.5345685      0.5278744     \n",
       "6 0.444           0.385           0.4651246       0.4706303      0.4768728     \n",
       "  n    start_date           end_date             reseller_am reseller_geo\n",
       "1  765 2013-01-01T00:00:00Z 2019-12-31T00:00:00Z Neha        EU          \n",
       "2 8041 2013-01-01T00:00:00Z 2019-12-31T00:00:00Z Neha        EU          \n",
       "3 8041 2013-01-01T00:00:00Z 2019-12-31T00:00:00Z Neha        EU          \n",
       "4 8041 2013-01-01T00:00:00Z 2019-12-31T00:00:00Z Neha        EU          \n",
       "5 8041 2013-01-01T00:00:00Z 2019-12-31T00:00:00Z Neha        EU          \n",
       "6 8041 2013-01-01T00:00:00Z 2019-12-31T00:00:00Z Neha        EU          \n",
       "  reg_arpt_slab pred_df_seg2_glm_fb\n",
       "1 (10,15]       0.5069604          \n",
       "2 (-Inf,0]      0.4234759          \n",
       "3 (0.3,1]       0.4671778          \n",
       "4 (0.3,1]       0.5380713          \n",
       "5 (-Inf,0]      0.4357224          \n",
       "6 (-Inf,0]      0.4415465          "
      ]
     },
     "metadata": {},
     "output_type": "display_data"
    }
   ],
   "source": [
    "expiry_test_predictions_2 <- fallback_app_1(test_data_op=expiry_test_predictions,\n",
    "               in_col='pred_df_seg2_glm',\n",
    "               out_col='pred_df_seg2_glm_fb')\n",
    "\n",
    "dim(expiry_test_predictions)\n",
    "dim(expiry_test_predictions_2)\n",
    "head(expiry_test_predictions_2)"
   ]
  },
  {
   "cell_type": "code",
   "execution_count": null,
   "metadata": {},
   "outputs": [],
   "source": [
    "# regmatches('pred_', names(expiry_test_predictions), invert = FALSE)\n",
    "for (in_col in names(expiry_test_predictions)[grep('pred_',names(expiry_test_predictions))]){\n",
    "    out_col = paste(in_col,'_fb',sep='')\n",
    "    expiry_test_predictions <- fallback_app_1(test_data_op=expiry_test_predictions, in_col, out_col)\n",
    "}\n"
   ]
  },
  {
   "cell_type": "code",
   "execution_count": null,
   "metadata": {},
   "outputs": [],
   "source": [
    "dim(expiry_test_predictions)\n",
    "head(expiry_test_predictions)"
   ]
  },
  {
   "cell_type": "code",
   "execution_count": null,
   "metadata": {},
   "outputs": [],
   "source": [
    "expiry_test_predictions %>%\n",
    "  select(names(expiry_test_predictions)[grep('pred_',names(expiry_test_predictions))]) %>%  # replace to your needs\n",
    "  summarise_all(funs(sum(is.na(.)))) %>% t()"
   ]
  },
  {
   "cell_type": "markdown",
   "metadata": {},
   "source": [
    "# Calculate overall performance metrics for models & fallback"
   ]
  },
  {
   "cell_type": "code",
   "execution_count": 62,
   "metadata": {},
   "outputs": [],
   "source": [
    "\n",
    "lift_list <- list()\n",
    "auc_list <- list()\n",
    "\n",
    "fallback_lift <- chart_lift(pred_df=expiry_test_predictions,\n",
    "                        dep_var = \"renewal_status\",\n",
    "                        pred_var = \"pred_df_seg2_glm\") \n",
    "\n",
    "lift_list[[\"pred_df_seg2_glm\"]] <- fallback_lift\n",
    "auc_list[[\"pred_df_seg2_glm\"]] <- calc_auc(lift_df=fallback_lift)\n",
    "\n",
    "models <- names(expiry_test_predictions)[grep('pred_',names(expiry_test_predictions))]\n",
    "\n",
    "\n",
    "for (model in models){\n",
    "    model_lift <- chart_lift(pred_df=expiry_test_predictions,\n",
    "                        dep_var = \"renewal_status\",\n",
    "                        pred_var = model) \n",
    "    \n",
    "    fallback_lift <- merge(fallback_lift, model_lift, by=c(\"P\"),all= TRUE, \n",
    "                           suffixes = c(\"\",\n",
    "                                        paste(\"_\",gsub(\"pred_df_\", \"\", model)) ))\n",
    "    \n",
    "    lift_list[[model]] <- model_lift\n",
    "    auc_list[[model]] <- calc_auc(lift_df=model_lift)\n",
    "}\n",
    "\n",
    "lift_df <- fallback_lift"
   ]
  },
  {
   "cell_type": "code",
   "execution_count": 63,
   "metadata": {},
   "outputs": [
    {
     "data": {
      "text/html": [
       "12"
      ],
      "text/latex": [
       "12"
      ],
      "text/markdown": [
       "12"
      ],
      "text/plain": [
       "[1] 12"
      ]
     },
     "metadata": {},
     "output_type": "display_data"
    },
    {
     "data": {
      "text/html": [
       "<style>\n",
       ".list-inline {list-style: none; margin:0; padding: 0}\n",
       ".list-inline>li {display: inline-block}\n",
       ".list-inline>li:not(:last-child)::after {content: \"\\00b7\"; padding: 0 .5ex}\n",
       "</style>\n",
       "<ol class=list-inline><li>'pred_df_seg2_glm'</li><li>'pred_df_seg_glm'</li><li>'pred_df_agg_glm'</li><li>'pred_df_seg2_rf'</li><li>'pred_df_seg_rf'</li><li>'pred_df_agg_rf'</li><li>'pred_df_seg2_glm_fb'</li><li>'pred_df_seg_glm_fb'</li><li>'pred_df_agg_glm_fb'</li><li>'pred_df_seg2_rf_fb'</li><li>'pred_df_seg_rf_fb'</li><li>'pred_df_agg_rf_fb'</li></ol>\n"
      ],
      "text/latex": [
       "\\begin{enumerate*}\n",
       "\\item 'pred\\_df\\_seg2\\_glm'\n",
       "\\item 'pred\\_df\\_seg\\_glm'\n",
       "\\item 'pred\\_df\\_agg\\_glm'\n",
       "\\item 'pred\\_df\\_seg2\\_rf'\n",
       "\\item 'pred\\_df\\_seg\\_rf'\n",
       "\\item 'pred\\_df\\_agg\\_rf'\n",
       "\\item 'pred\\_df\\_seg2\\_glm\\_fb'\n",
       "\\item 'pred\\_df\\_seg\\_glm\\_fb'\n",
       "\\item 'pred\\_df\\_agg\\_glm\\_fb'\n",
       "\\item 'pred\\_df\\_seg2\\_rf\\_fb'\n",
       "\\item 'pred\\_df\\_seg\\_rf\\_fb'\n",
       "\\item 'pred\\_df\\_agg\\_rf\\_fb'\n",
       "\\end{enumerate*}\n"
      ],
      "text/markdown": [
       "1. 'pred_df_seg2_glm'\n",
       "2. 'pred_df_seg_glm'\n",
       "3. 'pred_df_agg_glm'\n",
       "4. 'pred_df_seg2_rf'\n",
       "5. 'pred_df_seg_rf'\n",
       "6. 'pred_df_agg_rf'\n",
       "7. 'pred_df_seg2_glm_fb'\n",
       "8. 'pred_df_seg_glm_fb'\n",
       "9. 'pred_df_agg_glm_fb'\n",
       "10. 'pred_df_seg2_rf_fb'\n",
       "11. 'pred_df_seg_rf_fb'\n",
       "12. 'pred_df_agg_rf_fb'\n",
       "\n",
       "\n"
      ],
      "text/plain": [
       " [1] \"pred_df_seg2_glm\"    \"pred_df_seg_glm\"     \"pred_df_agg_glm\"    \n",
       " [4] \"pred_df_seg2_rf\"     \"pred_df_seg_rf\"      \"pred_df_agg_rf\"     \n",
       " [7] \"pred_df_seg2_glm_fb\" \"pred_df_seg_glm_fb\"  \"pred_df_agg_glm_fb\" \n",
       "[10] \"pred_df_seg2_rf_fb\"  \"pred_df_seg_rf_fb\"   \"pred_df_agg_rf_fb\"  "
      ]
     },
     "metadata": {},
     "output_type": "display_data"
    },
    {
     "data": {
      "text/html": [
       "<table>\n",
       "<caption>A matrix: 2 × 12 of type int</caption>\n",
       "<thead>\n",
       "\t<tr><th scope=col>pred_df_seg2_glm</th><th scope=col>pred_df_seg_glm</th><th scope=col>pred_df_agg_glm</th><th scope=col>pred_df_seg2_rf</th><th scope=col>pred_df_seg_rf</th><th scope=col>pred_df_agg_rf</th><th scope=col>pred_df_seg2_glm_fb</th><th scope=col>pred_df_seg_glm_fb</th><th scope=col>pred_df_agg_glm_fb</th><th scope=col>pred_df_seg2_rf_fb</th><th scope=col>pred_df_seg_rf_fb</th><th scope=col>pred_df_agg_rf_fb</th></tr>\n",
       "</thead>\n",
       "<tbody>\n",
       "\t<tr><td>10</td><td>10</td><td>10</td><td>10</td><td>10</td><td>10</td><td>10</td><td>10</td><td>10</td><td>10</td><td>10</td><td>10</td></tr>\n",
       "\t<tr><td> 4</td><td> 4</td><td> 4</td><td> 4</td><td> 4</td><td> 4</td><td> 4</td><td> 4</td><td> 4</td><td> 4</td><td> 4</td><td> 4</td></tr>\n",
       "</tbody>\n",
       "</table>\n"
      ],
      "text/latex": [
       "A matrix: 2 × 12 of type int\n",
       "\\begin{tabular}{llllllllllll}\n",
       " pred\\_df\\_seg2\\_glm & pred\\_df\\_seg\\_glm & pred\\_df\\_agg\\_glm & pred\\_df\\_seg2\\_rf & pred\\_df\\_seg\\_rf & pred\\_df\\_agg\\_rf & pred\\_df\\_seg2\\_glm\\_fb & pred\\_df\\_seg\\_glm\\_fb & pred\\_df\\_agg\\_glm\\_fb & pred\\_df\\_seg2\\_rf\\_fb & pred\\_df\\_seg\\_rf\\_fb & pred\\_df\\_agg\\_rf\\_fb\\\\\n",
       "\\hline\n",
       "\t 10 & 10 & 10 & 10 & 10 & 10 & 10 & 10 & 10 & 10 & 10 & 10\\\\\n",
       "\t  4 &  4 &  4 &  4 &  4 &  4 &  4 &  4 &  4 &  4 &  4 &  4\\\\\n",
       "\\end{tabular}\n"
      ],
      "text/markdown": [
       "\n",
       "A matrix: 2 × 12 of type int\n",
       "\n",
       "| pred_df_seg2_glm | pred_df_seg_glm | pred_df_agg_glm | pred_df_seg2_rf | pred_df_seg_rf | pred_df_agg_rf | pred_df_seg2_glm_fb | pred_df_seg_glm_fb | pred_df_agg_glm_fb | pred_df_seg2_rf_fb | pred_df_seg_rf_fb | pred_df_agg_rf_fb |\n",
       "|---|---|---|---|---|---|---|---|---|---|---|---|\n",
       "| 10 | 10 | 10 | 10 | 10 | 10 | 10 | 10 | 10 | 10 | 10 | 10 |\n",
       "|  4 |  4 |  4 |  4 |  4 |  4 |  4 |  4 |  4 |  4 |  4 |  4 |\n",
       "\n"
      ],
      "text/plain": [
       "     pred_df_seg2_glm pred_df_seg_glm pred_df_agg_glm pred_df_seg2_rf\n",
       "[1,] 10               10              10              10             \n",
       "[2,]  4                4               4               4             \n",
       "     pred_df_seg_rf pred_df_agg_rf pred_df_seg2_glm_fb pred_df_seg_glm_fb\n",
       "[1,] 10             10             10                  10                \n",
       "[2,]  4              4              4                   4                \n",
       "     pred_df_agg_glm_fb pred_df_seg2_rf_fb pred_df_seg_rf_fb pred_df_agg_rf_fb\n",
       "[1,] 10                 10                 10                10               \n",
       "[2,]  4                  4                  4                 4               "
      ]
     },
     "metadata": {},
     "output_type": "display_data"
    },
    {
     "data": {
      "text/html": [
       "<strong>$pred_df_seg2_glm</strong> = <table>\n",
       "<caption>A data.frame: 10 × 4</caption>\n",
       "<thead>\n",
       "\t<tr><th scope=col>P</th><th scope=col>actu_renwd2</th><th scope=col>gain</th><th scope=col>lift</th></tr>\n",
       "\t<tr><th scope=col>&lt;dbl&gt;</th><th scope=col>&lt;int&gt;</th><th scope=col>&lt;dbl&gt;</th><th scope=col>&lt;dbl&gt;</th></tr>\n",
       "</thead>\n",
       "<tbody>\n",
       "\t<tr><td>0.1</td><td>12906</td><td>0.4715899</td><td>4.715899</td></tr>\n",
       "\t<tr><td>0.2</td><td>18852</td><td>0.6888588</td><td>3.444294</td></tr>\n",
       "\t<tr><td>0.3</td><td>22109</td><td>0.8078708</td><td>2.692903</td></tr>\n",
       "\t<tr><td>0.4</td><td>24198</td><td>0.8842036</td><td>2.210509</td></tr>\n",
       "\t<tr><td>0.5</td><td>25431</td><td>0.9292579</td><td>1.858516</td></tr>\n",
       "\t<tr><td>0.6</td><td>26151</td><td>0.9555669</td><td>1.592612</td></tr>\n",
       "\t<tr><td>0.7</td><td>26531</td><td>0.9694523</td><td>1.384932</td></tr>\n",
       "\t<tr><td>0.8</td><td>26795</td><td>0.9790989</td><td>1.223874</td></tr>\n",
       "\t<tr><td>0.9</td><td>26855</td><td>0.9812913</td><td>1.090324</td></tr>\n",
       "\t<tr><td>1.0</td><td>27367</td><td>1.0000000</td><td>1.000000</td></tr>\n",
       "</tbody>\n",
       "</table>\n"
      ],
      "text/latex": [
       "\\textbf{\\$pred\\_df\\_seg2\\_glm} = A data.frame: 10 × 4\n",
       "\\begin{tabular}{llll}\n",
       " P & actu\\_renwd2 & gain & lift\\\\\n",
       " <dbl> & <int> & <dbl> & <dbl>\\\\\n",
       "\\hline\n",
       "\t 0.1 & 12906 & 0.4715899 & 4.715899\\\\\n",
       "\t 0.2 & 18852 & 0.6888588 & 3.444294\\\\\n",
       "\t 0.3 & 22109 & 0.8078708 & 2.692903\\\\\n",
       "\t 0.4 & 24198 & 0.8842036 & 2.210509\\\\\n",
       "\t 0.5 & 25431 & 0.9292579 & 1.858516\\\\\n",
       "\t 0.6 & 26151 & 0.9555669 & 1.592612\\\\\n",
       "\t 0.7 & 26531 & 0.9694523 & 1.384932\\\\\n",
       "\t 0.8 & 26795 & 0.9790989 & 1.223874\\\\\n",
       "\t 0.9 & 26855 & 0.9812913 & 1.090324\\\\\n",
       "\t 1.0 & 27367 & 1.0000000 & 1.000000\\\\\n",
       "\\end{tabular}\n"
      ],
      "text/markdown": [
       "**$pred_df_seg2_glm** = \n",
       "A data.frame: 10 × 4\n",
       "\n",
       "| P &lt;dbl&gt; | actu_renwd2 &lt;int&gt; | gain &lt;dbl&gt; | lift &lt;dbl&gt; |\n",
       "|---|---|---|---|\n",
       "| 0.1 | 12906 | 0.4715899 | 4.715899 |\n",
       "| 0.2 | 18852 | 0.6888588 | 3.444294 |\n",
       "| 0.3 | 22109 | 0.8078708 | 2.692903 |\n",
       "| 0.4 | 24198 | 0.8842036 | 2.210509 |\n",
       "| 0.5 | 25431 | 0.9292579 | 1.858516 |\n",
       "| 0.6 | 26151 | 0.9555669 | 1.592612 |\n",
       "| 0.7 | 26531 | 0.9694523 | 1.384932 |\n",
       "| 0.8 | 26795 | 0.9790989 | 1.223874 |\n",
       "| 0.9 | 26855 | 0.9812913 | 1.090324 |\n",
       "| 1.0 | 27367 | 1.0000000 | 1.000000 |\n",
       "\n"
      ],
      "text/plain": [
       "$pred_df_seg2_glm\n",
       "     P actu_renwd2      gain     lift\n",
       "1  0.1       12906 0.4715899 4.715899\n",
       "2  0.2       18852 0.6888588 3.444294\n",
       "3  0.3       22109 0.8078708 2.692903\n",
       "4  0.4       24198 0.8842036 2.210509\n",
       "5  0.5       25431 0.9292579 1.858516\n",
       "6  0.6       26151 0.9555669 1.592612\n",
       "7  0.7       26531 0.9694523 1.384932\n",
       "8  0.8       26795 0.9790989 1.223874\n",
       "9  0.9       26855 0.9812913 1.090324\n",
       "10 1.0       27367 1.0000000 1.000000\n"
      ]
     },
     "metadata": {},
     "output_type": "display_data"
    }
   ],
   "source": [
    "length(lift_list)\n",
    "names(lift_list)\n",
    "sapply(lift_list, dim)\n",
    "lift_list[\"pred_df_seg2_glm\"]"
   ]
  },
  {
   "cell_type": "code",
   "execution_count": 64,
   "metadata": {},
   "outputs": [
    {
     "data": {
      "text/plain": [
       "\n",
       "   Renewed Not Renewd \n",
       "0.09149351 0.90850649 "
      ]
     },
     "metadata": {},
     "output_type": "display_data"
    }
   ],
   "source": [
    "prop.table(table(expiry_test_df_1$renewal_status))"
   ]
  },
  {
   "cell_type": "code",
   "execution_count": 67,
   "metadata": {},
   "outputs": [],
   "source": [
    "plot_multigains <- function (lift_df_list=list(seg_glm = lift_df, \n",
    "                                               ben_dtr = lift_df_2),\n",
    "                             auc_list = list(seg_glm = auc, \n",
    "                                             ben_dtr=auc_2),\n",
    "                             prop_positive = 0.1121167) {\n",
    "  \n",
    "  optimal_df <- data.frame( \"P\"=c(0,prop_positive,1.0),\n",
    "                            \"actu_renwd2\"=c(NA,NA,NA),\n",
    "                            \"gain\"=c(0,1.0,1.0),\n",
    "                            \"lift\"=c(NA,NA,NA))\n",
    "  \n",
    "  lift_df_list <- lapply(lift_df_list, function(df) {\n",
    "    df <- df %>%\n",
    "      add_row(P = 0, gain =0) %>%\n",
    "      arrange(P)\n",
    "  })\n",
    "\n",
    "  auc_lift_list = paste(lapply(auc_list, round, 3),sapply(lift_df_list, function(x) round(x[2,\"lift\"],2)), sep=\", \")\n",
    "  \n",
    "  auc_map = paste(names(lift_df_list),auc_lift_list, sep=\" = \")[1:length(lift_df_list)]\n",
    "  \n",
    "  \n",
    "  gains_plot <- ggplot(NULL, aes(P,  gain)) +\n",
    "    geom_line(data = lift_df_list[[1]] %>% slice(1, n())) +\n",
    "    \n",
    "    list(geom_line(data=optimal_df), geom_point(data=optimal_df)) +\n",
    "    \n",
    "    scale_y_continuous(breaks = seq(0, 1, by = .1), limits = c(0,1)) +\n",
    "    scale_x_continuous(breaks = seq(0, 1, by = .1)) +\n",
    "    labs(title = \"Cumulative Gains Plot\",\n",
    "         y = \"Cumulative Gain\",\n",
    "         x = \"Percentile\")+\n",
    "    theme(text = element_text(size=20))\n",
    "  \n",
    "  for(i in seq(length(lift_df_list))){\n",
    "    name = names(lift_df_list)[[i]]\n",
    "    df = lift_df_list[[i]]\n",
    "    auc = auc_list[[i]]\n",
    "    gains_plot <- gains_plot + list(geom_line(data=df), \n",
    "                                    geom_point(data=df))+ \n",
    "      annotate(\"text\", x = .4, y = .9-i*.075, hjust = 0, label = auc_map[[i]], size = 5)\n",
    "  }\n",
    "  \n",
    "  \n",
    "  return(gains_plot)\n",
    "}\n"
   ]
  },
  {
   "cell_type": "code",
   "execution_count": 68,
   "metadata": {},
   "outputs": [
    {
     "data": {
      "image/png": "[encoded data removed]",
      "text/plain": [
       "plot without title"
      ]
     },
     "metadata": {
      "image/png": {
       "height": 420,
       "width": 420
      },
      "text/plain": {
       "height": 420,
       "width": 420
      }
     },
     "output_type": "display_data"
    }
   ],
   "source": [
    "plot_multigains(            lift_df_list=lift_list,\n",
    "                             auc_list = auc_list,\n",
    "                             prop_positive = 0.09149351) "
   ]
  },
  {
   "cell_type": "code",
   "execution_count": null,
   "metadata": {},
   "outputs": [],
   "source": [
    "# we need to add a column of just fall back predictions\n",
    "# so, for each fallback table, generate a column of predictions and execute metalearning to determine when to use which "
   ]
  },
  {
   "cell_type": "code",
   "execution_count": null,
   "metadata": {},
   "outputs": [],
   "source": []
  },
  {
   "cell_type": "code",
   "execution_count": null,
   "metadata": {},
   "outputs": [],
   "source": []
  },
  {
   "cell_type": "markdown",
   "metadata": {},
   "source": [
    "# Now with... using fallback for a subset of tld-resellers"
   ]
  },
  {
   "cell_type": "code",
   "execution_count": 59,
   "metadata": {},
   "outputs": [
    {
     "data": {
      "text/html": [
       "<style>\n",
       ".list-inline {list-style: none; margin:0; padding: 0}\n",
       ".list-inline>li {display: inline-block}\n",
       ".list-inline>li:not(:last-child)::after {content: \"\\00b7\"; padding: 0 .5ex}\n",
       "</style>\n",
       "<ol class=list-inline><li>'renewal_type'</li><li>'renewed_count'</li><li>'expiry_date'</li><li>'domain_id'</li><li>'domain'</li><li>'creation_date'</li><li>'status'</li><li>'tld'</li><li>'registrar'</li><li>'reseller'</li><li>'reseller_country'</li><li>'region'</li><li>'reg_period'</li><li>'registrant_country'</li><li>'renewal_status'</li><li>'renew_mbg'</li><li>'renew_type'</li><li>'autorenew_type'</li><li>'renew_date'</li><li>'renew_registrar'</li><li>'renew_reseller'</li><li>'reg_revenue'</li><li>'reg_arpt'</li><li>'renew_period'</li><li>'renew_domain_revenue'</li><li>'renew_arpt'</li><li>'reg_arpt_org'</li><li>'tld_registrar_index'</li><li>'sld'</li><li>'sld_type'</li><li>'sld_length'</li><li>'sld_type2'</li><li>'day_domains'</li><li>'log_reg_arpt'</li><li>'gibb_score'</li><li>'pattern'</li><li>'cluster'</li><li>'pattern_score'</li><li>'pattern_domain_count'</li></ol>\n"
      ],
      "text/latex": [
       "\\begin{enumerate*}\n",
       "\\item 'renewal\\_type'\n",
       "\\item 'renewed\\_count'\n",
       "\\item 'expiry\\_date'\n",
       "\\item 'domain\\_id'\n",
       "\\item 'domain'\n",
       "\\item 'creation\\_date'\n",
       "\\item 'status'\n",
       "\\item 'tld'\n",
       "\\item 'registrar'\n",
       "\\item 'reseller'\n",
       "\\item 'reseller\\_country'\n",
       "\\item 'region'\n",
       "\\item 'reg\\_period'\n",
       "\\item 'registrant\\_country'\n",
       "\\item 'renewal\\_status'\n",
       "\\item 'renew\\_mbg'\n",
       "\\item 'renew\\_type'\n",
       "\\item 'autorenew\\_type'\n",
       "\\item 'renew\\_date'\n",
       "\\item 'renew\\_registrar'\n",
       "\\item 'renew\\_reseller'\n",
       "\\item 'reg\\_revenue'\n",
       "\\item 'reg\\_arpt'\n",
       "\\item 'renew\\_period'\n",
       "\\item 'renew\\_domain\\_revenue'\n",
       "\\item 'renew\\_arpt'\n",
       "\\item 'reg\\_arpt\\_org'\n",
       "\\item 'tld\\_registrar\\_index'\n",
       "\\item 'sld'\n",
       "\\item 'sld\\_type'\n",
       "\\item 'sld\\_length'\n",
       "\\item 'sld\\_type2'\n",
       "\\item 'day\\_domains'\n",
       "\\item 'log\\_reg\\_arpt'\n",
       "\\item 'gibb\\_score'\n",
       "\\item 'pattern'\n",
       "\\item 'cluster'\n",
       "\\item 'pattern\\_score'\n",
       "\\item 'pattern\\_domain\\_count'\n",
       "\\end{enumerate*}\n"
      ],
      "text/markdown": [
       "1. 'renewal_type'\n",
       "2. 'renewed_count'\n",
       "3. 'expiry_date'\n",
       "4. 'domain_id'\n",
       "5. 'domain'\n",
       "6. 'creation_date'\n",
       "7. 'status'\n",
       "8. 'tld'\n",
       "9. 'registrar'\n",
       "10. 'reseller'\n",
       "11. 'reseller_country'\n",
       "12. 'region'\n",
       "13. 'reg_period'\n",
       "14. 'registrant_country'\n",
       "15. 'renewal_status'\n",
       "16. 'renew_mbg'\n",
       "17. 'renew_type'\n",
       "18. 'autorenew_type'\n",
       "19. 'renew_date'\n",
       "20. 'renew_registrar'\n",
       "21. 'renew_reseller'\n",
       "22. 'reg_revenue'\n",
       "23. 'reg_arpt'\n",
       "24. 'renew_period'\n",
       "25. 'renew_domain_revenue'\n",
       "26. 'renew_arpt'\n",
       "27. 'reg_arpt_org'\n",
       "28. 'tld_registrar_index'\n",
       "29. 'sld'\n",
       "30. 'sld_type'\n",
       "31. 'sld_length'\n",
       "32. 'sld_type2'\n",
       "33. 'day_domains'\n",
       "34. 'log_reg_arpt'\n",
       "35. 'gibb_score'\n",
       "36. 'pattern'\n",
       "37. 'cluster'\n",
       "38. 'pattern_score'\n",
       "39. 'pattern_domain_count'\n",
       "\n",
       "\n"
      ],
      "text/plain": [
       " [1] \"renewal_type\"         \"renewed_count\"        \"expiry_date\"         \n",
       " [4] \"domain_id\"            \"domain\"               \"creation_date\"       \n",
       " [7] \"status\"               \"tld\"                  \"registrar\"           \n",
       "[10] \"reseller\"             \"reseller_country\"     \"region\"              \n",
       "[13] \"reg_period\"           \"registrant_country\"   \"renewal_status\"      \n",
       "[16] \"renew_mbg\"            \"renew_type\"           \"autorenew_type\"      \n",
       "[19] \"renew_date\"           \"renew_registrar\"      \"renew_reseller\"      \n",
       "[22] \"reg_revenue\"          \"reg_arpt\"             \"renew_period\"        \n",
       "[25] \"renew_domain_revenue\" \"renew_arpt\"           \"reg_arpt_org\"        \n",
       "[28] \"tld_registrar_index\"  \"sld\"                  \"sld_type\"            \n",
       "[31] \"sld_length\"           \"sld_type2\"            \"day_domains\"         \n",
       "[34] \"log_reg_arpt\"         \"gibb_score\"           \"pattern\"             \n",
       "[37] \"cluster\"              \"pattern_score\"        \"pattern_domain_count\""
      ]
     },
     "metadata": {},
     "output_type": "display_data"
    }
   ],
   "source": [
    "names(expiry_train_df_1)"
   ]
  },
  {
   "cell_type": "code",
   "execution_count": 99,
   "metadata": {},
   "outputs": [
    {
     "name": "stderr",
     "output_type": "stream",
     "text": [
      "Adding missing grouping variables: `tld_registrar_index`\n",
      "\n"
     ]
    },
    {
     "data": {
      "text/plain": [
       " tld_registrar_index       n           \n",
       " Length:1723         Min.   :     1.0  \n",
       " Class :character    1st Qu.:     3.0  \n",
       " Mode  :character    Median :    19.0  \n",
       "                     Mean   :   689.6  \n",
       "                     3rd Qu.:   127.5  \n",
       "                     Max.   :106569.0  "
      ]
     },
     "metadata": {},
     "output_type": "display_data"
    }
   ],
   "source": [
    "expiry_train_df_1 %>%\n",
    "  group_by(tld_registrar_index) %>%\n",
    "  count() %>% select(n) %>% summary(q=c(.1,.2,.3))"
   ]
  },
  {
   "cell_type": "code",
   "execution_count": 100,
   "metadata": {},
   "outputs": [
    {
     "data": {
      "text/html": [
       "865"
      ],
      "text/latex": [
       "865"
      ],
      "text/markdown": [
       "865"
      ],
      "text/plain": [
       "[1] 865"
      ]
     },
     "metadata": {},
     "output_type": "display_data"
    },
    {
     "data": {
      "text/html": [
       "<style>\n",
       ".list-inline {list-style: none; margin:0; padding: 0}\n",
       ".list-inline>li {display: inline-block}\n",
       ".list-inline>li:not(:last-child)::after {content: \"\\00b7\"; padding: 0 .5ex}\n",
       "</style>\n",
       "<ol class=list-inline><li>'fun1&amp;1 internet'</li><li>'fun10dencehispahard'</li><li>'fun1api'</li><li>'funab name isp'</li><li>'funalfahosting'</li><li>'funargeweb'</li></ol>\n"
      ],
      "text/latex": [
       "\\begin{enumerate*}\n",
       "\\item 'fun1\\&1 internet'\n",
       "\\item 'fun10dencehispahard'\n",
       "\\item 'fun1api'\n",
       "\\item 'funab name isp'\n",
       "\\item 'funalfahosting'\n",
       "\\item 'funargeweb'\n",
       "\\end{enumerate*}\n"
      ],
      "text/markdown": [
       "1. 'fun1&amp;1 internet'\n",
       "2. 'fun10dencehispahard'\n",
       "3. 'fun1api'\n",
       "4. 'funab name isp'\n",
       "5. 'funalfahosting'\n",
       "6. 'funargeweb'\n",
       "\n",
       "\n"
      ],
      "text/plain": [
       "[1] \"fun1&1 internet\"     \"fun10dencehispahard\" \"fun1api\"            \n",
       "[4] \"funab name isp\"      \"funalfahosting\"      \"funargeweb\"         "
      ]
     },
     "metadata": {},
     "output_type": "display_data"
    }
   ],
   "source": [
    "# select those with N domain renewing in training\n",
    "tld_resellers_4fallback <- expiry_train_df_1 %>%\n",
    "  group_by(tld_registrar_index) %>%\n",
    "  count() %>%\n",
    "  filter(n<20) %>%\n",
    "  pull(tld_registrar_index)\n",
    "\n",
    "length(tld_resellers_4fallback)\n",
    "head(tld_resellers_4fallback)"
   ]
  },
  {
   "cell_type": "code",
   "execution_count": 101,
   "metadata": {},
   "outputs": [],
   "source": [
    "`%notin%` <- Negate(`%in%`)\n",
    "\n",
    "test_predictions_fallback_df_2 <- test_predictions_fallback_df_2 %>% \n",
    "  mutate(pred_df_seg2_glm_fb = \n",
    "           renewal_rate * (tld_registrar_index %in% c(tld_resellers_4fallback)) + \n",
    "           pred_df_seg2_glm * (tld_registrar_index %notin% c(tld_resellers_4fallback)),\n",
    "        pred_df_seg_glm_fb = \n",
    "           renewal_rate * (tld_registrar_index %in% c(tld_resellers_4fallback)) + \n",
    "           pred_df_seg_glm * (tld_registrar_index %notin% c(tld_resellers_4fallback)),\n",
    "        pred_df_agg_glm_fb = \n",
    "           renewal_rate * (tld_registrar_index %in% c(tld_resellers_4fallback)) + \n",
    "           pred_df_agg_glm * (tld_registrar_index %notin% c(tld_resellers_4fallback)),\n",
    "        pred_df_seg2_rf_fb = \n",
    "           renewal_rate * (tld_registrar_index %in% c(tld_resellers_4fallback)) + \n",
    "           pred_df_seg2_rf * (tld_registrar_index %notin% c(tld_resellers_4fallback)),\n",
    "        pred_df_seg_rf_fb = \n",
    "           renewal_rate * (tld_registrar_index %in% c(tld_resellers_4fallback)) + \n",
    "           pred_df_seg_rf * (tld_registrar_index %notin% c(tld_resellers_4fallback)),\n",
    "        pred_df_agg_rf_fb = \n",
    "           renewal_rate * (tld_registrar_index %in% c(tld_resellers_4fallback)) + \n",
    "           pred_df_agg_rf * (tld_registrar_index %notin% c(tld_resellers_4fallback)),\n",
    "        \n",
    "        )\n"
   ]
  },
  {
   "cell_type": "code",
   "execution_count": 102,
   "metadata": {},
   "outputs": [
    {
     "data": {
      "text/html": [
       "<table>\n",
       "<caption>A grouped_df: 1 × 2</caption>\n",
       "<thead>\n",
       "\t<tr><th scope=col>tld_registrar_index</th><th scope=col>n</th></tr>\n",
       "\t<tr><th scope=col>&lt;chr&gt;</th><th scope=col>&lt;int&gt;</th></tr>\n",
       "</thead>\n",
       "<tbody>\n",
       "\t<tr><td>funcrazy domains</td><td>1</td></tr>\n",
       "</tbody>\n",
       "</table>\n"
      ],
      "text/latex": [
       "A grouped\\_df: 1 × 2\n",
       "\\begin{tabular}{ll}\n",
       " tld\\_registrar\\_index & n\\\\\n",
       " <chr> & <int>\\\\\n",
       "\\hline\n",
       "\t funcrazy domains & 1\\\\\n",
       "\\end{tabular}\n"
      ],
      "text/markdown": [
       "\n",
       "A grouped_df: 1 × 2\n",
       "\n",
       "| tld_registrar_index &lt;chr&gt; | n &lt;int&gt; |\n",
       "|---|---|\n",
       "| funcrazy domains | 1 |\n",
       "\n"
      ],
      "text/plain": [
       "  tld_registrar_index n\n",
       "1 funcrazy domains    1"
      ]
     },
     "metadata": {},
     "output_type": "display_data"
    }
   ],
   "source": [
    "expiry_test_df_1 %>%\n",
    "  group_by(tld_registrar_index) %>%\n",
    "  count() %>%\n",
    "  filter(tld_registrar_index=='funcrazy domains') "
   ]
  },
  {
   "cell_type": "code",
   "execution_count": 103,
   "metadata": {},
   "outputs": [
    {
     "data": {
      "text/html": [
       "<table>\n",
       "<caption>A data.frame: 6 × 54</caption>\n",
       "<thead>\n",
       "\t<tr><th></th><th scope=col>tld</th><th scope=col>reseller_geo</th><th scope=col>reg_arpt_slab</th><th scope=col>reseller</th><th scope=col>reseller_country</th><th scope=col>domain_id</th><th scope=col>renewal_type</th><th scope=col>renewed_count</th><th scope=col>expiry_date</th><th scope=col>domain</th><th scope=col>creation_date</th><th scope=col>status</th><th scope=col>registrar</th><th scope=col>region</th><th scope=col>reg_period</th><th scope=col>registrant_country</th><th scope=col>renewal_status</th><th scope=col>renew_mbg</th><th scope=col>renew_type</th><th scope=col>autorenew_type</th><th scope=col>renew_date</th><th scope=col>renew_registrar</th><th scope=col>renew_reseller</th><th scope=col>reg_revenue</th><th scope=col>reg_arpt</th><th scope=col>⋯</th><th scope=col>tld_registrar_index</th><th scope=col>sld</th><th scope=col>sld_type</th><th scope=col>sld_length</th><th scope=col>sld_type2</th><th scope=col>day_domains</th><th scope=col>log_reg_arpt</th><th scope=col>gibb_score</th><th scope=col>pattern</th><th scope=col>cluster</th><th scope=col>pattern_score</th><th scope=col>pattern_domain_count</th><th scope=col>pred_df_seg2_glm</th><th scope=col>pred_df_seg_glm</th><th scope=col>pred_df_agg_glm</th><th scope=col>pred_df_seg2_rf</th><th scope=col>pred_df_seg_rf</th><th scope=col>pred_df_agg_rf</th><th scope=col>renewal_rate</th><th scope=col>pred_df_seg2_glm_fb</th><th scope=col>pred_df_seg_glm_fb</th><th scope=col>pred_df_agg_glm_fb</th><th scope=col>pred_df_seg2_rf_fb</th><th scope=col>pred_df_seg_rf_fb</th><th scope=col>pred_df_agg_rf_fb</th></tr>\n",
       "\t<tr><th></th><th scope=col>&lt;fct&gt;</th><th scope=col>&lt;fct&gt;</th><th scope=col>&lt;fct&gt;</th><th scope=col>&lt;chr&gt;</th><th scope=col>&lt;chr&gt;</th><th scope=col>&lt;int&gt;</th><th scope=col>&lt;chr&gt;</th><th scope=col>&lt;int&gt;</th><th scope=col>&lt;date&gt;</th><th scope=col>&lt;chr&gt;</th><th scope=col>&lt;date&gt;</th><th scope=col>&lt;chr&gt;</th><th scope=col>&lt;chr&gt;</th><th scope=col>&lt;chr&gt;</th><th scope=col>&lt;int&gt;</th><th scope=col>&lt;chr&gt;</th><th scope=col>&lt;fct&gt;</th><th scope=col>&lt;int&gt;</th><th scope=col>&lt;chr&gt;</th><th scope=col>&lt;chr&gt;</th><th scope=col>&lt;date&gt;</th><th scope=col>&lt;chr&gt;</th><th scope=col>&lt;chr&gt;</th><th scope=col>&lt;dbl&gt;</th><th scope=col>&lt;dbl&gt;</th><th scope=col>⋯</th><th scope=col>&lt;chr&gt;</th><th scope=col>&lt;chr&gt;</th><th scope=col>&lt;fct&gt;</th><th scope=col>&lt;int&gt;</th><th scope=col>&lt;chr&gt;</th><th scope=col>&lt;int&gt;</th><th scope=col>&lt;dbl&gt;</th><th scope=col>&lt;dbl&gt;</th><th scope=col>&lt;chr&gt;</th><th scope=col>&lt;chr&gt;</th><th scope=col>&lt;dbl&gt;</th><th scope=col>&lt;int&gt;</th><th scope=col>&lt;dbl&gt;</th><th scope=col>&lt;dbl&gt;</th><th scope=col>&lt;dbl&gt;</th><th scope=col>&lt;dbl&gt;</th><th scope=col>&lt;dbl&gt;</th><th scope=col>&lt;dbl&gt;</th><th scope=col>&lt;dbl&gt;</th><th scope=col>&lt;dbl&gt;</th><th scope=col>&lt;dbl&gt;</th><th scope=col>&lt;dbl&gt;</th><th scope=col>&lt;dbl&gt;</th><th scope=col>&lt;dbl&gt;</th><th scope=col>&lt;dbl&gt;</th></tr>\n",
       "</thead>\n",
       "<tbody>\n",
       "\t<tr><th scope=row>1</th><td>fun</td><td>Australia &amp; New Zealand</td><td><span style=white-space:pre-wrap>(3,5]  </span></td><td>instra corporation</td><td>Australia</td><td>104893671</td><td>FirstTime</td><td>1</td><td>2020-05-25</td><td><span style=white-space:pre-wrap>laur.fun         </span></td><td>2019-05-25</td><td>Active</td><td>instra corporation</td><td>Non China</td><td>1</td><td>NA</td><td>Not Renewd</td><td>0</td><td>auto-renewal</td><td><span style=white-space:pre-wrap>NA        </span></td><td>2020-05-25</td><td>Instra Corporation</td><td>Instra Corporation</td><td> 4</td><td> 4</td><td>⋯</td><td>funinstra corporation</td><td><span style=white-space:pre-wrap>laur         </span></td><td>l</td><td> 4</td><td>4l </td><td>1</td><td>1.386294</td><td>5.48</td><td><span style=white-space:pre-wrap>laur         </span></td><td>1</td><td>1</td><td>1</td><td><span style=white-space:pre-wrap>       NA</span></td><td>0.000</td><td>0.151</td><td>0.00000</td><td>0.1851779</td><td>0.3718108</td><td>0.2500000</td><td><span style=white-space:pre-wrap>       NA</span></td><td>0.2500000</td><td>0.2500000</td><td>0.2500000</td><td>0.2500000</td><td>0.2500000</td></tr>\n",
       "\t<tr><th scope=row>2</th><td>fun</td><td>Australia &amp; New Zealand</td><td><span style=white-space:pre-wrap>(3,5]  </span></td><td>instra corporation</td><td>Australia</td><td> 99540944</td><td>FirstTime</td><td>1</td><td>2020-04-10</td><td><span style=white-space:pre-wrap>oferty.fun       </span></td><td>2019-04-10</td><td>Active</td><td>instra corporation</td><td>Non China</td><td>1</td><td>NA</td><td>Not Renewd</td><td>0</td><td>auto-renewal</td><td>unrealized</td><td>2020-04-10</td><td>Instra Corporation</td><td>Instra Corporation</td><td> 4</td><td> 4</td><td>⋯</td><td>funinstra corporation</td><td><span style=white-space:pre-wrap>oferty       </span></td><td>l</td><td> 6</td><td>6l </td><td>1</td><td>1.386294</td><td>6.03</td><td><span style=white-space:pre-wrap>oferty       </span></td><td>1</td><td>1</td><td>1</td><td><span style=white-space:pre-wrap>       NA</span></td><td>0.000</td><td>0.146</td><td>0.00000</td><td>0.2157494</td><td>0.3943426</td><td>0.2500000</td><td><span style=white-space:pre-wrap>       NA</span></td><td>0.2500000</td><td>0.2500000</td><td>0.2500000</td><td>0.2500000</td><td>0.2500000</td></tr>\n",
       "\t<tr><th scope=row>3</th><td>fun</td><td>Australia &amp; New Zealand</td><td>(5,10] </td><td><span style=white-space:pre-wrap>crazy domains     </span></td><td>Australia</td><td> 62376247</td><td>FirstTime</td><td>1</td><td>2020-03-07</td><td>tennisladder.fun </td><td>2018-03-07</td><td>Active</td><td><span style=white-space:pre-wrap>crazy domains     </span></td><td>Non China</td><td>2</td><td>NA</td><td>Not Renewd</td><td>0</td><td>auto-renewal</td><td>unrealized</td><td>2020-03-07</td><td><span style=white-space:pre-wrap>Crazy Domains     </span></td><td><span style=white-space:pre-wrap>Crazy Domains     </span></td><td>18</td><td> 9</td><td>⋯</td><td><span style=white-space:pre-wrap>funcrazy domains     </span></td><td>tennisladder </td><td>l</td><td>12</td><td>12l</td><td>1</td><td>2.197225</td><td>4.85</td><td>tennisladder </td><td>1</td><td>1</td><td>1</td><td>1.0000000</td><td>0.400</td><td>0.334</td><td>0.42460</td><td>0.5788189</td><td>0.6221085</td><td>0.5000000</td><td>0.5000000</td><td>0.5000000</td><td>0.5000000</td><td>0.5000000</td><td>0.5000000</td><td>0.5000000</td></tr>\n",
       "\t<tr><th scope=row>4</th><td>fun</td><td>Australia &amp; New Zealand</td><td>(10,15]</td><td><span style=white-space:pre-wrap>ventraip          </span></td><td>Australia</td><td> 95252714</td><td>FirstTime</td><td>1</td><td>2020-03-03</td><td><span style=white-space:pre-wrap>letterific.fun   </span></td><td>2019-03-03</td><td>Active</td><td>synergy wholesale </td><td>Non China</td><td>1</td><td>NA</td><td><span style=white-space:pre-wrap>Renewed   </span></td><td>0</td><td><span style=white-space:pre-wrap>renewal     </span></td><td><span style=white-space:pre-wrap>NA        </span></td><td>2020-02-19</td><td>SYNERGY WHOLESALE </td><td><span style=white-space:pre-wrap>VentraIP          </span></td><td>15</td><td>15</td><td>⋯</td><td><span style=white-space:pre-wrap>funventraip          </span></td><td><span style=white-space:pre-wrap>letterific   </span></td><td>l</td><td>10</td><td>10l</td><td>1</td><td>2.708050</td><td>5.97</td><td><span style=white-space:pre-wrap>letterific   </span></td><td>1</td><td>1</td><td>1</td><td><span style=white-space:pre-wrap>       NA</span></td><td><span style=white-space:pre-wrap>   NA</span></td><td><span style=white-space:pre-wrap>   NA</span></td><td><span style=white-space:pre-wrap>     NA</span></td><td><span style=white-space:pre-wrap>       NA</span></td><td><span style=white-space:pre-wrap>       NA</span></td><td>0.3333333</td><td><span style=white-space:pre-wrap>       NA</span></td><td><span style=white-space:pre-wrap>       NA</span></td><td><span style=white-space:pre-wrap>       NA</span></td><td><span style=white-space:pre-wrap>       NA</span></td><td><span style=white-space:pre-wrap>       NA</span></td><td><span style=white-space:pre-wrap>       NA</span></td></tr>\n",
       "\t<tr><th scope=row>5</th><td>fun</td><td>Canada                 </td><td>(5,10] </td><td>shopify           </td><td>Canada   </td><td> 98381634</td><td>FirstTime</td><td>1</td><td>2020-03-29</td><td>abtractstore.fun </td><td>2019-03-29</td><td>Active</td><td>tucows            </td><td>Non China</td><td>1</td><td>NA</td><td>Not Renewd</td><td>0</td><td>auto-renewal</td><td>unrealized</td><td>2020-03-29</td><td>Tucows            </td><td>Shopify           </td><td> 8</td><td> 8</td><td>⋯</td><td>funshopify           </td><td>abtractstore </td><td>l</td><td>12</td><td>12l</td><td>1</td><td>2.079442</td><td>5.45</td><td>abtractstore </td><td>1</td><td>1</td><td>1</td><td>0.2172645</td><td>0.277</td><td>0.067</td><td>0.28220</td><td>0.2351863</td><td>0.2068615</td><td>0.5263158</td><td>0.5263158</td><td>0.5263158</td><td>0.5263158</td><td>0.5263158</td><td>0.5263158</td><td>0.5263158</td></tr>\n",
       "\t<tr><th scope=row>6</th><td>fun</td><td>Canada                 </td><td>(5,10] </td><td>hover             </td><td>Canada   </td><td>104937931</td><td>FirstTime</td><td>1</td><td>2020-05-26</td><td>futurefantasy.fun</td><td>2019-05-26</td><td>Active</td><td>tucows            </td><td>Non China</td><td>1</td><td>NA</td><td>Renewed   </td><td>0</td><td>renewal     </td><td>NA        </td><td>2020-05-25</td><td>Tucows            </td><td>Hover             </td><td> 8</td><td> 8</td><td>⋯</td><td>funhover             </td><td>futurefantasy</td><td>l</td><td>13</td><td>13l</td><td>1</td><td>2.079442</td><td>5.61</td><td>futurefantasy</td><td>1</td><td>1</td><td>1</td><td>0.6261119</td><td>0.624</td><td>0.267</td><td>0.59825</td><td>0.5677353</td><td>0.4933172</td><td>0.5263158</td><td>0.5263158</td><td>0.5263158</td><td>0.5263158</td><td>0.5263158</td><td>0.5263158</td><td>0.5263158</td></tr>\n",
       "</tbody>\n",
       "</table>\n"
      ],
      "text/latex": [
       "A data.frame: 6 × 54\n",
       "\\begin{tabular}{r|lllllllllllllllllllllllllllllllllllllllllllllllllll}\n",
       "  & tld & reseller\\_geo & reg\\_arpt\\_slab & reseller & reseller\\_country & domain\\_id & renewal\\_type & renewed\\_count & expiry\\_date & domain & creation\\_date & status & registrar & region & reg\\_period & registrant\\_country & renewal\\_status & renew\\_mbg & renew\\_type & autorenew\\_type & renew\\_date & renew\\_registrar & renew\\_reseller & reg\\_revenue & reg\\_arpt & ⋯ & tld\\_registrar\\_index & sld & sld\\_type & sld\\_length & sld\\_type2 & day\\_domains & log\\_reg\\_arpt & gibb\\_score & pattern & cluster & pattern\\_score & pattern\\_domain\\_count & pred\\_df\\_seg2\\_glm & pred\\_df\\_seg\\_glm & pred\\_df\\_agg\\_glm & pred\\_df\\_seg2\\_rf & pred\\_df\\_seg\\_rf & pred\\_df\\_agg\\_rf & renewal\\_rate & pred\\_df\\_seg2\\_glm\\_fb & pred\\_df\\_seg\\_glm\\_fb & pred\\_df\\_agg\\_glm\\_fb & pred\\_df\\_seg2\\_rf\\_fb & pred\\_df\\_seg\\_rf\\_fb & pred\\_df\\_agg\\_rf\\_fb\\\\\n",
       "  & <fct> & <fct> & <fct> & <chr> & <chr> & <int> & <chr> & <int> & <date> & <chr> & <date> & <chr> & <chr> & <chr> & <int> & <chr> & <fct> & <int> & <chr> & <chr> & <date> & <chr> & <chr> & <dbl> & <dbl> & ⋯ & <chr> & <chr> & <fct> & <int> & <chr> & <int> & <dbl> & <dbl> & <chr> & <chr> & <dbl> & <int> & <dbl> & <dbl> & <dbl> & <dbl> & <dbl> & <dbl> & <dbl> & <dbl> & <dbl> & <dbl> & <dbl> & <dbl> & <dbl>\\\\\n",
       "\\hline\n",
       "\t1 & fun & Australia \\& New Zealand & (3,5{]}   & instra corporation & Australia & 104893671 & FirstTime & 1 & 2020-05-25 & laur.fun          & 2019-05-25 & Active & instra corporation & Non China & 1 & NA & Not Renewd & 0 & auto-renewal & NA         & 2020-05-25 & Instra Corporation & Instra Corporation &  4 &  4 & ⋯ & funinstra corporation & laur          & l &  4 & 4l  & 1 & 1.386294 & 5.48 & laur          & 1 & 1 & 1 &        NA & 0.000 & 0.151 & 0.00000 & 0.1851779 & 0.3718108 & 0.2500000 &        NA & 0.2500000 & 0.2500000 & 0.2500000 & 0.2500000 & 0.2500000\\\\\n",
       "\t2 & fun & Australia \\& New Zealand & (3,5{]}   & instra corporation & Australia &  99540944 & FirstTime & 1 & 2020-04-10 & oferty.fun        & 2019-04-10 & Active & instra corporation & Non China & 1 & NA & Not Renewd & 0 & auto-renewal & unrealized & 2020-04-10 & Instra Corporation & Instra Corporation &  4 &  4 & ⋯ & funinstra corporation & oferty        & l &  6 & 6l  & 1 & 1.386294 & 6.03 & oferty        & 1 & 1 & 1 &        NA & 0.000 & 0.146 & 0.00000 & 0.2157494 & 0.3943426 & 0.2500000 &        NA & 0.2500000 & 0.2500000 & 0.2500000 & 0.2500000 & 0.2500000\\\\\n",
       "\t3 & fun & Australia \\& New Zealand & (5,10{]}  & crazy domains      & Australia &  62376247 & FirstTime & 1 & 2020-03-07 & tennisladder.fun  & 2018-03-07 & Active & crazy domains      & Non China & 2 & NA & Not Renewd & 0 & auto-renewal & unrealized & 2020-03-07 & Crazy Domains      & Crazy Domains      & 18 &  9 & ⋯ & funcrazy domains      & tennisladder  & l & 12 & 12l & 1 & 2.197225 & 4.85 & tennisladder  & 1 & 1 & 1 & 1.0000000 & 0.400 & 0.334 & 0.42460 & 0.5788189 & 0.6221085 & 0.5000000 & 0.5000000 & 0.5000000 & 0.5000000 & 0.5000000 & 0.5000000 & 0.5000000\\\\\n",
       "\t4 & fun & Australia \\& New Zealand & (10,15{]} & ventraip           & Australia &  95252714 & FirstTime & 1 & 2020-03-03 & letterific.fun    & 2019-03-03 & Active & synergy wholesale  & Non China & 1 & NA & Renewed    & 0 & renewal      & NA         & 2020-02-19 & SYNERGY WHOLESALE  & VentraIP           & 15 & 15 & ⋯ & funventraip           & letterific    & l & 10 & 10l & 1 & 2.708050 & 5.97 & letterific    & 1 & 1 & 1 &        NA &    NA &    NA &      NA &        NA &        NA & 0.3333333 &        NA &        NA &        NA &        NA &        NA &        NA\\\\\n",
       "\t5 & fun & Canada                  & (5,10{]}  & shopify            & Canada    &  98381634 & FirstTime & 1 & 2020-03-29 & abtractstore.fun  & 2019-03-29 & Active & tucows             & Non China & 1 & NA & Not Renewd & 0 & auto-renewal & unrealized & 2020-03-29 & Tucows             & Shopify            &  8 &  8 & ⋯ & funshopify            & abtractstore  & l & 12 & 12l & 1 & 2.079442 & 5.45 & abtractstore  & 1 & 1 & 1 & 0.2172645 & 0.277 & 0.067 & 0.28220 & 0.2351863 & 0.2068615 & 0.5263158 & 0.5263158 & 0.5263158 & 0.5263158 & 0.5263158 & 0.5263158 & 0.5263158\\\\\n",
       "\t6 & fun & Canada                  & (5,10{]}  & hover              & Canada    & 104937931 & FirstTime & 1 & 2020-05-26 & futurefantasy.fun & 2019-05-26 & Active & tucows             & Non China & 1 & NA & Renewed    & 0 & renewal      & NA         & 2020-05-25 & Tucows             & Hover              &  8 &  8 & ⋯ & funhover              & futurefantasy & l & 13 & 13l & 1 & 2.079442 & 5.61 & futurefantasy & 1 & 1 & 1 & 0.6261119 & 0.624 & 0.267 & 0.59825 & 0.5677353 & 0.4933172 & 0.5263158 & 0.5263158 & 0.5263158 & 0.5263158 & 0.5263158 & 0.5263158 & 0.5263158\\\\\n",
       "\\end{tabular}\n"
      ],
      "text/markdown": [
       "\n",
       "A data.frame: 6 × 54\n",
       "\n",
       "| <!--/--> | tld &lt;fct&gt; | reseller_geo &lt;fct&gt; | reg_arpt_slab &lt;fct&gt; | reseller &lt;chr&gt; | reseller_country &lt;chr&gt; | domain_id &lt;int&gt; | renewal_type &lt;chr&gt; | renewed_count &lt;int&gt; | expiry_date &lt;date&gt; | domain &lt;chr&gt; | creation_date &lt;date&gt; | status &lt;chr&gt; | registrar &lt;chr&gt; | region &lt;chr&gt; | reg_period &lt;int&gt; | registrant_country &lt;chr&gt; | renewal_status &lt;fct&gt; | renew_mbg &lt;int&gt; | renew_type &lt;chr&gt; | autorenew_type &lt;chr&gt; | renew_date &lt;date&gt; | renew_registrar &lt;chr&gt; | renew_reseller &lt;chr&gt; | reg_revenue &lt;dbl&gt; | reg_arpt &lt;dbl&gt; | ⋯ ⋯ | tld_registrar_index &lt;chr&gt; | sld &lt;chr&gt; | sld_type &lt;fct&gt; | sld_length &lt;int&gt; | sld_type2 &lt;chr&gt; | day_domains &lt;int&gt; | log_reg_arpt &lt;dbl&gt; | gibb_score &lt;dbl&gt; | pattern &lt;chr&gt; | cluster &lt;chr&gt; | pattern_score &lt;dbl&gt; | pattern_domain_count &lt;int&gt; | pred_df_seg2_glm &lt;dbl&gt; | pred_df_seg_glm &lt;dbl&gt; | pred_df_agg_glm &lt;dbl&gt; | pred_df_seg2_rf &lt;dbl&gt; | pred_df_seg_rf &lt;dbl&gt; | pred_df_agg_rf &lt;dbl&gt; | renewal_rate &lt;dbl&gt; | pred_df_seg2_glm_fb &lt;dbl&gt; | pred_df_seg_glm_fb &lt;dbl&gt; | pred_df_agg_glm_fb &lt;dbl&gt; | pred_df_seg2_rf_fb &lt;dbl&gt; | pred_df_seg_rf_fb &lt;dbl&gt; | pred_df_agg_rf_fb &lt;dbl&gt; |\n",
       "|---|---|---|---|---|---|---|---|---|---|---|---|---|---|---|---|---|---|---|---|---|---|---|---|---|---|---|---|---|---|---|---|---|---|---|---|---|---|---|---|---|---|---|---|---|---|---|---|---|---|---|---|\n",
       "| 1 | fun | Australia &amp; New Zealand | (3,5]   | instra corporation | Australia | 104893671 | FirstTime | 1 | 2020-05-25 | laur.fun          | 2019-05-25 | Active | instra corporation | Non China | 1 | NA | Not Renewd | 0 | auto-renewal | NA         | 2020-05-25 | Instra Corporation | Instra Corporation |  4 |  4 | ⋯ | funinstra corporation | laur          | l |  4 | 4l  | 1 | 1.386294 | 5.48 | laur          | 1 | 1 | 1 |        NA | 0.000 | 0.151 | 0.00000 | 0.1851779 | 0.3718108 | 0.2500000 |        NA | 0.2500000 | 0.2500000 | 0.2500000 | 0.2500000 | 0.2500000 |\n",
       "| 2 | fun | Australia &amp; New Zealand | (3,5]   | instra corporation | Australia |  99540944 | FirstTime | 1 | 2020-04-10 | oferty.fun        | 2019-04-10 | Active | instra corporation | Non China | 1 | NA | Not Renewd | 0 | auto-renewal | unrealized | 2020-04-10 | Instra Corporation | Instra Corporation |  4 |  4 | ⋯ | funinstra corporation | oferty        | l |  6 | 6l  | 1 | 1.386294 | 6.03 | oferty        | 1 | 1 | 1 |        NA | 0.000 | 0.146 | 0.00000 | 0.2157494 | 0.3943426 | 0.2500000 |        NA | 0.2500000 | 0.2500000 | 0.2500000 | 0.2500000 | 0.2500000 |\n",
       "| 3 | fun | Australia &amp; New Zealand | (5,10]  | crazy domains      | Australia |  62376247 | FirstTime | 1 | 2020-03-07 | tennisladder.fun  | 2018-03-07 | Active | crazy domains      | Non China | 2 | NA | Not Renewd | 0 | auto-renewal | unrealized | 2020-03-07 | Crazy Domains      | Crazy Domains      | 18 |  9 | ⋯ | funcrazy domains      | tennisladder  | l | 12 | 12l | 1 | 2.197225 | 4.85 | tennisladder  | 1 | 1 | 1 | 1.0000000 | 0.400 | 0.334 | 0.42460 | 0.5788189 | 0.6221085 | 0.5000000 | 0.5000000 | 0.5000000 | 0.5000000 | 0.5000000 | 0.5000000 | 0.5000000 |\n",
       "| 4 | fun | Australia &amp; New Zealand | (10,15] | ventraip           | Australia |  95252714 | FirstTime | 1 | 2020-03-03 | letterific.fun    | 2019-03-03 | Active | synergy wholesale  | Non China | 1 | NA | Renewed    | 0 | renewal      | NA         | 2020-02-19 | SYNERGY WHOLESALE  | VentraIP           | 15 | 15 | ⋯ | funventraip           | letterific    | l | 10 | 10l | 1 | 2.708050 | 5.97 | letterific    | 1 | 1 | 1 |        NA |    NA |    NA |      NA |        NA |        NA | 0.3333333 |        NA |        NA |        NA |        NA |        NA |        NA |\n",
       "| 5 | fun | Canada                  | (5,10]  | shopify            | Canada    |  98381634 | FirstTime | 1 | 2020-03-29 | abtractstore.fun  | 2019-03-29 | Active | tucows             | Non China | 1 | NA | Not Renewd | 0 | auto-renewal | unrealized | 2020-03-29 | Tucows             | Shopify            |  8 |  8 | ⋯ | funshopify            | abtractstore  | l | 12 | 12l | 1 | 2.079442 | 5.45 | abtractstore  | 1 | 1 | 1 | 0.2172645 | 0.277 | 0.067 | 0.28220 | 0.2351863 | 0.2068615 | 0.5263158 | 0.5263158 | 0.5263158 | 0.5263158 | 0.5263158 | 0.5263158 | 0.5263158 |\n",
       "| 6 | fun | Canada                  | (5,10]  | hover              | Canada    | 104937931 | FirstTime | 1 | 2020-05-26 | futurefantasy.fun | 2019-05-26 | Active | tucows             | Non China | 1 | NA | Renewed    | 0 | renewal      | NA         | 2020-05-25 | Tucows             | Hover              |  8 |  8 | ⋯ | funhover              | futurefantasy | l | 13 | 13l | 1 | 2.079442 | 5.61 | futurefantasy | 1 | 1 | 1 | 0.6261119 | 0.624 | 0.267 | 0.59825 | 0.5677353 | 0.4933172 | 0.5263158 | 0.5263158 | 0.5263158 | 0.5263158 | 0.5263158 | 0.5263158 | 0.5263158 |\n",
       "\n"
      ],
      "text/plain": [
       "  tld reseller_geo            reg_arpt_slab reseller           reseller_country\n",
       "1 fun Australia & New Zealand (3,5]         instra corporation Australia       \n",
       "2 fun Australia & New Zealand (3,5]         instra corporation Australia       \n",
       "3 fun Australia & New Zealand (5,10]        crazy domains      Australia       \n",
       "4 fun Australia & New Zealand (10,15]       ventraip           Australia       \n",
       "5 fun Canada                  (5,10]        shopify            Canada          \n",
       "6 fun Canada                  (5,10]        hover              Canada          \n",
       "  domain_id renewal_type renewed_count expiry_date domain           \n",
       "1 104893671 FirstTime    1             2020-05-25  laur.fun         \n",
       "2  99540944 FirstTime    1             2020-04-10  oferty.fun       \n",
       "3  62376247 FirstTime    1             2020-03-07  tennisladder.fun \n",
       "4  95252714 FirstTime    1             2020-03-03  letterific.fun   \n",
       "5  98381634 FirstTime    1             2020-03-29  abtractstore.fun \n",
       "6 104937931 FirstTime    1             2020-05-26  futurefantasy.fun\n",
       "  creation_date status registrar          region    reg_period\n",
       "1 2019-05-25    Active instra corporation Non China 1         \n",
       "2 2019-04-10    Active instra corporation Non China 1         \n",
       "3 2018-03-07    Active crazy domains      Non China 2         \n",
       "4 2019-03-03    Active synergy wholesale  Non China 1         \n",
       "5 2019-03-29    Active tucows             Non China 1         \n",
       "6 2019-05-26    Active tucows             Non China 1         \n",
       "  registrant_country renewal_status renew_mbg renew_type   autorenew_type\n",
       "1 NA                 Not Renewd     0         auto-renewal NA            \n",
       "2 NA                 Not Renewd     0         auto-renewal unrealized    \n",
       "3 NA                 Not Renewd     0         auto-renewal unrealized    \n",
       "4 NA                 Renewed        0         renewal      NA            \n",
       "5 NA                 Not Renewd     0         auto-renewal unrealized    \n",
       "6 NA                 Renewed        0         renewal      NA            \n",
       "  renew_date renew_registrar    renew_reseller     reg_revenue reg_arpt ⋯\n",
       "1 2020-05-25 Instra Corporation Instra Corporation  4           4       ⋯\n",
       "2 2020-04-10 Instra Corporation Instra Corporation  4           4       ⋯\n",
       "3 2020-03-07 Crazy Domains      Crazy Domains      18           9       ⋯\n",
       "4 2020-02-19 SYNERGY WHOLESALE  VentraIP           15          15       ⋯\n",
       "5 2020-03-29 Tucows             Shopify             8           8       ⋯\n",
       "6 2020-05-25 Tucows             Hover               8           8       ⋯\n",
       "  tld_registrar_index   sld           sld_type sld_length sld_type2 day_domains\n",
       "1 funinstra corporation laur          l         4         4l        1          \n",
       "2 funinstra corporation oferty        l         6         6l        1          \n",
       "3 funcrazy domains      tennisladder  l        12         12l       1          \n",
       "4 funventraip           letterific    l        10         10l       1          \n",
       "5 funshopify            abtractstore  l        12         12l       1          \n",
       "6 funhover              futurefantasy l        13         13l       1          \n",
       "  log_reg_arpt gibb_score pattern       cluster pattern_score\n",
       "1 1.386294     5.48       laur          1       1            \n",
       "2 1.386294     6.03       oferty        1       1            \n",
       "3 2.197225     4.85       tennisladder  1       1            \n",
       "4 2.708050     5.97       letterific    1       1            \n",
       "5 2.079442     5.45       abtractstore  1       1            \n",
       "6 2.079442     5.61       futurefantasy 1       1            \n",
       "  pattern_domain_count pred_df_seg2_glm pred_df_seg_glm pred_df_agg_glm\n",
       "1 1                           NA        0.000           0.151          \n",
       "2 1                           NA        0.000           0.146          \n",
       "3 1                    1.0000000        0.400           0.334          \n",
       "4 1                           NA           NA              NA          \n",
       "5 1                    0.2172645        0.277           0.067          \n",
       "6 1                    0.6261119        0.624           0.267          \n",
       "  pred_df_seg2_rf pred_df_seg_rf pred_df_agg_rf renewal_rate\n",
       "1 0.00000         0.1851779      0.3718108      0.2500000   \n",
       "2 0.00000         0.2157494      0.3943426      0.2500000   \n",
       "3 0.42460         0.5788189      0.6221085      0.5000000   \n",
       "4      NA                NA             NA      0.3333333   \n",
       "5 0.28220         0.2351863      0.2068615      0.5263158   \n",
       "6 0.59825         0.5677353      0.4933172      0.5263158   \n",
       "  pred_df_seg2_glm_fb pred_df_seg_glm_fb pred_df_agg_glm_fb pred_df_seg2_rf_fb\n",
       "1        NA           0.2500000          0.2500000          0.2500000         \n",
       "2        NA           0.2500000          0.2500000          0.2500000         \n",
       "3 0.5000000           0.5000000          0.5000000          0.5000000         \n",
       "4        NA                  NA                 NA                 NA         \n",
       "5 0.5263158           0.5263158          0.5263158          0.5263158         \n",
       "6 0.5263158           0.5263158          0.5263158          0.5263158         \n",
       "  pred_df_seg_rf_fb pred_df_agg_rf_fb\n",
       "1 0.2500000         0.2500000        \n",
       "2 0.2500000         0.2500000        \n",
       "3 0.5000000         0.5000000        \n",
       "4        NA                NA        \n",
       "5 0.5263158         0.5263158        \n",
       "6 0.5263158         0.5263158        "
      ]
     },
     "metadata": {},
     "output_type": "display_data"
    }
   ],
   "source": [
    "head(test_predictions_fallback_df_2)"
   ]
  },
  {
   "cell_type": "code",
   "execution_count": 104,
   "metadata": {},
   "outputs": [],
   "source": [
    "lift_list_2 <- list()\n",
    "auc_list_2 <- list()\n",
    "\n",
    "fallback_lift <- chart_lift(pred_df=test_predictions_fallback_df_2,\n",
    "                        dep_var = \"renewal_status\",\n",
    "                        pred_var = \"renewal_rate\") \n",
    "\n",
    "lift_list_2[[\"fallback\"]] <- fallback_lift\n",
    "auc_list_2[[\"fallback\"]] <- calc_auc(lift_df=fallback_lift)\n",
    "\n",
    "models <- c('pred_df_seg2_glm_fb',\t'pred_df_seg_glm_fb',\t'pred_df_agg_glm_fb',\t'pred_df_seg2_rf_fb',\t\n",
    "            'pred_df_seg_rf_fb',\t'pred_df_agg_rf_fb')\n",
    "\n",
    "\n",
    "for (model in models){\n",
    "    model_lift <- chart_lift(pred_df=test_predictions_fallback_df_2,\n",
    "                        dep_var = \"renewal_status\",\n",
    "                        pred_var = model) \n",
    "    \n",
    "    fallback_lift <- merge(fallback_lift, model_lift, by=c(\"P\"),all= TRUE, \n",
    "                           suffixes = c(\"\",\n",
    "                                        paste(\"_\",gsub(\"pred_df_\", \"\", model)) ))\n",
    "    \n",
    "    lift_list_2[[model]] <- model_lift\n",
    "    auc_list_2[[model]] <- calc_auc(lift_df=model_lift)\n",
    "}\n",
    "\n",
    "lift_df_2 <- fallback_lift"
   ]
  },
  {
   "cell_type": "code",
   "execution_count": 105,
   "metadata": {},
   "outputs": [
    {
     "data": {
      "image/png": "[encoded data removed]",
      "text/plain": [
       "plot without title"
      ]
     },
     "metadata": {
      "image/png": {
       "height": 420,
       "width": 420
      },
      "text/plain": {
       "height": 420,
       "width": 420
      }
     },
     "output_type": "display_data"
    }
   ],
   "source": [
    "plot_multigains(            lift_df_list=lift_list,\n",
    "                             auc_list = auc_list,\n",
    "                             prop_positive = 0.09149351) "
   ]
  },
  {
   "cell_type": "code",
   "execution_count": 107,
   "metadata": {},
   "outputs": [
    {
     "data": {
      "image/png": "[encoded data removed]",
      "text/plain": [
       "plot without title"
      ]
     },
     "metadata": {
      "image/png": {
       "height": 420,
       "width": 420
      },
      "text/plain": {
       "height": 420,
       "width": 420
      }
     },
     "output_type": "display_data"
    }
   ],
   "source": [
    "plot_multigains(            lift_df_list=lift_list_2,\n",
    "                             auc_list = auc_list_2,\n",
    "                             prop_positive = 0.09149351) "
   ]
  },
  {
   "cell_type": "markdown",
   "metadata": {},
   "source": [
    "# Generate Metrics @ Tld-Reseller level "
   ]
  },
  {
   "cell_type": "code",
   "execution_count": 108,
   "metadata": {},
   "outputs": [
    {
     "data": {
      "text/html": [
       "<table>\n",
       "<caption>A data.frame: 6 × 54</caption>\n",
       "<thead>\n",
       "\t<tr><th></th><th scope=col>tld</th><th scope=col>reseller_geo</th><th scope=col>reg_arpt_slab</th><th scope=col>reseller</th><th scope=col>reseller_country</th><th scope=col>domain_id</th><th scope=col>renewal_type</th><th scope=col>renewed_count</th><th scope=col>expiry_date</th><th scope=col>domain</th><th scope=col>creation_date</th><th scope=col>status</th><th scope=col>registrar</th><th scope=col>region</th><th scope=col>reg_period</th><th scope=col>registrant_country</th><th scope=col>renewal_status</th><th scope=col>renew_mbg</th><th scope=col>renew_type</th><th scope=col>autorenew_type</th><th scope=col>renew_date</th><th scope=col>renew_registrar</th><th scope=col>renew_reseller</th><th scope=col>reg_revenue</th><th scope=col>reg_arpt</th><th scope=col>⋯</th><th scope=col>tld_registrar_index</th><th scope=col>sld</th><th scope=col>sld_type</th><th scope=col>sld_length</th><th scope=col>sld_type2</th><th scope=col>day_domains</th><th scope=col>log_reg_arpt</th><th scope=col>gibb_score</th><th scope=col>pattern</th><th scope=col>cluster</th><th scope=col>pattern_score</th><th scope=col>pattern_domain_count</th><th scope=col>pred_df_seg2_glm</th><th scope=col>pred_df_seg_glm</th><th scope=col>pred_df_agg_glm</th><th scope=col>pred_df_seg2_rf</th><th scope=col>pred_df_seg_rf</th><th scope=col>pred_df_agg_rf</th><th scope=col>renewal_rate</th><th scope=col>pred_df_seg2_glm_fb</th><th scope=col>pred_df_seg_glm_fb</th><th scope=col>pred_df_agg_glm_fb</th><th scope=col>pred_df_seg2_rf_fb</th><th scope=col>pred_df_seg_rf_fb</th><th scope=col>pred_df_agg_rf_fb</th></tr>\n",
       "\t<tr><th></th><th scope=col>&lt;fct&gt;</th><th scope=col>&lt;fct&gt;</th><th scope=col>&lt;fct&gt;</th><th scope=col>&lt;chr&gt;</th><th scope=col>&lt;chr&gt;</th><th scope=col>&lt;int&gt;</th><th scope=col>&lt;chr&gt;</th><th scope=col>&lt;int&gt;</th><th scope=col>&lt;date&gt;</th><th scope=col>&lt;chr&gt;</th><th scope=col>&lt;date&gt;</th><th scope=col>&lt;chr&gt;</th><th scope=col>&lt;chr&gt;</th><th scope=col>&lt;chr&gt;</th><th scope=col>&lt;int&gt;</th><th scope=col>&lt;chr&gt;</th><th scope=col>&lt;fct&gt;</th><th scope=col>&lt;int&gt;</th><th scope=col>&lt;chr&gt;</th><th scope=col>&lt;chr&gt;</th><th scope=col>&lt;date&gt;</th><th scope=col>&lt;chr&gt;</th><th scope=col>&lt;chr&gt;</th><th scope=col>&lt;dbl&gt;</th><th scope=col>&lt;dbl&gt;</th><th scope=col>⋯</th><th scope=col>&lt;chr&gt;</th><th scope=col>&lt;chr&gt;</th><th scope=col>&lt;fct&gt;</th><th scope=col>&lt;int&gt;</th><th scope=col>&lt;chr&gt;</th><th scope=col>&lt;int&gt;</th><th scope=col>&lt;dbl&gt;</th><th scope=col>&lt;dbl&gt;</th><th scope=col>&lt;chr&gt;</th><th scope=col>&lt;chr&gt;</th><th scope=col>&lt;dbl&gt;</th><th scope=col>&lt;int&gt;</th><th scope=col>&lt;dbl&gt;</th><th scope=col>&lt;dbl&gt;</th><th scope=col>&lt;dbl&gt;</th><th scope=col>&lt;dbl&gt;</th><th scope=col>&lt;dbl&gt;</th><th scope=col>&lt;dbl&gt;</th><th scope=col>&lt;dbl&gt;</th><th scope=col>&lt;dbl&gt;</th><th scope=col>&lt;dbl&gt;</th><th scope=col>&lt;dbl&gt;</th><th scope=col>&lt;dbl&gt;</th><th scope=col>&lt;dbl&gt;</th><th scope=col>&lt;dbl&gt;</th></tr>\n",
       "</thead>\n",
       "<tbody>\n",
       "\t<tr><th scope=row>1</th><td>fun</td><td>Australia &amp; New Zealand</td><td><span style=white-space:pre-wrap>(3,5]  </span></td><td>instra corporation</td><td>Australia</td><td>104893671</td><td>FirstTime</td><td>1</td><td>2020-05-25</td><td><span style=white-space:pre-wrap>laur.fun         </span></td><td>2019-05-25</td><td>Active</td><td>instra corporation</td><td>Non China</td><td>1</td><td>NA</td><td>Not Renewd</td><td>0</td><td>auto-renewal</td><td><span style=white-space:pre-wrap>NA        </span></td><td>2020-05-25</td><td>Instra Corporation</td><td>Instra Corporation</td><td> 4</td><td> 4</td><td>⋯</td><td>funinstra corporation</td><td><span style=white-space:pre-wrap>laur         </span></td><td>l</td><td> 4</td><td>4l </td><td>1</td><td>1.386294</td><td>5.48</td><td><span style=white-space:pre-wrap>laur         </span></td><td>1</td><td>1</td><td>1</td><td><span style=white-space:pre-wrap>       NA</span></td><td>0.000</td><td>0.151</td><td>0.00000</td><td>0.1851779</td><td>0.3718108</td><td>0.2500000</td><td><span style=white-space:pre-wrap>       NA</span></td><td>0.2500000</td><td>0.2500000</td><td>0.2500000</td><td>0.2500000</td><td>0.2500000</td></tr>\n",
       "\t<tr><th scope=row>2</th><td>fun</td><td>Australia &amp; New Zealand</td><td><span style=white-space:pre-wrap>(3,5]  </span></td><td>instra corporation</td><td>Australia</td><td> 99540944</td><td>FirstTime</td><td>1</td><td>2020-04-10</td><td><span style=white-space:pre-wrap>oferty.fun       </span></td><td>2019-04-10</td><td>Active</td><td>instra corporation</td><td>Non China</td><td>1</td><td>NA</td><td>Not Renewd</td><td>0</td><td>auto-renewal</td><td>unrealized</td><td>2020-04-10</td><td>Instra Corporation</td><td>Instra Corporation</td><td> 4</td><td> 4</td><td>⋯</td><td>funinstra corporation</td><td><span style=white-space:pre-wrap>oferty       </span></td><td>l</td><td> 6</td><td>6l </td><td>1</td><td>1.386294</td><td>6.03</td><td><span style=white-space:pre-wrap>oferty       </span></td><td>1</td><td>1</td><td>1</td><td><span style=white-space:pre-wrap>       NA</span></td><td>0.000</td><td>0.146</td><td>0.00000</td><td>0.2157494</td><td>0.3943426</td><td>0.2500000</td><td><span style=white-space:pre-wrap>       NA</span></td><td>0.2500000</td><td>0.2500000</td><td>0.2500000</td><td>0.2500000</td><td>0.2500000</td></tr>\n",
       "\t<tr><th scope=row>3</th><td>fun</td><td>Australia &amp; New Zealand</td><td>(5,10] </td><td><span style=white-space:pre-wrap>crazy domains     </span></td><td>Australia</td><td> 62376247</td><td>FirstTime</td><td>1</td><td>2020-03-07</td><td>tennisladder.fun </td><td>2018-03-07</td><td>Active</td><td><span style=white-space:pre-wrap>crazy domains     </span></td><td>Non China</td><td>2</td><td>NA</td><td>Not Renewd</td><td>0</td><td>auto-renewal</td><td>unrealized</td><td>2020-03-07</td><td><span style=white-space:pre-wrap>Crazy Domains     </span></td><td><span style=white-space:pre-wrap>Crazy Domains     </span></td><td>18</td><td> 9</td><td>⋯</td><td><span style=white-space:pre-wrap>funcrazy domains     </span></td><td>tennisladder </td><td>l</td><td>12</td><td>12l</td><td>1</td><td>2.197225</td><td>4.85</td><td>tennisladder </td><td>1</td><td>1</td><td>1</td><td>1.0000000</td><td>0.400</td><td>0.334</td><td>0.42460</td><td>0.5788189</td><td>0.6221085</td><td>0.5000000</td><td>0.5000000</td><td>0.5000000</td><td>0.5000000</td><td>0.5000000</td><td>0.5000000</td><td>0.5000000</td></tr>\n",
       "\t<tr><th scope=row>4</th><td>fun</td><td>Australia &amp; New Zealand</td><td>(10,15]</td><td><span style=white-space:pre-wrap>ventraip          </span></td><td>Australia</td><td> 95252714</td><td>FirstTime</td><td>1</td><td>2020-03-03</td><td><span style=white-space:pre-wrap>letterific.fun   </span></td><td>2019-03-03</td><td>Active</td><td>synergy wholesale </td><td>Non China</td><td>1</td><td>NA</td><td><span style=white-space:pre-wrap>Renewed   </span></td><td>0</td><td><span style=white-space:pre-wrap>renewal     </span></td><td><span style=white-space:pre-wrap>NA        </span></td><td>2020-02-19</td><td>SYNERGY WHOLESALE </td><td><span style=white-space:pre-wrap>VentraIP          </span></td><td>15</td><td>15</td><td>⋯</td><td><span style=white-space:pre-wrap>funventraip          </span></td><td><span style=white-space:pre-wrap>letterific   </span></td><td>l</td><td>10</td><td>10l</td><td>1</td><td>2.708050</td><td>5.97</td><td><span style=white-space:pre-wrap>letterific   </span></td><td>1</td><td>1</td><td>1</td><td><span style=white-space:pre-wrap>       NA</span></td><td><span style=white-space:pre-wrap>   NA</span></td><td><span style=white-space:pre-wrap>   NA</span></td><td><span style=white-space:pre-wrap>     NA</span></td><td><span style=white-space:pre-wrap>       NA</span></td><td><span style=white-space:pre-wrap>       NA</span></td><td>0.3333333</td><td><span style=white-space:pre-wrap>       NA</span></td><td><span style=white-space:pre-wrap>       NA</span></td><td><span style=white-space:pre-wrap>       NA</span></td><td><span style=white-space:pre-wrap>       NA</span></td><td><span style=white-space:pre-wrap>       NA</span></td><td><span style=white-space:pre-wrap>       NA</span></td></tr>\n",
       "\t<tr><th scope=row>5</th><td>fun</td><td>Canada                 </td><td>(5,10] </td><td>shopify           </td><td>Canada   </td><td> 98381634</td><td>FirstTime</td><td>1</td><td>2020-03-29</td><td>abtractstore.fun </td><td>2019-03-29</td><td>Active</td><td>tucows            </td><td>Non China</td><td>1</td><td>NA</td><td>Not Renewd</td><td>0</td><td>auto-renewal</td><td>unrealized</td><td>2020-03-29</td><td>Tucows            </td><td>Shopify           </td><td> 8</td><td> 8</td><td>⋯</td><td>funshopify           </td><td>abtractstore </td><td>l</td><td>12</td><td>12l</td><td>1</td><td>2.079442</td><td>5.45</td><td>abtractstore </td><td>1</td><td>1</td><td>1</td><td>0.2172645</td><td>0.277</td><td>0.067</td><td>0.28220</td><td>0.2351863</td><td>0.2068615</td><td>0.5263158</td><td>0.5263158</td><td>0.5263158</td><td>0.5263158</td><td>0.5263158</td><td>0.5263158</td><td>0.5263158</td></tr>\n",
       "\t<tr><th scope=row>6</th><td>fun</td><td>Canada                 </td><td>(5,10] </td><td>hover             </td><td>Canada   </td><td>104937931</td><td>FirstTime</td><td>1</td><td>2020-05-26</td><td>futurefantasy.fun</td><td>2019-05-26</td><td>Active</td><td>tucows            </td><td>Non China</td><td>1</td><td>NA</td><td>Renewed   </td><td>0</td><td>renewal     </td><td>NA        </td><td>2020-05-25</td><td>Tucows            </td><td>Hover             </td><td> 8</td><td> 8</td><td>⋯</td><td>funhover             </td><td>futurefantasy</td><td>l</td><td>13</td><td>13l</td><td>1</td><td>2.079442</td><td>5.61</td><td>futurefantasy</td><td>1</td><td>1</td><td>1</td><td>0.6261119</td><td>0.624</td><td>0.267</td><td>0.59825</td><td>0.5677353</td><td>0.4933172</td><td>0.5263158</td><td>0.5263158</td><td>0.5263158</td><td>0.5263158</td><td>0.5263158</td><td>0.5263158</td><td>0.5263158</td></tr>\n",
       "</tbody>\n",
       "</table>\n"
      ],
      "text/latex": [
       "A data.frame: 6 × 54\n",
       "\\begin{tabular}{r|lllllllllllllllllllllllllllllllllllllllllllllllllll}\n",
       "  & tld & reseller\\_geo & reg\\_arpt\\_slab & reseller & reseller\\_country & domain\\_id & renewal\\_type & renewed\\_count & expiry\\_date & domain & creation\\_date & status & registrar & region & reg\\_period & registrant\\_country & renewal\\_status & renew\\_mbg & renew\\_type & autorenew\\_type & renew\\_date & renew\\_registrar & renew\\_reseller & reg\\_revenue & reg\\_arpt & ⋯ & tld\\_registrar\\_index & sld & sld\\_type & sld\\_length & sld\\_type2 & day\\_domains & log\\_reg\\_arpt & gibb\\_score & pattern & cluster & pattern\\_score & pattern\\_domain\\_count & pred\\_df\\_seg2\\_glm & pred\\_df\\_seg\\_glm & pred\\_df\\_agg\\_glm & pred\\_df\\_seg2\\_rf & pred\\_df\\_seg\\_rf & pred\\_df\\_agg\\_rf & renewal\\_rate & pred\\_df\\_seg2\\_glm\\_fb & pred\\_df\\_seg\\_glm\\_fb & pred\\_df\\_agg\\_glm\\_fb & pred\\_df\\_seg2\\_rf\\_fb & pred\\_df\\_seg\\_rf\\_fb & pred\\_df\\_agg\\_rf\\_fb\\\\\n",
       "  & <fct> & <fct> & <fct> & <chr> & <chr> & <int> & <chr> & <int> & <date> & <chr> & <date> & <chr> & <chr> & <chr> & <int> & <chr> & <fct> & <int> & <chr> & <chr> & <date> & <chr> & <chr> & <dbl> & <dbl> & ⋯ & <chr> & <chr> & <fct> & <int> & <chr> & <int> & <dbl> & <dbl> & <chr> & <chr> & <dbl> & <int> & <dbl> & <dbl> & <dbl> & <dbl> & <dbl> & <dbl> & <dbl> & <dbl> & <dbl> & <dbl> & <dbl> & <dbl> & <dbl>\\\\\n",
       "\\hline\n",
       "\t1 & fun & Australia \\& New Zealand & (3,5{]}   & instra corporation & Australia & 104893671 & FirstTime & 1 & 2020-05-25 & laur.fun          & 2019-05-25 & Active & instra corporation & Non China & 1 & NA & Not Renewd & 0 & auto-renewal & NA         & 2020-05-25 & Instra Corporation & Instra Corporation &  4 &  4 & ⋯ & funinstra corporation & laur          & l &  4 & 4l  & 1 & 1.386294 & 5.48 & laur          & 1 & 1 & 1 &        NA & 0.000 & 0.151 & 0.00000 & 0.1851779 & 0.3718108 & 0.2500000 &        NA & 0.2500000 & 0.2500000 & 0.2500000 & 0.2500000 & 0.2500000\\\\\n",
       "\t2 & fun & Australia \\& New Zealand & (3,5{]}   & instra corporation & Australia &  99540944 & FirstTime & 1 & 2020-04-10 & oferty.fun        & 2019-04-10 & Active & instra corporation & Non China & 1 & NA & Not Renewd & 0 & auto-renewal & unrealized & 2020-04-10 & Instra Corporation & Instra Corporation &  4 &  4 & ⋯ & funinstra corporation & oferty        & l &  6 & 6l  & 1 & 1.386294 & 6.03 & oferty        & 1 & 1 & 1 &        NA & 0.000 & 0.146 & 0.00000 & 0.2157494 & 0.3943426 & 0.2500000 &        NA & 0.2500000 & 0.2500000 & 0.2500000 & 0.2500000 & 0.2500000\\\\\n",
       "\t3 & fun & Australia \\& New Zealand & (5,10{]}  & crazy domains      & Australia &  62376247 & FirstTime & 1 & 2020-03-07 & tennisladder.fun  & 2018-03-07 & Active & crazy domains      & Non China & 2 & NA & Not Renewd & 0 & auto-renewal & unrealized & 2020-03-07 & Crazy Domains      & Crazy Domains      & 18 &  9 & ⋯ & funcrazy domains      & tennisladder  & l & 12 & 12l & 1 & 2.197225 & 4.85 & tennisladder  & 1 & 1 & 1 & 1.0000000 & 0.400 & 0.334 & 0.42460 & 0.5788189 & 0.6221085 & 0.5000000 & 0.5000000 & 0.5000000 & 0.5000000 & 0.5000000 & 0.5000000 & 0.5000000\\\\\n",
       "\t4 & fun & Australia \\& New Zealand & (10,15{]} & ventraip           & Australia &  95252714 & FirstTime & 1 & 2020-03-03 & letterific.fun    & 2019-03-03 & Active & synergy wholesale  & Non China & 1 & NA & Renewed    & 0 & renewal      & NA         & 2020-02-19 & SYNERGY WHOLESALE  & VentraIP           & 15 & 15 & ⋯ & funventraip           & letterific    & l & 10 & 10l & 1 & 2.708050 & 5.97 & letterific    & 1 & 1 & 1 &        NA &    NA &    NA &      NA &        NA &        NA & 0.3333333 &        NA &        NA &        NA &        NA &        NA &        NA\\\\\n",
       "\t5 & fun & Canada                  & (5,10{]}  & shopify            & Canada    &  98381634 & FirstTime & 1 & 2020-03-29 & abtractstore.fun  & 2019-03-29 & Active & tucows             & Non China & 1 & NA & Not Renewd & 0 & auto-renewal & unrealized & 2020-03-29 & Tucows             & Shopify            &  8 &  8 & ⋯ & funshopify            & abtractstore  & l & 12 & 12l & 1 & 2.079442 & 5.45 & abtractstore  & 1 & 1 & 1 & 0.2172645 & 0.277 & 0.067 & 0.28220 & 0.2351863 & 0.2068615 & 0.5263158 & 0.5263158 & 0.5263158 & 0.5263158 & 0.5263158 & 0.5263158 & 0.5263158\\\\\n",
       "\t6 & fun & Canada                  & (5,10{]}  & hover              & Canada    & 104937931 & FirstTime & 1 & 2020-05-26 & futurefantasy.fun & 2019-05-26 & Active & tucows             & Non China & 1 & NA & Renewed    & 0 & renewal      & NA         & 2020-05-25 & Tucows             & Hover              &  8 &  8 & ⋯ & funhover              & futurefantasy & l & 13 & 13l & 1 & 2.079442 & 5.61 & futurefantasy & 1 & 1 & 1 & 0.6261119 & 0.624 & 0.267 & 0.59825 & 0.5677353 & 0.4933172 & 0.5263158 & 0.5263158 & 0.5263158 & 0.5263158 & 0.5263158 & 0.5263158 & 0.5263158\\\\\n",
       "\\end{tabular}\n"
      ],
      "text/markdown": [
       "\n",
       "A data.frame: 6 × 54\n",
       "\n",
       "| <!--/--> | tld &lt;fct&gt; | reseller_geo &lt;fct&gt; | reg_arpt_slab &lt;fct&gt; | reseller &lt;chr&gt; | reseller_country &lt;chr&gt; | domain_id &lt;int&gt; | renewal_type &lt;chr&gt; | renewed_count &lt;int&gt; | expiry_date &lt;date&gt; | domain &lt;chr&gt; | creation_date &lt;date&gt; | status &lt;chr&gt; | registrar &lt;chr&gt; | region &lt;chr&gt; | reg_period &lt;int&gt; | registrant_country &lt;chr&gt; | renewal_status &lt;fct&gt; | renew_mbg &lt;int&gt; | renew_type &lt;chr&gt; | autorenew_type &lt;chr&gt; | renew_date &lt;date&gt; | renew_registrar &lt;chr&gt; | renew_reseller &lt;chr&gt; | reg_revenue &lt;dbl&gt; | reg_arpt &lt;dbl&gt; | ⋯ ⋯ | tld_registrar_index &lt;chr&gt; | sld &lt;chr&gt; | sld_type &lt;fct&gt; | sld_length &lt;int&gt; | sld_type2 &lt;chr&gt; | day_domains &lt;int&gt; | log_reg_arpt &lt;dbl&gt; | gibb_score &lt;dbl&gt; | pattern &lt;chr&gt; | cluster &lt;chr&gt; | pattern_score &lt;dbl&gt; | pattern_domain_count &lt;int&gt; | pred_df_seg2_glm &lt;dbl&gt; | pred_df_seg_glm &lt;dbl&gt; | pred_df_agg_glm &lt;dbl&gt; | pred_df_seg2_rf &lt;dbl&gt; | pred_df_seg_rf &lt;dbl&gt; | pred_df_agg_rf &lt;dbl&gt; | renewal_rate &lt;dbl&gt; | pred_df_seg2_glm_fb &lt;dbl&gt; | pred_df_seg_glm_fb &lt;dbl&gt; | pred_df_agg_glm_fb &lt;dbl&gt; | pred_df_seg2_rf_fb &lt;dbl&gt; | pred_df_seg_rf_fb &lt;dbl&gt; | pred_df_agg_rf_fb &lt;dbl&gt; |\n",
       "|---|---|---|---|---|---|---|---|---|---|---|---|---|---|---|---|---|---|---|---|---|---|---|---|---|---|---|---|---|---|---|---|---|---|---|---|---|---|---|---|---|---|---|---|---|---|---|---|---|---|---|---|\n",
       "| 1 | fun | Australia &amp; New Zealand | (3,5]   | instra corporation | Australia | 104893671 | FirstTime | 1 | 2020-05-25 | laur.fun          | 2019-05-25 | Active | instra corporation | Non China | 1 | NA | Not Renewd | 0 | auto-renewal | NA         | 2020-05-25 | Instra Corporation | Instra Corporation |  4 |  4 | ⋯ | funinstra corporation | laur          | l |  4 | 4l  | 1 | 1.386294 | 5.48 | laur          | 1 | 1 | 1 |        NA | 0.000 | 0.151 | 0.00000 | 0.1851779 | 0.3718108 | 0.2500000 |        NA | 0.2500000 | 0.2500000 | 0.2500000 | 0.2500000 | 0.2500000 |\n",
       "| 2 | fun | Australia &amp; New Zealand | (3,5]   | instra corporation | Australia |  99540944 | FirstTime | 1 | 2020-04-10 | oferty.fun        | 2019-04-10 | Active | instra corporation | Non China | 1 | NA | Not Renewd | 0 | auto-renewal | unrealized | 2020-04-10 | Instra Corporation | Instra Corporation |  4 |  4 | ⋯ | funinstra corporation | oferty        | l |  6 | 6l  | 1 | 1.386294 | 6.03 | oferty        | 1 | 1 | 1 |        NA | 0.000 | 0.146 | 0.00000 | 0.2157494 | 0.3943426 | 0.2500000 |        NA | 0.2500000 | 0.2500000 | 0.2500000 | 0.2500000 | 0.2500000 |\n",
       "| 3 | fun | Australia &amp; New Zealand | (5,10]  | crazy domains      | Australia |  62376247 | FirstTime | 1 | 2020-03-07 | tennisladder.fun  | 2018-03-07 | Active | crazy domains      | Non China | 2 | NA | Not Renewd | 0 | auto-renewal | unrealized | 2020-03-07 | Crazy Domains      | Crazy Domains      | 18 |  9 | ⋯ | funcrazy domains      | tennisladder  | l | 12 | 12l | 1 | 2.197225 | 4.85 | tennisladder  | 1 | 1 | 1 | 1.0000000 | 0.400 | 0.334 | 0.42460 | 0.5788189 | 0.6221085 | 0.5000000 | 0.5000000 | 0.5000000 | 0.5000000 | 0.5000000 | 0.5000000 | 0.5000000 |\n",
       "| 4 | fun | Australia &amp; New Zealand | (10,15] | ventraip           | Australia |  95252714 | FirstTime | 1 | 2020-03-03 | letterific.fun    | 2019-03-03 | Active | synergy wholesale  | Non China | 1 | NA | Renewed    | 0 | renewal      | NA         | 2020-02-19 | SYNERGY WHOLESALE  | VentraIP           | 15 | 15 | ⋯ | funventraip           | letterific    | l | 10 | 10l | 1 | 2.708050 | 5.97 | letterific    | 1 | 1 | 1 |        NA |    NA |    NA |      NA |        NA |        NA | 0.3333333 |        NA |        NA |        NA |        NA |        NA |        NA |\n",
       "| 5 | fun | Canada                  | (5,10]  | shopify            | Canada    |  98381634 | FirstTime | 1 | 2020-03-29 | abtractstore.fun  | 2019-03-29 | Active | tucows             | Non China | 1 | NA | Not Renewd | 0 | auto-renewal | unrealized | 2020-03-29 | Tucows             | Shopify            |  8 |  8 | ⋯ | funshopify            | abtractstore  | l | 12 | 12l | 1 | 2.079442 | 5.45 | abtractstore  | 1 | 1 | 1 | 0.2172645 | 0.277 | 0.067 | 0.28220 | 0.2351863 | 0.2068615 | 0.5263158 | 0.5263158 | 0.5263158 | 0.5263158 | 0.5263158 | 0.5263158 | 0.5263158 |\n",
       "| 6 | fun | Canada                  | (5,10]  | hover              | Canada    | 104937931 | FirstTime | 1 | 2020-05-26 | futurefantasy.fun | 2019-05-26 | Active | tucows             | Non China | 1 | NA | Renewed    | 0 | renewal      | NA         | 2020-05-25 | Tucows             | Hover              |  8 |  8 | ⋯ | funhover              | futurefantasy | l | 13 | 13l | 1 | 2.079442 | 5.61 | futurefantasy | 1 | 1 | 1 | 0.6261119 | 0.624 | 0.267 | 0.59825 | 0.5677353 | 0.4933172 | 0.5263158 | 0.5263158 | 0.5263158 | 0.5263158 | 0.5263158 | 0.5263158 | 0.5263158 |\n",
       "\n"
      ],
      "text/plain": [
       "  tld reseller_geo            reg_arpt_slab reseller           reseller_country\n",
       "1 fun Australia & New Zealand (3,5]         instra corporation Australia       \n",
       "2 fun Australia & New Zealand (3,5]         instra corporation Australia       \n",
       "3 fun Australia & New Zealand (5,10]        crazy domains      Australia       \n",
       "4 fun Australia & New Zealand (10,15]       ventraip           Australia       \n",
       "5 fun Canada                  (5,10]        shopify            Canada          \n",
       "6 fun Canada                  (5,10]        hover              Canada          \n",
       "  domain_id renewal_type renewed_count expiry_date domain           \n",
       "1 104893671 FirstTime    1             2020-05-25  laur.fun         \n",
       "2  99540944 FirstTime    1             2020-04-10  oferty.fun       \n",
       "3  62376247 FirstTime    1             2020-03-07  tennisladder.fun \n",
       "4  95252714 FirstTime    1             2020-03-03  letterific.fun   \n",
       "5  98381634 FirstTime    1             2020-03-29  abtractstore.fun \n",
       "6 104937931 FirstTime    1             2020-05-26  futurefantasy.fun\n",
       "  creation_date status registrar          region    reg_period\n",
       "1 2019-05-25    Active instra corporation Non China 1         \n",
       "2 2019-04-10    Active instra corporation Non China 1         \n",
       "3 2018-03-07    Active crazy domains      Non China 2         \n",
       "4 2019-03-03    Active synergy wholesale  Non China 1         \n",
       "5 2019-03-29    Active tucows             Non China 1         \n",
       "6 2019-05-26    Active tucows             Non China 1         \n",
       "  registrant_country renewal_status renew_mbg renew_type   autorenew_type\n",
       "1 NA                 Not Renewd     0         auto-renewal NA            \n",
       "2 NA                 Not Renewd     0         auto-renewal unrealized    \n",
       "3 NA                 Not Renewd     0         auto-renewal unrealized    \n",
       "4 NA                 Renewed        0         renewal      NA            \n",
       "5 NA                 Not Renewd     0         auto-renewal unrealized    \n",
       "6 NA                 Renewed        0         renewal      NA            \n",
       "  renew_date renew_registrar    renew_reseller     reg_revenue reg_arpt ⋯\n",
       "1 2020-05-25 Instra Corporation Instra Corporation  4           4       ⋯\n",
       "2 2020-04-10 Instra Corporation Instra Corporation  4           4       ⋯\n",
       "3 2020-03-07 Crazy Domains      Crazy Domains      18           9       ⋯\n",
       "4 2020-02-19 SYNERGY WHOLESALE  VentraIP           15          15       ⋯\n",
       "5 2020-03-29 Tucows             Shopify             8           8       ⋯\n",
       "6 2020-05-25 Tucows             Hover               8           8       ⋯\n",
       "  tld_registrar_index   sld           sld_type sld_length sld_type2 day_domains\n",
       "1 funinstra corporation laur          l         4         4l        1          \n",
       "2 funinstra corporation oferty        l         6         6l        1          \n",
       "3 funcrazy domains      tennisladder  l        12         12l       1          \n",
       "4 funventraip           letterific    l        10         10l       1          \n",
       "5 funshopify            abtractstore  l        12         12l       1          \n",
       "6 funhover              futurefantasy l        13         13l       1          \n",
       "  log_reg_arpt gibb_score pattern       cluster pattern_score\n",
       "1 1.386294     5.48       laur          1       1            \n",
       "2 1.386294     6.03       oferty        1       1            \n",
       "3 2.197225     4.85       tennisladder  1       1            \n",
       "4 2.708050     5.97       letterific    1       1            \n",
       "5 2.079442     5.45       abtractstore  1       1            \n",
       "6 2.079442     5.61       futurefantasy 1       1            \n",
       "  pattern_domain_count pred_df_seg2_glm pred_df_seg_glm pred_df_agg_glm\n",
       "1 1                           NA        0.000           0.151          \n",
       "2 1                           NA        0.000           0.146          \n",
       "3 1                    1.0000000        0.400           0.334          \n",
       "4 1                           NA           NA              NA          \n",
       "5 1                    0.2172645        0.277           0.067          \n",
       "6 1                    0.6261119        0.624           0.267          \n",
       "  pred_df_seg2_rf pred_df_seg_rf pred_df_agg_rf renewal_rate\n",
       "1 0.00000         0.1851779      0.3718108      0.2500000   \n",
       "2 0.00000         0.2157494      0.3943426      0.2500000   \n",
       "3 0.42460         0.5788189      0.6221085      0.5000000   \n",
       "4      NA                NA             NA      0.3333333   \n",
       "5 0.28220         0.2351863      0.2068615      0.5263158   \n",
       "6 0.59825         0.5677353      0.4933172      0.5263158   \n",
       "  pred_df_seg2_glm_fb pred_df_seg_glm_fb pred_df_agg_glm_fb pred_df_seg2_rf_fb\n",
       "1        NA           0.2500000          0.2500000          0.2500000         \n",
       "2        NA           0.2500000          0.2500000          0.2500000         \n",
       "3 0.5000000           0.5000000          0.5000000          0.5000000         \n",
       "4        NA                  NA                 NA                 NA         \n",
       "5 0.5263158           0.5263158          0.5263158          0.5263158         \n",
       "6 0.5263158           0.5263158          0.5263158          0.5263158         \n",
       "  pred_df_seg_rf_fb pred_df_agg_rf_fb\n",
       "1 0.2500000         0.2500000        \n",
       "2 0.2500000         0.2500000        \n",
       "3 0.5000000         0.5000000        \n",
       "4        NA                NA        \n",
       "5 0.5263158         0.5263158        \n",
       "6 0.5263158         0.5263158        "
      ]
     },
     "metadata": {},
     "output_type": "display_data"
    }
   ],
   "source": [
    "head(test_predictions_fallback_df_2)"
   ]
  },
  {
   "cell_type": "code",
   "execution_count": 124,
   "metadata": {},
   "outputs": [],
   "source": [
    "l10_dplyr <- function (pred_df,\n",
    "                              pred_var = \"first_renewal_prediction\") {\n",
    "  N <- 10  # total number of rows to preallocate--possibly an overestimate\n",
    "  lift_df <- data.frame(P =rep(NA, N), \n",
    "                        actu_renwd2=rep(NA, N), \n",
    "                        gain=rep(NA, N), \n",
    "                        lift=rep(NA, N), \n",
    "                        stringsAsFactors=FALSE)          # you don't know levels yet\n",
    "  actu_renwd <- sum(pred_df[[\"renewal_status\"]]=='Renewed')\n",
    "  \n",
    "  i = 1\n",
    "  for(P in seq(.1,1,length=10)){\n",
    "    temp_df <- data.frame(pred_df)[c(\"renewal_status\",pred_var)]\n",
    "    ttmp_df <- temp_df[order(temp_df[pred_var],decreasing = TRUE),][1:round(dim(temp_df)[1]*P),]\n",
    "    actu_renwd2 <-  sum(ttmp_df[[\"renewal_status\"]] == 'Renewed')\n",
    "    gain = actu_renwd2/actu_renwd\n",
    "    lift = gain/(P)\n",
    "    \n",
    "    lift_df[i, ] <- list(P, actu_renwd2, gain, lift)\n",
    "    i = i+1\n",
    "  }\n",
    "  return(lift_df %>% filter(P==0.1) %>% pull(lift))\n",
    "}\n",
    "\n",
    "auc_dplyr <- function (pred_df,\n",
    "                              pred_var = \"first_renewal_prediction\") {\n",
    "  N <- 10  # total number of rows to preallocate--possibly an overestimate\n",
    "  lift_df <- data.frame(P =rep(NA, N), \n",
    "                        actu_renwd2=rep(NA, N), \n",
    "                        gain=rep(NA, N), \n",
    "                        lift=rep(NA, N), \n",
    "                        stringsAsFactors=FALSE)          # you don't know levels yet\n",
    "  actu_renwd <- sum(pred_df[[\"renewal_status\"]]=='Renewed')\n",
    "  \n",
    "  i = 1\n",
    "  for(P in seq(.1,1,length=10)){\n",
    "    temp_df <- data.frame(pred_df)[c(\"renewal_status\",pred_var)]\n",
    "    ttmp_df <- temp_df[order(temp_df[pred_var],decreasing = TRUE),][1:round(dim(temp_df)[1]*P),]\n",
    "    actu_renwd2 <-  sum(ttmp_df[[\"renewal_status\"]] == 'Renewed')\n",
    "    gain = actu_renwd2/actu_renwd\n",
    "    lift = gain/(P)\n",
    "    \n",
    "    lift_df[i, ] <- list(P, actu_renwd2, gain, lift)\n",
    "    i = i+1\n",
    "  }\n",
    "  return(calc_auc(lift_df))\n",
    "}"
   ]
  },
  {
   "cell_type": "code",
   "execution_count": 125,
   "metadata": {},
   "outputs": [],
   "source": [
    "test_metrics_fallback_df_2 <- test_predictions_fallback_df_2 %>%\n",
    "  group_by(tld_registrar_index) %>%\n",
    "  do( l10_seg2_glm = l10_dplyr(., pred_var = \"pred_df_seg2_glm\"),\n",
    "      l10_seg_glm = l10_dplyr(., pred_var = \"pred_df_seg2_glm\"),\n",
    "       l10_agg_glm = l10_dplyr(., pred_var = \"pred_df_seg2_glm\"),\n",
    "       l10_seg2_rf = l10_dplyr(., pred_var = \"pred_df_seg2_glm\"),\n",
    "       l10_seg_rf = l10_dplyr(., pred_var = \"pred_df_seg2_glm\"),\n",
    "       l10_agg_rf = l10_dplyr(., pred_var = \"pred_df_seg2_glm\"),\n",
    "       l10_fallback = l10_dplyr(., pred_var = \"renewal_rate\"),\n",
    "     \n",
    "      auc_seg2_glm = auc_dplyr(., pred_var = \"pred_df_seg2_glm\"),\n",
    "      auc_seg_glm = auc_dplyr(., pred_var = \"pred_df_seg2_glm\"),\n",
    "       auc_agg_glm = auc_dplyr(., pred_var = \"pred_df_seg2_glm\"),\n",
    "       auc_seg2_rf = auc_dplyr(., pred_var = \"pred_df_seg2_glm\"),\n",
    "       auc_seg_rf = auc_dplyr(., pred_var = \"pred_df_seg2_glm\"),\n",
    "       auc_agg_rf = auc_dplyr(., pred_var = \"pred_df_seg2_glm\"),\n",
    "       auc_fallback = auc_dplyr(., pred_var = \"renewal_rate\")\n",
    "      ) #%>%\n",
    "#   unnest()\n",
    "#   summarize (chart=chart_lift)"
   ]
  },
  {
   "cell_type": "code",
   "execution_count": 126,
   "metadata": {},
   "outputs": [
    {
     "data": {
      "text/html": [
       "<table>\n",
       "<caption>A rowwise_df: 6 × 15</caption>\n",
       "<thead>\n",
       "\t<tr><th scope=col>tld_registrar_index</th><th scope=col>l10_seg2_glm</th><th scope=col>l10_seg_glm</th><th scope=col>l10_agg_glm</th><th scope=col>l10_seg2_rf</th><th scope=col>l10_seg_rf</th><th scope=col>l10_agg_rf</th><th scope=col>l10_fallback</th><th scope=col>auc_seg2_glm</th><th scope=col>auc_seg_glm</th><th scope=col>auc_agg_glm</th><th scope=col>auc_seg2_rf</th><th scope=col>auc_seg_rf</th><th scope=col>auc_agg_rf</th><th scope=col>auc_fallback</th></tr>\n",
       "\t<tr><th scope=col>&lt;chr&gt;</th><th scope=col>&lt;list&gt;</th><th scope=col>&lt;list&gt;</th><th scope=col>&lt;list&gt;</th><th scope=col>&lt;list&gt;</th><th scope=col>&lt;list&gt;</th><th scope=col>&lt;list&gt;</th><th scope=col>&lt;list&gt;</th><th scope=col>&lt;list&gt;</th><th scope=col>&lt;list&gt;</th><th scope=col>&lt;list&gt;</th><th scope=col>&lt;list&gt;</th><th scope=col>&lt;list&gt;</th><th scope=col>&lt;list&gt;</th><th scope=col>&lt;list&gt;</th></tr>\n",
       "</thead>\n",
       "<tbody>\n",
       "\t<tr><td><span style=white-space:pre-wrap>fun1&amp;1 internet    </span></td><td>5</td><td>5</td><td>5</td><td>5</td><td>5</td><td>5</td><td>5</td><td>0.6</td><td>0.6</td><td>0.6</td><td>0.6</td><td>0.6</td><td>0.6</td><td>0.6</td></tr>\n",
       "\t<tr><td>fun10dencehispahard</td><td>NaN</td><td>NaN</td><td>NaN</td><td>NaN</td><td>NaN</td><td>NaN</td><td>NaN</td><td>NaN</td><td>NaN</td><td>NaN</td><td>NaN</td><td>NaN</td><td>NaN</td><td>NaN</td></tr>\n",
       "\t<tr><td>fun1api            </td><td>0</td><td>0</td><td>0</td><td>0</td><td>0</td><td>0</td><td>0</td><td>0.25</td><td>0.25</td><td>0.25</td><td>0.25</td><td>0.25</td><td>0.25</td><td>0.25</td></tr>\n",
       "\t<tr><td>funactive 24       </td><td>0</td><td>0</td><td>0</td><td>0</td><td>0</td><td>0</td><td>0</td><td>0.45</td><td>0.45</td><td>0.45</td><td>0.45</td><td>0.45</td><td>0.45</td><td>0.35</td></tr>\n",
       "\t<tr><td>funalibaba         </td><td>4.883721</td><td>4.883721</td><td>4.883721</td><td>4.883721</td><td>4.883721</td><td>4.883721</td><td>1.255814</td><td>0.8262791</td><td>0.8262791</td><td>0.8262791</td><td>0.8262791</td><td>0.8262791</td><td>0.8262791</td><td>0.5137209</td></tr>\n",
       "\t<tr><td>funalibaba sg      </td><td>0</td><td>0</td><td>0</td><td>0</td><td>0</td><td>0</td><td>0</td><td>0.05</td><td>0.05</td><td>0.05</td><td>0.05</td><td>0.05</td><td>0.05</td><td>0.05</td></tr>\n",
       "</tbody>\n",
       "</table>\n"
      ],
      "text/latex": [
       "A rowwise\\_df: 6 × 15\n",
       "\\begin{tabular}{lllllllllllllll}\n",
       " tld\\_registrar\\_index & l10\\_seg2\\_glm & l10\\_seg\\_glm & l10\\_agg\\_glm & l10\\_seg2\\_rf & l10\\_seg\\_rf & l10\\_agg\\_rf & l10\\_fallback & auc\\_seg2\\_glm & auc\\_seg\\_glm & auc\\_agg\\_glm & auc\\_seg2\\_rf & auc\\_seg\\_rf & auc\\_agg\\_rf & auc\\_fallback\\\\\n",
       " <chr> & <list> & <list> & <list> & <list> & <list> & <list> & <list> & <list> & <list> & <list> & <list> & <list> & <list> & <list>\\\\\n",
       "\\hline\n",
       "\t fun1\\&1 internet     & 5 & 5 & 5 & 5 & 5 & 5 & 5 & 0.6 & 0.6 & 0.6 & 0.6 & 0.6 & 0.6 & 0.6\\\\\n",
       "\t fun10dencehispahard & NaN & NaN & NaN & NaN & NaN & NaN & NaN & NaN & NaN & NaN & NaN & NaN & NaN & NaN\\\\\n",
       "\t fun1api             & 0 & 0 & 0 & 0 & 0 & 0 & 0 & 0.25 & 0.25 & 0.25 & 0.25 & 0.25 & 0.25 & 0.25\\\\\n",
       "\t funactive 24        & 0 & 0 & 0 & 0 & 0 & 0 & 0 & 0.45 & 0.45 & 0.45 & 0.45 & 0.45 & 0.45 & 0.35\\\\\n",
       "\t funalibaba          & 4.883721 & 4.883721 & 4.883721 & 4.883721 & 4.883721 & 4.883721 & 1.255814 & 0.8262791 & 0.8262791 & 0.8262791 & 0.8262791 & 0.8262791 & 0.8262791 & 0.5137209\\\\\n",
       "\t funalibaba sg       & 0 & 0 & 0 & 0 & 0 & 0 & 0 & 0.05 & 0.05 & 0.05 & 0.05 & 0.05 & 0.05 & 0.05\\\\\n",
       "\\end{tabular}\n"
      ],
      "text/markdown": [
       "\n",
       "A rowwise_df: 6 × 15\n",
       "\n",
       "| tld_registrar_index &lt;chr&gt; | l10_seg2_glm &lt;list&gt; | l10_seg_glm &lt;list&gt; | l10_agg_glm &lt;list&gt; | l10_seg2_rf &lt;list&gt; | l10_seg_rf &lt;list&gt; | l10_agg_rf &lt;list&gt; | l10_fallback &lt;list&gt; | auc_seg2_glm &lt;list&gt; | auc_seg_glm &lt;list&gt; | auc_agg_glm &lt;list&gt; | auc_seg2_rf &lt;list&gt; | auc_seg_rf &lt;list&gt; | auc_agg_rf &lt;list&gt; | auc_fallback &lt;list&gt; |\n",
       "|---|---|---|---|---|---|---|---|---|---|---|---|---|---|---|\n",
       "| fun1&amp;1 internet     | 5 | 5 | 5 | 5 | 5 | 5 | 5 | 0.6 | 0.6 | 0.6 | 0.6 | 0.6 | 0.6 | 0.6 |\n",
       "| fun10dencehispahard | NaN | NaN | NaN | NaN | NaN | NaN | NaN | NaN | NaN | NaN | NaN | NaN | NaN | NaN |\n",
       "| fun1api             | 0 | 0 | 0 | 0 | 0 | 0 | 0 | 0.25 | 0.25 | 0.25 | 0.25 | 0.25 | 0.25 | 0.25 |\n",
       "| funactive 24        | 0 | 0 | 0 | 0 | 0 | 0 | 0 | 0.45 | 0.45 | 0.45 | 0.45 | 0.45 | 0.45 | 0.35 |\n",
       "| funalibaba          | 4.883721 | 4.883721 | 4.883721 | 4.883721 | 4.883721 | 4.883721 | 1.255814 | 0.8262791 | 0.8262791 | 0.8262791 | 0.8262791 | 0.8262791 | 0.8262791 | 0.5137209 |\n",
       "| funalibaba sg       | 0 | 0 | 0 | 0 | 0 | 0 | 0 | 0.05 | 0.05 | 0.05 | 0.05 | 0.05 | 0.05 | 0.05 |\n",
       "\n"
      ],
      "text/plain": [
       "  tld_registrar_index l10_seg2_glm l10_seg_glm l10_agg_glm l10_seg2_rf\n",
       "1 fun1&1 internet     5            5           5           5          \n",
       "2 fun10dencehispahard NaN          NaN         NaN         NaN        \n",
       "3 fun1api             0            0           0           0          \n",
       "4 funactive 24        0            0           0           0          \n",
       "5 funalibaba          4.883721     4.883721    4.883721    4.883721   \n",
       "6 funalibaba sg       0            0           0           0          \n",
       "  l10_seg_rf l10_agg_rf l10_fallback auc_seg2_glm auc_seg_glm auc_agg_glm\n",
       "1 5          5          5            0.6          0.6         0.6        \n",
       "2 NaN        NaN        NaN          NaN          NaN         NaN        \n",
       "3 0          0          0            0.25         0.25        0.25       \n",
       "4 0          0          0            0.45         0.45        0.45       \n",
       "5 4.883721   4.883721   1.255814     0.8262791    0.8262791   0.8262791  \n",
       "6 0          0          0            0.05         0.05        0.05       \n",
       "  auc_seg2_rf auc_seg_rf auc_agg_rf auc_fallback\n",
       "1 0.6         0.6        0.6        0.6         \n",
       "2 NaN         NaN        NaN        NaN         \n",
       "3 0.25        0.25       0.25       0.25        \n",
       "4 0.45        0.45       0.45       0.35        \n",
       "5 0.8262791   0.8262791  0.8262791  0.5137209   \n",
       "6 0.05        0.05       0.05       0.05        "
      ]
     },
     "metadata": {},
     "output_type": "display_data"
    }
   ],
   "source": [
    "head(test_metrics_fallback_df_2)"
   ]
  },
  {
   "cell_type": "markdown",
   "metadata": {},
   "source": [
    "# Metalearning Prep"
   ]
  },
  {
   "cell_type": "markdown",
   "metadata": {},
   "source": [
    "## add geo to training data for fetaure eng"
   ]
  },
  {
   "cell_type": "code",
   "execution_count": 130,
   "metadata": {},
   "outputs": [],
   "source": [
    "# system(\"gsutil cp gs://data_input/PredictiveModelAnalysis_AnomalyRegistrars.csv /home/jupyter/local/Domains_202003/data/PredictiveModelAnalysis_AnomalyRegistrars.csv\")\n",
    "anomalyDF <- read.csv(\"/home/jupyter/local/Domains_202003/data/PredictiveModelAnalysis_AnomalyRegistrars.csv\")\n",
    "anomalyDF <- apply(anomalyDF, 2, function(x) trimws(x,which = c(\"both\")) )\n",
    "geoLookupDF <- unique(anomalyDF[,c('reseller','reseller_country','reseller_geo')])\n",
    "geoLookupDF <- as.data.frame(geoLookupDF)\n",
    "expiry_train_df_1 <- merge(expiry_train_df_1,geoLookupDF,on=c('reseller','reseller_country'), all.x = TRUE)"
   ]
  },
  {
   "cell_type": "code",
   "execution_count": 151,
   "metadata": {},
   "outputs": [
    {
     "data": {
      "text/html": [
       "<table>\n",
       "<caption>A data.table: 6 × 40</caption>\n",
       "<thead>\n",
       "\t<tr><th scope=col>reseller</th><th scope=col>reseller_country</th><th scope=col>renewal_type</th><th scope=col>renewed_count</th><th scope=col>expiry_date</th><th scope=col>domain_id</th><th scope=col>domain</th><th scope=col>creation_date</th><th scope=col>status</th><th scope=col>tld</th><th scope=col>registrar</th><th scope=col>region</th><th scope=col>reg_period</th><th scope=col>registrant_country</th><th scope=col>renewal_status</th><th scope=col>renew_mbg</th><th scope=col>renew_type</th><th scope=col>autorenew_type</th><th scope=col>renew_date</th><th scope=col>renew_registrar</th><th scope=col>renew_reseller</th><th scope=col>reg_revenue</th><th scope=col>reg_arpt</th><th scope=col>renew_period</th><th scope=col>renew_domain_revenue</th><th scope=col>renew_arpt</th><th scope=col>reg_arpt_org</th><th scope=col>tld_registrar_index</th><th scope=col>sld</th><th scope=col>sld_type</th><th scope=col>sld_length</th><th scope=col>sld_type2</th><th scope=col>day_domains</th><th scope=col>log_reg_arpt</th><th scope=col>gibb_score</th><th scope=col>pattern</th><th scope=col>cluster</th><th scope=col>pattern_score</th><th scope=col>pattern_domain_count</th><th scope=col>reseller_geo</th></tr>\n",
       "\t<tr><th scope=col>&lt;chr&gt;</th><th scope=col>&lt;chr&gt;</th><th scope=col>&lt;chr&gt;</th><th scope=col>&lt;int&gt;</th><th scope=col>&lt;date&gt;</th><th scope=col>&lt;int&gt;</th><th scope=col>&lt;chr&gt;</th><th scope=col>&lt;date&gt;</th><th scope=col>&lt;chr&gt;</th><th scope=col>&lt;fct&gt;</th><th scope=col>&lt;chr&gt;</th><th scope=col>&lt;chr&gt;</th><th scope=col>&lt;int&gt;</th><th scope=col>&lt;chr&gt;</th><th scope=col>&lt;fct&gt;</th><th scope=col>&lt;int&gt;</th><th scope=col>&lt;chr&gt;</th><th scope=col>&lt;chr&gt;</th><th scope=col>&lt;date&gt;</th><th scope=col>&lt;chr&gt;</th><th scope=col>&lt;chr&gt;</th><th scope=col>&lt;dbl&gt;</th><th scope=col>&lt;dbl&gt;</th><th scope=col>&lt;int&gt;</th><th scope=col>&lt;dbl&gt;</th><th scope=col>&lt;dbl&gt;</th><th scope=col>&lt;dbl&gt;</th><th scope=col>&lt;chr&gt;</th><th scope=col>&lt;chr&gt;</th><th scope=col>&lt;fct&gt;</th><th scope=col>&lt;int&gt;</th><th scope=col>&lt;chr&gt;</th><th scope=col>&lt;int&gt;</th><th scope=col>&lt;dbl&gt;</th><th scope=col>&lt;dbl&gt;</th><th scope=col>&lt;chr&gt;</th><th scope=col>&lt;chr&gt;</th><th scope=col>&lt;dbl&gt;</th><th scope=col>&lt;int&gt;</th><th scope=col>&lt;fct&gt;</th></tr>\n",
       "</thead>\n",
       "<tbody>\n",
       "\t<tr><td>1&amp;1 internet</td><td>Germany</td><td>FirstTime</td><td>1</td><td>2020-01-21</td><td>91584433</td><td><span style=white-space:pre-wrap>racefor.fun     </span></td><td>2019-01-21</td><td>Active</td><td>fun</td><td>1&amp;1 internet</td><td>Non China</td><td>1</td><td>NA</td><td><span style=white-space:pre-wrap>Renewed   </span></td><td>0</td><td>auto-renewal</td><td><span style=white-space:pre-wrap>realized  </span></td><td>2020-01-21</td><td>1&amp;1 Internet</td><td>1&amp;1 Internet</td><td>15</td><td>15</td><td>1</td><td>15</td><td>15</td><td>15</td><td>fun1&amp;1 internet</td><td><span style=white-space:pre-wrap>racefor     </span></td><td>l </td><td> 7</td><td>7l </td><td>1</td><td>2.70805</td><td> 6.77</td><td><span style=white-space:pre-wrap>racefor     </span></td><td>1</td><td>1</td><td>1</td><td>EU</td></tr>\n",
       "\t<tr><td>1&amp;1 internet</td><td>Germany</td><td>FirstTime</td><td>1</td><td>2020-01-30</td><td>92254793</td><td><span style=white-space:pre-wrap>united4.fun     </span></td><td>2019-01-30</td><td>Active</td><td>fun</td><td>1&amp;1 internet</td><td>Non China</td><td>1</td><td>NA</td><td><span style=white-space:pre-wrap>Renewed   </span></td><td>0</td><td>auto-renewal</td><td><span style=white-space:pre-wrap>realized  </span></td><td>2020-01-30</td><td>1&amp;1 Internet</td><td>1&amp;1 Internet</td><td>15</td><td>15</td><td>1</td><td>15</td><td>15</td><td>15</td><td>fun1&amp;1 internet</td><td><span style=white-space:pre-wrap>united4     </span></td><td>ln</td><td> 7</td><td>7ln</td><td>1</td><td>2.70805</td><td> 8.65</td><td><span style=white-space:pre-wrap>united4     </span></td><td>1</td><td>1</td><td>1</td><td>EU</td></tr>\n",
       "\t<tr><td>1&amp;1 internet</td><td>Germany</td><td>FirstTime</td><td>1</td><td>2020-02-04</td><td>92827233</td><td><span style=white-space:pre-wrap>bereal.fun      </span></td><td>2019-02-04</td><td>Active</td><td>fun</td><td>1&amp;1 internet</td><td>Non China</td><td>1</td><td>NA</td><td><span style=white-space:pre-wrap>Renewed   </span></td><td>0</td><td>auto-renewal</td><td><span style=white-space:pre-wrap>realized  </span></td><td>2020-02-04</td><td>1&amp;1 Internet</td><td>1&amp;1 Internet</td><td>15</td><td>15</td><td>1</td><td>15</td><td>15</td><td>15</td><td>fun1&amp;1 internet</td><td><span style=white-space:pre-wrap>bereal      </span></td><td>l </td><td> 6</td><td>6l </td><td>1</td><td>2.70805</td><td>13.09</td><td><span style=white-space:pre-wrap>bereal      </span></td><td>1</td><td>1</td><td>1</td><td>EU</td></tr>\n",
       "\t<tr><td>1&amp;1 internet</td><td>Germany</td><td>FirstTime</td><td>1</td><td>2020-02-12</td><td>93490823</td><td>dogsoutdoors.fun</td><td>2019-02-12</td><td>Active</td><td>fun</td><td>1&amp;1 internet</td><td>Non China</td><td>1</td><td>NA</td><td>Not Renewd</td><td>0</td><td>auto-renewal</td><td>unrealized</td><td>2020-02-12</td><td>1&amp;1 Internet</td><td>1&amp;1 Internet</td><td>15</td><td>15</td><td>1</td><td>15</td><td>15</td><td>15</td><td>fun1&amp;1 internet</td><td>dogsoutdoors</td><td>l </td><td>12</td><td>12l</td><td>1</td><td>2.70805</td><td> 2.44</td><td>dogsoutdoors</td><td>1</td><td>1</td><td>1</td><td>EU</td></tr>\n",
       "\t<tr><td>1&amp;1 internet</td><td>Germany</td><td>FirstTime</td><td>1</td><td>2020-02-15</td><td>93767978</td><td><span style=white-space:pre-wrap>rosalux.fun     </span></td><td>2019-02-15</td><td>Active</td><td>fun</td><td>1&amp;1 internet</td><td>Non China</td><td>1</td><td>NA</td><td><span style=white-space:pre-wrap>Renewed   </span></td><td>0</td><td>auto-renewal</td><td><span style=white-space:pre-wrap>realized  </span></td><td>2020-02-15</td><td>1&amp;1 Internet</td><td>1&amp;1 Internet</td><td>15</td><td>15</td><td>1</td><td>15</td><td>15</td><td>15</td><td>fun1&amp;1 internet</td><td><span style=white-space:pre-wrap>rosalux     </span></td><td>l </td><td> 7</td><td>7l </td><td>1</td><td>2.70805</td><td> 2.34</td><td><span style=white-space:pre-wrap>rosalux     </span></td><td>1</td><td>1</td><td>1</td><td>EU</td></tr>\n",
       "\t<tr><td>1&amp;1 internet</td><td>Germany</td><td>FirstTime</td><td>1</td><td>2020-02-16</td><td>93823708</td><td><span style=white-space:pre-wrap>verygood.fun    </span></td><td>2019-02-16</td><td>Active</td><td>fun</td><td>1&amp;1 internet</td><td>Non China</td><td>1</td><td>NA</td><td><span style=white-space:pre-wrap>Renewed   </span></td><td>0</td><td>auto-renewal</td><td><span style=white-space:pre-wrap>realized  </span></td><td>2020-02-16</td><td>1&amp;1 Internet</td><td>1&amp;1 Internet</td><td>15</td><td>15</td><td>1</td><td>15</td><td>15</td><td>15</td><td>fun1&amp;1 internet</td><td><span style=white-space:pre-wrap>verygood    </span></td><td>l </td><td> 8</td><td>8l </td><td>1</td><td>2.70805</td><td> 3.64</td><td><span style=white-space:pre-wrap>verygood    </span></td><td>1</td><td>1</td><td>1</td><td>EU</td></tr>\n",
       "</tbody>\n",
       "</table>\n"
      ],
      "text/latex": [
       "A data.table: 6 × 40\n",
       "\\begin{tabular}{llllllllllllllllllllllllllllllllllllllll}\n",
       " reseller & reseller\\_country & renewal\\_type & renewed\\_count & expiry\\_date & domain\\_id & domain & creation\\_date & status & tld & registrar & region & reg\\_period & registrant\\_country & renewal\\_status & renew\\_mbg & renew\\_type & autorenew\\_type & renew\\_date & renew\\_registrar & renew\\_reseller & reg\\_revenue & reg\\_arpt & renew\\_period & renew\\_domain\\_revenue & renew\\_arpt & reg\\_arpt\\_org & tld\\_registrar\\_index & sld & sld\\_type & sld\\_length & sld\\_type2 & day\\_domains & log\\_reg\\_arpt & gibb\\_score & pattern & cluster & pattern\\_score & pattern\\_domain\\_count & reseller\\_geo\\\\\n",
       " <chr> & <chr> & <chr> & <int> & <date> & <int> & <chr> & <date> & <chr> & <fct> & <chr> & <chr> & <int> & <chr> & <fct> & <int> & <chr> & <chr> & <date> & <chr> & <chr> & <dbl> & <dbl> & <int> & <dbl> & <dbl> & <dbl> & <chr> & <chr> & <fct> & <int> & <chr> & <int> & <dbl> & <dbl> & <chr> & <chr> & <dbl> & <int> & <fct>\\\\\n",
       "\\hline\n",
       "\t 1\\&1 internet & Germany & FirstTime & 1 & 2020-01-21 & 91584433 & racefor.fun      & 2019-01-21 & Active & fun & 1\\&1 internet & Non China & 1 & NA & Renewed    & 0 & auto-renewal & realized   & 2020-01-21 & 1\\&1 Internet & 1\\&1 Internet & 15 & 15 & 1 & 15 & 15 & 15 & fun1\\&1 internet & racefor      & l  &  7 & 7l  & 1 & 2.70805 &  6.77 & racefor      & 1 & 1 & 1 & EU\\\\\n",
       "\t 1\\&1 internet & Germany & FirstTime & 1 & 2020-01-30 & 92254793 & united4.fun      & 2019-01-30 & Active & fun & 1\\&1 internet & Non China & 1 & NA & Renewed    & 0 & auto-renewal & realized   & 2020-01-30 & 1\\&1 Internet & 1\\&1 Internet & 15 & 15 & 1 & 15 & 15 & 15 & fun1\\&1 internet & united4      & ln &  7 & 7ln & 1 & 2.70805 &  8.65 & united4      & 1 & 1 & 1 & EU\\\\\n",
       "\t 1\\&1 internet & Germany & FirstTime & 1 & 2020-02-04 & 92827233 & bereal.fun       & 2019-02-04 & Active & fun & 1\\&1 internet & Non China & 1 & NA & Renewed    & 0 & auto-renewal & realized   & 2020-02-04 & 1\\&1 Internet & 1\\&1 Internet & 15 & 15 & 1 & 15 & 15 & 15 & fun1\\&1 internet & bereal       & l  &  6 & 6l  & 1 & 2.70805 & 13.09 & bereal       & 1 & 1 & 1 & EU\\\\\n",
       "\t 1\\&1 internet & Germany & FirstTime & 1 & 2020-02-12 & 93490823 & dogsoutdoors.fun & 2019-02-12 & Active & fun & 1\\&1 internet & Non China & 1 & NA & Not Renewd & 0 & auto-renewal & unrealized & 2020-02-12 & 1\\&1 Internet & 1\\&1 Internet & 15 & 15 & 1 & 15 & 15 & 15 & fun1\\&1 internet & dogsoutdoors & l  & 12 & 12l & 1 & 2.70805 &  2.44 & dogsoutdoors & 1 & 1 & 1 & EU\\\\\n",
       "\t 1\\&1 internet & Germany & FirstTime & 1 & 2020-02-15 & 93767978 & rosalux.fun      & 2019-02-15 & Active & fun & 1\\&1 internet & Non China & 1 & NA & Renewed    & 0 & auto-renewal & realized   & 2020-02-15 & 1\\&1 Internet & 1\\&1 Internet & 15 & 15 & 1 & 15 & 15 & 15 & fun1\\&1 internet & rosalux      & l  &  7 & 7l  & 1 & 2.70805 &  2.34 & rosalux      & 1 & 1 & 1 & EU\\\\\n",
       "\t 1\\&1 internet & Germany & FirstTime & 1 & 2020-02-16 & 93823708 & verygood.fun     & 2019-02-16 & Active & fun & 1\\&1 internet & Non China & 1 & NA & Renewed    & 0 & auto-renewal & realized   & 2020-02-16 & 1\\&1 Internet & 1\\&1 Internet & 15 & 15 & 1 & 15 & 15 & 15 & fun1\\&1 internet & verygood     & l  &  8 & 8l  & 1 & 2.70805 &  3.64 & verygood     & 1 & 1 & 1 & EU\\\\\n",
       "\\end{tabular}\n"
      ],
      "text/markdown": [
       "\n",
       "A data.table: 6 × 40\n",
       "\n",
       "| reseller &lt;chr&gt; | reseller_country &lt;chr&gt; | renewal_type &lt;chr&gt; | renewed_count &lt;int&gt; | expiry_date &lt;date&gt; | domain_id &lt;int&gt; | domain &lt;chr&gt; | creation_date &lt;date&gt; | status &lt;chr&gt; | tld &lt;fct&gt; | registrar &lt;chr&gt; | region &lt;chr&gt; | reg_period &lt;int&gt; | registrant_country &lt;chr&gt; | renewal_status &lt;fct&gt; | renew_mbg &lt;int&gt; | renew_type &lt;chr&gt; | autorenew_type &lt;chr&gt; | renew_date &lt;date&gt; | renew_registrar &lt;chr&gt; | renew_reseller &lt;chr&gt; | reg_revenue &lt;dbl&gt; | reg_arpt &lt;dbl&gt; | renew_period &lt;int&gt; | renew_domain_revenue &lt;dbl&gt; | renew_arpt &lt;dbl&gt; | reg_arpt_org &lt;dbl&gt; | tld_registrar_index &lt;chr&gt; | sld &lt;chr&gt; | sld_type &lt;fct&gt; | sld_length &lt;int&gt; | sld_type2 &lt;chr&gt; | day_domains &lt;int&gt; | log_reg_arpt &lt;dbl&gt; | gibb_score &lt;dbl&gt; | pattern &lt;chr&gt; | cluster &lt;chr&gt; | pattern_score &lt;dbl&gt; | pattern_domain_count &lt;int&gt; | reseller_geo &lt;fct&gt; |\n",
       "|---|---|---|---|---|---|---|---|---|---|---|---|---|---|---|---|---|---|---|---|---|---|---|---|---|---|---|---|---|---|---|---|---|---|---|---|---|---|---|---|\n",
       "| 1&amp;1 internet | Germany | FirstTime | 1 | 2020-01-21 | 91584433 | racefor.fun      | 2019-01-21 | Active | fun | 1&amp;1 internet | Non China | 1 | NA | Renewed    | 0 | auto-renewal | realized   | 2020-01-21 | 1&amp;1 Internet | 1&amp;1 Internet | 15 | 15 | 1 | 15 | 15 | 15 | fun1&amp;1 internet | racefor      | l  |  7 | 7l  | 1 | 2.70805 |  6.77 | racefor      | 1 | 1 | 1 | EU |\n",
       "| 1&amp;1 internet | Germany | FirstTime | 1 | 2020-01-30 | 92254793 | united4.fun      | 2019-01-30 | Active | fun | 1&amp;1 internet | Non China | 1 | NA | Renewed    | 0 | auto-renewal | realized   | 2020-01-30 | 1&amp;1 Internet | 1&amp;1 Internet | 15 | 15 | 1 | 15 | 15 | 15 | fun1&amp;1 internet | united4      | ln |  7 | 7ln | 1 | 2.70805 |  8.65 | united4      | 1 | 1 | 1 | EU |\n",
       "| 1&amp;1 internet | Germany | FirstTime | 1 | 2020-02-04 | 92827233 | bereal.fun       | 2019-02-04 | Active | fun | 1&amp;1 internet | Non China | 1 | NA | Renewed    | 0 | auto-renewal | realized   | 2020-02-04 | 1&amp;1 Internet | 1&amp;1 Internet | 15 | 15 | 1 | 15 | 15 | 15 | fun1&amp;1 internet | bereal       | l  |  6 | 6l  | 1 | 2.70805 | 13.09 | bereal       | 1 | 1 | 1 | EU |\n",
       "| 1&amp;1 internet | Germany | FirstTime | 1 | 2020-02-12 | 93490823 | dogsoutdoors.fun | 2019-02-12 | Active | fun | 1&amp;1 internet | Non China | 1 | NA | Not Renewd | 0 | auto-renewal | unrealized | 2020-02-12 | 1&amp;1 Internet | 1&amp;1 Internet | 15 | 15 | 1 | 15 | 15 | 15 | fun1&amp;1 internet | dogsoutdoors | l  | 12 | 12l | 1 | 2.70805 |  2.44 | dogsoutdoors | 1 | 1 | 1 | EU |\n",
       "| 1&amp;1 internet | Germany | FirstTime | 1 | 2020-02-15 | 93767978 | rosalux.fun      | 2019-02-15 | Active | fun | 1&amp;1 internet | Non China | 1 | NA | Renewed    | 0 | auto-renewal | realized   | 2020-02-15 | 1&amp;1 Internet | 1&amp;1 Internet | 15 | 15 | 1 | 15 | 15 | 15 | fun1&amp;1 internet | rosalux      | l  |  7 | 7l  | 1 | 2.70805 |  2.34 | rosalux      | 1 | 1 | 1 | EU |\n",
       "| 1&amp;1 internet | Germany | FirstTime | 1 | 2020-02-16 | 93823708 | verygood.fun     | 2019-02-16 | Active | fun | 1&amp;1 internet | Non China | 1 | NA | Renewed    | 0 | auto-renewal | realized   | 2020-02-16 | 1&amp;1 Internet | 1&amp;1 Internet | 15 | 15 | 1 | 15 | 15 | 15 | fun1&amp;1 internet | verygood     | l  |  8 | 8l  | 1 | 2.70805 |  3.64 | verygood     | 1 | 1 | 1 | EU |\n",
       "\n"
      ],
      "text/plain": [
       "  reseller     reseller_country renewal_type renewed_count expiry_date\n",
       "1 1&1 internet Germany          FirstTime    1             2020-01-21 \n",
       "2 1&1 internet Germany          FirstTime    1             2020-01-30 \n",
       "3 1&1 internet Germany          FirstTime    1             2020-02-04 \n",
       "4 1&1 internet Germany          FirstTime    1             2020-02-12 \n",
       "5 1&1 internet Germany          FirstTime    1             2020-02-15 \n",
       "6 1&1 internet Germany          FirstTime    1             2020-02-16 \n",
       "  domain_id domain           creation_date status tld registrar    region   \n",
       "1 91584433  racefor.fun      2019-01-21    Active fun 1&1 internet Non China\n",
       "2 92254793  united4.fun      2019-01-30    Active fun 1&1 internet Non China\n",
       "3 92827233  bereal.fun       2019-02-04    Active fun 1&1 internet Non China\n",
       "4 93490823  dogsoutdoors.fun 2019-02-12    Active fun 1&1 internet Non China\n",
       "5 93767978  rosalux.fun      2019-02-15    Active fun 1&1 internet Non China\n",
       "6 93823708  verygood.fun     2019-02-16    Active fun 1&1 internet Non China\n",
       "  reg_period registrant_country renewal_status renew_mbg renew_type  \n",
       "1 1          NA                 Renewed        0         auto-renewal\n",
       "2 1          NA                 Renewed        0         auto-renewal\n",
       "3 1          NA                 Renewed        0         auto-renewal\n",
       "4 1          NA                 Not Renewd     0         auto-renewal\n",
       "5 1          NA                 Renewed        0         auto-renewal\n",
       "6 1          NA                 Renewed        0         auto-renewal\n",
       "  autorenew_type renew_date renew_registrar renew_reseller reg_revenue reg_arpt\n",
       "1 realized       2020-01-21 1&1 Internet    1&1 Internet   15          15      \n",
       "2 realized       2020-01-30 1&1 Internet    1&1 Internet   15          15      \n",
       "3 realized       2020-02-04 1&1 Internet    1&1 Internet   15          15      \n",
       "4 unrealized     2020-02-12 1&1 Internet    1&1 Internet   15          15      \n",
       "5 realized       2020-02-15 1&1 Internet    1&1 Internet   15          15      \n",
       "6 realized       2020-02-16 1&1 Internet    1&1 Internet   15          15      \n",
       "  renew_period renew_domain_revenue renew_arpt reg_arpt_org tld_registrar_index\n",
       "1 1            15                   15         15           fun1&1 internet    \n",
       "2 1            15                   15         15           fun1&1 internet    \n",
       "3 1            15                   15         15           fun1&1 internet    \n",
       "4 1            15                   15         15           fun1&1 internet    \n",
       "5 1            15                   15         15           fun1&1 internet    \n",
       "6 1            15                   15         15           fun1&1 internet    \n",
       "  sld          sld_type sld_length sld_type2 day_domains log_reg_arpt\n",
       "1 racefor      l         7         7l        1           2.70805     \n",
       "2 united4      ln        7         7ln       1           2.70805     \n",
       "3 bereal       l         6         6l        1           2.70805     \n",
       "4 dogsoutdoors l        12         12l       1           2.70805     \n",
       "5 rosalux      l         7         7l        1           2.70805     \n",
       "6 verygood     l         8         8l        1           2.70805     \n",
       "  gibb_score pattern      cluster pattern_score pattern_domain_count\n",
       "1  6.77      racefor      1       1             1                   \n",
       "2  8.65      united4      1       1             1                   \n",
       "3 13.09      bereal       1       1             1                   \n",
       "4  2.44      dogsoutdoors 1       1             1                   \n",
       "5  2.34      rosalux      1       1             1                   \n",
       "6  3.64      verygood     1       1             1                   \n",
       "  reseller_geo\n",
       "1 EU          \n",
       "2 EU          \n",
       "3 EU          \n",
       "4 EU          \n",
       "5 EU          \n",
       "6 EU          "
      ]
     },
     "metadata": {},
     "output_type": "display_data"
    }
   ],
   "source": [
    "head(expiry_train_df_1)"
   ]
  },
  {
   "cell_type": "markdown",
   "metadata": {},
   "source": [
    "## Feature Engineering for tld-reseller level "
   ]
  },
  {
   "cell_type": "code",
   "execution_count": null,
   "metadata": {},
   "outputs": [],
   "source": [
    "# new geo level feature eng\n",
    "geo_maj = expiry_train_df_1 %>%\n",
    "  add_count(tld_registrar_index, reseller_geo) %>%\n",
    "  group_by(tld_registrar_index) %>%\n",
    "  summarise(geo_maj = reseller_geo[n == max(n)][1],\n",
    "           geo_cnt = n_distinct(reseller_geo),\n",
    "           n = n(),\n",
    "           ren_prp = sum(renewal_status=='Renewed')/sum(n),\n",
    "           tld_cnt = n_distinct(tld), tld_rat = tld_cnt/n),\n",
    "              daydom_min = min(day_domains), \n",
    "              daydom_max = max(day_domains), \n",
    "              daydom_mean = mean(day_domains, na.rm = TRUE), \n",
    "              daydom_rng = daydom_max - daydom_min, \n",
    "              daydom_std = sd(day_domains, na.rm = TRUE), \n",
    "              daydom_skew = skewness(day_domains, na.rm = TRUE), \n",
    "              daydom_kurt = kurtosis(day_domains, na.rm = TRUE),\n",
    "\n",
    "              min = min(sld_length), \n",
    "              max = max(sld_length), \n",
    "              mean = mean(sld_length, na.rm = TRUE), \n",
    "              rng = max - min, \n",
    "              std = sd(sld_length, na.rm = TRUE), \n",
    "              skew = skewness(sld_length, na.rm = TRUE), \n",
    "              kurt = kurtosis(sld_length, na.rm = TRUE)\n",
    "dim(geo_maj)\n",
    "head(geo_maj)"
   ]
  },
  {
   "cell_type": "code",
   "execution_count": 150,
   "metadata": {},
   "outputs": [
    {
     "ename": "ERROR",
     "evalue": "Error in merge.data.table(expiry_train_df_1, geo_maj, on = \"tld_registrar_index\", : Elements listed in `by` must be valid column names in x and y\n",
     "output_type": "error",
     "traceback": [
      "Error in merge.data.table(expiry_train_df_1, geo_maj, on = \"tld_registrar_index\", : Elements listed in `by` must be valid column names in x and y\nTraceback:\n",
      "1. merge(expiry_train_df_1, geo_maj, on = \"tld_registrar_index\", \n .     all.x = TRUE)",
      "2. merge.data.table(expiry_train_df_1, geo_maj, on = \"tld_registrar_index\", \n .     all.x = TRUE)",
      "3. stop(\"Elements listed in `by` must be valid column names in x and y\")"
     ]
    }
   ],
   "source": [
    "test <- merge(expiry_train_df_1, geo_maj, on='tld_registrar_index', all.x=TRUE)\n",
    "dim(test)\n",
    "head(test)"
   ]
  },
  {
   "cell_type": "code",
   "execution_count": 138,
   "metadata": {},
   "outputs": [
    {
     "name": "stderr",
     "output_type": "stream",
     "text": [
      "`summarise()` regrouping output by 'tld_registrar_index' (override with `.groups` argument)\n",
      "\n"
     ]
    }
   ],
   "source": [
    "country_maj = expiry_train_df_1 %>%\n",
    "  add_count(tld_registrar_index, reseller_country) %>%\n",
    "  group_by(tld_registrar_index) %>%\n",
    "  mutate(reseller_country_maj = reseller_country[n == max(n)][1]) %>%\n",
    "  select(-n) %>% \n",
    "  group_by(tld_registrar_index,reseller_country_maj) %>%\n",
    "    summarise(n = n()) %>% \n",
    "    arrange(desc(n)) %>%\n",
    "    pull(reseller_country_maj)"
   ]
  },
  {
   "cell_type": "code",
   "execution_count": 139,
   "metadata": {},
   "outputs": [
    {
     "name": "stderr",
     "output_type": "stream",
     "text": [
      "`summarise()` ungrouping output (override with `.groups` argument)\n",
      "\n"
     ]
    }
   ],
   "source": [
    "country_cnt = expiry_train_df_1 %>%\n",
    "  add_count(tld_registrar_index, reseller_country) %>%\n",
    "  group_by(tld_registrar_index) %>%\n",
    "  summarise(reseller_country_cnt = n_distinct(reseller_country)) %>%\n",
    "  pull(reseller_country_cnt)  "
   ]
  },
  {
   "cell_type": "code",
   "execution_count": 140,
   "metadata": {},
   "outputs": [
    {
     "name": "stderr",
     "output_type": "stream",
     "text": [
      "`summarise()` regrouping output by 'tld_registrar_index' (override with `.groups` argument)\n",
      "\n"
     ]
    }
   ],
   "source": [
    "region_maj = expiry_train_df_1 %>%\n",
    "  add_count(tld_registrar_index, region) %>%\n",
    "  group_by(tld_registrar_index) %>%\n",
    "  mutate(region_maj = region[n == max(n)][1]) %>%\n",
    "  select(-n) %>% \n",
    "  group_by(tld_registrar_index,region_maj) %>%\n",
    "    summarise(n = n()) %>% \n",
    "    arrange(desc(n)) %>%\n",
    "    pull(region_maj)"
   ]
  },
  {
   "cell_type": "code",
   "execution_count": 141,
   "metadata": {},
   "outputs": [
    {
     "name": "stderr",
     "output_type": "stream",
     "text": [
      "`summarise()` ungrouping output (override with `.groups` argument)\n",
      "\n"
     ]
    }
   ],
   "source": [
    "region_cnt = expiry_train_df_1 %>%\n",
    "  add_count(tld_registrar_index, region) %>%\n",
    "  group_by(tld_registrar_index) %>%\n",
    "  summarise(reseller_region_cnt = n_distinct(reseller_country)) %>%\n",
    "  pull(reseller_region_cnt)  "
   ]
  },
  {
   "cell_type": "code",
   "execution_count": 142,
   "metadata": {},
   "outputs": [
    {
     "name": "stderr",
     "output_type": "stream",
     "text": [
      "`summarise()` ungrouping output (override with `.groups` argument)\n",
      "\n"
     ]
    }
   ],
   "source": [
    "daydom_stats = expiry_train_df_1 %>%\n",
    "    group_by(tld_registrar_index) %>% \n",
    "    summarise(n = n(), \n",
    "              daydom_min = min(day_domains), \n",
    "              daydom_max = max(day_domains), \n",
    "              daydom_mean = mean(day_domains, na.rm = TRUE), \n",
    "              daydom_rng = daydom_max - daydom_min, \n",
    "              daydom_std = sd(day_domains, na.rm = TRUE), \n",
    "              daydom_skew = skewness(day_domains, na.rm = TRUE), \n",
    "              daydom_kurt = kurtosis(day_domains, na.rm = TRUE)) %>% \n",
    "    arrange(desc(n)) \n",
    "\n",
    "daydom_min <- daydom_stats %>% pull(daydom_min)\n",
    "daydom_max <- daydom_stats %>% pull(daydom_max)\n",
    "daydom_mean <- daydom_stats %>% pull(daydom_mean)\n",
    "daydom_rng <- daydom_stats %>% pull(daydom_rng)\n",
    "daydom_std <- daydom_stats %>% pull(daydom_std)\n",
    "daydom_skew <- daydom_stats %>% pull(daydom_skew)\n",
    "daydom_kurt <- daydom_stats %>% pull(daydom_kurt)\n",
    "\n"
   ]
  },
  {
   "cell_type": "code",
   "execution_count": 143,
   "metadata": {},
   "outputs": [
    {
     "name": "stderr",
     "output_type": "stream",
     "text": [
      "`summarise()` ungrouping output (override with `.groups` argument)\n",
      "\n"
     ]
    }
   ],
   "source": [
    "sldlen_stats = expiry_train_df_1 %>%\n",
    "    group_by(tld_registrar_index) %>% \n",
    "    summarise(n = n(), \n",
    "              min = min(sld_length), \n",
    "              max = max(sld_length), \n",
    "              mean = mean(sld_length, na.rm = TRUE), \n",
    "              rng = max - min, \n",
    "              std = sd(sld_length, na.rm = TRUE), \n",
    "              skew = skewness(sld_length, na.rm = TRUE), \n",
    "              kurt = kurtosis(sld_length, na.rm = TRUE)) %>% \n",
    "    arrange(desc(n)) \n",
    "\n",
    "sldlen_min <- sldlen_stats %>% pull(min)\n",
    "sldlen_max <- sldlen_stats %>% pull(max)\n",
    "sldlen_mean <- sldlen_stats %>% pull(mean)\n",
    "sldlen_rng <- sldlen_stats %>% pull(rng)\n",
    "sldlen_std <- sldlen_stats %>% pull(std)\n",
    "sldlen_skew <- sldlen_stats %>% pull(skew)\n",
    "sldlen_kurt <- sldlen_stats %>% pull(kurt)\n",
    "\n"
   ]
  },
  {
   "cell_type": "code",
   "execution_count": 144,
   "metadata": {},
   "outputs": [
    {
     "name": "stderr",
     "output_type": "stream",
     "text": [
      "`summarise()` ungrouping output (override with `.groups` argument)\n",
      "\n"
     ]
    }
   ],
   "source": [
    "gibbs_stats = expiry_train_df_1 %>%\n",
    "    group_by(tld_registrar_index) %>% \n",
    "    summarise(n = n(), \n",
    "              min = min(gibb_score), \n",
    "              max = max(gibb_score), \n",
    "              mean = mean(gibb_score, na.rm = TRUE), \n",
    "              rng = max - min, \n",
    "              std = sd(gibb_score, na.rm = TRUE), \n",
    "              skew = skewness(gibb_score, na.rm = TRUE), \n",
    "              kurt = kurtosis(gibb_score, na.rm = TRUE)) %>% \n",
    "    arrange(desc(n)) \n",
    "\n",
    "gibbs_min <- gibbs_stats %>% pull(min)\n",
    "gibbs_max <- gibbs_stats %>% pull(max)\n",
    "gibbs_mean <- gibbs_stats %>% pull(mean)\n",
    "gibbs_rng <- gibbs_stats %>% pull(rng)\n",
    "gibbs_std <- gibbs_stats %>% pull(std)\n",
    "gibbs_skew <- gibbs_stats %>% pull(skew)\n",
    "gibbs_kurt <- gibbs_stats %>% pull(kurt)\n"
   ]
  },
  {
   "cell_type": "code",
   "execution_count": 145,
   "metadata": {},
   "outputs": [
    {
     "name": "stderr",
     "output_type": "stream",
     "text": [
      "`summarise()` ungrouping output (override with `.groups` argument)\n",
      "\n"
     ]
    }
   ],
   "source": [
    "pdcnt_stats = expiry_train_df_1 %>%\n",
    "    group_by(tld_registrar_index) %>% \n",
    "    summarise(n = n(), \n",
    "              min = min(pattern_domain_count), \n",
    "              max = max(pattern_domain_count), \n",
    "              mean = mean(pattern_domain_count, na.rm = TRUE), \n",
    "              rng = max - min, \n",
    "              std = sd(pattern_domain_count, na.rm = TRUE), \n",
    "              skew = skewness(pattern_domain_count, na.rm = TRUE), \n",
    "              kurt = kurtosis(pattern_domain_count, na.rm = TRUE)) %>% \n",
    "    arrange(desc(n)) \n",
    "\n",
    "pdcnt_min <- pdcnt_stats %>% pull(min)\n",
    "pdcnt_max <- pdcnt_stats %>% pull(max)\n",
    "pdcnt_mean <- pdcnt_stats %>% pull(mean)\n",
    "pdcnt_rng <- pdcnt_stats %>% pull(rng)\n",
    "pdcnt_std <- pdcnt_stats %>% pull(std)\n",
    "pdcnt_skew <- pdcnt_stats %>% pull(skew)\n",
    "pdcnt_kurt <- pdcnt_stats %>% pull(kurt)"
   ]
  },
  {
   "cell_type": "code",
   "execution_count": 146,
   "metadata": {},
   "outputs": [
    {
     "name": "stderr",
     "output_type": "stream",
     "text": [
      "`summarise()` ungrouping output (override with `.groups` argument)\n",
      "\n"
     ]
    }
   ],
   "source": [
    "rarpt_stats = expiry_train_df_1 %>%\n",
    "    group_by(tld_registrar_index) %>% \n",
    "    summarise(n = n(), \n",
    "              min = min(reg_arpt), \n",
    "              max = max(reg_arpt), \n",
    "              mean = mean(reg_arpt, na.rm = TRUE), \n",
    "              rng = max - min, \n",
    "              std = sd(reg_arpt, na.rm = TRUE), \n",
    "              skew = skewness(reg_arpt, na.rm = TRUE), \n",
    "              kurt = kurtosis(reg_arpt, na.rm = TRUE)) %>% \n",
    "    arrange(desc(n)) \n",
    "\n",
    "rarpt_min <- rarpt_stats %>% pull(min)\n",
    "rarpt_max <- rarpt_stats %>% pull(max)\n",
    "rarpt_mean <- rarpt_stats %>% pull(mean)\n",
    "rarpt_rng <- rarpt_stats %>% pull(rng)\n",
    "rarpt_std <- rarpt_stats %>% pull(std)\n",
    "rarpt_skew <- rarpt_stats %>% pull(skew)\n",
    "rarpt_kurt <- rarpt_stats %>% pull(kurt)"
   ]
  },
  {
   "cell_type": "markdown",
   "metadata": {},
   "source": [
    "## Add tld_reseller level feature engineering"
   ]
  },
  {
   "cell_type": "code",
   "execution_count": 32,
   "metadata": {},
   "outputs": [],
   "source": [
    "metrics_df = metrics_df %>% \n",
    "    mutate(tld_reseller = tld_reseller_names,\n",
    "            count = count_obs,\n",
    "            ren_prp = ren_prp,\n",
    "            tld_rat = tld_rat,\n",
    "            country_maj = country_maj,\n",
    "            region_maj = region_maj,\n",
    "            country_cnt = country_cnt,\n",
    "            region_cnt = region_cnt,\n",
    "            geo_cnt = geo_cnt,\n",
    "            geo_maj = geo_maj,\n",
    "\n",
    "            daydom_min = daydom_min,\n",
    "            daydom_max = daydom_max,\n",
    "            daydom_mean = daydom_mean,\n",
    "            daydom_rng = daydom_rng,\n",
    "            daydom_std = daydom_std,\n",
    "            daydom_skew = daydom_skew,\n",
    "            daydom_kurt = daydom_kurt,\n",
    "\n",
    "            sldlen_min = sldlen_min,\n",
    "            sldlen_max = sldlen_max,\n",
    "            sldlen_mean = sldlen_mean,\n",
    "            sldlen_rng = sldlen_rng,\n",
    "            sldlen_std = sldlen_std,\n",
    "            sldlen_skew = sldlen_skew,\n",
    "            sldlen_kurt = sldlen_kurt,\n",
    "\n",
    "            gibbs_min = gibbs_min,\n",
    "            gibbs_max = gibbs_max,\n",
    "            gibbs_mean = gibbs_mean,\n",
    "            gibbs_rng = gibbs_rng,\n",
    "            gibbs_std = gibbs_std,\n",
    "            gibbs_skew = gibbs_skew,\n",
    "            gibbs_kurt = gibbs_kurt,\n",
    "\n",
    "            pdcnt_min = pdcnt_min,\n",
    "            pdcnt_max = pdcnt_max,\n",
    "            pdcnt_mean = pdcnt_mean,\n",
    "            pdcnt_rng = pdcnt_rng,\n",
    "            pdcnt_std = pdcnt_std,\n",
    "            pdcnt_skew = pdcnt_skew,\n",
    "            pdcnt_kurt = pdcnt_kurt,\n",
    "\n",
    "            rarpt_min = rarpt_min,\n",
    "            rarpt_max = rarpt_max,\n",
    "            rarpt_mean = rarpt_mean,\n",
    "            rarpt_rng = rarpt_rng,\n",
    "            rarpt_std = rarpt_std,\n",
    "            rarpt_skew = rarpt_skew,\n",
    "            rarpt_kurt = rarpt_kurt)"
   ]
  },
  {
   "cell_type": "code",
   "execution_count": 33,
   "metadata": {},
   "outputs": [
    {
     "data": {
      "text/html": [
       "<style>\n",
       ".list-inline {list-style: none; margin:0; padding: 0}\n",
       ".list-inline>li {display: inline-block}\n",
       ".list-inline>li:not(:last-child)::after {content: \"\\00b7\"; padding: 0 .5ex}\n",
       "</style>\n",
       "<ol class=list-inline><li>1723</li><li>60</li></ol>\n"
      ],
      "text/latex": [
       "\\begin{enumerate*}\n",
       "\\item 1723\n",
       "\\item 60\n",
       "\\end{enumerate*}\n"
      ],
      "text/markdown": [
       "1. 1723\n",
       "2. 60\n",
       "\n",
       "\n"
      ],
      "text/plain": [
       "[1] 1723   60"
      ]
     },
     "metadata": {},
     "output_type": "display_data"
    },
    {
     "data": {
      "text/html": [
       "<table>\n",
       "<caption>A data.frame: 6 × 60</caption>\n",
       "<thead>\n",
       "\t<tr><th></th><th scope=col>tld_registrar_index</th><th scope=col>reseller</th><th scope=col>n</th><th scope=col>l10_seg2_glm</th><th scope=col>l10_seg_glm</th><th scope=col>l10_agg_glm</th><th scope=col>l10_seg2_rf</th><th scope=col>l10_seg_rf</th><th scope=col>l10_agg_rf</th><th scope=col>auc_seg2_glm</th><th scope=col>auc_seg_glm</th><th scope=col>auc_agg_glm</th><th scope=col>auc_seg2_rf</th><th scope=col>auc_seg_rf</th><th scope=col>auc_agg_rf</th><th scope=col>tld_reseller</th><th scope=col>count</th><th scope=col>ren_prp</th><th scope=col>tld_rat</th><th scope=col>country_maj</th><th scope=col>region_maj</th><th scope=col>country_cnt</th><th scope=col>region_cnt</th><th scope=col>geo_cnt</th><th scope=col>geo_maj</th><th scope=col>⋯</th><th scope=col>sldlen_rng</th><th scope=col>sldlen_std</th><th scope=col>sldlen_skew</th><th scope=col>sldlen_kurt</th><th scope=col>gibbs_min</th><th scope=col>gibbs_max</th><th scope=col>gibbs_mean</th><th scope=col>gibbs_rng</th><th scope=col>gibbs_std</th><th scope=col>gibbs_skew</th><th scope=col>gibbs_kurt</th><th scope=col>pdcnt_min</th><th scope=col>pdcnt_max</th><th scope=col>pdcnt_mean</th><th scope=col>pdcnt_rng</th><th scope=col>pdcnt_std</th><th scope=col>pdcnt_skew</th><th scope=col>pdcnt_kurt</th><th scope=col>rarpt_min</th><th scope=col>rarpt_max</th><th scope=col>rarpt_mean</th><th scope=col>rarpt_rng</th><th scope=col>rarpt_std</th><th scope=col>rarpt_skew</th><th scope=col>rarpt_kurt</th></tr>\n",
       "\t<tr><th></th><th scope=col>&lt;fct&gt;</th><th scope=col>&lt;fct&gt;</th><th scope=col>&lt;int&gt;</th><th scope=col>&lt;dbl&gt;</th><th scope=col>&lt;dbl&gt;</th><th scope=col>&lt;dbl&gt;</th><th scope=col>&lt;dbl&gt;</th><th scope=col>&lt;dbl&gt;</th><th scope=col>&lt;dbl&gt;</th><th scope=col>&lt;dbl&gt;</th><th scope=col>&lt;dbl&gt;</th><th scope=col>&lt;dbl&gt;</th><th scope=col>&lt;dbl&gt;</th><th scope=col>&lt;dbl&gt;</th><th scope=col>&lt;dbl&gt;</th><th scope=col>&lt;chr&gt;</th><th scope=col>&lt;int&gt;</th><th scope=col>&lt;dbl&gt;</th><th scope=col>&lt;dbl&gt;</th><th scope=col>&lt;chr&gt;</th><th scope=col>&lt;chr&gt;</th><th scope=col>&lt;int&gt;</th><th scope=col>&lt;int&gt;</th><th scope=col>&lt;int&gt;</th><th scope=col>&lt;fct&gt;</th><th scope=col>⋯</th><th scope=col>&lt;int&gt;</th><th scope=col>&lt;dbl&gt;</th><th scope=col>&lt;dbl&gt;</th><th scope=col>&lt;dbl&gt;</th><th scope=col>&lt;dbl&gt;</th><th scope=col>&lt;dbl&gt;</th><th scope=col>&lt;dbl&gt;</th><th scope=col>&lt;dbl&gt;</th><th scope=col>&lt;dbl&gt;</th><th scope=col>&lt;dbl&gt;</th><th scope=col>&lt;dbl&gt;</th><th scope=col>&lt;int&gt;</th><th scope=col>&lt;int&gt;</th><th scope=col>&lt;dbl&gt;</th><th scope=col>&lt;int&gt;</th><th scope=col>&lt;dbl&gt;</th><th scope=col>&lt;dbl&gt;</th><th scope=col>&lt;dbl&gt;</th><th scope=col>&lt;dbl&gt;</th><th scope=col>&lt;dbl&gt;</th><th scope=col>&lt;dbl&gt;</th><th scope=col>&lt;dbl&gt;</th><th scope=col>&lt;dbl&gt;</th><th scope=col>&lt;dbl&gt;</th><th scope=col>&lt;dbl&gt;</th></tr>\n",
       "</thead>\n",
       "<tbody>\n",
       "\t<tr><th scope=row>1</th><td>sitegmo       </td><td>gmo      </td><td>106569</td><td>8.204334</td><td>8.126935</td><td>6.408669</td><td>8.777090</td><td>8.761610</td><td>8.591331</td><td>0.8958204</td><td>0.8825077</td><td>0.8729102</td><td>0.9345201</td><td>0.9348297</td><td>0.9329721</td><td>sitegmo       </td><td>106569</td><td>0.02441611</td><td>9.383592e-06</td><td>Japan        </td><td>Non China</td><td>1</td><td>1</td><td>1</td><td>Japan        </td><td>⋯</td><td>50</td><td>2.508508</td><td> 6.1455276</td><td>55.010118</td><td>0</td><td>100</td><td>1.672944</td><td>100</td><td> 4.083236</td><td>15.334299</td><td>348.12171</td><td>1</td><td> 51</td><td> 3.432490</td><td> 50</td><td>  5.173298</td><td>3.6994369</td><td>16.3930266</td><td>0.10</td><td>13.37</td><td>0.1037350</td><td>13.27</td><td>0.20216296</td><td>55.154300</td><td>3102.462949</td></tr>\n",
       "\t<tr><th scope=row>2</th><td>funalibaba    </td><td>alibaba  </td><td> 72690</td><td>4.883721</td><td>5.255814</td><td>5.023256</td><td>5.813953</td><td>6.000000</td><td>6.186047</td><td>0.8262791</td><td>0.8430233</td><td>0.8518605</td><td>0.8769767</td><td>0.8779070</td><td>0.8793023</td><td>funalibaba    </td><td> 72690</td><td>0.01223002</td><td>1.375705e-05</td><td>China        </td><td>China    </td><td>1</td><td>1</td><td>1</td><td>China        </td><td>⋯</td><td>60</td><td>3.289407</td><td> 2.9497402</td><td>14.097156</td><td>0</td><td>100</td><td>6.427920</td><td>100</td><td>21.265643</td><td> 4.112206</td><td> 15.16265</td><td>1</td><td>326</td><td>15.295667</td><td>325</td><td> 37.775267</td><td>4.8276608</td><td>27.7586974</td><td>0.75</td><td> 4.75</td><td>0.7521482</td><td> 4.00</td><td>0.08239843</td><td>43.767804</td><td>1951.657326</td></tr>\n",
       "\t<tr><th scope=row>3</th><td>sitenamecheap </td><td>namecheap</td><td> 53536</td><td>2.298025</td><td>1.921005</td><td>1.885099</td><td>2.280072</td><td>2.028725</td><td>2.046679</td><td>0.6862657</td><td>0.6196589</td><td>0.6338420</td><td>0.6654399</td><td>0.6792639</td><td>0.6893178</td><td>sitenamecheap </td><td> 53536</td><td>0.03973027</td><td>1.867902e-05</td><td>United States</td><td>Non China</td><td>1</td><td>1</td><td>1</td><td>United States</td><td>⋯</td><td>57</td><td>4.457749</td><td> 1.8173451</td><td> 7.306364</td><td>0</td><td>100</td><td>4.292920</td><td>100</td><td> 4.790116</td><td>13.813471</td><td>271.44212</td><td>1</td><td>102</td><td> 5.683839</td><td>101</td><td> 11.925165</td><td>4.8845405</td><td>28.4273959</td><td>0.58</td><td> 8.33</td><td>0.8639192</td><td> 7.75</td><td>0.46643401</td><td> 2.149515</td><td>  15.078455</td></tr>\n",
       "\t<tr><th scope=row>4</th><td>pwnamecheap   </td><td>namecheap</td><td> 50470</td><td>3.478261</td><td>3.675889</td><td>3.675889</td><td>3.438735</td><td>4.071146</td><td>4.308300</td><td>0.7274704</td><td>0.6551383</td><td>0.6361660</td><td>0.7167984</td><td>0.7405138</td><td>0.7507905</td><td>pwnamecheap   </td><td> 50470</td><td>0.02276600</td><td>1.981375e-05</td><td>United States</td><td>Non China</td><td>1</td><td>1</td><td>1</td><td>United States</td><td>⋯</td><td>53</td><td>3.816024</td><td> 0.9727996</td><td> 3.074438</td><td>0</td><td>100</td><td>5.021115</td><td>100</td><td> 5.889335</td><td>13.133157</td><td>208.93433</td><td>1</td><td>133</td><td> 3.806340</td><td>132</td><td> 11.591963</td><td>7.9464521</td><td>72.1673024</td><td>0.59</td><td> 5.40</td><td>0.8950147</td><td> 4.81</td><td>0.37727284</td><td> 1.158011</td><td>   3.878673</td></tr>\n",
       "\t<tr><th scope=row>5</th><td>onlinego daddy</td><td>go daddy </td><td> 42162</td><td>2.850995</td><td>2.883271</td><td>2.474449</td><td>2.598171</td><td>2.727273</td><td>2.646584</td><td>0.6506455</td><td>0.6493007</td><td>0.6381119</td><td>0.6095481</td><td>0.6266541</td><td>0.6249328</td><td>onlinego daddy</td><td> 42162</td><td>0.17413785</td><td>2.371804e-05</td><td>United States</td><td>Non China</td><td>1</td><td>1</td><td>1</td><td>United States</td><td>⋯</td><td>57</td><td>4.627825</td><td> 1.2478782</td><td> 3.883563</td><td>0</td><td>100</td><td>5.019930</td><td>100</td><td> 5.451631</td><td>13.738913</td><td>235.73852</td><td>1</td><td> 38</td><td> 1.947346</td><td> 37</td><td>  2.554309</td><td>8.0693509</td><td>82.8231996</td><td>0.50</td><td>19.38</td><td>1.4417611</td><td>18.88</td><td>2.84260467</td><td> 3.856059</td><td>  13.984498</td></tr>\n",
       "\t<tr><th scope=row>6</th><td>sitegandi sas </td><td>gandi sas</td><td> 35309</td><td>8.243243</td><td>8.445946</td><td>7.094595</td><td>4.932432</td><td>8.445946</td><td>8.581081</td><td>0.9202703</td><td>0.9195946</td><td>0.9189189</td><td>0.7162162</td><td>0.9344595</td><td>0.9358108</td><td>sitegandi sas </td><td> 35309</td><td>0.01741766</td><td>2.832139e-05</td><td>France       </td><td>Non China</td><td>1</td><td>1</td><td>1</td><td>EU           </td><td>⋯</td><td>51</td><td>4.052579</td><td>-0.9342607</td><td> 1.096902</td><td>0</td><td>100</td><td>3.680121</td><td>100</td><td> 7.475273</td><td>11.932197</td><td>150.65015</td><td>1</td><td>332</td><td>99.953015</td><td>331</td><td>114.009691</td><td>0.8053729</td><td>-0.9005846</td><td>0.50</td><td> 7.00</td><td>0.5011045</td><td> 6.50</td><td>0.08472577</td><td>76.689854</td><td>5879.500288</td></tr>\n",
       "</tbody>\n",
       "</table>\n"
      ],
      "text/latex": [
       "A data.frame: 6 × 60\n",
       "\\begin{tabular}{r|lllllllllllllllllllllllllllllllllllllllllllllllllll}\n",
       "  & tld\\_registrar\\_index & reseller & n & l10\\_seg2\\_glm & l10\\_seg\\_glm & l10\\_agg\\_glm & l10\\_seg2\\_rf & l10\\_seg\\_rf & l10\\_agg\\_rf & auc\\_seg2\\_glm & auc\\_seg\\_glm & auc\\_agg\\_glm & auc\\_seg2\\_rf & auc\\_seg\\_rf & auc\\_agg\\_rf & tld\\_reseller & count & ren\\_prp & tld\\_rat & country\\_maj & region\\_maj & country\\_cnt & region\\_cnt & geo\\_cnt & geo\\_maj & ⋯ & sldlen\\_rng & sldlen\\_std & sldlen\\_skew & sldlen\\_kurt & gibbs\\_min & gibbs\\_max & gibbs\\_mean & gibbs\\_rng & gibbs\\_std & gibbs\\_skew & gibbs\\_kurt & pdcnt\\_min & pdcnt\\_max & pdcnt\\_mean & pdcnt\\_rng & pdcnt\\_std & pdcnt\\_skew & pdcnt\\_kurt & rarpt\\_min & rarpt\\_max & rarpt\\_mean & rarpt\\_rng & rarpt\\_std & rarpt\\_skew & rarpt\\_kurt\\\\\n",
       "  & <fct> & <fct> & <int> & <dbl> & <dbl> & <dbl> & <dbl> & <dbl> & <dbl> & <dbl> & <dbl> & <dbl> & <dbl> & <dbl> & <dbl> & <chr> & <int> & <dbl> & <dbl> & <chr> & <chr> & <int> & <int> & <int> & <fct> & ⋯ & <int> & <dbl> & <dbl> & <dbl> & <dbl> & <dbl> & <dbl> & <dbl> & <dbl> & <dbl> & <dbl> & <int> & <int> & <dbl> & <int> & <dbl> & <dbl> & <dbl> & <dbl> & <dbl> & <dbl> & <dbl> & <dbl> & <dbl> & <dbl>\\\\\n",
       "\\hline\n",
       "\t1 & sitegmo        & gmo       & 106569 & 8.204334 & 8.126935 & 6.408669 & 8.777090 & 8.761610 & 8.591331 & 0.8958204 & 0.8825077 & 0.8729102 & 0.9345201 & 0.9348297 & 0.9329721 & sitegmo        & 106569 & 0.02441611 & 9.383592e-06 & Japan         & Non China & 1 & 1 & 1 & Japan         & ⋯ & 50 & 2.508508 &  6.1455276 & 55.010118 & 0 & 100 & 1.672944 & 100 &  4.083236 & 15.334299 & 348.12171 & 1 &  51 &  3.432490 &  50 &   5.173298 & 3.6994369 & 16.3930266 & 0.10 & 13.37 & 0.1037350 & 13.27 & 0.20216296 & 55.154300 & 3102.462949\\\\\n",
       "\t2 & funalibaba     & alibaba   &  72690 & 4.883721 & 5.255814 & 5.023256 & 5.813953 & 6.000000 & 6.186047 & 0.8262791 & 0.8430233 & 0.8518605 & 0.8769767 & 0.8779070 & 0.8793023 & funalibaba     &  72690 & 0.01223002 & 1.375705e-05 & China         & China     & 1 & 1 & 1 & China         & ⋯ & 60 & 3.289407 &  2.9497402 & 14.097156 & 0 & 100 & 6.427920 & 100 & 21.265643 &  4.112206 &  15.16265 & 1 & 326 & 15.295667 & 325 &  37.775267 & 4.8276608 & 27.7586974 & 0.75 &  4.75 & 0.7521482 &  4.00 & 0.08239843 & 43.767804 & 1951.657326\\\\\n",
       "\t3 & sitenamecheap  & namecheap &  53536 & 2.298025 & 1.921005 & 1.885099 & 2.280072 & 2.028725 & 2.046679 & 0.6862657 & 0.6196589 & 0.6338420 & 0.6654399 & 0.6792639 & 0.6893178 & sitenamecheap  &  53536 & 0.03973027 & 1.867902e-05 & United States & Non China & 1 & 1 & 1 & United States & ⋯ & 57 & 4.457749 &  1.8173451 &  7.306364 & 0 & 100 & 4.292920 & 100 &  4.790116 & 13.813471 & 271.44212 & 1 & 102 &  5.683839 & 101 &  11.925165 & 4.8845405 & 28.4273959 & 0.58 &  8.33 & 0.8639192 &  7.75 & 0.46643401 &  2.149515 &   15.078455\\\\\n",
       "\t4 & pwnamecheap    & namecheap &  50470 & 3.478261 & 3.675889 & 3.675889 & 3.438735 & 4.071146 & 4.308300 & 0.7274704 & 0.6551383 & 0.6361660 & 0.7167984 & 0.7405138 & 0.7507905 & pwnamecheap    &  50470 & 0.02276600 & 1.981375e-05 & United States & Non China & 1 & 1 & 1 & United States & ⋯ & 53 & 3.816024 &  0.9727996 &  3.074438 & 0 & 100 & 5.021115 & 100 &  5.889335 & 13.133157 & 208.93433 & 1 & 133 &  3.806340 & 132 &  11.591963 & 7.9464521 & 72.1673024 & 0.59 &  5.40 & 0.8950147 &  4.81 & 0.37727284 &  1.158011 &    3.878673\\\\\n",
       "\t5 & onlinego daddy & go daddy  &  42162 & 2.850995 & 2.883271 & 2.474449 & 2.598171 & 2.727273 & 2.646584 & 0.6506455 & 0.6493007 & 0.6381119 & 0.6095481 & 0.6266541 & 0.6249328 & onlinego daddy &  42162 & 0.17413785 & 2.371804e-05 & United States & Non China & 1 & 1 & 1 & United States & ⋯ & 57 & 4.627825 &  1.2478782 &  3.883563 & 0 & 100 & 5.019930 & 100 &  5.451631 & 13.738913 & 235.73852 & 1 &  38 &  1.947346 &  37 &   2.554309 & 8.0693509 & 82.8231996 & 0.50 & 19.38 & 1.4417611 & 18.88 & 2.84260467 &  3.856059 &   13.984498\\\\\n",
       "\t6 & sitegandi sas  & gandi sas &  35309 & 8.243243 & 8.445946 & 7.094595 & 4.932432 & 8.445946 & 8.581081 & 0.9202703 & 0.9195946 & 0.9189189 & 0.7162162 & 0.9344595 & 0.9358108 & sitegandi sas  &  35309 & 0.01741766 & 2.832139e-05 & France        & Non China & 1 & 1 & 1 & EU            & ⋯ & 51 & 4.052579 & -0.9342607 &  1.096902 & 0 & 100 & 3.680121 & 100 &  7.475273 & 11.932197 & 150.65015 & 1 & 332 & 99.953015 & 331 & 114.009691 & 0.8053729 & -0.9005846 & 0.50 &  7.00 & 0.5011045 &  6.50 & 0.08472577 & 76.689854 & 5879.500288\\\\\n",
       "\\end{tabular}\n"
      ],
      "text/markdown": [
       "\n",
       "A data.frame: 6 × 60\n",
       "\n",
       "| <!--/--> | tld_registrar_index &lt;fct&gt; | reseller &lt;fct&gt; | n &lt;int&gt; | l10_seg2_glm &lt;dbl&gt; | l10_seg_glm &lt;dbl&gt; | l10_agg_glm &lt;dbl&gt; | l10_seg2_rf &lt;dbl&gt; | l10_seg_rf &lt;dbl&gt; | l10_agg_rf &lt;dbl&gt; | auc_seg2_glm &lt;dbl&gt; | auc_seg_glm &lt;dbl&gt; | auc_agg_glm &lt;dbl&gt; | auc_seg2_rf &lt;dbl&gt; | auc_seg_rf &lt;dbl&gt; | auc_agg_rf &lt;dbl&gt; | tld_reseller &lt;chr&gt; | count &lt;int&gt; | ren_prp &lt;dbl&gt; | tld_rat &lt;dbl&gt; | country_maj &lt;chr&gt; | region_maj &lt;chr&gt; | country_cnt &lt;int&gt; | region_cnt &lt;int&gt; | geo_cnt &lt;int&gt; | geo_maj &lt;fct&gt; | ⋯ ⋯ | sldlen_rng &lt;int&gt; | sldlen_std &lt;dbl&gt; | sldlen_skew &lt;dbl&gt; | sldlen_kurt &lt;dbl&gt; | gibbs_min &lt;dbl&gt; | gibbs_max &lt;dbl&gt; | gibbs_mean &lt;dbl&gt; | gibbs_rng &lt;dbl&gt; | gibbs_std &lt;dbl&gt; | gibbs_skew &lt;dbl&gt; | gibbs_kurt &lt;dbl&gt; | pdcnt_min &lt;int&gt; | pdcnt_max &lt;int&gt; | pdcnt_mean &lt;dbl&gt; | pdcnt_rng &lt;int&gt; | pdcnt_std &lt;dbl&gt; | pdcnt_skew &lt;dbl&gt; | pdcnt_kurt &lt;dbl&gt; | rarpt_min &lt;dbl&gt; | rarpt_max &lt;dbl&gt; | rarpt_mean &lt;dbl&gt; | rarpt_rng &lt;dbl&gt; | rarpt_std &lt;dbl&gt; | rarpt_skew &lt;dbl&gt; | rarpt_kurt &lt;dbl&gt; |\n",
       "|---|---|---|---|---|---|---|---|---|---|---|---|---|---|---|---|---|---|---|---|---|---|---|---|---|---|---|---|---|---|---|---|---|---|---|---|---|---|---|---|---|---|---|---|---|---|---|---|---|---|---|---|\n",
       "| 1 | sitegmo        | gmo       | 106569 | 8.204334 | 8.126935 | 6.408669 | 8.777090 | 8.761610 | 8.591331 | 0.8958204 | 0.8825077 | 0.8729102 | 0.9345201 | 0.9348297 | 0.9329721 | sitegmo        | 106569 | 0.02441611 | 9.383592e-06 | Japan         | Non China | 1 | 1 | 1 | Japan         | ⋯ | 50 | 2.508508 |  6.1455276 | 55.010118 | 0 | 100 | 1.672944 | 100 |  4.083236 | 15.334299 | 348.12171 | 1 |  51 |  3.432490 |  50 |   5.173298 | 3.6994369 | 16.3930266 | 0.10 | 13.37 | 0.1037350 | 13.27 | 0.20216296 | 55.154300 | 3102.462949 |\n",
       "| 2 | funalibaba     | alibaba   |  72690 | 4.883721 | 5.255814 | 5.023256 | 5.813953 | 6.000000 | 6.186047 | 0.8262791 | 0.8430233 | 0.8518605 | 0.8769767 | 0.8779070 | 0.8793023 | funalibaba     |  72690 | 0.01223002 | 1.375705e-05 | China         | China     | 1 | 1 | 1 | China         | ⋯ | 60 | 3.289407 |  2.9497402 | 14.097156 | 0 | 100 | 6.427920 | 100 | 21.265643 |  4.112206 |  15.16265 | 1 | 326 | 15.295667 | 325 |  37.775267 | 4.8276608 | 27.7586974 | 0.75 |  4.75 | 0.7521482 |  4.00 | 0.08239843 | 43.767804 | 1951.657326 |\n",
       "| 3 | sitenamecheap  | namecheap |  53536 | 2.298025 | 1.921005 | 1.885099 | 2.280072 | 2.028725 | 2.046679 | 0.6862657 | 0.6196589 | 0.6338420 | 0.6654399 | 0.6792639 | 0.6893178 | sitenamecheap  |  53536 | 0.03973027 | 1.867902e-05 | United States | Non China | 1 | 1 | 1 | United States | ⋯ | 57 | 4.457749 |  1.8173451 |  7.306364 | 0 | 100 | 4.292920 | 100 |  4.790116 | 13.813471 | 271.44212 | 1 | 102 |  5.683839 | 101 |  11.925165 | 4.8845405 | 28.4273959 | 0.58 |  8.33 | 0.8639192 |  7.75 | 0.46643401 |  2.149515 |   15.078455 |\n",
       "| 4 | pwnamecheap    | namecheap |  50470 | 3.478261 | 3.675889 | 3.675889 | 3.438735 | 4.071146 | 4.308300 | 0.7274704 | 0.6551383 | 0.6361660 | 0.7167984 | 0.7405138 | 0.7507905 | pwnamecheap    |  50470 | 0.02276600 | 1.981375e-05 | United States | Non China | 1 | 1 | 1 | United States | ⋯ | 53 | 3.816024 |  0.9727996 |  3.074438 | 0 | 100 | 5.021115 | 100 |  5.889335 | 13.133157 | 208.93433 | 1 | 133 |  3.806340 | 132 |  11.591963 | 7.9464521 | 72.1673024 | 0.59 |  5.40 | 0.8950147 |  4.81 | 0.37727284 |  1.158011 |    3.878673 |\n",
       "| 5 | onlinego daddy | go daddy  |  42162 | 2.850995 | 2.883271 | 2.474449 | 2.598171 | 2.727273 | 2.646584 | 0.6506455 | 0.6493007 | 0.6381119 | 0.6095481 | 0.6266541 | 0.6249328 | onlinego daddy |  42162 | 0.17413785 | 2.371804e-05 | United States | Non China | 1 | 1 | 1 | United States | ⋯ | 57 | 4.627825 |  1.2478782 |  3.883563 | 0 | 100 | 5.019930 | 100 |  5.451631 | 13.738913 | 235.73852 | 1 |  38 |  1.947346 |  37 |   2.554309 | 8.0693509 | 82.8231996 | 0.50 | 19.38 | 1.4417611 | 18.88 | 2.84260467 |  3.856059 |   13.984498 |\n",
       "| 6 | sitegandi sas  | gandi sas |  35309 | 8.243243 | 8.445946 | 7.094595 | 4.932432 | 8.445946 | 8.581081 | 0.9202703 | 0.9195946 | 0.9189189 | 0.7162162 | 0.9344595 | 0.9358108 | sitegandi sas  |  35309 | 0.01741766 | 2.832139e-05 | France        | Non China | 1 | 1 | 1 | EU            | ⋯ | 51 | 4.052579 | -0.9342607 |  1.096902 | 0 | 100 | 3.680121 | 100 |  7.475273 | 11.932197 | 150.65015 | 1 | 332 | 99.953015 | 331 | 114.009691 | 0.8053729 | -0.9005846 | 0.50 |  7.00 | 0.5011045 |  6.50 | 0.08472577 | 76.689854 | 5879.500288 |\n",
       "\n"
      ],
      "text/plain": [
       "  tld_registrar_index reseller  n      l10_seg2_glm l10_seg_glm l10_agg_glm\n",
       "1 sitegmo             gmo       106569 8.204334     8.126935    6.408669   \n",
       "2 funalibaba          alibaba    72690 4.883721     5.255814    5.023256   \n",
       "3 sitenamecheap       namecheap  53536 2.298025     1.921005    1.885099   \n",
       "4 pwnamecheap         namecheap  50470 3.478261     3.675889    3.675889   \n",
       "5 onlinego daddy      go daddy   42162 2.850995     2.883271    2.474449   \n",
       "6 sitegandi sas       gandi sas  35309 8.243243     8.445946    7.094595   \n",
       "  l10_seg2_rf l10_seg_rf l10_agg_rf auc_seg2_glm auc_seg_glm auc_agg_glm\n",
       "1 8.777090    8.761610   8.591331   0.8958204    0.8825077   0.8729102  \n",
       "2 5.813953    6.000000   6.186047   0.8262791    0.8430233   0.8518605  \n",
       "3 2.280072    2.028725   2.046679   0.6862657    0.6196589   0.6338420  \n",
       "4 3.438735    4.071146   4.308300   0.7274704    0.6551383   0.6361660  \n",
       "5 2.598171    2.727273   2.646584   0.6506455    0.6493007   0.6381119  \n",
       "6 4.932432    8.445946   8.581081   0.9202703    0.9195946   0.9189189  \n",
       "  auc_seg2_rf auc_seg_rf auc_agg_rf tld_reseller   count  ren_prp   \n",
       "1 0.9345201   0.9348297  0.9329721  sitegmo        106569 0.02441611\n",
       "2 0.8769767   0.8779070  0.8793023  funalibaba      72690 0.01223002\n",
       "3 0.6654399   0.6792639  0.6893178  sitenamecheap   53536 0.03973027\n",
       "4 0.7167984   0.7405138  0.7507905  pwnamecheap     50470 0.02276600\n",
       "5 0.6095481   0.6266541  0.6249328  onlinego daddy  42162 0.17413785\n",
       "6 0.7162162   0.9344595  0.9358108  sitegandi sas   35309 0.01741766\n",
       "  tld_rat      country_maj   region_maj country_cnt region_cnt geo_cnt\n",
       "1 9.383592e-06 Japan         Non China  1           1          1      \n",
       "2 1.375705e-05 China         China      1           1          1      \n",
       "3 1.867902e-05 United States Non China  1           1          1      \n",
       "4 1.981375e-05 United States Non China  1           1          1      \n",
       "5 2.371804e-05 United States Non China  1           1          1      \n",
       "6 2.832139e-05 France        Non China  1           1          1      \n",
       "  geo_maj       ⋯ sldlen_rng sldlen_std sldlen_skew sldlen_kurt gibbs_min\n",
       "1 Japan         ⋯ 50         2.508508    6.1455276  55.010118   0        \n",
       "2 China         ⋯ 60         3.289407    2.9497402  14.097156   0        \n",
       "3 United States ⋯ 57         4.457749    1.8173451   7.306364   0        \n",
       "4 United States ⋯ 53         3.816024    0.9727996   3.074438   0        \n",
       "5 United States ⋯ 57         4.627825    1.2478782   3.883563   0        \n",
       "6 EU            ⋯ 51         4.052579   -0.9342607   1.096902   0        \n",
       "  gibbs_max gibbs_mean gibbs_rng gibbs_std gibbs_skew gibbs_kurt pdcnt_min\n",
       "1 100       1.672944   100        4.083236 15.334299  348.12171  1        \n",
       "2 100       6.427920   100       21.265643  4.112206   15.16265  1        \n",
       "3 100       4.292920   100        4.790116 13.813471  271.44212  1        \n",
       "4 100       5.021115   100        5.889335 13.133157  208.93433  1        \n",
       "5 100       5.019930   100        5.451631 13.738913  235.73852  1        \n",
       "6 100       3.680121   100        7.475273 11.932197  150.65015  1        \n",
       "  pdcnt_max pdcnt_mean pdcnt_rng pdcnt_std  pdcnt_skew pdcnt_kurt rarpt_min\n",
       "1  51        3.432490   50         5.173298 3.6994369  16.3930266 0.10     \n",
       "2 326       15.295667  325        37.775267 4.8276608  27.7586974 0.75     \n",
       "3 102        5.683839  101        11.925165 4.8845405  28.4273959 0.58     \n",
       "4 133        3.806340  132        11.591963 7.9464521  72.1673024 0.59     \n",
       "5  38        1.947346   37         2.554309 8.0693509  82.8231996 0.50     \n",
       "6 332       99.953015  331       114.009691 0.8053729  -0.9005846 0.50     \n",
       "  rarpt_max rarpt_mean rarpt_rng rarpt_std  rarpt_skew rarpt_kurt \n",
       "1 13.37     0.1037350  13.27     0.20216296 55.154300  3102.462949\n",
       "2  4.75     0.7521482   4.00     0.08239843 43.767804  1951.657326\n",
       "3  8.33     0.8639192   7.75     0.46643401  2.149515    15.078455\n",
       "4  5.40     0.8950147   4.81     0.37727284  1.158011     3.878673\n",
       "5 19.38     1.4417611  18.88     2.84260467  3.856059    13.984498\n",
       "6  7.00     0.5011045   6.50     0.08472577 76.689854  5879.500288"
      ]
     },
     "metadata": {},
     "output_type": "display_data"
    }
   ],
   "source": [
    "dim(metrics_df)\n",
    "head(metrics_df)"
   ]
  },
  {
   "cell_type": "code",
   "execution_count": 13,
   "metadata": {},
   "outputs": [],
   "source": []
  },
  {
   "cell_type": "markdown",
   "metadata": {},
   "source": [
    "# Metalearning w/ Fallback -- BINARY\n",
    "## seg2_glm vs fallback "
   ]
  },
  {
   "cell_type": "code",
   "execution_count": null,
   "metadata": {},
   "outputs": [],
   "source": []
  }
 ],
 "metadata": {
  "environment": {
   "name": "r-cpu.3-6.m48",
   "type": "gcloud",
   "uri": "gcr.io/deeplearning-platform-release/r-cpu.3-6:m48"
  },
  "kernelspec": {
   "display_name": "R",
   "language": "R",
   "name": "ir"
  },
  "language_info": {
   "codemirror_mode": "r",
   "file_extension": ".r",
   "mimetype": "text/x-r-source",
   "name": "R",
   "pygments_lexer": "r",
   "version": "3.6.3"
  }
 },
 "nbformat": 4,
 "nbformat_minor": 4
}
