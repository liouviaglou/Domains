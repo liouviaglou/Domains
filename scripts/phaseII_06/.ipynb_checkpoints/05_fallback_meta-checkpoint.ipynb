{
 "cells": [
  {
   "cell_type": "markdown",
   "metadata": {},
   "source": [
    "# Fallback Table Metalearning\n",
    "\n"
   ]
  },
  {
   "cell_type": "code",
   "execution_count": 1,
   "metadata": {},
   "outputs": [],
   "source": [
    "options(repr.matrix.max.cols=50, repr.matrix.max.rows=100)"
   ]
  },
  {
   "cell_type": "code",
   "execution_count": 2,
   "metadata": {},
   "outputs": [],
   "source": [
    "# install.packages(\"pkgcond\")"
   ]
  },
  {
   "cell_type": "code",
   "execution_count": 3,
   "metadata": {},
   "outputs": [
    {
     "name": "stderr",
     "output_type": "stream",
     "text": [
      "\n",
      "Attaching package: ‘dplyr’\n",
      "\n",
      "\n",
      "The following objects are masked from ‘package:stats’:\n",
      "\n",
      "    filter, lag\n",
      "\n",
      "\n",
      "The following objects are masked from ‘package:base’:\n",
      "\n",
      "    intersect, setdiff, setequal, union\n",
      "\n",
      "\n",
      "\n",
      "Attaching package: ‘data.table’\n",
      "\n",
      "\n",
      "The following objects are masked from ‘package:dplyr’:\n",
      "\n",
      "    between, first, last\n",
      "\n",
      "\n",
      "Loading required package: grid\n",
      "\n",
      "Loading required package: libcoin\n",
      "\n",
      "Loading required package: mvtnorm\n",
      "\n",
      "Loading required package: lattice\n",
      "\n",
      "Loading required package: ggplot2\n",
      "\n",
      "randomForest 4.6-14\n",
      "\n",
      "Type rfNews() to see new features/changes/bug fixes.\n",
      "\n",
      "\n",
      "Attaching package: ‘randomForest’\n",
      "\n",
      "\n",
      "The following object is masked from ‘package:ggplot2’:\n",
      "\n",
      "    margin\n",
      "\n",
      "\n",
      "The following object is masked from ‘package:dplyr’:\n",
      "\n",
      "    combine\n",
      "\n",
      "\n",
      "\n",
      "Attaching package: ‘ranger’\n",
      "\n",
      "\n",
      "The following object is masked from ‘package:randomForest’:\n",
      "\n",
      "    importance\n",
      "\n",
      "\n",
      "\n",
      "Attaching package: ‘plotly’\n",
      "\n",
      "\n",
      "The following object is masked from ‘package:ggplot2’:\n",
      "\n",
      "    last_plot\n",
      "\n",
      "\n",
      "The following object is masked from ‘package:stats’:\n",
      "\n",
      "    filter\n",
      "\n",
      "\n",
      "The following object is masked from ‘package:graphics’:\n",
      "\n",
      "    layout\n",
      "\n",
      "\n",
      "Loading required package: RJSONIO\n",
      "\n"
     ]
    },
    {
     "data": {
      "text/html": [
       "'/home/jupyter/local/Domains_202003/scripts/phaseII_06'"
      ],
      "text/latex": [
       "'/home/jupyter/local/Domains\\_202003/scripts/phaseII\\_06'"
      ],
      "text/markdown": [
       "'/home/jupyter/local/Domains_202003/scripts/phaseII_06'"
      ],
      "text/plain": [
       "[1] \"/home/jupyter/local/Domains_202003/scripts/phaseII_06\""
      ]
     },
     "metadata": {},
     "output_type": "display_data"
    }
   ],
   "source": [
    "library(dplyr)\n",
    "library(data.table)\n",
    "library(partykit)\n",
    "library(tictoc)\n",
    "library(caret)\n",
    "library(e1071)\n",
    "library(randomForest)\n",
    "library(ranger)\n",
    "\n",
    "#for 3d plotting\n",
    "library(akima)\n",
    "library(plotly)\n",
    "\n",
    "# for prep data\n",
    "library(rPython)\n",
    "library(stringr)\n",
    "library(pbapply)\n",
    "library(stringdist)\n",
    "library(data.table)\n",
    "library(dominanceanalysis)\n",
    "\n",
    "\n",
    "getwd()"
   ]
  },
  {
   "cell_type": "code",
   "execution_count": 4,
   "metadata": {},
   "outputs": [],
   "source": [
    "\n",
    "source('../orig/functions.R')\n",
    "\n",
    "source('../orig/functions_models.R')\n",
    "\n",
    "source('../phaseII_03_forest/functions_eval.R')\n",
    "\n",
    "\n",
    "source('../phaseII_03_forest/load_prep_data_expiry.R')\n",
    "\n",
    "# expiry_train_prepped_2_1 (list, less df's w/ 0 obs)\n",
    "# expiry_test_prepped_2_1  (list, less df's w/ 0 obs)\n",
    "# expiry_train_df_1 (above, rbound)\n",
    "# expiry_test_df_1 (above, rbound)\n",
    "# expiry_train_df_sub (subset vars)                                        \n",
    "# expiry_test_df_sub (subset vars)"
   ]
  },
  {
   "cell_type": "code",
   "execution_count": 5,
   "metadata": {},
   "outputs": [],
   "source": [
    "\n",
    "source('functions_fallback.R')"
   ]
  },
  {
   "cell_type": "markdown",
   "metadata": {},
   "source": [
    "# Load model predctions"
   ]
  },
  {
   "cell_type": "code",
   "execution_count": 6,
   "metadata": {},
   "outputs": [
    {
     "data": {
      "text/html": [
       "<style>\n",
       ".list-inline {list-style: none; margin:0; padding: 0}\n",
       ".list-inline>li {display: inline-block}\n",
       ".list-inline>li:not(:last-child)::after {content: \"\\00b7\"; padding: 0 .5ex}\n",
       "</style>\n",
       "<ol class=list-inline><li>297100</li><li>12</li></ol>\n"
      ],
      "text/latex": [
       "\\begin{enumerate*}\n",
       "\\item 297100\n",
       "\\item 12\n",
       "\\end{enumerate*}\n"
      ],
      "text/markdown": [
       "1. 297100\n",
       "2. 12\n",
       "\n",
       "\n"
      ],
      "text/plain": [
       "[1] 297100     12"
      ]
     },
     "metadata": {},
     "output_type": "display_data"
    },
    {
     "data": {
      "text/html": [
       "<table>\n",
       "<caption>A data.frame: 6 × 12</caption>\n",
       "<thead>\n",
       "\t<tr><th></th><th scope=col>actual</th><th scope=col>pred_df_seg2_glm</th><th scope=col>pred_df_seg_glm</th><th scope=col>pred_df_agg_glm</th><th scope=col>pred_df_seg2_rf</th><th scope=col>pred_df_seg_rf</th><th scope=col>pred_df_agg_rf</th><th scope=col>tld_registrar_index</th><th scope=col>reseller</th><th scope=col>n</th><th scope=col>domain_id</th><th scope=col>domain</th></tr>\n",
       "\t<tr><th></th><th scope=col>&lt;fct&gt;</th><th scope=col>&lt;dbl&gt;</th><th scope=col>&lt;dbl&gt;</th><th scope=col>&lt;dbl&gt;</th><th scope=col>&lt;dbl&gt;</th><th scope=col>&lt;dbl&gt;</th><th scope=col>&lt;dbl&gt;</th><th scope=col>&lt;fct&gt;</th><th scope=col>&lt;fct&gt;</th><th scope=col>&lt;int&gt;</th><th scope=col>&lt;int&gt;</th><th scope=col>&lt;fct&gt;</th></tr>\n",
       "</thead>\n",
       "<tbody>\n",
       "\t<tr><th scope=row>1</th><td>Not Renewd</td><td>0.6470992</td><td>0.558</td><td>0.419</td><td>0.4765771</td><td>0.4545657</td><td>0.5386137</td><td>sitegmo</td><td>gmo</td><td>106569</td><td>44295183</td><td>kagen.site           </td></tr>\n",
       "\t<tr><th scope=row>2</th><td>Renewed   </td><td>0.6762222</td><td>0.567</td><td>0.397</td><td>0.5410605</td><td>0.5769973</td><td>0.6091513</td><td>sitegmo</td><td>gmo</td><td>106569</td><td>44573611</td><td>designlab.site       </td></tr>\n",
       "\t<tr><th scope=row>3</th><td>Renewed   </td><td>0.9098495</td><td>0.835</td><td>0.410</td><td>0.7018108</td><td>0.6343404</td><td>0.6886680</td><td>sitegmo</td><td>gmo</td><td>106569</td><td>45304858</td><td>hokatu-blog.site     </td></tr>\n",
       "\t<tr><th scope=row>4</th><td>Renewed   </td><td>0.6029350</td><td>0.515</td><td>0.402</td><td>0.2414726</td><td>0.3999603</td><td>0.3464197</td><td>sitegmo</td><td>gmo</td><td>106569</td><td>46235129</td><td>suzuya.site          </td></tr>\n",
       "\t<tr><th scope=row>5</th><td>Not Renewd</td><td>0.9311321</td><td>0.863</td><td>0.417</td><td>0.7749462</td><td>0.7039504</td><td>0.6711740</td><td>sitegmo</td><td>gmo</td><td>106569</td><td>46276970</td><td>wins-company.site    </td></tr>\n",
       "\t<tr><th scope=row>6</th><td>Renewed   </td><td>0.9347869</td><td>0.861</td><td>0.391</td><td>0.6376848</td><td>0.6566740</td><td>0.6717237</td><td>sitegmo</td><td>gmo</td><td>106569</td><td>47809960</td><td>yamatoku-company.site</td></tr>\n",
       "</tbody>\n",
       "</table>\n"
      ],
      "text/latex": [
       "A data.frame: 6 × 12\n",
       "\\begin{tabular}{r|llllllllllll}\n",
       "  & actual & pred\\_df\\_seg2\\_glm & pred\\_df\\_seg\\_glm & pred\\_df\\_agg\\_glm & pred\\_df\\_seg2\\_rf & pred\\_df\\_seg\\_rf & pred\\_df\\_agg\\_rf & tld\\_registrar\\_index & reseller & n & domain\\_id & domain\\\\\n",
       "  & <fct> & <dbl> & <dbl> & <dbl> & <dbl> & <dbl> & <dbl> & <fct> & <fct> & <int> & <int> & <fct>\\\\\n",
       "\\hline\n",
       "\t1 & Not Renewd & 0.6470992 & 0.558 & 0.419 & 0.4765771 & 0.4545657 & 0.5386137 & sitegmo & gmo & 106569 & 44295183 & kagen.site           \\\\\n",
       "\t2 & Renewed    & 0.6762222 & 0.567 & 0.397 & 0.5410605 & 0.5769973 & 0.6091513 & sitegmo & gmo & 106569 & 44573611 & designlab.site       \\\\\n",
       "\t3 & Renewed    & 0.9098495 & 0.835 & 0.410 & 0.7018108 & 0.6343404 & 0.6886680 & sitegmo & gmo & 106569 & 45304858 & hokatu-blog.site     \\\\\n",
       "\t4 & Renewed    & 0.6029350 & 0.515 & 0.402 & 0.2414726 & 0.3999603 & 0.3464197 & sitegmo & gmo & 106569 & 46235129 & suzuya.site          \\\\\n",
       "\t5 & Not Renewd & 0.9311321 & 0.863 & 0.417 & 0.7749462 & 0.7039504 & 0.6711740 & sitegmo & gmo & 106569 & 46276970 & wins-company.site    \\\\\n",
       "\t6 & Renewed    & 0.9347869 & 0.861 & 0.391 & 0.6376848 & 0.6566740 & 0.6717237 & sitegmo & gmo & 106569 & 47809960 & yamatoku-company.site\\\\\n",
       "\\end{tabular}\n"
      ],
      "text/markdown": [
       "\n",
       "A data.frame: 6 × 12\n",
       "\n",
       "| <!--/--> | actual &lt;fct&gt; | pred_df_seg2_glm &lt;dbl&gt; | pred_df_seg_glm &lt;dbl&gt; | pred_df_agg_glm &lt;dbl&gt; | pred_df_seg2_rf &lt;dbl&gt; | pred_df_seg_rf &lt;dbl&gt; | pred_df_agg_rf &lt;dbl&gt; | tld_registrar_index &lt;fct&gt; | reseller &lt;fct&gt; | n &lt;int&gt; | domain_id &lt;int&gt; | domain &lt;fct&gt; |\n",
       "|---|---|---|---|---|---|---|---|---|---|---|---|---|\n",
       "| 1 | Not Renewd | 0.6470992 | 0.558 | 0.419 | 0.4765771 | 0.4545657 | 0.5386137 | sitegmo | gmo | 106569 | 44295183 | kagen.site            |\n",
       "| 2 | Renewed    | 0.6762222 | 0.567 | 0.397 | 0.5410605 | 0.5769973 | 0.6091513 | sitegmo | gmo | 106569 | 44573611 | designlab.site        |\n",
       "| 3 | Renewed    | 0.9098495 | 0.835 | 0.410 | 0.7018108 | 0.6343404 | 0.6886680 | sitegmo | gmo | 106569 | 45304858 | hokatu-blog.site      |\n",
       "| 4 | Renewed    | 0.6029350 | 0.515 | 0.402 | 0.2414726 | 0.3999603 | 0.3464197 | sitegmo | gmo | 106569 | 46235129 | suzuya.site           |\n",
       "| 5 | Not Renewd | 0.9311321 | 0.863 | 0.417 | 0.7749462 | 0.7039504 | 0.6711740 | sitegmo | gmo | 106569 | 46276970 | wins-company.site     |\n",
       "| 6 | Renewed    | 0.9347869 | 0.861 | 0.391 | 0.6376848 | 0.6566740 | 0.6717237 | sitegmo | gmo | 106569 | 47809960 | yamatoku-company.site |\n",
       "\n"
      ],
      "text/plain": [
       "  actual     pred_df_seg2_glm pred_df_seg_glm pred_df_agg_glm pred_df_seg2_rf\n",
       "1 Not Renewd 0.6470992        0.558           0.419           0.4765771      \n",
       "2 Renewed    0.6762222        0.567           0.397           0.5410605      \n",
       "3 Renewed    0.9098495        0.835           0.410           0.7018108      \n",
       "4 Renewed    0.6029350        0.515           0.402           0.2414726      \n",
       "5 Not Renewd 0.9311321        0.863           0.417           0.7749462      \n",
       "6 Renewed    0.9347869        0.861           0.391           0.6376848      \n",
       "  pred_df_seg_rf pred_df_agg_rf tld_registrar_index reseller n      domain_id\n",
       "1 0.4545657      0.5386137      sitegmo             gmo      106569 44295183 \n",
       "2 0.5769973      0.6091513      sitegmo             gmo      106569 44573611 \n",
       "3 0.6343404      0.6886680      sitegmo             gmo      106569 45304858 \n",
       "4 0.3999603      0.3464197      sitegmo             gmo      106569 46235129 \n",
       "5 0.7039504      0.6711740      sitegmo             gmo      106569 46276970 \n",
       "6 0.6566740      0.6717237      sitegmo             gmo      106569 47809960 \n",
       "  domain               \n",
       "1 kagen.site           \n",
       "2 designlab.site       \n",
       "3 hokatu-blog.site     \n",
       "4 suzuya.site          \n",
       "5 wins-company.site    \n",
       "6 yamatoku-company.site"
      ]
     },
     "metadata": {},
     "output_type": "display_data"
    }
   ],
   "source": [
    "predictions_df <- read.csv(\"../../data/tld_reseller_compare_predictions.csv\")\n",
    "\n",
    "dim(predictions_df)\n",
    "head(predictions_df)"
   ]
  },
  {
   "cell_type": "code",
   "execution_count": 7,
   "metadata": {},
   "outputs": [
    {
     "data": {
      "text/html": [
       "<style>\n",
       ".list-inline {list-style: none; margin:0; padding: 0}\n",
       ".list-inline>li {display: inline-block}\n",
       ".list-inline>li:not(:last-child)::after {content: \"\\00b7\"; padding: 0 .5ex}\n",
       "</style>\n",
       "<ol class=list-inline><li>391</li><li>12</li></ol>\n"
      ],
      "text/latex": [
       "\\begin{enumerate*}\n",
       "\\item 391\n",
       "\\item 12\n",
       "\\end{enumerate*}\n"
      ],
      "text/markdown": [
       "1. 391\n",
       "2. 12\n",
       "\n",
       "\n"
      ],
      "text/plain": [
       "[1] 391  12"
      ]
     },
     "metadata": {},
     "output_type": "display_data"
    },
    {
     "name": "stdout",
     "output_type": "stream",
     "text": [
      "0000000000000000000000000000000000000000000000000000000000000000000000000000000000000000000000000000000000000000000000000000000000000000000000000000000000000000000000000000000000000000000000000000000000000000000000000000000000000000000000000000000000000000000000000000000000000000000000000000000000000000000000000000000000000000000000000000000000000000000000000000000000000000000000000000000"
     ]
    }
   ],
   "source": [
    "# there exist 391 rows of predictions df (391 tld-reg) where all predicitions are n/a\n",
    "# this correspnds with tld-reg in training data that do not have any domains in test data\n",
    "predictions_df %>% filter(is.na(domain_id)) %>% dim()\n",
    "vector <- predictions_df %>% filter(is.na(domain_id)) %>% pull(tld_registrar_index)\n",
    "for (v in vector){\n",
    "    cat(expiry_test_df_1 %>% filter(tld_registrar_index==v) %>% nrow())\n",
    "}"
   ]
  },
  {
   "cell_type": "code",
   "execution_count": 8,
   "metadata": {},
   "outputs": [
    {
     "data": {
      "text/html": [
       "<style>\n",
       ".list-inline {list-style: none; margin:0; padding: 0}\n",
       ".list-inline>li {display: inline-block}\n",
       ".list-inline>li:not(:last-child)::after {content: \"\\00b7\"; padding: 0 .5ex}\n",
       "</style>\n",
       "<ol class=list-inline><li>296709</li><li>12</li></ol>\n"
      ],
      "text/latex": [
       "\\begin{enumerate*}\n",
       "\\item 296709\n",
       "\\item 12\n",
       "\\end{enumerate*}\n"
      ],
      "text/markdown": [
       "1. 296709\n",
       "2. 12\n",
       "\n",
       "\n"
      ],
      "text/plain": [
       "[1] 296709     12"
      ]
     },
     "metadata": {},
     "output_type": "display_data"
    }
   ],
   "source": [
    "predictions_df <- predictions_df %>% filter(!is.na(domain_id))\n",
    "dim(predictions_df)"
   ]
  },
  {
   "cell_type": "code",
   "execution_count": 9,
   "metadata": {},
   "outputs": [
    {
     "data": {
      "text/html": [
       "<style>\n",
       ".list-inline {list-style: none; margin:0; padding: 0}\n",
       ".list-inline>li {display: inline-block}\n",
       ".list-inline>li:not(:last-child)::after {content: \"\\00b7\"; padding: 0 .5ex}\n",
       "</style>\n",
       "<ol class=list-inline><li>296797</li><li>39</li></ol>\n"
      ],
      "text/latex": [
       "\\begin{enumerate*}\n",
       "\\item 296797\n",
       "\\item 39\n",
       "\\end{enumerate*}\n"
      ],
      "text/markdown": [
       "1. 296797\n",
       "2. 39\n",
       "\n",
       "\n"
      ],
      "text/plain": [
       "[1] 296797     39"
      ]
     },
     "metadata": {},
     "output_type": "display_data"
    },
    {
     "data": {
      "text/html": [
       "<style>\n",
       ".list-inline {list-style: none; margin:0; padding: 0}\n",
       ".list-inline>li {display: inline-block}\n",
       ".list-inline>li:not(:last-child)::after {content: \"\\00b7\"; padding: 0 .5ex}\n",
       "</style>\n",
       "<ol class=list-inline><li>296797</li><li>47</li></ol>\n"
      ],
      "text/latex": [
       "\\begin{enumerate*}\n",
       "\\item 296797\n",
       "\\item 47\n",
       "\\end{enumerate*}\n"
      ],
      "text/markdown": [
       "1. 296797\n",
       "2. 47\n",
       "\n",
       "\n"
      ],
      "text/plain": [
       "[1] 296797     47"
      ]
     },
     "metadata": {},
     "output_type": "display_data"
    }
   ],
   "source": [
    "dim(expiry_test_df_1)\n",
    "expiry_test_predictions <- merge(expiry_test_df_1, \n",
    "      predictions_df,\n",
    "     on = 'domain_id', all=TRUE)\n",
    "dim(expiry_test_predictions)"
   ]
  },
  {
   "cell_type": "code",
   "execution_count": 10,
   "metadata": {},
   "outputs": [
    {
     "data": {
      "text/html": [
       "<style>\n",
       ".list-inline {list-style: none; margin:0; padding: 0}\n",
       ".list-inline>li {display: inline-block}\n",
       ".list-inline>li:not(:last-child)::after {content: \"\\00b7\"; padding: 0 .5ex}\n",
       "</style>\n",
       "<ol class=list-inline><li>88</li><li>47</li></ol>\n"
      ],
      "text/latex": [
       "\\begin{enumerate*}\n",
       "\\item 88\n",
       "\\item 47\n",
       "\\end{enumerate*}\n"
      ],
      "text/markdown": [
       "1. 88\n",
       "2. 47\n",
       "\n",
       "\n"
      ],
      "text/plain": [
       "[1] 88 47"
      ]
     },
     "metadata": {},
     "output_type": "display_data"
    }
   ],
   "source": [
    "expiry_test_predictions %>% filter(is.na(n)) %>% dim()"
   ]
  },
  {
   "cell_type": "markdown",
   "metadata": {},
   "source": [
    "# Pull up reseller_geo"
   ]
  },
  {
   "cell_type": "code",
   "execution_count": 11,
   "metadata": {},
   "outputs": [
    {
     "data": {
      "text/html": [
       "<style>\n",
       ".list-inline {list-style: none; margin:0; padding: 0}\n",
       ".list-inline>li {display: inline-block}\n",
       ".list-inline>li:not(:last-child)::after {content: \"\\00b7\"; padding: 0 .5ex}\n",
       "</style>\n",
       "<ol class=list-inline><li>1498</li><li>7</li></ol>\n"
      ],
      "text/latex": [
       "\\begin{enumerate*}\n",
       "\\item 1498\n",
       "\\item 7\n",
       "\\end{enumerate*}\n"
      ],
      "text/markdown": [
       "1. 1498\n",
       "2. 7\n",
       "\n",
       "\n"
      ],
      "text/plain": [
       "[1] 1498    7"
      ]
     },
     "metadata": {},
     "output_type": "display_data"
    },
    {
     "data": {
      "text/html": [
       "<table>\n",
       "<caption>A data.frame: 6 × 7</caption>\n",
       "<thead>\n",
       "\t<tr><th></th><th scope=col>start_date</th><th scope=col>end_date</th><th scope=col>reseller</th><th scope=col>reseller_am</th><th scope=col>reseller_country</th><th scope=col>registrar</th><th scope=col>reseller_geo</th></tr>\n",
       "\t<tr><th></th><th scope=col>&lt;fct&gt;</th><th scope=col>&lt;fct&gt;</th><th scope=col>&lt;fct&gt;</th><th scope=col>&lt;fct&gt;</th><th scope=col>&lt;fct&gt;</th><th scope=col>&lt;fct&gt;</th><th scope=col>&lt;fct&gt;</th></tr>\n",
       "</thead>\n",
       "<tbody>\n",
       "\t<tr><th scope=row>1</th><td>2013-01-01T00:00:00Z</td><td>2019-12-31T00:00:00Z</td><td>NA                 </td><td>Not Assigned</td><td>NA           </td><td>NA                 </td><td>Others       </td></tr>\n",
       "\t<tr><th scope=row>2</th><td>2013-01-01T00:00:00Z</td><td>2019-12-31T00:00:00Z</td><td>007names           </td><td>Varun       </td><td>United States</td><td>007names           </td><td>United States</td></tr>\n",
       "\t<tr><th scope=row>3</th><td>2013-01-01T00:00:00Z</td><td>2019-12-31T00:00:00Z</td><td>0101 internet      </td><td>Not Assigned</td><td>Hong Kong    </td><td>0101 internet      </td><td>China        </td></tr>\n",
       "\t<tr><th scope=row>4</th><td>2013-01-01T00:00:00Z</td><td>2019-12-31T00:00:00Z</td><td><span style=white-space:pre-wrap>1&amp;1 internet       </span></td><td><span style=white-space:pre-wrap>Neha        </span></td><td><span style=white-space:pre-wrap>Germany      </span></td><td><span style=white-space:pre-wrap>1&amp;1 internet       </span></td><td><span style=white-space:pre-wrap>EU           </span></td></tr>\n",
       "\t<tr><th scope=row>5</th><td>2018-01-01T00:00:00Z</td><td>2019-12-31T00:00:00Z</td><td>101 domain         </td><td>Divya-Brands</td><td>United States</td><td>101 domain         </td><td>United States</td></tr>\n",
       "\t<tr><th scope=row>6</th><td>2013-01-01T00:00:00Z</td><td>2019-12-31T00:00:00Z</td><td>101domain discovery</td><td>Not Assigned</td><td>Germany      </td><td>101domain discovery</td><td>EU           </td></tr>\n",
       "</tbody>\n",
       "</table>\n"
      ],
      "text/latex": [
       "A data.frame: 6 × 7\n",
       "\\begin{tabular}{r|lllllll}\n",
       "  & start\\_date & end\\_date & reseller & reseller\\_am & reseller\\_country & registrar & reseller\\_geo\\\\\n",
       "  & <fct> & <fct> & <fct> & <fct> & <fct> & <fct> & <fct>\\\\\n",
       "\\hline\n",
       "\t1 & 2013-01-01T00:00:00Z & 2019-12-31T00:00:00Z & NA                  & Not Assigned & NA            & NA                  & Others       \\\\\n",
       "\t2 & 2013-01-01T00:00:00Z & 2019-12-31T00:00:00Z & 007names            & Varun        & United States & 007names            & United States\\\\\n",
       "\t3 & 2013-01-01T00:00:00Z & 2019-12-31T00:00:00Z & 0101 internet       & Not Assigned & Hong Kong     & 0101 internet       & China        \\\\\n",
       "\t4 & 2013-01-01T00:00:00Z & 2019-12-31T00:00:00Z & 1\\&1 internet        & Neha         & Germany       & 1\\&1 internet        & EU           \\\\\n",
       "\t5 & 2018-01-01T00:00:00Z & 2019-12-31T00:00:00Z & 101 domain          & Divya-Brands & United States & 101 domain          & United States\\\\\n",
       "\t6 & 2013-01-01T00:00:00Z & 2019-12-31T00:00:00Z & 101domain discovery & Not Assigned & Germany       & 101domain discovery & EU           \\\\\n",
       "\\end{tabular}\n"
      ],
      "text/markdown": [
       "\n",
       "A data.frame: 6 × 7\n",
       "\n",
       "| <!--/--> | start_date &lt;fct&gt; | end_date &lt;fct&gt; | reseller &lt;fct&gt; | reseller_am &lt;fct&gt; | reseller_country &lt;fct&gt; | registrar &lt;fct&gt; | reseller_geo &lt;fct&gt; |\n",
       "|---|---|---|---|---|---|---|---|\n",
       "| 1 | 2013-01-01T00:00:00Z | 2019-12-31T00:00:00Z | NA                  | Not Assigned | NA            | NA                  | Others        |\n",
       "| 2 | 2013-01-01T00:00:00Z | 2019-12-31T00:00:00Z | 007names            | Varun        | United States | 007names            | United States |\n",
       "| 3 | 2013-01-01T00:00:00Z | 2019-12-31T00:00:00Z | 0101 internet       | Not Assigned | Hong Kong     | 0101 internet       | China         |\n",
       "| 4 | 2013-01-01T00:00:00Z | 2019-12-31T00:00:00Z | 1&amp;1 internet        | Neha         | Germany       | 1&amp;1 internet        | EU            |\n",
       "| 5 | 2018-01-01T00:00:00Z | 2019-12-31T00:00:00Z | 101 domain          | Divya-Brands | United States | 101 domain          | United States |\n",
       "| 6 | 2013-01-01T00:00:00Z | 2019-12-31T00:00:00Z | 101domain discovery | Not Assigned | Germany       | 101domain discovery | EU            |\n",
       "\n"
      ],
      "text/plain": [
       "  start_date           end_date             reseller            reseller_am \n",
       "1 2013-01-01T00:00:00Z 2019-12-31T00:00:00Z NA                  Not Assigned\n",
       "2 2013-01-01T00:00:00Z 2019-12-31T00:00:00Z 007names            Varun       \n",
       "3 2013-01-01T00:00:00Z 2019-12-31T00:00:00Z 0101 internet       Not Assigned\n",
       "4 2013-01-01T00:00:00Z 2019-12-31T00:00:00Z 1&1 internet        Neha        \n",
       "5 2018-01-01T00:00:00Z 2019-12-31T00:00:00Z 101 domain          Divya-Brands\n",
       "6 2013-01-01T00:00:00Z 2019-12-31T00:00:00Z 101domain discovery Not Assigned\n",
       "  reseller_country registrar           reseller_geo \n",
       "1 NA               NA                  Others       \n",
       "2 United States    007names            United States\n",
       "3 Hong Kong        0101 internet       China        \n",
       "4 Germany          1&1 internet        EU           \n",
       "5 United States    101 domain          United States\n",
       "6 Germany          101domain discovery EU           "
      ]
     },
     "metadata": {},
     "output_type": "display_data"
    }
   ],
   "source": [
    "# system(\"gsutil cp gs://data_input/PredictiveModelAnalysis_ResellerGeoMap.csv /home/jupyter/local/Domains_202003/data/PredictiveModelAnalysis_ResellerGeoMap.csv\")\n",
    "geoLookupDF <- read.csv(\"/home/jupyter/local/Domains_202003/data/PredictiveModelAnalysis_ResellerGeoMap.csv\")\n",
    "# need to remove final row with all NAs\n",
    "geoLookupDF <- geoLookupDF %>% filter_all(any_vars(!is.na(.)))\n",
    "dim(geoLookupDF)\n",
    "head(geoLookupDF)"
   ]
  },
  {
   "cell_type": "markdown",
   "metadata": {},
   "source": [
    "# Add reseller_geo to expiry_train_df_1 for fall_back gen"
   ]
  },
  {
   "cell_type": "code",
   "execution_count": null,
   "metadata": {},
   "outputs": [
    {
     "data": {
      "text/html": [
       "<style>\n",
       ".list-inline {list-style: none; margin:0; padding: 0}\n",
       ".list-inline>li {display: inline-block}\n",
       ".list-inline>li:not(:last-child)::after {content: \"\\00b7\"; padding: 0 .5ex}\n",
       "</style>\n",
       "<ol class=list-inline><li>1188250</li><li>39</li></ol>\n"
      ],
      "text/latex": [
       "\\begin{enumerate*}\n",
       "\\item 1188250\n",
       "\\item 39\n",
       "\\end{enumerate*}\n"
      ],
      "text/markdown": [
       "1. 1188250\n",
       "2. 39\n",
       "\n",
       "\n"
      ],
      "text/plain": [
       "[1] 1188250      39"
      ]
     },
     "metadata": {},
     "output_type": "display_data"
    }
   ],
   "source": [
    "expiry_train_df_1$reseller <- factor(expiry_train_df_1$reseller)\n",
    "expiry_train_df_1$reseller_country <- factor(expiry_train_df_1$reseller_country)\n",
    "expiry_train_df_1 <- as.data.frame(expiry_train_df_1)\n",
    "\n",
    "# why result has more rows than input?\n",
    "dim(expiry_train_df_1)\n",
    "expiry_train_df_1 <- merge(expiry_train_df_1,\n",
    "                                 geoLookupDF,\n",
    "                                 on=c('reseller','reseller_country'), \n",
    "                                 all.x = TRUE)\n",
    "dim(expiry_train_df_1)\n",
    "head(expiry_train_df_1)\n"
   ]
  },
  {
   "cell_type": "markdown",
   "metadata": {},
   "source": [
    "# Add reseller_geo to expiry_test_predictions"
   ]
  },
  {
   "cell_type": "code",
   "execution_count": null,
   "metadata": {},
   "outputs": [],
   "source": [
    "expiry_test_predictions$reseller <- factor(expiry_test_predictions$reseller)\n",
    "expiry_test_predictions$reseller_country <- factor(expiry_test_predictions$reseller_country)\n",
    "expiry_test_predictions <- as.data.frame(expiry_test_predictions)\n",
    "\n",
    "# why result has more rows than input?\n",
    "dim(expiry_test_predictions)\n",
    "expiry_test_predictions <- merge(expiry_test_predictions,\n",
    "                                 geoLookupDF,\n",
    "                                 on=c('reseller','reseller_country'), \n",
    "                                 all.x = TRUE)\n",
    "dim(expiry_test_predictions)\n",
    "head(expiry_test_predictions)\n"
   ]
  },
  {
   "cell_type": "markdown",
   "metadata": {},
   "source": [
    "# Generate fallback table predictions"
   ]
  },
  {
   "cell_type": "code",
   "execution_count": null,
   "metadata": {},
   "outputs": [],
   "source": [
    "npv_fallback_list = fallback_gen( npv_historic_renewal_data = expiry_train_df_1, reseller_am_geo_map = geoLookupDF)"
   ]
  },
  {
   "cell_type": "code",
   "execution_count": null,
   "metadata": {},
   "outputs": [],
   "source": [
    "# return list members to objects\n",
    "names(npv_fallback_list)\n",
    "for(i in 1:length(npv_fallback_list)) assign(names(npv_fallback_list)[i], npv_fallback_list[[i]])"
   ]
  },
  {
   "cell_type": "code",
   "execution_count": null,
   "metadata": {},
   "outputs": [],
   "source": [
    "expiry_test_predictions_2 <- fallback_app_1(test_data_op=expiry_test_predictions,\n",
    "               in_col='pred_df_seg2_glm',\n",
    "               out_col='pred_df_seg2_glm_fb')\n",
    "\n",
    "dim(expiry_test_predictions)\n",
    "dim(expiry_test_predictions_2)\n",
    "head(expiry_test_predictions_2)"
   ]
  },
  {
   "cell_type": "code",
   "execution_count": null,
   "metadata": {},
   "outputs": [],
   "source": [
    "# regmatches('pred_', names(expiry_test_predictions), invert = FALSE)\n",
    "for (in_col in names(expiry_test_predictions)[grep('pred_',names(expiry_test_predictions))]){\n",
    "    out_col = paste(in_col,'_fb',sep='')\n",
    "    expiry_test_predictions <- fallback_app_1(test_data_op=expiry_test_predictions, in_col, out_col)\n",
    "}\n"
   ]
  },
  {
   "cell_type": "code",
   "execution_count": null,
   "metadata": {},
   "outputs": [],
   "source": [
    "dim(expiry_test_predictions)\n",
    "head(expiry_test_predictions)"
   ]
  },
  {
   "cell_type": "code",
   "execution_count": null,
   "metadata": {},
   "outputs": [],
   "source": [
    "expiry_test_predictions %>%\n",
    "  select(names(expiry_test_predictions)[grep('pred_',names(expiry_test_predictions))]) %>%  # replace to your needs\n",
    "  summarise_all(funs(sum(is.na(.)))) %>% t()"
   ]
  },
  {
   "cell_type": "markdown",
   "metadata": {},
   "source": [
    "# Calculate overall performance metrics for models & fallback"
   ]
  },
  {
   "cell_type": "code",
   "execution_count": 20,
   "metadata": {},
   "outputs": [],
   "source": [
    "\n",
    "lift_list <- list()\n",
    "auc_list <- list()\n",
    "\n",
    "fallback_lift <- chart_lift(pred_df=expiry_test_predictions,\n",
    "                        dep_var = \"renewal_status\",\n",
    "                        pred_var = \"pred_df_seg2_glm\") \n",
    "\n",
    "lift_list[[\"pred_df_seg2_glm\"]] <- fallback_lift\n",
    "auc_list[[\"pred_df_seg2_glm\"]] <- calc_auc(lift_df=fallback_lift)\n",
    "\n",
    "models <- names(expiry_test_predictions)[grep('pred_',names(expiry_test_predictions))]\n",
    "\n",
    "\n",
    "for (model in models){\n",
    "    model_lift <- chart_lift(pred_df=expiry_test_predictions,\n",
    "                        dep_var = \"renewal_status\",\n",
    "                        pred_var = model) \n",
    "    \n",
    "    fallback_lift <- merge(fallback_lift, model_lift, by=c(\"P\"),all= TRUE, \n",
    "                           suffixes = c(\"\",\n",
    "                                        paste(\"_\",gsub(\"pred_df_\", \"\", model)) ))\n",
    "    \n",
    "    lift_list[[model]] <- model_lift\n",
    "    auc_list[[model]] <- calc_auc(lift_df=model_lift)\n",
    "}\n",
    "\n",
    "lift_df <- fallback_lift"
   ]
  },
  {
   "cell_type": "code",
   "execution_count": null,
   "metadata": {},
   "outputs": [
    {
     "data": {
      "text/html": [
       "12"
      ],
      "text/latex": [
       "12"
      ],
      "text/markdown": [
       "12"
      ],
      "text/plain": [
       "[1] 12"
      ]
     },
     "metadata": {},
     "output_type": "display_data"
    },
    {
     "data": {
      "text/html": [
       "<style>\n",
       ".list-inline {list-style: none; margin:0; padding: 0}\n",
       ".list-inline>li {display: inline-block}\n",
       ".list-inline>li:not(:last-child)::after {content: \"\\00b7\"; padding: 0 .5ex}\n",
       "</style>\n",
       "<ol class=list-inline><li>'pred_df_seg2_glm'</li><li>'pred_df_seg_glm'</li><li>'pred_df_agg_glm'</li><li>'pred_df_seg2_rf'</li><li>'pred_df_seg_rf'</li><li>'pred_df_agg_rf'</li><li>'pred_df_seg2_glm_fb'</li><li>'pred_df_seg_glm_fb'</li><li>'pred_df_agg_glm_fb'</li><li>'pred_df_seg2_rf_fb'</li><li>'pred_df_seg_rf_fb'</li><li>'pred_df_agg_rf_fb'</li></ol>\n"
      ],
      "text/latex": [
       "\\begin{enumerate*}\n",
       "\\item 'pred\\_df\\_seg2\\_glm'\n",
       "\\item 'pred\\_df\\_seg\\_glm'\n",
       "\\item 'pred\\_df\\_agg\\_glm'\n",
       "\\item 'pred\\_df\\_seg2\\_rf'\n",
       "\\item 'pred\\_df\\_seg\\_rf'\n",
       "\\item 'pred\\_df\\_agg\\_rf'\n",
       "\\item 'pred\\_df\\_seg2\\_glm\\_fb'\n",
       "\\item 'pred\\_df\\_seg\\_glm\\_fb'\n",
       "\\item 'pred\\_df\\_agg\\_glm\\_fb'\n",
       "\\item 'pred\\_df\\_seg2\\_rf\\_fb'\n",
       "\\item 'pred\\_df\\_seg\\_rf\\_fb'\n",
       "\\item 'pred\\_df\\_agg\\_rf\\_fb'\n",
       "\\end{enumerate*}\n"
      ],
      "text/markdown": [
       "1. 'pred_df_seg2_glm'\n",
       "2. 'pred_df_seg_glm'\n",
       "3. 'pred_df_agg_glm'\n",
       "4. 'pred_df_seg2_rf'\n",
       "5. 'pred_df_seg_rf'\n",
       "6. 'pred_df_agg_rf'\n",
       "7. 'pred_df_seg2_glm_fb'\n",
       "8. 'pred_df_seg_glm_fb'\n",
       "9. 'pred_df_agg_glm_fb'\n",
       "10. 'pred_df_seg2_rf_fb'\n",
       "11. 'pred_df_seg_rf_fb'\n",
       "12. 'pred_df_agg_rf_fb'\n",
       "\n",
       "\n"
      ],
      "text/plain": [
       " [1] \"pred_df_seg2_glm\"    \"pred_df_seg_glm\"     \"pred_df_agg_glm\"    \n",
       " [4] \"pred_df_seg2_rf\"     \"pred_df_seg_rf\"      \"pred_df_agg_rf\"     \n",
       " [7] \"pred_df_seg2_glm_fb\" \"pred_df_seg_glm_fb\"  \"pred_df_agg_glm_fb\" \n",
       "[10] \"pred_df_seg2_rf_fb\"  \"pred_df_seg_rf_fb\"   \"pred_df_agg_rf_fb\"  "
      ]
     },
     "metadata": {},
     "output_type": "display_data"
    },
    {
     "data": {
      "text/html": [
       "<table>\n",
       "<caption>A matrix: 2 × 12 of type int</caption>\n",
       "<thead>\n",
       "\t<tr><th scope=col>pred_df_seg2_glm</th><th scope=col>pred_df_seg_glm</th><th scope=col>pred_df_agg_glm</th><th scope=col>pred_df_seg2_rf</th><th scope=col>pred_df_seg_rf</th><th scope=col>pred_df_agg_rf</th><th scope=col>pred_df_seg2_glm_fb</th><th scope=col>pred_df_seg_glm_fb</th><th scope=col>pred_df_agg_glm_fb</th><th scope=col>pred_df_seg2_rf_fb</th><th scope=col>pred_df_seg_rf_fb</th><th scope=col>pred_df_agg_rf_fb</th></tr>\n",
       "</thead>\n",
       "<tbody>\n",
       "\t<tr><td>10</td><td>10</td><td>10</td><td>10</td><td>10</td><td>10</td><td>10</td><td>10</td><td>10</td><td>10</td><td>10</td><td>10</td></tr>\n",
       "\t<tr><td> 4</td><td> 4</td><td> 4</td><td> 4</td><td> 4</td><td> 4</td><td> 4</td><td> 4</td><td> 4</td><td> 4</td><td> 4</td><td> 4</td></tr>\n",
       "</tbody>\n",
       "</table>\n"
      ],
      "text/latex": [
       "A matrix: 2 × 12 of type int\n",
       "\\begin{tabular}{llllllllllll}\n",
       " pred\\_df\\_seg2\\_glm & pred\\_df\\_seg\\_glm & pred\\_df\\_agg\\_glm & pred\\_df\\_seg2\\_rf & pred\\_df\\_seg\\_rf & pred\\_df\\_agg\\_rf & pred\\_df\\_seg2\\_glm\\_fb & pred\\_df\\_seg\\_glm\\_fb & pred\\_df\\_agg\\_glm\\_fb & pred\\_df\\_seg2\\_rf\\_fb & pred\\_df\\_seg\\_rf\\_fb & pred\\_df\\_agg\\_rf\\_fb\\\\\n",
       "\\hline\n",
       "\t 10 & 10 & 10 & 10 & 10 & 10 & 10 & 10 & 10 & 10 & 10 & 10\\\\\n",
       "\t  4 &  4 &  4 &  4 &  4 &  4 &  4 &  4 &  4 &  4 &  4 &  4\\\\\n",
       "\\end{tabular}\n"
      ],
      "text/markdown": [
       "\n",
       "A matrix: 2 × 12 of type int\n",
       "\n",
       "| pred_df_seg2_glm | pred_df_seg_glm | pred_df_agg_glm | pred_df_seg2_rf | pred_df_seg_rf | pred_df_agg_rf | pred_df_seg2_glm_fb | pred_df_seg_glm_fb | pred_df_agg_glm_fb | pred_df_seg2_rf_fb | pred_df_seg_rf_fb | pred_df_agg_rf_fb |\n",
       "|---|---|---|---|---|---|---|---|---|---|---|---|\n",
       "| 10 | 10 | 10 | 10 | 10 | 10 | 10 | 10 | 10 | 10 | 10 | 10 |\n",
       "|  4 |  4 |  4 |  4 |  4 |  4 |  4 |  4 |  4 |  4 |  4 |  4 |\n",
       "\n"
      ],
      "text/plain": [
       "     pred_df_seg2_glm pred_df_seg_glm pred_df_agg_glm pred_df_seg2_rf\n",
       "[1,] 10               10              10              10             \n",
       "[2,]  4                4               4               4             \n",
       "     pred_df_seg_rf pred_df_agg_rf pred_df_seg2_glm_fb pred_df_seg_glm_fb\n",
       "[1,] 10             10             10                  10                \n",
       "[2,]  4              4              4                   4                \n",
       "     pred_df_agg_glm_fb pred_df_seg2_rf_fb pred_df_seg_rf_fb pred_df_agg_rf_fb\n",
       "[1,] 10                 10                 10                10               \n",
       "[2,]  4                  4                  4                 4               "
      ]
     },
     "metadata": {},
     "output_type": "display_data"
    },
    {
     "data": {
      "text/html": [
       "<strong>$pred_df_seg2_glm</strong> = <table>\n",
       "<caption>A data.frame: 10 × 4</caption>\n",
       "<thead>\n",
       "\t<tr><th scope=col>P</th><th scope=col>actu_renwd2</th><th scope=col>gain</th><th scope=col>lift</th></tr>\n",
       "\t<tr><th scope=col>&lt;dbl&gt;</th><th scope=col>&lt;int&gt;</th><th scope=col>&lt;dbl&gt;</th><th scope=col>&lt;dbl&gt;</th></tr>\n",
       "</thead>\n",
       "<tbody>\n",
       "\t<tr><td>0.1</td><td>12906</td><td>0.4715899</td><td>4.715899</td></tr>\n",
       "\t<tr><td>0.2</td><td>18852</td><td>0.6888588</td><td>3.444294</td></tr>\n",
       "\t<tr><td>0.3</td><td>22109</td><td>0.8078708</td><td>2.692903</td></tr>\n",
       "\t<tr><td>0.4</td><td>24198</td><td>0.8842036</td><td>2.210509</td></tr>\n",
       "\t<tr><td>0.5</td><td>25431</td><td>0.9292579</td><td>1.858516</td></tr>\n",
       "\t<tr><td>0.6</td><td>26151</td><td>0.9555669</td><td>1.592612</td></tr>\n",
       "\t<tr><td>0.7</td><td>26531</td><td>0.9694523</td><td>1.384932</td></tr>\n",
       "\t<tr><td>0.8</td><td>26795</td><td>0.9790989</td><td>1.223874</td></tr>\n",
       "\t<tr><td>0.9</td><td>26855</td><td>0.9812913</td><td>1.090324</td></tr>\n",
       "\t<tr><td>1.0</td><td>27367</td><td>1.0000000</td><td>1.000000</td></tr>\n",
       "</tbody>\n",
       "</table>\n"
      ],
      "text/latex": [
       "\\textbf{\\$pred\\_df\\_seg2\\_glm} = A data.frame: 10 × 4\n",
       "\\begin{tabular}{llll}\n",
       " P & actu\\_renwd2 & gain & lift\\\\\n",
       " <dbl> & <int> & <dbl> & <dbl>\\\\\n",
       "\\hline\n",
       "\t 0.1 & 12906 & 0.4715899 & 4.715899\\\\\n",
       "\t 0.2 & 18852 & 0.6888588 & 3.444294\\\\\n",
       "\t 0.3 & 22109 & 0.8078708 & 2.692903\\\\\n",
       "\t 0.4 & 24198 & 0.8842036 & 2.210509\\\\\n",
       "\t 0.5 & 25431 & 0.9292579 & 1.858516\\\\\n",
       "\t 0.6 & 26151 & 0.9555669 & 1.592612\\\\\n",
       "\t 0.7 & 26531 & 0.9694523 & 1.384932\\\\\n",
       "\t 0.8 & 26795 & 0.9790989 & 1.223874\\\\\n",
       "\t 0.9 & 26855 & 0.9812913 & 1.090324\\\\\n",
       "\t 1.0 & 27367 & 1.0000000 & 1.000000\\\\\n",
       "\\end{tabular}\n"
      ],
      "text/markdown": [
       "**$pred_df_seg2_glm** = \n",
       "A data.frame: 10 × 4\n",
       "\n",
       "| P &lt;dbl&gt; | actu_renwd2 &lt;int&gt; | gain &lt;dbl&gt; | lift &lt;dbl&gt; |\n",
       "|---|---|---|---|\n",
       "| 0.1 | 12906 | 0.4715899 | 4.715899 |\n",
       "| 0.2 | 18852 | 0.6888588 | 3.444294 |\n",
       "| 0.3 | 22109 | 0.8078708 | 2.692903 |\n",
       "| 0.4 | 24198 | 0.8842036 | 2.210509 |\n",
       "| 0.5 | 25431 | 0.9292579 | 1.858516 |\n",
       "| 0.6 | 26151 | 0.9555669 | 1.592612 |\n",
       "| 0.7 | 26531 | 0.9694523 | 1.384932 |\n",
       "| 0.8 | 26795 | 0.9790989 | 1.223874 |\n",
       "| 0.9 | 26855 | 0.9812913 | 1.090324 |\n",
       "| 1.0 | 27367 | 1.0000000 | 1.000000 |\n",
       "\n"
      ],
      "text/plain": [
       "$pred_df_seg2_glm\n",
       "     P actu_renwd2      gain     lift\n",
       "1  0.1       12906 0.4715899 4.715899\n",
       "2  0.2       18852 0.6888588 3.444294\n",
       "3  0.3       22109 0.8078708 2.692903\n",
       "4  0.4       24198 0.8842036 2.210509\n",
       "5  0.5       25431 0.9292579 1.858516\n",
       "6  0.6       26151 0.9555669 1.592612\n",
       "7  0.7       26531 0.9694523 1.384932\n",
       "8  0.8       26795 0.9790989 1.223874\n",
       "9  0.9       26855 0.9812913 1.090324\n",
       "10 1.0       27367 1.0000000 1.000000\n"
      ]
     },
     "metadata": {},
     "output_type": "display_data"
    }
   ],
   "source": [
    "length(lift_list)\n",
    "names(lift_list)\n",
    "sapply(lift_list, dim)\n",
    "lift_list[\"pred_df_seg2_glm\"]"
   ]
  },
  {
   "cell_type": "code",
   "execution_count": null,
   "metadata": {},
   "outputs": [
    {
     "data": {
      "text/plain": [
       "\n",
       "   Renewed Not Renewd \n",
       "0.09149351 0.90850649 "
      ]
     },
     "metadata": {},
     "output_type": "display_data"
    }
   ],
   "source": [
    "prop.table(table(expiry_test_df_1$renewal_status))"
   ]
  },
  {
   "cell_type": "code",
   "execution_count": null,
   "metadata": {},
   "outputs": [],
   "source": [
    "plot_multigains <- function (lift_df_list=list(seg_glm = lift_df, \n",
    "                                               ben_dtr = lift_df_2),\n",
    "                             auc_list = list(seg_glm = auc, \n",
    "                                             ben_dtr=auc_2),\n",
    "                             prop_positive = 0.1121167) {\n",
    "  \n",
    "  optimal_df <- data.frame( \"P\"=c(0,prop_positive,1.0),\n",
    "                            \"actu_renwd2\"=c(NA,NA,NA),\n",
    "                            \"gain\"=c(0,1.0,1.0),\n",
    "                            \"lift\"=c(NA,NA,NA))\n",
    "  \n",
    "  lift_df_list <- lapply(lift_df_list, function(df) {\n",
    "    df <- df %>%\n",
    "      add_row(P = 0, gain =0) %>%\n",
    "      arrange(P)\n",
    "  })\n",
    "\n",
    "  auc_lift_list = paste(lapply(auc_list, round, 3),sapply(lift_df_list, function(x) round(x[2,\"lift\"],2)), sep=\", \")\n",
    "  \n",
    "  auc_map = paste(names(lift_df_list),auc_lift_list, sep=\" = \")[1:length(lift_df_list)]\n",
    "  \n",
    "  \n",
    "  gains_plot <- ggplot(NULL, aes(P,  gain)) +\n",
    "    geom_line(data = lift_df_list[[1]] %>% slice(1, n())) +\n",
    "    \n",
    "    list(geom_line(data=optimal_df), geom_point(data=optimal_df)) +\n",
    "    \n",
    "    scale_y_continuous(breaks = seq(0, 1, by = .1), limits = c(0,1)) +\n",
    "    scale_x_continuous(breaks = seq(0, 1, by = .1)) +\n",
    "    labs(title = \"Cumulative Gains Plot\",\n",
    "         y = \"Cumulative Gain\",\n",
    "         x = \"Percentile\")+\n",
    "    theme(text = element_text(size=20))\n",
    "  \n",
    "  for(i in seq(length(lift_df_list))){\n",
    "    name = names(lift_df_list)[[i]]\n",
    "    df = lift_df_list[[i]]\n",
    "    auc = auc_list[[i]]\n",
    "    gains_plot <- gains_plot + list(geom_line(data=df), \n",
    "                                    geom_point(data=df))+ \n",
    "      annotate(\"text\", x = .4, y = .9-i*.075, hjust = 0, label = auc_map[[i]], size = 5)\n",
    "  }\n",
    "  \n",
    "  \n",
    "  return(gains_plot)\n",
    "}\n"
   ]
  },
  {
   "cell_type": "code",
   "execution_count": null,
   "metadata": {},
   "outputs": [
    {
     "data": {
      "image/png": "[encoded data removed]",
      "text/plain": [
       "plot without title"
      ]
     },
     "metadata": {
      "image/png": {
       "height": 420,
       "width": 420
      },
      "text/plain": {
       "height": 420,
       "width": 420
      }
     },
     "output_type": "display_data"
    }
   ],
   "source": [
    "plot_multigains(            lift_df_list=lift_list,\n",
    "                             auc_list = auc_list,\n",
    "                             prop_positive = 0.09149351) "
   ]
  },
  {
   "cell_type": "code",
   "execution_count": null,
   "metadata": {},
   "outputs": [
    {
     "data": {
      "text/html": [
       "<style>\n",
       ".list-inline {list-style: none; margin:0; padding: 0}\n",
       ".list-inline>li {display: inline-block}\n",
       ".list-inline>li:not(:last-child)::after {content: \"\\00b7\"; padding: 0 .5ex}\n",
       "</style>\n",
       "<ol class=list-inline><li>'lift_ seg2_glm'</li><li>'lift_ seg_glm'</li><li>'lift_ agg_glm'</li><li>'lift_ seg2_rf'</li><li>'lift_ seg_rf'</li><li>'lift_ agg_rf'</li><li>'lift_ seg2_glm_fb'</li><li>'lift_ seg_glm_fb'</li><li>'lift_ agg_glm_fb'</li><li>'lift_ seg2_rf_fb'</li><li>'lift_ seg_rf_fb'</li><li>'lift_ agg_rf_fb'</li></ol>\n"
      ],
      "text/latex": [
       "\\begin{enumerate*}\n",
       "\\item 'lift\\_ seg2\\_glm'\n",
       "\\item 'lift\\_ seg\\_glm'\n",
       "\\item 'lift\\_ agg\\_glm'\n",
       "\\item 'lift\\_ seg2\\_rf'\n",
       "\\item 'lift\\_ seg\\_rf'\n",
       "\\item 'lift\\_ agg\\_rf'\n",
       "\\item 'lift\\_ seg2\\_glm\\_fb'\n",
       "\\item 'lift\\_ seg\\_glm\\_fb'\n",
       "\\item 'lift\\_ agg\\_glm\\_fb'\n",
       "\\item 'lift\\_ seg2\\_rf\\_fb'\n",
       "\\item 'lift\\_ seg\\_rf\\_fb'\n",
       "\\item 'lift\\_ agg\\_rf\\_fb'\n",
       "\\end{enumerate*}\n"
      ],
      "text/markdown": [
       "1. 'lift_ seg2_glm'\n",
       "2. 'lift_ seg_glm'\n",
       "3. 'lift_ agg_glm'\n",
       "4. 'lift_ seg2_rf'\n",
       "5. 'lift_ seg_rf'\n",
       "6. 'lift_ agg_rf'\n",
       "7. 'lift_ seg2_glm_fb'\n",
       "8. 'lift_ seg_glm_fb'\n",
       "9. 'lift_ agg_glm_fb'\n",
       "10. 'lift_ seg2_rf_fb'\n",
       "11. 'lift_ seg_rf_fb'\n",
       "12. 'lift_ agg_rf_fb'\n",
       "\n",
       "\n"
      ],
      "text/plain": [
       " [1] \"lift_ seg2_glm\"    \"lift_ seg_glm\"     \"lift_ agg_glm\"    \n",
       " [4] \"lift_ seg2_rf\"     \"lift_ seg_rf\"      \"lift_ agg_rf\"     \n",
       " [7] \"lift_ seg2_glm_fb\" \"lift_ seg_glm_fb\"  \"lift_ agg_glm_fb\" \n",
       "[10] \"lift_ seg2_rf_fb\"  \"lift_ seg_rf_fb\"   \"lift_ agg_rf_fb\"  "
      ]
     },
     "metadata": {},
     "output_type": "display_data"
    }
   ],
   "source": [
    "row.names(lift_df %>% filter(P==0.1) %>% select(contains(\"lift_\")) %>% t())"
   ]
  },
  {
   "cell_type": "code",
   "execution_count": null,
   "metadata": {},
   "outputs": [
    {
     "name": "stderr",
     "output_type": "stream",
     "text": [
      "New names:\n",
      "* NA -> ...1\n",
      "* NA -> ...2\n",
      "\n"
     ]
    },
    {
     "data": {
      "text/html": [
       "<table>\n",
       "<caption>A tibble: 6 × 4</caption>\n",
       "<thead>\n",
       "\t<tr><th scope=col>l10_orig</th><th scope=col>l10_fb</th><th scope=col>model</th><th scope=col>imprv</th></tr>\n",
       "\t<tr><th scope=col>&lt;dbl[,1]&gt;</th><th scope=col>&lt;dbl[,1]&gt;</th><th scope=col>&lt;chr&gt;</th><th scope=col>&lt;dbl[,1]&gt;</th></tr>\n",
       "</thead>\n",
       "<tbody>\n",
       "\t<tr><td>4.715899</td><td>4.765959</td><td>lift_seg2_glm</td><td>0.010615218</td></tr>\n",
       "\t<tr><td>3.925896</td><td>3.945993</td><td>lift_seg_glm </td><td>0.005119136</td></tr>\n",
       "\t<tr><td>4.666204</td><td>4.671685</td><td>lift_agg_glm </td><td>0.001174628</td></tr>\n",
       "\t<tr><td>4.619798</td><td>4.624548</td><td>lift_seg2_rf </td><td>0.001028237</td></tr>\n",
       "\t<tr><td>4.857675</td><td>4.865714</td><td>lift_seg_rf  </td><td>0.001654882</td></tr>\n",
       "\t<tr><td>4.829539</td><td>4.835751</td><td>lift_agg_rf  </td><td>0.001286222</td></tr>\n",
       "</tbody>\n",
       "</table>\n"
      ],
      "text/latex": [
       "A tibble: 6 × 4\n",
       "\\begin{tabular}{llll}\n",
       " l10\\_orig & l10\\_fb & model & imprv\\\\\n",
       " <dbl{[},1{]}> & <dbl{[},1{]}> & <chr> & <dbl{[},1{]}>\\\\\n",
       "\\hline\n",
       "\t 4.715899 & 4.765959 & lift\\_seg2\\_glm & 0.010615218\\\\\n",
       "\t 3.925896 & 3.945993 & lift\\_seg\\_glm  & 0.005119136\\\\\n",
       "\t 4.666204 & 4.671685 & lift\\_agg\\_glm  & 0.001174628\\\\\n",
       "\t 4.619798 & 4.624548 & lift\\_seg2\\_rf  & 0.001028237\\\\\n",
       "\t 4.857675 & 4.865714 & lift\\_seg\\_rf   & 0.001654882\\\\\n",
       "\t 4.829539 & 4.835751 & lift\\_agg\\_rf   & 0.001286222\\\\\n",
       "\\end{tabular}\n"
      ],
      "text/markdown": [
       "\n",
       "A tibble: 6 × 4\n",
       "\n",
       "| l10_orig &lt;dbl[,1]&gt; | l10_fb &lt;dbl[,1]&gt; | model &lt;chr&gt; | imprv &lt;dbl[,1]&gt; |\n",
       "|---|---|---|---|\n",
       "| 4.715899 | 4.765959 | lift_seg2_glm | 0.010615218 |\n",
       "| 3.925896 | 3.945993 | lift_seg_glm  | 0.005119136 |\n",
       "| 4.666204 | 4.671685 | lift_agg_glm  | 0.001174628 |\n",
       "| 4.619798 | 4.624548 | lift_seg2_rf  | 0.001028237 |\n",
       "| 4.857675 | 4.865714 | lift_seg_rf   | 0.001654882 |\n",
       "| 4.829539 | 4.835751 | lift_agg_rf   | 0.001286222 |\n",
       "\n"
      ],
      "text/plain": [
       "  l10_orig l10_fb   model         imprv      \n",
       "1 4.715899 4.765959 lift_seg2_glm 0.010615218\n",
       "2 3.925896 3.945993 lift_seg_glm  0.005119136\n",
       "3 4.666204 4.671685 lift_agg_glm  0.001174628\n",
       "4 4.619798 4.624548 lift_seg2_rf  0.001028237\n",
       "5 4.857675 4.865714 lift_seg_rf   0.001654882\n",
       "6 4.829539 4.835751 lift_agg_rf   0.001286222"
      ]
     },
     "metadata": {},
     "output_type": "display_data"
    }
   ],
   "source": [
    "lift_df_tidy <- bind_cols(\n",
    "    lift_df %>% filter(P==0.1) %>% select(contains(\"lift_\")) %>% t() %>% head(6),\n",
    "    lift_df %>% filter(P==0.1) %>% select(contains(\"lift_\")) %>% t() %>% tail(6))\n",
    "lift_df_tidy$model <- c('lift_seg2_glm','lift_seg_glm','lift_agg_glm',\n",
    "                        'lift_seg2_rf','lift_seg_rf','lift_agg_rf')\n",
    "names(lift_df_tidy) <- c('l10_orig','l10_fb','model')\n",
    "lift_df_tidy <- lift_df_tidy %>% mutate(imprv = (l10_fb-l10_orig)/l10_orig)\n",
    "lift_df_tidy"
   ]
  },
  {
   "cell_type": "code",
   "execution_count": null,
   "metadata": {},
   "outputs": [
    {
     "name": "stderr",
     "output_type": "stream",
     "text": [
      "New names:\n",
      "* NA -> ...1\n",
      "* NA -> ...2\n",
      "\n"
     ]
    },
    {
     "data": {
      "text/html": [
       "<table>\n",
       "<caption>A tibble: 6 × 4</caption>\n",
       "<thead>\n",
       "\t<tr><th scope=col>auc_orig</th><th scope=col>auc_fb</th><th scope=col>model</th><th scope=col>imprv</th></tr>\n",
       "\t<tr><th scope=col>&lt;dbl[,1]&gt;</th><th scope=col>&lt;dbl[,1]&gt;</th><th scope=col>&lt;chr&gt;</th><th scope=col>&lt;dbl[,1]&gt;</th></tr>\n",
       "</thead>\n",
       "<tbody>\n",
       "\t<tr><td>0.8167190</td><td>0.8238152</td><td>auc_seg2_glm</td><td>0.008688591</td></tr>\n",
       "\t<tr><td>0.8027497</td><td>0.8061041</td><td>auc_seg_glm </td><td>0.004178644</td></tr>\n",
       "\t<tr><td>0.8113440</td><td>0.8126338</td><td>auc_agg_glm </td><td>0.001589800</td></tr>\n",
       "\t<tr><td>0.8190357</td><td>0.8203329</td><td>auc_seg2_rf </td><td>0.001583793</td></tr>\n",
       "\t<tr><td>0.8315727</td><td>0.8328480</td><td>auc_seg_rf  </td><td>0.001533550</td></tr>\n",
       "\t<tr><td>0.8314704</td><td>0.8327530</td><td>auc_agg_rf  </td><td>0.001542528</td></tr>\n",
       "</tbody>\n",
       "</table>\n"
      ],
      "text/latex": [
       "A tibble: 6 × 4\n",
       "\\begin{tabular}{llll}\n",
       " auc\\_orig & auc\\_fb & model & imprv\\\\\n",
       " <dbl{[},1{]}> & <dbl{[},1{]}> & <chr> & <dbl{[},1{]}>\\\\\n",
       "\\hline\n",
       "\t 0.8167190 & 0.8238152 & auc\\_seg2\\_glm & 0.008688591\\\\\n",
       "\t 0.8027497 & 0.8061041 & auc\\_seg\\_glm  & 0.004178644\\\\\n",
       "\t 0.8113440 & 0.8126338 & auc\\_agg\\_glm  & 0.001589800\\\\\n",
       "\t 0.8190357 & 0.8203329 & auc\\_seg2\\_rf  & 0.001583793\\\\\n",
       "\t 0.8315727 & 0.8328480 & auc\\_seg\\_rf   & 0.001533550\\\\\n",
       "\t 0.8314704 & 0.8327530 & auc\\_agg\\_rf   & 0.001542528\\\\\n",
       "\\end{tabular}\n"
      ],
      "text/markdown": [
       "\n",
       "A tibble: 6 × 4\n",
       "\n",
       "| auc_orig &lt;dbl[,1]&gt; | auc_fb &lt;dbl[,1]&gt; | model &lt;chr&gt; | imprv &lt;dbl[,1]&gt; |\n",
       "|---|---|---|---|\n",
       "| 0.8167190 | 0.8238152 | auc_seg2_glm | 0.008688591 |\n",
       "| 0.8027497 | 0.8061041 | auc_seg_glm  | 0.004178644 |\n",
       "| 0.8113440 | 0.8126338 | auc_agg_glm  | 0.001589800 |\n",
       "| 0.8190357 | 0.8203329 | auc_seg2_rf  | 0.001583793 |\n",
       "| 0.8315727 | 0.8328480 | auc_seg_rf   | 0.001533550 |\n",
       "| 0.8314704 | 0.8327530 | auc_agg_rf   | 0.001542528 |\n",
       "\n"
      ],
      "text/plain": [
       "  auc_orig  auc_fb    model        imprv      \n",
       "1 0.8167190 0.8238152 auc_seg2_glm 0.008688591\n",
       "2 0.8027497 0.8061041 auc_seg_glm  0.004178644\n",
       "3 0.8113440 0.8126338 auc_agg_glm  0.001589800\n",
       "4 0.8190357 0.8203329 auc_seg2_rf  0.001583793\n",
       "5 0.8315727 0.8328480 auc_seg_rf   0.001533550\n",
       "6 0.8314704 0.8327530 auc_agg_rf   0.001542528"
      ]
     },
     "metadata": {},
     "output_type": "display_data"
    }
   ],
   "source": [
    "auc_df_tidy <- bind_cols(\n",
    "    as.data.frame(auc_list) %>% t() %>% head(6),\n",
    "    as.data.frame(auc_list) %>% t() %>% tail(6))\n",
    "auc_df_tidy$model <- c('auc_seg2_glm','auc_seg_glm','auc_agg_glm',\n",
    "                        'auc_seg2_rf','auc_seg_rf','auc_agg_rf')\n",
    "names(auc_df_tidy) <- c('auc_orig','auc_fb','model')\n",
    "auc_df_tidy <- auc_df_tidy %>% mutate(imprv = (auc_fb-auc_orig)/auc_orig)\n",
    "auc_df_tidy\n",
    "\n"
   ]
  },
  {
   "cell_type": "markdown",
   "metadata": {},
   "source": [
    "# Generate one prediction column for each fallback table\n",
    "## to determine when which table is most appropriate"
   ]
  },
  {
   "cell_type": "code",
   "execution_count": null,
   "metadata": {},
   "outputs": [
    {
     "data": {
      "text/html": [
       "<table>\n",
       "<caption>A data.frame: 6 × 62</caption>\n",
       "<thead>\n",
       "\t<tr><th></th><th scope=col>reseller</th><th scope=col>registrar</th><th scope=col>reseller_country</th><th scope=col>domain_id</th><th scope=col>domain</th><th scope=col>tld_registrar_index</th><th scope=col>renewal_type</th><th scope=col>renewed_count</th><th scope=col>expiry_date</th><th scope=col>creation_date</th><th scope=col>status</th><th scope=col>tld</th><th scope=col>region</th><th scope=col>reg_period</th><th scope=col>registrant_country</th><th scope=col>renewal_status</th><th scope=col>renew_mbg</th><th scope=col>renew_type</th><th scope=col>autorenew_type</th><th scope=col>renew_date</th><th scope=col>renew_registrar</th><th scope=col>renew_reseller</th><th scope=col>reg_revenue</th><th scope=col>reg_arpt</th><th scope=col>renew_period</th><th scope=col>⋯</th><th scope=col>pattern_score</th><th scope=col>pattern_domain_count</th><th scope=col>actual</th><th scope=col>pred_df_seg2_glm</th><th scope=col>pred_df_seg_glm</th><th scope=col>pred_df_agg_glm</th><th scope=col>pred_df_seg2_rf</th><th scope=col>pred_df_seg_rf</th><th scope=col>pred_df_agg_rf</th><th scope=col>n</th><th scope=col>start_date</th><th scope=col>end_date</th><th scope=col>reseller_am</th><th scope=col>reseller_geo</th><th scope=col>reg_arpt_slab</th><th scope=col>pred_df_seg2_glm_fb</th><th scope=col>pred_df_seg_glm_fb</th><th scope=col>pred_df_agg_glm_fb</th><th scope=col>pred_df_seg2_rf_fb</th><th scope=col>pred_df_seg_rf_fb</th><th scope=col>pred_df_agg_rf_fb</th><th scope=col>npv_fallback_first_geo_arpt_tld</th><th scope=col>npv_fallback_first_geo_arpt</th><th scope=col>npv_fallback_first_tld_arpt</th><th scope=col>npv_fallback_first_final</th></tr>\n",
       "\t<tr><th></th><th scope=col>&lt;fct&gt;</th><th scope=col>&lt;chr&gt;</th><th scope=col>&lt;fct&gt;</th><th scope=col>&lt;int&gt;</th><th scope=col>&lt;chr&gt;</th><th scope=col>&lt;chr&gt;</th><th scope=col>&lt;chr&gt;</th><th scope=col>&lt;int&gt;</th><th scope=col>&lt;date&gt;</th><th scope=col>&lt;date&gt;</th><th scope=col>&lt;chr&gt;</th><th scope=col>&lt;fct&gt;</th><th scope=col>&lt;chr&gt;</th><th scope=col>&lt;int&gt;</th><th scope=col>&lt;chr&gt;</th><th scope=col>&lt;fct&gt;</th><th scope=col>&lt;int&gt;</th><th scope=col>&lt;chr&gt;</th><th scope=col>&lt;chr&gt;</th><th scope=col>&lt;date&gt;</th><th scope=col>&lt;chr&gt;</th><th scope=col>&lt;chr&gt;</th><th scope=col>&lt;dbl&gt;</th><th scope=col>&lt;dbl&gt;</th><th scope=col>&lt;int&gt;</th><th scope=col>⋯</th><th scope=col>&lt;dbl&gt;</th><th scope=col>&lt;int&gt;</th><th scope=col>&lt;fct&gt;</th><th scope=col>&lt;dbl&gt;</th><th scope=col>&lt;dbl&gt;</th><th scope=col>&lt;dbl&gt;</th><th scope=col>&lt;dbl&gt;</th><th scope=col>&lt;dbl&gt;</th><th scope=col>&lt;dbl&gt;</th><th scope=col>&lt;int&gt;</th><th scope=col>&lt;fct&gt;</th><th scope=col>&lt;fct&gt;</th><th scope=col>&lt;fct&gt;</th><th scope=col>&lt;fct&gt;</th><th scope=col>&lt;fct&gt;</th><th scope=col>&lt;dbl&gt;</th><th scope=col>&lt;dbl&gt;</th><th scope=col>&lt;dbl&gt;</th><th scope=col>&lt;dbl&gt;</th><th scope=col>&lt;dbl&gt;</th><th scope=col>&lt;dbl&gt;</th><th scope=col>&lt;dbl&gt;</th><th scope=col>&lt;dbl&gt;</th><th scope=col>&lt;dbl&gt;</th><th scope=col>&lt;dbl&gt;</th></tr>\n",
       "</thead>\n",
       "<tbody>\n",
       "\t<tr><th scope=row>1</th><td>1&amp;1 internet</td><td>1&amp;1 internet</td><td>Germany</td><td>92459593</td><td><span style=white-space:pre-wrap>penrosetile.store    </span></td><td>store1&amp;1 internet </td><td>FirstTime</td><td>1</td><td>2020-02-01</td><td>2019-02-01</td><td>Active </td><td>store </td><td>Non China</td><td>1</td><td>NA</td><td><span style=white-space:pre-wrap>Renewed   </span></td><td>0</td><td>auto-renewal</td><td><span style=white-space:pre-wrap>realized  </span></td><td>2020-02-01</td><td>1&amp;1 Internet</td><td>1&amp;1 Internet</td><td>15</td><td>15.0000</td><td> 1</td><td>⋯</td><td>0.062500000</td><td>1</td><td><span style=white-space:pre-wrap>Renewed   </span></td><td>0.5069604</td><td>0.534</td><td>0.558</td><td>0.4878033</td><td>0.4981100</td><td>0.4763754</td><td> 765</td><td>2013-01-01T00:00:00Z</td><td>2019-12-31T00:00:00Z</td><td>Neha</td><td>EU</td><td>(10,15] </td><td>0.5069604</td><td>0.534</td><td>0.558</td><td>0.4878033</td><td>0.4981100</td><td>0.4763754</td><td><span style=white-space:pre-wrap>   NA</span></td><td>0.512</td><td>0.549</td><td>0.493</td></tr>\n",
       "\t<tr><th scope=row>2</th><td>1&amp;1 internet</td><td>1&amp;1 internet</td><td>Germany</td><td>91070293</td><td>alcantarapalma.online</td><td>online1&amp;1 internet</td><td>FirstTime</td><td>1</td><td>2020-01-15</td><td>2019-01-15</td><td>Active </td><td>online</td><td>Non China</td><td>1</td><td>NA</td><td>Not Renewd</td><td>0</td><td>auto-renewal</td><td>unrealized</td><td>2020-01-15</td><td>1&amp;1 Internet</td><td>1&amp;1 Internet</td><td> 0</td><td> 0.0001</td><td> 1</td><td>⋯</td><td>0.001600000</td><td>1</td><td>Not Renewd</td><td>0.4234759</td><td>0.425</td><td>0.374</td><td>0.5154490</td><td>0.5268478</td><td>0.5192867</td><td>8041</td><td>2013-01-01T00:00:00Z</td><td>2019-12-31T00:00:00Z</td><td>Neha</td><td>EU</td><td>(-Inf,0]</td><td>0.4234759</td><td>0.425</td><td>0.374</td><td>0.5154490</td><td>0.5268478</td><td>0.5192867</td><td>0.149</td><td>0.122</td><td>0.125</td><td>0.129</td></tr>\n",
       "\t<tr><th scope=row>3</th><td>1&amp;1 internet</td><td>1&amp;1 internet</td><td>Germany</td><td>92243793</td><td><span style=white-space:pre-wrap>layerfarms.online    </span></td><td>online1&amp;1 internet</td><td>FirstTime</td><td>1</td><td>2020-01-30</td><td>2019-01-30</td><td>Active </td><td>online</td><td>Non China</td><td>1</td><td>NA</td><td><span style=white-space:pre-wrap>Renewed   </span></td><td>0</td><td><span style=white-space:pre-wrap>renewal     </span></td><td><span style=white-space:pre-wrap>NA        </span></td><td>2019-05-19</td><td>1&amp;1 Internet</td><td>1&amp;1 Internet</td><td> 1</td><td> 1.0000</td><td> 1</td><td>⋯</td><td>0.031250000</td><td>2</td><td><span style=white-space:pre-wrap>Renewed   </span></td><td>0.4671778</td><td>0.485</td><td>0.475</td><td>0.3369761</td><td>0.3348900</td><td>0.3264582</td><td>8041</td><td>2013-01-01T00:00:00Z</td><td>2019-12-31T00:00:00Z</td><td>Neha</td><td>EU</td><td>(0.3,1] </td><td>0.4671778</td><td>0.485</td><td>0.475</td><td>0.3369761</td><td>0.3348900</td><td>0.3264582</td><td>0.252</td><td>0.081</td><td>0.099</td><td>0.057</td></tr>\n",
       "\t<tr><th scope=row>4</th><td>1&amp;1 internet</td><td>1&amp;1 internet</td><td>Germany</td><td>92382343</td><td><span style=white-space:pre-wrap>koiunyq.online       </span></td><td>online1&amp;1 internet</td><td>FirstTime</td><td>1</td><td>2020-01-31</td><td>2019-01-31</td><td>Deleted</td><td>online</td><td>Non China</td><td>1</td><td>NA</td><td>Not Renewd</td><td>0</td><td><span style=white-space:pre-wrap>NA          </span></td><td><span style=white-space:pre-wrap>NA        </span></td><td>NA</td><td>Not Assigned</td><td>Not Assigned</td><td> 1</td><td> 1.0000</td><td>NA</td><td>⋯</td><td>0.012345679</td><td>1</td><td>Not Renewd</td><td>0.5380713</td><td>0.547</td><td>0.508</td><td>0.3168814</td><td>0.3273583</td><td>0.4140139</td><td>8041</td><td>2013-01-01T00:00:00Z</td><td>2019-12-31T00:00:00Z</td><td>Neha</td><td>EU</td><td>(0.3,1] </td><td>0.5380713</td><td>0.547</td><td>0.508</td><td>0.3168814</td><td>0.3273583</td><td>0.4140139</td><td>0.252</td><td>0.081</td><td>0.099</td><td>0.057</td></tr>\n",
       "\t<tr><th scope=row>5</th><td>1&amp;1 internet</td><td>1&amp;1 internet</td><td>Germany</td><td>89480877</td><td><span style=white-space:pre-wrap>e-move24.online      </span></td><td>online1&amp;1 internet</td><td>FirstTime</td><td>1</td><td>2020-01-02</td><td>2019-01-02</td><td>Active </td><td>online</td><td>Non China</td><td>1</td><td>NA</td><td><span style=white-space:pre-wrap>Renewed   </span></td><td>0</td><td>auto-renewal</td><td><span style=white-space:pre-wrap>realized  </span></td><td>2020-01-02</td><td>1&amp;1 Internet</td><td>1&amp;1 Internet</td><td> 0</td><td> 0.0001</td><td> 1</td><td>⋯</td><td>0.003086420</td><td>1</td><td><span style=white-space:pre-wrap>Renewed   </span></td><td>0.4357224</td><td>0.450</td><td>0.292</td><td>0.5910136</td><td>0.5345685</td><td>0.5278744</td><td>8041</td><td>2013-01-01T00:00:00Z</td><td>2019-12-31T00:00:00Z</td><td>Neha</td><td>EU</td><td>(-Inf,0]</td><td>0.4357224</td><td>0.450</td><td>0.292</td><td>0.5910136</td><td>0.5345685</td><td>0.5278744</td><td>0.149</td><td>0.122</td><td>0.125</td><td>0.129</td></tr>\n",
       "\t<tr><th scope=row>6</th><td>1&amp;1 internet</td><td>1&amp;1 internet</td><td>Germany</td><td>90751138</td><td>votenigeriang.online </td><td>online1&amp;1 internet</td><td>FirstTime</td><td>1</td><td>2020-01-12</td><td>2019-01-12</td><td>Active </td><td>online</td><td>Non China</td><td>1</td><td>NA</td><td><span style=white-space:pre-wrap>Renewed   </span></td><td>0</td><td>auto-renewal</td><td><span style=white-space:pre-wrap>realized  </span></td><td>2020-01-12</td><td>1&amp;1 Internet</td><td>1&amp;1 Internet</td><td> 0</td><td> 0.0001</td><td> 1</td><td>⋯</td><td>0.002066116</td><td>1</td><td><span style=white-space:pre-wrap>Renewed   </span></td><td>0.4415465</td><td>0.444</td><td>0.385</td><td>0.4651246</td><td>0.4706303</td><td>0.4768728</td><td>8041</td><td>2013-01-01T00:00:00Z</td><td>2019-12-31T00:00:00Z</td><td>Neha</td><td>EU</td><td>(-Inf,0]</td><td>0.4415465</td><td>0.444</td><td>0.385</td><td>0.4651246</td><td>0.4706303</td><td>0.4768728</td><td>0.149</td><td>0.122</td><td>0.125</td><td>0.129</td></tr>\n",
       "</tbody>\n",
       "</table>\n"
      ],
      "text/latex": [
       "A data.frame: 6 × 62\n",
       "\\begin{tabular}{r|lllllllllllllllllllllllllllllllllllllllllllllllllll}\n",
       "  & reseller & registrar & reseller\\_country & domain\\_id & domain & tld\\_registrar\\_index & renewal\\_type & renewed\\_count & expiry\\_date & creation\\_date & status & tld & region & reg\\_period & registrant\\_country & renewal\\_status & renew\\_mbg & renew\\_type & autorenew\\_type & renew\\_date & renew\\_registrar & renew\\_reseller & reg\\_revenue & reg\\_arpt & renew\\_period & ⋯ & pattern\\_score & pattern\\_domain\\_count & actual & pred\\_df\\_seg2\\_glm & pred\\_df\\_seg\\_glm & pred\\_df\\_agg\\_glm & pred\\_df\\_seg2\\_rf & pred\\_df\\_seg\\_rf & pred\\_df\\_agg\\_rf & n & start\\_date & end\\_date & reseller\\_am & reseller\\_geo & reg\\_arpt\\_slab & pred\\_df\\_seg2\\_glm\\_fb & pred\\_df\\_seg\\_glm\\_fb & pred\\_df\\_agg\\_glm\\_fb & pred\\_df\\_seg2\\_rf\\_fb & pred\\_df\\_seg\\_rf\\_fb & pred\\_df\\_agg\\_rf\\_fb & npv\\_fallback\\_first\\_geo\\_arpt\\_tld & npv\\_fallback\\_first\\_geo\\_arpt & npv\\_fallback\\_first\\_tld\\_arpt & npv\\_fallback\\_first\\_final\\\\\n",
       "  & <fct> & <chr> & <fct> & <int> & <chr> & <chr> & <chr> & <int> & <date> & <date> & <chr> & <fct> & <chr> & <int> & <chr> & <fct> & <int> & <chr> & <chr> & <date> & <chr> & <chr> & <dbl> & <dbl> & <int> & ⋯ & <dbl> & <int> & <fct> & <dbl> & <dbl> & <dbl> & <dbl> & <dbl> & <dbl> & <int> & <fct> & <fct> & <fct> & <fct> & <fct> & <dbl> & <dbl> & <dbl> & <dbl> & <dbl> & <dbl> & <dbl> & <dbl> & <dbl> & <dbl>\\\\\n",
       "\\hline\n",
       "\t1 & 1\\&1 internet & 1\\&1 internet & Germany & 92459593 & penrosetile.store     & store1\\&1 internet  & FirstTime & 1 & 2020-02-01 & 2019-02-01 & Active  & store  & Non China & 1 & NA & Renewed    & 0 & auto-renewal & realized   & 2020-02-01 & 1\\&1 Internet & 1\\&1 Internet & 15 & 15.0000 &  1 & ⋯ & 0.062500000 & 1 & Renewed    & 0.5069604 & 0.534 & 0.558 & 0.4878033 & 0.4981100 & 0.4763754 &  765 & 2013-01-01T00:00:00Z & 2019-12-31T00:00:00Z & Neha & EU & (10,15{]}  & 0.5069604 & 0.534 & 0.558 & 0.4878033 & 0.4981100 & 0.4763754 &    NA & 0.512 & 0.549 & 0.493\\\\\n",
       "\t2 & 1\\&1 internet & 1\\&1 internet & Germany & 91070293 & alcantarapalma.online & online1\\&1 internet & FirstTime & 1 & 2020-01-15 & 2019-01-15 & Active  & online & Non China & 1 & NA & Not Renewd & 0 & auto-renewal & unrealized & 2020-01-15 & 1\\&1 Internet & 1\\&1 Internet &  0 &  0.0001 &  1 & ⋯ & 0.001600000 & 1 & Not Renewd & 0.4234759 & 0.425 & 0.374 & 0.5154490 & 0.5268478 & 0.5192867 & 8041 & 2013-01-01T00:00:00Z & 2019-12-31T00:00:00Z & Neha & EU & (-Inf,0{]} & 0.4234759 & 0.425 & 0.374 & 0.5154490 & 0.5268478 & 0.5192867 & 0.149 & 0.122 & 0.125 & 0.129\\\\\n",
       "\t3 & 1\\&1 internet & 1\\&1 internet & Germany & 92243793 & layerfarms.online     & online1\\&1 internet & FirstTime & 1 & 2020-01-30 & 2019-01-30 & Active  & online & Non China & 1 & NA & Renewed    & 0 & renewal      & NA         & 2019-05-19 & 1\\&1 Internet & 1\\&1 Internet &  1 &  1.0000 &  1 & ⋯ & 0.031250000 & 2 & Renewed    & 0.4671778 & 0.485 & 0.475 & 0.3369761 & 0.3348900 & 0.3264582 & 8041 & 2013-01-01T00:00:00Z & 2019-12-31T00:00:00Z & Neha & EU & (0.3,1{]}  & 0.4671778 & 0.485 & 0.475 & 0.3369761 & 0.3348900 & 0.3264582 & 0.252 & 0.081 & 0.099 & 0.057\\\\\n",
       "\t4 & 1\\&1 internet & 1\\&1 internet & Germany & 92382343 & koiunyq.online        & online1\\&1 internet & FirstTime & 1 & 2020-01-31 & 2019-01-31 & Deleted & online & Non China & 1 & NA & Not Renewd & 0 & NA           & NA         & NA & Not Assigned & Not Assigned &  1 &  1.0000 & NA & ⋯ & 0.012345679 & 1 & Not Renewd & 0.5380713 & 0.547 & 0.508 & 0.3168814 & 0.3273583 & 0.4140139 & 8041 & 2013-01-01T00:00:00Z & 2019-12-31T00:00:00Z & Neha & EU & (0.3,1{]}  & 0.5380713 & 0.547 & 0.508 & 0.3168814 & 0.3273583 & 0.4140139 & 0.252 & 0.081 & 0.099 & 0.057\\\\\n",
       "\t5 & 1\\&1 internet & 1\\&1 internet & Germany & 89480877 & e-move24.online       & online1\\&1 internet & FirstTime & 1 & 2020-01-02 & 2019-01-02 & Active  & online & Non China & 1 & NA & Renewed    & 0 & auto-renewal & realized   & 2020-01-02 & 1\\&1 Internet & 1\\&1 Internet &  0 &  0.0001 &  1 & ⋯ & 0.003086420 & 1 & Renewed    & 0.4357224 & 0.450 & 0.292 & 0.5910136 & 0.5345685 & 0.5278744 & 8041 & 2013-01-01T00:00:00Z & 2019-12-31T00:00:00Z & Neha & EU & (-Inf,0{]} & 0.4357224 & 0.450 & 0.292 & 0.5910136 & 0.5345685 & 0.5278744 & 0.149 & 0.122 & 0.125 & 0.129\\\\\n",
       "\t6 & 1\\&1 internet & 1\\&1 internet & Germany & 90751138 & votenigeriang.online  & online1\\&1 internet & FirstTime & 1 & 2020-01-12 & 2019-01-12 & Active  & online & Non China & 1 & NA & Renewed    & 0 & auto-renewal & realized   & 2020-01-12 & 1\\&1 Internet & 1\\&1 Internet &  0 &  0.0001 &  1 & ⋯ & 0.002066116 & 1 & Renewed    & 0.4415465 & 0.444 & 0.385 & 0.4651246 & 0.4706303 & 0.4768728 & 8041 & 2013-01-01T00:00:00Z & 2019-12-31T00:00:00Z & Neha & EU & (-Inf,0{]} & 0.4415465 & 0.444 & 0.385 & 0.4651246 & 0.4706303 & 0.4768728 & 0.149 & 0.122 & 0.125 & 0.129\\\\\n",
       "\\end{tabular}\n"
      ],
      "text/markdown": [
       "\n",
       "A data.frame: 6 × 62\n",
       "\n",
       "| <!--/--> | reseller &lt;fct&gt; | registrar &lt;chr&gt; | reseller_country &lt;fct&gt; | domain_id &lt;int&gt; | domain &lt;chr&gt; | tld_registrar_index &lt;chr&gt; | renewal_type &lt;chr&gt; | renewed_count &lt;int&gt; | expiry_date &lt;date&gt; | creation_date &lt;date&gt; | status &lt;chr&gt; | tld &lt;fct&gt; | region &lt;chr&gt; | reg_period &lt;int&gt; | registrant_country &lt;chr&gt; | renewal_status &lt;fct&gt; | renew_mbg &lt;int&gt; | renew_type &lt;chr&gt; | autorenew_type &lt;chr&gt; | renew_date &lt;date&gt; | renew_registrar &lt;chr&gt; | renew_reseller &lt;chr&gt; | reg_revenue &lt;dbl&gt; | reg_arpt &lt;dbl&gt; | renew_period &lt;int&gt; | ⋯ ⋯ | pattern_score &lt;dbl&gt; | pattern_domain_count &lt;int&gt; | actual &lt;fct&gt; | pred_df_seg2_glm &lt;dbl&gt; | pred_df_seg_glm &lt;dbl&gt; | pred_df_agg_glm &lt;dbl&gt; | pred_df_seg2_rf &lt;dbl&gt; | pred_df_seg_rf &lt;dbl&gt; | pred_df_agg_rf &lt;dbl&gt; | n &lt;int&gt; | start_date &lt;fct&gt; | end_date &lt;fct&gt; | reseller_am &lt;fct&gt; | reseller_geo &lt;fct&gt; | reg_arpt_slab &lt;fct&gt; | pred_df_seg2_glm_fb &lt;dbl&gt; | pred_df_seg_glm_fb &lt;dbl&gt; | pred_df_agg_glm_fb &lt;dbl&gt; | pred_df_seg2_rf_fb &lt;dbl&gt; | pred_df_seg_rf_fb &lt;dbl&gt; | pred_df_agg_rf_fb &lt;dbl&gt; | npv_fallback_first_geo_arpt_tld &lt;dbl&gt; | npv_fallback_first_geo_arpt &lt;dbl&gt; | npv_fallback_first_tld_arpt &lt;dbl&gt; | npv_fallback_first_final &lt;dbl&gt; |\n",
       "|---|---|---|---|---|---|---|---|---|---|---|---|---|---|---|---|---|---|---|---|---|---|---|---|---|---|---|---|---|---|---|---|---|---|---|---|---|---|---|---|---|---|---|---|---|---|---|---|---|---|---|---|\n",
       "| 1 | 1&amp;1 internet | 1&amp;1 internet | Germany | 92459593 | penrosetile.store     | store1&amp;1 internet  | FirstTime | 1 | 2020-02-01 | 2019-02-01 | Active  | store  | Non China | 1 | NA | Renewed    | 0 | auto-renewal | realized   | 2020-02-01 | 1&amp;1 Internet | 1&amp;1 Internet | 15 | 15.0000 |  1 | ⋯ | 0.062500000 | 1 | Renewed    | 0.5069604 | 0.534 | 0.558 | 0.4878033 | 0.4981100 | 0.4763754 |  765 | 2013-01-01T00:00:00Z | 2019-12-31T00:00:00Z | Neha | EU | (10,15]  | 0.5069604 | 0.534 | 0.558 | 0.4878033 | 0.4981100 | 0.4763754 |    NA | 0.512 | 0.549 | 0.493 |\n",
       "| 2 | 1&amp;1 internet | 1&amp;1 internet | Germany | 91070293 | alcantarapalma.online | online1&amp;1 internet | FirstTime | 1 | 2020-01-15 | 2019-01-15 | Active  | online | Non China | 1 | NA | Not Renewd | 0 | auto-renewal | unrealized | 2020-01-15 | 1&amp;1 Internet | 1&amp;1 Internet |  0 |  0.0001 |  1 | ⋯ | 0.001600000 | 1 | Not Renewd | 0.4234759 | 0.425 | 0.374 | 0.5154490 | 0.5268478 | 0.5192867 | 8041 | 2013-01-01T00:00:00Z | 2019-12-31T00:00:00Z | Neha | EU | (-Inf,0] | 0.4234759 | 0.425 | 0.374 | 0.5154490 | 0.5268478 | 0.5192867 | 0.149 | 0.122 | 0.125 | 0.129 |\n",
       "| 3 | 1&amp;1 internet | 1&amp;1 internet | Germany | 92243793 | layerfarms.online     | online1&amp;1 internet | FirstTime | 1 | 2020-01-30 | 2019-01-30 | Active  | online | Non China | 1 | NA | Renewed    | 0 | renewal      | NA         | 2019-05-19 | 1&amp;1 Internet | 1&amp;1 Internet |  1 |  1.0000 |  1 | ⋯ | 0.031250000 | 2 | Renewed    | 0.4671778 | 0.485 | 0.475 | 0.3369761 | 0.3348900 | 0.3264582 | 8041 | 2013-01-01T00:00:00Z | 2019-12-31T00:00:00Z | Neha | EU | (0.3,1]  | 0.4671778 | 0.485 | 0.475 | 0.3369761 | 0.3348900 | 0.3264582 | 0.252 | 0.081 | 0.099 | 0.057 |\n",
       "| 4 | 1&amp;1 internet | 1&amp;1 internet | Germany | 92382343 | koiunyq.online        | online1&amp;1 internet | FirstTime | 1 | 2020-01-31 | 2019-01-31 | Deleted | online | Non China | 1 | NA | Not Renewd | 0 | NA           | NA         | NA | Not Assigned | Not Assigned |  1 |  1.0000 | NA | ⋯ | 0.012345679 | 1 | Not Renewd | 0.5380713 | 0.547 | 0.508 | 0.3168814 | 0.3273583 | 0.4140139 | 8041 | 2013-01-01T00:00:00Z | 2019-12-31T00:00:00Z | Neha | EU | (0.3,1]  | 0.5380713 | 0.547 | 0.508 | 0.3168814 | 0.3273583 | 0.4140139 | 0.252 | 0.081 | 0.099 | 0.057 |\n",
       "| 5 | 1&amp;1 internet | 1&amp;1 internet | Germany | 89480877 | e-move24.online       | online1&amp;1 internet | FirstTime | 1 | 2020-01-02 | 2019-01-02 | Active  | online | Non China | 1 | NA | Renewed    | 0 | auto-renewal | realized   | 2020-01-02 | 1&amp;1 Internet | 1&amp;1 Internet |  0 |  0.0001 |  1 | ⋯ | 0.003086420 | 1 | Renewed    | 0.4357224 | 0.450 | 0.292 | 0.5910136 | 0.5345685 | 0.5278744 | 8041 | 2013-01-01T00:00:00Z | 2019-12-31T00:00:00Z | Neha | EU | (-Inf,0] | 0.4357224 | 0.450 | 0.292 | 0.5910136 | 0.5345685 | 0.5278744 | 0.149 | 0.122 | 0.125 | 0.129 |\n",
       "| 6 | 1&amp;1 internet | 1&amp;1 internet | Germany | 90751138 | votenigeriang.online  | online1&amp;1 internet | FirstTime | 1 | 2020-01-12 | 2019-01-12 | Active  | online | Non China | 1 | NA | Renewed    | 0 | auto-renewal | realized   | 2020-01-12 | 1&amp;1 Internet | 1&amp;1 Internet |  0 |  0.0001 |  1 | ⋯ | 0.002066116 | 1 | Renewed    | 0.4415465 | 0.444 | 0.385 | 0.4651246 | 0.4706303 | 0.4768728 | 8041 | 2013-01-01T00:00:00Z | 2019-12-31T00:00:00Z | Neha | EU | (-Inf,0] | 0.4415465 | 0.444 | 0.385 | 0.4651246 | 0.4706303 | 0.4768728 | 0.149 | 0.122 | 0.125 | 0.129 |\n",
       "\n"
      ],
      "text/plain": [
       "  reseller     registrar    reseller_country domain_id domain               \n",
       "1 1&1 internet 1&1 internet Germany          92459593  penrosetile.store    \n",
       "2 1&1 internet 1&1 internet Germany          91070293  alcantarapalma.online\n",
       "3 1&1 internet 1&1 internet Germany          92243793  layerfarms.online    \n",
       "4 1&1 internet 1&1 internet Germany          92382343  koiunyq.online       \n",
       "5 1&1 internet 1&1 internet Germany          89480877  e-move24.online      \n",
       "6 1&1 internet 1&1 internet Germany          90751138  votenigeriang.online \n",
       "  tld_registrar_index renewal_type renewed_count expiry_date creation_date\n",
       "1 store1&1 internet   FirstTime    1             2020-02-01  2019-02-01   \n",
       "2 online1&1 internet  FirstTime    1             2020-01-15  2019-01-15   \n",
       "3 online1&1 internet  FirstTime    1             2020-01-30  2019-01-30   \n",
       "4 online1&1 internet  FirstTime    1             2020-01-31  2019-01-31   \n",
       "5 online1&1 internet  FirstTime    1             2020-01-02  2019-01-02   \n",
       "6 online1&1 internet  FirstTime    1             2020-01-12  2019-01-12   \n",
       "  status  tld    region    reg_period registrant_country renewal_status\n",
       "1 Active  store  Non China 1          NA                 Renewed       \n",
       "2 Active  online Non China 1          NA                 Not Renewd    \n",
       "3 Active  online Non China 1          NA                 Renewed       \n",
       "4 Deleted online Non China 1          NA                 Not Renewd    \n",
       "5 Active  online Non China 1          NA                 Renewed       \n",
       "6 Active  online Non China 1          NA                 Renewed       \n",
       "  renew_mbg renew_type   autorenew_type renew_date renew_registrar\n",
       "1 0         auto-renewal realized       2020-02-01 1&1 Internet   \n",
       "2 0         auto-renewal unrealized     2020-01-15 1&1 Internet   \n",
       "3 0         renewal      NA             2019-05-19 1&1 Internet   \n",
       "4 0         NA           NA             <NA>       Not Assigned   \n",
       "5 0         auto-renewal realized       2020-01-02 1&1 Internet   \n",
       "6 0         auto-renewal realized       2020-01-12 1&1 Internet   \n",
       "  renew_reseller reg_revenue reg_arpt renew_period ⋯ pattern_score\n",
       "1 1&1 Internet   15          15.0000   1           ⋯ 0.062500000  \n",
       "2 1&1 Internet    0           0.0001   1           ⋯ 0.001600000  \n",
       "3 1&1 Internet    1           1.0000   1           ⋯ 0.031250000  \n",
       "4 Not Assigned    1           1.0000  NA           ⋯ 0.012345679  \n",
       "5 1&1 Internet    0           0.0001   1           ⋯ 0.003086420  \n",
       "6 1&1 Internet    0           0.0001   1           ⋯ 0.002066116  \n",
       "  pattern_domain_count actual     pred_df_seg2_glm pred_df_seg_glm\n",
       "1 1                    Renewed    0.5069604        0.534          \n",
       "2 1                    Not Renewd 0.4234759        0.425          \n",
       "3 2                    Renewed    0.4671778        0.485          \n",
       "4 1                    Not Renewd 0.5380713        0.547          \n",
       "5 1                    Renewed    0.4357224        0.450          \n",
       "6 1                    Renewed    0.4415465        0.444          \n",
       "  pred_df_agg_glm pred_df_seg2_rf pred_df_seg_rf pred_df_agg_rf n   \n",
       "1 0.558           0.4878033       0.4981100      0.4763754       765\n",
       "2 0.374           0.5154490       0.5268478      0.5192867      8041\n",
       "3 0.475           0.3369761       0.3348900      0.3264582      8041\n",
       "4 0.508           0.3168814       0.3273583      0.4140139      8041\n",
       "5 0.292           0.5910136       0.5345685      0.5278744      8041\n",
       "6 0.385           0.4651246       0.4706303      0.4768728      8041\n",
       "  start_date           end_date             reseller_am reseller_geo\n",
       "1 2013-01-01T00:00:00Z 2019-12-31T00:00:00Z Neha        EU          \n",
       "2 2013-01-01T00:00:00Z 2019-12-31T00:00:00Z Neha        EU          \n",
       "3 2013-01-01T00:00:00Z 2019-12-31T00:00:00Z Neha        EU          \n",
       "4 2013-01-01T00:00:00Z 2019-12-31T00:00:00Z Neha        EU          \n",
       "5 2013-01-01T00:00:00Z 2019-12-31T00:00:00Z Neha        EU          \n",
       "6 2013-01-01T00:00:00Z 2019-12-31T00:00:00Z Neha        EU          \n",
       "  reg_arpt_slab pred_df_seg2_glm_fb pred_df_seg_glm_fb pred_df_agg_glm_fb\n",
       "1 (10,15]       0.5069604           0.534              0.558             \n",
       "2 (-Inf,0]      0.4234759           0.425              0.374             \n",
       "3 (0.3,1]       0.4671778           0.485              0.475             \n",
       "4 (0.3,1]       0.5380713           0.547              0.508             \n",
       "5 (-Inf,0]      0.4357224           0.450              0.292             \n",
       "6 (-Inf,0]      0.4415465           0.444              0.385             \n",
       "  pred_df_seg2_rf_fb pred_df_seg_rf_fb pred_df_agg_rf_fb\n",
       "1 0.4878033          0.4981100         0.4763754        \n",
       "2 0.5154490          0.5268478         0.5192867        \n",
       "3 0.3369761          0.3348900         0.3264582        \n",
       "4 0.3168814          0.3273583         0.4140139        \n",
       "5 0.5910136          0.5345685         0.5278744        \n",
       "6 0.4651246          0.4706303         0.4768728        \n",
       "  npv_fallback_first_geo_arpt_tld npv_fallback_first_geo_arpt\n",
       "1    NA                           0.512                      \n",
       "2 0.149                           0.122                      \n",
       "3 0.252                           0.081                      \n",
       "4 0.252                           0.081                      \n",
       "5 0.149                           0.122                      \n",
       "6 0.149                           0.122                      \n",
       "  npv_fallback_first_tld_arpt npv_fallback_first_final\n",
       "1 0.549                       0.493                   \n",
       "2 0.125                       0.129                   \n",
       "3 0.099                       0.057                   \n",
       "4 0.099                       0.057                   \n",
       "5 0.125                       0.129                   \n",
       "6 0.125                       0.129                   "
      ]
     },
     "metadata": {},
     "output_type": "display_data"
    }
   ],
   "source": [
    "expiry_test_predictions<-expiry_test_predictions %>% mutate(\n",
    "    temp_index = paste(tld, reseller_geo, reg_arpt_slab, sep = \"\"),\n",
    "    npv_fallback_first_geo_arpt_tld = npv_fallback_first_geo_arpt_tld$renewal_rate[match(temp_index, \n",
    "                                                npv_fallback_first_geo_arpt_tld$index)]\n",
    ")\n",
    "\n",
    "expiry_test_predictions<-expiry_test_predictions %>% mutate(\n",
    "    temp_index = paste(reseller_geo, reg_arpt_slab, sep = \"\"),\n",
    "    npv_fallback_first_geo_arpt = npv_fallback_first_geo_arpt$renewal_rate[match(temp_index, \n",
    "                                                npv_fallback_first_geo_arpt$index)]\n",
    ")\n",
    "\n",
    "expiry_test_predictions<-expiry_test_predictions %>% mutate(\n",
    "    temp_index = paste(tld, reg_arpt_slab, sep = \"\"),\n",
    "    npv_fallback_first_tld_arpt = npv_fallback_first_tld_arpt$renewal_rate[match(temp_index, \n",
    "                                                npv_fallback_first_tld_arpt$index)]\n",
    ")\n",
    "\n",
    "expiry_test_predictions<-expiry_test_predictions %>% mutate(\n",
    "    temp_index = paste(region, reg_arpt_slab, sep = \"\"),\n",
    "    npv_fallback_first_final = npv_fallback_first_final$renewal_rate[match(temp_index, \n",
    "                                                npv_fallback_first_final$index)]\n",
    ")\n",
    "\n",
    "expiry_test_predictions<-expiry_test_predictions %>% select(-temp_index)\n",
    "\n",
    "head(expiry_test_predictions)"
   ]
  },
  {
   "cell_type": "markdown",
   "metadata": {},
   "source": [
    "# Generate Metrics @ Tld-Reseller level "
   ]
  },
  {
   "cell_type": "code",
   "execution_count": null,
   "metadata": {},
   "outputs": [],
   "source": [
    "l10_dplyr <- function (pred_df,\n",
    "                              pred_var = \"first_renewal_prediction\") {\n",
    "  N <- 10  # total number of rows to preallocate--possibly an overestimate\n",
    "  lift_df <- data.frame(P =rep(NA, N), \n",
    "                        actu_renwd2=rep(NA, N), \n",
    "                        gain=rep(NA, N), \n",
    "                        lift=rep(NA, N), \n",
    "                        stringsAsFactors=FALSE)          # you don't know levels yet\n",
    "  actu_renwd <- sum(pred_df[[\"renewal_status\"]]=='Renewed')\n",
    "  \n",
    "  i = 1\n",
    "  for(P in seq(.1,1,length=10)){\n",
    "    temp_df <- data.frame(pred_df)[c(\"renewal_status\",pred_var)]\n",
    "    ttmp_df <- temp_df[order(temp_df[pred_var],decreasing = TRUE),][1:round(dim(temp_df)[1]*P),]\n",
    "    actu_renwd2 <-  sum(ttmp_df[[\"renewal_status\"]] == 'Renewed')\n",
    "    gain = actu_renwd2/actu_renwd\n",
    "    lift = gain/(P)\n",
    "    \n",
    "    lift_df[i, ] <- list(P, actu_renwd2, gain, lift)\n",
    "    i = i+1\n",
    "  }\n",
    "  return(lift_df %>% filter(P==0.1) %>% pull(lift))\n",
    "}\n",
    "\n",
    "auc_dplyr <- function (pred_df,\n",
    "                              pred_var = \"first_renewal_prediction\") {\n",
    "  N <- 10  # total number of rows to preallocate--possibly an overestimate\n",
    "  lift_df <- data.frame(P =rep(NA, N), \n",
    "                        actu_renwd2=rep(NA, N), \n",
    "                        gain=rep(NA, N), \n",
    "                        lift=rep(NA, N), \n",
    "                        stringsAsFactors=FALSE)          # you don't know levels yet\n",
    "  actu_renwd <- sum(pred_df[[\"renewal_status\"]]=='Renewed')\n",
    "  \n",
    "  i = 1\n",
    "  for(P in seq(.1,1,length=10)){\n",
    "    temp_df <- data.frame(pred_df)[c(\"renewal_status\",pred_var)]\n",
    "    ttmp_df <- temp_df[order(temp_df[pred_var],decreasing = TRUE),][1:round(dim(temp_df)[1]*P),]\n",
    "    actu_renwd2 <-  sum(ttmp_df[[\"renewal_status\"]] == 'Renewed')\n",
    "    gain = actu_renwd2/actu_renwd\n",
    "    lift = gain/(P)\n",
    "    \n",
    "    lift_df[i, ] <- list(P, actu_renwd2, gain, lift)\n",
    "    i = i+1\n",
    "  }\n",
    "  return(calc_auc(lift_df))\n",
    "}"
   ]
  },
  {
   "cell_type": "code",
   "execution_count": null,
   "metadata": {},
   "outputs": [
    {
     "data": {
      "text/html": [
       "<style>\n",
       ".list-inline {list-style: none; margin:0; padding: 0}\n",
       ".list-inline>li {display: inline-block}\n",
       ".list-inline>li:not(:last-child)::after {content: \"\\00b7\"; padding: 0 .5ex}\n",
       "</style>\n",
       "<ol class=list-inline><li>'reseller'</li><li>'registrar'</li><li>'reseller_country'</li><li>'domain_id'</li><li>'domain'</li><li>'tld_registrar_index'</li><li>'renewal_type'</li><li>'renewed_count'</li><li>'expiry_date'</li><li>'creation_date'</li><li>'status'</li><li>'tld'</li><li>'region'</li><li>'reg_period'</li><li>'registrant_country'</li><li>'renewal_status'</li><li>'renew_mbg'</li><li>'renew_type'</li><li>'autorenew_type'</li><li>'renew_date'</li><li>'renew_registrar'</li><li>'renew_reseller'</li><li>'reg_revenue'</li><li>'reg_arpt'</li><li>'renew_period'</li><li>'renew_domain_revenue'</li><li>'renew_arpt'</li><li>'reg_arpt_org'</li><li>'sld'</li><li>'sld_type'</li><li>'sld_length'</li><li>'sld_type2'</li><li>'day_domains'</li><li>'log_reg_arpt'</li><li>'gibb_score'</li><li>'pattern'</li><li>'cluster'</li><li>'pattern_score'</li><li>'pattern_domain_count'</li><li>'actual'</li><li>'pred_df_seg2_glm'</li><li>'pred_df_seg_glm'</li><li>'pred_df_agg_glm'</li><li>'pred_df_seg2_rf'</li><li>'pred_df_seg_rf'</li><li>'pred_df_agg_rf'</li><li>'n'</li><li>'start_date'</li><li>'end_date'</li><li>'reseller_am'</li><li>'reseller_geo'</li><li>'reg_arpt_slab'</li><li>'pred_df_seg2_glm_fb'</li><li>'pred_df_seg_glm_fb'</li><li>'pred_df_agg_glm_fb'</li><li>'pred_df_seg2_rf_fb'</li><li>'pred_df_seg_rf_fb'</li><li>'pred_df_agg_rf_fb'</li><li>'npv_fallback_first_geo_arpt_tld'</li><li>'npv_fallback_first_geo_arpt'</li><li>'npv_fallback_first_tld_arpt'</li><li>'npv_fallback_first_final'</li></ol>\n"
      ],
      "text/latex": [
       "\\begin{enumerate*}\n",
       "\\item 'reseller'\n",
       "\\item 'registrar'\n",
       "\\item 'reseller\\_country'\n",
       "\\item 'domain\\_id'\n",
       "\\item 'domain'\n",
       "\\item 'tld\\_registrar\\_index'\n",
       "\\item 'renewal\\_type'\n",
       "\\item 'renewed\\_count'\n",
       "\\item 'expiry\\_date'\n",
       "\\item 'creation\\_date'\n",
       "\\item 'status'\n",
       "\\item 'tld'\n",
       "\\item 'region'\n",
       "\\item 'reg\\_period'\n",
       "\\item 'registrant\\_country'\n",
       "\\item 'renewal\\_status'\n",
       "\\item 'renew\\_mbg'\n",
       "\\item 'renew\\_type'\n",
       "\\item 'autorenew\\_type'\n",
       "\\item 'renew\\_date'\n",
       "\\item 'renew\\_registrar'\n",
       "\\item 'renew\\_reseller'\n",
       "\\item 'reg\\_revenue'\n",
       "\\item 'reg\\_arpt'\n",
       "\\item 'renew\\_period'\n",
       "\\item 'renew\\_domain\\_revenue'\n",
       "\\item 'renew\\_arpt'\n",
       "\\item 'reg\\_arpt\\_org'\n",
       "\\item 'sld'\n",
       "\\item 'sld\\_type'\n",
       "\\item 'sld\\_length'\n",
       "\\item 'sld\\_type2'\n",
       "\\item 'day\\_domains'\n",
       "\\item 'log\\_reg\\_arpt'\n",
       "\\item 'gibb\\_score'\n",
       "\\item 'pattern'\n",
       "\\item 'cluster'\n",
       "\\item 'pattern\\_score'\n",
       "\\item 'pattern\\_domain\\_count'\n",
       "\\item 'actual'\n",
       "\\item 'pred\\_df\\_seg2\\_glm'\n",
       "\\item 'pred\\_df\\_seg\\_glm'\n",
       "\\item 'pred\\_df\\_agg\\_glm'\n",
       "\\item 'pred\\_df\\_seg2\\_rf'\n",
       "\\item 'pred\\_df\\_seg\\_rf'\n",
       "\\item 'pred\\_df\\_agg\\_rf'\n",
       "\\item 'n'\n",
       "\\item 'start\\_date'\n",
       "\\item 'end\\_date'\n",
       "\\item 'reseller\\_am'\n",
       "\\item 'reseller\\_geo'\n",
       "\\item 'reg\\_arpt\\_slab'\n",
       "\\item 'pred\\_df\\_seg2\\_glm\\_fb'\n",
       "\\item 'pred\\_df\\_seg\\_glm\\_fb'\n",
       "\\item 'pred\\_df\\_agg\\_glm\\_fb'\n",
       "\\item 'pred\\_df\\_seg2\\_rf\\_fb'\n",
       "\\item 'pred\\_df\\_seg\\_rf\\_fb'\n",
       "\\item 'pred\\_df\\_agg\\_rf\\_fb'\n",
       "\\item 'npv\\_fallback\\_first\\_geo\\_arpt\\_tld'\n",
       "\\item 'npv\\_fallback\\_first\\_geo\\_arpt'\n",
       "\\item 'npv\\_fallback\\_first\\_tld\\_arpt'\n",
       "\\item 'npv\\_fallback\\_first\\_final'\n",
       "\\end{enumerate*}\n"
      ],
      "text/markdown": [
       "1. 'reseller'\n",
       "2. 'registrar'\n",
       "3. 'reseller_country'\n",
       "4. 'domain_id'\n",
       "5. 'domain'\n",
       "6. 'tld_registrar_index'\n",
       "7. 'renewal_type'\n",
       "8. 'renewed_count'\n",
       "9. 'expiry_date'\n",
       "10. 'creation_date'\n",
       "11. 'status'\n",
       "12. 'tld'\n",
       "13. 'region'\n",
       "14. 'reg_period'\n",
       "15. 'registrant_country'\n",
       "16. 'renewal_status'\n",
       "17. 'renew_mbg'\n",
       "18. 'renew_type'\n",
       "19. 'autorenew_type'\n",
       "20. 'renew_date'\n",
       "21. 'renew_registrar'\n",
       "22. 'renew_reseller'\n",
       "23. 'reg_revenue'\n",
       "24. 'reg_arpt'\n",
       "25. 'renew_period'\n",
       "26. 'renew_domain_revenue'\n",
       "27. 'renew_arpt'\n",
       "28. 'reg_arpt_org'\n",
       "29. 'sld'\n",
       "30. 'sld_type'\n",
       "31. 'sld_length'\n",
       "32. 'sld_type2'\n",
       "33. 'day_domains'\n",
       "34. 'log_reg_arpt'\n",
       "35. 'gibb_score'\n",
       "36. 'pattern'\n",
       "37. 'cluster'\n",
       "38. 'pattern_score'\n",
       "39. 'pattern_domain_count'\n",
       "40. 'actual'\n",
       "41. 'pred_df_seg2_glm'\n",
       "42. 'pred_df_seg_glm'\n",
       "43. 'pred_df_agg_glm'\n",
       "44. 'pred_df_seg2_rf'\n",
       "45. 'pred_df_seg_rf'\n",
       "46. 'pred_df_agg_rf'\n",
       "47. 'n'\n",
       "48. 'start_date'\n",
       "49. 'end_date'\n",
       "50. 'reseller_am'\n",
       "51. 'reseller_geo'\n",
       "52. 'reg_arpt_slab'\n",
       "53. 'pred_df_seg2_glm_fb'\n",
       "54. 'pred_df_seg_glm_fb'\n",
       "55. 'pred_df_agg_glm_fb'\n",
       "56. 'pred_df_seg2_rf_fb'\n",
       "57. 'pred_df_seg_rf_fb'\n",
       "58. 'pred_df_agg_rf_fb'\n",
       "59. 'npv_fallback_first_geo_arpt_tld'\n",
       "60. 'npv_fallback_first_geo_arpt'\n",
       "61. 'npv_fallback_first_tld_arpt'\n",
       "62. 'npv_fallback_first_final'\n",
       "\n",
       "\n"
      ],
      "text/plain": [
       " [1] \"reseller\"                        \"registrar\"                      \n",
       " [3] \"reseller_country\"                \"domain_id\"                      \n",
       " [5] \"domain\"                          \"tld_registrar_index\"            \n",
       " [7] \"renewal_type\"                    \"renewed_count\"                  \n",
       " [9] \"expiry_date\"                     \"creation_date\"                  \n",
       "[11] \"status\"                          \"tld\"                            \n",
       "[13] \"region\"                          \"reg_period\"                     \n",
       "[15] \"registrant_country\"              \"renewal_status\"                 \n",
       "[17] \"renew_mbg\"                       \"renew_type\"                     \n",
       "[19] \"autorenew_type\"                  \"renew_date\"                     \n",
       "[21] \"renew_registrar\"                 \"renew_reseller\"                 \n",
       "[23] \"reg_revenue\"                     \"reg_arpt\"                       \n",
       "[25] \"renew_period\"                    \"renew_domain_revenue\"           \n",
       "[27] \"renew_arpt\"                      \"reg_arpt_org\"                   \n",
       "[29] \"sld\"                             \"sld_type\"                       \n",
       "[31] \"sld_length\"                      \"sld_type2\"                      \n",
       "[33] \"day_domains\"                     \"log_reg_arpt\"                   \n",
       "[35] \"gibb_score\"                      \"pattern\"                        \n",
       "[37] \"cluster\"                         \"pattern_score\"                  \n",
       "[39] \"pattern_domain_count\"            \"actual\"                         \n",
       "[41] \"pred_df_seg2_glm\"                \"pred_df_seg_glm\"                \n",
       "[43] \"pred_df_agg_glm\"                 \"pred_df_seg2_rf\"                \n",
       "[45] \"pred_df_seg_rf\"                  \"pred_df_agg_rf\"                 \n",
       "[47] \"n\"                               \"start_date\"                     \n",
       "[49] \"end_date\"                        \"reseller_am\"                    \n",
       "[51] \"reseller_geo\"                    \"reg_arpt_slab\"                  \n",
       "[53] \"pred_df_seg2_glm_fb\"             \"pred_df_seg_glm_fb\"             \n",
       "[55] \"pred_df_agg_glm_fb\"              \"pred_df_seg2_rf_fb\"             \n",
       "[57] \"pred_df_seg_rf_fb\"               \"pred_df_agg_rf_fb\"              \n",
       "[59] \"npv_fallback_first_geo_arpt_tld\" \"npv_fallback_first_geo_arpt\"    \n",
       "[61] \"npv_fallback_first_tld_arpt\"     \"npv_fallback_first_final\"       "
      ]
     },
     "metadata": {},
     "output_type": "display_data"
    }
   ],
   "source": [
    "names(expiry_test_predictions)"
   ]
  },
  {
   "cell_type": "code",
   "execution_count": 66,
   "metadata": {},
   "outputs": [],
   "source": [
    "# expiry_test_metrics <- expiry_test_predictions %>%\n",
    "#   group_by(tld_registrar_index) %>%\n",
    "#   do( l10_seg2_glm = l10_dplyr(., pred_var = \"pred_df_seg2_glm\"),\n",
    "#       l10_seg_glm = l10_dplyr(., pred_var = \"pred_df_seg_glm\"),\n",
    "#        l10_agg_glm = l10_dplyr(., pred_var = \"pred_df_agg_glm\"),\n",
    "#        l10_seg2_rf = l10_dplyr(., pred_var = \"pred_df_seg2_rf\"),\n",
    "#        l10_seg_rf = l10_dplyr(., pred_var = \"pred_df_seg_rf\"),\n",
    "#        l10_agg_rf = l10_dplyr(., pred_var = \"pred_df_agg_rf\"),\n",
    "     \n",
    "#       auc_seg2_glm = auc_dplyr(., pred_var = \"pred_df_seg2_glm\"),\n",
    "#       auc_seg_glm = auc_dplyr(., pred_var = \"pred_df_seg_glm\"),\n",
    "#        auc_agg_glm = auc_dplyr(., pred_var = \"pred_df_agg_glm\"),\n",
    "#        auc_seg2_rf = auc_dplyr(., pred_var = \"pred_df_seg2_rf\"),\n",
    "#        auc_seg_rf = auc_dplyr(., pred_var = \"pred_df_seg_rf\"),\n",
    "#        auc_agg_rf = auc_dplyr(., pred_var = \"pred_df_agg_rf\"),\n",
    "      \n",
    "#      l10_seg2_glm_fb = l10_dplyr(., pred_var = \"pred_df_seg2_glm_fb\"),\n",
    "#       l10_seg_glm_fb = l10_dplyr(., pred_var = \"pred_df_seg_glm_fb\"),\n",
    "#        l10_agg_glm_fb = l10_dplyr(., pred_var = \"pred_df_agg_glm_fb\"),\n",
    "#        l10_seg2_rf_fb = l10_dplyr(., pred_var = \"pred_df_seg2_rf_fb\"),\n",
    "#        l10_seg_rf_fb = l10_dplyr(., pred_var = \"pred_df_seg_rf_fb\"),\n",
    "#        l10_agg_rf_fb = l10_dplyr(., pred_var = \"pred_df_agg_rf_fb\"),\n",
    "     \n",
    "#       auc_seg2_glm_fb = auc_dplyr(., pred_var = \"pred_df_seg2_glm_fb\"),\n",
    "#       auc_seg_glm_fb = auc_dplyr(., pred_var = \"pred_df_seg_glm_fb\"),\n",
    "#        auc_agg_glm_fb = auc_dplyr(., pred_var = \"pred_df_agg_glm_fb\"),\n",
    "#        auc_seg2_rf_fb = auc_dplyr(., pred_var = \"pred_df_seg2_rf_fb\"),\n",
    "#        auc_seg_rf_fb = auc_dplyr(., pred_var = \"pred_df_seg_rf_fb\"),\n",
    "#        auc_agg_rf_fb = auc_dplyr(., pred_var = \"pred_df_agg_rf_fb\"),\n",
    "#       )"
   ]
  },
  {
   "cell_type": "code",
   "execution_count": 69,
   "metadata": {},
   "outputs": [],
   "source": [
    "# head(expiry_test_metrics)"
   ]
  },
  {
   "cell_type": "code",
   "execution_count": 68,
   "metadata": {},
   "outputs": [],
   "source": [
    "# save(expiry_test_metrics, file=\"../../data/output/expiry_test_metrics_101020\")\n",
    "# system(\"gsutil cp /home/jupyter/local/Domains_202003/data/output/* gs://data_outputt/output/ \")\n",
    "# system(\"mv /home/jupyter/local/Domains_202003/data/output/* /home/jupyter/local/Domains_202003/data/\")"
   ]
  },
  {
   "cell_type": "code",
   "execution_count": 34,
   "metadata": {},
   "outputs": [],
   "source": [
    "# load(\"../../data/expiry_test_metrics_101020\")"
   ]
  },
  {
   "cell_type": "code",
   "execution_count": 70,
   "metadata": {},
   "outputs": [
    {
     "data": {
      "text/html": [
       "<style>\n",
       ".list-inline {list-style: none; margin:0; padding: 0}\n",
       ".list-inline>li {display: inline-block}\n",
       ".list-inline>li:not(:last-child)::after {content: \"\\00b7\"; padding: 0 .5ex}\n",
       "</style>\n",
       "<ol class=list-inline><li>1405</li><li>25</li></ol>\n"
      ],
      "text/latex": [
       "\\begin{enumerate*}\n",
       "\\item 1405\n",
       "\\item 25\n",
       "\\end{enumerate*}\n"
      ],
      "text/markdown": [
       "1. 1405\n",
       "2. 25\n",
       "\n",
       "\n"
      ],
      "text/plain": [
       "[1] 1405   25"
      ]
     },
     "metadata": {},
     "output_type": "display_data"
    },
    {
     "data": {
      "text/html": [
       "<table>\n",
       "<caption>A rowwise_df: 6 × 25</caption>\n",
       "<thead>\n",
       "\t<tr><th scope=col>tld_registrar_index</th><th scope=col>l10_seg2_glm</th><th scope=col>l10_seg_glm</th><th scope=col>l10_agg_glm</th><th scope=col>l10_seg2_rf</th><th scope=col>l10_seg_rf</th><th scope=col>l10_agg_rf</th><th scope=col>auc_seg2_glm</th><th scope=col>auc_seg_glm</th><th scope=col>auc_agg_glm</th><th scope=col>auc_seg2_rf</th><th scope=col>auc_seg_rf</th><th scope=col>auc_agg_rf</th><th scope=col>l10_seg2_glm_fb</th><th scope=col>l10_seg_glm_fb</th><th scope=col>l10_agg_glm_fb</th><th scope=col>l10_seg2_rf_fb</th><th scope=col>l10_seg_rf_fb</th><th scope=col>l10_agg_rf_fb</th><th scope=col>auc_seg2_glm_fb</th><th scope=col>auc_seg_glm_fb</th><th scope=col>auc_agg_glm_fb</th><th scope=col>auc_seg2_rf_fb</th><th scope=col>auc_seg_rf_fb</th><th scope=col>auc_agg_rf_fb</th></tr>\n",
       "\t<tr><th scope=col>&lt;chr&gt;</th><th scope=col>&lt;list&gt;</th><th scope=col>&lt;list&gt;</th><th scope=col>&lt;list&gt;</th><th scope=col>&lt;list&gt;</th><th scope=col>&lt;list&gt;</th><th scope=col>&lt;list&gt;</th><th scope=col>&lt;list&gt;</th><th scope=col>&lt;list&gt;</th><th scope=col>&lt;list&gt;</th><th scope=col>&lt;list&gt;</th><th scope=col>&lt;list&gt;</th><th scope=col>&lt;list&gt;</th><th scope=col>&lt;list&gt;</th><th scope=col>&lt;list&gt;</th><th scope=col>&lt;list&gt;</th><th scope=col>&lt;list&gt;</th><th scope=col>&lt;list&gt;</th><th scope=col>&lt;list&gt;</th><th scope=col>&lt;list&gt;</th><th scope=col>&lt;list&gt;</th><th scope=col>&lt;list&gt;</th><th scope=col>&lt;list&gt;</th><th scope=col>&lt;list&gt;</th><th scope=col>&lt;list&gt;</th></tr>\n",
       "</thead>\n",
       "<tbody>\n",
       "\t<tr><td><span style=white-space:pre-wrap>fun1&amp;1 internet    </span></td><td>5</td><td>5</td><td>5</td><td>5</td><td>5</td><td>5</td><td>0.6</td><td>0.6</td><td>0.6</td><td>0.6</td><td>0.6</td><td>0.6</td><td>5</td><td>5</td><td>5</td><td>5</td><td>5</td><td>5</td><td>0.6</td><td>0.6</td><td>0.6</td><td>0.6</td><td>0.6</td><td>0.6</td></tr>\n",
       "\t<tr><td>fun10dencehispahard</td><td>NaN</td><td>NaN</td><td>NaN</td><td>NaN</td><td>NaN</td><td>NaN</td><td>NaN</td><td>NaN</td><td>NaN</td><td>NaN</td><td>NaN</td><td>NaN</td><td>NaN</td><td>NaN</td><td>NaN</td><td>NaN</td><td>NaN</td><td>NaN</td><td>NaN</td><td>NaN</td><td>NaN</td><td>NaN</td><td>NaN</td><td>NaN</td></tr>\n",
       "\t<tr><td>fun1api            </td><td>0</td><td>0</td><td>0</td><td>10</td><td>10</td><td>0</td><td>0.25</td><td>0.25</td><td>0.25</td><td>0.95</td><td>0.95</td><td>0.25</td><td>0</td><td>0</td><td>0</td><td>10</td><td>10</td><td>0</td><td>0.25</td><td>0.25</td><td>0.25</td><td>0.95</td><td>0.95</td><td>0.25</td></tr>\n",
       "\t<tr><td>funactive 24       </td><td>0</td><td>0</td><td>0</td><td>2</td><td>2</td><td>2</td><td>0.45</td><td>0.35</td><td>0.49</td><td>0.57</td><td>0.59</td><td>0.63</td><td>0</td><td>0</td><td>0</td><td>2</td><td>2</td><td>2</td><td>0.45</td><td>0.35</td><td>0.49</td><td>0.57</td><td>0.59</td><td>0.63</td></tr>\n",
       "\t<tr><td>funalibaba         </td><td>4.883721</td><td>5.302326</td><td>5.023256</td><td>5.813953</td><td>6</td><td>6.186047</td><td>0.8262791</td><td>0.8425581</td><td>0.8513953</td><td>0.8769767</td><td>0.877907</td><td>0.8793023</td><td>4.883721</td><td>5.302326</td><td>5.023256</td><td>5.813953</td><td>6</td><td>6.186047</td><td>0.8262791</td><td>0.8425581</td><td>0.8513953</td><td>0.8769767</td><td>0.877907</td><td>0.8793023</td></tr>\n",
       "\t<tr><td>funalibaba sg      </td><td>0</td><td>0</td><td>10</td><td>0</td><td>0</td><td>10</td><td>0.05</td><td>0.05</td><td>0.95</td><td>0.85</td><td>0.55</td><td>0.95</td><td>0</td><td>0</td><td>10</td><td>0</td><td>0</td><td>10</td><td>0.05</td><td>0.05</td><td>0.95</td><td>0.85</td><td>0.55</td><td>0.95</td></tr>\n",
       "</tbody>\n",
       "</table>\n"
      ],
      "text/latex": [
       "A rowwise\\_df: 6 × 25\n",
       "\\begin{tabular}{lllllllllllllllllllllllll}\n",
       " tld\\_registrar\\_index & l10\\_seg2\\_glm & l10\\_seg\\_glm & l10\\_agg\\_glm & l10\\_seg2\\_rf & l10\\_seg\\_rf & l10\\_agg\\_rf & auc\\_seg2\\_glm & auc\\_seg\\_glm & auc\\_agg\\_glm & auc\\_seg2\\_rf & auc\\_seg\\_rf & auc\\_agg\\_rf & l10\\_seg2\\_glm\\_fb & l10\\_seg\\_glm\\_fb & l10\\_agg\\_glm\\_fb & l10\\_seg2\\_rf\\_fb & l10\\_seg\\_rf\\_fb & l10\\_agg\\_rf\\_fb & auc\\_seg2\\_glm\\_fb & auc\\_seg\\_glm\\_fb & auc\\_agg\\_glm\\_fb & auc\\_seg2\\_rf\\_fb & auc\\_seg\\_rf\\_fb & auc\\_agg\\_rf\\_fb\\\\\n",
       " <chr> & <list> & <list> & <list> & <list> & <list> & <list> & <list> & <list> & <list> & <list> & <list> & <list> & <list> & <list> & <list> & <list> & <list> & <list> & <list> & <list> & <list> & <list> & <list> & <list>\\\\\n",
       "\\hline\n",
       "\t fun1\\&1 internet     & 5 & 5 & 5 & 5 & 5 & 5 & 0.6 & 0.6 & 0.6 & 0.6 & 0.6 & 0.6 & 5 & 5 & 5 & 5 & 5 & 5 & 0.6 & 0.6 & 0.6 & 0.6 & 0.6 & 0.6\\\\\n",
       "\t fun10dencehispahard & NaN & NaN & NaN & NaN & NaN & NaN & NaN & NaN & NaN & NaN & NaN & NaN & NaN & NaN & NaN & NaN & NaN & NaN & NaN & NaN & NaN & NaN & NaN & NaN\\\\\n",
       "\t fun1api             & 0 & 0 & 0 & 10 & 10 & 0 & 0.25 & 0.25 & 0.25 & 0.95 & 0.95 & 0.25 & 0 & 0 & 0 & 10 & 10 & 0 & 0.25 & 0.25 & 0.25 & 0.95 & 0.95 & 0.25\\\\\n",
       "\t funactive 24        & 0 & 0 & 0 & 2 & 2 & 2 & 0.45 & 0.35 & 0.49 & 0.57 & 0.59 & 0.63 & 0 & 0 & 0 & 2 & 2 & 2 & 0.45 & 0.35 & 0.49 & 0.57 & 0.59 & 0.63\\\\\n",
       "\t funalibaba          & 4.883721 & 5.302326 & 5.023256 & 5.813953 & 6 & 6.186047 & 0.8262791 & 0.8425581 & 0.8513953 & 0.8769767 & 0.877907 & 0.8793023 & 4.883721 & 5.302326 & 5.023256 & 5.813953 & 6 & 6.186047 & 0.8262791 & 0.8425581 & 0.8513953 & 0.8769767 & 0.877907 & 0.8793023\\\\\n",
       "\t funalibaba sg       & 0 & 0 & 10 & 0 & 0 & 10 & 0.05 & 0.05 & 0.95 & 0.85 & 0.55 & 0.95 & 0 & 0 & 10 & 0 & 0 & 10 & 0.05 & 0.05 & 0.95 & 0.85 & 0.55 & 0.95\\\\\n",
       "\\end{tabular}\n"
      ],
      "text/markdown": [
       "\n",
       "A rowwise_df: 6 × 25\n",
       "\n",
       "| tld_registrar_index &lt;chr&gt; | l10_seg2_glm &lt;list&gt; | l10_seg_glm &lt;list&gt; | l10_agg_glm &lt;list&gt; | l10_seg2_rf &lt;list&gt; | l10_seg_rf &lt;list&gt; | l10_agg_rf &lt;list&gt; | auc_seg2_glm &lt;list&gt; | auc_seg_glm &lt;list&gt; | auc_agg_glm &lt;list&gt; | auc_seg2_rf &lt;list&gt; | auc_seg_rf &lt;list&gt; | auc_agg_rf &lt;list&gt; | l10_seg2_glm_fb &lt;list&gt; | l10_seg_glm_fb &lt;list&gt; | l10_agg_glm_fb &lt;list&gt; | l10_seg2_rf_fb &lt;list&gt; | l10_seg_rf_fb &lt;list&gt; | l10_agg_rf_fb &lt;list&gt; | auc_seg2_glm_fb &lt;list&gt; | auc_seg_glm_fb &lt;list&gt; | auc_agg_glm_fb &lt;list&gt; | auc_seg2_rf_fb &lt;list&gt; | auc_seg_rf_fb &lt;list&gt; | auc_agg_rf_fb &lt;list&gt; |\n",
       "|---|---|---|---|---|---|---|---|---|---|---|---|---|---|---|---|---|---|---|---|---|---|---|---|---|\n",
       "| fun1&amp;1 internet     | 5 | 5 | 5 | 5 | 5 | 5 | 0.6 | 0.6 | 0.6 | 0.6 | 0.6 | 0.6 | 5 | 5 | 5 | 5 | 5 | 5 | 0.6 | 0.6 | 0.6 | 0.6 | 0.6 | 0.6 |\n",
       "| fun10dencehispahard | NaN | NaN | NaN | NaN | NaN | NaN | NaN | NaN | NaN | NaN | NaN | NaN | NaN | NaN | NaN | NaN | NaN | NaN | NaN | NaN | NaN | NaN | NaN | NaN |\n",
       "| fun1api             | 0 | 0 | 0 | 10 | 10 | 0 | 0.25 | 0.25 | 0.25 | 0.95 | 0.95 | 0.25 | 0 | 0 | 0 | 10 | 10 | 0 | 0.25 | 0.25 | 0.25 | 0.95 | 0.95 | 0.25 |\n",
       "| funactive 24        | 0 | 0 | 0 | 2 | 2 | 2 | 0.45 | 0.35 | 0.49 | 0.57 | 0.59 | 0.63 | 0 | 0 | 0 | 2 | 2 | 2 | 0.45 | 0.35 | 0.49 | 0.57 | 0.59 | 0.63 |\n",
       "| funalibaba          | 4.883721 | 5.302326 | 5.023256 | 5.813953 | 6 | 6.186047 | 0.8262791 | 0.8425581 | 0.8513953 | 0.8769767 | 0.877907 | 0.8793023 | 4.883721 | 5.302326 | 5.023256 | 5.813953 | 6 | 6.186047 | 0.8262791 | 0.8425581 | 0.8513953 | 0.8769767 | 0.877907 | 0.8793023 |\n",
       "| funalibaba sg       | 0 | 0 | 10 | 0 | 0 | 10 | 0.05 | 0.05 | 0.95 | 0.85 | 0.55 | 0.95 | 0 | 0 | 10 | 0 | 0 | 10 | 0.05 | 0.05 | 0.95 | 0.85 | 0.55 | 0.95 |\n",
       "\n"
      ],
      "text/plain": [
       "  tld_registrar_index l10_seg2_glm l10_seg_glm l10_agg_glm l10_seg2_rf\n",
       "1 fun1&1 internet     5            5           5           5          \n",
       "2 fun10dencehispahard NaN          NaN         NaN         NaN        \n",
       "3 fun1api             0            0           0           10         \n",
       "4 funactive 24        0            0           0           2          \n",
       "5 funalibaba          4.883721     5.302326    5.023256    5.813953   \n",
       "6 funalibaba sg       0            0           10          0          \n",
       "  l10_seg_rf l10_agg_rf auc_seg2_glm auc_seg_glm auc_agg_glm auc_seg2_rf\n",
       "1 5          5          0.6          0.6         0.6         0.6        \n",
       "2 NaN        NaN        NaN          NaN         NaN         NaN        \n",
       "3 10         0          0.25         0.25        0.25        0.95       \n",
       "4 2          2          0.45         0.35        0.49        0.57       \n",
       "5 6          6.186047   0.8262791    0.8425581   0.8513953   0.8769767  \n",
       "6 0          10         0.05         0.05        0.95        0.85       \n",
       "  auc_seg_rf auc_agg_rf l10_seg2_glm_fb l10_seg_glm_fb l10_agg_glm_fb\n",
       "1 0.6        0.6        5               5              5             \n",
       "2 NaN        NaN        NaN             NaN            NaN           \n",
       "3 0.95       0.25       0               0              0             \n",
       "4 0.59       0.63       0               0              0             \n",
       "5 0.877907   0.8793023  4.883721        5.302326       5.023256      \n",
       "6 0.55       0.95       0               0              10            \n",
       "  l10_seg2_rf_fb l10_seg_rf_fb l10_agg_rf_fb auc_seg2_glm_fb auc_seg_glm_fb\n",
       "1 5              5             5             0.6             0.6           \n",
       "2 NaN            NaN           NaN           NaN             NaN           \n",
       "3 10             10            0             0.25            0.25          \n",
       "4 2              2             2             0.45            0.35          \n",
       "5 5.813953       6             6.186047      0.8262791       0.8425581     \n",
       "6 0              0             10            0.05            0.05          \n",
       "  auc_agg_glm_fb auc_seg2_rf_fb auc_seg_rf_fb auc_agg_rf_fb\n",
       "1 0.6            0.6            0.6           0.6          \n",
       "2 NaN            NaN            NaN           NaN          \n",
       "3 0.25           0.95           0.95          0.25         \n",
       "4 0.49           0.57           0.59          0.63         \n",
       "5 0.8513953      0.8769767      0.877907      0.8793023    \n",
       "6 0.95           0.85           0.55          0.95         "
      ]
     },
     "metadata": {},
     "output_type": "display_data"
    }
   ],
   "source": [
    "dim(expiry_test_metrics)\n",
    "head(expiry_test_metrics)"
   ]
  },
  {
   "cell_type": "markdown",
   "metadata": {},
   "source": [
    "# Metalearning Prep"
   ]
  },
  {
   "cell_type": "markdown",
   "metadata": {},
   "source": [
    "## add geo to training data for fetaure eng"
   ]
  },
  {
   "cell_type": "code",
   "execution_count": 71,
   "metadata": {},
   "outputs": [],
   "source": [
    "# system(\"gsutil cp gs://data_input/PredictiveModelAnalysis_AnomalyRegistrars.csv /home/jupyter/local/Domains_202003/data/PredictiveModelAnalysis_AnomalyRegistrars.csv\")\n",
    "anomalyDF <- read.csv(\"/home/jupyter/local/Domains_202003/data/PredictiveModelAnalysis_AnomalyRegistrars.csv\")\n",
    "anomalyDF <- apply(anomalyDF, 2, function(x) trimws(x,which = c(\"both\")) )\n",
    "geoLookupDF <- unique(anomalyDF[,c('reseller','reseller_country','reseller_geo')])\n",
    "geoLookupDF <- as.data.frame(geoLookupDF)\n",
    "expiry_test_df_1 <- merge(expiry_test_df_1,geoLookupDF,on=c('reseller','reseller_country'), all.x = TRUE)"
   ]
  },
  {
   "cell_type": "code",
   "execution_count": 74,
   "metadata": {},
   "outputs": [],
   "source": [
    "# expiry_test_df_1 %>% setnames(\"reseller_geo.x\", \"reseller_geo\")"
   ]
  },
  {
   "cell_type": "code",
   "execution_count": 75,
   "metadata": {},
   "outputs": [
    {
     "data": {
      "text/html": [
       "<table>\n",
       "<caption>A data.table: 6 × 41</caption>\n",
       "<thead>\n",
       "\t<tr><th scope=col>reseller</th><th scope=col>reseller_country</th><th scope=col>renewal_type</th><th scope=col>renewed_count</th><th scope=col>expiry_date</th><th scope=col>domain_id</th><th scope=col>domain</th><th scope=col>creation_date</th><th scope=col>status</th><th scope=col>tld</th><th scope=col>registrar</th><th scope=col>region</th><th scope=col>reg_period</th><th scope=col>registrant_country</th><th scope=col>renewal_status</th><th scope=col>renew_mbg</th><th scope=col>renew_type</th><th scope=col>autorenew_type</th><th scope=col>renew_date</th><th scope=col>renew_registrar</th><th scope=col>renew_reseller</th><th scope=col>reg_revenue</th><th scope=col>reg_arpt</th><th scope=col>renew_period</th><th scope=col>renew_domain_revenue</th><th scope=col>renew_arpt</th><th scope=col>reg_arpt_org</th><th scope=col>tld_registrar_index</th><th scope=col>sld</th><th scope=col>sld_type</th><th scope=col>sld_length</th><th scope=col>sld_type2</th><th scope=col>day_domains</th><th scope=col>log_reg_arpt</th><th scope=col>gibb_score</th><th scope=col>pattern</th><th scope=col>cluster</th><th scope=col>pattern_score</th><th scope=col>pattern_domain_count</th><th scope=col>reseller_geo</th><th scope=col>reseller_geo.y</th></tr>\n",
       "\t<tr><th scope=col>&lt;chr&gt;</th><th scope=col>&lt;chr&gt;</th><th scope=col>&lt;chr&gt;</th><th scope=col>&lt;int&gt;</th><th scope=col>&lt;date&gt;</th><th scope=col>&lt;int&gt;</th><th scope=col>&lt;chr&gt;</th><th scope=col>&lt;date&gt;</th><th scope=col>&lt;chr&gt;</th><th scope=col>&lt;fct&gt;</th><th scope=col>&lt;chr&gt;</th><th scope=col>&lt;chr&gt;</th><th scope=col>&lt;int&gt;</th><th scope=col>&lt;chr&gt;</th><th scope=col>&lt;fct&gt;</th><th scope=col>&lt;int&gt;</th><th scope=col>&lt;chr&gt;</th><th scope=col>&lt;chr&gt;</th><th scope=col>&lt;date&gt;</th><th scope=col>&lt;chr&gt;</th><th scope=col>&lt;chr&gt;</th><th scope=col>&lt;dbl&gt;</th><th scope=col>&lt;dbl&gt;</th><th scope=col>&lt;int&gt;</th><th scope=col>&lt;dbl&gt;</th><th scope=col>&lt;dbl&gt;</th><th scope=col>&lt;dbl&gt;</th><th scope=col>&lt;chr&gt;</th><th scope=col>&lt;chr&gt;</th><th scope=col>&lt;fct&gt;</th><th scope=col>&lt;int&gt;</th><th scope=col>&lt;chr&gt;</th><th scope=col>&lt;int&gt;</th><th scope=col>&lt;dbl&gt;</th><th scope=col>&lt;dbl&gt;</th><th scope=col>&lt;chr&gt;</th><th scope=col>&lt;chr&gt;</th><th scope=col>&lt;dbl&gt;</th><th scope=col>&lt;int&gt;</th><th scope=col>&lt;fct&gt;</th><th scope=col>&lt;fct&gt;</th></tr>\n",
       "</thead>\n",
       "<tbody>\n",
       "\t<tr><td>1&amp;1 internet</td><td>Germany</td><td>FirstTime</td><td>1</td><td>2020-01-22</td><td> 91639803</td><td><span style=white-space:pre-wrap>segeln.fun       </span></td><td>2019-01-22</td><td>Active </td><td><span style=white-space:pre-wrap>fun   </span></td><td>1&amp;1 internet</td><td>Non China</td><td>1</td><td>NA</td><td><span style=white-space:pre-wrap>Renewed   </span></td><td>0</td><td>auto-renewal</td><td>realized</td><td>2020-01-22</td><td>1&amp;1 Internet</td><td>1&amp;1 Internet</td><td>15</td><td>15.00</td><td> 1</td><td>15</td><td>15</td><td>15.00</td><td><span style=white-space:pre-wrap>fun1&amp;1 internet   </span></td><td><span style=white-space:pre-wrap>segeln    </span></td><td>l</td><td> 6</td><td>6l </td><td>1</td><td>2.708050</td><td>2.23</td><td><span style=white-space:pre-wrap>segeln    </span></td><td>1</td><td>1</td><td>1</td><td>EU</td><td>EU</td></tr>\n",
       "\t<tr><td>1&amp;1 internet</td><td>Germany</td><td>FirstTime</td><td>1</td><td>2020-03-07</td><td> 95819759</td><td><span style=white-space:pre-wrap>harzhotel.fun    </span></td><td>2019-03-07</td><td>Active </td><td><span style=white-space:pre-wrap>fun   </span></td><td>1&amp;1 internet</td><td>Non China</td><td>1</td><td>NA</td><td><span style=white-space:pre-wrap>Renewed   </span></td><td>0</td><td>auto-renewal</td><td>realized</td><td>2020-03-07</td><td>1&amp;1 Internet</td><td>1&amp;1 Internet</td><td>15</td><td>15.00</td><td> 1</td><td>15</td><td>15</td><td>15.00</td><td><span style=white-space:pre-wrap>fun1&amp;1 internet   </span></td><td>harzhotel </td><td>l</td><td> 9</td><td>9l </td><td>1</td><td>2.708050</td><td>3.45</td><td>harzhotel </td><td>1</td><td>1</td><td>1</td><td>EU</td><td>EU</td></tr>\n",
       "\t<tr><td>1&amp;1 internet</td><td>Germany</td><td>FirstTime</td><td>1</td><td>2020-04-23</td><td>101353454</td><td><span style=white-space:pre-wrap>cloudnodes.host  </span></td><td>2019-04-23</td><td>Deleted</td><td><span style=white-space:pre-wrap>host  </span></td><td>1&amp;1 internet</td><td>Non China</td><td>1</td><td>NA</td><td>Not Renewd</td><td>0</td><td><span style=white-space:pre-wrap>NA          </span></td><td><span style=white-space:pre-wrap>NA      </span></td><td>NA</td><td>Not Assigned</td><td>Not Assigned</td><td>65</td><td>65.00</td><td>NA</td><td> 0</td><td>NA</td><td>65.00</td><td><span style=white-space:pre-wrap>host1&amp;1 internet  </span></td><td>cloudnodes</td><td>l</td><td>10</td><td>10l</td><td>1</td><td>4.174387</td><td>3.83</td><td>cloudnodes</td><td>1</td><td>1</td><td>1</td><td>EU</td><td>EU</td></tr>\n",
       "\t<tr><td>1&amp;1 internet</td><td>Germany</td><td>FirstTime</td><td>1</td><td>2020-02-18</td><td> 44554288</td><td>agenciaseo.online</td><td>2017-02-18</td><td>Active </td><td>online</td><td>1&amp;1 internet</td><td>Non China</td><td>3</td><td>NA</td><td><span style=white-space:pre-wrap>Renewed   </span></td><td>0</td><td>auto-renewal</td><td>realized</td><td>2020-02-18</td><td>1&amp;1 Internet</td><td>1&amp;1 Internet</td><td>55</td><td>18.33</td><td> 1</td><td>25</td><td>25</td><td>18.33</td><td>online1&amp;1 internet</td><td>agenciaseo</td><td>l</td><td>10</td><td>10l</td><td>1</td><td>2.908539</td><td>4.52</td><td>agenciaseo</td><td>1</td><td>1</td><td>1</td><td>EU</td><td>EU</td></tr>\n",
       "\t<tr><td>1&amp;1 internet</td><td>Germany</td><td>FirstTime</td><td>1</td><td>2020-03-29</td><td> 46343989</td><td><span style=white-space:pre-wrap>launion.online   </span></td><td>2017-03-29</td><td>Active </td><td>online</td><td>1&amp;1 internet</td><td>Non China</td><td>3</td><td>NA</td><td><span style=white-space:pre-wrap>Renewed   </span></td><td>0</td><td><span style=white-space:pre-wrap>renewal     </span></td><td><span style=white-space:pre-wrap>NA      </span></td><td>2020-03-25</td><td>1&amp;1 Internet</td><td>1&amp;1 Internet</td><td>55</td><td>18.33</td><td> 1</td><td>25</td><td>25</td><td>18.33</td><td>online1&amp;1 internet</td><td><span style=white-space:pre-wrap>launion   </span></td><td>l</td><td> 7</td><td>7l </td><td>1</td><td>2.908539</td><td>6.26</td><td><span style=white-space:pre-wrap>launion   </span></td><td>1</td><td>1</td><td>1</td><td>EU</td><td>EU</td></tr>\n",
       "\t<tr><td>1&amp;1 internet</td><td>Germany</td><td>FirstTime</td><td>1</td><td>2020-04-29</td><td> 47376325</td><td><span style=white-space:pre-wrap>egyptar.online   </span></td><td>2017-04-29</td><td>Deleted</td><td>online</td><td>1&amp;1 internet</td><td>Non China</td><td>3</td><td>NA</td><td>Not Renewd</td><td>0</td><td><span style=white-space:pre-wrap>NA          </span></td><td><span style=white-space:pre-wrap>NA      </span></td><td>NA</td><td>Not Assigned</td><td>Not Assigned</td><td>50</td><td>16.67</td><td>NA</td><td> 0</td><td>NA</td><td>16.67</td><td>online1&amp;1 internet</td><td><span style=white-space:pre-wrap>egyptar   </span></td><td>l</td><td> 7</td><td>7l </td><td>1</td><td>2.813611</td><td>1.73</td><td><span style=white-space:pre-wrap>egyptar   </span></td><td>1</td><td>1</td><td>1</td><td>EU</td><td>EU</td></tr>\n",
       "</tbody>\n",
       "</table>\n"
      ],
      "text/latex": [
       "A data.table: 6 × 41\n",
       "\\begin{tabular}{lllllllllllllllllllllllllllllllllllllllll}\n",
       " reseller & reseller\\_country & renewal\\_type & renewed\\_count & expiry\\_date & domain\\_id & domain & creation\\_date & status & tld & registrar & region & reg\\_period & registrant\\_country & renewal\\_status & renew\\_mbg & renew\\_type & autorenew\\_type & renew\\_date & renew\\_registrar & renew\\_reseller & reg\\_revenue & reg\\_arpt & renew\\_period & renew\\_domain\\_revenue & renew\\_arpt & reg\\_arpt\\_org & tld\\_registrar\\_index & sld & sld\\_type & sld\\_length & sld\\_type2 & day\\_domains & log\\_reg\\_arpt & gibb\\_score & pattern & cluster & pattern\\_score & pattern\\_domain\\_count & reseller\\_geo & reseller\\_geo.y\\\\\n",
       " <chr> & <chr> & <chr> & <int> & <date> & <int> & <chr> & <date> & <chr> & <fct> & <chr> & <chr> & <int> & <chr> & <fct> & <int> & <chr> & <chr> & <date> & <chr> & <chr> & <dbl> & <dbl> & <int> & <dbl> & <dbl> & <dbl> & <chr> & <chr> & <fct> & <int> & <chr> & <int> & <dbl> & <dbl> & <chr> & <chr> & <dbl> & <int> & <fct> & <fct>\\\\\n",
       "\\hline\n",
       "\t 1\\&1 internet & Germany & FirstTime & 1 & 2020-01-22 &  91639803 & segeln.fun        & 2019-01-22 & Active  & fun    & 1\\&1 internet & Non China & 1 & NA & Renewed    & 0 & auto-renewal & realized & 2020-01-22 & 1\\&1 Internet & 1\\&1 Internet & 15 & 15.00 &  1 & 15 & 15 & 15.00 & fun1\\&1 internet    & segeln     & l &  6 & 6l  & 1 & 2.708050 & 2.23 & segeln     & 1 & 1 & 1 & EU & EU\\\\\n",
       "\t 1\\&1 internet & Germany & FirstTime & 1 & 2020-03-07 &  95819759 & harzhotel.fun     & 2019-03-07 & Active  & fun    & 1\\&1 internet & Non China & 1 & NA & Renewed    & 0 & auto-renewal & realized & 2020-03-07 & 1\\&1 Internet & 1\\&1 Internet & 15 & 15.00 &  1 & 15 & 15 & 15.00 & fun1\\&1 internet    & harzhotel  & l &  9 & 9l  & 1 & 2.708050 & 3.45 & harzhotel  & 1 & 1 & 1 & EU & EU\\\\\n",
       "\t 1\\&1 internet & Germany & FirstTime & 1 & 2020-04-23 & 101353454 & cloudnodes.host   & 2019-04-23 & Deleted & host   & 1\\&1 internet & Non China & 1 & NA & Not Renewd & 0 & NA           & NA       & NA & Not Assigned & Not Assigned & 65 & 65.00 & NA &  0 & NA & 65.00 & host1\\&1 internet   & cloudnodes & l & 10 & 10l & 1 & 4.174387 & 3.83 & cloudnodes & 1 & 1 & 1 & EU & EU\\\\\n",
       "\t 1\\&1 internet & Germany & FirstTime & 1 & 2020-02-18 &  44554288 & agenciaseo.online & 2017-02-18 & Active  & online & 1\\&1 internet & Non China & 3 & NA & Renewed    & 0 & auto-renewal & realized & 2020-02-18 & 1\\&1 Internet & 1\\&1 Internet & 55 & 18.33 &  1 & 25 & 25 & 18.33 & online1\\&1 internet & agenciaseo & l & 10 & 10l & 1 & 2.908539 & 4.52 & agenciaseo & 1 & 1 & 1 & EU & EU\\\\\n",
       "\t 1\\&1 internet & Germany & FirstTime & 1 & 2020-03-29 &  46343989 & launion.online    & 2017-03-29 & Active  & online & 1\\&1 internet & Non China & 3 & NA & Renewed    & 0 & renewal      & NA       & 2020-03-25 & 1\\&1 Internet & 1\\&1 Internet & 55 & 18.33 &  1 & 25 & 25 & 18.33 & online1\\&1 internet & launion    & l &  7 & 7l  & 1 & 2.908539 & 6.26 & launion    & 1 & 1 & 1 & EU & EU\\\\\n",
       "\t 1\\&1 internet & Germany & FirstTime & 1 & 2020-04-29 &  47376325 & egyptar.online    & 2017-04-29 & Deleted & online & 1\\&1 internet & Non China & 3 & NA & Not Renewd & 0 & NA           & NA       & NA & Not Assigned & Not Assigned & 50 & 16.67 & NA &  0 & NA & 16.67 & online1\\&1 internet & egyptar    & l &  7 & 7l  & 1 & 2.813611 & 1.73 & egyptar    & 1 & 1 & 1 & EU & EU\\\\\n",
       "\\end{tabular}\n"
      ],
      "text/markdown": [
       "\n",
       "A data.table: 6 × 41\n",
       "\n",
       "| reseller &lt;chr&gt; | reseller_country &lt;chr&gt; | renewal_type &lt;chr&gt; | renewed_count &lt;int&gt; | expiry_date &lt;date&gt; | domain_id &lt;int&gt; | domain &lt;chr&gt; | creation_date &lt;date&gt; | status &lt;chr&gt; | tld &lt;fct&gt; | registrar &lt;chr&gt; | region &lt;chr&gt; | reg_period &lt;int&gt; | registrant_country &lt;chr&gt; | renewal_status &lt;fct&gt; | renew_mbg &lt;int&gt; | renew_type &lt;chr&gt; | autorenew_type &lt;chr&gt; | renew_date &lt;date&gt; | renew_registrar &lt;chr&gt; | renew_reseller &lt;chr&gt; | reg_revenue &lt;dbl&gt; | reg_arpt &lt;dbl&gt; | renew_period &lt;int&gt; | renew_domain_revenue &lt;dbl&gt; | renew_arpt &lt;dbl&gt; | reg_arpt_org &lt;dbl&gt; | tld_registrar_index &lt;chr&gt; | sld &lt;chr&gt; | sld_type &lt;fct&gt; | sld_length &lt;int&gt; | sld_type2 &lt;chr&gt; | day_domains &lt;int&gt; | log_reg_arpt &lt;dbl&gt; | gibb_score &lt;dbl&gt; | pattern &lt;chr&gt; | cluster &lt;chr&gt; | pattern_score &lt;dbl&gt; | pattern_domain_count &lt;int&gt; | reseller_geo &lt;fct&gt; | reseller_geo.y &lt;fct&gt; |\n",
       "|---|---|---|---|---|---|---|---|---|---|---|---|---|---|---|---|---|---|---|---|---|---|---|---|---|---|---|---|---|---|---|---|---|---|---|---|---|---|---|---|---|\n",
       "| 1&amp;1 internet | Germany | FirstTime | 1 | 2020-01-22 |  91639803 | segeln.fun        | 2019-01-22 | Active  | fun    | 1&amp;1 internet | Non China | 1 | NA | Renewed    | 0 | auto-renewal | realized | 2020-01-22 | 1&amp;1 Internet | 1&amp;1 Internet | 15 | 15.00 |  1 | 15 | 15 | 15.00 | fun1&amp;1 internet    | segeln     | l |  6 | 6l  | 1 | 2.708050 | 2.23 | segeln     | 1 | 1 | 1 | EU | EU |\n",
       "| 1&amp;1 internet | Germany | FirstTime | 1 | 2020-03-07 |  95819759 | harzhotel.fun     | 2019-03-07 | Active  | fun    | 1&amp;1 internet | Non China | 1 | NA | Renewed    | 0 | auto-renewal | realized | 2020-03-07 | 1&amp;1 Internet | 1&amp;1 Internet | 15 | 15.00 |  1 | 15 | 15 | 15.00 | fun1&amp;1 internet    | harzhotel  | l |  9 | 9l  | 1 | 2.708050 | 3.45 | harzhotel  | 1 | 1 | 1 | EU | EU |\n",
       "| 1&amp;1 internet | Germany | FirstTime | 1 | 2020-04-23 | 101353454 | cloudnodes.host   | 2019-04-23 | Deleted | host   | 1&amp;1 internet | Non China | 1 | NA | Not Renewd | 0 | NA           | NA       | NA | Not Assigned | Not Assigned | 65 | 65.00 | NA |  0 | NA | 65.00 | host1&amp;1 internet   | cloudnodes | l | 10 | 10l | 1 | 4.174387 | 3.83 | cloudnodes | 1 | 1 | 1 | EU | EU |\n",
       "| 1&amp;1 internet | Germany | FirstTime | 1 | 2020-02-18 |  44554288 | agenciaseo.online | 2017-02-18 | Active  | online | 1&amp;1 internet | Non China | 3 | NA | Renewed    | 0 | auto-renewal | realized | 2020-02-18 | 1&amp;1 Internet | 1&amp;1 Internet | 55 | 18.33 |  1 | 25 | 25 | 18.33 | online1&amp;1 internet | agenciaseo | l | 10 | 10l | 1 | 2.908539 | 4.52 | agenciaseo | 1 | 1 | 1 | EU | EU |\n",
       "| 1&amp;1 internet | Germany | FirstTime | 1 | 2020-03-29 |  46343989 | launion.online    | 2017-03-29 | Active  | online | 1&amp;1 internet | Non China | 3 | NA | Renewed    | 0 | renewal      | NA       | 2020-03-25 | 1&amp;1 Internet | 1&amp;1 Internet | 55 | 18.33 |  1 | 25 | 25 | 18.33 | online1&amp;1 internet | launion    | l |  7 | 7l  | 1 | 2.908539 | 6.26 | launion    | 1 | 1 | 1 | EU | EU |\n",
       "| 1&amp;1 internet | Germany | FirstTime | 1 | 2020-04-29 |  47376325 | egyptar.online    | 2017-04-29 | Deleted | online | 1&amp;1 internet | Non China | 3 | NA | Not Renewd | 0 | NA           | NA       | NA | Not Assigned | Not Assigned | 50 | 16.67 | NA |  0 | NA | 16.67 | online1&amp;1 internet | egyptar    | l |  7 | 7l  | 1 | 2.813611 | 1.73 | egyptar    | 1 | 1 | 1 | EU | EU |\n",
       "\n"
      ],
      "text/plain": [
       "  reseller     reseller_country renewal_type renewed_count expiry_date\n",
       "1 1&1 internet Germany          FirstTime    1             2020-01-22 \n",
       "2 1&1 internet Germany          FirstTime    1             2020-03-07 \n",
       "3 1&1 internet Germany          FirstTime    1             2020-04-23 \n",
       "4 1&1 internet Germany          FirstTime    1             2020-02-18 \n",
       "5 1&1 internet Germany          FirstTime    1             2020-03-29 \n",
       "6 1&1 internet Germany          FirstTime    1             2020-04-29 \n",
       "  domain_id domain            creation_date status  tld    registrar   \n",
       "1  91639803 segeln.fun        2019-01-22    Active  fun    1&1 internet\n",
       "2  95819759 harzhotel.fun     2019-03-07    Active  fun    1&1 internet\n",
       "3 101353454 cloudnodes.host   2019-04-23    Deleted host   1&1 internet\n",
       "4  44554288 agenciaseo.online 2017-02-18    Active  online 1&1 internet\n",
       "5  46343989 launion.online    2017-03-29    Active  online 1&1 internet\n",
       "6  47376325 egyptar.online    2017-04-29    Deleted online 1&1 internet\n",
       "  region    reg_period registrant_country renewal_status renew_mbg renew_type  \n",
       "1 Non China 1          NA                 Renewed        0         auto-renewal\n",
       "2 Non China 1          NA                 Renewed        0         auto-renewal\n",
       "3 Non China 1          NA                 Not Renewd     0         NA          \n",
       "4 Non China 3          NA                 Renewed        0         auto-renewal\n",
       "5 Non China 3          NA                 Renewed        0         renewal     \n",
       "6 Non China 3          NA                 Not Renewd     0         NA          \n",
       "  autorenew_type renew_date renew_registrar renew_reseller reg_revenue reg_arpt\n",
       "1 realized       2020-01-22 1&1 Internet    1&1 Internet   15          15.00   \n",
       "2 realized       2020-03-07 1&1 Internet    1&1 Internet   15          15.00   \n",
       "3 NA             <NA>       Not Assigned    Not Assigned   65          65.00   \n",
       "4 realized       2020-02-18 1&1 Internet    1&1 Internet   55          18.33   \n",
       "5 NA             2020-03-25 1&1 Internet    1&1 Internet   55          18.33   \n",
       "6 NA             <NA>       Not Assigned    Not Assigned   50          16.67   \n",
       "  renew_period renew_domain_revenue renew_arpt reg_arpt_org tld_registrar_index\n",
       "1  1           15                   15         15.00        fun1&1 internet    \n",
       "2  1           15                   15         15.00        fun1&1 internet    \n",
       "3 NA            0                   NA         65.00        host1&1 internet   \n",
       "4  1           25                   25         18.33        online1&1 internet \n",
       "5  1           25                   25         18.33        online1&1 internet \n",
       "6 NA            0                   NA         16.67        online1&1 internet \n",
       "  sld        sld_type sld_length sld_type2 day_domains log_reg_arpt gibb_score\n",
       "1 segeln     l         6         6l        1           2.708050     2.23      \n",
       "2 harzhotel  l         9         9l        1           2.708050     3.45      \n",
       "3 cloudnodes l        10         10l       1           4.174387     3.83      \n",
       "4 agenciaseo l        10         10l       1           2.908539     4.52      \n",
       "5 launion    l         7         7l        1           2.908539     6.26      \n",
       "6 egyptar    l         7         7l        1           2.813611     1.73      \n",
       "  pattern    cluster pattern_score pattern_domain_count reseller_geo\n",
       "1 segeln     1       1             1                    EU          \n",
       "2 harzhotel  1       1             1                    EU          \n",
       "3 cloudnodes 1       1             1                    EU          \n",
       "4 agenciaseo 1       1             1                    EU          \n",
       "5 launion    1       1             1                    EU          \n",
       "6 egyptar    1       1             1                    EU          \n",
       "  reseller_geo.y\n",
       "1 EU            \n",
       "2 EU            \n",
       "3 EU            \n",
       "4 EU            \n",
       "5 EU            \n",
       "6 EU            "
      ]
     },
     "metadata": {},
     "output_type": "display_data"
    }
   ],
   "source": [
    "head(expiry_test_df_1)"
   ]
  },
  {
   "cell_type": "markdown",
   "metadata": {},
   "source": [
    "## Feature Engineering for tld-reseller level "
   ]
  },
  {
   "cell_type": "code",
   "execution_count": 76,
   "metadata": {},
   "outputs": [
    {
     "name": "stderr",
     "output_type": "stream",
     "text": [
      "`summarise()` ungrouping output (override with `.groups` argument)\n",
      "\n"
     ]
    },
    {
     "data": {
      "text/html": [
       "<style>\n",
       ".list-inline {list-style: none; margin:0; padding: 0}\n",
       ".list-inline>li {display: inline-block}\n",
       ".list-inline>li:not(:last-child)::after {content: \"\\00b7\"; padding: 0 .5ex}\n",
       "</style>\n",
       "<ol class=list-inline><li>1405</li><li>42</li></ol>\n"
      ],
      "text/latex": [
       "\\begin{enumerate*}\n",
       "\\item 1405\n",
       "\\item 42\n",
       "\\end{enumerate*}\n"
      ],
      "text/markdown": [
       "1. 1405\n",
       "2. 42\n",
       "\n",
       "\n"
      ],
      "text/plain": [
       "[1] 1405   42"
      ]
     },
     "metadata": {},
     "output_type": "display_data"
    },
    {
     "data": {
      "text/html": [
       "<table>\n",
       "<caption>A tibble: 6 × 42</caption>\n",
       "<thead>\n",
       "\t<tr><th scope=col>tld_registrar_index</th><th scope=col>geo_maj</th><th scope=col>geo_cnt</th><th scope=col>n</th><th scope=col>ren_prp</th><th scope=col>tld_cnt</th><th scope=col>tld_rat</th><th scope=col>daydom_min</th><th scope=col>daydom_max</th><th scope=col>daydom_mean</th><th scope=col>daydom_rng</th><th scope=col>daydom_std</th><th scope=col>daydom_skew</th><th scope=col>daydom_kurt</th><th scope=col>sldlen_min</th><th scope=col>sldlen_max</th><th scope=col>sldlen_mean</th><th scope=col>sldlen_rng</th><th scope=col>sldlen_std</th><th scope=col>sldlen_skew</th><th scope=col>sldlen_kurt</th><th scope=col>gibbs_min</th><th scope=col>gibbs_max</th><th scope=col>gibbs_mean</th><th scope=col>gibbs_rng</th><th scope=col>gibbs_std</th><th scope=col>gibbs_skew</th><th scope=col>gibbs_kurt</th><th scope=col>pdcnt_min</th><th scope=col>pdcnt_max</th><th scope=col>pdcnt_mean</th><th scope=col>pdcnt_rng</th><th scope=col>pdcnt_std</th><th scope=col>pdcnt_skew</th><th scope=col>pdcnt_kurt</th><th scope=col>regarpt_min</th><th scope=col>regarpt_max</th><th scope=col>regarpt_mean</th><th scope=col>regarpt_rng</th><th scope=col>regarpt_std</th><th scope=col>regarpt_skew</th><th scope=col>regarpt_kurt</th></tr>\n",
       "\t<tr><th scope=col>&lt;chr&gt;</th><th scope=col>&lt;fct&gt;</th><th scope=col>&lt;int&gt;</th><th scope=col>&lt;int&gt;</th><th scope=col>&lt;dbl&gt;</th><th scope=col>&lt;int&gt;</th><th scope=col>&lt;dbl&gt;</th><th scope=col>&lt;int&gt;</th><th scope=col>&lt;int&gt;</th><th scope=col>&lt;dbl&gt;</th><th scope=col>&lt;int&gt;</th><th scope=col>&lt;dbl&gt;</th><th scope=col>&lt;dbl&gt;</th><th scope=col>&lt;dbl&gt;</th><th scope=col>&lt;int&gt;</th><th scope=col>&lt;int&gt;</th><th scope=col>&lt;dbl&gt;</th><th scope=col>&lt;int&gt;</th><th scope=col>&lt;dbl&gt;</th><th scope=col>&lt;dbl&gt;</th><th scope=col>&lt;dbl&gt;</th><th scope=col>&lt;dbl&gt;</th><th scope=col>&lt;dbl&gt;</th><th scope=col>&lt;dbl&gt;</th><th scope=col>&lt;dbl&gt;</th><th scope=col>&lt;dbl&gt;</th><th scope=col>&lt;dbl&gt;</th><th scope=col>&lt;dbl&gt;</th><th scope=col>&lt;int&gt;</th><th scope=col>&lt;int&gt;</th><th scope=col>&lt;dbl&gt;</th><th scope=col>&lt;int&gt;</th><th scope=col>&lt;dbl&gt;</th><th scope=col>&lt;dbl&gt;</th><th scope=col>&lt;dbl&gt;</th><th scope=col>&lt;dbl&gt;</th><th scope=col>&lt;dbl&gt;</th><th scope=col>&lt;dbl&gt;</th><th scope=col>&lt;dbl&gt;</th><th scope=col>&lt;dbl&gt;</th><th scope=col>&lt;dbl&gt;</th><th scope=col>&lt;dbl&gt;</th></tr>\n",
       "</thead>\n",
       "<tbody>\n",
       "\t<tr><td><span style=white-space:pre-wrap>fun1&amp;1 internet    </span></td><td><span style=white-space:pre-wrap>EU   </span></td><td>1</td><td><span style=white-space:pre-wrap>    2</span></td><td>1.0000000</td><td>1</td><td>5.000000e-01</td><td>1</td><td><span style=white-space:pre-wrap>  1</span></td><td><span style=white-space:pre-wrap>  1.000000</span></td><td><span style=white-space:pre-wrap>  0</span></td><td><span style=white-space:pre-wrap>  0.000000</span></td><td><span style=white-space:pre-wrap>       NaN</span></td><td><span style=white-space:pre-wrap>      NaN</span></td><td>6</td><td> 9</td><td>7.500000</td><td> 3</td><td>2.121320</td><td>0.0000000</td><td>-2.7500000</td><td>2.23</td><td><span style=white-space:pre-wrap>  3.45</span></td><td>2.840000</td><td><span style=white-space:pre-wrap>  1.22</span></td><td> 0.8626703</td><td> 3.890973e-16</td><td>-2.7500000</td><td>1</td><td> 1</td><td>1.000000</td><td> 0</td><td>0.0000000</td><td><span style=white-space:pre-wrap>     NaN</span></td><td><span style=white-space:pre-wrap>      NaN</span></td><td>15.00</td><td>15.00</td><td>15.0000000</td><td>0.00</td><td>0.00000000</td><td><span style=white-space:pre-wrap>      NaN</span></td><td><span style=white-space:pre-wrap>        NaN</span></td></tr>\n",
       "\t<tr><td>fun10dencehispahard</td><td>EU   </td><td>1</td><td>    2</td><td>0.0000000</td><td>1</td><td>5.000000e-01</td><td>1</td><td>  1</td><td>  1.000000</td><td>  0</td><td>  0.000000</td><td>       NaN</td><td>      NaN</td><td>6</td><td> 8</td><td>7.000000</td><td> 2</td><td>1.414214</td><td>0.0000000</td><td>-2.7500000</td><td>3.13</td><td>  8.62</td><td>5.875000</td><td>  5.49</td><td> 3.8820162</td><td>-1.821837e-16</td><td>-2.7500000</td><td>1</td><td> 1</td><td>1.000000</td><td> 0</td><td>0.0000000</td><td>     NaN</td><td>      NaN</td><td>15.00</td><td>15.00</td><td>15.0000000</td><td>0.00</td><td>0.00000000</td><td>      NaN</td><td>        NaN</td></tr>\n",
       "\t<tr><td>fun1api            </td><td>EU   </td><td>1</td><td>    2</td><td>0.5000000</td><td>1</td><td>5.000000e-01</td><td>1</td><td>  1</td><td>  1.000000</td><td>  0</td><td>  0.000000</td><td>       NaN</td><td>      NaN</td><td>7</td><td> 7</td><td>7.000000</td><td> 0</td><td>0.000000</td><td>      NaN</td><td>       NaN</td><td>4.51</td><td>  6.09</td><td>5.300000</td><td>  1.58</td><td> 1.1172287</td><td> 0.000000e+00</td><td>-2.7500000</td><td>1</td><td> 1</td><td>1.000000</td><td> 0</td><td>0.0000000</td><td>     NaN</td><td>      NaN</td><td> 5.00</td><td> 5.00</td><td> 5.0000000</td><td>0.00</td><td>0.00000000</td><td>      NaN</td><td>        NaN</td></tr>\n",
       "\t<tr><td>funactive 24       </td><td>EU   </td><td>1</td><td>   22</td><td>0.2272727</td><td>1</td><td>4.545455e-02</td><td>1</td><td>  3</td><td>  2.090909</td><td>  2</td><td>  1.019294</td><td>-0.1702685</td><td>-2.058471</td><td>4</td><td>14</td><td>7.363636</td><td>10</td><td>2.498484</td><td>0.8100072</td><td> 0.4123014</td><td>0.59</td><td>100.00</td><td>9.425000</td><td> 99.41</td><td>20.4690367</td><td> 3.916190e+00</td><td>14.4351125</td><td>1</td><td> 3</td><td>1.272727</td><td> 2</td><td>0.7025002</td><td>1.976412</td><td> 2.003371</td><td> 0.50</td><td> 0.50</td><td> 0.5000000</td><td>0.00</td><td>0.00000000</td><td>      NaN</td><td>        NaN</td></tr>\n",
       "\t<tr><td>funalibaba         </td><td>China</td><td>1</td><td>18208</td><td>0.0118080</td><td>1</td><td>5.492091e-05</td><td>1</td><td>705</td><td>219.892025</td><td>704</td><td>156.107008</td><td> 1.5055591</td><td> 2.301106</td><td>3</td><td>38</td><td>6.956832</td><td>35</td><td>3.311960</td><td>2.9556282</td><td>13.5354533</td><td>0.00</td><td>100.00</td><td>6.320069</td><td>100.00</td><td>21.0541141</td><td> 4.158734e+00</td><td>15.5656248</td><td>1</td><td>74</td><td>5.124341</td><td>73</td><td>9.7106897</td><td>4.178197</td><td>19.706420</td><td> 0.75</td><td> 4.75</td><td> 0.7519112</td><td>4.00</td><td>0.07918874</td><td>48.370853</td><td>2363.819659</td></tr>\n",
       "\t<tr><td>funalibaba sg      </td><td>China</td><td>1</td><td>   16</td><td>0.0625000</td><td>1</td><td>6.250000e-02</td><td>1</td><td>  1</td><td>  1.000000</td><td>  0</td><td>  0.000000</td><td>       NaN</td><td>      NaN</td><td>4</td><td>13</td><td>7.375000</td><td> 9</td><td>2.604483</td><td>0.3561975</td><td>-0.8500916</td><td>0.24</td><td> 13.58</td><td>4.647500</td><td> 13.34</td><td> 3.3497910</td><td> 1.008842e+00</td><td> 0.7044306</td><td>1</td><td> 1</td><td>1.000000</td><td> 0</td><td>0.0000000</td><td>     NaN</td><td>      NaN</td><td> 0.75</td><td> 8.50</td><td> 1.2656250</td><td>7.75</td><td>1.92931065</td><td> 3.280409</td><td>   9.359645</td></tr>\n",
       "</tbody>\n",
       "</table>\n"
      ],
      "text/latex": [
       "A tibble: 6 × 42\n",
       "\\begin{tabular}{llllllllllllllllllllllllllllllllllllllllll}\n",
       " tld\\_registrar\\_index & geo\\_maj & geo\\_cnt & n & ren\\_prp & tld\\_cnt & tld\\_rat & daydom\\_min & daydom\\_max & daydom\\_mean & daydom\\_rng & daydom\\_std & daydom\\_skew & daydom\\_kurt & sldlen\\_min & sldlen\\_max & sldlen\\_mean & sldlen\\_rng & sldlen\\_std & sldlen\\_skew & sldlen\\_kurt & gibbs\\_min & gibbs\\_max & gibbs\\_mean & gibbs\\_rng & gibbs\\_std & gibbs\\_skew & gibbs\\_kurt & pdcnt\\_min & pdcnt\\_max & pdcnt\\_mean & pdcnt\\_rng & pdcnt\\_std & pdcnt\\_skew & pdcnt\\_kurt & regarpt\\_min & regarpt\\_max & regarpt\\_mean & regarpt\\_rng & regarpt\\_std & regarpt\\_skew & regarpt\\_kurt\\\\\n",
       " <chr> & <fct> & <int> & <int> & <dbl> & <int> & <dbl> & <int> & <int> & <dbl> & <int> & <dbl> & <dbl> & <dbl> & <int> & <int> & <dbl> & <int> & <dbl> & <dbl> & <dbl> & <dbl> & <dbl> & <dbl> & <dbl> & <dbl> & <dbl> & <dbl> & <int> & <int> & <dbl> & <int> & <dbl> & <dbl> & <dbl> & <dbl> & <dbl> & <dbl> & <dbl> & <dbl> & <dbl> & <dbl>\\\\\n",
       "\\hline\n",
       "\t fun1\\&1 internet     & EU    & 1 &     2 & 1.0000000 & 1 & 5.000000e-01 & 1 &   1 &   1.000000 &   0 &   0.000000 &        NaN &       NaN & 6 &  9 & 7.500000 &  3 & 2.121320 & 0.0000000 & -2.7500000 & 2.23 &   3.45 & 2.840000 &   1.22 &  0.8626703 &  3.890973e-16 & -2.7500000 & 1 &  1 & 1.000000 &  0 & 0.0000000 &      NaN &       NaN & 15.00 & 15.00 & 15.0000000 & 0.00 & 0.00000000 &       NaN &         NaN\\\\\n",
       "\t fun10dencehispahard & EU    & 1 &     2 & 0.0000000 & 1 & 5.000000e-01 & 1 &   1 &   1.000000 &   0 &   0.000000 &        NaN &       NaN & 6 &  8 & 7.000000 &  2 & 1.414214 & 0.0000000 & -2.7500000 & 3.13 &   8.62 & 5.875000 &   5.49 &  3.8820162 & -1.821837e-16 & -2.7500000 & 1 &  1 & 1.000000 &  0 & 0.0000000 &      NaN &       NaN & 15.00 & 15.00 & 15.0000000 & 0.00 & 0.00000000 &       NaN &         NaN\\\\\n",
       "\t fun1api             & EU    & 1 &     2 & 0.5000000 & 1 & 5.000000e-01 & 1 &   1 &   1.000000 &   0 &   0.000000 &        NaN &       NaN & 7 &  7 & 7.000000 &  0 & 0.000000 &       NaN &        NaN & 4.51 &   6.09 & 5.300000 &   1.58 &  1.1172287 &  0.000000e+00 & -2.7500000 & 1 &  1 & 1.000000 &  0 & 0.0000000 &      NaN &       NaN &  5.00 &  5.00 &  5.0000000 & 0.00 & 0.00000000 &       NaN &         NaN\\\\\n",
       "\t funactive 24        & EU    & 1 &    22 & 0.2272727 & 1 & 4.545455e-02 & 1 &   3 &   2.090909 &   2 &   1.019294 & -0.1702685 & -2.058471 & 4 & 14 & 7.363636 & 10 & 2.498484 & 0.8100072 &  0.4123014 & 0.59 & 100.00 & 9.425000 &  99.41 & 20.4690367 &  3.916190e+00 & 14.4351125 & 1 &  3 & 1.272727 &  2 & 0.7025002 & 1.976412 &  2.003371 &  0.50 &  0.50 &  0.5000000 & 0.00 & 0.00000000 &       NaN &         NaN\\\\\n",
       "\t funalibaba          & China & 1 & 18208 & 0.0118080 & 1 & 5.492091e-05 & 1 & 705 & 219.892025 & 704 & 156.107008 &  1.5055591 &  2.301106 & 3 & 38 & 6.956832 & 35 & 3.311960 & 2.9556282 & 13.5354533 & 0.00 & 100.00 & 6.320069 & 100.00 & 21.0541141 &  4.158734e+00 & 15.5656248 & 1 & 74 & 5.124341 & 73 & 9.7106897 & 4.178197 & 19.706420 &  0.75 &  4.75 &  0.7519112 & 4.00 & 0.07918874 & 48.370853 & 2363.819659\\\\\n",
       "\t funalibaba sg       & China & 1 &    16 & 0.0625000 & 1 & 6.250000e-02 & 1 &   1 &   1.000000 &   0 &   0.000000 &        NaN &       NaN & 4 & 13 & 7.375000 &  9 & 2.604483 & 0.3561975 & -0.8500916 & 0.24 &  13.58 & 4.647500 &  13.34 &  3.3497910 &  1.008842e+00 &  0.7044306 & 1 &  1 & 1.000000 &  0 & 0.0000000 &      NaN &       NaN &  0.75 &  8.50 &  1.2656250 & 7.75 & 1.92931065 &  3.280409 &    9.359645\\\\\n",
       "\\end{tabular}\n"
      ],
      "text/markdown": [
       "\n",
       "A tibble: 6 × 42\n",
       "\n",
       "| tld_registrar_index &lt;chr&gt; | geo_maj &lt;fct&gt; | geo_cnt &lt;int&gt; | n &lt;int&gt; | ren_prp &lt;dbl&gt; | tld_cnt &lt;int&gt; | tld_rat &lt;dbl&gt; | daydom_min &lt;int&gt; | daydom_max &lt;int&gt; | daydom_mean &lt;dbl&gt; | daydom_rng &lt;int&gt; | daydom_std &lt;dbl&gt; | daydom_skew &lt;dbl&gt; | daydom_kurt &lt;dbl&gt; | sldlen_min &lt;int&gt; | sldlen_max &lt;int&gt; | sldlen_mean &lt;dbl&gt; | sldlen_rng &lt;int&gt; | sldlen_std &lt;dbl&gt; | sldlen_skew &lt;dbl&gt; | sldlen_kurt &lt;dbl&gt; | gibbs_min &lt;dbl&gt; | gibbs_max &lt;dbl&gt; | gibbs_mean &lt;dbl&gt; | gibbs_rng &lt;dbl&gt; | gibbs_std &lt;dbl&gt; | gibbs_skew &lt;dbl&gt; | gibbs_kurt &lt;dbl&gt; | pdcnt_min &lt;int&gt; | pdcnt_max &lt;int&gt; | pdcnt_mean &lt;dbl&gt; | pdcnt_rng &lt;int&gt; | pdcnt_std &lt;dbl&gt; | pdcnt_skew &lt;dbl&gt; | pdcnt_kurt &lt;dbl&gt; | regarpt_min &lt;dbl&gt; | regarpt_max &lt;dbl&gt; | regarpt_mean &lt;dbl&gt; | regarpt_rng &lt;dbl&gt; | regarpt_std &lt;dbl&gt; | regarpt_skew &lt;dbl&gt; | regarpt_kurt &lt;dbl&gt; |\n",
       "|---|---|---|---|---|---|---|---|---|---|---|---|---|---|---|---|---|---|---|---|---|---|---|---|---|---|---|---|---|---|---|---|---|---|---|---|---|---|---|---|---|---|\n",
       "| fun1&amp;1 internet     | EU    | 1 |     2 | 1.0000000 | 1 | 5.000000e-01 | 1 |   1 |   1.000000 |   0 |   0.000000 |        NaN |       NaN | 6 |  9 | 7.500000 |  3 | 2.121320 | 0.0000000 | -2.7500000 | 2.23 |   3.45 | 2.840000 |   1.22 |  0.8626703 |  3.890973e-16 | -2.7500000 | 1 |  1 | 1.000000 |  0 | 0.0000000 |      NaN |       NaN | 15.00 | 15.00 | 15.0000000 | 0.00 | 0.00000000 |       NaN |         NaN |\n",
       "| fun10dencehispahard | EU    | 1 |     2 | 0.0000000 | 1 | 5.000000e-01 | 1 |   1 |   1.000000 |   0 |   0.000000 |        NaN |       NaN | 6 |  8 | 7.000000 |  2 | 1.414214 | 0.0000000 | -2.7500000 | 3.13 |   8.62 | 5.875000 |   5.49 |  3.8820162 | -1.821837e-16 | -2.7500000 | 1 |  1 | 1.000000 |  0 | 0.0000000 |      NaN |       NaN | 15.00 | 15.00 | 15.0000000 | 0.00 | 0.00000000 |       NaN |         NaN |\n",
       "| fun1api             | EU    | 1 |     2 | 0.5000000 | 1 | 5.000000e-01 | 1 |   1 |   1.000000 |   0 |   0.000000 |        NaN |       NaN | 7 |  7 | 7.000000 |  0 | 0.000000 |       NaN |        NaN | 4.51 |   6.09 | 5.300000 |   1.58 |  1.1172287 |  0.000000e+00 | -2.7500000 | 1 |  1 | 1.000000 |  0 | 0.0000000 |      NaN |       NaN |  5.00 |  5.00 |  5.0000000 | 0.00 | 0.00000000 |       NaN |         NaN |\n",
       "| funactive 24        | EU    | 1 |    22 | 0.2272727 | 1 | 4.545455e-02 | 1 |   3 |   2.090909 |   2 |   1.019294 | -0.1702685 | -2.058471 | 4 | 14 | 7.363636 | 10 | 2.498484 | 0.8100072 |  0.4123014 | 0.59 | 100.00 | 9.425000 |  99.41 | 20.4690367 |  3.916190e+00 | 14.4351125 | 1 |  3 | 1.272727 |  2 | 0.7025002 | 1.976412 |  2.003371 |  0.50 |  0.50 |  0.5000000 | 0.00 | 0.00000000 |       NaN |         NaN |\n",
       "| funalibaba          | China | 1 | 18208 | 0.0118080 | 1 | 5.492091e-05 | 1 | 705 | 219.892025 | 704 | 156.107008 |  1.5055591 |  2.301106 | 3 | 38 | 6.956832 | 35 | 3.311960 | 2.9556282 | 13.5354533 | 0.00 | 100.00 | 6.320069 | 100.00 | 21.0541141 |  4.158734e+00 | 15.5656248 | 1 | 74 | 5.124341 | 73 | 9.7106897 | 4.178197 | 19.706420 |  0.75 |  4.75 |  0.7519112 | 4.00 | 0.07918874 | 48.370853 | 2363.819659 |\n",
       "| funalibaba sg       | China | 1 |    16 | 0.0625000 | 1 | 6.250000e-02 | 1 |   1 |   1.000000 |   0 |   0.000000 |        NaN |       NaN | 4 | 13 | 7.375000 |  9 | 2.604483 | 0.3561975 | -0.8500916 | 0.24 |  13.58 | 4.647500 |  13.34 |  3.3497910 |  1.008842e+00 |  0.7044306 | 1 |  1 | 1.000000 |  0 | 0.0000000 |      NaN |       NaN |  0.75 |  8.50 |  1.2656250 | 7.75 | 1.92931065 |  3.280409 |    9.359645 |\n",
       "\n"
      ],
      "text/plain": [
       "  tld_registrar_index geo_maj geo_cnt n     ren_prp   tld_cnt tld_rat     \n",
       "1 fun1&1 internet     EU      1           2 1.0000000 1       5.000000e-01\n",
       "2 fun10dencehispahard EU      1           2 0.0000000 1       5.000000e-01\n",
       "3 fun1api             EU      1           2 0.5000000 1       5.000000e-01\n",
       "4 funactive 24        EU      1          22 0.2272727 1       4.545455e-02\n",
       "5 funalibaba          China   1       18208 0.0118080 1       5.492091e-05\n",
       "6 funalibaba sg       China   1          16 0.0625000 1       6.250000e-02\n",
       "  daydom_min daydom_max daydom_mean daydom_rng daydom_std daydom_skew\n",
       "1 1            1          1.000000    0          0.000000        NaN \n",
       "2 1            1          1.000000    0          0.000000        NaN \n",
       "3 1            1          1.000000    0          0.000000        NaN \n",
       "4 1            3          2.090909    2          1.019294 -0.1702685 \n",
       "5 1          705        219.892025  704        156.107008  1.5055591 \n",
       "6 1            1          1.000000    0          0.000000        NaN \n",
       "  daydom_kurt sldlen_min sldlen_max sldlen_mean sldlen_rng sldlen_std\n",
       "1       NaN   6           9         7.500000     3         2.121320  \n",
       "2       NaN   6           8         7.000000     2         1.414214  \n",
       "3       NaN   7           7         7.000000     0         0.000000  \n",
       "4 -2.058471   4          14         7.363636    10         2.498484  \n",
       "5  2.301106   3          38         6.956832    35         3.311960  \n",
       "6       NaN   4          13         7.375000     9         2.604483  \n",
       "  sldlen_skew sldlen_kurt gibbs_min gibbs_max gibbs_mean gibbs_rng gibbs_std \n",
       "1 0.0000000   -2.7500000  2.23        3.45    2.840000     1.22     0.8626703\n",
       "2 0.0000000   -2.7500000  3.13        8.62    5.875000     5.49     3.8820162\n",
       "3       NaN          NaN  4.51        6.09    5.300000     1.58     1.1172287\n",
       "4 0.8100072    0.4123014  0.59      100.00    9.425000    99.41    20.4690367\n",
       "5 2.9556282   13.5354533  0.00      100.00    6.320069   100.00    21.0541141\n",
       "6 0.3561975   -0.8500916  0.24       13.58    4.647500    13.34     3.3497910\n",
       "  gibbs_skew    gibbs_kurt pdcnt_min pdcnt_max pdcnt_mean pdcnt_rng pdcnt_std\n",
       "1  3.890973e-16 -2.7500000 1          1        1.000000    0        0.0000000\n",
       "2 -1.821837e-16 -2.7500000 1          1        1.000000    0        0.0000000\n",
       "3  0.000000e+00 -2.7500000 1          1        1.000000    0        0.0000000\n",
       "4  3.916190e+00 14.4351125 1          3        1.272727    2        0.7025002\n",
       "5  4.158734e+00 15.5656248 1         74        5.124341   73        9.7106897\n",
       "6  1.008842e+00  0.7044306 1          1        1.000000    0        0.0000000\n",
       "  pdcnt_skew pdcnt_kurt regarpt_min regarpt_max regarpt_mean regarpt_rng\n",
       "1      NaN         NaN  15.00       15.00       15.0000000   0.00       \n",
       "2      NaN         NaN  15.00       15.00       15.0000000   0.00       \n",
       "3      NaN         NaN   5.00        5.00        5.0000000   0.00       \n",
       "4 1.976412    2.003371   0.50        0.50        0.5000000   0.00       \n",
       "5 4.178197   19.706420   0.75        4.75        0.7519112   4.00       \n",
       "6      NaN         NaN   0.75        8.50        1.2656250   7.75       \n",
       "  regarpt_std regarpt_skew regarpt_kurt\n",
       "1 0.00000000        NaN            NaN \n",
       "2 0.00000000        NaN            NaN \n",
       "3 0.00000000        NaN            NaN \n",
       "4 0.00000000        NaN            NaN \n",
       "5 0.07918874  48.370853    2363.819659 \n",
       "6 1.92931065   3.280409       9.359645 "
      ]
     },
     "metadata": {},
     "output_type": "display_data"
    }
   ],
   "source": [
    "# new geo level feature eng\n",
    "expiry_test_meta = expiry_test_df_1 %>%\n",
    "  add_count(tld_registrar_index, reseller_geo) %>%\n",
    "  group_by(tld_registrar_index) %>%\n",
    "  summarise(\n",
    "            geo_maj = reseller_geo[n == max(n)][1],\n",
    "            geo_cnt = n_distinct(reseller_geo),\n",
    "            n = n(),\n",
    "            ren_prp = sum(renewal_status=='Renewed')/sum(n),\n",
    "            tld_cnt = n_distinct(tld), tld_rat = tld_cnt/n,\n",
    "              \n",
    "            daydom_min = min(day_domains), \n",
    "            daydom_max = max(day_domains), \n",
    "            daydom_mean = mean(day_domains, na.rm = TRUE), \n",
    "            daydom_rng = daydom_max - daydom_min, \n",
    "            daydom_std = sd(day_domains, na.rm = TRUE), \n",
    "            daydom_skew = skewness(day_domains, na.rm = TRUE), \n",
    "            daydom_kurt = kurtosis(day_domains, na.rm = TRUE),\n",
    "\n",
    "            sldlen_min = min(sld_length), \n",
    "            sldlen_max = max(sld_length), \n",
    "            sldlen_mean = mean(sld_length, na.rm = TRUE), \n",
    "            sldlen_rng = sldlen_max - sldlen_min, \n",
    "            sldlen_std = sd(sld_length, na.rm = TRUE), \n",
    "            sldlen_skew = skewness(sld_length, na.rm = TRUE), \n",
    "            sldlen_kurt = kurtosis(sld_length, na.rm = TRUE),\n",
    "  \n",
    "            gibbs_min = min(gibb_score), \n",
    "            gibbs_max = max(gibb_score), \n",
    "            gibbs_mean = mean(gibb_score, na.rm = TRUE), \n",
    "            gibbs_rng = gibbs_max - gibbs_min, \n",
    "            gibbs_std = sd(gibb_score, na.rm = TRUE), \n",
    "            gibbs_skew = skewness(gibb_score, na.rm = TRUE), \n",
    "            gibbs_kurt = kurtosis(gibb_score, na.rm = TRUE),\n",
    "  \n",
    "            pdcnt_min = min(pattern_domain_count), \n",
    "            pdcnt_max = max(pattern_domain_count), \n",
    "            pdcnt_mean = mean(pattern_domain_count, na.rm = TRUE), \n",
    "            pdcnt_rng = pdcnt_max - pdcnt_min, \n",
    "            pdcnt_std = sd(pattern_domain_count, na.rm = TRUE), \n",
    "            pdcnt_skew = skewness(pattern_domain_count, na.rm = TRUE), \n",
    "            pdcnt_kurt = kurtosis(pattern_domain_count, na.rm = TRUE),\n",
    "  \n",
    "            regarpt_min = min(reg_arpt), \n",
    "            regarpt_max = max(reg_arpt), \n",
    "            regarpt_mean = mean(reg_arpt, na.rm = TRUE), \n",
    "            regarpt_rng = regarpt_max - regarpt_min, \n",
    "            regarpt_std = sd(reg_arpt, na.rm = TRUE), \n",
    "            regarpt_skew = skewness(reg_arpt, na.rm = TRUE), \n",
    "            regarpt_kurt = kurtosis(reg_arpt, na.rm = TRUE))\n",
    "dim(expiry_test_meta)\n",
    "head(expiry_test_meta)"
   ]
  },
  {
   "cell_type": "code",
   "execution_count": 77,
   "metadata": {},
   "outputs": [
    {
     "name": "stderr",
     "output_type": "stream",
     "text": [
      "`summarise()` regrouping output by 'tld_registrar_index' (override with `.groups` argument)\n",
      "\n",
      "`summarise()` ungrouping output (override with `.groups` argument)\n",
      "\n",
      "`summarise()` regrouping output by 'tld_registrar_index' (override with `.groups` argument)\n",
      "\n",
      "`summarise()` ungrouping output (override with `.groups` argument)\n",
      "\n"
     ]
    }
   ],
   "source": [
    "# add a handful more vars \n",
    "country_maj = expiry_test_df_1 %>%\n",
    "  add_count(tld_registrar_index, reseller_country) %>%\n",
    "  group_by(tld_registrar_index) %>%\n",
    "  mutate(reseller_country_maj = reseller_country[n == max(n)][1]) %>%\n",
    "  select(-n) %>% \n",
    "  group_by(tld_registrar_index,reseller_country_maj) %>%\n",
    "    summarise(n = n()) %>% \n",
    "    arrange(desc(n)) %>%\n",
    "    pull(reseller_country_maj)\n",
    "\n",
    "country_cnt = expiry_test_df_1 %>%\n",
    "  add_count(tld_registrar_index, reseller_country) %>%\n",
    "  group_by(tld_registrar_index) %>%\n",
    "  summarise(reseller_country_cnt = n_distinct(reseller_country)) %>%\n",
    "  pull(reseller_country_cnt)  \n",
    "\n",
    "region_maj = expiry_test_df_1 %>%\n",
    "  add_count(tld_registrar_index, region) %>%\n",
    "  group_by(tld_registrar_index) %>%\n",
    "  mutate(region_maj = region[n == max(n)][1]) %>%\n",
    "  select(-n) %>% \n",
    "  group_by(tld_registrar_index,region_maj) %>%\n",
    "    summarise(n = n()) %>% \n",
    "    arrange(desc(n)) %>%\n",
    "    pull(region_maj)\n",
    "\n",
    "region_cnt = expiry_test_df_1 %>%\n",
    "  add_count(tld_registrar_index, region) %>%\n",
    "  group_by(tld_registrar_index) %>%\n",
    "  summarise(reseller_region_cnt = n_distinct(reseller_country)) %>%\n",
    "  pull(reseller_region_cnt)  \n",
    "\n",
    "expiry_test_meta = expiry_test_meta %>% \n",
    "    mutate(country_maj = country_maj,\n",
    "            region_maj = region_maj,\n",
    "            country_cnt = country_cnt,\n",
    "            region_cnt = region_cnt,\n",
    "            )"
   ]
  },
  {
   "cell_type": "code",
   "execution_count": 78,
   "metadata": {},
   "outputs": [
    {
     "data": {
      "text/html": [
       "<style>\n",
       ".list-inline {list-style: none; margin:0; padding: 0}\n",
       ".list-inline>li {display: inline-block}\n",
       ".list-inline>li:not(:last-child)::after {content: \"\\00b7\"; padding: 0 .5ex}\n",
       "</style>\n",
       "<ol class=list-inline><li>1405</li><li>46</li></ol>\n"
      ],
      "text/latex": [
       "\\begin{enumerate*}\n",
       "\\item 1405\n",
       "\\item 46\n",
       "\\end{enumerate*}\n"
      ],
      "text/markdown": [
       "1. 1405\n",
       "2. 46\n",
       "\n",
       "\n"
      ],
      "text/plain": [
       "[1] 1405   46"
      ]
     },
     "metadata": {},
     "output_type": "display_data"
    },
    {
     "data": {
      "text/html": [
       "<table>\n",
       "<caption>A tibble: 6 × 46</caption>\n",
       "<thead>\n",
       "\t<tr><th scope=col>tld_registrar_index</th><th scope=col>geo_maj</th><th scope=col>geo_cnt</th><th scope=col>n</th><th scope=col>ren_prp</th><th scope=col>tld_cnt</th><th scope=col>tld_rat</th><th scope=col>daydom_min</th><th scope=col>daydom_max</th><th scope=col>daydom_mean</th><th scope=col>daydom_rng</th><th scope=col>daydom_std</th><th scope=col>daydom_skew</th><th scope=col>daydom_kurt</th><th scope=col>sldlen_min</th><th scope=col>sldlen_max</th><th scope=col>sldlen_mean</th><th scope=col>sldlen_rng</th><th scope=col>sldlen_std</th><th scope=col>sldlen_skew</th><th scope=col>sldlen_kurt</th><th scope=col>gibbs_min</th><th scope=col>gibbs_max</th><th scope=col>gibbs_mean</th><th scope=col>gibbs_rng</th><th scope=col>gibbs_std</th><th scope=col>gibbs_skew</th><th scope=col>gibbs_kurt</th><th scope=col>pdcnt_min</th><th scope=col>pdcnt_max</th><th scope=col>pdcnt_mean</th><th scope=col>pdcnt_rng</th><th scope=col>pdcnt_std</th><th scope=col>pdcnt_skew</th><th scope=col>pdcnt_kurt</th><th scope=col>regarpt_min</th><th scope=col>regarpt_max</th><th scope=col>regarpt_mean</th><th scope=col>regarpt_rng</th><th scope=col>regarpt_std</th><th scope=col>regarpt_skew</th><th scope=col>regarpt_kurt</th><th scope=col>country_maj</th><th scope=col>region_maj</th><th scope=col>country_cnt</th><th scope=col>region_cnt</th></tr>\n",
       "\t<tr><th scope=col>&lt;chr&gt;</th><th scope=col>&lt;fct&gt;</th><th scope=col>&lt;int&gt;</th><th scope=col>&lt;int&gt;</th><th scope=col>&lt;dbl&gt;</th><th scope=col>&lt;int&gt;</th><th scope=col>&lt;dbl&gt;</th><th scope=col>&lt;int&gt;</th><th scope=col>&lt;int&gt;</th><th scope=col>&lt;dbl&gt;</th><th scope=col>&lt;int&gt;</th><th scope=col>&lt;dbl&gt;</th><th scope=col>&lt;dbl&gt;</th><th scope=col>&lt;dbl&gt;</th><th scope=col>&lt;int&gt;</th><th scope=col>&lt;int&gt;</th><th scope=col>&lt;dbl&gt;</th><th scope=col>&lt;int&gt;</th><th scope=col>&lt;dbl&gt;</th><th scope=col>&lt;dbl&gt;</th><th scope=col>&lt;dbl&gt;</th><th scope=col>&lt;dbl&gt;</th><th scope=col>&lt;dbl&gt;</th><th scope=col>&lt;dbl&gt;</th><th scope=col>&lt;dbl&gt;</th><th scope=col>&lt;dbl&gt;</th><th scope=col>&lt;dbl&gt;</th><th scope=col>&lt;dbl&gt;</th><th scope=col>&lt;int&gt;</th><th scope=col>&lt;int&gt;</th><th scope=col>&lt;dbl&gt;</th><th scope=col>&lt;int&gt;</th><th scope=col>&lt;dbl&gt;</th><th scope=col>&lt;dbl&gt;</th><th scope=col>&lt;dbl&gt;</th><th scope=col>&lt;dbl&gt;</th><th scope=col>&lt;dbl&gt;</th><th scope=col>&lt;dbl&gt;</th><th scope=col>&lt;dbl&gt;</th><th scope=col>&lt;dbl&gt;</th><th scope=col>&lt;dbl&gt;</th><th scope=col>&lt;dbl&gt;</th><th scope=col>&lt;chr&gt;</th><th scope=col>&lt;chr&gt;</th><th scope=col>&lt;int&gt;</th><th scope=col>&lt;int&gt;</th></tr>\n",
       "</thead>\n",
       "<tbody>\n",
       "\t<tr><td><span style=white-space:pre-wrap>fun1&amp;1 internet    </span></td><td><span style=white-space:pre-wrap>EU   </span></td><td>1</td><td><span style=white-space:pre-wrap>    2</span></td><td>1.0000000</td><td>1</td><td>5.000000e-01</td><td>1</td><td><span style=white-space:pre-wrap>  1</span></td><td><span style=white-space:pre-wrap>  1.000000</span></td><td><span style=white-space:pre-wrap>  0</span></td><td><span style=white-space:pre-wrap>  0.000000</span></td><td><span style=white-space:pre-wrap>       NaN</span></td><td><span style=white-space:pre-wrap>      NaN</span></td><td>6</td><td> 9</td><td>7.500000</td><td> 3</td><td>2.121320</td><td>0.0000000</td><td>-2.7500000</td><td>2.23</td><td><span style=white-space:pre-wrap>  3.45</span></td><td>2.840000</td><td><span style=white-space:pre-wrap>  1.22</span></td><td> 0.8626703</td><td> 3.890973e-16</td><td>-2.7500000</td><td>1</td><td> 1</td><td>1.000000</td><td> 0</td><td>0.0000000</td><td><span style=white-space:pre-wrap>     NaN</span></td><td><span style=white-space:pre-wrap>      NaN</span></td><td>15.00</td><td>15.00</td><td>15.0000000</td><td>0.00</td><td>0.00000000</td><td><span style=white-space:pre-wrap>      NaN</span></td><td><span style=white-space:pre-wrap>        NaN</span></td><td><span style=white-space:pre-wrap>Japan        </span></td><td>Non China</td><td>1</td><td>1</td></tr>\n",
       "\t<tr><td>fun10dencehispahard</td><td>EU   </td><td>1</td><td>    2</td><td>0.0000000</td><td>1</td><td>5.000000e-01</td><td>1</td><td>  1</td><td>  1.000000</td><td>  0</td><td>  0.000000</td><td>       NaN</td><td>      NaN</td><td>6</td><td> 8</td><td>7.000000</td><td> 2</td><td>1.414214</td><td>0.0000000</td><td>-2.7500000</td><td>3.13</td><td>  8.62</td><td>5.875000</td><td>  5.49</td><td> 3.8820162</td><td>-1.821837e-16</td><td>-2.7500000</td><td>1</td><td> 1</td><td>1.000000</td><td> 0</td><td>0.0000000</td><td>     NaN</td><td>      NaN</td><td>15.00</td><td>15.00</td><td>15.0000000</td><td>0.00</td><td>0.00000000</td><td>      NaN</td><td>        NaN</td><td>China        </td><td>China    </td><td>1</td><td>1</td></tr>\n",
       "\t<tr><td>fun1api            </td><td>EU   </td><td>1</td><td>    2</td><td>0.5000000</td><td>1</td><td>5.000000e-01</td><td>1</td><td>  1</td><td>  1.000000</td><td>  0</td><td>  0.000000</td><td>       NaN</td><td>      NaN</td><td>7</td><td> 7</td><td>7.000000</td><td> 0</td><td>0.000000</td><td>      NaN</td><td>       NaN</td><td>4.51</td><td>  6.09</td><td>5.300000</td><td>  1.58</td><td> 1.1172287</td><td> 0.000000e+00</td><td>-2.7500000</td><td>1</td><td> 1</td><td>1.000000</td><td> 0</td><td>0.0000000</td><td>     NaN</td><td>      NaN</td><td> 5.00</td><td> 5.00</td><td> 5.0000000</td><td>0.00</td><td>0.00000000</td><td>      NaN</td><td>        NaN</td><td>United States</td><td>Non China</td><td>1</td><td>1</td></tr>\n",
       "\t<tr><td>funactive 24       </td><td>EU   </td><td>1</td><td>   22</td><td>0.2272727</td><td>1</td><td>4.545455e-02</td><td>1</td><td>  3</td><td>  2.090909</td><td>  2</td><td>  1.019294</td><td>-0.1702685</td><td>-2.058471</td><td>4</td><td>14</td><td>7.363636</td><td>10</td><td>2.498484</td><td>0.8100072</td><td> 0.4123014</td><td>0.59</td><td>100.00</td><td>9.425000</td><td> 99.41</td><td>20.4690367</td><td> 3.916190e+00</td><td>14.4351125</td><td>1</td><td> 3</td><td>1.272727</td><td> 2</td><td>0.7025002</td><td>1.976412</td><td> 2.003371</td><td> 0.50</td><td> 0.50</td><td> 0.5000000</td><td>0.00</td><td>0.00000000</td><td>      NaN</td><td>        NaN</td><td>United States</td><td>Non China</td><td>1</td><td>1</td></tr>\n",
       "\t<tr><td>funalibaba         </td><td>China</td><td>1</td><td>18208</td><td>0.0118080</td><td>1</td><td>5.492091e-05</td><td>1</td><td>705</td><td>219.892025</td><td>704</td><td>156.107008</td><td> 1.5055591</td><td> 2.301106</td><td>3</td><td>38</td><td>6.956832</td><td>35</td><td>3.311960</td><td>2.9556282</td><td>13.5354533</td><td>0.00</td><td>100.00</td><td>6.320069</td><td>100.00</td><td>21.0541141</td><td> 4.158734e+00</td><td>15.5656248</td><td>1</td><td>74</td><td>5.124341</td><td>73</td><td>9.7106897</td><td>4.178197</td><td>19.706420</td><td> 0.75</td><td> 4.75</td><td> 0.7519112</td><td>4.00</td><td>0.07918874</td><td>48.370853</td><td>2363.819659</td><td>United States</td><td>Non China</td><td>1</td><td>1</td></tr>\n",
       "\t<tr><td>funalibaba sg      </td><td>China</td><td>1</td><td>   16</td><td>0.0625000</td><td>1</td><td>6.250000e-02</td><td>1</td><td>  1</td><td>  1.000000</td><td>  0</td><td>  0.000000</td><td>       NaN</td><td>      NaN</td><td>4</td><td>13</td><td>7.375000</td><td> 9</td><td>2.604483</td><td>0.3561975</td><td>-0.8500916</td><td>0.24</td><td> 13.58</td><td>4.647500</td><td> 13.34</td><td> 3.3497910</td><td> 1.008842e+00</td><td> 0.7044306</td><td>1</td><td> 1</td><td>1.000000</td><td> 0</td><td>0.0000000</td><td>     NaN</td><td>      NaN</td><td> 0.75</td><td> 8.50</td><td> 1.2656250</td><td>7.75</td><td>1.92931065</td><td> 3.280409</td><td>   9.359645</td><td>France       </td><td>Non China</td><td>1</td><td>1</td></tr>\n",
       "</tbody>\n",
       "</table>\n"
      ],
      "text/latex": [
       "A tibble: 6 × 46\n",
       "\\begin{tabular}{llllllllllllllllllllllllllllllllllllllllllllll}\n",
       " tld\\_registrar\\_index & geo\\_maj & geo\\_cnt & n & ren\\_prp & tld\\_cnt & tld\\_rat & daydom\\_min & daydom\\_max & daydom\\_mean & daydom\\_rng & daydom\\_std & daydom\\_skew & daydom\\_kurt & sldlen\\_min & sldlen\\_max & sldlen\\_mean & sldlen\\_rng & sldlen\\_std & sldlen\\_skew & sldlen\\_kurt & gibbs\\_min & gibbs\\_max & gibbs\\_mean & gibbs\\_rng & gibbs\\_std & gibbs\\_skew & gibbs\\_kurt & pdcnt\\_min & pdcnt\\_max & pdcnt\\_mean & pdcnt\\_rng & pdcnt\\_std & pdcnt\\_skew & pdcnt\\_kurt & regarpt\\_min & regarpt\\_max & regarpt\\_mean & regarpt\\_rng & regarpt\\_std & regarpt\\_skew & regarpt\\_kurt & country\\_maj & region\\_maj & country\\_cnt & region\\_cnt\\\\\n",
       " <chr> & <fct> & <int> & <int> & <dbl> & <int> & <dbl> & <int> & <int> & <dbl> & <int> & <dbl> & <dbl> & <dbl> & <int> & <int> & <dbl> & <int> & <dbl> & <dbl> & <dbl> & <dbl> & <dbl> & <dbl> & <dbl> & <dbl> & <dbl> & <dbl> & <int> & <int> & <dbl> & <int> & <dbl> & <dbl> & <dbl> & <dbl> & <dbl> & <dbl> & <dbl> & <dbl> & <dbl> & <dbl> & <chr> & <chr> & <int> & <int>\\\\\n",
       "\\hline\n",
       "\t fun1\\&1 internet     & EU    & 1 &     2 & 1.0000000 & 1 & 5.000000e-01 & 1 &   1 &   1.000000 &   0 &   0.000000 &        NaN &       NaN & 6 &  9 & 7.500000 &  3 & 2.121320 & 0.0000000 & -2.7500000 & 2.23 &   3.45 & 2.840000 &   1.22 &  0.8626703 &  3.890973e-16 & -2.7500000 & 1 &  1 & 1.000000 &  0 & 0.0000000 &      NaN &       NaN & 15.00 & 15.00 & 15.0000000 & 0.00 & 0.00000000 &       NaN &         NaN & Japan         & Non China & 1 & 1\\\\\n",
       "\t fun10dencehispahard & EU    & 1 &     2 & 0.0000000 & 1 & 5.000000e-01 & 1 &   1 &   1.000000 &   0 &   0.000000 &        NaN &       NaN & 6 &  8 & 7.000000 &  2 & 1.414214 & 0.0000000 & -2.7500000 & 3.13 &   8.62 & 5.875000 &   5.49 &  3.8820162 & -1.821837e-16 & -2.7500000 & 1 &  1 & 1.000000 &  0 & 0.0000000 &      NaN &       NaN & 15.00 & 15.00 & 15.0000000 & 0.00 & 0.00000000 &       NaN &         NaN & China         & China     & 1 & 1\\\\\n",
       "\t fun1api             & EU    & 1 &     2 & 0.5000000 & 1 & 5.000000e-01 & 1 &   1 &   1.000000 &   0 &   0.000000 &        NaN &       NaN & 7 &  7 & 7.000000 &  0 & 0.000000 &       NaN &        NaN & 4.51 &   6.09 & 5.300000 &   1.58 &  1.1172287 &  0.000000e+00 & -2.7500000 & 1 &  1 & 1.000000 &  0 & 0.0000000 &      NaN &       NaN &  5.00 &  5.00 &  5.0000000 & 0.00 & 0.00000000 &       NaN &         NaN & United States & Non China & 1 & 1\\\\\n",
       "\t funactive 24        & EU    & 1 &    22 & 0.2272727 & 1 & 4.545455e-02 & 1 &   3 &   2.090909 &   2 &   1.019294 & -0.1702685 & -2.058471 & 4 & 14 & 7.363636 & 10 & 2.498484 & 0.8100072 &  0.4123014 & 0.59 & 100.00 & 9.425000 &  99.41 & 20.4690367 &  3.916190e+00 & 14.4351125 & 1 &  3 & 1.272727 &  2 & 0.7025002 & 1.976412 &  2.003371 &  0.50 &  0.50 &  0.5000000 & 0.00 & 0.00000000 &       NaN &         NaN & United States & Non China & 1 & 1\\\\\n",
       "\t funalibaba          & China & 1 & 18208 & 0.0118080 & 1 & 5.492091e-05 & 1 & 705 & 219.892025 & 704 & 156.107008 &  1.5055591 &  2.301106 & 3 & 38 & 6.956832 & 35 & 3.311960 & 2.9556282 & 13.5354533 & 0.00 & 100.00 & 6.320069 & 100.00 & 21.0541141 &  4.158734e+00 & 15.5656248 & 1 & 74 & 5.124341 & 73 & 9.7106897 & 4.178197 & 19.706420 &  0.75 &  4.75 &  0.7519112 & 4.00 & 0.07918874 & 48.370853 & 2363.819659 & United States & Non China & 1 & 1\\\\\n",
       "\t funalibaba sg       & China & 1 &    16 & 0.0625000 & 1 & 6.250000e-02 & 1 &   1 &   1.000000 &   0 &   0.000000 &        NaN &       NaN & 4 & 13 & 7.375000 &  9 & 2.604483 & 0.3561975 & -0.8500916 & 0.24 &  13.58 & 4.647500 &  13.34 &  3.3497910 &  1.008842e+00 &  0.7044306 & 1 &  1 & 1.000000 &  0 & 0.0000000 &      NaN &       NaN &  0.75 &  8.50 &  1.2656250 & 7.75 & 1.92931065 &  3.280409 &    9.359645 & France        & Non China & 1 & 1\\\\\n",
       "\\end{tabular}\n"
      ],
      "text/markdown": [
       "\n",
       "A tibble: 6 × 46\n",
       "\n",
       "| tld_registrar_index &lt;chr&gt; | geo_maj &lt;fct&gt; | geo_cnt &lt;int&gt; | n &lt;int&gt; | ren_prp &lt;dbl&gt; | tld_cnt &lt;int&gt; | tld_rat &lt;dbl&gt; | daydom_min &lt;int&gt; | daydom_max &lt;int&gt; | daydom_mean &lt;dbl&gt; | daydom_rng &lt;int&gt; | daydom_std &lt;dbl&gt; | daydom_skew &lt;dbl&gt; | daydom_kurt &lt;dbl&gt; | sldlen_min &lt;int&gt; | sldlen_max &lt;int&gt; | sldlen_mean &lt;dbl&gt; | sldlen_rng &lt;int&gt; | sldlen_std &lt;dbl&gt; | sldlen_skew &lt;dbl&gt; | sldlen_kurt &lt;dbl&gt; | gibbs_min &lt;dbl&gt; | gibbs_max &lt;dbl&gt; | gibbs_mean &lt;dbl&gt; | gibbs_rng &lt;dbl&gt; | gibbs_std &lt;dbl&gt; | gibbs_skew &lt;dbl&gt; | gibbs_kurt &lt;dbl&gt; | pdcnt_min &lt;int&gt; | pdcnt_max &lt;int&gt; | pdcnt_mean &lt;dbl&gt; | pdcnt_rng &lt;int&gt; | pdcnt_std &lt;dbl&gt; | pdcnt_skew &lt;dbl&gt; | pdcnt_kurt &lt;dbl&gt; | regarpt_min &lt;dbl&gt; | regarpt_max &lt;dbl&gt; | regarpt_mean &lt;dbl&gt; | regarpt_rng &lt;dbl&gt; | regarpt_std &lt;dbl&gt; | regarpt_skew &lt;dbl&gt; | regarpt_kurt &lt;dbl&gt; | country_maj &lt;chr&gt; | region_maj &lt;chr&gt; | country_cnt &lt;int&gt; | region_cnt &lt;int&gt; |\n",
       "|---|---|---|---|---|---|---|---|---|---|---|---|---|---|---|---|---|---|---|---|---|---|---|---|---|---|---|---|---|---|---|---|---|---|---|---|---|---|---|---|---|---|---|---|---|---|\n",
       "| fun1&amp;1 internet     | EU    | 1 |     2 | 1.0000000 | 1 | 5.000000e-01 | 1 |   1 |   1.000000 |   0 |   0.000000 |        NaN |       NaN | 6 |  9 | 7.500000 |  3 | 2.121320 | 0.0000000 | -2.7500000 | 2.23 |   3.45 | 2.840000 |   1.22 |  0.8626703 |  3.890973e-16 | -2.7500000 | 1 |  1 | 1.000000 |  0 | 0.0000000 |      NaN |       NaN | 15.00 | 15.00 | 15.0000000 | 0.00 | 0.00000000 |       NaN |         NaN | Japan         | Non China | 1 | 1 |\n",
       "| fun10dencehispahard | EU    | 1 |     2 | 0.0000000 | 1 | 5.000000e-01 | 1 |   1 |   1.000000 |   0 |   0.000000 |        NaN |       NaN | 6 |  8 | 7.000000 |  2 | 1.414214 | 0.0000000 | -2.7500000 | 3.13 |   8.62 | 5.875000 |   5.49 |  3.8820162 | -1.821837e-16 | -2.7500000 | 1 |  1 | 1.000000 |  0 | 0.0000000 |      NaN |       NaN | 15.00 | 15.00 | 15.0000000 | 0.00 | 0.00000000 |       NaN |         NaN | China         | China     | 1 | 1 |\n",
       "| fun1api             | EU    | 1 |     2 | 0.5000000 | 1 | 5.000000e-01 | 1 |   1 |   1.000000 |   0 |   0.000000 |        NaN |       NaN | 7 |  7 | 7.000000 |  0 | 0.000000 |       NaN |        NaN | 4.51 |   6.09 | 5.300000 |   1.58 |  1.1172287 |  0.000000e+00 | -2.7500000 | 1 |  1 | 1.000000 |  0 | 0.0000000 |      NaN |       NaN |  5.00 |  5.00 |  5.0000000 | 0.00 | 0.00000000 |       NaN |         NaN | United States | Non China | 1 | 1 |\n",
       "| funactive 24        | EU    | 1 |    22 | 0.2272727 | 1 | 4.545455e-02 | 1 |   3 |   2.090909 |   2 |   1.019294 | -0.1702685 | -2.058471 | 4 | 14 | 7.363636 | 10 | 2.498484 | 0.8100072 |  0.4123014 | 0.59 | 100.00 | 9.425000 |  99.41 | 20.4690367 |  3.916190e+00 | 14.4351125 | 1 |  3 | 1.272727 |  2 | 0.7025002 | 1.976412 |  2.003371 |  0.50 |  0.50 |  0.5000000 | 0.00 | 0.00000000 |       NaN |         NaN | United States | Non China | 1 | 1 |\n",
       "| funalibaba          | China | 1 | 18208 | 0.0118080 | 1 | 5.492091e-05 | 1 | 705 | 219.892025 | 704 | 156.107008 |  1.5055591 |  2.301106 | 3 | 38 | 6.956832 | 35 | 3.311960 | 2.9556282 | 13.5354533 | 0.00 | 100.00 | 6.320069 | 100.00 | 21.0541141 |  4.158734e+00 | 15.5656248 | 1 | 74 | 5.124341 | 73 | 9.7106897 | 4.178197 | 19.706420 |  0.75 |  4.75 |  0.7519112 | 4.00 | 0.07918874 | 48.370853 | 2363.819659 | United States | Non China | 1 | 1 |\n",
       "| funalibaba sg       | China | 1 |    16 | 0.0625000 | 1 | 6.250000e-02 | 1 |   1 |   1.000000 |   0 |   0.000000 |        NaN |       NaN | 4 | 13 | 7.375000 |  9 | 2.604483 | 0.3561975 | -0.8500916 | 0.24 |  13.58 | 4.647500 |  13.34 |  3.3497910 |  1.008842e+00 |  0.7044306 | 1 |  1 | 1.000000 |  0 | 0.0000000 |      NaN |       NaN |  0.75 |  8.50 |  1.2656250 | 7.75 | 1.92931065 |  3.280409 |    9.359645 | France        | Non China | 1 | 1 |\n",
       "\n"
      ],
      "text/plain": [
       "  tld_registrar_index geo_maj geo_cnt n     ren_prp   tld_cnt tld_rat     \n",
       "1 fun1&1 internet     EU      1           2 1.0000000 1       5.000000e-01\n",
       "2 fun10dencehispahard EU      1           2 0.0000000 1       5.000000e-01\n",
       "3 fun1api             EU      1           2 0.5000000 1       5.000000e-01\n",
       "4 funactive 24        EU      1          22 0.2272727 1       4.545455e-02\n",
       "5 funalibaba          China   1       18208 0.0118080 1       5.492091e-05\n",
       "6 funalibaba sg       China   1          16 0.0625000 1       6.250000e-02\n",
       "  daydom_min daydom_max daydom_mean daydom_rng daydom_std daydom_skew\n",
       "1 1            1          1.000000    0          0.000000        NaN \n",
       "2 1            1          1.000000    0          0.000000        NaN \n",
       "3 1            1          1.000000    0          0.000000        NaN \n",
       "4 1            3          2.090909    2          1.019294 -0.1702685 \n",
       "5 1          705        219.892025  704        156.107008  1.5055591 \n",
       "6 1            1          1.000000    0          0.000000        NaN \n",
       "  daydom_kurt sldlen_min sldlen_max sldlen_mean sldlen_rng sldlen_std\n",
       "1       NaN   6           9         7.500000     3         2.121320  \n",
       "2       NaN   6           8         7.000000     2         1.414214  \n",
       "3       NaN   7           7         7.000000     0         0.000000  \n",
       "4 -2.058471   4          14         7.363636    10         2.498484  \n",
       "5  2.301106   3          38         6.956832    35         3.311960  \n",
       "6       NaN   4          13         7.375000     9         2.604483  \n",
       "  sldlen_skew sldlen_kurt gibbs_min gibbs_max gibbs_mean gibbs_rng gibbs_std \n",
       "1 0.0000000   -2.7500000  2.23        3.45    2.840000     1.22     0.8626703\n",
       "2 0.0000000   -2.7500000  3.13        8.62    5.875000     5.49     3.8820162\n",
       "3       NaN          NaN  4.51        6.09    5.300000     1.58     1.1172287\n",
       "4 0.8100072    0.4123014  0.59      100.00    9.425000    99.41    20.4690367\n",
       "5 2.9556282   13.5354533  0.00      100.00    6.320069   100.00    21.0541141\n",
       "6 0.3561975   -0.8500916  0.24       13.58    4.647500    13.34     3.3497910\n",
       "  gibbs_skew    gibbs_kurt pdcnt_min pdcnt_max pdcnt_mean pdcnt_rng pdcnt_std\n",
       "1  3.890973e-16 -2.7500000 1          1        1.000000    0        0.0000000\n",
       "2 -1.821837e-16 -2.7500000 1          1        1.000000    0        0.0000000\n",
       "3  0.000000e+00 -2.7500000 1          1        1.000000    0        0.0000000\n",
       "4  3.916190e+00 14.4351125 1          3        1.272727    2        0.7025002\n",
       "5  4.158734e+00 15.5656248 1         74        5.124341   73        9.7106897\n",
       "6  1.008842e+00  0.7044306 1          1        1.000000    0        0.0000000\n",
       "  pdcnt_skew pdcnt_kurt regarpt_min regarpt_max regarpt_mean regarpt_rng\n",
       "1      NaN         NaN  15.00       15.00       15.0000000   0.00       \n",
       "2      NaN         NaN  15.00       15.00       15.0000000   0.00       \n",
       "3      NaN         NaN   5.00        5.00        5.0000000   0.00       \n",
       "4 1.976412    2.003371   0.50        0.50        0.5000000   0.00       \n",
       "5 4.178197   19.706420   0.75        4.75        0.7519112   4.00       \n",
       "6      NaN         NaN   0.75        8.50        1.2656250   7.75       \n",
       "  regarpt_std regarpt_skew regarpt_kurt country_maj   region_maj country_cnt\n",
       "1 0.00000000        NaN            NaN  Japan         Non China  1          \n",
       "2 0.00000000        NaN            NaN  China         China      1          \n",
       "3 0.00000000        NaN            NaN  United States Non China  1          \n",
       "4 0.00000000        NaN            NaN  United States Non China  1          \n",
       "5 0.07918874  48.370853    2363.819659  United States Non China  1          \n",
       "6 1.92931065   3.280409       9.359645  France        Non China  1          \n",
       "  region_cnt\n",
       "1 1         \n",
       "2 1         \n",
       "3 1         \n",
       "4 1         \n",
       "5 1         \n",
       "6 1         "
      ]
     },
     "metadata": {},
     "output_type": "display_data"
    }
   ],
   "source": [
    "dim(expiry_test_meta)\n",
    "head(expiry_test_meta)"
   ]
  },
  {
   "cell_type": "markdown",
   "metadata": {},
   "source": [
    "# Join w/ Metrics"
   ]
  },
  {
   "cell_type": "code",
   "execution_count": 79,
   "metadata": {},
   "outputs": [
    {
     "data": {
      "text/html": [
       "<style>\n",
       ".list-inline {list-style: none; margin:0; padding: 0}\n",
       ".list-inline>li {display: inline-block}\n",
       ".list-inline>li:not(:last-child)::after {content: \"\\00b7\"; padding: 0 .5ex}\n",
       "</style>\n",
       "<ol class=list-inline><li>1405</li><li>70</li></ol>\n"
      ],
      "text/latex": [
       "\\begin{enumerate*}\n",
       "\\item 1405\n",
       "\\item 70\n",
       "\\end{enumerate*}\n"
      ],
      "text/markdown": [
       "1. 1405\n",
       "2. 70\n",
       "\n",
       "\n"
      ],
      "text/plain": [
       "[1] 1405   70"
      ]
     },
     "metadata": {},
     "output_type": "display_data"
    },
    {
     "data": {
      "text/html": [
       "<table>\n",
       "<caption>A data.frame: 6 × 70</caption>\n",
       "<thead>\n",
       "\t<tr><th></th><th scope=col>tld_registrar_index</th><th scope=col>geo_maj</th><th scope=col>geo_cnt</th><th scope=col>n</th><th scope=col>ren_prp</th><th scope=col>tld_cnt</th><th scope=col>tld_rat</th><th scope=col>daydom_min</th><th scope=col>daydom_max</th><th scope=col>daydom_mean</th><th scope=col>daydom_rng</th><th scope=col>daydom_std</th><th scope=col>daydom_skew</th><th scope=col>daydom_kurt</th><th scope=col>sldlen_min</th><th scope=col>sldlen_max</th><th scope=col>sldlen_mean</th><th scope=col>sldlen_rng</th><th scope=col>sldlen_std</th><th scope=col>sldlen_skew</th><th scope=col>sldlen_kurt</th><th scope=col>gibbs_min</th><th scope=col>gibbs_max</th><th scope=col>gibbs_mean</th><th scope=col>gibbs_rng</th><th scope=col>⋯</th><th scope=col>region_cnt</th><th scope=col>l10_seg2_glm</th><th scope=col>l10_seg_glm</th><th scope=col>l10_agg_glm</th><th scope=col>l10_seg2_rf</th><th scope=col>l10_seg_rf</th><th scope=col>l10_agg_rf</th><th scope=col>auc_seg2_glm</th><th scope=col>auc_seg_glm</th><th scope=col>auc_agg_glm</th><th scope=col>auc_seg2_rf</th><th scope=col>auc_seg_rf</th><th scope=col>auc_agg_rf</th><th scope=col>l10_seg2_glm_fb</th><th scope=col>l10_seg_glm_fb</th><th scope=col>l10_agg_glm_fb</th><th scope=col>l10_seg2_rf_fb</th><th scope=col>l10_seg_rf_fb</th><th scope=col>l10_agg_rf_fb</th><th scope=col>auc_seg2_glm_fb</th><th scope=col>auc_seg_glm_fb</th><th scope=col>auc_agg_glm_fb</th><th scope=col>auc_seg2_rf_fb</th><th scope=col>auc_seg_rf_fb</th><th scope=col>auc_agg_rf_fb</th></tr>\n",
       "\t<tr><th></th><th scope=col>&lt;chr&gt;</th><th scope=col>&lt;fct&gt;</th><th scope=col>&lt;int&gt;</th><th scope=col>&lt;int&gt;</th><th scope=col>&lt;dbl&gt;</th><th scope=col>&lt;int&gt;</th><th scope=col>&lt;dbl&gt;</th><th scope=col>&lt;int&gt;</th><th scope=col>&lt;int&gt;</th><th scope=col>&lt;dbl&gt;</th><th scope=col>&lt;int&gt;</th><th scope=col>&lt;dbl&gt;</th><th scope=col>&lt;dbl&gt;</th><th scope=col>&lt;dbl&gt;</th><th scope=col>&lt;int&gt;</th><th scope=col>&lt;int&gt;</th><th scope=col>&lt;dbl&gt;</th><th scope=col>&lt;int&gt;</th><th scope=col>&lt;dbl&gt;</th><th scope=col>&lt;dbl&gt;</th><th scope=col>&lt;dbl&gt;</th><th scope=col>&lt;dbl&gt;</th><th scope=col>&lt;dbl&gt;</th><th scope=col>&lt;dbl&gt;</th><th scope=col>&lt;dbl&gt;</th><th scope=col>⋯</th><th scope=col>&lt;int&gt;</th><th scope=col>&lt;list&gt;</th><th scope=col>&lt;list&gt;</th><th scope=col>&lt;list&gt;</th><th scope=col>&lt;list&gt;</th><th scope=col>&lt;list&gt;</th><th scope=col>&lt;list&gt;</th><th scope=col>&lt;list&gt;</th><th scope=col>&lt;list&gt;</th><th scope=col>&lt;list&gt;</th><th scope=col>&lt;list&gt;</th><th scope=col>&lt;list&gt;</th><th scope=col>&lt;list&gt;</th><th scope=col>&lt;list&gt;</th><th scope=col>&lt;list&gt;</th><th scope=col>&lt;list&gt;</th><th scope=col>&lt;list&gt;</th><th scope=col>&lt;list&gt;</th><th scope=col>&lt;list&gt;</th><th scope=col>&lt;list&gt;</th><th scope=col>&lt;list&gt;</th><th scope=col>&lt;list&gt;</th><th scope=col>&lt;list&gt;</th><th scope=col>&lt;list&gt;</th><th scope=col>&lt;list&gt;</th></tr>\n",
       "</thead>\n",
       "<tbody>\n",
       "\t<tr><th scope=row>1</th><td><span style=white-space:pre-wrap>fun1&amp;1 internet    </span></td><td><span style=white-space:pre-wrap>EU   </span></td><td>1</td><td><span style=white-space:pre-wrap>    2</span></td><td>1.0000000</td><td>1</td><td>5.000000e-01</td><td>1</td><td><span style=white-space:pre-wrap>  1</span></td><td><span style=white-space:pre-wrap>  1.000000</span></td><td><span style=white-space:pre-wrap>  0</span></td><td><span style=white-space:pre-wrap>  0.000000</span></td><td><span style=white-space:pre-wrap>       NaN</span></td><td><span style=white-space:pre-wrap>      NaN</span></td><td>6</td><td> 9</td><td>7.500000</td><td> 3</td><td>2.121320</td><td>0.0000000</td><td>-2.7500000</td><td>2.23</td><td><span style=white-space:pre-wrap>  3.45</span></td><td>2.840000</td><td><span style=white-space:pre-wrap>  1.22</span></td><td>⋯</td><td>1</td><td>5</td><td>5</td><td>5</td><td>5</td><td>5</td><td>5</td><td>0.6</td><td>0.6</td><td>0.6</td><td>0.6</td><td>0.6</td><td>0.6</td><td>5</td><td>5</td><td>5</td><td>5</td><td>5</td><td>5</td><td>0.6</td><td>0.6</td><td>0.6</td><td>0.6</td><td>0.6</td><td>0.6</td></tr>\n",
       "\t<tr><th scope=row>2</th><td>fun10dencehispahard</td><td>EU   </td><td>1</td><td>    2</td><td>0.0000000</td><td>1</td><td>5.000000e-01</td><td>1</td><td>  1</td><td>  1.000000</td><td>  0</td><td>  0.000000</td><td>       NaN</td><td>      NaN</td><td>6</td><td> 8</td><td>7.000000</td><td> 2</td><td>1.414214</td><td>0.0000000</td><td>-2.7500000</td><td>3.13</td><td>  8.62</td><td>5.875000</td><td>  5.49</td><td>⋯</td><td>1</td><td>NaN</td><td>NaN</td><td>NaN</td><td>NaN</td><td>NaN</td><td>NaN</td><td>NaN</td><td>NaN</td><td>NaN</td><td>NaN</td><td>NaN</td><td>NaN</td><td>NaN</td><td>NaN</td><td>NaN</td><td>NaN</td><td>NaN</td><td>NaN</td><td>NaN</td><td>NaN</td><td>NaN</td><td>NaN</td><td>NaN</td><td>NaN</td></tr>\n",
       "\t<tr><th scope=row>3</th><td>fun1api            </td><td>EU   </td><td>1</td><td>    2</td><td>0.5000000</td><td>1</td><td>5.000000e-01</td><td>1</td><td>  1</td><td>  1.000000</td><td>  0</td><td>  0.000000</td><td>       NaN</td><td>      NaN</td><td>7</td><td> 7</td><td>7.000000</td><td> 0</td><td>0.000000</td><td>      NaN</td><td>       NaN</td><td>4.51</td><td>  6.09</td><td>5.300000</td><td>  1.58</td><td>⋯</td><td>1</td><td>0</td><td>0</td><td>0</td><td>10</td><td>10</td><td>0</td><td>0.25</td><td>0.25</td><td>0.25</td><td>0.95</td><td>0.95</td><td>0.25</td><td>0</td><td>0</td><td>0</td><td>10</td><td>10</td><td>0</td><td>0.25</td><td>0.25</td><td>0.25</td><td>0.95</td><td>0.95</td><td>0.25</td></tr>\n",
       "\t<tr><th scope=row>4</th><td>funactive 24       </td><td>EU   </td><td>1</td><td>   22</td><td>0.2272727</td><td>1</td><td>4.545455e-02</td><td>1</td><td>  3</td><td>  2.090909</td><td>  2</td><td>  1.019294</td><td>-0.1702685</td><td>-2.058471</td><td>4</td><td>14</td><td>7.363636</td><td>10</td><td>2.498484</td><td>0.8100072</td><td> 0.4123014</td><td>0.59</td><td>100.00</td><td>9.425000</td><td> 99.41</td><td>⋯</td><td>1</td><td>0</td><td>0</td><td>0</td><td>2</td><td>2</td><td>2</td><td>0.45</td><td>0.35</td><td>0.49</td><td>0.57</td><td>0.59</td><td>0.63</td><td>0</td><td>0</td><td>0</td><td>2</td><td>2</td><td>2</td><td>0.45</td><td>0.35</td><td>0.49</td><td>0.57</td><td>0.59</td><td>0.63</td></tr>\n",
       "\t<tr><th scope=row>5</th><td>funalibaba         </td><td>China</td><td>1</td><td>18208</td><td>0.0118080</td><td>1</td><td>5.492091e-05</td><td>1</td><td>705</td><td>219.892025</td><td>704</td><td>156.107008</td><td> 1.5055591</td><td> 2.301106</td><td>3</td><td>38</td><td>6.956832</td><td>35</td><td>3.311960</td><td>2.9556282</td><td>13.5354533</td><td>0.00</td><td>100.00</td><td>6.320069</td><td>100.00</td><td>⋯</td><td>1</td><td>4.883721</td><td>5.302326</td><td>5.023256</td><td>5.813953</td><td>6</td><td>6.186047</td><td>0.8262791</td><td>0.8425581</td><td>0.8513953</td><td>0.8769767</td><td>0.877907</td><td>0.8793023</td><td>4.883721</td><td>5.302326</td><td>5.023256</td><td>5.813953</td><td>6</td><td>6.186047</td><td>0.8262791</td><td>0.8425581</td><td>0.8513953</td><td>0.8769767</td><td>0.877907</td><td>0.8793023</td></tr>\n",
       "\t<tr><th scope=row>6</th><td>funalibaba sg      </td><td>China</td><td>1</td><td>   16</td><td>0.0625000</td><td>1</td><td>6.250000e-02</td><td>1</td><td>  1</td><td>  1.000000</td><td>  0</td><td>  0.000000</td><td>       NaN</td><td>      NaN</td><td>4</td><td>13</td><td>7.375000</td><td> 9</td><td>2.604483</td><td>0.3561975</td><td>-0.8500916</td><td>0.24</td><td> 13.58</td><td>4.647500</td><td> 13.34</td><td>⋯</td><td>1</td><td>0</td><td>0</td><td>10</td><td>0</td><td>0</td><td>10</td><td>0.05</td><td>0.05</td><td>0.95</td><td>0.85</td><td>0.55</td><td>0.95</td><td>0</td><td>0</td><td>10</td><td>0</td><td>0</td><td>10</td><td>0.05</td><td>0.05</td><td>0.95</td><td>0.85</td><td>0.55</td><td>0.95</td></tr>\n",
       "</tbody>\n",
       "</table>\n"
      ],
      "text/latex": [
       "A data.frame: 6 × 70\n",
       "\\begin{tabular}{r|lllllllllllllllllllllllllllllllllllllllllllllllllll}\n",
       "  & tld\\_registrar\\_index & geo\\_maj & geo\\_cnt & n & ren\\_prp & tld\\_cnt & tld\\_rat & daydom\\_min & daydom\\_max & daydom\\_mean & daydom\\_rng & daydom\\_std & daydom\\_skew & daydom\\_kurt & sldlen\\_min & sldlen\\_max & sldlen\\_mean & sldlen\\_rng & sldlen\\_std & sldlen\\_skew & sldlen\\_kurt & gibbs\\_min & gibbs\\_max & gibbs\\_mean & gibbs\\_rng & ⋯ & region\\_cnt & l10\\_seg2\\_glm & l10\\_seg\\_glm & l10\\_agg\\_glm & l10\\_seg2\\_rf & l10\\_seg\\_rf & l10\\_agg\\_rf & auc\\_seg2\\_glm & auc\\_seg\\_glm & auc\\_agg\\_glm & auc\\_seg2\\_rf & auc\\_seg\\_rf & auc\\_agg\\_rf & l10\\_seg2\\_glm\\_fb & l10\\_seg\\_glm\\_fb & l10\\_agg\\_glm\\_fb & l10\\_seg2\\_rf\\_fb & l10\\_seg\\_rf\\_fb & l10\\_agg\\_rf\\_fb & auc\\_seg2\\_glm\\_fb & auc\\_seg\\_glm\\_fb & auc\\_agg\\_glm\\_fb & auc\\_seg2\\_rf\\_fb & auc\\_seg\\_rf\\_fb & auc\\_agg\\_rf\\_fb\\\\\n",
       "  & <chr> & <fct> & <int> & <int> & <dbl> & <int> & <dbl> & <int> & <int> & <dbl> & <int> & <dbl> & <dbl> & <dbl> & <int> & <int> & <dbl> & <int> & <dbl> & <dbl> & <dbl> & <dbl> & <dbl> & <dbl> & <dbl> & ⋯ & <int> & <list> & <list> & <list> & <list> & <list> & <list> & <list> & <list> & <list> & <list> & <list> & <list> & <list> & <list> & <list> & <list> & <list> & <list> & <list> & <list> & <list> & <list> & <list> & <list>\\\\\n",
       "\\hline\n",
       "\t1 & fun1\\&1 internet     & EU    & 1 &     2 & 1.0000000 & 1 & 5.000000e-01 & 1 &   1 &   1.000000 &   0 &   0.000000 &        NaN &       NaN & 6 &  9 & 7.500000 &  3 & 2.121320 & 0.0000000 & -2.7500000 & 2.23 &   3.45 & 2.840000 &   1.22 & ⋯ & 1 & 5 & 5 & 5 & 5 & 5 & 5 & 0.6 & 0.6 & 0.6 & 0.6 & 0.6 & 0.6 & 5 & 5 & 5 & 5 & 5 & 5 & 0.6 & 0.6 & 0.6 & 0.6 & 0.6 & 0.6\\\\\n",
       "\t2 & fun10dencehispahard & EU    & 1 &     2 & 0.0000000 & 1 & 5.000000e-01 & 1 &   1 &   1.000000 &   0 &   0.000000 &        NaN &       NaN & 6 &  8 & 7.000000 &  2 & 1.414214 & 0.0000000 & -2.7500000 & 3.13 &   8.62 & 5.875000 &   5.49 & ⋯ & 1 & NaN & NaN & NaN & NaN & NaN & NaN & NaN & NaN & NaN & NaN & NaN & NaN & NaN & NaN & NaN & NaN & NaN & NaN & NaN & NaN & NaN & NaN & NaN & NaN\\\\\n",
       "\t3 & fun1api             & EU    & 1 &     2 & 0.5000000 & 1 & 5.000000e-01 & 1 &   1 &   1.000000 &   0 &   0.000000 &        NaN &       NaN & 7 &  7 & 7.000000 &  0 & 0.000000 &       NaN &        NaN & 4.51 &   6.09 & 5.300000 &   1.58 & ⋯ & 1 & 0 & 0 & 0 & 10 & 10 & 0 & 0.25 & 0.25 & 0.25 & 0.95 & 0.95 & 0.25 & 0 & 0 & 0 & 10 & 10 & 0 & 0.25 & 0.25 & 0.25 & 0.95 & 0.95 & 0.25\\\\\n",
       "\t4 & funactive 24        & EU    & 1 &    22 & 0.2272727 & 1 & 4.545455e-02 & 1 &   3 &   2.090909 &   2 &   1.019294 & -0.1702685 & -2.058471 & 4 & 14 & 7.363636 & 10 & 2.498484 & 0.8100072 &  0.4123014 & 0.59 & 100.00 & 9.425000 &  99.41 & ⋯ & 1 & 0 & 0 & 0 & 2 & 2 & 2 & 0.45 & 0.35 & 0.49 & 0.57 & 0.59 & 0.63 & 0 & 0 & 0 & 2 & 2 & 2 & 0.45 & 0.35 & 0.49 & 0.57 & 0.59 & 0.63\\\\\n",
       "\t5 & funalibaba          & China & 1 & 18208 & 0.0118080 & 1 & 5.492091e-05 & 1 & 705 & 219.892025 & 704 & 156.107008 &  1.5055591 &  2.301106 & 3 & 38 & 6.956832 & 35 & 3.311960 & 2.9556282 & 13.5354533 & 0.00 & 100.00 & 6.320069 & 100.00 & ⋯ & 1 & 4.883721 & 5.302326 & 5.023256 & 5.813953 & 6 & 6.186047 & 0.8262791 & 0.8425581 & 0.8513953 & 0.8769767 & 0.877907 & 0.8793023 & 4.883721 & 5.302326 & 5.023256 & 5.813953 & 6 & 6.186047 & 0.8262791 & 0.8425581 & 0.8513953 & 0.8769767 & 0.877907 & 0.8793023\\\\\n",
       "\t6 & funalibaba sg       & China & 1 &    16 & 0.0625000 & 1 & 6.250000e-02 & 1 &   1 &   1.000000 &   0 &   0.000000 &        NaN &       NaN & 4 & 13 & 7.375000 &  9 & 2.604483 & 0.3561975 & -0.8500916 & 0.24 &  13.58 & 4.647500 &  13.34 & ⋯ & 1 & 0 & 0 & 10 & 0 & 0 & 10 & 0.05 & 0.05 & 0.95 & 0.85 & 0.55 & 0.95 & 0 & 0 & 10 & 0 & 0 & 10 & 0.05 & 0.05 & 0.95 & 0.85 & 0.55 & 0.95\\\\\n",
       "\\end{tabular}\n"
      ],
      "text/markdown": [
       "\n",
       "A data.frame: 6 × 70\n",
       "\n",
       "| <!--/--> | tld_registrar_index &lt;chr&gt; | geo_maj &lt;fct&gt; | geo_cnt &lt;int&gt; | n &lt;int&gt; | ren_prp &lt;dbl&gt; | tld_cnt &lt;int&gt; | tld_rat &lt;dbl&gt; | daydom_min &lt;int&gt; | daydom_max &lt;int&gt; | daydom_mean &lt;dbl&gt; | daydom_rng &lt;int&gt; | daydom_std &lt;dbl&gt; | daydom_skew &lt;dbl&gt; | daydom_kurt &lt;dbl&gt; | sldlen_min &lt;int&gt; | sldlen_max &lt;int&gt; | sldlen_mean &lt;dbl&gt; | sldlen_rng &lt;int&gt; | sldlen_std &lt;dbl&gt; | sldlen_skew &lt;dbl&gt; | sldlen_kurt &lt;dbl&gt; | gibbs_min &lt;dbl&gt; | gibbs_max &lt;dbl&gt; | gibbs_mean &lt;dbl&gt; | gibbs_rng &lt;dbl&gt; | ⋯ ⋯ | region_cnt &lt;int&gt; | l10_seg2_glm &lt;list&gt; | l10_seg_glm &lt;list&gt; | l10_agg_glm &lt;list&gt; | l10_seg2_rf &lt;list&gt; | l10_seg_rf &lt;list&gt; | l10_agg_rf &lt;list&gt; | auc_seg2_glm &lt;list&gt; | auc_seg_glm &lt;list&gt; | auc_agg_glm &lt;list&gt; | auc_seg2_rf &lt;list&gt; | auc_seg_rf &lt;list&gt; | auc_agg_rf &lt;list&gt; | l10_seg2_glm_fb &lt;list&gt; | l10_seg_glm_fb &lt;list&gt; | l10_agg_glm_fb &lt;list&gt; | l10_seg2_rf_fb &lt;list&gt; | l10_seg_rf_fb &lt;list&gt; | l10_agg_rf_fb &lt;list&gt; | auc_seg2_glm_fb &lt;list&gt; | auc_seg_glm_fb &lt;list&gt; | auc_agg_glm_fb &lt;list&gt; | auc_seg2_rf_fb &lt;list&gt; | auc_seg_rf_fb &lt;list&gt; | auc_agg_rf_fb &lt;list&gt; |\n",
       "|---|---|---|---|---|---|---|---|---|---|---|---|---|---|---|---|---|---|---|---|---|---|---|---|---|---|---|---|---|---|---|---|---|---|---|---|---|---|---|---|---|---|---|---|---|---|---|---|---|---|---|---|\n",
       "| 1 | fun1&amp;1 internet     | EU    | 1 |     2 | 1.0000000 | 1 | 5.000000e-01 | 1 |   1 |   1.000000 |   0 |   0.000000 |        NaN |       NaN | 6 |  9 | 7.500000 |  3 | 2.121320 | 0.0000000 | -2.7500000 | 2.23 |   3.45 | 2.840000 |   1.22 | ⋯ | 1 | 5 | 5 | 5 | 5 | 5 | 5 | 0.6 | 0.6 | 0.6 | 0.6 | 0.6 | 0.6 | 5 | 5 | 5 | 5 | 5 | 5 | 0.6 | 0.6 | 0.6 | 0.6 | 0.6 | 0.6 |\n",
       "| 2 | fun10dencehispahard | EU    | 1 |     2 | 0.0000000 | 1 | 5.000000e-01 | 1 |   1 |   1.000000 |   0 |   0.000000 |        NaN |       NaN | 6 |  8 | 7.000000 |  2 | 1.414214 | 0.0000000 | -2.7500000 | 3.13 |   8.62 | 5.875000 |   5.49 | ⋯ | 1 | NaN | NaN | NaN | NaN | NaN | NaN | NaN | NaN | NaN | NaN | NaN | NaN | NaN | NaN | NaN | NaN | NaN | NaN | NaN | NaN | NaN | NaN | NaN | NaN |\n",
       "| 3 | fun1api             | EU    | 1 |     2 | 0.5000000 | 1 | 5.000000e-01 | 1 |   1 |   1.000000 |   0 |   0.000000 |        NaN |       NaN | 7 |  7 | 7.000000 |  0 | 0.000000 |       NaN |        NaN | 4.51 |   6.09 | 5.300000 |   1.58 | ⋯ | 1 | 0 | 0 | 0 | 10 | 10 | 0 | 0.25 | 0.25 | 0.25 | 0.95 | 0.95 | 0.25 | 0 | 0 | 0 | 10 | 10 | 0 | 0.25 | 0.25 | 0.25 | 0.95 | 0.95 | 0.25 |\n",
       "| 4 | funactive 24        | EU    | 1 |    22 | 0.2272727 | 1 | 4.545455e-02 | 1 |   3 |   2.090909 |   2 |   1.019294 | -0.1702685 | -2.058471 | 4 | 14 | 7.363636 | 10 | 2.498484 | 0.8100072 |  0.4123014 | 0.59 | 100.00 | 9.425000 |  99.41 | ⋯ | 1 | 0 | 0 | 0 | 2 | 2 | 2 | 0.45 | 0.35 | 0.49 | 0.57 | 0.59 | 0.63 | 0 | 0 | 0 | 2 | 2 | 2 | 0.45 | 0.35 | 0.49 | 0.57 | 0.59 | 0.63 |\n",
       "| 5 | funalibaba          | China | 1 | 18208 | 0.0118080 | 1 | 5.492091e-05 | 1 | 705 | 219.892025 | 704 | 156.107008 |  1.5055591 |  2.301106 | 3 | 38 | 6.956832 | 35 | 3.311960 | 2.9556282 | 13.5354533 | 0.00 | 100.00 | 6.320069 | 100.00 | ⋯ | 1 | 4.883721 | 5.302326 | 5.023256 | 5.813953 | 6 | 6.186047 | 0.8262791 | 0.8425581 | 0.8513953 | 0.8769767 | 0.877907 | 0.8793023 | 4.883721 | 5.302326 | 5.023256 | 5.813953 | 6 | 6.186047 | 0.8262791 | 0.8425581 | 0.8513953 | 0.8769767 | 0.877907 | 0.8793023 |\n",
       "| 6 | funalibaba sg       | China | 1 |    16 | 0.0625000 | 1 | 6.250000e-02 | 1 |   1 |   1.000000 |   0 |   0.000000 |        NaN |       NaN | 4 | 13 | 7.375000 |  9 | 2.604483 | 0.3561975 | -0.8500916 | 0.24 |  13.58 | 4.647500 |  13.34 | ⋯ | 1 | 0 | 0 | 10 | 0 | 0 | 10 | 0.05 | 0.05 | 0.95 | 0.85 | 0.55 | 0.95 | 0 | 0 | 10 | 0 | 0 | 10 | 0.05 | 0.05 | 0.95 | 0.85 | 0.55 | 0.95 |\n",
       "\n"
      ],
      "text/plain": [
       "  tld_registrar_index geo_maj geo_cnt n     ren_prp   tld_cnt tld_rat     \n",
       "1 fun1&1 internet     EU      1           2 1.0000000 1       5.000000e-01\n",
       "2 fun10dencehispahard EU      1           2 0.0000000 1       5.000000e-01\n",
       "3 fun1api             EU      1           2 0.5000000 1       5.000000e-01\n",
       "4 funactive 24        EU      1          22 0.2272727 1       4.545455e-02\n",
       "5 funalibaba          China   1       18208 0.0118080 1       5.492091e-05\n",
       "6 funalibaba sg       China   1          16 0.0625000 1       6.250000e-02\n",
       "  daydom_min daydom_max daydom_mean daydom_rng daydom_std daydom_skew\n",
       "1 1            1          1.000000    0          0.000000        NaN \n",
       "2 1            1          1.000000    0          0.000000        NaN \n",
       "3 1            1          1.000000    0          0.000000        NaN \n",
       "4 1            3          2.090909    2          1.019294 -0.1702685 \n",
       "5 1          705        219.892025  704        156.107008  1.5055591 \n",
       "6 1            1          1.000000    0          0.000000        NaN \n",
       "  daydom_kurt sldlen_min sldlen_max sldlen_mean sldlen_rng sldlen_std\n",
       "1       NaN   6           9         7.500000     3         2.121320  \n",
       "2       NaN   6           8         7.000000     2         1.414214  \n",
       "3       NaN   7           7         7.000000     0         0.000000  \n",
       "4 -2.058471   4          14         7.363636    10         2.498484  \n",
       "5  2.301106   3          38         6.956832    35         3.311960  \n",
       "6       NaN   4          13         7.375000     9         2.604483  \n",
       "  sldlen_skew sldlen_kurt gibbs_min gibbs_max gibbs_mean gibbs_rng ⋯ region_cnt\n",
       "1 0.0000000   -2.7500000  2.23        3.45    2.840000     1.22    ⋯ 1         \n",
       "2 0.0000000   -2.7500000  3.13        8.62    5.875000     5.49    ⋯ 1         \n",
       "3       NaN          NaN  4.51        6.09    5.300000     1.58    ⋯ 1         \n",
       "4 0.8100072    0.4123014  0.59      100.00    9.425000    99.41    ⋯ 1         \n",
       "5 2.9556282   13.5354533  0.00      100.00    6.320069   100.00    ⋯ 1         \n",
       "6 0.3561975   -0.8500916  0.24       13.58    4.647500    13.34    ⋯ 1         \n",
       "  l10_seg2_glm l10_seg_glm l10_agg_glm l10_seg2_rf l10_seg_rf l10_agg_rf\n",
       "1 5            5           5           5           5          5         \n",
       "2 NaN          NaN         NaN         NaN         NaN        NaN       \n",
       "3 0            0           0           10          10         0         \n",
       "4 0            0           0           2           2          2         \n",
       "5 4.883721     5.302326    5.023256    5.813953    6          6.186047  \n",
       "6 0            0           10          0           0          10        \n",
       "  auc_seg2_glm auc_seg_glm auc_agg_glm auc_seg2_rf auc_seg_rf auc_agg_rf\n",
       "1 0.6          0.6         0.6         0.6         0.6        0.6       \n",
       "2 NaN          NaN         NaN         NaN         NaN        NaN       \n",
       "3 0.25         0.25        0.25        0.95        0.95       0.25      \n",
       "4 0.45         0.35        0.49        0.57        0.59       0.63      \n",
       "5 0.8262791    0.8425581   0.8513953   0.8769767   0.877907   0.8793023 \n",
       "6 0.05         0.05        0.95        0.85        0.55       0.95      \n",
       "  l10_seg2_glm_fb l10_seg_glm_fb l10_agg_glm_fb l10_seg2_rf_fb l10_seg_rf_fb\n",
       "1 5               5              5              5              5            \n",
       "2 NaN             NaN            NaN            NaN            NaN          \n",
       "3 0               0              0              10             10           \n",
       "4 0               0              0              2              2            \n",
       "5 4.883721        5.302326       5.023256       5.813953       6            \n",
       "6 0               0              10             0              0            \n",
       "  l10_agg_rf_fb auc_seg2_glm_fb auc_seg_glm_fb auc_agg_glm_fb auc_seg2_rf_fb\n",
       "1 5             0.6             0.6            0.6            0.6           \n",
       "2 NaN           NaN             NaN            NaN            NaN           \n",
       "3 0             0.25            0.25           0.25           0.95          \n",
       "4 2             0.45            0.35           0.49           0.57          \n",
       "5 6.186047      0.8262791       0.8425581      0.8513953      0.8769767     \n",
       "6 10            0.05            0.05           0.95           0.85          \n",
       "  auc_seg_rf_fb auc_agg_rf_fb\n",
       "1 0.6           0.6          \n",
       "2 NaN           NaN          \n",
       "3 0.95          0.25         \n",
       "4 0.59          0.63         \n",
       "5 0.877907      0.8793023    \n",
       "6 0.55          0.95         "
      ]
     },
     "metadata": {},
     "output_type": "display_data"
    }
   ],
   "source": [
    "expiry_test_metametrics <- merge(expiry_test_meta, expiry_test_metrics, on = 'tld_registrar_index', all = TRUE)\n",
    "\n",
    "dim(expiry_test_metametrics)\n",
    "head(expiry_test_metametrics)"
   ]
  },
  {
   "cell_type": "markdown",
   "metadata": {},
   "source": [
    "# Metalearning w/ Fallback -- BINARY\n",
    "## seg2_glm_fb vs agg_rf_fb\n",
    "### Issue: for all tld-reg in test data, seg2_glm_fb outperforms agg_rf_fb even though agg_rf_fb outperforms overall"
   ]
  },
  {
   "cell_type": "code",
   "execution_count": 46,
   "metadata": {},
   "outputs": [],
   "source": [
    "# still need to investigate why 88 NA's for agg_rf sans fallback"
   ]
  },
  {
   "cell_type": "code",
   "execution_count": 80,
   "metadata": {},
   "outputs": [
    {
     "data": {
      "text/html": [
       "<table>\n",
       "<caption>A data.frame: 6 × 72</caption>\n",
       "<thead>\n",
       "\t<tr><th></th><th scope=col>tld_registrar_index</th><th scope=col>geo_maj</th><th scope=col>geo_cnt</th><th scope=col>n</th><th scope=col>ren_prp</th><th scope=col>tld_cnt</th><th scope=col>tld_rat</th><th scope=col>daydom_min</th><th scope=col>daydom_max</th><th scope=col>daydom_mean</th><th scope=col>daydom_rng</th><th scope=col>daydom_std</th><th scope=col>daydom_skew</th><th scope=col>daydom_kurt</th><th scope=col>sldlen_min</th><th scope=col>sldlen_max</th><th scope=col>sldlen_mean</th><th scope=col>sldlen_rng</th><th scope=col>sldlen_std</th><th scope=col>sldlen_skew</th><th scope=col>sldlen_kurt</th><th scope=col>gibbs_min</th><th scope=col>gibbs_max</th><th scope=col>gibbs_mean</th><th scope=col>gibbs_rng</th><th scope=col>⋯</th><th scope=col>l10_seg_glm</th><th scope=col>l10_agg_glm</th><th scope=col>l10_seg2_rf</th><th scope=col>l10_seg_rf</th><th scope=col>l10_agg_rf</th><th scope=col>auc_seg2_glm</th><th scope=col>auc_seg_glm</th><th scope=col>auc_agg_glm</th><th scope=col>auc_seg2_rf</th><th scope=col>auc_seg_rf</th><th scope=col>auc_agg_rf</th><th scope=col>l10_seg2_glm_fb</th><th scope=col>l10_seg_glm_fb</th><th scope=col>l10_agg_glm_fb</th><th scope=col>l10_seg2_rf_fb</th><th scope=col>l10_seg_rf_fb</th><th scope=col>l10_agg_rf_fb</th><th scope=col>auc_seg2_glm_fb</th><th scope=col>auc_seg_glm_fb</th><th scope=col>auc_agg_glm_fb</th><th scope=col>auc_seg2_rf_fb</th><th scope=col>auc_seg_rf_fb</th><th scope=col>auc_agg_rf_fb</th><th scope=col>auc_win_01</th><th scope=col>l10_win_01</th></tr>\n",
       "\t<tr><th></th><th scope=col>&lt;chr&gt;</th><th scope=col>&lt;fct&gt;</th><th scope=col>&lt;int&gt;</th><th scope=col>&lt;int&gt;</th><th scope=col>&lt;dbl&gt;</th><th scope=col>&lt;int&gt;</th><th scope=col>&lt;dbl&gt;</th><th scope=col>&lt;int&gt;</th><th scope=col>&lt;int&gt;</th><th scope=col>&lt;dbl&gt;</th><th scope=col>&lt;int&gt;</th><th scope=col>&lt;dbl&gt;</th><th scope=col>&lt;dbl&gt;</th><th scope=col>&lt;dbl&gt;</th><th scope=col>&lt;int&gt;</th><th scope=col>&lt;int&gt;</th><th scope=col>&lt;dbl&gt;</th><th scope=col>&lt;int&gt;</th><th scope=col>&lt;dbl&gt;</th><th scope=col>&lt;dbl&gt;</th><th scope=col>&lt;dbl&gt;</th><th scope=col>&lt;dbl&gt;</th><th scope=col>&lt;dbl&gt;</th><th scope=col>&lt;dbl&gt;</th><th scope=col>&lt;dbl&gt;</th><th scope=col>⋯</th><th scope=col>&lt;list&gt;</th><th scope=col>&lt;list&gt;</th><th scope=col>&lt;list&gt;</th><th scope=col>&lt;list&gt;</th><th scope=col>&lt;list&gt;</th><th scope=col>&lt;list&gt;</th><th scope=col>&lt;list&gt;</th><th scope=col>&lt;list&gt;</th><th scope=col>&lt;list&gt;</th><th scope=col>&lt;list&gt;</th><th scope=col>&lt;list&gt;</th><th scope=col>&lt;list&gt;</th><th scope=col>&lt;list&gt;</th><th scope=col>&lt;list&gt;</th><th scope=col>&lt;list&gt;</th><th scope=col>&lt;list&gt;</th><th scope=col>&lt;list&gt;</th><th scope=col>&lt;list&gt;</th><th scope=col>&lt;list&gt;</th><th scope=col>&lt;list&gt;</th><th scope=col>&lt;list&gt;</th><th scope=col>&lt;list&gt;</th><th scope=col>&lt;list&gt;</th><th scope=col>&lt;chr&gt;</th><th scope=col>&lt;chr&gt;</th></tr>\n",
       "</thead>\n",
       "<tbody>\n",
       "\t<tr><th scope=row>1</th><td><span style=white-space:pre-wrap>fun1&amp;1 internet    </span></td><td><span style=white-space:pre-wrap>EU   </span></td><td>1</td><td><span style=white-space:pre-wrap>    2</span></td><td>1.0000000</td><td>1</td><td>5.000000e-01</td><td>1</td><td><span style=white-space:pre-wrap>  1</span></td><td><span style=white-space:pre-wrap>  1.000000</span></td><td><span style=white-space:pre-wrap>  0</span></td><td><span style=white-space:pre-wrap>  0.000000</span></td><td><span style=white-space:pre-wrap>       NaN</span></td><td><span style=white-space:pre-wrap>      NaN</span></td><td>6</td><td> 9</td><td>7.500000</td><td> 3</td><td>2.121320</td><td>0.0000000</td><td>-2.7500000</td><td>2.23</td><td><span style=white-space:pre-wrap>  3.45</span></td><td>2.840000</td><td><span style=white-space:pre-wrap>  1.22</span></td><td>⋯</td><td>5</td><td>5</td><td>5</td><td>5</td><td>5</td><td>0.6</td><td>0.6</td><td>0.6</td><td>0.6</td><td>0.6</td><td>0.6</td><td>5</td><td>5</td><td>5</td><td>5</td><td>5</td><td>5</td><td>0.6</td><td>0.6</td><td>0.6</td><td>0.6</td><td>0.6</td><td>0.6</td><td>auc_seg2_glm_fb</td><td>l10_seg2_glm_fb</td></tr>\n",
       "\t<tr><th scope=row>2</th><td>fun10dencehispahard</td><td>EU   </td><td>1</td><td>    2</td><td>0.0000000</td><td>1</td><td>5.000000e-01</td><td>1</td><td>  1</td><td>  1.000000</td><td>  0</td><td>  0.000000</td><td>       NaN</td><td>      NaN</td><td>6</td><td> 8</td><td>7.000000</td><td> 2</td><td>1.414214</td><td>0.0000000</td><td>-2.7500000</td><td>3.13</td><td>  8.62</td><td>5.875000</td><td>  5.49</td><td>⋯</td><td>NaN</td><td>NaN</td><td>NaN</td><td>NaN</td><td>NaN</td><td>NaN</td><td>NaN</td><td>NaN</td><td>NaN</td><td>NaN</td><td>NaN</td><td>NaN</td><td>NaN</td><td>NaN</td><td>NaN</td><td>NaN</td><td>NaN</td><td>NaN</td><td>NaN</td><td>NaN</td><td>NaN</td><td>NaN</td><td>NaN</td><td>NA             </td><td>NA             </td></tr>\n",
       "\t<tr><th scope=row>3</th><td>fun1api            </td><td>EU   </td><td>1</td><td>    2</td><td>0.5000000</td><td>1</td><td>5.000000e-01</td><td>1</td><td>  1</td><td>  1.000000</td><td>  0</td><td>  0.000000</td><td>       NaN</td><td>      NaN</td><td>7</td><td> 7</td><td>7.000000</td><td> 0</td><td>0.000000</td><td>      NaN</td><td>       NaN</td><td>4.51</td><td>  6.09</td><td>5.300000</td><td>  1.58</td><td>⋯</td><td>0</td><td>0</td><td>10</td><td>10</td><td>0</td><td>0.25</td><td>0.25</td><td>0.25</td><td>0.95</td><td>0.95</td><td>0.25</td><td>0</td><td>0</td><td>0</td><td>10</td><td>10</td><td>0</td><td>0.25</td><td>0.25</td><td>0.25</td><td>0.95</td><td>0.95</td><td>0.25</td><td>auc_seg2_glm_fb</td><td>l10_seg2_glm_fb</td></tr>\n",
       "\t<tr><th scope=row>4</th><td>funactive 24       </td><td>EU   </td><td>1</td><td>   22</td><td>0.2272727</td><td>1</td><td>4.545455e-02</td><td>1</td><td>  3</td><td>  2.090909</td><td>  2</td><td>  1.019294</td><td>-0.1702685</td><td>-2.058471</td><td>4</td><td>14</td><td>7.363636</td><td>10</td><td>2.498484</td><td>0.8100072</td><td> 0.4123014</td><td>0.59</td><td>100.00</td><td>9.425000</td><td> 99.41</td><td>⋯</td><td>0</td><td>0</td><td>2</td><td>2</td><td>2</td><td>0.45</td><td>0.35</td><td>0.49</td><td>0.57</td><td>0.59</td><td>0.63</td><td>0</td><td>0</td><td>0</td><td>2</td><td>2</td><td>2</td><td>0.45</td><td>0.35</td><td>0.49</td><td>0.57</td><td>0.59</td><td>0.63</td><td>auc_agg_rf_fb  </td><td>l10_agg_rf_fb  </td></tr>\n",
       "\t<tr><th scope=row>5</th><td>funalibaba         </td><td>China</td><td>1</td><td>18208</td><td>0.0118080</td><td>1</td><td>5.492091e-05</td><td>1</td><td>705</td><td>219.892025</td><td>704</td><td>156.107008</td><td> 1.5055591</td><td> 2.301106</td><td>3</td><td>38</td><td>6.956832</td><td>35</td><td>3.311960</td><td>2.9556282</td><td>13.5354533</td><td>0.00</td><td>100.00</td><td>6.320069</td><td>100.00</td><td>⋯</td><td>5.302326</td><td>5.023256</td><td>5.813953</td><td>6</td><td>6.186047</td><td>0.8262791</td><td>0.8425581</td><td>0.8513953</td><td>0.8769767</td><td>0.877907</td><td>0.8793023</td><td>4.883721</td><td>5.302326</td><td>5.023256</td><td>5.813953</td><td>6</td><td>6.186047</td><td>0.8262791</td><td>0.8425581</td><td>0.8513953</td><td>0.8769767</td><td>0.877907</td><td>0.8793023</td><td>auc_agg_rf_fb  </td><td>l10_agg_rf_fb  </td></tr>\n",
       "\t<tr><th scope=row>6</th><td>funalibaba sg      </td><td>China</td><td>1</td><td>   16</td><td>0.0625000</td><td>1</td><td>6.250000e-02</td><td>1</td><td>  1</td><td>  1.000000</td><td>  0</td><td>  0.000000</td><td>       NaN</td><td>      NaN</td><td>4</td><td>13</td><td>7.375000</td><td> 9</td><td>2.604483</td><td>0.3561975</td><td>-0.8500916</td><td>0.24</td><td> 13.58</td><td>4.647500</td><td> 13.34</td><td>⋯</td><td>0</td><td>10</td><td>0</td><td>0</td><td>10</td><td>0.05</td><td>0.05</td><td>0.95</td><td>0.85</td><td>0.55</td><td>0.95</td><td>0</td><td>0</td><td>10</td><td>0</td><td>0</td><td>10</td><td>0.05</td><td>0.05</td><td>0.95</td><td>0.85</td><td>0.55</td><td>0.95</td><td>auc_agg_rf_fb  </td><td>l10_agg_rf_fb  </td></tr>\n",
       "</tbody>\n",
       "</table>\n"
      ],
      "text/latex": [
       "A data.frame: 6 × 72\n",
       "\\begin{tabular}{r|lllllllllllllllllllllllllllllllllllllllllllllllllll}\n",
       "  & tld\\_registrar\\_index & geo\\_maj & geo\\_cnt & n & ren\\_prp & tld\\_cnt & tld\\_rat & daydom\\_min & daydom\\_max & daydom\\_mean & daydom\\_rng & daydom\\_std & daydom\\_skew & daydom\\_kurt & sldlen\\_min & sldlen\\_max & sldlen\\_mean & sldlen\\_rng & sldlen\\_std & sldlen\\_skew & sldlen\\_kurt & gibbs\\_min & gibbs\\_max & gibbs\\_mean & gibbs\\_rng & ⋯ & l10\\_seg\\_glm & l10\\_agg\\_glm & l10\\_seg2\\_rf & l10\\_seg\\_rf & l10\\_agg\\_rf & auc\\_seg2\\_glm & auc\\_seg\\_glm & auc\\_agg\\_glm & auc\\_seg2\\_rf & auc\\_seg\\_rf & auc\\_agg\\_rf & l10\\_seg2\\_glm\\_fb & l10\\_seg\\_glm\\_fb & l10\\_agg\\_glm\\_fb & l10\\_seg2\\_rf\\_fb & l10\\_seg\\_rf\\_fb & l10\\_agg\\_rf\\_fb & auc\\_seg2\\_glm\\_fb & auc\\_seg\\_glm\\_fb & auc\\_agg\\_glm\\_fb & auc\\_seg2\\_rf\\_fb & auc\\_seg\\_rf\\_fb & auc\\_agg\\_rf\\_fb & auc\\_win\\_01 & l10\\_win\\_01\\\\\n",
       "  & <chr> & <fct> & <int> & <int> & <dbl> & <int> & <dbl> & <int> & <int> & <dbl> & <int> & <dbl> & <dbl> & <dbl> & <int> & <int> & <dbl> & <int> & <dbl> & <dbl> & <dbl> & <dbl> & <dbl> & <dbl> & <dbl> & ⋯ & <list> & <list> & <list> & <list> & <list> & <list> & <list> & <list> & <list> & <list> & <list> & <list> & <list> & <list> & <list> & <list> & <list> & <list> & <list> & <list> & <list> & <list> & <list> & <chr> & <chr>\\\\\n",
       "\\hline\n",
       "\t1 & fun1\\&1 internet     & EU    & 1 &     2 & 1.0000000 & 1 & 5.000000e-01 & 1 &   1 &   1.000000 &   0 &   0.000000 &        NaN &       NaN & 6 &  9 & 7.500000 &  3 & 2.121320 & 0.0000000 & -2.7500000 & 2.23 &   3.45 & 2.840000 &   1.22 & ⋯ & 5 & 5 & 5 & 5 & 5 & 0.6 & 0.6 & 0.6 & 0.6 & 0.6 & 0.6 & 5 & 5 & 5 & 5 & 5 & 5 & 0.6 & 0.6 & 0.6 & 0.6 & 0.6 & 0.6 & auc\\_seg2\\_glm\\_fb & l10\\_seg2\\_glm\\_fb\\\\\n",
       "\t2 & fun10dencehispahard & EU    & 1 &     2 & 0.0000000 & 1 & 5.000000e-01 & 1 &   1 &   1.000000 &   0 &   0.000000 &        NaN &       NaN & 6 &  8 & 7.000000 &  2 & 1.414214 & 0.0000000 & -2.7500000 & 3.13 &   8.62 & 5.875000 &   5.49 & ⋯ & NaN & NaN & NaN & NaN & NaN & NaN & NaN & NaN & NaN & NaN & NaN & NaN & NaN & NaN & NaN & NaN & NaN & NaN & NaN & NaN & NaN & NaN & NaN & NA              & NA             \\\\\n",
       "\t3 & fun1api             & EU    & 1 &     2 & 0.5000000 & 1 & 5.000000e-01 & 1 &   1 &   1.000000 &   0 &   0.000000 &        NaN &       NaN & 7 &  7 & 7.000000 &  0 & 0.000000 &       NaN &        NaN & 4.51 &   6.09 & 5.300000 &   1.58 & ⋯ & 0 & 0 & 10 & 10 & 0 & 0.25 & 0.25 & 0.25 & 0.95 & 0.95 & 0.25 & 0 & 0 & 0 & 10 & 10 & 0 & 0.25 & 0.25 & 0.25 & 0.95 & 0.95 & 0.25 & auc\\_seg2\\_glm\\_fb & l10\\_seg2\\_glm\\_fb\\\\\n",
       "\t4 & funactive 24        & EU    & 1 &    22 & 0.2272727 & 1 & 4.545455e-02 & 1 &   3 &   2.090909 &   2 &   1.019294 & -0.1702685 & -2.058471 & 4 & 14 & 7.363636 & 10 & 2.498484 & 0.8100072 &  0.4123014 & 0.59 & 100.00 & 9.425000 &  99.41 & ⋯ & 0 & 0 & 2 & 2 & 2 & 0.45 & 0.35 & 0.49 & 0.57 & 0.59 & 0.63 & 0 & 0 & 0 & 2 & 2 & 2 & 0.45 & 0.35 & 0.49 & 0.57 & 0.59 & 0.63 & auc\\_agg\\_rf\\_fb   & l10\\_agg\\_rf\\_fb  \\\\\n",
       "\t5 & funalibaba          & China & 1 & 18208 & 0.0118080 & 1 & 5.492091e-05 & 1 & 705 & 219.892025 & 704 & 156.107008 &  1.5055591 &  2.301106 & 3 & 38 & 6.956832 & 35 & 3.311960 & 2.9556282 & 13.5354533 & 0.00 & 100.00 & 6.320069 & 100.00 & ⋯ & 5.302326 & 5.023256 & 5.813953 & 6 & 6.186047 & 0.8262791 & 0.8425581 & 0.8513953 & 0.8769767 & 0.877907 & 0.8793023 & 4.883721 & 5.302326 & 5.023256 & 5.813953 & 6 & 6.186047 & 0.8262791 & 0.8425581 & 0.8513953 & 0.8769767 & 0.877907 & 0.8793023 & auc\\_agg\\_rf\\_fb   & l10\\_agg\\_rf\\_fb  \\\\\n",
       "\t6 & funalibaba sg       & China & 1 &    16 & 0.0625000 & 1 & 6.250000e-02 & 1 &   1 &   1.000000 &   0 &   0.000000 &        NaN &       NaN & 4 & 13 & 7.375000 &  9 & 2.604483 & 0.3561975 & -0.8500916 & 0.24 &  13.58 & 4.647500 &  13.34 & ⋯ & 0 & 10 & 0 & 0 & 10 & 0.05 & 0.05 & 0.95 & 0.85 & 0.55 & 0.95 & 0 & 0 & 10 & 0 & 0 & 10 & 0.05 & 0.05 & 0.95 & 0.85 & 0.55 & 0.95 & auc\\_agg\\_rf\\_fb   & l10\\_agg\\_rf\\_fb  \\\\\n",
       "\\end{tabular}\n"
      ],
      "text/markdown": [
       "\n",
       "A data.frame: 6 × 72\n",
       "\n",
       "| <!--/--> | tld_registrar_index &lt;chr&gt; | geo_maj &lt;fct&gt; | geo_cnt &lt;int&gt; | n &lt;int&gt; | ren_prp &lt;dbl&gt; | tld_cnt &lt;int&gt; | tld_rat &lt;dbl&gt; | daydom_min &lt;int&gt; | daydom_max &lt;int&gt; | daydom_mean &lt;dbl&gt; | daydom_rng &lt;int&gt; | daydom_std &lt;dbl&gt; | daydom_skew &lt;dbl&gt; | daydom_kurt &lt;dbl&gt; | sldlen_min &lt;int&gt; | sldlen_max &lt;int&gt; | sldlen_mean &lt;dbl&gt; | sldlen_rng &lt;int&gt; | sldlen_std &lt;dbl&gt; | sldlen_skew &lt;dbl&gt; | sldlen_kurt &lt;dbl&gt; | gibbs_min &lt;dbl&gt; | gibbs_max &lt;dbl&gt; | gibbs_mean &lt;dbl&gt; | gibbs_rng &lt;dbl&gt; | ⋯ ⋯ | l10_seg_glm &lt;list&gt; | l10_agg_glm &lt;list&gt; | l10_seg2_rf &lt;list&gt; | l10_seg_rf &lt;list&gt; | l10_agg_rf &lt;list&gt; | auc_seg2_glm &lt;list&gt; | auc_seg_glm &lt;list&gt; | auc_agg_glm &lt;list&gt; | auc_seg2_rf &lt;list&gt; | auc_seg_rf &lt;list&gt; | auc_agg_rf &lt;list&gt; | l10_seg2_glm_fb &lt;list&gt; | l10_seg_glm_fb &lt;list&gt; | l10_agg_glm_fb &lt;list&gt; | l10_seg2_rf_fb &lt;list&gt; | l10_seg_rf_fb &lt;list&gt; | l10_agg_rf_fb &lt;list&gt; | auc_seg2_glm_fb &lt;list&gt; | auc_seg_glm_fb &lt;list&gt; | auc_agg_glm_fb &lt;list&gt; | auc_seg2_rf_fb &lt;list&gt; | auc_seg_rf_fb &lt;list&gt; | auc_agg_rf_fb &lt;list&gt; | auc_win_01 &lt;chr&gt; | l10_win_01 &lt;chr&gt; |\n",
       "|---|---|---|---|---|---|---|---|---|---|---|---|---|---|---|---|---|---|---|---|---|---|---|---|---|---|---|---|---|---|---|---|---|---|---|---|---|---|---|---|---|---|---|---|---|---|---|---|---|---|---|---|\n",
       "| 1 | fun1&amp;1 internet     | EU    | 1 |     2 | 1.0000000 | 1 | 5.000000e-01 | 1 |   1 |   1.000000 |   0 |   0.000000 |        NaN |       NaN | 6 |  9 | 7.500000 |  3 | 2.121320 | 0.0000000 | -2.7500000 | 2.23 |   3.45 | 2.840000 |   1.22 | ⋯ | 5 | 5 | 5 | 5 | 5 | 0.6 | 0.6 | 0.6 | 0.6 | 0.6 | 0.6 | 5 | 5 | 5 | 5 | 5 | 5 | 0.6 | 0.6 | 0.6 | 0.6 | 0.6 | 0.6 | auc_seg2_glm_fb | l10_seg2_glm_fb |\n",
       "| 2 | fun10dencehispahard | EU    | 1 |     2 | 0.0000000 | 1 | 5.000000e-01 | 1 |   1 |   1.000000 |   0 |   0.000000 |        NaN |       NaN | 6 |  8 | 7.000000 |  2 | 1.414214 | 0.0000000 | -2.7500000 | 3.13 |   8.62 | 5.875000 |   5.49 | ⋯ | NaN | NaN | NaN | NaN | NaN | NaN | NaN | NaN | NaN | NaN | NaN | NaN | NaN | NaN | NaN | NaN | NaN | NaN | NaN | NaN | NaN | NaN | NaN | NA              | NA              |\n",
       "| 3 | fun1api             | EU    | 1 |     2 | 0.5000000 | 1 | 5.000000e-01 | 1 |   1 |   1.000000 |   0 |   0.000000 |        NaN |       NaN | 7 |  7 | 7.000000 |  0 | 0.000000 |       NaN |        NaN | 4.51 |   6.09 | 5.300000 |   1.58 | ⋯ | 0 | 0 | 10 | 10 | 0 | 0.25 | 0.25 | 0.25 | 0.95 | 0.95 | 0.25 | 0 | 0 | 0 | 10 | 10 | 0 | 0.25 | 0.25 | 0.25 | 0.95 | 0.95 | 0.25 | auc_seg2_glm_fb | l10_seg2_glm_fb |\n",
       "| 4 | funactive 24        | EU    | 1 |    22 | 0.2272727 | 1 | 4.545455e-02 | 1 |   3 |   2.090909 |   2 |   1.019294 | -0.1702685 | -2.058471 | 4 | 14 | 7.363636 | 10 | 2.498484 | 0.8100072 |  0.4123014 | 0.59 | 100.00 | 9.425000 |  99.41 | ⋯ | 0 | 0 | 2 | 2 | 2 | 0.45 | 0.35 | 0.49 | 0.57 | 0.59 | 0.63 | 0 | 0 | 0 | 2 | 2 | 2 | 0.45 | 0.35 | 0.49 | 0.57 | 0.59 | 0.63 | auc_agg_rf_fb   | l10_agg_rf_fb   |\n",
       "| 5 | funalibaba          | China | 1 | 18208 | 0.0118080 | 1 | 5.492091e-05 | 1 | 705 | 219.892025 | 704 | 156.107008 |  1.5055591 |  2.301106 | 3 | 38 | 6.956832 | 35 | 3.311960 | 2.9556282 | 13.5354533 | 0.00 | 100.00 | 6.320069 | 100.00 | ⋯ | 5.302326 | 5.023256 | 5.813953 | 6 | 6.186047 | 0.8262791 | 0.8425581 | 0.8513953 | 0.8769767 | 0.877907 | 0.8793023 | 4.883721 | 5.302326 | 5.023256 | 5.813953 | 6 | 6.186047 | 0.8262791 | 0.8425581 | 0.8513953 | 0.8769767 | 0.877907 | 0.8793023 | auc_agg_rf_fb   | l10_agg_rf_fb   |\n",
       "| 6 | funalibaba sg       | China | 1 |    16 | 0.0625000 | 1 | 6.250000e-02 | 1 |   1 |   1.000000 |   0 |   0.000000 |        NaN |       NaN | 4 | 13 | 7.375000 |  9 | 2.604483 | 0.3561975 | -0.8500916 | 0.24 |  13.58 | 4.647500 |  13.34 | ⋯ | 0 | 10 | 0 | 0 | 10 | 0.05 | 0.05 | 0.95 | 0.85 | 0.55 | 0.95 | 0 | 0 | 10 | 0 | 0 | 10 | 0.05 | 0.05 | 0.95 | 0.85 | 0.55 | 0.95 | auc_agg_rf_fb   | l10_agg_rf_fb   |\n",
       "\n"
      ],
      "text/plain": [
       "  tld_registrar_index geo_maj geo_cnt n     ren_prp   tld_cnt tld_rat     \n",
       "1 fun1&1 internet     EU      1           2 1.0000000 1       5.000000e-01\n",
       "2 fun10dencehispahard EU      1           2 0.0000000 1       5.000000e-01\n",
       "3 fun1api             EU      1           2 0.5000000 1       5.000000e-01\n",
       "4 funactive 24        EU      1          22 0.2272727 1       4.545455e-02\n",
       "5 funalibaba          China   1       18208 0.0118080 1       5.492091e-05\n",
       "6 funalibaba sg       China   1          16 0.0625000 1       6.250000e-02\n",
       "  daydom_min daydom_max daydom_mean daydom_rng daydom_std daydom_skew\n",
       "1 1            1          1.000000    0          0.000000        NaN \n",
       "2 1            1          1.000000    0          0.000000        NaN \n",
       "3 1            1          1.000000    0          0.000000        NaN \n",
       "4 1            3          2.090909    2          1.019294 -0.1702685 \n",
       "5 1          705        219.892025  704        156.107008  1.5055591 \n",
       "6 1            1          1.000000    0          0.000000        NaN \n",
       "  daydom_kurt sldlen_min sldlen_max sldlen_mean sldlen_rng sldlen_std\n",
       "1       NaN   6           9         7.500000     3         2.121320  \n",
       "2       NaN   6           8         7.000000     2         1.414214  \n",
       "3       NaN   7           7         7.000000     0         0.000000  \n",
       "4 -2.058471   4          14         7.363636    10         2.498484  \n",
       "5  2.301106   3          38         6.956832    35         3.311960  \n",
       "6       NaN   4          13         7.375000     9         2.604483  \n",
       "  sldlen_skew sldlen_kurt gibbs_min gibbs_max gibbs_mean gibbs_rng ⋯\n",
       "1 0.0000000   -2.7500000  2.23        3.45    2.840000     1.22    ⋯\n",
       "2 0.0000000   -2.7500000  3.13        8.62    5.875000     5.49    ⋯\n",
       "3       NaN          NaN  4.51        6.09    5.300000     1.58    ⋯\n",
       "4 0.8100072    0.4123014  0.59      100.00    9.425000    99.41    ⋯\n",
       "5 2.9556282   13.5354533  0.00      100.00    6.320069   100.00    ⋯\n",
       "6 0.3561975   -0.8500916  0.24       13.58    4.647500    13.34    ⋯\n",
       "  l10_seg_glm l10_agg_glm l10_seg2_rf l10_seg_rf l10_agg_rf auc_seg2_glm\n",
       "1 5           5           5           5          5          0.6         \n",
       "2 NaN         NaN         NaN         NaN        NaN        NaN         \n",
       "3 0           0           10          10         0          0.25        \n",
       "4 0           0           2           2          2          0.45        \n",
       "5 5.302326    5.023256    5.813953    6          6.186047   0.8262791   \n",
       "6 0           10          0           0          10         0.05        \n",
       "  auc_seg_glm auc_agg_glm auc_seg2_rf auc_seg_rf auc_agg_rf l10_seg2_glm_fb\n",
       "1 0.6         0.6         0.6         0.6        0.6        5              \n",
       "2 NaN         NaN         NaN         NaN        NaN        NaN            \n",
       "3 0.25        0.25        0.95        0.95       0.25       0              \n",
       "4 0.35        0.49        0.57        0.59       0.63       0              \n",
       "5 0.8425581   0.8513953   0.8769767   0.877907   0.8793023  4.883721       \n",
       "6 0.05        0.95        0.85        0.55       0.95       0              \n",
       "  l10_seg_glm_fb l10_agg_glm_fb l10_seg2_rf_fb l10_seg_rf_fb l10_agg_rf_fb\n",
       "1 5              5              5              5             5            \n",
       "2 NaN            NaN            NaN            NaN           NaN          \n",
       "3 0              0              10             10            0            \n",
       "4 0              0              2              2             2            \n",
       "5 5.302326       5.023256       5.813953       6             6.186047     \n",
       "6 0              10             0              0             10           \n",
       "  auc_seg2_glm_fb auc_seg_glm_fb auc_agg_glm_fb auc_seg2_rf_fb auc_seg_rf_fb\n",
       "1 0.6             0.6            0.6            0.6            0.6          \n",
       "2 NaN             NaN            NaN            NaN            NaN          \n",
       "3 0.25            0.25           0.25           0.95           0.95         \n",
       "4 0.45            0.35           0.49           0.57           0.59         \n",
       "5 0.8262791       0.8425581      0.8513953      0.8769767      0.877907     \n",
       "6 0.05            0.05           0.95           0.85           0.55         \n",
       "  auc_agg_rf_fb auc_win_01      l10_win_01     \n",
       "1 0.6           auc_seg2_glm_fb l10_seg2_glm_fb\n",
       "2 NaN           NA              NA             \n",
       "3 0.25          auc_seg2_glm_fb l10_seg2_glm_fb\n",
       "4 0.63          auc_agg_rf_fb   l10_agg_rf_fb  \n",
       "5 0.8793023     auc_agg_rf_fb   l10_agg_rf_fb  \n",
       "6 0.95          auc_agg_rf_fb   l10_agg_rf_fb  "
      ]
     },
     "metadata": {},
     "output_type": "display_data"
    }
   ],
   "source": [
    "# (auc_vars = grep('auc', names(metrics_df), value=TRUE))\n",
    "# (l10_vars = grep('l10', names(metrics_df), value=TRUE))\n",
    "\n",
    "auc_vars = c('auc_seg2_glm_fb','auc_agg_rf_fb')\n",
    "l10_vars = c('l10_seg2_glm_fb','l10_agg_rf_fb')\n",
    "\n",
    "expiry_test_metametrics <- expiry_test_metametrics %>%\n",
    "    mutate (auc_win_01=sapply(apply(.[,c(auc_vars)], \n",
    "                          1, function(x) names(x)[which.max(x)]) , function(s) if (length(s) == 0) NA else paste(s, collapse = \" \")) ,\n",
    "            l10_win_01=sapply(apply(.[,c(l10_vars)], \n",
    "                          1, function(x) names(x)[which.max(x)]), function(s) if (length(s) == 0) NA else paste(s, collapse = \" \")) \n",
    "            ) \n",
    "                              \n",
    "head(expiry_test_metametrics)"
   ]
  },
  {
   "cell_type": "code",
   "execution_count": 81,
   "metadata": {},
   "outputs": [
    {
     "data": {
      "text/plain": [
       "\n",
       "  auc_agg_rf_fb auc_seg2_glm_fb \n",
       "            406             692 "
      ]
     },
     "metadata": {},
     "output_type": "display_data"
    },
    {
     "data": {
      "text/plain": [
       "\n",
       "  l10_agg_rf_fb l10_seg2_glm_fb \n",
       "            236             862 "
      ]
     },
     "metadata": {},
     "output_type": "display_data"
    }
   ],
   "source": [
    "table(expiry_test_metametrics$auc_win_01)\n",
    "table(expiry_test_metametrics$l10_win_01)"
   ]
  },
  {
   "cell_type": "markdown",
   "metadata": {},
   "source": [
    "# Metalearning w/ Fallback -- MULTICLASS\n",
    "## s\n",
    "### Issue: for all tld-reg in test data, seg2_glm_fb outperforms agg_rf_fb even though agg_rf_fb outperforms overall"
   ]
  },
  {
   "cell_type": "code",
   "execution_count": 83,
   "metadata": {},
   "outputs": [
    {
     "data": {
      "text/html": [
       "<style>\n",
       ".list-inline {list-style: none; margin:0; padding: 0}\n",
       ".list-inline>li {display: inline-block}\n",
       ".list-inline>li:not(:last-child)::after {content: \"\\00b7\"; padding: 0 .5ex}\n",
       "</style>\n",
       "<ol class=list-inline><li>'auc_seg2_glm'</li><li>'auc_seg_glm'</li><li>'auc_agg_glm'</li><li>'auc_seg2_rf'</li><li>'auc_seg_rf'</li><li>'auc_agg_rf'</li><li>'auc_seg2_glm_fb'</li><li>'auc_seg_glm_fb'</li><li>'auc_agg_glm_fb'</li><li>'auc_seg2_rf_fb'</li><li>'auc_seg_rf_fb'</li><li>'auc_agg_rf_fb'</li><li>'auc_win_01'</li></ol>\n"
      ],
      "text/latex": [
       "\\begin{enumerate*}\n",
       "\\item 'auc\\_seg2\\_glm'\n",
       "\\item 'auc\\_seg\\_glm'\n",
       "\\item 'auc\\_agg\\_glm'\n",
       "\\item 'auc\\_seg2\\_rf'\n",
       "\\item 'auc\\_seg\\_rf'\n",
       "\\item 'auc\\_agg\\_rf'\n",
       "\\item 'auc\\_seg2\\_glm\\_fb'\n",
       "\\item 'auc\\_seg\\_glm\\_fb'\n",
       "\\item 'auc\\_agg\\_glm\\_fb'\n",
       "\\item 'auc\\_seg2\\_rf\\_fb'\n",
       "\\item 'auc\\_seg\\_rf\\_fb'\n",
       "\\item 'auc\\_agg\\_rf\\_fb'\n",
       "\\item 'auc\\_win\\_01'\n",
       "\\end{enumerate*}\n"
      ],
      "text/markdown": [
       "1. 'auc_seg2_glm'\n",
       "2. 'auc_seg_glm'\n",
       "3. 'auc_agg_glm'\n",
       "4. 'auc_seg2_rf'\n",
       "5. 'auc_seg_rf'\n",
       "6. 'auc_agg_rf'\n",
       "7. 'auc_seg2_glm_fb'\n",
       "8. 'auc_seg_glm_fb'\n",
       "9. 'auc_agg_glm_fb'\n",
       "10. 'auc_seg2_rf_fb'\n",
       "11. 'auc_seg_rf_fb'\n",
       "12. 'auc_agg_rf_fb'\n",
       "13. 'auc_win_01'\n",
       "\n",
       "\n"
      ],
      "text/plain": [
       " [1] \"auc_seg2_glm\"    \"auc_seg_glm\"     \"auc_agg_glm\"     \"auc_seg2_rf\"    \n",
       " [5] \"auc_seg_rf\"      \"auc_agg_rf\"      \"auc_seg2_glm_fb\" \"auc_seg_glm_fb\" \n",
       " [9] \"auc_agg_glm_fb\"  \"auc_seg2_rf_fb\"  \"auc_seg_rf_fb\"   \"auc_agg_rf_fb\"  \n",
       "[13] \"auc_win_01\"     "
      ]
     },
     "metadata": {},
     "output_type": "display_data"
    },
    {
     "data": {
      "text/html": [
       "<style>\n",
       ".list-inline {list-style: none; margin:0; padding: 0}\n",
       ".list-inline>li {display: inline-block}\n",
       ".list-inline>li:not(:last-child)::after {content: \"\\00b7\"; padding: 0 .5ex}\n",
       "</style>\n",
       "<ol class=list-inline><li>'l10_seg2_glm'</li><li>'l10_seg_glm'</li><li>'l10_agg_glm'</li><li>'l10_seg2_rf'</li><li>'l10_seg_rf'</li><li>'l10_agg_rf'</li><li>'l10_seg2_glm_fb'</li><li>'l10_seg_glm_fb'</li><li>'l10_agg_glm_fb'</li><li>'l10_seg2_rf_fb'</li><li>'l10_seg_rf_fb'</li><li>'l10_agg_rf_fb'</li><li>'l10_win_01'</li></ol>\n"
      ],
      "text/latex": [
       "\\begin{enumerate*}\n",
       "\\item 'l10\\_seg2\\_glm'\n",
       "\\item 'l10\\_seg\\_glm'\n",
       "\\item 'l10\\_agg\\_glm'\n",
       "\\item 'l10\\_seg2\\_rf'\n",
       "\\item 'l10\\_seg\\_rf'\n",
       "\\item 'l10\\_agg\\_rf'\n",
       "\\item 'l10\\_seg2\\_glm\\_fb'\n",
       "\\item 'l10\\_seg\\_glm\\_fb'\n",
       "\\item 'l10\\_agg\\_glm\\_fb'\n",
       "\\item 'l10\\_seg2\\_rf\\_fb'\n",
       "\\item 'l10\\_seg\\_rf\\_fb'\n",
       "\\item 'l10\\_agg\\_rf\\_fb'\n",
       "\\item 'l10\\_win\\_01'\n",
       "\\end{enumerate*}\n"
      ],
      "text/markdown": [
       "1. 'l10_seg2_glm'\n",
       "2. 'l10_seg_glm'\n",
       "3. 'l10_agg_glm'\n",
       "4. 'l10_seg2_rf'\n",
       "5. 'l10_seg_rf'\n",
       "6. 'l10_agg_rf'\n",
       "7. 'l10_seg2_glm_fb'\n",
       "8. 'l10_seg_glm_fb'\n",
       "9. 'l10_agg_glm_fb'\n",
       "10. 'l10_seg2_rf_fb'\n",
       "11. 'l10_seg_rf_fb'\n",
       "12. 'l10_agg_rf_fb'\n",
       "13. 'l10_win_01'\n",
       "\n",
       "\n"
      ],
      "text/plain": [
       " [1] \"l10_seg2_glm\"    \"l10_seg_glm\"     \"l10_agg_glm\"     \"l10_seg2_rf\"    \n",
       " [5] \"l10_seg_rf\"      \"l10_agg_rf\"      \"l10_seg2_glm_fb\" \"l10_seg_glm_fb\" \n",
       " [9] \"l10_agg_glm_fb\"  \"l10_seg2_rf_fb\"  \"l10_seg_rf_fb\"   \"l10_agg_rf_fb\"  \n",
       "[13] \"l10_win_01\"     "
      ]
     },
     "metadata": {},
     "output_type": "display_data"
    },
    {
     "data": {
      "text/html": [
       "<style>\n",
       ".list-inline {list-style: none; margin:0; padding: 0}\n",
       ".list-inline>li {display: inline-block}\n",
       ".list-inline>li:not(:last-child)::after {content: \"\\00b7\"; padding: 0 .5ex}\n",
       "</style>\n",
       "<ol class=list-inline><li>'auc_seg2_glm'</li><li>'auc_seg_glm'</li><li>'auc_agg_glm'</li><li>'auc_seg2_rf'</li><li>'auc_seg_rf'</li><li>'auc_agg_rf'</li><li>'auc_seg2_glm_fb'</li><li>'auc_seg_glm_fb'</li><li>'auc_agg_glm_fb'</li><li>'auc_seg2_rf_fb'</li><li>'auc_seg_rf_fb'</li><li>'auc_agg_rf_fb'</li></ol>\n"
      ],
      "text/latex": [
       "\\begin{enumerate*}\n",
       "\\item 'auc\\_seg2\\_glm'\n",
       "\\item 'auc\\_seg\\_glm'\n",
       "\\item 'auc\\_agg\\_glm'\n",
       "\\item 'auc\\_seg2\\_rf'\n",
       "\\item 'auc\\_seg\\_rf'\n",
       "\\item 'auc\\_agg\\_rf'\n",
       "\\item 'auc\\_seg2\\_glm\\_fb'\n",
       "\\item 'auc\\_seg\\_glm\\_fb'\n",
       "\\item 'auc\\_agg\\_glm\\_fb'\n",
       "\\item 'auc\\_seg2\\_rf\\_fb'\n",
       "\\item 'auc\\_seg\\_rf\\_fb'\n",
       "\\item 'auc\\_agg\\_rf\\_fb'\n",
       "\\end{enumerate*}\n"
      ],
      "text/markdown": [
       "1. 'auc_seg2_glm'\n",
       "2. 'auc_seg_glm'\n",
       "3. 'auc_agg_glm'\n",
       "4. 'auc_seg2_rf'\n",
       "5. 'auc_seg_rf'\n",
       "6. 'auc_agg_rf'\n",
       "7. 'auc_seg2_glm_fb'\n",
       "8. 'auc_seg_glm_fb'\n",
       "9. 'auc_agg_glm_fb'\n",
       "10. 'auc_seg2_rf_fb'\n",
       "11. 'auc_seg_rf_fb'\n",
       "12. 'auc_agg_rf_fb'\n",
       "\n",
       "\n"
      ],
      "text/plain": [
       " [1] \"auc_seg2_glm\"    \"auc_seg_glm\"     \"auc_agg_glm\"     \"auc_seg2_rf\"    \n",
       " [5] \"auc_seg_rf\"      \"auc_agg_rf\"      \"auc_seg2_glm_fb\" \"auc_seg_glm_fb\" \n",
       " [9] \"auc_agg_glm_fb\"  \"auc_seg2_rf_fb\"  \"auc_seg_rf_fb\"   \"auc_agg_rf_fb\"  "
      ]
     },
     "metadata": {},
     "output_type": "display_data"
    },
    {
     "data": {
      "text/html": [
       "<style>\n",
       ".list-inline {list-style: none; margin:0; padding: 0}\n",
       ".list-inline>li {display: inline-block}\n",
       ".list-inline>li:not(:last-child)::after {content: \"\\00b7\"; padding: 0 .5ex}\n",
       "</style>\n",
       "<ol class=list-inline><li>'l10_seg2_glm'</li><li>'l10_seg_glm'</li><li>'l10_agg_glm'</li><li>'l10_seg2_rf'</li><li>'l10_seg_rf'</li><li>'l10_agg_rf'</li><li>'l10_seg2_glm_fb'</li><li>'l10_seg_glm_fb'</li><li>'l10_agg_glm_fb'</li><li>'l10_seg2_rf_fb'</li><li>'l10_seg_rf_fb'</li><li>'l10_agg_rf_fb'</li></ol>\n"
      ],
      "text/latex": [
       "\\begin{enumerate*}\n",
       "\\item 'l10\\_seg2\\_glm'\n",
       "\\item 'l10\\_seg\\_glm'\n",
       "\\item 'l10\\_agg\\_glm'\n",
       "\\item 'l10\\_seg2\\_rf'\n",
       "\\item 'l10\\_seg\\_rf'\n",
       "\\item 'l10\\_agg\\_rf'\n",
       "\\item 'l10\\_seg2\\_glm\\_fb'\n",
       "\\item 'l10\\_seg\\_glm\\_fb'\n",
       "\\item 'l10\\_agg\\_glm\\_fb'\n",
       "\\item 'l10\\_seg2\\_rf\\_fb'\n",
       "\\item 'l10\\_seg\\_rf\\_fb'\n",
       "\\item 'l10\\_agg\\_rf\\_fb'\n",
       "\\end{enumerate*}\n"
      ],
      "text/markdown": [
       "1. 'l10_seg2_glm'\n",
       "2. 'l10_seg_glm'\n",
       "3. 'l10_agg_glm'\n",
       "4. 'l10_seg2_rf'\n",
       "5. 'l10_seg_rf'\n",
       "6. 'l10_agg_rf'\n",
       "7. 'l10_seg2_glm_fb'\n",
       "8. 'l10_seg_glm_fb'\n",
       "9. 'l10_agg_glm_fb'\n",
       "10. 'l10_seg2_rf_fb'\n",
       "11. 'l10_seg_rf_fb'\n",
       "12. 'l10_agg_rf_fb'\n",
       "\n",
       "\n"
      ],
      "text/plain": [
       " [1] \"l10_seg2_glm\"    \"l10_seg_glm\"     \"l10_agg_glm\"     \"l10_seg2_rf\"    \n",
       " [5] \"l10_seg_rf\"      \"l10_agg_rf\"      \"l10_seg2_glm_fb\" \"l10_seg_glm_fb\" \n",
       " [9] \"l10_agg_glm_fb\"  \"l10_seg2_rf_fb\"  \"l10_seg_rf_fb\"   \"l10_agg_rf_fb\"  "
      ]
     },
     "metadata": {},
     "output_type": "display_data"
    },
    {
     "data": {
      "text/html": [
       "<table>\n",
       "<caption>A data.frame: 6 × 74</caption>\n",
       "<thead>\n",
       "\t<tr><th></th><th scope=col>tld_registrar_index</th><th scope=col>geo_maj</th><th scope=col>geo_cnt</th><th scope=col>n</th><th scope=col>ren_prp</th><th scope=col>tld_cnt</th><th scope=col>tld_rat</th><th scope=col>daydom_min</th><th scope=col>daydom_max</th><th scope=col>daydom_mean</th><th scope=col>daydom_rng</th><th scope=col>daydom_std</th><th scope=col>daydom_skew</th><th scope=col>daydom_kurt</th><th scope=col>sldlen_min</th><th scope=col>sldlen_max</th><th scope=col>sldlen_mean</th><th scope=col>sldlen_rng</th><th scope=col>sldlen_std</th><th scope=col>sldlen_skew</th><th scope=col>sldlen_kurt</th><th scope=col>gibbs_min</th><th scope=col>gibbs_max</th><th scope=col>gibbs_mean</th><th scope=col>gibbs_rng</th><th scope=col>⋯</th><th scope=col>l10_seg2_rf</th><th scope=col>l10_seg_rf</th><th scope=col>l10_agg_rf</th><th scope=col>auc_seg2_glm</th><th scope=col>auc_seg_glm</th><th scope=col>auc_agg_glm</th><th scope=col>auc_seg2_rf</th><th scope=col>auc_seg_rf</th><th scope=col>auc_agg_rf</th><th scope=col>l10_seg2_glm_fb</th><th scope=col>l10_seg_glm_fb</th><th scope=col>l10_agg_glm_fb</th><th scope=col>l10_seg2_rf_fb</th><th scope=col>l10_seg_rf_fb</th><th scope=col>l10_agg_rf_fb</th><th scope=col>auc_seg2_glm_fb</th><th scope=col>auc_seg_glm_fb</th><th scope=col>auc_agg_glm_fb</th><th scope=col>auc_seg2_rf_fb</th><th scope=col>auc_seg_rf_fb</th><th scope=col>auc_agg_rf_fb</th><th scope=col>auc_win_01</th><th scope=col>l10_win_01</th><th scope=col>auc_win_02</th><th scope=col>l10_win_02</th></tr>\n",
       "\t<tr><th></th><th scope=col>&lt;chr&gt;</th><th scope=col>&lt;fct&gt;</th><th scope=col>&lt;int&gt;</th><th scope=col>&lt;int&gt;</th><th scope=col>&lt;dbl&gt;</th><th scope=col>&lt;int&gt;</th><th scope=col>&lt;dbl&gt;</th><th scope=col>&lt;int&gt;</th><th scope=col>&lt;int&gt;</th><th scope=col>&lt;dbl&gt;</th><th scope=col>&lt;int&gt;</th><th scope=col>&lt;dbl&gt;</th><th scope=col>&lt;dbl&gt;</th><th scope=col>&lt;dbl&gt;</th><th scope=col>&lt;int&gt;</th><th scope=col>&lt;int&gt;</th><th scope=col>&lt;dbl&gt;</th><th scope=col>&lt;int&gt;</th><th scope=col>&lt;dbl&gt;</th><th scope=col>&lt;dbl&gt;</th><th scope=col>&lt;dbl&gt;</th><th scope=col>&lt;dbl&gt;</th><th scope=col>&lt;dbl&gt;</th><th scope=col>&lt;dbl&gt;</th><th scope=col>&lt;dbl&gt;</th><th scope=col>⋯</th><th scope=col>&lt;list&gt;</th><th scope=col>&lt;list&gt;</th><th scope=col>&lt;list&gt;</th><th scope=col>&lt;list&gt;</th><th scope=col>&lt;list&gt;</th><th scope=col>&lt;list&gt;</th><th scope=col>&lt;list&gt;</th><th scope=col>&lt;list&gt;</th><th scope=col>&lt;list&gt;</th><th scope=col>&lt;list&gt;</th><th scope=col>&lt;list&gt;</th><th scope=col>&lt;list&gt;</th><th scope=col>&lt;list&gt;</th><th scope=col>&lt;list&gt;</th><th scope=col>&lt;list&gt;</th><th scope=col>&lt;list&gt;</th><th scope=col>&lt;list&gt;</th><th scope=col>&lt;list&gt;</th><th scope=col>&lt;list&gt;</th><th scope=col>&lt;list&gt;</th><th scope=col>&lt;list&gt;</th><th scope=col>&lt;chr&gt;</th><th scope=col>&lt;chr&gt;</th><th scope=col>&lt;chr&gt;</th><th scope=col>&lt;chr&gt;</th></tr>\n",
       "</thead>\n",
       "<tbody>\n",
       "\t<tr><th scope=row>1</th><td><span style=white-space:pre-wrap>fun1&amp;1 internet    </span></td><td><span style=white-space:pre-wrap>EU   </span></td><td>1</td><td><span style=white-space:pre-wrap>    2</span></td><td>1.0000000</td><td>1</td><td>5.000000e-01</td><td>1</td><td><span style=white-space:pre-wrap>  1</span></td><td><span style=white-space:pre-wrap>  1.000000</span></td><td><span style=white-space:pre-wrap>  0</span></td><td><span style=white-space:pre-wrap>  0.000000</span></td><td><span style=white-space:pre-wrap>       NaN</span></td><td><span style=white-space:pre-wrap>      NaN</span></td><td>6</td><td> 9</td><td>7.500000</td><td> 3</td><td>2.121320</td><td>0.0000000</td><td>-2.7500000</td><td>2.23</td><td><span style=white-space:pre-wrap>  3.45</span></td><td>2.840000</td><td><span style=white-space:pre-wrap>  1.22</span></td><td>⋯</td><td>5</td><td>5</td><td>5</td><td>0.6</td><td>0.6</td><td>0.6</td><td>0.6</td><td>0.6</td><td>0.6</td><td>5</td><td>5</td><td>5</td><td>5</td><td>5</td><td>5</td><td>0.6</td><td>0.6</td><td>0.6</td><td>0.6</td><td>0.6</td><td>0.6</td><td>auc_seg2_glm_fb</td><td>l10_seg2_glm_fb</td><td>auc_seg2_glm</td><td>l10_seg2_glm</td></tr>\n",
       "\t<tr><th scope=row>2</th><td>fun10dencehispahard</td><td>EU   </td><td>1</td><td>    2</td><td>0.0000000</td><td>1</td><td>5.000000e-01</td><td>1</td><td>  1</td><td>  1.000000</td><td>  0</td><td>  0.000000</td><td>       NaN</td><td>      NaN</td><td>6</td><td> 8</td><td>7.000000</td><td> 2</td><td>1.414214</td><td>0.0000000</td><td>-2.7500000</td><td>3.13</td><td>  8.62</td><td>5.875000</td><td>  5.49</td><td>⋯</td><td>NaN</td><td>NaN</td><td>NaN</td><td>NaN</td><td>NaN</td><td>NaN</td><td>NaN</td><td>NaN</td><td>NaN</td><td>NaN</td><td>NaN</td><td>NaN</td><td>NaN</td><td>NaN</td><td>NaN</td><td>NaN</td><td>NaN</td><td>NaN</td><td>NaN</td><td>NaN</td><td>NaN</td><td>NA             </td><td>NA             </td><td>NA          </td><td>NA          </td></tr>\n",
       "\t<tr><th scope=row>3</th><td>fun1api            </td><td>EU   </td><td>1</td><td>    2</td><td>0.5000000</td><td>1</td><td>5.000000e-01</td><td>1</td><td>  1</td><td>  1.000000</td><td>  0</td><td>  0.000000</td><td>       NaN</td><td>      NaN</td><td>7</td><td> 7</td><td>7.000000</td><td> 0</td><td>0.000000</td><td>      NaN</td><td>       NaN</td><td>4.51</td><td>  6.09</td><td>5.300000</td><td>  1.58</td><td>⋯</td><td>10</td><td>10</td><td>0</td><td>0.25</td><td>0.25</td><td>0.25</td><td>0.95</td><td>0.95</td><td>0.25</td><td>0</td><td>0</td><td>0</td><td>10</td><td>10</td><td>0</td><td>0.25</td><td>0.25</td><td>0.25</td><td>0.95</td><td>0.95</td><td>0.25</td><td>auc_seg2_glm_fb</td><td>l10_seg2_glm_fb</td><td>auc_seg2_rf </td><td>l10_seg2_rf </td></tr>\n",
       "\t<tr><th scope=row>4</th><td>funactive 24       </td><td>EU   </td><td>1</td><td>   22</td><td>0.2272727</td><td>1</td><td>4.545455e-02</td><td>1</td><td>  3</td><td>  2.090909</td><td>  2</td><td>  1.019294</td><td>-0.1702685</td><td>-2.058471</td><td>4</td><td>14</td><td>7.363636</td><td>10</td><td>2.498484</td><td>0.8100072</td><td> 0.4123014</td><td>0.59</td><td>100.00</td><td>9.425000</td><td> 99.41</td><td>⋯</td><td>2</td><td>2</td><td>2</td><td>0.45</td><td>0.35</td><td>0.49</td><td>0.57</td><td>0.59</td><td>0.63</td><td>0</td><td>0</td><td>0</td><td>2</td><td>2</td><td>2</td><td>0.45</td><td>0.35</td><td>0.49</td><td>0.57</td><td>0.59</td><td>0.63</td><td>auc_agg_rf_fb  </td><td>l10_agg_rf_fb  </td><td>auc_agg_rf  </td><td>l10_seg2_rf </td></tr>\n",
       "\t<tr><th scope=row>5</th><td>funalibaba         </td><td>China</td><td>1</td><td>18208</td><td>0.0118080</td><td>1</td><td>5.492091e-05</td><td>1</td><td>705</td><td>219.892025</td><td>704</td><td>156.107008</td><td> 1.5055591</td><td> 2.301106</td><td>3</td><td>38</td><td>6.956832</td><td>35</td><td>3.311960</td><td>2.9556282</td><td>13.5354533</td><td>0.00</td><td>100.00</td><td>6.320069</td><td>100.00</td><td>⋯</td><td>5.813953</td><td>6</td><td>6.186047</td><td>0.8262791</td><td>0.8425581</td><td>0.8513953</td><td>0.8769767</td><td>0.877907</td><td>0.8793023</td><td>4.883721</td><td>5.302326</td><td>5.023256</td><td>5.813953</td><td>6</td><td>6.186047</td><td>0.8262791</td><td>0.8425581</td><td>0.8513953</td><td>0.8769767</td><td>0.877907</td><td>0.8793023</td><td>auc_agg_rf_fb  </td><td>l10_agg_rf_fb  </td><td>auc_agg_rf  </td><td>l10_agg_rf  </td></tr>\n",
       "\t<tr><th scope=row>6</th><td>funalibaba sg      </td><td>China</td><td>1</td><td>   16</td><td>0.0625000</td><td>1</td><td>6.250000e-02</td><td>1</td><td>  1</td><td>  1.000000</td><td>  0</td><td>  0.000000</td><td>       NaN</td><td>      NaN</td><td>4</td><td>13</td><td>7.375000</td><td> 9</td><td>2.604483</td><td>0.3561975</td><td>-0.8500916</td><td>0.24</td><td> 13.58</td><td>4.647500</td><td> 13.34</td><td>⋯</td><td>0</td><td>0</td><td>10</td><td>0.05</td><td>0.05</td><td>0.95</td><td>0.85</td><td>0.55</td><td>0.95</td><td>0</td><td>0</td><td>10</td><td>0</td><td>0</td><td>10</td><td>0.05</td><td>0.05</td><td>0.95</td><td>0.85</td><td>0.55</td><td>0.95</td><td>auc_agg_rf_fb  </td><td>l10_agg_rf_fb  </td><td>auc_agg_glm </td><td>l10_agg_glm </td></tr>\n",
       "</tbody>\n",
       "</table>\n"
      ],
      "text/latex": [
       "A data.frame: 6 × 74\n",
       "\\begin{tabular}{r|lllllllllllllllllllllllllllllllllllllllllllllllllll}\n",
       "  & tld\\_registrar\\_index & geo\\_maj & geo\\_cnt & n & ren\\_prp & tld\\_cnt & tld\\_rat & daydom\\_min & daydom\\_max & daydom\\_mean & daydom\\_rng & daydom\\_std & daydom\\_skew & daydom\\_kurt & sldlen\\_min & sldlen\\_max & sldlen\\_mean & sldlen\\_rng & sldlen\\_std & sldlen\\_skew & sldlen\\_kurt & gibbs\\_min & gibbs\\_max & gibbs\\_mean & gibbs\\_rng & ⋯ & l10\\_seg2\\_rf & l10\\_seg\\_rf & l10\\_agg\\_rf & auc\\_seg2\\_glm & auc\\_seg\\_glm & auc\\_agg\\_glm & auc\\_seg2\\_rf & auc\\_seg\\_rf & auc\\_agg\\_rf & l10\\_seg2\\_glm\\_fb & l10\\_seg\\_glm\\_fb & l10\\_agg\\_glm\\_fb & l10\\_seg2\\_rf\\_fb & l10\\_seg\\_rf\\_fb & l10\\_agg\\_rf\\_fb & auc\\_seg2\\_glm\\_fb & auc\\_seg\\_glm\\_fb & auc\\_agg\\_glm\\_fb & auc\\_seg2\\_rf\\_fb & auc\\_seg\\_rf\\_fb & auc\\_agg\\_rf\\_fb & auc\\_win\\_01 & l10\\_win\\_01 & auc\\_win\\_02 & l10\\_win\\_02\\\\\n",
       "  & <chr> & <fct> & <int> & <int> & <dbl> & <int> & <dbl> & <int> & <int> & <dbl> & <int> & <dbl> & <dbl> & <dbl> & <int> & <int> & <dbl> & <int> & <dbl> & <dbl> & <dbl> & <dbl> & <dbl> & <dbl> & <dbl> & ⋯ & <list> & <list> & <list> & <list> & <list> & <list> & <list> & <list> & <list> & <list> & <list> & <list> & <list> & <list> & <list> & <list> & <list> & <list> & <list> & <list> & <list> & <chr> & <chr> & <chr> & <chr>\\\\\n",
       "\\hline\n",
       "\t1 & fun1\\&1 internet     & EU    & 1 &     2 & 1.0000000 & 1 & 5.000000e-01 & 1 &   1 &   1.000000 &   0 &   0.000000 &        NaN &       NaN & 6 &  9 & 7.500000 &  3 & 2.121320 & 0.0000000 & -2.7500000 & 2.23 &   3.45 & 2.840000 &   1.22 & ⋯ & 5 & 5 & 5 & 0.6 & 0.6 & 0.6 & 0.6 & 0.6 & 0.6 & 5 & 5 & 5 & 5 & 5 & 5 & 0.6 & 0.6 & 0.6 & 0.6 & 0.6 & 0.6 & auc\\_seg2\\_glm\\_fb & l10\\_seg2\\_glm\\_fb & auc\\_seg2\\_glm & l10\\_seg2\\_glm\\\\\n",
       "\t2 & fun10dencehispahard & EU    & 1 &     2 & 0.0000000 & 1 & 5.000000e-01 & 1 &   1 &   1.000000 &   0 &   0.000000 &        NaN &       NaN & 6 &  8 & 7.000000 &  2 & 1.414214 & 0.0000000 & -2.7500000 & 3.13 &   8.62 & 5.875000 &   5.49 & ⋯ & NaN & NaN & NaN & NaN & NaN & NaN & NaN & NaN & NaN & NaN & NaN & NaN & NaN & NaN & NaN & NaN & NaN & NaN & NaN & NaN & NaN & NA              & NA              & NA           & NA          \\\\\n",
       "\t3 & fun1api             & EU    & 1 &     2 & 0.5000000 & 1 & 5.000000e-01 & 1 &   1 &   1.000000 &   0 &   0.000000 &        NaN &       NaN & 7 &  7 & 7.000000 &  0 & 0.000000 &       NaN &        NaN & 4.51 &   6.09 & 5.300000 &   1.58 & ⋯ & 10 & 10 & 0 & 0.25 & 0.25 & 0.25 & 0.95 & 0.95 & 0.25 & 0 & 0 & 0 & 10 & 10 & 0 & 0.25 & 0.25 & 0.25 & 0.95 & 0.95 & 0.25 & auc\\_seg2\\_glm\\_fb & l10\\_seg2\\_glm\\_fb & auc\\_seg2\\_rf  & l10\\_seg2\\_rf \\\\\n",
       "\t4 & funactive 24        & EU    & 1 &    22 & 0.2272727 & 1 & 4.545455e-02 & 1 &   3 &   2.090909 &   2 &   1.019294 & -0.1702685 & -2.058471 & 4 & 14 & 7.363636 & 10 & 2.498484 & 0.8100072 &  0.4123014 & 0.59 & 100.00 & 9.425000 &  99.41 & ⋯ & 2 & 2 & 2 & 0.45 & 0.35 & 0.49 & 0.57 & 0.59 & 0.63 & 0 & 0 & 0 & 2 & 2 & 2 & 0.45 & 0.35 & 0.49 & 0.57 & 0.59 & 0.63 & auc\\_agg\\_rf\\_fb   & l10\\_agg\\_rf\\_fb   & auc\\_agg\\_rf   & l10\\_seg2\\_rf \\\\\n",
       "\t5 & funalibaba          & China & 1 & 18208 & 0.0118080 & 1 & 5.492091e-05 & 1 & 705 & 219.892025 & 704 & 156.107008 &  1.5055591 &  2.301106 & 3 & 38 & 6.956832 & 35 & 3.311960 & 2.9556282 & 13.5354533 & 0.00 & 100.00 & 6.320069 & 100.00 & ⋯ & 5.813953 & 6 & 6.186047 & 0.8262791 & 0.8425581 & 0.8513953 & 0.8769767 & 0.877907 & 0.8793023 & 4.883721 & 5.302326 & 5.023256 & 5.813953 & 6 & 6.186047 & 0.8262791 & 0.8425581 & 0.8513953 & 0.8769767 & 0.877907 & 0.8793023 & auc\\_agg\\_rf\\_fb   & l10\\_agg\\_rf\\_fb   & auc\\_agg\\_rf   & l10\\_agg\\_rf  \\\\\n",
       "\t6 & funalibaba sg       & China & 1 &    16 & 0.0625000 & 1 & 6.250000e-02 & 1 &   1 &   1.000000 &   0 &   0.000000 &        NaN &       NaN & 4 & 13 & 7.375000 &  9 & 2.604483 & 0.3561975 & -0.8500916 & 0.24 &  13.58 & 4.647500 &  13.34 & ⋯ & 0 & 0 & 10 & 0.05 & 0.05 & 0.95 & 0.85 & 0.55 & 0.95 & 0 & 0 & 10 & 0 & 0 & 10 & 0.05 & 0.05 & 0.95 & 0.85 & 0.55 & 0.95 & auc\\_agg\\_rf\\_fb   & l10\\_agg\\_rf\\_fb   & auc\\_agg\\_glm  & l10\\_agg\\_glm \\\\\n",
       "\\end{tabular}\n"
      ],
      "text/markdown": [
       "\n",
       "A data.frame: 6 × 74\n",
       "\n",
       "| <!--/--> | tld_registrar_index &lt;chr&gt; | geo_maj &lt;fct&gt; | geo_cnt &lt;int&gt; | n &lt;int&gt; | ren_prp &lt;dbl&gt; | tld_cnt &lt;int&gt; | tld_rat &lt;dbl&gt; | daydom_min &lt;int&gt; | daydom_max &lt;int&gt; | daydom_mean &lt;dbl&gt; | daydom_rng &lt;int&gt; | daydom_std &lt;dbl&gt; | daydom_skew &lt;dbl&gt; | daydom_kurt &lt;dbl&gt; | sldlen_min &lt;int&gt; | sldlen_max &lt;int&gt; | sldlen_mean &lt;dbl&gt; | sldlen_rng &lt;int&gt; | sldlen_std &lt;dbl&gt; | sldlen_skew &lt;dbl&gt; | sldlen_kurt &lt;dbl&gt; | gibbs_min &lt;dbl&gt; | gibbs_max &lt;dbl&gt; | gibbs_mean &lt;dbl&gt; | gibbs_rng &lt;dbl&gt; | ⋯ ⋯ | l10_seg2_rf &lt;list&gt; | l10_seg_rf &lt;list&gt; | l10_agg_rf &lt;list&gt; | auc_seg2_glm &lt;list&gt; | auc_seg_glm &lt;list&gt; | auc_agg_glm &lt;list&gt; | auc_seg2_rf &lt;list&gt; | auc_seg_rf &lt;list&gt; | auc_agg_rf &lt;list&gt; | l10_seg2_glm_fb &lt;list&gt; | l10_seg_glm_fb &lt;list&gt; | l10_agg_glm_fb &lt;list&gt; | l10_seg2_rf_fb &lt;list&gt; | l10_seg_rf_fb &lt;list&gt; | l10_agg_rf_fb &lt;list&gt; | auc_seg2_glm_fb &lt;list&gt; | auc_seg_glm_fb &lt;list&gt; | auc_agg_glm_fb &lt;list&gt; | auc_seg2_rf_fb &lt;list&gt; | auc_seg_rf_fb &lt;list&gt; | auc_agg_rf_fb &lt;list&gt; | auc_win_01 &lt;chr&gt; | l10_win_01 &lt;chr&gt; | auc_win_02 &lt;chr&gt; | l10_win_02 &lt;chr&gt; |\n",
       "|---|---|---|---|---|---|---|---|---|---|---|---|---|---|---|---|---|---|---|---|---|---|---|---|---|---|---|---|---|---|---|---|---|---|---|---|---|---|---|---|---|---|---|---|---|---|---|---|---|---|---|---|\n",
       "| 1 | fun1&amp;1 internet     | EU    | 1 |     2 | 1.0000000 | 1 | 5.000000e-01 | 1 |   1 |   1.000000 |   0 |   0.000000 |        NaN |       NaN | 6 |  9 | 7.500000 |  3 | 2.121320 | 0.0000000 | -2.7500000 | 2.23 |   3.45 | 2.840000 |   1.22 | ⋯ | 5 | 5 | 5 | 0.6 | 0.6 | 0.6 | 0.6 | 0.6 | 0.6 | 5 | 5 | 5 | 5 | 5 | 5 | 0.6 | 0.6 | 0.6 | 0.6 | 0.6 | 0.6 | auc_seg2_glm_fb | l10_seg2_glm_fb | auc_seg2_glm | l10_seg2_glm |\n",
       "| 2 | fun10dencehispahard | EU    | 1 |     2 | 0.0000000 | 1 | 5.000000e-01 | 1 |   1 |   1.000000 |   0 |   0.000000 |        NaN |       NaN | 6 |  8 | 7.000000 |  2 | 1.414214 | 0.0000000 | -2.7500000 | 3.13 |   8.62 | 5.875000 |   5.49 | ⋯ | NaN | NaN | NaN | NaN | NaN | NaN | NaN | NaN | NaN | NaN | NaN | NaN | NaN | NaN | NaN | NaN | NaN | NaN | NaN | NaN | NaN | NA              | NA              | NA           | NA           |\n",
       "| 3 | fun1api             | EU    | 1 |     2 | 0.5000000 | 1 | 5.000000e-01 | 1 |   1 |   1.000000 |   0 |   0.000000 |        NaN |       NaN | 7 |  7 | 7.000000 |  0 | 0.000000 |       NaN |        NaN | 4.51 |   6.09 | 5.300000 |   1.58 | ⋯ | 10 | 10 | 0 | 0.25 | 0.25 | 0.25 | 0.95 | 0.95 | 0.25 | 0 | 0 | 0 | 10 | 10 | 0 | 0.25 | 0.25 | 0.25 | 0.95 | 0.95 | 0.25 | auc_seg2_glm_fb | l10_seg2_glm_fb | auc_seg2_rf  | l10_seg2_rf  |\n",
       "| 4 | funactive 24        | EU    | 1 |    22 | 0.2272727 | 1 | 4.545455e-02 | 1 |   3 |   2.090909 |   2 |   1.019294 | -0.1702685 | -2.058471 | 4 | 14 | 7.363636 | 10 | 2.498484 | 0.8100072 |  0.4123014 | 0.59 | 100.00 | 9.425000 |  99.41 | ⋯ | 2 | 2 | 2 | 0.45 | 0.35 | 0.49 | 0.57 | 0.59 | 0.63 | 0 | 0 | 0 | 2 | 2 | 2 | 0.45 | 0.35 | 0.49 | 0.57 | 0.59 | 0.63 | auc_agg_rf_fb   | l10_agg_rf_fb   | auc_agg_rf   | l10_seg2_rf  |\n",
       "| 5 | funalibaba          | China | 1 | 18208 | 0.0118080 | 1 | 5.492091e-05 | 1 | 705 | 219.892025 | 704 | 156.107008 |  1.5055591 |  2.301106 | 3 | 38 | 6.956832 | 35 | 3.311960 | 2.9556282 | 13.5354533 | 0.00 | 100.00 | 6.320069 | 100.00 | ⋯ | 5.813953 | 6 | 6.186047 | 0.8262791 | 0.8425581 | 0.8513953 | 0.8769767 | 0.877907 | 0.8793023 | 4.883721 | 5.302326 | 5.023256 | 5.813953 | 6 | 6.186047 | 0.8262791 | 0.8425581 | 0.8513953 | 0.8769767 | 0.877907 | 0.8793023 | auc_agg_rf_fb   | l10_agg_rf_fb   | auc_agg_rf   | l10_agg_rf   |\n",
       "| 6 | funalibaba sg       | China | 1 |    16 | 0.0625000 | 1 | 6.250000e-02 | 1 |   1 |   1.000000 |   0 |   0.000000 |        NaN |       NaN | 4 | 13 | 7.375000 |  9 | 2.604483 | 0.3561975 | -0.8500916 | 0.24 |  13.58 | 4.647500 |  13.34 | ⋯ | 0 | 0 | 10 | 0.05 | 0.05 | 0.95 | 0.85 | 0.55 | 0.95 | 0 | 0 | 10 | 0 | 0 | 10 | 0.05 | 0.05 | 0.95 | 0.85 | 0.55 | 0.95 | auc_agg_rf_fb   | l10_agg_rf_fb   | auc_agg_glm  | l10_agg_glm  |\n",
       "\n"
      ],
      "text/plain": [
       "  tld_registrar_index geo_maj geo_cnt n     ren_prp   tld_cnt tld_rat     \n",
       "1 fun1&1 internet     EU      1           2 1.0000000 1       5.000000e-01\n",
       "2 fun10dencehispahard EU      1           2 0.0000000 1       5.000000e-01\n",
       "3 fun1api             EU      1           2 0.5000000 1       5.000000e-01\n",
       "4 funactive 24        EU      1          22 0.2272727 1       4.545455e-02\n",
       "5 funalibaba          China   1       18208 0.0118080 1       5.492091e-05\n",
       "6 funalibaba sg       China   1          16 0.0625000 1       6.250000e-02\n",
       "  daydom_min daydom_max daydom_mean daydom_rng daydom_std daydom_skew\n",
       "1 1            1          1.000000    0          0.000000        NaN \n",
       "2 1            1          1.000000    0          0.000000        NaN \n",
       "3 1            1          1.000000    0          0.000000        NaN \n",
       "4 1            3          2.090909    2          1.019294 -0.1702685 \n",
       "5 1          705        219.892025  704        156.107008  1.5055591 \n",
       "6 1            1          1.000000    0          0.000000        NaN \n",
       "  daydom_kurt sldlen_min sldlen_max sldlen_mean sldlen_rng sldlen_std\n",
       "1       NaN   6           9         7.500000     3         2.121320  \n",
       "2       NaN   6           8         7.000000     2         1.414214  \n",
       "3       NaN   7           7         7.000000     0         0.000000  \n",
       "4 -2.058471   4          14         7.363636    10         2.498484  \n",
       "5  2.301106   3          38         6.956832    35         3.311960  \n",
       "6       NaN   4          13         7.375000     9         2.604483  \n",
       "  sldlen_skew sldlen_kurt gibbs_min gibbs_max gibbs_mean gibbs_rng ⋯\n",
       "1 0.0000000   -2.7500000  2.23        3.45    2.840000     1.22    ⋯\n",
       "2 0.0000000   -2.7500000  3.13        8.62    5.875000     5.49    ⋯\n",
       "3       NaN          NaN  4.51        6.09    5.300000     1.58    ⋯\n",
       "4 0.8100072    0.4123014  0.59      100.00    9.425000    99.41    ⋯\n",
       "5 2.9556282   13.5354533  0.00      100.00    6.320069   100.00    ⋯\n",
       "6 0.3561975   -0.8500916  0.24       13.58    4.647500    13.34    ⋯\n",
       "  l10_seg2_rf l10_seg_rf l10_agg_rf auc_seg2_glm auc_seg_glm auc_agg_glm\n",
       "1 5           5          5          0.6          0.6         0.6        \n",
       "2 NaN         NaN        NaN        NaN          NaN         NaN        \n",
       "3 10          10         0          0.25         0.25        0.25       \n",
       "4 2           2          2          0.45         0.35        0.49       \n",
       "5 5.813953    6          6.186047   0.8262791    0.8425581   0.8513953  \n",
       "6 0           0          10         0.05         0.05        0.95       \n",
       "  auc_seg2_rf auc_seg_rf auc_agg_rf l10_seg2_glm_fb l10_seg_glm_fb\n",
       "1 0.6         0.6        0.6        5               5             \n",
       "2 NaN         NaN        NaN        NaN             NaN           \n",
       "3 0.95        0.95       0.25       0               0             \n",
       "4 0.57        0.59       0.63       0               0             \n",
       "5 0.8769767   0.877907   0.8793023  4.883721        5.302326      \n",
       "6 0.85        0.55       0.95       0               0             \n",
       "  l10_agg_glm_fb l10_seg2_rf_fb l10_seg_rf_fb l10_agg_rf_fb auc_seg2_glm_fb\n",
       "1 5              5              5             5             0.6            \n",
       "2 NaN            NaN            NaN           NaN           NaN            \n",
       "3 0              10             10            0             0.25           \n",
       "4 0              2              2             2             0.45           \n",
       "5 5.023256       5.813953       6             6.186047      0.8262791      \n",
       "6 10             0              0             10            0.05           \n",
       "  auc_seg_glm_fb auc_agg_glm_fb auc_seg2_rf_fb auc_seg_rf_fb auc_agg_rf_fb\n",
       "1 0.6            0.6            0.6            0.6           0.6          \n",
       "2 NaN            NaN            NaN            NaN           NaN          \n",
       "3 0.25           0.25           0.95           0.95          0.25         \n",
       "4 0.35           0.49           0.57           0.59          0.63         \n",
       "5 0.8425581      0.8513953      0.8769767      0.877907      0.8793023    \n",
       "6 0.05           0.95           0.85           0.55          0.95         \n",
       "  auc_win_01      l10_win_01      auc_win_02   l10_win_02  \n",
       "1 auc_seg2_glm_fb l10_seg2_glm_fb auc_seg2_glm l10_seg2_glm\n",
       "2 NA              NA              NA           NA          \n",
       "3 auc_seg2_glm_fb l10_seg2_glm_fb auc_seg2_rf  l10_seg2_rf \n",
       "4 auc_agg_rf_fb   l10_agg_rf_fb   auc_agg_rf   l10_seg2_rf \n",
       "5 auc_agg_rf_fb   l10_agg_rf_fb   auc_agg_rf   l10_agg_rf  \n",
       "6 auc_agg_rf_fb   l10_agg_rf_fb   auc_agg_glm  l10_agg_glm "
      ]
     },
     "metadata": {},
     "output_type": "display_data"
    }
   ],
   "source": [
    "(auc_vars = grep('auc_', names(expiry_test_metametrics), value=TRUE))\n",
    "(l10_vars = grep('l10_', names(expiry_test_metametrics), value=TRUE))\n",
    "\n",
    "(auc_vars = auc_vars[-grep(\"win\", auc_vars)])\n",
    "(l10_vars = l10_vars[-grep(\"win\", l10_vars)])\n",
    "\n",
    "# auc_vars = c('auc_seg2_glm_fb','auc_agg_rf_fb')\n",
    "# l10_vars = c('l10_seg2_glm_fb','l10_agg_rf_fb')\n",
    "\n",
    "expiry_test_metametrics <- expiry_test_metametrics %>%\n",
    "    mutate (auc_win_02=sapply(apply(.[,c(auc_vars)], \n",
    "                          1, function(x) names(x)[which.max(x)]) , function(s) if (length(s) == 0) NA else paste(s, collapse = \" \")) ,\n",
    "            l10_win_02=sapply(apply(.[,c(l10_vars)], \n",
    "                          1, function(x) names(x)[which.max(x)]), function(s) if (length(s) == 0) NA else paste(s, collapse = \" \")) \n",
    "            ) \n",
    "                              \n",
    "head(expiry_test_metametrics)"
   ]
  },
  {
   "cell_type": "code",
   "execution_count": 84,
   "metadata": {},
   "outputs": [
    {
     "data": {
      "text/plain": [
       "\n",
       "    auc_agg_glm      auc_agg_rf     auc_seg_glm      auc_seg_rf    auc_seg2_glm \n",
       "            148              94             177             119             469 \n",
       "auc_seg2_glm_fb     auc_seg2_rf \n",
       "              3              88 "
      ]
     },
     "metadata": {},
     "output_type": "display_data"
    },
    {
     "data": {
      "text/plain": [
       "\n",
       "    l10_agg_glm      l10_agg_rf     l10_seg_glm      l10_seg_rf    l10_seg2_glm \n",
       "            116              38             157              52             637 \n",
       "l10_seg2_glm_fb     l10_seg2_rf \n",
       "              1              97 "
      ]
     },
     "metadata": {},
     "output_type": "display_data"
    }
   ],
   "source": [
    "table(expiry_test_metametrics$auc_win_02)\n",
    "table(expiry_test_metametrics$l10_win_02)"
   ]
  },
  {
   "cell_type": "code",
   "execution_count": 85,
   "metadata": {},
   "outputs": [],
   "source": [
    "# expiry_test_metametrics %>% \n",
    "#     group_by(auc_win_02) %>%\n",
    "#     tally() %>%\n",
    "#     arrange(desc(n))\n",
    "\n",
    "# expiry_test_metametrics %>% \n",
    "#     group_by(l10_win_02) %>%\n",
    "#     tally() %>%\n",
    "#     arrange(desc(n))"
   ]
  },
  {
   "cell_type": "code",
   "execution_count": 86,
   "metadata": {},
   "outputs": [
    {
     "data": {
      "text/html": [
       "<table>\n",
       "<caption>A data.frame: 3 × 12</caption>\n",
       "<thead>\n",
       "\t<tr><th scope=col>auc_seg2_glm</th><th scope=col>auc_seg_glm</th><th scope=col>auc_agg_glm</th><th scope=col>auc_seg2_rf</th><th scope=col>auc_seg_rf</th><th scope=col>auc_agg_rf</th><th scope=col>auc_seg2_glm_fb</th><th scope=col>auc_seg_glm_fb</th><th scope=col>auc_agg_glm_fb</th><th scope=col>auc_seg2_rf_fb</th><th scope=col>auc_seg_rf_fb</th><th scope=col>auc_agg_rf_fb</th></tr>\n",
       "\t<tr><th scope=col>&lt;list&gt;</th><th scope=col>&lt;list&gt;</th><th scope=col>&lt;list&gt;</th><th scope=col>&lt;list&gt;</th><th scope=col>&lt;list&gt;</th><th scope=col>&lt;list&gt;</th><th scope=col>&lt;list&gt;</th><th scope=col>&lt;list&gt;</th><th scope=col>&lt;list&gt;</th><th scope=col>&lt;list&gt;</th><th scope=col>&lt;list&gt;</th><th scope=col>&lt;list&gt;</th></tr>\n",
       "</thead>\n",
       "<tbody>\n",
       "\t<tr><td>0.45</td><td>0.475</td><td>0.475</td><td>0.375</td><td>0.375</td><td>0.325</td><td>0.55</td><td>0.475</td><td>0.475</td><td>0.375</td><td>0.375</td><td>0.325</td></tr>\n",
       "\t<tr><td>0.4642857</td><td>0.4928571</td><td>0.4928571</td><td>0.4642857</td><td>0.4928571</td><td>0.4928571</td><td>0.5785714</td><td>0.4928571</td><td>0.4928571</td><td>0.4642857</td><td>0.4928571</td><td>0.4928571</td></tr>\n",
       "\t<tr><td>0.15</td><td>0.25</td><td>0.4</td><td>0.5</td><td>0.5</td><td>0.5</td><td>0.55</td><td>0.25</td><td>0.4</td><td>0.5</td><td>0.5</td><td>0.5</td></tr>\n",
       "</tbody>\n",
       "</table>\n"
      ],
      "text/latex": [
       "A data.frame: 3 × 12\n",
       "\\begin{tabular}{llllllllllll}\n",
       " auc\\_seg2\\_glm & auc\\_seg\\_glm & auc\\_agg\\_glm & auc\\_seg2\\_rf & auc\\_seg\\_rf & auc\\_agg\\_rf & auc\\_seg2\\_glm\\_fb & auc\\_seg\\_glm\\_fb & auc\\_agg\\_glm\\_fb & auc\\_seg2\\_rf\\_fb & auc\\_seg\\_rf\\_fb & auc\\_agg\\_rf\\_fb\\\\\n",
       " <list> & <list> & <list> & <list> & <list> & <list> & <list> & <list> & <list> & <list> & <list> & <list>\\\\\n",
       "\\hline\n",
       "\t 0.45 & 0.475 & 0.475 & 0.375 & 0.375 & 0.325 & 0.55 & 0.475 & 0.475 & 0.375 & 0.375 & 0.325\\\\\n",
       "\t 0.4642857 & 0.4928571 & 0.4928571 & 0.4642857 & 0.4928571 & 0.4928571 & 0.5785714 & 0.4928571 & 0.4928571 & 0.4642857 & 0.4928571 & 0.4928571\\\\\n",
       "\t 0.15 & 0.25 & 0.4 & 0.5 & 0.5 & 0.5 & 0.55 & 0.25 & 0.4 & 0.5 & 0.5 & 0.5\\\\\n",
       "\\end{tabular}\n"
      ],
      "text/markdown": [
       "\n",
       "A data.frame: 3 × 12\n",
       "\n",
       "| auc_seg2_glm &lt;list&gt; | auc_seg_glm &lt;list&gt; | auc_agg_glm &lt;list&gt; | auc_seg2_rf &lt;list&gt; | auc_seg_rf &lt;list&gt; | auc_agg_rf &lt;list&gt; | auc_seg2_glm_fb &lt;list&gt; | auc_seg_glm_fb &lt;list&gt; | auc_agg_glm_fb &lt;list&gt; | auc_seg2_rf_fb &lt;list&gt; | auc_seg_rf_fb &lt;list&gt; | auc_agg_rf_fb &lt;list&gt; |\n",
       "|---|---|---|---|---|---|---|---|---|---|---|---|\n",
       "| 0.45 | 0.475 | 0.475 | 0.375 | 0.375 | 0.325 | 0.55 | 0.475 | 0.475 | 0.375 | 0.375 | 0.325 |\n",
       "| 0.4642857 | 0.4928571 | 0.4928571 | 0.4642857 | 0.4928571 | 0.4928571 | 0.5785714 | 0.4928571 | 0.4928571 | 0.4642857 | 0.4928571 | 0.4928571 |\n",
       "| 0.15 | 0.25 | 0.4 | 0.5 | 0.5 | 0.5 | 0.55 | 0.25 | 0.4 | 0.5 | 0.5 | 0.5 |\n",
       "\n"
      ],
      "text/plain": [
       "  auc_seg2_glm auc_seg_glm auc_agg_glm auc_seg2_rf auc_seg_rf auc_agg_rf\n",
       "1 0.45         0.475       0.475       0.375       0.375      0.325     \n",
       "2 0.4642857    0.4928571   0.4928571   0.4642857   0.4928571  0.4928571 \n",
       "3 0.15         0.25        0.4         0.5         0.5        0.5       \n",
       "  auc_seg2_glm_fb auc_seg_glm_fb auc_agg_glm_fb auc_seg2_rf_fb auc_seg_rf_fb\n",
       "1 0.55            0.475          0.475          0.375          0.375        \n",
       "2 0.5785714       0.4928571      0.4928571      0.4642857      0.4928571    \n",
       "3 0.55            0.25           0.4            0.5            0.5          \n",
       "  auc_agg_rf_fb\n",
       "1 0.325        \n",
       "2 0.4928571    \n",
       "3 0.5          "
      ]
     },
     "metadata": {},
     "output_type": "display_data"
    },
    {
     "data": {
      "text/html": [
       "<table>\n",
       "<caption>A data.frame: 1 × 12</caption>\n",
       "<thead>\n",
       "\t<tr><th scope=col>auc_seg2_glm</th><th scope=col>auc_seg_glm</th><th scope=col>auc_agg_glm</th><th scope=col>auc_seg2_rf</th><th scope=col>auc_seg_rf</th><th scope=col>auc_agg_rf</th><th scope=col>auc_seg2_glm_fb</th><th scope=col>auc_seg_glm_fb</th><th scope=col>auc_agg_glm_fb</th><th scope=col>auc_seg2_rf_fb</th><th scope=col>auc_seg_rf_fb</th><th scope=col>auc_agg_rf_fb</th></tr>\n",
       "\t<tr><th scope=col>&lt;list&gt;</th><th scope=col>&lt;list&gt;</th><th scope=col>&lt;list&gt;</th><th scope=col>&lt;list&gt;</th><th scope=col>&lt;list&gt;</th><th scope=col>&lt;list&gt;</th><th scope=col>&lt;list&gt;</th><th scope=col>&lt;list&gt;</th><th scope=col>&lt;list&gt;</th><th scope=col>&lt;list&gt;</th><th scope=col>&lt;list&gt;</th><th scope=col>&lt;list&gt;</th></tr>\n",
       "</thead>\n",
       "<tbody>\n",
       "\t<tr><td>0.4642857</td><td>0.4928571</td><td>0.4928571</td><td>0.4642857</td><td>0.4928571</td><td>0.4928571</td><td>0.5785714</td><td>0.4928571</td><td>0.4928571</td><td>0.4642857</td><td>0.4928571</td><td>0.4928571</td></tr>\n",
       "</tbody>\n",
       "</table>\n"
      ],
      "text/latex": [
       "A data.frame: 1 × 12\n",
       "\\begin{tabular}{llllllllllll}\n",
       " auc\\_seg2\\_glm & auc\\_seg\\_glm & auc\\_agg\\_glm & auc\\_seg2\\_rf & auc\\_seg\\_rf & auc\\_agg\\_rf & auc\\_seg2\\_glm\\_fb & auc\\_seg\\_glm\\_fb & auc\\_agg\\_glm\\_fb & auc\\_seg2\\_rf\\_fb & auc\\_seg\\_rf\\_fb & auc\\_agg\\_rf\\_fb\\\\\n",
       " <list> & <list> & <list> & <list> & <list> & <list> & <list> & <list> & <list> & <list> & <list> & <list>\\\\\n",
       "\\hline\n",
       "\t 0.4642857 & 0.4928571 & 0.4928571 & 0.4642857 & 0.4928571 & 0.4928571 & 0.5785714 & 0.4928571 & 0.4928571 & 0.4642857 & 0.4928571 & 0.4928571\\\\\n",
       "\\end{tabular}\n"
      ],
      "text/markdown": [
       "\n",
       "A data.frame: 1 × 12\n",
       "\n",
       "| auc_seg2_glm &lt;list&gt; | auc_seg_glm &lt;list&gt; | auc_agg_glm &lt;list&gt; | auc_seg2_rf &lt;list&gt; | auc_seg_rf &lt;list&gt; | auc_agg_rf &lt;list&gt; | auc_seg2_glm_fb &lt;list&gt; | auc_seg_glm_fb &lt;list&gt; | auc_agg_glm_fb &lt;list&gt; | auc_seg2_rf_fb &lt;list&gt; | auc_seg_rf_fb &lt;list&gt; | auc_agg_rf_fb &lt;list&gt; |\n",
       "|---|---|---|---|---|---|---|---|---|---|---|---|\n",
       "| 0.4642857 | 0.4928571 | 0.4928571 | 0.4642857 | 0.4928571 | 0.4928571 | 0.5785714 | 0.4928571 | 0.4928571 | 0.4642857 | 0.4928571 | 0.4928571 |\n",
       "\n"
      ],
      "text/plain": [
       "  auc_seg2_glm auc_seg_glm auc_agg_glm auc_seg2_rf auc_seg_rf auc_agg_rf\n",
       "1 0.4642857    0.4928571   0.4928571   0.4642857   0.4928571  0.4928571 \n",
       "  auc_seg2_glm_fb auc_seg_glm_fb auc_agg_glm_fb auc_seg2_rf_fb auc_seg_rf_fb\n",
       "1 0.5785714       0.4928571      0.4928571      0.4642857      0.4928571    \n",
       "  auc_agg_rf_fb\n",
       "1 0.4928571    "
      ]
     },
     "metadata": {},
     "output_type": "display_data"
    }
   ],
   "source": [
    "# Interesting that in 3 (1) cases, the fallback version outperforms original version of seg2_glm\n",
    "# But these are all cases where the models tied and which.max simply picked the first index\n",
    "expiry_test_metametrics %>% filter(auc_win_02 == 'auc_seg2_glm_fb') %>% select(auc_vars)\n",
    "expiry_test_metametrics %>% filter(l10_win_02 == 'l10_seg2_glm_fb') %>% select(auc_vars)"
   ]
  },
  {
   "cell_type": "code",
   "execution_count": 88,
   "metadata": {},
   "outputs": [
    {
     "data": {
      "text/html": [
       "<style>\n",
       ".list-inline {list-style: none; margin:0; padding: 0}\n",
       ".list-inline>li {display: inline-block}\n",
       ".list-inline>li:not(:last-child)::after {content: \"\\00b7\"; padding: 0 .5ex}\n",
       "</style>\n",
       "<ol class=list-inline><li>'auc_seg2_glm'</li><li>'auc_seg2_glm_fb'</li></ol>\n"
      ],
      "text/latex": [
       "\\begin{enumerate*}\n",
       "\\item 'auc\\_seg2\\_glm'\n",
       "\\item 'auc\\_seg2\\_glm\\_fb'\n",
       "\\end{enumerate*}\n"
      ],
      "text/markdown": [
       "1. 'auc_seg2_glm'\n",
       "2. 'auc_seg2_glm_fb'\n",
       "\n",
       "\n"
      ],
      "text/plain": [
       "[1] \"auc_seg2_glm\"    \"auc_seg2_glm_fb\""
      ]
     },
     "metadata": {},
     "output_type": "display_data"
    },
    {
     "data": {
      "text/html": [
       "<style>\n",
       ".list-inline {list-style: none; margin:0; padding: 0}\n",
       ".list-inline>li {display: inline-block}\n",
       ".list-inline>li:not(:last-child)::after {content: \"\\00b7\"; padding: 0 .5ex}\n",
       "</style>\n",
       "<ol class=list-inline><li>'l10_seg2_glm'</li><li>'l10_seg2_glm_fb'</li></ol>\n"
      ],
      "text/latex": [
       "\\begin{enumerate*}\n",
       "\\item 'l10\\_seg2\\_glm'\n",
       "\\item 'l10\\_seg2\\_glm\\_fb'\n",
       "\\end{enumerate*}\n"
      ],
      "text/markdown": [
       "1. 'l10_seg2_glm'\n",
       "2. 'l10_seg2_glm_fb'\n",
       "\n",
       "\n"
      ],
      "text/plain": [
       "[1] \"l10_seg2_glm\"    \"l10_seg2_glm_fb\""
      ]
     },
     "metadata": {},
     "output_type": "display_data"
    },
    {
     "data": {
      "text/html": [
       "<table>\n",
       "<caption>A data.frame: 6 × 76</caption>\n",
       "<thead>\n",
       "\t<tr><th></th><th scope=col>tld_registrar_index</th><th scope=col>geo_maj</th><th scope=col>geo_cnt</th><th scope=col>n</th><th scope=col>ren_prp</th><th scope=col>tld_cnt</th><th scope=col>tld_rat</th><th scope=col>daydom_min</th><th scope=col>daydom_max</th><th scope=col>daydom_mean</th><th scope=col>daydom_rng</th><th scope=col>daydom_std</th><th scope=col>daydom_skew</th><th scope=col>daydom_kurt</th><th scope=col>sldlen_min</th><th scope=col>sldlen_max</th><th scope=col>sldlen_mean</th><th scope=col>sldlen_rng</th><th scope=col>sldlen_std</th><th scope=col>sldlen_skew</th><th scope=col>sldlen_kurt</th><th scope=col>gibbs_min</th><th scope=col>gibbs_max</th><th scope=col>gibbs_mean</th><th scope=col>gibbs_rng</th><th scope=col>⋯</th><th scope=col>l10_agg_rf</th><th scope=col>auc_seg2_glm</th><th scope=col>auc_seg_glm</th><th scope=col>auc_agg_glm</th><th scope=col>auc_seg2_rf</th><th scope=col>auc_seg_rf</th><th scope=col>auc_agg_rf</th><th scope=col>l10_seg2_glm_fb</th><th scope=col>l10_seg_glm_fb</th><th scope=col>l10_agg_glm_fb</th><th scope=col>l10_seg2_rf_fb</th><th scope=col>l10_seg_rf_fb</th><th scope=col>l10_agg_rf_fb</th><th scope=col>auc_seg2_glm_fb</th><th scope=col>auc_seg_glm_fb</th><th scope=col>auc_agg_glm_fb</th><th scope=col>auc_seg2_rf_fb</th><th scope=col>auc_seg_rf_fb</th><th scope=col>auc_agg_rf_fb</th><th scope=col>auc_win_01</th><th scope=col>l10_win_01</th><th scope=col>auc_win_02</th><th scope=col>l10_win_02</th><th scope=col>auc_win_03</th><th scope=col>l10_win_03</th></tr>\n",
       "\t<tr><th></th><th scope=col>&lt;chr&gt;</th><th scope=col>&lt;fct&gt;</th><th scope=col>&lt;int&gt;</th><th scope=col>&lt;int&gt;</th><th scope=col>&lt;dbl&gt;</th><th scope=col>&lt;int&gt;</th><th scope=col>&lt;dbl&gt;</th><th scope=col>&lt;int&gt;</th><th scope=col>&lt;int&gt;</th><th scope=col>&lt;dbl&gt;</th><th scope=col>&lt;int&gt;</th><th scope=col>&lt;dbl&gt;</th><th scope=col>&lt;dbl&gt;</th><th scope=col>&lt;dbl&gt;</th><th scope=col>&lt;int&gt;</th><th scope=col>&lt;int&gt;</th><th scope=col>&lt;dbl&gt;</th><th scope=col>&lt;int&gt;</th><th scope=col>&lt;dbl&gt;</th><th scope=col>&lt;dbl&gt;</th><th scope=col>&lt;dbl&gt;</th><th scope=col>&lt;dbl&gt;</th><th scope=col>&lt;dbl&gt;</th><th scope=col>&lt;dbl&gt;</th><th scope=col>&lt;dbl&gt;</th><th scope=col>⋯</th><th scope=col>&lt;list&gt;</th><th scope=col>&lt;list&gt;</th><th scope=col>&lt;list&gt;</th><th scope=col>&lt;list&gt;</th><th scope=col>&lt;list&gt;</th><th scope=col>&lt;list&gt;</th><th scope=col>&lt;list&gt;</th><th scope=col>&lt;list&gt;</th><th scope=col>&lt;list&gt;</th><th scope=col>&lt;list&gt;</th><th scope=col>&lt;list&gt;</th><th scope=col>&lt;list&gt;</th><th scope=col>&lt;list&gt;</th><th scope=col>&lt;list&gt;</th><th scope=col>&lt;list&gt;</th><th scope=col>&lt;list&gt;</th><th scope=col>&lt;list&gt;</th><th scope=col>&lt;list&gt;</th><th scope=col>&lt;list&gt;</th><th scope=col>&lt;chr&gt;</th><th scope=col>&lt;chr&gt;</th><th scope=col>&lt;chr&gt;</th><th scope=col>&lt;chr&gt;</th><th scope=col>&lt;chr&gt;</th><th scope=col>&lt;chr&gt;</th></tr>\n",
       "</thead>\n",
       "<tbody>\n",
       "\t<tr><th scope=row>1</th><td><span style=white-space:pre-wrap>fun1&amp;1 internet    </span></td><td><span style=white-space:pre-wrap>EU   </span></td><td>1</td><td><span style=white-space:pre-wrap>    2</span></td><td>1.0000000</td><td>1</td><td>5.000000e-01</td><td>1</td><td><span style=white-space:pre-wrap>  1</span></td><td><span style=white-space:pre-wrap>  1.000000</span></td><td><span style=white-space:pre-wrap>  0</span></td><td><span style=white-space:pre-wrap>  0.000000</span></td><td><span style=white-space:pre-wrap>       NaN</span></td><td><span style=white-space:pre-wrap>      NaN</span></td><td>6</td><td> 9</td><td>7.500000</td><td> 3</td><td>2.121320</td><td>0.0000000</td><td>-2.7500000</td><td>2.23</td><td><span style=white-space:pre-wrap>  3.45</span></td><td>2.840000</td><td><span style=white-space:pre-wrap>  1.22</span></td><td>⋯</td><td>5</td><td>0.6</td><td>0.6</td><td>0.6</td><td>0.6</td><td>0.6</td><td>0.6</td><td>5</td><td>5</td><td>5</td><td>5</td><td>5</td><td>5</td><td>0.6</td><td>0.6</td><td>0.6</td><td>0.6</td><td>0.6</td><td>0.6</td><td>auc_seg2_glm_fb</td><td>l10_seg2_glm_fb</td><td>auc_seg2_glm</td><td>l10_seg2_glm</td><td>auc_seg2_glm</td><td>l10_seg2_glm</td></tr>\n",
       "\t<tr><th scope=row>2</th><td>fun10dencehispahard</td><td>EU   </td><td>1</td><td>    2</td><td>0.0000000</td><td>1</td><td>5.000000e-01</td><td>1</td><td>  1</td><td>  1.000000</td><td>  0</td><td>  0.000000</td><td>       NaN</td><td>      NaN</td><td>6</td><td> 8</td><td>7.000000</td><td> 2</td><td>1.414214</td><td>0.0000000</td><td>-2.7500000</td><td>3.13</td><td>  8.62</td><td>5.875000</td><td>  5.49</td><td>⋯</td><td>NaN</td><td>NaN</td><td>NaN</td><td>NaN</td><td>NaN</td><td>NaN</td><td>NaN</td><td>NaN</td><td>NaN</td><td>NaN</td><td>NaN</td><td>NaN</td><td>NaN</td><td>NaN</td><td>NaN</td><td>NaN</td><td>NaN</td><td>NaN</td><td>NaN</td><td>NA             </td><td>NA             </td><td>NA          </td><td>NA          </td><td>NA          </td><td>NA          </td></tr>\n",
       "\t<tr><th scope=row>3</th><td>fun1api            </td><td>EU   </td><td>1</td><td>    2</td><td>0.5000000</td><td>1</td><td>5.000000e-01</td><td>1</td><td>  1</td><td>  1.000000</td><td>  0</td><td>  0.000000</td><td>       NaN</td><td>      NaN</td><td>7</td><td> 7</td><td>7.000000</td><td> 0</td><td>0.000000</td><td>      NaN</td><td>       NaN</td><td>4.51</td><td>  6.09</td><td>5.300000</td><td>  1.58</td><td>⋯</td><td>0</td><td>0.25</td><td>0.25</td><td>0.25</td><td>0.95</td><td>0.95</td><td>0.25</td><td>0</td><td>0</td><td>0</td><td>10</td><td>10</td><td>0</td><td>0.25</td><td>0.25</td><td>0.25</td><td>0.95</td><td>0.95</td><td>0.25</td><td>auc_seg2_glm_fb</td><td>l10_seg2_glm_fb</td><td>auc_seg2_rf </td><td>l10_seg2_rf </td><td>auc_seg2_glm</td><td>l10_seg2_glm</td></tr>\n",
       "\t<tr><th scope=row>4</th><td>funactive 24       </td><td>EU   </td><td>1</td><td>   22</td><td>0.2272727</td><td>1</td><td>4.545455e-02</td><td>1</td><td>  3</td><td>  2.090909</td><td>  2</td><td>  1.019294</td><td>-0.1702685</td><td>-2.058471</td><td>4</td><td>14</td><td>7.363636</td><td>10</td><td>2.498484</td><td>0.8100072</td><td> 0.4123014</td><td>0.59</td><td>100.00</td><td>9.425000</td><td> 99.41</td><td>⋯</td><td>2</td><td>0.45</td><td>0.35</td><td>0.49</td><td>0.57</td><td>0.59</td><td>0.63</td><td>0</td><td>0</td><td>0</td><td>2</td><td>2</td><td>2</td><td>0.45</td><td>0.35</td><td>0.49</td><td>0.57</td><td>0.59</td><td>0.63</td><td>auc_agg_rf_fb  </td><td>l10_agg_rf_fb  </td><td>auc_agg_rf  </td><td>l10_seg2_rf </td><td>auc_seg2_glm</td><td>l10_seg2_glm</td></tr>\n",
       "\t<tr><th scope=row>5</th><td>funalibaba         </td><td>China</td><td>1</td><td>18208</td><td>0.0118080</td><td>1</td><td>5.492091e-05</td><td>1</td><td>705</td><td>219.892025</td><td>704</td><td>156.107008</td><td> 1.5055591</td><td> 2.301106</td><td>3</td><td>38</td><td>6.956832</td><td>35</td><td>3.311960</td><td>2.9556282</td><td>13.5354533</td><td>0.00</td><td>100.00</td><td>6.320069</td><td>100.00</td><td>⋯</td><td>6.186047</td><td>0.8262791</td><td>0.8425581</td><td>0.8513953</td><td>0.8769767</td><td>0.877907</td><td>0.8793023</td><td>4.883721</td><td>5.302326</td><td>5.023256</td><td>5.813953</td><td>6</td><td>6.186047</td><td>0.8262791</td><td>0.8425581</td><td>0.8513953</td><td>0.8769767</td><td>0.877907</td><td>0.8793023</td><td>auc_agg_rf_fb  </td><td>l10_agg_rf_fb  </td><td>auc_agg_rf  </td><td>l10_agg_rf  </td><td>auc_seg2_glm</td><td>l10_seg2_glm</td></tr>\n",
       "\t<tr><th scope=row>6</th><td>funalibaba sg      </td><td>China</td><td>1</td><td>   16</td><td>0.0625000</td><td>1</td><td>6.250000e-02</td><td>1</td><td>  1</td><td>  1.000000</td><td>  0</td><td>  0.000000</td><td>       NaN</td><td>      NaN</td><td>4</td><td>13</td><td>7.375000</td><td> 9</td><td>2.604483</td><td>0.3561975</td><td>-0.8500916</td><td>0.24</td><td> 13.58</td><td>4.647500</td><td> 13.34</td><td>⋯</td><td>10</td><td>0.05</td><td>0.05</td><td>0.95</td><td>0.85</td><td>0.55</td><td>0.95</td><td>0</td><td>0</td><td>10</td><td>0</td><td>0</td><td>10</td><td>0.05</td><td>0.05</td><td>0.95</td><td>0.85</td><td>0.55</td><td>0.95</td><td>auc_agg_rf_fb  </td><td>l10_agg_rf_fb  </td><td>auc_agg_glm </td><td>l10_agg_glm </td><td>auc_seg2_glm</td><td>l10_seg2_glm</td></tr>\n",
       "</tbody>\n",
       "</table>\n"
      ],
      "text/latex": [
       "A data.frame: 6 × 76\n",
       "\\begin{tabular}{r|lllllllllllllllllllllllllllllllllllllllllllllllllll}\n",
       "  & tld\\_registrar\\_index & geo\\_maj & geo\\_cnt & n & ren\\_prp & tld\\_cnt & tld\\_rat & daydom\\_min & daydom\\_max & daydom\\_mean & daydom\\_rng & daydom\\_std & daydom\\_skew & daydom\\_kurt & sldlen\\_min & sldlen\\_max & sldlen\\_mean & sldlen\\_rng & sldlen\\_std & sldlen\\_skew & sldlen\\_kurt & gibbs\\_min & gibbs\\_max & gibbs\\_mean & gibbs\\_rng & ⋯ & l10\\_agg\\_rf & auc\\_seg2\\_glm & auc\\_seg\\_glm & auc\\_agg\\_glm & auc\\_seg2\\_rf & auc\\_seg\\_rf & auc\\_agg\\_rf & l10\\_seg2\\_glm\\_fb & l10\\_seg\\_glm\\_fb & l10\\_agg\\_glm\\_fb & l10\\_seg2\\_rf\\_fb & l10\\_seg\\_rf\\_fb & l10\\_agg\\_rf\\_fb & auc\\_seg2\\_glm\\_fb & auc\\_seg\\_glm\\_fb & auc\\_agg\\_glm\\_fb & auc\\_seg2\\_rf\\_fb & auc\\_seg\\_rf\\_fb & auc\\_agg\\_rf\\_fb & auc\\_win\\_01 & l10\\_win\\_01 & auc\\_win\\_02 & l10\\_win\\_02 & auc\\_win\\_03 & l10\\_win\\_03\\\\\n",
       "  & <chr> & <fct> & <int> & <int> & <dbl> & <int> & <dbl> & <int> & <int> & <dbl> & <int> & <dbl> & <dbl> & <dbl> & <int> & <int> & <dbl> & <int> & <dbl> & <dbl> & <dbl> & <dbl> & <dbl> & <dbl> & <dbl> & ⋯ & <list> & <list> & <list> & <list> & <list> & <list> & <list> & <list> & <list> & <list> & <list> & <list> & <list> & <list> & <list> & <list> & <list> & <list> & <list> & <chr> & <chr> & <chr> & <chr> & <chr> & <chr>\\\\\n",
       "\\hline\n",
       "\t1 & fun1\\&1 internet     & EU    & 1 &     2 & 1.0000000 & 1 & 5.000000e-01 & 1 &   1 &   1.000000 &   0 &   0.000000 &        NaN &       NaN & 6 &  9 & 7.500000 &  3 & 2.121320 & 0.0000000 & -2.7500000 & 2.23 &   3.45 & 2.840000 &   1.22 & ⋯ & 5 & 0.6 & 0.6 & 0.6 & 0.6 & 0.6 & 0.6 & 5 & 5 & 5 & 5 & 5 & 5 & 0.6 & 0.6 & 0.6 & 0.6 & 0.6 & 0.6 & auc\\_seg2\\_glm\\_fb & l10\\_seg2\\_glm\\_fb & auc\\_seg2\\_glm & l10\\_seg2\\_glm & auc\\_seg2\\_glm & l10\\_seg2\\_glm\\\\\n",
       "\t2 & fun10dencehispahard & EU    & 1 &     2 & 0.0000000 & 1 & 5.000000e-01 & 1 &   1 &   1.000000 &   0 &   0.000000 &        NaN &       NaN & 6 &  8 & 7.000000 &  2 & 1.414214 & 0.0000000 & -2.7500000 & 3.13 &   8.62 & 5.875000 &   5.49 & ⋯ & NaN & NaN & NaN & NaN & NaN & NaN & NaN & NaN & NaN & NaN & NaN & NaN & NaN & NaN & NaN & NaN & NaN & NaN & NaN & NA              & NA              & NA           & NA           & NA           & NA          \\\\\n",
       "\t3 & fun1api             & EU    & 1 &     2 & 0.5000000 & 1 & 5.000000e-01 & 1 &   1 &   1.000000 &   0 &   0.000000 &        NaN &       NaN & 7 &  7 & 7.000000 &  0 & 0.000000 &       NaN &        NaN & 4.51 &   6.09 & 5.300000 &   1.58 & ⋯ & 0 & 0.25 & 0.25 & 0.25 & 0.95 & 0.95 & 0.25 & 0 & 0 & 0 & 10 & 10 & 0 & 0.25 & 0.25 & 0.25 & 0.95 & 0.95 & 0.25 & auc\\_seg2\\_glm\\_fb & l10\\_seg2\\_glm\\_fb & auc\\_seg2\\_rf  & l10\\_seg2\\_rf  & auc\\_seg2\\_glm & l10\\_seg2\\_glm\\\\\n",
       "\t4 & funactive 24        & EU    & 1 &    22 & 0.2272727 & 1 & 4.545455e-02 & 1 &   3 &   2.090909 &   2 &   1.019294 & -0.1702685 & -2.058471 & 4 & 14 & 7.363636 & 10 & 2.498484 & 0.8100072 &  0.4123014 & 0.59 & 100.00 & 9.425000 &  99.41 & ⋯ & 2 & 0.45 & 0.35 & 0.49 & 0.57 & 0.59 & 0.63 & 0 & 0 & 0 & 2 & 2 & 2 & 0.45 & 0.35 & 0.49 & 0.57 & 0.59 & 0.63 & auc\\_agg\\_rf\\_fb   & l10\\_agg\\_rf\\_fb   & auc\\_agg\\_rf   & l10\\_seg2\\_rf  & auc\\_seg2\\_glm & l10\\_seg2\\_glm\\\\\n",
       "\t5 & funalibaba          & China & 1 & 18208 & 0.0118080 & 1 & 5.492091e-05 & 1 & 705 & 219.892025 & 704 & 156.107008 &  1.5055591 &  2.301106 & 3 & 38 & 6.956832 & 35 & 3.311960 & 2.9556282 & 13.5354533 & 0.00 & 100.00 & 6.320069 & 100.00 & ⋯ & 6.186047 & 0.8262791 & 0.8425581 & 0.8513953 & 0.8769767 & 0.877907 & 0.8793023 & 4.883721 & 5.302326 & 5.023256 & 5.813953 & 6 & 6.186047 & 0.8262791 & 0.8425581 & 0.8513953 & 0.8769767 & 0.877907 & 0.8793023 & auc\\_agg\\_rf\\_fb   & l10\\_agg\\_rf\\_fb   & auc\\_agg\\_rf   & l10\\_agg\\_rf   & auc\\_seg2\\_glm & l10\\_seg2\\_glm\\\\\n",
       "\t6 & funalibaba sg       & China & 1 &    16 & 0.0625000 & 1 & 6.250000e-02 & 1 &   1 &   1.000000 &   0 &   0.000000 &        NaN &       NaN & 4 & 13 & 7.375000 &  9 & 2.604483 & 0.3561975 & -0.8500916 & 0.24 &  13.58 & 4.647500 &  13.34 & ⋯ & 10 & 0.05 & 0.05 & 0.95 & 0.85 & 0.55 & 0.95 & 0 & 0 & 10 & 0 & 0 & 10 & 0.05 & 0.05 & 0.95 & 0.85 & 0.55 & 0.95 & auc\\_agg\\_rf\\_fb   & l10\\_agg\\_rf\\_fb   & auc\\_agg\\_glm  & l10\\_agg\\_glm  & auc\\_seg2\\_glm & l10\\_seg2\\_glm\\\\\n",
       "\\end{tabular}\n"
      ],
      "text/markdown": [
       "\n",
       "A data.frame: 6 × 76\n",
       "\n",
       "| <!--/--> | tld_registrar_index &lt;chr&gt; | geo_maj &lt;fct&gt; | geo_cnt &lt;int&gt; | n &lt;int&gt; | ren_prp &lt;dbl&gt; | tld_cnt &lt;int&gt; | tld_rat &lt;dbl&gt; | daydom_min &lt;int&gt; | daydom_max &lt;int&gt; | daydom_mean &lt;dbl&gt; | daydom_rng &lt;int&gt; | daydom_std &lt;dbl&gt; | daydom_skew &lt;dbl&gt; | daydom_kurt &lt;dbl&gt; | sldlen_min &lt;int&gt; | sldlen_max &lt;int&gt; | sldlen_mean &lt;dbl&gt; | sldlen_rng &lt;int&gt; | sldlen_std &lt;dbl&gt; | sldlen_skew &lt;dbl&gt; | sldlen_kurt &lt;dbl&gt; | gibbs_min &lt;dbl&gt; | gibbs_max &lt;dbl&gt; | gibbs_mean &lt;dbl&gt; | gibbs_rng &lt;dbl&gt; | ⋯ ⋯ | l10_agg_rf &lt;list&gt; | auc_seg2_glm &lt;list&gt; | auc_seg_glm &lt;list&gt; | auc_agg_glm &lt;list&gt; | auc_seg2_rf &lt;list&gt; | auc_seg_rf &lt;list&gt; | auc_agg_rf &lt;list&gt; | l10_seg2_glm_fb &lt;list&gt; | l10_seg_glm_fb &lt;list&gt; | l10_agg_glm_fb &lt;list&gt; | l10_seg2_rf_fb &lt;list&gt; | l10_seg_rf_fb &lt;list&gt; | l10_agg_rf_fb &lt;list&gt; | auc_seg2_glm_fb &lt;list&gt; | auc_seg_glm_fb &lt;list&gt; | auc_agg_glm_fb &lt;list&gt; | auc_seg2_rf_fb &lt;list&gt; | auc_seg_rf_fb &lt;list&gt; | auc_agg_rf_fb &lt;list&gt; | auc_win_01 &lt;chr&gt; | l10_win_01 &lt;chr&gt; | auc_win_02 &lt;chr&gt; | l10_win_02 &lt;chr&gt; | auc_win_03 &lt;chr&gt; | l10_win_03 &lt;chr&gt; |\n",
       "|---|---|---|---|---|---|---|---|---|---|---|---|---|---|---|---|---|---|---|---|---|---|---|---|---|---|---|---|---|---|---|---|---|---|---|---|---|---|---|---|---|---|---|---|---|---|---|---|---|---|---|---|\n",
       "| 1 | fun1&amp;1 internet     | EU    | 1 |     2 | 1.0000000 | 1 | 5.000000e-01 | 1 |   1 |   1.000000 |   0 |   0.000000 |        NaN |       NaN | 6 |  9 | 7.500000 |  3 | 2.121320 | 0.0000000 | -2.7500000 | 2.23 |   3.45 | 2.840000 |   1.22 | ⋯ | 5 | 0.6 | 0.6 | 0.6 | 0.6 | 0.6 | 0.6 | 5 | 5 | 5 | 5 | 5 | 5 | 0.6 | 0.6 | 0.6 | 0.6 | 0.6 | 0.6 | auc_seg2_glm_fb | l10_seg2_glm_fb | auc_seg2_glm | l10_seg2_glm | auc_seg2_glm | l10_seg2_glm |\n",
       "| 2 | fun10dencehispahard | EU    | 1 |     2 | 0.0000000 | 1 | 5.000000e-01 | 1 |   1 |   1.000000 |   0 |   0.000000 |        NaN |       NaN | 6 |  8 | 7.000000 |  2 | 1.414214 | 0.0000000 | -2.7500000 | 3.13 |   8.62 | 5.875000 |   5.49 | ⋯ | NaN | NaN | NaN | NaN | NaN | NaN | NaN | NaN | NaN | NaN | NaN | NaN | NaN | NaN | NaN | NaN | NaN | NaN | NaN | NA              | NA              | NA           | NA           | NA           | NA           |\n",
       "| 3 | fun1api             | EU    | 1 |     2 | 0.5000000 | 1 | 5.000000e-01 | 1 |   1 |   1.000000 |   0 |   0.000000 |        NaN |       NaN | 7 |  7 | 7.000000 |  0 | 0.000000 |       NaN |        NaN | 4.51 |   6.09 | 5.300000 |   1.58 | ⋯ | 0 | 0.25 | 0.25 | 0.25 | 0.95 | 0.95 | 0.25 | 0 | 0 | 0 | 10 | 10 | 0 | 0.25 | 0.25 | 0.25 | 0.95 | 0.95 | 0.25 | auc_seg2_glm_fb | l10_seg2_glm_fb | auc_seg2_rf  | l10_seg2_rf  | auc_seg2_glm | l10_seg2_glm |\n",
       "| 4 | funactive 24        | EU    | 1 |    22 | 0.2272727 | 1 | 4.545455e-02 | 1 |   3 |   2.090909 |   2 |   1.019294 | -0.1702685 | -2.058471 | 4 | 14 | 7.363636 | 10 | 2.498484 | 0.8100072 |  0.4123014 | 0.59 | 100.00 | 9.425000 |  99.41 | ⋯ | 2 | 0.45 | 0.35 | 0.49 | 0.57 | 0.59 | 0.63 | 0 | 0 | 0 | 2 | 2 | 2 | 0.45 | 0.35 | 0.49 | 0.57 | 0.59 | 0.63 | auc_agg_rf_fb   | l10_agg_rf_fb   | auc_agg_rf   | l10_seg2_rf  | auc_seg2_glm | l10_seg2_glm |\n",
       "| 5 | funalibaba          | China | 1 | 18208 | 0.0118080 | 1 | 5.492091e-05 | 1 | 705 | 219.892025 | 704 | 156.107008 |  1.5055591 |  2.301106 | 3 | 38 | 6.956832 | 35 | 3.311960 | 2.9556282 | 13.5354533 | 0.00 | 100.00 | 6.320069 | 100.00 | ⋯ | 6.186047 | 0.8262791 | 0.8425581 | 0.8513953 | 0.8769767 | 0.877907 | 0.8793023 | 4.883721 | 5.302326 | 5.023256 | 5.813953 | 6 | 6.186047 | 0.8262791 | 0.8425581 | 0.8513953 | 0.8769767 | 0.877907 | 0.8793023 | auc_agg_rf_fb   | l10_agg_rf_fb   | auc_agg_rf   | l10_agg_rf   | auc_seg2_glm | l10_seg2_glm |\n",
       "| 6 | funalibaba sg       | China | 1 |    16 | 0.0625000 | 1 | 6.250000e-02 | 1 |   1 |   1.000000 |   0 |   0.000000 |        NaN |       NaN | 4 | 13 | 7.375000 |  9 | 2.604483 | 0.3561975 | -0.8500916 | 0.24 |  13.58 | 4.647500 |  13.34 | ⋯ | 10 | 0.05 | 0.05 | 0.95 | 0.85 | 0.55 | 0.95 | 0 | 0 | 10 | 0 | 0 | 10 | 0.05 | 0.05 | 0.95 | 0.85 | 0.55 | 0.95 | auc_agg_rf_fb   | l10_agg_rf_fb   | auc_agg_glm  | l10_agg_glm  | auc_seg2_glm | l10_seg2_glm |\n",
       "\n"
      ],
      "text/plain": [
       "  tld_registrar_index geo_maj geo_cnt n     ren_prp   tld_cnt tld_rat     \n",
       "1 fun1&1 internet     EU      1           2 1.0000000 1       5.000000e-01\n",
       "2 fun10dencehispahard EU      1           2 0.0000000 1       5.000000e-01\n",
       "3 fun1api             EU      1           2 0.5000000 1       5.000000e-01\n",
       "4 funactive 24        EU      1          22 0.2272727 1       4.545455e-02\n",
       "5 funalibaba          China   1       18208 0.0118080 1       5.492091e-05\n",
       "6 funalibaba sg       China   1          16 0.0625000 1       6.250000e-02\n",
       "  daydom_min daydom_max daydom_mean daydom_rng daydom_std daydom_skew\n",
       "1 1            1          1.000000    0          0.000000        NaN \n",
       "2 1            1          1.000000    0          0.000000        NaN \n",
       "3 1            1          1.000000    0          0.000000        NaN \n",
       "4 1            3          2.090909    2          1.019294 -0.1702685 \n",
       "5 1          705        219.892025  704        156.107008  1.5055591 \n",
       "6 1            1          1.000000    0          0.000000        NaN \n",
       "  daydom_kurt sldlen_min sldlen_max sldlen_mean sldlen_rng sldlen_std\n",
       "1       NaN   6           9         7.500000     3         2.121320  \n",
       "2       NaN   6           8         7.000000     2         1.414214  \n",
       "3       NaN   7           7         7.000000     0         0.000000  \n",
       "4 -2.058471   4          14         7.363636    10         2.498484  \n",
       "5  2.301106   3          38         6.956832    35         3.311960  \n",
       "6       NaN   4          13         7.375000     9         2.604483  \n",
       "  sldlen_skew sldlen_kurt gibbs_min gibbs_max gibbs_mean gibbs_rng ⋯ l10_agg_rf\n",
       "1 0.0000000   -2.7500000  2.23        3.45    2.840000     1.22    ⋯ 5         \n",
       "2 0.0000000   -2.7500000  3.13        8.62    5.875000     5.49    ⋯ NaN       \n",
       "3       NaN          NaN  4.51        6.09    5.300000     1.58    ⋯ 0         \n",
       "4 0.8100072    0.4123014  0.59      100.00    9.425000    99.41    ⋯ 2         \n",
       "5 2.9556282   13.5354533  0.00      100.00    6.320069   100.00    ⋯ 6.186047  \n",
       "6 0.3561975   -0.8500916  0.24       13.58    4.647500    13.34    ⋯ 10        \n",
       "  auc_seg2_glm auc_seg_glm auc_agg_glm auc_seg2_rf auc_seg_rf auc_agg_rf\n",
       "1 0.6          0.6         0.6         0.6         0.6        0.6       \n",
       "2 NaN          NaN         NaN         NaN         NaN        NaN       \n",
       "3 0.25         0.25        0.25        0.95        0.95       0.25      \n",
       "4 0.45         0.35        0.49        0.57        0.59       0.63      \n",
       "5 0.8262791    0.8425581   0.8513953   0.8769767   0.877907   0.8793023 \n",
       "6 0.05         0.05        0.95        0.85        0.55       0.95      \n",
       "  l10_seg2_glm_fb l10_seg_glm_fb l10_agg_glm_fb l10_seg2_rf_fb l10_seg_rf_fb\n",
       "1 5               5              5              5              5            \n",
       "2 NaN             NaN            NaN            NaN            NaN          \n",
       "3 0               0              0              10             10           \n",
       "4 0               0              0              2              2            \n",
       "5 4.883721        5.302326       5.023256       5.813953       6            \n",
       "6 0               0              10             0              0            \n",
       "  l10_agg_rf_fb auc_seg2_glm_fb auc_seg_glm_fb auc_agg_glm_fb auc_seg2_rf_fb\n",
       "1 5             0.6             0.6            0.6            0.6           \n",
       "2 NaN           NaN             NaN            NaN            NaN           \n",
       "3 0             0.25            0.25           0.25           0.95          \n",
       "4 2             0.45            0.35           0.49           0.57          \n",
       "5 6.186047      0.8262791       0.8425581      0.8513953      0.8769767     \n",
       "6 10            0.05            0.05           0.95           0.85          \n",
       "  auc_seg_rf_fb auc_agg_rf_fb auc_win_01      l10_win_01      auc_win_02  \n",
       "1 0.6           0.6           auc_seg2_glm_fb l10_seg2_glm_fb auc_seg2_glm\n",
       "2 NaN           NaN           NA              NA              NA          \n",
       "3 0.95          0.25          auc_seg2_glm_fb l10_seg2_glm_fb auc_seg2_rf \n",
       "4 0.59          0.63          auc_agg_rf_fb   l10_agg_rf_fb   auc_agg_rf  \n",
       "5 0.877907      0.8793023     auc_agg_rf_fb   l10_agg_rf_fb   auc_agg_rf  \n",
       "6 0.55          0.95          auc_agg_rf_fb   l10_agg_rf_fb   auc_agg_glm \n",
       "  l10_win_02   auc_win_03   l10_win_03  \n",
       "1 l10_seg2_glm auc_seg2_glm l10_seg2_glm\n",
       "2 NA           NA           NA          \n",
       "3 l10_seg2_rf  auc_seg2_glm l10_seg2_glm\n",
       "4 l10_seg2_rf  auc_seg2_glm l10_seg2_glm\n",
       "5 l10_agg_rf   auc_seg2_glm l10_seg2_glm\n",
       "6 l10_agg_glm  auc_seg2_glm l10_seg2_glm"
      ]
     },
     "metadata": {},
     "output_type": "display_data"
    }
   ],
   "source": [
    "## test another auc_win and l10_win with just seg2_glm fallback and non fallback\n",
    "\n",
    "(auc_vars = grep('auc_seg2_glm', names(expiry_test_metametrics), value=TRUE))\n",
    "(l10_vars = grep('l10_seg2_glm', names(expiry_test_metametrics), value=TRUE))\n",
    "\n",
    "# (auc_vars = auc_vars[-grep(\"win\", auc_vars)])\n",
    "# (l10_vars = l10_vars[-grep(\"win\", l10_vars)])\n",
    "\n",
    "# auc_vars = c('auc_seg2_glm_fb','auc_agg_rf_fb')\n",
    "# l10_vars = c('l10_seg2_glm_fb','l10_agg_rf_fb')\n",
    "\n",
    "expiry_test_metametrics <- expiry_test_metametrics %>%\n",
    "    mutate (auc_win_03=sapply(apply(.[,c(auc_vars)], \n",
    "                          1, function(x) names(x)[which.max(x)]) , function(s) if (length(s) == 0) NA else paste(s, collapse = \" \")) ,\n",
    "            l10_win_03=sapply(apply(.[,c(l10_vars)], \n",
    "                          1, function(x) names(x)[which.max(x)]), function(s) if (length(s) == 0) NA else paste(s, collapse = \" \")) \n",
    "            ) \n",
    "                              \n",
    "head(expiry_test_metametrics)"
   ]
  },
  {
   "cell_type": "code",
   "execution_count": 89,
   "metadata": {},
   "outputs": [
    {
     "data": {
      "text/plain": [
       "\n",
       "   auc_seg2_glm auc_seg2_glm_fb \n",
       "           1085              13 "
      ]
     },
     "metadata": {},
     "output_type": "display_data"
    },
    {
     "data": {
      "text/plain": [
       "\n",
       "   l10_seg2_glm l10_seg2_glm_fb \n",
       "           1094               4 "
      ]
     },
     "metadata": {},
     "output_type": "display_data"
    }
   ],
   "source": [
    "table(expiry_test_metametrics$auc_win_03)\n",
    "table(expiry_test_metametrics$l10_win_03)"
   ]
  },
  {
   "cell_type": "code",
   "execution_count": 90,
   "metadata": {},
   "outputs": [
    {
     "data": {
      "text/html": [
       "<table>\n",
       "<caption>A data.frame: 13 × 2</caption>\n",
       "<thead>\n",
       "\t<tr><th scope=col>auc_seg2_glm</th><th scope=col>auc_seg2_glm_fb</th></tr>\n",
       "\t<tr><th scope=col>&lt;list&gt;</th><th scope=col>&lt;list&gt;</th></tr>\n",
       "</thead>\n",
       "<tbody>\n",
       "\t<tr><td>0.75</td><td>0.95</td></tr>\n",
       "\t<tr><td>0.57</td><td>0.59</td></tr>\n",
       "\t<tr><td>0.4857143</td><td>0.4928571</td></tr>\n",
       "\t<tr><td>0.45</td><td>0.55</td></tr>\n",
       "\t<tr><td>0.275</td><td>0.3</td></tr>\n",
       "\t<tr><td>0.25</td><td>0.95</td></tr>\n",
       "\t<tr><td>0.4166667</td><td>0.65</td></tr>\n",
       "\t<tr><td>0.4642857</td><td>0.5785714</td></tr>\n",
       "\t<tr><td>0.55</td><td>0.5833333</td></tr>\n",
       "\t<tr><td>0.15</td><td>0.55</td></tr>\n",
       "\t<tr><td>0.05</td><td>0.55</td></tr>\n",
       "\t<tr><td>0.3166667</td><td>0.4166667</td></tr>\n",
       "\t<tr><td>0.4666667</td><td>0.5333333</td></tr>\n",
       "</tbody>\n",
       "</table>\n"
      ],
      "text/latex": [
       "A data.frame: 13 × 2\n",
       "\\begin{tabular}{ll}\n",
       " auc\\_seg2\\_glm & auc\\_seg2\\_glm\\_fb\\\\\n",
       " <list> & <list>\\\\\n",
       "\\hline\n",
       "\t 0.75 & 0.95\\\\\n",
       "\t 0.57 & 0.59\\\\\n",
       "\t 0.4857143 & 0.4928571\\\\\n",
       "\t 0.45 & 0.55\\\\\n",
       "\t 0.275 & 0.3\\\\\n",
       "\t 0.25 & 0.95\\\\\n",
       "\t 0.4166667 & 0.65\\\\\n",
       "\t 0.4642857 & 0.5785714\\\\\n",
       "\t 0.55 & 0.5833333\\\\\n",
       "\t 0.15 & 0.55\\\\\n",
       "\t 0.05 & 0.55\\\\\n",
       "\t 0.3166667 & 0.4166667\\\\\n",
       "\t 0.4666667 & 0.5333333\\\\\n",
       "\\end{tabular}\n"
      ],
      "text/markdown": [
       "\n",
       "A data.frame: 13 × 2\n",
       "\n",
       "| auc_seg2_glm &lt;list&gt; | auc_seg2_glm_fb &lt;list&gt; |\n",
       "|---|---|\n",
       "| 0.75 | 0.95 |\n",
       "| 0.57 | 0.59 |\n",
       "| 0.4857143 | 0.4928571 |\n",
       "| 0.45 | 0.55 |\n",
       "| 0.275 | 0.3 |\n",
       "| 0.25 | 0.95 |\n",
       "| 0.4166667 | 0.65 |\n",
       "| 0.4642857 | 0.5785714 |\n",
       "| 0.55 | 0.5833333 |\n",
       "| 0.15 | 0.55 |\n",
       "| 0.05 | 0.55 |\n",
       "| 0.3166667 | 0.4166667 |\n",
       "| 0.4666667 | 0.5333333 |\n",
       "\n"
      ],
      "text/plain": [
       "   auc_seg2_glm auc_seg2_glm_fb\n",
       "1  0.75         0.95           \n",
       "2  0.57         0.59           \n",
       "3  0.4857143    0.4928571      \n",
       "4  0.45         0.55           \n",
       "5  0.275        0.3            \n",
       "6  0.25         0.95           \n",
       "7  0.4166667    0.65           \n",
       "8  0.4642857    0.5785714      \n",
       "9  0.55         0.5833333      \n",
       "10 0.15         0.55           \n",
       "11 0.05         0.55           \n",
       "12 0.3166667    0.4166667      \n",
       "13 0.4666667    0.5333333      "
      ]
     },
     "metadata": {},
     "output_type": "display_data"
    },
    {
     "data": {
      "text/html": [
       "<table>\n",
       "<caption>A data.frame: 4 × 2</caption>\n",
       "<thead>\n",
       "\t<tr><th scope=col>auc_seg2_glm</th><th scope=col>auc_seg2_glm_fb</th></tr>\n",
       "\t<tr><th scope=col>&lt;list&gt;</th><th scope=col>&lt;list&gt;</th></tr>\n",
       "</thead>\n",
       "<tbody>\n",
       "\t<tr><td>0.75</td><td>0.95</td></tr>\n",
       "\t<tr><td>0.25</td><td>0.95</td></tr>\n",
       "\t<tr><td>0.4642857</td><td>0.5785714</td></tr>\n",
       "\t<tr><td>0.15</td><td>0.55</td></tr>\n",
       "</tbody>\n",
       "</table>\n"
      ],
      "text/latex": [
       "A data.frame: 4 × 2\n",
       "\\begin{tabular}{ll}\n",
       " auc\\_seg2\\_glm & auc\\_seg2\\_glm\\_fb\\\\\n",
       " <list> & <list>\\\\\n",
       "\\hline\n",
       "\t 0.75 & 0.95\\\\\n",
       "\t 0.25 & 0.95\\\\\n",
       "\t 0.4642857 & 0.5785714\\\\\n",
       "\t 0.15 & 0.55\\\\\n",
       "\\end{tabular}\n"
      ],
      "text/markdown": [
       "\n",
       "A data.frame: 4 × 2\n",
       "\n",
       "| auc_seg2_glm &lt;list&gt; | auc_seg2_glm_fb &lt;list&gt; |\n",
       "|---|---|\n",
       "| 0.75 | 0.95 |\n",
       "| 0.25 | 0.95 |\n",
       "| 0.4642857 | 0.5785714 |\n",
       "| 0.15 | 0.55 |\n",
       "\n"
      ],
      "text/plain": [
       "  auc_seg2_glm auc_seg2_glm_fb\n",
       "1 0.75         0.95           \n",
       "2 0.25         0.95           \n",
       "3 0.4642857    0.5785714      \n",
       "4 0.15         0.55           "
      ]
     },
     "metadata": {},
     "output_type": "display_data"
    }
   ],
   "source": [
    "# Interesting that in 3 (1) cases, the fallback version outperforms original version of seg2_glm\n",
    "# But these are all cases where the models tied and which.max simply picked the first index\n",
    "expiry_test_metametrics %>% filter(auc_win_03 == 'auc_seg2_glm_fb') %>% select(auc_vars)\n",
    "expiry_test_metametrics %>% filter(l10_win_03 == 'l10_seg2_glm_fb') %>% select(auc_vars)"
   ]
  },
  {
   "cell_type": "code",
   "execution_count": null,
   "metadata": {},
   "outputs": [],
   "source": []
  },
  {
   "cell_type": "code",
   "execution_count": null,
   "metadata": {},
   "outputs": [],
   "source": []
  }
 ],
 "metadata": {
  "environment": {
   "name": "r-cpu.3-6.m48",
   "type": "gcloud",
   "uri": "gcr.io/deeplearning-platform-release/r-cpu.3-6:m48"
  },
  "kernelspec": {
   "display_name": "R",
   "language": "R",
   "name": "ir"
  },
  "language_info": {
   "codemirror_mode": "r",
   "file_extension": ".r",
   "mimetype": "text/x-r-source",
   "name": "R",
   "pygments_lexer": "r",
   "version": "3.6.3"
  }
 },
 "nbformat": 4,
 "nbformat_minor": 4
}
