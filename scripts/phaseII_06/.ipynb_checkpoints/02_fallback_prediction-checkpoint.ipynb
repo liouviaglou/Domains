{
 "cells": [
  {
   "cell_type": "markdown",
   "metadata": {},
   "source": [
    "# Follow up 10/01 meeting\n",
    "## For deployment prep: \n",
    "compare seg2_glm to agg_rf to fallback for all tld-reseller combinations\n",
    "\n",
    "so, for each domain, generate predictions based on 2 models & fallback tables\n",
    "\n",
    "model predictions already exist, so just fallback tables & pull up the others for comparison"
   ]
  },
  {
   "cell_type": "code",
   "execution_count": 2,
   "metadata": {},
   "outputs": [],
   "source": [
    "options(repr.matrix.max.cols=50, repr.matrix.max.rows=100)"
   ]
  },
  {
   "cell_type": "code",
   "execution_count": 3,
   "metadata": {},
   "outputs": [],
   "source": [
    "# install.packages(\"pkgcond\")"
   ]
  },
  {
   "cell_type": "code",
   "execution_count": 4,
   "metadata": {},
   "outputs": [
    {
     "name": "stderr",
     "output_type": "stream",
     "text": [
      "\n",
      "Attaching package: ‘dplyr’\n",
      "\n",
      "\n",
      "The following objects are masked from ‘package:stats’:\n",
      "\n",
      "    filter, lag\n",
      "\n",
      "\n",
      "The following objects are masked from ‘package:base’:\n",
      "\n",
      "    intersect, setdiff, setequal, union\n",
      "\n",
      "\n",
      "\n",
      "Attaching package: ‘data.table’\n",
      "\n",
      "\n",
      "The following objects are masked from ‘package:dplyr’:\n",
      "\n",
      "    between, first, last\n",
      "\n",
      "\n",
      "Loading required package: grid\n",
      "\n",
      "Loading required package: libcoin\n",
      "\n",
      "Loading required package: mvtnorm\n",
      "\n",
      "Loading required package: lattice\n",
      "\n",
      "Loading required package: ggplot2\n",
      "\n",
      "randomForest 4.6-14\n",
      "\n",
      "Type rfNews() to see new features/changes/bug fixes.\n",
      "\n",
      "\n",
      "Attaching package: ‘randomForest’\n",
      "\n",
      "\n",
      "The following object is masked from ‘package:ggplot2’:\n",
      "\n",
      "    margin\n",
      "\n",
      "\n",
      "The following object is masked from ‘package:dplyr’:\n",
      "\n",
      "    combine\n",
      "\n",
      "\n",
      "\n",
      "Attaching package: ‘ranger’\n",
      "\n",
      "\n",
      "The following object is masked from ‘package:randomForest’:\n",
      "\n",
      "    importance\n",
      "\n",
      "\n",
      "\n",
      "Attaching package: ‘plotly’\n",
      "\n",
      "\n",
      "The following object is masked from ‘package:ggplot2’:\n",
      "\n",
      "    last_plot\n",
      "\n",
      "\n",
      "The following object is masked from ‘package:stats’:\n",
      "\n",
      "    filter\n",
      "\n",
      "\n",
      "The following object is masked from ‘package:graphics’:\n",
      "\n",
      "    layout\n",
      "\n",
      "\n",
      "Loading required package: RJSONIO\n",
      "\n"
     ]
    },
    {
     "data": {
      "text/html": [
       "'/home/jupyter/local/Domains_202003/scripts/phaseII_06'"
      ],
      "text/latex": [
       "'/home/jupyter/local/Domains\\_202003/scripts/phaseII\\_06'"
      ],
      "text/markdown": [
       "'/home/jupyter/local/Domains_202003/scripts/phaseII_06'"
      ],
      "text/plain": [
       "[1] \"/home/jupyter/local/Domains_202003/scripts/phaseII_06\""
      ]
     },
     "metadata": {},
     "output_type": "display_data"
    }
   ],
   "source": [
    "library(dplyr)\n",
    "library(data.table)\n",
    "library(partykit)\n",
    "library(tictoc)\n",
    "library(caret)\n",
    "library(e1071)\n",
    "library(randomForest)\n",
    "library(ranger)\n",
    "\n",
    "#for 3d plotting\n",
    "library(akima)\n",
    "library(plotly)\n",
    "\n",
    "# for prep data\n",
    "library(rPython)\n",
    "library(stringr)\n",
    "library(pbapply)\n",
    "library(stringdist)\n",
    "library(data.table)\n",
    "library(dominanceanalysis)\n",
    "\n",
    "\n",
    "getwd()"
   ]
  },
  {
   "cell_type": "code",
   "execution_count": 5,
   "metadata": {},
   "outputs": [],
   "source": [
    "\n",
    "source('../orig/functions.R')\n",
    "\n",
    "source('../orig/functions_models.R')\n",
    "\n",
    "source('../phaseII_03_forest/functions_eval.R')\n",
    "\n",
    "\n",
    "source('../phaseII_03_forest/load_prep_data_expiry.R')\n",
    "\n",
    "# expiry_train_prepped_2_1 (list, less df's w/ 0 obs)\n",
    "# expiry_test_prepped_2_1  (list, less df's w/ 0 obs)\n",
    "# expiry_train_df_1 (above, rbound)\n",
    "# expiry_test_df_1 (above, rbound)\n",
    "# expiry_train_df_sub (subset vars)                                        \n",
    "# expiry_test_df_sub (subset vars)"
   ]
  },
  {
   "cell_type": "markdown",
   "metadata": {},
   "source": [
    "## Load model predctions"
   ]
  },
  {
   "cell_type": "code",
   "execution_count": 6,
   "metadata": {},
   "outputs": [
    {
     "data": {
      "text/html": [
       "<style>\n",
       ".list-inline {list-style: none; margin:0; padding: 0}\n",
       ".list-inline>li {display: inline-block}\n",
       ".list-inline>li:not(:last-child)::after {content: \"\\00b7\"; padding: 0 .5ex}\n",
       "</style>\n",
       "<ol class=list-inline><li>297100</li><li>12</li></ol>\n"
      ],
      "text/latex": [
       "\\begin{enumerate*}\n",
       "\\item 297100\n",
       "\\item 12\n",
       "\\end{enumerate*}\n"
      ],
      "text/markdown": [
       "1. 297100\n",
       "2. 12\n",
       "\n",
       "\n"
      ],
      "text/plain": [
       "[1] 297100     12"
      ]
     },
     "metadata": {},
     "output_type": "display_data"
    },
    {
     "data": {
      "text/html": [
       "<table>\n",
       "<caption>A data.frame: 6 × 12</caption>\n",
       "<thead>\n",
       "\t<tr><th></th><th scope=col>actual</th><th scope=col>pred_df_seg2_glm</th><th scope=col>pred_df_seg_glm</th><th scope=col>pred_df_agg_glm</th><th scope=col>pred_df_seg2_rf</th><th scope=col>pred_df_seg_rf</th><th scope=col>pred_df_agg_rf</th><th scope=col>tld_registrar_index</th><th scope=col>reseller</th><th scope=col>n</th><th scope=col>domain_id</th><th scope=col>domain</th></tr>\n",
       "\t<tr><th></th><th scope=col>&lt;fct&gt;</th><th scope=col>&lt;dbl&gt;</th><th scope=col>&lt;dbl&gt;</th><th scope=col>&lt;dbl&gt;</th><th scope=col>&lt;dbl&gt;</th><th scope=col>&lt;dbl&gt;</th><th scope=col>&lt;dbl&gt;</th><th scope=col>&lt;fct&gt;</th><th scope=col>&lt;fct&gt;</th><th scope=col>&lt;int&gt;</th><th scope=col>&lt;int&gt;</th><th scope=col>&lt;fct&gt;</th></tr>\n",
       "</thead>\n",
       "<tbody>\n",
       "\t<tr><th scope=row>1</th><td>Not Renewd</td><td>0.6470992</td><td>0.558</td><td>0.419</td><td>0.4765771</td><td>0.4545657</td><td>0.5386137</td><td>sitegmo</td><td>gmo</td><td>106569</td><td>44295183</td><td>kagen.site           </td></tr>\n",
       "\t<tr><th scope=row>2</th><td>Renewed   </td><td>0.6762222</td><td>0.567</td><td>0.397</td><td>0.5410605</td><td>0.5769973</td><td>0.6091513</td><td>sitegmo</td><td>gmo</td><td>106569</td><td>44573611</td><td>designlab.site       </td></tr>\n",
       "\t<tr><th scope=row>3</th><td>Renewed   </td><td>0.9098495</td><td>0.835</td><td>0.410</td><td>0.7018108</td><td>0.6343404</td><td>0.6886680</td><td>sitegmo</td><td>gmo</td><td>106569</td><td>45304858</td><td>hokatu-blog.site     </td></tr>\n",
       "\t<tr><th scope=row>4</th><td>Renewed   </td><td>0.6029350</td><td>0.515</td><td>0.402</td><td>0.2414726</td><td>0.3999603</td><td>0.3464197</td><td>sitegmo</td><td>gmo</td><td>106569</td><td>46235129</td><td>suzuya.site          </td></tr>\n",
       "\t<tr><th scope=row>5</th><td>Not Renewd</td><td>0.9311321</td><td>0.863</td><td>0.417</td><td>0.7749462</td><td>0.7039504</td><td>0.6711740</td><td>sitegmo</td><td>gmo</td><td>106569</td><td>46276970</td><td>wins-company.site    </td></tr>\n",
       "\t<tr><th scope=row>6</th><td>Renewed   </td><td>0.9347869</td><td>0.861</td><td>0.391</td><td>0.6376848</td><td>0.6566740</td><td>0.6717237</td><td>sitegmo</td><td>gmo</td><td>106569</td><td>47809960</td><td>yamatoku-company.site</td></tr>\n",
       "</tbody>\n",
       "</table>\n"
      ],
      "text/latex": [
       "A data.frame: 6 × 12\n",
       "\\begin{tabular}{r|llllllllllll}\n",
       "  & actual & pred\\_df\\_seg2\\_glm & pred\\_df\\_seg\\_glm & pred\\_df\\_agg\\_glm & pred\\_df\\_seg2\\_rf & pred\\_df\\_seg\\_rf & pred\\_df\\_agg\\_rf & tld\\_registrar\\_index & reseller & n & domain\\_id & domain\\\\\n",
       "  & <fct> & <dbl> & <dbl> & <dbl> & <dbl> & <dbl> & <dbl> & <fct> & <fct> & <int> & <int> & <fct>\\\\\n",
       "\\hline\n",
       "\t1 & Not Renewd & 0.6470992 & 0.558 & 0.419 & 0.4765771 & 0.4545657 & 0.5386137 & sitegmo & gmo & 106569 & 44295183 & kagen.site           \\\\\n",
       "\t2 & Renewed    & 0.6762222 & 0.567 & 0.397 & 0.5410605 & 0.5769973 & 0.6091513 & sitegmo & gmo & 106569 & 44573611 & designlab.site       \\\\\n",
       "\t3 & Renewed    & 0.9098495 & 0.835 & 0.410 & 0.7018108 & 0.6343404 & 0.6886680 & sitegmo & gmo & 106569 & 45304858 & hokatu-blog.site     \\\\\n",
       "\t4 & Renewed    & 0.6029350 & 0.515 & 0.402 & 0.2414726 & 0.3999603 & 0.3464197 & sitegmo & gmo & 106569 & 46235129 & suzuya.site          \\\\\n",
       "\t5 & Not Renewd & 0.9311321 & 0.863 & 0.417 & 0.7749462 & 0.7039504 & 0.6711740 & sitegmo & gmo & 106569 & 46276970 & wins-company.site    \\\\\n",
       "\t6 & Renewed    & 0.9347869 & 0.861 & 0.391 & 0.6376848 & 0.6566740 & 0.6717237 & sitegmo & gmo & 106569 & 47809960 & yamatoku-company.site\\\\\n",
       "\\end{tabular}\n"
      ],
      "text/markdown": [
       "\n",
       "A data.frame: 6 × 12\n",
       "\n",
       "| <!--/--> | actual &lt;fct&gt; | pred_df_seg2_glm &lt;dbl&gt; | pred_df_seg_glm &lt;dbl&gt; | pred_df_agg_glm &lt;dbl&gt; | pred_df_seg2_rf &lt;dbl&gt; | pred_df_seg_rf &lt;dbl&gt; | pred_df_agg_rf &lt;dbl&gt; | tld_registrar_index &lt;fct&gt; | reseller &lt;fct&gt; | n &lt;int&gt; | domain_id &lt;int&gt; | domain &lt;fct&gt; |\n",
       "|---|---|---|---|---|---|---|---|---|---|---|---|---|\n",
       "| 1 | Not Renewd | 0.6470992 | 0.558 | 0.419 | 0.4765771 | 0.4545657 | 0.5386137 | sitegmo | gmo | 106569 | 44295183 | kagen.site            |\n",
       "| 2 | Renewed    | 0.6762222 | 0.567 | 0.397 | 0.5410605 | 0.5769973 | 0.6091513 | sitegmo | gmo | 106569 | 44573611 | designlab.site        |\n",
       "| 3 | Renewed    | 0.9098495 | 0.835 | 0.410 | 0.7018108 | 0.6343404 | 0.6886680 | sitegmo | gmo | 106569 | 45304858 | hokatu-blog.site      |\n",
       "| 4 | Renewed    | 0.6029350 | 0.515 | 0.402 | 0.2414726 | 0.3999603 | 0.3464197 | sitegmo | gmo | 106569 | 46235129 | suzuya.site           |\n",
       "| 5 | Not Renewd | 0.9311321 | 0.863 | 0.417 | 0.7749462 | 0.7039504 | 0.6711740 | sitegmo | gmo | 106569 | 46276970 | wins-company.site     |\n",
       "| 6 | Renewed    | 0.9347869 | 0.861 | 0.391 | 0.6376848 | 0.6566740 | 0.6717237 | sitegmo | gmo | 106569 | 47809960 | yamatoku-company.site |\n",
       "\n"
      ],
      "text/plain": [
       "  actual     pred_df_seg2_glm pred_df_seg_glm pred_df_agg_glm pred_df_seg2_rf\n",
       "1 Not Renewd 0.6470992        0.558           0.419           0.4765771      \n",
       "2 Renewed    0.6762222        0.567           0.397           0.5410605      \n",
       "3 Renewed    0.9098495        0.835           0.410           0.7018108      \n",
       "4 Renewed    0.6029350        0.515           0.402           0.2414726      \n",
       "5 Not Renewd 0.9311321        0.863           0.417           0.7749462      \n",
       "6 Renewed    0.9347869        0.861           0.391           0.6376848      \n",
       "  pred_df_seg_rf pred_df_agg_rf tld_registrar_index reseller n      domain_id\n",
       "1 0.4545657      0.5386137      sitegmo             gmo      106569 44295183 \n",
       "2 0.5769973      0.6091513      sitegmo             gmo      106569 44573611 \n",
       "3 0.6343404      0.6886680      sitegmo             gmo      106569 45304858 \n",
       "4 0.3999603      0.3464197      sitegmo             gmo      106569 46235129 \n",
       "5 0.7039504      0.6711740      sitegmo             gmo      106569 46276970 \n",
       "6 0.6566740      0.6717237      sitegmo             gmo      106569 47809960 \n",
       "  domain               \n",
       "1 kagen.site           \n",
       "2 designlab.site       \n",
       "3 hokatu-blog.site     \n",
       "4 suzuya.site          \n",
       "5 wins-company.site    \n",
       "6 yamatoku-company.site"
      ]
     },
     "metadata": {},
     "output_type": "display_data"
    }
   ],
   "source": [
    "predictions_df <- read.csv(\"../../data/tld_reseller_compare_predictions.csv\")\n",
    "\n",
    "dim(predictions_df)\n",
    "head(predictions_df)"
   ]
  },
  {
   "cell_type": "markdown",
   "metadata": {},
   "source": [
    "## Generate fallback predictions"
   ]
  },
  {
   "cell_type": "code",
   "execution_count": 7,
   "metadata": {},
   "outputs": [
    {
     "data": {
      "text/html": [
       "<style>\n",
       ".list-inline {list-style: none; margin:0; padding: 0}\n",
       ".list-inline>li {display: inline-block}\n",
       ".list-inline>li:not(:last-child)::after {content: \"\\00b7\"; padding: 0 .5ex}\n",
       "</style>\n",
       "<ol class=list-inline><li>'npv_fallback_first_final'</li><li>'npv_fallback_first_geo_arpt'</li><li>'npv_fallback_first_geo_arpt_tld'</li><li>'npv_fallback_first_tld_arpt'</li><li>'npv_fallback_second_final'</li><li>'npv_fallback_second_geo'</li><li>'npv_fallback_second_tld_geo'</li><li>'npv_fallback_third_final'</li><li>'npv_fallback_third_geo'</li><li>'npv_fallback_third_tld_geo'</li></ol>\n"
      ],
      "text/latex": [
       "\\begin{enumerate*}\n",
       "\\item 'npv\\_fallback\\_first\\_final'\n",
       "\\item 'npv\\_fallback\\_first\\_geo\\_arpt'\n",
       "\\item 'npv\\_fallback\\_first\\_geo\\_arpt\\_tld'\n",
       "\\item 'npv\\_fallback\\_first\\_tld\\_arpt'\n",
       "\\item 'npv\\_fallback\\_second\\_final'\n",
       "\\item 'npv\\_fallback\\_second\\_geo'\n",
       "\\item 'npv\\_fallback\\_second\\_tld\\_geo'\n",
       "\\item 'npv\\_fallback\\_third\\_final'\n",
       "\\item 'npv\\_fallback\\_third\\_geo'\n",
       "\\item 'npv\\_fallback\\_third\\_tld\\_geo'\n",
       "\\end{enumerate*}\n"
      ],
      "text/markdown": [
       "1. 'npv_fallback_first_final'\n",
       "2. 'npv_fallback_first_geo_arpt'\n",
       "3. 'npv_fallback_first_geo_arpt_tld'\n",
       "4. 'npv_fallback_first_tld_arpt'\n",
       "5. 'npv_fallback_second_final'\n",
       "6. 'npv_fallback_second_geo'\n",
       "7. 'npv_fallback_second_tld_geo'\n",
       "8. 'npv_fallback_third_final'\n",
       "9. 'npv_fallback_third_geo'\n",
       "10. 'npv_fallback_third_tld_geo'\n",
       "\n",
       "\n"
      ],
      "text/plain": [
       " [1] \"npv_fallback_first_final\"        \"npv_fallback_first_geo_arpt\"    \n",
       " [3] \"npv_fallback_first_geo_arpt_tld\" \"npv_fallback_first_tld_arpt\"    \n",
       " [5] \"npv_fallback_second_final\"       \"npv_fallback_second_geo\"        \n",
       " [7] \"npv_fallback_second_tld_geo\"     \"npv_fallback_third_final\"       \n",
       " [9] \"npv_fallback_third_geo\"          \"npv_fallback_third_tld_geo\"     "
      ]
     },
     "metadata": {},
     "output_type": "display_data"
    }
   ],
   "source": [
    "npv_fallback_tables <- load(\"/home/jupyter/local/Domains_202003/data/npv_fallback_tables\")\n",
    "npv_fallback_tables"
   ]
  },
  {
   "cell_type": "code",
   "execution_count": 8,
   "metadata": {},
   "outputs": [
    {
     "data": {
      "text/html": [
       "<table>\n",
       "<caption>A grouped_df: 6 × 6</caption>\n",
       "<thead>\n",
       "\t<tr><th scope=col>region</th><th scope=col>reg_arpt_slab</th><th scope=col>expiring_domains</th><th scope=col>renewed_domains</th><th scope=col>renewal_rate</th><th scope=col>index</th></tr>\n",
       "\t<tr><th scope=col>&lt;chr&gt;</th><th scope=col>&lt;fct&gt;</th><th scope=col>&lt;int&gt;</th><th scope=col>&lt;int&gt;</th><th scope=col>&lt;dbl&gt;</th><th scope=col>&lt;chr&gt;</th></tr>\n",
       "</thead>\n",
       "<tbody>\n",
       "\t<tr><td>China</td><td>(-Inf,0]</td><td> 35669</td><td> 2139</td><td>0.060</td><td>China(-Inf,0]</td></tr>\n",
       "\t<tr><td>China</td><td>(0,1]   </td><td>536645</td><td>11052</td><td>0.021</td><td>China(0,1]   </td></tr>\n",
       "\t<tr><td>China</td><td>(1,3]   </td><td> 84869</td><td>12063</td><td>0.142</td><td>China(1,3]   </td></tr>\n",
       "\t<tr><td>China</td><td>(3,5]   </td><td>  1356</td><td>  340</td><td>0.251</td><td>China(3,5]   </td></tr>\n",
       "\t<tr><td>China</td><td>(5,10]  </td><td>   177</td><td>   36</td><td>0.203</td><td>China(5,10]  </td></tr>\n",
       "\t<tr><td>China</td><td>(10,15] </td><td>   427</td><td>  122</td><td>0.286</td><td>China(10,15] </td></tr>\n",
       "</tbody>\n",
       "</table>\n"
      ],
      "text/latex": [
       "A grouped\\_df: 6 × 6\n",
       "\\begin{tabular}{llllll}\n",
       " region & reg\\_arpt\\_slab & expiring\\_domains & renewed\\_domains & renewal\\_rate & index\\\\\n",
       " <chr> & <fct> & <int> & <int> & <dbl> & <chr>\\\\\n",
       "\\hline\n",
       "\t China & (-Inf,0{]} &  35669 &  2139 & 0.060 & China(-Inf,0{]}\\\\\n",
       "\t China & (0,1{]}    & 536645 & 11052 & 0.021 & China(0,1{]}   \\\\\n",
       "\t China & (1,3{]}    &  84869 & 12063 & 0.142 & China(1,3{]}   \\\\\n",
       "\t China & (3,5{]}    &   1356 &   340 & 0.251 & China(3,5{]}   \\\\\n",
       "\t China & (5,10{]}   &    177 &    36 & 0.203 & China(5,10{]}  \\\\\n",
       "\t China & (10,15{]}  &    427 &   122 & 0.286 & China(10,15{]} \\\\\n",
       "\\end{tabular}\n"
      ],
      "text/markdown": [
       "\n",
       "A grouped_df: 6 × 6\n",
       "\n",
       "| region &lt;chr&gt; | reg_arpt_slab &lt;fct&gt; | expiring_domains &lt;int&gt; | renewed_domains &lt;int&gt; | renewal_rate &lt;dbl&gt; | index &lt;chr&gt; |\n",
       "|---|---|---|---|---|---|\n",
       "| China | (-Inf,0] |  35669 |  2139 | 0.060 | China(-Inf,0] |\n",
       "| China | (0,1]    | 536645 | 11052 | 0.021 | China(0,1]    |\n",
       "| China | (1,3]    |  84869 | 12063 | 0.142 | China(1,3]    |\n",
       "| China | (3,5]    |   1356 |   340 | 0.251 | China(3,5]    |\n",
       "| China | (5,10]   |    177 |    36 | 0.203 | China(5,10]   |\n",
       "| China | (10,15]  |    427 |   122 | 0.286 | China(10,15]  |\n",
       "\n"
      ],
      "text/plain": [
       "  region reg_arpt_slab expiring_domains renewed_domains renewal_rate\n",
       "1 China  (-Inf,0]       35669            2139           0.060       \n",
       "2 China  (0,1]         536645           11052           0.021       \n",
       "3 China  (1,3]          84869           12063           0.142       \n",
       "4 China  (3,5]           1356             340           0.251       \n",
       "5 China  (5,10]           177              36           0.203       \n",
       "6 China  (10,15]          427             122           0.286       \n",
       "  index        \n",
       "1 China(-Inf,0]\n",
       "2 China(0,1]   \n",
       "3 China(1,3]   \n",
       "4 China(3,5]   \n",
       "5 China(5,10]  \n",
       "6 China(10,15] "
      ]
     },
     "metadata": {},
     "output_type": "display_data"
    }
   ],
   "source": [
    "head(npv_fallback_first_final)"
   ]
  },
  {
   "cell_type": "code",
   "execution_count": 9,
   "metadata": {},
   "outputs": [
    {
     "data": {
      "text/html": [
       "<table>\n",
       "<caption>A grouped_df: 6 × 6</caption>\n",
       "<thead>\n",
       "\t<tr><th scope=col>reseller_geo</th><th scope=col>reg_arpt_slab</th><th scope=col>expiring_domains</th><th scope=col>renewed_domains</th><th scope=col>renewal_rate</th><th scope=col>index</th></tr>\n",
       "\t<tr><th scope=col>&lt;chr&gt;</th><th scope=col>&lt;fct&gt;</th><th scope=col>&lt;int&gt;</th><th scope=col>&lt;int&gt;</th><th scope=col>&lt;dbl&gt;</th><th scope=col>&lt;chr&gt;</th></tr>\n",
       "</thead>\n",
       "<tbody>\n",
       "\t<tr><td>Africa                 </td><td>(0,1]  </td><td>1278</td><td>  34</td><td>0.027</td><td>Africa(0,1]                   </td></tr>\n",
       "\t<tr><td>Africa                 </td><td>(1,3]  </td><td>1451</td><td>  67</td><td>0.046</td><td>Africa(1,3]                   </td></tr>\n",
       "\t<tr><td>Australia &amp; New Zealand</td><td><span style=white-space:pre-wrap>(1,3]  </span></td><td>1087</td><td> 276</td><td>0.254</td><td><span style=white-space:pre-wrap>Australia &amp; New Zealand(1,3]  </span></td></tr>\n",
       "\t<tr><td>Australia &amp; New Zealand</td><td><span style=white-space:pre-wrap>(3,5]  </span></td><td> 773</td><td> 264</td><td>0.342</td><td><span style=white-space:pre-wrap>Australia &amp; New Zealand(3,5]  </span></td></tr>\n",
       "\t<tr><td>Australia &amp; New Zealand</td><td>(5,10] </td><td>2435</td><td>1129</td><td>0.464</td><td>Australia &amp; New Zealand(5,10] </td></tr>\n",
       "\t<tr><td>Australia &amp; New Zealand</td><td>(10,15]</td><td> 713</td><td> 308</td><td>0.432</td><td>Australia &amp; New Zealand(10,15]</td></tr>\n",
       "</tbody>\n",
       "</table>\n"
      ],
      "text/latex": [
       "A grouped\\_df: 6 × 6\n",
       "\\begin{tabular}{llllll}\n",
       " reseller\\_geo & reg\\_arpt\\_slab & expiring\\_domains & renewed\\_domains & renewal\\_rate & index\\\\\n",
       " <chr> & <fct> & <int> & <int> & <dbl> & <chr>\\\\\n",
       "\\hline\n",
       "\t Africa                  & (0,1{]}   & 1278 &   34 & 0.027 & Africa(0,1{]}                   \\\\\n",
       "\t Africa                  & (1,3{]}   & 1451 &   67 & 0.046 & Africa(1,3{]}                   \\\\\n",
       "\t Australia \\& New Zealand & (1,3{]}   & 1087 &  276 & 0.254 & Australia \\& New Zealand(1,3{]}  \\\\\n",
       "\t Australia \\& New Zealand & (3,5{]}   &  773 &  264 & 0.342 & Australia \\& New Zealand(3,5{]}  \\\\\n",
       "\t Australia \\& New Zealand & (5,10{]}  & 2435 & 1129 & 0.464 & Australia \\& New Zealand(5,10{]} \\\\\n",
       "\t Australia \\& New Zealand & (10,15{]} &  713 &  308 & 0.432 & Australia \\& New Zealand(10,15{]}\\\\\n",
       "\\end{tabular}\n"
      ],
      "text/markdown": [
       "\n",
       "A grouped_df: 6 × 6\n",
       "\n",
       "| reseller_geo &lt;chr&gt; | reg_arpt_slab &lt;fct&gt; | expiring_domains &lt;int&gt; | renewed_domains &lt;int&gt; | renewal_rate &lt;dbl&gt; | index &lt;chr&gt; |\n",
       "|---|---|---|---|---|---|\n",
       "| Africa                  | (0,1]   | 1278 |   34 | 0.027 | Africa(0,1]                    |\n",
       "| Africa                  | (1,3]   | 1451 |   67 | 0.046 | Africa(1,3]                    |\n",
       "| Australia &amp; New Zealand | (1,3]   | 1087 |  276 | 0.254 | Australia &amp; New Zealand(1,3]   |\n",
       "| Australia &amp; New Zealand | (3,5]   |  773 |  264 | 0.342 | Australia &amp; New Zealand(3,5]   |\n",
       "| Australia &amp; New Zealand | (5,10]  | 2435 | 1129 | 0.464 | Australia &amp; New Zealand(5,10]  |\n",
       "| Australia &amp; New Zealand | (10,15] |  713 |  308 | 0.432 | Australia &amp; New Zealand(10,15] |\n",
       "\n"
      ],
      "text/plain": [
       "  reseller_geo            reg_arpt_slab expiring_domains renewed_domains\n",
       "1 Africa                  (0,1]         1278               34           \n",
       "2 Africa                  (1,3]         1451               67           \n",
       "3 Australia & New Zealand (1,3]         1087              276           \n",
       "4 Australia & New Zealand (3,5]          773              264           \n",
       "5 Australia & New Zealand (5,10]        2435             1129           \n",
       "6 Australia & New Zealand (10,15]        713              308           \n",
       "  renewal_rate index                         \n",
       "1 0.027        Africa(0,1]                   \n",
       "2 0.046        Africa(1,3]                   \n",
       "3 0.254        Australia & New Zealand(1,3]  \n",
       "4 0.342        Australia & New Zealand(3,5]  \n",
       "5 0.464        Australia & New Zealand(5,10] \n",
       "6 0.432        Australia & New Zealand(10,15]"
      ]
     },
     "metadata": {},
     "output_type": "display_data"
    }
   ],
   "source": [
    "head(npv_fallback_first_geo_arpt)"
   ]
  },
  {
   "cell_type": "code",
   "execution_count": 10,
   "metadata": {},
   "outputs": [
    {
     "data": {
      "text/html": [
       "<table>\n",
       "<caption>A grouped_df: 6 × 7</caption>\n",
       "<thead>\n",
       "\t<tr><th scope=col>tld</th><th scope=col>reseller_geo</th><th scope=col>reg_arpt_slab</th><th scope=col>expiring_domains</th><th scope=col>renewed_domains</th><th scope=col>renewal_rate</th><th scope=col>index</th></tr>\n",
       "\t<tr><th scope=col>&lt;chr&gt;</th><th scope=col>&lt;chr&gt;</th><th scope=col>&lt;fct&gt;</th><th scope=col>&lt;int&gt;</th><th scope=col>&lt;int&gt;</th><th scope=col>&lt;dbl&gt;</th><th scope=col>&lt;chr&gt;</th></tr>\n",
       "</thead>\n",
       "<tbody>\n",
       "\t<tr><td>fun</td><td>China</td><td>(-Inf,0]</td><td> 2098</td><td> 111</td><td>0.053</td><td>funChina(-Inf,0]</td></tr>\n",
       "\t<tr><td>fun</td><td>China</td><td>(0,1]   </td><td>82340</td><td>1910</td><td>0.023</td><td>funChina(0,1]   </td></tr>\n",
       "\t<tr><td>fun</td><td>China</td><td>(1,3]   </td><td> 9991</td><td>1454</td><td>0.146</td><td>funChina(1,3]   </td></tr>\n",
       "\t<tr><td>fun</td><td>EU   </td><td>(-Inf,0]</td><td>  901</td><td>   8</td><td>0.009</td><td>funEU(-Inf,0]   </td></tr>\n",
       "\t<tr><td>fun</td><td>EU   </td><td>(0,1]   </td><td> 6206</td><td> 210</td><td>0.034</td><td>funEU(0,1]      </td></tr>\n",
       "\t<tr><td>fun</td><td>EU   </td><td>(1,3]   </td><td> 1907</td><td> 550</td><td>0.288</td><td>funEU(1,3]      </td></tr>\n",
       "</tbody>\n",
       "</table>\n"
      ],
      "text/latex": [
       "A grouped\\_df: 6 × 7\n",
       "\\begin{tabular}{lllllll}\n",
       " tld & reseller\\_geo & reg\\_arpt\\_slab & expiring\\_domains & renewed\\_domains & renewal\\_rate & index\\\\\n",
       " <chr> & <chr> & <fct> & <int> & <int> & <dbl> & <chr>\\\\\n",
       "\\hline\n",
       "\t fun & China & (-Inf,0{]} &  2098 &  111 & 0.053 & funChina(-Inf,0{]}\\\\\n",
       "\t fun & China & (0,1{]}    & 82340 & 1910 & 0.023 & funChina(0,1{]}   \\\\\n",
       "\t fun & China & (1,3{]}    &  9991 & 1454 & 0.146 & funChina(1,3{]}   \\\\\n",
       "\t fun & EU    & (-Inf,0{]} &   901 &    8 & 0.009 & funEU(-Inf,0{]}   \\\\\n",
       "\t fun & EU    & (0,1{]}    &  6206 &  210 & 0.034 & funEU(0,1{]}      \\\\\n",
       "\t fun & EU    & (1,3{]}    &  1907 &  550 & 0.288 & funEU(1,3{]}      \\\\\n",
       "\\end{tabular}\n"
      ],
      "text/markdown": [
       "\n",
       "A grouped_df: 6 × 7\n",
       "\n",
       "| tld &lt;chr&gt; | reseller_geo &lt;chr&gt; | reg_arpt_slab &lt;fct&gt; | expiring_domains &lt;int&gt; | renewed_domains &lt;int&gt; | renewal_rate &lt;dbl&gt; | index &lt;chr&gt; |\n",
       "|---|---|---|---|---|---|---|\n",
       "| fun | China | (-Inf,0] |  2098 |  111 | 0.053 | funChina(-Inf,0] |\n",
       "| fun | China | (0,1]    | 82340 | 1910 | 0.023 | funChina(0,1]    |\n",
       "| fun | China | (1,3]    |  9991 | 1454 | 0.146 | funChina(1,3]    |\n",
       "| fun | EU    | (-Inf,0] |   901 |    8 | 0.009 | funEU(-Inf,0]    |\n",
       "| fun | EU    | (0,1]    |  6206 |  210 | 0.034 | funEU(0,1]       |\n",
       "| fun | EU    | (1,3]    |  1907 |  550 | 0.288 | funEU(1,3]       |\n",
       "\n"
      ],
      "text/plain": [
       "  tld reseller_geo reg_arpt_slab expiring_domains renewed_domains renewal_rate\n",
       "1 fun China        (-Inf,0]       2098             111            0.053       \n",
       "2 fun China        (0,1]         82340            1910            0.023       \n",
       "3 fun China        (1,3]          9991            1454            0.146       \n",
       "4 fun EU           (-Inf,0]        901               8            0.009       \n",
       "5 fun EU           (0,1]          6206             210            0.034       \n",
       "6 fun EU           (1,3]          1907             550            0.288       \n",
       "  index           \n",
       "1 funChina(-Inf,0]\n",
       "2 funChina(0,1]   \n",
       "3 funChina(1,3]   \n",
       "4 funEU(-Inf,0]   \n",
       "5 funEU(0,1]      \n",
       "6 funEU(1,3]      "
      ]
     },
     "metadata": {},
     "output_type": "display_data"
    }
   ],
   "source": [
    "head(npv_fallback_first_geo_arpt_tld)"
   ]
  },
  {
   "cell_type": "markdown",
   "metadata": {},
   "source": [
    "## Using just npv_fallback_first_geo_arpt_tld to pull up renewal_rate given [tld,reseller_geo,reg_arpt] - **COnfirm w/ Parag**"
   ]
  },
  {
   "cell_type": "code",
   "execution_count": 11,
   "metadata": {},
   "outputs": [
    {
     "data": {
      "text/html": [
       "<style>\n",
       ".list-inline {list-style: none; margin:0; padding: 0}\n",
       ".list-inline>li {display: inline-block}\n",
       ".list-inline>li:not(:last-child)::after {content: \"\\00b7\"; padding: 0 .5ex}\n",
       "</style>\n",
       "<ol class=list-inline><li>297100</li><li>12</li></ol>\n"
      ],
      "text/latex": [
       "\\begin{enumerate*}\n",
       "\\item 297100\n",
       "\\item 12\n",
       "\\end{enumerate*}\n"
      ],
      "text/markdown": [
       "1. 297100\n",
       "2. 12\n",
       "\n",
       "\n"
      ],
      "text/plain": [
       "[1] 297100     12"
      ]
     },
     "metadata": {},
     "output_type": "display_data"
    },
    {
     "data": {
      "text/html": [
       "<table>\n",
       "<caption>A data.frame: 6 × 12</caption>\n",
       "<thead>\n",
       "\t<tr><th></th><th scope=col>actual</th><th scope=col>pred_df_seg2_glm</th><th scope=col>pred_df_seg_glm</th><th scope=col>pred_df_agg_glm</th><th scope=col>pred_df_seg2_rf</th><th scope=col>pred_df_seg_rf</th><th scope=col>pred_df_agg_rf</th><th scope=col>tld_registrar_index</th><th scope=col>reseller</th><th scope=col>n</th><th scope=col>domain_id</th><th scope=col>domain</th></tr>\n",
       "\t<tr><th></th><th scope=col>&lt;fct&gt;</th><th scope=col>&lt;dbl&gt;</th><th scope=col>&lt;dbl&gt;</th><th scope=col>&lt;dbl&gt;</th><th scope=col>&lt;dbl&gt;</th><th scope=col>&lt;dbl&gt;</th><th scope=col>&lt;dbl&gt;</th><th scope=col>&lt;fct&gt;</th><th scope=col>&lt;fct&gt;</th><th scope=col>&lt;int&gt;</th><th scope=col>&lt;int&gt;</th><th scope=col>&lt;fct&gt;</th></tr>\n",
       "</thead>\n",
       "<tbody>\n",
       "\t<tr><th scope=row>1</th><td>Not Renewd</td><td>0.6470992</td><td>0.558</td><td>0.419</td><td>0.4765771</td><td>0.4545657</td><td>0.5386137</td><td>sitegmo</td><td>gmo</td><td>106569</td><td>44295183</td><td>kagen.site           </td></tr>\n",
       "\t<tr><th scope=row>2</th><td>Renewed   </td><td>0.6762222</td><td>0.567</td><td>0.397</td><td>0.5410605</td><td>0.5769973</td><td>0.6091513</td><td>sitegmo</td><td>gmo</td><td>106569</td><td>44573611</td><td>designlab.site       </td></tr>\n",
       "\t<tr><th scope=row>3</th><td>Renewed   </td><td>0.9098495</td><td>0.835</td><td>0.410</td><td>0.7018108</td><td>0.6343404</td><td>0.6886680</td><td>sitegmo</td><td>gmo</td><td>106569</td><td>45304858</td><td>hokatu-blog.site     </td></tr>\n",
       "\t<tr><th scope=row>4</th><td>Renewed   </td><td>0.6029350</td><td>0.515</td><td>0.402</td><td>0.2414726</td><td>0.3999603</td><td>0.3464197</td><td>sitegmo</td><td>gmo</td><td>106569</td><td>46235129</td><td>suzuya.site          </td></tr>\n",
       "\t<tr><th scope=row>5</th><td>Not Renewd</td><td>0.9311321</td><td>0.863</td><td>0.417</td><td>0.7749462</td><td>0.7039504</td><td>0.6711740</td><td>sitegmo</td><td>gmo</td><td>106569</td><td>46276970</td><td>wins-company.site    </td></tr>\n",
       "\t<tr><th scope=row>6</th><td>Renewed   </td><td>0.9347869</td><td>0.861</td><td>0.391</td><td>0.6376848</td><td>0.6566740</td><td>0.6717237</td><td>sitegmo</td><td>gmo</td><td>106569</td><td>47809960</td><td>yamatoku-company.site</td></tr>\n",
       "</tbody>\n",
       "</table>\n"
      ],
      "text/latex": [
       "A data.frame: 6 × 12\n",
       "\\begin{tabular}{r|llllllllllll}\n",
       "  & actual & pred\\_df\\_seg2\\_glm & pred\\_df\\_seg\\_glm & pred\\_df\\_agg\\_glm & pred\\_df\\_seg2\\_rf & pred\\_df\\_seg\\_rf & pred\\_df\\_agg\\_rf & tld\\_registrar\\_index & reseller & n & domain\\_id & domain\\\\\n",
       "  & <fct> & <dbl> & <dbl> & <dbl> & <dbl> & <dbl> & <dbl> & <fct> & <fct> & <int> & <int> & <fct>\\\\\n",
       "\\hline\n",
       "\t1 & Not Renewd & 0.6470992 & 0.558 & 0.419 & 0.4765771 & 0.4545657 & 0.5386137 & sitegmo & gmo & 106569 & 44295183 & kagen.site           \\\\\n",
       "\t2 & Renewed    & 0.6762222 & 0.567 & 0.397 & 0.5410605 & 0.5769973 & 0.6091513 & sitegmo & gmo & 106569 & 44573611 & designlab.site       \\\\\n",
       "\t3 & Renewed    & 0.9098495 & 0.835 & 0.410 & 0.7018108 & 0.6343404 & 0.6886680 & sitegmo & gmo & 106569 & 45304858 & hokatu-blog.site     \\\\\n",
       "\t4 & Renewed    & 0.6029350 & 0.515 & 0.402 & 0.2414726 & 0.3999603 & 0.3464197 & sitegmo & gmo & 106569 & 46235129 & suzuya.site          \\\\\n",
       "\t5 & Not Renewd & 0.9311321 & 0.863 & 0.417 & 0.7749462 & 0.7039504 & 0.6711740 & sitegmo & gmo & 106569 & 46276970 & wins-company.site    \\\\\n",
       "\t6 & Renewed    & 0.9347869 & 0.861 & 0.391 & 0.6376848 & 0.6566740 & 0.6717237 & sitegmo & gmo & 106569 & 47809960 & yamatoku-company.site\\\\\n",
       "\\end{tabular}\n"
      ],
      "text/markdown": [
       "\n",
       "A data.frame: 6 × 12\n",
       "\n",
       "| <!--/--> | actual &lt;fct&gt; | pred_df_seg2_glm &lt;dbl&gt; | pred_df_seg_glm &lt;dbl&gt; | pred_df_agg_glm &lt;dbl&gt; | pred_df_seg2_rf &lt;dbl&gt; | pred_df_seg_rf &lt;dbl&gt; | pred_df_agg_rf &lt;dbl&gt; | tld_registrar_index &lt;fct&gt; | reseller &lt;fct&gt; | n &lt;int&gt; | domain_id &lt;int&gt; | domain &lt;fct&gt; |\n",
       "|---|---|---|---|---|---|---|---|---|---|---|---|---|\n",
       "| 1 | Not Renewd | 0.6470992 | 0.558 | 0.419 | 0.4765771 | 0.4545657 | 0.5386137 | sitegmo | gmo | 106569 | 44295183 | kagen.site            |\n",
       "| 2 | Renewed    | 0.6762222 | 0.567 | 0.397 | 0.5410605 | 0.5769973 | 0.6091513 | sitegmo | gmo | 106569 | 44573611 | designlab.site        |\n",
       "| 3 | Renewed    | 0.9098495 | 0.835 | 0.410 | 0.7018108 | 0.6343404 | 0.6886680 | sitegmo | gmo | 106569 | 45304858 | hokatu-blog.site      |\n",
       "| 4 | Renewed    | 0.6029350 | 0.515 | 0.402 | 0.2414726 | 0.3999603 | 0.3464197 | sitegmo | gmo | 106569 | 46235129 | suzuya.site           |\n",
       "| 5 | Not Renewd | 0.9311321 | 0.863 | 0.417 | 0.7749462 | 0.7039504 | 0.6711740 | sitegmo | gmo | 106569 | 46276970 | wins-company.site     |\n",
       "| 6 | Renewed    | 0.9347869 | 0.861 | 0.391 | 0.6376848 | 0.6566740 | 0.6717237 | sitegmo | gmo | 106569 | 47809960 | yamatoku-company.site |\n",
       "\n"
      ],
      "text/plain": [
       "  actual     pred_df_seg2_glm pred_df_seg_glm pred_df_agg_glm pred_df_seg2_rf\n",
       "1 Not Renewd 0.6470992        0.558           0.419           0.4765771      \n",
       "2 Renewed    0.6762222        0.567           0.397           0.5410605      \n",
       "3 Renewed    0.9098495        0.835           0.410           0.7018108      \n",
       "4 Renewed    0.6029350        0.515           0.402           0.2414726      \n",
       "5 Not Renewd 0.9311321        0.863           0.417           0.7749462      \n",
       "6 Renewed    0.9347869        0.861           0.391           0.6376848      \n",
       "  pred_df_seg_rf pred_df_agg_rf tld_registrar_index reseller n      domain_id\n",
       "1 0.4545657      0.5386137      sitegmo             gmo      106569 44295183 \n",
       "2 0.5769973      0.6091513      sitegmo             gmo      106569 44573611 \n",
       "3 0.6343404      0.6886680      sitegmo             gmo      106569 45304858 \n",
       "4 0.3999603      0.3464197      sitegmo             gmo      106569 46235129 \n",
       "5 0.7039504      0.6711740      sitegmo             gmo      106569 46276970 \n",
       "6 0.6566740      0.6717237      sitegmo             gmo      106569 47809960 \n",
       "  domain               \n",
       "1 kagen.site           \n",
       "2 designlab.site       \n",
       "3 hokatu-blog.site     \n",
       "4 suzuya.site          \n",
       "5 wins-company.site    \n",
       "6 yamatoku-company.site"
      ]
     },
     "metadata": {},
     "output_type": "display_data"
    }
   ],
   "source": [
    "dim(predictions_df)\n",
    "head(predictions_df)"
   ]
  },
  {
   "cell_type": "code",
   "execution_count": 12,
   "metadata": {},
   "outputs": [
    {
     "data": {
      "text/html": [
       "<style>\n",
       ".list-inline {list-style: none; margin:0; padding: 0}\n",
       ".list-inline>li {display: inline-block}\n",
       ".list-inline>li:not(:last-child)::after {content: \"\\00b7\"; padding: 0 .5ex}\n",
       "</style>\n",
       "<ol class=list-inline><li>296797</li><li>39</li></ol>\n"
      ],
      "text/latex": [
       "\\begin{enumerate*}\n",
       "\\item 296797\n",
       "\\item 39\n",
       "\\end{enumerate*}\n"
      ],
      "text/markdown": [
       "1. 296797\n",
       "2. 39\n",
       "\n",
       "\n"
      ],
      "text/plain": [
       "[1] 296797     39"
      ]
     },
     "metadata": {},
     "output_type": "display_data"
    },
    {
     "data": {
      "text/html": [
       "<table>\n",
       "<caption>A data.table: 6 × 39</caption>\n",
       "<thead>\n",
       "\t<tr><th scope=col>renewal_type</th><th scope=col>renewed_count</th><th scope=col>expiry_date</th><th scope=col>domain_id</th><th scope=col>domain</th><th scope=col>creation_date</th><th scope=col>status</th><th scope=col>tld</th><th scope=col>registrar</th><th scope=col>reseller</th><th scope=col>reseller_country</th><th scope=col>region</th><th scope=col>reg_period</th><th scope=col>registrant_country</th><th scope=col>renewal_status</th><th scope=col>renew_mbg</th><th scope=col>renew_type</th><th scope=col>autorenew_type</th><th scope=col>renew_date</th><th scope=col>renew_registrar</th><th scope=col>renew_reseller</th><th scope=col>reg_revenue</th><th scope=col>reg_arpt</th><th scope=col>renew_period</th><th scope=col>renew_domain_revenue</th><th scope=col>renew_arpt</th><th scope=col>reg_arpt_org</th><th scope=col>tld_registrar_index</th><th scope=col>sld</th><th scope=col>sld_type</th><th scope=col>sld_length</th><th scope=col>sld_type2</th><th scope=col>day_domains</th><th scope=col>log_reg_arpt</th><th scope=col>gibb_score</th><th scope=col>pattern</th><th scope=col>cluster</th><th scope=col>pattern_score</th><th scope=col>pattern_domain_count</th></tr>\n",
       "\t<tr><th scope=col>&lt;chr&gt;</th><th scope=col>&lt;int&gt;</th><th scope=col>&lt;date&gt;</th><th scope=col>&lt;int&gt;</th><th scope=col>&lt;chr&gt;</th><th scope=col>&lt;date&gt;</th><th scope=col>&lt;chr&gt;</th><th scope=col>&lt;fct&gt;</th><th scope=col>&lt;chr&gt;</th><th scope=col>&lt;chr&gt;</th><th scope=col>&lt;chr&gt;</th><th scope=col>&lt;chr&gt;</th><th scope=col>&lt;int&gt;</th><th scope=col>&lt;chr&gt;</th><th scope=col>&lt;fct&gt;</th><th scope=col>&lt;int&gt;</th><th scope=col>&lt;chr&gt;</th><th scope=col>&lt;chr&gt;</th><th scope=col>&lt;date&gt;</th><th scope=col>&lt;chr&gt;</th><th scope=col>&lt;chr&gt;</th><th scope=col>&lt;dbl&gt;</th><th scope=col>&lt;dbl&gt;</th><th scope=col>&lt;int&gt;</th><th scope=col>&lt;dbl&gt;</th><th scope=col>&lt;dbl&gt;</th><th scope=col>&lt;dbl&gt;</th><th scope=col>&lt;chr&gt;</th><th scope=col>&lt;chr&gt;</th><th scope=col>&lt;fct&gt;</th><th scope=col>&lt;int&gt;</th><th scope=col>&lt;chr&gt;</th><th scope=col>&lt;int&gt;</th><th scope=col>&lt;dbl&gt;</th><th scope=col>&lt;dbl&gt;</th><th scope=col>&lt;chr&gt;</th><th scope=col>&lt;chr&gt;</th><th scope=col>&lt;dbl&gt;</th><th scope=col>&lt;int&gt;</th></tr>\n",
       "</thead>\n",
       "<tbody>\n",
       "\t<tr><td>FirstTime</td><td>1</td><td>2020-01-22</td><td> 91639803</td><td><span style=white-space:pre-wrap>segeln.fun   </span></td><td>2019-01-22</td><td>Active</td><td>fun</td><td><span style=white-space:pre-wrap>1&amp;1 internet    </span></td><td><span style=white-space:pre-wrap>1&amp;1 internet    </span></td><td>Germany</td><td>Non China</td><td>1</td><td>NA</td><td><span style=white-space:pre-wrap>Renewed   </span></td><td>0</td><td>auto-renewal</td><td><span style=white-space:pre-wrap>realized  </span></td><td>2020-01-22</td><td><span style=white-space:pre-wrap>1&amp;1 Internet    </span></td><td><span style=white-space:pre-wrap>1&amp;1 Internet    </span></td><td>15</td><td>15</td><td>1</td><td>15</td><td>15</td><td>15</td><td><span style=white-space:pre-wrap>fun1&amp;1 internet    </span></td><td><span style=white-space:pre-wrap>segeln   </span></td><td>l</td><td>6</td><td>6l</td><td>1</td><td>2.708050</td><td>2.23</td><td><span style=white-space:pre-wrap>segeln   </span></td><td>1</td><td>1</td><td>1</td></tr>\n",
       "\t<tr><td>FirstTime</td><td>1</td><td>2020-03-07</td><td> 95819759</td><td>harzhotel.fun</td><td>2019-03-07</td><td>Active</td><td>fun</td><td><span style=white-space:pre-wrap>1&amp;1 internet    </span></td><td><span style=white-space:pre-wrap>1&amp;1 internet    </span></td><td>Germany</td><td>Non China</td><td>1</td><td>NA</td><td><span style=white-space:pre-wrap>Renewed   </span></td><td>0</td><td>auto-renewal</td><td><span style=white-space:pre-wrap>realized  </span></td><td>2020-03-07</td><td><span style=white-space:pre-wrap>1&amp;1 Internet    </span></td><td><span style=white-space:pre-wrap>1&amp;1 Internet    </span></td><td>15</td><td>15</td><td>1</td><td>15</td><td>15</td><td>15</td><td><span style=white-space:pre-wrap>fun1&amp;1 internet    </span></td><td>harzhotel</td><td>l</td><td>9</td><td>9l</td><td>1</td><td>2.708050</td><td>3.45</td><td>harzhotel</td><td>1</td><td>1</td><td>1</td></tr>\n",
       "\t<tr><td>FirstTime</td><td>1</td><td>2020-01-15</td><td> 91044973</td><td>movistar.fun </td><td>2019-01-15</td><td>Active</td><td>fun</td><td>10dencehispahard</td><td>10dencehispahard</td><td>Spain  </td><td>Non China</td><td>1</td><td>NA</td><td>Not Renewd</td><td>0</td><td>auto-renewal</td><td>unrealized</td><td>2020-01-15</td><td>10dencehispahard</td><td>10dencehispahard</td><td>15</td><td>15</td><td>1</td><td>15</td><td>15</td><td>15</td><td>fun10dencehispahard</td><td>movistar </td><td>l</td><td>8</td><td>8l</td><td>1</td><td>2.708050</td><td>8.62</td><td>movistar </td><td>1</td><td>1</td><td>1</td></tr>\n",
       "\t<tr><td>FirstTime</td><td>1</td><td>2020-02-01</td><td> 92472913</td><td>kuinik.fun   </td><td>2019-02-01</td><td>Active</td><td>fun</td><td>10dencehispahard</td><td>10dencehispahard</td><td>Spain  </td><td>Non China</td><td>1</td><td>NA</td><td>Not Renewd</td><td>0</td><td>auto-renewal</td><td>unrealized</td><td>2020-02-01</td><td>10dencehispahard</td><td>10dencehispahard</td><td>15</td><td>15</td><td>1</td><td>15</td><td>15</td><td>15</td><td>fun10dencehispahard</td><td>kuinik   </td><td>l</td><td>6</td><td>6l</td><td>1</td><td>2.708050</td><td>3.13</td><td>kuinik   </td><td>1</td><td>1</td><td>1</td></tr>\n",
       "\t<tr><td>FirstTime</td><td>1</td><td>2020-01-21</td><td> 91532433</td><td>bulgari.fun  </td><td>2019-01-21</td><td>Active</td><td>fun</td><td>1api            </td><td>1api            </td><td>Germany</td><td>Non China</td><td>1</td><td>NA</td><td>Renewed   </td><td>0</td><td>auto-renewal</td><td>realized  </td><td>2020-01-21</td><td>1API            </td><td>1API            </td><td> 5</td><td> 5</td><td>1</td><td>15</td><td>15</td><td> 5</td><td>fun1api            </td><td>bulgari  </td><td>l</td><td>7</td><td>7l</td><td>1</td><td>1.609438</td><td>4.51</td><td>bulgari  </td><td>1</td><td>1</td><td>1</td></tr>\n",
       "\t<tr><td>FirstTime</td><td>1</td><td>2020-04-24</td><td>101717674</td><td>gotsome.fun  </td><td>2019-04-24</td><td>Active</td><td>fun</td><td>1api            </td><td>1api            </td><td>Germany</td><td>Non China</td><td>1</td><td>NA</td><td>Not Renewd</td><td>0</td><td>auto-renewal</td><td>unrealized</td><td>2020-04-24</td><td>1API            </td><td>1API            </td><td> 5</td><td> 5</td><td>1</td><td>15</td><td>15</td><td> 5</td><td>fun1api            </td><td>gotsome  </td><td>l</td><td>7</td><td>7l</td><td>1</td><td>1.609438</td><td>6.09</td><td>gotsome  </td><td>1</td><td>1</td><td>1</td></tr>\n",
       "</tbody>\n",
       "</table>\n"
      ],
      "text/latex": [
       "A data.table: 6 × 39\n",
       "\\begin{tabular}{lllllllllllllllllllllllllllllllllllllll}\n",
       " renewal\\_type & renewed\\_count & expiry\\_date & domain\\_id & domain & creation\\_date & status & tld & registrar & reseller & reseller\\_country & region & reg\\_period & registrant\\_country & renewal\\_status & renew\\_mbg & renew\\_type & autorenew\\_type & renew\\_date & renew\\_registrar & renew\\_reseller & reg\\_revenue & reg\\_arpt & renew\\_period & renew\\_domain\\_revenue & renew\\_arpt & reg\\_arpt\\_org & tld\\_registrar\\_index & sld & sld\\_type & sld\\_length & sld\\_type2 & day\\_domains & log\\_reg\\_arpt & gibb\\_score & pattern & cluster & pattern\\_score & pattern\\_domain\\_count\\\\\n",
       " <chr> & <int> & <date> & <int> & <chr> & <date> & <chr> & <fct> & <chr> & <chr> & <chr> & <chr> & <int> & <chr> & <fct> & <int> & <chr> & <chr> & <date> & <chr> & <chr> & <dbl> & <dbl> & <int> & <dbl> & <dbl> & <dbl> & <chr> & <chr> & <fct> & <int> & <chr> & <int> & <dbl> & <dbl> & <chr> & <chr> & <dbl> & <int>\\\\\n",
       "\\hline\n",
       "\t FirstTime & 1 & 2020-01-22 &  91639803 & segeln.fun    & 2019-01-22 & Active & fun & 1\\&1 internet     & 1\\&1 internet     & Germany & Non China & 1 & NA & Renewed    & 0 & auto-renewal & realized   & 2020-01-22 & 1\\&1 Internet     & 1\\&1 Internet     & 15 & 15 & 1 & 15 & 15 & 15 & fun1\\&1 internet     & segeln    & l & 6 & 6l & 1 & 2.708050 & 2.23 & segeln    & 1 & 1 & 1\\\\\n",
       "\t FirstTime & 1 & 2020-03-07 &  95819759 & harzhotel.fun & 2019-03-07 & Active & fun & 1\\&1 internet     & 1\\&1 internet     & Germany & Non China & 1 & NA & Renewed    & 0 & auto-renewal & realized   & 2020-03-07 & 1\\&1 Internet     & 1\\&1 Internet     & 15 & 15 & 1 & 15 & 15 & 15 & fun1\\&1 internet     & harzhotel & l & 9 & 9l & 1 & 2.708050 & 3.45 & harzhotel & 1 & 1 & 1\\\\\n",
       "\t FirstTime & 1 & 2020-01-15 &  91044973 & movistar.fun  & 2019-01-15 & Active & fun & 10dencehispahard & 10dencehispahard & Spain   & Non China & 1 & NA & Not Renewd & 0 & auto-renewal & unrealized & 2020-01-15 & 10dencehispahard & 10dencehispahard & 15 & 15 & 1 & 15 & 15 & 15 & fun10dencehispahard & movistar  & l & 8 & 8l & 1 & 2.708050 & 8.62 & movistar  & 1 & 1 & 1\\\\\n",
       "\t FirstTime & 1 & 2020-02-01 &  92472913 & kuinik.fun    & 2019-02-01 & Active & fun & 10dencehispahard & 10dencehispahard & Spain   & Non China & 1 & NA & Not Renewd & 0 & auto-renewal & unrealized & 2020-02-01 & 10dencehispahard & 10dencehispahard & 15 & 15 & 1 & 15 & 15 & 15 & fun10dencehispahard & kuinik    & l & 6 & 6l & 1 & 2.708050 & 3.13 & kuinik    & 1 & 1 & 1\\\\\n",
       "\t FirstTime & 1 & 2020-01-21 &  91532433 & bulgari.fun   & 2019-01-21 & Active & fun & 1api             & 1api             & Germany & Non China & 1 & NA & Renewed    & 0 & auto-renewal & realized   & 2020-01-21 & 1API             & 1API             &  5 &  5 & 1 & 15 & 15 &  5 & fun1api             & bulgari   & l & 7 & 7l & 1 & 1.609438 & 4.51 & bulgari   & 1 & 1 & 1\\\\\n",
       "\t FirstTime & 1 & 2020-04-24 & 101717674 & gotsome.fun   & 2019-04-24 & Active & fun & 1api             & 1api             & Germany & Non China & 1 & NA & Not Renewd & 0 & auto-renewal & unrealized & 2020-04-24 & 1API             & 1API             &  5 &  5 & 1 & 15 & 15 &  5 & fun1api             & gotsome   & l & 7 & 7l & 1 & 1.609438 & 6.09 & gotsome   & 1 & 1 & 1\\\\\n",
       "\\end{tabular}\n"
      ],
      "text/markdown": [
       "\n",
       "A data.table: 6 × 39\n",
       "\n",
       "| renewal_type &lt;chr&gt; | renewed_count &lt;int&gt; | expiry_date &lt;date&gt; | domain_id &lt;int&gt; | domain &lt;chr&gt; | creation_date &lt;date&gt; | status &lt;chr&gt; | tld &lt;fct&gt; | registrar &lt;chr&gt; | reseller &lt;chr&gt; | reseller_country &lt;chr&gt; | region &lt;chr&gt; | reg_period &lt;int&gt; | registrant_country &lt;chr&gt; | renewal_status &lt;fct&gt; | renew_mbg &lt;int&gt; | renew_type &lt;chr&gt; | autorenew_type &lt;chr&gt; | renew_date &lt;date&gt; | renew_registrar &lt;chr&gt; | renew_reseller &lt;chr&gt; | reg_revenue &lt;dbl&gt; | reg_arpt &lt;dbl&gt; | renew_period &lt;int&gt; | renew_domain_revenue &lt;dbl&gt; | renew_arpt &lt;dbl&gt; | reg_arpt_org &lt;dbl&gt; | tld_registrar_index &lt;chr&gt; | sld &lt;chr&gt; | sld_type &lt;fct&gt; | sld_length &lt;int&gt; | sld_type2 &lt;chr&gt; | day_domains &lt;int&gt; | log_reg_arpt &lt;dbl&gt; | gibb_score &lt;dbl&gt; | pattern &lt;chr&gt; | cluster &lt;chr&gt; | pattern_score &lt;dbl&gt; | pattern_domain_count &lt;int&gt; |\n",
       "|---|---|---|---|---|---|---|---|---|---|---|---|---|---|---|---|---|---|---|---|---|---|---|---|---|---|---|---|---|---|---|---|---|---|---|---|---|---|---|\n",
       "| FirstTime | 1 | 2020-01-22 |  91639803 | segeln.fun    | 2019-01-22 | Active | fun | 1&amp;1 internet     | 1&amp;1 internet     | Germany | Non China | 1 | NA | Renewed    | 0 | auto-renewal | realized   | 2020-01-22 | 1&amp;1 Internet     | 1&amp;1 Internet     | 15 | 15 | 1 | 15 | 15 | 15 | fun1&amp;1 internet     | segeln    | l | 6 | 6l | 1 | 2.708050 | 2.23 | segeln    | 1 | 1 | 1 |\n",
       "| FirstTime | 1 | 2020-03-07 |  95819759 | harzhotel.fun | 2019-03-07 | Active | fun | 1&amp;1 internet     | 1&amp;1 internet     | Germany | Non China | 1 | NA | Renewed    | 0 | auto-renewal | realized   | 2020-03-07 | 1&amp;1 Internet     | 1&amp;1 Internet     | 15 | 15 | 1 | 15 | 15 | 15 | fun1&amp;1 internet     | harzhotel | l | 9 | 9l | 1 | 2.708050 | 3.45 | harzhotel | 1 | 1 | 1 |\n",
       "| FirstTime | 1 | 2020-01-15 |  91044973 | movistar.fun  | 2019-01-15 | Active | fun | 10dencehispahard | 10dencehispahard | Spain   | Non China | 1 | NA | Not Renewd | 0 | auto-renewal | unrealized | 2020-01-15 | 10dencehispahard | 10dencehispahard | 15 | 15 | 1 | 15 | 15 | 15 | fun10dencehispahard | movistar  | l | 8 | 8l | 1 | 2.708050 | 8.62 | movistar  | 1 | 1 | 1 |\n",
       "| FirstTime | 1 | 2020-02-01 |  92472913 | kuinik.fun    | 2019-02-01 | Active | fun | 10dencehispahard | 10dencehispahard | Spain   | Non China | 1 | NA | Not Renewd | 0 | auto-renewal | unrealized | 2020-02-01 | 10dencehispahard | 10dencehispahard | 15 | 15 | 1 | 15 | 15 | 15 | fun10dencehispahard | kuinik    | l | 6 | 6l | 1 | 2.708050 | 3.13 | kuinik    | 1 | 1 | 1 |\n",
       "| FirstTime | 1 | 2020-01-21 |  91532433 | bulgari.fun   | 2019-01-21 | Active | fun | 1api             | 1api             | Germany | Non China | 1 | NA | Renewed    | 0 | auto-renewal | realized   | 2020-01-21 | 1API             | 1API             |  5 |  5 | 1 | 15 | 15 |  5 | fun1api             | bulgari   | l | 7 | 7l | 1 | 1.609438 | 4.51 | bulgari   | 1 | 1 | 1 |\n",
       "| FirstTime | 1 | 2020-04-24 | 101717674 | gotsome.fun   | 2019-04-24 | Active | fun | 1api             | 1api             | Germany | Non China | 1 | NA | Not Renewd | 0 | auto-renewal | unrealized | 2020-04-24 | 1API             | 1API             |  5 |  5 | 1 | 15 | 15 |  5 | fun1api             | gotsome   | l | 7 | 7l | 1 | 1.609438 | 6.09 | gotsome   | 1 | 1 | 1 |\n",
       "\n"
      ],
      "text/plain": [
       "  renewal_type renewed_count expiry_date domain_id domain        creation_date\n",
       "1 FirstTime    1             2020-01-22   91639803 segeln.fun    2019-01-22   \n",
       "2 FirstTime    1             2020-03-07   95819759 harzhotel.fun 2019-03-07   \n",
       "3 FirstTime    1             2020-01-15   91044973 movistar.fun  2019-01-15   \n",
       "4 FirstTime    1             2020-02-01   92472913 kuinik.fun    2019-02-01   \n",
       "5 FirstTime    1             2020-01-21   91532433 bulgari.fun   2019-01-21   \n",
       "6 FirstTime    1             2020-04-24  101717674 gotsome.fun   2019-04-24   \n",
       "  status tld registrar        reseller         reseller_country region   \n",
       "1 Active fun 1&1 internet     1&1 internet     Germany          Non China\n",
       "2 Active fun 1&1 internet     1&1 internet     Germany          Non China\n",
       "3 Active fun 10dencehispahard 10dencehispahard Spain            Non China\n",
       "4 Active fun 10dencehispahard 10dencehispahard Spain            Non China\n",
       "5 Active fun 1api             1api             Germany          Non China\n",
       "6 Active fun 1api             1api             Germany          Non China\n",
       "  reg_period registrant_country renewal_status renew_mbg renew_type  \n",
       "1 1          NA                 Renewed        0         auto-renewal\n",
       "2 1          NA                 Renewed        0         auto-renewal\n",
       "3 1          NA                 Not Renewd     0         auto-renewal\n",
       "4 1          NA                 Not Renewd     0         auto-renewal\n",
       "5 1          NA                 Renewed        0         auto-renewal\n",
       "6 1          NA                 Not Renewd     0         auto-renewal\n",
       "  autorenew_type renew_date renew_registrar  renew_reseller   reg_revenue\n",
       "1 realized       2020-01-22 1&1 Internet     1&1 Internet     15         \n",
       "2 realized       2020-03-07 1&1 Internet     1&1 Internet     15         \n",
       "3 unrealized     2020-01-15 10dencehispahard 10dencehispahard 15         \n",
       "4 unrealized     2020-02-01 10dencehispahard 10dencehispahard 15         \n",
       "5 realized       2020-01-21 1API             1API              5         \n",
       "6 unrealized     2020-04-24 1API             1API              5         \n",
       "  reg_arpt renew_period renew_domain_revenue renew_arpt reg_arpt_org\n",
       "1 15       1            15                   15         15          \n",
       "2 15       1            15                   15         15          \n",
       "3 15       1            15                   15         15          \n",
       "4 15       1            15                   15         15          \n",
       "5  5       1            15                   15          5          \n",
       "6  5       1            15                   15          5          \n",
       "  tld_registrar_index sld       sld_type sld_length sld_type2 day_domains\n",
       "1 fun1&1 internet     segeln    l        6          6l        1          \n",
       "2 fun1&1 internet     harzhotel l        9          9l        1          \n",
       "3 fun10dencehispahard movistar  l        8          8l        1          \n",
       "4 fun10dencehispahard kuinik    l        6          6l        1          \n",
       "5 fun1api             bulgari   l        7          7l        1          \n",
       "6 fun1api             gotsome   l        7          7l        1          \n",
       "  log_reg_arpt gibb_score pattern   cluster pattern_score pattern_domain_count\n",
       "1 2.708050     2.23       segeln    1       1             1                   \n",
       "2 2.708050     3.45       harzhotel 1       1             1                   \n",
       "3 2.708050     8.62       movistar  1       1             1                   \n",
       "4 2.708050     3.13       kuinik    1       1             1                   \n",
       "5 1.609438     4.51       bulgari   1       1             1                   \n",
       "6 1.609438     6.09       gotsome   1       1             1                   "
      ]
     },
     "metadata": {},
     "output_type": "display_data"
    }
   ],
   "source": [
    "dim(expiry_test_df_1)\n",
    "head(expiry_test_df_1)"
   ]
  },
  {
   "cell_type": "code",
   "execution_count": 13,
   "metadata": {},
   "outputs": [
    {
     "data": {
      "text/html": [
       "<style>\n",
       ".list-inline {list-style: none; margin:0; padding: 0}\n",
       ".list-inline>li {display: inline-block}\n",
       ".list-inline>li:not(:last-child)::after {content: \"\\00b7\"; padding: 0 .5ex}\n",
       "</style>\n",
       "<ol class=list-inline><li>297188</li><li>45</li></ol>\n"
      ],
      "text/latex": [
       "\\begin{enumerate*}\n",
       "\\item 297188\n",
       "\\item 45\n",
       "\\end{enumerate*}\n"
      ],
      "text/markdown": [
       "1. 297188\n",
       "2. 45\n",
       "\n",
       "\n"
      ],
      "text/plain": [
       "[1] 297188     45"
      ]
     },
     "metadata": {},
     "output_type": "display_data"
    },
    {
     "data": {
      "text/html": [
       "<table>\n",
       "<caption>A data.table: 6 × 45</caption>\n",
       "<thead>\n",
       "\t<tr><th scope=col>domain_id</th><th scope=col>renewal_type</th><th scope=col>renewed_count</th><th scope=col>expiry_date</th><th scope=col>domain</th><th scope=col>creation_date</th><th scope=col>status</th><th scope=col>tld</th><th scope=col>registrar</th><th scope=col>reseller</th><th scope=col>reseller_country</th><th scope=col>region</th><th scope=col>reg_period</th><th scope=col>registrant_country</th><th scope=col>renewal_status</th><th scope=col>renew_mbg</th><th scope=col>renew_type</th><th scope=col>autorenew_type</th><th scope=col>renew_date</th><th scope=col>renew_registrar</th><th scope=col>renew_reseller</th><th scope=col>reg_revenue</th><th scope=col>reg_arpt</th><th scope=col>renew_period</th><th scope=col>renew_domain_revenue</th><th scope=col>renew_arpt</th><th scope=col>reg_arpt_org</th><th scope=col>tld_registrar_index</th><th scope=col>sld</th><th scope=col>sld_type</th><th scope=col>sld_length</th><th scope=col>sld_type2</th><th scope=col>day_domains</th><th scope=col>log_reg_arpt</th><th scope=col>gibb_score</th><th scope=col>pattern</th><th scope=col>cluster</th><th scope=col>pattern_score</th><th scope=col>pattern_domain_count</th><th scope=col>pred_df_seg2_glm</th><th scope=col>pred_df_seg_glm</th><th scope=col>pred_df_agg_glm</th><th scope=col>pred_df_seg2_rf</th><th scope=col>pred_df_seg_rf</th><th scope=col>pred_df_agg_rf</th></tr>\n",
       "\t<tr><th scope=col>&lt;int&gt;</th><th scope=col>&lt;chr&gt;</th><th scope=col>&lt;int&gt;</th><th scope=col>&lt;date&gt;</th><th scope=col>&lt;chr&gt;</th><th scope=col>&lt;date&gt;</th><th scope=col>&lt;chr&gt;</th><th scope=col>&lt;fct&gt;</th><th scope=col>&lt;chr&gt;</th><th scope=col>&lt;chr&gt;</th><th scope=col>&lt;chr&gt;</th><th scope=col>&lt;chr&gt;</th><th scope=col>&lt;int&gt;</th><th scope=col>&lt;chr&gt;</th><th scope=col>&lt;fct&gt;</th><th scope=col>&lt;int&gt;</th><th scope=col>&lt;chr&gt;</th><th scope=col>&lt;chr&gt;</th><th scope=col>&lt;date&gt;</th><th scope=col>&lt;chr&gt;</th><th scope=col>&lt;chr&gt;</th><th scope=col>&lt;dbl&gt;</th><th scope=col>&lt;dbl&gt;</th><th scope=col>&lt;int&gt;</th><th scope=col>&lt;dbl&gt;</th><th scope=col>&lt;dbl&gt;</th><th scope=col>&lt;dbl&gt;</th><th scope=col>&lt;chr&gt;</th><th scope=col>&lt;chr&gt;</th><th scope=col>&lt;fct&gt;</th><th scope=col>&lt;int&gt;</th><th scope=col>&lt;chr&gt;</th><th scope=col>&lt;int&gt;</th><th scope=col>&lt;dbl&gt;</th><th scope=col>&lt;dbl&gt;</th><th scope=col>&lt;chr&gt;</th><th scope=col>&lt;chr&gt;</th><th scope=col>&lt;dbl&gt;</th><th scope=col>&lt;int&gt;</th><th scope=col>&lt;dbl&gt;</th><th scope=col>&lt;dbl&gt;</th><th scope=col>&lt;dbl&gt;</th><th scope=col>&lt;dbl&gt;</th><th scope=col>&lt;dbl&gt;</th><th scope=col>&lt;dbl&gt;</th></tr>\n",
       "</thead>\n",
       "<tbody>\n",
       "\t<tr><td>NA</td><td>NA</td><td>NA</td><td>NA</td><td>NA</td><td>NA</td><td>NA</td><td>NA</td><td>NA</td><td>NA</td><td>NA</td><td>NA</td><td>NA</td><td>NA</td><td>NA</td><td>NA</td><td>NA</td><td>NA</td><td>NA</td><td>NA</td><td>NA</td><td>NA</td><td>NA</td><td>NA</td><td>NA</td><td>NA</td><td>NA</td><td>NA</td><td>NA</td><td>NA</td><td>NA</td><td>NA</td><td>NA</td><td>NA</td><td>NA</td><td>NA</td><td>NA</td><td>NA</td><td>NA</td><td>NA</td><td>NA</td><td>NA</td><td>NA</td><td>NA</td><td>NA</td></tr>\n",
       "\t<tr><td>NA</td><td>NA</td><td>NA</td><td>NA</td><td>NA</td><td>NA</td><td>NA</td><td>NA</td><td>NA</td><td>NA</td><td>NA</td><td>NA</td><td>NA</td><td>NA</td><td>NA</td><td>NA</td><td>NA</td><td>NA</td><td>NA</td><td>NA</td><td>NA</td><td>NA</td><td>NA</td><td>NA</td><td>NA</td><td>NA</td><td>NA</td><td>NA</td><td>NA</td><td>NA</td><td>NA</td><td>NA</td><td>NA</td><td>NA</td><td>NA</td><td>NA</td><td>NA</td><td>NA</td><td>NA</td><td>NA</td><td>NA</td><td>NA</td><td>NA</td><td>NA</td><td>NA</td></tr>\n",
       "\t<tr><td>NA</td><td>NA</td><td>NA</td><td>NA</td><td>NA</td><td>NA</td><td>NA</td><td>NA</td><td>NA</td><td>NA</td><td>NA</td><td>NA</td><td>NA</td><td>NA</td><td>NA</td><td>NA</td><td>NA</td><td>NA</td><td>NA</td><td>NA</td><td>NA</td><td>NA</td><td>NA</td><td>NA</td><td>NA</td><td>NA</td><td>NA</td><td>NA</td><td>NA</td><td>NA</td><td>NA</td><td>NA</td><td>NA</td><td>NA</td><td>NA</td><td>NA</td><td>NA</td><td>NA</td><td>NA</td><td>NA</td><td>NA</td><td>NA</td><td>NA</td><td>NA</td><td>NA</td></tr>\n",
       "\t<tr><td>NA</td><td>NA</td><td>NA</td><td>NA</td><td>NA</td><td>NA</td><td>NA</td><td>NA</td><td>NA</td><td>NA</td><td>NA</td><td>NA</td><td>NA</td><td>NA</td><td>NA</td><td>NA</td><td>NA</td><td>NA</td><td>NA</td><td>NA</td><td>NA</td><td>NA</td><td>NA</td><td>NA</td><td>NA</td><td>NA</td><td>NA</td><td>NA</td><td>NA</td><td>NA</td><td>NA</td><td>NA</td><td>NA</td><td>NA</td><td>NA</td><td>NA</td><td>NA</td><td>NA</td><td>NA</td><td>NA</td><td>NA</td><td>NA</td><td>NA</td><td>NA</td><td>NA</td></tr>\n",
       "\t<tr><td>NA</td><td>NA</td><td>NA</td><td>NA</td><td>NA</td><td>NA</td><td>NA</td><td>NA</td><td>NA</td><td>NA</td><td>NA</td><td>NA</td><td>NA</td><td>NA</td><td>NA</td><td>NA</td><td>NA</td><td>NA</td><td>NA</td><td>NA</td><td>NA</td><td>NA</td><td>NA</td><td>NA</td><td>NA</td><td>NA</td><td>NA</td><td>NA</td><td>NA</td><td>NA</td><td>NA</td><td>NA</td><td>NA</td><td>NA</td><td>NA</td><td>NA</td><td>NA</td><td>NA</td><td>NA</td><td>NA</td><td>NA</td><td>NA</td><td>NA</td><td>NA</td><td>NA</td></tr>\n",
       "\t<tr><td>NA</td><td>NA</td><td>NA</td><td>NA</td><td>NA</td><td>NA</td><td>NA</td><td>NA</td><td>NA</td><td>NA</td><td>NA</td><td>NA</td><td>NA</td><td>NA</td><td>NA</td><td>NA</td><td>NA</td><td>NA</td><td>NA</td><td>NA</td><td>NA</td><td>NA</td><td>NA</td><td>NA</td><td>NA</td><td>NA</td><td>NA</td><td>NA</td><td>NA</td><td>NA</td><td>NA</td><td>NA</td><td>NA</td><td>NA</td><td>NA</td><td>NA</td><td>NA</td><td>NA</td><td>NA</td><td>NA</td><td>NA</td><td>NA</td><td>NA</td><td>NA</td><td>NA</td></tr>\n",
       "</tbody>\n",
       "</table>\n"
      ],
      "text/latex": [
       "A data.table: 6 × 45\n",
       "\\begin{tabular}{lllllllllllllllllllllllllllllllllllllllllllll}\n",
       " domain\\_id & renewal\\_type & renewed\\_count & expiry\\_date & domain & creation\\_date & status & tld & registrar & reseller & reseller\\_country & region & reg\\_period & registrant\\_country & renewal\\_status & renew\\_mbg & renew\\_type & autorenew\\_type & renew\\_date & renew\\_registrar & renew\\_reseller & reg\\_revenue & reg\\_arpt & renew\\_period & renew\\_domain\\_revenue & renew\\_arpt & reg\\_arpt\\_org & tld\\_registrar\\_index & sld & sld\\_type & sld\\_length & sld\\_type2 & day\\_domains & log\\_reg\\_arpt & gibb\\_score & pattern & cluster & pattern\\_score & pattern\\_domain\\_count & pred\\_df\\_seg2\\_glm & pred\\_df\\_seg\\_glm & pred\\_df\\_agg\\_glm & pred\\_df\\_seg2\\_rf & pred\\_df\\_seg\\_rf & pred\\_df\\_agg\\_rf\\\\\n",
       " <int> & <chr> & <int> & <date> & <chr> & <date> & <chr> & <fct> & <chr> & <chr> & <chr> & <chr> & <int> & <chr> & <fct> & <int> & <chr> & <chr> & <date> & <chr> & <chr> & <dbl> & <dbl> & <int> & <dbl> & <dbl> & <dbl> & <chr> & <chr> & <fct> & <int> & <chr> & <int> & <dbl> & <dbl> & <chr> & <chr> & <dbl> & <int> & <dbl> & <dbl> & <dbl> & <dbl> & <dbl> & <dbl>\\\\\n",
       "\\hline\n",
       "\t NA & NA & NA & NA & NA & NA & NA & NA & NA & NA & NA & NA & NA & NA & NA & NA & NA & NA & NA & NA & NA & NA & NA & NA & NA & NA & NA & NA & NA & NA & NA & NA & NA & NA & NA & NA & NA & NA & NA & NA & NA & NA & NA & NA & NA\\\\\n",
       "\t NA & NA & NA & NA & NA & NA & NA & NA & NA & NA & NA & NA & NA & NA & NA & NA & NA & NA & NA & NA & NA & NA & NA & NA & NA & NA & NA & NA & NA & NA & NA & NA & NA & NA & NA & NA & NA & NA & NA & NA & NA & NA & NA & NA & NA\\\\\n",
       "\t NA & NA & NA & NA & NA & NA & NA & NA & NA & NA & NA & NA & NA & NA & NA & NA & NA & NA & NA & NA & NA & NA & NA & NA & NA & NA & NA & NA & NA & NA & NA & NA & NA & NA & NA & NA & NA & NA & NA & NA & NA & NA & NA & NA & NA\\\\\n",
       "\t NA & NA & NA & NA & NA & NA & NA & NA & NA & NA & NA & NA & NA & NA & NA & NA & NA & NA & NA & NA & NA & NA & NA & NA & NA & NA & NA & NA & NA & NA & NA & NA & NA & NA & NA & NA & NA & NA & NA & NA & NA & NA & NA & NA & NA\\\\\n",
       "\t NA & NA & NA & NA & NA & NA & NA & NA & NA & NA & NA & NA & NA & NA & NA & NA & NA & NA & NA & NA & NA & NA & NA & NA & NA & NA & NA & NA & NA & NA & NA & NA & NA & NA & NA & NA & NA & NA & NA & NA & NA & NA & NA & NA & NA\\\\\n",
       "\t NA & NA & NA & NA & NA & NA & NA & NA & NA & NA & NA & NA & NA & NA & NA & NA & NA & NA & NA & NA & NA & NA & NA & NA & NA & NA & NA & NA & NA & NA & NA & NA & NA & NA & NA & NA & NA & NA & NA & NA & NA & NA & NA & NA & NA\\\\\n",
       "\\end{tabular}\n"
      ],
      "text/markdown": [
       "\n",
       "A data.table: 6 × 45\n",
       "\n",
       "| domain_id &lt;int&gt; | renewal_type &lt;chr&gt; | renewed_count &lt;int&gt; | expiry_date &lt;date&gt; | domain &lt;chr&gt; | creation_date &lt;date&gt; | status &lt;chr&gt; | tld &lt;fct&gt; | registrar &lt;chr&gt; | reseller &lt;chr&gt; | reseller_country &lt;chr&gt; | region &lt;chr&gt; | reg_period &lt;int&gt; | registrant_country &lt;chr&gt; | renewal_status &lt;fct&gt; | renew_mbg &lt;int&gt; | renew_type &lt;chr&gt; | autorenew_type &lt;chr&gt; | renew_date &lt;date&gt; | renew_registrar &lt;chr&gt; | renew_reseller &lt;chr&gt; | reg_revenue &lt;dbl&gt; | reg_arpt &lt;dbl&gt; | renew_period &lt;int&gt; | renew_domain_revenue &lt;dbl&gt; | renew_arpt &lt;dbl&gt; | reg_arpt_org &lt;dbl&gt; | tld_registrar_index &lt;chr&gt; | sld &lt;chr&gt; | sld_type &lt;fct&gt; | sld_length &lt;int&gt; | sld_type2 &lt;chr&gt; | day_domains &lt;int&gt; | log_reg_arpt &lt;dbl&gt; | gibb_score &lt;dbl&gt; | pattern &lt;chr&gt; | cluster &lt;chr&gt; | pattern_score &lt;dbl&gt; | pattern_domain_count &lt;int&gt; | pred_df_seg2_glm &lt;dbl&gt; | pred_df_seg_glm &lt;dbl&gt; | pred_df_agg_glm &lt;dbl&gt; | pred_df_seg2_rf &lt;dbl&gt; | pred_df_seg_rf &lt;dbl&gt; | pred_df_agg_rf &lt;dbl&gt; |\n",
       "|---|---|---|---|---|---|---|---|---|---|---|---|---|---|---|---|---|---|---|---|---|---|---|---|---|---|---|---|---|---|---|---|---|---|---|---|---|---|---|---|---|---|---|---|---|\n",
       "| NA | NA | NA | NA | NA | NA | NA | NA | NA | NA | NA | NA | NA | NA | NA | NA | NA | NA | NA | NA | NA | NA | NA | NA | NA | NA | NA | NA | NA | NA | NA | NA | NA | NA | NA | NA | NA | NA | NA | NA | NA | NA | NA | NA | NA |\n",
       "| NA | NA | NA | NA | NA | NA | NA | NA | NA | NA | NA | NA | NA | NA | NA | NA | NA | NA | NA | NA | NA | NA | NA | NA | NA | NA | NA | NA | NA | NA | NA | NA | NA | NA | NA | NA | NA | NA | NA | NA | NA | NA | NA | NA | NA |\n",
       "| NA | NA | NA | NA | NA | NA | NA | NA | NA | NA | NA | NA | NA | NA | NA | NA | NA | NA | NA | NA | NA | NA | NA | NA | NA | NA | NA | NA | NA | NA | NA | NA | NA | NA | NA | NA | NA | NA | NA | NA | NA | NA | NA | NA | NA |\n",
       "| NA | NA | NA | NA | NA | NA | NA | NA | NA | NA | NA | NA | NA | NA | NA | NA | NA | NA | NA | NA | NA | NA | NA | NA | NA | NA | NA | NA | NA | NA | NA | NA | NA | NA | NA | NA | NA | NA | NA | NA | NA | NA | NA | NA | NA |\n",
       "| NA | NA | NA | NA | NA | NA | NA | NA | NA | NA | NA | NA | NA | NA | NA | NA | NA | NA | NA | NA | NA | NA | NA | NA | NA | NA | NA | NA | NA | NA | NA | NA | NA | NA | NA | NA | NA | NA | NA | NA | NA | NA | NA | NA | NA |\n",
       "| NA | NA | NA | NA | NA | NA | NA | NA | NA | NA | NA | NA | NA | NA | NA | NA | NA | NA | NA | NA | NA | NA | NA | NA | NA | NA | NA | NA | NA | NA | NA | NA | NA | NA | NA | NA | NA | NA | NA | NA | NA | NA | NA | NA | NA |\n",
       "\n"
      ],
      "text/plain": [
       "  domain_id renewal_type renewed_count expiry_date domain creation_date status\n",
       "1 NA        NA           NA            <NA>        NA     <NA>          NA    \n",
       "2 NA        NA           NA            <NA>        NA     <NA>          NA    \n",
       "3 NA        NA           NA            <NA>        NA     <NA>          NA    \n",
       "4 NA        NA           NA            <NA>        NA     <NA>          NA    \n",
       "5 NA        NA           NA            <NA>        NA     <NA>          NA    \n",
       "6 NA        NA           NA            <NA>        NA     <NA>          NA    \n",
       "  tld registrar reseller reseller_country region reg_period registrant_country\n",
       "1 NA  NA        NA       NA               NA     NA         NA                \n",
       "2 NA  NA        NA       NA               NA     NA         NA                \n",
       "3 NA  NA        NA       NA               NA     NA         NA                \n",
       "4 NA  NA        NA       NA               NA     NA         NA                \n",
       "5 NA  NA        NA       NA               NA     NA         NA                \n",
       "6 NA  NA        NA       NA               NA     NA         NA                \n",
       "  renewal_status renew_mbg renew_type autorenew_type renew_date renew_registrar\n",
       "1 NA             NA        NA         NA             <NA>       NA             \n",
       "2 NA             NA        NA         NA             <NA>       NA             \n",
       "3 NA             NA        NA         NA             <NA>       NA             \n",
       "4 NA             NA        NA         NA             <NA>       NA             \n",
       "5 NA             NA        NA         NA             <NA>       NA             \n",
       "6 NA             NA        NA         NA             <NA>       NA             \n",
       "  renew_reseller reg_revenue reg_arpt renew_period renew_domain_revenue\n",
       "1 NA             NA          NA       NA           NA                  \n",
       "2 NA             NA          NA       NA           NA                  \n",
       "3 NA             NA          NA       NA           NA                  \n",
       "4 NA             NA          NA       NA           NA                  \n",
       "5 NA             NA          NA       NA           NA                  \n",
       "6 NA             NA          NA       NA           NA                  \n",
       "  renew_arpt reg_arpt_org tld_registrar_index sld sld_type sld_length sld_type2\n",
       "1 NA         NA           NA                  NA  NA       NA         NA       \n",
       "2 NA         NA           NA                  NA  NA       NA         NA       \n",
       "3 NA         NA           NA                  NA  NA       NA         NA       \n",
       "4 NA         NA           NA                  NA  NA       NA         NA       \n",
       "5 NA         NA           NA                  NA  NA       NA         NA       \n",
       "6 NA         NA           NA                  NA  NA       NA         NA       \n",
       "  day_domains log_reg_arpt gibb_score pattern cluster pattern_score\n",
       "1 NA          NA           NA         NA      NA      NA           \n",
       "2 NA          NA           NA         NA      NA      NA           \n",
       "3 NA          NA           NA         NA      NA      NA           \n",
       "4 NA          NA           NA         NA      NA      NA           \n",
       "5 NA          NA           NA         NA      NA      NA           \n",
       "6 NA          NA           NA         NA      NA      NA           \n",
       "  pattern_domain_count pred_df_seg2_glm pred_df_seg_glm pred_df_agg_glm\n",
       "1 NA                   NA               NA              NA             \n",
       "2 NA                   NA               NA              NA             \n",
       "3 NA                   NA               NA              NA             \n",
       "4 NA                   NA               NA              NA             \n",
       "5 NA                   NA               NA              NA             \n",
       "6 NA                   NA               NA              NA             \n",
       "  pred_df_seg2_rf pred_df_seg_rf pred_df_agg_rf\n",
       "1 NA              NA             NA            \n",
       "2 NA              NA             NA            \n",
       "3 NA              NA             NA            \n",
       "4 NA              NA             NA            \n",
       "5 NA              NA             NA            \n",
       "6 NA              NA             NA            "
      ]
     },
     "metadata": {},
     "output_type": "display_data"
    }
   ],
   "source": [
    "# OUTER MERGE\n",
    "test_predictions_df <- merge(expiry_test_df_1, \n",
    "                             predictions_df %>% select(pred_df_seg2_glm,pred_df_seg_glm,pred_df_agg_glm,pred_df_seg2_rf,\n",
    "                                                       pred_df_seg_rf,pred_df_agg_rf,domain_id),\n",
    "                            by=\"domain_id\",\n",
    "                            all=TRUE)\n",
    "dim(test_predictions_df)\n",
    "head(test_predictions_df)"
   ]
  },
  {
   "cell_type": "code",
   "execution_count": 14,
   "metadata": {},
   "outputs": [
    {
     "data": {
      "text/html": [
       "<table>\n",
       "<caption>A data.table: 6 × 45</caption>\n",
       "<thead>\n",
       "\t<tr><th scope=col>domain_id</th><th scope=col>renewal_type</th><th scope=col>renewed_count</th><th scope=col>expiry_date</th><th scope=col>domain</th><th scope=col>creation_date</th><th scope=col>status</th><th scope=col>tld</th><th scope=col>registrar</th><th scope=col>reseller</th><th scope=col>reseller_country</th><th scope=col>region</th><th scope=col>reg_period</th><th scope=col>registrant_country</th><th scope=col>renewal_status</th><th scope=col>renew_mbg</th><th scope=col>renew_type</th><th scope=col>autorenew_type</th><th scope=col>renew_date</th><th scope=col>renew_registrar</th><th scope=col>renew_reseller</th><th scope=col>reg_revenue</th><th scope=col>reg_arpt</th><th scope=col>renew_period</th><th scope=col>renew_domain_revenue</th><th scope=col>renew_arpt</th><th scope=col>reg_arpt_org</th><th scope=col>tld_registrar_index</th><th scope=col>sld</th><th scope=col>sld_type</th><th scope=col>sld_length</th><th scope=col>sld_type2</th><th scope=col>day_domains</th><th scope=col>log_reg_arpt</th><th scope=col>gibb_score</th><th scope=col>pattern</th><th scope=col>cluster</th><th scope=col>pattern_score</th><th scope=col>pattern_domain_count</th><th scope=col>pred_df_seg2_glm</th><th scope=col>pred_df_seg_glm</th><th scope=col>pred_df_agg_glm</th><th scope=col>pred_df_seg2_rf</th><th scope=col>pred_df_seg_rf</th><th scope=col>pred_df_agg_rf</th></tr>\n",
       "\t<tr><th scope=col>&lt;int&gt;</th><th scope=col>&lt;chr&gt;</th><th scope=col>&lt;int&gt;</th><th scope=col>&lt;date&gt;</th><th scope=col>&lt;chr&gt;</th><th scope=col>&lt;date&gt;</th><th scope=col>&lt;chr&gt;</th><th scope=col>&lt;fct&gt;</th><th scope=col>&lt;chr&gt;</th><th scope=col>&lt;chr&gt;</th><th scope=col>&lt;chr&gt;</th><th scope=col>&lt;chr&gt;</th><th scope=col>&lt;int&gt;</th><th scope=col>&lt;chr&gt;</th><th scope=col>&lt;fct&gt;</th><th scope=col>&lt;int&gt;</th><th scope=col>&lt;chr&gt;</th><th scope=col>&lt;chr&gt;</th><th scope=col>&lt;date&gt;</th><th scope=col>&lt;chr&gt;</th><th scope=col>&lt;chr&gt;</th><th scope=col>&lt;dbl&gt;</th><th scope=col>&lt;dbl&gt;</th><th scope=col>&lt;int&gt;</th><th scope=col>&lt;dbl&gt;</th><th scope=col>&lt;dbl&gt;</th><th scope=col>&lt;dbl&gt;</th><th scope=col>&lt;chr&gt;</th><th scope=col>&lt;chr&gt;</th><th scope=col>&lt;fct&gt;</th><th scope=col>&lt;int&gt;</th><th scope=col>&lt;chr&gt;</th><th scope=col>&lt;int&gt;</th><th scope=col>&lt;dbl&gt;</th><th scope=col>&lt;dbl&gt;</th><th scope=col>&lt;chr&gt;</th><th scope=col>&lt;chr&gt;</th><th scope=col>&lt;dbl&gt;</th><th scope=col>&lt;int&gt;</th><th scope=col>&lt;dbl&gt;</th><th scope=col>&lt;dbl&gt;</th><th scope=col>&lt;dbl&gt;</th><th scope=col>&lt;dbl&gt;</th><th scope=col>&lt;dbl&gt;</th><th scope=col>&lt;dbl&gt;</th></tr>\n",
       "</thead>\n",
       "<tbody>\n",
       "\t<tr><td>105791731</td><td>FirstTime</td><td>1</td><td>2020-05-31</td><td>male-masturbator.website </td><td>2019-05-31</td><td>Active</td><td>website</td><td>namecheap</td><td>namecheap</td><td>United States</td><td>Non China</td><td>1</td><td>NA</td><td>Not Renewd</td><td>0</td><td>auto-renewal</td><td>NA</td><td>2020-05-31</td><td>Namecheap</td><td>Namecheap</td><td>0.69</td><td>0.69</td><td>1</td><td>7.0</td><td>7.0</td><td>0.69</td><td>websitenamecheap</td><td>male-masturbator </td><td>hyphen-l</td><td>16</td><td>16hyphen-l</td><td>32</td><td>-0.3710637</td><td>  7.22</td><td>2 </td><td>male-mastrbator</td><td>0.0029296875</td><td>3</td><td>0.035552618</td><td>0.060</td><td>0.090</td><td>0.1056837</td><td>0.06770052</td><td>0.05148795</td></tr>\n",
       "\t<tr><td>105791781</td><td>FirstTime</td><td>1</td><td>2020-05-31</td><td>miscellaneous-sex.website</td><td>2019-05-31</td><td>Active</td><td>website</td><td>namecheap</td><td>namecheap</td><td>United States</td><td>Non China</td><td>1</td><td>NA</td><td>Not Renewd</td><td>0</td><td>auto-renewal</td><td>NA</td><td>2020-05-31</td><td>Namecheap</td><td>Namecheap</td><td>0.69</td><td>0.69</td><td>1</td><td>7.0</td><td>7.0</td><td>0.69</td><td>websitenamecheap</td><td>miscellaneous-sex</td><td>hyphen-l</td><td>17</td><td>17hyphen-l</td><td>32</td><td>-0.3710637</td><td>  6.48</td><td>4 </td><td>miscellaneous-o</td><td>0.0019531250</td><td>2</td><td>0.043207768</td><td>0.063</td><td>0.098</td><td>0.1529932</td><td>0.12088394</td><td>0.09244550</td></tr>\n",
       "\t<tr><td>105791786</td><td>FirstTime</td><td>1</td><td>2020-05-31</td><td>miscellaneous-toy.website</td><td>2019-05-31</td><td>Active</td><td>website</td><td>namecheap</td><td>namecheap</td><td>United States</td><td>Non China</td><td>1</td><td>NA</td><td>Not Renewd</td><td>0</td><td>auto-renewal</td><td>NA</td><td>2020-05-31</td><td>Namecheap</td><td>Namecheap</td><td>0.69</td><td>0.69</td><td>1</td><td>7.0</td><td>7.0</td><td>0.69</td><td>websitenamecheap</td><td>miscellaneous-toy</td><td>hyphen-l</td><td>17</td><td>17hyphen-l</td><td>32</td><td>-0.3710637</td><td>  6.24</td><td>4 </td><td>miscellaneous-o</td><td>0.0019531250</td><td>2</td><td>0.043158391</td><td>0.063</td><td>0.097</td><td>0.1568086</td><td>0.12168779</td><td>0.08792135</td></tr>\n",
       "\t<tr><td>105791806</td><td>FirstTime</td><td>1</td><td>2020-05-31</td><td>penis-pump.website       </td><td>2019-05-31</td><td>Active</td><td>website</td><td>namecheap</td><td>namecheap</td><td>United States</td><td>Non China</td><td>1</td><td>NA</td><td>Not Renewd</td><td>0</td><td>auto-renewal</td><td>NA</td><td>2020-05-31</td><td>Namecheap</td><td>Namecheap</td><td>0.69</td><td>0.69</td><td>1</td><td>7.0</td><td>7.0</td><td>0.69</td><td>websitenamecheap</td><td>penis-pump       </td><td>hyphen-l</td><td>10</td><td>10hyphen-l</td><td>32</td><td>-0.3710637</td><td>  5.91</td><td>13</td><td>penis-pump     </td><td>0.0009765625</td><td>1</td><td>0.059277726</td><td>0.078</td><td>0.123</td><td>0.1467560</td><td>0.12874627</td><td>0.11966209</td></tr>\n",
       "\t<tr><td>105791851</td><td>FirstTime</td><td>1</td><td>2020-05-31</td><td>pleasure-ball.website    </td><td>2019-05-31</td><td>Active</td><td>website</td><td>namecheap</td><td>namecheap</td><td>United States</td><td>Non China</td><td>1</td><td>NA</td><td>Not Renewd</td><td>0</td><td>auto-renewal</td><td>NA</td><td>2020-05-31</td><td>Namecheap</td><td>Namecheap</td><td>0.69</td><td>0.69</td><td>1</td><td>7.0</td><td>7.0</td><td>0.69</td><td>websitenamecheap</td><td>pleasure-ball    </td><td>hyphen-l</td><td>13</td><td>13hyphen-l</td><td>32</td><td>-0.3710637</td><td>  6.75</td><td>14</td><td>pleasure-ball  </td><td>0.0009765625</td><td>1</td><td>0.056854229</td><td>0.074</td><td>0.117</td><td>0.1578006</td><td>0.15714835</td><td>0.11602070</td></tr>\n",
       "\t<tr><td>105791871</td><td>FirstTime</td><td>1</td><td>2020-05-31</td><td>6d838.fun                </td><td>2019-05-31</td><td>Active</td><td>fun    </td><td>pdr ltd  </td><td>pdr ltd  </td><td>India        </td><td>Non China</td><td>1</td><td>NA</td><td>Not Renewd</td><td>0</td><td>auto-renewal</td><td>NA</td><td>2020-05-31</td><td>PDR Ltd  </td><td>PDR Ltd  </td><td>0.60</td><td>0.60</td><td>1</td><td>8.5</td><td>8.5</td><td>0.60</td><td>funpdr ltd      </td><td>6d838            </td><td>ln      </td><td> 5</td><td>5ln       </td><td> 9</td><td>-0.5108256</td><td>100.00</td><td>7 </td><td>6d838          </td><td>0.0123456790</td><td>1</td><td>0.003969189</td><td>0.062</td><td>0.093</td><td>0.0605583</td><td>0.07520340</td><td>0.07488694</td></tr>\n",
       "</tbody>\n",
       "</table>\n"
      ],
      "text/latex": [
       "A data.table: 6 × 45\n",
       "\\begin{tabular}{lllllllllllllllllllllllllllllllllllllllllllll}\n",
       " domain\\_id & renewal\\_type & renewed\\_count & expiry\\_date & domain & creation\\_date & status & tld & registrar & reseller & reseller\\_country & region & reg\\_period & registrant\\_country & renewal\\_status & renew\\_mbg & renew\\_type & autorenew\\_type & renew\\_date & renew\\_registrar & renew\\_reseller & reg\\_revenue & reg\\_arpt & renew\\_period & renew\\_domain\\_revenue & renew\\_arpt & reg\\_arpt\\_org & tld\\_registrar\\_index & sld & sld\\_type & sld\\_length & sld\\_type2 & day\\_domains & log\\_reg\\_arpt & gibb\\_score & pattern & cluster & pattern\\_score & pattern\\_domain\\_count & pred\\_df\\_seg2\\_glm & pred\\_df\\_seg\\_glm & pred\\_df\\_agg\\_glm & pred\\_df\\_seg2\\_rf & pred\\_df\\_seg\\_rf & pred\\_df\\_agg\\_rf\\\\\n",
       " <int> & <chr> & <int> & <date> & <chr> & <date> & <chr> & <fct> & <chr> & <chr> & <chr> & <chr> & <int> & <chr> & <fct> & <int> & <chr> & <chr> & <date> & <chr> & <chr> & <dbl> & <dbl> & <int> & <dbl> & <dbl> & <dbl> & <chr> & <chr> & <fct> & <int> & <chr> & <int> & <dbl> & <dbl> & <chr> & <chr> & <dbl> & <int> & <dbl> & <dbl> & <dbl> & <dbl> & <dbl> & <dbl>\\\\\n",
       "\\hline\n",
       "\t 105791731 & FirstTime & 1 & 2020-05-31 & male-masturbator.website  & 2019-05-31 & Active & website & namecheap & namecheap & United States & Non China & 1 & NA & Not Renewd & 0 & auto-renewal & NA & 2020-05-31 & Namecheap & Namecheap & 0.69 & 0.69 & 1 & 7.0 & 7.0 & 0.69 & websitenamecheap & male-masturbator  & hyphen-l & 16 & 16hyphen-l & 32 & -0.3710637 &   7.22 & 2  & male-mastrbator & 0.0029296875 & 3 & 0.035552618 & 0.060 & 0.090 & 0.1056837 & 0.06770052 & 0.05148795\\\\\n",
       "\t 105791781 & FirstTime & 1 & 2020-05-31 & miscellaneous-sex.website & 2019-05-31 & Active & website & namecheap & namecheap & United States & Non China & 1 & NA & Not Renewd & 0 & auto-renewal & NA & 2020-05-31 & Namecheap & Namecheap & 0.69 & 0.69 & 1 & 7.0 & 7.0 & 0.69 & websitenamecheap & miscellaneous-sex & hyphen-l & 17 & 17hyphen-l & 32 & -0.3710637 &   6.48 & 4  & miscellaneous-o & 0.0019531250 & 2 & 0.043207768 & 0.063 & 0.098 & 0.1529932 & 0.12088394 & 0.09244550\\\\\n",
       "\t 105791786 & FirstTime & 1 & 2020-05-31 & miscellaneous-toy.website & 2019-05-31 & Active & website & namecheap & namecheap & United States & Non China & 1 & NA & Not Renewd & 0 & auto-renewal & NA & 2020-05-31 & Namecheap & Namecheap & 0.69 & 0.69 & 1 & 7.0 & 7.0 & 0.69 & websitenamecheap & miscellaneous-toy & hyphen-l & 17 & 17hyphen-l & 32 & -0.3710637 &   6.24 & 4  & miscellaneous-o & 0.0019531250 & 2 & 0.043158391 & 0.063 & 0.097 & 0.1568086 & 0.12168779 & 0.08792135\\\\\n",
       "\t 105791806 & FirstTime & 1 & 2020-05-31 & penis-pump.website        & 2019-05-31 & Active & website & namecheap & namecheap & United States & Non China & 1 & NA & Not Renewd & 0 & auto-renewal & NA & 2020-05-31 & Namecheap & Namecheap & 0.69 & 0.69 & 1 & 7.0 & 7.0 & 0.69 & websitenamecheap & penis-pump        & hyphen-l & 10 & 10hyphen-l & 32 & -0.3710637 &   5.91 & 13 & penis-pump      & 0.0009765625 & 1 & 0.059277726 & 0.078 & 0.123 & 0.1467560 & 0.12874627 & 0.11966209\\\\\n",
       "\t 105791851 & FirstTime & 1 & 2020-05-31 & pleasure-ball.website     & 2019-05-31 & Active & website & namecheap & namecheap & United States & Non China & 1 & NA & Not Renewd & 0 & auto-renewal & NA & 2020-05-31 & Namecheap & Namecheap & 0.69 & 0.69 & 1 & 7.0 & 7.0 & 0.69 & websitenamecheap & pleasure-ball     & hyphen-l & 13 & 13hyphen-l & 32 & -0.3710637 &   6.75 & 14 & pleasure-ball   & 0.0009765625 & 1 & 0.056854229 & 0.074 & 0.117 & 0.1578006 & 0.15714835 & 0.11602070\\\\\n",
       "\t 105791871 & FirstTime & 1 & 2020-05-31 & 6d838.fun                 & 2019-05-31 & Active & fun     & pdr ltd   & pdr ltd   & India         & Non China & 1 & NA & Not Renewd & 0 & auto-renewal & NA & 2020-05-31 & PDR Ltd   & PDR Ltd   & 0.60 & 0.60 & 1 & 8.5 & 8.5 & 0.60 & funpdr ltd       & 6d838             & ln       &  5 & 5ln        &  9 & -0.5108256 & 100.00 & 7  & 6d838           & 0.0123456790 & 1 & 0.003969189 & 0.062 & 0.093 & 0.0605583 & 0.07520340 & 0.07488694\\\\\n",
       "\\end{tabular}\n"
      ],
      "text/markdown": [
       "\n",
       "A data.table: 6 × 45\n",
       "\n",
       "| domain_id &lt;int&gt; | renewal_type &lt;chr&gt; | renewed_count &lt;int&gt; | expiry_date &lt;date&gt; | domain &lt;chr&gt; | creation_date &lt;date&gt; | status &lt;chr&gt; | tld &lt;fct&gt; | registrar &lt;chr&gt; | reseller &lt;chr&gt; | reseller_country &lt;chr&gt; | region &lt;chr&gt; | reg_period &lt;int&gt; | registrant_country &lt;chr&gt; | renewal_status &lt;fct&gt; | renew_mbg &lt;int&gt; | renew_type &lt;chr&gt; | autorenew_type &lt;chr&gt; | renew_date &lt;date&gt; | renew_registrar &lt;chr&gt; | renew_reseller &lt;chr&gt; | reg_revenue &lt;dbl&gt; | reg_arpt &lt;dbl&gt; | renew_period &lt;int&gt; | renew_domain_revenue &lt;dbl&gt; | renew_arpt &lt;dbl&gt; | reg_arpt_org &lt;dbl&gt; | tld_registrar_index &lt;chr&gt; | sld &lt;chr&gt; | sld_type &lt;fct&gt; | sld_length &lt;int&gt; | sld_type2 &lt;chr&gt; | day_domains &lt;int&gt; | log_reg_arpt &lt;dbl&gt; | gibb_score &lt;dbl&gt; | pattern &lt;chr&gt; | cluster &lt;chr&gt; | pattern_score &lt;dbl&gt; | pattern_domain_count &lt;int&gt; | pred_df_seg2_glm &lt;dbl&gt; | pred_df_seg_glm &lt;dbl&gt; | pred_df_agg_glm &lt;dbl&gt; | pred_df_seg2_rf &lt;dbl&gt; | pred_df_seg_rf &lt;dbl&gt; | pred_df_agg_rf &lt;dbl&gt; |\n",
       "|---|---|---|---|---|---|---|---|---|---|---|---|---|---|---|---|---|---|---|---|---|---|---|---|---|---|---|---|---|---|---|---|---|---|---|---|---|---|---|---|---|---|---|---|---|\n",
       "| 105791731 | FirstTime | 1 | 2020-05-31 | male-masturbator.website  | 2019-05-31 | Active | website | namecheap | namecheap | United States | Non China | 1 | NA | Not Renewd | 0 | auto-renewal | NA | 2020-05-31 | Namecheap | Namecheap | 0.69 | 0.69 | 1 | 7.0 | 7.0 | 0.69 | websitenamecheap | male-masturbator  | hyphen-l | 16 | 16hyphen-l | 32 | -0.3710637 |   7.22 | 2  | male-mastrbator | 0.0029296875 | 3 | 0.035552618 | 0.060 | 0.090 | 0.1056837 | 0.06770052 | 0.05148795 |\n",
       "| 105791781 | FirstTime | 1 | 2020-05-31 | miscellaneous-sex.website | 2019-05-31 | Active | website | namecheap | namecheap | United States | Non China | 1 | NA | Not Renewd | 0 | auto-renewal | NA | 2020-05-31 | Namecheap | Namecheap | 0.69 | 0.69 | 1 | 7.0 | 7.0 | 0.69 | websitenamecheap | miscellaneous-sex | hyphen-l | 17 | 17hyphen-l | 32 | -0.3710637 |   6.48 | 4  | miscellaneous-o | 0.0019531250 | 2 | 0.043207768 | 0.063 | 0.098 | 0.1529932 | 0.12088394 | 0.09244550 |\n",
       "| 105791786 | FirstTime | 1 | 2020-05-31 | miscellaneous-toy.website | 2019-05-31 | Active | website | namecheap | namecheap | United States | Non China | 1 | NA | Not Renewd | 0 | auto-renewal | NA | 2020-05-31 | Namecheap | Namecheap | 0.69 | 0.69 | 1 | 7.0 | 7.0 | 0.69 | websitenamecheap | miscellaneous-toy | hyphen-l | 17 | 17hyphen-l | 32 | -0.3710637 |   6.24 | 4  | miscellaneous-o | 0.0019531250 | 2 | 0.043158391 | 0.063 | 0.097 | 0.1568086 | 0.12168779 | 0.08792135 |\n",
       "| 105791806 | FirstTime | 1 | 2020-05-31 | penis-pump.website        | 2019-05-31 | Active | website | namecheap | namecheap | United States | Non China | 1 | NA | Not Renewd | 0 | auto-renewal | NA | 2020-05-31 | Namecheap | Namecheap | 0.69 | 0.69 | 1 | 7.0 | 7.0 | 0.69 | websitenamecheap | penis-pump        | hyphen-l | 10 | 10hyphen-l | 32 | -0.3710637 |   5.91 | 13 | penis-pump      | 0.0009765625 | 1 | 0.059277726 | 0.078 | 0.123 | 0.1467560 | 0.12874627 | 0.11966209 |\n",
       "| 105791851 | FirstTime | 1 | 2020-05-31 | pleasure-ball.website     | 2019-05-31 | Active | website | namecheap | namecheap | United States | Non China | 1 | NA | Not Renewd | 0 | auto-renewal | NA | 2020-05-31 | Namecheap | Namecheap | 0.69 | 0.69 | 1 | 7.0 | 7.0 | 0.69 | websitenamecheap | pleasure-ball     | hyphen-l | 13 | 13hyphen-l | 32 | -0.3710637 |   6.75 | 14 | pleasure-ball   | 0.0009765625 | 1 | 0.056854229 | 0.074 | 0.117 | 0.1578006 | 0.15714835 | 0.11602070 |\n",
       "| 105791871 | FirstTime | 1 | 2020-05-31 | 6d838.fun                 | 2019-05-31 | Active | fun     | pdr ltd   | pdr ltd   | India         | Non China | 1 | NA | Not Renewd | 0 | auto-renewal | NA | 2020-05-31 | PDR Ltd   | PDR Ltd   | 0.60 | 0.60 | 1 | 8.5 | 8.5 | 0.60 | funpdr ltd       | 6d838             | ln       |  5 | 5ln        |  9 | -0.5108256 | 100.00 | 7  | 6d838           | 0.0123456790 | 1 | 0.003969189 | 0.062 | 0.093 | 0.0605583 | 0.07520340 | 0.07488694 |\n",
       "\n"
      ],
      "text/plain": [
       "  domain_id renewal_type renewed_count expiry_date domain                   \n",
       "1 105791731 FirstTime    1             2020-05-31  male-masturbator.website \n",
       "2 105791781 FirstTime    1             2020-05-31  miscellaneous-sex.website\n",
       "3 105791786 FirstTime    1             2020-05-31  miscellaneous-toy.website\n",
       "4 105791806 FirstTime    1             2020-05-31  penis-pump.website       \n",
       "5 105791851 FirstTime    1             2020-05-31  pleasure-ball.website    \n",
       "6 105791871 FirstTime    1             2020-05-31  6d838.fun                \n",
       "  creation_date status tld     registrar reseller  reseller_country region   \n",
       "1 2019-05-31    Active website namecheap namecheap United States    Non China\n",
       "2 2019-05-31    Active website namecheap namecheap United States    Non China\n",
       "3 2019-05-31    Active website namecheap namecheap United States    Non China\n",
       "4 2019-05-31    Active website namecheap namecheap United States    Non China\n",
       "5 2019-05-31    Active website namecheap namecheap United States    Non China\n",
       "6 2019-05-31    Active fun     pdr ltd   pdr ltd   India            Non China\n",
       "  reg_period registrant_country renewal_status renew_mbg renew_type  \n",
       "1 1          NA                 Not Renewd     0         auto-renewal\n",
       "2 1          NA                 Not Renewd     0         auto-renewal\n",
       "3 1          NA                 Not Renewd     0         auto-renewal\n",
       "4 1          NA                 Not Renewd     0         auto-renewal\n",
       "5 1          NA                 Not Renewd     0         auto-renewal\n",
       "6 1          NA                 Not Renewd     0         auto-renewal\n",
       "  autorenew_type renew_date renew_registrar renew_reseller reg_revenue reg_arpt\n",
       "1 NA             2020-05-31 Namecheap       Namecheap      0.69        0.69    \n",
       "2 NA             2020-05-31 Namecheap       Namecheap      0.69        0.69    \n",
       "3 NA             2020-05-31 Namecheap       Namecheap      0.69        0.69    \n",
       "4 NA             2020-05-31 Namecheap       Namecheap      0.69        0.69    \n",
       "5 NA             2020-05-31 Namecheap       Namecheap      0.69        0.69    \n",
       "6 NA             2020-05-31 PDR Ltd         PDR Ltd        0.60        0.60    \n",
       "  renew_period renew_domain_revenue renew_arpt reg_arpt_org tld_registrar_index\n",
       "1 1            7.0                  7.0        0.69         websitenamecheap   \n",
       "2 1            7.0                  7.0        0.69         websitenamecheap   \n",
       "3 1            7.0                  7.0        0.69         websitenamecheap   \n",
       "4 1            7.0                  7.0        0.69         websitenamecheap   \n",
       "5 1            7.0                  7.0        0.69         websitenamecheap   \n",
       "6 1            8.5                  8.5        0.60         funpdr ltd         \n",
       "  sld               sld_type sld_length sld_type2  day_domains log_reg_arpt\n",
       "1 male-masturbator  hyphen-l 16         16hyphen-l 32          -0.3710637  \n",
       "2 miscellaneous-sex hyphen-l 17         17hyphen-l 32          -0.3710637  \n",
       "3 miscellaneous-toy hyphen-l 17         17hyphen-l 32          -0.3710637  \n",
       "4 penis-pump        hyphen-l 10         10hyphen-l 32          -0.3710637  \n",
       "5 pleasure-ball     hyphen-l 13         13hyphen-l 32          -0.3710637  \n",
       "6 6d838             ln        5         5ln         9          -0.5108256  \n",
       "  gibb_score pattern cluster         pattern_score pattern_domain_count\n",
       "1   7.22     2       male-mastrbator 0.0029296875  3                   \n",
       "2   6.48     4       miscellaneous-o 0.0019531250  2                   \n",
       "3   6.24     4       miscellaneous-o 0.0019531250  2                   \n",
       "4   5.91     13      penis-pump      0.0009765625  1                   \n",
       "5   6.75     14      pleasure-ball   0.0009765625  1                   \n",
       "6 100.00     7       6d838           0.0123456790  1                   \n",
       "  pred_df_seg2_glm pred_df_seg_glm pred_df_agg_glm pred_df_seg2_rf\n",
       "1 0.035552618      0.060           0.090           0.1056837      \n",
       "2 0.043207768      0.063           0.098           0.1529932      \n",
       "3 0.043158391      0.063           0.097           0.1568086      \n",
       "4 0.059277726      0.078           0.123           0.1467560      \n",
       "5 0.056854229      0.074           0.117           0.1578006      \n",
       "6 0.003969189      0.062           0.093           0.0605583      \n",
       "  pred_df_seg_rf pred_df_agg_rf\n",
       "1 0.06770052     0.05148795    \n",
       "2 0.12088394     0.09244550    \n",
       "3 0.12168779     0.08792135    \n",
       "4 0.12874627     0.11966209    \n",
       "5 0.15714835     0.11602070    \n",
       "6 0.07520340     0.07488694    "
      ]
     },
     "metadata": {},
     "output_type": "display_data"
    }
   ],
   "source": [
    "tail(test_predictions_df)"
   ]
  },
  {
   "cell_type": "code",
   "execution_count": 15,
   "metadata": {},
   "outputs": [
    {
     "data": {
      "text/html": [
       "<style>\n",
       ".dl-inline {width: auto; margin:0; padding: 0}\n",
       ".dl-inline>dt, .dl-inline>dd {float: none; width: auto; display: inline-block}\n",
       ".dl-inline>dt::after {content: \":\\0020\"; padding-right: .5ex}\n",
       ".dl-inline>dt:not(:first-of-type) {padding-left: .5ex}\n",
       "</style><dl class=dl-inline><dt>domain_id</dt><dd>391</dd><dt>renewal_type</dt><dd>391</dd><dt>renewed_count</dt><dd>391</dd><dt>expiry_date</dt><dd>391</dd><dt>domain</dt><dd>391</dd><dt>creation_date</dt><dd>391</dd><dt>status</dt><dd>391</dd><dt>tld</dt><dd>391</dd><dt>registrar</dt><dd>391</dd><dt>reseller</dt><dd>391</dd><dt>reseller_country</dt><dd>391</dd><dt>region</dt><dd>391</dd><dt>reg_period</dt><dd>391</dd><dt>registrant_country</dt><dd>297084</dd><dt>renewal_status</dt><dd>391</dd><dt>renew_mbg</dt><dd>391</dd><dt>renew_type</dt><dd>8524</dd><dt>autorenew_type</dt><dd>72641</dd><dt>renew_date</dt><dd>8531</dd><dt>renew_registrar</dt><dd>391</dd><dt>renew_reseller</dt><dd>391</dd><dt>reg_revenue</dt><dd>391</dd><dt>reg_arpt</dt><dd>391</dd><dt>renew_period</dt><dd>8531</dd><dt>renew_domain_revenue</dt><dd>391</dd><dt>renew_arpt</dt><dd>8531</dd><dt>reg_arpt_org</dt><dd>391</dd><dt>tld_registrar_index</dt><dd>391</dd><dt>sld</dt><dd>391</dd><dt>sld_type</dt><dd>391</dd><dt>sld_length</dt><dd>391</dd><dt>sld_type2</dt><dd>391</dd><dt>day_domains</dt><dd>391</dd><dt>log_reg_arpt</dt><dd>391</dd><dt>gibb_score</dt><dd>391</dd><dt>pattern</dt><dd>391</dd><dt>cluster</dt><dd>391</dd><dt>pattern_score</dt><dd>391</dd><dt>pattern_domain_count</dt><dd>391</dd><dt>pred_df_seg2_glm</dt><dd>1745</dd><dt>pred_df_seg_glm</dt><dd>575</dd><dt>pred_df_agg_glm</dt><dd>479</dd><dt>pred_df_seg2_rf</dt><dd>479</dd><dt>pred_df_seg_rf</dt><dd>479</dd><dt>pred_df_agg_rf</dt><dd>479</dd></dl>\n"
      ],
      "text/latex": [
       "\\begin{description*}\n",
       "\\item[domain\\textbackslash{}\\_id] 391\n",
       "\\item[renewal\\textbackslash{}\\_type] 391\n",
       "\\item[renewed\\textbackslash{}\\_count] 391\n",
       "\\item[expiry\\textbackslash{}\\_date] 391\n",
       "\\item[domain] 391\n",
       "\\item[creation\\textbackslash{}\\_date] 391\n",
       "\\item[status] 391\n",
       "\\item[tld] 391\n",
       "\\item[registrar] 391\n",
       "\\item[reseller] 391\n",
       "\\item[reseller\\textbackslash{}\\_country] 391\n",
       "\\item[region] 391\n",
       "\\item[reg\\textbackslash{}\\_period] 391\n",
       "\\item[registrant\\textbackslash{}\\_country] 297084\n",
       "\\item[renewal\\textbackslash{}\\_status] 391\n",
       "\\item[renew\\textbackslash{}\\_mbg] 391\n",
       "\\item[renew\\textbackslash{}\\_type] 8524\n",
       "\\item[autorenew\\textbackslash{}\\_type] 72641\n",
       "\\item[renew\\textbackslash{}\\_date] 8531\n",
       "\\item[renew\\textbackslash{}\\_registrar] 391\n",
       "\\item[renew\\textbackslash{}\\_reseller] 391\n",
       "\\item[reg\\textbackslash{}\\_revenue] 391\n",
       "\\item[reg\\textbackslash{}\\_arpt] 391\n",
       "\\item[renew\\textbackslash{}\\_period] 8531\n",
       "\\item[renew\\textbackslash{}\\_domain\\textbackslash{}\\_revenue] 391\n",
       "\\item[renew\\textbackslash{}\\_arpt] 8531\n",
       "\\item[reg\\textbackslash{}\\_arpt\\textbackslash{}\\_org] 391\n",
       "\\item[tld\\textbackslash{}\\_registrar\\textbackslash{}\\_index] 391\n",
       "\\item[sld] 391\n",
       "\\item[sld\\textbackslash{}\\_type] 391\n",
       "\\item[sld\\textbackslash{}\\_length] 391\n",
       "\\item[sld\\textbackslash{}\\_type2] 391\n",
       "\\item[day\\textbackslash{}\\_domains] 391\n",
       "\\item[log\\textbackslash{}\\_reg\\textbackslash{}\\_arpt] 391\n",
       "\\item[gibb\\textbackslash{}\\_score] 391\n",
       "\\item[pattern] 391\n",
       "\\item[cluster] 391\n",
       "\\item[pattern\\textbackslash{}\\_score] 391\n",
       "\\item[pattern\\textbackslash{}\\_domain\\textbackslash{}\\_count] 391\n",
       "\\item[pred\\textbackslash{}\\_df\\textbackslash{}\\_seg2\\textbackslash{}\\_glm] 1745\n",
       "\\item[pred\\textbackslash{}\\_df\\textbackslash{}\\_seg\\textbackslash{}\\_glm] 575\n",
       "\\item[pred\\textbackslash{}\\_df\\textbackslash{}\\_agg\\textbackslash{}\\_glm] 479\n",
       "\\item[pred\\textbackslash{}\\_df\\textbackslash{}\\_seg2\\textbackslash{}\\_rf] 479\n",
       "\\item[pred\\textbackslash{}\\_df\\textbackslash{}\\_seg\\textbackslash{}\\_rf] 479\n",
       "\\item[pred\\textbackslash{}\\_df\\textbackslash{}\\_agg\\textbackslash{}\\_rf] 479\n",
       "\\end{description*}\n"
      ],
      "text/markdown": [
       "domain_id\n",
       ":   391renewal_type\n",
       ":   391renewed_count\n",
       ":   391expiry_date\n",
       ":   391domain\n",
       ":   391creation_date\n",
       ":   391status\n",
       ":   391tld\n",
       ":   391registrar\n",
       ":   391reseller\n",
       ":   391reseller_country\n",
       ":   391region\n",
       ":   391reg_period\n",
       ":   391registrant_country\n",
       ":   297084renewal_status\n",
       ":   391renew_mbg\n",
       ":   391renew_type\n",
       ":   8524autorenew_type\n",
       ":   72641renew_date\n",
       ":   8531renew_registrar\n",
       ":   391renew_reseller\n",
       ":   391reg_revenue\n",
       ":   391reg_arpt\n",
       ":   391renew_period\n",
       ":   8531renew_domain_revenue\n",
       ":   391renew_arpt\n",
       ":   8531reg_arpt_org\n",
       ":   391tld_registrar_index\n",
       ":   391sld\n",
       ":   391sld_type\n",
       ":   391sld_length\n",
       ":   391sld_type2\n",
       ":   391day_domains\n",
       ":   391log_reg_arpt\n",
       ":   391gibb_score\n",
       ":   391pattern\n",
       ":   391cluster\n",
       ":   391pattern_score\n",
       ":   391pattern_domain_count\n",
       ":   391pred_df_seg2_glm\n",
       ":   1745pred_df_seg_glm\n",
       ":   575pred_df_agg_glm\n",
       ":   479pred_df_seg2_rf\n",
       ":   479pred_df_seg_rf\n",
       ":   479pred_df_agg_rf\n",
       ":   479\n",
       "\n"
      ],
      "text/plain": [
       "           domain_id         renewal_type        renewed_count \n",
       "                 391                  391                  391 \n",
       "         expiry_date               domain        creation_date \n",
       "                 391                  391                  391 \n",
       "              status                  tld            registrar \n",
       "                 391                  391                  391 \n",
       "            reseller     reseller_country               region \n",
       "                 391                  391                  391 \n",
       "          reg_period   registrant_country       renewal_status \n",
       "                 391               297084                  391 \n",
       "           renew_mbg           renew_type       autorenew_type \n",
       "                 391                 8524                72641 \n",
       "          renew_date      renew_registrar       renew_reseller \n",
       "                8531                  391                  391 \n",
       "         reg_revenue             reg_arpt         renew_period \n",
       "                 391                  391                 8531 \n",
       "renew_domain_revenue           renew_arpt         reg_arpt_org \n",
       "                 391                 8531                  391 \n",
       " tld_registrar_index                  sld             sld_type \n",
       "                 391                  391                  391 \n",
       "          sld_length            sld_type2          day_domains \n",
       "                 391                  391                  391 \n",
       "        log_reg_arpt           gibb_score              pattern \n",
       "                 391                  391                  391 \n",
       "             cluster        pattern_score pattern_domain_count \n",
       "                 391                  391                  391 \n",
       "    pred_df_seg2_glm      pred_df_seg_glm      pred_df_agg_glm \n",
       "                1745                  575                  479 \n",
       "     pred_df_seg2_rf       pred_df_seg_rf       pred_df_agg_rf \n",
       "                 479                  479                  479 "
      ]
     },
     "metadata": {},
     "output_type": "display_data"
    }
   ],
   "source": [
    "# ... CREATES 391 ROWS WITH ALL NA'S\n",
    "# test_predictions_df %>%\n",
    "#   select(everything()) %>%  # replace to your needs\n",
    "#   summarise_all(funs(sum(is.na(.)))) %>%   t()\n",
    "test_predictions_df %>% is.na %>% colSums"
   ]
  },
  {
   "cell_type": "code",
   "execution_count": 16,
   "metadata": {},
   "outputs": [
    {
     "data": {
      "text/html": [
       "296797"
      ],
      "text/latex": [
       "296797"
      ],
      "text/markdown": [
       "296797"
      ],
      "text/plain": [
       "[1] 296797"
      ]
     },
     "metadata": {},
     "output_type": "display_data"
    }
   ],
   "source": [
    "#... which, subtracted from nrows, gives the initial dim of predictions_df\n",
    "297188-391"
   ]
  },
  {
   "cell_type": "code",
   "execution_count": 17,
   "metadata": {},
   "outputs": [
    {
     "data": {
      "text/html": [
       "<style>\n",
       ".list-inline {list-style: none; margin:0; padding: 0}\n",
       ".list-inline>li {display: inline-block}\n",
       ".list-inline>li:not(:last-child)::after {content: \"\\00b7\"; padding: 0 .5ex}\n",
       "</style>\n",
       "<ol class=list-inline><li>296797</li><li>45</li></ol>\n"
      ],
      "text/latex": [
       "\\begin{enumerate*}\n",
       "\\item 296797\n",
       "\\item 45\n",
       "\\end{enumerate*}\n"
      ],
      "text/markdown": [
       "1. 296797\n",
       "2. 45\n",
       "\n",
       "\n"
      ],
      "text/plain": [
       "[1] 296797     45"
      ]
     },
     "metadata": {},
     "output_type": "display_data"
    },
    {
     "data": {
      "text/html": [
       "<table>\n",
       "<caption>A data.table: 6 × 45</caption>\n",
       "<thead>\n",
       "\t<tr><th scope=col>domain_id</th><th scope=col>renewal_type</th><th scope=col>renewed_count</th><th scope=col>expiry_date</th><th scope=col>domain</th><th scope=col>creation_date</th><th scope=col>status</th><th scope=col>tld</th><th scope=col>registrar</th><th scope=col>reseller</th><th scope=col>reseller_country</th><th scope=col>region</th><th scope=col>reg_period</th><th scope=col>registrant_country</th><th scope=col>renewal_status</th><th scope=col>renew_mbg</th><th scope=col>renew_type</th><th scope=col>autorenew_type</th><th scope=col>renew_date</th><th scope=col>renew_registrar</th><th scope=col>renew_reseller</th><th scope=col>reg_revenue</th><th scope=col>reg_arpt</th><th scope=col>renew_period</th><th scope=col>renew_domain_revenue</th><th scope=col>renew_arpt</th><th scope=col>reg_arpt_org</th><th scope=col>tld_registrar_index</th><th scope=col>sld</th><th scope=col>sld_type</th><th scope=col>sld_length</th><th scope=col>sld_type2</th><th scope=col>day_domains</th><th scope=col>log_reg_arpt</th><th scope=col>gibb_score</th><th scope=col>pattern</th><th scope=col>cluster</th><th scope=col>pattern_score</th><th scope=col>pattern_domain_count</th><th scope=col>pred_df_seg2_glm</th><th scope=col>pred_df_seg_glm</th><th scope=col>pred_df_agg_glm</th><th scope=col>pred_df_seg2_rf</th><th scope=col>pred_df_seg_rf</th><th scope=col>pred_df_agg_rf</th></tr>\n",
       "\t<tr><th scope=col>&lt;int&gt;</th><th scope=col>&lt;chr&gt;</th><th scope=col>&lt;int&gt;</th><th scope=col>&lt;date&gt;</th><th scope=col>&lt;chr&gt;</th><th scope=col>&lt;date&gt;</th><th scope=col>&lt;chr&gt;</th><th scope=col>&lt;fct&gt;</th><th scope=col>&lt;chr&gt;</th><th scope=col>&lt;chr&gt;</th><th scope=col>&lt;chr&gt;</th><th scope=col>&lt;chr&gt;</th><th scope=col>&lt;int&gt;</th><th scope=col>&lt;chr&gt;</th><th scope=col>&lt;fct&gt;</th><th scope=col>&lt;int&gt;</th><th scope=col>&lt;chr&gt;</th><th scope=col>&lt;chr&gt;</th><th scope=col>&lt;date&gt;</th><th scope=col>&lt;chr&gt;</th><th scope=col>&lt;chr&gt;</th><th scope=col>&lt;dbl&gt;</th><th scope=col>&lt;dbl&gt;</th><th scope=col>&lt;int&gt;</th><th scope=col>&lt;dbl&gt;</th><th scope=col>&lt;dbl&gt;</th><th scope=col>&lt;dbl&gt;</th><th scope=col>&lt;chr&gt;</th><th scope=col>&lt;chr&gt;</th><th scope=col>&lt;fct&gt;</th><th scope=col>&lt;int&gt;</th><th scope=col>&lt;chr&gt;</th><th scope=col>&lt;int&gt;</th><th scope=col>&lt;dbl&gt;</th><th scope=col>&lt;dbl&gt;</th><th scope=col>&lt;chr&gt;</th><th scope=col>&lt;chr&gt;</th><th scope=col>&lt;dbl&gt;</th><th scope=col>&lt;int&gt;</th><th scope=col>&lt;dbl&gt;</th><th scope=col>&lt;dbl&gt;</th><th scope=col>&lt;dbl&gt;</th><th scope=col>&lt;dbl&gt;</th><th scope=col>&lt;dbl&gt;</th><th scope=col>&lt;dbl&gt;</th></tr>\n",
       "</thead>\n",
       "<tbody>\n",
       "\t<tr><td>1018925</td><td>FirstTime</td><td>1</td><td>2020-01-16</td><td>eth.pw                </td><td>2016-01-16</td><td>Active</td><td>pw     </td><td>name.com         </td><td>name.com         </td><td>United States</td><td>Non China</td><td>4</td><td>United States</td><td>Renewed   </td><td>0</td><td>renewal     </td><td>NULL</td><td>2015-02-27</td><td>Name.com         </td><td>Name.com         </td><td>24.0</td><td> 6.00</td><td>1</td><td> 6.0</td><td> 6.0</td><td> 6.00</td><td>pwname.com              </td><td>eth           </td><td>l</td><td> 3</td><td>3l </td><td>1</td><td>1.791759</td><td>8.89</td><td>eth           </td><td>1</td><td>1</td><td>1</td><td>0.99999903</td><td>0.322</td><td>0.484</td><td>0.7404987</td><td>0.5118349</td><td>0.4434424</td></tr>\n",
       "\t<tr><td>1837805</td><td>FirstTime</td><td>1</td><td>2020-02-04</td><td>kitetsumemo.in.net    </td><td>2014-02-04</td><td>Active</td><td>in.net </td><td>gmo              </td><td>gmo              </td><td>Japan        </td><td>Non China</td><td>6</td><td>Japan        </td><td>Renewed   </td><td>0</td><td>renewal     </td><td>NULL</td><td>2020-01-19</td><td>GMO              </td><td>GMO              </td><td>32.0</td><td> 5.33</td><td>1</td><td> 6.0</td><td> 6.0</td><td> 5.33</td><td>in.netgmo               </td><td>kitetsumemo   </td><td>l</td><td>11</td><td>11l</td><td>1</td><td>1.673351</td><td>6.30</td><td>kitetsumemo   </td><td>1</td><td>1</td><td>1</td><td>1.00000000</td><td>0.940</td><td>0.724</td><td>0.7803139</td><td>0.6546858</td><td>0.4043908</td></tr>\n",
       "\t<tr><td>2294288</td><td>FirstTime</td><td>1</td><td>2020-03-31</td><td>issei.pw              </td><td>2014-03-31</td><td>Active</td><td>pw     </td><td>gmo              </td><td>gmo              </td><td>Japan        </td><td>Non China</td><td>6</td><td>Japan        </td><td>Not Renewd</td><td>0</td><td>auto-renewal</td><td>NULL</td><td>2020-03-31</td><td>GMO              </td><td>GMO              </td><td>33.0</td><td> 5.50</td><td>1</td><td>15.0</td><td>15.0</td><td> 5.50</td><td>pwgmo                   </td><td>issei         </td><td>l</td><td> 5</td><td>5l </td><td>1</td><td>1.704748</td><td>5.66</td><td>issei         </td><td>1</td><td>1</td><td>1</td><td>0.80186273</td><td>0.770</td><td>0.601</td><td>0.6163054</td><td>0.4580625</td><td>0.3594618</td></tr>\n",
       "\t<tr><td>6752374</td><td>FirstTime</td><td>1</td><td>2020-01-04</td><td>netbarg.website       </td><td>2015-01-04</td><td>Active</td><td>website</td><td>namecheap        </td><td>namecheap        </td><td>United States</td><td>Non China</td><td>5</td><td>Germany      </td><td>Renewed   </td><td>0</td><td>renewal     </td><td>NULL</td><td>2019-12-05</td><td>Namecheap        </td><td>Namecheap        </td><td>17.5</td><td> 3.50</td><td>1</td><td> 7.5</td><td> 7.5</td><td> 3.50</td><td>websitenamecheap        </td><td>netbarg       </td><td>l</td><td> 7</td><td>7l </td><td>1</td><td>1.252763</td><td>1.94</td><td>netbarg       </td><td>1</td><td>1</td><td>1</td><td>0.37871416</td><td>0.719</td><td>0.482</td><td>0.5009564</td><td>0.4438893</td><td>0.3763672</td></tr>\n",
       "\t<tr><td>6758279</td><td>FirstTime</td><td>1</td><td>2020-01-06</td><td>flyspringfield.website</td><td>2015-01-06</td><td>Active</td><td>website</td><td>enom             </td><td>enom             </td><td>United States</td><td>Non China</td><td>5</td><td>United States</td><td>Renewed   </td><td>0</td><td>renewal     </td><td>NULL</td><td>2020-01-02</td><td>eNom             </td><td>eNom             </td><td>50.0</td><td>10.00</td><td>3</td><td>45.0</td><td>15.0</td><td>10.00</td><td>websiteenom             </td><td>flyspringfield</td><td>l</td><td>14</td><td>14l</td><td>1</td><td>2.302585</td><td>4.44</td><td>flyspringfield</td><td>1</td><td>1</td><td>1</td><td>0.07396782</td><td>0.362</td><td>0.758</td><td>0.2022334</td><td>0.3703322</td><td>0.3475753</td></tr>\n",
       "\t<tr><td>6758512</td><td>FirstTime</td><td>1</td><td>2020-01-06</td><td>bosslife.website      </td><td>2015-01-06</td><td>Active</td><td>website</td><td>network solutions</td><td>network solutions</td><td>United States</td><td>Non China</td><td>5</td><td>United States</td><td>Renewed   </td><td>0</td><td>renewal     </td><td>NULL</td><td>2019-11-07</td><td>Network Solutions</td><td>Network Solutions</td><td>75.0</td><td>15.00</td><td>5</td><td>75.0</td><td>15.0</td><td>15.00</td><td>websitenetwork solutions</td><td>bosslife      </td><td>l</td><td> 8</td><td>8l </td><td>1</td><td>2.708050</td><td>4.59</td><td>bosslife      </td><td>1</td><td>1</td><td>1</td><td>1.00000000</td><td>0.943</td><td>0.829</td><td>0.8070811</td><td>0.8096157</td><td>0.6575082</td></tr>\n",
       "</tbody>\n",
       "</table>\n"
      ],
      "text/latex": [
       "A data.table: 6 × 45\n",
       "\\begin{tabular}{lllllllllllllllllllllllllllllllllllllllllllll}\n",
       " domain\\_id & renewal\\_type & renewed\\_count & expiry\\_date & domain & creation\\_date & status & tld & registrar & reseller & reseller\\_country & region & reg\\_period & registrant\\_country & renewal\\_status & renew\\_mbg & renew\\_type & autorenew\\_type & renew\\_date & renew\\_registrar & renew\\_reseller & reg\\_revenue & reg\\_arpt & renew\\_period & renew\\_domain\\_revenue & renew\\_arpt & reg\\_arpt\\_org & tld\\_registrar\\_index & sld & sld\\_type & sld\\_length & sld\\_type2 & day\\_domains & log\\_reg\\_arpt & gibb\\_score & pattern & cluster & pattern\\_score & pattern\\_domain\\_count & pred\\_df\\_seg2\\_glm & pred\\_df\\_seg\\_glm & pred\\_df\\_agg\\_glm & pred\\_df\\_seg2\\_rf & pred\\_df\\_seg\\_rf & pred\\_df\\_agg\\_rf\\\\\n",
       " <int> & <chr> & <int> & <date> & <chr> & <date> & <chr> & <fct> & <chr> & <chr> & <chr> & <chr> & <int> & <chr> & <fct> & <int> & <chr> & <chr> & <date> & <chr> & <chr> & <dbl> & <dbl> & <int> & <dbl> & <dbl> & <dbl> & <chr> & <chr> & <fct> & <int> & <chr> & <int> & <dbl> & <dbl> & <chr> & <chr> & <dbl> & <int> & <dbl> & <dbl> & <dbl> & <dbl> & <dbl> & <dbl>\\\\\n",
       "\\hline\n",
       "\t 1018925 & FirstTime & 1 & 2020-01-16 & eth.pw                 & 2016-01-16 & Active & pw      & name.com          & name.com          & United States & Non China & 4 & United States & Renewed    & 0 & renewal      & NULL & 2015-02-27 & Name.com          & Name.com          & 24.0 &  6.00 & 1 &  6.0 &  6.0 &  6.00 & pwname.com               & eth            & l &  3 & 3l  & 1 & 1.791759 & 8.89 & eth            & 1 & 1 & 1 & 0.99999903 & 0.322 & 0.484 & 0.7404987 & 0.5118349 & 0.4434424\\\\\n",
       "\t 1837805 & FirstTime & 1 & 2020-02-04 & kitetsumemo.in.net     & 2014-02-04 & Active & in.net  & gmo               & gmo               & Japan         & Non China & 6 & Japan         & Renewed    & 0 & renewal      & NULL & 2020-01-19 & GMO               & GMO               & 32.0 &  5.33 & 1 &  6.0 &  6.0 &  5.33 & in.netgmo                & kitetsumemo    & l & 11 & 11l & 1 & 1.673351 & 6.30 & kitetsumemo    & 1 & 1 & 1 & 1.00000000 & 0.940 & 0.724 & 0.7803139 & 0.6546858 & 0.4043908\\\\\n",
       "\t 2294288 & FirstTime & 1 & 2020-03-31 & issei.pw               & 2014-03-31 & Active & pw      & gmo               & gmo               & Japan         & Non China & 6 & Japan         & Not Renewd & 0 & auto-renewal & NULL & 2020-03-31 & GMO               & GMO               & 33.0 &  5.50 & 1 & 15.0 & 15.0 &  5.50 & pwgmo                    & issei          & l &  5 & 5l  & 1 & 1.704748 & 5.66 & issei          & 1 & 1 & 1 & 0.80186273 & 0.770 & 0.601 & 0.6163054 & 0.4580625 & 0.3594618\\\\\n",
       "\t 6752374 & FirstTime & 1 & 2020-01-04 & netbarg.website        & 2015-01-04 & Active & website & namecheap         & namecheap         & United States & Non China & 5 & Germany       & Renewed    & 0 & renewal      & NULL & 2019-12-05 & Namecheap         & Namecheap         & 17.5 &  3.50 & 1 &  7.5 &  7.5 &  3.50 & websitenamecheap         & netbarg        & l &  7 & 7l  & 1 & 1.252763 & 1.94 & netbarg        & 1 & 1 & 1 & 0.37871416 & 0.719 & 0.482 & 0.5009564 & 0.4438893 & 0.3763672\\\\\n",
       "\t 6758279 & FirstTime & 1 & 2020-01-06 & flyspringfield.website & 2015-01-06 & Active & website & enom              & enom              & United States & Non China & 5 & United States & Renewed    & 0 & renewal      & NULL & 2020-01-02 & eNom              & eNom              & 50.0 & 10.00 & 3 & 45.0 & 15.0 & 10.00 & websiteenom              & flyspringfield & l & 14 & 14l & 1 & 2.302585 & 4.44 & flyspringfield & 1 & 1 & 1 & 0.07396782 & 0.362 & 0.758 & 0.2022334 & 0.3703322 & 0.3475753\\\\\n",
       "\t 6758512 & FirstTime & 1 & 2020-01-06 & bosslife.website       & 2015-01-06 & Active & website & network solutions & network solutions & United States & Non China & 5 & United States & Renewed    & 0 & renewal      & NULL & 2019-11-07 & Network Solutions & Network Solutions & 75.0 & 15.00 & 5 & 75.0 & 15.0 & 15.00 & websitenetwork solutions & bosslife       & l &  8 & 8l  & 1 & 2.708050 & 4.59 & bosslife       & 1 & 1 & 1 & 1.00000000 & 0.943 & 0.829 & 0.8070811 & 0.8096157 & 0.6575082\\\\\n",
       "\\end{tabular}\n"
      ],
      "text/markdown": [
       "\n",
       "A data.table: 6 × 45\n",
       "\n",
       "| domain_id &lt;int&gt; | renewal_type &lt;chr&gt; | renewed_count &lt;int&gt; | expiry_date &lt;date&gt; | domain &lt;chr&gt; | creation_date &lt;date&gt; | status &lt;chr&gt; | tld &lt;fct&gt; | registrar &lt;chr&gt; | reseller &lt;chr&gt; | reseller_country &lt;chr&gt; | region &lt;chr&gt; | reg_period &lt;int&gt; | registrant_country &lt;chr&gt; | renewal_status &lt;fct&gt; | renew_mbg &lt;int&gt; | renew_type &lt;chr&gt; | autorenew_type &lt;chr&gt; | renew_date &lt;date&gt; | renew_registrar &lt;chr&gt; | renew_reseller &lt;chr&gt; | reg_revenue &lt;dbl&gt; | reg_arpt &lt;dbl&gt; | renew_period &lt;int&gt; | renew_domain_revenue &lt;dbl&gt; | renew_arpt &lt;dbl&gt; | reg_arpt_org &lt;dbl&gt; | tld_registrar_index &lt;chr&gt; | sld &lt;chr&gt; | sld_type &lt;fct&gt; | sld_length &lt;int&gt; | sld_type2 &lt;chr&gt; | day_domains &lt;int&gt; | log_reg_arpt &lt;dbl&gt; | gibb_score &lt;dbl&gt; | pattern &lt;chr&gt; | cluster &lt;chr&gt; | pattern_score &lt;dbl&gt; | pattern_domain_count &lt;int&gt; | pred_df_seg2_glm &lt;dbl&gt; | pred_df_seg_glm &lt;dbl&gt; | pred_df_agg_glm &lt;dbl&gt; | pred_df_seg2_rf &lt;dbl&gt; | pred_df_seg_rf &lt;dbl&gt; | pred_df_agg_rf &lt;dbl&gt; |\n",
       "|---|---|---|---|---|---|---|---|---|---|---|---|---|---|---|---|---|---|---|---|---|---|---|---|---|---|---|---|---|---|---|---|---|---|---|---|---|---|---|---|---|---|---|---|---|\n",
       "| 1018925 | FirstTime | 1 | 2020-01-16 | eth.pw                 | 2016-01-16 | Active | pw      | name.com          | name.com          | United States | Non China | 4 | United States | Renewed    | 0 | renewal      | NULL | 2015-02-27 | Name.com          | Name.com          | 24.0 |  6.00 | 1 |  6.0 |  6.0 |  6.00 | pwname.com               | eth            | l |  3 | 3l  | 1 | 1.791759 | 8.89 | eth            | 1 | 1 | 1 | 0.99999903 | 0.322 | 0.484 | 0.7404987 | 0.5118349 | 0.4434424 |\n",
       "| 1837805 | FirstTime | 1 | 2020-02-04 | kitetsumemo.in.net     | 2014-02-04 | Active | in.net  | gmo               | gmo               | Japan         | Non China | 6 | Japan         | Renewed    | 0 | renewal      | NULL | 2020-01-19 | GMO               | GMO               | 32.0 |  5.33 | 1 |  6.0 |  6.0 |  5.33 | in.netgmo                | kitetsumemo    | l | 11 | 11l | 1 | 1.673351 | 6.30 | kitetsumemo    | 1 | 1 | 1 | 1.00000000 | 0.940 | 0.724 | 0.7803139 | 0.6546858 | 0.4043908 |\n",
       "| 2294288 | FirstTime | 1 | 2020-03-31 | issei.pw               | 2014-03-31 | Active | pw      | gmo               | gmo               | Japan         | Non China | 6 | Japan         | Not Renewd | 0 | auto-renewal | NULL | 2020-03-31 | GMO               | GMO               | 33.0 |  5.50 | 1 | 15.0 | 15.0 |  5.50 | pwgmo                    | issei          | l |  5 | 5l  | 1 | 1.704748 | 5.66 | issei          | 1 | 1 | 1 | 0.80186273 | 0.770 | 0.601 | 0.6163054 | 0.4580625 | 0.3594618 |\n",
       "| 6752374 | FirstTime | 1 | 2020-01-04 | netbarg.website        | 2015-01-04 | Active | website | namecheap         | namecheap         | United States | Non China | 5 | Germany       | Renewed    | 0 | renewal      | NULL | 2019-12-05 | Namecheap         | Namecheap         | 17.5 |  3.50 | 1 |  7.5 |  7.5 |  3.50 | websitenamecheap         | netbarg        | l |  7 | 7l  | 1 | 1.252763 | 1.94 | netbarg        | 1 | 1 | 1 | 0.37871416 | 0.719 | 0.482 | 0.5009564 | 0.4438893 | 0.3763672 |\n",
       "| 6758279 | FirstTime | 1 | 2020-01-06 | flyspringfield.website | 2015-01-06 | Active | website | enom              | enom              | United States | Non China | 5 | United States | Renewed    | 0 | renewal      | NULL | 2020-01-02 | eNom              | eNom              | 50.0 | 10.00 | 3 | 45.0 | 15.0 | 10.00 | websiteenom              | flyspringfield | l | 14 | 14l | 1 | 2.302585 | 4.44 | flyspringfield | 1 | 1 | 1 | 0.07396782 | 0.362 | 0.758 | 0.2022334 | 0.3703322 | 0.3475753 |\n",
       "| 6758512 | FirstTime | 1 | 2020-01-06 | bosslife.website       | 2015-01-06 | Active | website | network solutions | network solutions | United States | Non China | 5 | United States | Renewed    | 0 | renewal      | NULL | 2019-11-07 | Network Solutions | Network Solutions | 75.0 | 15.00 | 5 | 75.0 | 15.0 | 15.00 | websitenetwork solutions | bosslife       | l |  8 | 8l  | 1 | 2.708050 | 4.59 | bosslife       | 1 | 1 | 1 | 1.00000000 | 0.943 | 0.829 | 0.8070811 | 0.8096157 | 0.6575082 |\n",
       "\n"
      ],
      "text/plain": [
       "  domain_id renewal_type renewed_count expiry_date domain                \n",
       "1 1018925   FirstTime    1             2020-01-16  eth.pw                \n",
       "2 1837805   FirstTime    1             2020-02-04  kitetsumemo.in.net    \n",
       "3 2294288   FirstTime    1             2020-03-31  issei.pw              \n",
       "4 6752374   FirstTime    1             2020-01-04  netbarg.website       \n",
       "5 6758279   FirstTime    1             2020-01-06  flyspringfield.website\n",
       "6 6758512   FirstTime    1             2020-01-06  bosslife.website      \n",
       "  creation_date status tld     registrar         reseller         \n",
       "1 2016-01-16    Active pw      name.com          name.com         \n",
       "2 2014-02-04    Active in.net  gmo               gmo              \n",
       "3 2014-03-31    Active pw      gmo               gmo              \n",
       "4 2015-01-04    Active website namecheap         namecheap        \n",
       "5 2015-01-06    Active website enom              enom             \n",
       "6 2015-01-06    Active website network solutions network solutions\n",
       "  reseller_country region    reg_period registrant_country renewal_status\n",
       "1 United States    Non China 4          United States      Renewed       \n",
       "2 Japan            Non China 6          Japan              Renewed       \n",
       "3 Japan            Non China 6          Japan              Not Renewd    \n",
       "4 United States    Non China 5          Germany            Renewed       \n",
       "5 United States    Non China 5          United States      Renewed       \n",
       "6 United States    Non China 5          United States      Renewed       \n",
       "  renew_mbg renew_type   autorenew_type renew_date renew_registrar  \n",
       "1 0         renewal      NULL           2015-02-27 Name.com         \n",
       "2 0         renewal      NULL           2020-01-19 GMO              \n",
       "3 0         auto-renewal NULL           2020-03-31 GMO              \n",
       "4 0         renewal      NULL           2019-12-05 Namecheap        \n",
       "5 0         renewal      NULL           2020-01-02 eNom             \n",
       "6 0         renewal      NULL           2019-11-07 Network Solutions\n",
       "  renew_reseller    reg_revenue reg_arpt renew_period renew_domain_revenue\n",
       "1 Name.com          24.0         6.00    1             6.0                \n",
       "2 GMO               32.0         5.33    1             6.0                \n",
       "3 GMO               33.0         5.50    1            15.0                \n",
       "4 Namecheap         17.5         3.50    1             7.5                \n",
       "5 eNom              50.0        10.00    3            45.0                \n",
       "6 Network Solutions 75.0        15.00    5            75.0                \n",
       "  renew_arpt reg_arpt_org tld_registrar_index      sld            sld_type\n",
       "1  6.0        6.00        pwname.com               eth            l       \n",
       "2  6.0        5.33        in.netgmo                kitetsumemo    l       \n",
       "3 15.0        5.50        pwgmo                    issei          l       \n",
       "4  7.5        3.50        websitenamecheap         netbarg        l       \n",
       "5 15.0       10.00        websiteenom              flyspringfield l       \n",
       "6 15.0       15.00        websitenetwork solutions bosslife       l       \n",
       "  sld_length sld_type2 day_domains log_reg_arpt gibb_score pattern       \n",
       "1  3         3l        1           1.791759     8.89       eth           \n",
       "2 11         11l       1           1.673351     6.30       kitetsumemo   \n",
       "3  5         5l        1           1.704748     5.66       issei         \n",
       "4  7         7l        1           1.252763     1.94       netbarg       \n",
       "5 14         14l       1           2.302585     4.44       flyspringfield\n",
       "6  8         8l        1           2.708050     4.59       bosslife      \n",
       "  cluster pattern_score pattern_domain_count pred_df_seg2_glm pred_df_seg_glm\n",
       "1 1       1             1                    0.99999903       0.322          \n",
       "2 1       1             1                    1.00000000       0.940          \n",
       "3 1       1             1                    0.80186273       0.770          \n",
       "4 1       1             1                    0.37871416       0.719          \n",
       "5 1       1             1                    0.07396782       0.362          \n",
       "6 1       1             1                    1.00000000       0.943          \n",
       "  pred_df_agg_glm pred_df_seg2_rf pred_df_seg_rf pred_df_agg_rf\n",
       "1 0.484           0.7404987       0.5118349      0.4434424     \n",
       "2 0.724           0.7803139       0.6546858      0.4043908     \n",
       "3 0.601           0.6163054       0.4580625      0.3594618     \n",
       "4 0.482           0.5009564       0.4438893      0.3763672     \n",
       "5 0.758           0.2022334       0.3703322      0.3475753     \n",
       "6 0.829           0.8070811       0.8096157      0.6575082     "
      ]
     },
     "metadata": {},
     "output_type": "display_data"
    }
   ],
   "source": [
    "#... so just do left merge\n",
    "test_predictions_df <- merge(expiry_test_df_1, \n",
    "                             predictions_df %>% select(pred_df_seg2_glm,pred_df_seg_glm,pred_df_agg_glm,pred_df_seg2_rf,\n",
    "                                                       pred_df_seg_rf,pred_df_agg_rf,domain_id),\n",
    "                            by=\"domain_id\",\n",
    "                            all.x=TRUE)\n",
    "dim(test_predictions_df)\n",
    "head(test_predictions_df)"
   ]
  },
  {
   "cell_type": "code",
   "execution_count": 18,
   "metadata": {},
   "outputs": [
    {
     "data": {
      "text/html": [
       "<style>\n",
       ".list-inline {list-style: none; margin:0; padding: 0}\n",
       ".list-inline>li {display: inline-block}\n",
       ".list-inline>li:not(:last-child)::after {content: \"\\00b7\"; padding: 0 .5ex}\n",
       "</style>\n",
       "<ol class=list-inline><li>'domain_id'</li><li>'renewal_type'</li><li>'renewed_count'</li><li>'expiry_date'</li><li>'domain'</li><li>'creation_date'</li><li>'status'</li><li>'tld'</li><li>'registrar'</li><li>'reseller'</li><li>'reseller_country'</li><li>'region'</li><li>'reg_period'</li><li>'registrant_country'</li><li>'renewal_status'</li><li>'renew_mbg'</li><li>'renew_type'</li><li>'autorenew_type'</li><li>'renew_date'</li><li>'renew_registrar'</li><li>'renew_reseller'</li><li>'reg_revenue'</li><li>'reg_arpt'</li><li>'renew_period'</li><li>'renew_domain_revenue'</li><li>'renew_arpt'</li><li>'reg_arpt_org'</li><li>'tld_registrar_index'</li><li>'sld'</li><li>'sld_type'</li><li>'sld_length'</li><li>'sld_type2'</li><li>'day_domains'</li><li>'log_reg_arpt'</li><li>'gibb_score'</li><li>'pattern'</li><li>'cluster'</li><li>'pattern_score'</li><li>'pattern_domain_count'</li><li>'pred_df_seg2_glm'</li><li>'pred_df_seg_glm'</li><li>'pred_df_agg_glm'</li><li>'pred_df_seg2_rf'</li><li>'pred_df_seg_rf'</li><li>'pred_df_agg_rf'</li></ol>\n"
      ],
      "text/latex": [
       "\\begin{enumerate*}\n",
       "\\item 'domain\\_id'\n",
       "\\item 'renewal\\_type'\n",
       "\\item 'renewed\\_count'\n",
       "\\item 'expiry\\_date'\n",
       "\\item 'domain'\n",
       "\\item 'creation\\_date'\n",
       "\\item 'status'\n",
       "\\item 'tld'\n",
       "\\item 'registrar'\n",
       "\\item 'reseller'\n",
       "\\item 'reseller\\_country'\n",
       "\\item 'region'\n",
       "\\item 'reg\\_period'\n",
       "\\item 'registrant\\_country'\n",
       "\\item 'renewal\\_status'\n",
       "\\item 'renew\\_mbg'\n",
       "\\item 'renew\\_type'\n",
       "\\item 'autorenew\\_type'\n",
       "\\item 'renew\\_date'\n",
       "\\item 'renew\\_registrar'\n",
       "\\item 'renew\\_reseller'\n",
       "\\item 'reg\\_revenue'\n",
       "\\item 'reg\\_arpt'\n",
       "\\item 'renew\\_period'\n",
       "\\item 'renew\\_domain\\_revenue'\n",
       "\\item 'renew\\_arpt'\n",
       "\\item 'reg\\_arpt\\_org'\n",
       "\\item 'tld\\_registrar\\_index'\n",
       "\\item 'sld'\n",
       "\\item 'sld\\_type'\n",
       "\\item 'sld\\_length'\n",
       "\\item 'sld\\_type2'\n",
       "\\item 'day\\_domains'\n",
       "\\item 'log\\_reg\\_arpt'\n",
       "\\item 'gibb\\_score'\n",
       "\\item 'pattern'\n",
       "\\item 'cluster'\n",
       "\\item 'pattern\\_score'\n",
       "\\item 'pattern\\_domain\\_count'\n",
       "\\item 'pred\\_df\\_seg2\\_glm'\n",
       "\\item 'pred\\_df\\_seg\\_glm'\n",
       "\\item 'pred\\_df\\_agg\\_glm'\n",
       "\\item 'pred\\_df\\_seg2\\_rf'\n",
       "\\item 'pred\\_df\\_seg\\_rf'\n",
       "\\item 'pred\\_df\\_agg\\_rf'\n",
       "\\end{enumerate*}\n"
      ],
      "text/markdown": [
       "1. 'domain_id'\n",
       "2. 'renewal_type'\n",
       "3. 'renewed_count'\n",
       "4. 'expiry_date'\n",
       "5. 'domain'\n",
       "6. 'creation_date'\n",
       "7. 'status'\n",
       "8. 'tld'\n",
       "9. 'registrar'\n",
       "10. 'reseller'\n",
       "11. 'reseller_country'\n",
       "12. 'region'\n",
       "13. 'reg_period'\n",
       "14. 'registrant_country'\n",
       "15. 'renewal_status'\n",
       "16. 'renew_mbg'\n",
       "17. 'renew_type'\n",
       "18. 'autorenew_type'\n",
       "19. 'renew_date'\n",
       "20. 'renew_registrar'\n",
       "21. 'renew_reseller'\n",
       "22. 'reg_revenue'\n",
       "23. 'reg_arpt'\n",
       "24. 'renew_period'\n",
       "25. 'renew_domain_revenue'\n",
       "26. 'renew_arpt'\n",
       "27. 'reg_arpt_org'\n",
       "28. 'tld_registrar_index'\n",
       "29. 'sld'\n",
       "30. 'sld_type'\n",
       "31. 'sld_length'\n",
       "32. 'sld_type2'\n",
       "33. 'day_domains'\n",
       "34. 'log_reg_arpt'\n",
       "35. 'gibb_score'\n",
       "36. 'pattern'\n",
       "37. 'cluster'\n",
       "38. 'pattern_score'\n",
       "39. 'pattern_domain_count'\n",
       "40. 'pred_df_seg2_glm'\n",
       "41. 'pred_df_seg_glm'\n",
       "42. 'pred_df_agg_glm'\n",
       "43. 'pred_df_seg2_rf'\n",
       "44. 'pred_df_seg_rf'\n",
       "45. 'pred_df_agg_rf'\n",
       "\n",
       "\n"
      ],
      "text/plain": [
       " [1] \"domain_id\"            \"renewal_type\"         \"renewed_count\"       \n",
       " [4] \"expiry_date\"          \"domain\"               \"creation_date\"       \n",
       " [7] \"status\"               \"tld\"                  \"registrar\"           \n",
       "[10] \"reseller\"             \"reseller_country\"     \"region\"              \n",
       "[13] \"reg_period\"           \"registrant_country\"   \"renewal_status\"      \n",
       "[16] \"renew_mbg\"            \"renew_type\"           \"autorenew_type\"      \n",
       "[19] \"renew_date\"           \"renew_registrar\"      \"renew_reseller\"      \n",
       "[22] \"reg_revenue\"          \"reg_arpt\"             \"renew_period\"        \n",
       "[25] \"renew_domain_revenue\" \"renew_arpt\"           \"reg_arpt_org\"        \n",
       "[28] \"tld_registrar_index\"  \"sld\"                  \"sld_type\"            \n",
       "[31] \"sld_length\"           \"sld_type2\"            \"day_domains\"         \n",
       "[34] \"log_reg_arpt\"         \"gibb_score\"           \"pattern\"             \n",
       "[37] \"cluster\"              \"pattern_score\"        \"pattern_domain_count\"\n",
       "[40] \"pred_df_seg2_glm\"     \"pred_df_seg_glm\"      \"pred_df_agg_glm\"     \n",
       "[43] \"pred_df_seg2_rf\"      \"pred_df_seg_rf\"       \"pred_df_agg_rf\"      "
      ]
     },
     "metadata": {},
     "output_type": "display_data"
    }
   ],
   "source": [
    "names(test_predictions_df)"
   ]
  },
  {
   "cell_type": "markdown",
   "metadata": {},
   "source": [
    "### create reseller_geo and reg_arpt_slab variables to (along with tld) merge with npv_fallback_first_geo_arpt_tld"
   ]
  },
  {
   "cell_type": "markdown",
   "metadata": {},
   "source": [
    "#### reseller_geo"
   ]
  },
  {
   "cell_type": "code",
   "execution_count": 19,
   "metadata": {},
   "outputs": [
    {
     "data": {
      "text/html": [
       "<table>\n",
       "<caption>A data.frame: 6 × 3</caption>\n",
       "<thead>\n",
       "\t<tr><th></th><th scope=col>reseller</th><th scope=col>reseller_country</th><th scope=col>reseller_geo</th></tr>\n",
       "\t<tr><th></th><th scope=col>&lt;fct&gt;</th><th scope=col>&lt;fct&gt;</th><th scope=col>&lt;fct&gt;</th></tr>\n",
       "</thead>\n",
       "<tbody>\n",
       "\t<tr><th scope=row>1</th><td>007names           </td><td>United States</td><td>United States</td></tr>\n",
       "\t<tr><th scope=row>2</th><td>0101 internet      </td><td>Hong Kong    </td><td>China        </td></tr>\n",
       "\t<tr><th scope=row>3</th><td><span style=white-space:pre-wrap>1&amp;1 internet       </span></td><td><span style=white-space:pre-wrap>Germany      </span></td><td><span style=white-space:pre-wrap>EU           </span></td></tr>\n",
       "\t<tr><th scope=row>4</th><td>101 domain         </td><td>United States</td><td>United States</td></tr>\n",
       "\t<tr><th scope=row>5</th><td>101domain discovery</td><td>Germany      </td><td>EU           </td></tr>\n",
       "\t<tr><th scope=row>6</th><td>10dencehispahard   </td><td>Spain        </td><td>EU           </td></tr>\n",
       "</tbody>\n",
       "</table>\n"
      ],
      "text/latex": [
       "A data.frame: 6 × 3\n",
       "\\begin{tabular}{r|lll}\n",
       "  & reseller & reseller\\_country & reseller\\_geo\\\\\n",
       "  & <fct> & <fct> & <fct>\\\\\n",
       "\\hline\n",
       "\t1 & 007names            & United States & United States\\\\\n",
       "\t2 & 0101 internet       & Hong Kong     & China        \\\\\n",
       "\t3 & 1\\&1 internet        & Germany       & EU           \\\\\n",
       "\t4 & 101 domain          & United States & United States\\\\\n",
       "\t5 & 101domain discovery & Germany       & EU           \\\\\n",
       "\t6 & 10dencehispahard    & Spain         & EU           \\\\\n",
       "\\end{tabular}\n"
      ],
      "text/markdown": [
       "\n",
       "A data.frame: 6 × 3\n",
       "\n",
       "| <!--/--> | reseller &lt;fct&gt; | reseller_country &lt;fct&gt; | reseller_geo &lt;fct&gt; |\n",
       "|---|---|---|---|\n",
       "| 1 | 007names            | United States | United States |\n",
       "| 2 | 0101 internet       | Hong Kong     | China         |\n",
       "| 3 | 1&amp;1 internet        | Germany       | EU            |\n",
       "| 4 | 101 domain          | United States | United States |\n",
       "| 5 | 101domain discovery | Germany       | EU            |\n",
       "| 6 | 10dencehispahard    | Spain         | EU            |\n",
       "\n"
      ],
      "text/plain": [
       "  reseller            reseller_country reseller_geo \n",
       "1 007names            United States    United States\n",
       "2 0101 internet       Hong Kong        China        \n",
       "3 1&1 internet        Germany          EU           \n",
       "4 101 domain          United States    United States\n",
       "5 101domain discovery Germany          EU           \n",
       "6 10dencehispahard    Spain            EU           "
      ]
     },
     "metadata": {},
     "output_type": "display_data"
    }
   ],
   "source": [
    "anomalyDF <- read.csv(\"/home/jupyter/local/Domains_202003/data/PredictiveModelAnalysis_AnomalyRegistrars.csv\")\n",
    "anomalyDF <- apply(anomalyDF, 2, function(x) trimws(x,which = c(\"both\")) )\n",
    "geoLookupDF <- unique(anomalyDF[,c('reseller','reseller_country','reseller_geo')])\n",
    "geoLookupDF <- as.data.frame(geoLookupDF)\n",
    "head(geoLookupDF)"
   ]
  },
  {
   "cell_type": "code",
   "execution_count": 20,
   "metadata": {},
   "outputs": [
    {
     "data": {
      "text/html": [
       "<table>\n",
       "<caption>A data.table: 6 × 2</caption>\n",
       "<thead>\n",
       "\t<tr><th scope=col>reseller</th><th scope=col>reseller_country</th></tr>\n",
       "\t<tr><th scope=col>&lt;chr&gt;</th><th scope=col>&lt;chr&gt;</th></tr>\n",
       "</thead>\n",
       "<tbody>\n",
       "\t<tr><td>name.com         </td><td>United States</td></tr>\n",
       "\t<tr><td>gmo              </td><td>Japan        </td></tr>\n",
       "\t<tr><td>gmo              </td><td>Japan        </td></tr>\n",
       "\t<tr><td>namecheap        </td><td>United States</td></tr>\n",
       "\t<tr><td>enom             </td><td>United States</td></tr>\n",
       "\t<tr><td>network solutions</td><td>United States</td></tr>\n",
       "</tbody>\n",
       "</table>\n"
      ],
      "text/latex": [
       "A data.table: 6 × 2\n",
       "\\begin{tabular}{ll}\n",
       " reseller & reseller\\_country\\\\\n",
       " <chr> & <chr>\\\\\n",
       "\\hline\n",
       "\t name.com          & United States\\\\\n",
       "\t gmo               & Japan        \\\\\n",
       "\t gmo               & Japan        \\\\\n",
       "\t namecheap         & United States\\\\\n",
       "\t enom              & United States\\\\\n",
       "\t network solutions & United States\\\\\n",
       "\\end{tabular}\n"
      ],
      "text/markdown": [
       "\n",
       "A data.table: 6 × 2\n",
       "\n",
       "| reseller &lt;chr&gt; | reseller_country &lt;chr&gt; |\n",
       "|---|---|\n",
       "| name.com          | United States |\n",
       "| gmo               | Japan         |\n",
       "| gmo               | Japan         |\n",
       "| namecheap         | United States |\n",
       "| enom              | United States |\n",
       "| network solutions | United States |\n",
       "\n"
      ],
      "text/plain": [
       "  reseller          reseller_country\n",
       "1 name.com          United States   \n",
       "2 gmo               Japan           \n",
       "3 gmo               Japan           \n",
       "4 namecheap         United States   \n",
       "5 enom              United States   \n",
       "6 network solutions United States   "
      ]
     },
     "metadata": {},
     "output_type": "display_data"
    },
    {
     "data": {
      "text/html": [
       "<table>\n",
       "<caption>A data.frame: 6 × 2</caption>\n",
       "<thead>\n",
       "\t<tr><th></th><th scope=col>reseller</th><th scope=col>reseller_country</th></tr>\n",
       "\t<tr><th></th><th scope=col>&lt;fct&gt;</th><th scope=col>&lt;fct&gt;</th></tr>\n",
       "</thead>\n",
       "<tbody>\n",
       "\t<tr><th scope=row>1</th><td>007names           </td><td>United States</td></tr>\n",
       "\t<tr><th scope=row>2</th><td>0101 internet      </td><td>Hong Kong    </td></tr>\n",
       "\t<tr><th scope=row>3</th><td><span style=white-space:pre-wrap>1&amp;1 internet       </span></td><td><span style=white-space:pre-wrap>Germany      </span></td></tr>\n",
       "\t<tr><th scope=row>4</th><td>101 domain         </td><td>United States</td></tr>\n",
       "\t<tr><th scope=row>5</th><td>101domain discovery</td><td>Germany      </td></tr>\n",
       "\t<tr><th scope=row>6</th><td>10dencehispahard   </td><td>Spain        </td></tr>\n",
       "</tbody>\n",
       "</table>\n"
      ],
      "text/latex": [
       "A data.frame: 6 × 2\n",
       "\\begin{tabular}{r|ll}\n",
       "  & reseller & reseller\\_country\\\\\n",
       "  & <fct> & <fct>\\\\\n",
       "\\hline\n",
       "\t1 & 007names            & United States\\\\\n",
       "\t2 & 0101 internet       & Hong Kong    \\\\\n",
       "\t3 & 1\\&1 internet        & Germany      \\\\\n",
       "\t4 & 101 domain          & United States\\\\\n",
       "\t5 & 101domain discovery & Germany      \\\\\n",
       "\t6 & 10dencehispahard    & Spain        \\\\\n",
       "\\end{tabular}\n"
      ],
      "text/markdown": [
       "\n",
       "A data.frame: 6 × 2\n",
       "\n",
       "| <!--/--> | reseller &lt;fct&gt; | reseller_country &lt;fct&gt; |\n",
       "|---|---|---|\n",
       "| 1 | 007names            | United States |\n",
       "| 2 | 0101 internet       | Hong Kong     |\n",
       "| 3 | 1&amp;1 internet        | Germany       |\n",
       "| 4 | 101 domain          | United States |\n",
       "| 5 | 101domain discovery | Germany       |\n",
       "| 6 | 10dencehispahard    | Spain         |\n",
       "\n"
      ],
      "text/plain": [
       "  reseller            reseller_country\n",
       "1 007names            United States   \n",
       "2 0101 internet       Hong Kong       \n",
       "3 1&1 internet        Germany         \n",
       "4 101 domain          United States   \n",
       "5 101domain discovery Germany         \n",
       "6 10dencehispahard    Spain           "
      ]
     },
     "metadata": {},
     "output_type": "display_data"
    }
   ],
   "source": [
    "head(test_predictions_df[,c('reseller','reseller_country')])\n",
    "head(geoLookupDF[,c('reseller','reseller_country')])"
   ]
  },
  {
   "cell_type": "code",
   "execution_count": 21,
   "metadata": {},
   "outputs": [
    {
     "data": {
      "text/html": [
       "<style>\n",
       ".list-inline {list-style: none; margin:0; padding: 0}\n",
       ".list-inline>li {display: inline-block}\n",
       ".list-inline>li:not(:last-child)::after {content: \"\\00b7\"; padding: 0 .5ex}\n",
       "</style>\n",
       "<ol class=list-inline><li>296797</li><li>45</li></ol>\n"
      ],
      "text/latex": [
       "\\begin{enumerate*}\n",
       "\\item 296797\n",
       "\\item 45\n",
       "\\end{enumerate*}\n"
      ],
      "text/markdown": [
       "1. 296797\n",
       "2. 45\n",
       "\n",
       "\n"
      ],
      "text/plain": [
       "[1] 296797     45"
      ]
     },
     "metadata": {},
     "output_type": "display_data"
    },
    {
     "data": {
      "text/html": [
       "<style>\n",
       ".list-inline {list-style: none; margin:0; padding: 0}\n",
       ".list-inline>li {display: inline-block}\n",
       ".list-inline>li:not(:last-child)::after {content: \"\\00b7\"; padding: 0 .5ex}\n",
       "</style>\n",
       "<ol class=list-inline><li>296797</li><li>46</li></ol>\n"
      ],
      "text/latex": [
       "\\begin{enumerate*}\n",
       "\\item 296797\n",
       "\\item 46\n",
       "\\end{enumerate*}\n"
      ],
      "text/markdown": [
       "1. 296797\n",
       "2. 46\n",
       "\n",
       "\n"
      ],
      "text/plain": [
       "[1] 296797     46"
      ]
     },
     "metadata": {},
     "output_type": "display_data"
    },
    {
     "data": {
      "text/html": [
       "<table>\n",
       "<caption>A data.frame: 6 × 46</caption>\n",
       "<thead>\n",
       "\t<tr><th></th><th scope=col>reseller</th><th scope=col>reseller_country</th><th scope=col>domain_id</th><th scope=col>renewal_type</th><th scope=col>renewed_count</th><th scope=col>expiry_date</th><th scope=col>domain</th><th scope=col>creation_date</th><th scope=col>status</th><th scope=col>tld</th><th scope=col>registrar</th><th scope=col>region</th><th scope=col>reg_period</th><th scope=col>registrant_country</th><th scope=col>renewal_status</th><th scope=col>renew_mbg</th><th scope=col>renew_type</th><th scope=col>autorenew_type</th><th scope=col>renew_date</th><th scope=col>renew_registrar</th><th scope=col>renew_reseller</th><th scope=col>reg_revenue</th><th scope=col>reg_arpt</th><th scope=col>renew_period</th><th scope=col>renew_domain_revenue</th><th scope=col>renew_arpt</th><th scope=col>reg_arpt_org</th><th scope=col>tld_registrar_index</th><th scope=col>sld</th><th scope=col>sld_type</th><th scope=col>sld_length</th><th scope=col>sld_type2</th><th scope=col>day_domains</th><th scope=col>log_reg_arpt</th><th scope=col>gibb_score</th><th scope=col>pattern</th><th scope=col>cluster</th><th scope=col>pattern_score</th><th scope=col>pattern_domain_count</th><th scope=col>pred_df_seg2_glm</th><th scope=col>pred_df_seg_glm</th><th scope=col>pred_df_agg_glm</th><th scope=col>pred_df_seg2_rf</th><th scope=col>pred_df_seg_rf</th><th scope=col>pred_df_agg_rf</th><th scope=col>reseller_geo</th></tr>\n",
       "\t<tr><th></th><th scope=col>&lt;chr&gt;</th><th scope=col>&lt;chr&gt;</th><th scope=col>&lt;int&gt;</th><th scope=col>&lt;chr&gt;</th><th scope=col>&lt;int&gt;</th><th scope=col>&lt;date&gt;</th><th scope=col>&lt;chr&gt;</th><th scope=col>&lt;date&gt;</th><th scope=col>&lt;chr&gt;</th><th scope=col>&lt;fct&gt;</th><th scope=col>&lt;chr&gt;</th><th scope=col>&lt;chr&gt;</th><th scope=col>&lt;int&gt;</th><th scope=col>&lt;chr&gt;</th><th scope=col>&lt;fct&gt;</th><th scope=col>&lt;int&gt;</th><th scope=col>&lt;chr&gt;</th><th scope=col>&lt;chr&gt;</th><th scope=col>&lt;date&gt;</th><th scope=col>&lt;chr&gt;</th><th scope=col>&lt;chr&gt;</th><th scope=col>&lt;dbl&gt;</th><th scope=col>&lt;dbl&gt;</th><th scope=col>&lt;int&gt;</th><th scope=col>&lt;dbl&gt;</th><th scope=col>&lt;dbl&gt;</th><th scope=col>&lt;dbl&gt;</th><th scope=col>&lt;chr&gt;</th><th scope=col>&lt;chr&gt;</th><th scope=col>&lt;fct&gt;</th><th scope=col>&lt;int&gt;</th><th scope=col>&lt;chr&gt;</th><th scope=col>&lt;int&gt;</th><th scope=col>&lt;dbl&gt;</th><th scope=col>&lt;dbl&gt;</th><th scope=col>&lt;chr&gt;</th><th scope=col>&lt;chr&gt;</th><th scope=col>&lt;dbl&gt;</th><th scope=col>&lt;int&gt;</th><th scope=col>&lt;dbl&gt;</th><th scope=col>&lt;dbl&gt;</th><th scope=col>&lt;dbl&gt;</th><th scope=col>&lt;dbl&gt;</th><th scope=col>&lt;dbl&gt;</th><th scope=col>&lt;dbl&gt;</th><th scope=col>&lt;fct&gt;</th></tr>\n",
       "</thead>\n",
       "<tbody>\n",
       "\t<tr><th scope=row>1</th><td>1&amp;1 internet</td><td>Germany</td><td>101703069</td><td>FirstTime</td><td>1</td><td>2020-04-24</td><td><span style=white-space:pre-wrap>yogaraum.online   </span></td><td>2019-04-24</td><td>Active</td><td>online</td><td>1&amp;1 internet</td><td>Non China</td><td>1</td><td>NA</td><td><span style=white-space:pre-wrap>Renewed   </span></td><td>0</td><td>auto-renewal</td><td><span style=white-space:pre-wrap>realized  </span></td><td>2020-04-24</td><td>1&amp;1 Internet</td><td>1&amp;1 Internet</td><td> 0</td><td> 0.0001</td><td>1</td><td> 9</td><td> 9</td><td> 0</td><td>online1&amp;1 internet</td><td><span style=white-space:pre-wrap>yogaraum   </span></td><td><span style=white-space:pre-wrap>l       </span></td><td> 8</td><td><span style=white-space:pre-wrap>8l        </span></td><td>13</td><td>-9.210340</td><td>3.73</td><td>2 </td><td><span style=white-space:pre-wrap>yogaraum   </span></td><td>0.005917160</td><td>1</td><td>0.4857198</td><td>0.491</td><td>0.403</td><td>0.6758974</td><td>0.6667279</td><td>0.6241976</td><td>EU</td></tr>\n",
       "\t<tr><th scope=row>2</th><td>1&amp;1 internet</td><td>Germany</td><td> 91056433</td><td>FirstTime</td><td>1</td><td>2020-01-15</td><td><span style=white-space:pre-wrap>b2i.online        </span></td><td>2019-01-15</td><td>Active</td><td>online</td><td>1&amp;1 internet</td><td>Non China</td><td>1</td><td>NA</td><td>Not Renewd</td><td>0</td><td>auto-renewal</td><td>unrealized</td><td>2020-01-15</td><td>1&amp;1 Internet</td><td>1&amp;1 Internet</td><td> 5</td><td> 5.0000</td><td>1</td><td>25</td><td>25</td><td> 5</td><td>online1&amp;1 internet</td><td><span style=white-space:pre-wrap>b2i        </span></td><td><span style=white-space:pre-wrap>ln      </span></td><td> 3</td><td><span style=white-space:pre-wrap>3ln       </span></td><td>25</td><td> 1.609438</td><td>3.57</td><td>21</td><td><span style=white-space:pre-wrap>b2i        </span></td><td>0.001600000</td><td>1</td><td>0.4943012</td><td>0.501</td><td>0.393</td><td>0.6151921</td><td>0.6019267</td><td>0.5908605</td><td>EU</td></tr>\n",
       "\t<tr><th scope=row>3</th><td>1&amp;1 internet</td><td>Germany</td><td> 97680624</td><td>FirstTime</td><td>1</td><td>2020-03-23</td><td><span style=white-space:pre-wrap>get3d.online      </span></td><td>2019-03-23</td><td>Active</td><td>online</td><td>1&amp;1 internet</td><td>Non China</td><td>1</td><td>NA</td><td><span style=white-space:pre-wrap>Renewed   </span></td><td>0</td><td>auto-renewal</td><td><span style=white-space:pre-wrap>realized  </span></td><td>2020-03-23</td><td>1&amp;1 Internet</td><td>1&amp;1 Internet</td><td> 0</td><td> 0.0001</td><td>1</td><td> 9</td><td> 9</td><td> 0</td><td>online1&amp;1 internet</td><td><span style=white-space:pre-wrap>get3d      </span></td><td><span style=white-space:pre-wrap>ln      </span></td><td> 5</td><td><span style=white-space:pre-wrap>5ln       </span></td><td> 6</td><td>-9.210340</td><td>0.63</td><td>6 </td><td><span style=white-space:pre-wrap>get3d      </span></td><td>0.027777778</td><td>1</td><td>0.4275131</td><td>0.432</td><td>0.269</td><td>0.4756694</td><td>0.4035293</td><td>0.4261295</td><td>EU</td></tr>\n",
       "\t<tr><th scope=row>4</th><td>1&amp;1 internet</td><td>Germany</td><td> 60260863</td><td>FirstTime</td><td>1</td><td>2020-01-29</td><td>mob-it-alia.online</td><td>2018-01-29</td><td>Active</td><td>online</td><td>1&amp;1 internet</td><td>Non China</td><td>2</td><td>NA</td><td><span style=white-space:pre-wrap>Renewed   </span></td><td>0</td><td>auto-renewal</td><td><span style=white-space:pre-wrap>realized  </span></td><td>2020-01-29</td><td>1&amp;1 Internet</td><td>1&amp;1 Internet</td><td>30</td><td>15.0000</td><td>1</td><td>25</td><td>25</td><td>15</td><td>online1&amp;1 internet</td><td>mob-it-alia</td><td>hyphen-l</td><td>11</td><td>11hyphen-l</td><td> 3</td><td> 2.708050</td><td>4.76</td><td>1 </td><td>mob-it-alia</td><td>0.111111111</td><td>1</td><td>0.6278206</td><td>0.620</td><td>0.670</td><td>0.6279631</td><td>0.5926415</td><td>0.5680841</td><td>EU</td></tr>\n",
       "\t<tr><th scope=row>5</th><td>1&amp;1 internet</td><td>Germany</td><td>102370019</td><td>FirstTime</td><td>1</td><td>2020-04-29</td><td>fusion-web.online </td><td>2019-04-29</td><td>Active</td><td>online</td><td>1&amp;1 internet</td><td>Non China</td><td>1</td><td>NA</td><td><span style=white-space:pre-wrap>Renewed   </span></td><td>0</td><td>auto-renewal</td><td><span style=white-space:pre-wrap>realized  </span></td><td>2020-04-29</td><td>1&amp;1 Internet</td><td>1&amp;1 Internet</td><td> 0</td><td> 0.0001</td><td>1</td><td>25</td><td>25</td><td> 0</td><td>online1&amp;1 internet</td><td>fusion-web </td><td>hyphen-l</td><td>10</td><td>10hyphen-l</td><td>18</td><td>-9.210340</td><td>3.00</td><td>7 </td><td>fusion-web </td><td>0.003086420</td><td>1</td><td>0.5592457</td><td>0.563</td><td>0.413</td><td>0.5777930</td><td>0.5547513</td><td>0.5591712</td><td>EU</td></tr>\n",
       "\t<tr><th scope=row>6</th><td>1&amp;1 internet</td><td>Germany</td><td> 99438074</td><td>FirstTime</td><td>1</td><td>2020-04-09</td><td><span style=white-space:pre-wrap>eclipso.online    </span></td><td>2019-04-09</td><td>Active</td><td>online</td><td>1&amp;1 internet</td><td>Non China</td><td>1</td><td>NA</td><td>Not Renewd</td><td>0</td><td>auto-renewal</td><td>unrealized</td><td>2020-04-09</td><td>1&amp;1 Internet</td><td>1&amp;1 Internet</td><td> 0</td><td> 0.0001</td><td>1</td><td>25</td><td>25</td><td> 0</td><td>online1&amp;1 internet</td><td><span style=white-space:pre-wrap>eclipso    </span></td><td><span style=white-space:pre-wrap>l       </span></td><td> 7</td><td><span style=white-space:pre-wrap>7l        </span></td><td>11</td><td>-9.210340</td><td>3.07</td><td>6 </td><td><span style=white-space:pre-wrap>eclipso    </span></td><td>0.008264463</td><td>1</td><td>0.4950218</td><td>0.501</td><td>0.406</td><td>0.5586089</td><td>0.5506126</td><td>0.5202133</td><td>EU</td></tr>\n",
       "</tbody>\n",
       "</table>\n"
      ],
      "text/latex": [
       "A data.frame: 6 × 46\n",
       "\\begin{tabular}{r|llllllllllllllllllllllllllllllllllllllllllllll}\n",
       "  & reseller & reseller\\_country & domain\\_id & renewal\\_type & renewed\\_count & expiry\\_date & domain & creation\\_date & status & tld & registrar & region & reg\\_period & registrant\\_country & renewal\\_status & renew\\_mbg & renew\\_type & autorenew\\_type & renew\\_date & renew\\_registrar & renew\\_reseller & reg\\_revenue & reg\\_arpt & renew\\_period & renew\\_domain\\_revenue & renew\\_arpt & reg\\_arpt\\_org & tld\\_registrar\\_index & sld & sld\\_type & sld\\_length & sld\\_type2 & day\\_domains & log\\_reg\\_arpt & gibb\\_score & pattern & cluster & pattern\\_score & pattern\\_domain\\_count & pred\\_df\\_seg2\\_glm & pred\\_df\\_seg\\_glm & pred\\_df\\_agg\\_glm & pred\\_df\\_seg2\\_rf & pred\\_df\\_seg\\_rf & pred\\_df\\_agg\\_rf & reseller\\_geo\\\\\n",
       "  & <chr> & <chr> & <int> & <chr> & <int> & <date> & <chr> & <date> & <chr> & <fct> & <chr> & <chr> & <int> & <chr> & <fct> & <int> & <chr> & <chr> & <date> & <chr> & <chr> & <dbl> & <dbl> & <int> & <dbl> & <dbl> & <dbl> & <chr> & <chr> & <fct> & <int> & <chr> & <int> & <dbl> & <dbl> & <chr> & <chr> & <dbl> & <int> & <dbl> & <dbl> & <dbl> & <dbl> & <dbl> & <dbl> & <fct>\\\\\n",
       "\\hline\n",
       "\t1 & 1\\&1 internet & Germany & 101703069 & FirstTime & 1 & 2020-04-24 & yogaraum.online    & 2019-04-24 & Active & online & 1\\&1 internet & Non China & 1 & NA & Renewed    & 0 & auto-renewal & realized   & 2020-04-24 & 1\\&1 Internet & 1\\&1 Internet &  0 &  0.0001 & 1 &  9 &  9 &  0 & online1\\&1 internet & yogaraum    & l        &  8 & 8l         & 13 & -9.210340 & 3.73 & 2  & yogaraum    & 0.005917160 & 1 & 0.4857198 & 0.491 & 0.403 & 0.6758974 & 0.6667279 & 0.6241976 & EU\\\\\n",
       "\t2 & 1\\&1 internet & Germany &  91056433 & FirstTime & 1 & 2020-01-15 & b2i.online         & 2019-01-15 & Active & online & 1\\&1 internet & Non China & 1 & NA & Not Renewd & 0 & auto-renewal & unrealized & 2020-01-15 & 1\\&1 Internet & 1\\&1 Internet &  5 &  5.0000 & 1 & 25 & 25 &  5 & online1\\&1 internet & b2i         & ln       &  3 & 3ln        & 25 &  1.609438 & 3.57 & 21 & b2i         & 0.001600000 & 1 & 0.4943012 & 0.501 & 0.393 & 0.6151921 & 0.6019267 & 0.5908605 & EU\\\\\n",
       "\t3 & 1\\&1 internet & Germany &  97680624 & FirstTime & 1 & 2020-03-23 & get3d.online       & 2019-03-23 & Active & online & 1\\&1 internet & Non China & 1 & NA & Renewed    & 0 & auto-renewal & realized   & 2020-03-23 & 1\\&1 Internet & 1\\&1 Internet &  0 &  0.0001 & 1 &  9 &  9 &  0 & online1\\&1 internet & get3d       & ln       &  5 & 5ln        &  6 & -9.210340 & 0.63 & 6  & get3d       & 0.027777778 & 1 & 0.4275131 & 0.432 & 0.269 & 0.4756694 & 0.4035293 & 0.4261295 & EU\\\\\n",
       "\t4 & 1\\&1 internet & Germany &  60260863 & FirstTime & 1 & 2020-01-29 & mob-it-alia.online & 2018-01-29 & Active & online & 1\\&1 internet & Non China & 2 & NA & Renewed    & 0 & auto-renewal & realized   & 2020-01-29 & 1\\&1 Internet & 1\\&1 Internet & 30 & 15.0000 & 1 & 25 & 25 & 15 & online1\\&1 internet & mob-it-alia & hyphen-l & 11 & 11hyphen-l &  3 &  2.708050 & 4.76 & 1  & mob-it-alia & 0.111111111 & 1 & 0.6278206 & 0.620 & 0.670 & 0.6279631 & 0.5926415 & 0.5680841 & EU\\\\\n",
       "\t5 & 1\\&1 internet & Germany & 102370019 & FirstTime & 1 & 2020-04-29 & fusion-web.online  & 2019-04-29 & Active & online & 1\\&1 internet & Non China & 1 & NA & Renewed    & 0 & auto-renewal & realized   & 2020-04-29 & 1\\&1 Internet & 1\\&1 Internet &  0 &  0.0001 & 1 & 25 & 25 &  0 & online1\\&1 internet & fusion-web  & hyphen-l & 10 & 10hyphen-l & 18 & -9.210340 & 3.00 & 7  & fusion-web  & 0.003086420 & 1 & 0.5592457 & 0.563 & 0.413 & 0.5777930 & 0.5547513 & 0.5591712 & EU\\\\\n",
       "\t6 & 1\\&1 internet & Germany &  99438074 & FirstTime & 1 & 2020-04-09 & eclipso.online     & 2019-04-09 & Active & online & 1\\&1 internet & Non China & 1 & NA & Not Renewd & 0 & auto-renewal & unrealized & 2020-04-09 & 1\\&1 Internet & 1\\&1 Internet &  0 &  0.0001 & 1 & 25 & 25 &  0 & online1\\&1 internet & eclipso     & l        &  7 & 7l         & 11 & -9.210340 & 3.07 & 6  & eclipso     & 0.008264463 & 1 & 0.4950218 & 0.501 & 0.406 & 0.5586089 & 0.5506126 & 0.5202133 & EU\\\\\n",
       "\\end{tabular}\n"
      ],
      "text/markdown": [
       "\n",
       "A data.frame: 6 × 46\n",
       "\n",
       "| <!--/--> | reseller &lt;chr&gt; | reseller_country &lt;chr&gt; | domain_id &lt;int&gt; | renewal_type &lt;chr&gt; | renewed_count &lt;int&gt; | expiry_date &lt;date&gt; | domain &lt;chr&gt; | creation_date &lt;date&gt; | status &lt;chr&gt; | tld &lt;fct&gt; | registrar &lt;chr&gt; | region &lt;chr&gt; | reg_period &lt;int&gt; | registrant_country &lt;chr&gt; | renewal_status &lt;fct&gt; | renew_mbg &lt;int&gt; | renew_type &lt;chr&gt; | autorenew_type &lt;chr&gt; | renew_date &lt;date&gt; | renew_registrar &lt;chr&gt; | renew_reseller &lt;chr&gt; | reg_revenue &lt;dbl&gt; | reg_arpt &lt;dbl&gt; | renew_period &lt;int&gt; | renew_domain_revenue &lt;dbl&gt; | renew_arpt &lt;dbl&gt; | reg_arpt_org &lt;dbl&gt; | tld_registrar_index &lt;chr&gt; | sld &lt;chr&gt; | sld_type &lt;fct&gt; | sld_length &lt;int&gt; | sld_type2 &lt;chr&gt; | day_domains &lt;int&gt; | log_reg_arpt &lt;dbl&gt; | gibb_score &lt;dbl&gt; | pattern &lt;chr&gt; | cluster &lt;chr&gt; | pattern_score &lt;dbl&gt; | pattern_domain_count &lt;int&gt; | pred_df_seg2_glm &lt;dbl&gt; | pred_df_seg_glm &lt;dbl&gt; | pred_df_agg_glm &lt;dbl&gt; | pred_df_seg2_rf &lt;dbl&gt; | pred_df_seg_rf &lt;dbl&gt; | pred_df_agg_rf &lt;dbl&gt; | reseller_geo &lt;fct&gt; |\n",
       "|---|---|---|---|---|---|---|---|---|---|---|---|---|---|---|---|---|---|---|---|---|---|---|---|---|---|---|---|---|---|---|---|---|---|---|---|---|---|---|---|---|---|---|---|---|---|---|\n",
       "| 1 | 1&amp;1 internet | Germany | 101703069 | FirstTime | 1 | 2020-04-24 | yogaraum.online    | 2019-04-24 | Active | online | 1&amp;1 internet | Non China | 1 | NA | Renewed    | 0 | auto-renewal | realized   | 2020-04-24 | 1&amp;1 Internet | 1&amp;1 Internet |  0 |  0.0001 | 1 |  9 |  9 |  0 | online1&amp;1 internet | yogaraum    | l        |  8 | 8l         | 13 | -9.210340 | 3.73 | 2  | yogaraum    | 0.005917160 | 1 | 0.4857198 | 0.491 | 0.403 | 0.6758974 | 0.6667279 | 0.6241976 | EU |\n",
       "| 2 | 1&amp;1 internet | Germany |  91056433 | FirstTime | 1 | 2020-01-15 | b2i.online         | 2019-01-15 | Active | online | 1&amp;1 internet | Non China | 1 | NA | Not Renewd | 0 | auto-renewal | unrealized | 2020-01-15 | 1&amp;1 Internet | 1&amp;1 Internet |  5 |  5.0000 | 1 | 25 | 25 |  5 | online1&amp;1 internet | b2i         | ln       |  3 | 3ln        | 25 |  1.609438 | 3.57 | 21 | b2i         | 0.001600000 | 1 | 0.4943012 | 0.501 | 0.393 | 0.6151921 | 0.6019267 | 0.5908605 | EU |\n",
       "| 3 | 1&amp;1 internet | Germany |  97680624 | FirstTime | 1 | 2020-03-23 | get3d.online       | 2019-03-23 | Active | online | 1&amp;1 internet | Non China | 1 | NA | Renewed    | 0 | auto-renewal | realized   | 2020-03-23 | 1&amp;1 Internet | 1&amp;1 Internet |  0 |  0.0001 | 1 |  9 |  9 |  0 | online1&amp;1 internet | get3d       | ln       |  5 | 5ln        |  6 | -9.210340 | 0.63 | 6  | get3d       | 0.027777778 | 1 | 0.4275131 | 0.432 | 0.269 | 0.4756694 | 0.4035293 | 0.4261295 | EU |\n",
       "| 4 | 1&amp;1 internet | Germany |  60260863 | FirstTime | 1 | 2020-01-29 | mob-it-alia.online | 2018-01-29 | Active | online | 1&amp;1 internet | Non China | 2 | NA | Renewed    | 0 | auto-renewal | realized   | 2020-01-29 | 1&amp;1 Internet | 1&amp;1 Internet | 30 | 15.0000 | 1 | 25 | 25 | 15 | online1&amp;1 internet | mob-it-alia | hyphen-l | 11 | 11hyphen-l |  3 |  2.708050 | 4.76 | 1  | mob-it-alia | 0.111111111 | 1 | 0.6278206 | 0.620 | 0.670 | 0.6279631 | 0.5926415 | 0.5680841 | EU |\n",
       "| 5 | 1&amp;1 internet | Germany | 102370019 | FirstTime | 1 | 2020-04-29 | fusion-web.online  | 2019-04-29 | Active | online | 1&amp;1 internet | Non China | 1 | NA | Renewed    | 0 | auto-renewal | realized   | 2020-04-29 | 1&amp;1 Internet | 1&amp;1 Internet |  0 |  0.0001 | 1 | 25 | 25 |  0 | online1&amp;1 internet | fusion-web  | hyphen-l | 10 | 10hyphen-l | 18 | -9.210340 | 3.00 | 7  | fusion-web  | 0.003086420 | 1 | 0.5592457 | 0.563 | 0.413 | 0.5777930 | 0.5547513 | 0.5591712 | EU |\n",
       "| 6 | 1&amp;1 internet | Germany |  99438074 | FirstTime | 1 | 2020-04-09 | eclipso.online     | 2019-04-09 | Active | online | 1&amp;1 internet | Non China | 1 | NA | Not Renewd | 0 | auto-renewal | unrealized | 2020-04-09 | 1&amp;1 Internet | 1&amp;1 Internet |  0 |  0.0001 | 1 | 25 | 25 |  0 | online1&amp;1 internet | eclipso     | l        |  7 | 7l         | 11 | -9.210340 | 3.07 | 6  | eclipso     | 0.008264463 | 1 | 0.4950218 | 0.501 | 0.406 | 0.5586089 | 0.5506126 | 0.5202133 | EU |\n",
       "\n"
      ],
      "text/plain": [
       "  reseller     reseller_country domain_id renewal_type renewed_count\n",
       "1 1&1 internet Germany          101703069 FirstTime    1            \n",
       "2 1&1 internet Germany           91056433 FirstTime    1            \n",
       "3 1&1 internet Germany           97680624 FirstTime    1            \n",
       "4 1&1 internet Germany           60260863 FirstTime    1            \n",
       "5 1&1 internet Germany          102370019 FirstTime    1            \n",
       "6 1&1 internet Germany           99438074 FirstTime    1            \n",
       "  expiry_date domain             creation_date status tld    registrar   \n",
       "1 2020-04-24  yogaraum.online    2019-04-24    Active online 1&1 internet\n",
       "2 2020-01-15  b2i.online         2019-01-15    Active online 1&1 internet\n",
       "3 2020-03-23  get3d.online       2019-03-23    Active online 1&1 internet\n",
       "4 2020-01-29  mob-it-alia.online 2018-01-29    Active online 1&1 internet\n",
       "5 2020-04-29  fusion-web.online  2019-04-29    Active online 1&1 internet\n",
       "6 2020-04-09  eclipso.online     2019-04-09    Active online 1&1 internet\n",
       "  region    reg_period registrant_country renewal_status renew_mbg renew_type  \n",
       "1 Non China 1          NA                 Renewed        0         auto-renewal\n",
       "2 Non China 1          NA                 Not Renewd     0         auto-renewal\n",
       "3 Non China 1          NA                 Renewed        0         auto-renewal\n",
       "4 Non China 2          NA                 Renewed        0         auto-renewal\n",
       "5 Non China 1          NA                 Renewed        0         auto-renewal\n",
       "6 Non China 1          NA                 Not Renewd     0         auto-renewal\n",
       "  autorenew_type renew_date renew_registrar renew_reseller reg_revenue reg_arpt\n",
       "1 realized       2020-04-24 1&1 Internet    1&1 Internet    0           0.0001 \n",
       "2 unrealized     2020-01-15 1&1 Internet    1&1 Internet    5           5.0000 \n",
       "3 realized       2020-03-23 1&1 Internet    1&1 Internet    0           0.0001 \n",
       "4 realized       2020-01-29 1&1 Internet    1&1 Internet   30          15.0000 \n",
       "5 realized       2020-04-29 1&1 Internet    1&1 Internet    0           0.0001 \n",
       "6 unrealized     2020-04-09 1&1 Internet    1&1 Internet    0           0.0001 \n",
       "  renew_period renew_domain_revenue renew_arpt reg_arpt_org tld_registrar_index\n",
       "1 1             9                    9          0           online1&1 internet \n",
       "2 1            25                   25          5           online1&1 internet \n",
       "3 1             9                    9          0           online1&1 internet \n",
       "4 1            25                   25         15           online1&1 internet \n",
       "5 1            25                   25          0           online1&1 internet \n",
       "6 1            25                   25          0           online1&1 internet \n",
       "  sld         sld_type sld_length sld_type2  day_domains log_reg_arpt\n",
       "1 yogaraum    l         8         8l         13          -9.210340   \n",
       "2 b2i         ln        3         3ln        25           1.609438   \n",
       "3 get3d       ln        5         5ln         6          -9.210340   \n",
       "4 mob-it-alia hyphen-l 11         11hyphen-l  3           2.708050   \n",
       "5 fusion-web  hyphen-l 10         10hyphen-l 18          -9.210340   \n",
       "6 eclipso     l         7         7l         11          -9.210340   \n",
       "  gibb_score pattern cluster     pattern_score pattern_domain_count\n",
       "1 3.73       2       yogaraum    0.005917160   1                   \n",
       "2 3.57       21      b2i         0.001600000   1                   \n",
       "3 0.63       6       get3d       0.027777778   1                   \n",
       "4 4.76       1       mob-it-alia 0.111111111   1                   \n",
       "5 3.00       7       fusion-web  0.003086420   1                   \n",
       "6 3.07       6       eclipso     0.008264463   1                   \n",
       "  pred_df_seg2_glm pred_df_seg_glm pred_df_agg_glm pred_df_seg2_rf\n",
       "1 0.4857198        0.491           0.403           0.6758974      \n",
       "2 0.4943012        0.501           0.393           0.6151921      \n",
       "3 0.4275131        0.432           0.269           0.4756694      \n",
       "4 0.6278206        0.620           0.670           0.6279631      \n",
       "5 0.5592457        0.563           0.413           0.5777930      \n",
       "6 0.4950218        0.501           0.406           0.5586089      \n",
       "  pred_df_seg_rf pred_df_agg_rf reseller_geo\n",
       "1 0.6667279      0.6241976      EU          \n",
       "2 0.6019267      0.5908605      EU          \n",
       "3 0.4035293      0.4261295      EU          \n",
       "4 0.5926415      0.5680841      EU          \n",
       "5 0.5547513      0.5591712      EU          \n",
       "6 0.5506126      0.5202133      EU          "
      ]
     },
     "metadata": {},
     "output_type": "display_data"
    }
   ],
   "source": [
    "# ensure correct number of dimm\n",
    "dim(test_predictions_df)\n",
    "test_predictions_df_2 <- merge(as.data.frame(test_predictions_df),\n",
    "                           geoLookupDF,\n",
    "                           on=c('reseller','reseller_country'), \n",
    "                           all.x = TRUE)\n",
    "dim(test_predictions_df_2)\n",
    "head(test_predictions_df_2)\n"
   ]
  },
  {
   "cell_type": "code",
   "execution_count": 22,
   "metadata": {},
   "outputs": [],
   "source": [
    "# dims match... replace original\n",
    "test_predictions_df <- test_predictions_df_2"
   ]
  },
  {
   "cell_type": "code",
   "execution_count": 23,
   "metadata": {},
   "outputs": [
    {
     "data": {
      "text/html": [
       "<style>\n",
       ".dl-inline {width: auto; margin:0; padding: 0}\n",
       ".dl-inline>dt, .dl-inline>dd {float: none; width: auto; display: inline-block}\n",
       ".dl-inline>dt::after {content: \":\\0020\"; padding-right: .5ex}\n",
       ".dl-inline>dt:not(:first-of-type) {padding-left: .5ex}\n",
       "</style><dl class=dl-inline><dt>reseller</dt><dd>0</dd><dt>reseller_country</dt><dd>0</dd><dt>domain_id</dt><dd>0</dd><dt>renewal_type</dt><dd>0</dd><dt>renewed_count</dt><dd>0</dd><dt>expiry_date</dt><dd>0</dd><dt>domain</dt><dd>0</dd><dt>creation_date</dt><dd>0</dd><dt>status</dt><dd>0</dd><dt>tld</dt><dd>0</dd><dt>registrar</dt><dd>0</dd><dt>region</dt><dd>0</dd><dt>reg_period</dt><dd>0</dd><dt>registrant_country</dt><dd>296693</dd><dt>renewal_status</dt><dd>0</dd><dt>renew_mbg</dt><dd>0</dd><dt>renew_type</dt><dd>8133</dd><dt>autorenew_type</dt><dd>72250</dd><dt>renew_date</dt><dd>8140</dd><dt>renew_registrar</dt><dd>0</dd><dt>renew_reseller</dt><dd>0</dd><dt>reg_revenue</dt><dd>0</dd><dt>reg_arpt</dt><dd>0</dd><dt>renew_period</dt><dd>8140</dd><dt>renew_domain_revenue</dt><dd>0</dd><dt>renew_arpt</dt><dd>8140</dd><dt>reg_arpt_org</dt><dd>0</dd><dt>tld_registrar_index</dt><dd>0</dd><dt>sld</dt><dd>0</dd><dt>sld_type</dt><dd>0</dd><dt>sld_length</dt><dd>0</dd><dt>sld_type2</dt><dd>0</dd><dt>day_domains</dt><dd>0</dd><dt>log_reg_arpt</dt><dd>0</dd><dt>gibb_score</dt><dd>0</dd><dt>pattern</dt><dd>0</dd><dt>cluster</dt><dd>0</dd><dt>pattern_score</dt><dd>0</dd><dt>pattern_domain_count</dt><dd>0</dd><dt>pred_df_seg2_glm</dt><dd>1354</dd><dt>pred_df_seg_glm</dt><dd>184</dd><dt>pred_df_agg_glm</dt><dd>88</dd><dt>pred_df_seg2_rf</dt><dd>88</dd><dt>pred_df_seg_rf</dt><dd>88</dd><dt>pred_df_agg_rf</dt><dd>88</dd><dt>reseller_geo</dt><dd>1149</dd></dl>\n"
      ],
      "text/latex": [
       "\\begin{description*}\n",
       "\\item[reseller] 0\n",
       "\\item[reseller\\textbackslash{}\\_country] 0\n",
       "\\item[domain\\textbackslash{}\\_id] 0\n",
       "\\item[renewal\\textbackslash{}\\_type] 0\n",
       "\\item[renewed\\textbackslash{}\\_count] 0\n",
       "\\item[expiry\\textbackslash{}\\_date] 0\n",
       "\\item[domain] 0\n",
       "\\item[creation\\textbackslash{}\\_date] 0\n",
       "\\item[status] 0\n",
       "\\item[tld] 0\n",
       "\\item[registrar] 0\n",
       "\\item[region] 0\n",
       "\\item[reg\\textbackslash{}\\_period] 0\n",
       "\\item[registrant\\textbackslash{}\\_country] 296693\n",
       "\\item[renewal\\textbackslash{}\\_status] 0\n",
       "\\item[renew\\textbackslash{}\\_mbg] 0\n",
       "\\item[renew\\textbackslash{}\\_type] 8133\n",
       "\\item[autorenew\\textbackslash{}\\_type] 72250\n",
       "\\item[renew\\textbackslash{}\\_date] 8140\n",
       "\\item[renew\\textbackslash{}\\_registrar] 0\n",
       "\\item[renew\\textbackslash{}\\_reseller] 0\n",
       "\\item[reg\\textbackslash{}\\_revenue] 0\n",
       "\\item[reg\\textbackslash{}\\_arpt] 0\n",
       "\\item[renew\\textbackslash{}\\_period] 8140\n",
       "\\item[renew\\textbackslash{}\\_domain\\textbackslash{}\\_revenue] 0\n",
       "\\item[renew\\textbackslash{}\\_arpt] 8140\n",
       "\\item[reg\\textbackslash{}\\_arpt\\textbackslash{}\\_org] 0\n",
       "\\item[tld\\textbackslash{}\\_registrar\\textbackslash{}\\_index] 0\n",
       "\\item[sld] 0\n",
       "\\item[sld\\textbackslash{}\\_type] 0\n",
       "\\item[sld\\textbackslash{}\\_length] 0\n",
       "\\item[sld\\textbackslash{}\\_type2] 0\n",
       "\\item[day\\textbackslash{}\\_domains] 0\n",
       "\\item[log\\textbackslash{}\\_reg\\textbackslash{}\\_arpt] 0\n",
       "\\item[gibb\\textbackslash{}\\_score] 0\n",
       "\\item[pattern] 0\n",
       "\\item[cluster] 0\n",
       "\\item[pattern\\textbackslash{}\\_score] 0\n",
       "\\item[pattern\\textbackslash{}\\_domain\\textbackslash{}\\_count] 0\n",
       "\\item[pred\\textbackslash{}\\_df\\textbackslash{}\\_seg2\\textbackslash{}\\_glm] 1354\n",
       "\\item[pred\\textbackslash{}\\_df\\textbackslash{}\\_seg\\textbackslash{}\\_glm] 184\n",
       "\\item[pred\\textbackslash{}\\_df\\textbackslash{}\\_agg\\textbackslash{}\\_glm] 88\n",
       "\\item[pred\\textbackslash{}\\_df\\textbackslash{}\\_seg2\\textbackslash{}\\_rf] 88\n",
       "\\item[pred\\textbackslash{}\\_df\\textbackslash{}\\_seg\\textbackslash{}\\_rf] 88\n",
       "\\item[pred\\textbackslash{}\\_df\\textbackslash{}\\_agg\\textbackslash{}\\_rf] 88\n",
       "\\item[reseller\\textbackslash{}\\_geo] 1149\n",
       "\\end{description*}\n"
      ],
      "text/markdown": [
       "reseller\n",
       ":   0reseller_country\n",
       ":   0domain_id\n",
       ":   0renewal_type\n",
       ":   0renewed_count\n",
       ":   0expiry_date\n",
       ":   0domain\n",
       ":   0creation_date\n",
       ":   0status\n",
       ":   0tld\n",
       ":   0registrar\n",
       ":   0region\n",
       ":   0reg_period\n",
       ":   0registrant_country\n",
       ":   296693renewal_status\n",
       ":   0renew_mbg\n",
       ":   0renew_type\n",
       ":   8133autorenew_type\n",
       ":   72250renew_date\n",
       ":   8140renew_registrar\n",
       ":   0renew_reseller\n",
       ":   0reg_revenue\n",
       ":   0reg_arpt\n",
       ":   0renew_period\n",
       ":   8140renew_domain_revenue\n",
       ":   0renew_arpt\n",
       ":   8140reg_arpt_org\n",
       ":   0tld_registrar_index\n",
       ":   0sld\n",
       ":   0sld_type\n",
       ":   0sld_length\n",
       ":   0sld_type2\n",
       ":   0day_domains\n",
       ":   0log_reg_arpt\n",
       ":   0gibb_score\n",
       ":   0pattern\n",
       ":   0cluster\n",
       ":   0pattern_score\n",
       ":   0pattern_domain_count\n",
       ":   0pred_df_seg2_glm\n",
       ":   1354pred_df_seg_glm\n",
       ":   184pred_df_agg_glm\n",
       ":   88pred_df_seg2_rf\n",
       ":   88pred_df_seg_rf\n",
       ":   88pred_df_agg_rf\n",
       ":   88reseller_geo\n",
       ":   1149\n",
       "\n"
      ],
      "text/plain": [
       "            reseller     reseller_country            domain_id \n",
       "                   0                    0                    0 \n",
       "        renewal_type        renewed_count          expiry_date \n",
       "                   0                    0                    0 \n",
       "              domain        creation_date               status \n",
       "                   0                    0                    0 \n",
       "                 tld            registrar               region \n",
       "                   0                    0                    0 \n",
       "          reg_period   registrant_country       renewal_status \n",
       "                   0               296693                    0 \n",
       "           renew_mbg           renew_type       autorenew_type \n",
       "                   0                 8133                72250 \n",
       "          renew_date      renew_registrar       renew_reseller \n",
       "                8140                    0                    0 \n",
       "         reg_revenue             reg_arpt         renew_period \n",
       "                   0                    0                 8140 \n",
       "renew_domain_revenue           renew_arpt         reg_arpt_org \n",
       "                   0                 8140                    0 \n",
       " tld_registrar_index                  sld             sld_type \n",
       "                   0                    0                    0 \n",
       "          sld_length            sld_type2          day_domains \n",
       "                   0                    0                    0 \n",
       "        log_reg_arpt           gibb_score              pattern \n",
       "                   0                    0                    0 \n",
       "             cluster        pattern_score pattern_domain_count \n",
       "                   0                    0                    0 \n",
       "    pred_df_seg2_glm      pred_df_seg_glm      pred_df_agg_glm \n",
       "                1354                  184                   88 \n",
       "     pred_df_seg2_rf       pred_df_seg_rf       pred_df_agg_rf \n",
       "                  88                   88                   88 \n",
       "        reseller_geo \n",
       "                1149 "
      ]
     },
     "metadata": {},
     "output_type": "display_data"
    }
   ],
   "source": [
    "# NA reseller_gep\n",
    "test_predictions_df %>% is.na %>% colSums"
   ]
  },
  {
   "cell_type": "code",
   "execution_count": 24,
   "metadata": {},
   "outputs": [
    {
     "data": {
      "text/html": [
       "<table>\n",
       "<caption>A data.frame: 13 × 2</caption>\n",
       "<thead>\n",
       "\t<tr><th></th><th scope=col>reseller</th><th scope=col>reseller_country</th></tr>\n",
       "\t<tr><th></th><th scope=col>&lt;chr&gt;</th><th scope=col>&lt;chr&gt;</th></tr>\n",
       "</thead>\n",
       "<tbody>\n",
       "\t<tr><th scope=row>1</th><td>amen fr             </td><td>France       </td></tr>\n",
       "\t<tr><th scope=row>179</th><td>hostinger 2         </td><td>Lithuania    </td></tr>\n",
       "\t<tr><th scope=row>180</th><td>innovadeus          </td><td>             </td></tr>\n",
       "\t<tr><th scope=row>182</th><td>interserver         </td><td>United States</td></tr>\n",
       "\t<tr><th scope=row>199</th><td>key-systems         </td><td>Netherlands  </td></tr>\n",
       "\t<tr><th scope=row>327</th><td>net4 india          </td><td>             </td></tr>\n",
       "\t<tr><th scope=row>328</th><td>pdr ltd             </td><td>United States</td></tr>\n",
       "\t<tr><th scope=row>330</th><td>registrator domenov </td><td>Russia       </td></tr>\n",
       "\t<tr><th scope=row>385</th><td>shopify             </td><td>United States</td></tr>\n",
       "\t<tr><th scope=row>391</th><td>tld registrar solns </td><td>United States</td></tr>\n",
       "\t<tr><th scope=row>392</th><td>tucows              </td><td>Southafrica  </td></tr>\n",
       "\t<tr><th scope=row>1120</th><td>virtua drug         </td><td>             </td></tr>\n",
       "\t<tr><th scope=row>1121</th><td>web4africa          </td><td>South Africa </td></tr>\n",
       "</tbody>\n",
       "</table>\n"
      ],
      "text/latex": [
       "A data.frame: 13 × 2\n",
       "\\begin{tabular}{r|ll}\n",
       "  & reseller & reseller\\_country\\\\\n",
       "  & <chr> & <chr>\\\\\n",
       "\\hline\n",
       "\t1 & amen fr              & France       \\\\\n",
       "\t179 & hostinger 2          & Lithuania    \\\\\n",
       "\t180 & innovadeus           &              \\\\\n",
       "\t182 & interserver          & United States\\\\\n",
       "\t199 & key-systems          & Netherlands  \\\\\n",
       "\t327 & net4 india           &              \\\\\n",
       "\t328 & pdr ltd              & United States\\\\\n",
       "\t330 & registrator domenov  & Russia       \\\\\n",
       "\t385 & shopify              & United States\\\\\n",
       "\t391 & tld registrar solns  & United States\\\\\n",
       "\t392 & tucows               & Southafrica  \\\\\n",
       "\t1120 & virtua drug          &              \\\\\n",
       "\t1121 & web4africa           & South Africa \\\\\n",
       "\\end{tabular}\n"
      ],
      "text/markdown": [
       "\n",
       "A data.frame: 13 × 2\n",
       "\n",
       "| <!--/--> | reseller &lt;chr&gt; | reseller_country &lt;chr&gt; |\n",
       "|---|---|---|\n",
       "| 1 | amen fr              | France        |\n",
       "| 179 | hostinger 2          | Lithuania     |\n",
       "| 180 | innovadeus           | <!----> |\n",
       "| 182 | interserver          | United States |\n",
       "| 199 | key-systems          | Netherlands   |\n",
       "| 327 | net4 india           | <!----> |\n",
       "| 328 | pdr ltd              | United States |\n",
       "| 330 | registrator domenov  | Russia        |\n",
       "| 385 | shopify              | United States |\n",
       "| 391 | tld registrar solns  | United States |\n",
       "| 392 | tucows               | Southafrica   |\n",
       "| 1120 | virtua drug          | <!----> |\n",
       "| 1121 | web4africa           | South Africa  |\n",
       "\n"
      ],
      "text/plain": [
       "     reseller             reseller_country\n",
       "1    amen fr              France          \n",
       "179  hostinger 2          Lithuania       \n",
       "180  innovadeus                           \n",
       "182  interserver          United States   \n",
       "199  key-systems          Netherlands     \n",
       "327  net4 india                           \n",
       "328  pdr ltd              United States   \n",
       "330  registrator domenov  Russia          \n",
       "385  shopify              United States   \n",
       "391  tld registrar solns  United States   \n",
       "392  tucows               Southafrica     \n",
       "1120 virtua drug                          \n",
       "1121 web4africa           South Africa    "
      ]
     },
     "metadata": {},
     "output_type": "display_data"
    }
   ],
   "source": [
    "# for parag: resellers with no reseller_geo\n",
    "test_predictions_df %>% filter(is.na(reseller_geo)) %>% select(reseller,reseller_country) %>% unique()"
   ]
  },
  {
   "cell_type": "code",
   "execution_count": 25,
   "metadata": {},
   "outputs": [
    {
     "data": {
      "text/html": [
       "<style>\n",
       ".list-inline {list-style: none; margin:0; padding: 0}\n",
       ".list-inline>li {display: inline-block}\n",
       ".list-inline>li:not(:last-child)::after {content: \"\\00b7\"; padding: 0 .5ex}\n",
       "</style>\n",
       "<ol class=list-inline><li>EU</li><li>United States</li><li>Australia &amp; New Zealand</li><li>China</li><li>Turkey</li><li>South Africa</li><li>Others</li><li>&lt;NA&gt;</li><li>Russia</li><li>Vietnam, Korea &amp; Indonesia</li><li>India</li><li>Latam</li><li>Canada</li><li>Japan</li><li>Africa</li></ol>\n",
       "\n",
       "<details>\n",
       "\t<summary style=display:list-item;cursor:pointer>\n",
       "\t\t<strong>Levels</strong>:\n",
       "\t</summary>\n",
       "\t<style>\n",
       "\t.list-inline {list-style: none; margin:0; padding: 0}\n",
       "\t.list-inline>li {display: inline-block}\n",
       "\t.list-inline>li:not(:last-child)::after {content: \"\\00b7\"; padding: 0 .5ex}\n",
       "\t</style>\n",
       "\t<ol class=list-inline><li>'Africa'</li><li>'Australia &amp; New Zealand'</li><li>'Canada'</li><li>'China'</li><li>'EU'</li><li>'India'</li><li>'Japan'</li><li>'Latam'</li><li>'Middle East'</li><li>'Others'</li><li>'Russia'</li><li>'South Africa'</li><li>'Turkey'</li><li>'United States'</li><li>'Vietnam, Korea &amp; Indonesia'</li></ol>\n",
       "</details>"
      ],
      "text/latex": [
       "\\begin{enumerate*}\n",
       "\\item EU\n",
       "\\item United States\n",
       "\\item Australia \\& New Zealand\n",
       "\\item China\n",
       "\\item Turkey\n",
       "\\item South Africa\n",
       "\\item Others\n",
       "\\item <NA>\n",
       "\\item Russia\n",
       "\\item Vietnam, Korea \\& Indonesia\n",
       "\\item India\n",
       "\\item Latam\n",
       "\\item Canada\n",
       "\\item Japan\n",
       "\\item Africa\n",
       "\\end{enumerate*}\n",
       "\n",
       "\\emph{Levels}: \\begin{enumerate*}\n",
       "\\item 'Africa'\n",
       "\\item 'Australia \\& New Zealand'\n",
       "\\item 'Canada'\n",
       "\\item 'China'\n",
       "\\item 'EU'\n",
       "\\item 'India'\n",
       "\\item 'Japan'\n",
       "\\item 'Latam'\n",
       "\\item 'Middle East'\n",
       "\\item 'Others'\n",
       "\\item 'Russia'\n",
       "\\item 'South Africa'\n",
       "\\item 'Turkey'\n",
       "\\item 'United States'\n",
       "\\item 'Vietnam, Korea \\& Indonesia'\n",
       "\\end{enumerate*}\n"
      ],
      "text/markdown": [
       "1. EU\n",
       "2. United States\n",
       "3. Australia &amp; New Zealand\n",
       "4. China\n",
       "5. Turkey\n",
       "6. South Africa\n",
       "7. Others\n",
       "8. &lt;NA&gt;\n",
       "9. Russia\n",
       "10. Vietnam, Korea &amp; Indonesia\n",
       "11. India\n",
       "12. Latam\n",
       "13. Canada\n",
       "14. Japan\n",
       "15. Africa\n",
       "\n",
       "\n",
       "\n",
       "**Levels**: 1. 'Africa'\n",
       "2. 'Australia &amp; New Zealand'\n",
       "3. 'Canada'\n",
       "4. 'China'\n",
       "5. 'EU'\n",
       "6. 'India'\n",
       "7. 'Japan'\n",
       "8. 'Latam'\n",
       "9. 'Middle East'\n",
       "10. 'Others'\n",
       "11. 'Russia'\n",
       "12. 'South Africa'\n",
       "13. 'Turkey'\n",
       "14. 'United States'\n",
       "15. 'Vietnam, Korea &amp; Indonesia'\n",
       "\n",
       "\n"
      ],
      "text/plain": [
       " [1] EU                         United States             \n",
       " [3] Australia & New Zealand    China                     \n",
       " [5] Turkey                     South Africa              \n",
       " [7] Others                     <NA>                      \n",
       " [9] Russia                     Vietnam, Korea & Indonesia\n",
       "[11] India                      Latam                     \n",
       "[13] Canada                     Japan                     \n",
       "[15] Africa                    \n",
       "15 Levels: Africa Australia & New Zealand Canada China EU India Japan ... Vietnam, Korea & Indonesia"
      ]
     },
     "metadata": {},
     "output_type": "display_data"
    }
   ],
   "source": [
    "test_predictions_df %>% pull(reseller_geo) %>% unique()"
   ]
  },
  {
   "cell_type": "markdown",
   "metadata": {},
   "source": [
    "#### reg_arpt_slab"
   ]
  },
  {
   "cell_type": "code",
   "execution_count": 26,
   "metadata": {},
   "outputs": [
    {
     "data": {
      "text/html": [
       "<style>\n",
       ".list-inline {list-style: none; margin:0; padding: 0}\n",
       ".list-inline>li {display: inline-block}\n",
       ".list-inline>li:not(:last-child)::after {content: \"\\00b7\"; padding: 0 .5ex}\n",
       "</style>\n",
       "<ol class=list-inline><li>(-Inf,0]</li><li>(0,1]</li><li>(1,3]</li><li>(10,15]</li><li>(5,10]</li><li>(3,5]</li><li>(15,25]</li><li>(35, Inf]</li><li>(25,35]</li></ol>\n",
       "\n",
       "<details>\n",
       "\t<summary style=display:list-item;cursor:pointer>\n",
       "\t\t<strong>Levels</strong>:\n",
       "\t</summary>\n",
       "\t<style>\n",
       "\t.list-inline {list-style: none; margin:0; padding: 0}\n",
       "\t.list-inline>li {display: inline-block}\n",
       "\t.list-inline>li:not(:last-child)::after {content: \"\\00b7\"; padding: 0 .5ex}\n",
       "\t</style>\n",
       "\t<ol class=list-inline><li>'(-Inf,0]'</li><li>'(0,1]'</li><li>'(1,3]'</li><li>'(3,5]'</li><li>'(5,10]'</li><li>'(10,15]'</li><li>'(15,25]'</li><li>'(25,35]'</li><li>'(35, Inf]'</li></ol>\n",
       "</details>"
      ],
      "text/latex": [
       "\\begin{enumerate*}\n",
       "\\item (-Inf,0{]}\n",
       "\\item (0,1{]}\n",
       "\\item (1,3{]}\n",
       "\\item (10,15{]}\n",
       "\\item (5,10{]}\n",
       "\\item (3,5{]}\n",
       "\\item (15,25{]}\n",
       "\\item (35, Inf{]}\n",
       "\\item (25,35{]}\n",
       "\\end{enumerate*}\n",
       "\n",
       "\\emph{Levels}: \\begin{enumerate*}\n",
       "\\item '(-Inf,0{]}'\n",
       "\\item '(0,1{]}'\n",
       "\\item '(1,3{]}'\n",
       "\\item '(3,5{]}'\n",
       "\\item '(5,10{]}'\n",
       "\\item '(10,15{]}'\n",
       "\\item '(15,25{]}'\n",
       "\\item '(25,35{]}'\n",
       "\\item '(35, Inf{]}'\n",
       "\\end{enumerate*}\n"
      ],
      "text/markdown": [
       "1. (-Inf,0]\n",
       "2. (0,1]\n",
       "3. (1,3]\n",
       "4. (10,15]\n",
       "5. (5,10]\n",
       "6. (3,5]\n",
       "7. (15,25]\n",
       "8. (35, Inf]\n",
       "9. (25,35]\n",
       "\n",
       "\n",
       "\n",
       "**Levels**: 1. '(-Inf,0]'\n",
       "2. '(0,1]'\n",
       "3. '(1,3]'\n",
       "4. '(3,5]'\n",
       "5. '(5,10]'\n",
       "6. '(10,15]'\n",
       "7. '(15,25]'\n",
       "8. '(25,35]'\n",
       "9. '(35, Inf]'\n",
       "\n",
       "\n"
      ],
      "text/plain": [
       "[1] (-Inf,0]  (0,1]     (1,3]     (10,15]   (5,10]    (3,5]     (15,25]  \n",
       "[8] (35, Inf] (25,35]  \n",
       "9 Levels: (-Inf,0] (0,1] (1,3] (3,5] (5,10] (10,15] (15,25] ... (35, Inf]"
      ]
     },
     "metadata": {},
     "output_type": "display_data"
    }
   ],
   "source": [
    "npv_fallback_first_geo_arpt_tld %>% pull(reg_arpt_slab)  %>% unique()"
   ]
  },
  {
   "cell_type": "code",
   "execution_count": 27,
   "metadata": {},
   "outputs": [
    {
     "data": {
      "text/html": [
       "<table>\n",
       "<caption>A data.frame: 20 × 2</caption>\n",
       "<thead>\n",
       "\t<tr><th></th><th scope=col>reg_arpt</th><th scope=col>reg_arpt_slab</th></tr>\n",
       "\t<tr><th></th><th scope=col>&lt;dbl&gt;</th><th scope=col>&lt;fct&gt;</th></tr>\n",
       "</thead>\n",
       "<tbody>\n",
       "\t<tr><th scope=row>1</th><td> 0.0001</td><td>(0,1]  </td></tr>\n",
       "\t<tr><th scope=row>2</th><td> 5.0000</td><td>(3,5]  </td></tr>\n",
       "\t<tr><th scope=row>3</th><td> 0.0001</td><td>(0,1]  </td></tr>\n",
       "\t<tr><th scope=row>4</th><td>15.0000</td><td>(10,15]</td></tr>\n",
       "\t<tr><th scope=row>5</th><td> 0.0001</td><td>(0,1]  </td></tr>\n",
       "\t<tr><th scope=row>6</th><td> 0.0001</td><td>(0,1]  </td></tr>\n",
       "\t<tr><th scope=row>7</th><td>15.0000</td><td>(10,15]</td></tr>\n",
       "\t<tr><th scope=row>8</th><td>10.0000</td><td>(5,10] </td></tr>\n",
       "\t<tr><th scope=row>9</th><td> 0.0001</td><td>(0,1]  </td></tr>\n",
       "\t<tr><th scope=row>10</th><td> 0.8000</td><td>(0,1]  </td></tr>\n",
       "\t<tr><th scope=row>11</th><td> 0.0001</td><td>(0,1]  </td></tr>\n",
       "\t<tr><th scope=row>12</th><td> 5.0000</td><td>(3,5]  </td></tr>\n",
       "\t<tr><th scope=row>13</th><td> 0.0001</td><td>(0,1]  </td></tr>\n",
       "\t<tr><th scope=row>14</th><td> 5.0000</td><td>(3,5]  </td></tr>\n",
       "\t<tr><th scope=row>15</th><td>15.0000</td><td>(10,15]</td></tr>\n",
       "\t<tr><th scope=row>16</th><td> 1.0000</td><td>(0,1]  </td></tr>\n",
       "\t<tr><th scope=row>17</th><td> 1.0000</td><td>(0,1]  </td></tr>\n",
       "\t<tr><th scope=row>18</th><td>15.0000</td><td>(10,15]</td></tr>\n",
       "\t<tr><th scope=row>19</th><td> 1.0000</td><td>(0,1]  </td></tr>\n",
       "\t<tr><th scope=row>20</th><td> 0.0001</td><td>(0,1]  </td></tr>\n",
       "</tbody>\n",
       "</table>\n"
      ],
      "text/latex": [
       "A data.frame: 20 × 2\n",
       "\\begin{tabular}{r|ll}\n",
       "  & reg\\_arpt & reg\\_arpt\\_slab\\\\\n",
       "  & <dbl> & <fct>\\\\\n",
       "\\hline\n",
       "\t1 &  0.0001 & (0,1{]}  \\\\\n",
       "\t2 &  5.0000 & (3,5{]}  \\\\\n",
       "\t3 &  0.0001 & (0,1{]}  \\\\\n",
       "\t4 & 15.0000 & (10,15{]}\\\\\n",
       "\t5 &  0.0001 & (0,1{]}  \\\\\n",
       "\t6 &  0.0001 & (0,1{]}  \\\\\n",
       "\t7 & 15.0000 & (10,15{]}\\\\\n",
       "\t8 & 10.0000 & (5,10{]} \\\\\n",
       "\t9 &  0.0001 & (0,1{]}  \\\\\n",
       "\t10 &  0.8000 & (0,1{]}  \\\\\n",
       "\t11 &  0.0001 & (0,1{]}  \\\\\n",
       "\t12 &  5.0000 & (3,5{]}  \\\\\n",
       "\t13 &  0.0001 & (0,1{]}  \\\\\n",
       "\t14 &  5.0000 & (3,5{]}  \\\\\n",
       "\t15 & 15.0000 & (10,15{]}\\\\\n",
       "\t16 &  1.0000 & (0,1{]}  \\\\\n",
       "\t17 &  1.0000 & (0,1{]}  \\\\\n",
       "\t18 & 15.0000 & (10,15{]}\\\\\n",
       "\t19 &  1.0000 & (0,1{]}  \\\\\n",
       "\t20 &  0.0001 & (0,1{]}  \\\\\n",
       "\\end{tabular}\n"
      ],
      "text/markdown": [
       "\n",
       "A data.frame: 20 × 2\n",
       "\n",
       "| <!--/--> | reg_arpt &lt;dbl&gt; | reg_arpt_slab &lt;fct&gt; |\n",
       "|---|---|---|\n",
       "| 1 |  0.0001 | (0,1]   |\n",
       "| 2 |  5.0000 | (3,5]   |\n",
       "| 3 |  0.0001 | (0,1]   |\n",
       "| 4 | 15.0000 | (10,15] |\n",
       "| 5 |  0.0001 | (0,1]   |\n",
       "| 6 |  0.0001 | (0,1]   |\n",
       "| 7 | 15.0000 | (10,15] |\n",
       "| 8 | 10.0000 | (5,10]  |\n",
       "| 9 |  0.0001 | (0,1]   |\n",
       "| 10 |  0.8000 | (0,1]   |\n",
       "| 11 |  0.0001 | (0,1]   |\n",
       "| 12 |  5.0000 | (3,5]   |\n",
       "| 13 |  0.0001 | (0,1]   |\n",
       "| 14 |  5.0000 | (3,5]   |\n",
       "| 15 | 15.0000 | (10,15] |\n",
       "| 16 |  1.0000 | (0,1]   |\n",
       "| 17 |  1.0000 | (0,1]   |\n",
       "| 18 | 15.0000 | (10,15] |\n",
       "| 19 |  1.0000 | (0,1]   |\n",
       "| 20 |  0.0001 | (0,1]   |\n",
       "\n"
      ],
      "text/plain": [
       "   reg_arpt reg_arpt_slab\n",
       "1   0.0001  (0,1]        \n",
       "2   5.0000  (3,5]        \n",
       "3   0.0001  (0,1]        \n",
       "4  15.0000  (10,15]      \n",
       "5   0.0001  (0,1]        \n",
       "6   0.0001  (0,1]        \n",
       "7  15.0000  (10,15]      \n",
       "8  10.0000  (5,10]       \n",
       "9   0.0001  (0,1]        \n",
       "10  0.8000  (0,1]        \n",
       "11  0.0001  (0,1]        \n",
       "12  5.0000  (3,5]        \n",
       "13  0.0001  (0,1]        \n",
       "14  5.0000  (3,5]        \n",
       "15 15.0000  (10,15]      \n",
       "16  1.0000  (0,1]        \n",
       "17  1.0000  (0,1]        \n",
       "18 15.0000  (10,15]      \n",
       "19  1.0000  (0,1]        \n",
       "20  0.0001  (0,1]        "
      ]
     },
     "metadata": {},
     "output_type": "display_data"
    }
   ],
   "source": [
    "test_predictions_df <- test_predictions_df %>% \n",
    "  mutate(reg_arpt_slab=cut(reg_arpt, breaks=c(-Inf, 0, 1, 3, 5, 10, 15, 25, 35, Inf)))\n",
    "test_predictions_df %>% select (reg_arpt, reg_arpt_slab) %>% head(20)"
   ]
  },
  {
   "cell_type": "markdown",
   "metadata": {},
   "source": [
    "## Merge test_predictions_df with fallback table"
   ]
  },
  {
   "cell_type": "code",
   "execution_count": 28,
   "metadata": {},
   "outputs": [
    {
     "data": {
      "text/html": [
       "<table>\n",
       "<caption>A grouped_df: 6 × 7</caption>\n",
       "<thead>\n",
       "\t<tr><th scope=col>tld</th><th scope=col>reseller_geo</th><th scope=col>reg_arpt_slab</th><th scope=col>expiring_domains</th><th scope=col>renewed_domains</th><th scope=col>renewal_rate</th><th scope=col>index</th></tr>\n",
       "\t<tr><th scope=col>&lt;chr&gt;</th><th scope=col>&lt;chr&gt;</th><th scope=col>&lt;fct&gt;</th><th scope=col>&lt;int&gt;</th><th scope=col>&lt;int&gt;</th><th scope=col>&lt;dbl&gt;</th><th scope=col>&lt;chr&gt;</th></tr>\n",
       "</thead>\n",
       "<tbody>\n",
       "\t<tr><td>fun</td><td>China</td><td>(-Inf,0]</td><td> 2098</td><td> 111</td><td>0.053</td><td>funChina(-Inf,0]</td></tr>\n",
       "\t<tr><td>fun</td><td>China</td><td>(0,1]   </td><td>82340</td><td>1910</td><td>0.023</td><td>funChina(0,1]   </td></tr>\n",
       "\t<tr><td>fun</td><td>China</td><td>(1,3]   </td><td> 9991</td><td>1454</td><td>0.146</td><td>funChina(1,3]   </td></tr>\n",
       "\t<tr><td>fun</td><td>EU   </td><td>(-Inf,0]</td><td>  901</td><td>   8</td><td>0.009</td><td>funEU(-Inf,0]   </td></tr>\n",
       "\t<tr><td>fun</td><td>EU   </td><td>(0,1]   </td><td> 6206</td><td> 210</td><td>0.034</td><td>funEU(0,1]      </td></tr>\n",
       "\t<tr><td>fun</td><td>EU   </td><td>(1,3]   </td><td> 1907</td><td> 550</td><td>0.288</td><td>funEU(1,3]      </td></tr>\n",
       "</tbody>\n",
       "</table>\n"
      ],
      "text/latex": [
       "A grouped\\_df: 6 × 7\n",
       "\\begin{tabular}{lllllll}\n",
       " tld & reseller\\_geo & reg\\_arpt\\_slab & expiring\\_domains & renewed\\_domains & renewal\\_rate & index\\\\\n",
       " <chr> & <chr> & <fct> & <int> & <int> & <dbl> & <chr>\\\\\n",
       "\\hline\n",
       "\t fun & China & (-Inf,0{]} &  2098 &  111 & 0.053 & funChina(-Inf,0{]}\\\\\n",
       "\t fun & China & (0,1{]}    & 82340 & 1910 & 0.023 & funChina(0,1{]}   \\\\\n",
       "\t fun & China & (1,3{]}    &  9991 & 1454 & 0.146 & funChina(1,3{]}   \\\\\n",
       "\t fun & EU    & (-Inf,0{]} &   901 &    8 & 0.009 & funEU(-Inf,0{]}   \\\\\n",
       "\t fun & EU    & (0,1{]}    &  6206 &  210 & 0.034 & funEU(0,1{]}      \\\\\n",
       "\t fun & EU    & (1,3{]}    &  1907 &  550 & 0.288 & funEU(1,3{]}      \\\\\n",
       "\\end{tabular}\n"
      ],
      "text/markdown": [
       "\n",
       "A grouped_df: 6 × 7\n",
       "\n",
       "| tld &lt;chr&gt; | reseller_geo &lt;chr&gt; | reg_arpt_slab &lt;fct&gt; | expiring_domains &lt;int&gt; | renewed_domains &lt;int&gt; | renewal_rate &lt;dbl&gt; | index &lt;chr&gt; |\n",
       "|---|---|---|---|---|---|---|\n",
       "| fun | China | (-Inf,0] |  2098 |  111 | 0.053 | funChina(-Inf,0] |\n",
       "| fun | China | (0,1]    | 82340 | 1910 | 0.023 | funChina(0,1]    |\n",
       "| fun | China | (1,3]    |  9991 | 1454 | 0.146 | funChina(1,3]    |\n",
       "| fun | EU    | (-Inf,0] |   901 |    8 | 0.009 | funEU(-Inf,0]    |\n",
       "| fun | EU    | (0,1]    |  6206 |  210 | 0.034 | funEU(0,1]       |\n",
       "| fun | EU    | (1,3]    |  1907 |  550 | 0.288 | funEU(1,3]       |\n",
       "\n"
      ],
      "text/plain": [
       "  tld reseller_geo reg_arpt_slab expiring_domains renewed_domains renewal_rate\n",
       "1 fun China        (-Inf,0]       2098             111            0.053       \n",
       "2 fun China        (0,1]         82340            1910            0.023       \n",
       "3 fun China        (1,3]          9991            1454            0.146       \n",
       "4 fun EU           (-Inf,0]        901               8            0.009       \n",
       "5 fun EU           (0,1]          6206             210            0.034       \n",
       "6 fun EU           (1,3]          1907             550            0.288       \n",
       "  index           \n",
       "1 funChina(-Inf,0]\n",
       "2 funChina(0,1]   \n",
       "3 funChina(1,3]   \n",
       "4 funEU(-Inf,0]   \n",
       "5 funEU(0,1]      \n",
       "6 funEU(1,3]      "
      ]
     },
     "metadata": {},
     "output_type": "display_data"
    }
   ],
   "source": [
    "head((npv_fallback_first_geo_arpt_tld))"
   ]
  },
  {
   "cell_type": "code",
   "execution_count": 29,
   "metadata": {},
   "outputs": [],
   "source": [
    "npv_fallback_first_geo_arpt_tld <- as.data.frame(npv_fallback_first_geo_arpt_tld)"
   ]
  },
  {
   "cell_type": "code",
   "execution_count": 30,
   "metadata": {},
   "outputs": [
    {
     "data": {
      "text/html": [
       "<table>\n",
       "<caption>A data.frame: 6 × 7</caption>\n",
       "<thead>\n",
       "\t<tr><th></th><th scope=col>tld</th><th scope=col>reseller_geo</th><th scope=col>reg_arpt_slab</th><th scope=col>expiring_domains</th><th scope=col>renewed_domains</th><th scope=col>renewal_rate</th><th scope=col>index</th></tr>\n",
       "\t<tr><th></th><th scope=col>&lt;chr&gt;</th><th scope=col>&lt;chr&gt;</th><th scope=col>&lt;fct&gt;</th><th scope=col>&lt;int&gt;</th><th scope=col>&lt;int&gt;</th><th scope=col>&lt;dbl&gt;</th><th scope=col>&lt;chr&gt;</th></tr>\n",
       "</thead>\n",
       "<tbody>\n",
       "\t<tr><th scope=row>1</th><td>fun</td><td>China</td><td>(-Inf,0]</td><td> 2098</td><td> 111</td><td>0.053</td><td>funChina(-Inf,0]</td></tr>\n",
       "\t<tr><th scope=row>2</th><td>fun</td><td>China</td><td>(0,1]   </td><td>82340</td><td>1910</td><td>0.023</td><td>funChina(0,1]   </td></tr>\n",
       "\t<tr><th scope=row>3</th><td>fun</td><td>China</td><td>(1,3]   </td><td> 9991</td><td>1454</td><td>0.146</td><td>funChina(1,3]   </td></tr>\n",
       "\t<tr><th scope=row>4</th><td>fun</td><td>EU   </td><td>(-Inf,0]</td><td>  901</td><td>   8</td><td>0.009</td><td>funEU(-Inf,0]   </td></tr>\n",
       "\t<tr><th scope=row>5</th><td>fun</td><td>EU   </td><td>(0,1]   </td><td> 6206</td><td> 210</td><td>0.034</td><td>funEU(0,1]      </td></tr>\n",
       "\t<tr><th scope=row>6</th><td>fun</td><td>EU   </td><td>(1,3]   </td><td> 1907</td><td> 550</td><td>0.288</td><td>funEU(1,3]      </td></tr>\n",
       "</tbody>\n",
       "</table>\n"
      ],
      "text/latex": [
       "A data.frame: 6 × 7\n",
       "\\begin{tabular}{r|lllllll}\n",
       "  & tld & reseller\\_geo & reg\\_arpt\\_slab & expiring\\_domains & renewed\\_domains & renewal\\_rate & index\\\\\n",
       "  & <chr> & <chr> & <fct> & <int> & <int> & <dbl> & <chr>\\\\\n",
       "\\hline\n",
       "\t1 & fun & China & (-Inf,0{]} &  2098 &  111 & 0.053 & funChina(-Inf,0{]}\\\\\n",
       "\t2 & fun & China & (0,1{]}    & 82340 & 1910 & 0.023 & funChina(0,1{]}   \\\\\n",
       "\t3 & fun & China & (1,3{]}    &  9991 & 1454 & 0.146 & funChina(1,3{]}   \\\\\n",
       "\t4 & fun & EU    & (-Inf,0{]} &   901 &    8 & 0.009 & funEU(-Inf,0{]}   \\\\\n",
       "\t5 & fun & EU    & (0,1{]}    &  6206 &  210 & 0.034 & funEU(0,1{]}      \\\\\n",
       "\t6 & fun & EU    & (1,3{]}    &  1907 &  550 & 0.288 & funEU(1,3{]}      \\\\\n",
       "\\end{tabular}\n"
      ],
      "text/markdown": [
       "\n",
       "A data.frame: 6 × 7\n",
       "\n",
       "| <!--/--> | tld &lt;chr&gt; | reseller_geo &lt;chr&gt; | reg_arpt_slab &lt;fct&gt; | expiring_domains &lt;int&gt; | renewed_domains &lt;int&gt; | renewal_rate &lt;dbl&gt; | index &lt;chr&gt; |\n",
       "|---|---|---|---|---|---|---|---|\n",
       "| 1 | fun | China | (-Inf,0] |  2098 |  111 | 0.053 | funChina(-Inf,0] |\n",
       "| 2 | fun | China | (0,1]    | 82340 | 1910 | 0.023 | funChina(0,1]    |\n",
       "| 3 | fun | China | (1,3]    |  9991 | 1454 | 0.146 | funChina(1,3]    |\n",
       "| 4 | fun | EU    | (-Inf,0] |   901 |    8 | 0.009 | funEU(-Inf,0]    |\n",
       "| 5 | fun | EU    | (0,1]    |  6206 |  210 | 0.034 | funEU(0,1]       |\n",
       "| 6 | fun | EU    | (1,3]    |  1907 |  550 | 0.288 | funEU(1,3]       |\n",
       "\n"
      ],
      "text/plain": [
       "  tld reseller_geo reg_arpt_slab expiring_domains renewed_domains renewal_rate\n",
       "1 fun China        (-Inf,0]       2098             111            0.053       \n",
       "2 fun China        (0,1]         82340            1910            0.023       \n",
       "3 fun China        (1,3]          9991            1454            0.146       \n",
       "4 fun EU           (-Inf,0]        901               8            0.009       \n",
       "5 fun EU           (0,1]          6206             210            0.034       \n",
       "6 fun EU           (1,3]          1907             550            0.288       \n",
       "  index           \n",
       "1 funChina(-Inf,0]\n",
       "2 funChina(0,1]   \n",
       "3 funChina(1,3]   \n",
       "4 funEU(-Inf,0]   \n",
       "5 funEU(0,1]      \n",
       "6 funEU(1,3]      "
      ]
     },
     "metadata": {},
     "output_type": "display_data"
    }
   ],
   "source": [
    "head((npv_fallback_first_geo_arpt_tld))"
   ]
  },
  {
   "cell_type": "code",
   "execution_count": 31,
   "metadata": {},
   "outputs": [
    {
     "name": "stdout",
     "output_type": "stream",
     "text": [
      "'data.frame':\t296797 obs. of  3 variables:\n",
      " $ tld          : Factor w/ 11 levels \"fun\",\"host\",\"in.net\",..: 4 4 4 4 4 4 4 9 4 4 ...\n",
      " $ reseller_geo : Factor w/ 15 levels \"Africa\",\"Australia & New Zealand\",..: 5 5 5 5 5 5 5 5 5 5 ...\n",
      " $ reg_arpt_slab: Factor w/ 9 levels \"(-Inf,0]\",\"(0,1]\",..: 2 4 2 6 2 2 6 5 2 2 ...\n",
      "'data.frame':\t219 obs. of  3 variables:\n",
      " $ tld          : chr  \"fun\" \"fun\" \"fun\" \"fun\" ...\n",
      " $ reseller_geo : chr  \"China\" \"China\" \"China\" \"EU\" ...\n",
      " $ reg_arpt_slab: Factor w/ 9 levels \"(-Inf,0]\",\"(0,1]\",..: 1 2 3 1 2 3 6 2 2 3 ...\n"
     ]
    }
   ],
   "source": [
    "str(test_predictions_df[,c('tld', 'reseller_geo', 'reg_arpt_slab')])\n",
    "str(npv_fallback_first_geo_arpt_tld[,c('tld', 'reseller_geo', 'reg_arpt_slab')])"
   ]
  },
  {
   "cell_type": "code",
   "execution_count": 32,
   "metadata": {},
   "outputs": [],
   "source": [
    "npv_fallback_first_geo_arpt_tld$tld <- factor(npv_fallback_first_geo_arpt_tld$tld)\n",
    "npv_fallback_first_geo_arpt_tld$reseller_geo <- factor(npv_fallback_first_geo_arpt_tld$reseller_geo)"
   ]
  },
  {
   "cell_type": "code",
   "execution_count": 33,
   "metadata": {},
   "outputs": [
    {
     "name": "stdout",
     "output_type": "stream",
     "text": [
      "'data.frame':\t296797 obs. of  3 variables:\n",
      " $ tld          : Factor w/ 11 levels \"fun\",\"host\",\"in.net\",..: 4 4 4 4 4 4 4 9 4 4 ...\n",
      " $ reseller_geo : Factor w/ 15 levels \"Africa\",\"Australia & New Zealand\",..: 5 5 5 5 5 5 5 5 5 5 ...\n",
      " $ reg_arpt_slab: Factor w/ 9 levels \"(-Inf,0]\",\"(0,1]\",..: 2 4 2 6 2 2 6 5 2 2 ...\n",
      "'data.frame':\t219 obs. of  3 variables:\n",
      " $ tld          : Factor w/ 11 levels \"fun\",\"host\",\"in.net\",..: 1 1 1 1 1 1 1 1 1 1 ...\n",
      " $ reseller_geo : Factor w/ 13 levels \"Africa\",\"Australia & New Zealand\",..: 4 4 4 5 5 5 5 6 7 7 ...\n",
      " $ reg_arpt_slab: Factor w/ 9 levels \"(-Inf,0]\",\"(0,1]\",..: 1 2 3 1 2 3 6 2 2 3 ...\n"
     ]
    }
   ],
   "source": [
    "str(test_predictions_df[,c('tld', 'reseller_geo', 'reg_arpt_slab')])\n",
    "str(npv_fallback_first_geo_arpt_tld[,c('tld', 'reseller_geo', 'reg_arpt_slab')])"
   ]
  },
  {
   "cell_type": "code",
   "execution_count": 34,
   "metadata": {},
   "outputs": [
    {
     "data": {
      "text/html": [
       "<style>\n",
       ".list-inline {list-style: none; margin:0; padding: 0}\n",
       ".list-inline>li {display: inline-block}\n",
       ".list-inline>li:not(:last-child)::after {content: \"\\00b7\"; padding: 0 .5ex}\n",
       "</style>\n",
       "<ol class=list-inline><li>296797</li><li>47</li></ol>\n"
      ],
      "text/latex": [
       "\\begin{enumerate*}\n",
       "\\item 296797\n",
       "\\item 47\n",
       "\\end{enumerate*}\n"
      ],
      "text/markdown": [
       "1. 296797\n",
       "2. 47\n",
       "\n",
       "\n"
      ],
      "text/plain": [
       "[1] 296797     47"
      ]
     },
     "metadata": {},
     "output_type": "display_data"
    },
    {
     "data": {
      "text/html": [
       "<style>\n",
       ".list-inline {list-style: none; margin:0; padding: 0}\n",
       ".list-inline>li {display: inline-block}\n",
       ".list-inline>li:not(:last-child)::after {content: \"\\00b7\"; padding: 0 .5ex}\n",
       "</style>\n",
       "<ol class=list-inline><li>296797</li><li>48</li></ol>\n"
      ],
      "text/latex": [
       "\\begin{enumerate*}\n",
       "\\item 296797\n",
       "\\item 48\n",
       "\\end{enumerate*}\n"
      ],
      "text/markdown": [
       "1. 296797\n",
       "2. 48\n",
       "\n",
       "\n"
      ],
      "text/plain": [
       "[1] 296797     48"
      ]
     },
     "metadata": {},
     "output_type": "display_data"
    },
    {
     "data": {
      "text/html": [
       "<table>\n",
       "<caption>A data.frame: 6 × 48</caption>\n",
       "<thead>\n",
       "\t<tr><th></th><th scope=col>tld</th><th scope=col>reseller_geo</th><th scope=col>reg_arpt_slab</th><th scope=col>reseller</th><th scope=col>reseller_country</th><th scope=col>domain_id</th><th scope=col>renewal_type</th><th scope=col>renewed_count</th><th scope=col>expiry_date</th><th scope=col>domain</th><th scope=col>creation_date</th><th scope=col>status</th><th scope=col>registrar</th><th scope=col>region</th><th scope=col>reg_period</th><th scope=col>registrant_country</th><th scope=col>renewal_status</th><th scope=col>renew_mbg</th><th scope=col>renew_type</th><th scope=col>autorenew_type</th><th scope=col>renew_date</th><th scope=col>renew_registrar</th><th scope=col>renew_reseller</th><th scope=col>reg_revenue</th><th scope=col>reg_arpt</th><th scope=col>renew_period</th><th scope=col>renew_domain_revenue</th><th scope=col>renew_arpt</th><th scope=col>reg_arpt_org</th><th scope=col>tld_registrar_index</th><th scope=col>sld</th><th scope=col>sld_type</th><th scope=col>sld_length</th><th scope=col>sld_type2</th><th scope=col>day_domains</th><th scope=col>log_reg_arpt</th><th scope=col>gibb_score</th><th scope=col>pattern</th><th scope=col>cluster</th><th scope=col>pattern_score</th><th scope=col>pattern_domain_count</th><th scope=col>pred_df_seg2_glm</th><th scope=col>pred_df_seg_glm</th><th scope=col>pred_df_agg_glm</th><th scope=col>pred_df_seg2_rf</th><th scope=col>pred_df_seg_rf</th><th scope=col>pred_df_agg_rf</th><th scope=col>renewal_rate</th></tr>\n",
       "\t<tr><th></th><th scope=col>&lt;fct&gt;</th><th scope=col>&lt;fct&gt;</th><th scope=col>&lt;fct&gt;</th><th scope=col>&lt;chr&gt;</th><th scope=col>&lt;chr&gt;</th><th scope=col>&lt;int&gt;</th><th scope=col>&lt;chr&gt;</th><th scope=col>&lt;int&gt;</th><th scope=col>&lt;date&gt;</th><th scope=col>&lt;chr&gt;</th><th scope=col>&lt;date&gt;</th><th scope=col>&lt;chr&gt;</th><th scope=col>&lt;chr&gt;</th><th scope=col>&lt;chr&gt;</th><th scope=col>&lt;int&gt;</th><th scope=col>&lt;chr&gt;</th><th scope=col>&lt;fct&gt;</th><th scope=col>&lt;int&gt;</th><th scope=col>&lt;chr&gt;</th><th scope=col>&lt;chr&gt;</th><th scope=col>&lt;date&gt;</th><th scope=col>&lt;chr&gt;</th><th scope=col>&lt;chr&gt;</th><th scope=col>&lt;dbl&gt;</th><th scope=col>&lt;dbl&gt;</th><th scope=col>&lt;int&gt;</th><th scope=col>&lt;dbl&gt;</th><th scope=col>&lt;dbl&gt;</th><th scope=col>&lt;dbl&gt;</th><th scope=col>&lt;chr&gt;</th><th scope=col>&lt;chr&gt;</th><th scope=col>&lt;fct&gt;</th><th scope=col>&lt;int&gt;</th><th scope=col>&lt;chr&gt;</th><th scope=col>&lt;int&gt;</th><th scope=col>&lt;dbl&gt;</th><th scope=col>&lt;dbl&gt;</th><th scope=col>&lt;chr&gt;</th><th scope=col>&lt;chr&gt;</th><th scope=col>&lt;dbl&gt;</th><th scope=col>&lt;int&gt;</th><th scope=col>&lt;dbl&gt;</th><th scope=col>&lt;dbl&gt;</th><th scope=col>&lt;dbl&gt;</th><th scope=col>&lt;dbl&gt;</th><th scope=col>&lt;dbl&gt;</th><th scope=col>&lt;dbl&gt;</th><th scope=col>&lt;dbl&gt;</th></tr>\n",
       "</thead>\n",
       "<tbody>\n",
       "\t<tr><th scope=row>1</th><td>fun</td><td>Australia &amp; New Zealand</td><td><span style=white-space:pre-wrap>(3,5]  </span></td><td>instra corporation</td><td>Australia</td><td>104893671</td><td>FirstTime</td><td>1</td><td>2020-05-25</td><td><span style=white-space:pre-wrap>laur.fun         </span></td><td>2019-05-25</td><td>Active</td><td>instra corporation</td><td>Non China</td><td>1</td><td>NA</td><td>Not Renewd</td><td>0</td><td>auto-renewal</td><td><span style=white-space:pre-wrap>NA        </span></td><td>2020-05-25</td><td>Instra Corporation</td><td>Instra Corporation</td><td> 4</td><td> 4</td><td>1</td><td>15</td><td>15</td><td> 4</td><td>funinstra corporation</td><td><span style=white-space:pre-wrap>laur         </span></td><td>l</td><td> 4</td><td>4l </td><td>1</td><td>1.386294</td><td>5.48</td><td><span style=white-space:pre-wrap>laur         </span></td><td>1</td><td>1</td><td>1</td><td><span style=white-space:pre-wrap>       NA</span></td><td>0.000</td><td>0.151</td><td>0.00000</td><td>0.1851779</td><td>0.3718108</td><td>NA</td></tr>\n",
       "\t<tr><th scope=row>2</th><td>fun</td><td>Australia &amp; New Zealand</td><td><span style=white-space:pre-wrap>(3,5]  </span></td><td>instra corporation</td><td>Australia</td><td> 99540944</td><td>FirstTime</td><td>1</td><td>2020-04-10</td><td><span style=white-space:pre-wrap>oferty.fun       </span></td><td>2019-04-10</td><td>Active</td><td>instra corporation</td><td>Non China</td><td>1</td><td>NA</td><td>Not Renewd</td><td>0</td><td>auto-renewal</td><td>unrealized</td><td>2020-04-10</td><td>Instra Corporation</td><td>Instra Corporation</td><td> 4</td><td> 4</td><td>1</td><td>15</td><td>15</td><td> 4</td><td>funinstra corporation</td><td><span style=white-space:pre-wrap>oferty       </span></td><td>l</td><td> 6</td><td>6l </td><td>1</td><td>1.386294</td><td>6.03</td><td><span style=white-space:pre-wrap>oferty       </span></td><td>1</td><td>1</td><td>1</td><td><span style=white-space:pre-wrap>       NA</span></td><td>0.000</td><td>0.146</td><td>0.00000</td><td>0.2157494</td><td>0.3943426</td><td>NA</td></tr>\n",
       "\t<tr><th scope=row>3</th><td>fun</td><td>Australia &amp; New Zealand</td><td>(5,10] </td><td><span style=white-space:pre-wrap>crazy domains     </span></td><td>Australia</td><td> 62376247</td><td>FirstTime</td><td>1</td><td>2020-03-07</td><td>tennisladder.fun </td><td>2018-03-07</td><td>Active</td><td><span style=white-space:pre-wrap>crazy domains     </span></td><td>Non China</td><td>2</td><td>NA</td><td>Not Renewd</td><td>0</td><td>auto-renewal</td><td>unrealized</td><td>2020-03-07</td><td><span style=white-space:pre-wrap>Crazy Domains     </span></td><td><span style=white-space:pre-wrap>Crazy Domains     </span></td><td>18</td><td> 9</td><td>1</td><td>15</td><td>15</td><td> 9</td><td><span style=white-space:pre-wrap>funcrazy domains     </span></td><td>tennisladder </td><td>l</td><td>12</td><td>12l</td><td>1</td><td>2.197225</td><td>4.85</td><td>tennisladder </td><td>1</td><td>1</td><td>1</td><td>1.0000000</td><td>0.400</td><td>0.334</td><td>0.42460</td><td>0.5788189</td><td>0.6221085</td><td>NA</td></tr>\n",
       "\t<tr><th scope=row>4</th><td>fun</td><td>Australia &amp; New Zealand</td><td>(10,15]</td><td><span style=white-space:pre-wrap>ventraip          </span></td><td>Australia</td><td> 95252714</td><td>FirstTime</td><td>1</td><td>2020-03-03</td><td><span style=white-space:pre-wrap>letterific.fun   </span></td><td>2019-03-03</td><td>Active</td><td>synergy wholesale </td><td>Non China</td><td>1</td><td>NA</td><td><span style=white-space:pre-wrap>Renewed   </span></td><td>0</td><td><span style=white-space:pre-wrap>renewal     </span></td><td><span style=white-space:pre-wrap>NA        </span></td><td>2020-02-19</td><td>SYNERGY WHOLESALE </td><td><span style=white-space:pre-wrap>VentraIP          </span></td><td>15</td><td>15</td><td>1</td><td>15</td><td>15</td><td>15</td><td><span style=white-space:pre-wrap>funventraip          </span></td><td><span style=white-space:pre-wrap>letterific   </span></td><td>l</td><td>10</td><td>10l</td><td>1</td><td>2.708050</td><td>5.97</td><td><span style=white-space:pre-wrap>letterific   </span></td><td>1</td><td>1</td><td>1</td><td><span style=white-space:pre-wrap>       NA</span></td><td><span style=white-space:pre-wrap>   NA</span></td><td><span style=white-space:pre-wrap>   NA</span></td><td><span style=white-space:pre-wrap>     NA</span></td><td><span style=white-space:pre-wrap>       NA</span></td><td><span style=white-space:pre-wrap>       NA</span></td><td>NA</td></tr>\n",
       "\t<tr><th scope=row>5</th><td>fun</td><td>Canada                 </td><td>(5,10] </td><td>hover             </td><td>Canada   </td><td>104937931</td><td>FirstTime</td><td>1</td><td>2020-05-26</td><td>futurefantasy.fun</td><td>2019-05-26</td><td>Active</td><td>tucows            </td><td>Non China</td><td>1</td><td>NA</td><td>Renewed   </td><td>0</td><td>renewal     </td><td>NA        </td><td>2020-05-25</td><td>Tucows            </td><td>Hover             </td><td> 8</td><td> 8</td><td>1</td><td>15</td><td>15</td><td> 8</td><td>funhover             </td><td>futurefantasy</td><td>l</td><td>13</td><td>13l</td><td>1</td><td>2.079442</td><td>5.61</td><td>futurefantasy</td><td>1</td><td>1</td><td>1</td><td>0.6261119</td><td>0.624</td><td>0.267</td><td>0.59825</td><td>0.5677353</td><td>0.4933172</td><td>NA</td></tr>\n",
       "\t<tr><th scope=row>6</th><td>fun</td><td>Canada                 </td><td>(5,10] </td><td>hover             </td><td>Canada   </td><td> 99187839</td><td>FirstTime</td><td>1</td><td>2020-04-08</td><td>flabocci.fun     </td><td>2019-04-08</td><td>Active</td><td>tucows            </td><td>Non China</td><td>1</td><td>NA</td><td>Renewed   </td><td>0</td><td>renewal     </td><td>NA        </td><td>2020-04-07</td><td>Tucows            </td><td>Hover             </td><td> 8</td><td> 8</td><td>1</td><td>15</td><td>15</td><td> 8</td><td>funhover             </td><td>flabocci     </td><td>l</td><td> 8</td><td>8l </td><td>1</td><td>2.079442</td><td>3.66</td><td>flabocci     </td><td>1</td><td>1</td><td>1</td><td>0.6175394</td><td>0.610</td><td>0.282</td><td>0.59825</td><td>0.6966527</td><td>0.5897817</td><td>NA</td></tr>\n",
       "</tbody>\n",
       "</table>\n"
      ],
      "text/latex": [
       "A data.frame: 6 × 48\n",
       "\\begin{tabular}{r|llllllllllllllllllllllllllllllllllllllllllllllll}\n",
       "  & tld & reseller\\_geo & reg\\_arpt\\_slab & reseller & reseller\\_country & domain\\_id & renewal\\_type & renewed\\_count & expiry\\_date & domain & creation\\_date & status & registrar & region & reg\\_period & registrant\\_country & renewal\\_status & renew\\_mbg & renew\\_type & autorenew\\_type & renew\\_date & renew\\_registrar & renew\\_reseller & reg\\_revenue & reg\\_arpt & renew\\_period & renew\\_domain\\_revenue & renew\\_arpt & reg\\_arpt\\_org & tld\\_registrar\\_index & sld & sld\\_type & sld\\_length & sld\\_type2 & day\\_domains & log\\_reg\\_arpt & gibb\\_score & pattern & cluster & pattern\\_score & pattern\\_domain\\_count & pred\\_df\\_seg2\\_glm & pred\\_df\\_seg\\_glm & pred\\_df\\_agg\\_glm & pred\\_df\\_seg2\\_rf & pred\\_df\\_seg\\_rf & pred\\_df\\_agg\\_rf & renewal\\_rate\\\\\n",
       "  & <fct> & <fct> & <fct> & <chr> & <chr> & <int> & <chr> & <int> & <date> & <chr> & <date> & <chr> & <chr> & <chr> & <int> & <chr> & <fct> & <int> & <chr> & <chr> & <date> & <chr> & <chr> & <dbl> & <dbl> & <int> & <dbl> & <dbl> & <dbl> & <chr> & <chr> & <fct> & <int> & <chr> & <int> & <dbl> & <dbl> & <chr> & <chr> & <dbl> & <int> & <dbl> & <dbl> & <dbl> & <dbl> & <dbl> & <dbl> & <dbl>\\\\\n",
       "\\hline\n",
       "\t1 & fun & Australia \\& New Zealand & (3,5{]}   & instra corporation & Australia & 104893671 & FirstTime & 1 & 2020-05-25 & laur.fun          & 2019-05-25 & Active & instra corporation & Non China & 1 & NA & Not Renewd & 0 & auto-renewal & NA         & 2020-05-25 & Instra Corporation & Instra Corporation &  4 &  4 & 1 & 15 & 15 &  4 & funinstra corporation & laur          & l &  4 & 4l  & 1 & 1.386294 & 5.48 & laur          & 1 & 1 & 1 &        NA & 0.000 & 0.151 & 0.00000 & 0.1851779 & 0.3718108 & NA\\\\\n",
       "\t2 & fun & Australia \\& New Zealand & (3,5{]}   & instra corporation & Australia &  99540944 & FirstTime & 1 & 2020-04-10 & oferty.fun        & 2019-04-10 & Active & instra corporation & Non China & 1 & NA & Not Renewd & 0 & auto-renewal & unrealized & 2020-04-10 & Instra Corporation & Instra Corporation &  4 &  4 & 1 & 15 & 15 &  4 & funinstra corporation & oferty        & l &  6 & 6l  & 1 & 1.386294 & 6.03 & oferty        & 1 & 1 & 1 &        NA & 0.000 & 0.146 & 0.00000 & 0.2157494 & 0.3943426 & NA\\\\\n",
       "\t3 & fun & Australia \\& New Zealand & (5,10{]}  & crazy domains      & Australia &  62376247 & FirstTime & 1 & 2020-03-07 & tennisladder.fun  & 2018-03-07 & Active & crazy domains      & Non China & 2 & NA & Not Renewd & 0 & auto-renewal & unrealized & 2020-03-07 & Crazy Domains      & Crazy Domains      & 18 &  9 & 1 & 15 & 15 &  9 & funcrazy domains      & tennisladder  & l & 12 & 12l & 1 & 2.197225 & 4.85 & tennisladder  & 1 & 1 & 1 & 1.0000000 & 0.400 & 0.334 & 0.42460 & 0.5788189 & 0.6221085 & NA\\\\\n",
       "\t4 & fun & Australia \\& New Zealand & (10,15{]} & ventraip           & Australia &  95252714 & FirstTime & 1 & 2020-03-03 & letterific.fun    & 2019-03-03 & Active & synergy wholesale  & Non China & 1 & NA & Renewed    & 0 & renewal      & NA         & 2020-02-19 & SYNERGY WHOLESALE  & VentraIP           & 15 & 15 & 1 & 15 & 15 & 15 & funventraip           & letterific    & l & 10 & 10l & 1 & 2.708050 & 5.97 & letterific    & 1 & 1 & 1 &        NA &    NA &    NA &      NA &        NA &        NA & NA\\\\\n",
       "\t5 & fun & Canada                  & (5,10{]}  & hover              & Canada    & 104937931 & FirstTime & 1 & 2020-05-26 & futurefantasy.fun & 2019-05-26 & Active & tucows             & Non China & 1 & NA & Renewed    & 0 & renewal      & NA         & 2020-05-25 & Tucows             & Hover              &  8 &  8 & 1 & 15 & 15 &  8 & funhover              & futurefantasy & l & 13 & 13l & 1 & 2.079442 & 5.61 & futurefantasy & 1 & 1 & 1 & 0.6261119 & 0.624 & 0.267 & 0.59825 & 0.5677353 & 0.4933172 & NA\\\\\n",
       "\t6 & fun & Canada                  & (5,10{]}  & hover              & Canada    &  99187839 & FirstTime & 1 & 2020-04-08 & flabocci.fun      & 2019-04-08 & Active & tucows             & Non China & 1 & NA & Renewed    & 0 & renewal      & NA         & 2020-04-07 & Tucows             & Hover              &  8 &  8 & 1 & 15 & 15 &  8 & funhover              & flabocci      & l &  8 & 8l  & 1 & 2.079442 & 3.66 & flabocci      & 1 & 1 & 1 & 0.6175394 & 0.610 & 0.282 & 0.59825 & 0.6966527 & 0.5897817 & NA\\\\\n",
       "\\end{tabular}\n"
      ],
      "text/markdown": [
       "\n",
       "A data.frame: 6 × 48\n",
       "\n",
       "| <!--/--> | tld &lt;fct&gt; | reseller_geo &lt;fct&gt; | reg_arpt_slab &lt;fct&gt; | reseller &lt;chr&gt; | reseller_country &lt;chr&gt; | domain_id &lt;int&gt; | renewal_type &lt;chr&gt; | renewed_count &lt;int&gt; | expiry_date &lt;date&gt; | domain &lt;chr&gt; | creation_date &lt;date&gt; | status &lt;chr&gt; | registrar &lt;chr&gt; | region &lt;chr&gt; | reg_period &lt;int&gt; | registrant_country &lt;chr&gt; | renewal_status &lt;fct&gt; | renew_mbg &lt;int&gt; | renew_type &lt;chr&gt; | autorenew_type &lt;chr&gt; | renew_date &lt;date&gt; | renew_registrar &lt;chr&gt; | renew_reseller &lt;chr&gt; | reg_revenue &lt;dbl&gt; | reg_arpt &lt;dbl&gt; | renew_period &lt;int&gt; | renew_domain_revenue &lt;dbl&gt; | renew_arpt &lt;dbl&gt; | reg_arpt_org &lt;dbl&gt; | tld_registrar_index &lt;chr&gt; | sld &lt;chr&gt; | sld_type &lt;fct&gt; | sld_length &lt;int&gt; | sld_type2 &lt;chr&gt; | day_domains &lt;int&gt; | log_reg_arpt &lt;dbl&gt; | gibb_score &lt;dbl&gt; | pattern &lt;chr&gt; | cluster &lt;chr&gt; | pattern_score &lt;dbl&gt; | pattern_domain_count &lt;int&gt; | pred_df_seg2_glm &lt;dbl&gt; | pred_df_seg_glm &lt;dbl&gt; | pred_df_agg_glm &lt;dbl&gt; | pred_df_seg2_rf &lt;dbl&gt; | pred_df_seg_rf &lt;dbl&gt; | pred_df_agg_rf &lt;dbl&gt; | renewal_rate &lt;dbl&gt; |\n",
       "|---|---|---|---|---|---|---|---|---|---|---|---|---|---|---|---|---|---|---|---|---|---|---|---|---|---|---|---|---|---|---|---|---|---|---|---|---|---|---|---|---|---|---|---|---|---|---|---|---|\n",
       "| 1 | fun | Australia &amp; New Zealand | (3,5]   | instra corporation | Australia | 104893671 | FirstTime | 1 | 2020-05-25 | laur.fun          | 2019-05-25 | Active | instra corporation | Non China | 1 | NA | Not Renewd | 0 | auto-renewal | NA         | 2020-05-25 | Instra Corporation | Instra Corporation |  4 |  4 | 1 | 15 | 15 |  4 | funinstra corporation | laur          | l |  4 | 4l  | 1 | 1.386294 | 5.48 | laur          | 1 | 1 | 1 |        NA | 0.000 | 0.151 | 0.00000 | 0.1851779 | 0.3718108 | NA |\n",
       "| 2 | fun | Australia &amp; New Zealand | (3,5]   | instra corporation | Australia |  99540944 | FirstTime | 1 | 2020-04-10 | oferty.fun        | 2019-04-10 | Active | instra corporation | Non China | 1 | NA | Not Renewd | 0 | auto-renewal | unrealized | 2020-04-10 | Instra Corporation | Instra Corporation |  4 |  4 | 1 | 15 | 15 |  4 | funinstra corporation | oferty        | l |  6 | 6l  | 1 | 1.386294 | 6.03 | oferty        | 1 | 1 | 1 |        NA | 0.000 | 0.146 | 0.00000 | 0.2157494 | 0.3943426 | NA |\n",
       "| 3 | fun | Australia &amp; New Zealand | (5,10]  | crazy domains      | Australia |  62376247 | FirstTime | 1 | 2020-03-07 | tennisladder.fun  | 2018-03-07 | Active | crazy domains      | Non China | 2 | NA | Not Renewd | 0 | auto-renewal | unrealized | 2020-03-07 | Crazy Domains      | Crazy Domains      | 18 |  9 | 1 | 15 | 15 |  9 | funcrazy domains      | tennisladder  | l | 12 | 12l | 1 | 2.197225 | 4.85 | tennisladder  | 1 | 1 | 1 | 1.0000000 | 0.400 | 0.334 | 0.42460 | 0.5788189 | 0.6221085 | NA |\n",
       "| 4 | fun | Australia &amp; New Zealand | (10,15] | ventraip           | Australia |  95252714 | FirstTime | 1 | 2020-03-03 | letterific.fun    | 2019-03-03 | Active | synergy wholesale  | Non China | 1 | NA | Renewed    | 0 | renewal      | NA         | 2020-02-19 | SYNERGY WHOLESALE  | VentraIP           | 15 | 15 | 1 | 15 | 15 | 15 | funventraip           | letterific    | l | 10 | 10l | 1 | 2.708050 | 5.97 | letterific    | 1 | 1 | 1 |        NA |    NA |    NA |      NA |        NA |        NA | NA |\n",
       "| 5 | fun | Canada                  | (5,10]  | hover              | Canada    | 104937931 | FirstTime | 1 | 2020-05-26 | futurefantasy.fun | 2019-05-26 | Active | tucows             | Non China | 1 | NA | Renewed    | 0 | renewal      | NA         | 2020-05-25 | Tucows             | Hover              |  8 |  8 | 1 | 15 | 15 |  8 | funhover              | futurefantasy | l | 13 | 13l | 1 | 2.079442 | 5.61 | futurefantasy | 1 | 1 | 1 | 0.6261119 | 0.624 | 0.267 | 0.59825 | 0.5677353 | 0.4933172 | NA |\n",
       "| 6 | fun | Canada                  | (5,10]  | hover              | Canada    |  99187839 | FirstTime | 1 | 2020-04-08 | flabocci.fun      | 2019-04-08 | Active | tucows             | Non China | 1 | NA | Renewed    | 0 | renewal      | NA         | 2020-04-07 | Tucows             | Hover              |  8 |  8 | 1 | 15 | 15 |  8 | funhover              | flabocci      | l |  8 | 8l  | 1 | 2.079442 | 3.66 | flabocci      | 1 | 1 | 1 | 0.6175394 | 0.610 | 0.282 | 0.59825 | 0.6966527 | 0.5897817 | NA |\n",
       "\n"
      ],
      "text/plain": [
       "  tld reseller_geo            reg_arpt_slab reseller           reseller_country\n",
       "1 fun Australia & New Zealand (3,5]         instra corporation Australia       \n",
       "2 fun Australia & New Zealand (3,5]         instra corporation Australia       \n",
       "3 fun Australia & New Zealand (5,10]        crazy domains      Australia       \n",
       "4 fun Australia & New Zealand (10,15]       ventraip           Australia       \n",
       "5 fun Canada                  (5,10]        hover              Canada          \n",
       "6 fun Canada                  (5,10]        hover              Canada          \n",
       "  domain_id renewal_type renewed_count expiry_date domain           \n",
       "1 104893671 FirstTime    1             2020-05-25  laur.fun         \n",
       "2  99540944 FirstTime    1             2020-04-10  oferty.fun       \n",
       "3  62376247 FirstTime    1             2020-03-07  tennisladder.fun \n",
       "4  95252714 FirstTime    1             2020-03-03  letterific.fun   \n",
       "5 104937931 FirstTime    1             2020-05-26  futurefantasy.fun\n",
       "6  99187839 FirstTime    1             2020-04-08  flabocci.fun     \n",
       "  creation_date status registrar          region    reg_period\n",
       "1 2019-05-25    Active instra corporation Non China 1         \n",
       "2 2019-04-10    Active instra corporation Non China 1         \n",
       "3 2018-03-07    Active crazy domains      Non China 2         \n",
       "4 2019-03-03    Active synergy wholesale  Non China 1         \n",
       "5 2019-05-26    Active tucows             Non China 1         \n",
       "6 2019-04-08    Active tucows             Non China 1         \n",
       "  registrant_country renewal_status renew_mbg renew_type   autorenew_type\n",
       "1 NA                 Not Renewd     0         auto-renewal NA            \n",
       "2 NA                 Not Renewd     0         auto-renewal unrealized    \n",
       "3 NA                 Not Renewd     0         auto-renewal unrealized    \n",
       "4 NA                 Renewed        0         renewal      NA            \n",
       "5 NA                 Renewed        0         renewal      NA            \n",
       "6 NA                 Renewed        0         renewal      NA            \n",
       "  renew_date renew_registrar    renew_reseller     reg_revenue reg_arpt\n",
       "1 2020-05-25 Instra Corporation Instra Corporation  4           4      \n",
       "2 2020-04-10 Instra Corporation Instra Corporation  4           4      \n",
       "3 2020-03-07 Crazy Domains      Crazy Domains      18           9      \n",
       "4 2020-02-19 SYNERGY WHOLESALE  VentraIP           15          15      \n",
       "5 2020-05-25 Tucows             Hover               8           8      \n",
       "6 2020-04-07 Tucows             Hover               8           8      \n",
       "  renew_period renew_domain_revenue renew_arpt reg_arpt_org\n",
       "1 1            15                   15          4          \n",
       "2 1            15                   15          4          \n",
       "3 1            15                   15          9          \n",
       "4 1            15                   15         15          \n",
       "5 1            15                   15          8          \n",
       "6 1            15                   15          8          \n",
       "  tld_registrar_index   sld           sld_type sld_length sld_type2 day_domains\n",
       "1 funinstra corporation laur          l         4         4l        1          \n",
       "2 funinstra corporation oferty        l         6         6l        1          \n",
       "3 funcrazy domains      tennisladder  l        12         12l       1          \n",
       "4 funventraip           letterific    l        10         10l       1          \n",
       "5 funhover              futurefantasy l        13         13l       1          \n",
       "6 funhover              flabocci      l         8         8l        1          \n",
       "  log_reg_arpt gibb_score pattern       cluster pattern_score\n",
       "1 1.386294     5.48       laur          1       1            \n",
       "2 1.386294     6.03       oferty        1       1            \n",
       "3 2.197225     4.85       tennisladder  1       1            \n",
       "4 2.708050     5.97       letterific    1       1            \n",
       "5 2.079442     5.61       futurefantasy 1       1            \n",
       "6 2.079442     3.66       flabocci      1       1            \n",
       "  pattern_domain_count pred_df_seg2_glm pred_df_seg_glm pred_df_agg_glm\n",
       "1 1                           NA        0.000           0.151          \n",
       "2 1                           NA        0.000           0.146          \n",
       "3 1                    1.0000000        0.400           0.334          \n",
       "4 1                           NA           NA              NA          \n",
       "5 1                    0.6261119        0.624           0.267          \n",
       "6 1                    0.6175394        0.610           0.282          \n",
       "  pred_df_seg2_rf pred_df_seg_rf pred_df_agg_rf renewal_rate\n",
       "1 0.00000         0.1851779      0.3718108      NA          \n",
       "2 0.00000         0.2157494      0.3943426      NA          \n",
       "3 0.42460         0.5788189      0.6221085      NA          \n",
       "4      NA                NA             NA      NA          \n",
       "5 0.59825         0.5677353      0.4933172      NA          \n",
       "6 0.59825         0.6966527      0.5897817      NA          "
      ]
     },
     "metadata": {},
     "output_type": "display_data"
    }
   ],
   "source": [
    "test_predictions_fallback_df <- merge(test_predictions_df, \n",
    "                                      npv_fallback_first_geo_arpt_tld %>% select(tld,reseller_geo,reg_arpt_slab,renewal_rate),\n",
    "      on = c('tld', 'reseller_geo', 'reg_arpt_slab'), \n",
    "      all.x = TRUE)\n",
    "dim(test_predictions_df)\n",
    "dim(test_predictions_fallback_df)\n",
    "head(test_predictions_fallback_df)"
   ]
  },
  {
   "cell_type": "code",
   "execution_count": 35,
   "metadata": {},
   "outputs": [
    {
     "data": {
      "text/html": [
       "<table>\n",
       "<caption>A data.frame: 16 × 7</caption>\n",
       "<thead>\n",
       "\t<tr><th scope=col>tld</th><th scope=col>reseller_geo</th><th scope=col>reg_arpt_slab</th><th scope=col>expiring_domains</th><th scope=col>renewed_domains</th><th scope=col>renewal_rate</th><th scope=col>index</th></tr>\n",
       "\t<tr><th scope=col>&lt;fct&gt;</th><th scope=col>&lt;fct&gt;</th><th scope=col>&lt;fct&gt;</th><th scope=col>&lt;int&gt;</th><th scope=col>&lt;int&gt;</th><th scope=col>&lt;dbl&gt;</th><th scope=col>&lt;chr&gt;</th></tr>\n",
       "</thead>\n",
       "<tbody>\n",
       "\t<tr><td>fun</td><td>China        </td><td>(-Inf,0]</td><td> 2098</td><td> 111</td><td>0.053</td><td>funChina(-Inf,0]      </td></tr>\n",
       "\t<tr><td>fun</td><td>China        </td><td>(0,1]   </td><td>82340</td><td>1910</td><td>0.023</td><td>funChina(0,1]         </td></tr>\n",
       "\t<tr><td>fun</td><td>China        </td><td>(1,3]   </td><td> 9991</td><td>1454</td><td>0.146</td><td>funChina(1,3]         </td></tr>\n",
       "\t<tr><td>fun</td><td>EU           </td><td>(-Inf,0]</td><td>  901</td><td>   8</td><td>0.009</td><td>funEU(-Inf,0]         </td></tr>\n",
       "\t<tr><td>fun</td><td>EU           </td><td>(0,1]   </td><td> 6206</td><td> 210</td><td>0.034</td><td>funEU(0,1]            </td></tr>\n",
       "\t<tr><td>fun</td><td>EU           </td><td>(1,3]   </td><td> 1907</td><td> 550</td><td>0.288</td><td>funEU(1,3]            </td></tr>\n",
       "\t<tr><td>fun</td><td>EU           </td><td>(10,15] </td><td>  664</td><td> 405</td><td>0.610</td><td>funEU(10,15]          </td></tr>\n",
       "\t<tr><td>fun</td><td>India        </td><td>(0,1]   </td><td> 1180</td><td>  30</td><td>0.025</td><td>funIndia(0,1]         </td></tr>\n",
       "\t<tr><td>fun</td><td>Japan        </td><td>(0,1]   </td><td> 6931</td><td>1478</td><td>0.213</td><td>funJapan(0,1]         </td></tr>\n",
       "\t<tr><td>fun</td><td>Japan        </td><td>(1,3]   </td><td> 3981</td><td> 924</td><td>0.232</td><td>funJapan(1,3]         </td></tr>\n",
       "\t<tr><td>fun</td><td>Others       </td><td>(0,1]   </td><td>10777</td><td> 129</td><td>0.012</td><td>funOthers(0,1]        </td></tr>\n",
       "\t<tr><td>fun</td><td>Russia       </td><td>(-Inf,0]</td><td>  602</td><td>  60</td><td>0.100</td><td>funRussia(-Inf,0]     </td></tr>\n",
       "\t<tr><td>fun</td><td>Russia       </td><td>(0,1]   </td><td>11869</td><td> 281</td><td>0.024</td><td>funRussia(0,1]        </td></tr>\n",
       "\t<tr><td>fun</td><td>United States</td><td>(0,1]   </td><td>57837</td><td>4205</td><td>0.073</td><td>funUnited States(0,1] </td></tr>\n",
       "\t<tr><td>fun</td><td>United States</td><td>(1,3]   </td><td>37675</td><td>3184</td><td>0.085</td><td>funUnited States(1,3] </td></tr>\n",
       "\t<tr><td>fun</td><td>United States</td><td>(5,10]  </td><td>  642</td><td> 342</td><td>0.533</td><td>funUnited States(5,10]</td></tr>\n",
       "</tbody>\n",
       "</table>\n"
      ],
      "text/latex": [
       "A data.frame: 16 × 7\n",
       "\\begin{tabular}{lllllll}\n",
       " tld & reseller\\_geo & reg\\_arpt\\_slab & expiring\\_domains & renewed\\_domains & renewal\\_rate & index\\\\\n",
       " <fct> & <fct> & <fct> & <int> & <int> & <dbl> & <chr>\\\\\n",
       "\\hline\n",
       "\t fun & China         & (-Inf,0{]} &  2098 &  111 & 0.053 & funChina(-Inf,0{]}      \\\\\n",
       "\t fun & China         & (0,1{]}    & 82340 & 1910 & 0.023 & funChina(0,1{]}         \\\\\n",
       "\t fun & China         & (1,3{]}    &  9991 & 1454 & 0.146 & funChina(1,3{]}         \\\\\n",
       "\t fun & EU            & (-Inf,0{]} &   901 &    8 & 0.009 & funEU(-Inf,0{]}         \\\\\n",
       "\t fun & EU            & (0,1{]}    &  6206 &  210 & 0.034 & funEU(0,1{]}            \\\\\n",
       "\t fun & EU            & (1,3{]}    &  1907 &  550 & 0.288 & funEU(1,3{]}            \\\\\n",
       "\t fun & EU            & (10,15{]}  &   664 &  405 & 0.610 & funEU(10,15{]}          \\\\\n",
       "\t fun & India         & (0,1{]}    &  1180 &   30 & 0.025 & funIndia(0,1{]}         \\\\\n",
       "\t fun & Japan         & (0,1{]}    &  6931 & 1478 & 0.213 & funJapan(0,1{]}         \\\\\n",
       "\t fun & Japan         & (1,3{]}    &  3981 &  924 & 0.232 & funJapan(1,3{]}         \\\\\n",
       "\t fun & Others        & (0,1{]}    & 10777 &  129 & 0.012 & funOthers(0,1{]}        \\\\\n",
       "\t fun & Russia        & (-Inf,0{]} &   602 &   60 & 0.100 & funRussia(-Inf,0{]}     \\\\\n",
       "\t fun & Russia        & (0,1{]}    & 11869 &  281 & 0.024 & funRussia(0,1{]}        \\\\\n",
       "\t fun & United States & (0,1{]}    & 57837 & 4205 & 0.073 & funUnited States(0,1{]} \\\\\n",
       "\t fun & United States & (1,3{]}    & 37675 & 3184 & 0.085 & funUnited States(1,3{]} \\\\\n",
       "\t fun & United States & (5,10{]}   &   642 &  342 & 0.533 & funUnited States(5,10{]}\\\\\n",
       "\\end{tabular}\n"
      ],
      "text/markdown": [
       "\n",
       "A data.frame: 16 × 7\n",
       "\n",
       "| tld &lt;fct&gt; | reseller_geo &lt;fct&gt; | reg_arpt_slab &lt;fct&gt; | expiring_domains &lt;int&gt; | renewed_domains &lt;int&gt; | renewal_rate &lt;dbl&gt; | index &lt;chr&gt; |\n",
       "|---|---|---|---|---|---|---|\n",
       "| fun | China         | (-Inf,0] |  2098 |  111 | 0.053 | funChina(-Inf,0]       |\n",
       "| fun | China         | (0,1]    | 82340 | 1910 | 0.023 | funChina(0,1]          |\n",
       "| fun | China         | (1,3]    |  9991 | 1454 | 0.146 | funChina(1,3]          |\n",
       "| fun | EU            | (-Inf,0] |   901 |    8 | 0.009 | funEU(-Inf,0]          |\n",
       "| fun | EU            | (0,1]    |  6206 |  210 | 0.034 | funEU(0,1]             |\n",
       "| fun | EU            | (1,3]    |  1907 |  550 | 0.288 | funEU(1,3]             |\n",
       "| fun | EU            | (10,15]  |   664 |  405 | 0.610 | funEU(10,15]           |\n",
       "| fun | India         | (0,1]    |  1180 |   30 | 0.025 | funIndia(0,1]          |\n",
       "| fun | Japan         | (0,1]    |  6931 | 1478 | 0.213 | funJapan(0,1]          |\n",
       "| fun | Japan         | (1,3]    |  3981 |  924 | 0.232 | funJapan(1,3]          |\n",
       "| fun | Others        | (0,1]    | 10777 |  129 | 0.012 | funOthers(0,1]         |\n",
       "| fun | Russia        | (-Inf,0] |   602 |   60 | 0.100 | funRussia(-Inf,0]      |\n",
       "| fun | Russia        | (0,1]    | 11869 |  281 | 0.024 | funRussia(0,1]         |\n",
       "| fun | United States | (0,1]    | 57837 | 4205 | 0.073 | funUnited States(0,1]  |\n",
       "| fun | United States | (1,3]    | 37675 | 3184 | 0.085 | funUnited States(1,3]  |\n",
       "| fun | United States | (5,10]   |   642 |  342 | 0.533 | funUnited States(5,10] |\n",
       "\n"
      ],
      "text/plain": [
       "   tld reseller_geo  reg_arpt_slab expiring_domains renewed_domains\n",
       "1  fun China         (-Inf,0]       2098             111           \n",
       "2  fun China         (0,1]         82340            1910           \n",
       "3  fun China         (1,3]          9991            1454           \n",
       "4  fun EU            (-Inf,0]        901               8           \n",
       "5  fun EU            (0,1]          6206             210           \n",
       "6  fun EU            (1,3]          1907             550           \n",
       "7  fun EU            (10,15]         664             405           \n",
       "8  fun India         (0,1]          1180              30           \n",
       "9  fun Japan         (0,1]          6931            1478           \n",
       "10 fun Japan         (1,3]          3981             924           \n",
       "11 fun Others        (0,1]         10777             129           \n",
       "12 fun Russia        (-Inf,0]        602              60           \n",
       "13 fun Russia        (0,1]         11869             281           \n",
       "14 fun United States (0,1]         57837            4205           \n",
       "15 fun United States (1,3]         37675            3184           \n",
       "16 fun United States (5,10]          642             342           \n",
       "   renewal_rate index                 \n",
       "1  0.053        funChina(-Inf,0]      \n",
       "2  0.023        funChina(0,1]         \n",
       "3  0.146        funChina(1,3]         \n",
       "4  0.009        funEU(-Inf,0]         \n",
       "5  0.034        funEU(0,1]            \n",
       "6  0.288        funEU(1,3]            \n",
       "7  0.610        funEU(10,15]          \n",
       "8  0.025        funIndia(0,1]         \n",
       "9  0.213        funJapan(0,1]         \n",
       "10 0.232        funJapan(1,3]         \n",
       "11 0.012        funOthers(0,1]        \n",
       "12 0.100        funRussia(-Inf,0]     \n",
       "13 0.024        funRussia(0,1]        \n",
       "14 0.073        funUnited States(0,1] \n",
       "15 0.085        funUnited States(1,3] \n",
       "16 0.533        funUnited States(5,10]"
      ]
     },
     "metadata": {},
     "output_type": "display_data"
    }
   ],
   "source": [
    "npv_fallback_first_geo_arpt_tld %>% filter( tld == 'fun')"
   ]
  },
  {
   "cell_type": "markdown",
   "metadata": {},
   "source": [
    "# Regenerate npv_fallback_first_geo_arpt_tld based on training data (?)"
   ]
  },
  {
   "cell_type": "code",
   "execution_count": 36,
   "metadata": {},
   "outputs": [
    {
     "data": {
      "text/html": [
       "<table>\n",
       "<caption>A data.frame: 6 × 7</caption>\n",
       "<thead>\n",
       "\t<tr><th></th><th scope=col>tld</th><th scope=col>reseller_geo</th><th scope=col>reg_arpt_slab</th><th scope=col>expiring_domains</th><th scope=col>renewed_domains</th><th scope=col>renewal_rate</th><th scope=col>index</th></tr>\n",
       "\t<tr><th></th><th scope=col>&lt;fct&gt;</th><th scope=col>&lt;fct&gt;</th><th scope=col>&lt;fct&gt;</th><th scope=col>&lt;int&gt;</th><th scope=col>&lt;int&gt;</th><th scope=col>&lt;dbl&gt;</th><th scope=col>&lt;chr&gt;</th></tr>\n",
       "</thead>\n",
       "<tbody>\n",
       "\t<tr><th scope=row>1</th><td>fun</td><td>China</td><td>(-Inf,0]</td><td> 2098</td><td> 111</td><td>0.053</td><td>funChina(-Inf,0]</td></tr>\n",
       "\t<tr><th scope=row>2</th><td>fun</td><td>China</td><td>(0,1]   </td><td>82340</td><td>1910</td><td>0.023</td><td>funChina(0,1]   </td></tr>\n",
       "\t<tr><th scope=row>3</th><td>fun</td><td>China</td><td>(1,3]   </td><td> 9991</td><td>1454</td><td>0.146</td><td>funChina(1,3]   </td></tr>\n",
       "\t<tr><th scope=row>4</th><td>fun</td><td>EU   </td><td>(-Inf,0]</td><td>  901</td><td>   8</td><td>0.009</td><td>funEU(-Inf,0]   </td></tr>\n",
       "\t<tr><th scope=row>5</th><td>fun</td><td>EU   </td><td>(0,1]   </td><td> 6206</td><td> 210</td><td>0.034</td><td>funEU(0,1]      </td></tr>\n",
       "\t<tr><th scope=row>6</th><td>fun</td><td>EU   </td><td>(1,3]   </td><td> 1907</td><td> 550</td><td>0.288</td><td>funEU(1,3]      </td></tr>\n",
       "</tbody>\n",
       "</table>\n"
      ],
      "text/latex": [
       "A data.frame: 6 × 7\n",
       "\\begin{tabular}{r|lllllll}\n",
       "  & tld & reseller\\_geo & reg\\_arpt\\_slab & expiring\\_domains & renewed\\_domains & renewal\\_rate & index\\\\\n",
       "  & <fct> & <fct> & <fct> & <int> & <int> & <dbl> & <chr>\\\\\n",
       "\\hline\n",
       "\t1 & fun & China & (-Inf,0{]} &  2098 &  111 & 0.053 & funChina(-Inf,0{]}\\\\\n",
       "\t2 & fun & China & (0,1{]}    & 82340 & 1910 & 0.023 & funChina(0,1{]}   \\\\\n",
       "\t3 & fun & China & (1,3{]}    &  9991 & 1454 & 0.146 & funChina(1,3{]}   \\\\\n",
       "\t4 & fun & EU    & (-Inf,0{]} &   901 &    8 & 0.009 & funEU(-Inf,0{]}   \\\\\n",
       "\t5 & fun & EU    & (0,1{]}    &  6206 &  210 & 0.034 & funEU(0,1{]}      \\\\\n",
       "\t6 & fun & EU    & (1,3{]}    &  1907 &  550 & 0.288 & funEU(1,3{]}      \\\\\n",
       "\\end{tabular}\n"
      ],
      "text/markdown": [
       "\n",
       "A data.frame: 6 × 7\n",
       "\n",
       "| <!--/--> | tld &lt;fct&gt; | reseller_geo &lt;fct&gt; | reg_arpt_slab &lt;fct&gt; | expiring_domains &lt;int&gt; | renewed_domains &lt;int&gt; | renewal_rate &lt;dbl&gt; | index &lt;chr&gt; |\n",
       "|---|---|---|---|---|---|---|---|\n",
       "| 1 | fun | China | (-Inf,0] |  2098 |  111 | 0.053 | funChina(-Inf,0] |\n",
       "| 2 | fun | China | (0,1]    | 82340 | 1910 | 0.023 | funChina(0,1]    |\n",
       "| 3 | fun | China | (1,3]    |  9991 | 1454 | 0.146 | funChina(1,3]    |\n",
       "| 4 | fun | EU    | (-Inf,0] |   901 |    8 | 0.009 | funEU(-Inf,0]    |\n",
       "| 5 | fun | EU    | (0,1]    |  6206 |  210 | 0.034 | funEU(0,1]       |\n",
       "| 6 | fun | EU    | (1,3]    |  1907 |  550 | 0.288 | funEU(1,3]       |\n",
       "\n"
      ],
      "text/plain": [
       "  tld reseller_geo reg_arpt_slab expiring_domains renewed_domains renewal_rate\n",
       "1 fun China        (-Inf,0]       2098             111            0.053       \n",
       "2 fun China        (0,1]         82340            1910            0.023       \n",
       "3 fun China        (1,3]          9991            1454            0.146       \n",
       "4 fun EU           (-Inf,0]        901               8            0.009       \n",
       "5 fun EU           (0,1]          6206             210            0.034       \n",
       "6 fun EU           (1,3]          1907             550            0.288       \n",
       "  index           \n",
       "1 funChina(-Inf,0]\n",
       "2 funChina(0,1]   \n",
       "3 funChina(1,3]   \n",
       "4 funEU(-Inf,0]   \n",
       "5 funEU(0,1]      \n",
       "6 funEU(1,3]      "
      ]
     },
     "metadata": {},
     "output_type": "display_data"
    }
   ],
   "source": [
    "head(npv_fallback_first_geo_arpt_tld)"
   ]
  },
  {
   "cell_type": "code",
   "execution_count": 37,
   "metadata": {},
   "outputs": [
    {
     "data": {
      "text/html": [
       "<table>\n",
       "<caption>A data.table: 6 × 39</caption>\n",
       "<thead>\n",
       "\t<tr><th scope=col>renewal_type</th><th scope=col>renewed_count</th><th scope=col>expiry_date</th><th scope=col>domain_id</th><th scope=col>domain</th><th scope=col>creation_date</th><th scope=col>status</th><th scope=col>tld</th><th scope=col>registrar</th><th scope=col>reseller</th><th scope=col>reseller_country</th><th scope=col>region</th><th scope=col>reg_period</th><th scope=col>registrant_country</th><th scope=col>renewal_status</th><th scope=col>renew_mbg</th><th scope=col>renew_type</th><th scope=col>autorenew_type</th><th scope=col>renew_date</th><th scope=col>renew_registrar</th><th scope=col>renew_reseller</th><th scope=col>reg_revenue</th><th scope=col>reg_arpt</th><th scope=col>renew_period</th><th scope=col>renew_domain_revenue</th><th scope=col>renew_arpt</th><th scope=col>reg_arpt_org</th><th scope=col>tld_registrar_index</th><th scope=col>sld</th><th scope=col>sld_type</th><th scope=col>sld_length</th><th scope=col>sld_type2</th><th scope=col>day_domains</th><th scope=col>log_reg_arpt</th><th scope=col>gibb_score</th><th scope=col>pattern</th><th scope=col>cluster</th><th scope=col>pattern_score</th><th scope=col>pattern_domain_count</th></tr>\n",
       "\t<tr><th scope=col>&lt;chr&gt;</th><th scope=col>&lt;int&gt;</th><th scope=col>&lt;date&gt;</th><th scope=col>&lt;int&gt;</th><th scope=col>&lt;chr&gt;</th><th scope=col>&lt;date&gt;</th><th scope=col>&lt;chr&gt;</th><th scope=col>&lt;fct&gt;</th><th scope=col>&lt;chr&gt;</th><th scope=col>&lt;chr&gt;</th><th scope=col>&lt;chr&gt;</th><th scope=col>&lt;chr&gt;</th><th scope=col>&lt;int&gt;</th><th scope=col>&lt;chr&gt;</th><th scope=col>&lt;fct&gt;</th><th scope=col>&lt;int&gt;</th><th scope=col>&lt;chr&gt;</th><th scope=col>&lt;chr&gt;</th><th scope=col>&lt;date&gt;</th><th scope=col>&lt;chr&gt;</th><th scope=col>&lt;chr&gt;</th><th scope=col>&lt;dbl&gt;</th><th scope=col>&lt;dbl&gt;</th><th scope=col>&lt;int&gt;</th><th scope=col>&lt;dbl&gt;</th><th scope=col>&lt;dbl&gt;</th><th scope=col>&lt;dbl&gt;</th><th scope=col>&lt;chr&gt;</th><th scope=col>&lt;chr&gt;</th><th scope=col>&lt;fct&gt;</th><th scope=col>&lt;int&gt;</th><th scope=col>&lt;chr&gt;</th><th scope=col>&lt;int&gt;</th><th scope=col>&lt;dbl&gt;</th><th scope=col>&lt;dbl&gt;</th><th scope=col>&lt;chr&gt;</th><th scope=col>&lt;chr&gt;</th><th scope=col>&lt;dbl&gt;</th><th scope=col>&lt;int&gt;</th></tr>\n",
       "</thead>\n",
       "<tbody>\n",
       "\t<tr><td>FirstTime</td><td>1</td><td>2020-01-21</td><td>91584433</td><td><span style=white-space:pre-wrap>racefor.fun     </span></td><td>2019-01-21</td><td>Active</td><td>fun</td><td>1&amp;1 internet</td><td>1&amp;1 internet</td><td>Germany</td><td>Non China</td><td>1</td><td>NA</td><td><span style=white-space:pre-wrap>Renewed   </span></td><td>0</td><td>auto-renewal</td><td><span style=white-space:pre-wrap>realized  </span></td><td>2020-01-21</td><td>1&amp;1 Internet</td><td>1&amp;1 Internet</td><td>15</td><td>15</td><td>1</td><td>15</td><td>15</td><td>15</td><td>fun1&amp;1 internet</td><td><span style=white-space:pre-wrap>racefor     </span></td><td>l </td><td> 7</td><td>7l </td><td>1</td><td>2.70805</td><td> 6.77</td><td><span style=white-space:pre-wrap>racefor     </span></td><td>1</td><td>1</td><td>1</td></tr>\n",
       "\t<tr><td>FirstTime</td><td>1</td><td>2020-01-30</td><td>92254793</td><td><span style=white-space:pre-wrap>united4.fun     </span></td><td>2019-01-30</td><td>Active</td><td>fun</td><td>1&amp;1 internet</td><td>1&amp;1 internet</td><td>Germany</td><td>Non China</td><td>1</td><td>NA</td><td><span style=white-space:pre-wrap>Renewed   </span></td><td>0</td><td>auto-renewal</td><td><span style=white-space:pre-wrap>realized  </span></td><td>2020-01-30</td><td>1&amp;1 Internet</td><td>1&amp;1 Internet</td><td>15</td><td>15</td><td>1</td><td>15</td><td>15</td><td>15</td><td>fun1&amp;1 internet</td><td><span style=white-space:pre-wrap>united4     </span></td><td>ln</td><td> 7</td><td>7ln</td><td>1</td><td>2.70805</td><td> 8.65</td><td><span style=white-space:pre-wrap>united4     </span></td><td>1</td><td>1</td><td>1</td></tr>\n",
       "\t<tr><td>FirstTime</td><td>1</td><td>2020-02-04</td><td>92827233</td><td><span style=white-space:pre-wrap>bereal.fun      </span></td><td>2019-02-04</td><td>Active</td><td>fun</td><td>1&amp;1 internet</td><td>1&amp;1 internet</td><td>Germany</td><td>Non China</td><td>1</td><td>NA</td><td><span style=white-space:pre-wrap>Renewed   </span></td><td>0</td><td>auto-renewal</td><td><span style=white-space:pre-wrap>realized  </span></td><td>2020-02-04</td><td>1&amp;1 Internet</td><td>1&amp;1 Internet</td><td>15</td><td>15</td><td>1</td><td>15</td><td>15</td><td>15</td><td>fun1&amp;1 internet</td><td><span style=white-space:pre-wrap>bereal      </span></td><td>l </td><td> 6</td><td>6l </td><td>1</td><td>2.70805</td><td>13.09</td><td><span style=white-space:pre-wrap>bereal      </span></td><td>1</td><td>1</td><td>1</td></tr>\n",
       "\t<tr><td>FirstTime</td><td>1</td><td>2020-02-12</td><td>93490823</td><td>dogsoutdoors.fun</td><td>2019-02-12</td><td>Active</td><td>fun</td><td>1&amp;1 internet</td><td>1&amp;1 internet</td><td>Germany</td><td>Non China</td><td>1</td><td>NA</td><td>Not Renewd</td><td>0</td><td>auto-renewal</td><td>unrealized</td><td>2020-02-12</td><td>1&amp;1 Internet</td><td>1&amp;1 Internet</td><td>15</td><td>15</td><td>1</td><td>15</td><td>15</td><td>15</td><td>fun1&amp;1 internet</td><td>dogsoutdoors</td><td>l </td><td>12</td><td>12l</td><td>1</td><td>2.70805</td><td> 2.44</td><td>dogsoutdoors</td><td>1</td><td>1</td><td>1</td></tr>\n",
       "\t<tr><td>FirstTime</td><td>1</td><td>2020-02-15</td><td>93767978</td><td><span style=white-space:pre-wrap>rosalux.fun     </span></td><td>2019-02-15</td><td>Active</td><td>fun</td><td>1&amp;1 internet</td><td>1&amp;1 internet</td><td>Germany</td><td>Non China</td><td>1</td><td>NA</td><td><span style=white-space:pre-wrap>Renewed   </span></td><td>0</td><td>auto-renewal</td><td><span style=white-space:pre-wrap>realized  </span></td><td>2020-02-15</td><td>1&amp;1 Internet</td><td>1&amp;1 Internet</td><td>15</td><td>15</td><td>1</td><td>15</td><td>15</td><td>15</td><td>fun1&amp;1 internet</td><td><span style=white-space:pre-wrap>rosalux     </span></td><td>l </td><td> 7</td><td>7l </td><td>1</td><td>2.70805</td><td> 2.34</td><td><span style=white-space:pre-wrap>rosalux     </span></td><td>1</td><td>1</td><td>1</td></tr>\n",
       "\t<tr><td>FirstTime</td><td>1</td><td>2020-02-16</td><td>93823708</td><td><span style=white-space:pre-wrap>verygood.fun    </span></td><td>2019-02-16</td><td>Active</td><td>fun</td><td>1&amp;1 internet</td><td>1&amp;1 internet</td><td>Germany</td><td>Non China</td><td>1</td><td>NA</td><td><span style=white-space:pre-wrap>Renewed   </span></td><td>0</td><td>auto-renewal</td><td><span style=white-space:pre-wrap>realized  </span></td><td>2020-02-16</td><td>1&amp;1 Internet</td><td>1&amp;1 Internet</td><td>15</td><td>15</td><td>1</td><td>15</td><td>15</td><td>15</td><td>fun1&amp;1 internet</td><td><span style=white-space:pre-wrap>verygood    </span></td><td>l </td><td> 8</td><td>8l </td><td>1</td><td>2.70805</td><td> 3.64</td><td><span style=white-space:pre-wrap>verygood    </span></td><td>1</td><td>1</td><td>1</td></tr>\n",
       "</tbody>\n",
       "</table>\n"
      ],
      "text/latex": [
       "A data.table: 6 × 39\n",
       "\\begin{tabular}{lllllllllllllllllllllllllllllllllllllll}\n",
       " renewal\\_type & renewed\\_count & expiry\\_date & domain\\_id & domain & creation\\_date & status & tld & registrar & reseller & reseller\\_country & region & reg\\_period & registrant\\_country & renewal\\_status & renew\\_mbg & renew\\_type & autorenew\\_type & renew\\_date & renew\\_registrar & renew\\_reseller & reg\\_revenue & reg\\_arpt & renew\\_period & renew\\_domain\\_revenue & renew\\_arpt & reg\\_arpt\\_org & tld\\_registrar\\_index & sld & sld\\_type & sld\\_length & sld\\_type2 & day\\_domains & log\\_reg\\_arpt & gibb\\_score & pattern & cluster & pattern\\_score & pattern\\_domain\\_count\\\\\n",
       " <chr> & <int> & <date> & <int> & <chr> & <date> & <chr> & <fct> & <chr> & <chr> & <chr> & <chr> & <int> & <chr> & <fct> & <int> & <chr> & <chr> & <date> & <chr> & <chr> & <dbl> & <dbl> & <int> & <dbl> & <dbl> & <dbl> & <chr> & <chr> & <fct> & <int> & <chr> & <int> & <dbl> & <dbl> & <chr> & <chr> & <dbl> & <int>\\\\\n",
       "\\hline\n",
       "\t FirstTime & 1 & 2020-01-21 & 91584433 & racefor.fun      & 2019-01-21 & Active & fun & 1\\&1 internet & 1\\&1 internet & Germany & Non China & 1 & NA & Renewed    & 0 & auto-renewal & realized   & 2020-01-21 & 1\\&1 Internet & 1\\&1 Internet & 15 & 15 & 1 & 15 & 15 & 15 & fun1\\&1 internet & racefor      & l  &  7 & 7l  & 1 & 2.70805 &  6.77 & racefor      & 1 & 1 & 1\\\\\n",
       "\t FirstTime & 1 & 2020-01-30 & 92254793 & united4.fun      & 2019-01-30 & Active & fun & 1\\&1 internet & 1\\&1 internet & Germany & Non China & 1 & NA & Renewed    & 0 & auto-renewal & realized   & 2020-01-30 & 1\\&1 Internet & 1\\&1 Internet & 15 & 15 & 1 & 15 & 15 & 15 & fun1\\&1 internet & united4      & ln &  7 & 7ln & 1 & 2.70805 &  8.65 & united4      & 1 & 1 & 1\\\\\n",
       "\t FirstTime & 1 & 2020-02-04 & 92827233 & bereal.fun       & 2019-02-04 & Active & fun & 1\\&1 internet & 1\\&1 internet & Germany & Non China & 1 & NA & Renewed    & 0 & auto-renewal & realized   & 2020-02-04 & 1\\&1 Internet & 1\\&1 Internet & 15 & 15 & 1 & 15 & 15 & 15 & fun1\\&1 internet & bereal       & l  &  6 & 6l  & 1 & 2.70805 & 13.09 & bereal       & 1 & 1 & 1\\\\\n",
       "\t FirstTime & 1 & 2020-02-12 & 93490823 & dogsoutdoors.fun & 2019-02-12 & Active & fun & 1\\&1 internet & 1\\&1 internet & Germany & Non China & 1 & NA & Not Renewd & 0 & auto-renewal & unrealized & 2020-02-12 & 1\\&1 Internet & 1\\&1 Internet & 15 & 15 & 1 & 15 & 15 & 15 & fun1\\&1 internet & dogsoutdoors & l  & 12 & 12l & 1 & 2.70805 &  2.44 & dogsoutdoors & 1 & 1 & 1\\\\\n",
       "\t FirstTime & 1 & 2020-02-15 & 93767978 & rosalux.fun      & 2019-02-15 & Active & fun & 1\\&1 internet & 1\\&1 internet & Germany & Non China & 1 & NA & Renewed    & 0 & auto-renewal & realized   & 2020-02-15 & 1\\&1 Internet & 1\\&1 Internet & 15 & 15 & 1 & 15 & 15 & 15 & fun1\\&1 internet & rosalux      & l  &  7 & 7l  & 1 & 2.70805 &  2.34 & rosalux      & 1 & 1 & 1\\\\\n",
       "\t FirstTime & 1 & 2020-02-16 & 93823708 & verygood.fun     & 2019-02-16 & Active & fun & 1\\&1 internet & 1\\&1 internet & Germany & Non China & 1 & NA & Renewed    & 0 & auto-renewal & realized   & 2020-02-16 & 1\\&1 Internet & 1\\&1 Internet & 15 & 15 & 1 & 15 & 15 & 15 & fun1\\&1 internet & verygood     & l  &  8 & 8l  & 1 & 2.70805 &  3.64 & verygood     & 1 & 1 & 1\\\\\n",
       "\\end{tabular}\n"
      ],
      "text/markdown": [
       "\n",
       "A data.table: 6 × 39\n",
       "\n",
       "| renewal_type &lt;chr&gt; | renewed_count &lt;int&gt; | expiry_date &lt;date&gt; | domain_id &lt;int&gt; | domain &lt;chr&gt; | creation_date &lt;date&gt; | status &lt;chr&gt; | tld &lt;fct&gt; | registrar &lt;chr&gt; | reseller &lt;chr&gt; | reseller_country &lt;chr&gt; | region &lt;chr&gt; | reg_period &lt;int&gt; | registrant_country &lt;chr&gt; | renewal_status &lt;fct&gt; | renew_mbg &lt;int&gt; | renew_type &lt;chr&gt; | autorenew_type &lt;chr&gt; | renew_date &lt;date&gt; | renew_registrar &lt;chr&gt; | renew_reseller &lt;chr&gt; | reg_revenue &lt;dbl&gt; | reg_arpt &lt;dbl&gt; | renew_period &lt;int&gt; | renew_domain_revenue &lt;dbl&gt; | renew_arpt &lt;dbl&gt; | reg_arpt_org &lt;dbl&gt; | tld_registrar_index &lt;chr&gt; | sld &lt;chr&gt; | sld_type &lt;fct&gt; | sld_length &lt;int&gt; | sld_type2 &lt;chr&gt; | day_domains &lt;int&gt; | log_reg_arpt &lt;dbl&gt; | gibb_score &lt;dbl&gt; | pattern &lt;chr&gt; | cluster &lt;chr&gt; | pattern_score &lt;dbl&gt; | pattern_domain_count &lt;int&gt; |\n",
       "|---|---|---|---|---|---|---|---|---|---|---|---|---|---|---|---|---|---|---|---|---|---|---|---|---|---|---|---|---|---|---|---|---|---|---|---|---|---|---|\n",
       "| FirstTime | 1 | 2020-01-21 | 91584433 | racefor.fun      | 2019-01-21 | Active | fun | 1&amp;1 internet | 1&amp;1 internet | Germany | Non China | 1 | NA | Renewed    | 0 | auto-renewal | realized   | 2020-01-21 | 1&amp;1 Internet | 1&amp;1 Internet | 15 | 15 | 1 | 15 | 15 | 15 | fun1&amp;1 internet | racefor      | l  |  7 | 7l  | 1 | 2.70805 |  6.77 | racefor      | 1 | 1 | 1 |\n",
       "| FirstTime | 1 | 2020-01-30 | 92254793 | united4.fun      | 2019-01-30 | Active | fun | 1&amp;1 internet | 1&amp;1 internet | Germany | Non China | 1 | NA | Renewed    | 0 | auto-renewal | realized   | 2020-01-30 | 1&amp;1 Internet | 1&amp;1 Internet | 15 | 15 | 1 | 15 | 15 | 15 | fun1&amp;1 internet | united4      | ln |  7 | 7ln | 1 | 2.70805 |  8.65 | united4      | 1 | 1 | 1 |\n",
       "| FirstTime | 1 | 2020-02-04 | 92827233 | bereal.fun       | 2019-02-04 | Active | fun | 1&amp;1 internet | 1&amp;1 internet | Germany | Non China | 1 | NA | Renewed    | 0 | auto-renewal | realized   | 2020-02-04 | 1&amp;1 Internet | 1&amp;1 Internet | 15 | 15 | 1 | 15 | 15 | 15 | fun1&amp;1 internet | bereal       | l  |  6 | 6l  | 1 | 2.70805 | 13.09 | bereal       | 1 | 1 | 1 |\n",
       "| FirstTime | 1 | 2020-02-12 | 93490823 | dogsoutdoors.fun | 2019-02-12 | Active | fun | 1&amp;1 internet | 1&amp;1 internet | Germany | Non China | 1 | NA | Not Renewd | 0 | auto-renewal | unrealized | 2020-02-12 | 1&amp;1 Internet | 1&amp;1 Internet | 15 | 15 | 1 | 15 | 15 | 15 | fun1&amp;1 internet | dogsoutdoors | l  | 12 | 12l | 1 | 2.70805 |  2.44 | dogsoutdoors | 1 | 1 | 1 |\n",
       "| FirstTime | 1 | 2020-02-15 | 93767978 | rosalux.fun      | 2019-02-15 | Active | fun | 1&amp;1 internet | 1&amp;1 internet | Germany | Non China | 1 | NA | Renewed    | 0 | auto-renewal | realized   | 2020-02-15 | 1&amp;1 Internet | 1&amp;1 Internet | 15 | 15 | 1 | 15 | 15 | 15 | fun1&amp;1 internet | rosalux      | l  |  7 | 7l  | 1 | 2.70805 |  2.34 | rosalux      | 1 | 1 | 1 |\n",
       "| FirstTime | 1 | 2020-02-16 | 93823708 | verygood.fun     | 2019-02-16 | Active | fun | 1&amp;1 internet | 1&amp;1 internet | Germany | Non China | 1 | NA | Renewed    | 0 | auto-renewal | realized   | 2020-02-16 | 1&amp;1 Internet | 1&amp;1 Internet | 15 | 15 | 1 | 15 | 15 | 15 | fun1&amp;1 internet | verygood     | l  |  8 | 8l  | 1 | 2.70805 |  3.64 | verygood     | 1 | 1 | 1 |\n",
       "\n"
      ],
      "text/plain": [
       "  renewal_type renewed_count expiry_date domain_id domain          \n",
       "1 FirstTime    1             2020-01-21  91584433  racefor.fun     \n",
       "2 FirstTime    1             2020-01-30  92254793  united4.fun     \n",
       "3 FirstTime    1             2020-02-04  92827233  bereal.fun      \n",
       "4 FirstTime    1             2020-02-12  93490823  dogsoutdoors.fun\n",
       "5 FirstTime    1             2020-02-15  93767978  rosalux.fun     \n",
       "6 FirstTime    1             2020-02-16  93823708  verygood.fun    \n",
       "  creation_date status tld registrar    reseller     reseller_country region   \n",
       "1 2019-01-21    Active fun 1&1 internet 1&1 internet Germany          Non China\n",
       "2 2019-01-30    Active fun 1&1 internet 1&1 internet Germany          Non China\n",
       "3 2019-02-04    Active fun 1&1 internet 1&1 internet Germany          Non China\n",
       "4 2019-02-12    Active fun 1&1 internet 1&1 internet Germany          Non China\n",
       "5 2019-02-15    Active fun 1&1 internet 1&1 internet Germany          Non China\n",
       "6 2019-02-16    Active fun 1&1 internet 1&1 internet Germany          Non China\n",
       "  reg_period registrant_country renewal_status renew_mbg renew_type  \n",
       "1 1          NA                 Renewed        0         auto-renewal\n",
       "2 1          NA                 Renewed        0         auto-renewal\n",
       "3 1          NA                 Renewed        0         auto-renewal\n",
       "4 1          NA                 Not Renewd     0         auto-renewal\n",
       "5 1          NA                 Renewed        0         auto-renewal\n",
       "6 1          NA                 Renewed        0         auto-renewal\n",
       "  autorenew_type renew_date renew_registrar renew_reseller reg_revenue reg_arpt\n",
       "1 realized       2020-01-21 1&1 Internet    1&1 Internet   15          15      \n",
       "2 realized       2020-01-30 1&1 Internet    1&1 Internet   15          15      \n",
       "3 realized       2020-02-04 1&1 Internet    1&1 Internet   15          15      \n",
       "4 unrealized     2020-02-12 1&1 Internet    1&1 Internet   15          15      \n",
       "5 realized       2020-02-15 1&1 Internet    1&1 Internet   15          15      \n",
       "6 realized       2020-02-16 1&1 Internet    1&1 Internet   15          15      \n",
       "  renew_period renew_domain_revenue renew_arpt reg_arpt_org tld_registrar_index\n",
       "1 1            15                   15         15           fun1&1 internet    \n",
       "2 1            15                   15         15           fun1&1 internet    \n",
       "3 1            15                   15         15           fun1&1 internet    \n",
       "4 1            15                   15         15           fun1&1 internet    \n",
       "5 1            15                   15         15           fun1&1 internet    \n",
       "6 1            15                   15         15           fun1&1 internet    \n",
       "  sld          sld_type sld_length sld_type2 day_domains log_reg_arpt\n",
       "1 racefor      l         7         7l        1           2.70805     \n",
       "2 united4      ln        7         7ln       1           2.70805     \n",
       "3 bereal       l         6         6l        1           2.70805     \n",
       "4 dogsoutdoors l        12         12l       1           2.70805     \n",
       "5 rosalux      l         7         7l        1           2.70805     \n",
       "6 verygood     l         8         8l        1           2.70805     \n",
       "  gibb_score pattern      cluster pattern_score pattern_domain_count\n",
       "1  6.77      racefor      1       1             1                   \n",
       "2  8.65      united4      1       1             1                   \n",
       "3 13.09      bereal       1       1             1                   \n",
       "4  2.44      dogsoutdoors 1       1             1                   \n",
       "5  2.34      rosalux      1       1             1                   \n",
       "6  3.64      verygood     1       1             1                   "
      ]
     },
     "metadata": {},
     "output_type": "display_data"
    }
   ],
   "source": [
    "head(expiry_train_df_1)"
   ]
  },
  {
   "cell_type": "code",
   "execution_count": 38,
   "metadata": {},
   "outputs": [
    {
     "data": {
      "text/html": [
       "<style>\n",
       ".list-inline {list-style: none; margin:0; padding: 0}\n",
       ".list-inline>li {display: inline-block}\n",
       ".list-inline>li:not(:last-child)::after {content: \"\\00b7\"; padding: 0 .5ex}\n",
       "</style>\n",
       "<ol class=list-inline><li>1188250</li><li>39</li></ol>\n"
      ],
      "text/latex": [
       "\\begin{enumerate*}\n",
       "\\item 1188250\n",
       "\\item 39\n",
       "\\end{enumerate*}\n"
      ],
      "text/markdown": [
       "1. 1188250\n",
       "2. 39\n",
       "\n",
       "\n"
      ],
      "text/plain": [
       "[1] 1188250      39"
      ]
     },
     "metadata": {},
     "output_type": "display_data"
    },
    {
     "data": {
      "text/html": [
       "<style>\n",
       ".list-inline {list-style: none; margin:0; padding: 0}\n",
       ".list-inline>li {display: inline-block}\n",
       ".list-inline>li:not(:last-child)::after {content: \"\\00b7\"; padding: 0 .5ex}\n",
       "</style>\n",
       "<ol class=list-inline><li>1188250</li><li>40</li></ol>\n"
      ],
      "text/latex": [
       "\\begin{enumerate*}\n",
       "\\item 1188250\n",
       "\\item 40\n",
       "\\end{enumerate*}\n"
      ],
      "text/markdown": [
       "1. 1188250\n",
       "2. 40\n",
       "\n",
       "\n"
      ],
      "text/plain": [
       "[1] 1188250      40"
      ]
     },
     "metadata": {},
     "output_type": "display_data"
    },
    {
     "data": {
      "text/html": [
       "<table>\n",
       "<caption>A data.frame: 6 × 40</caption>\n",
       "<thead>\n",
       "\t<tr><th></th><th scope=col>reseller</th><th scope=col>reseller_country</th><th scope=col>renewal_type</th><th scope=col>renewed_count</th><th scope=col>expiry_date</th><th scope=col>domain_id</th><th scope=col>domain</th><th scope=col>creation_date</th><th scope=col>status</th><th scope=col>tld</th><th scope=col>registrar</th><th scope=col>region</th><th scope=col>reg_period</th><th scope=col>registrant_country</th><th scope=col>renewal_status</th><th scope=col>renew_mbg</th><th scope=col>renew_type</th><th scope=col>autorenew_type</th><th scope=col>renew_date</th><th scope=col>renew_registrar</th><th scope=col>renew_reseller</th><th scope=col>reg_revenue</th><th scope=col>reg_arpt</th><th scope=col>renew_period</th><th scope=col>renew_domain_revenue</th><th scope=col>renew_arpt</th><th scope=col>reg_arpt_org</th><th scope=col>tld_registrar_index</th><th scope=col>sld</th><th scope=col>sld_type</th><th scope=col>sld_length</th><th scope=col>sld_type2</th><th scope=col>day_domains</th><th scope=col>log_reg_arpt</th><th scope=col>gibb_score</th><th scope=col>pattern</th><th scope=col>cluster</th><th scope=col>pattern_score</th><th scope=col>pattern_domain_count</th><th scope=col>reseller_geo</th></tr>\n",
       "\t<tr><th></th><th scope=col>&lt;chr&gt;</th><th scope=col>&lt;chr&gt;</th><th scope=col>&lt;chr&gt;</th><th scope=col>&lt;int&gt;</th><th scope=col>&lt;date&gt;</th><th scope=col>&lt;int&gt;</th><th scope=col>&lt;chr&gt;</th><th scope=col>&lt;date&gt;</th><th scope=col>&lt;chr&gt;</th><th scope=col>&lt;fct&gt;</th><th scope=col>&lt;chr&gt;</th><th scope=col>&lt;chr&gt;</th><th scope=col>&lt;int&gt;</th><th scope=col>&lt;chr&gt;</th><th scope=col>&lt;fct&gt;</th><th scope=col>&lt;int&gt;</th><th scope=col>&lt;chr&gt;</th><th scope=col>&lt;chr&gt;</th><th scope=col>&lt;date&gt;</th><th scope=col>&lt;chr&gt;</th><th scope=col>&lt;chr&gt;</th><th scope=col>&lt;dbl&gt;</th><th scope=col>&lt;dbl&gt;</th><th scope=col>&lt;int&gt;</th><th scope=col>&lt;dbl&gt;</th><th scope=col>&lt;dbl&gt;</th><th scope=col>&lt;dbl&gt;</th><th scope=col>&lt;chr&gt;</th><th scope=col>&lt;chr&gt;</th><th scope=col>&lt;fct&gt;</th><th scope=col>&lt;int&gt;</th><th scope=col>&lt;chr&gt;</th><th scope=col>&lt;int&gt;</th><th scope=col>&lt;dbl&gt;</th><th scope=col>&lt;dbl&gt;</th><th scope=col>&lt;chr&gt;</th><th scope=col>&lt;chr&gt;</th><th scope=col>&lt;dbl&gt;</th><th scope=col>&lt;int&gt;</th><th scope=col>&lt;fct&gt;</th></tr>\n",
       "</thead>\n",
       "<tbody>\n",
       "\t<tr><th scope=row>1</th><td>1&amp;1 internet</td><td>Germany</td><td>FirstTime</td><td>1</td><td>2020-05-10</td><td>103266019</td><td>partner-expert-frst-2626.online</td><td>2019-05-10</td><td>Deleted</td><td>online</td><td>1&amp;1 internet</td><td>Non China</td><td>1</td><td>NA</td><td>Not Renewd</td><td>0</td><td><span style=white-space:pre-wrap>NA          </span></td><td><span style=white-space:pre-wrap>NA        </span></td><td>NA</td><td>Not Assigned</td><td>Not Assigned</td><td>0.0</td><td>1e-04</td><td>NA</td><td> 0</td><td>NA</td><td>0.0</td><td>online1&amp;1 internet</td><td>partner-expert-frst-2626</td><td>hyphen-ln</td><td>24</td><td>24hyphen-ln</td><td>50</td><td>-9.2103404</td><td>4.91</td><td>37</td><td>partner-expert-frst-2626</td><td>0.0004000000</td><td>1</td><td>EU</td></tr>\n",
       "\t<tr><th scope=row>2</th><td>1&amp;1 internet</td><td>Germany</td><td>FirstTime</td><td>1</td><td>2020-05-10</td><td>103260954</td><td><span style=white-space:pre-wrap>gonzalezabogada.online         </span></td><td>2019-05-10</td><td>Active </td><td>online</td><td>1&amp;1 internet</td><td>Non China</td><td>1</td><td>NA</td><td>Not Renewd</td><td>0</td><td>auto-renewal</td><td>unrealized</td><td>2020-05-10</td><td>1&amp;1 Internet</td><td>1&amp;1 Internet</td><td>0.0</td><td>1e-04</td><td> 1</td><td>25</td><td>25</td><td>0.0</td><td>online1&amp;1 internet</td><td><span style=white-space:pre-wrap>gonzalezabogada         </span></td><td><span style=white-space:pre-wrap>l        </span></td><td>15</td><td><span style=white-space:pre-wrap>15l        </span></td><td>50</td><td>-9.2103404</td><td>2.56</td><td>36</td><td><span style=white-space:pre-wrap>gonzalezabogada         </span></td><td>0.0004000000</td><td>1</td><td>EU</td></tr>\n",
       "\t<tr><th scope=row>3</th><td>1&amp;1 internet</td><td>Germany</td><td>FirstTime</td><td>1</td><td>2020-04-05</td><td> 99000139</td><td><span style=white-space:pre-wrap>jayliggins.online              </span></td><td>2019-04-05</td><td>Active </td><td>online</td><td>1&amp;1 internet</td><td>Non China</td><td>1</td><td>NA</td><td><span style=white-space:pre-wrap>Renewed   </span></td><td>0</td><td>auto-renewal</td><td><span style=white-space:pre-wrap>realized  </span></td><td>2020-04-05</td><td>1&amp;1 Internet</td><td>1&amp;1 Internet</td><td>0.0</td><td>1e-04</td><td> 1</td><td>25</td><td>25</td><td>0.0</td><td>online1&amp;1 internet</td><td><span style=white-space:pre-wrap>jayliggins              </span></td><td><span style=white-space:pre-wrap>l        </span></td><td>10</td><td><span style=white-space:pre-wrap>10l        </span></td><td>68</td><td>-9.2103404</td><td>4.24</td><td>34</td><td><span style=white-space:pre-wrap>jayliggins              </span></td><td>0.0002162630</td><td>1</td><td>EU</td></tr>\n",
       "\t<tr><th scope=row>4</th><td>1&amp;1 internet</td><td>Germany</td><td>FirstTime</td><td>1</td><td>2020-05-07</td><td>103007364</td><td><span style=white-space:pre-wrap>amalfitano.online              </span></td><td>2019-05-07</td><td>Active </td><td>online</td><td>1&amp;1 internet</td><td>Non China</td><td>1</td><td>NA</td><td><span style=white-space:pre-wrap>Renewed   </span></td><td>0</td><td>auto-renewal</td><td><span style=white-space:pre-wrap>realized  </span></td><td>2020-05-07</td><td>1&amp;1 Internet</td><td>1&amp;1 Internet</td><td>0.0</td><td>1e-04</td><td> 1</td><td>25</td><td>25</td><td>0.0</td><td>online1&amp;1 internet</td><td><span style=white-space:pre-wrap>amalfitano              </span></td><td><span style=white-space:pre-wrap>l        </span></td><td>10</td><td><span style=white-space:pre-wrap>10l        </span></td><td>48</td><td>-9.2103404</td><td>6.79</td><td>3 </td><td><span style=white-space:pre-wrap>amalfitano              </span></td><td>0.0004340278</td><td>1</td><td>EU</td></tr>\n",
       "\t<tr><th scope=row>5</th><td>1&amp;1 internet</td><td>Germany</td><td>FirstTime</td><td>1</td><td>2020-04-07</td><td> 99134414</td><td><span style=white-space:pre-wrap>pizza-palazzo.online           </span></td><td>2019-04-07</td><td>Active </td><td>online</td><td>1&amp;1 internet</td><td>Non China</td><td>1</td><td>NA</td><td>Not Renewd</td><td>0</td><td>auto-renewal</td><td>unrealized</td><td>2020-04-07</td><td>1&amp;1 Internet</td><td>1&amp;1 Internet</td><td>0.8</td><td>8e-01</td><td> 1</td><td>25</td><td>25</td><td>0.8</td><td>online1&amp;1 internet</td><td><span style=white-space:pre-wrap>pizza-palazzo           </span></td><td>hyphen-l </td><td>13</td><td>13hyphen-l </td><td>34</td><td>-0.2231436</td><td>3.33</td><td>2 </td><td><span style=white-space:pre-wrap>pizza-palazzo           </span></td><td>0.0008650519</td><td>1</td><td>EU</td></tr>\n",
       "\t<tr><th scope=row>6</th><td>1&amp;1 internet</td><td>Germany</td><td>FirstTime</td><td>1</td><td>2020-05-07</td><td>103003979</td><td><span style=white-space:pre-wrap>barleybear.online              </span></td><td>2019-05-07</td><td>Active </td><td>online</td><td>1&amp;1 internet</td><td>Non China</td><td>1</td><td>NA</td><td><span style=white-space:pre-wrap>Renewed   </span></td><td>0</td><td>auto-renewal</td><td><span style=white-space:pre-wrap>realized  </span></td><td>2020-05-07</td><td>1&amp;1 Internet</td><td>1&amp;1 Internet</td><td>1.0</td><td>1e+00</td><td> 1</td><td>25</td><td>25</td><td>1.0</td><td>online1&amp;1 internet</td><td><span style=white-space:pre-wrap>barleybear              </span></td><td><span style=white-space:pre-wrap>l        </span></td><td>10</td><td><span style=white-space:pre-wrap>10l        </span></td><td>48</td><td> 0.0000000</td><td>4.21</td><td>5 </td><td><span style=white-space:pre-wrap>barleybear              </span></td><td>0.0004340278</td><td>1</td><td>EU</td></tr>\n",
       "</tbody>\n",
       "</table>\n"
      ],
      "text/latex": [
       "A data.frame: 6 × 40\n",
       "\\begin{tabular}{r|llllllllllllllllllllllllllllllllllllllll}\n",
       "  & reseller & reseller\\_country & renewal\\_type & renewed\\_count & expiry\\_date & domain\\_id & domain & creation\\_date & status & tld & registrar & region & reg\\_period & registrant\\_country & renewal\\_status & renew\\_mbg & renew\\_type & autorenew\\_type & renew\\_date & renew\\_registrar & renew\\_reseller & reg\\_revenue & reg\\_arpt & renew\\_period & renew\\_domain\\_revenue & renew\\_arpt & reg\\_arpt\\_org & tld\\_registrar\\_index & sld & sld\\_type & sld\\_length & sld\\_type2 & day\\_domains & log\\_reg\\_arpt & gibb\\_score & pattern & cluster & pattern\\_score & pattern\\_domain\\_count & reseller\\_geo\\\\\n",
       "  & <chr> & <chr> & <chr> & <int> & <date> & <int> & <chr> & <date> & <chr> & <fct> & <chr> & <chr> & <int> & <chr> & <fct> & <int> & <chr> & <chr> & <date> & <chr> & <chr> & <dbl> & <dbl> & <int> & <dbl> & <dbl> & <dbl> & <chr> & <chr> & <fct> & <int> & <chr> & <int> & <dbl> & <dbl> & <chr> & <chr> & <dbl> & <int> & <fct>\\\\\n",
       "\\hline\n",
       "\t1 & 1\\&1 internet & Germany & FirstTime & 1 & 2020-05-10 & 103266019 & partner-expert-frst-2626.online & 2019-05-10 & Deleted & online & 1\\&1 internet & Non China & 1 & NA & Not Renewd & 0 & NA           & NA         & NA & Not Assigned & Not Assigned & 0.0 & 1e-04 & NA &  0 & NA & 0.0 & online1\\&1 internet & partner-expert-frst-2626 & hyphen-ln & 24 & 24hyphen-ln & 50 & -9.2103404 & 4.91 & 37 & partner-expert-frst-2626 & 0.0004000000 & 1 & EU\\\\\n",
       "\t2 & 1\\&1 internet & Germany & FirstTime & 1 & 2020-05-10 & 103260954 & gonzalezabogada.online          & 2019-05-10 & Active  & online & 1\\&1 internet & Non China & 1 & NA & Not Renewd & 0 & auto-renewal & unrealized & 2020-05-10 & 1\\&1 Internet & 1\\&1 Internet & 0.0 & 1e-04 &  1 & 25 & 25 & 0.0 & online1\\&1 internet & gonzalezabogada          & l         & 15 & 15l         & 50 & -9.2103404 & 2.56 & 36 & gonzalezabogada          & 0.0004000000 & 1 & EU\\\\\n",
       "\t3 & 1\\&1 internet & Germany & FirstTime & 1 & 2020-04-05 &  99000139 & jayliggins.online               & 2019-04-05 & Active  & online & 1\\&1 internet & Non China & 1 & NA & Renewed    & 0 & auto-renewal & realized   & 2020-04-05 & 1\\&1 Internet & 1\\&1 Internet & 0.0 & 1e-04 &  1 & 25 & 25 & 0.0 & online1\\&1 internet & jayliggins               & l         & 10 & 10l         & 68 & -9.2103404 & 4.24 & 34 & jayliggins               & 0.0002162630 & 1 & EU\\\\\n",
       "\t4 & 1\\&1 internet & Germany & FirstTime & 1 & 2020-05-07 & 103007364 & amalfitano.online               & 2019-05-07 & Active  & online & 1\\&1 internet & Non China & 1 & NA & Renewed    & 0 & auto-renewal & realized   & 2020-05-07 & 1\\&1 Internet & 1\\&1 Internet & 0.0 & 1e-04 &  1 & 25 & 25 & 0.0 & online1\\&1 internet & amalfitano               & l         & 10 & 10l         & 48 & -9.2103404 & 6.79 & 3  & amalfitano               & 0.0004340278 & 1 & EU\\\\\n",
       "\t5 & 1\\&1 internet & Germany & FirstTime & 1 & 2020-04-07 &  99134414 & pizza-palazzo.online            & 2019-04-07 & Active  & online & 1\\&1 internet & Non China & 1 & NA & Not Renewd & 0 & auto-renewal & unrealized & 2020-04-07 & 1\\&1 Internet & 1\\&1 Internet & 0.8 & 8e-01 &  1 & 25 & 25 & 0.8 & online1\\&1 internet & pizza-palazzo            & hyphen-l  & 13 & 13hyphen-l  & 34 & -0.2231436 & 3.33 & 2  & pizza-palazzo            & 0.0008650519 & 1 & EU\\\\\n",
       "\t6 & 1\\&1 internet & Germany & FirstTime & 1 & 2020-05-07 & 103003979 & barleybear.online               & 2019-05-07 & Active  & online & 1\\&1 internet & Non China & 1 & NA & Renewed    & 0 & auto-renewal & realized   & 2020-05-07 & 1\\&1 Internet & 1\\&1 Internet & 1.0 & 1e+00 &  1 & 25 & 25 & 1.0 & online1\\&1 internet & barleybear               & l         & 10 & 10l         & 48 &  0.0000000 & 4.21 & 5  & barleybear               & 0.0004340278 & 1 & EU\\\\\n",
       "\\end{tabular}\n"
      ],
      "text/markdown": [
       "\n",
       "A data.frame: 6 × 40\n",
       "\n",
       "| <!--/--> | reseller &lt;chr&gt; | reseller_country &lt;chr&gt; | renewal_type &lt;chr&gt; | renewed_count &lt;int&gt; | expiry_date &lt;date&gt; | domain_id &lt;int&gt; | domain &lt;chr&gt; | creation_date &lt;date&gt; | status &lt;chr&gt; | tld &lt;fct&gt; | registrar &lt;chr&gt; | region &lt;chr&gt; | reg_period &lt;int&gt; | registrant_country &lt;chr&gt; | renewal_status &lt;fct&gt; | renew_mbg &lt;int&gt; | renew_type &lt;chr&gt; | autorenew_type &lt;chr&gt; | renew_date &lt;date&gt; | renew_registrar &lt;chr&gt; | renew_reseller &lt;chr&gt; | reg_revenue &lt;dbl&gt; | reg_arpt &lt;dbl&gt; | renew_period &lt;int&gt; | renew_domain_revenue &lt;dbl&gt; | renew_arpt &lt;dbl&gt; | reg_arpt_org &lt;dbl&gt; | tld_registrar_index &lt;chr&gt; | sld &lt;chr&gt; | sld_type &lt;fct&gt; | sld_length &lt;int&gt; | sld_type2 &lt;chr&gt; | day_domains &lt;int&gt; | log_reg_arpt &lt;dbl&gt; | gibb_score &lt;dbl&gt; | pattern &lt;chr&gt; | cluster &lt;chr&gt; | pattern_score &lt;dbl&gt; | pattern_domain_count &lt;int&gt; | reseller_geo &lt;fct&gt; |\n",
       "|---|---|---|---|---|---|---|---|---|---|---|---|---|---|---|---|---|---|---|---|---|---|---|---|---|---|---|---|---|---|---|---|---|---|---|---|---|---|---|---|---|\n",
       "| 1 | 1&amp;1 internet | Germany | FirstTime | 1 | 2020-05-10 | 103266019 | partner-expert-frst-2626.online | 2019-05-10 | Deleted | online | 1&amp;1 internet | Non China | 1 | NA | Not Renewd | 0 | NA           | NA         | NA | Not Assigned | Not Assigned | 0.0 | 1e-04 | NA |  0 | NA | 0.0 | online1&amp;1 internet | partner-expert-frst-2626 | hyphen-ln | 24 | 24hyphen-ln | 50 | -9.2103404 | 4.91 | 37 | partner-expert-frst-2626 | 0.0004000000 | 1 | EU |\n",
       "| 2 | 1&amp;1 internet | Germany | FirstTime | 1 | 2020-05-10 | 103260954 | gonzalezabogada.online          | 2019-05-10 | Active  | online | 1&amp;1 internet | Non China | 1 | NA | Not Renewd | 0 | auto-renewal | unrealized | 2020-05-10 | 1&amp;1 Internet | 1&amp;1 Internet | 0.0 | 1e-04 |  1 | 25 | 25 | 0.0 | online1&amp;1 internet | gonzalezabogada          | l         | 15 | 15l         | 50 | -9.2103404 | 2.56 | 36 | gonzalezabogada          | 0.0004000000 | 1 | EU |\n",
       "| 3 | 1&amp;1 internet | Germany | FirstTime | 1 | 2020-04-05 |  99000139 | jayliggins.online               | 2019-04-05 | Active  | online | 1&amp;1 internet | Non China | 1 | NA | Renewed    | 0 | auto-renewal | realized   | 2020-04-05 | 1&amp;1 Internet | 1&amp;1 Internet | 0.0 | 1e-04 |  1 | 25 | 25 | 0.0 | online1&amp;1 internet | jayliggins               | l         | 10 | 10l         | 68 | -9.2103404 | 4.24 | 34 | jayliggins               | 0.0002162630 | 1 | EU |\n",
       "| 4 | 1&amp;1 internet | Germany | FirstTime | 1 | 2020-05-07 | 103007364 | amalfitano.online               | 2019-05-07 | Active  | online | 1&amp;1 internet | Non China | 1 | NA | Renewed    | 0 | auto-renewal | realized   | 2020-05-07 | 1&amp;1 Internet | 1&amp;1 Internet | 0.0 | 1e-04 |  1 | 25 | 25 | 0.0 | online1&amp;1 internet | amalfitano               | l         | 10 | 10l         | 48 | -9.2103404 | 6.79 | 3  | amalfitano               | 0.0004340278 | 1 | EU |\n",
       "| 5 | 1&amp;1 internet | Germany | FirstTime | 1 | 2020-04-07 |  99134414 | pizza-palazzo.online            | 2019-04-07 | Active  | online | 1&amp;1 internet | Non China | 1 | NA | Not Renewd | 0 | auto-renewal | unrealized | 2020-04-07 | 1&amp;1 Internet | 1&amp;1 Internet | 0.8 | 8e-01 |  1 | 25 | 25 | 0.8 | online1&amp;1 internet | pizza-palazzo            | hyphen-l  | 13 | 13hyphen-l  | 34 | -0.2231436 | 3.33 | 2  | pizza-palazzo            | 0.0008650519 | 1 | EU |\n",
       "| 6 | 1&amp;1 internet | Germany | FirstTime | 1 | 2020-05-07 | 103003979 | barleybear.online               | 2019-05-07 | Active  | online | 1&amp;1 internet | Non China | 1 | NA | Renewed    | 0 | auto-renewal | realized   | 2020-05-07 | 1&amp;1 Internet | 1&amp;1 Internet | 1.0 | 1e+00 |  1 | 25 | 25 | 1.0 | online1&amp;1 internet | barleybear               | l         | 10 | 10l         | 48 |  0.0000000 | 4.21 | 5  | barleybear               | 0.0004340278 | 1 | EU |\n",
       "\n"
      ],
      "text/plain": [
       "  reseller     reseller_country renewal_type renewed_count expiry_date\n",
       "1 1&1 internet Germany          FirstTime    1             2020-05-10 \n",
       "2 1&1 internet Germany          FirstTime    1             2020-05-10 \n",
       "3 1&1 internet Germany          FirstTime    1             2020-04-05 \n",
       "4 1&1 internet Germany          FirstTime    1             2020-05-07 \n",
       "5 1&1 internet Germany          FirstTime    1             2020-04-07 \n",
       "6 1&1 internet Germany          FirstTime    1             2020-05-07 \n",
       "  domain_id domain                          creation_date status  tld   \n",
       "1 103266019 partner-expert-frst-2626.online 2019-05-10    Deleted online\n",
       "2 103260954 gonzalezabogada.online          2019-05-10    Active  online\n",
       "3  99000139 jayliggins.online               2019-04-05    Active  online\n",
       "4 103007364 amalfitano.online               2019-05-07    Active  online\n",
       "5  99134414 pizza-palazzo.online            2019-04-07    Active  online\n",
       "6 103003979 barleybear.online               2019-05-07    Active  online\n",
       "  registrar    region    reg_period registrant_country renewal_status renew_mbg\n",
       "1 1&1 internet Non China 1          NA                 Not Renewd     0        \n",
       "2 1&1 internet Non China 1          NA                 Not Renewd     0        \n",
       "3 1&1 internet Non China 1          NA                 Renewed        0        \n",
       "4 1&1 internet Non China 1          NA                 Renewed        0        \n",
       "5 1&1 internet Non China 1          NA                 Not Renewd     0        \n",
       "6 1&1 internet Non China 1          NA                 Renewed        0        \n",
       "  renew_type   autorenew_type renew_date renew_registrar renew_reseller\n",
       "1 NA           NA             <NA>       Not Assigned    Not Assigned  \n",
       "2 auto-renewal unrealized     2020-05-10 1&1 Internet    1&1 Internet  \n",
       "3 auto-renewal realized       2020-04-05 1&1 Internet    1&1 Internet  \n",
       "4 auto-renewal realized       2020-05-07 1&1 Internet    1&1 Internet  \n",
       "5 auto-renewal unrealized     2020-04-07 1&1 Internet    1&1 Internet  \n",
       "6 auto-renewal realized       2020-05-07 1&1 Internet    1&1 Internet  \n",
       "  reg_revenue reg_arpt renew_period renew_domain_revenue renew_arpt\n",
       "1 0.0         1e-04    NA            0                   NA        \n",
       "2 0.0         1e-04     1           25                   25        \n",
       "3 0.0         1e-04     1           25                   25        \n",
       "4 0.0         1e-04     1           25                   25        \n",
       "5 0.8         8e-01     1           25                   25        \n",
       "6 1.0         1e+00     1           25                   25        \n",
       "  reg_arpt_org tld_registrar_index sld                      sld_type \n",
       "1 0.0          online1&1 internet  partner-expert-frst-2626 hyphen-ln\n",
       "2 0.0          online1&1 internet  gonzalezabogada          l        \n",
       "3 0.0          online1&1 internet  jayliggins               l        \n",
       "4 0.0          online1&1 internet  amalfitano               l        \n",
       "5 0.8          online1&1 internet  pizza-palazzo            hyphen-l \n",
       "6 1.0          online1&1 internet  barleybear               l        \n",
       "  sld_length sld_type2   day_domains log_reg_arpt gibb_score pattern\n",
       "1 24         24hyphen-ln 50          -9.2103404   4.91       37     \n",
       "2 15         15l         50          -9.2103404   2.56       36     \n",
       "3 10         10l         68          -9.2103404   4.24       34     \n",
       "4 10         10l         48          -9.2103404   6.79       3      \n",
       "5 13         13hyphen-l  34          -0.2231436   3.33       2      \n",
       "6 10         10l         48           0.0000000   4.21       5      \n",
       "  cluster                  pattern_score pattern_domain_count reseller_geo\n",
       "1 partner-expert-frst-2626 0.0004000000  1                    EU          \n",
       "2 gonzalezabogada          0.0004000000  1                    EU          \n",
       "3 jayliggins               0.0002162630  1                    EU          \n",
       "4 amalfitano               0.0004340278  1                    EU          \n",
       "5 pizza-palazzo            0.0008650519  1                    EU          \n",
       "6 barleybear               0.0004340278  1                    EU          "
      ]
     },
     "metadata": {},
     "output_type": "display_data"
    }
   ],
   "source": [
    "# ensure correct number of dimm\n",
    "dim(expiry_train_df_1)\n",
    "npv_fallback_first_geo_arpt_tld_2 <- merge(as.data.frame(expiry_train_df_1),\n",
    "                           geoLookupDF,\n",
    "                           on=c('reseller','reseller_country'), \n",
    "                           all.x = TRUE)\n",
    "dim(npv_fallback_first_geo_arpt_tld_2)\n",
    "head(npv_fallback_first_geo_arpt_tld_2)\n"
   ]
  },
  {
   "cell_type": "code",
   "execution_count": 39,
   "metadata": {},
   "outputs": [
    {
     "data": {
      "text/html": [
       "<table>\n",
       "<caption>A data.frame: 20 × 2</caption>\n",
       "<thead>\n",
       "\t<tr><th></th><th scope=col>reg_arpt</th><th scope=col>reg_arpt_slab</th></tr>\n",
       "\t<tr><th></th><th scope=col>&lt;dbl&gt;</th><th scope=col>&lt;fct&gt;</th></tr>\n",
       "</thead>\n",
       "<tbody>\n",
       "\t<tr><th scope=row>1</th><td>1e-04</td><td>(0,1] </td></tr>\n",
       "\t<tr><th scope=row>2</th><td>1e-04</td><td>(0,1] </td></tr>\n",
       "\t<tr><th scope=row>3</th><td>1e-04</td><td>(0,1] </td></tr>\n",
       "\t<tr><th scope=row>4</th><td>1e-04</td><td>(0,1] </td></tr>\n",
       "\t<tr><th scope=row>5</th><td>8e-01</td><td>(0,1] </td></tr>\n",
       "\t<tr><th scope=row>6</th><td>1e+00</td><td>(0,1] </td></tr>\n",
       "\t<tr><th scope=row>7</th><td>1e-04</td><td>(0,1] </td></tr>\n",
       "\t<tr><th scope=row>8</th><td>1e-04</td><td>(0,1] </td></tr>\n",
       "\t<tr><th scope=row>9</th><td>1e+00</td><td>(0,1] </td></tr>\n",
       "\t<tr><th scope=row>10</th><td>1e-04</td><td>(0,1] </td></tr>\n",
       "\t<tr><th scope=row>11</th><td>1e+01</td><td>(5,10]</td></tr>\n",
       "\t<tr><th scope=row>12</th><td>1e-04</td><td>(0,1] </td></tr>\n",
       "\t<tr><th scope=row>13</th><td>1e+01</td><td>(5,10]</td></tr>\n",
       "\t<tr><th scope=row>14</th><td>5e+00</td><td>(3,5] </td></tr>\n",
       "\t<tr><th scope=row>15</th><td>1e-04</td><td>(0,1] </td></tr>\n",
       "\t<tr><th scope=row>16</th><td>1e+00</td><td>(0,1] </td></tr>\n",
       "\t<tr><th scope=row>17</th><td>1e+01</td><td>(5,10]</td></tr>\n",
       "\t<tr><th scope=row>18</th><td>1e-04</td><td>(0,1] </td></tr>\n",
       "\t<tr><th scope=row>19</th><td>1e-04</td><td>(0,1] </td></tr>\n",
       "\t<tr><th scope=row>20</th><td>1e-04</td><td>(0,1] </td></tr>\n",
       "</tbody>\n",
       "</table>\n"
      ],
      "text/latex": [
       "A data.frame: 20 × 2\n",
       "\\begin{tabular}{r|ll}\n",
       "  & reg\\_arpt & reg\\_arpt\\_slab\\\\\n",
       "  & <dbl> & <fct>\\\\\n",
       "\\hline\n",
       "\t1 & 1e-04 & (0,1{]} \\\\\n",
       "\t2 & 1e-04 & (0,1{]} \\\\\n",
       "\t3 & 1e-04 & (0,1{]} \\\\\n",
       "\t4 & 1e-04 & (0,1{]} \\\\\n",
       "\t5 & 8e-01 & (0,1{]} \\\\\n",
       "\t6 & 1e+00 & (0,1{]} \\\\\n",
       "\t7 & 1e-04 & (0,1{]} \\\\\n",
       "\t8 & 1e-04 & (0,1{]} \\\\\n",
       "\t9 & 1e+00 & (0,1{]} \\\\\n",
       "\t10 & 1e-04 & (0,1{]} \\\\\n",
       "\t11 & 1e+01 & (5,10{]}\\\\\n",
       "\t12 & 1e-04 & (0,1{]} \\\\\n",
       "\t13 & 1e+01 & (5,10{]}\\\\\n",
       "\t14 & 5e+00 & (3,5{]} \\\\\n",
       "\t15 & 1e-04 & (0,1{]} \\\\\n",
       "\t16 & 1e+00 & (0,1{]} \\\\\n",
       "\t17 & 1e+01 & (5,10{]}\\\\\n",
       "\t18 & 1e-04 & (0,1{]} \\\\\n",
       "\t19 & 1e-04 & (0,1{]} \\\\\n",
       "\t20 & 1e-04 & (0,1{]} \\\\\n",
       "\\end{tabular}\n"
      ],
      "text/markdown": [
       "\n",
       "A data.frame: 20 × 2\n",
       "\n",
       "| <!--/--> | reg_arpt &lt;dbl&gt; | reg_arpt_slab &lt;fct&gt; |\n",
       "|---|---|---|\n",
       "| 1 | 1e-04 | (0,1]  |\n",
       "| 2 | 1e-04 | (0,1]  |\n",
       "| 3 | 1e-04 | (0,1]  |\n",
       "| 4 | 1e-04 | (0,1]  |\n",
       "| 5 | 8e-01 | (0,1]  |\n",
       "| 6 | 1e+00 | (0,1]  |\n",
       "| 7 | 1e-04 | (0,1]  |\n",
       "| 8 | 1e-04 | (0,1]  |\n",
       "| 9 | 1e+00 | (0,1]  |\n",
       "| 10 | 1e-04 | (0,1]  |\n",
       "| 11 | 1e+01 | (5,10] |\n",
       "| 12 | 1e-04 | (0,1]  |\n",
       "| 13 | 1e+01 | (5,10] |\n",
       "| 14 | 5e+00 | (3,5]  |\n",
       "| 15 | 1e-04 | (0,1]  |\n",
       "| 16 | 1e+00 | (0,1]  |\n",
       "| 17 | 1e+01 | (5,10] |\n",
       "| 18 | 1e-04 | (0,1]  |\n",
       "| 19 | 1e-04 | (0,1]  |\n",
       "| 20 | 1e-04 | (0,1]  |\n",
       "\n"
      ],
      "text/plain": [
       "   reg_arpt reg_arpt_slab\n",
       "1  1e-04    (0,1]        \n",
       "2  1e-04    (0,1]        \n",
       "3  1e-04    (0,1]        \n",
       "4  1e-04    (0,1]        \n",
       "5  8e-01    (0,1]        \n",
       "6  1e+00    (0,1]        \n",
       "7  1e-04    (0,1]        \n",
       "8  1e-04    (0,1]        \n",
       "9  1e+00    (0,1]        \n",
       "10 1e-04    (0,1]        \n",
       "11 1e+01    (5,10]       \n",
       "12 1e-04    (0,1]        \n",
       "13 1e+01    (5,10]       \n",
       "14 5e+00    (3,5]        \n",
       "15 1e-04    (0,1]        \n",
       "16 1e+00    (0,1]        \n",
       "17 1e+01    (5,10]       \n",
       "18 1e-04    (0,1]        \n",
       "19 1e-04    (0,1]        \n",
       "20 1e-04    (0,1]        "
      ]
     },
     "metadata": {},
     "output_type": "display_data"
    }
   ],
   "source": [
    "npv_fallback_first_geo_arpt_tld_2 <- npv_fallback_first_geo_arpt_tld_2 %>% \n",
    "  mutate(reg_arpt_slab=cut(reg_arpt, breaks=c(-Inf, 0, 1, 3, 5, 10, 15, 25, 35, Inf)))\n",
    "npv_fallback_first_geo_arpt_tld_2  %>% select (reg_arpt, reg_arpt_slab) %>% head(20)"
   ]
  },
  {
   "cell_type": "code",
   "execution_count": 40,
   "metadata": {},
   "outputs": [
    {
     "name": "stderr",
     "output_type": "stream",
     "text": [
      "`summarise()` regrouping output by 'tld', 'reseller_geo' (override with `.groups` argument)\n",
      "\n"
     ]
    },
    {
     "data": {
      "text/html": [
       "<table>\n",
       "<caption>A grouped_df: 6 × 6</caption>\n",
       "<thead>\n",
       "\t<tr><th scope=col>tld</th><th scope=col>reseller_geo</th><th scope=col>reg_arpt_slab</th><th scope=col>expiring_domains</th><th scope=col>renewed_domains</th><th scope=col>renewal_rate</th></tr>\n",
       "\t<tr><th scope=col>&lt;fct&gt;</th><th scope=col>&lt;fct&gt;</th><th scope=col>&lt;fct&gt;</th><th scope=col>&lt;int&gt;</th><th scope=col>&lt;int&gt;</th><th scope=col>&lt;dbl&gt;</th></tr>\n",
       "</thead>\n",
       "<tbody>\n",
       "\t<tr><td>fun</td><td>Australia &amp; New Zealand</td><td><span style=white-space:pre-wrap>(3,5]  </span></td><td><span style=white-space:pre-wrap>     4</span></td><td><span style=white-space:pre-wrap>  1</span></td><td>0.250000000</td></tr>\n",
       "\t<tr><td>fun</td><td>Australia &amp; New Zealand</td><td>(5,10] </td><td><span style=white-space:pre-wrap>     4</span></td><td><span style=white-space:pre-wrap>  2</span></td><td>0.500000000</td></tr>\n",
       "\t<tr><td>fun</td><td>Australia &amp; New Zealand</td><td>(10,15]</td><td><span style=white-space:pre-wrap>     3</span></td><td><span style=white-space:pre-wrap>  1</span></td><td>0.333333333</td></tr>\n",
       "\t<tr><td>fun</td><td>Canada                 </td><td>(5,10] </td><td>    19</td><td> 10</td><td>0.526315789</td></tr>\n",
       "\t<tr><td>fun</td><td>Canada                 </td><td>(10,15]</td><td>     7</td><td>  4</td><td>0.571428571</td></tr>\n",
       "\t<tr><td>fun</td><td>China                  </td><td>(0,1]  </td><td>101332</td><td>983</td><td>0.009700786</td></tr>\n",
       "</tbody>\n",
       "</table>\n"
      ],
      "text/latex": [
       "A grouped\\_df: 6 × 6\n",
       "\\begin{tabular}{llllll}\n",
       " tld & reseller\\_geo & reg\\_arpt\\_slab & expiring\\_domains & renewed\\_domains & renewal\\_rate\\\\\n",
       " <fct> & <fct> & <fct> & <int> & <int> & <dbl>\\\\\n",
       "\\hline\n",
       "\t fun & Australia \\& New Zealand & (3,5{]}   &      4 &   1 & 0.250000000\\\\\n",
       "\t fun & Australia \\& New Zealand & (5,10{]}  &      4 &   2 & 0.500000000\\\\\n",
       "\t fun & Australia \\& New Zealand & (10,15{]} &      3 &   1 & 0.333333333\\\\\n",
       "\t fun & Canada                  & (5,10{]}  &     19 &  10 & 0.526315789\\\\\n",
       "\t fun & Canada                  & (10,15{]} &      7 &   4 & 0.571428571\\\\\n",
       "\t fun & China                   & (0,1{]}   & 101332 & 983 & 0.009700786\\\\\n",
       "\\end{tabular}\n"
      ],
      "text/markdown": [
       "\n",
       "A grouped_df: 6 × 6\n",
       "\n",
       "| tld &lt;fct&gt; | reseller_geo &lt;fct&gt; | reg_arpt_slab &lt;fct&gt; | expiring_domains &lt;int&gt; | renewed_domains &lt;int&gt; | renewal_rate &lt;dbl&gt; |\n",
       "|---|---|---|---|---|---|\n",
       "| fun | Australia &amp; New Zealand | (3,5]   |      4 |   1 | 0.250000000 |\n",
       "| fun | Australia &amp; New Zealand | (5,10]  |      4 |   2 | 0.500000000 |\n",
       "| fun | Australia &amp; New Zealand | (10,15] |      3 |   1 | 0.333333333 |\n",
       "| fun | Canada                  | (5,10]  |     19 |  10 | 0.526315789 |\n",
       "| fun | Canada                  | (10,15] |      7 |   4 | 0.571428571 |\n",
       "| fun | China                   | (0,1]   | 101332 | 983 | 0.009700786 |\n",
       "\n"
      ],
      "text/plain": [
       "  tld reseller_geo            reg_arpt_slab expiring_domains renewed_domains\n",
       "1 fun Australia & New Zealand (3,5]              4             1            \n",
       "2 fun Australia & New Zealand (5,10]             4             2            \n",
       "3 fun Australia & New Zealand (10,15]            3             1            \n",
       "4 fun Canada                  (5,10]            19            10            \n",
       "5 fun Canada                  (10,15]            7             4            \n",
       "6 fun China                   (0,1]         101332           983            \n",
       "  renewal_rate\n",
       "1 0.250000000 \n",
       "2 0.500000000 \n",
       "3 0.333333333 \n",
       "4 0.526315789 \n",
       "5 0.571428571 \n",
       "6 0.009700786 "
      ]
     },
     "metadata": {},
     "output_type": "display_data"
    }
   ],
   "source": [
    "npv_fallback_first_geo_arpt_tld_2 = npv_fallback_first_geo_arpt_tld_2 %>%\n",
    "  group_by(tld,reseller_geo,reg_arpt_slab) %>%\n",
    "  summarise(expiring_domains = n(),\n",
    "              renewed_domains=sum(renewal_status=='Renewed'),\n",
    "              renewal_rate=renewed_domains/expiring_domains)\n",
    "\n",
    "head(npv_fallback_first_geo_arpt_tld_2)"
   ]
  },
  {
   "cell_type": "markdown",
   "metadata": {},
   "source": [
    "## leverage regenrated fallback table"
   ]
  },
  {
   "cell_type": "code",
   "execution_count": 45,
   "metadata": {},
   "outputs": [],
   "source": [
    "npv_fallback_first_geo_arpt_tld_2 <- as.data.frame(npv_fallback_first_geo_arpt_tld_2)"
   ]
  },
  {
   "cell_type": "code",
   "execution_count": 47,
   "metadata": {},
   "outputs": [],
   "source": [
    "npv_fallback_first_geo_arpt_tld_2$tld <- factor(npv_fallback_first_geo_arpt_tld_2$tld)\n",
    "npv_fallback_first_geo_arpt_tld_2$reseller_geo <- factor(npv_fallback_first_geo_arpt_tld_2$reseller_geo)"
   ]
  },
  {
   "cell_type": "code",
   "execution_count": 48,
   "metadata": {},
   "outputs": [
    {
     "name": "stdout",
     "output_type": "stream",
     "text": [
      "'data.frame':\t296797 obs. of  3 variables:\n",
      " $ tld          : Factor w/ 11 levels \"fun\",\"host\",\"in.net\",..: 4 4 4 4 4 4 4 9 4 4 ...\n",
      " $ reseller_geo : Factor w/ 15 levels \"Africa\",\"Australia & New Zealand\",..: 5 5 5 5 5 5 5 5 5 5 ...\n",
      " $ reg_arpt_slab: Factor w/ 9 levels \"(-Inf,0]\",\"(0,1]\",..: 2 4 2 6 2 2 6 5 2 2 ...\n",
      "'data.frame':\t536 obs. of  3 variables:\n",
      " $ tld          : Factor w/ 11 levels \"fun\",\"host\",\"in.net\",..: 1 1 1 1 1 1 1 1 1 1 ...\n",
      " $ reseller_geo : Factor w/ 14 levels \"Africa\",\"Australia & New Zealand\",..: 2 2 2 3 3 4 4 4 4 5 ...\n",
      " $ reg_arpt_slab: Factor w/ 9 levels \"(-Inf,0]\",\"(0,1]\",..: 4 5 6 5 6 2 3 4 6 2 ...\n"
     ]
    }
   ],
   "source": [
    "str(test_predictions_df[,c('tld', 'reseller_geo', 'reg_arpt_slab')])\n",
    "str(npv_fallback_first_geo_arpt_tld_2[,c('tld', 'reseller_geo', 'reg_arpt_slab')])"
   ]
  },
  {
   "cell_type": "code",
   "execution_count": 49,
   "metadata": {},
   "outputs": [
    {
     "data": {
      "text/html": [
       "<style>\n",
       ".list-inline {list-style: none; margin:0; padding: 0}\n",
       ".list-inline>li {display: inline-block}\n",
       ".list-inline>li:not(:last-child)::after {content: \"\\00b7\"; padding: 0 .5ex}\n",
       "</style>\n",
       "<ol class=list-inline><li>296797</li><li>47</li></ol>\n"
      ],
      "text/latex": [
       "\\begin{enumerate*}\n",
       "\\item 296797\n",
       "\\item 47\n",
       "\\end{enumerate*}\n"
      ],
      "text/markdown": [
       "1. 296797\n",
       "2. 47\n",
       "\n",
       "\n"
      ],
      "text/plain": [
       "[1] 296797     47"
      ]
     },
     "metadata": {},
     "output_type": "display_data"
    },
    {
     "data": {
      "text/html": [
       "<style>\n",
       ".list-inline {list-style: none; margin:0; padding: 0}\n",
       ".list-inline>li {display: inline-block}\n",
       ".list-inline>li:not(:last-child)::after {content: \"\\00b7\"; padding: 0 .5ex}\n",
       "</style>\n",
       "<ol class=list-inline><li>296797</li><li>48</li></ol>\n"
      ],
      "text/latex": [
       "\\begin{enumerate*}\n",
       "\\item 296797\n",
       "\\item 48\n",
       "\\end{enumerate*}\n"
      ],
      "text/markdown": [
       "1. 296797\n",
       "2. 48\n",
       "\n",
       "\n"
      ],
      "text/plain": [
       "[1] 296797     48"
      ]
     },
     "metadata": {},
     "output_type": "display_data"
    },
    {
     "data": {
      "text/html": [
       "<table>\n",
       "<caption>A data.frame: 6 × 48</caption>\n",
       "<thead>\n",
       "\t<tr><th></th><th scope=col>tld</th><th scope=col>reseller_geo</th><th scope=col>reg_arpt_slab</th><th scope=col>reseller</th><th scope=col>reseller_country</th><th scope=col>domain_id</th><th scope=col>renewal_type</th><th scope=col>renewed_count</th><th scope=col>expiry_date</th><th scope=col>domain</th><th scope=col>creation_date</th><th scope=col>status</th><th scope=col>registrar</th><th scope=col>region</th><th scope=col>reg_period</th><th scope=col>registrant_country</th><th scope=col>renewal_status</th><th scope=col>renew_mbg</th><th scope=col>renew_type</th><th scope=col>autorenew_type</th><th scope=col>renew_date</th><th scope=col>renew_registrar</th><th scope=col>renew_reseller</th><th scope=col>reg_revenue</th><th scope=col>reg_arpt</th><th scope=col>renew_period</th><th scope=col>renew_domain_revenue</th><th scope=col>renew_arpt</th><th scope=col>reg_arpt_org</th><th scope=col>tld_registrar_index</th><th scope=col>sld</th><th scope=col>sld_type</th><th scope=col>sld_length</th><th scope=col>sld_type2</th><th scope=col>day_domains</th><th scope=col>log_reg_arpt</th><th scope=col>gibb_score</th><th scope=col>pattern</th><th scope=col>cluster</th><th scope=col>pattern_score</th><th scope=col>pattern_domain_count</th><th scope=col>pred_df_seg2_glm</th><th scope=col>pred_df_seg_glm</th><th scope=col>pred_df_agg_glm</th><th scope=col>pred_df_seg2_rf</th><th scope=col>pred_df_seg_rf</th><th scope=col>pred_df_agg_rf</th><th scope=col>renewal_rate</th></tr>\n",
       "\t<tr><th></th><th scope=col>&lt;fct&gt;</th><th scope=col>&lt;fct&gt;</th><th scope=col>&lt;fct&gt;</th><th scope=col>&lt;chr&gt;</th><th scope=col>&lt;chr&gt;</th><th scope=col>&lt;int&gt;</th><th scope=col>&lt;chr&gt;</th><th scope=col>&lt;int&gt;</th><th scope=col>&lt;date&gt;</th><th scope=col>&lt;chr&gt;</th><th scope=col>&lt;date&gt;</th><th scope=col>&lt;chr&gt;</th><th scope=col>&lt;chr&gt;</th><th scope=col>&lt;chr&gt;</th><th scope=col>&lt;int&gt;</th><th scope=col>&lt;chr&gt;</th><th scope=col>&lt;fct&gt;</th><th scope=col>&lt;int&gt;</th><th scope=col>&lt;chr&gt;</th><th scope=col>&lt;chr&gt;</th><th scope=col>&lt;date&gt;</th><th scope=col>&lt;chr&gt;</th><th scope=col>&lt;chr&gt;</th><th scope=col>&lt;dbl&gt;</th><th scope=col>&lt;dbl&gt;</th><th scope=col>&lt;int&gt;</th><th scope=col>&lt;dbl&gt;</th><th scope=col>&lt;dbl&gt;</th><th scope=col>&lt;dbl&gt;</th><th scope=col>&lt;chr&gt;</th><th scope=col>&lt;chr&gt;</th><th scope=col>&lt;fct&gt;</th><th scope=col>&lt;int&gt;</th><th scope=col>&lt;chr&gt;</th><th scope=col>&lt;int&gt;</th><th scope=col>&lt;dbl&gt;</th><th scope=col>&lt;dbl&gt;</th><th scope=col>&lt;chr&gt;</th><th scope=col>&lt;chr&gt;</th><th scope=col>&lt;dbl&gt;</th><th scope=col>&lt;int&gt;</th><th scope=col>&lt;dbl&gt;</th><th scope=col>&lt;dbl&gt;</th><th scope=col>&lt;dbl&gt;</th><th scope=col>&lt;dbl&gt;</th><th scope=col>&lt;dbl&gt;</th><th scope=col>&lt;dbl&gt;</th><th scope=col>&lt;dbl&gt;</th></tr>\n",
       "</thead>\n",
       "<tbody>\n",
       "\t<tr><th scope=row>1</th><td>fun</td><td>Australia &amp; New Zealand</td><td><span style=white-space:pre-wrap>(3,5]  </span></td><td>instra corporation</td><td>Australia</td><td>104893671</td><td>FirstTime</td><td>1</td><td>2020-05-25</td><td><span style=white-space:pre-wrap>laur.fun         </span></td><td>2019-05-25</td><td>Active</td><td>instra corporation</td><td>Non China</td><td>1</td><td>NA</td><td>Not Renewd</td><td>0</td><td>auto-renewal</td><td><span style=white-space:pre-wrap>NA        </span></td><td>2020-05-25</td><td>Instra Corporation</td><td>Instra Corporation</td><td> 4</td><td> 4</td><td>1</td><td>15</td><td>15</td><td> 4</td><td>funinstra corporation</td><td><span style=white-space:pre-wrap>laur         </span></td><td>l</td><td> 4</td><td>4l </td><td>1</td><td>1.386294</td><td>5.48</td><td><span style=white-space:pre-wrap>laur         </span></td><td>1</td><td>1</td><td>1</td><td><span style=white-space:pre-wrap>       NA</span></td><td>0.000</td><td>0.151</td><td>0.00000</td><td>0.1851779</td><td>0.3718108</td><td>0.2500000</td></tr>\n",
       "\t<tr><th scope=row>2</th><td>fun</td><td>Australia &amp; New Zealand</td><td><span style=white-space:pre-wrap>(3,5]  </span></td><td>instra corporation</td><td>Australia</td><td> 99540944</td><td>FirstTime</td><td>1</td><td>2020-04-10</td><td><span style=white-space:pre-wrap>oferty.fun       </span></td><td>2019-04-10</td><td>Active</td><td>instra corporation</td><td>Non China</td><td>1</td><td>NA</td><td>Not Renewd</td><td>0</td><td>auto-renewal</td><td>unrealized</td><td>2020-04-10</td><td>Instra Corporation</td><td>Instra Corporation</td><td> 4</td><td> 4</td><td>1</td><td>15</td><td>15</td><td> 4</td><td>funinstra corporation</td><td><span style=white-space:pre-wrap>oferty       </span></td><td>l</td><td> 6</td><td>6l </td><td>1</td><td>1.386294</td><td>6.03</td><td><span style=white-space:pre-wrap>oferty       </span></td><td>1</td><td>1</td><td>1</td><td><span style=white-space:pre-wrap>       NA</span></td><td>0.000</td><td>0.146</td><td>0.00000</td><td>0.2157494</td><td>0.3943426</td><td>0.2500000</td></tr>\n",
       "\t<tr><th scope=row>3</th><td>fun</td><td>Australia &amp; New Zealand</td><td>(5,10] </td><td><span style=white-space:pre-wrap>crazy domains     </span></td><td>Australia</td><td> 62376247</td><td>FirstTime</td><td>1</td><td>2020-03-07</td><td>tennisladder.fun </td><td>2018-03-07</td><td>Active</td><td><span style=white-space:pre-wrap>crazy domains     </span></td><td>Non China</td><td>2</td><td>NA</td><td>Not Renewd</td><td>0</td><td>auto-renewal</td><td>unrealized</td><td>2020-03-07</td><td><span style=white-space:pre-wrap>Crazy Domains     </span></td><td><span style=white-space:pre-wrap>Crazy Domains     </span></td><td>18</td><td> 9</td><td>1</td><td>15</td><td>15</td><td> 9</td><td><span style=white-space:pre-wrap>funcrazy domains     </span></td><td>tennisladder </td><td>l</td><td>12</td><td>12l</td><td>1</td><td>2.197225</td><td>4.85</td><td>tennisladder </td><td>1</td><td>1</td><td>1</td><td>1.0000000</td><td>0.400</td><td>0.334</td><td>0.42460</td><td>0.5788189</td><td>0.6221085</td><td>0.5000000</td></tr>\n",
       "\t<tr><th scope=row>4</th><td>fun</td><td>Australia &amp; New Zealand</td><td>(10,15]</td><td><span style=white-space:pre-wrap>ventraip          </span></td><td>Australia</td><td> 95252714</td><td>FirstTime</td><td>1</td><td>2020-03-03</td><td><span style=white-space:pre-wrap>letterific.fun   </span></td><td>2019-03-03</td><td>Active</td><td>synergy wholesale </td><td>Non China</td><td>1</td><td>NA</td><td><span style=white-space:pre-wrap>Renewed   </span></td><td>0</td><td><span style=white-space:pre-wrap>renewal     </span></td><td><span style=white-space:pre-wrap>NA        </span></td><td>2020-02-19</td><td>SYNERGY WHOLESALE </td><td><span style=white-space:pre-wrap>VentraIP          </span></td><td>15</td><td>15</td><td>1</td><td>15</td><td>15</td><td>15</td><td><span style=white-space:pre-wrap>funventraip          </span></td><td><span style=white-space:pre-wrap>letterific   </span></td><td>l</td><td>10</td><td>10l</td><td>1</td><td>2.708050</td><td>5.97</td><td><span style=white-space:pre-wrap>letterific   </span></td><td>1</td><td>1</td><td>1</td><td><span style=white-space:pre-wrap>       NA</span></td><td><span style=white-space:pre-wrap>   NA</span></td><td><span style=white-space:pre-wrap>   NA</span></td><td><span style=white-space:pre-wrap>     NA</span></td><td><span style=white-space:pre-wrap>       NA</span></td><td><span style=white-space:pre-wrap>       NA</span></td><td>0.3333333</td></tr>\n",
       "\t<tr><th scope=row>5</th><td>fun</td><td>Canada                 </td><td>(5,10] </td><td>shopify           </td><td>Canada   </td><td> 98381634</td><td>FirstTime</td><td>1</td><td>2020-03-29</td><td>abtractstore.fun </td><td>2019-03-29</td><td>Active</td><td>tucows            </td><td>Non China</td><td>1</td><td>NA</td><td>Not Renewd</td><td>0</td><td>auto-renewal</td><td>unrealized</td><td>2020-03-29</td><td>Tucows            </td><td>Shopify           </td><td> 8</td><td> 8</td><td>1</td><td>15</td><td>15</td><td> 8</td><td>funshopify           </td><td>abtractstore </td><td>l</td><td>12</td><td>12l</td><td>1</td><td>2.079442</td><td>5.45</td><td>abtractstore </td><td>1</td><td>1</td><td>1</td><td>0.2172645</td><td>0.277</td><td>0.067</td><td>0.28220</td><td>0.2351863</td><td>0.2068615</td><td>0.5263158</td></tr>\n",
       "\t<tr><th scope=row>6</th><td>fun</td><td>Canada                 </td><td>(5,10] </td><td>hover             </td><td>Canada   </td><td>104937931</td><td>FirstTime</td><td>1</td><td>2020-05-26</td><td>futurefantasy.fun</td><td>2019-05-26</td><td>Active</td><td>tucows            </td><td>Non China</td><td>1</td><td>NA</td><td>Renewed   </td><td>0</td><td>renewal     </td><td>NA        </td><td>2020-05-25</td><td>Tucows            </td><td>Hover             </td><td> 8</td><td> 8</td><td>1</td><td>15</td><td>15</td><td> 8</td><td>funhover             </td><td>futurefantasy</td><td>l</td><td>13</td><td>13l</td><td>1</td><td>2.079442</td><td>5.61</td><td>futurefantasy</td><td>1</td><td>1</td><td>1</td><td>0.6261119</td><td>0.624</td><td>0.267</td><td>0.59825</td><td>0.5677353</td><td>0.4933172</td><td>0.5263158</td></tr>\n",
       "</tbody>\n",
       "</table>\n"
      ],
      "text/latex": [
       "A data.frame: 6 × 48\n",
       "\\begin{tabular}{r|llllllllllllllllllllllllllllllllllllllllllllllll}\n",
       "  & tld & reseller\\_geo & reg\\_arpt\\_slab & reseller & reseller\\_country & domain\\_id & renewal\\_type & renewed\\_count & expiry\\_date & domain & creation\\_date & status & registrar & region & reg\\_period & registrant\\_country & renewal\\_status & renew\\_mbg & renew\\_type & autorenew\\_type & renew\\_date & renew\\_registrar & renew\\_reseller & reg\\_revenue & reg\\_arpt & renew\\_period & renew\\_domain\\_revenue & renew\\_arpt & reg\\_arpt\\_org & tld\\_registrar\\_index & sld & sld\\_type & sld\\_length & sld\\_type2 & day\\_domains & log\\_reg\\_arpt & gibb\\_score & pattern & cluster & pattern\\_score & pattern\\_domain\\_count & pred\\_df\\_seg2\\_glm & pred\\_df\\_seg\\_glm & pred\\_df\\_agg\\_glm & pred\\_df\\_seg2\\_rf & pred\\_df\\_seg\\_rf & pred\\_df\\_agg\\_rf & renewal\\_rate\\\\\n",
       "  & <fct> & <fct> & <fct> & <chr> & <chr> & <int> & <chr> & <int> & <date> & <chr> & <date> & <chr> & <chr> & <chr> & <int> & <chr> & <fct> & <int> & <chr> & <chr> & <date> & <chr> & <chr> & <dbl> & <dbl> & <int> & <dbl> & <dbl> & <dbl> & <chr> & <chr> & <fct> & <int> & <chr> & <int> & <dbl> & <dbl> & <chr> & <chr> & <dbl> & <int> & <dbl> & <dbl> & <dbl> & <dbl> & <dbl> & <dbl> & <dbl>\\\\\n",
       "\\hline\n",
       "\t1 & fun & Australia \\& New Zealand & (3,5{]}   & instra corporation & Australia & 104893671 & FirstTime & 1 & 2020-05-25 & laur.fun          & 2019-05-25 & Active & instra corporation & Non China & 1 & NA & Not Renewd & 0 & auto-renewal & NA         & 2020-05-25 & Instra Corporation & Instra Corporation &  4 &  4 & 1 & 15 & 15 &  4 & funinstra corporation & laur          & l &  4 & 4l  & 1 & 1.386294 & 5.48 & laur          & 1 & 1 & 1 &        NA & 0.000 & 0.151 & 0.00000 & 0.1851779 & 0.3718108 & 0.2500000\\\\\n",
       "\t2 & fun & Australia \\& New Zealand & (3,5{]}   & instra corporation & Australia &  99540944 & FirstTime & 1 & 2020-04-10 & oferty.fun        & 2019-04-10 & Active & instra corporation & Non China & 1 & NA & Not Renewd & 0 & auto-renewal & unrealized & 2020-04-10 & Instra Corporation & Instra Corporation &  4 &  4 & 1 & 15 & 15 &  4 & funinstra corporation & oferty        & l &  6 & 6l  & 1 & 1.386294 & 6.03 & oferty        & 1 & 1 & 1 &        NA & 0.000 & 0.146 & 0.00000 & 0.2157494 & 0.3943426 & 0.2500000\\\\\n",
       "\t3 & fun & Australia \\& New Zealand & (5,10{]}  & crazy domains      & Australia &  62376247 & FirstTime & 1 & 2020-03-07 & tennisladder.fun  & 2018-03-07 & Active & crazy domains      & Non China & 2 & NA & Not Renewd & 0 & auto-renewal & unrealized & 2020-03-07 & Crazy Domains      & Crazy Domains      & 18 &  9 & 1 & 15 & 15 &  9 & funcrazy domains      & tennisladder  & l & 12 & 12l & 1 & 2.197225 & 4.85 & tennisladder  & 1 & 1 & 1 & 1.0000000 & 0.400 & 0.334 & 0.42460 & 0.5788189 & 0.6221085 & 0.5000000\\\\\n",
       "\t4 & fun & Australia \\& New Zealand & (10,15{]} & ventraip           & Australia &  95252714 & FirstTime & 1 & 2020-03-03 & letterific.fun    & 2019-03-03 & Active & synergy wholesale  & Non China & 1 & NA & Renewed    & 0 & renewal      & NA         & 2020-02-19 & SYNERGY WHOLESALE  & VentraIP           & 15 & 15 & 1 & 15 & 15 & 15 & funventraip           & letterific    & l & 10 & 10l & 1 & 2.708050 & 5.97 & letterific    & 1 & 1 & 1 &        NA &    NA &    NA &      NA &        NA &        NA & 0.3333333\\\\\n",
       "\t5 & fun & Canada                  & (5,10{]}  & shopify            & Canada    &  98381634 & FirstTime & 1 & 2020-03-29 & abtractstore.fun  & 2019-03-29 & Active & tucows             & Non China & 1 & NA & Not Renewd & 0 & auto-renewal & unrealized & 2020-03-29 & Tucows             & Shopify            &  8 &  8 & 1 & 15 & 15 &  8 & funshopify            & abtractstore  & l & 12 & 12l & 1 & 2.079442 & 5.45 & abtractstore  & 1 & 1 & 1 & 0.2172645 & 0.277 & 0.067 & 0.28220 & 0.2351863 & 0.2068615 & 0.5263158\\\\\n",
       "\t6 & fun & Canada                  & (5,10{]}  & hover              & Canada    & 104937931 & FirstTime & 1 & 2020-05-26 & futurefantasy.fun & 2019-05-26 & Active & tucows             & Non China & 1 & NA & Renewed    & 0 & renewal      & NA         & 2020-05-25 & Tucows             & Hover              &  8 &  8 & 1 & 15 & 15 &  8 & funhover              & futurefantasy & l & 13 & 13l & 1 & 2.079442 & 5.61 & futurefantasy & 1 & 1 & 1 & 0.6261119 & 0.624 & 0.267 & 0.59825 & 0.5677353 & 0.4933172 & 0.5263158\\\\\n",
       "\\end{tabular}\n"
      ],
      "text/markdown": [
       "\n",
       "A data.frame: 6 × 48\n",
       "\n",
       "| <!--/--> | tld &lt;fct&gt; | reseller_geo &lt;fct&gt; | reg_arpt_slab &lt;fct&gt; | reseller &lt;chr&gt; | reseller_country &lt;chr&gt; | domain_id &lt;int&gt; | renewal_type &lt;chr&gt; | renewed_count &lt;int&gt; | expiry_date &lt;date&gt; | domain &lt;chr&gt; | creation_date &lt;date&gt; | status &lt;chr&gt; | registrar &lt;chr&gt; | region &lt;chr&gt; | reg_period &lt;int&gt; | registrant_country &lt;chr&gt; | renewal_status &lt;fct&gt; | renew_mbg &lt;int&gt; | renew_type &lt;chr&gt; | autorenew_type &lt;chr&gt; | renew_date &lt;date&gt; | renew_registrar &lt;chr&gt; | renew_reseller &lt;chr&gt; | reg_revenue &lt;dbl&gt; | reg_arpt &lt;dbl&gt; | renew_period &lt;int&gt; | renew_domain_revenue &lt;dbl&gt; | renew_arpt &lt;dbl&gt; | reg_arpt_org &lt;dbl&gt; | tld_registrar_index &lt;chr&gt; | sld &lt;chr&gt; | sld_type &lt;fct&gt; | sld_length &lt;int&gt; | sld_type2 &lt;chr&gt; | day_domains &lt;int&gt; | log_reg_arpt &lt;dbl&gt; | gibb_score &lt;dbl&gt; | pattern &lt;chr&gt; | cluster &lt;chr&gt; | pattern_score &lt;dbl&gt; | pattern_domain_count &lt;int&gt; | pred_df_seg2_glm &lt;dbl&gt; | pred_df_seg_glm &lt;dbl&gt; | pred_df_agg_glm &lt;dbl&gt; | pred_df_seg2_rf &lt;dbl&gt; | pred_df_seg_rf &lt;dbl&gt; | pred_df_agg_rf &lt;dbl&gt; | renewal_rate &lt;dbl&gt; |\n",
       "|---|---|---|---|---|---|---|---|---|---|---|---|---|---|---|---|---|---|---|---|---|---|---|---|---|---|---|---|---|---|---|---|---|---|---|---|---|---|---|---|---|---|---|---|---|---|---|---|---|\n",
       "| 1 | fun | Australia &amp; New Zealand | (3,5]   | instra corporation | Australia | 104893671 | FirstTime | 1 | 2020-05-25 | laur.fun          | 2019-05-25 | Active | instra corporation | Non China | 1 | NA | Not Renewd | 0 | auto-renewal | NA         | 2020-05-25 | Instra Corporation | Instra Corporation |  4 |  4 | 1 | 15 | 15 |  4 | funinstra corporation | laur          | l |  4 | 4l  | 1 | 1.386294 | 5.48 | laur          | 1 | 1 | 1 |        NA | 0.000 | 0.151 | 0.00000 | 0.1851779 | 0.3718108 | 0.2500000 |\n",
       "| 2 | fun | Australia &amp; New Zealand | (3,5]   | instra corporation | Australia |  99540944 | FirstTime | 1 | 2020-04-10 | oferty.fun        | 2019-04-10 | Active | instra corporation | Non China | 1 | NA | Not Renewd | 0 | auto-renewal | unrealized | 2020-04-10 | Instra Corporation | Instra Corporation |  4 |  4 | 1 | 15 | 15 |  4 | funinstra corporation | oferty        | l |  6 | 6l  | 1 | 1.386294 | 6.03 | oferty        | 1 | 1 | 1 |        NA | 0.000 | 0.146 | 0.00000 | 0.2157494 | 0.3943426 | 0.2500000 |\n",
       "| 3 | fun | Australia &amp; New Zealand | (5,10]  | crazy domains      | Australia |  62376247 | FirstTime | 1 | 2020-03-07 | tennisladder.fun  | 2018-03-07 | Active | crazy domains      | Non China | 2 | NA | Not Renewd | 0 | auto-renewal | unrealized | 2020-03-07 | Crazy Domains      | Crazy Domains      | 18 |  9 | 1 | 15 | 15 |  9 | funcrazy domains      | tennisladder  | l | 12 | 12l | 1 | 2.197225 | 4.85 | tennisladder  | 1 | 1 | 1 | 1.0000000 | 0.400 | 0.334 | 0.42460 | 0.5788189 | 0.6221085 | 0.5000000 |\n",
       "| 4 | fun | Australia &amp; New Zealand | (10,15] | ventraip           | Australia |  95252714 | FirstTime | 1 | 2020-03-03 | letterific.fun    | 2019-03-03 | Active | synergy wholesale  | Non China | 1 | NA | Renewed    | 0 | renewal      | NA         | 2020-02-19 | SYNERGY WHOLESALE  | VentraIP           | 15 | 15 | 1 | 15 | 15 | 15 | funventraip           | letterific    | l | 10 | 10l | 1 | 2.708050 | 5.97 | letterific    | 1 | 1 | 1 |        NA |    NA |    NA |      NA |        NA |        NA | 0.3333333 |\n",
       "| 5 | fun | Canada                  | (5,10]  | shopify            | Canada    |  98381634 | FirstTime | 1 | 2020-03-29 | abtractstore.fun  | 2019-03-29 | Active | tucows             | Non China | 1 | NA | Not Renewd | 0 | auto-renewal | unrealized | 2020-03-29 | Tucows             | Shopify            |  8 |  8 | 1 | 15 | 15 |  8 | funshopify            | abtractstore  | l | 12 | 12l | 1 | 2.079442 | 5.45 | abtractstore  | 1 | 1 | 1 | 0.2172645 | 0.277 | 0.067 | 0.28220 | 0.2351863 | 0.2068615 | 0.5263158 |\n",
       "| 6 | fun | Canada                  | (5,10]  | hover              | Canada    | 104937931 | FirstTime | 1 | 2020-05-26 | futurefantasy.fun | 2019-05-26 | Active | tucows             | Non China | 1 | NA | Renewed    | 0 | renewal      | NA         | 2020-05-25 | Tucows             | Hover              |  8 |  8 | 1 | 15 | 15 |  8 | funhover              | futurefantasy | l | 13 | 13l | 1 | 2.079442 | 5.61 | futurefantasy | 1 | 1 | 1 | 0.6261119 | 0.624 | 0.267 | 0.59825 | 0.5677353 | 0.4933172 | 0.5263158 |\n",
       "\n"
      ],
      "text/plain": [
       "  tld reseller_geo            reg_arpt_slab reseller           reseller_country\n",
       "1 fun Australia & New Zealand (3,5]         instra corporation Australia       \n",
       "2 fun Australia & New Zealand (3,5]         instra corporation Australia       \n",
       "3 fun Australia & New Zealand (5,10]        crazy domains      Australia       \n",
       "4 fun Australia & New Zealand (10,15]       ventraip           Australia       \n",
       "5 fun Canada                  (5,10]        shopify            Canada          \n",
       "6 fun Canada                  (5,10]        hover              Canada          \n",
       "  domain_id renewal_type renewed_count expiry_date domain           \n",
       "1 104893671 FirstTime    1             2020-05-25  laur.fun         \n",
       "2  99540944 FirstTime    1             2020-04-10  oferty.fun       \n",
       "3  62376247 FirstTime    1             2020-03-07  tennisladder.fun \n",
       "4  95252714 FirstTime    1             2020-03-03  letterific.fun   \n",
       "5  98381634 FirstTime    1             2020-03-29  abtractstore.fun \n",
       "6 104937931 FirstTime    1             2020-05-26  futurefantasy.fun\n",
       "  creation_date status registrar          region    reg_period\n",
       "1 2019-05-25    Active instra corporation Non China 1         \n",
       "2 2019-04-10    Active instra corporation Non China 1         \n",
       "3 2018-03-07    Active crazy domains      Non China 2         \n",
       "4 2019-03-03    Active synergy wholesale  Non China 1         \n",
       "5 2019-03-29    Active tucows             Non China 1         \n",
       "6 2019-05-26    Active tucows             Non China 1         \n",
       "  registrant_country renewal_status renew_mbg renew_type   autorenew_type\n",
       "1 NA                 Not Renewd     0         auto-renewal NA            \n",
       "2 NA                 Not Renewd     0         auto-renewal unrealized    \n",
       "3 NA                 Not Renewd     0         auto-renewal unrealized    \n",
       "4 NA                 Renewed        0         renewal      NA            \n",
       "5 NA                 Not Renewd     0         auto-renewal unrealized    \n",
       "6 NA                 Renewed        0         renewal      NA            \n",
       "  renew_date renew_registrar    renew_reseller     reg_revenue reg_arpt\n",
       "1 2020-05-25 Instra Corporation Instra Corporation  4           4      \n",
       "2 2020-04-10 Instra Corporation Instra Corporation  4           4      \n",
       "3 2020-03-07 Crazy Domains      Crazy Domains      18           9      \n",
       "4 2020-02-19 SYNERGY WHOLESALE  VentraIP           15          15      \n",
       "5 2020-03-29 Tucows             Shopify             8           8      \n",
       "6 2020-05-25 Tucows             Hover               8           8      \n",
       "  renew_period renew_domain_revenue renew_arpt reg_arpt_org\n",
       "1 1            15                   15          4          \n",
       "2 1            15                   15          4          \n",
       "3 1            15                   15          9          \n",
       "4 1            15                   15         15          \n",
       "5 1            15                   15          8          \n",
       "6 1            15                   15          8          \n",
       "  tld_registrar_index   sld           sld_type sld_length sld_type2 day_domains\n",
       "1 funinstra corporation laur          l         4         4l        1          \n",
       "2 funinstra corporation oferty        l         6         6l        1          \n",
       "3 funcrazy domains      tennisladder  l        12         12l       1          \n",
       "4 funventraip           letterific    l        10         10l       1          \n",
       "5 funshopify            abtractstore  l        12         12l       1          \n",
       "6 funhover              futurefantasy l        13         13l       1          \n",
       "  log_reg_arpt gibb_score pattern       cluster pattern_score\n",
       "1 1.386294     5.48       laur          1       1            \n",
       "2 1.386294     6.03       oferty        1       1            \n",
       "3 2.197225     4.85       tennisladder  1       1            \n",
       "4 2.708050     5.97       letterific    1       1            \n",
       "5 2.079442     5.45       abtractstore  1       1            \n",
       "6 2.079442     5.61       futurefantasy 1       1            \n",
       "  pattern_domain_count pred_df_seg2_glm pred_df_seg_glm pred_df_agg_glm\n",
       "1 1                           NA        0.000           0.151          \n",
       "2 1                           NA        0.000           0.146          \n",
       "3 1                    1.0000000        0.400           0.334          \n",
       "4 1                           NA           NA              NA          \n",
       "5 1                    0.2172645        0.277           0.067          \n",
       "6 1                    0.6261119        0.624           0.267          \n",
       "  pred_df_seg2_rf pred_df_seg_rf pred_df_agg_rf renewal_rate\n",
       "1 0.00000         0.1851779      0.3718108      0.2500000   \n",
       "2 0.00000         0.2157494      0.3943426      0.2500000   \n",
       "3 0.42460         0.5788189      0.6221085      0.5000000   \n",
       "4      NA                NA             NA      0.3333333   \n",
       "5 0.28220         0.2351863      0.2068615      0.5263158   \n",
       "6 0.59825         0.5677353      0.4933172      0.5263158   "
      ]
     },
     "metadata": {},
     "output_type": "display_data"
    }
   ],
   "source": [
    "test_predictions_fallback_df_2 <- merge(test_predictions_df, \n",
    "                                      npv_fallback_first_geo_arpt_tld_2 %>% \n",
    "                                        select(tld,reseller_geo,reg_arpt_slab,renewal_rate),\n",
    "      on = c('tld', 'reseller_geo', 'reg_arpt_slab'), \n",
    "      all.x = TRUE)\n",
    "dim(test_predictions_df)\n",
    "dim(test_predictions_fallback_df_2)\n",
    "head(test_predictions_fallback_df_2)"
   ]
  },
  {
   "cell_type": "markdown",
   "metadata": {},
   "source": [
    "# Calculate overall performance metrics for models & fallback"
   ]
  },
  {
   "cell_type": "code",
   "execution_count": 73,
   "metadata": {},
   "outputs": [],
   "source": [
    "\n",
    "lift_list <- list()\n",
    "auc_list <- list()\n",
    "\n",
    "fallback_lift <- chart_lift(pred_df=test_predictions_fallback_df_2,\n",
    "                        dep_var = \"renewal_status\",\n",
    "                        pred_var = \"renewal_rate\") \n",
    "\n",
    "lift_list[[\"fallback\"]] <- fallback_lift\n",
    "auc_list[[\"fallback\"]] <- calc_auc(lift_df=fallback_lift)\n",
    "\n",
    "models <- c('pred_df_seg2_glm',\t'pred_df_seg_glm',\t'pred_df_agg_glm',\t'pred_df_seg2_rf',\t\n",
    "            'pred_df_seg_rf',\t'pred_df_agg_rf')\n",
    "\n",
    "\n",
    "for (model in models){\n",
    "    model_lift <- chart_lift(pred_df=test_predictions_fallback_df_2,\n",
    "                        dep_var = \"renewal_status\",\n",
    "                        pred_var = model) \n",
    "    \n",
    "    fallback_lift <- merge(fallback_lift, model_lift, by=c(\"P\"),all= TRUE, \n",
    "                           suffixes = c(\"\",\n",
    "                                        paste(\"_\",gsub(\"pred_df_\", \"\", model)) ))\n",
    "    \n",
    "    lift_list[[model]] <- model_lift\n",
    "    auc_list[[model]] <- calc_auc(lift_df=model_lift)\n",
    "}\n",
    "\n",
    "lift_df <- fallback_lift"
   ]
  },
  {
   "cell_type": "code",
   "execution_count": 74,
   "metadata": {},
   "outputs": [
    {
     "data": {
      "text/html": [
       "7"
      ],
      "text/latex": [
       "7"
      ],
      "text/markdown": [
       "7"
      ],
      "text/plain": [
       "[1] 7"
      ]
     },
     "metadata": {},
     "output_type": "display_data"
    },
    {
     "data": {
      "text/html": [
       "<style>\n",
       ".list-inline {list-style: none; margin:0; padding: 0}\n",
       ".list-inline>li {display: inline-block}\n",
       ".list-inline>li:not(:last-child)::after {content: \"\\00b7\"; padding: 0 .5ex}\n",
       "</style>\n",
       "<ol class=list-inline><li>'fallback'</li><li>'pred_df_seg2_glm'</li><li>'pred_df_seg_glm'</li><li>'pred_df_agg_glm'</li><li>'pred_df_seg2_rf'</li><li>'pred_df_seg_rf'</li><li>'pred_df_agg_rf'</li></ol>\n"
      ],
      "text/latex": [
       "\\begin{enumerate*}\n",
       "\\item 'fallback'\n",
       "\\item 'pred\\_df\\_seg2\\_glm'\n",
       "\\item 'pred\\_df\\_seg\\_glm'\n",
       "\\item 'pred\\_df\\_agg\\_glm'\n",
       "\\item 'pred\\_df\\_seg2\\_rf'\n",
       "\\item 'pred\\_df\\_seg\\_rf'\n",
       "\\item 'pred\\_df\\_agg\\_rf'\n",
       "\\end{enumerate*}\n"
      ],
      "text/markdown": [
       "1. 'fallback'\n",
       "2. 'pred_df_seg2_glm'\n",
       "3. 'pred_df_seg_glm'\n",
       "4. 'pred_df_agg_glm'\n",
       "5. 'pred_df_seg2_rf'\n",
       "6. 'pred_df_seg_rf'\n",
       "7. 'pred_df_agg_rf'\n",
       "\n",
       "\n"
      ],
      "text/plain": [
       "[1] \"fallback\"         \"pred_df_seg2_glm\" \"pred_df_seg_glm\"  \"pred_df_agg_glm\" \n",
       "[5] \"pred_df_seg2_rf\"  \"pred_df_seg_rf\"   \"pred_df_agg_rf\"  "
      ]
     },
     "metadata": {},
     "output_type": "display_data"
    },
    {
     "data": {
      "text/html": [
       "<table>\n",
       "<caption>A matrix: 2 × 7 of type int</caption>\n",
       "<thead>\n",
       "\t<tr><th scope=col>fallback</th><th scope=col>pred_df_seg2_glm</th><th scope=col>pred_df_seg_glm</th><th scope=col>pred_df_agg_glm</th><th scope=col>pred_df_seg2_rf</th><th scope=col>pred_df_seg_rf</th><th scope=col>pred_df_agg_rf</th></tr>\n",
       "</thead>\n",
       "<tbody>\n",
       "\t<tr><td>10</td><td>10</td><td>10</td><td>10</td><td>10</td><td>10</td><td>10</td></tr>\n",
       "\t<tr><td> 4</td><td> 4</td><td> 4</td><td> 4</td><td> 4</td><td> 4</td><td> 4</td></tr>\n",
       "</tbody>\n",
       "</table>\n"
      ],
      "text/latex": [
       "A matrix: 2 × 7 of type int\n",
       "\\begin{tabular}{lllllll}\n",
       " fallback & pred\\_df\\_seg2\\_glm & pred\\_df\\_seg\\_glm & pred\\_df\\_agg\\_glm & pred\\_df\\_seg2\\_rf & pred\\_df\\_seg\\_rf & pred\\_df\\_agg\\_rf\\\\\n",
       "\\hline\n",
       "\t 10 & 10 & 10 & 10 & 10 & 10 & 10\\\\\n",
       "\t  4 &  4 &  4 &  4 &  4 &  4 &  4\\\\\n",
       "\\end{tabular}\n"
      ],
      "text/markdown": [
       "\n",
       "A matrix: 2 × 7 of type int\n",
       "\n",
       "| fallback | pred_df_seg2_glm | pred_df_seg_glm | pred_df_agg_glm | pred_df_seg2_rf | pred_df_seg_rf | pred_df_agg_rf |\n",
       "|---|---|---|---|---|---|---|\n",
       "| 10 | 10 | 10 | 10 | 10 | 10 | 10 |\n",
       "|  4 |  4 |  4 |  4 |  4 |  4 |  4 |\n",
       "\n"
      ],
      "text/plain": [
       "     fallback pred_df_seg2_glm pred_df_seg_glm pred_df_agg_glm pred_df_seg2_rf\n",
       "[1,] 10       10               10              10              10             \n",
       "[2,]  4        4                4               4               4             \n",
       "     pred_df_seg_rf pred_df_agg_rf\n",
       "[1,] 10             10            \n",
       "[2,]  4              4            "
      ]
     },
     "metadata": {},
     "output_type": "display_data"
    },
    {
     "data": {
      "text/html": [
       "<strong>$pred_df_seg2_glm</strong> = <table>\n",
       "<caption>A data.frame: 10 × 4</caption>\n",
       "<thead>\n",
       "\t<tr><th scope=col>P</th><th scope=col>actu_renwd2</th><th scope=col>gain</th><th scope=col>lift</th></tr>\n",
       "\t<tr><th scope=col>&lt;dbl&gt;</th><th scope=col>&lt;int&gt;</th><th scope=col>&lt;dbl&gt;</th><th scope=col>&lt;dbl&gt;</th></tr>\n",
       "</thead>\n",
       "<tbody>\n",
       "\t<tr><td>0.1</td><td>12787</td><td>0.4708893</td><td>4.708893</td></tr>\n",
       "\t<tr><td>0.2</td><td>18692</td><td>0.6883447</td><td>3.441723</td></tr>\n",
       "\t<tr><td>0.3</td><td>21933</td><td>0.8076966</td><td>2.692322</td></tr>\n",
       "\t<tr><td>0.4</td><td>24000</td><td>0.8838151</td><td>2.209538</td></tr>\n",
       "\t<tr><td>0.5</td><td>25227</td><td>0.9290002</td><td>1.858000</td></tr>\n",
       "\t<tr><td>0.6</td><td>25947</td><td>0.9555146</td><td>1.592524</td></tr>\n",
       "\t<tr><td>0.7</td><td>26325</td><td>0.9694347</td><td>1.384907</td></tr>\n",
       "\t<tr><td>0.8</td><td>26587</td><td>0.9790830</td><td>1.223854</td></tr>\n",
       "\t<tr><td>0.9</td><td>26647</td><td>0.9812926</td><td>1.090325</td></tr>\n",
       "\t<tr><td>1.0</td><td>27155</td><td>1.0000000</td><td>1.000000</td></tr>\n",
       "</tbody>\n",
       "</table>\n"
      ],
      "text/latex": [
       "\\textbf{\\$pred\\_df\\_seg2\\_glm} = A data.frame: 10 × 4\n",
       "\\begin{tabular}{llll}\n",
       " P & actu\\_renwd2 & gain & lift\\\\\n",
       " <dbl> & <int> & <dbl> & <dbl>\\\\\n",
       "\\hline\n",
       "\t 0.1 & 12787 & 0.4708893 & 4.708893\\\\\n",
       "\t 0.2 & 18692 & 0.6883447 & 3.441723\\\\\n",
       "\t 0.3 & 21933 & 0.8076966 & 2.692322\\\\\n",
       "\t 0.4 & 24000 & 0.8838151 & 2.209538\\\\\n",
       "\t 0.5 & 25227 & 0.9290002 & 1.858000\\\\\n",
       "\t 0.6 & 25947 & 0.9555146 & 1.592524\\\\\n",
       "\t 0.7 & 26325 & 0.9694347 & 1.384907\\\\\n",
       "\t 0.8 & 26587 & 0.9790830 & 1.223854\\\\\n",
       "\t 0.9 & 26647 & 0.9812926 & 1.090325\\\\\n",
       "\t 1.0 & 27155 & 1.0000000 & 1.000000\\\\\n",
       "\\end{tabular}\n"
      ],
      "text/markdown": [
       "**$pred_df_seg2_glm** = \n",
       "A data.frame: 10 × 4\n",
       "\n",
       "| P &lt;dbl&gt; | actu_renwd2 &lt;int&gt; | gain &lt;dbl&gt; | lift &lt;dbl&gt; |\n",
       "|---|---|---|---|\n",
       "| 0.1 | 12787 | 0.4708893 | 4.708893 |\n",
       "| 0.2 | 18692 | 0.6883447 | 3.441723 |\n",
       "| 0.3 | 21933 | 0.8076966 | 2.692322 |\n",
       "| 0.4 | 24000 | 0.8838151 | 2.209538 |\n",
       "| 0.5 | 25227 | 0.9290002 | 1.858000 |\n",
       "| 0.6 | 25947 | 0.9555146 | 1.592524 |\n",
       "| 0.7 | 26325 | 0.9694347 | 1.384907 |\n",
       "| 0.8 | 26587 | 0.9790830 | 1.223854 |\n",
       "| 0.9 | 26647 | 0.9812926 | 1.090325 |\n",
       "| 1.0 | 27155 | 1.0000000 | 1.000000 |\n",
       "\n"
      ],
      "text/plain": [
       "$pred_df_seg2_glm\n",
       "     P actu_renwd2      gain     lift\n",
       "1  0.1       12787 0.4708893 4.708893\n",
       "2  0.2       18692 0.6883447 3.441723\n",
       "3  0.3       21933 0.8076966 2.692322\n",
       "4  0.4       24000 0.8838151 2.209538\n",
       "5  0.5       25227 0.9290002 1.858000\n",
       "6  0.6       25947 0.9555146 1.592524\n",
       "7  0.7       26325 0.9694347 1.384907\n",
       "8  0.8       26587 0.9790830 1.223854\n",
       "9  0.9       26647 0.9812926 1.090325\n",
       "10 1.0       27155 1.0000000 1.000000\n"
      ]
     },
     "metadata": {},
     "output_type": "display_data"
    }
   ],
   "source": [
    "length(lift_list)\n",
    "names(lift_list)\n",
    "sapply(lift_list, dim)\n",
    "lift_list[\"pred_df_seg2_glm\"]"
   ]
  },
  {
   "cell_type": "code",
   "execution_count": 83,
   "metadata": {},
   "outputs": [
    {
     "data": {
      "text/plain": [
       "\n",
       "   Renewed Not Renewd \n",
       "0.09149351 0.90850649 "
      ]
     },
     "metadata": {},
     "output_type": "display_data"
    }
   ],
   "source": [
    "prop.table(table(expiry_test_df_1$renewal_status))"
   ]
  },
  {
   "cell_type": "code",
   "execution_count": 85,
   "metadata": {},
   "outputs": [],
   "source": [
    "plot_multigains <- function (lift_df_list=list(seg_glm = lift_df, \n",
    "                                               ben_dtr = lift_df_2),\n",
    "                             auc_list = list(seg_glm = auc, \n",
    "                                             ben_dtr=auc_2),\n",
    "                             prop_positive = 0.1121167) {\n",
    "  \n",
    "  optimal_df <- data.frame( \"P\"=c(0,prop_positive,1.0),\n",
    "                            \"actu_renwd2\"=c(NA,NA,NA),\n",
    "                            \"gain\"=c(0,1.0,1.0),\n",
    "                            \"lift\"=c(NA,NA,NA))\n",
    "  \n",
    "  lift_df_list <- lapply(lift_df_list, function(df) {\n",
    "    df <- df %>%\n",
    "      add_row(P = 0, gain =0) %>%\n",
    "      arrange(P)\n",
    "  })\n",
    "\n",
    "  auc_lift_list = paste(lapply(auc_list, round, 3),sapply(lift_df_list, function(x) round(x[2,\"lift\"],2)), sep=\", \")\n",
    "  \n",
    "  auc_map = paste(names(lift_df_list),auc_lift_list, sep=\" = \")[1:length(lift_df_list)]\n",
    "  \n",
    "  \n",
    "  gains_plot <- ggplot(NULL, aes(P,  gain)) +\n",
    "    geom_line(data = lift_df_list[[1]] %>% slice(1, n())) +\n",
    "    \n",
    "    list(geom_line(data=optimal_df), geom_point(data=optimal_df)) +\n",
    "    \n",
    "    scale_y_continuous(breaks = seq(0, 1, by = .1), limits = c(0,1)) +\n",
    "    scale_x_continuous(breaks = seq(0, 1, by = .1)) +\n",
    "    labs(title = \"Cumulative Gains Plot\",\n",
    "         y = \"Cumulative Gain\",\n",
    "         x = \"Percentile\")+\n",
    "    theme(text = element_text(size=20))\n",
    "  \n",
    "  for(i in seq(length(lift_df_list))){\n",
    "    name = names(lift_df_list)[[i]]\n",
    "    df = lift_df_list[[i]]\n",
    "    auc = auc_list[[i]]\n",
    "    gains_plot <- gains_plot + list(geom_line(data=df), \n",
    "                                    geom_point(data=df))+ \n",
    "      annotate(\"text\", x = .4, y = .6-i*.075, hjust = 0, label = auc_map[[i]], size = 6)\n",
    "  }\n",
    "  \n",
    "  \n",
    "  return(gains_plot)\n",
    "}\n"
   ]
  },
  {
   "cell_type": "code",
   "execution_count": 86,
   "metadata": {},
   "outputs": [
    {
     "data": {
      "image/png": "[encoded data removed]",
      "text/plain": [
       "plot without title"
      ]
     },
     "metadata": {
      "image/png": {
       "height": 420,
       "width": 420
      },
      "text/plain": {
       "height": 420,
       "width": 420
      }
     },
     "output_type": "display_data"
    }
   ],
   "source": [
    "plot_multigains(            lift_df_list=lift_list,\n",
    "                             auc_list = auc_list,\n",
    "                             prop_positive = 0.09149351) "
   ]
  },
  {
   "cell_type": "markdown",
   "metadata": {},
   "source": [
    "# Now with... using fallback for a subset of tld-resellers"
   ]
  },
  {
   "cell_type": "code",
   "execution_count": 88,
   "metadata": {},
   "outputs": [
    {
     "data": {
      "text/html": [
       "<style>\n",
       ".list-inline {list-style: none; margin:0; padding: 0}\n",
       ".list-inline>li {display: inline-block}\n",
       ".list-inline>li:not(:last-child)::after {content: \"\\00b7\"; padding: 0 .5ex}\n",
       "</style>\n",
       "<ol class=list-inline><li>'renewal_type'</li><li>'renewed_count'</li><li>'expiry_date'</li><li>'domain_id'</li><li>'domain'</li><li>'creation_date'</li><li>'status'</li><li>'tld'</li><li>'registrar'</li><li>'reseller'</li><li>'reseller_country'</li><li>'region'</li><li>'reg_period'</li><li>'registrant_country'</li><li>'renewal_status'</li><li>'renew_mbg'</li><li>'renew_type'</li><li>'autorenew_type'</li><li>'renew_date'</li><li>'renew_registrar'</li><li>'renew_reseller'</li><li>'reg_revenue'</li><li>'reg_arpt'</li><li>'renew_period'</li><li>'renew_domain_revenue'</li><li>'renew_arpt'</li><li>'reg_arpt_org'</li><li>'tld_registrar_index'</li><li>'sld'</li><li>'sld_type'</li><li>'sld_length'</li><li>'sld_type2'</li><li>'day_domains'</li><li>'log_reg_arpt'</li><li>'gibb_score'</li><li>'pattern'</li><li>'cluster'</li><li>'pattern_score'</li><li>'pattern_domain_count'</li></ol>\n"
      ],
      "text/latex": [
       "\\begin{enumerate*}\n",
       "\\item 'renewal\\_type'\n",
       "\\item 'renewed\\_count'\n",
       "\\item 'expiry\\_date'\n",
       "\\item 'domain\\_id'\n",
       "\\item 'domain'\n",
       "\\item 'creation\\_date'\n",
       "\\item 'status'\n",
       "\\item 'tld'\n",
       "\\item 'registrar'\n",
       "\\item 'reseller'\n",
       "\\item 'reseller\\_country'\n",
       "\\item 'region'\n",
       "\\item 'reg\\_period'\n",
       "\\item 'registrant\\_country'\n",
       "\\item 'renewal\\_status'\n",
       "\\item 'renew\\_mbg'\n",
       "\\item 'renew\\_type'\n",
       "\\item 'autorenew\\_type'\n",
       "\\item 'renew\\_date'\n",
       "\\item 'renew\\_registrar'\n",
       "\\item 'renew\\_reseller'\n",
       "\\item 'reg\\_revenue'\n",
       "\\item 'reg\\_arpt'\n",
       "\\item 'renew\\_period'\n",
       "\\item 'renew\\_domain\\_revenue'\n",
       "\\item 'renew\\_arpt'\n",
       "\\item 'reg\\_arpt\\_org'\n",
       "\\item 'tld\\_registrar\\_index'\n",
       "\\item 'sld'\n",
       "\\item 'sld\\_type'\n",
       "\\item 'sld\\_length'\n",
       "\\item 'sld\\_type2'\n",
       "\\item 'day\\_domains'\n",
       "\\item 'log\\_reg\\_arpt'\n",
       "\\item 'gibb\\_score'\n",
       "\\item 'pattern'\n",
       "\\item 'cluster'\n",
       "\\item 'pattern\\_score'\n",
       "\\item 'pattern\\_domain\\_count'\n",
       "\\end{enumerate*}\n"
      ],
      "text/markdown": [
       "1. 'renewal_type'\n",
       "2. 'renewed_count'\n",
       "3. 'expiry_date'\n",
       "4. 'domain_id'\n",
       "5. 'domain'\n",
       "6. 'creation_date'\n",
       "7. 'status'\n",
       "8. 'tld'\n",
       "9. 'registrar'\n",
       "10. 'reseller'\n",
       "11. 'reseller_country'\n",
       "12. 'region'\n",
       "13. 'reg_period'\n",
       "14. 'registrant_country'\n",
       "15. 'renewal_status'\n",
       "16. 'renew_mbg'\n",
       "17. 'renew_type'\n",
       "18. 'autorenew_type'\n",
       "19. 'renew_date'\n",
       "20. 'renew_registrar'\n",
       "21. 'renew_reseller'\n",
       "22. 'reg_revenue'\n",
       "23. 'reg_arpt'\n",
       "24. 'renew_period'\n",
       "25. 'renew_domain_revenue'\n",
       "26. 'renew_arpt'\n",
       "27. 'reg_arpt_org'\n",
       "28. 'tld_registrar_index'\n",
       "29. 'sld'\n",
       "30. 'sld_type'\n",
       "31. 'sld_length'\n",
       "32. 'sld_type2'\n",
       "33. 'day_domains'\n",
       "34. 'log_reg_arpt'\n",
       "35. 'gibb_score'\n",
       "36. 'pattern'\n",
       "37. 'cluster'\n",
       "38. 'pattern_score'\n",
       "39. 'pattern_domain_count'\n",
       "\n",
       "\n"
      ],
      "text/plain": [
       " [1] \"renewal_type\"         \"renewed_count\"        \"expiry_date\"         \n",
       " [4] \"domain_id\"            \"domain\"               \"creation_date\"       \n",
       " [7] \"status\"               \"tld\"                  \"registrar\"           \n",
       "[10] \"reseller\"             \"reseller_country\"     \"region\"              \n",
       "[13] \"reg_period\"           \"registrant_country\"   \"renewal_status\"      \n",
       "[16] \"renew_mbg\"            \"renew_type\"           \"autorenew_type\"      \n",
       "[19] \"renew_date\"           \"renew_registrar\"      \"renew_reseller\"      \n",
       "[22] \"reg_revenue\"          \"reg_arpt\"             \"renew_period\"        \n",
       "[25] \"renew_domain_revenue\" \"renew_arpt\"           \"reg_arpt_org\"        \n",
       "[28] \"tld_registrar_index\"  \"sld\"                  \"sld_type\"            \n",
       "[31] \"sld_length\"           \"sld_type2\"            \"day_domains\"         \n",
       "[34] \"log_reg_arpt\"         \"gibb_score\"           \"pattern\"             \n",
       "[37] \"cluster\"              \"pattern_score\"        \"pattern_domain_count\""
      ]
     },
     "metadata": {},
     "output_type": "display_data"
    }
   ],
   "source": [
    "names(expiry_test_df_1)"
   ]
  },
  {
   "cell_type": "code",
   "execution_count": 102,
   "metadata": {},
   "outputs": [
    {
     "data": {
      "text/html": [
       "258"
      ],
      "text/latex": [
       "258"
      ],
      "text/markdown": [
       "258"
      ],
      "text/plain": [
       "[1] 258"
      ]
     },
     "metadata": {},
     "output_type": "display_data"
    },
    {
     "data": {
      "text/html": [
       "<style>\n",
       ".list-inline {list-style: none; margin:0; padding: 0}\n",
       ".list-inline>li {display: inline-block}\n",
       ".list-inline>li:not(:last-child)::after {content: \"\\00b7\"; padding: 0 .5ex}\n",
       "</style>\n",
       "<ol class=list-inline><li>'funcheck domain'</li><li>'funcrazy domains'</li><li>'funeasydns'</li><li>'funhostgator brazil'</li><li>'funhosting concepts'</li><li>'funhostpoint'</li></ol>\n"
      ],
      "text/latex": [
       "\\begin{enumerate*}\n",
       "\\item 'funcheck domain'\n",
       "\\item 'funcrazy domains'\n",
       "\\item 'funeasydns'\n",
       "\\item 'funhostgator brazil'\n",
       "\\item 'funhosting concepts'\n",
       "\\item 'funhostpoint'\n",
       "\\end{enumerate*}\n"
      ],
      "text/markdown": [
       "1. 'funcheck domain'\n",
       "2. 'funcrazy domains'\n",
       "3. 'funeasydns'\n",
       "4. 'funhostgator brazil'\n",
       "5. 'funhosting concepts'\n",
       "6. 'funhostpoint'\n",
       "\n",
       "\n"
      ],
      "text/plain": [
       "[1] \"funcheck domain\"     \"funcrazy domains\"    \"funeasydns\"         \n",
       "[4] \"funhostgator brazil\" \"funhosting concepts\" \"funhostpoint\"       "
      ]
     },
     "metadata": {},
     "output_type": "display_data"
    }
   ],
   "source": [
    "# select those with 1 domain renewing\n",
    "tld_resellers_4fallback <- expiry_test_df_1 %>%\n",
    "  group_by(tld_registrar_index) %>%\n",
    "  count() %>%\n",
    "  filter(n==1) %>%\n",
    "  pull(tld_registrar_index)\n",
    "\n",
    "length(tld_resellers_4fallback)\n",
    "head(tld_resellers_4fallback)"
   ]
  },
  {
   "cell_type": "code",
   "execution_count": 104,
   "metadata": {},
   "outputs": [],
   "source": [
    "`%notin%` <- Negate(`%in%`)\n",
    "\n",
    "test_predictions_fallback_df_2 <- test_predictions_fallback_df_2 %>% \n",
    "  mutate(pred_df_seg2_glm_fb = \n",
    "           renewal_rate * (tld_registrar_index %in% c(tld_resellers_4fallback)) + \n",
    "           pred_df_seg2_glm * (tld_registrar_index %notin% c(tld_resellers_4fallback)),\n",
    "        pred_df_seg_glm_fb = \n",
    "           renewal_rate * (tld_registrar_index %in% c(tld_resellers_4fallback)) + \n",
    "           pred_df_seg_glm * (tld_registrar_index %notin% c(tld_resellers_4fallback)),\n",
    "        pred_df_agg_glm_fb = \n",
    "           renewal_rate * (tld_registrar_index %in% c(tld_resellers_4fallback)) + \n",
    "           pred_df_agg_glm * (tld_registrar_index %notin% c(tld_resellers_4fallback)),\n",
    "        pred_df_seg2_rf_fb = \n",
    "           renewal_rate * (tld_registrar_index %in% c(tld_resellers_4fallback)) + \n",
    "           pred_df_seg2_rf * (tld_registrar_index %notin% c(tld_resellers_4fallback)),\n",
    "        pred_df_seg_rf_fb = \n",
    "           renewal_rate * (tld_registrar_index %in% c(tld_resellers_4fallback)) + \n",
    "           pred_df_seg_rf * (tld_registrar_index %notin% c(tld_resellers_4fallback)),\n",
    "        pred_df_agg_rf_fb = \n",
    "           renewal_rate * (tld_registrar_index %in% c(tld_resellers_4fallback)) + \n",
    "           pred_df_agg_rf * (tld_registrar_index %notin% c(tld_resellers_4fallback)),\n",
    "        \n",
    "        )\n"
   ]
  },
  {
   "cell_type": "code",
   "execution_count": 101,
   "metadata": {},
   "outputs": [
    {
     "data": {
      "text/html": [
       "<table>\n",
       "<caption>A grouped_df: 1 × 2</caption>\n",
       "<thead>\n",
       "\t<tr><th scope=col>tld_registrar_index</th><th scope=col>n</th></tr>\n",
       "\t<tr><th scope=col>&lt;chr&gt;</th><th scope=col>&lt;int&gt;</th></tr>\n",
       "</thead>\n",
       "<tbody>\n",
       "\t<tr><td>funcrazy domains</td><td>1</td></tr>\n",
       "</tbody>\n",
       "</table>\n"
      ],
      "text/latex": [
       "A grouped\\_df: 1 × 2\n",
       "\\begin{tabular}{ll}\n",
       " tld\\_registrar\\_index & n\\\\\n",
       " <chr> & <int>\\\\\n",
       "\\hline\n",
       "\t funcrazy domains & 1\\\\\n",
       "\\end{tabular}\n"
      ],
      "text/markdown": [
       "\n",
       "A grouped_df: 1 × 2\n",
       "\n",
       "| tld_registrar_index &lt;chr&gt; | n &lt;int&gt; |\n",
       "|---|---|\n",
       "| funcrazy domains | 1 |\n",
       "\n"
      ],
      "text/plain": [
       "  tld_registrar_index n\n",
       "1 funcrazy domains    1"
      ]
     },
     "metadata": {},
     "output_type": "display_data"
    }
   ],
   "source": [
    "expiry_test_df_1 %>%\n",
    "  group_by(tld_registrar_index) %>%\n",
    "  count() %>%\n",
    "  filter(tld_registrar_index=='funcrazy domains') "
   ]
  },
  {
   "cell_type": "code",
   "execution_count": 105,
   "metadata": {},
   "outputs": [
    {
     "data": {
      "text/html": [
       "<table>\n",
       "<caption>A data.frame: 6 × 54</caption>\n",
       "<thead>\n",
       "\t<tr><th></th><th scope=col>tld</th><th scope=col>reseller_geo</th><th scope=col>reg_arpt_slab</th><th scope=col>reseller</th><th scope=col>reseller_country</th><th scope=col>domain_id</th><th scope=col>renewal_type</th><th scope=col>renewed_count</th><th scope=col>expiry_date</th><th scope=col>domain</th><th scope=col>creation_date</th><th scope=col>status</th><th scope=col>registrar</th><th scope=col>region</th><th scope=col>reg_period</th><th scope=col>registrant_country</th><th scope=col>renewal_status</th><th scope=col>renew_mbg</th><th scope=col>renew_type</th><th scope=col>autorenew_type</th><th scope=col>renew_date</th><th scope=col>renew_registrar</th><th scope=col>renew_reseller</th><th scope=col>reg_revenue</th><th scope=col>reg_arpt</th><th scope=col>⋯</th><th scope=col>tld_registrar_index</th><th scope=col>sld</th><th scope=col>sld_type</th><th scope=col>sld_length</th><th scope=col>sld_type2</th><th scope=col>day_domains</th><th scope=col>log_reg_arpt</th><th scope=col>gibb_score</th><th scope=col>pattern</th><th scope=col>cluster</th><th scope=col>pattern_score</th><th scope=col>pattern_domain_count</th><th scope=col>pred_df_seg2_glm</th><th scope=col>pred_df_seg_glm</th><th scope=col>pred_df_agg_glm</th><th scope=col>pred_df_seg2_rf</th><th scope=col>pred_df_seg_rf</th><th scope=col>pred_df_agg_rf</th><th scope=col>renewal_rate</th><th scope=col>pred_df_seg2_glm_fb</th><th scope=col>pred_df_seg_glm_fb</th><th scope=col>pred_df_agg_glm_fb</th><th scope=col>pred_df_seg2_rf_fb</th><th scope=col>pred_df_seg_rf_fb</th><th scope=col>pred_df_agg_rf_fb</th></tr>\n",
       "\t<tr><th></th><th scope=col>&lt;fct&gt;</th><th scope=col>&lt;fct&gt;</th><th scope=col>&lt;fct&gt;</th><th scope=col>&lt;chr&gt;</th><th scope=col>&lt;chr&gt;</th><th scope=col>&lt;int&gt;</th><th scope=col>&lt;chr&gt;</th><th scope=col>&lt;int&gt;</th><th scope=col>&lt;date&gt;</th><th scope=col>&lt;chr&gt;</th><th scope=col>&lt;date&gt;</th><th scope=col>&lt;chr&gt;</th><th scope=col>&lt;chr&gt;</th><th scope=col>&lt;chr&gt;</th><th scope=col>&lt;int&gt;</th><th scope=col>&lt;chr&gt;</th><th scope=col>&lt;fct&gt;</th><th scope=col>&lt;int&gt;</th><th scope=col>&lt;chr&gt;</th><th scope=col>&lt;chr&gt;</th><th scope=col>&lt;date&gt;</th><th scope=col>&lt;chr&gt;</th><th scope=col>&lt;chr&gt;</th><th scope=col>&lt;dbl&gt;</th><th scope=col>&lt;dbl&gt;</th><th scope=col>⋯</th><th scope=col>&lt;chr&gt;</th><th scope=col>&lt;chr&gt;</th><th scope=col>&lt;fct&gt;</th><th scope=col>&lt;int&gt;</th><th scope=col>&lt;chr&gt;</th><th scope=col>&lt;int&gt;</th><th scope=col>&lt;dbl&gt;</th><th scope=col>&lt;dbl&gt;</th><th scope=col>&lt;chr&gt;</th><th scope=col>&lt;chr&gt;</th><th scope=col>&lt;dbl&gt;</th><th scope=col>&lt;int&gt;</th><th scope=col>&lt;dbl&gt;</th><th scope=col>&lt;dbl&gt;</th><th scope=col>&lt;dbl&gt;</th><th scope=col>&lt;dbl&gt;</th><th scope=col>&lt;dbl&gt;</th><th scope=col>&lt;dbl&gt;</th><th scope=col>&lt;dbl&gt;</th><th scope=col>&lt;dbl&gt;</th><th scope=col>&lt;dbl&gt;</th><th scope=col>&lt;dbl&gt;</th><th scope=col>&lt;dbl&gt;</th><th scope=col>&lt;dbl&gt;</th><th scope=col>&lt;dbl&gt;</th></tr>\n",
       "</thead>\n",
       "<tbody>\n",
       "\t<tr><th scope=row>1</th><td>fun</td><td>Australia &amp; New Zealand</td><td><span style=white-space:pre-wrap>(3,5]  </span></td><td>instra corporation</td><td>Australia</td><td>104893671</td><td>FirstTime</td><td>1</td><td>2020-05-25</td><td><span style=white-space:pre-wrap>laur.fun         </span></td><td>2019-05-25</td><td>Active</td><td>instra corporation</td><td>Non China</td><td>1</td><td>NA</td><td>Not Renewd</td><td>0</td><td>auto-renewal</td><td><span style=white-space:pre-wrap>NA        </span></td><td>2020-05-25</td><td>Instra Corporation</td><td>Instra Corporation</td><td> 4</td><td> 4</td><td>⋯</td><td>funinstra corporation</td><td><span style=white-space:pre-wrap>laur         </span></td><td>l</td><td> 4</td><td>4l </td><td>1</td><td>1.386294</td><td>5.48</td><td><span style=white-space:pre-wrap>laur         </span></td><td>1</td><td>1</td><td>1</td><td><span style=white-space:pre-wrap>       NA</span></td><td>0.000</td><td>0.151</td><td>0.00000</td><td>0.1851779</td><td>0.3718108</td><td>0.2500000</td><td><span style=white-space:pre-wrap>       NA</span></td><td>0.000</td><td>0.151</td><td>0.00000</td><td>0.1851779</td><td>0.3718108</td></tr>\n",
       "\t<tr><th scope=row>2</th><td>fun</td><td>Australia &amp; New Zealand</td><td><span style=white-space:pre-wrap>(3,5]  </span></td><td>instra corporation</td><td>Australia</td><td> 99540944</td><td>FirstTime</td><td>1</td><td>2020-04-10</td><td><span style=white-space:pre-wrap>oferty.fun       </span></td><td>2019-04-10</td><td>Active</td><td>instra corporation</td><td>Non China</td><td>1</td><td>NA</td><td>Not Renewd</td><td>0</td><td>auto-renewal</td><td>unrealized</td><td>2020-04-10</td><td>Instra Corporation</td><td>Instra Corporation</td><td> 4</td><td> 4</td><td>⋯</td><td>funinstra corporation</td><td><span style=white-space:pre-wrap>oferty       </span></td><td>l</td><td> 6</td><td>6l </td><td>1</td><td>1.386294</td><td>6.03</td><td><span style=white-space:pre-wrap>oferty       </span></td><td>1</td><td>1</td><td>1</td><td><span style=white-space:pre-wrap>       NA</span></td><td>0.000</td><td>0.146</td><td>0.00000</td><td>0.2157494</td><td>0.3943426</td><td>0.2500000</td><td><span style=white-space:pre-wrap>       NA</span></td><td>0.000</td><td>0.146</td><td>0.00000</td><td>0.2157494</td><td>0.3943426</td></tr>\n",
       "\t<tr><th scope=row>3</th><td>fun</td><td>Australia &amp; New Zealand</td><td>(5,10] </td><td><span style=white-space:pre-wrap>crazy domains     </span></td><td>Australia</td><td> 62376247</td><td>FirstTime</td><td>1</td><td>2020-03-07</td><td>tennisladder.fun </td><td>2018-03-07</td><td>Active</td><td><span style=white-space:pre-wrap>crazy domains     </span></td><td>Non China</td><td>2</td><td>NA</td><td>Not Renewd</td><td>0</td><td>auto-renewal</td><td>unrealized</td><td>2020-03-07</td><td><span style=white-space:pre-wrap>Crazy Domains     </span></td><td><span style=white-space:pre-wrap>Crazy Domains     </span></td><td>18</td><td> 9</td><td>⋯</td><td><span style=white-space:pre-wrap>funcrazy domains     </span></td><td>tennisladder </td><td>l</td><td>12</td><td>12l</td><td>1</td><td>2.197225</td><td>4.85</td><td>tennisladder </td><td>1</td><td>1</td><td>1</td><td>1.0000000</td><td>0.400</td><td>0.334</td><td>0.42460</td><td>0.5788189</td><td>0.6221085</td><td>0.5000000</td><td>0.5000000</td><td>0.500</td><td>0.500</td><td>0.50000</td><td>0.5000000</td><td>0.5000000</td></tr>\n",
       "\t<tr><th scope=row>4</th><td>fun</td><td>Australia &amp; New Zealand</td><td>(10,15]</td><td><span style=white-space:pre-wrap>ventraip          </span></td><td>Australia</td><td> 95252714</td><td>FirstTime</td><td>1</td><td>2020-03-03</td><td><span style=white-space:pre-wrap>letterific.fun   </span></td><td>2019-03-03</td><td>Active</td><td>synergy wholesale </td><td>Non China</td><td>1</td><td>NA</td><td><span style=white-space:pre-wrap>Renewed   </span></td><td>0</td><td><span style=white-space:pre-wrap>renewal     </span></td><td><span style=white-space:pre-wrap>NA        </span></td><td>2020-02-19</td><td>SYNERGY WHOLESALE </td><td><span style=white-space:pre-wrap>VentraIP          </span></td><td>15</td><td>15</td><td>⋯</td><td><span style=white-space:pre-wrap>funventraip          </span></td><td><span style=white-space:pre-wrap>letterific   </span></td><td>l</td><td>10</td><td>10l</td><td>1</td><td>2.708050</td><td>5.97</td><td><span style=white-space:pre-wrap>letterific   </span></td><td>1</td><td>1</td><td>1</td><td><span style=white-space:pre-wrap>       NA</span></td><td><span style=white-space:pre-wrap>   NA</span></td><td><span style=white-space:pre-wrap>   NA</span></td><td><span style=white-space:pre-wrap>     NA</span></td><td><span style=white-space:pre-wrap>       NA</span></td><td><span style=white-space:pre-wrap>       NA</span></td><td>0.3333333</td><td><span style=white-space:pre-wrap>       NA</span></td><td><span style=white-space:pre-wrap>   NA</span></td><td><span style=white-space:pre-wrap>   NA</span></td><td><span style=white-space:pre-wrap>     NA</span></td><td><span style=white-space:pre-wrap>       NA</span></td><td><span style=white-space:pre-wrap>       NA</span></td></tr>\n",
       "\t<tr><th scope=row>5</th><td>fun</td><td>Canada                 </td><td>(5,10] </td><td>shopify           </td><td>Canada   </td><td> 98381634</td><td>FirstTime</td><td>1</td><td>2020-03-29</td><td>abtractstore.fun </td><td>2019-03-29</td><td>Active</td><td>tucows            </td><td>Non China</td><td>1</td><td>NA</td><td>Not Renewd</td><td>0</td><td>auto-renewal</td><td>unrealized</td><td>2020-03-29</td><td>Tucows            </td><td>Shopify           </td><td> 8</td><td> 8</td><td>⋯</td><td>funshopify           </td><td>abtractstore </td><td>l</td><td>12</td><td>12l</td><td>1</td><td>2.079442</td><td>5.45</td><td>abtractstore </td><td>1</td><td>1</td><td>1</td><td>0.2172645</td><td>0.277</td><td>0.067</td><td>0.28220</td><td>0.2351863</td><td>0.2068615</td><td>0.5263158</td><td>0.2172645</td><td>0.277</td><td>0.067</td><td>0.28220</td><td>0.2351863</td><td>0.2068615</td></tr>\n",
       "\t<tr><th scope=row>6</th><td>fun</td><td>Canada                 </td><td>(5,10] </td><td>hover             </td><td>Canada   </td><td>104937931</td><td>FirstTime</td><td>1</td><td>2020-05-26</td><td>futurefantasy.fun</td><td>2019-05-26</td><td>Active</td><td>tucows            </td><td>Non China</td><td>1</td><td>NA</td><td>Renewed   </td><td>0</td><td>renewal     </td><td>NA        </td><td>2020-05-25</td><td>Tucows            </td><td>Hover             </td><td> 8</td><td> 8</td><td>⋯</td><td>funhover             </td><td>futurefantasy</td><td>l</td><td>13</td><td>13l</td><td>1</td><td>2.079442</td><td>5.61</td><td>futurefantasy</td><td>1</td><td>1</td><td>1</td><td>0.6261119</td><td>0.624</td><td>0.267</td><td>0.59825</td><td>0.5677353</td><td>0.4933172</td><td>0.5263158</td><td>0.6261119</td><td>0.624</td><td>0.267</td><td>0.59825</td><td>0.5677353</td><td>0.4933172</td></tr>\n",
       "</tbody>\n",
       "</table>\n"
      ],
      "text/latex": [
       "A data.frame: 6 × 54\n",
       "\\begin{tabular}{r|lllllllllllllllllllllllllllllllllllllllllllllllllll}\n",
       "  & tld & reseller\\_geo & reg\\_arpt\\_slab & reseller & reseller\\_country & domain\\_id & renewal\\_type & renewed\\_count & expiry\\_date & domain & creation\\_date & status & registrar & region & reg\\_period & registrant\\_country & renewal\\_status & renew\\_mbg & renew\\_type & autorenew\\_type & renew\\_date & renew\\_registrar & renew\\_reseller & reg\\_revenue & reg\\_arpt & ⋯ & tld\\_registrar\\_index & sld & sld\\_type & sld\\_length & sld\\_type2 & day\\_domains & log\\_reg\\_arpt & gibb\\_score & pattern & cluster & pattern\\_score & pattern\\_domain\\_count & pred\\_df\\_seg2\\_glm & pred\\_df\\_seg\\_glm & pred\\_df\\_agg\\_glm & pred\\_df\\_seg2\\_rf & pred\\_df\\_seg\\_rf & pred\\_df\\_agg\\_rf & renewal\\_rate & pred\\_df\\_seg2\\_glm\\_fb & pred\\_df\\_seg\\_glm\\_fb & pred\\_df\\_agg\\_glm\\_fb & pred\\_df\\_seg2\\_rf\\_fb & pred\\_df\\_seg\\_rf\\_fb & pred\\_df\\_agg\\_rf\\_fb\\\\\n",
       "  & <fct> & <fct> & <fct> & <chr> & <chr> & <int> & <chr> & <int> & <date> & <chr> & <date> & <chr> & <chr> & <chr> & <int> & <chr> & <fct> & <int> & <chr> & <chr> & <date> & <chr> & <chr> & <dbl> & <dbl> & ⋯ & <chr> & <chr> & <fct> & <int> & <chr> & <int> & <dbl> & <dbl> & <chr> & <chr> & <dbl> & <int> & <dbl> & <dbl> & <dbl> & <dbl> & <dbl> & <dbl> & <dbl> & <dbl> & <dbl> & <dbl> & <dbl> & <dbl> & <dbl>\\\\\n",
       "\\hline\n",
       "\t1 & fun & Australia \\& New Zealand & (3,5{]}   & instra corporation & Australia & 104893671 & FirstTime & 1 & 2020-05-25 & laur.fun          & 2019-05-25 & Active & instra corporation & Non China & 1 & NA & Not Renewd & 0 & auto-renewal & NA         & 2020-05-25 & Instra Corporation & Instra Corporation &  4 &  4 & ⋯ & funinstra corporation & laur          & l &  4 & 4l  & 1 & 1.386294 & 5.48 & laur          & 1 & 1 & 1 &        NA & 0.000 & 0.151 & 0.00000 & 0.1851779 & 0.3718108 & 0.2500000 &        NA & 0.000 & 0.151 & 0.00000 & 0.1851779 & 0.3718108\\\\\n",
       "\t2 & fun & Australia \\& New Zealand & (3,5{]}   & instra corporation & Australia &  99540944 & FirstTime & 1 & 2020-04-10 & oferty.fun        & 2019-04-10 & Active & instra corporation & Non China & 1 & NA & Not Renewd & 0 & auto-renewal & unrealized & 2020-04-10 & Instra Corporation & Instra Corporation &  4 &  4 & ⋯ & funinstra corporation & oferty        & l &  6 & 6l  & 1 & 1.386294 & 6.03 & oferty        & 1 & 1 & 1 &        NA & 0.000 & 0.146 & 0.00000 & 0.2157494 & 0.3943426 & 0.2500000 &        NA & 0.000 & 0.146 & 0.00000 & 0.2157494 & 0.3943426\\\\\n",
       "\t3 & fun & Australia \\& New Zealand & (5,10{]}  & crazy domains      & Australia &  62376247 & FirstTime & 1 & 2020-03-07 & tennisladder.fun  & 2018-03-07 & Active & crazy domains      & Non China & 2 & NA & Not Renewd & 0 & auto-renewal & unrealized & 2020-03-07 & Crazy Domains      & Crazy Domains      & 18 &  9 & ⋯ & funcrazy domains      & tennisladder  & l & 12 & 12l & 1 & 2.197225 & 4.85 & tennisladder  & 1 & 1 & 1 & 1.0000000 & 0.400 & 0.334 & 0.42460 & 0.5788189 & 0.6221085 & 0.5000000 & 0.5000000 & 0.500 & 0.500 & 0.50000 & 0.5000000 & 0.5000000\\\\\n",
       "\t4 & fun & Australia \\& New Zealand & (10,15{]} & ventraip           & Australia &  95252714 & FirstTime & 1 & 2020-03-03 & letterific.fun    & 2019-03-03 & Active & synergy wholesale  & Non China & 1 & NA & Renewed    & 0 & renewal      & NA         & 2020-02-19 & SYNERGY WHOLESALE  & VentraIP           & 15 & 15 & ⋯ & funventraip           & letterific    & l & 10 & 10l & 1 & 2.708050 & 5.97 & letterific    & 1 & 1 & 1 &        NA &    NA &    NA &      NA &        NA &        NA & 0.3333333 &        NA &    NA &    NA &      NA &        NA &        NA\\\\\n",
       "\t5 & fun & Canada                  & (5,10{]}  & shopify            & Canada    &  98381634 & FirstTime & 1 & 2020-03-29 & abtractstore.fun  & 2019-03-29 & Active & tucows             & Non China & 1 & NA & Not Renewd & 0 & auto-renewal & unrealized & 2020-03-29 & Tucows             & Shopify            &  8 &  8 & ⋯ & funshopify            & abtractstore  & l & 12 & 12l & 1 & 2.079442 & 5.45 & abtractstore  & 1 & 1 & 1 & 0.2172645 & 0.277 & 0.067 & 0.28220 & 0.2351863 & 0.2068615 & 0.5263158 & 0.2172645 & 0.277 & 0.067 & 0.28220 & 0.2351863 & 0.2068615\\\\\n",
       "\t6 & fun & Canada                  & (5,10{]}  & hover              & Canada    & 104937931 & FirstTime & 1 & 2020-05-26 & futurefantasy.fun & 2019-05-26 & Active & tucows             & Non China & 1 & NA & Renewed    & 0 & renewal      & NA         & 2020-05-25 & Tucows             & Hover              &  8 &  8 & ⋯ & funhover              & futurefantasy & l & 13 & 13l & 1 & 2.079442 & 5.61 & futurefantasy & 1 & 1 & 1 & 0.6261119 & 0.624 & 0.267 & 0.59825 & 0.5677353 & 0.4933172 & 0.5263158 & 0.6261119 & 0.624 & 0.267 & 0.59825 & 0.5677353 & 0.4933172\\\\\n",
       "\\end{tabular}\n"
      ],
      "text/markdown": [
       "\n",
       "A data.frame: 6 × 54\n",
       "\n",
       "| <!--/--> | tld &lt;fct&gt; | reseller_geo &lt;fct&gt; | reg_arpt_slab &lt;fct&gt; | reseller &lt;chr&gt; | reseller_country &lt;chr&gt; | domain_id &lt;int&gt; | renewal_type &lt;chr&gt; | renewed_count &lt;int&gt; | expiry_date &lt;date&gt; | domain &lt;chr&gt; | creation_date &lt;date&gt; | status &lt;chr&gt; | registrar &lt;chr&gt; | region &lt;chr&gt; | reg_period &lt;int&gt; | registrant_country &lt;chr&gt; | renewal_status &lt;fct&gt; | renew_mbg &lt;int&gt; | renew_type &lt;chr&gt; | autorenew_type &lt;chr&gt; | renew_date &lt;date&gt; | renew_registrar &lt;chr&gt; | renew_reseller &lt;chr&gt; | reg_revenue &lt;dbl&gt; | reg_arpt &lt;dbl&gt; | ⋯ ⋯ | tld_registrar_index &lt;chr&gt; | sld &lt;chr&gt; | sld_type &lt;fct&gt; | sld_length &lt;int&gt; | sld_type2 &lt;chr&gt; | day_domains &lt;int&gt; | log_reg_arpt &lt;dbl&gt; | gibb_score &lt;dbl&gt; | pattern &lt;chr&gt; | cluster &lt;chr&gt; | pattern_score &lt;dbl&gt; | pattern_domain_count &lt;int&gt; | pred_df_seg2_glm &lt;dbl&gt; | pred_df_seg_glm &lt;dbl&gt; | pred_df_agg_glm &lt;dbl&gt; | pred_df_seg2_rf &lt;dbl&gt; | pred_df_seg_rf &lt;dbl&gt; | pred_df_agg_rf &lt;dbl&gt; | renewal_rate &lt;dbl&gt; | pred_df_seg2_glm_fb &lt;dbl&gt; | pred_df_seg_glm_fb &lt;dbl&gt; | pred_df_agg_glm_fb &lt;dbl&gt; | pred_df_seg2_rf_fb &lt;dbl&gt; | pred_df_seg_rf_fb &lt;dbl&gt; | pred_df_agg_rf_fb &lt;dbl&gt; |\n",
       "|---|---|---|---|---|---|---|---|---|---|---|---|---|---|---|---|---|---|---|---|---|---|---|---|---|---|---|---|---|---|---|---|---|---|---|---|---|---|---|---|---|---|---|---|---|---|---|---|---|---|---|---|\n",
       "| 1 | fun | Australia &amp; New Zealand | (3,5]   | instra corporation | Australia | 104893671 | FirstTime | 1 | 2020-05-25 | laur.fun          | 2019-05-25 | Active | instra corporation | Non China | 1 | NA | Not Renewd | 0 | auto-renewal | NA         | 2020-05-25 | Instra Corporation | Instra Corporation |  4 |  4 | ⋯ | funinstra corporation | laur          | l |  4 | 4l  | 1 | 1.386294 | 5.48 | laur          | 1 | 1 | 1 |        NA | 0.000 | 0.151 | 0.00000 | 0.1851779 | 0.3718108 | 0.2500000 |        NA | 0.000 | 0.151 | 0.00000 | 0.1851779 | 0.3718108 |\n",
       "| 2 | fun | Australia &amp; New Zealand | (3,5]   | instra corporation | Australia |  99540944 | FirstTime | 1 | 2020-04-10 | oferty.fun        | 2019-04-10 | Active | instra corporation | Non China | 1 | NA | Not Renewd | 0 | auto-renewal | unrealized | 2020-04-10 | Instra Corporation | Instra Corporation |  4 |  4 | ⋯ | funinstra corporation | oferty        | l |  6 | 6l  | 1 | 1.386294 | 6.03 | oferty        | 1 | 1 | 1 |        NA | 0.000 | 0.146 | 0.00000 | 0.2157494 | 0.3943426 | 0.2500000 |        NA | 0.000 | 0.146 | 0.00000 | 0.2157494 | 0.3943426 |\n",
       "| 3 | fun | Australia &amp; New Zealand | (5,10]  | crazy domains      | Australia |  62376247 | FirstTime | 1 | 2020-03-07 | tennisladder.fun  | 2018-03-07 | Active | crazy domains      | Non China | 2 | NA | Not Renewd | 0 | auto-renewal | unrealized | 2020-03-07 | Crazy Domains      | Crazy Domains      | 18 |  9 | ⋯ | funcrazy domains      | tennisladder  | l | 12 | 12l | 1 | 2.197225 | 4.85 | tennisladder  | 1 | 1 | 1 | 1.0000000 | 0.400 | 0.334 | 0.42460 | 0.5788189 | 0.6221085 | 0.5000000 | 0.5000000 | 0.500 | 0.500 | 0.50000 | 0.5000000 | 0.5000000 |\n",
       "| 4 | fun | Australia &amp; New Zealand | (10,15] | ventraip           | Australia |  95252714 | FirstTime | 1 | 2020-03-03 | letterific.fun    | 2019-03-03 | Active | synergy wholesale  | Non China | 1 | NA | Renewed    | 0 | renewal      | NA         | 2020-02-19 | SYNERGY WHOLESALE  | VentraIP           | 15 | 15 | ⋯ | funventraip           | letterific    | l | 10 | 10l | 1 | 2.708050 | 5.97 | letterific    | 1 | 1 | 1 |        NA |    NA |    NA |      NA |        NA |        NA | 0.3333333 |        NA |    NA |    NA |      NA |        NA |        NA |\n",
       "| 5 | fun | Canada                  | (5,10]  | shopify            | Canada    |  98381634 | FirstTime | 1 | 2020-03-29 | abtractstore.fun  | 2019-03-29 | Active | tucows             | Non China | 1 | NA | Not Renewd | 0 | auto-renewal | unrealized | 2020-03-29 | Tucows             | Shopify            |  8 |  8 | ⋯ | funshopify            | abtractstore  | l | 12 | 12l | 1 | 2.079442 | 5.45 | abtractstore  | 1 | 1 | 1 | 0.2172645 | 0.277 | 0.067 | 0.28220 | 0.2351863 | 0.2068615 | 0.5263158 | 0.2172645 | 0.277 | 0.067 | 0.28220 | 0.2351863 | 0.2068615 |\n",
       "| 6 | fun | Canada                  | (5,10]  | hover              | Canada    | 104937931 | FirstTime | 1 | 2020-05-26 | futurefantasy.fun | 2019-05-26 | Active | tucows             | Non China | 1 | NA | Renewed    | 0 | renewal      | NA         | 2020-05-25 | Tucows             | Hover              |  8 |  8 | ⋯ | funhover              | futurefantasy | l | 13 | 13l | 1 | 2.079442 | 5.61 | futurefantasy | 1 | 1 | 1 | 0.6261119 | 0.624 | 0.267 | 0.59825 | 0.5677353 | 0.4933172 | 0.5263158 | 0.6261119 | 0.624 | 0.267 | 0.59825 | 0.5677353 | 0.4933172 |\n",
       "\n"
      ],
      "text/plain": [
       "  tld reseller_geo            reg_arpt_slab reseller           reseller_country\n",
       "1 fun Australia & New Zealand (3,5]         instra corporation Australia       \n",
       "2 fun Australia & New Zealand (3,5]         instra corporation Australia       \n",
       "3 fun Australia & New Zealand (5,10]        crazy domains      Australia       \n",
       "4 fun Australia & New Zealand (10,15]       ventraip           Australia       \n",
       "5 fun Canada                  (5,10]        shopify            Canada          \n",
       "6 fun Canada                  (5,10]        hover              Canada          \n",
       "  domain_id renewal_type renewed_count expiry_date domain           \n",
       "1 104893671 FirstTime    1             2020-05-25  laur.fun         \n",
       "2  99540944 FirstTime    1             2020-04-10  oferty.fun       \n",
       "3  62376247 FirstTime    1             2020-03-07  tennisladder.fun \n",
       "4  95252714 FirstTime    1             2020-03-03  letterific.fun   \n",
       "5  98381634 FirstTime    1             2020-03-29  abtractstore.fun \n",
       "6 104937931 FirstTime    1             2020-05-26  futurefantasy.fun\n",
       "  creation_date status registrar          region    reg_period\n",
       "1 2019-05-25    Active instra corporation Non China 1         \n",
       "2 2019-04-10    Active instra corporation Non China 1         \n",
       "3 2018-03-07    Active crazy domains      Non China 2         \n",
       "4 2019-03-03    Active synergy wholesale  Non China 1         \n",
       "5 2019-03-29    Active tucows             Non China 1         \n",
       "6 2019-05-26    Active tucows             Non China 1         \n",
       "  registrant_country renewal_status renew_mbg renew_type   autorenew_type\n",
       "1 NA                 Not Renewd     0         auto-renewal NA            \n",
       "2 NA                 Not Renewd     0         auto-renewal unrealized    \n",
       "3 NA                 Not Renewd     0         auto-renewal unrealized    \n",
       "4 NA                 Renewed        0         renewal      NA            \n",
       "5 NA                 Not Renewd     0         auto-renewal unrealized    \n",
       "6 NA                 Renewed        0         renewal      NA            \n",
       "  renew_date renew_registrar    renew_reseller     reg_revenue reg_arpt ⋯\n",
       "1 2020-05-25 Instra Corporation Instra Corporation  4           4       ⋯\n",
       "2 2020-04-10 Instra Corporation Instra Corporation  4           4       ⋯\n",
       "3 2020-03-07 Crazy Domains      Crazy Domains      18           9       ⋯\n",
       "4 2020-02-19 SYNERGY WHOLESALE  VentraIP           15          15       ⋯\n",
       "5 2020-03-29 Tucows             Shopify             8           8       ⋯\n",
       "6 2020-05-25 Tucows             Hover               8           8       ⋯\n",
       "  tld_registrar_index   sld           sld_type sld_length sld_type2 day_domains\n",
       "1 funinstra corporation laur          l         4         4l        1          \n",
       "2 funinstra corporation oferty        l         6         6l        1          \n",
       "3 funcrazy domains      tennisladder  l        12         12l       1          \n",
       "4 funventraip           letterific    l        10         10l       1          \n",
       "5 funshopify            abtractstore  l        12         12l       1          \n",
       "6 funhover              futurefantasy l        13         13l       1          \n",
       "  log_reg_arpt gibb_score pattern       cluster pattern_score\n",
       "1 1.386294     5.48       laur          1       1            \n",
       "2 1.386294     6.03       oferty        1       1            \n",
       "3 2.197225     4.85       tennisladder  1       1            \n",
       "4 2.708050     5.97       letterific    1       1            \n",
       "5 2.079442     5.45       abtractstore  1       1            \n",
       "6 2.079442     5.61       futurefantasy 1       1            \n",
       "  pattern_domain_count pred_df_seg2_glm pred_df_seg_glm pred_df_agg_glm\n",
       "1 1                           NA        0.000           0.151          \n",
       "2 1                           NA        0.000           0.146          \n",
       "3 1                    1.0000000        0.400           0.334          \n",
       "4 1                           NA           NA              NA          \n",
       "5 1                    0.2172645        0.277           0.067          \n",
       "6 1                    0.6261119        0.624           0.267          \n",
       "  pred_df_seg2_rf pred_df_seg_rf pred_df_agg_rf renewal_rate\n",
       "1 0.00000         0.1851779      0.3718108      0.2500000   \n",
       "2 0.00000         0.2157494      0.3943426      0.2500000   \n",
       "3 0.42460         0.5788189      0.6221085      0.5000000   \n",
       "4      NA                NA             NA      0.3333333   \n",
       "5 0.28220         0.2351863      0.2068615      0.5263158   \n",
       "6 0.59825         0.5677353      0.4933172      0.5263158   \n",
       "  pred_df_seg2_glm_fb pred_df_seg_glm_fb pred_df_agg_glm_fb pred_df_seg2_rf_fb\n",
       "1        NA           0.000              0.151              0.00000           \n",
       "2        NA           0.000              0.146              0.00000           \n",
       "3 0.5000000           0.500              0.500              0.50000           \n",
       "4        NA              NA                 NA                   NA           \n",
       "5 0.2172645           0.277              0.067              0.28220           \n",
       "6 0.6261119           0.624              0.267              0.59825           \n",
       "  pred_df_seg_rf_fb pred_df_agg_rf_fb\n",
       "1 0.1851779         0.3718108        \n",
       "2 0.2157494         0.3943426        \n",
       "3 0.5000000         0.5000000        \n",
       "4        NA                NA        \n",
       "5 0.2351863         0.2068615        \n",
       "6 0.5677353         0.4933172        "
      ]
     },
     "metadata": {},
     "output_type": "display_data"
    }
   ],
   "source": [
    "head(test_predictions_fallback_df_2)"
   ]
  },
  {
   "cell_type": "code",
   "execution_count": 106,
   "metadata": {},
   "outputs": [],
   "source": [
    "lift_list_2 <- list()\n",
    "auc_list_2 <- list()\n",
    "\n",
    "fallback_lift <- chart_lift(pred_df=test_predictions_fallback_df_2,\n",
    "                        dep_var = \"renewal_status\",\n",
    "                        pred_var = \"renewal_rate\") \n",
    "\n",
    "lift_list_2[[\"fallback\"]] <- fallback_lift\n",
    "auc_list_2[[\"fallback\"]] <- calc_auc(lift_df=fallback_lift)\n",
    "\n",
    "models <- c('pred_df_seg2_glm_fb',\t'pred_df_seg_glm_fb',\t'pred_df_agg_glm_fb',\t'pred_df_seg2_rf_fb',\t\n",
    "            'pred_df_seg_rf_fb',\t'pred_df_agg_rf_fb')\n",
    "\n",
    "\n",
    "for (model in models){\n",
    "    model_lift <- chart_lift(pred_df=test_predictions_fallback_df_2,\n",
    "                        dep_var = \"renewal_status\",\n",
    "                        pred_var = model) \n",
    "    \n",
    "    fallback_lift <- merge(fallback_lift, model_lift, by=c(\"P\"),all= TRUE, \n",
    "                           suffixes = c(\"\",\n",
    "                                        paste(\"_\",gsub(\"pred_df_\", \"\", model)) ))\n",
    "    \n",
    "    lift_list_2[[model]] <- model_lift\n",
    "    auc_list_2[[model]] <- calc_auc(lift_df=model_lift)\n",
    "}\n",
    "\n",
    "lift_df_2 <- fallback_lift"
   ]
  },
  {
   "cell_type": "code",
   "execution_count": 107,
   "metadata": {},
   "outputs": [
    {
     "data": {
      "image/png": "[encoded data removed]",
      "text/plain": [
       "plot without title"
      ]
     },
     "metadata": {
      "image/png": {
       "height": 420,
       "width": 420
      },
      "text/plain": {
       "height": 420,
       "width": 420
      }
     },
     "output_type": "display_data"
    }
   ],
   "source": [
    "plot_multigains(            lift_df_list=lift_list,\n",
    "                             auc_list = auc_list,\n",
    "                             prop_positive = 0.09149351) "
   ]
  },
  {
   "cell_type": "code",
   "execution_count": 108,
   "metadata": {},
   "outputs": [
    {
     "data": {
      "image/png": "[encoded data removed]",
      "text/plain": [
       "plot without title"
      ]
     },
     "metadata": {
      "image/png": {
       "height": 420,
       "width": 420
      },
      "text/plain": {
       "height": 420,
       "width": 420
      }
     },
     "output_type": "display_data"
    }
   ],
   "source": [
    "plot_multigains(            lift_df_list=lift_list_2,\n",
    "                             auc_list = auc_list_2,\n",
    "                             prop_positive = 0.09149351) "
   ]
  },
  {
   "cell_type": "code",
   "execution_count": null,
   "metadata": {},
   "outputs": [],
   "source": []
  }
 ],
 "metadata": {
  "environment": {
   "name": "r-cpu.3-6.m48",
   "type": "gcloud",
   "uri": "gcr.io/deeplearning-platform-release/r-cpu.3-6:m48"
  },
  "kernelspec": {
   "display_name": "R",
   "language": "R",
   "name": "ir"
  },
  "language_info": {
   "codemirror_mode": "r",
   "file_extension": ".r",
   "mimetype": "text/x-r-source",
   "name": "R",
   "pygments_lexer": "r",
   "version": "3.6.3"
  }
 },
 "nbformat": 4,
 "nbformat_minor": 4
}
