{
 "cells": [
  {
   "cell_type": "markdown",
   "metadata": {},
   "source": [
    "# Follow up 10/08 meeting\n",
    "## Fallback Table generation\n",
    "#### based on fallback_scripts.R\n",
    "\n"
   ]
  },
  {
   "cell_type": "code",
   "execution_count": 1,
   "metadata": {},
   "outputs": [],
   "source": [
    "options(repr.matrix.max.cols=50, repr.matrix.max.rows=100)"
   ]
  },
  {
   "cell_type": "code",
   "execution_count": 2,
   "metadata": {},
   "outputs": [],
   "source": [
    "# install.packages(\"pkgcond\")"
   ]
  },
  {
   "cell_type": "code",
   "execution_count": 3,
   "metadata": {},
   "outputs": [
    {
     "name": "stderr",
     "output_type": "stream",
     "text": [
      "\n",
      "Attaching package: ‘dplyr’\n",
      "\n",
      "\n",
      "The following objects are masked from ‘package:stats’:\n",
      "\n",
      "    filter, lag\n",
      "\n",
      "\n",
      "The following objects are masked from ‘package:base’:\n",
      "\n",
      "    intersect, setdiff, setequal, union\n",
      "\n",
      "\n",
      "\n",
      "Attaching package: ‘data.table’\n",
      "\n",
      "\n",
      "The following objects are masked from ‘package:dplyr’:\n",
      "\n",
      "    between, first, last\n",
      "\n",
      "\n",
      "Loading required package: grid\n",
      "\n",
      "Loading required package: libcoin\n",
      "\n",
      "Loading required package: mvtnorm\n",
      "\n",
      "Loading required package: lattice\n",
      "\n",
      "Loading required package: ggplot2\n",
      "\n",
      "randomForest 4.6-14\n",
      "\n",
      "Type rfNews() to see new features/changes/bug fixes.\n",
      "\n",
      "\n",
      "Attaching package: ‘randomForest’\n",
      "\n",
      "\n",
      "The following object is masked from ‘package:ggplot2’:\n",
      "\n",
      "    margin\n",
      "\n",
      "\n",
      "The following object is masked from ‘package:dplyr’:\n",
      "\n",
      "    combine\n",
      "\n",
      "\n",
      "\n",
      "Attaching package: ‘ranger’\n",
      "\n",
      "\n",
      "The following object is masked from ‘package:randomForest’:\n",
      "\n",
      "    importance\n",
      "\n",
      "\n",
      "\n",
      "Attaching package: ‘plotly’\n",
      "\n",
      "\n",
      "The following object is masked from ‘package:ggplot2’:\n",
      "\n",
      "    last_plot\n",
      "\n",
      "\n",
      "The following object is masked from ‘package:stats’:\n",
      "\n",
      "    filter\n",
      "\n",
      "\n",
      "The following object is masked from ‘package:graphics’:\n",
      "\n",
      "    layout\n",
      "\n",
      "\n",
      "Loading required package: RJSONIO\n",
      "\n"
     ]
    },
    {
     "data": {
      "text/html": [
       "'/home/jupyter/local/Domains_202003/scripts/phaseII_06'"
      ],
      "text/latex": [
       "'/home/jupyter/local/Domains\\_202003/scripts/phaseII\\_06'"
      ],
      "text/markdown": [
       "'/home/jupyter/local/Domains_202003/scripts/phaseII_06'"
      ],
      "text/plain": [
       "[1] \"/home/jupyter/local/Domains_202003/scripts/phaseII_06\""
      ]
     },
     "metadata": {},
     "output_type": "display_data"
    }
   ],
   "source": [
    "library(dplyr)\n",
    "library(data.table)\n",
    "library(partykit)\n",
    "library(tictoc)\n",
    "library(caret)\n",
    "library(e1071)\n",
    "library(randomForest)\n",
    "library(ranger)\n",
    "\n",
    "#for 3d plotting\n",
    "library(akima)\n",
    "library(plotly)\n",
    "\n",
    "# for prep data\n",
    "library(rPython)\n",
    "library(stringr)\n",
    "library(pbapply)\n",
    "library(stringdist)\n",
    "library(data.table)\n",
    "library(dominanceanalysis)\n",
    "\n",
    "\n",
    "getwd()"
   ]
  },
  {
   "cell_type": "code",
   "execution_count": 4,
   "metadata": {},
   "outputs": [],
   "source": [
    "\n",
    "source('../orig/functions.R')\n",
    "\n",
    "source('../orig/functions_models.R')\n",
    "\n",
    "source('../phaseII_03_forest/functions_eval.R')\n",
    "\n",
    "\n",
    "source('../phaseII_03_forest/load_prep_data_expiry.R')\n",
    "\n",
    "# expiry_train_prepped_2_1 (list, less df's w/ 0 obs)\n",
    "# expiry_test_prepped_2_1  (list, less df's w/ 0 obs)\n",
    "# expiry_train_df_1 (above, rbound)\n",
    "# expiry_test_df_1 (above, rbound)\n",
    "# expiry_train_df_sub (subset vars)                                        \n",
    "# expiry_test_df_sub (subset vars)"
   ]
  },
  {
   "cell_type": "markdown",
   "metadata": {},
   "source": [
    "# Load model predctions"
   ]
  },
  {
   "cell_type": "code",
   "execution_count": 5,
   "metadata": {},
   "outputs": [
    {
     "data": {
      "text/html": [
       "<style>\n",
       ".list-inline {list-style: none; margin:0; padding: 0}\n",
       ".list-inline>li {display: inline-block}\n",
       ".list-inline>li:not(:last-child)::after {content: \"\\00b7\"; padding: 0 .5ex}\n",
       "</style>\n",
       "<ol class=list-inline><li>297100</li><li>12</li></ol>\n"
      ],
      "text/latex": [
       "\\begin{enumerate*}\n",
       "\\item 297100\n",
       "\\item 12\n",
       "\\end{enumerate*}\n"
      ],
      "text/markdown": [
       "1. 297100\n",
       "2. 12\n",
       "\n",
       "\n"
      ],
      "text/plain": [
       "[1] 297100     12"
      ]
     },
     "metadata": {},
     "output_type": "display_data"
    },
    {
     "data": {
      "text/html": [
       "<table>\n",
       "<caption>A data.frame: 6 × 12</caption>\n",
       "<thead>\n",
       "\t<tr><th></th><th scope=col>actual</th><th scope=col>pred_df_seg2_glm</th><th scope=col>pred_df_seg_glm</th><th scope=col>pred_df_agg_glm</th><th scope=col>pred_df_seg2_rf</th><th scope=col>pred_df_seg_rf</th><th scope=col>pred_df_agg_rf</th><th scope=col>tld_registrar_index</th><th scope=col>reseller</th><th scope=col>n</th><th scope=col>domain_id</th><th scope=col>domain</th></tr>\n",
       "\t<tr><th></th><th scope=col>&lt;fct&gt;</th><th scope=col>&lt;dbl&gt;</th><th scope=col>&lt;dbl&gt;</th><th scope=col>&lt;dbl&gt;</th><th scope=col>&lt;dbl&gt;</th><th scope=col>&lt;dbl&gt;</th><th scope=col>&lt;dbl&gt;</th><th scope=col>&lt;fct&gt;</th><th scope=col>&lt;fct&gt;</th><th scope=col>&lt;int&gt;</th><th scope=col>&lt;int&gt;</th><th scope=col>&lt;fct&gt;</th></tr>\n",
       "</thead>\n",
       "<tbody>\n",
       "\t<tr><th scope=row>1</th><td>Not Renewd</td><td>0.6470992</td><td>0.558</td><td>0.419</td><td>0.4765771</td><td>0.4545657</td><td>0.5386137</td><td>sitegmo</td><td>gmo</td><td>106569</td><td>44295183</td><td>kagen.site           </td></tr>\n",
       "\t<tr><th scope=row>2</th><td>Renewed   </td><td>0.6762222</td><td>0.567</td><td>0.397</td><td>0.5410605</td><td>0.5769973</td><td>0.6091513</td><td>sitegmo</td><td>gmo</td><td>106569</td><td>44573611</td><td>designlab.site       </td></tr>\n",
       "\t<tr><th scope=row>3</th><td>Renewed   </td><td>0.9098495</td><td>0.835</td><td>0.410</td><td>0.7018108</td><td>0.6343404</td><td>0.6886680</td><td>sitegmo</td><td>gmo</td><td>106569</td><td>45304858</td><td>hokatu-blog.site     </td></tr>\n",
       "\t<tr><th scope=row>4</th><td>Renewed   </td><td>0.6029350</td><td>0.515</td><td>0.402</td><td>0.2414726</td><td>0.3999603</td><td>0.3464197</td><td>sitegmo</td><td>gmo</td><td>106569</td><td>46235129</td><td>suzuya.site          </td></tr>\n",
       "\t<tr><th scope=row>5</th><td>Not Renewd</td><td>0.9311321</td><td>0.863</td><td>0.417</td><td>0.7749462</td><td>0.7039504</td><td>0.6711740</td><td>sitegmo</td><td>gmo</td><td>106569</td><td>46276970</td><td>wins-company.site    </td></tr>\n",
       "\t<tr><th scope=row>6</th><td>Renewed   </td><td>0.9347869</td><td>0.861</td><td>0.391</td><td>0.6376848</td><td>0.6566740</td><td>0.6717237</td><td>sitegmo</td><td>gmo</td><td>106569</td><td>47809960</td><td>yamatoku-company.site</td></tr>\n",
       "</tbody>\n",
       "</table>\n"
      ],
      "text/latex": [
       "A data.frame: 6 × 12\n",
       "\\begin{tabular}{r|llllllllllll}\n",
       "  & actual & pred\\_df\\_seg2\\_glm & pred\\_df\\_seg\\_glm & pred\\_df\\_agg\\_glm & pred\\_df\\_seg2\\_rf & pred\\_df\\_seg\\_rf & pred\\_df\\_agg\\_rf & tld\\_registrar\\_index & reseller & n & domain\\_id & domain\\\\\n",
       "  & <fct> & <dbl> & <dbl> & <dbl> & <dbl> & <dbl> & <dbl> & <fct> & <fct> & <int> & <int> & <fct>\\\\\n",
       "\\hline\n",
       "\t1 & Not Renewd & 0.6470992 & 0.558 & 0.419 & 0.4765771 & 0.4545657 & 0.5386137 & sitegmo & gmo & 106569 & 44295183 & kagen.site           \\\\\n",
       "\t2 & Renewed    & 0.6762222 & 0.567 & 0.397 & 0.5410605 & 0.5769973 & 0.6091513 & sitegmo & gmo & 106569 & 44573611 & designlab.site       \\\\\n",
       "\t3 & Renewed    & 0.9098495 & 0.835 & 0.410 & 0.7018108 & 0.6343404 & 0.6886680 & sitegmo & gmo & 106569 & 45304858 & hokatu-blog.site     \\\\\n",
       "\t4 & Renewed    & 0.6029350 & 0.515 & 0.402 & 0.2414726 & 0.3999603 & 0.3464197 & sitegmo & gmo & 106569 & 46235129 & suzuya.site          \\\\\n",
       "\t5 & Not Renewd & 0.9311321 & 0.863 & 0.417 & 0.7749462 & 0.7039504 & 0.6711740 & sitegmo & gmo & 106569 & 46276970 & wins-company.site    \\\\\n",
       "\t6 & Renewed    & 0.9347869 & 0.861 & 0.391 & 0.6376848 & 0.6566740 & 0.6717237 & sitegmo & gmo & 106569 & 47809960 & yamatoku-company.site\\\\\n",
       "\\end{tabular}\n"
      ],
      "text/markdown": [
       "\n",
       "A data.frame: 6 × 12\n",
       "\n",
       "| <!--/--> | actual &lt;fct&gt; | pred_df_seg2_glm &lt;dbl&gt; | pred_df_seg_glm &lt;dbl&gt; | pred_df_agg_glm &lt;dbl&gt; | pred_df_seg2_rf &lt;dbl&gt; | pred_df_seg_rf &lt;dbl&gt; | pred_df_agg_rf &lt;dbl&gt; | tld_registrar_index &lt;fct&gt; | reseller &lt;fct&gt; | n &lt;int&gt; | domain_id &lt;int&gt; | domain &lt;fct&gt; |\n",
       "|---|---|---|---|---|---|---|---|---|---|---|---|---|\n",
       "| 1 | Not Renewd | 0.6470992 | 0.558 | 0.419 | 0.4765771 | 0.4545657 | 0.5386137 | sitegmo | gmo | 106569 | 44295183 | kagen.site            |\n",
       "| 2 | Renewed    | 0.6762222 | 0.567 | 0.397 | 0.5410605 | 0.5769973 | 0.6091513 | sitegmo | gmo | 106569 | 44573611 | designlab.site        |\n",
       "| 3 | Renewed    | 0.9098495 | 0.835 | 0.410 | 0.7018108 | 0.6343404 | 0.6886680 | sitegmo | gmo | 106569 | 45304858 | hokatu-blog.site      |\n",
       "| 4 | Renewed    | 0.6029350 | 0.515 | 0.402 | 0.2414726 | 0.3999603 | 0.3464197 | sitegmo | gmo | 106569 | 46235129 | suzuya.site           |\n",
       "| 5 | Not Renewd | 0.9311321 | 0.863 | 0.417 | 0.7749462 | 0.7039504 | 0.6711740 | sitegmo | gmo | 106569 | 46276970 | wins-company.site     |\n",
       "| 6 | Renewed    | 0.9347869 | 0.861 | 0.391 | 0.6376848 | 0.6566740 | 0.6717237 | sitegmo | gmo | 106569 | 47809960 | yamatoku-company.site |\n",
       "\n"
      ],
      "text/plain": [
       "  actual     pred_df_seg2_glm pred_df_seg_glm pred_df_agg_glm pred_df_seg2_rf\n",
       "1 Not Renewd 0.6470992        0.558           0.419           0.4765771      \n",
       "2 Renewed    0.6762222        0.567           0.397           0.5410605      \n",
       "3 Renewed    0.9098495        0.835           0.410           0.7018108      \n",
       "4 Renewed    0.6029350        0.515           0.402           0.2414726      \n",
       "5 Not Renewd 0.9311321        0.863           0.417           0.7749462      \n",
       "6 Renewed    0.9347869        0.861           0.391           0.6376848      \n",
       "  pred_df_seg_rf pred_df_agg_rf tld_registrar_index reseller n      domain_id\n",
       "1 0.4545657      0.5386137      sitegmo             gmo      106569 44295183 \n",
       "2 0.5769973      0.6091513      sitegmo             gmo      106569 44573611 \n",
       "3 0.6343404      0.6886680      sitegmo             gmo      106569 45304858 \n",
       "4 0.3999603      0.3464197      sitegmo             gmo      106569 46235129 \n",
       "5 0.7039504      0.6711740      sitegmo             gmo      106569 46276970 \n",
       "6 0.6566740      0.6717237      sitegmo             gmo      106569 47809960 \n",
       "  domain               \n",
       "1 kagen.site           \n",
       "2 designlab.site       \n",
       "3 hokatu-blog.site     \n",
       "4 suzuya.site          \n",
       "5 wins-company.site    \n",
       "6 yamatoku-company.site"
      ]
     },
     "metadata": {},
     "output_type": "display_data"
    }
   ],
   "source": [
    "predictions_df <- read.csv(\"../../data/tld_reseller_compare_predictions.csv\")\n",
    "\n",
    "dim(predictions_df)\n",
    "head(predictions_df)"
   ]
  },
  {
   "cell_type": "code",
   "execution_count": 44,
   "metadata": {},
   "outputs": [
    {
     "data": {
      "text/html": [
       "<table>\n",
       "<caption>A grouped_df: 6 × 2</caption>\n",
       "<thead>\n",
       "\t<tr><th scope=col>domain_id</th><th scope=col>n</th></tr>\n",
       "\t<tr><th scope=col>&lt;int&gt;</th><th scope=col>&lt;dbl&gt;</th></tr>\n",
       "</thead>\n",
       "<tbody>\n",
       "\t<tr><td>105791781</td><td>1</td></tr>\n",
       "\t<tr><td>105791786</td><td>1</td></tr>\n",
       "\t<tr><td>105791806</td><td>1</td></tr>\n",
       "\t<tr><td>105791851</td><td>1</td></tr>\n",
       "\t<tr><td>105791871</td><td>1</td></tr>\n",
       "\t<tr><td>       NA</td><td>1</td></tr>\n",
       "</tbody>\n",
       "</table>\n"
      ],
      "text/latex": [
       "A grouped\\_df: 6 × 2\n",
       "\\begin{tabular}{ll}\n",
       " domain\\_id & n\\\\\n",
       " <int> & <dbl>\\\\\n",
       "\\hline\n",
       "\t 105791781 & 1\\\\\n",
       "\t 105791786 & 1\\\\\n",
       "\t 105791806 & 1\\\\\n",
       "\t 105791851 & 1\\\\\n",
       "\t 105791871 & 1\\\\\n",
       "\t        NA & 1\\\\\n",
       "\\end{tabular}\n"
      ],
      "text/markdown": [
       "\n",
       "A grouped_df: 6 × 2\n",
       "\n",
       "| domain_id &lt;int&gt; | n &lt;dbl&gt; |\n",
       "|---|---|\n",
       "| 105791781 | 1 |\n",
       "| 105791786 | 1 |\n",
       "| 105791806 | 1 |\n",
       "| 105791851 | 1 |\n",
       "| 105791871 | 1 |\n",
       "|        NA | 1 |\n",
       "\n"
      ],
      "text/plain": [
       "  domain_id n\n",
       "1 105791781 1\n",
       "2 105791786 1\n",
       "3 105791806 1\n",
       "4 105791851 1\n",
       "5 105791871 1\n",
       "6        NA 1"
      ]
     },
     "metadata": {},
     "output_type": "display_data"
    }
   ],
   "source": [
    "predictions_df %>% group_by(domain_id) %>% count(wt = 1) %>% arrange(n) %>% tail()"
   ]
  },
  {
   "cell_type": "code",
   "execution_count": 49,
   "metadata": {},
   "outputs": [
    {
     "data": {
      "text/html": [
       "<style>\n",
       ".list-inline {list-style: none; margin:0; padding: 0}\n",
       ".list-inline>li {display: inline-block}\n",
       ".list-inline>li:not(:last-child)::after {content: \"\\00b7\"; padding: 0 .5ex}\n",
       "</style>\n",
       "<ol class=list-inline><li>296709</li><li>12</li></ol>\n"
      ],
      "text/latex": [
       "\\begin{enumerate*}\n",
       "\\item 296709\n",
       "\\item 12\n",
       "\\end{enumerate*}\n"
      ],
      "text/markdown": [
       "1. 296709\n",
       "2. 12\n",
       "\n",
       "\n"
      ],
      "text/plain": [
       "[1] 296709     12"
      ]
     },
     "metadata": {},
     "output_type": "display_data"
    }
   ],
   "source": [
    "predictions_df <- predictions_df %>% filter(!is.na(domain_id))\n",
    "dim(predictions_df)"
   ]
  },
  {
   "cell_type": "markdown",
   "metadata": {},
   "source": [
    "# Generate test_data_op"
   ]
  },
  {
   "cell_type": "code",
   "execution_count": 35,
   "metadata": {},
   "outputs": [
    {
     "data": {
      "text/html": [
       "<style>\n",
       ".list-inline {list-style: none; margin:0; padding: 0}\n",
       ".list-inline>li {display: inline-block}\n",
       ".list-inline>li:not(:last-child)::after {content: \"\\00b7\"; padding: 0 .5ex}\n",
       "</style>\n",
       "<ol class=list-inline><li>296797</li><li>39</li></ol>\n"
      ],
      "text/latex": [
       "\\begin{enumerate*}\n",
       "\\item 296797\n",
       "\\item 39\n",
       "\\end{enumerate*}\n"
      ],
      "text/markdown": [
       "1. 296797\n",
       "2. 39\n",
       "\n",
       "\n"
      ],
      "text/plain": [
       "[1] 296797     39"
      ]
     },
     "metadata": {},
     "output_type": "display_data"
    },
    {
     "data": {
      "text/html": [
       "<table>\n",
       "<caption>A data.table: 6 × 39</caption>\n",
       "<thead>\n",
       "\t<tr><th scope=col>renewal_type</th><th scope=col>renewed_count</th><th scope=col>expiry_date</th><th scope=col>domain_id</th><th scope=col>domain</th><th scope=col>creation_date</th><th scope=col>status</th><th scope=col>tld</th><th scope=col>registrar</th><th scope=col>reseller</th><th scope=col>reseller_country</th><th scope=col>region</th><th scope=col>reg_period</th><th scope=col>registrant_country</th><th scope=col>renewal_status</th><th scope=col>renew_mbg</th><th scope=col>renew_type</th><th scope=col>autorenew_type</th><th scope=col>renew_date</th><th scope=col>renew_registrar</th><th scope=col>renew_reseller</th><th scope=col>reg_revenue</th><th scope=col>reg_arpt</th><th scope=col>renew_period</th><th scope=col>renew_domain_revenue</th><th scope=col>renew_arpt</th><th scope=col>reg_arpt_org</th><th scope=col>tld_registrar_index</th><th scope=col>sld</th><th scope=col>sld_type</th><th scope=col>sld_length</th><th scope=col>sld_type2</th><th scope=col>day_domains</th><th scope=col>log_reg_arpt</th><th scope=col>gibb_score</th><th scope=col>pattern</th><th scope=col>cluster</th><th scope=col>pattern_score</th><th scope=col>pattern_domain_count</th></tr>\n",
       "\t<tr><th scope=col>&lt;chr&gt;</th><th scope=col>&lt;int&gt;</th><th scope=col>&lt;date&gt;</th><th scope=col>&lt;int&gt;</th><th scope=col>&lt;chr&gt;</th><th scope=col>&lt;date&gt;</th><th scope=col>&lt;chr&gt;</th><th scope=col>&lt;fct&gt;</th><th scope=col>&lt;chr&gt;</th><th scope=col>&lt;chr&gt;</th><th scope=col>&lt;chr&gt;</th><th scope=col>&lt;chr&gt;</th><th scope=col>&lt;int&gt;</th><th scope=col>&lt;chr&gt;</th><th scope=col>&lt;fct&gt;</th><th scope=col>&lt;int&gt;</th><th scope=col>&lt;chr&gt;</th><th scope=col>&lt;chr&gt;</th><th scope=col>&lt;date&gt;</th><th scope=col>&lt;chr&gt;</th><th scope=col>&lt;chr&gt;</th><th scope=col>&lt;dbl&gt;</th><th scope=col>&lt;dbl&gt;</th><th scope=col>&lt;int&gt;</th><th scope=col>&lt;dbl&gt;</th><th scope=col>&lt;dbl&gt;</th><th scope=col>&lt;dbl&gt;</th><th scope=col>&lt;chr&gt;</th><th scope=col>&lt;chr&gt;</th><th scope=col>&lt;fct&gt;</th><th scope=col>&lt;int&gt;</th><th scope=col>&lt;chr&gt;</th><th scope=col>&lt;int&gt;</th><th scope=col>&lt;dbl&gt;</th><th scope=col>&lt;dbl&gt;</th><th scope=col>&lt;chr&gt;</th><th scope=col>&lt;chr&gt;</th><th scope=col>&lt;dbl&gt;</th><th scope=col>&lt;int&gt;</th></tr>\n",
       "</thead>\n",
       "<tbody>\n",
       "\t<tr><td>FirstTime</td><td>1</td><td>2020-01-22</td><td> 91639803</td><td><span style=white-space:pre-wrap>segeln.fun   </span></td><td>2019-01-22</td><td>Active</td><td>fun</td><td><span style=white-space:pre-wrap>1&amp;1 internet    </span></td><td><span style=white-space:pre-wrap>1&amp;1 internet    </span></td><td>Germany</td><td>Non China</td><td>1</td><td>NA</td><td><span style=white-space:pre-wrap>Renewed   </span></td><td>0</td><td>auto-renewal</td><td><span style=white-space:pre-wrap>realized  </span></td><td>2020-01-22</td><td><span style=white-space:pre-wrap>1&amp;1 Internet    </span></td><td><span style=white-space:pre-wrap>1&amp;1 Internet    </span></td><td>15</td><td>15</td><td>1</td><td>15</td><td>15</td><td>15</td><td><span style=white-space:pre-wrap>fun1&amp;1 internet    </span></td><td><span style=white-space:pre-wrap>segeln   </span></td><td>l</td><td>6</td><td>6l</td><td>1</td><td>2.708050</td><td>2.23</td><td><span style=white-space:pre-wrap>segeln   </span></td><td>1</td><td>1</td><td>1</td></tr>\n",
       "\t<tr><td>FirstTime</td><td>1</td><td>2020-03-07</td><td> 95819759</td><td>harzhotel.fun</td><td>2019-03-07</td><td>Active</td><td>fun</td><td><span style=white-space:pre-wrap>1&amp;1 internet    </span></td><td><span style=white-space:pre-wrap>1&amp;1 internet    </span></td><td>Germany</td><td>Non China</td><td>1</td><td>NA</td><td><span style=white-space:pre-wrap>Renewed   </span></td><td>0</td><td>auto-renewal</td><td><span style=white-space:pre-wrap>realized  </span></td><td>2020-03-07</td><td><span style=white-space:pre-wrap>1&amp;1 Internet    </span></td><td><span style=white-space:pre-wrap>1&amp;1 Internet    </span></td><td>15</td><td>15</td><td>1</td><td>15</td><td>15</td><td>15</td><td><span style=white-space:pre-wrap>fun1&amp;1 internet    </span></td><td>harzhotel</td><td>l</td><td>9</td><td>9l</td><td>1</td><td>2.708050</td><td>3.45</td><td>harzhotel</td><td>1</td><td>1</td><td>1</td></tr>\n",
       "\t<tr><td>FirstTime</td><td>1</td><td>2020-01-15</td><td> 91044973</td><td>movistar.fun </td><td>2019-01-15</td><td>Active</td><td>fun</td><td>10dencehispahard</td><td>10dencehispahard</td><td>Spain  </td><td>Non China</td><td>1</td><td>NA</td><td>Not Renewd</td><td>0</td><td>auto-renewal</td><td>unrealized</td><td>2020-01-15</td><td>10dencehispahard</td><td>10dencehispahard</td><td>15</td><td>15</td><td>1</td><td>15</td><td>15</td><td>15</td><td>fun10dencehispahard</td><td>movistar </td><td>l</td><td>8</td><td>8l</td><td>1</td><td>2.708050</td><td>8.62</td><td>movistar </td><td>1</td><td>1</td><td>1</td></tr>\n",
       "\t<tr><td>FirstTime</td><td>1</td><td>2020-02-01</td><td> 92472913</td><td>kuinik.fun   </td><td>2019-02-01</td><td>Active</td><td>fun</td><td>10dencehispahard</td><td>10dencehispahard</td><td>Spain  </td><td>Non China</td><td>1</td><td>NA</td><td>Not Renewd</td><td>0</td><td>auto-renewal</td><td>unrealized</td><td>2020-02-01</td><td>10dencehispahard</td><td>10dencehispahard</td><td>15</td><td>15</td><td>1</td><td>15</td><td>15</td><td>15</td><td>fun10dencehispahard</td><td>kuinik   </td><td>l</td><td>6</td><td>6l</td><td>1</td><td>2.708050</td><td>3.13</td><td>kuinik   </td><td>1</td><td>1</td><td>1</td></tr>\n",
       "\t<tr><td>FirstTime</td><td>1</td><td>2020-01-21</td><td> 91532433</td><td>bulgari.fun  </td><td>2019-01-21</td><td>Active</td><td>fun</td><td>1api            </td><td>1api            </td><td>Germany</td><td>Non China</td><td>1</td><td>NA</td><td>Renewed   </td><td>0</td><td>auto-renewal</td><td>realized  </td><td>2020-01-21</td><td>1API            </td><td>1API            </td><td> 5</td><td> 5</td><td>1</td><td>15</td><td>15</td><td> 5</td><td>fun1api            </td><td>bulgari  </td><td>l</td><td>7</td><td>7l</td><td>1</td><td>1.609438</td><td>4.51</td><td>bulgari  </td><td>1</td><td>1</td><td>1</td></tr>\n",
       "\t<tr><td>FirstTime</td><td>1</td><td>2020-04-24</td><td>101717674</td><td>gotsome.fun  </td><td>2019-04-24</td><td>Active</td><td>fun</td><td>1api            </td><td>1api            </td><td>Germany</td><td>Non China</td><td>1</td><td>NA</td><td>Not Renewd</td><td>0</td><td>auto-renewal</td><td>unrealized</td><td>2020-04-24</td><td>1API            </td><td>1API            </td><td> 5</td><td> 5</td><td>1</td><td>15</td><td>15</td><td> 5</td><td>fun1api            </td><td>gotsome  </td><td>l</td><td>7</td><td>7l</td><td>1</td><td>1.609438</td><td>6.09</td><td>gotsome  </td><td>1</td><td>1</td><td>1</td></tr>\n",
       "</tbody>\n",
       "</table>\n"
      ],
      "text/latex": [
       "A data.table: 6 × 39\n",
       "\\begin{tabular}{lllllllllllllllllllllllllllllllllllllll}\n",
       " renewal\\_type & renewed\\_count & expiry\\_date & domain\\_id & domain & creation\\_date & status & tld & registrar & reseller & reseller\\_country & region & reg\\_period & registrant\\_country & renewal\\_status & renew\\_mbg & renew\\_type & autorenew\\_type & renew\\_date & renew\\_registrar & renew\\_reseller & reg\\_revenue & reg\\_arpt & renew\\_period & renew\\_domain\\_revenue & renew\\_arpt & reg\\_arpt\\_org & tld\\_registrar\\_index & sld & sld\\_type & sld\\_length & sld\\_type2 & day\\_domains & log\\_reg\\_arpt & gibb\\_score & pattern & cluster & pattern\\_score & pattern\\_domain\\_count\\\\\n",
       " <chr> & <int> & <date> & <int> & <chr> & <date> & <chr> & <fct> & <chr> & <chr> & <chr> & <chr> & <int> & <chr> & <fct> & <int> & <chr> & <chr> & <date> & <chr> & <chr> & <dbl> & <dbl> & <int> & <dbl> & <dbl> & <dbl> & <chr> & <chr> & <fct> & <int> & <chr> & <int> & <dbl> & <dbl> & <chr> & <chr> & <dbl> & <int>\\\\\n",
       "\\hline\n",
       "\t FirstTime & 1 & 2020-01-22 &  91639803 & segeln.fun    & 2019-01-22 & Active & fun & 1\\&1 internet     & 1\\&1 internet     & Germany & Non China & 1 & NA & Renewed    & 0 & auto-renewal & realized   & 2020-01-22 & 1\\&1 Internet     & 1\\&1 Internet     & 15 & 15 & 1 & 15 & 15 & 15 & fun1\\&1 internet     & segeln    & l & 6 & 6l & 1 & 2.708050 & 2.23 & segeln    & 1 & 1 & 1\\\\\n",
       "\t FirstTime & 1 & 2020-03-07 &  95819759 & harzhotel.fun & 2019-03-07 & Active & fun & 1\\&1 internet     & 1\\&1 internet     & Germany & Non China & 1 & NA & Renewed    & 0 & auto-renewal & realized   & 2020-03-07 & 1\\&1 Internet     & 1\\&1 Internet     & 15 & 15 & 1 & 15 & 15 & 15 & fun1\\&1 internet     & harzhotel & l & 9 & 9l & 1 & 2.708050 & 3.45 & harzhotel & 1 & 1 & 1\\\\\n",
       "\t FirstTime & 1 & 2020-01-15 &  91044973 & movistar.fun  & 2019-01-15 & Active & fun & 10dencehispahard & 10dencehispahard & Spain   & Non China & 1 & NA & Not Renewd & 0 & auto-renewal & unrealized & 2020-01-15 & 10dencehispahard & 10dencehispahard & 15 & 15 & 1 & 15 & 15 & 15 & fun10dencehispahard & movistar  & l & 8 & 8l & 1 & 2.708050 & 8.62 & movistar  & 1 & 1 & 1\\\\\n",
       "\t FirstTime & 1 & 2020-02-01 &  92472913 & kuinik.fun    & 2019-02-01 & Active & fun & 10dencehispahard & 10dencehispahard & Spain   & Non China & 1 & NA & Not Renewd & 0 & auto-renewal & unrealized & 2020-02-01 & 10dencehispahard & 10dencehispahard & 15 & 15 & 1 & 15 & 15 & 15 & fun10dencehispahard & kuinik    & l & 6 & 6l & 1 & 2.708050 & 3.13 & kuinik    & 1 & 1 & 1\\\\\n",
       "\t FirstTime & 1 & 2020-01-21 &  91532433 & bulgari.fun   & 2019-01-21 & Active & fun & 1api             & 1api             & Germany & Non China & 1 & NA & Renewed    & 0 & auto-renewal & realized   & 2020-01-21 & 1API             & 1API             &  5 &  5 & 1 & 15 & 15 &  5 & fun1api             & bulgari   & l & 7 & 7l & 1 & 1.609438 & 4.51 & bulgari   & 1 & 1 & 1\\\\\n",
       "\t FirstTime & 1 & 2020-04-24 & 101717674 & gotsome.fun   & 2019-04-24 & Active & fun & 1api             & 1api             & Germany & Non China & 1 & NA & Not Renewd & 0 & auto-renewal & unrealized & 2020-04-24 & 1API             & 1API             &  5 &  5 & 1 & 15 & 15 &  5 & fun1api             & gotsome   & l & 7 & 7l & 1 & 1.609438 & 6.09 & gotsome   & 1 & 1 & 1\\\\\n",
       "\\end{tabular}\n"
      ],
      "text/markdown": [
       "\n",
       "A data.table: 6 × 39\n",
       "\n",
       "| renewal_type &lt;chr&gt; | renewed_count &lt;int&gt; | expiry_date &lt;date&gt; | domain_id &lt;int&gt; | domain &lt;chr&gt; | creation_date &lt;date&gt; | status &lt;chr&gt; | tld &lt;fct&gt; | registrar &lt;chr&gt; | reseller &lt;chr&gt; | reseller_country &lt;chr&gt; | region &lt;chr&gt; | reg_period &lt;int&gt; | registrant_country &lt;chr&gt; | renewal_status &lt;fct&gt; | renew_mbg &lt;int&gt; | renew_type &lt;chr&gt; | autorenew_type &lt;chr&gt; | renew_date &lt;date&gt; | renew_registrar &lt;chr&gt; | renew_reseller &lt;chr&gt; | reg_revenue &lt;dbl&gt; | reg_arpt &lt;dbl&gt; | renew_period &lt;int&gt; | renew_domain_revenue &lt;dbl&gt; | renew_arpt &lt;dbl&gt; | reg_arpt_org &lt;dbl&gt; | tld_registrar_index &lt;chr&gt; | sld &lt;chr&gt; | sld_type &lt;fct&gt; | sld_length &lt;int&gt; | sld_type2 &lt;chr&gt; | day_domains &lt;int&gt; | log_reg_arpt &lt;dbl&gt; | gibb_score &lt;dbl&gt; | pattern &lt;chr&gt; | cluster &lt;chr&gt; | pattern_score &lt;dbl&gt; | pattern_domain_count &lt;int&gt; |\n",
       "|---|---|---|---|---|---|---|---|---|---|---|---|---|---|---|---|---|---|---|---|---|---|---|---|---|---|---|---|---|---|---|---|---|---|---|---|---|---|---|\n",
       "| FirstTime | 1 | 2020-01-22 |  91639803 | segeln.fun    | 2019-01-22 | Active | fun | 1&amp;1 internet     | 1&amp;1 internet     | Germany | Non China | 1 | NA | Renewed    | 0 | auto-renewal | realized   | 2020-01-22 | 1&amp;1 Internet     | 1&amp;1 Internet     | 15 | 15 | 1 | 15 | 15 | 15 | fun1&amp;1 internet     | segeln    | l | 6 | 6l | 1 | 2.708050 | 2.23 | segeln    | 1 | 1 | 1 |\n",
       "| FirstTime | 1 | 2020-03-07 |  95819759 | harzhotel.fun | 2019-03-07 | Active | fun | 1&amp;1 internet     | 1&amp;1 internet     | Germany | Non China | 1 | NA | Renewed    | 0 | auto-renewal | realized   | 2020-03-07 | 1&amp;1 Internet     | 1&amp;1 Internet     | 15 | 15 | 1 | 15 | 15 | 15 | fun1&amp;1 internet     | harzhotel | l | 9 | 9l | 1 | 2.708050 | 3.45 | harzhotel | 1 | 1 | 1 |\n",
       "| FirstTime | 1 | 2020-01-15 |  91044973 | movistar.fun  | 2019-01-15 | Active | fun | 10dencehispahard | 10dencehispahard | Spain   | Non China | 1 | NA | Not Renewd | 0 | auto-renewal | unrealized | 2020-01-15 | 10dencehispahard | 10dencehispahard | 15 | 15 | 1 | 15 | 15 | 15 | fun10dencehispahard | movistar  | l | 8 | 8l | 1 | 2.708050 | 8.62 | movistar  | 1 | 1 | 1 |\n",
       "| FirstTime | 1 | 2020-02-01 |  92472913 | kuinik.fun    | 2019-02-01 | Active | fun | 10dencehispahard | 10dencehispahard | Spain   | Non China | 1 | NA | Not Renewd | 0 | auto-renewal | unrealized | 2020-02-01 | 10dencehispahard | 10dencehispahard | 15 | 15 | 1 | 15 | 15 | 15 | fun10dencehispahard | kuinik    | l | 6 | 6l | 1 | 2.708050 | 3.13 | kuinik    | 1 | 1 | 1 |\n",
       "| FirstTime | 1 | 2020-01-21 |  91532433 | bulgari.fun   | 2019-01-21 | Active | fun | 1api             | 1api             | Germany | Non China | 1 | NA | Renewed    | 0 | auto-renewal | realized   | 2020-01-21 | 1API             | 1API             |  5 |  5 | 1 | 15 | 15 |  5 | fun1api             | bulgari   | l | 7 | 7l | 1 | 1.609438 | 4.51 | bulgari   | 1 | 1 | 1 |\n",
       "| FirstTime | 1 | 2020-04-24 | 101717674 | gotsome.fun   | 2019-04-24 | Active | fun | 1api             | 1api             | Germany | Non China | 1 | NA | Not Renewd | 0 | auto-renewal | unrealized | 2020-04-24 | 1API             | 1API             |  5 |  5 | 1 | 15 | 15 |  5 | fun1api             | gotsome   | l | 7 | 7l | 1 | 1.609438 | 6.09 | gotsome   | 1 | 1 | 1 |\n",
       "\n"
      ],
      "text/plain": [
       "  renewal_type renewed_count expiry_date domain_id domain        creation_date\n",
       "1 FirstTime    1             2020-01-22   91639803 segeln.fun    2019-01-22   \n",
       "2 FirstTime    1             2020-03-07   95819759 harzhotel.fun 2019-03-07   \n",
       "3 FirstTime    1             2020-01-15   91044973 movistar.fun  2019-01-15   \n",
       "4 FirstTime    1             2020-02-01   92472913 kuinik.fun    2019-02-01   \n",
       "5 FirstTime    1             2020-01-21   91532433 bulgari.fun   2019-01-21   \n",
       "6 FirstTime    1             2020-04-24  101717674 gotsome.fun   2019-04-24   \n",
       "  status tld registrar        reseller         reseller_country region   \n",
       "1 Active fun 1&1 internet     1&1 internet     Germany          Non China\n",
       "2 Active fun 1&1 internet     1&1 internet     Germany          Non China\n",
       "3 Active fun 10dencehispahard 10dencehispahard Spain            Non China\n",
       "4 Active fun 10dencehispahard 10dencehispahard Spain            Non China\n",
       "5 Active fun 1api             1api             Germany          Non China\n",
       "6 Active fun 1api             1api             Germany          Non China\n",
       "  reg_period registrant_country renewal_status renew_mbg renew_type  \n",
       "1 1          NA                 Renewed        0         auto-renewal\n",
       "2 1          NA                 Renewed        0         auto-renewal\n",
       "3 1          NA                 Not Renewd     0         auto-renewal\n",
       "4 1          NA                 Not Renewd     0         auto-renewal\n",
       "5 1          NA                 Renewed        0         auto-renewal\n",
       "6 1          NA                 Not Renewd     0         auto-renewal\n",
       "  autorenew_type renew_date renew_registrar  renew_reseller   reg_revenue\n",
       "1 realized       2020-01-22 1&1 Internet     1&1 Internet     15         \n",
       "2 realized       2020-03-07 1&1 Internet     1&1 Internet     15         \n",
       "3 unrealized     2020-01-15 10dencehispahard 10dencehispahard 15         \n",
       "4 unrealized     2020-02-01 10dencehispahard 10dencehispahard 15         \n",
       "5 realized       2020-01-21 1API             1API              5         \n",
       "6 unrealized     2020-04-24 1API             1API              5         \n",
       "  reg_arpt renew_period renew_domain_revenue renew_arpt reg_arpt_org\n",
       "1 15       1            15                   15         15          \n",
       "2 15       1            15                   15         15          \n",
       "3 15       1            15                   15         15          \n",
       "4 15       1            15                   15         15          \n",
       "5  5       1            15                   15          5          \n",
       "6  5       1            15                   15          5          \n",
       "  tld_registrar_index sld       sld_type sld_length sld_type2 day_domains\n",
       "1 fun1&1 internet     segeln    l        6          6l        1          \n",
       "2 fun1&1 internet     harzhotel l        9          9l        1          \n",
       "3 fun10dencehispahard movistar  l        8          8l        1          \n",
       "4 fun10dencehispahard kuinik    l        6          6l        1          \n",
       "5 fun1api             bulgari   l        7          7l        1          \n",
       "6 fun1api             gotsome   l        7          7l        1          \n",
       "  log_reg_arpt gibb_score pattern   cluster pattern_score pattern_domain_count\n",
       "1 2.708050     2.23       segeln    1       1             1                   \n",
       "2 2.708050     3.45       harzhotel 1       1             1                   \n",
       "3 2.708050     8.62       movistar  1       1             1                   \n",
       "4 2.708050     3.13       kuinik    1       1             1                   \n",
       "5 1.609438     4.51       bulgari   1       1             1                   \n",
       "6 1.609438     6.09       gotsome   1       1             1                   "
      ]
     },
     "metadata": {},
     "output_type": "display_data"
    }
   ],
   "source": [
    "dim(expiry_test_df_1)\n",
    "head(expiry_test_df_1)"
   ]
  },
  {
   "cell_type": "code",
   "execution_count": 38,
   "metadata": {},
   "outputs": [
    {
     "data": {
      "text/html": [
       "<table>\n",
       "<caption>A tibble: 6 × 2</caption>\n",
       "<thead>\n",
       "\t<tr><th scope=col>domain_id</th><th scope=col>n</th></tr>\n",
       "\t<tr><th scope=col>&lt;int&gt;</th><th scope=col>&lt;int&gt;</th></tr>\n",
       "</thead>\n",
       "<tbody>\n",
       "\t<tr><td>1018925</td><td>1</td></tr>\n",
       "\t<tr><td>1837805</td><td>1</td></tr>\n",
       "\t<tr><td>2294288</td><td>1</td></tr>\n",
       "\t<tr><td>6752374</td><td>1</td></tr>\n",
       "\t<tr><td>6758279</td><td>1</td></tr>\n",
       "\t<tr><td>6758512</td><td>1</td></tr>\n",
       "</tbody>\n",
       "</table>\n"
      ],
      "text/latex": [
       "A tibble: 6 × 2\n",
       "\\begin{tabular}{ll}\n",
       " domain\\_id & n\\\\\n",
       " <int> & <int>\\\\\n",
       "\\hline\n",
       "\t 1018925 & 1\\\\\n",
       "\t 1837805 & 1\\\\\n",
       "\t 2294288 & 1\\\\\n",
       "\t 6752374 & 1\\\\\n",
       "\t 6758279 & 1\\\\\n",
       "\t 6758512 & 1\\\\\n",
       "\\end{tabular}\n"
      ],
      "text/markdown": [
       "\n",
       "A tibble: 6 × 2\n",
       "\n",
       "| domain_id &lt;int&gt; | n &lt;int&gt; |\n",
       "|---|---|\n",
       "| 1018925 | 1 |\n",
       "| 1837805 | 1 |\n",
       "| 2294288 | 1 |\n",
       "| 6752374 | 1 |\n",
       "| 6758279 | 1 |\n",
       "| 6758512 | 1 |\n",
       "\n"
      ],
      "text/plain": [
       "  domain_id n\n",
       "1 1018925   1\n",
       "2 1837805   1\n",
       "3 2294288   1\n",
       "4 6752374   1\n",
       "5 6758279   1\n",
       "6 6758512   1"
      ]
     },
     "metadata": {},
     "output_type": "display_data"
    }
   ],
   "source": [
    "expiry_test_df_1 %>% group_by(domain_id) %>% tally() %>% arrange(n) %>% head()"
   ]
  },
  {
   "cell_type": "code",
   "execution_count": 50,
   "metadata": {},
   "outputs": [
    {
     "data": {
      "text/html": [
       "<style>\n",
       ".list-inline {list-style: none; margin:0; padding: 0}\n",
       ".list-inline>li {display: inline-block}\n",
       ".list-inline>li:not(:last-child)::after {content: \"\\00b7\"; padding: 0 .5ex}\n",
       "</style>\n",
       "<ol class=list-inline><li>296797</li><li>47</li></ol>\n"
      ],
      "text/latex": [
       "\\begin{enumerate*}\n",
       "\\item 296797\n",
       "\\item 47\n",
       "\\end{enumerate*}\n"
      ],
      "text/markdown": [
       "1. 296797\n",
       "2. 47\n",
       "\n",
       "\n"
      ],
      "text/plain": [
       "[1] 296797     47"
      ]
     },
     "metadata": {},
     "output_type": "display_data"
    }
   ],
   "source": [
    "expiry_test_predictions <- merge(expiry_test_df_1, \n",
    "      predictions_df,\n",
    "     on = 'domain_id', all=TRUE)\n",
    "dim(expiry_test_predictions)"
   ]
  },
  {
   "cell_type": "code",
   "execution_count": 52,
   "metadata": {},
   "outputs": [
    {
     "data": {
      "text/html": [
       "<style>\n",
       ".list-inline {list-style: none; margin:0; padding: 0}\n",
       ".list-inline>li {display: inline-block}\n",
       ".list-inline>li:not(:last-child)::after {content: \"\\00b7\"; padding: 0 .5ex}\n",
       "</style>\n",
       "<ol class=list-inline><li>88</li><li>47</li></ol>\n"
      ],
      "text/latex": [
       "\\begin{enumerate*}\n",
       "\\item 88\n",
       "\\item 47\n",
       "\\end{enumerate*}\n"
      ],
      "text/markdown": [
       "1. 88\n",
       "2. 47\n",
       "\n",
       "\n"
      ],
      "text/plain": [
       "[1] 88 47"
      ]
     },
     "metadata": {},
     "output_type": "display_data"
    }
   ],
   "source": [
    "expiry_test_predictions %>% filter(is.na(n)) %>% dim()"
   ]
  },
  {
   "cell_type": "markdown",
   "metadata": {},
   "source": [
    "# Pull up reseller_geo"
   ]
  },
  {
   "cell_type": "code",
   "execution_count": 76,
   "metadata": {},
   "outputs": [
    {
     "data": {
      "text/html": [
       "<table>\n",
       "<caption>A data.frame: 6 × 7</caption>\n",
       "<thead>\n",
       "\t<tr><th></th><th scope=col>start_date</th><th scope=col>end_date</th><th scope=col>reseller</th><th scope=col>reseller_am</th><th scope=col>reseller_country</th><th scope=col>registrar</th><th scope=col>reseller_geo</th></tr>\n",
       "\t<tr><th></th><th scope=col>&lt;fct&gt;</th><th scope=col>&lt;fct&gt;</th><th scope=col>&lt;fct&gt;</th><th scope=col>&lt;fct&gt;</th><th scope=col>&lt;fct&gt;</th><th scope=col>&lt;fct&gt;</th><th scope=col>&lt;fct&gt;</th></tr>\n",
       "</thead>\n",
       "<tbody>\n",
       "\t<tr><th scope=row>1</th><td>2013-01-01T00:00:00Z</td><td>2019-12-31T00:00:00Z</td><td>NA                 </td><td>Not Assigned</td><td>NA           </td><td>NA                 </td><td>Others       </td></tr>\n",
       "\t<tr><th scope=row>2</th><td>2013-01-01T00:00:00Z</td><td>2019-12-31T00:00:00Z</td><td>007names           </td><td>Varun       </td><td>United States</td><td>007names           </td><td>United States</td></tr>\n",
       "\t<tr><th scope=row>3</th><td>2013-01-01T00:00:00Z</td><td>2019-12-31T00:00:00Z</td><td>0101 internet      </td><td>Not Assigned</td><td>Hong Kong    </td><td>0101 internet      </td><td>China        </td></tr>\n",
       "\t<tr><th scope=row>4</th><td>2013-01-01T00:00:00Z</td><td>2019-12-31T00:00:00Z</td><td><span style=white-space:pre-wrap>1&amp;1 internet       </span></td><td><span style=white-space:pre-wrap>Neha        </span></td><td><span style=white-space:pre-wrap>Germany      </span></td><td><span style=white-space:pre-wrap>1&amp;1 internet       </span></td><td><span style=white-space:pre-wrap>EU           </span></td></tr>\n",
       "\t<tr><th scope=row>5</th><td>2018-01-01T00:00:00Z</td><td>2019-12-31T00:00:00Z</td><td>101 domain         </td><td>Divya-Brands</td><td>United States</td><td>101 domain         </td><td>United States</td></tr>\n",
       "\t<tr><th scope=row>6</th><td>2013-01-01T00:00:00Z</td><td>2019-12-31T00:00:00Z</td><td>101domain discovery</td><td>Not Assigned</td><td>Germany      </td><td>101domain discovery</td><td>EU           </td></tr>\n",
       "</tbody>\n",
       "</table>\n"
      ],
      "text/latex": [
       "A data.frame: 6 × 7\n",
       "\\begin{tabular}{r|lllllll}\n",
       "  & start\\_date & end\\_date & reseller & reseller\\_am & reseller\\_country & registrar & reseller\\_geo\\\\\n",
       "  & <fct> & <fct> & <fct> & <fct> & <fct> & <fct> & <fct>\\\\\n",
       "\\hline\n",
       "\t1 & 2013-01-01T00:00:00Z & 2019-12-31T00:00:00Z & NA                  & Not Assigned & NA            & NA                  & Others       \\\\\n",
       "\t2 & 2013-01-01T00:00:00Z & 2019-12-31T00:00:00Z & 007names            & Varun        & United States & 007names            & United States\\\\\n",
       "\t3 & 2013-01-01T00:00:00Z & 2019-12-31T00:00:00Z & 0101 internet       & Not Assigned & Hong Kong     & 0101 internet       & China        \\\\\n",
       "\t4 & 2013-01-01T00:00:00Z & 2019-12-31T00:00:00Z & 1\\&1 internet        & Neha         & Germany       & 1\\&1 internet        & EU           \\\\\n",
       "\t5 & 2018-01-01T00:00:00Z & 2019-12-31T00:00:00Z & 101 domain          & Divya-Brands & United States & 101 domain          & United States\\\\\n",
       "\t6 & 2013-01-01T00:00:00Z & 2019-12-31T00:00:00Z & 101domain discovery & Not Assigned & Germany       & 101domain discovery & EU           \\\\\n",
       "\\end{tabular}\n"
      ],
      "text/markdown": [
       "\n",
       "A data.frame: 6 × 7\n",
       "\n",
       "| <!--/--> | start_date &lt;fct&gt; | end_date &lt;fct&gt; | reseller &lt;fct&gt; | reseller_am &lt;fct&gt; | reseller_country &lt;fct&gt; | registrar &lt;fct&gt; | reseller_geo &lt;fct&gt; |\n",
       "|---|---|---|---|---|---|---|---|\n",
       "| 1 | 2013-01-01T00:00:00Z | 2019-12-31T00:00:00Z | NA                  | Not Assigned | NA            | NA                  | Others        |\n",
       "| 2 | 2013-01-01T00:00:00Z | 2019-12-31T00:00:00Z | 007names            | Varun        | United States | 007names            | United States |\n",
       "| 3 | 2013-01-01T00:00:00Z | 2019-12-31T00:00:00Z | 0101 internet       | Not Assigned | Hong Kong     | 0101 internet       | China         |\n",
       "| 4 | 2013-01-01T00:00:00Z | 2019-12-31T00:00:00Z | 1&amp;1 internet        | Neha         | Germany       | 1&amp;1 internet        | EU            |\n",
       "| 5 | 2018-01-01T00:00:00Z | 2019-12-31T00:00:00Z | 101 domain          | Divya-Brands | United States | 101 domain          | United States |\n",
       "| 6 | 2013-01-01T00:00:00Z | 2019-12-31T00:00:00Z | 101domain discovery | Not Assigned | Germany       | 101domain discovery | EU            |\n",
       "\n"
      ],
      "text/plain": [
       "  start_date           end_date             reseller            reseller_am \n",
       "1 2013-01-01T00:00:00Z 2019-12-31T00:00:00Z NA                  Not Assigned\n",
       "2 2013-01-01T00:00:00Z 2019-12-31T00:00:00Z 007names            Varun       \n",
       "3 2013-01-01T00:00:00Z 2019-12-31T00:00:00Z 0101 internet       Not Assigned\n",
       "4 2013-01-01T00:00:00Z 2019-12-31T00:00:00Z 1&1 internet        Neha        \n",
       "5 2018-01-01T00:00:00Z 2019-12-31T00:00:00Z 101 domain          Divya-Brands\n",
       "6 2013-01-01T00:00:00Z 2019-12-31T00:00:00Z 101domain discovery Not Assigned\n",
       "  reseller_country registrar           reseller_geo \n",
       "1 NA               NA                  Others       \n",
       "2 United States    007names            United States\n",
       "3 Hong Kong        0101 internet       China        \n",
       "4 Germany          1&1 internet        EU           \n",
       "5 United States    101 domain          United States\n",
       "6 Germany          101domain discovery EU           "
      ]
     },
     "metadata": {},
     "output_type": "display_data"
    }
   ],
   "source": [
    "system(\"gsutil cp gs://data_input/PredictiveModelAnalysis_ResellerGeoMap.csv /home/jupyter/local/Domains_202003/data/PredictiveModelAnalysis_ResellerGeoMap.csv\")\n",
    "geoLookupDF <- read.csv(\"/home/jupyter/local/Domains_202003/data/PredictiveModelAnalysis_ResellerGeoMap.csv\")\n",
    "# geoLookupDF <- unique(geoLookupDF[,c('reseller','reseller_country','reseller_geo')])\n",
    "head(geoLookupDF)"
   ]
  },
  {
   "cell_type": "code",
   "execution_count": 77,
   "metadata": {},
   "outputs": [
    {
     "data": {
      "text/html": [
       "<table>\n",
       "<caption>A data.frame: 6 × 7</caption>\n",
       "<thead>\n",
       "\t<tr><th></th><th scope=col>start_date</th><th scope=col>end_date</th><th scope=col>reseller</th><th scope=col>reseller_am</th><th scope=col>reseller_country</th><th scope=col>registrar</th><th scope=col>reseller_geo</th></tr>\n",
       "\t<tr><th></th><th scope=col>&lt;fct&gt;</th><th scope=col>&lt;fct&gt;</th><th scope=col>&lt;fct&gt;</th><th scope=col>&lt;fct&gt;</th><th scope=col>&lt;fct&gt;</th><th scope=col>&lt;fct&gt;</th><th scope=col>&lt;fct&gt;</th></tr>\n",
       "</thead>\n",
       "<tbody>\n",
       "\t<tr><th scope=row>1494</th><td>2013-01-01T00:00:00Z</td><td>2019-12-31T00:00:00Z</td><td>stablehost </td><td>Not Assigned</td><td>NA</td><td>ab name isp</td><td>Others</td></tr>\n",
       "\t<tr><th scope=row>1495</th><td>2013-01-01T00:00:00Z</td><td>2019-12-31T00:00:00Z</td><td>hostinger 2</td><td>Varun       </td><td>NA</td><td>pdr ltd    </td><td>Others</td></tr>\n",
       "\t<tr><th scope=row>1496</th><td>2013-01-01T00:00:00Z</td><td>2019-12-31T00:00:00Z</td><td>top.host   </td><td>Varun       </td><td>NA</td><td>enartia    </td><td>Others</td></tr>\n",
       "\t<tr><th scope=row>1497</th><td>2013-01-01T00:00:00Z</td><td>2019-12-31T00:00:00Z</td><td>fs data    </td><td>Varun       </td><td>NA</td><td>ab name isp</td><td>Others</td></tr>\n",
       "\t<tr><th scope=row>1498</th><td>2013-01-01T00:00:00Z</td><td>2019-12-31T00:00:00Z</td><td>nic.ua     </td><td>Varun       </td><td>NA</td><td>pdr ltd    </td><td>Others</td></tr>\n",
       "\t<tr><th scope=row>1499</th><td>NA                  </td><td>NA                  </td><td>NA         </td><td>NA          </td><td>NA</td><td>NA         </td><td>NA    </td></tr>\n",
       "</tbody>\n",
       "</table>\n"
      ],
      "text/latex": [
       "A data.frame: 6 × 7\n",
       "\\begin{tabular}{r|lllllll}\n",
       "  & start\\_date & end\\_date & reseller & reseller\\_am & reseller\\_country & registrar & reseller\\_geo\\\\\n",
       "  & <fct> & <fct> & <fct> & <fct> & <fct> & <fct> & <fct>\\\\\n",
       "\\hline\n",
       "\t1494 & 2013-01-01T00:00:00Z & 2019-12-31T00:00:00Z & stablehost  & Not Assigned & NA & ab name isp & Others\\\\\n",
       "\t1495 & 2013-01-01T00:00:00Z & 2019-12-31T00:00:00Z & hostinger 2 & Varun        & NA & pdr ltd     & Others\\\\\n",
       "\t1496 & 2013-01-01T00:00:00Z & 2019-12-31T00:00:00Z & top.host    & Varun        & NA & enartia     & Others\\\\\n",
       "\t1497 & 2013-01-01T00:00:00Z & 2019-12-31T00:00:00Z & fs data     & Varun        & NA & ab name isp & Others\\\\\n",
       "\t1498 & 2013-01-01T00:00:00Z & 2019-12-31T00:00:00Z & nic.ua      & Varun        & NA & pdr ltd     & Others\\\\\n",
       "\t1499 & NA                   & NA                   & NA          & NA           & NA & NA          & NA    \\\\\n",
       "\\end{tabular}\n"
      ],
      "text/markdown": [
       "\n",
       "A data.frame: 6 × 7\n",
       "\n",
       "| <!--/--> | start_date &lt;fct&gt; | end_date &lt;fct&gt; | reseller &lt;fct&gt; | reseller_am &lt;fct&gt; | reseller_country &lt;fct&gt; | registrar &lt;fct&gt; | reseller_geo &lt;fct&gt; |\n",
       "|---|---|---|---|---|---|---|---|\n",
       "| 1494 | 2013-01-01T00:00:00Z | 2019-12-31T00:00:00Z | stablehost  | Not Assigned | NA | ab name isp | Others |\n",
       "| 1495 | 2013-01-01T00:00:00Z | 2019-12-31T00:00:00Z | hostinger 2 | Varun        | NA | pdr ltd     | Others |\n",
       "| 1496 | 2013-01-01T00:00:00Z | 2019-12-31T00:00:00Z | top.host    | Varun        | NA | enartia     | Others |\n",
       "| 1497 | 2013-01-01T00:00:00Z | 2019-12-31T00:00:00Z | fs data     | Varun        | NA | ab name isp | Others |\n",
       "| 1498 | 2013-01-01T00:00:00Z | 2019-12-31T00:00:00Z | nic.ua      | Varun        | NA | pdr ltd     | Others |\n",
       "| 1499 | NA                   | NA                   | NA          | NA           | NA | NA          | NA     |\n",
       "\n"
      ],
      "text/plain": [
       "     start_date           end_date             reseller    reseller_am \n",
       "1494 2013-01-01T00:00:00Z 2019-12-31T00:00:00Z stablehost  Not Assigned\n",
       "1495 2013-01-01T00:00:00Z 2019-12-31T00:00:00Z hostinger 2 Varun       \n",
       "1496 2013-01-01T00:00:00Z 2019-12-31T00:00:00Z top.host    Varun       \n",
       "1497 2013-01-01T00:00:00Z 2019-12-31T00:00:00Z fs data     Varun       \n",
       "1498 2013-01-01T00:00:00Z 2019-12-31T00:00:00Z nic.ua      Varun       \n",
       "1499 NA                   NA                   NA          NA          \n",
       "     reseller_country registrar   reseller_geo\n",
       "1494 NA               ab name isp Others      \n",
       "1495 NA               pdr ltd     Others      \n",
       "1496 NA               enartia     Others      \n",
       "1497 NA               ab name isp Others      \n",
       "1498 NA               pdr ltd     Others      \n",
       "1499 NA               NA          NA          "
      ]
     },
     "metadata": {},
     "output_type": "display_data"
    }
   ],
   "source": [
    "tail(geoLookupDF)"
   ]
  },
  {
   "cell_type": "code",
   "execution_count": 79,
   "metadata": {},
   "outputs": [
    {
     "data": {
      "text/html": [
       "<style>\n",
       ".list-inline {list-style: none; margin:0; padding: 0}\n",
       ".list-inline>li {display: inline-block}\n",
       ".list-inline>li:not(:last-child)::after {content: \"\\00b7\"; padding: 0 .5ex}\n",
       "</style>\n",
       "<ol class=list-inline><li>1499</li><li>7</li></ol>\n"
      ],
      "text/latex": [
       "\\begin{enumerate*}\n",
       "\\item 1499\n",
       "\\item 7\n",
       "\\end{enumerate*}\n"
      ],
      "text/markdown": [
       "1. 1499\n",
       "2. 7\n",
       "\n",
       "\n"
      ],
      "text/plain": [
       "[1] 1499    7"
      ]
     },
     "metadata": {},
     "output_type": "display_data"
    },
    {
     "data": {
      "text/html": [
       "<style>\n",
       ".list-inline {list-style: none; margin:0; padding: 0}\n",
       ".list-inline>li {display: inline-block}\n",
       ".list-inline>li:not(:last-child)::after {content: \"\\00b7\"; padding: 0 .5ex}\n",
       "</style>\n",
       "<ol class=list-inline><li>1498</li><li>7</li></ol>\n"
      ],
      "text/latex": [
       "\\begin{enumerate*}\n",
       "\\item 1498\n",
       "\\item 7\n",
       "\\end{enumerate*}\n"
      ],
      "text/markdown": [
       "1. 1498\n",
       "2. 7\n",
       "\n",
       "\n"
      ],
      "text/plain": [
       "[1] 1498    7"
      ]
     },
     "metadata": {},
     "output_type": "display_data"
    }
   ],
   "source": [
    "# need to remove final row with all NAs\n",
    "dim(geoLookupDF)\n",
    "geoLookupDF <- geoLookupDF %>% filter_all(any_vars(!is.na(.)))\n",
    "dim(geoLookupDF)"
   ]
  },
  {
   "cell_type": "markdown",
   "metadata": {},
   "source": [
    "# Add reseller_geo to expiry_test_predictions"
   ]
  },
  {
   "cell_type": "code",
   "execution_count": 80,
   "metadata": {},
   "outputs": [
    {
     "name": "stdout",
     "output_type": "stream",
     "text": [
      "'data.frame':\t297261 obs. of  2 variables:\n",
      " $ reseller        : Factor w/ 280 levels \"1&1 internet\",..: 1 1 1 1 1 1 1 1 1 1 ...\n",
      " $ reseller_country: Factor w/ 53 levels \"\",\"Argentina\",..: 16 16 16 16 16 16 16 16 16 16 ...\n",
      "'data.frame':\t1498 obs. of  2 variables:\n",
      " $ reseller        : Factor w/ 1473 levels \"007names\",\"0101 internet\",..: NA 1 2 3 4 5 7 6 8 9 ...\n",
      " $ reseller_country: Factor w/ 80 levels \"Africa\",\"Argentina\",..: NA 76 30 24 76 24 13 66 75 53 ...\n"
     ]
    }
   ],
   "source": [
    "expiry_test_predictions %>% select('reseller','reseller_country') %>% str()\n",
    "geoLookupDF %>% select('reseller','reseller_country') %>% str()"
   ]
  },
  {
   "cell_type": "code",
   "execution_count": 81,
   "metadata": {},
   "outputs": [],
   "source": [
    "expiry_test_predictions$reseller <- factor(expiry_test_predictions$reseller)\n",
    "expiry_test_predictions$reseller_country <- factor(expiry_test_predictions$reseller_country)\n",
    "expiry_test_predictions <- as.data.frame(expiry_test_predictions)"
   ]
  },
  {
   "cell_type": "code",
   "execution_count": 82,
   "metadata": {},
   "outputs": [
    {
     "name": "stdout",
     "output_type": "stream",
     "text": [
      "'data.frame':\t297261 obs. of  2 variables:\n",
      " $ reseller        : Factor w/ 280 levels \"1&1 internet\",..: 1 1 1 1 1 1 1 1 1 1 ...\n",
      " $ reseller_country: Factor w/ 53 levels \"\",\"Argentina\",..: 16 16 16 16 16 16 16 16 16 16 ...\n",
      "'data.frame':\t1498 obs. of  2 variables:\n",
      " $ reseller        : Factor w/ 1473 levels \"007names\",\"0101 internet\",..: NA 1 2 3 4 5 7 6 8 9 ...\n",
      " $ reseller_country: Factor w/ 80 levels \"Africa\",\"Argentina\",..: NA 76 30 24 76 24 13 66 75 53 ...\n"
     ]
    }
   ],
   "source": [
    "expiry_test_predictions %>% select('reseller','reseller_country') %>% str()\n",
    "geoLookupDF %>% select('reseller','reseller_country') %>% str()"
   ]
  },
  {
   "cell_type": "code",
   "execution_count": 84,
   "metadata": {},
   "outputs": [
    {
     "data": {
      "text/html": [
       "<style>\n",
       ".list-inline {list-style: none; margin:0; padding: 0}\n",
       ".list-inline>li {display: inline-block}\n",
       ".list-inline>li:not(:last-child)::after {content: \"\\00b7\"; padding: 0 .5ex}\n",
       "</style>\n",
       "<ol class=list-inline><li>297261</li><li>51</li></ol>\n"
      ],
      "text/latex": [
       "\\begin{enumerate*}\n",
       "\\item 297261\n",
       "\\item 51\n",
       "\\end{enumerate*}\n"
      ],
      "text/markdown": [
       "1. 297261\n",
       "2. 51\n",
       "\n",
       "\n"
      ],
      "text/plain": [
       "[1] 297261     51"
      ]
     },
     "metadata": {},
     "output_type": "display_data"
    },
    {
     "data": {
      "text/html": [
       "<style>\n",
       ".list-inline {list-style: none; margin:0; padding: 0}\n",
       ".list-inline>li {display: inline-block}\n",
       ".list-inline>li:not(:last-child)::after {content: \"\\00b7\"; padding: 0 .5ex}\n",
       "</style>\n",
       "<ol class=list-inline><li>297261</li><li>51</li></ol>\n"
      ],
      "text/latex": [
       "\\begin{enumerate*}\n",
       "\\item 297261\n",
       "\\item 51\n",
       "\\end{enumerate*}\n"
      ],
      "text/markdown": [
       "1. 297261\n",
       "2. 51\n",
       "\n",
       "\n"
      ],
      "text/plain": [
       "[1] 297261     51"
      ]
     },
     "metadata": {},
     "output_type": "display_data"
    },
    {
     "data": {
      "text/html": [
       "<table>\n",
       "<caption>A data.frame: 6 × 51</caption>\n",
       "<thead>\n",
       "\t<tr><th></th><th scope=col>reseller</th><th scope=col>registrar</th><th scope=col>reseller_country</th><th scope=col>start_date</th><th scope=col>end_date</th><th scope=col>reseller_am</th><th scope=col>reseller_geo</th><th scope=col>domain_id</th><th scope=col>domain</th><th scope=col>tld_registrar_index</th><th scope=col>renewal_type</th><th scope=col>renewed_count</th><th scope=col>expiry_date</th><th scope=col>creation_date</th><th scope=col>status</th><th scope=col>tld</th><th scope=col>region</th><th scope=col>reg_period</th><th scope=col>registrant_country</th><th scope=col>renewal_status</th><th scope=col>renew_mbg</th><th scope=col>renew_type</th><th scope=col>autorenew_type</th><th scope=col>renew_date</th><th scope=col>renew_registrar</th><th scope=col>⋯</th><th scope=col>reg_revenue</th><th scope=col>reg_arpt</th><th scope=col>renew_period</th><th scope=col>renew_domain_revenue</th><th scope=col>renew_arpt</th><th scope=col>reg_arpt_org</th><th scope=col>sld</th><th scope=col>sld_type</th><th scope=col>sld_length</th><th scope=col>sld_type2</th><th scope=col>day_domains</th><th scope=col>log_reg_arpt</th><th scope=col>gibb_score</th><th scope=col>pattern</th><th scope=col>cluster</th><th scope=col>pattern_score</th><th scope=col>pattern_domain_count</th><th scope=col>actual</th><th scope=col>pred_df_seg2_glm</th><th scope=col>pred_df_seg_glm</th><th scope=col>pred_df_agg_glm</th><th scope=col>pred_df_seg2_rf</th><th scope=col>pred_df_seg_rf</th><th scope=col>pred_df_agg_rf</th><th scope=col>n</th></tr>\n",
       "\t<tr><th></th><th scope=col>&lt;fct&gt;</th><th scope=col>&lt;chr&gt;</th><th scope=col>&lt;fct&gt;</th><th scope=col>&lt;fct&gt;</th><th scope=col>&lt;fct&gt;</th><th scope=col>&lt;fct&gt;</th><th scope=col>&lt;fct&gt;</th><th scope=col>&lt;int&gt;</th><th scope=col>&lt;chr&gt;</th><th scope=col>&lt;chr&gt;</th><th scope=col>&lt;chr&gt;</th><th scope=col>&lt;int&gt;</th><th scope=col>&lt;date&gt;</th><th scope=col>&lt;date&gt;</th><th scope=col>&lt;chr&gt;</th><th scope=col>&lt;fct&gt;</th><th scope=col>&lt;chr&gt;</th><th scope=col>&lt;int&gt;</th><th scope=col>&lt;chr&gt;</th><th scope=col>&lt;fct&gt;</th><th scope=col>&lt;int&gt;</th><th scope=col>&lt;chr&gt;</th><th scope=col>&lt;chr&gt;</th><th scope=col>&lt;date&gt;</th><th scope=col>&lt;chr&gt;</th><th scope=col>⋯</th><th scope=col>&lt;dbl&gt;</th><th scope=col>&lt;dbl&gt;</th><th scope=col>&lt;int&gt;</th><th scope=col>&lt;dbl&gt;</th><th scope=col>&lt;dbl&gt;</th><th scope=col>&lt;dbl&gt;</th><th scope=col>&lt;chr&gt;</th><th scope=col>&lt;fct&gt;</th><th scope=col>&lt;int&gt;</th><th scope=col>&lt;chr&gt;</th><th scope=col>&lt;int&gt;</th><th scope=col>&lt;dbl&gt;</th><th scope=col>&lt;dbl&gt;</th><th scope=col>&lt;chr&gt;</th><th scope=col>&lt;chr&gt;</th><th scope=col>&lt;dbl&gt;</th><th scope=col>&lt;int&gt;</th><th scope=col>&lt;fct&gt;</th><th scope=col>&lt;dbl&gt;</th><th scope=col>&lt;dbl&gt;</th><th scope=col>&lt;dbl&gt;</th><th scope=col>&lt;dbl&gt;</th><th scope=col>&lt;dbl&gt;</th><th scope=col>&lt;dbl&gt;</th><th scope=col>&lt;int&gt;</th></tr>\n",
       "</thead>\n",
       "<tbody>\n",
       "\t<tr><th scope=row>1</th><td>1&amp;1 internet</td><td>1&amp;1 internet</td><td>Germany</td><td>2013-01-01T00:00:00Z</td><td>2019-12-31T00:00:00Z</td><td>Neha</td><td>EU</td><td> 92470318</td><td><span style=white-space:pre-wrap>glassmade.store          </span></td><td>store1&amp;1 internet </td><td>FirstTime</td><td>1</td><td>2020-02-01</td><td>2019-02-01</td><td>Deleted</td><td>store </td><td>Non China</td><td>1</td><td>NA</td><td>Not Renewd</td><td>0</td><td><span style=white-space:pre-wrap>NA          </span></td><td><span style=white-space:pre-wrap>NA        </span></td><td>NA</td><td>Not Assigned</td><td>⋯</td><td>15</td><td>15.0000</td><td>NA</td><td> 0</td><td>NA</td><td>15</td><td><span style=white-space:pre-wrap>glassmade         </span></td><td><span style=white-space:pre-wrap>l       </span></td><td> 9</td><td><span style=white-space:pre-wrap>9l        </span></td><td> 4</td><td> 2.708050</td><td>6.28</td><td>4 </td><td><span style=white-space:pre-wrap>glassmade         </span></td><td>0.062500000</td><td>1</td><td>Not Renewd</td><td>0.5261422</td><td>0.557</td><td>0.573</td><td>0.5818937</td><td>0.5460195</td><td>0.5327083</td><td> 765</td></tr>\n",
       "\t<tr><th scope=row>2</th><td>1&amp;1 internet</td><td>1&amp;1 internet</td><td>Germany</td><td>2013-01-01T00:00:00Z</td><td>2019-12-31T00:00:00Z</td><td>Neha</td><td>EU</td><td> 99323114</td><td><span style=white-space:pre-wrap>ecucoche.online          </span></td><td>online1&amp;1 internet</td><td>FirstTime</td><td>1</td><td>2020-04-09</td><td>2019-04-09</td><td>Active </td><td>online</td><td>Non China</td><td>1</td><td>NA</td><td><span style=white-space:pre-wrap>Renewed   </span></td><td>0</td><td>auto-renewal</td><td><span style=white-space:pre-wrap>realized  </span></td><td>2020-04-09</td><td>1&amp;1 Internet</td><td>⋯</td><td> 0</td><td> 0.0001</td><td> 1</td><td>25</td><td>25</td><td> 0</td><td><span style=white-space:pre-wrap>ecucoche          </span></td><td><span style=white-space:pre-wrap>l       </span></td><td> 8</td><td><span style=white-space:pre-wrap>8l        </span></td><td>11</td><td>-9.210340</td><td>6.93</td><td>5 </td><td><span style=white-space:pre-wrap>ecucoche          </span></td><td>0.008264463</td><td>1</td><td><span style=white-space:pre-wrap>Renewed   </span></td><td>0.4982588</td><td>0.504</td><td>0.413</td><td>0.5069737</td><td>0.5028680</td><td>0.4991597</td><td>8041</td></tr>\n",
       "\t<tr><th scope=row>3</th><td>1&amp;1 internet</td><td>1&amp;1 internet</td><td>Germany</td><td>2013-01-01T00:00:00Z</td><td>2019-12-31T00:00:00Z</td><td>Neha</td><td>EU</td><td> 99044709</td><td>johnnyhaliday-home.online</td><td>online1&amp;1 internet</td><td>FirstTime</td><td>1</td><td>2020-04-05</td><td>2019-04-05</td><td>Active </td><td>online</td><td>Non China</td><td>1</td><td>NA</td><td><span style=white-space:pre-wrap>Renewed   </span></td><td>0</td><td>auto-renewal</td><td><span style=white-space:pre-wrap>realized  </span></td><td>2020-04-05</td><td>1&amp;1 Internet</td><td>⋯</td><td> 4</td><td> 4.0000</td><td> 1</td><td>25</td><td>25</td><td> 4</td><td>johnnyhaliday-home</td><td>hyphen-l</td><td>18</td><td>18hyphen-l</td><td>19</td><td> 1.386294</td><td>2.10</td><td>14</td><td>johnnyhaliday-home</td><td>0.002770083</td><td>1</td><td><span style=white-space:pre-wrap>Renewed   </span></td><td>0.5363220</td><td>0.542</td><td>0.494</td><td>0.4144221</td><td>0.3702964</td><td>0.4098304</td><td>8041</td></tr>\n",
       "\t<tr><th scope=row>4</th><td>1&amp;1 internet</td><td>1&amp;1 internet</td><td>Germany</td><td>2013-01-01T00:00:00Z</td><td>2019-12-31T00:00:00Z</td><td>Neha</td><td>EU</td><td> 97657424</td><td><span style=white-space:pre-wrap>app88.online             </span></td><td>online1&amp;1 internet</td><td>FirstTime</td><td>1</td><td>2020-03-23</td><td>2019-03-23</td><td>Active </td><td>online</td><td>Non China</td><td>1</td><td>NA</td><td>Not Renewd</td><td>0</td><td>auto-renewal</td><td>unrealized</td><td>2020-03-23</td><td>1&amp;1 Internet</td><td>⋯</td><td> 0</td><td> 0.0001</td><td> 1</td><td>25</td><td>25</td><td> 0</td><td><span style=white-space:pre-wrap>app88             </span></td><td><span style=white-space:pre-wrap>ln      </span></td><td> 5</td><td><span style=white-space:pre-wrap>5ln       </span></td><td> 6</td><td>-9.210340</td><td>3.54</td><td>5 </td><td><span style=white-space:pre-wrap>app88             </span></td><td>0.027777778</td><td>1</td><td>Not Renewd</td><td>0.4369159</td><td>0.442</td><td>0.277</td><td>0.4805998</td><td>0.4450191</td><td>0.4593844</td><td>8041</td></tr>\n",
       "\t<tr><th scope=row>5</th><td>1&amp;1 internet</td><td>1&amp;1 internet</td><td>Germany</td><td>2013-01-01T00:00:00Z</td><td>2019-12-31T00:00:00Z</td><td>Neha</td><td>EU</td><td>102487989</td><td><span style=white-space:pre-wrap>boxbcnamenities.online   </span></td><td>online1&amp;1 internet</td><td>FirstTime</td><td>1</td><td>2020-04-30</td><td>2019-04-30</td><td>Active </td><td>online</td><td>Non China</td><td>1</td><td>NA</td><td><span style=white-space:pre-wrap>Renewed   </span></td><td>0</td><td>auto-renewal</td><td><span style=white-space:pre-wrap>realized  </span></td><td>2020-04-30</td><td>1&amp;1 Internet</td><td>⋯</td><td> 1</td><td> 1.0000</td><td> 1</td><td>25</td><td>25</td><td> 1</td><td><span style=white-space:pre-wrap>boxbcnamenities   </span></td><td><span style=white-space:pre-wrap>l       </span></td><td>15</td><td><span style=white-space:pre-wrap>15l       </span></td><td>13</td><td> 0.000000</td><td>1.99</td><td>13</td><td><span style=white-space:pre-wrap>boxbcnamenities   </span></td><td>0.005917160</td><td>1</td><td><span style=white-space:pre-wrap>Renewed   </span></td><td>0.4629511</td><td>0.470</td><td>0.469</td><td>0.3788837</td><td>0.4158225</td><td>0.4547808</td><td>8041</td></tr>\n",
       "\t<tr><th scope=row>6</th><td>1&amp;1 internet</td><td>1&amp;1 internet</td><td>Germany</td><td>2013-01-01T00:00:00Z</td><td>2019-12-31T00:00:00Z</td><td>Neha</td><td>EU</td><td> 89522687</td><td><span style=white-space:pre-wrap>deperlite.online         </span></td><td>online1&amp;1 internet</td><td>FirstTime</td><td>1</td><td>2020-01-03</td><td>2019-01-03</td><td>Active </td><td>online</td><td>Non China</td><td>1</td><td>NA</td><td>Not Renewd</td><td>0</td><td>auto-renewal</td><td>unrealized</td><td>2020-01-03</td><td>1&amp;1 Internet</td><td>⋯</td><td> 0</td><td> 0.0001</td><td> 1</td><td>25</td><td>25</td><td> 0</td><td><span style=white-space:pre-wrap>deperlite         </span></td><td><span style=white-space:pre-wrap>l       </span></td><td> 9</td><td><span style=white-space:pre-wrap>9l        </span></td><td>26</td><td>-9.210340</td><td>6.89</td><td>25</td><td><span style=white-space:pre-wrap>deperlite         </span></td><td>0.001479290</td><td>1</td><td>Not Renewd</td><td>0.4736138</td><td>0.476</td><td>0.402</td><td>0.3505893</td><td>0.4157406</td><td>0.4134431</td><td>8041</td></tr>\n",
       "</tbody>\n",
       "</table>\n"
      ],
      "text/latex": [
       "A data.frame: 6 × 51\n",
       "\\begin{tabular}{r|lllllllllllllllllllllllllllllllllllllllllllllllllll}\n",
       "  & reseller & registrar & reseller\\_country & start\\_date & end\\_date & reseller\\_am & reseller\\_geo & domain\\_id & domain & tld\\_registrar\\_index & renewal\\_type & renewed\\_count & expiry\\_date & creation\\_date & status & tld & region & reg\\_period & registrant\\_country & renewal\\_status & renew\\_mbg & renew\\_type & autorenew\\_type & renew\\_date & renew\\_registrar & ⋯ & reg\\_revenue & reg\\_arpt & renew\\_period & renew\\_domain\\_revenue & renew\\_arpt & reg\\_arpt\\_org & sld & sld\\_type & sld\\_length & sld\\_type2 & day\\_domains & log\\_reg\\_arpt & gibb\\_score & pattern & cluster & pattern\\_score & pattern\\_domain\\_count & actual & pred\\_df\\_seg2\\_glm & pred\\_df\\_seg\\_glm & pred\\_df\\_agg\\_glm & pred\\_df\\_seg2\\_rf & pred\\_df\\_seg\\_rf & pred\\_df\\_agg\\_rf & n\\\\\n",
       "  & <fct> & <chr> & <fct> & <fct> & <fct> & <fct> & <fct> & <int> & <chr> & <chr> & <chr> & <int> & <date> & <date> & <chr> & <fct> & <chr> & <int> & <chr> & <fct> & <int> & <chr> & <chr> & <date> & <chr> & ⋯ & <dbl> & <dbl> & <int> & <dbl> & <dbl> & <dbl> & <chr> & <fct> & <int> & <chr> & <int> & <dbl> & <dbl> & <chr> & <chr> & <dbl> & <int> & <fct> & <dbl> & <dbl> & <dbl> & <dbl> & <dbl> & <dbl> & <int>\\\\\n",
       "\\hline\n",
       "\t1 & 1\\&1 internet & 1\\&1 internet & Germany & 2013-01-01T00:00:00Z & 2019-12-31T00:00:00Z & Neha & EU &  92470318 & glassmade.store           & store1\\&1 internet  & FirstTime & 1 & 2020-02-01 & 2019-02-01 & Deleted & store  & Non China & 1 & NA & Not Renewd & 0 & NA           & NA         & NA & Not Assigned & ⋯ & 15 & 15.0000 & NA &  0 & NA & 15 & glassmade          & l        &  9 & 9l         &  4 &  2.708050 & 6.28 & 4  & glassmade          & 0.062500000 & 1 & Not Renewd & 0.5261422 & 0.557 & 0.573 & 0.5818937 & 0.5460195 & 0.5327083 &  765\\\\\n",
       "\t2 & 1\\&1 internet & 1\\&1 internet & Germany & 2013-01-01T00:00:00Z & 2019-12-31T00:00:00Z & Neha & EU &  99323114 & ecucoche.online           & online1\\&1 internet & FirstTime & 1 & 2020-04-09 & 2019-04-09 & Active  & online & Non China & 1 & NA & Renewed    & 0 & auto-renewal & realized   & 2020-04-09 & 1\\&1 Internet & ⋯ &  0 &  0.0001 &  1 & 25 & 25 &  0 & ecucoche           & l        &  8 & 8l         & 11 & -9.210340 & 6.93 & 5  & ecucoche           & 0.008264463 & 1 & Renewed    & 0.4982588 & 0.504 & 0.413 & 0.5069737 & 0.5028680 & 0.4991597 & 8041\\\\\n",
       "\t3 & 1\\&1 internet & 1\\&1 internet & Germany & 2013-01-01T00:00:00Z & 2019-12-31T00:00:00Z & Neha & EU &  99044709 & johnnyhaliday-home.online & online1\\&1 internet & FirstTime & 1 & 2020-04-05 & 2019-04-05 & Active  & online & Non China & 1 & NA & Renewed    & 0 & auto-renewal & realized   & 2020-04-05 & 1\\&1 Internet & ⋯ &  4 &  4.0000 &  1 & 25 & 25 &  4 & johnnyhaliday-home & hyphen-l & 18 & 18hyphen-l & 19 &  1.386294 & 2.10 & 14 & johnnyhaliday-home & 0.002770083 & 1 & Renewed    & 0.5363220 & 0.542 & 0.494 & 0.4144221 & 0.3702964 & 0.4098304 & 8041\\\\\n",
       "\t4 & 1\\&1 internet & 1\\&1 internet & Germany & 2013-01-01T00:00:00Z & 2019-12-31T00:00:00Z & Neha & EU &  97657424 & app88.online              & online1\\&1 internet & FirstTime & 1 & 2020-03-23 & 2019-03-23 & Active  & online & Non China & 1 & NA & Not Renewd & 0 & auto-renewal & unrealized & 2020-03-23 & 1\\&1 Internet & ⋯ &  0 &  0.0001 &  1 & 25 & 25 &  0 & app88              & ln       &  5 & 5ln        &  6 & -9.210340 & 3.54 & 5  & app88              & 0.027777778 & 1 & Not Renewd & 0.4369159 & 0.442 & 0.277 & 0.4805998 & 0.4450191 & 0.4593844 & 8041\\\\\n",
       "\t5 & 1\\&1 internet & 1\\&1 internet & Germany & 2013-01-01T00:00:00Z & 2019-12-31T00:00:00Z & Neha & EU & 102487989 & boxbcnamenities.online    & online1\\&1 internet & FirstTime & 1 & 2020-04-30 & 2019-04-30 & Active  & online & Non China & 1 & NA & Renewed    & 0 & auto-renewal & realized   & 2020-04-30 & 1\\&1 Internet & ⋯ &  1 &  1.0000 &  1 & 25 & 25 &  1 & boxbcnamenities    & l        & 15 & 15l        & 13 &  0.000000 & 1.99 & 13 & boxbcnamenities    & 0.005917160 & 1 & Renewed    & 0.4629511 & 0.470 & 0.469 & 0.3788837 & 0.4158225 & 0.4547808 & 8041\\\\\n",
       "\t6 & 1\\&1 internet & 1\\&1 internet & Germany & 2013-01-01T00:00:00Z & 2019-12-31T00:00:00Z & Neha & EU &  89522687 & deperlite.online          & online1\\&1 internet & FirstTime & 1 & 2020-01-03 & 2019-01-03 & Active  & online & Non China & 1 & NA & Not Renewd & 0 & auto-renewal & unrealized & 2020-01-03 & 1\\&1 Internet & ⋯ &  0 &  0.0001 &  1 & 25 & 25 &  0 & deperlite          & l        &  9 & 9l         & 26 & -9.210340 & 6.89 & 25 & deperlite          & 0.001479290 & 1 & Not Renewd & 0.4736138 & 0.476 & 0.402 & 0.3505893 & 0.4157406 & 0.4134431 & 8041\\\\\n",
       "\\end{tabular}\n"
      ],
      "text/markdown": [
       "\n",
       "A data.frame: 6 × 51\n",
       "\n",
       "| <!--/--> | reseller &lt;fct&gt; | registrar &lt;chr&gt; | reseller_country &lt;fct&gt; | start_date &lt;fct&gt; | end_date &lt;fct&gt; | reseller_am &lt;fct&gt; | reseller_geo &lt;fct&gt; | domain_id &lt;int&gt; | domain &lt;chr&gt; | tld_registrar_index &lt;chr&gt; | renewal_type &lt;chr&gt; | renewed_count &lt;int&gt; | expiry_date &lt;date&gt; | creation_date &lt;date&gt; | status &lt;chr&gt; | tld &lt;fct&gt; | region &lt;chr&gt; | reg_period &lt;int&gt; | registrant_country &lt;chr&gt; | renewal_status &lt;fct&gt; | renew_mbg &lt;int&gt; | renew_type &lt;chr&gt; | autorenew_type &lt;chr&gt; | renew_date &lt;date&gt; | renew_registrar &lt;chr&gt; | ⋯ ⋯ | reg_revenue &lt;dbl&gt; | reg_arpt &lt;dbl&gt; | renew_period &lt;int&gt; | renew_domain_revenue &lt;dbl&gt; | renew_arpt &lt;dbl&gt; | reg_arpt_org &lt;dbl&gt; | sld &lt;chr&gt; | sld_type &lt;fct&gt; | sld_length &lt;int&gt; | sld_type2 &lt;chr&gt; | day_domains &lt;int&gt; | log_reg_arpt &lt;dbl&gt; | gibb_score &lt;dbl&gt; | pattern &lt;chr&gt; | cluster &lt;chr&gt; | pattern_score &lt;dbl&gt; | pattern_domain_count &lt;int&gt; | actual &lt;fct&gt; | pred_df_seg2_glm &lt;dbl&gt; | pred_df_seg_glm &lt;dbl&gt; | pred_df_agg_glm &lt;dbl&gt; | pred_df_seg2_rf &lt;dbl&gt; | pred_df_seg_rf &lt;dbl&gt; | pred_df_agg_rf &lt;dbl&gt; | n &lt;int&gt; |\n",
       "|---|---|---|---|---|---|---|---|---|---|---|---|---|---|---|---|---|---|---|---|---|---|---|---|---|---|---|---|---|---|---|---|---|---|---|---|---|---|---|---|---|---|---|---|---|---|---|---|---|---|---|---|\n",
       "| 1 | 1&amp;1 internet | 1&amp;1 internet | Germany | 2013-01-01T00:00:00Z | 2019-12-31T00:00:00Z | Neha | EU |  92470318 | glassmade.store           | store1&amp;1 internet  | FirstTime | 1 | 2020-02-01 | 2019-02-01 | Deleted | store  | Non China | 1 | NA | Not Renewd | 0 | NA           | NA         | NA | Not Assigned | ⋯ | 15 | 15.0000 | NA |  0 | NA | 15 | glassmade          | l        |  9 | 9l         |  4 |  2.708050 | 6.28 | 4  | glassmade          | 0.062500000 | 1 | Not Renewd | 0.5261422 | 0.557 | 0.573 | 0.5818937 | 0.5460195 | 0.5327083 |  765 |\n",
       "| 2 | 1&amp;1 internet | 1&amp;1 internet | Germany | 2013-01-01T00:00:00Z | 2019-12-31T00:00:00Z | Neha | EU |  99323114 | ecucoche.online           | online1&amp;1 internet | FirstTime | 1 | 2020-04-09 | 2019-04-09 | Active  | online | Non China | 1 | NA | Renewed    | 0 | auto-renewal | realized   | 2020-04-09 | 1&amp;1 Internet | ⋯ |  0 |  0.0001 |  1 | 25 | 25 |  0 | ecucoche           | l        |  8 | 8l         | 11 | -9.210340 | 6.93 | 5  | ecucoche           | 0.008264463 | 1 | Renewed    | 0.4982588 | 0.504 | 0.413 | 0.5069737 | 0.5028680 | 0.4991597 | 8041 |\n",
       "| 3 | 1&amp;1 internet | 1&amp;1 internet | Germany | 2013-01-01T00:00:00Z | 2019-12-31T00:00:00Z | Neha | EU |  99044709 | johnnyhaliday-home.online | online1&amp;1 internet | FirstTime | 1 | 2020-04-05 | 2019-04-05 | Active  | online | Non China | 1 | NA | Renewed    | 0 | auto-renewal | realized   | 2020-04-05 | 1&amp;1 Internet | ⋯ |  4 |  4.0000 |  1 | 25 | 25 |  4 | johnnyhaliday-home | hyphen-l | 18 | 18hyphen-l | 19 |  1.386294 | 2.10 | 14 | johnnyhaliday-home | 0.002770083 | 1 | Renewed    | 0.5363220 | 0.542 | 0.494 | 0.4144221 | 0.3702964 | 0.4098304 | 8041 |\n",
       "| 4 | 1&amp;1 internet | 1&amp;1 internet | Germany | 2013-01-01T00:00:00Z | 2019-12-31T00:00:00Z | Neha | EU |  97657424 | app88.online              | online1&amp;1 internet | FirstTime | 1 | 2020-03-23 | 2019-03-23 | Active  | online | Non China | 1 | NA | Not Renewd | 0 | auto-renewal | unrealized | 2020-03-23 | 1&amp;1 Internet | ⋯ |  0 |  0.0001 |  1 | 25 | 25 |  0 | app88              | ln       |  5 | 5ln        |  6 | -9.210340 | 3.54 | 5  | app88              | 0.027777778 | 1 | Not Renewd | 0.4369159 | 0.442 | 0.277 | 0.4805998 | 0.4450191 | 0.4593844 | 8041 |\n",
       "| 5 | 1&amp;1 internet | 1&amp;1 internet | Germany | 2013-01-01T00:00:00Z | 2019-12-31T00:00:00Z | Neha | EU | 102487989 | boxbcnamenities.online    | online1&amp;1 internet | FirstTime | 1 | 2020-04-30 | 2019-04-30 | Active  | online | Non China | 1 | NA | Renewed    | 0 | auto-renewal | realized   | 2020-04-30 | 1&amp;1 Internet | ⋯ |  1 |  1.0000 |  1 | 25 | 25 |  1 | boxbcnamenities    | l        | 15 | 15l        | 13 |  0.000000 | 1.99 | 13 | boxbcnamenities    | 0.005917160 | 1 | Renewed    | 0.4629511 | 0.470 | 0.469 | 0.3788837 | 0.4158225 | 0.4547808 | 8041 |\n",
       "| 6 | 1&amp;1 internet | 1&amp;1 internet | Germany | 2013-01-01T00:00:00Z | 2019-12-31T00:00:00Z | Neha | EU |  89522687 | deperlite.online          | online1&amp;1 internet | FirstTime | 1 | 2020-01-03 | 2019-01-03 | Active  | online | Non China | 1 | NA | Not Renewd | 0 | auto-renewal | unrealized | 2020-01-03 | 1&amp;1 Internet | ⋯ |  0 |  0.0001 |  1 | 25 | 25 |  0 | deperlite          | l        |  9 | 9l         | 26 | -9.210340 | 6.89 | 25 | deperlite          | 0.001479290 | 1 | Not Renewd | 0.4736138 | 0.476 | 0.402 | 0.3505893 | 0.4157406 | 0.4134431 | 8041 |\n",
       "\n"
      ],
      "text/plain": [
       "  reseller     registrar    reseller_country start_date          \n",
       "1 1&1 internet 1&1 internet Germany          2013-01-01T00:00:00Z\n",
       "2 1&1 internet 1&1 internet Germany          2013-01-01T00:00:00Z\n",
       "3 1&1 internet 1&1 internet Germany          2013-01-01T00:00:00Z\n",
       "4 1&1 internet 1&1 internet Germany          2013-01-01T00:00:00Z\n",
       "5 1&1 internet 1&1 internet Germany          2013-01-01T00:00:00Z\n",
       "6 1&1 internet 1&1 internet Germany          2013-01-01T00:00:00Z\n",
       "  end_date             reseller_am reseller_geo domain_id\n",
       "1 2019-12-31T00:00:00Z Neha        EU            92470318\n",
       "2 2019-12-31T00:00:00Z Neha        EU            99323114\n",
       "3 2019-12-31T00:00:00Z Neha        EU            99044709\n",
       "4 2019-12-31T00:00:00Z Neha        EU            97657424\n",
       "5 2019-12-31T00:00:00Z Neha        EU           102487989\n",
       "6 2019-12-31T00:00:00Z Neha        EU            89522687\n",
       "  domain                    tld_registrar_index renewal_type renewed_count\n",
       "1 glassmade.store           store1&1 internet   FirstTime    1            \n",
       "2 ecucoche.online           online1&1 internet  FirstTime    1            \n",
       "3 johnnyhaliday-home.online online1&1 internet  FirstTime    1            \n",
       "4 app88.online              online1&1 internet  FirstTime    1            \n",
       "5 boxbcnamenities.online    online1&1 internet  FirstTime    1            \n",
       "6 deperlite.online          online1&1 internet  FirstTime    1            \n",
       "  expiry_date creation_date status  tld    region    reg_period\n",
       "1 2020-02-01  2019-02-01    Deleted store  Non China 1         \n",
       "2 2020-04-09  2019-04-09    Active  online Non China 1         \n",
       "3 2020-04-05  2019-04-05    Active  online Non China 1         \n",
       "4 2020-03-23  2019-03-23    Active  online Non China 1         \n",
       "5 2020-04-30  2019-04-30    Active  online Non China 1         \n",
       "6 2020-01-03  2019-01-03    Active  online Non China 1         \n",
       "  registrant_country renewal_status renew_mbg renew_type   autorenew_type\n",
       "1 NA                 Not Renewd     0         NA           NA            \n",
       "2 NA                 Renewed        0         auto-renewal realized      \n",
       "3 NA                 Renewed        0         auto-renewal realized      \n",
       "4 NA                 Not Renewd     0         auto-renewal unrealized    \n",
       "5 NA                 Renewed        0         auto-renewal realized      \n",
       "6 NA                 Not Renewd     0         auto-renewal unrealized    \n",
       "  renew_date renew_registrar ⋯ reg_revenue reg_arpt renew_period\n",
       "1 <NA>       Not Assigned    ⋯ 15          15.0000  NA          \n",
       "2 2020-04-09 1&1 Internet    ⋯  0           0.0001   1          \n",
       "3 2020-04-05 1&1 Internet    ⋯  4           4.0000   1          \n",
       "4 2020-03-23 1&1 Internet    ⋯  0           0.0001   1          \n",
       "5 2020-04-30 1&1 Internet    ⋯  1           1.0000   1          \n",
       "6 2020-01-03 1&1 Internet    ⋯  0           0.0001   1          \n",
       "  renew_domain_revenue renew_arpt reg_arpt_org sld                sld_type\n",
       "1  0                   NA         15           glassmade          l       \n",
       "2 25                   25          0           ecucoche           l       \n",
       "3 25                   25          4           johnnyhaliday-home hyphen-l\n",
       "4 25                   25          0           app88              ln      \n",
       "5 25                   25          1           boxbcnamenities    l       \n",
       "6 25                   25          0           deperlite          l       \n",
       "  sld_length sld_type2  day_domains log_reg_arpt gibb_score pattern\n",
       "1  9         9l          4           2.708050    6.28       4      \n",
       "2  8         8l         11          -9.210340    6.93       5      \n",
       "3 18         18hyphen-l 19           1.386294    2.10       14     \n",
       "4  5         5ln         6          -9.210340    3.54       5      \n",
       "5 15         15l        13           0.000000    1.99       13     \n",
       "6  9         9l         26          -9.210340    6.89       25     \n",
       "  cluster            pattern_score pattern_domain_count actual    \n",
       "1 glassmade          0.062500000   1                    Not Renewd\n",
       "2 ecucoche           0.008264463   1                    Renewed   \n",
       "3 johnnyhaliday-home 0.002770083   1                    Renewed   \n",
       "4 app88              0.027777778   1                    Not Renewd\n",
       "5 boxbcnamenities    0.005917160   1                    Renewed   \n",
       "6 deperlite          0.001479290   1                    Not Renewd\n",
       "  pred_df_seg2_glm pred_df_seg_glm pred_df_agg_glm pred_df_seg2_rf\n",
       "1 0.5261422        0.557           0.573           0.5818937      \n",
       "2 0.4982588        0.504           0.413           0.5069737      \n",
       "3 0.5363220        0.542           0.494           0.4144221      \n",
       "4 0.4369159        0.442           0.277           0.4805998      \n",
       "5 0.4629511        0.470           0.469           0.3788837      \n",
       "6 0.4736138        0.476           0.402           0.3505893      \n",
       "  pred_df_seg_rf pred_df_agg_rf n   \n",
       "1 0.5460195      0.5327083       765\n",
       "2 0.5028680      0.4991597      8041\n",
       "3 0.3702964      0.4098304      8041\n",
       "4 0.4450191      0.4593844      8041\n",
       "5 0.4158225      0.4547808      8041\n",
       "6 0.4157406      0.4134431      8041"
      ]
     },
     "metadata": {},
     "output_type": "display_data"
    }
   ],
   "source": [
    "# ewnsure correct number of dimm DONE!\n",
    "dim(expiry_test_predictions)\n",
    "expiry_test_predictions <- merge(expiry_test_predictions,\n",
    "                                 geoLookupDF,\n",
    "                                 on=c('reseller','reseller_country'), \n",
    "                                 all.x = TRUE)\n",
    "dim(expiry_test_predictions)\n",
    "head(expiry_test_predictions)\n"
   ]
  },
  {
   "cell_type": "markdown",
   "metadata": {},
   "source": [
    "# Generate fallback tables"
   ]
  },
  {
   "cell_type": "code",
   "execution_count": 23,
   "metadata": {},
   "outputs": [],
   "source": [
    "############Build Fallback Tables#######################"
   ]
  },
  {
   "cell_type": "code",
   "execution_count": 17,
   "metadata": {},
   "outputs": [],
   "source": [
    "npv_historic_renewal_data<-expiry_train_df_1\n",
    "reseller_am_geo_map<-geoLookupDF"
   ]
  },
  {
   "cell_type": "code",
   "execution_count": 33,
   "metadata": {},
   "outputs": [
    {
     "data": {
      "text/plain": [
       "\n",
       "      1 \n",
       "1188250 "
      ]
     },
     "metadata": {},
     "output_type": "display_data"
    }
   ],
   "source": [
    "table(npv_historic_renewal_data$renewed_count)"
   ]
  },
  {
   "cell_type": "code",
   "execution_count": 19,
   "metadata": {},
   "outputs": [],
   "source": [
    "npv_historic_renewal_data$reseller_am<-\n",
    "   reseller_am_geo_map$reseller_am[match(npv_historic_renewal_data$reseller,\n",
    "                                         reseller_am_geo_map$reseller)]\n",
    "                                      \n",
    "npv_historic_renewal_data$reseller_geo<-\n",
    "  reseller_am_geo_map$reseller_geo[match(npv_historic_renewal_data$reseller,\n",
    "                                         reseller_am_geo_map$reseller)]\n",
    "npv_historic_renewal_data$reseller_geo[is.na(npv_historic_renewal_data$reseller_geo)]<-\"Others\"\n",
    "npv_historic_renewal_data$reg_arpt_slab<-cut(npv_historic_renewal_data$reg_arpt_org, \n",
    "                                             breaks = c(-Inf,0,0.3,1,3,5,10,15,25,35,Inf),\n",
    "                                             right = TRUE)\n",
    "\n",
    "npv_historic_renewal_data$renewed_count[npv_historic_renewal_data$renewed_count >= 3]<-\"3+\""
   ]
  },
  {
   "cell_type": "code",
   "execution_count": 22,
   "metadata": {},
   "outputs": [
    {
     "name": "stderr",
     "output_type": "stream",
     "text": [
      "`summarise()` regrouping output by 'tld', 'renewed_count', 'registrar', 'reseller', 'reseller_geo' (override with `.groups` argument)\n",
      "\n",
      "`summarise()` regrouping output by 'tld', 'renewed_count', 'reseller_geo' (override with `.groups` argument)\n",
      "\n",
      "`summarise()` regrouping output by 'renewed_count', 'tld' (override with `.groups` argument)\n",
      "\n",
      "`summarise()` regrouping output by 'renewed_count' (override with `.groups` argument)\n",
      "\n"
     ]
    }
   ],
   "source": [
    "my_summary<-npv_historic_renewal_data %>% \n",
    "  filter(reg_period > 1) %>% \n",
    "  group_by(tld, renewed_count, registrar, reseller, reseller_geo, region) %>% \n",
    "  summarise(expiring_domains = n_distinct(domain),\n",
    "            renewed_domains = n_distinct(domain[renewal_status %in% c(\"Renewed\", \"Transfered\")])) %>%\n",
    "  mutate(renewal_rate = round(renewed_domains/expiring_domains,3))\n",
    "\n",
    "my_summary<-my_summary %>% \n",
    "  group_by(tld, renewed_count, reseller_geo, region) %>% \n",
    "  summarise(expiring_domains = sum(expiring_domains),\n",
    "            renewed_domains = sum(renewed_domains)) %>%\n",
    "  mutate(renewal_rate = round(renewed_domains/expiring_domains,3))\n",
    "\n",
    "my_summary<-my_summary %>% filter(expiring_domains >= 10) %>%\n",
    "  mutate(my_index = paste(tld, reseller_geo, sep = \"\"))\n",
    "\n",
    "\n",
    "my_fallback_1<-my_summary %>% \n",
    "  group_by(renewed_count, tld, region) %>% \n",
    "  summarise(expiring_domains = sum(expiring_domains),\n",
    "            renewed_domains = sum(renewed_domains)) %>%\n",
    "  mutate(renewal_rate = round(renewed_domains/expiring_domains,3),\n",
    "         my_fallback_index = paste(tld, region, sep = \"\"))\n",
    "\n",
    "\n",
    "my_fallback_2<-my_summary %>%\n",
    "  group_by(renewed_count, region) %>%\n",
    "  summarise(expiring_domains = sum(expiring_domains),\n",
    "            renewed_domains = sum(renewed_domains)) %>%\n",
    "  mutate(renewal_rate = round(renewed_domains/expiring_domains,3),\n",
    "         my_fallback_index = paste(region, sep = \"\"))\n"
   ]
  },
  {
   "cell_type": "code",
   "execution_count": null,
   "metadata": {},
   "outputs": [],
   "source": [
    "# save(list = ls()[grepl(\"my_\", ls())], file = \"./my_model_tables.rdata\")"
   ]
  },
  {
   "cell_type": "code",
   "execution_count": 24,
   "metadata": {},
   "outputs": [],
   "source": [
    "############################multi year renewal defaults######################"
   ]
  },
  {
   "cell_type": "code",
   "execution_count": 25,
   "metadata": {},
   "outputs": [
    {
     "name": "stderr",
     "output_type": "stream",
     "text": [
      "`summarise()` regrouping output by 'tld', 'reseller_geo' (override with `.groups` argument)\n",
      "\n",
      "`summarise()` regrouping output by 'reseller_geo' (override with `.groups` argument)\n",
      "\n",
      "`summarise()` regrouping output by 'tld' (override with `.groups` argument)\n",
      "\n",
      "`summarise()` regrouping output by 'tld' (override with `.groups` argument)\n",
      "\n",
      "`summarise()` ungrouping output (override with `.groups` argument)\n",
      "\n",
      "`summarise()` regrouping output by 'tld' (override with `.groups` argument)\n",
      "\n",
      "`summarise()` ungrouping output (override with `.groups` argument)\n",
      "\n",
      "`summarise()` regrouping output by 'region' (override with `.groups` argument)\n",
      "\n",
      "`summarise()` ungrouping output (override with `.groups` argument)\n",
      "\n",
      "`summarise()` ungrouping output (override with `.groups` argument)\n",
      "\n"
     ]
    }
   ],
   "source": [
    "npv_fallback_first_geo_arpt_tld<-npv_historic_renewal_data %>%\n",
    "  filter(renewed_count == 1) %>%\n",
    "  group_by(tld, reseller_geo, reg_arpt_slab) %>%\n",
    "  summarise(expiring_domains = length(domain),\n",
    "            renewed_domains = length(domain[renewal_status %in% c(\"Renewed\", \"Transfered\")])) %>%\n",
    "  mutate(renewal_rate = round(renewed_domains/expiring_domains,3),\n",
    "         index = paste(tld, reseller_geo, reg_arpt_slab, sep = \"\")) %>%\n",
    "  filter(expiring_domains >= 500)\n",
    "\n",
    "\n",
    "\n",
    "\n",
    "npv_fallback_first_geo_arpt<-npv_historic_renewal_data %>%\n",
    "  filter(renewed_count == 1) %>%\n",
    "  group_by(reseller_geo, reg_arpt_slab) %>%\n",
    "  summarise(expiring_domains = length(domain),\n",
    "            renewed_domains = length(domain[renewal_status %in% c(\"Renewed\", \"Transfered\")])) %>%\n",
    "  mutate(renewal_rate = round(renewed_domains/expiring_domains,3),\n",
    "         index = paste(reseller_geo, reg_arpt_slab, sep = \"\")) %>%\n",
    "  filter(expiring_domains >= 500)\n",
    "\n",
    "\n",
    "\n",
    "npv_fallback_first_tld_arpt<-npv_historic_renewal_data %>%\n",
    "  filter(renewed_count == 1) %>%\n",
    "  group_by(tld, reg_arpt_slab) %>%\n",
    "  summarise(expiring_domains = length(domain),\n",
    "            renewed_domains = length(domain[renewal_status %in% c(\"Renewed\", \"Transfered\")])) %>%\n",
    "  mutate(renewal_rate = round(renewed_domains/expiring_domains,3),\n",
    "         index = paste(tld, reg_arpt_slab, sep = \"\")) %>%\n",
    "  filter(expiring_domains >= 0)\n",
    "\n",
    "\n",
    "npv_fallback_second_tld_geo<-npv_historic_renewal_data %>%\n",
    "  filter(renewed_count == 2) %>%\n",
    "  group_by(tld, reseller_geo) %>%\n",
    "  summarise(expiring_domains = length(domain),\n",
    "            renewed_domains = length(domain[renewal_status %in% c(\"Renewed\", \"Transfered\")])) %>%\n",
    "  mutate(renewal_rate = round(renewed_domains/expiring_domains,3),\n",
    "         index = paste(tld, reseller_geo, sep = \"\")) %>%\n",
    "  filter(expiring_domains >= 50)\n",
    "\n",
    "npv_fallback_second_geo<-npv_historic_renewal_data %>%\n",
    "  filter(renewed_count == 2) %>%\n",
    "  group_by(reseller_geo) %>%\n",
    "  summarise(expiring_domains = length(domain),\n",
    "            renewed_domains = length(domain[renewal_status %in% c(\"Renewed\", \"Transfered\")])) %>%\n",
    "  mutate(renewal_rate = round(renewed_domains/expiring_domains,3)) %>%\n",
    "  filter(expiring_domains >= 200)\n",
    "\n",
    "\n",
    "npv_fallback_third_tld_geo<-npv_historic_renewal_data %>%\n",
    "  filter(renewed_count == \"3+\" & \n",
    "           !(tld %in% c(\"online\", \"tech\") & \n",
    "               creation_date >= \"2015-06-01\" & \n",
    "               creation_date <= \"2015-09-30\") &\n",
    "           !(tld == \"site\" &              \n",
    "               creation_date >= \"2015-06-01\" &\n",
    "               creation_date <= \"2015-10-31\")) %>%\n",
    "  group_by(tld, reseller_geo) %>%\n",
    "  summarise(expiring_domains = length(domain),\n",
    "            renewed_domains = length(domain[renewal_status %in% c(\"Renewed\", \"Transfered\")])) %>%\n",
    "  mutate(renewal_rate = round(renewed_domains/expiring_domains,3),\n",
    "         index = paste(tld, reseller_geo, sep = \"\")) %>%\n",
    "  filter(expiring_domains >= 50)\n",
    "\n",
    "\n",
    "npv_fallback_third_geo<-npv_historic_renewal_data %>%\n",
    "  filter(renewed_count == \"3+\" & \n",
    "           !(tld %in% c(\"online\", \"tech\") & \n",
    "               creation_date >= \"2015-06-01\" & \n",
    "               creation_date <= \"2015-09-30\") &\n",
    "           !(tld == \"site\" &              \n",
    "               creation_date >= \"2015-06-01\" &\n",
    "               creation_date <= \"2015-10-31\")) %>%\n",
    "  group_by(reseller_geo) %>%\n",
    "  summarise(expiring_domains = length(domain),\n",
    "            renewed_domains = length(domain[renewal_status %in% c(\"Renewed\", \"Transfered\")])) %>%\n",
    "  mutate(renewal_rate = round(renewed_domains/expiring_domains,3)) %>%\n",
    "  filter(expiring_domains >= 50)\n",
    "\n",
    "\n",
    "npv_fallback_first_final<-npv_historic_renewal_data %>%\n",
    "  filter(renewed_count == 1) %>%\n",
    "  group_by(region, reg_arpt_slab) %>%\n",
    "  summarise(expiring_domains = length(domain),\n",
    "            renewed_domains = length(domain[renewal_status %in% c(\"Renewed\", \"Transfered\")])) %>%\n",
    "  mutate(renewal_rate = round(renewed_domains/expiring_domains,3),\n",
    "         index = paste(region, reg_arpt_slab, sep = \"\"))\n",
    "\n",
    "\n",
    "npv_fallback_second_final<-npv_historic_renewal_data %>%\n",
    "  filter(renewed_count == 2) %>%\n",
    "  group_by(region) %>%\n",
    "  summarise(expiring_domains = length(domain),\n",
    "            renewed_domains = length(domain[renewal_status %in% c(\"Renewed\", \"Transfered\")])) %>%\n",
    "  mutate(renewal_rate = round(renewed_domains/expiring_domains,3))\n",
    "\n",
    "\n",
    "npv_fallback_third_final<-npv_historic_renewal_data %>%\n",
    "  filter(renewed_count == \"3+\") %>%\n",
    "  group_by(region) %>%\n",
    "  summarise(expiring_domains = length(domain),\n",
    "            renewed_domains = length(domain[renewal_status %in% c(\"Renewed\", \"Transfered\")])) %>%\n",
    "  mutate(renewal_rate = round(renewed_domains/expiring_domains,3))"
   ]
  },
  {
   "cell_type": "code",
   "execution_count": 26,
   "metadata": {},
   "outputs": [],
   "source": [
    "# save(list = ls()[grepl(\"npv_fallback_\", ls())], file = \"./npv_fallback_tables.rdata\")"
   ]
  },
  {
   "cell_type": "markdown",
   "metadata": {},
   "source": [
    "# Apply fallback tables"
   ]
  },
  {
   "cell_type": "code",
   "execution_count": null,
   "metadata": {},
   "outputs": [],
   "source": [
    "#################Applying fallback tables#####################"
   ]
  },
  {
   "cell_type": "code",
   "execution_count": null,
   "metadata": {},
   "outputs": [],
   "source": [
    "# load(file = \"./npv_fallback_tables.rdata\")"
   ]
  },
  {
   "cell_type": "code",
   "execution_count": 108,
   "metadata": {},
   "outputs": [],
   "source": [
    "test_data_op <- expiry_test_predictions\n",
    "\n",
    "# LVG 10/08/20: add in reg_arpt_slab\n",
    "test_data_op$reg_arpt_slab<-cut(test_data_op$reg_arpt_org, \n",
    "                                             breaks = c(-Inf,0,0.3,1,3,5,10,15,25,35,Inf),\n",
    "                                             right = TRUE)\n",
    "# LVG 10/08/20: add in first_renewal_prediction as pred_df_seg2_glm\n",
    "test_data_op$first_renewal_prediction <- test_data_op$pred_df_seg2_glm"
   ]
  },
  {
   "cell_type": "code",
   "execution_count": 109,
   "metadata": {},
   "outputs": [
    {
     "data": {
      "text/html": [
       "<style>\n",
       ".list-inline {list-style: none; margin:0; padding: 0}\n",
       ".list-inline>li {display: inline-block}\n",
       ".list-inline>li:not(:last-child)::after {content: \"\\00b7\"; padding: 0 .5ex}\n",
       "</style>\n",
       "<ol class=list-inline><li>1356</li><li>53</li></ol>\n"
      ],
      "text/latex": [
       "\\begin{enumerate*}\n",
       "\\item 1356\n",
       "\\item 53\n",
       "\\end{enumerate*}\n"
      ],
      "text/markdown": [
       "1. 1356\n",
       "2. 53\n",
       "\n",
       "\n"
      ],
      "text/plain": [
       "[1] 1356   53"
      ]
     },
     "metadata": {},
     "output_type": "display_data"
    },
    {
     "data": {
      "text/html": [
       "<style>\n",
       ".list-inline {list-style: none; margin:0; padding: 0}\n",
       ".list-inline>li {display: inline-block}\n",
       ".list-inline>li:not(:last-child)::after {content: \"\\00b7\"; padding: 0 .5ex}\n",
       "</style>\n",
       "<ol class=list-inline><li>1356</li><li>53</li></ol>\n"
      ],
      "text/latex": [
       "\\begin{enumerate*}\n",
       "\\item 1356\n",
       "\\item 53\n",
       "\\end{enumerate*}\n"
      ],
      "text/markdown": [
       "1. 1356\n",
       "2. 53\n",
       "\n",
       "\n"
      ],
      "text/plain": [
       "[1] 1356   53"
      ]
     },
     "metadata": {},
     "output_type": "display_data"
    }
   ],
   "source": [
    "test_data_op %>% filter(is.na(pred_df_seg2_glm)) %>% dim()\n",
    "test_data_op %>% filter(is.na(first_renewal_prediction)) %>% dim()"
   ]
  },
  {
   "cell_type": "code",
   "execution_count": 110,
   "metadata": {},
   "outputs": [],
   "source": [
    "test_data_op<-test_data_op %>%\n",
    "  mutate(temp_index = paste(tld, reseller_geo, reg_arpt_slab, sep = \"\"))\n",
    "\n",
    "test_data_op$first_renewal_prediction[is.na(test_data_op$first_renewal_prediction)]<-\n",
    "  npv_fallback_first_geo_arpt_tld$renewal_rate[match(test_data_op$temp_index[is.na(test_data_op$first_renewal_prediction)],\n",
    "                                                     npv_fallback_first_geo_arpt_tld$index)]"
   ]
  },
  {
   "cell_type": "code",
   "execution_count": 111,
   "metadata": {},
   "outputs": [
    {
     "data": {
      "text/html": [
       "<style>\n",
       ".list-inline {list-style: none; margin:0; padding: 0}\n",
       ".list-inline>li {display: inline-block}\n",
       ".list-inline>li:not(:last-child)::after {content: \"\\00b7\"; padding: 0 .5ex}\n",
       "</style>\n",
       "<ol class=list-inline><li>1356</li><li>54</li></ol>\n"
      ],
      "text/latex": [
       "\\begin{enumerate*}\n",
       "\\item 1356\n",
       "\\item 54\n",
       "\\end{enumerate*}\n"
      ],
      "text/markdown": [
       "1. 1356\n",
       "2. 54\n",
       "\n",
       "\n"
      ],
      "text/plain": [
       "[1] 1356   54"
      ]
     },
     "metadata": {},
     "output_type": "display_data"
    },
    {
     "data": {
      "text/html": [
       "<style>\n",
       ".list-inline {list-style: none; margin:0; padding: 0}\n",
       ".list-inline>li {display: inline-block}\n",
       ".list-inline>li:not(:last-child)::after {content: \"\\00b7\"; padding: 0 .5ex}\n",
       "</style>\n",
       "<ol class=list-inline><li>426</li><li>54</li></ol>\n"
      ],
      "text/latex": [
       "\\begin{enumerate*}\n",
       "\\item 426\n",
       "\\item 54\n",
       "\\end{enumerate*}\n"
      ],
      "text/markdown": [
       "1. 426\n",
       "2. 54\n",
       "\n",
       "\n"
      ],
      "text/plain": [
       "[1] 426  54"
      ]
     },
     "metadata": {},
     "output_type": "display_data"
    }
   ],
   "source": [
    "test_data_op %>% filter(is.na(pred_df_seg2_glm)) %>% dim()\n",
    "test_data_op %>% filter(is.na(first_renewal_prediction)) %>% dim()"
   ]
  },
  {
   "cell_type": "code",
   "execution_count": 112,
   "metadata": {},
   "outputs": [],
   "source": [
    "test_data_op<-test_data_op %>%\n",
    "  mutate(temp_index = paste(reseller_geo, reg_arpt_slab, sep = \"\"))\n",
    "\n",
    "test_data_op$first_renewal_prediction[is.na(test_data_op$first_renewal_prediction)]<-\n",
    "  npv_fallback_first_geo_arpt$renewal_rate[match(test_data_op$temp_index[is.na(test_data_op$first_renewal_prediction)],\n",
    "                                                 npv_fallback_first_geo_arpt$index)]"
   ]
  },
  {
   "cell_type": "code",
   "execution_count": 113,
   "metadata": {},
   "outputs": [
    {
     "data": {
      "text/html": [
       "<style>\n",
       ".list-inline {list-style: none; margin:0; padding: 0}\n",
       ".list-inline>li {display: inline-block}\n",
       ".list-inline>li:not(:last-child)::after {content: \"\\00b7\"; padding: 0 .5ex}\n",
       "</style>\n",
       "<ol class=list-inline><li>1356</li><li>54</li></ol>\n"
      ],
      "text/latex": [
       "\\begin{enumerate*}\n",
       "\\item 1356\n",
       "\\item 54\n",
       "\\end{enumerate*}\n"
      ],
      "text/markdown": [
       "1. 1356\n",
       "2. 54\n",
       "\n",
       "\n"
      ],
      "text/plain": [
       "[1] 1356   54"
      ]
     },
     "metadata": {},
     "output_type": "display_data"
    },
    {
     "data": {
      "text/html": [
       "<style>\n",
       ".list-inline {list-style: none; margin:0; padding: 0}\n",
       ".list-inline>li {display: inline-block}\n",
       ".list-inline>li:not(:last-child)::after {content: \"\\00b7\"; padding: 0 .5ex}\n",
       "</style>\n",
       "<ol class=list-inline><li>129</li><li>54</li></ol>\n"
      ],
      "text/latex": [
       "\\begin{enumerate*}\n",
       "\\item 129\n",
       "\\item 54\n",
       "\\end{enumerate*}\n"
      ],
      "text/markdown": [
       "1. 129\n",
       "2. 54\n",
       "\n",
       "\n"
      ],
      "text/plain": [
       "[1] 129  54"
      ]
     },
     "metadata": {},
     "output_type": "display_data"
    }
   ],
   "source": [
    "test_data_op %>% filter(is.na(pred_df_seg2_glm)) %>% dim()\n",
    "test_data_op %>% filter(is.na(first_renewal_prediction)) %>% dim()"
   ]
  },
  {
   "cell_type": "code",
   "execution_count": 114,
   "metadata": {},
   "outputs": [],
   "source": [
    "test_data_op<-test_data_op %>%\n",
    "  mutate(temp_index = paste(tld, reg_arpt_slab, sep = \"\"))\n",
    "\n",
    "test_data_op$first_renewal_prediction[is.na(test_data_op$first_renewal_prediction)]<-\n",
    "  npv_fallback_first_tld_arpt$renewal_rate[match(test_data_op$temp_index[is.na(test_data_op$first_renewal_prediction)],\n",
    "                                                 npv_fallback_first_tld_arpt$index)]"
   ]
  },
  {
   "cell_type": "code",
   "execution_count": 115,
   "metadata": {},
   "outputs": [
    {
     "data": {
      "text/html": [
       "<style>\n",
       ".list-inline {list-style: none; margin:0; padding: 0}\n",
       ".list-inline>li {display: inline-block}\n",
       ".list-inline>li:not(:last-child)::after {content: \"\\00b7\"; padding: 0 .5ex}\n",
       "</style>\n",
       "<ol class=list-inline><li>1356</li><li>54</li></ol>\n"
      ],
      "text/latex": [
       "\\begin{enumerate*}\n",
       "\\item 1356\n",
       "\\item 54\n",
       "\\end{enumerate*}\n"
      ],
      "text/markdown": [
       "1. 1356\n",
       "2. 54\n",
       "\n",
       "\n"
      ],
      "text/plain": [
       "[1] 1356   54"
      ]
     },
     "metadata": {},
     "output_type": "display_data"
    },
    {
     "data": {
      "text/html": [
       "<style>\n",
       ".list-inline {list-style: none; margin:0; padding: 0}\n",
       ".list-inline>li {display: inline-block}\n",
       ".list-inline>li:not(:last-child)::after {content: \"\\00b7\"; padding: 0 .5ex}\n",
       "</style>\n",
       "<ol class=list-inline><li>0</li><li>54</li></ol>\n"
      ],
      "text/latex": [
       "\\begin{enumerate*}\n",
       "\\item 0\n",
       "\\item 54\n",
       "\\end{enumerate*}\n"
      ],
      "text/markdown": [
       "1. 0\n",
       "2. 54\n",
       "\n",
       "\n"
      ],
      "text/plain": [
       "[1]  0 54"
      ]
     },
     "metadata": {},
     "output_type": "display_data"
    }
   ],
   "source": [
    "test_data_op %>% filter(is.na(pred_df_seg2_glm)) %>% dim()\n",
    "test_data_op %>% filter(is.na(first_renewal_prediction)) %>% dim()"
   ]
  },
  {
   "cell_type": "code",
   "execution_count": 116,
   "metadata": {},
   "outputs": [
    {
     "data": {
      "text/html": [
       "<style>\n",
       ".list-inline {list-style: none; margin:0; padding: 0}\n",
       ".list-inline>li {display: inline-block}\n",
       ".list-inline>li:not(:last-child)::after {content: \"\\00b7\"; padding: 0 .5ex}\n",
       "</style>\n",
       "<ol class=list-inline><li>0</li><li>2</li></ol>\n"
      ],
      "text/latex": [
       "\\begin{enumerate*}\n",
       "\\item 0\n",
       "\\item 2\n",
       "\\end{enumerate*}\n"
      ],
      "text/markdown": [
       "1. 0\n",
       "2. 2\n",
       "\n",
       "\n"
      ],
      "text/plain": [
       "[1] 0 2"
      ]
     },
     "metadata": {},
     "output_type": "display_data"
    }
   ],
   "source": [
    "test_data_op %>% filter(pred_df_seg2_glm != first_renewal_prediction) %>%\n",
    "  select(pred_df_seg2_glm,first_renewal_prediction) %>% dim()"
   ]
  },
  {
   "cell_type": "code",
   "execution_count": 117,
   "metadata": {},
   "outputs": [],
   "source": [
    "test_data_op<-test_data_op %>%\n",
    "  mutate(temp_index = paste(tld, reseller_geo, sep = \"\"))\n",
    "\n",
    "test_data_op$second_renewal_prediction[is.na(test_data_op$second_renewal_prediction)]<-\n",
    "  npv_fallback_second_tld_geo$renewal_rate[match(test_data_op$temp_index[is.na(test_data_op$second_renewal_prediction)],\n",
    "                                                 npv_fallback_second_tld_geo$index)]"
   ]
  },
  {
   "cell_type": "code",
   "execution_count": 118,
   "metadata": {},
   "outputs": [
    {
     "data": {
      "text/html": [
       "<style>\n",
       ".list-inline {list-style: none; margin:0; padding: 0}\n",
       ".list-inline>li {display: inline-block}\n",
       ".list-inline>li:not(:last-child)::after {content: \"\\00b7\"; padding: 0 .5ex}\n",
       "</style>\n",
       "<ol class=list-inline><li>0</li><li>2</li></ol>\n"
      ],
      "text/latex": [
       "\\begin{enumerate*}\n",
       "\\item 0\n",
       "\\item 2\n",
       "\\end{enumerate*}\n"
      ],
      "text/markdown": [
       "1. 0\n",
       "2. 2\n",
       "\n",
       "\n"
      ],
      "text/plain": [
       "[1] 0 2"
      ]
     },
     "metadata": {},
     "output_type": "display_data"
    }
   ],
   "source": [
    "test_data_op %>% filter(pred_df_seg2_glm != first_renewal_prediction) %>%\n",
    "  select(pred_df_seg2_glm,first_renewal_prediction) %>% dim()"
   ]
  },
  {
   "cell_type": "code",
   "execution_count": 119,
   "metadata": {},
   "outputs": [],
   "source": [
    "test_data_op$second_renewal_prediction[is.na(test_data_op$second_renewal_prediction)]<-\n",
    "  npv_fallback_second_geo$renewal_rate[match(test_data_op$reseller_geo[is.na(test_data_op$second_renewal_prediction)],\n",
    "                                             npv_fallback_second_geo$reseller_geo)]\n",
    "\n",
    "\n",
    "\n",
    "test_data_op<-test_data_op %>%\n",
    "  mutate(temp_index = paste(tld, reseller_geo, sep = \"\"))\n",
    "\n",
    "test_data_op$third_renewal_prediction[is.na(test_data_op$third_renewal_prediction)]<-\n",
    "  npv_fallback_third_tld_geo$renewal_rate[match(test_data_op$temp_index[is.na(test_data_op$third_renewal_prediction)],\n",
    "                                                npv_fallback_third_tld_geo$index)]\n",
    "\n",
    "\n",
    "test_data_op$third_renewal_prediction[is.na(test_data_op$third_renewal_prediction)]<-\n",
    "  npv_fallback_third_geo$renewal_rate[match(test_data_op$reseller_geo[is.na(test_data_op$third_renewal_prediction)],\n",
    "                                            npv_fallback_third_geo$reseller_geo)]"
   ]
  },
  {
   "cell_type": "code",
   "execution_count": 120,
   "metadata": {},
   "outputs": [
    {
     "data": {
      "text/html": [
       "<style>\n",
       ".list-inline {list-style: none; margin:0; padding: 0}\n",
       ".list-inline>li {display: inline-block}\n",
       ".list-inline>li:not(:last-child)::after {content: \"\\00b7\"; padding: 0 .5ex}\n",
       "</style>\n",
       "<ol class=list-inline><li>0</li><li>2</li></ol>\n"
      ],
      "text/latex": [
       "\\begin{enumerate*}\n",
       "\\item 0\n",
       "\\item 2\n",
       "\\end{enumerate*}\n"
      ],
      "text/markdown": [
       "1. 0\n",
       "2. 2\n",
       "\n",
       "\n"
      ],
      "text/plain": [
       "[1] 0 2"
      ]
     },
     "metadata": {},
     "output_type": "display_data"
    }
   ],
   "source": [
    "test_data_op %>% filter(pred_df_seg2_glm != first_renewal_prediction) %>%\n",
    "  select(pred_df_seg2_glm,first_renewal_prediction) %>% dim()"
   ]
  },
  {
   "cell_type": "code",
   "execution_count": 121,
   "metadata": {},
   "outputs": [],
   "source": [
    "test_data_op<-test_data_op %>%\n",
    "  mutate(temp_index = paste(region, reg_arpt_slab, sep = \"\"))\n",
    "\n",
    "test_data_op$first_renewal_prediction[is.na(test_data_op$first_renewal_prediction)]<-\n",
    "  npv_fallback_first_final$renewal_rate[match(test_data_op$temp_index[is.na(test_data_op$first_renewal_prediction)],\n",
    "                                              npv_fallback_first_final$index)]\n",
    "\n",
    "\n",
    "\n",
    "test_data_op$second_renewal_prediction[is.na(test_data_op$second_renewal_prediction)]<-\n",
    "  npv_fallback_second_final$renewal_rate[match(test_data_op$region[is.na(test_data_op$second_renewal_prediction)],\n",
    "                                               npv_fallback_second_final$region)]\n",
    "\n",
    "\n",
    "\n",
    "test_data_op$third_renewal_prediction[is.na(test_data_op$third_renewal_prediction)]<-\n",
    "  npv_fallback_third_final$renewal_rate[match(test_data_op$region[is.na(test_data_op$third_renewal_prediction)],\n",
    "                                              npv_fallback_third_final$region)]\n",
    "\n",
    "test_data_op<-test_data_op %>%\n",
    "  select(-temp_index)"
   ]
  },
  {
   "cell_type": "code",
   "execution_count": 122,
   "metadata": {},
   "outputs": [
    {
     "data": {
      "text/html": [
       "<style>\n",
       ".list-inline {list-style: none; margin:0; padding: 0}\n",
       ".list-inline>li {display: inline-block}\n",
       ".list-inline>li:not(:last-child)::after {content: \"\\00b7\"; padding: 0 .5ex}\n",
       "</style>\n",
       "<ol class=list-inline><li>0</li><li>2</li></ol>\n"
      ],
      "text/latex": [
       "\\begin{enumerate*}\n",
       "\\item 0\n",
       "\\item 2\n",
       "\\end{enumerate*}\n"
      ],
      "text/markdown": [
       "1. 0\n",
       "2. 2\n",
       "\n",
       "\n"
      ],
      "text/plain": [
       "[1] 0 2"
      ]
     },
     "metadata": {},
     "output_type": "display_data"
    }
   ],
   "source": [
    "test_data_op %>% filter(pred_df_seg2_glm != first_renewal_prediction) %>%\n",
    "  select(pred_df_seg2_glm,first_renewal_prediction) %>% dim()"
   ]
  },
  {
   "cell_type": "code",
   "execution_count": null,
   "metadata": {},
   "outputs": [],
   "source": [
    "#############MY Calculations######"
   ]
  },
  {
   "cell_type": "code",
   "execution_count": 28,
   "metadata": {},
   "outputs": [],
   "source": [
    "# load(file = \"./my_model_tables.rdata\")"
   ]
  },
  {
   "cell_type": "code",
   "execution_count": 124,
   "metadata": {},
   "outputs": [],
   "source": [
    "test_data_op<-test_data_op %>%\n",
    "  mutate(my_index = paste(tld, reseller_geo, sep = \"\"))"
   ]
  },
  {
   "cell_type": "code",
   "execution_count": 125,
   "metadata": {},
   "outputs": [],
   "source": [
    "my_summary_1<-my_summary %>%\n",
    "  filter(renewed_count == 1)"
   ]
  },
  {
   "cell_type": "code",
   "execution_count": 126,
   "metadata": {},
   "outputs": [
    {
     "data": {
      "text/html": [
       "<style>\n",
       ".list-inline {list-style: none; margin:0; padding: 0}\n",
       ".list-inline>li {display: inline-block}\n",
       ".list-inline>li:not(:last-child)::after {content: \"\\00b7\"; padding: 0 .5ex}\n",
       "</style>\n",
       "<ol class=list-inline><li>0</li><li>2</li></ol>\n"
      ],
      "text/latex": [
       "\\begin{enumerate*}\n",
       "\\item 0\n",
       "\\item 2\n",
       "\\end{enumerate*}\n"
      ],
      "text/markdown": [
       "1. 0\n",
       "2. 2\n",
       "\n",
       "\n"
      ],
      "text/plain": [
       "[1] 0 2"
      ]
     },
     "metadata": {},
     "output_type": "display_data"
    }
   ],
   "source": [
    "test_data_op %>% filter(pred_df_seg2_glm != first_renewal_prediction) %>%\n",
    "  select(pred_df_seg2_glm,first_renewal_prediction) %>% dim()"
   ]
  },
  {
   "cell_type": "code",
   "execution_count": 127,
   "metadata": {},
   "outputs": [],
   "source": [
    "test_data_op$first_renewal_prediction[test_data_op$reg_period > 1]<-\n",
    "  my_summary_1$renewal_rate[match(test_data_op$my_index[test_data_op$reg_period > 1], \n",
    "                                  my_summary_1$my_index)] \n",
    "rm(my_summary_1)\n",
    "\n",
    "my_summary_2<-my_summary %>%\n",
    "  filter(renewed_count == 2)\n",
    "\n",
    "test_data_op$second_renewal_prediction[test_data_op$reg_period > 1]<-\n",
    "  my_summary_2$renewal_rate[match(test_data_op$my_index[test_data_op$reg_period > 1], \n",
    "                                  my_summary_2$my_index)] \n",
    "rm(my_summary_2)\n",
    "\n",
    "\n",
    "my_summary_3<-my_summary %>%\n",
    "  filter(renewed_count == \"3+\")\n",
    "\n",
    "test_data_op$third_renewal_prediction[test_data_op$reg_period > 1]<-\n",
    "  my_summary_3$renewal_rate[match(test_data_op$my_index[test_data_op$reg_period > 1], \n",
    "                                  my_summary_3$my_index)] \n",
    "rm(my_summary_3)\n",
    "\n",
    "test_data_op<-test_data_op %>%\n",
    "  select(-my_index)"
   ]
  },
  {
   "cell_type": "code",
   "execution_count": 128,
   "metadata": {},
   "outputs": [
    {
     "data": {
      "text/html": [
       "<style>\n",
       ".list-inline {list-style: none; margin:0; padding: 0}\n",
       ".list-inline>li {display: inline-block}\n",
       ".list-inline>li:not(:last-child)::after {content: \"\\00b7\"; padding: 0 .5ex}\n",
       "</style>\n",
       "<ol class=list-inline><li>3208</li><li>2</li></ol>\n"
      ],
      "text/latex": [
       "\\begin{enumerate*}\n",
       "\\item 3208\n",
       "\\item 2\n",
       "\\end{enumerate*}\n"
      ],
      "text/markdown": [
       "1. 3208\n",
       "2. 2\n",
       "\n",
       "\n"
      ],
      "text/plain": [
       "[1] 3208    2"
      ]
     },
     "metadata": {},
     "output_type": "display_data"
    }
   ],
   "source": [
    "test_data_op %>% filter(pred_df_seg2_glm != first_renewal_prediction) %>%\n",
    "  select(pred_df_seg2_glm,first_renewal_prediction) %>% dim()"
   ]
  },
  {
   "cell_type": "code",
   "execution_count": 99,
   "metadata": {},
   "outputs": [],
   "source": [
    "#######my fallback##########\n",
    "\n",
    "\n",
    "########## test_data_op is the output from the prediction script##############\n",
    "\n",
    "\n",
    "test_data_op<-test_data_op %>%\n",
    "  mutate(my_fallback_index = paste(tld, region, sep = \"\"))\n",
    "\n",
    "\n",
    "\n",
    "my_fallback_1_1<-my_fallback_1 %>%\n",
    "  filter(renewed_count == 1)\n",
    "\n",
    "test_data_op$first_renewal_prediction[is.na(test_data_op$first_renewal_prediction) & \n",
    "                                        test_data_op$reg_period > 1]<-\n",
    "  my_fallback_1_1$renewal_rate[match(test_data_op$my_fallback_index[is.na(test_data_op$first_renewal_prediction) & \n",
    "                                                                      test_data_op$reg_period > 1],\n",
    "                                     my_fallback_1_1$my_fallback_index)]\n",
    "\n",
    "rm(my_fallback_1_1)\n",
    "\n",
    "\n",
    "my_fallback_1_2<-my_fallback_1 %>%\n",
    "  filter(renewed_count == 2)\n",
    "\n",
    "\n",
    "test_data_op$second_renewal_prediction[is.na(test_data_op$second_renewal_prediction) & \n",
    "                                         test_data_op$reg_period > 1]<-\n",
    "  my_fallback_1_2$renewal_rate[match(test_data_op$my_fallback_index[is.na(test_data_op$second_renewal_prediction) & \n",
    "                                                                      test_data_op$reg_period > 1],\n",
    "                                     my_fallback_1_2$my_fallback_index)]\n",
    "\n",
    "rm(my_fallback_1_2)\n",
    "\n",
    "\n",
    "\n",
    "\n",
    "\n",
    "my_fallback_1_3<-my_fallback_1 %>%\n",
    "  filter(renewed_count == \"3+\")\n",
    "\n",
    "test_data_op$third_renewal_prediction[is.na(test_data_op$third_renewal_prediction) & \n",
    "                                        test_data_op$reg_period > 1]<-\n",
    "  my_fallback_1_3$renewal_rate[match(test_data_op$my_fallback_index[is.na(test_data_op$third_renewal_prediction) & \n",
    "                                                                      test_data_op$reg_period > 1],\n",
    "                                     my_fallback_1_3$my_fallback_index)]\n",
    "\n",
    "rm(my_fallback_1_3)\n",
    "\n",
    "\n",
    "test_data_op<-test_data_op %>%\n",
    "  select(-my_fallback_index)\n",
    "\n",
    "\n",
    "############final fallback for multi-year###################\n",
    "\n",
    "my_fallback_2_1<-my_fallback_2 %>%\n",
    "  filter(renewed_count == 1)\n",
    "\n",
    "test_data_op$first_renewal_prediction[is.na(test_data_op$first_renewal_prediction) & \n",
    "                                        test_data_op$reg_period > 1]<-\n",
    "  my_fallback_2_1$renewal_rate[match(test_data_op$region[is.na(test_data_op$first_renewal_prediction) & \n",
    "                                                           test_data_op$reg_period > 1],\n",
    "                                     my_fallback_2_1$region)]\n",
    "\n",
    "rm(my_fallback_2_1)\n",
    "\n",
    "\n",
    "my_fallback_2_2<-my_fallback_2 %>%\n",
    "  filter(renewed_count == 2)\n",
    "\n",
    "\n",
    "test_data_op$second_renewal_prediction[is.na(test_data_op$second_renewal_prediction) & \n",
    "                                         test_data_op$reg_period > 1]<-\n",
    "  my_fallback_2_2$renewal_rate[match(test_data_op$region[is.na(test_data_op$second_renewal_prediction) & \n",
    "                                                           test_data_op$reg_period > 1],\n",
    "                                     my_fallback_2_2$region)]\n",
    "\n",
    "rm(my_fallback_2_2)\n",
    "\n",
    "\n",
    "\n",
    "my_fallback_2_3<-my_fallback_2 %>%\n",
    "  filter(renewed_count == \"3+\")\n",
    "\n",
    "test_data_op$third_renewal_prediction[is.na(test_data_op$third_renewal_prediction) & \n",
    "                                        test_data_op$reg_period > 1]<-\n",
    "  my_fallback_2_3$renewal_rate[match(test_data_op$region[is.na(test_data_op$third_renewal_prediction) & \n",
    "                                                           test_data_op$reg_period > 1],\n",
    "                                     my_fallback_2_3$region)]\n",
    "\n",
    "rm(my_fallback_2_3)"
   ]
  },
  {
   "cell_type": "code",
   "execution_count": 100,
   "metadata": {},
   "outputs": [
    {
     "data": {
      "text/html": [
       "<table>\n",
       "<caption>A data.frame: 6 × 55</caption>\n",
       "<thead>\n",
       "\t<tr><th></th><th scope=col>reseller</th><th scope=col>registrar</th><th scope=col>reseller_country</th><th scope=col>start_date</th><th scope=col>end_date</th><th scope=col>reseller_am</th><th scope=col>reseller_geo</th><th scope=col>domain_id</th><th scope=col>domain</th><th scope=col>tld_registrar_index</th><th scope=col>renewal_type</th><th scope=col>renewed_count</th><th scope=col>expiry_date</th><th scope=col>creation_date</th><th scope=col>status</th><th scope=col>tld</th><th scope=col>region</th><th scope=col>reg_period</th><th scope=col>registrant_country</th><th scope=col>renewal_status</th><th scope=col>renew_mbg</th><th scope=col>renew_type</th><th scope=col>autorenew_type</th><th scope=col>renew_date</th><th scope=col>renew_registrar</th><th scope=col>⋯</th><th scope=col>renew_arpt</th><th scope=col>reg_arpt_org</th><th scope=col>sld</th><th scope=col>sld_type</th><th scope=col>sld_length</th><th scope=col>sld_type2</th><th scope=col>day_domains</th><th scope=col>log_reg_arpt</th><th scope=col>gibb_score</th><th scope=col>pattern</th><th scope=col>cluster</th><th scope=col>pattern_score</th><th scope=col>pattern_domain_count</th><th scope=col>actual</th><th scope=col>pred_df_seg2_glm</th><th scope=col>pred_df_seg_glm</th><th scope=col>pred_df_agg_glm</th><th scope=col>pred_df_seg2_rf</th><th scope=col>pred_df_seg_rf</th><th scope=col>pred_df_agg_rf</th><th scope=col>n</th><th scope=col>reg_arpt_slab</th><th scope=col>first_renewal_prediction</th><th scope=col>second_renewal_prediction</th><th scope=col>third_renewal_prediction</th></tr>\n",
       "\t<tr><th></th><th scope=col>&lt;fct&gt;</th><th scope=col>&lt;chr&gt;</th><th scope=col>&lt;fct&gt;</th><th scope=col>&lt;fct&gt;</th><th scope=col>&lt;fct&gt;</th><th scope=col>&lt;fct&gt;</th><th scope=col>&lt;fct&gt;</th><th scope=col>&lt;int&gt;</th><th scope=col>&lt;chr&gt;</th><th scope=col>&lt;chr&gt;</th><th scope=col>&lt;chr&gt;</th><th scope=col>&lt;int&gt;</th><th scope=col>&lt;date&gt;</th><th scope=col>&lt;date&gt;</th><th scope=col>&lt;chr&gt;</th><th scope=col>&lt;fct&gt;</th><th scope=col>&lt;chr&gt;</th><th scope=col>&lt;int&gt;</th><th scope=col>&lt;chr&gt;</th><th scope=col>&lt;fct&gt;</th><th scope=col>&lt;int&gt;</th><th scope=col>&lt;chr&gt;</th><th scope=col>&lt;chr&gt;</th><th scope=col>&lt;date&gt;</th><th scope=col>&lt;chr&gt;</th><th scope=col>⋯</th><th scope=col>&lt;dbl&gt;</th><th scope=col>&lt;dbl&gt;</th><th scope=col>&lt;chr&gt;</th><th scope=col>&lt;fct&gt;</th><th scope=col>&lt;int&gt;</th><th scope=col>&lt;chr&gt;</th><th scope=col>&lt;int&gt;</th><th scope=col>&lt;dbl&gt;</th><th scope=col>&lt;dbl&gt;</th><th scope=col>&lt;chr&gt;</th><th scope=col>&lt;chr&gt;</th><th scope=col>&lt;dbl&gt;</th><th scope=col>&lt;int&gt;</th><th scope=col>&lt;fct&gt;</th><th scope=col>&lt;dbl&gt;</th><th scope=col>&lt;dbl&gt;</th><th scope=col>&lt;dbl&gt;</th><th scope=col>&lt;dbl&gt;</th><th scope=col>&lt;dbl&gt;</th><th scope=col>&lt;dbl&gt;</th><th scope=col>&lt;int&gt;</th><th scope=col>&lt;fct&gt;</th><th scope=col>&lt;dbl&gt;</th><th scope=col>&lt;dbl&gt;</th><th scope=col>&lt;dbl&gt;</th></tr>\n",
       "</thead>\n",
       "<tbody>\n",
       "\t<tr><th scope=row>1</th><td>1&amp;1 internet</td><td>1&amp;1 internet</td><td>Germany</td><td>2013-01-01T00:00:00Z</td><td>2019-12-31T00:00:00Z</td><td>Neha</td><td>EU</td><td> 92470318</td><td><span style=white-space:pre-wrap>glassmade.store          </span></td><td>store1&amp;1 internet </td><td>FirstTime</td><td>1</td><td>2020-02-01</td><td>2019-02-01</td><td>Deleted</td><td>store </td><td>Non China</td><td>1</td><td>NA</td><td>Not Renewd</td><td>0</td><td><span style=white-space:pre-wrap>NA          </span></td><td><span style=white-space:pre-wrap>NA        </span></td><td>NA</td><td>Not Assigned</td><td>⋯</td><td>NA</td><td>15</td><td><span style=white-space:pre-wrap>glassmade         </span></td><td><span style=white-space:pre-wrap>l       </span></td><td> 9</td><td><span style=white-space:pre-wrap>9l        </span></td><td> 4</td><td> 2.708050</td><td>6.28</td><td>4 </td><td><span style=white-space:pre-wrap>glassmade         </span></td><td>0.062500000</td><td>1</td><td>Not Renewd</td><td>0.5261422</td><td>0.557</td><td>0.573</td><td>0.5818937</td><td>0.5460195</td><td>0.5327083</td><td> 765</td><td>(10,15] </td><td>0.5261422</td><td>NA</td><td>NA</td></tr>\n",
       "\t<tr><th scope=row>2</th><td>1&amp;1 internet</td><td>1&amp;1 internet</td><td>Germany</td><td>2013-01-01T00:00:00Z</td><td>2019-12-31T00:00:00Z</td><td>Neha</td><td>EU</td><td> 99323114</td><td><span style=white-space:pre-wrap>ecucoche.online          </span></td><td>online1&amp;1 internet</td><td>FirstTime</td><td>1</td><td>2020-04-09</td><td>2019-04-09</td><td>Active </td><td>online</td><td>Non China</td><td>1</td><td>NA</td><td><span style=white-space:pre-wrap>Renewed   </span></td><td>0</td><td>auto-renewal</td><td><span style=white-space:pre-wrap>realized  </span></td><td>2020-04-09</td><td>1&amp;1 Internet</td><td>⋯</td><td>25</td><td> 0</td><td><span style=white-space:pre-wrap>ecucoche          </span></td><td><span style=white-space:pre-wrap>l       </span></td><td> 8</td><td><span style=white-space:pre-wrap>8l        </span></td><td>11</td><td>-9.210340</td><td>6.93</td><td>5 </td><td><span style=white-space:pre-wrap>ecucoche          </span></td><td>0.008264463</td><td>1</td><td><span style=white-space:pre-wrap>Renewed   </span></td><td>0.4982588</td><td>0.504</td><td>0.413</td><td>0.5069737</td><td>0.5028680</td><td>0.4991597</td><td>8041</td><td>(-Inf,0]</td><td>0.4982588</td><td>NA</td><td>NA</td></tr>\n",
       "\t<tr><th scope=row>3</th><td>1&amp;1 internet</td><td>1&amp;1 internet</td><td>Germany</td><td>2013-01-01T00:00:00Z</td><td>2019-12-31T00:00:00Z</td><td>Neha</td><td>EU</td><td> 99044709</td><td>johnnyhaliday-home.online</td><td>online1&amp;1 internet</td><td>FirstTime</td><td>1</td><td>2020-04-05</td><td>2019-04-05</td><td>Active </td><td>online</td><td>Non China</td><td>1</td><td>NA</td><td><span style=white-space:pre-wrap>Renewed   </span></td><td>0</td><td>auto-renewal</td><td><span style=white-space:pre-wrap>realized  </span></td><td>2020-04-05</td><td>1&amp;1 Internet</td><td>⋯</td><td>25</td><td> 4</td><td>johnnyhaliday-home</td><td>hyphen-l</td><td>18</td><td>18hyphen-l</td><td>19</td><td> 1.386294</td><td>2.10</td><td>14</td><td>johnnyhaliday-home</td><td>0.002770083</td><td>1</td><td><span style=white-space:pre-wrap>Renewed   </span></td><td>0.5363220</td><td>0.542</td><td>0.494</td><td>0.4144221</td><td>0.3702964</td><td>0.4098304</td><td>8041</td><td><span style=white-space:pre-wrap>(3,5]   </span></td><td>0.5363220</td><td>NA</td><td>NA</td></tr>\n",
       "\t<tr><th scope=row>4</th><td>1&amp;1 internet</td><td>1&amp;1 internet</td><td>Germany</td><td>2013-01-01T00:00:00Z</td><td>2019-12-31T00:00:00Z</td><td>Neha</td><td>EU</td><td> 97657424</td><td><span style=white-space:pre-wrap>app88.online             </span></td><td>online1&amp;1 internet</td><td>FirstTime</td><td>1</td><td>2020-03-23</td><td>2019-03-23</td><td>Active </td><td>online</td><td>Non China</td><td>1</td><td>NA</td><td>Not Renewd</td><td>0</td><td>auto-renewal</td><td>unrealized</td><td>2020-03-23</td><td>1&amp;1 Internet</td><td>⋯</td><td>25</td><td> 0</td><td><span style=white-space:pre-wrap>app88             </span></td><td><span style=white-space:pre-wrap>ln      </span></td><td> 5</td><td><span style=white-space:pre-wrap>5ln       </span></td><td> 6</td><td>-9.210340</td><td>3.54</td><td>5 </td><td><span style=white-space:pre-wrap>app88             </span></td><td>0.027777778</td><td>1</td><td>Not Renewd</td><td>0.4369159</td><td>0.442</td><td>0.277</td><td>0.4805998</td><td>0.4450191</td><td>0.4593844</td><td>8041</td><td>(-Inf,0]</td><td>0.4369159</td><td>NA</td><td>NA</td></tr>\n",
       "\t<tr><th scope=row>5</th><td>1&amp;1 internet</td><td>1&amp;1 internet</td><td>Germany</td><td>2013-01-01T00:00:00Z</td><td>2019-12-31T00:00:00Z</td><td>Neha</td><td>EU</td><td>102487989</td><td><span style=white-space:pre-wrap>boxbcnamenities.online   </span></td><td>online1&amp;1 internet</td><td>FirstTime</td><td>1</td><td>2020-04-30</td><td>2019-04-30</td><td>Active </td><td>online</td><td>Non China</td><td>1</td><td>NA</td><td><span style=white-space:pre-wrap>Renewed   </span></td><td>0</td><td>auto-renewal</td><td><span style=white-space:pre-wrap>realized  </span></td><td>2020-04-30</td><td>1&amp;1 Internet</td><td>⋯</td><td>25</td><td> 1</td><td><span style=white-space:pre-wrap>boxbcnamenities   </span></td><td><span style=white-space:pre-wrap>l       </span></td><td>15</td><td><span style=white-space:pre-wrap>15l       </span></td><td>13</td><td> 0.000000</td><td>1.99</td><td>13</td><td><span style=white-space:pre-wrap>boxbcnamenities   </span></td><td>0.005917160</td><td>1</td><td><span style=white-space:pre-wrap>Renewed   </span></td><td>0.4629511</td><td>0.470</td><td>0.469</td><td>0.3788837</td><td>0.4158225</td><td>0.4547808</td><td>8041</td><td>(0.3,1] </td><td>0.4629511</td><td>NA</td><td>NA</td></tr>\n",
       "\t<tr><th scope=row>6</th><td>1&amp;1 internet</td><td>1&amp;1 internet</td><td>Germany</td><td>2013-01-01T00:00:00Z</td><td>2019-12-31T00:00:00Z</td><td>Neha</td><td>EU</td><td> 89522687</td><td><span style=white-space:pre-wrap>deperlite.online         </span></td><td>online1&amp;1 internet</td><td>FirstTime</td><td>1</td><td>2020-01-03</td><td>2019-01-03</td><td>Active </td><td>online</td><td>Non China</td><td>1</td><td>NA</td><td>Not Renewd</td><td>0</td><td>auto-renewal</td><td>unrealized</td><td>2020-01-03</td><td>1&amp;1 Internet</td><td>⋯</td><td>25</td><td> 0</td><td><span style=white-space:pre-wrap>deperlite         </span></td><td><span style=white-space:pre-wrap>l       </span></td><td> 9</td><td><span style=white-space:pre-wrap>9l        </span></td><td>26</td><td>-9.210340</td><td>6.89</td><td>25</td><td><span style=white-space:pre-wrap>deperlite         </span></td><td>0.001479290</td><td>1</td><td>Not Renewd</td><td>0.4736138</td><td>0.476</td><td>0.402</td><td>0.3505893</td><td>0.4157406</td><td>0.4134431</td><td>8041</td><td>(-Inf,0]</td><td>0.4736138</td><td>NA</td><td>NA</td></tr>\n",
       "</tbody>\n",
       "</table>\n"
      ],
      "text/latex": [
       "A data.frame: 6 × 55\n",
       "\\begin{tabular}{r|lllllllllllllllllllllllllllllllllllllllllllllllllll}\n",
       "  & reseller & registrar & reseller\\_country & start\\_date & end\\_date & reseller\\_am & reseller\\_geo & domain\\_id & domain & tld\\_registrar\\_index & renewal\\_type & renewed\\_count & expiry\\_date & creation\\_date & status & tld & region & reg\\_period & registrant\\_country & renewal\\_status & renew\\_mbg & renew\\_type & autorenew\\_type & renew\\_date & renew\\_registrar & ⋯ & renew\\_arpt & reg\\_arpt\\_org & sld & sld\\_type & sld\\_length & sld\\_type2 & day\\_domains & log\\_reg\\_arpt & gibb\\_score & pattern & cluster & pattern\\_score & pattern\\_domain\\_count & actual & pred\\_df\\_seg2\\_glm & pred\\_df\\_seg\\_glm & pred\\_df\\_agg\\_glm & pred\\_df\\_seg2\\_rf & pred\\_df\\_seg\\_rf & pred\\_df\\_agg\\_rf & n & reg\\_arpt\\_slab & first\\_renewal\\_prediction & second\\_renewal\\_prediction & third\\_renewal\\_prediction\\\\\n",
       "  & <fct> & <chr> & <fct> & <fct> & <fct> & <fct> & <fct> & <int> & <chr> & <chr> & <chr> & <int> & <date> & <date> & <chr> & <fct> & <chr> & <int> & <chr> & <fct> & <int> & <chr> & <chr> & <date> & <chr> & ⋯ & <dbl> & <dbl> & <chr> & <fct> & <int> & <chr> & <int> & <dbl> & <dbl> & <chr> & <chr> & <dbl> & <int> & <fct> & <dbl> & <dbl> & <dbl> & <dbl> & <dbl> & <dbl> & <int> & <fct> & <dbl> & <dbl> & <dbl>\\\\\n",
       "\\hline\n",
       "\t1 & 1\\&1 internet & 1\\&1 internet & Germany & 2013-01-01T00:00:00Z & 2019-12-31T00:00:00Z & Neha & EU &  92470318 & glassmade.store           & store1\\&1 internet  & FirstTime & 1 & 2020-02-01 & 2019-02-01 & Deleted & store  & Non China & 1 & NA & Not Renewd & 0 & NA           & NA         & NA & Not Assigned & ⋯ & NA & 15 & glassmade          & l        &  9 & 9l         &  4 &  2.708050 & 6.28 & 4  & glassmade          & 0.062500000 & 1 & Not Renewd & 0.5261422 & 0.557 & 0.573 & 0.5818937 & 0.5460195 & 0.5327083 &  765 & (10,15{]}  & 0.5261422 & NA & NA\\\\\n",
       "\t2 & 1\\&1 internet & 1\\&1 internet & Germany & 2013-01-01T00:00:00Z & 2019-12-31T00:00:00Z & Neha & EU &  99323114 & ecucoche.online           & online1\\&1 internet & FirstTime & 1 & 2020-04-09 & 2019-04-09 & Active  & online & Non China & 1 & NA & Renewed    & 0 & auto-renewal & realized   & 2020-04-09 & 1\\&1 Internet & ⋯ & 25 &  0 & ecucoche           & l        &  8 & 8l         & 11 & -9.210340 & 6.93 & 5  & ecucoche           & 0.008264463 & 1 & Renewed    & 0.4982588 & 0.504 & 0.413 & 0.5069737 & 0.5028680 & 0.4991597 & 8041 & (-Inf,0{]} & 0.4982588 & NA & NA\\\\\n",
       "\t3 & 1\\&1 internet & 1\\&1 internet & Germany & 2013-01-01T00:00:00Z & 2019-12-31T00:00:00Z & Neha & EU &  99044709 & johnnyhaliday-home.online & online1\\&1 internet & FirstTime & 1 & 2020-04-05 & 2019-04-05 & Active  & online & Non China & 1 & NA & Renewed    & 0 & auto-renewal & realized   & 2020-04-05 & 1\\&1 Internet & ⋯ & 25 &  4 & johnnyhaliday-home & hyphen-l & 18 & 18hyphen-l & 19 &  1.386294 & 2.10 & 14 & johnnyhaliday-home & 0.002770083 & 1 & Renewed    & 0.5363220 & 0.542 & 0.494 & 0.4144221 & 0.3702964 & 0.4098304 & 8041 & (3,5{]}    & 0.5363220 & NA & NA\\\\\n",
       "\t4 & 1\\&1 internet & 1\\&1 internet & Germany & 2013-01-01T00:00:00Z & 2019-12-31T00:00:00Z & Neha & EU &  97657424 & app88.online              & online1\\&1 internet & FirstTime & 1 & 2020-03-23 & 2019-03-23 & Active  & online & Non China & 1 & NA & Not Renewd & 0 & auto-renewal & unrealized & 2020-03-23 & 1\\&1 Internet & ⋯ & 25 &  0 & app88              & ln       &  5 & 5ln        &  6 & -9.210340 & 3.54 & 5  & app88              & 0.027777778 & 1 & Not Renewd & 0.4369159 & 0.442 & 0.277 & 0.4805998 & 0.4450191 & 0.4593844 & 8041 & (-Inf,0{]} & 0.4369159 & NA & NA\\\\\n",
       "\t5 & 1\\&1 internet & 1\\&1 internet & Germany & 2013-01-01T00:00:00Z & 2019-12-31T00:00:00Z & Neha & EU & 102487989 & boxbcnamenities.online    & online1\\&1 internet & FirstTime & 1 & 2020-04-30 & 2019-04-30 & Active  & online & Non China & 1 & NA & Renewed    & 0 & auto-renewal & realized   & 2020-04-30 & 1\\&1 Internet & ⋯ & 25 &  1 & boxbcnamenities    & l        & 15 & 15l        & 13 &  0.000000 & 1.99 & 13 & boxbcnamenities    & 0.005917160 & 1 & Renewed    & 0.4629511 & 0.470 & 0.469 & 0.3788837 & 0.4158225 & 0.4547808 & 8041 & (0.3,1{]}  & 0.4629511 & NA & NA\\\\\n",
       "\t6 & 1\\&1 internet & 1\\&1 internet & Germany & 2013-01-01T00:00:00Z & 2019-12-31T00:00:00Z & Neha & EU &  89522687 & deperlite.online          & online1\\&1 internet & FirstTime & 1 & 2020-01-03 & 2019-01-03 & Active  & online & Non China & 1 & NA & Not Renewd & 0 & auto-renewal & unrealized & 2020-01-03 & 1\\&1 Internet & ⋯ & 25 &  0 & deperlite          & l        &  9 & 9l         & 26 & -9.210340 & 6.89 & 25 & deperlite          & 0.001479290 & 1 & Not Renewd & 0.4736138 & 0.476 & 0.402 & 0.3505893 & 0.4157406 & 0.4134431 & 8041 & (-Inf,0{]} & 0.4736138 & NA & NA\\\\\n",
       "\\end{tabular}\n"
      ],
      "text/markdown": [
       "\n",
       "A data.frame: 6 × 55\n",
       "\n",
       "| <!--/--> | reseller &lt;fct&gt; | registrar &lt;chr&gt; | reseller_country &lt;fct&gt; | start_date &lt;fct&gt; | end_date &lt;fct&gt; | reseller_am &lt;fct&gt; | reseller_geo &lt;fct&gt; | domain_id &lt;int&gt; | domain &lt;chr&gt; | tld_registrar_index &lt;chr&gt; | renewal_type &lt;chr&gt; | renewed_count &lt;int&gt; | expiry_date &lt;date&gt; | creation_date &lt;date&gt; | status &lt;chr&gt; | tld &lt;fct&gt; | region &lt;chr&gt; | reg_period &lt;int&gt; | registrant_country &lt;chr&gt; | renewal_status &lt;fct&gt; | renew_mbg &lt;int&gt; | renew_type &lt;chr&gt; | autorenew_type &lt;chr&gt; | renew_date &lt;date&gt; | renew_registrar &lt;chr&gt; | ⋯ ⋯ | renew_arpt &lt;dbl&gt; | reg_arpt_org &lt;dbl&gt; | sld &lt;chr&gt; | sld_type &lt;fct&gt; | sld_length &lt;int&gt; | sld_type2 &lt;chr&gt; | day_domains &lt;int&gt; | log_reg_arpt &lt;dbl&gt; | gibb_score &lt;dbl&gt; | pattern &lt;chr&gt; | cluster &lt;chr&gt; | pattern_score &lt;dbl&gt; | pattern_domain_count &lt;int&gt; | actual &lt;fct&gt; | pred_df_seg2_glm &lt;dbl&gt; | pred_df_seg_glm &lt;dbl&gt; | pred_df_agg_glm &lt;dbl&gt; | pred_df_seg2_rf &lt;dbl&gt; | pred_df_seg_rf &lt;dbl&gt; | pred_df_agg_rf &lt;dbl&gt; | n &lt;int&gt; | reg_arpt_slab &lt;fct&gt; | first_renewal_prediction &lt;dbl&gt; | second_renewal_prediction &lt;dbl&gt; | third_renewal_prediction &lt;dbl&gt; |\n",
       "|---|---|---|---|---|---|---|---|---|---|---|---|---|---|---|---|---|---|---|---|---|---|---|---|---|---|---|---|---|---|---|---|---|---|---|---|---|---|---|---|---|---|---|---|---|---|---|---|---|---|---|---|\n",
       "| 1 | 1&amp;1 internet | 1&amp;1 internet | Germany | 2013-01-01T00:00:00Z | 2019-12-31T00:00:00Z | Neha | EU |  92470318 | glassmade.store           | store1&amp;1 internet  | FirstTime | 1 | 2020-02-01 | 2019-02-01 | Deleted | store  | Non China | 1 | NA | Not Renewd | 0 | NA           | NA         | NA | Not Assigned | ⋯ | NA | 15 | glassmade          | l        |  9 | 9l         |  4 |  2.708050 | 6.28 | 4  | glassmade          | 0.062500000 | 1 | Not Renewd | 0.5261422 | 0.557 | 0.573 | 0.5818937 | 0.5460195 | 0.5327083 |  765 | (10,15]  | 0.5261422 | NA | NA |\n",
       "| 2 | 1&amp;1 internet | 1&amp;1 internet | Germany | 2013-01-01T00:00:00Z | 2019-12-31T00:00:00Z | Neha | EU |  99323114 | ecucoche.online           | online1&amp;1 internet | FirstTime | 1 | 2020-04-09 | 2019-04-09 | Active  | online | Non China | 1 | NA | Renewed    | 0 | auto-renewal | realized   | 2020-04-09 | 1&amp;1 Internet | ⋯ | 25 |  0 | ecucoche           | l        |  8 | 8l         | 11 | -9.210340 | 6.93 | 5  | ecucoche           | 0.008264463 | 1 | Renewed    | 0.4982588 | 0.504 | 0.413 | 0.5069737 | 0.5028680 | 0.4991597 | 8041 | (-Inf,0] | 0.4982588 | NA | NA |\n",
       "| 3 | 1&amp;1 internet | 1&amp;1 internet | Germany | 2013-01-01T00:00:00Z | 2019-12-31T00:00:00Z | Neha | EU |  99044709 | johnnyhaliday-home.online | online1&amp;1 internet | FirstTime | 1 | 2020-04-05 | 2019-04-05 | Active  | online | Non China | 1 | NA | Renewed    | 0 | auto-renewal | realized   | 2020-04-05 | 1&amp;1 Internet | ⋯ | 25 |  4 | johnnyhaliday-home | hyphen-l | 18 | 18hyphen-l | 19 |  1.386294 | 2.10 | 14 | johnnyhaliday-home | 0.002770083 | 1 | Renewed    | 0.5363220 | 0.542 | 0.494 | 0.4144221 | 0.3702964 | 0.4098304 | 8041 | (3,5]    | 0.5363220 | NA | NA |\n",
       "| 4 | 1&amp;1 internet | 1&amp;1 internet | Germany | 2013-01-01T00:00:00Z | 2019-12-31T00:00:00Z | Neha | EU |  97657424 | app88.online              | online1&amp;1 internet | FirstTime | 1 | 2020-03-23 | 2019-03-23 | Active  | online | Non China | 1 | NA | Not Renewd | 0 | auto-renewal | unrealized | 2020-03-23 | 1&amp;1 Internet | ⋯ | 25 |  0 | app88              | ln       |  5 | 5ln        |  6 | -9.210340 | 3.54 | 5  | app88              | 0.027777778 | 1 | Not Renewd | 0.4369159 | 0.442 | 0.277 | 0.4805998 | 0.4450191 | 0.4593844 | 8041 | (-Inf,0] | 0.4369159 | NA | NA |\n",
       "| 5 | 1&amp;1 internet | 1&amp;1 internet | Germany | 2013-01-01T00:00:00Z | 2019-12-31T00:00:00Z | Neha | EU | 102487989 | boxbcnamenities.online    | online1&amp;1 internet | FirstTime | 1 | 2020-04-30 | 2019-04-30 | Active  | online | Non China | 1 | NA | Renewed    | 0 | auto-renewal | realized   | 2020-04-30 | 1&amp;1 Internet | ⋯ | 25 |  1 | boxbcnamenities    | l        | 15 | 15l        | 13 |  0.000000 | 1.99 | 13 | boxbcnamenities    | 0.005917160 | 1 | Renewed    | 0.4629511 | 0.470 | 0.469 | 0.3788837 | 0.4158225 | 0.4547808 | 8041 | (0.3,1]  | 0.4629511 | NA | NA |\n",
       "| 6 | 1&amp;1 internet | 1&amp;1 internet | Germany | 2013-01-01T00:00:00Z | 2019-12-31T00:00:00Z | Neha | EU |  89522687 | deperlite.online          | online1&amp;1 internet | FirstTime | 1 | 2020-01-03 | 2019-01-03 | Active  | online | Non China | 1 | NA | Not Renewd | 0 | auto-renewal | unrealized | 2020-01-03 | 1&amp;1 Internet | ⋯ | 25 |  0 | deperlite          | l        |  9 | 9l         | 26 | -9.210340 | 6.89 | 25 | deperlite          | 0.001479290 | 1 | Not Renewd | 0.4736138 | 0.476 | 0.402 | 0.3505893 | 0.4157406 | 0.4134431 | 8041 | (-Inf,0] | 0.4736138 | NA | NA |\n",
       "\n"
      ],
      "text/plain": [
       "  reseller     registrar    reseller_country start_date          \n",
       "1 1&1 internet 1&1 internet Germany          2013-01-01T00:00:00Z\n",
       "2 1&1 internet 1&1 internet Germany          2013-01-01T00:00:00Z\n",
       "3 1&1 internet 1&1 internet Germany          2013-01-01T00:00:00Z\n",
       "4 1&1 internet 1&1 internet Germany          2013-01-01T00:00:00Z\n",
       "5 1&1 internet 1&1 internet Germany          2013-01-01T00:00:00Z\n",
       "6 1&1 internet 1&1 internet Germany          2013-01-01T00:00:00Z\n",
       "  end_date             reseller_am reseller_geo domain_id\n",
       "1 2019-12-31T00:00:00Z Neha        EU            92470318\n",
       "2 2019-12-31T00:00:00Z Neha        EU            99323114\n",
       "3 2019-12-31T00:00:00Z Neha        EU            99044709\n",
       "4 2019-12-31T00:00:00Z Neha        EU            97657424\n",
       "5 2019-12-31T00:00:00Z Neha        EU           102487989\n",
       "6 2019-12-31T00:00:00Z Neha        EU            89522687\n",
       "  domain                    tld_registrar_index renewal_type renewed_count\n",
       "1 glassmade.store           store1&1 internet   FirstTime    1            \n",
       "2 ecucoche.online           online1&1 internet  FirstTime    1            \n",
       "3 johnnyhaliday-home.online online1&1 internet  FirstTime    1            \n",
       "4 app88.online              online1&1 internet  FirstTime    1            \n",
       "5 boxbcnamenities.online    online1&1 internet  FirstTime    1            \n",
       "6 deperlite.online          online1&1 internet  FirstTime    1            \n",
       "  expiry_date creation_date status  tld    region    reg_period\n",
       "1 2020-02-01  2019-02-01    Deleted store  Non China 1         \n",
       "2 2020-04-09  2019-04-09    Active  online Non China 1         \n",
       "3 2020-04-05  2019-04-05    Active  online Non China 1         \n",
       "4 2020-03-23  2019-03-23    Active  online Non China 1         \n",
       "5 2020-04-30  2019-04-30    Active  online Non China 1         \n",
       "6 2020-01-03  2019-01-03    Active  online Non China 1         \n",
       "  registrant_country renewal_status renew_mbg renew_type   autorenew_type\n",
       "1 NA                 Not Renewd     0         NA           NA            \n",
       "2 NA                 Renewed        0         auto-renewal realized      \n",
       "3 NA                 Renewed        0         auto-renewal realized      \n",
       "4 NA                 Not Renewd     0         auto-renewal unrealized    \n",
       "5 NA                 Renewed        0         auto-renewal realized      \n",
       "6 NA                 Not Renewd     0         auto-renewal unrealized    \n",
       "  renew_date renew_registrar ⋯ renew_arpt reg_arpt_org sld               \n",
       "1 <NA>       Not Assigned    ⋯ NA         15           glassmade         \n",
       "2 2020-04-09 1&1 Internet    ⋯ 25          0           ecucoche          \n",
       "3 2020-04-05 1&1 Internet    ⋯ 25          4           johnnyhaliday-home\n",
       "4 2020-03-23 1&1 Internet    ⋯ 25          0           app88             \n",
       "5 2020-04-30 1&1 Internet    ⋯ 25          1           boxbcnamenities   \n",
       "6 2020-01-03 1&1 Internet    ⋯ 25          0           deperlite         \n",
       "  sld_type sld_length sld_type2  day_domains log_reg_arpt gibb_score pattern\n",
       "1 l         9         9l          4           2.708050    6.28       4      \n",
       "2 l         8         8l         11          -9.210340    6.93       5      \n",
       "3 hyphen-l 18         18hyphen-l 19           1.386294    2.10       14     \n",
       "4 ln        5         5ln         6          -9.210340    3.54       5      \n",
       "5 l        15         15l        13           0.000000    1.99       13     \n",
       "6 l         9         9l         26          -9.210340    6.89       25     \n",
       "  cluster            pattern_score pattern_domain_count actual    \n",
       "1 glassmade          0.062500000   1                    Not Renewd\n",
       "2 ecucoche           0.008264463   1                    Renewed   \n",
       "3 johnnyhaliday-home 0.002770083   1                    Renewed   \n",
       "4 app88              0.027777778   1                    Not Renewd\n",
       "5 boxbcnamenities    0.005917160   1                    Renewed   \n",
       "6 deperlite          0.001479290   1                    Not Renewd\n",
       "  pred_df_seg2_glm pred_df_seg_glm pred_df_agg_glm pred_df_seg2_rf\n",
       "1 0.5261422        0.557           0.573           0.5818937      \n",
       "2 0.4982588        0.504           0.413           0.5069737      \n",
       "3 0.5363220        0.542           0.494           0.4144221      \n",
       "4 0.4369159        0.442           0.277           0.4805998      \n",
       "5 0.4629511        0.470           0.469           0.3788837      \n",
       "6 0.4736138        0.476           0.402           0.3505893      \n",
       "  pred_df_seg_rf pred_df_agg_rf n    reg_arpt_slab first_renewal_prediction\n",
       "1 0.5460195      0.5327083       765 (10,15]       0.5261422               \n",
       "2 0.5028680      0.4991597      8041 (-Inf,0]      0.4982588               \n",
       "3 0.3702964      0.4098304      8041 (3,5]         0.5363220               \n",
       "4 0.4450191      0.4593844      8041 (-Inf,0]      0.4369159               \n",
       "5 0.4158225      0.4547808      8041 (0.3,1]       0.4629511               \n",
       "6 0.4157406      0.4134431      8041 (-Inf,0]      0.4736138               \n",
       "  second_renewal_prediction third_renewal_prediction\n",
       "1 NA                        NA                      \n",
       "2 NA                        NA                      \n",
       "3 NA                        NA                      \n",
       "4 NA                        NA                      \n",
       "5 NA                        NA                      \n",
       "6 NA                        NA                      "
      ]
     },
     "metadata": {},
     "output_type": "display_data"
    }
   ],
   "source": [
    "head(test_data_op)"
   ]
  },
  {
   "cell_type": "code",
   "execution_count": 106,
   "metadata": {},
   "outputs": [
    {
     "data": {
      "text/html": [
       "<style>\n",
       ".list-inline {list-style: none; margin:0; padding: 0}\n",
       ".list-inline>li {display: inline-block}\n",
       ".list-inline>li:not(:last-child)::after {content: \"\\00b7\"; padding: 0 .5ex}\n",
       "</style>\n",
       "<ol class=list-inline><li>1356</li><li>55</li></ol>\n"
      ],
      "text/latex": [
       "\\begin{enumerate*}\n",
       "\\item 1356\n",
       "\\item 55\n",
       "\\end{enumerate*}\n"
      ],
      "text/markdown": [
       "1. 1356\n",
       "2. 55\n",
       "\n",
       "\n"
      ],
      "text/plain": [
       "[1] 1356   55"
      ]
     },
     "metadata": {},
     "output_type": "display_data"
    }
   ],
   "source": [
    "test_data_op %>% filter(is.na(pred_df_seg2_glm)) %>% dim()"
   ]
  },
  {
   "cell_type": "code",
   "execution_count": 107,
   "metadata": {},
   "outputs": [
    {
     "data": {
      "text/html": [
       "<style>\n",
       ".list-inline {list-style: none; margin:0; padding: 0}\n",
       ".list-inline>li {display: inline-block}\n",
       ".list-inline>li:not(:last-child)::after {content: \"\\00b7\"; padding: 0 .5ex}\n",
       "</style>\n",
       "<ol class=list-inline><li>3304</li><li>2</li></ol>\n"
      ],
      "text/latex": [
       "\\begin{enumerate*}\n",
       "\\item 3304\n",
       "\\item 2\n",
       "\\end{enumerate*}\n"
      ],
      "text/markdown": [
       "1. 3304\n",
       "2. 2\n",
       "\n",
       "\n"
      ],
      "text/plain": [
       "[1] 3304    2"
      ]
     },
     "metadata": {},
     "output_type": "display_data"
    }
   ],
   "source": [
    "test_data_op %>% filter(pred_df_seg2_glm != first_renewal_prediction) %>%\n",
    "  select(pred_df_seg2_glm,first_renewal_prediction) %>% dim()"
   ]
  },
  {
   "cell_type": "code",
   "execution_count": null,
   "metadata": {},
   "outputs": [],
   "source": []
  },
  {
   "cell_type": "code",
   "execution_count": null,
   "metadata": {},
   "outputs": [],
   "source": []
  },
  {
   "cell_type": "code",
   "execution_count": null,
   "metadata": {},
   "outputs": [],
   "source": []
  },
  {
   "cell_type": "code",
   "execution_count": null,
   "metadata": {},
   "outputs": [],
   "source": []
  },
  {
   "cell_type": "code",
   "execution_count": null,
   "metadata": {},
   "outputs": [],
   "source": []
  },
  {
   "cell_type": "code",
   "execution_count": 6,
   "metadata": {},
   "outputs": [
    {
     "data": {
      "text/html": [
       "<style>\n",
       ".list-inline {list-style: none; margin:0; padding: 0}\n",
       ".list-inline>li {display: inline-block}\n",
       ".list-inline>li:not(:last-child)::after {content: \"\\00b7\"; padding: 0 .5ex}\n",
       "</style>\n",
       "<ol class=list-inline><li>'npv_fallback_first_final'</li><li>'npv_fallback_first_geo_arpt'</li><li>'npv_fallback_first_geo_arpt_tld'</li><li>'npv_fallback_first_tld_arpt'</li><li>'npv_fallback_second_final'</li><li>'npv_fallback_second_geo'</li><li>'npv_fallback_second_tld_geo'</li><li>'npv_fallback_third_final'</li><li>'npv_fallback_third_geo'</li><li>'npv_fallback_third_tld_geo'</li></ol>\n"
      ],
      "text/latex": [
       "\\begin{enumerate*}\n",
       "\\item 'npv\\_fallback\\_first\\_final'\n",
       "\\item 'npv\\_fallback\\_first\\_geo\\_arpt'\n",
       "\\item 'npv\\_fallback\\_first\\_geo\\_arpt\\_tld'\n",
       "\\item 'npv\\_fallback\\_first\\_tld\\_arpt'\n",
       "\\item 'npv\\_fallback\\_second\\_final'\n",
       "\\item 'npv\\_fallback\\_second\\_geo'\n",
       "\\item 'npv\\_fallback\\_second\\_tld\\_geo'\n",
       "\\item 'npv\\_fallback\\_third\\_final'\n",
       "\\item 'npv\\_fallback\\_third\\_geo'\n",
       "\\item 'npv\\_fallback\\_third\\_tld\\_geo'\n",
       "\\end{enumerate*}\n"
      ],
      "text/markdown": [
       "1. 'npv_fallback_first_final'\n",
       "2. 'npv_fallback_first_geo_arpt'\n",
       "3. 'npv_fallback_first_geo_arpt_tld'\n",
       "4. 'npv_fallback_first_tld_arpt'\n",
       "5. 'npv_fallback_second_final'\n",
       "6. 'npv_fallback_second_geo'\n",
       "7. 'npv_fallback_second_tld_geo'\n",
       "8. 'npv_fallback_third_final'\n",
       "9. 'npv_fallback_third_geo'\n",
       "10. 'npv_fallback_third_tld_geo'\n",
       "\n",
       "\n"
      ],
      "text/plain": [
       " [1] \"npv_fallback_first_final\"        \"npv_fallback_first_geo_arpt\"    \n",
       " [3] \"npv_fallback_first_geo_arpt_tld\" \"npv_fallback_first_tld_arpt\"    \n",
       " [5] \"npv_fallback_second_final\"       \"npv_fallback_second_geo\"        \n",
       " [7] \"npv_fallback_second_tld_geo\"     \"npv_fallback_third_final\"       \n",
       " [9] \"npv_fallback_third_geo\"          \"npv_fallback_third_tld_geo\"     "
      ]
     },
     "metadata": {},
     "output_type": "display_data"
    }
   ],
   "source": [
    "npv_fallback_tables <- load(\"/home/jupyter/local/Domains_202003/data/npv_fallback_tables\")\n",
    "npv_fallback_tables"
   ]
  },
  {
   "cell_type": "code",
   "execution_count": 7,
   "metadata": {},
   "outputs": [
    {
     "data": {
      "text/html": [
       "<table>\n",
       "<caption>A grouped_df: 6 × 6</caption>\n",
       "<thead>\n",
       "\t<tr><th scope=col>region</th><th scope=col>reg_arpt_slab</th><th scope=col>expiring_domains</th><th scope=col>renewed_domains</th><th scope=col>renewal_rate</th><th scope=col>index</th></tr>\n",
       "\t<tr><th scope=col>&lt;chr&gt;</th><th scope=col>&lt;fct&gt;</th><th scope=col>&lt;int&gt;</th><th scope=col>&lt;int&gt;</th><th scope=col>&lt;dbl&gt;</th><th scope=col>&lt;chr&gt;</th></tr>\n",
       "</thead>\n",
       "<tbody>\n",
       "\t<tr><td>China</td><td>(-Inf,0]</td><td> 35669</td><td> 2139</td><td>0.060</td><td>China(-Inf,0]</td></tr>\n",
       "\t<tr><td>China</td><td>(0,1]   </td><td>536645</td><td>11052</td><td>0.021</td><td>China(0,1]   </td></tr>\n",
       "\t<tr><td>China</td><td>(1,3]   </td><td> 84869</td><td>12063</td><td>0.142</td><td>China(1,3]   </td></tr>\n",
       "\t<tr><td>China</td><td>(3,5]   </td><td>  1356</td><td>  340</td><td>0.251</td><td>China(3,5]   </td></tr>\n",
       "\t<tr><td>China</td><td>(5,10]  </td><td>   177</td><td>   36</td><td>0.203</td><td>China(5,10]  </td></tr>\n",
       "\t<tr><td>China</td><td>(10,15] </td><td>   427</td><td>  122</td><td>0.286</td><td>China(10,15] </td></tr>\n",
       "</tbody>\n",
       "</table>\n"
      ],
      "text/latex": [
       "A grouped\\_df: 6 × 6\n",
       "\\begin{tabular}{llllll}\n",
       " region & reg\\_arpt\\_slab & expiring\\_domains & renewed\\_domains & renewal\\_rate & index\\\\\n",
       " <chr> & <fct> & <int> & <int> & <dbl> & <chr>\\\\\n",
       "\\hline\n",
       "\t China & (-Inf,0{]} &  35669 &  2139 & 0.060 & China(-Inf,0{]}\\\\\n",
       "\t China & (0,1{]}    & 536645 & 11052 & 0.021 & China(0,1{]}   \\\\\n",
       "\t China & (1,3{]}    &  84869 & 12063 & 0.142 & China(1,3{]}   \\\\\n",
       "\t China & (3,5{]}    &   1356 &   340 & 0.251 & China(3,5{]}   \\\\\n",
       "\t China & (5,10{]}   &    177 &    36 & 0.203 & China(5,10{]}  \\\\\n",
       "\t China & (10,15{]}  &    427 &   122 & 0.286 & China(10,15{]} \\\\\n",
       "\\end{tabular}\n"
      ],
      "text/markdown": [
       "\n",
       "A grouped_df: 6 × 6\n",
       "\n",
       "| region &lt;chr&gt; | reg_arpt_slab &lt;fct&gt; | expiring_domains &lt;int&gt; | renewed_domains &lt;int&gt; | renewal_rate &lt;dbl&gt; | index &lt;chr&gt; |\n",
       "|---|---|---|---|---|---|\n",
       "| China | (-Inf,0] |  35669 |  2139 | 0.060 | China(-Inf,0] |\n",
       "| China | (0,1]    | 536645 | 11052 | 0.021 | China(0,1]    |\n",
       "| China | (1,3]    |  84869 | 12063 | 0.142 | China(1,3]    |\n",
       "| China | (3,5]    |   1356 |   340 | 0.251 | China(3,5]    |\n",
       "| China | (5,10]   |    177 |    36 | 0.203 | China(5,10]   |\n",
       "| China | (10,15]  |    427 |   122 | 0.286 | China(10,15]  |\n",
       "\n"
      ],
      "text/plain": [
       "  region reg_arpt_slab expiring_domains renewed_domains renewal_rate\n",
       "1 China  (-Inf,0]       35669            2139           0.060       \n",
       "2 China  (0,1]         536645           11052           0.021       \n",
       "3 China  (1,3]          84869           12063           0.142       \n",
       "4 China  (3,5]           1356             340           0.251       \n",
       "5 China  (5,10]           177              36           0.203       \n",
       "6 China  (10,15]          427             122           0.286       \n",
       "  index        \n",
       "1 China(-Inf,0]\n",
       "2 China(0,1]   \n",
       "3 China(1,3]   \n",
       "4 China(3,5]   \n",
       "5 China(5,10]  \n",
       "6 China(10,15] "
      ]
     },
     "metadata": {},
     "output_type": "display_data"
    }
   ],
   "source": [
    "head(npv_fallback_first_final)"
   ]
  },
  {
   "cell_type": "code",
   "execution_count": 8,
   "metadata": {},
   "outputs": [
    {
     "data": {
      "text/html": [
       "<table>\n",
       "<caption>A grouped_df: 6 × 6</caption>\n",
       "<thead>\n",
       "\t<tr><th scope=col>reseller_geo</th><th scope=col>reg_arpt_slab</th><th scope=col>expiring_domains</th><th scope=col>renewed_domains</th><th scope=col>renewal_rate</th><th scope=col>index</th></tr>\n",
       "\t<tr><th scope=col>&lt;chr&gt;</th><th scope=col>&lt;fct&gt;</th><th scope=col>&lt;int&gt;</th><th scope=col>&lt;int&gt;</th><th scope=col>&lt;dbl&gt;</th><th scope=col>&lt;chr&gt;</th></tr>\n",
       "</thead>\n",
       "<tbody>\n",
       "\t<tr><td>Africa                 </td><td>(0,1]  </td><td>1278</td><td>  34</td><td>0.027</td><td>Africa(0,1]                   </td></tr>\n",
       "\t<tr><td>Africa                 </td><td>(1,3]  </td><td>1451</td><td>  67</td><td>0.046</td><td>Africa(1,3]                   </td></tr>\n",
       "\t<tr><td>Australia &amp; New Zealand</td><td><span style=white-space:pre-wrap>(1,3]  </span></td><td>1087</td><td> 276</td><td>0.254</td><td><span style=white-space:pre-wrap>Australia &amp; New Zealand(1,3]  </span></td></tr>\n",
       "\t<tr><td>Australia &amp; New Zealand</td><td><span style=white-space:pre-wrap>(3,5]  </span></td><td> 773</td><td> 264</td><td>0.342</td><td><span style=white-space:pre-wrap>Australia &amp; New Zealand(3,5]  </span></td></tr>\n",
       "\t<tr><td>Australia &amp; New Zealand</td><td>(5,10] </td><td>2435</td><td>1129</td><td>0.464</td><td>Australia &amp; New Zealand(5,10] </td></tr>\n",
       "\t<tr><td>Australia &amp; New Zealand</td><td>(10,15]</td><td> 713</td><td> 308</td><td>0.432</td><td>Australia &amp; New Zealand(10,15]</td></tr>\n",
       "</tbody>\n",
       "</table>\n"
      ],
      "text/latex": [
       "A grouped\\_df: 6 × 6\n",
       "\\begin{tabular}{llllll}\n",
       " reseller\\_geo & reg\\_arpt\\_slab & expiring\\_domains & renewed\\_domains & renewal\\_rate & index\\\\\n",
       " <chr> & <fct> & <int> & <int> & <dbl> & <chr>\\\\\n",
       "\\hline\n",
       "\t Africa                  & (0,1{]}   & 1278 &   34 & 0.027 & Africa(0,1{]}                   \\\\\n",
       "\t Africa                  & (1,3{]}   & 1451 &   67 & 0.046 & Africa(1,3{]}                   \\\\\n",
       "\t Australia \\& New Zealand & (1,3{]}   & 1087 &  276 & 0.254 & Australia \\& New Zealand(1,3{]}  \\\\\n",
       "\t Australia \\& New Zealand & (3,5{]}   &  773 &  264 & 0.342 & Australia \\& New Zealand(3,5{]}  \\\\\n",
       "\t Australia \\& New Zealand & (5,10{]}  & 2435 & 1129 & 0.464 & Australia \\& New Zealand(5,10{]} \\\\\n",
       "\t Australia \\& New Zealand & (10,15{]} &  713 &  308 & 0.432 & Australia \\& New Zealand(10,15{]}\\\\\n",
       "\\end{tabular}\n"
      ],
      "text/markdown": [
       "\n",
       "A grouped_df: 6 × 6\n",
       "\n",
       "| reseller_geo &lt;chr&gt; | reg_arpt_slab &lt;fct&gt; | expiring_domains &lt;int&gt; | renewed_domains &lt;int&gt; | renewal_rate &lt;dbl&gt; | index &lt;chr&gt; |\n",
       "|---|---|---|---|---|---|\n",
       "| Africa                  | (0,1]   | 1278 |   34 | 0.027 | Africa(0,1]                    |\n",
       "| Africa                  | (1,3]   | 1451 |   67 | 0.046 | Africa(1,3]                    |\n",
       "| Australia &amp; New Zealand | (1,3]   | 1087 |  276 | 0.254 | Australia &amp; New Zealand(1,3]   |\n",
       "| Australia &amp; New Zealand | (3,5]   |  773 |  264 | 0.342 | Australia &amp; New Zealand(3,5]   |\n",
       "| Australia &amp; New Zealand | (5,10]  | 2435 | 1129 | 0.464 | Australia &amp; New Zealand(5,10]  |\n",
       "| Australia &amp; New Zealand | (10,15] |  713 |  308 | 0.432 | Australia &amp; New Zealand(10,15] |\n",
       "\n"
      ],
      "text/plain": [
       "  reseller_geo            reg_arpt_slab expiring_domains renewed_domains\n",
       "1 Africa                  (0,1]         1278               34           \n",
       "2 Africa                  (1,3]         1451               67           \n",
       "3 Australia & New Zealand (1,3]         1087              276           \n",
       "4 Australia & New Zealand (3,5]          773              264           \n",
       "5 Australia & New Zealand (5,10]        2435             1129           \n",
       "6 Australia & New Zealand (10,15]        713              308           \n",
       "  renewal_rate index                         \n",
       "1 0.027        Africa(0,1]                   \n",
       "2 0.046        Africa(1,3]                   \n",
       "3 0.254        Australia & New Zealand(1,3]  \n",
       "4 0.342        Australia & New Zealand(3,5]  \n",
       "5 0.464        Australia & New Zealand(5,10] \n",
       "6 0.432        Australia & New Zealand(10,15]"
      ]
     },
     "metadata": {},
     "output_type": "display_data"
    }
   ],
   "source": [
    "head(npv_fallback_first_geo_arpt)"
   ]
  },
  {
   "cell_type": "code",
   "execution_count": 9,
   "metadata": {},
   "outputs": [
    {
     "data": {
      "text/html": [
       "<table>\n",
       "<caption>A grouped_df: 6 × 7</caption>\n",
       "<thead>\n",
       "\t<tr><th scope=col>tld</th><th scope=col>reseller_geo</th><th scope=col>reg_arpt_slab</th><th scope=col>expiring_domains</th><th scope=col>renewed_domains</th><th scope=col>renewal_rate</th><th scope=col>index</th></tr>\n",
       "\t<tr><th scope=col>&lt;chr&gt;</th><th scope=col>&lt;chr&gt;</th><th scope=col>&lt;fct&gt;</th><th scope=col>&lt;int&gt;</th><th scope=col>&lt;int&gt;</th><th scope=col>&lt;dbl&gt;</th><th scope=col>&lt;chr&gt;</th></tr>\n",
       "</thead>\n",
       "<tbody>\n",
       "\t<tr><td>fun</td><td>China</td><td>(-Inf,0]</td><td> 2098</td><td> 111</td><td>0.053</td><td>funChina(-Inf,0]</td></tr>\n",
       "\t<tr><td>fun</td><td>China</td><td>(0,1]   </td><td>82340</td><td>1910</td><td>0.023</td><td>funChina(0,1]   </td></tr>\n",
       "\t<tr><td>fun</td><td>China</td><td>(1,3]   </td><td> 9991</td><td>1454</td><td>0.146</td><td>funChina(1,3]   </td></tr>\n",
       "\t<tr><td>fun</td><td>EU   </td><td>(-Inf,0]</td><td>  901</td><td>   8</td><td>0.009</td><td>funEU(-Inf,0]   </td></tr>\n",
       "\t<tr><td>fun</td><td>EU   </td><td>(0,1]   </td><td> 6206</td><td> 210</td><td>0.034</td><td>funEU(0,1]      </td></tr>\n",
       "\t<tr><td>fun</td><td>EU   </td><td>(1,3]   </td><td> 1907</td><td> 550</td><td>0.288</td><td>funEU(1,3]      </td></tr>\n",
       "</tbody>\n",
       "</table>\n"
      ],
      "text/latex": [
       "A grouped\\_df: 6 × 7\n",
       "\\begin{tabular}{lllllll}\n",
       " tld & reseller\\_geo & reg\\_arpt\\_slab & expiring\\_domains & renewed\\_domains & renewal\\_rate & index\\\\\n",
       " <chr> & <chr> & <fct> & <int> & <int> & <dbl> & <chr>\\\\\n",
       "\\hline\n",
       "\t fun & China & (-Inf,0{]} &  2098 &  111 & 0.053 & funChina(-Inf,0{]}\\\\\n",
       "\t fun & China & (0,1{]}    & 82340 & 1910 & 0.023 & funChina(0,1{]}   \\\\\n",
       "\t fun & China & (1,3{]}    &  9991 & 1454 & 0.146 & funChina(1,3{]}   \\\\\n",
       "\t fun & EU    & (-Inf,0{]} &   901 &    8 & 0.009 & funEU(-Inf,0{]}   \\\\\n",
       "\t fun & EU    & (0,1{]}    &  6206 &  210 & 0.034 & funEU(0,1{]}      \\\\\n",
       "\t fun & EU    & (1,3{]}    &  1907 &  550 & 0.288 & funEU(1,3{]}      \\\\\n",
       "\\end{tabular}\n"
      ],
      "text/markdown": [
       "\n",
       "A grouped_df: 6 × 7\n",
       "\n",
       "| tld &lt;chr&gt; | reseller_geo &lt;chr&gt; | reg_arpt_slab &lt;fct&gt; | expiring_domains &lt;int&gt; | renewed_domains &lt;int&gt; | renewal_rate &lt;dbl&gt; | index &lt;chr&gt; |\n",
       "|---|---|---|---|---|---|---|\n",
       "| fun | China | (-Inf,0] |  2098 |  111 | 0.053 | funChina(-Inf,0] |\n",
       "| fun | China | (0,1]    | 82340 | 1910 | 0.023 | funChina(0,1]    |\n",
       "| fun | China | (1,3]    |  9991 | 1454 | 0.146 | funChina(1,3]    |\n",
       "| fun | EU    | (-Inf,0] |   901 |    8 | 0.009 | funEU(-Inf,0]    |\n",
       "| fun | EU    | (0,1]    |  6206 |  210 | 0.034 | funEU(0,1]       |\n",
       "| fun | EU    | (1,3]    |  1907 |  550 | 0.288 | funEU(1,3]       |\n",
       "\n"
      ],
      "text/plain": [
       "  tld reseller_geo reg_arpt_slab expiring_domains renewed_domains renewal_rate\n",
       "1 fun China        (-Inf,0]       2098             111            0.053       \n",
       "2 fun China        (0,1]         82340            1910            0.023       \n",
       "3 fun China        (1,3]          9991            1454            0.146       \n",
       "4 fun EU           (-Inf,0]        901               8            0.009       \n",
       "5 fun EU           (0,1]          6206             210            0.034       \n",
       "6 fun EU           (1,3]          1907             550            0.288       \n",
       "  index           \n",
       "1 funChina(-Inf,0]\n",
       "2 funChina(0,1]   \n",
       "3 funChina(1,3]   \n",
       "4 funEU(-Inf,0]   \n",
       "5 funEU(0,1]      \n",
       "6 funEU(1,3]      "
      ]
     },
     "metadata": {},
     "output_type": "display_data"
    }
   ],
   "source": [
    "head(npv_fallback_first_geo_arpt_tld)"
   ]
  },
  {
   "cell_type": "markdown",
   "metadata": {},
   "source": [
    "## Using just npv_fallback_first_geo_arpt_tld to pull up renewal_rate given [tld,reseller_geo,reg_arpt] - **COnfirm w/ Parag**"
   ]
  },
  {
   "cell_type": "code",
   "execution_count": 10,
   "metadata": {},
   "outputs": [
    {
     "data": {
      "text/html": [
       "<style>\n",
       ".list-inline {list-style: none; margin:0; padding: 0}\n",
       ".list-inline>li {display: inline-block}\n",
       ".list-inline>li:not(:last-child)::after {content: \"\\00b7\"; padding: 0 .5ex}\n",
       "</style>\n",
       "<ol class=list-inline><li>297100</li><li>12</li></ol>\n"
      ],
      "text/latex": [
       "\\begin{enumerate*}\n",
       "\\item 297100\n",
       "\\item 12\n",
       "\\end{enumerate*}\n"
      ],
      "text/markdown": [
       "1. 297100\n",
       "2. 12\n",
       "\n",
       "\n"
      ],
      "text/plain": [
       "[1] 297100     12"
      ]
     },
     "metadata": {},
     "output_type": "display_data"
    },
    {
     "data": {
      "text/html": [
       "<table>\n",
       "<caption>A data.frame: 6 × 12</caption>\n",
       "<thead>\n",
       "\t<tr><th></th><th scope=col>actual</th><th scope=col>pred_df_seg2_glm</th><th scope=col>pred_df_seg_glm</th><th scope=col>pred_df_agg_glm</th><th scope=col>pred_df_seg2_rf</th><th scope=col>pred_df_seg_rf</th><th scope=col>pred_df_agg_rf</th><th scope=col>tld_registrar_index</th><th scope=col>reseller</th><th scope=col>n</th><th scope=col>domain_id</th><th scope=col>domain</th></tr>\n",
       "\t<tr><th></th><th scope=col>&lt;fct&gt;</th><th scope=col>&lt;dbl&gt;</th><th scope=col>&lt;dbl&gt;</th><th scope=col>&lt;dbl&gt;</th><th scope=col>&lt;dbl&gt;</th><th scope=col>&lt;dbl&gt;</th><th scope=col>&lt;dbl&gt;</th><th scope=col>&lt;fct&gt;</th><th scope=col>&lt;fct&gt;</th><th scope=col>&lt;int&gt;</th><th scope=col>&lt;int&gt;</th><th scope=col>&lt;fct&gt;</th></tr>\n",
       "</thead>\n",
       "<tbody>\n",
       "\t<tr><th scope=row>1</th><td>Not Renewd</td><td>0.6470992</td><td>0.558</td><td>0.419</td><td>0.4765771</td><td>0.4545657</td><td>0.5386137</td><td>sitegmo</td><td>gmo</td><td>106569</td><td>44295183</td><td>kagen.site           </td></tr>\n",
       "\t<tr><th scope=row>2</th><td>Renewed   </td><td>0.6762222</td><td>0.567</td><td>0.397</td><td>0.5410605</td><td>0.5769973</td><td>0.6091513</td><td>sitegmo</td><td>gmo</td><td>106569</td><td>44573611</td><td>designlab.site       </td></tr>\n",
       "\t<tr><th scope=row>3</th><td>Renewed   </td><td>0.9098495</td><td>0.835</td><td>0.410</td><td>0.7018108</td><td>0.6343404</td><td>0.6886680</td><td>sitegmo</td><td>gmo</td><td>106569</td><td>45304858</td><td>hokatu-blog.site     </td></tr>\n",
       "\t<tr><th scope=row>4</th><td>Renewed   </td><td>0.6029350</td><td>0.515</td><td>0.402</td><td>0.2414726</td><td>0.3999603</td><td>0.3464197</td><td>sitegmo</td><td>gmo</td><td>106569</td><td>46235129</td><td>suzuya.site          </td></tr>\n",
       "\t<tr><th scope=row>5</th><td>Not Renewd</td><td>0.9311321</td><td>0.863</td><td>0.417</td><td>0.7749462</td><td>0.7039504</td><td>0.6711740</td><td>sitegmo</td><td>gmo</td><td>106569</td><td>46276970</td><td>wins-company.site    </td></tr>\n",
       "\t<tr><th scope=row>6</th><td>Renewed   </td><td>0.9347869</td><td>0.861</td><td>0.391</td><td>0.6376848</td><td>0.6566740</td><td>0.6717237</td><td>sitegmo</td><td>gmo</td><td>106569</td><td>47809960</td><td>yamatoku-company.site</td></tr>\n",
       "</tbody>\n",
       "</table>\n"
      ],
      "text/latex": [
       "A data.frame: 6 × 12\n",
       "\\begin{tabular}{r|llllllllllll}\n",
       "  & actual & pred\\_df\\_seg2\\_glm & pred\\_df\\_seg\\_glm & pred\\_df\\_agg\\_glm & pred\\_df\\_seg2\\_rf & pred\\_df\\_seg\\_rf & pred\\_df\\_agg\\_rf & tld\\_registrar\\_index & reseller & n & domain\\_id & domain\\\\\n",
       "  & <fct> & <dbl> & <dbl> & <dbl> & <dbl> & <dbl> & <dbl> & <fct> & <fct> & <int> & <int> & <fct>\\\\\n",
       "\\hline\n",
       "\t1 & Not Renewd & 0.6470992 & 0.558 & 0.419 & 0.4765771 & 0.4545657 & 0.5386137 & sitegmo & gmo & 106569 & 44295183 & kagen.site           \\\\\n",
       "\t2 & Renewed    & 0.6762222 & 0.567 & 0.397 & 0.5410605 & 0.5769973 & 0.6091513 & sitegmo & gmo & 106569 & 44573611 & designlab.site       \\\\\n",
       "\t3 & Renewed    & 0.9098495 & 0.835 & 0.410 & 0.7018108 & 0.6343404 & 0.6886680 & sitegmo & gmo & 106569 & 45304858 & hokatu-blog.site     \\\\\n",
       "\t4 & Renewed    & 0.6029350 & 0.515 & 0.402 & 0.2414726 & 0.3999603 & 0.3464197 & sitegmo & gmo & 106569 & 46235129 & suzuya.site          \\\\\n",
       "\t5 & Not Renewd & 0.9311321 & 0.863 & 0.417 & 0.7749462 & 0.7039504 & 0.6711740 & sitegmo & gmo & 106569 & 46276970 & wins-company.site    \\\\\n",
       "\t6 & Renewed    & 0.9347869 & 0.861 & 0.391 & 0.6376848 & 0.6566740 & 0.6717237 & sitegmo & gmo & 106569 & 47809960 & yamatoku-company.site\\\\\n",
       "\\end{tabular}\n"
      ],
      "text/markdown": [
       "\n",
       "A data.frame: 6 × 12\n",
       "\n",
       "| <!--/--> | actual &lt;fct&gt; | pred_df_seg2_glm &lt;dbl&gt; | pred_df_seg_glm &lt;dbl&gt; | pred_df_agg_glm &lt;dbl&gt; | pred_df_seg2_rf &lt;dbl&gt; | pred_df_seg_rf &lt;dbl&gt; | pred_df_agg_rf &lt;dbl&gt; | tld_registrar_index &lt;fct&gt; | reseller &lt;fct&gt; | n &lt;int&gt; | domain_id &lt;int&gt; | domain &lt;fct&gt; |\n",
       "|---|---|---|---|---|---|---|---|---|---|---|---|---|\n",
       "| 1 | Not Renewd | 0.6470992 | 0.558 | 0.419 | 0.4765771 | 0.4545657 | 0.5386137 | sitegmo | gmo | 106569 | 44295183 | kagen.site            |\n",
       "| 2 | Renewed    | 0.6762222 | 0.567 | 0.397 | 0.5410605 | 0.5769973 | 0.6091513 | sitegmo | gmo | 106569 | 44573611 | designlab.site        |\n",
       "| 3 | Renewed    | 0.9098495 | 0.835 | 0.410 | 0.7018108 | 0.6343404 | 0.6886680 | sitegmo | gmo | 106569 | 45304858 | hokatu-blog.site      |\n",
       "| 4 | Renewed    | 0.6029350 | 0.515 | 0.402 | 0.2414726 | 0.3999603 | 0.3464197 | sitegmo | gmo | 106569 | 46235129 | suzuya.site           |\n",
       "| 5 | Not Renewd | 0.9311321 | 0.863 | 0.417 | 0.7749462 | 0.7039504 | 0.6711740 | sitegmo | gmo | 106569 | 46276970 | wins-company.site     |\n",
       "| 6 | Renewed    | 0.9347869 | 0.861 | 0.391 | 0.6376848 | 0.6566740 | 0.6717237 | sitegmo | gmo | 106569 | 47809960 | yamatoku-company.site |\n",
       "\n"
      ],
      "text/plain": [
       "  actual     pred_df_seg2_glm pred_df_seg_glm pred_df_agg_glm pred_df_seg2_rf\n",
       "1 Not Renewd 0.6470992        0.558           0.419           0.4765771      \n",
       "2 Renewed    0.6762222        0.567           0.397           0.5410605      \n",
       "3 Renewed    0.9098495        0.835           0.410           0.7018108      \n",
       "4 Renewed    0.6029350        0.515           0.402           0.2414726      \n",
       "5 Not Renewd 0.9311321        0.863           0.417           0.7749462      \n",
       "6 Renewed    0.9347869        0.861           0.391           0.6376848      \n",
       "  pred_df_seg_rf pred_df_agg_rf tld_registrar_index reseller n      domain_id\n",
       "1 0.4545657      0.5386137      sitegmo             gmo      106569 44295183 \n",
       "2 0.5769973      0.6091513      sitegmo             gmo      106569 44573611 \n",
       "3 0.6343404      0.6886680      sitegmo             gmo      106569 45304858 \n",
       "4 0.3999603      0.3464197      sitegmo             gmo      106569 46235129 \n",
       "5 0.7039504      0.6711740      sitegmo             gmo      106569 46276970 \n",
       "6 0.6566740      0.6717237      sitegmo             gmo      106569 47809960 \n",
       "  domain               \n",
       "1 kagen.site           \n",
       "2 designlab.site       \n",
       "3 hokatu-blog.site     \n",
       "4 suzuya.site          \n",
       "5 wins-company.site    \n",
       "6 yamatoku-company.site"
      ]
     },
     "metadata": {},
     "output_type": "display_data"
    }
   ],
   "source": [
    "dim(predictions_df)\n",
    "head(predictions_df)"
   ]
  },
  {
   "cell_type": "code",
   "execution_count": 11,
   "metadata": {},
   "outputs": [
    {
     "data": {
      "text/html": [
       "<style>\n",
       ".list-inline {list-style: none; margin:0; padding: 0}\n",
       ".list-inline>li {display: inline-block}\n",
       ".list-inline>li:not(:last-child)::after {content: \"\\00b7\"; padding: 0 .5ex}\n",
       "</style>\n",
       "<ol class=list-inline><li>296797</li><li>39</li></ol>\n"
      ],
      "text/latex": [
       "\\begin{enumerate*}\n",
       "\\item 296797\n",
       "\\item 39\n",
       "\\end{enumerate*}\n"
      ],
      "text/markdown": [
       "1. 296797\n",
       "2. 39\n",
       "\n",
       "\n"
      ],
      "text/plain": [
       "[1] 296797     39"
      ]
     },
     "metadata": {},
     "output_type": "display_data"
    },
    {
     "data": {
      "text/html": [
       "<table>\n",
       "<caption>A data.table: 6 × 39</caption>\n",
       "<thead>\n",
       "\t<tr><th scope=col>renewal_type</th><th scope=col>renewed_count</th><th scope=col>expiry_date</th><th scope=col>domain_id</th><th scope=col>domain</th><th scope=col>creation_date</th><th scope=col>status</th><th scope=col>tld</th><th scope=col>registrar</th><th scope=col>reseller</th><th scope=col>reseller_country</th><th scope=col>region</th><th scope=col>reg_period</th><th scope=col>registrant_country</th><th scope=col>renewal_status</th><th scope=col>renew_mbg</th><th scope=col>renew_type</th><th scope=col>autorenew_type</th><th scope=col>renew_date</th><th scope=col>renew_registrar</th><th scope=col>renew_reseller</th><th scope=col>reg_revenue</th><th scope=col>reg_arpt</th><th scope=col>renew_period</th><th scope=col>renew_domain_revenue</th><th scope=col>renew_arpt</th><th scope=col>reg_arpt_org</th><th scope=col>tld_registrar_index</th><th scope=col>sld</th><th scope=col>sld_type</th><th scope=col>sld_length</th><th scope=col>sld_type2</th><th scope=col>day_domains</th><th scope=col>log_reg_arpt</th><th scope=col>gibb_score</th><th scope=col>pattern</th><th scope=col>cluster</th><th scope=col>pattern_score</th><th scope=col>pattern_domain_count</th></tr>\n",
       "\t<tr><th scope=col>&lt;chr&gt;</th><th scope=col>&lt;int&gt;</th><th scope=col>&lt;date&gt;</th><th scope=col>&lt;int&gt;</th><th scope=col>&lt;chr&gt;</th><th scope=col>&lt;date&gt;</th><th scope=col>&lt;chr&gt;</th><th scope=col>&lt;fct&gt;</th><th scope=col>&lt;chr&gt;</th><th scope=col>&lt;chr&gt;</th><th scope=col>&lt;chr&gt;</th><th scope=col>&lt;chr&gt;</th><th scope=col>&lt;int&gt;</th><th scope=col>&lt;chr&gt;</th><th scope=col>&lt;fct&gt;</th><th scope=col>&lt;int&gt;</th><th scope=col>&lt;chr&gt;</th><th scope=col>&lt;chr&gt;</th><th scope=col>&lt;date&gt;</th><th scope=col>&lt;chr&gt;</th><th scope=col>&lt;chr&gt;</th><th scope=col>&lt;dbl&gt;</th><th scope=col>&lt;dbl&gt;</th><th scope=col>&lt;int&gt;</th><th scope=col>&lt;dbl&gt;</th><th scope=col>&lt;dbl&gt;</th><th scope=col>&lt;dbl&gt;</th><th scope=col>&lt;chr&gt;</th><th scope=col>&lt;chr&gt;</th><th scope=col>&lt;fct&gt;</th><th scope=col>&lt;int&gt;</th><th scope=col>&lt;chr&gt;</th><th scope=col>&lt;int&gt;</th><th scope=col>&lt;dbl&gt;</th><th scope=col>&lt;dbl&gt;</th><th scope=col>&lt;chr&gt;</th><th scope=col>&lt;chr&gt;</th><th scope=col>&lt;dbl&gt;</th><th scope=col>&lt;int&gt;</th></tr>\n",
       "</thead>\n",
       "<tbody>\n",
       "\t<tr><td>FirstTime</td><td>1</td><td>2020-01-22</td><td> 91639803</td><td><span style=white-space:pre-wrap>segeln.fun   </span></td><td>2019-01-22</td><td>Active</td><td>fun</td><td><span style=white-space:pre-wrap>1&amp;1 internet    </span></td><td><span style=white-space:pre-wrap>1&amp;1 internet    </span></td><td>Germany</td><td>Non China</td><td>1</td><td>NA</td><td><span style=white-space:pre-wrap>Renewed   </span></td><td>0</td><td>auto-renewal</td><td><span style=white-space:pre-wrap>realized  </span></td><td>2020-01-22</td><td><span style=white-space:pre-wrap>1&amp;1 Internet    </span></td><td><span style=white-space:pre-wrap>1&amp;1 Internet    </span></td><td>15</td><td>15</td><td>1</td><td>15</td><td>15</td><td>15</td><td><span style=white-space:pre-wrap>fun1&amp;1 internet    </span></td><td><span style=white-space:pre-wrap>segeln   </span></td><td>l</td><td>6</td><td>6l</td><td>1</td><td>2.708050</td><td>2.23</td><td><span style=white-space:pre-wrap>segeln   </span></td><td>1</td><td>1</td><td>1</td></tr>\n",
       "\t<tr><td>FirstTime</td><td>1</td><td>2020-03-07</td><td> 95819759</td><td>harzhotel.fun</td><td>2019-03-07</td><td>Active</td><td>fun</td><td><span style=white-space:pre-wrap>1&amp;1 internet    </span></td><td><span style=white-space:pre-wrap>1&amp;1 internet    </span></td><td>Germany</td><td>Non China</td><td>1</td><td>NA</td><td><span style=white-space:pre-wrap>Renewed   </span></td><td>0</td><td>auto-renewal</td><td><span style=white-space:pre-wrap>realized  </span></td><td>2020-03-07</td><td><span style=white-space:pre-wrap>1&amp;1 Internet    </span></td><td><span style=white-space:pre-wrap>1&amp;1 Internet    </span></td><td>15</td><td>15</td><td>1</td><td>15</td><td>15</td><td>15</td><td><span style=white-space:pre-wrap>fun1&amp;1 internet    </span></td><td>harzhotel</td><td>l</td><td>9</td><td>9l</td><td>1</td><td>2.708050</td><td>3.45</td><td>harzhotel</td><td>1</td><td>1</td><td>1</td></tr>\n",
       "\t<tr><td>FirstTime</td><td>1</td><td>2020-01-15</td><td> 91044973</td><td>movistar.fun </td><td>2019-01-15</td><td>Active</td><td>fun</td><td>10dencehispahard</td><td>10dencehispahard</td><td>Spain  </td><td>Non China</td><td>1</td><td>NA</td><td>Not Renewd</td><td>0</td><td>auto-renewal</td><td>unrealized</td><td>2020-01-15</td><td>10dencehispahard</td><td>10dencehispahard</td><td>15</td><td>15</td><td>1</td><td>15</td><td>15</td><td>15</td><td>fun10dencehispahard</td><td>movistar </td><td>l</td><td>8</td><td>8l</td><td>1</td><td>2.708050</td><td>8.62</td><td>movistar </td><td>1</td><td>1</td><td>1</td></tr>\n",
       "\t<tr><td>FirstTime</td><td>1</td><td>2020-02-01</td><td> 92472913</td><td>kuinik.fun   </td><td>2019-02-01</td><td>Active</td><td>fun</td><td>10dencehispahard</td><td>10dencehispahard</td><td>Spain  </td><td>Non China</td><td>1</td><td>NA</td><td>Not Renewd</td><td>0</td><td>auto-renewal</td><td>unrealized</td><td>2020-02-01</td><td>10dencehispahard</td><td>10dencehispahard</td><td>15</td><td>15</td><td>1</td><td>15</td><td>15</td><td>15</td><td>fun10dencehispahard</td><td>kuinik   </td><td>l</td><td>6</td><td>6l</td><td>1</td><td>2.708050</td><td>3.13</td><td>kuinik   </td><td>1</td><td>1</td><td>1</td></tr>\n",
       "\t<tr><td>FirstTime</td><td>1</td><td>2020-01-21</td><td> 91532433</td><td>bulgari.fun  </td><td>2019-01-21</td><td>Active</td><td>fun</td><td>1api            </td><td>1api            </td><td>Germany</td><td>Non China</td><td>1</td><td>NA</td><td>Renewed   </td><td>0</td><td>auto-renewal</td><td>realized  </td><td>2020-01-21</td><td>1API            </td><td>1API            </td><td> 5</td><td> 5</td><td>1</td><td>15</td><td>15</td><td> 5</td><td>fun1api            </td><td>bulgari  </td><td>l</td><td>7</td><td>7l</td><td>1</td><td>1.609438</td><td>4.51</td><td>bulgari  </td><td>1</td><td>1</td><td>1</td></tr>\n",
       "\t<tr><td>FirstTime</td><td>1</td><td>2020-04-24</td><td>101717674</td><td>gotsome.fun  </td><td>2019-04-24</td><td>Active</td><td>fun</td><td>1api            </td><td>1api            </td><td>Germany</td><td>Non China</td><td>1</td><td>NA</td><td>Not Renewd</td><td>0</td><td>auto-renewal</td><td>unrealized</td><td>2020-04-24</td><td>1API            </td><td>1API            </td><td> 5</td><td> 5</td><td>1</td><td>15</td><td>15</td><td> 5</td><td>fun1api            </td><td>gotsome  </td><td>l</td><td>7</td><td>7l</td><td>1</td><td>1.609438</td><td>6.09</td><td>gotsome  </td><td>1</td><td>1</td><td>1</td></tr>\n",
       "</tbody>\n",
       "</table>\n"
      ],
      "text/latex": [
       "A data.table: 6 × 39\n",
       "\\begin{tabular}{lllllllllllllllllllllllllllllllllllllll}\n",
       " renewal\\_type & renewed\\_count & expiry\\_date & domain\\_id & domain & creation\\_date & status & tld & registrar & reseller & reseller\\_country & region & reg\\_period & registrant\\_country & renewal\\_status & renew\\_mbg & renew\\_type & autorenew\\_type & renew\\_date & renew\\_registrar & renew\\_reseller & reg\\_revenue & reg\\_arpt & renew\\_period & renew\\_domain\\_revenue & renew\\_arpt & reg\\_arpt\\_org & tld\\_registrar\\_index & sld & sld\\_type & sld\\_length & sld\\_type2 & day\\_domains & log\\_reg\\_arpt & gibb\\_score & pattern & cluster & pattern\\_score & pattern\\_domain\\_count\\\\\n",
       " <chr> & <int> & <date> & <int> & <chr> & <date> & <chr> & <fct> & <chr> & <chr> & <chr> & <chr> & <int> & <chr> & <fct> & <int> & <chr> & <chr> & <date> & <chr> & <chr> & <dbl> & <dbl> & <int> & <dbl> & <dbl> & <dbl> & <chr> & <chr> & <fct> & <int> & <chr> & <int> & <dbl> & <dbl> & <chr> & <chr> & <dbl> & <int>\\\\\n",
       "\\hline\n",
       "\t FirstTime & 1 & 2020-01-22 &  91639803 & segeln.fun    & 2019-01-22 & Active & fun & 1\\&1 internet     & 1\\&1 internet     & Germany & Non China & 1 & NA & Renewed    & 0 & auto-renewal & realized   & 2020-01-22 & 1\\&1 Internet     & 1\\&1 Internet     & 15 & 15 & 1 & 15 & 15 & 15 & fun1\\&1 internet     & segeln    & l & 6 & 6l & 1 & 2.708050 & 2.23 & segeln    & 1 & 1 & 1\\\\\n",
       "\t FirstTime & 1 & 2020-03-07 &  95819759 & harzhotel.fun & 2019-03-07 & Active & fun & 1\\&1 internet     & 1\\&1 internet     & Germany & Non China & 1 & NA & Renewed    & 0 & auto-renewal & realized   & 2020-03-07 & 1\\&1 Internet     & 1\\&1 Internet     & 15 & 15 & 1 & 15 & 15 & 15 & fun1\\&1 internet     & harzhotel & l & 9 & 9l & 1 & 2.708050 & 3.45 & harzhotel & 1 & 1 & 1\\\\\n",
       "\t FirstTime & 1 & 2020-01-15 &  91044973 & movistar.fun  & 2019-01-15 & Active & fun & 10dencehispahard & 10dencehispahard & Spain   & Non China & 1 & NA & Not Renewd & 0 & auto-renewal & unrealized & 2020-01-15 & 10dencehispahard & 10dencehispahard & 15 & 15 & 1 & 15 & 15 & 15 & fun10dencehispahard & movistar  & l & 8 & 8l & 1 & 2.708050 & 8.62 & movistar  & 1 & 1 & 1\\\\\n",
       "\t FirstTime & 1 & 2020-02-01 &  92472913 & kuinik.fun    & 2019-02-01 & Active & fun & 10dencehispahard & 10dencehispahard & Spain   & Non China & 1 & NA & Not Renewd & 0 & auto-renewal & unrealized & 2020-02-01 & 10dencehispahard & 10dencehispahard & 15 & 15 & 1 & 15 & 15 & 15 & fun10dencehispahard & kuinik    & l & 6 & 6l & 1 & 2.708050 & 3.13 & kuinik    & 1 & 1 & 1\\\\\n",
       "\t FirstTime & 1 & 2020-01-21 &  91532433 & bulgari.fun   & 2019-01-21 & Active & fun & 1api             & 1api             & Germany & Non China & 1 & NA & Renewed    & 0 & auto-renewal & realized   & 2020-01-21 & 1API             & 1API             &  5 &  5 & 1 & 15 & 15 &  5 & fun1api             & bulgari   & l & 7 & 7l & 1 & 1.609438 & 4.51 & bulgari   & 1 & 1 & 1\\\\\n",
       "\t FirstTime & 1 & 2020-04-24 & 101717674 & gotsome.fun   & 2019-04-24 & Active & fun & 1api             & 1api             & Germany & Non China & 1 & NA & Not Renewd & 0 & auto-renewal & unrealized & 2020-04-24 & 1API             & 1API             &  5 &  5 & 1 & 15 & 15 &  5 & fun1api             & gotsome   & l & 7 & 7l & 1 & 1.609438 & 6.09 & gotsome   & 1 & 1 & 1\\\\\n",
       "\\end{tabular}\n"
      ],
      "text/markdown": [
       "\n",
       "A data.table: 6 × 39\n",
       "\n",
       "| renewal_type &lt;chr&gt; | renewed_count &lt;int&gt; | expiry_date &lt;date&gt; | domain_id &lt;int&gt; | domain &lt;chr&gt; | creation_date &lt;date&gt; | status &lt;chr&gt; | tld &lt;fct&gt; | registrar &lt;chr&gt; | reseller &lt;chr&gt; | reseller_country &lt;chr&gt; | region &lt;chr&gt; | reg_period &lt;int&gt; | registrant_country &lt;chr&gt; | renewal_status &lt;fct&gt; | renew_mbg &lt;int&gt; | renew_type &lt;chr&gt; | autorenew_type &lt;chr&gt; | renew_date &lt;date&gt; | renew_registrar &lt;chr&gt; | renew_reseller &lt;chr&gt; | reg_revenue &lt;dbl&gt; | reg_arpt &lt;dbl&gt; | renew_period &lt;int&gt; | renew_domain_revenue &lt;dbl&gt; | renew_arpt &lt;dbl&gt; | reg_arpt_org &lt;dbl&gt; | tld_registrar_index &lt;chr&gt; | sld &lt;chr&gt; | sld_type &lt;fct&gt; | sld_length &lt;int&gt; | sld_type2 &lt;chr&gt; | day_domains &lt;int&gt; | log_reg_arpt &lt;dbl&gt; | gibb_score &lt;dbl&gt; | pattern &lt;chr&gt; | cluster &lt;chr&gt; | pattern_score &lt;dbl&gt; | pattern_domain_count &lt;int&gt; |\n",
       "|---|---|---|---|---|---|---|---|---|---|---|---|---|---|---|---|---|---|---|---|---|---|---|---|---|---|---|---|---|---|---|---|---|---|---|---|---|---|---|\n",
       "| FirstTime | 1 | 2020-01-22 |  91639803 | segeln.fun    | 2019-01-22 | Active | fun | 1&amp;1 internet     | 1&amp;1 internet     | Germany | Non China | 1 | NA | Renewed    | 0 | auto-renewal | realized   | 2020-01-22 | 1&amp;1 Internet     | 1&amp;1 Internet     | 15 | 15 | 1 | 15 | 15 | 15 | fun1&amp;1 internet     | segeln    | l | 6 | 6l | 1 | 2.708050 | 2.23 | segeln    | 1 | 1 | 1 |\n",
       "| FirstTime | 1 | 2020-03-07 |  95819759 | harzhotel.fun | 2019-03-07 | Active | fun | 1&amp;1 internet     | 1&amp;1 internet     | Germany | Non China | 1 | NA | Renewed    | 0 | auto-renewal | realized   | 2020-03-07 | 1&amp;1 Internet     | 1&amp;1 Internet     | 15 | 15 | 1 | 15 | 15 | 15 | fun1&amp;1 internet     | harzhotel | l | 9 | 9l | 1 | 2.708050 | 3.45 | harzhotel | 1 | 1 | 1 |\n",
       "| FirstTime | 1 | 2020-01-15 |  91044973 | movistar.fun  | 2019-01-15 | Active | fun | 10dencehispahard | 10dencehispahard | Spain   | Non China | 1 | NA | Not Renewd | 0 | auto-renewal | unrealized | 2020-01-15 | 10dencehispahard | 10dencehispahard | 15 | 15 | 1 | 15 | 15 | 15 | fun10dencehispahard | movistar  | l | 8 | 8l | 1 | 2.708050 | 8.62 | movistar  | 1 | 1 | 1 |\n",
       "| FirstTime | 1 | 2020-02-01 |  92472913 | kuinik.fun    | 2019-02-01 | Active | fun | 10dencehispahard | 10dencehispahard | Spain   | Non China | 1 | NA | Not Renewd | 0 | auto-renewal | unrealized | 2020-02-01 | 10dencehispahard | 10dencehispahard | 15 | 15 | 1 | 15 | 15 | 15 | fun10dencehispahard | kuinik    | l | 6 | 6l | 1 | 2.708050 | 3.13 | kuinik    | 1 | 1 | 1 |\n",
       "| FirstTime | 1 | 2020-01-21 |  91532433 | bulgari.fun   | 2019-01-21 | Active | fun | 1api             | 1api             | Germany | Non China | 1 | NA | Renewed    | 0 | auto-renewal | realized   | 2020-01-21 | 1API             | 1API             |  5 |  5 | 1 | 15 | 15 |  5 | fun1api             | bulgari   | l | 7 | 7l | 1 | 1.609438 | 4.51 | bulgari   | 1 | 1 | 1 |\n",
       "| FirstTime | 1 | 2020-04-24 | 101717674 | gotsome.fun   | 2019-04-24 | Active | fun | 1api             | 1api             | Germany | Non China | 1 | NA | Not Renewd | 0 | auto-renewal | unrealized | 2020-04-24 | 1API             | 1API             |  5 |  5 | 1 | 15 | 15 |  5 | fun1api             | gotsome   | l | 7 | 7l | 1 | 1.609438 | 6.09 | gotsome   | 1 | 1 | 1 |\n",
       "\n"
      ],
      "text/plain": [
       "  renewal_type renewed_count expiry_date domain_id domain        creation_date\n",
       "1 FirstTime    1             2020-01-22   91639803 segeln.fun    2019-01-22   \n",
       "2 FirstTime    1             2020-03-07   95819759 harzhotel.fun 2019-03-07   \n",
       "3 FirstTime    1             2020-01-15   91044973 movistar.fun  2019-01-15   \n",
       "4 FirstTime    1             2020-02-01   92472913 kuinik.fun    2019-02-01   \n",
       "5 FirstTime    1             2020-01-21   91532433 bulgari.fun   2019-01-21   \n",
       "6 FirstTime    1             2020-04-24  101717674 gotsome.fun   2019-04-24   \n",
       "  status tld registrar        reseller         reseller_country region   \n",
       "1 Active fun 1&1 internet     1&1 internet     Germany          Non China\n",
       "2 Active fun 1&1 internet     1&1 internet     Germany          Non China\n",
       "3 Active fun 10dencehispahard 10dencehispahard Spain            Non China\n",
       "4 Active fun 10dencehispahard 10dencehispahard Spain            Non China\n",
       "5 Active fun 1api             1api             Germany          Non China\n",
       "6 Active fun 1api             1api             Germany          Non China\n",
       "  reg_period registrant_country renewal_status renew_mbg renew_type  \n",
       "1 1          NA                 Renewed        0         auto-renewal\n",
       "2 1          NA                 Renewed        0         auto-renewal\n",
       "3 1          NA                 Not Renewd     0         auto-renewal\n",
       "4 1          NA                 Not Renewd     0         auto-renewal\n",
       "5 1          NA                 Renewed        0         auto-renewal\n",
       "6 1          NA                 Not Renewd     0         auto-renewal\n",
       "  autorenew_type renew_date renew_registrar  renew_reseller   reg_revenue\n",
       "1 realized       2020-01-22 1&1 Internet     1&1 Internet     15         \n",
       "2 realized       2020-03-07 1&1 Internet     1&1 Internet     15         \n",
       "3 unrealized     2020-01-15 10dencehispahard 10dencehispahard 15         \n",
       "4 unrealized     2020-02-01 10dencehispahard 10dencehispahard 15         \n",
       "5 realized       2020-01-21 1API             1API              5         \n",
       "6 unrealized     2020-04-24 1API             1API              5         \n",
       "  reg_arpt renew_period renew_domain_revenue renew_arpt reg_arpt_org\n",
       "1 15       1            15                   15         15          \n",
       "2 15       1            15                   15         15          \n",
       "3 15       1            15                   15         15          \n",
       "4 15       1            15                   15         15          \n",
       "5  5       1            15                   15          5          \n",
       "6  5       1            15                   15          5          \n",
       "  tld_registrar_index sld       sld_type sld_length sld_type2 day_domains\n",
       "1 fun1&1 internet     segeln    l        6          6l        1          \n",
       "2 fun1&1 internet     harzhotel l        9          9l        1          \n",
       "3 fun10dencehispahard movistar  l        8          8l        1          \n",
       "4 fun10dencehispahard kuinik    l        6          6l        1          \n",
       "5 fun1api             bulgari   l        7          7l        1          \n",
       "6 fun1api             gotsome   l        7          7l        1          \n",
       "  log_reg_arpt gibb_score pattern   cluster pattern_score pattern_domain_count\n",
       "1 2.708050     2.23       segeln    1       1             1                   \n",
       "2 2.708050     3.45       harzhotel 1       1             1                   \n",
       "3 2.708050     8.62       movistar  1       1             1                   \n",
       "4 2.708050     3.13       kuinik    1       1             1                   \n",
       "5 1.609438     4.51       bulgari   1       1             1                   \n",
       "6 1.609438     6.09       gotsome   1       1             1                   "
      ]
     },
     "metadata": {},
     "output_type": "display_data"
    }
   ],
   "source": [
    "dim(expiry_test_df_1)\n",
    "head(expiry_test_df_1)"
   ]
  },
  {
   "cell_type": "code",
   "execution_count": 12,
   "metadata": {},
   "outputs": [
    {
     "data": {
      "text/html": [
       "<style>\n",
       ".list-inline {list-style: none; margin:0; padding: 0}\n",
       ".list-inline>li {display: inline-block}\n",
       ".list-inline>li:not(:last-child)::after {content: \"\\00b7\"; padding: 0 .5ex}\n",
       "</style>\n",
       "<ol class=list-inline><li>297188</li><li>45</li></ol>\n"
      ],
      "text/latex": [
       "\\begin{enumerate*}\n",
       "\\item 297188\n",
       "\\item 45\n",
       "\\end{enumerate*}\n"
      ],
      "text/markdown": [
       "1. 297188\n",
       "2. 45\n",
       "\n",
       "\n"
      ],
      "text/plain": [
       "[1] 297188     45"
      ]
     },
     "metadata": {},
     "output_type": "display_data"
    },
    {
     "data": {
      "text/html": [
       "<table>\n",
       "<caption>A data.table: 6 × 45</caption>\n",
       "<thead>\n",
       "\t<tr><th scope=col>domain_id</th><th scope=col>renewal_type</th><th scope=col>renewed_count</th><th scope=col>expiry_date</th><th scope=col>domain</th><th scope=col>creation_date</th><th scope=col>status</th><th scope=col>tld</th><th scope=col>registrar</th><th scope=col>reseller</th><th scope=col>reseller_country</th><th scope=col>region</th><th scope=col>reg_period</th><th scope=col>registrant_country</th><th scope=col>renewal_status</th><th scope=col>renew_mbg</th><th scope=col>renew_type</th><th scope=col>autorenew_type</th><th scope=col>renew_date</th><th scope=col>renew_registrar</th><th scope=col>renew_reseller</th><th scope=col>reg_revenue</th><th scope=col>reg_arpt</th><th scope=col>renew_period</th><th scope=col>renew_domain_revenue</th><th scope=col>renew_arpt</th><th scope=col>reg_arpt_org</th><th scope=col>tld_registrar_index</th><th scope=col>sld</th><th scope=col>sld_type</th><th scope=col>sld_length</th><th scope=col>sld_type2</th><th scope=col>day_domains</th><th scope=col>log_reg_arpt</th><th scope=col>gibb_score</th><th scope=col>pattern</th><th scope=col>cluster</th><th scope=col>pattern_score</th><th scope=col>pattern_domain_count</th><th scope=col>pred_df_seg2_glm</th><th scope=col>pred_df_seg_glm</th><th scope=col>pred_df_agg_glm</th><th scope=col>pred_df_seg2_rf</th><th scope=col>pred_df_seg_rf</th><th scope=col>pred_df_agg_rf</th></tr>\n",
       "\t<tr><th scope=col>&lt;int&gt;</th><th scope=col>&lt;chr&gt;</th><th scope=col>&lt;int&gt;</th><th scope=col>&lt;date&gt;</th><th scope=col>&lt;chr&gt;</th><th scope=col>&lt;date&gt;</th><th scope=col>&lt;chr&gt;</th><th scope=col>&lt;fct&gt;</th><th scope=col>&lt;chr&gt;</th><th scope=col>&lt;chr&gt;</th><th scope=col>&lt;chr&gt;</th><th scope=col>&lt;chr&gt;</th><th scope=col>&lt;int&gt;</th><th scope=col>&lt;chr&gt;</th><th scope=col>&lt;fct&gt;</th><th scope=col>&lt;int&gt;</th><th scope=col>&lt;chr&gt;</th><th scope=col>&lt;chr&gt;</th><th scope=col>&lt;date&gt;</th><th scope=col>&lt;chr&gt;</th><th scope=col>&lt;chr&gt;</th><th scope=col>&lt;dbl&gt;</th><th scope=col>&lt;dbl&gt;</th><th scope=col>&lt;int&gt;</th><th scope=col>&lt;dbl&gt;</th><th scope=col>&lt;dbl&gt;</th><th scope=col>&lt;dbl&gt;</th><th scope=col>&lt;chr&gt;</th><th scope=col>&lt;chr&gt;</th><th scope=col>&lt;fct&gt;</th><th scope=col>&lt;int&gt;</th><th scope=col>&lt;chr&gt;</th><th scope=col>&lt;int&gt;</th><th scope=col>&lt;dbl&gt;</th><th scope=col>&lt;dbl&gt;</th><th scope=col>&lt;chr&gt;</th><th scope=col>&lt;chr&gt;</th><th scope=col>&lt;dbl&gt;</th><th scope=col>&lt;int&gt;</th><th scope=col>&lt;dbl&gt;</th><th scope=col>&lt;dbl&gt;</th><th scope=col>&lt;dbl&gt;</th><th scope=col>&lt;dbl&gt;</th><th scope=col>&lt;dbl&gt;</th><th scope=col>&lt;dbl&gt;</th></tr>\n",
       "</thead>\n",
       "<tbody>\n",
       "\t<tr><td>NA</td><td>NA</td><td>NA</td><td>NA</td><td>NA</td><td>NA</td><td>NA</td><td>NA</td><td>NA</td><td>NA</td><td>NA</td><td>NA</td><td>NA</td><td>NA</td><td>NA</td><td>NA</td><td>NA</td><td>NA</td><td>NA</td><td>NA</td><td>NA</td><td>NA</td><td>NA</td><td>NA</td><td>NA</td><td>NA</td><td>NA</td><td>NA</td><td>NA</td><td>NA</td><td>NA</td><td>NA</td><td>NA</td><td>NA</td><td>NA</td><td>NA</td><td>NA</td><td>NA</td><td>NA</td><td>NA</td><td>NA</td><td>NA</td><td>NA</td><td>NA</td><td>NA</td></tr>\n",
       "\t<tr><td>NA</td><td>NA</td><td>NA</td><td>NA</td><td>NA</td><td>NA</td><td>NA</td><td>NA</td><td>NA</td><td>NA</td><td>NA</td><td>NA</td><td>NA</td><td>NA</td><td>NA</td><td>NA</td><td>NA</td><td>NA</td><td>NA</td><td>NA</td><td>NA</td><td>NA</td><td>NA</td><td>NA</td><td>NA</td><td>NA</td><td>NA</td><td>NA</td><td>NA</td><td>NA</td><td>NA</td><td>NA</td><td>NA</td><td>NA</td><td>NA</td><td>NA</td><td>NA</td><td>NA</td><td>NA</td><td>NA</td><td>NA</td><td>NA</td><td>NA</td><td>NA</td><td>NA</td></tr>\n",
       "\t<tr><td>NA</td><td>NA</td><td>NA</td><td>NA</td><td>NA</td><td>NA</td><td>NA</td><td>NA</td><td>NA</td><td>NA</td><td>NA</td><td>NA</td><td>NA</td><td>NA</td><td>NA</td><td>NA</td><td>NA</td><td>NA</td><td>NA</td><td>NA</td><td>NA</td><td>NA</td><td>NA</td><td>NA</td><td>NA</td><td>NA</td><td>NA</td><td>NA</td><td>NA</td><td>NA</td><td>NA</td><td>NA</td><td>NA</td><td>NA</td><td>NA</td><td>NA</td><td>NA</td><td>NA</td><td>NA</td><td>NA</td><td>NA</td><td>NA</td><td>NA</td><td>NA</td><td>NA</td></tr>\n",
       "\t<tr><td>NA</td><td>NA</td><td>NA</td><td>NA</td><td>NA</td><td>NA</td><td>NA</td><td>NA</td><td>NA</td><td>NA</td><td>NA</td><td>NA</td><td>NA</td><td>NA</td><td>NA</td><td>NA</td><td>NA</td><td>NA</td><td>NA</td><td>NA</td><td>NA</td><td>NA</td><td>NA</td><td>NA</td><td>NA</td><td>NA</td><td>NA</td><td>NA</td><td>NA</td><td>NA</td><td>NA</td><td>NA</td><td>NA</td><td>NA</td><td>NA</td><td>NA</td><td>NA</td><td>NA</td><td>NA</td><td>NA</td><td>NA</td><td>NA</td><td>NA</td><td>NA</td><td>NA</td></tr>\n",
       "\t<tr><td>NA</td><td>NA</td><td>NA</td><td>NA</td><td>NA</td><td>NA</td><td>NA</td><td>NA</td><td>NA</td><td>NA</td><td>NA</td><td>NA</td><td>NA</td><td>NA</td><td>NA</td><td>NA</td><td>NA</td><td>NA</td><td>NA</td><td>NA</td><td>NA</td><td>NA</td><td>NA</td><td>NA</td><td>NA</td><td>NA</td><td>NA</td><td>NA</td><td>NA</td><td>NA</td><td>NA</td><td>NA</td><td>NA</td><td>NA</td><td>NA</td><td>NA</td><td>NA</td><td>NA</td><td>NA</td><td>NA</td><td>NA</td><td>NA</td><td>NA</td><td>NA</td><td>NA</td></tr>\n",
       "\t<tr><td>NA</td><td>NA</td><td>NA</td><td>NA</td><td>NA</td><td>NA</td><td>NA</td><td>NA</td><td>NA</td><td>NA</td><td>NA</td><td>NA</td><td>NA</td><td>NA</td><td>NA</td><td>NA</td><td>NA</td><td>NA</td><td>NA</td><td>NA</td><td>NA</td><td>NA</td><td>NA</td><td>NA</td><td>NA</td><td>NA</td><td>NA</td><td>NA</td><td>NA</td><td>NA</td><td>NA</td><td>NA</td><td>NA</td><td>NA</td><td>NA</td><td>NA</td><td>NA</td><td>NA</td><td>NA</td><td>NA</td><td>NA</td><td>NA</td><td>NA</td><td>NA</td><td>NA</td></tr>\n",
       "</tbody>\n",
       "</table>\n"
      ],
      "text/latex": [
       "A data.table: 6 × 45\n",
       "\\begin{tabular}{lllllllllllllllllllllllllllllllllllllllllllll}\n",
       " domain\\_id & renewal\\_type & renewed\\_count & expiry\\_date & domain & creation\\_date & status & tld & registrar & reseller & reseller\\_country & region & reg\\_period & registrant\\_country & renewal\\_status & renew\\_mbg & renew\\_type & autorenew\\_type & renew\\_date & renew\\_registrar & renew\\_reseller & reg\\_revenue & reg\\_arpt & renew\\_period & renew\\_domain\\_revenue & renew\\_arpt & reg\\_arpt\\_org & tld\\_registrar\\_index & sld & sld\\_type & sld\\_length & sld\\_type2 & day\\_domains & log\\_reg\\_arpt & gibb\\_score & pattern & cluster & pattern\\_score & pattern\\_domain\\_count & pred\\_df\\_seg2\\_glm & pred\\_df\\_seg\\_glm & pred\\_df\\_agg\\_glm & pred\\_df\\_seg2\\_rf & pred\\_df\\_seg\\_rf & pred\\_df\\_agg\\_rf\\\\\n",
       " <int> & <chr> & <int> & <date> & <chr> & <date> & <chr> & <fct> & <chr> & <chr> & <chr> & <chr> & <int> & <chr> & <fct> & <int> & <chr> & <chr> & <date> & <chr> & <chr> & <dbl> & <dbl> & <int> & <dbl> & <dbl> & <dbl> & <chr> & <chr> & <fct> & <int> & <chr> & <int> & <dbl> & <dbl> & <chr> & <chr> & <dbl> & <int> & <dbl> & <dbl> & <dbl> & <dbl> & <dbl> & <dbl>\\\\\n",
       "\\hline\n",
       "\t NA & NA & NA & NA & NA & NA & NA & NA & NA & NA & NA & NA & NA & NA & NA & NA & NA & NA & NA & NA & NA & NA & NA & NA & NA & NA & NA & NA & NA & NA & NA & NA & NA & NA & NA & NA & NA & NA & NA & NA & NA & NA & NA & NA & NA\\\\\n",
       "\t NA & NA & NA & NA & NA & NA & NA & NA & NA & NA & NA & NA & NA & NA & NA & NA & NA & NA & NA & NA & NA & NA & NA & NA & NA & NA & NA & NA & NA & NA & NA & NA & NA & NA & NA & NA & NA & NA & NA & NA & NA & NA & NA & NA & NA\\\\\n",
       "\t NA & NA & NA & NA & NA & NA & NA & NA & NA & NA & NA & NA & NA & NA & NA & NA & NA & NA & NA & NA & NA & NA & NA & NA & NA & NA & NA & NA & NA & NA & NA & NA & NA & NA & NA & NA & NA & NA & NA & NA & NA & NA & NA & NA & NA\\\\\n",
       "\t NA & NA & NA & NA & NA & NA & NA & NA & NA & NA & NA & NA & NA & NA & NA & NA & NA & NA & NA & NA & NA & NA & NA & NA & NA & NA & NA & NA & NA & NA & NA & NA & NA & NA & NA & NA & NA & NA & NA & NA & NA & NA & NA & NA & NA\\\\\n",
       "\t NA & NA & NA & NA & NA & NA & NA & NA & NA & NA & NA & NA & NA & NA & NA & NA & NA & NA & NA & NA & NA & NA & NA & NA & NA & NA & NA & NA & NA & NA & NA & NA & NA & NA & NA & NA & NA & NA & NA & NA & NA & NA & NA & NA & NA\\\\\n",
       "\t NA & NA & NA & NA & NA & NA & NA & NA & NA & NA & NA & NA & NA & NA & NA & NA & NA & NA & NA & NA & NA & NA & NA & NA & NA & NA & NA & NA & NA & NA & NA & NA & NA & NA & NA & NA & NA & NA & NA & NA & NA & NA & NA & NA & NA\\\\\n",
       "\\end{tabular}\n"
      ],
      "text/markdown": [
       "\n",
       "A data.table: 6 × 45\n",
       "\n",
       "| domain_id &lt;int&gt; | renewal_type &lt;chr&gt; | renewed_count &lt;int&gt; | expiry_date &lt;date&gt; | domain &lt;chr&gt; | creation_date &lt;date&gt; | status &lt;chr&gt; | tld &lt;fct&gt; | registrar &lt;chr&gt; | reseller &lt;chr&gt; | reseller_country &lt;chr&gt; | region &lt;chr&gt; | reg_period &lt;int&gt; | registrant_country &lt;chr&gt; | renewal_status &lt;fct&gt; | renew_mbg &lt;int&gt; | renew_type &lt;chr&gt; | autorenew_type &lt;chr&gt; | renew_date &lt;date&gt; | renew_registrar &lt;chr&gt; | renew_reseller &lt;chr&gt; | reg_revenue &lt;dbl&gt; | reg_arpt &lt;dbl&gt; | renew_period &lt;int&gt; | renew_domain_revenue &lt;dbl&gt; | renew_arpt &lt;dbl&gt; | reg_arpt_org &lt;dbl&gt; | tld_registrar_index &lt;chr&gt; | sld &lt;chr&gt; | sld_type &lt;fct&gt; | sld_length &lt;int&gt; | sld_type2 &lt;chr&gt; | day_domains &lt;int&gt; | log_reg_arpt &lt;dbl&gt; | gibb_score &lt;dbl&gt; | pattern &lt;chr&gt; | cluster &lt;chr&gt; | pattern_score &lt;dbl&gt; | pattern_domain_count &lt;int&gt; | pred_df_seg2_glm &lt;dbl&gt; | pred_df_seg_glm &lt;dbl&gt; | pred_df_agg_glm &lt;dbl&gt; | pred_df_seg2_rf &lt;dbl&gt; | pred_df_seg_rf &lt;dbl&gt; | pred_df_agg_rf &lt;dbl&gt; |\n",
       "|---|---|---|---|---|---|---|---|---|---|---|---|---|---|---|---|---|---|---|---|---|---|---|---|---|---|---|---|---|---|---|---|---|---|---|---|---|---|---|---|---|---|---|---|---|\n",
       "| NA | NA | NA | NA | NA | NA | NA | NA | NA | NA | NA | NA | NA | NA | NA | NA | NA | NA | NA | NA | NA | NA | NA | NA | NA | NA | NA | NA | NA | NA | NA | NA | NA | NA | NA | NA | NA | NA | NA | NA | NA | NA | NA | NA | NA |\n",
       "| NA | NA | NA | NA | NA | NA | NA | NA | NA | NA | NA | NA | NA | NA | NA | NA | NA | NA | NA | NA | NA | NA | NA | NA | NA | NA | NA | NA | NA | NA | NA | NA | NA | NA | NA | NA | NA | NA | NA | NA | NA | NA | NA | NA | NA |\n",
       "| NA | NA | NA | NA | NA | NA | NA | NA | NA | NA | NA | NA | NA | NA | NA | NA | NA | NA | NA | NA | NA | NA | NA | NA | NA | NA | NA | NA | NA | NA | NA | NA | NA | NA | NA | NA | NA | NA | NA | NA | NA | NA | NA | NA | NA |\n",
       "| NA | NA | NA | NA | NA | NA | NA | NA | NA | NA | NA | NA | NA | NA | NA | NA | NA | NA | NA | NA | NA | NA | NA | NA | NA | NA | NA | NA | NA | NA | NA | NA | NA | NA | NA | NA | NA | NA | NA | NA | NA | NA | NA | NA | NA |\n",
       "| NA | NA | NA | NA | NA | NA | NA | NA | NA | NA | NA | NA | NA | NA | NA | NA | NA | NA | NA | NA | NA | NA | NA | NA | NA | NA | NA | NA | NA | NA | NA | NA | NA | NA | NA | NA | NA | NA | NA | NA | NA | NA | NA | NA | NA |\n",
       "| NA | NA | NA | NA | NA | NA | NA | NA | NA | NA | NA | NA | NA | NA | NA | NA | NA | NA | NA | NA | NA | NA | NA | NA | NA | NA | NA | NA | NA | NA | NA | NA | NA | NA | NA | NA | NA | NA | NA | NA | NA | NA | NA | NA | NA |\n",
       "\n"
      ],
      "text/plain": [
       "  domain_id renewal_type renewed_count expiry_date domain creation_date status\n",
       "1 NA        NA           NA            <NA>        NA     <NA>          NA    \n",
       "2 NA        NA           NA            <NA>        NA     <NA>          NA    \n",
       "3 NA        NA           NA            <NA>        NA     <NA>          NA    \n",
       "4 NA        NA           NA            <NA>        NA     <NA>          NA    \n",
       "5 NA        NA           NA            <NA>        NA     <NA>          NA    \n",
       "6 NA        NA           NA            <NA>        NA     <NA>          NA    \n",
       "  tld registrar reseller reseller_country region reg_period registrant_country\n",
       "1 NA  NA        NA       NA               NA     NA         NA                \n",
       "2 NA  NA        NA       NA               NA     NA         NA                \n",
       "3 NA  NA        NA       NA               NA     NA         NA                \n",
       "4 NA  NA        NA       NA               NA     NA         NA                \n",
       "5 NA  NA        NA       NA               NA     NA         NA                \n",
       "6 NA  NA        NA       NA               NA     NA         NA                \n",
       "  renewal_status renew_mbg renew_type autorenew_type renew_date renew_registrar\n",
       "1 NA             NA        NA         NA             <NA>       NA             \n",
       "2 NA             NA        NA         NA             <NA>       NA             \n",
       "3 NA             NA        NA         NA             <NA>       NA             \n",
       "4 NA             NA        NA         NA             <NA>       NA             \n",
       "5 NA             NA        NA         NA             <NA>       NA             \n",
       "6 NA             NA        NA         NA             <NA>       NA             \n",
       "  renew_reseller reg_revenue reg_arpt renew_period renew_domain_revenue\n",
       "1 NA             NA          NA       NA           NA                  \n",
       "2 NA             NA          NA       NA           NA                  \n",
       "3 NA             NA          NA       NA           NA                  \n",
       "4 NA             NA          NA       NA           NA                  \n",
       "5 NA             NA          NA       NA           NA                  \n",
       "6 NA             NA          NA       NA           NA                  \n",
       "  renew_arpt reg_arpt_org tld_registrar_index sld sld_type sld_length sld_type2\n",
       "1 NA         NA           NA                  NA  NA       NA         NA       \n",
       "2 NA         NA           NA                  NA  NA       NA         NA       \n",
       "3 NA         NA           NA                  NA  NA       NA         NA       \n",
       "4 NA         NA           NA                  NA  NA       NA         NA       \n",
       "5 NA         NA           NA                  NA  NA       NA         NA       \n",
       "6 NA         NA           NA                  NA  NA       NA         NA       \n",
       "  day_domains log_reg_arpt gibb_score pattern cluster pattern_score\n",
       "1 NA          NA           NA         NA      NA      NA           \n",
       "2 NA          NA           NA         NA      NA      NA           \n",
       "3 NA          NA           NA         NA      NA      NA           \n",
       "4 NA          NA           NA         NA      NA      NA           \n",
       "5 NA          NA           NA         NA      NA      NA           \n",
       "6 NA          NA           NA         NA      NA      NA           \n",
       "  pattern_domain_count pred_df_seg2_glm pred_df_seg_glm pred_df_agg_glm\n",
       "1 NA                   NA               NA              NA             \n",
       "2 NA                   NA               NA              NA             \n",
       "3 NA                   NA               NA              NA             \n",
       "4 NA                   NA               NA              NA             \n",
       "5 NA                   NA               NA              NA             \n",
       "6 NA                   NA               NA              NA             \n",
       "  pred_df_seg2_rf pred_df_seg_rf pred_df_agg_rf\n",
       "1 NA              NA             NA            \n",
       "2 NA              NA             NA            \n",
       "3 NA              NA             NA            \n",
       "4 NA              NA             NA            \n",
       "5 NA              NA             NA            \n",
       "6 NA              NA             NA            "
      ]
     },
     "metadata": {},
     "output_type": "display_data"
    }
   ],
   "source": [
    "# OUTER MERGE\n",
    "test_predictions_df <- merge(expiry_test_df_1, \n",
    "                             predictions_df %>% select(pred_df_seg2_glm,pred_df_seg_glm,pred_df_agg_glm,pred_df_seg2_rf,\n",
    "                                                       pred_df_seg_rf,pred_df_agg_rf,domain_id),\n",
    "                            by=\"domain_id\",\n",
    "                            all=TRUE)\n",
    "dim(test_predictions_df)\n",
    "head(test_predictions_df)"
   ]
  },
  {
   "cell_type": "code",
   "execution_count": 13,
   "metadata": {},
   "outputs": [
    {
     "data": {
      "text/html": [
       "<table>\n",
       "<caption>A data.table: 6 × 45</caption>\n",
       "<thead>\n",
       "\t<tr><th scope=col>domain_id</th><th scope=col>renewal_type</th><th scope=col>renewed_count</th><th scope=col>expiry_date</th><th scope=col>domain</th><th scope=col>creation_date</th><th scope=col>status</th><th scope=col>tld</th><th scope=col>registrar</th><th scope=col>reseller</th><th scope=col>reseller_country</th><th scope=col>region</th><th scope=col>reg_period</th><th scope=col>registrant_country</th><th scope=col>renewal_status</th><th scope=col>renew_mbg</th><th scope=col>renew_type</th><th scope=col>autorenew_type</th><th scope=col>renew_date</th><th scope=col>renew_registrar</th><th scope=col>renew_reseller</th><th scope=col>reg_revenue</th><th scope=col>reg_arpt</th><th scope=col>renew_period</th><th scope=col>renew_domain_revenue</th><th scope=col>renew_arpt</th><th scope=col>reg_arpt_org</th><th scope=col>tld_registrar_index</th><th scope=col>sld</th><th scope=col>sld_type</th><th scope=col>sld_length</th><th scope=col>sld_type2</th><th scope=col>day_domains</th><th scope=col>log_reg_arpt</th><th scope=col>gibb_score</th><th scope=col>pattern</th><th scope=col>cluster</th><th scope=col>pattern_score</th><th scope=col>pattern_domain_count</th><th scope=col>pred_df_seg2_glm</th><th scope=col>pred_df_seg_glm</th><th scope=col>pred_df_agg_glm</th><th scope=col>pred_df_seg2_rf</th><th scope=col>pred_df_seg_rf</th><th scope=col>pred_df_agg_rf</th></tr>\n",
       "\t<tr><th scope=col>&lt;int&gt;</th><th scope=col>&lt;chr&gt;</th><th scope=col>&lt;int&gt;</th><th scope=col>&lt;date&gt;</th><th scope=col>&lt;chr&gt;</th><th scope=col>&lt;date&gt;</th><th scope=col>&lt;chr&gt;</th><th scope=col>&lt;fct&gt;</th><th scope=col>&lt;chr&gt;</th><th scope=col>&lt;chr&gt;</th><th scope=col>&lt;chr&gt;</th><th scope=col>&lt;chr&gt;</th><th scope=col>&lt;int&gt;</th><th scope=col>&lt;chr&gt;</th><th scope=col>&lt;fct&gt;</th><th scope=col>&lt;int&gt;</th><th scope=col>&lt;chr&gt;</th><th scope=col>&lt;chr&gt;</th><th scope=col>&lt;date&gt;</th><th scope=col>&lt;chr&gt;</th><th scope=col>&lt;chr&gt;</th><th scope=col>&lt;dbl&gt;</th><th scope=col>&lt;dbl&gt;</th><th scope=col>&lt;int&gt;</th><th scope=col>&lt;dbl&gt;</th><th scope=col>&lt;dbl&gt;</th><th scope=col>&lt;dbl&gt;</th><th scope=col>&lt;chr&gt;</th><th scope=col>&lt;chr&gt;</th><th scope=col>&lt;fct&gt;</th><th scope=col>&lt;int&gt;</th><th scope=col>&lt;chr&gt;</th><th scope=col>&lt;int&gt;</th><th scope=col>&lt;dbl&gt;</th><th scope=col>&lt;dbl&gt;</th><th scope=col>&lt;chr&gt;</th><th scope=col>&lt;chr&gt;</th><th scope=col>&lt;dbl&gt;</th><th scope=col>&lt;int&gt;</th><th scope=col>&lt;dbl&gt;</th><th scope=col>&lt;dbl&gt;</th><th scope=col>&lt;dbl&gt;</th><th scope=col>&lt;dbl&gt;</th><th scope=col>&lt;dbl&gt;</th><th scope=col>&lt;dbl&gt;</th></tr>\n",
       "</thead>\n",
       "<tbody>\n",
       "\t<tr><td>105791731</td><td>FirstTime</td><td>1</td><td>2020-05-31</td><td>male-masturbator.website </td><td>2019-05-31</td><td>Active</td><td>website</td><td>namecheap</td><td>namecheap</td><td>United States</td><td>Non China</td><td>1</td><td>NA</td><td>Not Renewd</td><td>0</td><td>auto-renewal</td><td>NA</td><td>2020-05-31</td><td>Namecheap</td><td>Namecheap</td><td>0.69</td><td>0.69</td><td>1</td><td>7.0</td><td>7.0</td><td>0.69</td><td>websitenamecheap</td><td>male-masturbator </td><td>hyphen-l</td><td>16</td><td>16hyphen-l</td><td>32</td><td>-0.3710637</td><td>  7.22</td><td>2 </td><td>male-mastrbator</td><td>0.0029296875</td><td>3</td><td>0.035552618</td><td>0.060</td><td>0.090</td><td>0.1056837</td><td>0.06770052</td><td>0.05148795</td></tr>\n",
       "\t<tr><td>105791781</td><td>FirstTime</td><td>1</td><td>2020-05-31</td><td>miscellaneous-sex.website</td><td>2019-05-31</td><td>Active</td><td>website</td><td>namecheap</td><td>namecheap</td><td>United States</td><td>Non China</td><td>1</td><td>NA</td><td>Not Renewd</td><td>0</td><td>auto-renewal</td><td>NA</td><td>2020-05-31</td><td>Namecheap</td><td>Namecheap</td><td>0.69</td><td>0.69</td><td>1</td><td>7.0</td><td>7.0</td><td>0.69</td><td>websitenamecheap</td><td>miscellaneous-sex</td><td>hyphen-l</td><td>17</td><td>17hyphen-l</td><td>32</td><td>-0.3710637</td><td>  6.48</td><td>4 </td><td>miscellaneous-o</td><td>0.0019531250</td><td>2</td><td>0.043207768</td><td>0.063</td><td>0.098</td><td>0.1529932</td><td>0.12088394</td><td>0.09244550</td></tr>\n",
       "\t<tr><td>105791786</td><td>FirstTime</td><td>1</td><td>2020-05-31</td><td>miscellaneous-toy.website</td><td>2019-05-31</td><td>Active</td><td>website</td><td>namecheap</td><td>namecheap</td><td>United States</td><td>Non China</td><td>1</td><td>NA</td><td>Not Renewd</td><td>0</td><td>auto-renewal</td><td>NA</td><td>2020-05-31</td><td>Namecheap</td><td>Namecheap</td><td>0.69</td><td>0.69</td><td>1</td><td>7.0</td><td>7.0</td><td>0.69</td><td>websitenamecheap</td><td>miscellaneous-toy</td><td>hyphen-l</td><td>17</td><td>17hyphen-l</td><td>32</td><td>-0.3710637</td><td>  6.24</td><td>4 </td><td>miscellaneous-o</td><td>0.0019531250</td><td>2</td><td>0.043158391</td><td>0.063</td><td>0.097</td><td>0.1568086</td><td>0.12168779</td><td>0.08792135</td></tr>\n",
       "\t<tr><td>105791806</td><td>FirstTime</td><td>1</td><td>2020-05-31</td><td>penis-pump.website       </td><td>2019-05-31</td><td>Active</td><td>website</td><td>namecheap</td><td>namecheap</td><td>United States</td><td>Non China</td><td>1</td><td>NA</td><td>Not Renewd</td><td>0</td><td>auto-renewal</td><td>NA</td><td>2020-05-31</td><td>Namecheap</td><td>Namecheap</td><td>0.69</td><td>0.69</td><td>1</td><td>7.0</td><td>7.0</td><td>0.69</td><td>websitenamecheap</td><td>penis-pump       </td><td>hyphen-l</td><td>10</td><td>10hyphen-l</td><td>32</td><td>-0.3710637</td><td>  5.91</td><td>13</td><td>penis-pump     </td><td>0.0009765625</td><td>1</td><td>0.059277726</td><td>0.078</td><td>0.123</td><td>0.1467560</td><td>0.12874627</td><td>0.11966209</td></tr>\n",
       "\t<tr><td>105791851</td><td>FirstTime</td><td>1</td><td>2020-05-31</td><td>pleasure-ball.website    </td><td>2019-05-31</td><td>Active</td><td>website</td><td>namecheap</td><td>namecheap</td><td>United States</td><td>Non China</td><td>1</td><td>NA</td><td>Not Renewd</td><td>0</td><td>auto-renewal</td><td>NA</td><td>2020-05-31</td><td>Namecheap</td><td>Namecheap</td><td>0.69</td><td>0.69</td><td>1</td><td>7.0</td><td>7.0</td><td>0.69</td><td>websitenamecheap</td><td>pleasure-ball    </td><td>hyphen-l</td><td>13</td><td>13hyphen-l</td><td>32</td><td>-0.3710637</td><td>  6.75</td><td>14</td><td>pleasure-ball  </td><td>0.0009765625</td><td>1</td><td>0.056854229</td><td>0.074</td><td>0.117</td><td>0.1578006</td><td>0.15714835</td><td>0.11602070</td></tr>\n",
       "\t<tr><td>105791871</td><td>FirstTime</td><td>1</td><td>2020-05-31</td><td>6d838.fun                </td><td>2019-05-31</td><td>Active</td><td>fun    </td><td>pdr ltd  </td><td>pdr ltd  </td><td>India        </td><td>Non China</td><td>1</td><td>NA</td><td>Not Renewd</td><td>0</td><td>auto-renewal</td><td>NA</td><td>2020-05-31</td><td>PDR Ltd  </td><td>PDR Ltd  </td><td>0.60</td><td>0.60</td><td>1</td><td>8.5</td><td>8.5</td><td>0.60</td><td>funpdr ltd      </td><td>6d838            </td><td>ln      </td><td> 5</td><td>5ln       </td><td> 9</td><td>-0.5108256</td><td>100.00</td><td>7 </td><td>6d838          </td><td>0.0123456790</td><td>1</td><td>0.003969189</td><td>0.062</td><td>0.093</td><td>0.0605583</td><td>0.07520340</td><td>0.07488694</td></tr>\n",
       "</tbody>\n",
       "</table>\n"
      ],
      "text/latex": [
       "A data.table: 6 × 45\n",
       "\\begin{tabular}{lllllllllllllllllllllllllllllllllllllllllllll}\n",
       " domain\\_id & renewal\\_type & renewed\\_count & expiry\\_date & domain & creation\\_date & status & tld & registrar & reseller & reseller\\_country & region & reg\\_period & registrant\\_country & renewal\\_status & renew\\_mbg & renew\\_type & autorenew\\_type & renew\\_date & renew\\_registrar & renew\\_reseller & reg\\_revenue & reg\\_arpt & renew\\_period & renew\\_domain\\_revenue & renew\\_arpt & reg\\_arpt\\_org & tld\\_registrar\\_index & sld & sld\\_type & sld\\_length & sld\\_type2 & day\\_domains & log\\_reg\\_arpt & gibb\\_score & pattern & cluster & pattern\\_score & pattern\\_domain\\_count & pred\\_df\\_seg2\\_glm & pred\\_df\\_seg\\_glm & pred\\_df\\_agg\\_glm & pred\\_df\\_seg2\\_rf & pred\\_df\\_seg\\_rf & pred\\_df\\_agg\\_rf\\\\\n",
       " <int> & <chr> & <int> & <date> & <chr> & <date> & <chr> & <fct> & <chr> & <chr> & <chr> & <chr> & <int> & <chr> & <fct> & <int> & <chr> & <chr> & <date> & <chr> & <chr> & <dbl> & <dbl> & <int> & <dbl> & <dbl> & <dbl> & <chr> & <chr> & <fct> & <int> & <chr> & <int> & <dbl> & <dbl> & <chr> & <chr> & <dbl> & <int> & <dbl> & <dbl> & <dbl> & <dbl> & <dbl> & <dbl>\\\\\n",
       "\\hline\n",
       "\t 105791731 & FirstTime & 1 & 2020-05-31 & male-masturbator.website  & 2019-05-31 & Active & website & namecheap & namecheap & United States & Non China & 1 & NA & Not Renewd & 0 & auto-renewal & NA & 2020-05-31 & Namecheap & Namecheap & 0.69 & 0.69 & 1 & 7.0 & 7.0 & 0.69 & websitenamecheap & male-masturbator  & hyphen-l & 16 & 16hyphen-l & 32 & -0.3710637 &   7.22 & 2  & male-mastrbator & 0.0029296875 & 3 & 0.035552618 & 0.060 & 0.090 & 0.1056837 & 0.06770052 & 0.05148795\\\\\n",
       "\t 105791781 & FirstTime & 1 & 2020-05-31 & miscellaneous-sex.website & 2019-05-31 & Active & website & namecheap & namecheap & United States & Non China & 1 & NA & Not Renewd & 0 & auto-renewal & NA & 2020-05-31 & Namecheap & Namecheap & 0.69 & 0.69 & 1 & 7.0 & 7.0 & 0.69 & websitenamecheap & miscellaneous-sex & hyphen-l & 17 & 17hyphen-l & 32 & -0.3710637 &   6.48 & 4  & miscellaneous-o & 0.0019531250 & 2 & 0.043207768 & 0.063 & 0.098 & 0.1529932 & 0.12088394 & 0.09244550\\\\\n",
       "\t 105791786 & FirstTime & 1 & 2020-05-31 & miscellaneous-toy.website & 2019-05-31 & Active & website & namecheap & namecheap & United States & Non China & 1 & NA & Not Renewd & 0 & auto-renewal & NA & 2020-05-31 & Namecheap & Namecheap & 0.69 & 0.69 & 1 & 7.0 & 7.0 & 0.69 & websitenamecheap & miscellaneous-toy & hyphen-l & 17 & 17hyphen-l & 32 & -0.3710637 &   6.24 & 4  & miscellaneous-o & 0.0019531250 & 2 & 0.043158391 & 0.063 & 0.097 & 0.1568086 & 0.12168779 & 0.08792135\\\\\n",
       "\t 105791806 & FirstTime & 1 & 2020-05-31 & penis-pump.website        & 2019-05-31 & Active & website & namecheap & namecheap & United States & Non China & 1 & NA & Not Renewd & 0 & auto-renewal & NA & 2020-05-31 & Namecheap & Namecheap & 0.69 & 0.69 & 1 & 7.0 & 7.0 & 0.69 & websitenamecheap & penis-pump        & hyphen-l & 10 & 10hyphen-l & 32 & -0.3710637 &   5.91 & 13 & penis-pump      & 0.0009765625 & 1 & 0.059277726 & 0.078 & 0.123 & 0.1467560 & 0.12874627 & 0.11966209\\\\\n",
       "\t 105791851 & FirstTime & 1 & 2020-05-31 & pleasure-ball.website     & 2019-05-31 & Active & website & namecheap & namecheap & United States & Non China & 1 & NA & Not Renewd & 0 & auto-renewal & NA & 2020-05-31 & Namecheap & Namecheap & 0.69 & 0.69 & 1 & 7.0 & 7.0 & 0.69 & websitenamecheap & pleasure-ball     & hyphen-l & 13 & 13hyphen-l & 32 & -0.3710637 &   6.75 & 14 & pleasure-ball   & 0.0009765625 & 1 & 0.056854229 & 0.074 & 0.117 & 0.1578006 & 0.15714835 & 0.11602070\\\\\n",
       "\t 105791871 & FirstTime & 1 & 2020-05-31 & 6d838.fun                 & 2019-05-31 & Active & fun     & pdr ltd   & pdr ltd   & India         & Non China & 1 & NA & Not Renewd & 0 & auto-renewal & NA & 2020-05-31 & PDR Ltd   & PDR Ltd   & 0.60 & 0.60 & 1 & 8.5 & 8.5 & 0.60 & funpdr ltd       & 6d838             & ln       &  5 & 5ln        &  9 & -0.5108256 & 100.00 & 7  & 6d838           & 0.0123456790 & 1 & 0.003969189 & 0.062 & 0.093 & 0.0605583 & 0.07520340 & 0.07488694\\\\\n",
       "\\end{tabular}\n"
      ],
      "text/markdown": [
       "\n",
       "A data.table: 6 × 45\n",
       "\n",
       "| domain_id &lt;int&gt; | renewal_type &lt;chr&gt; | renewed_count &lt;int&gt; | expiry_date &lt;date&gt; | domain &lt;chr&gt; | creation_date &lt;date&gt; | status &lt;chr&gt; | tld &lt;fct&gt; | registrar &lt;chr&gt; | reseller &lt;chr&gt; | reseller_country &lt;chr&gt; | region &lt;chr&gt; | reg_period &lt;int&gt; | registrant_country &lt;chr&gt; | renewal_status &lt;fct&gt; | renew_mbg &lt;int&gt; | renew_type &lt;chr&gt; | autorenew_type &lt;chr&gt; | renew_date &lt;date&gt; | renew_registrar &lt;chr&gt; | renew_reseller &lt;chr&gt; | reg_revenue &lt;dbl&gt; | reg_arpt &lt;dbl&gt; | renew_period &lt;int&gt; | renew_domain_revenue &lt;dbl&gt; | renew_arpt &lt;dbl&gt; | reg_arpt_org &lt;dbl&gt; | tld_registrar_index &lt;chr&gt; | sld &lt;chr&gt; | sld_type &lt;fct&gt; | sld_length &lt;int&gt; | sld_type2 &lt;chr&gt; | day_domains &lt;int&gt; | log_reg_arpt &lt;dbl&gt; | gibb_score &lt;dbl&gt; | pattern &lt;chr&gt; | cluster &lt;chr&gt; | pattern_score &lt;dbl&gt; | pattern_domain_count &lt;int&gt; | pred_df_seg2_glm &lt;dbl&gt; | pred_df_seg_glm &lt;dbl&gt; | pred_df_agg_glm &lt;dbl&gt; | pred_df_seg2_rf &lt;dbl&gt; | pred_df_seg_rf &lt;dbl&gt; | pred_df_agg_rf &lt;dbl&gt; |\n",
       "|---|---|---|---|---|---|---|---|---|---|---|---|---|---|---|---|---|---|---|---|---|---|---|---|---|---|---|---|---|---|---|---|---|---|---|---|---|---|---|---|---|---|---|---|---|\n",
       "| 105791731 | FirstTime | 1 | 2020-05-31 | male-masturbator.website  | 2019-05-31 | Active | website | namecheap | namecheap | United States | Non China | 1 | NA | Not Renewd | 0 | auto-renewal | NA | 2020-05-31 | Namecheap | Namecheap | 0.69 | 0.69 | 1 | 7.0 | 7.0 | 0.69 | websitenamecheap | male-masturbator  | hyphen-l | 16 | 16hyphen-l | 32 | -0.3710637 |   7.22 | 2  | male-mastrbator | 0.0029296875 | 3 | 0.035552618 | 0.060 | 0.090 | 0.1056837 | 0.06770052 | 0.05148795 |\n",
       "| 105791781 | FirstTime | 1 | 2020-05-31 | miscellaneous-sex.website | 2019-05-31 | Active | website | namecheap | namecheap | United States | Non China | 1 | NA | Not Renewd | 0 | auto-renewal | NA | 2020-05-31 | Namecheap | Namecheap | 0.69 | 0.69 | 1 | 7.0 | 7.0 | 0.69 | websitenamecheap | miscellaneous-sex | hyphen-l | 17 | 17hyphen-l | 32 | -0.3710637 |   6.48 | 4  | miscellaneous-o | 0.0019531250 | 2 | 0.043207768 | 0.063 | 0.098 | 0.1529932 | 0.12088394 | 0.09244550 |\n",
       "| 105791786 | FirstTime | 1 | 2020-05-31 | miscellaneous-toy.website | 2019-05-31 | Active | website | namecheap | namecheap | United States | Non China | 1 | NA | Not Renewd | 0 | auto-renewal | NA | 2020-05-31 | Namecheap | Namecheap | 0.69 | 0.69 | 1 | 7.0 | 7.0 | 0.69 | websitenamecheap | miscellaneous-toy | hyphen-l | 17 | 17hyphen-l | 32 | -0.3710637 |   6.24 | 4  | miscellaneous-o | 0.0019531250 | 2 | 0.043158391 | 0.063 | 0.097 | 0.1568086 | 0.12168779 | 0.08792135 |\n",
       "| 105791806 | FirstTime | 1 | 2020-05-31 | penis-pump.website        | 2019-05-31 | Active | website | namecheap | namecheap | United States | Non China | 1 | NA | Not Renewd | 0 | auto-renewal | NA | 2020-05-31 | Namecheap | Namecheap | 0.69 | 0.69 | 1 | 7.0 | 7.0 | 0.69 | websitenamecheap | penis-pump        | hyphen-l | 10 | 10hyphen-l | 32 | -0.3710637 |   5.91 | 13 | penis-pump      | 0.0009765625 | 1 | 0.059277726 | 0.078 | 0.123 | 0.1467560 | 0.12874627 | 0.11966209 |\n",
       "| 105791851 | FirstTime | 1 | 2020-05-31 | pleasure-ball.website     | 2019-05-31 | Active | website | namecheap | namecheap | United States | Non China | 1 | NA | Not Renewd | 0 | auto-renewal | NA | 2020-05-31 | Namecheap | Namecheap | 0.69 | 0.69 | 1 | 7.0 | 7.0 | 0.69 | websitenamecheap | pleasure-ball     | hyphen-l | 13 | 13hyphen-l | 32 | -0.3710637 |   6.75 | 14 | pleasure-ball   | 0.0009765625 | 1 | 0.056854229 | 0.074 | 0.117 | 0.1578006 | 0.15714835 | 0.11602070 |\n",
       "| 105791871 | FirstTime | 1 | 2020-05-31 | 6d838.fun                 | 2019-05-31 | Active | fun     | pdr ltd   | pdr ltd   | India         | Non China | 1 | NA | Not Renewd | 0 | auto-renewal | NA | 2020-05-31 | PDR Ltd   | PDR Ltd   | 0.60 | 0.60 | 1 | 8.5 | 8.5 | 0.60 | funpdr ltd       | 6d838             | ln       |  5 | 5ln        |  9 | -0.5108256 | 100.00 | 7  | 6d838           | 0.0123456790 | 1 | 0.003969189 | 0.062 | 0.093 | 0.0605583 | 0.07520340 | 0.07488694 |\n",
       "\n"
      ],
      "text/plain": [
       "  domain_id renewal_type renewed_count expiry_date domain                   \n",
       "1 105791731 FirstTime    1             2020-05-31  male-masturbator.website \n",
       "2 105791781 FirstTime    1             2020-05-31  miscellaneous-sex.website\n",
       "3 105791786 FirstTime    1             2020-05-31  miscellaneous-toy.website\n",
       "4 105791806 FirstTime    1             2020-05-31  penis-pump.website       \n",
       "5 105791851 FirstTime    1             2020-05-31  pleasure-ball.website    \n",
       "6 105791871 FirstTime    1             2020-05-31  6d838.fun                \n",
       "  creation_date status tld     registrar reseller  reseller_country region   \n",
       "1 2019-05-31    Active website namecheap namecheap United States    Non China\n",
       "2 2019-05-31    Active website namecheap namecheap United States    Non China\n",
       "3 2019-05-31    Active website namecheap namecheap United States    Non China\n",
       "4 2019-05-31    Active website namecheap namecheap United States    Non China\n",
       "5 2019-05-31    Active website namecheap namecheap United States    Non China\n",
       "6 2019-05-31    Active fun     pdr ltd   pdr ltd   India            Non China\n",
       "  reg_period registrant_country renewal_status renew_mbg renew_type  \n",
       "1 1          NA                 Not Renewd     0         auto-renewal\n",
       "2 1          NA                 Not Renewd     0         auto-renewal\n",
       "3 1          NA                 Not Renewd     0         auto-renewal\n",
       "4 1          NA                 Not Renewd     0         auto-renewal\n",
       "5 1          NA                 Not Renewd     0         auto-renewal\n",
       "6 1          NA                 Not Renewd     0         auto-renewal\n",
       "  autorenew_type renew_date renew_registrar renew_reseller reg_revenue reg_arpt\n",
       "1 NA             2020-05-31 Namecheap       Namecheap      0.69        0.69    \n",
       "2 NA             2020-05-31 Namecheap       Namecheap      0.69        0.69    \n",
       "3 NA             2020-05-31 Namecheap       Namecheap      0.69        0.69    \n",
       "4 NA             2020-05-31 Namecheap       Namecheap      0.69        0.69    \n",
       "5 NA             2020-05-31 Namecheap       Namecheap      0.69        0.69    \n",
       "6 NA             2020-05-31 PDR Ltd         PDR Ltd        0.60        0.60    \n",
       "  renew_period renew_domain_revenue renew_arpt reg_arpt_org tld_registrar_index\n",
       "1 1            7.0                  7.0        0.69         websitenamecheap   \n",
       "2 1            7.0                  7.0        0.69         websitenamecheap   \n",
       "3 1            7.0                  7.0        0.69         websitenamecheap   \n",
       "4 1            7.0                  7.0        0.69         websitenamecheap   \n",
       "5 1            7.0                  7.0        0.69         websitenamecheap   \n",
       "6 1            8.5                  8.5        0.60         funpdr ltd         \n",
       "  sld               sld_type sld_length sld_type2  day_domains log_reg_arpt\n",
       "1 male-masturbator  hyphen-l 16         16hyphen-l 32          -0.3710637  \n",
       "2 miscellaneous-sex hyphen-l 17         17hyphen-l 32          -0.3710637  \n",
       "3 miscellaneous-toy hyphen-l 17         17hyphen-l 32          -0.3710637  \n",
       "4 penis-pump        hyphen-l 10         10hyphen-l 32          -0.3710637  \n",
       "5 pleasure-ball     hyphen-l 13         13hyphen-l 32          -0.3710637  \n",
       "6 6d838             ln        5         5ln         9          -0.5108256  \n",
       "  gibb_score pattern cluster         pattern_score pattern_domain_count\n",
       "1   7.22     2       male-mastrbator 0.0029296875  3                   \n",
       "2   6.48     4       miscellaneous-o 0.0019531250  2                   \n",
       "3   6.24     4       miscellaneous-o 0.0019531250  2                   \n",
       "4   5.91     13      penis-pump      0.0009765625  1                   \n",
       "5   6.75     14      pleasure-ball   0.0009765625  1                   \n",
       "6 100.00     7       6d838           0.0123456790  1                   \n",
       "  pred_df_seg2_glm pred_df_seg_glm pred_df_agg_glm pred_df_seg2_rf\n",
       "1 0.035552618      0.060           0.090           0.1056837      \n",
       "2 0.043207768      0.063           0.098           0.1529932      \n",
       "3 0.043158391      0.063           0.097           0.1568086      \n",
       "4 0.059277726      0.078           0.123           0.1467560      \n",
       "5 0.056854229      0.074           0.117           0.1578006      \n",
       "6 0.003969189      0.062           0.093           0.0605583      \n",
       "  pred_df_seg_rf pred_df_agg_rf\n",
       "1 0.06770052     0.05148795    \n",
       "2 0.12088394     0.09244550    \n",
       "3 0.12168779     0.08792135    \n",
       "4 0.12874627     0.11966209    \n",
       "5 0.15714835     0.11602070    \n",
       "6 0.07520340     0.07488694    "
      ]
     },
     "metadata": {},
     "output_type": "display_data"
    }
   ],
   "source": [
    "tail(test_predictions_df)"
   ]
  },
  {
   "cell_type": "code",
   "execution_count": 14,
   "metadata": {},
   "outputs": [
    {
     "data": {
      "text/html": [
       "<style>\n",
       ".dl-inline {width: auto; margin:0; padding: 0}\n",
       ".dl-inline>dt, .dl-inline>dd {float: none; width: auto; display: inline-block}\n",
       ".dl-inline>dt::after {content: \":\\0020\"; padding-right: .5ex}\n",
       ".dl-inline>dt:not(:first-of-type) {padding-left: .5ex}\n",
       "</style><dl class=dl-inline><dt>domain_id</dt><dd>391</dd><dt>renewal_type</dt><dd>391</dd><dt>renewed_count</dt><dd>391</dd><dt>expiry_date</dt><dd>391</dd><dt>domain</dt><dd>391</dd><dt>creation_date</dt><dd>391</dd><dt>status</dt><dd>391</dd><dt>tld</dt><dd>391</dd><dt>registrar</dt><dd>391</dd><dt>reseller</dt><dd>391</dd><dt>reseller_country</dt><dd>391</dd><dt>region</dt><dd>391</dd><dt>reg_period</dt><dd>391</dd><dt>registrant_country</dt><dd>297084</dd><dt>renewal_status</dt><dd>391</dd><dt>renew_mbg</dt><dd>391</dd><dt>renew_type</dt><dd>8524</dd><dt>autorenew_type</dt><dd>72641</dd><dt>renew_date</dt><dd>8531</dd><dt>renew_registrar</dt><dd>391</dd><dt>renew_reseller</dt><dd>391</dd><dt>reg_revenue</dt><dd>391</dd><dt>reg_arpt</dt><dd>391</dd><dt>renew_period</dt><dd>8531</dd><dt>renew_domain_revenue</dt><dd>391</dd><dt>renew_arpt</dt><dd>8531</dd><dt>reg_arpt_org</dt><dd>391</dd><dt>tld_registrar_index</dt><dd>391</dd><dt>sld</dt><dd>391</dd><dt>sld_type</dt><dd>391</dd><dt>sld_length</dt><dd>391</dd><dt>sld_type2</dt><dd>391</dd><dt>day_domains</dt><dd>391</dd><dt>log_reg_arpt</dt><dd>391</dd><dt>gibb_score</dt><dd>391</dd><dt>pattern</dt><dd>391</dd><dt>cluster</dt><dd>391</dd><dt>pattern_score</dt><dd>391</dd><dt>pattern_domain_count</dt><dd>391</dd><dt>pred_df_seg2_glm</dt><dd>1745</dd><dt>pred_df_seg_glm</dt><dd>575</dd><dt>pred_df_agg_glm</dt><dd>479</dd><dt>pred_df_seg2_rf</dt><dd>479</dd><dt>pred_df_seg_rf</dt><dd>479</dd><dt>pred_df_agg_rf</dt><dd>479</dd></dl>\n"
      ],
      "text/latex": [
       "\\begin{description*}\n",
       "\\item[domain\\textbackslash{}\\_id] 391\n",
       "\\item[renewal\\textbackslash{}\\_type] 391\n",
       "\\item[renewed\\textbackslash{}\\_count] 391\n",
       "\\item[expiry\\textbackslash{}\\_date] 391\n",
       "\\item[domain] 391\n",
       "\\item[creation\\textbackslash{}\\_date] 391\n",
       "\\item[status] 391\n",
       "\\item[tld] 391\n",
       "\\item[registrar] 391\n",
       "\\item[reseller] 391\n",
       "\\item[reseller\\textbackslash{}\\_country] 391\n",
       "\\item[region] 391\n",
       "\\item[reg\\textbackslash{}\\_period] 391\n",
       "\\item[registrant\\textbackslash{}\\_country] 297084\n",
       "\\item[renewal\\textbackslash{}\\_status] 391\n",
       "\\item[renew\\textbackslash{}\\_mbg] 391\n",
       "\\item[renew\\textbackslash{}\\_type] 8524\n",
       "\\item[autorenew\\textbackslash{}\\_type] 72641\n",
       "\\item[renew\\textbackslash{}\\_date] 8531\n",
       "\\item[renew\\textbackslash{}\\_registrar] 391\n",
       "\\item[renew\\textbackslash{}\\_reseller] 391\n",
       "\\item[reg\\textbackslash{}\\_revenue] 391\n",
       "\\item[reg\\textbackslash{}\\_arpt] 391\n",
       "\\item[renew\\textbackslash{}\\_period] 8531\n",
       "\\item[renew\\textbackslash{}\\_domain\\textbackslash{}\\_revenue] 391\n",
       "\\item[renew\\textbackslash{}\\_arpt] 8531\n",
       "\\item[reg\\textbackslash{}\\_arpt\\textbackslash{}\\_org] 391\n",
       "\\item[tld\\textbackslash{}\\_registrar\\textbackslash{}\\_index] 391\n",
       "\\item[sld] 391\n",
       "\\item[sld\\textbackslash{}\\_type] 391\n",
       "\\item[sld\\textbackslash{}\\_length] 391\n",
       "\\item[sld\\textbackslash{}\\_type2] 391\n",
       "\\item[day\\textbackslash{}\\_domains] 391\n",
       "\\item[log\\textbackslash{}\\_reg\\textbackslash{}\\_arpt] 391\n",
       "\\item[gibb\\textbackslash{}\\_score] 391\n",
       "\\item[pattern] 391\n",
       "\\item[cluster] 391\n",
       "\\item[pattern\\textbackslash{}\\_score] 391\n",
       "\\item[pattern\\textbackslash{}\\_domain\\textbackslash{}\\_count] 391\n",
       "\\item[pred\\textbackslash{}\\_df\\textbackslash{}\\_seg2\\textbackslash{}\\_glm] 1745\n",
       "\\item[pred\\textbackslash{}\\_df\\textbackslash{}\\_seg\\textbackslash{}\\_glm] 575\n",
       "\\item[pred\\textbackslash{}\\_df\\textbackslash{}\\_agg\\textbackslash{}\\_glm] 479\n",
       "\\item[pred\\textbackslash{}\\_df\\textbackslash{}\\_seg2\\textbackslash{}\\_rf] 479\n",
       "\\item[pred\\textbackslash{}\\_df\\textbackslash{}\\_seg\\textbackslash{}\\_rf] 479\n",
       "\\item[pred\\textbackslash{}\\_df\\textbackslash{}\\_agg\\textbackslash{}\\_rf] 479\n",
       "\\end{description*}\n"
      ],
      "text/markdown": [
       "domain_id\n",
       ":   391renewal_type\n",
       ":   391renewed_count\n",
       ":   391expiry_date\n",
       ":   391domain\n",
       ":   391creation_date\n",
       ":   391status\n",
       ":   391tld\n",
       ":   391registrar\n",
       ":   391reseller\n",
       ":   391reseller_country\n",
       ":   391region\n",
       ":   391reg_period\n",
       ":   391registrant_country\n",
       ":   297084renewal_status\n",
       ":   391renew_mbg\n",
       ":   391renew_type\n",
       ":   8524autorenew_type\n",
       ":   72641renew_date\n",
       ":   8531renew_registrar\n",
       ":   391renew_reseller\n",
       ":   391reg_revenue\n",
       ":   391reg_arpt\n",
       ":   391renew_period\n",
       ":   8531renew_domain_revenue\n",
       ":   391renew_arpt\n",
       ":   8531reg_arpt_org\n",
       ":   391tld_registrar_index\n",
       ":   391sld\n",
       ":   391sld_type\n",
       ":   391sld_length\n",
       ":   391sld_type2\n",
       ":   391day_domains\n",
       ":   391log_reg_arpt\n",
       ":   391gibb_score\n",
       ":   391pattern\n",
       ":   391cluster\n",
       ":   391pattern_score\n",
       ":   391pattern_domain_count\n",
       ":   391pred_df_seg2_glm\n",
       ":   1745pred_df_seg_glm\n",
       ":   575pred_df_agg_glm\n",
       ":   479pred_df_seg2_rf\n",
       ":   479pred_df_seg_rf\n",
       ":   479pred_df_agg_rf\n",
       ":   479\n",
       "\n"
      ],
      "text/plain": [
       "           domain_id         renewal_type        renewed_count \n",
       "                 391                  391                  391 \n",
       "         expiry_date               domain        creation_date \n",
       "                 391                  391                  391 \n",
       "              status                  tld            registrar \n",
       "                 391                  391                  391 \n",
       "            reseller     reseller_country               region \n",
       "                 391                  391                  391 \n",
       "          reg_period   registrant_country       renewal_status \n",
       "                 391               297084                  391 \n",
       "           renew_mbg           renew_type       autorenew_type \n",
       "                 391                 8524                72641 \n",
       "          renew_date      renew_registrar       renew_reseller \n",
       "                8531                  391                  391 \n",
       "         reg_revenue             reg_arpt         renew_period \n",
       "                 391                  391                 8531 \n",
       "renew_domain_revenue           renew_arpt         reg_arpt_org \n",
       "                 391                 8531                  391 \n",
       " tld_registrar_index                  sld             sld_type \n",
       "                 391                  391                  391 \n",
       "          sld_length            sld_type2          day_domains \n",
       "                 391                  391                  391 \n",
       "        log_reg_arpt           gibb_score              pattern \n",
       "                 391                  391                  391 \n",
       "             cluster        pattern_score pattern_domain_count \n",
       "                 391                  391                  391 \n",
       "    pred_df_seg2_glm      pred_df_seg_glm      pred_df_agg_glm \n",
       "                1745                  575                  479 \n",
       "     pred_df_seg2_rf       pred_df_seg_rf       pred_df_agg_rf \n",
       "                 479                  479                  479 "
      ]
     },
     "metadata": {},
     "output_type": "display_data"
    }
   ],
   "source": [
    "# ... CREATES 391 ROWS WITH ALL NA'S\n",
    "# test_predictions_df %>%\n",
    "#   select(everything()) %>%  # replace to your needs\n",
    "#   summarise_all(funs(sum(is.na(.)))) %>%   t()\n",
    "test_predictions_df %>% is.na %>% colSums"
   ]
  },
  {
   "cell_type": "code",
   "execution_count": 15,
   "metadata": {},
   "outputs": [
    {
     "data": {
      "text/html": [
       "296797"
      ],
      "text/latex": [
       "296797"
      ],
      "text/markdown": [
       "296797"
      ],
      "text/plain": [
       "[1] 296797"
      ]
     },
     "metadata": {},
     "output_type": "display_data"
    }
   ],
   "source": [
    "#... which, subtracted from nrows, gives the initial dim of predictions_df\n",
    "297188-391"
   ]
  },
  {
   "cell_type": "code",
   "execution_count": 16,
   "metadata": {},
   "outputs": [
    {
     "data": {
      "text/html": [
       "<style>\n",
       ".list-inline {list-style: none; margin:0; padding: 0}\n",
       ".list-inline>li {display: inline-block}\n",
       ".list-inline>li:not(:last-child)::after {content: \"\\00b7\"; padding: 0 .5ex}\n",
       "</style>\n",
       "<ol class=list-inline><li>296797</li><li>45</li></ol>\n"
      ],
      "text/latex": [
       "\\begin{enumerate*}\n",
       "\\item 296797\n",
       "\\item 45\n",
       "\\end{enumerate*}\n"
      ],
      "text/markdown": [
       "1. 296797\n",
       "2. 45\n",
       "\n",
       "\n"
      ],
      "text/plain": [
       "[1] 296797     45"
      ]
     },
     "metadata": {},
     "output_type": "display_data"
    },
    {
     "data": {
      "text/html": [
       "<table>\n",
       "<caption>A data.table: 6 × 45</caption>\n",
       "<thead>\n",
       "\t<tr><th scope=col>domain_id</th><th scope=col>renewal_type</th><th scope=col>renewed_count</th><th scope=col>expiry_date</th><th scope=col>domain</th><th scope=col>creation_date</th><th scope=col>status</th><th scope=col>tld</th><th scope=col>registrar</th><th scope=col>reseller</th><th scope=col>reseller_country</th><th scope=col>region</th><th scope=col>reg_period</th><th scope=col>registrant_country</th><th scope=col>renewal_status</th><th scope=col>renew_mbg</th><th scope=col>renew_type</th><th scope=col>autorenew_type</th><th scope=col>renew_date</th><th scope=col>renew_registrar</th><th scope=col>renew_reseller</th><th scope=col>reg_revenue</th><th scope=col>reg_arpt</th><th scope=col>renew_period</th><th scope=col>renew_domain_revenue</th><th scope=col>renew_arpt</th><th scope=col>reg_arpt_org</th><th scope=col>tld_registrar_index</th><th scope=col>sld</th><th scope=col>sld_type</th><th scope=col>sld_length</th><th scope=col>sld_type2</th><th scope=col>day_domains</th><th scope=col>log_reg_arpt</th><th scope=col>gibb_score</th><th scope=col>pattern</th><th scope=col>cluster</th><th scope=col>pattern_score</th><th scope=col>pattern_domain_count</th><th scope=col>pred_df_seg2_glm</th><th scope=col>pred_df_seg_glm</th><th scope=col>pred_df_agg_glm</th><th scope=col>pred_df_seg2_rf</th><th scope=col>pred_df_seg_rf</th><th scope=col>pred_df_agg_rf</th></tr>\n",
       "\t<tr><th scope=col>&lt;int&gt;</th><th scope=col>&lt;chr&gt;</th><th scope=col>&lt;int&gt;</th><th scope=col>&lt;date&gt;</th><th scope=col>&lt;chr&gt;</th><th scope=col>&lt;date&gt;</th><th scope=col>&lt;chr&gt;</th><th scope=col>&lt;fct&gt;</th><th scope=col>&lt;chr&gt;</th><th scope=col>&lt;chr&gt;</th><th scope=col>&lt;chr&gt;</th><th scope=col>&lt;chr&gt;</th><th scope=col>&lt;int&gt;</th><th scope=col>&lt;chr&gt;</th><th scope=col>&lt;fct&gt;</th><th scope=col>&lt;int&gt;</th><th scope=col>&lt;chr&gt;</th><th scope=col>&lt;chr&gt;</th><th scope=col>&lt;date&gt;</th><th scope=col>&lt;chr&gt;</th><th scope=col>&lt;chr&gt;</th><th scope=col>&lt;dbl&gt;</th><th scope=col>&lt;dbl&gt;</th><th scope=col>&lt;int&gt;</th><th scope=col>&lt;dbl&gt;</th><th scope=col>&lt;dbl&gt;</th><th scope=col>&lt;dbl&gt;</th><th scope=col>&lt;chr&gt;</th><th scope=col>&lt;chr&gt;</th><th scope=col>&lt;fct&gt;</th><th scope=col>&lt;int&gt;</th><th scope=col>&lt;chr&gt;</th><th scope=col>&lt;int&gt;</th><th scope=col>&lt;dbl&gt;</th><th scope=col>&lt;dbl&gt;</th><th scope=col>&lt;chr&gt;</th><th scope=col>&lt;chr&gt;</th><th scope=col>&lt;dbl&gt;</th><th scope=col>&lt;int&gt;</th><th scope=col>&lt;dbl&gt;</th><th scope=col>&lt;dbl&gt;</th><th scope=col>&lt;dbl&gt;</th><th scope=col>&lt;dbl&gt;</th><th scope=col>&lt;dbl&gt;</th><th scope=col>&lt;dbl&gt;</th></tr>\n",
       "</thead>\n",
       "<tbody>\n",
       "\t<tr><td>1018925</td><td>FirstTime</td><td>1</td><td>2020-01-16</td><td>eth.pw                </td><td>2016-01-16</td><td>Active</td><td>pw     </td><td>name.com         </td><td>name.com         </td><td>United States</td><td>Non China</td><td>4</td><td>United States</td><td>Renewed   </td><td>0</td><td>renewal     </td><td>NULL</td><td>2015-02-27</td><td>Name.com         </td><td>Name.com         </td><td>24.0</td><td> 6.00</td><td>1</td><td> 6.0</td><td> 6.0</td><td> 6.00</td><td>pwname.com              </td><td>eth           </td><td>l</td><td> 3</td><td>3l </td><td>1</td><td>1.791759</td><td>8.89</td><td>eth           </td><td>1</td><td>1</td><td>1</td><td>0.99999903</td><td>0.322</td><td>0.484</td><td>0.7404987</td><td>0.5118349</td><td>0.4434424</td></tr>\n",
       "\t<tr><td>1837805</td><td>FirstTime</td><td>1</td><td>2020-02-04</td><td>kitetsumemo.in.net    </td><td>2014-02-04</td><td>Active</td><td>in.net </td><td>gmo              </td><td>gmo              </td><td>Japan        </td><td>Non China</td><td>6</td><td>Japan        </td><td>Renewed   </td><td>0</td><td>renewal     </td><td>NULL</td><td>2020-01-19</td><td>GMO              </td><td>GMO              </td><td>32.0</td><td> 5.33</td><td>1</td><td> 6.0</td><td> 6.0</td><td> 5.33</td><td>in.netgmo               </td><td>kitetsumemo   </td><td>l</td><td>11</td><td>11l</td><td>1</td><td>1.673351</td><td>6.30</td><td>kitetsumemo   </td><td>1</td><td>1</td><td>1</td><td>1.00000000</td><td>0.940</td><td>0.724</td><td>0.7803139</td><td>0.6546858</td><td>0.4043908</td></tr>\n",
       "\t<tr><td>2294288</td><td>FirstTime</td><td>1</td><td>2020-03-31</td><td>issei.pw              </td><td>2014-03-31</td><td>Active</td><td>pw     </td><td>gmo              </td><td>gmo              </td><td>Japan        </td><td>Non China</td><td>6</td><td>Japan        </td><td>Not Renewd</td><td>0</td><td>auto-renewal</td><td>NULL</td><td>2020-03-31</td><td>GMO              </td><td>GMO              </td><td>33.0</td><td> 5.50</td><td>1</td><td>15.0</td><td>15.0</td><td> 5.50</td><td>pwgmo                   </td><td>issei         </td><td>l</td><td> 5</td><td>5l </td><td>1</td><td>1.704748</td><td>5.66</td><td>issei         </td><td>1</td><td>1</td><td>1</td><td>0.80186273</td><td>0.770</td><td>0.601</td><td>0.6163054</td><td>0.4580625</td><td>0.3594618</td></tr>\n",
       "\t<tr><td>6752374</td><td>FirstTime</td><td>1</td><td>2020-01-04</td><td>netbarg.website       </td><td>2015-01-04</td><td>Active</td><td>website</td><td>namecheap        </td><td>namecheap        </td><td>United States</td><td>Non China</td><td>5</td><td>Germany      </td><td>Renewed   </td><td>0</td><td>renewal     </td><td>NULL</td><td>2019-12-05</td><td>Namecheap        </td><td>Namecheap        </td><td>17.5</td><td> 3.50</td><td>1</td><td> 7.5</td><td> 7.5</td><td> 3.50</td><td>websitenamecheap        </td><td>netbarg       </td><td>l</td><td> 7</td><td>7l </td><td>1</td><td>1.252763</td><td>1.94</td><td>netbarg       </td><td>1</td><td>1</td><td>1</td><td>0.37871416</td><td>0.719</td><td>0.482</td><td>0.5009564</td><td>0.4438893</td><td>0.3763672</td></tr>\n",
       "\t<tr><td>6758279</td><td>FirstTime</td><td>1</td><td>2020-01-06</td><td>flyspringfield.website</td><td>2015-01-06</td><td>Active</td><td>website</td><td>enom             </td><td>enom             </td><td>United States</td><td>Non China</td><td>5</td><td>United States</td><td>Renewed   </td><td>0</td><td>renewal     </td><td>NULL</td><td>2020-01-02</td><td>eNom             </td><td>eNom             </td><td>50.0</td><td>10.00</td><td>3</td><td>45.0</td><td>15.0</td><td>10.00</td><td>websiteenom             </td><td>flyspringfield</td><td>l</td><td>14</td><td>14l</td><td>1</td><td>2.302585</td><td>4.44</td><td>flyspringfield</td><td>1</td><td>1</td><td>1</td><td>0.07396782</td><td>0.362</td><td>0.758</td><td>0.2022334</td><td>0.3703322</td><td>0.3475753</td></tr>\n",
       "\t<tr><td>6758512</td><td>FirstTime</td><td>1</td><td>2020-01-06</td><td>bosslife.website      </td><td>2015-01-06</td><td>Active</td><td>website</td><td>network solutions</td><td>network solutions</td><td>United States</td><td>Non China</td><td>5</td><td>United States</td><td>Renewed   </td><td>0</td><td>renewal     </td><td>NULL</td><td>2019-11-07</td><td>Network Solutions</td><td>Network Solutions</td><td>75.0</td><td>15.00</td><td>5</td><td>75.0</td><td>15.0</td><td>15.00</td><td>websitenetwork solutions</td><td>bosslife      </td><td>l</td><td> 8</td><td>8l </td><td>1</td><td>2.708050</td><td>4.59</td><td>bosslife      </td><td>1</td><td>1</td><td>1</td><td>1.00000000</td><td>0.943</td><td>0.829</td><td>0.8070811</td><td>0.8096157</td><td>0.6575082</td></tr>\n",
       "</tbody>\n",
       "</table>\n"
      ],
      "text/latex": [
       "A data.table: 6 × 45\n",
       "\\begin{tabular}{lllllllllllllllllllllllllllllllllllllllllllll}\n",
       " domain\\_id & renewal\\_type & renewed\\_count & expiry\\_date & domain & creation\\_date & status & tld & registrar & reseller & reseller\\_country & region & reg\\_period & registrant\\_country & renewal\\_status & renew\\_mbg & renew\\_type & autorenew\\_type & renew\\_date & renew\\_registrar & renew\\_reseller & reg\\_revenue & reg\\_arpt & renew\\_period & renew\\_domain\\_revenue & renew\\_arpt & reg\\_arpt\\_org & tld\\_registrar\\_index & sld & sld\\_type & sld\\_length & sld\\_type2 & day\\_domains & log\\_reg\\_arpt & gibb\\_score & pattern & cluster & pattern\\_score & pattern\\_domain\\_count & pred\\_df\\_seg2\\_glm & pred\\_df\\_seg\\_glm & pred\\_df\\_agg\\_glm & pred\\_df\\_seg2\\_rf & pred\\_df\\_seg\\_rf & pred\\_df\\_agg\\_rf\\\\\n",
       " <int> & <chr> & <int> & <date> & <chr> & <date> & <chr> & <fct> & <chr> & <chr> & <chr> & <chr> & <int> & <chr> & <fct> & <int> & <chr> & <chr> & <date> & <chr> & <chr> & <dbl> & <dbl> & <int> & <dbl> & <dbl> & <dbl> & <chr> & <chr> & <fct> & <int> & <chr> & <int> & <dbl> & <dbl> & <chr> & <chr> & <dbl> & <int> & <dbl> & <dbl> & <dbl> & <dbl> & <dbl> & <dbl>\\\\\n",
       "\\hline\n",
       "\t 1018925 & FirstTime & 1 & 2020-01-16 & eth.pw                 & 2016-01-16 & Active & pw      & name.com          & name.com          & United States & Non China & 4 & United States & Renewed    & 0 & renewal      & NULL & 2015-02-27 & Name.com          & Name.com          & 24.0 &  6.00 & 1 &  6.0 &  6.0 &  6.00 & pwname.com               & eth            & l &  3 & 3l  & 1 & 1.791759 & 8.89 & eth            & 1 & 1 & 1 & 0.99999903 & 0.322 & 0.484 & 0.7404987 & 0.5118349 & 0.4434424\\\\\n",
       "\t 1837805 & FirstTime & 1 & 2020-02-04 & kitetsumemo.in.net     & 2014-02-04 & Active & in.net  & gmo               & gmo               & Japan         & Non China & 6 & Japan         & Renewed    & 0 & renewal      & NULL & 2020-01-19 & GMO               & GMO               & 32.0 &  5.33 & 1 &  6.0 &  6.0 &  5.33 & in.netgmo                & kitetsumemo    & l & 11 & 11l & 1 & 1.673351 & 6.30 & kitetsumemo    & 1 & 1 & 1 & 1.00000000 & 0.940 & 0.724 & 0.7803139 & 0.6546858 & 0.4043908\\\\\n",
       "\t 2294288 & FirstTime & 1 & 2020-03-31 & issei.pw               & 2014-03-31 & Active & pw      & gmo               & gmo               & Japan         & Non China & 6 & Japan         & Not Renewd & 0 & auto-renewal & NULL & 2020-03-31 & GMO               & GMO               & 33.0 &  5.50 & 1 & 15.0 & 15.0 &  5.50 & pwgmo                    & issei          & l &  5 & 5l  & 1 & 1.704748 & 5.66 & issei          & 1 & 1 & 1 & 0.80186273 & 0.770 & 0.601 & 0.6163054 & 0.4580625 & 0.3594618\\\\\n",
       "\t 6752374 & FirstTime & 1 & 2020-01-04 & netbarg.website        & 2015-01-04 & Active & website & namecheap         & namecheap         & United States & Non China & 5 & Germany       & Renewed    & 0 & renewal      & NULL & 2019-12-05 & Namecheap         & Namecheap         & 17.5 &  3.50 & 1 &  7.5 &  7.5 &  3.50 & websitenamecheap         & netbarg        & l &  7 & 7l  & 1 & 1.252763 & 1.94 & netbarg        & 1 & 1 & 1 & 0.37871416 & 0.719 & 0.482 & 0.5009564 & 0.4438893 & 0.3763672\\\\\n",
       "\t 6758279 & FirstTime & 1 & 2020-01-06 & flyspringfield.website & 2015-01-06 & Active & website & enom              & enom              & United States & Non China & 5 & United States & Renewed    & 0 & renewal      & NULL & 2020-01-02 & eNom              & eNom              & 50.0 & 10.00 & 3 & 45.0 & 15.0 & 10.00 & websiteenom              & flyspringfield & l & 14 & 14l & 1 & 2.302585 & 4.44 & flyspringfield & 1 & 1 & 1 & 0.07396782 & 0.362 & 0.758 & 0.2022334 & 0.3703322 & 0.3475753\\\\\n",
       "\t 6758512 & FirstTime & 1 & 2020-01-06 & bosslife.website       & 2015-01-06 & Active & website & network solutions & network solutions & United States & Non China & 5 & United States & Renewed    & 0 & renewal      & NULL & 2019-11-07 & Network Solutions & Network Solutions & 75.0 & 15.00 & 5 & 75.0 & 15.0 & 15.00 & websitenetwork solutions & bosslife       & l &  8 & 8l  & 1 & 2.708050 & 4.59 & bosslife       & 1 & 1 & 1 & 1.00000000 & 0.943 & 0.829 & 0.8070811 & 0.8096157 & 0.6575082\\\\\n",
       "\\end{tabular}\n"
      ],
      "text/markdown": [
       "\n",
       "A data.table: 6 × 45\n",
       "\n",
       "| domain_id &lt;int&gt; | renewal_type &lt;chr&gt; | renewed_count &lt;int&gt; | expiry_date &lt;date&gt; | domain &lt;chr&gt; | creation_date &lt;date&gt; | status &lt;chr&gt; | tld &lt;fct&gt; | registrar &lt;chr&gt; | reseller &lt;chr&gt; | reseller_country &lt;chr&gt; | region &lt;chr&gt; | reg_period &lt;int&gt; | registrant_country &lt;chr&gt; | renewal_status &lt;fct&gt; | renew_mbg &lt;int&gt; | renew_type &lt;chr&gt; | autorenew_type &lt;chr&gt; | renew_date &lt;date&gt; | renew_registrar &lt;chr&gt; | renew_reseller &lt;chr&gt; | reg_revenue &lt;dbl&gt; | reg_arpt &lt;dbl&gt; | renew_period &lt;int&gt; | renew_domain_revenue &lt;dbl&gt; | renew_arpt &lt;dbl&gt; | reg_arpt_org &lt;dbl&gt; | tld_registrar_index &lt;chr&gt; | sld &lt;chr&gt; | sld_type &lt;fct&gt; | sld_length &lt;int&gt; | sld_type2 &lt;chr&gt; | day_domains &lt;int&gt; | log_reg_arpt &lt;dbl&gt; | gibb_score &lt;dbl&gt; | pattern &lt;chr&gt; | cluster &lt;chr&gt; | pattern_score &lt;dbl&gt; | pattern_domain_count &lt;int&gt; | pred_df_seg2_glm &lt;dbl&gt; | pred_df_seg_glm &lt;dbl&gt; | pred_df_agg_glm &lt;dbl&gt; | pred_df_seg2_rf &lt;dbl&gt; | pred_df_seg_rf &lt;dbl&gt; | pred_df_agg_rf &lt;dbl&gt; |\n",
       "|---|---|---|---|---|---|---|---|---|---|---|---|---|---|---|---|---|---|---|---|---|---|---|---|---|---|---|---|---|---|---|---|---|---|---|---|---|---|---|---|---|---|---|---|---|\n",
       "| 1018925 | FirstTime | 1 | 2020-01-16 | eth.pw                 | 2016-01-16 | Active | pw      | name.com          | name.com          | United States | Non China | 4 | United States | Renewed    | 0 | renewal      | NULL | 2015-02-27 | Name.com          | Name.com          | 24.0 |  6.00 | 1 |  6.0 |  6.0 |  6.00 | pwname.com               | eth            | l |  3 | 3l  | 1 | 1.791759 | 8.89 | eth            | 1 | 1 | 1 | 0.99999903 | 0.322 | 0.484 | 0.7404987 | 0.5118349 | 0.4434424 |\n",
       "| 1837805 | FirstTime | 1 | 2020-02-04 | kitetsumemo.in.net     | 2014-02-04 | Active | in.net  | gmo               | gmo               | Japan         | Non China | 6 | Japan         | Renewed    | 0 | renewal      | NULL | 2020-01-19 | GMO               | GMO               | 32.0 |  5.33 | 1 |  6.0 |  6.0 |  5.33 | in.netgmo                | kitetsumemo    | l | 11 | 11l | 1 | 1.673351 | 6.30 | kitetsumemo    | 1 | 1 | 1 | 1.00000000 | 0.940 | 0.724 | 0.7803139 | 0.6546858 | 0.4043908 |\n",
       "| 2294288 | FirstTime | 1 | 2020-03-31 | issei.pw               | 2014-03-31 | Active | pw      | gmo               | gmo               | Japan         | Non China | 6 | Japan         | Not Renewd | 0 | auto-renewal | NULL | 2020-03-31 | GMO               | GMO               | 33.0 |  5.50 | 1 | 15.0 | 15.0 |  5.50 | pwgmo                    | issei          | l |  5 | 5l  | 1 | 1.704748 | 5.66 | issei          | 1 | 1 | 1 | 0.80186273 | 0.770 | 0.601 | 0.6163054 | 0.4580625 | 0.3594618 |\n",
       "| 6752374 | FirstTime | 1 | 2020-01-04 | netbarg.website        | 2015-01-04 | Active | website | namecheap         | namecheap         | United States | Non China | 5 | Germany       | Renewed    | 0 | renewal      | NULL | 2019-12-05 | Namecheap         | Namecheap         | 17.5 |  3.50 | 1 |  7.5 |  7.5 |  3.50 | websitenamecheap         | netbarg        | l |  7 | 7l  | 1 | 1.252763 | 1.94 | netbarg        | 1 | 1 | 1 | 0.37871416 | 0.719 | 0.482 | 0.5009564 | 0.4438893 | 0.3763672 |\n",
       "| 6758279 | FirstTime | 1 | 2020-01-06 | flyspringfield.website | 2015-01-06 | Active | website | enom              | enom              | United States | Non China | 5 | United States | Renewed    | 0 | renewal      | NULL | 2020-01-02 | eNom              | eNom              | 50.0 | 10.00 | 3 | 45.0 | 15.0 | 10.00 | websiteenom              | flyspringfield | l | 14 | 14l | 1 | 2.302585 | 4.44 | flyspringfield | 1 | 1 | 1 | 0.07396782 | 0.362 | 0.758 | 0.2022334 | 0.3703322 | 0.3475753 |\n",
       "| 6758512 | FirstTime | 1 | 2020-01-06 | bosslife.website       | 2015-01-06 | Active | website | network solutions | network solutions | United States | Non China | 5 | United States | Renewed    | 0 | renewal      | NULL | 2019-11-07 | Network Solutions | Network Solutions | 75.0 | 15.00 | 5 | 75.0 | 15.0 | 15.00 | websitenetwork solutions | bosslife       | l |  8 | 8l  | 1 | 2.708050 | 4.59 | bosslife       | 1 | 1 | 1 | 1.00000000 | 0.943 | 0.829 | 0.8070811 | 0.8096157 | 0.6575082 |\n",
       "\n"
      ],
      "text/plain": [
       "  domain_id renewal_type renewed_count expiry_date domain                \n",
       "1 1018925   FirstTime    1             2020-01-16  eth.pw                \n",
       "2 1837805   FirstTime    1             2020-02-04  kitetsumemo.in.net    \n",
       "3 2294288   FirstTime    1             2020-03-31  issei.pw              \n",
       "4 6752374   FirstTime    1             2020-01-04  netbarg.website       \n",
       "5 6758279   FirstTime    1             2020-01-06  flyspringfield.website\n",
       "6 6758512   FirstTime    1             2020-01-06  bosslife.website      \n",
       "  creation_date status tld     registrar         reseller         \n",
       "1 2016-01-16    Active pw      name.com          name.com         \n",
       "2 2014-02-04    Active in.net  gmo               gmo              \n",
       "3 2014-03-31    Active pw      gmo               gmo              \n",
       "4 2015-01-04    Active website namecheap         namecheap        \n",
       "5 2015-01-06    Active website enom              enom             \n",
       "6 2015-01-06    Active website network solutions network solutions\n",
       "  reseller_country region    reg_period registrant_country renewal_status\n",
       "1 United States    Non China 4          United States      Renewed       \n",
       "2 Japan            Non China 6          Japan              Renewed       \n",
       "3 Japan            Non China 6          Japan              Not Renewd    \n",
       "4 United States    Non China 5          Germany            Renewed       \n",
       "5 United States    Non China 5          United States      Renewed       \n",
       "6 United States    Non China 5          United States      Renewed       \n",
       "  renew_mbg renew_type   autorenew_type renew_date renew_registrar  \n",
       "1 0         renewal      NULL           2015-02-27 Name.com         \n",
       "2 0         renewal      NULL           2020-01-19 GMO              \n",
       "3 0         auto-renewal NULL           2020-03-31 GMO              \n",
       "4 0         renewal      NULL           2019-12-05 Namecheap        \n",
       "5 0         renewal      NULL           2020-01-02 eNom             \n",
       "6 0         renewal      NULL           2019-11-07 Network Solutions\n",
       "  renew_reseller    reg_revenue reg_arpt renew_period renew_domain_revenue\n",
       "1 Name.com          24.0         6.00    1             6.0                \n",
       "2 GMO               32.0         5.33    1             6.0                \n",
       "3 GMO               33.0         5.50    1            15.0                \n",
       "4 Namecheap         17.5         3.50    1             7.5                \n",
       "5 eNom              50.0        10.00    3            45.0                \n",
       "6 Network Solutions 75.0        15.00    5            75.0                \n",
       "  renew_arpt reg_arpt_org tld_registrar_index      sld            sld_type\n",
       "1  6.0        6.00        pwname.com               eth            l       \n",
       "2  6.0        5.33        in.netgmo                kitetsumemo    l       \n",
       "3 15.0        5.50        pwgmo                    issei          l       \n",
       "4  7.5        3.50        websitenamecheap         netbarg        l       \n",
       "5 15.0       10.00        websiteenom              flyspringfield l       \n",
       "6 15.0       15.00        websitenetwork solutions bosslife       l       \n",
       "  sld_length sld_type2 day_domains log_reg_arpt gibb_score pattern       \n",
       "1  3         3l        1           1.791759     8.89       eth           \n",
       "2 11         11l       1           1.673351     6.30       kitetsumemo   \n",
       "3  5         5l        1           1.704748     5.66       issei         \n",
       "4  7         7l        1           1.252763     1.94       netbarg       \n",
       "5 14         14l       1           2.302585     4.44       flyspringfield\n",
       "6  8         8l        1           2.708050     4.59       bosslife      \n",
       "  cluster pattern_score pattern_domain_count pred_df_seg2_glm pred_df_seg_glm\n",
       "1 1       1             1                    0.99999903       0.322          \n",
       "2 1       1             1                    1.00000000       0.940          \n",
       "3 1       1             1                    0.80186273       0.770          \n",
       "4 1       1             1                    0.37871416       0.719          \n",
       "5 1       1             1                    0.07396782       0.362          \n",
       "6 1       1             1                    1.00000000       0.943          \n",
       "  pred_df_agg_glm pred_df_seg2_rf pred_df_seg_rf pred_df_agg_rf\n",
       "1 0.484           0.7404987       0.5118349      0.4434424     \n",
       "2 0.724           0.7803139       0.6546858      0.4043908     \n",
       "3 0.601           0.6163054       0.4580625      0.3594618     \n",
       "4 0.482           0.5009564       0.4438893      0.3763672     \n",
       "5 0.758           0.2022334       0.3703322      0.3475753     \n",
       "6 0.829           0.8070811       0.8096157      0.6575082     "
      ]
     },
     "metadata": {},
     "output_type": "display_data"
    }
   ],
   "source": [
    "#... so just do left merge\n",
    "test_predictions_df <- merge(expiry_test_df_1, \n",
    "                             predictions_df %>% select(pred_df_seg2_glm,pred_df_seg_glm,pred_df_agg_glm,pred_df_seg2_rf,\n",
    "                                                       pred_df_seg_rf,pred_df_agg_rf,domain_id),\n",
    "                            by=\"domain_id\",\n",
    "                            all.x=TRUE)\n",
    "dim(test_predictions_df)\n",
    "head(test_predictions_df)"
   ]
  },
  {
   "cell_type": "code",
   "execution_count": 17,
   "metadata": {},
   "outputs": [
    {
     "data": {
      "text/html": [
       "<style>\n",
       ".list-inline {list-style: none; margin:0; padding: 0}\n",
       ".list-inline>li {display: inline-block}\n",
       ".list-inline>li:not(:last-child)::after {content: \"\\00b7\"; padding: 0 .5ex}\n",
       "</style>\n",
       "<ol class=list-inline><li>'domain_id'</li><li>'renewal_type'</li><li>'renewed_count'</li><li>'expiry_date'</li><li>'domain'</li><li>'creation_date'</li><li>'status'</li><li>'tld'</li><li>'registrar'</li><li>'reseller'</li><li>'reseller_country'</li><li>'region'</li><li>'reg_period'</li><li>'registrant_country'</li><li>'renewal_status'</li><li>'renew_mbg'</li><li>'renew_type'</li><li>'autorenew_type'</li><li>'renew_date'</li><li>'renew_registrar'</li><li>'renew_reseller'</li><li>'reg_revenue'</li><li>'reg_arpt'</li><li>'renew_period'</li><li>'renew_domain_revenue'</li><li>'renew_arpt'</li><li>'reg_arpt_org'</li><li>'tld_registrar_index'</li><li>'sld'</li><li>'sld_type'</li><li>'sld_length'</li><li>'sld_type2'</li><li>'day_domains'</li><li>'log_reg_arpt'</li><li>'gibb_score'</li><li>'pattern'</li><li>'cluster'</li><li>'pattern_score'</li><li>'pattern_domain_count'</li><li>'pred_df_seg2_glm'</li><li>'pred_df_seg_glm'</li><li>'pred_df_agg_glm'</li><li>'pred_df_seg2_rf'</li><li>'pred_df_seg_rf'</li><li>'pred_df_agg_rf'</li></ol>\n"
      ],
      "text/latex": [
       "\\begin{enumerate*}\n",
       "\\item 'domain\\_id'\n",
       "\\item 'renewal\\_type'\n",
       "\\item 'renewed\\_count'\n",
       "\\item 'expiry\\_date'\n",
       "\\item 'domain'\n",
       "\\item 'creation\\_date'\n",
       "\\item 'status'\n",
       "\\item 'tld'\n",
       "\\item 'registrar'\n",
       "\\item 'reseller'\n",
       "\\item 'reseller\\_country'\n",
       "\\item 'region'\n",
       "\\item 'reg\\_period'\n",
       "\\item 'registrant\\_country'\n",
       "\\item 'renewal\\_status'\n",
       "\\item 'renew\\_mbg'\n",
       "\\item 'renew\\_type'\n",
       "\\item 'autorenew\\_type'\n",
       "\\item 'renew\\_date'\n",
       "\\item 'renew\\_registrar'\n",
       "\\item 'renew\\_reseller'\n",
       "\\item 'reg\\_revenue'\n",
       "\\item 'reg\\_arpt'\n",
       "\\item 'renew\\_period'\n",
       "\\item 'renew\\_domain\\_revenue'\n",
       "\\item 'renew\\_arpt'\n",
       "\\item 'reg\\_arpt\\_org'\n",
       "\\item 'tld\\_registrar\\_index'\n",
       "\\item 'sld'\n",
       "\\item 'sld\\_type'\n",
       "\\item 'sld\\_length'\n",
       "\\item 'sld\\_type2'\n",
       "\\item 'day\\_domains'\n",
       "\\item 'log\\_reg\\_arpt'\n",
       "\\item 'gibb\\_score'\n",
       "\\item 'pattern'\n",
       "\\item 'cluster'\n",
       "\\item 'pattern\\_score'\n",
       "\\item 'pattern\\_domain\\_count'\n",
       "\\item 'pred\\_df\\_seg2\\_glm'\n",
       "\\item 'pred\\_df\\_seg\\_glm'\n",
       "\\item 'pred\\_df\\_agg\\_glm'\n",
       "\\item 'pred\\_df\\_seg2\\_rf'\n",
       "\\item 'pred\\_df\\_seg\\_rf'\n",
       "\\item 'pred\\_df\\_agg\\_rf'\n",
       "\\end{enumerate*}\n"
      ],
      "text/markdown": [
       "1. 'domain_id'\n",
       "2. 'renewal_type'\n",
       "3. 'renewed_count'\n",
       "4. 'expiry_date'\n",
       "5. 'domain'\n",
       "6. 'creation_date'\n",
       "7. 'status'\n",
       "8. 'tld'\n",
       "9. 'registrar'\n",
       "10. 'reseller'\n",
       "11. 'reseller_country'\n",
       "12. 'region'\n",
       "13. 'reg_period'\n",
       "14. 'registrant_country'\n",
       "15. 'renewal_status'\n",
       "16. 'renew_mbg'\n",
       "17. 'renew_type'\n",
       "18. 'autorenew_type'\n",
       "19. 'renew_date'\n",
       "20. 'renew_registrar'\n",
       "21. 'renew_reseller'\n",
       "22. 'reg_revenue'\n",
       "23. 'reg_arpt'\n",
       "24. 'renew_period'\n",
       "25. 'renew_domain_revenue'\n",
       "26. 'renew_arpt'\n",
       "27. 'reg_arpt_org'\n",
       "28. 'tld_registrar_index'\n",
       "29. 'sld'\n",
       "30. 'sld_type'\n",
       "31. 'sld_length'\n",
       "32. 'sld_type2'\n",
       "33. 'day_domains'\n",
       "34. 'log_reg_arpt'\n",
       "35. 'gibb_score'\n",
       "36. 'pattern'\n",
       "37. 'cluster'\n",
       "38. 'pattern_score'\n",
       "39. 'pattern_domain_count'\n",
       "40. 'pred_df_seg2_glm'\n",
       "41. 'pred_df_seg_glm'\n",
       "42. 'pred_df_agg_glm'\n",
       "43. 'pred_df_seg2_rf'\n",
       "44. 'pred_df_seg_rf'\n",
       "45. 'pred_df_agg_rf'\n",
       "\n",
       "\n"
      ],
      "text/plain": [
       " [1] \"domain_id\"            \"renewal_type\"         \"renewed_count\"       \n",
       " [4] \"expiry_date\"          \"domain\"               \"creation_date\"       \n",
       " [7] \"status\"               \"tld\"                  \"registrar\"           \n",
       "[10] \"reseller\"             \"reseller_country\"     \"region\"              \n",
       "[13] \"reg_period\"           \"registrant_country\"   \"renewal_status\"      \n",
       "[16] \"renew_mbg\"            \"renew_type\"           \"autorenew_type\"      \n",
       "[19] \"renew_date\"           \"renew_registrar\"      \"renew_reseller\"      \n",
       "[22] \"reg_revenue\"          \"reg_arpt\"             \"renew_period\"        \n",
       "[25] \"renew_domain_revenue\" \"renew_arpt\"           \"reg_arpt_org\"        \n",
       "[28] \"tld_registrar_index\"  \"sld\"                  \"sld_type\"            \n",
       "[31] \"sld_length\"           \"sld_type2\"            \"day_domains\"         \n",
       "[34] \"log_reg_arpt\"         \"gibb_score\"           \"pattern\"             \n",
       "[37] \"cluster\"              \"pattern_score\"        \"pattern_domain_count\"\n",
       "[40] \"pred_df_seg2_glm\"     \"pred_df_seg_glm\"      \"pred_df_agg_glm\"     \n",
       "[43] \"pred_df_seg2_rf\"      \"pred_df_seg_rf\"       \"pred_df_agg_rf\"      "
      ]
     },
     "metadata": {},
     "output_type": "display_data"
    }
   ],
   "source": [
    "names(test_predictions_df)"
   ]
  },
  {
   "cell_type": "markdown",
   "metadata": {},
   "source": [
    "### create reseller_geo and reg_arpt_slab variables to (along with tld) merge with npv_fallback_first_geo_arpt_tld"
   ]
  },
  {
   "cell_type": "markdown",
   "metadata": {},
   "source": [
    "#### reseller_geo"
   ]
  },
  {
   "cell_type": "code",
   "execution_count": 18,
   "metadata": {},
   "outputs": [
    {
     "data": {
      "text/html": [
       "<table>\n",
       "<caption>A data.frame: 6 × 3</caption>\n",
       "<thead>\n",
       "\t<tr><th></th><th scope=col>reseller</th><th scope=col>reseller_country</th><th scope=col>reseller_geo</th></tr>\n",
       "\t<tr><th></th><th scope=col>&lt;fct&gt;</th><th scope=col>&lt;fct&gt;</th><th scope=col>&lt;fct&gt;</th></tr>\n",
       "</thead>\n",
       "<tbody>\n",
       "\t<tr><th scope=row>1</th><td>007names           </td><td>United States</td><td>United States</td></tr>\n",
       "\t<tr><th scope=row>2</th><td>0101 internet      </td><td>Hong Kong    </td><td>China        </td></tr>\n",
       "\t<tr><th scope=row>3</th><td><span style=white-space:pre-wrap>1&amp;1 internet       </span></td><td><span style=white-space:pre-wrap>Germany      </span></td><td><span style=white-space:pre-wrap>EU           </span></td></tr>\n",
       "\t<tr><th scope=row>4</th><td>101 domain         </td><td>United States</td><td>United States</td></tr>\n",
       "\t<tr><th scope=row>5</th><td>101domain discovery</td><td>Germany      </td><td>EU           </td></tr>\n",
       "\t<tr><th scope=row>6</th><td>10dencehispahard   </td><td>Spain        </td><td>EU           </td></tr>\n",
       "</tbody>\n",
       "</table>\n"
      ],
      "text/latex": [
       "A data.frame: 6 × 3\n",
       "\\begin{tabular}{r|lll}\n",
       "  & reseller & reseller\\_country & reseller\\_geo\\\\\n",
       "  & <fct> & <fct> & <fct>\\\\\n",
       "\\hline\n",
       "\t1 & 007names            & United States & United States\\\\\n",
       "\t2 & 0101 internet       & Hong Kong     & China        \\\\\n",
       "\t3 & 1\\&1 internet        & Germany       & EU           \\\\\n",
       "\t4 & 101 domain          & United States & United States\\\\\n",
       "\t5 & 101domain discovery & Germany       & EU           \\\\\n",
       "\t6 & 10dencehispahard    & Spain         & EU           \\\\\n",
       "\\end{tabular}\n"
      ],
      "text/markdown": [
       "\n",
       "A data.frame: 6 × 3\n",
       "\n",
       "| <!--/--> | reseller &lt;fct&gt; | reseller_country &lt;fct&gt; | reseller_geo &lt;fct&gt; |\n",
       "|---|---|---|---|\n",
       "| 1 | 007names            | United States | United States |\n",
       "| 2 | 0101 internet       | Hong Kong     | China         |\n",
       "| 3 | 1&amp;1 internet        | Germany       | EU            |\n",
       "| 4 | 101 domain          | United States | United States |\n",
       "| 5 | 101domain discovery | Germany       | EU            |\n",
       "| 6 | 10dencehispahard    | Spain         | EU            |\n",
       "\n"
      ],
      "text/plain": [
       "  reseller            reseller_country reseller_geo \n",
       "1 007names            United States    United States\n",
       "2 0101 internet       Hong Kong        China        \n",
       "3 1&1 internet        Germany          EU           \n",
       "4 101 domain          United States    United States\n",
       "5 101domain discovery Germany          EU           \n",
       "6 10dencehispahard    Spain            EU           "
      ]
     },
     "metadata": {},
     "output_type": "display_data"
    }
   ],
   "source": [
    "anomalyDF <- read.csv(\"/home/jupyter/local/Domains_202003/data/PredictiveModelAnalysis_AnomalyRegistrars.csv\")\n",
    "anomalyDF <- apply(anomalyDF, 2, function(x) trimws(x,which = c(\"both\")) )\n",
    "geoLookupDF <- unique(anomalyDF[,c('reseller','reseller_country','reseller_geo')])\n",
    "geoLookupDF <- as.data.frame(geoLookupDF)\n",
    "head(geoLookupDF)"
   ]
  },
  {
   "cell_type": "code",
   "execution_count": 19,
   "metadata": {},
   "outputs": [
    {
     "data": {
      "text/html": [
       "<table>\n",
       "<caption>A data.table: 6 × 2</caption>\n",
       "<thead>\n",
       "\t<tr><th scope=col>reseller</th><th scope=col>reseller_country</th></tr>\n",
       "\t<tr><th scope=col>&lt;chr&gt;</th><th scope=col>&lt;chr&gt;</th></tr>\n",
       "</thead>\n",
       "<tbody>\n",
       "\t<tr><td>name.com         </td><td>United States</td></tr>\n",
       "\t<tr><td>gmo              </td><td>Japan        </td></tr>\n",
       "\t<tr><td>gmo              </td><td>Japan        </td></tr>\n",
       "\t<tr><td>namecheap        </td><td>United States</td></tr>\n",
       "\t<tr><td>enom             </td><td>United States</td></tr>\n",
       "\t<tr><td>network solutions</td><td>United States</td></tr>\n",
       "</tbody>\n",
       "</table>\n"
      ],
      "text/latex": [
       "A data.table: 6 × 2\n",
       "\\begin{tabular}{ll}\n",
       " reseller & reseller\\_country\\\\\n",
       " <chr> & <chr>\\\\\n",
       "\\hline\n",
       "\t name.com          & United States\\\\\n",
       "\t gmo               & Japan        \\\\\n",
       "\t gmo               & Japan        \\\\\n",
       "\t namecheap         & United States\\\\\n",
       "\t enom              & United States\\\\\n",
       "\t network solutions & United States\\\\\n",
       "\\end{tabular}\n"
      ],
      "text/markdown": [
       "\n",
       "A data.table: 6 × 2\n",
       "\n",
       "| reseller &lt;chr&gt; | reseller_country &lt;chr&gt; |\n",
       "|---|---|\n",
       "| name.com          | United States |\n",
       "| gmo               | Japan         |\n",
       "| gmo               | Japan         |\n",
       "| namecheap         | United States |\n",
       "| enom              | United States |\n",
       "| network solutions | United States |\n",
       "\n"
      ],
      "text/plain": [
       "  reseller          reseller_country\n",
       "1 name.com          United States   \n",
       "2 gmo               Japan           \n",
       "3 gmo               Japan           \n",
       "4 namecheap         United States   \n",
       "5 enom              United States   \n",
       "6 network solutions United States   "
      ]
     },
     "metadata": {},
     "output_type": "display_data"
    },
    {
     "data": {
      "text/html": [
       "<table>\n",
       "<caption>A data.frame: 6 × 2</caption>\n",
       "<thead>\n",
       "\t<tr><th></th><th scope=col>reseller</th><th scope=col>reseller_country</th></tr>\n",
       "\t<tr><th></th><th scope=col>&lt;fct&gt;</th><th scope=col>&lt;fct&gt;</th></tr>\n",
       "</thead>\n",
       "<tbody>\n",
       "\t<tr><th scope=row>1</th><td>007names           </td><td>United States</td></tr>\n",
       "\t<tr><th scope=row>2</th><td>0101 internet      </td><td>Hong Kong    </td></tr>\n",
       "\t<tr><th scope=row>3</th><td><span style=white-space:pre-wrap>1&amp;1 internet       </span></td><td><span style=white-space:pre-wrap>Germany      </span></td></tr>\n",
       "\t<tr><th scope=row>4</th><td>101 domain         </td><td>United States</td></tr>\n",
       "\t<tr><th scope=row>5</th><td>101domain discovery</td><td>Germany      </td></tr>\n",
       "\t<tr><th scope=row>6</th><td>10dencehispahard   </td><td>Spain        </td></tr>\n",
       "</tbody>\n",
       "</table>\n"
      ],
      "text/latex": [
       "A data.frame: 6 × 2\n",
       "\\begin{tabular}{r|ll}\n",
       "  & reseller & reseller\\_country\\\\\n",
       "  & <fct> & <fct>\\\\\n",
       "\\hline\n",
       "\t1 & 007names            & United States\\\\\n",
       "\t2 & 0101 internet       & Hong Kong    \\\\\n",
       "\t3 & 1\\&1 internet        & Germany      \\\\\n",
       "\t4 & 101 domain          & United States\\\\\n",
       "\t5 & 101domain discovery & Germany      \\\\\n",
       "\t6 & 10dencehispahard    & Spain        \\\\\n",
       "\\end{tabular}\n"
      ],
      "text/markdown": [
       "\n",
       "A data.frame: 6 × 2\n",
       "\n",
       "| <!--/--> | reseller &lt;fct&gt; | reseller_country &lt;fct&gt; |\n",
       "|---|---|---|\n",
       "| 1 | 007names            | United States |\n",
       "| 2 | 0101 internet       | Hong Kong     |\n",
       "| 3 | 1&amp;1 internet        | Germany       |\n",
       "| 4 | 101 domain          | United States |\n",
       "| 5 | 101domain discovery | Germany       |\n",
       "| 6 | 10dencehispahard    | Spain         |\n",
       "\n"
      ],
      "text/plain": [
       "  reseller            reseller_country\n",
       "1 007names            United States   \n",
       "2 0101 internet       Hong Kong       \n",
       "3 1&1 internet        Germany         \n",
       "4 101 domain          United States   \n",
       "5 101domain discovery Germany         \n",
       "6 10dencehispahard    Spain           "
      ]
     },
     "metadata": {},
     "output_type": "display_data"
    }
   ],
   "source": [
    "head(test_predictions_df[,c('reseller','reseller_country')])\n",
    "head(geoLookupDF[,c('reseller','reseller_country')])"
   ]
  },
  {
   "cell_type": "code",
   "execution_count": 20,
   "metadata": {},
   "outputs": [
    {
     "data": {
      "text/html": [
       "<style>\n",
       ".list-inline {list-style: none; margin:0; padding: 0}\n",
       ".list-inline>li {display: inline-block}\n",
       ".list-inline>li:not(:last-child)::after {content: \"\\00b7\"; padding: 0 .5ex}\n",
       "</style>\n",
       "<ol class=list-inline><li>296797</li><li>45</li></ol>\n"
      ],
      "text/latex": [
       "\\begin{enumerate*}\n",
       "\\item 296797\n",
       "\\item 45\n",
       "\\end{enumerate*}\n"
      ],
      "text/markdown": [
       "1. 296797\n",
       "2. 45\n",
       "\n",
       "\n"
      ],
      "text/plain": [
       "[1] 296797     45"
      ]
     },
     "metadata": {},
     "output_type": "display_data"
    },
    {
     "data": {
      "text/html": [
       "<style>\n",
       ".list-inline {list-style: none; margin:0; padding: 0}\n",
       ".list-inline>li {display: inline-block}\n",
       ".list-inline>li:not(:last-child)::after {content: \"\\00b7\"; padding: 0 .5ex}\n",
       "</style>\n",
       "<ol class=list-inline><li>296797</li><li>46</li></ol>\n"
      ],
      "text/latex": [
       "\\begin{enumerate*}\n",
       "\\item 296797\n",
       "\\item 46\n",
       "\\end{enumerate*}\n"
      ],
      "text/markdown": [
       "1. 296797\n",
       "2. 46\n",
       "\n",
       "\n"
      ],
      "text/plain": [
       "[1] 296797     46"
      ]
     },
     "metadata": {},
     "output_type": "display_data"
    },
    {
     "data": {
      "text/html": [
       "<table>\n",
       "<caption>A data.frame: 6 × 46</caption>\n",
       "<thead>\n",
       "\t<tr><th></th><th scope=col>reseller</th><th scope=col>reseller_country</th><th scope=col>domain_id</th><th scope=col>renewal_type</th><th scope=col>renewed_count</th><th scope=col>expiry_date</th><th scope=col>domain</th><th scope=col>creation_date</th><th scope=col>status</th><th scope=col>tld</th><th scope=col>registrar</th><th scope=col>region</th><th scope=col>reg_period</th><th scope=col>registrant_country</th><th scope=col>renewal_status</th><th scope=col>renew_mbg</th><th scope=col>renew_type</th><th scope=col>autorenew_type</th><th scope=col>renew_date</th><th scope=col>renew_registrar</th><th scope=col>renew_reseller</th><th scope=col>reg_revenue</th><th scope=col>reg_arpt</th><th scope=col>renew_period</th><th scope=col>renew_domain_revenue</th><th scope=col>renew_arpt</th><th scope=col>reg_arpt_org</th><th scope=col>tld_registrar_index</th><th scope=col>sld</th><th scope=col>sld_type</th><th scope=col>sld_length</th><th scope=col>sld_type2</th><th scope=col>day_domains</th><th scope=col>log_reg_arpt</th><th scope=col>gibb_score</th><th scope=col>pattern</th><th scope=col>cluster</th><th scope=col>pattern_score</th><th scope=col>pattern_domain_count</th><th scope=col>pred_df_seg2_glm</th><th scope=col>pred_df_seg_glm</th><th scope=col>pred_df_agg_glm</th><th scope=col>pred_df_seg2_rf</th><th scope=col>pred_df_seg_rf</th><th scope=col>pred_df_agg_rf</th><th scope=col>reseller_geo</th></tr>\n",
       "\t<tr><th></th><th scope=col>&lt;chr&gt;</th><th scope=col>&lt;chr&gt;</th><th scope=col>&lt;int&gt;</th><th scope=col>&lt;chr&gt;</th><th scope=col>&lt;int&gt;</th><th scope=col>&lt;date&gt;</th><th scope=col>&lt;chr&gt;</th><th scope=col>&lt;date&gt;</th><th scope=col>&lt;chr&gt;</th><th scope=col>&lt;fct&gt;</th><th scope=col>&lt;chr&gt;</th><th scope=col>&lt;chr&gt;</th><th scope=col>&lt;int&gt;</th><th scope=col>&lt;chr&gt;</th><th scope=col>&lt;fct&gt;</th><th scope=col>&lt;int&gt;</th><th scope=col>&lt;chr&gt;</th><th scope=col>&lt;chr&gt;</th><th scope=col>&lt;date&gt;</th><th scope=col>&lt;chr&gt;</th><th scope=col>&lt;chr&gt;</th><th scope=col>&lt;dbl&gt;</th><th scope=col>&lt;dbl&gt;</th><th scope=col>&lt;int&gt;</th><th scope=col>&lt;dbl&gt;</th><th scope=col>&lt;dbl&gt;</th><th scope=col>&lt;dbl&gt;</th><th scope=col>&lt;chr&gt;</th><th scope=col>&lt;chr&gt;</th><th scope=col>&lt;fct&gt;</th><th scope=col>&lt;int&gt;</th><th scope=col>&lt;chr&gt;</th><th scope=col>&lt;int&gt;</th><th scope=col>&lt;dbl&gt;</th><th scope=col>&lt;dbl&gt;</th><th scope=col>&lt;chr&gt;</th><th scope=col>&lt;chr&gt;</th><th scope=col>&lt;dbl&gt;</th><th scope=col>&lt;int&gt;</th><th scope=col>&lt;dbl&gt;</th><th scope=col>&lt;dbl&gt;</th><th scope=col>&lt;dbl&gt;</th><th scope=col>&lt;dbl&gt;</th><th scope=col>&lt;dbl&gt;</th><th scope=col>&lt;dbl&gt;</th><th scope=col>&lt;fct&gt;</th></tr>\n",
       "</thead>\n",
       "<tbody>\n",
       "\t<tr><th scope=row>1</th><td>1&amp;1 internet</td><td>Germany</td><td>101703069</td><td>FirstTime</td><td>1</td><td>2020-04-24</td><td><span style=white-space:pre-wrap>yogaraum.online   </span></td><td>2019-04-24</td><td>Active</td><td>online</td><td>1&amp;1 internet</td><td>Non China</td><td>1</td><td>NA</td><td><span style=white-space:pre-wrap>Renewed   </span></td><td>0</td><td>auto-renewal</td><td><span style=white-space:pre-wrap>realized  </span></td><td>2020-04-24</td><td>1&amp;1 Internet</td><td>1&amp;1 Internet</td><td> 0</td><td> 0.0001</td><td>1</td><td> 9</td><td> 9</td><td> 0</td><td>online1&amp;1 internet</td><td><span style=white-space:pre-wrap>yogaraum   </span></td><td><span style=white-space:pre-wrap>l       </span></td><td> 8</td><td><span style=white-space:pre-wrap>8l        </span></td><td>13</td><td>-9.210340</td><td>3.73</td><td>2 </td><td><span style=white-space:pre-wrap>yogaraum   </span></td><td>0.005917160</td><td>1</td><td>0.4857198</td><td>0.491</td><td>0.403</td><td>0.6758974</td><td>0.6667279</td><td>0.6241976</td><td>EU</td></tr>\n",
       "\t<tr><th scope=row>2</th><td>1&amp;1 internet</td><td>Germany</td><td> 91056433</td><td>FirstTime</td><td>1</td><td>2020-01-15</td><td><span style=white-space:pre-wrap>b2i.online        </span></td><td>2019-01-15</td><td>Active</td><td>online</td><td>1&amp;1 internet</td><td>Non China</td><td>1</td><td>NA</td><td>Not Renewd</td><td>0</td><td>auto-renewal</td><td>unrealized</td><td>2020-01-15</td><td>1&amp;1 Internet</td><td>1&amp;1 Internet</td><td> 5</td><td> 5.0000</td><td>1</td><td>25</td><td>25</td><td> 5</td><td>online1&amp;1 internet</td><td><span style=white-space:pre-wrap>b2i        </span></td><td><span style=white-space:pre-wrap>ln      </span></td><td> 3</td><td><span style=white-space:pre-wrap>3ln       </span></td><td>25</td><td> 1.609438</td><td>3.57</td><td>21</td><td><span style=white-space:pre-wrap>b2i        </span></td><td>0.001600000</td><td>1</td><td>0.4943012</td><td>0.501</td><td>0.393</td><td>0.6151921</td><td>0.6019267</td><td>0.5908605</td><td>EU</td></tr>\n",
       "\t<tr><th scope=row>3</th><td>1&amp;1 internet</td><td>Germany</td><td> 97680624</td><td>FirstTime</td><td>1</td><td>2020-03-23</td><td><span style=white-space:pre-wrap>get3d.online      </span></td><td>2019-03-23</td><td>Active</td><td>online</td><td>1&amp;1 internet</td><td>Non China</td><td>1</td><td>NA</td><td><span style=white-space:pre-wrap>Renewed   </span></td><td>0</td><td>auto-renewal</td><td><span style=white-space:pre-wrap>realized  </span></td><td>2020-03-23</td><td>1&amp;1 Internet</td><td>1&amp;1 Internet</td><td> 0</td><td> 0.0001</td><td>1</td><td> 9</td><td> 9</td><td> 0</td><td>online1&amp;1 internet</td><td><span style=white-space:pre-wrap>get3d      </span></td><td><span style=white-space:pre-wrap>ln      </span></td><td> 5</td><td><span style=white-space:pre-wrap>5ln       </span></td><td> 6</td><td>-9.210340</td><td>0.63</td><td>6 </td><td><span style=white-space:pre-wrap>get3d      </span></td><td>0.027777778</td><td>1</td><td>0.4275131</td><td>0.432</td><td>0.269</td><td>0.4756694</td><td>0.4035293</td><td>0.4261295</td><td>EU</td></tr>\n",
       "\t<tr><th scope=row>4</th><td>1&amp;1 internet</td><td>Germany</td><td> 60260863</td><td>FirstTime</td><td>1</td><td>2020-01-29</td><td>mob-it-alia.online</td><td>2018-01-29</td><td>Active</td><td>online</td><td>1&amp;1 internet</td><td>Non China</td><td>2</td><td>NA</td><td><span style=white-space:pre-wrap>Renewed   </span></td><td>0</td><td>auto-renewal</td><td><span style=white-space:pre-wrap>realized  </span></td><td>2020-01-29</td><td>1&amp;1 Internet</td><td>1&amp;1 Internet</td><td>30</td><td>15.0000</td><td>1</td><td>25</td><td>25</td><td>15</td><td>online1&amp;1 internet</td><td>mob-it-alia</td><td>hyphen-l</td><td>11</td><td>11hyphen-l</td><td> 3</td><td> 2.708050</td><td>4.76</td><td>1 </td><td>mob-it-alia</td><td>0.111111111</td><td>1</td><td>0.6278206</td><td>0.620</td><td>0.670</td><td>0.6279631</td><td>0.5926415</td><td>0.5680841</td><td>EU</td></tr>\n",
       "\t<tr><th scope=row>5</th><td>1&amp;1 internet</td><td>Germany</td><td>102370019</td><td>FirstTime</td><td>1</td><td>2020-04-29</td><td>fusion-web.online </td><td>2019-04-29</td><td>Active</td><td>online</td><td>1&amp;1 internet</td><td>Non China</td><td>1</td><td>NA</td><td><span style=white-space:pre-wrap>Renewed   </span></td><td>0</td><td>auto-renewal</td><td><span style=white-space:pre-wrap>realized  </span></td><td>2020-04-29</td><td>1&amp;1 Internet</td><td>1&amp;1 Internet</td><td> 0</td><td> 0.0001</td><td>1</td><td>25</td><td>25</td><td> 0</td><td>online1&amp;1 internet</td><td>fusion-web </td><td>hyphen-l</td><td>10</td><td>10hyphen-l</td><td>18</td><td>-9.210340</td><td>3.00</td><td>7 </td><td>fusion-web </td><td>0.003086420</td><td>1</td><td>0.5592457</td><td>0.563</td><td>0.413</td><td>0.5777930</td><td>0.5547513</td><td>0.5591712</td><td>EU</td></tr>\n",
       "\t<tr><th scope=row>6</th><td>1&amp;1 internet</td><td>Germany</td><td> 99438074</td><td>FirstTime</td><td>1</td><td>2020-04-09</td><td><span style=white-space:pre-wrap>eclipso.online    </span></td><td>2019-04-09</td><td>Active</td><td>online</td><td>1&amp;1 internet</td><td>Non China</td><td>1</td><td>NA</td><td>Not Renewd</td><td>0</td><td>auto-renewal</td><td>unrealized</td><td>2020-04-09</td><td>1&amp;1 Internet</td><td>1&amp;1 Internet</td><td> 0</td><td> 0.0001</td><td>1</td><td>25</td><td>25</td><td> 0</td><td>online1&amp;1 internet</td><td><span style=white-space:pre-wrap>eclipso    </span></td><td><span style=white-space:pre-wrap>l       </span></td><td> 7</td><td><span style=white-space:pre-wrap>7l        </span></td><td>11</td><td>-9.210340</td><td>3.07</td><td>6 </td><td><span style=white-space:pre-wrap>eclipso    </span></td><td>0.008264463</td><td>1</td><td>0.4950218</td><td>0.501</td><td>0.406</td><td>0.5586089</td><td>0.5506126</td><td>0.5202133</td><td>EU</td></tr>\n",
       "</tbody>\n",
       "</table>\n"
      ],
      "text/latex": [
       "A data.frame: 6 × 46\n",
       "\\begin{tabular}{r|llllllllllllllllllllllllllllllllllllllllllllll}\n",
       "  & reseller & reseller\\_country & domain\\_id & renewal\\_type & renewed\\_count & expiry\\_date & domain & creation\\_date & status & tld & registrar & region & reg\\_period & registrant\\_country & renewal\\_status & renew\\_mbg & renew\\_type & autorenew\\_type & renew\\_date & renew\\_registrar & renew\\_reseller & reg\\_revenue & reg\\_arpt & renew\\_period & renew\\_domain\\_revenue & renew\\_arpt & reg\\_arpt\\_org & tld\\_registrar\\_index & sld & sld\\_type & sld\\_length & sld\\_type2 & day\\_domains & log\\_reg\\_arpt & gibb\\_score & pattern & cluster & pattern\\_score & pattern\\_domain\\_count & pred\\_df\\_seg2\\_glm & pred\\_df\\_seg\\_glm & pred\\_df\\_agg\\_glm & pred\\_df\\_seg2\\_rf & pred\\_df\\_seg\\_rf & pred\\_df\\_agg\\_rf & reseller\\_geo\\\\\n",
       "  & <chr> & <chr> & <int> & <chr> & <int> & <date> & <chr> & <date> & <chr> & <fct> & <chr> & <chr> & <int> & <chr> & <fct> & <int> & <chr> & <chr> & <date> & <chr> & <chr> & <dbl> & <dbl> & <int> & <dbl> & <dbl> & <dbl> & <chr> & <chr> & <fct> & <int> & <chr> & <int> & <dbl> & <dbl> & <chr> & <chr> & <dbl> & <int> & <dbl> & <dbl> & <dbl> & <dbl> & <dbl> & <dbl> & <fct>\\\\\n",
       "\\hline\n",
       "\t1 & 1\\&1 internet & Germany & 101703069 & FirstTime & 1 & 2020-04-24 & yogaraum.online    & 2019-04-24 & Active & online & 1\\&1 internet & Non China & 1 & NA & Renewed    & 0 & auto-renewal & realized   & 2020-04-24 & 1\\&1 Internet & 1\\&1 Internet &  0 &  0.0001 & 1 &  9 &  9 &  0 & online1\\&1 internet & yogaraum    & l        &  8 & 8l         & 13 & -9.210340 & 3.73 & 2  & yogaraum    & 0.005917160 & 1 & 0.4857198 & 0.491 & 0.403 & 0.6758974 & 0.6667279 & 0.6241976 & EU\\\\\n",
       "\t2 & 1\\&1 internet & Germany &  91056433 & FirstTime & 1 & 2020-01-15 & b2i.online         & 2019-01-15 & Active & online & 1\\&1 internet & Non China & 1 & NA & Not Renewd & 0 & auto-renewal & unrealized & 2020-01-15 & 1\\&1 Internet & 1\\&1 Internet &  5 &  5.0000 & 1 & 25 & 25 &  5 & online1\\&1 internet & b2i         & ln       &  3 & 3ln        & 25 &  1.609438 & 3.57 & 21 & b2i         & 0.001600000 & 1 & 0.4943012 & 0.501 & 0.393 & 0.6151921 & 0.6019267 & 0.5908605 & EU\\\\\n",
       "\t3 & 1\\&1 internet & Germany &  97680624 & FirstTime & 1 & 2020-03-23 & get3d.online       & 2019-03-23 & Active & online & 1\\&1 internet & Non China & 1 & NA & Renewed    & 0 & auto-renewal & realized   & 2020-03-23 & 1\\&1 Internet & 1\\&1 Internet &  0 &  0.0001 & 1 &  9 &  9 &  0 & online1\\&1 internet & get3d       & ln       &  5 & 5ln        &  6 & -9.210340 & 0.63 & 6  & get3d       & 0.027777778 & 1 & 0.4275131 & 0.432 & 0.269 & 0.4756694 & 0.4035293 & 0.4261295 & EU\\\\\n",
       "\t4 & 1\\&1 internet & Germany &  60260863 & FirstTime & 1 & 2020-01-29 & mob-it-alia.online & 2018-01-29 & Active & online & 1\\&1 internet & Non China & 2 & NA & Renewed    & 0 & auto-renewal & realized   & 2020-01-29 & 1\\&1 Internet & 1\\&1 Internet & 30 & 15.0000 & 1 & 25 & 25 & 15 & online1\\&1 internet & mob-it-alia & hyphen-l & 11 & 11hyphen-l &  3 &  2.708050 & 4.76 & 1  & mob-it-alia & 0.111111111 & 1 & 0.6278206 & 0.620 & 0.670 & 0.6279631 & 0.5926415 & 0.5680841 & EU\\\\\n",
       "\t5 & 1\\&1 internet & Germany & 102370019 & FirstTime & 1 & 2020-04-29 & fusion-web.online  & 2019-04-29 & Active & online & 1\\&1 internet & Non China & 1 & NA & Renewed    & 0 & auto-renewal & realized   & 2020-04-29 & 1\\&1 Internet & 1\\&1 Internet &  0 &  0.0001 & 1 & 25 & 25 &  0 & online1\\&1 internet & fusion-web  & hyphen-l & 10 & 10hyphen-l & 18 & -9.210340 & 3.00 & 7  & fusion-web  & 0.003086420 & 1 & 0.5592457 & 0.563 & 0.413 & 0.5777930 & 0.5547513 & 0.5591712 & EU\\\\\n",
       "\t6 & 1\\&1 internet & Germany &  99438074 & FirstTime & 1 & 2020-04-09 & eclipso.online     & 2019-04-09 & Active & online & 1\\&1 internet & Non China & 1 & NA & Not Renewd & 0 & auto-renewal & unrealized & 2020-04-09 & 1\\&1 Internet & 1\\&1 Internet &  0 &  0.0001 & 1 & 25 & 25 &  0 & online1\\&1 internet & eclipso     & l        &  7 & 7l         & 11 & -9.210340 & 3.07 & 6  & eclipso     & 0.008264463 & 1 & 0.4950218 & 0.501 & 0.406 & 0.5586089 & 0.5506126 & 0.5202133 & EU\\\\\n",
       "\\end{tabular}\n"
      ],
      "text/markdown": [
       "\n",
       "A data.frame: 6 × 46\n",
       "\n",
       "| <!--/--> | reseller &lt;chr&gt; | reseller_country &lt;chr&gt; | domain_id &lt;int&gt; | renewal_type &lt;chr&gt; | renewed_count &lt;int&gt; | expiry_date &lt;date&gt; | domain &lt;chr&gt; | creation_date &lt;date&gt; | status &lt;chr&gt; | tld &lt;fct&gt; | registrar &lt;chr&gt; | region &lt;chr&gt; | reg_period &lt;int&gt; | registrant_country &lt;chr&gt; | renewal_status &lt;fct&gt; | renew_mbg &lt;int&gt; | renew_type &lt;chr&gt; | autorenew_type &lt;chr&gt; | renew_date &lt;date&gt; | renew_registrar &lt;chr&gt; | renew_reseller &lt;chr&gt; | reg_revenue &lt;dbl&gt; | reg_arpt &lt;dbl&gt; | renew_period &lt;int&gt; | renew_domain_revenue &lt;dbl&gt; | renew_arpt &lt;dbl&gt; | reg_arpt_org &lt;dbl&gt; | tld_registrar_index &lt;chr&gt; | sld &lt;chr&gt; | sld_type &lt;fct&gt; | sld_length &lt;int&gt; | sld_type2 &lt;chr&gt; | day_domains &lt;int&gt; | log_reg_arpt &lt;dbl&gt; | gibb_score &lt;dbl&gt; | pattern &lt;chr&gt; | cluster &lt;chr&gt; | pattern_score &lt;dbl&gt; | pattern_domain_count &lt;int&gt; | pred_df_seg2_glm &lt;dbl&gt; | pred_df_seg_glm &lt;dbl&gt; | pred_df_agg_glm &lt;dbl&gt; | pred_df_seg2_rf &lt;dbl&gt; | pred_df_seg_rf &lt;dbl&gt; | pred_df_agg_rf &lt;dbl&gt; | reseller_geo &lt;fct&gt; |\n",
       "|---|---|---|---|---|---|---|---|---|---|---|---|---|---|---|---|---|---|---|---|---|---|---|---|---|---|---|---|---|---|---|---|---|---|---|---|---|---|---|---|---|---|---|---|---|---|---|\n",
       "| 1 | 1&amp;1 internet | Germany | 101703069 | FirstTime | 1 | 2020-04-24 | yogaraum.online    | 2019-04-24 | Active | online | 1&amp;1 internet | Non China | 1 | NA | Renewed    | 0 | auto-renewal | realized   | 2020-04-24 | 1&amp;1 Internet | 1&amp;1 Internet |  0 |  0.0001 | 1 |  9 |  9 |  0 | online1&amp;1 internet | yogaraum    | l        |  8 | 8l         | 13 | -9.210340 | 3.73 | 2  | yogaraum    | 0.005917160 | 1 | 0.4857198 | 0.491 | 0.403 | 0.6758974 | 0.6667279 | 0.6241976 | EU |\n",
       "| 2 | 1&amp;1 internet | Germany |  91056433 | FirstTime | 1 | 2020-01-15 | b2i.online         | 2019-01-15 | Active | online | 1&amp;1 internet | Non China | 1 | NA | Not Renewd | 0 | auto-renewal | unrealized | 2020-01-15 | 1&amp;1 Internet | 1&amp;1 Internet |  5 |  5.0000 | 1 | 25 | 25 |  5 | online1&amp;1 internet | b2i         | ln       |  3 | 3ln        | 25 |  1.609438 | 3.57 | 21 | b2i         | 0.001600000 | 1 | 0.4943012 | 0.501 | 0.393 | 0.6151921 | 0.6019267 | 0.5908605 | EU |\n",
       "| 3 | 1&amp;1 internet | Germany |  97680624 | FirstTime | 1 | 2020-03-23 | get3d.online       | 2019-03-23 | Active | online | 1&amp;1 internet | Non China | 1 | NA | Renewed    | 0 | auto-renewal | realized   | 2020-03-23 | 1&amp;1 Internet | 1&amp;1 Internet |  0 |  0.0001 | 1 |  9 |  9 |  0 | online1&amp;1 internet | get3d       | ln       |  5 | 5ln        |  6 | -9.210340 | 0.63 | 6  | get3d       | 0.027777778 | 1 | 0.4275131 | 0.432 | 0.269 | 0.4756694 | 0.4035293 | 0.4261295 | EU |\n",
       "| 4 | 1&amp;1 internet | Germany |  60260863 | FirstTime | 1 | 2020-01-29 | mob-it-alia.online | 2018-01-29 | Active | online | 1&amp;1 internet | Non China | 2 | NA | Renewed    | 0 | auto-renewal | realized   | 2020-01-29 | 1&amp;1 Internet | 1&amp;1 Internet | 30 | 15.0000 | 1 | 25 | 25 | 15 | online1&amp;1 internet | mob-it-alia | hyphen-l | 11 | 11hyphen-l |  3 |  2.708050 | 4.76 | 1  | mob-it-alia | 0.111111111 | 1 | 0.6278206 | 0.620 | 0.670 | 0.6279631 | 0.5926415 | 0.5680841 | EU |\n",
       "| 5 | 1&amp;1 internet | Germany | 102370019 | FirstTime | 1 | 2020-04-29 | fusion-web.online  | 2019-04-29 | Active | online | 1&amp;1 internet | Non China | 1 | NA | Renewed    | 0 | auto-renewal | realized   | 2020-04-29 | 1&amp;1 Internet | 1&amp;1 Internet |  0 |  0.0001 | 1 | 25 | 25 |  0 | online1&amp;1 internet | fusion-web  | hyphen-l | 10 | 10hyphen-l | 18 | -9.210340 | 3.00 | 7  | fusion-web  | 0.003086420 | 1 | 0.5592457 | 0.563 | 0.413 | 0.5777930 | 0.5547513 | 0.5591712 | EU |\n",
       "| 6 | 1&amp;1 internet | Germany |  99438074 | FirstTime | 1 | 2020-04-09 | eclipso.online     | 2019-04-09 | Active | online | 1&amp;1 internet | Non China | 1 | NA | Not Renewd | 0 | auto-renewal | unrealized | 2020-04-09 | 1&amp;1 Internet | 1&amp;1 Internet |  0 |  0.0001 | 1 | 25 | 25 |  0 | online1&amp;1 internet | eclipso     | l        |  7 | 7l         | 11 | -9.210340 | 3.07 | 6  | eclipso     | 0.008264463 | 1 | 0.4950218 | 0.501 | 0.406 | 0.5586089 | 0.5506126 | 0.5202133 | EU |\n",
       "\n"
      ],
      "text/plain": [
       "  reseller     reseller_country domain_id renewal_type renewed_count\n",
       "1 1&1 internet Germany          101703069 FirstTime    1            \n",
       "2 1&1 internet Germany           91056433 FirstTime    1            \n",
       "3 1&1 internet Germany           97680624 FirstTime    1            \n",
       "4 1&1 internet Germany           60260863 FirstTime    1            \n",
       "5 1&1 internet Germany          102370019 FirstTime    1            \n",
       "6 1&1 internet Germany           99438074 FirstTime    1            \n",
       "  expiry_date domain             creation_date status tld    registrar   \n",
       "1 2020-04-24  yogaraum.online    2019-04-24    Active online 1&1 internet\n",
       "2 2020-01-15  b2i.online         2019-01-15    Active online 1&1 internet\n",
       "3 2020-03-23  get3d.online       2019-03-23    Active online 1&1 internet\n",
       "4 2020-01-29  mob-it-alia.online 2018-01-29    Active online 1&1 internet\n",
       "5 2020-04-29  fusion-web.online  2019-04-29    Active online 1&1 internet\n",
       "6 2020-04-09  eclipso.online     2019-04-09    Active online 1&1 internet\n",
       "  region    reg_period registrant_country renewal_status renew_mbg renew_type  \n",
       "1 Non China 1          NA                 Renewed        0         auto-renewal\n",
       "2 Non China 1          NA                 Not Renewd     0         auto-renewal\n",
       "3 Non China 1          NA                 Renewed        0         auto-renewal\n",
       "4 Non China 2          NA                 Renewed        0         auto-renewal\n",
       "5 Non China 1          NA                 Renewed        0         auto-renewal\n",
       "6 Non China 1          NA                 Not Renewd     0         auto-renewal\n",
       "  autorenew_type renew_date renew_registrar renew_reseller reg_revenue reg_arpt\n",
       "1 realized       2020-04-24 1&1 Internet    1&1 Internet    0           0.0001 \n",
       "2 unrealized     2020-01-15 1&1 Internet    1&1 Internet    5           5.0000 \n",
       "3 realized       2020-03-23 1&1 Internet    1&1 Internet    0           0.0001 \n",
       "4 realized       2020-01-29 1&1 Internet    1&1 Internet   30          15.0000 \n",
       "5 realized       2020-04-29 1&1 Internet    1&1 Internet    0           0.0001 \n",
       "6 unrealized     2020-04-09 1&1 Internet    1&1 Internet    0           0.0001 \n",
       "  renew_period renew_domain_revenue renew_arpt reg_arpt_org tld_registrar_index\n",
       "1 1             9                    9          0           online1&1 internet \n",
       "2 1            25                   25          5           online1&1 internet \n",
       "3 1             9                    9          0           online1&1 internet \n",
       "4 1            25                   25         15           online1&1 internet \n",
       "5 1            25                   25          0           online1&1 internet \n",
       "6 1            25                   25          0           online1&1 internet \n",
       "  sld         sld_type sld_length sld_type2  day_domains log_reg_arpt\n",
       "1 yogaraum    l         8         8l         13          -9.210340   \n",
       "2 b2i         ln        3         3ln        25           1.609438   \n",
       "3 get3d       ln        5         5ln         6          -9.210340   \n",
       "4 mob-it-alia hyphen-l 11         11hyphen-l  3           2.708050   \n",
       "5 fusion-web  hyphen-l 10         10hyphen-l 18          -9.210340   \n",
       "6 eclipso     l         7         7l         11          -9.210340   \n",
       "  gibb_score pattern cluster     pattern_score pattern_domain_count\n",
       "1 3.73       2       yogaraum    0.005917160   1                   \n",
       "2 3.57       21      b2i         0.001600000   1                   \n",
       "3 0.63       6       get3d       0.027777778   1                   \n",
       "4 4.76       1       mob-it-alia 0.111111111   1                   \n",
       "5 3.00       7       fusion-web  0.003086420   1                   \n",
       "6 3.07       6       eclipso     0.008264463   1                   \n",
       "  pred_df_seg2_glm pred_df_seg_glm pred_df_agg_glm pred_df_seg2_rf\n",
       "1 0.4857198        0.491           0.403           0.6758974      \n",
       "2 0.4943012        0.501           0.393           0.6151921      \n",
       "3 0.4275131        0.432           0.269           0.4756694      \n",
       "4 0.6278206        0.620           0.670           0.6279631      \n",
       "5 0.5592457        0.563           0.413           0.5777930      \n",
       "6 0.4950218        0.501           0.406           0.5586089      \n",
       "  pred_df_seg_rf pred_df_agg_rf reseller_geo\n",
       "1 0.6667279      0.6241976      EU          \n",
       "2 0.6019267      0.5908605      EU          \n",
       "3 0.4035293      0.4261295      EU          \n",
       "4 0.5926415      0.5680841      EU          \n",
       "5 0.5547513      0.5591712      EU          \n",
       "6 0.5506126      0.5202133      EU          "
      ]
     },
     "metadata": {},
     "output_type": "display_data"
    }
   ],
   "source": [
    "# ensure correct number of dimm\n",
    "dim(test_predictions_df)\n",
    "test_predictions_df_2 <- merge(as.data.frame(test_predictions_df),\n",
    "                           geoLookupDF,\n",
    "                           on=c('reseller','reseller_country'), \n",
    "                           all.x = TRUE)\n",
    "dim(test_predictions_df_2)\n",
    "head(test_predictions_df_2)\n"
   ]
  },
  {
   "cell_type": "code",
   "execution_count": 21,
   "metadata": {},
   "outputs": [],
   "source": [
    "# dims match... replace original\n",
    "test_predictions_df <- test_predictions_df_2"
   ]
  },
  {
   "cell_type": "code",
   "execution_count": 22,
   "metadata": {},
   "outputs": [
    {
     "data": {
      "text/html": [
       "<style>\n",
       ".dl-inline {width: auto; margin:0; padding: 0}\n",
       ".dl-inline>dt, .dl-inline>dd {float: none; width: auto; display: inline-block}\n",
       ".dl-inline>dt::after {content: \":\\0020\"; padding-right: .5ex}\n",
       ".dl-inline>dt:not(:first-of-type) {padding-left: .5ex}\n",
       "</style><dl class=dl-inline><dt>reseller</dt><dd>0</dd><dt>reseller_country</dt><dd>0</dd><dt>domain_id</dt><dd>0</dd><dt>renewal_type</dt><dd>0</dd><dt>renewed_count</dt><dd>0</dd><dt>expiry_date</dt><dd>0</dd><dt>domain</dt><dd>0</dd><dt>creation_date</dt><dd>0</dd><dt>status</dt><dd>0</dd><dt>tld</dt><dd>0</dd><dt>registrar</dt><dd>0</dd><dt>region</dt><dd>0</dd><dt>reg_period</dt><dd>0</dd><dt>registrant_country</dt><dd>296693</dd><dt>renewal_status</dt><dd>0</dd><dt>renew_mbg</dt><dd>0</dd><dt>renew_type</dt><dd>8133</dd><dt>autorenew_type</dt><dd>72250</dd><dt>renew_date</dt><dd>8140</dd><dt>renew_registrar</dt><dd>0</dd><dt>renew_reseller</dt><dd>0</dd><dt>reg_revenue</dt><dd>0</dd><dt>reg_arpt</dt><dd>0</dd><dt>renew_period</dt><dd>8140</dd><dt>renew_domain_revenue</dt><dd>0</dd><dt>renew_arpt</dt><dd>8140</dd><dt>reg_arpt_org</dt><dd>0</dd><dt>tld_registrar_index</dt><dd>0</dd><dt>sld</dt><dd>0</dd><dt>sld_type</dt><dd>0</dd><dt>sld_length</dt><dd>0</dd><dt>sld_type2</dt><dd>0</dd><dt>day_domains</dt><dd>0</dd><dt>log_reg_arpt</dt><dd>0</dd><dt>gibb_score</dt><dd>0</dd><dt>pattern</dt><dd>0</dd><dt>cluster</dt><dd>0</dd><dt>pattern_score</dt><dd>0</dd><dt>pattern_domain_count</dt><dd>0</dd><dt>pred_df_seg2_glm</dt><dd>1354</dd><dt>pred_df_seg_glm</dt><dd>184</dd><dt>pred_df_agg_glm</dt><dd>88</dd><dt>pred_df_seg2_rf</dt><dd>88</dd><dt>pred_df_seg_rf</dt><dd>88</dd><dt>pred_df_agg_rf</dt><dd>88</dd><dt>reseller_geo</dt><dd>1149</dd></dl>\n"
      ],
      "text/latex": [
       "\\begin{description*}\n",
       "\\item[reseller] 0\n",
       "\\item[reseller\\textbackslash{}\\_country] 0\n",
       "\\item[domain\\textbackslash{}\\_id] 0\n",
       "\\item[renewal\\textbackslash{}\\_type] 0\n",
       "\\item[renewed\\textbackslash{}\\_count] 0\n",
       "\\item[expiry\\textbackslash{}\\_date] 0\n",
       "\\item[domain] 0\n",
       "\\item[creation\\textbackslash{}\\_date] 0\n",
       "\\item[status] 0\n",
       "\\item[tld] 0\n",
       "\\item[registrar] 0\n",
       "\\item[region] 0\n",
       "\\item[reg\\textbackslash{}\\_period] 0\n",
       "\\item[registrant\\textbackslash{}\\_country] 296693\n",
       "\\item[renewal\\textbackslash{}\\_status] 0\n",
       "\\item[renew\\textbackslash{}\\_mbg] 0\n",
       "\\item[renew\\textbackslash{}\\_type] 8133\n",
       "\\item[autorenew\\textbackslash{}\\_type] 72250\n",
       "\\item[renew\\textbackslash{}\\_date] 8140\n",
       "\\item[renew\\textbackslash{}\\_registrar] 0\n",
       "\\item[renew\\textbackslash{}\\_reseller] 0\n",
       "\\item[reg\\textbackslash{}\\_revenue] 0\n",
       "\\item[reg\\textbackslash{}\\_arpt] 0\n",
       "\\item[renew\\textbackslash{}\\_period] 8140\n",
       "\\item[renew\\textbackslash{}\\_domain\\textbackslash{}\\_revenue] 0\n",
       "\\item[renew\\textbackslash{}\\_arpt] 8140\n",
       "\\item[reg\\textbackslash{}\\_arpt\\textbackslash{}\\_org] 0\n",
       "\\item[tld\\textbackslash{}\\_registrar\\textbackslash{}\\_index] 0\n",
       "\\item[sld] 0\n",
       "\\item[sld\\textbackslash{}\\_type] 0\n",
       "\\item[sld\\textbackslash{}\\_length] 0\n",
       "\\item[sld\\textbackslash{}\\_type2] 0\n",
       "\\item[day\\textbackslash{}\\_domains] 0\n",
       "\\item[log\\textbackslash{}\\_reg\\textbackslash{}\\_arpt] 0\n",
       "\\item[gibb\\textbackslash{}\\_score] 0\n",
       "\\item[pattern] 0\n",
       "\\item[cluster] 0\n",
       "\\item[pattern\\textbackslash{}\\_score] 0\n",
       "\\item[pattern\\textbackslash{}\\_domain\\textbackslash{}\\_count] 0\n",
       "\\item[pred\\textbackslash{}\\_df\\textbackslash{}\\_seg2\\textbackslash{}\\_glm] 1354\n",
       "\\item[pred\\textbackslash{}\\_df\\textbackslash{}\\_seg\\textbackslash{}\\_glm] 184\n",
       "\\item[pred\\textbackslash{}\\_df\\textbackslash{}\\_agg\\textbackslash{}\\_glm] 88\n",
       "\\item[pred\\textbackslash{}\\_df\\textbackslash{}\\_seg2\\textbackslash{}\\_rf] 88\n",
       "\\item[pred\\textbackslash{}\\_df\\textbackslash{}\\_seg\\textbackslash{}\\_rf] 88\n",
       "\\item[pred\\textbackslash{}\\_df\\textbackslash{}\\_agg\\textbackslash{}\\_rf] 88\n",
       "\\item[reseller\\textbackslash{}\\_geo] 1149\n",
       "\\end{description*}\n"
      ],
      "text/markdown": [
       "reseller\n",
       ":   0reseller_country\n",
       ":   0domain_id\n",
       ":   0renewal_type\n",
       ":   0renewed_count\n",
       ":   0expiry_date\n",
       ":   0domain\n",
       ":   0creation_date\n",
       ":   0status\n",
       ":   0tld\n",
       ":   0registrar\n",
       ":   0region\n",
       ":   0reg_period\n",
       ":   0registrant_country\n",
       ":   296693renewal_status\n",
       ":   0renew_mbg\n",
       ":   0renew_type\n",
       ":   8133autorenew_type\n",
       ":   72250renew_date\n",
       ":   8140renew_registrar\n",
       ":   0renew_reseller\n",
       ":   0reg_revenue\n",
       ":   0reg_arpt\n",
       ":   0renew_period\n",
       ":   8140renew_domain_revenue\n",
       ":   0renew_arpt\n",
       ":   8140reg_arpt_org\n",
       ":   0tld_registrar_index\n",
       ":   0sld\n",
       ":   0sld_type\n",
       ":   0sld_length\n",
       ":   0sld_type2\n",
       ":   0day_domains\n",
       ":   0log_reg_arpt\n",
       ":   0gibb_score\n",
       ":   0pattern\n",
       ":   0cluster\n",
       ":   0pattern_score\n",
       ":   0pattern_domain_count\n",
       ":   0pred_df_seg2_glm\n",
       ":   1354pred_df_seg_glm\n",
       ":   184pred_df_agg_glm\n",
       ":   88pred_df_seg2_rf\n",
       ":   88pred_df_seg_rf\n",
       ":   88pred_df_agg_rf\n",
       ":   88reseller_geo\n",
       ":   1149\n",
       "\n"
      ],
      "text/plain": [
       "            reseller     reseller_country            domain_id \n",
       "                   0                    0                    0 \n",
       "        renewal_type        renewed_count          expiry_date \n",
       "                   0                    0                    0 \n",
       "              domain        creation_date               status \n",
       "                   0                    0                    0 \n",
       "                 tld            registrar               region \n",
       "                   0                    0                    0 \n",
       "          reg_period   registrant_country       renewal_status \n",
       "                   0               296693                    0 \n",
       "           renew_mbg           renew_type       autorenew_type \n",
       "                   0                 8133                72250 \n",
       "          renew_date      renew_registrar       renew_reseller \n",
       "                8140                    0                    0 \n",
       "         reg_revenue             reg_arpt         renew_period \n",
       "                   0                    0                 8140 \n",
       "renew_domain_revenue           renew_arpt         reg_arpt_org \n",
       "                   0                 8140                    0 \n",
       " tld_registrar_index                  sld             sld_type \n",
       "                   0                    0                    0 \n",
       "          sld_length            sld_type2          day_domains \n",
       "                   0                    0                    0 \n",
       "        log_reg_arpt           gibb_score              pattern \n",
       "                   0                    0                    0 \n",
       "             cluster        pattern_score pattern_domain_count \n",
       "                   0                    0                    0 \n",
       "    pred_df_seg2_glm      pred_df_seg_glm      pred_df_agg_glm \n",
       "                1354                  184                   88 \n",
       "     pred_df_seg2_rf       pred_df_seg_rf       pred_df_agg_rf \n",
       "                  88                   88                   88 \n",
       "        reseller_geo \n",
       "                1149 "
      ]
     },
     "metadata": {},
     "output_type": "display_data"
    }
   ],
   "source": [
    "# NA reseller_gep\n",
    "test_predictions_df %>% is.na %>% colSums"
   ]
  },
  {
   "cell_type": "code",
   "execution_count": 23,
   "metadata": {},
   "outputs": [
    {
     "data": {
      "text/html": [
       "<table>\n",
       "<caption>A data.frame: 13 × 2</caption>\n",
       "<thead>\n",
       "\t<tr><th></th><th scope=col>reseller</th><th scope=col>reseller_country</th></tr>\n",
       "\t<tr><th></th><th scope=col>&lt;chr&gt;</th><th scope=col>&lt;chr&gt;</th></tr>\n",
       "</thead>\n",
       "<tbody>\n",
       "\t<tr><th scope=row>1</th><td>amen fr             </td><td>France       </td></tr>\n",
       "\t<tr><th scope=row>179</th><td>hostinger 2         </td><td>Lithuania    </td></tr>\n",
       "\t<tr><th scope=row>180</th><td>innovadeus          </td><td>             </td></tr>\n",
       "\t<tr><th scope=row>182</th><td>interserver         </td><td>United States</td></tr>\n",
       "\t<tr><th scope=row>199</th><td>key-systems         </td><td>Netherlands  </td></tr>\n",
       "\t<tr><th scope=row>327</th><td>net4 india          </td><td>             </td></tr>\n",
       "\t<tr><th scope=row>328</th><td>pdr ltd             </td><td>United States</td></tr>\n",
       "\t<tr><th scope=row>330</th><td>registrator domenov </td><td>Russia       </td></tr>\n",
       "\t<tr><th scope=row>385</th><td>shopify             </td><td>United States</td></tr>\n",
       "\t<tr><th scope=row>391</th><td>tld registrar solns </td><td>United States</td></tr>\n",
       "\t<tr><th scope=row>392</th><td>tucows              </td><td>Southafrica  </td></tr>\n",
       "\t<tr><th scope=row>1120</th><td>virtua drug         </td><td>             </td></tr>\n",
       "\t<tr><th scope=row>1121</th><td>web4africa          </td><td>South Africa </td></tr>\n",
       "</tbody>\n",
       "</table>\n"
      ],
      "text/latex": [
       "A data.frame: 13 × 2\n",
       "\\begin{tabular}{r|ll}\n",
       "  & reseller & reseller\\_country\\\\\n",
       "  & <chr> & <chr>\\\\\n",
       "\\hline\n",
       "\t1 & amen fr              & France       \\\\\n",
       "\t179 & hostinger 2          & Lithuania    \\\\\n",
       "\t180 & innovadeus           &              \\\\\n",
       "\t182 & interserver          & United States\\\\\n",
       "\t199 & key-systems          & Netherlands  \\\\\n",
       "\t327 & net4 india           &              \\\\\n",
       "\t328 & pdr ltd              & United States\\\\\n",
       "\t330 & registrator domenov  & Russia       \\\\\n",
       "\t385 & shopify              & United States\\\\\n",
       "\t391 & tld registrar solns  & United States\\\\\n",
       "\t392 & tucows               & Southafrica  \\\\\n",
       "\t1120 & virtua drug          &              \\\\\n",
       "\t1121 & web4africa           & South Africa \\\\\n",
       "\\end{tabular}\n"
      ],
      "text/markdown": [
       "\n",
       "A data.frame: 13 × 2\n",
       "\n",
       "| <!--/--> | reseller &lt;chr&gt; | reseller_country &lt;chr&gt; |\n",
       "|---|---|---|\n",
       "| 1 | amen fr              | France        |\n",
       "| 179 | hostinger 2          | Lithuania     |\n",
       "| 180 | innovadeus           | <!----> |\n",
       "| 182 | interserver          | United States |\n",
       "| 199 | key-systems          | Netherlands   |\n",
       "| 327 | net4 india           | <!----> |\n",
       "| 328 | pdr ltd              | United States |\n",
       "| 330 | registrator domenov  | Russia        |\n",
       "| 385 | shopify              | United States |\n",
       "| 391 | tld registrar solns  | United States |\n",
       "| 392 | tucows               | Southafrica   |\n",
       "| 1120 | virtua drug          | <!----> |\n",
       "| 1121 | web4africa           | South Africa  |\n",
       "\n"
      ],
      "text/plain": [
       "     reseller             reseller_country\n",
       "1    amen fr              France          \n",
       "179  hostinger 2          Lithuania       \n",
       "180  innovadeus                           \n",
       "182  interserver          United States   \n",
       "199  key-systems          Netherlands     \n",
       "327  net4 india                           \n",
       "328  pdr ltd              United States   \n",
       "330  registrator domenov  Russia          \n",
       "385  shopify              United States   \n",
       "391  tld registrar solns  United States   \n",
       "392  tucows               Southafrica     \n",
       "1120 virtua drug                          \n",
       "1121 web4africa           South Africa    "
      ]
     },
     "metadata": {},
     "output_type": "display_data"
    }
   ],
   "source": [
    "# for parag: resellers with no reseller_geo\n",
    "test_predictions_df %>% filter(is.na(reseller_geo)) %>% select(reseller,reseller_country) %>% unique()"
   ]
  },
  {
   "cell_type": "code",
   "execution_count": 24,
   "metadata": {},
   "outputs": [
    {
     "data": {
      "text/html": [
       "<style>\n",
       ".list-inline {list-style: none; margin:0; padding: 0}\n",
       ".list-inline>li {display: inline-block}\n",
       ".list-inline>li:not(:last-child)::after {content: \"\\00b7\"; padding: 0 .5ex}\n",
       "</style>\n",
       "<ol class=list-inline><li>EU</li><li>United States</li><li>Australia &amp; New Zealand</li><li>China</li><li>Turkey</li><li>South Africa</li><li>Others</li><li>&lt;NA&gt;</li><li>Russia</li><li>Vietnam, Korea &amp; Indonesia</li><li>India</li><li>Latam</li><li>Canada</li><li>Japan</li><li>Africa</li></ol>\n",
       "\n",
       "<details>\n",
       "\t<summary style=display:list-item;cursor:pointer>\n",
       "\t\t<strong>Levels</strong>:\n",
       "\t</summary>\n",
       "\t<style>\n",
       "\t.list-inline {list-style: none; margin:0; padding: 0}\n",
       "\t.list-inline>li {display: inline-block}\n",
       "\t.list-inline>li:not(:last-child)::after {content: \"\\00b7\"; padding: 0 .5ex}\n",
       "\t</style>\n",
       "\t<ol class=list-inline><li>'Africa'</li><li>'Australia &amp; New Zealand'</li><li>'Canada'</li><li>'China'</li><li>'EU'</li><li>'India'</li><li>'Japan'</li><li>'Latam'</li><li>'Middle East'</li><li>'Others'</li><li>'Russia'</li><li>'South Africa'</li><li>'Turkey'</li><li>'United States'</li><li>'Vietnam, Korea &amp; Indonesia'</li></ol>\n",
       "</details>"
      ],
      "text/latex": [
       "\\begin{enumerate*}\n",
       "\\item EU\n",
       "\\item United States\n",
       "\\item Australia \\& New Zealand\n",
       "\\item China\n",
       "\\item Turkey\n",
       "\\item South Africa\n",
       "\\item Others\n",
       "\\item <NA>\n",
       "\\item Russia\n",
       "\\item Vietnam, Korea \\& Indonesia\n",
       "\\item India\n",
       "\\item Latam\n",
       "\\item Canada\n",
       "\\item Japan\n",
       "\\item Africa\n",
       "\\end{enumerate*}\n",
       "\n",
       "\\emph{Levels}: \\begin{enumerate*}\n",
       "\\item 'Africa'\n",
       "\\item 'Australia \\& New Zealand'\n",
       "\\item 'Canada'\n",
       "\\item 'China'\n",
       "\\item 'EU'\n",
       "\\item 'India'\n",
       "\\item 'Japan'\n",
       "\\item 'Latam'\n",
       "\\item 'Middle East'\n",
       "\\item 'Others'\n",
       "\\item 'Russia'\n",
       "\\item 'South Africa'\n",
       "\\item 'Turkey'\n",
       "\\item 'United States'\n",
       "\\item 'Vietnam, Korea \\& Indonesia'\n",
       "\\end{enumerate*}\n"
      ],
      "text/markdown": [
       "1. EU\n",
       "2. United States\n",
       "3. Australia &amp; New Zealand\n",
       "4. China\n",
       "5. Turkey\n",
       "6. South Africa\n",
       "7. Others\n",
       "8. &lt;NA&gt;\n",
       "9. Russia\n",
       "10. Vietnam, Korea &amp; Indonesia\n",
       "11. India\n",
       "12. Latam\n",
       "13. Canada\n",
       "14. Japan\n",
       "15. Africa\n",
       "\n",
       "\n",
       "\n",
       "**Levels**: 1. 'Africa'\n",
       "2. 'Australia &amp; New Zealand'\n",
       "3. 'Canada'\n",
       "4. 'China'\n",
       "5. 'EU'\n",
       "6. 'India'\n",
       "7. 'Japan'\n",
       "8. 'Latam'\n",
       "9. 'Middle East'\n",
       "10. 'Others'\n",
       "11. 'Russia'\n",
       "12. 'South Africa'\n",
       "13. 'Turkey'\n",
       "14. 'United States'\n",
       "15. 'Vietnam, Korea &amp; Indonesia'\n",
       "\n",
       "\n"
      ],
      "text/plain": [
       " [1] EU                         United States             \n",
       " [3] Australia & New Zealand    China                     \n",
       " [5] Turkey                     South Africa              \n",
       " [7] Others                     <NA>                      \n",
       " [9] Russia                     Vietnam, Korea & Indonesia\n",
       "[11] India                      Latam                     \n",
       "[13] Canada                     Japan                     \n",
       "[15] Africa                    \n",
       "15 Levels: Africa Australia & New Zealand Canada China EU India Japan ... Vietnam, Korea & Indonesia"
      ]
     },
     "metadata": {},
     "output_type": "display_data"
    }
   ],
   "source": [
    "test_predictions_df %>% pull(reseller_geo) %>% unique()"
   ]
  },
  {
   "cell_type": "markdown",
   "metadata": {},
   "source": [
    "#### reg_arpt_slab"
   ]
  },
  {
   "cell_type": "code",
   "execution_count": 25,
   "metadata": {},
   "outputs": [
    {
     "data": {
      "text/html": [
       "<style>\n",
       ".list-inline {list-style: none; margin:0; padding: 0}\n",
       ".list-inline>li {display: inline-block}\n",
       ".list-inline>li:not(:last-child)::after {content: \"\\00b7\"; padding: 0 .5ex}\n",
       "</style>\n",
       "<ol class=list-inline><li>(-Inf,0]</li><li>(0,1]</li><li>(1,3]</li><li>(10,15]</li><li>(5,10]</li><li>(3,5]</li><li>(15,25]</li><li>(35, Inf]</li><li>(25,35]</li></ol>\n",
       "\n",
       "<details>\n",
       "\t<summary style=display:list-item;cursor:pointer>\n",
       "\t\t<strong>Levels</strong>:\n",
       "\t</summary>\n",
       "\t<style>\n",
       "\t.list-inline {list-style: none; margin:0; padding: 0}\n",
       "\t.list-inline>li {display: inline-block}\n",
       "\t.list-inline>li:not(:last-child)::after {content: \"\\00b7\"; padding: 0 .5ex}\n",
       "\t</style>\n",
       "\t<ol class=list-inline><li>'(-Inf,0]'</li><li>'(0,1]'</li><li>'(1,3]'</li><li>'(3,5]'</li><li>'(5,10]'</li><li>'(10,15]'</li><li>'(15,25]'</li><li>'(25,35]'</li><li>'(35, Inf]'</li></ol>\n",
       "</details>"
      ],
      "text/latex": [
       "\\begin{enumerate*}\n",
       "\\item (-Inf,0{]}\n",
       "\\item (0,1{]}\n",
       "\\item (1,3{]}\n",
       "\\item (10,15{]}\n",
       "\\item (5,10{]}\n",
       "\\item (3,5{]}\n",
       "\\item (15,25{]}\n",
       "\\item (35, Inf{]}\n",
       "\\item (25,35{]}\n",
       "\\end{enumerate*}\n",
       "\n",
       "\\emph{Levels}: \\begin{enumerate*}\n",
       "\\item '(-Inf,0{]}'\n",
       "\\item '(0,1{]}'\n",
       "\\item '(1,3{]}'\n",
       "\\item '(3,5{]}'\n",
       "\\item '(5,10{]}'\n",
       "\\item '(10,15{]}'\n",
       "\\item '(15,25{]}'\n",
       "\\item '(25,35{]}'\n",
       "\\item '(35, Inf{]}'\n",
       "\\end{enumerate*}\n"
      ],
      "text/markdown": [
       "1. (-Inf,0]\n",
       "2. (0,1]\n",
       "3. (1,3]\n",
       "4. (10,15]\n",
       "5. (5,10]\n",
       "6. (3,5]\n",
       "7. (15,25]\n",
       "8. (35, Inf]\n",
       "9. (25,35]\n",
       "\n",
       "\n",
       "\n",
       "**Levels**: 1. '(-Inf,0]'\n",
       "2. '(0,1]'\n",
       "3. '(1,3]'\n",
       "4. '(3,5]'\n",
       "5. '(5,10]'\n",
       "6. '(10,15]'\n",
       "7. '(15,25]'\n",
       "8. '(25,35]'\n",
       "9. '(35, Inf]'\n",
       "\n",
       "\n"
      ],
      "text/plain": [
       "[1] (-Inf,0]  (0,1]     (1,3]     (10,15]   (5,10]    (3,5]     (15,25]  \n",
       "[8] (35, Inf] (25,35]  \n",
       "9 Levels: (-Inf,0] (0,1] (1,3] (3,5] (5,10] (10,15] (15,25] ... (35, Inf]"
      ]
     },
     "metadata": {},
     "output_type": "display_data"
    }
   ],
   "source": [
    "npv_fallback_first_geo_arpt_tld %>% pull(reg_arpt_slab)  %>% unique()"
   ]
  },
  {
   "cell_type": "code",
   "execution_count": 26,
   "metadata": {},
   "outputs": [
    {
     "data": {
      "text/html": [
       "<table>\n",
       "<caption>A data.frame: 20 × 2</caption>\n",
       "<thead>\n",
       "\t<tr><th></th><th scope=col>reg_arpt</th><th scope=col>reg_arpt_slab</th></tr>\n",
       "\t<tr><th></th><th scope=col>&lt;dbl&gt;</th><th scope=col>&lt;fct&gt;</th></tr>\n",
       "</thead>\n",
       "<tbody>\n",
       "\t<tr><th scope=row>1</th><td> 0.0001</td><td>(0,1]  </td></tr>\n",
       "\t<tr><th scope=row>2</th><td> 5.0000</td><td>(3,5]  </td></tr>\n",
       "\t<tr><th scope=row>3</th><td> 0.0001</td><td>(0,1]  </td></tr>\n",
       "\t<tr><th scope=row>4</th><td>15.0000</td><td>(10,15]</td></tr>\n",
       "\t<tr><th scope=row>5</th><td> 0.0001</td><td>(0,1]  </td></tr>\n",
       "\t<tr><th scope=row>6</th><td> 0.0001</td><td>(0,1]  </td></tr>\n",
       "\t<tr><th scope=row>7</th><td>15.0000</td><td>(10,15]</td></tr>\n",
       "\t<tr><th scope=row>8</th><td>10.0000</td><td>(5,10] </td></tr>\n",
       "\t<tr><th scope=row>9</th><td> 0.0001</td><td>(0,1]  </td></tr>\n",
       "\t<tr><th scope=row>10</th><td> 0.8000</td><td>(0,1]  </td></tr>\n",
       "\t<tr><th scope=row>11</th><td> 0.0001</td><td>(0,1]  </td></tr>\n",
       "\t<tr><th scope=row>12</th><td> 5.0000</td><td>(3,5]  </td></tr>\n",
       "\t<tr><th scope=row>13</th><td> 0.0001</td><td>(0,1]  </td></tr>\n",
       "\t<tr><th scope=row>14</th><td> 5.0000</td><td>(3,5]  </td></tr>\n",
       "\t<tr><th scope=row>15</th><td>15.0000</td><td>(10,15]</td></tr>\n",
       "\t<tr><th scope=row>16</th><td> 1.0000</td><td>(0,1]  </td></tr>\n",
       "\t<tr><th scope=row>17</th><td> 1.0000</td><td>(0,1]  </td></tr>\n",
       "\t<tr><th scope=row>18</th><td>15.0000</td><td>(10,15]</td></tr>\n",
       "\t<tr><th scope=row>19</th><td> 1.0000</td><td>(0,1]  </td></tr>\n",
       "\t<tr><th scope=row>20</th><td> 0.0001</td><td>(0,1]  </td></tr>\n",
       "</tbody>\n",
       "</table>\n"
      ],
      "text/latex": [
       "A data.frame: 20 × 2\n",
       "\\begin{tabular}{r|ll}\n",
       "  & reg\\_arpt & reg\\_arpt\\_slab\\\\\n",
       "  & <dbl> & <fct>\\\\\n",
       "\\hline\n",
       "\t1 &  0.0001 & (0,1{]}  \\\\\n",
       "\t2 &  5.0000 & (3,5{]}  \\\\\n",
       "\t3 &  0.0001 & (0,1{]}  \\\\\n",
       "\t4 & 15.0000 & (10,15{]}\\\\\n",
       "\t5 &  0.0001 & (0,1{]}  \\\\\n",
       "\t6 &  0.0001 & (0,1{]}  \\\\\n",
       "\t7 & 15.0000 & (10,15{]}\\\\\n",
       "\t8 & 10.0000 & (5,10{]} \\\\\n",
       "\t9 &  0.0001 & (0,1{]}  \\\\\n",
       "\t10 &  0.8000 & (0,1{]}  \\\\\n",
       "\t11 &  0.0001 & (0,1{]}  \\\\\n",
       "\t12 &  5.0000 & (3,5{]}  \\\\\n",
       "\t13 &  0.0001 & (0,1{]}  \\\\\n",
       "\t14 &  5.0000 & (3,5{]}  \\\\\n",
       "\t15 & 15.0000 & (10,15{]}\\\\\n",
       "\t16 &  1.0000 & (0,1{]}  \\\\\n",
       "\t17 &  1.0000 & (0,1{]}  \\\\\n",
       "\t18 & 15.0000 & (10,15{]}\\\\\n",
       "\t19 &  1.0000 & (0,1{]}  \\\\\n",
       "\t20 &  0.0001 & (0,1{]}  \\\\\n",
       "\\end{tabular}\n"
      ],
      "text/markdown": [
       "\n",
       "A data.frame: 20 × 2\n",
       "\n",
       "| <!--/--> | reg_arpt &lt;dbl&gt; | reg_arpt_slab &lt;fct&gt; |\n",
       "|---|---|---|\n",
       "| 1 |  0.0001 | (0,1]   |\n",
       "| 2 |  5.0000 | (3,5]   |\n",
       "| 3 |  0.0001 | (0,1]   |\n",
       "| 4 | 15.0000 | (10,15] |\n",
       "| 5 |  0.0001 | (0,1]   |\n",
       "| 6 |  0.0001 | (0,1]   |\n",
       "| 7 | 15.0000 | (10,15] |\n",
       "| 8 | 10.0000 | (5,10]  |\n",
       "| 9 |  0.0001 | (0,1]   |\n",
       "| 10 |  0.8000 | (0,1]   |\n",
       "| 11 |  0.0001 | (0,1]   |\n",
       "| 12 |  5.0000 | (3,5]   |\n",
       "| 13 |  0.0001 | (0,1]   |\n",
       "| 14 |  5.0000 | (3,5]   |\n",
       "| 15 | 15.0000 | (10,15] |\n",
       "| 16 |  1.0000 | (0,1]   |\n",
       "| 17 |  1.0000 | (0,1]   |\n",
       "| 18 | 15.0000 | (10,15] |\n",
       "| 19 |  1.0000 | (0,1]   |\n",
       "| 20 |  0.0001 | (0,1]   |\n",
       "\n"
      ],
      "text/plain": [
       "   reg_arpt reg_arpt_slab\n",
       "1   0.0001  (0,1]        \n",
       "2   5.0000  (3,5]        \n",
       "3   0.0001  (0,1]        \n",
       "4  15.0000  (10,15]      \n",
       "5   0.0001  (0,1]        \n",
       "6   0.0001  (0,1]        \n",
       "7  15.0000  (10,15]      \n",
       "8  10.0000  (5,10]       \n",
       "9   0.0001  (0,1]        \n",
       "10  0.8000  (0,1]        \n",
       "11  0.0001  (0,1]        \n",
       "12  5.0000  (3,5]        \n",
       "13  0.0001  (0,1]        \n",
       "14  5.0000  (3,5]        \n",
       "15 15.0000  (10,15]      \n",
       "16  1.0000  (0,1]        \n",
       "17  1.0000  (0,1]        \n",
       "18 15.0000  (10,15]      \n",
       "19  1.0000  (0,1]        \n",
       "20  0.0001  (0,1]        "
      ]
     },
     "metadata": {},
     "output_type": "display_data"
    }
   ],
   "source": [
    "test_predictions_df <- test_predictions_df %>% \n",
    "  mutate(reg_arpt_slab=cut(reg_arpt, breaks=c(-Inf, 0, 1, 3, 5, 10, 15, 25, 35, Inf)))\n",
    "test_predictions_df %>% select (reg_arpt, reg_arpt_slab) %>% head(20)"
   ]
  },
  {
   "cell_type": "markdown",
   "metadata": {},
   "source": [
    "## Merge test_predictions_df with fallback table"
   ]
  },
  {
   "cell_type": "code",
   "execution_count": 27,
   "metadata": {},
   "outputs": [
    {
     "data": {
      "text/html": [
       "<table>\n",
       "<caption>A grouped_df: 6 × 7</caption>\n",
       "<thead>\n",
       "\t<tr><th scope=col>tld</th><th scope=col>reseller_geo</th><th scope=col>reg_arpt_slab</th><th scope=col>expiring_domains</th><th scope=col>renewed_domains</th><th scope=col>renewal_rate</th><th scope=col>index</th></tr>\n",
       "\t<tr><th scope=col>&lt;chr&gt;</th><th scope=col>&lt;chr&gt;</th><th scope=col>&lt;fct&gt;</th><th scope=col>&lt;int&gt;</th><th scope=col>&lt;int&gt;</th><th scope=col>&lt;dbl&gt;</th><th scope=col>&lt;chr&gt;</th></tr>\n",
       "</thead>\n",
       "<tbody>\n",
       "\t<tr><td>fun</td><td>China</td><td>(-Inf,0]</td><td> 2098</td><td> 111</td><td>0.053</td><td>funChina(-Inf,0]</td></tr>\n",
       "\t<tr><td>fun</td><td>China</td><td>(0,1]   </td><td>82340</td><td>1910</td><td>0.023</td><td>funChina(0,1]   </td></tr>\n",
       "\t<tr><td>fun</td><td>China</td><td>(1,3]   </td><td> 9991</td><td>1454</td><td>0.146</td><td>funChina(1,3]   </td></tr>\n",
       "\t<tr><td>fun</td><td>EU   </td><td>(-Inf,0]</td><td>  901</td><td>   8</td><td>0.009</td><td>funEU(-Inf,0]   </td></tr>\n",
       "\t<tr><td>fun</td><td>EU   </td><td>(0,1]   </td><td> 6206</td><td> 210</td><td>0.034</td><td>funEU(0,1]      </td></tr>\n",
       "\t<tr><td>fun</td><td>EU   </td><td>(1,3]   </td><td> 1907</td><td> 550</td><td>0.288</td><td>funEU(1,3]      </td></tr>\n",
       "</tbody>\n",
       "</table>\n"
      ],
      "text/latex": [
       "A grouped\\_df: 6 × 7\n",
       "\\begin{tabular}{lllllll}\n",
       " tld & reseller\\_geo & reg\\_arpt\\_slab & expiring\\_domains & renewed\\_domains & renewal\\_rate & index\\\\\n",
       " <chr> & <chr> & <fct> & <int> & <int> & <dbl> & <chr>\\\\\n",
       "\\hline\n",
       "\t fun & China & (-Inf,0{]} &  2098 &  111 & 0.053 & funChina(-Inf,0{]}\\\\\n",
       "\t fun & China & (0,1{]}    & 82340 & 1910 & 0.023 & funChina(0,1{]}   \\\\\n",
       "\t fun & China & (1,3{]}    &  9991 & 1454 & 0.146 & funChina(1,3{]}   \\\\\n",
       "\t fun & EU    & (-Inf,0{]} &   901 &    8 & 0.009 & funEU(-Inf,0{]}   \\\\\n",
       "\t fun & EU    & (0,1{]}    &  6206 &  210 & 0.034 & funEU(0,1{]}      \\\\\n",
       "\t fun & EU    & (1,3{]}    &  1907 &  550 & 0.288 & funEU(1,3{]}      \\\\\n",
       "\\end{tabular}\n"
      ],
      "text/markdown": [
       "\n",
       "A grouped_df: 6 × 7\n",
       "\n",
       "| tld &lt;chr&gt; | reseller_geo &lt;chr&gt; | reg_arpt_slab &lt;fct&gt; | expiring_domains &lt;int&gt; | renewed_domains &lt;int&gt; | renewal_rate &lt;dbl&gt; | index &lt;chr&gt; |\n",
       "|---|---|---|---|---|---|---|\n",
       "| fun | China | (-Inf,0] |  2098 |  111 | 0.053 | funChina(-Inf,0] |\n",
       "| fun | China | (0,1]    | 82340 | 1910 | 0.023 | funChina(0,1]    |\n",
       "| fun | China | (1,3]    |  9991 | 1454 | 0.146 | funChina(1,3]    |\n",
       "| fun | EU    | (-Inf,0] |   901 |    8 | 0.009 | funEU(-Inf,0]    |\n",
       "| fun | EU    | (0,1]    |  6206 |  210 | 0.034 | funEU(0,1]       |\n",
       "| fun | EU    | (1,3]    |  1907 |  550 | 0.288 | funEU(1,3]       |\n",
       "\n"
      ],
      "text/plain": [
       "  tld reseller_geo reg_arpt_slab expiring_domains renewed_domains renewal_rate\n",
       "1 fun China        (-Inf,0]       2098             111            0.053       \n",
       "2 fun China        (0,1]         82340            1910            0.023       \n",
       "3 fun China        (1,3]          9991            1454            0.146       \n",
       "4 fun EU           (-Inf,0]        901               8            0.009       \n",
       "5 fun EU           (0,1]          6206             210            0.034       \n",
       "6 fun EU           (1,3]          1907             550            0.288       \n",
       "  index           \n",
       "1 funChina(-Inf,0]\n",
       "2 funChina(0,1]   \n",
       "3 funChina(1,3]   \n",
       "4 funEU(-Inf,0]   \n",
       "5 funEU(0,1]      \n",
       "6 funEU(1,3]      "
      ]
     },
     "metadata": {},
     "output_type": "display_data"
    }
   ],
   "source": [
    "head((npv_fallback_first_geo_arpt_tld))"
   ]
  },
  {
   "cell_type": "code",
   "execution_count": 28,
   "metadata": {},
   "outputs": [],
   "source": [
    "npv_fallback_first_geo_arpt_tld <- as.data.frame(npv_fallback_first_geo_arpt_tld)"
   ]
  },
  {
   "cell_type": "code",
   "execution_count": 29,
   "metadata": {},
   "outputs": [
    {
     "data": {
      "text/html": [
       "<table>\n",
       "<caption>A data.frame: 6 × 7</caption>\n",
       "<thead>\n",
       "\t<tr><th></th><th scope=col>tld</th><th scope=col>reseller_geo</th><th scope=col>reg_arpt_slab</th><th scope=col>expiring_domains</th><th scope=col>renewed_domains</th><th scope=col>renewal_rate</th><th scope=col>index</th></tr>\n",
       "\t<tr><th></th><th scope=col>&lt;chr&gt;</th><th scope=col>&lt;chr&gt;</th><th scope=col>&lt;fct&gt;</th><th scope=col>&lt;int&gt;</th><th scope=col>&lt;int&gt;</th><th scope=col>&lt;dbl&gt;</th><th scope=col>&lt;chr&gt;</th></tr>\n",
       "</thead>\n",
       "<tbody>\n",
       "\t<tr><th scope=row>1</th><td>fun</td><td>China</td><td>(-Inf,0]</td><td> 2098</td><td> 111</td><td>0.053</td><td>funChina(-Inf,0]</td></tr>\n",
       "\t<tr><th scope=row>2</th><td>fun</td><td>China</td><td>(0,1]   </td><td>82340</td><td>1910</td><td>0.023</td><td>funChina(0,1]   </td></tr>\n",
       "\t<tr><th scope=row>3</th><td>fun</td><td>China</td><td>(1,3]   </td><td> 9991</td><td>1454</td><td>0.146</td><td>funChina(1,3]   </td></tr>\n",
       "\t<tr><th scope=row>4</th><td>fun</td><td>EU   </td><td>(-Inf,0]</td><td>  901</td><td>   8</td><td>0.009</td><td>funEU(-Inf,0]   </td></tr>\n",
       "\t<tr><th scope=row>5</th><td>fun</td><td>EU   </td><td>(0,1]   </td><td> 6206</td><td> 210</td><td>0.034</td><td>funEU(0,1]      </td></tr>\n",
       "\t<tr><th scope=row>6</th><td>fun</td><td>EU   </td><td>(1,3]   </td><td> 1907</td><td> 550</td><td>0.288</td><td>funEU(1,3]      </td></tr>\n",
       "</tbody>\n",
       "</table>\n"
      ],
      "text/latex": [
       "A data.frame: 6 × 7\n",
       "\\begin{tabular}{r|lllllll}\n",
       "  & tld & reseller\\_geo & reg\\_arpt\\_slab & expiring\\_domains & renewed\\_domains & renewal\\_rate & index\\\\\n",
       "  & <chr> & <chr> & <fct> & <int> & <int> & <dbl> & <chr>\\\\\n",
       "\\hline\n",
       "\t1 & fun & China & (-Inf,0{]} &  2098 &  111 & 0.053 & funChina(-Inf,0{]}\\\\\n",
       "\t2 & fun & China & (0,1{]}    & 82340 & 1910 & 0.023 & funChina(0,1{]}   \\\\\n",
       "\t3 & fun & China & (1,3{]}    &  9991 & 1454 & 0.146 & funChina(1,3{]}   \\\\\n",
       "\t4 & fun & EU    & (-Inf,0{]} &   901 &    8 & 0.009 & funEU(-Inf,0{]}   \\\\\n",
       "\t5 & fun & EU    & (0,1{]}    &  6206 &  210 & 0.034 & funEU(0,1{]}      \\\\\n",
       "\t6 & fun & EU    & (1,3{]}    &  1907 &  550 & 0.288 & funEU(1,3{]}      \\\\\n",
       "\\end{tabular}\n"
      ],
      "text/markdown": [
       "\n",
       "A data.frame: 6 × 7\n",
       "\n",
       "| <!--/--> | tld &lt;chr&gt; | reseller_geo &lt;chr&gt; | reg_arpt_slab &lt;fct&gt; | expiring_domains &lt;int&gt; | renewed_domains &lt;int&gt; | renewal_rate &lt;dbl&gt; | index &lt;chr&gt; |\n",
       "|---|---|---|---|---|---|---|---|\n",
       "| 1 | fun | China | (-Inf,0] |  2098 |  111 | 0.053 | funChina(-Inf,0] |\n",
       "| 2 | fun | China | (0,1]    | 82340 | 1910 | 0.023 | funChina(0,1]    |\n",
       "| 3 | fun | China | (1,3]    |  9991 | 1454 | 0.146 | funChina(1,3]    |\n",
       "| 4 | fun | EU    | (-Inf,0] |   901 |    8 | 0.009 | funEU(-Inf,0]    |\n",
       "| 5 | fun | EU    | (0,1]    |  6206 |  210 | 0.034 | funEU(0,1]       |\n",
       "| 6 | fun | EU    | (1,3]    |  1907 |  550 | 0.288 | funEU(1,3]       |\n",
       "\n"
      ],
      "text/plain": [
       "  tld reseller_geo reg_arpt_slab expiring_domains renewed_domains renewal_rate\n",
       "1 fun China        (-Inf,0]       2098             111            0.053       \n",
       "2 fun China        (0,1]         82340            1910            0.023       \n",
       "3 fun China        (1,3]          9991            1454            0.146       \n",
       "4 fun EU           (-Inf,0]        901               8            0.009       \n",
       "5 fun EU           (0,1]          6206             210            0.034       \n",
       "6 fun EU           (1,3]          1907             550            0.288       \n",
       "  index           \n",
       "1 funChina(-Inf,0]\n",
       "2 funChina(0,1]   \n",
       "3 funChina(1,3]   \n",
       "4 funEU(-Inf,0]   \n",
       "5 funEU(0,1]      \n",
       "6 funEU(1,3]      "
      ]
     },
     "metadata": {},
     "output_type": "display_data"
    }
   ],
   "source": [
    "head((npv_fallback_first_geo_arpt_tld))"
   ]
  },
  {
   "cell_type": "code",
   "execution_count": 30,
   "metadata": {},
   "outputs": [
    {
     "name": "stdout",
     "output_type": "stream",
     "text": [
      "'data.frame':\t296797 obs. of  3 variables:\n",
      " $ tld          : Factor w/ 11 levels \"fun\",\"host\",\"in.net\",..: 4 4 4 4 4 4 4 9 4 4 ...\n",
      " $ reseller_geo : Factor w/ 15 levels \"Africa\",\"Australia & New Zealand\",..: 5 5 5 5 5 5 5 5 5 5 ...\n",
      " $ reg_arpt_slab: Factor w/ 9 levels \"(-Inf,0]\",\"(0,1]\",..: 2 4 2 6 2 2 6 5 2 2 ...\n",
      "'data.frame':\t219 obs. of  3 variables:\n",
      " $ tld          : chr  \"fun\" \"fun\" \"fun\" \"fun\" ...\n",
      " $ reseller_geo : chr  \"China\" \"China\" \"China\" \"EU\" ...\n",
      " $ reg_arpt_slab: Factor w/ 9 levels \"(-Inf,0]\",\"(0,1]\",..: 1 2 3 1 2 3 6 2 2 3 ...\n"
     ]
    }
   ],
   "source": [
    "str(test_predictions_df[,c('tld', 'reseller_geo', 'reg_arpt_slab')])\n",
    "str(npv_fallback_first_geo_arpt_tld[,c('tld', 'reseller_geo', 'reg_arpt_slab')])"
   ]
  },
  {
   "cell_type": "code",
   "execution_count": 31,
   "metadata": {},
   "outputs": [],
   "source": [
    "npv_fallback_first_geo_arpt_tld$tld <- factor(npv_fallback_first_geo_arpt_tld$tld)\n",
    "npv_fallback_first_geo_arpt_tld$reseller_geo <- factor(npv_fallback_first_geo_arpt_tld$reseller_geo)"
   ]
  },
  {
   "cell_type": "code",
   "execution_count": 32,
   "metadata": {},
   "outputs": [
    {
     "name": "stdout",
     "output_type": "stream",
     "text": [
      "'data.frame':\t296797 obs. of  3 variables:\n",
      " $ tld          : Factor w/ 11 levels \"fun\",\"host\",\"in.net\",..: 4 4 4 4 4 4 4 9 4 4 ...\n",
      " $ reseller_geo : Factor w/ 15 levels \"Africa\",\"Australia & New Zealand\",..: 5 5 5 5 5 5 5 5 5 5 ...\n",
      " $ reg_arpt_slab: Factor w/ 9 levels \"(-Inf,0]\",\"(0,1]\",..: 2 4 2 6 2 2 6 5 2 2 ...\n",
      "'data.frame':\t219 obs. of  3 variables:\n",
      " $ tld          : Factor w/ 11 levels \"fun\",\"host\",\"in.net\",..: 1 1 1 1 1 1 1 1 1 1 ...\n",
      " $ reseller_geo : Factor w/ 13 levels \"Africa\",\"Australia & New Zealand\",..: 4 4 4 5 5 5 5 6 7 7 ...\n",
      " $ reg_arpt_slab: Factor w/ 9 levels \"(-Inf,0]\",\"(0,1]\",..: 1 2 3 1 2 3 6 2 2 3 ...\n"
     ]
    }
   ],
   "source": [
    "str(test_predictions_df[,c('tld', 'reseller_geo', 'reg_arpt_slab')])\n",
    "str(npv_fallback_first_geo_arpt_tld[,c('tld', 'reseller_geo', 'reg_arpt_slab')])"
   ]
  },
  {
   "cell_type": "code",
   "execution_count": 33,
   "metadata": {},
   "outputs": [
    {
     "data": {
      "text/html": [
       "<style>\n",
       ".list-inline {list-style: none; margin:0; padding: 0}\n",
       ".list-inline>li {display: inline-block}\n",
       ".list-inline>li:not(:last-child)::after {content: \"\\00b7\"; padding: 0 .5ex}\n",
       "</style>\n",
       "<ol class=list-inline><li>296797</li><li>47</li></ol>\n"
      ],
      "text/latex": [
       "\\begin{enumerate*}\n",
       "\\item 296797\n",
       "\\item 47\n",
       "\\end{enumerate*}\n"
      ],
      "text/markdown": [
       "1. 296797\n",
       "2. 47\n",
       "\n",
       "\n"
      ],
      "text/plain": [
       "[1] 296797     47"
      ]
     },
     "metadata": {},
     "output_type": "display_data"
    },
    {
     "data": {
      "text/html": [
       "<style>\n",
       ".list-inline {list-style: none; margin:0; padding: 0}\n",
       ".list-inline>li {display: inline-block}\n",
       ".list-inline>li:not(:last-child)::after {content: \"\\00b7\"; padding: 0 .5ex}\n",
       "</style>\n",
       "<ol class=list-inline><li>296797</li><li>48</li></ol>\n"
      ],
      "text/latex": [
       "\\begin{enumerate*}\n",
       "\\item 296797\n",
       "\\item 48\n",
       "\\end{enumerate*}\n"
      ],
      "text/markdown": [
       "1. 296797\n",
       "2. 48\n",
       "\n",
       "\n"
      ],
      "text/plain": [
       "[1] 296797     48"
      ]
     },
     "metadata": {},
     "output_type": "display_data"
    },
    {
     "data": {
      "text/html": [
       "<table>\n",
       "<caption>A data.frame: 6 × 48</caption>\n",
       "<thead>\n",
       "\t<tr><th></th><th scope=col>tld</th><th scope=col>reseller_geo</th><th scope=col>reg_arpt_slab</th><th scope=col>reseller</th><th scope=col>reseller_country</th><th scope=col>domain_id</th><th scope=col>renewal_type</th><th scope=col>renewed_count</th><th scope=col>expiry_date</th><th scope=col>domain</th><th scope=col>creation_date</th><th scope=col>status</th><th scope=col>registrar</th><th scope=col>region</th><th scope=col>reg_period</th><th scope=col>registrant_country</th><th scope=col>renewal_status</th><th scope=col>renew_mbg</th><th scope=col>renew_type</th><th scope=col>autorenew_type</th><th scope=col>renew_date</th><th scope=col>renew_registrar</th><th scope=col>renew_reseller</th><th scope=col>reg_revenue</th><th scope=col>reg_arpt</th><th scope=col>renew_period</th><th scope=col>renew_domain_revenue</th><th scope=col>renew_arpt</th><th scope=col>reg_arpt_org</th><th scope=col>tld_registrar_index</th><th scope=col>sld</th><th scope=col>sld_type</th><th scope=col>sld_length</th><th scope=col>sld_type2</th><th scope=col>day_domains</th><th scope=col>log_reg_arpt</th><th scope=col>gibb_score</th><th scope=col>pattern</th><th scope=col>cluster</th><th scope=col>pattern_score</th><th scope=col>pattern_domain_count</th><th scope=col>pred_df_seg2_glm</th><th scope=col>pred_df_seg_glm</th><th scope=col>pred_df_agg_glm</th><th scope=col>pred_df_seg2_rf</th><th scope=col>pred_df_seg_rf</th><th scope=col>pred_df_agg_rf</th><th scope=col>renewal_rate</th></tr>\n",
       "\t<tr><th></th><th scope=col>&lt;fct&gt;</th><th scope=col>&lt;fct&gt;</th><th scope=col>&lt;fct&gt;</th><th scope=col>&lt;chr&gt;</th><th scope=col>&lt;chr&gt;</th><th scope=col>&lt;int&gt;</th><th scope=col>&lt;chr&gt;</th><th scope=col>&lt;int&gt;</th><th scope=col>&lt;date&gt;</th><th scope=col>&lt;chr&gt;</th><th scope=col>&lt;date&gt;</th><th scope=col>&lt;chr&gt;</th><th scope=col>&lt;chr&gt;</th><th scope=col>&lt;chr&gt;</th><th scope=col>&lt;int&gt;</th><th scope=col>&lt;chr&gt;</th><th scope=col>&lt;fct&gt;</th><th scope=col>&lt;int&gt;</th><th scope=col>&lt;chr&gt;</th><th scope=col>&lt;chr&gt;</th><th scope=col>&lt;date&gt;</th><th scope=col>&lt;chr&gt;</th><th scope=col>&lt;chr&gt;</th><th scope=col>&lt;dbl&gt;</th><th scope=col>&lt;dbl&gt;</th><th scope=col>&lt;int&gt;</th><th scope=col>&lt;dbl&gt;</th><th scope=col>&lt;dbl&gt;</th><th scope=col>&lt;dbl&gt;</th><th scope=col>&lt;chr&gt;</th><th scope=col>&lt;chr&gt;</th><th scope=col>&lt;fct&gt;</th><th scope=col>&lt;int&gt;</th><th scope=col>&lt;chr&gt;</th><th scope=col>&lt;int&gt;</th><th scope=col>&lt;dbl&gt;</th><th scope=col>&lt;dbl&gt;</th><th scope=col>&lt;chr&gt;</th><th scope=col>&lt;chr&gt;</th><th scope=col>&lt;dbl&gt;</th><th scope=col>&lt;int&gt;</th><th scope=col>&lt;dbl&gt;</th><th scope=col>&lt;dbl&gt;</th><th scope=col>&lt;dbl&gt;</th><th scope=col>&lt;dbl&gt;</th><th scope=col>&lt;dbl&gt;</th><th scope=col>&lt;dbl&gt;</th><th scope=col>&lt;dbl&gt;</th></tr>\n",
       "</thead>\n",
       "<tbody>\n",
       "\t<tr><th scope=row>1</th><td>fun</td><td>Australia &amp; New Zealand</td><td><span style=white-space:pre-wrap>(3,5]  </span></td><td>instra corporation</td><td>Australia</td><td>104893671</td><td>FirstTime</td><td>1</td><td>2020-05-25</td><td><span style=white-space:pre-wrap>laur.fun         </span></td><td>2019-05-25</td><td>Active</td><td>instra corporation</td><td>Non China</td><td>1</td><td>NA</td><td>Not Renewd</td><td>0</td><td>auto-renewal</td><td><span style=white-space:pre-wrap>NA        </span></td><td>2020-05-25</td><td>Instra Corporation</td><td>Instra Corporation</td><td> 4</td><td> 4</td><td>1</td><td>15</td><td>15</td><td> 4</td><td>funinstra corporation</td><td><span style=white-space:pre-wrap>laur         </span></td><td>l</td><td> 4</td><td>4l </td><td>1</td><td>1.386294</td><td>5.48</td><td><span style=white-space:pre-wrap>laur         </span></td><td>1</td><td>1</td><td>1</td><td><span style=white-space:pre-wrap>       NA</span></td><td>0.000</td><td>0.151</td><td>0.00000</td><td>0.1851779</td><td>0.3718108</td><td>NA</td></tr>\n",
       "\t<tr><th scope=row>2</th><td>fun</td><td>Australia &amp; New Zealand</td><td><span style=white-space:pre-wrap>(3,5]  </span></td><td>instra corporation</td><td>Australia</td><td> 99540944</td><td>FirstTime</td><td>1</td><td>2020-04-10</td><td><span style=white-space:pre-wrap>oferty.fun       </span></td><td>2019-04-10</td><td>Active</td><td>instra corporation</td><td>Non China</td><td>1</td><td>NA</td><td>Not Renewd</td><td>0</td><td>auto-renewal</td><td>unrealized</td><td>2020-04-10</td><td>Instra Corporation</td><td>Instra Corporation</td><td> 4</td><td> 4</td><td>1</td><td>15</td><td>15</td><td> 4</td><td>funinstra corporation</td><td><span style=white-space:pre-wrap>oferty       </span></td><td>l</td><td> 6</td><td>6l </td><td>1</td><td>1.386294</td><td>6.03</td><td><span style=white-space:pre-wrap>oferty       </span></td><td>1</td><td>1</td><td>1</td><td><span style=white-space:pre-wrap>       NA</span></td><td>0.000</td><td>0.146</td><td>0.00000</td><td>0.2157494</td><td>0.3943426</td><td>NA</td></tr>\n",
       "\t<tr><th scope=row>3</th><td>fun</td><td>Australia &amp; New Zealand</td><td>(5,10] </td><td><span style=white-space:pre-wrap>crazy domains     </span></td><td>Australia</td><td> 62376247</td><td>FirstTime</td><td>1</td><td>2020-03-07</td><td>tennisladder.fun </td><td>2018-03-07</td><td>Active</td><td><span style=white-space:pre-wrap>crazy domains     </span></td><td>Non China</td><td>2</td><td>NA</td><td>Not Renewd</td><td>0</td><td>auto-renewal</td><td>unrealized</td><td>2020-03-07</td><td><span style=white-space:pre-wrap>Crazy Domains     </span></td><td><span style=white-space:pre-wrap>Crazy Domains     </span></td><td>18</td><td> 9</td><td>1</td><td>15</td><td>15</td><td> 9</td><td><span style=white-space:pre-wrap>funcrazy domains     </span></td><td>tennisladder </td><td>l</td><td>12</td><td>12l</td><td>1</td><td>2.197225</td><td>4.85</td><td>tennisladder </td><td>1</td><td>1</td><td>1</td><td>1.0000000</td><td>0.400</td><td>0.334</td><td>0.42460</td><td>0.5788189</td><td>0.6221085</td><td>NA</td></tr>\n",
       "\t<tr><th scope=row>4</th><td>fun</td><td>Australia &amp; New Zealand</td><td>(10,15]</td><td><span style=white-space:pre-wrap>ventraip          </span></td><td>Australia</td><td> 95252714</td><td>FirstTime</td><td>1</td><td>2020-03-03</td><td><span style=white-space:pre-wrap>letterific.fun   </span></td><td>2019-03-03</td><td>Active</td><td>synergy wholesale </td><td>Non China</td><td>1</td><td>NA</td><td><span style=white-space:pre-wrap>Renewed   </span></td><td>0</td><td><span style=white-space:pre-wrap>renewal     </span></td><td><span style=white-space:pre-wrap>NA        </span></td><td>2020-02-19</td><td>SYNERGY WHOLESALE </td><td><span style=white-space:pre-wrap>VentraIP          </span></td><td>15</td><td>15</td><td>1</td><td>15</td><td>15</td><td>15</td><td><span style=white-space:pre-wrap>funventraip          </span></td><td><span style=white-space:pre-wrap>letterific   </span></td><td>l</td><td>10</td><td>10l</td><td>1</td><td>2.708050</td><td>5.97</td><td><span style=white-space:pre-wrap>letterific   </span></td><td>1</td><td>1</td><td>1</td><td><span style=white-space:pre-wrap>       NA</span></td><td><span style=white-space:pre-wrap>   NA</span></td><td><span style=white-space:pre-wrap>   NA</span></td><td><span style=white-space:pre-wrap>     NA</span></td><td><span style=white-space:pre-wrap>       NA</span></td><td><span style=white-space:pre-wrap>       NA</span></td><td>NA</td></tr>\n",
       "\t<tr><th scope=row>5</th><td>fun</td><td>Canada                 </td><td>(5,10] </td><td>hover             </td><td>Canada   </td><td>104937931</td><td>FirstTime</td><td>1</td><td>2020-05-26</td><td>futurefantasy.fun</td><td>2019-05-26</td><td>Active</td><td>tucows            </td><td>Non China</td><td>1</td><td>NA</td><td>Renewed   </td><td>0</td><td>renewal     </td><td>NA        </td><td>2020-05-25</td><td>Tucows            </td><td>Hover             </td><td> 8</td><td> 8</td><td>1</td><td>15</td><td>15</td><td> 8</td><td>funhover             </td><td>futurefantasy</td><td>l</td><td>13</td><td>13l</td><td>1</td><td>2.079442</td><td>5.61</td><td>futurefantasy</td><td>1</td><td>1</td><td>1</td><td>0.6261119</td><td>0.624</td><td>0.267</td><td>0.59825</td><td>0.5677353</td><td>0.4933172</td><td>NA</td></tr>\n",
       "\t<tr><th scope=row>6</th><td>fun</td><td>Canada                 </td><td>(5,10] </td><td>hover             </td><td>Canada   </td><td> 99187839</td><td>FirstTime</td><td>1</td><td>2020-04-08</td><td>flabocci.fun     </td><td>2019-04-08</td><td>Active</td><td>tucows            </td><td>Non China</td><td>1</td><td>NA</td><td>Renewed   </td><td>0</td><td>renewal     </td><td>NA        </td><td>2020-04-07</td><td>Tucows            </td><td>Hover             </td><td> 8</td><td> 8</td><td>1</td><td>15</td><td>15</td><td> 8</td><td>funhover             </td><td>flabocci     </td><td>l</td><td> 8</td><td>8l </td><td>1</td><td>2.079442</td><td>3.66</td><td>flabocci     </td><td>1</td><td>1</td><td>1</td><td>0.6175394</td><td>0.610</td><td>0.282</td><td>0.59825</td><td>0.6966527</td><td>0.5897817</td><td>NA</td></tr>\n",
       "</tbody>\n",
       "</table>\n"
      ],
      "text/latex": [
       "A data.frame: 6 × 48\n",
       "\\begin{tabular}{r|llllllllllllllllllllllllllllllllllllllllllllllll}\n",
       "  & tld & reseller\\_geo & reg\\_arpt\\_slab & reseller & reseller\\_country & domain\\_id & renewal\\_type & renewed\\_count & expiry\\_date & domain & creation\\_date & status & registrar & region & reg\\_period & registrant\\_country & renewal\\_status & renew\\_mbg & renew\\_type & autorenew\\_type & renew\\_date & renew\\_registrar & renew\\_reseller & reg\\_revenue & reg\\_arpt & renew\\_period & renew\\_domain\\_revenue & renew\\_arpt & reg\\_arpt\\_org & tld\\_registrar\\_index & sld & sld\\_type & sld\\_length & sld\\_type2 & day\\_domains & log\\_reg\\_arpt & gibb\\_score & pattern & cluster & pattern\\_score & pattern\\_domain\\_count & pred\\_df\\_seg2\\_glm & pred\\_df\\_seg\\_glm & pred\\_df\\_agg\\_glm & pred\\_df\\_seg2\\_rf & pred\\_df\\_seg\\_rf & pred\\_df\\_agg\\_rf & renewal\\_rate\\\\\n",
       "  & <fct> & <fct> & <fct> & <chr> & <chr> & <int> & <chr> & <int> & <date> & <chr> & <date> & <chr> & <chr> & <chr> & <int> & <chr> & <fct> & <int> & <chr> & <chr> & <date> & <chr> & <chr> & <dbl> & <dbl> & <int> & <dbl> & <dbl> & <dbl> & <chr> & <chr> & <fct> & <int> & <chr> & <int> & <dbl> & <dbl> & <chr> & <chr> & <dbl> & <int> & <dbl> & <dbl> & <dbl> & <dbl> & <dbl> & <dbl> & <dbl>\\\\\n",
       "\\hline\n",
       "\t1 & fun & Australia \\& New Zealand & (3,5{]}   & instra corporation & Australia & 104893671 & FirstTime & 1 & 2020-05-25 & laur.fun          & 2019-05-25 & Active & instra corporation & Non China & 1 & NA & Not Renewd & 0 & auto-renewal & NA         & 2020-05-25 & Instra Corporation & Instra Corporation &  4 &  4 & 1 & 15 & 15 &  4 & funinstra corporation & laur          & l &  4 & 4l  & 1 & 1.386294 & 5.48 & laur          & 1 & 1 & 1 &        NA & 0.000 & 0.151 & 0.00000 & 0.1851779 & 0.3718108 & NA\\\\\n",
       "\t2 & fun & Australia \\& New Zealand & (3,5{]}   & instra corporation & Australia &  99540944 & FirstTime & 1 & 2020-04-10 & oferty.fun        & 2019-04-10 & Active & instra corporation & Non China & 1 & NA & Not Renewd & 0 & auto-renewal & unrealized & 2020-04-10 & Instra Corporation & Instra Corporation &  4 &  4 & 1 & 15 & 15 &  4 & funinstra corporation & oferty        & l &  6 & 6l  & 1 & 1.386294 & 6.03 & oferty        & 1 & 1 & 1 &        NA & 0.000 & 0.146 & 0.00000 & 0.2157494 & 0.3943426 & NA\\\\\n",
       "\t3 & fun & Australia \\& New Zealand & (5,10{]}  & crazy domains      & Australia &  62376247 & FirstTime & 1 & 2020-03-07 & tennisladder.fun  & 2018-03-07 & Active & crazy domains      & Non China & 2 & NA & Not Renewd & 0 & auto-renewal & unrealized & 2020-03-07 & Crazy Domains      & Crazy Domains      & 18 &  9 & 1 & 15 & 15 &  9 & funcrazy domains      & tennisladder  & l & 12 & 12l & 1 & 2.197225 & 4.85 & tennisladder  & 1 & 1 & 1 & 1.0000000 & 0.400 & 0.334 & 0.42460 & 0.5788189 & 0.6221085 & NA\\\\\n",
       "\t4 & fun & Australia \\& New Zealand & (10,15{]} & ventraip           & Australia &  95252714 & FirstTime & 1 & 2020-03-03 & letterific.fun    & 2019-03-03 & Active & synergy wholesale  & Non China & 1 & NA & Renewed    & 0 & renewal      & NA         & 2020-02-19 & SYNERGY WHOLESALE  & VentraIP           & 15 & 15 & 1 & 15 & 15 & 15 & funventraip           & letterific    & l & 10 & 10l & 1 & 2.708050 & 5.97 & letterific    & 1 & 1 & 1 &        NA &    NA &    NA &      NA &        NA &        NA & NA\\\\\n",
       "\t5 & fun & Canada                  & (5,10{]}  & hover              & Canada    & 104937931 & FirstTime & 1 & 2020-05-26 & futurefantasy.fun & 2019-05-26 & Active & tucows             & Non China & 1 & NA & Renewed    & 0 & renewal      & NA         & 2020-05-25 & Tucows             & Hover              &  8 &  8 & 1 & 15 & 15 &  8 & funhover              & futurefantasy & l & 13 & 13l & 1 & 2.079442 & 5.61 & futurefantasy & 1 & 1 & 1 & 0.6261119 & 0.624 & 0.267 & 0.59825 & 0.5677353 & 0.4933172 & NA\\\\\n",
       "\t6 & fun & Canada                  & (5,10{]}  & hover              & Canada    &  99187839 & FirstTime & 1 & 2020-04-08 & flabocci.fun      & 2019-04-08 & Active & tucows             & Non China & 1 & NA & Renewed    & 0 & renewal      & NA         & 2020-04-07 & Tucows             & Hover              &  8 &  8 & 1 & 15 & 15 &  8 & funhover              & flabocci      & l &  8 & 8l  & 1 & 2.079442 & 3.66 & flabocci      & 1 & 1 & 1 & 0.6175394 & 0.610 & 0.282 & 0.59825 & 0.6966527 & 0.5897817 & NA\\\\\n",
       "\\end{tabular}\n"
      ],
      "text/markdown": [
       "\n",
       "A data.frame: 6 × 48\n",
       "\n",
       "| <!--/--> | tld &lt;fct&gt; | reseller_geo &lt;fct&gt; | reg_arpt_slab &lt;fct&gt; | reseller &lt;chr&gt; | reseller_country &lt;chr&gt; | domain_id &lt;int&gt; | renewal_type &lt;chr&gt; | renewed_count &lt;int&gt; | expiry_date &lt;date&gt; | domain &lt;chr&gt; | creation_date &lt;date&gt; | status &lt;chr&gt; | registrar &lt;chr&gt; | region &lt;chr&gt; | reg_period &lt;int&gt; | registrant_country &lt;chr&gt; | renewal_status &lt;fct&gt; | renew_mbg &lt;int&gt; | renew_type &lt;chr&gt; | autorenew_type &lt;chr&gt; | renew_date &lt;date&gt; | renew_registrar &lt;chr&gt; | renew_reseller &lt;chr&gt; | reg_revenue &lt;dbl&gt; | reg_arpt &lt;dbl&gt; | renew_period &lt;int&gt; | renew_domain_revenue &lt;dbl&gt; | renew_arpt &lt;dbl&gt; | reg_arpt_org &lt;dbl&gt; | tld_registrar_index &lt;chr&gt; | sld &lt;chr&gt; | sld_type &lt;fct&gt; | sld_length &lt;int&gt; | sld_type2 &lt;chr&gt; | day_domains &lt;int&gt; | log_reg_arpt &lt;dbl&gt; | gibb_score &lt;dbl&gt; | pattern &lt;chr&gt; | cluster &lt;chr&gt; | pattern_score &lt;dbl&gt; | pattern_domain_count &lt;int&gt; | pred_df_seg2_glm &lt;dbl&gt; | pred_df_seg_glm &lt;dbl&gt; | pred_df_agg_glm &lt;dbl&gt; | pred_df_seg2_rf &lt;dbl&gt; | pred_df_seg_rf &lt;dbl&gt; | pred_df_agg_rf &lt;dbl&gt; | renewal_rate &lt;dbl&gt; |\n",
       "|---|---|---|---|---|---|---|---|---|---|---|---|---|---|---|---|---|---|---|---|---|---|---|---|---|---|---|---|---|---|---|---|---|---|---|---|---|---|---|---|---|---|---|---|---|---|---|---|---|\n",
       "| 1 | fun | Australia &amp; New Zealand | (3,5]   | instra corporation | Australia | 104893671 | FirstTime | 1 | 2020-05-25 | laur.fun          | 2019-05-25 | Active | instra corporation | Non China | 1 | NA | Not Renewd | 0 | auto-renewal | NA         | 2020-05-25 | Instra Corporation | Instra Corporation |  4 |  4 | 1 | 15 | 15 |  4 | funinstra corporation | laur          | l |  4 | 4l  | 1 | 1.386294 | 5.48 | laur          | 1 | 1 | 1 |        NA | 0.000 | 0.151 | 0.00000 | 0.1851779 | 0.3718108 | NA |\n",
       "| 2 | fun | Australia &amp; New Zealand | (3,5]   | instra corporation | Australia |  99540944 | FirstTime | 1 | 2020-04-10 | oferty.fun        | 2019-04-10 | Active | instra corporation | Non China | 1 | NA | Not Renewd | 0 | auto-renewal | unrealized | 2020-04-10 | Instra Corporation | Instra Corporation |  4 |  4 | 1 | 15 | 15 |  4 | funinstra corporation | oferty        | l |  6 | 6l  | 1 | 1.386294 | 6.03 | oferty        | 1 | 1 | 1 |        NA | 0.000 | 0.146 | 0.00000 | 0.2157494 | 0.3943426 | NA |\n",
       "| 3 | fun | Australia &amp; New Zealand | (5,10]  | crazy domains      | Australia |  62376247 | FirstTime | 1 | 2020-03-07 | tennisladder.fun  | 2018-03-07 | Active | crazy domains      | Non China | 2 | NA | Not Renewd | 0 | auto-renewal | unrealized | 2020-03-07 | Crazy Domains      | Crazy Domains      | 18 |  9 | 1 | 15 | 15 |  9 | funcrazy domains      | tennisladder  | l | 12 | 12l | 1 | 2.197225 | 4.85 | tennisladder  | 1 | 1 | 1 | 1.0000000 | 0.400 | 0.334 | 0.42460 | 0.5788189 | 0.6221085 | NA |\n",
       "| 4 | fun | Australia &amp; New Zealand | (10,15] | ventraip           | Australia |  95252714 | FirstTime | 1 | 2020-03-03 | letterific.fun    | 2019-03-03 | Active | synergy wholesale  | Non China | 1 | NA | Renewed    | 0 | renewal      | NA         | 2020-02-19 | SYNERGY WHOLESALE  | VentraIP           | 15 | 15 | 1 | 15 | 15 | 15 | funventraip           | letterific    | l | 10 | 10l | 1 | 2.708050 | 5.97 | letterific    | 1 | 1 | 1 |        NA |    NA |    NA |      NA |        NA |        NA | NA |\n",
       "| 5 | fun | Canada                  | (5,10]  | hover              | Canada    | 104937931 | FirstTime | 1 | 2020-05-26 | futurefantasy.fun | 2019-05-26 | Active | tucows             | Non China | 1 | NA | Renewed    | 0 | renewal      | NA         | 2020-05-25 | Tucows             | Hover              |  8 |  8 | 1 | 15 | 15 |  8 | funhover              | futurefantasy | l | 13 | 13l | 1 | 2.079442 | 5.61 | futurefantasy | 1 | 1 | 1 | 0.6261119 | 0.624 | 0.267 | 0.59825 | 0.5677353 | 0.4933172 | NA |\n",
       "| 6 | fun | Canada                  | (5,10]  | hover              | Canada    |  99187839 | FirstTime | 1 | 2020-04-08 | flabocci.fun      | 2019-04-08 | Active | tucows             | Non China | 1 | NA | Renewed    | 0 | renewal      | NA         | 2020-04-07 | Tucows             | Hover              |  8 |  8 | 1 | 15 | 15 |  8 | funhover              | flabocci      | l |  8 | 8l  | 1 | 2.079442 | 3.66 | flabocci      | 1 | 1 | 1 | 0.6175394 | 0.610 | 0.282 | 0.59825 | 0.6966527 | 0.5897817 | NA |\n",
       "\n"
      ],
      "text/plain": [
       "  tld reseller_geo            reg_arpt_slab reseller           reseller_country\n",
       "1 fun Australia & New Zealand (3,5]         instra corporation Australia       \n",
       "2 fun Australia & New Zealand (3,5]         instra corporation Australia       \n",
       "3 fun Australia & New Zealand (5,10]        crazy domains      Australia       \n",
       "4 fun Australia & New Zealand (10,15]       ventraip           Australia       \n",
       "5 fun Canada                  (5,10]        hover              Canada          \n",
       "6 fun Canada                  (5,10]        hover              Canada          \n",
       "  domain_id renewal_type renewed_count expiry_date domain           \n",
       "1 104893671 FirstTime    1             2020-05-25  laur.fun         \n",
       "2  99540944 FirstTime    1             2020-04-10  oferty.fun       \n",
       "3  62376247 FirstTime    1             2020-03-07  tennisladder.fun \n",
       "4  95252714 FirstTime    1             2020-03-03  letterific.fun   \n",
       "5 104937931 FirstTime    1             2020-05-26  futurefantasy.fun\n",
       "6  99187839 FirstTime    1             2020-04-08  flabocci.fun     \n",
       "  creation_date status registrar          region    reg_period\n",
       "1 2019-05-25    Active instra corporation Non China 1         \n",
       "2 2019-04-10    Active instra corporation Non China 1         \n",
       "3 2018-03-07    Active crazy domains      Non China 2         \n",
       "4 2019-03-03    Active synergy wholesale  Non China 1         \n",
       "5 2019-05-26    Active tucows             Non China 1         \n",
       "6 2019-04-08    Active tucows             Non China 1         \n",
       "  registrant_country renewal_status renew_mbg renew_type   autorenew_type\n",
       "1 NA                 Not Renewd     0         auto-renewal NA            \n",
       "2 NA                 Not Renewd     0         auto-renewal unrealized    \n",
       "3 NA                 Not Renewd     0         auto-renewal unrealized    \n",
       "4 NA                 Renewed        0         renewal      NA            \n",
       "5 NA                 Renewed        0         renewal      NA            \n",
       "6 NA                 Renewed        0         renewal      NA            \n",
       "  renew_date renew_registrar    renew_reseller     reg_revenue reg_arpt\n",
       "1 2020-05-25 Instra Corporation Instra Corporation  4           4      \n",
       "2 2020-04-10 Instra Corporation Instra Corporation  4           4      \n",
       "3 2020-03-07 Crazy Domains      Crazy Domains      18           9      \n",
       "4 2020-02-19 SYNERGY WHOLESALE  VentraIP           15          15      \n",
       "5 2020-05-25 Tucows             Hover               8           8      \n",
       "6 2020-04-07 Tucows             Hover               8           8      \n",
       "  renew_period renew_domain_revenue renew_arpt reg_arpt_org\n",
       "1 1            15                   15          4          \n",
       "2 1            15                   15          4          \n",
       "3 1            15                   15          9          \n",
       "4 1            15                   15         15          \n",
       "5 1            15                   15          8          \n",
       "6 1            15                   15          8          \n",
       "  tld_registrar_index   sld           sld_type sld_length sld_type2 day_domains\n",
       "1 funinstra corporation laur          l         4         4l        1          \n",
       "2 funinstra corporation oferty        l         6         6l        1          \n",
       "3 funcrazy domains      tennisladder  l        12         12l       1          \n",
       "4 funventraip           letterific    l        10         10l       1          \n",
       "5 funhover              futurefantasy l        13         13l       1          \n",
       "6 funhover              flabocci      l         8         8l        1          \n",
       "  log_reg_arpt gibb_score pattern       cluster pattern_score\n",
       "1 1.386294     5.48       laur          1       1            \n",
       "2 1.386294     6.03       oferty        1       1            \n",
       "3 2.197225     4.85       tennisladder  1       1            \n",
       "4 2.708050     5.97       letterific    1       1            \n",
       "5 2.079442     5.61       futurefantasy 1       1            \n",
       "6 2.079442     3.66       flabocci      1       1            \n",
       "  pattern_domain_count pred_df_seg2_glm pred_df_seg_glm pred_df_agg_glm\n",
       "1 1                           NA        0.000           0.151          \n",
       "2 1                           NA        0.000           0.146          \n",
       "3 1                    1.0000000        0.400           0.334          \n",
       "4 1                           NA           NA              NA          \n",
       "5 1                    0.6261119        0.624           0.267          \n",
       "6 1                    0.6175394        0.610           0.282          \n",
       "  pred_df_seg2_rf pred_df_seg_rf pred_df_agg_rf renewal_rate\n",
       "1 0.00000         0.1851779      0.3718108      NA          \n",
       "2 0.00000         0.2157494      0.3943426      NA          \n",
       "3 0.42460         0.5788189      0.6221085      NA          \n",
       "4      NA                NA             NA      NA          \n",
       "5 0.59825         0.5677353      0.4933172      NA          \n",
       "6 0.59825         0.6966527      0.5897817      NA          "
      ]
     },
     "metadata": {},
     "output_type": "display_data"
    }
   ],
   "source": [
    "test_predictions_fallback_df <- merge(test_predictions_df, \n",
    "                                      npv_fallback_first_geo_arpt_tld %>% select(tld,reseller_geo,reg_arpt_slab,renewal_rate),\n",
    "      on = c('tld', 'reseller_geo', 'reg_arpt_slab'), \n",
    "      all.x = TRUE)\n",
    "dim(test_predictions_df)\n",
    "dim(test_predictions_fallback_df)\n",
    "head(test_predictions_fallback_df)"
   ]
  },
  {
   "cell_type": "code",
   "execution_count": 34,
   "metadata": {},
   "outputs": [
    {
     "data": {
      "text/html": [
       "<table>\n",
       "<caption>A data.frame: 16 × 7</caption>\n",
       "<thead>\n",
       "\t<tr><th scope=col>tld</th><th scope=col>reseller_geo</th><th scope=col>reg_arpt_slab</th><th scope=col>expiring_domains</th><th scope=col>renewed_domains</th><th scope=col>renewal_rate</th><th scope=col>index</th></tr>\n",
       "\t<tr><th scope=col>&lt;fct&gt;</th><th scope=col>&lt;fct&gt;</th><th scope=col>&lt;fct&gt;</th><th scope=col>&lt;int&gt;</th><th scope=col>&lt;int&gt;</th><th scope=col>&lt;dbl&gt;</th><th scope=col>&lt;chr&gt;</th></tr>\n",
       "</thead>\n",
       "<tbody>\n",
       "\t<tr><td>fun</td><td>China        </td><td>(-Inf,0]</td><td> 2098</td><td> 111</td><td>0.053</td><td>funChina(-Inf,0]      </td></tr>\n",
       "\t<tr><td>fun</td><td>China        </td><td>(0,1]   </td><td>82340</td><td>1910</td><td>0.023</td><td>funChina(0,1]         </td></tr>\n",
       "\t<tr><td>fun</td><td>China        </td><td>(1,3]   </td><td> 9991</td><td>1454</td><td>0.146</td><td>funChina(1,3]         </td></tr>\n",
       "\t<tr><td>fun</td><td>EU           </td><td>(-Inf,0]</td><td>  901</td><td>   8</td><td>0.009</td><td>funEU(-Inf,0]         </td></tr>\n",
       "\t<tr><td>fun</td><td>EU           </td><td>(0,1]   </td><td> 6206</td><td> 210</td><td>0.034</td><td>funEU(0,1]            </td></tr>\n",
       "\t<tr><td>fun</td><td>EU           </td><td>(1,3]   </td><td> 1907</td><td> 550</td><td>0.288</td><td>funEU(1,3]            </td></tr>\n",
       "\t<tr><td>fun</td><td>EU           </td><td>(10,15] </td><td>  664</td><td> 405</td><td>0.610</td><td>funEU(10,15]          </td></tr>\n",
       "\t<tr><td>fun</td><td>India        </td><td>(0,1]   </td><td> 1180</td><td>  30</td><td>0.025</td><td>funIndia(0,1]         </td></tr>\n",
       "\t<tr><td>fun</td><td>Japan        </td><td>(0,1]   </td><td> 6931</td><td>1478</td><td>0.213</td><td>funJapan(0,1]         </td></tr>\n",
       "\t<tr><td>fun</td><td>Japan        </td><td>(1,3]   </td><td> 3981</td><td> 924</td><td>0.232</td><td>funJapan(1,3]         </td></tr>\n",
       "\t<tr><td>fun</td><td>Others       </td><td>(0,1]   </td><td>10777</td><td> 129</td><td>0.012</td><td>funOthers(0,1]        </td></tr>\n",
       "\t<tr><td>fun</td><td>Russia       </td><td>(-Inf,0]</td><td>  602</td><td>  60</td><td>0.100</td><td>funRussia(-Inf,0]     </td></tr>\n",
       "\t<tr><td>fun</td><td>Russia       </td><td>(0,1]   </td><td>11869</td><td> 281</td><td>0.024</td><td>funRussia(0,1]        </td></tr>\n",
       "\t<tr><td>fun</td><td>United States</td><td>(0,1]   </td><td>57837</td><td>4205</td><td>0.073</td><td>funUnited States(0,1] </td></tr>\n",
       "\t<tr><td>fun</td><td>United States</td><td>(1,3]   </td><td>37675</td><td>3184</td><td>0.085</td><td>funUnited States(1,3] </td></tr>\n",
       "\t<tr><td>fun</td><td>United States</td><td>(5,10]  </td><td>  642</td><td> 342</td><td>0.533</td><td>funUnited States(5,10]</td></tr>\n",
       "</tbody>\n",
       "</table>\n"
      ],
      "text/latex": [
       "A data.frame: 16 × 7\n",
       "\\begin{tabular}{lllllll}\n",
       " tld & reseller\\_geo & reg\\_arpt\\_slab & expiring\\_domains & renewed\\_domains & renewal\\_rate & index\\\\\n",
       " <fct> & <fct> & <fct> & <int> & <int> & <dbl> & <chr>\\\\\n",
       "\\hline\n",
       "\t fun & China         & (-Inf,0{]} &  2098 &  111 & 0.053 & funChina(-Inf,0{]}      \\\\\n",
       "\t fun & China         & (0,1{]}    & 82340 & 1910 & 0.023 & funChina(0,1{]}         \\\\\n",
       "\t fun & China         & (1,3{]}    &  9991 & 1454 & 0.146 & funChina(1,3{]}         \\\\\n",
       "\t fun & EU            & (-Inf,0{]} &   901 &    8 & 0.009 & funEU(-Inf,0{]}         \\\\\n",
       "\t fun & EU            & (0,1{]}    &  6206 &  210 & 0.034 & funEU(0,1{]}            \\\\\n",
       "\t fun & EU            & (1,3{]}    &  1907 &  550 & 0.288 & funEU(1,3{]}            \\\\\n",
       "\t fun & EU            & (10,15{]}  &   664 &  405 & 0.610 & funEU(10,15{]}          \\\\\n",
       "\t fun & India         & (0,1{]}    &  1180 &   30 & 0.025 & funIndia(0,1{]}         \\\\\n",
       "\t fun & Japan         & (0,1{]}    &  6931 & 1478 & 0.213 & funJapan(0,1{]}         \\\\\n",
       "\t fun & Japan         & (1,3{]}    &  3981 &  924 & 0.232 & funJapan(1,3{]}         \\\\\n",
       "\t fun & Others        & (0,1{]}    & 10777 &  129 & 0.012 & funOthers(0,1{]}        \\\\\n",
       "\t fun & Russia        & (-Inf,0{]} &   602 &   60 & 0.100 & funRussia(-Inf,0{]}     \\\\\n",
       "\t fun & Russia        & (0,1{]}    & 11869 &  281 & 0.024 & funRussia(0,1{]}        \\\\\n",
       "\t fun & United States & (0,1{]}    & 57837 & 4205 & 0.073 & funUnited States(0,1{]} \\\\\n",
       "\t fun & United States & (1,3{]}    & 37675 & 3184 & 0.085 & funUnited States(1,3{]} \\\\\n",
       "\t fun & United States & (5,10{]}   &   642 &  342 & 0.533 & funUnited States(5,10{]}\\\\\n",
       "\\end{tabular}\n"
      ],
      "text/markdown": [
       "\n",
       "A data.frame: 16 × 7\n",
       "\n",
       "| tld &lt;fct&gt; | reseller_geo &lt;fct&gt; | reg_arpt_slab &lt;fct&gt; | expiring_domains &lt;int&gt; | renewed_domains &lt;int&gt; | renewal_rate &lt;dbl&gt; | index &lt;chr&gt; |\n",
       "|---|---|---|---|---|---|---|\n",
       "| fun | China         | (-Inf,0] |  2098 |  111 | 0.053 | funChina(-Inf,0]       |\n",
       "| fun | China         | (0,1]    | 82340 | 1910 | 0.023 | funChina(0,1]          |\n",
       "| fun | China         | (1,3]    |  9991 | 1454 | 0.146 | funChina(1,3]          |\n",
       "| fun | EU            | (-Inf,0] |   901 |    8 | 0.009 | funEU(-Inf,0]          |\n",
       "| fun | EU            | (0,1]    |  6206 |  210 | 0.034 | funEU(0,1]             |\n",
       "| fun | EU            | (1,3]    |  1907 |  550 | 0.288 | funEU(1,3]             |\n",
       "| fun | EU            | (10,15]  |   664 |  405 | 0.610 | funEU(10,15]           |\n",
       "| fun | India         | (0,1]    |  1180 |   30 | 0.025 | funIndia(0,1]          |\n",
       "| fun | Japan         | (0,1]    |  6931 | 1478 | 0.213 | funJapan(0,1]          |\n",
       "| fun | Japan         | (1,3]    |  3981 |  924 | 0.232 | funJapan(1,3]          |\n",
       "| fun | Others        | (0,1]    | 10777 |  129 | 0.012 | funOthers(0,1]         |\n",
       "| fun | Russia        | (-Inf,0] |   602 |   60 | 0.100 | funRussia(-Inf,0]      |\n",
       "| fun | Russia        | (0,1]    | 11869 |  281 | 0.024 | funRussia(0,1]         |\n",
       "| fun | United States | (0,1]    | 57837 | 4205 | 0.073 | funUnited States(0,1]  |\n",
       "| fun | United States | (1,3]    | 37675 | 3184 | 0.085 | funUnited States(1,3]  |\n",
       "| fun | United States | (5,10]   |   642 |  342 | 0.533 | funUnited States(5,10] |\n",
       "\n"
      ],
      "text/plain": [
       "   tld reseller_geo  reg_arpt_slab expiring_domains renewed_domains\n",
       "1  fun China         (-Inf,0]       2098             111           \n",
       "2  fun China         (0,1]         82340            1910           \n",
       "3  fun China         (1,3]          9991            1454           \n",
       "4  fun EU            (-Inf,0]        901               8           \n",
       "5  fun EU            (0,1]          6206             210           \n",
       "6  fun EU            (1,3]          1907             550           \n",
       "7  fun EU            (10,15]         664             405           \n",
       "8  fun India         (0,1]          1180              30           \n",
       "9  fun Japan         (0,1]          6931            1478           \n",
       "10 fun Japan         (1,3]          3981             924           \n",
       "11 fun Others        (0,1]         10777             129           \n",
       "12 fun Russia        (-Inf,0]        602              60           \n",
       "13 fun Russia        (0,1]         11869             281           \n",
       "14 fun United States (0,1]         57837            4205           \n",
       "15 fun United States (1,3]         37675            3184           \n",
       "16 fun United States (5,10]          642             342           \n",
       "   renewal_rate index                 \n",
       "1  0.053        funChina(-Inf,0]      \n",
       "2  0.023        funChina(0,1]         \n",
       "3  0.146        funChina(1,3]         \n",
       "4  0.009        funEU(-Inf,0]         \n",
       "5  0.034        funEU(0,1]            \n",
       "6  0.288        funEU(1,3]            \n",
       "7  0.610        funEU(10,15]          \n",
       "8  0.025        funIndia(0,1]         \n",
       "9  0.213        funJapan(0,1]         \n",
       "10 0.232        funJapan(1,3]         \n",
       "11 0.012        funOthers(0,1]        \n",
       "12 0.100        funRussia(-Inf,0]     \n",
       "13 0.024        funRussia(0,1]        \n",
       "14 0.073        funUnited States(0,1] \n",
       "15 0.085        funUnited States(1,3] \n",
       "16 0.533        funUnited States(5,10]"
      ]
     },
     "metadata": {},
     "output_type": "display_data"
    }
   ],
   "source": [
    "npv_fallback_first_geo_arpt_tld %>% filter( tld == 'fun')"
   ]
  },
  {
   "cell_type": "markdown",
   "metadata": {},
   "source": [
    "# Regenerate npv_fallback_first_geo_arpt_tld based on training data (?)"
   ]
  },
  {
   "cell_type": "code",
   "execution_count": 35,
   "metadata": {},
   "outputs": [
    {
     "data": {
      "text/html": [
       "<table>\n",
       "<caption>A data.frame: 6 × 7</caption>\n",
       "<thead>\n",
       "\t<tr><th></th><th scope=col>tld</th><th scope=col>reseller_geo</th><th scope=col>reg_arpt_slab</th><th scope=col>expiring_domains</th><th scope=col>renewed_domains</th><th scope=col>renewal_rate</th><th scope=col>index</th></tr>\n",
       "\t<tr><th></th><th scope=col>&lt;fct&gt;</th><th scope=col>&lt;fct&gt;</th><th scope=col>&lt;fct&gt;</th><th scope=col>&lt;int&gt;</th><th scope=col>&lt;int&gt;</th><th scope=col>&lt;dbl&gt;</th><th scope=col>&lt;chr&gt;</th></tr>\n",
       "</thead>\n",
       "<tbody>\n",
       "\t<tr><th scope=row>1</th><td>fun</td><td>China</td><td>(-Inf,0]</td><td> 2098</td><td> 111</td><td>0.053</td><td>funChina(-Inf,0]</td></tr>\n",
       "\t<tr><th scope=row>2</th><td>fun</td><td>China</td><td>(0,1]   </td><td>82340</td><td>1910</td><td>0.023</td><td>funChina(0,1]   </td></tr>\n",
       "\t<tr><th scope=row>3</th><td>fun</td><td>China</td><td>(1,3]   </td><td> 9991</td><td>1454</td><td>0.146</td><td>funChina(1,3]   </td></tr>\n",
       "\t<tr><th scope=row>4</th><td>fun</td><td>EU   </td><td>(-Inf,0]</td><td>  901</td><td>   8</td><td>0.009</td><td>funEU(-Inf,0]   </td></tr>\n",
       "\t<tr><th scope=row>5</th><td>fun</td><td>EU   </td><td>(0,1]   </td><td> 6206</td><td> 210</td><td>0.034</td><td>funEU(0,1]      </td></tr>\n",
       "\t<tr><th scope=row>6</th><td>fun</td><td>EU   </td><td>(1,3]   </td><td> 1907</td><td> 550</td><td>0.288</td><td>funEU(1,3]      </td></tr>\n",
       "</tbody>\n",
       "</table>\n"
      ],
      "text/latex": [
       "A data.frame: 6 × 7\n",
       "\\begin{tabular}{r|lllllll}\n",
       "  & tld & reseller\\_geo & reg\\_arpt\\_slab & expiring\\_domains & renewed\\_domains & renewal\\_rate & index\\\\\n",
       "  & <fct> & <fct> & <fct> & <int> & <int> & <dbl> & <chr>\\\\\n",
       "\\hline\n",
       "\t1 & fun & China & (-Inf,0{]} &  2098 &  111 & 0.053 & funChina(-Inf,0{]}\\\\\n",
       "\t2 & fun & China & (0,1{]}    & 82340 & 1910 & 0.023 & funChina(0,1{]}   \\\\\n",
       "\t3 & fun & China & (1,3{]}    &  9991 & 1454 & 0.146 & funChina(1,3{]}   \\\\\n",
       "\t4 & fun & EU    & (-Inf,0{]} &   901 &    8 & 0.009 & funEU(-Inf,0{]}   \\\\\n",
       "\t5 & fun & EU    & (0,1{]}    &  6206 &  210 & 0.034 & funEU(0,1{]}      \\\\\n",
       "\t6 & fun & EU    & (1,3{]}    &  1907 &  550 & 0.288 & funEU(1,3{]}      \\\\\n",
       "\\end{tabular}\n"
      ],
      "text/markdown": [
       "\n",
       "A data.frame: 6 × 7\n",
       "\n",
       "| <!--/--> | tld &lt;fct&gt; | reseller_geo &lt;fct&gt; | reg_arpt_slab &lt;fct&gt; | expiring_domains &lt;int&gt; | renewed_domains &lt;int&gt; | renewal_rate &lt;dbl&gt; | index &lt;chr&gt; |\n",
       "|---|---|---|---|---|---|---|---|\n",
       "| 1 | fun | China | (-Inf,0] |  2098 |  111 | 0.053 | funChina(-Inf,0] |\n",
       "| 2 | fun | China | (0,1]    | 82340 | 1910 | 0.023 | funChina(0,1]    |\n",
       "| 3 | fun | China | (1,3]    |  9991 | 1454 | 0.146 | funChina(1,3]    |\n",
       "| 4 | fun | EU    | (-Inf,0] |   901 |    8 | 0.009 | funEU(-Inf,0]    |\n",
       "| 5 | fun | EU    | (0,1]    |  6206 |  210 | 0.034 | funEU(0,1]       |\n",
       "| 6 | fun | EU    | (1,3]    |  1907 |  550 | 0.288 | funEU(1,3]       |\n",
       "\n"
      ],
      "text/plain": [
       "  tld reseller_geo reg_arpt_slab expiring_domains renewed_domains renewal_rate\n",
       "1 fun China        (-Inf,0]       2098             111            0.053       \n",
       "2 fun China        (0,1]         82340            1910            0.023       \n",
       "3 fun China        (1,3]          9991            1454            0.146       \n",
       "4 fun EU           (-Inf,0]        901               8            0.009       \n",
       "5 fun EU           (0,1]          6206             210            0.034       \n",
       "6 fun EU           (1,3]          1907             550            0.288       \n",
       "  index           \n",
       "1 funChina(-Inf,0]\n",
       "2 funChina(0,1]   \n",
       "3 funChina(1,3]   \n",
       "4 funEU(-Inf,0]   \n",
       "5 funEU(0,1]      \n",
       "6 funEU(1,3]      "
      ]
     },
     "metadata": {},
     "output_type": "display_data"
    }
   ],
   "source": [
    "head(npv_fallback_first_geo_arpt_tld)"
   ]
  },
  {
   "cell_type": "code",
   "execution_count": 36,
   "metadata": {},
   "outputs": [
    {
     "data": {
      "text/html": [
       "<table>\n",
       "<caption>A data.table: 6 × 39</caption>\n",
       "<thead>\n",
       "\t<tr><th scope=col>renewal_type</th><th scope=col>renewed_count</th><th scope=col>expiry_date</th><th scope=col>domain_id</th><th scope=col>domain</th><th scope=col>creation_date</th><th scope=col>status</th><th scope=col>tld</th><th scope=col>registrar</th><th scope=col>reseller</th><th scope=col>reseller_country</th><th scope=col>region</th><th scope=col>reg_period</th><th scope=col>registrant_country</th><th scope=col>renewal_status</th><th scope=col>renew_mbg</th><th scope=col>renew_type</th><th scope=col>autorenew_type</th><th scope=col>renew_date</th><th scope=col>renew_registrar</th><th scope=col>renew_reseller</th><th scope=col>reg_revenue</th><th scope=col>reg_arpt</th><th scope=col>renew_period</th><th scope=col>renew_domain_revenue</th><th scope=col>renew_arpt</th><th scope=col>reg_arpt_org</th><th scope=col>tld_registrar_index</th><th scope=col>sld</th><th scope=col>sld_type</th><th scope=col>sld_length</th><th scope=col>sld_type2</th><th scope=col>day_domains</th><th scope=col>log_reg_arpt</th><th scope=col>gibb_score</th><th scope=col>pattern</th><th scope=col>cluster</th><th scope=col>pattern_score</th><th scope=col>pattern_domain_count</th></tr>\n",
       "\t<tr><th scope=col>&lt;chr&gt;</th><th scope=col>&lt;int&gt;</th><th scope=col>&lt;date&gt;</th><th scope=col>&lt;int&gt;</th><th scope=col>&lt;chr&gt;</th><th scope=col>&lt;date&gt;</th><th scope=col>&lt;chr&gt;</th><th scope=col>&lt;fct&gt;</th><th scope=col>&lt;chr&gt;</th><th scope=col>&lt;chr&gt;</th><th scope=col>&lt;chr&gt;</th><th scope=col>&lt;chr&gt;</th><th scope=col>&lt;int&gt;</th><th scope=col>&lt;chr&gt;</th><th scope=col>&lt;fct&gt;</th><th scope=col>&lt;int&gt;</th><th scope=col>&lt;chr&gt;</th><th scope=col>&lt;chr&gt;</th><th scope=col>&lt;date&gt;</th><th scope=col>&lt;chr&gt;</th><th scope=col>&lt;chr&gt;</th><th scope=col>&lt;dbl&gt;</th><th scope=col>&lt;dbl&gt;</th><th scope=col>&lt;int&gt;</th><th scope=col>&lt;dbl&gt;</th><th scope=col>&lt;dbl&gt;</th><th scope=col>&lt;dbl&gt;</th><th scope=col>&lt;chr&gt;</th><th scope=col>&lt;chr&gt;</th><th scope=col>&lt;fct&gt;</th><th scope=col>&lt;int&gt;</th><th scope=col>&lt;chr&gt;</th><th scope=col>&lt;int&gt;</th><th scope=col>&lt;dbl&gt;</th><th scope=col>&lt;dbl&gt;</th><th scope=col>&lt;chr&gt;</th><th scope=col>&lt;chr&gt;</th><th scope=col>&lt;dbl&gt;</th><th scope=col>&lt;int&gt;</th></tr>\n",
       "</thead>\n",
       "<tbody>\n",
       "\t<tr><td>FirstTime</td><td>1</td><td>2020-01-21</td><td>91584433</td><td><span style=white-space:pre-wrap>racefor.fun     </span></td><td>2019-01-21</td><td>Active</td><td>fun</td><td>1&amp;1 internet</td><td>1&amp;1 internet</td><td>Germany</td><td>Non China</td><td>1</td><td>NA</td><td><span style=white-space:pre-wrap>Renewed   </span></td><td>0</td><td>auto-renewal</td><td><span style=white-space:pre-wrap>realized  </span></td><td>2020-01-21</td><td>1&amp;1 Internet</td><td>1&amp;1 Internet</td><td>15</td><td>15</td><td>1</td><td>15</td><td>15</td><td>15</td><td>fun1&amp;1 internet</td><td><span style=white-space:pre-wrap>racefor     </span></td><td>l </td><td> 7</td><td>7l </td><td>1</td><td>2.70805</td><td> 6.77</td><td><span style=white-space:pre-wrap>racefor     </span></td><td>1</td><td>1</td><td>1</td></tr>\n",
       "\t<tr><td>FirstTime</td><td>1</td><td>2020-01-30</td><td>92254793</td><td><span style=white-space:pre-wrap>united4.fun     </span></td><td>2019-01-30</td><td>Active</td><td>fun</td><td>1&amp;1 internet</td><td>1&amp;1 internet</td><td>Germany</td><td>Non China</td><td>1</td><td>NA</td><td><span style=white-space:pre-wrap>Renewed   </span></td><td>0</td><td>auto-renewal</td><td><span style=white-space:pre-wrap>realized  </span></td><td>2020-01-30</td><td>1&amp;1 Internet</td><td>1&amp;1 Internet</td><td>15</td><td>15</td><td>1</td><td>15</td><td>15</td><td>15</td><td>fun1&amp;1 internet</td><td><span style=white-space:pre-wrap>united4     </span></td><td>ln</td><td> 7</td><td>7ln</td><td>1</td><td>2.70805</td><td> 8.65</td><td><span style=white-space:pre-wrap>united4     </span></td><td>1</td><td>1</td><td>1</td></tr>\n",
       "\t<tr><td>FirstTime</td><td>1</td><td>2020-02-04</td><td>92827233</td><td><span style=white-space:pre-wrap>bereal.fun      </span></td><td>2019-02-04</td><td>Active</td><td>fun</td><td>1&amp;1 internet</td><td>1&amp;1 internet</td><td>Germany</td><td>Non China</td><td>1</td><td>NA</td><td><span style=white-space:pre-wrap>Renewed   </span></td><td>0</td><td>auto-renewal</td><td><span style=white-space:pre-wrap>realized  </span></td><td>2020-02-04</td><td>1&amp;1 Internet</td><td>1&amp;1 Internet</td><td>15</td><td>15</td><td>1</td><td>15</td><td>15</td><td>15</td><td>fun1&amp;1 internet</td><td><span style=white-space:pre-wrap>bereal      </span></td><td>l </td><td> 6</td><td>6l </td><td>1</td><td>2.70805</td><td>13.09</td><td><span style=white-space:pre-wrap>bereal      </span></td><td>1</td><td>1</td><td>1</td></tr>\n",
       "\t<tr><td>FirstTime</td><td>1</td><td>2020-02-12</td><td>93490823</td><td>dogsoutdoors.fun</td><td>2019-02-12</td><td>Active</td><td>fun</td><td>1&amp;1 internet</td><td>1&amp;1 internet</td><td>Germany</td><td>Non China</td><td>1</td><td>NA</td><td>Not Renewd</td><td>0</td><td>auto-renewal</td><td>unrealized</td><td>2020-02-12</td><td>1&amp;1 Internet</td><td>1&amp;1 Internet</td><td>15</td><td>15</td><td>1</td><td>15</td><td>15</td><td>15</td><td>fun1&amp;1 internet</td><td>dogsoutdoors</td><td>l </td><td>12</td><td>12l</td><td>1</td><td>2.70805</td><td> 2.44</td><td>dogsoutdoors</td><td>1</td><td>1</td><td>1</td></tr>\n",
       "\t<tr><td>FirstTime</td><td>1</td><td>2020-02-15</td><td>93767978</td><td><span style=white-space:pre-wrap>rosalux.fun     </span></td><td>2019-02-15</td><td>Active</td><td>fun</td><td>1&amp;1 internet</td><td>1&amp;1 internet</td><td>Germany</td><td>Non China</td><td>1</td><td>NA</td><td><span style=white-space:pre-wrap>Renewed   </span></td><td>0</td><td>auto-renewal</td><td><span style=white-space:pre-wrap>realized  </span></td><td>2020-02-15</td><td>1&amp;1 Internet</td><td>1&amp;1 Internet</td><td>15</td><td>15</td><td>1</td><td>15</td><td>15</td><td>15</td><td>fun1&amp;1 internet</td><td><span style=white-space:pre-wrap>rosalux     </span></td><td>l </td><td> 7</td><td>7l </td><td>1</td><td>2.70805</td><td> 2.34</td><td><span style=white-space:pre-wrap>rosalux     </span></td><td>1</td><td>1</td><td>1</td></tr>\n",
       "\t<tr><td>FirstTime</td><td>1</td><td>2020-02-16</td><td>93823708</td><td><span style=white-space:pre-wrap>verygood.fun    </span></td><td>2019-02-16</td><td>Active</td><td>fun</td><td>1&amp;1 internet</td><td>1&amp;1 internet</td><td>Germany</td><td>Non China</td><td>1</td><td>NA</td><td><span style=white-space:pre-wrap>Renewed   </span></td><td>0</td><td>auto-renewal</td><td><span style=white-space:pre-wrap>realized  </span></td><td>2020-02-16</td><td>1&amp;1 Internet</td><td>1&amp;1 Internet</td><td>15</td><td>15</td><td>1</td><td>15</td><td>15</td><td>15</td><td>fun1&amp;1 internet</td><td><span style=white-space:pre-wrap>verygood    </span></td><td>l </td><td> 8</td><td>8l </td><td>1</td><td>2.70805</td><td> 3.64</td><td><span style=white-space:pre-wrap>verygood    </span></td><td>1</td><td>1</td><td>1</td></tr>\n",
       "</tbody>\n",
       "</table>\n"
      ],
      "text/latex": [
       "A data.table: 6 × 39\n",
       "\\begin{tabular}{lllllllllllllllllllllllllllllllllllllll}\n",
       " renewal\\_type & renewed\\_count & expiry\\_date & domain\\_id & domain & creation\\_date & status & tld & registrar & reseller & reseller\\_country & region & reg\\_period & registrant\\_country & renewal\\_status & renew\\_mbg & renew\\_type & autorenew\\_type & renew\\_date & renew\\_registrar & renew\\_reseller & reg\\_revenue & reg\\_arpt & renew\\_period & renew\\_domain\\_revenue & renew\\_arpt & reg\\_arpt\\_org & tld\\_registrar\\_index & sld & sld\\_type & sld\\_length & sld\\_type2 & day\\_domains & log\\_reg\\_arpt & gibb\\_score & pattern & cluster & pattern\\_score & pattern\\_domain\\_count\\\\\n",
       " <chr> & <int> & <date> & <int> & <chr> & <date> & <chr> & <fct> & <chr> & <chr> & <chr> & <chr> & <int> & <chr> & <fct> & <int> & <chr> & <chr> & <date> & <chr> & <chr> & <dbl> & <dbl> & <int> & <dbl> & <dbl> & <dbl> & <chr> & <chr> & <fct> & <int> & <chr> & <int> & <dbl> & <dbl> & <chr> & <chr> & <dbl> & <int>\\\\\n",
       "\\hline\n",
       "\t FirstTime & 1 & 2020-01-21 & 91584433 & racefor.fun      & 2019-01-21 & Active & fun & 1\\&1 internet & 1\\&1 internet & Germany & Non China & 1 & NA & Renewed    & 0 & auto-renewal & realized   & 2020-01-21 & 1\\&1 Internet & 1\\&1 Internet & 15 & 15 & 1 & 15 & 15 & 15 & fun1\\&1 internet & racefor      & l  &  7 & 7l  & 1 & 2.70805 &  6.77 & racefor      & 1 & 1 & 1\\\\\n",
       "\t FirstTime & 1 & 2020-01-30 & 92254793 & united4.fun      & 2019-01-30 & Active & fun & 1\\&1 internet & 1\\&1 internet & Germany & Non China & 1 & NA & Renewed    & 0 & auto-renewal & realized   & 2020-01-30 & 1\\&1 Internet & 1\\&1 Internet & 15 & 15 & 1 & 15 & 15 & 15 & fun1\\&1 internet & united4      & ln &  7 & 7ln & 1 & 2.70805 &  8.65 & united4      & 1 & 1 & 1\\\\\n",
       "\t FirstTime & 1 & 2020-02-04 & 92827233 & bereal.fun       & 2019-02-04 & Active & fun & 1\\&1 internet & 1\\&1 internet & Germany & Non China & 1 & NA & Renewed    & 0 & auto-renewal & realized   & 2020-02-04 & 1\\&1 Internet & 1\\&1 Internet & 15 & 15 & 1 & 15 & 15 & 15 & fun1\\&1 internet & bereal       & l  &  6 & 6l  & 1 & 2.70805 & 13.09 & bereal       & 1 & 1 & 1\\\\\n",
       "\t FirstTime & 1 & 2020-02-12 & 93490823 & dogsoutdoors.fun & 2019-02-12 & Active & fun & 1\\&1 internet & 1\\&1 internet & Germany & Non China & 1 & NA & Not Renewd & 0 & auto-renewal & unrealized & 2020-02-12 & 1\\&1 Internet & 1\\&1 Internet & 15 & 15 & 1 & 15 & 15 & 15 & fun1\\&1 internet & dogsoutdoors & l  & 12 & 12l & 1 & 2.70805 &  2.44 & dogsoutdoors & 1 & 1 & 1\\\\\n",
       "\t FirstTime & 1 & 2020-02-15 & 93767978 & rosalux.fun      & 2019-02-15 & Active & fun & 1\\&1 internet & 1\\&1 internet & Germany & Non China & 1 & NA & Renewed    & 0 & auto-renewal & realized   & 2020-02-15 & 1\\&1 Internet & 1\\&1 Internet & 15 & 15 & 1 & 15 & 15 & 15 & fun1\\&1 internet & rosalux      & l  &  7 & 7l  & 1 & 2.70805 &  2.34 & rosalux      & 1 & 1 & 1\\\\\n",
       "\t FirstTime & 1 & 2020-02-16 & 93823708 & verygood.fun     & 2019-02-16 & Active & fun & 1\\&1 internet & 1\\&1 internet & Germany & Non China & 1 & NA & Renewed    & 0 & auto-renewal & realized   & 2020-02-16 & 1\\&1 Internet & 1\\&1 Internet & 15 & 15 & 1 & 15 & 15 & 15 & fun1\\&1 internet & verygood     & l  &  8 & 8l  & 1 & 2.70805 &  3.64 & verygood     & 1 & 1 & 1\\\\\n",
       "\\end{tabular}\n"
      ],
      "text/markdown": [
       "\n",
       "A data.table: 6 × 39\n",
       "\n",
       "| renewal_type &lt;chr&gt; | renewed_count &lt;int&gt; | expiry_date &lt;date&gt; | domain_id &lt;int&gt; | domain &lt;chr&gt; | creation_date &lt;date&gt; | status &lt;chr&gt; | tld &lt;fct&gt; | registrar &lt;chr&gt; | reseller &lt;chr&gt; | reseller_country &lt;chr&gt; | region &lt;chr&gt; | reg_period &lt;int&gt; | registrant_country &lt;chr&gt; | renewal_status &lt;fct&gt; | renew_mbg &lt;int&gt; | renew_type &lt;chr&gt; | autorenew_type &lt;chr&gt; | renew_date &lt;date&gt; | renew_registrar &lt;chr&gt; | renew_reseller &lt;chr&gt; | reg_revenue &lt;dbl&gt; | reg_arpt &lt;dbl&gt; | renew_period &lt;int&gt; | renew_domain_revenue &lt;dbl&gt; | renew_arpt &lt;dbl&gt; | reg_arpt_org &lt;dbl&gt; | tld_registrar_index &lt;chr&gt; | sld &lt;chr&gt; | sld_type &lt;fct&gt; | sld_length &lt;int&gt; | sld_type2 &lt;chr&gt; | day_domains &lt;int&gt; | log_reg_arpt &lt;dbl&gt; | gibb_score &lt;dbl&gt; | pattern &lt;chr&gt; | cluster &lt;chr&gt; | pattern_score &lt;dbl&gt; | pattern_domain_count &lt;int&gt; |\n",
       "|---|---|---|---|---|---|---|---|---|---|---|---|---|---|---|---|---|---|---|---|---|---|---|---|---|---|---|---|---|---|---|---|---|---|---|---|---|---|---|\n",
       "| FirstTime | 1 | 2020-01-21 | 91584433 | racefor.fun      | 2019-01-21 | Active | fun | 1&amp;1 internet | 1&amp;1 internet | Germany | Non China | 1 | NA | Renewed    | 0 | auto-renewal | realized   | 2020-01-21 | 1&amp;1 Internet | 1&amp;1 Internet | 15 | 15 | 1 | 15 | 15 | 15 | fun1&amp;1 internet | racefor      | l  |  7 | 7l  | 1 | 2.70805 |  6.77 | racefor      | 1 | 1 | 1 |\n",
       "| FirstTime | 1 | 2020-01-30 | 92254793 | united4.fun      | 2019-01-30 | Active | fun | 1&amp;1 internet | 1&amp;1 internet | Germany | Non China | 1 | NA | Renewed    | 0 | auto-renewal | realized   | 2020-01-30 | 1&amp;1 Internet | 1&amp;1 Internet | 15 | 15 | 1 | 15 | 15 | 15 | fun1&amp;1 internet | united4      | ln |  7 | 7ln | 1 | 2.70805 |  8.65 | united4      | 1 | 1 | 1 |\n",
       "| FirstTime | 1 | 2020-02-04 | 92827233 | bereal.fun       | 2019-02-04 | Active | fun | 1&amp;1 internet | 1&amp;1 internet | Germany | Non China | 1 | NA | Renewed    | 0 | auto-renewal | realized   | 2020-02-04 | 1&amp;1 Internet | 1&amp;1 Internet | 15 | 15 | 1 | 15 | 15 | 15 | fun1&amp;1 internet | bereal       | l  |  6 | 6l  | 1 | 2.70805 | 13.09 | bereal       | 1 | 1 | 1 |\n",
       "| FirstTime | 1 | 2020-02-12 | 93490823 | dogsoutdoors.fun | 2019-02-12 | Active | fun | 1&amp;1 internet | 1&amp;1 internet | Germany | Non China | 1 | NA | Not Renewd | 0 | auto-renewal | unrealized | 2020-02-12 | 1&amp;1 Internet | 1&amp;1 Internet | 15 | 15 | 1 | 15 | 15 | 15 | fun1&amp;1 internet | dogsoutdoors | l  | 12 | 12l | 1 | 2.70805 |  2.44 | dogsoutdoors | 1 | 1 | 1 |\n",
       "| FirstTime | 1 | 2020-02-15 | 93767978 | rosalux.fun      | 2019-02-15 | Active | fun | 1&amp;1 internet | 1&amp;1 internet | Germany | Non China | 1 | NA | Renewed    | 0 | auto-renewal | realized   | 2020-02-15 | 1&amp;1 Internet | 1&amp;1 Internet | 15 | 15 | 1 | 15 | 15 | 15 | fun1&amp;1 internet | rosalux      | l  |  7 | 7l  | 1 | 2.70805 |  2.34 | rosalux      | 1 | 1 | 1 |\n",
       "| FirstTime | 1 | 2020-02-16 | 93823708 | verygood.fun     | 2019-02-16 | Active | fun | 1&amp;1 internet | 1&amp;1 internet | Germany | Non China | 1 | NA | Renewed    | 0 | auto-renewal | realized   | 2020-02-16 | 1&amp;1 Internet | 1&amp;1 Internet | 15 | 15 | 1 | 15 | 15 | 15 | fun1&amp;1 internet | verygood     | l  |  8 | 8l  | 1 | 2.70805 |  3.64 | verygood     | 1 | 1 | 1 |\n",
       "\n"
      ],
      "text/plain": [
       "  renewal_type renewed_count expiry_date domain_id domain          \n",
       "1 FirstTime    1             2020-01-21  91584433  racefor.fun     \n",
       "2 FirstTime    1             2020-01-30  92254793  united4.fun     \n",
       "3 FirstTime    1             2020-02-04  92827233  bereal.fun      \n",
       "4 FirstTime    1             2020-02-12  93490823  dogsoutdoors.fun\n",
       "5 FirstTime    1             2020-02-15  93767978  rosalux.fun     \n",
       "6 FirstTime    1             2020-02-16  93823708  verygood.fun    \n",
       "  creation_date status tld registrar    reseller     reseller_country region   \n",
       "1 2019-01-21    Active fun 1&1 internet 1&1 internet Germany          Non China\n",
       "2 2019-01-30    Active fun 1&1 internet 1&1 internet Germany          Non China\n",
       "3 2019-02-04    Active fun 1&1 internet 1&1 internet Germany          Non China\n",
       "4 2019-02-12    Active fun 1&1 internet 1&1 internet Germany          Non China\n",
       "5 2019-02-15    Active fun 1&1 internet 1&1 internet Germany          Non China\n",
       "6 2019-02-16    Active fun 1&1 internet 1&1 internet Germany          Non China\n",
       "  reg_period registrant_country renewal_status renew_mbg renew_type  \n",
       "1 1          NA                 Renewed        0         auto-renewal\n",
       "2 1          NA                 Renewed        0         auto-renewal\n",
       "3 1          NA                 Renewed        0         auto-renewal\n",
       "4 1          NA                 Not Renewd     0         auto-renewal\n",
       "5 1          NA                 Renewed        0         auto-renewal\n",
       "6 1          NA                 Renewed        0         auto-renewal\n",
       "  autorenew_type renew_date renew_registrar renew_reseller reg_revenue reg_arpt\n",
       "1 realized       2020-01-21 1&1 Internet    1&1 Internet   15          15      \n",
       "2 realized       2020-01-30 1&1 Internet    1&1 Internet   15          15      \n",
       "3 realized       2020-02-04 1&1 Internet    1&1 Internet   15          15      \n",
       "4 unrealized     2020-02-12 1&1 Internet    1&1 Internet   15          15      \n",
       "5 realized       2020-02-15 1&1 Internet    1&1 Internet   15          15      \n",
       "6 realized       2020-02-16 1&1 Internet    1&1 Internet   15          15      \n",
       "  renew_period renew_domain_revenue renew_arpt reg_arpt_org tld_registrar_index\n",
       "1 1            15                   15         15           fun1&1 internet    \n",
       "2 1            15                   15         15           fun1&1 internet    \n",
       "3 1            15                   15         15           fun1&1 internet    \n",
       "4 1            15                   15         15           fun1&1 internet    \n",
       "5 1            15                   15         15           fun1&1 internet    \n",
       "6 1            15                   15         15           fun1&1 internet    \n",
       "  sld          sld_type sld_length sld_type2 day_domains log_reg_arpt\n",
       "1 racefor      l         7         7l        1           2.70805     \n",
       "2 united4      ln        7         7ln       1           2.70805     \n",
       "3 bereal       l         6         6l        1           2.70805     \n",
       "4 dogsoutdoors l        12         12l       1           2.70805     \n",
       "5 rosalux      l         7         7l        1           2.70805     \n",
       "6 verygood     l         8         8l        1           2.70805     \n",
       "  gibb_score pattern      cluster pattern_score pattern_domain_count\n",
       "1  6.77      racefor      1       1             1                   \n",
       "2  8.65      united4      1       1             1                   \n",
       "3 13.09      bereal       1       1             1                   \n",
       "4  2.44      dogsoutdoors 1       1             1                   \n",
       "5  2.34      rosalux      1       1             1                   \n",
       "6  3.64      verygood     1       1             1                   "
      ]
     },
     "metadata": {},
     "output_type": "display_data"
    }
   ],
   "source": [
    "head(expiry_train_df_1)"
   ]
  },
  {
   "cell_type": "code",
   "execution_count": 37,
   "metadata": {},
   "outputs": [
    {
     "data": {
      "text/html": [
       "<style>\n",
       ".list-inline {list-style: none; margin:0; padding: 0}\n",
       ".list-inline>li {display: inline-block}\n",
       ".list-inline>li:not(:last-child)::after {content: \"\\00b7\"; padding: 0 .5ex}\n",
       "</style>\n",
       "<ol class=list-inline><li>1188250</li><li>39</li></ol>\n"
      ],
      "text/latex": [
       "\\begin{enumerate*}\n",
       "\\item 1188250\n",
       "\\item 39\n",
       "\\end{enumerate*}\n"
      ],
      "text/markdown": [
       "1. 1188250\n",
       "2. 39\n",
       "\n",
       "\n"
      ],
      "text/plain": [
       "[1] 1188250      39"
      ]
     },
     "metadata": {},
     "output_type": "display_data"
    },
    {
     "data": {
      "text/html": [
       "<style>\n",
       ".list-inline {list-style: none; margin:0; padding: 0}\n",
       ".list-inline>li {display: inline-block}\n",
       ".list-inline>li:not(:last-child)::after {content: \"\\00b7\"; padding: 0 .5ex}\n",
       "</style>\n",
       "<ol class=list-inline><li>1188250</li><li>40</li></ol>\n"
      ],
      "text/latex": [
       "\\begin{enumerate*}\n",
       "\\item 1188250\n",
       "\\item 40\n",
       "\\end{enumerate*}\n"
      ],
      "text/markdown": [
       "1. 1188250\n",
       "2. 40\n",
       "\n",
       "\n"
      ],
      "text/plain": [
       "[1] 1188250      40"
      ]
     },
     "metadata": {},
     "output_type": "display_data"
    },
    {
     "data": {
      "text/html": [
       "<table>\n",
       "<caption>A data.frame: 6 × 40</caption>\n",
       "<thead>\n",
       "\t<tr><th></th><th scope=col>reseller</th><th scope=col>reseller_country</th><th scope=col>renewal_type</th><th scope=col>renewed_count</th><th scope=col>expiry_date</th><th scope=col>domain_id</th><th scope=col>domain</th><th scope=col>creation_date</th><th scope=col>status</th><th scope=col>tld</th><th scope=col>registrar</th><th scope=col>region</th><th scope=col>reg_period</th><th scope=col>registrant_country</th><th scope=col>renewal_status</th><th scope=col>renew_mbg</th><th scope=col>renew_type</th><th scope=col>autorenew_type</th><th scope=col>renew_date</th><th scope=col>renew_registrar</th><th scope=col>renew_reseller</th><th scope=col>reg_revenue</th><th scope=col>reg_arpt</th><th scope=col>renew_period</th><th scope=col>renew_domain_revenue</th><th scope=col>renew_arpt</th><th scope=col>reg_arpt_org</th><th scope=col>tld_registrar_index</th><th scope=col>sld</th><th scope=col>sld_type</th><th scope=col>sld_length</th><th scope=col>sld_type2</th><th scope=col>day_domains</th><th scope=col>log_reg_arpt</th><th scope=col>gibb_score</th><th scope=col>pattern</th><th scope=col>cluster</th><th scope=col>pattern_score</th><th scope=col>pattern_domain_count</th><th scope=col>reseller_geo</th></tr>\n",
       "\t<tr><th></th><th scope=col>&lt;chr&gt;</th><th scope=col>&lt;chr&gt;</th><th scope=col>&lt;chr&gt;</th><th scope=col>&lt;int&gt;</th><th scope=col>&lt;date&gt;</th><th scope=col>&lt;int&gt;</th><th scope=col>&lt;chr&gt;</th><th scope=col>&lt;date&gt;</th><th scope=col>&lt;chr&gt;</th><th scope=col>&lt;fct&gt;</th><th scope=col>&lt;chr&gt;</th><th scope=col>&lt;chr&gt;</th><th scope=col>&lt;int&gt;</th><th scope=col>&lt;chr&gt;</th><th scope=col>&lt;fct&gt;</th><th scope=col>&lt;int&gt;</th><th scope=col>&lt;chr&gt;</th><th scope=col>&lt;chr&gt;</th><th scope=col>&lt;date&gt;</th><th scope=col>&lt;chr&gt;</th><th scope=col>&lt;chr&gt;</th><th scope=col>&lt;dbl&gt;</th><th scope=col>&lt;dbl&gt;</th><th scope=col>&lt;int&gt;</th><th scope=col>&lt;dbl&gt;</th><th scope=col>&lt;dbl&gt;</th><th scope=col>&lt;dbl&gt;</th><th scope=col>&lt;chr&gt;</th><th scope=col>&lt;chr&gt;</th><th scope=col>&lt;fct&gt;</th><th scope=col>&lt;int&gt;</th><th scope=col>&lt;chr&gt;</th><th scope=col>&lt;int&gt;</th><th scope=col>&lt;dbl&gt;</th><th scope=col>&lt;dbl&gt;</th><th scope=col>&lt;chr&gt;</th><th scope=col>&lt;chr&gt;</th><th scope=col>&lt;dbl&gt;</th><th scope=col>&lt;int&gt;</th><th scope=col>&lt;fct&gt;</th></tr>\n",
       "</thead>\n",
       "<tbody>\n",
       "\t<tr><th scope=row>1</th><td>1&amp;1 internet</td><td>Germany</td><td>FirstTime</td><td>1</td><td>2020-05-10</td><td>103266019</td><td>partner-expert-frst-2626.online</td><td>2019-05-10</td><td>Deleted</td><td>online</td><td>1&amp;1 internet</td><td>Non China</td><td>1</td><td>NA</td><td>Not Renewd</td><td>0</td><td><span style=white-space:pre-wrap>NA          </span></td><td><span style=white-space:pre-wrap>NA        </span></td><td>NA</td><td>Not Assigned</td><td>Not Assigned</td><td>0.0</td><td>1e-04</td><td>NA</td><td> 0</td><td>NA</td><td>0.0</td><td>online1&amp;1 internet</td><td>partner-expert-frst-2626</td><td>hyphen-ln</td><td>24</td><td>24hyphen-ln</td><td>50</td><td>-9.2103404</td><td>4.91</td><td>37</td><td>partner-expert-frst-2626</td><td>0.0004000000</td><td>1</td><td>EU</td></tr>\n",
       "\t<tr><th scope=row>2</th><td>1&amp;1 internet</td><td>Germany</td><td>FirstTime</td><td>1</td><td>2020-05-10</td><td>103260954</td><td><span style=white-space:pre-wrap>gonzalezabogada.online         </span></td><td>2019-05-10</td><td>Active </td><td>online</td><td>1&amp;1 internet</td><td>Non China</td><td>1</td><td>NA</td><td>Not Renewd</td><td>0</td><td>auto-renewal</td><td>unrealized</td><td>2020-05-10</td><td>1&amp;1 Internet</td><td>1&amp;1 Internet</td><td>0.0</td><td>1e-04</td><td> 1</td><td>25</td><td>25</td><td>0.0</td><td>online1&amp;1 internet</td><td><span style=white-space:pre-wrap>gonzalezabogada         </span></td><td><span style=white-space:pre-wrap>l        </span></td><td>15</td><td><span style=white-space:pre-wrap>15l        </span></td><td>50</td><td>-9.2103404</td><td>2.56</td><td>36</td><td><span style=white-space:pre-wrap>gonzalezabogada         </span></td><td>0.0004000000</td><td>1</td><td>EU</td></tr>\n",
       "\t<tr><th scope=row>3</th><td>1&amp;1 internet</td><td>Germany</td><td>FirstTime</td><td>1</td><td>2020-04-05</td><td> 99000139</td><td><span style=white-space:pre-wrap>jayliggins.online              </span></td><td>2019-04-05</td><td>Active </td><td>online</td><td>1&amp;1 internet</td><td>Non China</td><td>1</td><td>NA</td><td><span style=white-space:pre-wrap>Renewed   </span></td><td>0</td><td>auto-renewal</td><td><span style=white-space:pre-wrap>realized  </span></td><td>2020-04-05</td><td>1&amp;1 Internet</td><td>1&amp;1 Internet</td><td>0.0</td><td>1e-04</td><td> 1</td><td>25</td><td>25</td><td>0.0</td><td>online1&amp;1 internet</td><td><span style=white-space:pre-wrap>jayliggins              </span></td><td><span style=white-space:pre-wrap>l        </span></td><td>10</td><td><span style=white-space:pre-wrap>10l        </span></td><td>68</td><td>-9.2103404</td><td>4.24</td><td>34</td><td><span style=white-space:pre-wrap>jayliggins              </span></td><td>0.0002162630</td><td>1</td><td>EU</td></tr>\n",
       "\t<tr><th scope=row>4</th><td>1&amp;1 internet</td><td>Germany</td><td>FirstTime</td><td>1</td><td>2020-05-07</td><td>103007364</td><td><span style=white-space:pre-wrap>amalfitano.online              </span></td><td>2019-05-07</td><td>Active </td><td>online</td><td>1&amp;1 internet</td><td>Non China</td><td>1</td><td>NA</td><td><span style=white-space:pre-wrap>Renewed   </span></td><td>0</td><td>auto-renewal</td><td><span style=white-space:pre-wrap>realized  </span></td><td>2020-05-07</td><td>1&amp;1 Internet</td><td>1&amp;1 Internet</td><td>0.0</td><td>1e-04</td><td> 1</td><td>25</td><td>25</td><td>0.0</td><td>online1&amp;1 internet</td><td><span style=white-space:pre-wrap>amalfitano              </span></td><td><span style=white-space:pre-wrap>l        </span></td><td>10</td><td><span style=white-space:pre-wrap>10l        </span></td><td>48</td><td>-9.2103404</td><td>6.79</td><td>3 </td><td><span style=white-space:pre-wrap>amalfitano              </span></td><td>0.0004340278</td><td>1</td><td>EU</td></tr>\n",
       "\t<tr><th scope=row>5</th><td>1&amp;1 internet</td><td>Germany</td><td>FirstTime</td><td>1</td><td>2020-04-07</td><td> 99134414</td><td><span style=white-space:pre-wrap>pizza-palazzo.online           </span></td><td>2019-04-07</td><td>Active </td><td>online</td><td>1&amp;1 internet</td><td>Non China</td><td>1</td><td>NA</td><td>Not Renewd</td><td>0</td><td>auto-renewal</td><td>unrealized</td><td>2020-04-07</td><td>1&amp;1 Internet</td><td>1&amp;1 Internet</td><td>0.8</td><td>8e-01</td><td> 1</td><td>25</td><td>25</td><td>0.8</td><td>online1&amp;1 internet</td><td><span style=white-space:pre-wrap>pizza-palazzo           </span></td><td>hyphen-l </td><td>13</td><td>13hyphen-l </td><td>34</td><td>-0.2231436</td><td>3.33</td><td>2 </td><td><span style=white-space:pre-wrap>pizza-palazzo           </span></td><td>0.0008650519</td><td>1</td><td>EU</td></tr>\n",
       "\t<tr><th scope=row>6</th><td>1&amp;1 internet</td><td>Germany</td><td>FirstTime</td><td>1</td><td>2020-05-07</td><td>103003979</td><td><span style=white-space:pre-wrap>barleybear.online              </span></td><td>2019-05-07</td><td>Active </td><td>online</td><td>1&amp;1 internet</td><td>Non China</td><td>1</td><td>NA</td><td><span style=white-space:pre-wrap>Renewed   </span></td><td>0</td><td>auto-renewal</td><td><span style=white-space:pre-wrap>realized  </span></td><td>2020-05-07</td><td>1&amp;1 Internet</td><td>1&amp;1 Internet</td><td>1.0</td><td>1e+00</td><td> 1</td><td>25</td><td>25</td><td>1.0</td><td>online1&amp;1 internet</td><td><span style=white-space:pre-wrap>barleybear              </span></td><td><span style=white-space:pre-wrap>l        </span></td><td>10</td><td><span style=white-space:pre-wrap>10l        </span></td><td>48</td><td> 0.0000000</td><td>4.21</td><td>5 </td><td><span style=white-space:pre-wrap>barleybear              </span></td><td>0.0004340278</td><td>1</td><td>EU</td></tr>\n",
       "</tbody>\n",
       "</table>\n"
      ],
      "text/latex": [
       "A data.frame: 6 × 40\n",
       "\\begin{tabular}{r|llllllllllllllllllllllllllllllllllllllll}\n",
       "  & reseller & reseller\\_country & renewal\\_type & renewed\\_count & expiry\\_date & domain\\_id & domain & creation\\_date & status & tld & registrar & region & reg\\_period & registrant\\_country & renewal\\_status & renew\\_mbg & renew\\_type & autorenew\\_type & renew\\_date & renew\\_registrar & renew\\_reseller & reg\\_revenue & reg\\_arpt & renew\\_period & renew\\_domain\\_revenue & renew\\_arpt & reg\\_arpt\\_org & tld\\_registrar\\_index & sld & sld\\_type & sld\\_length & sld\\_type2 & day\\_domains & log\\_reg\\_arpt & gibb\\_score & pattern & cluster & pattern\\_score & pattern\\_domain\\_count & reseller\\_geo\\\\\n",
       "  & <chr> & <chr> & <chr> & <int> & <date> & <int> & <chr> & <date> & <chr> & <fct> & <chr> & <chr> & <int> & <chr> & <fct> & <int> & <chr> & <chr> & <date> & <chr> & <chr> & <dbl> & <dbl> & <int> & <dbl> & <dbl> & <dbl> & <chr> & <chr> & <fct> & <int> & <chr> & <int> & <dbl> & <dbl> & <chr> & <chr> & <dbl> & <int> & <fct>\\\\\n",
       "\\hline\n",
       "\t1 & 1\\&1 internet & Germany & FirstTime & 1 & 2020-05-10 & 103266019 & partner-expert-frst-2626.online & 2019-05-10 & Deleted & online & 1\\&1 internet & Non China & 1 & NA & Not Renewd & 0 & NA           & NA         & NA & Not Assigned & Not Assigned & 0.0 & 1e-04 & NA &  0 & NA & 0.0 & online1\\&1 internet & partner-expert-frst-2626 & hyphen-ln & 24 & 24hyphen-ln & 50 & -9.2103404 & 4.91 & 37 & partner-expert-frst-2626 & 0.0004000000 & 1 & EU\\\\\n",
       "\t2 & 1\\&1 internet & Germany & FirstTime & 1 & 2020-05-10 & 103260954 & gonzalezabogada.online          & 2019-05-10 & Active  & online & 1\\&1 internet & Non China & 1 & NA & Not Renewd & 0 & auto-renewal & unrealized & 2020-05-10 & 1\\&1 Internet & 1\\&1 Internet & 0.0 & 1e-04 &  1 & 25 & 25 & 0.0 & online1\\&1 internet & gonzalezabogada          & l         & 15 & 15l         & 50 & -9.2103404 & 2.56 & 36 & gonzalezabogada          & 0.0004000000 & 1 & EU\\\\\n",
       "\t3 & 1\\&1 internet & Germany & FirstTime & 1 & 2020-04-05 &  99000139 & jayliggins.online               & 2019-04-05 & Active  & online & 1\\&1 internet & Non China & 1 & NA & Renewed    & 0 & auto-renewal & realized   & 2020-04-05 & 1\\&1 Internet & 1\\&1 Internet & 0.0 & 1e-04 &  1 & 25 & 25 & 0.0 & online1\\&1 internet & jayliggins               & l         & 10 & 10l         & 68 & -9.2103404 & 4.24 & 34 & jayliggins               & 0.0002162630 & 1 & EU\\\\\n",
       "\t4 & 1\\&1 internet & Germany & FirstTime & 1 & 2020-05-07 & 103007364 & amalfitano.online               & 2019-05-07 & Active  & online & 1\\&1 internet & Non China & 1 & NA & Renewed    & 0 & auto-renewal & realized   & 2020-05-07 & 1\\&1 Internet & 1\\&1 Internet & 0.0 & 1e-04 &  1 & 25 & 25 & 0.0 & online1\\&1 internet & amalfitano               & l         & 10 & 10l         & 48 & -9.2103404 & 6.79 & 3  & amalfitano               & 0.0004340278 & 1 & EU\\\\\n",
       "\t5 & 1\\&1 internet & Germany & FirstTime & 1 & 2020-04-07 &  99134414 & pizza-palazzo.online            & 2019-04-07 & Active  & online & 1\\&1 internet & Non China & 1 & NA & Not Renewd & 0 & auto-renewal & unrealized & 2020-04-07 & 1\\&1 Internet & 1\\&1 Internet & 0.8 & 8e-01 &  1 & 25 & 25 & 0.8 & online1\\&1 internet & pizza-palazzo            & hyphen-l  & 13 & 13hyphen-l  & 34 & -0.2231436 & 3.33 & 2  & pizza-palazzo            & 0.0008650519 & 1 & EU\\\\\n",
       "\t6 & 1\\&1 internet & Germany & FirstTime & 1 & 2020-05-07 & 103003979 & barleybear.online               & 2019-05-07 & Active  & online & 1\\&1 internet & Non China & 1 & NA & Renewed    & 0 & auto-renewal & realized   & 2020-05-07 & 1\\&1 Internet & 1\\&1 Internet & 1.0 & 1e+00 &  1 & 25 & 25 & 1.0 & online1\\&1 internet & barleybear               & l         & 10 & 10l         & 48 &  0.0000000 & 4.21 & 5  & barleybear               & 0.0004340278 & 1 & EU\\\\\n",
       "\\end{tabular}\n"
      ],
      "text/markdown": [
       "\n",
       "A data.frame: 6 × 40\n",
       "\n",
       "| <!--/--> | reseller &lt;chr&gt; | reseller_country &lt;chr&gt; | renewal_type &lt;chr&gt; | renewed_count &lt;int&gt; | expiry_date &lt;date&gt; | domain_id &lt;int&gt; | domain &lt;chr&gt; | creation_date &lt;date&gt; | status &lt;chr&gt; | tld &lt;fct&gt; | registrar &lt;chr&gt; | region &lt;chr&gt; | reg_period &lt;int&gt; | registrant_country &lt;chr&gt; | renewal_status &lt;fct&gt; | renew_mbg &lt;int&gt; | renew_type &lt;chr&gt; | autorenew_type &lt;chr&gt; | renew_date &lt;date&gt; | renew_registrar &lt;chr&gt; | renew_reseller &lt;chr&gt; | reg_revenue &lt;dbl&gt; | reg_arpt &lt;dbl&gt; | renew_period &lt;int&gt; | renew_domain_revenue &lt;dbl&gt; | renew_arpt &lt;dbl&gt; | reg_arpt_org &lt;dbl&gt; | tld_registrar_index &lt;chr&gt; | sld &lt;chr&gt; | sld_type &lt;fct&gt; | sld_length &lt;int&gt; | sld_type2 &lt;chr&gt; | day_domains &lt;int&gt; | log_reg_arpt &lt;dbl&gt; | gibb_score &lt;dbl&gt; | pattern &lt;chr&gt; | cluster &lt;chr&gt; | pattern_score &lt;dbl&gt; | pattern_domain_count &lt;int&gt; | reseller_geo &lt;fct&gt; |\n",
       "|---|---|---|---|---|---|---|---|---|---|---|---|---|---|---|---|---|---|---|---|---|---|---|---|---|---|---|---|---|---|---|---|---|---|---|---|---|---|---|---|---|\n",
       "| 1 | 1&amp;1 internet | Germany | FirstTime | 1 | 2020-05-10 | 103266019 | partner-expert-frst-2626.online | 2019-05-10 | Deleted | online | 1&amp;1 internet | Non China | 1 | NA | Not Renewd | 0 | NA           | NA         | NA | Not Assigned | Not Assigned | 0.0 | 1e-04 | NA |  0 | NA | 0.0 | online1&amp;1 internet | partner-expert-frst-2626 | hyphen-ln | 24 | 24hyphen-ln | 50 | -9.2103404 | 4.91 | 37 | partner-expert-frst-2626 | 0.0004000000 | 1 | EU |\n",
       "| 2 | 1&amp;1 internet | Germany | FirstTime | 1 | 2020-05-10 | 103260954 | gonzalezabogada.online          | 2019-05-10 | Active  | online | 1&amp;1 internet | Non China | 1 | NA | Not Renewd | 0 | auto-renewal | unrealized | 2020-05-10 | 1&amp;1 Internet | 1&amp;1 Internet | 0.0 | 1e-04 |  1 | 25 | 25 | 0.0 | online1&amp;1 internet | gonzalezabogada          | l         | 15 | 15l         | 50 | -9.2103404 | 2.56 | 36 | gonzalezabogada          | 0.0004000000 | 1 | EU |\n",
       "| 3 | 1&amp;1 internet | Germany | FirstTime | 1 | 2020-04-05 |  99000139 | jayliggins.online               | 2019-04-05 | Active  | online | 1&amp;1 internet | Non China | 1 | NA | Renewed    | 0 | auto-renewal | realized   | 2020-04-05 | 1&amp;1 Internet | 1&amp;1 Internet | 0.0 | 1e-04 |  1 | 25 | 25 | 0.0 | online1&amp;1 internet | jayliggins               | l         | 10 | 10l         | 68 | -9.2103404 | 4.24 | 34 | jayliggins               | 0.0002162630 | 1 | EU |\n",
       "| 4 | 1&amp;1 internet | Germany | FirstTime | 1 | 2020-05-07 | 103007364 | amalfitano.online               | 2019-05-07 | Active  | online | 1&amp;1 internet | Non China | 1 | NA | Renewed    | 0 | auto-renewal | realized   | 2020-05-07 | 1&amp;1 Internet | 1&amp;1 Internet | 0.0 | 1e-04 |  1 | 25 | 25 | 0.0 | online1&amp;1 internet | amalfitano               | l         | 10 | 10l         | 48 | -9.2103404 | 6.79 | 3  | amalfitano               | 0.0004340278 | 1 | EU |\n",
       "| 5 | 1&amp;1 internet | Germany | FirstTime | 1 | 2020-04-07 |  99134414 | pizza-palazzo.online            | 2019-04-07 | Active  | online | 1&amp;1 internet | Non China | 1 | NA | Not Renewd | 0 | auto-renewal | unrealized | 2020-04-07 | 1&amp;1 Internet | 1&amp;1 Internet | 0.8 | 8e-01 |  1 | 25 | 25 | 0.8 | online1&amp;1 internet | pizza-palazzo            | hyphen-l  | 13 | 13hyphen-l  | 34 | -0.2231436 | 3.33 | 2  | pizza-palazzo            | 0.0008650519 | 1 | EU |\n",
       "| 6 | 1&amp;1 internet | Germany | FirstTime | 1 | 2020-05-07 | 103003979 | barleybear.online               | 2019-05-07 | Active  | online | 1&amp;1 internet | Non China | 1 | NA | Renewed    | 0 | auto-renewal | realized   | 2020-05-07 | 1&amp;1 Internet | 1&amp;1 Internet | 1.0 | 1e+00 |  1 | 25 | 25 | 1.0 | online1&amp;1 internet | barleybear               | l         | 10 | 10l         | 48 |  0.0000000 | 4.21 | 5  | barleybear               | 0.0004340278 | 1 | EU |\n",
       "\n"
      ],
      "text/plain": [
       "  reseller     reseller_country renewal_type renewed_count expiry_date\n",
       "1 1&1 internet Germany          FirstTime    1             2020-05-10 \n",
       "2 1&1 internet Germany          FirstTime    1             2020-05-10 \n",
       "3 1&1 internet Germany          FirstTime    1             2020-04-05 \n",
       "4 1&1 internet Germany          FirstTime    1             2020-05-07 \n",
       "5 1&1 internet Germany          FirstTime    1             2020-04-07 \n",
       "6 1&1 internet Germany          FirstTime    1             2020-05-07 \n",
       "  domain_id domain                          creation_date status  tld   \n",
       "1 103266019 partner-expert-frst-2626.online 2019-05-10    Deleted online\n",
       "2 103260954 gonzalezabogada.online          2019-05-10    Active  online\n",
       "3  99000139 jayliggins.online               2019-04-05    Active  online\n",
       "4 103007364 amalfitano.online               2019-05-07    Active  online\n",
       "5  99134414 pizza-palazzo.online            2019-04-07    Active  online\n",
       "6 103003979 barleybear.online               2019-05-07    Active  online\n",
       "  registrar    region    reg_period registrant_country renewal_status renew_mbg\n",
       "1 1&1 internet Non China 1          NA                 Not Renewd     0        \n",
       "2 1&1 internet Non China 1          NA                 Not Renewd     0        \n",
       "3 1&1 internet Non China 1          NA                 Renewed        0        \n",
       "4 1&1 internet Non China 1          NA                 Renewed        0        \n",
       "5 1&1 internet Non China 1          NA                 Not Renewd     0        \n",
       "6 1&1 internet Non China 1          NA                 Renewed        0        \n",
       "  renew_type   autorenew_type renew_date renew_registrar renew_reseller\n",
       "1 NA           NA             <NA>       Not Assigned    Not Assigned  \n",
       "2 auto-renewal unrealized     2020-05-10 1&1 Internet    1&1 Internet  \n",
       "3 auto-renewal realized       2020-04-05 1&1 Internet    1&1 Internet  \n",
       "4 auto-renewal realized       2020-05-07 1&1 Internet    1&1 Internet  \n",
       "5 auto-renewal unrealized     2020-04-07 1&1 Internet    1&1 Internet  \n",
       "6 auto-renewal realized       2020-05-07 1&1 Internet    1&1 Internet  \n",
       "  reg_revenue reg_arpt renew_period renew_domain_revenue renew_arpt\n",
       "1 0.0         1e-04    NA            0                   NA        \n",
       "2 0.0         1e-04     1           25                   25        \n",
       "3 0.0         1e-04     1           25                   25        \n",
       "4 0.0         1e-04     1           25                   25        \n",
       "5 0.8         8e-01     1           25                   25        \n",
       "6 1.0         1e+00     1           25                   25        \n",
       "  reg_arpt_org tld_registrar_index sld                      sld_type \n",
       "1 0.0          online1&1 internet  partner-expert-frst-2626 hyphen-ln\n",
       "2 0.0          online1&1 internet  gonzalezabogada          l        \n",
       "3 0.0          online1&1 internet  jayliggins               l        \n",
       "4 0.0          online1&1 internet  amalfitano               l        \n",
       "5 0.8          online1&1 internet  pizza-palazzo            hyphen-l \n",
       "6 1.0          online1&1 internet  barleybear               l        \n",
       "  sld_length sld_type2   day_domains log_reg_arpt gibb_score pattern\n",
       "1 24         24hyphen-ln 50          -9.2103404   4.91       37     \n",
       "2 15         15l         50          -9.2103404   2.56       36     \n",
       "3 10         10l         68          -9.2103404   4.24       34     \n",
       "4 10         10l         48          -9.2103404   6.79       3      \n",
       "5 13         13hyphen-l  34          -0.2231436   3.33       2      \n",
       "6 10         10l         48           0.0000000   4.21       5      \n",
       "  cluster                  pattern_score pattern_domain_count reseller_geo\n",
       "1 partner-expert-frst-2626 0.0004000000  1                    EU          \n",
       "2 gonzalezabogada          0.0004000000  1                    EU          \n",
       "3 jayliggins               0.0002162630  1                    EU          \n",
       "4 amalfitano               0.0004340278  1                    EU          \n",
       "5 pizza-palazzo            0.0008650519  1                    EU          \n",
       "6 barleybear               0.0004340278  1                    EU          "
      ]
     },
     "metadata": {},
     "output_type": "display_data"
    }
   ],
   "source": [
    "# ensure correct number of dimm\n",
    "dim(expiry_train_df_1)\n",
    "npv_fallback_first_geo_arpt_tld_2 <- merge(as.data.frame(expiry_train_df_1),\n",
    "                           geoLookupDF,\n",
    "                           on=c('reseller','reseller_country'), \n",
    "                           all.x = TRUE)\n",
    "dim(npv_fallback_first_geo_arpt_tld_2)\n",
    "head(npv_fallback_first_geo_arpt_tld_2)\n"
   ]
  },
  {
   "cell_type": "code",
   "execution_count": 38,
   "metadata": {},
   "outputs": [
    {
     "data": {
      "text/html": [
       "<table>\n",
       "<caption>A data.frame: 20 × 2</caption>\n",
       "<thead>\n",
       "\t<tr><th></th><th scope=col>reg_arpt</th><th scope=col>reg_arpt_slab</th></tr>\n",
       "\t<tr><th></th><th scope=col>&lt;dbl&gt;</th><th scope=col>&lt;fct&gt;</th></tr>\n",
       "</thead>\n",
       "<tbody>\n",
       "\t<tr><th scope=row>1</th><td>1e-04</td><td>(0,1] </td></tr>\n",
       "\t<tr><th scope=row>2</th><td>1e-04</td><td>(0,1] </td></tr>\n",
       "\t<tr><th scope=row>3</th><td>1e-04</td><td>(0,1] </td></tr>\n",
       "\t<tr><th scope=row>4</th><td>1e-04</td><td>(0,1] </td></tr>\n",
       "\t<tr><th scope=row>5</th><td>8e-01</td><td>(0,1] </td></tr>\n",
       "\t<tr><th scope=row>6</th><td>1e+00</td><td>(0,1] </td></tr>\n",
       "\t<tr><th scope=row>7</th><td>1e-04</td><td>(0,1] </td></tr>\n",
       "\t<tr><th scope=row>8</th><td>1e-04</td><td>(0,1] </td></tr>\n",
       "\t<tr><th scope=row>9</th><td>1e+00</td><td>(0,1] </td></tr>\n",
       "\t<tr><th scope=row>10</th><td>1e-04</td><td>(0,1] </td></tr>\n",
       "\t<tr><th scope=row>11</th><td>1e+01</td><td>(5,10]</td></tr>\n",
       "\t<tr><th scope=row>12</th><td>1e-04</td><td>(0,1] </td></tr>\n",
       "\t<tr><th scope=row>13</th><td>1e+01</td><td>(5,10]</td></tr>\n",
       "\t<tr><th scope=row>14</th><td>5e+00</td><td>(3,5] </td></tr>\n",
       "\t<tr><th scope=row>15</th><td>1e-04</td><td>(0,1] </td></tr>\n",
       "\t<tr><th scope=row>16</th><td>1e+00</td><td>(0,1] </td></tr>\n",
       "\t<tr><th scope=row>17</th><td>1e+01</td><td>(5,10]</td></tr>\n",
       "\t<tr><th scope=row>18</th><td>1e-04</td><td>(0,1] </td></tr>\n",
       "\t<tr><th scope=row>19</th><td>1e-04</td><td>(0,1] </td></tr>\n",
       "\t<tr><th scope=row>20</th><td>1e-04</td><td>(0,1] </td></tr>\n",
       "</tbody>\n",
       "</table>\n"
      ],
      "text/latex": [
       "A data.frame: 20 × 2\n",
       "\\begin{tabular}{r|ll}\n",
       "  & reg\\_arpt & reg\\_arpt\\_slab\\\\\n",
       "  & <dbl> & <fct>\\\\\n",
       "\\hline\n",
       "\t1 & 1e-04 & (0,1{]} \\\\\n",
       "\t2 & 1e-04 & (0,1{]} \\\\\n",
       "\t3 & 1e-04 & (0,1{]} \\\\\n",
       "\t4 & 1e-04 & (0,1{]} \\\\\n",
       "\t5 & 8e-01 & (0,1{]} \\\\\n",
       "\t6 & 1e+00 & (0,1{]} \\\\\n",
       "\t7 & 1e-04 & (0,1{]} \\\\\n",
       "\t8 & 1e-04 & (0,1{]} \\\\\n",
       "\t9 & 1e+00 & (0,1{]} \\\\\n",
       "\t10 & 1e-04 & (0,1{]} \\\\\n",
       "\t11 & 1e+01 & (5,10{]}\\\\\n",
       "\t12 & 1e-04 & (0,1{]} \\\\\n",
       "\t13 & 1e+01 & (5,10{]}\\\\\n",
       "\t14 & 5e+00 & (3,5{]} \\\\\n",
       "\t15 & 1e-04 & (0,1{]} \\\\\n",
       "\t16 & 1e+00 & (0,1{]} \\\\\n",
       "\t17 & 1e+01 & (5,10{]}\\\\\n",
       "\t18 & 1e-04 & (0,1{]} \\\\\n",
       "\t19 & 1e-04 & (0,1{]} \\\\\n",
       "\t20 & 1e-04 & (0,1{]} \\\\\n",
       "\\end{tabular}\n"
      ],
      "text/markdown": [
       "\n",
       "A data.frame: 20 × 2\n",
       "\n",
       "| <!--/--> | reg_arpt &lt;dbl&gt; | reg_arpt_slab &lt;fct&gt; |\n",
       "|---|---|---|\n",
       "| 1 | 1e-04 | (0,1]  |\n",
       "| 2 | 1e-04 | (0,1]  |\n",
       "| 3 | 1e-04 | (0,1]  |\n",
       "| 4 | 1e-04 | (0,1]  |\n",
       "| 5 | 8e-01 | (0,1]  |\n",
       "| 6 | 1e+00 | (0,1]  |\n",
       "| 7 | 1e-04 | (0,1]  |\n",
       "| 8 | 1e-04 | (0,1]  |\n",
       "| 9 | 1e+00 | (0,1]  |\n",
       "| 10 | 1e-04 | (0,1]  |\n",
       "| 11 | 1e+01 | (5,10] |\n",
       "| 12 | 1e-04 | (0,1]  |\n",
       "| 13 | 1e+01 | (5,10] |\n",
       "| 14 | 5e+00 | (3,5]  |\n",
       "| 15 | 1e-04 | (0,1]  |\n",
       "| 16 | 1e+00 | (0,1]  |\n",
       "| 17 | 1e+01 | (5,10] |\n",
       "| 18 | 1e-04 | (0,1]  |\n",
       "| 19 | 1e-04 | (0,1]  |\n",
       "| 20 | 1e-04 | (0,1]  |\n",
       "\n"
      ],
      "text/plain": [
       "   reg_arpt reg_arpt_slab\n",
       "1  1e-04    (0,1]        \n",
       "2  1e-04    (0,1]        \n",
       "3  1e-04    (0,1]        \n",
       "4  1e-04    (0,1]        \n",
       "5  8e-01    (0,1]        \n",
       "6  1e+00    (0,1]        \n",
       "7  1e-04    (0,1]        \n",
       "8  1e-04    (0,1]        \n",
       "9  1e+00    (0,1]        \n",
       "10 1e-04    (0,1]        \n",
       "11 1e+01    (5,10]       \n",
       "12 1e-04    (0,1]        \n",
       "13 1e+01    (5,10]       \n",
       "14 5e+00    (3,5]        \n",
       "15 1e-04    (0,1]        \n",
       "16 1e+00    (0,1]        \n",
       "17 1e+01    (5,10]       \n",
       "18 1e-04    (0,1]        \n",
       "19 1e-04    (0,1]        \n",
       "20 1e-04    (0,1]        "
      ]
     },
     "metadata": {},
     "output_type": "display_data"
    }
   ],
   "source": [
    "npv_fallback_first_geo_arpt_tld_2 <- npv_fallback_first_geo_arpt_tld_2 %>% \n",
    "  mutate(reg_arpt_slab=cut(reg_arpt, breaks=c(-Inf, 0, 1, 3, 5, 10, 15, 25, 35, Inf)))\n",
    "npv_fallback_first_geo_arpt_tld_2  %>% select (reg_arpt, reg_arpt_slab) %>% head(20)"
   ]
  },
  {
   "cell_type": "code",
   "execution_count": 39,
   "metadata": {},
   "outputs": [
    {
     "name": "stderr",
     "output_type": "stream",
     "text": [
      "`summarise()` regrouping output by 'tld', 'reseller_geo' (override with `.groups` argument)\n",
      "\n"
     ]
    },
    {
     "data": {
      "text/html": [
       "<table>\n",
       "<caption>A grouped_df: 6 × 6</caption>\n",
       "<thead>\n",
       "\t<tr><th scope=col>tld</th><th scope=col>reseller_geo</th><th scope=col>reg_arpt_slab</th><th scope=col>expiring_domains</th><th scope=col>renewed_domains</th><th scope=col>renewal_rate</th></tr>\n",
       "\t<tr><th scope=col>&lt;fct&gt;</th><th scope=col>&lt;fct&gt;</th><th scope=col>&lt;fct&gt;</th><th scope=col>&lt;int&gt;</th><th scope=col>&lt;int&gt;</th><th scope=col>&lt;dbl&gt;</th></tr>\n",
       "</thead>\n",
       "<tbody>\n",
       "\t<tr><td>fun</td><td>Australia &amp; New Zealand</td><td><span style=white-space:pre-wrap>(3,5]  </span></td><td><span style=white-space:pre-wrap>     4</span></td><td><span style=white-space:pre-wrap>  1</span></td><td>0.250000000</td></tr>\n",
       "\t<tr><td>fun</td><td>Australia &amp; New Zealand</td><td>(5,10] </td><td><span style=white-space:pre-wrap>     4</span></td><td><span style=white-space:pre-wrap>  2</span></td><td>0.500000000</td></tr>\n",
       "\t<tr><td>fun</td><td>Australia &amp; New Zealand</td><td>(10,15]</td><td><span style=white-space:pre-wrap>     3</span></td><td><span style=white-space:pre-wrap>  1</span></td><td>0.333333333</td></tr>\n",
       "\t<tr><td>fun</td><td>Canada                 </td><td>(5,10] </td><td>    19</td><td> 10</td><td>0.526315789</td></tr>\n",
       "\t<tr><td>fun</td><td>Canada                 </td><td>(10,15]</td><td>     7</td><td>  4</td><td>0.571428571</td></tr>\n",
       "\t<tr><td>fun</td><td>China                  </td><td>(0,1]  </td><td>101332</td><td>983</td><td>0.009700786</td></tr>\n",
       "</tbody>\n",
       "</table>\n"
      ],
      "text/latex": [
       "A grouped\\_df: 6 × 6\n",
       "\\begin{tabular}{llllll}\n",
       " tld & reseller\\_geo & reg\\_arpt\\_slab & expiring\\_domains & renewed\\_domains & renewal\\_rate\\\\\n",
       " <fct> & <fct> & <fct> & <int> & <int> & <dbl>\\\\\n",
       "\\hline\n",
       "\t fun & Australia \\& New Zealand & (3,5{]}   &      4 &   1 & 0.250000000\\\\\n",
       "\t fun & Australia \\& New Zealand & (5,10{]}  &      4 &   2 & 0.500000000\\\\\n",
       "\t fun & Australia \\& New Zealand & (10,15{]} &      3 &   1 & 0.333333333\\\\\n",
       "\t fun & Canada                  & (5,10{]}  &     19 &  10 & 0.526315789\\\\\n",
       "\t fun & Canada                  & (10,15{]} &      7 &   4 & 0.571428571\\\\\n",
       "\t fun & China                   & (0,1{]}   & 101332 & 983 & 0.009700786\\\\\n",
       "\\end{tabular}\n"
      ],
      "text/markdown": [
       "\n",
       "A grouped_df: 6 × 6\n",
       "\n",
       "| tld &lt;fct&gt; | reseller_geo &lt;fct&gt; | reg_arpt_slab &lt;fct&gt; | expiring_domains &lt;int&gt; | renewed_domains &lt;int&gt; | renewal_rate &lt;dbl&gt; |\n",
       "|---|---|---|---|---|---|\n",
       "| fun | Australia &amp; New Zealand | (3,5]   |      4 |   1 | 0.250000000 |\n",
       "| fun | Australia &amp; New Zealand | (5,10]  |      4 |   2 | 0.500000000 |\n",
       "| fun | Australia &amp; New Zealand | (10,15] |      3 |   1 | 0.333333333 |\n",
       "| fun | Canada                  | (5,10]  |     19 |  10 | 0.526315789 |\n",
       "| fun | Canada                  | (10,15] |      7 |   4 | 0.571428571 |\n",
       "| fun | China                   | (0,1]   | 101332 | 983 | 0.009700786 |\n",
       "\n"
      ],
      "text/plain": [
       "  tld reseller_geo            reg_arpt_slab expiring_domains renewed_domains\n",
       "1 fun Australia & New Zealand (3,5]              4             1            \n",
       "2 fun Australia & New Zealand (5,10]             4             2            \n",
       "3 fun Australia & New Zealand (10,15]            3             1            \n",
       "4 fun Canada                  (5,10]            19            10            \n",
       "5 fun Canada                  (10,15]            7             4            \n",
       "6 fun China                   (0,1]         101332           983            \n",
       "  renewal_rate\n",
       "1 0.250000000 \n",
       "2 0.500000000 \n",
       "3 0.333333333 \n",
       "4 0.526315789 \n",
       "5 0.571428571 \n",
       "6 0.009700786 "
      ]
     },
     "metadata": {},
     "output_type": "display_data"
    }
   ],
   "source": [
    "npv_fallback_first_geo_arpt_tld_2 = npv_fallback_first_geo_arpt_tld_2 %>%\n",
    "  group_by(tld,reseller_geo,reg_arpt_slab) %>%\n",
    "  summarise(expiring_domains = n(),\n",
    "              renewed_domains=sum(renewal_status=='Renewed'),\n",
    "              renewal_rate=renewed_domains/expiring_domains)\n",
    "\n",
    "head(npv_fallback_first_geo_arpt_tld_2)"
   ]
  },
  {
   "cell_type": "markdown",
   "metadata": {},
   "source": [
    "## leverage regenrated fallback table"
   ]
  },
  {
   "cell_type": "code",
   "execution_count": 40,
   "metadata": {},
   "outputs": [],
   "source": [
    "npv_fallback_first_geo_arpt_tld_2 <- as.data.frame(npv_fallback_first_geo_arpt_tld_2)"
   ]
  },
  {
   "cell_type": "code",
   "execution_count": 41,
   "metadata": {},
   "outputs": [],
   "source": [
    "npv_fallback_first_geo_arpt_tld_2$tld <- factor(npv_fallback_first_geo_arpt_tld_2$tld)\n",
    "npv_fallback_first_geo_arpt_tld_2$reseller_geo <- factor(npv_fallback_first_geo_arpt_tld_2$reseller_geo)"
   ]
  },
  {
   "cell_type": "code",
   "execution_count": 42,
   "metadata": {},
   "outputs": [
    {
     "name": "stdout",
     "output_type": "stream",
     "text": [
      "'data.frame':\t296797 obs. of  3 variables:\n",
      " $ tld          : Factor w/ 11 levels \"fun\",\"host\",\"in.net\",..: 4 4 4 4 4 4 4 9 4 4 ...\n",
      " $ reseller_geo : Factor w/ 15 levels \"Africa\",\"Australia & New Zealand\",..: 5 5 5 5 5 5 5 5 5 5 ...\n",
      " $ reg_arpt_slab: Factor w/ 9 levels \"(-Inf,0]\",\"(0,1]\",..: 2 4 2 6 2 2 6 5 2 2 ...\n",
      "'data.frame':\t536 obs. of  3 variables:\n",
      " $ tld          : Factor w/ 11 levels \"fun\",\"host\",\"in.net\",..: 1 1 1 1 1 1 1 1 1 1 ...\n",
      " $ reseller_geo : Factor w/ 14 levels \"Africa\",\"Australia & New Zealand\",..: 2 2 2 3 3 4 4 4 4 5 ...\n",
      " $ reg_arpt_slab: Factor w/ 9 levels \"(-Inf,0]\",\"(0,1]\",..: 4 5 6 5 6 2 3 4 6 2 ...\n"
     ]
    }
   ],
   "source": [
    "str(test_predictions_df[,c('tld', 'reseller_geo', 'reg_arpt_slab')])\n",
    "str(npv_fallback_first_geo_arpt_tld_2[,c('tld', 'reseller_geo', 'reg_arpt_slab')])"
   ]
  },
  {
   "cell_type": "code",
   "execution_count": 43,
   "metadata": {},
   "outputs": [
    {
     "data": {
      "text/html": [
       "<style>\n",
       ".list-inline {list-style: none; margin:0; padding: 0}\n",
       ".list-inline>li {display: inline-block}\n",
       ".list-inline>li:not(:last-child)::after {content: \"\\00b7\"; padding: 0 .5ex}\n",
       "</style>\n",
       "<ol class=list-inline><li>296797</li><li>47</li></ol>\n"
      ],
      "text/latex": [
       "\\begin{enumerate*}\n",
       "\\item 296797\n",
       "\\item 47\n",
       "\\end{enumerate*}\n"
      ],
      "text/markdown": [
       "1. 296797\n",
       "2. 47\n",
       "\n",
       "\n"
      ],
      "text/plain": [
       "[1] 296797     47"
      ]
     },
     "metadata": {},
     "output_type": "display_data"
    },
    {
     "data": {
      "text/html": [
       "<style>\n",
       ".list-inline {list-style: none; margin:0; padding: 0}\n",
       ".list-inline>li {display: inline-block}\n",
       ".list-inline>li:not(:last-child)::after {content: \"\\00b7\"; padding: 0 .5ex}\n",
       "</style>\n",
       "<ol class=list-inline><li>296797</li><li>48</li></ol>\n"
      ],
      "text/latex": [
       "\\begin{enumerate*}\n",
       "\\item 296797\n",
       "\\item 48\n",
       "\\end{enumerate*}\n"
      ],
      "text/markdown": [
       "1. 296797\n",
       "2. 48\n",
       "\n",
       "\n"
      ],
      "text/plain": [
       "[1] 296797     48"
      ]
     },
     "metadata": {},
     "output_type": "display_data"
    },
    {
     "data": {
      "text/html": [
       "<table>\n",
       "<caption>A data.frame: 6 × 48</caption>\n",
       "<thead>\n",
       "\t<tr><th></th><th scope=col>tld</th><th scope=col>reseller_geo</th><th scope=col>reg_arpt_slab</th><th scope=col>reseller</th><th scope=col>reseller_country</th><th scope=col>domain_id</th><th scope=col>renewal_type</th><th scope=col>renewed_count</th><th scope=col>expiry_date</th><th scope=col>domain</th><th scope=col>creation_date</th><th scope=col>status</th><th scope=col>registrar</th><th scope=col>region</th><th scope=col>reg_period</th><th scope=col>registrant_country</th><th scope=col>renewal_status</th><th scope=col>renew_mbg</th><th scope=col>renew_type</th><th scope=col>autorenew_type</th><th scope=col>renew_date</th><th scope=col>renew_registrar</th><th scope=col>renew_reseller</th><th scope=col>reg_revenue</th><th scope=col>reg_arpt</th><th scope=col>renew_period</th><th scope=col>renew_domain_revenue</th><th scope=col>renew_arpt</th><th scope=col>reg_arpt_org</th><th scope=col>tld_registrar_index</th><th scope=col>sld</th><th scope=col>sld_type</th><th scope=col>sld_length</th><th scope=col>sld_type2</th><th scope=col>day_domains</th><th scope=col>log_reg_arpt</th><th scope=col>gibb_score</th><th scope=col>pattern</th><th scope=col>cluster</th><th scope=col>pattern_score</th><th scope=col>pattern_domain_count</th><th scope=col>pred_df_seg2_glm</th><th scope=col>pred_df_seg_glm</th><th scope=col>pred_df_agg_glm</th><th scope=col>pred_df_seg2_rf</th><th scope=col>pred_df_seg_rf</th><th scope=col>pred_df_agg_rf</th><th scope=col>renewal_rate</th></tr>\n",
       "\t<tr><th></th><th scope=col>&lt;fct&gt;</th><th scope=col>&lt;fct&gt;</th><th scope=col>&lt;fct&gt;</th><th scope=col>&lt;chr&gt;</th><th scope=col>&lt;chr&gt;</th><th scope=col>&lt;int&gt;</th><th scope=col>&lt;chr&gt;</th><th scope=col>&lt;int&gt;</th><th scope=col>&lt;date&gt;</th><th scope=col>&lt;chr&gt;</th><th scope=col>&lt;date&gt;</th><th scope=col>&lt;chr&gt;</th><th scope=col>&lt;chr&gt;</th><th scope=col>&lt;chr&gt;</th><th scope=col>&lt;int&gt;</th><th scope=col>&lt;chr&gt;</th><th scope=col>&lt;fct&gt;</th><th scope=col>&lt;int&gt;</th><th scope=col>&lt;chr&gt;</th><th scope=col>&lt;chr&gt;</th><th scope=col>&lt;date&gt;</th><th scope=col>&lt;chr&gt;</th><th scope=col>&lt;chr&gt;</th><th scope=col>&lt;dbl&gt;</th><th scope=col>&lt;dbl&gt;</th><th scope=col>&lt;int&gt;</th><th scope=col>&lt;dbl&gt;</th><th scope=col>&lt;dbl&gt;</th><th scope=col>&lt;dbl&gt;</th><th scope=col>&lt;chr&gt;</th><th scope=col>&lt;chr&gt;</th><th scope=col>&lt;fct&gt;</th><th scope=col>&lt;int&gt;</th><th scope=col>&lt;chr&gt;</th><th scope=col>&lt;int&gt;</th><th scope=col>&lt;dbl&gt;</th><th scope=col>&lt;dbl&gt;</th><th scope=col>&lt;chr&gt;</th><th scope=col>&lt;chr&gt;</th><th scope=col>&lt;dbl&gt;</th><th scope=col>&lt;int&gt;</th><th scope=col>&lt;dbl&gt;</th><th scope=col>&lt;dbl&gt;</th><th scope=col>&lt;dbl&gt;</th><th scope=col>&lt;dbl&gt;</th><th scope=col>&lt;dbl&gt;</th><th scope=col>&lt;dbl&gt;</th><th scope=col>&lt;dbl&gt;</th></tr>\n",
       "</thead>\n",
       "<tbody>\n",
       "\t<tr><th scope=row>1</th><td>fun</td><td>Australia &amp; New Zealand</td><td><span style=white-space:pre-wrap>(3,5]  </span></td><td>instra corporation</td><td>Australia</td><td>104893671</td><td>FirstTime</td><td>1</td><td>2020-05-25</td><td><span style=white-space:pre-wrap>laur.fun         </span></td><td>2019-05-25</td><td>Active</td><td>instra corporation</td><td>Non China</td><td>1</td><td>NA</td><td>Not Renewd</td><td>0</td><td>auto-renewal</td><td><span style=white-space:pre-wrap>NA        </span></td><td>2020-05-25</td><td>Instra Corporation</td><td>Instra Corporation</td><td> 4</td><td> 4</td><td>1</td><td>15</td><td>15</td><td> 4</td><td>funinstra corporation</td><td><span style=white-space:pre-wrap>laur         </span></td><td>l</td><td> 4</td><td>4l </td><td>1</td><td>1.386294</td><td>5.48</td><td><span style=white-space:pre-wrap>laur         </span></td><td>1</td><td>1</td><td>1</td><td><span style=white-space:pre-wrap>       NA</span></td><td>0.000</td><td>0.151</td><td>0.00000</td><td>0.1851779</td><td>0.3718108</td><td>0.2500000</td></tr>\n",
       "\t<tr><th scope=row>2</th><td>fun</td><td>Australia &amp; New Zealand</td><td><span style=white-space:pre-wrap>(3,5]  </span></td><td>instra corporation</td><td>Australia</td><td> 99540944</td><td>FirstTime</td><td>1</td><td>2020-04-10</td><td><span style=white-space:pre-wrap>oferty.fun       </span></td><td>2019-04-10</td><td>Active</td><td>instra corporation</td><td>Non China</td><td>1</td><td>NA</td><td>Not Renewd</td><td>0</td><td>auto-renewal</td><td>unrealized</td><td>2020-04-10</td><td>Instra Corporation</td><td>Instra Corporation</td><td> 4</td><td> 4</td><td>1</td><td>15</td><td>15</td><td> 4</td><td>funinstra corporation</td><td><span style=white-space:pre-wrap>oferty       </span></td><td>l</td><td> 6</td><td>6l </td><td>1</td><td>1.386294</td><td>6.03</td><td><span style=white-space:pre-wrap>oferty       </span></td><td>1</td><td>1</td><td>1</td><td><span style=white-space:pre-wrap>       NA</span></td><td>0.000</td><td>0.146</td><td>0.00000</td><td>0.2157494</td><td>0.3943426</td><td>0.2500000</td></tr>\n",
       "\t<tr><th scope=row>3</th><td>fun</td><td>Australia &amp; New Zealand</td><td>(5,10] </td><td><span style=white-space:pre-wrap>crazy domains     </span></td><td>Australia</td><td> 62376247</td><td>FirstTime</td><td>1</td><td>2020-03-07</td><td>tennisladder.fun </td><td>2018-03-07</td><td>Active</td><td><span style=white-space:pre-wrap>crazy domains     </span></td><td>Non China</td><td>2</td><td>NA</td><td>Not Renewd</td><td>0</td><td>auto-renewal</td><td>unrealized</td><td>2020-03-07</td><td><span style=white-space:pre-wrap>Crazy Domains     </span></td><td><span style=white-space:pre-wrap>Crazy Domains     </span></td><td>18</td><td> 9</td><td>1</td><td>15</td><td>15</td><td> 9</td><td><span style=white-space:pre-wrap>funcrazy domains     </span></td><td>tennisladder </td><td>l</td><td>12</td><td>12l</td><td>1</td><td>2.197225</td><td>4.85</td><td>tennisladder </td><td>1</td><td>1</td><td>1</td><td>1.0000000</td><td>0.400</td><td>0.334</td><td>0.42460</td><td>0.5788189</td><td>0.6221085</td><td>0.5000000</td></tr>\n",
       "\t<tr><th scope=row>4</th><td>fun</td><td>Australia &amp; New Zealand</td><td>(10,15]</td><td><span style=white-space:pre-wrap>ventraip          </span></td><td>Australia</td><td> 95252714</td><td>FirstTime</td><td>1</td><td>2020-03-03</td><td><span style=white-space:pre-wrap>letterific.fun   </span></td><td>2019-03-03</td><td>Active</td><td>synergy wholesale </td><td>Non China</td><td>1</td><td>NA</td><td><span style=white-space:pre-wrap>Renewed   </span></td><td>0</td><td><span style=white-space:pre-wrap>renewal     </span></td><td><span style=white-space:pre-wrap>NA        </span></td><td>2020-02-19</td><td>SYNERGY WHOLESALE </td><td><span style=white-space:pre-wrap>VentraIP          </span></td><td>15</td><td>15</td><td>1</td><td>15</td><td>15</td><td>15</td><td><span style=white-space:pre-wrap>funventraip          </span></td><td><span style=white-space:pre-wrap>letterific   </span></td><td>l</td><td>10</td><td>10l</td><td>1</td><td>2.708050</td><td>5.97</td><td><span style=white-space:pre-wrap>letterific   </span></td><td>1</td><td>1</td><td>1</td><td><span style=white-space:pre-wrap>       NA</span></td><td><span style=white-space:pre-wrap>   NA</span></td><td><span style=white-space:pre-wrap>   NA</span></td><td><span style=white-space:pre-wrap>     NA</span></td><td><span style=white-space:pre-wrap>       NA</span></td><td><span style=white-space:pre-wrap>       NA</span></td><td>0.3333333</td></tr>\n",
       "\t<tr><th scope=row>5</th><td>fun</td><td>Canada                 </td><td>(5,10] </td><td>shopify           </td><td>Canada   </td><td> 98381634</td><td>FirstTime</td><td>1</td><td>2020-03-29</td><td>abtractstore.fun </td><td>2019-03-29</td><td>Active</td><td>tucows            </td><td>Non China</td><td>1</td><td>NA</td><td>Not Renewd</td><td>0</td><td>auto-renewal</td><td>unrealized</td><td>2020-03-29</td><td>Tucows            </td><td>Shopify           </td><td> 8</td><td> 8</td><td>1</td><td>15</td><td>15</td><td> 8</td><td>funshopify           </td><td>abtractstore </td><td>l</td><td>12</td><td>12l</td><td>1</td><td>2.079442</td><td>5.45</td><td>abtractstore </td><td>1</td><td>1</td><td>1</td><td>0.2172645</td><td>0.277</td><td>0.067</td><td>0.28220</td><td>0.2351863</td><td>0.2068615</td><td>0.5263158</td></tr>\n",
       "\t<tr><th scope=row>6</th><td>fun</td><td>Canada                 </td><td>(5,10] </td><td>hover             </td><td>Canada   </td><td>104937931</td><td>FirstTime</td><td>1</td><td>2020-05-26</td><td>futurefantasy.fun</td><td>2019-05-26</td><td>Active</td><td>tucows            </td><td>Non China</td><td>1</td><td>NA</td><td>Renewed   </td><td>0</td><td>renewal     </td><td>NA        </td><td>2020-05-25</td><td>Tucows            </td><td>Hover             </td><td> 8</td><td> 8</td><td>1</td><td>15</td><td>15</td><td> 8</td><td>funhover             </td><td>futurefantasy</td><td>l</td><td>13</td><td>13l</td><td>1</td><td>2.079442</td><td>5.61</td><td>futurefantasy</td><td>1</td><td>1</td><td>1</td><td>0.6261119</td><td>0.624</td><td>0.267</td><td>0.59825</td><td>0.5677353</td><td>0.4933172</td><td>0.5263158</td></tr>\n",
       "</tbody>\n",
       "</table>\n"
      ],
      "text/latex": [
       "A data.frame: 6 × 48\n",
       "\\begin{tabular}{r|llllllllllllllllllllllllllllllllllllllllllllllll}\n",
       "  & tld & reseller\\_geo & reg\\_arpt\\_slab & reseller & reseller\\_country & domain\\_id & renewal\\_type & renewed\\_count & expiry\\_date & domain & creation\\_date & status & registrar & region & reg\\_period & registrant\\_country & renewal\\_status & renew\\_mbg & renew\\_type & autorenew\\_type & renew\\_date & renew\\_registrar & renew\\_reseller & reg\\_revenue & reg\\_arpt & renew\\_period & renew\\_domain\\_revenue & renew\\_arpt & reg\\_arpt\\_org & tld\\_registrar\\_index & sld & sld\\_type & sld\\_length & sld\\_type2 & day\\_domains & log\\_reg\\_arpt & gibb\\_score & pattern & cluster & pattern\\_score & pattern\\_domain\\_count & pred\\_df\\_seg2\\_glm & pred\\_df\\_seg\\_glm & pred\\_df\\_agg\\_glm & pred\\_df\\_seg2\\_rf & pred\\_df\\_seg\\_rf & pred\\_df\\_agg\\_rf & renewal\\_rate\\\\\n",
       "  & <fct> & <fct> & <fct> & <chr> & <chr> & <int> & <chr> & <int> & <date> & <chr> & <date> & <chr> & <chr> & <chr> & <int> & <chr> & <fct> & <int> & <chr> & <chr> & <date> & <chr> & <chr> & <dbl> & <dbl> & <int> & <dbl> & <dbl> & <dbl> & <chr> & <chr> & <fct> & <int> & <chr> & <int> & <dbl> & <dbl> & <chr> & <chr> & <dbl> & <int> & <dbl> & <dbl> & <dbl> & <dbl> & <dbl> & <dbl> & <dbl>\\\\\n",
       "\\hline\n",
       "\t1 & fun & Australia \\& New Zealand & (3,5{]}   & instra corporation & Australia & 104893671 & FirstTime & 1 & 2020-05-25 & laur.fun          & 2019-05-25 & Active & instra corporation & Non China & 1 & NA & Not Renewd & 0 & auto-renewal & NA         & 2020-05-25 & Instra Corporation & Instra Corporation &  4 &  4 & 1 & 15 & 15 &  4 & funinstra corporation & laur          & l &  4 & 4l  & 1 & 1.386294 & 5.48 & laur          & 1 & 1 & 1 &        NA & 0.000 & 0.151 & 0.00000 & 0.1851779 & 0.3718108 & 0.2500000\\\\\n",
       "\t2 & fun & Australia \\& New Zealand & (3,5{]}   & instra corporation & Australia &  99540944 & FirstTime & 1 & 2020-04-10 & oferty.fun        & 2019-04-10 & Active & instra corporation & Non China & 1 & NA & Not Renewd & 0 & auto-renewal & unrealized & 2020-04-10 & Instra Corporation & Instra Corporation &  4 &  4 & 1 & 15 & 15 &  4 & funinstra corporation & oferty        & l &  6 & 6l  & 1 & 1.386294 & 6.03 & oferty        & 1 & 1 & 1 &        NA & 0.000 & 0.146 & 0.00000 & 0.2157494 & 0.3943426 & 0.2500000\\\\\n",
       "\t3 & fun & Australia \\& New Zealand & (5,10{]}  & crazy domains      & Australia &  62376247 & FirstTime & 1 & 2020-03-07 & tennisladder.fun  & 2018-03-07 & Active & crazy domains      & Non China & 2 & NA & Not Renewd & 0 & auto-renewal & unrealized & 2020-03-07 & Crazy Domains      & Crazy Domains      & 18 &  9 & 1 & 15 & 15 &  9 & funcrazy domains      & tennisladder  & l & 12 & 12l & 1 & 2.197225 & 4.85 & tennisladder  & 1 & 1 & 1 & 1.0000000 & 0.400 & 0.334 & 0.42460 & 0.5788189 & 0.6221085 & 0.5000000\\\\\n",
       "\t4 & fun & Australia \\& New Zealand & (10,15{]} & ventraip           & Australia &  95252714 & FirstTime & 1 & 2020-03-03 & letterific.fun    & 2019-03-03 & Active & synergy wholesale  & Non China & 1 & NA & Renewed    & 0 & renewal      & NA         & 2020-02-19 & SYNERGY WHOLESALE  & VentraIP           & 15 & 15 & 1 & 15 & 15 & 15 & funventraip           & letterific    & l & 10 & 10l & 1 & 2.708050 & 5.97 & letterific    & 1 & 1 & 1 &        NA &    NA &    NA &      NA &        NA &        NA & 0.3333333\\\\\n",
       "\t5 & fun & Canada                  & (5,10{]}  & shopify            & Canada    &  98381634 & FirstTime & 1 & 2020-03-29 & abtractstore.fun  & 2019-03-29 & Active & tucows             & Non China & 1 & NA & Not Renewd & 0 & auto-renewal & unrealized & 2020-03-29 & Tucows             & Shopify            &  8 &  8 & 1 & 15 & 15 &  8 & funshopify            & abtractstore  & l & 12 & 12l & 1 & 2.079442 & 5.45 & abtractstore  & 1 & 1 & 1 & 0.2172645 & 0.277 & 0.067 & 0.28220 & 0.2351863 & 0.2068615 & 0.5263158\\\\\n",
       "\t6 & fun & Canada                  & (5,10{]}  & hover              & Canada    & 104937931 & FirstTime & 1 & 2020-05-26 & futurefantasy.fun & 2019-05-26 & Active & tucows             & Non China & 1 & NA & Renewed    & 0 & renewal      & NA         & 2020-05-25 & Tucows             & Hover              &  8 &  8 & 1 & 15 & 15 &  8 & funhover              & futurefantasy & l & 13 & 13l & 1 & 2.079442 & 5.61 & futurefantasy & 1 & 1 & 1 & 0.6261119 & 0.624 & 0.267 & 0.59825 & 0.5677353 & 0.4933172 & 0.5263158\\\\\n",
       "\\end{tabular}\n"
      ],
      "text/markdown": [
       "\n",
       "A data.frame: 6 × 48\n",
       "\n",
       "| <!--/--> | tld &lt;fct&gt; | reseller_geo &lt;fct&gt; | reg_arpt_slab &lt;fct&gt; | reseller &lt;chr&gt; | reseller_country &lt;chr&gt; | domain_id &lt;int&gt; | renewal_type &lt;chr&gt; | renewed_count &lt;int&gt; | expiry_date &lt;date&gt; | domain &lt;chr&gt; | creation_date &lt;date&gt; | status &lt;chr&gt; | registrar &lt;chr&gt; | region &lt;chr&gt; | reg_period &lt;int&gt; | registrant_country &lt;chr&gt; | renewal_status &lt;fct&gt; | renew_mbg &lt;int&gt; | renew_type &lt;chr&gt; | autorenew_type &lt;chr&gt; | renew_date &lt;date&gt; | renew_registrar &lt;chr&gt; | renew_reseller &lt;chr&gt; | reg_revenue &lt;dbl&gt; | reg_arpt &lt;dbl&gt; | renew_period &lt;int&gt; | renew_domain_revenue &lt;dbl&gt; | renew_arpt &lt;dbl&gt; | reg_arpt_org &lt;dbl&gt; | tld_registrar_index &lt;chr&gt; | sld &lt;chr&gt; | sld_type &lt;fct&gt; | sld_length &lt;int&gt; | sld_type2 &lt;chr&gt; | day_domains &lt;int&gt; | log_reg_arpt &lt;dbl&gt; | gibb_score &lt;dbl&gt; | pattern &lt;chr&gt; | cluster &lt;chr&gt; | pattern_score &lt;dbl&gt; | pattern_domain_count &lt;int&gt; | pred_df_seg2_glm &lt;dbl&gt; | pred_df_seg_glm &lt;dbl&gt; | pred_df_agg_glm &lt;dbl&gt; | pred_df_seg2_rf &lt;dbl&gt; | pred_df_seg_rf &lt;dbl&gt; | pred_df_agg_rf &lt;dbl&gt; | renewal_rate &lt;dbl&gt; |\n",
       "|---|---|---|---|---|---|---|---|---|---|---|---|---|---|---|---|---|---|---|---|---|---|---|---|---|---|---|---|---|---|---|---|---|---|---|---|---|---|---|---|---|---|---|---|---|---|---|---|---|\n",
       "| 1 | fun | Australia &amp; New Zealand | (3,5]   | instra corporation | Australia | 104893671 | FirstTime | 1 | 2020-05-25 | laur.fun          | 2019-05-25 | Active | instra corporation | Non China | 1 | NA | Not Renewd | 0 | auto-renewal | NA         | 2020-05-25 | Instra Corporation | Instra Corporation |  4 |  4 | 1 | 15 | 15 |  4 | funinstra corporation | laur          | l |  4 | 4l  | 1 | 1.386294 | 5.48 | laur          | 1 | 1 | 1 |        NA | 0.000 | 0.151 | 0.00000 | 0.1851779 | 0.3718108 | 0.2500000 |\n",
       "| 2 | fun | Australia &amp; New Zealand | (3,5]   | instra corporation | Australia |  99540944 | FirstTime | 1 | 2020-04-10 | oferty.fun        | 2019-04-10 | Active | instra corporation | Non China | 1 | NA | Not Renewd | 0 | auto-renewal | unrealized | 2020-04-10 | Instra Corporation | Instra Corporation |  4 |  4 | 1 | 15 | 15 |  4 | funinstra corporation | oferty        | l |  6 | 6l  | 1 | 1.386294 | 6.03 | oferty        | 1 | 1 | 1 |        NA | 0.000 | 0.146 | 0.00000 | 0.2157494 | 0.3943426 | 0.2500000 |\n",
       "| 3 | fun | Australia &amp; New Zealand | (5,10]  | crazy domains      | Australia |  62376247 | FirstTime | 1 | 2020-03-07 | tennisladder.fun  | 2018-03-07 | Active | crazy domains      | Non China | 2 | NA | Not Renewd | 0 | auto-renewal | unrealized | 2020-03-07 | Crazy Domains      | Crazy Domains      | 18 |  9 | 1 | 15 | 15 |  9 | funcrazy domains      | tennisladder  | l | 12 | 12l | 1 | 2.197225 | 4.85 | tennisladder  | 1 | 1 | 1 | 1.0000000 | 0.400 | 0.334 | 0.42460 | 0.5788189 | 0.6221085 | 0.5000000 |\n",
       "| 4 | fun | Australia &amp; New Zealand | (10,15] | ventraip           | Australia |  95252714 | FirstTime | 1 | 2020-03-03 | letterific.fun    | 2019-03-03 | Active | synergy wholesale  | Non China | 1 | NA | Renewed    | 0 | renewal      | NA         | 2020-02-19 | SYNERGY WHOLESALE  | VentraIP           | 15 | 15 | 1 | 15 | 15 | 15 | funventraip           | letterific    | l | 10 | 10l | 1 | 2.708050 | 5.97 | letterific    | 1 | 1 | 1 |        NA |    NA |    NA |      NA |        NA |        NA | 0.3333333 |\n",
       "| 5 | fun | Canada                  | (5,10]  | shopify            | Canada    |  98381634 | FirstTime | 1 | 2020-03-29 | abtractstore.fun  | 2019-03-29 | Active | tucows             | Non China | 1 | NA | Not Renewd | 0 | auto-renewal | unrealized | 2020-03-29 | Tucows             | Shopify            |  8 |  8 | 1 | 15 | 15 |  8 | funshopify            | abtractstore  | l | 12 | 12l | 1 | 2.079442 | 5.45 | abtractstore  | 1 | 1 | 1 | 0.2172645 | 0.277 | 0.067 | 0.28220 | 0.2351863 | 0.2068615 | 0.5263158 |\n",
       "| 6 | fun | Canada                  | (5,10]  | hover              | Canada    | 104937931 | FirstTime | 1 | 2020-05-26 | futurefantasy.fun | 2019-05-26 | Active | tucows             | Non China | 1 | NA | Renewed    | 0 | renewal      | NA         | 2020-05-25 | Tucows             | Hover              |  8 |  8 | 1 | 15 | 15 |  8 | funhover              | futurefantasy | l | 13 | 13l | 1 | 2.079442 | 5.61 | futurefantasy | 1 | 1 | 1 | 0.6261119 | 0.624 | 0.267 | 0.59825 | 0.5677353 | 0.4933172 | 0.5263158 |\n",
       "\n"
      ],
      "text/plain": [
       "  tld reseller_geo            reg_arpt_slab reseller           reseller_country\n",
       "1 fun Australia & New Zealand (3,5]         instra corporation Australia       \n",
       "2 fun Australia & New Zealand (3,5]         instra corporation Australia       \n",
       "3 fun Australia & New Zealand (5,10]        crazy domains      Australia       \n",
       "4 fun Australia & New Zealand (10,15]       ventraip           Australia       \n",
       "5 fun Canada                  (5,10]        shopify            Canada          \n",
       "6 fun Canada                  (5,10]        hover              Canada          \n",
       "  domain_id renewal_type renewed_count expiry_date domain           \n",
       "1 104893671 FirstTime    1             2020-05-25  laur.fun         \n",
       "2  99540944 FirstTime    1             2020-04-10  oferty.fun       \n",
       "3  62376247 FirstTime    1             2020-03-07  tennisladder.fun \n",
       "4  95252714 FirstTime    1             2020-03-03  letterific.fun   \n",
       "5  98381634 FirstTime    1             2020-03-29  abtractstore.fun \n",
       "6 104937931 FirstTime    1             2020-05-26  futurefantasy.fun\n",
       "  creation_date status registrar          region    reg_period\n",
       "1 2019-05-25    Active instra corporation Non China 1         \n",
       "2 2019-04-10    Active instra corporation Non China 1         \n",
       "3 2018-03-07    Active crazy domains      Non China 2         \n",
       "4 2019-03-03    Active synergy wholesale  Non China 1         \n",
       "5 2019-03-29    Active tucows             Non China 1         \n",
       "6 2019-05-26    Active tucows             Non China 1         \n",
       "  registrant_country renewal_status renew_mbg renew_type   autorenew_type\n",
       "1 NA                 Not Renewd     0         auto-renewal NA            \n",
       "2 NA                 Not Renewd     0         auto-renewal unrealized    \n",
       "3 NA                 Not Renewd     0         auto-renewal unrealized    \n",
       "4 NA                 Renewed        0         renewal      NA            \n",
       "5 NA                 Not Renewd     0         auto-renewal unrealized    \n",
       "6 NA                 Renewed        0         renewal      NA            \n",
       "  renew_date renew_registrar    renew_reseller     reg_revenue reg_arpt\n",
       "1 2020-05-25 Instra Corporation Instra Corporation  4           4      \n",
       "2 2020-04-10 Instra Corporation Instra Corporation  4           4      \n",
       "3 2020-03-07 Crazy Domains      Crazy Domains      18           9      \n",
       "4 2020-02-19 SYNERGY WHOLESALE  VentraIP           15          15      \n",
       "5 2020-03-29 Tucows             Shopify             8           8      \n",
       "6 2020-05-25 Tucows             Hover               8           8      \n",
       "  renew_period renew_domain_revenue renew_arpt reg_arpt_org\n",
       "1 1            15                   15          4          \n",
       "2 1            15                   15          4          \n",
       "3 1            15                   15          9          \n",
       "4 1            15                   15         15          \n",
       "5 1            15                   15          8          \n",
       "6 1            15                   15          8          \n",
       "  tld_registrar_index   sld           sld_type sld_length sld_type2 day_domains\n",
       "1 funinstra corporation laur          l         4         4l        1          \n",
       "2 funinstra corporation oferty        l         6         6l        1          \n",
       "3 funcrazy domains      tennisladder  l        12         12l       1          \n",
       "4 funventraip           letterific    l        10         10l       1          \n",
       "5 funshopify            abtractstore  l        12         12l       1          \n",
       "6 funhover              futurefantasy l        13         13l       1          \n",
       "  log_reg_arpt gibb_score pattern       cluster pattern_score\n",
       "1 1.386294     5.48       laur          1       1            \n",
       "2 1.386294     6.03       oferty        1       1            \n",
       "3 2.197225     4.85       tennisladder  1       1            \n",
       "4 2.708050     5.97       letterific    1       1            \n",
       "5 2.079442     5.45       abtractstore  1       1            \n",
       "6 2.079442     5.61       futurefantasy 1       1            \n",
       "  pattern_domain_count pred_df_seg2_glm pred_df_seg_glm pred_df_agg_glm\n",
       "1 1                           NA        0.000           0.151          \n",
       "2 1                           NA        0.000           0.146          \n",
       "3 1                    1.0000000        0.400           0.334          \n",
       "4 1                           NA           NA              NA          \n",
       "5 1                    0.2172645        0.277           0.067          \n",
       "6 1                    0.6261119        0.624           0.267          \n",
       "  pred_df_seg2_rf pred_df_seg_rf pred_df_agg_rf renewal_rate\n",
       "1 0.00000         0.1851779      0.3718108      0.2500000   \n",
       "2 0.00000         0.2157494      0.3943426      0.2500000   \n",
       "3 0.42460         0.5788189      0.6221085      0.5000000   \n",
       "4      NA                NA             NA      0.3333333   \n",
       "5 0.28220         0.2351863      0.2068615      0.5263158   \n",
       "6 0.59825         0.5677353      0.4933172      0.5263158   "
      ]
     },
     "metadata": {},
     "output_type": "display_data"
    }
   ],
   "source": [
    "test_predictions_fallback_df_2 <- merge(test_predictions_df, \n",
    "                                      npv_fallback_first_geo_arpt_tld_2 %>% \n",
    "                                        select(tld,reseller_geo,reg_arpt_slab,renewal_rate),\n",
    "      on = c('tld', 'reseller_geo', 'reg_arpt_slab'), \n",
    "      all.x = TRUE)\n",
    "dim(test_predictions_df)\n",
    "dim(test_predictions_fallback_df_2)\n",
    "head(test_predictions_fallback_df_2)"
   ]
  },
  {
   "cell_type": "markdown",
   "metadata": {},
   "source": [
    "# Calculate overall performance metrics for models & fallback"
   ]
  },
  {
   "cell_type": "code",
   "execution_count": 44,
   "metadata": {},
   "outputs": [],
   "source": [
    "\n",
    "lift_list <- list()\n",
    "auc_list <- list()\n",
    "\n",
    "fallback_lift <- chart_lift(pred_df=test_predictions_fallback_df_2,\n",
    "                        dep_var = \"renewal_status\",\n",
    "                        pred_var = \"renewal_rate\") \n",
    "\n",
    "lift_list[[\"fallback\"]] <- fallback_lift\n",
    "auc_list[[\"fallback\"]] <- calc_auc(lift_df=fallback_lift)\n",
    "\n",
    "models <- c('pred_df_seg2_glm',\t'pred_df_seg_glm',\t'pred_df_agg_glm',\t'pred_df_seg2_rf',\t\n",
    "            'pred_df_seg_rf',\t'pred_df_agg_rf')\n",
    "\n",
    "\n",
    "for (model in models){\n",
    "    model_lift <- chart_lift(pred_df=test_predictions_fallback_df_2,\n",
    "                        dep_var = \"renewal_status\",\n",
    "                        pred_var = model) \n",
    "    \n",
    "    fallback_lift <- merge(fallback_lift, model_lift, by=c(\"P\"),all= TRUE, \n",
    "                           suffixes = c(\"\",\n",
    "                                        paste(\"_\",gsub(\"pred_df_\", \"\", model)) ))\n",
    "    \n",
    "    lift_list[[model]] <- model_lift\n",
    "    auc_list[[model]] <- calc_auc(lift_df=model_lift)\n",
    "}\n",
    "\n",
    "lift_df <- fallback_lift"
   ]
  },
  {
   "cell_type": "code",
   "execution_count": 45,
   "metadata": {},
   "outputs": [
    {
     "data": {
      "text/html": [
       "7"
      ],
      "text/latex": [
       "7"
      ],
      "text/markdown": [
       "7"
      ],
      "text/plain": [
       "[1] 7"
      ]
     },
     "metadata": {},
     "output_type": "display_data"
    },
    {
     "data": {
      "text/html": [
       "<style>\n",
       ".list-inline {list-style: none; margin:0; padding: 0}\n",
       ".list-inline>li {display: inline-block}\n",
       ".list-inline>li:not(:last-child)::after {content: \"\\00b7\"; padding: 0 .5ex}\n",
       "</style>\n",
       "<ol class=list-inline><li>'fallback'</li><li>'pred_df_seg2_glm'</li><li>'pred_df_seg_glm'</li><li>'pred_df_agg_glm'</li><li>'pred_df_seg2_rf'</li><li>'pred_df_seg_rf'</li><li>'pred_df_agg_rf'</li></ol>\n"
      ],
      "text/latex": [
       "\\begin{enumerate*}\n",
       "\\item 'fallback'\n",
       "\\item 'pred\\_df\\_seg2\\_glm'\n",
       "\\item 'pred\\_df\\_seg\\_glm'\n",
       "\\item 'pred\\_df\\_agg\\_glm'\n",
       "\\item 'pred\\_df\\_seg2\\_rf'\n",
       "\\item 'pred\\_df\\_seg\\_rf'\n",
       "\\item 'pred\\_df\\_agg\\_rf'\n",
       "\\end{enumerate*}\n"
      ],
      "text/markdown": [
       "1. 'fallback'\n",
       "2. 'pred_df_seg2_glm'\n",
       "3. 'pred_df_seg_glm'\n",
       "4. 'pred_df_agg_glm'\n",
       "5. 'pred_df_seg2_rf'\n",
       "6. 'pred_df_seg_rf'\n",
       "7. 'pred_df_agg_rf'\n",
       "\n",
       "\n"
      ],
      "text/plain": [
       "[1] \"fallback\"         \"pred_df_seg2_glm\" \"pred_df_seg_glm\"  \"pred_df_agg_glm\" \n",
       "[5] \"pred_df_seg2_rf\"  \"pred_df_seg_rf\"   \"pred_df_agg_rf\"  "
      ]
     },
     "metadata": {},
     "output_type": "display_data"
    },
    {
     "data": {
      "text/html": [
       "<table>\n",
       "<caption>A matrix: 2 × 7 of type int</caption>\n",
       "<thead>\n",
       "\t<tr><th scope=col>fallback</th><th scope=col>pred_df_seg2_glm</th><th scope=col>pred_df_seg_glm</th><th scope=col>pred_df_agg_glm</th><th scope=col>pred_df_seg2_rf</th><th scope=col>pred_df_seg_rf</th><th scope=col>pred_df_agg_rf</th></tr>\n",
       "</thead>\n",
       "<tbody>\n",
       "\t<tr><td>10</td><td>10</td><td>10</td><td>10</td><td>10</td><td>10</td><td>10</td></tr>\n",
       "\t<tr><td> 4</td><td> 4</td><td> 4</td><td> 4</td><td> 4</td><td> 4</td><td> 4</td></tr>\n",
       "</tbody>\n",
       "</table>\n"
      ],
      "text/latex": [
       "A matrix: 2 × 7 of type int\n",
       "\\begin{tabular}{lllllll}\n",
       " fallback & pred\\_df\\_seg2\\_glm & pred\\_df\\_seg\\_glm & pred\\_df\\_agg\\_glm & pred\\_df\\_seg2\\_rf & pred\\_df\\_seg\\_rf & pred\\_df\\_agg\\_rf\\\\\n",
       "\\hline\n",
       "\t 10 & 10 & 10 & 10 & 10 & 10 & 10\\\\\n",
       "\t  4 &  4 &  4 &  4 &  4 &  4 &  4\\\\\n",
       "\\end{tabular}\n"
      ],
      "text/markdown": [
       "\n",
       "A matrix: 2 × 7 of type int\n",
       "\n",
       "| fallback | pred_df_seg2_glm | pred_df_seg_glm | pred_df_agg_glm | pred_df_seg2_rf | pred_df_seg_rf | pred_df_agg_rf |\n",
       "|---|---|---|---|---|---|---|\n",
       "| 10 | 10 | 10 | 10 | 10 | 10 | 10 |\n",
       "|  4 |  4 |  4 |  4 |  4 |  4 |  4 |\n",
       "\n"
      ],
      "text/plain": [
       "     fallback pred_df_seg2_glm pred_df_seg_glm pred_df_agg_glm pred_df_seg2_rf\n",
       "[1,] 10       10               10              10              10             \n",
       "[2,]  4        4                4               4               4             \n",
       "     pred_df_seg_rf pred_df_agg_rf\n",
       "[1,] 10             10            \n",
       "[2,]  4              4            "
      ]
     },
     "metadata": {},
     "output_type": "display_data"
    },
    {
     "data": {
      "text/html": [
       "<strong>$pred_df_seg2_glm</strong> = <table>\n",
       "<caption>A data.frame: 10 × 4</caption>\n",
       "<thead>\n",
       "\t<tr><th scope=col>P</th><th scope=col>actu_renwd2</th><th scope=col>gain</th><th scope=col>lift</th></tr>\n",
       "\t<tr><th scope=col>&lt;dbl&gt;</th><th scope=col>&lt;int&gt;</th><th scope=col>&lt;dbl&gt;</th><th scope=col>&lt;dbl&gt;</th></tr>\n",
       "</thead>\n",
       "<tbody>\n",
       "\t<tr><td>0.1</td><td>12787</td><td>0.4708893</td><td>4.708893</td></tr>\n",
       "\t<tr><td>0.2</td><td>18692</td><td>0.6883447</td><td>3.441723</td></tr>\n",
       "\t<tr><td>0.3</td><td>21933</td><td>0.8076966</td><td>2.692322</td></tr>\n",
       "\t<tr><td>0.4</td><td>24000</td><td>0.8838151</td><td>2.209538</td></tr>\n",
       "\t<tr><td>0.5</td><td>25227</td><td>0.9290002</td><td>1.858000</td></tr>\n",
       "\t<tr><td>0.6</td><td>25947</td><td>0.9555146</td><td>1.592524</td></tr>\n",
       "\t<tr><td>0.7</td><td>26325</td><td>0.9694347</td><td>1.384907</td></tr>\n",
       "\t<tr><td>0.8</td><td>26587</td><td>0.9790830</td><td>1.223854</td></tr>\n",
       "\t<tr><td>0.9</td><td>26647</td><td>0.9812926</td><td>1.090325</td></tr>\n",
       "\t<tr><td>1.0</td><td>27155</td><td>1.0000000</td><td>1.000000</td></tr>\n",
       "</tbody>\n",
       "</table>\n"
      ],
      "text/latex": [
       "\\textbf{\\$pred\\_df\\_seg2\\_glm} = A data.frame: 10 × 4\n",
       "\\begin{tabular}{llll}\n",
       " P & actu\\_renwd2 & gain & lift\\\\\n",
       " <dbl> & <int> & <dbl> & <dbl>\\\\\n",
       "\\hline\n",
       "\t 0.1 & 12787 & 0.4708893 & 4.708893\\\\\n",
       "\t 0.2 & 18692 & 0.6883447 & 3.441723\\\\\n",
       "\t 0.3 & 21933 & 0.8076966 & 2.692322\\\\\n",
       "\t 0.4 & 24000 & 0.8838151 & 2.209538\\\\\n",
       "\t 0.5 & 25227 & 0.9290002 & 1.858000\\\\\n",
       "\t 0.6 & 25947 & 0.9555146 & 1.592524\\\\\n",
       "\t 0.7 & 26325 & 0.9694347 & 1.384907\\\\\n",
       "\t 0.8 & 26587 & 0.9790830 & 1.223854\\\\\n",
       "\t 0.9 & 26647 & 0.9812926 & 1.090325\\\\\n",
       "\t 1.0 & 27155 & 1.0000000 & 1.000000\\\\\n",
       "\\end{tabular}\n"
      ],
      "text/markdown": [
       "**$pred_df_seg2_glm** = \n",
       "A data.frame: 10 × 4\n",
       "\n",
       "| P &lt;dbl&gt; | actu_renwd2 &lt;int&gt; | gain &lt;dbl&gt; | lift &lt;dbl&gt; |\n",
       "|---|---|---|---|\n",
       "| 0.1 | 12787 | 0.4708893 | 4.708893 |\n",
       "| 0.2 | 18692 | 0.6883447 | 3.441723 |\n",
       "| 0.3 | 21933 | 0.8076966 | 2.692322 |\n",
       "| 0.4 | 24000 | 0.8838151 | 2.209538 |\n",
       "| 0.5 | 25227 | 0.9290002 | 1.858000 |\n",
       "| 0.6 | 25947 | 0.9555146 | 1.592524 |\n",
       "| 0.7 | 26325 | 0.9694347 | 1.384907 |\n",
       "| 0.8 | 26587 | 0.9790830 | 1.223854 |\n",
       "| 0.9 | 26647 | 0.9812926 | 1.090325 |\n",
       "| 1.0 | 27155 | 1.0000000 | 1.000000 |\n",
       "\n"
      ],
      "text/plain": [
       "$pred_df_seg2_glm\n",
       "     P actu_renwd2      gain     lift\n",
       "1  0.1       12787 0.4708893 4.708893\n",
       "2  0.2       18692 0.6883447 3.441723\n",
       "3  0.3       21933 0.8076966 2.692322\n",
       "4  0.4       24000 0.8838151 2.209538\n",
       "5  0.5       25227 0.9290002 1.858000\n",
       "6  0.6       25947 0.9555146 1.592524\n",
       "7  0.7       26325 0.9694347 1.384907\n",
       "8  0.8       26587 0.9790830 1.223854\n",
       "9  0.9       26647 0.9812926 1.090325\n",
       "10 1.0       27155 1.0000000 1.000000\n"
      ]
     },
     "metadata": {},
     "output_type": "display_data"
    }
   ],
   "source": [
    "length(lift_list)\n",
    "names(lift_list)\n",
    "sapply(lift_list, dim)\n",
    "lift_list[\"pred_df_seg2_glm\"]"
   ]
  },
  {
   "cell_type": "code",
   "execution_count": 46,
   "metadata": {},
   "outputs": [
    {
     "data": {
      "text/plain": [
       "\n",
       "   Renewed Not Renewd \n",
       "0.09149351 0.90850649 "
      ]
     },
     "metadata": {},
     "output_type": "display_data"
    }
   ],
   "source": [
    "prop.table(table(expiry_test_df_1$renewal_status))"
   ]
  },
  {
   "cell_type": "code",
   "execution_count": 57,
   "metadata": {},
   "outputs": [],
   "source": [
    "plot_multigains <- function (lift_df_list=list(seg_glm = lift_df, \n",
    "                                               ben_dtr = lift_df_2),\n",
    "                             auc_list = list(seg_glm = auc, \n",
    "                                             ben_dtr=auc_2),\n",
    "                             prop_positive = 0.1121167) {\n",
    "  \n",
    "  optimal_df <- data.frame( \"P\"=c(0,prop_positive,1.0),\n",
    "                            \"actu_renwd2\"=c(NA,NA,NA),\n",
    "                            \"gain\"=c(0,1.0,1.0),\n",
    "                            \"lift\"=c(NA,NA,NA))\n",
    "  \n",
    "  lift_df_list <- lapply(lift_df_list, function(df) {\n",
    "    df <- df %>%\n",
    "      add_row(P = 0, gain =0) %>%\n",
    "      arrange(P)\n",
    "  })\n",
    "\n",
    "  auc_lift_list = paste(lapply(auc_list, round, 3),sapply(lift_df_list, function(x) round(x[2,\"lift\"],2)), sep=\", \")\n",
    "  \n",
    "  auc_map = paste(names(lift_df_list),auc_lift_list, sep=\" = \")[1:length(lift_df_list)]\n",
    "  \n",
    "  \n",
    "  gains_plot <- ggplot(NULL, aes(P,  gain)) +\n",
    "    geom_line(data = lift_df_list[[1]] %>% slice(1, n())) +\n",
    "    \n",
    "    list(geom_line(data=optimal_df), geom_point(data=optimal_df)) +\n",
    "    \n",
    "    scale_y_continuous(breaks = seq(0, 1, by = .1), limits = c(0,1)) +\n",
    "    scale_x_continuous(breaks = seq(0, 1, by = .1)) +\n",
    "    labs(title = \"Cumulative Gains Plot\",\n",
    "         y = \"Cumulative Gain\",\n",
    "         x = \"Percentile\")+\n",
    "    theme(text = element_text(size=20))\n",
    "  \n",
    "  for(i in seq(length(lift_df_list))){\n",
    "    name = names(lift_df_list)[[i]]\n",
    "    df = lift_df_list[[i]]\n",
    "    auc = auc_list[[i]]\n",
    "    gains_plot <- gains_plot + list(geom_line(data=df), \n",
    "                                    geom_point(data=df))+ \n",
    "      annotate(\"text\", x = .35, y = .6-i*.075, hjust = 0, label = auc_map[[i]], size = 6)\n",
    "  }\n",
    "  \n",
    "  \n",
    "  return(gains_plot)\n",
    "}\n"
   ]
  },
  {
   "cell_type": "code",
   "execution_count": 58,
   "metadata": {},
   "outputs": [
    {
     "data": {
      "image/png": "[encoded data removed]",
      "text/plain": [
       "plot without title"
      ]
     },
     "metadata": {
      "image/png": {
       "height": 420,
       "width": 420
      },
      "text/plain": {
       "height": 420,
       "width": 420
      }
     },
     "output_type": "display_data"
    }
   ],
   "source": [
    "plot_multigains(            lift_df_list=lift_list,\n",
    "                             auc_list = auc_list,\n",
    "                             prop_positive = 0.09149351) "
   ]
  },
  {
   "cell_type": "markdown",
   "metadata": {},
   "source": [
    "# Now with... using fallback for a subset of tld-resellers"
   ]
  },
  {
   "cell_type": "code",
   "execution_count": 59,
   "metadata": {},
   "outputs": [
    {
     "data": {
      "text/html": [
       "<style>\n",
       ".list-inline {list-style: none; margin:0; padding: 0}\n",
       ".list-inline>li {display: inline-block}\n",
       ".list-inline>li:not(:last-child)::after {content: \"\\00b7\"; padding: 0 .5ex}\n",
       "</style>\n",
       "<ol class=list-inline><li>'renewal_type'</li><li>'renewed_count'</li><li>'expiry_date'</li><li>'domain_id'</li><li>'domain'</li><li>'creation_date'</li><li>'status'</li><li>'tld'</li><li>'registrar'</li><li>'reseller'</li><li>'reseller_country'</li><li>'region'</li><li>'reg_period'</li><li>'registrant_country'</li><li>'renewal_status'</li><li>'renew_mbg'</li><li>'renew_type'</li><li>'autorenew_type'</li><li>'renew_date'</li><li>'renew_registrar'</li><li>'renew_reseller'</li><li>'reg_revenue'</li><li>'reg_arpt'</li><li>'renew_period'</li><li>'renew_domain_revenue'</li><li>'renew_arpt'</li><li>'reg_arpt_org'</li><li>'tld_registrar_index'</li><li>'sld'</li><li>'sld_type'</li><li>'sld_length'</li><li>'sld_type2'</li><li>'day_domains'</li><li>'log_reg_arpt'</li><li>'gibb_score'</li><li>'pattern'</li><li>'cluster'</li><li>'pattern_score'</li><li>'pattern_domain_count'</li></ol>\n"
      ],
      "text/latex": [
       "\\begin{enumerate*}\n",
       "\\item 'renewal\\_type'\n",
       "\\item 'renewed\\_count'\n",
       "\\item 'expiry\\_date'\n",
       "\\item 'domain\\_id'\n",
       "\\item 'domain'\n",
       "\\item 'creation\\_date'\n",
       "\\item 'status'\n",
       "\\item 'tld'\n",
       "\\item 'registrar'\n",
       "\\item 'reseller'\n",
       "\\item 'reseller\\_country'\n",
       "\\item 'region'\n",
       "\\item 'reg\\_period'\n",
       "\\item 'registrant\\_country'\n",
       "\\item 'renewal\\_status'\n",
       "\\item 'renew\\_mbg'\n",
       "\\item 'renew\\_type'\n",
       "\\item 'autorenew\\_type'\n",
       "\\item 'renew\\_date'\n",
       "\\item 'renew\\_registrar'\n",
       "\\item 'renew\\_reseller'\n",
       "\\item 'reg\\_revenue'\n",
       "\\item 'reg\\_arpt'\n",
       "\\item 'renew\\_period'\n",
       "\\item 'renew\\_domain\\_revenue'\n",
       "\\item 'renew\\_arpt'\n",
       "\\item 'reg\\_arpt\\_org'\n",
       "\\item 'tld\\_registrar\\_index'\n",
       "\\item 'sld'\n",
       "\\item 'sld\\_type'\n",
       "\\item 'sld\\_length'\n",
       "\\item 'sld\\_type2'\n",
       "\\item 'day\\_domains'\n",
       "\\item 'log\\_reg\\_arpt'\n",
       "\\item 'gibb\\_score'\n",
       "\\item 'pattern'\n",
       "\\item 'cluster'\n",
       "\\item 'pattern\\_score'\n",
       "\\item 'pattern\\_domain\\_count'\n",
       "\\end{enumerate*}\n"
      ],
      "text/markdown": [
       "1. 'renewal_type'\n",
       "2. 'renewed_count'\n",
       "3. 'expiry_date'\n",
       "4. 'domain_id'\n",
       "5. 'domain'\n",
       "6. 'creation_date'\n",
       "7. 'status'\n",
       "8. 'tld'\n",
       "9. 'registrar'\n",
       "10. 'reseller'\n",
       "11. 'reseller_country'\n",
       "12. 'region'\n",
       "13. 'reg_period'\n",
       "14. 'registrant_country'\n",
       "15. 'renewal_status'\n",
       "16. 'renew_mbg'\n",
       "17. 'renew_type'\n",
       "18. 'autorenew_type'\n",
       "19. 'renew_date'\n",
       "20. 'renew_registrar'\n",
       "21. 'renew_reseller'\n",
       "22. 'reg_revenue'\n",
       "23. 'reg_arpt'\n",
       "24. 'renew_period'\n",
       "25. 'renew_domain_revenue'\n",
       "26. 'renew_arpt'\n",
       "27. 'reg_arpt_org'\n",
       "28. 'tld_registrar_index'\n",
       "29. 'sld'\n",
       "30. 'sld_type'\n",
       "31. 'sld_length'\n",
       "32. 'sld_type2'\n",
       "33. 'day_domains'\n",
       "34. 'log_reg_arpt'\n",
       "35. 'gibb_score'\n",
       "36. 'pattern'\n",
       "37. 'cluster'\n",
       "38. 'pattern_score'\n",
       "39. 'pattern_domain_count'\n",
       "\n",
       "\n"
      ],
      "text/plain": [
       " [1] \"renewal_type\"         \"renewed_count\"        \"expiry_date\"         \n",
       " [4] \"domain_id\"            \"domain\"               \"creation_date\"       \n",
       " [7] \"status\"               \"tld\"                  \"registrar\"           \n",
       "[10] \"reseller\"             \"reseller_country\"     \"region\"              \n",
       "[13] \"reg_period\"           \"registrant_country\"   \"renewal_status\"      \n",
       "[16] \"renew_mbg\"            \"renew_type\"           \"autorenew_type\"      \n",
       "[19] \"renew_date\"           \"renew_registrar\"      \"renew_reseller\"      \n",
       "[22] \"reg_revenue\"          \"reg_arpt\"             \"renew_period\"        \n",
       "[25] \"renew_domain_revenue\" \"renew_arpt\"           \"reg_arpt_org\"        \n",
       "[28] \"tld_registrar_index\"  \"sld\"                  \"sld_type\"            \n",
       "[31] \"sld_length\"           \"sld_type2\"            \"day_domains\"         \n",
       "[34] \"log_reg_arpt\"         \"gibb_score\"           \"pattern\"             \n",
       "[37] \"cluster\"              \"pattern_score\"        \"pattern_domain_count\""
      ]
     },
     "metadata": {},
     "output_type": "display_data"
    }
   ],
   "source": [
    "names(expiry_train_df_1)"
   ]
  },
  {
   "cell_type": "code",
   "execution_count": 99,
   "metadata": {},
   "outputs": [
    {
     "name": "stderr",
     "output_type": "stream",
     "text": [
      "Adding missing grouping variables: `tld_registrar_index`\n",
      "\n"
     ]
    },
    {
     "data": {
      "text/plain": [
       " tld_registrar_index       n           \n",
       " Length:1723         Min.   :     1.0  \n",
       " Class :character    1st Qu.:     3.0  \n",
       " Mode  :character    Median :    19.0  \n",
       "                     Mean   :   689.6  \n",
       "                     3rd Qu.:   127.5  \n",
       "                     Max.   :106569.0  "
      ]
     },
     "metadata": {},
     "output_type": "display_data"
    }
   ],
   "source": [
    "expiry_train_df_1 %>%\n",
    "  group_by(tld_registrar_index) %>%\n",
    "  count() %>% select(n) %>% summary(q=c(.1,.2,.3))"
   ]
  },
  {
   "cell_type": "code",
   "execution_count": 100,
   "metadata": {},
   "outputs": [
    {
     "data": {
      "text/html": [
       "865"
      ],
      "text/latex": [
       "865"
      ],
      "text/markdown": [
       "865"
      ],
      "text/plain": [
       "[1] 865"
      ]
     },
     "metadata": {},
     "output_type": "display_data"
    },
    {
     "data": {
      "text/html": [
       "<style>\n",
       ".list-inline {list-style: none; margin:0; padding: 0}\n",
       ".list-inline>li {display: inline-block}\n",
       ".list-inline>li:not(:last-child)::after {content: \"\\00b7\"; padding: 0 .5ex}\n",
       "</style>\n",
       "<ol class=list-inline><li>'fun1&amp;1 internet'</li><li>'fun10dencehispahard'</li><li>'fun1api'</li><li>'funab name isp'</li><li>'funalfahosting'</li><li>'funargeweb'</li></ol>\n"
      ],
      "text/latex": [
       "\\begin{enumerate*}\n",
       "\\item 'fun1\\&1 internet'\n",
       "\\item 'fun10dencehispahard'\n",
       "\\item 'fun1api'\n",
       "\\item 'funab name isp'\n",
       "\\item 'funalfahosting'\n",
       "\\item 'funargeweb'\n",
       "\\end{enumerate*}\n"
      ],
      "text/markdown": [
       "1. 'fun1&amp;1 internet'\n",
       "2. 'fun10dencehispahard'\n",
       "3. 'fun1api'\n",
       "4. 'funab name isp'\n",
       "5. 'funalfahosting'\n",
       "6. 'funargeweb'\n",
       "\n",
       "\n"
      ],
      "text/plain": [
       "[1] \"fun1&1 internet\"     \"fun10dencehispahard\" \"fun1api\"            \n",
       "[4] \"funab name isp\"      \"funalfahosting\"      \"funargeweb\"         "
      ]
     },
     "metadata": {},
     "output_type": "display_data"
    }
   ],
   "source": [
    "# select those with N domain renewing in training\n",
    "tld_resellers_4fallback <- expiry_train_df_1 %>%\n",
    "  group_by(tld_registrar_index) %>%\n",
    "  count() %>%\n",
    "  filter(n<20) %>%\n",
    "  pull(tld_registrar_index)\n",
    "\n",
    "length(tld_resellers_4fallback)\n",
    "head(tld_resellers_4fallback)"
   ]
  },
  {
   "cell_type": "code",
   "execution_count": 101,
   "metadata": {},
   "outputs": [],
   "source": [
    "`%notin%` <- Negate(`%in%`)\n",
    "\n",
    "test_predictions_fallback_df_2 <- test_predictions_fallback_df_2 %>% \n",
    "  mutate(pred_df_seg2_glm_fb = \n",
    "           renewal_rate * (tld_registrar_index %in% c(tld_resellers_4fallback)) + \n",
    "           pred_df_seg2_glm * (tld_registrar_index %notin% c(tld_resellers_4fallback)),\n",
    "        pred_df_seg_glm_fb = \n",
    "           renewal_rate * (tld_registrar_index %in% c(tld_resellers_4fallback)) + \n",
    "           pred_df_seg_glm * (tld_registrar_index %notin% c(tld_resellers_4fallback)),\n",
    "        pred_df_agg_glm_fb = \n",
    "           renewal_rate * (tld_registrar_index %in% c(tld_resellers_4fallback)) + \n",
    "           pred_df_agg_glm * (tld_registrar_index %notin% c(tld_resellers_4fallback)),\n",
    "        pred_df_seg2_rf_fb = \n",
    "           renewal_rate * (tld_registrar_index %in% c(tld_resellers_4fallback)) + \n",
    "           pred_df_seg2_rf * (tld_registrar_index %notin% c(tld_resellers_4fallback)),\n",
    "        pred_df_seg_rf_fb = \n",
    "           renewal_rate * (tld_registrar_index %in% c(tld_resellers_4fallback)) + \n",
    "           pred_df_seg_rf * (tld_registrar_index %notin% c(tld_resellers_4fallback)),\n",
    "        pred_df_agg_rf_fb = \n",
    "           renewal_rate * (tld_registrar_index %in% c(tld_resellers_4fallback)) + \n",
    "           pred_df_agg_rf * (tld_registrar_index %notin% c(tld_resellers_4fallback)),\n",
    "        \n",
    "        )\n"
   ]
  },
  {
   "cell_type": "code",
   "execution_count": 102,
   "metadata": {},
   "outputs": [
    {
     "data": {
      "text/html": [
       "<table>\n",
       "<caption>A grouped_df: 1 × 2</caption>\n",
       "<thead>\n",
       "\t<tr><th scope=col>tld_registrar_index</th><th scope=col>n</th></tr>\n",
       "\t<tr><th scope=col>&lt;chr&gt;</th><th scope=col>&lt;int&gt;</th></tr>\n",
       "</thead>\n",
       "<tbody>\n",
       "\t<tr><td>funcrazy domains</td><td>1</td></tr>\n",
       "</tbody>\n",
       "</table>\n"
      ],
      "text/latex": [
       "A grouped\\_df: 1 × 2\n",
       "\\begin{tabular}{ll}\n",
       " tld\\_registrar\\_index & n\\\\\n",
       " <chr> & <int>\\\\\n",
       "\\hline\n",
       "\t funcrazy domains & 1\\\\\n",
       "\\end{tabular}\n"
      ],
      "text/markdown": [
       "\n",
       "A grouped_df: 1 × 2\n",
       "\n",
       "| tld_registrar_index &lt;chr&gt; | n &lt;int&gt; |\n",
       "|---|---|\n",
       "| funcrazy domains | 1 |\n",
       "\n"
      ],
      "text/plain": [
       "  tld_registrar_index n\n",
       "1 funcrazy domains    1"
      ]
     },
     "metadata": {},
     "output_type": "display_data"
    }
   ],
   "source": [
    "expiry_test_df_1 %>%\n",
    "  group_by(tld_registrar_index) %>%\n",
    "  count() %>%\n",
    "  filter(tld_registrar_index=='funcrazy domains') "
   ]
  },
  {
   "cell_type": "code",
   "execution_count": 103,
   "metadata": {},
   "outputs": [
    {
     "data": {
      "text/html": [
       "<table>\n",
       "<caption>A data.frame: 6 × 54</caption>\n",
       "<thead>\n",
       "\t<tr><th></th><th scope=col>tld</th><th scope=col>reseller_geo</th><th scope=col>reg_arpt_slab</th><th scope=col>reseller</th><th scope=col>reseller_country</th><th scope=col>domain_id</th><th scope=col>renewal_type</th><th scope=col>renewed_count</th><th scope=col>expiry_date</th><th scope=col>domain</th><th scope=col>creation_date</th><th scope=col>status</th><th scope=col>registrar</th><th scope=col>region</th><th scope=col>reg_period</th><th scope=col>registrant_country</th><th scope=col>renewal_status</th><th scope=col>renew_mbg</th><th scope=col>renew_type</th><th scope=col>autorenew_type</th><th scope=col>renew_date</th><th scope=col>renew_registrar</th><th scope=col>renew_reseller</th><th scope=col>reg_revenue</th><th scope=col>reg_arpt</th><th scope=col>⋯</th><th scope=col>tld_registrar_index</th><th scope=col>sld</th><th scope=col>sld_type</th><th scope=col>sld_length</th><th scope=col>sld_type2</th><th scope=col>day_domains</th><th scope=col>log_reg_arpt</th><th scope=col>gibb_score</th><th scope=col>pattern</th><th scope=col>cluster</th><th scope=col>pattern_score</th><th scope=col>pattern_domain_count</th><th scope=col>pred_df_seg2_glm</th><th scope=col>pred_df_seg_glm</th><th scope=col>pred_df_agg_glm</th><th scope=col>pred_df_seg2_rf</th><th scope=col>pred_df_seg_rf</th><th scope=col>pred_df_agg_rf</th><th scope=col>renewal_rate</th><th scope=col>pred_df_seg2_glm_fb</th><th scope=col>pred_df_seg_glm_fb</th><th scope=col>pred_df_agg_glm_fb</th><th scope=col>pred_df_seg2_rf_fb</th><th scope=col>pred_df_seg_rf_fb</th><th scope=col>pred_df_agg_rf_fb</th></tr>\n",
       "\t<tr><th></th><th scope=col>&lt;fct&gt;</th><th scope=col>&lt;fct&gt;</th><th scope=col>&lt;fct&gt;</th><th scope=col>&lt;chr&gt;</th><th scope=col>&lt;chr&gt;</th><th scope=col>&lt;int&gt;</th><th scope=col>&lt;chr&gt;</th><th scope=col>&lt;int&gt;</th><th scope=col>&lt;date&gt;</th><th scope=col>&lt;chr&gt;</th><th scope=col>&lt;date&gt;</th><th scope=col>&lt;chr&gt;</th><th scope=col>&lt;chr&gt;</th><th scope=col>&lt;chr&gt;</th><th scope=col>&lt;int&gt;</th><th scope=col>&lt;chr&gt;</th><th scope=col>&lt;fct&gt;</th><th scope=col>&lt;int&gt;</th><th scope=col>&lt;chr&gt;</th><th scope=col>&lt;chr&gt;</th><th scope=col>&lt;date&gt;</th><th scope=col>&lt;chr&gt;</th><th scope=col>&lt;chr&gt;</th><th scope=col>&lt;dbl&gt;</th><th scope=col>&lt;dbl&gt;</th><th scope=col>⋯</th><th scope=col>&lt;chr&gt;</th><th scope=col>&lt;chr&gt;</th><th scope=col>&lt;fct&gt;</th><th scope=col>&lt;int&gt;</th><th scope=col>&lt;chr&gt;</th><th scope=col>&lt;int&gt;</th><th scope=col>&lt;dbl&gt;</th><th scope=col>&lt;dbl&gt;</th><th scope=col>&lt;chr&gt;</th><th scope=col>&lt;chr&gt;</th><th scope=col>&lt;dbl&gt;</th><th scope=col>&lt;int&gt;</th><th scope=col>&lt;dbl&gt;</th><th scope=col>&lt;dbl&gt;</th><th scope=col>&lt;dbl&gt;</th><th scope=col>&lt;dbl&gt;</th><th scope=col>&lt;dbl&gt;</th><th scope=col>&lt;dbl&gt;</th><th scope=col>&lt;dbl&gt;</th><th scope=col>&lt;dbl&gt;</th><th scope=col>&lt;dbl&gt;</th><th scope=col>&lt;dbl&gt;</th><th scope=col>&lt;dbl&gt;</th><th scope=col>&lt;dbl&gt;</th><th scope=col>&lt;dbl&gt;</th></tr>\n",
       "</thead>\n",
       "<tbody>\n",
       "\t<tr><th scope=row>1</th><td>fun</td><td>Australia &amp; New Zealand</td><td><span style=white-space:pre-wrap>(3,5]  </span></td><td>instra corporation</td><td>Australia</td><td>104893671</td><td>FirstTime</td><td>1</td><td>2020-05-25</td><td><span style=white-space:pre-wrap>laur.fun         </span></td><td>2019-05-25</td><td>Active</td><td>instra corporation</td><td>Non China</td><td>1</td><td>NA</td><td>Not Renewd</td><td>0</td><td>auto-renewal</td><td><span style=white-space:pre-wrap>NA        </span></td><td>2020-05-25</td><td>Instra Corporation</td><td>Instra Corporation</td><td> 4</td><td> 4</td><td>⋯</td><td>funinstra corporation</td><td><span style=white-space:pre-wrap>laur         </span></td><td>l</td><td> 4</td><td>4l </td><td>1</td><td>1.386294</td><td>5.48</td><td><span style=white-space:pre-wrap>laur         </span></td><td>1</td><td>1</td><td>1</td><td><span style=white-space:pre-wrap>       NA</span></td><td>0.000</td><td>0.151</td><td>0.00000</td><td>0.1851779</td><td>0.3718108</td><td>0.2500000</td><td><span style=white-space:pre-wrap>       NA</span></td><td>0.2500000</td><td>0.2500000</td><td>0.2500000</td><td>0.2500000</td><td>0.2500000</td></tr>\n",
       "\t<tr><th scope=row>2</th><td>fun</td><td>Australia &amp; New Zealand</td><td><span style=white-space:pre-wrap>(3,5]  </span></td><td>instra corporation</td><td>Australia</td><td> 99540944</td><td>FirstTime</td><td>1</td><td>2020-04-10</td><td><span style=white-space:pre-wrap>oferty.fun       </span></td><td>2019-04-10</td><td>Active</td><td>instra corporation</td><td>Non China</td><td>1</td><td>NA</td><td>Not Renewd</td><td>0</td><td>auto-renewal</td><td>unrealized</td><td>2020-04-10</td><td>Instra Corporation</td><td>Instra Corporation</td><td> 4</td><td> 4</td><td>⋯</td><td>funinstra corporation</td><td><span style=white-space:pre-wrap>oferty       </span></td><td>l</td><td> 6</td><td>6l </td><td>1</td><td>1.386294</td><td>6.03</td><td><span style=white-space:pre-wrap>oferty       </span></td><td>1</td><td>1</td><td>1</td><td><span style=white-space:pre-wrap>       NA</span></td><td>0.000</td><td>0.146</td><td>0.00000</td><td>0.2157494</td><td>0.3943426</td><td>0.2500000</td><td><span style=white-space:pre-wrap>       NA</span></td><td>0.2500000</td><td>0.2500000</td><td>0.2500000</td><td>0.2500000</td><td>0.2500000</td></tr>\n",
       "\t<tr><th scope=row>3</th><td>fun</td><td>Australia &amp; New Zealand</td><td>(5,10] </td><td><span style=white-space:pre-wrap>crazy domains     </span></td><td>Australia</td><td> 62376247</td><td>FirstTime</td><td>1</td><td>2020-03-07</td><td>tennisladder.fun </td><td>2018-03-07</td><td>Active</td><td><span style=white-space:pre-wrap>crazy domains     </span></td><td>Non China</td><td>2</td><td>NA</td><td>Not Renewd</td><td>0</td><td>auto-renewal</td><td>unrealized</td><td>2020-03-07</td><td><span style=white-space:pre-wrap>Crazy Domains     </span></td><td><span style=white-space:pre-wrap>Crazy Domains     </span></td><td>18</td><td> 9</td><td>⋯</td><td><span style=white-space:pre-wrap>funcrazy domains     </span></td><td>tennisladder </td><td>l</td><td>12</td><td>12l</td><td>1</td><td>2.197225</td><td>4.85</td><td>tennisladder </td><td>1</td><td>1</td><td>1</td><td>1.0000000</td><td>0.400</td><td>0.334</td><td>0.42460</td><td>0.5788189</td><td>0.6221085</td><td>0.5000000</td><td>0.5000000</td><td>0.5000000</td><td>0.5000000</td><td>0.5000000</td><td>0.5000000</td><td>0.5000000</td></tr>\n",
       "\t<tr><th scope=row>4</th><td>fun</td><td>Australia &amp; New Zealand</td><td>(10,15]</td><td><span style=white-space:pre-wrap>ventraip          </span></td><td>Australia</td><td> 95252714</td><td>FirstTime</td><td>1</td><td>2020-03-03</td><td><span style=white-space:pre-wrap>letterific.fun   </span></td><td>2019-03-03</td><td>Active</td><td>synergy wholesale </td><td>Non China</td><td>1</td><td>NA</td><td><span style=white-space:pre-wrap>Renewed   </span></td><td>0</td><td><span style=white-space:pre-wrap>renewal     </span></td><td><span style=white-space:pre-wrap>NA        </span></td><td>2020-02-19</td><td>SYNERGY WHOLESALE </td><td><span style=white-space:pre-wrap>VentraIP          </span></td><td>15</td><td>15</td><td>⋯</td><td><span style=white-space:pre-wrap>funventraip          </span></td><td><span style=white-space:pre-wrap>letterific   </span></td><td>l</td><td>10</td><td>10l</td><td>1</td><td>2.708050</td><td>5.97</td><td><span style=white-space:pre-wrap>letterific   </span></td><td>1</td><td>1</td><td>1</td><td><span style=white-space:pre-wrap>       NA</span></td><td><span style=white-space:pre-wrap>   NA</span></td><td><span style=white-space:pre-wrap>   NA</span></td><td><span style=white-space:pre-wrap>     NA</span></td><td><span style=white-space:pre-wrap>       NA</span></td><td><span style=white-space:pre-wrap>       NA</span></td><td>0.3333333</td><td><span style=white-space:pre-wrap>       NA</span></td><td><span style=white-space:pre-wrap>       NA</span></td><td><span style=white-space:pre-wrap>       NA</span></td><td><span style=white-space:pre-wrap>       NA</span></td><td><span style=white-space:pre-wrap>       NA</span></td><td><span style=white-space:pre-wrap>       NA</span></td></tr>\n",
       "\t<tr><th scope=row>5</th><td>fun</td><td>Canada                 </td><td>(5,10] </td><td>shopify           </td><td>Canada   </td><td> 98381634</td><td>FirstTime</td><td>1</td><td>2020-03-29</td><td>abtractstore.fun </td><td>2019-03-29</td><td>Active</td><td>tucows            </td><td>Non China</td><td>1</td><td>NA</td><td>Not Renewd</td><td>0</td><td>auto-renewal</td><td>unrealized</td><td>2020-03-29</td><td>Tucows            </td><td>Shopify           </td><td> 8</td><td> 8</td><td>⋯</td><td>funshopify           </td><td>abtractstore </td><td>l</td><td>12</td><td>12l</td><td>1</td><td>2.079442</td><td>5.45</td><td>abtractstore </td><td>1</td><td>1</td><td>1</td><td>0.2172645</td><td>0.277</td><td>0.067</td><td>0.28220</td><td>0.2351863</td><td>0.2068615</td><td>0.5263158</td><td>0.5263158</td><td>0.5263158</td><td>0.5263158</td><td>0.5263158</td><td>0.5263158</td><td>0.5263158</td></tr>\n",
       "\t<tr><th scope=row>6</th><td>fun</td><td>Canada                 </td><td>(5,10] </td><td>hover             </td><td>Canada   </td><td>104937931</td><td>FirstTime</td><td>1</td><td>2020-05-26</td><td>futurefantasy.fun</td><td>2019-05-26</td><td>Active</td><td>tucows            </td><td>Non China</td><td>1</td><td>NA</td><td>Renewed   </td><td>0</td><td>renewal     </td><td>NA        </td><td>2020-05-25</td><td>Tucows            </td><td>Hover             </td><td> 8</td><td> 8</td><td>⋯</td><td>funhover             </td><td>futurefantasy</td><td>l</td><td>13</td><td>13l</td><td>1</td><td>2.079442</td><td>5.61</td><td>futurefantasy</td><td>1</td><td>1</td><td>1</td><td>0.6261119</td><td>0.624</td><td>0.267</td><td>0.59825</td><td>0.5677353</td><td>0.4933172</td><td>0.5263158</td><td>0.5263158</td><td>0.5263158</td><td>0.5263158</td><td>0.5263158</td><td>0.5263158</td><td>0.5263158</td></tr>\n",
       "</tbody>\n",
       "</table>\n"
      ],
      "text/latex": [
       "A data.frame: 6 × 54\n",
       "\\begin{tabular}{r|lllllllllllllllllllllllllllllllllllllllllllllllllll}\n",
       "  & tld & reseller\\_geo & reg\\_arpt\\_slab & reseller & reseller\\_country & domain\\_id & renewal\\_type & renewed\\_count & expiry\\_date & domain & creation\\_date & status & registrar & region & reg\\_period & registrant\\_country & renewal\\_status & renew\\_mbg & renew\\_type & autorenew\\_type & renew\\_date & renew\\_registrar & renew\\_reseller & reg\\_revenue & reg\\_arpt & ⋯ & tld\\_registrar\\_index & sld & sld\\_type & sld\\_length & sld\\_type2 & day\\_domains & log\\_reg\\_arpt & gibb\\_score & pattern & cluster & pattern\\_score & pattern\\_domain\\_count & pred\\_df\\_seg2\\_glm & pred\\_df\\_seg\\_glm & pred\\_df\\_agg\\_glm & pred\\_df\\_seg2\\_rf & pred\\_df\\_seg\\_rf & pred\\_df\\_agg\\_rf & renewal\\_rate & pred\\_df\\_seg2\\_glm\\_fb & pred\\_df\\_seg\\_glm\\_fb & pred\\_df\\_agg\\_glm\\_fb & pred\\_df\\_seg2\\_rf\\_fb & pred\\_df\\_seg\\_rf\\_fb & pred\\_df\\_agg\\_rf\\_fb\\\\\n",
       "  & <fct> & <fct> & <fct> & <chr> & <chr> & <int> & <chr> & <int> & <date> & <chr> & <date> & <chr> & <chr> & <chr> & <int> & <chr> & <fct> & <int> & <chr> & <chr> & <date> & <chr> & <chr> & <dbl> & <dbl> & ⋯ & <chr> & <chr> & <fct> & <int> & <chr> & <int> & <dbl> & <dbl> & <chr> & <chr> & <dbl> & <int> & <dbl> & <dbl> & <dbl> & <dbl> & <dbl> & <dbl> & <dbl> & <dbl> & <dbl> & <dbl> & <dbl> & <dbl> & <dbl>\\\\\n",
       "\\hline\n",
       "\t1 & fun & Australia \\& New Zealand & (3,5{]}   & instra corporation & Australia & 104893671 & FirstTime & 1 & 2020-05-25 & laur.fun          & 2019-05-25 & Active & instra corporation & Non China & 1 & NA & Not Renewd & 0 & auto-renewal & NA         & 2020-05-25 & Instra Corporation & Instra Corporation &  4 &  4 & ⋯ & funinstra corporation & laur          & l &  4 & 4l  & 1 & 1.386294 & 5.48 & laur          & 1 & 1 & 1 &        NA & 0.000 & 0.151 & 0.00000 & 0.1851779 & 0.3718108 & 0.2500000 &        NA & 0.2500000 & 0.2500000 & 0.2500000 & 0.2500000 & 0.2500000\\\\\n",
       "\t2 & fun & Australia \\& New Zealand & (3,5{]}   & instra corporation & Australia &  99540944 & FirstTime & 1 & 2020-04-10 & oferty.fun        & 2019-04-10 & Active & instra corporation & Non China & 1 & NA & Not Renewd & 0 & auto-renewal & unrealized & 2020-04-10 & Instra Corporation & Instra Corporation &  4 &  4 & ⋯ & funinstra corporation & oferty        & l &  6 & 6l  & 1 & 1.386294 & 6.03 & oferty        & 1 & 1 & 1 &        NA & 0.000 & 0.146 & 0.00000 & 0.2157494 & 0.3943426 & 0.2500000 &        NA & 0.2500000 & 0.2500000 & 0.2500000 & 0.2500000 & 0.2500000\\\\\n",
       "\t3 & fun & Australia \\& New Zealand & (5,10{]}  & crazy domains      & Australia &  62376247 & FirstTime & 1 & 2020-03-07 & tennisladder.fun  & 2018-03-07 & Active & crazy domains      & Non China & 2 & NA & Not Renewd & 0 & auto-renewal & unrealized & 2020-03-07 & Crazy Domains      & Crazy Domains      & 18 &  9 & ⋯ & funcrazy domains      & tennisladder  & l & 12 & 12l & 1 & 2.197225 & 4.85 & tennisladder  & 1 & 1 & 1 & 1.0000000 & 0.400 & 0.334 & 0.42460 & 0.5788189 & 0.6221085 & 0.5000000 & 0.5000000 & 0.5000000 & 0.5000000 & 0.5000000 & 0.5000000 & 0.5000000\\\\\n",
       "\t4 & fun & Australia \\& New Zealand & (10,15{]} & ventraip           & Australia &  95252714 & FirstTime & 1 & 2020-03-03 & letterific.fun    & 2019-03-03 & Active & synergy wholesale  & Non China & 1 & NA & Renewed    & 0 & renewal      & NA         & 2020-02-19 & SYNERGY WHOLESALE  & VentraIP           & 15 & 15 & ⋯ & funventraip           & letterific    & l & 10 & 10l & 1 & 2.708050 & 5.97 & letterific    & 1 & 1 & 1 &        NA &    NA &    NA &      NA &        NA &        NA & 0.3333333 &        NA &        NA &        NA &        NA &        NA &        NA\\\\\n",
       "\t5 & fun & Canada                  & (5,10{]}  & shopify            & Canada    &  98381634 & FirstTime & 1 & 2020-03-29 & abtractstore.fun  & 2019-03-29 & Active & tucows             & Non China & 1 & NA & Not Renewd & 0 & auto-renewal & unrealized & 2020-03-29 & Tucows             & Shopify            &  8 &  8 & ⋯ & funshopify            & abtractstore  & l & 12 & 12l & 1 & 2.079442 & 5.45 & abtractstore  & 1 & 1 & 1 & 0.2172645 & 0.277 & 0.067 & 0.28220 & 0.2351863 & 0.2068615 & 0.5263158 & 0.5263158 & 0.5263158 & 0.5263158 & 0.5263158 & 0.5263158 & 0.5263158\\\\\n",
       "\t6 & fun & Canada                  & (5,10{]}  & hover              & Canada    & 104937931 & FirstTime & 1 & 2020-05-26 & futurefantasy.fun & 2019-05-26 & Active & tucows             & Non China & 1 & NA & Renewed    & 0 & renewal      & NA         & 2020-05-25 & Tucows             & Hover              &  8 &  8 & ⋯ & funhover              & futurefantasy & l & 13 & 13l & 1 & 2.079442 & 5.61 & futurefantasy & 1 & 1 & 1 & 0.6261119 & 0.624 & 0.267 & 0.59825 & 0.5677353 & 0.4933172 & 0.5263158 & 0.5263158 & 0.5263158 & 0.5263158 & 0.5263158 & 0.5263158 & 0.5263158\\\\\n",
       "\\end{tabular}\n"
      ],
      "text/markdown": [
       "\n",
       "A data.frame: 6 × 54\n",
       "\n",
       "| <!--/--> | tld &lt;fct&gt; | reseller_geo &lt;fct&gt; | reg_arpt_slab &lt;fct&gt; | reseller &lt;chr&gt; | reseller_country &lt;chr&gt; | domain_id &lt;int&gt; | renewal_type &lt;chr&gt; | renewed_count &lt;int&gt; | expiry_date &lt;date&gt; | domain &lt;chr&gt; | creation_date &lt;date&gt; | status &lt;chr&gt; | registrar &lt;chr&gt; | region &lt;chr&gt; | reg_period &lt;int&gt; | registrant_country &lt;chr&gt; | renewal_status &lt;fct&gt; | renew_mbg &lt;int&gt; | renew_type &lt;chr&gt; | autorenew_type &lt;chr&gt; | renew_date &lt;date&gt; | renew_registrar &lt;chr&gt; | renew_reseller &lt;chr&gt; | reg_revenue &lt;dbl&gt; | reg_arpt &lt;dbl&gt; | ⋯ ⋯ | tld_registrar_index &lt;chr&gt; | sld &lt;chr&gt; | sld_type &lt;fct&gt; | sld_length &lt;int&gt; | sld_type2 &lt;chr&gt; | day_domains &lt;int&gt; | log_reg_arpt &lt;dbl&gt; | gibb_score &lt;dbl&gt; | pattern &lt;chr&gt; | cluster &lt;chr&gt; | pattern_score &lt;dbl&gt; | pattern_domain_count &lt;int&gt; | pred_df_seg2_glm &lt;dbl&gt; | pred_df_seg_glm &lt;dbl&gt; | pred_df_agg_glm &lt;dbl&gt; | pred_df_seg2_rf &lt;dbl&gt; | pred_df_seg_rf &lt;dbl&gt; | pred_df_agg_rf &lt;dbl&gt; | renewal_rate &lt;dbl&gt; | pred_df_seg2_glm_fb &lt;dbl&gt; | pred_df_seg_glm_fb &lt;dbl&gt; | pred_df_agg_glm_fb &lt;dbl&gt; | pred_df_seg2_rf_fb &lt;dbl&gt; | pred_df_seg_rf_fb &lt;dbl&gt; | pred_df_agg_rf_fb &lt;dbl&gt; |\n",
       "|---|---|---|---|---|---|---|---|---|---|---|---|---|---|---|---|---|---|---|---|---|---|---|---|---|---|---|---|---|---|---|---|---|---|---|---|---|---|---|---|---|---|---|---|---|---|---|---|---|---|---|---|\n",
       "| 1 | fun | Australia &amp; New Zealand | (3,5]   | instra corporation | Australia | 104893671 | FirstTime | 1 | 2020-05-25 | laur.fun          | 2019-05-25 | Active | instra corporation | Non China | 1 | NA | Not Renewd | 0 | auto-renewal | NA         | 2020-05-25 | Instra Corporation | Instra Corporation |  4 |  4 | ⋯ | funinstra corporation | laur          | l |  4 | 4l  | 1 | 1.386294 | 5.48 | laur          | 1 | 1 | 1 |        NA | 0.000 | 0.151 | 0.00000 | 0.1851779 | 0.3718108 | 0.2500000 |        NA | 0.2500000 | 0.2500000 | 0.2500000 | 0.2500000 | 0.2500000 |\n",
       "| 2 | fun | Australia &amp; New Zealand | (3,5]   | instra corporation | Australia |  99540944 | FirstTime | 1 | 2020-04-10 | oferty.fun        | 2019-04-10 | Active | instra corporation | Non China | 1 | NA | Not Renewd | 0 | auto-renewal | unrealized | 2020-04-10 | Instra Corporation | Instra Corporation |  4 |  4 | ⋯ | funinstra corporation | oferty        | l |  6 | 6l  | 1 | 1.386294 | 6.03 | oferty        | 1 | 1 | 1 |        NA | 0.000 | 0.146 | 0.00000 | 0.2157494 | 0.3943426 | 0.2500000 |        NA | 0.2500000 | 0.2500000 | 0.2500000 | 0.2500000 | 0.2500000 |\n",
       "| 3 | fun | Australia &amp; New Zealand | (5,10]  | crazy domains      | Australia |  62376247 | FirstTime | 1 | 2020-03-07 | tennisladder.fun  | 2018-03-07 | Active | crazy domains      | Non China | 2 | NA | Not Renewd | 0 | auto-renewal | unrealized | 2020-03-07 | Crazy Domains      | Crazy Domains      | 18 |  9 | ⋯ | funcrazy domains      | tennisladder  | l | 12 | 12l | 1 | 2.197225 | 4.85 | tennisladder  | 1 | 1 | 1 | 1.0000000 | 0.400 | 0.334 | 0.42460 | 0.5788189 | 0.6221085 | 0.5000000 | 0.5000000 | 0.5000000 | 0.5000000 | 0.5000000 | 0.5000000 | 0.5000000 |\n",
       "| 4 | fun | Australia &amp; New Zealand | (10,15] | ventraip           | Australia |  95252714 | FirstTime | 1 | 2020-03-03 | letterific.fun    | 2019-03-03 | Active | synergy wholesale  | Non China | 1 | NA | Renewed    | 0 | renewal      | NA         | 2020-02-19 | SYNERGY WHOLESALE  | VentraIP           | 15 | 15 | ⋯ | funventraip           | letterific    | l | 10 | 10l | 1 | 2.708050 | 5.97 | letterific    | 1 | 1 | 1 |        NA |    NA |    NA |      NA |        NA |        NA | 0.3333333 |        NA |        NA |        NA |        NA |        NA |        NA |\n",
       "| 5 | fun | Canada                  | (5,10]  | shopify            | Canada    |  98381634 | FirstTime | 1 | 2020-03-29 | abtractstore.fun  | 2019-03-29 | Active | tucows             | Non China | 1 | NA | Not Renewd | 0 | auto-renewal | unrealized | 2020-03-29 | Tucows             | Shopify            |  8 |  8 | ⋯ | funshopify            | abtractstore  | l | 12 | 12l | 1 | 2.079442 | 5.45 | abtractstore  | 1 | 1 | 1 | 0.2172645 | 0.277 | 0.067 | 0.28220 | 0.2351863 | 0.2068615 | 0.5263158 | 0.5263158 | 0.5263158 | 0.5263158 | 0.5263158 | 0.5263158 | 0.5263158 |\n",
       "| 6 | fun | Canada                  | (5,10]  | hover              | Canada    | 104937931 | FirstTime | 1 | 2020-05-26 | futurefantasy.fun | 2019-05-26 | Active | tucows             | Non China | 1 | NA | Renewed    | 0 | renewal      | NA         | 2020-05-25 | Tucows             | Hover              |  8 |  8 | ⋯ | funhover              | futurefantasy | l | 13 | 13l | 1 | 2.079442 | 5.61 | futurefantasy | 1 | 1 | 1 | 0.6261119 | 0.624 | 0.267 | 0.59825 | 0.5677353 | 0.4933172 | 0.5263158 | 0.5263158 | 0.5263158 | 0.5263158 | 0.5263158 | 0.5263158 | 0.5263158 |\n",
       "\n"
      ],
      "text/plain": [
       "  tld reseller_geo            reg_arpt_slab reseller           reseller_country\n",
       "1 fun Australia & New Zealand (3,5]         instra corporation Australia       \n",
       "2 fun Australia & New Zealand (3,5]         instra corporation Australia       \n",
       "3 fun Australia & New Zealand (5,10]        crazy domains      Australia       \n",
       "4 fun Australia & New Zealand (10,15]       ventraip           Australia       \n",
       "5 fun Canada                  (5,10]        shopify            Canada          \n",
       "6 fun Canada                  (5,10]        hover              Canada          \n",
       "  domain_id renewal_type renewed_count expiry_date domain           \n",
       "1 104893671 FirstTime    1             2020-05-25  laur.fun         \n",
       "2  99540944 FirstTime    1             2020-04-10  oferty.fun       \n",
       "3  62376247 FirstTime    1             2020-03-07  tennisladder.fun \n",
       "4  95252714 FirstTime    1             2020-03-03  letterific.fun   \n",
       "5  98381634 FirstTime    1             2020-03-29  abtractstore.fun \n",
       "6 104937931 FirstTime    1             2020-05-26  futurefantasy.fun\n",
       "  creation_date status registrar          region    reg_period\n",
       "1 2019-05-25    Active instra corporation Non China 1         \n",
       "2 2019-04-10    Active instra corporation Non China 1         \n",
       "3 2018-03-07    Active crazy domains      Non China 2         \n",
       "4 2019-03-03    Active synergy wholesale  Non China 1         \n",
       "5 2019-03-29    Active tucows             Non China 1         \n",
       "6 2019-05-26    Active tucows             Non China 1         \n",
       "  registrant_country renewal_status renew_mbg renew_type   autorenew_type\n",
       "1 NA                 Not Renewd     0         auto-renewal NA            \n",
       "2 NA                 Not Renewd     0         auto-renewal unrealized    \n",
       "3 NA                 Not Renewd     0         auto-renewal unrealized    \n",
       "4 NA                 Renewed        0         renewal      NA            \n",
       "5 NA                 Not Renewd     0         auto-renewal unrealized    \n",
       "6 NA                 Renewed        0         renewal      NA            \n",
       "  renew_date renew_registrar    renew_reseller     reg_revenue reg_arpt ⋯\n",
       "1 2020-05-25 Instra Corporation Instra Corporation  4           4       ⋯\n",
       "2 2020-04-10 Instra Corporation Instra Corporation  4           4       ⋯\n",
       "3 2020-03-07 Crazy Domains      Crazy Domains      18           9       ⋯\n",
       "4 2020-02-19 SYNERGY WHOLESALE  VentraIP           15          15       ⋯\n",
       "5 2020-03-29 Tucows             Shopify             8           8       ⋯\n",
       "6 2020-05-25 Tucows             Hover               8           8       ⋯\n",
       "  tld_registrar_index   sld           sld_type sld_length sld_type2 day_domains\n",
       "1 funinstra corporation laur          l         4         4l        1          \n",
       "2 funinstra corporation oferty        l         6         6l        1          \n",
       "3 funcrazy domains      tennisladder  l        12         12l       1          \n",
       "4 funventraip           letterific    l        10         10l       1          \n",
       "5 funshopify            abtractstore  l        12         12l       1          \n",
       "6 funhover              futurefantasy l        13         13l       1          \n",
       "  log_reg_arpt gibb_score pattern       cluster pattern_score\n",
       "1 1.386294     5.48       laur          1       1            \n",
       "2 1.386294     6.03       oferty        1       1            \n",
       "3 2.197225     4.85       tennisladder  1       1            \n",
       "4 2.708050     5.97       letterific    1       1            \n",
       "5 2.079442     5.45       abtractstore  1       1            \n",
       "6 2.079442     5.61       futurefantasy 1       1            \n",
       "  pattern_domain_count pred_df_seg2_glm pred_df_seg_glm pred_df_agg_glm\n",
       "1 1                           NA        0.000           0.151          \n",
       "2 1                           NA        0.000           0.146          \n",
       "3 1                    1.0000000        0.400           0.334          \n",
       "4 1                           NA           NA              NA          \n",
       "5 1                    0.2172645        0.277           0.067          \n",
       "6 1                    0.6261119        0.624           0.267          \n",
       "  pred_df_seg2_rf pred_df_seg_rf pred_df_agg_rf renewal_rate\n",
       "1 0.00000         0.1851779      0.3718108      0.2500000   \n",
       "2 0.00000         0.2157494      0.3943426      0.2500000   \n",
       "3 0.42460         0.5788189      0.6221085      0.5000000   \n",
       "4      NA                NA             NA      0.3333333   \n",
       "5 0.28220         0.2351863      0.2068615      0.5263158   \n",
       "6 0.59825         0.5677353      0.4933172      0.5263158   \n",
       "  pred_df_seg2_glm_fb pred_df_seg_glm_fb pred_df_agg_glm_fb pred_df_seg2_rf_fb\n",
       "1        NA           0.2500000          0.2500000          0.2500000         \n",
       "2        NA           0.2500000          0.2500000          0.2500000         \n",
       "3 0.5000000           0.5000000          0.5000000          0.5000000         \n",
       "4        NA                  NA                 NA                 NA         \n",
       "5 0.5263158           0.5263158          0.5263158          0.5263158         \n",
       "6 0.5263158           0.5263158          0.5263158          0.5263158         \n",
       "  pred_df_seg_rf_fb pred_df_agg_rf_fb\n",
       "1 0.2500000         0.2500000        \n",
       "2 0.2500000         0.2500000        \n",
       "3 0.5000000         0.5000000        \n",
       "4        NA                NA        \n",
       "5 0.5263158         0.5263158        \n",
       "6 0.5263158         0.5263158        "
      ]
     },
     "metadata": {},
     "output_type": "display_data"
    }
   ],
   "source": [
    "head(test_predictions_fallback_df_2)"
   ]
  },
  {
   "cell_type": "code",
   "execution_count": 104,
   "metadata": {},
   "outputs": [],
   "source": [
    "lift_list_2 <- list()\n",
    "auc_list_2 <- list()\n",
    "\n",
    "fallback_lift <- chart_lift(pred_df=test_predictions_fallback_df_2,\n",
    "                        dep_var = \"renewal_status\",\n",
    "                        pred_var = \"renewal_rate\") \n",
    "\n",
    "lift_list_2[[\"fallback\"]] <- fallback_lift\n",
    "auc_list_2[[\"fallback\"]] <- calc_auc(lift_df=fallback_lift)\n",
    "\n",
    "models <- c('pred_df_seg2_glm_fb',\t'pred_df_seg_glm_fb',\t'pred_df_agg_glm_fb',\t'pred_df_seg2_rf_fb',\t\n",
    "            'pred_df_seg_rf_fb',\t'pred_df_agg_rf_fb')\n",
    "\n",
    "\n",
    "for (model in models){\n",
    "    model_lift <- chart_lift(pred_df=test_predictions_fallback_df_2,\n",
    "                        dep_var = \"renewal_status\",\n",
    "                        pred_var = model) \n",
    "    \n",
    "    fallback_lift <- merge(fallback_lift, model_lift, by=c(\"P\"),all= TRUE, \n",
    "                           suffixes = c(\"\",\n",
    "                                        paste(\"_\",gsub(\"pred_df_\", \"\", model)) ))\n",
    "    \n",
    "    lift_list_2[[model]] <- model_lift\n",
    "    auc_list_2[[model]] <- calc_auc(lift_df=model_lift)\n",
    "}\n",
    "\n",
    "lift_df_2 <- fallback_lift"
   ]
  },
  {
   "cell_type": "code",
   "execution_count": 105,
   "metadata": {},
   "outputs": [
    {
     "data": {
      "image/png": "[encoded data removed]",
      "text/plain": [
       "plot without title"
      ]
     },
     "metadata": {
      "image/png": {
       "height": 420,
       "width": 420
      },
      "text/plain": {
       "height": 420,
       "width": 420
      }
     },
     "output_type": "display_data"
    }
   ],
   "source": [
    "plot_multigains(            lift_df_list=lift_list,\n",
    "                             auc_list = auc_list,\n",
    "                             prop_positive = 0.09149351) "
   ]
  },
  {
   "cell_type": "code",
   "execution_count": 107,
   "metadata": {},
   "outputs": [
    {
     "data": {
      "image/png": "[encoded data removed]",
      "text/plain": [
       "plot without title"
      ]
     },
     "metadata": {
      "image/png": {
       "height": 420,
       "width": 420
      },
      "text/plain": {
       "height": 420,
       "width": 420
      }
     },
     "output_type": "display_data"
    }
   ],
   "source": [
    "plot_multigains(            lift_df_list=lift_list_2,\n",
    "                             auc_list = auc_list_2,\n",
    "                             prop_positive = 0.09149351) "
   ]
  },
  {
   "cell_type": "markdown",
   "metadata": {},
   "source": [
    "# Generate Metrics @ Tld-Reseller level "
   ]
  },
  {
   "cell_type": "code",
   "execution_count": 108,
   "metadata": {},
   "outputs": [
    {
     "data": {
      "text/html": [
       "<table>\n",
       "<caption>A data.frame: 6 × 54</caption>\n",
       "<thead>\n",
       "\t<tr><th></th><th scope=col>tld</th><th scope=col>reseller_geo</th><th scope=col>reg_arpt_slab</th><th scope=col>reseller</th><th scope=col>reseller_country</th><th scope=col>domain_id</th><th scope=col>renewal_type</th><th scope=col>renewed_count</th><th scope=col>expiry_date</th><th scope=col>domain</th><th scope=col>creation_date</th><th scope=col>status</th><th scope=col>registrar</th><th scope=col>region</th><th scope=col>reg_period</th><th scope=col>registrant_country</th><th scope=col>renewal_status</th><th scope=col>renew_mbg</th><th scope=col>renew_type</th><th scope=col>autorenew_type</th><th scope=col>renew_date</th><th scope=col>renew_registrar</th><th scope=col>renew_reseller</th><th scope=col>reg_revenue</th><th scope=col>reg_arpt</th><th scope=col>⋯</th><th scope=col>tld_registrar_index</th><th scope=col>sld</th><th scope=col>sld_type</th><th scope=col>sld_length</th><th scope=col>sld_type2</th><th scope=col>day_domains</th><th scope=col>log_reg_arpt</th><th scope=col>gibb_score</th><th scope=col>pattern</th><th scope=col>cluster</th><th scope=col>pattern_score</th><th scope=col>pattern_domain_count</th><th scope=col>pred_df_seg2_glm</th><th scope=col>pred_df_seg_glm</th><th scope=col>pred_df_agg_glm</th><th scope=col>pred_df_seg2_rf</th><th scope=col>pred_df_seg_rf</th><th scope=col>pred_df_agg_rf</th><th scope=col>renewal_rate</th><th scope=col>pred_df_seg2_glm_fb</th><th scope=col>pred_df_seg_glm_fb</th><th scope=col>pred_df_agg_glm_fb</th><th scope=col>pred_df_seg2_rf_fb</th><th scope=col>pred_df_seg_rf_fb</th><th scope=col>pred_df_agg_rf_fb</th></tr>\n",
       "\t<tr><th></th><th scope=col>&lt;fct&gt;</th><th scope=col>&lt;fct&gt;</th><th scope=col>&lt;fct&gt;</th><th scope=col>&lt;chr&gt;</th><th scope=col>&lt;chr&gt;</th><th scope=col>&lt;int&gt;</th><th scope=col>&lt;chr&gt;</th><th scope=col>&lt;int&gt;</th><th scope=col>&lt;date&gt;</th><th scope=col>&lt;chr&gt;</th><th scope=col>&lt;date&gt;</th><th scope=col>&lt;chr&gt;</th><th scope=col>&lt;chr&gt;</th><th scope=col>&lt;chr&gt;</th><th scope=col>&lt;int&gt;</th><th scope=col>&lt;chr&gt;</th><th scope=col>&lt;fct&gt;</th><th scope=col>&lt;int&gt;</th><th scope=col>&lt;chr&gt;</th><th scope=col>&lt;chr&gt;</th><th scope=col>&lt;date&gt;</th><th scope=col>&lt;chr&gt;</th><th scope=col>&lt;chr&gt;</th><th scope=col>&lt;dbl&gt;</th><th scope=col>&lt;dbl&gt;</th><th scope=col>⋯</th><th scope=col>&lt;chr&gt;</th><th scope=col>&lt;chr&gt;</th><th scope=col>&lt;fct&gt;</th><th scope=col>&lt;int&gt;</th><th scope=col>&lt;chr&gt;</th><th scope=col>&lt;int&gt;</th><th scope=col>&lt;dbl&gt;</th><th scope=col>&lt;dbl&gt;</th><th scope=col>&lt;chr&gt;</th><th scope=col>&lt;chr&gt;</th><th scope=col>&lt;dbl&gt;</th><th scope=col>&lt;int&gt;</th><th scope=col>&lt;dbl&gt;</th><th scope=col>&lt;dbl&gt;</th><th scope=col>&lt;dbl&gt;</th><th scope=col>&lt;dbl&gt;</th><th scope=col>&lt;dbl&gt;</th><th scope=col>&lt;dbl&gt;</th><th scope=col>&lt;dbl&gt;</th><th scope=col>&lt;dbl&gt;</th><th scope=col>&lt;dbl&gt;</th><th scope=col>&lt;dbl&gt;</th><th scope=col>&lt;dbl&gt;</th><th scope=col>&lt;dbl&gt;</th><th scope=col>&lt;dbl&gt;</th></tr>\n",
       "</thead>\n",
       "<tbody>\n",
       "\t<tr><th scope=row>1</th><td>fun</td><td>Australia &amp; New Zealand</td><td><span style=white-space:pre-wrap>(3,5]  </span></td><td>instra corporation</td><td>Australia</td><td>104893671</td><td>FirstTime</td><td>1</td><td>2020-05-25</td><td><span style=white-space:pre-wrap>laur.fun         </span></td><td>2019-05-25</td><td>Active</td><td>instra corporation</td><td>Non China</td><td>1</td><td>NA</td><td>Not Renewd</td><td>0</td><td>auto-renewal</td><td><span style=white-space:pre-wrap>NA        </span></td><td>2020-05-25</td><td>Instra Corporation</td><td>Instra Corporation</td><td> 4</td><td> 4</td><td>⋯</td><td>funinstra corporation</td><td><span style=white-space:pre-wrap>laur         </span></td><td>l</td><td> 4</td><td>4l </td><td>1</td><td>1.386294</td><td>5.48</td><td><span style=white-space:pre-wrap>laur         </span></td><td>1</td><td>1</td><td>1</td><td><span style=white-space:pre-wrap>       NA</span></td><td>0.000</td><td>0.151</td><td>0.00000</td><td>0.1851779</td><td>0.3718108</td><td>0.2500000</td><td><span style=white-space:pre-wrap>       NA</span></td><td>0.2500000</td><td>0.2500000</td><td>0.2500000</td><td>0.2500000</td><td>0.2500000</td></tr>\n",
       "\t<tr><th scope=row>2</th><td>fun</td><td>Australia &amp; New Zealand</td><td><span style=white-space:pre-wrap>(3,5]  </span></td><td>instra corporation</td><td>Australia</td><td> 99540944</td><td>FirstTime</td><td>1</td><td>2020-04-10</td><td><span style=white-space:pre-wrap>oferty.fun       </span></td><td>2019-04-10</td><td>Active</td><td>instra corporation</td><td>Non China</td><td>1</td><td>NA</td><td>Not Renewd</td><td>0</td><td>auto-renewal</td><td>unrealized</td><td>2020-04-10</td><td>Instra Corporation</td><td>Instra Corporation</td><td> 4</td><td> 4</td><td>⋯</td><td>funinstra corporation</td><td><span style=white-space:pre-wrap>oferty       </span></td><td>l</td><td> 6</td><td>6l </td><td>1</td><td>1.386294</td><td>6.03</td><td><span style=white-space:pre-wrap>oferty       </span></td><td>1</td><td>1</td><td>1</td><td><span style=white-space:pre-wrap>       NA</span></td><td>0.000</td><td>0.146</td><td>0.00000</td><td>0.2157494</td><td>0.3943426</td><td>0.2500000</td><td><span style=white-space:pre-wrap>       NA</span></td><td>0.2500000</td><td>0.2500000</td><td>0.2500000</td><td>0.2500000</td><td>0.2500000</td></tr>\n",
       "\t<tr><th scope=row>3</th><td>fun</td><td>Australia &amp; New Zealand</td><td>(5,10] </td><td><span style=white-space:pre-wrap>crazy domains     </span></td><td>Australia</td><td> 62376247</td><td>FirstTime</td><td>1</td><td>2020-03-07</td><td>tennisladder.fun </td><td>2018-03-07</td><td>Active</td><td><span style=white-space:pre-wrap>crazy domains     </span></td><td>Non China</td><td>2</td><td>NA</td><td>Not Renewd</td><td>0</td><td>auto-renewal</td><td>unrealized</td><td>2020-03-07</td><td><span style=white-space:pre-wrap>Crazy Domains     </span></td><td><span style=white-space:pre-wrap>Crazy Domains     </span></td><td>18</td><td> 9</td><td>⋯</td><td><span style=white-space:pre-wrap>funcrazy domains     </span></td><td>tennisladder </td><td>l</td><td>12</td><td>12l</td><td>1</td><td>2.197225</td><td>4.85</td><td>tennisladder </td><td>1</td><td>1</td><td>1</td><td>1.0000000</td><td>0.400</td><td>0.334</td><td>0.42460</td><td>0.5788189</td><td>0.6221085</td><td>0.5000000</td><td>0.5000000</td><td>0.5000000</td><td>0.5000000</td><td>0.5000000</td><td>0.5000000</td><td>0.5000000</td></tr>\n",
       "\t<tr><th scope=row>4</th><td>fun</td><td>Australia &amp; New Zealand</td><td>(10,15]</td><td><span style=white-space:pre-wrap>ventraip          </span></td><td>Australia</td><td> 95252714</td><td>FirstTime</td><td>1</td><td>2020-03-03</td><td><span style=white-space:pre-wrap>letterific.fun   </span></td><td>2019-03-03</td><td>Active</td><td>synergy wholesale </td><td>Non China</td><td>1</td><td>NA</td><td><span style=white-space:pre-wrap>Renewed   </span></td><td>0</td><td><span style=white-space:pre-wrap>renewal     </span></td><td><span style=white-space:pre-wrap>NA        </span></td><td>2020-02-19</td><td>SYNERGY WHOLESALE </td><td><span style=white-space:pre-wrap>VentraIP          </span></td><td>15</td><td>15</td><td>⋯</td><td><span style=white-space:pre-wrap>funventraip          </span></td><td><span style=white-space:pre-wrap>letterific   </span></td><td>l</td><td>10</td><td>10l</td><td>1</td><td>2.708050</td><td>5.97</td><td><span style=white-space:pre-wrap>letterific   </span></td><td>1</td><td>1</td><td>1</td><td><span style=white-space:pre-wrap>       NA</span></td><td><span style=white-space:pre-wrap>   NA</span></td><td><span style=white-space:pre-wrap>   NA</span></td><td><span style=white-space:pre-wrap>     NA</span></td><td><span style=white-space:pre-wrap>       NA</span></td><td><span style=white-space:pre-wrap>       NA</span></td><td>0.3333333</td><td><span style=white-space:pre-wrap>       NA</span></td><td><span style=white-space:pre-wrap>       NA</span></td><td><span style=white-space:pre-wrap>       NA</span></td><td><span style=white-space:pre-wrap>       NA</span></td><td><span style=white-space:pre-wrap>       NA</span></td><td><span style=white-space:pre-wrap>       NA</span></td></tr>\n",
       "\t<tr><th scope=row>5</th><td>fun</td><td>Canada                 </td><td>(5,10] </td><td>shopify           </td><td>Canada   </td><td> 98381634</td><td>FirstTime</td><td>1</td><td>2020-03-29</td><td>abtractstore.fun </td><td>2019-03-29</td><td>Active</td><td>tucows            </td><td>Non China</td><td>1</td><td>NA</td><td>Not Renewd</td><td>0</td><td>auto-renewal</td><td>unrealized</td><td>2020-03-29</td><td>Tucows            </td><td>Shopify           </td><td> 8</td><td> 8</td><td>⋯</td><td>funshopify           </td><td>abtractstore </td><td>l</td><td>12</td><td>12l</td><td>1</td><td>2.079442</td><td>5.45</td><td>abtractstore </td><td>1</td><td>1</td><td>1</td><td>0.2172645</td><td>0.277</td><td>0.067</td><td>0.28220</td><td>0.2351863</td><td>0.2068615</td><td>0.5263158</td><td>0.5263158</td><td>0.5263158</td><td>0.5263158</td><td>0.5263158</td><td>0.5263158</td><td>0.5263158</td></tr>\n",
       "\t<tr><th scope=row>6</th><td>fun</td><td>Canada                 </td><td>(5,10] </td><td>hover             </td><td>Canada   </td><td>104937931</td><td>FirstTime</td><td>1</td><td>2020-05-26</td><td>futurefantasy.fun</td><td>2019-05-26</td><td>Active</td><td>tucows            </td><td>Non China</td><td>1</td><td>NA</td><td>Renewed   </td><td>0</td><td>renewal     </td><td>NA        </td><td>2020-05-25</td><td>Tucows            </td><td>Hover             </td><td> 8</td><td> 8</td><td>⋯</td><td>funhover             </td><td>futurefantasy</td><td>l</td><td>13</td><td>13l</td><td>1</td><td>2.079442</td><td>5.61</td><td>futurefantasy</td><td>1</td><td>1</td><td>1</td><td>0.6261119</td><td>0.624</td><td>0.267</td><td>0.59825</td><td>0.5677353</td><td>0.4933172</td><td>0.5263158</td><td>0.5263158</td><td>0.5263158</td><td>0.5263158</td><td>0.5263158</td><td>0.5263158</td><td>0.5263158</td></tr>\n",
       "</tbody>\n",
       "</table>\n"
      ],
      "text/latex": [
       "A data.frame: 6 × 54\n",
       "\\begin{tabular}{r|lllllllllllllllllllllllllllllllllllllllllllllllllll}\n",
       "  & tld & reseller\\_geo & reg\\_arpt\\_slab & reseller & reseller\\_country & domain\\_id & renewal\\_type & renewed\\_count & expiry\\_date & domain & creation\\_date & status & registrar & region & reg\\_period & registrant\\_country & renewal\\_status & renew\\_mbg & renew\\_type & autorenew\\_type & renew\\_date & renew\\_registrar & renew\\_reseller & reg\\_revenue & reg\\_arpt & ⋯ & tld\\_registrar\\_index & sld & sld\\_type & sld\\_length & sld\\_type2 & day\\_domains & log\\_reg\\_arpt & gibb\\_score & pattern & cluster & pattern\\_score & pattern\\_domain\\_count & pred\\_df\\_seg2\\_glm & pred\\_df\\_seg\\_glm & pred\\_df\\_agg\\_glm & pred\\_df\\_seg2\\_rf & pred\\_df\\_seg\\_rf & pred\\_df\\_agg\\_rf & renewal\\_rate & pred\\_df\\_seg2\\_glm\\_fb & pred\\_df\\_seg\\_glm\\_fb & pred\\_df\\_agg\\_glm\\_fb & pred\\_df\\_seg2\\_rf\\_fb & pred\\_df\\_seg\\_rf\\_fb & pred\\_df\\_agg\\_rf\\_fb\\\\\n",
       "  & <fct> & <fct> & <fct> & <chr> & <chr> & <int> & <chr> & <int> & <date> & <chr> & <date> & <chr> & <chr> & <chr> & <int> & <chr> & <fct> & <int> & <chr> & <chr> & <date> & <chr> & <chr> & <dbl> & <dbl> & ⋯ & <chr> & <chr> & <fct> & <int> & <chr> & <int> & <dbl> & <dbl> & <chr> & <chr> & <dbl> & <int> & <dbl> & <dbl> & <dbl> & <dbl> & <dbl> & <dbl> & <dbl> & <dbl> & <dbl> & <dbl> & <dbl> & <dbl> & <dbl>\\\\\n",
       "\\hline\n",
       "\t1 & fun & Australia \\& New Zealand & (3,5{]}   & instra corporation & Australia & 104893671 & FirstTime & 1 & 2020-05-25 & laur.fun          & 2019-05-25 & Active & instra corporation & Non China & 1 & NA & Not Renewd & 0 & auto-renewal & NA         & 2020-05-25 & Instra Corporation & Instra Corporation &  4 &  4 & ⋯ & funinstra corporation & laur          & l &  4 & 4l  & 1 & 1.386294 & 5.48 & laur          & 1 & 1 & 1 &        NA & 0.000 & 0.151 & 0.00000 & 0.1851779 & 0.3718108 & 0.2500000 &        NA & 0.2500000 & 0.2500000 & 0.2500000 & 0.2500000 & 0.2500000\\\\\n",
       "\t2 & fun & Australia \\& New Zealand & (3,5{]}   & instra corporation & Australia &  99540944 & FirstTime & 1 & 2020-04-10 & oferty.fun        & 2019-04-10 & Active & instra corporation & Non China & 1 & NA & Not Renewd & 0 & auto-renewal & unrealized & 2020-04-10 & Instra Corporation & Instra Corporation &  4 &  4 & ⋯ & funinstra corporation & oferty        & l &  6 & 6l  & 1 & 1.386294 & 6.03 & oferty        & 1 & 1 & 1 &        NA & 0.000 & 0.146 & 0.00000 & 0.2157494 & 0.3943426 & 0.2500000 &        NA & 0.2500000 & 0.2500000 & 0.2500000 & 0.2500000 & 0.2500000\\\\\n",
       "\t3 & fun & Australia \\& New Zealand & (5,10{]}  & crazy domains      & Australia &  62376247 & FirstTime & 1 & 2020-03-07 & tennisladder.fun  & 2018-03-07 & Active & crazy domains      & Non China & 2 & NA & Not Renewd & 0 & auto-renewal & unrealized & 2020-03-07 & Crazy Domains      & Crazy Domains      & 18 &  9 & ⋯ & funcrazy domains      & tennisladder  & l & 12 & 12l & 1 & 2.197225 & 4.85 & tennisladder  & 1 & 1 & 1 & 1.0000000 & 0.400 & 0.334 & 0.42460 & 0.5788189 & 0.6221085 & 0.5000000 & 0.5000000 & 0.5000000 & 0.5000000 & 0.5000000 & 0.5000000 & 0.5000000\\\\\n",
       "\t4 & fun & Australia \\& New Zealand & (10,15{]} & ventraip           & Australia &  95252714 & FirstTime & 1 & 2020-03-03 & letterific.fun    & 2019-03-03 & Active & synergy wholesale  & Non China & 1 & NA & Renewed    & 0 & renewal      & NA         & 2020-02-19 & SYNERGY WHOLESALE  & VentraIP           & 15 & 15 & ⋯ & funventraip           & letterific    & l & 10 & 10l & 1 & 2.708050 & 5.97 & letterific    & 1 & 1 & 1 &        NA &    NA &    NA &      NA &        NA &        NA & 0.3333333 &        NA &        NA &        NA &        NA &        NA &        NA\\\\\n",
       "\t5 & fun & Canada                  & (5,10{]}  & shopify            & Canada    &  98381634 & FirstTime & 1 & 2020-03-29 & abtractstore.fun  & 2019-03-29 & Active & tucows             & Non China & 1 & NA & Not Renewd & 0 & auto-renewal & unrealized & 2020-03-29 & Tucows             & Shopify            &  8 &  8 & ⋯ & funshopify            & abtractstore  & l & 12 & 12l & 1 & 2.079442 & 5.45 & abtractstore  & 1 & 1 & 1 & 0.2172645 & 0.277 & 0.067 & 0.28220 & 0.2351863 & 0.2068615 & 0.5263158 & 0.5263158 & 0.5263158 & 0.5263158 & 0.5263158 & 0.5263158 & 0.5263158\\\\\n",
       "\t6 & fun & Canada                  & (5,10{]}  & hover              & Canada    & 104937931 & FirstTime & 1 & 2020-05-26 & futurefantasy.fun & 2019-05-26 & Active & tucows             & Non China & 1 & NA & Renewed    & 0 & renewal      & NA         & 2020-05-25 & Tucows             & Hover              &  8 &  8 & ⋯ & funhover              & futurefantasy & l & 13 & 13l & 1 & 2.079442 & 5.61 & futurefantasy & 1 & 1 & 1 & 0.6261119 & 0.624 & 0.267 & 0.59825 & 0.5677353 & 0.4933172 & 0.5263158 & 0.5263158 & 0.5263158 & 0.5263158 & 0.5263158 & 0.5263158 & 0.5263158\\\\\n",
       "\\end{tabular}\n"
      ],
      "text/markdown": [
       "\n",
       "A data.frame: 6 × 54\n",
       "\n",
       "| <!--/--> | tld &lt;fct&gt; | reseller_geo &lt;fct&gt; | reg_arpt_slab &lt;fct&gt; | reseller &lt;chr&gt; | reseller_country &lt;chr&gt; | domain_id &lt;int&gt; | renewal_type &lt;chr&gt; | renewed_count &lt;int&gt; | expiry_date &lt;date&gt; | domain &lt;chr&gt; | creation_date &lt;date&gt; | status &lt;chr&gt; | registrar &lt;chr&gt; | region &lt;chr&gt; | reg_period &lt;int&gt; | registrant_country &lt;chr&gt; | renewal_status &lt;fct&gt; | renew_mbg &lt;int&gt; | renew_type &lt;chr&gt; | autorenew_type &lt;chr&gt; | renew_date &lt;date&gt; | renew_registrar &lt;chr&gt; | renew_reseller &lt;chr&gt; | reg_revenue &lt;dbl&gt; | reg_arpt &lt;dbl&gt; | ⋯ ⋯ | tld_registrar_index &lt;chr&gt; | sld &lt;chr&gt; | sld_type &lt;fct&gt; | sld_length &lt;int&gt; | sld_type2 &lt;chr&gt; | day_domains &lt;int&gt; | log_reg_arpt &lt;dbl&gt; | gibb_score &lt;dbl&gt; | pattern &lt;chr&gt; | cluster &lt;chr&gt; | pattern_score &lt;dbl&gt; | pattern_domain_count &lt;int&gt; | pred_df_seg2_glm &lt;dbl&gt; | pred_df_seg_glm &lt;dbl&gt; | pred_df_agg_glm &lt;dbl&gt; | pred_df_seg2_rf &lt;dbl&gt; | pred_df_seg_rf &lt;dbl&gt; | pred_df_agg_rf &lt;dbl&gt; | renewal_rate &lt;dbl&gt; | pred_df_seg2_glm_fb &lt;dbl&gt; | pred_df_seg_glm_fb &lt;dbl&gt; | pred_df_agg_glm_fb &lt;dbl&gt; | pred_df_seg2_rf_fb &lt;dbl&gt; | pred_df_seg_rf_fb &lt;dbl&gt; | pred_df_agg_rf_fb &lt;dbl&gt; |\n",
       "|---|---|---|---|---|---|---|---|---|---|---|---|---|---|---|---|---|---|---|---|---|---|---|---|---|---|---|---|---|---|---|---|---|---|---|---|---|---|---|---|---|---|---|---|---|---|---|---|---|---|---|---|\n",
       "| 1 | fun | Australia &amp; New Zealand | (3,5]   | instra corporation | Australia | 104893671 | FirstTime | 1 | 2020-05-25 | laur.fun          | 2019-05-25 | Active | instra corporation | Non China | 1 | NA | Not Renewd | 0 | auto-renewal | NA         | 2020-05-25 | Instra Corporation | Instra Corporation |  4 |  4 | ⋯ | funinstra corporation | laur          | l |  4 | 4l  | 1 | 1.386294 | 5.48 | laur          | 1 | 1 | 1 |        NA | 0.000 | 0.151 | 0.00000 | 0.1851779 | 0.3718108 | 0.2500000 |        NA | 0.2500000 | 0.2500000 | 0.2500000 | 0.2500000 | 0.2500000 |\n",
       "| 2 | fun | Australia &amp; New Zealand | (3,5]   | instra corporation | Australia |  99540944 | FirstTime | 1 | 2020-04-10 | oferty.fun        | 2019-04-10 | Active | instra corporation | Non China | 1 | NA | Not Renewd | 0 | auto-renewal | unrealized | 2020-04-10 | Instra Corporation | Instra Corporation |  4 |  4 | ⋯ | funinstra corporation | oferty        | l |  6 | 6l  | 1 | 1.386294 | 6.03 | oferty        | 1 | 1 | 1 |        NA | 0.000 | 0.146 | 0.00000 | 0.2157494 | 0.3943426 | 0.2500000 |        NA | 0.2500000 | 0.2500000 | 0.2500000 | 0.2500000 | 0.2500000 |\n",
       "| 3 | fun | Australia &amp; New Zealand | (5,10]  | crazy domains      | Australia |  62376247 | FirstTime | 1 | 2020-03-07 | tennisladder.fun  | 2018-03-07 | Active | crazy domains      | Non China | 2 | NA | Not Renewd | 0 | auto-renewal | unrealized | 2020-03-07 | Crazy Domains      | Crazy Domains      | 18 |  9 | ⋯ | funcrazy domains      | tennisladder  | l | 12 | 12l | 1 | 2.197225 | 4.85 | tennisladder  | 1 | 1 | 1 | 1.0000000 | 0.400 | 0.334 | 0.42460 | 0.5788189 | 0.6221085 | 0.5000000 | 0.5000000 | 0.5000000 | 0.5000000 | 0.5000000 | 0.5000000 | 0.5000000 |\n",
       "| 4 | fun | Australia &amp; New Zealand | (10,15] | ventraip           | Australia |  95252714 | FirstTime | 1 | 2020-03-03 | letterific.fun    | 2019-03-03 | Active | synergy wholesale  | Non China | 1 | NA | Renewed    | 0 | renewal      | NA         | 2020-02-19 | SYNERGY WHOLESALE  | VentraIP           | 15 | 15 | ⋯ | funventraip           | letterific    | l | 10 | 10l | 1 | 2.708050 | 5.97 | letterific    | 1 | 1 | 1 |        NA |    NA |    NA |      NA |        NA |        NA | 0.3333333 |        NA |        NA |        NA |        NA |        NA |        NA |\n",
       "| 5 | fun | Canada                  | (5,10]  | shopify            | Canada    |  98381634 | FirstTime | 1 | 2020-03-29 | abtractstore.fun  | 2019-03-29 | Active | tucows             | Non China | 1 | NA | Not Renewd | 0 | auto-renewal | unrealized | 2020-03-29 | Tucows             | Shopify            |  8 |  8 | ⋯ | funshopify            | abtractstore  | l | 12 | 12l | 1 | 2.079442 | 5.45 | abtractstore  | 1 | 1 | 1 | 0.2172645 | 0.277 | 0.067 | 0.28220 | 0.2351863 | 0.2068615 | 0.5263158 | 0.5263158 | 0.5263158 | 0.5263158 | 0.5263158 | 0.5263158 | 0.5263158 |\n",
       "| 6 | fun | Canada                  | (5,10]  | hover              | Canada    | 104937931 | FirstTime | 1 | 2020-05-26 | futurefantasy.fun | 2019-05-26 | Active | tucows             | Non China | 1 | NA | Renewed    | 0 | renewal      | NA         | 2020-05-25 | Tucows             | Hover              |  8 |  8 | ⋯ | funhover              | futurefantasy | l | 13 | 13l | 1 | 2.079442 | 5.61 | futurefantasy | 1 | 1 | 1 | 0.6261119 | 0.624 | 0.267 | 0.59825 | 0.5677353 | 0.4933172 | 0.5263158 | 0.5263158 | 0.5263158 | 0.5263158 | 0.5263158 | 0.5263158 | 0.5263158 |\n",
       "\n"
      ],
      "text/plain": [
       "  tld reseller_geo            reg_arpt_slab reseller           reseller_country\n",
       "1 fun Australia & New Zealand (3,5]         instra corporation Australia       \n",
       "2 fun Australia & New Zealand (3,5]         instra corporation Australia       \n",
       "3 fun Australia & New Zealand (5,10]        crazy domains      Australia       \n",
       "4 fun Australia & New Zealand (10,15]       ventraip           Australia       \n",
       "5 fun Canada                  (5,10]        shopify            Canada          \n",
       "6 fun Canada                  (5,10]        hover              Canada          \n",
       "  domain_id renewal_type renewed_count expiry_date domain           \n",
       "1 104893671 FirstTime    1             2020-05-25  laur.fun         \n",
       "2  99540944 FirstTime    1             2020-04-10  oferty.fun       \n",
       "3  62376247 FirstTime    1             2020-03-07  tennisladder.fun \n",
       "4  95252714 FirstTime    1             2020-03-03  letterific.fun   \n",
       "5  98381634 FirstTime    1             2020-03-29  abtractstore.fun \n",
       "6 104937931 FirstTime    1             2020-05-26  futurefantasy.fun\n",
       "  creation_date status registrar          region    reg_period\n",
       "1 2019-05-25    Active instra corporation Non China 1         \n",
       "2 2019-04-10    Active instra corporation Non China 1         \n",
       "3 2018-03-07    Active crazy domains      Non China 2         \n",
       "4 2019-03-03    Active synergy wholesale  Non China 1         \n",
       "5 2019-03-29    Active tucows             Non China 1         \n",
       "6 2019-05-26    Active tucows             Non China 1         \n",
       "  registrant_country renewal_status renew_mbg renew_type   autorenew_type\n",
       "1 NA                 Not Renewd     0         auto-renewal NA            \n",
       "2 NA                 Not Renewd     0         auto-renewal unrealized    \n",
       "3 NA                 Not Renewd     0         auto-renewal unrealized    \n",
       "4 NA                 Renewed        0         renewal      NA            \n",
       "5 NA                 Not Renewd     0         auto-renewal unrealized    \n",
       "6 NA                 Renewed        0         renewal      NA            \n",
       "  renew_date renew_registrar    renew_reseller     reg_revenue reg_arpt ⋯\n",
       "1 2020-05-25 Instra Corporation Instra Corporation  4           4       ⋯\n",
       "2 2020-04-10 Instra Corporation Instra Corporation  4           4       ⋯\n",
       "3 2020-03-07 Crazy Domains      Crazy Domains      18           9       ⋯\n",
       "4 2020-02-19 SYNERGY WHOLESALE  VentraIP           15          15       ⋯\n",
       "5 2020-03-29 Tucows             Shopify             8           8       ⋯\n",
       "6 2020-05-25 Tucows             Hover               8           8       ⋯\n",
       "  tld_registrar_index   sld           sld_type sld_length sld_type2 day_domains\n",
       "1 funinstra corporation laur          l         4         4l        1          \n",
       "2 funinstra corporation oferty        l         6         6l        1          \n",
       "3 funcrazy domains      tennisladder  l        12         12l       1          \n",
       "4 funventraip           letterific    l        10         10l       1          \n",
       "5 funshopify            abtractstore  l        12         12l       1          \n",
       "6 funhover              futurefantasy l        13         13l       1          \n",
       "  log_reg_arpt gibb_score pattern       cluster pattern_score\n",
       "1 1.386294     5.48       laur          1       1            \n",
       "2 1.386294     6.03       oferty        1       1            \n",
       "3 2.197225     4.85       tennisladder  1       1            \n",
       "4 2.708050     5.97       letterific    1       1            \n",
       "5 2.079442     5.45       abtractstore  1       1            \n",
       "6 2.079442     5.61       futurefantasy 1       1            \n",
       "  pattern_domain_count pred_df_seg2_glm pred_df_seg_glm pred_df_agg_glm\n",
       "1 1                           NA        0.000           0.151          \n",
       "2 1                           NA        0.000           0.146          \n",
       "3 1                    1.0000000        0.400           0.334          \n",
       "4 1                           NA           NA              NA          \n",
       "5 1                    0.2172645        0.277           0.067          \n",
       "6 1                    0.6261119        0.624           0.267          \n",
       "  pred_df_seg2_rf pred_df_seg_rf pred_df_agg_rf renewal_rate\n",
       "1 0.00000         0.1851779      0.3718108      0.2500000   \n",
       "2 0.00000         0.2157494      0.3943426      0.2500000   \n",
       "3 0.42460         0.5788189      0.6221085      0.5000000   \n",
       "4      NA                NA             NA      0.3333333   \n",
       "5 0.28220         0.2351863      0.2068615      0.5263158   \n",
       "6 0.59825         0.5677353      0.4933172      0.5263158   \n",
       "  pred_df_seg2_glm_fb pred_df_seg_glm_fb pred_df_agg_glm_fb pred_df_seg2_rf_fb\n",
       "1        NA           0.2500000          0.2500000          0.2500000         \n",
       "2        NA           0.2500000          0.2500000          0.2500000         \n",
       "3 0.5000000           0.5000000          0.5000000          0.5000000         \n",
       "4        NA                  NA                 NA                 NA         \n",
       "5 0.5263158           0.5263158          0.5263158          0.5263158         \n",
       "6 0.5263158           0.5263158          0.5263158          0.5263158         \n",
       "  pred_df_seg_rf_fb pred_df_agg_rf_fb\n",
       "1 0.2500000         0.2500000        \n",
       "2 0.2500000         0.2500000        \n",
       "3 0.5000000         0.5000000        \n",
       "4        NA                NA        \n",
       "5 0.5263158         0.5263158        \n",
       "6 0.5263158         0.5263158        "
      ]
     },
     "metadata": {},
     "output_type": "display_data"
    }
   ],
   "source": [
    "head(test_predictions_fallback_df_2)"
   ]
  },
  {
   "cell_type": "code",
   "execution_count": 124,
   "metadata": {},
   "outputs": [],
   "source": [
    "l10_dplyr <- function (pred_df,\n",
    "                              pred_var = \"first_renewal_prediction\") {\n",
    "  N <- 10  # total number of rows to preallocate--possibly an overestimate\n",
    "  lift_df <- data.frame(P =rep(NA, N), \n",
    "                        actu_renwd2=rep(NA, N), \n",
    "                        gain=rep(NA, N), \n",
    "                        lift=rep(NA, N), \n",
    "                        stringsAsFactors=FALSE)          # you don't know levels yet\n",
    "  actu_renwd <- sum(pred_df[[\"renewal_status\"]]=='Renewed')\n",
    "  \n",
    "  i = 1\n",
    "  for(P in seq(.1,1,length=10)){\n",
    "    temp_df <- data.frame(pred_df)[c(\"renewal_status\",pred_var)]\n",
    "    ttmp_df <- temp_df[order(temp_df[pred_var],decreasing = TRUE),][1:round(dim(temp_df)[1]*P),]\n",
    "    actu_renwd2 <-  sum(ttmp_df[[\"renewal_status\"]] == 'Renewed')\n",
    "    gain = actu_renwd2/actu_renwd\n",
    "    lift = gain/(P)\n",
    "    \n",
    "    lift_df[i, ] <- list(P, actu_renwd2, gain, lift)\n",
    "    i = i+1\n",
    "  }\n",
    "  return(lift_df %>% filter(P==0.1) %>% pull(lift))\n",
    "}\n",
    "\n",
    "auc_dplyr <- function (pred_df,\n",
    "                              pred_var = \"first_renewal_prediction\") {\n",
    "  N <- 10  # total number of rows to preallocate--possibly an overestimate\n",
    "  lift_df <- data.frame(P =rep(NA, N), \n",
    "                        actu_renwd2=rep(NA, N), \n",
    "                        gain=rep(NA, N), \n",
    "                        lift=rep(NA, N), \n",
    "                        stringsAsFactors=FALSE)          # you don't know levels yet\n",
    "  actu_renwd <- sum(pred_df[[\"renewal_status\"]]=='Renewed')\n",
    "  \n",
    "  i = 1\n",
    "  for(P in seq(.1,1,length=10)){\n",
    "    temp_df <- data.frame(pred_df)[c(\"renewal_status\",pred_var)]\n",
    "    ttmp_df <- temp_df[order(temp_df[pred_var],decreasing = TRUE),][1:round(dim(temp_df)[1]*P),]\n",
    "    actu_renwd2 <-  sum(ttmp_df[[\"renewal_status\"]] == 'Renewed')\n",
    "    gain = actu_renwd2/actu_renwd\n",
    "    lift = gain/(P)\n",
    "    \n",
    "    lift_df[i, ] <- list(P, actu_renwd2, gain, lift)\n",
    "    i = i+1\n",
    "  }\n",
    "  return(calc_auc(lift_df))\n",
    "}"
   ]
  },
  {
   "cell_type": "code",
   "execution_count": 125,
   "metadata": {},
   "outputs": [],
   "source": [
    "test_metrics_fallback_df_2 <- test_predictions_fallback_df_2 %>%\n",
    "  group_by(tld_registrar_index) %>%\n",
    "  do( l10_seg2_glm = l10_dplyr(., pred_var = \"pred_df_seg2_glm\"),\n",
    "      l10_seg_glm = l10_dplyr(., pred_var = \"pred_df_seg2_glm\"),\n",
    "       l10_agg_glm = l10_dplyr(., pred_var = \"pred_df_seg2_glm\"),\n",
    "       l10_seg2_rf = l10_dplyr(., pred_var = \"pred_df_seg2_glm\"),\n",
    "       l10_seg_rf = l10_dplyr(., pred_var = \"pred_df_seg2_glm\"),\n",
    "       l10_agg_rf = l10_dplyr(., pred_var = \"pred_df_seg2_glm\"),\n",
    "       l10_fallback = l10_dplyr(., pred_var = \"renewal_rate\"),\n",
    "     \n",
    "      auc_seg2_glm = auc_dplyr(., pred_var = \"pred_df_seg2_glm\"),\n",
    "      auc_seg_glm = auc_dplyr(., pred_var = \"pred_df_seg2_glm\"),\n",
    "       auc_agg_glm = auc_dplyr(., pred_var = \"pred_df_seg2_glm\"),\n",
    "       auc_seg2_rf = auc_dplyr(., pred_var = \"pred_df_seg2_glm\"),\n",
    "       auc_seg_rf = auc_dplyr(., pred_var = \"pred_df_seg2_glm\"),\n",
    "       auc_agg_rf = auc_dplyr(., pred_var = \"pred_df_seg2_glm\"),\n",
    "       auc_fallback = auc_dplyr(., pred_var = \"renewal_rate\")\n",
    "      ) #%>%\n",
    "#   unnest()\n",
    "#   summarize (chart=chart_lift)"
   ]
  },
  {
   "cell_type": "code",
   "execution_count": 126,
   "metadata": {},
   "outputs": [
    {
     "data": {
      "text/html": [
       "<table>\n",
       "<caption>A rowwise_df: 6 × 15</caption>\n",
       "<thead>\n",
       "\t<tr><th scope=col>tld_registrar_index</th><th scope=col>l10_seg2_glm</th><th scope=col>l10_seg_glm</th><th scope=col>l10_agg_glm</th><th scope=col>l10_seg2_rf</th><th scope=col>l10_seg_rf</th><th scope=col>l10_agg_rf</th><th scope=col>l10_fallback</th><th scope=col>auc_seg2_glm</th><th scope=col>auc_seg_glm</th><th scope=col>auc_agg_glm</th><th scope=col>auc_seg2_rf</th><th scope=col>auc_seg_rf</th><th scope=col>auc_agg_rf</th><th scope=col>auc_fallback</th></tr>\n",
       "\t<tr><th scope=col>&lt;chr&gt;</th><th scope=col>&lt;list&gt;</th><th scope=col>&lt;list&gt;</th><th scope=col>&lt;list&gt;</th><th scope=col>&lt;list&gt;</th><th scope=col>&lt;list&gt;</th><th scope=col>&lt;list&gt;</th><th scope=col>&lt;list&gt;</th><th scope=col>&lt;list&gt;</th><th scope=col>&lt;list&gt;</th><th scope=col>&lt;list&gt;</th><th scope=col>&lt;list&gt;</th><th scope=col>&lt;list&gt;</th><th scope=col>&lt;list&gt;</th><th scope=col>&lt;list&gt;</th></tr>\n",
       "</thead>\n",
       "<tbody>\n",
       "\t<tr><td><span style=white-space:pre-wrap>fun1&amp;1 internet    </span></td><td>5</td><td>5</td><td>5</td><td>5</td><td>5</td><td>5</td><td>5</td><td>0.6</td><td>0.6</td><td>0.6</td><td>0.6</td><td>0.6</td><td>0.6</td><td>0.6</td></tr>\n",
       "\t<tr><td>fun10dencehispahard</td><td>NaN</td><td>NaN</td><td>NaN</td><td>NaN</td><td>NaN</td><td>NaN</td><td>NaN</td><td>NaN</td><td>NaN</td><td>NaN</td><td>NaN</td><td>NaN</td><td>NaN</td><td>NaN</td></tr>\n",
       "\t<tr><td>fun1api            </td><td>0</td><td>0</td><td>0</td><td>0</td><td>0</td><td>0</td><td>0</td><td>0.25</td><td>0.25</td><td>0.25</td><td>0.25</td><td>0.25</td><td>0.25</td><td>0.25</td></tr>\n",
       "\t<tr><td>funactive 24       </td><td>0</td><td>0</td><td>0</td><td>0</td><td>0</td><td>0</td><td>0</td><td>0.45</td><td>0.45</td><td>0.45</td><td>0.45</td><td>0.45</td><td>0.45</td><td>0.35</td></tr>\n",
       "\t<tr><td>funalibaba         </td><td>4.883721</td><td>4.883721</td><td>4.883721</td><td>4.883721</td><td>4.883721</td><td>4.883721</td><td>1.255814</td><td>0.8262791</td><td>0.8262791</td><td>0.8262791</td><td>0.8262791</td><td>0.8262791</td><td>0.8262791</td><td>0.5137209</td></tr>\n",
       "\t<tr><td>funalibaba sg      </td><td>0</td><td>0</td><td>0</td><td>0</td><td>0</td><td>0</td><td>0</td><td>0.05</td><td>0.05</td><td>0.05</td><td>0.05</td><td>0.05</td><td>0.05</td><td>0.05</td></tr>\n",
       "</tbody>\n",
       "</table>\n"
      ],
      "text/latex": [
       "A rowwise\\_df: 6 × 15\n",
       "\\begin{tabular}{lllllllllllllll}\n",
       " tld\\_registrar\\_index & l10\\_seg2\\_glm & l10\\_seg\\_glm & l10\\_agg\\_glm & l10\\_seg2\\_rf & l10\\_seg\\_rf & l10\\_agg\\_rf & l10\\_fallback & auc\\_seg2\\_glm & auc\\_seg\\_glm & auc\\_agg\\_glm & auc\\_seg2\\_rf & auc\\_seg\\_rf & auc\\_agg\\_rf & auc\\_fallback\\\\\n",
       " <chr> & <list> & <list> & <list> & <list> & <list> & <list> & <list> & <list> & <list> & <list> & <list> & <list> & <list> & <list>\\\\\n",
       "\\hline\n",
       "\t fun1\\&1 internet     & 5 & 5 & 5 & 5 & 5 & 5 & 5 & 0.6 & 0.6 & 0.6 & 0.6 & 0.6 & 0.6 & 0.6\\\\\n",
       "\t fun10dencehispahard & NaN & NaN & NaN & NaN & NaN & NaN & NaN & NaN & NaN & NaN & NaN & NaN & NaN & NaN\\\\\n",
       "\t fun1api             & 0 & 0 & 0 & 0 & 0 & 0 & 0 & 0.25 & 0.25 & 0.25 & 0.25 & 0.25 & 0.25 & 0.25\\\\\n",
       "\t funactive 24        & 0 & 0 & 0 & 0 & 0 & 0 & 0 & 0.45 & 0.45 & 0.45 & 0.45 & 0.45 & 0.45 & 0.35\\\\\n",
       "\t funalibaba          & 4.883721 & 4.883721 & 4.883721 & 4.883721 & 4.883721 & 4.883721 & 1.255814 & 0.8262791 & 0.8262791 & 0.8262791 & 0.8262791 & 0.8262791 & 0.8262791 & 0.5137209\\\\\n",
       "\t funalibaba sg       & 0 & 0 & 0 & 0 & 0 & 0 & 0 & 0.05 & 0.05 & 0.05 & 0.05 & 0.05 & 0.05 & 0.05\\\\\n",
       "\\end{tabular}\n"
      ],
      "text/markdown": [
       "\n",
       "A rowwise_df: 6 × 15\n",
       "\n",
       "| tld_registrar_index &lt;chr&gt; | l10_seg2_glm &lt;list&gt; | l10_seg_glm &lt;list&gt; | l10_agg_glm &lt;list&gt; | l10_seg2_rf &lt;list&gt; | l10_seg_rf &lt;list&gt; | l10_agg_rf &lt;list&gt; | l10_fallback &lt;list&gt; | auc_seg2_glm &lt;list&gt; | auc_seg_glm &lt;list&gt; | auc_agg_glm &lt;list&gt; | auc_seg2_rf &lt;list&gt; | auc_seg_rf &lt;list&gt; | auc_agg_rf &lt;list&gt; | auc_fallback &lt;list&gt; |\n",
       "|---|---|---|---|---|---|---|---|---|---|---|---|---|---|---|\n",
       "| fun1&amp;1 internet     | 5 | 5 | 5 | 5 | 5 | 5 | 5 | 0.6 | 0.6 | 0.6 | 0.6 | 0.6 | 0.6 | 0.6 |\n",
       "| fun10dencehispahard | NaN | NaN | NaN | NaN | NaN | NaN | NaN | NaN | NaN | NaN | NaN | NaN | NaN | NaN |\n",
       "| fun1api             | 0 | 0 | 0 | 0 | 0 | 0 | 0 | 0.25 | 0.25 | 0.25 | 0.25 | 0.25 | 0.25 | 0.25 |\n",
       "| funactive 24        | 0 | 0 | 0 | 0 | 0 | 0 | 0 | 0.45 | 0.45 | 0.45 | 0.45 | 0.45 | 0.45 | 0.35 |\n",
       "| funalibaba          | 4.883721 | 4.883721 | 4.883721 | 4.883721 | 4.883721 | 4.883721 | 1.255814 | 0.8262791 | 0.8262791 | 0.8262791 | 0.8262791 | 0.8262791 | 0.8262791 | 0.5137209 |\n",
       "| funalibaba sg       | 0 | 0 | 0 | 0 | 0 | 0 | 0 | 0.05 | 0.05 | 0.05 | 0.05 | 0.05 | 0.05 | 0.05 |\n",
       "\n"
      ],
      "text/plain": [
       "  tld_registrar_index l10_seg2_glm l10_seg_glm l10_agg_glm l10_seg2_rf\n",
       "1 fun1&1 internet     5            5           5           5          \n",
       "2 fun10dencehispahard NaN          NaN         NaN         NaN        \n",
       "3 fun1api             0            0           0           0          \n",
       "4 funactive 24        0            0           0           0          \n",
       "5 funalibaba          4.883721     4.883721    4.883721    4.883721   \n",
       "6 funalibaba sg       0            0           0           0          \n",
       "  l10_seg_rf l10_agg_rf l10_fallback auc_seg2_glm auc_seg_glm auc_agg_glm\n",
       "1 5          5          5            0.6          0.6         0.6        \n",
       "2 NaN        NaN        NaN          NaN          NaN         NaN        \n",
       "3 0          0          0            0.25         0.25        0.25       \n",
       "4 0          0          0            0.45         0.45        0.45       \n",
       "5 4.883721   4.883721   1.255814     0.8262791    0.8262791   0.8262791  \n",
       "6 0          0          0            0.05         0.05        0.05       \n",
       "  auc_seg2_rf auc_seg_rf auc_agg_rf auc_fallback\n",
       "1 0.6         0.6        0.6        0.6         \n",
       "2 NaN         NaN        NaN        NaN         \n",
       "3 0.25        0.25       0.25       0.25        \n",
       "4 0.45        0.45       0.45       0.35        \n",
       "5 0.8262791   0.8262791  0.8262791  0.5137209   \n",
       "6 0.05        0.05       0.05       0.05        "
      ]
     },
     "metadata": {},
     "output_type": "display_data"
    }
   ],
   "source": [
    "head(test_metrics_fallback_df_2)"
   ]
  },
  {
   "cell_type": "markdown",
   "metadata": {},
   "source": [
    "# Metalearning Prep"
   ]
  },
  {
   "cell_type": "markdown",
   "metadata": {},
   "source": [
    "## add geo to training data for fetaure eng"
   ]
  },
  {
   "cell_type": "code",
   "execution_count": 130,
   "metadata": {},
   "outputs": [],
   "source": [
    "# system(\"gsutil cp gs://data_input/PredictiveModelAnalysis_AnomalyRegistrars.csv /home/jupyter/local/Domains_202003/data/PredictiveModelAnalysis_AnomalyRegistrars.csv\")\n",
    "anomalyDF <- read.csv(\"/home/jupyter/local/Domains_202003/data/PredictiveModelAnalysis_AnomalyRegistrars.csv\")\n",
    "anomalyDF <- apply(anomalyDF, 2, function(x) trimws(x,which = c(\"both\")) )\n",
    "geoLookupDF <- unique(anomalyDF[,c('reseller','reseller_country','reseller_geo')])\n",
    "geoLookupDF <- as.data.frame(geoLookupDF)\n",
    "expiry_train_df_1 <- merge(expiry_train_df_1,geoLookupDF,on=c('reseller','reseller_country'), all.x = TRUE)"
   ]
  },
  {
   "cell_type": "code",
   "execution_count": 151,
   "metadata": {},
   "outputs": [
    {
     "data": {
      "text/html": [
       "<table>\n",
       "<caption>A data.table: 6 × 40</caption>\n",
       "<thead>\n",
       "\t<tr><th scope=col>reseller</th><th scope=col>reseller_country</th><th scope=col>renewal_type</th><th scope=col>renewed_count</th><th scope=col>expiry_date</th><th scope=col>domain_id</th><th scope=col>domain</th><th scope=col>creation_date</th><th scope=col>status</th><th scope=col>tld</th><th scope=col>registrar</th><th scope=col>region</th><th scope=col>reg_period</th><th scope=col>registrant_country</th><th scope=col>renewal_status</th><th scope=col>renew_mbg</th><th scope=col>renew_type</th><th scope=col>autorenew_type</th><th scope=col>renew_date</th><th scope=col>renew_registrar</th><th scope=col>renew_reseller</th><th scope=col>reg_revenue</th><th scope=col>reg_arpt</th><th scope=col>renew_period</th><th scope=col>renew_domain_revenue</th><th scope=col>renew_arpt</th><th scope=col>reg_arpt_org</th><th scope=col>tld_registrar_index</th><th scope=col>sld</th><th scope=col>sld_type</th><th scope=col>sld_length</th><th scope=col>sld_type2</th><th scope=col>day_domains</th><th scope=col>log_reg_arpt</th><th scope=col>gibb_score</th><th scope=col>pattern</th><th scope=col>cluster</th><th scope=col>pattern_score</th><th scope=col>pattern_domain_count</th><th scope=col>reseller_geo</th></tr>\n",
       "\t<tr><th scope=col>&lt;chr&gt;</th><th scope=col>&lt;chr&gt;</th><th scope=col>&lt;chr&gt;</th><th scope=col>&lt;int&gt;</th><th scope=col>&lt;date&gt;</th><th scope=col>&lt;int&gt;</th><th scope=col>&lt;chr&gt;</th><th scope=col>&lt;date&gt;</th><th scope=col>&lt;chr&gt;</th><th scope=col>&lt;fct&gt;</th><th scope=col>&lt;chr&gt;</th><th scope=col>&lt;chr&gt;</th><th scope=col>&lt;int&gt;</th><th scope=col>&lt;chr&gt;</th><th scope=col>&lt;fct&gt;</th><th scope=col>&lt;int&gt;</th><th scope=col>&lt;chr&gt;</th><th scope=col>&lt;chr&gt;</th><th scope=col>&lt;date&gt;</th><th scope=col>&lt;chr&gt;</th><th scope=col>&lt;chr&gt;</th><th scope=col>&lt;dbl&gt;</th><th scope=col>&lt;dbl&gt;</th><th scope=col>&lt;int&gt;</th><th scope=col>&lt;dbl&gt;</th><th scope=col>&lt;dbl&gt;</th><th scope=col>&lt;dbl&gt;</th><th scope=col>&lt;chr&gt;</th><th scope=col>&lt;chr&gt;</th><th scope=col>&lt;fct&gt;</th><th scope=col>&lt;int&gt;</th><th scope=col>&lt;chr&gt;</th><th scope=col>&lt;int&gt;</th><th scope=col>&lt;dbl&gt;</th><th scope=col>&lt;dbl&gt;</th><th scope=col>&lt;chr&gt;</th><th scope=col>&lt;chr&gt;</th><th scope=col>&lt;dbl&gt;</th><th scope=col>&lt;int&gt;</th><th scope=col>&lt;fct&gt;</th></tr>\n",
       "</thead>\n",
       "<tbody>\n",
       "\t<tr><td>1&amp;1 internet</td><td>Germany</td><td>FirstTime</td><td>1</td><td>2020-01-21</td><td>91584433</td><td><span style=white-space:pre-wrap>racefor.fun     </span></td><td>2019-01-21</td><td>Active</td><td>fun</td><td>1&amp;1 internet</td><td>Non China</td><td>1</td><td>NA</td><td><span style=white-space:pre-wrap>Renewed   </span></td><td>0</td><td>auto-renewal</td><td><span style=white-space:pre-wrap>realized  </span></td><td>2020-01-21</td><td>1&amp;1 Internet</td><td>1&amp;1 Internet</td><td>15</td><td>15</td><td>1</td><td>15</td><td>15</td><td>15</td><td>fun1&amp;1 internet</td><td><span style=white-space:pre-wrap>racefor     </span></td><td>l </td><td> 7</td><td>7l </td><td>1</td><td>2.70805</td><td> 6.77</td><td><span style=white-space:pre-wrap>racefor     </span></td><td>1</td><td>1</td><td>1</td><td>EU</td></tr>\n",
       "\t<tr><td>1&amp;1 internet</td><td>Germany</td><td>FirstTime</td><td>1</td><td>2020-01-30</td><td>92254793</td><td><span style=white-space:pre-wrap>united4.fun     </span></td><td>2019-01-30</td><td>Active</td><td>fun</td><td>1&amp;1 internet</td><td>Non China</td><td>1</td><td>NA</td><td><span style=white-space:pre-wrap>Renewed   </span></td><td>0</td><td>auto-renewal</td><td><span style=white-space:pre-wrap>realized  </span></td><td>2020-01-30</td><td>1&amp;1 Internet</td><td>1&amp;1 Internet</td><td>15</td><td>15</td><td>1</td><td>15</td><td>15</td><td>15</td><td>fun1&amp;1 internet</td><td><span style=white-space:pre-wrap>united4     </span></td><td>ln</td><td> 7</td><td>7ln</td><td>1</td><td>2.70805</td><td> 8.65</td><td><span style=white-space:pre-wrap>united4     </span></td><td>1</td><td>1</td><td>1</td><td>EU</td></tr>\n",
       "\t<tr><td>1&amp;1 internet</td><td>Germany</td><td>FirstTime</td><td>1</td><td>2020-02-04</td><td>92827233</td><td><span style=white-space:pre-wrap>bereal.fun      </span></td><td>2019-02-04</td><td>Active</td><td>fun</td><td>1&amp;1 internet</td><td>Non China</td><td>1</td><td>NA</td><td><span style=white-space:pre-wrap>Renewed   </span></td><td>0</td><td>auto-renewal</td><td><span style=white-space:pre-wrap>realized  </span></td><td>2020-02-04</td><td>1&amp;1 Internet</td><td>1&amp;1 Internet</td><td>15</td><td>15</td><td>1</td><td>15</td><td>15</td><td>15</td><td>fun1&amp;1 internet</td><td><span style=white-space:pre-wrap>bereal      </span></td><td>l </td><td> 6</td><td>6l </td><td>1</td><td>2.70805</td><td>13.09</td><td><span style=white-space:pre-wrap>bereal      </span></td><td>1</td><td>1</td><td>1</td><td>EU</td></tr>\n",
       "\t<tr><td>1&amp;1 internet</td><td>Germany</td><td>FirstTime</td><td>1</td><td>2020-02-12</td><td>93490823</td><td>dogsoutdoors.fun</td><td>2019-02-12</td><td>Active</td><td>fun</td><td>1&amp;1 internet</td><td>Non China</td><td>1</td><td>NA</td><td>Not Renewd</td><td>0</td><td>auto-renewal</td><td>unrealized</td><td>2020-02-12</td><td>1&amp;1 Internet</td><td>1&amp;1 Internet</td><td>15</td><td>15</td><td>1</td><td>15</td><td>15</td><td>15</td><td>fun1&amp;1 internet</td><td>dogsoutdoors</td><td>l </td><td>12</td><td>12l</td><td>1</td><td>2.70805</td><td> 2.44</td><td>dogsoutdoors</td><td>1</td><td>1</td><td>1</td><td>EU</td></tr>\n",
       "\t<tr><td>1&amp;1 internet</td><td>Germany</td><td>FirstTime</td><td>1</td><td>2020-02-15</td><td>93767978</td><td><span style=white-space:pre-wrap>rosalux.fun     </span></td><td>2019-02-15</td><td>Active</td><td>fun</td><td>1&amp;1 internet</td><td>Non China</td><td>1</td><td>NA</td><td><span style=white-space:pre-wrap>Renewed   </span></td><td>0</td><td>auto-renewal</td><td><span style=white-space:pre-wrap>realized  </span></td><td>2020-02-15</td><td>1&amp;1 Internet</td><td>1&amp;1 Internet</td><td>15</td><td>15</td><td>1</td><td>15</td><td>15</td><td>15</td><td>fun1&amp;1 internet</td><td><span style=white-space:pre-wrap>rosalux     </span></td><td>l </td><td> 7</td><td>7l </td><td>1</td><td>2.70805</td><td> 2.34</td><td><span style=white-space:pre-wrap>rosalux     </span></td><td>1</td><td>1</td><td>1</td><td>EU</td></tr>\n",
       "\t<tr><td>1&amp;1 internet</td><td>Germany</td><td>FirstTime</td><td>1</td><td>2020-02-16</td><td>93823708</td><td><span style=white-space:pre-wrap>verygood.fun    </span></td><td>2019-02-16</td><td>Active</td><td>fun</td><td>1&amp;1 internet</td><td>Non China</td><td>1</td><td>NA</td><td><span style=white-space:pre-wrap>Renewed   </span></td><td>0</td><td>auto-renewal</td><td><span style=white-space:pre-wrap>realized  </span></td><td>2020-02-16</td><td>1&amp;1 Internet</td><td>1&amp;1 Internet</td><td>15</td><td>15</td><td>1</td><td>15</td><td>15</td><td>15</td><td>fun1&amp;1 internet</td><td><span style=white-space:pre-wrap>verygood    </span></td><td>l </td><td> 8</td><td>8l </td><td>1</td><td>2.70805</td><td> 3.64</td><td><span style=white-space:pre-wrap>verygood    </span></td><td>1</td><td>1</td><td>1</td><td>EU</td></tr>\n",
       "</tbody>\n",
       "</table>\n"
      ],
      "text/latex": [
       "A data.table: 6 × 40\n",
       "\\begin{tabular}{llllllllllllllllllllllllllllllllllllllll}\n",
       " reseller & reseller\\_country & renewal\\_type & renewed\\_count & expiry\\_date & domain\\_id & domain & creation\\_date & status & tld & registrar & region & reg\\_period & registrant\\_country & renewal\\_status & renew\\_mbg & renew\\_type & autorenew\\_type & renew\\_date & renew\\_registrar & renew\\_reseller & reg\\_revenue & reg\\_arpt & renew\\_period & renew\\_domain\\_revenue & renew\\_arpt & reg\\_arpt\\_org & tld\\_registrar\\_index & sld & sld\\_type & sld\\_length & sld\\_type2 & day\\_domains & log\\_reg\\_arpt & gibb\\_score & pattern & cluster & pattern\\_score & pattern\\_domain\\_count & reseller\\_geo\\\\\n",
       " <chr> & <chr> & <chr> & <int> & <date> & <int> & <chr> & <date> & <chr> & <fct> & <chr> & <chr> & <int> & <chr> & <fct> & <int> & <chr> & <chr> & <date> & <chr> & <chr> & <dbl> & <dbl> & <int> & <dbl> & <dbl> & <dbl> & <chr> & <chr> & <fct> & <int> & <chr> & <int> & <dbl> & <dbl> & <chr> & <chr> & <dbl> & <int> & <fct>\\\\\n",
       "\\hline\n",
       "\t 1\\&1 internet & Germany & FirstTime & 1 & 2020-01-21 & 91584433 & racefor.fun      & 2019-01-21 & Active & fun & 1\\&1 internet & Non China & 1 & NA & Renewed    & 0 & auto-renewal & realized   & 2020-01-21 & 1\\&1 Internet & 1\\&1 Internet & 15 & 15 & 1 & 15 & 15 & 15 & fun1\\&1 internet & racefor      & l  &  7 & 7l  & 1 & 2.70805 &  6.77 & racefor      & 1 & 1 & 1 & EU\\\\\n",
       "\t 1\\&1 internet & Germany & FirstTime & 1 & 2020-01-30 & 92254793 & united4.fun      & 2019-01-30 & Active & fun & 1\\&1 internet & Non China & 1 & NA & Renewed    & 0 & auto-renewal & realized   & 2020-01-30 & 1\\&1 Internet & 1\\&1 Internet & 15 & 15 & 1 & 15 & 15 & 15 & fun1\\&1 internet & united4      & ln &  7 & 7ln & 1 & 2.70805 &  8.65 & united4      & 1 & 1 & 1 & EU\\\\\n",
       "\t 1\\&1 internet & Germany & FirstTime & 1 & 2020-02-04 & 92827233 & bereal.fun       & 2019-02-04 & Active & fun & 1\\&1 internet & Non China & 1 & NA & Renewed    & 0 & auto-renewal & realized   & 2020-02-04 & 1\\&1 Internet & 1\\&1 Internet & 15 & 15 & 1 & 15 & 15 & 15 & fun1\\&1 internet & bereal       & l  &  6 & 6l  & 1 & 2.70805 & 13.09 & bereal       & 1 & 1 & 1 & EU\\\\\n",
       "\t 1\\&1 internet & Germany & FirstTime & 1 & 2020-02-12 & 93490823 & dogsoutdoors.fun & 2019-02-12 & Active & fun & 1\\&1 internet & Non China & 1 & NA & Not Renewd & 0 & auto-renewal & unrealized & 2020-02-12 & 1\\&1 Internet & 1\\&1 Internet & 15 & 15 & 1 & 15 & 15 & 15 & fun1\\&1 internet & dogsoutdoors & l  & 12 & 12l & 1 & 2.70805 &  2.44 & dogsoutdoors & 1 & 1 & 1 & EU\\\\\n",
       "\t 1\\&1 internet & Germany & FirstTime & 1 & 2020-02-15 & 93767978 & rosalux.fun      & 2019-02-15 & Active & fun & 1\\&1 internet & Non China & 1 & NA & Renewed    & 0 & auto-renewal & realized   & 2020-02-15 & 1\\&1 Internet & 1\\&1 Internet & 15 & 15 & 1 & 15 & 15 & 15 & fun1\\&1 internet & rosalux      & l  &  7 & 7l  & 1 & 2.70805 &  2.34 & rosalux      & 1 & 1 & 1 & EU\\\\\n",
       "\t 1\\&1 internet & Germany & FirstTime & 1 & 2020-02-16 & 93823708 & verygood.fun     & 2019-02-16 & Active & fun & 1\\&1 internet & Non China & 1 & NA & Renewed    & 0 & auto-renewal & realized   & 2020-02-16 & 1\\&1 Internet & 1\\&1 Internet & 15 & 15 & 1 & 15 & 15 & 15 & fun1\\&1 internet & verygood     & l  &  8 & 8l  & 1 & 2.70805 &  3.64 & verygood     & 1 & 1 & 1 & EU\\\\\n",
       "\\end{tabular}\n"
      ],
      "text/markdown": [
       "\n",
       "A data.table: 6 × 40\n",
       "\n",
       "| reseller &lt;chr&gt; | reseller_country &lt;chr&gt; | renewal_type &lt;chr&gt; | renewed_count &lt;int&gt; | expiry_date &lt;date&gt; | domain_id &lt;int&gt; | domain &lt;chr&gt; | creation_date &lt;date&gt; | status &lt;chr&gt; | tld &lt;fct&gt; | registrar &lt;chr&gt; | region &lt;chr&gt; | reg_period &lt;int&gt; | registrant_country &lt;chr&gt; | renewal_status &lt;fct&gt; | renew_mbg &lt;int&gt; | renew_type &lt;chr&gt; | autorenew_type &lt;chr&gt; | renew_date &lt;date&gt; | renew_registrar &lt;chr&gt; | renew_reseller &lt;chr&gt; | reg_revenue &lt;dbl&gt; | reg_arpt &lt;dbl&gt; | renew_period &lt;int&gt; | renew_domain_revenue &lt;dbl&gt; | renew_arpt &lt;dbl&gt; | reg_arpt_org &lt;dbl&gt; | tld_registrar_index &lt;chr&gt; | sld &lt;chr&gt; | sld_type &lt;fct&gt; | sld_length &lt;int&gt; | sld_type2 &lt;chr&gt; | day_domains &lt;int&gt; | log_reg_arpt &lt;dbl&gt; | gibb_score &lt;dbl&gt; | pattern &lt;chr&gt; | cluster &lt;chr&gt; | pattern_score &lt;dbl&gt; | pattern_domain_count &lt;int&gt; | reseller_geo &lt;fct&gt; |\n",
       "|---|---|---|---|---|---|---|---|---|---|---|---|---|---|---|---|---|---|---|---|---|---|---|---|---|---|---|---|---|---|---|---|---|---|---|---|---|---|---|---|\n",
       "| 1&amp;1 internet | Germany | FirstTime | 1 | 2020-01-21 | 91584433 | racefor.fun      | 2019-01-21 | Active | fun | 1&amp;1 internet | Non China | 1 | NA | Renewed    | 0 | auto-renewal | realized   | 2020-01-21 | 1&amp;1 Internet | 1&amp;1 Internet | 15 | 15 | 1 | 15 | 15 | 15 | fun1&amp;1 internet | racefor      | l  |  7 | 7l  | 1 | 2.70805 |  6.77 | racefor      | 1 | 1 | 1 | EU |\n",
       "| 1&amp;1 internet | Germany | FirstTime | 1 | 2020-01-30 | 92254793 | united4.fun      | 2019-01-30 | Active | fun | 1&amp;1 internet | Non China | 1 | NA | Renewed    | 0 | auto-renewal | realized   | 2020-01-30 | 1&amp;1 Internet | 1&amp;1 Internet | 15 | 15 | 1 | 15 | 15 | 15 | fun1&amp;1 internet | united4      | ln |  7 | 7ln | 1 | 2.70805 |  8.65 | united4      | 1 | 1 | 1 | EU |\n",
       "| 1&amp;1 internet | Germany | FirstTime | 1 | 2020-02-04 | 92827233 | bereal.fun       | 2019-02-04 | Active | fun | 1&amp;1 internet | Non China | 1 | NA | Renewed    | 0 | auto-renewal | realized   | 2020-02-04 | 1&amp;1 Internet | 1&amp;1 Internet | 15 | 15 | 1 | 15 | 15 | 15 | fun1&amp;1 internet | bereal       | l  |  6 | 6l  | 1 | 2.70805 | 13.09 | bereal       | 1 | 1 | 1 | EU |\n",
       "| 1&amp;1 internet | Germany | FirstTime | 1 | 2020-02-12 | 93490823 | dogsoutdoors.fun | 2019-02-12 | Active | fun | 1&amp;1 internet | Non China | 1 | NA | Not Renewd | 0 | auto-renewal | unrealized | 2020-02-12 | 1&amp;1 Internet | 1&amp;1 Internet | 15 | 15 | 1 | 15 | 15 | 15 | fun1&amp;1 internet | dogsoutdoors | l  | 12 | 12l | 1 | 2.70805 |  2.44 | dogsoutdoors | 1 | 1 | 1 | EU |\n",
       "| 1&amp;1 internet | Germany | FirstTime | 1 | 2020-02-15 | 93767978 | rosalux.fun      | 2019-02-15 | Active | fun | 1&amp;1 internet | Non China | 1 | NA | Renewed    | 0 | auto-renewal | realized   | 2020-02-15 | 1&amp;1 Internet | 1&amp;1 Internet | 15 | 15 | 1 | 15 | 15 | 15 | fun1&amp;1 internet | rosalux      | l  |  7 | 7l  | 1 | 2.70805 |  2.34 | rosalux      | 1 | 1 | 1 | EU |\n",
       "| 1&amp;1 internet | Germany | FirstTime | 1 | 2020-02-16 | 93823708 | verygood.fun     | 2019-02-16 | Active | fun | 1&amp;1 internet | Non China | 1 | NA | Renewed    | 0 | auto-renewal | realized   | 2020-02-16 | 1&amp;1 Internet | 1&amp;1 Internet | 15 | 15 | 1 | 15 | 15 | 15 | fun1&amp;1 internet | verygood     | l  |  8 | 8l  | 1 | 2.70805 |  3.64 | verygood     | 1 | 1 | 1 | EU |\n",
       "\n"
      ],
      "text/plain": [
       "  reseller     reseller_country renewal_type renewed_count expiry_date\n",
       "1 1&1 internet Germany          FirstTime    1             2020-01-21 \n",
       "2 1&1 internet Germany          FirstTime    1             2020-01-30 \n",
       "3 1&1 internet Germany          FirstTime    1             2020-02-04 \n",
       "4 1&1 internet Germany          FirstTime    1             2020-02-12 \n",
       "5 1&1 internet Germany          FirstTime    1             2020-02-15 \n",
       "6 1&1 internet Germany          FirstTime    1             2020-02-16 \n",
       "  domain_id domain           creation_date status tld registrar    region   \n",
       "1 91584433  racefor.fun      2019-01-21    Active fun 1&1 internet Non China\n",
       "2 92254793  united4.fun      2019-01-30    Active fun 1&1 internet Non China\n",
       "3 92827233  bereal.fun       2019-02-04    Active fun 1&1 internet Non China\n",
       "4 93490823  dogsoutdoors.fun 2019-02-12    Active fun 1&1 internet Non China\n",
       "5 93767978  rosalux.fun      2019-02-15    Active fun 1&1 internet Non China\n",
       "6 93823708  verygood.fun     2019-02-16    Active fun 1&1 internet Non China\n",
       "  reg_period registrant_country renewal_status renew_mbg renew_type  \n",
       "1 1          NA                 Renewed        0         auto-renewal\n",
       "2 1          NA                 Renewed        0         auto-renewal\n",
       "3 1          NA                 Renewed        0         auto-renewal\n",
       "4 1          NA                 Not Renewd     0         auto-renewal\n",
       "5 1          NA                 Renewed        0         auto-renewal\n",
       "6 1          NA                 Renewed        0         auto-renewal\n",
       "  autorenew_type renew_date renew_registrar renew_reseller reg_revenue reg_arpt\n",
       "1 realized       2020-01-21 1&1 Internet    1&1 Internet   15          15      \n",
       "2 realized       2020-01-30 1&1 Internet    1&1 Internet   15          15      \n",
       "3 realized       2020-02-04 1&1 Internet    1&1 Internet   15          15      \n",
       "4 unrealized     2020-02-12 1&1 Internet    1&1 Internet   15          15      \n",
       "5 realized       2020-02-15 1&1 Internet    1&1 Internet   15          15      \n",
       "6 realized       2020-02-16 1&1 Internet    1&1 Internet   15          15      \n",
       "  renew_period renew_domain_revenue renew_arpt reg_arpt_org tld_registrar_index\n",
       "1 1            15                   15         15           fun1&1 internet    \n",
       "2 1            15                   15         15           fun1&1 internet    \n",
       "3 1            15                   15         15           fun1&1 internet    \n",
       "4 1            15                   15         15           fun1&1 internet    \n",
       "5 1            15                   15         15           fun1&1 internet    \n",
       "6 1            15                   15         15           fun1&1 internet    \n",
       "  sld          sld_type sld_length sld_type2 day_domains log_reg_arpt\n",
       "1 racefor      l         7         7l        1           2.70805     \n",
       "2 united4      ln        7         7ln       1           2.70805     \n",
       "3 bereal       l         6         6l        1           2.70805     \n",
       "4 dogsoutdoors l        12         12l       1           2.70805     \n",
       "5 rosalux      l         7         7l        1           2.70805     \n",
       "6 verygood     l         8         8l        1           2.70805     \n",
       "  gibb_score pattern      cluster pattern_score pattern_domain_count\n",
       "1  6.77      racefor      1       1             1                   \n",
       "2  8.65      united4      1       1             1                   \n",
       "3 13.09      bereal       1       1             1                   \n",
       "4  2.44      dogsoutdoors 1       1             1                   \n",
       "5  2.34      rosalux      1       1             1                   \n",
       "6  3.64      verygood     1       1             1                   \n",
       "  reseller_geo\n",
       "1 EU          \n",
       "2 EU          \n",
       "3 EU          \n",
       "4 EU          \n",
       "5 EU          \n",
       "6 EU          "
      ]
     },
     "metadata": {},
     "output_type": "display_data"
    }
   ],
   "source": [
    "head(expiry_train_df_1)"
   ]
  },
  {
   "cell_type": "markdown",
   "metadata": {},
   "source": [
    "## Feature Engineering for tld-reseller level "
   ]
  },
  {
   "cell_type": "code",
   "execution_count": null,
   "metadata": {},
   "outputs": [],
   "source": [
    "# new geo level feature eng\n",
    "geo_maj = expiry_train_df_1 %>%\n",
    "  add_count(tld_registrar_index, reseller_geo) %>%\n",
    "  group_by(tld_registrar_index) %>%\n",
    "  summarise(geo_maj = reseller_geo[n == max(n)][1],\n",
    "           geo_cnt = n_distinct(reseller_geo),\n",
    "           n = n(),\n",
    "           ren_prp = sum(renewal_status=='Renewed')/sum(n),\n",
    "           tld_cnt = n_distinct(tld), tld_rat = tld_cnt/n),\n",
    "              daydom_min = min(day_domains), \n",
    "              daydom_max = max(day_domains), \n",
    "              daydom_mean = mean(day_domains, na.rm = TRUE), \n",
    "              daydom_rng = daydom_max - daydom_min, \n",
    "              daydom_std = sd(day_domains, na.rm = TRUE), \n",
    "              daydom_skew = skewness(day_domains, na.rm = TRUE), \n",
    "              daydom_kurt = kurtosis(day_domains, na.rm = TRUE),\n",
    "\n",
    "              min = min(sld_length), \n",
    "              max = max(sld_length), \n",
    "              mean = mean(sld_length, na.rm = TRUE), \n",
    "              rng = max - min, \n",
    "              std = sd(sld_length, na.rm = TRUE), \n",
    "              skew = skewness(sld_length, na.rm = TRUE), \n",
    "              kurt = kurtosis(sld_length, na.rm = TRUE)\n",
    "dim(geo_maj)\n",
    "head(geo_maj)"
   ]
  },
  {
   "cell_type": "code",
   "execution_count": 150,
   "metadata": {},
   "outputs": [
    {
     "ename": "ERROR",
     "evalue": "Error in merge.data.table(expiry_train_df_1, geo_maj, on = \"tld_registrar_index\", : Elements listed in `by` must be valid column names in x and y\n",
     "output_type": "error",
     "traceback": [
      "Error in merge.data.table(expiry_train_df_1, geo_maj, on = \"tld_registrar_index\", : Elements listed in `by` must be valid column names in x and y\nTraceback:\n",
      "1. merge(expiry_train_df_1, geo_maj, on = \"tld_registrar_index\", \n .     all.x = TRUE)",
      "2. merge.data.table(expiry_train_df_1, geo_maj, on = \"tld_registrar_index\", \n .     all.x = TRUE)",
      "3. stop(\"Elements listed in `by` must be valid column names in x and y\")"
     ]
    }
   ],
   "source": [
    "test <- merge(expiry_train_df_1, geo_maj, on='tld_registrar_index', all.x=TRUE)\n",
    "dim(test)\n",
    "head(test)"
   ]
  },
  {
   "cell_type": "code",
   "execution_count": 138,
   "metadata": {},
   "outputs": [
    {
     "name": "stderr",
     "output_type": "stream",
     "text": [
      "`summarise()` regrouping output by 'tld_registrar_index' (override with `.groups` argument)\n",
      "\n"
     ]
    }
   ],
   "source": [
    "country_maj = expiry_train_df_1 %>%\n",
    "  add_count(tld_registrar_index, reseller_country) %>%\n",
    "  group_by(tld_registrar_index) %>%\n",
    "  mutate(reseller_country_maj = reseller_country[n == max(n)][1]) %>%\n",
    "  select(-n) %>% \n",
    "  group_by(tld_registrar_index,reseller_country_maj) %>%\n",
    "    summarise(n = n()) %>% \n",
    "    arrange(desc(n)) %>%\n",
    "    pull(reseller_country_maj)"
   ]
  },
  {
   "cell_type": "code",
   "execution_count": 139,
   "metadata": {},
   "outputs": [
    {
     "name": "stderr",
     "output_type": "stream",
     "text": [
      "`summarise()` ungrouping output (override with `.groups` argument)\n",
      "\n"
     ]
    }
   ],
   "source": [
    "country_cnt = expiry_train_df_1 %>%\n",
    "  add_count(tld_registrar_index, reseller_country) %>%\n",
    "  group_by(tld_registrar_index) %>%\n",
    "  summarise(reseller_country_cnt = n_distinct(reseller_country)) %>%\n",
    "  pull(reseller_country_cnt)  "
   ]
  },
  {
   "cell_type": "code",
   "execution_count": 140,
   "metadata": {},
   "outputs": [
    {
     "name": "stderr",
     "output_type": "stream",
     "text": [
      "`summarise()` regrouping output by 'tld_registrar_index' (override with `.groups` argument)\n",
      "\n"
     ]
    }
   ],
   "source": [
    "region_maj = expiry_train_df_1 %>%\n",
    "  add_count(tld_registrar_index, region) %>%\n",
    "  group_by(tld_registrar_index) %>%\n",
    "  mutate(region_maj = region[n == max(n)][1]) %>%\n",
    "  select(-n) %>% \n",
    "  group_by(tld_registrar_index,region_maj) %>%\n",
    "    summarise(n = n()) %>% \n",
    "    arrange(desc(n)) %>%\n",
    "    pull(region_maj)"
   ]
  },
  {
   "cell_type": "code",
   "execution_count": 141,
   "metadata": {},
   "outputs": [
    {
     "name": "stderr",
     "output_type": "stream",
     "text": [
      "`summarise()` ungrouping output (override with `.groups` argument)\n",
      "\n"
     ]
    }
   ],
   "source": [
    "region_cnt = expiry_train_df_1 %>%\n",
    "  add_count(tld_registrar_index, region) %>%\n",
    "  group_by(tld_registrar_index) %>%\n",
    "  summarise(reseller_region_cnt = n_distinct(reseller_country)) %>%\n",
    "  pull(reseller_region_cnt)  "
   ]
  },
  {
   "cell_type": "code",
   "execution_count": 142,
   "metadata": {},
   "outputs": [
    {
     "name": "stderr",
     "output_type": "stream",
     "text": [
      "`summarise()` ungrouping output (override with `.groups` argument)\n",
      "\n"
     ]
    }
   ],
   "source": [
    "daydom_stats = expiry_train_df_1 %>%\n",
    "    group_by(tld_registrar_index) %>% \n",
    "    summarise(n = n(), \n",
    "              daydom_min = min(day_domains), \n",
    "              daydom_max = max(day_domains), \n",
    "              daydom_mean = mean(day_domains, na.rm = TRUE), \n",
    "              daydom_rng = daydom_max - daydom_min, \n",
    "              daydom_std = sd(day_domains, na.rm = TRUE), \n",
    "              daydom_skew = skewness(day_domains, na.rm = TRUE), \n",
    "              daydom_kurt = kurtosis(day_domains, na.rm = TRUE)) %>% \n",
    "    arrange(desc(n)) \n",
    "\n",
    "daydom_min <- daydom_stats %>% pull(daydom_min)\n",
    "daydom_max <- daydom_stats %>% pull(daydom_max)\n",
    "daydom_mean <- daydom_stats %>% pull(daydom_mean)\n",
    "daydom_rng <- daydom_stats %>% pull(daydom_rng)\n",
    "daydom_std <- daydom_stats %>% pull(daydom_std)\n",
    "daydom_skew <- daydom_stats %>% pull(daydom_skew)\n",
    "daydom_kurt <- daydom_stats %>% pull(daydom_kurt)\n",
    "\n"
   ]
  },
  {
   "cell_type": "code",
   "execution_count": 143,
   "metadata": {},
   "outputs": [
    {
     "name": "stderr",
     "output_type": "stream",
     "text": [
      "`summarise()` ungrouping output (override with `.groups` argument)\n",
      "\n"
     ]
    }
   ],
   "source": [
    "sldlen_stats = expiry_train_df_1 %>%\n",
    "    group_by(tld_registrar_index) %>% \n",
    "    summarise(n = n(), \n",
    "              min = min(sld_length), \n",
    "              max = max(sld_length), \n",
    "              mean = mean(sld_length, na.rm = TRUE), \n",
    "              rng = max - min, \n",
    "              std = sd(sld_length, na.rm = TRUE), \n",
    "              skew = skewness(sld_length, na.rm = TRUE), \n",
    "              kurt = kurtosis(sld_length, na.rm = TRUE)) %>% \n",
    "    arrange(desc(n)) \n",
    "\n",
    "sldlen_min <- sldlen_stats %>% pull(min)\n",
    "sldlen_max <- sldlen_stats %>% pull(max)\n",
    "sldlen_mean <- sldlen_stats %>% pull(mean)\n",
    "sldlen_rng <- sldlen_stats %>% pull(rng)\n",
    "sldlen_std <- sldlen_stats %>% pull(std)\n",
    "sldlen_skew <- sldlen_stats %>% pull(skew)\n",
    "sldlen_kurt <- sldlen_stats %>% pull(kurt)\n",
    "\n"
   ]
  },
  {
   "cell_type": "code",
   "execution_count": 144,
   "metadata": {},
   "outputs": [
    {
     "name": "stderr",
     "output_type": "stream",
     "text": [
      "`summarise()` ungrouping output (override with `.groups` argument)\n",
      "\n"
     ]
    }
   ],
   "source": [
    "gibbs_stats = expiry_train_df_1 %>%\n",
    "    group_by(tld_registrar_index) %>% \n",
    "    summarise(n = n(), \n",
    "              min = min(gibb_score), \n",
    "              max = max(gibb_score), \n",
    "              mean = mean(gibb_score, na.rm = TRUE), \n",
    "              rng = max - min, \n",
    "              std = sd(gibb_score, na.rm = TRUE), \n",
    "              skew = skewness(gibb_score, na.rm = TRUE), \n",
    "              kurt = kurtosis(gibb_score, na.rm = TRUE)) %>% \n",
    "    arrange(desc(n)) \n",
    "\n",
    "gibbs_min <- gibbs_stats %>% pull(min)\n",
    "gibbs_max <- gibbs_stats %>% pull(max)\n",
    "gibbs_mean <- gibbs_stats %>% pull(mean)\n",
    "gibbs_rng <- gibbs_stats %>% pull(rng)\n",
    "gibbs_std <- gibbs_stats %>% pull(std)\n",
    "gibbs_skew <- gibbs_stats %>% pull(skew)\n",
    "gibbs_kurt <- gibbs_stats %>% pull(kurt)\n"
   ]
  },
  {
   "cell_type": "code",
   "execution_count": 145,
   "metadata": {},
   "outputs": [
    {
     "name": "stderr",
     "output_type": "stream",
     "text": [
      "`summarise()` ungrouping output (override with `.groups` argument)\n",
      "\n"
     ]
    }
   ],
   "source": [
    "pdcnt_stats = expiry_train_df_1 %>%\n",
    "    group_by(tld_registrar_index) %>% \n",
    "    summarise(n = n(), \n",
    "              min = min(pattern_domain_count), \n",
    "              max = max(pattern_domain_count), \n",
    "              mean = mean(pattern_domain_count, na.rm = TRUE), \n",
    "              rng = max - min, \n",
    "              std = sd(pattern_domain_count, na.rm = TRUE), \n",
    "              skew = skewness(pattern_domain_count, na.rm = TRUE), \n",
    "              kurt = kurtosis(pattern_domain_count, na.rm = TRUE)) %>% \n",
    "    arrange(desc(n)) \n",
    "\n",
    "pdcnt_min <- pdcnt_stats %>% pull(min)\n",
    "pdcnt_max <- pdcnt_stats %>% pull(max)\n",
    "pdcnt_mean <- pdcnt_stats %>% pull(mean)\n",
    "pdcnt_rng <- pdcnt_stats %>% pull(rng)\n",
    "pdcnt_std <- pdcnt_stats %>% pull(std)\n",
    "pdcnt_skew <- pdcnt_stats %>% pull(skew)\n",
    "pdcnt_kurt <- pdcnt_stats %>% pull(kurt)"
   ]
  },
  {
   "cell_type": "code",
   "execution_count": 146,
   "metadata": {},
   "outputs": [
    {
     "name": "stderr",
     "output_type": "stream",
     "text": [
      "`summarise()` ungrouping output (override with `.groups` argument)\n",
      "\n"
     ]
    }
   ],
   "source": [
    "rarpt_stats = expiry_train_df_1 %>%\n",
    "    group_by(tld_registrar_index) %>% \n",
    "    summarise(n = n(), \n",
    "              min = min(reg_arpt), \n",
    "              max = max(reg_arpt), \n",
    "              mean = mean(reg_arpt, na.rm = TRUE), \n",
    "              rng = max - min, \n",
    "              std = sd(reg_arpt, na.rm = TRUE), \n",
    "              skew = skewness(reg_arpt, na.rm = TRUE), \n",
    "              kurt = kurtosis(reg_arpt, na.rm = TRUE)) %>% \n",
    "    arrange(desc(n)) \n",
    "\n",
    "rarpt_min <- rarpt_stats %>% pull(min)\n",
    "rarpt_max <- rarpt_stats %>% pull(max)\n",
    "rarpt_mean <- rarpt_stats %>% pull(mean)\n",
    "rarpt_rng <- rarpt_stats %>% pull(rng)\n",
    "rarpt_std <- rarpt_stats %>% pull(std)\n",
    "rarpt_skew <- rarpt_stats %>% pull(skew)\n",
    "rarpt_kurt <- rarpt_stats %>% pull(kurt)"
   ]
  },
  {
   "cell_type": "markdown",
   "metadata": {},
   "source": [
    "## Add tld_reseller level feature engineering"
   ]
  },
  {
   "cell_type": "code",
   "execution_count": 32,
   "metadata": {},
   "outputs": [],
   "source": [
    "metrics_df = metrics_df %>% \n",
    "    mutate(tld_reseller = tld_reseller_names,\n",
    "            count = count_obs,\n",
    "            ren_prp = ren_prp,\n",
    "            tld_rat = tld_rat,\n",
    "            country_maj = country_maj,\n",
    "            region_maj = region_maj,\n",
    "            country_cnt = country_cnt,\n",
    "            region_cnt = region_cnt,\n",
    "            geo_cnt = geo_cnt,\n",
    "            geo_maj = geo_maj,\n",
    "\n",
    "            daydom_min = daydom_min,\n",
    "            daydom_max = daydom_max,\n",
    "            daydom_mean = daydom_mean,\n",
    "            daydom_rng = daydom_rng,\n",
    "            daydom_std = daydom_std,\n",
    "            daydom_skew = daydom_skew,\n",
    "            daydom_kurt = daydom_kurt,\n",
    "\n",
    "            sldlen_min = sldlen_min,\n",
    "            sldlen_max = sldlen_max,\n",
    "            sldlen_mean = sldlen_mean,\n",
    "            sldlen_rng = sldlen_rng,\n",
    "            sldlen_std = sldlen_std,\n",
    "            sldlen_skew = sldlen_skew,\n",
    "            sldlen_kurt = sldlen_kurt,\n",
    "\n",
    "            gibbs_min = gibbs_min,\n",
    "            gibbs_max = gibbs_max,\n",
    "            gibbs_mean = gibbs_mean,\n",
    "            gibbs_rng = gibbs_rng,\n",
    "            gibbs_std = gibbs_std,\n",
    "            gibbs_skew = gibbs_skew,\n",
    "            gibbs_kurt = gibbs_kurt,\n",
    "\n",
    "            pdcnt_min = pdcnt_min,\n",
    "            pdcnt_max = pdcnt_max,\n",
    "            pdcnt_mean = pdcnt_mean,\n",
    "            pdcnt_rng = pdcnt_rng,\n",
    "            pdcnt_std = pdcnt_std,\n",
    "            pdcnt_skew = pdcnt_skew,\n",
    "            pdcnt_kurt = pdcnt_kurt,\n",
    "\n",
    "            rarpt_min = rarpt_min,\n",
    "            rarpt_max = rarpt_max,\n",
    "            rarpt_mean = rarpt_mean,\n",
    "            rarpt_rng = rarpt_rng,\n",
    "            rarpt_std = rarpt_std,\n",
    "            rarpt_skew = rarpt_skew,\n",
    "            rarpt_kurt = rarpt_kurt)"
   ]
  },
  {
   "cell_type": "code",
   "execution_count": 33,
   "metadata": {},
   "outputs": [
    {
     "data": {
      "text/html": [
       "<style>\n",
       ".list-inline {list-style: none; margin:0; padding: 0}\n",
       ".list-inline>li {display: inline-block}\n",
       ".list-inline>li:not(:last-child)::after {content: \"\\00b7\"; padding: 0 .5ex}\n",
       "</style>\n",
       "<ol class=list-inline><li>1723</li><li>60</li></ol>\n"
      ],
      "text/latex": [
       "\\begin{enumerate*}\n",
       "\\item 1723\n",
       "\\item 60\n",
       "\\end{enumerate*}\n"
      ],
      "text/markdown": [
       "1. 1723\n",
       "2. 60\n",
       "\n",
       "\n"
      ],
      "text/plain": [
       "[1] 1723   60"
      ]
     },
     "metadata": {},
     "output_type": "display_data"
    },
    {
     "data": {
      "text/html": [
       "<table>\n",
       "<caption>A data.frame: 6 × 60</caption>\n",
       "<thead>\n",
       "\t<tr><th></th><th scope=col>tld_registrar_index</th><th scope=col>reseller</th><th scope=col>n</th><th scope=col>l10_seg2_glm</th><th scope=col>l10_seg_glm</th><th scope=col>l10_agg_glm</th><th scope=col>l10_seg2_rf</th><th scope=col>l10_seg_rf</th><th scope=col>l10_agg_rf</th><th scope=col>auc_seg2_glm</th><th scope=col>auc_seg_glm</th><th scope=col>auc_agg_glm</th><th scope=col>auc_seg2_rf</th><th scope=col>auc_seg_rf</th><th scope=col>auc_agg_rf</th><th scope=col>tld_reseller</th><th scope=col>count</th><th scope=col>ren_prp</th><th scope=col>tld_rat</th><th scope=col>country_maj</th><th scope=col>region_maj</th><th scope=col>country_cnt</th><th scope=col>region_cnt</th><th scope=col>geo_cnt</th><th scope=col>geo_maj</th><th scope=col>⋯</th><th scope=col>sldlen_rng</th><th scope=col>sldlen_std</th><th scope=col>sldlen_skew</th><th scope=col>sldlen_kurt</th><th scope=col>gibbs_min</th><th scope=col>gibbs_max</th><th scope=col>gibbs_mean</th><th scope=col>gibbs_rng</th><th scope=col>gibbs_std</th><th scope=col>gibbs_skew</th><th scope=col>gibbs_kurt</th><th scope=col>pdcnt_min</th><th scope=col>pdcnt_max</th><th scope=col>pdcnt_mean</th><th scope=col>pdcnt_rng</th><th scope=col>pdcnt_std</th><th scope=col>pdcnt_skew</th><th scope=col>pdcnt_kurt</th><th scope=col>rarpt_min</th><th scope=col>rarpt_max</th><th scope=col>rarpt_mean</th><th scope=col>rarpt_rng</th><th scope=col>rarpt_std</th><th scope=col>rarpt_skew</th><th scope=col>rarpt_kurt</th></tr>\n",
       "\t<tr><th></th><th scope=col>&lt;fct&gt;</th><th scope=col>&lt;fct&gt;</th><th scope=col>&lt;int&gt;</th><th scope=col>&lt;dbl&gt;</th><th scope=col>&lt;dbl&gt;</th><th scope=col>&lt;dbl&gt;</th><th scope=col>&lt;dbl&gt;</th><th scope=col>&lt;dbl&gt;</th><th scope=col>&lt;dbl&gt;</th><th scope=col>&lt;dbl&gt;</th><th scope=col>&lt;dbl&gt;</th><th scope=col>&lt;dbl&gt;</th><th scope=col>&lt;dbl&gt;</th><th scope=col>&lt;dbl&gt;</th><th scope=col>&lt;dbl&gt;</th><th scope=col>&lt;chr&gt;</th><th scope=col>&lt;int&gt;</th><th scope=col>&lt;dbl&gt;</th><th scope=col>&lt;dbl&gt;</th><th scope=col>&lt;chr&gt;</th><th scope=col>&lt;chr&gt;</th><th scope=col>&lt;int&gt;</th><th scope=col>&lt;int&gt;</th><th scope=col>&lt;int&gt;</th><th scope=col>&lt;fct&gt;</th><th scope=col>⋯</th><th scope=col>&lt;int&gt;</th><th scope=col>&lt;dbl&gt;</th><th scope=col>&lt;dbl&gt;</th><th scope=col>&lt;dbl&gt;</th><th scope=col>&lt;dbl&gt;</th><th scope=col>&lt;dbl&gt;</th><th scope=col>&lt;dbl&gt;</th><th scope=col>&lt;dbl&gt;</th><th scope=col>&lt;dbl&gt;</th><th scope=col>&lt;dbl&gt;</th><th scope=col>&lt;dbl&gt;</th><th scope=col>&lt;int&gt;</th><th scope=col>&lt;int&gt;</th><th scope=col>&lt;dbl&gt;</th><th scope=col>&lt;int&gt;</th><th scope=col>&lt;dbl&gt;</th><th scope=col>&lt;dbl&gt;</th><th scope=col>&lt;dbl&gt;</th><th scope=col>&lt;dbl&gt;</th><th scope=col>&lt;dbl&gt;</th><th scope=col>&lt;dbl&gt;</th><th scope=col>&lt;dbl&gt;</th><th scope=col>&lt;dbl&gt;</th><th scope=col>&lt;dbl&gt;</th><th scope=col>&lt;dbl&gt;</th></tr>\n",
       "</thead>\n",
       "<tbody>\n",
       "\t<tr><th scope=row>1</th><td>sitegmo       </td><td>gmo      </td><td>106569</td><td>8.204334</td><td>8.126935</td><td>6.408669</td><td>8.777090</td><td>8.761610</td><td>8.591331</td><td>0.8958204</td><td>0.8825077</td><td>0.8729102</td><td>0.9345201</td><td>0.9348297</td><td>0.9329721</td><td>sitegmo       </td><td>106569</td><td>0.02441611</td><td>9.383592e-06</td><td>Japan        </td><td>Non China</td><td>1</td><td>1</td><td>1</td><td>Japan        </td><td>⋯</td><td>50</td><td>2.508508</td><td> 6.1455276</td><td>55.010118</td><td>0</td><td>100</td><td>1.672944</td><td>100</td><td> 4.083236</td><td>15.334299</td><td>348.12171</td><td>1</td><td> 51</td><td> 3.432490</td><td> 50</td><td>  5.173298</td><td>3.6994369</td><td>16.3930266</td><td>0.10</td><td>13.37</td><td>0.1037350</td><td>13.27</td><td>0.20216296</td><td>55.154300</td><td>3102.462949</td></tr>\n",
       "\t<tr><th scope=row>2</th><td>funalibaba    </td><td>alibaba  </td><td> 72690</td><td>4.883721</td><td>5.255814</td><td>5.023256</td><td>5.813953</td><td>6.000000</td><td>6.186047</td><td>0.8262791</td><td>0.8430233</td><td>0.8518605</td><td>0.8769767</td><td>0.8779070</td><td>0.8793023</td><td>funalibaba    </td><td> 72690</td><td>0.01223002</td><td>1.375705e-05</td><td>China        </td><td>China    </td><td>1</td><td>1</td><td>1</td><td>China        </td><td>⋯</td><td>60</td><td>3.289407</td><td> 2.9497402</td><td>14.097156</td><td>0</td><td>100</td><td>6.427920</td><td>100</td><td>21.265643</td><td> 4.112206</td><td> 15.16265</td><td>1</td><td>326</td><td>15.295667</td><td>325</td><td> 37.775267</td><td>4.8276608</td><td>27.7586974</td><td>0.75</td><td> 4.75</td><td>0.7521482</td><td> 4.00</td><td>0.08239843</td><td>43.767804</td><td>1951.657326</td></tr>\n",
       "\t<tr><th scope=row>3</th><td>sitenamecheap </td><td>namecheap</td><td> 53536</td><td>2.298025</td><td>1.921005</td><td>1.885099</td><td>2.280072</td><td>2.028725</td><td>2.046679</td><td>0.6862657</td><td>0.6196589</td><td>0.6338420</td><td>0.6654399</td><td>0.6792639</td><td>0.6893178</td><td>sitenamecheap </td><td> 53536</td><td>0.03973027</td><td>1.867902e-05</td><td>United States</td><td>Non China</td><td>1</td><td>1</td><td>1</td><td>United States</td><td>⋯</td><td>57</td><td>4.457749</td><td> 1.8173451</td><td> 7.306364</td><td>0</td><td>100</td><td>4.292920</td><td>100</td><td> 4.790116</td><td>13.813471</td><td>271.44212</td><td>1</td><td>102</td><td> 5.683839</td><td>101</td><td> 11.925165</td><td>4.8845405</td><td>28.4273959</td><td>0.58</td><td> 8.33</td><td>0.8639192</td><td> 7.75</td><td>0.46643401</td><td> 2.149515</td><td>  15.078455</td></tr>\n",
       "\t<tr><th scope=row>4</th><td>pwnamecheap   </td><td>namecheap</td><td> 50470</td><td>3.478261</td><td>3.675889</td><td>3.675889</td><td>3.438735</td><td>4.071146</td><td>4.308300</td><td>0.7274704</td><td>0.6551383</td><td>0.6361660</td><td>0.7167984</td><td>0.7405138</td><td>0.7507905</td><td>pwnamecheap   </td><td> 50470</td><td>0.02276600</td><td>1.981375e-05</td><td>United States</td><td>Non China</td><td>1</td><td>1</td><td>1</td><td>United States</td><td>⋯</td><td>53</td><td>3.816024</td><td> 0.9727996</td><td> 3.074438</td><td>0</td><td>100</td><td>5.021115</td><td>100</td><td> 5.889335</td><td>13.133157</td><td>208.93433</td><td>1</td><td>133</td><td> 3.806340</td><td>132</td><td> 11.591963</td><td>7.9464521</td><td>72.1673024</td><td>0.59</td><td> 5.40</td><td>0.8950147</td><td> 4.81</td><td>0.37727284</td><td> 1.158011</td><td>   3.878673</td></tr>\n",
       "\t<tr><th scope=row>5</th><td>onlinego daddy</td><td>go daddy </td><td> 42162</td><td>2.850995</td><td>2.883271</td><td>2.474449</td><td>2.598171</td><td>2.727273</td><td>2.646584</td><td>0.6506455</td><td>0.6493007</td><td>0.6381119</td><td>0.6095481</td><td>0.6266541</td><td>0.6249328</td><td>onlinego daddy</td><td> 42162</td><td>0.17413785</td><td>2.371804e-05</td><td>United States</td><td>Non China</td><td>1</td><td>1</td><td>1</td><td>United States</td><td>⋯</td><td>57</td><td>4.627825</td><td> 1.2478782</td><td> 3.883563</td><td>0</td><td>100</td><td>5.019930</td><td>100</td><td> 5.451631</td><td>13.738913</td><td>235.73852</td><td>1</td><td> 38</td><td> 1.947346</td><td> 37</td><td>  2.554309</td><td>8.0693509</td><td>82.8231996</td><td>0.50</td><td>19.38</td><td>1.4417611</td><td>18.88</td><td>2.84260467</td><td> 3.856059</td><td>  13.984498</td></tr>\n",
       "\t<tr><th scope=row>6</th><td>sitegandi sas </td><td>gandi sas</td><td> 35309</td><td>8.243243</td><td>8.445946</td><td>7.094595</td><td>4.932432</td><td>8.445946</td><td>8.581081</td><td>0.9202703</td><td>0.9195946</td><td>0.9189189</td><td>0.7162162</td><td>0.9344595</td><td>0.9358108</td><td>sitegandi sas </td><td> 35309</td><td>0.01741766</td><td>2.832139e-05</td><td>France       </td><td>Non China</td><td>1</td><td>1</td><td>1</td><td>EU           </td><td>⋯</td><td>51</td><td>4.052579</td><td>-0.9342607</td><td> 1.096902</td><td>0</td><td>100</td><td>3.680121</td><td>100</td><td> 7.475273</td><td>11.932197</td><td>150.65015</td><td>1</td><td>332</td><td>99.953015</td><td>331</td><td>114.009691</td><td>0.8053729</td><td>-0.9005846</td><td>0.50</td><td> 7.00</td><td>0.5011045</td><td> 6.50</td><td>0.08472577</td><td>76.689854</td><td>5879.500288</td></tr>\n",
       "</tbody>\n",
       "</table>\n"
      ],
      "text/latex": [
       "A data.frame: 6 × 60\n",
       "\\begin{tabular}{r|lllllllllllllllllllllllllllllllllllllllllllllllllll}\n",
       "  & tld\\_registrar\\_index & reseller & n & l10\\_seg2\\_glm & l10\\_seg\\_glm & l10\\_agg\\_glm & l10\\_seg2\\_rf & l10\\_seg\\_rf & l10\\_agg\\_rf & auc\\_seg2\\_glm & auc\\_seg\\_glm & auc\\_agg\\_glm & auc\\_seg2\\_rf & auc\\_seg\\_rf & auc\\_agg\\_rf & tld\\_reseller & count & ren\\_prp & tld\\_rat & country\\_maj & region\\_maj & country\\_cnt & region\\_cnt & geo\\_cnt & geo\\_maj & ⋯ & sldlen\\_rng & sldlen\\_std & sldlen\\_skew & sldlen\\_kurt & gibbs\\_min & gibbs\\_max & gibbs\\_mean & gibbs\\_rng & gibbs\\_std & gibbs\\_skew & gibbs\\_kurt & pdcnt\\_min & pdcnt\\_max & pdcnt\\_mean & pdcnt\\_rng & pdcnt\\_std & pdcnt\\_skew & pdcnt\\_kurt & rarpt\\_min & rarpt\\_max & rarpt\\_mean & rarpt\\_rng & rarpt\\_std & rarpt\\_skew & rarpt\\_kurt\\\\\n",
       "  & <fct> & <fct> & <int> & <dbl> & <dbl> & <dbl> & <dbl> & <dbl> & <dbl> & <dbl> & <dbl> & <dbl> & <dbl> & <dbl> & <dbl> & <chr> & <int> & <dbl> & <dbl> & <chr> & <chr> & <int> & <int> & <int> & <fct> & ⋯ & <int> & <dbl> & <dbl> & <dbl> & <dbl> & <dbl> & <dbl> & <dbl> & <dbl> & <dbl> & <dbl> & <int> & <int> & <dbl> & <int> & <dbl> & <dbl> & <dbl> & <dbl> & <dbl> & <dbl> & <dbl> & <dbl> & <dbl> & <dbl>\\\\\n",
       "\\hline\n",
       "\t1 & sitegmo        & gmo       & 106569 & 8.204334 & 8.126935 & 6.408669 & 8.777090 & 8.761610 & 8.591331 & 0.8958204 & 0.8825077 & 0.8729102 & 0.9345201 & 0.9348297 & 0.9329721 & sitegmo        & 106569 & 0.02441611 & 9.383592e-06 & Japan         & Non China & 1 & 1 & 1 & Japan         & ⋯ & 50 & 2.508508 &  6.1455276 & 55.010118 & 0 & 100 & 1.672944 & 100 &  4.083236 & 15.334299 & 348.12171 & 1 &  51 &  3.432490 &  50 &   5.173298 & 3.6994369 & 16.3930266 & 0.10 & 13.37 & 0.1037350 & 13.27 & 0.20216296 & 55.154300 & 3102.462949\\\\\n",
       "\t2 & funalibaba     & alibaba   &  72690 & 4.883721 & 5.255814 & 5.023256 & 5.813953 & 6.000000 & 6.186047 & 0.8262791 & 0.8430233 & 0.8518605 & 0.8769767 & 0.8779070 & 0.8793023 & funalibaba     &  72690 & 0.01223002 & 1.375705e-05 & China         & China     & 1 & 1 & 1 & China         & ⋯ & 60 & 3.289407 &  2.9497402 & 14.097156 & 0 & 100 & 6.427920 & 100 & 21.265643 &  4.112206 &  15.16265 & 1 & 326 & 15.295667 & 325 &  37.775267 & 4.8276608 & 27.7586974 & 0.75 &  4.75 & 0.7521482 &  4.00 & 0.08239843 & 43.767804 & 1951.657326\\\\\n",
       "\t3 & sitenamecheap  & namecheap &  53536 & 2.298025 & 1.921005 & 1.885099 & 2.280072 & 2.028725 & 2.046679 & 0.6862657 & 0.6196589 & 0.6338420 & 0.6654399 & 0.6792639 & 0.6893178 & sitenamecheap  &  53536 & 0.03973027 & 1.867902e-05 & United States & Non China & 1 & 1 & 1 & United States & ⋯ & 57 & 4.457749 &  1.8173451 &  7.306364 & 0 & 100 & 4.292920 & 100 &  4.790116 & 13.813471 & 271.44212 & 1 & 102 &  5.683839 & 101 &  11.925165 & 4.8845405 & 28.4273959 & 0.58 &  8.33 & 0.8639192 &  7.75 & 0.46643401 &  2.149515 &   15.078455\\\\\n",
       "\t4 & pwnamecheap    & namecheap &  50470 & 3.478261 & 3.675889 & 3.675889 & 3.438735 & 4.071146 & 4.308300 & 0.7274704 & 0.6551383 & 0.6361660 & 0.7167984 & 0.7405138 & 0.7507905 & pwnamecheap    &  50470 & 0.02276600 & 1.981375e-05 & United States & Non China & 1 & 1 & 1 & United States & ⋯ & 53 & 3.816024 &  0.9727996 &  3.074438 & 0 & 100 & 5.021115 & 100 &  5.889335 & 13.133157 & 208.93433 & 1 & 133 &  3.806340 & 132 &  11.591963 & 7.9464521 & 72.1673024 & 0.59 &  5.40 & 0.8950147 &  4.81 & 0.37727284 &  1.158011 &    3.878673\\\\\n",
       "\t5 & onlinego daddy & go daddy  &  42162 & 2.850995 & 2.883271 & 2.474449 & 2.598171 & 2.727273 & 2.646584 & 0.6506455 & 0.6493007 & 0.6381119 & 0.6095481 & 0.6266541 & 0.6249328 & onlinego daddy &  42162 & 0.17413785 & 2.371804e-05 & United States & Non China & 1 & 1 & 1 & United States & ⋯ & 57 & 4.627825 &  1.2478782 &  3.883563 & 0 & 100 & 5.019930 & 100 &  5.451631 & 13.738913 & 235.73852 & 1 &  38 &  1.947346 &  37 &   2.554309 & 8.0693509 & 82.8231996 & 0.50 & 19.38 & 1.4417611 & 18.88 & 2.84260467 &  3.856059 &   13.984498\\\\\n",
       "\t6 & sitegandi sas  & gandi sas &  35309 & 8.243243 & 8.445946 & 7.094595 & 4.932432 & 8.445946 & 8.581081 & 0.9202703 & 0.9195946 & 0.9189189 & 0.7162162 & 0.9344595 & 0.9358108 & sitegandi sas  &  35309 & 0.01741766 & 2.832139e-05 & France        & Non China & 1 & 1 & 1 & EU            & ⋯ & 51 & 4.052579 & -0.9342607 &  1.096902 & 0 & 100 & 3.680121 & 100 &  7.475273 & 11.932197 & 150.65015 & 1 & 332 & 99.953015 & 331 & 114.009691 & 0.8053729 & -0.9005846 & 0.50 &  7.00 & 0.5011045 &  6.50 & 0.08472577 & 76.689854 & 5879.500288\\\\\n",
       "\\end{tabular}\n"
      ],
      "text/markdown": [
       "\n",
       "A data.frame: 6 × 60\n",
       "\n",
       "| <!--/--> | tld_registrar_index &lt;fct&gt; | reseller &lt;fct&gt; | n &lt;int&gt; | l10_seg2_glm &lt;dbl&gt; | l10_seg_glm &lt;dbl&gt; | l10_agg_glm &lt;dbl&gt; | l10_seg2_rf &lt;dbl&gt; | l10_seg_rf &lt;dbl&gt; | l10_agg_rf &lt;dbl&gt; | auc_seg2_glm &lt;dbl&gt; | auc_seg_glm &lt;dbl&gt; | auc_agg_glm &lt;dbl&gt; | auc_seg2_rf &lt;dbl&gt; | auc_seg_rf &lt;dbl&gt; | auc_agg_rf &lt;dbl&gt; | tld_reseller &lt;chr&gt; | count &lt;int&gt; | ren_prp &lt;dbl&gt; | tld_rat &lt;dbl&gt; | country_maj &lt;chr&gt; | region_maj &lt;chr&gt; | country_cnt &lt;int&gt; | region_cnt &lt;int&gt; | geo_cnt &lt;int&gt; | geo_maj &lt;fct&gt; | ⋯ ⋯ | sldlen_rng &lt;int&gt; | sldlen_std &lt;dbl&gt; | sldlen_skew &lt;dbl&gt; | sldlen_kurt &lt;dbl&gt; | gibbs_min &lt;dbl&gt; | gibbs_max &lt;dbl&gt; | gibbs_mean &lt;dbl&gt; | gibbs_rng &lt;dbl&gt; | gibbs_std &lt;dbl&gt; | gibbs_skew &lt;dbl&gt; | gibbs_kurt &lt;dbl&gt; | pdcnt_min &lt;int&gt; | pdcnt_max &lt;int&gt; | pdcnt_mean &lt;dbl&gt; | pdcnt_rng &lt;int&gt; | pdcnt_std &lt;dbl&gt; | pdcnt_skew &lt;dbl&gt; | pdcnt_kurt &lt;dbl&gt; | rarpt_min &lt;dbl&gt; | rarpt_max &lt;dbl&gt; | rarpt_mean &lt;dbl&gt; | rarpt_rng &lt;dbl&gt; | rarpt_std &lt;dbl&gt; | rarpt_skew &lt;dbl&gt; | rarpt_kurt &lt;dbl&gt; |\n",
       "|---|---|---|---|---|---|---|---|---|---|---|---|---|---|---|---|---|---|---|---|---|---|---|---|---|---|---|---|---|---|---|---|---|---|---|---|---|---|---|---|---|---|---|---|---|---|---|---|---|---|---|---|\n",
       "| 1 | sitegmo        | gmo       | 106569 | 8.204334 | 8.126935 | 6.408669 | 8.777090 | 8.761610 | 8.591331 | 0.8958204 | 0.8825077 | 0.8729102 | 0.9345201 | 0.9348297 | 0.9329721 | sitegmo        | 106569 | 0.02441611 | 9.383592e-06 | Japan         | Non China | 1 | 1 | 1 | Japan         | ⋯ | 50 | 2.508508 |  6.1455276 | 55.010118 | 0 | 100 | 1.672944 | 100 |  4.083236 | 15.334299 | 348.12171 | 1 |  51 |  3.432490 |  50 |   5.173298 | 3.6994369 | 16.3930266 | 0.10 | 13.37 | 0.1037350 | 13.27 | 0.20216296 | 55.154300 | 3102.462949 |\n",
       "| 2 | funalibaba     | alibaba   |  72690 | 4.883721 | 5.255814 | 5.023256 | 5.813953 | 6.000000 | 6.186047 | 0.8262791 | 0.8430233 | 0.8518605 | 0.8769767 | 0.8779070 | 0.8793023 | funalibaba     |  72690 | 0.01223002 | 1.375705e-05 | China         | China     | 1 | 1 | 1 | China         | ⋯ | 60 | 3.289407 |  2.9497402 | 14.097156 | 0 | 100 | 6.427920 | 100 | 21.265643 |  4.112206 |  15.16265 | 1 | 326 | 15.295667 | 325 |  37.775267 | 4.8276608 | 27.7586974 | 0.75 |  4.75 | 0.7521482 |  4.00 | 0.08239843 | 43.767804 | 1951.657326 |\n",
       "| 3 | sitenamecheap  | namecheap |  53536 | 2.298025 | 1.921005 | 1.885099 | 2.280072 | 2.028725 | 2.046679 | 0.6862657 | 0.6196589 | 0.6338420 | 0.6654399 | 0.6792639 | 0.6893178 | sitenamecheap  |  53536 | 0.03973027 | 1.867902e-05 | United States | Non China | 1 | 1 | 1 | United States | ⋯ | 57 | 4.457749 |  1.8173451 |  7.306364 | 0 | 100 | 4.292920 | 100 |  4.790116 | 13.813471 | 271.44212 | 1 | 102 |  5.683839 | 101 |  11.925165 | 4.8845405 | 28.4273959 | 0.58 |  8.33 | 0.8639192 |  7.75 | 0.46643401 |  2.149515 |   15.078455 |\n",
       "| 4 | pwnamecheap    | namecheap |  50470 | 3.478261 | 3.675889 | 3.675889 | 3.438735 | 4.071146 | 4.308300 | 0.7274704 | 0.6551383 | 0.6361660 | 0.7167984 | 0.7405138 | 0.7507905 | pwnamecheap    |  50470 | 0.02276600 | 1.981375e-05 | United States | Non China | 1 | 1 | 1 | United States | ⋯ | 53 | 3.816024 |  0.9727996 |  3.074438 | 0 | 100 | 5.021115 | 100 |  5.889335 | 13.133157 | 208.93433 | 1 | 133 |  3.806340 | 132 |  11.591963 | 7.9464521 | 72.1673024 | 0.59 |  5.40 | 0.8950147 |  4.81 | 0.37727284 |  1.158011 |    3.878673 |\n",
       "| 5 | onlinego daddy | go daddy  |  42162 | 2.850995 | 2.883271 | 2.474449 | 2.598171 | 2.727273 | 2.646584 | 0.6506455 | 0.6493007 | 0.6381119 | 0.6095481 | 0.6266541 | 0.6249328 | onlinego daddy |  42162 | 0.17413785 | 2.371804e-05 | United States | Non China | 1 | 1 | 1 | United States | ⋯ | 57 | 4.627825 |  1.2478782 |  3.883563 | 0 | 100 | 5.019930 | 100 |  5.451631 | 13.738913 | 235.73852 | 1 |  38 |  1.947346 |  37 |   2.554309 | 8.0693509 | 82.8231996 | 0.50 | 19.38 | 1.4417611 | 18.88 | 2.84260467 |  3.856059 |   13.984498 |\n",
       "| 6 | sitegandi sas  | gandi sas |  35309 | 8.243243 | 8.445946 | 7.094595 | 4.932432 | 8.445946 | 8.581081 | 0.9202703 | 0.9195946 | 0.9189189 | 0.7162162 | 0.9344595 | 0.9358108 | sitegandi sas  |  35309 | 0.01741766 | 2.832139e-05 | France        | Non China | 1 | 1 | 1 | EU            | ⋯ | 51 | 4.052579 | -0.9342607 |  1.096902 | 0 | 100 | 3.680121 | 100 |  7.475273 | 11.932197 | 150.65015 | 1 | 332 | 99.953015 | 331 | 114.009691 | 0.8053729 | -0.9005846 | 0.50 |  7.00 | 0.5011045 |  6.50 | 0.08472577 | 76.689854 | 5879.500288 |\n",
       "\n"
      ],
      "text/plain": [
       "  tld_registrar_index reseller  n      l10_seg2_glm l10_seg_glm l10_agg_glm\n",
       "1 sitegmo             gmo       106569 8.204334     8.126935    6.408669   \n",
       "2 funalibaba          alibaba    72690 4.883721     5.255814    5.023256   \n",
       "3 sitenamecheap       namecheap  53536 2.298025     1.921005    1.885099   \n",
       "4 pwnamecheap         namecheap  50470 3.478261     3.675889    3.675889   \n",
       "5 onlinego daddy      go daddy   42162 2.850995     2.883271    2.474449   \n",
       "6 sitegandi sas       gandi sas  35309 8.243243     8.445946    7.094595   \n",
       "  l10_seg2_rf l10_seg_rf l10_agg_rf auc_seg2_glm auc_seg_glm auc_agg_glm\n",
       "1 8.777090    8.761610   8.591331   0.8958204    0.8825077   0.8729102  \n",
       "2 5.813953    6.000000   6.186047   0.8262791    0.8430233   0.8518605  \n",
       "3 2.280072    2.028725   2.046679   0.6862657    0.6196589   0.6338420  \n",
       "4 3.438735    4.071146   4.308300   0.7274704    0.6551383   0.6361660  \n",
       "5 2.598171    2.727273   2.646584   0.6506455    0.6493007   0.6381119  \n",
       "6 4.932432    8.445946   8.581081   0.9202703    0.9195946   0.9189189  \n",
       "  auc_seg2_rf auc_seg_rf auc_agg_rf tld_reseller   count  ren_prp   \n",
       "1 0.9345201   0.9348297  0.9329721  sitegmo        106569 0.02441611\n",
       "2 0.8769767   0.8779070  0.8793023  funalibaba      72690 0.01223002\n",
       "3 0.6654399   0.6792639  0.6893178  sitenamecheap   53536 0.03973027\n",
       "4 0.7167984   0.7405138  0.7507905  pwnamecheap     50470 0.02276600\n",
       "5 0.6095481   0.6266541  0.6249328  onlinego daddy  42162 0.17413785\n",
       "6 0.7162162   0.9344595  0.9358108  sitegandi sas   35309 0.01741766\n",
       "  tld_rat      country_maj   region_maj country_cnt region_cnt geo_cnt\n",
       "1 9.383592e-06 Japan         Non China  1           1          1      \n",
       "2 1.375705e-05 China         China      1           1          1      \n",
       "3 1.867902e-05 United States Non China  1           1          1      \n",
       "4 1.981375e-05 United States Non China  1           1          1      \n",
       "5 2.371804e-05 United States Non China  1           1          1      \n",
       "6 2.832139e-05 France        Non China  1           1          1      \n",
       "  geo_maj       ⋯ sldlen_rng sldlen_std sldlen_skew sldlen_kurt gibbs_min\n",
       "1 Japan         ⋯ 50         2.508508    6.1455276  55.010118   0        \n",
       "2 China         ⋯ 60         3.289407    2.9497402  14.097156   0        \n",
       "3 United States ⋯ 57         4.457749    1.8173451   7.306364   0        \n",
       "4 United States ⋯ 53         3.816024    0.9727996   3.074438   0        \n",
       "5 United States ⋯ 57         4.627825    1.2478782   3.883563   0        \n",
       "6 EU            ⋯ 51         4.052579   -0.9342607   1.096902   0        \n",
       "  gibbs_max gibbs_mean gibbs_rng gibbs_std gibbs_skew gibbs_kurt pdcnt_min\n",
       "1 100       1.672944   100        4.083236 15.334299  348.12171  1        \n",
       "2 100       6.427920   100       21.265643  4.112206   15.16265  1        \n",
       "3 100       4.292920   100        4.790116 13.813471  271.44212  1        \n",
       "4 100       5.021115   100        5.889335 13.133157  208.93433  1        \n",
       "5 100       5.019930   100        5.451631 13.738913  235.73852  1        \n",
       "6 100       3.680121   100        7.475273 11.932197  150.65015  1        \n",
       "  pdcnt_max pdcnt_mean pdcnt_rng pdcnt_std  pdcnt_skew pdcnt_kurt rarpt_min\n",
       "1  51        3.432490   50         5.173298 3.6994369  16.3930266 0.10     \n",
       "2 326       15.295667  325        37.775267 4.8276608  27.7586974 0.75     \n",
       "3 102        5.683839  101        11.925165 4.8845405  28.4273959 0.58     \n",
       "4 133        3.806340  132        11.591963 7.9464521  72.1673024 0.59     \n",
       "5  38        1.947346   37         2.554309 8.0693509  82.8231996 0.50     \n",
       "6 332       99.953015  331       114.009691 0.8053729  -0.9005846 0.50     \n",
       "  rarpt_max rarpt_mean rarpt_rng rarpt_std  rarpt_skew rarpt_kurt \n",
       "1 13.37     0.1037350  13.27     0.20216296 55.154300  3102.462949\n",
       "2  4.75     0.7521482   4.00     0.08239843 43.767804  1951.657326\n",
       "3  8.33     0.8639192   7.75     0.46643401  2.149515    15.078455\n",
       "4  5.40     0.8950147   4.81     0.37727284  1.158011     3.878673\n",
       "5 19.38     1.4417611  18.88     2.84260467  3.856059    13.984498\n",
       "6  7.00     0.5011045   6.50     0.08472577 76.689854  5879.500288"
      ]
     },
     "metadata": {},
     "output_type": "display_data"
    }
   ],
   "source": [
    "dim(metrics_df)\n",
    "head(metrics_df)"
   ]
  },
  {
   "cell_type": "code",
   "execution_count": 13,
   "metadata": {},
   "outputs": [],
   "source": []
  },
  {
   "cell_type": "markdown",
   "metadata": {},
   "source": [
    "# Metalearning w/ Fallback -- BINARY\n",
    "## seg2_glm vs fallback "
   ]
  },
  {
   "cell_type": "code",
   "execution_count": null,
   "metadata": {},
   "outputs": [],
   "source": []
  }
 ],
 "metadata": {
  "environment": {
   "name": "r-cpu.3-6.m48",
   "type": "gcloud",
   "uri": "gcr.io/deeplearning-platform-release/r-cpu.3-6:m48"
  },
  "kernelspec": {
   "display_name": "R",
   "language": "R",
   "name": "ir"
  },
  "language_info": {
   "codemirror_mode": "r",
   "file_extension": ".r",
   "mimetype": "text/x-r-source",
   "name": "R",
   "pygments_lexer": "r",
   "version": "3.6.3"
  }
 },
 "nbformat": 4,
 "nbformat_minor": 4
}
