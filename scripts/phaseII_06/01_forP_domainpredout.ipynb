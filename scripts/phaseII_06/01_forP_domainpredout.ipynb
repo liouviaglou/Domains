{
 "cells": [
  {
   "cell_type": "markdown",
   "metadata": {},
   "source": [
    "# Follow up 10/01 meeting\n",
    "## For Parag: \n",
    "Domain-level predictions \n",
    "  - for training and testing dataset\n",
    "     - note: didn't save training predictions or model objects so inly test for now. hand over to parag and confirm he needs the training enough to justify the work\n",
    "  - in big query\n",
    "     - upload **tld_reseller_compare_predictions.csv**\n",
    "  - calc: predicted renewal rate vs, actual renewal rate at tld-reg level\n",
    "     - **tld_reseller_compare_rates.csv**\n",
    "     - **tld_reseller_compare_sums.csv**"
   ]
  },
  {
   "cell_type": "code",
   "execution_count": 1,
   "metadata": {},
   "outputs": [],
   "source": [
    "options(repr.matrix.max.cols=50, repr.matrix.max.rows=100)"
   ]
  },
  {
   "cell_type": "code",
   "execution_count": 2,
   "metadata": {},
   "outputs": [],
   "source": [
    "# install.packages(\"pkgcond\")"
   ]
  },
  {
   "cell_type": "code",
   "execution_count": 3,
   "metadata": {},
   "outputs": [
    {
     "name": "stderr",
     "output_type": "stream",
     "text": [
      "\n",
      "Attaching package: ‘dplyr’\n",
      "\n",
      "\n",
      "The following objects are masked from ‘package:stats’:\n",
      "\n",
      "    filter, lag\n",
      "\n",
      "\n",
      "The following objects are masked from ‘package:base’:\n",
      "\n",
      "    intersect, setdiff, setequal, union\n",
      "\n",
      "\n",
      "\n",
      "Attaching package: ‘data.table’\n",
      "\n",
      "\n",
      "The following objects are masked from ‘package:dplyr’:\n",
      "\n",
      "    between, first, last\n",
      "\n",
      "\n",
      "Loading required package: grid\n",
      "\n",
      "Loading required package: libcoin\n",
      "\n",
      "Loading required package: mvtnorm\n",
      "\n",
      "Loading required package: lattice\n",
      "\n",
      "Loading required package: ggplot2\n",
      "\n",
      "randomForest 4.6-14\n",
      "\n",
      "Type rfNews() to see new features/changes/bug fixes.\n",
      "\n",
      "\n",
      "Attaching package: ‘randomForest’\n",
      "\n",
      "\n",
      "The following object is masked from ‘package:ggplot2’:\n",
      "\n",
      "    margin\n",
      "\n",
      "\n",
      "The following object is masked from ‘package:dplyr’:\n",
      "\n",
      "    combine\n",
      "\n",
      "\n",
      "\n",
      "Attaching package: ‘ranger’\n",
      "\n",
      "\n",
      "The following object is masked from ‘package:randomForest’:\n",
      "\n",
      "    importance\n",
      "\n",
      "\n",
      "\n",
      "Attaching package: ‘plotly’\n",
      "\n",
      "\n",
      "The following object is masked from ‘package:ggplot2’:\n",
      "\n",
      "    last_plot\n",
      "\n",
      "\n",
      "The following object is masked from ‘package:stats’:\n",
      "\n",
      "    filter\n",
      "\n",
      "\n",
      "The following object is masked from ‘package:graphics’:\n",
      "\n",
      "    layout\n",
      "\n",
      "\n",
      "Loading required package: RJSONIO\n",
      "\n"
     ]
    },
    {
     "data": {
      "text/html": [
       "'/home/jupyter/local/Domains_202003/scripts/phaseII_06'"
      ],
      "text/latex": [
       "'/home/jupyter/local/Domains\\_202003/scripts/phaseII\\_06'"
      ],
      "text/markdown": [
       "'/home/jupyter/local/Domains_202003/scripts/phaseII_06'"
      ],
      "text/plain": [
       "[1] \"/home/jupyter/local/Domains_202003/scripts/phaseII_06\""
      ]
     },
     "metadata": {},
     "output_type": "display_data"
    }
   ],
   "source": [
    "library(dplyr)\n",
    "library(data.table)\n",
    "library(partykit)\n",
    "library(tictoc)\n",
    "library(caret)\n",
    "library(e1071)\n",
    "library(randomForest)\n",
    "library(ranger)\n",
    "\n",
    "#for 3d plotting\n",
    "library(akima)\n",
    "library(plotly)\n",
    "\n",
    "# for prep data\n",
    "library(rPython)\n",
    "library(stringr)\n",
    "library(pbapply)\n",
    "library(stringdist)\n",
    "library(data.table)\n",
    "library(dominanceanalysis)\n",
    "\n",
    "\n",
    "getwd()"
   ]
  },
  {
   "cell_type": "code",
   "execution_count": 4,
   "metadata": {},
   "outputs": [],
   "source": [
    "\n",
    "source('../orig/functions.R')\n",
    "\n",
    "source('../orig/functions_models.R')\n",
    "\n",
    "source('../phaseII_03_forest/functions_eval.R')\n",
    "\n",
    "\n",
    "source('../phaseII_03_forest/load_prep_data_expiry.R')\n",
    "\n",
    "# expiry_train_prepped_2_1 (list, less df's w/ 0 obs)\n",
    "# expiry_test_prepped_2_1  (list, less df's w/ 0 obs)\n",
    "# expiry_train_df_1 (above, rbound)\n",
    "# expiry_test_df_1 (above, rbound)\n",
    "# expiry_train_df_sub (subset vars)                                        \n",
    "# expiry_test_df_sub (subset vars)"
   ]
  },
  {
   "cell_type": "markdown",
   "metadata": {},
   "source": [
    "## Load PREPed tld_reseller compare"
   ]
  },
  {
   "cell_type": "code",
   "execution_count": 8,
   "metadata": {},
   "outputs": [
    {
     "data": {
      "text/html": [
       "<style>\n",
       ".list-inline {list-style: none; margin:0; padding: 0}\n",
       ".list-inline>li {display: inline-block}\n",
       ".list-inline>li:not(:last-child)::after {content: \"\\00b7\"; padding: 0 .5ex}\n",
       "</style>\n",
       "<ol class=list-inline><li>297100</li><li>12</li></ol>\n"
      ],
      "text/latex": [
       "\\begin{enumerate*}\n",
       "\\item 297100\n",
       "\\item 12\n",
       "\\end{enumerate*}\n"
      ],
      "text/markdown": [
       "1. 297100\n",
       "2. 12\n",
       "\n",
       "\n"
      ],
      "text/plain": [
       "[1] 297100     12"
      ]
     },
     "metadata": {},
     "output_type": "display_data"
    },
    {
     "data": {
      "text/html": [
       "<table>\n",
       "<caption>A data.frame: 6 × 12</caption>\n",
       "<thead>\n",
       "\t<tr><th></th><th scope=col>actual</th><th scope=col>pred_df_seg2_glm</th><th scope=col>pred_df_seg_glm</th><th scope=col>pred_df_agg_glm</th><th scope=col>pred_df_seg2_rf</th><th scope=col>pred_df_seg_rf</th><th scope=col>pred_df_agg_rf</th><th scope=col>tld_registrar_index</th><th scope=col>reseller</th><th scope=col>n</th><th scope=col>domain_id</th><th scope=col>domain</th></tr>\n",
       "\t<tr><th></th><th scope=col>&lt;fct&gt;</th><th scope=col>&lt;dbl&gt;</th><th scope=col>&lt;dbl&gt;</th><th scope=col>&lt;dbl&gt;</th><th scope=col>&lt;dbl&gt;</th><th scope=col>&lt;dbl&gt;</th><th scope=col>&lt;dbl&gt;</th><th scope=col>&lt;fct&gt;</th><th scope=col>&lt;fct&gt;</th><th scope=col>&lt;int&gt;</th><th scope=col>&lt;int&gt;</th><th scope=col>&lt;fct&gt;</th></tr>\n",
       "</thead>\n",
       "<tbody>\n",
       "\t<tr><th scope=row>1</th><td>Not Renewd</td><td>0.6470992</td><td>0.558</td><td>0.419</td><td>0.4765771</td><td>0.4545657</td><td>0.5386137</td><td>sitegmo</td><td>gmo</td><td>106569</td><td>44295183</td><td>kagen.site           </td></tr>\n",
       "\t<tr><th scope=row>2</th><td>Renewed   </td><td>0.6762222</td><td>0.567</td><td>0.397</td><td>0.5410605</td><td>0.5769973</td><td>0.6091513</td><td>sitegmo</td><td>gmo</td><td>106569</td><td>44573611</td><td>designlab.site       </td></tr>\n",
       "\t<tr><th scope=row>3</th><td>Renewed   </td><td>0.9098495</td><td>0.835</td><td>0.410</td><td>0.7018108</td><td>0.6343404</td><td>0.6886680</td><td>sitegmo</td><td>gmo</td><td>106569</td><td>45304858</td><td>hokatu-blog.site     </td></tr>\n",
       "\t<tr><th scope=row>4</th><td>Renewed   </td><td>0.6029350</td><td>0.515</td><td>0.402</td><td>0.2414726</td><td>0.3999603</td><td>0.3464197</td><td>sitegmo</td><td>gmo</td><td>106569</td><td>46235129</td><td>suzuya.site          </td></tr>\n",
       "\t<tr><th scope=row>5</th><td>Not Renewd</td><td>0.9311321</td><td>0.863</td><td>0.417</td><td>0.7749462</td><td>0.7039504</td><td>0.6711740</td><td>sitegmo</td><td>gmo</td><td>106569</td><td>46276970</td><td>wins-company.site    </td></tr>\n",
       "\t<tr><th scope=row>6</th><td>Renewed   </td><td>0.9347869</td><td>0.861</td><td>0.391</td><td>0.6376848</td><td>0.6566740</td><td>0.6717237</td><td>sitegmo</td><td>gmo</td><td>106569</td><td>47809960</td><td>yamatoku-company.site</td></tr>\n",
       "</tbody>\n",
       "</table>\n"
      ],
      "text/latex": [
       "A data.frame: 6 × 12\n",
       "\\begin{tabular}{r|llllllllllll}\n",
       "  & actual & pred\\_df\\_seg2\\_glm & pred\\_df\\_seg\\_glm & pred\\_df\\_agg\\_glm & pred\\_df\\_seg2\\_rf & pred\\_df\\_seg\\_rf & pred\\_df\\_agg\\_rf & tld\\_registrar\\_index & reseller & n & domain\\_id & domain\\\\\n",
       "  & <fct> & <dbl> & <dbl> & <dbl> & <dbl> & <dbl> & <dbl> & <fct> & <fct> & <int> & <int> & <fct>\\\\\n",
       "\\hline\n",
       "\t1 & Not Renewd & 0.6470992 & 0.558 & 0.419 & 0.4765771 & 0.4545657 & 0.5386137 & sitegmo & gmo & 106569 & 44295183 & kagen.site           \\\\\n",
       "\t2 & Renewed    & 0.6762222 & 0.567 & 0.397 & 0.5410605 & 0.5769973 & 0.6091513 & sitegmo & gmo & 106569 & 44573611 & designlab.site       \\\\\n",
       "\t3 & Renewed    & 0.9098495 & 0.835 & 0.410 & 0.7018108 & 0.6343404 & 0.6886680 & sitegmo & gmo & 106569 & 45304858 & hokatu-blog.site     \\\\\n",
       "\t4 & Renewed    & 0.6029350 & 0.515 & 0.402 & 0.2414726 & 0.3999603 & 0.3464197 & sitegmo & gmo & 106569 & 46235129 & suzuya.site          \\\\\n",
       "\t5 & Not Renewd & 0.9311321 & 0.863 & 0.417 & 0.7749462 & 0.7039504 & 0.6711740 & sitegmo & gmo & 106569 & 46276970 & wins-company.site    \\\\\n",
       "\t6 & Renewed    & 0.9347869 & 0.861 & 0.391 & 0.6376848 & 0.6566740 & 0.6717237 & sitegmo & gmo & 106569 & 47809960 & yamatoku-company.site\\\\\n",
       "\\end{tabular}\n"
      ],
      "text/markdown": [
       "\n",
       "A data.frame: 6 × 12\n",
       "\n",
       "| <!--/--> | actual &lt;fct&gt; | pred_df_seg2_glm &lt;dbl&gt; | pred_df_seg_glm &lt;dbl&gt; | pred_df_agg_glm &lt;dbl&gt; | pred_df_seg2_rf &lt;dbl&gt; | pred_df_seg_rf &lt;dbl&gt; | pred_df_agg_rf &lt;dbl&gt; | tld_registrar_index &lt;fct&gt; | reseller &lt;fct&gt; | n &lt;int&gt; | domain_id &lt;int&gt; | domain &lt;fct&gt; |\n",
       "|---|---|---|---|---|---|---|---|---|---|---|---|---|\n",
       "| 1 | Not Renewd | 0.6470992 | 0.558 | 0.419 | 0.4765771 | 0.4545657 | 0.5386137 | sitegmo | gmo | 106569 | 44295183 | kagen.site            |\n",
       "| 2 | Renewed    | 0.6762222 | 0.567 | 0.397 | 0.5410605 | 0.5769973 | 0.6091513 | sitegmo | gmo | 106569 | 44573611 | designlab.site        |\n",
       "| 3 | Renewed    | 0.9098495 | 0.835 | 0.410 | 0.7018108 | 0.6343404 | 0.6886680 | sitegmo | gmo | 106569 | 45304858 | hokatu-blog.site      |\n",
       "| 4 | Renewed    | 0.6029350 | 0.515 | 0.402 | 0.2414726 | 0.3999603 | 0.3464197 | sitegmo | gmo | 106569 | 46235129 | suzuya.site           |\n",
       "| 5 | Not Renewd | 0.9311321 | 0.863 | 0.417 | 0.7749462 | 0.7039504 | 0.6711740 | sitegmo | gmo | 106569 | 46276970 | wins-company.site     |\n",
       "| 6 | Renewed    | 0.9347869 | 0.861 | 0.391 | 0.6376848 | 0.6566740 | 0.6717237 | sitegmo | gmo | 106569 | 47809960 | yamatoku-company.site |\n",
       "\n"
      ],
      "text/plain": [
       "  actual     pred_df_seg2_glm pred_df_seg_glm pred_df_agg_glm pred_df_seg2_rf\n",
       "1 Not Renewd 0.6470992        0.558           0.419           0.4765771      \n",
       "2 Renewed    0.6762222        0.567           0.397           0.5410605      \n",
       "3 Renewed    0.9098495        0.835           0.410           0.7018108      \n",
       "4 Renewed    0.6029350        0.515           0.402           0.2414726      \n",
       "5 Not Renewd 0.9311321        0.863           0.417           0.7749462      \n",
       "6 Renewed    0.9347869        0.861           0.391           0.6376848      \n",
       "  pred_df_seg_rf pred_df_agg_rf tld_registrar_index reseller n      domain_id\n",
       "1 0.4545657      0.5386137      sitegmo             gmo      106569 44295183 \n",
       "2 0.5769973      0.6091513      sitegmo             gmo      106569 44573611 \n",
       "3 0.6343404      0.6886680      sitegmo             gmo      106569 45304858 \n",
       "4 0.3999603      0.3464197      sitegmo             gmo      106569 46235129 \n",
       "5 0.7039504      0.6711740      sitegmo             gmo      106569 46276970 \n",
       "6 0.6566740      0.6717237      sitegmo             gmo      106569 47809960 \n",
       "  domain               \n",
       "1 kagen.site           \n",
       "2 designlab.site       \n",
       "3 hokatu-blog.site     \n",
       "4 suzuya.site          \n",
       "5 wins-company.site    \n",
       "6 yamatoku-company.site"
      ]
     },
     "metadata": {},
     "output_type": "display_data"
    },
    {
     "data": {
      "text/html": [
       "<style>\n",
       ".list-inline {list-style: none; margin:0; padding: 0}\n",
       ".list-inline>li {display: inline-block}\n",
       ".list-inline>li:not(:last-child)::after {content: \"\\00b7\"; padding: 0 .5ex}\n",
       "</style>\n",
       "<ol class=list-inline><li>1723</li><li>15</li></ol>\n"
      ],
      "text/latex": [
       "\\begin{enumerate*}\n",
       "\\item 1723\n",
       "\\item 15\n",
       "\\end{enumerate*}\n"
      ],
      "text/markdown": [
       "1. 1723\n",
       "2. 15\n",
       "\n",
       "\n"
      ],
      "text/plain": [
       "[1] 1723   15"
      ]
     },
     "metadata": {},
     "output_type": "display_data"
    },
    {
     "data": {
      "text/html": [
       "<table>\n",
       "<caption>A data.frame: 6 × 15</caption>\n",
       "<thead>\n",
       "\t<tr><th></th><th scope=col>tld_registrar_index</th><th scope=col>reseller</th><th scope=col>n</th><th scope=col>l10_seg2_glm</th><th scope=col>l10_seg_glm</th><th scope=col>l10_agg_glm</th><th scope=col>l10_seg2_rf</th><th scope=col>l10_seg_rf</th><th scope=col>l10_agg_rf</th><th scope=col>auc_seg2_glm</th><th scope=col>auc_seg_glm</th><th scope=col>auc_agg_glm</th><th scope=col>auc_seg2_rf</th><th scope=col>auc_seg_rf</th><th scope=col>auc_agg_rf</th></tr>\n",
       "\t<tr><th></th><th scope=col>&lt;fct&gt;</th><th scope=col>&lt;fct&gt;</th><th scope=col>&lt;int&gt;</th><th scope=col>&lt;dbl&gt;</th><th scope=col>&lt;dbl&gt;</th><th scope=col>&lt;dbl&gt;</th><th scope=col>&lt;dbl&gt;</th><th scope=col>&lt;dbl&gt;</th><th scope=col>&lt;dbl&gt;</th><th scope=col>&lt;dbl&gt;</th><th scope=col>&lt;dbl&gt;</th><th scope=col>&lt;dbl&gt;</th><th scope=col>&lt;dbl&gt;</th><th scope=col>&lt;dbl&gt;</th><th scope=col>&lt;dbl&gt;</th></tr>\n",
       "</thead>\n",
       "<tbody>\n",
       "\t<tr><th scope=row>1</th><td>sitegmo       </td><td>gmo      </td><td>106569</td><td>8.204334</td><td>8.126935</td><td>6.408669</td><td>8.777090</td><td>8.761610</td><td>8.591331</td><td>0.8958204</td><td>0.8825077</td><td>0.8729102</td><td>0.9345201</td><td>0.9348297</td><td>0.9329721</td></tr>\n",
       "\t<tr><th scope=row>2</th><td>funalibaba    </td><td>alibaba  </td><td> 72690</td><td>4.883721</td><td>5.255814</td><td>5.023256</td><td>5.813953</td><td>6.000000</td><td>6.186047</td><td>0.8262791</td><td>0.8430233</td><td>0.8518605</td><td>0.8769767</td><td>0.8779070</td><td>0.8793023</td></tr>\n",
       "\t<tr><th scope=row>3</th><td>sitenamecheap </td><td>namecheap</td><td> 53536</td><td>2.298025</td><td>1.921005</td><td>1.885099</td><td>2.280072</td><td>2.028725</td><td>2.046679</td><td>0.6862657</td><td>0.6196589</td><td>0.6338420</td><td>0.6654399</td><td>0.6792639</td><td>0.6893178</td></tr>\n",
       "\t<tr><th scope=row>4</th><td>pwnamecheap   </td><td>namecheap</td><td> 50470</td><td>3.478261</td><td>3.675889</td><td>3.675889</td><td>3.438735</td><td>4.071146</td><td>4.308300</td><td>0.7274704</td><td>0.6551383</td><td>0.6361660</td><td>0.7167984</td><td>0.7405138</td><td>0.7507905</td></tr>\n",
       "\t<tr><th scope=row>5</th><td>onlinego daddy</td><td>go daddy </td><td> 42162</td><td>2.850995</td><td>2.883271</td><td>2.474449</td><td>2.598171</td><td>2.727273</td><td>2.646584</td><td>0.6506455</td><td>0.6493007</td><td>0.6381119</td><td>0.6095481</td><td>0.6266541</td><td>0.6249328</td></tr>\n",
       "\t<tr><th scope=row>6</th><td>sitegandi sas </td><td>gandi sas</td><td> 35309</td><td>8.243243</td><td>8.445946</td><td>7.094595</td><td>4.932432</td><td>8.445946</td><td>8.581081</td><td>0.9202703</td><td>0.9195946</td><td>0.9189189</td><td>0.7162162</td><td>0.9344595</td><td>0.9358108</td></tr>\n",
       "</tbody>\n",
       "</table>\n"
      ],
      "text/latex": [
       "A data.frame: 6 × 15\n",
       "\\begin{tabular}{r|lllllllllllllll}\n",
       "  & tld\\_registrar\\_index & reseller & n & l10\\_seg2\\_glm & l10\\_seg\\_glm & l10\\_agg\\_glm & l10\\_seg2\\_rf & l10\\_seg\\_rf & l10\\_agg\\_rf & auc\\_seg2\\_glm & auc\\_seg\\_glm & auc\\_agg\\_glm & auc\\_seg2\\_rf & auc\\_seg\\_rf & auc\\_agg\\_rf\\\\\n",
       "  & <fct> & <fct> & <int> & <dbl> & <dbl> & <dbl> & <dbl> & <dbl> & <dbl> & <dbl> & <dbl> & <dbl> & <dbl> & <dbl> & <dbl>\\\\\n",
       "\\hline\n",
       "\t1 & sitegmo        & gmo       & 106569 & 8.204334 & 8.126935 & 6.408669 & 8.777090 & 8.761610 & 8.591331 & 0.8958204 & 0.8825077 & 0.8729102 & 0.9345201 & 0.9348297 & 0.9329721\\\\\n",
       "\t2 & funalibaba     & alibaba   &  72690 & 4.883721 & 5.255814 & 5.023256 & 5.813953 & 6.000000 & 6.186047 & 0.8262791 & 0.8430233 & 0.8518605 & 0.8769767 & 0.8779070 & 0.8793023\\\\\n",
       "\t3 & sitenamecheap  & namecheap &  53536 & 2.298025 & 1.921005 & 1.885099 & 2.280072 & 2.028725 & 2.046679 & 0.6862657 & 0.6196589 & 0.6338420 & 0.6654399 & 0.6792639 & 0.6893178\\\\\n",
       "\t4 & pwnamecheap    & namecheap &  50470 & 3.478261 & 3.675889 & 3.675889 & 3.438735 & 4.071146 & 4.308300 & 0.7274704 & 0.6551383 & 0.6361660 & 0.7167984 & 0.7405138 & 0.7507905\\\\\n",
       "\t5 & onlinego daddy & go daddy  &  42162 & 2.850995 & 2.883271 & 2.474449 & 2.598171 & 2.727273 & 2.646584 & 0.6506455 & 0.6493007 & 0.6381119 & 0.6095481 & 0.6266541 & 0.6249328\\\\\n",
       "\t6 & sitegandi sas  & gandi sas &  35309 & 8.243243 & 8.445946 & 7.094595 & 4.932432 & 8.445946 & 8.581081 & 0.9202703 & 0.9195946 & 0.9189189 & 0.7162162 & 0.9344595 & 0.9358108\\\\\n",
       "\\end{tabular}\n"
      ],
      "text/markdown": [
       "\n",
       "A data.frame: 6 × 15\n",
       "\n",
       "| <!--/--> | tld_registrar_index &lt;fct&gt; | reseller &lt;fct&gt; | n &lt;int&gt; | l10_seg2_glm &lt;dbl&gt; | l10_seg_glm &lt;dbl&gt; | l10_agg_glm &lt;dbl&gt; | l10_seg2_rf &lt;dbl&gt; | l10_seg_rf &lt;dbl&gt; | l10_agg_rf &lt;dbl&gt; | auc_seg2_glm &lt;dbl&gt; | auc_seg_glm &lt;dbl&gt; | auc_agg_glm &lt;dbl&gt; | auc_seg2_rf &lt;dbl&gt; | auc_seg_rf &lt;dbl&gt; | auc_agg_rf &lt;dbl&gt; |\n",
       "|---|---|---|---|---|---|---|---|---|---|---|---|---|---|---|---|\n",
       "| 1 | sitegmo        | gmo       | 106569 | 8.204334 | 8.126935 | 6.408669 | 8.777090 | 8.761610 | 8.591331 | 0.8958204 | 0.8825077 | 0.8729102 | 0.9345201 | 0.9348297 | 0.9329721 |\n",
       "| 2 | funalibaba     | alibaba   |  72690 | 4.883721 | 5.255814 | 5.023256 | 5.813953 | 6.000000 | 6.186047 | 0.8262791 | 0.8430233 | 0.8518605 | 0.8769767 | 0.8779070 | 0.8793023 |\n",
       "| 3 | sitenamecheap  | namecheap |  53536 | 2.298025 | 1.921005 | 1.885099 | 2.280072 | 2.028725 | 2.046679 | 0.6862657 | 0.6196589 | 0.6338420 | 0.6654399 | 0.6792639 | 0.6893178 |\n",
       "| 4 | pwnamecheap    | namecheap |  50470 | 3.478261 | 3.675889 | 3.675889 | 3.438735 | 4.071146 | 4.308300 | 0.7274704 | 0.6551383 | 0.6361660 | 0.7167984 | 0.7405138 | 0.7507905 |\n",
       "| 5 | onlinego daddy | go daddy  |  42162 | 2.850995 | 2.883271 | 2.474449 | 2.598171 | 2.727273 | 2.646584 | 0.6506455 | 0.6493007 | 0.6381119 | 0.6095481 | 0.6266541 | 0.6249328 |\n",
       "| 6 | sitegandi sas  | gandi sas |  35309 | 8.243243 | 8.445946 | 7.094595 | 4.932432 | 8.445946 | 8.581081 | 0.9202703 | 0.9195946 | 0.9189189 | 0.7162162 | 0.9344595 | 0.9358108 |\n",
       "\n"
      ],
      "text/plain": [
       "  tld_registrar_index reseller  n      l10_seg2_glm l10_seg_glm l10_agg_glm\n",
       "1 sitegmo             gmo       106569 8.204334     8.126935    6.408669   \n",
       "2 funalibaba          alibaba    72690 4.883721     5.255814    5.023256   \n",
       "3 sitenamecheap       namecheap  53536 2.298025     1.921005    1.885099   \n",
       "4 pwnamecheap         namecheap  50470 3.478261     3.675889    3.675889   \n",
       "5 onlinego daddy      go daddy   42162 2.850995     2.883271    2.474449   \n",
       "6 sitegandi sas       gandi sas  35309 8.243243     8.445946    7.094595   \n",
       "  l10_seg2_rf l10_seg_rf l10_agg_rf auc_seg2_glm auc_seg_glm auc_agg_glm\n",
       "1 8.777090    8.761610   8.591331   0.8958204    0.8825077   0.8729102  \n",
       "2 5.813953    6.000000   6.186047   0.8262791    0.8430233   0.8518605  \n",
       "3 2.280072    2.028725   2.046679   0.6862657    0.6196589   0.6338420  \n",
       "4 3.438735    4.071146   4.308300   0.7274704    0.6551383   0.6361660  \n",
       "5 2.598171    2.727273   2.646584   0.6506455    0.6493007   0.6381119  \n",
       "6 4.932432    8.445946   8.581081   0.9202703    0.9195946   0.9189189  \n",
       "  auc_seg2_rf auc_seg_rf auc_agg_rf\n",
       "1 0.9345201   0.9348297  0.9329721 \n",
       "2 0.8769767   0.8779070  0.8793023 \n",
       "3 0.6654399   0.6792639  0.6893178 \n",
       "4 0.7167984   0.7405138  0.7507905 \n",
       "5 0.6095481   0.6266541  0.6249328 \n",
       "6 0.7162162   0.9344595  0.9358108 "
      ]
     },
     "metadata": {},
     "output_type": "display_data"
    }
   ],
   "source": [
    "predictions_df <- read.csv(\"../../data/tld_reseller_compare_predictions.csv\")\n",
    "metrics_df <- read.csv(\"../../data/tld_reseller_compare_metrics.csv\")\n",
    "\n",
    "dim(predictions_df)\n",
    "head(predictions_df)\n",
    "dim(metrics_df)\n",
    "head(metrics_df)"
   ]
  },
  {
   "cell_type": "code",
   "execution_count": 26,
   "metadata": {},
   "outputs": [
    {
     "data": {
      "text/html": [
       "0.0912420060585661"
      ],
      "text/latex": [
       "0.0912420060585661"
      ],
      "text/markdown": [
       "0.0912420060585661"
      ],
      "text/plain": [
       "[1] 0.09124201"
      ]
     },
     "metadata": {},
     "output_type": "display_data"
    },
    {
     "data": {
      "text/html": [
       "0.0913622438146467"
      ],
      "text/latex": [
       "0.0913622438146467"
      ],
      "text/markdown": [
       "0.0913622438146467"
      ],
      "text/plain": [
       "[1] 0.09136224"
      ]
     },
     "metadata": {},
     "output_type": "display_data"
    }
   ],
   "source": [
    "sum(predictions_df$actual=='Renewed', na.rm=TRUE)/nrow(predictions_df)\n",
    "sum(predictions_df$actual=='Renewed', na.rm=TRUE)/(nrow(predictions_df)-sum(is.na(predictions_df$actual)))"
   ]
  },
  {
   "cell_type": "markdown",
   "metadata": {},
   "source": [
    "## tld-reg predicted vs. actual rate summary"
   ]
  },
  {
   "cell_type": "code",
   "execution_count": 34,
   "metadata": {},
   "outputs": [
    {
     "name": "stderr",
     "output_type": "stream",
     "text": [
      "`summarise()` ungrouping output (override with `.groups` argument)\n",
      "\n"
     ]
    },
    {
     "data": {
      "text/html": [
       "<table>\n",
       "<caption>A tibble: 6 × 9</caption>\n",
       "<thead>\n",
       "\t<tr><th scope=col>tld_registrar_index</th><th scope=col>actual_rate</th><th scope=col>pred50_seg2_glm</th><th scope=col>pred50_seg_glm</th><th scope=col>pred50_agg_glm</th><th scope=col>pred50_seg2_rf</th><th scope=col>pred50_seg_rf</th><th scope=col>pred50_agg_rf</th><th scope=col>count</th></tr>\n",
       "\t<tr><th scope=col>&lt;fct&gt;</th><th scope=col>&lt;dbl&gt;</th><th scope=col>&lt;dbl&gt;</th><th scope=col>&lt;dbl&gt;</th><th scope=col>&lt;dbl&gt;</th><th scope=col>&lt;dbl&gt;</th><th scope=col>&lt;dbl&gt;</th><th scope=col>&lt;dbl&gt;</th><th scope=col>&lt;int&gt;</th></tr>\n",
       "</thead>\n",
       "<tbody>\n",
       "\t<tr><td>sitegmo       </td><td>0.02445210</td><td>0.00166546803</td><td>0.0011355464</td><td>0.000000000</td><td>0.0008705856</td><td>0.0004163670</td><td>0.00045421855</td><td>26419</td></tr>\n",
       "\t<tr><td>funalibaba    </td><td>0.01180800</td><td>0.00005492091</td><td>0.0000000000</td><td>0.000000000</td><td>0.0001098418</td><td>0.0000000000</td><td>0.00005492091</td><td>18208</td></tr>\n",
       "\t<tr><td>sitenamecheap </td><td>0.04168538</td><td>0.00014967819</td><td>0.0000000000</td><td>0.000000000</td><td>0.0003741955</td><td>0.0000748391</td><td>0.00014967819</td><td>13362</td></tr>\n",
       "\t<tr><td>pwnamecheap   </td><td>0.02003008</td><td>0.00023751089</td><td>0.0002375109</td><td>0.000000000</td><td>0.0006333624</td><td>0.0005541921</td><td>0.00031668118</td><td>12631</td></tr>\n",
       "\t<tr><td>onlinego daddy</td><td>0.17398222</td><td>0.04445484324</td><td>0.0456715021</td><td>0.001216659</td><td>0.0208703790</td><td>0.0149742630</td><td>0.01422554984</td><td>10685</td></tr>\n",
       "\t<tr><td>sitegandi sas </td><td>0.01697442</td><td>0.00000000000</td><td>0.0002293841</td><td>0.000000000</td><td>0.0006881523</td><td>0.0000000000</td><td>0.00000000000</td><td> 8719</td></tr>\n",
       "</tbody>\n",
       "</table>\n"
      ],
      "text/latex": [
       "A tibble: 6 × 9\n",
       "\\begin{tabular}{lllllllll}\n",
       " tld\\_registrar\\_index & actual\\_rate & pred50\\_seg2\\_glm & pred50\\_seg\\_glm & pred50\\_agg\\_glm & pred50\\_seg2\\_rf & pred50\\_seg\\_rf & pred50\\_agg\\_rf & count\\\\\n",
       " <fct> & <dbl> & <dbl> & <dbl> & <dbl> & <dbl> & <dbl> & <dbl> & <int>\\\\\n",
       "\\hline\n",
       "\t sitegmo        & 0.02445210 & 0.00166546803 & 0.0011355464 & 0.000000000 & 0.0008705856 & 0.0004163670 & 0.00045421855 & 26419\\\\\n",
       "\t funalibaba     & 0.01180800 & 0.00005492091 & 0.0000000000 & 0.000000000 & 0.0001098418 & 0.0000000000 & 0.00005492091 & 18208\\\\\n",
       "\t sitenamecheap  & 0.04168538 & 0.00014967819 & 0.0000000000 & 0.000000000 & 0.0003741955 & 0.0000748391 & 0.00014967819 & 13362\\\\\n",
       "\t pwnamecheap    & 0.02003008 & 0.00023751089 & 0.0002375109 & 0.000000000 & 0.0006333624 & 0.0005541921 & 0.00031668118 & 12631\\\\\n",
       "\t onlinego daddy & 0.17398222 & 0.04445484324 & 0.0456715021 & 0.001216659 & 0.0208703790 & 0.0149742630 & 0.01422554984 & 10685\\\\\n",
       "\t sitegandi sas  & 0.01697442 & 0.00000000000 & 0.0002293841 & 0.000000000 & 0.0006881523 & 0.0000000000 & 0.00000000000 &  8719\\\\\n",
       "\\end{tabular}\n"
      ],
      "text/markdown": [
       "\n",
       "A tibble: 6 × 9\n",
       "\n",
       "| tld_registrar_index &lt;fct&gt; | actual_rate &lt;dbl&gt; | pred50_seg2_glm &lt;dbl&gt; | pred50_seg_glm &lt;dbl&gt; | pred50_agg_glm &lt;dbl&gt; | pred50_seg2_rf &lt;dbl&gt; | pred50_seg_rf &lt;dbl&gt; | pred50_agg_rf &lt;dbl&gt; | count &lt;int&gt; |\n",
       "|---|---|---|---|---|---|---|---|---|\n",
       "| sitegmo        | 0.02445210 | 0.00166546803 | 0.0011355464 | 0.000000000 | 0.0008705856 | 0.0004163670 | 0.00045421855 | 26419 |\n",
       "| funalibaba     | 0.01180800 | 0.00005492091 | 0.0000000000 | 0.000000000 | 0.0001098418 | 0.0000000000 | 0.00005492091 | 18208 |\n",
       "| sitenamecheap  | 0.04168538 | 0.00014967819 | 0.0000000000 | 0.000000000 | 0.0003741955 | 0.0000748391 | 0.00014967819 | 13362 |\n",
       "| pwnamecheap    | 0.02003008 | 0.00023751089 | 0.0002375109 | 0.000000000 | 0.0006333624 | 0.0005541921 | 0.00031668118 | 12631 |\n",
       "| onlinego daddy | 0.17398222 | 0.04445484324 | 0.0456715021 | 0.001216659 | 0.0208703790 | 0.0149742630 | 0.01422554984 | 10685 |\n",
       "| sitegandi sas  | 0.01697442 | 0.00000000000 | 0.0002293841 | 0.000000000 | 0.0006881523 | 0.0000000000 | 0.00000000000 |  8719 |\n",
       "\n"
      ],
      "text/plain": [
       "  tld_registrar_index actual_rate pred50_seg2_glm pred50_seg_glm pred50_agg_glm\n",
       "1 sitegmo             0.02445210  0.00166546803   0.0011355464   0.000000000   \n",
       "2 funalibaba          0.01180800  0.00005492091   0.0000000000   0.000000000   \n",
       "3 sitenamecheap       0.04168538  0.00014967819   0.0000000000   0.000000000   \n",
       "4 pwnamecheap         0.02003008  0.00023751089   0.0002375109   0.000000000   \n",
       "5 onlinego daddy      0.17398222  0.04445484324   0.0456715021   0.001216659   \n",
       "6 sitegandi sas       0.01697442  0.00000000000   0.0002293841   0.000000000   \n",
       "  pred50_seg2_rf pred50_seg_rf pred50_agg_rf count\n",
       "1 0.0008705856   0.0004163670  0.00045421855 26419\n",
       "2 0.0001098418   0.0000000000  0.00005492091 18208\n",
       "3 0.0003741955   0.0000748391  0.00014967819 13362\n",
       "4 0.0006333624   0.0005541921  0.00031668118 12631\n",
       "5 0.0208703790   0.0149742630  0.01422554984 10685\n",
       "6 0.0006881523   0.0000000000  0.00000000000  8719"
      ]
     },
     "metadata": {},
     "output_type": "display_data"
    }
   ],
   "source": [
    "options(scipen=999)\n",
    "pred50_df <- predictions_df %>% \n",
    "  group_by(tld_registrar_index) %>% \n",
    "  summarise(\n",
    "            actual_rate = sum( actual == 'Renewed' )/n(),\n",
    "            pred50_seg2_glm = sum( pred_df_seg2_glm > 0.5 )/n(),\n",
    "            pred50_seg_glm = sum( pred_df_seg_glm > 0.5 )/n(),\n",
    "            pred50_agg_glm = sum( pred_df_agg_glm > 0.5 )/n(),\n",
    "            pred50_seg2_rf = sum( pred_df_seg2_rf > 0.5 )/n(),\n",
    "            pred50_seg_rf = sum( pred_df_seg_rf > 0.5 )/n(),\n",
    "            pred50_agg_rf = sum( pred_df_agg_rf > 0.5 )/n(),\n",
    "            count = n()) %>% \n",
    "  arrange(desc(count)) \n",
    "head(pred50_df)"
   ]
  },
  {
   "cell_type": "code",
   "execution_count": 37,
   "metadata": {},
   "outputs": [
    {
     "name": "stderr",
     "output_type": "stream",
     "text": [
      "`summarise()` ungrouping output (override with `.groups` argument)\n",
      "\n"
     ]
    },
    {
     "data": {
      "text/html": [
       "<table>\n",
       "<caption>A tibble: 6 × 9</caption>\n",
       "<thead>\n",
       "\t<tr><th scope=col>tld_registrar_index</th><th scope=col>actual_count</th><th scope=col>sum_seg2_glm</th><th scope=col>sum_seg_glm</th><th scope=col>sum_agg_glm</th><th scope=col>sum_seg2_rf</th><th scope=col>sum_seg_rf</th><th scope=col>sum_agg_rf</th><th scope=col>count</th></tr>\n",
       "\t<tr><th scope=col>&lt;fct&gt;</th><th scope=col>&lt;int&gt;</th><th scope=col>&lt;dbl&gt;</th><th scope=col>&lt;dbl&gt;</th><th scope=col>&lt;dbl&gt;</th><th scope=col>&lt;dbl&gt;</th><th scope=col>&lt;dbl&gt;</th><th scope=col>&lt;dbl&gt;</th><th scope=col>&lt;int&gt;</th></tr>\n",
       "</thead>\n",
       "<tbody>\n",
       "\t<tr><td>sitegmo       </td><td> 646</td><td>1172</td><td>1244</td><td>1480</td><td>1302</td><td>1202</td><td>1198</td><td>26419</td></tr>\n",
       "\t<tr><td>funalibaba    </td><td> 215</td><td> 451</td><td> 580</td><td> 527</td><td> 484</td><td> 519</td><td> 526</td><td>18208</td></tr>\n",
       "\t<tr><td>sitenamecheap </td><td> 557</td><td> 709</td><td> 933</td><td>1041</td><td> 965</td><td> 952</td><td> 911</td><td>13362</td></tr>\n",
       "\t<tr><td>pwnamecheap   </td><td> 253</td><td> 497</td><td> 564</td><td> 569</td><td> 837</td><td> 724</td><td> 666</td><td>12631</td></tr>\n",
       "\t<tr><td>onlinego daddy</td><td>1859</td><td>2581</td><td>2467</td><td>2381</td><td>1993</td><td>1891</td><td>1953</td><td>10685</td></tr>\n",
       "\t<tr><td>sitegandi sas </td><td> 148</td><td> 165</td><td> 284</td><td> 180</td><td>1133</td><td> 338</td><td> 263</td><td> 8719</td></tr>\n",
       "</tbody>\n",
       "</table>\n"
      ],
      "text/latex": [
       "A tibble: 6 × 9\n",
       "\\begin{tabular}{lllllllll}\n",
       " tld\\_registrar\\_index & actual\\_count & sum\\_seg2\\_glm & sum\\_seg\\_glm & sum\\_agg\\_glm & sum\\_seg2\\_rf & sum\\_seg\\_rf & sum\\_agg\\_rf & count\\\\\n",
       " <fct> & <int> & <dbl> & <dbl> & <dbl> & <dbl> & <dbl> & <dbl> & <int>\\\\\n",
       "\\hline\n",
       "\t sitegmo        &  646 & 1172 & 1244 & 1480 & 1302 & 1202 & 1198 & 26419\\\\\n",
       "\t funalibaba     &  215 &  451 &  580 &  527 &  484 &  519 &  526 & 18208\\\\\n",
       "\t sitenamecheap  &  557 &  709 &  933 & 1041 &  965 &  952 &  911 & 13362\\\\\n",
       "\t pwnamecheap    &  253 &  497 &  564 &  569 &  837 &  724 &  666 & 12631\\\\\n",
       "\t onlinego daddy & 1859 & 2581 & 2467 & 2381 & 1993 & 1891 & 1953 & 10685\\\\\n",
       "\t sitegandi sas  &  148 &  165 &  284 &  180 & 1133 &  338 &  263 &  8719\\\\\n",
       "\\end{tabular}\n"
      ],
      "text/markdown": [
       "\n",
       "A tibble: 6 × 9\n",
       "\n",
       "| tld_registrar_index &lt;fct&gt; | actual_count &lt;int&gt; | sum_seg2_glm &lt;dbl&gt; | sum_seg_glm &lt;dbl&gt; | sum_agg_glm &lt;dbl&gt; | sum_seg2_rf &lt;dbl&gt; | sum_seg_rf &lt;dbl&gt; | sum_agg_rf &lt;dbl&gt; | count &lt;int&gt; |\n",
       "|---|---|---|---|---|---|---|---|---|\n",
       "| sitegmo        |  646 | 1172 | 1244 | 1480 | 1302 | 1202 | 1198 | 26419 |\n",
       "| funalibaba     |  215 |  451 |  580 |  527 |  484 |  519 |  526 | 18208 |\n",
       "| sitenamecheap  |  557 |  709 |  933 | 1041 |  965 |  952 |  911 | 13362 |\n",
       "| pwnamecheap    |  253 |  497 |  564 |  569 |  837 |  724 |  666 | 12631 |\n",
       "| onlinego daddy | 1859 | 2581 | 2467 | 2381 | 1993 | 1891 | 1953 | 10685 |\n",
       "| sitegandi sas  |  148 |  165 |  284 |  180 | 1133 |  338 |  263 |  8719 |\n",
       "\n"
      ],
      "text/plain": [
       "  tld_registrar_index actual_count sum_seg2_glm sum_seg_glm sum_agg_glm\n",
       "1 sitegmo              646         1172         1244        1480       \n",
       "2 funalibaba           215          451          580         527       \n",
       "3 sitenamecheap        557          709          933        1041       \n",
       "4 pwnamecheap          253          497          564         569       \n",
       "5 onlinego daddy      1859         2581         2467        2381       \n",
       "6 sitegandi sas        148          165          284         180       \n",
       "  sum_seg2_rf sum_seg_rf sum_agg_rf count\n",
       "1 1302        1202       1198       26419\n",
       "2  484         519        526       18208\n",
       "3  965         952        911       13362\n",
       "4  837         724        666       12631\n",
       "5 1993        1891       1953       10685\n",
       "6 1133         338        263        8719"
      ]
     },
     "metadata": {},
     "output_type": "display_data"
    }
   ],
   "source": [
    "options(scipen=999)\n",
    "sum_df <- predictions_df %>% \n",
    "  group_by(tld_registrar_index) %>% \n",
    "  summarise(\n",
    "            actual_count = sum( actual == 'Renewed' ),\n",
    "            sum_seg2_glm = round(sum( pred_df_seg2_glm ),0),\n",
    "            sum_seg_glm = round(sum( pred_df_seg_glm ),0),\n",
    "            sum_agg_glm = round(sum( pred_df_agg_glm ),0),\n",
    "            sum_seg2_rf = round(sum( pred_df_seg2_rf ),0),\n",
    "            sum_seg_rf = round(sum( pred_df_seg_rf ),0),\n",
    "            sum_agg_rf = round(sum( pred_df_agg_rf ),0),\n",
    "            count = n()) %>% \n",
    "  arrange(desc(count)) \n",
    "head(sum_df)"
   ]
  },
  {
   "cell_type": "code",
   "execution_count": 38,
   "metadata": {},
   "outputs": [],
   "source": [
    "write.csv(pred50_df, \"../../data/output/tld_reseller_compare_rates.csv\", row.names = FALSE)\n",
    "write.csv(sum_df, \"../../data/output/tld_reseller_compare_sums.csv\", row.names = FALSE)"
   ]
  },
  {
   "cell_type": "code",
   "execution_count": 39,
   "metadata": {},
   "outputs": [],
   "source": [
    "system(\"gsutil cp /home/jupyter/local/Domains_202003/data/output/* gs://data_outputt/output/\")\n",
    "system(\"mv /home/jupyter/local/Domains_202003/data/output/* /home/jupyter/local/Domains_202003/data/\")"
   ]
  },
  {
   "cell_type": "code",
   "execution_count": null,
   "metadata": {},
   "outputs": [],
   "source": []
  }
 ],
 "metadata": {
  "environment": {
   "name": "r-cpu.3-6.m48",
   "type": "gcloud",
   "uri": "gcr.io/deeplearning-platform-release/r-cpu.3-6:m48"
  },
  "kernelspec": {
   "display_name": "R",
   "language": "R",
   "name": "ir"
  },
  "language_info": {
   "codemirror_mode": "r",
   "file_extension": ".r",
   "mimetype": "text/x-r-source",
   "name": "R",
   "pygments_lexer": "r",
   "version": "3.6.3"
  }
 },
 "nbformat": 4,
 "nbformat_minor": 4
}
