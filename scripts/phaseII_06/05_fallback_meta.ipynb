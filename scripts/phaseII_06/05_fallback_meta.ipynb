{
 "cells": [
  {
   "cell_type": "markdown",
   "metadata": {},
   "source": [
    "# Fallback Table Metalearning\n",
    "\n"
   ]
  },
  {
   "cell_type": "code",
   "execution_count": 1,
   "metadata": {},
   "outputs": [],
   "source": [
    "options(repr.matrix.max.cols=50, repr.matrix.max.rows=100)"
   ]
  },
  {
   "cell_type": "code",
   "execution_count": 2,
   "metadata": {},
   "outputs": [],
   "source": [
    "# install.packages(\"pkgcond\")"
   ]
  },
  {
   "cell_type": "code",
   "execution_count": 3,
   "metadata": {},
   "outputs": [
    {
     "name": "stderr",
     "output_type": "stream",
     "text": [
      "\n",
      "Attaching package: ‘dplyr’\n",
      "\n",
      "\n",
      "The following objects are masked from ‘package:stats’:\n",
      "\n",
      "    filter, lag\n",
      "\n",
      "\n",
      "The following objects are masked from ‘package:base’:\n",
      "\n",
      "    intersect, setdiff, setequal, union\n",
      "\n",
      "\n",
      "\n",
      "Attaching package: ‘data.table’\n",
      "\n",
      "\n",
      "The following objects are masked from ‘package:dplyr’:\n",
      "\n",
      "    between, first, last\n",
      "\n",
      "\n",
      "Loading required package: grid\n",
      "\n",
      "Loading required package: libcoin\n",
      "\n",
      "Loading required package: mvtnorm\n",
      "\n",
      "Loading required package: lattice\n",
      "\n",
      "Loading required package: ggplot2\n",
      "\n",
      "randomForest 4.6-14\n",
      "\n",
      "Type rfNews() to see new features/changes/bug fixes.\n",
      "\n",
      "\n",
      "Attaching package: ‘randomForest’\n",
      "\n",
      "\n",
      "The following object is masked from ‘package:ggplot2’:\n",
      "\n",
      "    margin\n",
      "\n",
      "\n",
      "The following object is masked from ‘package:dplyr’:\n",
      "\n",
      "    combine\n",
      "\n",
      "\n",
      "\n",
      "Attaching package: ‘ranger’\n",
      "\n",
      "\n",
      "The following object is masked from ‘package:randomForest’:\n",
      "\n",
      "    importance\n",
      "\n",
      "\n",
      "\n",
      "Attaching package: ‘plotly’\n",
      "\n",
      "\n",
      "The following object is masked from ‘package:ggplot2’:\n",
      "\n",
      "    last_plot\n",
      "\n",
      "\n",
      "The following object is masked from ‘package:stats’:\n",
      "\n",
      "    filter\n",
      "\n",
      "\n",
      "The following object is masked from ‘package:graphics’:\n",
      "\n",
      "    layout\n",
      "\n",
      "\n",
      "Loading required package: RJSONIO\n",
      "\n"
     ]
    },
    {
     "data": {
      "text/html": [
       "'/home/jupyter/local/Domains_202003/scripts/phaseII_06'"
      ],
      "text/latex": [
       "'/home/jupyter/local/Domains\\_202003/scripts/phaseII\\_06'"
      ],
      "text/markdown": [
       "'/home/jupyter/local/Domains_202003/scripts/phaseII_06'"
      ],
      "text/plain": [
       "[1] \"/home/jupyter/local/Domains_202003/scripts/phaseII_06\""
      ]
     },
     "metadata": {},
     "output_type": "display_data"
    }
   ],
   "source": [
    "library(dplyr)\n",
    "library(data.table)\n",
    "library(partykit)\n",
    "library(tictoc)\n",
    "library(caret)\n",
    "library(e1071)\n",
    "library(randomForest)\n",
    "library(ranger)\n",
    "\n",
    "#for 3d plotting\n",
    "library(akima)\n",
    "library(plotly)\n",
    "\n",
    "# for prep data\n",
    "library(rPython)\n",
    "library(stringr)\n",
    "library(pbapply)\n",
    "library(stringdist)\n",
    "library(data.table)\n",
    "library(dominanceanalysis)\n",
    "\n",
    "\n",
    "getwd()"
   ]
  },
  {
   "cell_type": "code",
   "execution_count": 4,
   "metadata": {},
   "outputs": [],
   "source": [
    "\n",
    "source('../orig/functions.R')\n",
    "\n",
    "source('../orig/functions_models.R')\n",
    "\n",
    "source('../phaseII_03_forest/functions_eval.R')\n",
    "\n",
    "\n",
    "source('../phaseII_03_forest/load_prep_data_expiry.R')\n",
    "\n",
    "# expiry_train_prepped_2_1 (list, less df's w/ 0 obs)\n",
    "# expiry_test_prepped_2_1  (list, less df's w/ 0 obs)\n",
    "# expiry_train_df_1 (above, rbound)\n",
    "# expiry_test_df_1 (above, rbound)\n",
    "# expiry_train_df_sub (subset vars)                                        \n",
    "# expiry_test_df_sub (subset vars)"
   ]
  },
  {
   "cell_type": "code",
   "execution_count": 5,
   "metadata": {},
   "outputs": [],
   "source": [
    "\n",
    "source('functions_fallback.R')"
   ]
  },
  {
   "cell_type": "markdown",
   "metadata": {},
   "source": [
    "# Load model predctions"
   ]
  },
  {
   "cell_type": "code",
   "execution_count": 6,
   "metadata": {},
   "outputs": [
    {
     "data": {
      "text/html": [
       "<style>\n",
       ".list-inline {list-style: none; margin:0; padding: 0}\n",
       ".list-inline>li {display: inline-block}\n",
       ".list-inline>li:not(:last-child)::after {content: \"\\00b7\"; padding: 0 .5ex}\n",
       "</style>\n",
       "<ol class=list-inline><li>297100</li><li>12</li></ol>\n"
      ],
      "text/latex": [
       "\\begin{enumerate*}\n",
       "\\item 297100\n",
       "\\item 12\n",
       "\\end{enumerate*}\n"
      ],
      "text/markdown": [
       "1. 297100\n",
       "2. 12\n",
       "\n",
       "\n"
      ],
      "text/plain": [
       "[1] 297100     12"
      ]
     },
     "metadata": {},
     "output_type": "display_data"
    },
    {
     "data": {
      "text/html": [
       "<table>\n",
       "<caption>A data.frame: 6 × 12</caption>\n",
       "<thead>\n",
       "\t<tr><th></th><th scope=col>actual</th><th scope=col>pred_df_seg2_glm</th><th scope=col>pred_df_seg_glm</th><th scope=col>pred_df_agg_glm</th><th scope=col>pred_df_seg2_rf</th><th scope=col>pred_df_seg_rf</th><th scope=col>pred_df_agg_rf</th><th scope=col>tld_registrar_index</th><th scope=col>reseller</th><th scope=col>n</th><th scope=col>domain_id</th><th scope=col>domain</th></tr>\n",
       "\t<tr><th></th><th scope=col>&lt;fct&gt;</th><th scope=col>&lt;dbl&gt;</th><th scope=col>&lt;dbl&gt;</th><th scope=col>&lt;dbl&gt;</th><th scope=col>&lt;dbl&gt;</th><th scope=col>&lt;dbl&gt;</th><th scope=col>&lt;dbl&gt;</th><th scope=col>&lt;fct&gt;</th><th scope=col>&lt;fct&gt;</th><th scope=col>&lt;int&gt;</th><th scope=col>&lt;int&gt;</th><th scope=col>&lt;fct&gt;</th></tr>\n",
       "</thead>\n",
       "<tbody>\n",
       "\t<tr><th scope=row>1</th><td>Not Renewd</td><td>0.6470992</td><td>0.558</td><td>0.419</td><td>0.4765771</td><td>0.4545657</td><td>0.5386137</td><td>sitegmo</td><td>gmo</td><td>106569</td><td>44295183</td><td>kagen.site           </td></tr>\n",
       "\t<tr><th scope=row>2</th><td>Renewed   </td><td>0.6762222</td><td>0.567</td><td>0.397</td><td>0.5410605</td><td>0.5769973</td><td>0.6091513</td><td>sitegmo</td><td>gmo</td><td>106569</td><td>44573611</td><td>designlab.site       </td></tr>\n",
       "\t<tr><th scope=row>3</th><td>Renewed   </td><td>0.9098495</td><td>0.835</td><td>0.410</td><td>0.7018108</td><td>0.6343404</td><td>0.6886680</td><td>sitegmo</td><td>gmo</td><td>106569</td><td>45304858</td><td>hokatu-blog.site     </td></tr>\n",
       "\t<tr><th scope=row>4</th><td>Renewed   </td><td>0.6029350</td><td>0.515</td><td>0.402</td><td>0.2414726</td><td>0.3999603</td><td>0.3464197</td><td>sitegmo</td><td>gmo</td><td>106569</td><td>46235129</td><td>suzuya.site          </td></tr>\n",
       "\t<tr><th scope=row>5</th><td>Not Renewd</td><td>0.9311321</td><td>0.863</td><td>0.417</td><td>0.7749462</td><td>0.7039504</td><td>0.6711740</td><td>sitegmo</td><td>gmo</td><td>106569</td><td>46276970</td><td>wins-company.site    </td></tr>\n",
       "\t<tr><th scope=row>6</th><td>Renewed   </td><td>0.9347869</td><td>0.861</td><td>0.391</td><td>0.6376848</td><td>0.6566740</td><td>0.6717237</td><td>sitegmo</td><td>gmo</td><td>106569</td><td>47809960</td><td>yamatoku-company.site</td></tr>\n",
       "</tbody>\n",
       "</table>\n"
      ],
      "text/latex": [
       "A data.frame: 6 × 12\n",
       "\\begin{tabular}{r|llllllllllll}\n",
       "  & actual & pred\\_df\\_seg2\\_glm & pred\\_df\\_seg\\_glm & pred\\_df\\_agg\\_glm & pred\\_df\\_seg2\\_rf & pred\\_df\\_seg\\_rf & pred\\_df\\_agg\\_rf & tld\\_registrar\\_index & reseller & n & domain\\_id & domain\\\\\n",
       "  & <fct> & <dbl> & <dbl> & <dbl> & <dbl> & <dbl> & <dbl> & <fct> & <fct> & <int> & <int> & <fct>\\\\\n",
       "\\hline\n",
       "\t1 & Not Renewd & 0.6470992 & 0.558 & 0.419 & 0.4765771 & 0.4545657 & 0.5386137 & sitegmo & gmo & 106569 & 44295183 & kagen.site           \\\\\n",
       "\t2 & Renewed    & 0.6762222 & 0.567 & 0.397 & 0.5410605 & 0.5769973 & 0.6091513 & sitegmo & gmo & 106569 & 44573611 & designlab.site       \\\\\n",
       "\t3 & Renewed    & 0.9098495 & 0.835 & 0.410 & 0.7018108 & 0.6343404 & 0.6886680 & sitegmo & gmo & 106569 & 45304858 & hokatu-blog.site     \\\\\n",
       "\t4 & Renewed    & 0.6029350 & 0.515 & 0.402 & 0.2414726 & 0.3999603 & 0.3464197 & sitegmo & gmo & 106569 & 46235129 & suzuya.site          \\\\\n",
       "\t5 & Not Renewd & 0.9311321 & 0.863 & 0.417 & 0.7749462 & 0.7039504 & 0.6711740 & sitegmo & gmo & 106569 & 46276970 & wins-company.site    \\\\\n",
       "\t6 & Renewed    & 0.9347869 & 0.861 & 0.391 & 0.6376848 & 0.6566740 & 0.6717237 & sitegmo & gmo & 106569 & 47809960 & yamatoku-company.site\\\\\n",
       "\\end{tabular}\n"
      ],
      "text/markdown": [
       "\n",
       "A data.frame: 6 × 12\n",
       "\n",
       "| <!--/--> | actual &lt;fct&gt; | pred_df_seg2_glm &lt;dbl&gt; | pred_df_seg_glm &lt;dbl&gt; | pred_df_agg_glm &lt;dbl&gt; | pred_df_seg2_rf &lt;dbl&gt; | pred_df_seg_rf &lt;dbl&gt; | pred_df_agg_rf &lt;dbl&gt; | tld_registrar_index &lt;fct&gt; | reseller &lt;fct&gt; | n &lt;int&gt; | domain_id &lt;int&gt; | domain &lt;fct&gt; |\n",
       "|---|---|---|---|---|---|---|---|---|---|---|---|---|\n",
       "| 1 | Not Renewd | 0.6470992 | 0.558 | 0.419 | 0.4765771 | 0.4545657 | 0.5386137 | sitegmo | gmo | 106569 | 44295183 | kagen.site            |\n",
       "| 2 | Renewed    | 0.6762222 | 0.567 | 0.397 | 0.5410605 | 0.5769973 | 0.6091513 | sitegmo | gmo | 106569 | 44573611 | designlab.site        |\n",
       "| 3 | Renewed    | 0.9098495 | 0.835 | 0.410 | 0.7018108 | 0.6343404 | 0.6886680 | sitegmo | gmo | 106569 | 45304858 | hokatu-blog.site      |\n",
       "| 4 | Renewed    | 0.6029350 | 0.515 | 0.402 | 0.2414726 | 0.3999603 | 0.3464197 | sitegmo | gmo | 106569 | 46235129 | suzuya.site           |\n",
       "| 5 | Not Renewd | 0.9311321 | 0.863 | 0.417 | 0.7749462 | 0.7039504 | 0.6711740 | sitegmo | gmo | 106569 | 46276970 | wins-company.site     |\n",
       "| 6 | Renewed    | 0.9347869 | 0.861 | 0.391 | 0.6376848 | 0.6566740 | 0.6717237 | sitegmo | gmo | 106569 | 47809960 | yamatoku-company.site |\n",
       "\n"
      ],
      "text/plain": [
       "  actual     pred_df_seg2_glm pred_df_seg_glm pred_df_agg_glm pred_df_seg2_rf\n",
       "1 Not Renewd 0.6470992        0.558           0.419           0.4765771      \n",
       "2 Renewed    0.6762222        0.567           0.397           0.5410605      \n",
       "3 Renewed    0.9098495        0.835           0.410           0.7018108      \n",
       "4 Renewed    0.6029350        0.515           0.402           0.2414726      \n",
       "5 Not Renewd 0.9311321        0.863           0.417           0.7749462      \n",
       "6 Renewed    0.9347869        0.861           0.391           0.6376848      \n",
       "  pred_df_seg_rf pred_df_agg_rf tld_registrar_index reseller n      domain_id\n",
       "1 0.4545657      0.5386137      sitegmo             gmo      106569 44295183 \n",
       "2 0.5769973      0.6091513      sitegmo             gmo      106569 44573611 \n",
       "3 0.6343404      0.6886680      sitegmo             gmo      106569 45304858 \n",
       "4 0.3999603      0.3464197      sitegmo             gmo      106569 46235129 \n",
       "5 0.7039504      0.6711740      sitegmo             gmo      106569 46276970 \n",
       "6 0.6566740      0.6717237      sitegmo             gmo      106569 47809960 \n",
       "  domain               \n",
       "1 kagen.site           \n",
       "2 designlab.site       \n",
       "3 hokatu-blog.site     \n",
       "4 suzuya.site          \n",
       "5 wins-company.site    \n",
       "6 yamatoku-company.site"
      ]
     },
     "metadata": {},
     "output_type": "display_data"
    }
   ],
   "source": [
    "predictions_df <- read.csv(\"../../data/tld_reseller_compare_predictions.csv\")\n",
    "\n",
    "dim(predictions_df)\n",
    "head(predictions_df)"
   ]
  },
  {
   "cell_type": "code",
   "execution_count": 7,
   "metadata": {},
   "outputs": [
    {
     "data": {
      "text/html": [
       "<style>\n",
       ".list-inline {list-style: none; margin:0; padding: 0}\n",
       ".list-inline>li {display: inline-block}\n",
       ".list-inline>li:not(:last-child)::after {content: \"\\00b7\"; padding: 0 .5ex}\n",
       "</style>\n",
       "<ol class=list-inline><li>391</li><li>12</li></ol>\n"
      ],
      "text/latex": [
       "\\begin{enumerate*}\n",
       "\\item 391\n",
       "\\item 12\n",
       "\\end{enumerate*}\n"
      ],
      "text/markdown": [
       "1. 391\n",
       "2. 12\n",
       "\n",
       "\n"
      ],
      "text/plain": [
       "[1] 391  12"
      ]
     },
     "metadata": {},
     "output_type": "display_data"
    },
    {
     "name": "stdout",
     "output_type": "stream",
     "text": [
      "0000000000000000000000000000000000000000000000000000000000000000000000000000000000000000000000000000000000000000000000000000000000000000000000000000000000000000000000000000000000000000000000000000000000000000000000000000000000000000000000000000000000000000000000000000000000000000000000000000000000000000000000000000000000000000000000000000000000000000000000000000000000000000000000000000000"
     ]
    }
   ],
   "source": [
    "# there exist 391 rows of predictions df (391 tld-reg) where all predicitions are n/a\n",
    "# this correspnds with tld-reg in training data that do not have any domains in test data\n",
    "predictions_df %>% filter(is.na(domain_id)) %>% dim()\n",
    "vector <- predictions_df %>% filter(is.na(domain_id)) %>% pull(tld_registrar_index)\n",
    "for (v in vector){\n",
    "    cat(expiry_test_df_1 %>% filter(tld_registrar_index==v) %>% nrow())\n",
    "}"
   ]
  },
  {
   "cell_type": "code",
   "execution_count": 8,
   "metadata": {},
   "outputs": [
    {
     "data": {
      "text/html": [
       "<style>\n",
       ".list-inline {list-style: none; margin:0; padding: 0}\n",
       ".list-inline>li {display: inline-block}\n",
       ".list-inline>li:not(:last-child)::after {content: \"\\00b7\"; padding: 0 .5ex}\n",
       "</style>\n",
       "<ol class=list-inline><li>296709</li><li>12</li></ol>\n"
      ],
      "text/latex": [
       "\\begin{enumerate*}\n",
       "\\item 296709\n",
       "\\item 12\n",
       "\\end{enumerate*}\n"
      ],
      "text/markdown": [
       "1. 296709\n",
       "2. 12\n",
       "\n",
       "\n"
      ],
      "text/plain": [
       "[1] 296709     12"
      ]
     },
     "metadata": {},
     "output_type": "display_data"
    }
   ],
   "source": [
    "predictions_df <- predictions_df %>% filter(!is.na(domain_id))\n",
    "dim(predictions_df)"
   ]
  },
  {
   "cell_type": "code",
   "execution_count": 9,
   "metadata": {},
   "outputs": [
    {
     "data": {
      "text/html": [
       "<style>\n",
       ".list-inline {list-style: none; margin:0; padding: 0}\n",
       ".list-inline>li {display: inline-block}\n",
       ".list-inline>li:not(:last-child)::after {content: \"\\00b7\"; padding: 0 .5ex}\n",
       "</style>\n",
       "<ol class=list-inline><li>296797</li><li>39</li></ol>\n"
      ],
      "text/latex": [
       "\\begin{enumerate*}\n",
       "\\item 296797\n",
       "\\item 39\n",
       "\\end{enumerate*}\n"
      ],
      "text/markdown": [
       "1. 296797\n",
       "2. 39\n",
       "\n",
       "\n"
      ],
      "text/plain": [
       "[1] 296797     39"
      ]
     },
     "metadata": {},
     "output_type": "display_data"
    },
    {
     "data": {
      "text/html": [
       "<style>\n",
       ".list-inline {list-style: none; margin:0; padding: 0}\n",
       ".list-inline>li {display: inline-block}\n",
       ".list-inline>li:not(:last-child)::after {content: \"\\00b7\"; padding: 0 .5ex}\n",
       "</style>\n",
       "<ol class=list-inline><li>296797</li><li>47</li></ol>\n"
      ],
      "text/latex": [
       "\\begin{enumerate*}\n",
       "\\item 296797\n",
       "\\item 47\n",
       "\\end{enumerate*}\n"
      ],
      "text/markdown": [
       "1. 296797\n",
       "2. 47\n",
       "\n",
       "\n"
      ],
      "text/plain": [
       "[1] 296797     47"
      ]
     },
     "metadata": {},
     "output_type": "display_data"
    }
   ],
   "source": [
    "dim(expiry_test_df_1)\n",
    "expiry_test_predictions <- merge(expiry_test_df_1, \n",
    "      predictions_df,\n",
    "     on = 'domain_id', all=TRUE)\n",
    "dim(expiry_test_predictions)"
   ]
  },
  {
   "cell_type": "code",
   "execution_count": 10,
   "metadata": {},
   "outputs": [
    {
     "data": {
      "text/html": [
       "<style>\n",
       ".list-inline {list-style: none; margin:0; padding: 0}\n",
       ".list-inline>li {display: inline-block}\n",
       ".list-inline>li:not(:last-child)::after {content: \"\\00b7\"; padding: 0 .5ex}\n",
       "</style>\n",
       "<ol class=list-inline><li>88</li><li>47</li></ol>\n"
      ],
      "text/latex": [
       "\\begin{enumerate*}\n",
       "\\item 88\n",
       "\\item 47\n",
       "\\end{enumerate*}\n"
      ],
      "text/markdown": [
       "1. 88\n",
       "2. 47\n",
       "\n",
       "\n"
      ],
      "text/plain": [
       "[1] 88 47"
      ]
     },
     "metadata": {},
     "output_type": "display_data"
    }
   ],
   "source": [
    "expiry_test_predictions %>% filter(is.na(n)) %>% dim()"
   ]
  },
  {
   "cell_type": "markdown",
   "metadata": {},
   "source": [
    "# Pull up reseller_geo"
   ]
  },
  {
   "cell_type": "code",
   "execution_count": 11,
   "metadata": {},
   "outputs": [
    {
     "data": {
      "text/html": [
       "<style>\n",
       ".list-inline {list-style: none; margin:0; padding: 0}\n",
       ".list-inline>li {display: inline-block}\n",
       ".list-inline>li:not(:last-child)::after {content: \"\\00b7\"; padding: 0 .5ex}\n",
       "</style>\n",
       "<ol class=list-inline><li>1498</li><li>7</li></ol>\n"
      ],
      "text/latex": [
       "\\begin{enumerate*}\n",
       "\\item 1498\n",
       "\\item 7\n",
       "\\end{enumerate*}\n"
      ],
      "text/markdown": [
       "1. 1498\n",
       "2. 7\n",
       "\n",
       "\n"
      ],
      "text/plain": [
       "[1] 1498    7"
      ]
     },
     "metadata": {},
     "output_type": "display_data"
    },
    {
     "data": {
      "text/html": [
       "<table>\n",
       "<caption>A data.frame: 6 × 7</caption>\n",
       "<thead>\n",
       "\t<tr><th></th><th scope=col>start_date</th><th scope=col>end_date</th><th scope=col>reseller</th><th scope=col>reseller_am</th><th scope=col>reseller_country</th><th scope=col>registrar</th><th scope=col>reseller_geo</th></tr>\n",
       "\t<tr><th></th><th scope=col>&lt;fct&gt;</th><th scope=col>&lt;fct&gt;</th><th scope=col>&lt;fct&gt;</th><th scope=col>&lt;fct&gt;</th><th scope=col>&lt;fct&gt;</th><th scope=col>&lt;fct&gt;</th><th scope=col>&lt;fct&gt;</th></tr>\n",
       "</thead>\n",
       "<tbody>\n",
       "\t<tr><th scope=row>1</th><td>2013-01-01T00:00:00Z</td><td>2019-12-31T00:00:00Z</td><td>NA                 </td><td>Not Assigned</td><td>NA           </td><td>NA                 </td><td>Others       </td></tr>\n",
       "\t<tr><th scope=row>2</th><td>2013-01-01T00:00:00Z</td><td>2019-12-31T00:00:00Z</td><td>007names           </td><td>Varun       </td><td>United States</td><td>007names           </td><td>United States</td></tr>\n",
       "\t<tr><th scope=row>3</th><td>2013-01-01T00:00:00Z</td><td>2019-12-31T00:00:00Z</td><td>0101 internet      </td><td>Not Assigned</td><td>Hong Kong    </td><td>0101 internet      </td><td>China        </td></tr>\n",
       "\t<tr><th scope=row>4</th><td>2013-01-01T00:00:00Z</td><td>2019-12-31T00:00:00Z</td><td><span style=white-space:pre-wrap>1&amp;1 internet       </span></td><td><span style=white-space:pre-wrap>Neha        </span></td><td><span style=white-space:pre-wrap>Germany      </span></td><td><span style=white-space:pre-wrap>1&amp;1 internet       </span></td><td><span style=white-space:pre-wrap>EU           </span></td></tr>\n",
       "\t<tr><th scope=row>5</th><td>2018-01-01T00:00:00Z</td><td>2019-12-31T00:00:00Z</td><td>101 domain         </td><td>Divya-Brands</td><td>United States</td><td>101 domain         </td><td>United States</td></tr>\n",
       "\t<tr><th scope=row>6</th><td>2013-01-01T00:00:00Z</td><td>2019-12-31T00:00:00Z</td><td>101domain discovery</td><td>Not Assigned</td><td>Germany      </td><td>101domain discovery</td><td>EU           </td></tr>\n",
       "</tbody>\n",
       "</table>\n"
      ],
      "text/latex": [
       "A data.frame: 6 × 7\n",
       "\\begin{tabular}{r|lllllll}\n",
       "  & start\\_date & end\\_date & reseller & reseller\\_am & reseller\\_country & registrar & reseller\\_geo\\\\\n",
       "  & <fct> & <fct> & <fct> & <fct> & <fct> & <fct> & <fct>\\\\\n",
       "\\hline\n",
       "\t1 & 2013-01-01T00:00:00Z & 2019-12-31T00:00:00Z & NA                  & Not Assigned & NA            & NA                  & Others       \\\\\n",
       "\t2 & 2013-01-01T00:00:00Z & 2019-12-31T00:00:00Z & 007names            & Varun        & United States & 007names            & United States\\\\\n",
       "\t3 & 2013-01-01T00:00:00Z & 2019-12-31T00:00:00Z & 0101 internet       & Not Assigned & Hong Kong     & 0101 internet       & China        \\\\\n",
       "\t4 & 2013-01-01T00:00:00Z & 2019-12-31T00:00:00Z & 1\\&1 internet        & Neha         & Germany       & 1\\&1 internet        & EU           \\\\\n",
       "\t5 & 2018-01-01T00:00:00Z & 2019-12-31T00:00:00Z & 101 domain          & Divya-Brands & United States & 101 domain          & United States\\\\\n",
       "\t6 & 2013-01-01T00:00:00Z & 2019-12-31T00:00:00Z & 101domain discovery & Not Assigned & Germany       & 101domain discovery & EU           \\\\\n",
       "\\end{tabular}\n"
      ],
      "text/markdown": [
       "\n",
       "A data.frame: 6 × 7\n",
       "\n",
       "| <!--/--> | start_date &lt;fct&gt; | end_date &lt;fct&gt; | reseller &lt;fct&gt; | reseller_am &lt;fct&gt; | reseller_country &lt;fct&gt; | registrar &lt;fct&gt; | reseller_geo &lt;fct&gt; |\n",
       "|---|---|---|---|---|---|---|---|\n",
       "| 1 | 2013-01-01T00:00:00Z | 2019-12-31T00:00:00Z | NA                  | Not Assigned | NA            | NA                  | Others        |\n",
       "| 2 | 2013-01-01T00:00:00Z | 2019-12-31T00:00:00Z | 007names            | Varun        | United States | 007names            | United States |\n",
       "| 3 | 2013-01-01T00:00:00Z | 2019-12-31T00:00:00Z | 0101 internet       | Not Assigned | Hong Kong     | 0101 internet       | China         |\n",
       "| 4 | 2013-01-01T00:00:00Z | 2019-12-31T00:00:00Z | 1&amp;1 internet        | Neha         | Germany       | 1&amp;1 internet        | EU            |\n",
       "| 5 | 2018-01-01T00:00:00Z | 2019-12-31T00:00:00Z | 101 domain          | Divya-Brands | United States | 101 domain          | United States |\n",
       "| 6 | 2013-01-01T00:00:00Z | 2019-12-31T00:00:00Z | 101domain discovery | Not Assigned | Germany       | 101domain discovery | EU            |\n",
       "\n"
      ],
      "text/plain": [
       "  start_date           end_date             reseller            reseller_am \n",
       "1 2013-01-01T00:00:00Z 2019-12-31T00:00:00Z NA                  Not Assigned\n",
       "2 2013-01-01T00:00:00Z 2019-12-31T00:00:00Z 007names            Varun       \n",
       "3 2013-01-01T00:00:00Z 2019-12-31T00:00:00Z 0101 internet       Not Assigned\n",
       "4 2013-01-01T00:00:00Z 2019-12-31T00:00:00Z 1&1 internet        Neha        \n",
       "5 2018-01-01T00:00:00Z 2019-12-31T00:00:00Z 101 domain          Divya-Brands\n",
       "6 2013-01-01T00:00:00Z 2019-12-31T00:00:00Z 101domain discovery Not Assigned\n",
       "  reseller_country registrar           reseller_geo \n",
       "1 NA               NA                  Others       \n",
       "2 United States    007names            United States\n",
       "3 Hong Kong        0101 internet       China        \n",
       "4 Germany          1&1 internet        EU           \n",
       "5 United States    101 domain          United States\n",
       "6 Germany          101domain discovery EU           "
      ]
     },
     "metadata": {},
     "output_type": "display_data"
    }
   ],
   "source": [
    "# system(\"gsutil cp gs://data_input/PredictiveModelAnalysis_ResellerGeoMap.csv /home/jupyter/local/Domains_202003/data/PredictiveModelAnalysis_ResellerGeoMap.csv\")\n",
    "geoLookupDF <- read.csv(\"/home/jupyter/local/Domains_202003/data/PredictiveModelAnalysis_ResellerGeoMap.csv\")\n",
    "# need to remove final row with all NAs\n",
    "geoLookupDF <- geoLookupDF %>% filter_all(any_vars(!is.na(.)))\n",
    "dim(geoLookupDF)\n",
    "head(geoLookupDF)"
   ]
  },
  {
   "cell_type": "markdown",
   "metadata": {},
   "source": [
    "# Add reseller_geo to expiry_train_df_1 for fall_back gen"
   ]
  },
  {
   "cell_type": "code",
   "execution_count": null,
   "metadata": {},
   "outputs": [
    {
     "data": {
      "text/html": [
       "<style>\n",
       ".list-inline {list-style: none; margin:0; padding: 0}\n",
       ".list-inline>li {display: inline-block}\n",
       ".list-inline>li:not(:last-child)::after {content: \"\\00b7\"; padding: 0 .5ex}\n",
       "</style>\n",
       "<ol class=list-inline><li>1188250</li><li>39</li></ol>\n"
      ],
      "text/latex": [
       "\\begin{enumerate*}\n",
       "\\item 1188250\n",
       "\\item 39\n",
       "\\end{enumerate*}\n"
      ],
      "text/markdown": [
       "1. 1188250\n",
       "2. 39\n",
       "\n",
       "\n"
      ],
      "text/plain": [
       "[1] 1188250      39"
      ]
     },
     "metadata": {},
     "output_type": "display_data"
    }
   ],
   "source": [
    "expiry_train_df_1$reseller <- factor(expiry_train_df_1$reseller)\n",
    "expiry_train_df_1$reseller_country <- factor(expiry_train_df_1$reseller_country)\n",
    "expiry_train_df_1 <- as.data.frame(expiry_train_df_1)\n",
    "\n",
    "# why result has more rows than input?\n",
    "dim(expiry_train_df_1)\n",
    "expiry_train_df_1 <- merge(expiry_train_df_1,\n",
    "                                 geoLookupDF,\n",
    "                                 on=c('reseller','reseller_country'), \n",
    "                                 all.x = TRUE)\n",
    "dim(expiry_train_df_1)\n",
    "head(expiry_train_df_1)\n"
   ]
  },
  {
   "cell_type": "markdown",
   "metadata": {},
   "source": [
    "# Add reseller_geo to expiry_test_predictions"
   ]
  },
  {
   "cell_type": "code",
   "execution_count": null,
   "metadata": {},
   "outputs": [],
   "source": [
    "expiry_test_predictions$reseller <- factor(expiry_test_predictions$reseller)\n",
    "expiry_test_predictions$reseller_country <- factor(expiry_test_predictions$reseller_country)\n",
    "expiry_test_predictions <- as.data.frame(expiry_test_predictions)\n",
    "\n",
    "# why result has more rows than input?\n",
    "dim(expiry_test_predictions)\n",
    "expiry_test_predictions <- merge(expiry_test_predictions,\n",
    "                                 geoLookupDF,\n",
    "                                 on=c('reseller','reseller_country'), \n",
    "                                 all.x = TRUE)\n",
    "dim(expiry_test_predictions)\n",
    "head(expiry_test_predictions)\n"
   ]
  },
  {
   "cell_type": "markdown",
   "metadata": {},
   "source": [
    "# Generate fallback table predictions"
   ]
  },
  {
   "cell_type": "code",
   "execution_count": null,
   "metadata": {},
   "outputs": [],
   "source": [
    "npv_fallback_list = fallback_gen( npv_historic_renewal_data = expiry_train_df_1, reseller_am_geo_map = geoLookupDF)"
   ]
  },
  {
   "cell_type": "code",
   "execution_count": null,
   "metadata": {},
   "outputs": [],
   "source": [
    "# return list members to objects\n",
    "names(npv_fallback_list)\n",
    "for(i in 1:length(npv_fallback_list)) assign(names(npv_fallback_list)[i], npv_fallback_list[[i]])"
   ]
  },
  {
   "cell_type": "code",
   "execution_count": null,
   "metadata": {},
   "outputs": [],
   "source": [
    "expiry_test_predictions_2 <- fallback_app_1(test_data_op=expiry_test_predictions,\n",
    "               in_col='pred_df_seg2_glm',\n",
    "               out_col='pred_df_seg2_glm_fb')\n",
    "\n",
    "dim(expiry_test_predictions)\n",
    "dim(expiry_test_predictions_2)\n",
    "head(expiry_test_predictions_2)"
   ]
  },
  {
   "cell_type": "code",
   "execution_count": null,
   "metadata": {},
   "outputs": [],
   "source": [
    "# regmatches('pred_', names(expiry_test_predictions), invert = FALSE)\n",
    "for (in_col in names(expiry_test_predictions)[grep('pred_',names(expiry_test_predictions))]){\n",
    "    out_col = paste(in_col,'_fb',sep='')\n",
    "    expiry_test_predictions <- fallback_app_1(test_data_op=expiry_test_predictions, in_col, out_col)\n",
    "}\n"
   ]
  },
  {
   "cell_type": "code",
   "execution_count": null,
   "metadata": {},
   "outputs": [],
   "source": [
    "dim(expiry_test_predictions)\n",
    "head(expiry_test_predictions)"
   ]
  },
  {
   "cell_type": "code",
   "execution_count": null,
   "metadata": {},
   "outputs": [],
   "source": [
    "expiry_test_predictions %>%\n",
    "  select(names(expiry_test_predictions)[grep('pred_',names(expiry_test_predictions))]) %>%  # replace to your needs\n",
    "  summarise_all(funs(sum(is.na(.)))) %>% t()"
   ]
  },
  {
   "cell_type": "markdown",
   "metadata": {},
   "source": [
    "# Calculate overall performance metrics for models & fallback"
   ]
  },
  {
   "cell_type": "code",
   "execution_count": 20,
   "metadata": {},
   "outputs": [],
   "source": [
    "\n",
    "lift_list <- list()\n",
    "auc_list <- list()\n",
    "\n",
    "fallback_lift <- chart_lift(pred_df=expiry_test_predictions,\n",
    "                        dep_var = \"renewal_status\",\n",
    "                        pred_var = \"pred_df_seg2_glm\") \n",
    "\n",
    "lift_list[[\"pred_df_seg2_glm\"]] <- fallback_lift\n",
    "auc_list[[\"pred_df_seg2_glm\"]] <- calc_auc(lift_df=fallback_lift)\n",
    "\n",
    "models <- names(expiry_test_predictions)[grep('pred_',names(expiry_test_predictions))]\n",
    "\n",
    "\n",
    "for (model in models){\n",
    "    model_lift <- chart_lift(pred_df=expiry_test_predictions,\n",
    "                        dep_var = \"renewal_status\",\n",
    "                        pred_var = model) \n",
    "    \n",
    "    fallback_lift <- merge(fallback_lift, model_lift, by=c(\"P\"),all= TRUE, \n",
    "                           suffixes = c(\"\",\n",
    "                                        paste(\"_\",gsub(\"pred_df_\", \"\", model)) ))\n",
    "    \n",
    "    lift_list[[model]] <- model_lift\n",
    "    auc_list[[model]] <- calc_auc(lift_df=model_lift)\n",
    "}\n",
    "\n",
    "lift_df <- fallback_lift"
   ]
  },
  {
   "cell_type": "code",
   "execution_count": null,
   "metadata": {},
   "outputs": [
    {
     "data": {
      "text/html": [
       "12"
      ],
      "text/latex": [
       "12"
      ],
      "text/markdown": [
       "12"
      ],
      "text/plain": [
       "[1] 12"
      ]
     },
     "metadata": {},
     "output_type": "display_data"
    },
    {
     "data": {
      "text/html": [
       "<style>\n",
       ".list-inline {list-style: none; margin:0; padding: 0}\n",
       ".list-inline>li {display: inline-block}\n",
       ".list-inline>li:not(:last-child)::after {content: \"\\00b7\"; padding: 0 .5ex}\n",
       "</style>\n",
       "<ol class=list-inline><li>'pred_df_seg2_glm'</li><li>'pred_df_seg_glm'</li><li>'pred_df_agg_glm'</li><li>'pred_df_seg2_rf'</li><li>'pred_df_seg_rf'</li><li>'pred_df_agg_rf'</li><li>'pred_df_seg2_glm_fb'</li><li>'pred_df_seg_glm_fb'</li><li>'pred_df_agg_glm_fb'</li><li>'pred_df_seg2_rf_fb'</li><li>'pred_df_seg_rf_fb'</li><li>'pred_df_agg_rf_fb'</li></ol>\n"
      ],
      "text/latex": [
       "\\begin{enumerate*}\n",
       "\\item 'pred\\_df\\_seg2\\_glm'\n",
       "\\item 'pred\\_df\\_seg\\_glm'\n",
       "\\item 'pred\\_df\\_agg\\_glm'\n",
       "\\item 'pred\\_df\\_seg2\\_rf'\n",
       "\\item 'pred\\_df\\_seg\\_rf'\n",
       "\\item 'pred\\_df\\_agg\\_rf'\n",
       "\\item 'pred\\_df\\_seg2\\_glm\\_fb'\n",
       "\\item 'pred\\_df\\_seg\\_glm\\_fb'\n",
       "\\item 'pred\\_df\\_agg\\_glm\\_fb'\n",
       "\\item 'pred\\_df\\_seg2\\_rf\\_fb'\n",
       "\\item 'pred\\_df\\_seg\\_rf\\_fb'\n",
       "\\item 'pred\\_df\\_agg\\_rf\\_fb'\n",
       "\\end{enumerate*}\n"
      ],
      "text/markdown": [
       "1. 'pred_df_seg2_glm'\n",
       "2. 'pred_df_seg_glm'\n",
       "3. 'pred_df_agg_glm'\n",
       "4. 'pred_df_seg2_rf'\n",
       "5. 'pred_df_seg_rf'\n",
       "6. 'pred_df_agg_rf'\n",
       "7. 'pred_df_seg2_glm_fb'\n",
       "8. 'pred_df_seg_glm_fb'\n",
       "9. 'pred_df_agg_glm_fb'\n",
       "10. 'pred_df_seg2_rf_fb'\n",
       "11. 'pred_df_seg_rf_fb'\n",
       "12. 'pred_df_agg_rf_fb'\n",
       "\n",
       "\n"
      ],
      "text/plain": [
       " [1] \"pred_df_seg2_glm\"    \"pred_df_seg_glm\"     \"pred_df_agg_glm\"    \n",
       " [4] \"pred_df_seg2_rf\"     \"pred_df_seg_rf\"      \"pred_df_agg_rf\"     \n",
       " [7] \"pred_df_seg2_glm_fb\" \"pred_df_seg_glm_fb\"  \"pred_df_agg_glm_fb\" \n",
       "[10] \"pred_df_seg2_rf_fb\"  \"pred_df_seg_rf_fb\"   \"pred_df_agg_rf_fb\"  "
      ]
     },
     "metadata": {},
     "output_type": "display_data"
    },
    {
     "data": {
      "text/html": [
       "<table>\n",
       "<caption>A matrix: 2 × 12 of type int</caption>\n",
       "<thead>\n",
       "\t<tr><th scope=col>pred_df_seg2_glm</th><th scope=col>pred_df_seg_glm</th><th scope=col>pred_df_agg_glm</th><th scope=col>pred_df_seg2_rf</th><th scope=col>pred_df_seg_rf</th><th scope=col>pred_df_agg_rf</th><th scope=col>pred_df_seg2_glm_fb</th><th scope=col>pred_df_seg_glm_fb</th><th scope=col>pred_df_agg_glm_fb</th><th scope=col>pred_df_seg2_rf_fb</th><th scope=col>pred_df_seg_rf_fb</th><th scope=col>pred_df_agg_rf_fb</th></tr>\n",
       "</thead>\n",
       "<tbody>\n",
       "\t<tr><td>10</td><td>10</td><td>10</td><td>10</td><td>10</td><td>10</td><td>10</td><td>10</td><td>10</td><td>10</td><td>10</td><td>10</td></tr>\n",
       "\t<tr><td> 4</td><td> 4</td><td> 4</td><td> 4</td><td> 4</td><td> 4</td><td> 4</td><td> 4</td><td> 4</td><td> 4</td><td> 4</td><td> 4</td></tr>\n",
       "</tbody>\n",
       "</table>\n"
      ],
      "text/latex": [
       "A matrix: 2 × 12 of type int\n",
       "\\begin{tabular}{llllllllllll}\n",
       " pred\\_df\\_seg2\\_glm & pred\\_df\\_seg\\_glm & pred\\_df\\_agg\\_glm & pred\\_df\\_seg2\\_rf & pred\\_df\\_seg\\_rf & pred\\_df\\_agg\\_rf & pred\\_df\\_seg2\\_glm\\_fb & pred\\_df\\_seg\\_glm\\_fb & pred\\_df\\_agg\\_glm\\_fb & pred\\_df\\_seg2\\_rf\\_fb & pred\\_df\\_seg\\_rf\\_fb & pred\\_df\\_agg\\_rf\\_fb\\\\\n",
       "\\hline\n",
       "\t 10 & 10 & 10 & 10 & 10 & 10 & 10 & 10 & 10 & 10 & 10 & 10\\\\\n",
       "\t  4 &  4 &  4 &  4 &  4 &  4 &  4 &  4 &  4 &  4 &  4 &  4\\\\\n",
       "\\end{tabular}\n"
      ],
      "text/markdown": [
       "\n",
       "A matrix: 2 × 12 of type int\n",
       "\n",
       "| pred_df_seg2_glm | pred_df_seg_glm | pred_df_agg_glm | pred_df_seg2_rf | pred_df_seg_rf | pred_df_agg_rf | pred_df_seg2_glm_fb | pred_df_seg_glm_fb | pred_df_agg_glm_fb | pred_df_seg2_rf_fb | pred_df_seg_rf_fb | pred_df_agg_rf_fb |\n",
       "|---|---|---|---|---|---|---|---|---|---|---|---|\n",
       "| 10 | 10 | 10 | 10 | 10 | 10 | 10 | 10 | 10 | 10 | 10 | 10 |\n",
       "|  4 |  4 |  4 |  4 |  4 |  4 |  4 |  4 |  4 |  4 |  4 |  4 |\n",
       "\n"
      ],
      "text/plain": [
       "     pred_df_seg2_glm pred_df_seg_glm pred_df_agg_glm pred_df_seg2_rf\n",
       "[1,] 10               10              10              10             \n",
       "[2,]  4                4               4               4             \n",
       "     pred_df_seg_rf pred_df_agg_rf pred_df_seg2_glm_fb pred_df_seg_glm_fb\n",
       "[1,] 10             10             10                  10                \n",
       "[2,]  4              4              4                   4                \n",
       "     pred_df_agg_glm_fb pred_df_seg2_rf_fb pred_df_seg_rf_fb pred_df_agg_rf_fb\n",
       "[1,] 10                 10                 10                10               \n",
       "[2,]  4                  4                  4                 4               "
      ]
     },
     "metadata": {},
     "output_type": "display_data"
    },
    {
     "data": {
      "text/html": [
       "<strong>$pred_df_seg2_glm</strong> = <table>\n",
       "<caption>A data.frame: 10 × 4</caption>\n",
       "<thead>\n",
       "\t<tr><th scope=col>P</th><th scope=col>actu_renwd2</th><th scope=col>gain</th><th scope=col>lift</th></tr>\n",
       "\t<tr><th scope=col>&lt;dbl&gt;</th><th scope=col>&lt;int&gt;</th><th scope=col>&lt;dbl&gt;</th><th scope=col>&lt;dbl&gt;</th></tr>\n",
       "</thead>\n",
       "<tbody>\n",
       "\t<tr><td>0.1</td><td>12906</td><td>0.4715899</td><td>4.715899</td></tr>\n",
       "\t<tr><td>0.2</td><td>18852</td><td>0.6888588</td><td>3.444294</td></tr>\n",
       "\t<tr><td>0.3</td><td>22109</td><td>0.8078708</td><td>2.692903</td></tr>\n",
       "\t<tr><td>0.4</td><td>24198</td><td>0.8842036</td><td>2.210509</td></tr>\n",
       "\t<tr><td>0.5</td><td>25431</td><td>0.9292579</td><td>1.858516</td></tr>\n",
       "\t<tr><td>0.6</td><td>26151</td><td>0.9555669</td><td>1.592612</td></tr>\n",
       "\t<tr><td>0.7</td><td>26531</td><td>0.9694523</td><td>1.384932</td></tr>\n",
       "\t<tr><td>0.8</td><td>26795</td><td>0.9790989</td><td>1.223874</td></tr>\n",
       "\t<tr><td>0.9</td><td>26855</td><td>0.9812913</td><td>1.090324</td></tr>\n",
       "\t<tr><td>1.0</td><td>27367</td><td>1.0000000</td><td>1.000000</td></tr>\n",
       "</tbody>\n",
       "</table>\n"
      ],
      "text/latex": [
       "\\textbf{\\$pred\\_df\\_seg2\\_glm} = A data.frame: 10 × 4\n",
       "\\begin{tabular}{llll}\n",
       " P & actu\\_renwd2 & gain & lift\\\\\n",
       " <dbl> & <int> & <dbl> & <dbl>\\\\\n",
       "\\hline\n",
       "\t 0.1 & 12906 & 0.4715899 & 4.715899\\\\\n",
       "\t 0.2 & 18852 & 0.6888588 & 3.444294\\\\\n",
       "\t 0.3 & 22109 & 0.8078708 & 2.692903\\\\\n",
       "\t 0.4 & 24198 & 0.8842036 & 2.210509\\\\\n",
       "\t 0.5 & 25431 & 0.9292579 & 1.858516\\\\\n",
       "\t 0.6 & 26151 & 0.9555669 & 1.592612\\\\\n",
       "\t 0.7 & 26531 & 0.9694523 & 1.384932\\\\\n",
       "\t 0.8 & 26795 & 0.9790989 & 1.223874\\\\\n",
       "\t 0.9 & 26855 & 0.9812913 & 1.090324\\\\\n",
       "\t 1.0 & 27367 & 1.0000000 & 1.000000\\\\\n",
       "\\end{tabular}\n"
      ],
      "text/markdown": [
       "**$pred_df_seg2_glm** = \n",
       "A data.frame: 10 × 4\n",
       "\n",
       "| P &lt;dbl&gt; | actu_renwd2 &lt;int&gt; | gain &lt;dbl&gt; | lift &lt;dbl&gt; |\n",
       "|---|---|---|---|\n",
       "| 0.1 | 12906 | 0.4715899 | 4.715899 |\n",
       "| 0.2 | 18852 | 0.6888588 | 3.444294 |\n",
       "| 0.3 | 22109 | 0.8078708 | 2.692903 |\n",
       "| 0.4 | 24198 | 0.8842036 | 2.210509 |\n",
       "| 0.5 | 25431 | 0.9292579 | 1.858516 |\n",
       "| 0.6 | 26151 | 0.9555669 | 1.592612 |\n",
       "| 0.7 | 26531 | 0.9694523 | 1.384932 |\n",
       "| 0.8 | 26795 | 0.9790989 | 1.223874 |\n",
       "| 0.9 | 26855 | 0.9812913 | 1.090324 |\n",
       "| 1.0 | 27367 | 1.0000000 | 1.000000 |\n",
       "\n"
      ],
      "text/plain": [
       "$pred_df_seg2_glm\n",
       "     P actu_renwd2      gain     lift\n",
       "1  0.1       12906 0.4715899 4.715899\n",
       "2  0.2       18852 0.6888588 3.444294\n",
       "3  0.3       22109 0.8078708 2.692903\n",
       "4  0.4       24198 0.8842036 2.210509\n",
       "5  0.5       25431 0.9292579 1.858516\n",
       "6  0.6       26151 0.9555669 1.592612\n",
       "7  0.7       26531 0.9694523 1.384932\n",
       "8  0.8       26795 0.9790989 1.223874\n",
       "9  0.9       26855 0.9812913 1.090324\n",
       "10 1.0       27367 1.0000000 1.000000\n"
      ]
     },
     "metadata": {},
     "output_type": "display_data"
    }
   ],
   "source": [
    "length(lift_list)\n",
    "names(lift_list)\n",
    "sapply(lift_list, dim)\n",
    "lift_list[\"pred_df_seg2_glm\"]"
   ]
  },
  {
   "cell_type": "code",
   "execution_count": null,
   "metadata": {},
   "outputs": [
    {
     "data": {
      "text/plain": [
       "\n",
       "   Renewed Not Renewd \n",
       "0.09149351 0.90850649 "
      ]
     },
     "metadata": {},
     "output_type": "display_data"
    }
   ],
   "source": [
    "prop.table(table(expiry_test_df_1$renewal_status))"
   ]
  },
  {
   "cell_type": "code",
   "execution_count": null,
   "metadata": {},
   "outputs": [],
   "source": [
    "plot_multigains <- function (lift_df_list=list(seg_glm = lift_df, \n",
    "                                               ben_dtr = lift_df_2),\n",
    "                             auc_list = list(seg_glm = auc, \n",
    "                                             ben_dtr=auc_2),\n",
    "                             prop_positive = 0.1121167) {\n",
    "  \n",
    "  optimal_df <- data.frame( \"P\"=c(0,prop_positive,1.0),\n",
    "                            \"actu_renwd2\"=c(NA,NA,NA),\n",
    "                            \"gain\"=c(0,1.0,1.0),\n",
    "                            \"lift\"=c(NA,NA,NA))\n",
    "  \n",
    "  lift_df_list <- lapply(lift_df_list, function(df) {\n",
    "    df <- df %>%\n",
    "      add_row(P = 0, gain =0) %>%\n",
    "      arrange(P)\n",
    "  })\n",
    "\n",
    "  auc_lift_list = paste(lapply(auc_list, round, 3),sapply(lift_df_list, function(x) round(x[2,\"lift\"],2)), sep=\", \")\n",
    "  \n",
    "  auc_map = paste(names(lift_df_list),auc_lift_list, sep=\" = \")[1:length(lift_df_list)]\n",
    "  \n",
    "  \n",
    "  gains_plot <- ggplot(NULL, aes(P,  gain)) +\n",
    "    geom_line(data = lift_df_list[[1]] %>% slice(1, n())) +\n",
    "    \n",
    "    list(geom_line(data=optimal_df), geom_point(data=optimal_df)) +\n",
    "    \n",
    "    scale_y_continuous(breaks = seq(0, 1, by = .1), limits = c(0,1)) +\n",
    "    scale_x_continuous(breaks = seq(0, 1, by = .1)) +\n",
    "    labs(title = \"Cumulative Gains Plot\",\n",
    "         y = \"Cumulative Gain\",\n",
    "         x = \"Percentile\")+\n",
    "    theme(text = element_text(size=20))\n",
    "  \n",
    "  for(i in seq(length(lift_df_list))){\n",
    "    name = names(lift_df_list)[[i]]\n",
    "    df = lift_df_list[[i]]\n",
    "    auc = auc_list[[i]]\n",
    "    gains_plot <- gains_plot + list(geom_line(data=df), \n",
    "                                    geom_point(data=df))+ \n",
    "      annotate(\"text\", x = .4, y = .9-i*.075, hjust = 0, label = auc_map[[i]], size = 5)\n",
    "  }\n",
    "  \n",
    "  \n",
    "  return(gains_plot)\n",
    "}\n"
   ]
  },
  {
   "cell_type": "code",
   "execution_count": null,
   "metadata": {},
   "outputs": [
    {
     "data": {
      "image/png": "[encoded data removed]",
      "text/plain": [
       "plot without title"
      ]
     },
     "metadata": {
      "image/png": {
       "height": 420,
       "width": 420
      },
      "text/plain": {
       "height": 420,
       "width": 420
      }
     },
     "output_type": "display_data"
    }
   ],
   "source": [
    "plot_multigains(            lift_df_list=lift_list,\n",
    "                             auc_list = auc_list,\n",
    "                             prop_positive = 0.09149351) "
   ]
  },
  {
   "cell_type": "code",
   "execution_count": null,
   "metadata": {},
   "outputs": [
    {
     "data": {
      "text/html": [
       "<style>\n",
       ".list-inline {list-style: none; margin:0; padding: 0}\n",
       ".list-inline>li {display: inline-block}\n",
       ".list-inline>li:not(:last-child)::after {content: \"\\00b7\"; padding: 0 .5ex}\n",
       "</style>\n",
       "<ol class=list-inline><li>'lift_ seg2_glm'</li><li>'lift_ seg_glm'</li><li>'lift_ agg_glm'</li><li>'lift_ seg2_rf'</li><li>'lift_ seg_rf'</li><li>'lift_ agg_rf'</li><li>'lift_ seg2_glm_fb'</li><li>'lift_ seg_glm_fb'</li><li>'lift_ agg_glm_fb'</li><li>'lift_ seg2_rf_fb'</li><li>'lift_ seg_rf_fb'</li><li>'lift_ agg_rf_fb'</li></ol>\n"
      ],
      "text/latex": [
       "\\begin{enumerate*}\n",
       "\\item 'lift\\_ seg2\\_glm'\n",
       "\\item 'lift\\_ seg\\_glm'\n",
       "\\item 'lift\\_ agg\\_glm'\n",
       "\\item 'lift\\_ seg2\\_rf'\n",
       "\\item 'lift\\_ seg\\_rf'\n",
       "\\item 'lift\\_ agg\\_rf'\n",
       "\\item 'lift\\_ seg2\\_glm\\_fb'\n",
       "\\item 'lift\\_ seg\\_glm\\_fb'\n",
       "\\item 'lift\\_ agg\\_glm\\_fb'\n",
       "\\item 'lift\\_ seg2\\_rf\\_fb'\n",
       "\\item 'lift\\_ seg\\_rf\\_fb'\n",
       "\\item 'lift\\_ agg\\_rf\\_fb'\n",
       "\\end{enumerate*}\n"
      ],
      "text/markdown": [
       "1. 'lift_ seg2_glm'\n",
       "2. 'lift_ seg_glm'\n",
       "3. 'lift_ agg_glm'\n",
       "4. 'lift_ seg2_rf'\n",
       "5. 'lift_ seg_rf'\n",
       "6. 'lift_ agg_rf'\n",
       "7. 'lift_ seg2_glm_fb'\n",
       "8. 'lift_ seg_glm_fb'\n",
       "9. 'lift_ agg_glm_fb'\n",
       "10. 'lift_ seg2_rf_fb'\n",
       "11. 'lift_ seg_rf_fb'\n",
       "12. 'lift_ agg_rf_fb'\n",
       "\n",
       "\n"
      ],
      "text/plain": [
       " [1] \"lift_ seg2_glm\"    \"lift_ seg_glm\"     \"lift_ agg_glm\"    \n",
       " [4] \"lift_ seg2_rf\"     \"lift_ seg_rf\"      \"lift_ agg_rf\"     \n",
       " [7] \"lift_ seg2_glm_fb\" \"lift_ seg_glm_fb\"  \"lift_ agg_glm_fb\" \n",
       "[10] \"lift_ seg2_rf_fb\"  \"lift_ seg_rf_fb\"   \"lift_ agg_rf_fb\"  "
      ]
     },
     "metadata": {},
     "output_type": "display_data"
    }
   ],
   "source": [
    "row.names(lift_df %>% filter(P==0.1) %>% select(contains(\"lift_\")) %>% t())"
   ]
  },
  {
   "cell_type": "code",
   "execution_count": null,
   "metadata": {},
   "outputs": [
    {
     "name": "stderr",
     "output_type": "stream",
     "text": [
      "New names:\n",
      "* NA -> ...1\n",
      "* NA -> ...2\n",
      "\n"
     ]
    },
    {
     "data": {
      "text/html": [
       "<table>\n",
       "<caption>A tibble: 6 × 4</caption>\n",
       "<thead>\n",
       "\t<tr><th scope=col>l10_orig</th><th scope=col>l10_fb</th><th scope=col>model</th><th scope=col>imprv</th></tr>\n",
       "\t<tr><th scope=col>&lt;dbl[,1]&gt;</th><th scope=col>&lt;dbl[,1]&gt;</th><th scope=col>&lt;chr&gt;</th><th scope=col>&lt;dbl[,1]&gt;</th></tr>\n",
       "</thead>\n",
       "<tbody>\n",
       "\t<tr><td>4.715899</td><td>4.765959</td><td>lift_seg2_glm</td><td>0.010615218</td></tr>\n",
       "\t<tr><td>3.925896</td><td>3.945993</td><td>lift_seg_glm </td><td>0.005119136</td></tr>\n",
       "\t<tr><td>4.666204</td><td>4.671685</td><td>lift_agg_glm </td><td>0.001174628</td></tr>\n",
       "\t<tr><td>4.619798</td><td>4.624548</td><td>lift_seg2_rf </td><td>0.001028237</td></tr>\n",
       "\t<tr><td>4.857675</td><td>4.865714</td><td>lift_seg_rf  </td><td>0.001654882</td></tr>\n",
       "\t<tr><td>4.829539</td><td>4.835751</td><td>lift_agg_rf  </td><td>0.001286222</td></tr>\n",
       "</tbody>\n",
       "</table>\n"
      ],
      "text/latex": [
       "A tibble: 6 × 4\n",
       "\\begin{tabular}{llll}\n",
       " l10\\_orig & l10\\_fb & model & imprv\\\\\n",
       " <dbl{[},1{]}> & <dbl{[},1{]}> & <chr> & <dbl{[},1{]}>\\\\\n",
       "\\hline\n",
       "\t 4.715899 & 4.765959 & lift\\_seg2\\_glm & 0.010615218\\\\\n",
       "\t 3.925896 & 3.945993 & lift\\_seg\\_glm  & 0.005119136\\\\\n",
       "\t 4.666204 & 4.671685 & lift\\_agg\\_glm  & 0.001174628\\\\\n",
       "\t 4.619798 & 4.624548 & lift\\_seg2\\_rf  & 0.001028237\\\\\n",
       "\t 4.857675 & 4.865714 & lift\\_seg\\_rf   & 0.001654882\\\\\n",
       "\t 4.829539 & 4.835751 & lift\\_agg\\_rf   & 0.001286222\\\\\n",
       "\\end{tabular}\n"
      ],
      "text/markdown": [
       "\n",
       "A tibble: 6 × 4\n",
       "\n",
       "| l10_orig &lt;dbl[,1]&gt; | l10_fb &lt;dbl[,1]&gt; | model &lt;chr&gt; | imprv &lt;dbl[,1]&gt; |\n",
       "|---|---|---|---|\n",
       "| 4.715899 | 4.765959 | lift_seg2_glm | 0.010615218 |\n",
       "| 3.925896 | 3.945993 | lift_seg_glm  | 0.005119136 |\n",
       "| 4.666204 | 4.671685 | lift_agg_glm  | 0.001174628 |\n",
       "| 4.619798 | 4.624548 | lift_seg2_rf  | 0.001028237 |\n",
       "| 4.857675 | 4.865714 | lift_seg_rf   | 0.001654882 |\n",
       "| 4.829539 | 4.835751 | lift_agg_rf   | 0.001286222 |\n",
       "\n"
      ],
      "text/plain": [
       "  l10_orig l10_fb   model         imprv      \n",
       "1 4.715899 4.765959 lift_seg2_glm 0.010615218\n",
       "2 3.925896 3.945993 lift_seg_glm  0.005119136\n",
       "3 4.666204 4.671685 lift_agg_glm  0.001174628\n",
       "4 4.619798 4.624548 lift_seg2_rf  0.001028237\n",
       "5 4.857675 4.865714 lift_seg_rf   0.001654882\n",
       "6 4.829539 4.835751 lift_agg_rf   0.001286222"
      ]
     },
     "metadata": {},
     "output_type": "display_data"
    }
   ],
   "source": [
    "lift_df_tidy <- bind_cols(\n",
    "    lift_df %>% filter(P==0.1) %>% select(contains(\"lift_\")) %>% t() %>% head(6),\n",
    "    lift_df %>% filter(P==0.1) %>% select(contains(\"lift_\")) %>% t() %>% tail(6))\n",
    "lift_df_tidy$model <- c('lift_seg2_glm','lift_seg_glm','lift_agg_glm',\n",
    "                        'lift_seg2_rf','lift_seg_rf','lift_agg_rf')\n",
    "names(lift_df_tidy) <- c('l10_orig','l10_fb','model')\n",
    "lift_df_tidy <- lift_df_tidy %>% mutate(imprv = (l10_fb-l10_orig)/l10_orig)\n",
    "lift_df_tidy"
   ]
  },
  {
   "cell_type": "code",
   "execution_count": null,
   "metadata": {},
   "outputs": [
    {
     "name": "stderr",
     "output_type": "stream",
     "text": [
      "New names:\n",
      "* NA -> ...1\n",
      "* NA -> ...2\n",
      "\n"
     ]
    },
    {
     "data": {
      "text/html": [
       "<table>\n",
       "<caption>A tibble: 6 × 4</caption>\n",
       "<thead>\n",
       "\t<tr><th scope=col>auc_orig</th><th scope=col>auc_fb</th><th scope=col>model</th><th scope=col>imprv</th></tr>\n",
       "\t<tr><th scope=col>&lt;dbl[,1]&gt;</th><th scope=col>&lt;dbl[,1]&gt;</th><th scope=col>&lt;chr&gt;</th><th scope=col>&lt;dbl[,1]&gt;</th></tr>\n",
       "</thead>\n",
       "<tbody>\n",
       "\t<tr><td>0.8167190</td><td>0.8238152</td><td>auc_seg2_glm</td><td>0.008688591</td></tr>\n",
       "\t<tr><td>0.8027497</td><td>0.8061041</td><td>auc_seg_glm </td><td>0.004178644</td></tr>\n",
       "\t<tr><td>0.8113440</td><td>0.8126338</td><td>auc_agg_glm </td><td>0.001589800</td></tr>\n",
       "\t<tr><td>0.8190357</td><td>0.8203329</td><td>auc_seg2_rf </td><td>0.001583793</td></tr>\n",
       "\t<tr><td>0.8315727</td><td>0.8328480</td><td>auc_seg_rf  </td><td>0.001533550</td></tr>\n",
       "\t<tr><td>0.8314704</td><td>0.8327530</td><td>auc_agg_rf  </td><td>0.001542528</td></tr>\n",
       "</tbody>\n",
       "</table>\n"
      ],
      "text/latex": [
       "A tibble: 6 × 4\n",
       "\\begin{tabular}{llll}\n",
       " auc\\_orig & auc\\_fb & model & imprv\\\\\n",
       " <dbl{[},1{]}> & <dbl{[},1{]}> & <chr> & <dbl{[},1{]}>\\\\\n",
       "\\hline\n",
       "\t 0.8167190 & 0.8238152 & auc\\_seg2\\_glm & 0.008688591\\\\\n",
       "\t 0.8027497 & 0.8061041 & auc\\_seg\\_glm  & 0.004178644\\\\\n",
       "\t 0.8113440 & 0.8126338 & auc\\_agg\\_glm  & 0.001589800\\\\\n",
       "\t 0.8190357 & 0.8203329 & auc\\_seg2\\_rf  & 0.001583793\\\\\n",
       "\t 0.8315727 & 0.8328480 & auc\\_seg\\_rf   & 0.001533550\\\\\n",
       "\t 0.8314704 & 0.8327530 & auc\\_agg\\_rf   & 0.001542528\\\\\n",
       "\\end{tabular}\n"
      ],
      "text/markdown": [
       "\n",
       "A tibble: 6 × 4\n",
       "\n",
       "| auc_orig &lt;dbl[,1]&gt; | auc_fb &lt;dbl[,1]&gt; | model &lt;chr&gt; | imprv &lt;dbl[,1]&gt; |\n",
       "|---|---|---|---|\n",
       "| 0.8167190 | 0.8238152 | auc_seg2_glm | 0.008688591 |\n",
       "| 0.8027497 | 0.8061041 | auc_seg_glm  | 0.004178644 |\n",
       "| 0.8113440 | 0.8126338 | auc_agg_glm  | 0.001589800 |\n",
       "| 0.8190357 | 0.8203329 | auc_seg2_rf  | 0.001583793 |\n",
       "| 0.8315727 | 0.8328480 | auc_seg_rf   | 0.001533550 |\n",
       "| 0.8314704 | 0.8327530 | auc_agg_rf   | 0.001542528 |\n",
       "\n"
      ],
      "text/plain": [
       "  auc_orig  auc_fb    model        imprv      \n",
       "1 0.8167190 0.8238152 auc_seg2_glm 0.008688591\n",
       "2 0.8027497 0.8061041 auc_seg_glm  0.004178644\n",
       "3 0.8113440 0.8126338 auc_agg_glm  0.001589800\n",
       "4 0.8190357 0.8203329 auc_seg2_rf  0.001583793\n",
       "5 0.8315727 0.8328480 auc_seg_rf   0.001533550\n",
       "6 0.8314704 0.8327530 auc_agg_rf   0.001542528"
      ]
     },
     "metadata": {},
     "output_type": "display_data"
    }
   ],
   "source": [
    "auc_df_tidy <- bind_cols(\n",
    "    as.data.frame(auc_list) %>% t() %>% head(6),\n",
    "    as.data.frame(auc_list) %>% t() %>% tail(6))\n",
    "auc_df_tidy$model <- c('auc_seg2_glm','auc_seg_glm','auc_agg_glm',\n",
    "                        'auc_seg2_rf','auc_seg_rf','auc_agg_rf')\n",
    "names(auc_df_tidy) <- c('auc_orig','auc_fb','model')\n",
    "auc_df_tidy <- auc_df_tidy %>% mutate(imprv = (auc_fb-auc_orig)/auc_orig)\n",
    "auc_df_tidy\n",
    "\n"
   ]
  },
  {
   "cell_type": "markdown",
   "metadata": {},
   "source": [
    "# Generate one prediction column for each fallback table\n",
    "## to determine when which table is most appropriate"
   ]
  },
  {
   "cell_type": "code",
   "execution_count": null,
   "metadata": {},
   "outputs": [
    {
     "data": {
      "text/html": [
       "<table>\n",
       "<caption>A data.frame: 6 × 62</caption>\n",
       "<thead>\n",
       "\t<tr><th></th><th scope=col>reseller</th><th scope=col>registrar</th><th scope=col>reseller_country</th><th scope=col>domain_id</th><th scope=col>domain</th><th scope=col>tld_registrar_index</th><th scope=col>renewal_type</th><th scope=col>renewed_count</th><th scope=col>expiry_date</th><th scope=col>creation_date</th><th scope=col>status</th><th scope=col>tld</th><th scope=col>region</th><th scope=col>reg_period</th><th scope=col>registrant_country</th><th scope=col>renewal_status</th><th scope=col>renew_mbg</th><th scope=col>renew_type</th><th scope=col>autorenew_type</th><th scope=col>renew_date</th><th scope=col>renew_registrar</th><th scope=col>renew_reseller</th><th scope=col>reg_revenue</th><th scope=col>reg_arpt</th><th scope=col>renew_period</th><th scope=col>⋯</th><th scope=col>pattern_score</th><th scope=col>pattern_domain_count</th><th scope=col>actual</th><th scope=col>pred_df_seg2_glm</th><th scope=col>pred_df_seg_glm</th><th scope=col>pred_df_agg_glm</th><th scope=col>pred_df_seg2_rf</th><th scope=col>pred_df_seg_rf</th><th scope=col>pred_df_agg_rf</th><th scope=col>n</th><th scope=col>start_date</th><th scope=col>end_date</th><th scope=col>reseller_am</th><th scope=col>reseller_geo</th><th scope=col>reg_arpt_slab</th><th scope=col>pred_df_seg2_glm_fb</th><th scope=col>pred_df_seg_glm_fb</th><th scope=col>pred_df_agg_glm_fb</th><th scope=col>pred_df_seg2_rf_fb</th><th scope=col>pred_df_seg_rf_fb</th><th scope=col>pred_df_agg_rf_fb</th><th scope=col>npv_fallback_first_geo_arpt_tld</th><th scope=col>npv_fallback_first_geo_arpt</th><th scope=col>npv_fallback_first_tld_arpt</th><th scope=col>npv_fallback_first_final</th></tr>\n",
       "\t<tr><th></th><th scope=col>&lt;fct&gt;</th><th scope=col>&lt;chr&gt;</th><th scope=col>&lt;fct&gt;</th><th scope=col>&lt;int&gt;</th><th scope=col>&lt;chr&gt;</th><th scope=col>&lt;chr&gt;</th><th scope=col>&lt;chr&gt;</th><th scope=col>&lt;int&gt;</th><th scope=col>&lt;date&gt;</th><th scope=col>&lt;date&gt;</th><th scope=col>&lt;chr&gt;</th><th scope=col>&lt;fct&gt;</th><th scope=col>&lt;chr&gt;</th><th scope=col>&lt;int&gt;</th><th scope=col>&lt;chr&gt;</th><th scope=col>&lt;fct&gt;</th><th scope=col>&lt;int&gt;</th><th scope=col>&lt;chr&gt;</th><th scope=col>&lt;chr&gt;</th><th scope=col>&lt;date&gt;</th><th scope=col>&lt;chr&gt;</th><th scope=col>&lt;chr&gt;</th><th scope=col>&lt;dbl&gt;</th><th scope=col>&lt;dbl&gt;</th><th scope=col>&lt;int&gt;</th><th scope=col>⋯</th><th scope=col>&lt;dbl&gt;</th><th scope=col>&lt;int&gt;</th><th scope=col>&lt;fct&gt;</th><th scope=col>&lt;dbl&gt;</th><th scope=col>&lt;dbl&gt;</th><th scope=col>&lt;dbl&gt;</th><th scope=col>&lt;dbl&gt;</th><th scope=col>&lt;dbl&gt;</th><th scope=col>&lt;dbl&gt;</th><th scope=col>&lt;int&gt;</th><th scope=col>&lt;fct&gt;</th><th scope=col>&lt;fct&gt;</th><th scope=col>&lt;fct&gt;</th><th scope=col>&lt;fct&gt;</th><th scope=col>&lt;fct&gt;</th><th scope=col>&lt;dbl&gt;</th><th scope=col>&lt;dbl&gt;</th><th scope=col>&lt;dbl&gt;</th><th scope=col>&lt;dbl&gt;</th><th scope=col>&lt;dbl&gt;</th><th scope=col>&lt;dbl&gt;</th><th scope=col>&lt;dbl&gt;</th><th scope=col>&lt;dbl&gt;</th><th scope=col>&lt;dbl&gt;</th><th scope=col>&lt;dbl&gt;</th></tr>\n",
       "</thead>\n",
       "<tbody>\n",
       "\t<tr><th scope=row>1</th><td>1&amp;1 internet</td><td>1&amp;1 internet</td><td>Germany</td><td>92459593</td><td><span style=white-space:pre-wrap>penrosetile.store    </span></td><td>store1&amp;1 internet </td><td>FirstTime</td><td>1</td><td>2020-02-01</td><td>2019-02-01</td><td>Active </td><td>store </td><td>Non China</td><td>1</td><td>NA</td><td><span style=white-space:pre-wrap>Renewed   </span></td><td>0</td><td>auto-renewal</td><td><span style=white-space:pre-wrap>realized  </span></td><td>2020-02-01</td><td>1&amp;1 Internet</td><td>1&amp;1 Internet</td><td>15</td><td>15.0000</td><td> 1</td><td>⋯</td><td>0.062500000</td><td>1</td><td><span style=white-space:pre-wrap>Renewed   </span></td><td>0.5069604</td><td>0.534</td><td>0.558</td><td>0.4878033</td><td>0.4981100</td><td>0.4763754</td><td> 765</td><td>2013-01-01T00:00:00Z</td><td>2019-12-31T00:00:00Z</td><td>Neha</td><td>EU</td><td>(10,15] </td><td>0.5069604</td><td>0.534</td><td>0.558</td><td>0.4878033</td><td>0.4981100</td><td>0.4763754</td><td><span style=white-space:pre-wrap>   NA</span></td><td>0.512</td><td>0.549</td><td>0.493</td></tr>\n",
       "\t<tr><th scope=row>2</th><td>1&amp;1 internet</td><td>1&amp;1 internet</td><td>Germany</td><td>91070293</td><td>alcantarapalma.online</td><td>online1&amp;1 internet</td><td>FirstTime</td><td>1</td><td>2020-01-15</td><td>2019-01-15</td><td>Active </td><td>online</td><td>Non China</td><td>1</td><td>NA</td><td>Not Renewd</td><td>0</td><td>auto-renewal</td><td>unrealized</td><td>2020-01-15</td><td>1&amp;1 Internet</td><td>1&amp;1 Internet</td><td> 0</td><td> 0.0001</td><td> 1</td><td>⋯</td><td>0.001600000</td><td>1</td><td>Not Renewd</td><td>0.4234759</td><td>0.425</td><td>0.374</td><td>0.5154490</td><td>0.5268478</td><td>0.5192867</td><td>8041</td><td>2013-01-01T00:00:00Z</td><td>2019-12-31T00:00:00Z</td><td>Neha</td><td>EU</td><td>(-Inf,0]</td><td>0.4234759</td><td>0.425</td><td>0.374</td><td>0.5154490</td><td>0.5268478</td><td>0.5192867</td><td>0.149</td><td>0.122</td><td>0.125</td><td>0.129</td></tr>\n",
       "\t<tr><th scope=row>3</th><td>1&amp;1 internet</td><td>1&amp;1 internet</td><td>Germany</td><td>92243793</td><td><span style=white-space:pre-wrap>layerfarms.online    </span></td><td>online1&amp;1 internet</td><td>FirstTime</td><td>1</td><td>2020-01-30</td><td>2019-01-30</td><td>Active </td><td>online</td><td>Non China</td><td>1</td><td>NA</td><td><span style=white-space:pre-wrap>Renewed   </span></td><td>0</td><td><span style=white-space:pre-wrap>renewal     </span></td><td><span style=white-space:pre-wrap>NA        </span></td><td>2019-05-19</td><td>1&amp;1 Internet</td><td>1&amp;1 Internet</td><td> 1</td><td> 1.0000</td><td> 1</td><td>⋯</td><td>0.031250000</td><td>2</td><td><span style=white-space:pre-wrap>Renewed   </span></td><td>0.4671778</td><td>0.485</td><td>0.475</td><td>0.3369761</td><td>0.3348900</td><td>0.3264582</td><td>8041</td><td>2013-01-01T00:00:00Z</td><td>2019-12-31T00:00:00Z</td><td>Neha</td><td>EU</td><td>(0.3,1] </td><td>0.4671778</td><td>0.485</td><td>0.475</td><td>0.3369761</td><td>0.3348900</td><td>0.3264582</td><td>0.252</td><td>0.081</td><td>0.099</td><td>0.057</td></tr>\n",
       "\t<tr><th scope=row>4</th><td>1&amp;1 internet</td><td>1&amp;1 internet</td><td>Germany</td><td>92382343</td><td><span style=white-space:pre-wrap>koiunyq.online       </span></td><td>online1&amp;1 internet</td><td>FirstTime</td><td>1</td><td>2020-01-31</td><td>2019-01-31</td><td>Deleted</td><td>online</td><td>Non China</td><td>1</td><td>NA</td><td>Not Renewd</td><td>0</td><td><span style=white-space:pre-wrap>NA          </span></td><td><span style=white-space:pre-wrap>NA        </span></td><td>NA</td><td>Not Assigned</td><td>Not Assigned</td><td> 1</td><td> 1.0000</td><td>NA</td><td>⋯</td><td>0.012345679</td><td>1</td><td>Not Renewd</td><td>0.5380713</td><td>0.547</td><td>0.508</td><td>0.3168814</td><td>0.3273583</td><td>0.4140139</td><td>8041</td><td>2013-01-01T00:00:00Z</td><td>2019-12-31T00:00:00Z</td><td>Neha</td><td>EU</td><td>(0.3,1] </td><td>0.5380713</td><td>0.547</td><td>0.508</td><td>0.3168814</td><td>0.3273583</td><td>0.4140139</td><td>0.252</td><td>0.081</td><td>0.099</td><td>0.057</td></tr>\n",
       "\t<tr><th scope=row>5</th><td>1&amp;1 internet</td><td>1&amp;1 internet</td><td>Germany</td><td>89480877</td><td><span style=white-space:pre-wrap>e-move24.online      </span></td><td>online1&amp;1 internet</td><td>FirstTime</td><td>1</td><td>2020-01-02</td><td>2019-01-02</td><td>Active </td><td>online</td><td>Non China</td><td>1</td><td>NA</td><td><span style=white-space:pre-wrap>Renewed   </span></td><td>0</td><td>auto-renewal</td><td><span style=white-space:pre-wrap>realized  </span></td><td>2020-01-02</td><td>1&amp;1 Internet</td><td>1&amp;1 Internet</td><td> 0</td><td> 0.0001</td><td> 1</td><td>⋯</td><td>0.003086420</td><td>1</td><td><span style=white-space:pre-wrap>Renewed   </span></td><td>0.4357224</td><td>0.450</td><td>0.292</td><td>0.5910136</td><td>0.5345685</td><td>0.5278744</td><td>8041</td><td>2013-01-01T00:00:00Z</td><td>2019-12-31T00:00:00Z</td><td>Neha</td><td>EU</td><td>(-Inf,0]</td><td>0.4357224</td><td>0.450</td><td>0.292</td><td>0.5910136</td><td>0.5345685</td><td>0.5278744</td><td>0.149</td><td>0.122</td><td>0.125</td><td>0.129</td></tr>\n",
       "\t<tr><th scope=row>6</th><td>1&amp;1 internet</td><td>1&amp;1 internet</td><td>Germany</td><td>90751138</td><td>votenigeriang.online </td><td>online1&amp;1 internet</td><td>FirstTime</td><td>1</td><td>2020-01-12</td><td>2019-01-12</td><td>Active </td><td>online</td><td>Non China</td><td>1</td><td>NA</td><td><span style=white-space:pre-wrap>Renewed   </span></td><td>0</td><td>auto-renewal</td><td><span style=white-space:pre-wrap>realized  </span></td><td>2020-01-12</td><td>1&amp;1 Internet</td><td>1&amp;1 Internet</td><td> 0</td><td> 0.0001</td><td> 1</td><td>⋯</td><td>0.002066116</td><td>1</td><td><span style=white-space:pre-wrap>Renewed   </span></td><td>0.4415465</td><td>0.444</td><td>0.385</td><td>0.4651246</td><td>0.4706303</td><td>0.4768728</td><td>8041</td><td>2013-01-01T00:00:00Z</td><td>2019-12-31T00:00:00Z</td><td>Neha</td><td>EU</td><td>(-Inf,0]</td><td>0.4415465</td><td>0.444</td><td>0.385</td><td>0.4651246</td><td>0.4706303</td><td>0.4768728</td><td>0.149</td><td>0.122</td><td>0.125</td><td>0.129</td></tr>\n",
       "</tbody>\n",
       "</table>\n"
      ],
      "text/latex": [
       "A data.frame: 6 × 62\n",
       "\\begin{tabular}{r|lllllllllllllllllllllllllllllllllllllllllllllllllll}\n",
       "  & reseller & registrar & reseller\\_country & domain\\_id & domain & tld\\_registrar\\_index & renewal\\_type & renewed\\_count & expiry\\_date & creation\\_date & status & tld & region & reg\\_period & registrant\\_country & renewal\\_status & renew\\_mbg & renew\\_type & autorenew\\_type & renew\\_date & renew\\_registrar & renew\\_reseller & reg\\_revenue & reg\\_arpt & renew\\_period & ⋯ & pattern\\_score & pattern\\_domain\\_count & actual & pred\\_df\\_seg2\\_glm & pred\\_df\\_seg\\_glm & pred\\_df\\_agg\\_glm & pred\\_df\\_seg2\\_rf & pred\\_df\\_seg\\_rf & pred\\_df\\_agg\\_rf & n & start\\_date & end\\_date & reseller\\_am & reseller\\_geo & reg\\_arpt\\_slab & pred\\_df\\_seg2\\_glm\\_fb & pred\\_df\\_seg\\_glm\\_fb & pred\\_df\\_agg\\_glm\\_fb & pred\\_df\\_seg2\\_rf\\_fb & pred\\_df\\_seg\\_rf\\_fb & pred\\_df\\_agg\\_rf\\_fb & npv\\_fallback\\_first\\_geo\\_arpt\\_tld & npv\\_fallback\\_first\\_geo\\_arpt & npv\\_fallback\\_first\\_tld\\_arpt & npv\\_fallback\\_first\\_final\\\\\n",
       "  & <fct> & <chr> & <fct> & <int> & <chr> & <chr> & <chr> & <int> & <date> & <date> & <chr> & <fct> & <chr> & <int> & <chr> & <fct> & <int> & <chr> & <chr> & <date> & <chr> & <chr> & <dbl> & <dbl> & <int> & ⋯ & <dbl> & <int> & <fct> & <dbl> & <dbl> & <dbl> & <dbl> & <dbl> & <dbl> & <int> & <fct> & <fct> & <fct> & <fct> & <fct> & <dbl> & <dbl> & <dbl> & <dbl> & <dbl> & <dbl> & <dbl> & <dbl> & <dbl> & <dbl>\\\\\n",
       "\\hline\n",
       "\t1 & 1\\&1 internet & 1\\&1 internet & Germany & 92459593 & penrosetile.store     & store1\\&1 internet  & FirstTime & 1 & 2020-02-01 & 2019-02-01 & Active  & store  & Non China & 1 & NA & Renewed    & 0 & auto-renewal & realized   & 2020-02-01 & 1\\&1 Internet & 1\\&1 Internet & 15 & 15.0000 &  1 & ⋯ & 0.062500000 & 1 & Renewed    & 0.5069604 & 0.534 & 0.558 & 0.4878033 & 0.4981100 & 0.4763754 &  765 & 2013-01-01T00:00:00Z & 2019-12-31T00:00:00Z & Neha & EU & (10,15{]}  & 0.5069604 & 0.534 & 0.558 & 0.4878033 & 0.4981100 & 0.4763754 &    NA & 0.512 & 0.549 & 0.493\\\\\n",
       "\t2 & 1\\&1 internet & 1\\&1 internet & Germany & 91070293 & alcantarapalma.online & online1\\&1 internet & FirstTime & 1 & 2020-01-15 & 2019-01-15 & Active  & online & Non China & 1 & NA & Not Renewd & 0 & auto-renewal & unrealized & 2020-01-15 & 1\\&1 Internet & 1\\&1 Internet &  0 &  0.0001 &  1 & ⋯ & 0.001600000 & 1 & Not Renewd & 0.4234759 & 0.425 & 0.374 & 0.5154490 & 0.5268478 & 0.5192867 & 8041 & 2013-01-01T00:00:00Z & 2019-12-31T00:00:00Z & Neha & EU & (-Inf,0{]} & 0.4234759 & 0.425 & 0.374 & 0.5154490 & 0.5268478 & 0.5192867 & 0.149 & 0.122 & 0.125 & 0.129\\\\\n",
       "\t3 & 1\\&1 internet & 1\\&1 internet & Germany & 92243793 & layerfarms.online     & online1\\&1 internet & FirstTime & 1 & 2020-01-30 & 2019-01-30 & Active  & online & Non China & 1 & NA & Renewed    & 0 & renewal      & NA         & 2019-05-19 & 1\\&1 Internet & 1\\&1 Internet &  1 &  1.0000 &  1 & ⋯ & 0.031250000 & 2 & Renewed    & 0.4671778 & 0.485 & 0.475 & 0.3369761 & 0.3348900 & 0.3264582 & 8041 & 2013-01-01T00:00:00Z & 2019-12-31T00:00:00Z & Neha & EU & (0.3,1{]}  & 0.4671778 & 0.485 & 0.475 & 0.3369761 & 0.3348900 & 0.3264582 & 0.252 & 0.081 & 0.099 & 0.057\\\\\n",
       "\t4 & 1\\&1 internet & 1\\&1 internet & Germany & 92382343 & koiunyq.online        & online1\\&1 internet & FirstTime & 1 & 2020-01-31 & 2019-01-31 & Deleted & online & Non China & 1 & NA & Not Renewd & 0 & NA           & NA         & NA & Not Assigned & Not Assigned &  1 &  1.0000 & NA & ⋯ & 0.012345679 & 1 & Not Renewd & 0.5380713 & 0.547 & 0.508 & 0.3168814 & 0.3273583 & 0.4140139 & 8041 & 2013-01-01T00:00:00Z & 2019-12-31T00:00:00Z & Neha & EU & (0.3,1{]}  & 0.5380713 & 0.547 & 0.508 & 0.3168814 & 0.3273583 & 0.4140139 & 0.252 & 0.081 & 0.099 & 0.057\\\\\n",
       "\t5 & 1\\&1 internet & 1\\&1 internet & Germany & 89480877 & e-move24.online       & online1\\&1 internet & FirstTime & 1 & 2020-01-02 & 2019-01-02 & Active  & online & Non China & 1 & NA & Renewed    & 0 & auto-renewal & realized   & 2020-01-02 & 1\\&1 Internet & 1\\&1 Internet &  0 &  0.0001 &  1 & ⋯ & 0.003086420 & 1 & Renewed    & 0.4357224 & 0.450 & 0.292 & 0.5910136 & 0.5345685 & 0.5278744 & 8041 & 2013-01-01T00:00:00Z & 2019-12-31T00:00:00Z & Neha & EU & (-Inf,0{]} & 0.4357224 & 0.450 & 0.292 & 0.5910136 & 0.5345685 & 0.5278744 & 0.149 & 0.122 & 0.125 & 0.129\\\\\n",
       "\t6 & 1\\&1 internet & 1\\&1 internet & Germany & 90751138 & votenigeriang.online  & online1\\&1 internet & FirstTime & 1 & 2020-01-12 & 2019-01-12 & Active  & online & Non China & 1 & NA & Renewed    & 0 & auto-renewal & realized   & 2020-01-12 & 1\\&1 Internet & 1\\&1 Internet &  0 &  0.0001 &  1 & ⋯ & 0.002066116 & 1 & Renewed    & 0.4415465 & 0.444 & 0.385 & 0.4651246 & 0.4706303 & 0.4768728 & 8041 & 2013-01-01T00:00:00Z & 2019-12-31T00:00:00Z & Neha & EU & (-Inf,0{]} & 0.4415465 & 0.444 & 0.385 & 0.4651246 & 0.4706303 & 0.4768728 & 0.149 & 0.122 & 0.125 & 0.129\\\\\n",
       "\\end{tabular}\n"
      ],
      "text/markdown": [
       "\n",
       "A data.frame: 6 × 62\n",
       "\n",
       "| <!--/--> | reseller &lt;fct&gt; | registrar &lt;chr&gt; | reseller_country &lt;fct&gt; | domain_id &lt;int&gt; | domain &lt;chr&gt; | tld_registrar_index &lt;chr&gt; | renewal_type &lt;chr&gt; | renewed_count &lt;int&gt; | expiry_date &lt;date&gt; | creation_date &lt;date&gt; | status &lt;chr&gt; | tld &lt;fct&gt; | region &lt;chr&gt; | reg_period &lt;int&gt; | registrant_country &lt;chr&gt; | renewal_status &lt;fct&gt; | renew_mbg &lt;int&gt; | renew_type &lt;chr&gt; | autorenew_type &lt;chr&gt; | renew_date &lt;date&gt; | renew_registrar &lt;chr&gt; | renew_reseller &lt;chr&gt; | reg_revenue &lt;dbl&gt; | reg_arpt &lt;dbl&gt; | renew_period &lt;int&gt; | ⋯ ⋯ | pattern_score &lt;dbl&gt; | pattern_domain_count &lt;int&gt; | actual &lt;fct&gt; | pred_df_seg2_glm &lt;dbl&gt; | pred_df_seg_glm &lt;dbl&gt; | pred_df_agg_glm &lt;dbl&gt; | pred_df_seg2_rf &lt;dbl&gt; | pred_df_seg_rf &lt;dbl&gt; | pred_df_agg_rf &lt;dbl&gt; | n &lt;int&gt; | start_date &lt;fct&gt; | end_date &lt;fct&gt; | reseller_am &lt;fct&gt; | reseller_geo &lt;fct&gt; | reg_arpt_slab &lt;fct&gt; | pred_df_seg2_glm_fb &lt;dbl&gt; | pred_df_seg_glm_fb &lt;dbl&gt; | pred_df_agg_glm_fb &lt;dbl&gt; | pred_df_seg2_rf_fb &lt;dbl&gt; | pred_df_seg_rf_fb &lt;dbl&gt; | pred_df_agg_rf_fb &lt;dbl&gt; | npv_fallback_first_geo_arpt_tld &lt;dbl&gt; | npv_fallback_first_geo_arpt &lt;dbl&gt; | npv_fallback_first_tld_arpt &lt;dbl&gt; | npv_fallback_first_final &lt;dbl&gt; |\n",
       "|---|---|---|---|---|---|---|---|---|---|---|---|---|---|---|---|---|---|---|---|---|---|---|---|---|---|---|---|---|---|---|---|---|---|---|---|---|---|---|---|---|---|---|---|---|---|---|---|---|---|---|---|\n",
       "| 1 | 1&amp;1 internet | 1&amp;1 internet | Germany | 92459593 | penrosetile.store     | store1&amp;1 internet  | FirstTime | 1 | 2020-02-01 | 2019-02-01 | Active  | store  | Non China | 1 | NA | Renewed    | 0 | auto-renewal | realized   | 2020-02-01 | 1&amp;1 Internet | 1&amp;1 Internet | 15 | 15.0000 |  1 | ⋯ | 0.062500000 | 1 | Renewed    | 0.5069604 | 0.534 | 0.558 | 0.4878033 | 0.4981100 | 0.4763754 |  765 | 2013-01-01T00:00:00Z | 2019-12-31T00:00:00Z | Neha | EU | (10,15]  | 0.5069604 | 0.534 | 0.558 | 0.4878033 | 0.4981100 | 0.4763754 |    NA | 0.512 | 0.549 | 0.493 |\n",
       "| 2 | 1&amp;1 internet | 1&amp;1 internet | Germany | 91070293 | alcantarapalma.online | online1&amp;1 internet | FirstTime | 1 | 2020-01-15 | 2019-01-15 | Active  | online | Non China | 1 | NA | Not Renewd | 0 | auto-renewal | unrealized | 2020-01-15 | 1&amp;1 Internet | 1&amp;1 Internet |  0 |  0.0001 |  1 | ⋯ | 0.001600000 | 1 | Not Renewd | 0.4234759 | 0.425 | 0.374 | 0.5154490 | 0.5268478 | 0.5192867 | 8041 | 2013-01-01T00:00:00Z | 2019-12-31T00:00:00Z | Neha | EU | (-Inf,0] | 0.4234759 | 0.425 | 0.374 | 0.5154490 | 0.5268478 | 0.5192867 | 0.149 | 0.122 | 0.125 | 0.129 |\n",
       "| 3 | 1&amp;1 internet | 1&amp;1 internet | Germany | 92243793 | layerfarms.online     | online1&amp;1 internet | FirstTime | 1 | 2020-01-30 | 2019-01-30 | Active  | online | Non China | 1 | NA | Renewed    | 0 | renewal      | NA         | 2019-05-19 | 1&amp;1 Internet | 1&amp;1 Internet |  1 |  1.0000 |  1 | ⋯ | 0.031250000 | 2 | Renewed    | 0.4671778 | 0.485 | 0.475 | 0.3369761 | 0.3348900 | 0.3264582 | 8041 | 2013-01-01T00:00:00Z | 2019-12-31T00:00:00Z | Neha | EU | (0.3,1]  | 0.4671778 | 0.485 | 0.475 | 0.3369761 | 0.3348900 | 0.3264582 | 0.252 | 0.081 | 0.099 | 0.057 |\n",
       "| 4 | 1&amp;1 internet | 1&amp;1 internet | Germany | 92382343 | koiunyq.online        | online1&amp;1 internet | FirstTime | 1 | 2020-01-31 | 2019-01-31 | Deleted | online | Non China | 1 | NA | Not Renewd | 0 | NA           | NA         | NA | Not Assigned | Not Assigned |  1 |  1.0000 | NA | ⋯ | 0.012345679 | 1 | Not Renewd | 0.5380713 | 0.547 | 0.508 | 0.3168814 | 0.3273583 | 0.4140139 | 8041 | 2013-01-01T00:00:00Z | 2019-12-31T00:00:00Z | Neha | EU | (0.3,1]  | 0.5380713 | 0.547 | 0.508 | 0.3168814 | 0.3273583 | 0.4140139 | 0.252 | 0.081 | 0.099 | 0.057 |\n",
       "| 5 | 1&amp;1 internet | 1&amp;1 internet | Germany | 89480877 | e-move24.online       | online1&amp;1 internet | FirstTime | 1 | 2020-01-02 | 2019-01-02 | Active  | online | Non China | 1 | NA | Renewed    | 0 | auto-renewal | realized   | 2020-01-02 | 1&amp;1 Internet | 1&amp;1 Internet |  0 |  0.0001 |  1 | ⋯ | 0.003086420 | 1 | Renewed    | 0.4357224 | 0.450 | 0.292 | 0.5910136 | 0.5345685 | 0.5278744 | 8041 | 2013-01-01T00:00:00Z | 2019-12-31T00:00:00Z | Neha | EU | (-Inf,0] | 0.4357224 | 0.450 | 0.292 | 0.5910136 | 0.5345685 | 0.5278744 | 0.149 | 0.122 | 0.125 | 0.129 |\n",
       "| 6 | 1&amp;1 internet | 1&amp;1 internet | Germany | 90751138 | votenigeriang.online  | online1&amp;1 internet | FirstTime | 1 | 2020-01-12 | 2019-01-12 | Active  | online | Non China | 1 | NA | Renewed    | 0 | auto-renewal | realized   | 2020-01-12 | 1&amp;1 Internet | 1&amp;1 Internet |  0 |  0.0001 |  1 | ⋯ | 0.002066116 | 1 | Renewed    | 0.4415465 | 0.444 | 0.385 | 0.4651246 | 0.4706303 | 0.4768728 | 8041 | 2013-01-01T00:00:00Z | 2019-12-31T00:00:00Z | Neha | EU | (-Inf,0] | 0.4415465 | 0.444 | 0.385 | 0.4651246 | 0.4706303 | 0.4768728 | 0.149 | 0.122 | 0.125 | 0.129 |\n",
       "\n"
      ],
      "text/plain": [
       "  reseller     registrar    reseller_country domain_id domain               \n",
       "1 1&1 internet 1&1 internet Germany          92459593  penrosetile.store    \n",
       "2 1&1 internet 1&1 internet Germany          91070293  alcantarapalma.online\n",
       "3 1&1 internet 1&1 internet Germany          92243793  layerfarms.online    \n",
       "4 1&1 internet 1&1 internet Germany          92382343  koiunyq.online       \n",
       "5 1&1 internet 1&1 internet Germany          89480877  e-move24.online      \n",
       "6 1&1 internet 1&1 internet Germany          90751138  votenigeriang.online \n",
       "  tld_registrar_index renewal_type renewed_count expiry_date creation_date\n",
       "1 store1&1 internet   FirstTime    1             2020-02-01  2019-02-01   \n",
       "2 online1&1 internet  FirstTime    1             2020-01-15  2019-01-15   \n",
       "3 online1&1 internet  FirstTime    1             2020-01-30  2019-01-30   \n",
       "4 online1&1 internet  FirstTime    1             2020-01-31  2019-01-31   \n",
       "5 online1&1 internet  FirstTime    1             2020-01-02  2019-01-02   \n",
       "6 online1&1 internet  FirstTime    1             2020-01-12  2019-01-12   \n",
       "  status  tld    region    reg_period registrant_country renewal_status\n",
       "1 Active  store  Non China 1          NA                 Renewed       \n",
       "2 Active  online Non China 1          NA                 Not Renewd    \n",
       "3 Active  online Non China 1          NA                 Renewed       \n",
       "4 Deleted online Non China 1          NA                 Not Renewd    \n",
       "5 Active  online Non China 1          NA                 Renewed       \n",
       "6 Active  online Non China 1          NA                 Renewed       \n",
       "  renew_mbg renew_type   autorenew_type renew_date renew_registrar\n",
       "1 0         auto-renewal realized       2020-02-01 1&1 Internet   \n",
       "2 0         auto-renewal unrealized     2020-01-15 1&1 Internet   \n",
       "3 0         renewal      NA             2019-05-19 1&1 Internet   \n",
       "4 0         NA           NA             <NA>       Not Assigned   \n",
       "5 0         auto-renewal realized       2020-01-02 1&1 Internet   \n",
       "6 0         auto-renewal realized       2020-01-12 1&1 Internet   \n",
       "  renew_reseller reg_revenue reg_arpt renew_period ⋯ pattern_score\n",
       "1 1&1 Internet   15          15.0000   1           ⋯ 0.062500000  \n",
       "2 1&1 Internet    0           0.0001   1           ⋯ 0.001600000  \n",
       "3 1&1 Internet    1           1.0000   1           ⋯ 0.031250000  \n",
       "4 Not Assigned    1           1.0000  NA           ⋯ 0.012345679  \n",
       "5 1&1 Internet    0           0.0001   1           ⋯ 0.003086420  \n",
       "6 1&1 Internet    0           0.0001   1           ⋯ 0.002066116  \n",
       "  pattern_domain_count actual     pred_df_seg2_glm pred_df_seg_glm\n",
       "1 1                    Renewed    0.5069604        0.534          \n",
       "2 1                    Not Renewd 0.4234759        0.425          \n",
       "3 2                    Renewed    0.4671778        0.485          \n",
       "4 1                    Not Renewd 0.5380713        0.547          \n",
       "5 1                    Renewed    0.4357224        0.450          \n",
       "6 1                    Renewed    0.4415465        0.444          \n",
       "  pred_df_agg_glm pred_df_seg2_rf pred_df_seg_rf pred_df_agg_rf n   \n",
       "1 0.558           0.4878033       0.4981100      0.4763754       765\n",
       "2 0.374           0.5154490       0.5268478      0.5192867      8041\n",
       "3 0.475           0.3369761       0.3348900      0.3264582      8041\n",
       "4 0.508           0.3168814       0.3273583      0.4140139      8041\n",
       "5 0.292           0.5910136       0.5345685      0.5278744      8041\n",
       "6 0.385           0.4651246       0.4706303      0.4768728      8041\n",
       "  start_date           end_date             reseller_am reseller_geo\n",
       "1 2013-01-01T00:00:00Z 2019-12-31T00:00:00Z Neha        EU          \n",
       "2 2013-01-01T00:00:00Z 2019-12-31T00:00:00Z Neha        EU          \n",
       "3 2013-01-01T00:00:00Z 2019-12-31T00:00:00Z Neha        EU          \n",
       "4 2013-01-01T00:00:00Z 2019-12-31T00:00:00Z Neha        EU          \n",
       "5 2013-01-01T00:00:00Z 2019-12-31T00:00:00Z Neha        EU          \n",
       "6 2013-01-01T00:00:00Z 2019-12-31T00:00:00Z Neha        EU          \n",
       "  reg_arpt_slab pred_df_seg2_glm_fb pred_df_seg_glm_fb pred_df_agg_glm_fb\n",
       "1 (10,15]       0.5069604           0.534              0.558             \n",
       "2 (-Inf,0]      0.4234759           0.425              0.374             \n",
       "3 (0.3,1]       0.4671778           0.485              0.475             \n",
       "4 (0.3,1]       0.5380713           0.547              0.508             \n",
       "5 (-Inf,0]      0.4357224           0.450              0.292             \n",
       "6 (-Inf,0]      0.4415465           0.444              0.385             \n",
       "  pred_df_seg2_rf_fb pred_df_seg_rf_fb pred_df_agg_rf_fb\n",
       "1 0.4878033          0.4981100         0.4763754        \n",
       "2 0.5154490          0.5268478         0.5192867        \n",
       "3 0.3369761          0.3348900         0.3264582        \n",
       "4 0.3168814          0.3273583         0.4140139        \n",
       "5 0.5910136          0.5345685         0.5278744        \n",
       "6 0.4651246          0.4706303         0.4768728        \n",
       "  npv_fallback_first_geo_arpt_tld npv_fallback_first_geo_arpt\n",
       "1    NA                           0.512                      \n",
       "2 0.149                           0.122                      \n",
       "3 0.252                           0.081                      \n",
       "4 0.252                           0.081                      \n",
       "5 0.149                           0.122                      \n",
       "6 0.149                           0.122                      \n",
       "  npv_fallback_first_tld_arpt npv_fallback_first_final\n",
       "1 0.549                       0.493                   \n",
       "2 0.125                       0.129                   \n",
       "3 0.099                       0.057                   \n",
       "4 0.099                       0.057                   \n",
       "5 0.125                       0.129                   \n",
       "6 0.125                       0.129                   "
      ]
     },
     "metadata": {},
     "output_type": "display_data"
    }
   ],
   "source": [
    "expiry_test_predictions<-expiry_test_predictions %>% mutate(\n",
    "    temp_index = paste(tld, reseller_geo, reg_arpt_slab, sep = \"\"),\n",
    "    npv_fallback_first_geo_arpt_tld = npv_fallback_first_geo_arpt_tld$renewal_rate[match(temp_index, \n",
    "                                                npv_fallback_first_geo_arpt_tld$index)]\n",
    ")\n",
    "\n",
    "expiry_test_predictions<-expiry_test_predictions %>% mutate(\n",
    "    temp_index = paste(reseller_geo, reg_arpt_slab, sep = \"\"),\n",
    "    npv_fallback_first_geo_arpt = npv_fallback_first_geo_arpt$renewal_rate[match(temp_index, \n",
    "                                                npv_fallback_first_geo_arpt$index)]\n",
    ")\n",
    "\n",
    "expiry_test_predictions<-expiry_test_predictions %>% mutate(\n",
    "    temp_index = paste(tld, reg_arpt_slab, sep = \"\"),\n",
    "    npv_fallback_first_tld_arpt = npv_fallback_first_tld_arpt$renewal_rate[match(temp_index, \n",
    "                                                npv_fallback_first_tld_arpt$index)]\n",
    ")\n",
    "\n",
    "expiry_test_predictions<-expiry_test_predictions %>% mutate(\n",
    "    temp_index = paste(region, reg_arpt_slab, sep = \"\"),\n",
    "    npv_fallback_first_final = npv_fallback_first_final$renewal_rate[match(temp_index, \n",
    "                                                npv_fallback_first_final$index)]\n",
    ")\n",
    "\n",
    "expiry_test_predictions<-expiry_test_predictions %>% select(-temp_index)\n",
    "\n",
    "head(expiry_test_predictions)"
   ]
  },
  {
   "cell_type": "markdown",
   "metadata": {},
   "source": [
    "# Generate Metrics @ Tld-Reseller level "
   ]
  },
  {
   "cell_type": "code",
   "execution_count": null,
   "metadata": {},
   "outputs": [],
   "source": [
    "l10_dplyr <- function (pred_df,\n",
    "                              pred_var = \"first_renewal_prediction\") {\n",
    "  N <- 10  # total number of rows to preallocate--possibly an overestimate\n",
    "  lift_df <- data.frame(P =rep(NA, N), \n",
    "                        actu_renwd2=rep(NA, N), \n",
    "                        gain=rep(NA, N), \n",
    "                        lift=rep(NA, N), \n",
    "                        stringsAsFactors=FALSE)          # you don't know levels yet\n",
    "  actu_renwd <- sum(pred_df[[\"renewal_status\"]]=='Renewed')\n",
    "  \n",
    "  i = 1\n",
    "  for(P in seq(.1,1,length=10)){\n",
    "    temp_df <- data.frame(pred_df)[c(\"renewal_status\",pred_var)]\n",
    "    ttmp_df <- temp_df[order(temp_df[pred_var],decreasing = TRUE),][1:round(dim(temp_df)[1]*P),]\n",
    "    actu_renwd2 <-  sum(ttmp_df[[\"renewal_status\"]] == 'Renewed')\n",
    "    gain = actu_renwd2/actu_renwd\n",
    "    lift = gain/(P)\n",
    "    \n",
    "    lift_df[i, ] <- list(P, actu_renwd2, gain, lift)\n",
    "    i = i+1\n",
    "  }\n",
    "  return(lift_df %>% filter(P==0.1) %>% pull(lift))\n",
    "}\n",
    "\n",
    "auc_dplyr <- function (pred_df,\n",
    "                              pred_var = \"first_renewal_prediction\") {\n",
    "  N <- 10  # total number of rows to preallocate--possibly an overestimate\n",
    "  lift_df <- data.frame(P =rep(NA, N), \n",
    "                        actu_renwd2=rep(NA, N), \n",
    "                        gain=rep(NA, N), \n",
    "                        lift=rep(NA, N), \n",
    "                        stringsAsFactors=FALSE)          # you don't know levels yet\n",
    "  actu_renwd <- sum(pred_df[[\"renewal_status\"]]=='Renewed')\n",
    "  \n",
    "  i = 1\n",
    "  for(P in seq(.1,1,length=10)){\n",
    "    temp_df <- data.frame(pred_df)[c(\"renewal_status\",pred_var)]\n",
    "    ttmp_df <- temp_df[order(temp_df[pred_var],decreasing = TRUE),][1:round(dim(temp_df)[1]*P),]\n",
    "    actu_renwd2 <-  sum(ttmp_df[[\"renewal_status\"]] == 'Renewed')\n",
    "    gain = actu_renwd2/actu_renwd\n",
    "    lift = gain/(P)\n",
    "    \n",
    "    lift_df[i, ] <- list(P, actu_renwd2, gain, lift)\n",
    "    i = i+1\n",
    "  }\n",
    "  return(calc_auc(lift_df))\n",
    "}"
   ]
  },
  {
   "cell_type": "code",
   "execution_count": null,
   "metadata": {},
   "outputs": [
    {
     "data": {
      "text/html": [
       "<style>\n",
       ".list-inline {list-style: none; margin:0; padding: 0}\n",
       ".list-inline>li {display: inline-block}\n",
       ".list-inline>li:not(:last-child)::after {content: \"\\00b7\"; padding: 0 .5ex}\n",
       "</style>\n",
       "<ol class=list-inline><li>'reseller'</li><li>'registrar'</li><li>'reseller_country'</li><li>'domain_id'</li><li>'domain'</li><li>'tld_registrar_index'</li><li>'renewal_type'</li><li>'renewed_count'</li><li>'expiry_date'</li><li>'creation_date'</li><li>'status'</li><li>'tld'</li><li>'region'</li><li>'reg_period'</li><li>'registrant_country'</li><li>'renewal_status'</li><li>'renew_mbg'</li><li>'renew_type'</li><li>'autorenew_type'</li><li>'renew_date'</li><li>'renew_registrar'</li><li>'renew_reseller'</li><li>'reg_revenue'</li><li>'reg_arpt'</li><li>'renew_period'</li><li>'renew_domain_revenue'</li><li>'renew_arpt'</li><li>'reg_arpt_org'</li><li>'sld'</li><li>'sld_type'</li><li>'sld_length'</li><li>'sld_type2'</li><li>'day_domains'</li><li>'log_reg_arpt'</li><li>'gibb_score'</li><li>'pattern'</li><li>'cluster'</li><li>'pattern_score'</li><li>'pattern_domain_count'</li><li>'actual'</li><li>'pred_df_seg2_glm'</li><li>'pred_df_seg_glm'</li><li>'pred_df_agg_glm'</li><li>'pred_df_seg2_rf'</li><li>'pred_df_seg_rf'</li><li>'pred_df_agg_rf'</li><li>'n'</li><li>'start_date'</li><li>'end_date'</li><li>'reseller_am'</li><li>'reseller_geo'</li><li>'reg_arpt_slab'</li><li>'pred_df_seg2_glm_fb'</li><li>'pred_df_seg_glm_fb'</li><li>'pred_df_agg_glm_fb'</li><li>'pred_df_seg2_rf_fb'</li><li>'pred_df_seg_rf_fb'</li><li>'pred_df_agg_rf_fb'</li><li>'npv_fallback_first_geo_arpt_tld'</li><li>'npv_fallback_first_geo_arpt'</li><li>'npv_fallback_first_tld_arpt'</li><li>'npv_fallback_first_final'</li></ol>\n"
      ],
      "text/latex": [
       "\\begin{enumerate*}\n",
       "\\item 'reseller'\n",
       "\\item 'registrar'\n",
       "\\item 'reseller\\_country'\n",
       "\\item 'domain\\_id'\n",
       "\\item 'domain'\n",
       "\\item 'tld\\_registrar\\_index'\n",
       "\\item 'renewal\\_type'\n",
       "\\item 'renewed\\_count'\n",
       "\\item 'expiry\\_date'\n",
       "\\item 'creation\\_date'\n",
       "\\item 'status'\n",
       "\\item 'tld'\n",
       "\\item 'region'\n",
       "\\item 'reg\\_period'\n",
       "\\item 'registrant\\_country'\n",
       "\\item 'renewal\\_status'\n",
       "\\item 'renew\\_mbg'\n",
       "\\item 'renew\\_type'\n",
       "\\item 'autorenew\\_type'\n",
       "\\item 'renew\\_date'\n",
       "\\item 'renew\\_registrar'\n",
       "\\item 'renew\\_reseller'\n",
       "\\item 'reg\\_revenue'\n",
       "\\item 'reg\\_arpt'\n",
       "\\item 'renew\\_period'\n",
       "\\item 'renew\\_domain\\_revenue'\n",
       "\\item 'renew\\_arpt'\n",
       "\\item 'reg\\_arpt\\_org'\n",
       "\\item 'sld'\n",
       "\\item 'sld\\_type'\n",
       "\\item 'sld\\_length'\n",
       "\\item 'sld\\_type2'\n",
       "\\item 'day\\_domains'\n",
       "\\item 'log\\_reg\\_arpt'\n",
       "\\item 'gibb\\_score'\n",
       "\\item 'pattern'\n",
       "\\item 'cluster'\n",
       "\\item 'pattern\\_score'\n",
       "\\item 'pattern\\_domain\\_count'\n",
       "\\item 'actual'\n",
       "\\item 'pred\\_df\\_seg2\\_glm'\n",
       "\\item 'pred\\_df\\_seg\\_glm'\n",
       "\\item 'pred\\_df\\_agg\\_glm'\n",
       "\\item 'pred\\_df\\_seg2\\_rf'\n",
       "\\item 'pred\\_df\\_seg\\_rf'\n",
       "\\item 'pred\\_df\\_agg\\_rf'\n",
       "\\item 'n'\n",
       "\\item 'start\\_date'\n",
       "\\item 'end\\_date'\n",
       "\\item 'reseller\\_am'\n",
       "\\item 'reseller\\_geo'\n",
       "\\item 'reg\\_arpt\\_slab'\n",
       "\\item 'pred\\_df\\_seg2\\_glm\\_fb'\n",
       "\\item 'pred\\_df\\_seg\\_glm\\_fb'\n",
       "\\item 'pred\\_df\\_agg\\_glm\\_fb'\n",
       "\\item 'pred\\_df\\_seg2\\_rf\\_fb'\n",
       "\\item 'pred\\_df\\_seg\\_rf\\_fb'\n",
       "\\item 'pred\\_df\\_agg\\_rf\\_fb'\n",
       "\\item 'npv\\_fallback\\_first\\_geo\\_arpt\\_tld'\n",
       "\\item 'npv\\_fallback\\_first\\_geo\\_arpt'\n",
       "\\item 'npv\\_fallback\\_first\\_tld\\_arpt'\n",
       "\\item 'npv\\_fallback\\_first\\_final'\n",
       "\\end{enumerate*}\n"
      ],
      "text/markdown": [
       "1. 'reseller'\n",
       "2. 'registrar'\n",
       "3. 'reseller_country'\n",
       "4. 'domain_id'\n",
       "5. 'domain'\n",
       "6. 'tld_registrar_index'\n",
       "7. 'renewal_type'\n",
       "8. 'renewed_count'\n",
       "9. 'expiry_date'\n",
       "10. 'creation_date'\n",
       "11. 'status'\n",
       "12. 'tld'\n",
       "13. 'region'\n",
       "14. 'reg_period'\n",
       "15. 'registrant_country'\n",
       "16. 'renewal_status'\n",
       "17. 'renew_mbg'\n",
       "18. 'renew_type'\n",
       "19. 'autorenew_type'\n",
       "20. 'renew_date'\n",
       "21. 'renew_registrar'\n",
       "22. 'renew_reseller'\n",
       "23. 'reg_revenue'\n",
       "24. 'reg_arpt'\n",
       "25. 'renew_period'\n",
       "26. 'renew_domain_revenue'\n",
       "27. 'renew_arpt'\n",
       "28. 'reg_arpt_org'\n",
       "29. 'sld'\n",
       "30. 'sld_type'\n",
       "31. 'sld_length'\n",
       "32. 'sld_type2'\n",
       "33. 'day_domains'\n",
       "34. 'log_reg_arpt'\n",
       "35. 'gibb_score'\n",
       "36. 'pattern'\n",
       "37. 'cluster'\n",
       "38. 'pattern_score'\n",
       "39. 'pattern_domain_count'\n",
       "40. 'actual'\n",
       "41. 'pred_df_seg2_glm'\n",
       "42. 'pred_df_seg_glm'\n",
       "43. 'pred_df_agg_glm'\n",
       "44. 'pred_df_seg2_rf'\n",
       "45. 'pred_df_seg_rf'\n",
       "46. 'pred_df_agg_rf'\n",
       "47. 'n'\n",
       "48. 'start_date'\n",
       "49. 'end_date'\n",
       "50. 'reseller_am'\n",
       "51. 'reseller_geo'\n",
       "52. 'reg_arpt_slab'\n",
       "53. 'pred_df_seg2_glm_fb'\n",
       "54. 'pred_df_seg_glm_fb'\n",
       "55. 'pred_df_agg_glm_fb'\n",
       "56. 'pred_df_seg2_rf_fb'\n",
       "57. 'pred_df_seg_rf_fb'\n",
       "58. 'pred_df_agg_rf_fb'\n",
       "59. 'npv_fallback_first_geo_arpt_tld'\n",
       "60. 'npv_fallback_first_geo_arpt'\n",
       "61. 'npv_fallback_first_tld_arpt'\n",
       "62. 'npv_fallback_first_final'\n",
       "\n",
       "\n"
      ],
      "text/plain": [
       " [1] \"reseller\"                        \"registrar\"                      \n",
       " [3] \"reseller_country\"                \"domain_id\"                      \n",
       " [5] \"domain\"                          \"tld_registrar_index\"            \n",
       " [7] \"renewal_type\"                    \"renewed_count\"                  \n",
       " [9] \"expiry_date\"                     \"creation_date\"                  \n",
       "[11] \"status\"                          \"tld\"                            \n",
       "[13] \"region\"                          \"reg_period\"                     \n",
       "[15] \"registrant_country\"              \"renewal_status\"                 \n",
       "[17] \"renew_mbg\"                       \"renew_type\"                     \n",
       "[19] \"autorenew_type\"                  \"renew_date\"                     \n",
       "[21] \"renew_registrar\"                 \"renew_reseller\"                 \n",
       "[23] \"reg_revenue\"                     \"reg_arpt\"                       \n",
       "[25] \"renew_period\"                    \"renew_domain_revenue\"           \n",
       "[27] \"renew_arpt\"                      \"reg_arpt_org\"                   \n",
       "[29] \"sld\"                             \"sld_type\"                       \n",
       "[31] \"sld_length\"                      \"sld_type2\"                      \n",
       "[33] \"day_domains\"                     \"log_reg_arpt\"                   \n",
       "[35] \"gibb_score\"                      \"pattern\"                        \n",
       "[37] \"cluster\"                         \"pattern_score\"                  \n",
       "[39] \"pattern_domain_count\"            \"actual\"                         \n",
       "[41] \"pred_df_seg2_glm\"                \"pred_df_seg_glm\"                \n",
       "[43] \"pred_df_agg_glm\"                 \"pred_df_seg2_rf\"                \n",
       "[45] \"pred_df_seg_rf\"                  \"pred_df_agg_rf\"                 \n",
       "[47] \"n\"                               \"start_date\"                     \n",
       "[49] \"end_date\"                        \"reseller_am\"                    \n",
       "[51] \"reseller_geo\"                    \"reg_arpt_slab\"                  \n",
       "[53] \"pred_df_seg2_glm_fb\"             \"pred_df_seg_glm_fb\"             \n",
       "[55] \"pred_df_agg_glm_fb\"              \"pred_df_seg2_rf_fb\"             \n",
       "[57] \"pred_df_seg_rf_fb\"               \"pred_df_agg_rf_fb\"              \n",
       "[59] \"npv_fallback_first_geo_arpt_tld\" \"npv_fallback_first_geo_arpt\"    \n",
       "[61] \"npv_fallback_first_tld_arpt\"     \"npv_fallback_first_final\"       "
      ]
     },
     "metadata": {},
     "output_type": "display_data"
    }
   ],
   "source": [
    "names(expiry_test_predictions)"
   ]
  },
  {
   "cell_type": "code",
   "execution_count": 66,
   "metadata": {},
   "outputs": [],
   "source": [
    "# expiry_test_metrics <- expiry_test_predictions %>%\n",
    "#   group_by(tld_registrar_index) %>%\n",
    "#   do( l10_seg2_glm = l10_dplyr(., pred_var = \"pred_df_seg2_glm\"),\n",
    "#       l10_seg_glm = l10_dplyr(., pred_var = \"pred_df_seg_glm\"),\n",
    "#        l10_agg_glm = l10_dplyr(., pred_var = \"pred_df_agg_glm\"),\n",
    "#        l10_seg2_rf = l10_dplyr(., pred_var = \"pred_df_seg2_rf\"),\n",
    "#        l10_seg_rf = l10_dplyr(., pred_var = \"pred_df_seg_rf\"),\n",
    "#        l10_agg_rf = l10_dplyr(., pred_var = \"pred_df_agg_rf\"),\n",
    "     \n",
    "#       auc_seg2_glm = auc_dplyr(., pred_var = \"pred_df_seg2_glm\"),\n",
    "#       auc_seg_glm = auc_dplyr(., pred_var = \"pred_df_seg_glm\"),\n",
    "#        auc_agg_glm = auc_dplyr(., pred_var = \"pred_df_agg_glm\"),\n",
    "#        auc_seg2_rf = auc_dplyr(., pred_var = \"pred_df_seg2_rf\"),\n",
    "#        auc_seg_rf = auc_dplyr(., pred_var = \"pred_df_seg_rf\"),\n",
    "#        auc_agg_rf = auc_dplyr(., pred_var = \"pred_df_agg_rf\"),\n",
    "      \n",
    "#      l10_seg2_glm_fb = l10_dplyr(., pred_var = \"pred_df_seg2_glm_fb\"),\n",
    "#       l10_seg_glm_fb = l10_dplyr(., pred_var = \"pred_df_seg_glm_fb\"),\n",
    "#        l10_agg_glm_fb = l10_dplyr(., pred_var = \"pred_df_agg_glm_fb\"),\n",
    "#        l10_seg2_rf_fb = l10_dplyr(., pred_var = \"pred_df_seg2_rf_fb\"),\n",
    "#        l10_seg_rf_fb = l10_dplyr(., pred_var = \"pred_df_seg_rf_fb\"),\n",
    "#        l10_agg_rf_fb = l10_dplyr(., pred_var = \"pred_df_agg_rf_fb\"),\n",
    "     \n",
    "#       auc_seg2_glm_fb = auc_dplyr(., pred_var = \"pred_df_seg2_glm_fb\"),\n",
    "#       auc_seg_glm_fb = auc_dplyr(., pred_var = \"pred_df_seg_glm_fb\"),\n",
    "#        auc_agg_glm_fb = auc_dplyr(., pred_var = \"pred_df_agg_glm_fb\"),\n",
    "#        auc_seg2_rf_fb = auc_dplyr(., pred_var = \"pred_df_seg2_rf_fb\"),\n",
    "#        auc_seg_rf_fb = auc_dplyr(., pred_var = \"pred_df_seg_rf_fb\"),\n",
    "#        auc_agg_rf_fb = auc_dplyr(., pred_var = \"pred_df_agg_rf_fb\"),\n",
    "#       )"
   ]
  },
  {
   "cell_type": "code",
   "execution_count": 69,
   "metadata": {},
   "outputs": [],
   "source": [
    "# head(expiry_test_metrics)"
   ]
  },
  {
   "cell_type": "code",
   "execution_count": 68,
   "metadata": {},
   "outputs": [],
   "source": [
    "# save(expiry_test_metrics, file=\"../../data/output/expiry_test_metrics_101020\")\n",
    "# system(\"gsutil cp /home/jupyter/local/Domains_202003/data/output/* gs://data_outputt/output/ \")\n",
    "# system(\"mv /home/jupyter/local/Domains_202003/data/output/* /home/jupyter/local/Domains_202003/data/\")"
   ]
  },
  {
   "cell_type": "code",
   "execution_count": 34,
   "metadata": {},
   "outputs": [],
   "source": [
    "# load(\"../../data/expiry_test_metrics_101020\")"
   ]
  },
  {
   "cell_type": "code",
   "execution_count": 70,
   "metadata": {},
   "outputs": [
    {
     "data": {
      "text/html": [
       "<style>\n",
       ".list-inline {list-style: none; margin:0; padding: 0}\n",
       ".list-inline>li {display: inline-block}\n",
       ".list-inline>li:not(:last-child)::after {content: \"\\00b7\"; padding: 0 .5ex}\n",
       "</style>\n",
       "<ol class=list-inline><li>1405</li><li>25</li></ol>\n"
      ],
      "text/latex": [
       "\\begin{enumerate*}\n",
       "\\item 1405\n",
       "\\item 25\n",
       "\\end{enumerate*}\n"
      ],
      "text/markdown": [
       "1. 1405\n",
       "2. 25\n",
       "\n",
       "\n"
      ],
      "text/plain": [
       "[1] 1405   25"
      ]
     },
     "metadata": {},
     "output_type": "display_data"
    },
    {
     "data": {
      "text/html": [
       "<table>\n",
       "<caption>A rowwise_df: 6 × 25</caption>\n",
       "<thead>\n",
       "\t<tr><th scope=col>tld_registrar_index</th><th scope=col>l10_seg2_glm</th><th scope=col>l10_seg_glm</th><th scope=col>l10_agg_glm</th><th scope=col>l10_seg2_rf</th><th scope=col>l10_seg_rf</th><th scope=col>l10_agg_rf</th><th scope=col>auc_seg2_glm</th><th scope=col>auc_seg_glm</th><th scope=col>auc_agg_glm</th><th scope=col>auc_seg2_rf</th><th scope=col>auc_seg_rf</th><th scope=col>auc_agg_rf</th><th scope=col>l10_seg2_glm_fb</th><th scope=col>l10_seg_glm_fb</th><th scope=col>l10_agg_glm_fb</th><th scope=col>l10_seg2_rf_fb</th><th scope=col>l10_seg_rf_fb</th><th scope=col>l10_agg_rf_fb</th><th scope=col>auc_seg2_glm_fb</th><th scope=col>auc_seg_glm_fb</th><th scope=col>auc_agg_glm_fb</th><th scope=col>auc_seg2_rf_fb</th><th scope=col>auc_seg_rf_fb</th><th scope=col>auc_agg_rf_fb</th></tr>\n",
       "\t<tr><th scope=col>&lt;chr&gt;</th><th scope=col>&lt;list&gt;</th><th scope=col>&lt;list&gt;</th><th scope=col>&lt;list&gt;</th><th scope=col>&lt;list&gt;</th><th scope=col>&lt;list&gt;</th><th scope=col>&lt;list&gt;</th><th scope=col>&lt;list&gt;</th><th scope=col>&lt;list&gt;</th><th scope=col>&lt;list&gt;</th><th scope=col>&lt;list&gt;</th><th scope=col>&lt;list&gt;</th><th scope=col>&lt;list&gt;</th><th scope=col>&lt;list&gt;</th><th scope=col>&lt;list&gt;</th><th scope=col>&lt;list&gt;</th><th scope=col>&lt;list&gt;</th><th scope=col>&lt;list&gt;</th><th scope=col>&lt;list&gt;</th><th scope=col>&lt;list&gt;</th><th scope=col>&lt;list&gt;</th><th scope=col>&lt;list&gt;</th><th scope=col>&lt;list&gt;</th><th scope=col>&lt;list&gt;</th><th scope=col>&lt;list&gt;</th></tr>\n",
       "</thead>\n",
       "<tbody>\n",
       "\t<tr><td><span style=white-space:pre-wrap>fun1&amp;1 internet    </span></td><td>5</td><td>5</td><td>5</td><td>5</td><td>5</td><td>5</td><td>0.6</td><td>0.6</td><td>0.6</td><td>0.6</td><td>0.6</td><td>0.6</td><td>5</td><td>5</td><td>5</td><td>5</td><td>5</td><td>5</td><td>0.6</td><td>0.6</td><td>0.6</td><td>0.6</td><td>0.6</td><td>0.6</td></tr>\n",
       "\t<tr><td>fun10dencehispahard</td><td>NaN</td><td>NaN</td><td>NaN</td><td>NaN</td><td>NaN</td><td>NaN</td><td>NaN</td><td>NaN</td><td>NaN</td><td>NaN</td><td>NaN</td><td>NaN</td><td>NaN</td><td>NaN</td><td>NaN</td><td>NaN</td><td>NaN</td><td>NaN</td><td>NaN</td><td>NaN</td><td>NaN</td><td>NaN</td><td>NaN</td><td>NaN</td></tr>\n",
       "\t<tr><td>fun1api            </td><td>0</td><td>0</td><td>0</td><td>10</td><td>10</td><td>0</td><td>0.25</td><td>0.25</td><td>0.25</td><td>0.95</td><td>0.95</td><td>0.25</td><td>0</td><td>0</td><td>0</td><td>10</td><td>10</td><td>0</td><td>0.25</td><td>0.25</td><td>0.25</td><td>0.95</td><td>0.95</td><td>0.25</td></tr>\n",
       "\t<tr><td>funactive 24       </td><td>0</td><td>0</td><td>0</td><td>2</td><td>2</td><td>2</td><td>0.45</td><td>0.35</td><td>0.49</td><td>0.57</td><td>0.59</td><td>0.63</td><td>0</td><td>0</td><td>0</td><td>2</td><td>2</td><td>2</td><td>0.45</td><td>0.35</td><td>0.49</td><td>0.57</td><td>0.59</td><td>0.63</td></tr>\n",
       "\t<tr><td>funalibaba         </td><td>4.883721</td><td>5.302326</td><td>5.023256</td><td>5.813953</td><td>6</td><td>6.186047</td><td>0.8262791</td><td>0.8425581</td><td>0.8513953</td><td>0.8769767</td><td>0.877907</td><td>0.8793023</td><td>4.883721</td><td>5.302326</td><td>5.023256</td><td>5.813953</td><td>6</td><td>6.186047</td><td>0.8262791</td><td>0.8425581</td><td>0.8513953</td><td>0.8769767</td><td>0.877907</td><td>0.8793023</td></tr>\n",
       "\t<tr><td>funalibaba sg      </td><td>0</td><td>0</td><td>10</td><td>0</td><td>0</td><td>10</td><td>0.05</td><td>0.05</td><td>0.95</td><td>0.85</td><td>0.55</td><td>0.95</td><td>0</td><td>0</td><td>10</td><td>0</td><td>0</td><td>10</td><td>0.05</td><td>0.05</td><td>0.95</td><td>0.85</td><td>0.55</td><td>0.95</td></tr>\n",
       "</tbody>\n",
       "</table>\n"
      ],
      "text/latex": [
       "A rowwise\\_df: 6 × 25\n",
       "\\begin{tabular}{lllllllllllllllllllllllll}\n",
       " tld\\_registrar\\_index & l10\\_seg2\\_glm & l10\\_seg\\_glm & l10\\_agg\\_glm & l10\\_seg2\\_rf & l10\\_seg\\_rf & l10\\_agg\\_rf & auc\\_seg2\\_glm & auc\\_seg\\_glm & auc\\_agg\\_glm & auc\\_seg2\\_rf & auc\\_seg\\_rf & auc\\_agg\\_rf & l10\\_seg2\\_glm\\_fb & l10\\_seg\\_glm\\_fb & l10\\_agg\\_glm\\_fb & l10\\_seg2\\_rf\\_fb & l10\\_seg\\_rf\\_fb & l10\\_agg\\_rf\\_fb & auc\\_seg2\\_glm\\_fb & auc\\_seg\\_glm\\_fb & auc\\_agg\\_glm\\_fb & auc\\_seg2\\_rf\\_fb & auc\\_seg\\_rf\\_fb & auc\\_agg\\_rf\\_fb\\\\\n",
       " <chr> & <list> & <list> & <list> & <list> & <list> & <list> & <list> & <list> & <list> & <list> & <list> & <list> & <list> & <list> & <list> & <list> & <list> & <list> & <list> & <list> & <list> & <list> & <list> & <list>\\\\\n",
       "\\hline\n",
       "\t fun1\\&1 internet     & 5 & 5 & 5 & 5 & 5 & 5 & 0.6 & 0.6 & 0.6 & 0.6 & 0.6 & 0.6 & 5 & 5 & 5 & 5 & 5 & 5 & 0.6 & 0.6 & 0.6 & 0.6 & 0.6 & 0.6\\\\\n",
       "\t fun10dencehispahard & NaN & NaN & NaN & NaN & NaN & NaN & NaN & NaN & NaN & NaN & NaN & NaN & NaN & NaN & NaN & NaN & NaN & NaN & NaN & NaN & NaN & NaN & NaN & NaN\\\\\n",
       "\t fun1api             & 0 & 0 & 0 & 10 & 10 & 0 & 0.25 & 0.25 & 0.25 & 0.95 & 0.95 & 0.25 & 0 & 0 & 0 & 10 & 10 & 0 & 0.25 & 0.25 & 0.25 & 0.95 & 0.95 & 0.25\\\\\n",
       "\t funactive 24        & 0 & 0 & 0 & 2 & 2 & 2 & 0.45 & 0.35 & 0.49 & 0.57 & 0.59 & 0.63 & 0 & 0 & 0 & 2 & 2 & 2 & 0.45 & 0.35 & 0.49 & 0.57 & 0.59 & 0.63\\\\\n",
       "\t funalibaba          & 4.883721 & 5.302326 & 5.023256 & 5.813953 & 6 & 6.186047 & 0.8262791 & 0.8425581 & 0.8513953 & 0.8769767 & 0.877907 & 0.8793023 & 4.883721 & 5.302326 & 5.023256 & 5.813953 & 6 & 6.186047 & 0.8262791 & 0.8425581 & 0.8513953 & 0.8769767 & 0.877907 & 0.8793023\\\\\n",
       "\t funalibaba sg       & 0 & 0 & 10 & 0 & 0 & 10 & 0.05 & 0.05 & 0.95 & 0.85 & 0.55 & 0.95 & 0 & 0 & 10 & 0 & 0 & 10 & 0.05 & 0.05 & 0.95 & 0.85 & 0.55 & 0.95\\\\\n",
       "\\end{tabular}\n"
      ],
      "text/markdown": [
       "\n",
       "A rowwise_df: 6 × 25\n",
       "\n",
       "| tld_registrar_index &lt;chr&gt; | l10_seg2_glm &lt;list&gt; | l10_seg_glm &lt;list&gt; | l10_agg_glm &lt;list&gt; | l10_seg2_rf &lt;list&gt; | l10_seg_rf &lt;list&gt; | l10_agg_rf &lt;list&gt; | auc_seg2_glm &lt;list&gt; | auc_seg_glm &lt;list&gt; | auc_agg_glm &lt;list&gt; | auc_seg2_rf &lt;list&gt; | auc_seg_rf &lt;list&gt; | auc_agg_rf &lt;list&gt; | l10_seg2_glm_fb &lt;list&gt; | l10_seg_glm_fb &lt;list&gt; | l10_agg_glm_fb &lt;list&gt; | l10_seg2_rf_fb &lt;list&gt; | l10_seg_rf_fb &lt;list&gt; | l10_agg_rf_fb &lt;list&gt; | auc_seg2_glm_fb &lt;list&gt; | auc_seg_glm_fb &lt;list&gt; | auc_agg_glm_fb &lt;list&gt; | auc_seg2_rf_fb &lt;list&gt; | auc_seg_rf_fb &lt;list&gt; | auc_agg_rf_fb &lt;list&gt; |\n",
       "|---|---|---|---|---|---|---|---|---|---|---|---|---|---|---|---|---|---|---|---|---|---|---|---|---|\n",
       "| fun1&amp;1 internet     | 5 | 5 | 5 | 5 | 5 | 5 | 0.6 | 0.6 | 0.6 | 0.6 | 0.6 | 0.6 | 5 | 5 | 5 | 5 | 5 | 5 | 0.6 | 0.6 | 0.6 | 0.6 | 0.6 | 0.6 |\n",
       "| fun10dencehispahard | NaN | NaN | NaN | NaN | NaN | NaN | NaN | NaN | NaN | NaN | NaN | NaN | NaN | NaN | NaN | NaN | NaN | NaN | NaN | NaN | NaN | NaN | NaN | NaN |\n",
       "| fun1api             | 0 | 0 | 0 | 10 | 10 | 0 | 0.25 | 0.25 | 0.25 | 0.95 | 0.95 | 0.25 | 0 | 0 | 0 | 10 | 10 | 0 | 0.25 | 0.25 | 0.25 | 0.95 | 0.95 | 0.25 |\n",
       "| funactive 24        | 0 | 0 | 0 | 2 | 2 | 2 | 0.45 | 0.35 | 0.49 | 0.57 | 0.59 | 0.63 | 0 | 0 | 0 | 2 | 2 | 2 | 0.45 | 0.35 | 0.49 | 0.57 | 0.59 | 0.63 |\n",
       "| funalibaba          | 4.883721 | 5.302326 | 5.023256 | 5.813953 | 6 | 6.186047 | 0.8262791 | 0.8425581 | 0.8513953 | 0.8769767 | 0.877907 | 0.8793023 | 4.883721 | 5.302326 | 5.023256 | 5.813953 | 6 | 6.186047 | 0.8262791 | 0.8425581 | 0.8513953 | 0.8769767 | 0.877907 | 0.8793023 |\n",
       "| funalibaba sg       | 0 | 0 | 10 | 0 | 0 | 10 | 0.05 | 0.05 | 0.95 | 0.85 | 0.55 | 0.95 | 0 | 0 | 10 | 0 | 0 | 10 | 0.05 | 0.05 | 0.95 | 0.85 | 0.55 | 0.95 |\n",
       "\n"
      ],
      "text/plain": [
       "  tld_registrar_index l10_seg2_glm l10_seg_glm l10_agg_glm l10_seg2_rf\n",
       "1 fun1&1 internet     5            5           5           5          \n",
       "2 fun10dencehispahard NaN          NaN         NaN         NaN        \n",
       "3 fun1api             0            0           0           10         \n",
       "4 funactive 24        0            0           0           2          \n",
       "5 funalibaba          4.883721     5.302326    5.023256    5.813953   \n",
       "6 funalibaba sg       0            0           10          0          \n",
       "  l10_seg_rf l10_agg_rf auc_seg2_glm auc_seg_glm auc_agg_glm auc_seg2_rf\n",
       "1 5          5          0.6          0.6         0.6         0.6        \n",
       "2 NaN        NaN        NaN          NaN         NaN         NaN        \n",
       "3 10         0          0.25         0.25        0.25        0.95       \n",
       "4 2          2          0.45         0.35        0.49        0.57       \n",
       "5 6          6.186047   0.8262791    0.8425581   0.8513953   0.8769767  \n",
       "6 0          10         0.05         0.05        0.95        0.85       \n",
       "  auc_seg_rf auc_agg_rf l10_seg2_glm_fb l10_seg_glm_fb l10_agg_glm_fb\n",
       "1 0.6        0.6        5               5              5             \n",
       "2 NaN        NaN        NaN             NaN            NaN           \n",
       "3 0.95       0.25       0               0              0             \n",
       "4 0.59       0.63       0               0              0             \n",
       "5 0.877907   0.8793023  4.883721        5.302326       5.023256      \n",
       "6 0.55       0.95       0               0              10            \n",
       "  l10_seg2_rf_fb l10_seg_rf_fb l10_agg_rf_fb auc_seg2_glm_fb auc_seg_glm_fb\n",
       "1 5              5             5             0.6             0.6           \n",
       "2 NaN            NaN           NaN           NaN             NaN           \n",
       "3 10             10            0             0.25            0.25          \n",
       "4 2              2             2             0.45            0.35          \n",
       "5 5.813953       6             6.186047      0.8262791       0.8425581     \n",
       "6 0              0             10            0.05            0.05          \n",
       "  auc_agg_glm_fb auc_seg2_rf_fb auc_seg_rf_fb auc_agg_rf_fb\n",
       "1 0.6            0.6            0.6           0.6          \n",
       "2 NaN            NaN            NaN           NaN          \n",
       "3 0.25           0.95           0.95          0.25         \n",
       "4 0.49           0.57           0.59          0.63         \n",
       "5 0.8513953      0.8769767      0.877907      0.8793023    \n",
       "6 0.95           0.85           0.55          0.95         "
      ]
     },
     "metadata": {},
     "output_type": "display_data"
    }
   ],
   "source": [
    "dim(expiry_test_metrics)\n",
    "head(expiry_test_metrics)"
   ]
  },
  {
   "cell_type": "markdown",
   "metadata": {},
   "source": [
    "# Metalearning Prep"
   ]
  },
  {
   "cell_type": "markdown",
   "metadata": {},
   "source": [
    "## add geo to training data for fetaure eng"
   ]
  },
  {
   "cell_type": "code",
   "execution_count": 71,
   "metadata": {},
   "outputs": [],
   "source": [
    "# system(\"gsutil cp gs://data_input/PredictiveModelAnalysis_AnomalyRegistrars.csv /home/jupyter/local/Domains_202003/data/PredictiveModelAnalysis_AnomalyRegistrars.csv\")\n",
    "anomalyDF <- read.csv(\"/home/jupyter/local/Domains_202003/data/PredictiveModelAnalysis_AnomalyRegistrars.csv\")\n",
    "anomalyDF <- apply(anomalyDF, 2, function(x) trimws(x,which = c(\"both\")) )\n",
    "geoLookupDF <- unique(anomalyDF[,c('reseller','reseller_country','reseller_geo')])\n",
    "geoLookupDF <- as.data.frame(geoLookupDF)\n",
    "expiry_test_df_1 <- merge(expiry_test_df_1,geoLookupDF,on=c('reseller','reseller_country'), all.x = TRUE)"
   ]
  },
  {
   "cell_type": "code",
   "execution_count": 74,
   "metadata": {},
   "outputs": [],
   "source": [
    "# expiry_test_df_1 %>% setnames(\"reseller_geo.x\", \"reseller_geo\")"
   ]
  },
  {
   "cell_type": "code",
   "execution_count": 75,
   "metadata": {},
   "outputs": [
    {
     "data": {
      "text/html": [
       "<table>\n",
       "<caption>A data.table: 6 × 41</caption>\n",
       "<thead>\n",
       "\t<tr><th scope=col>reseller</th><th scope=col>reseller_country</th><th scope=col>renewal_type</th><th scope=col>renewed_count</th><th scope=col>expiry_date</th><th scope=col>domain_id</th><th scope=col>domain</th><th scope=col>creation_date</th><th scope=col>status</th><th scope=col>tld</th><th scope=col>registrar</th><th scope=col>region</th><th scope=col>reg_period</th><th scope=col>registrant_country</th><th scope=col>renewal_status</th><th scope=col>renew_mbg</th><th scope=col>renew_type</th><th scope=col>autorenew_type</th><th scope=col>renew_date</th><th scope=col>renew_registrar</th><th scope=col>renew_reseller</th><th scope=col>reg_revenue</th><th scope=col>reg_arpt</th><th scope=col>renew_period</th><th scope=col>renew_domain_revenue</th><th scope=col>renew_arpt</th><th scope=col>reg_arpt_org</th><th scope=col>tld_registrar_index</th><th scope=col>sld</th><th scope=col>sld_type</th><th scope=col>sld_length</th><th scope=col>sld_type2</th><th scope=col>day_domains</th><th scope=col>log_reg_arpt</th><th scope=col>gibb_score</th><th scope=col>pattern</th><th scope=col>cluster</th><th scope=col>pattern_score</th><th scope=col>pattern_domain_count</th><th scope=col>reseller_geo</th><th scope=col>reseller_geo.y</th></tr>\n",
       "\t<tr><th scope=col>&lt;chr&gt;</th><th scope=col>&lt;chr&gt;</th><th scope=col>&lt;chr&gt;</th><th scope=col>&lt;int&gt;</th><th scope=col>&lt;date&gt;</th><th scope=col>&lt;int&gt;</th><th scope=col>&lt;chr&gt;</th><th scope=col>&lt;date&gt;</th><th scope=col>&lt;chr&gt;</th><th scope=col>&lt;fct&gt;</th><th scope=col>&lt;chr&gt;</th><th scope=col>&lt;chr&gt;</th><th scope=col>&lt;int&gt;</th><th scope=col>&lt;chr&gt;</th><th scope=col>&lt;fct&gt;</th><th scope=col>&lt;int&gt;</th><th scope=col>&lt;chr&gt;</th><th scope=col>&lt;chr&gt;</th><th scope=col>&lt;date&gt;</th><th scope=col>&lt;chr&gt;</th><th scope=col>&lt;chr&gt;</th><th scope=col>&lt;dbl&gt;</th><th scope=col>&lt;dbl&gt;</th><th scope=col>&lt;int&gt;</th><th scope=col>&lt;dbl&gt;</th><th scope=col>&lt;dbl&gt;</th><th scope=col>&lt;dbl&gt;</th><th scope=col>&lt;chr&gt;</th><th scope=col>&lt;chr&gt;</th><th scope=col>&lt;fct&gt;</th><th scope=col>&lt;int&gt;</th><th scope=col>&lt;chr&gt;</th><th scope=col>&lt;int&gt;</th><th scope=col>&lt;dbl&gt;</th><th scope=col>&lt;dbl&gt;</th><th scope=col>&lt;chr&gt;</th><th scope=col>&lt;chr&gt;</th><th scope=col>&lt;dbl&gt;</th><th scope=col>&lt;int&gt;</th><th scope=col>&lt;fct&gt;</th><th scope=col>&lt;fct&gt;</th></tr>\n",
       "</thead>\n",
       "<tbody>\n",
       "\t<tr><td>1&amp;1 internet</td><td>Germany</td><td>FirstTime</td><td>1</td><td>2020-01-22</td><td> 91639803</td><td><span style=white-space:pre-wrap>segeln.fun       </span></td><td>2019-01-22</td><td>Active </td><td><span style=white-space:pre-wrap>fun   </span></td><td>1&amp;1 internet</td><td>Non China</td><td>1</td><td>NA</td><td><span style=white-space:pre-wrap>Renewed   </span></td><td>0</td><td>auto-renewal</td><td>realized</td><td>2020-01-22</td><td>1&amp;1 Internet</td><td>1&amp;1 Internet</td><td>15</td><td>15.00</td><td> 1</td><td>15</td><td>15</td><td>15.00</td><td><span style=white-space:pre-wrap>fun1&amp;1 internet   </span></td><td><span style=white-space:pre-wrap>segeln    </span></td><td>l</td><td> 6</td><td>6l </td><td>1</td><td>2.708050</td><td>2.23</td><td><span style=white-space:pre-wrap>segeln    </span></td><td>1</td><td>1</td><td>1</td><td>EU</td><td>EU</td></tr>\n",
       "\t<tr><td>1&amp;1 internet</td><td>Germany</td><td>FirstTime</td><td>1</td><td>2020-03-07</td><td> 95819759</td><td><span style=white-space:pre-wrap>harzhotel.fun    </span></td><td>2019-03-07</td><td>Active </td><td><span style=white-space:pre-wrap>fun   </span></td><td>1&amp;1 internet</td><td>Non China</td><td>1</td><td>NA</td><td><span style=white-space:pre-wrap>Renewed   </span></td><td>0</td><td>auto-renewal</td><td>realized</td><td>2020-03-07</td><td>1&amp;1 Internet</td><td>1&amp;1 Internet</td><td>15</td><td>15.00</td><td> 1</td><td>15</td><td>15</td><td>15.00</td><td><span style=white-space:pre-wrap>fun1&amp;1 internet   </span></td><td>harzhotel </td><td>l</td><td> 9</td><td>9l </td><td>1</td><td>2.708050</td><td>3.45</td><td>harzhotel </td><td>1</td><td>1</td><td>1</td><td>EU</td><td>EU</td></tr>\n",
       "\t<tr><td>1&amp;1 internet</td><td>Germany</td><td>FirstTime</td><td>1</td><td>2020-04-23</td><td>101353454</td><td><span style=white-space:pre-wrap>cloudnodes.host  </span></td><td>2019-04-23</td><td>Deleted</td><td><span style=white-space:pre-wrap>host  </span></td><td>1&amp;1 internet</td><td>Non China</td><td>1</td><td>NA</td><td>Not Renewd</td><td>0</td><td><span style=white-space:pre-wrap>NA          </span></td><td><span style=white-space:pre-wrap>NA      </span></td><td>NA</td><td>Not Assigned</td><td>Not Assigned</td><td>65</td><td>65.00</td><td>NA</td><td> 0</td><td>NA</td><td>65.00</td><td><span style=white-space:pre-wrap>host1&amp;1 internet  </span></td><td>cloudnodes</td><td>l</td><td>10</td><td>10l</td><td>1</td><td>4.174387</td><td>3.83</td><td>cloudnodes</td><td>1</td><td>1</td><td>1</td><td>EU</td><td>EU</td></tr>\n",
       "\t<tr><td>1&amp;1 internet</td><td>Germany</td><td>FirstTime</td><td>1</td><td>2020-02-18</td><td> 44554288</td><td>agenciaseo.online</td><td>2017-02-18</td><td>Active </td><td>online</td><td>1&amp;1 internet</td><td>Non China</td><td>3</td><td>NA</td><td><span style=white-space:pre-wrap>Renewed   </span></td><td>0</td><td>auto-renewal</td><td>realized</td><td>2020-02-18</td><td>1&amp;1 Internet</td><td>1&amp;1 Internet</td><td>55</td><td>18.33</td><td> 1</td><td>25</td><td>25</td><td>18.33</td><td>online1&amp;1 internet</td><td>agenciaseo</td><td>l</td><td>10</td><td>10l</td><td>1</td><td>2.908539</td><td>4.52</td><td>agenciaseo</td><td>1</td><td>1</td><td>1</td><td>EU</td><td>EU</td></tr>\n",
       "\t<tr><td>1&amp;1 internet</td><td>Germany</td><td>FirstTime</td><td>1</td><td>2020-03-29</td><td> 46343989</td><td><span style=white-space:pre-wrap>launion.online   </span></td><td>2017-03-29</td><td>Active </td><td>online</td><td>1&amp;1 internet</td><td>Non China</td><td>3</td><td>NA</td><td><span style=white-space:pre-wrap>Renewed   </span></td><td>0</td><td><span style=white-space:pre-wrap>renewal     </span></td><td><span style=white-space:pre-wrap>NA      </span></td><td>2020-03-25</td><td>1&amp;1 Internet</td><td>1&amp;1 Internet</td><td>55</td><td>18.33</td><td> 1</td><td>25</td><td>25</td><td>18.33</td><td>online1&amp;1 internet</td><td><span style=white-space:pre-wrap>launion   </span></td><td>l</td><td> 7</td><td>7l </td><td>1</td><td>2.908539</td><td>6.26</td><td><span style=white-space:pre-wrap>launion   </span></td><td>1</td><td>1</td><td>1</td><td>EU</td><td>EU</td></tr>\n",
       "\t<tr><td>1&amp;1 internet</td><td>Germany</td><td>FirstTime</td><td>1</td><td>2020-04-29</td><td> 47376325</td><td><span style=white-space:pre-wrap>egyptar.online   </span></td><td>2017-04-29</td><td>Deleted</td><td>online</td><td>1&amp;1 internet</td><td>Non China</td><td>3</td><td>NA</td><td>Not Renewd</td><td>0</td><td><span style=white-space:pre-wrap>NA          </span></td><td><span style=white-space:pre-wrap>NA      </span></td><td>NA</td><td>Not Assigned</td><td>Not Assigned</td><td>50</td><td>16.67</td><td>NA</td><td> 0</td><td>NA</td><td>16.67</td><td>online1&amp;1 internet</td><td><span style=white-space:pre-wrap>egyptar   </span></td><td>l</td><td> 7</td><td>7l </td><td>1</td><td>2.813611</td><td>1.73</td><td><span style=white-space:pre-wrap>egyptar   </span></td><td>1</td><td>1</td><td>1</td><td>EU</td><td>EU</td></tr>\n",
       "</tbody>\n",
       "</table>\n"
      ],
      "text/latex": [
       "A data.table: 6 × 41\n",
       "\\begin{tabular}{lllllllllllllllllllllllllllllllllllllllll}\n",
       " reseller & reseller\\_country & renewal\\_type & renewed\\_count & expiry\\_date & domain\\_id & domain & creation\\_date & status & tld & registrar & region & reg\\_period & registrant\\_country & renewal\\_status & renew\\_mbg & renew\\_type & autorenew\\_type & renew\\_date & renew\\_registrar & renew\\_reseller & reg\\_revenue & reg\\_arpt & renew\\_period & renew\\_domain\\_revenue & renew\\_arpt & reg\\_arpt\\_org & tld\\_registrar\\_index & sld & sld\\_type & sld\\_length & sld\\_type2 & day\\_domains & log\\_reg\\_arpt & gibb\\_score & pattern & cluster & pattern\\_score & pattern\\_domain\\_count & reseller\\_geo & reseller\\_geo.y\\\\\n",
       " <chr> & <chr> & <chr> & <int> & <date> & <int> & <chr> & <date> & <chr> & <fct> & <chr> & <chr> & <int> & <chr> & <fct> & <int> & <chr> & <chr> & <date> & <chr> & <chr> & <dbl> & <dbl> & <int> & <dbl> & <dbl> & <dbl> & <chr> & <chr> & <fct> & <int> & <chr> & <int> & <dbl> & <dbl> & <chr> & <chr> & <dbl> & <int> & <fct> & <fct>\\\\\n",
       "\\hline\n",
       "\t 1\\&1 internet & Germany & FirstTime & 1 & 2020-01-22 &  91639803 & segeln.fun        & 2019-01-22 & Active  & fun    & 1\\&1 internet & Non China & 1 & NA & Renewed    & 0 & auto-renewal & realized & 2020-01-22 & 1\\&1 Internet & 1\\&1 Internet & 15 & 15.00 &  1 & 15 & 15 & 15.00 & fun1\\&1 internet    & segeln     & l &  6 & 6l  & 1 & 2.708050 & 2.23 & segeln     & 1 & 1 & 1 & EU & EU\\\\\n",
       "\t 1\\&1 internet & Germany & FirstTime & 1 & 2020-03-07 &  95819759 & harzhotel.fun     & 2019-03-07 & Active  & fun    & 1\\&1 internet & Non China & 1 & NA & Renewed    & 0 & auto-renewal & realized & 2020-03-07 & 1\\&1 Internet & 1\\&1 Internet & 15 & 15.00 &  1 & 15 & 15 & 15.00 & fun1\\&1 internet    & harzhotel  & l &  9 & 9l  & 1 & 2.708050 & 3.45 & harzhotel  & 1 & 1 & 1 & EU & EU\\\\\n",
       "\t 1\\&1 internet & Germany & FirstTime & 1 & 2020-04-23 & 101353454 & cloudnodes.host   & 2019-04-23 & Deleted & host   & 1\\&1 internet & Non China & 1 & NA & Not Renewd & 0 & NA           & NA       & NA & Not Assigned & Not Assigned & 65 & 65.00 & NA &  0 & NA & 65.00 & host1\\&1 internet   & cloudnodes & l & 10 & 10l & 1 & 4.174387 & 3.83 & cloudnodes & 1 & 1 & 1 & EU & EU\\\\\n",
       "\t 1\\&1 internet & Germany & FirstTime & 1 & 2020-02-18 &  44554288 & agenciaseo.online & 2017-02-18 & Active  & online & 1\\&1 internet & Non China & 3 & NA & Renewed    & 0 & auto-renewal & realized & 2020-02-18 & 1\\&1 Internet & 1\\&1 Internet & 55 & 18.33 &  1 & 25 & 25 & 18.33 & online1\\&1 internet & agenciaseo & l & 10 & 10l & 1 & 2.908539 & 4.52 & agenciaseo & 1 & 1 & 1 & EU & EU\\\\\n",
       "\t 1\\&1 internet & Germany & FirstTime & 1 & 2020-03-29 &  46343989 & launion.online    & 2017-03-29 & Active  & online & 1\\&1 internet & Non China & 3 & NA & Renewed    & 0 & renewal      & NA       & 2020-03-25 & 1\\&1 Internet & 1\\&1 Internet & 55 & 18.33 &  1 & 25 & 25 & 18.33 & online1\\&1 internet & launion    & l &  7 & 7l  & 1 & 2.908539 & 6.26 & launion    & 1 & 1 & 1 & EU & EU\\\\\n",
       "\t 1\\&1 internet & Germany & FirstTime & 1 & 2020-04-29 &  47376325 & egyptar.online    & 2017-04-29 & Deleted & online & 1\\&1 internet & Non China & 3 & NA & Not Renewd & 0 & NA           & NA       & NA & Not Assigned & Not Assigned & 50 & 16.67 & NA &  0 & NA & 16.67 & online1\\&1 internet & egyptar    & l &  7 & 7l  & 1 & 2.813611 & 1.73 & egyptar    & 1 & 1 & 1 & EU & EU\\\\\n",
       "\\end{tabular}\n"
      ],
      "text/markdown": [
       "\n",
       "A data.table: 6 × 41\n",
       "\n",
       "| reseller &lt;chr&gt; | reseller_country &lt;chr&gt; | renewal_type &lt;chr&gt; | renewed_count &lt;int&gt; | expiry_date &lt;date&gt; | domain_id &lt;int&gt; | domain &lt;chr&gt; | creation_date &lt;date&gt; | status &lt;chr&gt; | tld &lt;fct&gt; | registrar &lt;chr&gt; | region &lt;chr&gt; | reg_period &lt;int&gt; | registrant_country &lt;chr&gt; | renewal_status &lt;fct&gt; | renew_mbg &lt;int&gt; | renew_type &lt;chr&gt; | autorenew_type &lt;chr&gt; | renew_date &lt;date&gt; | renew_registrar &lt;chr&gt; | renew_reseller &lt;chr&gt; | reg_revenue &lt;dbl&gt; | reg_arpt &lt;dbl&gt; | renew_period &lt;int&gt; | renew_domain_revenue &lt;dbl&gt; | renew_arpt &lt;dbl&gt; | reg_arpt_org &lt;dbl&gt; | tld_registrar_index &lt;chr&gt; | sld &lt;chr&gt; | sld_type &lt;fct&gt; | sld_length &lt;int&gt; | sld_type2 &lt;chr&gt; | day_domains &lt;int&gt; | log_reg_arpt &lt;dbl&gt; | gibb_score &lt;dbl&gt; | pattern &lt;chr&gt; | cluster &lt;chr&gt; | pattern_score &lt;dbl&gt; | pattern_domain_count &lt;int&gt; | reseller_geo &lt;fct&gt; | reseller_geo.y &lt;fct&gt; |\n",
       "|---|---|---|---|---|---|---|---|---|---|---|---|---|---|---|---|---|---|---|---|---|---|---|---|---|---|---|---|---|---|---|---|---|---|---|---|---|---|---|---|---|\n",
       "| 1&amp;1 internet | Germany | FirstTime | 1 | 2020-01-22 |  91639803 | segeln.fun        | 2019-01-22 | Active  | fun    | 1&amp;1 internet | Non China | 1 | NA | Renewed    | 0 | auto-renewal | realized | 2020-01-22 | 1&amp;1 Internet | 1&amp;1 Internet | 15 | 15.00 |  1 | 15 | 15 | 15.00 | fun1&amp;1 internet    | segeln     | l |  6 | 6l  | 1 | 2.708050 | 2.23 | segeln     | 1 | 1 | 1 | EU | EU |\n",
       "| 1&amp;1 internet | Germany | FirstTime | 1 | 2020-03-07 |  95819759 | harzhotel.fun     | 2019-03-07 | Active  | fun    | 1&amp;1 internet | Non China | 1 | NA | Renewed    | 0 | auto-renewal | realized | 2020-03-07 | 1&amp;1 Internet | 1&amp;1 Internet | 15 | 15.00 |  1 | 15 | 15 | 15.00 | fun1&amp;1 internet    | harzhotel  | l |  9 | 9l  | 1 | 2.708050 | 3.45 | harzhotel  | 1 | 1 | 1 | EU | EU |\n",
       "| 1&amp;1 internet | Germany | FirstTime | 1 | 2020-04-23 | 101353454 | cloudnodes.host   | 2019-04-23 | Deleted | host   | 1&amp;1 internet | Non China | 1 | NA | Not Renewd | 0 | NA           | NA       | NA | Not Assigned | Not Assigned | 65 | 65.00 | NA |  0 | NA | 65.00 | host1&amp;1 internet   | cloudnodes | l | 10 | 10l | 1 | 4.174387 | 3.83 | cloudnodes | 1 | 1 | 1 | EU | EU |\n",
       "| 1&amp;1 internet | Germany | FirstTime | 1 | 2020-02-18 |  44554288 | agenciaseo.online | 2017-02-18 | Active  | online | 1&amp;1 internet | Non China | 3 | NA | Renewed    | 0 | auto-renewal | realized | 2020-02-18 | 1&amp;1 Internet | 1&amp;1 Internet | 55 | 18.33 |  1 | 25 | 25 | 18.33 | online1&amp;1 internet | agenciaseo | l | 10 | 10l | 1 | 2.908539 | 4.52 | agenciaseo | 1 | 1 | 1 | EU | EU |\n",
       "| 1&amp;1 internet | Germany | FirstTime | 1 | 2020-03-29 |  46343989 | launion.online    | 2017-03-29 | Active  | online | 1&amp;1 internet | Non China | 3 | NA | Renewed    | 0 | renewal      | NA       | 2020-03-25 | 1&amp;1 Internet | 1&amp;1 Internet | 55 | 18.33 |  1 | 25 | 25 | 18.33 | online1&amp;1 internet | launion    | l |  7 | 7l  | 1 | 2.908539 | 6.26 | launion    | 1 | 1 | 1 | EU | EU |\n",
       "| 1&amp;1 internet | Germany | FirstTime | 1 | 2020-04-29 |  47376325 | egyptar.online    | 2017-04-29 | Deleted | online | 1&amp;1 internet | Non China | 3 | NA | Not Renewd | 0 | NA           | NA       | NA | Not Assigned | Not Assigned | 50 | 16.67 | NA |  0 | NA | 16.67 | online1&amp;1 internet | egyptar    | l |  7 | 7l  | 1 | 2.813611 | 1.73 | egyptar    | 1 | 1 | 1 | EU | EU |\n",
       "\n"
      ],
      "text/plain": [
       "  reseller     reseller_country renewal_type renewed_count expiry_date\n",
       "1 1&1 internet Germany          FirstTime    1             2020-01-22 \n",
       "2 1&1 internet Germany          FirstTime    1             2020-03-07 \n",
       "3 1&1 internet Germany          FirstTime    1             2020-04-23 \n",
       "4 1&1 internet Germany          FirstTime    1             2020-02-18 \n",
       "5 1&1 internet Germany          FirstTime    1             2020-03-29 \n",
       "6 1&1 internet Germany          FirstTime    1             2020-04-29 \n",
       "  domain_id domain            creation_date status  tld    registrar   \n",
       "1  91639803 segeln.fun        2019-01-22    Active  fun    1&1 internet\n",
       "2  95819759 harzhotel.fun     2019-03-07    Active  fun    1&1 internet\n",
       "3 101353454 cloudnodes.host   2019-04-23    Deleted host   1&1 internet\n",
       "4  44554288 agenciaseo.online 2017-02-18    Active  online 1&1 internet\n",
       "5  46343989 launion.online    2017-03-29    Active  online 1&1 internet\n",
       "6  47376325 egyptar.online    2017-04-29    Deleted online 1&1 internet\n",
       "  region    reg_period registrant_country renewal_status renew_mbg renew_type  \n",
       "1 Non China 1          NA                 Renewed        0         auto-renewal\n",
       "2 Non China 1          NA                 Renewed        0         auto-renewal\n",
       "3 Non China 1          NA                 Not Renewd     0         NA          \n",
       "4 Non China 3          NA                 Renewed        0         auto-renewal\n",
       "5 Non China 3          NA                 Renewed        0         renewal     \n",
       "6 Non China 3          NA                 Not Renewd     0         NA          \n",
       "  autorenew_type renew_date renew_registrar renew_reseller reg_revenue reg_arpt\n",
       "1 realized       2020-01-22 1&1 Internet    1&1 Internet   15          15.00   \n",
       "2 realized       2020-03-07 1&1 Internet    1&1 Internet   15          15.00   \n",
       "3 NA             <NA>       Not Assigned    Not Assigned   65          65.00   \n",
       "4 realized       2020-02-18 1&1 Internet    1&1 Internet   55          18.33   \n",
       "5 NA             2020-03-25 1&1 Internet    1&1 Internet   55          18.33   \n",
       "6 NA             <NA>       Not Assigned    Not Assigned   50          16.67   \n",
       "  renew_period renew_domain_revenue renew_arpt reg_arpt_org tld_registrar_index\n",
       "1  1           15                   15         15.00        fun1&1 internet    \n",
       "2  1           15                   15         15.00        fun1&1 internet    \n",
       "3 NA            0                   NA         65.00        host1&1 internet   \n",
       "4  1           25                   25         18.33        online1&1 internet \n",
       "5  1           25                   25         18.33        online1&1 internet \n",
       "6 NA            0                   NA         16.67        online1&1 internet \n",
       "  sld        sld_type sld_length sld_type2 day_domains log_reg_arpt gibb_score\n",
       "1 segeln     l         6         6l        1           2.708050     2.23      \n",
       "2 harzhotel  l         9         9l        1           2.708050     3.45      \n",
       "3 cloudnodes l        10         10l       1           4.174387     3.83      \n",
       "4 agenciaseo l        10         10l       1           2.908539     4.52      \n",
       "5 launion    l         7         7l        1           2.908539     6.26      \n",
       "6 egyptar    l         7         7l        1           2.813611     1.73      \n",
       "  pattern    cluster pattern_score pattern_domain_count reseller_geo\n",
       "1 segeln     1       1             1                    EU          \n",
       "2 harzhotel  1       1             1                    EU          \n",
       "3 cloudnodes 1       1             1                    EU          \n",
       "4 agenciaseo 1       1             1                    EU          \n",
       "5 launion    1       1             1                    EU          \n",
       "6 egyptar    1       1             1                    EU          \n",
       "  reseller_geo.y\n",
       "1 EU            \n",
       "2 EU            \n",
       "3 EU            \n",
       "4 EU            \n",
       "5 EU            \n",
       "6 EU            "
      ]
     },
     "metadata": {},
     "output_type": "display_data"
    }
   ],
   "source": [
    "head(expiry_test_df_1)"
   ]
  },
  {
   "cell_type": "markdown",
   "metadata": {},
   "source": [
    "## Feature Engineering for tld-reseller level "
   ]
  },
  {
   "cell_type": "code",
   "execution_count": 76,
   "metadata": {},
   "outputs": [
    {
     "name": "stderr",
     "output_type": "stream",
     "text": [
      "`summarise()` ungrouping output (override with `.groups` argument)\n",
      "\n"
     ]
    },
    {
     "data": {
      "text/html": [
       "<style>\n",
       ".list-inline {list-style: none; margin:0; padding: 0}\n",
       ".list-inline>li {display: inline-block}\n",
       ".list-inline>li:not(:last-child)::after {content: \"\\00b7\"; padding: 0 .5ex}\n",
       "</style>\n",
       "<ol class=list-inline><li>1405</li><li>42</li></ol>\n"
      ],
      "text/latex": [
       "\\begin{enumerate*}\n",
       "\\item 1405\n",
       "\\item 42\n",
       "\\end{enumerate*}\n"
      ],
      "text/markdown": [
       "1. 1405\n",
       "2. 42\n",
       "\n",
       "\n"
      ],
      "text/plain": [
       "[1] 1405   42"
      ]
     },
     "metadata": {},
     "output_type": "display_data"
    },
    {
     "data": {
      "text/html": [
       "<table>\n",
       "<caption>A tibble: 6 × 42</caption>\n",
       "<thead>\n",
       "\t<tr><th scope=col>tld_registrar_index</th><th scope=col>geo_maj</th><th scope=col>geo_cnt</th><th scope=col>n</th><th scope=col>ren_prp</th><th scope=col>tld_cnt</th><th scope=col>tld_rat</th><th scope=col>daydom_min</th><th scope=col>daydom_max</th><th scope=col>daydom_mean</th><th scope=col>daydom_rng</th><th scope=col>daydom_std</th><th scope=col>daydom_skew</th><th scope=col>daydom_kurt</th><th scope=col>sldlen_min</th><th scope=col>sldlen_max</th><th scope=col>sldlen_mean</th><th scope=col>sldlen_rng</th><th scope=col>sldlen_std</th><th scope=col>sldlen_skew</th><th scope=col>sldlen_kurt</th><th scope=col>gibbs_min</th><th scope=col>gibbs_max</th><th scope=col>gibbs_mean</th><th scope=col>gibbs_rng</th><th scope=col>gibbs_std</th><th scope=col>gibbs_skew</th><th scope=col>gibbs_kurt</th><th scope=col>pdcnt_min</th><th scope=col>pdcnt_max</th><th scope=col>pdcnt_mean</th><th scope=col>pdcnt_rng</th><th scope=col>pdcnt_std</th><th scope=col>pdcnt_skew</th><th scope=col>pdcnt_kurt</th><th scope=col>regarpt_min</th><th scope=col>regarpt_max</th><th scope=col>regarpt_mean</th><th scope=col>regarpt_rng</th><th scope=col>regarpt_std</th><th scope=col>regarpt_skew</th><th scope=col>regarpt_kurt</th></tr>\n",
       "\t<tr><th scope=col>&lt;chr&gt;</th><th scope=col>&lt;fct&gt;</th><th scope=col>&lt;int&gt;</th><th scope=col>&lt;int&gt;</th><th scope=col>&lt;dbl&gt;</th><th scope=col>&lt;int&gt;</th><th scope=col>&lt;dbl&gt;</th><th scope=col>&lt;int&gt;</th><th scope=col>&lt;int&gt;</th><th scope=col>&lt;dbl&gt;</th><th scope=col>&lt;int&gt;</th><th scope=col>&lt;dbl&gt;</th><th scope=col>&lt;dbl&gt;</th><th scope=col>&lt;dbl&gt;</th><th scope=col>&lt;int&gt;</th><th scope=col>&lt;int&gt;</th><th scope=col>&lt;dbl&gt;</th><th scope=col>&lt;int&gt;</th><th scope=col>&lt;dbl&gt;</th><th scope=col>&lt;dbl&gt;</th><th scope=col>&lt;dbl&gt;</th><th scope=col>&lt;dbl&gt;</th><th scope=col>&lt;dbl&gt;</th><th scope=col>&lt;dbl&gt;</th><th scope=col>&lt;dbl&gt;</th><th scope=col>&lt;dbl&gt;</th><th scope=col>&lt;dbl&gt;</th><th scope=col>&lt;dbl&gt;</th><th scope=col>&lt;int&gt;</th><th scope=col>&lt;int&gt;</th><th scope=col>&lt;dbl&gt;</th><th scope=col>&lt;int&gt;</th><th scope=col>&lt;dbl&gt;</th><th scope=col>&lt;dbl&gt;</th><th scope=col>&lt;dbl&gt;</th><th scope=col>&lt;dbl&gt;</th><th scope=col>&lt;dbl&gt;</th><th scope=col>&lt;dbl&gt;</th><th scope=col>&lt;dbl&gt;</th><th scope=col>&lt;dbl&gt;</th><th scope=col>&lt;dbl&gt;</th><th scope=col>&lt;dbl&gt;</th></tr>\n",
       "</thead>\n",
       "<tbody>\n",
       "\t<tr><td><span style=white-space:pre-wrap>fun1&amp;1 internet    </span></td><td><span style=white-space:pre-wrap>EU   </span></td><td>1</td><td><span style=white-space:pre-wrap>    2</span></td><td>1.0000000</td><td>1</td><td>5.000000e-01</td><td>1</td><td><span style=white-space:pre-wrap>  1</span></td><td><span style=white-space:pre-wrap>  1.000000</span></td><td><span style=white-space:pre-wrap>  0</span></td><td><span style=white-space:pre-wrap>  0.000000</span></td><td><span style=white-space:pre-wrap>       NaN</span></td><td><span style=white-space:pre-wrap>      NaN</span></td><td>6</td><td> 9</td><td>7.500000</td><td> 3</td><td>2.121320</td><td>0.0000000</td><td>-2.7500000</td><td>2.23</td><td><span style=white-space:pre-wrap>  3.45</span></td><td>2.840000</td><td><span style=white-space:pre-wrap>  1.22</span></td><td> 0.8626703</td><td> 3.890973e-16</td><td>-2.7500000</td><td>1</td><td> 1</td><td>1.000000</td><td> 0</td><td>0.0000000</td><td><span style=white-space:pre-wrap>     NaN</span></td><td><span style=white-space:pre-wrap>      NaN</span></td><td>15.00</td><td>15.00</td><td>15.0000000</td><td>0.00</td><td>0.00000000</td><td><span style=white-space:pre-wrap>      NaN</span></td><td><span style=white-space:pre-wrap>        NaN</span></td></tr>\n",
       "\t<tr><td>fun10dencehispahard</td><td>EU   </td><td>1</td><td>    2</td><td>0.0000000</td><td>1</td><td>5.000000e-01</td><td>1</td><td>  1</td><td>  1.000000</td><td>  0</td><td>  0.000000</td><td>       NaN</td><td>      NaN</td><td>6</td><td> 8</td><td>7.000000</td><td> 2</td><td>1.414214</td><td>0.0000000</td><td>-2.7500000</td><td>3.13</td><td>  8.62</td><td>5.875000</td><td>  5.49</td><td> 3.8820162</td><td>-1.821837e-16</td><td>-2.7500000</td><td>1</td><td> 1</td><td>1.000000</td><td> 0</td><td>0.0000000</td><td>     NaN</td><td>      NaN</td><td>15.00</td><td>15.00</td><td>15.0000000</td><td>0.00</td><td>0.00000000</td><td>      NaN</td><td>        NaN</td></tr>\n",
       "\t<tr><td>fun1api            </td><td>EU   </td><td>1</td><td>    2</td><td>0.5000000</td><td>1</td><td>5.000000e-01</td><td>1</td><td>  1</td><td>  1.000000</td><td>  0</td><td>  0.000000</td><td>       NaN</td><td>      NaN</td><td>7</td><td> 7</td><td>7.000000</td><td> 0</td><td>0.000000</td><td>      NaN</td><td>       NaN</td><td>4.51</td><td>  6.09</td><td>5.300000</td><td>  1.58</td><td> 1.1172287</td><td> 0.000000e+00</td><td>-2.7500000</td><td>1</td><td> 1</td><td>1.000000</td><td> 0</td><td>0.0000000</td><td>     NaN</td><td>      NaN</td><td> 5.00</td><td> 5.00</td><td> 5.0000000</td><td>0.00</td><td>0.00000000</td><td>      NaN</td><td>        NaN</td></tr>\n",
       "\t<tr><td>funactive 24       </td><td>EU   </td><td>1</td><td>   22</td><td>0.2272727</td><td>1</td><td>4.545455e-02</td><td>1</td><td>  3</td><td>  2.090909</td><td>  2</td><td>  1.019294</td><td>-0.1702685</td><td>-2.058471</td><td>4</td><td>14</td><td>7.363636</td><td>10</td><td>2.498484</td><td>0.8100072</td><td> 0.4123014</td><td>0.59</td><td>100.00</td><td>9.425000</td><td> 99.41</td><td>20.4690367</td><td> 3.916190e+00</td><td>14.4351125</td><td>1</td><td> 3</td><td>1.272727</td><td> 2</td><td>0.7025002</td><td>1.976412</td><td> 2.003371</td><td> 0.50</td><td> 0.50</td><td> 0.5000000</td><td>0.00</td><td>0.00000000</td><td>      NaN</td><td>        NaN</td></tr>\n",
       "\t<tr><td>funalibaba         </td><td>China</td><td>1</td><td>18208</td><td>0.0118080</td><td>1</td><td>5.492091e-05</td><td>1</td><td>705</td><td>219.892025</td><td>704</td><td>156.107008</td><td> 1.5055591</td><td> 2.301106</td><td>3</td><td>38</td><td>6.956832</td><td>35</td><td>3.311960</td><td>2.9556282</td><td>13.5354533</td><td>0.00</td><td>100.00</td><td>6.320069</td><td>100.00</td><td>21.0541141</td><td> 4.158734e+00</td><td>15.5656248</td><td>1</td><td>74</td><td>5.124341</td><td>73</td><td>9.7106897</td><td>4.178197</td><td>19.706420</td><td> 0.75</td><td> 4.75</td><td> 0.7519112</td><td>4.00</td><td>0.07918874</td><td>48.370853</td><td>2363.819659</td></tr>\n",
       "\t<tr><td>funalibaba sg      </td><td>China</td><td>1</td><td>   16</td><td>0.0625000</td><td>1</td><td>6.250000e-02</td><td>1</td><td>  1</td><td>  1.000000</td><td>  0</td><td>  0.000000</td><td>       NaN</td><td>      NaN</td><td>4</td><td>13</td><td>7.375000</td><td> 9</td><td>2.604483</td><td>0.3561975</td><td>-0.8500916</td><td>0.24</td><td> 13.58</td><td>4.647500</td><td> 13.34</td><td> 3.3497910</td><td> 1.008842e+00</td><td> 0.7044306</td><td>1</td><td> 1</td><td>1.000000</td><td> 0</td><td>0.0000000</td><td>     NaN</td><td>      NaN</td><td> 0.75</td><td> 8.50</td><td> 1.2656250</td><td>7.75</td><td>1.92931065</td><td> 3.280409</td><td>   9.359645</td></tr>\n",
       "</tbody>\n",
       "</table>\n"
      ],
      "text/latex": [
       "A tibble: 6 × 42\n",
       "\\begin{tabular}{llllllllllllllllllllllllllllllllllllllllll}\n",
       " tld\\_registrar\\_index & geo\\_maj & geo\\_cnt & n & ren\\_prp & tld\\_cnt & tld\\_rat & daydom\\_min & daydom\\_max & daydom\\_mean & daydom\\_rng & daydom\\_std & daydom\\_skew & daydom\\_kurt & sldlen\\_min & sldlen\\_max & sldlen\\_mean & sldlen\\_rng & sldlen\\_std & sldlen\\_skew & sldlen\\_kurt & gibbs\\_min & gibbs\\_max & gibbs\\_mean & gibbs\\_rng & gibbs\\_std & gibbs\\_skew & gibbs\\_kurt & pdcnt\\_min & pdcnt\\_max & pdcnt\\_mean & pdcnt\\_rng & pdcnt\\_std & pdcnt\\_skew & pdcnt\\_kurt & regarpt\\_min & regarpt\\_max & regarpt\\_mean & regarpt\\_rng & regarpt\\_std & regarpt\\_skew & regarpt\\_kurt\\\\\n",
       " <chr> & <fct> & <int> & <int> & <dbl> & <int> & <dbl> & <int> & <int> & <dbl> & <int> & <dbl> & <dbl> & <dbl> & <int> & <int> & <dbl> & <int> & <dbl> & <dbl> & <dbl> & <dbl> & <dbl> & <dbl> & <dbl> & <dbl> & <dbl> & <dbl> & <int> & <int> & <dbl> & <int> & <dbl> & <dbl> & <dbl> & <dbl> & <dbl> & <dbl> & <dbl> & <dbl> & <dbl> & <dbl>\\\\\n",
       "\\hline\n",
       "\t fun1\\&1 internet     & EU    & 1 &     2 & 1.0000000 & 1 & 5.000000e-01 & 1 &   1 &   1.000000 &   0 &   0.000000 &        NaN &       NaN & 6 &  9 & 7.500000 &  3 & 2.121320 & 0.0000000 & -2.7500000 & 2.23 &   3.45 & 2.840000 &   1.22 &  0.8626703 &  3.890973e-16 & -2.7500000 & 1 &  1 & 1.000000 &  0 & 0.0000000 &      NaN &       NaN & 15.00 & 15.00 & 15.0000000 & 0.00 & 0.00000000 &       NaN &         NaN\\\\\n",
       "\t fun10dencehispahard & EU    & 1 &     2 & 0.0000000 & 1 & 5.000000e-01 & 1 &   1 &   1.000000 &   0 &   0.000000 &        NaN &       NaN & 6 &  8 & 7.000000 &  2 & 1.414214 & 0.0000000 & -2.7500000 & 3.13 &   8.62 & 5.875000 &   5.49 &  3.8820162 & -1.821837e-16 & -2.7500000 & 1 &  1 & 1.000000 &  0 & 0.0000000 &      NaN &       NaN & 15.00 & 15.00 & 15.0000000 & 0.00 & 0.00000000 &       NaN &         NaN\\\\\n",
       "\t fun1api             & EU    & 1 &     2 & 0.5000000 & 1 & 5.000000e-01 & 1 &   1 &   1.000000 &   0 &   0.000000 &        NaN &       NaN & 7 &  7 & 7.000000 &  0 & 0.000000 &       NaN &        NaN & 4.51 &   6.09 & 5.300000 &   1.58 &  1.1172287 &  0.000000e+00 & -2.7500000 & 1 &  1 & 1.000000 &  0 & 0.0000000 &      NaN &       NaN &  5.00 &  5.00 &  5.0000000 & 0.00 & 0.00000000 &       NaN &         NaN\\\\\n",
       "\t funactive 24        & EU    & 1 &    22 & 0.2272727 & 1 & 4.545455e-02 & 1 &   3 &   2.090909 &   2 &   1.019294 & -0.1702685 & -2.058471 & 4 & 14 & 7.363636 & 10 & 2.498484 & 0.8100072 &  0.4123014 & 0.59 & 100.00 & 9.425000 &  99.41 & 20.4690367 &  3.916190e+00 & 14.4351125 & 1 &  3 & 1.272727 &  2 & 0.7025002 & 1.976412 &  2.003371 &  0.50 &  0.50 &  0.5000000 & 0.00 & 0.00000000 &       NaN &         NaN\\\\\n",
       "\t funalibaba          & China & 1 & 18208 & 0.0118080 & 1 & 5.492091e-05 & 1 & 705 & 219.892025 & 704 & 156.107008 &  1.5055591 &  2.301106 & 3 & 38 & 6.956832 & 35 & 3.311960 & 2.9556282 & 13.5354533 & 0.00 & 100.00 & 6.320069 & 100.00 & 21.0541141 &  4.158734e+00 & 15.5656248 & 1 & 74 & 5.124341 & 73 & 9.7106897 & 4.178197 & 19.706420 &  0.75 &  4.75 &  0.7519112 & 4.00 & 0.07918874 & 48.370853 & 2363.819659\\\\\n",
       "\t funalibaba sg       & China & 1 &    16 & 0.0625000 & 1 & 6.250000e-02 & 1 &   1 &   1.000000 &   0 &   0.000000 &        NaN &       NaN & 4 & 13 & 7.375000 &  9 & 2.604483 & 0.3561975 & -0.8500916 & 0.24 &  13.58 & 4.647500 &  13.34 &  3.3497910 &  1.008842e+00 &  0.7044306 & 1 &  1 & 1.000000 &  0 & 0.0000000 &      NaN &       NaN &  0.75 &  8.50 &  1.2656250 & 7.75 & 1.92931065 &  3.280409 &    9.359645\\\\\n",
       "\\end{tabular}\n"
      ],
      "text/markdown": [
       "\n",
       "A tibble: 6 × 42\n",
       "\n",
       "| tld_registrar_index &lt;chr&gt; | geo_maj &lt;fct&gt; | geo_cnt &lt;int&gt; | n &lt;int&gt; | ren_prp &lt;dbl&gt; | tld_cnt &lt;int&gt; | tld_rat &lt;dbl&gt; | daydom_min &lt;int&gt; | daydom_max &lt;int&gt; | daydom_mean &lt;dbl&gt; | daydom_rng &lt;int&gt; | daydom_std &lt;dbl&gt; | daydom_skew &lt;dbl&gt; | daydom_kurt &lt;dbl&gt; | sldlen_min &lt;int&gt; | sldlen_max &lt;int&gt; | sldlen_mean &lt;dbl&gt; | sldlen_rng &lt;int&gt; | sldlen_std &lt;dbl&gt; | sldlen_skew &lt;dbl&gt; | sldlen_kurt &lt;dbl&gt; | gibbs_min &lt;dbl&gt; | gibbs_max &lt;dbl&gt; | gibbs_mean &lt;dbl&gt; | gibbs_rng &lt;dbl&gt; | gibbs_std &lt;dbl&gt; | gibbs_skew &lt;dbl&gt; | gibbs_kurt &lt;dbl&gt; | pdcnt_min &lt;int&gt; | pdcnt_max &lt;int&gt; | pdcnt_mean &lt;dbl&gt; | pdcnt_rng &lt;int&gt; | pdcnt_std &lt;dbl&gt; | pdcnt_skew &lt;dbl&gt; | pdcnt_kurt &lt;dbl&gt; | regarpt_min &lt;dbl&gt; | regarpt_max &lt;dbl&gt; | regarpt_mean &lt;dbl&gt; | regarpt_rng &lt;dbl&gt; | regarpt_std &lt;dbl&gt; | regarpt_skew &lt;dbl&gt; | regarpt_kurt &lt;dbl&gt; |\n",
       "|---|---|---|---|---|---|---|---|---|---|---|---|---|---|---|---|---|---|---|---|---|---|---|---|---|---|---|---|---|---|---|---|---|---|---|---|---|---|---|---|---|---|\n",
       "| fun1&amp;1 internet     | EU    | 1 |     2 | 1.0000000 | 1 | 5.000000e-01 | 1 |   1 |   1.000000 |   0 |   0.000000 |        NaN |       NaN | 6 |  9 | 7.500000 |  3 | 2.121320 | 0.0000000 | -2.7500000 | 2.23 |   3.45 | 2.840000 |   1.22 |  0.8626703 |  3.890973e-16 | -2.7500000 | 1 |  1 | 1.000000 |  0 | 0.0000000 |      NaN |       NaN | 15.00 | 15.00 | 15.0000000 | 0.00 | 0.00000000 |       NaN |         NaN |\n",
       "| fun10dencehispahard | EU    | 1 |     2 | 0.0000000 | 1 | 5.000000e-01 | 1 |   1 |   1.000000 |   0 |   0.000000 |        NaN |       NaN | 6 |  8 | 7.000000 |  2 | 1.414214 | 0.0000000 | -2.7500000 | 3.13 |   8.62 | 5.875000 |   5.49 |  3.8820162 | -1.821837e-16 | -2.7500000 | 1 |  1 | 1.000000 |  0 | 0.0000000 |      NaN |       NaN | 15.00 | 15.00 | 15.0000000 | 0.00 | 0.00000000 |       NaN |         NaN |\n",
       "| fun1api             | EU    | 1 |     2 | 0.5000000 | 1 | 5.000000e-01 | 1 |   1 |   1.000000 |   0 |   0.000000 |        NaN |       NaN | 7 |  7 | 7.000000 |  0 | 0.000000 |       NaN |        NaN | 4.51 |   6.09 | 5.300000 |   1.58 |  1.1172287 |  0.000000e+00 | -2.7500000 | 1 |  1 | 1.000000 |  0 | 0.0000000 |      NaN |       NaN |  5.00 |  5.00 |  5.0000000 | 0.00 | 0.00000000 |       NaN |         NaN |\n",
       "| funactive 24        | EU    | 1 |    22 | 0.2272727 | 1 | 4.545455e-02 | 1 |   3 |   2.090909 |   2 |   1.019294 | -0.1702685 | -2.058471 | 4 | 14 | 7.363636 | 10 | 2.498484 | 0.8100072 |  0.4123014 | 0.59 | 100.00 | 9.425000 |  99.41 | 20.4690367 |  3.916190e+00 | 14.4351125 | 1 |  3 | 1.272727 |  2 | 0.7025002 | 1.976412 |  2.003371 |  0.50 |  0.50 |  0.5000000 | 0.00 | 0.00000000 |       NaN |         NaN |\n",
       "| funalibaba          | China | 1 | 18208 | 0.0118080 | 1 | 5.492091e-05 | 1 | 705 | 219.892025 | 704 | 156.107008 |  1.5055591 |  2.301106 | 3 | 38 | 6.956832 | 35 | 3.311960 | 2.9556282 | 13.5354533 | 0.00 | 100.00 | 6.320069 | 100.00 | 21.0541141 |  4.158734e+00 | 15.5656248 | 1 | 74 | 5.124341 | 73 | 9.7106897 | 4.178197 | 19.706420 |  0.75 |  4.75 |  0.7519112 | 4.00 | 0.07918874 | 48.370853 | 2363.819659 |\n",
       "| funalibaba sg       | China | 1 |    16 | 0.0625000 | 1 | 6.250000e-02 | 1 |   1 |   1.000000 |   0 |   0.000000 |        NaN |       NaN | 4 | 13 | 7.375000 |  9 | 2.604483 | 0.3561975 | -0.8500916 | 0.24 |  13.58 | 4.647500 |  13.34 |  3.3497910 |  1.008842e+00 |  0.7044306 | 1 |  1 | 1.000000 |  0 | 0.0000000 |      NaN |       NaN |  0.75 |  8.50 |  1.2656250 | 7.75 | 1.92931065 |  3.280409 |    9.359645 |\n",
       "\n"
      ],
      "text/plain": [
       "  tld_registrar_index geo_maj geo_cnt n     ren_prp   tld_cnt tld_rat     \n",
       "1 fun1&1 internet     EU      1           2 1.0000000 1       5.000000e-01\n",
       "2 fun10dencehispahard EU      1           2 0.0000000 1       5.000000e-01\n",
       "3 fun1api             EU      1           2 0.5000000 1       5.000000e-01\n",
       "4 funactive 24        EU      1          22 0.2272727 1       4.545455e-02\n",
       "5 funalibaba          China   1       18208 0.0118080 1       5.492091e-05\n",
       "6 funalibaba sg       China   1          16 0.0625000 1       6.250000e-02\n",
       "  daydom_min daydom_max daydom_mean daydom_rng daydom_std daydom_skew\n",
       "1 1            1          1.000000    0          0.000000        NaN \n",
       "2 1            1          1.000000    0          0.000000        NaN \n",
       "3 1            1          1.000000    0          0.000000        NaN \n",
       "4 1            3          2.090909    2          1.019294 -0.1702685 \n",
       "5 1          705        219.892025  704        156.107008  1.5055591 \n",
       "6 1            1          1.000000    0          0.000000        NaN \n",
       "  daydom_kurt sldlen_min sldlen_max sldlen_mean sldlen_rng sldlen_std\n",
       "1       NaN   6           9         7.500000     3         2.121320  \n",
       "2       NaN   6           8         7.000000     2         1.414214  \n",
       "3       NaN   7           7         7.000000     0         0.000000  \n",
       "4 -2.058471   4          14         7.363636    10         2.498484  \n",
       "5  2.301106   3          38         6.956832    35         3.311960  \n",
       "6       NaN   4          13         7.375000     9         2.604483  \n",
       "  sldlen_skew sldlen_kurt gibbs_min gibbs_max gibbs_mean gibbs_rng gibbs_std \n",
       "1 0.0000000   -2.7500000  2.23        3.45    2.840000     1.22     0.8626703\n",
       "2 0.0000000   -2.7500000  3.13        8.62    5.875000     5.49     3.8820162\n",
       "3       NaN          NaN  4.51        6.09    5.300000     1.58     1.1172287\n",
       "4 0.8100072    0.4123014  0.59      100.00    9.425000    99.41    20.4690367\n",
       "5 2.9556282   13.5354533  0.00      100.00    6.320069   100.00    21.0541141\n",
       "6 0.3561975   -0.8500916  0.24       13.58    4.647500    13.34     3.3497910\n",
       "  gibbs_skew    gibbs_kurt pdcnt_min pdcnt_max pdcnt_mean pdcnt_rng pdcnt_std\n",
       "1  3.890973e-16 -2.7500000 1          1        1.000000    0        0.0000000\n",
       "2 -1.821837e-16 -2.7500000 1          1        1.000000    0        0.0000000\n",
       "3  0.000000e+00 -2.7500000 1          1        1.000000    0        0.0000000\n",
       "4  3.916190e+00 14.4351125 1          3        1.272727    2        0.7025002\n",
       "5  4.158734e+00 15.5656248 1         74        5.124341   73        9.7106897\n",
       "6  1.008842e+00  0.7044306 1          1        1.000000    0        0.0000000\n",
       "  pdcnt_skew pdcnt_kurt regarpt_min regarpt_max regarpt_mean regarpt_rng\n",
       "1      NaN         NaN  15.00       15.00       15.0000000   0.00       \n",
       "2      NaN         NaN  15.00       15.00       15.0000000   0.00       \n",
       "3      NaN         NaN   5.00        5.00        5.0000000   0.00       \n",
       "4 1.976412    2.003371   0.50        0.50        0.5000000   0.00       \n",
       "5 4.178197   19.706420   0.75        4.75        0.7519112   4.00       \n",
       "6      NaN         NaN   0.75        8.50        1.2656250   7.75       \n",
       "  regarpt_std regarpt_skew regarpt_kurt\n",
       "1 0.00000000        NaN            NaN \n",
       "2 0.00000000        NaN            NaN \n",
       "3 0.00000000        NaN            NaN \n",
       "4 0.00000000        NaN            NaN \n",
       "5 0.07918874  48.370853    2363.819659 \n",
       "6 1.92931065   3.280409       9.359645 "
      ]
     },
     "metadata": {},
     "output_type": "display_data"
    }
   ],
   "source": [
    "# new geo level feature eng\n",
    "expiry_test_meta = expiry_test_df_1 %>%\n",
    "  add_count(tld_registrar_index, reseller_geo) %>%\n",
    "  group_by(tld_registrar_index) %>%\n",
    "  summarise(\n",
    "            geo_maj = reseller_geo[n == max(n)][1],\n",
    "            geo_cnt = n_distinct(reseller_geo),\n",
    "            n = n(),\n",
    "            ren_prp = sum(renewal_status=='Renewed')/sum(n),\n",
    "            tld_cnt = n_distinct(tld), tld_rat = tld_cnt/n,\n",
    "              \n",
    "            daydom_min = min(day_domains), \n",
    "            daydom_max = max(day_domains), \n",
    "            daydom_mean = mean(day_domains, na.rm = TRUE), \n",
    "            daydom_rng = daydom_max - daydom_min, \n",
    "            daydom_std = sd(day_domains, na.rm = TRUE), \n",
    "            daydom_skew = skewness(day_domains, na.rm = TRUE), \n",
    "            daydom_kurt = kurtosis(day_domains, na.rm = TRUE),\n",
    "\n",
    "            sldlen_min = min(sld_length), \n",
    "            sldlen_max = max(sld_length), \n",
    "            sldlen_mean = mean(sld_length, na.rm = TRUE), \n",
    "            sldlen_rng = sldlen_max - sldlen_min, \n",
    "            sldlen_std = sd(sld_length, na.rm = TRUE), \n",
    "            sldlen_skew = skewness(sld_length, na.rm = TRUE), \n",
    "            sldlen_kurt = kurtosis(sld_length, na.rm = TRUE),\n",
    "  \n",
    "            gibbs_min = min(gibb_score), \n",
    "            gibbs_max = max(gibb_score), \n",
    "            gibbs_mean = mean(gibb_score, na.rm = TRUE), \n",
    "            gibbs_rng = gibbs_max - gibbs_min, \n",
    "            gibbs_std = sd(gibb_score, na.rm = TRUE), \n",
    "            gibbs_skew = skewness(gibb_score, na.rm = TRUE), \n",
    "            gibbs_kurt = kurtosis(gibb_score, na.rm = TRUE),\n",
    "  \n",
    "            pdcnt_min = min(pattern_domain_count), \n",
    "            pdcnt_max = max(pattern_domain_count), \n",
    "            pdcnt_mean = mean(pattern_domain_count, na.rm = TRUE), \n",
    "            pdcnt_rng = pdcnt_max - pdcnt_min, \n",
    "            pdcnt_std = sd(pattern_domain_count, na.rm = TRUE), \n",
    "            pdcnt_skew = skewness(pattern_domain_count, na.rm = TRUE), \n",
    "            pdcnt_kurt = kurtosis(pattern_domain_count, na.rm = TRUE),\n",
    "  \n",
    "            regarpt_min = min(reg_arpt), \n",
    "            regarpt_max = max(reg_arpt), \n",
    "            regarpt_mean = mean(reg_arpt, na.rm = TRUE), \n",
    "            regarpt_rng = regarpt_max - regarpt_min, \n",
    "            regarpt_std = sd(reg_arpt, na.rm = TRUE), \n",
    "            regarpt_skew = skewness(reg_arpt, na.rm = TRUE), \n",
    "            regarpt_kurt = kurtosis(reg_arpt, na.rm = TRUE))\n",
    "dim(expiry_test_meta)\n",
    "head(expiry_test_meta)"
   ]
  },
  {
   "cell_type": "code",
   "execution_count": 77,
   "metadata": {},
   "outputs": [
    {
     "name": "stderr",
     "output_type": "stream",
     "text": [
      "`summarise()` regrouping output by 'tld_registrar_index' (override with `.groups` argument)\n",
      "\n",
      "`summarise()` ungrouping output (override with `.groups` argument)\n",
      "\n",
      "`summarise()` regrouping output by 'tld_registrar_index' (override with `.groups` argument)\n",
      "\n",
      "`summarise()` ungrouping output (override with `.groups` argument)\n",
      "\n"
     ]
    }
   ],
   "source": [
    "# add a handful more vars \n",
    "country_maj = expiry_test_df_1 %>%\n",
    "  add_count(tld_registrar_index, reseller_country) %>%\n",
    "  group_by(tld_registrar_index) %>%\n",
    "  mutate(reseller_country_maj = reseller_country[n == max(n)][1]) %>%\n",
    "  select(-n) %>% \n",
    "  group_by(tld_registrar_index,reseller_country_maj) %>%\n",
    "    summarise(n = n()) %>% \n",
    "    arrange(desc(n)) %>%\n",
    "    pull(reseller_country_maj)\n",
    "\n",
    "country_cnt = expiry_test_df_1 %>%\n",
    "  add_count(tld_registrar_index, reseller_country) %>%\n",
    "  group_by(tld_registrar_index) %>%\n",
    "  summarise(reseller_country_cnt = n_distinct(reseller_country)) %>%\n",
    "  pull(reseller_country_cnt)  \n",
    "\n",
    "region_maj = expiry_test_df_1 %>%\n",
    "  add_count(tld_registrar_index, region) %>%\n",
    "  group_by(tld_registrar_index) %>%\n",
    "  mutate(region_maj = region[n == max(n)][1]) %>%\n",
    "  select(-n) %>% \n",
    "  group_by(tld_registrar_index,region_maj) %>%\n",
    "    summarise(n = n()) %>% \n",
    "    arrange(desc(n)) %>%\n",
    "    pull(region_maj)\n",
    "\n",
    "region_cnt = expiry_test_df_1 %>%\n",
    "  add_count(tld_registrar_index, region) %>%\n",
    "  group_by(tld_registrar_index) %>%\n",
    "  summarise(reseller_region_cnt = n_distinct(reseller_country)) %>%\n",
    "  pull(reseller_region_cnt)  \n",
    "\n",
    "expiry_test_meta = expiry_test_meta %>% \n",
    "    mutate(country_maj = country_maj,\n",
    "            region_maj = region_maj,\n",
    "            country_cnt = country_cnt,\n",
    "            region_cnt = region_cnt,\n",
    "            )"
   ]
  },
  {
   "cell_type": "code",
   "execution_count": 78,
   "metadata": {},
   "outputs": [
    {
     "data": {
      "text/html": [
       "<style>\n",
       ".list-inline {list-style: none; margin:0; padding: 0}\n",
       ".list-inline>li {display: inline-block}\n",
       ".list-inline>li:not(:last-child)::after {content: \"\\00b7\"; padding: 0 .5ex}\n",
       "</style>\n",
       "<ol class=list-inline><li>1405</li><li>46</li></ol>\n"
      ],
      "text/latex": [
       "\\begin{enumerate*}\n",
       "\\item 1405\n",
       "\\item 46\n",
       "\\end{enumerate*}\n"
      ],
      "text/markdown": [
       "1. 1405\n",
       "2. 46\n",
       "\n",
       "\n"
      ],
      "text/plain": [
       "[1] 1405   46"
      ]
     },
     "metadata": {},
     "output_type": "display_data"
    },
    {
     "data": {
      "text/html": [
       "<table>\n",
       "<caption>A tibble: 6 × 46</caption>\n",
       "<thead>\n",
       "\t<tr><th scope=col>tld_registrar_index</th><th scope=col>geo_maj</th><th scope=col>geo_cnt</th><th scope=col>n</th><th scope=col>ren_prp</th><th scope=col>tld_cnt</th><th scope=col>tld_rat</th><th scope=col>daydom_min</th><th scope=col>daydom_max</th><th scope=col>daydom_mean</th><th scope=col>daydom_rng</th><th scope=col>daydom_std</th><th scope=col>daydom_skew</th><th scope=col>daydom_kurt</th><th scope=col>sldlen_min</th><th scope=col>sldlen_max</th><th scope=col>sldlen_mean</th><th scope=col>sldlen_rng</th><th scope=col>sldlen_std</th><th scope=col>sldlen_skew</th><th scope=col>sldlen_kurt</th><th scope=col>gibbs_min</th><th scope=col>gibbs_max</th><th scope=col>gibbs_mean</th><th scope=col>gibbs_rng</th><th scope=col>gibbs_std</th><th scope=col>gibbs_skew</th><th scope=col>gibbs_kurt</th><th scope=col>pdcnt_min</th><th scope=col>pdcnt_max</th><th scope=col>pdcnt_mean</th><th scope=col>pdcnt_rng</th><th scope=col>pdcnt_std</th><th scope=col>pdcnt_skew</th><th scope=col>pdcnt_kurt</th><th scope=col>regarpt_min</th><th scope=col>regarpt_max</th><th scope=col>regarpt_mean</th><th scope=col>regarpt_rng</th><th scope=col>regarpt_std</th><th scope=col>regarpt_skew</th><th scope=col>regarpt_kurt</th><th scope=col>country_maj</th><th scope=col>region_maj</th><th scope=col>country_cnt</th><th scope=col>region_cnt</th></tr>\n",
       "\t<tr><th scope=col>&lt;chr&gt;</th><th scope=col>&lt;fct&gt;</th><th scope=col>&lt;int&gt;</th><th scope=col>&lt;int&gt;</th><th scope=col>&lt;dbl&gt;</th><th scope=col>&lt;int&gt;</th><th scope=col>&lt;dbl&gt;</th><th scope=col>&lt;int&gt;</th><th scope=col>&lt;int&gt;</th><th scope=col>&lt;dbl&gt;</th><th scope=col>&lt;int&gt;</th><th scope=col>&lt;dbl&gt;</th><th scope=col>&lt;dbl&gt;</th><th scope=col>&lt;dbl&gt;</th><th scope=col>&lt;int&gt;</th><th scope=col>&lt;int&gt;</th><th scope=col>&lt;dbl&gt;</th><th scope=col>&lt;int&gt;</th><th scope=col>&lt;dbl&gt;</th><th scope=col>&lt;dbl&gt;</th><th scope=col>&lt;dbl&gt;</th><th scope=col>&lt;dbl&gt;</th><th scope=col>&lt;dbl&gt;</th><th scope=col>&lt;dbl&gt;</th><th scope=col>&lt;dbl&gt;</th><th scope=col>&lt;dbl&gt;</th><th scope=col>&lt;dbl&gt;</th><th scope=col>&lt;dbl&gt;</th><th scope=col>&lt;int&gt;</th><th scope=col>&lt;int&gt;</th><th scope=col>&lt;dbl&gt;</th><th scope=col>&lt;int&gt;</th><th scope=col>&lt;dbl&gt;</th><th scope=col>&lt;dbl&gt;</th><th scope=col>&lt;dbl&gt;</th><th scope=col>&lt;dbl&gt;</th><th scope=col>&lt;dbl&gt;</th><th scope=col>&lt;dbl&gt;</th><th scope=col>&lt;dbl&gt;</th><th scope=col>&lt;dbl&gt;</th><th scope=col>&lt;dbl&gt;</th><th scope=col>&lt;dbl&gt;</th><th scope=col>&lt;chr&gt;</th><th scope=col>&lt;chr&gt;</th><th scope=col>&lt;int&gt;</th><th scope=col>&lt;int&gt;</th></tr>\n",
       "</thead>\n",
       "<tbody>\n",
       "\t<tr><td><span style=white-space:pre-wrap>fun1&amp;1 internet    </span></td><td><span style=white-space:pre-wrap>EU   </span></td><td>1</td><td><span style=white-space:pre-wrap>    2</span></td><td>1.0000000</td><td>1</td><td>5.000000e-01</td><td>1</td><td><span style=white-space:pre-wrap>  1</span></td><td><span style=white-space:pre-wrap>  1.000000</span></td><td><span style=white-space:pre-wrap>  0</span></td><td><span style=white-space:pre-wrap>  0.000000</span></td><td><span style=white-space:pre-wrap>       NaN</span></td><td><span style=white-space:pre-wrap>      NaN</span></td><td>6</td><td> 9</td><td>7.500000</td><td> 3</td><td>2.121320</td><td>0.0000000</td><td>-2.7500000</td><td>2.23</td><td><span style=white-space:pre-wrap>  3.45</span></td><td>2.840000</td><td><span style=white-space:pre-wrap>  1.22</span></td><td> 0.8626703</td><td> 3.890973e-16</td><td>-2.7500000</td><td>1</td><td> 1</td><td>1.000000</td><td> 0</td><td>0.0000000</td><td><span style=white-space:pre-wrap>     NaN</span></td><td><span style=white-space:pre-wrap>      NaN</span></td><td>15.00</td><td>15.00</td><td>15.0000000</td><td>0.00</td><td>0.00000000</td><td><span style=white-space:pre-wrap>      NaN</span></td><td><span style=white-space:pre-wrap>        NaN</span></td><td><span style=white-space:pre-wrap>Japan        </span></td><td>Non China</td><td>1</td><td>1</td></tr>\n",
       "\t<tr><td>fun10dencehispahard</td><td>EU   </td><td>1</td><td>    2</td><td>0.0000000</td><td>1</td><td>5.000000e-01</td><td>1</td><td>  1</td><td>  1.000000</td><td>  0</td><td>  0.000000</td><td>       NaN</td><td>      NaN</td><td>6</td><td> 8</td><td>7.000000</td><td> 2</td><td>1.414214</td><td>0.0000000</td><td>-2.7500000</td><td>3.13</td><td>  8.62</td><td>5.875000</td><td>  5.49</td><td> 3.8820162</td><td>-1.821837e-16</td><td>-2.7500000</td><td>1</td><td> 1</td><td>1.000000</td><td> 0</td><td>0.0000000</td><td>     NaN</td><td>      NaN</td><td>15.00</td><td>15.00</td><td>15.0000000</td><td>0.00</td><td>0.00000000</td><td>      NaN</td><td>        NaN</td><td>China        </td><td>China    </td><td>1</td><td>1</td></tr>\n",
       "\t<tr><td>fun1api            </td><td>EU   </td><td>1</td><td>    2</td><td>0.5000000</td><td>1</td><td>5.000000e-01</td><td>1</td><td>  1</td><td>  1.000000</td><td>  0</td><td>  0.000000</td><td>       NaN</td><td>      NaN</td><td>7</td><td> 7</td><td>7.000000</td><td> 0</td><td>0.000000</td><td>      NaN</td><td>       NaN</td><td>4.51</td><td>  6.09</td><td>5.300000</td><td>  1.58</td><td> 1.1172287</td><td> 0.000000e+00</td><td>-2.7500000</td><td>1</td><td> 1</td><td>1.000000</td><td> 0</td><td>0.0000000</td><td>     NaN</td><td>      NaN</td><td> 5.00</td><td> 5.00</td><td> 5.0000000</td><td>0.00</td><td>0.00000000</td><td>      NaN</td><td>        NaN</td><td>United States</td><td>Non China</td><td>1</td><td>1</td></tr>\n",
       "\t<tr><td>funactive 24       </td><td>EU   </td><td>1</td><td>   22</td><td>0.2272727</td><td>1</td><td>4.545455e-02</td><td>1</td><td>  3</td><td>  2.090909</td><td>  2</td><td>  1.019294</td><td>-0.1702685</td><td>-2.058471</td><td>4</td><td>14</td><td>7.363636</td><td>10</td><td>2.498484</td><td>0.8100072</td><td> 0.4123014</td><td>0.59</td><td>100.00</td><td>9.425000</td><td> 99.41</td><td>20.4690367</td><td> 3.916190e+00</td><td>14.4351125</td><td>1</td><td> 3</td><td>1.272727</td><td> 2</td><td>0.7025002</td><td>1.976412</td><td> 2.003371</td><td> 0.50</td><td> 0.50</td><td> 0.5000000</td><td>0.00</td><td>0.00000000</td><td>      NaN</td><td>        NaN</td><td>United States</td><td>Non China</td><td>1</td><td>1</td></tr>\n",
       "\t<tr><td>funalibaba         </td><td>China</td><td>1</td><td>18208</td><td>0.0118080</td><td>1</td><td>5.492091e-05</td><td>1</td><td>705</td><td>219.892025</td><td>704</td><td>156.107008</td><td> 1.5055591</td><td> 2.301106</td><td>3</td><td>38</td><td>6.956832</td><td>35</td><td>3.311960</td><td>2.9556282</td><td>13.5354533</td><td>0.00</td><td>100.00</td><td>6.320069</td><td>100.00</td><td>21.0541141</td><td> 4.158734e+00</td><td>15.5656248</td><td>1</td><td>74</td><td>5.124341</td><td>73</td><td>9.7106897</td><td>4.178197</td><td>19.706420</td><td> 0.75</td><td> 4.75</td><td> 0.7519112</td><td>4.00</td><td>0.07918874</td><td>48.370853</td><td>2363.819659</td><td>United States</td><td>Non China</td><td>1</td><td>1</td></tr>\n",
       "\t<tr><td>funalibaba sg      </td><td>China</td><td>1</td><td>   16</td><td>0.0625000</td><td>1</td><td>6.250000e-02</td><td>1</td><td>  1</td><td>  1.000000</td><td>  0</td><td>  0.000000</td><td>       NaN</td><td>      NaN</td><td>4</td><td>13</td><td>7.375000</td><td> 9</td><td>2.604483</td><td>0.3561975</td><td>-0.8500916</td><td>0.24</td><td> 13.58</td><td>4.647500</td><td> 13.34</td><td> 3.3497910</td><td> 1.008842e+00</td><td> 0.7044306</td><td>1</td><td> 1</td><td>1.000000</td><td> 0</td><td>0.0000000</td><td>     NaN</td><td>      NaN</td><td> 0.75</td><td> 8.50</td><td> 1.2656250</td><td>7.75</td><td>1.92931065</td><td> 3.280409</td><td>   9.359645</td><td>France       </td><td>Non China</td><td>1</td><td>1</td></tr>\n",
       "</tbody>\n",
       "</table>\n"
      ],
      "text/latex": [
       "A tibble: 6 × 46\n",
       "\\begin{tabular}{llllllllllllllllllllllllllllllllllllllllllllll}\n",
       " tld\\_registrar\\_index & geo\\_maj & geo\\_cnt & n & ren\\_prp & tld\\_cnt & tld\\_rat & daydom\\_min & daydom\\_max & daydom\\_mean & daydom\\_rng & daydom\\_std & daydom\\_skew & daydom\\_kurt & sldlen\\_min & sldlen\\_max & sldlen\\_mean & sldlen\\_rng & sldlen\\_std & sldlen\\_skew & sldlen\\_kurt & gibbs\\_min & gibbs\\_max & gibbs\\_mean & gibbs\\_rng & gibbs\\_std & gibbs\\_skew & gibbs\\_kurt & pdcnt\\_min & pdcnt\\_max & pdcnt\\_mean & pdcnt\\_rng & pdcnt\\_std & pdcnt\\_skew & pdcnt\\_kurt & regarpt\\_min & regarpt\\_max & regarpt\\_mean & regarpt\\_rng & regarpt\\_std & regarpt\\_skew & regarpt\\_kurt & country\\_maj & region\\_maj & country\\_cnt & region\\_cnt\\\\\n",
       " <chr> & <fct> & <int> & <int> & <dbl> & <int> & <dbl> & <int> & <int> & <dbl> & <int> & <dbl> & <dbl> & <dbl> & <int> & <int> & <dbl> & <int> & <dbl> & <dbl> & <dbl> & <dbl> & <dbl> & <dbl> & <dbl> & <dbl> & <dbl> & <dbl> & <int> & <int> & <dbl> & <int> & <dbl> & <dbl> & <dbl> & <dbl> & <dbl> & <dbl> & <dbl> & <dbl> & <dbl> & <dbl> & <chr> & <chr> & <int> & <int>\\\\\n",
       "\\hline\n",
       "\t fun1\\&1 internet     & EU    & 1 &     2 & 1.0000000 & 1 & 5.000000e-01 & 1 &   1 &   1.000000 &   0 &   0.000000 &        NaN &       NaN & 6 &  9 & 7.500000 &  3 & 2.121320 & 0.0000000 & -2.7500000 & 2.23 &   3.45 & 2.840000 &   1.22 &  0.8626703 &  3.890973e-16 & -2.7500000 & 1 &  1 & 1.000000 &  0 & 0.0000000 &      NaN &       NaN & 15.00 & 15.00 & 15.0000000 & 0.00 & 0.00000000 &       NaN &         NaN & Japan         & Non China & 1 & 1\\\\\n",
       "\t fun10dencehispahard & EU    & 1 &     2 & 0.0000000 & 1 & 5.000000e-01 & 1 &   1 &   1.000000 &   0 &   0.000000 &        NaN &       NaN & 6 &  8 & 7.000000 &  2 & 1.414214 & 0.0000000 & -2.7500000 & 3.13 &   8.62 & 5.875000 &   5.49 &  3.8820162 & -1.821837e-16 & -2.7500000 & 1 &  1 & 1.000000 &  0 & 0.0000000 &      NaN &       NaN & 15.00 & 15.00 & 15.0000000 & 0.00 & 0.00000000 &       NaN &         NaN & China         & China     & 1 & 1\\\\\n",
       "\t fun1api             & EU    & 1 &     2 & 0.5000000 & 1 & 5.000000e-01 & 1 &   1 &   1.000000 &   0 &   0.000000 &        NaN &       NaN & 7 &  7 & 7.000000 &  0 & 0.000000 &       NaN &        NaN & 4.51 &   6.09 & 5.300000 &   1.58 &  1.1172287 &  0.000000e+00 & -2.7500000 & 1 &  1 & 1.000000 &  0 & 0.0000000 &      NaN &       NaN &  5.00 &  5.00 &  5.0000000 & 0.00 & 0.00000000 &       NaN &         NaN & United States & Non China & 1 & 1\\\\\n",
       "\t funactive 24        & EU    & 1 &    22 & 0.2272727 & 1 & 4.545455e-02 & 1 &   3 &   2.090909 &   2 &   1.019294 & -0.1702685 & -2.058471 & 4 & 14 & 7.363636 & 10 & 2.498484 & 0.8100072 &  0.4123014 & 0.59 & 100.00 & 9.425000 &  99.41 & 20.4690367 &  3.916190e+00 & 14.4351125 & 1 &  3 & 1.272727 &  2 & 0.7025002 & 1.976412 &  2.003371 &  0.50 &  0.50 &  0.5000000 & 0.00 & 0.00000000 &       NaN &         NaN & United States & Non China & 1 & 1\\\\\n",
       "\t funalibaba          & China & 1 & 18208 & 0.0118080 & 1 & 5.492091e-05 & 1 & 705 & 219.892025 & 704 & 156.107008 &  1.5055591 &  2.301106 & 3 & 38 & 6.956832 & 35 & 3.311960 & 2.9556282 & 13.5354533 & 0.00 & 100.00 & 6.320069 & 100.00 & 21.0541141 &  4.158734e+00 & 15.5656248 & 1 & 74 & 5.124341 & 73 & 9.7106897 & 4.178197 & 19.706420 &  0.75 &  4.75 &  0.7519112 & 4.00 & 0.07918874 & 48.370853 & 2363.819659 & United States & Non China & 1 & 1\\\\\n",
       "\t funalibaba sg       & China & 1 &    16 & 0.0625000 & 1 & 6.250000e-02 & 1 &   1 &   1.000000 &   0 &   0.000000 &        NaN &       NaN & 4 & 13 & 7.375000 &  9 & 2.604483 & 0.3561975 & -0.8500916 & 0.24 &  13.58 & 4.647500 &  13.34 &  3.3497910 &  1.008842e+00 &  0.7044306 & 1 &  1 & 1.000000 &  0 & 0.0000000 &      NaN &       NaN &  0.75 &  8.50 &  1.2656250 & 7.75 & 1.92931065 &  3.280409 &    9.359645 & France        & Non China & 1 & 1\\\\\n",
       "\\end{tabular}\n"
      ],
      "text/markdown": [
       "\n",
       "A tibble: 6 × 46\n",
       "\n",
       "| tld_registrar_index &lt;chr&gt; | geo_maj &lt;fct&gt; | geo_cnt &lt;int&gt; | n &lt;int&gt; | ren_prp &lt;dbl&gt; | tld_cnt &lt;int&gt; | tld_rat &lt;dbl&gt; | daydom_min &lt;int&gt; | daydom_max &lt;int&gt; | daydom_mean &lt;dbl&gt; | daydom_rng &lt;int&gt; | daydom_std &lt;dbl&gt; | daydom_skew &lt;dbl&gt; | daydom_kurt &lt;dbl&gt; | sldlen_min &lt;int&gt; | sldlen_max &lt;int&gt; | sldlen_mean &lt;dbl&gt; | sldlen_rng &lt;int&gt; | sldlen_std &lt;dbl&gt; | sldlen_skew &lt;dbl&gt; | sldlen_kurt &lt;dbl&gt; | gibbs_min &lt;dbl&gt; | gibbs_max &lt;dbl&gt; | gibbs_mean &lt;dbl&gt; | gibbs_rng &lt;dbl&gt; | gibbs_std &lt;dbl&gt; | gibbs_skew &lt;dbl&gt; | gibbs_kurt &lt;dbl&gt; | pdcnt_min &lt;int&gt; | pdcnt_max &lt;int&gt; | pdcnt_mean &lt;dbl&gt; | pdcnt_rng &lt;int&gt; | pdcnt_std &lt;dbl&gt; | pdcnt_skew &lt;dbl&gt; | pdcnt_kurt &lt;dbl&gt; | regarpt_min &lt;dbl&gt; | regarpt_max &lt;dbl&gt; | regarpt_mean &lt;dbl&gt; | regarpt_rng &lt;dbl&gt; | regarpt_std &lt;dbl&gt; | regarpt_skew &lt;dbl&gt; | regarpt_kurt &lt;dbl&gt; | country_maj &lt;chr&gt; | region_maj &lt;chr&gt; | country_cnt &lt;int&gt; | region_cnt &lt;int&gt; |\n",
       "|---|---|---|---|---|---|---|---|---|---|---|---|---|---|---|---|---|---|---|---|---|---|---|---|---|---|---|---|---|---|---|---|---|---|---|---|---|---|---|---|---|---|---|---|---|---|\n",
       "| fun1&amp;1 internet     | EU    | 1 |     2 | 1.0000000 | 1 | 5.000000e-01 | 1 |   1 |   1.000000 |   0 |   0.000000 |        NaN |       NaN | 6 |  9 | 7.500000 |  3 | 2.121320 | 0.0000000 | -2.7500000 | 2.23 |   3.45 | 2.840000 |   1.22 |  0.8626703 |  3.890973e-16 | -2.7500000 | 1 |  1 | 1.000000 |  0 | 0.0000000 |      NaN |       NaN | 15.00 | 15.00 | 15.0000000 | 0.00 | 0.00000000 |       NaN |         NaN | Japan         | Non China | 1 | 1 |\n",
       "| fun10dencehispahard | EU    | 1 |     2 | 0.0000000 | 1 | 5.000000e-01 | 1 |   1 |   1.000000 |   0 |   0.000000 |        NaN |       NaN | 6 |  8 | 7.000000 |  2 | 1.414214 | 0.0000000 | -2.7500000 | 3.13 |   8.62 | 5.875000 |   5.49 |  3.8820162 | -1.821837e-16 | -2.7500000 | 1 |  1 | 1.000000 |  0 | 0.0000000 |      NaN |       NaN | 15.00 | 15.00 | 15.0000000 | 0.00 | 0.00000000 |       NaN |         NaN | China         | China     | 1 | 1 |\n",
       "| fun1api             | EU    | 1 |     2 | 0.5000000 | 1 | 5.000000e-01 | 1 |   1 |   1.000000 |   0 |   0.000000 |        NaN |       NaN | 7 |  7 | 7.000000 |  0 | 0.000000 |       NaN |        NaN | 4.51 |   6.09 | 5.300000 |   1.58 |  1.1172287 |  0.000000e+00 | -2.7500000 | 1 |  1 | 1.000000 |  0 | 0.0000000 |      NaN |       NaN |  5.00 |  5.00 |  5.0000000 | 0.00 | 0.00000000 |       NaN |         NaN | United States | Non China | 1 | 1 |\n",
       "| funactive 24        | EU    | 1 |    22 | 0.2272727 | 1 | 4.545455e-02 | 1 |   3 |   2.090909 |   2 |   1.019294 | -0.1702685 | -2.058471 | 4 | 14 | 7.363636 | 10 | 2.498484 | 0.8100072 |  0.4123014 | 0.59 | 100.00 | 9.425000 |  99.41 | 20.4690367 |  3.916190e+00 | 14.4351125 | 1 |  3 | 1.272727 |  2 | 0.7025002 | 1.976412 |  2.003371 |  0.50 |  0.50 |  0.5000000 | 0.00 | 0.00000000 |       NaN |         NaN | United States | Non China | 1 | 1 |\n",
       "| funalibaba          | China | 1 | 18208 | 0.0118080 | 1 | 5.492091e-05 | 1 | 705 | 219.892025 | 704 | 156.107008 |  1.5055591 |  2.301106 | 3 | 38 | 6.956832 | 35 | 3.311960 | 2.9556282 | 13.5354533 | 0.00 | 100.00 | 6.320069 | 100.00 | 21.0541141 |  4.158734e+00 | 15.5656248 | 1 | 74 | 5.124341 | 73 | 9.7106897 | 4.178197 | 19.706420 |  0.75 |  4.75 |  0.7519112 | 4.00 | 0.07918874 | 48.370853 | 2363.819659 | United States | Non China | 1 | 1 |\n",
       "| funalibaba sg       | China | 1 |    16 | 0.0625000 | 1 | 6.250000e-02 | 1 |   1 |   1.000000 |   0 |   0.000000 |        NaN |       NaN | 4 | 13 | 7.375000 |  9 | 2.604483 | 0.3561975 | -0.8500916 | 0.24 |  13.58 | 4.647500 |  13.34 |  3.3497910 |  1.008842e+00 |  0.7044306 | 1 |  1 | 1.000000 |  0 | 0.0000000 |      NaN |       NaN |  0.75 |  8.50 |  1.2656250 | 7.75 | 1.92931065 |  3.280409 |    9.359645 | France        | Non China | 1 | 1 |\n",
       "\n"
      ],
      "text/plain": [
       "  tld_registrar_index geo_maj geo_cnt n     ren_prp   tld_cnt tld_rat     \n",
       "1 fun1&1 internet     EU      1           2 1.0000000 1       5.000000e-01\n",
       "2 fun10dencehispahard EU      1           2 0.0000000 1       5.000000e-01\n",
       "3 fun1api             EU      1           2 0.5000000 1       5.000000e-01\n",
       "4 funactive 24        EU      1          22 0.2272727 1       4.545455e-02\n",
       "5 funalibaba          China   1       18208 0.0118080 1       5.492091e-05\n",
       "6 funalibaba sg       China   1          16 0.0625000 1       6.250000e-02\n",
       "  daydom_min daydom_max daydom_mean daydom_rng daydom_std daydom_skew\n",
       "1 1            1          1.000000    0          0.000000        NaN \n",
       "2 1            1          1.000000    0          0.000000        NaN \n",
       "3 1            1          1.000000    0          0.000000        NaN \n",
       "4 1            3          2.090909    2          1.019294 -0.1702685 \n",
       "5 1          705        219.892025  704        156.107008  1.5055591 \n",
       "6 1            1          1.000000    0          0.000000        NaN \n",
       "  daydom_kurt sldlen_min sldlen_max sldlen_mean sldlen_rng sldlen_std\n",
       "1       NaN   6           9         7.500000     3         2.121320  \n",
       "2       NaN   6           8         7.000000     2         1.414214  \n",
       "3       NaN   7           7         7.000000     0         0.000000  \n",
       "4 -2.058471   4          14         7.363636    10         2.498484  \n",
       "5  2.301106   3          38         6.956832    35         3.311960  \n",
       "6       NaN   4          13         7.375000     9         2.604483  \n",
       "  sldlen_skew sldlen_kurt gibbs_min gibbs_max gibbs_mean gibbs_rng gibbs_std \n",
       "1 0.0000000   -2.7500000  2.23        3.45    2.840000     1.22     0.8626703\n",
       "2 0.0000000   -2.7500000  3.13        8.62    5.875000     5.49     3.8820162\n",
       "3       NaN          NaN  4.51        6.09    5.300000     1.58     1.1172287\n",
       "4 0.8100072    0.4123014  0.59      100.00    9.425000    99.41    20.4690367\n",
       "5 2.9556282   13.5354533  0.00      100.00    6.320069   100.00    21.0541141\n",
       "6 0.3561975   -0.8500916  0.24       13.58    4.647500    13.34     3.3497910\n",
       "  gibbs_skew    gibbs_kurt pdcnt_min pdcnt_max pdcnt_mean pdcnt_rng pdcnt_std\n",
       "1  3.890973e-16 -2.7500000 1          1        1.000000    0        0.0000000\n",
       "2 -1.821837e-16 -2.7500000 1          1        1.000000    0        0.0000000\n",
       "3  0.000000e+00 -2.7500000 1          1        1.000000    0        0.0000000\n",
       "4  3.916190e+00 14.4351125 1          3        1.272727    2        0.7025002\n",
       "5  4.158734e+00 15.5656248 1         74        5.124341   73        9.7106897\n",
       "6  1.008842e+00  0.7044306 1          1        1.000000    0        0.0000000\n",
       "  pdcnt_skew pdcnt_kurt regarpt_min regarpt_max regarpt_mean regarpt_rng\n",
       "1      NaN         NaN  15.00       15.00       15.0000000   0.00       \n",
       "2      NaN         NaN  15.00       15.00       15.0000000   0.00       \n",
       "3      NaN         NaN   5.00        5.00        5.0000000   0.00       \n",
       "4 1.976412    2.003371   0.50        0.50        0.5000000   0.00       \n",
       "5 4.178197   19.706420   0.75        4.75        0.7519112   4.00       \n",
       "6      NaN         NaN   0.75        8.50        1.2656250   7.75       \n",
       "  regarpt_std regarpt_skew regarpt_kurt country_maj   region_maj country_cnt\n",
       "1 0.00000000        NaN            NaN  Japan         Non China  1          \n",
       "2 0.00000000        NaN            NaN  China         China      1          \n",
       "3 0.00000000        NaN            NaN  United States Non China  1          \n",
       "4 0.00000000        NaN            NaN  United States Non China  1          \n",
       "5 0.07918874  48.370853    2363.819659  United States Non China  1          \n",
       "6 1.92931065   3.280409       9.359645  France        Non China  1          \n",
       "  region_cnt\n",
       "1 1         \n",
       "2 1         \n",
       "3 1         \n",
       "4 1         \n",
       "5 1         \n",
       "6 1         "
      ]
     },
     "metadata": {},
     "output_type": "display_data"
    }
   ],
   "source": [
    "dim(expiry_test_meta)\n",
    "head(expiry_test_meta)"
   ]
  },
  {
   "cell_type": "markdown",
   "metadata": {},
   "source": [
    "# Join w/ Metrics"
   ]
  },
  {
   "cell_type": "code",
   "execution_count": 79,
   "metadata": {},
   "outputs": [
    {
     "data": {
      "text/html": [
       "<style>\n",
       ".list-inline {list-style: none; margin:0; padding: 0}\n",
       ".list-inline>li {display: inline-block}\n",
       ".list-inline>li:not(:last-child)::after {content: \"\\00b7\"; padding: 0 .5ex}\n",
       "</style>\n",
       "<ol class=list-inline><li>1405</li><li>70</li></ol>\n"
      ],
      "text/latex": [
       "\\begin{enumerate*}\n",
       "\\item 1405\n",
       "\\item 70\n",
       "\\end{enumerate*}\n"
      ],
      "text/markdown": [
       "1. 1405\n",
       "2. 70\n",
       "\n",
       "\n"
      ],
      "text/plain": [
       "[1] 1405   70"
      ]
     },
     "metadata": {},
     "output_type": "display_data"
    },
    {
     "data": {
      "text/html": [
       "<table>\n",
       "<caption>A data.frame: 6 × 70</caption>\n",
       "<thead>\n",
       "\t<tr><th></th><th scope=col>tld_registrar_index</th><th scope=col>geo_maj</th><th scope=col>geo_cnt</th><th scope=col>n</th><th scope=col>ren_prp</th><th scope=col>tld_cnt</th><th scope=col>tld_rat</th><th scope=col>daydom_min</th><th scope=col>daydom_max</th><th scope=col>daydom_mean</th><th scope=col>daydom_rng</th><th scope=col>daydom_std</th><th scope=col>daydom_skew</th><th scope=col>daydom_kurt</th><th scope=col>sldlen_min</th><th scope=col>sldlen_max</th><th scope=col>sldlen_mean</th><th scope=col>sldlen_rng</th><th scope=col>sldlen_std</th><th scope=col>sldlen_skew</th><th scope=col>sldlen_kurt</th><th scope=col>gibbs_min</th><th scope=col>gibbs_max</th><th scope=col>gibbs_mean</th><th scope=col>gibbs_rng</th><th scope=col>⋯</th><th scope=col>region_cnt</th><th scope=col>l10_seg2_glm</th><th scope=col>l10_seg_glm</th><th scope=col>l10_agg_glm</th><th scope=col>l10_seg2_rf</th><th scope=col>l10_seg_rf</th><th scope=col>l10_agg_rf</th><th scope=col>auc_seg2_glm</th><th scope=col>auc_seg_glm</th><th scope=col>auc_agg_glm</th><th scope=col>auc_seg2_rf</th><th scope=col>auc_seg_rf</th><th scope=col>auc_agg_rf</th><th scope=col>l10_seg2_glm_fb</th><th scope=col>l10_seg_glm_fb</th><th scope=col>l10_agg_glm_fb</th><th scope=col>l10_seg2_rf_fb</th><th scope=col>l10_seg_rf_fb</th><th scope=col>l10_agg_rf_fb</th><th scope=col>auc_seg2_glm_fb</th><th scope=col>auc_seg_glm_fb</th><th scope=col>auc_agg_glm_fb</th><th scope=col>auc_seg2_rf_fb</th><th scope=col>auc_seg_rf_fb</th><th scope=col>auc_agg_rf_fb</th></tr>\n",
       "\t<tr><th></th><th scope=col>&lt;chr&gt;</th><th scope=col>&lt;fct&gt;</th><th scope=col>&lt;int&gt;</th><th scope=col>&lt;int&gt;</th><th scope=col>&lt;dbl&gt;</th><th scope=col>&lt;int&gt;</th><th scope=col>&lt;dbl&gt;</th><th scope=col>&lt;int&gt;</th><th scope=col>&lt;int&gt;</th><th scope=col>&lt;dbl&gt;</th><th scope=col>&lt;int&gt;</th><th scope=col>&lt;dbl&gt;</th><th scope=col>&lt;dbl&gt;</th><th scope=col>&lt;dbl&gt;</th><th scope=col>&lt;int&gt;</th><th scope=col>&lt;int&gt;</th><th scope=col>&lt;dbl&gt;</th><th scope=col>&lt;int&gt;</th><th scope=col>&lt;dbl&gt;</th><th scope=col>&lt;dbl&gt;</th><th scope=col>&lt;dbl&gt;</th><th scope=col>&lt;dbl&gt;</th><th scope=col>&lt;dbl&gt;</th><th scope=col>&lt;dbl&gt;</th><th scope=col>&lt;dbl&gt;</th><th scope=col>⋯</th><th scope=col>&lt;int&gt;</th><th scope=col>&lt;list&gt;</th><th scope=col>&lt;list&gt;</th><th scope=col>&lt;list&gt;</th><th scope=col>&lt;list&gt;</th><th scope=col>&lt;list&gt;</th><th scope=col>&lt;list&gt;</th><th scope=col>&lt;list&gt;</th><th scope=col>&lt;list&gt;</th><th scope=col>&lt;list&gt;</th><th scope=col>&lt;list&gt;</th><th scope=col>&lt;list&gt;</th><th scope=col>&lt;list&gt;</th><th scope=col>&lt;list&gt;</th><th scope=col>&lt;list&gt;</th><th scope=col>&lt;list&gt;</th><th scope=col>&lt;list&gt;</th><th scope=col>&lt;list&gt;</th><th scope=col>&lt;list&gt;</th><th scope=col>&lt;list&gt;</th><th scope=col>&lt;list&gt;</th><th scope=col>&lt;list&gt;</th><th scope=col>&lt;list&gt;</th><th scope=col>&lt;list&gt;</th><th scope=col>&lt;list&gt;</th></tr>\n",
       "</thead>\n",
       "<tbody>\n",
       "\t<tr><th scope=row>1</th><td><span style=white-space:pre-wrap>fun1&amp;1 internet    </span></td><td><span style=white-space:pre-wrap>EU   </span></td><td>1</td><td><span style=white-space:pre-wrap>    2</span></td><td>1.0000000</td><td>1</td><td>5.000000e-01</td><td>1</td><td><span style=white-space:pre-wrap>  1</span></td><td><span style=white-space:pre-wrap>  1.000000</span></td><td><span style=white-space:pre-wrap>  0</span></td><td><span style=white-space:pre-wrap>  0.000000</span></td><td><span style=white-space:pre-wrap>       NaN</span></td><td><span style=white-space:pre-wrap>      NaN</span></td><td>6</td><td> 9</td><td>7.500000</td><td> 3</td><td>2.121320</td><td>0.0000000</td><td>-2.7500000</td><td>2.23</td><td><span style=white-space:pre-wrap>  3.45</span></td><td>2.840000</td><td><span style=white-space:pre-wrap>  1.22</span></td><td>⋯</td><td>1</td><td>5</td><td>5</td><td>5</td><td>5</td><td>5</td><td>5</td><td>0.6</td><td>0.6</td><td>0.6</td><td>0.6</td><td>0.6</td><td>0.6</td><td>5</td><td>5</td><td>5</td><td>5</td><td>5</td><td>5</td><td>0.6</td><td>0.6</td><td>0.6</td><td>0.6</td><td>0.6</td><td>0.6</td></tr>\n",
       "\t<tr><th scope=row>2</th><td>fun10dencehispahard</td><td>EU   </td><td>1</td><td>    2</td><td>0.0000000</td><td>1</td><td>5.000000e-01</td><td>1</td><td>  1</td><td>  1.000000</td><td>  0</td><td>  0.000000</td><td>       NaN</td><td>      NaN</td><td>6</td><td> 8</td><td>7.000000</td><td> 2</td><td>1.414214</td><td>0.0000000</td><td>-2.7500000</td><td>3.13</td><td>  8.62</td><td>5.875000</td><td>  5.49</td><td>⋯</td><td>1</td><td>NaN</td><td>NaN</td><td>NaN</td><td>NaN</td><td>NaN</td><td>NaN</td><td>NaN</td><td>NaN</td><td>NaN</td><td>NaN</td><td>NaN</td><td>NaN</td><td>NaN</td><td>NaN</td><td>NaN</td><td>NaN</td><td>NaN</td><td>NaN</td><td>NaN</td><td>NaN</td><td>NaN</td><td>NaN</td><td>NaN</td><td>NaN</td></tr>\n",
       "\t<tr><th scope=row>3</th><td>fun1api            </td><td>EU   </td><td>1</td><td>    2</td><td>0.5000000</td><td>1</td><td>5.000000e-01</td><td>1</td><td>  1</td><td>  1.000000</td><td>  0</td><td>  0.000000</td><td>       NaN</td><td>      NaN</td><td>7</td><td> 7</td><td>7.000000</td><td> 0</td><td>0.000000</td><td>      NaN</td><td>       NaN</td><td>4.51</td><td>  6.09</td><td>5.300000</td><td>  1.58</td><td>⋯</td><td>1</td><td>0</td><td>0</td><td>0</td><td>10</td><td>10</td><td>0</td><td>0.25</td><td>0.25</td><td>0.25</td><td>0.95</td><td>0.95</td><td>0.25</td><td>0</td><td>0</td><td>0</td><td>10</td><td>10</td><td>0</td><td>0.25</td><td>0.25</td><td>0.25</td><td>0.95</td><td>0.95</td><td>0.25</td></tr>\n",
       "\t<tr><th scope=row>4</th><td>funactive 24       </td><td>EU   </td><td>1</td><td>   22</td><td>0.2272727</td><td>1</td><td>4.545455e-02</td><td>1</td><td>  3</td><td>  2.090909</td><td>  2</td><td>  1.019294</td><td>-0.1702685</td><td>-2.058471</td><td>4</td><td>14</td><td>7.363636</td><td>10</td><td>2.498484</td><td>0.8100072</td><td> 0.4123014</td><td>0.59</td><td>100.00</td><td>9.425000</td><td> 99.41</td><td>⋯</td><td>1</td><td>0</td><td>0</td><td>0</td><td>2</td><td>2</td><td>2</td><td>0.45</td><td>0.35</td><td>0.49</td><td>0.57</td><td>0.59</td><td>0.63</td><td>0</td><td>0</td><td>0</td><td>2</td><td>2</td><td>2</td><td>0.45</td><td>0.35</td><td>0.49</td><td>0.57</td><td>0.59</td><td>0.63</td></tr>\n",
       "\t<tr><th scope=row>5</th><td>funalibaba         </td><td>China</td><td>1</td><td>18208</td><td>0.0118080</td><td>1</td><td>5.492091e-05</td><td>1</td><td>705</td><td>219.892025</td><td>704</td><td>156.107008</td><td> 1.5055591</td><td> 2.301106</td><td>3</td><td>38</td><td>6.956832</td><td>35</td><td>3.311960</td><td>2.9556282</td><td>13.5354533</td><td>0.00</td><td>100.00</td><td>6.320069</td><td>100.00</td><td>⋯</td><td>1</td><td>4.883721</td><td>5.302326</td><td>5.023256</td><td>5.813953</td><td>6</td><td>6.186047</td><td>0.8262791</td><td>0.8425581</td><td>0.8513953</td><td>0.8769767</td><td>0.877907</td><td>0.8793023</td><td>4.883721</td><td>5.302326</td><td>5.023256</td><td>5.813953</td><td>6</td><td>6.186047</td><td>0.8262791</td><td>0.8425581</td><td>0.8513953</td><td>0.8769767</td><td>0.877907</td><td>0.8793023</td></tr>\n",
       "\t<tr><th scope=row>6</th><td>funalibaba sg      </td><td>China</td><td>1</td><td>   16</td><td>0.0625000</td><td>1</td><td>6.250000e-02</td><td>1</td><td>  1</td><td>  1.000000</td><td>  0</td><td>  0.000000</td><td>       NaN</td><td>      NaN</td><td>4</td><td>13</td><td>7.375000</td><td> 9</td><td>2.604483</td><td>0.3561975</td><td>-0.8500916</td><td>0.24</td><td> 13.58</td><td>4.647500</td><td> 13.34</td><td>⋯</td><td>1</td><td>0</td><td>0</td><td>10</td><td>0</td><td>0</td><td>10</td><td>0.05</td><td>0.05</td><td>0.95</td><td>0.85</td><td>0.55</td><td>0.95</td><td>0</td><td>0</td><td>10</td><td>0</td><td>0</td><td>10</td><td>0.05</td><td>0.05</td><td>0.95</td><td>0.85</td><td>0.55</td><td>0.95</td></tr>\n",
       "</tbody>\n",
       "</table>\n"
      ],
      "text/latex": [
       "A data.frame: 6 × 70\n",
       "\\begin{tabular}{r|lllllllllllllllllllllllllllllllllllllllllllllllllll}\n",
       "  & tld\\_registrar\\_index & geo\\_maj & geo\\_cnt & n & ren\\_prp & tld\\_cnt & tld\\_rat & daydom\\_min & daydom\\_max & daydom\\_mean & daydom\\_rng & daydom\\_std & daydom\\_skew & daydom\\_kurt & sldlen\\_min & sldlen\\_max & sldlen\\_mean & sldlen\\_rng & sldlen\\_std & sldlen\\_skew & sldlen\\_kurt & gibbs\\_min & gibbs\\_max & gibbs\\_mean & gibbs\\_rng & ⋯ & region\\_cnt & l10\\_seg2\\_glm & l10\\_seg\\_glm & l10\\_agg\\_glm & l10\\_seg2\\_rf & l10\\_seg\\_rf & l10\\_agg\\_rf & auc\\_seg2\\_glm & auc\\_seg\\_glm & auc\\_agg\\_glm & auc\\_seg2\\_rf & auc\\_seg\\_rf & auc\\_agg\\_rf & l10\\_seg2\\_glm\\_fb & l10\\_seg\\_glm\\_fb & l10\\_agg\\_glm\\_fb & l10\\_seg2\\_rf\\_fb & l10\\_seg\\_rf\\_fb & l10\\_agg\\_rf\\_fb & auc\\_seg2\\_glm\\_fb & auc\\_seg\\_glm\\_fb & auc\\_agg\\_glm\\_fb & auc\\_seg2\\_rf\\_fb & auc\\_seg\\_rf\\_fb & auc\\_agg\\_rf\\_fb\\\\\n",
       "  & <chr> & <fct> & <int> & <int> & <dbl> & <int> & <dbl> & <int> & <int> & <dbl> & <int> & <dbl> & <dbl> & <dbl> & <int> & <int> & <dbl> & <int> & <dbl> & <dbl> & <dbl> & <dbl> & <dbl> & <dbl> & <dbl> & ⋯ & <int> & <list> & <list> & <list> & <list> & <list> & <list> & <list> & <list> & <list> & <list> & <list> & <list> & <list> & <list> & <list> & <list> & <list> & <list> & <list> & <list> & <list> & <list> & <list> & <list>\\\\\n",
       "\\hline\n",
       "\t1 & fun1\\&1 internet     & EU    & 1 &     2 & 1.0000000 & 1 & 5.000000e-01 & 1 &   1 &   1.000000 &   0 &   0.000000 &        NaN &       NaN & 6 &  9 & 7.500000 &  3 & 2.121320 & 0.0000000 & -2.7500000 & 2.23 &   3.45 & 2.840000 &   1.22 & ⋯ & 1 & 5 & 5 & 5 & 5 & 5 & 5 & 0.6 & 0.6 & 0.6 & 0.6 & 0.6 & 0.6 & 5 & 5 & 5 & 5 & 5 & 5 & 0.6 & 0.6 & 0.6 & 0.6 & 0.6 & 0.6\\\\\n",
       "\t2 & fun10dencehispahard & EU    & 1 &     2 & 0.0000000 & 1 & 5.000000e-01 & 1 &   1 &   1.000000 &   0 &   0.000000 &        NaN &       NaN & 6 &  8 & 7.000000 &  2 & 1.414214 & 0.0000000 & -2.7500000 & 3.13 &   8.62 & 5.875000 &   5.49 & ⋯ & 1 & NaN & NaN & NaN & NaN & NaN & NaN & NaN & NaN & NaN & NaN & NaN & NaN & NaN & NaN & NaN & NaN & NaN & NaN & NaN & NaN & NaN & NaN & NaN & NaN\\\\\n",
       "\t3 & fun1api             & EU    & 1 &     2 & 0.5000000 & 1 & 5.000000e-01 & 1 &   1 &   1.000000 &   0 &   0.000000 &        NaN &       NaN & 7 &  7 & 7.000000 &  0 & 0.000000 &       NaN &        NaN & 4.51 &   6.09 & 5.300000 &   1.58 & ⋯ & 1 & 0 & 0 & 0 & 10 & 10 & 0 & 0.25 & 0.25 & 0.25 & 0.95 & 0.95 & 0.25 & 0 & 0 & 0 & 10 & 10 & 0 & 0.25 & 0.25 & 0.25 & 0.95 & 0.95 & 0.25\\\\\n",
       "\t4 & funactive 24        & EU    & 1 &    22 & 0.2272727 & 1 & 4.545455e-02 & 1 &   3 &   2.090909 &   2 &   1.019294 & -0.1702685 & -2.058471 & 4 & 14 & 7.363636 & 10 & 2.498484 & 0.8100072 &  0.4123014 & 0.59 & 100.00 & 9.425000 &  99.41 & ⋯ & 1 & 0 & 0 & 0 & 2 & 2 & 2 & 0.45 & 0.35 & 0.49 & 0.57 & 0.59 & 0.63 & 0 & 0 & 0 & 2 & 2 & 2 & 0.45 & 0.35 & 0.49 & 0.57 & 0.59 & 0.63\\\\\n",
       "\t5 & funalibaba          & China & 1 & 18208 & 0.0118080 & 1 & 5.492091e-05 & 1 & 705 & 219.892025 & 704 & 156.107008 &  1.5055591 &  2.301106 & 3 & 38 & 6.956832 & 35 & 3.311960 & 2.9556282 & 13.5354533 & 0.00 & 100.00 & 6.320069 & 100.00 & ⋯ & 1 & 4.883721 & 5.302326 & 5.023256 & 5.813953 & 6 & 6.186047 & 0.8262791 & 0.8425581 & 0.8513953 & 0.8769767 & 0.877907 & 0.8793023 & 4.883721 & 5.302326 & 5.023256 & 5.813953 & 6 & 6.186047 & 0.8262791 & 0.8425581 & 0.8513953 & 0.8769767 & 0.877907 & 0.8793023\\\\\n",
       "\t6 & funalibaba sg       & China & 1 &    16 & 0.0625000 & 1 & 6.250000e-02 & 1 &   1 &   1.000000 &   0 &   0.000000 &        NaN &       NaN & 4 & 13 & 7.375000 &  9 & 2.604483 & 0.3561975 & -0.8500916 & 0.24 &  13.58 & 4.647500 &  13.34 & ⋯ & 1 & 0 & 0 & 10 & 0 & 0 & 10 & 0.05 & 0.05 & 0.95 & 0.85 & 0.55 & 0.95 & 0 & 0 & 10 & 0 & 0 & 10 & 0.05 & 0.05 & 0.95 & 0.85 & 0.55 & 0.95\\\\\n",
       "\\end{tabular}\n"
      ],
      "text/markdown": [
       "\n",
       "A data.frame: 6 × 70\n",
       "\n",
       "| <!--/--> | tld_registrar_index &lt;chr&gt; | geo_maj &lt;fct&gt; | geo_cnt &lt;int&gt; | n &lt;int&gt; | ren_prp &lt;dbl&gt; | tld_cnt &lt;int&gt; | tld_rat &lt;dbl&gt; | daydom_min &lt;int&gt; | daydom_max &lt;int&gt; | daydom_mean &lt;dbl&gt; | daydom_rng &lt;int&gt; | daydom_std &lt;dbl&gt; | daydom_skew &lt;dbl&gt; | daydom_kurt &lt;dbl&gt; | sldlen_min &lt;int&gt; | sldlen_max &lt;int&gt; | sldlen_mean &lt;dbl&gt; | sldlen_rng &lt;int&gt; | sldlen_std &lt;dbl&gt; | sldlen_skew &lt;dbl&gt; | sldlen_kurt &lt;dbl&gt; | gibbs_min &lt;dbl&gt; | gibbs_max &lt;dbl&gt; | gibbs_mean &lt;dbl&gt; | gibbs_rng &lt;dbl&gt; | ⋯ ⋯ | region_cnt &lt;int&gt; | l10_seg2_glm &lt;list&gt; | l10_seg_glm &lt;list&gt; | l10_agg_glm &lt;list&gt; | l10_seg2_rf &lt;list&gt; | l10_seg_rf &lt;list&gt; | l10_agg_rf &lt;list&gt; | auc_seg2_glm &lt;list&gt; | auc_seg_glm &lt;list&gt; | auc_agg_glm &lt;list&gt; | auc_seg2_rf &lt;list&gt; | auc_seg_rf &lt;list&gt; | auc_agg_rf &lt;list&gt; | l10_seg2_glm_fb &lt;list&gt; | l10_seg_glm_fb &lt;list&gt; | l10_agg_glm_fb &lt;list&gt; | l10_seg2_rf_fb &lt;list&gt; | l10_seg_rf_fb &lt;list&gt; | l10_agg_rf_fb &lt;list&gt; | auc_seg2_glm_fb &lt;list&gt; | auc_seg_glm_fb &lt;list&gt; | auc_agg_glm_fb &lt;list&gt; | auc_seg2_rf_fb &lt;list&gt; | auc_seg_rf_fb &lt;list&gt; | auc_agg_rf_fb &lt;list&gt; |\n",
       "|---|---|---|---|---|---|---|---|---|---|---|---|---|---|---|---|---|---|---|---|---|---|---|---|---|---|---|---|---|---|---|---|---|---|---|---|---|---|---|---|---|---|---|---|---|---|---|---|---|---|---|---|\n",
       "| 1 | fun1&amp;1 internet     | EU    | 1 |     2 | 1.0000000 | 1 | 5.000000e-01 | 1 |   1 |   1.000000 |   0 |   0.000000 |        NaN |       NaN | 6 |  9 | 7.500000 |  3 | 2.121320 | 0.0000000 | -2.7500000 | 2.23 |   3.45 | 2.840000 |   1.22 | ⋯ | 1 | 5 | 5 | 5 | 5 | 5 | 5 | 0.6 | 0.6 | 0.6 | 0.6 | 0.6 | 0.6 | 5 | 5 | 5 | 5 | 5 | 5 | 0.6 | 0.6 | 0.6 | 0.6 | 0.6 | 0.6 |\n",
       "| 2 | fun10dencehispahard | EU    | 1 |     2 | 0.0000000 | 1 | 5.000000e-01 | 1 |   1 |   1.000000 |   0 |   0.000000 |        NaN |       NaN | 6 |  8 | 7.000000 |  2 | 1.414214 | 0.0000000 | -2.7500000 | 3.13 |   8.62 | 5.875000 |   5.49 | ⋯ | 1 | NaN | NaN | NaN | NaN | NaN | NaN | NaN | NaN | NaN | NaN | NaN | NaN | NaN | NaN | NaN | NaN | NaN | NaN | NaN | NaN | NaN | NaN | NaN | NaN |\n",
       "| 3 | fun1api             | EU    | 1 |     2 | 0.5000000 | 1 | 5.000000e-01 | 1 |   1 |   1.000000 |   0 |   0.000000 |        NaN |       NaN | 7 |  7 | 7.000000 |  0 | 0.000000 |       NaN |        NaN | 4.51 |   6.09 | 5.300000 |   1.58 | ⋯ | 1 | 0 | 0 | 0 | 10 | 10 | 0 | 0.25 | 0.25 | 0.25 | 0.95 | 0.95 | 0.25 | 0 | 0 | 0 | 10 | 10 | 0 | 0.25 | 0.25 | 0.25 | 0.95 | 0.95 | 0.25 |\n",
       "| 4 | funactive 24        | EU    | 1 |    22 | 0.2272727 | 1 | 4.545455e-02 | 1 |   3 |   2.090909 |   2 |   1.019294 | -0.1702685 | -2.058471 | 4 | 14 | 7.363636 | 10 | 2.498484 | 0.8100072 |  0.4123014 | 0.59 | 100.00 | 9.425000 |  99.41 | ⋯ | 1 | 0 | 0 | 0 | 2 | 2 | 2 | 0.45 | 0.35 | 0.49 | 0.57 | 0.59 | 0.63 | 0 | 0 | 0 | 2 | 2 | 2 | 0.45 | 0.35 | 0.49 | 0.57 | 0.59 | 0.63 |\n",
       "| 5 | funalibaba          | China | 1 | 18208 | 0.0118080 | 1 | 5.492091e-05 | 1 | 705 | 219.892025 | 704 | 156.107008 |  1.5055591 |  2.301106 | 3 | 38 | 6.956832 | 35 | 3.311960 | 2.9556282 | 13.5354533 | 0.00 | 100.00 | 6.320069 | 100.00 | ⋯ | 1 | 4.883721 | 5.302326 | 5.023256 | 5.813953 | 6 | 6.186047 | 0.8262791 | 0.8425581 | 0.8513953 | 0.8769767 | 0.877907 | 0.8793023 | 4.883721 | 5.302326 | 5.023256 | 5.813953 | 6 | 6.186047 | 0.8262791 | 0.8425581 | 0.8513953 | 0.8769767 | 0.877907 | 0.8793023 |\n",
       "| 6 | funalibaba sg       | China | 1 |    16 | 0.0625000 | 1 | 6.250000e-02 | 1 |   1 |   1.000000 |   0 |   0.000000 |        NaN |       NaN | 4 | 13 | 7.375000 |  9 | 2.604483 | 0.3561975 | -0.8500916 | 0.24 |  13.58 | 4.647500 |  13.34 | ⋯ | 1 | 0 | 0 | 10 | 0 | 0 | 10 | 0.05 | 0.05 | 0.95 | 0.85 | 0.55 | 0.95 | 0 | 0 | 10 | 0 | 0 | 10 | 0.05 | 0.05 | 0.95 | 0.85 | 0.55 | 0.95 |\n",
       "\n"
      ],
      "text/plain": [
       "  tld_registrar_index geo_maj geo_cnt n     ren_prp   tld_cnt tld_rat     \n",
       "1 fun1&1 internet     EU      1           2 1.0000000 1       5.000000e-01\n",
       "2 fun10dencehispahard EU      1           2 0.0000000 1       5.000000e-01\n",
       "3 fun1api             EU      1           2 0.5000000 1       5.000000e-01\n",
       "4 funactive 24        EU      1          22 0.2272727 1       4.545455e-02\n",
       "5 funalibaba          China   1       18208 0.0118080 1       5.492091e-05\n",
       "6 funalibaba sg       China   1          16 0.0625000 1       6.250000e-02\n",
       "  daydom_min daydom_max daydom_mean daydom_rng daydom_std daydom_skew\n",
       "1 1            1          1.000000    0          0.000000        NaN \n",
       "2 1            1          1.000000    0          0.000000        NaN \n",
       "3 1            1          1.000000    0          0.000000        NaN \n",
       "4 1            3          2.090909    2          1.019294 -0.1702685 \n",
       "5 1          705        219.892025  704        156.107008  1.5055591 \n",
       "6 1            1          1.000000    0          0.000000        NaN \n",
       "  daydom_kurt sldlen_min sldlen_max sldlen_mean sldlen_rng sldlen_std\n",
       "1       NaN   6           9         7.500000     3         2.121320  \n",
       "2       NaN   6           8         7.000000     2         1.414214  \n",
       "3       NaN   7           7         7.000000     0         0.000000  \n",
       "4 -2.058471   4          14         7.363636    10         2.498484  \n",
       "5  2.301106   3          38         6.956832    35         3.311960  \n",
       "6       NaN   4          13         7.375000     9         2.604483  \n",
       "  sldlen_skew sldlen_kurt gibbs_min gibbs_max gibbs_mean gibbs_rng ⋯ region_cnt\n",
       "1 0.0000000   -2.7500000  2.23        3.45    2.840000     1.22    ⋯ 1         \n",
       "2 0.0000000   -2.7500000  3.13        8.62    5.875000     5.49    ⋯ 1         \n",
       "3       NaN          NaN  4.51        6.09    5.300000     1.58    ⋯ 1         \n",
       "4 0.8100072    0.4123014  0.59      100.00    9.425000    99.41    ⋯ 1         \n",
       "5 2.9556282   13.5354533  0.00      100.00    6.320069   100.00    ⋯ 1         \n",
       "6 0.3561975   -0.8500916  0.24       13.58    4.647500    13.34    ⋯ 1         \n",
       "  l10_seg2_glm l10_seg_glm l10_agg_glm l10_seg2_rf l10_seg_rf l10_agg_rf\n",
       "1 5            5           5           5           5          5         \n",
       "2 NaN          NaN         NaN         NaN         NaN        NaN       \n",
       "3 0            0           0           10          10         0         \n",
       "4 0            0           0           2           2          2         \n",
       "5 4.883721     5.302326    5.023256    5.813953    6          6.186047  \n",
       "6 0            0           10          0           0          10        \n",
       "  auc_seg2_glm auc_seg_glm auc_agg_glm auc_seg2_rf auc_seg_rf auc_agg_rf\n",
       "1 0.6          0.6         0.6         0.6         0.6        0.6       \n",
       "2 NaN          NaN         NaN         NaN         NaN        NaN       \n",
       "3 0.25         0.25        0.25        0.95        0.95       0.25      \n",
       "4 0.45         0.35        0.49        0.57        0.59       0.63      \n",
       "5 0.8262791    0.8425581   0.8513953   0.8769767   0.877907   0.8793023 \n",
       "6 0.05         0.05        0.95        0.85        0.55       0.95      \n",
       "  l10_seg2_glm_fb l10_seg_glm_fb l10_agg_glm_fb l10_seg2_rf_fb l10_seg_rf_fb\n",
       "1 5               5              5              5              5            \n",
       "2 NaN             NaN            NaN            NaN            NaN          \n",
       "3 0               0              0              10             10           \n",
       "4 0               0              0              2              2            \n",
       "5 4.883721        5.302326       5.023256       5.813953       6            \n",
       "6 0               0              10             0              0            \n",
       "  l10_agg_rf_fb auc_seg2_glm_fb auc_seg_glm_fb auc_agg_glm_fb auc_seg2_rf_fb\n",
       "1 5             0.6             0.6            0.6            0.6           \n",
       "2 NaN           NaN             NaN            NaN            NaN           \n",
       "3 0             0.25            0.25           0.25           0.95          \n",
       "4 2             0.45            0.35           0.49           0.57          \n",
       "5 6.186047      0.8262791       0.8425581      0.8513953      0.8769767     \n",
       "6 10            0.05            0.05           0.95           0.85          \n",
       "  auc_seg_rf_fb auc_agg_rf_fb\n",
       "1 0.6           0.6          \n",
       "2 NaN           NaN          \n",
       "3 0.95          0.25         \n",
       "4 0.59          0.63         \n",
       "5 0.877907      0.8793023    \n",
       "6 0.55          0.95         "
      ]
     },
     "metadata": {},
     "output_type": "display_data"
    }
   ],
   "source": [
    "expiry_test_metametrics <- merge(expiry_test_meta, expiry_test_metrics, on = 'tld_registrar_index', all = TRUE)\n",
    "\n",
    "dim(expiry_test_metametrics)\n",
    "head(expiry_test_metametrics)"
   ]
  },
  {
   "cell_type": "markdown",
   "metadata": {},
   "source": [
    "# Metalearning w/ Fallback -- BINARY\n",
    "## seg2_glm_fb vs agg_rf_fb\n",
    "### Issue: for all tld-reg in test data, seg2_glm_fb outperforms agg_rf_fb even though agg_rf_fb outperforms overall"
   ]
  },
  {
   "cell_type": "code",
   "execution_count": 46,
   "metadata": {},
   "outputs": [],
   "source": [
    "# still need to investigate why 88 NA's for agg_rf sans fallback"
   ]
  },
  {
   "cell_type": "code",
   "execution_count": 80,
   "metadata": {},
   "outputs": [
    {
     "data": {
      "text/html": [
       "<table>\n",
       "<caption>A data.frame: 6 × 72</caption>\n",
       "<thead>\n",
       "\t<tr><th></th><th scope=col>tld_registrar_index</th><th scope=col>geo_maj</th><th scope=col>geo_cnt</th><th scope=col>n</th><th scope=col>ren_prp</th><th scope=col>tld_cnt</th><th scope=col>tld_rat</th><th scope=col>daydom_min</th><th scope=col>daydom_max</th><th scope=col>daydom_mean</th><th scope=col>daydom_rng</th><th scope=col>daydom_std</th><th scope=col>daydom_skew</th><th scope=col>daydom_kurt</th><th scope=col>sldlen_min</th><th scope=col>sldlen_max</th><th scope=col>sldlen_mean</th><th scope=col>sldlen_rng</th><th scope=col>sldlen_std</th><th scope=col>sldlen_skew</th><th scope=col>sldlen_kurt</th><th scope=col>gibbs_min</th><th scope=col>gibbs_max</th><th scope=col>gibbs_mean</th><th scope=col>gibbs_rng</th><th scope=col>⋯</th><th scope=col>l10_seg_glm</th><th scope=col>l10_agg_glm</th><th scope=col>l10_seg2_rf</th><th scope=col>l10_seg_rf</th><th scope=col>l10_agg_rf</th><th scope=col>auc_seg2_glm</th><th scope=col>auc_seg_glm</th><th scope=col>auc_agg_glm</th><th scope=col>auc_seg2_rf</th><th scope=col>auc_seg_rf</th><th scope=col>auc_agg_rf</th><th scope=col>l10_seg2_glm_fb</th><th scope=col>l10_seg_glm_fb</th><th scope=col>l10_agg_glm_fb</th><th scope=col>l10_seg2_rf_fb</th><th scope=col>l10_seg_rf_fb</th><th scope=col>l10_agg_rf_fb</th><th scope=col>auc_seg2_glm_fb</th><th scope=col>auc_seg_glm_fb</th><th scope=col>auc_agg_glm_fb</th><th scope=col>auc_seg2_rf_fb</th><th scope=col>auc_seg_rf_fb</th><th scope=col>auc_agg_rf_fb</th><th scope=col>auc_win_01</th><th scope=col>l10_win_01</th></tr>\n",
       "\t<tr><th></th><th scope=col>&lt;chr&gt;</th><th scope=col>&lt;fct&gt;</th><th scope=col>&lt;int&gt;</th><th scope=col>&lt;int&gt;</th><th scope=col>&lt;dbl&gt;</th><th scope=col>&lt;int&gt;</th><th scope=col>&lt;dbl&gt;</th><th scope=col>&lt;int&gt;</th><th scope=col>&lt;int&gt;</th><th scope=col>&lt;dbl&gt;</th><th scope=col>&lt;int&gt;</th><th scope=col>&lt;dbl&gt;</th><th scope=col>&lt;dbl&gt;</th><th scope=col>&lt;dbl&gt;</th><th scope=col>&lt;int&gt;</th><th scope=col>&lt;int&gt;</th><th scope=col>&lt;dbl&gt;</th><th scope=col>&lt;int&gt;</th><th scope=col>&lt;dbl&gt;</th><th scope=col>&lt;dbl&gt;</th><th scope=col>&lt;dbl&gt;</th><th scope=col>&lt;dbl&gt;</th><th scope=col>&lt;dbl&gt;</th><th scope=col>&lt;dbl&gt;</th><th scope=col>&lt;dbl&gt;</th><th scope=col>⋯</th><th scope=col>&lt;list&gt;</th><th scope=col>&lt;list&gt;</th><th scope=col>&lt;list&gt;</th><th scope=col>&lt;list&gt;</th><th scope=col>&lt;list&gt;</th><th scope=col>&lt;list&gt;</th><th scope=col>&lt;list&gt;</th><th scope=col>&lt;list&gt;</th><th scope=col>&lt;list&gt;</th><th scope=col>&lt;list&gt;</th><th scope=col>&lt;list&gt;</th><th scope=col>&lt;list&gt;</th><th scope=col>&lt;list&gt;</th><th scope=col>&lt;list&gt;</th><th scope=col>&lt;list&gt;</th><th scope=col>&lt;list&gt;</th><th scope=col>&lt;list&gt;</th><th scope=col>&lt;list&gt;</th><th scope=col>&lt;list&gt;</th><th scope=col>&lt;list&gt;</th><th scope=col>&lt;list&gt;</th><th scope=col>&lt;list&gt;</th><th scope=col>&lt;list&gt;</th><th scope=col>&lt;chr&gt;</th><th scope=col>&lt;chr&gt;</th></tr>\n",
       "</thead>\n",
       "<tbody>\n",
       "\t<tr><th scope=row>1</th><td><span style=white-space:pre-wrap>fun1&amp;1 internet    </span></td><td><span style=white-space:pre-wrap>EU   </span></td><td>1</td><td><span style=white-space:pre-wrap>    2</span></td><td>1.0000000</td><td>1</td><td>5.000000e-01</td><td>1</td><td><span style=white-space:pre-wrap>  1</span></td><td><span style=white-space:pre-wrap>  1.000000</span></td><td><span style=white-space:pre-wrap>  0</span></td><td><span style=white-space:pre-wrap>  0.000000</span></td><td><span style=white-space:pre-wrap>       NaN</span></td><td><span style=white-space:pre-wrap>      NaN</span></td><td>6</td><td> 9</td><td>7.500000</td><td> 3</td><td>2.121320</td><td>0.0000000</td><td>-2.7500000</td><td>2.23</td><td><span style=white-space:pre-wrap>  3.45</span></td><td>2.840000</td><td><span style=white-space:pre-wrap>  1.22</span></td><td>⋯</td><td>5</td><td>5</td><td>5</td><td>5</td><td>5</td><td>0.6</td><td>0.6</td><td>0.6</td><td>0.6</td><td>0.6</td><td>0.6</td><td>5</td><td>5</td><td>5</td><td>5</td><td>5</td><td>5</td><td>0.6</td><td>0.6</td><td>0.6</td><td>0.6</td><td>0.6</td><td>0.6</td><td>auc_seg2_glm_fb</td><td>l10_seg2_glm_fb</td></tr>\n",
       "\t<tr><th scope=row>2</th><td>fun10dencehispahard</td><td>EU   </td><td>1</td><td>    2</td><td>0.0000000</td><td>1</td><td>5.000000e-01</td><td>1</td><td>  1</td><td>  1.000000</td><td>  0</td><td>  0.000000</td><td>       NaN</td><td>      NaN</td><td>6</td><td> 8</td><td>7.000000</td><td> 2</td><td>1.414214</td><td>0.0000000</td><td>-2.7500000</td><td>3.13</td><td>  8.62</td><td>5.875000</td><td>  5.49</td><td>⋯</td><td>NaN</td><td>NaN</td><td>NaN</td><td>NaN</td><td>NaN</td><td>NaN</td><td>NaN</td><td>NaN</td><td>NaN</td><td>NaN</td><td>NaN</td><td>NaN</td><td>NaN</td><td>NaN</td><td>NaN</td><td>NaN</td><td>NaN</td><td>NaN</td><td>NaN</td><td>NaN</td><td>NaN</td><td>NaN</td><td>NaN</td><td>NA             </td><td>NA             </td></tr>\n",
       "\t<tr><th scope=row>3</th><td>fun1api            </td><td>EU   </td><td>1</td><td>    2</td><td>0.5000000</td><td>1</td><td>5.000000e-01</td><td>1</td><td>  1</td><td>  1.000000</td><td>  0</td><td>  0.000000</td><td>       NaN</td><td>      NaN</td><td>7</td><td> 7</td><td>7.000000</td><td> 0</td><td>0.000000</td><td>      NaN</td><td>       NaN</td><td>4.51</td><td>  6.09</td><td>5.300000</td><td>  1.58</td><td>⋯</td><td>0</td><td>0</td><td>10</td><td>10</td><td>0</td><td>0.25</td><td>0.25</td><td>0.25</td><td>0.95</td><td>0.95</td><td>0.25</td><td>0</td><td>0</td><td>0</td><td>10</td><td>10</td><td>0</td><td>0.25</td><td>0.25</td><td>0.25</td><td>0.95</td><td>0.95</td><td>0.25</td><td>auc_seg2_glm_fb</td><td>l10_seg2_glm_fb</td></tr>\n",
       "\t<tr><th scope=row>4</th><td>funactive 24       </td><td>EU   </td><td>1</td><td>   22</td><td>0.2272727</td><td>1</td><td>4.545455e-02</td><td>1</td><td>  3</td><td>  2.090909</td><td>  2</td><td>  1.019294</td><td>-0.1702685</td><td>-2.058471</td><td>4</td><td>14</td><td>7.363636</td><td>10</td><td>2.498484</td><td>0.8100072</td><td> 0.4123014</td><td>0.59</td><td>100.00</td><td>9.425000</td><td> 99.41</td><td>⋯</td><td>0</td><td>0</td><td>2</td><td>2</td><td>2</td><td>0.45</td><td>0.35</td><td>0.49</td><td>0.57</td><td>0.59</td><td>0.63</td><td>0</td><td>0</td><td>0</td><td>2</td><td>2</td><td>2</td><td>0.45</td><td>0.35</td><td>0.49</td><td>0.57</td><td>0.59</td><td>0.63</td><td>auc_agg_rf_fb  </td><td>l10_agg_rf_fb  </td></tr>\n",
       "\t<tr><th scope=row>5</th><td>funalibaba         </td><td>China</td><td>1</td><td>18208</td><td>0.0118080</td><td>1</td><td>5.492091e-05</td><td>1</td><td>705</td><td>219.892025</td><td>704</td><td>156.107008</td><td> 1.5055591</td><td> 2.301106</td><td>3</td><td>38</td><td>6.956832</td><td>35</td><td>3.311960</td><td>2.9556282</td><td>13.5354533</td><td>0.00</td><td>100.00</td><td>6.320069</td><td>100.00</td><td>⋯</td><td>5.302326</td><td>5.023256</td><td>5.813953</td><td>6</td><td>6.186047</td><td>0.8262791</td><td>0.8425581</td><td>0.8513953</td><td>0.8769767</td><td>0.877907</td><td>0.8793023</td><td>4.883721</td><td>5.302326</td><td>5.023256</td><td>5.813953</td><td>6</td><td>6.186047</td><td>0.8262791</td><td>0.8425581</td><td>0.8513953</td><td>0.8769767</td><td>0.877907</td><td>0.8793023</td><td>auc_agg_rf_fb  </td><td>l10_agg_rf_fb  </td></tr>\n",
       "\t<tr><th scope=row>6</th><td>funalibaba sg      </td><td>China</td><td>1</td><td>   16</td><td>0.0625000</td><td>1</td><td>6.250000e-02</td><td>1</td><td>  1</td><td>  1.000000</td><td>  0</td><td>  0.000000</td><td>       NaN</td><td>      NaN</td><td>4</td><td>13</td><td>7.375000</td><td> 9</td><td>2.604483</td><td>0.3561975</td><td>-0.8500916</td><td>0.24</td><td> 13.58</td><td>4.647500</td><td> 13.34</td><td>⋯</td><td>0</td><td>10</td><td>0</td><td>0</td><td>10</td><td>0.05</td><td>0.05</td><td>0.95</td><td>0.85</td><td>0.55</td><td>0.95</td><td>0</td><td>0</td><td>10</td><td>0</td><td>0</td><td>10</td><td>0.05</td><td>0.05</td><td>0.95</td><td>0.85</td><td>0.55</td><td>0.95</td><td>auc_agg_rf_fb  </td><td>l10_agg_rf_fb  </td></tr>\n",
       "</tbody>\n",
       "</table>\n"
      ],
      "text/latex": [
       "A data.frame: 6 × 72\n",
       "\\begin{tabular}{r|lllllllllllllllllllllllllllllllllllllllllllllllllll}\n",
       "  & tld\\_registrar\\_index & geo\\_maj & geo\\_cnt & n & ren\\_prp & tld\\_cnt & tld\\_rat & daydom\\_min & daydom\\_max & daydom\\_mean & daydom\\_rng & daydom\\_std & daydom\\_skew & daydom\\_kurt & sldlen\\_min & sldlen\\_max & sldlen\\_mean & sldlen\\_rng & sldlen\\_std & sldlen\\_skew & sldlen\\_kurt & gibbs\\_min & gibbs\\_max & gibbs\\_mean & gibbs\\_rng & ⋯ & l10\\_seg\\_glm & l10\\_agg\\_glm & l10\\_seg2\\_rf & l10\\_seg\\_rf & l10\\_agg\\_rf & auc\\_seg2\\_glm & auc\\_seg\\_glm & auc\\_agg\\_glm & auc\\_seg2\\_rf & auc\\_seg\\_rf & auc\\_agg\\_rf & l10\\_seg2\\_glm\\_fb & l10\\_seg\\_glm\\_fb & l10\\_agg\\_glm\\_fb & l10\\_seg2\\_rf\\_fb & l10\\_seg\\_rf\\_fb & l10\\_agg\\_rf\\_fb & auc\\_seg2\\_glm\\_fb & auc\\_seg\\_glm\\_fb & auc\\_agg\\_glm\\_fb & auc\\_seg2\\_rf\\_fb & auc\\_seg\\_rf\\_fb & auc\\_agg\\_rf\\_fb & auc\\_win\\_01 & l10\\_win\\_01\\\\\n",
       "  & <chr> & <fct> & <int> & <int> & <dbl> & <int> & <dbl> & <int> & <int> & <dbl> & <int> & <dbl> & <dbl> & <dbl> & <int> & <int> & <dbl> & <int> & <dbl> & <dbl> & <dbl> & <dbl> & <dbl> & <dbl> & <dbl> & ⋯ & <list> & <list> & <list> & <list> & <list> & <list> & <list> & <list> & <list> & <list> & <list> & <list> & <list> & <list> & <list> & <list> & <list> & <list> & <list> & <list> & <list> & <list> & <list> & <chr> & <chr>\\\\\n",
       "\\hline\n",
       "\t1 & fun1\\&1 internet     & EU    & 1 &     2 & 1.0000000 & 1 & 5.000000e-01 & 1 &   1 &   1.000000 &   0 &   0.000000 &        NaN &       NaN & 6 &  9 & 7.500000 &  3 & 2.121320 & 0.0000000 & -2.7500000 & 2.23 &   3.45 & 2.840000 &   1.22 & ⋯ & 5 & 5 & 5 & 5 & 5 & 0.6 & 0.6 & 0.6 & 0.6 & 0.6 & 0.6 & 5 & 5 & 5 & 5 & 5 & 5 & 0.6 & 0.6 & 0.6 & 0.6 & 0.6 & 0.6 & auc\\_seg2\\_glm\\_fb & l10\\_seg2\\_glm\\_fb\\\\\n",
       "\t2 & fun10dencehispahard & EU    & 1 &     2 & 0.0000000 & 1 & 5.000000e-01 & 1 &   1 &   1.000000 &   0 &   0.000000 &        NaN &       NaN & 6 &  8 & 7.000000 &  2 & 1.414214 & 0.0000000 & -2.7500000 & 3.13 &   8.62 & 5.875000 &   5.49 & ⋯ & NaN & NaN & NaN & NaN & NaN & NaN & NaN & NaN & NaN & NaN & NaN & NaN & NaN & NaN & NaN & NaN & NaN & NaN & NaN & NaN & NaN & NaN & NaN & NA              & NA             \\\\\n",
       "\t3 & fun1api             & EU    & 1 &     2 & 0.5000000 & 1 & 5.000000e-01 & 1 &   1 &   1.000000 &   0 &   0.000000 &        NaN &       NaN & 7 &  7 & 7.000000 &  0 & 0.000000 &       NaN &        NaN & 4.51 &   6.09 & 5.300000 &   1.58 & ⋯ & 0 & 0 & 10 & 10 & 0 & 0.25 & 0.25 & 0.25 & 0.95 & 0.95 & 0.25 & 0 & 0 & 0 & 10 & 10 & 0 & 0.25 & 0.25 & 0.25 & 0.95 & 0.95 & 0.25 & auc\\_seg2\\_glm\\_fb & l10\\_seg2\\_glm\\_fb\\\\\n",
       "\t4 & funactive 24        & EU    & 1 &    22 & 0.2272727 & 1 & 4.545455e-02 & 1 &   3 &   2.090909 &   2 &   1.019294 & -0.1702685 & -2.058471 & 4 & 14 & 7.363636 & 10 & 2.498484 & 0.8100072 &  0.4123014 & 0.59 & 100.00 & 9.425000 &  99.41 & ⋯ & 0 & 0 & 2 & 2 & 2 & 0.45 & 0.35 & 0.49 & 0.57 & 0.59 & 0.63 & 0 & 0 & 0 & 2 & 2 & 2 & 0.45 & 0.35 & 0.49 & 0.57 & 0.59 & 0.63 & auc\\_agg\\_rf\\_fb   & l10\\_agg\\_rf\\_fb  \\\\\n",
       "\t5 & funalibaba          & China & 1 & 18208 & 0.0118080 & 1 & 5.492091e-05 & 1 & 705 & 219.892025 & 704 & 156.107008 &  1.5055591 &  2.301106 & 3 & 38 & 6.956832 & 35 & 3.311960 & 2.9556282 & 13.5354533 & 0.00 & 100.00 & 6.320069 & 100.00 & ⋯ & 5.302326 & 5.023256 & 5.813953 & 6 & 6.186047 & 0.8262791 & 0.8425581 & 0.8513953 & 0.8769767 & 0.877907 & 0.8793023 & 4.883721 & 5.302326 & 5.023256 & 5.813953 & 6 & 6.186047 & 0.8262791 & 0.8425581 & 0.8513953 & 0.8769767 & 0.877907 & 0.8793023 & auc\\_agg\\_rf\\_fb   & l10\\_agg\\_rf\\_fb  \\\\\n",
       "\t6 & funalibaba sg       & China & 1 &    16 & 0.0625000 & 1 & 6.250000e-02 & 1 &   1 &   1.000000 &   0 &   0.000000 &        NaN &       NaN & 4 & 13 & 7.375000 &  9 & 2.604483 & 0.3561975 & -0.8500916 & 0.24 &  13.58 & 4.647500 &  13.34 & ⋯ & 0 & 10 & 0 & 0 & 10 & 0.05 & 0.05 & 0.95 & 0.85 & 0.55 & 0.95 & 0 & 0 & 10 & 0 & 0 & 10 & 0.05 & 0.05 & 0.95 & 0.85 & 0.55 & 0.95 & auc\\_agg\\_rf\\_fb   & l10\\_agg\\_rf\\_fb  \\\\\n",
       "\\end{tabular}\n"
      ],
      "text/markdown": [
       "\n",
       "A data.frame: 6 × 72\n",
       "\n",
       "| <!--/--> | tld_registrar_index &lt;chr&gt; | geo_maj &lt;fct&gt; | geo_cnt &lt;int&gt; | n &lt;int&gt; | ren_prp &lt;dbl&gt; | tld_cnt &lt;int&gt; | tld_rat &lt;dbl&gt; | daydom_min &lt;int&gt; | daydom_max &lt;int&gt; | daydom_mean &lt;dbl&gt; | daydom_rng &lt;int&gt; | daydom_std &lt;dbl&gt; | daydom_skew &lt;dbl&gt; | daydom_kurt &lt;dbl&gt; | sldlen_min &lt;int&gt; | sldlen_max &lt;int&gt; | sldlen_mean &lt;dbl&gt; | sldlen_rng &lt;int&gt; | sldlen_std &lt;dbl&gt; | sldlen_skew &lt;dbl&gt; | sldlen_kurt &lt;dbl&gt; | gibbs_min &lt;dbl&gt; | gibbs_max &lt;dbl&gt; | gibbs_mean &lt;dbl&gt; | gibbs_rng &lt;dbl&gt; | ⋯ ⋯ | l10_seg_glm &lt;list&gt; | l10_agg_glm &lt;list&gt; | l10_seg2_rf &lt;list&gt; | l10_seg_rf &lt;list&gt; | l10_agg_rf &lt;list&gt; | auc_seg2_glm &lt;list&gt; | auc_seg_glm &lt;list&gt; | auc_agg_glm &lt;list&gt; | auc_seg2_rf &lt;list&gt; | auc_seg_rf &lt;list&gt; | auc_agg_rf &lt;list&gt; | l10_seg2_glm_fb &lt;list&gt; | l10_seg_glm_fb &lt;list&gt; | l10_agg_glm_fb &lt;list&gt; | l10_seg2_rf_fb &lt;list&gt; | l10_seg_rf_fb &lt;list&gt; | l10_agg_rf_fb &lt;list&gt; | auc_seg2_glm_fb &lt;list&gt; | auc_seg_glm_fb &lt;list&gt; | auc_agg_glm_fb &lt;list&gt; | auc_seg2_rf_fb &lt;list&gt; | auc_seg_rf_fb &lt;list&gt; | auc_agg_rf_fb &lt;list&gt; | auc_win_01 &lt;chr&gt; | l10_win_01 &lt;chr&gt; |\n",
       "|---|---|---|---|---|---|---|---|---|---|---|---|---|---|---|---|---|---|---|---|---|---|---|---|---|---|---|---|---|---|---|---|---|---|---|---|---|---|---|---|---|---|---|---|---|---|---|---|---|---|---|---|\n",
       "| 1 | fun1&amp;1 internet     | EU    | 1 |     2 | 1.0000000 | 1 | 5.000000e-01 | 1 |   1 |   1.000000 |   0 |   0.000000 |        NaN |       NaN | 6 |  9 | 7.500000 |  3 | 2.121320 | 0.0000000 | -2.7500000 | 2.23 |   3.45 | 2.840000 |   1.22 | ⋯ | 5 | 5 | 5 | 5 | 5 | 0.6 | 0.6 | 0.6 | 0.6 | 0.6 | 0.6 | 5 | 5 | 5 | 5 | 5 | 5 | 0.6 | 0.6 | 0.6 | 0.6 | 0.6 | 0.6 | auc_seg2_glm_fb | l10_seg2_glm_fb |\n",
       "| 2 | fun10dencehispahard | EU    | 1 |     2 | 0.0000000 | 1 | 5.000000e-01 | 1 |   1 |   1.000000 |   0 |   0.000000 |        NaN |       NaN | 6 |  8 | 7.000000 |  2 | 1.414214 | 0.0000000 | -2.7500000 | 3.13 |   8.62 | 5.875000 |   5.49 | ⋯ | NaN | NaN | NaN | NaN | NaN | NaN | NaN | NaN | NaN | NaN | NaN | NaN | NaN | NaN | NaN | NaN | NaN | NaN | NaN | NaN | NaN | NaN | NaN | NA              | NA              |\n",
       "| 3 | fun1api             | EU    | 1 |     2 | 0.5000000 | 1 | 5.000000e-01 | 1 |   1 |   1.000000 |   0 |   0.000000 |        NaN |       NaN | 7 |  7 | 7.000000 |  0 | 0.000000 |       NaN |        NaN | 4.51 |   6.09 | 5.300000 |   1.58 | ⋯ | 0 | 0 | 10 | 10 | 0 | 0.25 | 0.25 | 0.25 | 0.95 | 0.95 | 0.25 | 0 | 0 | 0 | 10 | 10 | 0 | 0.25 | 0.25 | 0.25 | 0.95 | 0.95 | 0.25 | auc_seg2_glm_fb | l10_seg2_glm_fb |\n",
       "| 4 | funactive 24        | EU    | 1 |    22 | 0.2272727 | 1 | 4.545455e-02 | 1 |   3 |   2.090909 |   2 |   1.019294 | -0.1702685 | -2.058471 | 4 | 14 | 7.363636 | 10 | 2.498484 | 0.8100072 |  0.4123014 | 0.59 | 100.00 | 9.425000 |  99.41 | ⋯ | 0 | 0 | 2 | 2 | 2 | 0.45 | 0.35 | 0.49 | 0.57 | 0.59 | 0.63 | 0 | 0 | 0 | 2 | 2 | 2 | 0.45 | 0.35 | 0.49 | 0.57 | 0.59 | 0.63 | auc_agg_rf_fb   | l10_agg_rf_fb   |\n",
       "| 5 | funalibaba          | China | 1 | 18208 | 0.0118080 | 1 | 5.492091e-05 | 1 | 705 | 219.892025 | 704 | 156.107008 |  1.5055591 |  2.301106 | 3 | 38 | 6.956832 | 35 | 3.311960 | 2.9556282 | 13.5354533 | 0.00 | 100.00 | 6.320069 | 100.00 | ⋯ | 5.302326 | 5.023256 | 5.813953 | 6 | 6.186047 | 0.8262791 | 0.8425581 | 0.8513953 | 0.8769767 | 0.877907 | 0.8793023 | 4.883721 | 5.302326 | 5.023256 | 5.813953 | 6 | 6.186047 | 0.8262791 | 0.8425581 | 0.8513953 | 0.8769767 | 0.877907 | 0.8793023 | auc_agg_rf_fb   | l10_agg_rf_fb   |\n",
       "| 6 | funalibaba sg       | China | 1 |    16 | 0.0625000 | 1 | 6.250000e-02 | 1 |   1 |   1.000000 |   0 |   0.000000 |        NaN |       NaN | 4 | 13 | 7.375000 |  9 | 2.604483 | 0.3561975 | -0.8500916 | 0.24 |  13.58 | 4.647500 |  13.34 | ⋯ | 0 | 10 | 0 | 0 | 10 | 0.05 | 0.05 | 0.95 | 0.85 | 0.55 | 0.95 | 0 | 0 | 10 | 0 | 0 | 10 | 0.05 | 0.05 | 0.95 | 0.85 | 0.55 | 0.95 | auc_agg_rf_fb   | l10_agg_rf_fb   |\n",
       "\n"
      ],
      "text/plain": [
       "  tld_registrar_index geo_maj geo_cnt n     ren_prp   tld_cnt tld_rat     \n",
       "1 fun1&1 internet     EU      1           2 1.0000000 1       5.000000e-01\n",
       "2 fun10dencehispahard EU      1           2 0.0000000 1       5.000000e-01\n",
       "3 fun1api             EU      1           2 0.5000000 1       5.000000e-01\n",
       "4 funactive 24        EU      1          22 0.2272727 1       4.545455e-02\n",
       "5 funalibaba          China   1       18208 0.0118080 1       5.492091e-05\n",
       "6 funalibaba sg       China   1          16 0.0625000 1       6.250000e-02\n",
       "  daydom_min daydom_max daydom_mean daydom_rng daydom_std daydom_skew\n",
       "1 1            1          1.000000    0          0.000000        NaN \n",
       "2 1            1          1.000000    0          0.000000        NaN \n",
       "3 1            1          1.000000    0          0.000000        NaN \n",
       "4 1            3          2.090909    2          1.019294 -0.1702685 \n",
       "5 1          705        219.892025  704        156.107008  1.5055591 \n",
       "6 1            1          1.000000    0          0.000000        NaN \n",
       "  daydom_kurt sldlen_min sldlen_max sldlen_mean sldlen_rng sldlen_std\n",
       "1       NaN   6           9         7.500000     3         2.121320  \n",
       "2       NaN   6           8         7.000000     2         1.414214  \n",
       "3       NaN   7           7         7.000000     0         0.000000  \n",
       "4 -2.058471   4          14         7.363636    10         2.498484  \n",
       "5  2.301106   3          38         6.956832    35         3.311960  \n",
       "6       NaN   4          13         7.375000     9         2.604483  \n",
       "  sldlen_skew sldlen_kurt gibbs_min gibbs_max gibbs_mean gibbs_rng ⋯\n",
       "1 0.0000000   -2.7500000  2.23        3.45    2.840000     1.22    ⋯\n",
       "2 0.0000000   -2.7500000  3.13        8.62    5.875000     5.49    ⋯\n",
       "3       NaN          NaN  4.51        6.09    5.300000     1.58    ⋯\n",
       "4 0.8100072    0.4123014  0.59      100.00    9.425000    99.41    ⋯\n",
       "5 2.9556282   13.5354533  0.00      100.00    6.320069   100.00    ⋯\n",
       "6 0.3561975   -0.8500916  0.24       13.58    4.647500    13.34    ⋯\n",
       "  l10_seg_glm l10_agg_glm l10_seg2_rf l10_seg_rf l10_agg_rf auc_seg2_glm\n",
       "1 5           5           5           5          5          0.6         \n",
       "2 NaN         NaN         NaN         NaN        NaN        NaN         \n",
       "3 0           0           10          10         0          0.25        \n",
       "4 0           0           2           2          2          0.45        \n",
       "5 5.302326    5.023256    5.813953    6          6.186047   0.8262791   \n",
       "6 0           10          0           0          10         0.05        \n",
       "  auc_seg_glm auc_agg_glm auc_seg2_rf auc_seg_rf auc_agg_rf l10_seg2_glm_fb\n",
       "1 0.6         0.6         0.6         0.6        0.6        5              \n",
       "2 NaN         NaN         NaN         NaN        NaN        NaN            \n",
       "3 0.25        0.25        0.95        0.95       0.25       0              \n",
       "4 0.35        0.49        0.57        0.59       0.63       0              \n",
       "5 0.8425581   0.8513953   0.8769767   0.877907   0.8793023  4.883721       \n",
       "6 0.05        0.95        0.85        0.55       0.95       0              \n",
       "  l10_seg_glm_fb l10_agg_glm_fb l10_seg2_rf_fb l10_seg_rf_fb l10_agg_rf_fb\n",
       "1 5              5              5              5             5            \n",
       "2 NaN            NaN            NaN            NaN           NaN          \n",
       "3 0              0              10             10            0            \n",
       "4 0              0              2              2             2            \n",
       "5 5.302326       5.023256       5.813953       6             6.186047     \n",
       "6 0              10             0              0             10           \n",
       "  auc_seg2_glm_fb auc_seg_glm_fb auc_agg_glm_fb auc_seg2_rf_fb auc_seg_rf_fb\n",
       "1 0.6             0.6            0.6            0.6            0.6          \n",
       "2 NaN             NaN            NaN            NaN            NaN          \n",
       "3 0.25            0.25           0.25           0.95           0.95         \n",
       "4 0.45            0.35           0.49           0.57           0.59         \n",
       "5 0.8262791       0.8425581      0.8513953      0.8769767      0.877907     \n",
       "6 0.05            0.05           0.95           0.85           0.55         \n",
       "  auc_agg_rf_fb auc_win_01      l10_win_01     \n",
       "1 0.6           auc_seg2_glm_fb l10_seg2_glm_fb\n",
       "2 NaN           NA              NA             \n",
       "3 0.25          auc_seg2_glm_fb l10_seg2_glm_fb\n",
       "4 0.63          auc_agg_rf_fb   l10_agg_rf_fb  \n",
       "5 0.8793023     auc_agg_rf_fb   l10_agg_rf_fb  \n",
       "6 0.95          auc_agg_rf_fb   l10_agg_rf_fb  "
      ]
     },
     "metadata": {},
     "output_type": "display_data"
    }
   ],
   "source": [
    "# (auc_vars = grep('auc', names(metrics_df), value=TRUE))\n",
    "# (l10_vars = grep('l10', names(metrics_df), value=TRUE))\n",
    "\n",
    "auc_vars = c('auc_seg2_glm_fb','auc_agg_rf_fb')\n",
    "l10_vars = c('l10_seg2_glm_fb','l10_agg_rf_fb')\n",
    "\n",
    "expiry_test_metametrics <- expiry_test_metametrics %>%\n",
    "    mutate (auc_win_01=sapply(apply(.[,c(auc_vars)], \n",
    "                          1, function(x) names(x)[which.max(x)]) , function(s) if (length(s) == 0) NA else paste(s, collapse = \" \")) ,\n",
    "            l10_win_01=sapply(apply(.[,c(l10_vars)], \n",
    "                          1, function(x) names(x)[which.max(x)]), function(s) if (length(s) == 0) NA else paste(s, collapse = \" \")) \n",
    "            ) \n",
    "                              \n",
    "head(expiry_test_metametrics)"
   ]
  },
  {
   "cell_type": "code",
   "execution_count": 81,
   "metadata": {},
   "outputs": [
    {
     "data": {
      "text/plain": [
       "\n",
       "  auc_agg_rf_fb auc_seg2_glm_fb \n",
       "            406             692 "
      ]
     },
     "metadata": {},
     "output_type": "display_data"
    },
    {
     "data": {
      "text/plain": [
       "\n",
       "  l10_agg_rf_fb l10_seg2_glm_fb \n",
       "            236             862 "
      ]
     },
     "metadata": {},
     "output_type": "display_data"
    }
   ],
   "source": [
    "table(expiry_test_metametrics$auc_win_01)\n",
    "table(expiry_test_metametrics$l10_win_01)"
   ]
  },
  {
   "cell_type": "markdown",
   "metadata": {},
   "source": [
    "# Metalearning w/ Fallback -- MULTICLASS\n",
    "## s\n",
    "### Issue: for all tld-reg in test data, seg2_glm_fb outperforms agg_rf_fb even though agg_rf_fb outperforms overall"
   ]
  },
  {
   "cell_type": "code",
   "execution_count": 83,
   "metadata": {},
   "outputs": [
    {
     "data": {
      "text/html": [
       "<style>\n",
       ".list-inline {list-style: none; margin:0; padding: 0}\n",
       ".list-inline>li {display: inline-block}\n",
       ".list-inline>li:not(:last-child)::after {content: \"\\00b7\"; padding: 0 .5ex}\n",
       "</style>\n",
       "<ol class=list-inline><li>'auc_seg2_glm'</li><li>'auc_seg_glm'</li><li>'auc_agg_glm'</li><li>'auc_seg2_rf'</li><li>'auc_seg_rf'</li><li>'auc_agg_rf'</li><li>'auc_seg2_glm_fb'</li><li>'auc_seg_glm_fb'</li><li>'auc_agg_glm_fb'</li><li>'auc_seg2_rf_fb'</li><li>'auc_seg_rf_fb'</li><li>'auc_agg_rf_fb'</li><li>'auc_win_01'</li></ol>\n"
      ],
      "text/latex": [
       "\\begin{enumerate*}\n",
       "\\item 'auc\\_seg2\\_glm'\n",
       "\\item 'auc\\_seg\\_glm'\n",
       "\\item 'auc\\_agg\\_glm'\n",
       "\\item 'auc\\_seg2\\_rf'\n",
       "\\item 'auc\\_seg\\_rf'\n",
       "\\item 'auc\\_agg\\_rf'\n",
       "\\item 'auc\\_seg2\\_glm\\_fb'\n",
       "\\item 'auc\\_seg\\_glm\\_fb'\n",
       "\\item 'auc\\_agg\\_glm\\_fb'\n",
       "\\item 'auc\\_seg2\\_rf\\_fb'\n",
       "\\item 'auc\\_seg\\_rf\\_fb'\n",
       "\\item 'auc\\_agg\\_rf\\_fb'\n",
       "\\item 'auc\\_win\\_01'\n",
       "\\end{enumerate*}\n"
      ],
      "text/markdown": [
       "1. 'auc_seg2_glm'\n",
       "2. 'auc_seg_glm'\n",
       "3. 'auc_agg_glm'\n",
       "4. 'auc_seg2_rf'\n",
       "5. 'auc_seg_rf'\n",
       "6. 'auc_agg_rf'\n",
       "7. 'auc_seg2_glm_fb'\n",
       "8. 'auc_seg_glm_fb'\n",
       "9. 'auc_agg_glm_fb'\n",
       "10. 'auc_seg2_rf_fb'\n",
       "11. 'auc_seg_rf_fb'\n",
       "12. 'auc_agg_rf_fb'\n",
       "13. 'auc_win_01'\n",
       "\n",
       "\n"
      ],
      "text/plain": [
       " [1] \"auc_seg2_glm\"    \"auc_seg_glm\"     \"auc_agg_glm\"     \"auc_seg2_rf\"    \n",
       " [5] \"auc_seg_rf\"      \"auc_agg_rf\"      \"auc_seg2_glm_fb\" \"auc_seg_glm_fb\" \n",
       " [9] \"auc_agg_glm_fb\"  \"auc_seg2_rf_fb\"  \"auc_seg_rf_fb\"   \"auc_agg_rf_fb\"  \n",
       "[13] \"auc_win_01\"     "
      ]
     },
     "metadata": {},
     "output_type": "display_data"
    },
    {
     "data": {
      "text/html": [
       "<style>\n",
       ".list-inline {list-style: none; margin:0; padding: 0}\n",
       ".list-inline>li {display: inline-block}\n",
       ".list-inline>li:not(:last-child)::after {content: \"\\00b7\"; padding: 0 .5ex}\n",
       "</style>\n",
       "<ol class=list-inline><li>'l10_seg2_glm'</li><li>'l10_seg_glm'</li><li>'l10_agg_glm'</li><li>'l10_seg2_rf'</li><li>'l10_seg_rf'</li><li>'l10_agg_rf'</li><li>'l10_seg2_glm_fb'</li><li>'l10_seg_glm_fb'</li><li>'l10_agg_glm_fb'</li><li>'l10_seg2_rf_fb'</li><li>'l10_seg_rf_fb'</li><li>'l10_agg_rf_fb'</li><li>'l10_win_01'</li></ol>\n"
      ],
      "text/latex": [
       "\\begin{enumerate*}\n",
       "\\item 'l10\\_seg2\\_glm'\n",
       "\\item 'l10\\_seg\\_glm'\n",
       "\\item 'l10\\_agg\\_glm'\n",
       "\\item 'l10\\_seg2\\_rf'\n",
       "\\item 'l10\\_seg\\_rf'\n",
       "\\item 'l10\\_agg\\_rf'\n",
       "\\item 'l10\\_seg2\\_glm\\_fb'\n",
       "\\item 'l10\\_seg\\_glm\\_fb'\n",
       "\\item 'l10\\_agg\\_glm\\_fb'\n",
       "\\item 'l10\\_seg2\\_rf\\_fb'\n",
       "\\item 'l10\\_seg\\_rf\\_fb'\n",
       "\\item 'l10\\_agg\\_rf\\_fb'\n",
       "\\item 'l10\\_win\\_01'\n",
       "\\end{enumerate*}\n"
      ],
      "text/markdown": [
       "1. 'l10_seg2_glm'\n",
       "2. 'l10_seg_glm'\n",
       "3. 'l10_agg_glm'\n",
       "4. 'l10_seg2_rf'\n",
       "5. 'l10_seg_rf'\n",
       "6. 'l10_agg_rf'\n",
       "7. 'l10_seg2_glm_fb'\n",
       "8. 'l10_seg_glm_fb'\n",
       "9. 'l10_agg_glm_fb'\n",
       "10. 'l10_seg2_rf_fb'\n",
       "11. 'l10_seg_rf_fb'\n",
       "12. 'l10_agg_rf_fb'\n",
       "13. 'l10_win_01'\n",
       "\n",
       "\n"
      ],
      "text/plain": [
       " [1] \"l10_seg2_glm\"    \"l10_seg_glm\"     \"l10_agg_glm\"     \"l10_seg2_rf\"    \n",
       " [5] \"l10_seg_rf\"      \"l10_agg_rf\"      \"l10_seg2_glm_fb\" \"l10_seg_glm_fb\" \n",
       " [9] \"l10_agg_glm_fb\"  \"l10_seg2_rf_fb\"  \"l10_seg_rf_fb\"   \"l10_agg_rf_fb\"  \n",
       "[13] \"l10_win_01\"     "
      ]
     },
     "metadata": {},
     "output_type": "display_data"
    },
    {
     "data": {
      "text/html": [
       "<style>\n",
       ".list-inline {list-style: none; margin:0; padding: 0}\n",
       ".list-inline>li {display: inline-block}\n",
       ".list-inline>li:not(:last-child)::after {content: \"\\00b7\"; padding: 0 .5ex}\n",
       "</style>\n",
       "<ol class=list-inline><li>'auc_seg2_glm'</li><li>'auc_seg_glm'</li><li>'auc_agg_glm'</li><li>'auc_seg2_rf'</li><li>'auc_seg_rf'</li><li>'auc_agg_rf'</li><li>'auc_seg2_glm_fb'</li><li>'auc_seg_glm_fb'</li><li>'auc_agg_glm_fb'</li><li>'auc_seg2_rf_fb'</li><li>'auc_seg_rf_fb'</li><li>'auc_agg_rf_fb'</li></ol>\n"
      ],
      "text/latex": [
       "\\begin{enumerate*}\n",
       "\\item 'auc\\_seg2\\_glm'\n",
       "\\item 'auc\\_seg\\_glm'\n",
       "\\item 'auc\\_agg\\_glm'\n",
       "\\item 'auc\\_seg2\\_rf'\n",
       "\\item 'auc\\_seg\\_rf'\n",
       "\\item 'auc\\_agg\\_rf'\n",
       "\\item 'auc\\_seg2\\_glm\\_fb'\n",
       "\\item 'auc\\_seg\\_glm\\_fb'\n",
       "\\item 'auc\\_agg\\_glm\\_fb'\n",
       "\\item 'auc\\_seg2\\_rf\\_fb'\n",
       "\\item 'auc\\_seg\\_rf\\_fb'\n",
       "\\item 'auc\\_agg\\_rf\\_fb'\n",
       "\\end{enumerate*}\n"
      ],
      "text/markdown": [
       "1. 'auc_seg2_glm'\n",
       "2. 'auc_seg_glm'\n",
       "3. 'auc_agg_glm'\n",
       "4. 'auc_seg2_rf'\n",
       "5. 'auc_seg_rf'\n",
       "6. 'auc_agg_rf'\n",
       "7. 'auc_seg2_glm_fb'\n",
       "8. 'auc_seg_glm_fb'\n",
       "9. 'auc_agg_glm_fb'\n",
       "10. 'auc_seg2_rf_fb'\n",
       "11. 'auc_seg_rf_fb'\n",
       "12. 'auc_agg_rf_fb'\n",
       "\n",
       "\n"
      ],
      "text/plain": [
       " [1] \"auc_seg2_glm\"    \"auc_seg_glm\"     \"auc_agg_glm\"     \"auc_seg2_rf\"    \n",
       " [5] \"auc_seg_rf\"      \"auc_agg_rf\"      \"auc_seg2_glm_fb\" \"auc_seg_glm_fb\" \n",
       " [9] \"auc_agg_glm_fb\"  \"auc_seg2_rf_fb\"  \"auc_seg_rf_fb\"   \"auc_agg_rf_fb\"  "
      ]
     },
     "metadata": {},
     "output_type": "display_data"
    },
    {
     "data": {
      "text/html": [
       "<style>\n",
       ".list-inline {list-style: none; margin:0; padding: 0}\n",
       ".list-inline>li {display: inline-block}\n",
       ".list-inline>li:not(:last-child)::after {content: \"\\00b7\"; padding: 0 .5ex}\n",
       "</style>\n",
       "<ol class=list-inline><li>'l10_seg2_glm'</li><li>'l10_seg_glm'</li><li>'l10_agg_glm'</li><li>'l10_seg2_rf'</li><li>'l10_seg_rf'</li><li>'l10_agg_rf'</li><li>'l10_seg2_glm_fb'</li><li>'l10_seg_glm_fb'</li><li>'l10_agg_glm_fb'</li><li>'l10_seg2_rf_fb'</li><li>'l10_seg_rf_fb'</li><li>'l10_agg_rf_fb'</li></ol>\n"
      ],
      "text/latex": [
       "\\begin{enumerate*}\n",
       "\\item 'l10\\_seg2\\_glm'\n",
       "\\item 'l10\\_seg\\_glm'\n",
       "\\item 'l10\\_agg\\_glm'\n",
       "\\item 'l10\\_seg2\\_rf'\n",
       "\\item 'l10\\_seg\\_rf'\n",
       "\\item 'l10\\_agg\\_rf'\n",
       "\\item 'l10\\_seg2\\_glm\\_fb'\n",
       "\\item 'l10\\_seg\\_glm\\_fb'\n",
       "\\item 'l10\\_agg\\_glm\\_fb'\n",
       "\\item 'l10\\_seg2\\_rf\\_fb'\n",
       "\\item 'l10\\_seg\\_rf\\_fb'\n",
       "\\item 'l10\\_agg\\_rf\\_fb'\n",
       "\\end{enumerate*}\n"
      ],
      "text/markdown": [
       "1. 'l10_seg2_glm'\n",
       "2. 'l10_seg_glm'\n",
       "3. 'l10_agg_glm'\n",
       "4. 'l10_seg2_rf'\n",
       "5. 'l10_seg_rf'\n",
       "6. 'l10_agg_rf'\n",
       "7. 'l10_seg2_glm_fb'\n",
       "8. 'l10_seg_glm_fb'\n",
       "9. 'l10_agg_glm_fb'\n",
       "10. 'l10_seg2_rf_fb'\n",
       "11. 'l10_seg_rf_fb'\n",
       "12. 'l10_agg_rf_fb'\n",
       "\n",
       "\n"
      ],
      "text/plain": [
       " [1] \"l10_seg2_glm\"    \"l10_seg_glm\"     \"l10_agg_glm\"     \"l10_seg2_rf\"    \n",
       " [5] \"l10_seg_rf\"      \"l10_agg_rf\"      \"l10_seg2_glm_fb\" \"l10_seg_glm_fb\" \n",
       " [9] \"l10_agg_glm_fb\"  \"l10_seg2_rf_fb\"  \"l10_seg_rf_fb\"   \"l10_agg_rf_fb\"  "
      ]
     },
     "metadata": {},
     "output_type": "display_data"
    },
    {
     "data": {
      "text/html": [
       "<table>\n",
       "<caption>A data.frame: 6 × 74</caption>\n",
       "<thead>\n",
       "\t<tr><th></th><th scope=col>tld_registrar_index</th><th scope=col>geo_maj</th><th scope=col>geo_cnt</th><th scope=col>n</th><th scope=col>ren_prp</th><th scope=col>tld_cnt</th><th scope=col>tld_rat</th><th scope=col>daydom_min</th><th scope=col>daydom_max</th><th scope=col>daydom_mean</th><th scope=col>daydom_rng</th><th scope=col>daydom_std</th><th scope=col>daydom_skew</th><th scope=col>daydom_kurt</th><th scope=col>sldlen_min</th><th scope=col>sldlen_max</th><th scope=col>sldlen_mean</th><th scope=col>sldlen_rng</th><th scope=col>sldlen_std</th><th scope=col>sldlen_skew</th><th scope=col>sldlen_kurt</th><th scope=col>gibbs_min</th><th scope=col>gibbs_max</th><th scope=col>gibbs_mean</th><th scope=col>gibbs_rng</th><th scope=col>⋯</th><th scope=col>l10_seg2_rf</th><th scope=col>l10_seg_rf</th><th scope=col>l10_agg_rf</th><th scope=col>auc_seg2_glm</th><th scope=col>auc_seg_glm</th><th scope=col>auc_agg_glm</th><th scope=col>auc_seg2_rf</th><th scope=col>auc_seg_rf</th><th scope=col>auc_agg_rf</th><th scope=col>l10_seg2_glm_fb</th><th scope=col>l10_seg_glm_fb</th><th scope=col>l10_agg_glm_fb</th><th scope=col>l10_seg2_rf_fb</th><th scope=col>l10_seg_rf_fb</th><th scope=col>l10_agg_rf_fb</th><th scope=col>auc_seg2_glm_fb</th><th scope=col>auc_seg_glm_fb</th><th scope=col>auc_agg_glm_fb</th><th scope=col>auc_seg2_rf_fb</th><th scope=col>auc_seg_rf_fb</th><th scope=col>auc_agg_rf_fb</th><th scope=col>auc_win_01</th><th scope=col>l10_win_01</th><th scope=col>auc_win_02</th><th scope=col>l10_win_02</th></tr>\n",
       "\t<tr><th></th><th scope=col>&lt;chr&gt;</th><th scope=col>&lt;fct&gt;</th><th scope=col>&lt;int&gt;</th><th scope=col>&lt;int&gt;</th><th scope=col>&lt;dbl&gt;</th><th scope=col>&lt;int&gt;</th><th scope=col>&lt;dbl&gt;</th><th scope=col>&lt;int&gt;</th><th scope=col>&lt;int&gt;</th><th scope=col>&lt;dbl&gt;</th><th scope=col>&lt;int&gt;</th><th scope=col>&lt;dbl&gt;</th><th scope=col>&lt;dbl&gt;</th><th scope=col>&lt;dbl&gt;</th><th scope=col>&lt;int&gt;</th><th scope=col>&lt;int&gt;</th><th scope=col>&lt;dbl&gt;</th><th scope=col>&lt;int&gt;</th><th scope=col>&lt;dbl&gt;</th><th scope=col>&lt;dbl&gt;</th><th scope=col>&lt;dbl&gt;</th><th scope=col>&lt;dbl&gt;</th><th scope=col>&lt;dbl&gt;</th><th scope=col>&lt;dbl&gt;</th><th scope=col>&lt;dbl&gt;</th><th scope=col>⋯</th><th scope=col>&lt;list&gt;</th><th scope=col>&lt;list&gt;</th><th scope=col>&lt;list&gt;</th><th scope=col>&lt;list&gt;</th><th scope=col>&lt;list&gt;</th><th scope=col>&lt;list&gt;</th><th scope=col>&lt;list&gt;</th><th scope=col>&lt;list&gt;</th><th scope=col>&lt;list&gt;</th><th scope=col>&lt;list&gt;</th><th scope=col>&lt;list&gt;</th><th scope=col>&lt;list&gt;</th><th scope=col>&lt;list&gt;</th><th scope=col>&lt;list&gt;</th><th scope=col>&lt;list&gt;</th><th scope=col>&lt;list&gt;</th><th scope=col>&lt;list&gt;</th><th scope=col>&lt;list&gt;</th><th scope=col>&lt;list&gt;</th><th scope=col>&lt;list&gt;</th><th scope=col>&lt;list&gt;</th><th scope=col>&lt;chr&gt;</th><th scope=col>&lt;chr&gt;</th><th scope=col>&lt;chr&gt;</th><th scope=col>&lt;chr&gt;</th></tr>\n",
       "</thead>\n",
       "<tbody>\n",
       "\t<tr><th scope=row>1</th><td><span style=white-space:pre-wrap>fun1&amp;1 internet    </span></td><td><span style=white-space:pre-wrap>EU   </span></td><td>1</td><td><span style=white-space:pre-wrap>    2</span></td><td>1.0000000</td><td>1</td><td>5.000000e-01</td><td>1</td><td><span style=white-space:pre-wrap>  1</span></td><td><span style=white-space:pre-wrap>  1.000000</span></td><td><span style=white-space:pre-wrap>  0</span></td><td><span style=white-space:pre-wrap>  0.000000</span></td><td><span style=white-space:pre-wrap>       NaN</span></td><td><span style=white-space:pre-wrap>      NaN</span></td><td>6</td><td> 9</td><td>7.500000</td><td> 3</td><td>2.121320</td><td>0.0000000</td><td>-2.7500000</td><td>2.23</td><td><span style=white-space:pre-wrap>  3.45</span></td><td>2.840000</td><td><span style=white-space:pre-wrap>  1.22</span></td><td>⋯</td><td>5</td><td>5</td><td>5</td><td>0.6</td><td>0.6</td><td>0.6</td><td>0.6</td><td>0.6</td><td>0.6</td><td>5</td><td>5</td><td>5</td><td>5</td><td>5</td><td>5</td><td>0.6</td><td>0.6</td><td>0.6</td><td>0.6</td><td>0.6</td><td>0.6</td><td>auc_seg2_glm_fb</td><td>l10_seg2_glm_fb</td><td>auc_seg2_glm</td><td>l10_seg2_glm</td></tr>\n",
       "\t<tr><th scope=row>2</th><td>fun10dencehispahard</td><td>EU   </td><td>1</td><td>    2</td><td>0.0000000</td><td>1</td><td>5.000000e-01</td><td>1</td><td>  1</td><td>  1.000000</td><td>  0</td><td>  0.000000</td><td>       NaN</td><td>      NaN</td><td>6</td><td> 8</td><td>7.000000</td><td> 2</td><td>1.414214</td><td>0.0000000</td><td>-2.7500000</td><td>3.13</td><td>  8.62</td><td>5.875000</td><td>  5.49</td><td>⋯</td><td>NaN</td><td>NaN</td><td>NaN</td><td>NaN</td><td>NaN</td><td>NaN</td><td>NaN</td><td>NaN</td><td>NaN</td><td>NaN</td><td>NaN</td><td>NaN</td><td>NaN</td><td>NaN</td><td>NaN</td><td>NaN</td><td>NaN</td><td>NaN</td><td>NaN</td><td>NaN</td><td>NaN</td><td>NA             </td><td>NA             </td><td>NA          </td><td>NA          </td></tr>\n",
       "\t<tr><th scope=row>3</th><td>fun1api            </td><td>EU   </td><td>1</td><td>    2</td><td>0.5000000</td><td>1</td><td>5.000000e-01</td><td>1</td><td>  1</td><td>  1.000000</td><td>  0</td><td>  0.000000</td><td>       NaN</td><td>      NaN</td><td>7</td><td> 7</td><td>7.000000</td><td> 0</td><td>0.000000</td><td>      NaN</td><td>       NaN</td><td>4.51</td><td>  6.09</td><td>5.300000</td><td>  1.58</td><td>⋯</td><td>10</td><td>10</td><td>0</td><td>0.25</td><td>0.25</td><td>0.25</td><td>0.95</td><td>0.95</td><td>0.25</td><td>0</td><td>0</td><td>0</td><td>10</td><td>10</td><td>0</td><td>0.25</td><td>0.25</td><td>0.25</td><td>0.95</td><td>0.95</td><td>0.25</td><td>auc_seg2_glm_fb</td><td>l10_seg2_glm_fb</td><td>auc_seg2_rf </td><td>l10_seg2_rf </td></tr>\n",
       "\t<tr><th scope=row>4</th><td>funactive 24       </td><td>EU   </td><td>1</td><td>   22</td><td>0.2272727</td><td>1</td><td>4.545455e-02</td><td>1</td><td>  3</td><td>  2.090909</td><td>  2</td><td>  1.019294</td><td>-0.1702685</td><td>-2.058471</td><td>4</td><td>14</td><td>7.363636</td><td>10</td><td>2.498484</td><td>0.8100072</td><td> 0.4123014</td><td>0.59</td><td>100.00</td><td>9.425000</td><td> 99.41</td><td>⋯</td><td>2</td><td>2</td><td>2</td><td>0.45</td><td>0.35</td><td>0.49</td><td>0.57</td><td>0.59</td><td>0.63</td><td>0</td><td>0</td><td>0</td><td>2</td><td>2</td><td>2</td><td>0.45</td><td>0.35</td><td>0.49</td><td>0.57</td><td>0.59</td><td>0.63</td><td>auc_agg_rf_fb  </td><td>l10_agg_rf_fb  </td><td>auc_agg_rf  </td><td>l10_seg2_rf </td></tr>\n",
       "\t<tr><th scope=row>5</th><td>funalibaba         </td><td>China</td><td>1</td><td>18208</td><td>0.0118080</td><td>1</td><td>5.492091e-05</td><td>1</td><td>705</td><td>219.892025</td><td>704</td><td>156.107008</td><td> 1.5055591</td><td> 2.301106</td><td>3</td><td>38</td><td>6.956832</td><td>35</td><td>3.311960</td><td>2.9556282</td><td>13.5354533</td><td>0.00</td><td>100.00</td><td>6.320069</td><td>100.00</td><td>⋯</td><td>5.813953</td><td>6</td><td>6.186047</td><td>0.8262791</td><td>0.8425581</td><td>0.8513953</td><td>0.8769767</td><td>0.877907</td><td>0.8793023</td><td>4.883721</td><td>5.302326</td><td>5.023256</td><td>5.813953</td><td>6</td><td>6.186047</td><td>0.8262791</td><td>0.8425581</td><td>0.8513953</td><td>0.8769767</td><td>0.877907</td><td>0.8793023</td><td>auc_agg_rf_fb  </td><td>l10_agg_rf_fb  </td><td>auc_agg_rf  </td><td>l10_agg_rf  </td></tr>\n",
       "\t<tr><th scope=row>6</th><td>funalibaba sg      </td><td>China</td><td>1</td><td>   16</td><td>0.0625000</td><td>1</td><td>6.250000e-02</td><td>1</td><td>  1</td><td>  1.000000</td><td>  0</td><td>  0.000000</td><td>       NaN</td><td>      NaN</td><td>4</td><td>13</td><td>7.375000</td><td> 9</td><td>2.604483</td><td>0.3561975</td><td>-0.8500916</td><td>0.24</td><td> 13.58</td><td>4.647500</td><td> 13.34</td><td>⋯</td><td>0</td><td>0</td><td>10</td><td>0.05</td><td>0.05</td><td>0.95</td><td>0.85</td><td>0.55</td><td>0.95</td><td>0</td><td>0</td><td>10</td><td>0</td><td>0</td><td>10</td><td>0.05</td><td>0.05</td><td>0.95</td><td>0.85</td><td>0.55</td><td>0.95</td><td>auc_agg_rf_fb  </td><td>l10_agg_rf_fb  </td><td>auc_agg_glm </td><td>l10_agg_glm </td></tr>\n",
       "</tbody>\n",
       "</table>\n"
      ],
      "text/latex": [
       "A data.frame: 6 × 74\n",
       "\\begin{tabular}{r|lllllllllllllllllllllllllllllllllllllllllllllllllll}\n",
       "  & tld\\_registrar\\_index & geo\\_maj & geo\\_cnt & n & ren\\_prp & tld\\_cnt & tld\\_rat & daydom\\_min & daydom\\_max & daydom\\_mean & daydom\\_rng & daydom\\_std & daydom\\_skew & daydom\\_kurt & sldlen\\_min & sldlen\\_max & sldlen\\_mean & sldlen\\_rng & sldlen\\_std & sldlen\\_skew & sldlen\\_kurt & gibbs\\_min & gibbs\\_max & gibbs\\_mean & gibbs\\_rng & ⋯ & l10\\_seg2\\_rf & l10\\_seg\\_rf & l10\\_agg\\_rf & auc\\_seg2\\_glm & auc\\_seg\\_glm & auc\\_agg\\_glm & auc\\_seg2\\_rf & auc\\_seg\\_rf & auc\\_agg\\_rf & l10\\_seg2\\_glm\\_fb & l10\\_seg\\_glm\\_fb & l10\\_agg\\_glm\\_fb & l10\\_seg2\\_rf\\_fb & l10\\_seg\\_rf\\_fb & l10\\_agg\\_rf\\_fb & auc\\_seg2\\_glm\\_fb & auc\\_seg\\_glm\\_fb & auc\\_agg\\_glm\\_fb & auc\\_seg2\\_rf\\_fb & auc\\_seg\\_rf\\_fb & auc\\_agg\\_rf\\_fb & auc\\_win\\_01 & l10\\_win\\_01 & auc\\_win\\_02 & l10\\_win\\_02\\\\\n",
       "  & <chr> & <fct> & <int> & <int> & <dbl> & <int> & <dbl> & <int> & <int> & <dbl> & <int> & <dbl> & <dbl> & <dbl> & <int> & <int> & <dbl> & <int> & <dbl> & <dbl> & <dbl> & <dbl> & <dbl> & <dbl> & <dbl> & ⋯ & <list> & <list> & <list> & <list> & <list> & <list> & <list> & <list> & <list> & <list> & <list> & <list> & <list> & <list> & <list> & <list> & <list> & <list> & <list> & <list> & <list> & <chr> & <chr> & <chr> & <chr>\\\\\n",
       "\\hline\n",
       "\t1 & fun1\\&1 internet     & EU    & 1 &     2 & 1.0000000 & 1 & 5.000000e-01 & 1 &   1 &   1.000000 &   0 &   0.000000 &        NaN &       NaN & 6 &  9 & 7.500000 &  3 & 2.121320 & 0.0000000 & -2.7500000 & 2.23 &   3.45 & 2.840000 &   1.22 & ⋯ & 5 & 5 & 5 & 0.6 & 0.6 & 0.6 & 0.6 & 0.6 & 0.6 & 5 & 5 & 5 & 5 & 5 & 5 & 0.6 & 0.6 & 0.6 & 0.6 & 0.6 & 0.6 & auc\\_seg2\\_glm\\_fb & l10\\_seg2\\_glm\\_fb & auc\\_seg2\\_glm & l10\\_seg2\\_glm\\\\\n",
       "\t2 & fun10dencehispahard & EU    & 1 &     2 & 0.0000000 & 1 & 5.000000e-01 & 1 &   1 &   1.000000 &   0 &   0.000000 &        NaN &       NaN & 6 &  8 & 7.000000 &  2 & 1.414214 & 0.0000000 & -2.7500000 & 3.13 &   8.62 & 5.875000 &   5.49 & ⋯ & NaN & NaN & NaN & NaN & NaN & NaN & NaN & NaN & NaN & NaN & NaN & NaN & NaN & NaN & NaN & NaN & NaN & NaN & NaN & NaN & NaN & NA              & NA              & NA           & NA          \\\\\n",
       "\t3 & fun1api             & EU    & 1 &     2 & 0.5000000 & 1 & 5.000000e-01 & 1 &   1 &   1.000000 &   0 &   0.000000 &        NaN &       NaN & 7 &  7 & 7.000000 &  0 & 0.000000 &       NaN &        NaN & 4.51 &   6.09 & 5.300000 &   1.58 & ⋯ & 10 & 10 & 0 & 0.25 & 0.25 & 0.25 & 0.95 & 0.95 & 0.25 & 0 & 0 & 0 & 10 & 10 & 0 & 0.25 & 0.25 & 0.25 & 0.95 & 0.95 & 0.25 & auc\\_seg2\\_glm\\_fb & l10\\_seg2\\_glm\\_fb & auc\\_seg2\\_rf  & l10\\_seg2\\_rf \\\\\n",
       "\t4 & funactive 24        & EU    & 1 &    22 & 0.2272727 & 1 & 4.545455e-02 & 1 &   3 &   2.090909 &   2 &   1.019294 & -0.1702685 & -2.058471 & 4 & 14 & 7.363636 & 10 & 2.498484 & 0.8100072 &  0.4123014 & 0.59 & 100.00 & 9.425000 &  99.41 & ⋯ & 2 & 2 & 2 & 0.45 & 0.35 & 0.49 & 0.57 & 0.59 & 0.63 & 0 & 0 & 0 & 2 & 2 & 2 & 0.45 & 0.35 & 0.49 & 0.57 & 0.59 & 0.63 & auc\\_agg\\_rf\\_fb   & l10\\_agg\\_rf\\_fb   & auc\\_agg\\_rf   & l10\\_seg2\\_rf \\\\\n",
       "\t5 & funalibaba          & China & 1 & 18208 & 0.0118080 & 1 & 5.492091e-05 & 1 & 705 & 219.892025 & 704 & 156.107008 &  1.5055591 &  2.301106 & 3 & 38 & 6.956832 & 35 & 3.311960 & 2.9556282 & 13.5354533 & 0.00 & 100.00 & 6.320069 & 100.00 & ⋯ & 5.813953 & 6 & 6.186047 & 0.8262791 & 0.8425581 & 0.8513953 & 0.8769767 & 0.877907 & 0.8793023 & 4.883721 & 5.302326 & 5.023256 & 5.813953 & 6 & 6.186047 & 0.8262791 & 0.8425581 & 0.8513953 & 0.8769767 & 0.877907 & 0.8793023 & auc\\_agg\\_rf\\_fb   & l10\\_agg\\_rf\\_fb   & auc\\_agg\\_rf   & l10\\_agg\\_rf  \\\\\n",
       "\t6 & funalibaba sg       & China & 1 &    16 & 0.0625000 & 1 & 6.250000e-02 & 1 &   1 &   1.000000 &   0 &   0.000000 &        NaN &       NaN & 4 & 13 & 7.375000 &  9 & 2.604483 & 0.3561975 & -0.8500916 & 0.24 &  13.58 & 4.647500 &  13.34 & ⋯ & 0 & 0 & 10 & 0.05 & 0.05 & 0.95 & 0.85 & 0.55 & 0.95 & 0 & 0 & 10 & 0 & 0 & 10 & 0.05 & 0.05 & 0.95 & 0.85 & 0.55 & 0.95 & auc\\_agg\\_rf\\_fb   & l10\\_agg\\_rf\\_fb   & auc\\_agg\\_glm  & l10\\_agg\\_glm \\\\\n",
       "\\end{tabular}\n"
      ],
      "text/markdown": [
       "\n",
       "A data.frame: 6 × 74\n",
       "\n",
       "| <!--/--> | tld_registrar_index &lt;chr&gt; | geo_maj &lt;fct&gt; | geo_cnt &lt;int&gt; | n &lt;int&gt; | ren_prp &lt;dbl&gt; | tld_cnt &lt;int&gt; | tld_rat &lt;dbl&gt; | daydom_min &lt;int&gt; | daydom_max &lt;int&gt; | daydom_mean &lt;dbl&gt; | daydom_rng &lt;int&gt; | daydom_std &lt;dbl&gt; | daydom_skew &lt;dbl&gt; | daydom_kurt &lt;dbl&gt; | sldlen_min &lt;int&gt; | sldlen_max &lt;int&gt; | sldlen_mean &lt;dbl&gt; | sldlen_rng &lt;int&gt; | sldlen_std &lt;dbl&gt; | sldlen_skew &lt;dbl&gt; | sldlen_kurt &lt;dbl&gt; | gibbs_min &lt;dbl&gt; | gibbs_max &lt;dbl&gt; | gibbs_mean &lt;dbl&gt; | gibbs_rng &lt;dbl&gt; | ⋯ ⋯ | l10_seg2_rf &lt;list&gt; | l10_seg_rf &lt;list&gt; | l10_agg_rf &lt;list&gt; | auc_seg2_glm &lt;list&gt; | auc_seg_glm &lt;list&gt; | auc_agg_glm &lt;list&gt; | auc_seg2_rf &lt;list&gt; | auc_seg_rf &lt;list&gt; | auc_agg_rf &lt;list&gt; | l10_seg2_glm_fb &lt;list&gt; | l10_seg_glm_fb &lt;list&gt; | l10_agg_glm_fb &lt;list&gt; | l10_seg2_rf_fb &lt;list&gt; | l10_seg_rf_fb &lt;list&gt; | l10_agg_rf_fb &lt;list&gt; | auc_seg2_glm_fb &lt;list&gt; | auc_seg_glm_fb &lt;list&gt; | auc_agg_glm_fb &lt;list&gt; | auc_seg2_rf_fb &lt;list&gt; | auc_seg_rf_fb &lt;list&gt; | auc_agg_rf_fb &lt;list&gt; | auc_win_01 &lt;chr&gt; | l10_win_01 &lt;chr&gt; | auc_win_02 &lt;chr&gt; | l10_win_02 &lt;chr&gt; |\n",
       "|---|---|---|---|---|---|---|---|---|---|---|---|---|---|---|---|---|---|---|---|---|---|---|---|---|---|---|---|---|---|---|---|---|---|---|---|---|---|---|---|---|---|---|---|---|---|---|---|---|---|---|---|\n",
       "| 1 | fun1&amp;1 internet     | EU    | 1 |     2 | 1.0000000 | 1 | 5.000000e-01 | 1 |   1 |   1.000000 |   0 |   0.000000 |        NaN |       NaN | 6 |  9 | 7.500000 |  3 | 2.121320 | 0.0000000 | -2.7500000 | 2.23 |   3.45 | 2.840000 |   1.22 | ⋯ | 5 | 5 | 5 | 0.6 | 0.6 | 0.6 | 0.6 | 0.6 | 0.6 | 5 | 5 | 5 | 5 | 5 | 5 | 0.6 | 0.6 | 0.6 | 0.6 | 0.6 | 0.6 | auc_seg2_glm_fb | l10_seg2_glm_fb | auc_seg2_glm | l10_seg2_glm |\n",
       "| 2 | fun10dencehispahard | EU    | 1 |     2 | 0.0000000 | 1 | 5.000000e-01 | 1 |   1 |   1.000000 |   0 |   0.000000 |        NaN |       NaN | 6 |  8 | 7.000000 |  2 | 1.414214 | 0.0000000 | -2.7500000 | 3.13 |   8.62 | 5.875000 |   5.49 | ⋯ | NaN | NaN | NaN | NaN | NaN | NaN | NaN | NaN | NaN | NaN | NaN | NaN | NaN | NaN | NaN | NaN | NaN | NaN | NaN | NaN | NaN | NA              | NA              | NA           | NA           |\n",
       "| 3 | fun1api             | EU    | 1 |     2 | 0.5000000 | 1 | 5.000000e-01 | 1 |   1 |   1.000000 |   0 |   0.000000 |        NaN |       NaN | 7 |  7 | 7.000000 |  0 | 0.000000 |       NaN |        NaN | 4.51 |   6.09 | 5.300000 |   1.58 | ⋯ | 10 | 10 | 0 | 0.25 | 0.25 | 0.25 | 0.95 | 0.95 | 0.25 | 0 | 0 | 0 | 10 | 10 | 0 | 0.25 | 0.25 | 0.25 | 0.95 | 0.95 | 0.25 | auc_seg2_glm_fb | l10_seg2_glm_fb | auc_seg2_rf  | l10_seg2_rf  |\n",
       "| 4 | funactive 24        | EU    | 1 |    22 | 0.2272727 | 1 | 4.545455e-02 | 1 |   3 |   2.090909 |   2 |   1.019294 | -0.1702685 | -2.058471 | 4 | 14 | 7.363636 | 10 | 2.498484 | 0.8100072 |  0.4123014 | 0.59 | 100.00 | 9.425000 |  99.41 | ⋯ | 2 | 2 | 2 | 0.45 | 0.35 | 0.49 | 0.57 | 0.59 | 0.63 | 0 | 0 | 0 | 2 | 2 | 2 | 0.45 | 0.35 | 0.49 | 0.57 | 0.59 | 0.63 | auc_agg_rf_fb   | l10_agg_rf_fb   | auc_agg_rf   | l10_seg2_rf  |\n",
       "| 5 | funalibaba          | China | 1 | 18208 | 0.0118080 | 1 | 5.492091e-05 | 1 | 705 | 219.892025 | 704 | 156.107008 |  1.5055591 |  2.301106 | 3 | 38 | 6.956832 | 35 | 3.311960 | 2.9556282 | 13.5354533 | 0.00 | 100.00 | 6.320069 | 100.00 | ⋯ | 5.813953 | 6 | 6.186047 | 0.8262791 | 0.8425581 | 0.8513953 | 0.8769767 | 0.877907 | 0.8793023 | 4.883721 | 5.302326 | 5.023256 | 5.813953 | 6 | 6.186047 | 0.8262791 | 0.8425581 | 0.8513953 | 0.8769767 | 0.877907 | 0.8793023 | auc_agg_rf_fb   | l10_agg_rf_fb   | auc_agg_rf   | l10_agg_rf   |\n",
       "| 6 | funalibaba sg       | China | 1 |    16 | 0.0625000 | 1 | 6.250000e-02 | 1 |   1 |   1.000000 |   0 |   0.000000 |        NaN |       NaN | 4 | 13 | 7.375000 |  9 | 2.604483 | 0.3561975 | -0.8500916 | 0.24 |  13.58 | 4.647500 |  13.34 | ⋯ | 0 | 0 | 10 | 0.05 | 0.05 | 0.95 | 0.85 | 0.55 | 0.95 | 0 | 0 | 10 | 0 | 0 | 10 | 0.05 | 0.05 | 0.95 | 0.85 | 0.55 | 0.95 | auc_agg_rf_fb   | l10_agg_rf_fb   | auc_agg_glm  | l10_agg_glm  |\n",
       "\n"
      ],
      "text/plain": [
       "  tld_registrar_index geo_maj geo_cnt n     ren_prp   tld_cnt tld_rat     \n",
       "1 fun1&1 internet     EU      1           2 1.0000000 1       5.000000e-01\n",
       "2 fun10dencehispahard EU      1           2 0.0000000 1       5.000000e-01\n",
       "3 fun1api             EU      1           2 0.5000000 1       5.000000e-01\n",
       "4 funactive 24        EU      1          22 0.2272727 1       4.545455e-02\n",
       "5 funalibaba          China   1       18208 0.0118080 1       5.492091e-05\n",
       "6 funalibaba sg       China   1          16 0.0625000 1       6.250000e-02\n",
       "  daydom_min daydom_max daydom_mean daydom_rng daydom_std daydom_skew\n",
       "1 1            1          1.000000    0          0.000000        NaN \n",
       "2 1            1          1.000000    0          0.000000        NaN \n",
       "3 1            1          1.000000    0          0.000000        NaN \n",
       "4 1            3          2.090909    2          1.019294 -0.1702685 \n",
       "5 1          705        219.892025  704        156.107008  1.5055591 \n",
       "6 1            1          1.000000    0          0.000000        NaN \n",
       "  daydom_kurt sldlen_min sldlen_max sldlen_mean sldlen_rng sldlen_std\n",
       "1       NaN   6           9         7.500000     3         2.121320  \n",
       "2       NaN   6           8         7.000000     2         1.414214  \n",
       "3       NaN   7           7         7.000000     0         0.000000  \n",
       "4 -2.058471   4          14         7.363636    10         2.498484  \n",
       "5  2.301106   3          38         6.956832    35         3.311960  \n",
       "6       NaN   4          13         7.375000     9         2.604483  \n",
       "  sldlen_skew sldlen_kurt gibbs_min gibbs_max gibbs_mean gibbs_rng ⋯\n",
       "1 0.0000000   -2.7500000  2.23        3.45    2.840000     1.22    ⋯\n",
       "2 0.0000000   -2.7500000  3.13        8.62    5.875000     5.49    ⋯\n",
       "3       NaN          NaN  4.51        6.09    5.300000     1.58    ⋯\n",
       "4 0.8100072    0.4123014  0.59      100.00    9.425000    99.41    ⋯\n",
       "5 2.9556282   13.5354533  0.00      100.00    6.320069   100.00    ⋯\n",
       "6 0.3561975   -0.8500916  0.24       13.58    4.647500    13.34    ⋯\n",
       "  l10_seg2_rf l10_seg_rf l10_agg_rf auc_seg2_glm auc_seg_glm auc_agg_glm\n",
       "1 5           5          5          0.6          0.6         0.6        \n",
       "2 NaN         NaN        NaN        NaN          NaN         NaN        \n",
       "3 10          10         0          0.25         0.25        0.25       \n",
       "4 2           2          2          0.45         0.35        0.49       \n",
       "5 5.813953    6          6.186047   0.8262791    0.8425581   0.8513953  \n",
       "6 0           0          10         0.05         0.05        0.95       \n",
       "  auc_seg2_rf auc_seg_rf auc_agg_rf l10_seg2_glm_fb l10_seg_glm_fb\n",
       "1 0.6         0.6        0.6        5               5             \n",
       "2 NaN         NaN        NaN        NaN             NaN           \n",
       "3 0.95        0.95       0.25       0               0             \n",
       "4 0.57        0.59       0.63       0               0             \n",
       "5 0.8769767   0.877907   0.8793023  4.883721        5.302326      \n",
       "6 0.85        0.55       0.95       0               0             \n",
       "  l10_agg_glm_fb l10_seg2_rf_fb l10_seg_rf_fb l10_agg_rf_fb auc_seg2_glm_fb\n",
       "1 5              5              5             5             0.6            \n",
       "2 NaN            NaN            NaN           NaN           NaN            \n",
       "3 0              10             10            0             0.25           \n",
       "4 0              2              2             2             0.45           \n",
       "5 5.023256       5.813953       6             6.186047      0.8262791      \n",
       "6 10             0              0             10            0.05           \n",
       "  auc_seg_glm_fb auc_agg_glm_fb auc_seg2_rf_fb auc_seg_rf_fb auc_agg_rf_fb\n",
       "1 0.6            0.6            0.6            0.6           0.6          \n",
       "2 NaN            NaN            NaN            NaN           NaN          \n",
       "3 0.25           0.25           0.95           0.95          0.25         \n",
       "4 0.35           0.49           0.57           0.59          0.63         \n",
       "5 0.8425581      0.8513953      0.8769767      0.877907      0.8793023    \n",
       "6 0.05           0.95           0.85           0.55          0.95         \n",
       "  auc_win_01      l10_win_01      auc_win_02   l10_win_02  \n",
       "1 auc_seg2_glm_fb l10_seg2_glm_fb auc_seg2_glm l10_seg2_glm\n",
       "2 NA              NA              NA           NA          \n",
       "3 auc_seg2_glm_fb l10_seg2_glm_fb auc_seg2_rf  l10_seg2_rf \n",
       "4 auc_agg_rf_fb   l10_agg_rf_fb   auc_agg_rf   l10_seg2_rf \n",
       "5 auc_agg_rf_fb   l10_agg_rf_fb   auc_agg_rf   l10_agg_rf  \n",
       "6 auc_agg_rf_fb   l10_agg_rf_fb   auc_agg_glm  l10_agg_glm "
      ]
     },
     "metadata": {},
     "output_type": "display_data"
    }
   ],
   "source": [
    "(auc_vars = grep('auc_', names(expiry_test_metametrics), value=TRUE))\n",
    "(l10_vars = grep('l10_', names(expiry_test_metametrics), value=TRUE))\n",
    "\n",
    "(auc_vars = auc_vars[-grep(\"win\", auc_vars)])\n",
    "(l10_vars = l10_vars[-grep(\"win\", l10_vars)])\n",
    "\n",
    "# auc_vars = c('auc_seg2_glm_fb','auc_agg_rf_fb')\n",
    "# l10_vars = c('l10_seg2_glm_fb','l10_agg_rf_fb')\n",
    "\n",
    "expiry_test_metametrics <- expiry_test_metametrics %>%\n",
    "    mutate (auc_win_02=sapply(apply(.[,c(auc_vars)], \n",
    "                          1, function(x) names(x)[which.max(x)]) , function(s) if (length(s) == 0) NA else paste(s, collapse = \" \")) ,\n",
    "            l10_win_02=sapply(apply(.[,c(l10_vars)], \n",
    "                          1, function(x) names(x)[which.max(x)]), function(s) if (length(s) == 0) NA else paste(s, collapse = \" \")) \n",
    "            ) \n",
    "                              \n",
    "head(expiry_test_metametrics)"
   ]
  },
  {
   "cell_type": "code",
   "execution_count": 84,
   "metadata": {},
   "outputs": [
    {
     "data": {
      "text/plain": [
       "\n",
       "    auc_agg_glm      auc_agg_rf     auc_seg_glm      auc_seg_rf    auc_seg2_glm \n",
       "            148              94             177             119             469 \n",
       "auc_seg2_glm_fb     auc_seg2_rf \n",
       "              3              88 "
      ]
     },
     "metadata": {},
     "output_type": "display_data"
    },
    {
     "data": {
      "text/plain": [
       "\n",
       "    l10_agg_glm      l10_agg_rf     l10_seg_glm      l10_seg_rf    l10_seg2_glm \n",
       "            116              38             157              52             637 \n",
       "l10_seg2_glm_fb     l10_seg2_rf \n",
       "              1              97 "
      ]
     },
     "metadata": {},
     "output_type": "display_data"
    }
   ],
   "source": [
    "table(expiry_test_metametrics$auc_win_02)\n",
    "table(expiry_test_metametrics$l10_win_02)"
   ]
  },
  {
   "cell_type": "code",
   "execution_count": 85,
   "metadata": {},
   "outputs": [],
   "source": [
    "# expiry_test_metametrics %>% \n",
    "#     group_by(auc_win_02) %>%\n",
    "#     tally() %>%\n",
    "#     arrange(desc(n))\n",
    "\n",
    "# expiry_test_metametrics %>% \n",
    "#     group_by(l10_win_02) %>%\n",
    "#     tally() %>%\n",
    "#     arrange(desc(n))"
   ]
  },
  {
   "cell_type": "code",
   "execution_count": 86,
   "metadata": {},
   "outputs": [
    {
     "data": {
      "text/html": [
       "<table>\n",
       "<caption>A data.frame: 3 × 12</caption>\n",
       "<thead>\n",
       "\t<tr><th scope=col>auc_seg2_glm</th><th scope=col>auc_seg_glm</th><th scope=col>auc_agg_glm</th><th scope=col>auc_seg2_rf</th><th scope=col>auc_seg_rf</th><th scope=col>auc_agg_rf</th><th scope=col>auc_seg2_glm_fb</th><th scope=col>auc_seg_glm_fb</th><th scope=col>auc_agg_glm_fb</th><th scope=col>auc_seg2_rf_fb</th><th scope=col>auc_seg_rf_fb</th><th scope=col>auc_agg_rf_fb</th></tr>\n",
       "\t<tr><th scope=col>&lt;list&gt;</th><th scope=col>&lt;list&gt;</th><th scope=col>&lt;list&gt;</th><th scope=col>&lt;list&gt;</th><th scope=col>&lt;list&gt;</th><th scope=col>&lt;list&gt;</th><th scope=col>&lt;list&gt;</th><th scope=col>&lt;list&gt;</th><th scope=col>&lt;list&gt;</th><th scope=col>&lt;list&gt;</th><th scope=col>&lt;list&gt;</th><th scope=col>&lt;list&gt;</th></tr>\n",
       "</thead>\n",
       "<tbody>\n",
       "\t<tr><td>0.45</td><td>0.475</td><td>0.475</td><td>0.375</td><td>0.375</td><td>0.325</td><td>0.55</td><td>0.475</td><td>0.475</td><td>0.375</td><td>0.375</td><td>0.325</td></tr>\n",
       "\t<tr><td>0.4642857</td><td>0.4928571</td><td>0.4928571</td><td>0.4642857</td><td>0.4928571</td><td>0.4928571</td><td>0.5785714</td><td>0.4928571</td><td>0.4928571</td><td>0.4642857</td><td>0.4928571</td><td>0.4928571</td></tr>\n",
       "\t<tr><td>0.15</td><td>0.25</td><td>0.4</td><td>0.5</td><td>0.5</td><td>0.5</td><td>0.55</td><td>0.25</td><td>0.4</td><td>0.5</td><td>0.5</td><td>0.5</td></tr>\n",
       "</tbody>\n",
       "</table>\n"
      ],
      "text/latex": [
       "A data.frame: 3 × 12\n",
       "\\begin{tabular}{llllllllllll}\n",
       " auc\\_seg2\\_glm & auc\\_seg\\_glm & auc\\_agg\\_glm & auc\\_seg2\\_rf & auc\\_seg\\_rf & auc\\_agg\\_rf & auc\\_seg2\\_glm\\_fb & auc\\_seg\\_glm\\_fb & auc\\_agg\\_glm\\_fb & auc\\_seg2\\_rf\\_fb & auc\\_seg\\_rf\\_fb & auc\\_agg\\_rf\\_fb\\\\\n",
       " <list> & <list> & <list> & <list> & <list> & <list> & <list> & <list> & <list> & <list> & <list> & <list>\\\\\n",
       "\\hline\n",
       "\t 0.45 & 0.475 & 0.475 & 0.375 & 0.375 & 0.325 & 0.55 & 0.475 & 0.475 & 0.375 & 0.375 & 0.325\\\\\n",
       "\t 0.4642857 & 0.4928571 & 0.4928571 & 0.4642857 & 0.4928571 & 0.4928571 & 0.5785714 & 0.4928571 & 0.4928571 & 0.4642857 & 0.4928571 & 0.4928571\\\\\n",
       "\t 0.15 & 0.25 & 0.4 & 0.5 & 0.5 & 0.5 & 0.55 & 0.25 & 0.4 & 0.5 & 0.5 & 0.5\\\\\n",
       "\\end{tabular}\n"
      ],
      "text/markdown": [
       "\n",
       "A data.frame: 3 × 12\n",
       "\n",
       "| auc_seg2_glm &lt;list&gt; | auc_seg_glm &lt;list&gt; | auc_agg_glm &lt;list&gt; | auc_seg2_rf &lt;list&gt; | auc_seg_rf &lt;list&gt; | auc_agg_rf &lt;list&gt; | auc_seg2_glm_fb &lt;list&gt; | auc_seg_glm_fb &lt;list&gt; | auc_agg_glm_fb &lt;list&gt; | auc_seg2_rf_fb &lt;list&gt; | auc_seg_rf_fb &lt;list&gt; | auc_agg_rf_fb &lt;list&gt; |\n",
       "|---|---|---|---|---|---|---|---|---|---|---|---|\n",
       "| 0.45 | 0.475 | 0.475 | 0.375 | 0.375 | 0.325 | 0.55 | 0.475 | 0.475 | 0.375 | 0.375 | 0.325 |\n",
       "| 0.4642857 | 0.4928571 | 0.4928571 | 0.4642857 | 0.4928571 | 0.4928571 | 0.5785714 | 0.4928571 | 0.4928571 | 0.4642857 | 0.4928571 | 0.4928571 |\n",
       "| 0.15 | 0.25 | 0.4 | 0.5 | 0.5 | 0.5 | 0.55 | 0.25 | 0.4 | 0.5 | 0.5 | 0.5 |\n",
       "\n"
      ],
      "text/plain": [
       "  auc_seg2_glm auc_seg_glm auc_agg_glm auc_seg2_rf auc_seg_rf auc_agg_rf\n",
       "1 0.45         0.475       0.475       0.375       0.375      0.325     \n",
       "2 0.4642857    0.4928571   0.4928571   0.4642857   0.4928571  0.4928571 \n",
       "3 0.15         0.25        0.4         0.5         0.5        0.5       \n",
       "  auc_seg2_glm_fb auc_seg_glm_fb auc_agg_glm_fb auc_seg2_rf_fb auc_seg_rf_fb\n",
       "1 0.55            0.475          0.475          0.375          0.375        \n",
       "2 0.5785714       0.4928571      0.4928571      0.4642857      0.4928571    \n",
       "3 0.55            0.25           0.4            0.5            0.5          \n",
       "  auc_agg_rf_fb\n",
       "1 0.325        \n",
       "2 0.4928571    \n",
       "3 0.5          "
      ]
     },
     "metadata": {},
     "output_type": "display_data"
    },
    {
     "data": {
      "text/html": [
       "<table>\n",
       "<caption>A data.frame: 1 × 12</caption>\n",
       "<thead>\n",
       "\t<tr><th scope=col>auc_seg2_glm</th><th scope=col>auc_seg_glm</th><th scope=col>auc_agg_glm</th><th scope=col>auc_seg2_rf</th><th scope=col>auc_seg_rf</th><th scope=col>auc_agg_rf</th><th scope=col>auc_seg2_glm_fb</th><th scope=col>auc_seg_glm_fb</th><th scope=col>auc_agg_glm_fb</th><th scope=col>auc_seg2_rf_fb</th><th scope=col>auc_seg_rf_fb</th><th scope=col>auc_agg_rf_fb</th></tr>\n",
       "\t<tr><th scope=col>&lt;list&gt;</th><th scope=col>&lt;list&gt;</th><th scope=col>&lt;list&gt;</th><th scope=col>&lt;list&gt;</th><th scope=col>&lt;list&gt;</th><th scope=col>&lt;list&gt;</th><th scope=col>&lt;list&gt;</th><th scope=col>&lt;list&gt;</th><th scope=col>&lt;list&gt;</th><th scope=col>&lt;list&gt;</th><th scope=col>&lt;list&gt;</th><th scope=col>&lt;list&gt;</th></tr>\n",
       "</thead>\n",
       "<tbody>\n",
       "\t<tr><td>0.4642857</td><td>0.4928571</td><td>0.4928571</td><td>0.4642857</td><td>0.4928571</td><td>0.4928571</td><td>0.5785714</td><td>0.4928571</td><td>0.4928571</td><td>0.4642857</td><td>0.4928571</td><td>0.4928571</td></tr>\n",
       "</tbody>\n",
       "</table>\n"
      ],
      "text/latex": [
       "A data.frame: 1 × 12\n",
       "\\begin{tabular}{llllllllllll}\n",
       " auc\\_seg2\\_glm & auc\\_seg\\_glm & auc\\_agg\\_glm & auc\\_seg2\\_rf & auc\\_seg\\_rf & auc\\_agg\\_rf & auc\\_seg2\\_glm\\_fb & auc\\_seg\\_glm\\_fb & auc\\_agg\\_glm\\_fb & auc\\_seg2\\_rf\\_fb & auc\\_seg\\_rf\\_fb & auc\\_agg\\_rf\\_fb\\\\\n",
       " <list> & <list> & <list> & <list> & <list> & <list> & <list> & <list> & <list> & <list> & <list> & <list>\\\\\n",
       "\\hline\n",
       "\t 0.4642857 & 0.4928571 & 0.4928571 & 0.4642857 & 0.4928571 & 0.4928571 & 0.5785714 & 0.4928571 & 0.4928571 & 0.4642857 & 0.4928571 & 0.4928571\\\\\n",
       "\\end{tabular}\n"
      ],
      "text/markdown": [
       "\n",
       "A data.frame: 1 × 12\n",
       "\n",
       "| auc_seg2_glm &lt;list&gt; | auc_seg_glm &lt;list&gt; | auc_agg_glm &lt;list&gt; | auc_seg2_rf &lt;list&gt; | auc_seg_rf &lt;list&gt; | auc_agg_rf &lt;list&gt; | auc_seg2_glm_fb &lt;list&gt; | auc_seg_glm_fb &lt;list&gt; | auc_agg_glm_fb &lt;list&gt; | auc_seg2_rf_fb &lt;list&gt; | auc_seg_rf_fb &lt;list&gt; | auc_agg_rf_fb &lt;list&gt; |\n",
       "|---|---|---|---|---|---|---|---|---|---|---|---|\n",
       "| 0.4642857 | 0.4928571 | 0.4928571 | 0.4642857 | 0.4928571 | 0.4928571 | 0.5785714 | 0.4928571 | 0.4928571 | 0.4642857 | 0.4928571 | 0.4928571 |\n",
       "\n"
      ],
      "text/plain": [
       "  auc_seg2_glm auc_seg_glm auc_agg_glm auc_seg2_rf auc_seg_rf auc_agg_rf\n",
       "1 0.4642857    0.4928571   0.4928571   0.4642857   0.4928571  0.4928571 \n",
       "  auc_seg2_glm_fb auc_seg_glm_fb auc_agg_glm_fb auc_seg2_rf_fb auc_seg_rf_fb\n",
       "1 0.5785714       0.4928571      0.4928571      0.4642857      0.4928571    \n",
       "  auc_agg_rf_fb\n",
       "1 0.4928571    "
      ]
     },
     "metadata": {},
     "output_type": "display_data"
    }
   ],
   "source": [
    "# Interesting that in 3 (1) cases, the fallback version outperforms original version of seg2_glm\n",
    "# But these are all cases where the models tied and which.max simply picked the first index\n",
    "expiry_test_metametrics %>% filter(auc_win_02 == 'auc_seg2_glm_fb') %>% select(auc_vars)\n",
    "expiry_test_metametrics %>% filter(l10_win_02 == 'l10_seg2_glm_fb') %>% select(auc_vars)"
   ]
  },
  {
   "cell_type": "code",
   "execution_count": 88,
   "metadata": {},
   "outputs": [
    {
     "data": {
      "text/html": [
       "<style>\n",
       ".list-inline {list-style: none; margin:0; padding: 0}\n",
       ".list-inline>li {display: inline-block}\n",
       ".list-inline>li:not(:last-child)::after {content: \"\\00b7\"; padding: 0 .5ex}\n",
       "</style>\n",
       "<ol class=list-inline><li>'auc_seg2_glm'</li><li>'auc_seg2_glm_fb'</li></ol>\n"
      ],
      "text/latex": [
       "\\begin{enumerate*}\n",
       "\\item 'auc\\_seg2\\_glm'\n",
       "\\item 'auc\\_seg2\\_glm\\_fb'\n",
       "\\end{enumerate*}\n"
      ],
      "text/markdown": [
       "1. 'auc_seg2_glm'\n",
       "2. 'auc_seg2_glm_fb'\n",
       "\n",
       "\n"
      ],
      "text/plain": [
       "[1] \"auc_seg2_glm\"    \"auc_seg2_glm_fb\""
      ]
     },
     "metadata": {},
     "output_type": "display_data"
    },
    {
     "data": {
      "text/html": [
       "<style>\n",
       ".list-inline {list-style: none; margin:0; padding: 0}\n",
       ".list-inline>li {display: inline-block}\n",
       ".list-inline>li:not(:last-child)::after {content: \"\\00b7\"; padding: 0 .5ex}\n",
       "</style>\n",
       "<ol class=list-inline><li>'l10_seg2_glm'</li><li>'l10_seg2_glm_fb'</li></ol>\n"
      ],
      "text/latex": [
       "\\begin{enumerate*}\n",
       "\\item 'l10\\_seg2\\_glm'\n",
       "\\item 'l10\\_seg2\\_glm\\_fb'\n",
       "\\end{enumerate*}\n"
      ],
      "text/markdown": [
       "1. 'l10_seg2_glm'\n",
       "2. 'l10_seg2_glm_fb'\n",
       "\n",
       "\n"
      ],
      "text/plain": [
       "[1] \"l10_seg2_glm\"    \"l10_seg2_glm_fb\""
      ]
     },
     "metadata": {},
     "output_type": "display_data"
    },
    {
     "data": {
      "text/html": [
       "<table>\n",
       "<caption>A data.frame: 6 × 76</caption>\n",
       "<thead>\n",
       "\t<tr><th></th><th scope=col>tld_registrar_index</th><th scope=col>geo_maj</th><th scope=col>geo_cnt</th><th scope=col>n</th><th scope=col>ren_prp</th><th scope=col>tld_cnt</th><th scope=col>tld_rat</th><th scope=col>daydom_min</th><th scope=col>daydom_max</th><th scope=col>daydom_mean</th><th scope=col>daydom_rng</th><th scope=col>daydom_std</th><th scope=col>daydom_skew</th><th scope=col>daydom_kurt</th><th scope=col>sldlen_min</th><th scope=col>sldlen_max</th><th scope=col>sldlen_mean</th><th scope=col>sldlen_rng</th><th scope=col>sldlen_std</th><th scope=col>sldlen_skew</th><th scope=col>sldlen_kurt</th><th scope=col>gibbs_min</th><th scope=col>gibbs_max</th><th scope=col>gibbs_mean</th><th scope=col>gibbs_rng</th><th scope=col>⋯</th><th scope=col>l10_agg_rf</th><th scope=col>auc_seg2_glm</th><th scope=col>auc_seg_glm</th><th scope=col>auc_agg_glm</th><th scope=col>auc_seg2_rf</th><th scope=col>auc_seg_rf</th><th scope=col>auc_agg_rf</th><th scope=col>l10_seg2_glm_fb</th><th scope=col>l10_seg_glm_fb</th><th scope=col>l10_agg_glm_fb</th><th scope=col>l10_seg2_rf_fb</th><th scope=col>l10_seg_rf_fb</th><th scope=col>l10_agg_rf_fb</th><th scope=col>auc_seg2_glm_fb</th><th scope=col>auc_seg_glm_fb</th><th scope=col>auc_agg_glm_fb</th><th scope=col>auc_seg2_rf_fb</th><th scope=col>auc_seg_rf_fb</th><th scope=col>auc_agg_rf_fb</th><th scope=col>auc_win_01</th><th scope=col>l10_win_01</th><th scope=col>auc_win_02</th><th scope=col>l10_win_02</th><th scope=col>auc_win_03</th><th scope=col>l10_win_03</th></tr>\n",
       "\t<tr><th></th><th scope=col>&lt;chr&gt;</th><th scope=col>&lt;fct&gt;</th><th scope=col>&lt;int&gt;</th><th scope=col>&lt;int&gt;</th><th scope=col>&lt;dbl&gt;</th><th scope=col>&lt;int&gt;</th><th scope=col>&lt;dbl&gt;</th><th scope=col>&lt;int&gt;</th><th scope=col>&lt;int&gt;</th><th scope=col>&lt;dbl&gt;</th><th scope=col>&lt;int&gt;</th><th scope=col>&lt;dbl&gt;</th><th scope=col>&lt;dbl&gt;</th><th scope=col>&lt;dbl&gt;</th><th scope=col>&lt;int&gt;</th><th scope=col>&lt;int&gt;</th><th scope=col>&lt;dbl&gt;</th><th scope=col>&lt;int&gt;</th><th scope=col>&lt;dbl&gt;</th><th scope=col>&lt;dbl&gt;</th><th scope=col>&lt;dbl&gt;</th><th scope=col>&lt;dbl&gt;</th><th scope=col>&lt;dbl&gt;</th><th scope=col>&lt;dbl&gt;</th><th scope=col>&lt;dbl&gt;</th><th scope=col>⋯</th><th scope=col>&lt;list&gt;</th><th scope=col>&lt;list&gt;</th><th scope=col>&lt;list&gt;</th><th scope=col>&lt;list&gt;</th><th scope=col>&lt;list&gt;</th><th scope=col>&lt;list&gt;</th><th scope=col>&lt;list&gt;</th><th scope=col>&lt;list&gt;</th><th scope=col>&lt;list&gt;</th><th scope=col>&lt;list&gt;</th><th scope=col>&lt;list&gt;</th><th scope=col>&lt;list&gt;</th><th scope=col>&lt;list&gt;</th><th scope=col>&lt;list&gt;</th><th scope=col>&lt;list&gt;</th><th scope=col>&lt;list&gt;</th><th scope=col>&lt;list&gt;</th><th scope=col>&lt;list&gt;</th><th scope=col>&lt;list&gt;</th><th scope=col>&lt;chr&gt;</th><th scope=col>&lt;chr&gt;</th><th scope=col>&lt;chr&gt;</th><th scope=col>&lt;chr&gt;</th><th scope=col>&lt;chr&gt;</th><th scope=col>&lt;chr&gt;</th></tr>\n",
       "</thead>\n",
       "<tbody>\n",
       "\t<tr><th scope=row>1</th><td><span style=white-space:pre-wrap>fun1&amp;1 internet    </span></td><td><span style=white-space:pre-wrap>EU   </span></td><td>1</td><td><span style=white-space:pre-wrap>    2</span></td><td>1.0000000</td><td>1</td><td>5.000000e-01</td><td>1</td><td><span style=white-space:pre-wrap>  1</span></td><td><span style=white-space:pre-wrap>  1.000000</span></td><td><span style=white-space:pre-wrap>  0</span></td><td><span style=white-space:pre-wrap>  0.000000</span></td><td><span style=white-space:pre-wrap>       NaN</span></td><td><span style=white-space:pre-wrap>      NaN</span></td><td>6</td><td> 9</td><td>7.500000</td><td> 3</td><td>2.121320</td><td>0.0000000</td><td>-2.7500000</td><td>2.23</td><td><span style=white-space:pre-wrap>  3.45</span></td><td>2.840000</td><td><span style=white-space:pre-wrap>  1.22</span></td><td>⋯</td><td>5</td><td>0.6</td><td>0.6</td><td>0.6</td><td>0.6</td><td>0.6</td><td>0.6</td><td>5</td><td>5</td><td>5</td><td>5</td><td>5</td><td>5</td><td>0.6</td><td>0.6</td><td>0.6</td><td>0.6</td><td>0.6</td><td>0.6</td><td>auc_seg2_glm_fb</td><td>l10_seg2_glm_fb</td><td>auc_seg2_glm</td><td>l10_seg2_glm</td><td>auc_seg2_glm</td><td>l10_seg2_glm</td></tr>\n",
       "\t<tr><th scope=row>2</th><td>fun10dencehispahard</td><td>EU   </td><td>1</td><td>    2</td><td>0.0000000</td><td>1</td><td>5.000000e-01</td><td>1</td><td>  1</td><td>  1.000000</td><td>  0</td><td>  0.000000</td><td>       NaN</td><td>      NaN</td><td>6</td><td> 8</td><td>7.000000</td><td> 2</td><td>1.414214</td><td>0.0000000</td><td>-2.7500000</td><td>3.13</td><td>  8.62</td><td>5.875000</td><td>  5.49</td><td>⋯</td><td>NaN</td><td>NaN</td><td>NaN</td><td>NaN</td><td>NaN</td><td>NaN</td><td>NaN</td><td>NaN</td><td>NaN</td><td>NaN</td><td>NaN</td><td>NaN</td><td>NaN</td><td>NaN</td><td>NaN</td><td>NaN</td><td>NaN</td><td>NaN</td><td>NaN</td><td>NA             </td><td>NA             </td><td>NA          </td><td>NA          </td><td>NA          </td><td>NA          </td></tr>\n",
       "\t<tr><th scope=row>3</th><td>fun1api            </td><td>EU   </td><td>1</td><td>    2</td><td>0.5000000</td><td>1</td><td>5.000000e-01</td><td>1</td><td>  1</td><td>  1.000000</td><td>  0</td><td>  0.000000</td><td>       NaN</td><td>      NaN</td><td>7</td><td> 7</td><td>7.000000</td><td> 0</td><td>0.000000</td><td>      NaN</td><td>       NaN</td><td>4.51</td><td>  6.09</td><td>5.300000</td><td>  1.58</td><td>⋯</td><td>0</td><td>0.25</td><td>0.25</td><td>0.25</td><td>0.95</td><td>0.95</td><td>0.25</td><td>0</td><td>0</td><td>0</td><td>10</td><td>10</td><td>0</td><td>0.25</td><td>0.25</td><td>0.25</td><td>0.95</td><td>0.95</td><td>0.25</td><td>auc_seg2_glm_fb</td><td>l10_seg2_glm_fb</td><td>auc_seg2_rf </td><td>l10_seg2_rf </td><td>auc_seg2_glm</td><td>l10_seg2_glm</td></tr>\n",
       "\t<tr><th scope=row>4</th><td>funactive 24       </td><td>EU   </td><td>1</td><td>   22</td><td>0.2272727</td><td>1</td><td>4.545455e-02</td><td>1</td><td>  3</td><td>  2.090909</td><td>  2</td><td>  1.019294</td><td>-0.1702685</td><td>-2.058471</td><td>4</td><td>14</td><td>7.363636</td><td>10</td><td>2.498484</td><td>0.8100072</td><td> 0.4123014</td><td>0.59</td><td>100.00</td><td>9.425000</td><td> 99.41</td><td>⋯</td><td>2</td><td>0.45</td><td>0.35</td><td>0.49</td><td>0.57</td><td>0.59</td><td>0.63</td><td>0</td><td>0</td><td>0</td><td>2</td><td>2</td><td>2</td><td>0.45</td><td>0.35</td><td>0.49</td><td>0.57</td><td>0.59</td><td>0.63</td><td>auc_agg_rf_fb  </td><td>l10_agg_rf_fb  </td><td>auc_agg_rf  </td><td>l10_seg2_rf </td><td>auc_seg2_glm</td><td>l10_seg2_glm</td></tr>\n",
       "\t<tr><th scope=row>5</th><td>funalibaba         </td><td>China</td><td>1</td><td>18208</td><td>0.0118080</td><td>1</td><td>5.492091e-05</td><td>1</td><td>705</td><td>219.892025</td><td>704</td><td>156.107008</td><td> 1.5055591</td><td> 2.301106</td><td>3</td><td>38</td><td>6.956832</td><td>35</td><td>3.311960</td><td>2.9556282</td><td>13.5354533</td><td>0.00</td><td>100.00</td><td>6.320069</td><td>100.00</td><td>⋯</td><td>6.186047</td><td>0.8262791</td><td>0.8425581</td><td>0.8513953</td><td>0.8769767</td><td>0.877907</td><td>0.8793023</td><td>4.883721</td><td>5.302326</td><td>5.023256</td><td>5.813953</td><td>6</td><td>6.186047</td><td>0.8262791</td><td>0.8425581</td><td>0.8513953</td><td>0.8769767</td><td>0.877907</td><td>0.8793023</td><td>auc_agg_rf_fb  </td><td>l10_agg_rf_fb  </td><td>auc_agg_rf  </td><td>l10_agg_rf  </td><td>auc_seg2_glm</td><td>l10_seg2_glm</td></tr>\n",
       "\t<tr><th scope=row>6</th><td>funalibaba sg      </td><td>China</td><td>1</td><td>   16</td><td>0.0625000</td><td>1</td><td>6.250000e-02</td><td>1</td><td>  1</td><td>  1.000000</td><td>  0</td><td>  0.000000</td><td>       NaN</td><td>      NaN</td><td>4</td><td>13</td><td>7.375000</td><td> 9</td><td>2.604483</td><td>0.3561975</td><td>-0.8500916</td><td>0.24</td><td> 13.58</td><td>4.647500</td><td> 13.34</td><td>⋯</td><td>10</td><td>0.05</td><td>0.05</td><td>0.95</td><td>0.85</td><td>0.55</td><td>0.95</td><td>0</td><td>0</td><td>10</td><td>0</td><td>0</td><td>10</td><td>0.05</td><td>0.05</td><td>0.95</td><td>0.85</td><td>0.55</td><td>0.95</td><td>auc_agg_rf_fb  </td><td>l10_agg_rf_fb  </td><td>auc_agg_glm </td><td>l10_agg_glm </td><td>auc_seg2_glm</td><td>l10_seg2_glm</td></tr>\n",
       "</tbody>\n",
       "</table>\n"
      ],
      "text/latex": [
       "A data.frame: 6 × 76\n",
       "\\begin{tabular}{r|lllllllllllllllllllllllllllllllllllllllllllllllllll}\n",
       "  & tld\\_registrar\\_index & geo\\_maj & geo\\_cnt & n & ren\\_prp & tld\\_cnt & tld\\_rat & daydom\\_min & daydom\\_max & daydom\\_mean & daydom\\_rng & daydom\\_std & daydom\\_skew & daydom\\_kurt & sldlen\\_min & sldlen\\_max & sldlen\\_mean & sldlen\\_rng & sldlen\\_std & sldlen\\_skew & sldlen\\_kurt & gibbs\\_min & gibbs\\_max & gibbs\\_mean & gibbs\\_rng & ⋯ & l10\\_agg\\_rf & auc\\_seg2\\_glm & auc\\_seg\\_glm & auc\\_agg\\_glm & auc\\_seg2\\_rf & auc\\_seg\\_rf & auc\\_agg\\_rf & l10\\_seg2\\_glm\\_fb & l10\\_seg\\_glm\\_fb & l10\\_agg\\_glm\\_fb & l10\\_seg2\\_rf\\_fb & l10\\_seg\\_rf\\_fb & l10\\_agg\\_rf\\_fb & auc\\_seg2\\_glm\\_fb & auc\\_seg\\_glm\\_fb & auc\\_agg\\_glm\\_fb & auc\\_seg2\\_rf\\_fb & auc\\_seg\\_rf\\_fb & auc\\_agg\\_rf\\_fb & auc\\_win\\_01 & l10\\_win\\_01 & auc\\_win\\_02 & l10\\_win\\_02 & auc\\_win\\_03 & l10\\_win\\_03\\\\\n",
       "  & <chr> & <fct> & <int> & <int> & <dbl> & <int> & <dbl> & <int> & <int> & <dbl> & <int> & <dbl> & <dbl> & <dbl> & <int> & <int> & <dbl> & <int> & <dbl> & <dbl> & <dbl> & <dbl> & <dbl> & <dbl> & <dbl> & ⋯ & <list> & <list> & <list> & <list> & <list> & <list> & <list> & <list> & <list> & <list> & <list> & <list> & <list> & <list> & <list> & <list> & <list> & <list> & <list> & <chr> & <chr> & <chr> & <chr> & <chr> & <chr>\\\\\n",
       "\\hline\n",
       "\t1 & fun1\\&1 internet     & EU    & 1 &     2 & 1.0000000 & 1 & 5.000000e-01 & 1 &   1 &   1.000000 &   0 &   0.000000 &        NaN &       NaN & 6 &  9 & 7.500000 &  3 & 2.121320 & 0.0000000 & -2.7500000 & 2.23 &   3.45 & 2.840000 &   1.22 & ⋯ & 5 & 0.6 & 0.6 & 0.6 & 0.6 & 0.6 & 0.6 & 5 & 5 & 5 & 5 & 5 & 5 & 0.6 & 0.6 & 0.6 & 0.6 & 0.6 & 0.6 & auc\\_seg2\\_glm\\_fb & l10\\_seg2\\_glm\\_fb & auc\\_seg2\\_glm & l10\\_seg2\\_glm & auc\\_seg2\\_glm & l10\\_seg2\\_glm\\\\\n",
       "\t2 & fun10dencehispahard & EU    & 1 &     2 & 0.0000000 & 1 & 5.000000e-01 & 1 &   1 &   1.000000 &   0 &   0.000000 &        NaN &       NaN & 6 &  8 & 7.000000 &  2 & 1.414214 & 0.0000000 & -2.7500000 & 3.13 &   8.62 & 5.875000 &   5.49 & ⋯ & NaN & NaN & NaN & NaN & NaN & NaN & NaN & NaN & NaN & NaN & NaN & NaN & NaN & NaN & NaN & NaN & NaN & NaN & NaN & NA              & NA              & NA           & NA           & NA           & NA          \\\\\n",
       "\t3 & fun1api             & EU    & 1 &     2 & 0.5000000 & 1 & 5.000000e-01 & 1 &   1 &   1.000000 &   0 &   0.000000 &        NaN &       NaN & 7 &  7 & 7.000000 &  0 & 0.000000 &       NaN &        NaN & 4.51 &   6.09 & 5.300000 &   1.58 & ⋯ & 0 & 0.25 & 0.25 & 0.25 & 0.95 & 0.95 & 0.25 & 0 & 0 & 0 & 10 & 10 & 0 & 0.25 & 0.25 & 0.25 & 0.95 & 0.95 & 0.25 & auc\\_seg2\\_glm\\_fb & l10\\_seg2\\_glm\\_fb & auc\\_seg2\\_rf  & l10\\_seg2\\_rf  & auc\\_seg2\\_glm & l10\\_seg2\\_glm\\\\\n",
       "\t4 & funactive 24        & EU    & 1 &    22 & 0.2272727 & 1 & 4.545455e-02 & 1 &   3 &   2.090909 &   2 &   1.019294 & -0.1702685 & -2.058471 & 4 & 14 & 7.363636 & 10 & 2.498484 & 0.8100072 &  0.4123014 & 0.59 & 100.00 & 9.425000 &  99.41 & ⋯ & 2 & 0.45 & 0.35 & 0.49 & 0.57 & 0.59 & 0.63 & 0 & 0 & 0 & 2 & 2 & 2 & 0.45 & 0.35 & 0.49 & 0.57 & 0.59 & 0.63 & auc\\_agg\\_rf\\_fb   & l10\\_agg\\_rf\\_fb   & auc\\_agg\\_rf   & l10\\_seg2\\_rf  & auc\\_seg2\\_glm & l10\\_seg2\\_glm\\\\\n",
       "\t5 & funalibaba          & China & 1 & 18208 & 0.0118080 & 1 & 5.492091e-05 & 1 & 705 & 219.892025 & 704 & 156.107008 &  1.5055591 &  2.301106 & 3 & 38 & 6.956832 & 35 & 3.311960 & 2.9556282 & 13.5354533 & 0.00 & 100.00 & 6.320069 & 100.00 & ⋯ & 6.186047 & 0.8262791 & 0.8425581 & 0.8513953 & 0.8769767 & 0.877907 & 0.8793023 & 4.883721 & 5.302326 & 5.023256 & 5.813953 & 6 & 6.186047 & 0.8262791 & 0.8425581 & 0.8513953 & 0.8769767 & 0.877907 & 0.8793023 & auc\\_agg\\_rf\\_fb   & l10\\_agg\\_rf\\_fb   & auc\\_agg\\_rf   & l10\\_agg\\_rf   & auc\\_seg2\\_glm & l10\\_seg2\\_glm\\\\\n",
       "\t6 & funalibaba sg       & China & 1 &    16 & 0.0625000 & 1 & 6.250000e-02 & 1 &   1 &   1.000000 &   0 &   0.000000 &        NaN &       NaN & 4 & 13 & 7.375000 &  9 & 2.604483 & 0.3561975 & -0.8500916 & 0.24 &  13.58 & 4.647500 &  13.34 & ⋯ & 10 & 0.05 & 0.05 & 0.95 & 0.85 & 0.55 & 0.95 & 0 & 0 & 10 & 0 & 0 & 10 & 0.05 & 0.05 & 0.95 & 0.85 & 0.55 & 0.95 & auc\\_agg\\_rf\\_fb   & l10\\_agg\\_rf\\_fb   & auc\\_agg\\_glm  & l10\\_agg\\_glm  & auc\\_seg2\\_glm & l10\\_seg2\\_glm\\\\\n",
       "\\end{tabular}\n"
      ],
      "text/markdown": [
       "\n",
       "A data.frame: 6 × 76\n",
       "\n",
       "| <!--/--> | tld_registrar_index &lt;chr&gt; | geo_maj &lt;fct&gt; | geo_cnt &lt;int&gt; | n &lt;int&gt; | ren_prp &lt;dbl&gt; | tld_cnt &lt;int&gt; | tld_rat &lt;dbl&gt; | daydom_min &lt;int&gt; | daydom_max &lt;int&gt; | daydom_mean &lt;dbl&gt; | daydom_rng &lt;int&gt; | daydom_std &lt;dbl&gt; | daydom_skew &lt;dbl&gt; | daydom_kurt &lt;dbl&gt; | sldlen_min &lt;int&gt; | sldlen_max &lt;int&gt; | sldlen_mean &lt;dbl&gt; | sldlen_rng &lt;int&gt; | sldlen_std &lt;dbl&gt; | sldlen_skew &lt;dbl&gt; | sldlen_kurt &lt;dbl&gt; | gibbs_min &lt;dbl&gt; | gibbs_max &lt;dbl&gt; | gibbs_mean &lt;dbl&gt; | gibbs_rng &lt;dbl&gt; | ⋯ ⋯ | l10_agg_rf &lt;list&gt; | auc_seg2_glm &lt;list&gt; | auc_seg_glm &lt;list&gt; | auc_agg_glm &lt;list&gt; | auc_seg2_rf &lt;list&gt; | auc_seg_rf &lt;list&gt; | auc_agg_rf &lt;list&gt; | l10_seg2_glm_fb &lt;list&gt; | l10_seg_glm_fb &lt;list&gt; | l10_agg_glm_fb &lt;list&gt; | l10_seg2_rf_fb &lt;list&gt; | l10_seg_rf_fb &lt;list&gt; | l10_agg_rf_fb &lt;list&gt; | auc_seg2_glm_fb &lt;list&gt; | auc_seg_glm_fb &lt;list&gt; | auc_agg_glm_fb &lt;list&gt; | auc_seg2_rf_fb &lt;list&gt; | auc_seg_rf_fb &lt;list&gt; | auc_agg_rf_fb &lt;list&gt; | auc_win_01 &lt;chr&gt; | l10_win_01 &lt;chr&gt; | auc_win_02 &lt;chr&gt; | l10_win_02 &lt;chr&gt; | auc_win_03 &lt;chr&gt; | l10_win_03 &lt;chr&gt; |\n",
       "|---|---|---|---|---|---|---|---|---|---|---|---|---|---|---|---|---|---|---|---|---|---|---|---|---|---|---|---|---|---|---|---|---|---|---|---|---|---|---|---|---|---|---|---|---|---|---|---|---|---|---|---|\n",
       "| 1 | fun1&amp;1 internet     | EU    | 1 |     2 | 1.0000000 | 1 | 5.000000e-01 | 1 |   1 |   1.000000 |   0 |   0.000000 |        NaN |       NaN | 6 |  9 | 7.500000 |  3 | 2.121320 | 0.0000000 | -2.7500000 | 2.23 |   3.45 | 2.840000 |   1.22 | ⋯ | 5 | 0.6 | 0.6 | 0.6 | 0.6 | 0.6 | 0.6 | 5 | 5 | 5 | 5 | 5 | 5 | 0.6 | 0.6 | 0.6 | 0.6 | 0.6 | 0.6 | auc_seg2_glm_fb | l10_seg2_glm_fb | auc_seg2_glm | l10_seg2_glm | auc_seg2_glm | l10_seg2_glm |\n",
       "| 2 | fun10dencehispahard | EU    | 1 |     2 | 0.0000000 | 1 | 5.000000e-01 | 1 |   1 |   1.000000 |   0 |   0.000000 |        NaN |       NaN | 6 |  8 | 7.000000 |  2 | 1.414214 | 0.0000000 | -2.7500000 | 3.13 |   8.62 | 5.875000 |   5.49 | ⋯ | NaN | NaN | NaN | NaN | NaN | NaN | NaN | NaN | NaN | NaN | NaN | NaN | NaN | NaN | NaN | NaN | NaN | NaN | NaN | NA              | NA              | NA           | NA           | NA           | NA           |\n",
       "| 3 | fun1api             | EU    | 1 |     2 | 0.5000000 | 1 | 5.000000e-01 | 1 |   1 |   1.000000 |   0 |   0.000000 |        NaN |       NaN | 7 |  7 | 7.000000 |  0 | 0.000000 |       NaN |        NaN | 4.51 |   6.09 | 5.300000 |   1.58 | ⋯ | 0 | 0.25 | 0.25 | 0.25 | 0.95 | 0.95 | 0.25 | 0 | 0 | 0 | 10 | 10 | 0 | 0.25 | 0.25 | 0.25 | 0.95 | 0.95 | 0.25 | auc_seg2_glm_fb | l10_seg2_glm_fb | auc_seg2_rf  | l10_seg2_rf  | auc_seg2_glm | l10_seg2_glm |\n",
       "| 4 | funactive 24        | EU    | 1 |    22 | 0.2272727 | 1 | 4.545455e-02 | 1 |   3 |   2.090909 |   2 |   1.019294 | -0.1702685 | -2.058471 | 4 | 14 | 7.363636 | 10 | 2.498484 | 0.8100072 |  0.4123014 | 0.59 | 100.00 | 9.425000 |  99.41 | ⋯ | 2 | 0.45 | 0.35 | 0.49 | 0.57 | 0.59 | 0.63 | 0 | 0 | 0 | 2 | 2 | 2 | 0.45 | 0.35 | 0.49 | 0.57 | 0.59 | 0.63 | auc_agg_rf_fb   | l10_agg_rf_fb   | auc_agg_rf   | l10_seg2_rf  | auc_seg2_glm | l10_seg2_glm |\n",
       "| 5 | funalibaba          | China | 1 | 18208 | 0.0118080 | 1 | 5.492091e-05 | 1 | 705 | 219.892025 | 704 | 156.107008 |  1.5055591 |  2.301106 | 3 | 38 | 6.956832 | 35 | 3.311960 | 2.9556282 | 13.5354533 | 0.00 | 100.00 | 6.320069 | 100.00 | ⋯ | 6.186047 | 0.8262791 | 0.8425581 | 0.8513953 | 0.8769767 | 0.877907 | 0.8793023 | 4.883721 | 5.302326 | 5.023256 | 5.813953 | 6 | 6.186047 | 0.8262791 | 0.8425581 | 0.8513953 | 0.8769767 | 0.877907 | 0.8793023 | auc_agg_rf_fb   | l10_agg_rf_fb   | auc_agg_rf   | l10_agg_rf   | auc_seg2_glm | l10_seg2_glm |\n",
       "| 6 | funalibaba sg       | China | 1 |    16 | 0.0625000 | 1 | 6.250000e-02 | 1 |   1 |   1.000000 |   0 |   0.000000 |        NaN |       NaN | 4 | 13 | 7.375000 |  9 | 2.604483 | 0.3561975 | -0.8500916 | 0.24 |  13.58 | 4.647500 |  13.34 | ⋯ | 10 | 0.05 | 0.05 | 0.95 | 0.85 | 0.55 | 0.95 | 0 | 0 | 10 | 0 | 0 | 10 | 0.05 | 0.05 | 0.95 | 0.85 | 0.55 | 0.95 | auc_agg_rf_fb   | l10_agg_rf_fb   | auc_agg_glm  | l10_agg_glm  | auc_seg2_glm | l10_seg2_glm |\n",
       "\n"
      ],
      "text/plain": [
       "  tld_registrar_index geo_maj geo_cnt n     ren_prp   tld_cnt tld_rat     \n",
       "1 fun1&1 internet     EU      1           2 1.0000000 1       5.000000e-01\n",
       "2 fun10dencehispahard EU      1           2 0.0000000 1       5.000000e-01\n",
       "3 fun1api             EU      1           2 0.5000000 1       5.000000e-01\n",
       "4 funactive 24        EU      1          22 0.2272727 1       4.545455e-02\n",
       "5 funalibaba          China   1       18208 0.0118080 1       5.492091e-05\n",
       "6 funalibaba sg       China   1          16 0.0625000 1       6.250000e-02\n",
       "  daydom_min daydom_max daydom_mean daydom_rng daydom_std daydom_skew\n",
       "1 1            1          1.000000    0          0.000000        NaN \n",
       "2 1            1          1.000000    0          0.000000        NaN \n",
       "3 1            1          1.000000    0          0.000000        NaN \n",
       "4 1            3          2.090909    2          1.019294 -0.1702685 \n",
       "5 1          705        219.892025  704        156.107008  1.5055591 \n",
       "6 1            1          1.000000    0          0.000000        NaN \n",
       "  daydom_kurt sldlen_min sldlen_max sldlen_mean sldlen_rng sldlen_std\n",
       "1       NaN   6           9         7.500000     3         2.121320  \n",
       "2       NaN   6           8         7.000000     2         1.414214  \n",
       "3       NaN   7           7         7.000000     0         0.000000  \n",
       "4 -2.058471   4          14         7.363636    10         2.498484  \n",
       "5  2.301106   3          38         6.956832    35         3.311960  \n",
       "6       NaN   4          13         7.375000     9         2.604483  \n",
       "  sldlen_skew sldlen_kurt gibbs_min gibbs_max gibbs_mean gibbs_rng ⋯ l10_agg_rf\n",
       "1 0.0000000   -2.7500000  2.23        3.45    2.840000     1.22    ⋯ 5         \n",
       "2 0.0000000   -2.7500000  3.13        8.62    5.875000     5.49    ⋯ NaN       \n",
       "3       NaN          NaN  4.51        6.09    5.300000     1.58    ⋯ 0         \n",
       "4 0.8100072    0.4123014  0.59      100.00    9.425000    99.41    ⋯ 2         \n",
       "5 2.9556282   13.5354533  0.00      100.00    6.320069   100.00    ⋯ 6.186047  \n",
       "6 0.3561975   -0.8500916  0.24       13.58    4.647500    13.34    ⋯ 10        \n",
       "  auc_seg2_glm auc_seg_glm auc_agg_glm auc_seg2_rf auc_seg_rf auc_agg_rf\n",
       "1 0.6          0.6         0.6         0.6         0.6        0.6       \n",
       "2 NaN          NaN         NaN         NaN         NaN        NaN       \n",
       "3 0.25         0.25        0.25        0.95        0.95       0.25      \n",
       "4 0.45         0.35        0.49        0.57        0.59       0.63      \n",
       "5 0.8262791    0.8425581   0.8513953   0.8769767   0.877907   0.8793023 \n",
       "6 0.05         0.05        0.95        0.85        0.55       0.95      \n",
       "  l10_seg2_glm_fb l10_seg_glm_fb l10_agg_glm_fb l10_seg2_rf_fb l10_seg_rf_fb\n",
       "1 5               5              5              5              5            \n",
       "2 NaN             NaN            NaN            NaN            NaN          \n",
       "3 0               0              0              10             10           \n",
       "4 0               0              0              2              2            \n",
       "5 4.883721        5.302326       5.023256       5.813953       6            \n",
       "6 0               0              10             0              0            \n",
       "  l10_agg_rf_fb auc_seg2_glm_fb auc_seg_glm_fb auc_agg_glm_fb auc_seg2_rf_fb\n",
       "1 5             0.6             0.6            0.6            0.6           \n",
       "2 NaN           NaN             NaN            NaN            NaN           \n",
       "3 0             0.25            0.25           0.25           0.95          \n",
       "4 2             0.45            0.35           0.49           0.57          \n",
       "5 6.186047      0.8262791       0.8425581      0.8513953      0.8769767     \n",
       "6 10            0.05            0.05           0.95           0.85          \n",
       "  auc_seg_rf_fb auc_agg_rf_fb auc_win_01      l10_win_01      auc_win_02  \n",
       "1 0.6           0.6           auc_seg2_glm_fb l10_seg2_glm_fb auc_seg2_glm\n",
       "2 NaN           NaN           NA              NA              NA          \n",
       "3 0.95          0.25          auc_seg2_glm_fb l10_seg2_glm_fb auc_seg2_rf \n",
       "4 0.59          0.63          auc_agg_rf_fb   l10_agg_rf_fb   auc_agg_rf  \n",
       "5 0.877907      0.8793023     auc_agg_rf_fb   l10_agg_rf_fb   auc_agg_rf  \n",
       "6 0.55          0.95          auc_agg_rf_fb   l10_agg_rf_fb   auc_agg_glm \n",
       "  l10_win_02   auc_win_03   l10_win_03  \n",
       "1 l10_seg2_glm auc_seg2_glm l10_seg2_glm\n",
       "2 NA           NA           NA          \n",
       "3 l10_seg2_rf  auc_seg2_glm l10_seg2_glm\n",
       "4 l10_seg2_rf  auc_seg2_glm l10_seg2_glm\n",
       "5 l10_agg_rf   auc_seg2_glm l10_seg2_glm\n",
       "6 l10_agg_glm  auc_seg2_glm l10_seg2_glm"
      ]
     },
     "metadata": {},
     "output_type": "display_data"
    }
   ],
   "source": [
    "## test another auc_win and l10_win with just seg2_glm fallback and non fallback\n",
    "\n",
    "(auc_vars = grep('auc_seg2_glm', names(expiry_test_metametrics), value=TRUE))\n",
    "(l10_vars = grep('l10_seg2_glm', names(expiry_test_metametrics), value=TRUE))\n",
    "\n",
    "# (auc_vars = auc_vars[-grep(\"win\", auc_vars)])\n",
    "# (l10_vars = l10_vars[-grep(\"win\", l10_vars)])\n",
    "\n",
    "# auc_vars = c('auc_seg2_glm_fb','auc_agg_rf_fb')\n",
    "# l10_vars = c('l10_seg2_glm_fb','l10_agg_rf_fb')\n",
    "\n",
    "expiry_test_metametrics <- expiry_test_metametrics %>%\n",
    "    mutate (auc_win_03=sapply(apply(.[,c(auc_vars)], \n",
    "                          1, function(x) names(x)[which.max(x)]) , function(s) if (length(s) == 0) NA else paste(s, collapse = \" \")) ,\n",
    "            l10_win_03=sapply(apply(.[,c(l10_vars)], \n",
    "                          1, function(x) names(x)[which.max(x)]), function(s) if (length(s) == 0) NA else paste(s, collapse = \" \")) \n",
    "            ) \n",
    "                              \n",
    "head(expiry_test_metametrics)"
   ]
  },
  {
   "cell_type": "code",
   "execution_count": 89,
   "metadata": {},
   "outputs": [
    {
     "data": {
      "text/plain": [
       "\n",
       "   auc_seg2_glm auc_seg2_glm_fb \n",
       "           1085              13 "
      ]
     },
     "metadata": {},
     "output_type": "display_data"
    },
    {
     "data": {
      "text/plain": [
       "\n",
       "   l10_seg2_glm l10_seg2_glm_fb \n",
       "           1094               4 "
      ]
     },
     "metadata": {},
     "output_type": "display_data"
    }
   ],
   "source": [
    "table(expiry_test_metametrics$auc_win_03)\n",
    "table(expiry_test_metametrics$l10_win_03)"
   ]
  },
  {
   "cell_type": "code",
   "execution_count": 92,
   "metadata": {},
   "outputs": [
    {
     "data": {
      "text/html": [
       "<table>\n",
       "<caption>A data.frame: 13 × 4</caption>\n",
       "<thead>\n",
       "\t<tr><th scope=col>tld_registrar_index</th><th scope=col>n</th><th scope=col>auc_seg2_glm</th><th scope=col>auc_seg2_glm_fb</th></tr>\n",
       "\t<tr><th scope=col>&lt;chr&gt;</th><th scope=col>&lt;int&gt;</th><th scope=col>&lt;list&gt;</th><th scope=col>&lt;list&gt;</th></tr>\n",
       "</thead>\n",
       "<tbody>\n",
       "\t<tr><td>funeranet             </td><td>269</td><td>0.75</td><td>0.95</td></tr>\n",
       "\t<tr><td>onlinedomeneshop      </td><td> 18</td><td>0.57</td><td>0.59</td></tr>\n",
       "\t<tr><td>onlinehosting concepts</td><td> 20</td><td>0.4857143</td><td>0.4928571</td></tr>\n",
       "\t<tr><td>siteatak              </td><td> 26</td><td>0.45</td><td>0.55</td></tr>\n",
       "\t<tr><td>space1api             </td><td>  8</td><td>0.275</td><td>0.3</td></tr>\n",
       "\t<tr><td>spacemat bao          </td><td>  2</td><td>0.25</td><td>0.95</td></tr>\n",
       "\t<tr><td>storegandi sas        </td><td> 32</td><td>0.4166667</td><td>0.65</td></tr>\n",
       "\t<tr><td>storenamesco          </td><td> 25</td><td>0.4642857</td><td>0.5785714</td></tr>\n",
       "\t<tr><td>techaruba             </td><td>  7</td><td>0.55</td><td>0.5833333</td></tr>\n",
       "\t<tr><td>techdomainesia        </td><td>  9</td><td>0.15</td><td>0.55</td></tr>\n",
       "\t<tr><td>techmoniker           </td><td>  6</td><td>0.05</td><td>0.55</td></tr>\n",
       "\t<tr><td>websitechengdu west   </td><td> 19</td><td>0.3166667</td><td>0.4166667</td></tr>\n",
       "\t<tr><td>websiteporkbun        </td><td> 33</td><td>0.4666667</td><td>0.5333333</td></tr>\n",
       "</tbody>\n",
       "</table>\n"
      ],
      "text/latex": [
       "A data.frame: 13 × 4\n",
       "\\begin{tabular}{llll}\n",
       " tld\\_registrar\\_index & n & auc\\_seg2\\_glm & auc\\_seg2\\_glm\\_fb\\\\\n",
       " <chr> & <int> & <list> & <list>\\\\\n",
       "\\hline\n",
       "\t funeranet              & 269 & 0.75 & 0.95\\\\\n",
       "\t onlinedomeneshop       &  18 & 0.57 & 0.59\\\\\n",
       "\t onlinehosting concepts &  20 & 0.4857143 & 0.4928571\\\\\n",
       "\t siteatak               &  26 & 0.45 & 0.55\\\\\n",
       "\t space1api              &   8 & 0.275 & 0.3\\\\\n",
       "\t spacemat bao           &   2 & 0.25 & 0.95\\\\\n",
       "\t storegandi sas         &  32 & 0.4166667 & 0.65\\\\\n",
       "\t storenamesco           &  25 & 0.4642857 & 0.5785714\\\\\n",
       "\t techaruba              &   7 & 0.55 & 0.5833333\\\\\n",
       "\t techdomainesia         &   9 & 0.15 & 0.55\\\\\n",
       "\t techmoniker            &   6 & 0.05 & 0.55\\\\\n",
       "\t websitechengdu west    &  19 & 0.3166667 & 0.4166667\\\\\n",
       "\t websiteporkbun         &  33 & 0.4666667 & 0.5333333\\\\\n",
       "\\end{tabular}\n"
      ],
      "text/markdown": [
       "\n",
       "A data.frame: 13 × 4\n",
       "\n",
       "| tld_registrar_index &lt;chr&gt; | n &lt;int&gt; | auc_seg2_glm &lt;list&gt; | auc_seg2_glm_fb &lt;list&gt; |\n",
       "|---|---|---|---|\n",
       "| funeranet              | 269 | 0.75 | 0.95 |\n",
       "| onlinedomeneshop       |  18 | 0.57 | 0.59 |\n",
       "| onlinehosting concepts |  20 | 0.4857143 | 0.4928571 |\n",
       "| siteatak               |  26 | 0.45 | 0.55 |\n",
       "| space1api              |   8 | 0.275 | 0.3 |\n",
       "| spacemat bao           |   2 | 0.25 | 0.95 |\n",
       "| storegandi sas         |  32 | 0.4166667 | 0.65 |\n",
       "| storenamesco           |  25 | 0.4642857 | 0.5785714 |\n",
       "| techaruba              |   7 | 0.55 | 0.5833333 |\n",
       "| techdomainesia         |   9 | 0.15 | 0.55 |\n",
       "| techmoniker            |   6 | 0.05 | 0.55 |\n",
       "| websitechengdu west    |  19 | 0.3166667 | 0.4166667 |\n",
       "| websiteporkbun         |  33 | 0.4666667 | 0.5333333 |\n",
       "\n"
      ],
      "text/plain": [
       "   tld_registrar_index    n   auc_seg2_glm auc_seg2_glm_fb\n",
       "1  funeranet              269 0.75         0.95           \n",
       "2  onlinedomeneshop        18 0.57         0.59           \n",
       "3  onlinehosting concepts  20 0.4857143    0.4928571      \n",
       "4  siteatak                26 0.45         0.55           \n",
       "5  space1api                8 0.275        0.3            \n",
       "6  spacemat bao             2 0.25         0.95           \n",
       "7  storegandi sas          32 0.4166667    0.65           \n",
       "8  storenamesco            25 0.4642857    0.5785714      \n",
       "9  techaruba                7 0.55         0.5833333      \n",
       "10 techdomainesia           9 0.15         0.55           \n",
       "11 techmoniker              6 0.05         0.55           \n",
       "12 websitechengdu west     19 0.3166667    0.4166667      \n",
       "13 websiteporkbun          33 0.4666667    0.5333333      "
      ]
     },
     "metadata": {},
     "output_type": "display_data"
    },
    {
     "data": {
      "text/html": [
       "<table>\n",
       "<caption>A data.frame: 4 × 4</caption>\n",
       "<thead>\n",
       "\t<tr><th scope=col>tld_registrar_index</th><th scope=col>n</th><th scope=col>auc_seg2_glm</th><th scope=col>auc_seg2_glm_fb</th></tr>\n",
       "\t<tr><th scope=col>&lt;chr&gt;</th><th scope=col>&lt;int&gt;</th><th scope=col>&lt;list&gt;</th><th scope=col>&lt;list&gt;</th></tr>\n",
       "</thead>\n",
       "<tbody>\n",
       "\t<tr><td>funeranet     </td><td>269</td><td>0.75</td><td>0.95</td></tr>\n",
       "\t<tr><td>spacemat bao  </td><td>  2</td><td>0.25</td><td>0.95</td></tr>\n",
       "\t<tr><td>storenamesco  </td><td> 25</td><td>0.4642857</td><td>0.5785714</td></tr>\n",
       "\t<tr><td>techdomainesia</td><td>  9</td><td>0.15</td><td>0.55</td></tr>\n",
       "</tbody>\n",
       "</table>\n"
      ],
      "text/latex": [
       "A data.frame: 4 × 4\n",
       "\\begin{tabular}{llll}\n",
       " tld\\_registrar\\_index & n & auc\\_seg2\\_glm & auc\\_seg2\\_glm\\_fb\\\\\n",
       " <chr> & <int> & <list> & <list>\\\\\n",
       "\\hline\n",
       "\t funeranet      & 269 & 0.75 & 0.95\\\\\n",
       "\t spacemat bao   &   2 & 0.25 & 0.95\\\\\n",
       "\t storenamesco   &  25 & 0.4642857 & 0.5785714\\\\\n",
       "\t techdomainesia &   9 & 0.15 & 0.55\\\\\n",
       "\\end{tabular}\n"
      ],
      "text/markdown": [
       "\n",
       "A data.frame: 4 × 4\n",
       "\n",
       "| tld_registrar_index &lt;chr&gt; | n &lt;int&gt; | auc_seg2_glm &lt;list&gt; | auc_seg2_glm_fb &lt;list&gt; |\n",
       "|---|---|---|---|\n",
       "| funeranet      | 269 | 0.75 | 0.95 |\n",
       "| spacemat bao   |   2 | 0.25 | 0.95 |\n",
       "| storenamesco   |  25 | 0.4642857 | 0.5785714 |\n",
       "| techdomainesia |   9 | 0.15 | 0.55 |\n",
       "\n"
      ],
      "text/plain": [
       "  tld_registrar_index n   auc_seg2_glm auc_seg2_glm_fb\n",
       "1 funeranet           269 0.75         0.95           \n",
       "2 spacemat bao          2 0.25         0.95           \n",
       "3 storenamesco         25 0.4642857    0.5785714      \n",
       "4 techdomainesia        9 0.15         0.55           "
      ]
     },
     "metadata": {},
     "output_type": "display_data"
    }
   ],
   "source": [
    "# Interesting that in 3 (1) cases, the fallback version outperforms original version of seg2_glm\n",
    "# But these are all cases where the models tied and which.max simply picked the first index\n",
    "expiry_test_metametrics %>% filter(auc_win_03 == 'auc_seg2_glm_fb') %>% select(tld_registrar_index,n,auc_vars)\n",
    "expiry_test_metametrics %>% filter(l10_win_03 == 'l10_seg2_glm_fb') %>% select(tld_registrar_index,n,auc_vars)"
   ]
  },
  {
   "cell_type": "code",
   "execution_count": 110,
   "metadata": {},
   "outputs": [
    {
     "data": {
      "text/html": [
       "<style>\n",
       ".list-inline {list-style: none; margin:0; padding: 0}\n",
       ".list-inline>li {display: inline-block}\n",
       ".list-inline>li:not(:last-child)::after {content: \"\\00b7\"; padding: 0 .5ex}\n",
       "</style>\n",
       "<ol class=list-inline><li>'funeranet'</li><li>'onlinedomeneshop'</li><li>'onlinehosting concepts'</li><li>'siteatak'</li><li>'space1api'</li><li>'spacemat bao'</li><li>'storegandi sas'</li><li>'storenamesco'</li><li>'techaruba'</li><li>'techdomainesia'</li><li>'techmoniker'</li><li>'websitechengdu west'</li><li>'websiteporkbun'</li></ol>\n"
      ],
      "text/latex": [
       "\\begin{enumerate*}\n",
       "\\item 'funeranet'\n",
       "\\item 'onlinedomeneshop'\n",
       "\\item 'onlinehosting concepts'\n",
       "\\item 'siteatak'\n",
       "\\item 'space1api'\n",
       "\\item 'spacemat bao'\n",
       "\\item 'storegandi sas'\n",
       "\\item 'storenamesco'\n",
       "\\item 'techaruba'\n",
       "\\item 'techdomainesia'\n",
       "\\item 'techmoniker'\n",
       "\\item 'websitechengdu west'\n",
       "\\item 'websiteporkbun'\n",
       "\\end{enumerate*}\n"
      ],
      "text/markdown": [
       "1. 'funeranet'\n",
       "2. 'onlinedomeneshop'\n",
       "3. 'onlinehosting concepts'\n",
       "4. 'siteatak'\n",
       "5. 'space1api'\n",
       "6. 'spacemat bao'\n",
       "7. 'storegandi sas'\n",
       "8. 'storenamesco'\n",
       "9. 'techaruba'\n",
       "10. 'techdomainesia'\n",
       "11. 'techmoniker'\n",
       "12. 'websitechengdu west'\n",
       "13. 'websiteporkbun'\n",
       "\n",
       "\n"
      ],
      "text/plain": [
       " [1] \"funeranet\"              \"onlinedomeneshop\"       \"onlinehosting concepts\"\n",
       " [4] \"siteatak\"               \"space1api\"              \"spacemat bao\"          \n",
       " [7] \"storegandi sas\"         \"storenamesco\"           \"techaruba\"             \n",
       "[10] \"techdomainesia\"         \"techmoniker\"            \"websitechengdu west\"   \n",
       "[13] \"websiteporkbun\"        "
      ]
     },
     "metadata": {},
     "output_type": "display_data"
    },
    {
     "name": "stderr",
     "output_type": "stream",
     "text": [
      "`summarise()` regrouping output by 'tld_registrar_index' (override with `.groups` argument)\n",
      "\n"
     ]
    },
    {
     "data": {
      "text/html": [
       "<table>\n",
       "<caption>A grouped_df: 26 × 4</caption>\n",
       "<thead>\n",
       "\t<tr><th scope=col>tld_registrar_index</th><th scope=col>renewal_status</th><th scope=col>n</th><th scope=col>freq</th></tr>\n",
       "\t<tr><th scope=col>&lt;chr&gt;</th><th scope=col>&lt;fct&gt;</th><th scope=col>&lt;int&gt;</th><th scope=col>&lt;dbl&gt;</th></tr>\n",
       "</thead>\n",
       "<tbody>\n",
       "\t<tr><td>funeranet             </td><td>Renewed   </td><td>  1</td><td>0.003717472</td></tr>\n",
       "\t<tr><td>funeranet             </td><td>Not Renewd</td><td>268</td><td>0.996282528</td></tr>\n",
       "\t<tr><td>onlinedomeneshop      </td><td>Renewed   </td><td> 10</td><td>0.555555556</td></tr>\n",
       "\t<tr><td>onlinedomeneshop      </td><td>Not Renewd</td><td>  8</td><td>0.444444444</td></tr>\n",
       "\t<tr><td>onlinehosting concepts</td><td>Renewed   </td><td> 28</td><td>0.700000000</td></tr>\n",
       "\t<tr><td>onlinehosting concepts</td><td>Not Renewd</td><td> 12</td><td>0.300000000</td></tr>\n",
       "\t<tr><td>siteatak              </td><td>Renewed   </td><td>  4</td><td>0.153846154</td></tr>\n",
       "\t<tr><td>siteatak              </td><td>Not Renewd</td><td> 22</td><td>0.846153846</td></tr>\n",
       "\t<tr><td>space1api             </td><td>Renewed   </td><td>  4</td><td>0.500000000</td></tr>\n",
       "\t<tr><td>space1api             </td><td>Not Renewd</td><td>  4</td><td>0.500000000</td></tr>\n",
       "\t<tr><td>spacemat bao          </td><td>Renewed   </td><td>  1</td><td>0.500000000</td></tr>\n",
       "\t<tr><td>spacemat bao          </td><td>Not Renewd</td><td>  1</td><td>0.500000000</td></tr>\n",
       "\t<tr><td>storegandi sas        </td><td>Renewed   </td><td>  3</td><td>0.093750000</td></tr>\n",
       "\t<tr><td>storegandi sas        </td><td>Not Renewd</td><td> 29</td><td>0.906250000</td></tr>\n",
       "\t<tr><td>storenamesco          </td><td>Renewed   </td><td>  7</td><td>0.280000000</td></tr>\n",
       "\t<tr><td>storenamesco          </td><td>Not Renewd</td><td> 18</td><td>0.720000000</td></tr>\n",
       "\t<tr><td>techaruba             </td><td>Renewed   </td><td>  6</td><td>0.857142857</td></tr>\n",
       "\t<tr><td>techaruba             </td><td>Not Renewd</td><td>  1</td><td>0.142857143</td></tr>\n",
       "\t<tr><td>techdomainesia        </td><td>Renewed   </td><td>  2</td><td>0.222222222</td></tr>\n",
       "\t<tr><td>techdomainesia        </td><td>Not Renewd</td><td>  7</td><td>0.777777778</td></tr>\n",
       "\t<tr><td>techmoniker           </td><td>Renewed   </td><td>  1</td><td>0.166666667</td></tr>\n",
       "\t<tr><td>techmoniker           </td><td>Not Renewd</td><td>  5</td><td>0.833333333</td></tr>\n",
       "\t<tr><td>websitechengdu west   </td><td>Renewed   </td><td>  3</td><td>0.157894737</td></tr>\n",
       "\t<tr><td>websitechengdu west   </td><td>Not Renewd</td><td> 16</td><td>0.842105263</td></tr>\n",
       "\t<tr><td>websiteporkbun        </td><td>Renewed   </td><td>  6</td><td>0.181818182</td></tr>\n",
       "\t<tr><td>websiteporkbun        </td><td>Not Renewd</td><td> 27</td><td>0.818181818</td></tr>\n",
       "</tbody>\n",
       "</table>\n"
      ],
      "text/latex": [
       "A grouped\\_df: 26 × 4\n",
       "\\begin{tabular}{llll}\n",
       " tld\\_registrar\\_index & renewal\\_status & n & freq\\\\\n",
       " <chr> & <fct> & <int> & <dbl>\\\\\n",
       "\\hline\n",
       "\t funeranet              & Renewed    &   1 & 0.003717472\\\\\n",
       "\t funeranet              & Not Renewd & 268 & 0.996282528\\\\\n",
       "\t onlinedomeneshop       & Renewed    &  10 & 0.555555556\\\\\n",
       "\t onlinedomeneshop       & Not Renewd &   8 & 0.444444444\\\\\n",
       "\t onlinehosting concepts & Renewed    &  28 & 0.700000000\\\\\n",
       "\t onlinehosting concepts & Not Renewd &  12 & 0.300000000\\\\\n",
       "\t siteatak               & Renewed    &   4 & 0.153846154\\\\\n",
       "\t siteatak               & Not Renewd &  22 & 0.846153846\\\\\n",
       "\t space1api              & Renewed    &   4 & 0.500000000\\\\\n",
       "\t space1api              & Not Renewd &   4 & 0.500000000\\\\\n",
       "\t spacemat bao           & Renewed    &   1 & 0.500000000\\\\\n",
       "\t spacemat bao           & Not Renewd &   1 & 0.500000000\\\\\n",
       "\t storegandi sas         & Renewed    &   3 & 0.093750000\\\\\n",
       "\t storegandi sas         & Not Renewd &  29 & 0.906250000\\\\\n",
       "\t storenamesco           & Renewed    &   7 & 0.280000000\\\\\n",
       "\t storenamesco           & Not Renewd &  18 & 0.720000000\\\\\n",
       "\t techaruba              & Renewed    &   6 & 0.857142857\\\\\n",
       "\t techaruba              & Not Renewd &   1 & 0.142857143\\\\\n",
       "\t techdomainesia         & Renewed    &   2 & 0.222222222\\\\\n",
       "\t techdomainesia         & Not Renewd &   7 & 0.777777778\\\\\n",
       "\t techmoniker            & Renewed    &   1 & 0.166666667\\\\\n",
       "\t techmoniker            & Not Renewd &   5 & 0.833333333\\\\\n",
       "\t websitechengdu west    & Renewed    &   3 & 0.157894737\\\\\n",
       "\t websitechengdu west    & Not Renewd &  16 & 0.842105263\\\\\n",
       "\t websiteporkbun         & Renewed    &   6 & 0.181818182\\\\\n",
       "\t websiteporkbun         & Not Renewd &  27 & 0.818181818\\\\\n",
       "\\end{tabular}\n"
      ],
      "text/markdown": [
       "\n",
       "A grouped_df: 26 × 4\n",
       "\n",
       "| tld_registrar_index &lt;chr&gt; | renewal_status &lt;fct&gt; | n &lt;int&gt; | freq &lt;dbl&gt; |\n",
       "|---|---|---|---|\n",
       "| funeranet              | Renewed    |   1 | 0.003717472 |\n",
       "| funeranet              | Not Renewd | 268 | 0.996282528 |\n",
       "| onlinedomeneshop       | Renewed    |  10 | 0.555555556 |\n",
       "| onlinedomeneshop       | Not Renewd |   8 | 0.444444444 |\n",
       "| onlinehosting concepts | Renewed    |  28 | 0.700000000 |\n",
       "| onlinehosting concepts | Not Renewd |  12 | 0.300000000 |\n",
       "| siteatak               | Renewed    |   4 | 0.153846154 |\n",
       "| siteatak               | Not Renewd |  22 | 0.846153846 |\n",
       "| space1api              | Renewed    |   4 | 0.500000000 |\n",
       "| space1api              | Not Renewd |   4 | 0.500000000 |\n",
       "| spacemat bao           | Renewed    |   1 | 0.500000000 |\n",
       "| spacemat bao           | Not Renewd |   1 | 0.500000000 |\n",
       "| storegandi sas         | Renewed    |   3 | 0.093750000 |\n",
       "| storegandi sas         | Not Renewd |  29 | 0.906250000 |\n",
       "| storenamesco           | Renewed    |   7 | 0.280000000 |\n",
       "| storenamesco           | Not Renewd |  18 | 0.720000000 |\n",
       "| techaruba              | Renewed    |   6 | 0.857142857 |\n",
       "| techaruba              | Not Renewd |   1 | 0.142857143 |\n",
       "| techdomainesia         | Renewed    |   2 | 0.222222222 |\n",
       "| techdomainesia         | Not Renewd |   7 | 0.777777778 |\n",
       "| techmoniker            | Renewed    |   1 | 0.166666667 |\n",
       "| techmoniker            | Not Renewd |   5 | 0.833333333 |\n",
       "| websitechengdu west    | Renewed    |   3 | 0.157894737 |\n",
       "| websitechengdu west    | Not Renewd |  16 | 0.842105263 |\n",
       "| websiteporkbun         | Renewed    |   6 | 0.181818182 |\n",
       "| websiteporkbun         | Not Renewd |  27 | 0.818181818 |\n",
       "\n"
      ],
      "text/plain": [
       "   tld_registrar_index    renewal_status n   freq       \n",
       "1  funeranet              Renewed          1 0.003717472\n",
       "2  funeranet              Not Renewd     268 0.996282528\n",
       "3  onlinedomeneshop       Renewed         10 0.555555556\n",
       "4  onlinedomeneshop       Not Renewd       8 0.444444444\n",
       "5  onlinehosting concepts Renewed         28 0.700000000\n",
       "6  onlinehosting concepts Not Renewd      12 0.300000000\n",
       "7  siteatak               Renewed          4 0.153846154\n",
       "8  siteatak               Not Renewd      22 0.846153846\n",
       "9  space1api              Renewed          4 0.500000000\n",
       "10 space1api              Not Renewd       4 0.500000000\n",
       "11 spacemat bao           Renewed          1 0.500000000\n",
       "12 spacemat bao           Not Renewd       1 0.500000000\n",
       "13 storegandi sas         Renewed          3 0.093750000\n",
       "14 storegandi sas         Not Renewd      29 0.906250000\n",
       "15 storenamesco           Renewed          7 0.280000000\n",
       "16 storenamesco           Not Renewd      18 0.720000000\n",
       "17 techaruba              Renewed          6 0.857142857\n",
       "18 techaruba              Not Renewd       1 0.142857143\n",
       "19 techdomainesia         Renewed          2 0.222222222\n",
       "20 techdomainesia         Not Renewd       7 0.777777778\n",
       "21 techmoniker            Renewed          1 0.166666667\n",
       "22 techmoniker            Not Renewd       5 0.833333333\n",
       "23 websitechengdu west    Renewed          3 0.157894737\n",
       "24 websitechengdu west    Not Renewd      16 0.842105263\n",
       "25 websiteporkbun         Renewed          6 0.181818182\n",
       "26 websiteporkbun         Not Renewd      27 0.818181818"
      ]
     },
     "metadata": {},
     "output_type": "display_data"
    }
   ],
   "source": [
    "# examine renewal_status dist and NAs for these tld-reg\n",
    "\n",
    "(tld_regs <- c( expiry_test_metametrics %>% \n",
    "    filter(auc_win_03 == 'auc_seg2_glm_fb') %>% \n",
    "    pull(tld_registrar_index), \n",
    "              expiry_test_metametrics %>% \n",
    "    filter(auc_win_03 == 'l10_seg2_glm_fb') %>% \n",
    "    pull(tld_registrar_index)))\n",
    "\n",
    "# all have both renewed and not renewed domains\n",
    "expiry_test_predictions %>% \n",
    "  filter(tld_registrar_index %in% tld_regs) %>% \n",
    "  select(tld_registrar_index, renewal_status, pred_df_seg2_glm, pred_df_seg2_glm_fb) %>% \n",
    "  group_by(tld_registrar_index, renewal_status) %>% \n",
    "     summarise(n = n())%>%\n",
    "     mutate(freq = n / sum(n))"
   ]
  },
  {
   "cell_type": "code",
   "execution_count": 113,
   "metadata": {},
   "outputs": [
    {
     "name": "stderr",
     "output_type": "stream",
     "text": [
      "Adding missing grouping variables: `tld_registrar_index`\n",
      "\n"
     ]
    },
    {
     "data": {
      "text/html": [
       "<table>\n",
       "<caption>A tibble: 13 × 2</caption>\n",
       "<thead>\n",
       "\t<tr><th scope=col>tld_registrar_index</th><th scope=col>pred_df_seg2_glm</th></tr>\n",
       "\t<tr><th scope=col>&lt;chr&gt;</th><th scope=col>&lt;int&gt;</th></tr>\n",
       "</thead>\n",
       "<tbody>\n",
       "\t<tr><td>funeranet             </td><td>269</td></tr>\n",
       "\t<tr><td>onlinedomeneshop      </td><td>  1</td></tr>\n",
       "\t<tr><td>onlinehosting concepts</td><td>  2</td></tr>\n",
       "\t<tr><td>siteatak              </td><td>  1</td></tr>\n",
       "\t<tr><td>space1api             </td><td>  1</td></tr>\n",
       "\t<tr><td>spacemat bao          </td><td>  2</td></tr>\n",
       "\t<tr><td>storegandi sas        </td><td>  2</td></tr>\n",
       "\t<tr><td>storenamesco          </td><td>  1</td></tr>\n",
       "\t<tr><td>techaruba             </td><td>  1</td></tr>\n",
       "\t<tr><td>techdomainesia        </td><td>  1</td></tr>\n",
       "\t<tr><td>techmoniker           </td><td>  1</td></tr>\n",
       "\t<tr><td>websitechengdu west   </td><td>  1</td></tr>\n",
       "\t<tr><td>websiteporkbun        </td><td>  1</td></tr>\n",
       "</tbody>\n",
       "</table>\n"
      ],
      "text/latex": [
       "A tibble: 13 × 2\n",
       "\\begin{tabular}{ll}\n",
       " tld\\_registrar\\_index & pred\\_df\\_seg2\\_glm\\\\\n",
       " <chr> & <int>\\\\\n",
       "\\hline\n",
       "\t funeranet              & 269\\\\\n",
       "\t onlinedomeneshop       &   1\\\\\n",
       "\t onlinehosting concepts &   2\\\\\n",
       "\t siteatak               &   1\\\\\n",
       "\t space1api              &   1\\\\\n",
       "\t spacemat bao           &   2\\\\\n",
       "\t storegandi sas         &   2\\\\\n",
       "\t storenamesco           &   1\\\\\n",
       "\t techaruba              &   1\\\\\n",
       "\t techdomainesia         &   1\\\\\n",
       "\t techmoniker            &   1\\\\\n",
       "\t websitechengdu west    &   1\\\\\n",
       "\t websiteporkbun         &   1\\\\\n",
       "\\end{tabular}\n"
      ],
      "text/markdown": [
       "\n",
       "A tibble: 13 × 2\n",
       "\n",
       "| tld_registrar_index &lt;chr&gt; | pred_df_seg2_glm &lt;int&gt; |\n",
       "|---|---|\n",
       "| funeranet              | 269 |\n",
       "| onlinedomeneshop       |   1 |\n",
       "| onlinehosting concepts |   2 |\n",
       "| siteatak               |   1 |\n",
       "| space1api              |   1 |\n",
       "| spacemat bao           |   2 |\n",
       "| storegandi sas         |   2 |\n",
       "| storenamesco           |   1 |\n",
       "| techaruba              |   1 |\n",
       "| techdomainesia         |   1 |\n",
       "| techmoniker            |   1 |\n",
       "| websitechengdu west    |   1 |\n",
       "| websiteporkbun         |   1 |\n",
       "\n"
      ],
      "text/plain": [
       "   tld_registrar_index    pred_df_seg2_glm\n",
       "1  funeranet              269             \n",
       "2  onlinedomeneshop         1             \n",
       "3  onlinehosting concepts   2             \n",
       "4  siteatak                 1             \n",
       "5  space1api                1             \n",
       "6  spacemat bao             2             \n",
       "7  storegandi sas           2             \n",
       "8  storenamesco             1             \n",
       "9  techaruba                1             \n",
       "10 techdomainesia           1             \n",
       "11 techmoniker              1             \n",
       "12 websitechengdu west      1             \n",
       "13 websiteporkbun           1             "
      ]
     },
     "metadata": {},
     "output_type": "display_data"
    }
   ],
   "source": [
    "expiry_test_predictions %>% \n",
    "  filter(tld_registrar_index %in% tld_regs) %>% \n",
    "  select(tld_registrar_index, renewal_status, pred_df_seg2_glm, pred_df_seg2_glm_fb) %>% \n",
    "  group_by(tld_registrar_index) %>% \n",
    "  select(pred_df_seg2_glm) %>%  # replace to your needs\n",
    "  summarise_all(funs(sum(is.na(.))))"
   ]
  },
  {
   "cell_type": "code",
   "execution_count": 115,
   "metadata": {},
   "outputs": [
    {
     "data": {
      "text/html": [
       "<table>\n",
       "<caption>A data.frame: 18 × 5</caption>\n",
       "<thead>\n",
       "\t<tr><th scope=col>tld_registrar_index</th><th scope=col>domain</th><th scope=col>renewal_status</th><th scope=col>pred_df_seg2_glm</th><th scope=col>pred_df_seg2_glm_fb</th></tr>\n",
       "\t<tr><th scope=col>&lt;chr&gt;</th><th scope=col>&lt;chr&gt;</th><th scope=col>&lt;fct&gt;</th><th scope=col>&lt;dbl&gt;</th><th scope=col>&lt;dbl&gt;</th></tr>\n",
       "</thead>\n",
       "<tbody>\n",
       "\t<tr><td>onlinedomeneshop</td><td>panto.online                 </td><td>Renewed   </td><td>0.8909751</td><td>0.8909751</td></tr>\n",
       "\t<tr><td>onlinedomeneshop</td><td>matre.online                 </td><td>Renewed   </td><td>0.9352077</td><td>0.9352077</td></tr>\n",
       "\t<tr><td>onlinedomeneshop</td><td>schul-cloud.online           </td><td>Renewed   </td><td>       NA</td><td>0.5650000</td></tr>\n",
       "\t<tr><td>onlinedomeneshop</td><td>azolver.online               </td><td>Renewed   </td><td>0.3580406</td><td>0.3580406</td></tr>\n",
       "\t<tr><td>onlinedomeneshop</td><td>medienentwicklungsplan.online</td><td>Renewed   </td><td>0.5741215</td><td>0.5741215</td></tr>\n",
       "\t<tr><td>onlinedomeneshop</td><td>feriemarked.online           </td><td>Not Renewd</td><td>0.6173856</td><td>0.6173856</td></tr>\n",
       "\t<tr><td>onlinedomeneshop</td><td>sunsla.online                </td><td>Not Renewd</td><td>0.3959294</td><td>0.3959294</td></tr>\n",
       "\t<tr><td>onlinedomeneshop</td><td>bookreport.online            </td><td>Not Renewd</td><td>0.3609047</td><td>0.3609047</td></tr>\n",
       "\t<tr><td>onlinedomeneshop</td><td>passionforbusiness.online    </td><td>Renewed   </td><td>0.6116090</td><td>0.6116090</td></tr>\n",
       "\t<tr><td>onlinedomeneshop</td><td>oneco.online                 </td><td>Not Renewd</td><td>0.7319964</td><td>0.7319964</td></tr>\n",
       "\t<tr><td>onlinedomeneshop</td><td>goggy.online                 </td><td>Not Renewd</td><td>0.1665667</td><td>0.1665667</td></tr>\n",
       "\t<tr><td>onlinedomeneshop</td><td>portalen.online              </td><td>Not Renewd</td><td>0.6911950</td><td>0.6911950</td></tr>\n",
       "\t<tr><td>onlinedomeneshop</td><td>waveit.online                </td><td>Renewed   </td><td>0.6679984</td><td>0.6679984</td></tr>\n",
       "\t<tr><td>onlinedomeneshop</td><td>sertifisering.online         </td><td>Renewed   </td><td>0.7803328</td><td>0.7803328</td></tr>\n",
       "\t<tr><td>onlinedomeneshop</td><td>mastermixer.online           </td><td>Renewed   </td><td>0.5592510</td><td>0.5592510</td></tr>\n",
       "\t<tr><td>onlinedomeneshop</td><td>weden.online                 </td><td>Renewed   </td><td>0.8529402</td><td>0.8529402</td></tr>\n",
       "\t<tr><td>onlinedomeneshop</td><td>soamazing.online             </td><td>Not Renewd</td><td>0.5578720</td><td>0.5578720</td></tr>\n",
       "\t<tr><td>onlinedomeneshop</td><td>servicedrone.online          </td><td>Not Renewd</td><td>0.6671188</td><td>0.6671188</td></tr>\n",
       "</tbody>\n",
       "</table>\n"
      ],
      "text/latex": [
       "A data.frame: 18 × 5\n",
       "\\begin{tabular}{lllll}\n",
       " tld\\_registrar\\_index & domain & renewal\\_status & pred\\_df\\_seg2\\_glm & pred\\_df\\_seg2\\_glm\\_fb\\\\\n",
       " <chr> & <chr> & <fct> & <dbl> & <dbl>\\\\\n",
       "\\hline\n",
       "\t onlinedomeneshop & panto.online                  & Renewed    & 0.8909751 & 0.8909751\\\\\n",
       "\t onlinedomeneshop & matre.online                  & Renewed    & 0.9352077 & 0.9352077\\\\\n",
       "\t onlinedomeneshop & schul-cloud.online            & Renewed    &        NA & 0.5650000\\\\\n",
       "\t onlinedomeneshop & azolver.online                & Renewed    & 0.3580406 & 0.3580406\\\\\n",
       "\t onlinedomeneshop & medienentwicklungsplan.online & Renewed    & 0.5741215 & 0.5741215\\\\\n",
       "\t onlinedomeneshop & feriemarked.online            & Not Renewd & 0.6173856 & 0.6173856\\\\\n",
       "\t onlinedomeneshop & sunsla.online                 & Not Renewd & 0.3959294 & 0.3959294\\\\\n",
       "\t onlinedomeneshop & bookreport.online             & Not Renewd & 0.3609047 & 0.3609047\\\\\n",
       "\t onlinedomeneshop & passionforbusiness.online     & Renewed    & 0.6116090 & 0.6116090\\\\\n",
       "\t onlinedomeneshop & oneco.online                  & Not Renewd & 0.7319964 & 0.7319964\\\\\n",
       "\t onlinedomeneshop & goggy.online                  & Not Renewd & 0.1665667 & 0.1665667\\\\\n",
       "\t onlinedomeneshop & portalen.online               & Not Renewd & 0.6911950 & 0.6911950\\\\\n",
       "\t onlinedomeneshop & waveit.online                 & Renewed    & 0.6679984 & 0.6679984\\\\\n",
       "\t onlinedomeneshop & sertifisering.online          & Renewed    & 0.7803328 & 0.7803328\\\\\n",
       "\t onlinedomeneshop & mastermixer.online            & Renewed    & 0.5592510 & 0.5592510\\\\\n",
       "\t onlinedomeneshop & weden.online                  & Renewed    & 0.8529402 & 0.8529402\\\\\n",
       "\t onlinedomeneshop & soamazing.online              & Not Renewd & 0.5578720 & 0.5578720\\\\\n",
       "\t onlinedomeneshop & servicedrone.online           & Not Renewd & 0.6671188 & 0.6671188\\\\\n",
       "\\end{tabular}\n"
      ],
      "text/markdown": [
       "\n",
       "A data.frame: 18 × 5\n",
       "\n",
       "| tld_registrar_index &lt;chr&gt; | domain &lt;chr&gt; | renewal_status &lt;fct&gt; | pred_df_seg2_glm &lt;dbl&gt; | pred_df_seg2_glm_fb &lt;dbl&gt; |\n",
       "|---|---|---|---|---|\n",
       "| onlinedomeneshop | panto.online                  | Renewed    | 0.8909751 | 0.8909751 |\n",
       "| onlinedomeneshop | matre.online                  | Renewed    | 0.9352077 | 0.9352077 |\n",
       "| onlinedomeneshop | schul-cloud.online            | Renewed    |        NA | 0.5650000 |\n",
       "| onlinedomeneshop | azolver.online                | Renewed    | 0.3580406 | 0.3580406 |\n",
       "| onlinedomeneshop | medienentwicklungsplan.online | Renewed    | 0.5741215 | 0.5741215 |\n",
       "| onlinedomeneshop | feriemarked.online            | Not Renewd | 0.6173856 | 0.6173856 |\n",
       "| onlinedomeneshop | sunsla.online                 | Not Renewd | 0.3959294 | 0.3959294 |\n",
       "| onlinedomeneshop | bookreport.online             | Not Renewd | 0.3609047 | 0.3609047 |\n",
       "| onlinedomeneshop | passionforbusiness.online     | Renewed    | 0.6116090 | 0.6116090 |\n",
       "| onlinedomeneshop | oneco.online                  | Not Renewd | 0.7319964 | 0.7319964 |\n",
       "| onlinedomeneshop | goggy.online                  | Not Renewd | 0.1665667 | 0.1665667 |\n",
       "| onlinedomeneshop | portalen.online               | Not Renewd | 0.6911950 | 0.6911950 |\n",
       "| onlinedomeneshop | waveit.online                 | Renewed    | 0.6679984 | 0.6679984 |\n",
       "| onlinedomeneshop | sertifisering.online          | Renewed    | 0.7803328 | 0.7803328 |\n",
       "| onlinedomeneshop | mastermixer.online            | Renewed    | 0.5592510 | 0.5592510 |\n",
       "| onlinedomeneshop | weden.online                  | Renewed    | 0.8529402 | 0.8529402 |\n",
       "| onlinedomeneshop | soamazing.online              | Not Renewd | 0.5578720 | 0.5578720 |\n",
       "| onlinedomeneshop | servicedrone.online           | Not Renewd | 0.6671188 | 0.6671188 |\n",
       "\n"
      ],
      "text/plain": [
       "   tld_registrar_index domain                        renewal_status\n",
       "1  onlinedomeneshop    panto.online                  Renewed       \n",
       "2  onlinedomeneshop    matre.online                  Renewed       \n",
       "3  onlinedomeneshop    schul-cloud.online            Renewed       \n",
       "4  onlinedomeneshop    azolver.online                Renewed       \n",
       "5  onlinedomeneshop    medienentwicklungsplan.online Renewed       \n",
       "6  onlinedomeneshop    feriemarked.online            Not Renewd    \n",
       "7  onlinedomeneshop    sunsla.online                 Not Renewd    \n",
       "8  onlinedomeneshop    bookreport.online             Not Renewd    \n",
       "9  onlinedomeneshop    passionforbusiness.online     Renewed       \n",
       "10 onlinedomeneshop    oneco.online                  Not Renewd    \n",
       "11 onlinedomeneshop    goggy.online                  Not Renewd    \n",
       "12 onlinedomeneshop    portalen.online               Not Renewd    \n",
       "13 onlinedomeneshop    waveit.online                 Renewed       \n",
       "14 onlinedomeneshop    sertifisering.online          Renewed       \n",
       "15 onlinedomeneshop    mastermixer.online            Renewed       \n",
       "16 onlinedomeneshop    weden.online                  Renewed       \n",
       "17 onlinedomeneshop    soamazing.online              Not Renewd    \n",
       "18 onlinedomeneshop    servicedrone.online           Not Renewd    \n",
       "   pred_df_seg2_glm pred_df_seg2_glm_fb\n",
       "1  0.8909751        0.8909751          \n",
       "2  0.9352077        0.9352077          \n",
       "3         NA        0.5650000          \n",
       "4  0.3580406        0.3580406          \n",
       "5  0.5741215        0.5741215          \n",
       "6  0.6173856        0.6173856          \n",
       "7  0.3959294        0.3959294          \n",
       "8  0.3609047        0.3609047          \n",
       "9  0.6116090        0.6116090          \n",
       "10 0.7319964        0.7319964          \n",
       "11 0.1665667        0.1665667          \n",
       "12 0.6911950        0.6911950          \n",
       "13 0.6679984        0.6679984          \n",
       "14 0.7803328        0.7803328          \n",
       "15 0.5592510        0.5592510          \n",
       "16 0.8529402        0.8529402          \n",
       "17 0.5578720        0.5578720          \n",
       "18 0.6671188        0.6671188          "
      ]
     },
     "metadata": {},
     "output_type": "display_data"
    }
   ],
   "source": [
    "expiry_test_predictions %>% filter(tld_registrar_index=='onlinedomeneshop') %>% select(\n",
    "    tld_registrar_index, domain, renewal_status, pred_df_seg2_glm, pred_df_seg2_glm_fb)"
   ]
  },
  {
   "cell_type": "code",
   "execution_count": 117,
   "metadata": {},
   "outputs": [
    {
     "data": {
      "text/html": [
       "<table>\n",
       "<caption>A data.frame: 1356 × 5</caption>\n",
       "<thead>\n",
       "\t<tr><th scope=col>tld_registrar_index</th><th scope=col>domain</th><th scope=col>renewal_status</th><th scope=col>pred_df_seg2_glm</th><th scope=col>pred_df_seg2_glm_fb</th></tr>\n",
       "\t<tr><th scope=col>&lt;chr&gt;</th><th scope=col>&lt;chr&gt;</th><th scope=col>&lt;fct&gt;</th><th scope=col>&lt;dbl&gt;</th><th scope=col>&lt;dbl&gt;</th></tr>\n",
       "</thead>\n",
       "<tbody>\n",
       "\t<tr><td><span style=white-space:pre-wrap>host1&amp;1 internet    </span></td><td><span style=white-space:pre-wrap>cloudnodes.host              </span></td><td>Not Renewd</td><td>NA</td><td>0.452</td></tr>\n",
       "\t<tr><td><span style=white-space:pre-wrap>press1&amp;1 internet   </span></td><td><span style=white-space:pre-wrap>lajmeditore24.press          </span></td><td>Not Renewd</td><td>NA</td><td>0.425</td></tr>\n",
       "\t<tr><td>press101 domain     </td><td>clearingandsettlement.press  </td><td>Not Renewd</td><td>NA</td><td>0.433</td></tr>\n",
       "\t<tr><td>press101 domain     </td><td>varidesk.press               </td><td>Renewed   </td><td>NA</td><td>0.433</td></tr>\n",
       "\t<tr><td>tech101 domain      </td><td>hub12.tech                   </td><td>Not Renewd</td><td>NA</td><td>0.576</td></tr>\n",
       "\t<tr><td>tech101 domain      </td><td>t10.tech                     </td><td>Renewed   </td><td>NA</td><td>0.576</td></tr>\n",
       "\t<tr><td>press101 domain     </td><td>skai.press                   </td><td>Not Renewd</td><td>NA</td><td>0.433</td></tr>\n",
       "\t<tr><td>website101 domain   </td><td>vulkan-club1.website         </td><td>Renewed   </td><td>NA</td><td>0.496</td></tr>\n",
       "\t<tr><td>fun10dencehispahard </td><td>movistar.fun                 </td><td>Not Renewd</td><td>NA</td><td>0.512</td></tr>\n",
       "\t<tr><td>fun10dencehispahard </td><td>kuinik.fun                   </td><td>Not Renewd</td><td>NA</td><td>0.512</td></tr>\n",
       "\t<tr><td>space1api           </td><td>rx-pills.space               </td><td>Renewed   </td><td>NA</td><td>0.525</td></tr>\n",
       "\t<tr><td>pw1api              </td><td>little-models.pw             </td><td>Not Renewd</td><td>NA</td><td>0.381</td></tr>\n",
       "\t<tr><td>in.net1api          </td><td>yeezy-shoes.in.net           </td><td>Renewed   </td><td>NA</td><td>0.531</td></tr>\n",
       "\t<tr><td>tech1blu            </td><td>fachanwalt.tech              </td><td>Renewed   </td><td>NA</td><td>0.602</td></tr>\n",
       "\t<tr><td>store1blu           </td><td>ct-wuerzburg.store           </td><td>Renewed   </td><td>NA</td><td>0.532</td></tr>\n",
       "\t<tr><td>space1blu           </td><td>starfleetcommunication.space </td><td>Renewed   </td><td>NA</td><td>0.531</td></tr>\n",
       "\t<tr><td>pressa small orange </td><td>fungi.press                  </td><td>Not Renewd</td><td>NA</td><td>0.496</td></tr>\n",
       "\t<tr><td>onlinea small orange</td><td>weldm3alemfihla7la.online    </td><td>Not Renewd</td><td>NA</td><td>0.423</td></tr>\n",
       "\t<tr><td>pressa2hosting      </td><td>metanoia.press               </td><td>Renewed   </td><td>NA</td><td>0.496</td></tr>\n",
       "\t<tr><td>onlinea2hosting     </td><td>csoworld.online              </td><td>Renewed   </td><td>NA</td><td>0.423</td></tr>\n",
       "\t<tr><td>sitea2hosting       </td><td>asadores.site                </td><td>Not Renewd</td><td>NA</td><td>0.404</td></tr>\n",
       "\t<tr><td>sitea2hosting       </td><td>ssmc.site                    </td><td>Renewed   </td><td>NA</td><td>0.404</td></tr>\n",
       "\t<tr><td>sitea2hosting       </td><td>justcompare.site             </td><td>Not Renewd</td><td>NA</td><td>0.404</td></tr>\n",
       "\t<tr><td>onlinea2hosting     </td><td>kingdomessentials.online     </td><td>Not Renewd</td><td>NA</td><td>0.423</td></tr>\n",
       "\t<tr><td>websitea2hosting    </td><td>device-location.website      </td><td>Renewed   </td><td>NA</td><td>0.336</td></tr>\n",
       "\t<tr><td>storeab name isp    </td><td>euthymia.store               </td><td>Not Renewd</td><td>NA</td><td>0.546</td></tr>\n",
       "\t<tr><td>spaceab name isp    </td><td>3d4d.space                   </td><td>Renewed   </td><td>NA</td><td>0.512</td></tr>\n",
       "\t<tr><td>storeab name isp    </td><td>balkanmat.store              </td><td>Renewed   </td><td>NA</td><td>0.546</td></tr>\n",
       "\t<tr><td>techactive 24       </td><td>1248.tech                    </td><td>Renewed   </td><td>NA</td><td>0.346</td></tr>\n",
       "\t<tr><td>websiteactive 24    </td><td>plus4u.website               </td><td>Renewed   </td><td>NA</td><td>0.525</td></tr>\n",
       "\t<tr><td>techafrihost        </td><td>repair-it.tech               </td><td>Renewed   </td><td>NA</td><td>0.503</td></tr>\n",
       "\t<tr><td>websitealibaba      </td><td>x-men.website                </td><td>Not Renewd</td><td>NA</td><td>0.120</td></tr>\n",
       "\t<tr><td>techalibaba sg      </td><td>3345.tech                    </td><td>Not Renewd</td><td>NA</td><td>0.176</td></tr>\n",
       "\t<tr><td>websitealpnames     </td><td>securittyyyyyyyblabla.website</td><td>Not Renewd</td><td>NA</td><td>0.495</td></tr>\n",
       "\t<tr><td>in.netalpnames      </td><td>nwia.in.net                  </td><td>Not Renewd</td><td>NA</td><td>0.012</td></tr>\n",
       "\t<tr><td>in.netalpnames      </td><td>oxhz.in.net                  </td><td>Not Renewd</td><td>NA</td><td>0.012</td></tr>\n",
       "\t<tr><td>siteantagonist      </td><td>siero.site                   </td><td>Renewed   </td><td>NA</td><td>0.203</td></tr>\n",
       "\t<tr><td>techargeweb         </td><td>noster.tech                  </td><td>Renewed   </td><td>NA</td><td>0.594</td></tr>\n",
       "\t<tr><td>siteargeweb         </td><td>terschelling.site            </td><td>Renewed   </td><td>NA</td><td>0.590</td></tr>\n",
       "\t<tr><td>storearsys          </td><td>nesaconductores.store        </td><td>Renewed   </td><td>NA</td><td>0.512</td></tr>\n",
       "\t<tr><td>storearsys          </td><td>conductoresnesa.store        </td><td>Renewed   </td><td>NA</td><td>0.512</td></tr>\n",
       "\t<tr><td>techarsys           </td><td>monny.tech                   </td><td>Not Renewd</td><td>NA</td><td>0.590</td></tr>\n",
       "\t<tr><td>techarsys           </td><td>nesa-world.tech              </td><td>Renewed   </td><td>NA</td><td>0.590</td></tr>\n",
       "\t<tr><td>techaruba           </td><td>k-sport.tech                 </td><td>Renewed   </td><td>NA</td><td>0.512</td></tr>\n",
       "\t<tr><td>storeascio          </td><td>liz-lederwaren.store         </td><td>Renewed   </td><td>NA</td><td>0.532</td></tr>\n",
       "\t<tr><td>storeascio          </td><td>jt-active.store              </td><td>Renewed   </td><td>NA</td><td>0.532</td></tr>\n",
       "\t<tr><td>siteatak            </td><td>z1shoping.site               </td><td>Renewed   </td><td>NA</td><td>0.101</td></tr>\n",
       "\t<tr><td>spaceaz.pl          </td><td>intiman.space                </td><td>Not Renewd</td><td>NA</td><td>0.531</td></tr>\n",
       "\t<tr><td>pressbaidu          </td><td>qukuai.press                 </td><td>Not Renewd</td><td>NA</td><td>0.014</td></tr>\n",
       "\t<tr><td>pressbaidu          </td><td>acupoints.press              </td><td>Not Renewd</td><td>NA</td><td>0.014</td></tr>\n",
       "\t<tr><td>⋮</td><td>⋮</td><td>⋮</td><td>⋮</td><td>⋮</td></tr>\n",
       "\t<tr><td>spacewhogohost                  </td><td>aircarigo.space           </td><td>Not Renewd</td><td>NA</td><td>0.081</td></tr>\n",
       "\t<tr><td>spacewhogohost                  </td><td>infodigit.space           </td><td>Not Renewd</td><td>NA</td><td>0.081</td></tr>\n",
       "\t<tr><td>spacewhogohost                  </td><td>bizconsult.space          </td><td>Not Renewd</td><td>NA</td><td>0.081</td></tr>\n",
       "\t<tr><td>spacewhogohost                  </td><td>medcarigo.space           </td><td>Not Renewd</td><td>NA</td><td>0.081</td></tr>\n",
       "\t<tr><td>spacewhogohost                  </td><td>uconnect.space            </td><td>Not Renewd</td><td>NA</td><td>0.081</td></tr>\n",
       "\t<tr><td>in.netwhois                     </td><td>beats-bydre.in.net        </td><td>Not Renewd</td><td>NA</td><td>0.063</td></tr>\n",
       "\t<tr><td>presswhois                      </td><td>voter-news.press          </td><td>Not Renewd</td><td>NA</td><td>0.448</td></tr>\n",
       "\t<tr><td>sitewhois                       </td><td>00966.site                </td><td>Renewed   </td><td>NA</td><td>0.043</td></tr>\n",
       "\t<tr><td>in.netwhois                     </td><td>uggboots-outletsale.in.net</td><td>Not Renewd</td><td>NA</td><td>0.063</td></tr>\n",
       "\t<tr><td>presswild west                  </td><td>mexicomedia.press         </td><td>Renewed   </td><td>NA</td><td>0.568</td></tr>\n",
       "\t<tr><td>presswild west                  </td><td>lelantos.press            </td><td>Not Renewd</td><td>NA</td><td>0.336</td></tr>\n",
       "\t<tr><td>techwild west                   </td><td>mind-core.tech            </td><td>Not Renewd</td><td>NA</td><td>0.576</td></tr>\n",
       "\t<tr><td>spacewordpress                  </td><td>disasterfemme.space       </td><td>Renewed   </td><td>NA</td><td>0.133</td></tr>\n",
       "\t<tr><td>funworld4you                    </td><td>ho-rutsch.fun             </td><td>Renewed   </td><td>NA</td><td>0.531</td></tr>\n",
       "\t<tr><td>funworld4you                    </td><td>vogl.fun                  </td><td>Renewed   </td><td>NA</td><td>0.531</td></tr>\n",
       "\t<tr><td>storeworld4you                  </td><td>der-michael.store         </td><td>Not Renewd</td><td>NA</td><td>0.532</td></tr>\n",
       "\t<tr><td>spaceworld4you                  </td><td>sendit.space              </td><td>Renewed   </td><td>NA</td><td>0.531</td></tr>\n",
       "\t<tr><td>techworld4you                   </td><td>edv7.tech                 </td><td>Renewed   </td><td>NA</td><td>0.602</td></tr>\n",
       "\t<tr><td>spacexiamen chinasource         </td><td>24h.space                 </td><td>Not Renewd</td><td>NA</td><td>0.032</td></tr>\n",
       "\t<tr><td>funxiamen nawang                </td><td>zgtzhj.fun                </td><td>Not Renewd</td><td>NA</td><td>0.009</td></tr>\n",
       "\t<tr><td>funxiamen nawang                </td><td>xn--fiq62h2iv1m.fun       </td><td>Not Renewd</td><td>NA</td><td>0.009</td></tr>\n",
       "\t<tr><td>siteyahoo                       </td><td>trooperinc.site           </td><td>Renewed   </td><td>NA</td><td>0.404</td></tr>\n",
       "\t<tr><td>siteyahoo                       </td><td>matrikskimya.site         </td><td>Renewed   </td><td>NA</td><td>0.404</td></tr>\n",
       "\t<tr><td>hostyahoo                       </td><td>williams.host             </td><td>Not Renewd</td><td>NA</td><td>0.482</td></tr>\n",
       "\t<tr><td>techyour hosting                </td><td>h2ot.tech                 </td><td>Renewed   </td><td>NA</td><td>0.512</td></tr>\n",
       "\t<tr><td>techyour hosting                </td><td>4nature.tech              </td><td>Renewed   </td><td>NA</td><td>0.512</td></tr>\n",
       "\t<tr><td>websitezhengzhou century connect</td><td>sunbet7.website           </td><td>Not Renewd</td><td>NA</td><td>0.020</td></tr>\n",
       "\t<tr><td>onlinezhengzhou century connect </td><td>wigs-1.online             </td><td>Not Renewd</td><td>NA</td><td>0.052</td></tr>\n",
       "\t<tr><td>websitezhengzhou century connect</td><td>sunbet3.website           </td><td>Not Renewd</td><td>NA</td><td>0.020</td></tr>\n",
       "\t<tr><td>websitezhengzhou century connect</td><td>sunbet38.website          </td><td>Not Renewd</td><td>NA</td><td>0.020</td></tr>\n",
       "\t<tr><td>websitezhengzhou century connect</td><td>sunbet10.website          </td><td>Not Renewd</td><td>NA</td><td>0.020</td></tr>\n",
       "\t<tr><td>websitezhengzhou century connect</td><td>sunbet5.website           </td><td>Not Renewd</td><td>NA</td><td>0.020</td></tr>\n",
       "\t<tr><td>websitezhengzhou century connect</td><td>sunbet37.website          </td><td>Not Renewd</td><td>NA</td><td>0.020</td></tr>\n",
       "\t<tr><td>websitezhengzhou century connect</td><td>sunbet22.website          </td><td>Not Renewd</td><td>NA</td><td>0.020</td></tr>\n",
       "\t<tr><td>spacezhengzhou century connect  </td><td>domainclub.space          </td><td>Not Renewd</td><td>NA</td><td>0.032</td></tr>\n",
       "\t<tr><td>websitezhengzhou century connect</td><td>sunbet29.website          </td><td>Not Renewd</td><td>NA</td><td>0.020</td></tr>\n",
       "\t<tr><td>spacezhengzhou century connect  </td><td>salon6.space              </td><td>Not Renewd</td><td>NA</td><td>0.032</td></tr>\n",
       "\t<tr><td>spacezhengzhou century connect  </td><td>salon38.space             </td><td>Not Renewd</td><td>NA</td><td>0.032</td></tr>\n",
       "\t<tr><td>websitezhengzhou century connect</td><td>sunbet34.website          </td><td>Not Renewd</td><td>NA</td><td>0.020</td></tr>\n",
       "\t<tr><td>spacezhengzhou century connect  </td><td>salon12.space             </td><td>Not Renewd</td><td>NA</td><td>0.032</td></tr>\n",
       "\t<tr><td>spacezhengzhou century connect  </td><td>salon18.space             </td><td>Not Renewd</td><td>NA</td><td>0.032</td></tr>\n",
       "\t<tr><td>spacezhengzhou century connect  </td><td>salon23.space             </td><td>Not Renewd</td><td>NA</td><td>0.032</td></tr>\n",
       "\t<tr><td>spacezhengzhou century connect  </td><td>salon43.space             </td><td>Not Renewd</td><td>NA</td><td>0.032</td></tr>\n",
       "\t<tr><td>spacezhengzhou century connect  </td><td>salon42.space             </td><td>Not Renewd</td><td>NA</td><td>0.032</td></tr>\n",
       "\t<tr><td>spacezhengzhou century connect  </td><td>salon47.space             </td><td>Not Renewd</td><td>NA</td><td>0.032</td></tr>\n",
       "\t<tr><td>websitezhengzhou century connect</td><td>sunbet23.website          </td><td>Not Renewd</td><td>NA</td><td>0.020</td></tr>\n",
       "\t<tr><td>hostzhengzhou century connect   </td><td>woyaozhizhu.host          </td><td>Not Renewd</td><td>NA</td><td>0.020</td></tr>\n",
       "\t<tr><td>spacezhengzhou century connect  </td><td>salon5.space              </td><td>Not Renewd</td><td>NA</td><td>0.032</td></tr>\n",
       "\t<tr><td>websitezhengzhou century connect</td><td>sunbet49.website          </td><td>Not Renewd</td><td>NA</td><td>0.020</td></tr>\n",
       "\t<tr><td>websitezhengzhou century connect</td><td>domainclub.website        </td><td>Not Renewd</td><td>NA</td><td>0.020</td></tr>\n",
       "</tbody>\n",
       "</table>\n"
      ],
      "text/latex": [
       "A data.frame: 1356 × 5\n",
       "\\begin{tabular}{lllll}\n",
       " tld\\_registrar\\_index & domain & renewal\\_status & pred\\_df\\_seg2\\_glm & pred\\_df\\_seg2\\_glm\\_fb\\\\\n",
       " <chr> & <chr> & <fct> & <dbl> & <dbl>\\\\\n",
       "\\hline\n",
       "\t host1\\&1 internet     & cloudnodes.host               & Not Renewd & NA & 0.452\\\\\n",
       "\t press1\\&1 internet    & lajmeditore24.press           & Not Renewd & NA & 0.425\\\\\n",
       "\t press101 domain      & clearingandsettlement.press   & Not Renewd & NA & 0.433\\\\\n",
       "\t press101 domain      & varidesk.press                & Renewed    & NA & 0.433\\\\\n",
       "\t tech101 domain       & hub12.tech                    & Not Renewd & NA & 0.576\\\\\n",
       "\t tech101 domain       & t10.tech                      & Renewed    & NA & 0.576\\\\\n",
       "\t press101 domain      & skai.press                    & Not Renewd & NA & 0.433\\\\\n",
       "\t website101 domain    & vulkan-club1.website          & Renewed    & NA & 0.496\\\\\n",
       "\t fun10dencehispahard  & movistar.fun                  & Not Renewd & NA & 0.512\\\\\n",
       "\t fun10dencehispahard  & kuinik.fun                    & Not Renewd & NA & 0.512\\\\\n",
       "\t space1api            & rx-pills.space                & Renewed    & NA & 0.525\\\\\n",
       "\t pw1api               & little-models.pw              & Not Renewd & NA & 0.381\\\\\n",
       "\t in.net1api           & yeezy-shoes.in.net            & Renewed    & NA & 0.531\\\\\n",
       "\t tech1blu             & fachanwalt.tech               & Renewed    & NA & 0.602\\\\\n",
       "\t store1blu            & ct-wuerzburg.store            & Renewed    & NA & 0.532\\\\\n",
       "\t space1blu            & starfleetcommunication.space  & Renewed    & NA & 0.531\\\\\n",
       "\t pressa small orange  & fungi.press                   & Not Renewd & NA & 0.496\\\\\n",
       "\t onlinea small orange & weldm3alemfihla7la.online     & Not Renewd & NA & 0.423\\\\\n",
       "\t pressa2hosting       & metanoia.press                & Renewed    & NA & 0.496\\\\\n",
       "\t onlinea2hosting      & csoworld.online               & Renewed    & NA & 0.423\\\\\n",
       "\t sitea2hosting        & asadores.site                 & Not Renewd & NA & 0.404\\\\\n",
       "\t sitea2hosting        & ssmc.site                     & Renewed    & NA & 0.404\\\\\n",
       "\t sitea2hosting        & justcompare.site              & Not Renewd & NA & 0.404\\\\\n",
       "\t onlinea2hosting      & kingdomessentials.online      & Not Renewd & NA & 0.423\\\\\n",
       "\t websitea2hosting     & device-location.website       & Renewed    & NA & 0.336\\\\\n",
       "\t storeab name isp     & euthymia.store                & Not Renewd & NA & 0.546\\\\\n",
       "\t spaceab name isp     & 3d4d.space                    & Renewed    & NA & 0.512\\\\\n",
       "\t storeab name isp     & balkanmat.store               & Renewed    & NA & 0.546\\\\\n",
       "\t techactive 24        & 1248.tech                     & Renewed    & NA & 0.346\\\\\n",
       "\t websiteactive 24     & plus4u.website                & Renewed    & NA & 0.525\\\\\n",
       "\t techafrihost         & repair-it.tech                & Renewed    & NA & 0.503\\\\\n",
       "\t websitealibaba       & x-men.website                 & Not Renewd & NA & 0.120\\\\\n",
       "\t techalibaba sg       & 3345.tech                     & Not Renewd & NA & 0.176\\\\\n",
       "\t websitealpnames      & securittyyyyyyyblabla.website & Not Renewd & NA & 0.495\\\\\n",
       "\t in.netalpnames       & nwia.in.net                   & Not Renewd & NA & 0.012\\\\\n",
       "\t in.netalpnames       & oxhz.in.net                   & Not Renewd & NA & 0.012\\\\\n",
       "\t siteantagonist       & siero.site                    & Renewed    & NA & 0.203\\\\\n",
       "\t techargeweb          & noster.tech                   & Renewed    & NA & 0.594\\\\\n",
       "\t siteargeweb          & terschelling.site             & Renewed    & NA & 0.590\\\\\n",
       "\t storearsys           & nesaconductores.store         & Renewed    & NA & 0.512\\\\\n",
       "\t storearsys           & conductoresnesa.store         & Renewed    & NA & 0.512\\\\\n",
       "\t techarsys            & monny.tech                    & Not Renewd & NA & 0.590\\\\\n",
       "\t techarsys            & nesa-world.tech               & Renewed    & NA & 0.590\\\\\n",
       "\t techaruba            & k-sport.tech                  & Renewed    & NA & 0.512\\\\\n",
       "\t storeascio           & liz-lederwaren.store          & Renewed    & NA & 0.532\\\\\n",
       "\t storeascio           & jt-active.store               & Renewed    & NA & 0.532\\\\\n",
       "\t siteatak             & z1shoping.site                & Renewed    & NA & 0.101\\\\\n",
       "\t spaceaz.pl           & intiman.space                 & Not Renewd & NA & 0.531\\\\\n",
       "\t pressbaidu           & qukuai.press                  & Not Renewd & NA & 0.014\\\\\n",
       "\t pressbaidu           & acupoints.press               & Not Renewd & NA & 0.014\\\\\n",
       "\t ⋮ & ⋮ & ⋮ & ⋮ & ⋮\\\\\n",
       "\t spacewhogohost                   & aircarigo.space            & Not Renewd & NA & 0.081\\\\\n",
       "\t spacewhogohost                   & infodigit.space            & Not Renewd & NA & 0.081\\\\\n",
       "\t spacewhogohost                   & bizconsult.space           & Not Renewd & NA & 0.081\\\\\n",
       "\t spacewhogohost                   & medcarigo.space            & Not Renewd & NA & 0.081\\\\\n",
       "\t spacewhogohost                   & uconnect.space             & Not Renewd & NA & 0.081\\\\\n",
       "\t in.netwhois                      & beats-bydre.in.net         & Not Renewd & NA & 0.063\\\\\n",
       "\t presswhois                       & voter-news.press           & Not Renewd & NA & 0.448\\\\\n",
       "\t sitewhois                        & 00966.site                 & Renewed    & NA & 0.043\\\\\n",
       "\t in.netwhois                      & uggboots-outletsale.in.net & Not Renewd & NA & 0.063\\\\\n",
       "\t presswild west                   & mexicomedia.press          & Renewed    & NA & 0.568\\\\\n",
       "\t presswild west                   & lelantos.press             & Not Renewd & NA & 0.336\\\\\n",
       "\t techwild west                    & mind-core.tech             & Not Renewd & NA & 0.576\\\\\n",
       "\t spacewordpress                   & disasterfemme.space        & Renewed    & NA & 0.133\\\\\n",
       "\t funworld4you                     & ho-rutsch.fun              & Renewed    & NA & 0.531\\\\\n",
       "\t funworld4you                     & vogl.fun                   & Renewed    & NA & 0.531\\\\\n",
       "\t storeworld4you                   & der-michael.store          & Not Renewd & NA & 0.532\\\\\n",
       "\t spaceworld4you                   & sendit.space               & Renewed    & NA & 0.531\\\\\n",
       "\t techworld4you                    & edv7.tech                  & Renewed    & NA & 0.602\\\\\n",
       "\t spacexiamen chinasource          & 24h.space                  & Not Renewd & NA & 0.032\\\\\n",
       "\t funxiamen nawang                 & zgtzhj.fun                 & Not Renewd & NA & 0.009\\\\\n",
       "\t funxiamen nawang                 & xn--fiq62h2iv1m.fun        & Not Renewd & NA & 0.009\\\\\n",
       "\t siteyahoo                        & trooperinc.site            & Renewed    & NA & 0.404\\\\\n",
       "\t siteyahoo                        & matrikskimya.site          & Renewed    & NA & 0.404\\\\\n",
       "\t hostyahoo                        & williams.host              & Not Renewd & NA & 0.482\\\\\n",
       "\t techyour hosting                 & h2ot.tech                  & Renewed    & NA & 0.512\\\\\n",
       "\t techyour hosting                 & 4nature.tech               & Renewed    & NA & 0.512\\\\\n",
       "\t websitezhengzhou century connect & sunbet7.website            & Not Renewd & NA & 0.020\\\\\n",
       "\t onlinezhengzhou century connect  & wigs-1.online              & Not Renewd & NA & 0.052\\\\\n",
       "\t websitezhengzhou century connect & sunbet3.website            & Not Renewd & NA & 0.020\\\\\n",
       "\t websitezhengzhou century connect & sunbet38.website           & Not Renewd & NA & 0.020\\\\\n",
       "\t websitezhengzhou century connect & sunbet10.website           & Not Renewd & NA & 0.020\\\\\n",
       "\t websitezhengzhou century connect & sunbet5.website            & Not Renewd & NA & 0.020\\\\\n",
       "\t websitezhengzhou century connect & sunbet37.website           & Not Renewd & NA & 0.020\\\\\n",
       "\t websitezhengzhou century connect & sunbet22.website           & Not Renewd & NA & 0.020\\\\\n",
       "\t spacezhengzhou century connect   & domainclub.space           & Not Renewd & NA & 0.032\\\\\n",
       "\t websitezhengzhou century connect & sunbet29.website           & Not Renewd & NA & 0.020\\\\\n",
       "\t spacezhengzhou century connect   & salon6.space               & Not Renewd & NA & 0.032\\\\\n",
       "\t spacezhengzhou century connect   & salon38.space              & Not Renewd & NA & 0.032\\\\\n",
       "\t websitezhengzhou century connect & sunbet34.website           & Not Renewd & NA & 0.020\\\\\n",
       "\t spacezhengzhou century connect   & salon12.space              & Not Renewd & NA & 0.032\\\\\n",
       "\t spacezhengzhou century connect   & salon18.space              & Not Renewd & NA & 0.032\\\\\n",
       "\t spacezhengzhou century connect   & salon23.space              & Not Renewd & NA & 0.032\\\\\n",
       "\t spacezhengzhou century connect   & salon43.space              & Not Renewd & NA & 0.032\\\\\n",
       "\t spacezhengzhou century connect   & salon42.space              & Not Renewd & NA & 0.032\\\\\n",
       "\t spacezhengzhou century connect   & salon47.space              & Not Renewd & NA & 0.032\\\\\n",
       "\t websitezhengzhou century connect & sunbet23.website           & Not Renewd & NA & 0.020\\\\\n",
       "\t hostzhengzhou century connect    & woyaozhizhu.host           & Not Renewd & NA & 0.020\\\\\n",
       "\t spacezhengzhou century connect   & salon5.space               & Not Renewd & NA & 0.032\\\\\n",
       "\t websitezhengzhou century connect & sunbet49.website           & Not Renewd & NA & 0.020\\\\\n",
       "\t websitezhengzhou century connect & domainclub.website         & Not Renewd & NA & 0.020\\\\\n",
       "\\end{tabular}\n"
      ],
      "text/markdown": [
       "\n",
       "A data.frame: 1356 × 5\n",
       "\n",
       "| tld_registrar_index &lt;chr&gt; | domain &lt;chr&gt; | renewal_status &lt;fct&gt; | pred_df_seg2_glm &lt;dbl&gt; | pred_df_seg2_glm_fb &lt;dbl&gt; |\n",
       "|---|---|---|---|---|\n",
       "| host1&amp;1 internet     | cloudnodes.host               | Not Renewd | NA | 0.452 |\n",
       "| press1&amp;1 internet    | lajmeditore24.press           | Not Renewd | NA | 0.425 |\n",
       "| press101 domain      | clearingandsettlement.press   | Not Renewd | NA | 0.433 |\n",
       "| press101 domain      | varidesk.press                | Renewed    | NA | 0.433 |\n",
       "| tech101 domain       | hub12.tech                    | Not Renewd | NA | 0.576 |\n",
       "| tech101 domain       | t10.tech                      | Renewed    | NA | 0.576 |\n",
       "| press101 domain      | skai.press                    | Not Renewd | NA | 0.433 |\n",
       "| website101 domain    | vulkan-club1.website          | Renewed    | NA | 0.496 |\n",
       "| fun10dencehispahard  | movistar.fun                  | Not Renewd | NA | 0.512 |\n",
       "| fun10dencehispahard  | kuinik.fun                    | Not Renewd | NA | 0.512 |\n",
       "| space1api            | rx-pills.space                | Renewed    | NA | 0.525 |\n",
       "| pw1api               | little-models.pw              | Not Renewd | NA | 0.381 |\n",
       "| in.net1api           | yeezy-shoes.in.net            | Renewed    | NA | 0.531 |\n",
       "| tech1blu             | fachanwalt.tech               | Renewed    | NA | 0.602 |\n",
       "| store1blu            | ct-wuerzburg.store            | Renewed    | NA | 0.532 |\n",
       "| space1blu            | starfleetcommunication.space  | Renewed    | NA | 0.531 |\n",
       "| pressa small orange  | fungi.press                   | Not Renewd | NA | 0.496 |\n",
       "| onlinea small orange | weldm3alemfihla7la.online     | Not Renewd | NA | 0.423 |\n",
       "| pressa2hosting       | metanoia.press                | Renewed    | NA | 0.496 |\n",
       "| onlinea2hosting      | csoworld.online               | Renewed    | NA | 0.423 |\n",
       "| sitea2hosting        | asadores.site                 | Not Renewd | NA | 0.404 |\n",
       "| sitea2hosting        | ssmc.site                     | Renewed    | NA | 0.404 |\n",
       "| sitea2hosting        | justcompare.site              | Not Renewd | NA | 0.404 |\n",
       "| onlinea2hosting      | kingdomessentials.online      | Not Renewd | NA | 0.423 |\n",
       "| websitea2hosting     | device-location.website       | Renewed    | NA | 0.336 |\n",
       "| storeab name isp     | euthymia.store                | Not Renewd | NA | 0.546 |\n",
       "| spaceab name isp     | 3d4d.space                    | Renewed    | NA | 0.512 |\n",
       "| storeab name isp     | balkanmat.store               | Renewed    | NA | 0.546 |\n",
       "| techactive 24        | 1248.tech                     | Renewed    | NA | 0.346 |\n",
       "| websiteactive 24     | plus4u.website                | Renewed    | NA | 0.525 |\n",
       "| techafrihost         | repair-it.tech                | Renewed    | NA | 0.503 |\n",
       "| websitealibaba       | x-men.website                 | Not Renewd | NA | 0.120 |\n",
       "| techalibaba sg       | 3345.tech                     | Not Renewd | NA | 0.176 |\n",
       "| websitealpnames      | securittyyyyyyyblabla.website | Not Renewd | NA | 0.495 |\n",
       "| in.netalpnames       | nwia.in.net                   | Not Renewd | NA | 0.012 |\n",
       "| in.netalpnames       | oxhz.in.net                   | Not Renewd | NA | 0.012 |\n",
       "| siteantagonist       | siero.site                    | Renewed    | NA | 0.203 |\n",
       "| techargeweb          | noster.tech                   | Renewed    | NA | 0.594 |\n",
       "| siteargeweb          | terschelling.site             | Renewed    | NA | 0.590 |\n",
       "| storearsys           | nesaconductores.store         | Renewed    | NA | 0.512 |\n",
       "| storearsys           | conductoresnesa.store         | Renewed    | NA | 0.512 |\n",
       "| techarsys            | monny.tech                    | Not Renewd | NA | 0.590 |\n",
       "| techarsys            | nesa-world.tech               | Renewed    | NA | 0.590 |\n",
       "| techaruba            | k-sport.tech                  | Renewed    | NA | 0.512 |\n",
       "| storeascio           | liz-lederwaren.store          | Renewed    | NA | 0.532 |\n",
       "| storeascio           | jt-active.store               | Renewed    | NA | 0.532 |\n",
       "| siteatak             | z1shoping.site                | Renewed    | NA | 0.101 |\n",
       "| spaceaz.pl           | intiman.space                 | Not Renewd | NA | 0.531 |\n",
       "| pressbaidu           | qukuai.press                  | Not Renewd | NA | 0.014 |\n",
       "| pressbaidu           | acupoints.press               | Not Renewd | NA | 0.014 |\n",
       "| ⋮ | ⋮ | ⋮ | ⋮ | ⋮ |\n",
       "| spacewhogohost                   | aircarigo.space            | Not Renewd | NA | 0.081 |\n",
       "| spacewhogohost                   | infodigit.space            | Not Renewd | NA | 0.081 |\n",
       "| spacewhogohost                   | bizconsult.space           | Not Renewd | NA | 0.081 |\n",
       "| spacewhogohost                   | medcarigo.space            | Not Renewd | NA | 0.081 |\n",
       "| spacewhogohost                   | uconnect.space             | Not Renewd | NA | 0.081 |\n",
       "| in.netwhois                      | beats-bydre.in.net         | Not Renewd | NA | 0.063 |\n",
       "| presswhois                       | voter-news.press           | Not Renewd | NA | 0.448 |\n",
       "| sitewhois                        | 00966.site                 | Renewed    | NA | 0.043 |\n",
       "| in.netwhois                      | uggboots-outletsale.in.net | Not Renewd | NA | 0.063 |\n",
       "| presswild west                   | mexicomedia.press          | Renewed    | NA | 0.568 |\n",
       "| presswild west                   | lelantos.press             | Not Renewd | NA | 0.336 |\n",
       "| techwild west                    | mind-core.tech             | Not Renewd | NA | 0.576 |\n",
       "| spacewordpress                   | disasterfemme.space        | Renewed    | NA | 0.133 |\n",
       "| funworld4you                     | ho-rutsch.fun              | Renewed    | NA | 0.531 |\n",
       "| funworld4you                     | vogl.fun                   | Renewed    | NA | 0.531 |\n",
       "| storeworld4you                   | der-michael.store          | Not Renewd | NA | 0.532 |\n",
       "| spaceworld4you                   | sendit.space               | Renewed    | NA | 0.531 |\n",
       "| techworld4you                    | edv7.tech                  | Renewed    | NA | 0.602 |\n",
       "| spacexiamen chinasource          | 24h.space                  | Not Renewd | NA | 0.032 |\n",
       "| funxiamen nawang                 | zgtzhj.fun                 | Not Renewd | NA | 0.009 |\n",
       "| funxiamen nawang                 | xn--fiq62h2iv1m.fun        | Not Renewd | NA | 0.009 |\n",
       "| siteyahoo                        | trooperinc.site            | Renewed    | NA | 0.404 |\n",
       "| siteyahoo                        | matrikskimya.site          | Renewed    | NA | 0.404 |\n",
       "| hostyahoo                        | williams.host              | Not Renewd | NA | 0.482 |\n",
       "| techyour hosting                 | h2ot.tech                  | Renewed    | NA | 0.512 |\n",
       "| techyour hosting                 | 4nature.tech               | Renewed    | NA | 0.512 |\n",
       "| websitezhengzhou century connect | sunbet7.website            | Not Renewd | NA | 0.020 |\n",
       "| onlinezhengzhou century connect  | wigs-1.online              | Not Renewd | NA | 0.052 |\n",
       "| websitezhengzhou century connect | sunbet3.website            | Not Renewd | NA | 0.020 |\n",
       "| websitezhengzhou century connect | sunbet38.website           | Not Renewd | NA | 0.020 |\n",
       "| websitezhengzhou century connect | sunbet10.website           | Not Renewd | NA | 0.020 |\n",
       "| websitezhengzhou century connect | sunbet5.website            | Not Renewd | NA | 0.020 |\n",
       "| websitezhengzhou century connect | sunbet37.website           | Not Renewd | NA | 0.020 |\n",
       "| websitezhengzhou century connect | sunbet22.website           | Not Renewd | NA | 0.020 |\n",
       "| spacezhengzhou century connect   | domainclub.space           | Not Renewd | NA | 0.032 |\n",
       "| websitezhengzhou century connect | sunbet29.website           | Not Renewd | NA | 0.020 |\n",
       "| spacezhengzhou century connect   | salon6.space               | Not Renewd | NA | 0.032 |\n",
       "| spacezhengzhou century connect   | salon38.space              | Not Renewd | NA | 0.032 |\n",
       "| websitezhengzhou century connect | sunbet34.website           | Not Renewd | NA | 0.020 |\n",
       "| spacezhengzhou century connect   | salon12.space              | Not Renewd | NA | 0.032 |\n",
       "| spacezhengzhou century connect   | salon18.space              | Not Renewd | NA | 0.032 |\n",
       "| spacezhengzhou century connect   | salon23.space              | Not Renewd | NA | 0.032 |\n",
       "| spacezhengzhou century connect   | salon43.space              | Not Renewd | NA | 0.032 |\n",
       "| spacezhengzhou century connect   | salon42.space              | Not Renewd | NA | 0.032 |\n",
       "| spacezhengzhou century connect   | salon47.space              | Not Renewd | NA | 0.032 |\n",
       "| websitezhengzhou century connect | sunbet23.website           | Not Renewd | NA | 0.020 |\n",
       "| hostzhengzhou century connect    | woyaozhizhu.host           | Not Renewd | NA | 0.020 |\n",
       "| spacezhengzhou century connect   | salon5.space               | Not Renewd | NA | 0.032 |\n",
       "| websitezhengzhou century connect | sunbet49.website           | Not Renewd | NA | 0.020 |\n",
       "| websitezhengzhou century connect | domainclub.website         | Not Renewd | NA | 0.020 |\n",
       "\n"
      ],
      "text/plain": [
       "     tld_registrar_index              domain                       \n",
       "1    host1&1 internet                 cloudnodes.host              \n",
       "2    press1&1 internet                lajmeditore24.press          \n",
       "3    press101 domain                  clearingandsettlement.press  \n",
       "4    press101 domain                  varidesk.press               \n",
       "5    tech101 domain                   hub12.tech                   \n",
       "6    tech101 domain                   t10.tech                     \n",
       "7    press101 domain                  skai.press                   \n",
       "8    website101 domain                vulkan-club1.website         \n",
       "9    fun10dencehispahard              movistar.fun                 \n",
       "10   fun10dencehispahard              kuinik.fun                   \n",
       "11   space1api                        rx-pills.space               \n",
       "12   pw1api                           little-models.pw             \n",
       "13   in.net1api                       yeezy-shoes.in.net           \n",
       "14   tech1blu                         fachanwalt.tech              \n",
       "15   store1blu                        ct-wuerzburg.store           \n",
       "16   space1blu                        starfleetcommunication.space \n",
       "17   pressa small orange              fungi.press                  \n",
       "18   onlinea small orange             weldm3alemfihla7la.online    \n",
       "19   pressa2hosting                   metanoia.press               \n",
       "20   onlinea2hosting                  csoworld.online              \n",
       "21   sitea2hosting                    asadores.site                \n",
       "22   sitea2hosting                    ssmc.site                    \n",
       "23   sitea2hosting                    justcompare.site             \n",
       "24   onlinea2hosting                  kingdomessentials.online     \n",
       "25   websitea2hosting                 device-location.website      \n",
       "26   storeab name isp                 euthymia.store               \n",
       "27   spaceab name isp                 3d4d.space                   \n",
       "28   storeab name isp                 balkanmat.store              \n",
       "29   techactive 24                    1248.tech                    \n",
       "30   websiteactive 24                 plus4u.website               \n",
       "31   techafrihost                     repair-it.tech               \n",
       "32   websitealibaba                   x-men.website                \n",
       "33   techalibaba sg                   3345.tech                    \n",
       "34   websitealpnames                  securittyyyyyyyblabla.website\n",
       "35   in.netalpnames                   nwia.in.net                  \n",
       "36   in.netalpnames                   oxhz.in.net                  \n",
       "37   siteantagonist                   siero.site                   \n",
       "38   techargeweb                      noster.tech                  \n",
       "39   siteargeweb                      terschelling.site            \n",
       "40   storearsys                       nesaconductores.store        \n",
       "41   storearsys                       conductoresnesa.store        \n",
       "42   techarsys                        monny.tech                   \n",
       "43   techarsys                        nesa-world.tech              \n",
       "44   techaruba                        k-sport.tech                 \n",
       "45   storeascio                       liz-lederwaren.store         \n",
       "46   storeascio                       jt-active.store              \n",
       "47   siteatak                         z1shoping.site               \n",
       "48   spaceaz.pl                       intiman.space                \n",
       "49   pressbaidu                       qukuai.press                 \n",
       "50   pressbaidu                       acupoints.press              \n",
       "⋮    ⋮                                ⋮                            \n",
       "1307 spacewhogohost                   aircarigo.space              \n",
       "1308 spacewhogohost                   infodigit.space              \n",
       "1309 spacewhogohost                   bizconsult.space             \n",
       "1310 spacewhogohost                   medcarigo.space              \n",
       "1311 spacewhogohost                   uconnect.space               \n",
       "1312 in.netwhois                      beats-bydre.in.net           \n",
       "1313 presswhois                       voter-news.press             \n",
       "1314 sitewhois                        00966.site                   \n",
       "1315 in.netwhois                      uggboots-outletsale.in.net   \n",
       "1316 presswild west                   mexicomedia.press            \n",
       "1317 presswild west                   lelantos.press               \n",
       "1318 techwild west                    mind-core.tech               \n",
       "1319 spacewordpress                   disasterfemme.space          \n",
       "1320 funworld4you                     ho-rutsch.fun                \n",
       "1321 funworld4you                     vogl.fun                     \n",
       "1322 storeworld4you                   der-michael.store            \n",
       "1323 spaceworld4you                   sendit.space                 \n",
       "1324 techworld4you                    edv7.tech                    \n",
       "1325 spacexiamen chinasource          24h.space                    \n",
       "1326 funxiamen nawang                 zgtzhj.fun                   \n",
       "1327 funxiamen nawang                 xn--fiq62h2iv1m.fun          \n",
       "1328 siteyahoo                        trooperinc.site              \n",
       "1329 siteyahoo                        matrikskimya.site            \n",
       "1330 hostyahoo                        williams.host                \n",
       "1331 techyour hosting                 h2ot.tech                    \n",
       "1332 techyour hosting                 4nature.tech                 \n",
       "1333 websitezhengzhou century connect sunbet7.website              \n",
       "1334 onlinezhengzhou century connect  wigs-1.online                \n",
       "1335 websitezhengzhou century connect sunbet3.website              \n",
       "1336 websitezhengzhou century connect sunbet38.website             \n",
       "1337 websitezhengzhou century connect sunbet10.website             \n",
       "1338 websitezhengzhou century connect sunbet5.website              \n",
       "1339 websitezhengzhou century connect sunbet37.website             \n",
       "1340 websitezhengzhou century connect sunbet22.website             \n",
       "1341 spacezhengzhou century connect   domainclub.space             \n",
       "1342 websitezhengzhou century connect sunbet29.website             \n",
       "1343 spacezhengzhou century connect   salon6.space                 \n",
       "1344 spacezhengzhou century connect   salon38.space                \n",
       "1345 websitezhengzhou century connect sunbet34.website             \n",
       "1346 spacezhengzhou century connect   salon12.space                \n",
       "1347 spacezhengzhou century connect   salon18.space                \n",
       "1348 spacezhengzhou century connect   salon23.space                \n",
       "1349 spacezhengzhou century connect   salon43.space                \n",
       "1350 spacezhengzhou century connect   salon42.space                \n",
       "1351 spacezhengzhou century connect   salon47.space                \n",
       "1352 websitezhengzhou century connect sunbet23.website             \n",
       "1353 hostzhengzhou century connect    woyaozhizhu.host             \n",
       "1354 spacezhengzhou century connect   salon5.space                 \n",
       "1355 websitezhengzhou century connect sunbet49.website             \n",
       "1356 websitezhengzhou century connect domainclub.website           \n",
       "     renewal_status pred_df_seg2_glm pred_df_seg2_glm_fb\n",
       "1    Not Renewd     NA               0.452              \n",
       "2    Not Renewd     NA               0.425              \n",
       "3    Not Renewd     NA               0.433              \n",
       "4    Renewed        NA               0.433              \n",
       "5    Not Renewd     NA               0.576              \n",
       "6    Renewed        NA               0.576              \n",
       "7    Not Renewd     NA               0.433              \n",
       "8    Renewed        NA               0.496              \n",
       "9    Not Renewd     NA               0.512              \n",
       "10   Not Renewd     NA               0.512              \n",
       "11   Renewed        NA               0.525              \n",
       "12   Not Renewd     NA               0.381              \n",
       "13   Renewed        NA               0.531              \n",
       "14   Renewed        NA               0.602              \n",
       "15   Renewed        NA               0.532              \n",
       "16   Renewed        NA               0.531              \n",
       "17   Not Renewd     NA               0.496              \n",
       "18   Not Renewd     NA               0.423              \n",
       "19   Renewed        NA               0.496              \n",
       "20   Renewed        NA               0.423              \n",
       "21   Not Renewd     NA               0.404              \n",
       "22   Renewed        NA               0.404              \n",
       "23   Not Renewd     NA               0.404              \n",
       "24   Not Renewd     NA               0.423              \n",
       "25   Renewed        NA               0.336              \n",
       "26   Not Renewd     NA               0.546              \n",
       "27   Renewed        NA               0.512              \n",
       "28   Renewed        NA               0.546              \n",
       "29   Renewed        NA               0.346              \n",
       "30   Renewed        NA               0.525              \n",
       "31   Renewed        NA               0.503              \n",
       "32   Not Renewd     NA               0.120              \n",
       "33   Not Renewd     NA               0.176              \n",
       "34   Not Renewd     NA               0.495              \n",
       "35   Not Renewd     NA               0.012              \n",
       "36   Not Renewd     NA               0.012              \n",
       "37   Renewed        NA               0.203              \n",
       "38   Renewed        NA               0.594              \n",
       "39   Renewed        NA               0.590              \n",
       "40   Renewed        NA               0.512              \n",
       "41   Renewed        NA               0.512              \n",
       "42   Not Renewd     NA               0.590              \n",
       "43   Renewed        NA               0.590              \n",
       "44   Renewed        NA               0.512              \n",
       "45   Renewed        NA               0.532              \n",
       "46   Renewed        NA               0.532              \n",
       "47   Renewed        NA               0.101              \n",
       "48   Not Renewd     NA               0.531              \n",
       "49   Not Renewd     NA               0.014              \n",
       "50   Not Renewd     NA               0.014              \n",
       "⋮    ⋮              ⋮                ⋮                  \n",
       "1307 Not Renewd     NA               0.081              \n",
       "1308 Not Renewd     NA               0.081              \n",
       "1309 Not Renewd     NA               0.081              \n",
       "1310 Not Renewd     NA               0.081              \n",
       "1311 Not Renewd     NA               0.081              \n",
       "1312 Not Renewd     NA               0.063              \n",
       "1313 Not Renewd     NA               0.448              \n",
       "1314 Renewed        NA               0.043              \n",
       "1315 Not Renewd     NA               0.063              \n",
       "1316 Renewed        NA               0.568              \n",
       "1317 Not Renewd     NA               0.336              \n",
       "1318 Not Renewd     NA               0.576              \n",
       "1319 Renewed        NA               0.133              \n",
       "1320 Renewed        NA               0.531              \n",
       "1321 Renewed        NA               0.531              \n",
       "1322 Not Renewd     NA               0.532              \n",
       "1323 Renewed        NA               0.531              \n",
       "1324 Renewed        NA               0.602              \n",
       "1325 Not Renewd     NA               0.032              \n",
       "1326 Not Renewd     NA               0.009              \n",
       "1327 Not Renewd     NA               0.009              \n",
       "1328 Renewed        NA               0.404              \n",
       "1329 Renewed        NA               0.404              \n",
       "1330 Not Renewd     NA               0.482              \n",
       "1331 Renewed        NA               0.512              \n",
       "1332 Renewed        NA               0.512              \n",
       "1333 Not Renewd     NA               0.020              \n",
       "1334 Not Renewd     NA               0.052              \n",
       "1335 Not Renewd     NA               0.020              \n",
       "1336 Not Renewd     NA               0.020              \n",
       "1337 Not Renewd     NA               0.020              \n",
       "1338 Not Renewd     NA               0.020              \n",
       "1339 Not Renewd     NA               0.020              \n",
       "1340 Not Renewd     NA               0.020              \n",
       "1341 Not Renewd     NA               0.032              \n",
       "1342 Not Renewd     NA               0.020              \n",
       "1343 Not Renewd     NA               0.032              \n",
       "1344 Not Renewd     NA               0.032              \n",
       "1345 Not Renewd     NA               0.020              \n",
       "1346 Not Renewd     NA               0.032              \n",
       "1347 Not Renewd     NA               0.032              \n",
       "1348 Not Renewd     NA               0.032              \n",
       "1349 Not Renewd     NA               0.032              \n",
       "1350 Not Renewd     NA               0.032              \n",
       "1351 Not Renewd     NA               0.032              \n",
       "1352 Not Renewd     NA               0.020              \n",
       "1353 Not Renewd     NA               0.020              \n",
       "1354 Not Renewd     NA               0.032              \n",
       "1355 Not Renewd     NA               0.020              \n",
       "1356 Not Renewd     NA               0.020              "
      ]
     },
     "metadata": {},
     "output_type": "display_data"
    }
   ],
   "source": [
    "expiry_test_predictions %>% filter(is.na(pred_df_seg2_glm)) %>% select(\n",
    "    tld_registrar_index, domain, renewal_status, pred_df_seg2_glm, pred_df_seg2_glm_fb)"
   ]
  },
  {
   "cell_type": "code",
   "execution_count": 118,
   "metadata": {},
   "outputs": [
    {
     "data": {
      "text/plain": [
       " tld_registrar_index    domain             renewal_status pred_df_seg2_glm\n",
       " Length:1356         Length:1356        Renewed   : 264   Min.   : NA     \n",
       " Class :character    Class :character   Not Renewd:1092   1st Qu.: NA     \n",
       " Mode  :character    Mode  :character                     Median : NA     \n",
       "                                                          Mean   :NaN     \n",
       "                                                          3rd Qu.: NA     \n",
       "                                                          Max.   : NA     \n",
       "                                                          NA's   :1356    \n",
       " pred_df_seg2_glm_fb\n",
       " Min.   :0.0080     \n",
       " 1st Qu.:0.0230     \n",
       " Median :0.0520     \n",
       " Mean   :0.1629     \n",
       " 3rd Qu.:0.2730     \n",
       " Max.   :0.7730     \n",
       "                    "
      ]
     },
     "metadata": {},
     "output_type": "display_data"
    }
   ],
   "source": [
    "expiry_test_predictions %>% filter(is.na(pred_df_seg2_glm)) %>% select(\n",
    "    tld_registrar_index, domain, renewal_status, pred_df_seg2_glm, pred_df_seg2_glm_fb) %>% summary()\n"
   ]
  },
  {
   "cell_type": "markdown",
   "metadata": {},
   "source": [
    "# Quickly examine 391 and 88 NA predictions"
   ]
  },
  {
   "cell_type": "code",
   "execution_count": 122,
   "metadata": {},
   "outputs": [
    {
     "data": {
      "text/html": [
       "<style>\n",
       ".list-inline {list-style: none; margin:0; padding: 0}\n",
       ".list-inline>li {display: inline-block}\n",
       ".list-inline>li:not(:last-child)::after {content: \"\\00b7\"; padding: 0 .5ex}\n",
       "</style>\n",
       "<ol class=list-inline><li>'in.net1api'</li><li>'websitealpnames'</li><li>'techargeweb'</li><li>'storeblacknight'</li><li>'pwboltn'</li><li>'websitecci reg s.a.'</li><li>'hostcps-datensysteme'</li><li>'spacecsc corporate'</li><li>'spacecsc corporate'</li><li>'hostcsc corporate'</li><li>'spacecsc corporate'</li><li>'hostcsc corporate'</li><li>'presscsl'</li><li>'presscsl'</li><li>'hostdnc holdings'</li><li>'pwdnsimple'</li><li>'storedomain-it'</li><li>'pwdomeny.pl'</li><li>'spacedomeny.pl'</li><li>'spaceeasydns'</li><li>'siteeasydns'</li><li>'storeeasydns'</li><li>'spaceeasydns'</li><li>'funeasydns'</li><li>'hostejee group'</li><li>'hostejee group'</li><li>'pweu technology'</li><li>'spaceevoplus ltd'</li><li>'pwfoshan yidong'</li><li>'onlinefrench connexion'</li><li>'storeglobal village'</li><li>'techguzel hosting'</li><li>'sitehosteurope'</li><li>'presshostgator brazil'</li><li>'presshostgator brazil'</li><li>'presshostgator brazil'</li><li>'onlinehostinger 2'</li><li>'websitehostnet.nl'</li><li>'in.nethostnine'</li><li>'hosticn'</li><li>'storeinames'</li><li>'storeinnovadeus'</li><li>'storeinnovadeus'</li><li>'in.netinternetworx ltd'</li><li>'hostipage domain.com'</li><li>'websitekasserver'</li><li>'sitekasserver'</li><li>'websitekasserver'</li><li>'sitemailclub'</li><li>'websitemarcaria.com'</li><li>'hostmarcaria.com'</li><li>'funmarcaria.com'</li><li>'hostmat bao'</li><li>'sitemelbourne it'</li><li>'funnameshield'</li><li>'technetowl'</li><li>'funnominalia'</li><li>'spaceorigiweb'</li><li>'hostp.a viet nam'</li><li>'onlinereg2c'</li><li>'websitereg2c'</li><li>'pressregistrator domenov '</li><li>'storeregway'</li><li>'storeregway'</li><li>'storeregway'</li><li>'storesafenames ltd'</li><li>'sitesafenames ltd'</li><li>'funsafenames ltd'</li><li>'spaceserver plan'</li><li>'hostshopify'</li><li>'spacesibername'</li><li>'websitespaceweb'</li><li>'presstld registrar solns'</li><li>'presstld registrar solns'</li><li>'spaceumbler'</li><li>'hostuol'</li><li>'sitevariomedia'</li><li>'funventraip'</li><li>'websitevimexx trc'</li><li>'hostweb commerce comm'</li><li>'presswebnames'</li><li>'websitewebsupport.sk'</li><li>'presswild west'</li><li>'presswild west'</li><li>'spacewordpress'</li><li>'funworld4you'</li><li>'funworld4you'</li><li>'hostyahoo'</li></ol>\n"
      ],
      "text/latex": [
       "\\begin{enumerate*}\n",
       "\\item 'in.net1api'\n",
       "\\item 'websitealpnames'\n",
       "\\item 'techargeweb'\n",
       "\\item 'storeblacknight'\n",
       "\\item 'pwboltn'\n",
       "\\item 'websitecci reg s.a.'\n",
       "\\item 'hostcps-datensysteme'\n",
       "\\item 'spacecsc corporate'\n",
       "\\item 'spacecsc corporate'\n",
       "\\item 'hostcsc corporate'\n",
       "\\item 'spacecsc corporate'\n",
       "\\item 'hostcsc corporate'\n",
       "\\item 'presscsl'\n",
       "\\item 'presscsl'\n",
       "\\item 'hostdnc holdings'\n",
       "\\item 'pwdnsimple'\n",
       "\\item 'storedomain-it'\n",
       "\\item 'pwdomeny.pl'\n",
       "\\item 'spacedomeny.pl'\n",
       "\\item 'spaceeasydns'\n",
       "\\item 'siteeasydns'\n",
       "\\item 'storeeasydns'\n",
       "\\item 'spaceeasydns'\n",
       "\\item 'funeasydns'\n",
       "\\item 'hostejee group'\n",
       "\\item 'hostejee group'\n",
       "\\item 'pweu technology'\n",
       "\\item 'spaceevoplus ltd'\n",
       "\\item 'pwfoshan yidong'\n",
       "\\item 'onlinefrench connexion'\n",
       "\\item 'storeglobal village'\n",
       "\\item 'techguzel hosting'\n",
       "\\item 'sitehosteurope'\n",
       "\\item 'presshostgator brazil'\n",
       "\\item 'presshostgator brazil'\n",
       "\\item 'presshostgator brazil'\n",
       "\\item 'onlinehostinger 2'\n",
       "\\item 'websitehostnet.nl'\n",
       "\\item 'in.nethostnine'\n",
       "\\item 'hosticn'\n",
       "\\item 'storeinames'\n",
       "\\item 'storeinnovadeus'\n",
       "\\item 'storeinnovadeus'\n",
       "\\item 'in.netinternetworx ltd'\n",
       "\\item 'hostipage domain.com'\n",
       "\\item 'websitekasserver'\n",
       "\\item 'sitekasserver'\n",
       "\\item 'websitekasserver'\n",
       "\\item 'sitemailclub'\n",
       "\\item 'websitemarcaria.com'\n",
       "\\item 'hostmarcaria.com'\n",
       "\\item 'funmarcaria.com'\n",
       "\\item 'hostmat bao'\n",
       "\\item 'sitemelbourne it'\n",
       "\\item 'funnameshield'\n",
       "\\item 'technetowl'\n",
       "\\item 'funnominalia'\n",
       "\\item 'spaceorigiweb'\n",
       "\\item 'hostp.a viet nam'\n",
       "\\item 'onlinereg2c'\n",
       "\\item 'websitereg2c'\n",
       "\\item 'pressregistrator domenov '\n",
       "\\item 'storeregway'\n",
       "\\item 'storeregway'\n",
       "\\item 'storeregway'\n",
       "\\item 'storesafenames ltd'\n",
       "\\item 'sitesafenames ltd'\n",
       "\\item 'funsafenames ltd'\n",
       "\\item 'spaceserver plan'\n",
       "\\item 'hostshopify'\n",
       "\\item 'spacesibername'\n",
       "\\item 'websitespaceweb'\n",
       "\\item 'presstld registrar solns'\n",
       "\\item 'presstld registrar solns'\n",
       "\\item 'spaceumbler'\n",
       "\\item 'hostuol'\n",
       "\\item 'sitevariomedia'\n",
       "\\item 'funventraip'\n",
       "\\item 'websitevimexx trc'\n",
       "\\item 'hostweb commerce comm'\n",
       "\\item 'presswebnames'\n",
       "\\item 'websitewebsupport.sk'\n",
       "\\item 'presswild west'\n",
       "\\item 'presswild west'\n",
       "\\item 'spacewordpress'\n",
       "\\item 'funworld4you'\n",
       "\\item 'funworld4you'\n",
       "\\item 'hostyahoo'\n",
       "\\end{enumerate*}\n"
      ],
      "text/markdown": [
       "1. 'in.net1api'\n",
       "2. 'websitealpnames'\n",
       "3. 'techargeweb'\n",
       "4. 'storeblacknight'\n",
       "5. 'pwboltn'\n",
       "6. 'websitecci reg s.a.'\n",
       "7. 'hostcps-datensysteme'\n",
       "8. 'spacecsc corporate'\n",
       "9. 'spacecsc corporate'\n",
       "10. 'hostcsc corporate'\n",
       "11. 'spacecsc corporate'\n",
       "12. 'hostcsc corporate'\n",
       "13. 'presscsl'\n",
       "14. 'presscsl'\n",
       "15. 'hostdnc holdings'\n",
       "16. 'pwdnsimple'\n",
       "17. 'storedomain-it'\n",
       "18. 'pwdomeny.pl'\n",
       "19. 'spacedomeny.pl'\n",
       "20. 'spaceeasydns'\n",
       "21. 'siteeasydns'\n",
       "22. 'storeeasydns'\n",
       "23. 'spaceeasydns'\n",
       "24. 'funeasydns'\n",
       "25. 'hostejee group'\n",
       "26. 'hostejee group'\n",
       "27. 'pweu technology'\n",
       "28. 'spaceevoplus ltd'\n",
       "29. 'pwfoshan yidong'\n",
       "30. 'onlinefrench connexion'\n",
       "31. 'storeglobal village'\n",
       "32. 'techguzel hosting'\n",
       "33. 'sitehosteurope'\n",
       "34. 'presshostgator brazil'\n",
       "35. 'presshostgator brazil'\n",
       "36. 'presshostgator brazil'\n",
       "37. 'onlinehostinger 2'\n",
       "38. 'websitehostnet.nl'\n",
       "39. 'in.nethostnine'\n",
       "40. 'hosticn'\n",
       "41. 'storeinames'\n",
       "42. 'storeinnovadeus'\n",
       "43. 'storeinnovadeus'\n",
       "44. 'in.netinternetworx ltd'\n",
       "45. 'hostipage domain.com'\n",
       "46. 'websitekasserver'\n",
       "47. 'sitekasserver'\n",
       "48. 'websitekasserver'\n",
       "49. 'sitemailclub'\n",
       "50. 'websitemarcaria.com'\n",
       "51. 'hostmarcaria.com'\n",
       "52. 'funmarcaria.com'\n",
       "53. 'hostmat bao'\n",
       "54. 'sitemelbourne it'\n",
       "55. 'funnameshield'\n",
       "56. 'technetowl'\n",
       "57. 'funnominalia'\n",
       "58. 'spaceorigiweb'\n",
       "59. 'hostp.a viet nam'\n",
       "60. 'onlinereg2c'\n",
       "61. 'websitereg2c'\n",
       "62. 'pressregistrator domenov '\n",
       "63. 'storeregway'\n",
       "64. 'storeregway'\n",
       "65. 'storeregway'\n",
       "66. 'storesafenames ltd'\n",
       "67. 'sitesafenames ltd'\n",
       "68. 'funsafenames ltd'\n",
       "69. 'spaceserver plan'\n",
       "70. 'hostshopify'\n",
       "71. 'spacesibername'\n",
       "72. 'websitespaceweb'\n",
       "73. 'presstld registrar solns'\n",
       "74. 'presstld registrar solns'\n",
       "75. 'spaceumbler'\n",
       "76. 'hostuol'\n",
       "77. 'sitevariomedia'\n",
       "78. 'funventraip'\n",
       "79. 'websitevimexx trc'\n",
       "80. 'hostweb commerce comm'\n",
       "81. 'presswebnames'\n",
       "82. 'websitewebsupport.sk'\n",
       "83. 'presswild west'\n",
       "84. 'presswild west'\n",
       "85. 'spacewordpress'\n",
       "86. 'funworld4you'\n",
       "87. 'funworld4you'\n",
       "88. 'hostyahoo'\n",
       "\n",
       "\n"
      ],
      "text/plain": [
       " [1] \"in.net1api\"                \"websitealpnames\"          \n",
       " [3] \"techargeweb\"               \"storeblacknight\"          \n",
       " [5] \"pwboltn\"                   \"websitecci reg s.a.\"      \n",
       " [7] \"hostcps-datensysteme\"      \"spacecsc corporate\"       \n",
       " [9] \"spacecsc corporate\"        \"hostcsc corporate\"        \n",
       "[11] \"spacecsc corporate\"        \"hostcsc corporate\"        \n",
       "[13] \"presscsl\"                  \"presscsl\"                 \n",
       "[15] \"hostdnc holdings\"          \"pwdnsimple\"               \n",
       "[17] \"storedomain-it\"            \"pwdomeny.pl\"              \n",
       "[19] \"spacedomeny.pl\"            \"spaceeasydns\"             \n",
       "[21] \"siteeasydns\"               \"storeeasydns\"             \n",
       "[23] \"spaceeasydns\"              \"funeasydns\"               \n",
       "[25] \"hostejee group\"            \"hostejee group\"           \n",
       "[27] \"pweu technology\"           \"spaceevoplus ltd\"         \n",
       "[29] \"pwfoshan yidong\"           \"onlinefrench connexion\"   \n",
       "[31] \"storeglobal village\"       \"techguzel hosting\"        \n",
       "[33] \"sitehosteurope\"            \"presshostgator brazil\"    \n",
       "[35] \"presshostgator brazil\"     \"presshostgator brazil\"    \n",
       "[37] \"onlinehostinger 2\"         \"websitehostnet.nl\"        \n",
       "[39] \"in.nethostnine\"            \"hosticn\"                  \n",
       "[41] \"storeinames\"               \"storeinnovadeus\"          \n",
       "[43] \"storeinnovadeus\"           \"in.netinternetworx ltd\"   \n",
       "[45] \"hostipage domain.com\"      \"websitekasserver\"         \n",
       "[47] \"sitekasserver\"             \"websitekasserver\"         \n",
       "[49] \"sitemailclub\"              \"websitemarcaria.com\"      \n",
       "[51] \"hostmarcaria.com\"          \"funmarcaria.com\"          \n",
       "[53] \"hostmat bao\"               \"sitemelbourne it\"         \n",
       "[55] \"funnameshield\"             \"technetowl\"               \n",
       "[57] \"funnominalia\"              \"spaceorigiweb\"            \n",
       "[59] \"hostp.a viet nam\"          \"onlinereg2c\"              \n",
       "[61] \"websitereg2c\"              \"pressregistrator domenov \"\n",
       "[63] \"storeregway\"               \"storeregway\"              \n",
       "[65] \"storeregway\"               \"storesafenames ltd\"       \n",
       "[67] \"sitesafenames ltd\"         \"funsafenames ltd\"         \n",
       "[69] \"spaceserver plan\"          \"hostshopify\"              \n",
       "[71] \"spacesibername\"            \"websitespaceweb\"          \n",
       "[73] \"presstld registrar solns\"  \"presstld registrar solns\" \n",
       "[75] \"spaceumbler\"               \"hostuol\"                  \n",
       "[77] \"sitevariomedia\"            \"funventraip\"              \n",
       "[79] \"websitevimexx trc\"         \"hostweb commerce comm\"    \n",
       "[81] \"presswebnames\"             \"websitewebsupport.sk\"     \n",
       "[83] \"presswild west\"            \"presswild west\"           \n",
       "[85] \"spacewordpress\"            \"funworld4you\"             \n",
       "[87] \"funworld4you\"              \"hostyahoo\"                "
      ]
     },
     "metadata": {},
     "output_type": "display_data"
    }
   ],
   "source": [
    "test_88NA_idxs <- expiry_test_predictions %>% filter(is.na(pred_df_agg_rf)) %>% pull(tld_registrar_index) \n",
    "test_88NA_idxs"
   ]
  },
  {
   "cell_type": "code",
   "execution_count": 124,
   "metadata": {},
   "outputs": [
    {
     "data": {
      "text/html": [
       "<style>\n",
       ".list-inline {list-style: none; margin:0; padding: 0}\n",
       ".list-inline>li {display: inline-block}\n",
       ".list-inline>li:not(:last-child)::after {content: \"\\00b7\"; padding: 0 .5ex}\n",
       "</style>\n",
       "<ol class=list-inline><li>0</li><li>43</li></ol>\n"
      ],
      "text/latex": [
       "\\begin{enumerate*}\n",
       "\\item 0\n",
       "\\item 43\n",
       "\\end{enumerate*}\n"
      ],
      "text/markdown": [
       "1. 0\n",
       "2. 43\n",
       "\n",
       "\n"
      ],
      "text/plain": [
       "[1]  0 43"
      ]
     },
     "metadata": {},
     "output_type": "display_data"
    }
   ],
   "source": [
    "expiry_train_df_1 %>% filter(tld_registrar_index %in% test_88NA_idxs) %>% dim()"
   ]
  },
  {
   "cell_type": "code",
   "execution_count": 136,
   "metadata": {},
   "outputs": [
    {
     "data": {
      "text/html": [
       "0"
      ],
      "text/latex": [
       "0"
      ],
      "text/markdown": [
       "0"
      ],
      "text/plain": [
       "[1] 0"
      ]
     },
     "metadata": {},
     "output_type": "display_data"
    },
    {
     "data": {
      "text/html": [
       "<table>\n",
       "<caption>A tibble: 0 × 2</caption>\n",
       "<thead>\n",
       "\t<tr><th scope=col>tld_registrar_index</th><th scope=col>n</th></tr>\n",
       "\t<tr><th scope=col>&lt;chr&gt;</th><th scope=col>&lt;int&gt;</th></tr>\n",
       "</thead>\n",
       "<tbody>\n",
       "</tbody>\n",
       "</table>\n"
      ],
      "text/latex": [
       "A tibble: 0 × 2\n",
       "\\begin{tabular}{ll}\n",
       " tld\\_registrar\\_index & n\\\\\n",
       " <chr> & <int>\\\\\n",
       "\\hline\n",
       "\\end{tabular}\n"
      ],
      "text/markdown": [
       "\n",
       "A tibble: 0 × 2\n",
       "\n",
       "| tld_registrar_index &lt;chr&gt; | n &lt;int&gt; |\n",
       "|---|---|\n",
       "\n"
      ],
      "text/plain": [
       "     tld_registrar_index n"
      ]
     },
     "metadata": {},
     "output_type": "display_data"
    }
   ],
   "source": [
    "#    for 391 obs in predictions with no domain_id...\n",
    "# test_ <- read.csv(\"../../data/tld_reseller_compare_predictions.csv\") \n",
    "#    all of tld_reg only have at max one such row\n",
    "sum(test_ %>% filter(is.na(domain))  %>% select(tld_registrar_index) %>% table() >1)\n",
    "#    how many observations do they have in test data vs in predictions?\n",
    "tld_reg_ <- test_ %>% filter(is.na(domain))  %>% pull(tld_registrar_index)\n",
    "expiry_test_df_1 %>% filter(tld_registrar_index %in% tld_reg_) %>% group_by(tld_registrar_index) %>% tally()\n"
   ]
  },
  {
   "cell_type": "code",
   "execution_count": 140,
   "metadata": {},
   "outputs": [
    {
     "data": {
      "text/html": [
       "hostbaidu\n",
       "<details>\n",
       "\t<summary style=display:list-item;cursor:pointer>\n",
       "\t\t<strong>Levels</strong>:\n",
       "\t</summary>\n",
       "\t<style>\n",
       "\t.list-inline {list-style: none; margin:0; padding: 0}\n",
       "\t.list-inline>li {display: inline-block}\n",
       "\t.list-inline>li:not(:last-child)::after {content: \"\\00b7\"; padding: 0 .5ex}\n",
       "\t</style>\n",
       "\t<ol class=list-inline><li>'fun1&amp;1 internet'</li><li>'fun10dencehispahard'</li><li>'fun1api'</li><li>'funab name isp'</li><li>'funactive 24'</li><li>'funalfahosting'</li><li>'funalibaba'</li><li>'funalibaba sg'</li><li>'funargeweb'</li><li>'funarsys'</li><li>'funascio'</li><li>'funautomattic'</li><li>'funbaidu'</li><li>'funbeget'</li><li>'funbeijing guoxu'</li><li>'funbeon intermedia'</li><li>'funbizcn'</li><li>'funcafe24'</li><li>'funcheck domain'</li><li>'funchengdu fly'</li><li>'funchengdu west'</li><li>'funcom laude'</li><li>'funcrazy domains'</li><li>'funcronon ag'</li><li>'funcsc corporate'</li><li>'funcsl'</li><li>'fundinahosting'</li><li>'fundnc holdings'</li><li>'fundomain discount'</li><li>'fundomain.com - registrar'</li><li>'fundomains4bitcoins'</li><li>'fundomeneshop'</li><li>'fundotname korea'</li><li>'fundotserve inc'</li><li>'fundreamhost'</li><li>'fundynadot'</li><li>'funejee group'</li><li>'funenom'</li><li>'funepik llc'</li><li>'funeranet'</li><li>'funeuro dns'</li><li>'funevoplus ltd'</li><li>'funfbs'</li><li>'funforpsi'</li><li>'funfoshan yidong'</li><li>'fungabia'</li><li>'fungandi sas'</li><li>'funglobal domains'</li><li>'fungmo'</li><li>'fungo daddy'</li><li>'fungoogle'</li><li>'funhostgator brazil'</li><li>'funhosting concepts'</li><li>'funhosting ukraine'</li><li>'funhostpoint'</li><li>'funhover'</li><li>'funicn'</li><li>'funinfomaniak.ch'</li><li>'funinstra corporation'</li><li>'funinternetworx ltd'</li><li>'funinterserver'</li><li>'funipage enom'</li><li>'funiwantmyname'</li><li>'funkey-systems'</li><li>'funkreativmedia'</li><li>'funledl.net'</li><li>'funligne web services'</li><li>'funliquidnet'</li><li>'funmarkmonitor'</li><li>'funmat bao'</li><li>'funmesh digital'</li><li>'funmetaregistrar'</li><li>'funmoniker'</li><li>'funmuumuu'</li><li>'funname.com'</li><li>'funnamecheap'</li><li>'funnamesco'</li><li>'funnamesilo'</li><li>'funnethouse'</li><li>'funnetim'</li><li>'funnetowl'</li><li>'funnettigritty'</li><li>'funnetwork solutions'</li><li>'funneubox'</li><li>'funnhan hoa software'</li><li>'funnicenic'</li><li>'funopentld b.v.'</li><li>'funovh'</li><li>'funp.a viet nam'</li><li>'funpdr ltd'</li><li>'funporkbun'</li><li>'funrebrandly'</li><li>'funreg.ru'</li><li>'funregister.com'</li><li>'funregister.it'</li><li>'funregistrator domenov '</li><li>'funregway'</li><li>'funru-center'</li><li>'funrumahweb'</li><li>'funsered'</li><li>'funshanghai best oray'</li><li>'funshanghai meicheng'</li><li>'funshopify'</li><li>'funsoluciones corporativas'</li><li>'funsquarespace'</li><li>'funtecnocratica centro'</li><li>'funtenten'</li><li>'funtimeweb'</li><li>'funtodaynic'</li><li>'funtucows'</li><li>'fununiregistrar'</li><li>'fununited domains'</li><li>'funuol'</li><li>'funurl solutions'</li><li>'funvalue domain'</li><li>'funvimexx trc'</li><li>'funwebsupport.sk'</li><li>'funwest263 international'</li><li>'funwhois'</li><li>'funwild west'</li><li>'funxiamen chinasource'</li><li>'funxiamen nawang'</li><li>'funxin net'</li><li>'funzhengzhou century connect'</li><li>'funzhengzhou zitian'</li><li>'host1&amp;1 internet'</li><li>'host1api'</li><li>'hostafrihost'</li><li>'hostaruba'</li><li>'hostascio'</li><li>'hostautomattic'</li><li>'hostbaidu'</li><li>'hostbb online'</li><li>'hostbeget'</li><li>'hostbigrock'</li><li>'hostbizcn'</li><li>'hostblacknight'</li><li>'hostbluehost'</li><li>'hostchengdu west'</li><li>'hostcom laude'</li><li>'hostcorehub'</li><li>'hostcrazy domains'</li><li>'hostcronon ag'</li><li>'hostdiamatrix'</li><li>'hostdomain.com - registrar'</li><li>'hostdomainesia'</li><li>'hostdomains4bitcoins'</li><li>'hostdomeneshop'</li><li>'hostdomeny.pl'</li><li>'hostdonweb'</li><li>'hostdotserve inc'</li><li>'hostdynadot'</li><li>'hosteasyspace'</li><li>'hosteims'</li><li>'hostenom'</li><li>'hosteranet'</li><li>'hosteuro dns'</li><li>'hostfbs'</li><li>'hostgandi sas'</li><li>'hostglobal domains'</li><li>'hostgmo'</li><li>'hostgo daddy'</li><li>'hostgoogle'</li><li>'hosthostgator'</li><li>'hosthostgator brazil'</li><li>'hosthostgator mexico'</li><li>'hosthosting concepts'</li><li>'hosthover'</li><li>'hostinternetx'</li><li>'hostiwantmyname'</li><li>'hostjogjacamp'</li><li>'hostkey-systems'</li><li>'hostliquidnet'</li><li>'hostmarkmonitor'</li><li>'hostmelbourne it'</li><li>'hostmesh digital'</li><li>'hostmijn internet'</li><li>'hostname.com'</li><li>'hostnamecheap'</li><li>'hostnamesilo'</li><li>'hostnetim'</li><li>'hostnetwork solutions'</li><li>'hostneubox'</li><li>'hostnicenic'</li><li>'hostonline sas'</li><li>'hostonlinenic'</li><li>'hostovh'</li><li>'hostparagon internet'</li><li>'hostpdr ltd'</li><li>'hostporkbun'</li><li>'hostpromo people'</li><li>'hostrebrandly'</li><li>'hostreg.ru'</li><li>'hostregister.it'</li><li>'hostregistrator domenov '</li><li>'hostregway'</li><li>'hostshanghai best oray'</li><li>'hostshanghai meicheng'</li><li>'hostshinjiru'</li><li>'hostsoluciones corporativas'</li><li>⋯</li><li>'techwest263 international'</li><li>'techwhogohost'</li><li>'techwhois'</li><li>'techwhois networks'</li><li>'techwild west'</li><li>'techwix'</li><li>'techworld4you'</li><li>'techxiamen chinasource'</li><li>'techxiamen nawang'</li><li>'techxin net'</li><li>'techyahoo'</li><li>'techyour hosting'</li><li>'techzhengzhou century connect'</li><li>'website1&amp;1 internet'</li><li>'website101 domain'</li><li>'website10dencehispahard'</li><li>'website123hjemmeside'</li><li>'website1api'</li><li>'website1blu'</li><li>'websitea small orange'</li><li>'websitea2hosting'</li><li>'websiteab name isp'</li><li>'websiteactive 24'</li><li>'websitealastry'</li><li>'websitealibaba'</li><li>'websiteamen fr'</li><li>'websiteantagonist'</li><li>'websiteargeweb'</li><li>'websitearuba'</li><li>'websiteascio'</li><li>'websiteautomattic'</li><li>'websitebaidu'</li><li>'websitebeget'</li><li>'websitebeon intermedia'</li><li>'websitebigrock'</li><li>'websitebizcn'</li><li>'websiteblacknight'</li><li>'websitebluehost'</li><li>'websitebrandma'</li><li>'websitecafe24'</li><li>'websitecheck domain'</li><li>'websitechengdu west'</li><li>'websitecom laude'</li><li>'websitecorehub'</li><li>'websitecrazy domains'</li><li>'websitecronon ag'</li><li>'websitecsc corporate'</li><li>'websitecsl'</li><li>'websitediamatrix'</li><li>'websitednc holdings'</li><li>'websitedomain discount'</li><li>'websitedomain the net'</li><li>'websitedomain.com'</li><li>'websitedomain.com - registrar'</li><li>'websitedomaindiscover.com'</li><li>'websitedomainesia'</li><li>'websitedomainfactory'</li><li>'websitedomains4bitcoins'</li><li>'websitedomeneshop'</li><li>'websitedominios.pt'</li><li>'websitedonweb'</li><li>'websitedotname korea'</li><li>'websitedotserve inc'</li><li>'websitedreamhost'</li><li>'websitedynadot'</li><li>'websiteenom'</li><li>'websiteepik llc'</li><li>'websiteeranet'</li><li>'websiteeuro dns'</li><li>'websitefasthosts'</li><li>'websitefbs'</li><li>'websiteflexwebhosting'</li><li>'websiteforpsi'</li><li>'websitegabia'</li><li>'websitegandi sas'</li><li>'websiteglobal domains'</li><li>'websitegmo'</li><li>'websitego daddy'</li><li>'websitegoogle'</li><li>'websitegransy'</li><li>'websitegridhost'</li><li>'websiteguzel hosting'</li><li>'websitehostens'</li><li>'websitehostgator'</li><li>'websitehostgator brazil'</li><li>'websitehostgator mexico'</li><li>'websitehosting concepts'</li><li>'websitehosting ukraine'</li><li>'websitehostinger'</li><li>'websitehostpoint'</li><li>'websitehoststar'</li><li>'websitehover'</li><li>'websiteicn'</li><li>'websiteidwebhost'</li><li>'websiteimpreza'</li><li>'websiteinfomaniak.ch'</li><li>'websiteinstra corporation'</li><li>'websiteinterneto vizija'</li><li>'websiteinternetworx ltd'</li><li>'websiteinternetx'</li><li>'websiteinterserver'</li><li>'websiteipage domain.com'</li><li>'websiteipage enom'</li><li>'websiteipage pdr ltd'</li><li>'websiteiwantmyname'</li><li>'websitekey-systems'</li><li>'websitekreativmedia'</li><li>'websiteledl.net'</li><li>'websiteligne web services'</li><li>'websiteliquidnet'</li><li>'websiteloopia'</li><li>'websitemarkmonitor'</li><li>'websitemat bao'</li><li>'websitemelbourne it'</li><li>'websitemesh digital'</li><li>'websitemetaregistrar'</li><li>'websitemijn internet'</li><li>'websitemoniker'</li><li>'websitemuumuu'</li><li>'websitename.com'</li><li>'websitenamecheap'</li><li>'websitenamesco'</li><li>'websitenameshield'</li><li>'websitenamesilo'</li><li>'websitenameweb'</li><li>'websiteneostrada'</li><li>'websitenethouse'</li><li>'websitenetim'</li><li>'websitenetowl'</li><li>'websitenettigritty'</li><li>'websitenetwork solutions'</li><li>'websiteneubox'</li><li>'websiteniaga hoster'</li><li>'websitenicenic'</li><li>'websitenics telekom'</li><li>'websitenominalia'</li><li>'websiteonline sas'</li><li>'websiteonlinenic'</li><li>'websiteopentld b.v.'</li><li>'websiteovh'</li><li>'websiteownregistrar'</li><li>'websitep.a viet nam'</li><li>'websitepapaki'</li><li>'websiteparagon internet'</li><li>'websitepdr china'</li><li>'websitepdr ltd'</li><li>'websiteplanet hoster'</li><li>'websiteporkbun'</li><li>'websitepromo people'</li><li>'websiterebrandly'</li><li>'websiteredehost'</li><li>'websitereg.ru'</li><li>'websiteregister.com'</li><li>'websiteregister.it'</li><li>'websiteregistrator domenov '</li><li>'websiteregistrygate'</li><li>'websiteregtime ltd'</li><li>'websiteregway'</li><li>'websiteru-center'</li><li>'websiterumahweb'</li><li>'websitesered'</li><li>'websiteshanghai best oray'</li><li>'websiteshanghai meicheng'</li><li>'websiteshopify'</li><li>'websitesibername'</li><li>'websitesmartweb'</li><li>'websitesquarespace'</li><li>'websitesuper registry'</li><li>'websitesuperdominios'</li><li>'websitesuperhosting'</li><li>'websitesynergy wholesale'</li><li>'websitetenten'</li><li>'websitethe registrar company b.v.'</li><li>'websitetld registrar solns'</li><li>'websitetradeindia'</li><li>'websitetransip'</li><li>'websitetucows'</li><li>'websiteuk2'</li><li>'websiteuniregistrar'</li><li>'websiteunited domains'</li><li>'websiteuol'</li><li>'websiteurl solutions'</li><li>'websitevalue domain'</li><li>'websitevautron'</li><li>'websiteversio'</li><li>'websiteweb4africa'</li><li>'websitewebnames'</li><li>'websiteweebly'</li><li>'websitewest263 international'</li><li>'websitewhogohost'</li><li>'websitewhois'</li><li>'websitewild west'</li><li>'websitewix'</li><li>'websiteworld4you'</li><li>'websitexin net'</li><li>'websitexpress'</li><li>'websiteyahoo'</li><li>'websiteyour hosting'</li><li>'websitezhengzhou century connect'</li><li>'websitezhengzhou zitian'</li></ol>\n",
       "</details>"
      ],
      "text/latex": [
       "hostbaidu\n",
       "\\emph{Levels}: \\begin{enumerate*}\n",
       "\\item 'fun1\\&1 internet'\n",
       "\\item 'fun10dencehispahard'\n",
       "\\item 'fun1api'\n",
       "\\item 'funab name isp'\n",
       "\\item 'funactive 24'\n",
       "\\item 'funalfahosting'\n",
       "\\item 'funalibaba'\n",
       "\\item 'funalibaba sg'\n",
       "\\item 'funargeweb'\n",
       "\\item 'funarsys'\n",
       "\\item 'funascio'\n",
       "\\item 'funautomattic'\n",
       "\\item 'funbaidu'\n",
       "\\item 'funbeget'\n",
       "\\item 'funbeijing guoxu'\n",
       "\\item 'funbeon intermedia'\n",
       "\\item 'funbizcn'\n",
       "\\item 'funcafe24'\n",
       "\\item 'funcheck domain'\n",
       "\\item 'funchengdu fly'\n",
       "\\item 'funchengdu west'\n",
       "\\item 'funcom laude'\n",
       "\\item 'funcrazy domains'\n",
       "\\item 'funcronon ag'\n",
       "\\item 'funcsc corporate'\n",
       "\\item 'funcsl'\n",
       "\\item 'fundinahosting'\n",
       "\\item 'fundnc holdings'\n",
       "\\item 'fundomain discount'\n",
       "\\item 'fundomain.com - registrar'\n",
       "\\item 'fundomains4bitcoins'\n",
       "\\item 'fundomeneshop'\n",
       "\\item 'fundotname korea'\n",
       "\\item 'fundotserve inc'\n",
       "\\item 'fundreamhost'\n",
       "\\item 'fundynadot'\n",
       "\\item 'funejee group'\n",
       "\\item 'funenom'\n",
       "\\item 'funepik llc'\n",
       "\\item 'funeranet'\n",
       "\\item 'funeuro dns'\n",
       "\\item 'funevoplus ltd'\n",
       "\\item 'funfbs'\n",
       "\\item 'funforpsi'\n",
       "\\item 'funfoshan yidong'\n",
       "\\item 'fungabia'\n",
       "\\item 'fungandi sas'\n",
       "\\item 'funglobal domains'\n",
       "\\item 'fungmo'\n",
       "\\item 'fungo daddy'\n",
       "\\item 'fungoogle'\n",
       "\\item 'funhostgator brazil'\n",
       "\\item 'funhosting concepts'\n",
       "\\item 'funhosting ukraine'\n",
       "\\item 'funhostpoint'\n",
       "\\item 'funhover'\n",
       "\\item 'funicn'\n",
       "\\item 'funinfomaniak.ch'\n",
       "\\item 'funinstra corporation'\n",
       "\\item 'funinternetworx ltd'\n",
       "\\item 'funinterserver'\n",
       "\\item 'funipage enom'\n",
       "\\item 'funiwantmyname'\n",
       "\\item 'funkey-systems'\n",
       "\\item 'funkreativmedia'\n",
       "\\item 'funledl.net'\n",
       "\\item 'funligne web services'\n",
       "\\item 'funliquidnet'\n",
       "\\item 'funmarkmonitor'\n",
       "\\item 'funmat bao'\n",
       "\\item 'funmesh digital'\n",
       "\\item 'funmetaregistrar'\n",
       "\\item 'funmoniker'\n",
       "\\item 'funmuumuu'\n",
       "\\item 'funname.com'\n",
       "\\item 'funnamecheap'\n",
       "\\item 'funnamesco'\n",
       "\\item 'funnamesilo'\n",
       "\\item 'funnethouse'\n",
       "\\item 'funnetim'\n",
       "\\item 'funnetowl'\n",
       "\\item 'funnettigritty'\n",
       "\\item 'funnetwork solutions'\n",
       "\\item 'funneubox'\n",
       "\\item 'funnhan hoa software'\n",
       "\\item 'funnicenic'\n",
       "\\item 'funopentld b.v.'\n",
       "\\item 'funovh'\n",
       "\\item 'funp.a viet nam'\n",
       "\\item 'funpdr ltd'\n",
       "\\item 'funporkbun'\n",
       "\\item 'funrebrandly'\n",
       "\\item 'funreg.ru'\n",
       "\\item 'funregister.com'\n",
       "\\item 'funregister.it'\n",
       "\\item 'funregistrator domenov '\n",
       "\\item 'funregway'\n",
       "\\item 'funru-center'\n",
       "\\item 'funrumahweb'\n",
       "\\item 'funsered'\n",
       "\\item 'funshanghai best oray'\n",
       "\\item 'funshanghai meicheng'\n",
       "\\item 'funshopify'\n",
       "\\item 'funsoluciones corporativas'\n",
       "\\item 'funsquarespace'\n",
       "\\item 'funtecnocratica centro'\n",
       "\\item 'funtenten'\n",
       "\\item 'funtimeweb'\n",
       "\\item 'funtodaynic'\n",
       "\\item 'funtucows'\n",
       "\\item 'fununiregistrar'\n",
       "\\item 'fununited domains'\n",
       "\\item 'funuol'\n",
       "\\item 'funurl solutions'\n",
       "\\item 'funvalue domain'\n",
       "\\item 'funvimexx trc'\n",
       "\\item 'funwebsupport.sk'\n",
       "\\item 'funwest263 international'\n",
       "\\item 'funwhois'\n",
       "\\item 'funwild west'\n",
       "\\item 'funxiamen chinasource'\n",
       "\\item 'funxiamen nawang'\n",
       "\\item 'funxin net'\n",
       "\\item 'funzhengzhou century connect'\n",
       "\\item 'funzhengzhou zitian'\n",
       "\\item 'host1\\&1 internet'\n",
       "\\item 'host1api'\n",
       "\\item 'hostafrihost'\n",
       "\\item 'hostaruba'\n",
       "\\item 'hostascio'\n",
       "\\item 'hostautomattic'\n",
       "\\item 'hostbaidu'\n",
       "\\item 'hostbb online'\n",
       "\\item 'hostbeget'\n",
       "\\item 'hostbigrock'\n",
       "\\item 'hostbizcn'\n",
       "\\item 'hostblacknight'\n",
       "\\item 'hostbluehost'\n",
       "\\item 'hostchengdu west'\n",
       "\\item 'hostcom laude'\n",
       "\\item 'hostcorehub'\n",
       "\\item 'hostcrazy domains'\n",
       "\\item 'hostcronon ag'\n",
       "\\item 'hostdiamatrix'\n",
       "\\item 'hostdomain.com - registrar'\n",
       "\\item 'hostdomainesia'\n",
       "\\item 'hostdomains4bitcoins'\n",
       "\\item 'hostdomeneshop'\n",
       "\\item 'hostdomeny.pl'\n",
       "\\item 'hostdonweb'\n",
       "\\item 'hostdotserve inc'\n",
       "\\item 'hostdynadot'\n",
       "\\item 'hosteasyspace'\n",
       "\\item 'hosteims'\n",
       "\\item 'hostenom'\n",
       "\\item 'hosteranet'\n",
       "\\item 'hosteuro dns'\n",
       "\\item 'hostfbs'\n",
       "\\item 'hostgandi sas'\n",
       "\\item 'hostglobal domains'\n",
       "\\item 'hostgmo'\n",
       "\\item 'hostgo daddy'\n",
       "\\item 'hostgoogle'\n",
       "\\item 'hosthostgator'\n",
       "\\item 'hosthostgator brazil'\n",
       "\\item 'hosthostgator mexico'\n",
       "\\item 'hosthosting concepts'\n",
       "\\item 'hosthover'\n",
       "\\item 'hostinternetx'\n",
       "\\item 'hostiwantmyname'\n",
       "\\item 'hostjogjacamp'\n",
       "\\item 'hostkey-systems'\n",
       "\\item 'hostliquidnet'\n",
       "\\item 'hostmarkmonitor'\n",
       "\\item 'hostmelbourne it'\n",
       "\\item 'hostmesh digital'\n",
       "\\item 'hostmijn internet'\n",
       "\\item 'hostname.com'\n",
       "\\item 'hostnamecheap'\n",
       "\\item 'hostnamesilo'\n",
       "\\item 'hostnetim'\n",
       "\\item 'hostnetwork solutions'\n",
       "\\item 'hostneubox'\n",
       "\\item 'hostnicenic'\n",
       "\\item 'hostonline sas'\n",
       "\\item 'hostonlinenic'\n",
       "\\item 'hostovh'\n",
       "\\item 'hostparagon internet'\n",
       "\\item 'hostpdr ltd'\n",
       "\\item 'hostporkbun'\n",
       "\\item 'hostpromo people'\n",
       "\\item 'hostrebrandly'\n",
       "\\item 'hostreg.ru'\n",
       "\\item 'hostregister.it'\n",
       "\\item 'hostregistrator domenov '\n",
       "\\item 'hostregway'\n",
       "\\item 'hostshanghai best oray'\n",
       "\\item 'hostshanghai meicheng'\n",
       "\\item 'hostshinjiru'\n",
       "\\item 'hostsoluciones corporativas'\n",
       "\\item ⋯\n",
       "\\item 'techwest263 international'\n",
       "\\item 'techwhogohost'\n",
       "\\item 'techwhois'\n",
       "\\item 'techwhois networks'\n",
       "\\item 'techwild west'\n",
       "\\item 'techwix'\n",
       "\\item 'techworld4you'\n",
       "\\item 'techxiamen chinasource'\n",
       "\\item 'techxiamen nawang'\n",
       "\\item 'techxin net'\n",
       "\\item 'techyahoo'\n",
       "\\item 'techyour hosting'\n",
       "\\item 'techzhengzhou century connect'\n",
       "\\item 'website1\\&1 internet'\n",
       "\\item 'website101 domain'\n",
       "\\item 'website10dencehispahard'\n",
       "\\item 'website123hjemmeside'\n",
       "\\item 'website1api'\n",
       "\\item 'website1blu'\n",
       "\\item 'websitea small orange'\n",
       "\\item 'websitea2hosting'\n",
       "\\item 'websiteab name isp'\n",
       "\\item 'websiteactive 24'\n",
       "\\item 'websitealastry'\n",
       "\\item 'websitealibaba'\n",
       "\\item 'websiteamen fr'\n",
       "\\item 'websiteantagonist'\n",
       "\\item 'websiteargeweb'\n",
       "\\item 'websitearuba'\n",
       "\\item 'websiteascio'\n",
       "\\item 'websiteautomattic'\n",
       "\\item 'websitebaidu'\n",
       "\\item 'websitebeget'\n",
       "\\item 'websitebeon intermedia'\n",
       "\\item 'websitebigrock'\n",
       "\\item 'websitebizcn'\n",
       "\\item 'websiteblacknight'\n",
       "\\item 'websitebluehost'\n",
       "\\item 'websitebrandma'\n",
       "\\item 'websitecafe24'\n",
       "\\item 'websitecheck domain'\n",
       "\\item 'websitechengdu west'\n",
       "\\item 'websitecom laude'\n",
       "\\item 'websitecorehub'\n",
       "\\item 'websitecrazy domains'\n",
       "\\item 'websitecronon ag'\n",
       "\\item 'websitecsc corporate'\n",
       "\\item 'websitecsl'\n",
       "\\item 'websitediamatrix'\n",
       "\\item 'websitednc holdings'\n",
       "\\item 'websitedomain discount'\n",
       "\\item 'websitedomain the net'\n",
       "\\item 'websitedomain.com'\n",
       "\\item 'websitedomain.com - registrar'\n",
       "\\item 'websitedomaindiscover.com'\n",
       "\\item 'websitedomainesia'\n",
       "\\item 'websitedomainfactory'\n",
       "\\item 'websitedomains4bitcoins'\n",
       "\\item 'websitedomeneshop'\n",
       "\\item 'websitedominios.pt'\n",
       "\\item 'websitedonweb'\n",
       "\\item 'websitedotname korea'\n",
       "\\item 'websitedotserve inc'\n",
       "\\item 'websitedreamhost'\n",
       "\\item 'websitedynadot'\n",
       "\\item 'websiteenom'\n",
       "\\item 'websiteepik llc'\n",
       "\\item 'websiteeranet'\n",
       "\\item 'websiteeuro dns'\n",
       "\\item 'websitefasthosts'\n",
       "\\item 'websitefbs'\n",
       "\\item 'websiteflexwebhosting'\n",
       "\\item 'websiteforpsi'\n",
       "\\item 'websitegabia'\n",
       "\\item 'websitegandi sas'\n",
       "\\item 'websiteglobal domains'\n",
       "\\item 'websitegmo'\n",
       "\\item 'websitego daddy'\n",
       "\\item 'websitegoogle'\n",
       "\\item 'websitegransy'\n",
       "\\item 'websitegridhost'\n",
       "\\item 'websiteguzel hosting'\n",
       "\\item 'websitehostens'\n",
       "\\item 'websitehostgator'\n",
       "\\item 'websitehostgator brazil'\n",
       "\\item 'websitehostgator mexico'\n",
       "\\item 'websitehosting concepts'\n",
       "\\item 'websitehosting ukraine'\n",
       "\\item 'websitehostinger'\n",
       "\\item 'websitehostpoint'\n",
       "\\item 'websitehoststar'\n",
       "\\item 'websitehover'\n",
       "\\item 'websiteicn'\n",
       "\\item 'websiteidwebhost'\n",
       "\\item 'websiteimpreza'\n",
       "\\item 'websiteinfomaniak.ch'\n",
       "\\item 'websiteinstra corporation'\n",
       "\\item 'websiteinterneto vizija'\n",
       "\\item 'websiteinternetworx ltd'\n",
       "\\item 'websiteinternetx'\n",
       "\\item 'websiteinterserver'\n",
       "\\item 'websiteipage domain.com'\n",
       "\\item 'websiteipage enom'\n",
       "\\item 'websiteipage pdr ltd'\n",
       "\\item 'websiteiwantmyname'\n",
       "\\item 'websitekey-systems'\n",
       "\\item 'websitekreativmedia'\n",
       "\\item 'websiteledl.net'\n",
       "\\item 'websiteligne web services'\n",
       "\\item 'websiteliquidnet'\n",
       "\\item 'websiteloopia'\n",
       "\\item 'websitemarkmonitor'\n",
       "\\item 'websitemat bao'\n",
       "\\item 'websitemelbourne it'\n",
       "\\item 'websitemesh digital'\n",
       "\\item 'websitemetaregistrar'\n",
       "\\item 'websitemijn internet'\n",
       "\\item 'websitemoniker'\n",
       "\\item 'websitemuumuu'\n",
       "\\item 'websitename.com'\n",
       "\\item 'websitenamecheap'\n",
       "\\item 'websitenamesco'\n",
       "\\item 'websitenameshield'\n",
       "\\item 'websitenamesilo'\n",
       "\\item 'websitenameweb'\n",
       "\\item 'websiteneostrada'\n",
       "\\item 'websitenethouse'\n",
       "\\item 'websitenetim'\n",
       "\\item 'websitenetowl'\n",
       "\\item 'websitenettigritty'\n",
       "\\item 'websitenetwork solutions'\n",
       "\\item 'websiteneubox'\n",
       "\\item 'websiteniaga hoster'\n",
       "\\item 'websitenicenic'\n",
       "\\item 'websitenics telekom'\n",
       "\\item 'websitenominalia'\n",
       "\\item 'websiteonline sas'\n",
       "\\item 'websiteonlinenic'\n",
       "\\item 'websiteopentld b.v.'\n",
       "\\item 'websiteovh'\n",
       "\\item 'websiteownregistrar'\n",
       "\\item 'websitep.a viet nam'\n",
       "\\item 'websitepapaki'\n",
       "\\item 'websiteparagon internet'\n",
       "\\item 'websitepdr china'\n",
       "\\item 'websitepdr ltd'\n",
       "\\item 'websiteplanet hoster'\n",
       "\\item 'websiteporkbun'\n",
       "\\item 'websitepromo people'\n",
       "\\item 'websiterebrandly'\n",
       "\\item 'websiteredehost'\n",
       "\\item 'websitereg.ru'\n",
       "\\item 'websiteregister.com'\n",
       "\\item 'websiteregister.it'\n",
       "\\item 'websiteregistrator domenov '\n",
       "\\item 'websiteregistrygate'\n",
       "\\item 'websiteregtime ltd'\n",
       "\\item 'websiteregway'\n",
       "\\item 'websiteru-center'\n",
       "\\item 'websiterumahweb'\n",
       "\\item 'websitesered'\n",
       "\\item 'websiteshanghai best oray'\n",
       "\\item 'websiteshanghai meicheng'\n",
       "\\item 'websiteshopify'\n",
       "\\item 'websitesibername'\n",
       "\\item 'websitesmartweb'\n",
       "\\item 'websitesquarespace'\n",
       "\\item 'websitesuper registry'\n",
       "\\item 'websitesuperdominios'\n",
       "\\item 'websitesuperhosting'\n",
       "\\item 'websitesynergy wholesale'\n",
       "\\item 'websitetenten'\n",
       "\\item 'websitethe registrar company b.v.'\n",
       "\\item 'websitetld registrar solns'\n",
       "\\item 'websitetradeindia'\n",
       "\\item 'websitetransip'\n",
       "\\item 'websitetucows'\n",
       "\\item 'websiteuk2'\n",
       "\\item 'websiteuniregistrar'\n",
       "\\item 'websiteunited domains'\n",
       "\\item 'websiteuol'\n",
       "\\item 'websiteurl solutions'\n",
       "\\item 'websitevalue domain'\n",
       "\\item 'websitevautron'\n",
       "\\item 'websiteversio'\n",
       "\\item 'websiteweb4africa'\n",
       "\\item 'websitewebnames'\n",
       "\\item 'websiteweebly'\n",
       "\\item 'websitewest263 international'\n",
       "\\item 'websitewhogohost'\n",
       "\\item 'websitewhois'\n",
       "\\item 'websitewild west'\n",
       "\\item 'websitewix'\n",
       "\\item 'websiteworld4you'\n",
       "\\item 'websitexin net'\n",
       "\\item 'websitexpress'\n",
       "\\item 'websiteyahoo'\n",
       "\\item 'websiteyour hosting'\n",
       "\\item 'websitezhengzhou century connect'\n",
       "\\item 'websitezhengzhou zitian'\n",
       "\\end{enumerate*}\n"
      ],
      "text/markdown": [
       "hostbaidu\n",
       "**Levels**: 1. 'fun1&amp;1 internet'\n",
       "2. 'fun10dencehispahard'\n",
       "3. 'fun1api'\n",
       "4. 'funab name isp'\n",
       "5. 'funactive 24'\n",
       "6. 'funalfahosting'\n",
       "7. 'funalibaba'\n",
       "8. 'funalibaba sg'\n",
       "9. 'funargeweb'\n",
       "10. 'funarsys'\n",
       "11. 'funascio'\n",
       "12. 'funautomattic'\n",
       "13. 'funbaidu'\n",
       "14. 'funbeget'\n",
       "15. 'funbeijing guoxu'\n",
       "16. 'funbeon intermedia'\n",
       "17. 'funbizcn'\n",
       "18. 'funcafe24'\n",
       "19. 'funcheck domain'\n",
       "20. 'funchengdu fly'\n",
       "21. 'funchengdu west'\n",
       "22. 'funcom laude'\n",
       "23. 'funcrazy domains'\n",
       "24. 'funcronon ag'\n",
       "25. 'funcsc corporate'\n",
       "26. 'funcsl'\n",
       "27. 'fundinahosting'\n",
       "28. 'fundnc holdings'\n",
       "29. 'fundomain discount'\n",
       "30. 'fundomain.com - registrar'\n",
       "31. 'fundomains4bitcoins'\n",
       "32. 'fundomeneshop'\n",
       "33. 'fundotname korea'\n",
       "34. 'fundotserve inc'\n",
       "35. 'fundreamhost'\n",
       "36. 'fundynadot'\n",
       "37. 'funejee group'\n",
       "38. 'funenom'\n",
       "39. 'funepik llc'\n",
       "40. 'funeranet'\n",
       "41. 'funeuro dns'\n",
       "42. 'funevoplus ltd'\n",
       "43. 'funfbs'\n",
       "44. 'funforpsi'\n",
       "45. 'funfoshan yidong'\n",
       "46. 'fungabia'\n",
       "47. 'fungandi sas'\n",
       "48. 'funglobal domains'\n",
       "49. 'fungmo'\n",
       "50. 'fungo daddy'\n",
       "51. 'fungoogle'\n",
       "52. 'funhostgator brazil'\n",
       "53. 'funhosting concepts'\n",
       "54. 'funhosting ukraine'\n",
       "55. 'funhostpoint'\n",
       "56. 'funhover'\n",
       "57. 'funicn'\n",
       "58. 'funinfomaniak.ch'\n",
       "59. 'funinstra corporation'\n",
       "60. 'funinternetworx ltd'\n",
       "61. 'funinterserver'\n",
       "62. 'funipage enom'\n",
       "63. 'funiwantmyname'\n",
       "64. 'funkey-systems'\n",
       "65. 'funkreativmedia'\n",
       "66. 'funledl.net'\n",
       "67. 'funligne web services'\n",
       "68. 'funliquidnet'\n",
       "69. 'funmarkmonitor'\n",
       "70. 'funmat bao'\n",
       "71. 'funmesh digital'\n",
       "72. 'funmetaregistrar'\n",
       "73. 'funmoniker'\n",
       "74. 'funmuumuu'\n",
       "75. 'funname.com'\n",
       "76. 'funnamecheap'\n",
       "77. 'funnamesco'\n",
       "78. 'funnamesilo'\n",
       "79. 'funnethouse'\n",
       "80. 'funnetim'\n",
       "81. 'funnetowl'\n",
       "82. 'funnettigritty'\n",
       "83. 'funnetwork solutions'\n",
       "84. 'funneubox'\n",
       "85. 'funnhan hoa software'\n",
       "86. 'funnicenic'\n",
       "87. 'funopentld b.v.'\n",
       "88. 'funovh'\n",
       "89. 'funp.a viet nam'\n",
       "90. 'funpdr ltd'\n",
       "91. 'funporkbun'\n",
       "92. 'funrebrandly'\n",
       "93. 'funreg.ru'\n",
       "94. 'funregister.com'\n",
       "95. 'funregister.it'\n",
       "96. 'funregistrator domenov '\n",
       "97. 'funregway'\n",
       "98. 'funru-center'\n",
       "99. 'funrumahweb'\n",
       "100. 'funsered'\n",
       "101. 'funshanghai best oray'\n",
       "102. 'funshanghai meicheng'\n",
       "103. 'funshopify'\n",
       "104. 'funsoluciones corporativas'\n",
       "105. 'funsquarespace'\n",
       "106. 'funtecnocratica centro'\n",
       "107. 'funtenten'\n",
       "108. 'funtimeweb'\n",
       "109. 'funtodaynic'\n",
       "110. 'funtucows'\n",
       "111. 'fununiregistrar'\n",
       "112. 'fununited domains'\n",
       "113. 'funuol'\n",
       "114. 'funurl solutions'\n",
       "115. 'funvalue domain'\n",
       "116. 'funvimexx trc'\n",
       "117. 'funwebsupport.sk'\n",
       "118. 'funwest263 international'\n",
       "119. 'funwhois'\n",
       "120. 'funwild west'\n",
       "121. 'funxiamen chinasource'\n",
       "122. 'funxiamen nawang'\n",
       "123. 'funxin net'\n",
       "124. 'funzhengzhou century connect'\n",
       "125. 'funzhengzhou zitian'\n",
       "126. 'host1&amp;1 internet'\n",
       "127. 'host1api'\n",
       "128. 'hostafrihost'\n",
       "129. 'hostaruba'\n",
       "130. 'hostascio'\n",
       "131. 'hostautomattic'\n",
       "132. 'hostbaidu'\n",
       "133. 'hostbb online'\n",
       "134. 'hostbeget'\n",
       "135. 'hostbigrock'\n",
       "136. 'hostbizcn'\n",
       "137. 'hostblacknight'\n",
       "138. 'hostbluehost'\n",
       "139. 'hostchengdu west'\n",
       "140. 'hostcom laude'\n",
       "141. 'hostcorehub'\n",
       "142. 'hostcrazy domains'\n",
       "143. 'hostcronon ag'\n",
       "144. 'hostdiamatrix'\n",
       "145. 'hostdomain.com - registrar'\n",
       "146. 'hostdomainesia'\n",
       "147. 'hostdomains4bitcoins'\n",
       "148. 'hostdomeneshop'\n",
       "149. 'hostdomeny.pl'\n",
       "150. 'hostdonweb'\n",
       "151. 'hostdotserve inc'\n",
       "152. 'hostdynadot'\n",
       "153. 'hosteasyspace'\n",
       "154. 'hosteims'\n",
       "155. 'hostenom'\n",
       "156. 'hosteranet'\n",
       "157. 'hosteuro dns'\n",
       "158. 'hostfbs'\n",
       "159. 'hostgandi sas'\n",
       "160. 'hostglobal domains'\n",
       "161. 'hostgmo'\n",
       "162. 'hostgo daddy'\n",
       "163. 'hostgoogle'\n",
       "164. 'hosthostgator'\n",
       "165. 'hosthostgator brazil'\n",
       "166. 'hosthostgator mexico'\n",
       "167. 'hosthosting concepts'\n",
       "168. 'hosthover'\n",
       "169. 'hostinternetx'\n",
       "170. 'hostiwantmyname'\n",
       "171. 'hostjogjacamp'\n",
       "172. 'hostkey-systems'\n",
       "173. 'hostliquidnet'\n",
       "174. 'hostmarkmonitor'\n",
       "175. 'hostmelbourne it'\n",
       "176. 'hostmesh digital'\n",
       "177. 'hostmijn internet'\n",
       "178. 'hostname.com'\n",
       "179. 'hostnamecheap'\n",
       "180. 'hostnamesilo'\n",
       "181. 'hostnetim'\n",
       "182. 'hostnetwork solutions'\n",
       "183. 'hostneubox'\n",
       "184. 'hostnicenic'\n",
       "185. 'hostonline sas'\n",
       "186. 'hostonlinenic'\n",
       "187. 'hostovh'\n",
       "188. 'hostparagon internet'\n",
       "189. 'hostpdr ltd'\n",
       "190. 'hostporkbun'\n",
       "191. 'hostpromo people'\n",
       "192. 'hostrebrandly'\n",
       "193. 'hostreg.ru'\n",
       "194. 'hostregister.it'\n",
       "195. 'hostregistrator domenov '\n",
       "196. 'hostregway'\n",
       "197. 'hostshanghai best oray'\n",
       "198. 'hostshanghai meicheng'\n",
       "199. 'hostshinjiru'\n",
       "200. 'hostsoluciones corporativas'\n",
       "201. ⋯\n",
       "202. 'techwest263 international'\n",
       "203. 'techwhogohost'\n",
       "204. 'techwhois'\n",
       "205. 'techwhois networks'\n",
       "206. 'techwild west'\n",
       "207. 'techwix'\n",
       "208. 'techworld4you'\n",
       "209. 'techxiamen chinasource'\n",
       "210. 'techxiamen nawang'\n",
       "211. 'techxin net'\n",
       "212. 'techyahoo'\n",
       "213. 'techyour hosting'\n",
       "214. 'techzhengzhou century connect'\n",
       "215. 'website1&amp;1 internet'\n",
       "216. 'website101 domain'\n",
       "217. 'website10dencehispahard'\n",
       "218. 'website123hjemmeside'\n",
       "219. 'website1api'\n",
       "220. 'website1blu'\n",
       "221. 'websitea small orange'\n",
       "222. 'websitea2hosting'\n",
       "223. 'websiteab name isp'\n",
       "224. 'websiteactive 24'\n",
       "225. 'websitealastry'\n",
       "226. 'websitealibaba'\n",
       "227. 'websiteamen fr'\n",
       "228. 'websiteantagonist'\n",
       "229. 'websiteargeweb'\n",
       "230. 'websitearuba'\n",
       "231. 'websiteascio'\n",
       "232. 'websiteautomattic'\n",
       "233. 'websitebaidu'\n",
       "234. 'websitebeget'\n",
       "235. 'websitebeon intermedia'\n",
       "236. 'websitebigrock'\n",
       "237. 'websitebizcn'\n",
       "238. 'websiteblacknight'\n",
       "239. 'websitebluehost'\n",
       "240. 'websitebrandma'\n",
       "241. 'websitecafe24'\n",
       "242. 'websitecheck domain'\n",
       "243. 'websitechengdu west'\n",
       "244. 'websitecom laude'\n",
       "245. 'websitecorehub'\n",
       "246. 'websitecrazy domains'\n",
       "247. 'websitecronon ag'\n",
       "248. 'websitecsc corporate'\n",
       "249. 'websitecsl'\n",
       "250. 'websitediamatrix'\n",
       "251. 'websitednc holdings'\n",
       "252. 'websitedomain discount'\n",
       "253. 'websitedomain the net'\n",
       "254. 'websitedomain.com'\n",
       "255. 'websitedomain.com - registrar'\n",
       "256. 'websitedomaindiscover.com'\n",
       "257. 'websitedomainesia'\n",
       "258. 'websitedomainfactory'\n",
       "259. 'websitedomains4bitcoins'\n",
       "260. 'websitedomeneshop'\n",
       "261. 'websitedominios.pt'\n",
       "262. 'websitedonweb'\n",
       "263. 'websitedotname korea'\n",
       "264. 'websitedotserve inc'\n",
       "265. 'websitedreamhost'\n",
       "266. 'websitedynadot'\n",
       "267. 'websiteenom'\n",
       "268. 'websiteepik llc'\n",
       "269. 'websiteeranet'\n",
       "270. 'websiteeuro dns'\n",
       "271. 'websitefasthosts'\n",
       "272. 'websitefbs'\n",
       "273. 'websiteflexwebhosting'\n",
       "274. 'websiteforpsi'\n",
       "275. 'websitegabia'\n",
       "276. 'websitegandi sas'\n",
       "277. 'websiteglobal domains'\n",
       "278. 'websitegmo'\n",
       "279. 'websitego daddy'\n",
       "280. 'websitegoogle'\n",
       "281. 'websitegransy'\n",
       "282. 'websitegridhost'\n",
       "283. 'websiteguzel hosting'\n",
       "284. 'websitehostens'\n",
       "285. 'websitehostgator'\n",
       "286. 'websitehostgator brazil'\n",
       "287. 'websitehostgator mexico'\n",
       "288. 'websitehosting concepts'\n",
       "289. 'websitehosting ukraine'\n",
       "290. 'websitehostinger'\n",
       "291. 'websitehostpoint'\n",
       "292. 'websitehoststar'\n",
       "293. 'websitehover'\n",
       "294. 'websiteicn'\n",
       "295. 'websiteidwebhost'\n",
       "296. 'websiteimpreza'\n",
       "297. 'websiteinfomaniak.ch'\n",
       "298. 'websiteinstra corporation'\n",
       "299. 'websiteinterneto vizija'\n",
       "300. 'websiteinternetworx ltd'\n",
       "301. 'websiteinternetx'\n",
       "302. 'websiteinterserver'\n",
       "303. 'websiteipage domain.com'\n",
       "304. 'websiteipage enom'\n",
       "305. 'websiteipage pdr ltd'\n",
       "306. 'websiteiwantmyname'\n",
       "307. 'websitekey-systems'\n",
       "308. 'websitekreativmedia'\n",
       "309. 'websiteledl.net'\n",
       "310. 'websiteligne web services'\n",
       "311. 'websiteliquidnet'\n",
       "312. 'websiteloopia'\n",
       "313. 'websitemarkmonitor'\n",
       "314. 'websitemat bao'\n",
       "315. 'websitemelbourne it'\n",
       "316. 'websitemesh digital'\n",
       "317. 'websitemetaregistrar'\n",
       "318. 'websitemijn internet'\n",
       "319. 'websitemoniker'\n",
       "320. 'websitemuumuu'\n",
       "321. 'websitename.com'\n",
       "322. 'websitenamecheap'\n",
       "323. 'websitenamesco'\n",
       "324. 'websitenameshield'\n",
       "325. 'websitenamesilo'\n",
       "326. 'websitenameweb'\n",
       "327. 'websiteneostrada'\n",
       "328. 'websitenethouse'\n",
       "329. 'websitenetim'\n",
       "330. 'websitenetowl'\n",
       "331. 'websitenettigritty'\n",
       "332. 'websitenetwork solutions'\n",
       "333. 'websiteneubox'\n",
       "334. 'websiteniaga hoster'\n",
       "335. 'websitenicenic'\n",
       "336. 'websitenics telekom'\n",
       "337. 'websitenominalia'\n",
       "338. 'websiteonline sas'\n",
       "339. 'websiteonlinenic'\n",
       "340. 'websiteopentld b.v.'\n",
       "341. 'websiteovh'\n",
       "342. 'websiteownregistrar'\n",
       "343. 'websitep.a viet nam'\n",
       "344. 'websitepapaki'\n",
       "345. 'websiteparagon internet'\n",
       "346. 'websitepdr china'\n",
       "347. 'websitepdr ltd'\n",
       "348. 'websiteplanet hoster'\n",
       "349. 'websiteporkbun'\n",
       "350. 'websitepromo people'\n",
       "351. 'websiterebrandly'\n",
       "352. 'websiteredehost'\n",
       "353. 'websitereg.ru'\n",
       "354. 'websiteregister.com'\n",
       "355. 'websiteregister.it'\n",
       "356. 'websiteregistrator domenov '\n",
       "357. 'websiteregistrygate'\n",
       "358. 'websiteregtime ltd'\n",
       "359. 'websiteregway'\n",
       "360. 'websiteru-center'\n",
       "361. 'websiterumahweb'\n",
       "362. 'websitesered'\n",
       "363. 'websiteshanghai best oray'\n",
       "364. 'websiteshanghai meicheng'\n",
       "365. 'websiteshopify'\n",
       "366. 'websitesibername'\n",
       "367. 'websitesmartweb'\n",
       "368. 'websitesquarespace'\n",
       "369. 'websitesuper registry'\n",
       "370. 'websitesuperdominios'\n",
       "371. 'websitesuperhosting'\n",
       "372. 'websitesynergy wholesale'\n",
       "373. 'websitetenten'\n",
       "374. 'websitethe registrar company b.v.'\n",
       "375. 'websitetld registrar solns'\n",
       "376. 'websitetradeindia'\n",
       "377. 'websitetransip'\n",
       "378. 'websitetucows'\n",
       "379. 'websiteuk2'\n",
       "380. 'websiteuniregistrar'\n",
       "381. 'websiteunited domains'\n",
       "382. 'websiteuol'\n",
       "383. 'websiteurl solutions'\n",
       "384. 'websitevalue domain'\n",
       "385. 'websitevautron'\n",
       "386. 'websiteversio'\n",
       "387. 'websiteweb4africa'\n",
       "388. 'websitewebnames'\n",
       "389. 'websiteweebly'\n",
       "390. 'websitewest263 international'\n",
       "391. 'websitewhogohost'\n",
       "392. 'websitewhois'\n",
       "393. 'websitewild west'\n",
       "394. 'websitewix'\n",
       "395. 'websiteworld4you'\n",
       "396. 'websitexin net'\n",
       "397. 'websitexpress'\n",
       "398. 'websiteyahoo'\n",
       "399. 'websiteyour hosting'\n",
       "400. 'websitezhengzhou century connect'\n",
       "401. 'websitezhengzhou zitian'\n",
       "\n",
       "\n"
      ],
      "text/plain": [
       "[1] hostbaidu\n",
       "1723 Levels: fun1&1 internet fun10dencehispahard fun1api ... websitezhengzhou zitian"
      ]
     },
     "metadata": {},
     "output_type": "display_data"
    },
    {
     "data": {
      "text/plain": [
       ".\n",
       "    fun    host  in.net  online   press      pw    site   space   store    tech \n",
       "      2       0       0       9       8       0       8       9       9       5 \n",
       "website \n",
       "     14 "
      ]
     },
     "metadata": {},
     "output_type": "display_data"
    }
   ],
   "source": [
    "tld_reg_[[1]]\n",
    "expiry_test_df_1 %>% filter(reseller == 'baidu') %>% pull(tld) %>% table()"
   ]
  },
  {
   "cell_type": "code",
   "execution_count": 143,
   "metadata": {},
   "outputs": [
    {
     "data": {
      "text/html": [
       "0"
      ],
      "text/latex": [
       "0"
      ],
      "text/markdown": [
       "0"
      ],
      "text/plain": [
       "[1] 0"
      ]
     },
     "metadata": {},
     "output_type": "display_data"
    }
   ],
   "source": [
    "sum(expiry_train_df_1 %>% filter(tld_registrar_index %in% tld_reg_) %>% group_by(tld_registrar_index) %>% tally() <1)"
   ]
  },
  {
   "cell_type": "markdown",
   "metadata": {},
   "source": [
    "# RF MULTICLASS w/ auc_win_02"
   ]
  },
  {
   "cell_type": "markdown",
   "metadata": {},
   "source": [
    "## Define train and test"
   ]
  },
  {
   "cell_type": "code",
   "execution_count": 224,
   "metadata": {},
   "outputs": [
    {
     "data": {
      "text/html": [
       "<table>\n",
       "<caption>A data.frame: 6 × 76</caption>\n",
       "<thead>\n",
       "\t<tr><th></th><th scope=col>tld_registrar_index</th><th scope=col>geo_maj</th><th scope=col>geo_cnt</th><th scope=col>n</th><th scope=col>ren_prp</th><th scope=col>tld_cnt</th><th scope=col>tld_rat</th><th scope=col>daydom_min</th><th scope=col>daydom_max</th><th scope=col>daydom_mean</th><th scope=col>daydom_rng</th><th scope=col>daydom_std</th><th scope=col>daydom_skew</th><th scope=col>daydom_kurt</th><th scope=col>sldlen_min</th><th scope=col>sldlen_max</th><th scope=col>sldlen_mean</th><th scope=col>sldlen_rng</th><th scope=col>sldlen_std</th><th scope=col>sldlen_skew</th><th scope=col>sldlen_kurt</th><th scope=col>gibbs_min</th><th scope=col>gibbs_max</th><th scope=col>gibbs_mean</th><th scope=col>gibbs_rng</th><th scope=col>⋯</th><th scope=col>l10_agg_rf</th><th scope=col>auc_seg2_glm</th><th scope=col>auc_seg_glm</th><th scope=col>auc_agg_glm</th><th scope=col>auc_seg2_rf</th><th scope=col>auc_seg_rf</th><th scope=col>auc_agg_rf</th><th scope=col>l10_seg2_glm_fb</th><th scope=col>l10_seg_glm_fb</th><th scope=col>l10_agg_glm_fb</th><th scope=col>l10_seg2_rf_fb</th><th scope=col>l10_seg_rf_fb</th><th scope=col>l10_agg_rf_fb</th><th scope=col>auc_seg2_glm_fb</th><th scope=col>auc_seg_glm_fb</th><th scope=col>auc_agg_glm_fb</th><th scope=col>auc_seg2_rf_fb</th><th scope=col>auc_seg_rf_fb</th><th scope=col>auc_agg_rf_fb</th><th scope=col>auc_win_01</th><th scope=col>l10_win_01</th><th scope=col>auc_win_02</th><th scope=col>l10_win_02</th><th scope=col>auc_win_03</th><th scope=col>l10_win_03</th></tr>\n",
       "\t<tr><th></th><th scope=col>&lt;chr&gt;</th><th scope=col>&lt;fct&gt;</th><th scope=col>&lt;int&gt;</th><th scope=col>&lt;int&gt;</th><th scope=col>&lt;dbl&gt;</th><th scope=col>&lt;int&gt;</th><th scope=col>&lt;dbl&gt;</th><th scope=col>&lt;int&gt;</th><th scope=col>&lt;int&gt;</th><th scope=col>&lt;dbl&gt;</th><th scope=col>&lt;int&gt;</th><th scope=col>&lt;dbl&gt;</th><th scope=col>&lt;dbl&gt;</th><th scope=col>&lt;dbl&gt;</th><th scope=col>&lt;int&gt;</th><th scope=col>&lt;int&gt;</th><th scope=col>&lt;dbl&gt;</th><th scope=col>&lt;int&gt;</th><th scope=col>&lt;dbl&gt;</th><th scope=col>&lt;dbl&gt;</th><th scope=col>&lt;dbl&gt;</th><th scope=col>&lt;dbl&gt;</th><th scope=col>&lt;dbl&gt;</th><th scope=col>&lt;dbl&gt;</th><th scope=col>&lt;dbl&gt;</th><th scope=col>⋯</th><th scope=col>&lt;list&gt;</th><th scope=col>&lt;list&gt;</th><th scope=col>&lt;list&gt;</th><th scope=col>&lt;list&gt;</th><th scope=col>&lt;list&gt;</th><th scope=col>&lt;list&gt;</th><th scope=col>&lt;list&gt;</th><th scope=col>&lt;list&gt;</th><th scope=col>&lt;list&gt;</th><th scope=col>&lt;list&gt;</th><th scope=col>&lt;list&gt;</th><th scope=col>&lt;list&gt;</th><th scope=col>&lt;list&gt;</th><th scope=col>&lt;list&gt;</th><th scope=col>&lt;list&gt;</th><th scope=col>&lt;list&gt;</th><th scope=col>&lt;list&gt;</th><th scope=col>&lt;list&gt;</th><th scope=col>&lt;list&gt;</th><th scope=col>&lt;chr&gt;</th><th scope=col>&lt;chr&gt;</th><th scope=col>&lt;chr&gt;</th><th scope=col>&lt;chr&gt;</th><th scope=col>&lt;chr&gt;</th><th scope=col>&lt;chr&gt;</th></tr>\n",
       "</thead>\n",
       "<tbody>\n",
       "\t<tr><th scope=row>1</th><td><span style=white-space:pre-wrap>fun1&amp;1 internet    </span></td><td><span style=white-space:pre-wrap>EU   </span></td><td>1</td><td><span style=white-space:pre-wrap>    2</span></td><td>1.0000000</td><td>1</td><td>5.000000e-01</td><td>1</td><td><span style=white-space:pre-wrap>  1</span></td><td><span style=white-space:pre-wrap>  1.000000</span></td><td><span style=white-space:pre-wrap>  0</span></td><td><span style=white-space:pre-wrap>  0.000000</span></td><td><span style=white-space:pre-wrap>       NaN</span></td><td><span style=white-space:pre-wrap>      NaN</span></td><td>6</td><td> 9</td><td>7.500000</td><td> 3</td><td>2.121320</td><td>0.0000000</td><td>-2.7500000</td><td>2.23</td><td><span style=white-space:pre-wrap>  3.45</span></td><td>2.840000</td><td><span style=white-space:pre-wrap>  1.22</span></td><td>⋯</td><td>5</td><td>0.6</td><td>0.6</td><td>0.6</td><td>0.6</td><td>0.6</td><td>0.6</td><td>5</td><td>5</td><td>5</td><td>5</td><td>5</td><td>5</td><td>0.6</td><td>0.6</td><td>0.6</td><td>0.6</td><td>0.6</td><td>0.6</td><td>auc_seg2_glm_fb</td><td>l10_seg2_glm_fb</td><td>auc_seg2_glm</td><td>l10_seg2_glm</td><td>auc_seg2_glm</td><td>l10_seg2_glm</td></tr>\n",
       "\t<tr><th scope=row>2</th><td>fun10dencehispahard</td><td>EU   </td><td>1</td><td>    2</td><td>0.0000000</td><td>1</td><td>5.000000e-01</td><td>1</td><td>  1</td><td>  1.000000</td><td>  0</td><td>  0.000000</td><td>       NaN</td><td>      NaN</td><td>6</td><td> 8</td><td>7.000000</td><td> 2</td><td>1.414214</td><td>0.0000000</td><td>-2.7500000</td><td>3.13</td><td>  8.62</td><td>5.875000</td><td>  5.49</td><td>⋯</td><td>NaN</td><td>NaN</td><td>NaN</td><td>NaN</td><td>NaN</td><td>NaN</td><td>NaN</td><td>NaN</td><td>NaN</td><td>NaN</td><td>NaN</td><td>NaN</td><td>NaN</td><td>NaN</td><td>NaN</td><td>NaN</td><td>NaN</td><td>NaN</td><td>NaN</td><td>NA             </td><td>NA             </td><td>NA          </td><td>NA          </td><td>NA          </td><td>NA          </td></tr>\n",
       "\t<tr><th scope=row>3</th><td>fun1api            </td><td>EU   </td><td>1</td><td>    2</td><td>0.5000000</td><td>1</td><td>5.000000e-01</td><td>1</td><td>  1</td><td>  1.000000</td><td>  0</td><td>  0.000000</td><td>       NaN</td><td>      NaN</td><td>7</td><td> 7</td><td>7.000000</td><td> 0</td><td>0.000000</td><td>      NaN</td><td>       NaN</td><td>4.51</td><td>  6.09</td><td>5.300000</td><td>  1.58</td><td>⋯</td><td>0</td><td>0.25</td><td>0.25</td><td>0.25</td><td>0.95</td><td>0.95</td><td>0.25</td><td>0</td><td>0</td><td>0</td><td>10</td><td>10</td><td>0</td><td>0.25</td><td>0.25</td><td>0.25</td><td>0.95</td><td>0.95</td><td>0.25</td><td>auc_seg2_glm_fb</td><td>l10_seg2_glm_fb</td><td>auc_seg2_rf </td><td>l10_seg2_rf </td><td>auc_seg2_glm</td><td>l10_seg2_glm</td></tr>\n",
       "\t<tr><th scope=row>4</th><td>funactive 24       </td><td>EU   </td><td>1</td><td>   22</td><td>0.2272727</td><td>1</td><td>4.545455e-02</td><td>1</td><td>  3</td><td>  2.090909</td><td>  2</td><td>  1.019294</td><td>-0.1702685</td><td>-2.058471</td><td>4</td><td>14</td><td>7.363636</td><td>10</td><td>2.498484</td><td>0.8100072</td><td> 0.4123014</td><td>0.59</td><td>100.00</td><td>9.425000</td><td> 99.41</td><td>⋯</td><td>2</td><td>0.45</td><td>0.35</td><td>0.49</td><td>0.57</td><td>0.59</td><td>0.63</td><td>0</td><td>0</td><td>0</td><td>2</td><td>2</td><td>2</td><td>0.45</td><td>0.35</td><td>0.49</td><td>0.57</td><td>0.59</td><td>0.63</td><td>auc_agg_rf_fb  </td><td>l10_agg_rf_fb  </td><td>auc_agg_rf  </td><td>l10_seg2_rf </td><td>auc_seg2_glm</td><td>l10_seg2_glm</td></tr>\n",
       "\t<tr><th scope=row>5</th><td>funalibaba         </td><td>China</td><td>1</td><td>18208</td><td>0.0118080</td><td>1</td><td>5.492091e-05</td><td>1</td><td>705</td><td>219.892025</td><td>704</td><td>156.107008</td><td> 1.5055591</td><td> 2.301106</td><td>3</td><td>38</td><td>6.956832</td><td>35</td><td>3.311960</td><td>2.9556282</td><td>13.5354533</td><td>0.00</td><td>100.00</td><td>6.320069</td><td>100.00</td><td>⋯</td><td>6.186047</td><td>0.8262791</td><td>0.8425581</td><td>0.8513953</td><td>0.8769767</td><td>0.877907</td><td>0.8793023</td><td>4.883721</td><td>5.302326</td><td>5.023256</td><td>5.813953</td><td>6</td><td>6.186047</td><td>0.8262791</td><td>0.8425581</td><td>0.8513953</td><td>0.8769767</td><td>0.877907</td><td>0.8793023</td><td>auc_agg_rf_fb  </td><td>l10_agg_rf_fb  </td><td>auc_agg_rf  </td><td>l10_agg_rf  </td><td>auc_seg2_glm</td><td>l10_seg2_glm</td></tr>\n",
       "\t<tr><th scope=row>6</th><td>funalibaba sg      </td><td>China</td><td>1</td><td>   16</td><td>0.0625000</td><td>1</td><td>6.250000e-02</td><td>1</td><td>  1</td><td>  1.000000</td><td>  0</td><td>  0.000000</td><td>       NaN</td><td>      NaN</td><td>4</td><td>13</td><td>7.375000</td><td> 9</td><td>2.604483</td><td>0.3561975</td><td>-0.8500916</td><td>0.24</td><td> 13.58</td><td>4.647500</td><td> 13.34</td><td>⋯</td><td>10</td><td>0.05</td><td>0.05</td><td>0.95</td><td>0.85</td><td>0.55</td><td>0.95</td><td>0</td><td>0</td><td>10</td><td>0</td><td>0</td><td>10</td><td>0.05</td><td>0.05</td><td>0.95</td><td>0.85</td><td>0.55</td><td>0.95</td><td>auc_agg_rf_fb  </td><td>l10_agg_rf_fb  </td><td>auc_agg_glm </td><td>l10_agg_glm </td><td>auc_seg2_glm</td><td>l10_seg2_glm</td></tr>\n",
       "</tbody>\n",
       "</table>\n"
      ],
      "text/latex": [
       "A data.frame: 6 × 76\n",
       "\\begin{tabular}{r|lllllllllllllllllllllllllllllllllllllllllllllllllll}\n",
       "  & tld\\_registrar\\_index & geo\\_maj & geo\\_cnt & n & ren\\_prp & tld\\_cnt & tld\\_rat & daydom\\_min & daydom\\_max & daydom\\_mean & daydom\\_rng & daydom\\_std & daydom\\_skew & daydom\\_kurt & sldlen\\_min & sldlen\\_max & sldlen\\_mean & sldlen\\_rng & sldlen\\_std & sldlen\\_skew & sldlen\\_kurt & gibbs\\_min & gibbs\\_max & gibbs\\_mean & gibbs\\_rng & ⋯ & l10\\_agg\\_rf & auc\\_seg2\\_glm & auc\\_seg\\_glm & auc\\_agg\\_glm & auc\\_seg2\\_rf & auc\\_seg\\_rf & auc\\_agg\\_rf & l10\\_seg2\\_glm\\_fb & l10\\_seg\\_glm\\_fb & l10\\_agg\\_glm\\_fb & l10\\_seg2\\_rf\\_fb & l10\\_seg\\_rf\\_fb & l10\\_agg\\_rf\\_fb & auc\\_seg2\\_glm\\_fb & auc\\_seg\\_glm\\_fb & auc\\_agg\\_glm\\_fb & auc\\_seg2\\_rf\\_fb & auc\\_seg\\_rf\\_fb & auc\\_agg\\_rf\\_fb & auc\\_win\\_01 & l10\\_win\\_01 & auc\\_win\\_02 & l10\\_win\\_02 & auc\\_win\\_03 & l10\\_win\\_03\\\\\n",
       "  & <chr> & <fct> & <int> & <int> & <dbl> & <int> & <dbl> & <int> & <int> & <dbl> & <int> & <dbl> & <dbl> & <dbl> & <int> & <int> & <dbl> & <int> & <dbl> & <dbl> & <dbl> & <dbl> & <dbl> & <dbl> & <dbl> & ⋯ & <list> & <list> & <list> & <list> & <list> & <list> & <list> & <list> & <list> & <list> & <list> & <list> & <list> & <list> & <list> & <list> & <list> & <list> & <list> & <chr> & <chr> & <chr> & <chr> & <chr> & <chr>\\\\\n",
       "\\hline\n",
       "\t1 & fun1\\&1 internet     & EU    & 1 &     2 & 1.0000000 & 1 & 5.000000e-01 & 1 &   1 &   1.000000 &   0 &   0.000000 &        NaN &       NaN & 6 &  9 & 7.500000 &  3 & 2.121320 & 0.0000000 & -2.7500000 & 2.23 &   3.45 & 2.840000 &   1.22 & ⋯ & 5 & 0.6 & 0.6 & 0.6 & 0.6 & 0.6 & 0.6 & 5 & 5 & 5 & 5 & 5 & 5 & 0.6 & 0.6 & 0.6 & 0.6 & 0.6 & 0.6 & auc\\_seg2\\_glm\\_fb & l10\\_seg2\\_glm\\_fb & auc\\_seg2\\_glm & l10\\_seg2\\_glm & auc\\_seg2\\_glm & l10\\_seg2\\_glm\\\\\n",
       "\t2 & fun10dencehispahard & EU    & 1 &     2 & 0.0000000 & 1 & 5.000000e-01 & 1 &   1 &   1.000000 &   0 &   0.000000 &        NaN &       NaN & 6 &  8 & 7.000000 &  2 & 1.414214 & 0.0000000 & -2.7500000 & 3.13 &   8.62 & 5.875000 &   5.49 & ⋯ & NaN & NaN & NaN & NaN & NaN & NaN & NaN & NaN & NaN & NaN & NaN & NaN & NaN & NaN & NaN & NaN & NaN & NaN & NaN & NA              & NA              & NA           & NA           & NA           & NA          \\\\\n",
       "\t3 & fun1api             & EU    & 1 &     2 & 0.5000000 & 1 & 5.000000e-01 & 1 &   1 &   1.000000 &   0 &   0.000000 &        NaN &       NaN & 7 &  7 & 7.000000 &  0 & 0.000000 &       NaN &        NaN & 4.51 &   6.09 & 5.300000 &   1.58 & ⋯ & 0 & 0.25 & 0.25 & 0.25 & 0.95 & 0.95 & 0.25 & 0 & 0 & 0 & 10 & 10 & 0 & 0.25 & 0.25 & 0.25 & 0.95 & 0.95 & 0.25 & auc\\_seg2\\_glm\\_fb & l10\\_seg2\\_glm\\_fb & auc\\_seg2\\_rf  & l10\\_seg2\\_rf  & auc\\_seg2\\_glm & l10\\_seg2\\_glm\\\\\n",
       "\t4 & funactive 24        & EU    & 1 &    22 & 0.2272727 & 1 & 4.545455e-02 & 1 &   3 &   2.090909 &   2 &   1.019294 & -0.1702685 & -2.058471 & 4 & 14 & 7.363636 & 10 & 2.498484 & 0.8100072 &  0.4123014 & 0.59 & 100.00 & 9.425000 &  99.41 & ⋯ & 2 & 0.45 & 0.35 & 0.49 & 0.57 & 0.59 & 0.63 & 0 & 0 & 0 & 2 & 2 & 2 & 0.45 & 0.35 & 0.49 & 0.57 & 0.59 & 0.63 & auc\\_agg\\_rf\\_fb   & l10\\_agg\\_rf\\_fb   & auc\\_agg\\_rf   & l10\\_seg2\\_rf  & auc\\_seg2\\_glm & l10\\_seg2\\_glm\\\\\n",
       "\t5 & funalibaba          & China & 1 & 18208 & 0.0118080 & 1 & 5.492091e-05 & 1 & 705 & 219.892025 & 704 & 156.107008 &  1.5055591 &  2.301106 & 3 & 38 & 6.956832 & 35 & 3.311960 & 2.9556282 & 13.5354533 & 0.00 & 100.00 & 6.320069 & 100.00 & ⋯ & 6.186047 & 0.8262791 & 0.8425581 & 0.8513953 & 0.8769767 & 0.877907 & 0.8793023 & 4.883721 & 5.302326 & 5.023256 & 5.813953 & 6 & 6.186047 & 0.8262791 & 0.8425581 & 0.8513953 & 0.8769767 & 0.877907 & 0.8793023 & auc\\_agg\\_rf\\_fb   & l10\\_agg\\_rf\\_fb   & auc\\_agg\\_rf   & l10\\_agg\\_rf   & auc\\_seg2\\_glm & l10\\_seg2\\_glm\\\\\n",
       "\t6 & funalibaba sg       & China & 1 &    16 & 0.0625000 & 1 & 6.250000e-02 & 1 &   1 &   1.000000 &   0 &   0.000000 &        NaN &       NaN & 4 & 13 & 7.375000 &  9 & 2.604483 & 0.3561975 & -0.8500916 & 0.24 &  13.58 & 4.647500 &  13.34 & ⋯ & 10 & 0.05 & 0.05 & 0.95 & 0.85 & 0.55 & 0.95 & 0 & 0 & 10 & 0 & 0 & 10 & 0.05 & 0.05 & 0.95 & 0.85 & 0.55 & 0.95 & auc\\_agg\\_rf\\_fb   & l10\\_agg\\_rf\\_fb   & auc\\_agg\\_glm  & l10\\_agg\\_glm  & auc\\_seg2\\_glm & l10\\_seg2\\_glm\\\\\n",
       "\\end{tabular}\n"
      ],
      "text/markdown": [
       "\n",
       "A data.frame: 6 × 76\n",
       "\n",
       "| <!--/--> | tld_registrar_index &lt;chr&gt; | geo_maj &lt;fct&gt; | geo_cnt &lt;int&gt; | n &lt;int&gt; | ren_prp &lt;dbl&gt; | tld_cnt &lt;int&gt; | tld_rat &lt;dbl&gt; | daydom_min &lt;int&gt; | daydom_max &lt;int&gt; | daydom_mean &lt;dbl&gt; | daydom_rng &lt;int&gt; | daydom_std &lt;dbl&gt; | daydom_skew &lt;dbl&gt; | daydom_kurt &lt;dbl&gt; | sldlen_min &lt;int&gt; | sldlen_max &lt;int&gt; | sldlen_mean &lt;dbl&gt; | sldlen_rng &lt;int&gt; | sldlen_std &lt;dbl&gt; | sldlen_skew &lt;dbl&gt; | sldlen_kurt &lt;dbl&gt; | gibbs_min &lt;dbl&gt; | gibbs_max &lt;dbl&gt; | gibbs_mean &lt;dbl&gt; | gibbs_rng &lt;dbl&gt; | ⋯ ⋯ | l10_agg_rf &lt;list&gt; | auc_seg2_glm &lt;list&gt; | auc_seg_glm &lt;list&gt; | auc_agg_glm &lt;list&gt; | auc_seg2_rf &lt;list&gt; | auc_seg_rf &lt;list&gt; | auc_agg_rf &lt;list&gt; | l10_seg2_glm_fb &lt;list&gt; | l10_seg_glm_fb &lt;list&gt; | l10_agg_glm_fb &lt;list&gt; | l10_seg2_rf_fb &lt;list&gt; | l10_seg_rf_fb &lt;list&gt; | l10_agg_rf_fb &lt;list&gt; | auc_seg2_glm_fb &lt;list&gt; | auc_seg_glm_fb &lt;list&gt; | auc_agg_glm_fb &lt;list&gt; | auc_seg2_rf_fb &lt;list&gt; | auc_seg_rf_fb &lt;list&gt; | auc_agg_rf_fb &lt;list&gt; | auc_win_01 &lt;chr&gt; | l10_win_01 &lt;chr&gt; | auc_win_02 &lt;chr&gt; | l10_win_02 &lt;chr&gt; | auc_win_03 &lt;chr&gt; | l10_win_03 &lt;chr&gt; |\n",
       "|---|---|---|---|---|---|---|---|---|---|---|---|---|---|---|---|---|---|---|---|---|---|---|---|---|---|---|---|---|---|---|---|---|---|---|---|---|---|---|---|---|---|---|---|---|---|---|---|---|---|---|---|\n",
       "| 1 | fun1&amp;1 internet     | EU    | 1 |     2 | 1.0000000 | 1 | 5.000000e-01 | 1 |   1 |   1.000000 |   0 |   0.000000 |        NaN |       NaN | 6 |  9 | 7.500000 |  3 | 2.121320 | 0.0000000 | -2.7500000 | 2.23 |   3.45 | 2.840000 |   1.22 | ⋯ | 5 | 0.6 | 0.6 | 0.6 | 0.6 | 0.6 | 0.6 | 5 | 5 | 5 | 5 | 5 | 5 | 0.6 | 0.6 | 0.6 | 0.6 | 0.6 | 0.6 | auc_seg2_glm_fb | l10_seg2_glm_fb | auc_seg2_glm | l10_seg2_glm | auc_seg2_glm | l10_seg2_glm |\n",
       "| 2 | fun10dencehispahard | EU    | 1 |     2 | 0.0000000 | 1 | 5.000000e-01 | 1 |   1 |   1.000000 |   0 |   0.000000 |        NaN |       NaN | 6 |  8 | 7.000000 |  2 | 1.414214 | 0.0000000 | -2.7500000 | 3.13 |   8.62 | 5.875000 |   5.49 | ⋯ | NaN | NaN | NaN | NaN | NaN | NaN | NaN | NaN | NaN | NaN | NaN | NaN | NaN | NaN | NaN | NaN | NaN | NaN | NaN | NA              | NA              | NA           | NA           | NA           | NA           |\n",
       "| 3 | fun1api             | EU    | 1 |     2 | 0.5000000 | 1 | 5.000000e-01 | 1 |   1 |   1.000000 |   0 |   0.000000 |        NaN |       NaN | 7 |  7 | 7.000000 |  0 | 0.000000 |       NaN |        NaN | 4.51 |   6.09 | 5.300000 |   1.58 | ⋯ | 0 | 0.25 | 0.25 | 0.25 | 0.95 | 0.95 | 0.25 | 0 | 0 | 0 | 10 | 10 | 0 | 0.25 | 0.25 | 0.25 | 0.95 | 0.95 | 0.25 | auc_seg2_glm_fb | l10_seg2_glm_fb | auc_seg2_rf  | l10_seg2_rf  | auc_seg2_glm | l10_seg2_glm |\n",
       "| 4 | funactive 24        | EU    | 1 |    22 | 0.2272727 | 1 | 4.545455e-02 | 1 |   3 |   2.090909 |   2 |   1.019294 | -0.1702685 | -2.058471 | 4 | 14 | 7.363636 | 10 | 2.498484 | 0.8100072 |  0.4123014 | 0.59 | 100.00 | 9.425000 |  99.41 | ⋯ | 2 | 0.45 | 0.35 | 0.49 | 0.57 | 0.59 | 0.63 | 0 | 0 | 0 | 2 | 2 | 2 | 0.45 | 0.35 | 0.49 | 0.57 | 0.59 | 0.63 | auc_agg_rf_fb   | l10_agg_rf_fb   | auc_agg_rf   | l10_seg2_rf  | auc_seg2_glm | l10_seg2_glm |\n",
       "| 5 | funalibaba          | China | 1 | 18208 | 0.0118080 | 1 | 5.492091e-05 | 1 | 705 | 219.892025 | 704 | 156.107008 |  1.5055591 |  2.301106 | 3 | 38 | 6.956832 | 35 | 3.311960 | 2.9556282 | 13.5354533 | 0.00 | 100.00 | 6.320069 | 100.00 | ⋯ | 6.186047 | 0.8262791 | 0.8425581 | 0.8513953 | 0.8769767 | 0.877907 | 0.8793023 | 4.883721 | 5.302326 | 5.023256 | 5.813953 | 6 | 6.186047 | 0.8262791 | 0.8425581 | 0.8513953 | 0.8769767 | 0.877907 | 0.8793023 | auc_agg_rf_fb   | l10_agg_rf_fb   | auc_agg_rf   | l10_agg_rf   | auc_seg2_glm | l10_seg2_glm |\n",
       "| 6 | funalibaba sg       | China | 1 |    16 | 0.0625000 | 1 | 6.250000e-02 | 1 |   1 |   1.000000 |   0 |   0.000000 |        NaN |       NaN | 4 | 13 | 7.375000 |  9 | 2.604483 | 0.3561975 | -0.8500916 | 0.24 |  13.58 | 4.647500 |  13.34 | ⋯ | 10 | 0.05 | 0.05 | 0.95 | 0.85 | 0.55 | 0.95 | 0 | 0 | 10 | 0 | 0 | 10 | 0.05 | 0.05 | 0.95 | 0.85 | 0.55 | 0.95 | auc_agg_rf_fb   | l10_agg_rf_fb   | auc_agg_glm  | l10_agg_glm  | auc_seg2_glm | l10_seg2_glm |\n",
       "\n"
      ],
      "text/plain": [
       "  tld_registrar_index geo_maj geo_cnt n     ren_prp   tld_cnt tld_rat     \n",
       "1 fun1&1 internet     EU      1           2 1.0000000 1       5.000000e-01\n",
       "2 fun10dencehispahard EU      1           2 0.0000000 1       5.000000e-01\n",
       "3 fun1api             EU      1           2 0.5000000 1       5.000000e-01\n",
       "4 funactive 24        EU      1          22 0.2272727 1       4.545455e-02\n",
       "5 funalibaba          China   1       18208 0.0118080 1       5.492091e-05\n",
       "6 funalibaba sg       China   1          16 0.0625000 1       6.250000e-02\n",
       "  daydom_min daydom_max daydom_mean daydom_rng daydom_std daydom_skew\n",
       "1 1            1          1.000000    0          0.000000        NaN \n",
       "2 1            1          1.000000    0          0.000000        NaN \n",
       "3 1            1          1.000000    0          0.000000        NaN \n",
       "4 1            3          2.090909    2          1.019294 -0.1702685 \n",
       "5 1          705        219.892025  704        156.107008  1.5055591 \n",
       "6 1            1          1.000000    0          0.000000        NaN \n",
       "  daydom_kurt sldlen_min sldlen_max sldlen_mean sldlen_rng sldlen_std\n",
       "1       NaN   6           9         7.500000     3         2.121320  \n",
       "2       NaN   6           8         7.000000     2         1.414214  \n",
       "3       NaN   7           7         7.000000     0         0.000000  \n",
       "4 -2.058471   4          14         7.363636    10         2.498484  \n",
       "5  2.301106   3          38         6.956832    35         3.311960  \n",
       "6       NaN   4          13         7.375000     9         2.604483  \n",
       "  sldlen_skew sldlen_kurt gibbs_min gibbs_max gibbs_mean gibbs_rng ⋯ l10_agg_rf\n",
       "1 0.0000000   -2.7500000  2.23        3.45    2.840000     1.22    ⋯ 5         \n",
       "2 0.0000000   -2.7500000  3.13        8.62    5.875000     5.49    ⋯ NaN       \n",
       "3       NaN          NaN  4.51        6.09    5.300000     1.58    ⋯ 0         \n",
       "4 0.8100072    0.4123014  0.59      100.00    9.425000    99.41    ⋯ 2         \n",
       "5 2.9556282   13.5354533  0.00      100.00    6.320069   100.00    ⋯ 6.186047  \n",
       "6 0.3561975   -0.8500916  0.24       13.58    4.647500    13.34    ⋯ 10        \n",
       "  auc_seg2_glm auc_seg_glm auc_agg_glm auc_seg2_rf auc_seg_rf auc_agg_rf\n",
       "1 0.6          0.6         0.6         0.6         0.6        0.6       \n",
       "2 NaN          NaN         NaN         NaN         NaN        NaN       \n",
       "3 0.25         0.25        0.25        0.95        0.95       0.25      \n",
       "4 0.45         0.35        0.49        0.57        0.59       0.63      \n",
       "5 0.8262791    0.8425581   0.8513953   0.8769767   0.877907   0.8793023 \n",
       "6 0.05         0.05        0.95        0.85        0.55       0.95      \n",
       "  l10_seg2_glm_fb l10_seg_glm_fb l10_agg_glm_fb l10_seg2_rf_fb l10_seg_rf_fb\n",
       "1 5               5              5              5              5            \n",
       "2 NaN             NaN            NaN            NaN            NaN          \n",
       "3 0               0              0              10             10           \n",
       "4 0               0              0              2              2            \n",
       "5 4.883721        5.302326       5.023256       5.813953       6            \n",
       "6 0               0              10             0              0            \n",
       "  l10_agg_rf_fb auc_seg2_glm_fb auc_seg_glm_fb auc_agg_glm_fb auc_seg2_rf_fb\n",
       "1 5             0.6             0.6            0.6            0.6           \n",
       "2 NaN           NaN             NaN            NaN            NaN           \n",
       "3 0             0.25            0.25           0.25           0.95          \n",
       "4 2             0.45            0.35           0.49           0.57          \n",
       "5 6.186047      0.8262791       0.8425581      0.8513953      0.8769767     \n",
       "6 10            0.05            0.05           0.95           0.85          \n",
       "  auc_seg_rf_fb auc_agg_rf_fb auc_win_01      l10_win_01      auc_win_02  \n",
       "1 0.6           0.6           auc_seg2_glm_fb l10_seg2_glm_fb auc_seg2_glm\n",
       "2 NaN           NaN           NA              NA              NA          \n",
       "3 0.95          0.25          auc_seg2_glm_fb l10_seg2_glm_fb auc_seg2_rf \n",
       "4 0.59          0.63          auc_agg_rf_fb   l10_agg_rf_fb   auc_agg_rf  \n",
       "5 0.877907      0.8793023     auc_agg_rf_fb   l10_agg_rf_fb   auc_agg_rf  \n",
       "6 0.55          0.95          auc_agg_rf_fb   l10_agg_rf_fb   auc_agg_glm \n",
       "  l10_win_02   auc_win_03   l10_win_03  \n",
       "1 l10_seg2_glm auc_seg2_glm l10_seg2_glm\n",
       "2 NA           NA           NA          \n",
       "3 l10_seg2_rf  auc_seg2_glm l10_seg2_glm\n",
       "4 l10_seg2_rf  auc_seg2_glm l10_seg2_glm\n",
       "5 l10_agg_rf   auc_seg2_glm l10_seg2_glm\n",
       "6 l10_agg_glm  auc_seg2_glm l10_seg2_glm"
      ]
     },
     "metadata": {},
     "output_type": "display_data"
    }
   ],
   "source": [
    "head(expiry_test_metametrics)"
   ]
  },
  {
   "cell_type": "code",
   "execution_count": 225,
   "metadata": {},
   "outputs": [
    {
     "data": {
      "text/html": [
       "<style>\n",
       ".list-inline {list-style: none; margin:0; padding: 0}\n",
       ".list-inline>li {display: inline-block}\n",
       ".list-inline>li:not(:last-child)::after {content: \"\\00b7\"; padding: 0 .5ex}\n",
       "</style>\n",
       "<ol class=list-inline><li>'tld_registrar_index'</li><li>'geo_maj'</li><li>'geo_cnt'</li><li>'n'</li><li>'ren_prp'</li><li>'tld_cnt'</li><li>'tld_rat'</li><li>'daydom_min'</li><li>'daydom_max'</li><li>'daydom_mean'</li><li>'daydom_rng'</li><li>'daydom_std'</li><li>'daydom_skew'</li><li>'daydom_kurt'</li><li>'sldlen_min'</li><li>'sldlen_max'</li><li>'sldlen_mean'</li><li>'sldlen_rng'</li><li>'sldlen_std'</li><li>'sldlen_skew'</li><li>'sldlen_kurt'</li><li>'gibbs_min'</li><li>'gibbs_max'</li><li>'gibbs_mean'</li><li>'gibbs_rng'</li><li>'gibbs_std'</li><li>'gibbs_skew'</li><li>'gibbs_kurt'</li><li>'pdcnt_min'</li><li>'pdcnt_max'</li><li>'pdcnt_mean'</li><li>'pdcnt_rng'</li><li>'pdcnt_std'</li><li>'pdcnt_skew'</li><li>'pdcnt_kurt'</li><li>'regarpt_min'</li><li>'regarpt_max'</li><li>'regarpt_mean'</li><li>'regarpt_rng'</li><li>'regarpt_std'</li><li>'regarpt_skew'</li><li>'regarpt_kurt'</li><li>'country_maj'</li><li>'region_maj'</li><li>'country_cnt'</li><li>'region_cnt'</li><li>'l10_seg2_glm'</li><li>'l10_seg_glm'</li><li>'l10_agg_glm'</li><li>'l10_seg2_rf'</li><li>'l10_seg_rf'</li><li>'l10_agg_rf'</li><li>'auc_seg2_glm'</li><li>'auc_seg_glm'</li><li>'auc_agg_glm'</li><li>'auc_seg2_rf'</li><li>'auc_seg_rf'</li><li>'auc_agg_rf'</li><li>'l10_seg2_glm_fb'</li><li>'l10_seg_glm_fb'</li><li>'l10_agg_glm_fb'</li><li>'l10_seg2_rf_fb'</li><li>'l10_seg_rf_fb'</li><li>'l10_agg_rf_fb'</li><li>'auc_seg2_glm_fb'</li><li>'auc_seg_glm_fb'</li><li>'auc_agg_glm_fb'</li><li>'auc_seg2_rf_fb'</li><li>'auc_seg_rf_fb'</li><li>'auc_agg_rf_fb'</li><li>'auc_win_01'</li><li>'l10_win_01'</li><li>'auc_win_02'</li><li>'l10_win_02'</li><li>'auc_win_03'</li><li>'l10_win_03'</li></ol>\n"
      ],
      "text/latex": [
       "\\begin{enumerate*}\n",
       "\\item 'tld\\_registrar\\_index'\n",
       "\\item 'geo\\_maj'\n",
       "\\item 'geo\\_cnt'\n",
       "\\item 'n'\n",
       "\\item 'ren\\_prp'\n",
       "\\item 'tld\\_cnt'\n",
       "\\item 'tld\\_rat'\n",
       "\\item 'daydom\\_min'\n",
       "\\item 'daydom\\_max'\n",
       "\\item 'daydom\\_mean'\n",
       "\\item 'daydom\\_rng'\n",
       "\\item 'daydom\\_std'\n",
       "\\item 'daydom\\_skew'\n",
       "\\item 'daydom\\_kurt'\n",
       "\\item 'sldlen\\_min'\n",
       "\\item 'sldlen\\_max'\n",
       "\\item 'sldlen\\_mean'\n",
       "\\item 'sldlen\\_rng'\n",
       "\\item 'sldlen\\_std'\n",
       "\\item 'sldlen\\_skew'\n",
       "\\item 'sldlen\\_kurt'\n",
       "\\item 'gibbs\\_min'\n",
       "\\item 'gibbs\\_max'\n",
       "\\item 'gibbs\\_mean'\n",
       "\\item 'gibbs\\_rng'\n",
       "\\item 'gibbs\\_std'\n",
       "\\item 'gibbs\\_skew'\n",
       "\\item 'gibbs\\_kurt'\n",
       "\\item 'pdcnt\\_min'\n",
       "\\item 'pdcnt\\_max'\n",
       "\\item 'pdcnt\\_mean'\n",
       "\\item 'pdcnt\\_rng'\n",
       "\\item 'pdcnt\\_std'\n",
       "\\item 'pdcnt\\_skew'\n",
       "\\item 'pdcnt\\_kurt'\n",
       "\\item 'regarpt\\_min'\n",
       "\\item 'regarpt\\_max'\n",
       "\\item 'regarpt\\_mean'\n",
       "\\item 'regarpt\\_rng'\n",
       "\\item 'regarpt\\_std'\n",
       "\\item 'regarpt\\_skew'\n",
       "\\item 'regarpt\\_kurt'\n",
       "\\item 'country\\_maj'\n",
       "\\item 'region\\_maj'\n",
       "\\item 'country\\_cnt'\n",
       "\\item 'region\\_cnt'\n",
       "\\item 'l10\\_seg2\\_glm'\n",
       "\\item 'l10\\_seg\\_glm'\n",
       "\\item 'l10\\_agg\\_glm'\n",
       "\\item 'l10\\_seg2\\_rf'\n",
       "\\item 'l10\\_seg\\_rf'\n",
       "\\item 'l10\\_agg\\_rf'\n",
       "\\item 'auc\\_seg2\\_glm'\n",
       "\\item 'auc\\_seg\\_glm'\n",
       "\\item 'auc\\_agg\\_glm'\n",
       "\\item 'auc\\_seg2\\_rf'\n",
       "\\item 'auc\\_seg\\_rf'\n",
       "\\item 'auc\\_agg\\_rf'\n",
       "\\item 'l10\\_seg2\\_glm\\_fb'\n",
       "\\item 'l10\\_seg\\_glm\\_fb'\n",
       "\\item 'l10\\_agg\\_glm\\_fb'\n",
       "\\item 'l10\\_seg2\\_rf\\_fb'\n",
       "\\item 'l10\\_seg\\_rf\\_fb'\n",
       "\\item 'l10\\_agg\\_rf\\_fb'\n",
       "\\item 'auc\\_seg2\\_glm\\_fb'\n",
       "\\item 'auc\\_seg\\_glm\\_fb'\n",
       "\\item 'auc\\_agg\\_glm\\_fb'\n",
       "\\item 'auc\\_seg2\\_rf\\_fb'\n",
       "\\item 'auc\\_seg\\_rf\\_fb'\n",
       "\\item 'auc\\_agg\\_rf\\_fb'\n",
       "\\item 'auc\\_win\\_01'\n",
       "\\item 'l10\\_win\\_01'\n",
       "\\item 'auc\\_win\\_02'\n",
       "\\item 'l10\\_win\\_02'\n",
       "\\item 'auc\\_win\\_03'\n",
       "\\item 'l10\\_win\\_03'\n",
       "\\end{enumerate*}\n"
      ],
      "text/markdown": [
       "1. 'tld_registrar_index'\n",
       "2. 'geo_maj'\n",
       "3. 'geo_cnt'\n",
       "4. 'n'\n",
       "5. 'ren_prp'\n",
       "6. 'tld_cnt'\n",
       "7. 'tld_rat'\n",
       "8. 'daydom_min'\n",
       "9. 'daydom_max'\n",
       "10. 'daydom_mean'\n",
       "11. 'daydom_rng'\n",
       "12. 'daydom_std'\n",
       "13. 'daydom_skew'\n",
       "14. 'daydom_kurt'\n",
       "15. 'sldlen_min'\n",
       "16. 'sldlen_max'\n",
       "17. 'sldlen_mean'\n",
       "18. 'sldlen_rng'\n",
       "19. 'sldlen_std'\n",
       "20. 'sldlen_skew'\n",
       "21. 'sldlen_kurt'\n",
       "22. 'gibbs_min'\n",
       "23. 'gibbs_max'\n",
       "24. 'gibbs_mean'\n",
       "25. 'gibbs_rng'\n",
       "26. 'gibbs_std'\n",
       "27. 'gibbs_skew'\n",
       "28. 'gibbs_kurt'\n",
       "29. 'pdcnt_min'\n",
       "30. 'pdcnt_max'\n",
       "31. 'pdcnt_mean'\n",
       "32. 'pdcnt_rng'\n",
       "33. 'pdcnt_std'\n",
       "34. 'pdcnt_skew'\n",
       "35. 'pdcnt_kurt'\n",
       "36. 'regarpt_min'\n",
       "37. 'regarpt_max'\n",
       "38. 'regarpt_mean'\n",
       "39. 'regarpt_rng'\n",
       "40. 'regarpt_std'\n",
       "41. 'regarpt_skew'\n",
       "42. 'regarpt_kurt'\n",
       "43. 'country_maj'\n",
       "44. 'region_maj'\n",
       "45. 'country_cnt'\n",
       "46. 'region_cnt'\n",
       "47. 'l10_seg2_glm'\n",
       "48. 'l10_seg_glm'\n",
       "49. 'l10_agg_glm'\n",
       "50. 'l10_seg2_rf'\n",
       "51. 'l10_seg_rf'\n",
       "52. 'l10_agg_rf'\n",
       "53. 'auc_seg2_glm'\n",
       "54. 'auc_seg_glm'\n",
       "55. 'auc_agg_glm'\n",
       "56. 'auc_seg2_rf'\n",
       "57. 'auc_seg_rf'\n",
       "58. 'auc_agg_rf'\n",
       "59. 'l10_seg2_glm_fb'\n",
       "60. 'l10_seg_glm_fb'\n",
       "61. 'l10_agg_glm_fb'\n",
       "62. 'l10_seg2_rf_fb'\n",
       "63. 'l10_seg_rf_fb'\n",
       "64. 'l10_agg_rf_fb'\n",
       "65. 'auc_seg2_glm_fb'\n",
       "66. 'auc_seg_glm_fb'\n",
       "67. 'auc_agg_glm_fb'\n",
       "68. 'auc_seg2_rf_fb'\n",
       "69. 'auc_seg_rf_fb'\n",
       "70. 'auc_agg_rf_fb'\n",
       "71. 'auc_win_01'\n",
       "72. 'l10_win_01'\n",
       "73. 'auc_win_02'\n",
       "74. 'l10_win_02'\n",
       "75. 'auc_win_03'\n",
       "76. 'l10_win_03'\n",
       "\n",
       "\n"
      ],
      "text/plain": [
       " [1] \"tld_registrar_index\" \"geo_maj\"             \"geo_cnt\"            \n",
       " [4] \"n\"                   \"ren_prp\"             \"tld_cnt\"            \n",
       " [7] \"tld_rat\"             \"daydom_min\"          \"daydom_max\"         \n",
       "[10] \"daydom_mean\"         \"daydom_rng\"          \"daydom_std\"         \n",
       "[13] \"daydom_skew\"         \"daydom_kurt\"         \"sldlen_min\"         \n",
       "[16] \"sldlen_max\"          \"sldlen_mean\"         \"sldlen_rng\"         \n",
       "[19] \"sldlen_std\"          \"sldlen_skew\"         \"sldlen_kurt\"        \n",
       "[22] \"gibbs_min\"           \"gibbs_max\"           \"gibbs_mean\"         \n",
       "[25] \"gibbs_rng\"           \"gibbs_std\"           \"gibbs_skew\"         \n",
       "[28] \"gibbs_kurt\"          \"pdcnt_min\"           \"pdcnt_max\"          \n",
       "[31] \"pdcnt_mean\"          \"pdcnt_rng\"           \"pdcnt_std\"          \n",
       "[34] \"pdcnt_skew\"          \"pdcnt_kurt\"          \"regarpt_min\"        \n",
       "[37] \"regarpt_max\"         \"regarpt_mean\"        \"regarpt_rng\"        \n",
       "[40] \"regarpt_std\"         \"regarpt_skew\"        \"regarpt_kurt\"       \n",
       "[43] \"country_maj\"         \"region_maj\"          \"country_cnt\"        \n",
       "[46] \"region_cnt\"          \"l10_seg2_glm\"        \"l10_seg_glm\"        \n",
       "[49] \"l10_agg_glm\"         \"l10_seg2_rf\"         \"l10_seg_rf\"         \n",
       "[52] \"l10_agg_rf\"          \"auc_seg2_glm\"        \"auc_seg_glm\"        \n",
       "[55] \"auc_agg_glm\"         \"auc_seg2_rf\"         \"auc_seg_rf\"         \n",
       "[58] \"auc_agg_rf\"          \"l10_seg2_glm_fb\"     \"l10_seg_glm_fb\"     \n",
       "[61] \"l10_agg_glm_fb\"      \"l10_seg2_rf_fb\"      \"l10_seg_rf_fb\"      \n",
       "[64] \"l10_agg_rf_fb\"       \"auc_seg2_glm_fb\"     \"auc_seg_glm_fb\"     \n",
       "[67] \"auc_agg_glm_fb\"      \"auc_seg2_rf_fb\"      \"auc_seg_rf_fb\"      \n",
       "[70] \"auc_agg_rf_fb\"       \"auc_win_01\"          \"l10_win_01\"         \n",
       "[73] \"auc_win_02\"          \"l10_win_02\"          \"auc_win_03\"         \n",
       "[76] \"l10_win_03\"         "
      ]
     },
     "metadata": {},
     "output_type": "display_data"
    }
   ],
   "source": [
    "names(expiry_test_metametrics)"
   ]
  },
  {
   "cell_type": "code",
   "execution_count": 226,
   "metadata": {},
   "outputs": [
    {
     "data": {
      "text/html": [
       "<table>\n",
       "<caption>A data.frame: 6 × 45</caption>\n",
       "<thead>\n",
       "\t<tr><th></th><th scope=col>auc_win_02</th><th scope=col>l10_win_02</th><th scope=col>ren_prp</th><th scope=col>tld_rat</th><th scope=col>country_maj</th><th scope=col>region_maj</th><th scope=col>country_cnt</th><th scope=col>region_cnt</th><th scope=col>geo_cnt</th><th scope=col>geo_maj</th><th scope=col>daydom_min</th><th scope=col>daydom_max</th><th scope=col>daydom_mean</th><th scope=col>daydom_rng</th><th scope=col>daydom_std</th><th scope=col>daydom_skew</th><th scope=col>daydom_kurt</th><th scope=col>sldlen_min</th><th scope=col>sldlen_max</th><th scope=col>sldlen_mean</th><th scope=col>sldlen_rng</th><th scope=col>sldlen_std</th><th scope=col>sldlen_skew</th><th scope=col>sldlen_kurt</th><th scope=col>gibbs_min</th><th scope=col>gibbs_max</th><th scope=col>gibbs_mean</th><th scope=col>gibbs_rng</th><th scope=col>gibbs_std</th><th scope=col>gibbs_skew</th><th scope=col>gibbs_kurt</th><th scope=col>pdcnt_min</th><th scope=col>pdcnt_max</th><th scope=col>pdcnt_mean</th><th scope=col>pdcnt_rng</th><th scope=col>pdcnt_std</th><th scope=col>pdcnt_skew</th><th scope=col>pdcnt_kurt</th><th scope=col>regarpt_min</th><th scope=col>regarpt_max</th><th scope=col>regarpt_mean</th><th scope=col>regarpt_rng</th><th scope=col>regarpt_std</th><th scope=col>regarpt_skew</th><th scope=col>regarpt_kurt</th></tr>\n",
       "\t<tr><th></th><th scope=col>&lt;chr&gt;</th><th scope=col>&lt;chr&gt;</th><th scope=col>&lt;dbl&gt;</th><th scope=col>&lt;dbl&gt;</th><th scope=col>&lt;chr&gt;</th><th scope=col>&lt;chr&gt;</th><th scope=col>&lt;int&gt;</th><th scope=col>&lt;int&gt;</th><th scope=col>&lt;int&gt;</th><th scope=col>&lt;fct&gt;</th><th scope=col>&lt;int&gt;</th><th scope=col>&lt;int&gt;</th><th scope=col>&lt;dbl&gt;</th><th scope=col>&lt;int&gt;</th><th scope=col>&lt;dbl&gt;</th><th scope=col>&lt;dbl&gt;</th><th scope=col>&lt;dbl&gt;</th><th scope=col>&lt;int&gt;</th><th scope=col>&lt;int&gt;</th><th scope=col>&lt;dbl&gt;</th><th scope=col>&lt;int&gt;</th><th scope=col>&lt;dbl&gt;</th><th scope=col>&lt;dbl&gt;</th><th scope=col>&lt;dbl&gt;</th><th scope=col>&lt;dbl&gt;</th><th scope=col>&lt;dbl&gt;</th><th scope=col>&lt;dbl&gt;</th><th scope=col>&lt;dbl&gt;</th><th scope=col>&lt;dbl&gt;</th><th scope=col>&lt;dbl&gt;</th><th scope=col>&lt;dbl&gt;</th><th scope=col>&lt;int&gt;</th><th scope=col>&lt;int&gt;</th><th scope=col>&lt;dbl&gt;</th><th scope=col>&lt;int&gt;</th><th scope=col>&lt;dbl&gt;</th><th scope=col>&lt;dbl&gt;</th><th scope=col>&lt;dbl&gt;</th><th scope=col>&lt;dbl&gt;</th><th scope=col>&lt;dbl&gt;</th><th scope=col>&lt;dbl&gt;</th><th scope=col>&lt;dbl&gt;</th><th scope=col>&lt;dbl&gt;</th><th scope=col>&lt;dbl&gt;</th><th scope=col>&lt;dbl&gt;</th></tr>\n",
       "</thead>\n",
       "<tbody>\n",
       "\t<tr><th scope=row>1</th><td>auc_seg2_glm</td><td>l10_seg2_glm</td><td>1.0000000</td><td>5.000000e-01</td><td>Japan        </td><td>Non China</td><td>1</td><td>1</td><td>1</td><td>EU   </td><td>1</td><td>  1</td><td>  1.000000</td><td>  0</td><td>  0.000000</td><td>       NaN</td><td>      NaN</td><td>6</td><td> 9</td><td>7.500000</td><td> 3</td><td>2.121320</td><td>0.0000000</td><td>-2.7500000</td><td>2.23</td><td>  3.45</td><td>2.840000</td><td>  1.22</td><td> 0.8626703</td><td> 3.890973e-16</td><td>-2.7500000</td><td>1</td><td> 1</td><td>1.000000</td><td> 0</td><td>0.0000000</td><td>     NaN</td><td>      NaN</td><td>15.00</td><td>15.00</td><td>15.0000000</td><td>0.00</td><td>0.00000000</td><td>      NaN</td><td>        NaN</td></tr>\n",
       "\t<tr><th scope=row>2</th><td>NA          </td><td>NA          </td><td>0.0000000</td><td>5.000000e-01</td><td>China        </td><td>China    </td><td>1</td><td>1</td><td>1</td><td>EU   </td><td>1</td><td>  1</td><td>  1.000000</td><td>  0</td><td>  0.000000</td><td>       NaN</td><td>      NaN</td><td>6</td><td> 8</td><td>7.000000</td><td> 2</td><td>1.414214</td><td>0.0000000</td><td>-2.7500000</td><td>3.13</td><td>  8.62</td><td>5.875000</td><td>  5.49</td><td> 3.8820162</td><td>-1.821837e-16</td><td>-2.7500000</td><td>1</td><td> 1</td><td>1.000000</td><td> 0</td><td>0.0000000</td><td>     NaN</td><td>      NaN</td><td>15.00</td><td>15.00</td><td>15.0000000</td><td>0.00</td><td>0.00000000</td><td>      NaN</td><td>        NaN</td></tr>\n",
       "\t<tr><th scope=row>3</th><td>auc_seg2_rf </td><td>l10_seg2_rf </td><td>0.5000000</td><td>5.000000e-01</td><td>United States</td><td>Non China</td><td>1</td><td>1</td><td>1</td><td>EU   </td><td>1</td><td>  1</td><td>  1.000000</td><td>  0</td><td>  0.000000</td><td>       NaN</td><td>      NaN</td><td>7</td><td> 7</td><td>7.000000</td><td> 0</td><td>0.000000</td><td>      NaN</td><td>       NaN</td><td>4.51</td><td>  6.09</td><td>5.300000</td><td>  1.58</td><td> 1.1172287</td><td> 0.000000e+00</td><td>-2.7500000</td><td>1</td><td> 1</td><td>1.000000</td><td> 0</td><td>0.0000000</td><td>     NaN</td><td>      NaN</td><td> 5.00</td><td> 5.00</td><td> 5.0000000</td><td>0.00</td><td>0.00000000</td><td>      NaN</td><td>        NaN</td></tr>\n",
       "\t<tr><th scope=row>4</th><td>auc_agg_rf  </td><td>l10_seg2_rf </td><td>0.2272727</td><td>4.545455e-02</td><td>United States</td><td>Non China</td><td>1</td><td>1</td><td>1</td><td>EU   </td><td>1</td><td>  3</td><td>  2.090909</td><td>  2</td><td>  1.019294</td><td>-0.1702685</td><td>-2.058471</td><td>4</td><td>14</td><td>7.363636</td><td>10</td><td>2.498484</td><td>0.8100072</td><td> 0.4123014</td><td>0.59</td><td>100.00</td><td>9.425000</td><td> 99.41</td><td>20.4690367</td><td> 3.916190e+00</td><td>14.4351125</td><td>1</td><td> 3</td><td>1.272727</td><td> 2</td><td>0.7025002</td><td>1.976412</td><td> 2.003371</td><td> 0.50</td><td> 0.50</td><td> 0.5000000</td><td>0.00</td><td>0.00000000</td><td>      NaN</td><td>        NaN</td></tr>\n",
       "\t<tr><th scope=row>5</th><td>auc_agg_rf  </td><td>l10_agg_rf  </td><td>0.0118080</td><td>5.492091e-05</td><td>United States</td><td>Non China</td><td>1</td><td>1</td><td>1</td><td>China</td><td>1</td><td>705</td><td>219.892025</td><td>704</td><td>156.107008</td><td> 1.5055591</td><td> 2.301106</td><td>3</td><td>38</td><td>6.956832</td><td>35</td><td>3.311960</td><td>2.9556282</td><td>13.5354533</td><td>0.00</td><td>100.00</td><td>6.320069</td><td>100.00</td><td>21.0541141</td><td> 4.158734e+00</td><td>15.5656248</td><td>1</td><td>74</td><td>5.124341</td><td>73</td><td>9.7106897</td><td>4.178197</td><td>19.706420</td><td> 0.75</td><td> 4.75</td><td> 0.7519112</td><td>4.00</td><td>0.07918874</td><td>48.370853</td><td>2363.819659</td></tr>\n",
       "\t<tr><th scope=row>6</th><td>auc_agg_glm </td><td>l10_agg_glm </td><td>0.0625000</td><td>6.250000e-02</td><td>France       </td><td>Non China</td><td>1</td><td>1</td><td>1</td><td>China</td><td>1</td><td>  1</td><td>  1.000000</td><td>  0</td><td>  0.000000</td><td>       NaN</td><td>      NaN</td><td>4</td><td>13</td><td>7.375000</td><td> 9</td><td>2.604483</td><td>0.3561975</td><td>-0.8500916</td><td>0.24</td><td> 13.58</td><td>4.647500</td><td> 13.34</td><td> 3.3497910</td><td> 1.008842e+00</td><td> 0.7044306</td><td>1</td><td> 1</td><td>1.000000</td><td> 0</td><td>0.0000000</td><td>     NaN</td><td>      NaN</td><td> 0.75</td><td> 8.50</td><td> 1.2656250</td><td>7.75</td><td>1.92931065</td><td> 3.280409</td><td>   9.359645</td></tr>\n",
       "</tbody>\n",
       "</table>\n"
      ],
      "text/latex": [
       "A data.frame: 6 × 45\n",
       "\\begin{tabular}{r|lllllllllllllllllllllllllllllllllllllllllllll}\n",
       "  & auc\\_win\\_02 & l10\\_win\\_02 & ren\\_prp & tld\\_rat & country\\_maj & region\\_maj & country\\_cnt & region\\_cnt & geo\\_cnt & geo\\_maj & daydom\\_min & daydom\\_max & daydom\\_mean & daydom\\_rng & daydom\\_std & daydom\\_skew & daydom\\_kurt & sldlen\\_min & sldlen\\_max & sldlen\\_mean & sldlen\\_rng & sldlen\\_std & sldlen\\_skew & sldlen\\_kurt & gibbs\\_min & gibbs\\_max & gibbs\\_mean & gibbs\\_rng & gibbs\\_std & gibbs\\_skew & gibbs\\_kurt & pdcnt\\_min & pdcnt\\_max & pdcnt\\_mean & pdcnt\\_rng & pdcnt\\_std & pdcnt\\_skew & pdcnt\\_kurt & regarpt\\_min & regarpt\\_max & regarpt\\_mean & regarpt\\_rng & regarpt\\_std & regarpt\\_skew & regarpt\\_kurt\\\\\n",
       "  & <chr> & <chr> & <dbl> & <dbl> & <chr> & <chr> & <int> & <int> & <int> & <fct> & <int> & <int> & <dbl> & <int> & <dbl> & <dbl> & <dbl> & <int> & <int> & <dbl> & <int> & <dbl> & <dbl> & <dbl> & <dbl> & <dbl> & <dbl> & <dbl> & <dbl> & <dbl> & <dbl> & <int> & <int> & <dbl> & <int> & <dbl> & <dbl> & <dbl> & <dbl> & <dbl> & <dbl> & <dbl> & <dbl> & <dbl> & <dbl>\\\\\n",
       "\\hline\n",
       "\t1 & auc\\_seg2\\_glm & l10\\_seg2\\_glm & 1.0000000 & 5.000000e-01 & Japan         & Non China & 1 & 1 & 1 & EU    & 1 &   1 &   1.000000 &   0 &   0.000000 &        NaN &       NaN & 6 &  9 & 7.500000 &  3 & 2.121320 & 0.0000000 & -2.7500000 & 2.23 &   3.45 & 2.840000 &   1.22 &  0.8626703 &  3.890973e-16 & -2.7500000 & 1 &  1 & 1.000000 &  0 & 0.0000000 &      NaN &       NaN & 15.00 & 15.00 & 15.0000000 & 0.00 & 0.00000000 &       NaN &         NaN\\\\\n",
       "\t2 & NA           & NA           & 0.0000000 & 5.000000e-01 & China         & China     & 1 & 1 & 1 & EU    & 1 &   1 &   1.000000 &   0 &   0.000000 &        NaN &       NaN & 6 &  8 & 7.000000 &  2 & 1.414214 & 0.0000000 & -2.7500000 & 3.13 &   8.62 & 5.875000 &   5.49 &  3.8820162 & -1.821837e-16 & -2.7500000 & 1 &  1 & 1.000000 &  0 & 0.0000000 &      NaN &       NaN & 15.00 & 15.00 & 15.0000000 & 0.00 & 0.00000000 &       NaN &         NaN\\\\\n",
       "\t3 & auc\\_seg2\\_rf  & l10\\_seg2\\_rf  & 0.5000000 & 5.000000e-01 & United States & Non China & 1 & 1 & 1 & EU    & 1 &   1 &   1.000000 &   0 &   0.000000 &        NaN &       NaN & 7 &  7 & 7.000000 &  0 & 0.000000 &       NaN &        NaN & 4.51 &   6.09 & 5.300000 &   1.58 &  1.1172287 &  0.000000e+00 & -2.7500000 & 1 &  1 & 1.000000 &  0 & 0.0000000 &      NaN &       NaN &  5.00 &  5.00 &  5.0000000 & 0.00 & 0.00000000 &       NaN &         NaN\\\\\n",
       "\t4 & auc\\_agg\\_rf   & l10\\_seg2\\_rf  & 0.2272727 & 4.545455e-02 & United States & Non China & 1 & 1 & 1 & EU    & 1 &   3 &   2.090909 &   2 &   1.019294 & -0.1702685 & -2.058471 & 4 & 14 & 7.363636 & 10 & 2.498484 & 0.8100072 &  0.4123014 & 0.59 & 100.00 & 9.425000 &  99.41 & 20.4690367 &  3.916190e+00 & 14.4351125 & 1 &  3 & 1.272727 &  2 & 0.7025002 & 1.976412 &  2.003371 &  0.50 &  0.50 &  0.5000000 & 0.00 & 0.00000000 &       NaN &         NaN\\\\\n",
       "\t5 & auc\\_agg\\_rf   & l10\\_agg\\_rf   & 0.0118080 & 5.492091e-05 & United States & Non China & 1 & 1 & 1 & China & 1 & 705 & 219.892025 & 704 & 156.107008 &  1.5055591 &  2.301106 & 3 & 38 & 6.956832 & 35 & 3.311960 & 2.9556282 & 13.5354533 & 0.00 & 100.00 & 6.320069 & 100.00 & 21.0541141 &  4.158734e+00 & 15.5656248 & 1 & 74 & 5.124341 & 73 & 9.7106897 & 4.178197 & 19.706420 &  0.75 &  4.75 &  0.7519112 & 4.00 & 0.07918874 & 48.370853 & 2363.819659\\\\\n",
       "\t6 & auc\\_agg\\_glm  & l10\\_agg\\_glm  & 0.0625000 & 6.250000e-02 & France        & Non China & 1 & 1 & 1 & China & 1 &   1 &   1.000000 &   0 &   0.000000 &        NaN &       NaN & 4 & 13 & 7.375000 &  9 & 2.604483 & 0.3561975 & -0.8500916 & 0.24 &  13.58 & 4.647500 &  13.34 &  3.3497910 &  1.008842e+00 &  0.7044306 & 1 &  1 & 1.000000 &  0 & 0.0000000 &      NaN &       NaN &  0.75 &  8.50 &  1.2656250 & 7.75 & 1.92931065 &  3.280409 &    9.359645\\\\\n",
       "\\end{tabular}\n"
      ],
      "text/markdown": [
       "\n",
       "A data.frame: 6 × 45\n",
       "\n",
       "| <!--/--> | auc_win_02 &lt;chr&gt; | l10_win_02 &lt;chr&gt; | ren_prp &lt;dbl&gt; | tld_rat &lt;dbl&gt; | country_maj &lt;chr&gt; | region_maj &lt;chr&gt; | country_cnt &lt;int&gt; | region_cnt &lt;int&gt; | geo_cnt &lt;int&gt; | geo_maj &lt;fct&gt; | daydom_min &lt;int&gt; | daydom_max &lt;int&gt; | daydom_mean &lt;dbl&gt; | daydom_rng &lt;int&gt; | daydom_std &lt;dbl&gt; | daydom_skew &lt;dbl&gt; | daydom_kurt &lt;dbl&gt; | sldlen_min &lt;int&gt; | sldlen_max &lt;int&gt; | sldlen_mean &lt;dbl&gt; | sldlen_rng &lt;int&gt; | sldlen_std &lt;dbl&gt; | sldlen_skew &lt;dbl&gt; | sldlen_kurt &lt;dbl&gt; | gibbs_min &lt;dbl&gt; | gibbs_max &lt;dbl&gt; | gibbs_mean &lt;dbl&gt; | gibbs_rng &lt;dbl&gt; | gibbs_std &lt;dbl&gt; | gibbs_skew &lt;dbl&gt; | gibbs_kurt &lt;dbl&gt; | pdcnt_min &lt;int&gt; | pdcnt_max &lt;int&gt; | pdcnt_mean &lt;dbl&gt; | pdcnt_rng &lt;int&gt; | pdcnt_std &lt;dbl&gt; | pdcnt_skew &lt;dbl&gt; | pdcnt_kurt &lt;dbl&gt; | regarpt_min &lt;dbl&gt; | regarpt_max &lt;dbl&gt; | regarpt_mean &lt;dbl&gt; | regarpt_rng &lt;dbl&gt; | regarpt_std &lt;dbl&gt; | regarpt_skew &lt;dbl&gt; | regarpt_kurt &lt;dbl&gt; |\n",
       "|---|---|---|---|---|---|---|---|---|---|---|---|---|---|---|---|---|---|---|---|---|---|---|---|---|---|---|---|---|---|---|---|---|---|---|---|---|---|---|---|---|---|---|---|---|---|\n",
       "| 1 | auc_seg2_glm | l10_seg2_glm | 1.0000000 | 5.000000e-01 | Japan         | Non China | 1 | 1 | 1 | EU    | 1 |   1 |   1.000000 |   0 |   0.000000 |        NaN |       NaN | 6 |  9 | 7.500000 |  3 | 2.121320 | 0.0000000 | -2.7500000 | 2.23 |   3.45 | 2.840000 |   1.22 |  0.8626703 |  3.890973e-16 | -2.7500000 | 1 |  1 | 1.000000 |  0 | 0.0000000 |      NaN |       NaN | 15.00 | 15.00 | 15.0000000 | 0.00 | 0.00000000 |       NaN |         NaN |\n",
       "| 2 | NA           | NA           | 0.0000000 | 5.000000e-01 | China         | China     | 1 | 1 | 1 | EU    | 1 |   1 |   1.000000 |   0 |   0.000000 |        NaN |       NaN | 6 |  8 | 7.000000 |  2 | 1.414214 | 0.0000000 | -2.7500000 | 3.13 |   8.62 | 5.875000 |   5.49 |  3.8820162 | -1.821837e-16 | -2.7500000 | 1 |  1 | 1.000000 |  0 | 0.0000000 |      NaN |       NaN | 15.00 | 15.00 | 15.0000000 | 0.00 | 0.00000000 |       NaN |         NaN |\n",
       "| 3 | auc_seg2_rf  | l10_seg2_rf  | 0.5000000 | 5.000000e-01 | United States | Non China | 1 | 1 | 1 | EU    | 1 |   1 |   1.000000 |   0 |   0.000000 |        NaN |       NaN | 7 |  7 | 7.000000 |  0 | 0.000000 |       NaN |        NaN | 4.51 |   6.09 | 5.300000 |   1.58 |  1.1172287 |  0.000000e+00 | -2.7500000 | 1 |  1 | 1.000000 |  0 | 0.0000000 |      NaN |       NaN |  5.00 |  5.00 |  5.0000000 | 0.00 | 0.00000000 |       NaN |         NaN |\n",
       "| 4 | auc_agg_rf   | l10_seg2_rf  | 0.2272727 | 4.545455e-02 | United States | Non China | 1 | 1 | 1 | EU    | 1 |   3 |   2.090909 |   2 |   1.019294 | -0.1702685 | -2.058471 | 4 | 14 | 7.363636 | 10 | 2.498484 | 0.8100072 |  0.4123014 | 0.59 | 100.00 | 9.425000 |  99.41 | 20.4690367 |  3.916190e+00 | 14.4351125 | 1 |  3 | 1.272727 |  2 | 0.7025002 | 1.976412 |  2.003371 |  0.50 |  0.50 |  0.5000000 | 0.00 | 0.00000000 |       NaN |         NaN |\n",
       "| 5 | auc_agg_rf   | l10_agg_rf   | 0.0118080 | 5.492091e-05 | United States | Non China | 1 | 1 | 1 | China | 1 | 705 | 219.892025 | 704 | 156.107008 |  1.5055591 |  2.301106 | 3 | 38 | 6.956832 | 35 | 3.311960 | 2.9556282 | 13.5354533 | 0.00 | 100.00 | 6.320069 | 100.00 | 21.0541141 |  4.158734e+00 | 15.5656248 | 1 | 74 | 5.124341 | 73 | 9.7106897 | 4.178197 | 19.706420 |  0.75 |  4.75 |  0.7519112 | 4.00 | 0.07918874 | 48.370853 | 2363.819659 |\n",
       "| 6 | auc_agg_glm  | l10_agg_glm  | 0.0625000 | 6.250000e-02 | France        | Non China | 1 | 1 | 1 | China | 1 |   1 |   1.000000 |   0 |   0.000000 |        NaN |       NaN | 4 | 13 | 7.375000 |  9 | 2.604483 | 0.3561975 | -0.8500916 | 0.24 |  13.58 | 4.647500 |  13.34 |  3.3497910 |  1.008842e+00 |  0.7044306 | 1 |  1 | 1.000000 |  0 | 0.0000000 |      NaN |       NaN |  0.75 |  8.50 |  1.2656250 | 7.75 | 1.92931065 |  3.280409 |    9.359645 |\n",
       "\n"
      ],
      "text/plain": [
       "  auc_win_02   l10_win_02   ren_prp   tld_rat      country_maj   region_maj\n",
       "1 auc_seg2_glm l10_seg2_glm 1.0000000 5.000000e-01 Japan         Non China \n",
       "2 NA           NA           0.0000000 5.000000e-01 China         China     \n",
       "3 auc_seg2_rf  l10_seg2_rf  0.5000000 5.000000e-01 United States Non China \n",
       "4 auc_agg_rf   l10_seg2_rf  0.2272727 4.545455e-02 United States Non China \n",
       "5 auc_agg_rf   l10_agg_rf   0.0118080 5.492091e-05 United States Non China \n",
       "6 auc_agg_glm  l10_agg_glm  0.0625000 6.250000e-02 France        Non China \n",
       "  country_cnt region_cnt geo_cnt geo_maj daydom_min daydom_max daydom_mean\n",
       "1 1           1          1       EU      1            1          1.000000 \n",
       "2 1           1          1       EU      1            1          1.000000 \n",
       "3 1           1          1       EU      1            1          1.000000 \n",
       "4 1           1          1       EU      1            3          2.090909 \n",
       "5 1           1          1       China   1          705        219.892025 \n",
       "6 1           1          1       China   1            1          1.000000 \n",
       "  daydom_rng daydom_std daydom_skew daydom_kurt sldlen_min sldlen_max\n",
       "1   0          0.000000        NaN        NaN   6           9        \n",
       "2   0          0.000000        NaN        NaN   6           8        \n",
       "3   0          0.000000        NaN        NaN   7           7        \n",
       "4   2          1.019294 -0.1702685  -2.058471   4          14        \n",
       "5 704        156.107008  1.5055591   2.301106   3          38        \n",
       "6   0          0.000000        NaN        NaN   4          13        \n",
       "  sldlen_mean sldlen_rng sldlen_std sldlen_skew sldlen_kurt gibbs_min gibbs_max\n",
       "1 7.500000     3         2.121320   0.0000000   -2.7500000  2.23        3.45   \n",
       "2 7.000000     2         1.414214   0.0000000   -2.7500000  3.13        8.62   \n",
       "3 7.000000     0         0.000000         NaN          NaN  4.51        6.09   \n",
       "4 7.363636    10         2.498484   0.8100072    0.4123014  0.59      100.00   \n",
       "5 6.956832    35         3.311960   2.9556282   13.5354533  0.00      100.00   \n",
       "6 7.375000     9         2.604483   0.3561975   -0.8500916  0.24       13.58   \n",
       "  gibbs_mean gibbs_rng gibbs_std  gibbs_skew    gibbs_kurt pdcnt_min pdcnt_max\n",
       "1 2.840000     1.22     0.8626703  3.890973e-16 -2.7500000 1          1       \n",
       "2 5.875000     5.49     3.8820162 -1.821837e-16 -2.7500000 1          1       \n",
       "3 5.300000     1.58     1.1172287  0.000000e+00 -2.7500000 1          1       \n",
       "4 9.425000    99.41    20.4690367  3.916190e+00 14.4351125 1          3       \n",
       "5 6.320069   100.00    21.0541141  4.158734e+00 15.5656248 1         74       \n",
       "6 4.647500    13.34     3.3497910  1.008842e+00  0.7044306 1          1       \n",
       "  pdcnt_mean pdcnt_rng pdcnt_std pdcnt_skew pdcnt_kurt regarpt_min regarpt_max\n",
       "1 1.000000    0        0.0000000      NaN         NaN  15.00       15.00      \n",
       "2 1.000000    0        0.0000000      NaN         NaN  15.00       15.00      \n",
       "3 1.000000    0        0.0000000      NaN         NaN   5.00        5.00      \n",
       "4 1.272727    2        0.7025002 1.976412    2.003371   0.50        0.50      \n",
       "5 5.124341   73        9.7106897 4.178197   19.706420   0.75        4.75      \n",
       "6 1.000000    0        0.0000000      NaN         NaN   0.75        8.50      \n",
       "  regarpt_mean regarpt_rng regarpt_std regarpt_skew regarpt_kurt\n",
       "1 15.0000000   0.00        0.00000000        NaN            NaN \n",
       "2 15.0000000   0.00        0.00000000        NaN            NaN \n",
       "3  5.0000000   0.00        0.00000000        NaN            NaN \n",
       "4  0.5000000   0.00        0.00000000        NaN            NaN \n",
       "5  0.7519112   4.00        0.07918874  48.370853    2363.819659 \n",
       "6  1.2656250   7.75        1.92931065   3.280409       9.359645 "
      ]
     },
     "metadata": {},
     "output_type": "display_data"
    }
   ],
   "source": [
    "expiry_test_metametrics_sub = expiry_test_metametrics %>% \n",
    "  select('auc_win_02', 'l10_win_02','ren_prp','tld_rat',\n",
    "         'country_maj','region_maj','country_cnt','region_cnt',\n",
    "         'geo_cnt', 'geo_maj',\n",
    "         'daydom_min','daydom_max','daydom_mean','daydom_rng','daydom_std','daydom_skew','daydom_kurt',\n",
    "         'sldlen_min','sldlen_max','sldlen_mean','sldlen_rng','sldlen_std','sldlen_skew','sldlen_kurt',\n",
    "         'gibbs_min','gibbs_max','gibbs_mean','gibbs_rng','gibbs_std','gibbs_skew','gibbs_kurt',\n",
    "         'pdcnt_min','pdcnt_max','pdcnt_mean','pdcnt_rng','pdcnt_std','pdcnt_skew','pdcnt_kurt',\n",
    "         'regarpt_min','regarpt_max','regarpt_mean','regarpt_rng','regarpt_std','regarpt_skew','regarpt_kurt')\n",
    "head(expiry_test_metametrics_sub)"
   ]
  },
  {
   "cell_type": "markdown",
   "metadata": {},
   "source": [
    "## Impute Missing Values"
   ]
  },
  {
   "cell_type": "code",
   "execution_count": 227,
   "metadata": {},
   "outputs": [
    {
     "data": {
      "text/html": [
       "<table>\n",
       "<caption>A matrix: 45 × 1 of type int</caption>\n",
       "<tbody>\n",
       "\t<tr><th scope=row>auc_win_02</th><td>307</td></tr>\n",
       "\t<tr><th scope=row>l10_win_02</th><td>307</td></tr>\n",
       "\t<tr><th scope=row>ren_prp</th><td>  0</td></tr>\n",
       "\t<tr><th scope=row>tld_rat</th><td>  0</td></tr>\n",
       "\t<tr><th scope=row>country_maj</th><td>  0</td></tr>\n",
       "\t<tr><th scope=row>region_maj</th><td>  0</td></tr>\n",
       "\t<tr><th scope=row>country_cnt</th><td>  0</td></tr>\n",
       "\t<tr><th scope=row>region_cnt</th><td>  0</td></tr>\n",
       "\t<tr><th scope=row>geo_cnt</th><td>  0</td></tr>\n",
       "\t<tr><th scope=row>geo_maj</th><td> 43</td></tr>\n",
       "\t<tr><th scope=row>daydom_min</th><td>  0</td></tr>\n",
       "\t<tr><th scope=row>daydom_max</th><td>  0</td></tr>\n",
       "\t<tr><th scope=row>daydom_mean</th><td>  0</td></tr>\n",
       "\t<tr><th scope=row>daydom_rng</th><td>  0</td></tr>\n",
       "\t<tr><th scope=row>daydom_std</th><td>258</td></tr>\n",
       "\t<tr><th scope=row>daydom_skew</th><td>649</td></tr>\n",
       "\t<tr><th scope=row>daydom_kurt</th><td>649</td></tr>\n",
       "\t<tr><th scope=row>sldlen_min</th><td>  0</td></tr>\n",
       "\t<tr><th scope=row>sldlen_max</th><td>  0</td></tr>\n",
       "\t<tr><th scope=row>sldlen_mean</th><td>  0</td></tr>\n",
       "\t<tr><th scope=row>sldlen_rng</th><td>  0</td></tr>\n",
       "\t<tr><th scope=row>sldlen_std</th><td>258</td></tr>\n",
       "\t<tr><th scope=row>sldlen_skew</th><td>275</td></tr>\n",
       "\t<tr><th scope=row>sldlen_kurt</th><td>275</td></tr>\n",
       "\t<tr><th scope=row>gibbs_min</th><td>  0</td></tr>\n",
       "\t<tr><th scope=row>gibbs_max</th><td>  0</td></tr>\n",
       "\t<tr><th scope=row>gibbs_mean</th><td>  0</td></tr>\n",
       "\t<tr><th scope=row>gibbs_rng</th><td>  0</td></tr>\n",
       "\t<tr><th scope=row>gibbs_std</th><td>258</td></tr>\n",
       "\t<tr><th scope=row>gibbs_skew</th><td>260</td></tr>\n",
       "\t<tr><th scope=row>gibbs_kurt</th><td>260</td></tr>\n",
       "\t<tr><th scope=row>pdcnt_min</th><td>  0</td></tr>\n",
       "\t<tr><th scope=row>pdcnt_max</th><td>  0</td></tr>\n",
       "\t<tr><th scope=row>pdcnt_mean</th><td>  0</td></tr>\n",
       "\t<tr><th scope=row>pdcnt_rng</th><td>  0</td></tr>\n",
       "\t<tr><th scope=row>pdcnt_std</th><td>258</td></tr>\n",
       "\t<tr><th scope=row>pdcnt_skew</th><td>951</td></tr>\n",
       "\t<tr><th scope=row>pdcnt_kurt</th><td>951</td></tr>\n",
       "\t<tr><th scope=row>regarpt_min</th><td>  0</td></tr>\n",
       "\t<tr><th scope=row>regarpt_max</th><td>  0</td></tr>\n",
       "\t<tr><th scope=row>regarpt_mean</th><td>  0</td></tr>\n",
       "\t<tr><th scope=row>regarpt_rng</th><td>  0</td></tr>\n",
       "\t<tr><th scope=row>regarpt_std</th><td>258</td></tr>\n",
       "\t<tr><th scope=row>regarpt_skew</th><td>915</td></tr>\n",
       "\t<tr><th scope=row>regarpt_kurt</th><td>915</td></tr>\n",
       "</tbody>\n",
       "</table>\n"
      ],
      "text/latex": [
       "A matrix: 45 × 1 of type int\n",
       "\\begin{tabular}{r|l}\n",
       "\tauc\\_win\\_02 & 307\\\\\n",
       "\tl10\\_win\\_02 & 307\\\\\n",
       "\tren\\_prp &   0\\\\\n",
       "\ttld\\_rat &   0\\\\\n",
       "\tcountry\\_maj &   0\\\\\n",
       "\tregion\\_maj &   0\\\\\n",
       "\tcountry\\_cnt &   0\\\\\n",
       "\tregion\\_cnt &   0\\\\\n",
       "\tgeo\\_cnt &   0\\\\\n",
       "\tgeo\\_maj &  43\\\\\n",
       "\tdaydom\\_min &   0\\\\\n",
       "\tdaydom\\_max &   0\\\\\n",
       "\tdaydom\\_mean &   0\\\\\n",
       "\tdaydom\\_rng &   0\\\\\n",
       "\tdaydom\\_std & 258\\\\\n",
       "\tdaydom\\_skew & 649\\\\\n",
       "\tdaydom\\_kurt & 649\\\\\n",
       "\tsldlen\\_min &   0\\\\\n",
       "\tsldlen\\_max &   0\\\\\n",
       "\tsldlen\\_mean &   0\\\\\n",
       "\tsldlen\\_rng &   0\\\\\n",
       "\tsldlen\\_std & 258\\\\\n",
       "\tsldlen\\_skew & 275\\\\\n",
       "\tsldlen\\_kurt & 275\\\\\n",
       "\tgibbs\\_min &   0\\\\\n",
       "\tgibbs\\_max &   0\\\\\n",
       "\tgibbs\\_mean &   0\\\\\n",
       "\tgibbs\\_rng &   0\\\\\n",
       "\tgibbs\\_std & 258\\\\\n",
       "\tgibbs\\_skew & 260\\\\\n",
       "\tgibbs\\_kurt & 260\\\\\n",
       "\tpdcnt\\_min &   0\\\\\n",
       "\tpdcnt\\_max &   0\\\\\n",
       "\tpdcnt\\_mean &   0\\\\\n",
       "\tpdcnt\\_rng &   0\\\\\n",
       "\tpdcnt\\_std & 258\\\\\n",
       "\tpdcnt\\_skew & 951\\\\\n",
       "\tpdcnt\\_kurt & 951\\\\\n",
       "\tregarpt\\_min &   0\\\\\n",
       "\tregarpt\\_max &   0\\\\\n",
       "\tregarpt\\_mean &   0\\\\\n",
       "\tregarpt\\_rng &   0\\\\\n",
       "\tregarpt\\_std & 258\\\\\n",
       "\tregarpt\\_skew & 915\\\\\n",
       "\tregarpt\\_kurt & 915\\\\\n",
       "\\end{tabular}\n"
      ],
      "text/markdown": [
       "\n",
       "A matrix: 45 × 1 of type int\n",
       "\n",
       "| auc_win_02 | 307 |\n",
       "| l10_win_02 | 307 |\n",
       "| ren_prp |   0 |\n",
       "| tld_rat |   0 |\n",
       "| country_maj |   0 |\n",
       "| region_maj |   0 |\n",
       "| country_cnt |   0 |\n",
       "| region_cnt |   0 |\n",
       "| geo_cnt |   0 |\n",
       "| geo_maj |  43 |\n",
       "| daydom_min |   0 |\n",
       "| daydom_max |   0 |\n",
       "| daydom_mean |   0 |\n",
       "| daydom_rng |   0 |\n",
       "| daydom_std | 258 |\n",
       "| daydom_skew | 649 |\n",
       "| daydom_kurt | 649 |\n",
       "| sldlen_min |   0 |\n",
       "| sldlen_max |   0 |\n",
       "| sldlen_mean |   0 |\n",
       "| sldlen_rng |   0 |\n",
       "| sldlen_std | 258 |\n",
       "| sldlen_skew | 275 |\n",
       "| sldlen_kurt | 275 |\n",
       "| gibbs_min |   0 |\n",
       "| gibbs_max |   0 |\n",
       "| gibbs_mean |   0 |\n",
       "| gibbs_rng |   0 |\n",
       "| gibbs_std | 258 |\n",
       "| gibbs_skew | 260 |\n",
       "| gibbs_kurt | 260 |\n",
       "| pdcnt_min |   0 |\n",
       "| pdcnt_max |   0 |\n",
       "| pdcnt_mean |   0 |\n",
       "| pdcnt_rng |   0 |\n",
       "| pdcnt_std | 258 |\n",
       "| pdcnt_skew | 951 |\n",
       "| pdcnt_kurt | 951 |\n",
       "| regarpt_min |   0 |\n",
       "| regarpt_max |   0 |\n",
       "| regarpt_mean |   0 |\n",
       "| regarpt_rng |   0 |\n",
       "| regarpt_std | 258 |\n",
       "| regarpt_skew | 915 |\n",
       "| regarpt_kurt | 915 |\n",
       "\n"
      ],
      "text/plain": [
       "             [,1]\n",
       "auc_win_02   307 \n",
       "l10_win_02   307 \n",
       "ren_prp        0 \n",
       "tld_rat        0 \n",
       "country_maj    0 \n",
       "region_maj     0 \n",
       "country_cnt    0 \n",
       "region_cnt     0 \n",
       "geo_cnt        0 \n",
       "geo_maj       43 \n",
       "daydom_min     0 \n",
       "daydom_max     0 \n",
       "daydom_mean    0 \n",
       "daydom_rng     0 \n",
       "daydom_std   258 \n",
       "daydom_skew  649 \n",
       "daydom_kurt  649 \n",
       "sldlen_min     0 \n",
       "sldlen_max     0 \n",
       "sldlen_mean    0 \n",
       "sldlen_rng     0 \n",
       "sldlen_std   258 \n",
       "sldlen_skew  275 \n",
       "sldlen_kurt  275 \n",
       "gibbs_min      0 \n",
       "gibbs_max      0 \n",
       "gibbs_mean     0 \n",
       "gibbs_rng      0 \n",
       "gibbs_std    258 \n",
       "gibbs_skew   260 \n",
       "gibbs_kurt   260 \n",
       "pdcnt_min      0 \n",
       "pdcnt_max      0 \n",
       "pdcnt_mean     0 \n",
       "pdcnt_rng      0 \n",
       "pdcnt_std    258 \n",
       "pdcnt_skew   951 \n",
       "pdcnt_kurt   951 \n",
       "regarpt_min    0 \n",
       "regarpt_max    0 \n",
       "regarpt_mean   0 \n",
       "regarpt_rng    0 \n",
       "regarpt_std  258 \n",
       "regarpt_skew 915 \n",
       "regarpt_kurt 915 "
      ]
     },
     "metadata": {},
     "output_type": "display_data"
    }
   ],
   "source": [
    "expiry_test_metametrics_sub %>%\n",
    "  select(everything()) %>%  \n",
    "  summarise_all(funs(sum(is.na(.)))) %>%  \n",
    "  t() "
   ]
  },
  {
   "cell_type": "code",
   "execution_count": 228,
   "metadata": {},
   "outputs": [],
   "source": [
    "# install.packages(\"missRanger\")\n",
    "library(missRanger)"
   ]
  },
  {
   "cell_type": "code",
   "execution_count": 229,
   "metadata": {},
   "outputs": [
    {
     "name": "stdout",
     "output_type": "stream",
     "text": [
      "\n",
      "Missing value imputation by random forests\n",
      "\n",
      "  Variables to impute:\t\tauc_win_02, l10_win_02, geo_maj, daydom_std, daydom_skew, daydom_kurt, sldlen_std, sldlen_skew, sldlen_kurt, gibbs_std, gibbs_skew, gibbs_kurt, pdcnt_std, pdcnt_skew, pdcnt_kurt, regarpt_std, regarpt_skew, regarpt_kurt\n",
      "  Variables used to impute:\tauc_win_02, l10_win_02, ren_prp, tld_rat, country_maj, region_maj, country_cnt, region_cnt, geo_cnt, geo_maj, daydom_min, daydom_max, daydom_mean, daydom_rng, daydom_std, daydom_skew, daydom_kurt, sldlen_min, sldlen_max, sldlen_mean, sldlen_rng, sldlen_std, sldlen_skew, sldlen_kurt, gibbs_min, gibbs_max, gibbs_mean, gibbs_rng, gibbs_std, gibbs_skew, gibbs_kurt, pdcnt_min, pdcnt_max, pdcnt_mean, pdcnt_rng, pdcnt_std, pdcnt_skew, pdcnt_kurt, regarpt_min, regarpt_max, regarpt_mean, regarpt_rng, regarpt_std, regarpt_skew, regarpt_kurt\n",
      "iter 1:\t"
     ]
    },
    {
     "name": "stderr",
     "output_type": "stream",
     "text": [
      "Warning message:\n",
      "“Dropped unused factor level(s) in dependent variable: Middle East.”\n"
     ]
    },
    {
     "name": "stdout",
     "output_type": "stream",
     "text": [
      "..................\n",
      "iter 2:\t"
     ]
    },
    {
     "name": "stderr",
     "output_type": "stream",
     "text": [
      "Warning message:\n",
      "“Dropped unused factor level(s) in dependent variable: Middle East.”\n"
     ]
    },
    {
     "name": "stdout",
     "output_type": "stream",
     "text": [
      "..................\n",
      "iter 3:\t"
     ]
    },
    {
     "name": "stderr",
     "output_type": "stream",
     "text": [
      "Warning message:\n",
      "“Dropped unused factor level(s) in dependent variable: Middle East.”\n"
     ]
    },
    {
     "name": "stdout",
     "output_type": "stream",
     "text": [
      "..................\n",
      "iter 4:\t"
     ]
    },
    {
     "name": "stderr",
     "output_type": "stream",
     "text": [
      "Warning message:\n",
      "“Dropped unused factor level(s) in dependent variable: Middle East.”\n"
     ]
    },
    {
     "name": "stdout",
     "output_type": "stream",
     "text": [
      "..................\n",
      "iter 5:\t"
     ]
    },
    {
     "name": "stderr",
     "output_type": "stream",
     "text": [
      "Warning message:\n",
      "“Dropped unused factor level(s) in dependent variable: Middle East.”\n"
     ]
    },
    {
     "name": "stdout",
     "output_type": "stream",
     "text": [
      "..................\n"
     ]
    }
   ],
   "source": [
    "expiry_test_metametrics_sub_imp <- missRanger(expiry_test_metametrics_sub, num.trees = 100)"
   ]
  },
  {
   "cell_type": "code",
   "execution_count": 230,
   "metadata": {},
   "outputs": [
    {
     "name": "stdout",
     "output_type": "stream",
     "text": [
      " Factor w/ 7 levels \"auc_agg_glm\",..: 5 5 7 2 2 1 4 5 3 5 ...\n",
      " Factor w/ 7 levels \"auc_seg2_glm\",..: 1 1 7 3 3 2 5 1 4 1 ...\n"
     ]
    }
   ],
   "source": [
    "expiry_test_metametrics_sub_imp$auc_win_02 <- factor(expiry_test_metametrics_sub_imp$auc_win_02)\n",
    "str(expiry_test_metametrics_sub_imp$auc_win_02)\n",
    "expiry_test_metametrics_sub_imp$auc_win_02 <- relevel(expiry_test_metametrics_sub_imp$auc_win_02, ref=5)\n",
    "str(expiry_test_metametrics_sub_imp$auc_win_02)"
   ]
  },
  {
   "cell_type": "code",
   "execution_count": null,
   "metadata": {},
   "outputs": [],
   "source": []
  },
  {
   "cell_type": "code",
   "execution_count": 231,
   "metadata": {},
   "outputs": [],
   "source": [
    "set.seed(123) \n",
    "smp_siz = floor(0.8*nrow(expiry_test_metametrics_sub_imp))\n",
    "train_ind = sample(seq_len(nrow(expiry_test_metametrics_sub_imp)),size = smp_siz) \n",
    "train = expiry_test_metametrics_sub_imp[train_ind,] \n",
    "test = expiry_test_metametrics_sub_imp[-train_ind,]  "
   ]
  },
  {
   "cell_type": "code",
   "execution_count": 232,
   "metadata": {},
   "outputs": [
    {
     "data": {
      "text/plain": [
       "\n",
       " l10_agg_glm   l10_agg_rf  l10_seg_glm   l10_seg_rf l10_seg2_glm  l10_seg2_rf \n",
       "  0.08896797   0.02491103   0.12099644   0.03914591   0.65124555   0.07473310 "
      ]
     },
     "metadata": {},
     "output_type": "display_data"
    },
    {
     "data": {
      "text/plain": [
       "\n",
       "   auc_seg2_glm     auc_agg_glm      auc_agg_rf     auc_seg_glm      auc_seg_rf \n",
       "    0.494661922     0.110320285     0.071174377     0.142348754     0.103202847 \n",
       "auc_seg2_glm_fb     auc_seg2_rf \n",
       "    0.003558719     0.074733096 "
      ]
     },
     "metadata": {},
     "output_type": "display_data"
    }
   ],
   "source": [
    "prop.table(table(test$l10_win_02))\n",
    "prop.table(table(test$auc_win_02))"
   ]
  },
  {
   "cell_type": "markdown",
   "metadata": {},
   "source": [
    "## RF multiclass auc"
   ]
  },
  {
   "cell_type": "code",
   "execution_count": 233,
   "metadata": {},
   "outputs": [],
   "source": [
    "library(ranger) "
   ]
  },
  {
   "cell_type": "code",
   "execution_count": 234,
   "metadata": {},
   "outputs": [],
   "source": [
    "model <- ranger(formula         = auc_win_02 ~ ., \n",
    "                data            = subset(train, select = -c(l10_win_02) ), \n",
    "                importance = 'impurity', \n",
    "                num.trees       = 500,\n",
    "                probability = TRUE,\n",
    "                replace = FALSE,\n",
    "                sample.fraction = .8,\n",
    "                seed            = 123,\n",
    "                respect.unordered.factors=TRUE)"
   ]
  },
  {
   "cell_type": "code",
   "execution_count": 235,
   "metadata": {},
   "outputs": [],
   "source": [
    "pred <- predict(model, \n",
    "                data = test,\n",
    "                type=\"response\")$predictions"
   ]
  },
  {
   "cell_type": "code",
   "execution_count": 236,
   "metadata": {},
   "outputs": [
    {
     "data": {
      "text/html": [
       "<table>\n",
       "<caption>A matrix: 6 × 7 of type dbl</caption>\n",
       "<thead>\n",
       "\t<tr><th scope=col>auc_seg2_glm</th><th scope=col>auc_agg_glm</th><th scope=col>auc_agg_rf</th><th scope=col>auc_seg_glm</th><th scope=col>auc_seg_rf</th><th scope=col>auc_seg2_glm_fb</th><th scope=col>auc_seg2_rf</th></tr>\n",
       "</thead>\n",
       "<tbody>\n",
       "\t<tr><td>0.8566175</td><td>0.02186429</td><td>0.00040000</td><td>0.083496032</td><td>0.022746032</td><td>0.000000000</td><td>0.01487619</td></tr>\n",
       "\t<tr><td>0.5597929</td><td>0.07869841</td><td>0.04142302</td><td>0.219622222</td><td>0.073344444</td><td>0.000000000</td><td>0.02711905</td></tr>\n",
       "\t<tr><td>0.3315897</td><td>0.24432381</td><td>0.14966825</td><td>0.185831746</td><td>0.048737302</td><td>0.000000000</td><td>0.03984921</td></tr>\n",
       "\t<tr><td>0.6699841</td><td>0.07378651</td><td>0.04965238</td><td>0.132586508</td><td>0.045823016</td><td>0.000200000</td><td>0.02796746</td></tr>\n",
       "\t<tr><td>0.3394794</td><td>0.14153095</td><td>0.04022381</td><td>0.361315873</td><td>0.075131746</td><td>0.002230159</td><td>0.04008810</td></tr>\n",
       "\t<tr><td>0.8212540</td><td>0.07500000</td><td>0.00000000</td><td>0.004488889</td><td>0.008310317</td><td>0.000000000</td><td>0.09094683</td></tr>\n",
       "</tbody>\n",
       "</table>\n"
      ],
      "text/latex": [
       "A matrix: 6 × 7 of type dbl\n",
       "\\begin{tabular}{lllllll}\n",
       " auc\\_seg2\\_glm & auc\\_agg\\_glm & auc\\_agg\\_rf & auc\\_seg\\_glm & auc\\_seg\\_rf & auc\\_seg2\\_glm\\_fb & auc\\_seg2\\_rf\\\\\n",
       "\\hline\n",
       "\t 0.8566175 & 0.02186429 & 0.00040000 & 0.083496032 & 0.022746032 & 0.000000000 & 0.01487619\\\\\n",
       "\t 0.5597929 & 0.07869841 & 0.04142302 & 0.219622222 & 0.073344444 & 0.000000000 & 0.02711905\\\\\n",
       "\t 0.3315897 & 0.24432381 & 0.14966825 & 0.185831746 & 0.048737302 & 0.000000000 & 0.03984921\\\\\n",
       "\t 0.6699841 & 0.07378651 & 0.04965238 & 0.132586508 & 0.045823016 & 0.000200000 & 0.02796746\\\\\n",
       "\t 0.3394794 & 0.14153095 & 0.04022381 & 0.361315873 & 0.075131746 & 0.002230159 & 0.04008810\\\\\n",
       "\t 0.8212540 & 0.07500000 & 0.00000000 & 0.004488889 & 0.008310317 & 0.000000000 & 0.09094683\\\\\n",
       "\\end{tabular}\n"
      ],
      "text/markdown": [
       "\n",
       "A matrix: 6 × 7 of type dbl\n",
       "\n",
       "| auc_seg2_glm | auc_agg_glm | auc_agg_rf | auc_seg_glm | auc_seg_rf | auc_seg2_glm_fb | auc_seg2_rf |\n",
       "|---|---|---|---|---|---|---|\n",
       "| 0.8566175 | 0.02186429 | 0.00040000 | 0.083496032 | 0.022746032 | 0.000000000 | 0.01487619 |\n",
       "| 0.5597929 | 0.07869841 | 0.04142302 | 0.219622222 | 0.073344444 | 0.000000000 | 0.02711905 |\n",
       "| 0.3315897 | 0.24432381 | 0.14966825 | 0.185831746 | 0.048737302 | 0.000000000 | 0.03984921 |\n",
       "| 0.6699841 | 0.07378651 | 0.04965238 | 0.132586508 | 0.045823016 | 0.000200000 | 0.02796746 |\n",
       "| 0.3394794 | 0.14153095 | 0.04022381 | 0.361315873 | 0.075131746 | 0.002230159 | 0.04008810 |\n",
       "| 0.8212540 | 0.07500000 | 0.00000000 | 0.004488889 | 0.008310317 | 0.000000000 | 0.09094683 |\n",
       "\n"
      ],
      "text/plain": [
       "     auc_seg2_glm auc_agg_glm auc_agg_rf auc_seg_glm auc_seg_rf \n",
       "[1,] 0.8566175    0.02186429  0.00040000 0.083496032 0.022746032\n",
       "[2,] 0.5597929    0.07869841  0.04142302 0.219622222 0.073344444\n",
       "[3,] 0.3315897    0.24432381  0.14966825 0.185831746 0.048737302\n",
       "[4,] 0.6699841    0.07378651  0.04965238 0.132586508 0.045823016\n",
       "[5,] 0.3394794    0.14153095  0.04022381 0.361315873 0.075131746\n",
       "[6,] 0.8212540    0.07500000  0.00000000 0.004488889 0.008310317\n",
       "     auc_seg2_glm_fb auc_seg2_rf\n",
       "[1,] 0.000000000     0.01487619 \n",
       "[2,] 0.000000000     0.02711905 \n",
       "[3,] 0.000000000     0.03984921 \n",
       "[4,] 0.000200000     0.02796746 \n",
       "[5,] 0.002230159     0.04008810 \n",
       "[6,] 0.000000000     0.09094683 "
      ]
     },
     "metadata": {},
     "output_type": "display_data"
    }
   ],
   "source": [
    "head(pred)"
   ]
  },
  {
   "cell_type": "code",
   "execution_count": 237,
   "metadata": {},
   "outputs": [
    {
     "data": {
      "text/html": [
       "<table>\n",
       "<caption>A data.frame: 6 × 8</caption>\n",
       "<thead>\n",
       "\t<tr><th></th><th scope=col>auc_seg2_glm</th><th scope=col>auc_agg_glm</th><th scope=col>auc_agg_rf</th><th scope=col>auc_seg_glm</th><th scope=col>auc_seg_rf</th><th scope=col>auc_seg2_glm_fb</th><th scope=col>auc_seg2_rf</th><th scope=col>auc_win_02</th></tr>\n",
       "\t<tr><th></th><th scope=col>&lt;dbl&gt;</th><th scope=col>&lt;dbl&gt;</th><th scope=col>&lt;dbl&gt;</th><th scope=col>&lt;dbl&gt;</th><th scope=col>&lt;dbl&gt;</th><th scope=col>&lt;dbl&gt;</th><th scope=col>&lt;dbl&gt;</th><th scope=col>&lt;chr&gt;</th></tr>\n",
       "</thead>\n",
       "<tbody>\n",
       "\t<tr><th scope=row>1</th><td>0.8566175</td><td>0.02186429</td><td>0.00040000</td><td>0.083496032</td><td>0.022746032</td><td>0.000000000</td><td>0.01487619</td><td>auc_seg2_glm</td></tr>\n",
       "\t<tr><th scope=row>2</th><td>0.5597929</td><td>0.07869841</td><td>0.04142302</td><td>0.219622222</td><td>0.073344444</td><td>0.000000000</td><td>0.02711905</td><td>auc_seg2_glm</td></tr>\n",
       "\t<tr><th scope=row>3</th><td>0.3315897</td><td>0.24432381</td><td>0.14966825</td><td>0.185831746</td><td>0.048737302</td><td>0.000000000</td><td>0.03984921</td><td>auc_seg2_glm</td></tr>\n",
       "\t<tr><th scope=row>4</th><td>0.6699841</td><td>0.07378651</td><td>0.04965238</td><td>0.132586508</td><td>0.045823016</td><td>0.000200000</td><td>0.02796746</td><td>auc_seg2_glm</td></tr>\n",
       "\t<tr><th scope=row>5</th><td>0.3394794</td><td>0.14153095</td><td>0.04022381</td><td>0.361315873</td><td>0.075131746</td><td>0.002230159</td><td>0.04008810</td><td>auc_seg_glm </td></tr>\n",
       "\t<tr><th scope=row>6</th><td>0.8212540</td><td>0.07500000</td><td>0.00000000</td><td>0.004488889</td><td>0.008310317</td><td>0.000000000</td><td>0.09094683</td><td>auc_seg2_glm</td></tr>\n",
       "</tbody>\n",
       "</table>\n"
      ],
      "text/latex": [
       "A data.frame: 6 × 8\n",
       "\\begin{tabular}{r|llllllll}\n",
       "  & auc\\_seg2\\_glm & auc\\_agg\\_glm & auc\\_agg\\_rf & auc\\_seg\\_glm & auc\\_seg\\_rf & auc\\_seg2\\_glm\\_fb & auc\\_seg2\\_rf & auc\\_win\\_02\\\\\n",
       "  & <dbl> & <dbl> & <dbl> & <dbl> & <dbl> & <dbl> & <dbl> & <chr>\\\\\n",
       "\\hline\n",
       "\t1 & 0.8566175 & 0.02186429 & 0.00040000 & 0.083496032 & 0.022746032 & 0.000000000 & 0.01487619 & auc\\_seg2\\_glm\\\\\n",
       "\t2 & 0.5597929 & 0.07869841 & 0.04142302 & 0.219622222 & 0.073344444 & 0.000000000 & 0.02711905 & auc\\_seg2\\_glm\\\\\n",
       "\t3 & 0.3315897 & 0.24432381 & 0.14966825 & 0.185831746 & 0.048737302 & 0.000000000 & 0.03984921 & auc\\_seg2\\_glm\\\\\n",
       "\t4 & 0.6699841 & 0.07378651 & 0.04965238 & 0.132586508 & 0.045823016 & 0.000200000 & 0.02796746 & auc\\_seg2\\_glm\\\\\n",
       "\t5 & 0.3394794 & 0.14153095 & 0.04022381 & 0.361315873 & 0.075131746 & 0.002230159 & 0.04008810 & auc\\_seg\\_glm \\\\\n",
       "\t6 & 0.8212540 & 0.07500000 & 0.00000000 & 0.004488889 & 0.008310317 & 0.000000000 & 0.09094683 & auc\\_seg2\\_glm\\\\\n",
       "\\end{tabular}\n"
      ],
      "text/markdown": [
       "\n",
       "A data.frame: 6 × 8\n",
       "\n",
       "| <!--/--> | auc_seg2_glm &lt;dbl&gt; | auc_agg_glm &lt;dbl&gt; | auc_agg_rf &lt;dbl&gt; | auc_seg_glm &lt;dbl&gt; | auc_seg_rf &lt;dbl&gt; | auc_seg2_glm_fb &lt;dbl&gt; | auc_seg2_rf &lt;dbl&gt; | auc_win_02 &lt;chr&gt; |\n",
       "|---|---|---|---|---|---|---|---|---|\n",
       "| 1 | 0.8566175 | 0.02186429 | 0.00040000 | 0.083496032 | 0.022746032 | 0.000000000 | 0.01487619 | auc_seg2_glm |\n",
       "| 2 | 0.5597929 | 0.07869841 | 0.04142302 | 0.219622222 | 0.073344444 | 0.000000000 | 0.02711905 | auc_seg2_glm |\n",
       "| 3 | 0.3315897 | 0.24432381 | 0.14966825 | 0.185831746 | 0.048737302 | 0.000000000 | 0.03984921 | auc_seg2_glm |\n",
       "| 4 | 0.6699841 | 0.07378651 | 0.04965238 | 0.132586508 | 0.045823016 | 0.000200000 | 0.02796746 | auc_seg2_glm |\n",
       "| 5 | 0.3394794 | 0.14153095 | 0.04022381 | 0.361315873 | 0.075131746 | 0.002230159 | 0.04008810 | auc_seg_glm  |\n",
       "| 6 | 0.8212540 | 0.07500000 | 0.00000000 | 0.004488889 | 0.008310317 | 0.000000000 | 0.09094683 | auc_seg2_glm |\n",
       "\n"
      ],
      "text/plain": [
       "  auc_seg2_glm auc_agg_glm auc_agg_rf auc_seg_glm auc_seg_rf  auc_seg2_glm_fb\n",
       "1 0.8566175    0.02186429  0.00040000 0.083496032 0.022746032 0.000000000    \n",
       "2 0.5597929    0.07869841  0.04142302 0.219622222 0.073344444 0.000000000    \n",
       "3 0.3315897    0.24432381  0.14966825 0.185831746 0.048737302 0.000000000    \n",
       "4 0.6699841    0.07378651  0.04965238 0.132586508 0.045823016 0.000200000    \n",
       "5 0.3394794    0.14153095  0.04022381 0.361315873 0.075131746 0.002230159    \n",
       "6 0.8212540    0.07500000  0.00000000 0.004488889 0.008310317 0.000000000    \n",
       "  auc_seg2_rf auc_win_02  \n",
       "1 0.01487619  auc_seg2_glm\n",
       "2 0.02711905  auc_seg2_glm\n",
       "3 0.03984921  auc_seg2_glm\n",
       "4 0.02796746  auc_seg2_glm\n",
       "5 0.04008810  auc_seg_glm \n",
       "6 0.09094683  auc_seg2_glm"
      ]
     },
     "metadata": {},
     "output_type": "display_data"
    }
   ],
   "source": [
    "pred <- as.data.frame(pred)\n",
    "auc_vars <- names(pred)\n",
    "pred <- pred %>%\n",
    "    mutate (auc_win_02=sapply(apply(.[,c(auc_vars)], \n",
    "                          1, function(x) names(x)[which.max(x)]) , \n",
    "                                    function(s) if (length(s) == 0) NA else paste(s, collapse = \" \")) \n",
    "            ) \n",
    "head(pred)"
   ]
  },
  {
   "cell_type": "code",
   "execution_count": 238,
   "metadata": {},
   "outputs": [
    {
     "data": {
      "text/plain": [
       "                 \n",
       "                  auc_agg_glm auc_agg_rf auc_seg_glm auc_seg_rf auc_seg2_glm\n",
       "  auc_seg2_glm              2          1           4          0          132\n",
       "  auc_agg_glm               4          1           1          0           25\n",
       "  auc_agg_rf                5          0           3          0           12\n",
       "  auc_seg_glm               6          0          11          1           22\n",
       "  auc_seg_rf                4          1           3          0           21\n",
       "  auc_seg2_glm_fb           0          0           0          0            1\n",
       "  auc_seg2_rf               1          0           3          0           15\n",
       "                 \n",
       "                  auc_seg2_rf\n",
       "  auc_seg2_glm              0\n",
       "  auc_agg_glm               0\n",
       "  auc_agg_rf                0\n",
       "  auc_seg_glm               0\n",
       "  auc_seg_rf                0\n",
       "  auc_seg2_glm_fb           0\n",
       "  auc_seg2_rf               2"
      ]
     },
     "metadata": {},
     "output_type": "display_data"
    }
   ],
   "source": [
    "xtab <- table(test$auc_win_02, pred$auc_win_02)\n",
    "xtab"
   ]
  },
  {
   "cell_type": "code",
   "execution_count": 239,
   "metadata": {},
   "outputs": [
    {
     "data": {
      "text/html": [
       "<style>\n",
       ".list-inline {list-style: none; margin:0; padding: 0}\n",
       ".list-inline>li {display: inline-block}\n",
       ".list-inline>li:not(:last-child)::after {content: \"\\00b7\"; padding: 0 .5ex}\n",
       "</style>\n",
       "<ol class=list-inline><li>'auc_seg2_glm'</li><li>'auc_agg_glm'</li><li>'auc_agg_rf'</li><li>'auc_seg_glm'</li><li>'auc_seg_rf'</li><li>'auc_seg2_glm_fb'</li><li>'auc_seg2_rf'</li></ol>\n"
      ],
      "text/latex": [
       "\\begin{enumerate*}\n",
       "\\item 'auc\\_seg2\\_glm'\n",
       "\\item 'auc\\_agg\\_glm'\n",
       "\\item 'auc\\_agg\\_rf'\n",
       "\\item 'auc\\_seg\\_glm'\n",
       "\\item 'auc\\_seg\\_rf'\n",
       "\\item 'auc\\_seg2\\_glm\\_fb'\n",
       "\\item 'auc\\_seg2\\_rf'\n",
       "\\end{enumerate*}\n"
      ],
      "text/markdown": [
       "1. 'auc_seg2_glm'\n",
       "2. 'auc_agg_glm'\n",
       "3. 'auc_agg_rf'\n",
       "4. 'auc_seg_glm'\n",
       "5. 'auc_seg_rf'\n",
       "6. 'auc_seg2_glm_fb'\n",
       "7. 'auc_seg2_rf'\n",
       "\n",
       "\n"
      ],
      "text/plain": [
       "[1] \"auc_seg2_glm\"    \"auc_agg_glm\"     \"auc_agg_rf\"      \"auc_seg_glm\"    \n",
       "[5] \"auc_seg_rf\"      \"auc_seg2_glm_fb\" \"auc_seg2_rf\"    "
      ]
     },
     "metadata": {},
     "output_type": "display_data"
    },
    {
     "data": {
      "text/html": [
       "<style>\n",
       ".list-inline {list-style: none; margin:0; padding: 0}\n",
       ".list-inline>li {display: inline-block}\n",
       ".list-inline>li:not(:last-child)::after {content: \"\\00b7\"; padding: 0 .5ex}\n",
       "</style>\n",
       "<ol class=list-inline><li>'auc_agg_glm'</li><li>'auc_agg_rf'</li><li>'auc_seg_glm'</li><li>'auc_seg_rf'</li><li>'auc_seg2_glm'</li><li>'auc_seg2_rf'</li></ol>\n"
      ],
      "text/latex": [
       "\\begin{enumerate*}\n",
       "\\item 'auc\\_agg\\_glm'\n",
       "\\item 'auc\\_agg\\_rf'\n",
       "\\item 'auc\\_seg\\_glm'\n",
       "\\item 'auc\\_seg\\_rf'\n",
       "\\item 'auc\\_seg2\\_glm'\n",
       "\\item 'auc\\_seg2\\_rf'\n",
       "\\end{enumerate*}\n"
      ],
      "text/markdown": [
       "1. 'auc_agg_glm'\n",
       "2. 'auc_agg_rf'\n",
       "3. 'auc_seg_glm'\n",
       "4. 'auc_seg_rf'\n",
       "5. 'auc_seg2_glm'\n",
       "6. 'auc_seg2_rf'\n",
       "\n",
       "\n"
      ],
      "text/plain": [
       "[1] \"auc_agg_glm\"  \"auc_agg_rf\"   \"auc_seg_glm\"  \"auc_seg_rf\"   \"auc_seg2_glm\"\n",
       "[6] \"auc_seg2_rf\" "
      ]
     },
     "metadata": {},
     "output_type": "display_data"
    }
   ],
   "source": [
    "levels(factor(test$auc_win_02))\n",
    "levels(factor(pred$auc_win_02))"
   ]
  },
  {
   "cell_type": "code",
   "execution_count": 240,
   "metadata": {},
   "outputs": [
    {
     "data": {
      "text/plain": [
       "Confusion Matrix and Statistics\n",
       "\n",
       "              Reference\n",
       "Prediction     auc_agg_glm auc_agg_rf auc_seg_glm auc_seg_rf auc_seg2_glm\n",
       "  auc_agg_glm            4          1           1          0           25\n",
       "  auc_agg_rf             5          0           3          0           12\n",
       "  auc_seg_glm            6          0          11          1           22\n",
       "  auc_seg_rf             4          1           3          0           21\n",
       "  auc_seg2_glm           2          1           4          0          132\n",
       "  auc_seg2_rf            1          0           3          0           15\n",
       "              Reference\n",
       "Prediction     auc_seg2_rf\n",
       "  auc_agg_glm            0\n",
       "  auc_agg_rf             0\n",
       "  auc_seg_glm            0\n",
       "  auc_seg_rf             0\n",
       "  auc_seg2_glm           0\n",
       "  auc_seg2_rf            2\n",
       "\n",
       "Overall Statistics\n",
       "                                          \n",
       "               Accuracy : 0.5321          \n",
       "                 95% CI : (0.4718, 0.5918)\n",
       "    No Information Rate : 0.8107          \n",
       "    P-Value [Acc > NIR] : 1               \n",
       "                                          \n",
       "                  Kappa : 0.1855          \n",
       "                                          \n",
       " Mcnemar's Test P-Value : NA              \n",
       "\n",
       "Statistics by Class:\n",
       "\n",
       "                     Class: auc_agg_glm Class: auc_agg_rf Class: auc_seg_glm\n",
       "Sensitivity                     0.18182           0.00000            0.44000\n",
       "Specificity                     0.89535           0.92780            0.88627\n",
       "Pos Pred Value                  0.12903           0.00000            0.27500\n",
       "Neg Pred Value                  0.92771           0.98846            0.94167\n",
       "Prevalence                      0.07857           0.01071            0.08929\n",
       "Detection Rate                  0.01429           0.00000            0.03929\n",
       "Detection Prevalence            0.11071           0.07143            0.14286\n",
       "Balanced Accuracy               0.53858           0.46390            0.66314\n",
       "                     Class: auc_seg_rf Class: auc_seg2_glm Class: auc_seg2_rf\n",
       "Sensitivity                   0.000000              0.5815           1.000000\n",
       "Specificity                   0.896057              0.8679           0.931655\n",
       "Pos Pred Value                0.000000              0.9496           0.095238\n",
       "Neg Pred Value                0.996016              0.3262           1.000000\n",
       "Prevalence                    0.003571              0.8107           0.007143\n",
       "Detection Rate                0.000000              0.4714           0.007143\n",
       "Detection Prevalence          0.103571              0.4964           0.075000\n",
       "Balanced Accuracy             0.448029              0.7247           0.965827"
      ]
     },
     "metadata": {},
     "output_type": "display_data"
    }
   ],
   "source": [
    "confusionMatrix(data=factor(test$auc_win_02,\n",
    "                           levels=levels(factor(pred$auc_win_02))), reference=factor(pred$auc_win_02))"
   ]
  },
  {
   "cell_type": "code",
   "execution_count": 249,
   "metadata": {},
   "outputs": [
    {
     "data": {
      "text/html": [
       "<table>\n",
       "<caption>A data.frame: 15 × 1</caption>\n",
       "<thead>\n",
       "\t<tr><th></th><th scope=col>importance(model)</th></tr>\n",
       "\t<tr><th></th><th scope=col>&lt;dbl&gt;</th></tr>\n",
       "</thead>\n",
       "<tbody>\n",
       "\t<tr><th scope=row>sldlen_kurt</th><td>21.65150</td></tr>\n",
       "\t<tr><th scope=row>tld_rat</th><td>20.92759</td></tr>\n",
       "\t<tr><th scope=row>gibbs_kurt</th><td>20.71630</td></tr>\n",
       "\t<tr><th scope=row>ren_prp</th><td>17.95158</td></tr>\n",
       "\t<tr><th scope=row>gibbs_rng</th><td>17.45164</td></tr>\n",
       "\t<tr><th scope=row>sldlen_rng</th><td>13.66291</td></tr>\n",
       "\t<tr><th scope=row>sldlen_skew</th><td>13.56014</td></tr>\n",
       "\t<tr><th scope=row>regarpt_kurt</th><td>13.31759</td></tr>\n",
       "\t<tr><th scope=row>gibbs_std</th><td>11.64585</td></tr>\n",
       "\t<tr><th scope=row>gibbs_skew</th><td>10.93235</td></tr>\n",
       "\t<tr><th scope=row>country_maj</th><td>10.88235</td></tr>\n",
       "\t<tr><th scope=row>pdcnt_kurt</th><td>10.63012</td></tr>\n",
       "\t<tr><th scope=row>gibbs_min</th><td>10.58028</td></tr>\n",
       "\t<tr><th scope=row>daydom_skew</th><td>10.56027</td></tr>\n",
       "\t<tr><th scope=row>sldlen_std</th><td>10.13176</td></tr>\n",
       "</tbody>\n",
       "</table>\n"
      ],
      "text/latex": [
       "A data.frame: 15 × 1\n",
       "\\begin{tabular}{r|l}\n",
       "  & importance(model)\\\\\n",
       "  & <dbl>\\\\\n",
       "\\hline\n",
       "\tsldlen\\_kurt & 21.65150\\\\\n",
       "\ttld\\_rat & 20.92759\\\\\n",
       "\tgibbs\\_kurt & 20.71630\\\\\n",
       "\tren\\_prp & 17.95158\\\\\n",
       "\tgibbs\\_rng & 17.45164\\\\\n",
       "\tsldlen\\_rng & 13.66291\\\\\n",
       "\tsldlen\\_skew & 13.56014\\\\\n",
       "\tregarpt\\_kurt & 13.31759\\\\\n",
       "\tgibbs\\_std & 11.64585\\\\\n",
       "\tgibbs\\_skew & 10.93235\\\\\n",
       "\tcountry\\_maj & 10.88235\\\\\n",
       "\tpdcnt\\_kurt & 10.63012\\\\\n",
       "\tgibbs\\_min & 10.58028\\\\\n",
       "\tdaydom\\_skew & 10.56027\\\\\n",
       "\tsldlen\\_std & 10.13176\\\\\n",
       "\\end{tabular}\n"
      ],
      "text/markdown": [
       "\n",
       "A data.frame: 15 × 1\n",
       "\n",
       "| <!--/--> | importance(model) &lt;dbl&gt; |\n",
       "|---|---|\n",
       "| sldlen_kurt | 21.65150 |\n",
       "| tld_rat | 20.92759 |\n",
       "| gibbs_kurt | 20.71630 |\n",
       "| ren_prp | 17.95158 |\n",
       "| gibbs_rng | 17.45164 |\n",
       "| sldlen_rng | 13.66291 |\n",
       "| sldlen_skew | 13.56014 |\n",
       "| regarpt_kurt | 13.31759 |\n",
       "| gibbs_std | 11.64585 |\n",
       "| gibbs_skew | 10.93235 |\n",
       "| country_maj | 10.88235 |\n",
       "| pdcnt_kurt | 10.63012 |\n",
       "| gibbs_min | 10.58028 |\n",
       "| daydom_skew | 10.56027 |\n",
       "| sldlen_std | 10.13176 |\n",
       "\n"
      ],
      "text/plain": [
       "             importance(model)\n",
       "sldlen_kurt  21.65150         \n",
       "tld_rat      20.92759         \n",
       "gibbs_kurt   20.71630         \n",
       "ren_prp      17.95158         \n",
       "gibbs_rng    17.45164         \n",
       "sldlen_rng   13.66291         \n",
       "sldlen_skew  13.56014         \n",
       "regarpt_kurt 13.31759         \n",
       "gibbs_std    11.64585         \n",
       "gibbs_skew   10.93235         \n",
       "country_maj  10.88235         \n",
       "pdcnt_kurt   10.63012         \n",
       "gibbs_min    10.58028         \n",
       "daydom_skew  10.56027         \n",
       "sldlen_std   10.13176         "
      ]
     },
     "metadata": {},
     "output_type": "display_data"
    }
   ],
   "source": [
    "as.data.frame(importance(model)) %>% arrange(desc(importance(model))) %>% head(15)"
   ]
  },
  {
   "cell_type": "markdown",
   "metadata": {},
   "source": [
    "## RF multiclass l10"
   ]
  },
  {
   "cell_type": "code",
   "execution_count": 251,
   "metadata": {},
   "outputs": [],
   "source": [
    "library(ranger) "
   ]
  },
  {
   "cell_type": "code",
   "execution_count": 252,
   "metadata": {},
   "outputs": [],
   "source": [
    "model <- ranger(formula         = l10_win_02 ~ ., \n",
    "                data            = subset(train, select = -c(auc_win_02) ), \n",
    "                importance = 'impurity', \n",
    "                num.trees       = 500,\n",
    "                probability = TRUE,\n",
    "                replace = FALSE,\n",
    "                sample.fraction = .8,\n",
    "                seed            = 123,\n",
    "                respect.unordered.factors=TRUE)"
   ]
  },
  {
   "cell_type": "code",
   "execution_count": 253,
   "metadata": {},
   "outputs": [],
   "source": [
    "pred <- predict(model, \n",
    "                data = test,\n",
    "                type=\"response\")$predictions"
   ]
  },
  {
   "cell_type": "code",
   "execution_count": 254,
   "metadata": {},
   "outputs": [
    {
     "data": {
      "text/html": [
       "<table>\n",
       "<caption>A matrix: 6 × 7 of type dbl</caption>\n",
       "<thead>\n",
       "\t<tr><th scope=col>l10_agg_glm</th><th scope=col>l10_agg_rf</th><th scope=col>l10_seg_glm</th><th scope=col>l10_seg_rf</th><th scope=col>l10_seg2_glm</th><th scope=col>l10_seg2_glm_fb</th><th scope=col>l10_seg2_rf</th></tr>\n",
       "</thead>\n",
       "<tbody>\n",
       "\t<tr><td>0.01697302</td><td>0.000000000</td><td>0.08137540</td><td>0.014548413</td><td>0.8742643</td><td>0</td><td>0.01283889</td></tr>\n",
       "\t<tr><td>0.03432302</td><td>0.005841270</td><td>0.09780635</td><td>0.057962698</td><td>0.7793500</td><td>0</td><td>0.02471667</td></tr>\n",
       "\t<tr><td>0.22068016</td><td>0.192984921</td><td>0.11858889</td><td>0.037821429</td><td>0.3608683</td><td>0</td><td>0.06905635</td></tr>\n",
       "\t<tr><td>0.09185397</td><td>0.027107143</td><td>0.08981032</td><td>0.038101587</td><td>0.6915683</td><td>0</td><td>0.06155873</td></tr>\n",
       "\t<tr><td>0.04423492</td><td>0.004099206</td><td>0.13214524</td><td>0.024954762</td><td>0.7641968</td><td>0</td><td>0.03036905</td></tr>\n",
       "\t<tr><td>0.07971032</td><td>0.000000000</td><td>0.03423333</td><td>0.007903175</td><td>0.7760365</td><td>0</td><td>0.10211667</td></tr>\n",
       "</tbody>\n",
       "</table>\n"
      ],
      "text/latex": [
       "A matrix: 6 × 7 of type dbl\n",
       "\\begin{tabular}{lllllll}\n",
       " l10\\_agg\\_glm & l10\\_agg\\_rf & l10\\_seg\\_glm & l10\\_seg\\_rf & l10\\_seg2\\_glm & l10\\_seg2\\_glm\\_fb & l10\\_seg2\\_rf\\\\\n",
       "\\hline\n",
       "\t 0.01697302 & 0.000000000 & 0.08137540 & 0.014548413 & 0.8742643 & 0 & 0.01283889\\\\\n",
       "\t 0.03432302 & 0.005841270 & 0.09780635 & 0.057962698 & 0.7793500 & 0 & 0.02471667\\\\\n",
       "\t 0.22068016 & 0.192984921 & 0.11858889 & 0.037821429 & 0.3608683 & 0 & 0.06905635\\\\\n",
       "\t 0.09185397 & 0.027107143 & 0.08981032 & 0.038101587 & 0.6915683 & 0 & 0.06155873\\\\\n",
       "\t 0.04423492 & 0.004099206 & 0.13214524 & 0.024954762 & 0.7641968 & 0 & 0.03036905\\\\\n",
       "\t 0.07971032 & 0.000000000 & 0.03423333 & 0.007903175 & 0.7760365 & 0 & 0.10211667\\\\\n",
       "\\end{tabular}\n"
      ],
      "text/markdown": [
       "\n",
       "A matrix: 6 × 7 of type dbl\n",
       "\n",
       "| l10_agg_glm | l10_agg_rf | l10_seg_glm | l10_seg_rf | l10_seg2_glm | l10_seg2_glm_fb | l10_seg2_rf |\n",
       "|---|---|---|---|---|---|---|\n",
       "| 0.01697302 | 0.000000000 | 0.08137540 | 0.014548413 | 0.8742643 | 0 | 0.01283889 |\n",
       "| 0.03432302 | 0.005841270 | 0.09780635 | 0.057962698 | 0.7793500 | 0 | 0.02471667 |\n",
       "| 0.22068016 | 0.192984921 | 0.11858889 | 0.037821429 | 0.3608683 | 0 | 0.06905635 |\n",
       "| 0.09185397 | 0.027107143 | 0.08981032 | 0.038101587 | 0.6915683 | 0 | 0.06155873 |\n",
       "| 0.04423492 | 0.004099206 | 0.13214524 | 0.024954762 | 0.7641968 | 0 | 0.03036905 |\n",
       "| 0.07971032 | 0.000000000 | 0.03423333 | 0.007903175 | 0.7760365 | 0 | 0.10211667 |\n",
       "\n"
      ],
      "text/plain": [
       "     l10_agg_glm l10_agg_rf  l10_seg_glm l10_seg_rf  l10_seg2_glm\n",
       "[1,] 0.01697302  0.000000000 0.08137540  0.014548413 0.8742643   \n",
       "[2,] 0.03432302  0.005841270 0.09780635  0.057962698 0.7793500   \n",
       "[3,] 0.22068016  0.192984921 0.11858889  0.037821429 0.3608683   \n",
       "[4,] 0.09185397  0.027107143 0.08981032  0.038101587 0.6915683   \n",
       "[5,] 0.04423492  0.004099206 0.13214524  0.024954762 0.7641968   \n",
       "[6,] 0.07971032  0.000000000 0.03423333  0.007903175 0.7760365   \n",
       "     l10_seg2_glm_fb l10_seg2_rf\n",
       "[1,] 0               0.01283889 \n",
       "[2,] 0               0.02471667 \n",
       "[3,] 0               0.06905635 \n",
       "[4,] 0               0.06155873 \n",
       "[5,] 0               0.03036905 \n",
       "[6,] 0               0.10211667 "
      ]
     },
     "metadata": {},
     "output_type": "display_data"
    }
   ],
   "source": [
    "head(pred)"
   ]
  },
  {
   "cell_type": "code",
   "execution_count": 255,
   "metadata": {},
   "outputs": [
    {
     "data": {
      "text/html": [
       "<table>\n",
       "<caption>A data.frame: 6 × 8</caption>\n",
       "<thead>\n",
       "\t<tr><th></th><th scope=col>l10_agg_glm</th><th scope=col>l10_agg_rf</th><th scope=col>l10_seg_glm</th><th scope=col>l10_seg_rf</th><th scope=col>l10_seg2_glm</th><th scope=col>l10_seg2_glm_fb</th><th scope=col>l10_seg2_rf</th><th scope=col>l10_win_02</th></tr>\n",
       "\t<tr><th></th><th scope=col>&lt;dbl&gt;</th><th scope=col>&lt;dbl&gt;</th><th scope=col>&lt;dbl&gt;</th><th scope=col>&lt;dbl&gt;</th><th scope=col>&lt;dbl&gt;</th><th scope=col>&lt;dbl&gt;</th><th scope=col>&lt;dbl&gt;</th><th scope=col>&lt;chr&gt;</th></tr>\n",
       "</thead>\n",
       "<tbody>\n",
       "\t<tr><th scope=row>1</th><td>0.01697302</td><td>0.000000000</td><td>0.08137540</td><td>0.014548413</td><td>0.8742643</td><td>0</td><td>0.01283889</td><td>l10_seg2_glm</td></tr>\n",
       "\t<tr><th scope=row>2</th><td>0.03432302</td><td>0.005841270</td><td>0.09780635</td><td>0.057962698</td><td>0.7793500</td><td>0</td><td>0.02471667</td><td>l10_seg2_glm</td></tr>\n",
       "\t<tr><th scope=row>3</th><td>0.22068016</td><td>0.192984921</td><td>0.11858889</td><td>0.037821429</td><td>0.3608683</td><td>0</td><td>0.06905635</td><td>l10_seg2_glm</td></tr>\n",
       "\t<tr><th scope=row>4</th><td>0.09185397</td><td>0.027107143</td><td>0.08981032</td><td>0.038101587</td><td>0.6915683</td><td>0</td><td>0.06155873</td><td>l10_seg2_glm</td></tr>\n",
       "\t<tr><th scope=row>5</th><td>0.04423492</td><td>0.004099206</td><td>0.13214524</td><td>0.024954762</td><td>0.7641968</td><td>0</td><td>0.03036905</td><td>l10_seg2_glm</td></tr>\n",
       "\t<tr><th scope=row>6</th><td>0.07971032</td><td>0.000000000</td><td>0.03423333</td><td>0.007903175</td><td>0.7760365</td><td>0</td><td>0.10211667</td><td>l10_seg2_glm</td></tr>\n",
       "</tbody>\n",
       "</table>\n"
      ],
      "text/latex": [
       "A data.frame: 6 × 8\n",
       "\\begin{tabular}{r|llllllll}\n",
       "  & l10\\_agg\\_glm & l10\\_agg\\_rf & l10\\_seg\\_glm & l10\\_seg\\_rf & l10\\_seg2\\_glm & l10\\_seg2\\_glm\\_fb & l10\\_seg2\\_rf & l10\\_win\\_02\\\\\n",
       "  & <dbl> & <dbl> & <dbl> & <dbl> & <dbl> & <dbl> & <dbl> & <chr>\\\\\n",
       "\\hline\n",
       "\t1 & 0.01697302 & 0.000000000 & 0.08137540 & 0.014548413 & 0.8742643 & 0 & 0.01283889 & l10\\_seg2\\_glm\\\\\n",
       "\t2 & 0.03432302 & 0.005841270 & 0.09780635 & 0.057962698 & 0.7793500 & 0 & 0.02471667 & l10\\_seg2\\_glm\\\\\n",
       "\t3 & 0.22068016 & 0.192984921 & 0.11858889 & 0.037821429 & 0.3608683 & 0 & 0.06905635 & l10\\_seg2\\_glm\\\\\n",
       "\t4 & 0.09185397 & 0.027107143 & 0.08981032 & 0.038101587 & 0.6915683 & 0 & 0.06155873 & l10\\_seg2\\_glm\\\\\n",
       "\t5 & 0.04423492 & 0.004099206 & 0.13214524 & 0.024954762 & 0.7641968 & 0 & 0.03036905 & l10\\_seg2\\_glm\\\\\n",
       "\t6 & 0.07971032 & 0.000000000 & 0.03423333 & 0.007903175 & 0.7760365 & 0 & 0.10211667 & l10\\_seg2\\_glm\\\\\n",
       "\\end{tabular}\n"
      ],
      "text/markdown": [
       "\n",
       "A data.frame: 6 × 8\n",
       "\n",
       "| <!--/--> | l10_agg_glm &lt;dbl&gt; | l10_agg_rf &lt;dbl&gt; | l10_seg_glm &lt;dbl&gt; | l10_seg_rf &lt;dbl&gt; | l10_seg2_glm &lt;dbl&gt; | l10_seg2_glm_fb &lt;dbl&gt; | l10_seg2_rf &lt;dbl&gt; | l10_win_02 &lt;chr&gt; |\n",
       "|---|---|---|---|---|---|---|---|---|\n",
       "| 1 | 0.01697302 | 0.000000000 | 0.08137540 | 0.014548413 | 0.8742643 | 0 | 0.01283889 | l10_seg2_glm |\n",
       "| 2 | 0.03432302 | 0.005841270 | 0.09780635 | 0.057962698 | 0.7793500 | 0 | 0.02471667 | l10_seg2_glm |\n",
       "| 3 | 0.22068016 | 0.192984921 | 0.11858889 | 0.037821429 | 0.3608683 | 0 | 0.06905635 | l10_seg2_glm |\n",
       "| 4 | 0.09185397 | 0.027107143 | 0.08981032 | 0.038101587 | 0.6915683 | 0 | 0.06155873 | l10_seg2_glm |\n",
       "| 5 | 0.04423492 | 0.004099206 | 0.13214524 | 0.024954762 | 0.7641968 | 0 | 0.03036905 | l10_seg2_glm |\n",
       "| 6 | 0.07971032 | 0.000000000 | 0.03423333 | 0.007903175 | 0.7760365 | 0 | 0.10211667 | l10_seg2_glm |\n",
       "\n"
      ],
      "text/plain": [
       "  l10_agg_glm l10_agg_rf  l10_seg_glm l10_seg_rf  l10_seg2_glm l10_seg2_glm_fb\n",
       "1 0.01697302  0.000000000 0.08137540  0.014548413 0.8742643    0              \n",
       "2 0.03432302  0.005841270 0.09780635  0.057962698 0.7793500    0              \n",
       "3 0.22068016  0.192984921 0.11858889  0.037821429 0.3608683    0              \n",
       "4 0.09185397  0.027107143 0.08981032  0.038101587 0.6915683    0              \n",
       "5 0.04423492  0.004099206 0.13214524  0.024954762 0.7641968    0              \n",
       "6 0.07971032  0.000000000 0.03423333  0.007903175 0.7760365    0              \n",
       "  l10_seg2_rf l10_win_02  \n",
       "1 0.01283889  l10_seg2_glm\n",
       "2 0.02471667  l10_seg2_glm\n",
       "3 0.06905635  l10_seg2_glm\n",
       "4 0.06155873  l10_seg2_glm\n",
       "5 0.03036905  l10_seg2_glm\n",
       "6 0.10211667  l10_seg2_glm"
      ]
     },
     "metadata": {},
     "output_type": "display_data"
    }
   ],
   "source": [
    "pred <- as.data.frame(pred)\n",
    "vars <- names(pred)\n",
    "pred <- pred %>%\n",
    "    mutate (l10_win_02=sapply(apply(.[,c(vars)], \n",
    "                          1, function(x) names(x)[which.max(x)]) , function(s) if (length(s) == 0) NA else paste(s, collapse = \" \")) \n",
    "            ) \n",
    "head(pred)"
   ]
  },
  {
   "cell_type": "code",
   "execution_count": 256,
   "metadata": {},
   "outputs": [
    {
     "data": {
      "text/plain": [
       "              \n",
       "               l10_agg_glm l10_seg_glm l10_seg2_glm l10_seg2_rf\n",
       "  l10_agg_glm            1           1           23           0\n",
       "  l10_agg_rf             0           0            7           0\n",
       "  l10_seg_glm            0           1           32           1\n",
       "  l10_seg_rf             0           2            9           0\n",
       "  l10_seg2_glm           1           4          176           2\n",
       "  l10_seg2_rf            0           0           21           0"
      ]
     },
     "metadata": {},
     "output_type": "display_data"
    }
   ],
   "source": [
    "xtab <- table(test$l10_win_02, pred$l10_win_02)\n",
    "xtab"
   ]
  },
  {
   "cell_type": "code",
   "execution_count": 257,
   "metadata": {},
   "outputs": [
    {
     "data": {
      "text/plain": [
       "Confusion Matrix and Statistics\n",
       "\n",
       "              Reference\n",
       "Prediction     l10_agg_glm l10_agg_rf l10_seg_glm l10_seg_rf l10_seg2_glm\n",
       "  l10_agg_glm            1          0           1          0           23\n",
       "  l10_agg_rf             0          0           0          0            7\n",
       "  l10_seg_glm            0          0           1          0           32\n",
       "  l10_seg_rf             0          0           2          0            9\n",
       "  l10_seg2_glm           1          0           4          0          176\n",
       "  l10_seg2_rf            0          0           0          0           21\n",
       "              Reference\n",
       "Prediction     l10_seg2_rf\n",
       "  l10_agg_glm            0\n",
       "  l10_agg_rf             0\n",
       "  l10_seg_glm            1\n",
       "  l10_seg_rf             0\n",
       "  l10_seg2_glm           2\n",
       "  l10_seg2_rf            0\n",
       "\n",
       "Overall Statistics\n",
       "                                          \n",
       "               Accuracy : 0.6335          \n",
       "                 95% CI : (0.5742, 0.6899)\n",
       "    No Information Rate : 0.9537          \n",
       "    P-Value [Acc > NIR] : 1               \n",
       "                                          \n",
       "                  Kappa : 0.0199          \n",
       "                                          \n",
       " Mcnemar's Test P-Value : NA              \n",
       "\n",
       "Statistics by Class:\n",
       "\n",
       "                     Class: l10_agg_glm Class: l10_agg_rf Class: l10_seg_glm\n",
       "Sensitivity                    0.500000                NA           0.125000\n",
       "Specificity                    0.913978           0.97509           0.879121\n",
       "Pos Pred Value                 0.040000                NA           0.029412\n",
       "Neg Pred Value                 0.996094                NA           0.971660\n",
       "Prevalence                     0.007117           0.00000           0.028470\n",
       "Detection Rate                 0.003559           0.00000           0.003559\n",
       "Detection Prevalence           0.088968           0.02491           0.120996\n",
       "Balanced Accuracy              0.706989                NA           0.502060\n",
       "                     Class: l10_seg_rf Class: l10_seg2_glm Class: l10_seg2_rf\n",
       "Sensitivity                         NA             0.65672            0.00000\n",
       "Specificity                    0.96085             0.46154            0.92446\n",
       "Pos Pred Value                      NA             0.96175            0.00000\n",
       "Neg Pred Value                      NA             0.06122            0.98846\n",
       "Prevalence                     0.00000             0.95374            0.01068\n",
       "Detection Rate                 0.00000             0.62633            0.00000\n",
       "Detection Prevalence           0.03915             0.65125            0.07473\n",
       "Balanced Accuracy                   NA             0.55913            0.46223"
      ]
     },
     "metadata": {},
     "output_type": "display_data"
    }
   ],
   "source": [
    "confusionMatrix(data=factor(test$l10_win_02), reference=factor(pred$l10_win_02, levels=levels(factor(test$l10_win_02))))"
   ]
  },
  {
   "cell_type": "code",
   "execution_count": 80,
   "metadata": {},
   "outputs": [
    {
     "data": {
      "text/plain": [
       "\n",
       " l10_agg_glm   l10_agg_rf  l10_seg_glm   l10_seg_rf l10_seg2_glm  l10_seg2_rf \n",
       "          20           10           33            3          128           18 "
      ]
     },
     "metadata": {},
     "output_type": "display_data"
    }
   ],
   "source": [
    "table(test_imp$l10_win)"
   ]
  },
  {
   "cell_type": "code",
   "execution_count": 81,
   "metadata": {},
   "outputs": [
    {
     "data": {
      "text/plain": [
       "\n",
       " l10_agg_glm   l10_agg_rf  l10_seg_glm l10_seg2_glm  l10_seg2_rf \n",
       "           1            3            6          200            2 "
      ]
     },
     "metadata": {},
     "output_type": "display_data"
    }
   ],
   "source": [
    "table(pred$win)"
   ]
  },
  {
   "cell_type": "code",
   "execution_count": 260,
   "metadata": {},
   "outputs": [
    {
     "data": {
      "text/html": [
       "<table>\n",
       "<caption>A data.frame: 15 × 1</caption>\n",
       "<thead>\n",
       "\t<tr><th></th><th scope=col>importance(model)</th></tr>\n",
       "\t<tr><th></th><th scope=col>&lt;dbl&gt;</th></tr>\n",
       "</thead>\n",
       "<tbody>\n",
       "\t<tr><th scope=row>ren_prp</th><td>15.406023</td></tr>\n",
       "\t<tr><th scope=row>tld_rat</th><td>14.904183</td></tr>\n",
       "\t<tr><th scope=row>gibbs_rng</th><td>13.959882</td></tr>\n",
       "\t<tr><th scope=row>gibbs_kurt</th><td>12.568853</td></tr>\n",
       "\t<tr><th scope=row>sldlen_kurt</th><td>12.559483</td></tr>\n",
       "\t<tr><th scope=row>country_maj</th><td>11.580764</td></tr>\n",
       "\t<tr><th scope=row>sldlen_skew</th><td> 9.963272</td></tr>\n",
       "\t<tr><th scope=row>regarpt_skew</th><td> 9.643958</td></tr>\n",
       "\t<tr><th scope=row>regarpt_kurt</th><td> 8.808535</td></tr>\n",
       "\t<tr><th scope=row>gibbs_skew</th><td> 8.470457</td></tr>\n",
       "\t<tr><th scope=row>gibbs_std</th><td> 8.376095</td></tr>\n",
       "\t<tr><th scope=row>pdcnt_skew</th><td> 8.285774</td></tr>\n",
       "\t<tr><th scope=row>sldlen_std</th><td> 8.271977</td></tr>\n",
       "\t<tr><th scope=row>gibbs_max</th><td> 8.143229</td></tr>\n",
       "\t<tr><th scope=row>sldlen_rng</th><td> 8.044703</td></tr>\n",
       "</tbody>\n",
       "</table>\n"
      ],
      "text/latex": [
       "A data.frame: 15 × 1\n",
       "\\begin{tabular}{r|l}\n",
       "  & importance(model)\\\\\n",
       "  & <dbl>\\\\\n",
       "\\hline\n",
       "\tren\\_prp & 15.406023\\\\\n",
       "\ttld\\_rat & 14.904183\\\\\n",
       "\tgibbs\\_rng & 13.959882\\\\\n",
       "\tgibbs\\_kurt & 12.568853\\\\\n",
       "\tsldlen\\_kurt & 12.559483\\\\\n",
       "\tcountry\\_maj & 11.580764\\\\\n",
       "\tsldlen\\_skew &  9.963272\\\\\n",
       "\tregarpt\\_skew &  9.643958\\\\\n",
       "\tregarpt\\_kurt &  8.808535\\\\\n",
       "\tgibbs\\_skew &  8.470457\\\\\n",
       "\tgibbs\\_std &  8.376095\\\\\n",
       "\tpdcnt\\_skew &  8.285774\\\\\n",
       "\tsldlen\\_std &  8.271977\\\\\n",
       "\tgibbs\\_max &  8.143229\\\\\n",
       "\tsldlen\\_rng &  8.044703\\\\\n",
       "\\end{tabular}\n"
      ],
      "text/markdown": [
       "\n",
       "A data.frame: 15 × 1\n",
       "\n",
       "| <!--/--> | importance(model) &lt;dbl&gt; |\n",
       "|---|---|\n",
       "| ren_prp | 15.406023 |\n",
       "| tld_rat | 14.904183 |\n",
       "| gibbs_rng | 13.959882 |\n",
       "| gibbs_kurt | 12.568853 |\n",
       "| sldlen_kurt | 12.559483 |\n",
       "| country_maj | 11.580764 |\n",
       "| sldlen_skew |  9.963272 |\n",
       "| regarpt_skew |  9.643958 |\n",
       "| regarpt_kurt |  8.808535 |\n",
       "| gibbs_skew |  8.470457 |\n",
       "| gibbs_std |  8.376095 |\n",
       "| pdcnt_skew |  8.285774 |\n",
       "| sldlen_std |  8.271977 |\n",
       "| gibbs_max |  8.143229 |\n",
       "| sldlen_rng |  8.044703 |\n",
       "\n"
      ],
      "text/plain": [
       "             importance(model)\n",
       "ren_prp      15.406023        \n",
       "tld_rat      14.904183        \n",
       "gibbs_rng    13.959882        \n",
       "gibbs_kurt   12.568853        \n",
       "sldlen_kurt  12.559483        \n",
       "country_maj  11.580764        \n",
       "sldlen_skew   9.963272        \n",
       "regarpt_skew  9.643958        \n",
       "regarpt_kurt  8.808535        \n",
       "gibbs_skew    8.470457        \n",
       "gibbs_std     8.376095        \n",
       "pdcnt_skew    8.285774        \n",
       "sldlen_std    8.271977        \n",
       "gibbs_max     8.143229        \n",
       "sldlen_rng    8.044703        "
      ]
     },
     "metadata": {},
     "output_type": "display_data"
    }
   ],
   "source": [
    "as.data.frame(importance(model)) %>% arrange(desc(importance(model))) %>% head(15)"
   ]
  },
  {
   "cell_type": "markdown",
   "metadata": {},
   "source": [
    "# RF BINARY w/ auc_win_01"
   ]
  },
  {
   "cell_type": "markdown",
   "metadata": {},
   "source": [
    "## Define train and test"
   ]
  },
  {
   "cell_type": "code",
   "execution_count": 261,
   "metadata": {},
   "outputs": [
    {
     "data": {
      "text/html": [
       "<table>\n",
       "<caption>A data.frame: 6 × 76</caption>\n",
       "<thead>\n",
       "\t<tr><th></th><th scope=col>tld_registrar_index</th><th scope=col>geo_maj</th><th scope=col>geo_cnt</th><th scope=col>n</th><th scope=col>ren_prp</th><th scope=col>tld_cnt</th><th scope=col>tld_rat</th><th scope=col>daydom_min</th><th scope=col>daydom_max</th><th scope=col>daydom_mean</th><th scope=col>daydom_rng</th><th scope=col>daydom_std</th><th scope=col>daydom_skew</th><th scope=col>daydom_kurt</th><th scope=col>sldlen_min</th><th scope=col>sldlen_max</th><th scope=col>sldlen_mean</th><th scope=col>sldlen_rng</th><th scope=col>sldlen_std</th><th scope=col>sldlen_skew</th><th scope=col>sldlen_kurt</th><th scope=col>gibbs_min</th><th scope=col>gibbs_max</th><th scope=col>gibbs_mean</th><th scope=col>gibbs_rng</th><th scope=col>⋯</th><th scope=col>l10_agg_rf</th><th scope=col>auc_seg2_glm</th><th scope=col>auc_seg_glm</th><th scope=col>auc_agg_glm</th><th scope=col>auc_seg2_rf</th><th scope=col>auc_seg_rf</th><th scope=col>auc_agg_rf</th><th scope=col>l10_seg2_glm_fb</th><th scope=col>l10_seg_glm_fb</th><th scope=col>l10_agg_glm_fb</th><th scope=col>l10_seg2_rf_fb</th><th scope=col>l10_seg_rf_fb</th><th scope=col>l10_agg_rf_fb</th><th scope=col>auc_seg2_glm_fb</th><th scope=col>auc_seg_glm_fb</th><th scope=col>auc_agg_glm_fb</th><th scope=col>auc_seg2_rf_fb</th><th scope=col>auc_seg_rf_fb</th><th scope=col>auc_agg_rf_fb</th><th scope=col>auc_win_01</th><th scope=col>l10_win_01</th><th scope=col>auc_win_02</th><th scope=col>l10_win_02</th><th scope=col>auc_win_03</th><th scope=col>l10_win_03</th></tr>\n",
       "\t<tr><th></th><th scope=col>&lt;chr&gt;</th><th scope=col>&lt;fct&gt;</th><th scope=col>&lt;int&gt;</th><th scope=col>&lt;int&gt;</th><th scope=col>&lt;dbl&gt;</th><th scope=col>&lt;int&gt;</th><th scope=col>&lt;dbl&gt;</th><th scope=col>&lt;int&gt;</th><th scope=col>&lt;int&gt;</th><th scope=col>&lt;dbl&gt;</th><th scope=col>&lt;int&gt;</th><th scope=col>&lt;dbl&gt;</th><th scope=col>&lt;dbl&gt;</th><th scope=col>&lt;dbl&gt;</th><th scope=col>&lt;int&gt;</th><th scope=col>&lt;int&gt;</th><th scope=col>&lt;dbl&gt;</th><th scope=col>&lt;int&gt;</th><th scope=col>&lt;dbl&gt;</th><th scope=col>&lt;dbl&gt;</th><th scope=col>&lt;dbl&gt;</th><th scope=col>&lt;dbl&gt;</th><th scope=col>&lt;dbl&gt;</th><th scope=col>&lt;dbl&gt;</th><th scope=col>&lt;dbl&gt;</th><th scope=col>⋯</th><th scope=col>&lt;list&gt;</th><th scope=col>&lt;list&gt;</th><th scope=col>&lt;list&gt;</th><th scope=col>&lt;list&gt;</th><th scope=col>&lt;list&gt;</th><th scope=col>&lt;list&gt;</th><th scope=col>&lt;list&gt;</th><th scope=col>&lt;list&gt;</th><th scope=col>&lt;list&gt;</th><th scope=col>&lt;list&gt;</th><th scope=col>&lt;list&gt;</th><th scope=col>&lt;list&gt;</th><th scope=col>&lt;list&gt;</th><th scope=col>&lt;list&gt;</th><th scope=col>&lt;list&gt;</th><th scope=col>&lt;list&gt;</th><th scope=col>&lt;list&gt;</th><th scope=col>&lt;list&gt;</th><th scope=col>&lt;list&gt;</th><th scope=col>&lt;chr&gt;</th><th scope=col>&lt;chr&gt;</th><th scope=col>&lt;chr&gt;</th><th scope=col>&lt;chr&gt;</th><th scope=col>&lt;chr&gt;</th><th scope=col>&lt;chr&gt;</th></tr>\n",
       "</thead>\n",
       "<tbody>\n",
       "\t<tr><th scope=row>1</th><td><span style=white-space:pre-wrap>fun1&amp;1 internet    </span></td><td><span style=white-space:pre-wrap>EU   </span></td><td>1</td><td><span style=white-space:pre-wrap>    2</span></td><td>1.0000000</td><td>1</td><td>5.000000e-01</td><td>1</td><td><span style=white-space:pre-wrap>  1</span></td><td><span style=white-space:pre-wrap>  1.000000</span></td><td><span style=white-space:pre-wrap>  0</span></td><td><span style=white-space:pre-wrap>  0.000000</span></td><td><span style=white-space:pre-wrap>       NaN</span></td><td><span style=white-space:pre-wrap>      NaN</span></td><td>6</td><td> 9</td><td>7.500000</td><td> 3</td><td>2.121320</td><td>0.0000000</td><td>-2.7500000</td><td>2.23</td><td><span style=white-space:pre-wrap>  3.45</span></td><td>2.840000</td><td><span style=white-space:pre-wrap>  1.22</span></td><td>⋯</td><td>5</td><td>0.6</td><td>0.6</td><td>0.6</td><td>0.6</td><td>0.6</td><td>0.6</td><td>5</td><td>5</td><td>5</td><td>5</td><td>5</td><td>5</td><td>0.6</td><td>0.6</td><td>0.6</td><td>0.6</td><td>0.6</td><td>0.6</td><td>auc_seg2_glm_fb</td><td>l10_seg2_glm_fb</td><td>auc_seg2_glm</td><td>l10_seg2_glm</td><td>auc_seg2_glm</td><td>l10_seg2_glm</td></tr>\n",
       "\t<tr><th scope=row>2</th><td>fun10dencehispahard</td><td>EU   </td><td>1</td><td>    2</td><td>0.0000000</td><td>1</td><td>5.000000e-01</td><td>1</td><td>  1</td><td>  1.000000</td><td>  0</td><td>  0.000000</td><td>       NaN</td><td>      NaN</td><td>6</td><td> 8</td><td>7.000000</td><td> 2</td><td>1.414214</td><td>0.0000000</td><td>-2.7500000</td><td>3.13</td><td>  8.62</td><td>5.875000</td><td>  5.49</td><td>⋯</td><td>NaN</td><td>NaN</td><td>NaN</td><td>NaN</td><td>NaN</td><td>NaN</td><td>NaN</td><td>NaN</td><td>NaN</td><td>NaN</td><td>NaN</td><td>NaN</td><td>NaN</td><td>NaN</td><td>NaN</td><td>NaN</td><td>NaN</td><td>NaN</td><td>NaN</td><td>NA             </td><td>NA             </td><td>NA          </td><td>NA          </td><td>NA          </td><td>NA          </td></tr>\n",
       "\t<tr><th scope=row>3</th><td>fun1api            </td><td>EU   </td><td>1</td><td>    2</td><td>0.5000000</td><td>1</td><td>5.000000e-01</td><td>1</td><td>  1</td><td>  1.000000</td><td>  0</td><td>  0.000000</td><td>       NaN</td><td>      NaN</td><td>7</td><td> 7</td><td>7.000000</td><td> 0</td><td>0.000000</td><td>      NaN</td><td>       NaN</td><td>4.51</td><td>  6.09</td><td>5.300000</td><td>  1.58</td><td>⋯</td><td>0</td><td>0.25</td><td>0.25</td><td>0.25</td><td>0.95</td><td>0.95</td><td>0.25</td><td>0</td><td>0</td><td>0</td><td>10</td><td>10</td><td>0</td><td>0.25</td><td>0.25</td><td>0.25</td><td>0.95</td><td>0.95</td><td>0.25</td><td>auc_seg2_glm_fb</td><td>l10_seg2_glm_fb</td><td>auc_seg2_rf </td><td>l10_seg2_rf </td><td>auc_seg2_glm</td><td>l10_seg2_glm</td></tr>\n",
       "\t<tr><th scope=row>4</th><td>funactive 24       </td><td>EU   </td><td>1</td><td>   22</td><td>0.2272727</td><td>1</td><td>4.545455e-02</td><td>1</td><td>  3</td><td>  2.090909</td><td>  2</td><td>  1.019294</td><td>-0.1702685</td><td>-2.058471</td><td>4</td><td>14</td><td>7.363636</td><td>10</td><td>2.498484</td><td>0.8100072</td><td> 0.4123014</td><td>0.59</td><td>100.00</td><td>9.425000</td><td> 99.41</td><td>⋯</td><td>2</td><td>0.45</td><td>0.35</td><td>0.49</td><td>0.57</td><td>0.59</td><td>0.63</td><td>0</td><td>0</td><td>0</td><td>2</td><td>2</td><td>2</td><td>0.45</td><td>0.35</td><td>0.49</td><td>0.57</td><td>0.59</td><td>0.63</td><td>auc_agg_rf_fb  </td><td>l10_agg_rf_fb  </td><td>auc_agg_rf  </td><td>l10_seg2_rf </td><td>auc_seg2_glm</td><td>l10_seg2_glm</td></tr>\n",
       "\t<tr><th scope=row>5</th><td>funalibaba         </td><td>China</td><td>1</td><td>18208</td><td>0.0118080</td><td>1</td><td>5.492091e-05</td><td>1</td><td>705</td><td>219.892025</td><td>704</td><td>156.107008</td><td> 1.5055591</td><td> 2.301106</td><td>3</td><td>38</td><td>6.956832</td><td>35</td><td>3.311960</td><td>2.9556282</td><td>13.5354533</td><td>0.00</td><td>100.00</td><td>6.320069</td><td>100.00</td><td>⋯</td><td>6.186047</td><td>0.8262791</td><td>0.8425581</td><td>0.8513953</td><td>0.8769767</td><td>0.877907</td><td>0.8793023</td><td>4.883721</td><td>5.302326</td><td>5.023256</td><td>5.813953</td><td>6</td><td>6.186047</td><td>0.8262791</td><td>0.8425581</td><td>0.8513953</td><td>0.8769767</td><td>0.877907</td><td>0.8793023</td><td>auc_agg_rf_fb  </td><td>l10_agg_rf_fb  </td><td>auc_agg_rf  </td><td>l10_agg_rf  </td><td>auc_seg2_glm</td><td>l10_seg2_glm</td></tr>\n",
       "\t<tr><th scope=row>6</th><td>funalibaba sg      </td><td>China</td><td>1</td><td>   16</td><td>0.0625000</td><td>1</td><td>6.250000e-02</td><td>1</td><td>  1</td><td>  1.000000</td><td>  0</td><td>  0.000000</td><td>       NaN</td><td>      NaN</td><td>4</td><td>13</td><td>7.375000</td><td> 9</td><td>2.604483</td><td>0.3561975</td><td>-0.8500916</td><td>0.24</td><td> 13.58</td><td>4.647500</td><td> 13.34</td><td>⋯</td><td>10</td><td>0.05</td><td>0.05</td><td>0.95</td><td>0.85</td><td>0.55</td><td>0.95</td><td>0</td><td>0</td><td>10</td><td>0</td><td>0</td><td>10</td><td>0.05</td><td>0.05</td><td>0.95</td><td>0.85</td><td>0.55</td><td>0.95</td><td>auc_agg_rf_fb  </td><td>l10_agg_rf_fb  </td><td>auc_agg_glm </td><td>l10_agg_glm </td><td>auc_seg2_glm</td><td>l10_seg2_glm</td></tr>\n",
       "</tbody>\n",
       "</table>\n"
      ],
      "text/latex": [
       "A data.frame: 6 × 76\n",
       "\\begin{tabular}{r|lllllllllllllllllllllllllllllllllllllllllllllllllll}\n",
       "  & tld\\_registrar\\_index & geo\\_maj & geo\\_cnt & n & ren\\_prp & tld\\_cnt & tld\\_rat & daydom\\_min & daydom\\_max & daydom\\_mean & daydom\\_rng & daydom\\_std & daydom\\_skew & daydom\\_kurt & sldlen\\_min & sldlen\\_max & sldlen\\_mean & sldlen\\_rng & sldlen\\_std & sldlen\\_skew & sldlen\\_kurt & gibbs\\_min & gibbs\\_max & gibbs\\_mean & gibbs\\_rng & ⋯ & l10\\_agg\\_rf & auc\\_seg2\\_glm & auc\\_seg\\_glm & auc\\_agg\\_glm & auc\\_seg2\\_rf & auc\\_seg\\_rf & auc\\_agg\\_rf & l10\\_seg2\\_glm\\_fb & l10\\_seg\\_glm\\_fb & l10\\_agg\\_glm\\_fb & l10\\_seg2\\_rf\\_fb & l10\\_seg\\_rf\\_fb & l10\\_agg\\_rf\\_fb & auc\\_seg2\\_glm\\_fb & auc\\_seg\\_glm\\_fb & auc\\_agg\\_glm\\_fb & auc\\_seg2\\_rf\\_fb & auc\\_seg\\_rf\\_fb & auc\\_agg\\_rf\\_fb & auc\\_win\\_01 & l10\\_win\\_01 & auc\\_win\\_02 & l10\\_win\\_02 & auc\\_win\\_03 & l10\\_win\\_03\\\\\n",
       "  & <chr> & <fct> & <int> & <int> & <dbl> & <int> & <dbl> & <int> & <int> & <dbl> & <int> & <dbl> & <dbl> & <dbl> & <int> & <int> & <dbl> & <int> & <dbl> & <dbl> & <dbl> & <dbl> & <dbl> & <dbl> & <dbl> & ⋯ & <list> & <list> & <list> & <list> & <list> & <list> & <list> & <list> & <list> & <list> & <list> & <list> & <list> & <list> & <list> & <list> & <list> & <list> & <list> & <chr> & <chr> & <chr> & <chr> & <chr> & <chr>\\\\\n",
       "\\hline\n",
       "\t1 & fun1\\&1 internet     & EU    & 1 &     2 & 1.0000000 & 1 & 5.000000e-01 & 1 &   1 &   1.000000 &   0 &   0.000000 &        NaN &       NaN & 6 &  9 & 7.500000 &  3 & 2.121320 & 0.0000000 & -2.7500000 & 2.23 &   3.45 & 2.840000 &   1.22 & ⋯ & 5 & 0.6 & 0.6 & 0.6 & 0.6 & 0.6 & 0.6 & 5 & 5 & 5 & 5 & 5 & 5 & 0.6 & 0.6 & 0.6 & 0.6 & 0.6 & 0.6 & auc\\_seg2\\_glm\\_fb & l10\\_seg2\\_glm\\_fb & auc\\_seg2\\_glm & l10\\_seg2\\_glm & auc\\_seg2\\_glm & l10\\_seg2\\_glm\\\\\n",
       "\t2 & fun10dencehispahard & EU    & 1 &     2 & 0.0000000 & 1 & 5.000000e-01 & 1 &   1 &   1.000000 &   0 &   0.000000 &        NaN &       NaN & 6 &  8 & 7.000000 &  2 & 1.414214 & 0.0000000 & -2.7500000 & 3.13 &   8.62 & 5.875000 &   5.49 & ⋯ & NaN & NaN & NaN & NaN & NaN & NaN & NaN & NaN & NaN & NaN & NaN & NaN & NaN & NaN & NaN & NaN & NaN & NaN & NaN & NA              & NA              & NA           & NA           & NA           & NA          \\\\\n",
       "\t3 & fun1api             & EU    & 1 &     2 & 0.5000000 & 1 & 5.000000e-01 & 1 &   1 &   1.000000 &   0 &   0.000000 &        NaN &       NaN & 7 &  7 & 7.000000 &  0 & 0.000000 &       NaN &        NaN & 4.51 &   6.09 & 5.300000 &   1.58 & ⋯ & 0 & 0.25 & 0.25 & 0.25 & 0.95 & 0.95 & 0.25 & 0 & 0 & 0 & 10 & 10 & 0 & 0.25 & 0.25 & 0.25 & 0.95 & 0.95 & 0.25 & auc\\_seg2\\_glm\\_fb & l10\\_seg2\\_glm\\_fb & auc\\_seg2\\_rf  & l10\\_seg2\\_rf  & auc\\_seg2\\_glm & l10\\_seg2\\_glm\\\\\n",
       "\t4 & funactive 24        & EU    & 1 &    22 & 0.2272727 & 1 & 4.545455e-02 & 1 &   3 &   2.090909 &   2 &   1.019294 & -0.1702685 & -2.058471 & 4 & 14 & 7.363636 & 10 & 2.498484 & 0.8100072 &  0.4123014 & 0.59 & 100.00 & 9.425000 &  99.41 & ⋯ & 2 & 0.45 & 0.35 & 0.49 & 0.57 & 0.59 & 0.63 & 0 & 0 & 0 & 2 & 2 & 2 & 0.45 & 0.35 & 0.49 & 0.57 & 0.59 & 0.63 & auc\\_agg\\_rf\\_fb   & l10\\_agg\\_rf\\_fb   & auc\\_agg\\_rf   & l10\\_seg2\\_rf  & auc\\_seg2\\_glm & l10\\_seg2\\_glm\\\\\n",
       "\t5 & funalibaba          & China & 1 & 18208 & 0.0118080 & 1 & 5.492091e-05 & 1 & 705 & 219.892025 & 704 & 156.107008 &  1.5055591 &  2.301106 & 3 & 38 & 6.956832 & 35 & 3.311960 & 2.9556282 & 13.5354533 & 0.00 & 100.00 & 6.320069 & 100.00 & ⋯ & 6.186047 & 0.8262791 & 0.8425581 & 0.8513953 & 0.8769767 & 0.877907 & 0.8793023 & 4.883721 & 5.302326 & 5.023256 & 5.813953 & 6 & 6.186047 & 0.8262791 & 0.8425581 & 0.8513953 & 0.8769767 & 0.877907 & 0.8793023 & auc\\_agg\\_rf\\_fb   & l10\\_agg\\_rf\\_fb   & auc\\_agg\\_rf   & l10\\_agg\\_rf   & auc\\_seg2\\_glm & l10\\_seg2\\_glm\\\\\n",
       "\t6 & funalibaba sg       & China & 1 &    16 & 0.0625000 & 1 & 6.250000e-02 & 1 &   1 &   1.000000 &   0 &   0.000000 &        NaN &       NaN & 4 & 13 & 7.375000 &  9 & 2.604483 & 0.3561975 & -0.8500916 & 0.24 &  13.58 & 4.647500 &  13.34 & ⋯ & 10 & 0.05 & 0.05 & 0.95 & 0.85 & 0.55 & 0.95 & 0 & 0 & 10 & 0 & 0 & 10 & 0.05 & 0.05 & 0.95 & 0.85 & 0.55 & 0.95 & auc\\_agg\\_rf\\_fb   & l10\\_agg\\_rf\\_fb   & auc\\_agg\\_glm  & l10\\_agg\\_glm  & auc\\_seg2\\_glm & l10\\_seg2\\_glm\\\\\n",
       "\\end{tabular}\n"
      ],
      "text/markdown": [
       "\n",
       "A data.frame: 6 × 76\n",
       "\n",
       "| <!--/--> | tld_registrar_index &lt;chr&gt; | geo_maj &lt;fct&gt; | geo_cnt &lt;int&gt; | n &lt;int&gt; | ren_prp &lt;dbl&gt; | tld_cnt &lt;int&gt; | tld_rat &lt;dbl&gt; | daydom_min &lt;int&gt; | daydom_max &lt;int&gt; | daydom_mean &lt;dbl&gt; | daydom_rng &lt;int&gt; | daydom_std &lt;dbl&gt; | daydom_skew &lt;dbl&gt; | daydom_kurt &lt;dbl&gt; | sldlen_min &lt;int&gt; | sldlen_max &lt;int&gt; | sldlen_mean &lt;dbl&gt; | sldlen_rng &lt;int&gt; | sldlen_std &lt;dbl&gt; | sldlen_skew &lt;dbl&gt; | sldlen_kurt &lt;dbl&gt; | gibbs_min &lt;dbl&gt; | gibbs_max &lt;dbl&gt; | gibbs_mean &lt;dbl&gt; | gibbs_rng &lt;dbl&gt; | ⋯ ⋯ | l10_agg_rf &lt;list&gt; | auc_seg2_glm &lt;list&gt; | auc_seg_glm &lt;list&gt; | auc_agg_glm &lt;list&gt; | auc_seg2_rf &lt;list&gt; | auc_seg_rf &lt;list&gt; | auc_agg_rf &lt;list&gt; | l10_seg2_glm_fb &lt;list&gt; | l10_seg_glm_fb &lt;list&gt; | l10_agg_glm_fb &lt;list&gt; | l10_seg2_rf_fb &lt;list&gt; | l10_seg_rf_fb &lt;list&gt; | l10_agg_rf_fb &lt;list&gt; | auc_seg2_glm_fb &lt;list&gt; | auc_seg_glm_fb &lt;list&gt; | auc_agg_glm_fb &lt;list&gt; | auc_seg2_rf_fb &lt;list&gt; | auc_seg_rf_fb &lt;list&gt; | auc_agg_rf_fb &lt;list&gt; | auc_win_01 &lt;chr&gt; | l10_win_01 &lt;chr&gt; | auc_win_02 &lt;chr&gt; | l10_win_02 &lt;chr&gt; | auc_win_03 &lt;chr&gt; | l10_win_03 &lt;chr&gt; |\n",
       "|---|---|---|---|---|---|---|---|---|---|---|---|---|---|---|---|---|---|---|---|---|---|---|---|---|---|---|---|---|---|---|---|---|---|---|---|---|---|---|---|---|---|---|---|---|---|---|---|---|---|---|---|\n",
       "| 1 | fun1&amp;1 internet     | EU    | 1 |     2 | 1.0000000 | 1 | 5.000000e-01 | 1 |   1 |   1.000000 |   0 |   0.000000 |        NaN |       NaN | 6 |  9 | 7.500000 |  3 | 2.121320 | 0.0000000 | -2.7500000 | 2.23 |   3.45 | 2.840000 |   1.22 | ⋯ | 5 | 0.6 | 0.6 | 0.6 | 0.6 | 0.6 | 0.6 | 5 | 5 | 5 | 5 | 5 | 5 | 0.6 | 0.6 | 0.6 | 0.6 | 0.6 | 0.6 | auc_seg2_glm_fb | l10_seg2_glm_fb | auc_seg2_glm | l10_seg2_glm | auc_seg2_glm | l10_seg2_glm |\n",
       "| 2 | fun10dencehispahard | EU    | 1 |     2 | 0.0000000 | 1 | 5.000000e-01 | 1 |   1 |   1.000000 |   0 |   0.000000 |        NaN |       NaN | 6 |  8 | 7.000000 |  2 | 1.414214 | 0.0000000 | -2.7500000 | 3.13 |   8.62 | 5.875000 |   5.49 | ⋯ | NaN | NaN | NaN | NaN | NaN | NaN | NaN | NaN | NaN | NaN | NaN | NaN | NaN | NaN | NaN | NaN | NaN | NaN | NaN | NA              | NA              | NA           | NA           | NA           | NA           |\n",
       "| 3 | fun1api             | EU    | 1 |     2 | 0.5000000 | 1 | 5.000000e-01 | 1 |   1 |   1.000000 |   0 |   0.000000 |        NaN |       NaN | 7 |  7 | 7.000000 |  0 | 0.000000 |       NaN |        NaN | 4.51 |   6.09 | 5.300000 |   1.58 | ⋯ | 0 | 0.25 | 0.25 | 0.25 | 0.95 | 0.95 | 0.25 | 0 | 0 | 0 | 10 | 10 | 0 | 0.25 | 0.25 | 0.25 | 0.95 | 0.95 | 0.25 | auc_seg2_glm_fb | l10_seg2_glm_fb | auc_seg2_rf  | l10_seg2_rf  | auc_seg2_glm | l10_seg2_glm |\n",
       "| 4 | funactive 24        | EU    | 1 |    22 | 0.2272727 | 1 | 4.545455e-02 | 1 |   3 |   2.090909 |   2 |   1.019294 | -0.1702685 | -2.058471 | 4 | 14 | 7.363636 | 10 | 2.498484 | 0.8100072 |  0.4123014 | 0.59 | 100.00 | 9.425000 |  99.41 | ⋯ | 2 | 0.45 | 0.35 | 0.49 | 0.57 | 0.59 | 0.63 | 0 | 0 | 0 | 2 | 2 | 2 | 0.45 | 0.35 | 0.49 | 0.57 | 0.59 | 0.63 | auc_agg_rf_fb   | l10_agg_rf_fb   | auc_agg_rf   | l10_seg2_rf  | auc_seg2_glm | l10_seg2_glm |\n",
       "| 5 | funalibaba          | China | 1 | 18208 | 0.0118080 | 1 | 5.492091e-05 | 1 | 705 | 219.892025 | 704 | 156.107008 |  1.5055591 |  2.301106 | 3 | 38 | 6.956832 | 35 | 3.311960 | 2.9556282 | 13.5354533 | 0.00 | 100.00 | 6.320069 | 100.00 | ⋯ | 6.186047 | 0.8262791 | 0.8425581 | 0.8513953 | 0.8769767 | 0.877907 | 0.8793023 | 4.883721 | 5.302326 | 5.023256 | 5.813953 | 6 | 6.186047 | 0.8262791 | 0.8425581 | 0.8513953 | 0.8769767 | 0.877907 | 0.8793023 | auc_agg_rf_fb   | l10_agg_rf_fb   | auc_agg_rf   | l10_agg_rf   | auc_seg2_glm | l10_seg2_glm |\n",
       "| 6 | funalibaba sg       | China | 1 |    16 | 0.0625000 | 1 | 6.250000e-02 | 1 |   1 |   1.000000 |   0 |   0.000000 |        NaN |       NaN | 4 | 13 | 7.375000 |  9 | 2.604483 | 0.3561975 | -0.8500916 | 0.24 |  13.58 | 4.647500 |  13.34 | ⋯ | 10 | 0.05 | 0.05 | 0.95 | 0.85 | 0.55 | 0.95 | 0 | 0 | 10 | 0 | 0 | 10 | 0.05 | 0.05 | 0.95 | 0.85 | 0.55 | 0.95 | auc_agg_rf_fb   | l10_agg_rf_fb   | auc_agg_glm  | l10_agg_glm  | auc_seg2_glm | l10_seg2_glm |\n",
       "\n"
      ],
      "text/plain": [
       "  tld_registrar_index geo_maj geo_cnt n     ren_prp   tld_cnt tld_rat     \n",
       "1 fun1&1 internet     EU      1           2 1.0000000 1       5.000000e-01\n",
       "2 fun10dencehispahard EU      1           2 0.0000000 1       5.000000e-01\n",
       "3 fun1api             EU      1           2 0.5000000 1       5.000000e-01\n",
       "4 funactive 24        EU      1          22 0.2272727 1       4.545455e-02\n",
       "5 funalibaba          China   1       18208 0.0118080 1       5.492091e-05\n",
       "6 funalibaba sg       China   1          16 0.0625000 1       6.250000e-02\n",
       "  daydom_min daydom_max daydom_mean daydom_rng daydom_std daydom_skew\n",
       "1 1            1          1.000000    0          0.000000        NaN \n",
       "2 1            1          1.000000    0          0.000000        NaN \n",
       "3 1            1          1.000000    0          0.000000        NaN \n",
       "4 1            3          2.090909    2          1.019294 -0.1702685 \n",
       "5 1          705        219.892025  704        156.107008  1.5055591 \n",
       "6 1            1          1.000000    0          0.000000        NaN \n",
       "  daydom_kurt sldlen_min sldlen_max sldlen_mean sldlen_rng sldlen_std\n",
       "1       NaN   6           9         7.500000     3         2.121320  \n",
       "2       NaN   6           8         7.000000     2         1.414214  \n",
       "3       NaN   7           7         7.000000     0         0.000000  \n",
       "4 -2.058471   4          14         7.363636    10         2.498484  \n",
       "5  2.301106   3          38         6.956832    35         3.311960  \n",
       "6       NaN   4          13         7.375000     9         2.604483  \n",
       "  sldlen_skew sldlen_kurt gibbs_min gibbs_max gibbs_mean gibbs_rng ⋯ l10_agg_rf\n",
       "1 0.0000000   -2.7500000  2.23        3.45    2.840000     1.22    ⋯ 5         \n",
       "2 0.0000000   -2.7500000  3.13        8.62    5.875000     5.49    ⋯ NaN       \n",
       "3       NaN          NaN  4.51        6.09    5.300000     1.58    ⋯ 0         \n",
       "4 0.8100072    0.4123014  0.59      100.00    9.425000    99.41    ⋯ 2         \n",
       "5 2.9556282   13.5354533  0.00      100.00    6.320069   100.00    ⋯ 6.186047  \n",
       "6 0.3561975   -0.8500916  0.24       13.58    4.647500    13.34    ⋯ 10        \n",
       "  auc_seg2_glm auc_seg_glm auc_agg_glm auc_seg2_rf auc_seg_rf auc_agg_rf\n",
       "1 0.6          0.6         0.6         0.6         0.6        0.6       \n",
       "2 NaN          NaN         NaN         NaN         NaN        NaN       \n",
       "3 0.25         0.25        0.25        0.95        0.95       0.25      \n",
       "4 0.45         0.35        0.49        0.57        0.59       0.63      \n",
       "5 0.8262791    0.8425581   0.8513953   0.8769767   0.877907   0.8793023 \n",
       "6 0.05         0.05        0.95        0.85        0.55       0.95      \n",
       "  l10_seg2_glm_fb l10_seg_glm_fb l10_agg_glm_fb l10_seg2_rf_fb l10_seg_rf_fb\n",
       "1 5               5              5              5              5            \n",
       "2 NaN             NaN            NaN            NaN            NaN          \n",
       "3 0               0              0              10             10           \n",
       "4 0               0              0              2              2            \n",
       "5 4.883721        5.302326       5.023256       5.813953       6            \n",
       "6 0               0              10             0              0            \n",
       "  l10_agg_rf_fb auc_seg2_glm_fb auc_seg_glm_fb auc_agg_glm_fb auc_seg2_rf_fb\n",
       "1 5             0.6             0.6            0.6            0.6           \n",
       "2 NaN           NaN             NaN            NaN            NaN           \n",
       "3 0             0.25            0.25           0.25           0.95          \n",
       "4 2             0.45            0.35           0.49           0.57          \n",
       "5 6.186047      0.8262791       0.8425581      0.8513953      0.8769767     \n",
       "6 10            0.05            0.05           0.95           0.85          \n",
       "  auc_seg_rf_fb auc_agg_rf_fb auc_win_01      l10_win_01      auc_win_02  \n",
       "1 0.6           0.6           auc_seg2_glm_fb l10_seg2_glm_fb auc_seg2_glm\n",
       "2 NaN           NaN           NA              NA              NA          \n",
       "3 0.95          0.25          auc_seg2_glm_fb l10_seg2_glm_fb auc_seg2_rf \n",
       "4 0.59          0.63          auc_agg_rf_fb   l10_agg_rf_fb   auc_agg_rf  \n",
       "5 0.877907      0.8793023     auc_agg_rf_fb   l10_agg_rf_fb   auc_agg_rf  \n",
       "6 0.55          0.95          auc_agg_rf_fb   l10_agg_rf_fb   auc_agg_glm \n",
       "  l10_win_02   auc_win_03   l10_win_03  \n",
       "1 l10_seg2_glm auc_seg2_glm l10_seg2_glm\n",
       "2 NA           NA           NA          \n",
       "3 l10_seg2_rf  auc_seg2_glm l10_seg2_glm\n",
       "4 l10_seg2_rf  auc_seg2_glm l10_seg2_glm\n",
       "5 l10_agg_rf   auc_seg2_glm l10_seg2_glm\n",
       "6 l10_agg_glm  auc_seg2_glm l10_seg2_glm"
      ]
     },
     "metadata": {},
     "output_type": "display_data"
    }
   ],
   "source": [
    "head(expiry_test_metametrics)"
   ]
  },
  {
   "cell_type": "code",
   "execution_count": 262,
   "metadata": {},
   "outputs": [
    {
     "data": {
      "text/html": [
       "<style>\n",
       ".list-inline {list-style: none; margin:0; padding: 0}\n",
       ".list-inline>li {display: inline-block}\n",
       ".list-inline>li:not(:last-child)::after {content: \"\\00b7\"; padding: 0 .5ex}\n",
       "</style>\n",
       "<ol class=list-inline><li>'tld_registrar_index'</li><li>'geo_maj'</li><li>'geo_cnt'</li><li>'n'</li><li>'ren_prp'</li><li>'tld_cnt'</li><li>'tld_rat'</li><li>'daydom_min'</li><li>'daydom_max'</li><li>'daydom_mean'</li><li>'daydom_rng'</li><li>'daydom_std'</li><li>'daydom_skew'</li><li>'daydom_kurt'</li><li>'sldlen_min'</li><li>'sldlen_max'</li><li>'sldlen_mean'</li><li>'sldlen_rng'</li><li>'sldlen_std'</li><li>'sldlen_skew'</li><li>'sldlen_kurt'</li><li>'gibbs_min'</li><li>'gibbs_max'</li><li>'gibbs_mean'</li><li>'gibbs_rng'</li><li>'gibbs_std'</li><li>'gibbs_skew'</li><li>'gibbs_kurt'</li><li>'pdcnt_min'</li><li>'pdcnt_max'</li><li>'pdcnt_mean'</li><li>'pdcnt_rng'</li><li>'pdcnt_std'</li><li>'pdcnt_skew'</li><li>'pdcnt_kurt'</li><li>'regarpt_min'</li><li>'regarpt_max'</li><li>'regarpt_mean'</li><li>'regarpt_rng'</li><li>'regarpt_std'</li><li>'regarpt_skew'</li><li>'regarpt_kurt'</li><li>'country_maj'</li><li>'region_maj'</li><li>'country_cnt'</li><li>'region_cnt'</li><li>'l10_seg2_glm'</li><li>'l10_seg_glm'</li><li>'l10_agg_glm'</li><li>'l10_seg2_rf'</li><li>'l10_seg_rf'</li><li>'l10_agg_rf'</li><li>'auc_seg2_glm'</li><li>'auc_seg_glm'</li><li>'auc_agg_glm'</li><li>'auc_seg2_rf'</li><li>'auc_seg_rf'</li><li>'auc_agg_rf'</li><li>'l10_seg2_glm_fb'</li><li>'l10_seg_glm_fb'</li><li>'l10_agg_glm_fb'</li><li>'l10_seg2_rf_fb'</li><li>'l10_seg_rf_fb'</li><li>'l10_agg_rf_fb'</li><li>'auc_seg2_glm_fb'</li><li>'auc_seg_glm_fb'</li><li>'auc_agg_glm_fb'</li><li>'auc_seg2_rf_fb'</li><li>'auc_seg_rf_fb'</li><li>'auc_agg_rf_fb'</li><li>'auc_win_01'</li><li>'l10_win_01'</li><li>'auc_win_02'</li><li>'l10_win_02'</li><li>'auc_win_03'</li><li>'l10_win_03'</li></ol>\n"
      ],
      "text/latex": [
       "\\begin{enumerate*}\n",
       "\\item 'tld\\_registrar\\_index'\n",
       "\\item 'geo\\_maj'\n",
       "\\item 'geo\\_cnt'\n",
       "\\item 'n'\n",
       "\\item 'ren\\_prp'\n",
       "\\item 'tld\\_cnt'\n",
       "\\item 'tld\\_rat'\n",
       "\\item 'daydom\\_min'\n",
       "\\item 'daydom\\_max'\n",
       "\\item 'daydom\\_mean'\n",
       "\\item 'daydom\\_rng'\n",
       "\\item 'daydom\\_std'\n",
       "\\item 'daydom\\_skew'\n",
       "\\item 'daydom\\_kurt'\n",
       "\\item 'sldlen\\_min'\n",
       "\\item 'sldlen\\_max'\n",
       "\\item 'sldlen\\_mean'\n",
       "\\item 'sldlen\\_rng'\n",
       "\\item 'sldlen\\_std'\n",
       "\\item 'sldlen\\_skew'\n",
       "\\item 'sldlen\\_kurt'\n",
       "\\item 'gibbs\\_min'\n",
       "\\item 'gibbs\\_max'\n",
       "\\item 'gibbs\\_mean'\n",
       "\\item 'gibbs\\_rng'\n",
       "\\item 'gibbs\\_std'\n",
       "\\item 'gibbs\\_skew'\n",
       "\\item 'gibbs\\_kurt'\n",
       "\\item 'pdcnt\\_min'\n",
       "\\item 'pdcnt\\_max'\n",
       "\\item 'pdcnt\\_mean'\n",
       "\\item 'pdcnt\\_rng'\n",
       "\\item 'pdcnt\\_std'\n",
       "\\item 'pdcnt\\_skew'\n",
       "\\item 'pdcnt\\_kurt'\n",
       "\\item 'regarpt\\_min'\n",
       "\\item 'regarpt\\_max'\n",
       "\\item 'regarpt\\_mean'\n",
       "\\item 'regarpt\\_rng'\n",
       "\\item 'regarpt\\_std'\n",
       "\\item 'regarpt\\_skew'\n",
       "\\item 'regarpt\\_kurt'\n",
       "\\item 'country\\_maj'\n",
       "\\item 'region\\_maj'\n",
       "\\item 'country\\_cnt'\n",
       "\\item 'region\\_cnt'\n",
       "\\item 'l10\\_seg2\\_glm'\n",
       "\\item 'l10\\_seg\\_glm'\n",
       "\\item 'l10\\_agg\\_glm'\n",
       "\\item 'l10\\_seg2\\_rf'\n",
       "\\item 'l10\\_seg\\_rf'\n",
       "\\item 'l10\\_agg\\_rf'\n",
       "\\item 'auc\\_seg2\\_glm'\n",
       "\\item 'auc\\_seg\\_glm'\n",
       "\\item 'auc\\_agg\\_glm'\n",
       "\\item 'auc\\_seg2\\_rf'\n",
       "\\item 'auc\\_seg\\_rf'\n",
       "\\item 'auc\\_agg\\_rf'\n",
       "\\item 'l10\\_seg2\\_glm\\_fb'\n",
       "\\item 'l10\\_seg\\_glm\\_fb'\n",
       "\\item 'l10\\_agg\\_glm\\_fb'\n",
       "\\item 'l10\\_seg2\\_rf\\_fb'\n",
       "\\item 'l10\\_seg\\_rf\\_fb'\n",
       "\\item 'l10\\_agg\\_rf\\_fb'\n",
       "\\item 'auc\\_seg2\\_glm\\_fb'\n",
       "\\item 'auc\\_seg\\_glm\\_fb'\n",
       "\\item 'auc\\_agg\\_glm\\_fb'\n",
       "\\item 'auc\\_seg2\\_rf\\_fb'\n",
       "\\item 'auc\\_seg\\_rf\\_fb'\n",
       "\\item 'auc\\_agg\\_rf\\_fb'\n",
       "\\item 'auc\\_win\\_01'\n",
       "\\item 'l10\\_win\\_01'\n",
       "\\item 'auc\\_win\\_02'\n",
       "\\item 'l10\\_win\\_02'\n",
       "\\item 'auc\\_win\\_03'\n",
       "\\item 'l10\\_win\\_03'\n",
       "\\end{enumerate*}\n"
      ],
      "text/markdown": [
       "1. 'tld_registrar_index'\n",
       "2. 'geo_maj'\n",
       "3. 'geo_cnt'\n",
       "4. 'n'\n",
       "5. 'ren_prp'\n",
       "6. 'tld_cnt'\n",
       "7. 'tld_rat'\n",
       "8. 'daydom_min'\n",
       "9. 'daydom_max'\n",
       "10. 'daydom_mean'\n",
       "11. 'daydom_rng'\n",
       "12. 'daydom_std'\n",
       "13. 'daydom_skew'\n",
       "14. 'daydom_kurt'\n",
       "15. 'sldlen_min'\n",
       "16. 'sldlen_max'\n",
       "17. 'sldlen_mean'\n",
       "18. 'sldlen_rng'\n",
       "19. 'sldlen_std'\n",
       "20. 'sldlen_skew'\n",
       "21. 'sldlen_kurt'\n",
       "22. 'gibbs_min'\n",
       "23. 'gibbs_max'\n",
       "24. 'gibbs_mean'\n",
       "25. 'gibbs_rng'\n",
       "26. 'gibbs_std'\n",
       "27. 'gibbs_skew'\n",
       "28. 'gibbs_kurt'\n",
       "29. 'pdcnt_min'\n",
       "30. 'pdcnt_max'\n",
       "31. 'pdcnt_mean'\n",
       "32. 'pdcnt_rng'\n",
       "33. 'pdcnt_std'\n",
       "34. 'pdcnt_skew'\n",
       "35. 'pdcnt_kurt'\n",
       "36. 'regarpt_min'\n",
       "37. 'regarpt_max'\n",
       "38. 'regarpt_mean'\n",
       "39. 'regarpt_rng'\n",
       "40. 'regarpt_std'\n",
       "41. 'regarpt_skew'\n",
       "42. 'regarpt_kurt'\n",
       "43. 'country_maj'\n",
       "44. 'region_maj'\n",
       "45. 'country_cnt'\n",
       "46. 'region_cnt'\n",
       "47. 'l10_seg2_glm'\n",
       "48. 'l10_seg_glm'\n",
       "49. 'l10_agg_glm'\n",
       "50. 'l10_seg2_rf'\n",
       "51. 'l10_seg_rf'\n",
       "52. 'l10_agg_rf'\n",
       "53. 'auc_seg2_glm'\n",
       "54. 'auc_seg_glm'\n",
       "55. 'auc_agg_glm'\n",
       "56. 'auc_seg2_rf'\n",
       "57. 'auc_seg_rf'\n",
       "58. 'auc_agg_rf'\n",
       "59. 'l10_seg2_glm_fb'\n",
       "60. 'l10_seg_glm_fb'\n",
       "61. 'l10_agg_glm_fb'\n",
       "62. 'l10_seg2_rf_fb'\n",
       "63. 'l10_seg_rf_fb'\n",
       "64. 'l10_agg_rf_fb'\n",
       "65. 'auc_seg2_glm_fb'\n",
       "66. 'auc_seg_glm_fb'\n",
       "67. 'auc_agg_glm_fb'\n",
       "68. 'auc_seg2_rf_fb'\n",
       "69. 'auc_seg_rf_fb'\n",
       "70. 'auc_agg_rf_fb'\n",
       "71. 'auc_win_01'\n",
       "72. 'l10_win_01'\n",
       "73. 'auc_win_02'\n",
       "74. 'l10_win_02'\n",
       "75. 'auc_win_03'\n",
       "76. 'l10_win_03'\n",
       "\n",
       "\n"
      ],
      "text/plain": [
       " [1] \"tld_registrar_index\" \"geo_maj\"             \"geo_cnt\"            \n",
       " [4] \"n\"                   \"ren_prp\"             \"tld_cnt\"            \n",
       " [7] \"tld_rat\"             \"daydom_min\"          \"daydom_max\"         \n",
       "[10] \"daydom_mean\"         \"daydom_rng\"          \"daydom_std\"         \n",
       "[13] \"daydom_skew\"         \"daydom_kurt\"         \"sldlen_min\"         \n",
       "[16] \"sldlen_max\"          \"sldlen_mean\"         \"sldlen_rng\"         \n",
       "[19] \"sldlen_std\"          \"sldlen_skew\"         \"sldlen_kurt\"        \n",
       "[22] \"gibbs_min\"           \"gibbs_max\"           \"gibbs_mean\"         \n",
       "[25] \"gibbs_rng\"           \"gibbs_std\"           \"gibbs_skew\"         \n",
       "[28] \"gibbs_kurt\"          \"pdcnt_min\"           \"pdcnt_max\"          \n",
       "[31] \"pdcnt_mean\"          \"pdcnt_rng\"           \"pdcnt_std\"          \n",
       "[34] \"pdcnt_skew\"          \"pdcnt_kurt\"          \"regarpt_min\"        \n",
       "[37] \"regarpt_max\"         \"regarpt_mean\"        \"regarpt_rng\"        \n",
       "[40] \"regarpt_std\"         \"regarpt_skew\"        \"regarpt_kurt\"       \n",
       "[43] \"country_maj\"         \"region_maj\"          \"country_cnt\"        \n",
       "[46] \"region_cnt\"          \"l10_seg2_glm\"        \"l10_seg_glm\"        \n",
       "[49] \"l10_agg_glm\"         \"l10_seg2_rf\"         \"l10_seg_rf\"         \n",
       "[52] \"l10_agg_rf\"          \"auc_seg2_glm\"        \"auc_seg_glm\"        \n",
       "[55] \"auc_agg_glm\"         \"auc_seg2_rf\"         \"auc_seg_rf\"         \n",
       "[58] \"auc_agg_rf\"          \"l10_seg2_glm_fb\"     \"l10_seg_glm_fb\"     \n",
       "[61] \"l10_agg_glm_fb\"      \"l10_seg2_rf_fb\"      \"l10_seg_rf_fb\"      \n",
       "[64] \"l10_agg_rf_fb\"       \"auc_seg2_glm_fb\"     \"auc_seg_glm_fb\"     \n",
       "[67] \"auc_agg_glm_fb\"      \"auc_seg2_rf_fb\"      \"auc_seg_rf_fb\"      \n",
       "[70] \"auc_agg_rf_fb\"       \"auc_win_01\"          \"l10_win_01\"         \n",
       "[73] \"auc_win_02\"          \"l10_win_02\"          \"auc_win_03\"         \n",
       "[76] \"l10_win_03\"         "
      ]
     },
     "metadata": {},
     "output_type": "display_data"
    }
   ],
   "source": [
    "names(expiry_test_metametrics)"
   ]
  },
  {
   "cell_type": "code",
   "execution_count": 263,
   "metadata": {},
   "outputs": [
    {
     "ename": "ERROR",
     "evalue": "Error in factor(test_imp$l10_win): object 'test_imp' not found\n",
     "output_type": "error",
     "traceback": [
      "Error in factor(test_imp$l10_win): object 'test_imp' not found\nTraceback:\n",
      "1. levels(factor(test_imp$l10_win))",
      "2. factor(test_imp$l10_win)"
     ]
    }
   ],
   "source": [
    "levels(factor(test_imp$l10_win))\n",
    "levels(factor(pred$win))"
   ]
  },
  {
   "cell_type": "code",
   "execution_count": 264,
   "metadata": {},
   "outputs": [
    {
     "data": {
      "text/html": [
       "<table>\n",
       "<caption>A data.frame: 6 × 45</caption>\n",
       "<thead>\n",
       "\t<tr><th></th><th scope=col>auc_win_01</th><th scope=col>l10_win_01</th><th scope=col>ren_prp</th><th scope=col>tld_rat</th><th scope=col>country_maj</th><th scope=col>region_maj</th><th scope=col>country_cnt</th><th scope=col>region_cnt</th><th scope=col>geo_cnt</th><th scope=col>geo_maj</th><th scope=col>daydom_min</th><th scope=col>daydom_max</th><th scope=col>daydom_mean</th><th scope=col>daydom_rng</th><th scope=col>daydom_std</th><th scope=col>daydom_skew</th><th scope=col>daydom_kurt</th><th scope=col>sldlen_min</th><th scope=col>sldlen_max</th><th scope=col>sldlen_mean</th><th scope=col>sldlen_rng</th><th scope=col>sldlen_std</th><th scope=col>sldlen_skew</th><th scope=col>sldlen_kurt</th><th scope=col>gibbs_min</th><th scope=col>gibbs_max</th><th scope=col>gibbs_mean</th><th scope=col>gibbs_rng</th><th scope=col>gibbs_std</th><th scope=col>gibbs_skew</th><th scope=col>gibbs_kurt</th><th scope=col>pdcnt_min</th><th scope=col>pdcnt_max</th><th scope=col>pdcnt_mean</th><th scope=col>pdcnt_rng</th><th scope=col>pdcnt_std</th><th scope=col>pdcnt_skew</th><th scope=col>pdcnt_kurt</th><th scope=col>regarpt_min</th><th scope=col>regarpt_max</th><th scope=col>regarpt_mean</th><th scope=col>regarpt_rng</th><th scope=col>regarpt_std</th><th scope=col>regarpt_skew</th><th scope=col>regarpt_kurt</th></tr>\n",
       "\t<tr><th></th><th scope=col>&lt;chr&gt;</th><th scope=col>&lt;chr&gt;</th><th scope=col>&lt;dbl&gt;</th><th scope=col>&lt;dbl&gt;</th><th scope=col>&lt;chr&gt;</th><th scope=col>&lt;chr&gt;</th><th scope=col>&lt;int&gt;</th><th scope=col>&lt;int&gt;</th><th scope=col>&lt;int&gt;</th><th scope=col>&lt;fct&gt;</th><th scope=col>&lt;int&gt;</th><th scope=col>&lt;int&gt;</th><th scope=col>&lt;dbl&gt;</th><th scope=col>&lt;int&gt;</th><th scope=col>&lt;dbl&gt;</th><th scope=col>&lt;dbl&gt;</th><th scope=col>&lt;dbl&gt;</th><th scope=col>&lt;int&gt;</th><th scope=col>&lt;int&gt;</th><th scope=col>&lt;dbl&gt;</th><th scope=col>&lt;int&gt;</th><th scope=col>&lt;dbl&gt;</th><th scope=col>&lt;dbl&gt;</th><th scope=col>&lt;dbl&gt;</th><th scope=col>&lt;dbl&gt;</th><th scope=col>&lt;dbl&gt;</th><th scope=col>&lt;dbl&gt;</th><th scope=col>&lt;dbl&gt;</th><th scope=col>&lt;dbl&gt;</th><th scope=col>&lt;dbl&gt;</th><th scope=col>&lt;dbl&gt;</th><th scope=col>&lt;int&gt;</th><th scope=col>&lt;int&gt;</th><th scope=col>&lt;dbl&gt;</th><th scope=col>&lt;int&gt;</th><th scope=col>&lt;dbl&gt;</th><th scope=col>&lt;dbl&gt;</th><th scope=col>&lt;dbl&gt;</th><th scope=col>&lt;dbl&gt;</th><th scope=col>&lt;dbl&gt;</th><th scope=col>&lt;dbl&gt;</th><th scope=col>&lt;dbl&gt;</th><th scope=col>&lt;dbl&gt;</th><th scope=col>&lt;dbl&gt;</th><th scope=col>&lt;dbl&gt;</th></tr>\n",
       "</thead>\n",
       "<tbody>\n",
       "\t<tr><th scope=row>1</th><td>auc_seg2_glm_fb</td><td>l10_seg2_glm_fb</td><td>1.0000000</td><td>5.000000e-01</td><td>Japan        </td><td>Non China</td><td>1</td><td>1</td><td>1</td><td>EU   </td><td>1</td><td>  1</td><td>  1.000000</td><td>  0</td><td>  0.000000</td><td>       NaN</td><td>      NaN</td><td>6</td><td> 9</td><td>7.500000</td><td> 3</td><td>2.121320</td><td>0.0000000</td><td>-2.7500000</td><td>2.23</td><td>  3.45</td><td>2.840000</td><td>  1.22</td><td> 0.8626703</td><td> 3.890973e-16</td><td>-2.7500000</td><td>1</td><td> 1</td><td>1.000000</td><td> 0</td><td>0.0000000</td><td>     NaN</td><td>      NaN</td><td>15.00</td><td>15.00</td><td>15.0000000</td><td>0.00</td><td>0.00000000</td><td>      NaN</td><td>        NaN</td></tr>\n",
       "\t<tr><th scope=row>2</th><td>NA             </td><td>NA             </td><td>0.0000000</td><td>5.000000e-01</td><td>China        </td><td>China    </td><td>1</td><td>1</td><td>1</td><td>EU   </td><td>1</td><td>  1</td><td>  1.000000</td><td>  0</td><td>  0.000000</td><td>       NaN</td><td>      NaN</td><td>6</td><td> 8</td><td>7.000000</td><td> 2</td><td>1.414214</td><td>0.0000000</td><td>-2.7500000</td><td>3.13</td><td>  8.62</td><td>5.875000</td><td>  5.49</td><td> 3.8820162</td><td>-1.821837e-16</td><td>-2.7500000</td><td>1</td><td> 1</td><td>1.000000</td><td> 0</td><td>0.0000000</td><td>     NaN</td><td>      NaN</td><td>15.00</td><td>15.00</td><td>15.0000000</td><td>0.00</td><td>0.00000000</td><td>      NaN</td><td>        NaN</td></tr>\n",
       "\t<tr><th scope=row>3</th><td>auc_seg2_glm_fb</td><td>l10_seg2_glm_fb</td><td>0.5000000</td><td>5.000000e-01</td><td>United States</td><td>Non China</td><td>1</td><td>1</td><td>1</td><td>EU   </td><td>1</td><td>  1</td><td>  1.000000</td><td>  0</td><td>  0.000000</td><td>       NaN</td><td>      NaN</td><td>7</td><td> 7</td><td>7.000000</td><td> 0</td><td>0.000000</td><td>      NaN</td><td>       NaN</td><td>4.51</td><td>  6.09</td><td>5.300000</td><td>  1.58</td><td> 1.1172287</td><td> 0.000000e+00</td><td>-2.7500000</td><td>1</td><td> 1</td><td>1.000000</td><td> 0</td><td>0.0000000</td><td>     NaN</td><td>      NaN</td><td> 5.00</td><td> 5.00</td><td> 5.0000000</td><td>0.00</td><td>0.00000000</td><td>      NaN</td><td>        NaN</td></tr>\n",
       "\t<tr><th scope=row>4</th><td>auc_agg_rf_fb  </td><td>l10_agg_rf_fb  </td><td>0.2272727</td><td>4.545455e-02</td><td>United States</td><td>Non China</td><td>1</td><td>1</td><td>1</td><td>EU   </td><td>1</td><td>  3</td><td>  2.090909</td><td>  2</td><td>  1.019294</td><td>-0.1702685</td><td>-2.058471</td><td>4</td><td>14</td><td>7.363636</td><td>10</td><td>2.498484</td><td>0.8100072</td><td> 0.4123014</td><td>0.59</td><td>100.00</td><td>9.425000</td><td> 99.41</td><td>20.4690367</td><td> 3.916190e+00</td><td>14.4351125</td><td>1</td><td> 3</td><td>1.272727</td><td> 2</td><td>0.7025002</td><td>1.976412</td><td> 2.003371</td><td> 0.50</td><td> 0.50</td><td> 0.5000000</td><td>0.00</td><td>0.00000000</td><td>      NaN</td><td>        NaN</td></tr>\n",
       "\t<tr><th scope=row>5</th><td>auc_agg_rf_fb  </td><td>l10_agg_rf_fb  </td><td>0.0118080</td><td>5.492091e-05</td><td>United States</td><td>Non China</td><td>1</td><td>1</td><td>1</td><td>China</td><td>1</td><td>705</td><td>219.892025</td><td>704</td><td>156.107008</td><td> 1.5055591</td><td> 2.301106</td><td>3</td><td>38</td><td>6.956832</td><td>35</td><td>3.311960</td><td>2.9556282</td><td>13.5354533</td><td>0.00</td><td>100.00</td><td>6.320069</td><td>100.00</td><td>21.0541141</td><td> 4.158734e+00</td><td>15.5656248</td><td>1</td><td>74</td><td>5.124341</td><td>73</td><td>9.7106897</td><td>4.178197</td><td>19.706420</td><td> 0.75</td><td> 4.75</td><td> 0.7519112</td><td>4.00</td><td>0.07918874</td><td>48.370853</td><td>2363.819659</td></tr>\n",
       "\t<tr><th scope=row>6</th><td>auc_agg_rf_fb  </td><td>l10_agg_rf_fb  </td><td>0.0625000</td><td>6.250000e-02</td><td>France       </td><td>Non China</td><td>1</td><td>1</td><td>1</td><td>China</td><td>1</td><td>  1</td><td>  1.000000</td><td>  0</td><td>  0.000000</td><td>       NaN</td><td>      NaN</td><td>4</td><td>13</td><td>7.375000</td><td> 9</td><td>2.604483</td><td>0.3561975</td><td>-0.8500916</td><td>0.24</td><td> 13.58</td><td>4.647500</td><td> 13.34</td><td> 3.3497910</td><td> 1.008842e+00</td><td> 0.7044306</td><td>1</td><td> 1</td><td>1.000000</td><td> 0</td><td>0.0000000</td><td>     NaN</td><td>      NaN</td><td> 0.75</td><td> 8.50</td><td> 1.2656250</td><td>7.75</td><td>1.92931065</td><td> 3.280409</td><td>   9.359645</td></tr>\n",
       "</tbody>\n",
       "</table>\n"
      ],
      "text/latex": [
       "A data.frame: 6 × 45\n",
       "\\begin{tabular}{r|lllllllllllllllllllllllllllllllllllllllllllll}\n",
       "  & auc\\_win\\_01 & l10\\_win\\_01 & ren\\_prp & tld\\_rat & country\\_maj & region\\_maj & country\\_cnt & region\\_cnt & geo\\_cnt & geo\\_maj & daydom\\_min & daydom\\_max & daydom\\_mean & daydom\\_rng & daydom\\_std & daydom\\_skew & daydom\\_kurt & sldlen\\_min & sldlen\\_max & sldlen\\_mean & sldlen\\_rng & sldlen\\_std & sldlen\\_skew & sldlen\\_kurt & gibbs\\_min & gibbs\\_max & gibbs\\_mean & gibbs\\_rng & gibbs\\_std & gibbs\\_skew & gibbs\\_kurt & pdcnt\\_min & pdcnt\\_max & pdcnt\\_mean & pdcnt\\_rng & pdcnt\\_std & pdcnt\\_skew & pdcnt\\_kurt & regarpt\\_min & regarpt\\_max & regarpt\\_mean & regarpt\\_rng & regarpt\\_std & regarpt\\_skew & regarpt\\_kurt\\\\\n",
       "  & <chr> & <chr> & <dbl> & <dbl> & <chr> & <chr> & <int> & <int> & <int> & <fct> & <int> & <int> & <dbl> & <int> & <dbl> & <dbl> & <dbl> & <int> & <int> & <dbl> & <int> & <dbl> & <dbl> & <dbl> & <dbl> & <dbl> & <dbl> & <dbl> & <dbl> & <dbl> & <dbl> & <int> & <int> & <dbl> & <int> & <dbl> & <dbl> & <dbl> & <dbl> & <dbl> & <dbl> & <dbl> & <dbl> & <dbl> & <dbl>\\\\\n",
       "\\hline\n",
       "\t1 & auc\\_seg2\\_glm\\_fb & l10\\_seg2\\_glm\\_fb & 1.0000000 & 5.000000e-01 & Japan         & Non China & 1 & 1 & 1 & EU    & 1 &   1 &   1.000000 &   0 &   0.000000 &        NaN &       NaN & 6 &  9 & 7.500000 &  3 & 2.121320 & 0.0000000 & -2.7500000 & 2.23 &   3.45 & 2.840000 &   1.22 &  0.8626703 &  3.890973e-16 & -2.7500000 & 1 &  1 & 1.000000 &  0 & 0.0000000 &      NaN &       NaN & 15.00 & 15.00 & 15.0000000 & 0.00 & 0.00000000 &       NaN &         NaN\\\\\n",
       "\t2 & NA              & NA              & 0.0000000 & 5.000000e-01 & China         & China     & 1 & 1 & 1 & EU    & 1 &   1 &   1.000000 &   0 &   0.000000 &        NaN &       NaN & 6 &  8 & 7.000000 &  2 & 1.414214 & 0.0000000 & -2.7500000 & 3.13 &   8.62 & 5.875000 &   5.49 &  3.8820162 & -1.821837e-16 & -2.7500000 & 1 &  1 & 1.000000 &  0 & 0.0000000 &      NaN &       NaN & 15.00 & 15.00 & 15.0000000 & 0.00 & 0.00000000 &       NaN &         NaN\\\\\n",
       "\t3 & auc\\_seg2\\_glm\\_fb & l10\\_seg2\\_glm\\_fb & 0.5000000 & 5.000000e-01 & United States & Non China & 1 & 1 & 1 & EU    & 1 &   1 &   1.000000 &   0 &   0.000000 &        NaN &       NaN & 7 &  7 & 7.000000 &  0 & 0.000000 &       NaN &        NaN & 4.51 &   6.09 & 5.300000 &   1.58 &  1.1172287 &  0.000000e+00 & -2.7500000 & 1 &  1 & 1.000000 &  0 & 0.0000000 &      NaN &       NaN &  5.00 &  5.00 &  5.0000000 & 0.00 & 0.00000000 &       NaN &         NaN\\\\\n",
       "\t4 & auc\\_agg\\_rf\\_fb   & l10\\_agg\\_rf\\_fb   & 0.2272727 & 4.545455e-02 & United States & Non China & 1 & 1 & 1 & EU    & 1 &   3 &   2.090909 &   2 &   1.019294 & -0.1702685 & -2.058471 & 4 & 14 & 7.363636 & 10 & 2.498484 & 0.8100072 &  0.4123014 & 0.59 & 100.00 & 9.425000 &  99.41 & 20.4690367 &  3.916190e+00 & 14.4351125 & 1 &  3 & 1.272727 &  2 & 0.7025002 & 1.976412 &  2.003371 &  0.50 &  0.50 &  0.5000000 & 0.00 & 0.00000000 &       NaN &         NaN\\\\\n",
       "\t5 & auc\\_agg\\_rf\\_fb   & l10\\_agg\\_rf\\_fb   & 0.0118080 & 5.492091e-05 & United States & Non China & 1 & 1 & 1 & China & 1 & 705 & 219.892025 & 704 & 156.107008 &  1.5055591 &  2.301106 & 3 & 38 & 6.956832 & 35 & 3.311960 & 2.9556282 & 13.5354533 & 0.00 & 100.00 & 6.320069 & 100.00 & 21.0541141 &  4.158734e+00 & 15.5656248 & 1 & 74 & 5.124341 & 73 & 9.7106897 & 4.178197 & 19.706420 &  0.75 &  4.75 &  0.7519112 & 4.00 & 0.07918874 & 48.370853 & 2363.819659\\\\\n",
       "\t6 & auc\\_agg\\_rf\\_fb   & l10\\_agg\\_rf\\_fb   & 0.0625000 & 6.250000e-02 & France        & Non China & 1 & 1 & 1 & China & 1 &   1 &   1.000000 &   0 &   0.000000 &        NaN &       NaN & 4 & 13 & 7.375000 &  9 & 2.604483 & 0.3561975 & -0.8500916 & 0.24 &  13.58 & 4.647500 &  13.34 &  3.3497910 &  1.008842e+00 &  0.7044306 & 1 &  1 & 1.000000 &  0 & 0.0000000 &      NaN &       NaN &  0.75 &  8.50 &  1.2656250 & 7.75 & 1.92931065 &  3.280409 &    9.359645\\\\\n",
       "\\end{tabular}\n"
      ],
      "text/markdown": [
       "\n",
       "A data.frame: 6 × 45\n",
       "\n",
       "| <!--/--> | auc_win_01 &lt;chr&gt; | l10_win_01 &lt;chr&gt; | ren_prp &lt;dbl&gt; | tld_rat &lt;dbl&gt; | country_maj &lt;chr&gt; | region_maj &lt;chr&gt; | country_cnt &lt;int&gt; | region_cnt &lt;int&gt; | geo_cnt &lt;int&gt; | geo_maj &lt;fct&gt; | daydom_min &lt;int&gt; | daydom_max &lt;int&gt; | daydom_mean &lt;dbl&gt; | daydom_rng &lt;int&gt; | daydom_std &lt;dbl&gt; | daydom_skew &lt;dbl&gt; | daydom_kurt &lt;dbl&gt; | sldlen_min &lt;int&gt; | sldlen_max &lt;int&gt; | sldlen_mean &lt;dbl&gt; | sldlen_rng &lt;int&gt; | sldlen_std &lt;dbl&gt; | sldlen_skew &lt;dbl&gt; | sldlen_kurt &lt;dbl&gt; | gibbs_min &lt;dbl&gt; | gibbs_max &lt;dbl&gt; | gibbs_mean &lt;dbl&gt; | gibbs_rng &lt;dbl&gt; | gibbs_std &lt;dbl&gt; | gibbs_skew &lt;dbl&gt; | gibbs_kurt &lt;dbl&gt; | pdcnt_min &lt;int&gt; | pdcnt_max &lt;int&gt; | pdcnt_mean &lt;dbl&gt; | pdcnt_rng &lt;int&gt; | pdcnt_std &lt;dbl&gt; | pdcnt_skew &lt;dbl&gt; | pdcnt_kurt &lt;dbl&gt; | regarpt_min &lt;dbl&gt; | regarpt_max &lt;dbl&gt; | regarpt_mean &lt;dbl&gt; | regarpt_rng &lt;dbl&gt; | regarpt_std &lt;dbl&gt; | regarpt_skew &lt;dbl&gt; | regarpt_kurt &lt;dbl&gt; |\n",
       "|---|---|---|---|---|---|---|---|---|---|---|---|---|---|---|---|---|---|---|---|---|---|---|---|---|---|---|---|---|---|---|---|---|---|---|---|---|---|---|---|---|---|---|---|---|---|\n",
       "| 1 | auc_seg2_glm_fb | l10_seg2_glm_fb | 1.0000000 | 5.000000e-01 | Japan         | Non China | 1 | 1 | 1 | EU    | 1 |   1 |   1.000000 |   0 |   0.000000 |        NaN |       NaN | 6 |  9 | 7.500000 |  3 | 2.121320 | 0.0000000 | -2.7500000 | 2.23 |   3.45 | 2.840000 |   1.22 |  0.8626703 |  3.890973e-16 | -2.7500000 | 1 |  1 | 1.000000 |  0 | 0.0000000 |      NaN |       NaN | 15.00 | 15.00 | 15.0000000 | 0.00 | 0.00000000 |       NaN |         NaN |\n",
       "| 2 | NA              | NA              | 0.0000000 | 5.000000e-01 | China         | China     | 1 | 1 | 1 | EU    | 1 |   1 |   1.000000 |   0 |   0.000000 |        NaN |       NaN | 6 |  8 | 7.000000 |  2 | 1.414214 | 0.0000000 | -2.7500000 | 3.13 |   8.62 | 5.875000 |   5.49 |  3.8820162 | -1.821837e-16 | -2.7500000 | 1 |  1 | 1.000000 |  0 | 0.0000000 |      NaN |       NaN | 15.00 | 15.00 | 15.0000000 | 0.00 | 0.00000000 |       NaN |         NaN |\n",
       "| 3 | auc_seg2_glm_fb | l10_seg2_glm_fb | 0.5000000 | 5.000000e-01 | United States | Non China | 1 | 1 | 1 | EU    | 1 |   1 |   1.000000 |   0 |   0.000000 |        NaN |       NaN | 7 |  7 | 7.000000 |  0 | 0.000000 |       NaN |        NaN | 4.51 |   6.09 | 5.300000 |   1.58 |  1.1172287 |  0.000000e+00 | -2.7500000 | 1 |  1 | 1.000000 |  0 | 0.0000000 |      NaN |       NaN |  5.00 |  5.00 |  5.0000000 | 0.00 | 0.00000000 |       NaN |         NaN |\n",
       "| 4 | auc_agg_rf_fb   | l10_agg_rf_fb   | 0.2272727 | 4.545455e-02 | United States | Non China | 1 | 1 | 1 | EU    | 1 |   3 |   2.090909 |   2 |   1.019294 | -0.1702685 | -2.058471 | 4 | 14 | 7.363636 | 10 | 2.498484 | 0.8100072 |  0.4123014 | 0.59 | 100.00 | 9.425000 |  99.41 | 20.4690367 |  3.916190e+00 | 14.4351125 | 1 |  3 | 1.272727 |  2 | 0.7025002 | 1.976412 |  2.003371 |  0.50 |  0.50 |  0.5000000 | 0.00 | 0.00000000 |       NaN |         NaN |\n",
       "| 5 | auc_agg_rf_fb   | l10_agg_rf_fb   | 0.0118080 | 5.492091e-05 | United States | Non China | 1 | 1 | 1 | China | 1 | 705 | 219.892025 | 704 | 156.107008 |  1.5055591 |  2.301106 | 3 | 38 | 6.956832 | 35 | 3.311960 | 2.9556282 | 13.5354533 | 0.00 | 100.00 | 6.320069 | 100.00 | 21.0541141 |  4.158734e+00 | 15.5656248 | 1 | 74 | 5.124341 | 73 | 9.7106897 | 4.178197 | 19.706420 |  0.75 |  4.75 |  0.7519112 | 4.00 | 0.07918874 | 48.370853 | 2363.819659 |\n",
       "| 6 | auc_agg_rf_fb   | l10_agg_rf_fb   | 0.0625000 | 6.250000e-02 | France        | Non China | 1 | 1 | 1 | China | 1 |   1 |   1.000000 |   0 |   0.000000 |        NaN |       NaN | 4 | 13 | 7.375000 |  9 | 2.604483 | 0.3561975 | -0.8500916 | 0.24 |  13.58 | 4.647500 |  13.34 |  3.3497910 |  1.008842e+00 |  0.7044306 | 1 |  1 | 1.000000 |  0 | 0.0000000 |      NaN |       NaN |  0.75 |  8.50 |  1.2656250 | 7.75 | 1.92931065 |  3.280409 |    9.359645 |\n",
       "\n"
      ],
      "text/plain": [
       "  auc_win_01      l10_win_01      ren_prp   tld_rat      country_maj  \n",
       "1 auc_seg2_glm_fb l10_seg2_glm_fb 1.0000000 5.000000e-01 Japan        \n",
       "2 NA              NA              0.0000000 5.000000e-01 China        \n",
       "3 auc_seg2_glm_fb l10_seg2_glm_fb 0.5000000 5.000000e-01 United States\n",
       "4 auc_agg_rf_fb   l10_agg_rf_fb   0.2272727 4.545455e-02 United States\n",
       "5 auc_agg_rf_fb   l10_agg_rf_fb   0.0118080 5.492091e-05 United States\n",
       "6 auc_agg_rf_fb   l10_agg_rf_fb   0.0625000 6.250000e-02 France       \n",
       "  region_maj country_cnt region_cnt geo_cnt geo_maj daydom_min daydom_max\n",
       "1 Non China  1           1          1       EU      1            1       \n",
       "2 China      1           1          1       EU      1            1       \n",
       "3 Non China  1           1          1       EU      1            1       \n",
       "4 Non China  1           1          1       EU      1            3       \n",
       "5 Non China  1           1          1       China   1          705       \n",
       "6 Non China  1           1          1       China   1            1       \n",
       "  daydom_mean daydom_rng daydom_std daydom_skew daydom_kurt sldlen_min\n",
       "1   1.000000    0          0.000000        NaN        NaN   6         \n",
       "2   1.000000    0          0.000000        NaN        NaN   6         \n",
       "3   1.000000    0          0.000000        NaN        NaN   7         \n",
       "4   2.090909    2          1.019294 -0.1702685  -2.058471   4         \n",
       "5 219.892025  704        156.107008  1.5055591   2.301106   3         \n",
       "6   1.000000    0          0.000000        NaN        NaN   4         \n",
       "  sldlen_max sldlen_mean sldlen_rng sldlen_std sldlen_skew sldlen_kurt\n",
       "1  9         7.500000     3         2.121320   0.0000000   -2.7500000 \n",
       "2  8         7.000000     2         1.414214   0.0000000   -2.7500000 \n",
       "3  7         7.000000     0         0.000000         NaN          NaN \n",
       "4 14         7.363636    10         2.498484   0.8100072    0.4123014 \n",
       "5 38         6.956832    35         3.311960   2.9556282   13.5354533 \n",
       "6 13         7.375000     9         2.604483   0.3561975   -0.8500916 \n",
       "  gibbs_min gibbs_max gibbs_mean gibbs_rng gibbs_std  gibbs_skew    gibbs_kurt\n",
       "1 2.23        3.45    2.840000     1.22     0.8626703  3.890973e-16 -2.7500000\n",
       "2 3.13        8.62    5.875000     5.49     3.8820162 -1.821837e-16 -2.7500000\n",
       "3 4.51        6.09    5.300000     1.58     1.1172287  0.000000e+00 -2.7500000\n",
       "4 0.59      100.00    9.425000    99.41    20.4690367  3.916190e+00 14.4351125\n",
       "5 0.00      100.00    6.320069   100.00    21.0541141  4.158734e+00 15.5656248\n",
       "6 0.24       13.58    4.647500    13.34     3.3497910  1.008842e+00  0.7044306\n",
       "  pdcnt_min pdcnt_max pdcnt_mean pdcnt_rng pdcnt_std pdcnt_skew pdcnt_kurt\n",
       "1 1          1        1.000000    0        0.0000000      NaN         NaN \n",
       "2 1          1        1.000000    0        0.0000000      NaN         NaN \n",
       "3 1          1        1.000000    0        0.0000000      NaN         NaN \n",
       "4 1          3        1.272727    2        0.7025002 1.976412    2.003371 \n",
       "5 1         74        5.124341   73        9.7106897 4.178197   19.706420 \n",
       "6 1          1        1.000000    0        0.0000000      NaN         NaN \n",
       "  regarpt_min regarpt_max regarpt_mean regarpt_rng regarpt_std regarpt_skew\n",
       "1 15.00       15.00       15.0000000   0.00        0.00000000        NaN   \n",
       "2 15.00       15.00       15.0000000   0.00        0.00000000        NaN   \n",
       "3  5.00        5.00        5.0000000   0.00        0.00000000        NaN   \n",
       "4  0.50        0.50        0.5000000   0.00        0.00000000        NaN   \n",
       "5  0.75        4.75        0.7519112   4.00        0.07918874  48.370853   \n",
       "6  0.75        8.50        1.2656250   7.75        1.92931065   3.280409   \n",
       "  regarpt_kurt\n",
       "1         NaN \n",
       "2         NaN \n",
       "3         NaN \n",
       "4         NaN \n",
       "5 2363.819659 \n",
       "6    9.359645 "
      ]
     },
     "metadata": {},
     "output_type": "display_data"
    }
   ],
   "source": [
    "expiry_test_metametrics_sub = expiry_test_metametrics %>% \n",
    "  select('auc_win_01', 'l10_win_01',\n",
    "         'ren_prp','tld_rat',\n",
    "         'country_maj','region_maj','country_cnt','region_cnt',\n",
    "         'geo_cnt', 'geo_maj',\n",
    "         'daydom_min','daydom_max','daydom_mean','daydom_rng','daydom_std','daydom_skew','daydom_kurt',\n",
    "         'sldlen_min','sldlen_max','sldlen_mean','sldlen_rng','sldlen_std','sldlen_skew','sldlen_kurt',\n",
    "         'gibbs_min','gibbs_max','gibbs_mean','gibbs_rng','gibbs_std','gibbs_skew','gibbs_kurt',\n",
    "         'pdcnt_min','pdcnt_max','pdcnt_mean','pdcnt_rng','pdcnt_std','pdcnt_skew','pdcnt_kurt',\n",
    "         'regarpt_min','regarpt_max','regarpt_mean','regarpt_rng','regarpt_std','regarpt_skew','regarpt_kurt')\n",
    "head(expiry_test_metametrics_sub)"
   ]
  },
  {
   "cell_type": "markdown",
   "metadata": {},
   "source": [
    "## Impute Missing Values"
   ]
  },
  {
   "cell_type": "code",
   "execution_count": 265,
   "metadata": {},
   "outputs": [
    {
     "data": {
      "text/html": [
       "<table>\n",
       "<caption>A matrix: 45 × 1 of type int</caption>\n",
       "<tbody>\n",
       "\t<tr><th scope=row>auc_win_01</th><td>307</td></tr>\n",
       "\t<tr><th scope=row>l10_win_01</th><td>307</td></tr>\n",
       "\t<tr><th scope=row>ren_prp</th><td>  0</td></tr>\n",
       "\t<tr><th scope=row>tld_rat</th><td>  0</td></tr>\n",
       "\t<tr><th scope=row>country_maj</th><td>  0</td></tr>\n",
       "\t<tr><th scope=row>region_maj</th><td>  0</td></tr>\n",
       "\t<tr><th scope=row>country_cnt</th><td>  0</td></tr>\n",
       "\t<tr><th scope=row>region_cnt</th><td>  0</td></tr>\n",
       "\t<tr><th scope=row>geo_cnt</th><td>  0</td></tr>\n",
       "\t<tr><th scope=row>geo_maj</th><td> 43</td></tr>\n",
       "\t<tr><th scope=row>daydom_min</th><td>  0</td></tr>\n",
       "\t<tr><th scope=row>daydom_max</th><td>  0</td></tr>\n",
       "\t<tr><th scope=row>daydom_mean</th><td>  0</td></tr>\n",
       "\t<tr><th scope=row>daydom_rng</th><td>  0</td></tr>\n",
       "\t<tr><th scope=row>daydom_std</th><td>258</td></tr>\n",
       "\t<tr><th scope=row>daydom_skew</th><td>649</td></tr>\n",
       "\t<tr><th scope=row>daydom_kurt</th><td>649</td></tr>\n",
       "\t<tr><th scope=row>sldlen_min</th><td>  0</td></tr>\n",
       "\t<tr><th scope=row>sldlen_max</th><td>  0</td></tr>\n",
       "\t<tr><th scope=row>sldlen_mean</th><td>  0</td></tr>\n",
       "\t<tr><th scope=row>sldlen_rng</th><td>  0</td></tr>\n",
       "\t<tr><th scope=row>sldlen_std</th><td>258</td></tr>\n",
       "\t<tr><th scope=row>sldlen_skew</th><td>275</td></tr>\n",
       "\t<tr><th scope=row>sldlen_kurt</th><td>275</td></tr>\n",
       "\t<tr><th scope=row>gibbs_min</th><td>  0</td></tr>\n",
       "\t<tr><th scope=row>gibbs_max</th><td>  0</td></tr>\n",
       "\t<tr><th scope=row>gibbs_mean</th><td>  0</td></tr>\n",
       "\t<tr><th scope=row>gibbs_rng</th><td>  0</td></tr>\n",
       "\t<tr><th scope=row>gibbs_std</th><td>258</td></tr>\n",
       "\t<tr><th scope=row>gibbs_skew</th><td>260</td></tr>\n",
       "\t<tr><th scope=row>gibbs_kurt</th><td>260</td></tr>\n",
       "\t<tr><th scope=row>pdcnt_min</th><td>  0</td></tr>\n",
       "\t<tr><th scope=row>pdcnt_max</th><td>  0</td></tr>\n",
       "\t<tr><th scope=row>pdcnt_mean</th><td>  0</td></tr>\n",
       "\t<tr><th scope=row>pdcnt_rng</th><td>  0</td></tr>\n",
       "\t<tr><th scope=row>pdcnt_std</th><td>258</td></tr>\n",
       "\t<tr><th scope=row>pdcnt_skew</th><td>951</td></tr>\n",
       "\t<tr><th scope=row>pdcnt_kurt</th><td>951</td></tr>\n",
       "\t<tr><th scope=row>regarpt_min</th><td>  0</td></tr>\n",
       "\t<tr><th scope=row>regarpt_max</th><td>  0</td></tr>\n",
       "\t<tr><th scope=row>regarpt_mean</th><td>  0</td></tr>\n",
       "\t<tr><th scope=row>regarpt_rng</th><td>  0</td></tr>\n",
       "\t<tr><th scope=row>regarpt_std</th><td>258</td></tr>\n",
       "\t<tr><th scope=row>regarpt_skew</th><td>915</td></tr>\n",
       "\t<tr><th scope=row>regarpt_kurt</th><td>915</td></tr>\n",
       "</tbody>\n",
       "</table>\n"
      ],
      "text/latex": [
       "A matrix: 45 × 1 of type int\n",
       "\\begin{tabular}{r|l}\n",
       "\tauc\\_win\\_01 & 307\\\\\n",
       "\tl10\\_win\\_01 & 307\\\\\n",
       "\tren\\_prp &   0\\\\\n",
       "\ttld\\_rat &   0\\\\\n",
       "\tcountry\\_maj &   0\\\\\n",
       "\tregion\\_maj &   0\\\\\n",
       "\tcountry\\_cnt &   0\\\\\n",
       "\tregion\\_cnt &   0\\\\\n",
       "\tgeo\\_cnt &   0\\\\\n",
       "\tgeo\\_maj &  43\\\\\n",
       "\tdaydom\\_min &   0\\\\\n",
       "\tdaydom\\_max &   0\\\\\n",
       "\tdaydom\\_mean &   0\\\\\n",
       "\tdaydom\\_rng &   0\\\\\n",
       "\tdaydom\\_std & 258\\\\\n",
       "\tdaydom\\_skew & 649\\\\\n",
       "\tdaydom\\_kurt & 649\\\\\n",
       "\tsldlen\\_min &   0\\\\\n",
       "\tsldlen\\_max &   0\\\\\n",
       "\tsldlen\\_mean &   0\\\\\n",
       "\tsldlen\\_rng &   0\\\\\n",
       "\tsldlen\\_std & 258\\\\\n",
       "\tsldlen\\_skew & 275\\\\\n",
       "\tsldlen\\_kurt & 275\\\\\n",
       "\tgibbs\\_min &   0\\\\\n",
       "\tgibbs\\_max &   0\\\\\n",
       "\tgibbs\\_mean &   0\\\\\n",
       "\tgibbs\\_rng &   0\\\\\n",
       "\tgibbs\\_std & 258\\\\\n",
       "\tgibbs\\_skew & 260\\\\\n",
       "\tgibbs\\_kurt & 260\\\\\n",
       "\tpdcnt\\_min &   0\\\\\n",
       "\tpdcnt\\_max &   0\\\\\n",
       "\tpdcnt\\_mean &   0\\\\\n",
       "\tpdcnt\\_rng &   0\\\\\n",
       "\tpdcnt\\_std & 258\\\\\n",
       "\tpdcnt\\_skew & 951\\\\\n",
       "\tpdcnt\\_kurt & 951\\\\\n",
       "\tregarpt\\_min &   0\\\\\n",
       "\tregarpt\\_max &   0\\\\\n",
       "\tregarpt\\_mean &   0\\\\\n",
       "\tregarpt\\_rng &   0\\\\\n",
       "\tregarpt\\_std & 258\\\\\n",
       "\tregarpt\\_skew & 915\\\\\n",
       "\tregarpt\\_kurt & 915\\\\\n",
       "\\end{tabular}\n"
      ],
      "text/markdown": [
       "\n",
       "A matrix: 45 × 1 of type int\n",
       "\n",
       "| auc_win_01 | 307 |\n",
       "| l10_win_01 | 307 |\n",
       "| ren_prp |   0 |\n",
       "| tld_rat |   0 |\n",
       "| country_maj |   0 |\n",
       "| region_maj |   0 |\n",
       "| country_cnt |   0 |\n",
       "| region_cnt |   0 |\n",
       "| geo_cnt |   0 |\n",
       "| geo_maj |  43 |\n",
       "| daydom_min |   0 |\n",
       "| daydom_max |   0 |\n",
       "| daydom_mean |   0 |\n",
       "| daydom_rng |   0 |\n",
       "| daydom_std | 258 |\n",
       "| daydom_skew | 649 |\n",
       "| daydom_kurt | 649 |\n",
       "| sldlen_min |   0 |\n",
       "| sldlen_max |   0 |\n",
       "| sldlen_mean |   0 |\n",
       "| sldlen_rng |   0 |\n",
       "| sldlen_std | 258 |\n",
       "| sldlen_skew | 275 |\n",
       "| sldlen_kurt | 275 |\n",
       "| gibbs_min |   0 |\n",
       "| gibbs_max |   0 |\n",
       "| gibbs_mean |   0 |\n",
       "| gibbs_rng |   0 |\n",
       "| gibbs_std | 258 |\n",
       "| gibbs_skew | 260 |\n",
       "| gibbs_kurt | 260 |\n",
       "| pdcnt_min |   0 |\n",
       "| pdcnt_max |   0 |\n",
       "| pdcnt_mean |   0 |\n",
       "| pdcnt_rng |   0 |\n",
       "| pdcnt_std | 258 |\n",
       "| pdcnt_skew | 951 |\n",
       "| pdcnt_kurt | 951 |\n",
       "| regarpt_min |   0 |\n",
       "| regarpt_max |   0 |\n",
       "| regarpt_mean |   0 |\n",
       "| regarpt_rng |   0 |\n",
       "| regarpt_std | 258 |\n",
       "| regarpt_skew | 915 |\n",
       "| regarpt_kurt | 915 |\n",
       "\n"
      ],
      "text/plain": [
       "             [,1]\n",
       "auc_win_01   307 \n",
       "l10_win_01   307 \n",
       "ren_prp        0 \n",
       "tld_rat        0 \n",
       "country_maj    0 \n",
       "region_maj     0 \n",
       "country_cnt    0 \n",
       "region_cnt     0 \n",
       "geo_cnt        0 \n",
       "geo_maj       43 \n",
       "daydom_min     0 \n",
       "daydom_max     0 \n",
       "daydom_mean    0 \n",
       "daydom_rng     0 \n",
       "daydom_std   258 \n",
       "daydom_skew  649 \n",
       "daydom_kurt  649 \n",
       "sldlen_min     0 \n",
       "sldlen_max     0 \n",
       "sldlen_mean    0 \n",
       "sldlen_rng     0 \n",
       "sldlen_std   258 \n",
       "sldlen_skew  275 \n",
       "sldlen_kurt  275 \n",
       "gibbs_min      0 \n",
       "gibbs_max      0 \n",
       "gibbs_mean     0 \n",
       "gibbs_rng      0 \n",
       "gibbs_std    258 \n",
       "gibbs_skew   260 \n",
       "gibbs_kurt   260 \n",
       "pdcnt_min      0 \n",
       "pdcnt_max      0 \n",
       "pdcnt_mean     0 \n",
       "pdcnt_rng      0 \n",
       "pdcnt_std    258 \n",
       "pdcnt_skew   951 \n",
       "pdcnt_kurt   951 \n",
       "regarpt_min    0 \n",
       "regarpt_max    0 \n",
       "regarpt_mean   0 \n",
       "regarpt_rng    0 \n",
       "regarpt_std  258 \n",
       "regarpt_skew 915 \n",
       "regarpt_kurt 915 "
      ]
     },
     "metadata": {},
     "output_type": "display_data"
    }
   ],
   "source": [
    "expiry_test_metametrics_sub %>%\n",
    "  select(everything()) %>%  \n",
    "  summarise_all(funs(sum(is.na(.)))) %>%  \n",
    "  t() "
   ]
  },
  {
   "cell_type": "code",
   "execution_count": 266,
   "metadata": {},
   "outputs": [],
   "source": [
    "# install.packages(\"missRanger\")\n",
    "library(missRanger)"
   ]
  },
  {
   "cell_type": "code",
   "execution_count": 267,
   "metadata": {},
   "outputs": [
    {
     "name": "stdout",
     "output_type": "stream",
     "text": [
      "\n",
      "Missing value imputation by random forests\n",
      "\n",
      "  Variables to impute:\t\tauc_win_01, l10_win_01, geo_maj, daydom_std, daydom_skew, daydom_kurt, sldlen_std, sldlen_skew, sldlen_kurt, gibbs_std, gibbs_skew, gibbs_kurt, pdcnt_std, pdcnt_skew, pdcnt_kurt, regarpt_std, regarpt_skew, regarpt_kurt\n",
      "  Variables used to impute:\tauc_win_01, l10_win_01, ren_prp, tld_rat, country_maj, region_maj, country_cnt, region_cnt, geo_cnt, geo_maj, daydom_min, daydom_max, daydom_mean, daydom_rng, daydom_std, daydom_skew, daydom_kurt, sldlen_min, sldlen_max, sldlen_mean, sldlen_rng, sldlen_std, sldlen_skew, sldlen_kurt, gibbs_min, gibbs_max, gibbs_mean, gibbs_rng, gibbs_std, gibbs_skew, gibbs_kurt, pdcnt_min, pdcnt_max, pdcnt_mean, pdcnt_rng, pdcnt_std, pdcnt_skew, pdcnt_kurt, regarpt_min, regarpt_max, regarpt_mean, regarpt_rng, regarpt_std, regarpt_skew, regarpt_kurt\n",
      "iter 1:\t"
     ]
    },
    {
     "name": "stderr",
     "output_type": "stream",
     "text": [
      "Warning message:\n",
      "“Dropped unused factor level(s) in dependent variable: Middle East.”\n"
     ]
    },
    {
     "name": "stdout",
     "output_type": "stream",
     "text": [
      "..................\n",
      "iter 2:\t"
     ]
    },
    {
     "name": "stderr",
     "output_type": "stream",
     "text": [
      "Warning message:\n",
      "“Dropped unused factor level(s) in dependent variable: Middle East.”\n"
     ]
    },
    {
     "name": "stdout",
     "output_type": "stream",
     "text": [
      "..................\n",
      "iter 3:\t"
     ]
    },
    {
     "name": "stderr",
     "output_type": "stream",
     "text": [
      "Warning message:\n",
      "“Dropped unused factor level(s) in dependent variable: Middle East.”\n"
     ]
    },
    {
     "name": "stdout",
     "output_type": "stream",
     "text": [
      "..................\n",
      "iter 4:\t"
     ]
    },
    {
     "name": "stderr",
     "output_type": "stream",
     "text": [
      "Warning message:\n",
      "“Dropped unused factor level(s) in dependent variable: Middle East.”\n"
     ]
    },
    {
     "name": "stdout",
     "output_type": "stream",
     "text": [
      "..................\n"
     ]
    }
   ],
   "source": [
    "expiry_test_metametrics_sub_imp <- missRanger(expiry_test_metametrics_sub, num.trees = 100)"
   ]
  },
  {
   "cell_type": "code",
   "execution_count": 268,
   "metadata": {},
   "outputs": [
    {
     "name": "stdout",
     "output_type": "stream",
     "text": [
      " Factor w/ 2 levels \"auc_agg_rf_fb\",..: 2 2 2 1 1 1 1 2 2 2 ...\n",
      " Factor w/ 2 levels \"auc_seg2_glm_fb\",..: 1 1 1 2 2 2 2 1 1 1 ...\n"
     ]
    }
   ],
   "source": [
    "expiry_test_metametrics_sub_imp$auc_win_01 <- factor(expiry_test_metametrics_sub_imp$auc_win_01)\n",
    "str(expiry_test_metametrics_sub_imp$auc_win_01)\n",
    "expiry_test_metametrics_sub_imp$auc_win_01 <- relevel(expiry_test_metametrics_sub_imp$auc_win_01, ref=2)\n",
    "str(expiry_test_metametrics_sub_imp$auc_win_01)"
   ]
  },
  {
   "cell_type": "code",
   "execution_count": 269,
   "metadata": {},
   "outputs": [],
   "source": [
    "set.seed(123) \n",
    "smp_siz = floor(0.8*nrow(expiry_test_metametrics_sub_imp))\n",
    "train_ind = sample(seq_len(nrow(expiry_test_metametrics_sub_imp)),size = smp_siz) \n",
    "train = expiry_test_metametrics_sub_imp[train_ind,] \n",
    "test = expiry_test_metametrics_sub_imp[-train_ind,]  "
   ]
  },
  {
   "cell_type": "markdown",
   "metadata": {},
   "source": [
    "## RF binary auc"
   ]
  },
  {
   "cell_type": "code",
   "execution_count": 270,
   "metadata": {},
   "outputs": [],
   "source": [
    "library(ranger) "
   ]
  },
  {
   "cell_type": "code",
   "execution_count": 271,
   "metadata": {},
   "outputs": [],
   "source": [
    "model <- ranger(formula         = auc_win_01 ~ ., \n",
    "                data            = subset(train, select = -c(l10_win_01) ), \n",
    "                importance = 'impurity', \n",
    "                num.trees       = 500,\n",
    "                probability = TRUE,\n",
    "                replace = FALSE,\n",
    "                sample.fraction = .8,\n",
    "                seed            = 123,\n",
    "                respect.unordered.factors=TRUE)"
   ]
  },
  {
   "cell_type": "code",
   "execution_count": 272,
   "metadata": {},
   "outputs": [
    {
     "data": {
      "text/html": [
       "<style>\n",
       ".list-inline {list-style: none; margin:0; padding: 0}\n",
       ".list-inline>li {display: inline-block}\n",
       ".list-inline>li:not(:last-child)::after {content: \"\\00b7\"; padding: 0 .5ex}\n",
       "</style>\n",
       "<ol class=list-inline><li>'auc_seg2_glm_fb'</li><li>'auc_agg_rf_fb'</li></ol>\n"
      ],
      "text/latex": [
       "\\begin{enumerate*}\n",
       "\\item 'auc\\_seg2\\_glm\\_fb'\n",
       "\\item 'auc\\_agg\\_rf\\_fb'\n",
       "\\end{enumerate*}\n"
      ],
      "text/markdown": [
       "1. 'auc_seg2_glm_fb'\n",
       "2. 'auc_agg_rf_fb'\n",
       "\n",
       "\n"
      ],
      "text/plain": [
       "[1] \"auc_seg2_glm_fb\" \"auc_agg_rf_fb\"  "
      ]
     },
     "metadata": {},
     "output_type": "display_data"
    },
    {
     "data": {
      "text/html": [],
      "text/latex": [],
      "text/markdown": [],
      "text/plain": [
       "character(0)"
      ]
     },
     "metadata": {},
     "output_type": "display_data"
    }
   ],
   "source": [
    "levels(factor(test$auc_win_01))\n",
    "levels(factor(pred$auc_win_01))"
   ]
  },
  {
   "cell_type": "code",
   "execution_count": 273,
   "metadata": {},
   "outputs": [],
   "source": [
    "pred <- predict(model, \n",
    "                data = test,\n",
    "                type=\"response\")$predictions"
   ]
  },
  {
   "cell_type": "code",
   "execution_count": 274,
   "metadata": {},
   "outputs": [
    {
     "data": {
      "text/html": [
       "<table>\n",
       "<caption>A data.frame: 6 × 3</caption>\n",
       "<thead>\n",
       "\t<tr><th></th><th scope=col>auc_seg2_glm_fb</th><th scope=col>auc_agg_rf_fb</th><th scope=col>auc_win_01</th></tr>\n",
       "\t<tr><th></th><th scope=col>&lt;dbl&gt;</th><th scope=col>&lt;dbl&gt;</th><th scope=col>&lt;chr&gt;</th></tr>\n",
       "</thead>\n",
       "<tbody>\n",
       "\t<tr><th scope=row>1</th><td>0.8815460</td><td>0.1184540</td><td>auc_seg2_glm_fb</td></tr>\n",
       "\t<tr><th scope=row>2</th><td>0.6917873</td><td>0.3082127</td><td>auc_seg2_glm_fb</td></tr>\n",
       "\t<tr><th scope=row>3</th><td>0.4789294</td><td>0.5210706</td><td>auc_agg_rf_fb  </td></tr>\n",
       "\t<tr><th scope=row>4</th><td>0.4839317</td><td>0.5160683</td><td>auc_agg_rf_fb  </td></tr>\n",
       "\t<tr><th scope=row>5</th><td>0.6425325</td><td>0.3574675</td><td>auc_seg2_glm_fb</td></tr>\n",
       "\t<tr><th scope=row>6</th><td>0.9331873</td><td>0.0668127</td><td>auc_seg2_glm_fb</td></tr>\n",
       "</tbody>\n",
       "</table>\n"
      ],
      "text/latex": [
       "A data.frame: 6 × 3\n",
       "\\begin{tabular}{r|lll}\n",
       "  & auc\\_seg2\\_glm\\_fb & auc\\_agg\\_rf\\_fb & auc\\_win\\_01\\\\\n",
       "  & <dbl> & <dbl> & <chr>\\\\\n",
       "\\hline\n",
       "\t1 & 0.8815460 & 0.1184540 & auc\\_seg2\\_glm\\_fb\\\\\n",
       "\t2 & 0.6917873 & 0.3082127 & auc\\_seg2\\_glm\\_fb\\\\\n",
       "\t3 & 0.4789294 & 0.5210706 & auc\\_agg\\_rf\\_fb  \\\\\n",
       "\t4 & 0.4839317 & 0.5160683 & auc\\_agg\\_rf\\_fb  \\\\\n",
       "\t5 & 0.6425325 & 0.3574675 & auc\\_seg2\\_glm\\_fb\\\\\n",
       "\t6 & 0.9331873 & 0.0668127 & auc\\_seg2\\_glm\\_fb\\\\\n",
       "\\end{tabular}\n"
      ],
      "text/markdown": [
       "\n",
       "A data.frame: 6 × 3\n",
       "\n",
       "| <!--/--> | auc_seg2_glm_fb &lt;dbl&gt; | auc_agg_rf_fb &lt;dbl&gt; | auc_win_01 &lt;chr&gt; |\n",
       "|---|---|---|---|\n",
       "| 1 | 0.8815460 | 0.1184540 | auc_seg2_glm_fb |\n",
       "| 2 | 0.6917873 | 0.3082127 | auc_seg2_glm_fb |\n",
       "| 3 | 0.4789294 | 0.5210706 | auc_agg_rf_fb   |\n",
       "| 4 | 0.4839317 | 0.5160683 | auc_agg_rf_fb   |\n",
       "| 5 | 0.6425325 | 0.3574675 | auc_seg2_glm_fb |\n",
       "| 6 | 0.9331873 | 0.0668127 | auc_seg2_glm_fb |\n",
       "\n"
      ],
      "text/plain": [
       "  auc_seg2_glm_fb auc_agg_rf_fb auc_win_01     \n",
       "1 0.8815460       0.1184540     auc_seg2_glm_fb\n",
       "2 0.6917873       0.3082127     auc_seg2_glm_fb\n",
       "3 0.4789294       0.5210706     auc_agg_rf_fb  \n",
       "4 0.4839317       0.5160683     auc_agg_rf_fb  \n",
       "5 0.6425325       0.3574675     auc_seg2_glm_fb\n",
       "6 0.9331873       0.0668127     auc_seg2_glm_fb"
      ]
     },
     "metadata": {},
     "output_type": "display_data"
    }
   ],
   "source": [
    "pred <- as.data.frame(pred)\n",
    "auc_vars <- names(pred)\n",
    "pred <- pred %>%\n",
    "    mutate (auc_win_01=sapply(apply(.[,c(auc_vars)], \n",
    "                          1, function(x) names(x)[which.max(x)]) , \n",
    "                                    function(s) if (length(s) == 0) NA else paste(s, collapse = \" \")) \n",
    "            ) \n",
    "head(pred)"
   ]
  },
  {
   "cell_type": "code",
   "execution_count": 275,
   "metadata": {},
   "outputs": [
    {
     "data": {
      "text/plain": [
       "\n",
       "  auc_agg_rf_fb auc_seg2_glm_fb \n",
       "             66             215 "
      ]
     },
     "metadata": {},
     "output_type": "display_data"
    }
   ],
   "source": [
    "table(pred$auc_win_01)"
   ]
  },
  {
   "cell_type": "code",
   "execution_count": 276,
   "metadata": {},
   "outputs": [
    {
     "data": {
      "text/plain": [
       "                 \n",
       "                  auc_agg_rf_fb auc_seg2_glm_fb\n",
       "  auc_seg2_glm_fb            26             165\n",
       "  auc_agg_rf_fb              40              50"
      ]
     },
     "metadata": {},
     "output_type": "display_data"
    }
   ],
   "source": [
    "xtab <- table(test$auc_win_01, pred$auc_win_01)\n",
    "xtab"
   ]
  },
  {
   "cell_type": "code",
   "execution_count": 277,
   "metadata": {},
   "outputs": [
    {
     "data": {
      "text/plain": [
       "Confusion Matrix and Statistics\n",
       "\n",
       "                 Reference\n",
       "Prediction        auc_seg2_glm_fb auc_agg_rf_fb\n",
       "  auc_seg2_glm_fb             165            26\n",
       "  auc_agg_rf_fb                50            40\n",
       "                                          \n",
       "               Accuracy : 0.7295          \n",
       "                 95% CI : (0.6736, 0.7806)\n",
       "    No Information Rate : 0.7651          \n",
       "    P-Value [Acc > NIR] : 0.928443        \n",
       "                                          \n",
       "                  Kappa : 0.3317          \n",
       "                                          \n",
       " Mcnemar's Test P-Value : 0.008333        \n",
       "                                          \n",
       "            Sensitivity : 0.7674          \n",
       "            Specificity : 0.6061          \n",
       "         Pos Pred Value : 0.8639          \n",
       "         Neg Pred Value : 0.4444          \n",
       "             Prevalence : 0.7651          \n",
       "         Detection Rate : 0.5872          \n",
       "   Detection Prevalence : 0.6797          \n",
       "      Balanced Accuracy : 0.6868          \n",
       "                                          \n",
       "       'Positive' Class : auc_seg2_glm_fb \n",
       "                                          "
      ]
     },
     "metadata": {},
     "output_type": "display_data"
    }
   ],
   "source": [
    "confusionMatrix(data=factor(test$auc_win_01), \n",
    "                reference=factor(pred$auc_win_01, levels=levels(factor(test$auc_win_01))))"
   ]
  },
  {
   "cell_type": "code",
   "execution_count": 278,
   "metadata": {},
   "outputs": [
    {
     "data": {
      "text/html": [
       "281"
      ],
      "text/latex": [
       "281"
      ],
      "text/markdown": [
       "281"
      ],
      "text/plain": [
       "[1] 281"
      ]
     },
     "metadata": {},
     "output_type": "display_data"
    },
    {
     "data": {
      "text/html": [
       "0"
      ],
      "text/latex": [
       "0"
      ],
      "text/markdown": [
       "0"
      ],
      "text/plain": [
       "[1] 0"
      ]
     },
     "metadata": {},
     "output_type": "display_data"
    }
   ],
   "source": [
    "length((test$l10_win_01))\n",
    "length((pred$l10_win_01))"
   ]
  },
  {
   "cell_type": "code",
   "execution_count": 279,
   "metadata": {},
   "outputs": [
    {
     "data": {
      "text/html": [
       "<table>\n",
       "<caption>A data.frame: 15 × 1</caption>\n",
       "<thead>\n",
       "\t<tr><th></th><th scope=col>importance(model)</th></tr>\n",
       "\t<tr><th></th><th scope=col>&lt;dbl&gt;</th></tr>\n",
       "</thead>\n",
       "<tbody>\n",
       "\t<tr><th scope=row>tld_rat</th><td>18.697204</td></tr>\n",
       "\t<tr><th scope=row>sldlen_kurt</th><td>18.212754</td></tr>\n",
       "\t<tr><th scope=row>gibbs_kurt</th><td>15.917581</td></tr>\n",
       "\t<tr><th scope=row>sldlen_skew</th><td>13.335850</td></tr>\n",
       "\t<tr><th scope=row>gibbs_rng</th><td>11.982880</td></tr>\n",
       "\t<tr><th scope=row>country_maj</th><td>11.957433</td></tr>\n",
       "\t<tr><th scope=row>ren_prp</th><td>10.363165</td></tr>\n",
       "\t<tr><th scope=row>sldlen_rng</th><td> 9.835484</td></tr>\n",
       "\t<tr><th scope=row>pdcnt_skew</th><td> 9.558258</td></tr>\n",
       "\t<tr><th scope=row>regarpt_skew</th><td> 9.460302</td></tr>\n",
       "\t<tr><th scope=row>regarpt_kurt</th><td> 9.254175</td></tr>\n",
       "\t<tr><th scope=row>daydom_kurt</th><td> 8.738817</td></tr>\n",
       "\t<tr><th scope=row>gibbs_mean</th><td> 8.495020</td></tr>\n",
       "\t<tr><th scope=row>daydom_skew</th><td> 8.473886</td></tr>\n",
       "\t<tr><th scope=row>sldlen_std</th><td> 8.416247</td></tr>\n",
       "</tbody>\n",
       "</table>\n"
      ],
      "text/latex": [
       "A data.frame: 15 × 1\n",
       "\\begin{tabular}{r|l}\n",
       "  & importance(model)\\\\\n",
       "  & <dbl>\\\\\n",
       "\\hline\n",
       "\ttld\\_rat & 18.697204\\\\\n",
       "\tsldlen\\_kurt & 18.212754\\\\\n",
       "\tgibbs\\_kurt & 15.917581\\\\\n",
       "\tsldlen\\_skew & 13.335850\\\\\n",
       "\tgibbs\\_rng & 11.982880\\\\\n",
       "\tcountry\\_maj & 11.957433\\\\\n",
       "\tren\\_prp & 10.363165\\\\\n",
       "\tsldlen\\_rng &  9.835484\\\\\n",
       "\tpdcnt\\_skew &  9.558258\\\\\n",
       "\tregarpt\\_skew &  9.460302\\\\\n",
       "\tregarpt\\_kurt &  9.254175\\\\\n",
       "\tdaydom\\_kurt &  8.738817\\\\\n",
       "\tgibbs\\_mean &  8.495020\\\\\n",
       "\tdaydom\\_skew &  8.473886\\\\\n",
       "\tsldlen\\_std &  8.416247\\\\\n",
       "\\end{tabular}\n"
      ],
      "text/markdown": [
       "\n",
       "A data.frame: 15 × 1\n",
       "\n",
       "| <!--/--> | importance(model) &lt;dbl&gt; |\n",
       "|---|---|\n",
       "| tld_rat | 18.697204 |\n",
       "| sldlen_kurt | 18.212754 |\n",
       "| gibbs_kurt | 15.917581 |\n",
       "| sldlen_skew | 13.335850 |\n",
       "| gibbs_rng | 11.982880 |\n",
       "| country_maj | 11.957433 |\n",
       "| ren_prp | 10.363165 |\n",
       "| sldlen_rng |  9.835484 |\n",
       "| pdcnt_skew |  9.558258 |\n",
       "| regarpt_skew |  9.460302 |\n",
       "| regarpt_kurt |  9.254175 |\n",
       "| daydom_kurt |  8.738817 |\n",
       "| gibbs_mean |  8.495020 |\n",
       "| daydom_skew |  8.473886 |\n",
       "| sldlen_std |  8.416247 |\n",
       "\n"
      ],
      "text/plain": [
       "             importance(model)\n",
       "tld_rat      18.697204        \n",
       "sldlen_kurt  18.212754        \n",
       "gibbs_kurt   15.917581        \n",
       "sldlen_skew  13.335850        \n",
       "gibbs_rng    11.982880        \n",
       "country_maj  11.957433        \n",
       "ren_prp      10.363165        \n",
       "sldlen_rng    9.835484        \n",
       "pdcnt_skew    9.558258        \n",
       "regarpt_skew  9.460302        \n",
       "regarpt_kurt  9.254175        \n",
       "daydom_kurt   8.738817        \n",
       "gibbs_mean    8.495020        \n",
       "daydom_skew   8.473886        \n",
       "sldlen_std    8.416247        "
      ]
     },
     "metadata": {},
     "output_type": "display_data"
    }
   ],
   "source": [
    "as.data.frame(importance(model)) %>% arrange(desc(importance(model))) %>% head(15)"
   ]
  },
  {
   "cell_type": "markdown",
   "metadata": {},
   "source": [
    "## RF binary l10"
   ]
  },
  {
   "cell_type": "code",
   "execution_count": 280,
   "metadata": {},
   "outputs": [],
   "source": [
    "library(ranger) "
   ]
  },
  {
   "cell_type": "code",
   "execution_count": 281,
   "metadata": {},
   "outputs": [],
   "source": [
    "model <- ranger(formula         = l10_win_01 ~ ., \n",
    "                data            = subset(train, select = -c(auc_win_01) ), \n",
    "                importance = 'impurity', \n",
    "                num.trees       = 500,\n",
    "                probability = TRUE,\n",
    "                replace = FALSE,\n",
    "                sample.fraction = .8,\n",
    "                seed            = 123,\n",
    "                respect.unordered.factors=TRUE)"
   ]
  },
  {
   "cell_type": "code",
   "execution_count": 282,
   "metadata": {},
   "outputs": [],
   "source": [
    "pred <- predict(model, \n",
    "                data = test,\n",
    "                type=\"response\")$predictions"
   ]
  },
  {
   "cell_type": "code",
   "execution_count": 283,
   "metadata": {},
   "outputs": [
    {
     "data": {
      "text/html": [
       "<table>\n",
       "<caption>A data.frame: 6 × 3</caption>\n",
       "<thead>\n",
       "\t<tr><th></th><th scope=col>l10_agg_rf_fb</th><th scope=col>l10_seg2_glm_fb</th><th scope=col>l10_win_01</th></tr>\n",
       "\t<tr><th></th><th scope=col>&lt;dbl&gt;</th><th scope=col>&lt;dbl&gt;</th><th scope=col>&lt;chr&gt;</th></tr>\n",
       "</thead>\n",
       "<tbody>\n",
       "\t<tr><th scope=row>1</th><td>0.08050476</td><td>0.9194952</td><td>l10_seg2_glm_fb</td></tr>\n",
       "\t<tr><th scope=row>2</th><td>0.17919444</td><td>0.8208056</td><td>l10_seg2_glm_fb</td></tr>\n",
       "\t<tr><th scope=row>3</th><td>0.40954841</td><td>0.5904516</td><td>l10_seg2_glm_fb</td></tr>\n",
       "\t<tr><th scope=row>4</th><td>0.21358571</td><td>0.7864143</td><td>l10_seg2_glm_fb</td></tr>\n",
       "\t<tr><th scope=row>5</th><td>0.06764603</td><td>0.9323540</td><td>l10_seg2_glm_fb</td></tr>\n",
       "\t<tr><th scope=row>6</th><td>0.07289048</td><td>0.9271095</td><td>l10_seg2_glm_fb</td></tr>\n",
       "</tbody>\n",
       "</table>\n"
      ],
      "text/latex": [
       "A data.frame: 6 × 3\n",
       "\\begin{tabular}{r|lll}\n",
       "  & l10\\_agg\\_rf\\_fb & l10\\_seg2\\_glm\\_fb & l10\\_win\\_01\\\\\n",
       "  & <dbl> & <dbl> & <chr>\\\\\n",
       "\\hline\n",
       "\t1 & 0.08050476 & 0.9194952 & l10\\_seg2\\_glm\\_fb\\\\\n",
       "\t2 & 0.17919444 & 0.8208056 & l10\\_seg2\\_glm\\_fb\\\\\n",
       "\t3 & 0.40954841 & 0.5904516 & l10\\_seg2\\_glm\\_fb\\\\\n",
       "\t4 & 0.21358571 & 0.7864143 & l10\\_seg2\\_glm\\_fb\\\\\n",
       "\t5 & 0.06764603 & 0.9323540 & l10\\_seg2\\_glm\\_fb\\\\\n",
       "\t6 & 0.07289048 & 0.9271095 & l10\\_seg2\\_glm\\_fb\\\\\n",
       "\\end{tabular}\n"
      ],
      "text/markdown": [
       "\n",
       "A data.frame: 6 × 3\n",
       "\n",
       "| <!--/--> | l10_agg_rf_fb &lt;dbl&gt; | l10_seg2_glm_fb &lt;dbl&gt; | l10_win_01 &lt;chr&gt; |\n",
       "|---|---|---|---|\n",
       "| 1 | 0.08050476 | 0.9194952 | l10_seg2_glm_fb |\n",
       "| 2 | 0.17919444 | 0.8208056 | l10_seg2_glm_fb |\n",
       "| 3 | 0.40954841 | 0.5904516 | l10_seg2_glm_fb |\n",
       "| 4 | 0.21358571 | 0.7864143 | l10_seg2_glm_fb |\n",
       "| 5 | 0.06764603 | 0.9323540 | l10_seg2_glm_fb |\n",
       "| 6 | 0.07289048 | 0.9271095 | l10_seg2_glm_fb |\n",
       "\n"
      ],
      "text/plain": [
       "  l10_agg_rf_fb l10_seg2_glm_fb l10_win_01     \n",
       "1 0.08050476    0.9194952       l10_seg2_glm_fb\n",
       "2 0.17919444    0.8208056       l10_seg2_glm_fb\n",
       "3 0.40954841    0.5904516       l10_seg2_glm_fb\n",
       "4 0.21358571    0.7864143       l10_seg2_glm_fb\n",
       "5 0.06764603    0.9323540       l10_seg2_glm_fb\n",
       "6 0.07289048    0.9271095       l10_seg2_glm_fb"
      ]
     },
     "metadata": {},
     "output_type": "display_data"
    }
   ],
   "source": [
    "pred <- as.data.frame(pred)\n",
    "auc_vars <- names(pred)\n",
    "pred <- pred %>%\n",
    "    mutate (l10_win_01=sapply(apply(.[,c(auc_vars)], \n",
    "                          1, function(x) names(x)[which.max(x)]) , \n",
    "                                    function(s) if (length(s) == 0) NA else paste(s, collapse = \" \")) \n",
    "            ) \n",
    "head(pred)"
   ]
  },
  {
   "cell_type": "code",
   "execution_count": 284,
   "metadata": {},
   "outputs": [
    {
     "data": {
      "text/plain": [
       "\n",
       "  l10_agg_rf_fb l10_seg2_glm_fb \n",
       "              3             278 "
      ]
     },
     "metadata": {},
     "output_type": "display_data"
    }
   ],
   "source": [
    "table(pred$l10_win_01)"
   ]
  },
  {
   "cell_type": "code",
   "execution_count": 285,
   "metadata": {},
   "outputs": [
    {
     "data": {
      "text/plain": [
       "                 \n",
       "                  l10_agg_rf_fb l10_seg2_glm_fb\n",
       "  l10_agg_rf_fb               2              48\n",
       "  l10_seg2_glm_fb             1             230"
      ]
     },
     "metadata": {},
     "output_type": "display_data"
    }
   ],
   "source": [
    "xtab <- table(test$l10_win_01, pred$l10_win_01)\n",
    "xtab"
   ]
  },
  {
   "cell_type": "code",
   "execution_count": 286,
   "metadata": {},
   "outputs": [
    {
     "data": {
      "text/plain": [
       "Confusion Matrix and Statistics\n",
       "\n",
       "                 Reference\n",
       "Prediction        l10_agg_rf_fb l10_seg2_glm_fb\n",
       "  l10_agg_rf_fb               2              48\n",
       "  l10_seg2_glm_fb             1             230\n",
       "                                          \n",
       "               Accuracy : 0.8256          \n",
       "                 95% CI : (0.7761, 0.8681)\n",
       "    No Information Rate : 0.9893          \n",
       "    P-Value [Acc > NIR] : 1               \n",
       "                                          \n",
       "                  Kappa : 0.0565          \n",
       "                                          \n",
       " Mcnemar's Test P-Value : 4.983e-11       \n",
       "                                          \n",
       "            Sensitivity : 0.666667        \n",
       "            Specificity : 0.827338        \n",
       "         Pos Pred Value : 0.040000        \n",
       "         Neg Pred Value : 0.995671        \n",
       "             Prevalence : 0.010676        \n",
       "         Detection Rate : 0.007117        \n",
       "   Detection Prevalence : 0.177936        \n",
       "      Balanced Accuracy : 0.747002        \n",
       "                                          \n",
       "       'Positive' Class : l10_agg_rf_fb   \n",
       "                                          "
      ]
     },
     "metadata": {},
     "output_type": "display_data"
    }
   ],
   "source": [
    "confusionMatrix(data=factor(test$l10_win_01), \n",
    "                reference=factor(pred$l10_win_01, levels=levels(factor(test$l10_win_01))))"
   ]
  },
  {
   "cell_type": "code",
   "execution_count": 287,
   "metadata": {},
   "outputs": [
    {
     "data": {
      "text/html": [
       "281"
      ],
      "text/latex": [
       "281"
      ],
      "text/markdown": [
       "281"
      ],
      "text/plain": [
       "[1] 281"
      ]
     },
     "metadata": {},
     "output_type": "display_data"
    },
    {
     "data": {
      "text/html": [
       "281"
      ],
      "text/latex": [
       "281"
      ],
      "text/markdown": [
       "281"
      ],
      "text/plain": [
       "[1] 281"
      ]
     },
     "metadata": {},
     "output_type": "display_data"
    }
   ],
   "source": [
    "length((test$l10_win_01))\n",
    "length((pred$l10_win_01))"
   ]
  },
  {
   "cell_type": "code",
   "execution_count": 288,
   "metadata": {},
   "outputs": [
    {
     "data": {
      "text/plain": [
       "\n",
       "  l10_agg_rf_fb l10_seg2_glm_fb \n",
       "      0.1779359       0.8220641 "
      ]
     },
     "metadata": {},
     "output_type": "display_data"
    },
    {
     "data": {
      "text/plain": [
       "\n",
       "auc_seg2_glm_fb   auc_agg_rf_fb \n",
       "      0.6797153       0.3202847 "
      ]
     },
     "metadata": {},
     "output_type": "display_data"
    }
   ],
   "source": [
    "prop.table(table(test$l10_win_01))\n",
    "prop.table(table(test$auc_win_01))"
   ]
  },
  {
   "cell_type": "code",
   "execution_count": 289,
   "metadata": {},
   "outputs": [
    {
     "data": {
      "text/html": [
       "<table>\n",
       "<caption>A data.frame: 15 × 1</caption>\n",
       "<thead>\n",
       "\t<tr><th></th><th scope=col>importance(model)</th></tr>\n",
       "\t<tr><th></th><th scope=col>&lt;dbl&gt;</th></tr>\n",
       "</thead>\n",
       "<tbody>\n",
       "\t<tr><th scope=row>tld_rat</th><td>9.563950</td></tr>\n",
       "\t<tr><th scope=row>country_maj</th><td>8.889265</td></tr>\n",
       "\t<tr><th scope=row>sldlen_kurt</th><td>8.255048</td></tr>\n",
       "\t<tr><th scope=row>gibbs_kurt</th><td>7.220285</td></tr>\n",
       "\t<tr><th scope=row>gibbs_rng</th><td>7.007295</td></tr>\n",
       "\t<tr><th scope=row>sldlen_rng</th><td>6.422216</td></tr>\n",
       "\t<tr><th scope=row>ren_prp</th><td>6.420688</td></tr>\n",
       "\t<tr><th scope=row>daydom_std</th><td>6.103789</td></tr>\n",
       "\t<tr><th scope=row>gibbs_skew</th><td>6.093788</td></tr>\n",
       "\t<tr><th scope=row>sldlen_skew</th><td>6.002812</td></tr>\n",
       "\t<tr><th scope=row>sldlen_std</th><td>5.996812</td></tr>\n",
       "\t<tr><th scope=row>regarpt_kurt</th><td>5.800360</td></tr>\n",
       "\t<tr><th scope=row>regarpt_skew</th><td>5.720854</td></tr>\n",
       "\t<tr><th scope=row>daydom_kurt</th><td>5.601121</td></tr>\n",
       "\t<tr><th scope=row>gibbs_max</th><td>5.442951</td></tr>\n",
       "</tbody>\n",
       "</table>\n"
      ],
      "text/latex": [
       "A data.frame: 15 × 1\n",
       "\\begin{tabular}{r|l}\n",
       "  & importance(model)\\\\\n",
       "  & <dbl>\\\\\n",
       "\\hline\n",
       "\ttld\\_rat & 9.563950\\\\\n",
       "\tcountry\\_maj & 8.889265\\\\\n",
       "\tsldlen\\_kurt & 8.255048\\\\\n",
       "\tgibbs\\_kurt & 7.220285\\\\\n",
       "\tgibbs\\_rng & 7.007295\\\\\n",
       "\tsldlen\\_rng & 6.422216\\\\\n",
       "\tren\\_prp & 6.420688\\\\\n",
       "\tdaydom\\_std & 6.103789\\\\\n",
       "\tgibbs\\_skew & 6.093788\\\\\n",
       "\tsldlen\\_skew & 6.002812\\\\\n",
       "\tsldlen\\_std & 5.996812\\\\\n",
       "\tregarpt\\_kurt & 5.800360\\\\\n",
       "\tregarpt\\_skew & 5.720854\\\\\n",
       "\tdaydom\\_kurt & 5.601121\\\\\n",
       "\tgibbs\\_max & 5.442951\\\\\n",
       "\\end{tabular}\n"
      ],
      "text/markdown": [
       "\n",
       "A data.frame: 15 × 1\n",
       "\n",
       "| <!--/--> | importance(model) &lt;dbl&gt; |\n",
       "|---|---|\n",
       "| tld_rat | 9.563950 |\n",
       "| country_maj | 8.889265 |\n",
       "| sldlen_kurt | 8.255048 |\n",
       "| gibbs_kurt | 7.220285 |\n",
       "| gibbs_rng | 7.007295 |\n",
       "| sldlen_rng | 6.422216 |\n",
       "| ren_prp | 6.420688 |\n",
       "| daydom_std | 6.103789 |\n",
       "| gibbs_skew | 6.093788 |\n",
       "| sldlen_skew | 6.002812 |\n",
       "| sldlen_std | 5.996812 |\n",
       "| regarpt_kurt | 5.800360 |\n",
       "| regarpt_skew | 5.720854 |\n",
       "| daydom_kurt | 5.601121 |\n",
       "| gibbs_max | 5.442951 |\n",
       "\n"
      ],
      "text/plain": [
       "             importance(model)\n",
       "tld_rat      9.563950         \n",
       "country_maj  8.889265         \n",
       "sldlen_kurt  8.255048         \n",
       "gibbs_kurt   7.220285         \n",
       "gibbs_rng    7.007295         \n",
       "sldlen_rng   6.422216         \n",
       "ren_prp      6.420688         \n",
       "daydom_std   6.103789         \n",
       "gibbs_skew   6.093788         \n",
       "sldlen_skew  6.002812         \n",
       "sldlen_std   5.996812         \n",
       "regarpt_kurt 5.800360         \n",
       "regarpt_skew 5.720854         \n",
       "daydom_kurt  5.601121         \n",
       "gibbs_max    5.442951         "
      ]
     },
     "metadata": {},
     "output_type": "display_data"
    }
   ],
   "source": [
    "as.data.frame(importance(model)) %>% arrange(desc(importance(model))) %>% head(15)"
   ]
  },
  {
   "cell_type": "markdown",
   "metadata": {},
   "source": [
    "# Assign Model based on Binary prediction for AUC"
   ]
  },
  {
   "cell_type": "code",
   "execution_count": null,
   "metadata": {},
   "outputs": [],
   "source": []
  },
  {
   "cell_type": "code",
   "execution_count": 290,
   "metadata": {},
   "outputs": [],
   "source": [
    "model <- ranger(formula         = auc_win_01 ~ ., \n",
    "                data            = subset(train, select = -c(l10_win_01) ), \n",
    "                importance = 'impurity', \n",
    "                num.trees       = 500,\n",
    "                probability = TRUE,\n",
    "                replace = FALSE,\n",
    "                sample.fraction = .8,\n",
    "                seed            = 123,\n",
    "                respect.unordered.factors=TRUE)"
   ]
  },
  {
   "cell_type": "code",
   "execution_count": 291,
   "metadata": {},
   "outputs": [],
   "source": [
    "pred <- predict(model, \n",
    "                data = test,\n",
    "                type=\"response\")$predictions"
   ]
  },
  {
   "cell_type": "code",
   "execution_count": 293,
   "metadata": {},
   "outputs": [
    {
     "data": {
      "text/html": [
       "<table>\n",
       "<caption>A data.frame: 6 × 3</caption>\n",
       "<thead>\n",
       "\t<tr><th></th><th scope=col>auc_seg2_glm_fb</th><th scope=col>auc_agg_rf_fb</th><th scope=col>auc_win_01</th></tr>\n",
       "\t<tr><th></th><th scope=col>&lt;dbl&gt;</th><th scope=col>&lt;dbl&gt;</th><th scope=col>&lt;chr&gt;</th></tr>\n",
       "</thead>\n",
       "<tbody>\n",
       "\t<tr><th scope=row>1</th><td>0.8815460</td><td>0.1184540</td><td>auc_seg2_glm_fb</td></tr>\n",
       "\t<tr><th scope=row>2</th><td>0.6917873</td><td>0.3082127</td><td>auc_seg2_glm_fb</td></tr>\n",
       "\t<tr><th scope=row>3</th><td>0.4789294</td><td>0.5210706</td><td>auc_agg_rf_fb  </td></tr>\n",
       "\t<tr><th scope=row>4</th><td>0.4839317</td><td>0.5160683</td><td>auc_agg_rf_fb  </td></tr>\n",
       "\t<tr><th scope=row>5</th><td>0.6425325</td><td>0.3574675</td><td>auc_seg2_glm_fb</td></tr>\n",
       "\t<tr><th scope=row>6</th><td>0.9331873</td><td>0.0668127</td><td>auc_seg2_glm_fb</td></tr>\n",
       "</tbody>\n",
       "</table>\n"
      ],
      "text/latex": [
       "A data.frame: 6 × 3\n",
       "\\begin{tabular}{r|lll}\n",
       "  & auc\\_seg2\\_glm\\_fb & auc\\_agg\\_rf\\_fb & auc\\_win\\_01\\\\\n",
       "  & <dbl> & <dbl> & <chr>\\\\\n",
       "\\hline\n",
       "\t1 & 0.8815460 & 0.1184540 & auc\\_seg2\\_glm\\_fb\\\\\n",
       "\t2 & 0.6917873 & 0.3082127 & auc\\_seg2\\_glm\\_fb\\\\\n",
       "\t3 & 0.4789294 & 0.5210706 & auc\\_agg\\_rf\\_fb  \\\\\n",
       "\t4 & 0.4839317 & 0.5160683 & auc\\_agg\\_rf\\_fb  \\\\\n",
       "\t5 & 0.6425325 & 0.3574675 & auc\\_seg2\\_glm\\_fb\\\\\n",
       "\t6 & 0.9331873 & 0.0668127 & auc\\_seg2\\_glm\\_fb\\\\\n",
       "\\end{tabular}\n"
      ],
      "text/markdown": [
       "\n",
       "A data.frame: 6 × 3\n",
       "\n",
       "| <!--/--> | auc_seg2_glm_fb &lt;dbl&gt; | auc_agg_rf_fb &lt;dbl&gt; | auc_win_01 &lt;chr&gt; |\n",
       "|---|---|---|---|\n",
       "| 1 | 0.8815460 | 0.1184540 | auc_seg2_glm_fb |\n",
       "| 2 | 0.6917873 | 0.3082127 | auc_seg2_glm_fb |\n",
       "| 3 | 0.4789294 | 0.5210706 | auc_agg_rf_fb   |\n",
       "| 4 | 0.4839317 | 0.5160683 | auc_agg_rf_fb   |\n",
       "| 5 | 0.6425325 | 0.3574675 | auc_seg2_glm_fb |\n",
       "| 6 | 0.9331873 | 0.0668127 | auc_seg2_glm_fb |\n",
       "\n"
      ],
      "text/plain": [
       "  auc_seg2_glm_fb auc_agg_rf_fb auc_win_01     \n",
       "1 0.8815460       0.1184540     auc_seg2_glm_fb\n",
       "2 0.6917873       0.3082127     auc_seg2_glm_fb\n",
       "3 0.4789294       0.5210706     auc_agg_rf_fb  \n",
       "4 0.4839317       0.5160683     auc_agg_rf_fb  \n",
       "5 0.6425325       0.3574675     auc_seg2_glm_fb\n",
       "6 0.9331873       0.0668127     auc_seg2_glm_fb"
      ]
     },
     "metadata": {},
     "output_type": "display_data"
    }
   ],
   "source": [
    "pred <- as.data.frame(pred)\n",
    "auc_vars <- names(pred)\n",
    "pred <- pred %>%\n",
    "    mutate (auc_win_01=sapply(apply(.[,c(auc_vars)], \n",
    "                          1, function(x) names(x)[which.max(x)]) , \n",
    "                                    function(s) if (length(s) == 0) NA else paste(s, collapse = \" \")) \n",
    "            ) \n",
    "head(pred)"
   ]
  },
  {
   "cell_type": "code",
   "execution_count": 308,
   "metadata": {},
   "outputs": [
    {
     "data": {
      "text/html": [
       "<style>\n",
       ".list-inline {list-style: none; margin:0; padding: 0}\n",
       ".list-inline>li {display: inline-block}\n",
       ".list-inline>li:not(:last-child)::after {content: \"\\00b7\"; padding: 0 .5ex}\n",
       "</style>\n",
       "<ol class=list-inline><li>'auc_win_01'</li><li>'l10_win_01'</li><li>'ren_prp'</li><li>'tld_rat'</li><li>'country_maj'</li><li>'region_maj'</li><li>'country_cnt'</li><li>'region_cnt'</li><li>'geo_cnt'</li><li>'geo_maj'</li><li>'daydom_min'</li><li>'daydom_max'</li><li>'daydom_mean'</li><li>'daydom_rng'</li><li>'daydom_std'</li><li>'daydom_skew'</li><li>'daydom_kurt'</li><li>'sldlen_min'</li><li>'sldlen_max'</li><li>'sldlen_mean'</li><li>'sldlen_rng'</li><li>'sldlen_std'</li><li>'sldlen_skew'</li><li>'sldlen_kurt'</li><li>'gibbs_min'</li><li>'gibbs_max'</li><li>'gibbs_mean'</li><li>'gibbs_rng'</li><li>'gibbs_std'</li><li>'gibbs_skew'</li><li>'gibbs_kurt'</li><li>'pdcnt_min'</li><li>'pdcnt_max'</li><li>'pdcnt_mean'</li><li>'pdcnt_rng'</li><li>'pdcnt_std'</li><li>'pdcnt_skew'</li><li>'pdcnt_kurt'</li><li>'regarpt_min'</li><li>'regarpt_max'</li><li>'regarpt_mean'</li><li>'regarpt_rng'</li><li>'regarpt_std'</li><li>'regarpt_skew'</li><li>'regarpt_kurt'</li><li>'auc_seg2_glm_fb'</li><li>'auc_agg_rf_fb'</li><li>'auc_win_01'</li><li>'auc_win_pred'</li></ol>\n"
      ],
      "text/latex": [
       "\\begin{enumerate*}\n",
       "\\item 'auc\\_win\\_01'\n",
       "\\item 'l10\\_win\\_01'\n",
       "\\item 'ren\\_prp'\n",
       "\\item 'tld\\_rat'\n",
       "\\item 'country\\_maj'\n",
       "\\item 'region\\_maj'\n",
       "\\item 'country\\_cnt'\n",
       "\\item 'region\\_cnt'\n",
       "\\item 'geo\\_cnt'\n",
       "\\item 'geo\\_maj'\n",
       "\\item 'daydom\\_min'\n",
       "\\item 'daydom\\_max'\n",
       "\\item 'daydom\\_mean'\n",
       "\\item 'daydom\\_rng'\n",
       "\\item 'daydom\\_std'\n",
       "\\item 'daydom\\_skew'\n",
       "\\item 'daydom\\_kurt'\n",
       "\\item 'sldlen\\_min'\n",
       "\\item 'sldlen\\_max'\n",
       "\\item 'sldlen\\_mean'\n",
       "\\item 'sldlen\\_rng'\n",
       "\\item 'sldlen\\_std'\n",
       "\\item 'sldlen\\_skew'\n",
       "\\item 'sldlen\\_kurt'\n",
       "\\item 'gibbs\\_min'\n",
       "\\item 'gibbs\\_max'\n",
       "\\item 'gibbs\\_mean'\n",
       "\\item 'gibbs\\_rng'\n",
       "\\item 'gibbs\\_std'\n",
       "\\item 'gibbs\\_skew'\n",
       "\\item 'gibbs\\_kurt'\n",
       "\\item 'pdcnt\\_min'\n",
       "\\item 'pdcnt\\_max'\n",
       "\\item 'pdcnt\\_mean'\n",
       "\\item 'pdcnt\\_rng'\n",
       "\\item 'pdcnt\\_std'\n",
       "\\item 'pdcnt\\_skew'\n",
       "\\item 'pdcnt\\_kurt'\n",
       "\\item 'regarpt\\_min'\n",
       "\\item 'regarpt\\_max'\n",
       "\\item 'regarpt\\_mean'\n",
       "\\item 'regarpt\\_rng'\n",
       "\\item 'regarpt\\_std'\n",
       "\\item 'regarpt\\_skew'\n",
       "\\item 'regarpt\\_kurt'\n",
       "\\item 'auc\\_seg2\\_glm\\_fb'\n",
       "\\item 'auc\\_agg\\_rf\\_fb'\n",
       "\\item 'auc\\_win\\_01'\n",
       "\\item 'auc\\_win\\_pred'\n",
       "\\end{enumerate*}\n"
      ],
      "text/markdown": [
       "1. 'auc_win_01'\n",
       "2. 'l10_win_01'\n",
       "3. 'ren_prp'\n",
       "4. 'tld_rat'\n",
       "5. 'country_maj'\n",
       "6. 'region_maj'\n",
       "7. 'country_cnt'\n",
       "8. 'region_cnt'\n",
       "9. 'geo_cnt'\n",
       "10. 'geo_maj'\n",
       "11. 'daydom_min'\n",
       "12. 'daydom_max'\n",
       "13. 'daydom_mean'\n",
       "14. 'daydom_rng'\n",
       "15. 'daydom_std'\n",
       "16. 'daydom_skew'\n",
       "17. 'daydom_kurt'\n",
       "18. 'sldlen_min'\n",
       "19. 'sldlen_max'\n",
       "20. 'sldlen_mean'\n",
       "21. 'sldlen_rng'\n",
       "22. 'sldlen_std'\n",
       "23. 'sldlen_skew'\n",
       "24. 'sldlen_kurt'\n",
       "25. 'gibbs_min'\n",
       "26. 'gibbs_max'\n",
       "27. 'gibbs_mean'\n",
       "28. 'gibbs_rng'\n",
       "29. 'gibbs_std'\n",
       "30. 'gibbs_skew'\n",
       "31. 'gibbs_kurt'\n",
       "32. 'pdcnt_min'\n",
       "33. 'pdcnt_max'\n",
       "34. 'pdcnt_mean'\n",
       "35. 'pdcnt_rng'\n",
       "36. 'pdcnt_std'\n",
       "37. 'pdcnt_skew'\n",
       "38. 'pdcnt_kurt'\n",
       "39. 'regarpt_min'\n",
       "40. 'regarpt_max'\n",
       "41. 'regarpt_mean'\n",
       "42. 'regarpt_rng'\n",
       "43. 'regarpt_std'\n",
       "44. 'regarpt_skew'\n",
       "45. 'regarpt_kurt'\n",
       "46. 'auc_seg2_glm_fb'\n",
       "47. 'auc_agg_rf_fb'\n",
       "48. 'auc_win_01'\n",
       "49. 'auc_win_pred'\n",
       "\n",
       "\n"
      ],
      "text/plain": [
       " [1] \"auc_win_01\"      \"l10_win_01\"      \"ren_prp\"         \"tld_rat\"        \n",
       " [5] \"country_maj\"     \"region_maj\"      \"country_cnt\"     \"region_cnt\"     \n",
       " [9] \"geo_cnt\"         \"geo_maj\"         \"daydom_min\"      \"daydom_max\"     \n",
       "[13] \"daydom_mean\"     \"daydom_rng\"      \"daydom_std\"      \"daydom_skew\"    \n",
       "[17] \"daydom_kurt\"     \"sldlen_min\"      \"sldlen_max\"      \"sldlen_mean\"    \n",
       "[21] \"sldlen_rng\"      \"sldlen_std\"      \"sldlen_skew\"     \"sldlen_kurt\"    \n",
       "[25] \"gibbs_min\"       \"gibbs_max\"       \"gibbs_mean\"      \"gibbs_rng\"      \n",
       "[29] \"gibbs_std\"       \"gibbs_skew\"      \"gibbs_kurt\"      \"pdcnt_min\"      \n",
       "[33] \"pdcnt_max\"       \"pdcnt_mean\"      \"pdcnt_rng\"       \"pdcnt_std\"      \n",
       "[37] \"pdcnt_skew\"      \"pdcnt_kurt\"      \"regarpt_min\"     \"regarpt_max\"    \n",
       "[41] \"regarpt_mean\"    \"regarpt_rng\"     \"regarpt_std\"     \"regarpt_skew\"   \n",
       "[45] \"regarpt_kurt\"    \"auc_seg2_glm_fb\" \"auc_agg_rf_fb\"   \"auc_win_01\"     \n",
       "[49] \"auc_win_pred\"   "
      ]
     },
     "metadata": {},
     "output_type": "display_data"
    }
   ],
   "source": [
    "names(test_pred)"
   ]
  },
  {
   "cell_type": "code",
   "execution_count": 296,
   "metadata": {},
   "outputs": [
    {
     "data": {
      "text/html": [
       "<style>\n",
       ".list-inline {list-style: none; margin:0; padding: 0}\n",
       ".list-inline>li {display: inline-block}\n",
       ".list-inline>li:not(:last-child)::after {content: \"\\00b7\"; padding: 0 .5ex}\n",
       "</style>\n",
       "<ol class=list-inline><li>281</li><li>45</li></ol>\n"
      ],
      "text/latex": [
       "\\begin{enumerate*}\n",
       "\\item 281\n",
       "\\item 45\n",
       "\\end{enumerate*}\n"
      ],
      "text/markdown": [
       "1. 281\n",
       "2. 45\n",
       "\n",
       "\n"
      ],
      "text/plain": [
       "[1] 281  45"
      ]
     },
     "metadata": {},
     "output_type": "display_data"
    },
    {
     "data": {
      "text/html": [
       "<style>\n",
       ".list-inline {list-style: none; margin:0; padding: 0}\n",
       ".list-inline>li {display: inline-block}\n",
       ".list-inline>li:not(:last-child)::after {content: \"\\00b7\"; padding: 0 .5ex}\n",
       "</style>\n",
       "<ol class=list-inline><li>281</li><li>3</li></ol>\n"
      ],
      "text/latex": [
       "\\begin{enumerate*}\n",
       "\\item 281\n",
       "\\item 3\n",
       "\\end{enumerate*}\n"
      ],
      "text/markdown": [
       "1. 281\n",
       "2. 3\n",
       "\n",
       "\n"
      ],
      "text/plain": [
       "[1] 281   3"
      ]
     },
     "metadata": {},
     "output_type": "display_data"
    },
    {
     "data": {
      "text/html": [
       "<style>\n",
       ".list-inline {list-style: none; margin:0; padding: 0}\n",
       ".list-inline>li {display: inline-block}\n",
       ".list-inline>li:not(:last-child)::after {content: \"\\00b7\"; padding: 0 .5ex}\n",
       "</style>\n",
       "<ol class=list-inline><li>281</li><li>48</li></ol>\n"
      ],
      "text/latex": [
       "\\begin{enumerate*}\n",
       "\\item 281\n",
       "\\item 48\n",
       "\\end{enumerate*}\n"
      ],
      "text/markdown": [
       "1. 281\n",
       "2. 48\n",
       "\n",
       "\n"
      ],
      "text/plain": [
       "[1] 281  48"
      ]
     },
     "metadata": {},
     "output_type": "display_data"
    },
    {
     "data": {
      "text/html": [
       "<table>\n",
       "<caption>A data.frame: 6 × 48</caption>\n",
       "<thead>\n",
       "\t<tr><th></th><th scope=col>auc_win_01</th><th scope=col>l10_win_01</th><th scope=col>ren_prp</th><th scope=col>tld_rat</th><th scope=col>country_maj</th><th scope=col>region_maj</th><th scope=col>country_cnt</th><th scope=col>region_cnt</th><th scope=col>geo_cnt</th><th scope=col>geo_maj</th><th scope=col>daydom_min</th><th scope=col>daydom_max</th><th scope=col>daydom_mean</th><th scope=col>daydom_rng</th><th scope=col>daydom_std</th><th scope=col>daydom_skew</th><th scope=col>daydom_kurt</th><th scope=col>sldlen_min</th><th scope=col>sldlen_max</th><th scope=col>sldlen_mean</th><th scope=col>sldlen_rng</th><th scope=col>sldlen_std</th><th scope=col>sldlen_skew</th><th scope=col>sldlen_kurt</th><th scope=col>gibbs_min</th><th scope=col>gibbs_max</th><th scope=col>gibbs_mean</th><th scope=col>gibbs_rng</th><th scope=col>gibbs_std</th><th scope=col>gibbs_skew</th><th scope=col>gibbs_kurt</th><th scope=col>pdcnt_min</th><th scope=col>pdcnt_max</th><th scope=col>pdcnt_mean</th><th scope=col>pdcnt_rng</th><th scope=col>pdcnt_std</th><th scope=col>pdcnt_skew</th><th scope=col>pdcnt_kurt</th><th scope=col>regarpt_min</th><th scope=col>regarpt_max</th><th scope=col>regarpt_mean</th><th scope=col>regarpt_rng</th><th scope=col>regarpt_std</th><th scope=col>regarpt_skew</th><th scope=col>regarpt_kurt</th><th scope=col>auc_seg2_glm_fb</th><th scope=col>auc_agg_rf_fb</th><th scope=col>auc_win_01</th></tr>\n",
       "\t<tr><th></th><th scope=col>&lt;fct&gt;</th><th scope=col>&lt;chr&gt;</th><th scope=col>&lt;dbl&gt;</th><th scope=col>&lt;dbl&gt;</th><th scope=col>&lt;chr&gt;</th><th scope=col>&lt;chr&gt;</th><th scope=col>&lt;int&gt;</th><th scope=col>&lt;int&gt;</th><th scope=col>&lt;int&gt;</th><th scope=col>&lt;fct&gt;</th><th scope=col>&lt;int&gt;</th><th scope=col>&lt;int&gt;</th><th scope=col>&lt;dbl&gt;</th><th scope=col>&lt;int&gt;</th><th scope=col>&lt;dbl&gt;</th><th scope=col>&lt;dbl&gt;</th><th scope=col>&lt;dbl&gt;</th><th scope=col>&lt;int&gt;</th><th scope=col>&lt;int&gt;</th><th scope=col>&lt;dbl&gt;</th><th scope=col>&lt;int&gt;</th><th scope=col>&lt;dbl&gt;</th><th scope=col>&lt;dbl&gt;</th><th scope=col>&lt;dbl&gt;</th><th scope=col>&lt;dbl&gt;</th><th scope=col>&lt;dbl&gt;</th><th scope=col>&lt;dbl&gt;</th><th scope=col>&lt;dbl&gt;</th><th scope=col>&lt;dbl&gt;</th><th scope=col>&lt;dbl&gt;</th><th scope=col>&lt;dbl&gt;</th><th scope=col>&lt;int&gt;</th><th scope=col>&lt;int&gt;</th><th scope=col>&lt;dbl&gt;</th><th scope=col>&lt;int&gt;</th><th scope=col>&lt;dbl&gt;</th><th scope=col>&lt;dbl&gt;</th><th scope=col>&lt;dbl&gt;</th><th scope=col>&lt;dbl&gt;</th><th scope=col>&lt;dbl&gt;</th><th scope=col>&lt;dbl&gt;</th><th scope=col>&lt;dbl&gt;</th><th scope=col>&lt;dbl&gt;</th><th scope=col>&lt;dbl&gt;</th><th scope=col>&lt;dbl&gt;</th><th scope=col>&lt;dbl&gt;</th><th scope=col>&lt;dbl&gt;</th><th scope=col>&lt;chr&gt;</th></tr>\n",
       "</thead>\n",
       "<tbody>\n",
       "\t<tr><th scope=row>3</th><td>auc_seg2_glm_fb</td><td>l10_seg2_glm_fb</td><td>0.500000000</td><td>0.500000000</td><td>United States</td><td>Non China</td><td>1</td><td>1</td><td>1</td><td>EU                        </td><td>1</td><td>  1</td><td>  1.000000</td><td>  0</td><td>  0.0000000</td><td>0.6129124</td><td> 1.7090507</td><td>7</td><td> 7</td><td> 7.00000</td><td> 0</td><td>0.0000000</td><td>-0.08561204</td><td>-2.7165035</td><td>4.51</td><td>  6.09</td><td>5.300000</td><td>  1.58</td><td> 1.117229</td><td>0.000000000</td><td>-2.7500000</td><td>1</td><td>  1</td><td> 1.000000</td><td>  0</td><td> 0.0000000</td><td>3.9551438</td><td>28.732739</td><td>5.0000</td><td> 5.00</td><td>5.0000000</td><td> 0.0000</td><td>0.0000000</td><td>-0.16638946</td><td>-2.175113</td><td>0.8815460</td><td>0.1184540</td><td>auc_seg2_glm_fb</td></tr>\n",
       "\t<tr><th scope=row>14</th><td>auc_seg2_glm_fb</td><td>l10_seg2_glm_fb</td><td>0.000000000</td><td>0.142857143</td><td>United States</td><td>Non China</td><td>1</td><td>1</td><td>1</td><td>China                     </td><td>1</td><td>  3</td><td>  1.857143</td><td>  2</td><td>  1.0690450</td><td>0.2290811</td><td>-2.2040816</td><td>4</td><td>16</td><td>10.28571</td><td>12</td><td>4.0296520</td><td>-0.09971565</td><td>-1.4881693</td><td>0.36</td><td>  6.21</td><td>2.254286</td><td>  5.85</td><td> 1.955274</td><td>0.942908398</td><td>-0.3827446</td><td>1</td><td>  3</td><td> 1.857143</td><td>  2</td><td> 1.0690450</td><td>0.2290811</td><td>-2.204082</td><td>0.7500</td><td> 0.75</td><td>0.7500000</td><td> 0.0000</td><td>0.0000000</td><td>-0.97369044</td><td> 5.751201</td><td>0.6917873</td><td>0.3082127</td><td>auc_seg2_glm_fb</td></tr>\n",
       "\t<tr><th scope=row>15</th><td>auc_agg_rf_fb  </td><td>l10_agg_rf_fb  </td><td>0.002649241</td><td>0.000176616</td><td>United States</td><td>Non China</td><td>1</td><td>1</td><td>1</td><td>China                     </td><td>1</td><td>430</td><td>182.112681</td><td>429</td><td>119.0331510</td><td>0.3456977</td><td>-0.7722064</td><td>3</td><td>26</td><td>10.36789</td><td>23</td><td>4.1376826</td><td> 0.22273449</td><td>-0.9579907</td><td>0.00</td><td>100.00</td><td>3.983608</td><td>100.00</td><td>16.912994</td><td>5.458734134</td><td>28.0148392</td><td>1</td><td>277</td><td>32.292476</td><td>276</td><td>76.4373470</td><td>2.3869184</td><td> 4.085732</td><td>0.0001</td><td> 2.91</td><td>0.7246167</td><td> 2.9099</td><td>0.1409665</td><td>-4.08276354</td><td>31.605586</td><td>0.4789294</td><td>0.5210706</td><td>auc_agg_rf_fb  </td></tr>\n",
       "\t<tr><th scope=row>21</th><td>auc_seg2_glm_fb</td><td>l10_seg2_glm_fb</td><td>0.000000000</td><td>0.050000000</td><td>Turkey       </td><td>Non China</td><td>1</td><td>1</td><td>1</td><td>United States             </td><td>1</td><td>  2</td><td>  1.500000</td><td>  1</td><td>  0.5129892</td><td>0.0000000</td><td>-2.0975000</td><td>6</td><td>38</td><td>16.60000</td><td>32</td><td>9.0344370</td><td> 0.81327880</td><td>-0.3169641</td><td>0.17</td><td>  9.06</td><td>4.445500</td><td>  8.89</td><td> 2.345730</td><td>0.161691637</td><td>-0.6705689</td><td>1</td><td>  2</td><td> 1.100000</td><td>  1</td><td> 0.3077935</td><td>2.4691879</td><td> 4.320278</td><td>0.6000</td><td> 0.60</td><td>0.6000000</td><td> 0.0000</td><td>0.0000000</td><td> 0.58639741</td><td> 5.170752</td><td>0.4839317</td><td>0.5160683</td><td>auc_agg_rf_fb  </td></tr>\n",
       "\t<tr><th scope=row>22</th><td>auc_seg2_glm_fb</td><td>l10_seg2_glm_fb</td><td>0.100000000</td><td>0.100000000</td><td>United States</td><td>Non China</td><td>1</td><td>1</td><td>1</td><td>Vietnam, Korea &amp; Indonesia</td><td>1</td><td><span style=white-space:pre-wrap>  2</span></td><td><span style=white-space:pre-wrap>  1.200000</span></td><td><span style=white-space:pre-wrap>  1</span></td><td><span style=white-space:pre-wrap>  0.4216370</span></td><td>1.2807225</td><td>-0.3675000</td><td>5</td><td> 9</td><td> 6.80000</td><td> 4</td><td>1.4757296</td><td>-0.06720992</td><td>-1.7021783</td><td>0.72</td><td><span style=white-space:pre-wrap>  7.92</span></td><td>4.119000</td><td><span style=white-space:pre-wrap>  7.20</span></td><td> 2.954482</td><td>0.006658486</td><td>-1.9702361</td><td>1</td><td><span style=white-space:pre-wrap>  2</span></td><td> 1.200000</td><td><span style=white-space:pre-wrap>  1</span></td><td> 0.4216370</td><td>1.2807225</td><td>-0.367500</td><td>1.0000</td><td> 1.00</td><td>1.0000000</td><td> 0.0000</td><td>0.0000000</td><td>-0.04180315</td><td> 1.493367</td><td>0.6425325</td><td>0.3574675</td><td>auc_seg2_glm_fb</td></tr>\n",
       "\t<tr><th scope=row>27</th><td>auc_seg2_glm_fb</td><td>l10_seg2_glm_fb</td><td>0.500000000</td><td>0.500000000</td><td>Germany      </td><td>Non China</td><td>1</td><td>1</td><td>1</td><td>China                     </td><td>1</td><td>  1</td><td>  1.000000</td><td>  0</td><td>  0.0000000</td><td>0.8985435</td><td> 1.8773802</td><td>6</td><td> 7</td><td> 6.50000</td><td> 1</td><td>0.7071068</td><td> 0.00000000</td><td>-2.7500000</td><td>0.44</td><td>  2.01</td><td>1.225000</td><td>  1.57</td><td> 1.110158</td><td>0.000000000</td><td>-2.7500000</td><td>1</td><td>  1</td><td> 1.000000</td><td>  0</td><td> 0.0000000</td><td>4.2837637</td><td>30.418237</td><td>0.7500</td><td>12.00</td><td>6.3750000</td><td>11.2500</td><td>7.9549513</td><td> 0.00000000</td><td>-2.750000</td><td>0.9331873</td><td>0.0668127</td><td>auc_seg2_glm_fb</td></tr>\n",
       "</tbody>\n",
       "</table>\n"
      ],
      "text/latex": [
       "A data.frame: 6 × 48\n",
       "\\begin{tabular}{r|llllllllllllllllllllllllllllllllllllllllllllllll}\n",
       "  & auc\\_win\\_01 & l10\\_win\\_01 & ren\\_prp & tld\\_rat & country\\_maj & region\\_maj & country\\_cnt & region\\_cnt & geo\\_cnt & geo\\_maj & daydom\\_min & daydom\\_max & daydom\\_mean & daydom\\_rng & daydom\\_std & daydom\\_skew & daydom\\_kurt & sldlen\\_min & sldlen\\_max & sldlen\\_mean & sldlen\\_rng & sldlen\\_std & sldlen\\_skew & sldlen\\_kurt & gibbs\\_min & gibbs\\_max & gibbs\\_mean & gibbs\\_rng & gibbs\\_std & gibbs\\_skew & gibbs\\_kurt & pdcnt\\_min & pdcnt\\_max & pdcnt\\_mean & pdcnt\\_rng & pdcnt\\_std & pdcnt\\_skew & pdcnt\\_kurt & regarpt\\_min & regarpt\\_max & regarpt\\_mean & regarpt\\_rng & regarpt\\_std & regarpt\\_skew & regarpt\\_kurt & auc\\_seg2\\_glm\\_fb & auc\\_agg\\_rf\\_fb & auc\\_win\\_01\\\\\n",
       "  & <fct> & <chr> & <dbl> & <dbl> & <chr> & <chr> & <int> & <int> & <int> & <fct> & <int> & <int> & <dbl> & <int> & <dbl> & <dbl> & <dbl> & <int> & <int> & <dbl> & <int> & <dbl> & <dbl> & <dbl> & <dbl> & <dbl> & <dbl> & <dbl> & <dbl> & <dbl> & <dbl> & <int> & <int> & <dbl> & <int> & <dbl> & <dbl> & <dbl> & <dbl> & <dbl> & <dbl> & <dbl> & <dbl> & <dbl> & <dbl> & <dbl> & <dbl> & <chr>\\\\\n",
       "\\hline\n",
       "\t3 & auc\\_seg2\\_glm\\_fb & l10\\_seg2\\_glm\\_fb & 0.500000000 & 0.500000000 & United States & Non China & 1 & 1 & 1 & EU                         & 1 &   1 &   1.000000 &   0 &   0.0000000 & 0.6129124 &  1.7090507 & 7 &  7 &  7.00000 &  0 & 0.0000000 & -0.08561204 & -2.7165035 & 4.51 &   6.09 & 5.300000 &   1.58 &  1.117229 & 0.000000000 & -2.7500000 & 1 &   1 &  1.000000 &   0 &  0.0000000 & 3.9551438 & 28.732739 & 5.0000 &  5.00 & 5.0000000 &  0.0000 & 0.0000000 & -0.16638946 & -2.175113 & 0.8815460 & 0.1184540 & auc\\_seg2\\_glm\\_fb\\\\\n",
       "\t14 & auc\\_seg2\\_glm\\_fb & l10\\_seg2\\_glm\\_fb & 0.000000000 & 0.142857143 & United States & Non China & 1 & 1 & 1 & China                      & 1 &   3 &   1.857143 &   2 &   1.0690450 & 0.2290811 & -2.2040816 & 4 & 16 & 10.28571 & 12 & 4.0296520 & -0.09971565 & -1.4881693 & 0.36 &   6.21 & 2.254286 &   5.85 &  1.955274 & 0.942908398 & -0.3827446 & 1 &   3 &  1.857143 &   2 &  1.0690450 & 0.2290811 & -2.204082 & 0.7500 &  0.75 & 0.7500000 &  0.0000 & 0.0000000 & -0.97369044 &  5.751201 & 0.6917873 & 0.3082127 & auc\\_seg2\\_glm\\_fb\\\\\n",
       "\t15 & auc\\_agg\\_rf\\_fb   & l10\\_agg\\_rf\\_fb   & 0.002649241 & 0.000176616 & United States & Non China & 1 & 1 & 1 & China                      & 1 & 430 & 182.112681 & 429 & 119.0331510 & 0.3456977 & -0.7722064 & 3 & 26 & 10.36789 & 23 & 4.1376826 &  0.22273449 & -0.9579907 & 0.00 & 100.00 & 3.983608 & 100.00 & 16.912994 & 5.458734134 & 28.0148392 & 1 & 277 & 32.292476 & 276 & 76.4373470 & 2.3869184 &  4.085732 & 0.0001 &  2.91 & 0.7246167 &  2.9099 & 0.1409665 & -4.08276354 & 31.605586 & 0.4789294 & 0.5210706 & auc\\_agg\\_rf\\_fb  \\\\\n",
       "\t21 & auc\\_seg2\\_glm\\_fb & l10\\_seg2\\_glm\\_fb & 0.000000000 & 0.050000000 & Turkey        & Non China & 1 & 1 & 1 & United States              & 1 &   2 &   1.500000 &   1 &   0.5129892 & 0.0000000 & -2.0975000 & 6 & 38 & 16.60000 & 32 & 9.0344370 &  0.81327880 & -0.3169641 & 0.17 &   9.06 & 4.445500 &   8.89 &  2.345730 & 0.161691637 & -0.6705689 & 1 &   2 &  1.100000 &   1 &  0.3077935 & 2.4691879 &  4.320278 & 0.6000 &  0.60 & 0.6000000 &  0.0000 & 0.0000000 &  0.58639741 &  5.170752 & 0.4839317 & 0.5160683 & auc\\_agg\\_rf\\_fb  \\\\\n",
       "\t22 & auc\\_seg2\\_glm\\_fb & l10\\_seg2\\_glm\\_fb & 0.100000000 & 0.100000000 & United States & Non China & 1 & 1 & 1 & Vietnam, Korea \\& Indonesia & 1 &   2 &   1.200000 &   1 &   0.4216370 & 1.2807225 & -0.3675000 & 5 &  9 &  6.80000 &  4 & 1.4757296 & -0.06720992 & -1.7021783 & 0.72 &   7.92 & 4.119000 &   7.20 &  2.954482 & 0.006658486 & -1.9702361 & 1 &   2 &  1.200000 &   1 &  0.4216370 & 1.2807225 & -0.367500 & 1.0000 &  1.00 & 1.0000000 &  0.0000 & 0.0000000 & -0.04180315 &  1.493367 & 0.6425325 & 0.3574675 & auc\\_seg2\\_glm\\_fb\\\\\n",
       "\t27 & auc\\_seg2\\_glm\\_fb & l10\\_seg2\\_glm\\_fb & 0.500000000 & 0.500000000 & Germany       & Non China & 1 & 1 & 1 & China                      & 1 &   1 &   1.000000 &   0 &   0.0000000 & 0.8985435 &  1.8773802 & 6 &  7 &  6.50000 &  1 & 0.7071068 &  0.00000000 & -2.7500000 & 0.44 &   2.01 & 1.225000 &   1.57 &  1.110158 & 0.000000000 & -2.7500000 & 1 &   1 &  1.000000 &   0 &  0.0000000 & 4.2837637 & 30.418237 & 0.7500 & 12.00 & 6.3750000 & 11.2500 & 7.9549513 &  0.00000000 & -2.750000 & 0.9331873 & 0.0668127 & auc\\_seg2\\_glm\\_fb\\\\\n",
       "\\end{tabular}\n"
      ],
      "text/markdown": [
       "\n",
       "A data.frame: 6 × 48\n",
       "\n",
       "| <!--/--> | auc_win_01 &lt;fct&gt; | l10_win_01 &lt;chr&gt; | ren_prp &lt;dbl&gt; | tld_rat &lt;dbl&gt; | country_maj &lt;chr&gt; | region_maj &lt;chr&gt; | country_cnt &lt;int&gt; | region_cnt &lt;int&gt; | geo_cnt &lt;int&gt; | geo_maj &lt;fct&gt; | daydom_min &lt;int&gt; | daydom_max &lt;int&gt; | daydom_mean &lt;dbl&gt; | daydom_rng &lt;int&gt; | daydom_std &lt;dbl&gt; | daydom_skew &lt;dbl&gt; | daydom_kurt &lt;dbl&gt; | sldlen_min &lt;int&gt; | sldlen_max &lt;int&gt; | sldlen_mean &lt;dbl&gt; | sldlen_rng &lt;int&gt; | sldlen_std &lt;dbl&gt; | sldlen_skew &lt;dbl&gt; | sldlen_kurt &lt;dbl&gt; | gibbs_min &lt;dbl&gt; | gibbs_max &lt;dbl&gt; | gibbs_mean &lt;dbl&gt; | gibbs_rng &lt;dbl&gt; | gibbs_std &lt;dbl&gt; | gibbs_skew &lt;dbl&gt; | gibbs_kurt &lt;dbl&gt; | pdcnt_min &lt;int&gt; | pdcnt_max &lt;int&gt; | pdcnt_mean &lt;dbl&gt; | pdcnt_rng &lt;int&gt; | pdcnt_std &lt;dbl&gt; | pdcnt_skew &lt;dbl&gt; | pdcnt_kurt &lt;dbl&gt; | regarpt_min &lt;dbl&gt; | regarpt_max &lt;dbl&gt; | regarpt_mean &lt;dbl&gt; | regarpt_rng &lt;dbl&gt; | regarpt_std &lt;dbl&gt; | regarpt_skew &lt;dbl&gt; | regarpt_kurt &lt;dbl&gt; | auc_seg2_glm_fb &lt;dbl&gt; | auc_agg_rf_fb &lt;dbl&gt; | auc_win_01 &lt;chr&gt; |\n",
       "|---|---|---|---|---|---|---|---|---|---|---|---|---|---|---|---|---|---|---|---|---|---|---|---|---|---|---|---|---|---|---|---|---|---|---|---|---|---|---|---|---|---|---|---|---|---|---|---|---|\n",
       "| 3 | auc_seg2_glm_fb | l10_seg2_glm_fb | 0.500000000 | 0.500000000 | United States | Non China | 1 | 1 | 1 | EU                         | 1 |   1 |   1.000000 |   0 |   0.0000000 | 0.6129124 |  1.7090507 | 7 |  7 |  7.00000 |  0 | 0.0000000 | -0.08561204 | -2.7165035 | 4.51 |   6.09 | 5.300000 |   1.58 |  1.117229 | 0.000000000 | -2.7500000 | 1 |   1 |  1.000000 |   0 |  0.0000000 | 3.9551438 | 28.732739 | 5.0000 |  5.00 | 5.0000000 |  0.0000 | 0.0000000 | -0.16638946 | -2.175113 | 0.8815460 | 0.1184540 | auc_seg2_glm_fb |\n",
       "| 14 | auc_seg2_glm_fb | l10_seg2_glm_fb | 0.000000000 | 0.142857143 | United States | Non China | 1 | 1 | 1 | China                      | 1 |   3 |   1.857143 |   2 |   1.0690450 | 0.2290811 | -2.2040816 | 4 | 16 | 10.28571 | 12 | 4.0296520 | -0.09971565 | -1.4881693 | 0.36 |   6.21 | 2.254286 |   5.85 |  1.955274 | 0.942908398 | -0.3827446 | 1 |   3 |  1.857143 |   2 |  1.0690450 | 0.2290811 | -2.204082 | 0.7500 |  0.75 | 0.7500000 |  0.0000 | 0.0000000 | -0.97369044 |  5.751201 | 0.6917873 | 0.3082127 | auc_seg2_glm_fb |\n",
       "| 15 | auc_agg_rf_fb   | l10_agg_rf_fb   | 0.002649241 | 0.000176616 | United States | Non China | 1 | 1 | 1 | China                      | 1 | 430 | 182.112681 | 429 | 119.0331510 | 0.3456977 | -0.7722064 | 3 | 26 | 10.36789 | 23 | 4.1376826 |  0.22273449 | -0.9579907 | 0.00 | 100.00 | 3.983608 | 100.00 | 16.912994 | 5.458734134 | 28.0148392 | 1 | 277 | 32.292476 | 276 | 76.4373470 | 2.3869184 |  4.085732 | 0.0001 |  2.91 | 0.7246167 |  2.9099 | 0.1409665 | -4.08276354 | 31.605586 | 0.4789294 | 0.5210706 | auc_agg_rf_fb   |\n",
       "| 21 | auc_seg2_glm_fb | l10_seg2_glm_fb | 0.000000000 | 0.050000000 | Turkey        | Non China | 1 | 1 | 1 | United States              | 1 |   2 |   1.500000 |   1 |   0.5129892 | 0.0000000 | -2.0975000 | 6 | 38 | 16.60000 | 32 | 9.0344370 |  0.81327880 | -0.3169641 | 0.17 |   9.06 | 4.445500 |   8.89 |  2.345730 | 0.161691637 | -0.6705689 | 1 |   2 |  1.100000 |   1 |  0.3077935 | 2.4691879 |  4.320278 | 0.6000 |  0.60 | 0.6000000 |  0.0000 | 0.0000000 |  0.58639741 |  5.170752 | 0.4839317 | 0.5160683 | auc_agg_rf_fb   |\n",
       "| 22 | auc_seg2_glm_fb | l10_seg2_glm_fb | 0.100000000 | 0.100000000 | United States | Non China | 1 | 1 | 1 | Vietnam, Korea &amp; Indonesia | 1 |   2 |   1.200000 |   1 |   0.4216370 | 1.2807225 | -0.3675000 | 5 |  9 |  6.80000 |  4 | 1.4757296 | -0.06720992 | -1.7021783 | 0.72 |   7.92 | 4.119000 |   7.20 |  2.954482 | 0.006658486 | -1.9702361 | 1 |   2 |  1.200000 |   1 |  0.4216370 | 1.2807225 | -0.367500 | 1.0000 |  1.00 | 1.0000000 |  0.0000 | 0.0000000 | -0.04180315 |  1.493367 | 0.6425325 | 0.3574675 | auc_seg2_glm_fb |\n",
       "| 27 | auc_seg2_glm_fb | l10_seg2_glm_fb | 0.500000000 | 0.500000000 | Germany       | Non China | 1 | 1 | 1 | China                      | 1 |   1 |   1.000000 |   0 |   0.0000000 | 0.8985435 |  1.8773802 | 6 |  7 |  6.50000 |  1 | 0.7071068 |  0.00000000 | -2.7500000 | 0.44 |   2.01 | 1.225000 |   1.57 |  1.110158 | 0.000000000 | -2.7500000 | 1 |   1 |  1.000000 |   0 |  0.0000000 | 4.2837637 | 30.418237 | 0.7500 | 12.00 | 6.3750000 | 11.2500 | 7.9549513 |  0.00000000 | -2.750000 | 0.9331873 | 0.0668127 | auc_seg2_glm_fb |\n",
       "\n"
      ],
      "text/plain": [
       "   auc_win_01      l10_win_01      ren_prp     tld_rat     country_maj  \n",
       "3  auc_seg2_glm_fb l10_seg2_glm_fb 0.500000000 0.500000000 United States\n",
       "14 auc_seg2_glm_fb l10_seg2_glm_fb 0.000000000 0.142857143 United States\n",
       "15 auc_agg_rf_fb   l10_agg_rf_fb   0.002649241 0.000176616 United States\n",
       "21 auc_seg2_glm_fb l10_seg2_glm_fb 0.000000000 0.050000000 Turkey       \n",
       "22 auc_seg2_glm_fb l10_seg2_glm_fb 0.100000000 0.100000000 United States\n",
       "27 auc_seg2_glm_fb l10_seg2_glm_fb 0.500000000 0.500000000 Germany      \n",
       "   region_maj country_cnt region_cnt geo_cnt geo_maj                   \n",
       "3  Non China  1           1          1       EU                        \n",
       "14 Non China  1           1          1       China                     \n",
       "15 Non China  1           1          1       China                     \n",
       "21 Non China  1           1          1       United States             \n",
       "22 Non China  1           1          1       Vietnam, Korea & Indonesia\n",
       "27 Non China  1           1          1       China                     \n",
       "   daydom_min daydom_max daydom_mean daydom_rng daydom_std  daydom_skew\n",
       "3  1            1          1.000000    0          0.0000000 0.6129124  \n",
       "14 1            3          1.857143    2          1.0690450 0.2290811  \n",
       "15 1          430        182.112681  429        119.0331510 0.3456977  \n",
       "21 1            2          1.500000    1          0.5129892 0.0000000  \n",
       "22 1            2          1.200000    1          0.4216370 1.2807225  \n",
       "27 1            1          1.000000    0          0.0000000 0.8985435  \n",
       "   daydom_kurt sldlen_min sldlen_max sldlen_mean sldlen_rng sldlen_std\n",
       "3   1.7090507  7           7          7.00000     0         0.0000000 \n",
       "14 -2.2040816  4          16         10.28571    12         4.0296520 \n",
       "15 -0.7722064  3          26         10.36789    23         4.1376826 \n",
       "21 -2.0975000  6          38         16.60000    32         9.0344370 \n",
       "22 -0.3675000  5           9          6.80000     4         1.4757296 \n",
       "27  1.8773802  6           7          6.50000     1         0.7071068 \n",
       "   sldlen_skew sldlen_kurt gibbs_min gibbs_max gibbs_mean gibbs_rng gibbs_std\n",
       "3  -0.08561204 -2.7165035  4.51        6.09    5.300000     1.58     1.117229\n",
       "14 -0.09971565 -1.4881693  0.36        6.21    2.254286     5.85     1.955274\n",
       "15  0.22273449 -0.9579907  0.00      100.00    3.983608   100.00    16.912994\n",
       "21  0.81327880 -0.3169641  0.17        9.06    4.445500     8.89     2.345730\n",
       "22 -0.06720992 -1.7021783  0.72        7.92    4.119000     7.20     2.954482\n",
       "27  0.00000000 -2.7500000  0.44        2.01    1.225000     1.57     1.110158\n",
       "   gibbs_skew  gibbs_kurt pdcnt_min pdcnt_max pdcnt_mean pdcnt_rng pdcnt_std \n",
       "3  0.000000000 -2.7500000 1           1        1.000000    0        0.0000000\n",
       "14 0.942908398 -0.3827446 1           3        1.857143    2        1.0690450\n",
       "15 5.458734134 28.0148392 1         277       32.292476  276       76.4373470\n",
       "21 0.161691637 -0.6705689 1           2        1.100000    1        0.3077935\n",
       "22 0.006658486 -1.9702361 1           2        1.200000    1        0.4216370\n",
       "27 0.000000000 -2.7500000 1           1        1.000000    0        0.0000000\n",
       "   pdcnt_skew pdcnt_kurt regarpt_min regarpt_max regarpt_mean regarpt_rng\n",
       "3  3.9551438  28.732739  5.0000       5.00       5.0000000     0.0000    \n",
       "14 0.2290811  -2.204082  0.7500       0.75       0.7500000     0.0000    \n",
       "15 2.3869184   4.085732  0.0001       2.91       0.7246167     2.9099    \n",
       "21 2.4691879   4.320278  0.6000       0.60       0.6000000     0.0000    \n",
       "22 1.2807225  -0.367500  1.0000       1.00       1.0000000     0.0000    \n",
       "27 4.2837637  30.418237  0.7500      12.00       6.3750000    11.2500    \n",
       "   regarpt_std regarpt_skew regarpt_kurt auc_seg2_glm_fb auc_agg_rf_fb\n",
       "3  0.0000000   -0.16638946  -2.175113    0.8815460       0.1184540    \n",
       "14 0.0000000   -0.97369044   5.751201    0.6917873       0.3082127    \n",
       "15 0.1409665   -4.08276354  31.605586    0.4789294       0.5210706    \n",
       "21 0.0000000    0.58639741   5.170752    0.4839317       0.5160683    \n",
       "22 0.0000000   -0.04180315   1.493367    0.6425325       0.3574675    \n",
       "27 7.9549513    0.00000000  -2.750000    0.9331873       0.0668127    \n",
       "   auc_win_01     \n",
       "3  auc_seg2_glm_fb\n",
       "14 auc_seg2_glm_fb\n",
       "15 auc_agg_rf_fb  \n",
       "21 auc_agg_rf_fb  \n",
       "22 auc_seg2_glm_fb\n",
       "27 auc_seg2_glm_fb"
      ]
     },
     "metadata": {},
     "output_type": "display_data"
    }
   ],
   "source": [
    "test_pred <- cbind(test,pred)\n",
    "test_pred <- test_pred %>% select()\n",
    "dim(test)\n",
    "dim(pred)\n",
    "dim(test_pred)\n",
    "head(test_pred)"
   ]
  },
  {
   "cell_type": "markdown",
   "metadata": {},
   "source": [
    "# Calc metrics"
   ]
  },
  {
   "cell_type": "markdown",
   "metadata": {},
   "source": [
    "## generate lookup for tld-reg model"
   ]
  },
  {
   "cell_type": "code",
   "execution_count": 324,
   "metadata": {},
   "outputs": [
    {
     "data": {
      "text/html": [
       "<table>\n",
       "<caption>A tibble: 6 × 46</caption>\n",
       "<thead>\n",
       "\t<tr><th scope=col>tld_registrar_index</th><th scope=col>geo_maj</th><th scope=col>geo_cnt</th><th scope=col>n</th><th scope=col>ren_prp</th><th scope=col>tld_cnt</th><th scope=col>tld_rat</th><th scope=col>daydom_min</th><th scope=col>daydom_max</th><th scope=col>daydom_mean</th><th scope=col>daydom_rng</th><th scope=col>daydom_std</th><th scope=col>daydom_skew</th><th scope=col>daydom_kurt</th><th scope=col>sldlen_min</th><th scope=col>sldlen_max</th><th scope=col>sldlen_mean</th><th scope=col>sldlen_rng</th><th scope=col>sldlen_std</th><th scope=col>sldlen_skew</th><th scope=col>sldlen_kurt</th><th scope=col>gibbs_min</th><th scope=col>gibbs_max</th><th scope=col>gibbs_mean</th><th scope=col>gibbs_rng</th><th scope=col>gibbs_std</th><th scope=col>gibbs_skew</th><th scope=col>gibbs_kurt</th><th scope=col>pdcnt_min</th><th scope=col>pdcnt_max</th><th scope=col>pdcnt_mean</th><th scope=col>pdcnt_rng</th><th scope=col>pdcnt_std</th><th scope=col>pdcnt_skew</th><th scope=col>pdcnt_kurt</th><th scope=col>regarpt_min</th><th scope=col>regarpt_max</th><th scope=col>regarpt_mean</th><th scope=col>regarpt_rng</th><th scope=col>regarpt_std</th><th scope=col>regarpt_skew</th><th scope=col>regarpt_kurt</th><th scope=col>country_maj</th><th scope=col>region_maj</th><th scope=col>country_cnt</th><th scope=col>region_cnt</th></tr>\n",
       "\t<tr><th scope=col>&lt;chr&gt;</th><th scope=col>&lt;fct&gt;</th><th scope=col>&lt;int&gt;</th><th scope=col>&lt;int&gt;</th><th scope=col>&lt;dbl&gt;</th><th scope=col>&lt;int&gt;</th><th scope=col>&lt;dbl&gt;</th><th scope=col>&lt;int&gt;</th><th scope=col>&lt;int&gt;</th><th scope=col>&lt;dbl&gt;</th><th scope=col>&lt;int&gt;</th><th scope=col>&lt;dbl&gt;</th><th scope=col>&lt;dbl&gt;</th><th scope=col>&lt;dbl&gt;</th><th scope=col>&lt;int&gt;</th><th scope=col>&lt;int&gt;</th><th scope=col>&lt;dbl&gt;</th><th scope=col>&lt;int&gt;</th><th scope=col>&lt;dbl&gt;</th><th scope=col>&lt;dbl&gt;</th><th scope=col>&lt;dbl&gt;</th><th scope=col>&lt;dbl&gt;</th><th scope=col>&lt;dbl&gt;</th><th scope=col>&lt;dbl&gt;</th><th scope=col>&lt;dbl&gt;</th><th scope=col>&lt;dbl&gt;</th><th scope=col>&lt;dbl&gt;</th><th scope=col>&lt;dbl&gt;</th><th scope=col>&lt;int&gt;</th><th scope=col>&lt;int&gt;</th><th scope=col>&lt;dbl&gt;</th><th scope=col>&lt;int&gt;</th><th scope=col>&lt;dbl&gt;</th><th scope=col>&lt;dbl&gt;</th><th scope=col>&lt;dbl&gt;</th><th scope=col>&lt;dbl&gt;</th><th scope=col>&lt;dbl&gt;</th><th scope=col>&lt;dbl&gt;</th><th scope=col>&lt;dbl&gt;</th><th scope=col>&lt;dbl&gt;</th><th scope=col>&lt;dbl&gt;</th><th scope=col>&lt;dbl&gt;</th><th scope=col>&lt;chr&gt;</th><th scope=col>&lt;chr&gt;</th><th scope=col>&lt;int&gt;</th><th scope=col>&lt;int&gt;</th></tr>\n",
       "</thead>\n",
       "<tbody>\n",
       "\t<tr><td><span style=white-space:pre-wrap>fun1&amp;1 internet    </span></td><td><span style=white-space:pre-wrap>EU   </span></td><td>1</td><td><span style=white-space:pre-wrap>    2</span></td><td>1.0000000</td><td>1</td><td>5.000000e-01</td><td>1</td><td><span style=white-space:pre-wrap>  1</span></td><td><span style=white-space:pre-wrap>  1.000000</span></td><td><span style=white-space:pre-wrap>  0</span></td><td><span style=white-space:pre-wrap>  0.000000</span></td><td><span style=white-space:pre-wrap>       NaN</span></td><td><span style=white-space:pre-wrap>      NaN</span></td><td>6</td><td> 9</td><td>7.500000</td><td> 3</td><td>2.121320</td><td>0.0000000</td><td>-2.7500000</td><td>2.23</td><td><span style=white-space:pre-wrap>  3.45</span></td><td>2.840000</td><td><span style=white-space:pre-wrap>  1.22</span></td><td> 0.8626703</td><td> 3.890973e-16</td><td>-2.7500000</td><td>1</td><td> 1</td><td>1.000000</td><td> 0</td><td>0.0000000</td><td><span style=white-space:pre-wrap>     NaN</span></td><td><span style=white-space:pre-wrap>      NaN</span></td><td>15.00</td><td>15.00</td><td>15.0000000</td><td>0.00</td><td>0.00000000</td><td><span style=white-space:pre-wrap>      NaN</span></td><td><span style=white-space:pre-wrap>        NaN</span></td><td><span style=white-space:pre-wrap>Japan        </span></td><td>Non China</td><td>1</td><td>1</td></tr>\n",
       "\t<tr><td>fun10dencehispahard</td><td>EU   </td><td>1</td><td>    2</td><td>0.0000000</td><td>1</td><td>5.000000e-01</td><td>1</td><td>  1</td><td>  1.000000</td><td>  0</td><td>  0.000000</td><td>       NaN</td><td>      NaN</td><td>6</td><td> 8</td><td>7.000000</td><td> 2</td><td>1.414214</td><td>0.0000000</td><td>-2.7500000</td><td>3.13</td><td>  8.62</td><td>5.875000</td><td>  5.49</td><td> 3.8820162</td><td>-1.821837e-16</td><td>-2.7500000</td><td>1</td><td> 1</td><td>1.000000</td><td> 0</td><td>0.0000000</td><td>     NaN</td><td>      NaN</td><td>15.00</td><td>15.00</td><td>15.0000000</td><td>0.00</td><td>0.00000000</td><td>      NaN</td><td>        NaN</td><td>China        </td><td>China    </td><td>1</td><td>1</td></tr>\n",
       "\t<tr><td>fun1api            </td><td>EU   </td><td>1</td><td>    2</td><td>0.5000000</td><td>1</td><td>5.000000e-01</td><td>1</td><td>  1</td><td>  1.000000</td><td>  0</td><td>  0.000000</td><td>       NaN</td><td>      NaN</td><td>7</td><td> 7</td><td>7.000000</td><td> 0</td><td>0.000000</td><td>      NaN</td><td>       NaN</td><td>4.51</td><td>  6.09</td><td>5.300000</td><td>  1.58</td><td> 1.1172287</td><td> 0.000000e+00</td><td>-2.7500000</td><td>1</td><td> 1</td><td>1.000000</td><td> 0</td><td>0.0000000</td><td>     NaN</td><td>      NaN</td><td> 5.00</td><td> 5.00</td><td> 5.0000000</td><td>0.00</td><td>0.00000000</td><td>      NaN</td><td>        NaN</td><td>United States</td><td>Non China</td><td>1</td><td>1</td></tr>\n",
       "\t<tr><td>funactive 24       </td><td>EU   </td><td>1</td><td>   22</td><td>0.2272727</td><td>1</td><td>4.545455e-02</td><td>1</td><td>  3</td><td>  2.090909</td><td>  2</td><td>  1.019294</td><td>-0.1702685</td><td>-2.058471</td><td>4</td><td>14</td><td>7.363636</td><td>10</td><td>2.498484</td><td>0.8100072</td><td> 0.4123014</td><td>0.59</td><td>100.00</td><td>9.425000</td><td> 99.41</td><td>20.4690367</td><td> 3.916190e+00</td><td>14.4351125</td><td>1</td><td> 3</td><td>1.272727</td><td> 2</td><td>0.7025002</td><td>1.976412</td><td> 2.003371</td><td> 0.50</td><td> 0.50</td><td> 0.5000000</td><td>0.00</td><td>0.00000000</td><td>      NaN</td><td>        NaN</td><td>United States</td><td>Non China</td><td>1</td><td>1</td></tr>\n",
       "\t<tr><td>funalibaba         </td><td>China</td><td>1</td><td>18208</td><td>0.0118080</td><td>1</td><td>5.492091e-05</td><td>1</td><td>705</td><td>219.892025</td><td>704</td><td>156.107008</td><td> 1.5055591</td><td> 2.301106</td><td>3</td><td>38</td><td>6.956832</td><td>35</td><td>3.311960</td><td>2.9556282</td><td>13.5354533</td><td>0.00</td><td>100.00</td><td>6.320069</td><td>100.00</td><td>21.0541141</td><td> 4.158734e+00</td><td>15.5656248</td><td>1</td><td>74</td><td>5.124341</td><td>73</td><td>9.7106897</td><td>4.178197</td><td>19.706420</td><td> 0.75</td><td> 4.75</td><td> 0.7519112</td><td>4.00</td><td>0.07918874</td><td>48.370853</td><td>2363.819659</td><td>United States</td><td>Non China</td><td>1</td><td>1</td></tr>\n",
       "\t<tr><td>funalibaba sg      </td><td>China</td><td>1</td><td>   16</td><td>0.0625000</td><td>1</td><td>6.250000e-02</td><td>1</td><td>  1</td><td>  1.000000</td><td>  0</td><td>  0.000000</td><td>       NaN</td><td>      NaN</td><td>4</td><td>13</td><td>7.375000</td><td> 9</td><td>2.604483</td><td>0.3561975</td><td>-0.8500916</td><td>0.24</td><td> 13.58</td><td>4.647500</td><td> 13.34</td><td> 3.3497910</td><td> 1.008842e+00</td><td> 0.7044306</td><td>1</td><td> 1</td><td>1.000000</td><td> 0</td><td>0.0000000</td><td>     NaN</td><td>      NaN</td><td> 0.75</td><td> 8.50</td><td> 1.2656250</td><td>7.75</td><td>1.92931065</td><td> 3.280409</td><td>   9.359645</td><td>France       </td><td>Non China</td><td>1</td><td>1</td></tr>\n",
       "</tbody>\n",
       "</table>\n"
      ],
      "text/latex": [
       "A tibble: 6 × 46\n",
       "\\begin{tabular}{llllllllllllllllllllllllllllllllllllllllllllll}\n",
       " tld\\_registrar\\_index & geo\\_maj & geo\\_cnt & n & ren\\_prp & tld\\_cnt & tld\\_rat & daydom\\_min & daydom\\_max & daydom\\_mean & daydom\\_rng & daydom\\_std & daydom\\_skew & daydom\\_kurt & sldlen\\_min & sldlen\\_max & sldlen\\_mean & sldlen\\_rng & sldlen\\_std & sldlen\\_skew & sldlen\\_kurt & gibbs\\_min & gibbs\\_max & gibbs\\_mean & gibbs\\_rng & gibbs\\_std & gibbs\\_skew & gibbs\\_kurt & pdcnt\\_min & pdcnt\\_max & pdcnt\\_mean & pdcnt\\_rng & pdcnt\\_std & pdcnt\\_skew & pdcnt\\_kurt & regarpt\\_min & regarpt\\_max & regarpt\\_mean & regarpt\\_rng & regarpt\\_std & regarpt\\_skew & regarpt\\_kurt & country\\_maj & region\\_maj & country\\_cnt & region\\_cnt\\\\\n",
       " <chr> & <fct> & <int> & <int> & <dbl> & <int> & <dbl> & <int> & <int> & <dbl> & <int> & <dbl> & <dbl> & <dbl> & <int> & <int> & <dbl> & <int> & <dbl> & <dbl> & <dbl> & <dbl> & <dbl> & <dbl> & <dbl> & <dbl> & <dbl> & <dbl> & <int> & <int> & <dbl> & <int> & <dbl> & <dbl> & <dbl> & <dbl> & <dbl> & <dbl> & <dbl> & <dbl> & <dbl> & <dbl> & <chr> & <chr> & <int> & <int>\\\\\n",
       "\\hline\n",
       "\t fun1\\&1 internet     & EU    & 1 &     2 & 1.0000000 & 1 & 5.000000e-01 & 1 &   1 &   1.000000 &   0 &   0.000000 &        NaN &       NaN & 6 &  9 & 7.500000 &  3 & 2.121320 & 0.0000000 & -2.7500000 & 2.23 &   3.45 & 2.840000 &   1.22 &  0.8626703 &  3.890973e-16 & -2.7500000 & 1 &  1 & 1.000000 &  0 & 0.0000000 &      NaN &       NaN & 15.00 & 15.00 & 15.0000000 & 0.00 & 0.00000000 &       NaN &         NaN & Japan         & Non China & 1 & 1\\\\\n",
       "\t fun10dencehispahard & EU    & 1 &     2 & 0.0000000 & 1 & 5.000000e-01 & 1 &   1 &   1.000000 &   0 &   0.000000 &        NaN &       NaN & 6 &  8 & 7.000000 &  2 & 1.414214 & 0.0000000 & -2.7500000 & 3.13 &   8.62 & 5.875000 &   5.49 &  3.8820162 & -1.821837e-16 & -2.7500000 & 1 &  1 & 1.000000 &  0 & 0.0000000 &      NaN &       NaN & 15.00 & 15.00 & 15.0000000 & 0.00 & 0.00000000 &       NaN &         NaN & China         & China     & 1 & 1\\\\\n",
       "\t fun1api             & EU    & 1 &     2 & 0.5000000 & 1 & 5.000000e-01 & 1 &   1 &   1.000000 &   0 &   0.000000 &        NaN &       NaN & 7 &  7 & 7.000000 &  0 & 0.000000 &       NaN &        NaN & 4.51 &   6.09 & 5.300000 &   1.58 &  1.1172287 &  0.000000e+00 & -2.7500000 & 1 &  1 & 1.000000 &  0 & 0.0000000 &      NaN &       NaN &  5.00 &  5.00 &  5.0000000 & 0.00 & 0.00000000 &       NaN &         NaN & United States & Non China & 1 & 1\\\\\n",
       "\t funactive 24        & EU    & 1 &    22 & 0.2272727 & 1 & 4.545455e-02 & 1 &   3 &   2.090909 &   2 &   1.019294 & -0.1702685 & -2.058471 & 4 & 14 & 7.363636 & 10 & 2.498484 & 0.8100072 &  0.4123014 & 0.59 & 100.00 & 9.425000 &  99.41 & 20.4690367 &  3.916190e+00 & 14.4351125 & 1 &  3 & 1.272727 &  2 & 0.7025002 & 1.976412 &  2.003371 &  0.50 &  0.50 &  0.5000000 & 0.00 & 0.00000000 &       NaN &         NaN & United States & Non China & 1 & 1\\\\\n",
       "\t funalibaba          & China & 1 & 18208 & 0.0118080 & 1 & 5.492091e-05 & 1 & 705 & 219.892025 & 704 & 156.107008 &  1.5055591 &  2.301106 & 3 & 38 & 6.956832 & 35 & 3.311960 & 2.9556282 & 13.5354533 & 0.00 & 100.00 & 6.320069 & 100.00 & 21.0541141 &  4.158734e+00 & 15.5656248 & 1 & 74 & 5.124341 & 73 & 9.7106897 & 4.178197 & 19.706420 &  0.75 &  4.75 &  0.7519112 & 4.00 & 0.07918874 & 48.370853 & 2363.819659 & United States & Non China & 1 & 1\\\\\n",
       "\t funalibaba sg       & China & 1 &    16 & 0.0625000 & 1 & 6.250000e-02 & 1 &   1 &   1.000000 &   0 &   0.000000 &        NaN &       NaN & 4 & 13 & 7.375000 &  9 & 2.604483 & 0.3561975 & -0.8500916 & 0.24 &  13.58 & 4.647500 &  13.34 &  3.3497910 &  1.008842e+00 &  0.7044306 & 1 &  1 & 1.000000 &  0 & 0.0000000 &      NaN &       NaN &  0.75 &  8.50 &  1.2656250 & 7.75 & 1.92931065 &  3.280409 &    9.359645 & France        & Non China & 1 & 1\\\\\n",
       "\\end{tabular}\n"
      ],
      "text/markdown": [
       "\n",
       "A tibble: 6 × 46\n",
       "\n",
       "| tld_registrar_index &lt;chr&gt; | geo_maj &lt;fct&gt; | geo_cnt &lt;int&gt; | n &lt;int&gt; | ren_prp &lt;dbl&gt; | tld_cnt &lt;int&gt; | tld_rat &lt;dbl&gt; | daydom_min &lt;int&gt; | daydom_max &lt;int&gt; | daydom_mean &lt;dbl&gt; | daydom_rng &lt;int&gt; | daydom_std &lt;dbl&gt; | daydom_skew &lt;dbl&gt; | daydom_kurt &lt;dbl&gt; | sldlen_min &lt;int&gt; | sldlen_max &lt;int&gt; | sldlen_mean &lt;dbl&gt; | sldlen_rng &lt;int&gt; | sldlen_std &lt;dbl&gt; | sldlen_skew &lt;dbl&gt; | sldlen_kurt &lt;dbl&gt; | gibbs_min &lt;dbl&gt; | gibbs_max &lt;dbl&gt; | gibbs_mean &lt;dbl&gt; | gibbs_rng &lt;dbl&gt; | gibbs_std &lt;dbl&gt; | gibbs_skew &lt;dbl&gt; | gibbs_kurt &lt;dbl&gt; | pdcnt_min &lt;int&gt; | pdcnt_max &lt;int&gt; | pdcnt_mean &lt;dbl&gt; | pdcnt_rng &lt;int&gt; | pdcnt_std &lt;dbl&gt; | pdcnt_skew &lt;dbl&gt; | pdcnt_kurt &lt;dbl&gt; | regarpt_min &lt;dbl&gt; | regarpt_max &lt;dbl&gt; | regarpt_mean &lt;dbl&gt; | regarpt_rng &lt;dbl&gt; | regarpt_std &lt;dbl&gt; | regarpt_skew &lt;dbl&gt; | regarpt_kurt &lt;dbl&gt; | country_maj &lt;chr&gt; | region_maj &lt;chr&gt; | country_cnt &lt;int&gt; | region_cnt &lt;int&gt; |\n",
       "|---|---|---|---|---|---|---|---|---|---|---|---|---|---|---|---|---|---|---|---|---|---|---|---|---|---|---|---|---|---|---|---|---|---|---|---|---|---|---|---|---|---|---|---|---|---|\n",
       "| fun1&amp;1 internet     | EU    | 1 |     2 | 1.0000000 | 1 | 5.000000e-01 | 1 |   1 |   1.000000 |   0 |   0.000000 |        NaN |       NaN | 6 |  9 | 7.500000 |  3 | 2.121320 | 0.0000000 | -2.7500000 | 2.23 |   3.45 | 2.840000 |   1.22 |  0.8626703 |  3.890973e-16 | -2.7500000 | 1 |  1 | 1.000000 |  0 | 0.0000000 |      NaN |       NaN | 15.00 | 15.00 | 15.0000000 | 0.00 | 0.00000000 |       NaN |         NaN | Japan         | Non China | 1 | 1 |\n",
       "| fun10dencehispahard | EU    | 1 |     2 | 0.0000000 | 1 | 5.000000e-01 | 1 |   1 |   1.000000 |   0 |   0.000000 |        NaN |       NaN | 6 |  8 | 7.000000 |  2 | 1.414214 | 0.0000000 | -2.7500000 | 3.13 |   8.62 | 5.875000 |   5.49 |  3.8820162 | -1.821837e-16 | -2.7500000 | 1 |  1 | 1.000000 |  0 | 0.0000000 |      NaN |       NaN | 15.00 | 15.00 | 15.0000000 | 0.00 | 0.00000000 |       NaN |         NaN | China         | China     | 1 | 1 |\n",
       "| fun1api             | EU    | 1 |     2 | 0.5000000 | 1 | 5.000000e-01 | 1 |   1 |   1.000000 |   0 |   0.000000 |        NaN |       NaN | 7 |  7 | 7.000000 |  0 | 0.000000 |       NaN |        NaN | 4.51 |   6.09 | 5.300000 |   1.58 |  1.1172287 |  0.000000e+00 | -2.7500000 | 1 |  1 | 1.000000 |  0 | 0.0000000 |      NaN |       NaN |  5.00 |  5.00 |  5.0000000 | 0.00 | 0.00000000 |       NaN |         NaN | United States | Non China | 1 | 1 |\n",
       "| funactive 24        | EU    | 1 |    22 | 0.2272727 | 1 | 4.545455e-02 | 1 |   3 |   2.090909 |   2 |   1.019294 | -0.1702685 | -2.058471 | 4 | 14 | 7.363636 | 10 | 2.498484 | 0.8100072 |  0.4123014 | 0.59 | 100.00 | 9.425000 |  99.41 | 20.4690367 |  3.916190e+00 | 14.4351125 | 1 |  3 | 1.272727 |  2 | 0.7025002 | 1.976412 |  2.003371 |  0.50 |  0.50 |  0.5000000 | 0.00 | 0.00000000 |       NaN |         NaN | United States | Non China | 1 | 1 |\n",
       "| funalibaba          | China | 1 | 18208 | 0.0118080 | 1 | 5.492091e-05 | 1 | 705 | 219.892025 | 704 | 156.107008 |  1.5055591 |  2.301106 | 3 | 38 | 6.956832 | 35 | 3.311960 | 2.9556282 | 13.5354533 | 0.00 | 100.00 | 6.320069 | 100.00 | 21.0541141 |  4.158734e+00 | 15.5656248 | 1 | 74 | 5.124341 | 73 | 9.7106897 | 4.178197 | 19.706420 |  0.75 |  4.75 |  0.7519112 | 4.00 | 0.07918874 | 48.370853 | 2363.819659 | United States | Non China | 1 | 1 |\n",
       "| funalibaba sg       | China | 1 |    16 | 0.0625000 | 1 | 6.250000e-02 | 1 |   1 |   1.000000 |   0 |   0.000000 |        NaN |       NaN | 4 | 13 | 7.375000 |  9 | 2.604483 | 0.3561975 | -0.8500916 | 0.24 |  13.58 | 4.647500 |  13.34 |  3.3497910 |  1.008842e+00 |  0.7044306 | 1 |  1 | 1.000000 |  0 | 0.0000000 |      NaN |       NaN |  0.75 |  8.50 |  1.2656250 | 7.75 | 1.92931065 |  3.280409 |    9.359645 | France        | Non China | 1 | 1 |\n",
       "\n"
      ],
      "text/plain": [
       "  tld_registrar_index geo_maj geo_cnt n     ren_prp   tld_cnt tld_rat     \n",
       "1 fun1&1 internet     EU      1           2 1.0000000 1       5.000000e-01\n",
       "2 fun10dencehispahard EU      1           2 0.0000000 1       5.000000e-01\n",
       "3 fun1api             EU      1           2 0.5000000 1       5.000000e-01\n",
       "4 funactive 24        EU      1          22 0.2272727 1       4.545455e-02\n",
       "5 funalibaba          China   1       18208 0.0118080 1       5.492091e-05\n",
       "6 funalibaba sg       China   1          16 0.0625000 1       6.250000e-02\n",
       "  daydom_min daydom_max daydom_mean daydom_rng daydom_std daydom_skew\n",
       "1 1            1          1.000000    0          0.000000        NaN \n",
       "2 1            1          1.000000    0          0.000000        NaN \n",
       "3 1            1          1.000000    0          0.000000        NaN \n",
       "4 1            3          2.090909    2          1.019294 -0.1702685 \n",
       "5 1          705        219.892025  704        156.107008  1.5055591 \n",
       "6 1            1          1.000000    0          0.000000        NaN \n",
       "  daydom_kurt sldlen_min sldlen_max sldlen_mean sldlen_rng sldlen_std\n",
       "1       NaN   6           9         7.500000     3         2.121320  \n",
       "2       NaN   6           8         7.000000     2         1.414214  \n",
       "3       NaN   7           7         7.000000     0         0.000000  \n",
       "4 -2.058471   4          14         7.363636    10         2.498484  \n",
       "5  2.301106   3          38         6.956832    35         3.311960  \n",
       "6       NaN   4          13         7.375000     9         2.604483  \n",
       "  sldlen_skew sldlen_kurt gibbs_min gibbs_max gibbs_mean gibbs_rng gibbs_std \n",
       "1 0.0000000   -2.7500000  2.23        3.45    2.840000     1.22     0.8626703\n",
       "2 0.0000000   -2.7500000  3.13        8.62    5.875000     5.49     3.8820162\n",
       "3       NaN          NaN  4.51        6.09    5.300000     1.58     1.1172287\n",
       "4 0.8100072    0.4123014  0.59      100.00    9.425000    99.41    20.4690367\n",
       "5 2.9556282   13.5354533  0.00      100.00    6.320069   100.00    21.0541141\n",
       "6 0.3561975   -0.8500916  0.24       13.58    4.647500    13.34     3.3497910\n",
       "  gibbs_skew    gibbs_kurt pdcnt_min pdcnt_max pdcnt_mean pdcnt_rng pdcnt_std\n",
       "1  3.890973e-16 -2.7500000 1          1        1.000000    0        0.0000000\n",
       "2 -1.821837e-16 -2.7500000 1          1        1.000000    0        0.0000000\n",
       "3  0.000000e+00 -2.7500000 1          1        1.000000    0        0.0000000\n",
       "4  3.916190e+00 14.4351125 1          3        1.272727    2        0.7025002\n",
       "5  4.158734e+00 15.5656248 1         74        5.124341   73        9.7106897\n",
       "6  1.008842e+00  0.7044306 1          1        1.000000    0        0.0000000\n",
       "  pdcnt_skew pdcnt_kurt regarpt_min regarpt_max regarpt_mean regarpt_rng\n",
       "1      NaN         NaN  15.00       15.00       15.0000000   0.00       \n",
       "2      NaN         NaN  15.00       15.00       15.0000000   0.00       \n",
       "3      NaN         NaN   5.00        5.00        5.0000000   0.00       \n",
       "4 1.976412    2.003371   0.50        0.50        0.5000000   0.00       \n",
       "5 4.178197   19.706420   0.75        4.75        0.7519112   4.00       \n",
       "6      NaN         NaN   0.75        8.50        1.2656250   7.75       \n",
       "  regarpt_std regarpt_skew regarpt_kurt country_maj   region_maj country_cnt\n",
       "1 0.00000000        NaN            NaN  Japan         Non China  1          \n",
       "2 0.00000000        NaN            NaN  China         China      1          \n",
       "3 0.00000000        NaN            NaN  United States Non China  1          \n",
       "4 0.00000000        NaN            NaN  United States Non China  1          \n",
       "5 0.07918874  48.370853    2363.819659  United States Non China  1          \n",
       "6 1.92931065   3.280409       9.359645  France        Non China  1          \n",
       "  region_cnt\n",
       "1 1         \n",
       "2 1         \n",
       "3 1         \n",
       "4 1         \n",
       "5 1         \n",
       "6 1         "
      ]
     },
     "metadata": {},
     "output_type": "display_data"
    }
   ],
   "source": [
    "head(expiry_test_meta)"
   ]
  },
  {
   "cell_type": "code",
   "execution_count": 336,
   "metadata": {},
   "outputs": [
    {
     "data": {
      "text/html": [
       "<style>\n",
       ".list-inline {list-style: none; margin:0; padding: 0}\n",
       ".list-inline>li {display: inline-block}\n",
       ".list-inline>li:not(:last-child)::after {content: \"\\00b7\"; padding: 0 .5ex}\n",
       "</style>\n",
       "<ol class=list-inline><li>281</li><li>3</li></ol>\n"
      ],
      "text/latex": [
       "\\begin{enumerate*}\n",
       "\\item 281\n",
       "\\item 3\n",
       "\\end{enumerate*}\n"
      ],
      "text/markdown": [
       "1. 281\n",
       "2. 3\n",
       "\n",
       "\n"
      ],
      "text/plain": [
       "[1] 281   3"
      ]
     },
     "metadata": {},
     "output_type": "display_data"
    },
    {
     "data": {
      "text/html": [
       "<style>\n",
       ".list-inline {list-style: none; margin:0; padding: 0}\n",
       ".list-inline>li {display: inline-block}\n",
       ".list-inline>li:not(:last-child)::after {content: \"\\00b7\"; padding: 0 .5ex}\n",
       "</style>\n",
       "<ol class=list-inline><li>281</li><li>46</li></ol>\n"
      ],
      "text/latex": [
       "\\begin{enumerate*}\n",
       "\\item 281\n",
       "\\item 46\n",
       "\\end{enumerate*}\n"
      ],
      "text/markdown": [
       "1. 281\n",
       "2. 46\n",
       "\n",
       "\n"
      ],
      "text/plain": [
       "[1] 281  46"
      ]
     },
     "metadata": {},
     "output_type": "display_data"
    },
    {
     "data": {
      "text/html": [
       "<table>\n",
       "<caption>A data.frame: 6 × 2</caption>\n",
       "<thead>\n",
       "\t<tr><th></th><th scope=col>tld_registrar_index</th><th scope=col>auc_win_01</th></tr>\n",
       "\t<tr><th></th><th scope=col>&lt;chr&gt;</th><th scope=col>&lt;chr&gt;</th></tr>\n",
       "</thead>\n",
       "<tbody>\n",
       "\t<tr><th scope=row>1</th><td>fun1api            </td><td>auc_seg2_glm_fb</td></tr>\n",
       "\t<tr><th scope=row>2</th><td>funchengdu fly     </td><td>auc_seg2_glm_fb</td></tr>\n",
       "\t<tr><th scope=row>3</th><td>funchengdu west    </td><td>auc_agg_rf_fb  </td></tr>\n",
       "\t<tr><th scope=row>4</th><td>fundomains4bitcoins</td><td>auc_agg_rf_fb  </td></tr>\n",
       "\t<tr><th scope=row>5</th><td>fundotname korea   </td><td>auc_seg2_glm_fb</td></tr>\n",
       "\t<tr><th scope=row>6</th><td>funejee group      </td><td>auc_seg2_glm_fb</td></tr>\n",
       "</tbody>\n",
       "</table>\n"
      ],
      "text/latex": [
       "A data.frame: 6 × 2\n",
       "\\begin{tabular}{r|ll}\n",
       "  & tld\\_registrar\\_index & auc\\_win\\_01\\\\\n",
       "  & <chr> & <chr>\\\\\n",
       "\\hline\n",
       "\t1 & fun1api             & auc\\_seg2\\_glm\\_fb\\\\\n",
       "\t2 & funchengdu fly      & auc\\_seg2\\_glm\\_fb\\\\\n",
       "\t3 & funchengdu west     & auc\\_agg\\_rf\\_fb  \\\\\n",
       "\t4 & fundomains4bitcoins & auc\\_agg\\_rf\\_fb  \\\\\n",
       "\t5 & fundotname korea    & auc\\_seg2\\_glm\\_fb\\\\\n",
       "\t6 & funejee group       & auc\\_seg2\\_glm\\_fb\\\\\n",
       "\\end{tabular}\n"
      ],
      "text/markdown": [
       "\n",
       "A data.frame: 6 × 2\n",
       "\n",
       "| <!--/--> | tld_registrar_index &lt;chr&gt; | auc_win_01 &lt;chr&gt; |\n",
       "|---|---|---|\n",
       "| 1 | fun1api             | auc_seg2_glm_fb |\n",
       "| 2 | funchengdu fly      | auc_seg2_glm_fb |\n",
       "| 3 | funchengdu west     | auc_agg_rf_fb   |\n",
       "| 4 | fundomains4bitcoins | auc_agg_rf_fb   |\n",
       "| 5 | fundotname korea    | auc_seg2_glm_fb |\n",
       "| 6 | funejee group       | auc_seg2_glm_fb |\n",
       "\n"
      ],
      "text/plain": [
       "  tld_registrar_index auc_win_01     \n",
       "1 fun1api             auc_seg2_glm_fb\n",
       "2 funchengdu fly      auc_seg2_glm_fb\n",
       "3 funchengdu west     auc_agg_rf_fb  \n",
       "4 fundomains4bitcoins auc_agg_rf_fb  \n",
       "5 fundotname korea    auc_seg2_glm_fb\n",
       "6 funejee group       auc_seg2_glm_fb"
      ]
     },
     "metadata": {},
     "output_type": "display_data"
    }
   ],
   "source": [
    "expiry_test_meta_test <- expiry_test_meta[-train_ind,]\n",
    "\n",
    "dim(pred)\n",
    "dim(expiry_test_meta_test)\n",
    "\n",
    "expiry_test_meta_test <- cbind(expiry_test_meta_test, pred)\n",
    "expiry_test_meta_test <- expiry_test_meta_test %>% select(tld_registrar_index, auc_win_01)\n",
    "\n",
    "expiry_test_meta_test %>% head()"
   ]
  },
  {
   "cell_type": "markdown",
   "metadata": {},
   "source": [
    "## assign prediction based on lookup"
   ]
  },
  {
   "cell_type": "code",
   "execution_count": 338,
   "metadata": {},
   "outputs": [
    {
     "data": {
      "text/html": [
       "<style>\n",
       ".list-inline {list-style: none; margin:0; padding: 0}\n",
       ".list-inline>li {display: inline-block}\n",
       ".list-inline>li:not(:last-child)::after {content: \"\\00b7\"; padding: 0 .5ex}\n",
       "</style>\n",
       "<ol class=list-inline><li>297261</li><li>63</li></ol>\n"
      ],
      "text/latex": [
       "\\begin{enumerate*}\n",
       "\\item 297261\n",
       "\\item 63\n",
       "\\end{enumerate*}\n"
      ],
      "text/markdown": [
       "1. 297261\n",
       "2. 63\n",
       "\n",
       "\n"
      ],
      "text/plain": [
       "[1] 297261     63"
      ]
     },
     "metadata": {},
     "output_type": "display_data"
    },
    {
     "data": {
      "text/html": [
       "<style>\n",
       ".list-inline {list-style: none; margin:0; padding: 0}\n",
       ".list-inline>li {display: inline-block}\n",
       ".list-inline>li:not(:last-child)::after {content: \"\\00b7\"; padding: 0 .5ex}\n",
       "</style>\n",
       "<ol class=list-inline><li>297261</li><li>62</li></ol>\n"
      ],
      "text/latex": [
       "\\begin{enumerate*}\n",
       "\\item 297261\n",
       "\\item 62\n",
       "\\end{enumerate*}\n"
      ],
      "text/markdown": [
       "1. 297261\n",
       "2. 62\n",
       "\n",
       "\n"
      ],
      "text/plain": [
       "[1] 297261     62"
      ]
     },
     "metadata": {},
     "output_type": "display_data"
    },
    {
     "data": {
      "text/html": [
       "<table>\n",
       "<caption>A data.frame: 6 × 63</caption>\n",
       "<thead>\n",
       "\t<tr><th></th><th scope=col>tld_registrar_index</th><th scope=col>reseller</th><th scope=col>registrar</th><th scope=col>reseller_country</th><th scope=col>domain_id</th><th scope=col>domain</th><th scope=col>renewal_type</th><th scope=col>renewed_count</th><th scope=col>expiry_date</th><th scope=col>creation_date</th><th scope=col>status</th><th scope=col>tld</th><th scope=col>region</th><th scope=col>reg_period</th><th scope=col>registrant_country</th><th scope=col>renewal_status</th><th scope=col>renew_mbg</th><th scope=col>renew_type</th><th scope=col>autorenew_type</th><th scope=col>renew_date</th><th scope=col>renew_registrar</th><th scope=col>renew_reseller</th><th scope=col>reg_revenue</th><th scope=col>reg_arpt</th><th scope=col>renew_period</th><th scope=col>⋯</th><th scope=col>pattern_domain_count</th><th scope=col>actual</th><th scope=col>pred_df_seg2_glm</th><th scope=col>pred_df_seg_glm</th><th scope=col>pred_df_agg_glm</th><th scope=col>pred_df_seg2_rf</th><th scope=col>pred_df_seg_rf</th><th scope=col>pred_df_agg_rf</th><th scope=col>n</th><th scope=col>start_date</th><th scope=col>end_date</th><th scope=col>reseller_am</th><th scope=col>reseller_geo</th><th scope=col>reg_arpt_slab</th><th scope=col>pred_df_seg2_glm_fb</th><th scope=col>pred_df_seg_glm_fb</th><th scope=col>pred_df_agg_glm_fb</th><th scope=col>pred_df_seg2_rf_fb</th><th scope=col>pred_df_seg_rf_fb</th><th scope=col>pred_df_agg_rf_fb</th><th scope=col>npv_fallback_first_geo_arpt_tld</th><th scope=col>npv_fallback_first_geo_arpt</th><th scope=col>npv_fallback_first_tld_arpt</th><th scope=col>npv_fallback_first_final</th><th scope=col>auc_win_01</th></tr>\n",
       "\t<tr><th></th><th scope=col>&lt;chr&gt;</th><th scope=col>&lt;fct&gt;</th><th scope=col>&lt;chr&gt;</th><th scope=col>&lt;fct&gt;</th><th scope=col>&lt;int&gt;</th><th scope=col>&lt;chr&gt;</th><th scope=col>&lt;chr&gt;</th><th scope=col>&lt;int&gt;</th><th scope=col>&lt;date&gt;</th><th scope=col>&lt;date&gt;</th><th scope=col>&lt;chr&gt;</th><th scope=col>&lt;fct&gt;</th><th scope=col>&lt;chr&gt;</th><th scope=col>&lt;int&gt;</th><th scope=col>&lt;chr&gt;</th><th scope=col>&lt;fct&gt;</th><th scope=col>&lt;int&gt;</th><th scope=col>&lt;chr&gt;</th><th scope=col>&lt;chr&gt;</th><th scope=col>&lt;date&gt;</th><th scope=col>&lt;chr&gt;</th><th scope=col>&lt;chr&gt;</th><th scope=col>&lt;dbl&gt;</th><th scope=col>&lt;dbl&gt;</th><th scope=col>&lt;int&gt;</th><th scope=col>⋯</th><th scope=col>&lt;int&gt;</th><th scope=col>&lt;fct&gt;</th><th scope=col>&lt;dbl&gt;</th><th scope=col>&lt;dbl&gt;</th><th scope=col>&lt;dbl&gt;</th><th scope=col>&lt;dbl&gt;</th><th scope=col>&lt;dbl&gt;</th><th scope=col>&lt;dbl&gt;</th><th scope=col>&lt;int&gt;</th><th scope=col>&lt;fct&gt;</th><th scope=col>&lt;fct&gt;</th><th scope=col>&lt;fct&gt;</th><th scope=col>&lt;fct&gt;</th><th scope=col>&lt;fct&gt;</th><th scope=col>&lt;dbl&gt;</th><th scope=col>&lt;dbl&gt;</th><th scope=col>&lt;dbl&gt;</th><th scope=col>&lt;dbl&gt;</th><th scope=col>&lt;dbl&gt;</th><th scope=col>&lt;dbl&gt;</th><th scope=col>&lt;dbl&gt;</th><th scope=col>&lt;dbl&gt;</th><th scope=col>&lt;dbl&gt;</th><th scope=col>&lt;dbl&gt;</th><th scope=col>&lt;chr&gt;</th></tr>\n",
       "</thead>\n",
       "<tbody>\n",
       "\t<tr><th scope=row>1</th><td><span style=white-space:pre-wrap>fun1&amp;1 internet    </span></td><td><span style=white-space:pre-wrap>1&amp;1 internet    </span></td><td><span style=white-space:pre-wrap>1&amp;1 internet    </span></td><td>Germany</td><td> 95819759</td><td>harzhotel.fun</td><td>FirstTime</td><td>1</td><td>2020-03-07</td><td>2019-03-07</td><td>Active</td><td>fun</td><td>Non China</td><td>1</td><td>NA</td><td><span style=white-space:pre-wrap>Renewed   </span></td><td>0</td><td>auto-renewal</td><td><span style=white-space:pre-wrap>realized  </span></td><td>2020-03-07</td><td><span style=white-space:pre-wrap>1&amp;1 Internet    </span></td><td><span style=white-space:pre-wrap>1&amp;1 Internet    </span></td><td>15</td><td>15</td><td>1</td><td>⋯</td><td>1</td><td><span style=white-space:pre-wrap>Renewed   </span></td><td>0.4607455</td><td>0.785</td><td>0.360</td><td>0.7248957</td><td>0.6428311</td><td>0.5817404</td><td>19</td><td>2013-01-01T00:00:00Z</td><td>2019-12-31T00:00:00Z</td><td>Neha </td><td>EU</td><td>(10,15]</td><td>0.4607455</td><td>0.785</td><td>0.360</td><td>0.7248957</td><td>0.6428311</td><td>0.5817404</td><td>NA</td><td>0.512</td><td>0.522</td><td>0.493</td><td><span style=white-space:pre-wrap>NA             </span></td></tr>\n",
       "\t<tr><th scope=row>2</th><td><span style=white-space:pre-wrap>fun1&amp;1 internet    </span></td><td><span style=white-space:pre-wrap>1&amp;1 internet    </span></td><td><span style=white-space:pre-wrap>1&amp;1 internet    </span></td><td>Germany</td><td> 91639803</td><td><span style=white-space:pre-wrap>segeln.fun   </span></td><td>FirstTime</td><td>1</td><td>2020-01-22</td><td>2019-01-22</td><td>Active</td><td>fun</td><td>Non China</td><td>1</td><td>NA</td><td><span style=white-space:pre-wrap>Renewed   </span></td><td>0</td><td>auto-renewal</td><td><span style=white-space:pre-wrap>realized  </span></td><td>2020-01-22</td><td><span style=white-space:pre-wrap>1&amp;1 Internet    </span></td><td><span style=white-space:pre-wrap>1&amp;1 Internet    </span></td><td>15</td><td>15</td><td>1</td><td>⋯</td><td>1</td><td><span style=white-space:pre-wrap>Renewed   </span></td><td>0.8459141</td><td>0.802</td><td>0.371</td><td>0.7125206</td><td>0.6801492</td><td>0.6402113</td><td>19</td><td>2013-01-01T00:00:00Z</td><td>2019-12-31T00:00:00Z</td><td>Neha </td><td>EU</td><td>(10,15]</td><td>0.8459141</td><td>0.802</td><td>0.371</td><td>0.7125206</td><td>0.6801492</td><td>0.6402113</td><td>NA</td><td>0.512</td><td>0.522</td><td>0.493</td><td><span style=white-space:pre-wrap>NA             </span></td></tr>\n",
       "\t<tr><th scope=row>3</th><td>fun10dencehispahard</td><td>10dencehispahard</td><td>10dencehispahard</td><td>Spain  </td><td> 91044973</td><td>movistar.fun </td><td>FirstTime</td><td>1</td><td>2020-01-15</td><td>2019-01-15</td><td>Active</td><td>fun</td><td>Non China</td><td>1</td><td>NA</td><td>Not Renewd</td><td>0</td><td>auto-renewal</td><td>unrealized</td><td>2020-01-15</td><td>10dencehispahard</td><td>10dencehispahard</td><td>15</td><td>15</td><td>1</td><td>⋯</td><td>1</td><td>Not Renewd</td><td>       NA</td><td>0.000</td><td>0.123</td><td>0.0000000</td><td>0.3462084</td><td>0.4382183</td><td> 1</td><td>2019-07-01T00:00:00Z</td><td>2019-12-31T00:00:00Z</td><td>Varun</td><td>EU</td><td>(10,15]</td><td>0.5120000</td><td>0.000</td><td>0.123</td><td>0.0000000</td><td>0.3462084</td><td>0.4382183</td><td>NA</td><td>0.512</td><td>0.522</td><td>0.493</td><td>NA             </td></tr>\n",
       "\t<tr><th scope=row>4</th><td>fun10dencehispahard</td><td>10dencehispahard</td><td>10dencehispahard</td><td>Spain  </td><td> 92472913</td><td>kuinik.fun   </td><td>FirstTime</td><td>1</td><td>2020-02-01</td><td>2019-02-01</td><td>Active</td><td>fun</td><td>Non China</td><td>1</td><td>NA</td><td>Not Renewd</td><td>0</td><td>auto-renewal</td><td>unrealized</td><td>2020-02-01</td><td>10dencehispahard</td><td>10dencehispahard</td><td>15</td><td>15</td><td>1</td><td>⋯</td><td>1</td><td>Not Renewd</td><td>       NA</td><td>0.000</td><td>0.120</td><td>0.0000000</td><td>0.3169892</td><td>0.2664795</td><td> 1</td><td>2019-07-01T00:00:00Z</td><td>2019-12-31T00:00:00Z</td><td>Varun</td><td>EU</td><td>(10,15]</td><td>0.5120000</td><td>0.000</td><td>0.120</td><td>0.0000000</td><td>0.3169892</td><td>0.2664795</td><td>NA</td><td>0.512</td><td>0.522</td><td>0.493</td><td>NA             </td></tr>\n",
       "\t<tr><th scope=row>5</th><td>fun1api            </td><td>1api            </td><td>1api            </td><td>Germany</td><td>101717674</td><td>gotsome.fun  </td><td>FirstTime</td><td>1</td><td>2020-04-24</td><td>2019-04-24</td><td>Active</td><td>fun</td><td>Non China</td><td>1</td><td>NA</td><td>Not Renewd</td><td>0</td><td>auto-renewal</td><td>unrealized</td><td>2020-04-24</td><td>1API            </td><td>1API            </td><td> 5</td><td> 5</td><td>1</td><td>⋯</td><td>1</td><td>Not Renewd</td><td>0.9999992</td><td>0.843</td><td>0.330</td><td>0.8320000</td><td>0.8421671</td><td>0.8345259</td><td> 6</td><td>2013-01-01T00:00:00Z</td><td>2019-12-31T00:00:00Z</td><td>Varun</td><td>EU</td><td>(3,5]  </td><td>0.9999992</td><td>0.843</td><td>0.330</td><td>0.8320000</td><td>0.8421671</td><td>0.8345259</td><td>NA</td><td>0.525</td><td>0.351</td><td>0.365</td><td>auc_seg2_glm_fb</td></tr>\n",
       "\t<tr><th scope=row>6</th><td>fun1api            </td><td>1api            </td><td>1api            </td><td>Germany</td><td> 91532433</td><td>bulgari.fun  </td><td>FirstTime</td><td>1</td><td>2020-01-21</td><td>2019-01-21</td><td>Active</td><td>fun</td><td>Non China</td><td>1</td><td>NA</td><td>Renewed   </td><td>0</td><td>auto-renewal</td><td>realized  </td><td>2020-01-21</td><td>1API            </td><td>1API            </td><td> 5</td><td> 5</td><td>1</td><td>⋯</td><td>1</td><td>Renewed   </td><td>0.9999971</td><td>0.842</td><td>0.326</td><td>0.8320000</td><td>0.8486598</td><td>0.7788035</td><td> 6</td><td>2013-01-01T00:00:00Z</td><td>2019-12-31T00:00:00Z</td><td>Varun</td><td>EU</td><td>(3,5]  </td><td>0.9999971</td><td>0.842</td><td>0.326</td><td>0.8320000</td><td>0.8486598</td><td>0.7788035</td><td>NA</td><td>0.525</td><td>0.351</td><td>0.365</td><td>auc_seg2_glm_fb</td></tr>\n",
       "</tbody>\n",
       "</table>\n"
      ],
      "text/latex": [
       "A data.frame: 6 × 63\n",
       "\\begin{tabular}{r|lllllllllllllllllllllllllllllllllllllllllllllllllll}\n",
       "  & tld\\_registrar\\_index & reseller & registrar & reseller\\_country & domain\\_id & domain & renewal\\_type & renewed\\_count & expiry\\_date & creation\\_date & status & tld & region & reg\\_period & registrant\\_country & renewal\\_status & renew\\_mbg & renew\\_type & autorenew\\_type & renew\\_date & renew\\_registrar & renew\\_reseller & reg\\_revenue & reg\\_arpt & renew\\_period & ⋯ & pattern\\_domain\\_count & actual & pred\\_df\\_seg2\\_glm & pred\\_df\\_seg\\_glm & pred\\_df\\_agg\\_glm & pred\\_df\\_seg2\\_rf & pred\\_df\\_seg\\_rf & pred\\_df\\_agg\\_rf & n & start\\_date & end\\_date & reseller\\_am & reseller\\_geo & reg\\_arpt\\_slab & pred\\_df\\_seg2\\_glm\\_fb & pred\\_df\\_seg\\_glm\\_fb & pred\\_df\\_agg\\_glm\\_fb & pred\\_df\\_seg2\\_rf\\_fb & pred\\_df\\_seg\\_rf\\_fb & pred\\_df\\_agg\\_rf\\_fb & npv\\_fallback\\_first\\_geo\\_arpt\\_tld & npv\\_fallback\\_first\\_geo\\_arpt & npv\\_fallback\\_first\\_tld\\_arpt & npv\\_fallback\\_first\\_final & auc\\_win\\_01\\\\\n",
       "  & <chr> & <fct> & <chr> & <fct> & <int> & <chr> & <chr> & <int> & <date> & <date> & <chr> & <fct> & <chr> & <int> & <chr> & <fct> & <int> & <chr> & <chr> & <date> & <chr> & <chr> & <dbl> & <dbl> & <int> & ⋯ & <int> & <fct> & <dbl> & <dbl> & <dbl> & <dbl> & <dbl> & <dbl> & <int> & <fct> & <fct> & <fct> & <fct> & <fct> & <dbl> & <dbl> & <dbl> & <dbl> & <dbl> & <dbl> & <dbl> & <dbl> & <dbl> & <dbl> & <chr>\\\\\n",
       "\\hline\n",
       "\t1 & fun1\\&1 internet     & 1\\&1 internet     & 1\\&1 internet     & Germany &  95819759 & harzhotel.fun & FirstTime & 1 & 2020-03-07 & 2019-03-07 & Active & fun & Non China & 1 & NA & Renewed    & 0 & auto-renewal & realized   & 2020-03-07 & 1\\&1 Internet     & 1\\&1 Internet     & 15 & 15 & 1 & ⋯ & 1 & Renewed    & 0.4607455 & 0.785 & 0.360 & 0.7248957 & 0.6428311 & 0.5817404 & 19 & 2013-01-01T00:00:00Z & 2019-12-31T00:00:00Z & Neha  & EU & (10,15{]} & 0.4607455 & 0.785 & 0.360 & 0.7248957 & 0.6428311 & 0.5817404 & NA & 0.512 & 0.522 & 0.493 & NA             \\\\\n",
       "\t2 & fun1\\&1 internet     & 1\\&1 internet     & 1\\&1 internet     & Germany &  91639803 & segeln.fun    & FirstTime & 1 & 2020-01-22 & 2019-01-22 & Active & fun & Non China & 1 & NA & Renewed    & 0 & auto-renewal & realized   & 2020-01-22 & 1\\&1 Internet     & 1\\&1 Internet     & 15 & 15 & 1 & ⋯ & 1 & Renewed    & 0.8459141 & 0.802 & 0.371 & 0.7125206 & 0.6801492 & 0.6402113 & 19 & 2013-01-01T00:00:00Z & 2019-12-31T00:00:00Z & Neha  & EU & (10,15{]} & 0.8459141 & 0.802 & 0.371 & 0.7125206 & 0.6801492 & 0.6402113 & NA & 0.512 & 0.522 & 0.493 & NA             \\\\\n",
       "\t3 & fun10dencehispahard & 10dencehispahard & 10dencehispahard & Spain   &  91044973 & movistar.fun  & FirstTime & 1 & 2020-01-15 & 2019-01-15 & Active & fun & Non China & 1 & NA & Not Renewd & 0 & auto-renewal & unrealized & 2020-01-15 & 10dencehispahard & 10dencehispahard & 15 & 15 & 1 & ⋯ & 1 & Not Renewd &        NA & 0.000 & 0.123 & 0.0000000 & 0.3462084 & 0.4382183 &  1 & 2019-07-01T00:00:00Z & 2019-12-31T00:00:00Z & Varun & EU & (10,15{]} & 0.5120000 & 0.000 & 0.123 & 0.0000000 & 0.3462084 & 0.4382183 & NA & 0.512 & 0.522 & 0.493 & NA             \\\\\n",
       "\t4 & fun10dencehispahard & 10dencehispahard & 10dencehispahard & Spain   &  92472913 & kuinik.fun    & FirstTime & 1 & 2020-02-01 & 2019-02-01 & Active & fun & Non China & 1 & NA & Not Renewd & 0 & auto-renewal & unrealized & 2020-02-01 & 10dencehispahard & 10dencehispahard & 15 & 15 & 1 & ⋯ & 1 & Not Renewd &        NA & 0.000 & 0.120 & 0.0000000 & 0.3169892 & 0.2664795 &  1 & 2019-07-01T00:00:00Z & 2019-12-31T00:00:00Z & Varun & EU & (10,15{]} & 0.5120000 & 0.000 & 0.120 & 0.0000000 & 0.3169892 & 0.2664795 & NA & 0.512 & 0.522 & 0.493 & NA             \\\\\n",
       "\t5 & fun1api             & 1api             & 1api             & Germany & 101717674 & gotsome.fun   & FirstTime & 1 & 2020-04-24 & 2019-04-24 & Active & fun & Non China & 1 & NA & Not Renewd & 0 & auto-renewal & unrealized & 2020-04-24 & 1API             & 1API             &  5 &  5 & 1 & ⋯ & 1 & Not Renewd & 0.9999992 & 0.843 & 0.330 & 0.8320000 & 0.8421671 & 0.8345259 &  6 & 2013-01-01T00:00:00Z & 2019-12-31T00:00:00Z & Varun & EU & (3,5{]}   & 0.9999992 & 0.843 & 0.330 & 0.8320000 & 0.8421671 & 0.8345259 & NA & 0.525 & 0.351 & 0.365 & auc\\_seg2\\_glm\\_fb\\\\\n",
       "\t6 & fun1api             & 1api             & 1api             & Germany &  91532433 & bulgari.fun   & FirstTime & 1 & 2020-01-21 & 2019-01-21 & Active & fun & Non China & 1 & NA & Renewed    & 0 & auto-renewal & realized   & 2020-01-21 & 1API             & 1API             &  5 &  5 & 1 & ⋯ & 1 & Renewed    & 0.9999971 & 0.842 & 0.326 & 0.8320000 & 0.8486598 & 0.7788035 &  6 & 2013-01-01T00:00:00Z & 2019-12-31T00:00:00Z & Varun & EU & (3,5{]}   & 0.9999971 & 0.842 & 0.326 & 0.8320000 & 0.8486598 & 0.7788035 & NA & 0.525 & 0.351 & 0.365 & auc\\_seg2\\_glm\\_fb\\\\\n",
       "\\end{tabular}\n"
      ],
      "text/markdown": [
       "\n",
       "A data.frame: 6 × 63\n",
       "\n",
       "| <!--/--> | tld_registrar_index &lt;chr&gt; | reseller &lt;fct&gt; | registrar &lt;chr&gt; | reseller_country &lt;fct&gt; | domain_id &lt;int&gt; | domain &lt;chr&gt; | renewal_type &lt;chr&gt; | renewed_count &lt;int&gt; | expiry_date &lt;date&gt; | creation_date &lt;date&gt; | status &lt;chr&gt; | tld &lt;fct&gt; | region &lt;chr&gt; | reg_period &lt;int&gt; | registrant_country &lt;chr&gt; | renewal_status &lt;fct&gt; | renew_mbg &lt;int&gt; | renew_type &lt;chr&gt; | autorenew_type &lt;chr&gt; | renew_date &lt;date&gt; | renew_registrar &lt;chr&gt; | renew_reseller &lt;chr&gt; | reg_revenue &lt;dbl&gt; | reg_arpt &lt;dbl&gt; | renew_period &lt;int&gt; | ⋯ ⋯ | pattern_domain_count &lt;int&gt; | actual &lt;fct&gt; | pred_df_seg2_glm &lt;dbl&gt; | pred_df_seg_glm &lt;dbl&gt; | pred_df_agg_glm &lt;dbl&gt; | pred_df_seg2_rf &lt;dbl&gt; | pred_df_seg_rf &lt;dbl&gt; | pred_df_agg_rf &lt;dbl&gt; | n &lt;int&gt; | start_date &lt;fct&gt; | end_date &lt;fct&gt; | reseller_am &lt;fct&gt; | reseller_geo &lt;fct&gt; | reg_arpt_slab &lt;fct&gt; | pred_df_seg2_glm_fb &lt;dbl&gt; | pred_df_seg_glm_fb &lt;dbl&gt; | pred_df_agg_glm_fb &lt;dbl&gt; | pred_df_seg2_rf_fb &lt;dbl&gt; | pred_df_seg_rf_fb &lt;dbl&gt; | pred_df_agg_rf_fb &lt;dbl&gt; | npv_fallback_first_geo_arpt_tld &lt;dbl&gt; | npv_fallback_first_geo_arpt &lt;dbl&gt; | npv_fallback_first_tld_arpt &lt;dbl&gt; | npv_fallback_first_final &lt;dbl&gt; | auc_win_01 &lt;chr&gt; |\n",
       "|---|---|---|---|---|---|---|---|---|---|---|---|---|---|---|---|---|---|---|---|---|---|---|---|---|---|---|---|---|---|---|---|---|---|---|---|---|---|---|---|---|---|---|---|---|---|---|---|---|---|---|---|\n",
       "| 1 | fun1&amp;1 internet     | 1&amp;1 internet     | 1&amp;1 internet     | Germany |  95819759 | harzhotel.fun | FirstTime | 1 | 2020-03-07 | 2019-03-07 | Active | fun | Non China | 1 | NA | Renewed    | 0 | auto-renewal | realized   | 2020-03-07 | 1&amp;1 Internet     | 1&amp;1 Internet     | 15 | 15 | 1 | ⋯ | 1 | Renewed    | 0.4607455 | 0.785 | 0.360 | 0.7248957 | 0.6428311 | 0.5817404 | 19 | 2013-01-01T00:00:00Z | 2019-12-31T00:00:00Z | Neha  | EU | (10,15] | 0.4607455 | 0.785 | 0.360 | 0.7248957 | 0.6428311 | 0.5817404 | NA | 0.512 | 0.522 | 0.493 | NA              |\n",
       "| 2 | fun1&amp;1 internet     | 1&amp;1 internet     | 1&amp;1 internet     | Germany |  91639803 | segeln.fun    | FirstTime | 1 | 2020-01-22 | 2019-01-22 | Active | fun | Non China | 1 | NA | Renewed    | 0 | auto-renewal | realized   | 2020-01-22 | 1&amp;1 Internet     | 1&amp;1 Internet     | 15 | 15 | 1 | ⋯ | 1 | Renewed    | 0.8459141 | 0.802 | 0.371 | 0.7125206 | 0.6801492 | 0.6402113 | 19 | 2013-01-01T00:00:00Z | 2019-12-31T00:00:00Z | Neha  | EU | (10,15] | 0.8459141 | 0.802 | 0.371 | 0.7125206 | 0.6801492 | 0.6402113 | NA | 0.512 | 0.522 | 0.493 | NA              |\n",
       "| 3 | fun10dencehispahard | 10dencehispahard | 10dencehispahard | Spain   |  91044973 | movistar.fun  | FirstTime | 1 | 2020-01-15 | 2019-01-15 | Active | fun | Non China | 1 | NA | Not Renewd | 0 | auto-renewal | unrealized | 2020-01-15 | 10dencehispahard | 10dencehispahard | 15 | 15 | 1 | ⋯ | 1 | Not Renewd |        NA | 0.000 | 0.123 | 0.0000000 | 0.3462084 | 0.4382183 |  1 | 2019-07-01T00:00:00Z | 2019-12-31T00:00:00Z | Varun | EU | (10,15] | 0.5120000 | 0.000 | 0.123 | 0.0000000 | 0.3462084 | 0.4382183 | NA | 0.512 | 0.522 | 0.493 | NA              |\n",
       "| 4 | fun10dencehispahard | 10dencehispahard | 10dencehispahard | Spain   |  92472913 | kuinik.fun    | FirstTime | 1 | 2020-02-01 | 2019-02-01 | Active | fun | Non China | 1 | NA | Not Renewd | 0 | auto-renewal | unrealized | 2020-02-01 | 10dencehispahard | 10dencehispahard | 15 | 15 | 1 | ⋯ | 1 | Not Renewd |        NA | 0.000 | 0.120 | 0.0000000 | 0.3169892 | 0.2664795 |  1 | 2019-07-01T00:00:00Z | 2019-12-31T00:00:00Z | Varun | EU | (10,15] | 0.5120000 | 0.000 | 0.120 | 0.0000000 | 0.3169892 | 0.2664795 | NA | 0.512 | 0.522 | 0.493 | NA              |\n",
       "| 5 | fun1api             | 1api             | 1api             | Germany | 101717674 | gotsome.fun   | FirstTime | 1 | 2020-04-24 | 2019-04-24 | Active | fun | Non China | 1 | NA | Not Renewd | 0 | auto-renewal | unrealized | 2020-04-24 | 1API             | 1API             |  5 |  5 | 1 | ⋯ | 1 | Not Renewd | 0.9999992 | 0.843 | 0.330 | 0.8320000 | 0.8421671 | 0.8345259 |  6 | 2013-01-01T00:00:00Z | 2019-12-31T00:00:00Z | Varun | EU | (3,5]   | 0.9999992 | 0.843 | 0.330 | 0.8320000 | 0.8421671 | 0.8345259 | NA | 0.525 | 0.351 | 0.365 | auc_seg2_glm_fb |\n",
       "| 6 | fun1api             | 1api             | 1api             | Germany |  91532433 | bulgari.fun   | FirstTime | 1 | 2020-01-21 | 2019-01-21 | Active | fun | Non China | 1 | NA | Renewed    | 0 | auto-renewal | realized   | 2020-01-21 | 1API             | 1API             |  5 |  5 | 1 | ⋯ | 1 | Renewed    | 0.9999971 | 0.842 | 0.326 | 0.8320000 | 0.8486598 | 0.7788035 |  6 | 2013-01-01T00:00:00Z | 2019-12-31T00:00:00Z | Varun | EU | (3,5]   | 0.9999971 | 0.842 | 0.326 | 0.8320000 | 0.8486598 | 0.7788035 | NA | 0.525 | 0.351 | 0.365 | auc_seg2_glm_fb |\n",
       "\n"
      ],
      "text/plain": [
       "  tld_registrar_index reseller         registrar        reseller_country\n",
       "1 fun1&1 internet     1&1 internet     1&1 internet     Germany         \n",
       "2 fun1&1 internet     1&1 internet     1&1 internet     Germany         \n",
       "3 fun10dencehispahard 10dencehispahard 10dencehispahard Spain           \n",
       "4 fun10dencehispahard 10dencehispahard 10dencehispahard Spain           \n",
       "5 fun1api             1api             1api             Germany         \n",
       "6 fun1api             1api             1api             Germany         \n",
       "  domain_id domain        renewal_type renewed_count expiry_date creation_date\n",
       "1  95819759 harzhotel.fun FirstTime    1             2020-03-07  2019-03-07   \n",
       "2  91639803 segeln.fun    FirstTime    1             2020-01-22  2019-01-22   \n",
       "3  91044973 movistar.fun  FirstTime    1             2020-01-15  2019-01-15   \n",
       "4  92472913 kuinik.fun    FirstTime    1             2020-02-01  2019-02-01   \n",
       "5 101717674 gotsome.fun   FirstTime    1             2020-04-24  2019-04-24   \n",
       "6  91532433 bulgari.fun   FirstTime    1             2020-01-21  2019-01-21   \n",
       "  status tld region    reg_period registrant_country renewal_status renew_mbg\n",
       "1 Active fun Non China 1          NA                 Renewed        0        \n",
       "2 Active fun Non China 1          NA                 Renewed        0        \n",
       "3 Active fun Non China 1          NA                 Not Renewd     0        \n",
       "4 Active fun Non China 1          NA                 Not Renewd     0        \n",
       "5 Active fun Non China 1          NA                 Not Renewd     0        \n",
       "6 Active fun Non China 1          NA                 Renewed        0        \n",
       "  renew_type   autorenew_type renew_date renew_registrar  renew_reseller  \n",
       "1 auto-renewal realized       2020-03-07 1&1 Internet     1&1 Internet    \n",
       "2 auto-renewal realized       2020-01-22 1&1 Internet     1&1 Internet    \n",
       "3 auto-renewal unrealized     2020-01-15 10dencehispahard 10dencehispahard\n",
       "4 auto-renewal unrealized     2020-02-01 10dencehispahard 10dencehispahard\n",
       "5 auto-renewal unrealized     2020-04-24 1API             1API            \n",
       "6 auto-renewal realized       2020-01-21 1API             1API            \n",
       "  reg_revenue reg_arpt renew_period ⋯ pattern_domain_count actual    \n",
       "1 15          15       1            ⋯ 1                    Renewed   \n",
       "2 15          15       1            ⋯ 1                    Renewed   \n",
       "3 15          15       1            ⋯ 1                    Not Renewd\n",
       "4 15          15       1            ⋯ 1                    Not Renewd\n",
       "5  5           5       1            ⋯ 1                    Not Renewd\n",
       "6  5           5       1            ⋯ 1                    Renewed   \n",
       "  pred_df_seg2_glm pred_df_seg_glm pred_df_agg_glm pred_df_seg2_rf\n",
       "1 0.4607455        0.785           0.360           0.7248957      \n",
       "2 0.8459141        0.802           0.371           0.7125206      \n",
       "3        NA        0.000           0.123           0.0000000      \n",
       "4        NA        0.000           0.120           0.0000000      \n",
       "5 0.9999992        0.843           0.330           0.8320000      \n",
       "6 0.9999971        0.842           0.326           0.8320000      \n",
       "  pred_df_seg_rf pred_df_agg_rf n  start_date           end_date            \n",
       "1 0.6428311      0.5817404      19 2013-01-01T00:00:00Z 2019-12-31T00:00:00Z\n",
       "2 0.6801492      0.6402113      19 2013-01-01T00:00:00Z 2019-12-31T00:00:00Z\n",
       "3 0.3462084      0.4382183       1 2019-07-01T00:00:00Z 2019-12-31T00:00:00Z\n",
       "4 0.3169892      0.2664795       1 2019-07-01T00:00:00Z 2019-12-31T00:00:00Z\n",
       "5 0.8421671      0.8345259       6 2013-01-01T00:00:00Z 2019-12-31T00:00:00Z\n",
       "6 0.8486598      0.7788035       6 2013-01-01T00:00:00Z 2019-12-31T00:00:00Z\n",
       "  reseller_am reseller_geo reg_arpt_slab pred_df_seg2_glm_fb pred_df_seg_glm_fb\n",
       "1 Neha        EU           (10,15]       0.4607455           0.785             \n",
       "2 Neha        EU           (10,15]       0.8459141           0.802             \n",
       "3 Varun       EU           (10,15]       0.5120000           0.000             \n",
       "4 Varun       EU           (10,15]       0.5120000           0.000             \n",
       "5 Varun       EU           (3,5]         0.9999992           0.843             \n",
       "6 Varun       EU           (3,5]         0.9999971           0.842             \n",
       "  pred_df_agg_glm_fb pred_df_seg2_rf_fb pred_df_seg_rf_fb pred_df_agg_rf_fb\n",
       "1 0.360              0.7248957          0.6428311         0.5817404        \n",
       "2 0.371              0.7125206          0.6801492         0.6402113        \n",
       "3 0.123              0.0000000          0.3462084         0.4382183        \n",
       "4 0.120              0.0000000          0.3169892         0.2664795        \n",
       "5 0.330              0.8320000          0.8421671         0.8345259        \n",
       "6 0.326              0.8320000          0.8486598         0.7788035        \n",
       "  npv_fallback_first_geo_arpt_tld npv_fallback_first_geo_arpt\n",
       "1 NA                              0.512                      \n",
       "2 NA                              0.512                      \n",
       "3 NA                              0.512                      \n",
       "4 NA                              0.512                      \n",
       "5 NA                              0.525                      \n",
       "6 NA                              0.525                      \n",
       "  npv_fallback_first_tld_arpt npv_fallback_first_final auc_win_01     \n",
       "1 0.522                       0.493                    NA             \n",
       "2 0.522                       0.493                    NA             \n",
       "3 0.522                       0.493                    NA             \n",
       "4 0.522                       0.493                    NA             \n",
       "5 0.351                       0.365                    auc_seg2_glm_fb\n",
       "6 0.351                       0.365                    auc_seg2_glm_fb"
      ]
     },
     "metadata": {},
     "output_type": "display_data"
    }
   ],
   "source": [
    "expiry_test_predictions_assign <- merge(expiry_test_predictions, \n",
    "                                       expiry_test_meta_test, \n",
    "                                       on='tld_registrar_index',\n",
    "                                       all=TRUE)\n",
    "dim(expiry_test_predictions_assign)\n",
    "dim(expiry_test_predictions)\n",
    "head(expiry_test_predictions_assign)"
   ]
  },
  {
   "cell_type": "code",
   "execution_count": 342,
   "metadata": {},
   "outputs": [
    {
     "data": {
      "text/plain": [
       "\n",
       "  auc_agg_rf_fb auc_seg2_glm_fb \n",
       "     0.09228927      0.11127259 "
      ]
     },
     "metadata": {},
     "output_type": "display_data"
    },
    {
     "data": {
      "text/html": [
       "0.796438146948305"
      ],
      "text/latex": [
       "0.796438146948305"
      ],
      "text/markdown": [
       "0.796438146948305"
      ],
      "text/plain": [
       "[1] 0.7964381"
      ]
     },
     "metadata": {},
     "output_type": "display_data"
    }
   ],
   "source": [
    "# metalearning trained on 80% subset of 20% subset of expiry\n",
    "# tested on 20% subset of 20% of expiry\n",
    "\n",
    "table(expiry_test_predictions_assign$auc_win_01)/nrow(expiry_test_predictions_assign)\n",
    "sum(is.na(expiry_test_predictions_assign$auc_win_01))/nrow(expiry_test_predictions_assign)"
   ]
  },
  {
   "cell_type": "code",
   "execution_count": 345,
   "metadata": {},
   "outputs": [
    {
     "data": {
      "text/html": [
       "0"
      ],
      "text/latex": [
       "0"
      ],
      "text/markdown": [
       "0"
      ],
      "text/plain": [
       "[1] 0"
      ]
     },
     "metadata": {},
     "output_type": "display_data"
    },
    {
     "data": {
      "text/html": [
       "<table>\n",
       "<caption>A data.frame: 6 × 63</caption>\n",
       "<thead>\n",
       "\t<tr><th></th><th scope=col>tld_registrar_index</th><th scope=col>reseller</th><th scope=col>registrar</th><th scope=col>reseller_country</th><th scope=col>domain_id</th><th scope=col>domain</th><th scope=col>renewal_type</th><th scope=col>renewed_count</th><th scope=col>expiry_date</th><th scope=col>creation_date</th><th scope=col>status</th><th scope=col>tld</th><th scope=col>region</th><th scope=col>reg_period</th><th scope=col>registrant_country</th><th scope=col>renewal_status</th><th scope=col>renew_mbg</th><th scope=col>renew_type</th><th scope=col>autorenew_type</th><th scope=col>renew_date</th><th scope=col>renew_registrar</th><th scope=col>renew_reseller</th><th scope=col>reg_revenue</th><th scope=col>reg_arpt</th><th scope=col>renew_period</th><th scope=col>⋯</th><th scope=col>pattern_domain_count</th><th scope=col>actual</th><th scope=col>pred_df_seg2_glm</th><th scope=col>pred_df_seg_glm</th><th scope=col>pred_df_agg_glm</th><th scope=col>pred_df_seg2_rf</th><th scope=col>pred_df_seg_rf</th><th scope=col>pred_df_agg_rf</th><th scope=col>n</th><th scope=col>start_date</th><th scope=col>end_date</th><th scope=col>reseller_am</th><th scope=col>reseller_geo</th><th scope=col>reg_arpt_slab</th><th scope=col>pred_df_seg2_glm_fb</th><th scope=col>pred_df_seg_glm_fb</th><th scope=col>pred_df_agg_glm_fb</th><th scope=col>pred_df_seg2_rf_fb</th><th scope=col>pred_df_seg_rf_fb</th><th scope=col>pred_df_agg_rf_fb</th><th scope=col>npv_fallback_first_geo_arpt_tld</th><th scope=col>npv_fallback_first_geo_arpt</th><th scope=col>npv_fallback_first_tld_arpt</th><th scope=col>npv_fallback_first_final</th><th scope=col>auc_win_01</th></tr>\n",
       "\t<tr><th></th><th scope=col>&lt;chr&gt;</th><th scope=col>&lt;fct&gt;</th><th scope=col>&lt;chr&gt;</th><th scope=col>&lt;fct&gt;</th><th scope=col>&lt;int&gt;</th><th scope=col>&lt;chr&gt;</th><th scope=col>&lt;chr&gt;</th><th scope=col>&lt;int&gt;</th><th scope=col>&lt;date&gt;</th><th scope=col>&lt;date&gt;</th><th scope=col>&lt;chr&gt;</th><th scope=col>&lt;fct&gt;</th><th scope=col>&lt;chr&gt;</th><th scope=col>&lt;int&gt;</th><th scope=col>&lt;chr&gt;</th><th scope=col>&lt;fct&gt;</th><th scope=col>&lt;int&gt;</th><th scope=col>&lt;chr&gt;</th><th scope=col>&lt;chr&gt;</th><th scope=col>&lt;date&gt;</th><th scope=col>&lt;chr&gt;</th><th scope=col>&lt;chr&gt;</th><th scope=col>&lt;dbl&gt;</th><th scope=col>&lt;dbl&gt;</th><th scope=col>&lt;int&gt;</th><th scope=col>⋯</th><th scope=col>&lt;int&gt;</th><th scope=col>&lt;fct&gt;</th><th scope=col>&lt;dbl&gt;</th><th scope=col>&lt;dbl&gt;</th><th scope=col>&lt;dbl&gt;</th><th scope=col>&lt;dbl&gt;</th><th scope=col>&lt;dbl&gt;</th><th scope=col>&lt;dbl&gt;</th><th scope=col>&lt;int&gt;</th><th scope=col>&lt;fct&gt;</th><th scope=col>&lt;fct&gt;</th><th scope=col>&lt;fct&gt;</th><th scope=col>&lt;fct&gt;</th><th scope=col>&lt;fct&gt;</th><th scope=col>&lt;dbl&gt;</th><th scope=col>&lt;dbl&gt;</th><th scope=col>&lt;dbl&gt;</th><th scope=col>&lt;dbl&gt;</th><th scope=col>&lt;dbl&gt;</th><th scope=col>&lt;dbl&gt;</th><th scope=col>&lt;dbl&gt;</th><th scope=col>&lt;dbl&gt;</th><th scope=col>&lt;dbl&gt;</th><th scope=col>&lt;dbl&gt;</th><th scope=col>&lt;chr&gt;</th></tr>\n",
       "</thead>\n",
       "<tbody>\n",
       "\t<tr><th scope=row>1</th><td>fun1api       </td><td>1api       </td><td>1api       </td><td>Germany</td><td>101717674</td><td>gotsome.fun         </td><td>FirstTime</td><td>1</td><td>2020-04-24</td><td>2019-04-24</td><td>Active</td><td>fun</td><td>Non China</td><td>1</td><td>NA</td><td>Not Renewd</td><td>0</td><td>auto-renewal</td><td>unrealized</td><td>2020-04-24</td><td>1API       </td><td>1API       </td><td>5.00</td><td>5.00</td><td>1</td><td>⋯</td><td>1</td><td>Not Renewd</td><td>0.9999992</td><td>0.843</td><td>0.330</td><td>0.832</td><td>0.84216715</td><td>0.83452593</td><td> 6</td><td>2013-01-01T00:00:00Z</td><td>2019-12-31T00:00:00Z</td><td>Varun  </td><td>EU   </td><td>(3,5]  </td><td>0.9999992</td><td>0.843</td><td>0.330</td><td>0.832</td><td>0.84216715</td><td>0.83452593</td><td>   NA</td><td>0.525</td><td>0.351</td><td>0.365</td><td>auc_seg2_glm_fb</td></tr>\n",
       "\t<tr><th scope=row>2</th><td>fun1api       </td><td>1api       </td><td>1api       </td><td>Germany</td><td> 91532433</td><td>bulgari.fun         </td><td>FirstTime</td><td>1</td><td>2020-01-21</td><td>2019-01-21</td><td>Active</td><td>fun</td><td>Non China</td><td>1</td><td>NA</td><td>Renewed   </td><td>0</td><td>auto-renewal</td><td>realized  </td><td>2020-01-21</td><td>1API       </td><td>1API       </td><td>5.00</td><td>5.00</td><td>1</td><td>⋯</td><td>1</td><td>Renewed   </td><td>0.9999971</td><td>0.842</td><td>0.326</td><td>0.832</td><td>0.84865979</td><td>0.77880345</td><td> 6</td><td>2013-01-01T00:00:00Z</td><td>2019-12-31T00:00:00Z</td><td>Varun  </td><td>EU   </td><td>(3,5]  </td><td>0.9999971</td><td>0.842</td><td>0.326</td><td>0.832</td><td>0.84865979</td><td>0.77880345</td><td>   NA</td><td>0.525</td><td>0.351</td><td>0.365</td><td>auc_seg2_glm_fb</td></tr>\n",
       "\t<tr><th scope=row>3</th><td>funchengdu fly</td><td>chengdu fly</td><td>chengdu fly</td><td>China  </td><td>103502854</td><td>xinmaiyouamatz11.fun</td><td>FirstTime</td><td>1</td><td>2020-05-14</td><td>2019-05-14</td><td>Active</td><td>fun</td><td>China    </td><td>1</td><td>NA</td><td>Not Renewd</td><td>0</td><td>auto-renewal</td><td>NA        </td><td>2020-05-14</td><td>CHENGDU FLY</td><td>CHENGDU FLY</td><td>0.75</td><td>0.75</td><td>1</td><td>⋯</td><td>3</td><td>Not Renewd</td><td>       NA</td><td>0.000</td><td>0.016</td><td>0.000</td><td>0.01157817</td><td>0.04441114</td><td>21</td><td>2013-01-01T00:00:00Z</td><td>2019-12-31T00:00:00Z</td><td>Kenneth</td><td>China</td><td>(0.3,1]</td><td>0.0090000</td><td>0.000</td><td>0.016</td><td>0.000</td><td>0.01157817</td><td>0.04441114</td><td>0.009</td><td>0.020</td><td>0.020</td><td>0.020</td><td>auc_seg2_glm_fb</td></tr>\n",
       "\t<tr><th scope=row>4</th><td>funchengdu fly</td><td>chengdu fly</td><td>chengdu fly</td><td>China  </td><td>102081259</td><td>maiyenameefn6.fun   </td><td>FirstTime</td><td>1</td><td>2020-04-26</td><td>2019-04-26</td><td>Active</td><td>fun</td><td>China    </td><td>1</td><td>NA</td><td>Not Renewd</td><td>0</td><td>auto-renewal</td><td>unrealized</td><td>2020-04-26</td><td>CHENGDU FLY</td><td>CHENGDU FLY</td><td>0.75</td><td>0.75</td><td>1</td><td>⋯</td><td>1</td><td>Not Renewd</td><td>       NA</td><td>0.000</td><td>0.021</td><td>0.000</td><td>0.09939826</td><td>0.07984816</td><td>21</td><td>2013-01-01T00:00:00Z</td><td>2019-12-31T00:00:00Z</td><td>Kenneth</td><td>China</td><td>(0.3,1]</td><td>0.0090000</td><td>0.000</td><td>0.021</td><td>0.000</td><td>0.09939826</td><td>0.07984816</td><td>0.009</td><td>0.020</td><td>0.020</td><td>0.020</td><td>auc_seg2_glm_fb</td></tr>\n",
       "\t<tr><th scope=row>5</th><td>funchengdu fly</td><td>chengdu fly</td><td>chengdu fly</td><td>China  </td><td>104273606</td><td>sxcdswaz.fun        </td><td>FirstTime</td><td>1</td><td>2020-05-22</td><td>2019-05-22</td><td>Active</td><td>fun</td><td>China    </td><td>1</td><td>NA</td><td>Not Renewd</td><td>0</td><td>auto-renewal</td><td>NA        </td><td>2020-05-22</td><td>CHENGDU FLY</td><td>CHENGDU FLY</td><td>0.75</td><td>0.75</td><td>1</td><td>⋯</td><td>1</td><td>Not Renewd</td><td>       NA</td><td>0.000</td><td>0.043</td><td>0.000</td><td>0.01241113</td><td>0.04181175</td><td>21</td><td>2013-01-01T00:00:00Z</td><td>2019-12-31T00:00:00Z</td><td>Kenneth</td><td>China</td><td>(0.3,1]</td><td>0.0090000</td><td>0.000</td><td>0.043</td><td>0.000</td><td>0.01241113</td><td>0.04181175</td><td>0.009</td><td>0.020</td><td>0.020</td><td>0.020</td><td>auc_seg2_glm_fb</td></tr>\n",
       "\t<tr><th scope=row>6</th><td>funchengdu fly</td><td>chengdu fly</td><td>chengdu fly</td><td>China  </td><td>104119656</td><td>nmkoplmj.fun        </td><td>FirstTime</td><td>1</td><td>2020-05-20</td><td>2019-05-20</td><td>Active</td><td>fun</td><td>China    </td><td>1</td><td>NA</td><td>Not Renewd</td><td>0</td><td>auto-renewal</td><td>NA        </td><td>2020-05-20</td><td>CHENGDU FLY</td><td>CHENGDU FLY</td><td>0.75</td><td>0.75</td><td>1</td><td>⋯</td><td>1</td><td>Not Renewd</td><td>       NA</td><td>0.000</td><td>0.043</td><td>0.000</td><td>0.01241113</td><td>0.04450078</td><td>21</td><td>2013-01-01T00:00:00Z</td><td>2019-12-31T00:00:00Z</td><td>Kenneth</td><td>China</td><td>(0.3,1]</td><td>0.0090000</td><td>0.000</td><td>0.043</td><td>0.000</td><td>0.01241113</td><td>0.04450078</td><td>0.009</td><td>0.020</td><td>0.020</td><td>0.020</td><td>auc_seg2_glm_fb</td></tr>\n",
       "</tbody>\n",
       "</table>\n"
      ],
      "text/latex": [
       "A data.frame: 6 × 63\n",
       "\\begin{tabular}{r|lllllllllllllllllllllllllllllllllllllllllllllllllll}\n",
       "  & tld\\_registrar\\_index & reseller & registrar & reseller\\_country & domain\\_id & domain & renewal\\_type & renewed\\_count & expiry\\_date & creation\\_date & status & tld & region & reg\\_period & registrant\\_country & renewal\\_status & renew\\_mbg & renew\\_type & autorenew\\_type & renew\\_date & renew\\_registrar & renew\\_reseller & reg\\_revenue & reg\\_arpt & renew\\_period & ⋯ & pattern\\_domain\\_count & actual & pred\\_df\\_seg2\\_glm & pred\\_df\\_seg\\_glm & pred\\_df\\_agg\\_glm & pred\\_df\\_seg2\\_rf & pred\\_df\\_seg\\_rf & pred\\_df\\_agg\\_rf & n & start\\_date & end\\_date & reseller\\_am & reseller\\_geo & reg\\_arpt\\_slab & pred\\_df\\_seg2\\_glm\\_fb & pred\\_df\\_seg\\_glm\\_fb & pred\\_df\\_agg\\_glm\\_fb & pred\\_df\\_seg2\\_rf\\_fb & pred\\_df\\_seg\\_rf\\_fb & pred\\_df\\_agg\\_rf\\_fb & npv\\_fallback\\_first\\_geo\\_arpt\\_tld & npv\\_fallback\\_first\\_geo\\_arpt & npv\\_fallback\\_first\\_tld\\_arpt & npv\\_fallback\\_first\\_final & auc\\_win\\_01\\\\\n",
       "  & <chr> & <fct> & <chr> & <fct> & <int> & <chr> & <chr> & <int> & <date> & <date> & <chr> & <fct> & <chr> & <int> & <chr> & <fct> & <int> & <chr> & <chr> & <date> & <chr> & <chr> & <dbl> & <dbl> & <int> & ⋯ & <int> & <fct> & <dbl> & <dbl> & <dbl> & <dbl> & <dbl> & <dbl> & <int> & <fct> & <fct> & <fct> & <fct> & <fct> & <dbl> & <dbl> & <dbl> & <dbl> & <dbl> & <dbl> & <dbl> & <dbl> & <dbl> & <dbl> & <chr>\\\\\n",
       "\\hline\n",
       "\t1 & fun1api        & 1api        & 1api        & Germany & 101717674 & gotsome.fun          & FirstTime & 1 & 2020-04-24 & 2019-04-24 & Active & fun & Non China & 1 & NA & Not Renewd & 0 & auto-renewal & unrealized & 2020-04-24 & 1API        & 1API        & 5.00 & 5.00 & 1 & ⋯ & 1 & Not Renewd & 0.9999992 & 0.843 & 0.330 & 0.832 & 0.84216715 & 0.83452593 &  6 & 2013-01-01T00:00:00Z & 2019-12-31T00:00:00Z & Varun   & EU    & (3,5{]}   & 0.9999992 & 0.843 & 0.330 & 0.832 & 0.84216715 & 0.83452593 &    NA & 0.525 & 0.351 & 0.365 & auc\\_seg2\\_glm\\_fb\\\\\n",
       "\t2 & fun1api        & 1api        & 1api        & Germany &  91532433 & bulgari.fun          & FirstTime & 1 & 2020-01-21 & 2019-01-21 & Active & fun & Non China & 1 & NA & Renewed    & 0 & auto-renewal & realized   & 2020-01-21 & 1API        & 1API        & 5.00 & 5.00 & 1 & ⋯ & 1 & Renewed    & 0.9999971 & 0.842 & 0.326 & 0.832 & 0.84865979 & 0.77880345 &  6 & 2013-01-01T00:00:00Z & 2019-12-31T00:00:00Z & Varun   & EU    & (3,5{]}   & 0.9999971 & 0.842 & 0.326 & 0.832 & 0.84865979 & 0.77880345 &    NA & 0.525 & 0.351 & 0.365 & auc\\_seg2\\_glm\\_fb\\\\\n",
       "\t3 & funchengdu fly & chengdu fly & chengdu fly & China   & 103502854 & xinmaiyouamatz11.fun & FirstTime & 1 & 2020-05-14 & 2019-05-14 & Active & fun & China     & 1 & NA & Not Renewd & 0 & auto-renewal & NA         & 2020-05-14 & CHENGDU FLY & CHENGDU FLY & 0.75 & 0.75 & 1 & ⋯ & 3 & Not Renewd &        NA & 0.000 & 0.016 & 0.000 & 0.01157817 & 0.04441114 & 21 & 2013-01-01T00:00:00Z & 2019-12-31T00:00:00Z & Kenneth & China & (0.3,1{]} & 0.0090000 & 0.000 & 0.016 & 0.000 & 0.01157817 & 0.04441114 & 0.009 & 0.020 & 0.020 & 0.020 & auc\\_seg2\\_glm\\_fb\\\\\n",
       "\t4 & funchengdu fly & chengdu fly & chengdu fly & China   & 102081259 & maiyenameefn6.fun    & FirstTime & 1 & 2020-04-26 & 2019-04-26 & Active & fun & China     & 1 & NA & Not Renewd & 0 & auto-renewal & unrealized & 2020-04-26 & CHENGDU FLY & CHENGDU FLY & 0.75 & 0.75 & 1 & ⋯ & 1 & Not Renewd &        NA & 0.000 & 0.021 & 0.000 & 0.09939826 & 0.07984816 & 21 & 2013-01-01T00:00:00Z & 2019-12-31T00:00:00Z & Kenneth & China & (0.3,1{]} & 0.0090000 & 0.000 & 0.021 & 0.000 & 0.09939826 & 0.07984816 & 0.009 & 0.020 & 0.020 & 0.020 & auc\\_seg2\\_glm\\_fb\\\\\n",
       "\t5 & funchengdu fly & chengdu fly & chengdu fly & China   & 104273606 & sxcdswaz.fun         & FirstTime & 1 & 2020-05-22 & 2019-05-22 & Active & fun & China     & 1 & NA & Not Renewd & 0 & auto-renewal & NA         & 2020-05-22 & CHENGDU FLY & CHENGDU FLY & 0.75 & 0.75 & 1 & ⋯ & 1 & Not Renewd &        NA & 0.000 & 0.043 & 0.000 & 0.01241113 & 0.04181175 & 21 & 2013-01-01T00:00:00Z & 2019-12-31T00:00:00Z & Kenneth & China & (0.3,1{]} & 0.0090000 & 0.000 & 0.043 & 0.000 & 0.01241113 & 0.04181175 & 0.009 & 0.020 & 0.020 & 0.020 & auc\\_seg2\\_glm\\_fb\\\\\n",
       "\t6 & funchengdu fly & chengdu fly & chengdu fly & China   & 104119656 & nmkoplmj.fun         & FirstTime & 1 & 2020-05-20 & 2019-05-20 & Active & fun & China     & 1 & NA & Not Renewd & 0 & auto-renewal & NA         & 2020-05-20 & CHENGDU FLY & CHENGDU FLY & 0.75 & 0.75 & 1 & ⋯ & 1 & Not Renewd &        NA & 0.000 & 0.043 & 0.000 & 0.01241113 & 0.04450078 & 21 & 2013-01-01T00:00:00Z & 2019-12-31T00:00:00Z & Kenneth & China & (0.3,1{]} & 0.0090000 & 0.000 & 0.043 & 0.000 & 0.01241113 & 0.04450078 & 0.009 & 0.020 & 0.020 & 0.020 & auc\\_seg2\\_glm\\_fb\\\\\n",
       "\\end{tabular}\n"
      ],
      "text/markdown": [
       "\n",
       "A data.frame: 6 × 63\n",
       "\n",
       "| <!--/--> | tld_registrar_index &lt;chr&gt; | reseller &lt;fct&gt; | registrar &lt;chr&gt; | reseller_country &lt;fct&gt; | domain_id &lt;int&gt; | domain &lt;chr&gt; | renewal_type &lt;chr&gt; | renewed_count &lt;int&gt; | expiry_date &lt;date&gt; | creation_date &lt;date&gt; | status &lt;chr&gt; | tld &lt;fct&gt; | region &lt;chr&gt; | reg_period &lt;int&gt; | registrant_country &lt;chr&gt; | renewal_status &lt;fct&gt; | renew_mbg &lt;int&gt; | renew_type &lt;chr&gt; | autorenew_type &lt;chr&gt; | renew_date &lt;date&gt; | renew_registrar &lt;chr&gt; | renew_reseller &lt;chr&gt; | reg_revenue &lt;dbl&gt; | reg_arpt &lt;dbl&gt; | renew_period &lt;int&gt; | ⋯ ⋯ | pattern_domain_count &lt;int&gt; | actual &lt;fct&gt; | pred_df_seg2_glm &lt;dbl&gt; | pred_df_seg_glm &lt;dbl&gt; | pred_df_agg_glm &lt;dbl&gt; | pred_df_seg2_rf &lt;dbl&gt; | pred_df_seg_rf &lt;dbl&gt; | pred_df_agg_rf &lt;dbl&gt; | n &lt;int&gt; | start_date &lt;fct&gt; | end_date &lt;fct&gt; | reseller_am &lt;fct&gt; | reseller_geo &lt;fct&gt; | reg_arpt_slab &lt;fct&gt; | pred_df_seg2_glm_fb &lt;dbl&gt; | pred_df_seg_glm_fb &lt;dbl&gt; | pred_df_agg_glm_fb &lt;dbl&gt; | pred_df_seg2_rf_fb &lt;dbl&gt; | pred_df_seg_rf_fb &lt;dbl&gt; | pred_df_agg_rf_fb &lt;dbl&gt; | npv_fallback_first_geo_arpt_tld &lt;dbl&gt; | npv_fallback_first_geo_arpt &lt;dbl&gt; | npv_fallback_first_tld_arpt &lt;dbl&gt; | npv_fallback_first_final &lt;dbl&gt; | auc_win_01 &lt;chr&gt; |\n",
       "|---|---|---|---|---|---|---|---|---|---|---|---|---|---|---|---|---|---|---|---|---|---|---|---|---|---|---|---|---|---|---|---|---|---|---|---|---|---|---|---|---|---|---|---|---|---|---|---|---|---|---|---|\n",
       "| 1 | fun1api        | 1api        | 1api        | Germany | 101717674 | gotsome.fun          | FirstTime | 1 | 2020-04-24 | 2019-04-24 | Active | fun | Non China | 1 | NA | Not Renewd | 0 | auto-renewal | unrealized | 2020-04-24 | 1API        | 1API        | 5.00 | 5.00 | 1 | ⋯ | 1 | Not Renewd | 0.9999992 | 0.843 | 0.330 | 0.832 | 0.84216715 | 0.83452593 |  6 | 2013-01-01T00:00:00Z | 2019-12-31T00:00:00Z | Varun   | EU    | (3,5]   | 0.9999992 | 0.843 | 0.330 | 0.832 | 0.84216715 | 0.83452593 |    NA | 0.525 | 0.351 | 0.365 | auc_seg2_glm_fb |\n",
       "| 2 | fun1api        | 1api        | 1api        | Germany |  91532433 | bulgari.fun          | FirstTime | 1 | 2020-01-21 | 2019-01-21 | Active | fun | Non China | 1 | NA | Renewed    | 0 | auto-renewal | realized   | 2020-01-21 | 1API        | 1API        | 5.00 | 5.00 | 1 | ⋯ | 1 | Renewed    | 0.9999971 | 0.842 | 0.326 | 0.832 | 0.84865979 | 0.77880345 |  6 | 2013-01-01T00:00:00Z | 2019-12-31T00:00:00Z | Varun   | EU    | (3,5]   | 0.9999971 | 0.842 | 0.326 | 0.832 | 0.84865979 | 0.77880345 |    NA | 0.525 | 0.351 | 0.365 | auc_seg2_glm_fb |\n",
       "| 3 | funchengdu fly | chengdu fly | chengdu fly | China   | 103502854 | xinmaiyouamatz11.fun | FirstTime | 1 | 2020-05-14 | 2019-05-14 | Active | fun | China     | 1 | NA | Not Renewd | 0 | auto-renewal | NA         | 2020-05-14 | CHENGDU FLY | CHENGDU FLY | 0.75 | 0.75 | 1 | ⋯ | 3 | Not Renewd |        NA | 0.000 | 0.016 | 0.000 | 0.01157817 | 0.04441114 | 21 | 2013-01-01T00:00:00Z | 2019-12-31T00:00:00Z | Kenneth | China | (0.3,1] | 0.0090000 | 0.000 | 0.016 | 0.000 | 0.01157817 | 0.04441114 | 0.009 | 0.020 | 0.020 | 0.020 | auc_seg2_glm_fb |\n",
       "| 4 | funchengdu fly | chengdu fly | chengdu fly | China   | 102081259 | maiyenameefn6.fun    | FirstTime | 1 | 2020-04-26 | 2019-04-26 | Active | fun | China     | 1 | NA | Not Renewd | 0 | auto-renewal | unrealized | 2020-04-26 | CHENGDU FLY | CHENGDU FLY | 0.75 | 0.75 | 1 | ⋯ | 1 | Not Renewd |        NA | 0.000 | 0.021 | 0.000 | 0.09939826 | 0.07984816 | 21 | 2013-01-01T00:00:00Z | 2019-12-31T00:00:00Z | Kenneth | China | (0.3,1] | 0.0090000 | 0.000 | 0.021 | 0.000 | 0.09939826 | 0.07984816 | 0.009 | 0.020 | 0.020 | 0.020 | auc_seg2_glm_fb |\n",
       "| 5 | funchengdu fly | chengdu fly | chengdu fly | China   | 104273606 | sxcdswaz.fun         | FirstTime | 1 | 2020-05-22 | 2019-05-22 | Active | fun | China     | 1 | NA | Not Renewd | 0 | auto-renewal | NA         | 2020-05-22 | CHENGDU FLY | CHENGDU FLY | 0.75 | 0.75 | 1 | ⋯ | 1 | Not Renewd |        NA | 0.000 | 0.043 | 0.000 | 0.01241113 | 0.04181175 | 21 | 2013-01-01T00:00:00Z | 2019-12-31T00:00:00Z | Kenneth | China | (0.3,1] | 0.0090000 | 0.000 | 0.043 | 0.000 | 0.01241113 | 0.04181175 | 0.009 | 0.020 | 0.020 | 0.020 | auc_seg2_glm_fb |\n",
       "| 6 | funchengdu fly | chengdu fly | chengdu fly | China   | 104119656 | nmkoplmj.fun         | FirstTime | 1 | 2020-05-20 | 2019-05-20 | Active | fun | China     | 1 | NA | Not Renewd | 0 | auto-renewal | NA         | 2020-05-20 | CHENGDU FLY | CHENGDU FLY | 0.75 | 0.75 | 1 | ⋯ | 1 | Not Renewd |        NA | 0.000 | 0.043 | 0.000 | 0.01241113 | 0.04450078 | 21 | 2013-01-01T00:00:00Z | 2019-12-31T00:00:00Z | Kenneth | China | (0.3,1] | 0.0090000 | 0.000 | 0.043 | 0.000 | 0.01241113 | 0.04450078 | 0.009 | 0.020 | 0.020 | 0.020 | auc_seg2_glm_fb |\n",
       "\n"
      ],
      "text/plain": [
       "  tld_registrar_index reseller    registrar   reseller_country domain_id\n",
       "1 fun1api             1api        1api        Germany          101717674\n",
       "2 fun1api             1api        1api        Germany           91532433\n",
       "3 funchengdu fly      chengdu fly chengdu fly China            103502854\n",
       "4 funchengdu fly      chengdu fly chengdu fly China            102081259\n",
       "5 funchengdu fly      chengdu fly chengdu fly China            104273606\n",
       "6 funchengdu fly      chengdu fly chengdu fly China            104119656\n",
       "  domain               renewal_type renewed_count expiry_date creation_date\n",
       "1 gotsome.fun          FirstTime    1             2020-04-24  2019-04-24   \n",
       "2 bulgari.fun          FirstTime    1             2020-01-21  2019-01-21   \n",
       "3 xinmaiyouamatz11.fun FirstTime    1             2020-05-14  2019-05-14   \n",
       "4 maiyenameefn6.fun    FirstTime    1             2020-04-26  2019-04-26   \n",
       "5 sxcdswaz.fun         FirstTime    1             2020-05-22  2019-05-22   \n",
       "6 nmkoplmj.fun         FirstTime    1             2020-05-20  2019-05-20   \n",
       "  status tld region    reg_period registrant_country renewal_status renew_mbg\n",
       "1 Active fun Non China 1          NA                 Not Renewd     0        \n",
       "2 Active fun Non China 1          NA                 Renewed        0        \n",
       "3 Active fun China     1          NA                 Not Renewd     0        \n",
       "4 Active fun China     1          NA                 Not Renewd     0        \n",
       "5 Active fun China     1          NA                 Not Renewd     0        \n",
       "6 Active fun China     1          NA                 Not Renewd     0        \n",
       "  renew_type   autorenew_type renew_date renew_registrar renew_reseller\n",
       "1 auto-renewal unrealized     2020-04-24 1API            1API          \n",
       "2 auto-renewal realized       2020-01-21 1API            1API          \n",
       "3 auto-renewal NA             2020-05-14 CHENGDU FLY     CHENGDU FLY   \n",
       "4 auto-renewal unrealized     2020-04-26 CHENGDU FLY     CHENGDU FLY   \n",
       "5 auto-renewal NA             2020-05-22 CHENGDU FLY     CHENGDU FLY   \n",
       "6 auto-renewal NA             2020-05-20 CHENGDU FLY     CHENGDU FLY   \n",
       "  reg_revenue reg_arpt renew_period ⋯ pattern_domain_count actual    \n",
       "1 5.00        5.00     1            ⋯ 1                    Not Renewd\n",
       "2 5.00        5.00     1            ⋯ 1                    Renewed   \n",
       "3 0.75        0.75     1            ⋯ 3                    Not Renewd\n",
       "4 0.75        0.75     1            ⋯ 1                    Not Renewd\n",
       "5 0.75        0.75     1            ⋯ 1                    Not Renewd\n",
       "6 0.75        0.75     1            ⋯ 1                    Not Renewd\n",
       "  pred_df_seg2_glm pred_df_seg_glm pred_df_agg_glm pred_df_seg2_rf\n",
       "1 0.9999992        0.843           0.330           0.832          \n",
       "2 0.9999971        0.842           0.326           0.832          \n",
       "3        NA        0.000           0.016           0.000          \n",
       "4        NA        0.000           0.021           0.000          \n",
       "5        NA        0.000           0.043           0.000          \n",
       "6        NA        0.000           0.043           0.000          \n",
       "  pred_df_seg_rf pred_df_agg_rf n  start_date           end_date            \n",
       "1 0.84216715     0.83452593      6 2013-01-01T00:00:00Z 2019-12-31T00:00:00Z\n",
       "2 0.84865979     0.77880345      6 2013-01-01T00:00:00Z 2019-12-31T00:00:00Z\n",
       "3 0.01157817     0.04441114     21 2013-01-01T00:00:00Z 2019-12-31T00:00:00Z\n",
       "4 0.09939826     0.07984816     21 2013-01-01T00:00:00Z 2019-12-31T00:00:00Z\n",
       "5 0.01241113     0.04181175     21 2013-01-01T00:00:00Z 2019-12-31T00:00:00Z\n",
       "6 0.01241113     0.04450078     21 2013-01-01T00:00:00Z 2019-12-31T00:00:00Z\n",
       "  reseller_am reseller_geo reg_arpt_slab pred_df_seg2_glm_fb pred_df_seg_glm_fb\n",
       "1 Varun       EU           (3,5]         0.9999992           0.843             \n",
       "2 Varun       EU           (3,5]         0.9999971           0.842             \n",
       "3 Kenneth     China        (0.3,1]       0.0090000           0.000             \n",
       "4 Kenneth     China        (0.3,1]       0.0090000           0.000             \n",
       "5 Kenneth     China        (0.3,1]       0.0090000           0.000             \n",
       "6 Kenneth     China        (0.3,1]       0.0090000           0.000             \n",
       "  pred_df_agg_glm_fb pred_df_seg2_rf_fb pred_df_seg_rf_fb pred_df_agg_rf_fb\n",
       "1 0.330              0.832              0.84216715        0.83452593       \n",
       "2 0.326              0.832              0.84865979        0.77880345       \n",
       "3 0.016              0.000              0.01157817        0.04441114       \n",
       "4 0.021              0.000              0.09939826        0.07984816       \n",
       "5 0.043              0.000              0.01241113        0.04181175       \n",
       "6 0.043              0.000              0.01241113        0.04450078       \n",
       "  npv_fallback_first_geo_arpt_tld npv_fallback_first_geo_arpt\n",
       "1    NA                           0.525                      \n",
       "2    NA                           0.525                      \n",
       "3 0.009                           0.020                      \n",
       "4 0.009                           0.020                      \n",
       "5 0.009                           0.020                      \n",
       "6 0.009                           0.020                      \n",
       "  npv_fallback_first_tld_arpt npv_fallback_first_final auc_win_01     \n",
       "1 0.351                       0.365                    auc_seg2_glm_fb\n",
       "2 0.351                       0.365                    auc_seg2_glm_fb\n",
       "3 0.020                       0.020                    auc_seg2_glm_fb\n",
       "4 0.020                       0.020                    auc_seg2_glm_fb\n",
       "5 0.020                       0.020                    auc_seg2_glm_fb\n",
       "6 0.020                       0.020                    auc_seg2_glm_fb"
      ]
     },
     "metadata": {},
     "output_type": "display_data"
    }
   ],
   "source": [
    "# remove all NAs\n",
    "# ie elements of test which were used to train the model\n",
    "expiry_test_predictions_assign <- expiry_test_predictions_assign %>% filter(!is.na(auc_win_01))\n",
    "sum(is.na(expiry_test_predictions_assign$auc_win_01))/nrow(expiry_test_predictions_assign)\n",
    "head(expiry_test_predictions_assign)"
   ]
  },
  {
   "cell_type": "code",
   "execution_count": 350,
   "metadata": {},
   "outputs": [
    {
     "data": {
      "text/html": [
       "<table>\n",
       "<caption>A data.frame: 6 × 4</caption>\n",
       "<thead>\n",
       "\t<tr><th></th><th scope=col>pred_df_seg2_glm_fb</th><th scope=col>pred_df_agg_rf_fb</th><th scope=col>auc_win_01</th><th scope=col>auc_win_pred</th></tr>\n",
       "\t<tr><th></th><th scope=col>&lt;dbl&gt;</th><th scope=col>&lt;dbl&gt;</th><th scope=col>&lt;chr&gt;</th><th scope=col>&lt;dbl&gt;</th></tr>\n",
       "</thead>\n",
       "<tbody>\n",
       "\t<tr><th scope=row>1</th><td>0.9999992</td><td>0.83452593</td><td>auc_seg2_glm_fb</td><td>0.9999992</td></tr>\n",
       "\t<tr><th scope=row>2</th><td>0.9999971</td><td>0.77880345</td><td>auc_seg2_glm_fb</td><td>0.9999971</td></tr>\n",
       "\t<tr><th scope=row>3</th><td>0.0090000</td><td>0.04441114</td><td>auc_seg2_glm_fb</td><td>0.0090000</td></tr>\n",
       "\t<tr><th scope=row>4</th><td>0.0090000</td><td>0.07984816</td><td>auc_seg2_glm_fb</td><td>0.0090000</td></tr>\n",
       "\t<tr><th scope=row>5</th><td>0.0090000</td><td>0.04181175</td><td>auc_seg2_glm_fb</td><td>0.0090000</td></tr>\n",
       "\t<tr><th scope=row>6</th><td>0.0090000</td><td>0.04450078</td><td>auc_seg2_glm_fb</td><td>0.0090000</td></tr>\n",
       "</tbody>\n",
       "</table>\n"
      ],
      "text/latex": [
       "A data.frame: 6 × 4\n",
       "\\begin{tabular}{r|llll}\n",
       "  & pred\\_df\\_seg2\\_glm\\_fb & pred\\_df\\_agg\\_rf\\_fb & auc\\_win\\_01 & auc\\_win\\_pred\\\\\n",
       "  & <dbl> & <dbl> & <chr> & <dbl>\\\\\n",
       "\\hline\n",
       "\t1 & 0.9999992 & 0.83452593 & auc\\_seg2\\_glm\\_fb & 0.9999992\\\\\n",
       "\t2 & 0.9999971 & 0.77880345 & auc\\_seg2\\_glm\\_fb & 0.9999971\\\\\n",
       "\t3 & 0.0090000 & 0.04441114 & auc\\_seg2\\_glm\\_fb & 0.0090000\\\\\n",
       "\t4 & 0.0090000 & 0.07984816 & auc\\_seg2\\_glm\\_fb & 0.0090000\\\\\n",
       "\t5 & 0.0090000 & 0.04181175 & auc\\_seg2\\_glm\\_fb & 0.0090000\\\\\n",
       "\t6 & 0.0090000 & 0.04450078 & auc\\_seg2\\_glm\\_fb & 0.0090000\\\\\n",
       "\\end{tabular}\n"
      ],
      "text/markdown": [
       "\n",
       "A data.frame: 6 × 4\n",
       "\n",
       "| <!--/--> | pred_df_seg2_glm_fb &lt;dbl&gt; | pred_df_agg_rf_fb &lt;dbl&gt; | auc_win_01 &lt;chr&gt; | auc_win_pred &lt;dbl&gt; |\n",
       "|---|---|---|---|---|\n",
       "| 1 | 0.9999992 | 0.83452593 | auc_seg2_glm_fb | 0.9999992 |\n",
       "| 2 | 0.9999971 | 0.77880345 | auc_seg2_glm_fb | 0.9999971 |\n",
       "| 3 | 0.0090000 | 0.04441114 | auc_seg2_glm_fb | 0.0090000 |\n",
       "| 4 | 0.0090000 | 0.07984816 | auc_seg2_glm_fb | 0.0090000 |\n",
       "| 5 | 0.0090000 | 0.04181175 | auc_seg2_glm_fb | 0.0090000 |\n",
       "| 6 | 0.0090000 | 0.04450078 | auc_seg2_glm_fb | 0.0090000 |\n",
       "\n"
      ],
      "text/plain": [
       "  pred_df_seg2_glm_fb pred_df_agg_rf_fb auc_win_01      auc_win_pred\n",
       "1 0.9999992           0.83452593        auc_seg2_glm_fb 0.9999992   \n",
       "2 0.9999971           0.77880345        auc_seg2_glm_fb 0.9999971   \n",
       "3 0.0090000           0.04441114        auc_seg2_glm_fb 0.0090000   \n",
       "4 0.0090000           0.07984816        auc_seg2_glm_fb 0.0090000   \n",
       "5 0.0090000           0.04181175        auc_seg2_glm_fb 0.0090000   \n",
       "6 0.0090000           0.04450078        auc_seg2_glm_fb 0.0090000   "
      ]
     },
     "metadata": {},
     "output_type": "display_data"
    }
   ],
   "source": [
    "expiry_test_predictions_assign$auc_win_pred <- \n",
    "    (expiry_test_predictions_assign$auc_win_01=='auc_seg2_glm_fb')*expiry_test_predictions_assign$pred_df_seg2_glm_fb+\n",
    "    (expiry_test_predictions_assign$auc_win_01=='auc_agg_rf_fb')*expiry_test_predictions_assign$pred_df_agg_rf_fb\n",
    "\n",
    "head(expiry_test_predictions_assign %>% select(pred_df_seg2_glm_fb,pred_df_agg_rf_fb,auc_win_01,auc_win_pred))"
   ]
  },
  {
   "cell_type": "code",
   "execution_count": 352,
   "metadata": {},
   "outputs": [],
   "source": [
    "\n",
    "lift_list <- list()\n",
    "auc_list <- list()\n",
    "\n",
    "fallback_lift <- chart_lift(pred_df=expiry_test_predictions_assign,\n",
    "                        dep_var = \"renewal_status\",\n",
    "                        pred_var = \"auc_win_pred\") \n",
    "\n",
    "lift_list[[\"auc_win_pred\"]] <- fallback_lift\n",
    "auc_list[[\"auc_win_pred\"]] <- calc_auc(lift_df=fallback_lift)\n",
    "\n",
    "models <- c('pred_df_seg2_glm_fb','pred_df_agg_rf_fb')\n",
    "\n",
    "\n",
    "for (model in models){\n",
    "    model_lift <- chart_lift(pred_df=expiry_test_predictions_assign,\n",
    "                        dep_var = \"renewal_status\",\n",
    "                        pred_var = model) \n",
    "    \n",
    "    fallback_lift <- merge(fallback_lift, model_lift, by=c(\"P\"),all= TRUE, \n",
    "                           suffixes = c(\"\",\n",
    "                                        paste(\"_\",gsub(\"pred_df_\", \"\", model)) ))\n",
    "    \n",
    "    lift_list[[model]] <- model_lift\n",
    "    auc_list[[model]] <- calc_auc(lift_df=model_lift)\n",
    "}\n",
    "\n",
    "lift_df <- fallback_lift"
   ]
  },
  {
   "cell_type": "code",
   "execution_count": 353,
   "metadata": {},
   "outputs": [
    {
     "data": {
      "text/html": [
       "3"
      ],
      "text/latex": [
       "3"
      ],
      "text/markdown": [
       "3"
      ],
      "text/plain": [
       "[1] 3"
      ]
     },
     "metadata": {},
     "output_type": "display_data"
    },
    {
     "data": {
      "text/html": [
       "<style>\n",
       ".list-inline {list-style: none; margin:0; padding: 0}\n",
       ".list-inline>li {display: inline-block}\n",
       ".list-inline>li:not(:last-child)::after {content: \"\\00b7\"; padding: 0 .5ex}\n",
       "</style>\n",
       "<ol class=list-inline><li>'auc_win_pred'</li><li>'pred_df_seg2_glm_fb'</li><li>'pred_df_agg_rf_fb'</li></ol>\n"
      ],
      "text/latex": [
       "\\begin{enumerate*}\n",
       "\\item 'auc\\_win\\_pred'\n",
       "\\item 'pred\\_df\\_seg2\\_glm\\_fb'\n",
       "\\item 'pred\\_df\\_agg\\_rf\\_fb'\n",
       "\\end{enumerate*}\n"
      ],
      "text/markdown": [
       "1. 'auc_win_pred'\n",
       "2. 'pred_df_seg2_glm_fb'\n",
       "3. 'pred_df_agg_rf_fb'\n",
       "\n",
       "\n"
      ],
      "text/plain": [
       "[1] \"auc_win_pred\"        \"pred_df_seg2_glm_fb\" \"pred_df_agg_rf_fb\"  "
      ]
     },
     "metadata": {},
     "output_type": "display_data"
    },
    {
     "data": {
      "text/html": [
       "<table>\n",
       "<caption>A matrix: 2 × 3 of type int</caption>\n",
       "<thead>\n",
       "\t<tr><th scope=col>auc_win_pred</th><th scope=col>pred_df_seg2_glm_fb</th><th scope=col>pred_df_agg_rf_fb</th></tr>\n",
       "</thead>\n",
       "<tbody>\n",
       "\t<tr><td>10</td><td>10</td><td>10</td></tr>\n",
       "\t<tr><td> 4</td><td> 4</td><td> 4</td></tr>\n",
       "</tbody>\n",
       "</table>\n"
      ],
      "text/latex": [
       "A matrix: 2 × 3 of type int\n",
       "\\begin{tabular}{lll}\n",
       " auc\\_win\\_pred & pred\\_df\\_seg2\\_glm\\_fb & pred\\_df\\_agg\\_rf\\_fb\\\\\n",
       "\\hline\n",
       "\t 10 & 10 & 10\\\\\n",
       "\t  4 &  4 &  4\\\\\n",
       "\\end{tabular}\n"
      ],
      "text/markdown": [
       "\n",
       "A matrix: 2 × 3 of type int\n",
       "\n",
       "| auc_win_pred | pred_df_seg2_glm_fb | pred_df_agg_rf_fb |\n",
       "|---|---|---|\n",
       "| 10 | 10 | 10 |\n",
       "|  4 |  4 |  4 |\n",
       "\n"
      ],
      "text/plain": [
       "     auc_win_pred pred_df_seg2_glm_fb pred_df_agg_rf_fb\n",
       "[1,] 10           10                  10               \n",
       "[2,]  4            4                   4               "
      ]
     },
     "metadata": {},
     "output_type": "display_data"
    },
    {
     "data": {
      "text/html": [
       "<strong>$auc_win_pred</strong> = <table>\n",
       "<caption>A data.frame: 10 × 4</caption>\n",
       "<thead>\n",
       "\t<tr><th scope=col>P</th><th scope=col>actu_renwd2</th><th scope=col>gain</th><th scope=col>lift</th></tr>\n",
       "\t<tr><th scope=col>&lt;dbl&gt;</th><th scope=col>&lt;int&gt;</th><th scope=col>&lt;dbl&gt;</th><th scope=col>&lt;dbl&gt;</th></tr>\n",
       "</thead>\n",
       "<tbody>\n",
       "\t<tr><td>0.1</td><td>2785</td><td>0.3853071</td><td>3.853071</td></tr>\n",
       "\t<tr><td>0.2</td><td>4422</td><td>0.6117875</td><td>3.058937</td></tr>\n",
       "\t<tr><td>0.3</td><td>5354</td><td>0.7407305</td><td>2.469102</td></tr>\n",
       "\t<tr><td>0.4</td><td>6297</td><td>0.8711954</td><td>2.177988</td></tr>\n",
       "\t<tr><td>0.5</td><td>6805</td><td>0.9414776</td><td>1.882955</td></tr>\n",
       "\t<tr><td>0.6</td><td>7040</td><td>0.9739900</td><td>1.623317</td></tr>\n",
       "\t<tr><td>0.7</td><td>7133</td><td>0.9868567</td><td>1.409795</td></tr>\n",
       "\t<tr><td>0.8</td><td>7158</td><td>0.9903154</td><td>1.237894</td></tr>\n",
       "\t<tr><td>0.9</td><td>7166</td><td>0.9914222</td><td>1.101580</td></tr>\n",
       "\t<tr><td>1.0</td><td>7228</td><td>1.0000000</td><td>1.000000</td></tr>\n",
       "</tbody>\n",
       "</table>\n"
      ],
      "text/latex": [
       "\\textbf{\\$auc\\_win\\_pred} = A data.frame: 10 × 4\n",
       "\\begin{tabular}{llll}\n",
       " P & actu\\_renwd2 & gain & lift\\\\\n",
       " <dbl> & <int> & <dbl> & <dbl>\\\\\n",
       "\\hline\n",
       "\t 0.1 & 2785 & 0.3853071 & 3.853071\\\\\n",
       "\t 0.2 & 4422 & 0.6117875 & 3.058937\\\\\n",
       "\t 0.3 & 5354 & 0.7407305 & 2.469102\\\\\n",
       "\t 0.4 & 6297 & 0.8711954 & 2.177988\\\\\n",
       "\t 0.5 & 6805 & 0.9414776 & 1.882955\\\\\n",
       "\t 0.6 & 7040 & 0.9739900 & 1.623317\\\\\n",
       "\t 0.7 & 7133 & 0.9868567 & 1.409795\\\\\n",
       "\t 0.8 & 7158 & 0.9903154 & 1.237894\\\\\n",
       "\t 0.9 & 7166 & 0.9914222 & 1.101580\\\\\n",
       "\t 1.0 & 7228 & 1.0000000 & 1.000000\\\\\n",
       "\\end{tabular}\n"
      ],
      "text/markdown": [
       "**$auc_win_pred** = \n",
       "A data.frame: 10 × 4\n",
       "\n",
       "| P &lt;dbl&gt; | actu_renwd2 &lt;int&gt; | gain &lt;dbl&gt; | lift &lt;dbl&gt; |\n",
       "|---|---|---|---|\n",
       "| 0.1 | 2785 | 0.3853071 | 3.853071 |\n",
       "| 0.2 | 4422 | 0.6117875 | 3.058937 |\n",
       "| 0.3 | 5354 | 0.7407305 | 2.469102 |\n",
       "| 0.4 | 6297 | 0.8711954 | 2.177988 |\n",
       "| 0.5 | 6805 | 0.9414776 | 1.882955 |\n",
       "| 0.6 | 7040 | 0.9739900 | 1.623317 |\n",
       "| 0.7 | 7133 | 0.9868567 | 1.409795 |\n",
       "| 0.8 | 7158 | 0.9903154 | 1.237894 |\n",
       "| 0.9 | 7166 | 0.9914222 | 1.101580 |\n",
       "| 1.0 | 7228 | 1.0000000 | 1.000000 |\n",
       "\n"
      ],
      "text/plain": [
       "$auc_win_pred\n",
       "     P actu_renwd2      gain     lift\n",
       "1  0.1        2785 0.3853071 3.853071\n",
       "2  0.2        4422 0.6117875 3.058937\n",
       "3  0.3        5354 0.7407305 2.469102\n",
       "4  0.4        6297 0.8711954 2.177988\n",
       "5  0.5        6805 0.9414776 1.882955\n",
       "6  0.6        7040 0.9739900 1.623317\n",
       "7  0.7        7133 0.9868567 1.409795\n",
       "8  0.8        7158 0.9903154 1.237894\n",
       "9  0.9        7166 0.9914222 1.101580\n",
       "10 1.0        7228 1.0000000 1.000000\n"
      ]
     },
     "metadata": {},
     "output_type": "display_data"
    }
   ],
   "source": [
    "length(lift_list)\n",
    "names(lift_list)\n",
    "sapply(lift_list, dim)\n",
    "lift_list[\"auc_win_pred\"]"
   ]
  },
  {
   "cell_type": "code",
   "execution_count": 354,
   "metadata": {},
   "outputs": [
    {
     "data": {
      "text/plain": [
       "\n",
       "   Renewed Not Renewd \n",
       " 0.1194494  0.8805506 "
      ]
     },
     "metadata": {},
     "output_type": "display_data"
    }
   ],
   "source": [
    "prop.table(table(expiry_test_predictions_assign$renewal_status))"
   ]
  },
  {
   "cell_type": "code",
   "execution_count": 355,
   "metadata": {},
   "outputs": [],
   "source": [
    "plot_multigains <- function (lift_df_list=list(seg_glm = lift_df, \n",
    "                                               ben_dtr = lift_df_2),\n",
    "                             auc_list = list(seg_glm = auc, \n",
    "                                             ben_dtr=auc_2),\n",
    "                             prop_positive = 0.1194494) {\n",
    "  \n",
    "  optimal_df <- data.frame( \"P\"=c(0,prop_positive,1.0),\n",
    "                            \"actu_renwd2\"=c(NA,NA,NA),\n",
    "                            \"gain\"=c(0,1.0,1.0),\n",
    "                            \"lift\"=c(NA,NA,NA))\n",
    "  \n",
    "  lift_df_list <- lapply(lift_df_list, function(df) {\n",
    "    df <- df %>%\n",
    "      add_row(P = 0, gain =0) %>%\n",
    "      arrange(P)\n",
    "  })\n",
    "\n",
    "  auc_lift_list = paste(lapply(auc_list, round, 3),sapply(lift_df_list, function(x) round(x[2,\"lift\"],2)), sep=\", \")\n",
    "  \n",
    "  auc_map = paste(names(lift_df_list),auc_lift_list, sep=\" = \")[1:length(lift_df_list)]\n",
    "  \n",
    "  \n",
    "  gains_plot <- ggplot(NULL, aes(P,  gain)) +\n",
    "    geom_line(data = lift_df_list[[1]] %>% slice(1, n())) +\n",
    "    \n",
    "    list(geom_line(data=optimal_df), geom_point(data=optimal_df)) +\n",
    "    \n",
    "    scale_y_continuous(breaks = seq(0, 1, by = .1), limits = c(0,1)) +\n",
    "    scale_x_continuous(breaks = seq(0, 1, by = .1)) +\n",
    "    labs(title = \"Cumulative Gains Plot\",\n",
    "         y = \"Cumulative Gain\",\n",
    "         x = \"Percentile\")+\n",
    "    theme(text = element_text(size=20))\n",
    "  \n",
    "  for(i in seq(length(lift_df_list))){\n",
    "    name = names(lift_df_list)[[i]]\n",
    "    df = lift_df_list[[i]]\n",
    "    auc = auc_list[[i]]\n",
    "    gains_plot <- gains_plot + list(geom_line(data=df), \n",
    "                                    geom_point(data=df))+ \n",
    "      annotate(\"text\", x = .4, y = .9-i*.075, hjust = 0, label = auc_map[[i]], size = 5)\n",
    "  }\n",
    "  \n",
    "  \n",
    "  return(gains_plot)\n",
    "}\n"
   ]
  },
  {
   "cell_type": "code",
   "execution_count": 356,
   "metadata": {},
   "outputs": [
    {
     "data": {
      "image/png": "[encoded data removed]",
      "text/plain": [
       "plot without title"
      ]
     },
     "metadata": {
      "image/png": {
       "height": 420,
       "width": 420
      },
      "text/plain": {
       "height": 420,
       "width": 420
      }
     },
     "output_type": "display_data"
    }
   ],
   "source": [
    "plot_multigains(            lift_df_list=lift_list,\n",
    "                             auc_list = auc_list,\n",
    "                             prop_positive = 0.1194494) "
   ]
  },
  {
   "cell_type": "code",
   "execution_count": 358,
   "metadata": {},
   "outputs": [
    {
     "data": {
      "text/html": [
       "<style>\n",
       ".list-inline {list-style: none; margin:0; padding: 0}\n",
       ".list-inline>li {display: inline-block}\n",
       ".list-inline>li:not(:last-child)::after {content: \"\\00b7\"; padding: 0 .5ex}\n",
       "</style>\n",
       "<ol class=list-inline><li>60511</li><li>64</li></ol>\n"
      ],
      "text/latex": [
       "\\begin{enumerate*}\n",
       "\\item 60511\n",
       "\\item 64\n",
       "\\end{enumerate*}\n"
      ],
      "text/markdown": [
       "1. 60511\n",
       "2. 64\n",
       "\n",
       "\n"
      ],
      "text/plain": [
       "[1] 60511    64"
      ]
     },
     "metadata": {},
     "output_type": "display_data"
    }
   ],
   "source": [
    "dim(expiry_test_predictions_assign)"
   ]
  },
  {
   "cell_type": "code",
   "execution_count": 359,
   "metadata": {},
   "outputs": [
    {
     "data": {
      "text/html": [
       "<table>\n",
       "<caption>A data.frame: 10 × 10</caption>\n",
       "<thead>\n",
       "\t<tr><th scope=col>P</th><th scope=col>actu_renwd2</th><th scope=col>gain</th><th scope=col>lift</th><th scope=col>actu_renwd2_ seg2_glm_fb</th><th scope=col>gain_ seg2_glm_fb</th><th scope=col>lift_ seg2_glm_fb</th><th scope=col>actu_renwd2_ agg_rf_fb</th><th scope=col>gain_ agg_rf_fb</th><th scope=col>lift_ agg_rf_fb</th></tr>\n",
       "\t<tr><th scope=col>&lt;dbl&gt;</th><th scope=col>&lt;int&gt;</th><th scope=col>&lt;dbl&gt;</th><th scope=col>&lt;dbl&gt;</th><th scope=col>&lt;int&gt;</th><th scope=col>&lt;dbl&gt;</th><th scope=col>&lt;dbl&gt;</th><th scope=col>&lt;int&gt;</th><th scope=col>&lt;dbl&gt;</th><th scope=col>&lt;dbl&gt;</th></tr>\n",
       "</thead>\n",
       "<tbody>\n",
       "\t<tr><td>0.1</td><td>2785</td><td>0.3853071</td><td>3.853071</td><td>2816</td><td>0.3895960</td><td>3.895960</td><td>2782</td><td>0.3848921</td><td>3.848921</td></tr>\n",
       "\t<tr><td>0.2</td><td>4422</td><td>0.6117875</td><td>3.058937</td><td>4352</td><td>0.6021029</td><td>3.010515</td><td>4443</td><td>0.6146929</td><td>3.073464</td></tr>\n",
       "\t<tr><td>0.3</td><td>5354</td><td>0.7407305</td><td>2.469102</td><td>5451</td><td>0.7541505</td><td>2.513835</td><td>5379</td><td>0.7441893</td><td>2.480631</td></tr>\n",
       "\t<tr><td>0.4</td><td>6297</td><td>0.8711954</td><td>2.177988</td><td>6304</td><td>0.8721638</td><td>2.180410</td><td>6268</td><td>0.8671832</td><td>2.167958</td></tr>\n",
       "\t<tr><td>0.5</td><td>6805</td><td>0.9414776</td><td>1.882955</td><td>6787</td><td>0.9389873</td><td>1.877975</td><td>6838</td><td>0.9460432</td><td>1.892086</td></tr>\n",
       "\t<tr><td>0.6</td><td>7040</td><td>0.9739900</td><td>1.623317</td><td>7019</td><td>0.9710847</td><td>1.618474</td><td>7109</td><td>0.9835362</td><td>1.639227</td></tr>\n",
       "\t<tr><td>0.7</td><td>7133</td><td>0.9868567</td><td>1.409795</td><td>7126</td><td>0.9858882</td><td>1.408412</td><td>7179</td><td>0.9932208</td><td>1.418887</td></tr>\n",
       "\t<tr><td>0.8</td><td>7158</td><td>0.9903154</td><td>1.237894</td><td>7152</td><td>0.9894853</td><td>1.236857</td><td>7215</td><td>0.9982014</td><td>1.247752</td></tr>\n",
       "\t<tr><td>0.9</td><td>7166</td><td>0.9914222</td><td>1.101580</td><td>7158</td><td>0.9903154</td><td>1.100350</td><td>7226</td><td>0.9997233</td><td>1.110804</td></tr>\n",
       "\t<tr><td>1.0</td><td>7228</td><td>1.0000000</td><td>1.000000</td><td>7228</td><td>1.0000000</td><td>1.000000</td><td>7228</td><td>1.0000000</td><td>1.000000</td></tr>\n",
       "</tbody>\n",
       "</table>\n"
      ],
      "text/latex": [
       "A data.frame: 10 × 10\n",
       "\\begin{tabular}{llllllllll}\n",
       " P & actu\\_renwd2 & gain & lift & actu\\_renwd2\\_ seg2\\_glm\\_fb & gain\\_ seg2\\_glm\\_fb & lift\\_ seg2\\_glm\\_fb & actu\\_renwd2\\_ agg\\_rf\\_fb & gain\\_ agg\\_rf\\_fb & lift\\_ agg\\_rf\\_fb\\\\\n",
       " <dbl> & <int> & <dbl> & <dbl> & <int> & <dbl> & <dbl> & <int> & <dbl> & <dbl>\\\\\n",
       "\\hline\n",
       "\t 0.1 & 2785 & 0.3853071 & 3.853071 & 2816 & 0.3895960 & 3.895960 & 2782 & 0.3848921 & 3.848921\\\\\n",
       "\t 0.2 & 4422 & 0.6117875 & 3.058937 & 4352 & 0.6021029 & 3.010515 & 4443 & 0.6146929 & 3.073464\\\\\n",
       "\t 0.3 & 5354 & 0.7407305 & 2.469102 & 5451 & 0.7541505 & 2.513835 & 5379 & 0.7441893 & 2.480631\\\\\n",
       "\t 0.4 & 6297 & 0.8711954 & 2.177988 & 6304 & 0.8721638 & 2.180410 & 6268 & 0.8671832 & 2.167958\\\\\n",
       "\t 0.5 & 6805 & 0.9414776 & 1.882955 & 6787 & 0.9389873 & 1.877975 & 6838 & 0.9460432 & 1.892086\\\\\n",
       "\t 0.6 & 7040 & 0.9739900 & 1.623317 & 7019 & 0.9710847 & 1.618474 & 7109 & 0.9835362 & 1.639227\\\\\n",
       "\t 0.7 & 7133 & 0.9868567 & 1.409795 & 7126 & 0.9858882 & 1.408412 & 7179 & 0.9932208 & 1.418887\\\\\n",
       "\t 0.8 & 7158 & 0.9903154 & 1.237894 & 7152 & 0.9894853 & 1.236857 & 7215 & 0.9982014 & 1.247752\\\\\n",
       "\t 0.9 & 7166 & 0.9914222 & 1.101580 & 7158 & 0.9903154 & 1.100350 & 7226 & 0.9997233 & 1.110804\\\\\n",
       "\t 1.0 & 7228 & 1.0000000 & 1.000000 & 7228 & 1.0000000 & 1.000000 & 7228 & 1.0000000 & 1.000000\\\\\n",
       "\\end{tabular}\n"
      ],
      "text/markdown": [
       "\n",
       "A data.frame: 10 × 10\n",
       "\n",
       "| P &lt;dbl&gt; | actu_renwd2 &lt;int&gt; | gain &lt;dbl&gt; | lift &lt;dbl&gt; | actu_renwd2_ seg2_glm_fb &lt;int&gt; | gain_ seg2_glm_fb &lt;dbl&gt; | lift_ seg2_glm_fb &lt;dbl&gt; | actu_renwd2_ agg_rf_fb &lt;int&gt; | gain_ agg_rf_fb &lt;dbl&gt; | lift_ agg_rf_fb &lt;dbl&gt; |\n",
       "|---|---|---|---|---|---|---|---|---|---|\n",
       "| 0.1 | 2785 | 0.3853071 | 3.853071 | 2816 | 0.3895960 | 3.895960 | 2782 | 0.3848921 | 3.848921 |\n",
       "| 0.2 | 4422 | 0.6117875 | 3.058937 | 4352 | 0.6021029 | 3.010515 | 4443 | 0.6146929 | 3.073464 |\n",
       "| 0.3 | 5354 | 0.7407305 | 2.469102 | 5451 | 0.7541505 | 2.513835 | 5379 | 0.7441893 | 2.480631 |\n",
       "| 0.4 | 6297 | 0.8711954 | 2.177988 | 6304 | 0.8721638 | 2.180410 | 6268 | 0.8671832 | 2.167958 |\n",
       "| 0.5 | 6805 | 0.9414776 | 1.882955 | 6787 | 0.9389873 | 1.877975 | 6838 | 0.9460432 | 1.892086 |\n",
       "| 0.6 | 7040 | 0.9739900 | 1.623317 | 7019 | 0.9710847 | 1.618474 | 7109 | 0.9835362 | 1.639227 |\n",
       "| 0.7 | 7133 | 0.9868567 | 1.409795 | 7126 | 0.9858882 | 1.408412 | 7179 | 0.9932208 | 1.418887 |\n",
       "| 0.8 | 7158 | 0.9903154 | 1.237894 | 7152 | 0.9894853 | 1.236857 | 7215 | 0.9982014 | 1.247752 |\n",
       "| 0.9 | 7166 | 0.9914222 | 1.101580 | 7158 | 0.9903154 | 1.100350 | 7226 | 0.9997233 | 1.110804 |\n",
       "| 1.0 | 7228 | 1.0000000 | 1.000000 | 7228 | 1.0000000 | 1.000000 | 7228 | 1.0000000 | 1.000000 |\n",
       "\n"
      ],
      "text/plain": [
       "   P   actu_renwd2 gain      lift     actu_renwd2_ seg2_glm_fb\n",
       "1  0.1 2785        0.3853071 3.853071 2816                    \n",
       "2  0.2 4422        0.6117875 3.058937 4352                    \n",
       "3  0.3 5354        0.7407305 2.469102 5451                    \n",
       "4  0.4 6297        0.8711954 2.177988 6304                    \n",
       "5  0.5 6805        0.9414776 1.882955 6787                    \n",
       "6  0.6 7040        0.9739900 1.623317 7019                    \n",
       "7  0.7 7133        0.9868567 1.409795 7126                    \n",
       "8  0.8 7158        0.9903154 1.237894 7152                    \n",
       "9  0.9 7166        0.9914222 1.101580 7158                    \n",
       "10 1.0 7228        1.0000000 1.000000 7228                    \n",
       "   gain_ seg2_glm_fb lift_ seg2_glm_fb actu_renwd2_ agg_rf_fb gain_ agg_rf_fb\n",
       "1  0.3895960         3.895960          2782                   0.3848921      \n",
       "2  0.6021029         3.010515          4443                   0.6146929      \n",
       "3  0.7541505         2.513835          5379                   0.7441893      \n",
       "4  0.8721638         2.180410          6268                   0.8671832      \n",
       "5  0.9389873         1.877975          6838                   0.9460432      \n",
       "6  0.9710847         1.618474          7109                   0.9835362      \n",
       "7  0.9858882         1.408412          7179                   0.9932208      \n",
       "8  0.9894853         1.236857          7215                   0.9982014      \n",
       "9  0.9903154         1.100350          7226                   0.9997233      \n",
       "10 1.0000000         1.000000          7228                   1.0000000      \n",
       "   lift_ agg_rf_fb\n",
       "1  3.848921       \n",
       "2  3.073464       \n",
       "3  2.480631       \n",
       "4  2.167958       \n",
       "5  1.892086       \n",
       "6  1.639227       \n",
       "7  1.418887       \n",
       "8  1.247752       \n",
       "9  1.110804       \n",
       "10 1.000000       "
      ]
     },
     "metadata": {},
     "output_type": "display_data"
    }
   ],
   "source": [
    "lift_df"
   ]
  },
  {
   "cell_type": "code",
   "execution_count": 361,
   "metadata": {},
   "outputs": [
    {
     "data": {
      "text/html": [
       "<table>\n",
       "<caption>A data.frame: 1 × 3</caption>\n",
       "<thead>\n",
       "\t<tr><th scope=col>auc_win_pred</th><th scope=col>pred_df_seg2_glm_fb</th><th scope=col>pred_df_agg_rf_fb</th></tr>\n",
       "\t<tr><th scope=col>&lt;dbl&gt;</th><th scope=col>&lt;dbl&gt;</th><th scope=col>&lt;dbl&gt;</th></tr>\n",
       "</thead>\n",
       "<tbody>\n",
       "\t<tr><td>0.7993082</td><td>0.7993774</td><td>0.8031682</td></tr>\n",
       "</tbody>\n",
       "</table>\n"
      ],
      "text/latex": [
       "A data.frame: 1 × 3\n",
       "\\begin{tabular}{lll}\n",
       " auc\\_win\\_pred & pred\\_df\\_seg2\\_glm\\_fb & pred\\_df\\_agg\\_rf\\_fb\\\\\n",
       " <dbl> & <dbl> & <dbl>\\\\\n",
       "\\hline\n",
       "\t 0.7993082 & 0.7993774 & 0.8031682\\\\\n",
       "\\end{tabular}\n"
      ],
      "text/markdown": [
       "\n",
       "A data.frame: 1 × 3\n",
       "\n",
       "| auc_win_pred &lt;dbl&gt; | pred_df_seg2_glm_fb &lt;dbl&gt; | pred_df_agg_rf_fb &lt;dbl&gt; |\n",
       "|---|---|---|\n",
       "| 0.7993082 | 0.7993774 | 0.8031682 |\n",
       "\n"
      ],
      "text/plain": [
       "  auc_win_pred pred_df_seg2_glm_fb pred_df_agg_rf_fb\n",
       "1 0.7993082    0.7993774           0.8031682        "
      ]
     },
     "metadata": {},
     "output_type": "display_data"
    }
   ],
   "source": [
    "as.data.frame(auc_list)"
   ]
  },
  {
   "cell_type": "code",
   "execution_count": null,
   "metadata": {},
   "outputs": [],
   "source": []
  }
 ],
 "metadata": {
  "environment": {
   "name": "r-cpu.3-6.m48",
   "type": "gcloud",
   "uri": "gcr.io/deeplearning-platform-release/r-cpu.3-6:m48"
  },
  "kernelspec": {
   "display_name": "R",
   "language": "R",
   "name": "ir"
  },
  "language_info": {
   "codemirror_mode": "r",
   "file_extension": ".r",
   "mimetype": "text/x-r-source",
   "name": "R",
   "pygments_lexer": "r",
   "version": "3.6.3"
  }
 },
 "nbformat": 4,
 "nbformat_minor": 4
}
