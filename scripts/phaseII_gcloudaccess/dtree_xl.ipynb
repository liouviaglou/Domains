{
 "cells": [
  {
   "cell_type": "code",
   "execution_count": 28,
   "metadata": {},
   "outputs": [
    {
     "name": "stderr",
     "output_type": "stream",
     "text": [
      "Installing packages into ‘/home/jupyter/.R/library’\n",
      "(as ‘lib’ is unspecified)\n",
      "\n"
     ]
    }
   ],
   "source": [
    "# install.packages(c(\"partykit\",\"tictoc\",\"caret\",\"e1071\"))"
   ]
  },
  {
   "cell_type": "markdown",
   "metadata": {},
   "source": [
    "### housekeeping"
   ]
  },
  {
   "cell_type": "code",
   "execution_count": 29,
   "metadata": {},
   "outputs": [
    {
     "data": {
      "text/html": [
       "'/home/jupyter/Untitled Folder/Domains_202003/scripts/phaseII_gcloudaccess'"
      ],
      "text/latex": [
       "'/home/jupyter/Untitled Folder/Domains\\_202003/scripts/phaseII\\_gcloudaccess'"
      ],
      "text/markdown": [
       "'/home/jupyter/Untitled Folder/Domains_202003/scripts/phaseII_gcloudaccess'"
      ],
      "text/plain": [
       "[1] \"/home/jupyter/Untitled Folder/Domains_202003/scripts/phaseII_gcloudaccess\""
      ]
     },
     "metadata": {},
     "output_type": "display_data"
    }
   ],
   "source": [
    "library(dplyr)\n",
    "library(data.table)\n",
    "library(partykit)\n",
    "library(tictoc)\n",
    "library(caret)\n",
    "library(e1071)\n",
    "\n",
    "getwd()"
   ]
  },
  {
   "cell_type": "code",
   "execution_count": 51,
   "metadata": {},
   "outputs": [],
   "source": [
    "\n",
    "# load functions\n",
    "source('functions_eval.R')\n"
   ]
  },
  {
   "cell_type": "code",
   "execution_count": null,
   "metadata": {},
   "outputs": [],
   "source": []
  },
  {
   "cell_type": "markdown",
   "metadata": {},
   "source": [
    "### load data"
   ]
  },
  {
   "cell_type": "code",
   "execution_count": 8,
   "metadata": {},
   "outputs": [],
   "source": [
    "# Full training data was generated as follows\n",
    "# renewal_training_data_first<-readRDS(\"../../data/input/npv/renewal_training_data_first\")\n",
    "# renewal_training_data$renewal_status<-as.factor(renewal_training_data$renewal_status)\n",
    "# renewal_training_data_first<-renewal_training_data %>%\n",
    "#  dplyr::filter(renewal_type == \"FirstTime\")\n",
    "# renewal_training_data_first<-mass_prep_data(renewal_training_data_first)\n",
    "# tld_registrar_list<-names(renewal_training_data_first)\n",
    "# prediction_list<-pblapply(tld_registrar_list, function(i) list_predict_first_renewal(i, # renewal_training_data_first, first_renewal_model))\n",
    "# prediction_list<-prediction_list[!is.na(prediction_list)]\n",
    "# prediction_op<-rbindlist(prediction_list)\n",
    "# train_data<-rbindlist(renewal_training_data_first)\n",
    "# train_data$first_renewal_prediction<-prediction_op$probabilities[match(train_data$domain_id,prediction_op$domain_id)]\n",
    "# saveRDS(train_data, \"../../data/output/npv/first_renewal_preds\")\n",
    "\n",
    "train_data <- readRDS(\"../../data/first_renewal_preds\")\n",
    "\n",
    "# Train & Test Split were generated as follows, do not rerun for consistency\n",
    "# train_index <- sample(1:nrow(train_data), 0.8 * nrow(train_data))\n",
    "# test_index <- setdiff(1:nrow(train_data), train_index)\n",
    "# train <- train_data[train_index,]\n",
    "# test <- train_data[test_index,]\n",
    "\n",
    "train <- readRDS(\"../../data/train\")\n",
    "test <- readRDS(\"../../data/test\")\n",
    "\n",
    "train_df <- rbindlist(train)\n",
    "test_df <- rbindlist(test)"
   ]
  },
  {
   "cell_type": "markdown",
   "metadata": {},
   "source": [
    "### fit decision tree\n",
    "no maximum depth\n",
    "all vars"
   ]
  },
  {
   "cell_type": "markdown",
   "metadata": {},
   "source": [
    "#### prep train_df_f, a subset of train_df"
   ]
  },
  {
   "cell_type": "code",
   "execution_count": 9,
   "metadata": {},
   "outputs": [],
   "source": [
    "df_prep <- function (df){\n",
    "    df_f <- subset(df, select = -c(sld,pattern,domain,sld_type2,tld_registrar_index,\n",
    "                                           renew_reseller,renew_registrar,renewal_type,renewed_count,\n",
    "                                           renew_type,autorenew_type,renew_period,renew_arpt,\n",
    "                                           renew_domain_revenue,status,first_renewal_prediction,\n",
    "                                           domain_id))\n",
    "    \n",
    "    df_f$renew_Y <- format(as.Date(df_f$renew_date, \n",
    "                                     format=\"%Y-%m-%d\"),\"%Y\")\n",
    "    df_f$creation_Y <- format(as.Date(df_f$creation_date, \n",
    "                                            format=\"%Y-%m-%d\"),\"%Y\")\n",
    "    df_f$expiry_Y <- format(as.Date(df_f$expiry_date, \n",
    "                                          format=\"%Y-%m-%d\"),\"%Y\")\n",
    "    df_f$renew_M <- format(as.Date(df_f$renew_date, \n",
    "                                         format=\"%Y-%m-%d\"),\"%m\")\n",
    "    df_f$creation_M <- format(as.Date(df_f$creation_date, \n",
    "                                            format=\"%Y-%m-%d\"),\"%m\")\n",
    "    df_f$expiry_M <- format(as.Date(df_f$expiry_date, \n",
    "                                          format=\"%Y-%m-%d\"),\"%m\")\n",
    "\n",
    "    df_f <- subset(df_f, select = -c(renew_date,\n",
    "                                                 creation_date,\n",
    "                                                 expiry_date))\n",
    "    \n",
    "    df_f <- df_f %>% mutate_if(sapply(df_f, is.character), as.factor)\n",
    "    \n",
    "    return(df_f)\n",
    "}"
   ]
  },
  {
   "cell_type": "code",
   "execution_count": 10,
   "metadata": {},
   "outputs": [
    {
     "name": "stdout",
     "output_type": "stream",
     "text": [
      "train prep: 10.095 sec elapsed\n",
      "text prep: 1.439 sec elapsed\n",
      "total: 11.543 sec elapsed\n"
     ]
    }
   ],
   "source": [
    "tic(\"total\")\n",
    "tic(\"train prep\")\n",
    "train_df_f <- df_prep(train_df)\n",
    "toc()\n",
    "tic(\"text prep\")\n",
    "test_df_f <- df_prep(test_df)\n",
    "toc()\n",
    "toc()"
   ]
  },
  {
   "cell_type": "markdown",
   "metadata": {},
   "source": [
    "### train dtree model"
   ]
  },
  {
   "cell_type": "code",
   "execution_count": 51,
   "metadata": {},
   "outputs": [],
   "source": [
    "# W = ifelse(train_df$renewal_status==\"Renewed\", 4, 3)"
   ]
  },
  {
   "cell_type": "code",
   "execution_count": 51,
   "metadata": {},
   "outputs": [],
   "source": [
    "# model fitting: 2810.551 sec elapsed (46m50s)\n",
    "# model saving: 27.381 sec elapsed\n",
    "\n",
    "# tic(\"total\")\n",
    "\n",
    "# tic(\"model fitting\")\n",
    "# xltree_01 <- ctree(renewal_status ~ . ,\n",
    "#                    data = train_df_f, weights=W)\n",
    "# toc()\n",
    "\n",
    "# tic(\"model saving\")\n",
    "# save(xltree_01, file=\"../../data/output/xltree_01\")\n",
    "# toc()"
   ]
  },
  {
   "cell_type": "code",
   "execution_count": 35,
   "metadata": {},
   "outputs": [
    {
     "name": "stdout",
     "output_type": "stream",
     "text": [
      "model predict: 2891.341 sec elapsed\n",
      "eval saving: 0.05 sec elapsed\n"
     ]
    }
   ],
   "source": [
    "# model predict: 2891.341 sec elapsed\n",
    "# eval saving: 0.05 sec elapsed\n",
    "\n",
    "# tic(\"model plotting\")\n",
    "# png(file = \"../../data/output/xltree_01.png\",\n",
    "#     width = 2000, height = 750)\n",
    "# plot(xltree_01)\n",
    "# dev.off()\n",
    "# toc()\n",
    "\n",
    "# tic(\"model predict\")\n",
    "# txl_predict_01 <- predict(xltree_01, \n",
    "#                           newdata = na.omit(test_df_f),\n",
    "#                           type=\"response\") \n",
    "# toc()\n",
    "\n",
    "# tic(\"eval saving\")\n",
    "# save(txl_predict_01, file=\"../../data/output/txl_predict_01\")\n",
    "# toc()"
   ]
  },
  {
   "cell_type": "markdown",
   "metadata": {},
   "source": [
    "### Eval: confuson matrix, Gains curve, AUC"
   ]
  },
  {
   "cell_type": "code",
   "execution_count": 40,
   "metadata": {},
   "outputs": [],
   "source": [
    "load(\"../../data/output/xltree_01\")\n",
    "load(\"../../data/output/txl_predict_01\")\n",
    "\n",
    "# confusionMatrix(table(txl_predict_01, na.omit(test_df_f)$renewal_status),\n",
    "#                 positive = \"Renewed\")"
   ]
  },
  {
   "cell_type": "code",
   "execution_count": 41,
   "metadata": {},
   "outputs": [],
   "source": [
    "txl_pred_df = data.frame(\"actual\" = na.omit(test_df_f)$renewal_status,\n",
    "          \"predicted\" = txl_predict_01)"
   ]
  },
  {
   "cell_type": "code",
   "execution_count": 45,
   "metadata": {},
   "outputs": [
    {
     "name": "stdout",
     "output_type": "stream",
     "text": [
      "auc: 0.007 sec elapsed\n"
     ]
    }
   ],
   "source": [
    "# lift df: 23.675 sec elapsed\n",
    "# gains plot: 0.046 sec elapsed\n",
    "# auc: 0.007 sec elapsed\n",
    "# tic(\"lift df\")\n",
    "# lift_df_01 <- chart_lift(pred_df = txl_pred_df,\n",
    "#                         dep_var = \"actual\",\n",
    "#                         pred_var = \"predicted\")\n",
    "\n",
    "# toc()\n",
    "# tic(\"gains plot\")\n",
    "# gains_plot_01 <- plot_gains (lift_df_01) \n",
    "\n",
    "# toc()\n",
    "# tic(\"auc\")\n",
    "# auc_01 <- calc_auc(lift_df_01)\n",
    "# toc()"
   ]
  },
  {
   "cell_type": "code",
   "execution_count": 46,
   "metadata": {},
   "outputs": [
    {
     "data": {
      "image/png": "[encoded data removed]",
      "text/plain": [
       "plot without title"
      ]
     },
     "metadata": {
      "image/png": {
       "height": 420,
       "width": 420
      },
      "text/plain": {
       "height": 420,
       "width": 420
      }
     },
     "output_type": "display_data"
    }
   ],
   "source": [
    "gains_plot_01"
   ]
  },
  {
   "cell_type": "code",
   "execution_count": 47,
   "metadata": {},
   "outputs": [
    {
     "data": {
      "text/html": [
       "0.711954009838691"
      ],
      "text/latex": [
       "0.711954009838691"
      ],
      "text/markdown": [
       "0.711954009838691"
      ],
      "text/plain": [
       "[1] 0.711954"
      ]
     },
     "metadata": {},
     "output_type": "display_data"
    }
   ],
   "source": [
    "auc_01"
   ]
  },
  {
   "cell_type": "code",
   "execution_count": 48,
   "metadata": {},
   "outputs": [
    {
     "data": {
      "text/html": [
       "<table>\n",
       "<caption>A data.frame: 10 × 4</caption>\n",
       "<thead>\n",
       "\t<tr><th scope=col>P</th><th scope=col>actu_renwd2</th><th scope=col>gain</th><th scope=col>lift</th></tr>\n",
       "\t<tr><th scope=col>&lt;dbl&gt;</th><th scope=col>&lt;int&gt;</th><th scope=col>&lt;dbl&gt;</th><th scope=col>&lt;dbl&gt;</th></tr>\n",
       "</thead>\n",
       "<tbody>\n",
       "\t<tr><td>0.1</td><td>22574</td><td>0.5165084</td><td>5.165084</td></tr>\n",
       "\t<tr><td>0.2</td><td>24034</td><td>0.5499142</td><td>2.749571</td></tr>\n",
       "\t<tr><td>0.3</td><td>30446</td><td>0.6966251</td><td>2.322084</td></tr>\n",
       "\t<tr><td>0.4</td><td>31771</td><td>0.7269420</td><td>1.817355</td></tr>\n",
       "\t<tr><td>0.5</td><td>32710</td><td>0.7484270</td><td>1.496854</td></tr>\n",
       "\t<tr><td>0.6</td><td>33839</td><td>0.7742592</td><td>1.290432</td></tr>\n",
       "\t<tr><td>0.7</td><td>35275</td><td>0.8071159</td><td>1.153023</td></tr>\n",
       "\t<tr><td>0.8</td><td>37175</td><td>0.8505892</td><td>1.063236</td></tr>\n",
       "\t<tr><td>0.9</td><td>41483</td><td>0.9491591</td><td>1.054621</td></tr>\n",
       "\t<tr><td>1.0</td><td>43705</td><td>1.0000000</td><td>1.000000</td></tr>\n",
       "</tbody>\n",
       "</table>\n"
      ],
      "text/latex": [
       "A data.frame: 10 × 4\n",
       "\\begin{tabular}{llll}\n",
       " P & actu\\_renwd2 & gain & lift\\\\\n",
       " <dbl> & <int> & <dbl> & <dbl>\\\\\n",
       "\\hline\n",
       "\t 0.1 & 22574 & 0.5165084 & 5.165084\\\\\n",
       "\t 0.2 & 24034 & 0.5499142 & 2.749571\\\\\n",
       "\t 0.3 & 30446 & 0.6966251 & 2.322084\\\\\n",
       "\t 0.4 & 31771 & 0.7269420 & 1.817355\\\\\n",
       "\t 0.5 & 32710 & 0.7484270 & 1.496854\\\\\n",
       "\t 0.6 & 33839 & 0.7742592 & 1.290432\\\\\n",
       "\t 0.7 & 35275 & 0.8071159 & 1.153023\\\\\n",
       "\t 0.8 & 37175 & 0.8505892 & 1.063236\\\\\n",
       "\t 0.9 & 41483 & 0.9491591 & 1.054621\\\\\n",
       "\t 1.0 & 43705 & 1.0000000 & 1.000000\\\\\n",
       "\\end{tabular}\n"
      ],
      "text/markdown": [
       "\n",
       "A data.frame: 10 × 4\n",
       "\n",
       "| P &lt;dbl&gt; | actu_renwd2 &lt;int&gt; | gain &lt;dbl&gt; | lift &lt;dbl&gt; |\n",
       "|---|---|---|---|\n",
       "| 0.1 | 22574 | 0.5165084 | 5.165084 |\n",
       "| 0.2 | 24034 | 0.5499142 | 2.749571 |\n",
       "| 0.3 | 30446 | 0.6966251 | 2.322084 |\n",
       "| 0.4 | 31771 | 0.7269420 | 1.817355 |\n",
       "| 0.5 | 32710 | 0.7484270 | 1.496854 |\n",
       "| 0.6 | 33839 | 0.7742592 | 1.290432 |\n",
       "| 0.7 | 35275 | 0.8071159 | 1.153023 |\n",
       "| 0.8 | 37175 | 0.8505892 | 1.063236 |\n",
       "| 0.9 | 41483 | 0.9491591 | 1.054621 |\n",
       "| 1.0 | 43705 | 1.0000000 | 1.000000 |\n",
       "\n"
      ],
      "text/plain": [
       "   P   actu_renwd2 gain      lift    \n",
       "1  0.1 22574       0.5165084 5.165084\n",
       "2  0.2 24034       0.5499142 2.749571\n",
       "3  0.3 30446       0.6966251 2.322084\n",
       "4  0.4 31771       0.7269420 1.817355\n",
       "5  0.5 32710       0.7484270 1.496854\n",
       "6  0.6 33839       0.7742592 1.290432\n",
       "7  0.7 35275       0.8071159 1.153023\n",
       "8  0.8 37175       0.8505892 1.063236\n",
       "9  0.9 41483       0.9491591 1.054621\n",
       "10 1.0 43705       1.0000000 1.000000"
      ]
     },
     "metadata": {},
     "output_type": "display_data"
    }
   ],
   "source": [
    "lift_df_01\n"
   ]
  },
  {
   "cell_type": "code",
   "execution_count": 49,
   "metadata": {},
   "outputs": [],
   "source": [
    "\n",
    "lift_df_bendtr <- readRDS(\"../../data/lift_df_bendtr\")\n",
    "lift_df_segglm <- readRDS(\"../../data/lift_df_segglm\")\n"
   ]
  },
  {
   "cell_type": "code",
   "execution_count": 52,
   "metadata": {},
   "outputs": [
    {
     "data": {
      "image/png": "[encoded data removed]",
      "text/plain": [
       "plot without title"
      ]
     },
     "metadata": {
      "image/png": {
       "height": 420,
       "width": 420
      },
      "text/plain": {
       "height": 420,
       "width": 420
      }
     },
     "output_type": "display_data"
    }
   ],
   "source": [
    "plot_multigains(lift_df_list=list(seg_glm = lift_df_segglm, \n",
    "                                  ben_dtr = lift_df_bendtr,\n",
    "                                  xl_dtr = lift_df_01),\n",
    "                             auc_list = list(seg_glm = calc_auc(lift_df_segglm), \n",
    "                                             ben_dtr= calc_auc(lift_df_bendtr), \n",
    "                                             ben_dtr= calc_auc(lift_df_01)))"
   ]
  },
  {
   "cell_type": "code",
   "execution_count": 53,
   "metadata": {},
   "outputs": [],
   "source": [
    "# pre-pruned"
   ]
  },
  {
   "cell_type": "code",
   "execution_count": null,
   "metadata": {},
   "outputs": [],
   "source": [
    "\n",
    "# model fitting: 2810.551 sec elapsed (46m50s)\n",
    "# model saving: 27.381 sec elapsed\n",
    "\n",
    "\n",
    "W = ifelse(train_df$renewal_status==\"Renewed\", 4, 3)\n",
    "\n",
    "tic(\"model fitting\")\n",
    "xltree_02 <- ctree(renewal_status ~ . ,\n",
    "                   data = train_df_f, \n",
    "                   weights=W,\n",
    "                  control = ctree_control(mincriterion = 0.999))\n",
    "toc()\n",
    "\n",
    "tic(\"model saving\")\n",
    "save(xltree_02, file=\"../../data/output/xltree_02\")\n",
    "toc()"
   ]
  },
  {
   "cell_type": "code",
   "execution_count": null,
   "metadata": {},
   "outputs": [],
   "source": [
    "# model predict: 2891.341 sec elapsed\n",
    "# eval saving: 0.05 sec elapsed\n",
    "\n",
    "tic(\"model predict\")\n",
    "txl_predict_02 <- predict(xltree_02, \n",
    "                          newdata = na.omit(test_df_f),\n",
    "                          type=\"response\") \n",
    "toc()\n",
    "\n",
    "tic(\"eval saving\")\n",
    "save(txl_predict_02, file=\"../../data/output/txl_predict_02\")\n",
    "toc()"
   ]
  },
  {
   "cell_type": "code",
   "execution_count": null,
   "metadata": {},
   "outputs": [],
   "source": [
    "txl_pred_df_2 = data.frame(\"actual\" = na.omit(test_df_f)$renewal_status,\n",
    "                           \"predicted\" = txl_predict_02)"
   ]
  },
  {
   "cell_type": "code",
   "execution_count": null,
   "metadata": {},
   "outputs": [],
   "source": [
    "# lift df: 23.675 sec elapsed\n",
    "# gains plot: 0.046 sec elapsed\n",
    "# auc: 0.007 sec elapsed\n",
    "\n",
    "tic(\"lift df\")\n",
    "lift_df_02 <- chart_lift(pred_df = txl_pred_df_2,\n",
    "                        dep_var = \"actual\",\n",
    "                        pred_var = \"predicted\")\n",
    "\n",
    "toc()\n",
    "tic(\"gains plot\")\n",
    "gains_plot_02 <- plot_gains (lift_df_02) \n",
    "\n",
    "toc()\n",
    "tic(\"auc\")\n",
    "auc_02 <- calc_auc(lift_df_02)\n",
    "toc()"
   ]
  },
  {
   "cell_type": "code",
   "execution_count": null,
   "metadata": {},
   "outputs": [],
   "source": [
    "plot_multigains(lift_df_list=list(seg_glm = lift_df_segglm, \n",
    "                                  ben_dtr = lift_df_bendtr,\n",
    "                                  xl_dtr = lift_df_01,\n",
    "                                  xl_dtr_2 = lift_df_02),\n",
    "                             auc_list = list(seg_glm = calc_auc(lift_df_segglm), \n",
    "                                             ben_dtr= calc_auc(lift_df_bendtr), \n",
    "                                             xl_dtr= calc_auc(lift_df_01), \n",
    "                                             xl_dtr_2= calc_auc(lift_df_02)))"
   ]
  },
  {
   "cell_type": "code",
   "execution_count": null,
   "metadata": {},
   "outputs": [],
   "source": []
  }
 ],
 "metadata": {
  "environment": {
   "name": "r-cpu.3-6.m48",
   "type": "gcloud",
   "uri": "gcr.io/deeplearning-platform-release/r-cpu.3-6:m48"
  },
  "kernelspec": {
   "display_name": "R",
   "language": "R",
   "name": "ir"
  },
  "language_info": {
   "codemirror_mode": "r",
   "file_extension": ".r",
   "mimetype": "text/x-r-source",
   "name": "R",
   "pygments_lexer": "r",
   "version": "3.6.3"
  }
 },
 "nbformat": 4,
 "nbformat_minor": 4
}
