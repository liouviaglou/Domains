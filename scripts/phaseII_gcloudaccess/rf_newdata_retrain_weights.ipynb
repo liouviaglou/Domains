{
 "cells": [
  {
   "cell_type": "markdown",
   "metadata": {},
   "source": [
    "# Retrain RF on new data (experiment w/ weights)"
   ]
  },
  {
   "cell_type": "code",
   "execution_count": 98,
   "metadata": {},
   "outputs": [
    {
     "name": "stderr",
     "output_type": "stream",
     "text": [
      "── \u001b[1mAttaching packages\u001b[22m ─────────────────────────────────────── tidyverse 1.3.0 ──\n",
      "\n",
      "\u001b[32m✔\u001b[39m \u001b[34mtibble \u001b[39m 3.0.1     \u001b[32m✔\u001b[39m \u001b[34mpurrr  \u001b[39m 0.3.4\n",
      "\u001b[32m✔\u001b[39m \u001b[34mreadr  \u001b[39m 1.3.1     \u001b[32m✔\u001b[39m \u001b[34mforcats\u001b[39m 0.5.0\n",
      "\n",
      "── \u001b[1mConflicts\u001b[22m ────────────────────────────────────────── tidyverse_conflicts() ──\n",
      "\u001b[31m✖\u001b[39m \u001b[34mlubridate\u001b[39m::\u001b[32mas.difftime()\u001b[39m masks \u001b[34mbase\u001b[39m::as.difftime()\n",
      "\u001b[31m✖\u001b[39m \u001b[34mdata.table\u001b[39m::\u001b[32mbetween()\u001b[39m    masks \u001b[34mdplyr\u001b[39m::between()\n",
      "\u001b[31m✖\u001b[39m \u001b[34mrandomForest\u001b[39m::\u001b[32mcombine()\u001b[39m  masks \u001b[34mdplyr\u001b[39m::combine()\n",
      "\u001b[31m✖\u001b[39m \u001b[34mlubridate\u001b[39m::\u001b[32mdate()\u001b[39m        masks \u001b[34mbase\u001b[39m::date()\n",
      "\u001b[31m✖\u001b[39m \u001b[34mplotly\u001b[39m::\u001b[32mfilter()\u001b[39m         masks \u001b[34mdplyr\u001b[39m::filter(), \u001b[34mstats\u001b[39m::filter()\n",
      "\u001b[31m✖\u001b[39m \u001b[34mdata.table\u001b[39m::\u001b[32mfirst()\u001b[39m      masks \u001b[34mdplyr\u001b[39m::first()\n",
      "\u001b[31m✖\u001b[39m \u001b[34mlubridate\u001b[39m::\u001b[32mhour()\u001b[39m        masks \u001b[34mdata.table\u001b[39m::hour()\n",
      "\u001b[31m✖\u001b[39m \u001b[34mlubridate\u001b[39m::\u001b[32mintersect()\u001b[39m   masks \u001b[34mbase\u001b[39m::intersect()\n",
      "\u001b[31m✖\u001b[39m \u001b[34mlubridate\u001b[39m::\u001b[32misoweek()\u001b[39m     masks \u001b[34mdata.table\u001b[39m::isoweek()\n",
      "\u001b[31m✖\u001b[39m \u001b[34mdplyr\u001b[39m::\u001b[32mlag()\u001b[39m             masks \u001b[34mstats\u001b[39m::lag()\n",
      "\u001b[31m✖\u001b[39m \u001b[34mdata.table\u001b[39m::\u001b[32mlast()\u001b[39m       masks \u001b[34mdplyr\u001b[39m::last()\n",
      "\u001b[31m✖\u001b[39m \u001b[34mpurrr\u001b[39m::\u001b[32mlift()\u001b[39m            masks \u001b[34mcaret\u001b[39m::lift()\n",
      "\u001b[31m✖\u001b[39m \u001b[34mrandomForest\u001b[39m::\u001b[32mmargin()\u001b[39m   masks \u001b[34mggplot2\u001b[39m::margin()\n",
      "\u001b[31m✖\u001b[39m \u001b[34mlubridate\u001b[39m::\u001b[32mmday()\u001b[39m        masks \u001b[34mdata.table\u001b[39m::mday()\n",
      "\u001b[31m✖\u001b[39m \u001b[34mlubridate\u001b[39m::\u001b[32mminute()\u001b[39m      masks \u001b[34mdata.table\u001b[39m::minute()\n",
      "\u001b[31m✖\u001b[39m \u001b[34mlubridate\u001b[39m::\u001b[32mmonth()\u001b[39m       masks \u001b[34mdata.table\u001b[39m::month()\n",
      "\u001b[31m✖\u001b[39m \u001b[34mlubridate\u001b[39m::\u001b[32mquarter()\u001b[39m     masks \u001b[34mdata.table\u001b[39m::quarter()\n",
      "\u001b[31m✖\u001b[39m \u001b[34mlubridate\u001b[39m::\u001b[32msecond()\u001b[39m      masks \u001b[34mdata.table\u001b[39m::second()\n",
      "\u001b[31m✖\u001b[39m \u001b[34mlubridate\u001b[39m::\u001b[32msetdiff()\u001b[39m     masks \u001b[34mbase\u001b[39m::setdiff()\n",
      "\u001b[31m✖\u001b[39m \u001b[34mpurrr\u001b[39m::\u001b[32mtranspose()\u001b[39m       masks \u001b[34mdata.table\u001b[39m::transpose()\n",
      "\u001b[31m✖\u001b[39m \u001b[34mlubridate\u001b[39m::\u001b[32munion()\u001b[39m       masks \u001b[34mbase\u001b[39m::union()\n",
      "\u001b[31m✖\u001b[39m \u001b[34mlubridate\u001b[39m::\u001b[32mwday()\u001b[39m        masks \u001b[34mdata.table\u001b[39m::wday()\n",
      "\u001b[31m✖\u001b[39m \u001b[34mlubridate\u001b[39m::\u001b[32mweek()\u001b[39m        masks \u001b[34mdata.table\u001b[39m::week()\n",
      "\u001b[31m✖\u001b[39m \u001b[34mlubridate\u001b[39m::\u001b[32myday()\u001b[39m        masks \u001b[34mdata.table\u001b[39m::yday()\n",
      "\u001b[31m✖\u001b[39m \u001b[34mlubridate\u001b[39m::\u001b[32myear()\u001b[39m        masks \u001b[34mdata.table\u001b[39m::year()\n",
      "\n"
     ]
    },
    {
     "data": {
      "text/html": [
       "'/home/jupyter/local/Domains_202003/scripts/phaseII_gcloudaccess'"
      ],
      "text/latex": [
       "'/home/jupyter/local/Domains\\_202003/scripts/phaseII\\_gcloudaccess'"
      ],
      "text/markdown": [
       "'/home/jupyter/local/Domains_202003/scripts/phaseII_gcloudaccess'"
      ],
      "text/plain": [
       "[1] \"/home/jupyter/local/Domains_202003/scripts/phaseII_gcloudaccess\""
      ]
     },
     "metadata": {},
     "output_type": "display_data"
    }
   ],
   "source": [
    "library(dplyr)\n",
    "library(data.table)\n",
    "library(partykit)\n",
    "library(tictoc)\n",
    "library(caret)\n",
    "library(e1071)\n",
    "library(randomForest)\n",
    "library(ranger)\n",
    "\n",
    "#for 3d plotting\n",
    "library(akima)\n",
    "library(plotly)\n",
    "\n",
    "# for prep data\n",
    "library(rPython)\n",
    "library(stringr)\n",
    "library(pbapply)\n",
    "library(stringdist)\n",
    "library(data.table)\n",
    "library(tidyverse)\n",
    "\n",
    "\n",
    "getwd()"
   ]
  },
  {
   "cell_type": "code",
   "execution_count": 156,
   "metadata": {},
   "outputs": [],
   "source": [
    "\n",
    "source('../orig/functions.R')\n",
    "\n",
    "source('../orig/functions_models.R')\n",
    "\n",
    "source('functions_eval.R')\n"
   ]
  },
  {
   "cell_type": "markdown",
   "metadata": {},
   "source": [
    "# Load data"
   ]
  },
  {
   "cell_type": "code",
   "execution_count": null,
   "metadata": {},
   "outputs": [],
   "source": [
    "# system(\"gsutil cp gs://data_outputt/output/expiry_train_prepped_2 /home/jupyter/local/Domains_202003/data/expiry_train_prepped_2\")\n",
    "expiry_train_prepped_2 <- readRDS(\"/home/jupyter/local/Domains_202003/data/expiry_train_prepped_1list\")\n",
    "\n",
    "# system(\"gsutil cp gs://data_outputt/output/expiry_test_prepped_2 /home/jupyter/local/Domains_202003/data/expiry_test_prepped_2\")\n",
    "expiry_test_prepped_2 <- readRDS(\"/home/jupyter/local/Domains_202003/data/expiry_test_prepped_1list\")\n",
    "\n",
    "\n",
    "expiry_train_df <- rbindlist(expiry_train_prepped_2, fill=TRUE)\n",
    "expiry_test_df <- rbindlist(expiry_test_prepped_2, fill=TRUE)"
   ]
  },
  {
   "cell_type": "code",
   "execution_count": 65,
   "metadata": {},
   "outputs": [],
   "source": [
    "# system(\"gsutil cp gs://data_outputt/output/expiry_train_prepped_2 /home/jupyter/local/Domains_202003/data/expiry_train_prepped_2\")\n",
    "expiry_train_prepped_2 <- readRDS(\"/home/jupyter/local/Domains_202003/data/expiry_train_prepped_2\")\n",
    "\n",
    "# system(\"gsutil cp gs://data_outputt/output/expiry_test_prepped_2 /home/jupyter/local/Domains_202003/data/expiry_test_prepped_2\")\n",
    "expiry_test_prepped_2 <- readRDS(\"/home/jupyter/local/Domains_202003/data/expiry_test_prepped_2\")\n",
    "\n",
    "\n",
    "expiry_train_df <- rbindlist(expiry_train_prepped_2, fill=TRUE)\n",
    "expiry_test_df <- rbindlist(expiry_test_prepped_2, fill=TRUE)"
   ]
  },
  {
   "cell_type": "code",
   "execution_count": 66,
   "metadata": {},
   "outputs": [
    {
     "data": {
      "text/html": [
       "<style>\n",
       ".list-inline {list-style: none; margin:0; padding: 0}\n",
       ".list-inline>li {display: inline-block}\n",
       ".list-inline>li:not(:last-child)::after {content: \"\\00b7\"; padding: 0 .5ex}\n",
       "</style>\n",
       "<ol class=list-inline><li>1394366</li><li>39</li></ol>\n"
      ],
      "text/latex": [
       "\\begin{enumerate*}\n",
       "\\item 1394366\n",
       "\\item 39\n",
       "\\end{enumerate*}\n"
      ],
      "text/markdown": [
       "1. 1394366\n",
       "2. 39\n",
       "\n",
       "\n"
      ],
      "text/plain": [
       "[1] 1394366      39"
      ]
     },
     "metadata": {},
     "output_type": "display_data"
    },
    {
     "data": {
      "text/html": [
       "<style>\n",
       ".list-inline {list-style: none; margin:0; padding: 0}\n",
       ".list-inline>li {display: inline-block}\n",
       ".list-inline>li:not(:last-child)::after {content: \"\\00b7\"; padding: 0 .5ex}\n",
       "</style>\n",
       "<ol class=list-inline><li>348591</li><li>39</li></ol>\n"
      ],
      "text/latex": [
       "\\begin{enumerate*}\n",
       "\\item 348591\n",
       "\\item 39\n",
       "\\end{enumerate*}\n"
      ],
      "text/markdown": [
       "1. 348591\n",
       "2. 39\n",
       "\n",
       "\n"
      ],
      "text/plain": [
       "[1] 348591     39"
      ]
     },
     "metadata": {},
     "output_type": "display_data"
    }
   ],
   "source": [
    "# was 139436639, 34859139... should be ~118.5M, 29.6M\n",
    "\n",
    "dim(expiry_train_df)\n",
    "dim(expiry_test_df)"
   ]
  },
  {
   "cell_type": "markdown",
   "metadata": {},
   "source": [
    "# subset to only include first renewal"
   ]
  },
  {
   "cell_type": "code",
   "execution_count": 145,
   "metadata": {},
   "outputs": [],
   "source": [
    "# expiry_train_prepped_2_1 <- lapply(expiry_train_prepped_2, \n",
    "#                                       function(x)x[x[[1]]=='FirstTime'])\n",
    "# expiry_test_prepped_2_1 <- lapply(expiry_test_prepped_2, \n",
    "#                                       function(x)x[x[[1]]=='FirstTime'])\n",
    "\n",
    "expiry_test_prepped_2_1 <- expiry_test_prepped_2_1[sapply(expiry_test_prepped_2_1, function(x) dim(x)[1]) > 0]"
   ]
  },
  {
   "cell_type": "code",
   "execution_count": 149,
   "metadata": {},
   "outputs": [],
   "source": [
    "# expiry_train_df_1 <- rbindlist(expiry_train_prepped_2_1, fill=TRUE)\n",
    "expiry_test_df_1 <- rbindlist(expiry_test_prepped_2_1, fill=TRUE)"
   ]
  },
  {
   "cell_type": "code",
   "execution_count": 150,
   "metadata": {},
   "outputs": [
    {
     "data": {
      "text/html": [
       "<style>\n",
       ".list-inline {list-style: none; margin:0; padding: 0}\n",
       ".list-inline>li {display: inline-block}\n",
       ".list-inline>li:not(:last-child)::after {content: \"\\00b7\"; padding: 0 .5ex}\n",
       "</style>\n",
       "<ol class=list-inline><li>1188250</li><li>39</li></ol>\n"
      ],
      "text/latex": [
       "\\begin{enumerate*}\n",
       "\\item 1188250\n",
       "\\item 39\n",
       "\\end{enumerate*}\n"
      ],
      "text/markdown": [
       "1. 1188250\n",
       "2. 39\n",
       "\n",
       "\n"
      ],
      "text/plain": [
       "[1] 1188250      39"
      ]
     },
     "metadata": {},
     "output_type": "display_data"
    },
    {
     "data": {
      "text/html": [
       "<style>\n",
       ".list-inline {list-style: none; margin:0; padding: 0}\n",
       ".list-inline>li {display: inline-block}\n",
       ".list-inline>li:not(:last-child)::after {content: \"\\00b7\"; padding: 0 .5ex}\n",
       "</style>\n",
       "<ol class=list-inline><li>296797</li><li>39</li></ol>\n"
      ],
      "text/latex": [
       "\\begin{enumerate*}\n",
       "\\item 296797\n",
       "\\item 39\n",
       "\\end{enumerate*}\n"
      ],
      "text/markdown": [
       "1. 296797\n",
       "2. 39\n",
       "\n",
       "\n"
      ],
      "text/plain": [
       "[1] 296797     39"
      ]
     },
     "metadata": {},
     "output_type": "display_data"
    }
   ],
   "source": [
    "dim(expiry_train_df_1)\n",
    "dim(expiry_test_df_1)"
   ]
  },
  {
   "cell_type": "markdown",
   "metadata": {},
   "source": [
    "# Retrain Ranger_03"
   ]
  },
  {
   "cell_type": "markdown",
   "metadata": {},
   "source": [
    "## per the same definitions as in dtree_xl.ipynb, but added reg_arpt as a predictor"
   ]
  },
  {
   "cell_type": "code",
   "execution_count": 119,
   "metadata": {},
   "outputs": [
    {
     "data": {
      "text/html": [
       "<table>\n",
       "<caption>A data.table: 6 × 13</caption>\n",
       "<thead>\n",
       "\t<tr><th scope=col>renewal_status</th><th scope=col>tld</th><th scope=col>registrar</th><th scope=col>reseller</th><th scope=col>reseller_country</th><th scope=col>region</th><th scope=col>reg_period</th><th scope=col>sld_type</th><th scope=col>sld_length</th><th scope=col>day_domains</th><th scope=col>gibb_score</th><th scope=col>pattern_domain_count</th><th scope=col>reg_arpt</th></tr>\n",
       "\t<tr><th scope=col>&lt;fct&gt;</th><th scope=col>&lt;fct&gt;</th><th scope=col>&lt;chr&gt;</th><th scope=col>&lt;chr&gt;</th><th scope=col>&lt;chr&gt;</th><th scope=col>&lt;chr&gt;</th><th scope=col>&lt;int&gt;</th><th scope=col>&lt;fct&gt;</th><th scope=col>&lt;int&gt;</th><th scope=col>&lt;int&gt;</th><th scope=col>&lt;dbl&gt;</th><th scope=col>&lt;int&gt;</th><th scope=col>&lt;dbl&gt;</th></tr>\n",
       "</thead>\n",
       "<tbody>\n",
       "\t<tr><td><span style=white-space:pre-wrap>Renewed   </span></td><td>fun</td><td>1&amp;1 internet</td><td>1&amp;1 internet</td><td>Germany</td><td>Non China</td><td>1</td><td>l </td><td> 7</td><td>1</td><td> 6.77</td><td>1</td><td>15</td></tr>\n",
       "\t<tr><td><span style=white-space:pre-wrap>Renewed   </span></td><td>fun</td><td>1&amp;1 internet</td><td>1&amp;1 internet</td><td>Germany</td><td>Non China</td><td>1</td><td>ln</td><td> 7</td><td>1</td><td> 8.65</td><td>1</td><td>15</td></tr>\n",
       "\t<tr><td><span style=white-space:pre-wrap>Renewed   </span></td><td>fun</td><td>1&amp;1 internet</td><td>1&amp;1 internet</td><td>Germany</td><td>Non China</td><td>1</td><td>l </td><td> 6</td><td>1</td><td>13.09</td><td>1</td><td>15</td></tr>\n",
       "\t<tr><td>Not Renewd</td><td>fun</td><td>1&amp;1 internet</td><td>1&amp;1 internet</td><td>Germany</td><td>Non China</td><td>1</td><td>l </td><td>12</td><td>1</td><td> 2.44</td><td>1</td><td>15</td></tr>\n",
       "\t<tr><td><span style=white-space:pre-wrap>Renewed   </span></td><td>fun</td><td>1&amp;1 internet</td><td>1&amp;1 internet</td><td>Germany</td><td>Non China</td><td>1</td><td>l </td><td> 7</td><td>1</td><td> 2.34</td><td>1</td><td>15</td></tr>\n",
       "\t<tr><td><span style=white-space:pre-wrap>Renewed   </span></td><td>fun</td><td>1&amp;1 internet</td><td>1&amp;1 internet</td><td>Germany</td><td>Non China</td><td>1</td><td>l </td><td> 8</td><td>1</td><td> 3.64</td><td>1</td><td>15</td></tr>\n",
       "</tbody>\n",
       "</table>\n"
      ],
      "text/latex": [
       "A data.table: 6 × 13\n",
       "\\begin{tabular}{lllllllllllll}\n",
       " renewal\\_status & tld & registrar & reseller & reseller\\_country & region & reg\\_period & sld\\_type & sld\\_length & day\\_domains & gibb\\_score & pattern\\_domain\\_count & reg\\_arpt\\\\\n",
       " <fct> & <fct> & <chr> & <chr> & <chr> & <chr> & <int> & <fct> & <int> & <int> & <dbl> & <int> & <dbl>\\\\\n",
       "\\hline\n",
       "\t Renewed    & fun & 1\\&1 internet & 1\\&1 internet & Germany & Non China & 1 & l  &  7 & 1 &  6.77 & 1 & 15\\\\\n",
       "\t Renewed    & fun & 1\\&1 internet & 1\\&1 internet & Germany & Non China & 1 & ln &  7 & 1 &  8.65 & 1 & 15\\\\\n",
       "\t Renewed    & fun & 1\\&1 internet & 1\\&1 internet & Germany & Non China & 1 & l  &  6 & 1 & 13.09 & 1 & 15\\\\\n",
       "\t Not Renewd & fun & 1\\&1 internet & 1\\&1 internet & Germany & Non China & 1 & l  & 12 & 1 &  2.44 & 1 & 15\\\\\n",
       "\t Renewed    & fun & 1\\&1 internet & 1\\&1 internet & Germany & Non China & 1 & l  &  7 & 1 &  2.34 & 1 & 15\\\\\n",
       "\t Renewed    & fun & 1\\&1 internet & 1\\&1 internet & Germany & Non China & 1 & l  &  8 & 1 &  3.64 & 1 & 15\\\\\n",
       "\\end{tabular}\n"
      ],
      "text/markdown": [
       "\n",
       "A data.table: 6 × 13\n",
       "\n",
       "| renewal_status &lt;fct&gt; | tld &lt;fct&gt; | registrar &lt;chr&gt; | reseller &lt;chr&gt; | reseller_country &lt;chr&gt; | region &lt;chr&gt; | reg_period &lt;int&gt; | sld_type &lt;fct&gt; | sld_length &lt;int&gt; | day_domains &lt;int&gt; | gibb_score &lt;dbl&gt; | pattern_domain_count &lt;int&gt; | reg_arpt &lt;dbl&gt; |\n",
       "|---|---|---|---|---|---|---|---|---|---|---|---|---|\n",
       "| Renewed    | fun | 1&amp;1 internet | 1&amp;1 internet | Germany | Non China | 1 | l  |  7 | 1 |  6.77 | 1 | 15 |\n",
       "| Renewed    | fun | 1&amp;1 internet | 1&amp;1 internet | Germany | Non China | 1 | ln |  7 | 1 |  8.65 | 1 | 15 |\n",
       "| Renewed    | fun | 1&amp;1 internet | 1&amp;1 internet | Germany | Non China | 1 | l  |  6 | 1 | 13.09 | 1 | 15 |\n",
       "| Not Renewd | fun | 1&amp;1 internet | 1&amp;1 internet | Germany | Non China | 1 | l  | 12 | 1 |  2.44 | 1 | 15 |\n",
       "| Renewed    | fun | 1&amp;1 internet | 1&amp;1 internet | Germany | Non China | 1 | l  |  7 | 1 |  2.34 | 1 | 15 |\n",
       "| Renewed    | fun | 1&amp;1 internet | 1&amp;1 internet | Germany | Non China | 1 | l  |  8 | 1 |  3.64 | 1 | 15 |\n",
       "\n"
      ],
      "text/plain": [
       "  renewal_status tld registrar    reseller     reseller_country region   \n",
       "1 Renewed        fun 1&1 internet 1&1 internet Germany          Non China\n",
       "2 Renewed        fun 1&1 internet 1&1 internet Germany          Non China\n",
       "3 Renewed        fun 1&1 internet 1&1 internet Germany          Non China\n",
       "4 Not Renewd     fun 1&1 internet 1&1 internet Germany          Non China\n",
       "5 Renewed        fun 1&1 internet 1&1 internet Germany          Non China\n",
       "6 Renewed        fun 1&1 internet 1&1 internet Germany          Non China\n",
       "  reg_period sld_type sld_length day_domains gibb_score pattern_domain_count\n",
       "1 1          l         7         1            6.77      1                   \n",
       "2 1          ln        7         1            8.65      1                   \n",
       "3 1          l         6         1           13.09      1                   \n",
       "4 1          l        12         1            2.44      1                   \n",
       "5 1          l         7         1            2.34      1                   \n",
       "6 1          l         8         1            3.64      1                   \n",
       "  reg_arpt\n",
       "1 15      \n",
       "2 15      \n",
       "3 15      \n",
       "4 15      \n",
       "5 15      \n",
       "6 15      "
      ]
     },
     "metadata": {},
     "output_type": "display_data"
    }
   ],
   "source": [
    "# expiry_train_df_1 <- expiry_train_df %>% filter(renewal_type == 'FirstTime')\n",
    "expiry_train_df_sub <- subset(expiry_train_df_1, \n",
    "       select = c(renewal_status, tld, registrar, reseller, reseller_country, region, reg_period, \n",
    "                  sld_type, sld_length, day_domains, gibb_score, pattern_domain_count,reg_arpt) )\n",
    "head(expiry_train_df_sub)"
   ]
  },
  {
   "cell_type": "code",
   "execution_count": 120,
   "metadata": {},
   "outputs": [
    {
     "data": {
      "text/html": [
       "<table>\n",
       "<caption>A data.table: 6 × 13</caption>\n",
       "<thead>\n",
       "\t<tr><th scope=col>renewal_status</th><th scope=col>tld</th><th scope=col>registrar</th><th scope=col>reseller</th><th scope=col>reseller_country</th><th scope=col>region</th><th scope=col>reg_period</th><th scope=col>sld_type</th><th scope=col>sld_length</th><th scope=col>day_domains</th><th scope=col>gibb_score</th><th scope=col>pattern_domain_count</th><th scope=col>reg_arpt</th></tr>\n",
       "\t<tr><th scope=col>&lt;fct&gt;</th><th scope=col>&lt;fct&gt;</th><th scope=col>&lt;chr&gt;</th><th scope=col>&lt;chr&gt;</th><th scope=col>&lt;chr&gt;</th><th scope=col>&lt;chr&gt;</th><th scope=col>&lt;int&gt;</th><th scope=col>&lt;fct&gt;</th><th scope=col>&lt;int&gt;</th><th scope=col>&lt;int&gt;</th><th scope=col>&lt;dbl&gt;</th><th scope=col>&lt;int&gt;</th><th scope=col>&lt;dbl&gt;</th></tr>\n",
       "</thead>\n",
       "<tbody>\n",
       "\t<tr><td><span style=white-space:pre-wrap>Renewed   </span></td><td>fun</td><td><span style=white-space:pre-wrap>1&amp;1 internet    </span></td><td><span style=white-space:pre-wrap>1&amp;1 internet    </span></td><td>Germany</td><td>Non China</td><td>1</td><td>l</td><td>6</td><td>1</td><td>2.23</td><td>1</td><td>15</td></tr>\n",
       "\t<tr><td><span style=white-space:pre-wrap>Renewed   </span></td><td>fun</td><td><span style=white-space:pre-wrap>1&amp;1 internet    </span></td><td><span style=white-space:pre-wrap>1&amp;1 internet    </span></td><td>Germany</td><td>Non China</td><td>1</td><td>l</td><td>9</td><td>1</td><td>3.45</td><td>1</td><td>15</td></tr>\n",
       "\t<tr><td>Not Renewd</td><td>fun</td><td>10dencehispahard</td><td>10dencehispahard</td><td>Spain  </td><td>Non China</td><td>1</td><td>l</td><td>8</td><td>1</td><td>8.62</td><td>1</td><td>15</td></tr>\n",
       "\t<tr><td>Not Renewd</td><td>fun</td><td>10dencehispahard</td><td>10dencehispahard</td><td>Spain  </td><td>Non China</td><td>1</td><td>l</td><td>6</td><td>1</td><td>3.13</td><td>1</td><td>15</td></tr>\n",
       "\t<tr><td>Renewed   </td><td>fun</td><td>1api            </td><td>1api            </td><td>Germany</td><td>Non China</td><td>1</td><td>l</td><td>7</td><td>1</td><td>4.51</td><td>1</td><td> 5</td></tr>\n",
       "\t<tr><td>Not Renewd</td><td>fun</td><td>1api            </td><td>1api            </td><td>Germany</td><td>Non China</td><td>1</td><td>l</td><td>7</td><td>1</td><td>6.09</td><td>1</td><td> 5</td></tr>\n",
       "</tbody>\n",
       "</table>\n"
      ],
      "text/latex": [
       "A data.table: 6 × 13\n",
       "\\begin{tabular}{lllllllllllll}\n",
       " renewal\\_status & tld & registrar & reseller & reseller\\_country & region & reg\\_period & sld\\_type & sld\\_length & day\\_domains & gibb\\_score & pattern\\_domain\\_count & reg\\_arpt\\\\\n",
       " <fct> & <fct> & <chr> & <chr> & <chr> & <chr> & <int> & <fct> & <int> & <int> & <dbl> & <int> & <dbl>\\\\\n",
       "\\hline\n",
       "\t Renewed    & fun & 1\\&1 internet     & 1\\&1 internet     & Germany & Non China & 1 & l & 6 & 1 & 2.23 & 1 & 15\\\\\n",
       "\t Renewed    & fun & 1\\&1 internet     & 1\\&1 internet     & Germany & Non China & 1 & l & 9 & 1 & 3.45 & 1 & 15\\\\\n",
       "\t Not Renewd & fun & 10dencehispahard & 10dencehispahard & Spain   & Non China & 1 & l & 8 & 1 & 8.62 & 1 & 15\\\\\n",
       "\t Not Renewd & fun & 10dencehispahard & 10dencehispahard & Spain   & Non China & 1 & l & 6 & 1 & 3.13 & 1 & 15\\\\\n",
       "\t Renewed    & fun & 1api             & 1api             & Germany & Non China & 1 & l & 7 & 1 & 4.51 & 1 &  5\\\\\n",
       "\t Not Renewd & fun & 1api             & 1api             & Germany & Non China & 1 & l & 7 & 1 & 6.09 & 1 &  5\\\\\n",
       "\\end{tabular}\n"
      ],
      "text/markdown": [
       "\n",
       "A data.table: 6 × 13\n",
       "\n",
       "| renewal_status &lt;fct&gt; | tld &lt;fct&gt; | registrar &lt;chr&gt; | reseller &lt;chr&gt; | reseller_country &lt;chr&gt; | region &lt;chr&gt; | reg_period &lt;int&gt; | sld_type &lt;fct&gt; | sld_length &lt;int&gt; | day_domains &lt;int&gt; | gibb_score &lt;dbl&gt; | pattern_domain_count &lt;int&gt; | reg_arpt &lt;dbl&gt; |\n",
       "|---|---|---|---|---|---|---|---|---|---|---|---|---|\n",
       "| Renewed    | fun | 1&amp;1 internet     | 1&amp;1 internet     | Germany | Non China | 1 | l | 6 | 1 | 2.23 | 1 | 15 |\n",
       "| Renewed    | fun | 1&amp;1 internet     | 1&amp;1 internet     | Germany | Non China | 1 | l | 9 | 1 | 3.45 | 1 | 15 |\n",
       "| Not Renewd | fun | 10dencehispahard | 10dencehispahard | Spain   | Non China | 1 | l | 8 | 1 | 8.62 | 1 | 15 |\n",
       "| Not Renewd | fun | 10dencehispahard | 10dencehispahard | Spain   | Non China | 1 | l | 6 | 1 | 3.13 | 1 | 15 |\n",
       "| Renewed    | fun | 1api             | 1api             | Germany | Non China | 1 | l | 7 | 1 | 4.51 | 1 |  5 |\n",
       "| Not Renewd | fun | 1api             | 1api             | Germany | Non China | 1 | l | 7 | 1 | 6.09 | 1 |  5 |\n",
       "\n"
      ],
      "text/plain": [
       "  renewal_status tld registrar        reseller         reseller_country\n",
       "1 Renewed        fun 1&1 internet     1&1 internet     Germany         \n",
       "2 Renewed        fun 1&1 internet     1&1 internet     Germany         \n",
       "3 Not Renewd     fun 10dencehispahard 10dencehispahard Spain           \n",
       "4 Not Renewd     fun 10dencehispahard 10dencehispahard Spain           \n",
       "5 Renewed        fun 1api             1api             Germany         \n",
       "6 Not Renewd     fun 1api             1api             Germany         \n",
       "  region    reg_period sld_type sld_length day_domains gibb_score\n",
       "1 Non China 1          l        6          1           2.23      \n",
       "2 Non China 1          l        9          1           3.45      \n",
       "3 Non China 1          l        8          1           8.62      \n",
       "4 Non China 1          l        6          1           3.13      \n",
       "5 Non China 1          l        7          1           4.51      \n",
       "6 Non China 1          l        7          1           6.09      \n",
       "  pattern_domain_count reg_arpt\n",
       "1 1                    15      \n",
       "2 1                    15      \n",
       "3 1                    15      \n",
       "4 1                    15      \n",
       "5 1                     5      \n",
       "6 1                     5      "
      ]
     },
     "metadata": {},
     "output_type": "display_data"
    }
   ],
   "source": [
    "# expiry_test_df_1 <- expiry_test_df %>% filter(renewal_type == 'FirstTime')\n",
    "expiry_test_df_sub <- subset(expiry_test_df_1, \n",
    "       select = c(renewal_status, tld, registrar, reseller, reseller_country, region, reg_period, \n",
    "                  sld_type, sld_length, day_domains, gibb_score, pattern_domain_count,reg_arpt) )\n",
    "head(expiry_test_df_sub)"
   ]
  },
  {
   "cell_type": "code",
   "execution_count": 223,
   "metadata": {},
   "outputs": [
    {
     "name": "stdout",
     "output_type": "stream",
     "text": [
      "Growing trees.. Progress: 14%. Estimated remaining time: 3 minutes, 4 seconds.\n",
      "Growing trees.. Progress: 31%. Estimated remaining time: 2 minutes, 20 seconds.\n",
      "Growing trees.. Progress: 47%. Estimated remaining time: 1 minute, 45 seconds.\n",
      "Growing trees.. Progress: 64%. Estimated remaining time: 1 minute, 9 seconds.\n",
      "Growing trees.. Progress: 80%. Estimated remaining time: 39 seconds.\n",
      "model fitting: 244.165 sec elapsed\n"
     ]
    }
   ],
   "source": [
    "# model fitting: 952.151 sec elapsed (model fitting: 334.385 sec elapsed on 16 core)\n",
    "# model saving: 163.762 sec elapsed\n",
    "\n",
    "\n",
    "tic(\"model fitting\")\n",
    "\n",
    "ranger_03_expiry <- ranger(\n",
    "    formula         = renewal_status ~ ., \n",
    "    data            = expiry_train_df_sub, \n",
    "    importance = 'impurity', \n",
    "    num.trees       = 500,\n",
    "#     class.weights = c(1,10000),\n",
    "    probability = TRUE,\n",
    "#     mtry            = 5,\n",
    "#     min.node.size   = 10,\n",
    "#     replace = FALSE,\n",
    "#     sample.fraction = .725,\n",
    "    seed            = 123\n",
    ")\n",
    "\n",
    "toc()\n",
    "\n",
    "# tic(\"model saving\")\n",
    "# save(ranger_03_expiry, file=\"../../data/output/ranger_03_expiry\")\n",
    "# toc()"
   ]
  },
  {
   "cell_type": "markdown",
   "metadata": {},
   "source": [
    "## test ranger_03 on expiry_test"
   ]
  },
  {
   "cell_type": "code",
   "execution_count": 224,
   "metadata": {},
   "outputs": [
    {
     "name": "stdout",
     "output_type": "stream",
     "text": [
      "model predict: 16.979 sec elapsed\n"
     ]
    }
   ],
   "source": [
    "\n",
    "# model predict: 65.851 sec elapsed (18sec on 16 core)\n",
    "# eval saving: 0.132 sec elapsed\n",
    "\n",
    "tic(\"model predict\")\n",
    "ranger_predict_03_expiry <- predict(ranger_03_expiry, \n",
    "                          data = expiry_test_df_sub,\n",
    "                          type=\"response\")$predictions\n",
    "toc()\n",
    "\n",
    "# tic(\"eval saving\")\n",
    "\n",
    "ranger_predict_03_expiry <- as.data.frame(ranger_predict_03_expiry)$Renewed\n",
    "\n",
    "# save(ranger_predict_03_expiry, \n",
    "#      file=\"../../data/output/ranger_predict_03_expiry\")\n",
    "# toc()\n"
   ]
  },
  {
   "cell_type": "code",
   "execution_count": 214,
   "metadata": {},
   "outputs": [],
   "source": [
    "# load(\"../../data/output/ranger_predict_03_exptest\")"
   ]
  },
  {
   "cell_type": "code",
   "execution_count": 225,
   "metadata": {},
   "outputs": [
    {
     "name": "stdout",
     "output_type": "stream",
     "text": [
      "lift df: 1.164 sec elapsed\n",
      "gains plot: 0.017 sec elapsed\n",
      "auc: 0.005 sec elapsed\n"
     ]
    }
   ],
   "source": [
    "ranger_03_pred_df_expiry = data.frame(\"actual\" = expiry_test_df_sub$renewal_status,\n",
    "          \"predicted\" = ranger_predict_03_expiry)\n",
    "\n",
    "# lift df: 23.675 sec elapsed\n",
    "# gains plot: 0.046 sec elapsed\n",
    "# auc: 0.007 sec elapsed\n",
    "tic(\"lift df\")\n",
    "lift_df_ranger_03_expiry <- chart_lift(pred_df = ranger_03_pred_df_expiry,\n",
    "                        dep_var = \"actual\",\n",
    "                        pred_var = \"predicted\")\n",
    "\n",
    "toc()\n",
    "tic(\"gains plot\")\n",
    "gains_plot_ranger_03_expiry <- plot_gains (lift_df_ranger_03_expiry) \n",
    "\n",
    "toc()\n",
    "tic(\"auc\")\n",
    "auc_ranger_03_expiry <- calc_auc(lift_df_ranger_03_expiry)\n",
    "toc()\n",
    "\n",
    "\n",
    "# saveRDS(lift_df_ranger_03_expiry, file.path('../../data/output/',\"lift_df_ranger_03_expiry\"))\n"
   ]
  },
  {
   "cell_type": "code",
   "execution_count": 226,
   "metadata": {},
   "outputs": [
    {
     "data": {
      "text/html": [
       "<table>\n",
       "<caption>A data.frame: 10 × 4</caption>\n",
       "<thead>\n",
       "\t<tr><th scope=col>P</th><th scope=col>actu_renwd2</th><th scope=col>gain</th><th scope=col>lift</th></tr>\n",
       "\t<tr><th scope=col>&lt;dbl&gt;</th><th scope=col>&lt;int&gt;</th><th scope=col>&lt;dbl&gt;</th><th scope=col>&lt;dbl&gt;</th></tr>\n",
       "</thead>\n",
       "<tbody>\n",
       "\t<tr><td>0.1</td><td>11663</td><td>0.4294973</td><td>4.294973</td></tr>\n",
       "\t<tr><td>0.2</td><td>16545</td><td>0.6092801</td><td>3.046400</td></tr>\n",
       "\t<tr><td>0.3</td><td>20096</td><td>0.7400479</td><td>2.466826</td></tr>\n",
       "\t<tr><td>0.4</td><td>22855</td><td>0.8416498</td><td>2.104124</td></tr>\n",
       "\t<tr><td>0.5</td><td>24425</td><td>0.8994660</td><td>1.798932</td></tr>\n",
       "\t<tr><td>0.6</td><td>25404</td><td>0.9355183</td><td>1.559197</td></tr>\n",
       "\t<tr><td>0.7</td><td>26253</td><td>0.9667833</td><td>1.381119</td></tr>\n",
       "\t<tr><td>0.8</td><td>26957</td><td>0.9927085</td><td>1.240886</td></tr>\n",
       "\t<tr><td>0.9</td><td>27152</td><td>0.9998895</td><td>1.110988</td></tr>\n",
       "\t<tr><td>1.0</td><td>27155</td><td>1.0000000</td><td>1.000000</td></tr>\n",
       "</tbody>\n",
       "</table>\n"
      ],
      "text/latex": [
       "A data.frame: 10 × 4\n",
       "\\begin{tabular}{llll}\n",
       " P & actu\\_renwd2 & gain & lift\\\\\n",
       " <dbl> & <int> & <dbl> & <dbl>\\\\\n",
       "\\hline\n",
       "\t 0.1 & 11663 & 0.4294973 & 4.294973\\\\\n",
       "\t 0.2 & 16545 & 0.6092801 & 3.046400\\\\\n",
       "\t 0.3 & 20096 & 0.7400479 & 2.466826\\\\\n",
       "\t 0.4 & 22855 & 0.8416498 & 2.104124\\\\\n",
       "\t 0.5 & 24425 & 0.8994660 & 1.798932\\\\\n",
       "\t 0.6 & 25404 & 0.9355183 & 1.559197\\\\\n",
       "\t 0.7 & 26253 & 0.9667833 & 1.381119\\\\\n",
       "\t 0.8 & 26957 & 0.9927085 & 1.240886\\\\\n",
       "\t 0.9 & 27152 & 0.9998895 & 1.110988\\\\\n",
       "\t 1.0 & 27155 & 1.0000000 & 1.000000\\\\\n",
       "\\end{tabular}\n"
      ],
      "text/markdown": [
       "\n",
       "A data.frame: 10 × 4\n",
       "\n",
       "| P &lt;dbl&gt; | actu_renwd2 &lt;int&gt; | gain &lt;dbl&gt; | lift &lt;dbl&gt; |\n",
       "|---|---|---|---|\n",
       "| 0.1 | 11663 | 0.4294973 | 4.294973 |\n",
       "| 0.2 | 16545 | 0.6092801 | 3.046400 |\n",
       "| 0.3 | 20096 | 0.7400479 | 2.466826 |\n",
       "| 0.4 | 22855 | 0.8416498 | 2.104124 |\n",
       "| 0.5 | 24425 | 0.8994660 | 1.798932 |\n",
       "| 0.6 | 25404 | 0.9355183 | 1.559197 |\n",
       "| 0.7 | 26253 | 0.9667833 | 1.381119 |\n",
       "| 0.8 | 26957 | 0.9927085 | 1.240886 |\n",
       "| 0.9 | 27152 | 0.9998895 | 1.110988 |\n",
       "| 1.0 | 27155 | 1.0000000 | 1.000000 |\n",
       "\n"
      ],
      "text/plain": [
       "   P   actu_renwd2 gain      lift    \n",
       "1  0.1 11663       0.4294973 4.294973\n",
       "2  0.2 16545       0.6092801 3.046400\n",
       "3  0.3 20096       0.7400479 2.466826\n",
       "4  0.4 22855       0.8416498 2.104124\n",
       "5  0.5 24425       0.8994660 1.798932\n",
       "6  0.6 25404       0.9355183 1.559197\n",
       "7  0.7 26253       0.9667833 1.381119\n",
       "8  0.8 26957       0.9927085 1.240886\n",
       "9  0.9 27152       0.9998895 1.110988\n",
       "10 1.0 27155       1.0000000 1.000000"
      ]
     },
     "metadata": {},
     "output_type": "display_data"
    }
   ],
   "source": [
    "lift_df_ranger_03_expiry"
   ]
  },
  {
   "cell_type": "code",
   "execution_count": 227,
   "metadata": {},
   "outputs": [
    {
     "data": {
      "text/html": [
       "0.791484072914749"
      ],
      "text/latex": [
       "0.791484072914749"
      ],
      "text/markdown": [
       "0.791484072914749"
      ],
      "text/plain": [
       "[1] 0.7914841"
      ]
     },
     "metadata": {},
     "output_type": "display_data"
    },
    {
     "data": {
      "image/png": "[encoded data removed]",
      "text/plain": [
       "plot without title"
      ]
     },
     "metadata": {
      "image/png": {
       "height": 420,
       "width": 420
      },
      "text/plain": {
       "height": 420,
       "width": 420
      }
     },
     "output_type": "display_data"
    }
   ],
   "source": [
    "auc_ranger_03_expiry\n",
    "gains_plot_ranger_03_expiry"
   ]
  },
  {
   "cell_type": "code",
   "execution_count": 169,
   "metadata": {},
   "outputs": [],
   "source": [
    "system(\"gsutil cp /home/jupyter/local/Domains_202003/data/output/* gs://data_outputt/output/\")"
   ]
  },
  {
   "cell_type": "code",
   "execution_count": 179,
   "metadata": {},
   "outputs": [
    {
     "data": {
      "text/html": [
       "<table>\n",
       "<caption>A data.frame: 12 × 1</caption>\n",
       "<thead>\n",
       "\t<tr><th></th><th scope=col>sort(ranger_03_expiry$variable.importance, decreasing = TRUE)</th></tr>\n",
       "\t<tr><th></th><th scope=col>&lt;dbl&gt;</th></tr>\n",
       "</thead>\n",
       "<tbody>\n",
       "\t<tr><th scope=row>gibb_score</th><td>59415.4044</td></tr>\n",
       "\t<tr><th scope=row>day_domains</th><td>54127.3425</td></tr>\n",
       "\t<tr><th scope=row>reg_arpt</th><td>50931.2397</td></tr>\n",
       "\t<tr><th scope=row>sld_length</th><td>26282.1124</td></tr>\n",
       "\t<tr><th scope=row>reseller</th><td>17327.6987</td></tr>\n",
       "\t<tr><th scope=row>registrar</th><td>13639.6512</td></tr>\n",
       "\t<tr><th scope=row>tld</th><td> 9794.4114</td></tr>\n",
       "\t<tr><th scope=row>reseller_country</th><td> 9673.5338</td></tr>\n",
       "\t<tr><th scope=row>pattern_domain_count</th><td> 9407.5462</td></tr>\n",
       "\t<tr><th scope=row>sld_type</th><td> 7686.7112</td></tr>\n",
       "\t<tr><th scope=row>reg_period</th><td> 1466.3901</td></tr>\n",
       "\t<tr><th scope=row>region</th><td>  474.8108</td></tr>\n",
       "</tbody>\n",
       "</table>\n"
      ],
      "text/latex": [
       "A data.frame: 12 × 1\n",
       "\\begin{tabular}{r|l}\n",
       "  & sort(ranger\\_03\\_expiry\\$variable.importance, decreasing = TRUE)\\\\\n",
       "  & <dbl>\\\\\n",
       "\\hline\n",
       "\tgibb\\_score & 59415.4044\\\\\n",
       "\tday\\_domains & 54127.3425\\\\\n",
       "\treg\\_arpt & 50931.2397\\\\\n",
       "\tsld\\_length & 26282.1124\\\\\n",
       "\treseller & 17327.6987\\\\\n",
       "\tregistrar & 13639.6512\\\\\n",
       "\ttld &  9794.4114\\\\\n",
       "\treseller\\_country &  9673.5338\\\\\n",
       "\tpattern\\_domain\\_count &  9407.5462\\\\\n",
       "\tsld\\_type &  7686.7112\\\\\n",
       "\treg\\_period &  1466.3901\\\\\n",
       "\tregion &   474.8108\\\\\n",
       "\\end{tabular}\n"
      ],
      "text/markdown": [
       "\n",
       "A data.frame: 12 × 1\n",
       "\n",
       "| <!--/--> | sort(ranger_03_expiry$variable.importance, decreasing = TRUE) &lt;dbl&gt; |\n",
       "|---|---|\n",
       "| gibb_score | 59415.4044 |\n",
       "| day_domains | 54127.3425 |\n",
       "| reg_arpt | 50931.2397 |\n",
       "| sld_length | 26282.1124 |\n",
       "| reseller | 17327.6987 |\n",
       "| registrar | 13639.6512 |\n",
       "| tld |  9794.4114 |\n",
       "| reseller_country |  9673.5338 |\n",
       "| pattern_domain_count |  9407.5462 |\n",
       "| sld_type |  7686.7112 |\n",
       "| reg_period |  1466.3901 |\n",
       "| region |   474.8108 |\n",
       "\n"
      ],
      "text/plain": [
       "                     sort(ranger_03_expiry$variable.importance, decreasing = TRUE)\n",
       "gibb_score           59415.4044                                                   \n",
       "day_domains          54127.3425                                                   \n",
       "reg_arpt             50931.2397                                                   \n",
       "sld_length           26282.1124                                                   \n",
       "reseller             17327.6987                                                   \n",
       "registrar            13639.6512                                                   \n",
       "tld                   9794.4114                                                   \n",
       "reseller_country      9673.5338                                                   \n",
       "pattern_domain_count  9407.5462                                                   \n",
       "sld_type              7686.7112                                                   \n",
       "reg_period            1466.3901                                                   \n",
       "region                 474.8108                                                   "
      ]
     },
     "metadata": {},
     "output_type": "display_data"
    }
   ],
   "source": [
    "as.data.frame(sort(ranger_03_expiry$variable.importance,decreasing=TRUE))"
   ]
  },
  {
   "cell_type": "markdown",
   "metadata": {},
   "source": [
    "lift_df_ranger3"
   ]
  },
  {
   "cell_type": "markdown",
   "metadata": {},
   "source": [
    "# how well does seg_glm perf when trained on this data?"
   ]
  },
  {
   "cell_type": "markdown",
   "metadata": {},
   "source": [
    "## need to retrain model on expiry_train_prepped_2 (list of dfs)\n"
   ]
  },
  {
   "cell_type": "code",
   "execution_count": 131,
   "metadata": {},
   "outputs": [],
   "source": [
    "# model fitting: 38.794 sec elapsed\n",
    "# model saving: 48.062 sec elapsed\n",
    "\n",
    "# model fitting: 48.917 sec elapsed on 16 core\n",
    "# model saving: 42.567 sec elapsed\n",
    "\n",
    "# tic(\"model fitting\")\n",
    "# first_renewal_model_expiry_train<-mass_build_model_first_renewal(expiry_train_prepped_2_1)\n",
    "# toc()\n",
    "# tic(\"model saving\")\n",
    "# saveRDS(first_renewal_model_expiry_train, \"../../data/output/first_renewal_model_expiry_train\")\n",
    "# toc()\n"
   ]
  },
  {
   "cell_type": "code",
   "execution_count": 148,
   "metadata": {},
   "outputs": [],
   "source": [
    "# model predict: 12.668 sec elapsed\n",
    "# model predict: 11.492 sec elapsed on 16 core\n",
    "\n",
    "# tic(\"model predict\")\n",
    "# seg_glm_expiry_exptest <- mass_predict_first_renewal(expiry_test_prepped_2_1, \n",
    "#                                                      first_renewal_model_expiry_train)\n",
    "# toc()\n",
    "# saveRDS(seg_glm_expiry_exptest,\"../../data/output/seg_glm_expiry_exptest\")\n"
   ]
  },
  {
   "cell_type": "code",
   "execution_count": null,
   "metadata": {},
   "outputs": [],
   "source": [
    "# seg_glm_exptest <- readRDS(\"../../data/output/seg_glm_exptest\")"
   ]
  },
  {
   "cell_type": "code",
   "execution_count": 151,
   "metadata": {},
   "outputs": [],
   "source": [
    "seg_glm_expiry_exptest_pred_df = data.frame(\"actual\" = expiry_test_df_1$renewal_status,\n",
    "          \"predicted\" = seg_glm_expiry_exptest$first_renewal_prediction)"
   ]
  },
  {
   "cell_type": "code",
   "execution_count": 152,
   "metadata": {},
   "outputs": [
    {
     "name": "stdout",
     "output_type": "stream",
     "text": [
      "lift df: 1.235 sec elapsed\n",
      "gains plot: 0.025 sec elapsed\n",
      "auc: 0.011 sec elapsed\n"
     ]
    }
   ],
   "source": [
    "# lift df: 1.63 sec elapsed\n",
    "# gains plot: 0.03 sec elapsed\n",
    "# auc: 0.005 sec elapsed\n",
    "\n",
    "tic(\"lift df\")\n",
    "lift_df_seg_glm_expiry_exptest <- chart_lift(pred_df = seg_glm_expiry_exptest_pred_df,\n",
    "                        dep_var = \"actual\",\n",
    "                        pred_var = \"predicted\")\n",
    "\n",
    "toc()\n",
    "tic(\"gains plot\")\n",
    "gains_plot_seg_glm_expiry_exptest <- plot_gains (lift_df_seg_glm_expiry_exptest) \n",
    "\n",
    "toc()\n",
    "tic(\"auc\")\n",
    "auc_seg_glm_expiry_exptest<- calc_auc(lift_df_seg_glm_expiry_exptest)\n",
    "toc()\n",
    "\n",
    "\n",
    "saveRDS(lift_df_seg_glm_expiry_exptest, file.path('../../data/',\"lift_df_seg_glm_expiry_exptest\"))"
   ]
  },
  {
   "cell_type": "code",
   "execution_count": 153,
   "metadata": {},
   "outputs": [
    {
     "data": {
      "text/html": [
       "<table>\n",
       "<caption>A data.frame: 10 × 4</caption>\n",
       "<thead>\n",
       "\t<tr><th scope=col>P</th><th scope=col>actu_renwd2</th><th scope=col>gain</th><th scope=col>lift</th></tr>\n",
       "\t<tr><th scope=col>&lt;dbl&gt;</th><th scope=col>&lt;int&gt;</th><th scope=col>&lt;dbl&gt;</th><th scope=col>&lt;dbl&gt;</th></tr>\n",
       "</thead>\n",
       "<tbody>\n",
       "\t<tr><td>0.1</td><td>12855</td><td>0.4733935</td><td>4.733935</td></tr>\n",
       "\t<tr><td>0.2</td><td>18703</td><td>0.6887498</td><td>3.443749</td></tr>\n",
       "\t<tr><td>0.3</td><td>21934</td><td>0.8077334</td><td>2.692445</td></tr>\n",
       "\t<tr><td>0.4</td><td>23996</td><td>0.8836678</td><td>2.209170</td></tr>\n",
       "\t<tr><td>0.5</td><td>25222</td><td>0.9288161</td><td>1.857632</td></tr>\n",
       "\t<tr><td>0.6</td><td>25942</td><td>0.9553305</td><td>1.592218</td></tr>\n",
       "\t<tr><td>0.7</td><td>26322</td><td>0.9693242</td><td>1.384749</td></tr>\n",
       "\t<tr><td>0.8</td><td>26584</td><td>0.9789726</td><td>1.223716</td></tr>\n",
       "\t<tr><td>0.9</td><td>26643</td><td>0.9811453</td><td>1.090161</td></tr>\n",
       "\t<tr><td>1.0</td><td>27155</td><td>1.0000000</td><td>1.000000</td></tr>\n",
       "</tbody>\n",
       "</table>\n"
      ],
      "text/latex": [
       "A data.frame: 10 × 4\n",
       "\\begin{tabular}{llll}\n",
       " P & actu\\_renwd2 & gain & lift\\\\\n",
       " <dbl> & <int> & <dbl> & <dbl>\\\\\n",
       "\\hline\n",
       "\t 0.1 & 12855 & 0.4733935 & 4.733935\\\\\n",
       "\t 0.2 & 18703 & 0.6887498 & 3.443749\\\\\n",
       "\t 0.3 & 21934 & 0.8077334 & 2.692445\\\\\n",
       "\t 0.4 & 23996 & 0.8836678 & 2.209170\\\\\n",
       "\t 0.5 & 25222 & 0.9288161 & 1.857632\\\\\n",
       "\t 0.6 & 25942 & 0.9553305 & 1.592218\\\\\n",
       "\t 0.7 & 26322 & 0.9693242 & 1.384749\\\\\n",
       "\t 0.8 & 26584 & 0.9789726 & 1.223716\\\\\n",
       "\t 0.9 & 26643 & 0.9811453 & 1.090161\\\\\n",
       "\t 1.0 & 27155 & 1.0000000 & 1.000000\\\\\n",
       "\\end{tabular}\n"
      ],
      "text/markdown": [
       "\n",
       "A data.frame: 10 × 4\n",
       "\n",
       "| P &lt;dbl&gt; | actu_renwd2 &lt;int&gt; | gain &lt;dbl&gt; | lift &lt;dbl&gt; |\n",
       "|---|---|---|---|\n",
       "| 0.1 | 12855 | 0.4733935 | 4.733935 |\n",
       "| 0.2 | 18703 | 0.6887498 | 3.443749 |\n",
       "| 0.3 | 21934 | 0.8077334 | 2.692445 |\n",
       "| 0.4 | 23996 | 0.8836678 | 2.209170 |\n",
       "| 0.5 | 25222 | 0.9288161 | 1.857632 |\n",
       "| 0.6 | 25942 | 0.9553305 | 1.592218 |\n",
       "| 0.7 | 26322 | 0.9693242 | 1.384749 |\n",
       "| 0.8 | 26584 | 0.9789726 | 1.223716 |\n",
       "| 0.9 | 26643 | 0.9811453 | 1.090161 |\n",
       "| 1.0 | 27155 | 1.0000000 | 1.000000 |\n",
       "\n"
      ],
      "text/plain": [
       "   P   actu_renwd2 gain      lift    \n",
       "1  0.1 12855       0.4733935 4.733935\n",
       "2  0.2 18703       0.6887498 3.443749\n",
       "3  0.3 21934       0.8077334 2.692445\n",
       "4  0.4 23996       0.8836678 2.209170\n",
       "5  0.5 25222       0.9288161 1.857632\n",
       "6  0.6 25942       0.9553305 1.592218\n",
       "7  0.7 26322       0.9693242 1.384749\n",
       "8  0.8 26584       0.9789726 1.223716\n",
       "9  0.9 26643       0.9811453 1.090161\n",
       "10 1.0 27155       1.0000000 1.000000"
      ]
     },
     "metadata": {},
     "output_type": "display_data"
    }
   ],
   "source": [
    "lift_df_seg_glm_expiry_exptest"
   ]
  },
  {
   "cell_type": "code",
   "execution_count": 228,
   "metadata": {},
   "outputs": [
    {
     "data": {
      "text/html": [
       "<strong>png:</strong> 2"
      ],
      "text/latex": [
       "\\textbf{png:} 2"
      ],
      "text/markdown": [
       "**png:** 2"
      ],
      "text/plain": [
       "png \n",
       "  2 "
      ]
     },
     "metadata": {},
     "output_type": "display_data"
    }
   ],
   "source": [
    "plot_multigains_03_summ4 <- plot_multigains(\n",
    "    lift_df_list=list(\n",
    "        rf_newd_ex = lift_df_ranger_03_expiry,\n",
    "        seg_newd_ex = lift_df_seg_glm_expiry_exptest),\n",
    "    auc_list = list(\n",
    "        rf_newd_ex= calc_auc(lift_df_ranger_03_expiry),\n",
    "        seg_newd_ex= calc_auc(lift_df_seg_glm_expiry_exptest)))\n",
    "png(file = \"../../data/output/plot_multigains_03_summ4.png\",\n",
    "    width = 500, height = 375)\n",
    "plot(plot_multigains_03_summ4)\n",
    "dev.off()"
   ]
  },
  {
   "cell_type": "code",
   "execution_count": 229,
   "metadata": {},
   "outputs": [
    {
     "data": {
      "image/png": "[encoded data removed]",
      "text/plain": [
       "plot without title"
      ]
     },
     "metadata": {
      "image/png": {
       "height": 420,
       "width": 420
      },
      "text/plain": {
       "height": 420,
       "width": 420
      }
     },
     "output_type": "display_data"
    }
   ],
   "source": [
    "plot_multigains_03_summ4"
   ]
  },
  {
   "cell_type": "code",
   "execution_count": 230,
   "metadata": {},
   "outputs": [
    {
     "data": {
      "text/html": [
       "<table>\n",
       "<caption>A data.frame: 10 × 3</caption>\n",
       "<thead>\n",
       "\t<tr><th scope=col>pct</th><th scope=col>seg_glm</th><th scope=col>ranger_03</th></tr>\n",
       "\t<tr><th scope=col>&lt;dbl&gt;</th><th scope=col>&lt;dbl&gt;</th><th scope=col>&lt;dbl&gt;</th></tr>\n",
       "</thead>\n",
       "<tbody>\n",
       "\t<tr><td>0.1</td><td>4.733935</td><td>4.294973</td></tr>\n",
       "\t<tr><td>0.2</td><td>3.443749</td><td>3.046400</td></tr>\n",
       "\t<tr><td>0.3</td><td>2.692445</td><td>2.466826</td></tr>\n",
       "\t<tr><td>0.4</td><td>2.209170</td><td>2.104124</td></tr>\n",
       "\t<tr><td>0.5</td><td>1.857632</td><td>1.798932</td></tr>\n",
       "\t<tr><td>0.6</td><td>1.592218</td><td>1.559197</td></tr>\n",
       "\t<tr><td>0.7</td><td>1.384749</td><td>1.381119</td></tr>\n",
       "\t<tr><td>0.8</td><td>1.223716</td><td>1.240886</td></tr>\n",
       "\t<tr><td>0.9</td><td>1.090161</td><td>1.110988</td></tr>\n",
       "\t<tr><td>1.0</td><td>1.000000</td><td>1.000000</td></tr>\n",
       "</tbody>\n",
       "</table>\n"
      ],
      "text/latex": [
       "A data.frame: 10 × 3\n",
       "\\begin{tabular}{lll}\n",
       " pct & seg\\_glm & ranger\\_03\\\\\n",
       " <dbl> & <dbl> & <dbl>\\\\\n",
       "\\hline\n",
       "\t 0.1 & 4.733935 & 4.294973\\\\\n",
       "\t 0.2 & 3.443749 & 3.046400\\\\\n",
       "\t 0.3 & 2.692445 & 2.466826\\\\\n",
       "\t 0.4 & 2.209170 & 2.104124\\\\\n",
       "\t 0.5 & 1.857632 & 1.798932\\\\\n",
       "\t 0.6 & 1.592218 & 1.559197\\\\\n",
       "\t 0.7 & 1.384749 & 1.381119\\\\\n",
       "\t 0.8 & 1.223716 & 1.240886\\\\\n",
       "\t 0.9 & 1.090161 & 1.110988\\\\\n",
       "\t 1.0 & 1.000000 & 1.000000\\\\\n",
       "\\end{tabular}\n"
      ],
      "text/markdown": [
       "\n",
       "A data.frame: 10 × 3\n",
       "\n",
       "| pct &lt;dbl&gt; | seg_glm &lt;dbl&gt; | ranger_03 &lt;dbl&gt; |\n",
       "|---|---|---|\n",
       "| 0.1 | 4.733935 | 4.294973 |\n",
       "| 0.2 | 3.443749 | 3.046400 |\n",
       "| 0.3 | 2.692445 | 2.466826 |\n",
       "| 0.4 | 2.209170 | 2.104124 |\n",
       "| 0.5 | 1.857632 | 1.798932 |\n",
       "| 0.6 | 1.592218 | 1.559197 |\n",
       "| 0.7 | 1.384749 | 1.381119 |\n",
       "| 0.8 | 1.223716 | 1.240886 |\n",
       "| 0.9 | 1.090161 | 1.110988 |\n",
       "| 1.0 | 1.000000 | 1.000000 |\n",
       "\n"
      ],
      "text/plain": [
       "   pct seg_glm  ranger_03\n",
       "1  0.1 4.733935 4.294973 \n",
       "2  0.2 3.443749 3.046400 \n",
       "3  0.3 2.692445 2.466826 \n",
       "4  0.4 2.209170 2.104124 \n",
       "5  0.5 1.857632 1.798932 \n",
       "6  0.6 1.592218 1.559197 \n",
       "7  0.7 1.384749 1.381119 \n",
       "8  0.8 1.223716 1.240886 \n",
       "9  0.9 1.090161 1.110988 \n",
       "10 1.0 1.000000 1.000000 "
      ]
     },
     "metadata": {},
     "output_type": "display_data"
    }
   ],
   "source": [
    "lift_newdata_df <- cbind(lift_df_seg_glm_expiry_exptest[c(\"P\",\"lift\")],lift_df_ranger_03_expiry[c(\"lift\")])\n",
    "names(lift_newdata_df) <- c(\"pct\",\"seg_glm\",\"ranger_03\")\n",
    "lift_newdata_df\n"
   ]
  },
  {
   "cell_type": "markdown",
   "metadata": {},
   "source": [
    "# Confusion Matrices"
   ]
  },
  {
   "cell_type": "code",
   "execution_count": 231,
   "metadata": {},
   "outputs": [],
   "source": [
    "CM_thresh_test <- function (actual, predicted, thresh){\n",
    "    predicted <- as.factor(predicted>thresh)\n",
    "    actual <- as.factor(actual==\"Renewed\")\n",
    "    confusionMatrix(predicted,actual, positive=\"TRUE\")\n",
    "}"
   ]
  },
  {
   "cell_type": "code",
   "execution_count": 232,
   "metadata": {},
   "outputs": [],
   "source": [
    "results5 <- CM_thresh_test(expiry_test_df_1$renewal_status,\n",
    "                           seg_glm_expiry_exptest$first_renewal_prediction,\n",
    "                           .5)\n",
    "cm5 <- as.table(results5)\n",
    "df5 <- as.matrix(results5, what = \"classes\")\n",
    "\n",
    "results6 <- CM_thresh_test(expiry_test_df_1$renewal_status,\n",
    "                           ranger_predict_03_expiry,\n",
    "                           .5)\n",
    "cm6 <- as.table(results6)\n",
    "df6 <- as.matrix(results6, what = \"classes\")"
   ]
  },
  {
   "cell_type": "code",
   "execution_count": 233,
   "metadata": {},
   "outputs": [
    {
     "data": {
      "text/html": [
       "<table>\n",
       "<caption>A data.frame: 11 × 2</caption>\n",
       "<thead>\n",
       "\t<tr><th></th><th scope=col>seg_glm</th><th scope=col>ranger_03</th></tr>\n",
       "\t<tr><th></th><th scope=col>&lt;dbl&gt;</th><th scope=col>&lt;dbl&gt;</th></tr>\n",
       "</thead>\n",
       "<tbody>\n",
       "\t<tr><th scope=row>Sensitivity</th><td>0.21552878</td><td>0.11946235</td></tr>\n",
       "\t<tr><th scope=row>Specificity</th><td>0.98235344</td><td>0.98952685</td></tr>\n",
       "\t<tr><th scope=row>Pos Pred Value</th><td>0.55016611</td><td>0.53460778</td></tr>\n",
       "\t<tr><th scope=row>Neg Pred Value</th><td>0.92595505</td><td>0.91775502</td></tr>\n",
       "\t<tr><th scope=row>Precision</th><td>0.55016611</td><td>0.53460778</td></tr>\n",
       "\t<tr><th scope=row>Recall</th><td>0.21552878</td><td>0.11946235</td></tr>\n",
       "\t<tr><th scope=row>F1</th><td>0.30972293</td><td>0.19528640</td></tr>\n",
       "\t<tr><th scope=row>Prevalence</th><td>0.09102263</td><td>0.09149351</td></tr>\n",
       "\t<tr><th scope=row>Detection Rate</th><td>0.01961800</td><td>0.01093003</td></tr>\n",
       "\t<tr><th scope=row>Detection Prevalence</th><td>0.03565832</td><td>0.02044495</td></tr>\n",
       "\t<tr><th scope=row>Balanced Accuracy</th><td>0.59894111</td><td>0.55449460</td></tr>\n",
       "</tbody>\n",
       "</table>\n"
      ],
      "text/latex": [
       "A data.frame: 11 × 2\n",
       "\\begin{tabular}{r|ll}\n",
       "  & seg\\_glm & ranger\\_03\\\\\n",
       "  & <dbl> & <dbl>\\\\\n",
       "\\hline\n",
       "\tSensitivity & 0.21552878 & 0.11946235\\\\\n",
       "\tSpecificity & 0.98235344 & 0.98952685\\\\\n",
       "\tPos Pred Value & 0.55016611 & 0.53460778\\\\\n",
       "\tNeg Pred Value & 0.92595505 & 0.91775502\\\\\n",
       "\tPrecision & 0.55016611 & 0.53460778\\\\\n",
       "\tRecall & 0.21552878 & 0.11946235\\\\\n",
       "\tF1 & 0.30972293 & 0.19528640\\\\\n",
       "\tPrevalence & 0.09102263 & 0.09149351\\\\\n",
       "\tDetection Rate & 0.01961800 & 0.01093003\\\\\n",
       "\tDetection Prevalence & 0.03565832 & 0.02044495\\\\\n",
       "\tBalanced Accuracy & 0.59894111 & 0.55449460\\\\\n",
       "\\end{tabular}\n"
      ],
      "text/markdown": [
       "\n",
       "A data.frame: 11 × 2\n",
       "\n",
       "| <!--/--> | seg_glm &lt;dbl&gt; | ranger_03 &lt;dbl&gt; |\n",
       "|---|---|---|\n",
       "| Sensitivity | 0.21552878 | 0.11946235 |\n",
       "| Specificity | 0.98235344 | 0.98952685 |\n",
       "| Pos Pred Value | 0.55016611 | 0.53460778 |\n",
       "| Neg Pred Value | 0.92595505 | 0.91775502 |\n",
       "| Precision | 0.55016611 | 0.53460778 |\n",
       "| Recall | 0.21552878 | 0.11946235 |\n",
       "| F1 | 0.30972293 | 0.19528640 |\n",
       "| Prevalence | 0.09102263 | 0.09149351 |\n",
       "| Detection Rate | 0.01961800 | 0.01093003 |\n",
       "| Detection Prevalence | 0.03565832 | 0.02044495 |\n",
       "| Balanced Accuracy | 0.59894111 | 0.55449460 |\n",
       "\n"
      ],
      "text/plain": [
       "                     seg_glm    ranger_03 \n",
       "Sensitivity          0.21552878 0.11946235\n",
       "Specificity          0.98235344 0.98952685\n",
       "Pos Pred Value       0.55016611 0.53460778\n",
       "Neg Pred Value       0.92595505 0.91775502\n",
       "Precision            0.55016611 0.53460778\n",
       "Recall               0.21552878 0.11946235\n",
       "F1                   0.30972293 0.19528640\n",
       "Prevalence           0.09102263 0.09149351\n",
       "Detection Rate       0.01961800 0.01093003\n",
       "Detection Prevalence 0.03565832 0.02044495\n",
       "Balanced Accuracy    0.59894111 0.55449460"
      ]
     },
     "metadata": {},
     "output_type": "display_data"
    }
   ],
   "source": [
    "perf_newdata_df <- cbind(as.data.frame(df5),as.data.frame(df6))\n",
    "names(perf_newdata_df) <- c(\"seg_glm\",\"ranger_03\")\n",
    "perf_newdata_df"
   ]
  },
  {
   "cell_type": "code",
   "execution_count": 234,
   "metadata": {},
   "outputs": [
    {
     "data": {
      "text/plain": [
       "          Reference\n",
       "Prediction  FALSE   TRUE\n",
       "     FALSE 263812  21096\n",
       "     TRUE    4739   5796"
      ]
     },
     "metadata": {},
     "output_type": "display_data"
    },
    {
     "data": {
      "text/plain": [
       "          Reference\n",
       "Prediction  FALSE   TRUE\n",
       "     FALSE 266818  23911\n",
       "     TRUE    2824   3244"
      ]
     },
     "metadata": {},
     "output_type": "display_data"
    }
   ],
   "source": [
    "cm5\n",
    "cm6"
   ]
  },
  {
   "cell_type": "code",
   "execution_count": null,
   "metadata": {},
   "outputs": [],
   "source": []
  },
  {
   "cell_type": "code",
   "execution_count": null,
   "metadata": {},
   "outputs": [],
   "source": []
  },
  {
   "cell_type": "markdown",
   "metadata": {},
   "source": [
    "# but ultimately, client fills NA's with data from \"fallback tables\", which would improve performance. asked client for script"
   ]
  },
  {
   "cell_type": "code",
   "execution_count": 67,
   "metadata": {},
   "outputs": [],
   "source": [
    "# from /scripts/nedata_202005/explore\n",
    "\n",
    "system(\"gsutil cp gs://data_input/npv_fallback_tables /home/jupyter/local/Domains_202003/data/npv_fallback_tables\")"
   ]
  },
  {
   "cell_type": "code",
   "execution_count": 68,
   "metadata": {},
   "outputs": [
    {
     "data": {
      "text/html": [
       "<style>\n",
       ".list-inline {list-style: none; margin:0; padding: 0}\n",
       ".list-inline>li {display: inline-block}\n",
       ".list-inline>li:not(:last-child)::after {content: \"\\00b7\"; padding: 0 .5ex}\n",
       "</style>\n",
       "<ol class=list-inline><li>'npv_fallback_first_final'</li><li>'npv_fallback_first_geo_arpt'</li><li>'npv_fallback_first_geo_arpt_tld'</li><li>'npv_fallback_first_tld_arpt'</li><li>'npv_fallback_second_final'</li><li>'npv_fallback_second_geo'</li><li>'npv_fallback_second_tld_geo'</li><li>'npv_fallback_third_final'</li><li>'npv_fallback_third_geo'</li><li>'npv_fallback_third_tld_geo'</li></ol>\n"
      ],
      "text/latex": [
       "\\begin{enumerate*}\n",
       "\\item 'npv\\_fallback\\_first\\_final'\n",
       "\\item 'npv\\_fallback\\_first\\_geo\\_arpt'\n",
       "\\item 'npv\\_fallback\\_first\\_geo\\_arpt\\_tld'\n",
       "\\item 'npv\\_fallback\\_first\\_tld\\_arpt'\n",
       "\\item 'npv\\_fallback\\_second\\_final'\n",
       "\\item 'npv\\_fallback\\_second\\_geo'\n",
       "\\item 'npv\\_fallback\\_second\\_tld\\_geo'\n",
       "\\item 'npv\\_fallback\\_third\\_final'\n",
       "\\item 'npv\\_fallback\\_third\\_geo'\n",
       "\\item 'npv\\_fallback\\_third\\_tld\\_geo'\n",
       "\\end{enumerate*}\n"
      ],
      "text/markdown": [
       "1. 'npv_fallback_first_final'\n",
       "2. 'npv_fallback_first_geo_arpt'\n",
       "3. 'npv_fallback_first_geo_arpt_tld'\n",
       "4. 'npv_fallback_first_tld_arpt'\n",
       "5. 'npv_fallback_second_final'\n",
       "6. 'npv_fallback_second_geo'\n",
       "7. 'npv_fallback_second_tld_geo'\n",
       "8. 'npv_fallback_third_final'\n",
       "9. 'npv_fallback_third_geo'\n",
       "10. 'npv_fallback_third_tld_geo'\n",
       "\n",
       "\n"
      ],
      "text/plain": [
       " [1] \"npv_fallback_first_final\"        \"npv_fallback_first_geo_arpt\"    \n",
       " [3] \"npv_fallback_first_geo_arpt_tld\" \"npv_fallback_first_tld_arpt\"    \n",
       " [5] \"npv_fallback_second_final\"       \"npv_fallback_second_geo\"        \n",
       " [7] \"npv_fallback_second_tld_geo\"     \"npv_fallback_third_final\"       \n",
       " [9] \"npv_fallback_third_geo\"          \"npv_fallback_third_tld_geo\"     "
      ]
     },
     "metadata": {},
     "output_type": "display_data"
    }
   ],
   "source": [
    "# npv_fallback_tables\t\n",
    "#   fallback tables where we dont have enough training \n",
    "#   data for a particular tld-registrar combination\n",
    "\n",
    "npv_fallback_names <- load(\"/home/jupyter/local/Domains_202003/data/npv_fallback_tables\")\n",
    "npv_fallback_names"
   ]
  },
  {
   "cell_type": "code",
   "execution_count": 64,
   "metadata": {},
   "outputs": [],
   "source": [
    "# [1] \"npv_fallback_first_final\"        \"npv_fallback_first_geo_arpt\"    \n",
    "# [3] \"npv_fallback_first_geo_arpt_tld\" \"npv_fallback_first_tld_arpt\"    \n",
    "# [5] \"npv_fallback_second_final\"       \"npv_fallback_second_geo\"        \n",
    "# [7] \"npv_fallback_second_tld_geo\"     \"npv_fallback_third_final\"       \n",
    "# [9] \"npv_fallback_third_geo\"          \"npv_fallback_third_tld_geo\" "
   ]
  },
  {
   "cell_type": "code",
   "execution_count": 69,
   "metadata": {},
   "outputs": [
    {
     "data": {
      "text/html": [
       "<table>\n",
       "<caption>A grouped_df: 6 × 6</caption>\n",
       "<thead>\n",
       "\t<tr><th scope=col>region</th><th scope=col>reg_arpt_slab</th><th scope=col>expiring_domains</th><th scope=col>renewed_domains</th><th scope=col>renewal_rate</th><th scope=col>index</th></tr>\n",
       "\t<tr><th scope=col>&lt;chr&gt;</th><th scope=col>&lt;fct&gt;</th><th scope=col>&lt;int&gt;</th><th scope=col>&lt;int&gt;</th><th scope=col>&lt;dbl&gt;</th><th scope=col>&lt;chr&gt;</th></tr>\n",
       "</thead>\n",
       "<tbody>\n",
       "\t<tr><td>China</td><td>(-Inf,0]</td><td> 35669</td><td> 2139</td><td>0.060</td><td>China(-Inf,0]</td></tr>\n",
       "\t<tr><td>China</td><td>(0,1]   </td><td>536645</td><td>11052</td><td>0.021</td><td>China(0,1]   </td></tr>\n",
       "\t<tr><td>China</td><td>(1,3]   </td><td> 84869</td><td>12063</td><td>0.142</td><td>China(1,3]   </td></tr>\n",
       "\t<tr><td>China</td><td>(3,5]   </td><td>  1356</td><td>  340</td><td>0.251</td><td>China(3,5]   </td></tr>\n",
       "\t<tr><td>China</td><td>(5,10]  </td><td>   177</td><td>   36</td><td>0.203</td><td>China(5,10]  </td></tr>\n",
       "\t<tr><td>China</td><td>(10,15] </td><td>   427</td><td>  122</td><td>0.286</td><td>China(10,15] </td></tr>\n",
       "</tbody>\n",
       "</table>\n"
      ],
      "text/latex": [
       "A grouped\\_df: 6 × 6\n",
       "\\begin{tabular}{llllll}\n",
       " region & reg\\_arpt\\_slab & expiring\\_domains & renewed\\_domains & renewal\\_rate & index\\\\\n",
       " <chr> & <fct> & <int> & <int> & <dbl> & <chr>\\\\\n",
       "\\hline\n",
       "\t China & (-Inf,0{]} &  35669 &  2139 & 0.060 & China(-Inf,0{]}\\\\\n",
       "\t China & (0,1{]}    & 536645 & 11052 & 0.021 & China(0,1{]}   \\\\\n",
       "\t China & (1,3{]}    &  84869 & 12063 & 0.142 & China(1,3{]}   \\\\\n",
       "\t China & (3,5{]}    &   1356 &   340 & 0.251 & China(3,5{]}   \\\\\n",
       "\t China & (5,10{]}   &    177 &    36 & 0.203 & China(5,10{]}  \\\\\n",
       "\t China & (10,15{]}  &    427 &   122 & 0.286 & China(10,15{]} \\\\\n",
       "\\end{tabular}\n"
      ],
      "text/markdown": [
       "\n",
       "A grouped_df: 6 × 6\n",
       "\n",
       "| region &lt;chr&gt; | reg_arpt_slab &lt;fct&gt; | expiring_domains &lt;int&gt; | renewed_domains &lt;int&gt; | renewal_rate &lt;dbl&gt; | index &lt;chr&gt; |\n",
       "|---|---|---|---|---|---|\n",
       "| China | (-Inf,0] |  35669 |  2139 | 0.060 | China(-Inf,0] |\n",
       "| China | (0,1]    | 536645 | 11052 | 0.021 | China(0,1]    |\n",
       "| China | (1,3]    |  84869 | 12063 | 0.142 | China(1,3]    |\n",
       "| China | (3,5]    |   1356 |   340 | 0.251 | China(3,5]    |\n",
       "| China | (5,10]   |    177 |    36 | 0.203 | China(5,10]   |\n",
       "| China | (10,15]  |    427 |   122 | 0.286 | China(10,15]  |\n",
       "\n"
      ],
      "text/plain": [
       "  region reg_arpt_slab expiring_domains renewed_domains renewal_rate\n",
       "1 China  (-Inf,0]       35669            2139           0.060       \n",
       "2 China  (0,1]         536645           11052           0.021       \n",
       "3 China  (1,3]          84869           12063           0.142       \n",
       "4 China  (3,5]           1356             340           0.251       \n",
       "5 China  (5,10]           177              36           0.203       \n",
       "6 China  (10,15]          427             122           0.286       \n",
       "  index        \n",
       "1 China(-Inf,0]\n",
       "2 China(0,1]   \n",
       "3 China(1,3]   \n",
       "4 China(3,5]   \n",
       "5 China(5,10]  \n",
       "6 China(10,15] "
      ]
     },
     "metadata": {},
     "output_type": "display_data"
    }
   ],
   "source": [
    "head(npv_fallback_first_final)"
   ]
  },
  {
   "cell_type": "code",
   "execution_count": 64,
   "metadata": {},
   "outputs": [
    {
     "name": "stderr",
     "output_type": "stream",
     "text": [
      "Warning message in readChar(con, 5L, useBytes = TRUE):\n",
      "“cannot open compressed file '/home/jupyter/local/Domains_202003/data/npv_fallback_tables', probable reason 'No such file or directory'”\n"
     ]
    },
    {
     "ename": "ERROR",
     "evalue": "Error in readChar(con, 5L, useBytes = TRUE): cannot open the connection\n",
     "output_type": "error",
     "traceback": [
      "Error in readChar(con, 5L, useBytes = TRUE): cannot open the connection\nTraceback:\n",
      "1. load(\"/home/jupyter/local/Domains_202003/data/npv_fallback_tables\")",
      "2. readChar(con, 5L, useBytes = TRUE)"
     ]
    }
   ],
   "source": [
    "# Questions:\n",
    "# not enough training means we also don't have \"day_domains\"?\n",
    "# npv_fallback_first_final, _geo_arpt? renewal rate by country & buy price\n",
    "# npv_fallback_first_final$reg_arpt_slab? reg_arpt: the price at which the domain is bought by the reseller \n",
    "\n",
    "# Using a decision tree means you don't need to retrain a model but we can do better than simply using a \"fall back table\" -- can we confirm this with historical data?"
   ]
  },
  {
   "cell_type": "markdown",
   "metadata": {},
   "source": [
    "# Variable importance"
   ]
  },
  {
   "cell_type": "code",
   "execution_count": 38,
   "metadata": {},
   "outputs": [],
   "source": [
    "# load(\"../../data/output/ranger_03_expiry\") # new expiry data\n",
    "load(\"../../data/ranger_03\") # original data"
   ]
  },
  {
   "cell_type": "code",
   "execution_count": 47,
   "metadata": {},
   "outputs": [
    {
     "data": {
      "text/html": [
       "<table>\n",
       "<caption>A data.frame: 12 × 1</caption>\n",
       "<thead>\n",
       "\t<tr><th></th><th scope=col>round(sort(ranger_03_expiry$variable.importance, decreasing = TRUE), 0)</th></tr>\n",
       "\t<tr><th></th><th scope=col>&lt;dbl&gt;</th></tr>\n",
       "</thead>\n",
       "<tbody>\n",
       "\t<tr><th scope=row>reg_arpt</th><td>265675</td></tr>\n",
       "\t<tr><th scope=row>day_domains</th><td>120616</td></tr>\n",
       "\t<tr><th scope=row>gibb_score</th><td> 99629</td></tr>\n",
       "\t<tr><th scope=row>sld_length</th><td> 43497</td></tr>\n",
       "\t<tr><th scope=row>reseller</th><td> 26344</td></tr>\n",
       "\t<tr><th scope=row>registrar</th><td> 21450</td></tr>\n",
       "\t<tr><th scope=row>pattern_domain_count</th><td> 19572</td></tr>\n",
       "\t<tr><th scope=row>tld</th><td> 17826</td></tr>\n",
       "\t<tr><th scope=row>reseller_country</th><td> 15428</td></tr>\n",
       "\t<tr><th scope=row>sld_type</th><td> 12934</td></tr>\n",
       "\t<tr><th scope=row>reg_period</th><td>  2316</td></tr>\n",
       "\t<tr><th scope=row>region</th><td>  1044</td></tr>\n",
       "</tbody>\n",
       "</table>\n"
      ],
      "text/latex": [
       "A data.frame: 12 × 1\n",
       "\\begin{tabular}{r|l}\n",
       "  & round(sort(ranger\\_03\\_expiry\\$variable.importance, decreasing = TRUE), 0)\\\\\n",
       "  & <dbl>\\\\\n",
       "\\hline\n",
       "\treg\\_arpt & 265675\\\\\n",
       "\tday\\_domains & 120616\\\\\n",
       "\tgibb\\_score &  99629\\\\\n",
       "\tsld\\_length &  43497\\\\\n",
       "\treseller &  26344\\\\\n",
       "\tregistrar &  21450\\\\\n",
       "\tpattern\\_domain\\_count &  19572\\\\\n",
       "\ttld &  17826\\\\\n",
       "\treseller\\_country &  15428\\\\\n",
       "\tsld\\_type &  12934\\\\\n",
       "\treg\\_period &   2316\\\\\n",
       "\tregion &   1044\\\\\n",
       "\\end{tabular}\n"
      ],
      "text/markdown": [
       "\n",
       "A data.frame: 12 × 1\n",
       "\n",
       "| <!--/--> | round(sort(ranger_03_expiry$variable.importance, decreasing = TRUE), 0) &lt;dbl&gt; |\n",
       "|---|---|\n",
       "| reg_arpt | 265675 |\n",
       "| day_domains | 120616 |\n",
       "| gibb_score |  99629 |\n",
       "| sld_length |  43497 |\n",
       "| reseller |  26344 |\n",
       "| registrar |  21450 |\n",
       "| pattern_domain_count |  19572 |\n",
       "| tld |  17826 |\n",
       "| reseller_country |  15428 |\n",
       "| sld_type |  12934 |\n",
       "| reg_period |   2316 |\n",
       "| region |   1044 |\n",
       "\n"
      ],
      "text/plain": [
       "                     round(sort(ranger_03_expiry$variable.importance, decreasing = TRUE), 0)\n",
       "reg_arpt             265675                                                                 \n",
       "day_domains          120616                                                                 \n",
       "gibb_score            99629                                                                 \n",
       "sld_length            43497                                                                 \n",
       "reseller              26344                                                                 \n",
       "registrar             21450                                                                 \n",
       "pattern_domain_count  19572                                                                 \n",
       "tld                   17826                                                                 \n",
       "reseller_country      15428                                                                 \n",
       "sld_type              12934                                                                 \n",
       "reg_period             2316                                                                 \n",
       "region                 1044                                                                 "
      ]
     },
     "metadata": {},
     "output_type": "display_data"
    }
   ],
   "source": [
    "as.data.frame(round(sort(ranger_03_expiry$variable.importance, decreasing=TRUE),0))"
   ]
  },
  {
   "cell_type": "code",
   "execution_count": 46,
   "metadata": {},
   "outputs": [
    {
     "data": {
      "text/html": [
       "<table>\n",
       "<caption>A data.frame: 11 × 1</caption>\n",
       "<thead>\n",
       "\t<tr><th></th><th scope=col>round(sort(ranger_03$variable.importance, decreasing = TRUE), 0)</th></tr>\n",
       "\t<tr><th></th><th scope=col>&lt;dbl&gt;</th></tr>\n",
       "</thead>\n",
       "<tbody>\n",
       "\t<tr><th scope=row>day_domains</th><td>92600</td></tr>\n",
       "\t<tr><th scope=row>gibb_score</th><td>86059</td></tr>\n",
       "\t<tr><th scope=row>sld_length</th><td>28108</td></tr>\n",
       "\t<tr><th scope=row>tld</th><td>25682</td></tr>\n",
       "\t<tr><th scope=row>pattern_domain_count</th><td>15233</td></tr>\n",
       "\t<tr><th scope=row>sld_type</th><td>12202</td></tr>\n",
       "\t<tr><th scope=row>reg_period</th><td>10154</td></tr>\n",
       "\t<tr><th scope=row>registrar</th><td> 8546</td></tr>\n",
       "\t<tr><th scope=row>reseller</th><td> 8537</td></tr>\n",
       "\t<tr><th scope=row>reseller_country</th><td> 1414</td></tr>\n",
       "\t<tr><th scope=row>region</th><td>    0</td></tr>\n",
       "</tbody>\n",
       "</table>\n"
      ],
      "text/latex": [
       "A data.frame: 11 × 1\n",
       "\\begin{tabular}{r|l}\n",
       "  & round(sort(ranger\\_03\\$variable.importance, decreasing = TRUE), 0)\\\\\n",
       "  & <dbl>\\\\\n",
       "\\hline\n",
       "\tday\\_domains & 92600\\\\\n",
       "\tgibb\\_score & 86059\\\\\n",
       "\tsld\\_length & 28108\\\\\n",
       "\ttld & 25682\\\\\n",
       "\tpattern\\_domain\\_count & 15233\\\\\n",
       "\tsld\\_type & 12202\\\\\n",
       "\treg\\_period & 10154\\\\\n",
       "\tregistrar &  8546\\\\\n",
       "\treseller &  8537\\\\\n",
       "\treseller\\_country &  1414\\\\\n",
       "\tregion &     0\\\\\n",
       "\\end{tabular}\n"
      ],
      "text/markdown": [
       "\n",
       "A data.frame: 11 × 1\n",
       "\n",
       "| <!--/--> | round(sort(ranger_03$variable.importance, decreasing = TRUE), 0) &lt;dbl&gt; |\n",
       "|---|---|\n",
       "| day_domains | 92600 |\n",
       "| gibb_score | 86059 |\n",
       "| sld_length | 28108 |\n",
       "| tld | 25682 |\n",
       "| pattern_domain_count | 15233 |\n",
       "| sld_type | 12202 |\n",
       "| reg_period | 10154 |\n",
       "| registrar |  8546 |\n",
       "| reseller |  8537 |\n",
       "| reseller_country |  1414 |\n",
       "| region |     0 |\n",
       "\n"
      ],
      "text/plain": [
       "                     round(sort(ranger_03$variable.importance, decreasing = TRUE), 0)\n",
       "day_domains          92600                                                           \n",
       "gibb_score           86059                                                           \n",
       "sld_length           28108                                                           \n",
       "tld                  25682                                                           \n",
       "pattern_domain_count 15233                                                           \n",
       "sld_type             12202                                                           \n",
       "reg_period           10154                                                           \n",
       "registrar             8546                                                           \n",
       "reseller              8537                                                           \n",
       "reseller_country      1414                                                           \n",
       "region                   0                                                           "
      ]
     },
     "metadata": {},
     "output_type": "display_data"
    }
   ],
   "source": [
    "as.data.frame(round(sort(ranger_03$variable.importance, decreasing=TRUE),0))"
   ]
  },
  {
   "cell_type": "markdown",
   "metadata": {},
   "source": [
    "# Subset where renew_status is not missing"
   ]
  },
  {
   "cell_type": "code",
   "execution_count": 31,
   "metadata": {},
   "outputs": [
    {
     "data": {
      "text/html": [
       "<table>\n",
       "<caption>A data.frame: 39 × 1</caption>\n",
       "<thead>\n",
       "\t<tr><th></th><th scope=col>V1</th></tr>\n",
       "\t<tr><th></th><th scope=col>&lt;int&gt;</th></tr>\n",
       "</thead>\n",
       "<tbody>\n",
       "\t<tr><th scope=row>renewal_type</th><td>      0</td></tr>\n",
       "\t<tr><th scope=row>renewed_count</th><td>      0</td></tr>\n",
       "\t<tr><th scope=row>expiry_date</th><td>      0</td></tr>\n",
       "\t<tr><th scope=row>domain_id</th><td>      0</td></tr>\n",
       "\t<tr><th scope=row>domain</th><td>      0</td></tr>\n",
       "\t<tr><th scope=row>creation_date</th><td>      0</td></tr>\n",
       "\t<tr><th scope=row>status</th><td>      0</td></tr>\n",
       "\t<tr><th scope=row>tld</th><td>      0</td></tr>\n",
       "\t<tr><th scope=row>registrar</th><td>      0</td></tr>\n",
       "\t<tr><th scope=row>reseller</th><td>      0</td></tr>\n",
       "\t<tr><th scope=row>reseller_country</th><td>      0</td></tr>\n",
       "\t<tr><th scope=row>region</th><td>      0</td></tr>\n",
       "\t<tr><th scope=row>reg_period</th><td>      0</td></tr>\n",
       "\t<tr><th scope=row>registrant_country</th><td>1393474</td></tr>\n",
       "\t<tr><th scope=row>renewal_status</th><td>      0</td></tr>\n",
       "\t<tr><th scope=row>renew_mbg</th><td>      7</td></tr>\n",
       "\t<tr><th scope=row>renew_type</th><td>  36978</td></tr>\n",
       "\t<tr><th scope=row>autorenew_type</th><td> 394962</td></tr>\n",
       "\t<tr><th scope=row>renew_date</th><td>  37004</td></tr>\n",
       "\t<tr><th scope=row>renew_registrar</th><td>      5</td></tr>\n",
       "\t<tr><th scope=row>renew_reseller</th><td>      5</td></tr>\n",
       "\t<tr><th scope=row>reg_revenue</th><td>      0</td></tr>\n",
       "\t<tr><th scope=row>reg_arpt</th><td>      0</td></tr>\n",
       "\t<tr><th scope=row>renew_period</th><td>  37004</td></tr>\n",
       "\t<tr><th scope=row>renew_domain_revenue</th><td>   4879</td></tr>\n",
       "\t<tr><th scope=row>renew_arpt</th><td>  37008</td></tr>\n",
       "\t<tr><th scope=row>reg_arpt_org</th><td>      1</td></tr>\n",
       "\t<tr><th scope=row>tld_registrar_index</th><td>      0</td></tr>\n",
       "\t<tr><th scope=row>sld</th><td>      0</td></tr>\n",
       "\t<tr><th scope=row>sld_type</th><td>      0</td></tr>\n",
       "\t<tr><th scope=row>sld_length</th><td>      0</td></tr>\n",
       "\t<tr><th scope=row>sld_type2</th><td>      0</td></tr>\n",
       "\t<tr><th scope=row>day_domains</th><td>      0</td></tr>\n",
       "\t<tr><th scope=row>log_reg_arpt</th><td>      0</td></tr>\n",
       "\t<tr><th scope=row>gibb_score</th><td>      0</td></tr>\n",
       "\t<tr><th scope=row>cluster</th><td>      0</td></tr>\n",
       "\t<tr><th scope=row>pattern</th><td>      0</td></tr>\n",
       "\t<tr><th scope=row>pattern_score</th><td>      0</td></tr>\n",
       "\t<tr><th scope=row>pattern_domain_count</th><td>      0</td></tr>\n",
       "</tbody>\n",
       "</table>\n"
      ],
      "text/latex": [
       "A data.frame: 39 × 1\n",
       "\\begin{tabular}{r|l}\n",
       "  & V1\\\\\n",
       "  & <int>\\\\\n",
       "\\hline\n",
       "\trenewal\\_type &       0\\\\\n",
       "\trenewed\\_count &       0\\\\\n",
       "\texpiry\\_date &       0\\\\\n",
       "\tdomain\\_id &       0\\\\\n",
       "\tdomain &       0\\\\\n",
       "\tcreation\\_date &       0\\\\\n",
       "\tstatus &       0\\\\\n",
       "\ttld &       0\\\\\n",
       "\tregistrar &       0\\\\\n",
       "\treseller &       0\\\\\n",
       "\treseller\\_country &       0\\\\\n",
       "\tregion &       0\\\\\n",
       "\treg\\_period &       0\\\\\n",
       "\tregistrant\\_country & 1393474\\\\\n",
       "\trenewal\\_status &       0\\\\\n",
       "\trenew\\_mbg &       7\\\\\n",
       "\trenew\\_type &   36978\\\\\n",
       "\tautorenew\\_type &  394962\\\\\n",
       "\trenew\\_date &   37004\\\\\n",
       "\trenew\\_registrar &       5\\\\\n",
       "\trenew\\_reseller &       5\\\\\n",
       "\treg\\_revenue &       0\\\\\n",
       "\treg\\_arpt &       0\\\\\n",
       "\trenew\\_period &   37004\\\\\n",
       "\trenew\\_domain\\_revenue &    4879\\\\\n",
       "\trenew\\_arpt &   37008\\\\\n",
       "\treg\\_arpt\\_org &       1\\\\\n",
       "\ttld\\_registrar\\_index &       0\\\\\n",
       "\tsld &       0\\\\\n",
       "\tsld\\_type &       0\\\\\n",
       "\tsld\\_length &       0\\\\\n",
       "\tsld\\_type2 &       0\\\\\n",
       "\tday\\_domains &       0\\\\\n",
       "\tlog\\_reg\\_arpt &       0\\\\\n",
       "\tgibb\\_score &       0\\\\\n",
       "\tcluster &       0\\\\\n",
       "\tpattern &       0\\\\\n",
       "\tpattern\\_score &       0\\\\\n",
       "\tpattern\\_domain\\_count &       0\\\\\n",
       "\\end{tabular}\n"
      ],
      "text/markdown": [
       "\n",
       "A data.frame: 39 × 1\n",
       "\n",
       "| <!--/--> | V1 &lt;int&gt; |\n",
       "|---|---|\n",
       "| renewal_type |       0 |\n",
       "| renewed_count |       0 |\n",
       "| expiry_date |       0 |\n",
       "| domain_id |       0 |\n",
       "| domain |       0 |\n",
       "| creation_date |       0 |\n",
       "| status |       0 |\n",
       "| tld |       0 |\n",
       "| registrar |       0 |\n",
       "| reseller |       0 |\n",
       "| reseller_country |       0 |\n",
       "| region |       0 |\n",
       "| reg_period |       0 |\n",
       "| registrant_country | 1393474 |\n",
       "| renewal_status |       0 |\n",
       "| renew_mbg |       7 |\n",
       "| renew_type |   36978 |\n",
       "| autorenew_type |  394962 |\n",
       "| renew_date |   37004 |\n",
       "| renew_registrar |       5 |\n",
       "| renew_reseller |       5 |\n",
       "| reg_revenue |       0 |\n",
       "| reg_arpt |       0 |\n",
       "| renew_period |   37004 |\n",
       "| renew_domain_revenue |    4879 |\n",
       "| renew_arpt |   37008 |\n",
       "| reg_arpt_org |       1 |\n",
       "| tld_registrar_index |       0 |\n",
       "| sld |       0 |\n",
       "| sld_type |       0 |\n",
       "| sld_length |       0 |\n",
       "| sld_type2 |       0 |\n",
       "| day_domains |       0 |\n",
       "| log_reg_arpt |       0 |\n",
       "| gibb_score |       0 |\n",
       "| cluster |       0 |\n",
       "| pattern |       0 |\n",
       "| pattern_score |       0 |\n",
       "| pattern_domain_count |       0 |\n",
       "\n"
      ],
      "text/plain": [
       "                     V1     \n",
       "renewal_type               0\n",
       "renewed_count              0\n",
       "expiry_date                0\n",
       "domain_id                  0\n",
       "domain                     0\n",
       "creation_date              0\n",
       "status                     0\n",
       "tld                        0\n",
       "registrar                  0\n",
       "reseller                   0\n",
       "reseller_country           0\n",
       "region                     0\n",
       "reg_period                 0\n",
       "registrant_country   1393474\n",
       "renewal_status             0\n",
       "renew_mbg                  7\n",
       "renew_type             36978\n",
       "autorenew_type        394962\n",
       "renew_date             37004\n",
       "renew_registrar            5\n",
       "renew_reseller             5\n",
       "reg_revenue                0\n",
       "reg_arpt                   0\n",
       "renew_period           37004\n",
       "renew_domain_revenue    4879\n",
       "renew_arpt             37008\n",
       "reg_arpt_org               1\n",
       "tld_registrar_index        0\n",
       "sld                        0\n",
       "sld_type                   0\n",
       "sld_length                 0\n",
       "sld_type2                  0\n",
       "day_domains                0\n",
       "log_reg_arpt               0\n",
       "gibb_score                 0\n",
       "cluster                    0\n",
       "pattern                    0\n",
       "pattern_score              0\n",
       "pattern_domain_count       0"
      ]
     },
     "metadata": {},
     "output_type": "display_data"
    }
   ],
   "source": [
    "# na_train_df <- expiry_train_df  %>% \n",
    "#  summarise_all(~ sum(is.na(.)))  %>% \n",
    "#  t()  %>%  as.data.frame()\n",
    "# na_train_df <- na_train_df[na_train_df$V1>0]\n",
    "na_train_df"
   ]
  },
  {
   "cell_type": "markdown",
   "metadata": {},
   "source": [
    "# Explore renewal type var"
   ]
  },
  {
   "cell_type": "code",
   "execution_count": 32,
   "metadata": {},
   "outputs": [
    {
     "data": {
      "text/plain": [
       ".\n",
       " FirstTime     Second Subsequent \n",
       "0.85217941 0.07805483 0.06976576 "
      ]
     },
     "metadata": {},
     "output_type": "display_data"
    }
   ],
   "source": [
    "expiry_train_df$renewal_type %>% table() %>% prop.table()"
   ]
  },
  {
   "cell_type": "code",
   "execution_count": 34,
   "metadata": {},
   "outputs": [
    {
     "data": {
      "text/plain": [
       ".\n",
       " FirstTime     Second Subsequent \n",
       "0.85141900 0.07859067 0.06999033 "
      ]
     },
     "metadata": {},
     "output_type": "display_data"
    }
   ],
   "source": [
    "expiry_test_df$renewal_type %>% table() %>% prop.table()"
   ]
  },
  {
   "cell_type": "markdown",
   "metadata": {},
   "source": [
    "# Explore autorenew_type as variable"
   ]
  },
  {
   "cell_type": "code",
   "execution_count": 35,
   "metadata": {},
   "outputs": [
    {
     "data": {
      "text/plain": [
       ".\n",
       "             NULL presumed-realized          realized        unrealized \n",
       "     0.0002171294      0.0051060432      0.0811083406      0.9135684868 "
      ]
     },
     "metadata": {},
     "output_type": "display_data"
    }
   ],
   "source": [
    "expiry_train_df$autorenew_type %>% table() %>% prop.table()"
   ]
  },
  {
   "cell_type": "code",
   "execution_count": null,
   "metadata": {},
   "outputs": [],
   "source": []
  }
 ],
 "metadata": {
  "environment": {
   "name": "r-cpu.3-6.m48",
   "type": "gcloud",
   "uri": "gcr.io/deeplearning-platform-release/r-cpu.3-6:m48"
  },
  "kernelspec": {
   "display_name": "R",
   "language": "R",
   "name": "ir"
  },
  "language_info": {
   "codemirror_mode": "r",
   "file_extension": ".r",
   "mimetype": "text/x-r-source",
   "name": "R",
   "pygments_lexer": "r",
   "version": "3.6.3"
  }
 },
 "nbformat": 4,
 "nbformat_minor": 4
}
