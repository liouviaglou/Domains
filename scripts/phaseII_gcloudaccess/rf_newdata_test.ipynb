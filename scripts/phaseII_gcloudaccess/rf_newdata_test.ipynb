{
 "cells": [
  {
   "cell_type": "markdown",
   "metadata": {},
   "source": [
    "# Test RF on new data"
   ]
  },
  {
   "cell_type": "code",
   "execution_count": 2,
   "metadata": {},
   "outputs": [],
   "source": [
    "# install.packages(\"rPython\",repos='http://cran.us.r-project.org')\n",
    "# # “package ‘rPython’ is not available (for R version 3.6.3)”\n",
    "\n",
    "# packageurl <- \"https://cran.r-project.org/src/contrib/Archive/rPython/rPython_0.0-6.tar.gz\"\n",
    "# install.packages(packageurl, repos=NULL, type=\"source\")\n",
    "# # “installation of package ‘/tmp/Rtmp4Wu00p/downloaded_packages/rPython_0.0-6.tar.gz’ had non-zero exit status”\n",
    "\n",
    "# wget https://cran.r-project.org/src/contrib/Archive/rPython/rPython_0.0-6.tar.gz\n",
    "# R CMD INSTALL ggplot2_0.9.1.tar.gz"
   ]
  },
  {
   "cell_type": "code",
   "execution_count": 3,
   "metadata": {},
   "outputs": [],
   "source": [
    "# # this worked:\n",
    "# require(devtools)\n",
    "# install_version(\"rPython\", version = \"0.0-6\", repos = \"http://cran.us.r-project.org\")"
   ]
  },
  {
   "cell_type": "code",
   "execution_count": 4,
   "metadata": {},
   "outputs": [],
   "source": [
    "# install.packages(\"rgl\", dependencies = TRUE)\n",
    "# Warning message in install.packages(\"rgl\", dependencies = TRUE):\n",
    "# “installation of package ‘rgl’ had non-zero exit status”\n",
    "# Warning message in install.packages(\"rgl\", dependencies = TRUE):\n",
    "# “installation of package ‘alphashape3d’ had non-zero exit status”"
   ]
  },
  {
   "cell_type": "code",
   "execution_count": 5,
   "metadata": {},
   "outputs": [],
   "source": [
    "# # this worked:\n",
    "# install.packages(\"devtools\")\n",
    "# library(devtools)\n",
    "# install.packages(\"rgl\")\n",
    "# library(rgl)"
   ]
  },
  {
   "cell_type": "code",
   "execution_count": 6,
   "metadata": {},
   "outputs": [],
   "source": [
    "# Had to install magick via:\n",
    "# sudo apt-get install libmagick++-dev"
   ]
  },
  {
   "cell_type": "code",
   "execution_count": 7,
   "metadata": {},
   "outputs": [],
   "source": [
    "# install.packages(\"stringdist\")"
   ]
  },
  {
   "cell_type": "code",
   "execution_count": 15,
   "metadata": {},
   "outputs": [
    {
     "data": {
      "text/html": [
       "'/home/jupyter/local/Domains_202003/scripts/phaseII_gcloudaccess'"
      ],
      "text/latex": [
       "'/home/jupyter/local/Domains\\_202003/scripts/phaseII\\_gcloudaccess'"
      ],
      "text/markdown": [
       "'/home/jupyter/local/Domains_202003/scripts/phaseII_gcloudaccess'"
      ],
      "text/plain": [
       "[1] \"/home/jupyter/local/Domains_202003/scripts/phaseII_gcloudaccess\""
      ]
     },
     "metadata": {},
     "output_type": "display_data"
    }
   ],
   "source": [
    "library(dplyr)\n",
    "library(data.table)\n",
    "library(partykit)\n",
    "library(tictoc)\n",
    "library(caret)\n",
    "library(e1071)\n",
    "library(randomForest)\n",
    "library(ranger)\n",
    "\n",
    "#for 3d plotting\n",
    "library(akima)\n",
    "library(plotly)\n",
    "\n",
    "# for prep data\n",
    "library(rPython)\n",
    "library(stringr)\n",
    "library(pbapply)\n",
    "library(stringdist)\n",
    "library(data.table)\n",
    "\n",
    "getwd()"
   ]
  },
  {
   "cell_type": "code",
   "execution_count": 42,
   "metadata": {},
   "outputs": [],
   "source": [
    "\n",
    "source('../orig/functions.R')\n",
    "\n",
    "source('../orig/functions_models.R')\n",
    "\n",
    "source('functions_eval.R')\n"
   ]
  },
  {
   "cell_type": "markdown",
   "metadata": {},
   "source": [
    "## load data & model"
   ]
  },
  {
   "cell_type": "markdown",
   "metadata": {},
   "source": [
    "ranger_03 was trained in dtree_xl notebook on the following predictors:\n",
    "\n",
    "\n",
    "renewal_status ~\n",
    "\n",
    "tld\n",
    "\n",
    "registrar\n",
    "\n",
    "reseller\n",
    "\n",
    "reseller_country\n",
    "\n",
    "region\n",
    "\n",
    "reg_period\n",
    "\n",
    "sld_type\n",
    "\n",
    "sld_length\n",
    "\n",
    "day_domains\n",
    "\n",
    "gibb_score\n",
    "\n",
    "pattern_domain_count"
   ]
  },
  {
   "cell_type": "raw",
   "metadata": {},
   "source": [
    "    formula         = renewal_status ~ ., \n",
    "    data            = train_df_f_sub, \n",
    "    importance = 'impurity', \n",
    "    num.trees       = 500,\n",
    "    class.weights = c(3,4),\n",
    "    probability = TRUE,\n",
    "    mtry            = 5,\n",
    "    min.node.size   = 10,\n",
    "    replace = FALSE,\n",
    "    sample.fraction = .725,\n",
    "    seed            = 123"
   ]
  },
  {
   "cell_type": "raw",
   "metadata": {},
   "source": [
    "AUC of 0.9045891760674"
   ]
  },
  {
   "cell_type": "code",
   "execution_count": 20,
   "metadata": {},
   "outputs": [],
   "source": [
    "# system(\"gsutil cp gs://data_outputt/output/expiry_data /home/jupyter/local/Domains_202003/data/expiry_data\")\n",
    "# expiry_data <- readRDS(\"/home/jupyter/local/Domains_202003/data/expiry_data\")\n",
    "\n",
    "# system(\"gsutil cp gs://data_outputt/output/ranger_03 /home/jupyter/local/Domains_202003/data/ranger_03\")\n",
    "load('../../data/ranger_03')\n"
   ]
  },
  {
   "cell_type": "code",
   "execution_count": 21,
   "metadata": {},
   "outputs": [
    {
     "data": {
      "text/html": [
       "<style>\n",
       ".list-inline {list-style: none; margin:0; padding: 0}\n",
       ".list-inline>li {display: inline-block}\n",
       ".list-inline>li:not(:last-child)::after {content: \"\\00b7\"; padding: 0 .5ex}\n",
       "</style>\n",
       "<ol class=list-inline><li>'apply_standard_adjustments'</li><li>'basic_prep_domain_data'</li><li>'build_model_first_renewal'</li><li>'build_model_second_renewal'</li><li>'calc_auc'</li><li>'change.colnames'</li><li>'chart_lift'</li><li>'expiry_test_df'</li><li>'expiry_test_prepped_2'</li><li>'get_cluster_data'</li><li>'get_cluster_large'</li><li>'get_df_npv'</li><li>'get_domain_npv'</li><li>'get_domain_type'</li><li>'get_pattern_score'</li><li>'get_renewal_status'</li><li>'intersect2'</li><li>'list_predict_first_renewal'</li><li>'list_predict_second_renewal'</li><li>'mass_build_model_first_renewal'</li><li>'mass_build_model_second_renewal'</li><li>'mass_predict_first_renewal'</li><li>'mass_predict_second_renewal'</li><li>'mass_prep_data'</li><li>'na.zero'</li><li>'newreg_data_prep'</li><li>'newreg_data_rename'</li><li>'newreg_data_select'</li><li>'plot_gains'</li><li>'plot_multigains'</li><li>'predict_first_renewal'</li><li>'predict_second_renewal'</li><li>'prep_domain_data'</li><li>'ranger_03'</li><li>'save_object'</li><li>'unzip.file'</li></ol>\n"
      ],
      "text/latex": [
       "\\begin{enumerate*}\n",
       "\\item 'apply\\_standard\\_adjustments'\n",
       "\\item 'basic\\_prep\\_domain\\_data'\n",
       "\\item 'build\\_model\\_first\\_renewal'\n",
       "\\item 'build\\_model\\_second\\_renewal'\n",
       "\\item 'calc\\_auc'\n",
       "\\item 'change.colnames'\n",
       "\\item 'chart\\_lift'\n",
       "\\item 'expiry\\_test\\_df'\n",
       "\\item 'expiry\\_test\\_prepped\\_2'\n",
       "\\item 'get\\_cluster\\_data'\n",
       "\\item 'get\\_cluster\\_large'\n",
       "\\item 'get\\_df\\_npv'\n",
       "\\item 'get\\_domain\\_npv'\n",
       "\\item 'get\\_domain\\_type'\n",
       "\\item 'get\\_pattern\\_score'\n",
       "\\item 'get\\_renewal\\_status'\n",
       "\\item 'intersect2'\n",
       "\\item 'list\\_predict\\_first\\_renewal'\n",
       "\\item 'list\\_predict\\_second\\_renewal'\n",
       "\\item 'mass\\_build\\_model\\_first\\_renewal'\n",
       "\\item 'mass\\_build\\_model\\_second\\_renewal'\n",
       "\\item 'mass\\_predict\\_first\\_renewal'\n",
       "\\item 'mass\\_predict\\_second\\_renewal'\n",
       "\\item 'mass\\_prep\\_data'\n",
       "\\item 'na.zero'\n",
       "\\item 'newreg\\_data\\_prep'\n",
       "\\item 'newreg\\_data\\_rename'\n",
       "\\item 'newreg\\_data\\_select'\n",
       "\\item 'plot\\_gains'\n",
       "\\item 'plot\\_multigains'\n",
       "\\item 'predict\\_first\\_renewal'\n",
       "\\item 'predict\\_second\\_renewal'\n",
       "\\item 'prep\\_domain\\_data'\n",
       "\\item 'ranger\\_03'\n",
       "\\item 'save\\_object'\n",
       "\\item 'unzip.file'\n",
       "\\end{enumerate*}\n"
      ],
      "text/markdown": [
       "1. 'apply_standard_adjustments'\n",
       "2. 'basic_prep_domain_data'\n",
       "3. 'build_model_first_renewal'\n",
       "4. 'build_model_second_renewal'\n",
       "5. 'calc_auc'\n",
       "6. 'change.colnames'\n",
       "7. 'chart_lift'\n",
       "8. 'expiry_test_df'\n",
       "9. 'expiry_test_prepped_2'\n",
       "10. 'get_cluster_data'\n",
       "11. 'get_cluster_large'\n",
       "12. 'get_df_npv'\n",
       "13. 'get_domain_npv'\n",
       "14. 'get_domain_type'\n",
       "15. 'get_pattern_score'\n",
       "16. 'get_renewal_status'\n",
       "17. 'intersect2'\n",
       "18. 'list_predict_first_renewal'\n",
       "19. 'list_predict_second_renewal'\n",
       "20. 'mass_build_model_first_renewal'\n",
       "21. 'mass_build_model_second_renewal'\n",
       "22. 'mass_predict_first_renewal'\n",
       "23. 'mass_predict_second_renewal'\n",
       "24. 'mass_prep_data'\n",
       "25. 'na.zero'\n",
       "26. 'newreg_data_prep'\n",
       "27. 'newreg_data_rename'\n",
       "28. 'newreg_data_select'\n",
       "29. 'plot_gains'\n",
       "30. 'plot_multigains'\n",
       "31. 'predict_first_renewal'\n",
       "32. 'predict_second_renewal'\n",
       "33. 'prep_domain_data'\n",
       "34. 'ranger_03'\n",
       "35. 'save_object'\n",
       "36. 'unzip.file'\n",
       "\n",
       "\n"
      ],
      "text/plain": [
       " [1] \"apply_standard_adjustments\"      \"basic_prep_domain_data\"         \n",
       " [3] \"build_model_first_renewal\"       \"build_model_second_renewal\"     \n",
       " [5] \"calc_auc\"                        \"change.colnames\"                \n",
       " [7] \"chart_lift\"                      \"expiry_test_df\"                 \n",
       " [9] \"expiry_test_prepped_2\"           \"get_cluster_data\"               \n",
       "[11] \"get_cluster_large\"               \"get_df_npv\"                     \n",
       "[13] \"get_domain_npv\"                  \"get_domain_type\"                \n",
       "[15] \"get_pattern_score\"               \"get_renewal_status\"             \n",
       "[17] \"intersect2\"                      \"list_predict_first_renewal\"     \n",
       "[19] \"list_predict_second_renewal\"     \"mass_build_model_first_renewal\" \n",
       "[21] \"mass_build_model_second_renewal\" \"mass_predict_first_renewal\"     \n",
       "[23] \"mass_predict_second_renewal\"     \"mass_prep_data\"                 \n",
       "[25] \"na.zero\"                         \"newreg_data_prep\"               \n",
       "[27] \"newreg_data_rename\"              \"newreg_data_select\"             \n",
       "[29] \"plot_gains\"                      \"plot_multigains\"                \n",
       "[31] \"predict_first_renewal\"           \"predict_second_renewal\"         \n",
       "[33] \"prep_domain_data\"                \"ranger_03\"                      \n",
       "[35] \"save_object\"                     \"unzip.file\"                     "
      ]
     },
     "metadata": {},
     "output_type": "display_data"
    }
   ],
   "source": [
    "ls()"
   ]
  },
  {
   "cell_type": "markdown",
   "metadata": {},
   "source": [
    "## create test train split"
   ]
  },
  {
   "cell_type": "code",
   "execution_count": 6,
   "metadata": {},
   "outputs": [],
   "source": [
    "# set.seed(0)\n",
    "# train_index <- sample(1:nrow(expiry_data), 0.8 * nrow(expiry_data))\n",
    "# test_index <- setdiff(1:nrow(expiry_data), train_index)\n",
    "\n",
    "# expiry_train <- expiry_data[train_index,]\n",
    "# expiry_test <- expiry_data[test_index,]"
   ]
  },
  {
   "cell_type": "code",
   "execution_count": 7,
   "metadata": {},
   "outputs": [
    {
     "data": {
      "text/plain": [
       "\n",
       "Not Renewd    Renewed \n",
       " 0.8257068  0.1742932 "
      ]
     },
     "metadata": {},
     "output_type": "display_data"
    },
    {
     "data": {
      "text/plain": [
       "\n",
       "Not Renewd    Renewed \n",
       " 0.8248038  0.1751962 "
      ]
     },
     "metadata": {},
     "output_type": "display_data"
    }
   ],
   "source": [
    "# Not Renewd    Renewed \n",
    "#  0.8257068  0.1742932 \n",
    "\n",
    "# Not Renewd    Renewed \n",
    "#  0.8248038  0.1751962 \n",
    "\n",
    "# prop.table(table(expiry_train$renewal_status))\n",
    "# prop.table(table(expiry_test$renewal_status))"
   ]
  },
  {
   "cell_type": "code",
   "execution_count": 8,
   "metadata": {},
   "outputs": [],
   "source": [
    "# saveRDS(expiry_train,\"../../data/output/expiry_train\")\n",
    "# saveRDS(expiry_test,\"../../data/output/expiry_test\")\n",
    "# system(\"gsutil cp /home/jupyter/local/Domains_202003/data/output/* gs://data_outputt/output/\")\n",
    "\n",
    "# expiry_train <- readRDS(file.path('../../data/output/',\"expiry_data\"))"
   ]
  },
  {
   "cell_type": "code",
   "execution_count": 12,
   "metadata": {},
   "outputs": [],
   "source": [
    "# expiry_data <- readRDS(\"/home/jupyter/local/Domains_202003/data/expiry_data\")\n",
    "# expiry_train <- readRDS(\"/home/jupyter/local/Domains_202003/data/expiry_train\")\n",
    "# expiry_test <- readRDS(\"/home/jupyter/local/Domains_202003/data/expiry_test\")\n",
    "\n",
    "# expiry_test_prepped <- readRDS(\"/home/jupyter/local/Domains_202003/data/output/expiry_test_prepped\")\n",
    "\n",
    "expiry_test_prepped_2 <- readRDS(\"/home/jupyter/local/Domains_202003/data/output/expiry_test_prepped_2\")\n",
    "\n",
    "# system(\"gsutil cp gs://data_outputt/output/ranger_03 /home/jupyter/local/Domains_202003/data/ranger_03\")\n",
    "# load('../../data/ranger_03')\n"
   ]
  },
  {
   "cell_type": "code",
   "execution_count": 13,
   "metadata": {},
   "outputs": [],
   "source": [
    "# dim(expiry_test)\n",
    "# dim(expiry_test_prepped)"
   ]
  },
  {
   "cell_type": "code",
   "execution_count": 14,
   "metadata": {},
   "outputs": [
    {
     "data": {
      "text/html": [
       "1765"
      ],
      "text/latex": [
       "1765"
      ],
      "text/markdown": [
       "1765"
      ],
      "text/plain": [
       "[1] 1765"
      ]
     },
     "metadata": {},
     "output_type": "display_data"
    }
   ],
   "source": [
    "length(expiry_test_prepped_2)"
   ]
  },
  {
   "cell_type": "code",
   "execution_count": 16,
   "metadata": {},
   "outputs": [],
   "source": [
    "\n",
    "expiry_test_df <- rbindlist(expiry_test_prepped_2, fill=TRUE)"
   ]
  },
  {
   "cell_type": "code",
   "execution_count": 17,
   "metadata": {},
   "outputs": [
    {
     "data": {
      "text/html": [
       "<style>\n",
       ".list-inline {list-style: none; margin:0; padding: 0}\n",
       ".list-inline>li {display: inline-block}\n",
       ".list-inline>li:not(:last-child)::after {content: \"\\00b7\"; padding: 0 .5ex}\n",
       "</style>\n",
       "<ol class=list-inline><li>348591</li><li>39</li></ol>\n"
      ],
      "text/latex": [
       "\\begin{enumerate*}\n",
       "\\item 348591\n",
       "\\item 39\n",
       "\\end{enumerate*}\n"
      ],
      "text/markdown": [
       "1. 348591\n",
       "2. 39\n",
       "\n",
       "\n"
      ],
      "text/plain": [
       "[1] 348591     39"
      ]
     },
     "metadata": {},
     "output_type": "display_data"
    }
   ],
   "source": [
    "dim(expiry_test_df)"
   ]
  },
  {
   "cell_type": "markdown",
   "metadata": {},
   "source": [
    "## gen gibb score"
   ]
  },
  {
   "cell_type": "code",
   "execution_count": null,
   "metadata": {},
   "outputs": [],
   "source": [
    "# see script prep_expiry.R\n",
    "\n",
    "# python.load(\"../orig/gibb_detect/gib_detect.py\",TRUE)\n",
    "\n",
    "# suppressWarnings(expiry_train_prepped <- prep_domain_data(expiry_train))\n",
    "\n",
    "# ls()\n",
    "\n",
    "\n",
    "# suppressWarnings(expiry_test_prepped <- prep_domain_data(expiry_test))\n",
    "\n",
    "# dim(expiry_train)\n",
    "# dim(expiry_train_prepped)\n",
    "# dim(expiry_test)\n",
    "# dim(expiry_test_prepped)\n",
    "\n",
    "# saveRDS(expiry_train_prepped,\"../../data/output/expiry_train_prepped\")\n",
    "# saveRDS(expiry_test_prepped,\"../../data/output/expiry_test_prepped\")\n",
    "# system(\"gsutil cp /home/jupyter/local/Domains_202003/data/output/* gs://data_outputt/output/\")\n",
    "\n",
    "# # expiry_train <- readRDS(file.path('../../data/output/',\"expiry_data\"))\n",
    "\n",
    "# prep_domain_data<-function(domain_data) {\n",
    "# domain_data<-basic_prep_domain_data(domain_data)\n",
    "# # python.load(\"/home/radmin/npv_project/gibb_detect/gib_detect.py\",TRUE)\n",
    "# # \n",
    "\n",
    "\n",
    "\n",
    "# # \n",
    "# #Get Gibberish Scores for all SLDs\n",
    "\n",
    "# domain_data$gibb_score<-mapply(python.call, \"gibberish_test\", domain_data$sld)\n",
    "\n",
    "# #Get Coeff-Variation on all days\n",
    "# domain_data<-pblapply(split(domain_data, domain_data$creation_date), \n",
    "#                     function(i) get_cluster_large(i, 0.3, 30000))\n",
    "# domain_data<-rbindlist(domain_data)\n",
    "# domain_data$gibb_score<-round(domain_data$gibb_score*100,2)\n",
    "\n",
    "# return(domain_data)\n",
    "# }\n",
    "\n",
    "\n",
    "\n",
    "# python.load(\"../orig/gibb_detect/gib_detect_train.py\",TRUE)\n",
    "\n",
    "\n",
    "# python.load(\"../orig/gibb_detect/gib_detect.py\",TRUE)\n",
    "\n",
    "# # \n",
    "# #Get Gibberish Scores for all SLDs\n",
    "\n",
    "# domain_data$gibb_score<-mapply(python.call, \"gibberish_test\", domain_data$sld)\n",
    "\n",
    "# #Get Coeff-Variation on all days\n",
    "# domain_data<-pblapply(split(domain_data, domain_data$creation_date), \n",
    "#                     function(i) get_cluster_large(i, 0.3, 30000))\n",
    "# domain_data<-rbindlist(domain_data)\n",
    "# domain_data$gibb_score<-round(domain_data$gibb_score*100,2)"
   ]
  },
  {
   "cell_type": "code",
   "execution_count": 19,
   "metadata": {},
   "outputs": [
    {
     "data": {
      "text/html": [
       "<table>\n",
       "<caption>A data.frame: 39 × 1</caption>\n",
       "<thead>\n",
       "\t<tr><th></th><th scope=col>colSums(is.na(expiry_test_df))</th></tr>\n",
       "\t<tr><th></th><th scope=col>&lt;dbl&gt;</th></tr>\n",
       "</thead>\n",
       "<tbody>\n",
       "\t<tr><th scope=row>renewal_type</th><td>     0</td></tr>\n",
       "\t<tr><th scope=row>renewed_count</th><td>     0</td></tr>\n",
       "\t<tr><th scope=row>expiry_date</th><td>     0</td></tr>\n",
       "\t<tr><th scope=row>domain_id</th><td>     0</td></tr>\n",
       "\t<tr><th scope=row>domain</th><td>     0</td></tr>\n",
       "\t<tr><th scope=row>creation_date</th><td>     0</td></tr>\n",
       "\t<tr><th scope=row>status</th><td>     0</td></tr>\n",
       "\t<tr><th scope=row>tld</th><td>     0</td></tr>\n",
       "\t<tr><th scope=row>registrar</th><td>     0</td></tr>\n",
       "\t<tr><th scope=row>reseller</th><td>     0</td></tr>\n",
       "\t<tr><th scope=row>reseller_country</th><td>     0</td></tr>\n",
       "\t<tr><th scope=row>region</th><td>     0</td></tr>\n",
       "\t<tr><th scope=row>reg_period</th><td>     0</td></tr>\n",
       "\t<tr><th scope=row>registrant_country</th><td>348372</td></tr>\n",
       "\t<tr><th scope=row>renewal_status</th><td>     0</td></tr>\n",
       "\t<tr><th scope=row>renew_mbg</th><td>     2</td></tr>\n",
       "\t<tr><th scope=row>renew_type</th><td>  9356</td></tr>\n",
       "\t<tr><th scope=row>autorenew_type</th><td> 98944</td></tr>\n",
       "\t<tr><th scope=row>renew_date</th><td>  9363</td></tr>\n",
       "\t<tr><th scope=row>renew_registrar</th><td>     2</td></tr>\n",
       "\t<tr><th scope=row>renew_reseller</th><td>     2</td></tr>\n",
       "\t<tr><th scope=row>reg_revenue</th><td>     0</td></tr>\n",
       "\t<tr><th scope=row>reg_arpt</th><td>     0</td></tr>\n",
       "\t<tr><th scope=row>renew_period</th><td>  9363</td></tr>\n",
       "\t<tr><th scope=row>renew_domain_revenue</th><td>  1223</td></tr>\n",
       "\t<tr><th scope=row>renew_arpt</th><td>  9365</td></tr>\n",
       "\t<tr><th scope=row>reg_arpt_org</th><td>     0</td></tr>\n",
       "\t<tr><th scope=row>tld_registrar_index</th><td>     0</td></tr>\n",
       "\t<tr><th scope=row>sld</th><td>     0</td></tr>\n",
       "\t<tr><th scope=row>sld_type</th><td>     0</td></tr>\n",
       "\t<tr><th scope=row>sld_length</th><td>     0</td></tr>\n",
       "\t<tr><th scope=row>sld_type2</th><td>     0</td></tr>\n",
       "\t<tr><th scope=row>day_domains</th><td>     0</td></tr>\n",
       "\t<tr><th scope=row>log_reg_arpt</th><td>     0</td></tr>\n",
       "\t<tr><th scope=row>gibb_score</th><td>     0</td></tr>\n",
       "\t<tr><th scope=row>cluster</th><td>     0</td></tr>\n",
       "\t<tr><th scope=row>pattern</th><td>     0</td></tr>\n",
       "\t<tr><th scope=row>pattern_score</th><td>     0</td></tr>\n",
       "\t<tr><th scope=row>pattern_domain_count</th><td>     0</td></tr>\n",
       "</tbody>\n",
       "</table>\n"
      ],
      "text/latex": [
       "A data.frame: 39 × 1\n",
       "\\begin{tabular}{r|l}\n",
       "  & colSums(is.na(expiry\\_test\\_df))\\\\\n",
       "  & <dbl>\\\\\n",
       "\\hline\n",
       "\trenewal\\_type &      0\\\\\n",
       "\trenewed\\_count &      0\\\\\n",
       "\texpiry\\_date &      0\\\\\n",
       "\tdomain\\_id &      0\\\\\n",
       "\tdomain &      0\\\\\n",
       "\tcreation\\_date &      0\\\\\n",
       "\tstatus &      0\\\\\n",
       "\ttld &      0\\\\\n",
       "\tregistrar &      0\\\\\n",
       "\treseller &      0\\\\\n",
       "\treseller\\_country &      0\\\\\n",
       "\tregion &      0\\\\\n",
       "\treg\\_period &      0\\\\\n",
       "\tregistrant\\_country & 348372\\\\\n",
       "\trenewal\\_status &      0\\\\\n",
       "\trenew\\_mbg &      2\\\\\n",
       "\trenew\\_type &   9356\\\\\n",
       "\tautorenew\\_type &  98944\\\\\n",
       "\trenew\\_date &   9363\\\\\n",
       "\trenew\\_registrar &      2\\\\\n",
       "\trenew\\_reseller &      2\\\\\n",
       "\treg\\_revenue &      0\\\\\n",
       "\treg\\_arpt &      0\\\\\n",
       "\trenew\\_period &   9363\\\\\n",
       "\trenew\\_domain\\_revenue &   1223\\\\\n",
       "\trenew\\_arpt &   9365\\\\\n",
       "\treg\\_arpt\\_org &      0\\\\\n",
       "\ttld\\_registrar\\_index &      0\\\\\n",
       "\tsld &      0\\\\\n",
       "\tsld\\_type &      0\\\\\n",
       "\tsld\\_length &      0\\\\\n",
       "\tsld\\_type2 &      0\\\\\n",
       "\tday\\_domains &      0\\\\\n",
       "\tlog\\_reg\\_arpt &      0\\\\\n",
       "\tgibb\\_score &      0\\\\\n",
       "\tcluster &      0\\\\\n",
       "\tpattern &      0\\\\\n",
       "\tpattern\\_score &      0\\\\\n",
       "\tpattern\\_domain\\_count &      0\\\\\n",
       "\\end{tabular}\n"
      ],
      "text/markdown": [
       "\n",
       "A data.frame: 39 × 1\n",
       "\n",
       "| <!--/--> | colSums(is.na(expiry_test_df)) &lt;dbl&gt; |\n",
       "|---|---|\n",
       "| renewal_type |      0 |\n",
       "| renewed_count |      0 |\n",
       "| expiry_date |      0 |\n",
       "| domain_id |      0 |\n",
       "| domain |      0 |\n",
       "| creation_date |      0 |\n",
       "| status |      0 |\n",
       "| tld |      0 |\n",
       "| registrar |      0 |\n",
       "| reseller |      0 |\n",
       "| reseller_country |      0 |\n",
       "| region |      0 |\n",
       "| reg_period |      0 |\n",
       "| registrant_country | 348372 |\n",
       "| renewal_status |      0 |\n",
       "| renew_mbg |      2 |\n",
       "| renew_type |   9356 |\n",
       "| autorenew_type |  98944 |\n",
       "| renew_date |   9363 |\n",
       "| renew_registrar |      2 |\n",
       "| renew_reseller |      2 |\n",
       "| reg_revenue |      0 |\n",
       "| reg_arpt |      0 |\n",
       "| renew_period |   9363 |\n",
       "| renew_domain_revenue |   1223 |\n",
       "| renew_arpt |   9365 |\n",
       "| reg_arpt_org |      0 |\n",
       "| tld_registrar_index |      0 |\n",
       "| sld |      0 |\n",
       "| sld_type |      0 |\n",
       "| sld_length |      0 |\n",
       "| sld_type2 |      0 |\n",
       "| day_domains |      0 |\n",
       "| log_reg_arpt |      0 |\n",
       "| gibb_score |      0 |\n",
       "| cluster |      0 |\n",
       "| pattern |      0 |\n",
       "| pattern_score |      0 |\n",
       "| pattern_domain_count |      0 |\n",
       "\n"
      ],
      "text/plain": [
       "                     colSums(is.na(expiry_test_df))\n",
       "renewal_type              0                        \n",
       "renewed_count             0                        \n",
       "expiry_date               0                        \n",
       "domain_id                 0                        \n",
       "domain                    0                        \n",
       "creation_date             0                        \n",
       "status                    0                        \n",
       "tld                       0                        \n",
       "registrar                 0                        \n",
       "reseller                  0                        \n",
       "reseller_country          0                        \n",
       "region                    0                        \n",
       "reg_period                0                        \n",
       "registrant_country   348372                        \n",
       "renewal_status            0                        \n",
       "renew_mbg                 2                        \n",
       "renew_type             9356                        \n",
       "autorenew_type        98944                        \n",
       "renew_date             9363                        \n",
       "renew_registrar           2                        \n",
       "renew_reseller            2                        \n",
       "reg_revenue               0                        \n",
       "reg_arpt                  0                        \n",
       "renew_period           9363                        \n",
       "renew_domain_revenue   1223                        \n",
       "renew_arpt             9365                        \n",
       "reg_arpt_org              0                        \n",
       "tld_registrar_index       0                        \n",
       "sld                       0                        \n",
       "sld_type                  0                        \n",
       "sld_length                0                        \n",
       "sld_type2                 0                        \n",
       "day_domains               0                        \n",
       "log_reg_arpt              0                        \n",
       "gibb_score                0                        \n",
       "cluster                   0                        \n",
       "pattern                   0                        \n",
       "pattern_score             0                        \n",
       "pattern_domain_count      0                        "
      ]
     },
     "metadata": {},
     "output_type": "display_data"
    }
   ],
   "source": [
    "as.data.frame(colSums(is.na(expiry_test_df)))"
   ]
  },
  {
   "cell_type": "markdown",
   "metadata": {},
   "source": [
    "## test ranger_03 on expiry_test"
   ]
  },
  {
   "cell_type": "code",
   "execution_count": 18,
   "metadata": {},
   "outputs": [
    {
     "name": "stdout",
     "output_type": "stream",
     "text": [
      "Aggregating predictions.. Progress: 72%. Estimated remaining time: 12 seconds.\n",
      "model predict: 86.684 sec elapsed\n",
      "eval saving: 0.146 sec elapsed\n"
     ]
    }
   ],
   "source": [
    "# Aggregating predictions.. Progress: 72%. Estimated remaining time: 12 seconds.\n",
    "# model predict: 86.684 sec elapsed\n",
    "# eval saving: 0.146 sec elapsed\n",
    "\n",
    "# tic(\"model predict\")\n",
    "# ranger_predict_03_exptest <- predict(ranger_03, \n",
    "#                           data = expiry_test_prepped,\n",
    "#                           type=\"response\")$predictions\n",
    "# toc()\n",
    "\n",
    "# tic(\"eval saving\")\n",
    "\n",
    "# ranger_predict_03_exptest <- as.data.frame(ranger_predict_03_exptest)$Renewed\n",
    "\n",
    "# save(ranger_predict_03_exptest, \n",
    "#      file=\"../../data/output/ranger_predict_03_exptest\")\n",
    "# toc()\n"
   ]
  },
  {
   "cell_type": "code",
   "execution_count": 23,
   "metadata": {},
   "outputs": [],
   "source": [
    "load(\"../../data/output/ranger_predict_03_exptest\")"
   ]
  },
  {
   "cell_type": "code",
   "execution_count": 24,
   "metadata": {},
   "outputs": [
    {
     "data": {
      "text/html": [
       "<style>\n",
       ".list-inline {list-style: none; margin:0; padding: 0}\n",
       ".list-inline>li {display: inline-block}\n",
       ".list-inline>li:not(:last-child)::after {content: \"\\00b7\"; padding: 0 .5ex}\n",
       "</style>\n",
       "<ol class=list-inline><li>0.297809915361007</li><li>0.181995608486512</li><li>0.226871202815937</li><li>0.021335640216549</li><li>0.193479524927664</li><li>0.432496669209513</li></ol>\n"
      ],
      "text/latex": [
       "\\begin{enumerate*}\n",
       "\\item 0.297809915361007\n",
       "\\item 0.181995608486512\n",
       "\\item 0.226871202815937\n",
       "\\item 0.021335640216549\n",
       "\\item 0.193479524927664\n",
       "\\item 0.432496669209513\n",
       "\\end{enumerate*}\n"
      ],
      "text/markdown": [
       "1. 0.297809915361007\n",
       "2. 0.181995608486512\n",
       "3. 0.226871202815937\n",
       "4. 0.021335640216549\n",
       "5. 0.193479524927664\n",
       "6. 0.432496669209513\n",
       "\n",
       "\n"
      ],
      "text/plain": [
       "[1] 0.29780992 0.18199561 0.22687120 0.02133564 0.19347952 0.43249667"
      ]
     },
     "metadata": {},
     "output_type": "display_data"
    }
   ],
   "source": [
    "head(ranger_predict_03_exptest)"
   ]
  },
  {
   "cell_type": "code",
   "execution_count": 25,
   "metadata": {},
   "outputs": [
    {
     "data": {
      "text/html": [
       "348591"
      ],
      "text/latex": [
       "348591"
      ],
      "text/markdown": [
       "348591"
      ],
      "text/plain": [
       "[1] 348591"
      ]
     },
     "metadata": {},
     "output_type": "display_data"
    }
   ],
   "source": [
    "length(ranger_predict_03_exptest)"
   ]
  },
  {
   "cell_type": "code",
   "execution_count": 28,
   "metadata": {},
   "outputs": [
    {
     "data": {
      "text/html": [
       "<style>\n",
       ".list-inline {list-style: none; margin:0; padding: 0}\n",
       ".list-inline>li {display: inline-block}\n",
       ".list-inline>li:not(:last-child)::after {content: \"\\00b7\"; padding: 0 .5ex}\n",
       "</style>\n",
       "<ol class=list-inline><li>348591</li><li>39</li></ol>\n"
      ],
      "text/latex": [
       "\\begin{enumerate*}\n",
       "\\item 348591\n",
       "\\item 39\n",
       "\\end{enumerate*}\n"
      ],
      "text/markdown": [
       "1. 348591\n",
       "2. 39\n",
       "\n",
       "\n"
      ],
      "text/plain": [
       "[1] 348591     39"
      ]
     },
     "metadata": {},
     "output_type": "display_data"
    }
   ],
   "source": [
    "dim(expiry_test_df)"
   ]
  },
  {
   "cell_type": "code",
   "execution_count": 30,
   "metadata": {},
   "outputs": [
    {
     "data": {
      "text/html": [
       "<style>\n",
       ".list-inline {list-style: none; margin:0; padding: 0}\n",
       ".list-inline>li {display: inline-block}\n",
       ".list-inline>li:not(:last-child)::after {content: \"\\00b7\"; padding: 0 .5ex}\n",
       "</style>\n",
       "<ol class=list-inline><li>Renewed</li><li>Not Renewd</li><li>Renewed</li><li>Not Renewd</li><li>Not Renewd</li><li>Renewed</li></ol>\n",
       "\n",
       "<details>\n",
       "\t<summary style=display:list-item;cursor:pointer>\n",
       "\t\t<strong>Levels</strong>:\n",
       "\t</summary>\n",
       "\t<style>\n",
       "\t.list-inline {list-style: none; margin:0; padding: 0}\n",
       "\t.list-inline>li {display: inline-block}\n",
       "\t.list-inline>li:not(:last-child)::after {content: \"\\00b7\"; padding: 0 .5ex}\n",
       "\t</style>\n",
       "\t<ol class=list-inline><li>'Not Renewd'</li><li>'Renewed'</li></ol>\n",
       "</details>"
      ],
      "text/latex": [
       "\\begin{enumerate*}\n",
       "\\item Renewed\n",
       "\\item Not Renewd\n",
       "\\item Renewed\n",
       "\\item Not Renewd\n",
       "\\item Not Renewd\n",
       "\\item Renewed\n",
       "\\end{enumerate*}\n",
       "\n",
       "\\emph{Levels}: \\begin{enumerate*}\n",
       "\\item 'Not Renewd'\n",
       "\\item 'Renewed'\n",
       "\\end{enumerate*}\n"
      ],
      "text/markdown": [
       "1. Renewed\n",
       "2. Not Renewd\n",
       "3. Renewed\n",
       "4. Not Renewd\n",
       "5. Not Renewd\n",
       "6. Renewed\n",
       "\n",
       "\n",
       "\n",
       "**Levels**: 1. 'Not Renewd'\n",
       "2. 'Renewed'\n",
       "\n",
       "\n"
      ],
      "text/plain": [
       "[1] Renewed    Not Renewd Renewed    Not Renewd Not Renewd Renewed   \n",
       "Levels: Not Renewd Renewed"
      ]
     },
     "metadata": {},
     "output_type": "display_data"
    }
   ],
   "source": [
    "head((expiry_test_df)$renewal_status)"
   ]
  },
  {
   "cell_type": "code",
   "execution_count": 29,
   "metadata": {},
   "outputs": [],
   "source": [
    "# ranger_03_pred_df = data.frame(\"actual\" = expiry_test_prepped$renewal_status,\n",
    "#           \"predicted\" = ranger_predict_03_exptest)\n",
    "\n",
    "# lift df: 23.675 sec elapsed\n",
    "# gains plot: 0.046 sec elapsed\n",
    "# auc: 0.007 sec elapsed\n",
    "# tic(\"lift df\")\n",
    "# lift_df_ranger_03 <- chart_lift(pred_df = ranger_03_pred_df,\n",
    "#                         dep_var = \"actual\",\n",
    "#                         pred_var = \"predicted\")\n",
    "\n",
    "# toc()\n",
    "# tic(\"gains plot\")\n",
    "# gains_plot_ranger_03 <- plot_gains (lift_df_ranger_03) \n",
    "\n",
    "# toc()\n",
    "# tic(\"auc\")\n",
    "# auc_ranger_03 <- calc_auc(lift_df_ranger_03)\n",
    "# toc()\n",
    "\n",
    "\n",
    "# saveRDS(lift_df_ranger_03, file.path('../../data/',\"lift_df_ranger_03\"))\n"
   ]
  },
  {
   "cell_type": "code",
   "execution_count": 33,
   "metadata": {},
   "outputs": [],
   "source": [
    "file_list <- c(\"lift_df_segglm\",\n",
    "                    \"lift_df_bendtr\",\n",
    "                    \"lift_df_ranger3\",\n",
    "                    \"lift_df_ranger_03\"\n",
    "              )\n",
    "assign(file_list[1], readRDS(sprintf(\"../../data/%s\", file_list[1])))\n",
    "assign(file_list[2], readRDS(sprintf(\"../../data/%s\", file_list[2])))\n",
    "assign(file_list[3], readRDS(sprintf(\"../../data/%s\", file_list[3])))\n",
    "assign(file_list[4], readRDS(sprintf(\"../../data/%s\", file_list[4])))\n",
    "     "
   ]
  },
  {
   "cell_type": "code",
   "execution_count": 34,
   "metadata": {},
   "outputs": [
    {
     "data": {
      "text/html": [
       "<strong>png:</strong> 2"
      ],
      "text/latex": [
       "\\textbf{png:} 2"
      ],
      "text/markdown": [
       "**png:** 2"
      ],
      "text/plain": [
       "png \n",
       "  2 "
      ]
     },
     "metadata": {},
     "output_type": "display_data"
    }
   ],
   "source": [
    "plot_multigains_03_summ <- plot_multigains(\n",
    "    lift_df_list=list(\n",
    "        seg_glm = lift_df_segglm, \n",
    "        ben_dtr = lift_df_bendtr,\n",
    "        rf_500tr = lift_df_ranger3,\n",
    "        rf_newd = lift_df_ranger_03),\n",
    "    auc_list = list(\n",
    "        seg_glm = calc_auc(lift_df_segglm), \n",
    "        ben_dtr= calc_auc(lift_df_bendtr), \n",
    "        rf_500tr= calc_auc(lift_df_ranger3), \n",
    "        rf_newd= calc_auc(lift_df_ranger_03)))\n",
    "png(file = \"../../data/output/plot_multigains_03_newdata_summ.png\",\n",
    "    width = 500, height = 375)\n",
    "plot(plot_multigains_03_summ)\n",
    "dev.off()"
   ]
  },
  {
   "cell_type": "code",
   "execution_count": 35,
   "metadata": {},
   "outputs": [
    {
     "data": {
      "image/png": "[encoded data removed]",
      "text/plain": [
       "plot without title"
      ]
     },
     "metadata": {
      "image/png": {
       "height": 420,
       "width": 420
      },
      "text/plain": {
       "height": 420,
       "width": 420
      }
     },
     "output_type": "display_data"
    }
   ],
   "source": [
    "plot_multigains_03_summ"
   ]
  },
  {
   "cell_type": "code",
   "execution_count": 46,
   "metadata": {},
   "outputs": [],
   "source": [
    "system(\"gsutil cp /home/jupyter/local/Domains_202003/data/output/* gs://data_outputt/output/\")"
   ]
  },
  {
   "cell_type": "code",
   "execution_count": 47,
   "metadata": {},
   "outputs": [
    {
     "data": {
      "text/html": [
       "<table>\n",
       "<caption>A data.frame: 10 × 4</caption>\n",
       "<thead>\n",
       "\t<tr><th scope=col>P</th><th scope=col>actu_renwd2</th><th scope=col>gain</th><th scope=col>lift</th></tr>\n",
       "\t<tr><th scope=col>&lt;dbl&gt;</th><th scope=col>&lt;int&gt;</th><th scope=col>&lt;dbl&gt;</th><th scope=col>&lt;dbl&gt;</th></tr>\n",
       "</thead>\n",
       "<tbody>\n",
       "\t<tr><td>0.1</td><td>11057</td><td>0.1811198</td><td>1.811198</td></tr>\n",
       "\t<tr><td>0.2</td><td>20777</td><td>0.3403387</td><td>1.701694</td></tr>\n",
       "\t<tr><td>0.3</td><td>28877</td><td>0.4730212</td><td>1.576737</td></tr>\n",
       "\t<tr><td>0.4</td><td>35763</td><td>0.5858177</td><td>1.464544</td></tr>\n",
       "\t<tr><td>0.5</td><td>41386</td><td>0.6779256</td><td>1.355851</td></tr>\n",
       "\t<tr><td>0.6</td><td>46146</td><td>0.7558970</td><td>1.259828</td></tr>\n",
       "\t<tr><td>0.7</td><td>50326</td><td>0.8243677</td><td>1.177668</td></tr>\n",
       "\t<tr><td>0.8</td><td>54097</td><td>0.8861388</td><td>1.107673</td></tr>\n",
       "\t<tr><td>0.9</td><td>57668</td><td>0.9446337</td><td>1.049593</td></tr>\n",
       "\t<tr><td>1.0</td><td>61048</td><td>1.0000000</td><td>1.000000</td></tr>\n",
       "</tbody>\n",
       "</table>\n"
      ],
      "text/latex": [
       "A data.frame: 10 × 4\n",
       "\\begin{tabular}{llll}\n",
       " P & actu\\_renwd2 & gain & lift\\\\\n",
       " <dbl> & <int> & <dbl> & <dbl>\\\\\n",
       "\\hline\n",
       "\t 0.1 & 11057 & 0.1811198 & 1.811198\\\\\n",
       "\t 0.2 & 20777 & 0.3403387 & 1.701694\\\\\n",
       "\t 0.3 & 28877 & 0.4730212 & 1.576737\\\\\n",
       "\t 0.4 & 35763 & 0.5858177 & 1.464544\\\\\n",
       "\t 0.5 & 41386 & 0.6779256 & 1.355851\\\\\n",
       "\t 0.6 & 46146 & 0.7558970 & 1.259828\\\\\n",
       "\t 0.7 & 50326 & 0.8243677 & 1.177668\\\\\n",
       "\t 0.8 & 54097 & 0.8861388 & 1.107673\\\\\n",
       "\t 0.9 & 57668 & 0.9446337 & 1.049593\\\\\n",
       "\t 1.0 & 61048 & 1.0000000 & 1.000000\\\\\n",
       "\\end{tabular}\n"
      ],
      "text/markdown": [
       "\n",
       "A data.frame: 10 × 4\n",
       "\n",
       "| P &lt;dbl&gt; | actu_renwd2 &lt;int&gt; | gain &lt;dbl&gt; | lift &lt;dbl&gt; |\n",
       "|---|---|---|---|\n",
       "| 0.1 | 11057 | 0.1811198 | 1.811198 |\n",
       "| 0.2 | 20777 | 0.3403387 | 1.701694 |\n",
       "| 0.3 | 28877 | 0.4730212 | 1.576737 |\n",
       "| 0.4 | 35763 | 0.5858177 | 1.464544 |\n",
       "| 0.5 | 41386 | 0.6779256 | 1.355851 |\n",
       "| 0.6 | 46146 | 0.7558970 | 1.259828 |\n",
       "| 0.7 | 50326 | 0.8243677 | 1.177668 |\n",
       "| 0.8 | 54097 | 0.8861388 | 1.107673 |\n",
       "| 0.9 | 57668 | 0.9446337 | 1.049593 |\n",
       "| 1.0 | 61048 | 1.0000000 | 1.000000 |\n",
       "\n"
      ],
      "text/plain": [
       "   P   actu_renwd2 gain      lift    \n",
       "1  0.1 11057       0.1811198 1.811198\n",
       "2  0.2 20777       0.3403387 1.701694\n",
       "3  0.3 28877       0.4730212 1.576737\n",
       "4  0.4 35763       0.5858177 1.464544\n",
       "5  0.5 41386       0.6779256 1.355851\n",
       "6  0.6 46146       0.7558970 1.259828\n",
       "7  0.7 50326       0.8243677 1.177668\n",
       "8  0.8 54097       0.8861388 1.107673\n",
       "9  0.9 57668       0.9446337 1.049593\n",
       "10 1.0 61048       1.0000000 1.000000"
      ]
     },
     "metadata": {},
     "output_type": "display_data"
    }
   ],
   "source": [
    "lift_df_ranger_03"
   ]
  },
  {
   "cell_type": "markdown",
   "metadata": {},
   "source": [
    "lift_df_ranger3"
   ]
  },
  {
   "cell_type": "code",
   "execution_count": 49,
   "metadata": {},
   "outputs": [
    {
     "data": {
      "text/html": [
       "<table>\n",
       "<caption>A data.frame: 10 × 4</caption>\n",
       "<thead>\n",
       "\t<tr><th scope=col>P</th><th scope=col>actu_renwd2</th><th scope=col>gain</th><th scope=col>lift</th></tr>\n",
       "\t<tr><th scope=col>&lt;dbl&gt;</th><th scope=col>&lt;int&gt;</th><th scope=col>&lt;dbl&gt;</th><th scope=col>&lt;dbl&gt;</th></tr>\n",
       "</thead>\n",
       "<tbody>\n",
       "\t<tr><td>0.1</td><td>14576</td><td>0.3305215</td><td>3.305215</td></tr>\n",
       "\t<tr><td>0.2</td><td>23027</td><td>0.5221542</td><td>2.610771</td></tr>\n",
       "\t<tr><td>0.3</td><td>29601</td><td>0.6712245</td><td>2.237415</td></tr>\n",
       "\t<tr><td>0.4</td><td>32925</td><td>0.7465986</td><td>1.866497</td></tr>\n",
       "\t<tr><td>0.5</td><td>35893</td><td>0.8139002</td><td>1.627800</td></tr>\n",
       "\t<tr><td>0.6</td><td>38582</td><td>0.8748753</td><td>1.458125</td></tr>\n",
       "\t<tr><td>0.7</td><td>40827</td><td>0.9257823</td><td>1.322546</td></tr>\n",
       "\t<tr><td>0.8</td><td>42622</td><td>0.9664853</td><td>1.208107</td></tr>\n",
       "\t<tr><td>0.9</td><td>43729</td><td>0.9915873</td><td>1.101764</td></tr>\n",
       "\t<tr><td>1.0</td><td>44100</td><td>1.0000000</td><td>1.000000</td></tr>\n",
       "</tbody>\n",
       "</table>\n"
      ],
      "text/latex": [
       "A data.frame: 10 × 4\n",
       "\\begin{tabular}{llll}\n",
       " P & actu\\_renwd2 & gain & lift\\\\\n",
       " <dbl> & <int> & <dbl> & <dbl>\\\\\n",
       "\\hline\n",
       "\t 0.1 & 14576 & 0.3305215 & 3.305215\\\\\n",
       "\t 0.2 & 23027 & 0.5221542 & 2.610771\\\\\n",
       "\t 0.3 & 29601 & 0.6712245 & 2.237415\\\\\n",
       "\t 0.4 & 32925 & 0.7465986 & 1.866497\\\\\n",
       "\t 0.5 & 35893 & 0.8139002 & 1.627800\\\\\n",
       "\t 0.6 & 38582 & 0.8748753 & 1.458125\\\\\n",
       "\t 0.7 & 40827 & 0.9257823 & 1.322546\\\\\n",
       "\t 0.8 & 42622 & 0.9664853 & 1.208107\\\\\n",
       "\t 0.9 & 43729 & 0.9915873 & 1.101764\\\\\n",
       "\t 1.0 & 44100 & 1.0000000 & 1.000000\\\\\n",
       "\\end{tabular}\n"
      ],
      "text/markdown": [
       "\n",
       "A data.frame: 10 × 4\n",
       "\n",
       "| P &lt;dbl&gt; | actu_renwd2 &lt;int&gt; | gain &lt;dbl&gt; | lift &lt;dbl&gt; |\n",
       "|---|---|---|---|\n",
       "| 0.1 | 14576 | 0.3305215 | 3.305215 |\n",
       "| 0.2 | 23027 | 0.5221542 | 2.610771 |\n",
       "| 0.3 | 29601 | 0.6712245 | 2.237415 |\n",
       "| 0.4 | 32925 | 0.7465986 | 1.866497 |\n",
       "| 0.5 | 35893 | 0.8139002 | 1.627800 |\n",
       "| 0.6 | 38582 | 0.8748753 | 1.458125 |\n",
       "| 0.7 | 40827 | 0.9257823 | 1.322546 |\n",
       "| 0.8 | 42622 | 0.9664853 | 1.208107 |\n",
       "| 0.9 | 43729 | 0.9915873 | 1.101764 |\n",
       "| 1.0 | 44100 | 1.0000000 | 1.000000 |\n",
       "\n"
      ],
      "text/plain": [
       "   P   actu_renwd2 gain      lift    \n",
       "1  0.1 14576       0.3305215 3.305215\n",
       "2  0.2 23027       0.5221542 2.610771\n",
       "3  0.3 29601       0.6712245 2.237415\n",
       "4  0.4 32925       0.7465986 1.866497\n",
       "5  0.5 35893       0.8139002 1.627800\n",
       "6  0.6 38582       0.8748753 1.458125\n",
       "7  0.7 40827       0.9257823 1.322546\n",
       "8  0.8 42622       0.9664853 1.208107\n",
       "9  0.9 43729       0.9915873 1.101764\n",
       "10 1.0 44100       1.0000000 1.000000"
      ]
     },
     "metadata": {},
     "output_type": "display_data"
    }
   ],
   "source": [
    "lift_df_segglm"
   ]
  },
  {
   "cell_type": "markdown",
   "metadata": {},
   "source": [
    "# how well does seg_glm perf on this data?"
   ]
  },
  {
   "cell_type": "code",
   "execution_count": 56,
   "metadata": {},
   "outputs": [],
   "source": [
    "# filename='first_renewal_model'\n",
    "# system(paste(sprintf(\"gsutil cp gs://data_input/%s /home/jupyter/local/Domains_202003/data/\", filename)))\n",
    "# assign(filename, readRDS(sprintf(\"../../data/%s\", filename)))\n",
    "# rm(first_renewal_model)"
   ]
  },
  {
   "cell_type": "code",
   "execution_count": 36,
   "metadata": {},
   "outputs": [],
   "source": [
    "filename='first_renewal_model_train' # trained in training subset, like ranger_03\n",
    "# system(paste(sprintf(\"gsutil cp gs://data_input/%s /home/jupyter/local/Domains_202003/data/\", filename)))\n",
    "assign(filename, readRDS(sprintf(\"../../data/%s\", filename)))"
   ]
  },
  {
   "cell_type": "markdown",
   "metadata": {},
   "source": [
    "# need to use predict from original functions"
   ]
  },
  {
   "cell_type": "code",
   "execution_count": 44,
   "metadata": {},
   "outputs": [],
   "source": [
    "# seg_glm new_data predict: 4.206 sec elapsed\n",
    "\n",
    "# tic(\"seg_glm new_data predict\")\n",
    "# seg_glm_exptest <- mass_predict_first_renewal(expiry_test_prepped_2, first_renewal_model_train)\n",
    "# toc()\n",
    "# saveRDS(seg_glm_exptest,\"../../data/output/seg_glm_exptest\")\n"
   ]
  },
  {
   "cell_type": "code",
   "execution_count": null,
   "metadata": {},
   "outputs": [],
   "source": [
    "# seg_glm_exptest <- readRDS(\"../../data/output/seg_glm_exptest\")"
   ]
  },
  {
   "cell_type": "code",
   "execution_count": 49,
   "metadata": {},
   "outputs": [
    {
     "data": {
      "text/html": [
       "<table>\n",
       "<caption>A data.frame: 1 × 40</caption>\n",
       "<thead>\n",
       "\t<tr><th scope=col>renewal_type</th><th scope=col>renewed_count</th><th scope=col>expiry_date</th><th scope=col>domain_id</th><th scope=col>domain</th><th scope=col>creation_date</th><th scope=col>status</th><th scope=col>tld</th><th scope=col>registrar</th><th scope=col>reseller</th><th scope=col>⋯</th><th scope=col>sld_length</th><th scope=col>sld_type2</th><th scope=col>day_domains</th><th scope=col>log_reg_arpt</th><th scope=col>gibb_score</th><th scope=col>cluster</th><th scope=col>pattern</th><th scope=col>pattern_score</th><th scope=col>pattern_domain_count</th><th scope=col>first_renewal_prediction</th></tr>\n",
       "\t<tr><th scope=col>&lt;int&gt;</th><th scope=col>&lt;int&gt;</th><th scope=col>&lt;int&gt;</th><th scope=col>&lt;int&gt;</th><th scope=col>&lt;int&gt;</th><th scope=col>&lt;int&gt;</th><th scope=col>&lt;int&gt;</th><th scope=col>&lt;int&gt;</th><th scope=col>&lt;int&gt;</th><th scope=col>&lt;int&gt;</th><th scope=col>⋯</th><th scope=col>&lt;int&gt;</th><th scope=col>&lt;int&gt;</th><th scope=col>&lt;int&gt;</th><th scope=col>&lt;int&gt;</th><th scope=col>&lt;int&gt;</th><th scope=col>&lt;int&gt;</th><th scope=col>&lt;int&gt;</th><th scope=col>&lt;int&gt;</th><th scope=col>&lt;int&gt;</th><th scope=col>&lt;int&gt;</th></tr>\n",
       "</thead>\n",
       "<tbody>\n",
       "\t<tr><td>0</td><td>0</td><td>0</td><td>0</td><td>0</td><td>0</td><td>0</td><td>0</td><td>0</td><td>0</td><td>⋯</td><td>0</td><td>0</td><td>0</td><td>0</td><td>0</td><td>0</td><td>0</td><td>0</td><td>0</td><td>218958</td></tr>\n",
       "</tbody>\n",
       "</table>\n"
      ],
      "text/latex": [
       "A data.frame: 1 × 40\n",
       "\\begin{tabular}{lllllllllllllllllllll}\n",
       " renewal\\_type & renewed\\_count & expiry\\_date & domain\\_id & domain & creation\\_date & status & tld & registrar & reseller & ⋯ & sld\\_length & sld\\_type2 & day\\_domains & log\\_reg\\_arpt & gibb\\_score & cluster & pattern & pattern\\_score & pattern\\_domain\\_count & first\\_renewal\\_prediction\\\\\n",
       " <int> & <int> & <int> & <int> & <int> & <int> & <int> & <int> & <int> & <int> & ⋯ & <int> & <int> & <int> & <int> & <int> & <int> & <int> & <int> & <int> & <int>\\\\\n",
       "\\hline\n",
       "\t 0 & 0 & 0 & 0 & 0 & 0 & 0 & 0 & 0 & 0 & ⋯ & 0 & 0 & 0 & 0 & 0 & 0 & 0 & 0 & 0 & 218958\\\\\n",
       "\\end{tabular}\n"
      ],
      "text/markdown": [
       "\n",
       "A data.frame: 1 × 40\n",
       "\n",
       "| renewal_type &lt;int&gt; | renewed_count &lt;int&gt; | expiry_date &lt;int&gt; | domain_id &lt;int&gt; | domain &lt;int&gt; | creation_date &lt;int&gt; | status &lt;int&gt; | tld &lt;int&gt; | registrar &lt;int&gt; | reseller &lt;int&gt; | ⋯ ⋯ | sld_length &lt;int&gt; | sld_type2 &lt;int&gt; | day_domains &lt;int&gt; | log_reg_arpt &lt;int&gt; | gibb_score &lt;int&gt; | cluster &lt;int&gt; | pattern &lt;int&gt; | pattern_score &lt;int&gt; | pattern_domain_count &lt;int&gt; | first_renewal_prediction &lt;int&gt; |\n",
       "|---|---|---|---|---|---|---|---|---|---|---|---|---|---|---|---|---|---|---|---|---|\n",
       "| 0 | 0 | 0 | 0 | 0 | 0 | 0 | 0 | 0 | 0 | ⋯ | 0 | 0 | 0 | 0 | 0 | 0 | 0 | 0 | 0 | 218958 |\n",
       "\n"
      ],
      "text/plain": [
       "  renewal_type renewed_count expiry_date domain_id domain creation_date status\n",
       "1 0            0             0           0         0      0             0     \n",
       "  tld registrar reseller ⋯ sld_length sld_type2 day_domains log_reg_arpt\n",
       "1 0   0         0        ⋯ 0          0         0           0           \n",
       "  gibb_score cluster pattern pattern_score pattern_domain_count\n",
       "1 0          0       0       0             0                   \n",
       "  first_renewal_prediction\n",
       "1 218958                  "
      ]
     },
     "metadata": {},
     "output_type": "display_data"
    }
   ],
   "source": [
    "# colSums(is.na([\"first_renewal_prediction\"]))\n",
    "# seg_glm_exptest[, sum(is.na(.SD)),  .SDcols = 1:39]\n",
    "\n",
    "seg_glm_exptest %>% summarise_all(~ sum(is.na(.)))"
   ]
  },
  {
   "cell_type": "code",
   "execution_count": 51,
   "metadata": {},
   "outputs": [
    {
     "data": {
      "text/html": [
       "0.628122929163404"
      ],
      "text/latex": [
       "0.628122929163404"
      ],
      "text/markdown": [
       "0.628122929163404"
      ],
      "text/plain": [
       "[1] 0.6281229"
      ]
     },
     "metadata": {},
     "output_type": "display_data"
    }
   ],
   "source": [
    "218958/dim(seg_glm_exptest)[1]"
   ]
  },
  {
   "cell_type": "code",
   "execution_count": 54,
   "metadata": {},
   "outputs": [
    {
     "data": {
      "text/html": [
       "<style>\n",
       ".list-inline {list-style: none; margin:0; padding: 0}\n",
       ".list-inline>li {display: inline-block}\n",
       ".list-inline>li:not(:last-child)::after {content: \"\\00b7\"; padding: 0 .5ex}\n",
       "</style>\n",
       "<ol class=list-inline><li>0.561735890318882</li><li>0.402223214438448</li><li>0.516758517766468</li><li>0.473148255161944</li><li>0.345132675784067</li><li>0.407010712948777</li></ol>\n"
      ],
      "text/latex": [
       "\\begin{enumerate*}\n",
       "\\item 0.561735890318882\n",
       "\\item 0.402223214438448\n",
       "\\item 0.516758517766468\n",
       "\\item 0.473148255161944\n",
       "\\item 0.345132675784067\n",
       "\\item 0.407010712948777\n",
       "\\end{enumerate*}\n"
      ],
      "text/markdown": [
       "1. 0.561735890318882\n",
       "2. 0.402223214438448\n",
       "3. 0.516758517766468\n",
       "4. 0.473148255161944\n",
       "5. 0.345132675784067\n",
       "6. 0.407010712948777\n",
       "\n",
       "\n"
      ],
      "text/plain": [
       "[1] 0.5617359 0.4022232 0.5167585 0.4731483 0.3451327 0.4070107"
      ]
     },
     "metadata": {},
     "output_type": "display_data"
    }
   ],
   "source": [
    "head(seg_glm_exptest$first_renewal_prediction[!is.na(seg_glm_exptest$first_renewal_prediction)])"
   ]
  },
  {
   "cell_type": "code",
   "execution_count": 56,
   "metadata": {},
   "outputs": [],
   "source": [
    "seg_glm_exptest_pred_df = data.frame(\"actual\" = expiry_test_df$renewal_status,\n",
    "          \"predicted\" = seg_glm_exptest$first_renewal_prediction)"
   ]
  },
  {
   "cell_type": "code",
   "execution_count": 58,
   "metadata": {},
   "outputs": [
    {
     "name": "stdout",
     "output_type": "stream",
     "text": [
      "lift df: 0.817 sec elapsed\n",
      "gains plot: 0.029 sec elapsed\n",
      "auc: 0.006 sec elapsed\n"
     ]
    }
   ],
   "source": [
    "# lift df: 0.817 sec elapsed\n",
    "# gains plot: 0.029 sec elapsed\n",
    "# auc: 0.006 sec elapsed\n",
    "\n",
    "tic(\"lift df\")\n",
    "lift_df_seg_glm_exptest <- chart_lift(pred_df = seg_glm_exptest_pred_df,\n",
    "                        dep_var = \"actual\",\n",
    "                        pred_var = \"predicted\")\n",
    "\n",
    "toc()\n",
    "tic(\"gains plot\")\n",
    "gains_plot_seg_glm_exptest <- plot_gains (lift_df_seg_glm_exptest) \n",
    "\n",
    "toc()\n",
    "tic(\"auc\")\n",
    "auc_seg_glm_exptest<- calc_auc(lift_df_seg_glm_exptest)\n",
    "toc()\n",
    "\n",
    "\n",
    "saveRDS(lift_df_seg_glm_exptest, file.path('../../data/',\"lift_df_seg_glm_exptest\"))"
   ]
  },
  {
   "cell_type": "code",
   "execution_count": 70,
   "metadata": {},
   "outputs": [
    {
     "data": {
      "text/html": [
       "<table>\n",
       "<caption>A data.frame: 10 × 4</caption>\n",
       "<thead>\n",
       "\t<tr><th scope=col>P</th><th scope=col>actu_renwd2</th><th scope=col>gain</th><th scope=col>lift</th></tr>\n",
       "\t<tr><th scope=col>&lt;dbl&gt;</th><th scope=col>&lt;int&gt;</th><th scope=col>&lt;dbl&gt;</th><th scope=col>&lt;dbl&gt;</th></tr>\n",
       "</thead>\n",
       "<tbody>\n",
       "\t<tr><td>0.1</td><td>13529</td><td>0.2216125</td><td>2.2161250</td></tr>\n",
       "\t<tr><td>0.2</td><td>17149</td><td>0.2809101</td><td>1.4045505</td></tr>\n",
       "\t<tr><td>0.3</td><td>19773</td><td>0.3238927</td><td>1.0796422</td></tr>\n",
       "\t<tr><td>0.4</td><td>20356</td><td>0.3334425</td><td>0.8336063</td></tr>\n",
       "\t<tr><td>0.5</td><td>25173</td><td>0.4123477</td><td>0.8246953</td></tr>\n",
       "\t<tr><td>0.6</td><td>34583</td><td>0.5664887</td><td>0.9441478</td></tr>\n",
       "\t<tr><td>0.7</td><td>41693</td><td>0.6829544</td><td>0.9756491</td></tr>\n",
       "\t<tr><td>0.8</td><td>44718</td><td>0.7325056</td><td>0.9156320</td></tr>\n",
       "\t<tr><td>0.9</td><td>50688</td><td>0.8302975</td><td>0.9225527</td></tr>\n",
       "\t<tr><td>1.0</td><td>61048</td><td>1.0000000</td><td>1.0000000</td></tr>\n",
       "</tbody>\n",
       "</table>\n"
      ],
      "text/latex": [
       "A data.frame: 10 × 4\n",
       "\\begin{tabular}{llll}\n",
       " P & actu\\_renwd2 & gain & lift\\\\\n",
       " <dbl> & <int> & <dbl> & <dbl>\\\\\n",
       "\\hline\n",
       "\t 0.1 & 13529 & 0.2216125 & 2.2161250\\\\\n",
       "\t 0.2 & 17149 & 0.2809101 & 1.4045505\\\\\n",
       "\t 0.3 & 19773 & 0.3238927 & 1.0796422\\\\\n",
       "\t 0.4 & 20356 & 0.3334425 & 0.8336063\\\\\n",
       "\t 0.5 & 25173 & 0.4123477 & 0.8246953\\\\\n",
       "\t 0.6 & 34583 & 0.5664887 & 0.9441478\\\\\n",
       "\t 0.7 & 41693 & 0.6829544 & 0.9756491\\\\\n",
       "\t 0.8 & 44718 & 0.7325056 & 0.9156320\\\\\n",
       "\t 0.9 & 50688 & 0.8302975 & 0.9225527\\\\\n",
       "\t 1.0 & 61048 & 1.0000000 & 1.0000000\\\\\n",
       "\\end{tabular}\n"
      ],
      "text/markdown": [
       "\n",
       "A data.frame: 10 × 4\n",
       "\n",
       "| P &lt;dbl&gt; | actu_renwd2 &lt;int&gt; | gain &lt;dbl&gt; | lift &lt;dbl&gt; |\n",
       "|---|---|---|---|\n",
       "| 0.1 | 13529 | 0.2216125 | 2.2161250 |\n",
       "| 0.2 | 17149 | 0.2809101 | 1.4045505 |\n",
       "| 0.3 | 19773 | 0.3238927 | 1.0796422 |\n",
       "| 0.4 | 20356 | 0.3334425 | 0.8336063 |\n",
       "| 0.5 | 25173 | 0.4123477 | 0.8246953 |\n",
       "| 0.6 | 34583 | 0.5664887 | 0.9441478 |\n",
       "| 0.7 | 41693 | 0.6829544 | 0.9756491 |\n",
       "| 0.8 | 44718 | 0.7325056 | 0.9156320 |\n",
       "| 0.9 | 50688 | 0.8302975 | 0.9225527 |\n",
       "| 1.0 | 61048 | 1.0000000 | 1.0000000 |\n",
       "\n"
      ],
      "text/plain": [
       "   P   actu_renwd2 gain      lift     \n",
       "1  0.1 13529       0.2216125 2.2161250\n",
       "2  0.2 17149       0.2809101 1.4045505\n",
       "3  0.3 19773       0.3238927 1.0796422\n",
       "4  0.4 20356       0.3334425 0.8336063\n",
       "5  0.5 25173       0.4123477 0.8246953\n",
       "6  0.6 34583       0.5664887 0.9441478\n",
       "7  0.7 41693       0.6829544 0.9756491\n",
       "8  0.8 44718       0.7325056 0.9156320\n",
       "9  0.9 50688       0.8302975 0.9225527\n",
       "10 1.0 61048       1.0000000 1.0000000"
      ]
     },
     "metadata": {},
     "output_type": "display_data"
    }
   ],
   "source": [
    "lift_df_seg_glm_exptest"
   ]
  },
  {
   "cell_type": "code",
   "execution_count": 59,
   "metadata": {},
   "outputs": [
    {
     "data": {
      "text/html": [
       "<strong>png:</strong> 2"
      ],
      "text/latex": [
       "\\textbf{png:} 2"
      ],
      "text/markdown": [
       "**png:** 2"
      ],
      "text/plain": [
       "png \n",
       "  2 "
      ]
     },
     "metadata": {},
     "output_type": "display_data"
    }
   ],
   "source": [
    "plot_multigains_03_summ2 <- plot_multigains(\n",
    "    lift_df_list=list(\n",
    "        seg_glm = lift_df_segglm, \n",
    "        ben_dtr = lift_df_bendtr,\n",
    "        rf_500tr = lift_df_ranger3,\n",
    "        rf_newd = lift_df_ranger_03,\n",
    "        seg_glm_newd = lift_df_seg_glm_exptest),\n",
    "    auc_list = list(\n",
    "        seg_glm = calc_auc(lift_df_segglm), \n",
    "        ben_dtr= calc_auc(lift_df_bendtr), \n",
    "        rf_500tr= calc_auc(lift_df_ranger3), \n",
    "        rf_newd= calc_auc(lift_df_ranger_03), \n",
    "        seg_glm_newd= calc_auc(lift_df_seg_glm_exptest)))\n",
    "png(file = \"../../data/output/plot_multigains_03_newdata_summ2.png\",\n",
    "    width = 500, height = 375)\n",
    "plot(plot_multigains_03_summ2)\n",
    "dev.off()"
   ]
  },
  {
   "cell_type": "code",
   "execution_count": 60,
   "metadata": {},
   "outputs": [
    {
     "data": {
      "image/png": "[encoded data removed]",
      "text/plain": [
       "plot without title"
      ]
     },
     "metadata": {
      "image/png": {
       "height": 420,
       "width": 420
      },
      "text/plain": {
       "height": 420,
       "width": 420
      }
     },
     "output_type": "display_data"
    }
   ],
   "source": [
    "plot_multigains_03_summ2"
   ]
  },
  {
   "cell_type": "markdown",
   "metadata": {},
   "source": [
    "# but ultimately, client fills NA's with data from \"fallback tables\", which would improve performance. asked client for script"
   ]
  },
  {
   "cell_type": "code",
   "execution_count": 67,
   "metadata": {},
   "outputs": [],
   "source": [
    "# from /scripts/nedata_202005/explore\n",
    "\n",
    "system(\"gsutil cp gs://data_input/npv_fallback_tables /home/jupyter/local/Domains_202003/data/npv_fallback_tables\")"
   ]
  },
  {
   "cell_type": "code",
   "execution_count": 68,
   "metadata": {},
   "outputs": [
    {
     "data": {
      "text/html": [
       "<style>\n",
       ".list-inline {list-style: none; margin:0; padding: 0}\n",
       ".list-inline>li {display: inline-block}\n",
       ".list-inline>li:not(:last-child)::after {content: \"\\00b7\"; padding: 0 .5ex}\n",
       "</style>\n",
       "<ol class=list-inline><li>'npv_fallback_first_final'</li><li>'npv_fallback_first_geo_arpt'</li><li>'npv_fallback_first_geo_arpt_tld'</li><li>'npv_fallback_first_tld_arpt'</li><li>'npv_fallback_second_final'</li><li>'npv_fallback_second_geo'</li><li>'npv_fallback_second_tld_geo'</li><li>'npv_fallback_third_final'</li><li>'npv_fallback_third_geo'</li><li>'npv_fallback_third_tld_geo'</li></ol>\n"
      ],
      "text/latex": [
       "\\begin{enumerate*}\n",
       "\\item 'npv\\_fallback\\_first\\_final'\n",
       "\\item 'npv\\_fallback\\_first\\_geo\\_arpt'\n",
       "\\item 'npv\\_fallback\\_first\\_geo\\_arpt\\_tld'\n",
       "\\item 'npv\\_fallback\\_first\\_tld\\_arpt'\n",
       "\\item 'npv\\_fallback\\_second\\_final'\n",
       "\\item 'npv\\_fallback\\_second\\_geo'\n",
       "\\item 'npv\\_fallback\\_second\\_tld\\_geo'\n",
       "\\item 'npv\\_fallback\\_third\\_final'\n",
       "\\item 'npv\\_fallback\\_third\\_geo'\n",
       "\\item 'npv\\_fallback\\_third\\_tld\\_geo'\n",
       "\\end{enumerate*}\n"
      ],
      "text/markdown": [
       "1. 'npv_fallback_first_final'\n",
       "2. 'npv_fallback_first_geo_arpt'\n",
       "3. 'npv_fallback_first_geo_arpt_tld'\n",
       "4. 'npv_fallback_first_tld_arpt'\n",
       "5. 'npv_fallback_second_final'\n",
       "6. 'npv_fallback_second_geo'\n",
       "7. 'npv_fallback_second_tld_geo'\n",
       "8. 'npv_fallback_third_final'\n",
       "9. 'npv_fallback_third_geo'\n",
       "10. 'npv_fallback_third_tld_geo'\n",
       "\n",
       "\n"
      ],
      "text/plain": [
       " [1] \"npv_fallback_first_final\"        \"npv_fallback_first_geo_arpt\"    \n",
       " [3] \"npv_fallback_first_geo_arpt_tld\" \"npv_fallback_first_tld_arpt\"    \n",
       " [5] \"npv_fallback_second_final\"       \"npv_fallback_second_geo\"        \n",
       " [7] \"npv_fallback_second_tld_geo\"     \"npv_fallback_third_final\"       \n",
       " [9] \"npv_fallback_third_geo\"          \"npv_fallback_third_tld_geo\"     "
      ]
     },
     "metadata": {},
     "output_type": "display_data"
    }
   ],
   "source": [
    "# npv_fallback_tables\t\n",
    "#   fallback tables where we dont have enough training \n",
    "#   data for a particular tld-registrar combination\n",
    "\n",
    "npv_fallback_names <- load(\"/home/jupyter/local/Domains_202003/data/npv_fallback_tables\")\n",
    "npv_fallback_names"
   ]
  },
  {
   "cell_type": "code",
   "execution_count": 64,
   "metadata": {},
   "outputs": [],
   "source": [
    "# [1] \"npv_fallback_first_final\"        \"npv_fallback_first_geo_arpt\"    \n",
    "# [3] \"npv_fallback_first_geo_arpt_tld\" \"npv_fallback_first_tld_arpt\"    \n",
    "# [5] \"npv_fallback_second_final\"       \"npv_fallback_second_geo\"        \n",
    "# [7] \"npv_fallback_second_tld_geo\"     \"npv_fallback_third_final\"       \n",
    "# [9] \"npv_fallback_third_geo\"          \"npv_fallback_third_tld_geo\" "
   ]
  },
  {
   "cell_type": "code",
   "execution_count": 69,
   "metadata": {},
   "outputs": [
    {
     "data": {
      "text/html": [
       "<table>\n",
       "<caption>A grouped_df: 6 × 6</caption>\n",
       "<thead>\n",
       "\t<tr><th scope=col>region</th><th scope=col>reg_arpt_slab</th><th scope=col>expiring_domains</th><th scope=col>renewed_domains</th><th scope=col>renewal_rate</th><th scope=col>index</th></tr>\n",
       "\t<tr><th scope=col>&lt;chr&gt;</th><th scope=col>&lt;fct&gt;</th><th scope=col>&lt;int&gt;</th><th scope=col>&lt;int&gt;</th><th scope=col>&lt;dbl&gt;</th><th scope=col>&lt;chr&gt;</th></tr>\n",
       "</thead>\n",
       "<tbody>\n",
       "\t<tr><td>China</td><td>(-Inf,0]</td><td> 35669</td><td> 2139</td><td>0.060</td><td>China(-Inf,0]</td></tr>\n",
       "\t<tr><td>China</td><td>(0,1]   </td><td>536645</td><td>11052</td><td>0.021</td><td>China(0,1]   </td></tr>\n",
       "\t<tr><td>China</td><td>(1,3]   </td><td> 84869</td><td>12063</td><td>0.142</td><td>China(1,3]   </td></tr>\n",
       "\t<tr><td>China</td><td>(3,5]   </td><td>  1356</td><td>  340</td><td>0.251</td><td>China(3,5]   </td></tr>\n",
       "\t<tr><td>China</td><td>(5,10]  </td><td>   177</td><td>   36</td><td>0.203</td><td>China(5,10]  </td></tr>\n",
       "\t<tr><td>China</td><td>(10,15] </td><td>   427</td><td>  122</td><td>0.286</td><td>China(10,15] </td></tr>\n",
       "</tbody>\n",
       "</table>\n"
      ],
      "text/latex": [
       "A grouped\\_df: 6 × 6\n",
       "\\begin{tabular}{llllll}\n",
       " region & reg\\_arpt\\_slab & expiring\\_domains & renewed\\_domains & renewal\\_rate & index\\\\\n",
       " <chr> & <fct> & <int> & <int> & <dbl> & <chr>\\\\\n",
       "\\hline\n",
       "\t China & (-Inf,0{]} &  35669 &  2139 & 0.060 & China(-Inf,0{]}\\\\\n",
       "\t China & (0,1{]}    & 536645 & 11052 & 0.021 & China(0,1{]}   \\\\\n",
       "\t China & (1,3{]}    &  84869 & 12063 & 0.142 & China(1,3{]}   \\\\\n",
       "\t China & (3,5{]}    &   1356 &   340 & 0.251 & China(3,5{]}   \\\\\n",
       "\t China & (5,10{]}   &    177 &    36 & 0.203 & China(5,10{]}  \\\\\n",
       "\t China & (10,15{]}  &    427 &   122 & 0.286 & China(10,15{]} \\\\\n",
       "\\end{tabular}\n"
      ],
      "text/markdown": [
       "\n",
       "A grouped_df: 6 × 6\n",
       "\n",
       "| region &lt;chr&gt; | reg_arpt_slab &lt;fct&gt; | expiring_domains &lt;int&gt; | renewed_domains &lt;int&gt; | renewal_rate &lt;dbl&gt; | index &lt;chr&gt; |\n",
       "|---|---|---|---|---|---|\n",
       "| China | (-Inf,0] |  35669 |  2139 | 0.060 | China(-Inf,0] |\n",
       "| China | (0,1]    | 536645 | 11052 | 0.021 | China(0,1]    |\n",
       "| China | (1,3]    |  84869 | 12063 | 0.142 | China(1,3]    |\n",
       "| China | (3,5]    |   1356 |   340 | 0.251 | China(3,5]    |\n",
       "| China | (5,10]   |    177 |    36 | 0.203 | China(5,10]   |\n",
       "| China | (10,15]  |    427 |   122 | 0.286 | China(10,15]  |\n",
       "\n"
      ],
      "text/plain": [
       "  region reg_arpt_slab expiring_domains renewed_domains renewal_rate\n",
       "1 China  (-Inf,0]       35669            2139           0.060       \n",
       "2 China  (0,1]         536645           11052           0.021       \n",
       "3 China  (1,3]          84869           12063           0.142       \n",
       "4 China  (3,5]           1356             340           0.251       \n",
       "5 China  (5,10]           177              36           0.203       \n",
       "6 China  (10,15]          427             122           0.286       \n",
       "  index        \n",
       "1 China(-Inf,0]\n",
       "2 China(0,1]   \n",
       "3 China(1,3]   \n",
       "4 China(3,5]   \n",
       "5 China(5,10]  \n",
       "6 China(10,15] "
      ]
     },
     "metadata": {},
     "output_type": "display_data"
    }
   ],
   "source": [
    "head(npv_fallback_first_final)"
   ]
  },
  {
   "cell_type": "code",
   "execution_count": 64,
   "metadata": {},
   "outputs": [
    {
     "name": "stderr",
     "output_type": "stream",
     "text": [
      "Warning message in readChar(con, 5L, useBytes = TRUE):\n",
      "“cannot open compressed file '/home/jupyter/local/Domains_202003/data/npv_fallback_tables', probable reason 'No such file or directory'”\n"
     ]
    },
    {
     "ename": "ERROR",
     "evalue": "Error in readChar(con, 5L, useBytes = TRUE): cannot open the connection\n",
     "output_type": "error",
     "traceback": [
      "Error in readChar(con, 5L, useBytes = TRUE): cannot open the connection\nTraceback:\n",
      "1. load(\"/home/jupyter/local/Domains_202003/data/npv_fallback_tables\")",
      "2. readChar(con, 5L, useBytes = TRUE)"
     ]
    }
   ],
   "source": [
    "# Questions:\n",
    "# not enough training means we also don't have \"day_domains\"?\n",
    "# npv_fallback_first_final, _geo_arpt? renewal rate by country & buy price\n",
    "# npv_fallback_first_final$reg_arpt_slab? reg_arpt: the price at which the domain is bought by the reseller \n",
    "\n",
    "# Using a decision tree means you don't need to retrain a model but we can do better than simply using a \"fall back table\" -- can we confirm this with historical data?"
   ]
  },
  {
   "cell_type": "code",
   "execution_count": null,
   "metadata": {},
   "outputs": [],
   "source": []
  }
 ],
 "metadata": {
  "environment": {
   "name": "r-cpu.3-6.m48",
   "type": "gcloud",
   "uri": "gcr.io/deeplearning-platform-release/r-cpu.3-6:m48"
  },
  "kernelspec": {
   "display_name": "R",
   "language": "R",
   "name": "ir"
  },
  "language_info": {
   "codemirror_mode": "r",
   "file_extension": ".r",
   "mimetype": "text/x-r-source",
   "name": "R",
   "pygments_lexer": "r",
   "version": "3.6.3"
  }
 },
 "nbformat": 4,
 "nbformat_minor": 4
}
