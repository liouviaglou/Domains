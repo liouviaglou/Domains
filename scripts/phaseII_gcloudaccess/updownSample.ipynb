{
 "cells": [
  {
   "cell_type": "markdown",
   "metadata": {},
   "source": [
    "# UpSample/ DownSample \n",
    "https://topepo.github.io/caret/subsampling-for-class-imbalances.html"
   ]
  },
  {
   "cell_type": "code",
   "execution_count": 23,
   "metadata": {},
   "outputs": [
    {
     "name": "stderr",
     "output_type": "stream",
     "text": [
      "Installing packages into ‘/home/jupyter/.R/library’\n",
      "(as ‘lib’ is unspecified)\n",
      "\n",
      "also installing the dependencies ‘TTR’, ‘xts’, ‘quantmod’\n",
      "\n",
      "\n"
     ]
    }
   ],
   "source": [
    "install.packages(c(\"DMwR\",\"ROSE\"))"
   ]
  },
  {
   "cell_type": "code",
   "execution_count": 24,
   "metadata": {},
   "outputs": [
    {
     "name": "stderr",
     "output_type": "stream",
     "text": [
      "Registered S3 method overwritten by 'quantmod':\n",
      "  method            from\n",
      "  as.zoo.data.frame zoo \n",
      "\n",
      "Loaded ROSE 0.0-3\n",
      "\n",
      "\n"
     ]
    },
    {
     "data": {
      "text/html": [
       "'/home/jupyter/local/Domains_202003/scripts/phaseII_gcloudaccess'"
      ],
      "text/latex": [
       "'/home/jupyter/local/Domains\\_202003/scripts/phaseII\\_gcloudaccess'"
      ],
      "text/markdown": [
       "'/home/jupyter/local/Domains_202003/scripts/phaseII_gcloudaccess'"
      ],
      "text/plain": [
       "[1] \"/home/jupyter/local/Domains_202003/scripts/phaseII_gcloudaccess\""
      ]
     },
     "metadata": {},
     "output_type": "display_data"
    }
   ],
   "source": [
    "library(dplyr)\n",
    "library(data.table)\n",
    "library(partykit)\n",
    "library(tictoc)\n",
    "library(caret)\n",
    "library(e1071)\n",
    "library(randomForest)\n",
    "library(ranger)\n",
    "\n",
    "#for 3d plotting\n",
    "library(akima)\n",
    "library(plotly)\n",
    "\n",
    "# for prep data\n",
    "library(rPython)\n",
    "library(stringr)\n",
    "library(pbapply)\n",
    "library(stringdist)\n",
    "library(data.table)\n",
    "library(tidyverse)\n",
    "\n",
    "# for smote/rose sampling\n",
    "library(DMwR)\n",
    "library(ROSE)\n",
    "require(\"plyr\")\n",
    "\n",
    "\n",
    "getwd()"
   ]
  },
  {
   "cell_type": "code",
   "execution_count": 6,
   "metadata": {},
   "outputs": [],
   "source": [
    "\n",
    "source('../orig/functions.R')\n",
    "\n",
    "source('../orig/functions_models.R')\n",
    "\n",
    "source('functions_eval.R')\n",
    "\n",
    "source('load_prep_data_expiry.R')"
   ]
  },
  {
   "cell_type": "markdown",
   "metadata": {},
   "source": [
    "# Create Subsample of Training data for Expirimentation"
   ]
  },
  {
   "cell_type": "code",
   "execution_count": 7,
   "metadata": {},
   "outputs": [
    {
     "data": {
      "text/html": [
       "<style>\n",
       ".list-inline {list-style: none; margin:0; padding: 0}\n",
       ".list-inline>li {display: inline-block}\n",
       ".list-inline>li:not(:last-child)::after {content: \"\\00b7\"; padding: 0 .5ex}\n",
       "</style>\n",
       "<ol class=list-inline><li>59412</li><li>12</li></ol>\n"
      ],
      "text/latex": [
       "\\begin{enumerate*}\n",
       "\\item 59412\n",
       "\\item 12\n",
       "\\end{enumerate*}\n"
      ],
      "text/markdown": [
       "1. 59412\n",
       "2. 12\n",
       "\n",
       "\n"
      ],
      "text/plain": [
       "[1] 59412    12"
      ]
     },
     "metadata": {},
     "output_type": "display_data"
    },
    {
     "data": {
      "text/html": [
       "<style>\n",
       ".list-inline {list-style: none; margin:0; padding: 0}\n",
       ".list-inline>li {display: inline-block}\n",
       ".list-inline>li:not(:last-child)::after {content: \"\\00b7\"; padding: 0 .5ex}\n",
       "</style>\n",
       "<ol class=list-inline><li>14839</li><li>12</li></ol>\n"
      ],
      "text/latex": [
       "\\begin{enumerate*}\n",
       "\\item 14839\n",
       "\\item 12\n",
       "\\end{enumerate*}\n"
      ],
      "text/markdown": [
       "1. 14839\n",
       "2. 12\n",
       "\n",
       "\n"
      ],
      "text/plain": [
       "[1] 14839    12"
      ]
     },
     "metadata": {},
     "output_type": "display_data"
    }
   ],
   "source": [
    "set.seed(123)\n",
    "tr_idxs <- sample(seq_len(nrow(expiry_train_df_sub)), size = floor(0.05 * nrow(expiry_train_df_sub)))\n",
    "ts_idxs <- sample(seq_len(nrow(expiry_test_df_sub)), size = floor(0.05 * nrow(expiry_test_df_sub)))\n",
    "\n",
    "tr <- expiry_train_df_sub[tr_idxs, ] \n",
    "ts <- expiry_test_df_sub[ts_idxs, ] \n",
    "\n",
    "dim(tr)\n",
    "dim(ts)"
   ]
  },
  {
   "cell_type": "code",
   "execution_count": 20,
   "metadata": {},
   "outputs": [
    {
     "data": {
      "text/html": [
       "<style>\n",
       ".list-inline {list-style: none; margin:0; padding: 0}\n",
       ".list-inline>li {display: inline-block}\n",
       ".list-inline>li:not(:last-child)::after {content: \"\\00b7\"; padding: 0 .5ex}\n",
       "</style>\n",
       "<ol class=list-inline><li>59412</li><li>12</li></ol>\n"
      ],
      "text/latex": [
       "\\begin{enumerate*}\n",
       "\\item 59412\n",
       "\\item 12\n",
       "\\end{enumerate*}\n"
      ],
      "text/markdown": [
       "1. 59412\n",
       "2. 12\n",
       "\n",
       "\n"
      ],
      "text/plain": [
       "[1] 59412    12"
      ]
     },
     "metadata": {},
     "output_type": "display_data"
    },
    {
     "data": {
      "text/plain": [
       "\n",
       "Not Renewd    Renewed \n",
       " 0.9094964  0.0905036 "
      ]
     },
     "metadata": {},
     "output_type": "display_data"
    }
   ],
   "source": [
    "# initial training proportion \n",
    "dim(tr)\n",
    "prop.table(table(tr$renewal_status))"
   ]
  },
  {
   "cell_type": "code",
   "execution_count": null,
   "metadata": {},
   "outputs": [],
   "source": [
    "# downsamples\n",
    "tr_d <- downSample(x = tr %>% select(-renewal_status),\n",
    "                   y = tr$renewal_status)\n",
    "dim(tr_d)\n",
    "prop.table(table(tr_d$Class))"
   ]
  },
  {
   "cell_type": "code",
   "execution_count": null,
   "metadata": {},
   "outputs": [],
   "source": [
    "# upsamples\n",
    "tr_u <- upSample(x = tr %>% select(-renewal_status),\n",
    "                   y = tr$renewal_status)\n",
    "dim(tr_u)\n",
    "prop.table(table(tr_u$Class))"
   ]
  },
  {
   "cell_type": "code",
   "execution_count": 26,
   "metadata": {},
   "outputs": [
    {
     "name": "stderr",
     "output_type": "stream",
     "text": [
      "Warning message:\n",
      "“`funs()` is deprecated as of dplyr 0.8.0.\n",
      "Please use a list of either functions or lambdas: \n",
      "\n",
      "  # Simple named list: \n",
      "  list(mean = mean, median = median)\n",
      "\n",
      "  # Auto named with `tibble::lst()`: \n",
      "  tibble::lst(mean, median)\n",
      "\n",
      "  # Using lambdas\n",
      "  list(~ mean(., trim = .2), ~ median(., na.rm = TRUE))\n",
      "\u001b[90mThis warning is displayed once every 8 hours.\u001b[39m\n",
      "\u001b[90mCall `lifecycle::last_warnings()` to see where this warning was generated.\u001b[39m”\n"
     ]
    },
    {
     "data": {
      "text/html": [
       "<table>\n",
       "<caption>A data.frame: 1 × 12</caption>\n",
       "<thead>\n",
       "\t<tr><th scope=col>renewal_status</th><th scope=col>tld</th><th scope=col>registrar</th><th scope=col>reseller_country</th><th scope=col>region</th><th scope=col>reg_period</th><th scope=col>sld_type</th><th scope=col>sld_length</th><th scope=col>day_domains</th><th scope=col>gibb_score</th><th scope=col>pattern_domain_count</th><th scope=col>reg_arpt</th></tr>\n",
       "\t<tr><th scope=col>&lt;int&gt;</th><th scope=col>&lt;int&gt;</th><th scope=col>&lt;int&gt;</th><th scope=col>&lt;int&gt;</th><th scope=col>&lt;int&gt;</th><th scope=col>&lt;int&gt;</th><th scope=col>&lt;int&gt;</th><th scope=col>&lt;int&gt;</th><th scope=col>&lt;int&gt;</th><th scope=col>&lt;int&gt;</th><th scope=col>&lt;int&gt;</th><th scope=col>&lt;int&gt;</th></tr>\n",
       "</thead>\n",
       "<tbody>\n",
       "\t<tr><td>0</td><td>0</td><td>0</td><td>0</td><td>0</td><td>0</td><td>0</td><td>0</td><td>0</td><td>0</td><td>0</td><td>0</td></tr>\n",
       "</tbody>\n",
       "</table>\n"
      ],
      "text/latex": [
       "A data.frame: 1 × 12\n",
       "\\begin{tabular}{llllllllllll}\n",
       " renewal\\_status & tld & registrar & reseller\\_country & region & reg\\_period & sld\\_type & sld\\_length & day\\_domains & gibb\\_score & pattern\\_domain\\_count & reg\\_arpt\\\\\n",
       " <int> & <int> & <int> & <int> & <int> & <int> & <int> & <int> & <int> & <int> & <int> & <int>\\\\\n",
       "\\hline\n",
       "\t 0 & 0 & 0 & 0 & 0 & 0 & 0 & 0 & 0 & 0 & 0 & 0\\\\\n",
       "\\end{tabular}\n"
      ],
      "text/markdown": [
       "\n",
       "A data.frame: 1 × 12\n",
       "\n",
       "| renewal_status &lt;int&gt; | tld &lt;int&gt; | registrar &lt;int&gt; | reseller_country &lt;int&gt; | region &lt;int&gt; | reg_period &lt;int&gt; | sld_type &lt;int&gt; | sld_length &lt;int&gt; | day_domains &lt;int&gt; | gibb_score &lt;int&gt; | pattern_domain_count &lt;int&gt; | reg_arpt &lt;int&gt; |\n",
       "|---|---|---|---|---|---|---|---|---|---|---|---|\n",
       "| 0 | 0 | 0 | 0 | 0 | 0 | 0 | 0 | 0 | 0 | 0 | 0 |\n",
       "\n"
      ],
      "text/plain": [
       "  renewal_status tld registrar reseller_country region reg_period sld_type\n",
       "1 0              0   0         0                0      0          0       \n",
       "  sld_length day_domains gibb_score pattern_domain_count reg_arpt\n",
       "1 0          0           0          0                    0       "
      ]
     },
     "metadata": {},
     "output_type": "display_data"
    }
   ],
   "source": [
    "# check that imbalanced training doesn't have missing values\n",
    "tr %>%\n",
    "  select(everything()) %>%  # replace to your needs\n",
    "  summarise_all(funs(sum(is.na(.))))"
   ]
  },
  {
   "cell_type": "code",
   "execution_count": 28,
   "metadata": {},
   "outputs": [],
   "source": [
    "# convert any character vars to factors\n",
    "tr <- tr %>%\n",
    "  mutate_if(sapply(tr, is.character), as.factor)"
   ]
  },
  {
   "cell_type": "code",
   "execution_count": 59,
   "metadata": {},
   "outputs": [],
   "source": [
    "# create valid factor names for registrar \n",
    "# tr$registrar <- mapvalues(tr$registrar, levels(tr$registrar), make.names(levels(tr$registrar), unique=TRUE))\n",
    "# tr <- tr %>% \n",
    "#   mutate(registrar = factor(registrar, \n",
    "#                         labels = make.names(levels(registrar))))\n",
    "tr <- tr %>% \n",
    "  mutate(renewal_status = factor(renewal_status, \n",
    "                        labels = make.names(levels(renewal_status))))\n",
    "tr <- tr %>% \n",
    "  mutate(tld = factor(tld, \n",
    "                        labels = make.names(levels(tld))))\n",
    "tr <- tr %>% \n",
    "  mutate(reseller_country = factor(reseller_country, \n",
    "                        labels = make.names(levels(reseller_country))))\n",
    "tr <- tr %>% \n",
    "  mutate(region = factor(region, \n",
    "                        labels = make.names(levels(region))))\n",
    "tr <- tr %>% \n",
    "  mutate(sld_type = factor(sld_type, \n",
    "                        labels = make.names(levels(sld_type))))"
   ]
  },
  {
   "cell_type": "code",
   "execution_count": 60,
   "metadata": {},
   "outputs": [
    {
     "name": "stdout",
     "output_type": "stream",
     "text": [
      "Classes ‘data.table’ and 'data.frame':\t59412 obs. of  12 variables:\n",
      " $ renewal_status      : Factor w/ 2 levels \"Not.Renewd\",\"Renewed\": 1 1 1 1 1 1 1 1 1 1 ...\n",
      " $ tld                 : Factor w/ 11 levels \"fun\",\"host\",\"in.net\",..: 1 11 7 6 4 7 7 7 8 7 ...\n",
      " $ registrar           : Factor w/ 127 levels \"X1.1.internet\",..: 94 111 49 73 104 43 94 49 49 47 ...\n",
      " $ reseller_country    : Factor w/ 44 levels \"Argentina\",\"Australia\",..: 33 8 20 43 9 40 33 20 20 13 ...\n",
      " $ region              : Factor w/ 2 levels \"China\",\"Non.China\": 2 2 2 2 1 2 2 2 2 2 ...\n",
      " $ reg_period          : int  1 1 1 1 1 1 1 1 1 1 ...\n",
      " $ sld_type            : Factor w/ 6 levels \"hyphen.l\",\"l\",..: 3 2 2 2 2 2 1 2 3 4 ...\n",
      " $ sld_length          : int  9 10 6 9 8 9 20 6 10 21 ...\n",
      " $ day_domains         : int  78 77 3965 571 1269 16 166 2377 10 5675 ...\n",
      " $ gibb_score          : num  4.71 3.88 0.14 1.42 7.63 2.62 8.69 0.12 9.83 5.08 ...\n",
      " $ pattern_domain_count: int  1 1 2 2 3 1 3 2 1 204 ...\n",
      " $ reg_arpt            : num  0.5 1 0.1 1.09 0.75 0.4 0.5 0.1 0.3 0.5 ...\n",
      " - attr(*, \".internal.selfref\")=<externalptr> \n"
     ]
    }
   ],
   "source": [
    "str(tr)"
   ]
  },
  {
   "cell_type": "code",
   "execution_count": null,
   "metadata": {},
   "outputs": [],
   "source": [
    "# SMOTE\n",
    "tr_smote <- SMOTE(renewal_status ~ ., data  = tr)                         \n",
    "\n",
    "dim(tr_smote)\n",
    "prop.table(table(tr_smote$renewal_status))"
   ]
  },
  {
   "cell_type": "code",
   "execution_count": null,
   "metadata": {},
   "outputs": [],
   "source": [
    "# ROSE\n",
    "tr_rose <- ROSE(renewal_status ~ ., data  = tr)$data                         \n",
    "\n",
    "dim(tr_rose)\n",
    "prop.table(table(tr_rose$renewal_status))"
   ]
  },
  {
   "cell_type": "code",
   "execution_count": 34,
   "metadata": {},
   "outputs": [],
   "source": [
    "# For these data, we’ll use a bagged classification and estimate the area under the ROC curve using five repeats of 10-fold CV.\n",
    "\n",
    "ctrl <- trainControl(method = \"repeatedcv\", repeats = 5,\n",
    "                     classProbs = TRUE,\n",
    "                     summaryFunction = twoClassSummary)"
   ]
  },
  {
   "cell_type": "code",
   "execution_count": null,
   "metadata": {},
   "outputs": [],
   "source": [
    "orig_fit <- train(renewal_status ~ ., data = tr, \n",
    "                  method = \"treebag\",\n",
    "                  nbagg = 50,\n",
    "                  metric = \"ROC\",\n",
    "                  trControl = ctrl)"
   ]
  },
  {
   "cell_type": "code",
   "execution_count": null,
   "metadata": {},
   "outputs": [],
   "source": [
    "down_outside <- train(Class ~ ., data = down_train, \n",
    "                      method = \"treebag\",\n",
    "                      nbagg = 50,\n",
    "                      metric = \"ROC\",\n",
    "                      trControl = ctrl)"
   ]
  },
  {
   "cell_type": "code",
   "execution_count": null,
   "metadata": {},
   "outputs": [],
   "source": [
    "up_outside <- train(Class ~ ., data = up_train, \n",
    "                    method = \"treebag\",\n",
    "                    nbagg = 50,\n",
    "                    metric = \"ROC\",\n",
    "                    trControl = ctrl)"
   ]
  },
  {
   "cell_type": "code",
   "execution_count": null,
   "metadata": {},
   "outputs": [],
   "source": [
    "rose_outside <- train(Class ~ ., data = rose_train, \n",
    "                      method = \"treebag\",\n",
    "                      nbagg = 50,\n",
    "                      metric = \"ROC\",\n",
    "                      trControl = ctrl)"
   ]
  },
  {
   "cell_type": "code",
   "execution_count": null,
   "metadata": {},
   "outputs": [],
   "source": [
    "smote_outside <- train(Class ~ ., data = smote_train, \n",
    "                       method = \"treebag\",\n",
    "                       nbagg = 50,\n",
    "                       metric = \"ROC\",\n",
    "                       trControl = ctrl)"
   ]
  },
  {
   "cell_type": "code",
   "execution_count": null,
   "metadata": {},
   "outputs": [],
   "source": [
    "# We will collate the resampling results and create a wrapper to estimate the test set performance:\n",
    "\n",
    "outside_models <- list(original = orig_fit,\n",
    "                       down = down_outside,\n",
    "                       up = up_outside,\n",
    "                       SMOTE = smote_outside,\n",
    "                       ROSE = rose_outside)\n",
    "\n",
    "outside_resampling <- resamples(outside_models)\n",
    "\n",
    "test_roc <- function(model, data) {\n",
    "  library(pROC)\n",
    "  roc_obj <- roc(data$Class, \n",
    "                 predict(model, data, type = \"prob\")[, \"Class1\"],\n",
    "                 levels = c(\"Class2\", \"Class1\"))\n",
    "  ci(roc_obj)\n",
    "  }\n",
    "\n",
    "outside_test <- lapply(outside_models, test_roc, data = imbal_test)\n",
    "outside_test <- lapply(outside_test, as.vector)\n",
    "outside_test <- do.call(\"rbind\", outside_test)\n",
    "colnames(outside_test) <- c(\"lower\", \"ROC\", \"upper\")\n",
    "outside_test <- as.data.frame(outside_test)\n",
    "\n",
    "summary(outside_resampling, metric = \"ROC\")"
   ]
  }
 ],
 "metadata": {
  "environment": {
   "name": "r-cpu.3-6.m48",
   "type": "gcloud",
   "uri": "gcr.io/deeplearning-platform-release/r-cpu.3-6:m48"
  },
  "kernelspec": {
   "display_name": "R",
   "language": "R",
   "name": "ir"
  },
  "language_info": {
   "codemirror_mode": "r",
   "file_extension": ".r",
   "mimetype": "text/x-r-source",
   "name": "R",
   "pygments_lexer": "r",
   "version": "3.6.3"
  }
 },
 "nbformat": 4,
 "nbformat_minor": 4
}
