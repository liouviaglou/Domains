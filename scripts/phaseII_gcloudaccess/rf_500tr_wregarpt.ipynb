{
 "cells": [
  {
   "cell_type": "markdown",
   "metadata": {},
   "source": [
    "# Retrain RF on phase1 data but include reg_arpt as predictor"
   ]
  },
  {
   "cell_type": "code",
   "execution_count": 1,
   "metadata": {},
   "outputs": [],
   "source": [
    "# install.packages(\"stringdist\")"
   ]
  },
  {
   "cell_type": "code",
   "execution_count": 1,
   "metadata": {},
   "outputs": [
    {
     "name": "stderr",
     "output_type": "stream",
     "text": [
      "\n",
      "Attaching package: ‘dplyr’\n",
      "\n",
      "\n",
      "The following objects are masked from ‘package:stats’:\n",
      "\n",
      "    filter, lag\n",
      "\n",
      "\n",
      "The following objects are masked from ‘package:base’:\n",
      "\n",
      "    intersect, setdiff, setequal, union\n",
      "\n",
      "\n",
      "\n",
      "Attaching package: ‘data.table’\n",
      "\n",
      "\n",
      "The following objects are masked from ‘package:dplyr’:\n",
      "\n",
      "    between, first, last\n",
      "\n",
      "\n",
      "Loading required package: grid\n",
      "\n",
      "Loading required package: libcoin\n",
      "\n",
      "Loading required package: mvtnorm\n",
      "\n",
      "Loading required package: lattice\n",
      "\n",
      "Loading required package: ggplot2\n",
      "\n",
      "randomForest 4.6-14\n",
      "\n",
      "Type rfNews() to see new features/changes/bug fixes.\n",
      "\n",
      "\n",
      "Attaching package: ‘randomForest’\n",
      "\n",
      "\n",
      "The following object is masked from ‘package:ggplot2’:\n",
      "\n",
      "    margin\n",
      "\n",
      "\n",
      "The following object is masked from ‘package:dplyr’:\n",
      "\n",
      "    combine\n",
      "\n",
      "\n",
      "\n",
      "Attaching package: ‘ranger’\n",
      "\n",
      "\n",
      "The following object is masked from ‘package:randomForest’:\n",
      "\n",
      "    importance\n",
      "\n",
      "\n",
      "\n",
      "Attaching package: ‘plotly’\n",
      "\n",
      "\n",
      "The following object is masked from ‘package:ggplot2’:\n",
      "\n",
      "    last_plot\n",
      "\n",
      "\n",
      "The following object is masked from ‘package:stats’:\n",
      "\n",
      "    filter\n",
      "\n",
      "\n",
      "The following object is masked from ‘package:graphics’:\n",
      "\n",
      "    layout\n",
      "\n",
      "\n",
      "Loading required package: RJSONIO\n",
      "\n"
     ]
    },
    {
     "data": {
      "text/html": [
       "'/home/jupyter/local/Domains_202003/scripts/phaseII_gcloudaccess'"
      ],
      "text/latex": [
       "'/home/jupyter/local/Domains\\_202003/scripts/phaseII\\_gcloudaccess'"
      ],
      "text/markdown": [
       "'/home/jupyter/local/Domains_202003/scripts/phaseII_gcloudaccess'"
      ],
      "text/plain": [
       "[1] \"/home/jupyter/local/Domains_202003/scripts/phaseII_gcloudaccess\""
      ]
     },
     "metadata": {},
     "output_type": "display_data"
    }
   ],
   "source": [
    "library(dplyr)\n",
    "library(data.table)\n",
    "library(partykit)\n",
    "library(tictoc)\n",
    "library(caret)\n",
    "library(e1071)\n",
    "library(randomForest)\n",
    "library(ranger)\n",
    "\n",
    "#for 3d plotting\n",
    "library(akima)\n",
    "library(plotly)\n",
    "\n",
    "# for prep data\n",
    "library(rPython)\n",
    "library(stringr)\n",
    "library(pbapply)\n",
    "library(stringdist)\n",
    "library(data.table)\n",
    "\n",
    "getwd()"
   ]
  },
  {
   "cell_type": "code",
   "execution_count": 2,
   "metadata": {},
   "outputs": [],
   "source": [
    "\n",
    "source('../orig/functions.R')\n",
    "\n",
    "source('../orig/functions_models.R')\n",
    "\n",
    "source('functions_eval.R')\n"
   ]
  },
  {
   "cell_type": "markdown",
   "metadata": {},
   "source": [
    "# Load data"
   ]
  },
  {
   "cell_type": "code",
   "execution_count": 3,
   "metadata": {},
   "outputs": [],
   "source": [
    "# ranger_03 trained on train_df_f_sub, a subset (sans leaked vars) of train_df_f which was defined in dtree_play_3.R\n",
    "# i'm bypassing the creation of date related variables as those are ultimately leaks\n",
    "\n",
    "train <- readRDS(\"../../data/train\")\n",
    "train_df <- rbindlist(train)\n",
    "\n",
    "train_df_f_sub <- subset(train_df, select = c(renewal_status, tld, registrar, reseller, \n",
    "                                              reseller_country, region, reg_period, \n",
    "                                              sld_type, sld_length, day_domains, gibb_score, \n",
    "                                              pattern_domain_count,reg_arpt) ) \n",
    "train_df_f_sub <- train_df_f_sub %>%\n",
    "  mutate_if(sapply(train_df_f_sub, is.character), as.factor)"
   ]
  },
  {
   "cell_type": "code",
   "execution_count": 4,
   "metadata": {},
   "outputs": [
    {
     "data": {
      "text/html": [
       "<table>\n",
       "<caption>A data.table: 6 × 13</caption>\n",
       "<thead>\n",
       "\t<tr><th scope=col>renewal_status</th><th scope=col>tld</th><th scope=col>registrar</th><th scope=col>reseller</th><th scope=col>reseller_country</th><th scope=col>region</th><th scope=col>reg_period</th><th scope=col>sld_type</th><th scope=col>sld_length</th><th scope=col>day_domains</th><th scope=col>gibb_score</th><th scope=col>pattern_domain_count</th><th scope=col>reg_arpt</th></tr>\n",
       "\t<tr><th scope=col>&lt;fct&gt;</th><th scope=col>&lt;fct&gt;</th><th scope=col>&lt;fct&gt;</th><th scope=col>&lt;fct&gt;</th><th scope=col>&lt;fct&gt;</th><th scope=col>&lt;fct&gt;</th><th scope=col>&lt;int&gt;</th><th scope=col>&lt;fct&gt;</th><th scope=col>&lt;int&gt;</th><th scope=col>&lt;int&gt;</th><th scope=col>&lt;dbl&gt;</th><th scope=col>&lt;int&gt;</th><th scope=col>&lt;dbl&gt;</th></tr>\n",
       "</thead>\n",
       "<tbody>\n",
       "\t<tr><td>Not Renewd</td><td>fun</td><td>gmo</td><td>gmo</td><td>Japan</td><td>Non China</td><td>1</td><td>l</td><td>7</td><td>32</td><td>7.41</td><td>1</td><td>8</td></tr>\n",
       "\t<tr><td>Renewed   </td><td>fun</td><td>gmo</td><td>gmo</td><td>Japan</td><td>Non China</td><td>1</td><td>l</td><td>4</td><td>32</td><td>5.29</td><td>1</td><td>8</td></tr>\n",
       "\t<tr><td>Not Renewd</td><td>fun</td><td>gmo</td><td>gmo</td><td>Japan</td><td>Non China</td><td>1</td><td>l</td><td>8</td><td>32</td><td>9.94</td><td>1</td><td>8</td></tr>\n",
       "\t<tr><td>Not Renewd</td><td>fun</td><td>gmo</td><td>gmo</td><td>Japan</td><td>Non China</td><td>1</td><td>l</td><td>6</td><td>32</td><td>9.38</td><td>1</td><td>8</td></tr>\n",
       "\t<tr><td>Not Renewd</td><td>fun</td><td>gmo</td><td>gmo</td><td>Japan</td><td>Non China</td><td>1</td><td>l</td><td>6</td><td>32</td><td>1.99</td><td>1</td><td>8</td></tr>\n",
       "\t<tr><td>Renewed   </td><td>fun</td><td>gmo</td><td>gmo</td><td>Japan</td><td>Non China</td><td>1</td><td>l</td><td>3</td><td>32</td><td>0.31</td><td>1</td><td>8</td></tr>\n",
       "</tbody>\n",
       "</table>\n"
      ],
      "text/latex": [
       "A data.table: 6 × 13\n",
       "\\begin{tabular}{lllllllllllll}\n",
       " renewal\\_status & tld & registrar & reseller & reseller\\_country & region & reg\\_period & sld\\_type & sld\\_length & day\\_domains & gibb\\_score & pattern\\_domain\\_count & reg\\_arpt\\\\\n",
       " <fct> & <fct> & <fct> & <fct> & <fct> & <fct> & <int> & <fct> & <int> & <int> & <dbl> & <int> & <dbl>\\\\\n",
       "\\hline\n",
       "\t Not Renewd & fun & gmo & gmo & Japan & Non China & 1 & l & 7 & 32 & 7.41 & 1 & 8\\\\\n",
       "\t Renewed    & fun & gmo & gmo & Japan & Non China & 1 & l & 4 & 32 & 5.29 & 1 & 8\\\\\n",
       "\t Not Renewd & fun & gmo & gmo & Japan & Non China & 1 & l & 8 & 32 & 9.94 & 1 & 8\\\\\n",
       "\t Not Renewd & fun & gmo & gmo & Japan & Non China & 1 & l & 6 & 32 & 9.38 & 1 & 8\\\\\n",
       "\t Not Renewd & fun & gmo & gmo & Japan & Non China & 1 & l & 6 & 32 & 1.99 & 1 & 8\\\\\n",
       "\t Renewed    & fun & gmo & gmo & Japan & Non China & 1 & l & 3 & 32 & 0.31 & 1 & 8\\\\\n",
       "\\end{tabular}\n"
      ],
      "text/markdown": [
       "\n",
       "A data.table: 6 × 13\n",
       "\n",
       "| renewal_status &lt;fct&gt; | tld &lt;fct&gt; | registrar &lt;fct&gt; | reseller &lt;fct&gt; | reseller_country &lt;fct&gt; | region &lt;fct&gt; | reg_period &lt;int&gt; | sld_type &lt;fct&gt; | sld_length &lt;int&gt; | day_domains &lt;int&gt; | gibb_score &lt;dbl&gt; | pattern_domain_count &lt;int&gt; | reg_arpt &lt;dbl&gt; |\n",
       "|---|---|---|---|---|---|---|---|---|---|---|---|---|\n",
       "| Not Renewd | fun | gmo | gmo | Japan | Non China | 1 | l | 7 | 32 | 7.41 | 1 | 8 |\n",
       "| Renewed    | fun | gmo | gmo | Japan | Non China | 1 | l | 4 | 32 | 5.29 | 1 | 8 |\n",
       "| Not Renewd | fun | gmo | gmo | Japan | Non China | 1 | l | 8 | 32 | 9.94 | 1 | 8 |\n",
       "| Not Renewd | fun | gmo | gmo | Japan | Non China | 1 | l | 6 | 32 | 9.38 | 1 | 8 |\n",
       "| Not Renewd | fun | gmo | gmo | Japan | Non China | 1 | l | 6 | 32 | 1.99 | 1 | 8 |\n",
       "| Renewed    | fun | gmo | gmo | Japan | Non China | 1 | l | 3 | 32 | 0.31 | 1 | 8 |\n",
       "\n"
      ],
      "text/plain": [
       "  renewal_status tld registrar reseller reseller_country region    reg_period\n",
       "1 Not Renewd     fun gmo       gmo      Japan            Non China 1         \n",
       "2 Renewed        fun gmo       gmo      Japan            Non China 1         \n",
       "3 Not Renewd     fun gmo       gmo      Japan            Non China 1         \n",
       "4 Not Renewd     fun gmo       gmo      Japan            Non China 1         \n",
       "5 Not Renewd     fun gmo       gmo      Japan            Non China 1         \n",
       "6 Renewed        fun gmo       gmo      Japan            Non China 1         \n",
       "  sld_type sld_length day_domains gibb_score pattern_domain_count reg_arpt\n",
       "1 l        7          32          7.41       1                    8       \n",
       "2 l        4          32          5.29       1                    8       \n",
       "3 l        8          32          9.94       1                    8       \n",
       "4 l        6          32          9.38       1                    8       \n",
       "5 l        6          32          1.99       1                    8       \n",
       "6 l        3          32          0.31       1                    8       "
      ]
     },
     "metadata": {},
     "output_type": "display_data"
    }
   ],
   "source": [
    "head(train_df_f_sub)"
   ]
  },
  {
   "cell_type": "code",
   "execution_count": 5,
   "metadata": {},
   "outputs": [
    {
     "data": {
      "text/html": [
       "<style>\n",
       ".list-inline {list-style: none; margin:0; padding: 0}\n",
       ".list-inline>li {display: inline-block}\n",
       ".list-inline>li:not(:last-child)::after {content: \"\\00b7\"; padding: 0 .5ex}\n",
       "</style>\n",
       "<ol class=list-inline><li>1559265</li><li>13</li></ol>\n"
      ],
      "text/latex": [
       "\\begin{enumerate*}\n",
       "\\item 1559265\n",
       "\\item 13\n",
       "\\end{enumerate*}\n"
      ],
      "text/markdown": [
       "1. 1559265\n",
       "2. 13\n",
       "\n",
       "\n"
      ],
      "text/plain": [
       "[1] 1559265      13"
      ]
     },
     "metadata": {},
     "output_type": "display_data"
    }
   ],
   "source": [
    "dim(train_df_f_sub)"
   ]
  },
  {
   "cell_type": "markdown",
   "metadata": {},
   "source": [
    "## count by group to assess data diversity"
   ]
  },
  {
   "cell_type": "code",
   "execution_count": 6,
   "metadata": {},
   "outputs": [
    {
     "data": {
      "text/html": [
       "<table>\n",
       "<caption>A tibble: 3 × 2</caption>\n",
       "<thead>\n",
       "\t<tr><th scope=col>registrar</th><th scope=col>n</th></tr>\n",
       "\t<tr><th scope=col>&lt;fct&gt;</th><th scope=col>&lt;int&gt;</th></tr>\n",
       "</thead>\n",
       "<tbody>\n",
       "\t<tr><td>namecheap</td><td>967254</td></tr>\n",
       "\t<tr><td>go daddy </td><td>340111</td></tr>\n",
       "\t<tr><td>gmo      </td><td>251900</td></tr>\n",
       "</tbody>\n",
       "</table>\n"
      ],
      "text/latex": [
       "A tibble: 3 × 2\n",
       "\\begin{tabular}{ll}\n",
       " registrar & n\\\\\n",
       " <fct> & <int>\\\\\n",
       "\\hline\n",
       "\t namecheap & 967254\\\\\n",
       "\t go daddy  & 340111\\\\\n",
       "\t gmo       & 251900\\\\\n",
       "\\end{tabular}\n"
      ],
      "text/markdown": [
       "\n",
       "A tibble: 3 × 2\n",
       "\n",
       "| registrar &lt;fct&gt; | n &lt;int&gt; |\n",
       "|---|---|\n",
       "| namecheap | 967254 |\n",
       "| go daddy  | 340111 |\n",
       "| gmo       | 251900 |\n",
       "\n"
      ],
      "text/plain": [
       "  registrar n     \n",
       "1 namecheap 967254\n",
       "2 go daddy  340111\n",
       "3 gmo       251900"
      ]
     },
     "metadata": {},
     "output_type": "display_data"
    }
   ],
   "source": [
    "train_df_f_sub %>% \n",
    "    group_by(registrar) %>% \n",
    "    tally() %>% \n",
    "    arrange(desc(n)) "
   ]
  },
  {
   "cell_type": "code",
   "execution_count": 7,
   "metadata": {},
   "outputs": [
    {
     "data": {
      "text/html": [
       "<table>\n",
       "<caption>A grouped_df: 32 × 3</caption>\n",
       "<thead>\n",
       "\t<tr><th scope=col>tld</th><th scope=col>registrar</th><th scope=col>n</th></tr>\n",
       "\t<tr><th scope=col>&lt;fct&gt;</th><th scope=col>&lt;fct&gt;</th><th scope=col>&lt;int&gt;</th></tr>\n",
       "</thead>\n",
       "<tbody>\n",
       "\t<tr><td>site   </td><td>namecheap</td><td>209076</td></tr>\n",
       "\t<tr><td>site   </td><td>gmo      </td><td>177102</td></tr>\n",
       "\t<tr><td>online </td><td>go daddy </td><td>155211</td></tr>\n",
       "\t<tr><td>online </td><td>namecheap</td><td>154637</td></tr>\n",
       "\t<tr><td>pw     </td><td>namecheap</td><td>144846</td></tr>\n",
       "\t<tr><td>website</td><td>namecheap</td><td>120162</td></tr>\n",
       "\t<tr><td>space  </td><td>namecheap</td><td> 90966</td></tr>\n",
       "\t<tr><td>host   </td><td>namecheap</td><td> 74200</td></tr>\n",
       "\t<tr><td>fun    </td><td>namecheap</td><td> 59852</td></tr>\n",
       "\t<tr><td>press  </td><td>namecheap</td><td> 58724</td></tr>\n",
       "\t<tr><td>site   </td><td>go daddy </td><td> 41158</td></tr>\n",
       "\t<tr><td>store  </td><td>go daddy </td><td> 33115</td></tr>\n",
       "\t<tr><td>space  </td><td>go daddy </td><td> 30956</td></tr>\n",
       "\t<tr><td>store  </td><td>namecheap</td><td> 27943</td></tr>\n",
       "\t<tr><td>website</td><td>go daddy </td><td> 27777</td></tr>\n",
       "\t<tr><td>tech   </td><td>namecheap</td><td> 26390</td></tr>\n",
       "\t<tr><td>tech   </td><td>go daddy </td><td> 21818</td></tr>\n",
       "\t<tr><td>online </td><td>gmo      </td><td> 19710</td></tr>\n",
       "\t<tr><td>fun    </td><td>gmo      </td><td> 13868</td></tr>\n",
       "\t<tr><td>pw     </td><td>go daddy </td><td> 13835</td></tr>\n",
       "\t<tr><td>space  </td><td>gmo      </td><td> 13667</td></tr>\n",
       "\t<tr><td>pw     </td><td>gmo      </td><td> 10363</td></tr>\n",
       "\t<tr><td>website</td><td>gmo      </td><td>  9626</td></tr>\n",
       "\t<tr><td>fun    </td><td>go daddy </td><td>  8328</td></tr>\n",
       "\t<tr><td>host   </td><td>go daddy </td><td>  6601</td></tr>\n",
       "\t<tr><td>tech   </td><td>gmo      </td><td>  5731</td></tr>\n",
       "\t<tr><td>press  </td><td>go daddy </td><td>  1312</td></tr>\n",
       "\t<tr><td>press  </td><td>gmo      </td><td>   919</td></tr>\n",
       "\t<tr><td>in.net </td><td>namecheap</td><td>   458</td></tr>\n",
       "\t<tr><td>store  </td><td>gmo      </td><td>   430</td></tr>\n",
       "\t<tr><td>host   </td><td>gmo      </td><td>   296</td></tr>\n",
       "\t<tr><td>in.net </td><td>gmo      </td><td>   188</td></tr>\n",
       "</tbody>\n",
       "</table>\n"
      ],
      "text/latex": [
       "A grouped\\_df: 32 × 3\n",
       "\\begin{tabular}{lll}\n",
       " tld & registrar & n\\\\\n",
       " <fct> & <fct> & <int>\\\\\n",
       "\\hline\n",
       "\t site    & namecheap & 209076\\\\\n",
       "\t site    & gmo       & 177102\\\\\n",
       "\t online  & go daddy  & 155211\\\\\n",
       "\t online  & namecheap & 154637\\\\\n",
       "\t pw      & namecheap & 144846\\\\\n",
       "\t website & namecheap & 120162\\\\\n",
       "\t space   & namecheap &  90966\\\\\n",
       "\t host    & namecheap &  74200\\\\\n",
       "\t fun     & namecheap &  59852\\\\\n",
       "\t press   & namecheap &  58724\\\\\n",
       "\t site    & go daddy  &  41158\\\\\n",
       "\t store   & go daddy  &  33115\\\\\n",
       "\t space   & go daddy  &  30956\\\\\n",
       "\t store   & namecheap &  27943\\\\\n",
       "\t website & go daddy  &  27777\\\\\n",
       "\t tech    & namecheap &  26390\\\\\n",
       "\t tech    & go daddy  &  21818\\\\\n",
       "\t online  & gmo       &  19710\\\\\n",
       "\t fun     & gmo       &  13868\\\\\n",
       "\t pw      & go daddy  &  13835\\\\\n",
       "\t space   & gmo       &  13667\\\\\n",
       "\t pw      & gmo       &  10363\\\\\n",
       "\t website & gmo       &   9626\\\\\n",
       "\t fun     & go daddy  &   8328\\\\\n",
       "\t host    & go daddy  &   6601\\\\\n",
       "\t tech    & gmo       &   5731\\\\\n",
       "\t press   & go daddy  &   1312\\\\\n",
       "\t press   & gmo       &    919\\\\\n",
       "\t in.net  & namecheap &    458\\\\\n",
       "\t store   & gmo       &    430\\\\\n",
       "\t host    & gmo       &    296\\\\\n",
       "\t in.net  & gmo       &    188\\\\\n",
       "\\end{tabular}\n"
      ],
      "text/markdown": [
       "\n",
       "A grouped_df: 32 × 3\n",
       "\n",
       "| tld &lt;fct&gt; | registrar &lt;fct&gt; | n &lt;int&gt; |\n",
       "|---|---|---|\n",
       "| site    | namecheap | 209076 |\n",
       "| site    | gmo       | 177102 |\n",
       "| online  | go daddy  | 155211 |\n",
       "| online  | namecheap | 154637 |\n",
       "| pw      | namecheap | 144846 |\n",
       "| website | namecheap | 120162 |\n",
       "| space   | namecheap |  90966 |\n",
       "| host    | namecheap |  74200 |\n",
       "| fun     | namecheap |  59852 |\n",
       "| press   | namecheap |  58724 |\n",
       "| site    | go daddy  |  41158 |\n",
       "| store   | go daddy  |  33115 |\n",
       "| space   | go daddy  |  30956 |\n",
       "| store   | namecheap |  27943 |\n",
       "| website | go daddy  |  27777 |\n",
       "| tech    | namecheap |  26390 |\n",
       "| tech    | go daddy  |  21818 |\n",
       "| online  | gmo       |  19710 |\n",
       "| fun     | gmo       |  13868 |\n",
       "| pw      | go daddy  |  13835 |\n",
       "| space   | gmo       |  13667 |\n",
       "| pw      | gmo       |  10363 |\n",
       "| website | gmo       |   9626 |\n",
       "| fun     | go daddy  |   8328 |\n",
       "| host    | go daddy  |   6601 |\n",
       "| tech    | gmo       |   5731 |\n",
       "| press   | go daddy  |   1312 |\n",
       "| press   | gmo       |    919 |\n",
       "| in.net  | namecheap |    458 |\n",
       "| store   | gmo       |    430 |\n",
       "| host    | gmo       |    296 |\n",
       "| in.net  | gmo       |    188 |\n",
       "\n"
      ],
      "text/plain": [
       "   tld     registrar n     \n",
       "1  site    namecheap 209076\n",
       "2  site    gmo       177102\n",
       "3  online  go daddy  155211\n",
       "4  online  namecheap 154637\n",
       "5  pw      namecheap 144846\n",
       "6  website namecheap 120162\n",
       "7  space   namecheap  90966\n",
       "8  host    namecheap  74200\n",
       "9  fun     namecheap  59852\n",
       "10 press   namecheap  58724\n",
       "11 site    go daddy   41158\n",
       "12 store   go daddy   33115\n",
       "13 space   go daddy   30956\n",
       "14 store   namecheap  27943\n",
       "15 website go daddy   27777\n",
       "16 tech    namecheap  26390\n",
       "17 tech    go daddy   21818\n",
       "18 online  gmo        19710\n",
       "19 fun     gmo        13868\n",
       "20 pw      go daddy   13835\n",
       "21 space   gmo        13667\n",
       "22 pw      gmo        10363\n",
       "23 website gmo         9626\n",
       "24 fun     go daddy    8328\n",
       "25 host    go daddy    6601\n",
       "26 tech    gmo         5731\n",
       "27 press   go daddy    1312\n",
       "28 press   gmo          919\n",
       "29 in.net  namecheap    458\n",
       "30 store   gmo          430\n",
       "31 host    gmo          296\n",
       "32 in.net  gmo          188"
      ]
     },
     "metadata": {},
     "output_type": "display_data"
    }
   ],
   "source": [
    "train_df_f_sub %>% \n",
    "    group_by(tld, registrar) %>% \n",
    "    tally() %>% \n",
    "    arrange(desc(n)) "
   ]
  },
  {
   "cell_type": "code",
   "execution_count": 8,
   "metadata": {},
   "outputs": [
    {
     "data": {
      "text/html": [
       "<table>\n",
       "<caption>A grouped_df: 582 × 4</caption>\n",
       "<thead>\n",
       "\t<tr><th scope=col>tld</th><th scope=col>registrar</th><th scope=col>reg_arpt</th><th scope=col>n</th></tr>\n",
       "\t<tr><th scope=col>&lt;fct&gt;</th><th scope=col>&lt;fct&gt;</th><th scope=col>&lt;dbl&gt;</th><th scope=col>&lt;int&gt;</th></tr>\n",
       "</thead>\n",
       "<tbody>\n",
       "\t<tr><td>site   </td><td>gmo      </td><td>0.1000</td><td>172611</td></tr>\n",
       "\t<tr><td>online </td><td>go daddy </td><td>0.5000</td><td> 70812</td></tr>\n",
       "\t<tr><td>site   </td><td>namecheap</td><td>0.4800</td><td> 64470</td></tr>\n",
       "\t<tr><td>pw     </td><td>namecheap</td><td>0.4800</td><td> 60162</td></tr>\n",
       "\t<tr><td>site   </td><td>namecheap</td><td>0.4400</td><td> 55059</td></tr>\n",
       "\t<tr><td>online </td><td>namecheap</td><td>0.4800</td><td> 49726</td></tr>\n",
       "\t<tr><td>site   </td><td>namecheap</td><td>0.5900</td><td> 46029</td></tr>\n",
       "\t<tr><td>pw     </td><td>namecheap</td><td>0.5900</td><td> 45274</td></tr>\n",
       "\t<tr><td>online </td><td>go daddy </td><td>2.5000</td><td> 37656</td></tr>\n",
       "\t<tr><td>website</td><td>namecheap</td><td>0.0001</td><td> 35087</td></tr>\n",
       "\t<tr><td>online </td><td>namecheap</td><td>2.4800</td><td> 35066</td></tr>\n",
       "\t<tr><td>press  </td><td>namecheap</td><td>0.4400</td><td> 34956</td></tr>\n",
       "\t<tr><td>site   </td><td>go daddy </td><td>0.5000</td><td> 33169</td></tr>\n",
       "\t<tr><td>online </td><td>namecheap</td><td>0.5900</td><td> 32821</td></tr>\n",
       "\t<tr><td>host   </td><td>namecheap</td><td>0.5900</td><td> 29807</td></tr>\n",
       "\t<tr><td>website</td><td>namecheap</td><td>0.4400</td><td> 27903</td></tr>\n",
       "\t<tr><td>space  </td><td>namecheap</td><td>0.5900</td><td> 27864</td></tr>\n",
       "\t<tr><td>store  </td><td>go daddy </td><td>2.5000</td><td> 25410</td></tr>\n",
       "\t<tr><td>website</td><td>namecheap</td><td>0.5900</td><td> 25207</td></tr>\n",
       "\t<tr><td>space  </td><td>namecheap</td><td>0.4400</td><td> 24585</td></tr>\n",
       "\t<tr><td>pw     </td><td>namecheap</td><td>0.3500</td><td> 23413</td></tr>\n",
       "\t<tr><td>website</td><td>namecheap</td><td>0.4800</td><td> 23330</td></tr>\n",
       "\t<tr><td>website</td><td>go daddy </td><td>0.5000</td><td> 22872</td></tr>\n",
       "\t<tr><td>host   </td><td>namecheap</td><td>0.4800</td><td> 19379</td></tr>\n",
       "\t<tr><td>fun    </td><td>namecheap</td><td>0.5700</td><td> 18720</td></tr>\n",
       "\t<tr><td>space  </td><td>go daddy </td><td>0.5000</td><td> 18542</td></tr>\n",
       "\t<tr><td>online </td><td>go daddy </td><td>1.5000</td><td> 17540</td></tr>\n",
       "\t<tr><td>online </td><td>namecheap</td><td>0.4400</td><td> 16066</td></tr>\n",
       "\t<tr><td>site   </td><td>namecheap</td><td>1.0900</td><td> 16007</td></tr>\n",
       "\t<tr><td>space  </td><td>namecheap</td><td>0.4800</td><td> 14867</td></tr>\n",
       "\t<tr><td>⋮</td><td>⋮</td><td>⋮</td><td>⋮</td></tr>\n",
       "\t<tr><td>space  </td><td>gmo      </td><td> 4.1000</td><td>1</td></tr>\n",
       "\t<tr><td>space  </td><td>gmo      </td><td> 4.3300</td><td>1</td></tr>\n",
       "\t<tr><td>space  </td><td>namecheap</td><td> 0.0001</td><td>1</td></tr>\n",
       "\t<tr><td>space  </td><td>namecheap</td><td> 3.3300</td><td>1</td></tr>\n",
       "\t<tr><td>space  </td><td>namecheap</td><td> 5.0000</td><td>1</td></tr>\n",
       "\t<tr><td>store  </td><td>go daddy </td><td> 0.0001</td><td>1</td></tr>\n",
       "\t<tr><td>store  </td><td>go daddy </td><td>22.0000</td><td>1</td></tr>\n",
       "\t<tr><td>store  </td><td>namecheap</td><td> 0.0001</td><td>1</td></tr>\n",
       "\t<tr><td>store  </td><td>namecheap</td><td>10.0000</td><td>1</td></tr>\n",
       "\t<tr><td>store  </td><td>namecheap</td><td>21.0000</td><td>1</td></tr>\n",
       "\t<tr><td>tech   </td><td>gmo      </td><td>23.6100</td><td>1</td></tr>\n",
       "\t<tr><td>tech   </td><td>gmo      </td><td>23.8300</td><td>1</td></tr>\n",
       "\t<tr><td>tech   </td><td>gmo      </td><td>24.2300</td><td>1</td></tr>\n",
       "\t<tr><td>tech   </td><td>gmo      </td><td>25.0000</td><td>1</td></tr>\n",
       "\t<tr><td>tech   </td><td>go daddy </td><td>17.8800</td><td>1</td></tr>\n",
       "\t<tr><td>tech   </td><td>namecheap</td><td> 4.8200</td><td>1</td></tr>\n",
       "\t<tr><td>tech   </td><td>namecheap</td><td> 5.1600</td><td>1</td></tr>\n",
       "\t<tr><td>tech   </td><td>namecheap</td><td> 9.0000</td><td>1</td></tr>\n",
       "\t<tr><td>tech   </td><td>namecheap</td><td> 9.7500</td><td>1</td></tr>\n",
       "\t<tr><td>tech   </td><td>namecheap</td><td>10.5000</td><td>1</td></tr>\n",
       "\t<tr><td>tech   </td><td>namecheap</td><td>20.9400</td><td>1</td></tr>\n",
       "\t<tr><td>tech   </td><td>namecheap</td><td>27.3300</td><td>1</td></tr>\n",
       "\t<tr><td>tech   </td><td>namecheap</td><td>29.2500</td><td>1</td></tr>\n",
       "\t<tr><td>tech   </td><td>namecheap</td><td>35.0000</td><td>1</td></tr>\n",
       "\t<tr><td>website</td><td>gmo      </td><td> 0.2700</td><td>1</td></tr>\n",
       "\t<tr><td>website</td><td>gmo      </td><td> 0.9000</td><td>1</td></tr>\n",
       "\t<tr><td>website</td><td>gmo      </td><td> 5.0000</td><td>1</td></tr>\n",
       "\t<tr><td>website</td><td>gmo      </td><td>10.2700</td><td>1</td></tr>\n",
       "\t<tr><td>website</td><td>go daddy </td><td>10.2700</td><td>1</td></tr>\n",
       "\t<tr><td>website</td><td>namecheap</td><td>10.8300</td><td>1</td></tr>\n",
       "</tbody>\n",
       "</table>\n"
      ],
      "text/latex": [
       "A grouped\\_df: 582 × 4\n",
       "\\begin{tabular}{llll}\n",
       " tld & registrar & reg\\_arpt & n\\\\\n",
       " <fct> & <fct> & <dbl> & <int>\\\\\n",
       "\\hline\n",
       "\t site    & gmo       & 0.1000 & 172611\\\\\n",
       "\t online  & go daddy  & 0.5000 &  70812\\\\\n",
       "\t site    & namecheap & 0.4800 &  64470\\\\\n",
       "\t pw      & namecheap & 0.4800 &  60162\\\\\n",
       "\t site    & namecheap & 0.4400 &  55059\\\\\n",
       "\t online  & namecheap & 0.4800 &  49726\\\\\n",
       "\t site    & namecheap & 0.5900 &  46029\\\\\n",
       "\t pw      & namecheap & 0.5900 &  45274\\\\\n",
       "\t online  & go daddy  & 2.5000 &  37656\\\\\n",
       "\t website & namecheap & 0.0001 &  35087\\\\\n",
       "\t online  & namecheap & 2.4800 &  35066\\\\\n",
       "\t press   & namecheap & 0.4400 &  34956\\\\\n",
       "\t site    & go daddy  & 0.5000 &  33169\\\\\n",
       "\t online  & namecheap & 0.5900 &  32821\\\\\n",
       "\t host    & namecheap & 0.5900 &  29807\\\\\n",
       "\t website & namecheap & 0.4400 &  27903\\\\\n",
       "\t space   & namecheap & 0.5900 &  27864\\\\\n",
       "\t store   & go daddy  & 2.5000 &  25410\\\\\n",
       "\t website & namecheap & 0.5900 &  25207\\\\\n",
       "\t space   & namecheap & 0.4400 &  24585\\\\\n",
       "\t pw      & namecheap & 0.3500 &  23413\\\\\n",
       "\t website & namecheap & 0.4800 &  23330\\\\\n",
       "\t website & go daddy  & 0.5000 &  22872\\\\\n",
       "\t host    & namecheap & 0.4800 &  19379\\\\\n",
       "\t fun     & namecheap & 0.5700 &  18720\\\\\n",
       "\t space   & go daddy  & 0.5000 &  18542\\\\\n",
       "\t online  & go daddy  & 1.5000 &  17540\\\\\n",
       "\t online  & namecheap & 0.4400 &  16066\\\\\n",
       "\t site    & namecheap & 1.0900 &  16007\\\\\n",
       "\t space   & namecheap & 0.4800 &  14867\\\\\n",
       "\t ⋮ & ⋮ & ⋮ & ⋮\\\\\n",
       "\t space   & gmo       &  4.1000 & 1\\\\\n",
       "\t space   & gmo       &  4.3300 & 1\\\\\n",
       "\t space   & namecheap &  0.0001 & 1\\\\\n",
       "\t space   & namecheap &  3.3300 & 1\\\\\n",
       "\t space   & namecheap &  5.0000 & 1\\\\\n",
       "\t store   & go daddy  &  0.0001 & 1\\\\\n",
       "\t store   & go daddy  & 22.0000 & 1\\\\\n",
       "\t store   & namecheap &  0.0001 & 1\\\\\n",
       "\t store   & namecheap & 10.0000 & 1\\\\\n",
       "\t store   & namecheap & 21.0000 & 1\\\\\n",
       "\t tech    & gmo       & 23.6100 & 1\\\\\n",
       "\t tech    & gmo       & 23.8300 & 1\\\\\n",
       "\t tech    & gmo       & 24.2300 & 1\\\\\n",
       "\t tech    & gmo       & 25.0000 & 1\\\\\n",
       "\t tech    & go daddy  & 17.8800 & 1\\\\\n",
       "\t tech    & namecheap &  4.8200 & 1\\\\\n",
       "\t tech    & namecheap &  5.1600 & 1\\\\\n",
       "\t tech    & namecheap &  9.0000 & 1\\\\\n",
       "\t tech    & namecheap &  9.7500 & 1\\\\\n",
       "\t tech    & namecheap & 10.5000 & 1\\\\\n",
       "\t tech    & namecheap & 20.9400 & 1\\\\\n",
       "\t tech    & namecheap & 27.3300 & 1\\\\\n",
       "\t tech    & namecheap & 29.2500 & 1\\\\\n",
       "\t tech    & namecheap & 35.0000 & 1\\\\\n",
       "\t website & gmo       &  0.2700 & 1\\\\\n",
       "\t website & gmo       &  0.9000 & 1\\\\\n",
       "\t website & gmo       &  5.0000 & 1\\\\\n",
       "\t website & gmo       & 10.2700 & 1\\\\\n",
       "\t website & go daddy  & 10.2700 & 1\\\\\n",
       "\t website & namecheap & 10.8300 & 1\\\\\n",
       "\\end{tabular}\n"
      ],
      "text/markdown": [
       "\n",
       "A grouped_df: 582 × 4\n",
       "\n",
       "| tld &lt;fct&gt; | registrar &lt;fct&gt; | reg_arpt &lt;dbl&gt; | n &lt;int&gt; |\n",
       "|---|---|---|---|\n",
       "| site    | gmo       | 0.1000 | 172611 |\n",
       "| online  | go daddy  | 0.5000 |  70812 |\n",
       "| site    | namecheap | 0.4800 |  64470 |\n",
       "| pw      | namecheap | 0.4800 |  60162 |\n",
       "| site    | namecheap | 0.4400 |  55059 |\n",
       "| online  | namecheap | 0.4800 |  49726 |\n",
       "| site    | namecheap | 0.5900 |  46029 |\n",
       "| pw      | namecheap | 0.5900 |  45274 |\n",
       "| online  | go daddy  | 2.5000 |  37656 |\n",
       "| website | namecheap | 0.0001 |  35087 |\n",
       "| online  | namecheap | 2.4800 |  35066 |\n",
       "| press   | namecheap | 0.4400 |  34956 |\n",
       "| site    | go daddy  | 0.5000 |  33169 |\n",
       "| online  | namecheap | 0.5900 |  32821 |\n",
       "| host    | namecheap | 0.5900 |  29807 |\n",
       "| website | namecheap | 0.4400 |  27903 |\n",
       "| space   | namecheap | 0.5900 |  27864 |\n",
       "| store   | go daddy  | 2.5000 |  25410 |\n",
       "| website | namecheap | 0.5900 |  25207 |\n",
       "| space   | namecheap | 0.4400 |  24585 |\n",
       "| pw      | namecheap | 0.3500 |  23413 |\n",
       "| website | namecheap | 0.4800 |  23330 |\n",
       "| website | go daddy  | 0.5000 |  22872 |\n",
       "| host    | namecheap | 0.4800 |  19379 |\n",
       "| fun     | namecheap | 0.5700 |  18720 |\n",
       "| space   | go daddy  | 0.5000 |  18542 |\n",
       "| online  | go daddy  | 1.5000 |  17540 |\n",
       "| online  | namecheap | 0.4400 |  16066 |\n",
       "| site    | namecheap | 1.0900 |  16007 |\n",
       "| space   | namecheap | 0.4800 |  14867 |\n",
       "| ⋮ | ⋮ | ⋮ | ⋮ |\n",
       "| space   | gmo       |  4.1000 | 1 |\n",
       "| space   | gmo       |  4.3300 | 1 |\n",
       "| space   | namecheap |  0.0001 | 1 |\n",
       "| space   | namecheap |  3.3300 | 1 |\n",
       "| space   | namecheap |  5.0000 | 1 |\n",
       "| store   | go daddy  |  0.0001 | 1 |\n",
       "| store   | go daddy  | 22.0000 | 1 |\n",
       "| store   | namecheap |  0.0001 | 1 |\n",
       "| store   | namecheap | 10.0000 | 1 |\n",
       "| store   | namecheap | 21.0000 | 1 |\n",
       "| tech    | gmo       | 23.6100 | 1 |\n",
       "| tech    | gmo       | 23.8300 | 1 |\n",
       "| tech    | gmo       | 24.2300 | 1 |\n",
       "| tech    | gmo       | 25.0000 | 1 |\n",
       "| tech    | go daddy  | 17.8800 | 1 |\n",
       "| tech    | namecheap |  4.8200 | 1 |\n",
       "| tech    | namecheap |  5.1600 | 1 |\n",
       "| tech    | namecheap |  9.0000 | 1 |\n",
       "| tech    | namecheap |  9.7500 | 1 |\n",
       "| tech    | namecheap | 10.5000 | 1 |\n",
       "| tech    | namecheap | 20.9400 | 1 |\n",
       "| tech    | namecheap | 27.3300 | 1 |\n",
       "| tech    | namecheap | 29.2500 | 1 |\n",
       "| tech    | namecheap | 35.0000 | 1 |\n",
       "| website | gmo       |  0.2700 | 1 |\n",
       "| website | gmo       |  0.9000 | 1 |\n",
       "| website | gmo       |  5.0000 | 1 |\n",
       "| website | gmo       | 10.2700 | 1 |\n",
       "| website | go daddy  | 10.2700 | 1 |\n",
       "| website | namecheap | 10.8300 | 1 |\n",
       "\n"
      ],
      "text/plain": [
       "    tld     registrar reg_arpt n     \n",
       "1   site    gmo       0.1000   172611\n",
       "2   online  go daddy  0.5000    70812\n",
       "3   site    namecheap 0.4800    64470\n",
       "4   pw      namecheap 0.4800    60162\n",
       "5   site    namecheap 0.4400    55059\n",
       "6   online  namecheap 0.4800    49726\n",
       "7   site    namecheap 0.5900    46029\n",
       "8   pw      namecheap 0.5900    45274\n",
       "9   online  go daddy  2.5000    37656\n",
       "10  website namecheap 0.0001    35087\n",
       "11  online  namecheap 2.4800    35066\n",
       "12  press   namecheap 0.4400    34956\n",
       "13  site    go daddy  0.5000    33169\n",
       "14  online  namecheap 0.5900    32821\n",
       "15  host    namecheap 0.5900    29807\n",
       "16  website namecheap 0.4400    27903\n",
       "17  space   namecheap 0.5900    27864\n",
       "18  store   go daddy  2.5000    25410\n",
       "19  website namecheap 0.5900    25207\n",
       "20  space   namecheap 0.4400    24585\n",
       "21  pw      namecheap 0.3500    23413\n",
       "22  website namecheap 0.4800    23330\n",
       "23  website go daddy  0.5000    22872\n",
       "24  host    namecheap 0.4800    19379\n",
       "25  fun     namecheap 0.5700    18720\n",
       "26  space   go daddy  0.5000    18542\n",
       "27  online  go daddy  1.5000    17540\n",
       "28  online  namecheap 0.4400    16066\n",
       "29  site    namecheap 1.0900    16007\n",
       "30  space   namecheap 0.4800    14867\n",
       "⋮   ⋮       ⋮         ⋮        ⋮     \n",
       "553 space   gmo        4.1000  1     \n",
       "554 space   gmo        4.3300  1     \n",
       "555 space   namecheap  0.0001  1     \n",
       "556 space   namecheap  3.3300  1     \n",
       "557 space   namecheap  5.0000  1     \n",
       "558 store   go daddy   0.0001  1     \n",
       "559 store   go daddy  22.0000  1     \n",
       "560 store   namecheap  0.0001  1     \n",
       "561 store   namecheap 10.0000  1     \n",
       "562 store   namecheap 21.0000  1     \n",
       "563 tech    gmo       23.6100  1     \n",
       "564 tech    gmo       23.8300  1     \n",
       "565 tech    gmo       24.2300  1     \n",
       "566 tech    gmo       25.0000  1     \n",
       "567 tech    go daddy  17.8800  1     \n",
       "568 tech    namecheap  4.8200  1     \n",
       "569 tech    namecheap  5.1600  1     \n",
       "570 tech    namecheap  9.0000  1     \n",
       "571 tech    namecheap  9.7500  1     \n",
       "572 tech    namecheap 10.5000  1     \n",
       "573 tech    namecheap 20.9400  1     \n",
       "574 tech    namecheap 27.3300  1     \n",
       "575 tech    namecheap 29.2500  1     \n",
       "576 tech    namecheap 35.0000  1     \n",
       "577 website gmo        0.2700  1     \n",
       "578 website gmo        0.9000  1     \n",
       "579 website gmo        5.0000  1     \n",
       "580 website gmo       10.2700  1     \n",
       "581 website go daddy  10.2700  1     \n",
       "582 website namecheap 10.8300  1     "
      ]
     },
     "metadata": {},
     "output_type": "display_data"
    }
   ],
   "source": [
    "train_df_f_sub %>% \n",
    "    group_by(tld, registrar, reg_arpt) %>% \n",
    "    tally() %>% \n",
    "    arrange(desc(n)) "
   ]
  },
  {
   "cell_type": "markdown",
   "metadata": {},
   "source": [
    "# Retrain Ranger_03"
   ]
  },
  {
   "cell_type": "markdown",
   "metadata": {},
   "source": [
    "## per the same definitions as in dtree_xl.ipynb, but added reg_arpt as a predictor"
   ]
  },
  {
   "cell_type": "code",
   "execution_count": 9,
   "metadata": {},
   "outputs": [
    {
     "data": {
      "text/html": [
       "<style>\n",
       ".list-inline {list-style: none; margin:0; padding: 0}\n",
       ".list-inline>li {display: inline-block}\n",
       ".list-inline>li:not(:last-child)::after {content: \"\\00b7\"; padding: 0 .5ex}\n",
       "</style>\n",
       "<ol class=list-inline><li>'renewal_status'</li><li>'tld'</li><li>'registrar'</li><li>'reseller'</li><li>'reseller_country'</li><li>'region'</li><li>'reg_period'</li><li>'sld_type'</li><li>'sld_length'</li><li>'day_domains'</li><li>'gibb_score'</li><li>'pattern_domain_count'</li><li>'reg_arpt'</li></ol>\n"
      ],
      "text/latex": [
       "\\begin{enumerate*}\n",
       "\\item 'renewal\\_status'\n",
       "\\item 'tld'\n",
       "\\item 'registrar'\n",
       "\\item 'reseller'\n",
       "\\item 'reseller\\_country'\n",
       "\\item 'region'\n",
       "\\item 'reg\\_period'\n",
       "\\item 'sld\\_type'\n",
       "\\item 'sld\\_length'\n",
       "\\item 'day\\_domains'\n",
       "\\item 'gibb\\_score'\n",
       "\\item 'pattern\\_domain\\_count'\n",
       "\\item 'reg\\_arpt'\n",
       "\\end{enumerate*}\n"
      ],
      "text/markdown": [
       "1. 'renewal_status'\n",
       "2. 'tld'\n",
       "3. 'registrar'\n",
       "4. 'reseller'\n",
       "5. 'reseller_country'\n",
       "6. 'region'\n",
       "7. 'reg_period'\n",
       "8. 'sld_type'\n",
       "9. 'sld_length'\n",
       "10. 'day_domains'\n",
       "11. 'gibb_score'\n",
       "12. 'pattern_domain_count'\n",
       "13. 'reg_arpt'\n",
       "\n",
       "\n"
      ],
      "text/plain": [
       " [1] \"renewal_status\"       \"tld\"                  \"registrar\"           \n",
       " [4] \"reseller\"             \"reseller_country\"     \"region\"              \n",
       " [7] \"reg_period\"           \"sld_type\"             \"sld_length\"          \n",
       "[10] \"day_domains\"          \"gibb_score\"           \"pattern_domain_count\"\n",
       "[13] \"reg_arpt\"            "
      ]
     },
     "metadata": {},
     "output_type": "display_data"
    }
   ],
   "source": [
    "names(train_df_f_sub)"
   ]
  },
  {
   "cell_type": "code",
   "execution_count": 10,
   "metadata": {},
   "outputs": [
    {
     "name": "stderr",
     "output_type": "stream",
     "text": [
      "Warning message:\n",
      "“`funs()` is deprecated as of dplyr 0.8.0.\n",
      "Please use a list of either functions or lambdas: \n",
      "\n",
      "  # Simple named list: \n",
      "  list(mean = mean, median = median)\n",
      "\n",
      "  # Auto named with `tibble::lst()`: \n",
      "  tibble::lst(mean, median)\n",
      "\n",
      "  # Using lambdas\n",
      "  list(~ mean(., trim = .2), ~ median(., na.rm = TRUE))\n",
      "\u001b[90mThis warning is displayed once every 8 hours.\u001b[39m\n",
      "\u001b[90mCall `lifecycle::last_warnings()` to see where this warning was generated.\u001b[39m”\n"
     ]
    },
    {
     "data": {
      "text/html": [
       "<table>\n",
       "<caption>A matrix: 13 × 1 of type int</caption>\n",
       "<tbody>\n",
       "\t<tr><th scope=row>renewal_status</th><td>0</td></tr>\n",
       "\t<tr><th scope=row>tld</th><td>0</td></tr>\n",
       "\t<tr><th scope=row>registrar</th><td>0</td></tr>\n",
       "\t<tr><th scope=row>reseller</th><td>0</td></tr>\n",
       "\t<tr><th scope=row>reseller_country</th><td>0</td></tr>\n",
       "\t<tr><th scope=row>region</th><td>0</td></tr>\n",
       "\t<tr><th scope=row>reg_period</th><td>0</td></tr>\n",
       "\t<tr><th scope=row>sld_type</th><td>0</td></tr>\n",
       "\t<tr><th scope=row>sld_length</th><td>0</td></tr>\n",
       "\t<tr><th scope=row>day_domains</th><td>0</td></tr>\n",
       "\t<tr><th scope=row>gibb_score</th><td>0</td></tr>\n",
       "\t<tr><th scope=row>pattern_domain_count</th><td>0</td></tr>\n",
       "\t<tr><th scope=row>reg_arpt</th><td>0</td></tr>\n",
       "</tbody>\n",
       "</table>\n"
      ],
      "text/latex": [
       "A matrix: 13 × 1 of type int\n",
       "\\begin{tabular}{r|l}\n",
       "\trenewal\\_status & 0\\\\\n",
       "\ttld & 0\\\\\n",
       "\tregistrar & 0\\\\\n",
       "\treseller & 0\\\\\n",
       "\treseller\\_country & 0\\\\\n",
       "\tregion & 0\\\\\n",
       "\treg\\_period & 0\\\\\n",
       "\tsld\\_type & 0\\\\\n",
       "\tsld\\_length & 0\\\\\n",
       "\tday\\_domains & 0\\\\\n",
       "\tgibb\\_score & 0\\\\\n",
       "\tpattern\\_domain\\_count & 0\\\\\n",
       "\treg\\_arpt & 0\\\\\n",
       "\\end{tabular}\n"
      ],
      "text/markdown": [
       "\n",
       "A matrix: 13 × 1 of type int\n",
       "\n",
       "| renewal_status | 0 |\n",
       "| tld | 0 |\n",
       "| registrar | 0 |\n",
       "| reseller | 0 |\n",
       "| reseller_country | 0 |\n",
       "| region | 0 |\n",
       "| reg_period | 0 |\n",
       "| sld_type | 0 |\n",
       "| sld_length | 0 |\n",
       "| day_domains | 0 |\n",
       "| gibb_score | 0 |\n",
       "| pattern_domain_count | 0 |\n",
       "| reg_arpt | 0 |\n",
       "\n"
      ],
      "text/plain": [
       "                     [,1]\n",
       "renewal_status       0   \n",
       "tld                  0   \n",
       "registrar            0   \n",
       "reseller             0   \n",
       "reseller_country     0   \n",
       "region               0   \n",
       "reg_period           0   \n",
       "sld_type             0   \n",
       "sld_length           0   \n",
       "day_domains          0   \n",
       "gibb_score           0   \n",
       "pattern_domain_count 0   \n",
       "reg_arpt             0   "
      ]
     },
     "metadata": {},
     "output_type": "display_data"
    }
   ],
   "source": [
    "na_df <- train_df_f_sub %>%\n",
    "  summarise_all(funs(sum(is.na(.))))\n",
    "t(na_df)"
   ]
  },
  {
   "cell_type": "code",
   "execution_count": 11,
   "metadata": {},
   "outputs": [
    {
     "name": "stdout",
     "output_type": "stream",
     "text": [
      "Growing trees.. Progress: 3%. Estimated remaining time: 16 minutes, 6 seconds.\n",
      "Growing trees.. Progress: 7%. Estimated remaining time: 13 minutes, 58 seconds.\n",
      "Growing trees.. Progress: 11%. Estimated remaining time: 13 minutes, 12 seconds.\n",
      "Growing trees.. Progress: 15%. Estimated remaining time: 12 minutes, 34 seconds.\n",
      "Growing trees.. Progress: 18%. Estimated remaining time: 12 minutes, 8 seconds.\n",
      "Growing trees.. Progress: 22%. Estimated remaining time: 11 minutes, 31 seconds.\n",
      "Growing trees.. Progress: 25%. Estimated remaining time: 11 minutes, 3 seconds.\n",
      "Growing trees.. Progress: 29%. Estimated remaining time: 10 minutes, 27 seconds.\n",
      "Growing trees.. Progress: 33%. Estimated remaining time: 9 minutes, 49 seconds.\n",
      "Growing trees.. Progress: 37%. Estimated remaining time: 9 minutes, 18 seconds.\n",
      "Growing trees.. Progress: 40%. Estimated remaining time: 8 minutes, 48 seconds.\n",
      "Growing trees.. Progress: 44%. Estimated remaining time: 8 minutes, 19 seconds.\n",
      "Growing trees.. Progress: 47%. Estimated remaining time: 7 minutes, 50 seconds.\n",
      "Growing trees.. Progress: 51%. Estimated remaining time: 7 minutes, 22 seconds.\n",
      "Growing trees.. Progress: 54%. Estimated remaining time: 6 minutes, 50 seconds.\n",
      "Growing trees.. Progress: 58%. Estimated remaining time: 6 minutes, 19 seconds.\n",
      "Growing trees.. Progress: 62%. Estimated remaining time: 5 minutes, 44 seconds.\n",
      "Growing trees.. Progress: 65%. Estimated remaining time: 5 minutes, 13 seconds.\n",
      "Growing trees.. Progress: 69%. Estimated remaining time: 4 minutes, 38 seconds.\n",
      "Growing trees.. Progress: 73%. Estimated remaining time: 4 minutes, 5 seconds.\n",
      "Growing trees.. Progress: 76%. Estimated remaining time: 3 minutes, 33 seconds.\n",
      "Growing trees.. Progress: 80%. Estimated remaining time: 2 minutes, 59 seconds.\n",
      "Growing trees.. Progress: 84%. Estimated remaining time: 2 minutes, 25 seconds.\n",
      "Growing trees.. Progress: 87%. Estimated remaining time: 1 minute, 52 seconds.\n",
      "Growing trees.. Progress: 91%. Estimated remaining time: 1 minute, 18 seconds.\n",
      "Growing trees.. Progress: 95%. Estimated remaining time: 44 seconds.\n",
      "Growing trees.. Progress: 99%. Estimated remaining time: 10 seconds.\n",
      "Computing prediction error.. Progress: 40%. Estimated remaining time: 46 seconds.\n",
      "Computing prediction error.. Progress: 82%. Estimated remaining time: 13 seconds.\n",
      "model fitting: 1088.275 sec elapsed\n",
      "model saving: 146.864 sec elapsed\n"
     ]
    }
   ],
   "source": [
    "# model fitting: 1088.275 sec elapsed\n",
    "# model saving: 146.864 sec elapsed\n",
    "\n",
    "\n",
    "tic(\"model fitting\")\n",
    "\n",
    "ranger_03_ <- ranger(\n",
    "    formula         = renewal_status ~ ., \n",
    "    data            = train_df_f_sub, \n",
    "    importance = 'impurity', \n",
    "    num.trees       = 500,\n",
    "    class.weights = c(3,4),\n",
    "    probability = TRUE,\n",
    "    mtry            = 5,\n",
    "    min.node.size   = 10,\n",
    "    replace = FALSE,\n",
    "    sample.fraction = .725,\n",
    "    seed            = 123\n",
    ")\n",
    "\n",
    "toc()\n",
    "\n",
    "tic(\"model saving\")\n",
    "save(ranger_03_, file=\"../../data/output/ranger_03_\")\n",
    "toc()"
   ]
  },
  {
   "cell_type": "markdown",
   "metadata": {},
   "source": [
    "## Predict & Get lift on Phase 1 data"
   ]
  },
  {
   "cell_type": "code",
   "execution_count": 12,
   "metadata": {},
   "outputs": [
    {
     "name": "stdout",
     "output_type": "stream",
     "text": [
      "Predicting.. Progress: 41%. Estimated remaining time: 43 seconds.\n",
      "Predicting.. Progress: 83%. Estimated remaining time: 12 seconds.\n",
      "Aggregating predictions.. Progress: 34%. Estimated remaining time: 1 minute, 1 seconds.\n",
      "Aggregating predictions.. Progress: 67%. Estimated remaining time: 30 seconds.\n",
      "Aggregating predictions.. Progress: 99%. Estimated remaining time: 0 seconds.\n"
     ]
    }
   ],
   "source": [
    "\n",
    "predict_ranger_03_ <- predict(ranger_03_, \n",
    "                          data = train_df_f_sub,\n",
    "                          type=\"response\")$predictions\n",
    "\n",
    "predict_ranger_03_ <- as.data.frame(predict_ranger_03_)$Renewed\n",
    "\n",
    "save(predict_ranger_03_, \n",
    "     file=\"../../data/output/predict_ranger_03_\")\n"
   ]
  },
  {
   "cell_type": "code",
   "execution_count": 13,
   "metadata": {},
   "outputs": [],
   "source": [
    "predict_ranger_03_df = data.frame(\"actual\" = train_df_f_sub$renewal_status,\n",
    "                           \"predicted\" = predict_ranger_03_)\n",
    "\n",
    "lift_df_ranger_03_ <- chart_lift(pred_df = predict_ranger_03_df,\n",
    "                        dep_var = \"actual\",\n",
    "                        pred_var = \"predicted\")\n",
    "\n",
    "saveRDS(lift_df_ranger_03_, file.path('../../data/output/',\"lift_df_ranger_03_\"))\n",
    "\n",
    "gain_ranger_03_ <- plot_gains (lift_df_ranger_03_) \n",
    "\n",
    "\n",
    "auc_ranger_03_ <- calc_auc(lift_df_ranger_03_)\n"
   ]
  },
  {
   "cell_type": "code",
   "execution_count": 15,
   "metadata": {},
   "outputs": [
    {
     "data": {
      "text/html": [
       "<table>\n",
       "<caption>A data.frame: 10 × 4</caption>\n",
       "<thead>\n",
       "\t<tr><th scope=col>P</th><th scope=col>actu_renwd2</th><th scope=col>gain</th><th scope=col>lift</th></tr>\n",
       "\t<tr><th scope=col>&lt;dbl&gt;</th><th scope=col>&lt;int&gt;</th><th scope=col>&lt;dbl&gt;</th><th scope=col>&lt;dbl&gt;</th></tr>\n",
       "</thead>\n",
       "<tbody>\n",
       "\t<tr><td>0.1</td><td>112766</td><td>0.6441011</td><td>6.441011</td></tr>\n",
       "\t<tr><td>0.2</td><td>164849</td><td>0.9415907</td><td>4.707954</td></tr>\n",
       "\t<tr><td>0.3</td><td>174691</td><td>0.9978067</td><td>3.326022</td></tr>\n",
       "\t<tr><td>0.4</td><td>175013</td><td>0.9996459</td><td>2.499115</td></tr>\n",
       "\t<tr><td>0.5</td><td>175038</td><td>0.9997887</td><td>1.999577</td></tr>\n",
       "\t<tr><td>0.6</td><td>175063</td><td>0.9999315</td><td>1.666552</td></tr>\n",
       "\t<tr><td>0.7</td><td>175075</td><td>1.0000000</td><td>1.428571</td></tr>\n",
       "\t<tr><td>0.8</td><td>175075</td><td>1.0000000</td><td>1.250000</td></tr>\n",
       "\t<tr><td>0.9</td><td>175075</td><td>1.0000000</td><td>1.111111</td></tr>\n",
       "\t<tr><td>1.0</td><td>175075</td><td>1.0000000</td><td>1.000000</td></tr>\n",
       "</tbody>\n",
       "</table>\n"
      ],
      "text/latex": [
       "A data.frame: 10 × 4\n",
       "\\begin{tabular}{llll}\n",
       " P & actu\\_renwd2 & gain & lift\\\\\n",
       " <dbl> & <int> & <dbl> & <dbl>\\\\\n",
       "\\hline\n",
       "\t 0.1 & 112766 & 0.6441011 & 6.441011\\\\\n",
       "\t 0.2 & 164849 & 0.9415907 & 4.707954\\\\\n",
       "\t 0.3 & 174691 & 0.9978067 & 3.326022\\\\\n",
       "\t 0.4 & 175013 & 0.9996459 & 2.499115\\\\\n",
       "\t 0.5 & 175038 & 0.9997887 & 1.999577\\\\\n",
       "\t 0.6 & 175063 & 0.9999315 & 1.666552\\\\\n",
       "\t 0.7 & 175075 & 1.0000000 & 1.428571\\\\\n",
       "\t 0.8 & 175075 & 1.0000000 & 1.250000\\\\\n",
       "\t 0.9 & 175075 & 1.0000000 & 1.111111\\\\\n",
       "\t 1.0 & 175075 & 1.0000000 & 1.000000\\\\\n",
       "\\end{tabular}\n"
      ],
      "text/markdown": [
       "\n",
       "A data.frame: 10 × 4\n",
       "\n",
       "| P &lt;dbl&gt; | actu_renwd2 &lt;int&gt; | gain &lt;dbl&gt; | lift &lt;dbl&gt; |\n",
       "|---|---|---|---|\n",
       "| 0.1 | 112766 | 0.6441011 | 6.441011 |\n",
       "| 0.2 | 164849 | 0.9415907 | 4.707954 |\n",
       "| 0.3 | 174691 | 0.9978067 | 3.326022 |\n",
       "| 0.4 | 175013 | 0.9996459 | 2.499115 |\n",
       "| 0.5 | 175038 | 0.9997887 | 1.999577 |\n",
       "| 0.6 | 175063 | 0.9999315 | 1.666552 |\n",
       "| 0.7 | 175075 | 1.0000000 | 1.428571 |\n",
       "| 0.8 | 175075 | 1.0000000 | 1.250000 |\n",
       "| 0.9 | 175075 | 1.0000000 | 1.111111 |\n",
       "| 1.0 | 175075 | 1.0000000 | 1.000000 |\n",
       "\n"
      ],
      "text/plain": [
       "   P   actu_renwd2 gain      lift    \n",
       "1  0.1 112766      0.6441011 6.441011\n",
       "2  0.2 164849      0.9415907 4.707954\n",
       "3  0.3 174691      0.9978067 3.326022\n",
       "4  0.4 175013      0.9996459 2.499115\n",
       "5  0.5 175038      0.9997887 1.999577\n",
       "6  0.6 175063      0.9999315 1.666552\n",
       "7  0.7 175075      1.0000000 1.428571\n",
       "8  0.8 175075      1.0000000 1.250000\n",
       "9  0.9 175075      1.0000000 1.111111\n",
       "10 1.0 175075      1.0000000 1.000000"
      ]
     },
     "metadata": {},
     "output_type": "display_data"
    }
   ],
   "source": [
    "lift_df_ranger_03_"
   ]
  },
  {
   "cell_type": "code",
   "execution_count": 14,
   "metadata": {},
   "outputs": [
    {
     "data": {
      "text/html": [
       "0.908286448664858"
      ],
      "text/latex": [
       "0.908286448664858"
      ],
      "text/markdown": [
       "0.908286448664858"
      ],
      "text/plain": [
       "[1] 0.9082864"
      ]
     },
     "metadata": {},
     "output_type": "display_data"
    }
   ],
   "source": [
    "auc_ranger_03_"
   ]
  },
  {
   "cell_type": "markdown",
   "metadata": {},
   "source": [
    "## Predict & Get Lift on Expiry Data"
   ]
  },
  {
   "cell_type": "code",
   "execution_count": 17,
   "metadata": {},
   "outputs": [],
   "source": [
    "\n",
    "expiry_test_prepped_2 <- readRDS(\"/home/jupyter/local/Domains_202003/data/expiry_test_prepped_2\")\n",
    "\n",
    "expiry_test_df <- rbindlist(expiry_test_prepped_2, fill=TRUE)"
   ]
  },
  {
   "cell_type": "code",
   "execution_count": 19,
   "metadata": {},
   "outputs": [],
   "source": [
    "\n",
    "ranger_predict_03_expiry <- predict(ranger_03_, \n",
    "                          data = expiry_test_df,\n",
    "                          type=\"response\")$predictions\n",
    "\n",
    "ranger_predict_03_expiry <- as.data.frame(ranger_predict_03_expiry)$Renewed\n",
    "\n",
    "save(ranger_predict_03_expiry, \n",
    "     file=\"../../data/output/ranger_predict_03_expiry\")\n"
   ]
  },
  {
   "cell_type": "code",
   "execution_count": 20,
   "metadata": {},
   "outputs": [],
   "source": [
    "ranger_03_pred_df_expiry = data.frame(\"actual\" = expiry_test_df$renewal_status,\n",
    "          \"predicted\" = ranger_predict_03_expiry)\n",
    "\n",
    "lift_df_ranger_03_expiry <- chart_lift(pred_df = ranger_03_pred_df_expiry,\n",
    "                        dep_var = \"actual\",\n",
    "                        pred_var = \"predicted\")\n",
    "\n",
    "\n",
    "gains_plot_ranger_03_expiry <- plot_gains (lift_df_ranger_03_expiry) \n",
    "\n",
    "auc_ranger_03_expiry <- calc_auc(lift_df_ranger_03_expiry)\n",
    "\n",
    "saveRDS(lift_df_ranger_03_expiry, file.path('../../data/output/',\"lift_df_ranger_03_expiry\"))\n"
   ]
  },
  {
   "cell_type": "code",
   "execution_count": 22,
   "metadata": {},
   "outputs": [
    {
     "data": {
      "text/html": [
       "<table>\n",
       "<caption>A data.frame: 10 × 4</caption>\n",
       "<thead>\n",
       "\t<tr><th scope=col>P</th><th scope=col>actu_renwd2</th><th scope=col>gain</th><th scope=col>lift</th></tr>\n",
       "\t<tr><th scope=col>&lt;dbl&gt;</th><th scope=col>&lt;int&gt;</th><th scope=col>&lt;dbl&gt;</th><th scope=col>&lt;dbl&gt;</th></tr>\n",
       "</thead>\n",
       "<tbody>\n",
       "\t<tr><td>0.1</td><td>15115</td><td>0.2475921</td><td>2.475921</td></tr>\n",
       "\t<tr><td>0.2</td><td>28120</td><td>0.4606212</td><td>2.303106</td></tr>\n",
       "\t<tr><td>0.3</td><td>39709</td><td>0.6504554</td><td>2.168185</td></tr>\n",
       "\t<tr><td>0.4</td><td>48024</td><td>0.7866597</td><td>1.966649</td></tr>\n",
       "\t<tr><td>0.5</td><td>52859</td><td>0.8658597</td><td>1.731719</td></tr>\n",
       "\t<tr><td>0.6</td><td>55795</td><td>0.9139530</td><td>1.523255</td></tr>\n",
       "\t<tr><td>0.7</td><td>57949</td><td>0.9492367</td><td>1.356052</td></tr>\n",
       "\t<tr><td>0.8</td><td>59455</td><td>0.9739058</td><td>1.217382</td></tr>\n",
       "\t<tr><td>0.9</td><td>60600</td><td>0.9926615</td><td>1.102957</td></tr>\n",
       "\t<tr><td>1.0</td><td>61048</td><td>1.0000000</td><td>1.000000</td></tr>\n",
       "</tbody>\n",
       "</table>\n"
      ],
      "text/latex": [
       "A data.frame: 10 × 4\n",
       "\\begin{tabular}{llll}\n",
       " P & actu\\_renwd2 & gain & lift\\\\\n",
       " <dbl> & <int> & <dbl> & <dbl>\\\\\n",
       "\\hline\n",
       "\t 0.1 & 15115 & 0.2475921 & 2.475921\\\\\n",
       "\t 0.2 & 28120 & 0.4606212 & 2.303106\\\\\n",
       "\t 0.3 & 39709 & 0.6504554 & 2.168185\\\\\n",
       "\t 0.4 & 48024 & 0.7866597 & 1.966649\\\\\n",
       "\t 0.5 & 52859 & 0.8658597 & 1.731719\\\\\n",
       "\t 0.6 & 55795 & 0.9139530 & 1.523255\\\\\n",
       "\t 0.7 & 57949 & 0.9492367 & 1.356052\\\\\n",
       "\t 0.8 & 59455 & 0.9739058 & 1.217382\\\\\n",
       "\t 0.9 & 60600 & 0.9926615 & 1.102957\\\\\n",
       "\t 1.0 & 61048 & 1.0000000 & 1.000000\\\\\n",
       "\\end{tabular}\n"
      ],
      "text/markdown": [
       "\n",
       "A data.frame: 10 × 4\n",
       "\n",
       "| P &lt;dbl&gt; | actu_renwd2 &lt;int&gt; | gain &lt;dbl&gt; | lift &lt;dbl&gt; |\n",
       "|---|---|---|---|\n",
       "| 0.1 | 15115 | 0.2475921 | 2.475921 |\n",
       "| 0.2 | 28120 | 0.4606212 | 2.303106 |\n",
       "| 0.3 | 39709 | 0.6504554 | 2.168185 |\n",
       "| 0.4 | 48024 | 0.7866597 | 1.966649 |\n",
       "| 0.5 | 52859 | 0.8658597 | 1.731719 |\n",
       "| 0.6 | 55795 | 0.9139530 | 1.523255 |\n",
       "| 0.7 | 57949 | 0.9492367 | 1.356052 |\n",
       "| 0.8 | 59455 | 0.9739058 | 1.217382 |\n",
       "| 0.9 | 60600 | 0.9926615 | 1.102957 |\n",
       "| 1.0 | 61048 | 1.0000000 | 1.000000 |\n",
       "\n"
      ],
      "text/plain": [
       "   P   actu_renwd2 gain      lift    \n",
       "1  0.1 15115       0.2475921 2.475921\n",
       "2  0.2 28120       0.4606212 2.303106\n",
       "3  0.3 39709       0.6504554 2.168185\n",
       "4  0.4 48024       0.7866597 1.966649\n",
       "5  0.5 52859       0.8658597 1.731719\n",
       "6  0.6 55795       0.9139530 1.523255\n",
       "7  0.7 57949       0.9492367 1.356052\n",
       "8  0.8 59455       0.9739058 1.217382\n",
       "9  0.9 60600       0.9926615 1.102957\n",
       "10 1.0 61048       1.0000000 1.000000"
      ]
     },
     "metadata": {},
     "output_type": "display_data"
    }
   ],
   "source": [
    "lift_df_ranger_03_expiry"
   ]
  },
  {
   "cell_type": "code",
   "execution_count": 23,
   "metadata": {},
   "outputs": [],
   "source": [
    "system(\"gsutil mv /home/jupyter/local/Domains_202003/data/output/* gs://data_outputt/output/\")"
   ]
  },
  {
   "cell_type": "code",
   "execution_count": null,
   "metadata": {},
   "outputs": [],
   "source": []
  }
 ],
 "metadata": {
  "environment": {
   "name": "r-cpu.3-6.m48",
   "type": "gcloud",
   "uri": "gcr.io/deeplearning-platform-release/r-cpu.3-6:m48"
  },
  "kernelspec": {
   "display_name": "R",
   "language": "R",
   "name": "ir"
  },
  "language_info": {
   "codemirror_mode": "r",
   "file_extension": ".r",
   "mimetype": "text/x-r-source",
   "name": "R",
   "pygments_lexer": "r",
   "version": "3.6.3"
  }
 },
 "nbformat": 4,
 "nbformat_minor": 4
}
