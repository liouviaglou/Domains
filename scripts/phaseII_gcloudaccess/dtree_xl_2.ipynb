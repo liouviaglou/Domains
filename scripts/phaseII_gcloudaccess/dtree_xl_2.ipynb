{
 "cells": [
  {
   "cell_type": "code",
   "execution_count": 2,
   "metadata": {},
   "outputs": [],
   "source": [
    "# install.packages(c(\"partykit\",\"tictoc\",\"caret\",\"e1071\",\n",
    "# \"randomForest\",\"ranger\",\"plotly\",\"akima\"))"
   ]
  },
  {
   "cell_type": "code",
   "execution_count": 14,
   "metadata": {},
   "outputs": [
    {
     "name": "stderr",
     "output_type": "stream",
     "text": [
      "Installing package into ‘/home/jupyter/.R/library’\n",
      "(as ‘lib’ is unspecified)\n",
      "\n",
      "Warning message in install.packages(\"rgl\"):\n",
      "“installation of package ‘rgl’ had non-zero exit status”\n"
     ]
    }
   ],
   "source": [
    "# install.packages(\"rgl\")"
   ]
  },
  {
   "cell_type": "markdown",
   "metadata": {},
   "source": [
    "### housekeeping"
   ]
  },
  {
   "cell_type": "code",
   "execution_count": 1,
   "metadata": {},
   "outputs": [
    {
     "name": "stderr",
     "output_type": "stream",
     "text": [
      "\n",
      "Attaching package: ‘dplyr’\n",
      "\n",
      "\n",
      "The following objects are masked from ‘package:stats’:\n",
      "\n",
      "    filter, lag\n",
      "\n",
      "\n",
      "The following objects are masked from ‘package:base’:\n",
      "\n",
      "    intersect, setdiff, setequal, union\n",
      "\n",
      "\n",
      "\n",
      "Attaching package: ‘data.table’\n",
      "\n",
      "\n",
      "The following objects are masked from ‘package:dplyr’:\n",
      "\n",
      "    between, first, last\n",
      "\n",
      "\n",
      "Loading required package: grid\n",
      "\n",
      "Loading required package: libcoin\n",
      "\n",
      "Loading required package: mvtnorm\n",
      "\n",
      "Loading required package: lattice\n",
      "\n",
      "Loading required package: ggplot2\n",
      "\n",
      "randomForest 4.6-14\n",
      "\n",
      "Type rfNews() to see new features/changes/bug fixes.\n",
      "\n",
      "\n",
      "Attaching package: ‘randomForest’\n",
      "\n",
      "\n",
      "The following object is masked from ‘package:ggplot2’:\n",
      "\n",
      "    margin\n",
      "\n",
      "\n",
      "The following object is masked from ‘package:dplyr’:\n",
      "\n",
      "    combine\n",
      "\n",
      "\n",
      "\n",
      "Attaching package: ‘ranger’\n",
      "\n",
      "\n",
      "The following object is masked from ‘package:randomForest’:\n",
      "\n",
      "    importance\n",
      "\n",
      "\n",
      "\n",
      "Attaching package: ‘plotly’\n",
      "\n",
      "\n",
      "The following object is masked from ‘package:ggplot2’:\n",
      "\n",
      "    last_plot\n",
      "\n",
      "\n",
      "The following object is masked from ‘package:stats’:\n",
      "\n",
      "    filter\n",
      "\n",
      "\n",
      "The following object is masked from ‘package:graphics’:\n",
      "\n",
      "    layout\n",
      "\n",
      "\n"
     ]
    },
    {
     "data": {
      "text/html": [
       "'/home/jupyter/local/Domains_202003/scripts/phaseII_gcloudaccess'"
      ],
      "text/latex": [
       "'/home/jupyter/local/Domains\\_202003/scripts/phaseII\\_gcloudaccess'"
      ],
      "text/markdown": [
       "'/home/jupyter/local/Domains_202003/scripts/phaseII_gcloudaccess'"
      ],
      "text/plain": [
       "[1] \"/home/jupyter/local/Domains_202003/scripts/phaseII_gcloudaccess\""
      ]
     },
     "metadata": {},
     "output_type": "display_data"
    }
   ],
   "source": [
    "library(dplyr)\n",
    "library(data.table)\n",
    "library(partykit)\n",
    "library(tictoc)\n",
    "library(caret)\n",
    "library(e1071)\n",
    "library(randomForest)\n",
    "library(ranger)\n",
    "\n",
    "#for 3d plotting\n",
    "library(akima)\n",
    "library(plotly)\n",
    "\n",
    "getwd()"
   ]
  },
  {
   "cell_type": "code",
   "execution_count": 2,
   "metadata": {},
   "outputs": [],
   "source": [
    "# load functions\n",
    "source('functions_eval.R')\n"
   ]
  },
  {
   "cell_type": "code",
   "execution_count": 3,
   "metadata": {},
   "outputs": [],
   "source": [
    "# load & prep input data\n",
    "\n",
    "# train prep: 8.361 sec elapsed\n",
    "# text prep: 1.506 sec elapsed\n",
    "# total: 9.876 sec elapsed\n",
    "\n",
    "source('load_prep_data.R')"
   ]
  },
  {
   "cell_type": "code",
   "execution_count": 6,
   "metadata": {},
   "outputs": [],
   "source": [
    "# # load saved results - first from cloud storage then from local to mem\n",
    "\n",
    "# file_list <- c(\"lift_df_segglm\",\n",
    "#                     \"lift_df_bendtr\",\n",
    "#                     \"lift_df_xldtr\",\n",
    "#                     \"lift_df_xldtr_2\",\n",
    "#                     \"lift_df_ranger1\",\n",
    "#                     \"lift_df_ranger3\"\n",
    "#                     \"ranger_01\",\n",
    "#               )\n",
    "# system(paste(sprintf(\"gsutil cp gs://data_outputt/output/%s /home/jupyter/local/Domains_202003/data/\", \n",
    "#                      filename)))\n",
    "\n",
    "# load(sprintf(\"../../data/%s\", file_list[1]))\n",
    "# load(sprintf(\"../../data/%s\", file_list[2]))\n",
    "# load(sprintf(\"../../data/%s\", file_list[3]))\n",
    "# load(sprintf(\"../../data/%s\", file_list[4]))\n",
    "# load(sprintf(\"../../data/%s\", file_list[5]))\n",
    "# load(sprintf(\"../../data/%s\", file_list[6]))\n",
    "     \n",
    "# assign(file_list[1], readRDS(sprintf(\"../../data/%s\", file_list[1])))\n",
    "# assign(file_list[2], readRDS(sprintf(\"../../data/%s\", file_list[2])))\n",
    "# assign(file_list[3], readRDS(sprintf(\"../../data/%s\", file_list[3])))"
   ]
  },
  {
   "cell_type": "code",
   "execution_count": 7,
   "metadata": {},
   "outputs": [],
   "source": [
    "# # Phase I benchmark lift output\n",
    "# lift_df_bendtr <- readRDS(\"../../data/lift_df_bendtr\")\n",
    "# lift_df_segglm <- readRDS(\"../../data/lift_df_segglm\")\n",
    "\n",
    "# # Initial full depth, max var decision tree\n",
    "# # load(\"../../data/output/xltree_01\")\n",
    "# # load(\"../../data/output/txl_predict_01\")\n",
    "# lift_df_01 <- readRDS(file.path('../../data/',\"lift_df_xldtr\"))\n",
    "\n",
    "# # Subsequent pre-pruned tree w/ mincriterion=.999\n",
    "# # load(\"../../data/output/xltree_02\")\n",
    "# # load(\"../../data/output/txl_predict_02\")\n",
    "# lift_df_02 <- readRDS(file.path('../../data/',\"lift_df_xldtr_2\"))\n",
    "\n",
    "# # Initial random forest \n",
    "# # load(\"../../data/output/ranger_01\")\n",
    "# # load(\"../../data/output/ranger_predict_01\")\n",
    "# lift_df_03 <- readRDS(file.path('../../data/',\"lift_df_ranger1\"))\n",
    "\n",
    "\n",
    "# # Final random forest \n",
    "# # load(\"../../data/output/ranger_02\")\n",
    "# # load(\"../../data/output/ranger_predict_02\")\n",
    "# lift_df_04 <- readRDS(file.path('../../data/',\"lift_df_ranger2\"))"
   ]
  },
  {
   "cell_type": "markdown",
   "metadata": {},
   "source": [
    "# fit decision tree\n",
    "no maximum depth\n",
    "all vars"
   ]
  },
  {
   "cell_type": "code",
   "execution_count": 4,
   "metadata": {},
   "outputs": [
    {
     "data": {
      "text/html": [
       "<style>\n",
       ".list-inline {list-style: none; margin:0; padding: 0}\n",
       ".list-inline>li {display: inline-block}\n",
       ".list-inline>li:not(:last-child)::after {content: \"\\00b7\"; padding: 0 .5ex}\n",
       "</style>\n",
       "<ol class=list-inline><li>'renewal_status'</li><li>'tld'</li><li>'registrar'</li><li>'reseller'</li><li>'reseller_country'</li><li>'region'</li><li>'reg_period'</li><li>'sld_type'</li><li>'sld_length'</li><li>'day_domains'</li><li>'gibb_score'</li><li>'pattern_domain_count'</li><li>'reg_arpt'</li></ol>\n"
      ],
      "text/latex": [
       "\\begin{enumerate*}\n",
       "\\item 'renewal\\_status'\n",
       "\\item 'tld'\n",
       "\\item 'registrar'\n",
       "\\item 'reseller'\n",
       "\\item 'reseller\\_country'\n",
       "\\item 'region'\n",
       "\\item 'reg\\_period'\n",
       "\\item 'sld\\_type'\n",
       "\\item 'sld\\_length'\n",
       "\\item 'day\\_domains'\n",
       "\\item 'gibb\\_score'\n",
       "\\item 'pattern\\_domain\\_count'\n",
       "\\item 'reg\\_arpt'\n",
       "\\end{enumerate*}\n"
      ],
      "text/markdown": [
       "1. 'renewal_status'\n",
       "2. 'tld'\n",
       "3. 'registrar'\n",
       "4. 'reseller'\n",
       "5. 'reseller_country'\n",
       "6. 'region'\n",
       "7. 'reg_period'\n",
       "8. 'sld_type'\n",
       "9. 'sld_length'\n",
       "10. 'day_domains'\n",
       "11. 'gibb_score'\n",
       "12. 'pattern_domain_count'\n",
       "13. 'reg_arpt'\n",
       "\n",
       "\n"
      ],
      "text/plain": [
       " [1] \"renewal_status\"       \"tld\"                  \"registrar\"           \n",
       " [4] \"reseller\"             \"reseller_country\"     \"region\"              \n",
       " [7] \"reg_period\"           \"sld_type\"             \"sld_length\"          \n",
       "[10] \"day_domains\"          \"gibb_score\"           \"pattern_domain_count\"\n",
       "[13] \"reg_arpt\"            "
      ]
     },
     "metadata": {},
     "output_type": "display_data"
    }
   ],
   "source": [
    "train_df_f_sub %>% names()"
   ]
  },
  {
   "cell_type": "code",
   "execution_count": 5,
   "metadata": {},
   "outputs": [
    {
     "data": {
      "text/html": [
       "<style>\n",
       ".list-inline {list-style: none; margin:0; padding: 0}\n",
       ".list-inline>li {display: inline-block}\n",
       ".list-inline>li:not(:last-child)::after {content: \"\\00b7\"; padding: 0 .5ex}\n",
       "</style>\n",
       "<ol class=list-inline><li>1559265</li><li>13</li></ol>\n"
      ],
      "text/latex": [
       "\\begin{enumerate*}\n",
       "\\item 1559265\n",
       "\\item 13\n",
       "\\end{enumerate*}\n"
      ],
      "text/markdown": [
       "1. 1559265\n",
       "2. 13\n",
       "\n",
       "\n"
      ],
      "text/plain": [
       "[1] 1559265      13"
      ]
     },
     "metadata": {},
     "output_type": "display_data"
    },
    {
     "data": {
      "text/html": [
       "<style>\n",
       ".list-inline {list-style: none; margin:0; padding: 0}\n",
       ".list-inline>li {display: inline-block}\n",
       ".list-inline>li:not(:last-child)::after {content: \"\\00b7\"; padding: 0 .5ex}\n",
       "</style>\n",
       "<ol class=list-inline><li>389817</li><li>13</li></ol>\n"
      ],
      "text/latex": [
       "\\begin{enumerate*}\n",
       "\\item 389817\n",
       "\\item 13\n",
       "\\end{enumerate*}\n"
      ],
      "text/markdown": [
       "1. 389817\n",
       "2. 13\n",
       "\n",
       "\n"
      ],
      "text/plain": [
       "[1] 389817     13"
      ]
     },
     "metadata": {},
     "output_type": "display_data"
    }
   ],
   "source": [
    "dim(train_df_f_sub)\n",
    "dim(test_df_f_sub)"
   ]
  },
  {
   "cell_type": "code",
   "execution_count": 6,
   "metadata": {},
   "outputs": [
    {
     "data": {
      "text/plain": [
       "\n",
       "Not Renewd    Renewed \n",
       " 0.8877195  0.1122805 "
      ]
     },
     "metadata": {},
     "output_type": "display_data"
    },
    {
     "data": {
      "text/plain": [
       "\n",
       "Not Renewd    Renewed \n",
       " 0.8878833  0.1121167 "
      ]
     },
     "metadata": {},
     "output_type": "display_data"
    }
   ],
   "source": [
    "prop.table(table(train_df_f_sub$renewal_status))\n",
    "prop.table(table(test_df_f_sub$renewal_status))"
   ]
  },
  {
   "cell_type": "code",
   "execution_count": 7,
   "metadata": {},
   "outputs": [
    {
     "data": {
      "text/html": [
       "<style>\n",
       ".dl-inline {width: auto; margin:0; padding: 0}\n",
       ".dl-inline>dt, .dl-inline>dd {float: none; width: auto; display: inline-block}\n",
       ".dl-inline>dt::after {content: \":\\0020\"; padding-right: .5ex}\n",
       ".dl-inline>dt:not(:first-of-type) {padding-left: .5ex}\n",
       "</style><dl class=dl-inline><dt>renewal_status</dt><dd>0</dd><dt>tld</dt><dd>0</dd><dt>registrar</dt><dd>0</dd><dt>reseller</dt><dd>0</dd><dt>reseller_country</dt><dd>0</dd><dt>region</dt><dd>0</dd><dt>reg_period</dt><dd>0</dd><dt>sld_type</dt><dd>0</dd><dt>sld_length</dt><dd>0</dd><dt>day_domains</dt><dd>0</dd><dt>gibb_score</dt><dd>0</dd><dt>pattern_domain_count</dt><dd>0</dd><dt>reg_arpt</dt><dd>0</dd></dl>\n"
      ],
      "text/latex": [
       "\\begin{description*}\n",
       "\\item[renewal\\textbackslash{}\\_status] 0\n",
       "\\item[tld] 0\n",
       "\\item[registrar] 0\n",
       "\\item[reseller] 0\n",
       "\\item[reseller\\textbackslash{}\\_country] 0\n",
       "\\item[region] 0\n",
       "\\item[reg\\textbackslash{}\\_period] 0\n",
       "\\item[sld\\textbackslash{}\\_type] 0\n",
       "\\item[sld\\textbackslash{}\\_length] 0\n",
       "\\item[day\\textbackslash{}\\_domains] 0\n",
       "\\item[gibb\\textbackslash{}\\_score] 0\n",
       "\\item[pattern\\textbackslash{}\\_domain\\textbackslash{}\\_count] 0\n",
       "\\item[reg\\textbackslash{}\\_arpt] 0\n",
       "\\end{description*}\n"
      ],
      "text/markdown": [
       "renewal_status\n",
       ":   0tld\n",
       ":   0registrar\n",
       ":   0reseller\n",
       ":   0reseller_country\n",
       ":   0region\n",
       ":   0reg_period\n",
       ":   0sld_type\n",
       ":   0sld_length\n",
       ":   0day_domains\n",
       ":   0gibb_score\n",
       ":   0pattern_domain_count\n",
       ":   0reg_arpt\n",
       ":   0\n",
       "\n"
      ],
      "text/plain": [
       "      renewal_status                  tld            registrar \n",
       "                   0                    0                    0 \n",
       "            reseller     reseller_country               region \n",
       "                   0                    0                    0 \n",
       "          reg_period             sld_type           sld_length \n",
       "                   0                    0                    0 \n",
       "         day_domains           gibb_score pattern_domain_count \n",
       "                   0                    0                    0 \n",
       "            reg_arpt \n",
       "                   0 "
      ]
     },
     "metadata": {},
     "output_type": "display_data"
    }
   ],
   "source": [
    "colSums(is.na(test_df_f_sub))"
   ]
  },
  {
   "cell_type": "code",
   "execution_count": 8,
   "metadata": {},
   "outputs": [
    {
     "data": {
      "text/html": [
       "<style>\n",
       ".dl-inline {width: auto; margin:0; padding: 0}\n",
       ".dl-inline>dt, .dl-inline>dd {float: none; width: auto; display: inline-block}\n",
       ".dl-inline>dt::after {content: \":\\0020\"; padding-right: .5ex}\n",
       ".dl-inline>dt:not(:first-of-type) {padding-left: .5ex}\n",
       "</style><dl class=dl-inline><dt>renewal_status</dt><dd>0</dd><dt>tld</dt><dd>0</dd><dt>registrar</dt><dd>0</dd><dt>reseller</dt><dd>0</dd><dt>reseller_country</dt><dd>0</dd><dt>region</dt><dd>0</dd><dt>reg_period</dt><dd>0</dd><dt>sld_type</dt><dd>0</dd><dt>sld_length</dt><dd>0</dd><dt>day_domains</dt><dd>0</dd><dt>gibb_score</dt><dd>0</dd><dt>pattern_domain_count</dt><dd>0</dd><dt>reg_arpt</dt><dd>0</dd></dl>\n"
      ],
      "text/latex": [
       "\\begin{description*}\n",
       "\\item[renewal\\textbackslash{}\\_status] 0\n",
       "\\item[tld] 0\n",
       "\\item[registrar] 0\n",
       "\\item[reseller] 0\n",
       "\\item[reseller\\textbackslash{}\\_country] 0\n",
       "\\item[region] 0\n",
       "\\item[reg\\textbackslash{}\\_period] 0\n",
       "\\item[sld\\textbackslash{}\\_type] 0\n",
       "\\item[sld\\textbackslash{}\\_length] 0\n",
       "\\item[day\\textbackslash{}\\_domains] 0\n",
       "\\item[gibb\\textbackslash{}\\_score] 0\n",
       "\\item[pattern\\textbackslash{}\\_domain\\textbackslash{}\\_count] 0\n",
       "\\item[reg\\textbackslash{}\\_arpt] 0\n",
       "\\end{description*}\n"
      ],
      "text/markdown": [
       "renewal_status\n",
       ":   0tld\n",
       ":   0registrar\n",
       ":   0reseller\n",
       ":   0reseller_country\n",
       ":   0region\n",
       ":   0reg_period\n",
       ":   0sld_type\n",
       ":   0sld_length\n",
       ":   0day_domains\n",
       ":   0gibb_score\n",
       ":   0pattern_domain_count\n",
       ":   0reg_arpt\n",
       ":   0\n",
       "\n"
      ],
      "text/plain": [
       "      renewal_status                  tld            registrar \n",
       "                   0                    0                    0 \n",
       "            reseller     reseller_country               region \n",
       "                   0                    0                    0 \n",
       "          reg_period             sld_type           sld_length \n",
       "                   0                    0                    0 \n",
       "         day_domains           gibb_score pattern_domain_count \n",
       "                   0                    0                    0 \n",
       "            reg_arpt \n",
       "                   0 "
      ]
     },
     "metadata": {},
     "output_type": "display_data"
    }
   ],
   "source": [
    "colSums(is.na(train_df_f_sub))"
   ]
  },
  {
   "cell_type": "markdown",
   "metadata": {},
   "source": [
    "### train dtree model"
   ]
  },
  {
   "cell_type": "code",
   "execution_count": 9,
   "metadata": {},
   "outputs": [
    {
     "name": "stdout",
     "output_type": "stream",
     "text": [
      "model fitting: 1868.547 sec elapsed\n",
      "model saving: 19.262 sec elapsed\n",
      "model predict: 5.505 sec elapsed\n",
      "eval saving: 0.026 sec elapsed\n"
     ]
    }
   ],
   "source": [
    "# model fitting: 1868.547 sec elapsed\n",
    "# model saving: 19.262 sec elapsed\n",
    "# model predict: 5.505 sec elapsed\n",
    "# eval saving: 0.026 sec elapsed\n",
    "\n",
    "W = ifelse(train_df$renewal_status==\"Renewed\", 4, 3)\n",
    "\n",
    "tic(\"total\")\n",
    "\n",
    "tic(\"model fitting\")\n",
    "xltree_03 <- ctree(renewal_status ~ . ,\n",
    "                   data = train_df_f_sub, weights=W)\n",
    "toc()\n",
    "\n",
    "tic(\"model saving\")\n",
    "save(xltree_03, file=\"../../data/output/xltree_03\")\n",
    "toc()\n",
    "\n",
    "\n",
    "tic(\"model predict\")\n",
    "xltree_03_predict <- predict(xltree_03, \n",
    "                          newdata = test_df_f_sub,\n",
    "                          type=\"response\") \n",
    "toc()\n",
    "\n",
    "tic(\"eval saving\")\n",
    "save(xltree_03_predict, file=\"../../data/output/xltree_03_predict\")\n",
    "toc()"
   ]
  },
  {
   "cell_type": "markdown",
   "metadata": {},
   "source": [
    "### Eval: confuson matrix, Gains curve, AUC"
   ]
  },
  {
   "cell_type": "code",
   "execution_count": 50,
   "metadata": {},
   "outputs": [],
   "source": [
    "# load(\"../../data/output/xltree_01\")\n",
    "# load(\"../../data/output/txl_predict_01\")\n",
    "\n",
    "# confusionMatrix(table(txl_predict_01, na.omit(test_df_f)$renewal_status),\n",
    "#                 positive = \"Renewed\")"
   ]
  },
  {
   "cell_type": "code",
   "execution_count": 11,
   "metadata": {},
   "outputs": [],
   "source": [
    "txl_pred_df = data.frame(\"actual\" = test_df_f_sub$renewal_status,\n",
    "          \"predicted\" = xltree_03_predict)"
   ]
  },
  {
   "cell_type": "code",
   "execution_count": 12,
   "metadata": {},
   "outputs": [
    {
     "name": "stdout",
     "output_type": "stream",
     "text": [
      "lift df: 23.148 sec elapsed\n",
      "gains plot: 0.059 sec elapsed\n",
      "auc: 0.032 sec elapsed\n"
     ]
    }
   ],
   "source": [
    "# lift df: 23.148 sec elapsed\n",
    "# gains plot: 0.059 sec elapsed\n",
    "# auc: 0.032 sec elapsed\n",
    "tic(\"lift df\")\n",
    "lift_df_xltree_03 <- chart_lift(pred_df = txl_pred_df,\n",
    "                        dep_var = \"actual\",\n",
    "                        pred_var = \"predicted\")\n",
    "\n",
    "toc()\n",
    "tic(\"gains plot\")\n",
    "gains_plot_xltree_03 <- plot_gains (lift_df_xltree_03) \n",
    "\n",
    "toc()\n",
    "tic(\"auc\")\n",
    "auc_xltree_03 <- calc_auc(lift_df_xltree_03)\n",
    "toc()\n",
    "\n",
    "\n",
    "saveRDS(lift_df_xltree_03, file.path('../../data/',\"lift_df_xltree_03\"))\n"
   ]
  },
  {
   "cell_type": "code",
   "execution_count": 13,
   "metadata": {},
   "outputs": [
    {
     "data": {
      "text/html": [
       "0.563394348472715"
      ],
      "text/latex": [
       "0.563394348472715"
      ],
      "text/markdown": [
       "0.563394348472715"
      ],
      "text/plain": [
       "[1] 0.5633943"
      ]
     },
     "metadata": {},
     "output_type": "display_data"
    },
    {
     "data": {
      "image/png": "[encoded data removed]",
      "text/plain": [
       "plot without title"
      ]
     },
     "metadata": {
      "image/png": {
       "height": 420,
       "width": 420
      },
      "text/plain": {
       "height": 420,
       "width": 420
      }
     },
     "output_type": "display_data"
    }
   ],
   "source": [
    "auc_xltree_03\n",
    "gains_plot_xltree_03"
   ]
  },
  {
   "cell_type": "code",
   "execution_count": 47,
   "metadata": {},
   "outputs": [
    {
     "data": {
      "text/html": [
       "0.711954009838691"
      ],
      "text/latex": [
       "0.711954009838691"
      ],
      "text/markdown": [
       "0.711954009838691"
      ],
      "text/plain": [
       "[1] 0.711954"
      ]
     },
     "metadata": {},
     "output_type": "display_data"
    }
   ],
   "source": [
    "auc_01"
   ]
  },
  {
   "cell_type": "code",
   "execution_count": 14,
   "metadata": {},
   "outputs": [
    {
     "data": {
      "text/html": [
       "<table>\n",
       "<caption>A data.frame: 10 × 4</caption>\n",
       "<thead>\n",
       "\t<tr><th scope=col>P</th><th scope=col>actu_renwd2</th><th scope=col>gain</th><th scope=col>lift</th></tr>\n",
       "\t<tr><th scope=col>&lt;dbl&gt;</th><th scope=col>&lt;int&gt;</th><th scope=col>&lt;dbl&gt;</th><th scope=col>&lt;dbl&gt;</th></tr>\n",
       "</thead>\n",
       "<tbody>\n",
       "\t<tr><td>0.1</td><td> 9666</td><td>0.2211646</td><td>2.2116463</td></tr>\n",
       "\t<tr><td>0.2</td><td>14164</td><td>0.3240819</td><td>1.6204096</td></tr>\n",
       "\t<tr><td>0.3</td><td>20920</td><td>0.4786638</td><td>1.5955459</td></tr>\n",
       "\t<tr><td>0.4</td><td>23698</td><td>0.5422263</td><td>1.3555657</td></tr>\n",
       "\t<tr><td>0.5</td><td>25402</td><td>0.5812150</td><td>1.1624299</td></tr>\n",
       "\t<tr><td>0.6</td><td>27214</td><td>0.6226748</td><td>1.0377913</td></tr>\n",
       "\t<tr><td>0.7</td><td>30291</td><td>0.6930786</td><td>0.9901123</td></tr>\n",
       "\t<tr><td>0.8</td><td>33070</td><td>0.7566640</td><td>0.9458300</td></tr>\n",
       "\t<tr><td>0.9</td><td>39954</td><td>0.9141746</td><td>1.0157495</td></tr>\n",
       "\t<tr><td>1.0</td><td>43705</td><td>1.0000000</td><td>1.0000000</td></tr>\n",
       "</tbody>\n",
       "</table>\n"
      ],
      "text/latex": [
       "A data.frame: 10 × 4\n",
       "\\begin{tabular}{llll}\n",
       " P & actu\\_renwd2 & gain & lift\\\\\n",
       " <dbl> & <int> & <dbl> & <dbl>\\\\\n",
       "\\hline\n",
       "\t 0.1 &  9666 & 0.2211646 & 2.2116463\\\\\n",
       "\t 0.2 & 14164 & 0.3240819 & 1.6204096\\\\\n",
       "\t 0.3 & 20920 & 0.4786638 & 1.5955459\\\\\n",
       "\t 0.4 & 23698 & 0.5422263 & 1.3555657\\\\\n",
       "\t 0.5 & 25402 & 0.5812150 & 1.1624299\\\\\n",
       "\t 0.6 & 27214 & 0.6226748 & 1.0377913\\\\\n",
       "\t 0.7 & 30291 & 0.6930786 & 0.9901123\\\\\n",
       "\t 0.8 & 33070 & 0.7566640 & 0.9458300\\\\\n",
       "\t 0.9 & 39954 & 0.9141746 & 1.0157495\\\\\n",
       "\t 1.0 & 43705 & 1.0000000 & 1.0000000\\\\\n",
       "\\end{tabular}\n"
      ],
      "text/markdown": [
       "\n",
       "A data.frame: 10 × 4\n",
       "\n",
       "| P &lt;dbl&gt; | actu_renwd2 &lt;int&gt; | gain &lt;dbl&gt; | lift &lt;dbl&gt; |\n",
       "|---|---|---|---|\n",
       "| 0.1 |  9666 | 0.2211646 | 2.2116463 |\n",
       "| 0.2 | 14164 | 0.3240819 | 1.6204096 |\n",
       "| 0.3 | 20920 | 0.4786638 | 1.5955459 |\n",
       "| 0.4 | 23698 | 0.5422263 | 1.3555657 |\n",
       "| 0.5 | 25402 | 0.5812150 | 1.1624299 |\n",
       "| 0.6 | 27214 | 0.6226748 | 1.0377913 |\n",
       "| 0.7 | 30291 | 0.6930786 | 0.9901123 |\n",
       "| 0.8 | 33070 | 0.7566640 | 0.9458300 |\n",
       "| 0.9 | 39954 | 0.9141746 | 1.0157495 |\n",
       "| 1.0 | 43705 | 1.0000000 | 1.0000000 |\n",
       "\n"
      ],
      "text/plain": [
       "   P   actu_renwd2 gain      lift     \n",
       "1  0.1  9666       0.2211646 2.2116463\n",
       "2  0.2 14164       0.3240819 1.6204096\n",
       "3  0.3 20920       0.4786638 1.5955459\n",
       "4  0.4 23698       0.5422263 1.3555657\n",
       "5  0.5 25402       0.5812150 1.1624299\n",
       "6  0.6 27214       0.6226748 1.0377913\n",
       "7  0.7 30291       0.6930786 0.9901123\n",
       "8  0.8 33070       0.7566640 0.9458300\n",
       "9  0.9 39954       0.9141746 1.0157495\n",
       "10 1.0 43705       1.0000000 1.0000000"
      ]
     },
     "metadata": {},
     "output_type": "display_data"
    }
   ],
   "source": [
    "lift_df_xltree_03\n"
   ]
  },
  {
   "cell_type": "code",
   "execution_count": 49,
   "metadata": {},
   "outputs": [],
   "source": [
    "\n",
    "lift_df_bendtr <- readRDS(\"../../data/lift_df_bendtr\")\n",
    "lift_df_segglm <- readRDS(\"../../data/lift_df_segglm\")\n"
   ]
  },
  {
   "cell_type": "code",
   "execution_count": 52,
   "metadata": {},
   "outputs": [
    {
     "data": {
      "image/png": "[encoded data removed]",
      "text/plain": [
       "plot without title"
      ]
     },
     "metadata": {
      "image/png": {
       "height": 420,
       "width": 420
      },
      "text/plain": {
       "height": 420,
       "width": 420
      }
     },
     "output_type": "display_data"
    }
   ],
   "source": [
    "plot_multigains(lift_df_list=list(seg_glm = lift_df_segglm, \n",
    "                                  ben_dtr = lift_df_bendtr,\n",
    "                                  xl_dtr = lift_df_01),\n",
    "                             auc_list = list(seg_glm = calc_auc(lift_df_segglm), \n",
    "                                             ben_dtr= calc_auc(lift_df_bendtr), \n",
    "                                             ben_dtr= calc_auc(lift_df_01)))"
   ]
  },
  {
   "cell_type": "code",
   "execution_count": 53,
   "metadata": {},
   "outputs": [],
   "source": [
    "# pre-pruned"
   ]
  },
  {
   "cell_type": "code",
   "execution_count": null,
   "metadata": {},
   "outputs": [],
   "source": [
    "\n",
    "# model fitting: \n",
    "# model saving: \n",
    "\n",
    "\n",
    "# W = ifelse(train_df$renewal_status==\"Renewed\", 4, 3)\n",
    "\n",
    "# tic(\"model fitting\")\n",
    "# xltree_02 <- ctree(renewal_status ~ . ,\n",
    "#                    data = train_df_f, \n",
    "#                    weights=W,\n",
    "#                   control = ctree_control(mincriterion = 0.999))\n",
    "# toc()\n",
    "\n",
    "# tic(\"model saving\")\n",
    "# save(xltree_02, file=\"../../data/output/xltree_02\")\n",
    "# toc()"
   ]
  },
  {
   "cell_type": "code",
   "execution_count": null,
   "metadata": {},
   "outputs": [],
   "source": [
    "# model predict: \n",
    "# eval saving: \n",
    "\n",
    "# tic(\"model predict\")\n",
    "# txl_predict_02 <- predict(xltree_02, \n",
    "#                           newdata = na.omit(test_df_f),\n",
    "#                           type=\"response\") \n",
    "# toc()\n",
    "\n",
    "# tic(\"eval saving\")\n",
    "# save(txl_predict_02, file=\"../../data/output/txl_predict_02\")\n",
    "# toc()"
   ]
  },
  {
   "cell_type": "code",
   "execution_count": 46,
   "metadata": {},
   "outputs": [],
   "source": [
    "# load(\"../../data/output/xltree_02\")\n",
    "load(\"../../data/output/txl_predict_02\")"
   ]
  },
  {
   "cell_type": "code",
   "execution_count": 47,
   "metadata": {},
   "outputs": [],
   "source": [
    "\n",
    "txl_pred_df_2 = data.frame(\"actual\" = na.omit(test_df_f)$renewal_status,\n",
    "                           \"predicted\" = txl_predict_02)"
   ]
  },
  {
   "cell_type": "code",
   "execution_count": 48,
   "metadata": {},
   "outputs": [
    {
     "name": "stdout",
     "output_type": "stream",
     "text": [
      "lift df: 23.179 sec elapsed\n",
      "gains plot: 0.03 sec elapsed\n",
      "auc: 0.01 sec elapsed\n"
     ]
    }
   ],
   "source": [
    "# lift df: 24.248 sec elapsed\n",
    "# gains plot: 0.056 sec elapsed\n",
    "# auc: 0.014 sec elapsed\n",
    "\n",
    "tic(\"lift df\")\n",
    "lift_df_02 <- chart_lift(pred_df = txl_pred_df_2,\n",
    "                        dep_var = \"actual\",\n",
    "                        pred_var = \"predicted\")\n",
    "\n",
    "toc()\n",
    "tic(\"gains plot\")\n",
    "gains_plot_02 <- plot_gains (lift_df_02) \n",
    "\n",
    "toc()\n",
    "tic(\"auc\")\n",
    "auc_02 <- calc_auc(lift_df_02)\n",
    "toc()"
   ]
  },
  {
   "cell_type": "code",
   "execution_count": 49,
   "metadata": {},
   "outputs": [],
   "source": [
    "\n",
    "saveRDS(lift_df_02, file.path('../../data/',\"lift_df_xldtr_2\"))\n"
   ]
  },
  {
   "cell_type": "code",
   "execution_count": 67,
   "metadata": {},
   "outputs": [
    {
     "data": {
      "image/png": "[encoded data removed]",
      "text/plain": [
       "plot without title"
      ]
     },
     "metadata": {
      "image/png": {
       "height": 420,
       "width": 420
      },
      "text/plain": {
       "height": 420,
       "width": 420
      }
     },
     "output_type": "display_data"
    }
   ],
   "source": [
    "plot_multigains(lift_df_list=list(seg_glm = lift_df_segglm, \n",
    "                                  ben_dtr = lift_df_bendtr,\n",
    "                                  xl_dtr = lift_df_01,\n",
    "                                  xl_dtr_2 = lift_df_02),\n",
    "                             auc_list = list(seg_glm = calc_auc(lift_df_segglm), \n",
    "                                             ben_dtr= calc_auc(lift_df_bendtr), \n",
    "                                             xl_dtr= calc_auc(lift_df_01), \n",
    "                                             xl_dtr_2= calc_auc(lift_df_02)))"
   ]
  },
  {
   "cell_type": "markdown",
   "metadata": {},
   "source": [
    "### random forest"
   ]
  },
  {
   "cell_type": "code",
   "execution_count": 18,
   "metadata": {},
   "outputs": [
    {
     "data": {
      "text/html": [
       "4.79583152331272"
      ],
      "text/latex": [
       "4.79583152331272"
      ],
      "text/markdown": [
       "4.79583152331272"
      ],
      "text/plain": [
       "[1] 4.795832"
      ]
     },
     "metadata": {},
     "output_type": "display_data"
    }
   ],
   "source": [
    "sqrt(length(names(train_df_f))-1) # default number of features \n",
    "\n",
    "# mtry is the number of features used in the construction of each tree. \n",
    "# These features are selected at random, which is where the “random” in \n",
    "# “random forests” comes from. The default value for this parameter, when \n",
    "# performing classification, is sqrt(number of features).\n"
   ]
  },
  {
   "cell_type": "code",
   "execution_count": 19,
   "metadata": {},
   "outputs": [
    {
     "data": {
      "text/html": [
       "<style>\n",
       ".list-inline {list-style: none; margin:0; padding: 0}\n",
       ".list-inline>li {display: inline-block}\n",
       ".list-inline>li:not(:last-child)::after {content: \"\\00b7\"; padding: 0 .5ex}\n",
       "</style>\n",
       "<ol class=list-inline><li>'Not Renewd'</li><li>'Renewed'</li></ol>\n"
      ],
      "text/latex": [
       "\\begin{enumerate*}\n",
       "\\item 'Not Renewd'\n",
       "\\item 'Renewed'\n",
       "\\end{enumerate*}\n"
      ],
      "text/markdown": [
       "1. 'Not Renewd'\n",
       "2. 'Renewed'\n",
       "\n",
       "\n"
      ],
      "text/plain": [
       "[1] \"Not Renewd\" \"Renewed\"   "
      ]
     },
     "metadata": {},
     "output_type": "display_data"
    }
   ],
   "source": [
    "levels(train_df_f$renewal_status) # order of levels of dep var for classwt (assumed)"
   ]
  },
  {
   "cell_type": "code",
   "execution_count": 30,
   "metadata": {},
   "outputs": [],
   "source": [
    "# model fitting: 48.019 sec elapsed\n",
    "# model saving: 4.042 sec elapsed\n",
    "\n",
    "tic(\"model fitting\")\n",
    "\n",
    "# rf_01 = randomForest(renewal_status ~ ., \n",
    "#                      data = train_df_f,\n",
    "#                      ntree = 10,\n",
    "#                      classwt = c(3,4),\n",
    "#                      importance=TRUE)\n",
    "\n",
    "ranger_01 <- ranger(renewal_status ~ ., \n",
    "                    data = subset(train_df_f, select = -c(renew_M,renew_Y) ) ,\n",
    "                   importance = 'impurity', num.trees=10,\n",
    "                   class.weights = c(3,4), probability = TRUE)\n",
    "\n",
    "toc()\n",
    "\n",
    "tic(\"model saving\")\n",
    "save(ranger_01, file=\"../../data/output/ranger_01\")\n",
    "toc()\n",
    "\n",
    "# model predict:10.432 sec elapsed\n",
    "# eval saving: 0.571 sec elapsed\n",
    "\n",
    "# tic(\"model predict\")\n",
    "# ranger_predict_01 <- predict(ranger_01, \n",
    "#                           data = na.omit(subset(train_df_f, \n",
    "#                              select = -c(renew_M,renew_Y) )),\n",
    "#                           type=\"response\")$predictions\n",
    "# toc()\n",
    "\n",
    "tic(\"eval saving\")\n",
    "ranger_predict_01 <- as.data.frame(ranger_predict_01)$Renewed\n",
    "save(ranger_predict_01, \n",
    "     file=\"../../data/output/ranger_predict_01\")\n",
    "toc()\n",
    "\n",
    "# lift df: 11.498 sec elapsed\n",
    "# gains plot: 0.067 sec elapsed\n",
    "# auc: 0.049 sec elapsed\n",
    "\n",
    "txl_pred_df_3 = data.frame(\"actual\" = \n",
    "                           na.omit(subset(train_df_f, \n",
    "                             select = -c(renew_M,renew_Y) ))$renewal_status,\n",
    "                           \"predicted\" = ranger_predict_01)\n",
    "\n",
    "tic(\"lift df\")\n",
    "lift_df_03 <- chart_lift(pred_df = txl_pred_df_3,\n",
    "                        dep_var = \"actual\",\n",
    "                        pred_var = \"predicted\")\n",
    "\n",
    "toc()\n",
    "tic(\"gains plot\")\n",
    "gains_plot_03 <- plot_gains (lift_df_03) \n",
    "\n",
    "toc()\n",
    "tic(\"auc\")\n",
    "auc_03 <- calc_auc(lift_df_03)\n",
    "toc()\n",
    "\n",
    "auc_03\n",
    "\n",
    "\n",
    "saveRDS(lift_df_03, file.path('../../data/',\"lift_df_ranger1\"))\n"
   ]
  },
  {
   "cell_type": "code",
   "execution_count": 57,
   "metadata": {},
   "outputs": [],
   "source": [
    "lift_df_segglm <- readRDS(\"../../data/lift_df_segglm\")\n",
    "lift_df_bendtr <- readRDS(\"../../data/lift_df_bendtr\")"
   ]
  },
  {
   "cell_type": "code",
   "execution_count": 80,
   "metadata": {},
   "outputs": [
    {
     "data": {
      "text/html": [
       "<strong>png:</strong> 2"
      ],
      "text/latex": [
       "\\textbf{png:} 2"
      ],
      "text/markdown": [
       "**png:** 2"
      ],
      "text/plain": [
       "png \n",
       "  2 "
      ]
     },
     "metadata": {},
     "output_type": "display_data"
    }
   ],
   "source": [
    "plot_multigains_01 <- plot_multigains(lift_df_list=list(seg_glm = lift_df_segglm, \n",
    "                                  ben_dtr = lift_df_bendtr,\n",
    "                                  xl_dtr = lift_df_01,\n",
    "                                  xl_dtr_2 = lift_df_02,\n",
    "                                  ranger_1 = lift_df_03),\n",
    "                             auc_list = list(seg_glm = calc_auc(lift_df_segglm), \n",
    "                                             ben_dtr= calc_auc(lift_df_bendtr), \n",
    "                                             xl_dtr= calc_auc(lift_df_01), \n",
    "                                             xl_dtr_2= calc_auc(lift_df_02), \n",
    "                                             ranger_1= calc_auc(lift_df_03)))\n",
    "png(file = \"../../data/output/plot_multigains_01.png\",\n",
    "    width = 500, height = 375)\n",
    "plot(plot_multigains_01)\n",
    "dev.off()"
   ]
  },
  {
   "cell_type": "code",
   "execution_count": 58,
   "metadata": {},
   "outputs": [],
   "source": [
    "ranger_varimp_01 <- importance(ranger_01)\n",
    "ranger_varimp_01 <- data.frame('var' = names(ranger_varimp_01),\n",
    "                                 'imp' = unname(ranger_varimp_01))\n",
    "ranger_varimp_01 <- ranger_varimp_01[order(-ranger_varimp_01$imp),]\n",
    "\n",
    "head(ranger_varimp_01,20)"
   ]
  },
  {
   "cell_type": "code",
   "execution_count": 47,
   "metadata": {},
   "outputs": [
    {
     "ename": "ERROR",
     "evalue": "Error in eval(expr, envir, enclos): object 'train_df_f' not found\n",
     "output_type": "error",
     "traceback": [
      "Error in eval(expr, envir, enclos): object 'train_df_f' not found\nTraceback:\n"
     ]
    }
   ],
   "source": [
    "dim(train_df_f)\n"
   ]
  },
  {
   "cell_type": "code",
   "execution_count": 5,
   "metadata": {},
   "outputs": [
    {
     "data": {
      "text/html": [
       "<table>\n",
       "<caption>A data.frame: 52 × 4</caption>\n",
       "<thead>\n",
       "\t<tr><th scope=col>mtry</th><th scope=col>sampe_size</th><th scope=col>OOB_RMSE</th><th scope=col>timestamp</th></tr>\n",
       "\t<tr><th scope=col>&lt;dbl&gt;</th><th scope=col>&lt;dbl&gt;</th><th scope=col>&lt;dbl&gt;</th><th scope=col>&lt;dbl&gt;</th></tr>\n",
       "</thead>\n",
       "<tbody>\n",
       "\t<tr><td> 1</td><td>0.550</td><td>0</td><td>0</td></tr>\n",
       "\t<tr><td> 2</td><td>0.550</td><td>0</td><td>0</td></tr>\n",
       "\t<tr><td> 3</td><td>0.550</td><td>0</td><td>0</td></tr>\n",
       "\t<tr><td> 4</td><td>0.550</td><td>0</td><td>0</td></tr>\n",
       "\t<tr><td> 5</td><td>0.550</td><td>0</td><td>0</td></tr>\n",
       "\t<tr><td> 6</td><td>0.550</td><td>0</td><td>0</td></tr>\n",
       "\t<tr><td> 7</td><td>0.550</td><td>0</td><td>0</td></tr>\n",
       "\t<tr><td> 8</td><td>0.550</td><td>0</td><td>0</td></tr>\n",
       "\t<tr><td> 9</td><td>0.550</td><td>0</td><td>0</td></tr>\n",
       "\t<tr><td>10</td><td>0.550</td><td>0</td><td>0</td></tr>\n",
       "\t<tr><td>11</td><td>0.550</td><td>0</td><td>0</td></tr>\n",
       "\t<tr><td>16</td><td>0.550</td><td>0</td><td>0</td></tr>\n",
       "\t<tr><td>21</td><td>0.550</td><td>0</td><td>0</td></tr>\n",
       "\t<tr><td> 1</td><td>0.632</td><td>0</td><td>0</td></tr>\n",
       "\t<tr><td> 2</td><td>0.632</td><td>0</td><td>0</td></tr>\n",
       "\t<tr><td> 3</td><td>0.632</td><td>0</td><td>0</td></tr>\n",
       "\t<tr><td> 4</td><td>0.632</td><td>0</td><td>0</td></tr>\n",
       "\t<tr><td> 5</td><td>0.632</td><td>0</td><td>0</td></tr>\n",
       "\t<tr><td> 6</td><td>0.632</td><td>0</td><td>0</td></tr>\n",
       "\t<tr><td> 7</td><td>0.632</td><td>0</td><td>0</td></tr>\n",
       "\t<tr><td> 8</td><td>0.632</td><td>0</td><td>0</td></tr>\n",
       "\t<tr><td> 9</td><td>0.632</td><td>0</td><td>0</td></tr>\n",
       "\t<tr><td>10</td><td>0.632</td><td>0</td><td>0</td></tr>\n",
       "\t<tr><td>11</td><td>0.632</td><td>0</td><td>0</td></tr>\n",
       "\t<tr><td>16</td><td>0.632</td><td>0</td><td>0</td></tr>\n",
       "\t<tr><td>21</td><td>0.632</td><td>0</td><td>0</td></tr>\n",
       "\t<tr><td> 1</td><td>0.700</td><td>0</td><td>0</td></tr>\n",
       "\t<tr><td> 2</td><td>0.700</td><td>0</td><td>0</td></tr>\n",
       "\t<tr><td> 3</td><td>0.700</td><td>0</td><td>0</td></tr>\n",
       "\t<tr><td> 4</td><td>0.700</td><td>0</td><td>0</td></tr>\n",
       "\t<tr><td> 5</td><td>0.700</td><td>0</td><td>0</td></tr>\n",
       "\t<tr><td> 6</td><td>0.700</td><td>0</td><td>0</td></tr>\n",
       "\t<tr><td> 7</td><td>0.700</td><td>0</td><td>0</td></tr>\n",
       "\t<tr><td> 8</td><td>0.700</td><td>0</td><td>0</td></tr>\n",
       "\t<tr><td> 9</td><td>0.700</td><td>0</td><td>0</td></tr>\n",
       "\t<tr><td>10</td><td>0.700</td><td>0</td><td>0</td></tr>\n",
       "\t<tr><td>11</td><td>0.700</td><td>0</td><td>0</td></tr>\n",
       "\t<tr><td>16</td><td>0.700</td><td>0</td><td>0</td></tr>\n",
       "\t<tr><td>21</td><td>0.700</td><td>0</td><td>0</td></tr>\n",
       "\t<tr><td> 1</td><td>0.800</td><td>0</td><td>0</td></tr>\n",
       "\t<tr><td> 2</td><td>0.800</td><td>0</td><td>0</td></tr>\n",
       "\t<tr><td> 3</td><td>0.800</td><td>0</td><td>0</td></tr>\n",
       "\t<tr><td> 4</td><td>0.800</td><td>0</td><td>0</td></tr>\n",
       "\t<tr><td> 5</td><td>0.800</td><td>0</td><td>0</td></tr>\n",
       "\t<tr><td> 6</td><td>0.800</td><td>0</td><td>0</td></tr>\n",
       "\t<tr><td> 7</td><td>0.800</td><td>0</td><td>0</td></tr>\n",
       "\t<tr><td> 8</td><td>0.800</td><td>0</td><td>0</td></tr>\n",
       "\t<tr><td> 9</td><td>0.800</td><td>0</td><td>0</td></tr>\n",
       "\t<tr><td>10</td><td>0.800</td><td>0</td><td>0</td></tr>\n",
       "\t<tr><td>11</td><td>0.800</td><td>0</td><td>0</td></tr>\n",
       "\t<tr><td>16</td><td>0.800</td><td>0</td><td>0</td></tr>\n",
       "\t<tr><td>21</td><td>0.800</td><td>0</td><td>0</td></tr>\n",
       "</tbody>\n",
       "</table>\n"
      ],
      "text/latex": [
       "A data.frame: 52 × 4\n",
       "\\begin{tabular}{llll}\n",
       " mtry & sampe\\_size & OOB\\_RMSE & timestamp\\\\\n",
       " <dbl> & <dbl> & <dbl> & <dbl>\\\\\n",
       "\\hline\n",
       "\t  1 & 0.550 & 0 & 0\\\\\n",
       "\t  2 & 0.550 & 0 & 0\\\\\n",
       "\t  3 & 0.550 & 0 & 0\\\\\n",
       "\t  4 & 0.550 & 0 & 0\\\\\n",
       "\t  5 & 0.550 & 0 & 0\\\\\n",
       "\t  6 & 0.550 & 0 & 0\\\\\n",
       "\t  7 & 0.550 & 0 & 0\\\\\n",
       "\t  8 & 0.550 & 0 & 0\\\\\n",
       "\t  9 & 0.550 & 0 & 0\\\\\n",
       "\t 10 & 0.550 & 0 & 0\\\\\n",
       "\t 11 & 0.550 & 0 & 0\\\\\n",
       "\t 16 & 0.550 & 0 & 0\\\\\n",
       "\t 21 & 0.550 & 0 & 0\\\\\n",
       "\t  1 & 0.632 & 0 & 0\\\\\n",
       "\t  2 & 0.632 & 0 & 0\\\\\n",
       "\t  3 & 0.632 & 0 & 0\\\\\n",
       "\t  4 & 0.632 & 0 & 0\\\\\n",
       "\t  5 & 0.632 & 0 & 0\\\\\n",
       "\t  6 & 0.632 & 0 & 0\\\\\n",
       "\t  7 & 0.632 & 0 & 0\\\\\n",
       "\t  8 & 0.632 & 0 & 0\\\\\n",
       "\t  9 & 0.632 & 0 & 0\\\\\n",
       "\t 10 & 0.632 & 0 & 0\\\\\n",
       "\t 11 & 0.632 & 0 & 0\\\\\n",
       "\t 16 & 0.632 & 0 & 0\\\\\n",
       "\t 21 & 0.632 & 0 & 0\\\\\n",
       "\t  1 & 0.700 & 0 & 0\\\\\n",
       "\t  2 & 0.700 & 0 & 0\\\\\n",
       "\t  3 & 0.700 & 0 & 0\\\\\n",
       "\t  4 & 0.700 & 0 & 0\\\\\n",
       "\t  5 & 0.700 & 0 & 0\\\\\n",
       "\t  6 & 0.700 & 0 & 0\\\\\n",
       "\t  7 & 0.700 & 0 & 0\\\\\n",
       "\t  8 & 0.700 & 0 & 0\\\\\n",
       "\t  9 & 0.700 & 0 & 0\\\\\n",
       "\t 10 & 0.700 & 0 & 0\\\\\n",
       "\t 11 & 0.700 & 0 & 0\\\\\n",
       "\t 16 & 0.700 & 0 & 0\\\\\n",
       "\t 21 & 0.700 & 0 & 0\\\\\n",
       "\t  1 & 0.800 & 0 & 0\\\\\n",
       "\t  2 & 0.800 & 0 & 0\\\\\n",
       "\t  3 & 0.800 & 0 & 0\\\\\n",
       "\t  4 & 0.800 & 0 & 0\\\\\n",
       "\t  5 & 0.800 & 0 & 0\\\\\n",
       "\t  6 & 0.800 & 0 & 0\\\\\n",
       "\t  7 & 0.800 & 0 & 0\\\\\n",
       "\t  8 & 0.800 & 0 & 0\\\\\n",
       "\t  9 & 0.800 & 0 & 0\\\\\n",
       "\t 10 & 0.800 & 0 & 0\\\\\n",
       "\t 11 & 0.800 & 0 & 0\\\\\n",
       "\t 16 & 0.800 & 0 & 0\\\\\n",
       "\t 21 & 0.800 & 0 & 0\\\\\n",
       "\\end{tabular}\n"
      ],
      "text/markdown": [
       "\n",
       "A data.frame: 52 × 4\n",
       "\n",
       "| mtry &lt;dbl&gt; | sampe_size &lt;dbl&gt; | OOB_RMSE &lt;dbl&gt; | timestamp &lt;dbl&gt; |\n",
       "|---|---|---|---|\n",
       "|  1 | 0.550 | 0 | 0 |\n",
       "|  2 | 0.550 | 0 | 0 |\n",
       "|  3 | 0.550 | 0 | 0 |\n",
       "|  4 | 0.550 | 0 | 0 |\n",
       "|  5 | 0.550 | 0 | 0 |\n",
       "|  6 | 0.550 | 0 | 0 |\n",
       "|  7 | 0.550 | 0 | 0 |\n",
       "|  8 | 0.550 | 0 | 0 |\n",
       "|  9 | 0.550 | 0 | 0 |\n",
       "| 10 | 0.550 | 0 | 0 |\n",
       "| 11 | 0.550 | 0 | 0 |\n",
       "| 16 | 0.550 | 0 | 0 |\n",
       "| 21 | 0.550 | 0 | 0 |\n",
       "|  1 | 0.632 | 0 | 0 |\n",
       "|  2 | 0.632 | 0 | 0 |\n",
       "|  3 | 0.632 | 0 | 0 |\n",
       "|  4 | 0.632 | 0 | 0 |\n",
       "|  5 | 0.632 | 0 | 0 |\n",
       "|  6 | 0.632 | 0 | 0 |\n",
       "|  7 | 0.632 | 0 | 0 |\n",
       "|  8 | 0.632 | 0 | 0 |\n",
       "|  9 | 0.632 | 0 | 0 |\n",
       "| 10 | 0.632 | 0 | 0 |\n",
       "| 11 | 0.632 | 0 | 0 |\n",
       "| 16 | 0.632 | 0 | 0 |\n",
       "| 21 | 0.632 | 0 | 0 |\n",
       "|  1 | 0.700 | 0 | 0 |\n",
       "|  2 | 0.700 | 0 | 0 |\n",
       "|  3 | 0.700 | 0 | 0 |\n",
       "|  4 | 0.700 | 0 | 0 |\n",
       "|  5 | 0.700 | 0 | 0 |\n",
       "|  6 | 0.700 | 0 | 0 |\n",
       "|  7 | 0.700 | 0 | 0 |\n",
       "|  8 | 0.700 | 0 | 0 |\n",
       "|  9 | 0.700 | 0 | 0 |\n",
       "| 10 | 0.700 | 0 | 0 |\n",
       "| 11 | 0.700 | 0 | 0 |\n",
       "| 16 | 0.700 | 0 | 0 |\n",
       "| 21 | 0.700 | 0 | 0 |\n",
       "|  1 | 0.800 | 0 | 0 |\n",
       "|  2 | 0.800 | 0 | 0 |\n",
       "|  3 | 0.800 | 0 | 0 |\n",
       "|  4 | 0.800 | 0 | 0 |\n",
       "|  5 | 0.800 | 0 | 0 |\n",
       "|  6 | 0.800 | 0 | 0 |\n",
       "|  7 | 0.800 | 0 | 0 |\n",
       "|  8 | 0.800 | 0 | 0 |\n",
       "|  9 | 0.800 | 0 | 0 |\n",
       "| 10 | 0.800 | 0 | 0 |\n",
       "| 11 | 0.800 | 0 | 0 |\n",
       "| 16 | 0.800 | 0 | 0 |\n",
       "| 21 | 0.800 | 0 | 0 |\n",
       "\n"
      ],
      "text/plain": [
       "   mtry sampe_size OOB_RMSE timestamp\n",
       "1   1   0.550      0        0        \n",
       "2   2   0.550      0        0        \n",
       "3   3   0.550      0        0        \n",
       "4   4   0.550      0        0        \n",
       "5   5   0.550      0        0        \n",
       "6   6   0.550      0        0        \n",
       "7   7   0.550      0        0        \n",
       "8   8   0.550      0        0        \n",
       "9   9   0.550      0        0        \n",
       "10 10   0.550      0        0        \n",
       "11 11   0.550      0        0        \n",
       "12 16   0.550      0        0        \n",
       "13 21   0.550      0        0        \n",
       "14  1   0.632      0        0        \n",
       "15  2   0.632      0        0        \n",
       "16  3   0.632      0        0        \n",
       "17  4   0.632      0        0        \n",
       "18  5   0.632      0        0        \n",
       "19  6   0.632      0        0        \n",
       "20  7   0.632      0        0        \n",
       "21  8   0.632      0        0        \n",
       "22  9   0.632      0        0        \n",
       "23 10   0.632      0        0        \n",
       "24 11   0.632      0        0        \n",
       "25 16   0.632      0        0        \n",
       "26 21   0.632      0        0        \n",
       "27  1   0.700      0        0        \n",
       "28  2   0.700      0        0        \n",
       "29  3   0.700      0        0        \n",
       "30  4   0.700      0        0        \n",
       "31  5   0.700      0        0        \n",
       "32  6   0.700      0        0        \n",
       "33  7   0.700      0        0        \n",
       "34  8   0.700      0        0        \n",
       "35  9   0.700      0        0        \n",
       "36 10   0.700      0        0        \n",
       "37 11   0.700      0        0        \n",
       "38 16   0.700      0        0        \n",
       "39 21   0.700      0        0        \n",
       "40  1   0.800      0        0        \n",
       "41  2   0.800      0        0        \n",
       "42  3   0.800      0        0        \n",
       "43  4   0.800      0        0        \n",
       "44  5   0.800      0        0        \n",
       "45  6   0.800      0        0        \n",
       "46  7   0.800      0        0        \n",
       "47  8   0.800      0        0        \n",
       "48  9   0.800      0        0        \n",
       "49 10   0.800      0        0        \n",
       "50 11   0.800      0        0        \n",
       "51 16   0.800      0        0        \n",
       "52 21   0.800      0        0        "
      ]
     },
     "metadata": {},
     "output_type": "display_data"
    }
   ],
   "source": [
    "# hyper param grid search\n",
    "\n",
    "# To perform the grid search, first we want to construct our grid of hyperparameters. \n",
    "# We’re going to search across 96 different models with varying mtry, minimum node size, and sample size.\n",
    "\n",
    "# hyperparameter grid search\n",
    "hyper_grid <- expand.grid(\n",
    "  mtry       = c(1,2,3,4,5,6,7,8,9,10,11,16,21),\n",
    "  sampe_size = c(.55, .632, .70, .80),\n",
    "  OOB_RMSE   = 0,\n",
    "  timestamp = 0\n",
    ")\n",
    "\n",
    "hyper_grid"
   ]
  },
  {
   "cell_type": "code",
   "execution_count": 7,
   "metadata": {},
   "outputs": [
    {
     "data": {
      "text/html": [
       "<table>\n",
       "<caption>A data.frame: 11 × 4</caption>\n",
       "<thead>\n",
       "\t<tr><th scope=col>mtry</th><th scope=col>sampe_size</th><th scope=col>OOB_RMSE</th><th scope=col>timestamp</th></tr>\n",
       "\t<tr><th scope=col>&lt;int&gt;</th><th scope=col>&lt;dbl&gt;</th><th scope=col>&lt;dbl&gt;</th><th scope=col>&lt;fct&gt;</th></tr>\n",
       "</thead>\n",
       "<tbody>\n",
       "\t<tr><td> 1</td><td>0.550</td><td>0.2968777</td><td>2020-06-24 19:50:30 PDT</td></tr>\n",
       "\t<tr><td> 6</td><td>0.550</td><td>0.2795424</td><td>2020-06-24 20:03:26 PDT</td></tr>\n",
       "\t<tr><td>11</td><td>0.550</td><td>0.2805656</td><td>2020-06-24 20:21:34 PDT</td></tr>\n",
       "\t<tr><td>16</td><td>0.550</td><td>0.2810422</td><td>2020-06-24 20:45:31 PDT</td></tr>\n",
       "\t<tr><td>21</td><td>0.550</td><td>0.2815081</td><td>2020-06-24 21:14:35 PDT</td></tr>\n",
       "\t<tr><td> 1</td><td>0.632</td><td>0.2968883</td><td>2020-06-24 21:18:16 PDT</td></tr>\n",
       "\t<tr><td> 6</td><td>0.632</td><td>0.2794917</td><td>2020-06-24 21:34:08 PDT</td></tr>\n",
       "\t<tr><td> 1</td><td>0.700</td><td>0.2969195</td><td>2020-06-25 07:18:01 PDT</td></tr>\n",
       "\t<tr><td> 6</td><td>0.700</td><td>0.2795297</td><td>2020-06-25 07:32:04 PDT</td></tr>\n",
       "\t<tr><td> 1</td><td>0.800</td><td>0.2969325</td><td>2020-06-25 09:45:25 PDT</td></tr>\n",
       "\t<tr><td> 6</td><td>0.800</td><td>0.2797155</td><td>2020-06-25 09:59:21 PDT</td></tr>\n",
       "</tbody>\n",
       "</table>\n"
      ],
      "text/latex": [
       "A data.frame: 11 × 4\n",
       "\\begin{tabular}{llll}\n",
       " mtry & sampe\\_size & OOB\\_RMSE & timestamp\\\\\n",
       " <int> & <dbl> & <dbl> & <fct>\\\\\n",
       "\\hline\n",
       "\t  1 & 0.550 & 0.2968777 & 2020-06-24 19:50:30 PDT\\\\\n",
       "\t  6 & 0.550 & 0.2795424 & 2020-06-24 20:03:26 PDT\\\\\n",
       "\t 11 & 0.550 & 0.2805656 & 2020-06-24 20:21:34 PDT\\\\\n",
       "\t 16 & 0.550 & 0.2810422 & 2020-06-24 20:45:31 PDT\\\\\n",
       "\t 21 & 0.550 & 0.2815081 & 2020-06-24 21:14:35 PDT\\\\\n",
       "\t  1 & 0.632 & 0.2968883 & 2020-06-24 21:18:16 PDT\\\\\n",
       "\t  6 & 0.632 & 0.2794917 & 2020-06-24 21:34:08 PDT\\\\\n",
       "\t  1 & 0.700 & 0.2969195 & 2020-06-25 07:18:01 PDT\\\\\n",
       "\t  6 & 0.700 & 0.2795297 & 2020-06-25 07:32:04 PDT\\\\\n",
       "\t  1 & 0.800 & 0.2969325 & 2020-06-25 09:45:25 PDT\\\\\n",
       "\t  6 & 0.800 & 0.2797155 & 2020-06-25 09:59:21 PDT\\\\\n",
       "\\end{tabular}\n"
      ],
      "text/markdown": [
       "\n",
       "A data.frame: 11 × 4\n",
       "\n",
       "| mtry &lt;int&gt; | sampe_size &lt;dbl&gt; | OOB_RMSE &lt;dbl&gt; | timestamp &lt;fct&gt; |\n",
       "|---|---|---|---|\n",
       "|  1 | 0.550 | 0.2968777 | 2020-06-24 19:50:30 PDT |\n",
       "|  6 | 0.550 | 0.2795424 | 2020-06-24 20:03:26 PDT |\n",
       "| 11 | 0.550 | 0.2805656 | 2020-06-24 20:21:34 PDT |\n",
       "| 16 | 0.550 | 0.2810422 | 2020-06-24 20:45:31 PDT |\n",
       "| 21 | 0.550 | 0.2815081 | 2020-06-24 21:14:35 PDT |\n",
       "|  1 | 0.632 | 0.2968883 | 2020-06-24 21:18:16 PDT |\n",
       "|  6 | 0.632 | 0.2794917 | 2020-06-24 21:34:08 PDT |\n",
       "|  1 | 0.700 | 0.2969195 | 2020-06-25 07:18:01 PDT |\n",
       "|  6 | 0.700 | 0.2795297 | 2020-06-25 07:32:04 PDT |\n",
       "|  1 | 0.800 | 0.2969325 | 2020-06-25 09:45:25 PDT |\n",
       "|  6 | 0.800 | 0.2797155 | 2020-06-25 09:59:21 PDT |\n",
       "\n"
      ],
      "text/plain": [
       "   mtry sampe_size OOB_RMSE  timestamp              \n",
       "1   1   0.550      0.2968777 2020-06-24 19:50:30 PDT\n",
       "2   6   0.550      0.2795424 2020-06-24 20:03:26 PDT\n",
       "3  11   0.550      0.2805656 2020-06-24 20:21:34 PDT\n",
       "4  16   0.550      0.2810422 2020-06-24 20:45:31 PDT\n",
       "5  21   0.550      0.2815081 2020-06-24 21:14:35 PDT\n",
       "6   1   0.632      0.2968883 2020-06-24 21:18:16 PDT\n",
       "7   6   0.632      0.2794917 2020-06-24 21:34:08 PDT\n",
       "8   1   0.700      0.2969195 2020-06-25 07:18:01 PDT\n",
       "9   6   0.700      0.2795297 2020-06-25 07:32:04 PDT\n",
       "10  1   0.800      0.2969325 2020-06-25 09:45:25 PDT\n",
       "11  6   0.800      0.2797155 2020-06-25 09:59:21 PDT"
      ]
     },
     "metadata": {},
     "output_type": "display_data"
    }
   ],
   "source": [
    "fname = \"/home/jupyter/local/Domains_202003/data/output/hyper_grid.log\"\n",
    "hyper_grid_comp <- read.csv(file = fname)[,2:5]\n",
    "hyper_grid_comp\n",
    "# hyper_grid_comp <- transform(hyper_grid_comp, mtry = as.numeric(mtry))"
   ]
  },
  {
   "cell_type": "code",
   "execution_count": 8,
   "metadata": {},
   "outputs": [
    {
     "data": {
      "text/html": [
       "<table>\n",
       "<caption>A data.frame: 41 × 4</caption>\n",
       "<thead>\n",
       "\t<tr><th scope=col>mtry</th><th scope=col>sampe_size</th><th scope=col>OOB_RMSE</th><th scope=col>timestamp</th></tr>\n",
       "\t<tr><th scope=col>&lt;dbl&gt;</th><th scope=col>&lt;dbl&gt;</th><th scope=col>&lt;dbl&gt;</th><th scope=col>&lt;chr&gt;</th></tr>\n",
       "</thead>\n",
       "<tbody>\n",
       "\t<tr><td> 2</td><td>0.550</td><td>NA</td><td>NA</td></tr>\n",
       "\t<tr><td> 2</td><td>0.632</td><td>NA</td><td>NA</td></tr>\n",
       "\t<tr><td> 2</td><td>0.700</td><td>NA</td><td>NA</td></tr>\n",
       "\t<tr><td> 2</td><td>0.800</td><td>NA</td><td>NA</td></tr>\n",
       "\t<tr><td> 3</td><td>0.550</td><td>NA</td><td>NA</td></tr>\n",
       "\t<tr><td> 3</td><td>0.632</td><td>NA</td><td>NA</td></tr>\n",
       "\t<tr><td> 3</td><td>0.700</td><td>NA</td><td>NA</td></tr>\n",
       "\t<tr><td> 3</td><td>0.800</td><td>NA</td><td>NA</td></tr>\n",
       "\t<tr><td> 4</td><td>0.550</td><td>NA</td><td>NA</td></tr>\n",
       "\t<tr><td> 4</td><td>0.632</td><td>NA</td><td>NA</td></tr>\n",
       "\t<tr><td> 4</td><td>0.700</td><td>NA</td><td>NA</td></tr>\n",
       "\t<tr><td> 4</td><td>0.800</td><td>NA</td><td>NA</td></tr>\n",
       "\t<tr><td> 5</td><td>0.550</td><td>NA</td><td>NA</td></tr>\n",
       "\t<tr><td> 5</td><td>0.632</td><td>NA</td><td>NA</td></tr>\n",
       "\t<tr><td> 5</td><td>0.700</td><td>NA</td><td>NA</td></tr>\n",
       "\t<tr><td> 5</td><td>0.800</td><td>NA</td><td>NA</td></tr>\n",
       "\t<tr><td> 7</td><td>0.550</td><td>NA</td><td>NA</td></tr>\n",
       "\t<tr><td> 7</td><td>0.632</td><td>NA</td><td>NA</td></tr>\n",
       "\t<tr><td> 7</td><td>0.700</td><td>NA</td><td>NA</td></tr>\n",
       "\t<tr><td> 7</td><td>0.800</td><td>NA</td><td>NA</td></tr>\n",
       "\t<tr><td> 8</td><td>0.550</td><td>NA</td><td>NA</td></tr>\n",
       "\t<tr><td> 8</td><td>0.632</td><td>NA</td><td>NA</td></tr>\n",
       "\t<tr><td> 8</td><td>0.700</td><td>NA</td><td>NA</td></tr>\n",
       "\t<tr><td> 8</td><td>0.800</td><td>NA</td><td>NA</td></tr>\n",
       "\t<tr><td> 9</td><td>0.550</td><td>NA</td><td>NA</td></tr>\n",
       "\t<tr><td> 9</td><td>0.632</td><td>NA</td><td>NA</td></tr>\n",
       "\t<tr><td> 9</td><td>0.700</td><td>NA</td><td>NA</td></tr>\n",
       "\t<tr><td> 9</td><td>0.800</td><td>NA</td><td>NA</td></tr>\n",
       "\t<tr><td>10</td><td>0.550</td><td>NA</td><td>NA</td></tr>\n",
       "\t<tr><td>10</td><td>0.632</td><td>NA</td><td>NA</td></tr>\n",
       "\t<tr><td>10</td><td>0.700</td><td>NA</td><td>NA</td></tr>\n",
       "\t<tr><td>10</td><td>0.800</td><td>NA</td><td>NA</td></tr>\n",
       "\t<tr><td>11</td><td>0.632</td><td>NA</td><td>NA</td></tr>\n",
       "\t<tr><td>11</td><td>0.700</td><td>NA</td><td>NA</td></tr>\n",
       "\t<tr><td>11</td><td>0.800</td><td>NA</td><td>NA</td></tr>\n",
       "\t<tr><td>16</td><td>0.632</td><td>NA</td><td>NA</td></tr>\n",
       "\t<tr><td>16</td><td>0.700</td><td>NA</td><td>NA</td></tr>\n",
       "\t<tr><td>16</td><td>0.800</td><td>NA</td><td>NA</td></tr>\n",
       "\t<tr><td>21</td><td>0.632</td><td>NA</td><td>NA</td></tr>\n",
       "\t<tr><td>21</td><td>0.700</td><td>NA</td><td>NA</td></tr>\n",
       "\t<tr><td>21</td><td>0.800</td><td>NA</td><td>NA</td></tr>\n",
       "</tbody>\n",
       "</table>\n"
      ],
      "text/latex": [
       "A data.frame: 41 × 4\n",
       "\\begin{tabular}{llll}\n",
       " mtry & sampe\\_size & OOB\\_RMSE & timestamp\\\\\n",
       " <dbl> & <dbl> & <dbl> & <chr>\\\\\n",
       "\\hline\n",
       "\t  2 & 0.550 & NA & NA\\\\\n",
       "\t  2 & 0.632 & NA & NA\\\\\n",
       "\t  2 & 0.700 & NA & NA\\\\\n",
       "\t  2 & 0.800 & NA & NA\\\\\n",
       "\t  3 & 0.550 & NA & NA\\\\\n",
       "\t  3 & 0.632 & NA & NA\\\\\n",
       "\t  3 & 0.700 & NA & NA\\\\\n",
       "\t  3 & 0.800 & NA & NA\\\\\n",
       "\t  4 & 0.550 & NA & NA\\\\\n",
       "\t  4 & 0.632 & NA & NA\\\\\n",
       "\t  4 & 0.700 & NA & NA\\\\\n",
       "\t  4 & 0.800 & NA & NA\\\\\n",
       "\t  5 & 0.550 & NA & NA\\\\\n",
       "\t  5 & 0.632 & NA & NA\\\\\n",
       "\t  5 & 0.700 & NA & NA\\\\\n",
       "\t  5 & 0.800 & NA & NA\\\\\n",
       "\t  7 & 0.550 & NA & NA\\\\\n",
       "\t  7 & 0.632 & NA & NA\\\\\n",
       "\t  7 & 0.700 & NA & NA\\\\\n",
       "\t  7 & 0.800 & NA & NA\\\\\n",
       "\t  8 & 0.550 & NA & NA\\\\\n",
       "\t  8 & 0.632 & NA & NA\\\\\n",
       "\t  8 & 0.700 & NA & NA\\\\\n",
       "\t  8 & 0.800 & NA & NA\\\\\n",
       "\t  9 & 0.550 & NA & NA\\\\\n",
       "\t  9 & 0.632 & NA & NA\\\\\n",
       "\t  9 & 0.700 & NA & NA\\\\\n",
       "\t  9 & 0.800 & NA & NA\\\\\n",
       "\t 10 & 0.550 & NA & NA\\\\\n",
       "\t 10 & 0.632 & NA & NA\\\\\n",
       "\t 10 & 0.700 & NA & NA\\\\\n",
       "\t 10 & 0.800 & NA & NA\\\\\n",
       "\t 11 & 0.632 & NA & NA\\\\\n",
       "\t 11 & 0.700 & NA & NA\\\\\n",
       "\t 11 & 0.800 & NA & NA\\\\\n",
       "\t 16 & 0.632 & NA & NA\\\\\n",
       "\t 16 & 0.700 & NA & NA\\\\\n",
       "\t 16 & 0.800 & NA & NA\\\\\n",
       "\t 21 & 0.632 & NA & NA\\\\\n",
       "\t 21 & 0.700 & NA & NA\\\\\n",
       "\t 21 & 0.800 & NA & NA\\\\\n",
       "\\end{tabular}\n"
      ],
      "text/markdown": [
       "\n",
       "A data.frame: 41 × 4\n",
       "\n",
       "| mtry &lt;dbl&gt; | sampe_size &lt;dbl&gt; | OOB_RMSE &lt;dbl&gt; | timestamp &lt;chr&gt; |\n",
       "|---|---|---|---|\n",
       "|  2 | 0.550 | NA | NA |\n",
       "|  2 | 0.632 | NA | NA |\n",
       "|  2 | 0.700 | NA | NA |\n",
       "|  2 | 0.800 | NA | NA |\n",
       "|  3 | 0.550 | NA | NA |\n",
       "|  3 | 0.632 | NA | NA |\n",
       "|  3 | 0.700 | NA | NA |\n",
       "|  3 | 0.800 | NA | NA |\n",
       "|  4 | 0.550 | NA | NA |\n",
       "|  4 | 0.632 | NA | NA |\n",
       "|  4 | 0.700 | NA | NA |\n",
       "|  4 | 0.800 | NA | NA |\n",
       "|  5 | 0.550 | NA | NA |\n",
       "|  5 | 0.632 | NA | NA |\n",
       "|  5 | 0.700 | NA | NA |\n",
       "|  5 | 0.800 | NA | NA |\n",
       "|  7 | 0.550 | NA | NA |\n",
       "|  7 | 0.632 | NA | NA |\n",
       "|  7 | 0.700 | NA | NA |\n",
       "|  7 | 0.800 | NA | NA |\n",
       "|  8 | 0.550 | NA | NA |\n",
       "|  8 | 0.632 | NA | NA |\n",
       "|  8 | 0.700 | NA | NA |\n",
       "|  8 | 0.800 | NA | NA |\n",
       "|  9 | 0.550 | NA | NA |\n",
       "|  9 | 0.632 | NA | NA |\n",
       "|  9 | 0.700 | NA | NA |\n",
       "|  9 | 0.800 | NA | NA |\n",
       "| 10 | 0.550 | NA | NA |\n",
       "| 10 | 0.632 | NA | NA |\n",
       "| 10 | 0.700 | NA | NA |\n",
       "| 10 | 0.800 | NA | NA |\n",
       "| 11 | 0.632 | NA | NA |\n",
       "| 11 | 0.700 | NA | NA |\n",
       "| 11 | 0.800 | NA | NA |\n",
       "| 16 | 0.632 | NA | NA |\n",
       "| 16 | 0.700 | NA | NA |\n",
       "| 16 | 0.800 | NA | NA |\n",
       "| 21 | 0.632 | NA | NA |\n",
       "| 21 | 0.700 | NA | NA |\n",
       "| 21 | 0.800 | NA | NA |\n",
       "\n"
      ],
      "text/plain": [
       "   mtry sampe_size OOB_RMSE timestamp\n",
       "1   2   0.550      NA       NA       \n",
       "2   2   0.632      NA       NA       \n",
       "3   2   0.700      NA       NA       \n",
       "4   2   0.800      NA       NA       \n",
       "5   3   0.550      NA       NA       \n",
       "6   3   0.632      NA       NA       \n",
       "7   3   0.700      NA       NA       \n",
       "8   3   0.800      NA       NA       \n",
       "9   4   0.550      NA       NA       \n",
       "10  4   0.632      NA       NA       \n",
       "11  4   0.700      NA       NA       \n",
       "12  4   0.800      NA       NA       \n",
       "13  5   0.550      NA       NA       \n",
       "14  5   0.632      NA       NA       \n",
       "15  5   0.700      NA       NA       \n",
       "16  5   0.800      NA       NA       \n",
       "17  7   0.550      NA       NA       \n",
       "18  7   0.632      NA       NA       \n",
       "19  7   0.700      NA       NA       \n",
       "20  7   0.800      NA       NA       \n",
       "21  8   0.550      NA       NA       \n",
       "22  8   0.632      NA       NA       \n",
       "23  8   0.700      NA       NA       \n",
       "24  8   0.800      NA       NA       \n",
       "25  9   0.550      NA       NA       \n",
       "26  9   0.632      NA       NA       \n",
       "27  9   0.700      NA       NA       \n",
       "28  9   0.800      NA       NA       \n",
       "29 10   0.550      NA       NA       \n",
       "30 10   0.632      NA       NA       \n",
       "31 10   0.700      NA       NA       \n",
       "32 10   0.800      NA       NA       \n",
       "33 11   0.632      NA       NA       \n",
       "34 11   0.700      NA       NA       \n",
       "35 11   0.800      NA       NA       \n",
       "36 16   0.632      NA       NA       \n",
       "37 16   0.700      NA       NA       \n",
       "38 16   0.800      NA       NA       \n",
       "39 21   0.632      NA       NA       \n",
       "40 21   0.700      NA       NA       \n",
       "41 21   0.800      NA       NA       "
      ]
     },
     "metadata": {},
     "output_type": "display_data"
    }
   ],
   "source": [
    "# join \n",
    "hyper_grid_todo <- full_join(hyper_grid, hyper_grid_comp, \n",
    "                                    by = c(\"mtry\",\"sampe_size\")\n",
    "                                   ) %>% select(mtry, sampe_size,OOB_RMSE.y, timestamp.y\n",
    "                                               ) %>% filter(is.na(OOB_RMSE.y)\n",
    "                                                           ) %>% arrange(mtry\n",
    "                                                                        ) \n",
    "\n",
    "names(hyper_grid_todo) <- c(\"mtry\",\"sampe_size\",\"OOB_RMSE\",\"timestamp\")\n",
    "hyper_grid_todo <- transform(hyper_grid_todo, timestamp = as.character(timestamp))\n",
    "hyper_grid_todo "
   ]
  },
  {
   "cell_type": "code",
   "execution_count": 56,
   "metadata": {},
   "outputs": [
    {
     "name": "stdout",
     "output_type": "stream",
     "text": [
      "2020-06-25 09:50:24 PDT\n",
      "Processing mtry=1.000000; sample.fraction=0.800000 \n",
      "2020-06-25 09:50:24 PDT\n",
      "\n",
      "2020-06-25 09:50:24 PDT\n",
      "Processing mtry=6.000000; sample.fraction=0.800000 \n",
      "2020-06-25 09:50:24 PDT\n",
      "\n",
      "2020-06-25 09:50:24 PDT\n",
      "Processing mtry=11.000000; sample.fraction=0.632000 \n",
      "2020-06-25 09:50:24 PDT\n",
      "\n",
      "2020-06-25 09:50:24 PDT\n",
      "Processing mtry=11.000000; sample.fraction=0.700000 \n",
      "2020-06-25 09:50:24 PDT\n",
      "\n",
      "2020-06-25 09:50:24 PDT\n",
      "Processing mtry=11.000000; sample.fraction=0.800000 \n",
      "2020-06-25 09:50:24 PDT\n",
      "\n",
      "2020-06-25 09:50:24 PDT\n",
      "Processing mtry=16.000000; sample.fraction=0.632000 \n",
      "2020-06-25 09:50:24 PDT\n",
      "\n",
      "2020-06-25 09:50:24 PDT\n",
      "Processing mtry=16.000000; sample.fraction=0.700000 \n",
      "2020-06-25 09:50:24 PDT\n",
      "\n",
      "2020-06-25 09:50:24 PDT\n",
      "Processing mtry=16.000000; sample.fraction=0.800000 \n",
      "2020-06-25 09:50:24 PDT\n",
      "\n",
      "2020-06-25 09:50:24 PDT\n",
      "Processing mtry=21.000000; sample.fraction=0.632000 \n",
      "2020-06-25 09:50:24 PDT\n",
      "\n",
      "2020-06-25 09:50:24 PDT\n",
      "Processing mtry=21.000000; sample.fraction=0.700000 \n",
      "2020-06-25 09:50:24 PDT\n",
      "\n",
      "2020-06-25 09:50:24 PDT\n",
      "Processing mtry=21.000000; sample.fraction=0.800000 \n",
      "2020-06-25 09:50:24 PDT\n",
      "\n"
     ]
    }
   ],
   "source": [
    "fname = \"/home/jupyter/local/Domains_202003/data/output/hyper_grid.log\"\n",
    "log_con <- file(fname)\n",
    "# write.table(data.frame(t(c('row','mtry','sampe_size','OOB_RMSE','timestamp'))), \n",
    "#             file = fname, append=FALSE,row.names = FALSE, col.names = FALSE, sep = \",\")\n",
    "\n",
    "for(i in 1:nrow(hyper_grid_todo)) {\n",
    "    \n",
    "  ts <- format(Sys.time(), tz=\"America/Los_Angeles\",usetz=TRUE)\n",
    "  mtry <- hyper_grid_todo$mtry[i]\n",
    "  sample.fraction <- hyper_grid_todo$sampe_size[i]\n",
    "    \n",
    "  cat(paste(ts))\n",
    "  cat(paste(\"\\n\"))\n",
    "  cat(paste(sprintf(\"Processing mtry=%f; sample.fraction=%f \\n\", mtry, sample.fraction)))\n",
    "  \n",
    "  \n",
    "#   # train model\n",
    "#   model <- ranger(\n",
    "#     formula         = renewal_status ~ ., \n",
    "#     data            = subset(train_df_f, select = -c(renew_M,renew_Y) ), \n",
    "#     num.trees       = 500,\n",
    "#     class.weights = c(3,4),\n",
    "#     probability = TRUE,\n",
    "#     mtry            = mtry,\n",
    "#     min.node.size   = 10,\n",
    "#     replace = FALSE,\n",
    "#     sample.fraction = sample.fraction,\n",
    "#     seed            = 123\n",
    "#   )\n",
    "    \n",
    "  ts <- format(Sys.time(), tz=\"America/Los_Angeles\",usetz=TRUE)\n",
    "  cat(paste(ts))\n",
    "    \n",
    "  cat(paste(\"\\n\"))  \n",
    "  cat(paste(\"\\n\"))\n",
    "  \n",
    "  # add OOB error to grid\n",
    "  hyper_grid_todo$OOB_RMSE[i] <- 2 #sqrt(model$prediction.error)\n",
    "    \n",
    "  # add TS  to grid\n",
    "  hyper_grid_todo$timestamp[i] <- ts\n",
    "    \n",
    "  # write to logfile\n",
    "#   write.table(unname(hyper_grid_todo[i,]), file = fname, append=TRUE, sep = \",\",row.names = TRUE)\n",
    "}\n",
    "\n",
    "\n",
    "# save(hyper_grid, file=\"../../data/output/hyper_grid\")\n",
    "\n",
    "# hyper_grid %>% \n",
    "#   dplyr::arrange(OOB_RMSE) %>%\n",
    "#   head(10)"
   ]
  },
  {
   "cell_type": "code",
   "execution_count": 58,
   "metadata": {},
   "outputs": [
    {
     "data": {
      "text/html": [
       "<table>\n",
       "<caption>A data.frame: 11 × 4</caption>\n",
       "<thead>\n",
       "\t<tr><th scope=col>mtry</th><th scope=col>sampe_size</th><th scope=col>OOB_RMSE</th><th scope=col>timestamp</th></tr>\n",
       "\t<tr><th scope=col>&lt;dbl&gt;</th><th scope=col>&lt;dbl&gt;</th><th scope=col>&lt;dbl&gt;</th><th scope=col>&lt;chr&gt;</th></tr>\n",
       "</thead>\n",
       "<tbody>\n",
       "\t<tr><td> 1</td><td>0.800</td><td>2</td><td>2020-06-25 09:50:24 PDT</td></tr>\n",
       "\t<tr><td> 6</td><td>0.800</td><td>2</td><td>2020-06-25 09:50:24 PDT</td></tr>\n",
       "\t<tr><td>11</td><td>0.632</td><td>2</td><td>2020-06-25 09:50:24 PDT</td></tr>\n",
       "\t<tr><td>11</td><td>0.700</td><td>2</td><td>2020-06-25 09:50:24 PDT</td></tr>\n",
       "\t<tr><td>11</td><td>0.800</td><td>2</td><td>2020-06-25 09:50:24 PDT</td></tr>\n",
       "\t<tr><td>16</td><td>0.632</td><td>2</td><td>2020-06-25 09:50:24 PDT</td></tr>\n",
       "\t<tr><td>16</td><td>0.700</td><td>2</td><td>2020-06-25 09:50:24 PDT</td></tr>\n",
       "\t<tr><td>16</td><td>0.800</td><td>2</td><td>2020-06-25 09:50:24 PDT</td></tr>\n",
       "\t<tr><td>21</td><td>0.632</td><td>2</td><td>2020-06-25 09:50:24 PDT</td></tr>\n",
       "\t<tr><td>21</td><td>0.700</td><td>2</td><td>2020-06-25 09:50:24 PDT</td></tr>\n",
       "\t<tr><td>21</td><td>0.800</td><td>2</td><td>2020-06-25 09:50:24 PDT</td></tr>\n",
       "</tbody>\n",
       "</table>\n"
      ],
      "text/latex": [
       "A data.frame: 11 × 4\n",
       "\\begin{tabular}{llll}\n",
       " mtry & sampe\\_size & OOB\\_RMSE & timestamp\\\\\n",
       " <dbl> & <dbl> & <dbl> & <chr>\\\\\n",
       "\\hline\n",
       "\t  1 & 0.800 & 2 & 2020-06-25 09:50:24 PDT\\\\\n",
       "\t  6 & 0.800 & 2 & 2020-06-25 09:50:24 PDT\\\\\n",
       "\t 11 & 0.632 & 2 & 2020-06-25 09:50:24 PDT\\\\\n",
       "\t 11 & 0.700 & 2 & 2020-06-25 09:50:24 PDT\\\\\n",
       "\t 11 & 0.800 & 2 & 2020-06-25 09:50:24 PDT\\\\\n",
       "\t 16 & 0.632 & 2 & 2020-06-25 09:50:24 PDT\\\\\n",
       "\t 16 & 0.700 & 2 & 2020-06-25 09:50:24 PDT\\\\\n",
       "\t 16 & 0.800 & 2 & 2020-06-25 09:50:24 PDT\\\\\n",
       "\t 21 & 0.632 & 2 & 2020-06-25 09:50:24 PDT\\\\\n",
       "\t 21 & 0.700 & 2 & 2020-06-25 09:50:24 PDT\\\\\n",
       "\t 21 & 0.800 & 2 & 2020-06-25 09:50:24 PDT\\\\\n",
       "\\end{tabular}\n"
      ],
      "text/markdown": [
       "\n",
       "A data.frame: 11 × 4\n",
       "\n",
       "| mtry &lt;dbl&gt; | sampe_size &lt;dbl&gt; | OOB_RMSE &lt;dbl&gt; | timestamp &lt;chr&gt; |\n",
       "|---|---|---|---|\n",
       "|  1 | 0.800 | 2 | 2020-06-25 09:50:24 PDT |\n",
       "|  6 | 0.800 | 2 | 2020-06-25 09:50:24 PDT |\n",
       "| 11 | 0.632 | 2 | 2020-06-25 09:50:24 PDT |\n",
       "| 11 | 0.700 | 2 | 2020-06-25 09:50:24 PDT |\n",
       "| 11 | 0.800 | 2 | 2020-06-25 09:50:24 PDT |\n",
       "| 16 | 0.632 | 2 | 2020-06-25 09:50:24 PDT |\n",
       "| 16 | 0.700 | 2 | 2020-06-25 09:50:24 PDT |\n",
       "| 16 | 0.800 | 2 | 2020-06-25 09:50:24 PDT |\n",
       "| 21 | 0.632 | 2 | 2020-06-25 09:50:24 PDT |\n",
       "| 21 | 0.700 | 2 | 2020-06-25 09:50:24 PDT |\n",
       "| 21 | 0.800 | 2 | 2020-06-25 09:50:24 PDT |\n",
       "\n"
      ],
      "text/plain": [
       "   mtry sampe_size OOB_RMSE timestamp              \n",
       "1   1   0.800      2        2020-06-25 09:50:24 PDT\n",
       "2   6   0.800      2        2020-06-25 09:50:24 PDT\n",
       "3  11   0.632      2        2020-06-25 09:50:24 PDT\n",
       "4  11   0.700      2        2020-06-25 09:50:24 PDT\n",
       "5  11   0.800      2        2020-06-25 09:50:24 PDT\n",
       "6  16   0.632      2        2020-06-25 09:50:24 PDT\n",
       "7  16   0.700      2        2020-06-25 09:50:24 PDT\n",
       "8  16   0.800      2        2020-06-25 09:50:24 PDT\n",
       "9  21   0.632      2        2020-06-25 09:50:24 PDT\n",
       "10 21   0.700      2        2020-06-25 09:50:24 PDT\n",
       "11 21   0.800      2        2020-06-25 09:50:24 PDT"
      ]
     },
     "metadata": {},
     "output_type": "display_data"
    }
   ],
   "source": [
    "hyper_grid_todo\n"
   ]
  },
  {
   "cell_type": "markdown",
   "metadata": {},
   "source": [
    "#### 3d plot of hyperparam"
   ]
  },
  {
   "cell_type": "code",
   "execution_count": 46,
   "metadata": {},
   "outputs": [
    {
     "data": {
      "text/html": [
       "<table>\n",
       "<caption>A data.frame: 5 × 4</caption>\n",
       "<thead>\n",
       "\t<tr><th></th><th scope=col>mtry</th><th scope=col>sampe_size</th><th scope=col>OOB_RMSE</th><th scope=col>timestamp</th></tr>\n",
       "\t<tr><th></th><th scope=col>&lt;int&gt;</th><th scope=col>&lt;dbl&gt;</th><th scope=col>&lt;dbl&gt;</th><th scope=col>&lt;fct&gt;</th></tr>\n",
       "</thead>\n",
       "<tbody>\n",
       "\t<tr><th scope=row>1</th><td>5</td><td>1.000</td><td>       NA</td><td>2020-06-25 17:47:33 PDT</td></tr>\n",
       "\t<tr><th scope=row>2</th><td>5</td><td>0.900</td><td>0.2795151</td><td>2020-06-25 17:36:53 PDT</td></tr>\n",
       "\t<tr><th scope=row>3</th><td>5</td><td>0.775</td><td>0.2791090</td><td>2020-06-25 17:26:08 PDT</td></tr>\n",
       "\t<tr><th scope=row>4</th><td>5</td><td>0.750</td><td>0.2791132</td><td>2020-06-25 17:15:32 PDT</td></tr>\n",
       "\t<tr><th scope=row>5</th><td>5</td><td>0.725</td><td>0.2790935</td><td>2020-06-25 17:04:42 PDT</td></tr>\n",
       "</tbody>\n",
       "</table>\n"
      ],
      "text/latex": [
       "A data.frame: 5 × 4\n",
       "\\begin{tabular}{r|llll}\n",
       "  & mtry & sampe\\_size & OOB\\_RMSE & timestamp\\\\\n",
       "  & <int> & <dbl> & <dbl> & <fct>\\\\\n",
       "\\hline\n",
       "\t1 & 5 & 1.000 &        NA & 2020-06-25 17:47:33 PDT\\\\\n",
       "\t2 & 5 & 0.900 & 0.2795151 & 2020-06-25 17:36:53 PDT\\\\\n",
       "\t3 & 5 & 0.775 & 0.2791090 & 2020-06-25 17:26:08 PDT\\\\\n",
       "\t4 & 5 & 0.750 & 0.2791132 & 2020-06-25 17:15:32 PDT\\\\\n",
       "\t5 & 5 & 0.725 & 0.2790935 & 2020-06-25 17:04:42 PDT\\\\\n",
       "\\end{tabular}\n"
      ],
      "text/markdown": [
       "\n",
       "A data.frame: 5 × 4\n",
       "\n",
       "| <!--/--> | mtry &lt;int&gt; | sampe_size &lt;dbl&gt; | OOB_RMSE &lt;dbl&gt; | timestamp &lt;fct&gt; |\n",
       "|---|---|---|---|---|\n",
       "| 1 | 5 | 1.000 |        NA | 2020-06-25 17:47:33 PDT |\n",
       "| 2 | 5 | 0.900 | 0.2795151 | 2020-06-25 17:36:53 PDT |\n",
       "| 3 | 5 | 0.775 | 0.2791090 | 2020-06-25 17:26:08 PDT |\n",
       "| 4 | 5 | 0.750 | 0.2791132 | 2020-06-25 17:15:32 PDT |\n",
       "| 5 | 5 | 0.725 | 0.2790935 | 2020-06-25 17:04:42 PDT |\n",
       "\n"
      ],
      "text/plain": [
       "  mtry sampe_size OOB_RMSE  timestamp              \n",
       "1 5    1.000             NA 2020-06-25 17:47:33 PDT\n",
       "2 5    0.900      0.2795151 2020-06-25 17:36:53 PDT\n",
       "3 5    0.775      0.2791090 2020-06-25 17:26:08 PDT\n",
       "4 5    0.750      0.2791132 2020-06-25 17:15:32 PDT\n",
       "5 5    0.725      0.2790935 2020-06-25 17:04:42 PDT"
      ]
     },
     "metadata": {},
     "output_type": "display_data"
    },
    {
     "data": {
      "text/html": [
       "<table>\n",
       "<caption>A data.frame: 10 × 4</caption>\n",
       "<thead>\n",
       "\t<tr><th></th><th scope=col>mtry</th><th scope=col>sampe_size</th><th scope=col>OOB_RMSE</th><th scope=col>timestamp</th></tr>\n",
       "\t<tr><th></th><th scope=col>&lt;int&gt;</th><th scope=col>&lt;dbl&gt;</th><th scope=col>&lt;dbl&gt;</th><th scope=col>&lt;fct&gt;</th></tr>\n",
       "</thead>\n",
       "<tbody>\n",
       "\t<tr><th scope=row>1</th><td>5</td><td>0.725</td><td>0.2790935</td><td>2020-06-25 17:04:42 PDT</td></tr>\n",
       "\t<tr><th scope=row>2</th><td>5</td><td>0.775</td><td>0.2791090</td><td>2020-06-25 17:26:08 PDT</td></tr>\n",
       "\t<tr><th scope=row>3</th><td>5</td><td>0.750</td><td>0.2791132</td><td>2020-06-25 17:15:32 PDT</td></tr>\n",
       "\t<tr><th scope=row>4</th><td>5</td><td>0.700</td><td>0.2791205</td><td>2020-06-25 15:13:53 PDT</td></tr>\n",
       "\t<tr><th scope=row>5</th><td>5</td><td>0.800</td><td>0.2791387</td><td>2020-06-25 15:23:54 PDT</td></tr>\n",
       "\t<tr><th scope=row>6</th><td>5</td><td>0.632</td><td>0.2791925</td><td>2020-06-25 15:03:28 PDT</td></tr>\n",
       "\t<tr><th scope=row>7</th><td>4</td><td>0.800</td><td>0.2793564</td><td>2020-06-25 14:42:13 PDT</td></tr>\n",
       "\t<tr><th scope=row>8</th><td>4</td><td>0.775</td><td>0.2793706</td><td>2020-06-25 16:37:37 PDT</td></tr>\n",
       "\t<tr><th scope=row>9</th><td>5</td><td>0.550</td><td>0.2793788</td><td>2020-06-25 14:52:44 PDT</td></tr>\n",
       "\t<tr><th scope=row>10</th><td>4</td><td>0.750</td><td>0.2793926</td><td>2020-06-25 16:28:57 PDT</td></tr>\n",
       "</tbody>\n",
       "</table>\n"
      ],
      "text/latex": [
       "A data.frame: 10 × 4\n",
       "\\begin{tabular}{r|llll}\n",
       "  & mtry & sampe\\_size & OOB\\_RMSE & timestamp\\\\\n",
       "  & <int> & <dbl> & <dbl> & <fct>\\\\\n",
       "\\hline\n",
       "\t1 & 5 & 0.725 & 0.2790935 & 2020-06-25 17:04:42 PDT\\\\\n",
       "\t2 & 5 & 0.775 & 0.2791090 & 2020-06-25 17:26:08 PDT\\\\\n",
       "\t3 & 5 & 0.750 & 0.2791132 & 2020-06-25 17:15:32 PDT\\\\\n",
       "\t4 & 5 & 0.700 & 0.2791205 & 2020-06-25 15:13:53 PDT\\\\\n",
       "\t5 & 5 & 0.800 & 0.2791387 & 2020-06-25 15:23:54 PDT\\\\\n",
       "\t6 & 5 & 0.632 & 0.2791925 & 2020-06-25 15:03:28 PDT\\\\\n",
       "\t7 & 4 & 0.800 & 0.2793564 & 2020-06-25 14:42:13 PDT\\\\\n",
       "\t8 & 4 & 0.775 & 0.2793706 & 2020-06-25 16:37:37 PDT\\\\\n",
       "\t9 & 5 & 0.550 & 0.2793788 & 2020-06-25 14:52:44 PDT\\\\\n",
       "\t10 & 4 & 0.750 & 0.2793926 & 2020-06-25 16:28:57 PDT\\\\\n",
       "\\end{tabular}\n"
      ],
      "text/markdown": [
       "\n",
       "A data.frame: 10 × 4\n",
       "\n",
       "| <!--/--> | mtry &lt;int&gt; | sampe_size &lt;dbl&gt; | OOB_RMSE &lt;dbl&gt; | timestamp &lt;fct&gt; |\n",
       "|---|---|---|---|---|\n",
       "| 1 | 5 | 0.725 | 0.2790935 | 2020-06-25 17:04:42 PDT |\n",
       "| 2 | 5 | 0.775 | 0.2791090 | 2020-06-25 17:26:08 PDT |\n",
       "| 3 | 5 | 0.750 | 0.2791132 | 2020-06-25 17:15:32 PDT |\n",
       "| 4 | 5 | 0.700 | 0.2791205 | 2020-06-25 15:13:53 PDT |\n",
       "| 5 | 5 | 0.800 | 0.2791387 | 2020-06-25 15:23:54 PDT |\n",
       "| 6 | 5 | 0.632 | 0.2791925 | 2020-06-25 15:03:28 PDT |\n",
       "| 7 | 4 | 0.800 | 0.2793564 | 2020-06-25 14:42:13 PDT |\n",
       "| 8 | 4 | 0.775 | 0.2793706 | 2020-06-25 16:37:37 PDT |\n",
       "| 9 | 5 | 0.550 | 0.2793788 | 2020-06-25 14:52:44 PDT |\n",
       "| 10 | 4 | 0.750 | 0.2793926 | 2020-06-25 16:28:57 PDT |\n",
       "\n"
      ],
      "text/plain": [
       "   mtry sampe_size OOB_RMSE  timestamp              \n",
       "1  5    0.725      0.2790935 2020-06-25 17:04:42 PDT\n",
       "2  5    0.775      0.2791090 2020-06-25 17:26:08 PDT\n",
       "3  5    0.750      0.2791132 2020-06-25 17:15:32 PDT\n",
       "4  5    0.700      0.2791205 2020-06-25 15:13:53 PDT\n",
       "5  5    0.800      0.2791387 2020-06-25 15:23:54 PDT\n",
       "6  5    0.632      0.2791925 2020-06-25 15:03:28 PDT\n",
       "7  4    0.800      0.2793564 2020-06-25 14:42:13 PDT\n",
       "8  4    0.775      0.2793706 2020-06-25 16:37:37 PDT\n",
       "9  5    0.550      0.2793788 2020-06-25 14:52:44 PDT\n",
       "10 4    0.750      0.2793926 2020-06-25 16:28:57 PDT"
      ]
     },
     "metadata": {},
     "output_type": "display_data"
    }
   ],
   "source": [
    "# load data\n",
    "fname = \"/home/jupyter/local/Domains_202003/data/output/hyper_grid.log\"\n",
    "hyper_grid_comp <- read.csv(file = fname)[,2:5]\n",
    "hyper_grid_comp %>% arrange(desc(timestamp)) %>% head(5)\n",
    "hyper_grid_comp %>% arrange(OOB_RMSE) %>% head(10) "
   ]
  },
  {
   "cell_type": "code",
   "execution_count": 37,
   "metadata": {},
   "outputs": [],
   "source": [
    "s = interp(hyper_grid_comp$mtry,\n",
    "           hyper_grid_comp$sampe_size,\n",
    "           hyper_grid_comp$OOB_RMSE)"
   ]
  },
  {
   "cell_type": "code",
   "execution_count": 15,
   "metadata": {},
   "outputs": [],
   "source": [
    "# fig <- plot_ly(x = s$x, # mtry\n",
    "#                y = s$y, # sample_size\n",
    "#                z = s$z) %>% add_surface()\n",
    "\n",
    "# # fig"
   ]
  },
  {
   "cell_type": "markdown",
   "metadata": {},
   "source": [
    "#### Final RF Run"
   ]
  },
  {
   "cell_type": "code",
   "execution_count": 63,
   "metadata": {},
   "outputs": [
    {
     "data": {
      "text/html": [
       "0.292537597547792"
      ],
      "text/latex": [
       "0.292537597547792"
      ],
      "text/markdown": [
       "0.292537597547792"
      ],
      "text/plain": [
       "[1] 0.2925376"
      ]
     },
     "metadata": {},
     "output_type": "display_data"
    },
    {
     "data": {
      "text/html": [
       "0.279093519214124"
      ],
      "text/latex": [
       "0.279093519214124"
      ],
      "text/markdown": [
       "0.279093519214124"
      ],
      "text/plain": [
       "[1] 0.2790935"
      ]
     },
     "metadata": {},
     "output_type": "display_data"
    }
   ],
   "source": [
    "# FYI: OOB error for first RF model was 0.292537597547792\n",
    "# new model OOB error is 0.279093519214124\n",
    "sqrt(ranger_01$prediction.error)\n",
    "sqrt(ranger_02$prediction.error)"
   ]
  },
  {
   "cell_type": "code",
   "execution_count": 61,
   "metadata": {},
   "outputs": [
    {
     "name": "stdout",
     "output_type": "stream",
     "text": [
      "Growing trees.. Progress: 5%. Estimated remaining time: 9 minutes, 3 seconds.\n",
      "Growing trees.. Progress: 12%. Estimated remaining time: 7 minutes, 26 seconds.\n",
      "Growing trees.. Progress: 19%. Estimated remaining time: 6 minutes, 55 seconds.\n",
      "Growing trees.. Progress: 25%. Estimated remaining time: 6 minutes, 18 seconds.\n",
      "Growing trees.. Progress: 32%. Estimated remaining time: 5 minutes, 39 seconds.\n",
      "Growing trees.. Progress: 38%. Estimated remaining time: 5 minutes, 8 seconds.\n",
      "Growing trees.. Progress: 45%. Estimated remaining time: 4 minutes, 33 seconds.\n",
      "Growing trees.. Progress: 51%. Estimated remaining time: 4 minutes, 2 seconds.\n",
      "Growing trees.. Progress: 58%. Estimated remaining time: 3 minutes, 28 seconds.\n",
      "Growing trees.. Progress: 64%. Estimated remaining time: 2 minutes, 56 seconds.\n",
      "Growing trees.. Progress: 71%. Estimated remaining time: 2 minutes, 22 seconds.\n",
      "Growing trees.. Progress: 78%. Estimated remaining time: 1 minute, 46 seconds.\n",
      "Growing trees.. Progress: 85%. Estimated remaining time: 1 minute, 15 seconds.\n",
      "Growing trees.. Progress: 91%. Estimated remaining time: 44 seconds.\n",
      "Growing trees.. Progress: 97%. Estimated remaining time: 12 seconds.\n",
      "Computing prediction error.. Progress: 51%. Estimated remaining time: 29 seconds.\n",
      "model fitting: 687.915 sec elapsed\n",
      "model saving: 165.264 sec elapsed\n"
     ]
    }
   ],
   "source": [
    "# model fitting: 687.915 sec elapsed (11min28s)\n",
    "# model saving: 165.264 sec elapsed\n",
    "\n",
    "tic(\"model fitting\")\n",
    "\n",
    "ranger_02 <- ranger(\n",
    "    formula         = renewal_status ~ ., \n",
    "    data            = subset(train_df_f, select = -c(renew_M,renew_Y) ), \n",
    "    importance = 'impurity', \n",
    "    num.trees       = 500,\n",
    "    class.weights = c(3,4),\n",
    "    probability = TRUE,\n",
    "    mtry            = 5,\n",
    "    min.node.size   = 10,\n",
    "    replace = FALSE,\n",
    "    sample.fraction = .725,\n",
    "    seed            = 123\n",
    ")\n",
    "\n",
    "toc()\n",
    "\n",
    "tic(\"model saving\")\n",
    "save(ranger_02, file=\"../../data/output/ranger_02\")\n",
    "toc()\n"
   ]
  },
  {
   "cell_type": "code",
   "execution_count": 62,
   "metadata": {},
   "outputs": [
    {
     "name": "stdout",
     "output_type": "stream",
     "text": [
      "Predicting.. Progress: 69%. Estimated remaining time: 13 seconds.\n",
      "Aggregating predictions.. Progress: 73%. Estimated remaining time: 11 seconds.\n",
      "model predict: 106.597 sec elapsed\n",
      "eval saving: 0.597 sec elapsed\n"
     ]
    }
   ],
   "source": [
    "# model predict: 106.597 sec elapsed\n",
    "# eval saving: 0.597 sec elapsed\n",
    "\n",
    "tic(\"model predict\")\n",
    "ranger_predict_02 <- predict(ranger_02, \n",
    "                          data = na.omit(subset(train_df_f, \n",
    "                             select = -c(renew_M,renew_Y) )),\n",
    "                          type=\"response\")$predictions\n",
    "toc()\n",
    "\n",
    "tic(\"eval saving\")\n",
    "ranger_predict_02 <- as.data.frame(ranger_predict_02)$Renewed\n",
    "save(ranger_predict_02, \n",
    "     file=\"../../data/output/ranger_predict_02\")\n",
    "toc()\n"
   ]
  },
  {
   "cell_type": "code",
   "execution_count": 64,
   "metadata": {},
   "outputs": [
    {
     "name": "stdout",
     "output_type": "stream",
     "text": [
      "lift df: 16.069 sec elapsed\n",
      "gains plot: 0.042 sec elapsed\n",
      "auc: 0.028 sec elapsed\n"
     ]
    }
   ],
   "source": [
    "# lift df: 16.069 sec elapsed\n",
    "# gains plot: 0.042 sec elapsed\n",
    "# auc: 0.028 sec elapsed\n",
    "\n",
    "txl_pred_df_4 = data.frame(\"actual\" = \n",
    "                           na.omit(subset(train_df_f, \n",
    "                             select = -c(renew_M,renew_Y) ))$renewal_status,\n",
    "                           \"predicted\" = ranger_predict_02)\n",
    "\n",
    "tic(\"lift df\")\n",
    "lift_df_04 <- chart_lift(pred_df = txl_pred_df_4,\n",
    "                        dep_var = \"actual\",\n",
    "                        pred_var = \"predicted\")\n",
    "\n",
    "toc()\n",
    "\n",
    "saveRDS(lift_df_04, file.path('../../data/',\"lift_df_ranger2\"))\n",
    "\n",
    "tic(\"gains plot\")\n",
    "gains_plot_04 <- plot_gains (lift_df_04) \n",
    "\n",
    "toc()\n",
    "tic(\"auc\")\n",
    "auc_04 <- calc_auc(lift_df_04)\n",
    "toc()"
   ]
  },
  {
   "cell_type": "code",
   "execution_count": 65,
   "metadata": {},
   "outputs": [
    {
     "data": {
      "text/html": [
       "0.915835213479937"
      ],
      "text/latex": [
       "0.915835213479937"
      ],
      "text/markdown": [
       "0.915835213479937"
      ],
      "text/plain": [
       "[1] 0.9158352"
      ]
     },
     "metadata": {},
     "output_type": "display_data"
    }
   ],
   "source": [
    "auc_04"
   ]
  },
  {
   "cell_type": "code",
   "execution_count": 10,
   "metadata": {},
   "outputs": [
    {
     "data": {
      "text/html": [
       "<strong>png:</strong> 2"
      ],
      "text/latex": [
       "\\textbf{png:} 2"
      ],
      "text/markdown": [
       "**png:** 2"
      ],
      "text/plain": [
       "png \n",
       "  2 "
      ]
     },
     "metadata": {},
     "output_type": "display_data"
    }
   ],
   "source": [
    "plot_multigains_02 <- plot_multigains(lift_df_list=list(seg_glm = lift_df_segglm, \n",
    "                                  ben_dtr = lift_df_bendtr,\n",
    "                                  xl_dtr = lift_df_01,\n",
    "                                  xl_dtr_2 = lift_df_02,\n",
    "                                  ranger_1 = lift_df_03,\n",
    "                                  ranger_2 = lift_df_04),\n",
    "                             auc_list = list(seg_glm = calc_auc(lift_df_segglm), \n",
    "                                             ben_dtr= calc_auc(lift_df_bendtr), \n",
    "                                             xl_dtr= calc_auc(lift_df_01), \n",
    "                                             xl_dtr_2= calc_auc(lift_df_02), \n",
    "                                             ranger_1= calc_auc(lift_df_03), \n",
    "                                             ranger_2= calc_auc(lift_df_04)))\n",
    "png(file = \"../../data/output/plot_multigains_02.png\",\n",
    "    width = 500, height = 375)\n",
    "plot(plot_multigains_02)\n",
    "dev.off()"
   ]
  },
  {
   "cell_type": "code",
   "execution_count": 15,
   "metadata": {},
   "outputs": [
    {
     "data": {
      "text/html": [
       "<table>\n",
       "<caption>A data.frame: 20 × 2</caption>\n",
       "<thead>\n",
       "\t<tr><th></th><th scope=col>var</th><th scope=col>imp</th></tr>\n",
       "\t<tr><th></th><th scope=col>&lt;fct&gt;</th><th scope=col>&lt;dbl&gt;</th></tr>\n",
       "</thead>\n",
       "<tbody>\n",
       "\t<tr><th scope=row>14</th><td>gibb_score          </td><td>53983.130</td></tr>\n",
       "\t<tr><th scope=row>12</th><td>day_domains         </td><td>43936.696</td></tr>\n",
       "\t<tr><th scope=row>15</th><td>cluster             </td><td>40805.560</td></tr>\n",
       "\t<tr><th scope=row>16</th><td>pattern_score       </td><td>37339.352</td></tr>\n",
       "\t<tr><th scope=row>11</th><td>sld_length          </td><td>29220.655</td></tr>\n",
       "\t<tr><th scope=row>7</th><td>reg_revenue         </td><td>21075.749</td></tr>\n",
       "\t<tr><th scope=row>13</th><td>log_reg_arpt        </td><td>15908.841</td></tr>\n",
       "\t<tr><th scope=row>9</th><td>reg_arpt_org        </td><td>15074.213</td></tr>\n",
       "\t<tr><th scope=row>8</th><td>reg_arpt            </td><td>14957.752</td></tr>\n",
       "\t<tr><th scope=row>21</th><td>expiry_M            </td><td>11879.661</td></tr>\n",
       "\t<tr><th scope=row>20</th><td>creation_M          </td><td>11833.586</td></tr>\n",
       "\t<tr><th scope=row>17</th><td>pattern_domain_count</td><td>11567.907</td></tr>\n",
       "\t<tr><th scope=row>10</th><td>sld_type            </td><td>10791.177</td></tr>\n",
       "\t<tr><th scope=row>1</th><td>tld                 </td><td>10584.684</td></tr>\n",
       "\t<tr><th scope=row>3</th><td>reseller            </td><td> 5206.509</td></tr>\n",
       "\t<tr><th scope=row>2</th><td>registrar           </td><td> 4875.947</td></tr>\n",
       "\t<tr><th scope=row>18</th><td>creation_Y          </td><td> 2484.281</td></tr>\n",
       "\t<tr><th scope=row>19</th><td>expiry_Y            </td><td> 2277.088</td></tr>\n",
       "\t<tr><th scope=row>6</th><td>reg_period          </td><td> 2172.396</td></tr>\n",
       "\t<tr><th scope=row>4</th><td>reseller_country    </td><td> 1309.257</td></tr>\n",
       "</tbody>\n",
       "</table>\n"
      ],
      "text/latex": [
       "A data.frame: 20 × 2\n",
       "\\begin{tabular}{r|ll}\n",
       "  & var & imp\\\\\n",
       "  & <fct> & <dbl>\\\\\n",
       "\\hline\n",
       "\t14 & gibb\\_score           & 53983.130\\\\\n",
       "\t12 & day\\_domains          & 43936.696\\\\\n",
       "\t15 & cluster              & 40805.560\\\\\n",
       "\t16 & pattern\\_score        & 37339.352\\\\\n",
       "\t11 & sld\\_length           & 29220.655\\\\\n",
       "\t7 & reg\\_revenue          & 21075.749\\\\\n",
       "\t13 & log\\_reg\\_arpt         & 15908.841\\\\\n",
       "\t9 & reg\\_arpt\\_org         & 15074.213\\\\\n",
       "\t8 & reg\\_arpt             & 14957.752\\\\\n",
       "\t21 & expiry\\_M             & 11879.661\\\\\n",
       "\t20 & creation\\_M           & 11833.586\\\\\n",
       "\t17 & pattern\\_domain\\_count & 11567.907\\\\\n",
       "\t10 & sld\\_type             & 10791.177\\\\\n",
       "\t1 & tld                  & 10584.684\\\\\n",
       "\t3 & reseller             &  5206.509\\\\\n",
       "\t2 & registrar            &  4875.947\\\\\n",
       "\t18 & creation\\_Y           &  2484.281\\\\\n",
       "\t19 & expiry\\_Y             &  2277.088\\\\\n",
       "\t6 & reg\\_period           &  2172.396\\\\\n",
       "\t4 & reseller\\_country     &  1309.257\\\\\n",
       "\\end{tabular}\n"
      ],
      "text/markdown": [
       "\n",
       "A data.frame: 20 × 2\n",
       "\n",
       "| <!--/--> | var &lt;fct&gt; | imp &lt;dbl&gt; |\n",
       "|---|---|---|\n",
       "| 14 | gibb_score           | 53983.130 |\n",
       "| 12 | day_domains          | 43936.696 |\n",
       "| 15 | cluster              | 40805.560 |\n",
       "| 16 | pattern_score        | 37339.352 |\n",
       "| 11 | sld_length           | 29220.655 |\n",
       "| 7 | reg_revenue          | 21075.749 |\n",
       "| 13 | log_reg_arpt         | 15908.841 |\n",
       "| 9 | reg_arpt_org         | 15074.213 |\n",
       "| 8 | reg_arpt             | 14957.752 |\n",
       "| 21 | expiry_M             | 11879.661 |\n",
       "| 20 | creation_M           | 11833.586 |\n",
       "| 17 | pattern_domain_count | 11567.907 |\n",
       "| 10 | sld_type             | 10791.177 |\n",
       "| 1 | tld                  | 10584.684 |\n",
       "| 3 | reseller             |  5206.509 |\n",
       "| 2 | registrar            |  4875.947 |\n",
       "| 18 | creation_Y           |  2484.281 |\n",
       "| 19 | expiry_Y             |  2277.088 |\n",
       "| 6 | reg_period           |  2172.396 |\n",
       "| 4 | reseller_country     |  1309.257 |\n",
       "\n"
      ],
      "text/plain": [
       "   var                  imp      \n",
       "14 gibb_score           53983.130\n",
       "12 day_domains          43936.696\n",
       "15 cluster              40805.560\n",
       "16 pattern_score        37339.352\n",
       "11 sld_length           29220.655\n",
       "7  reg_revenue          21075.749\n",
       "13 log_reg_arpt         15908.841\n",
       "9  reg_arpt_org         15074.213\n",
       "8  reg_arpt             14957.752\n",
       "21 expiry_M             11879.661\n",
       "20 creation_M           11833.586\n",
       "17 pattern_domain_count 11567.907\n",
       "10 sld_type             10791.177\n",
       "1  tld                  10584.684\n",
       "3  reseller              5206.509\n",
       "2  registrar             4875.947\n",
       "18 creation_Y            2484.281\n",
       "19 expiry_Y              2277.088\n",
       "6  reg_period            2172.396\n",
       "4  reseller_country      1309.257"
      ]
     },
     "metadata": {},
     "output_type": "display_data"
    }
   ],
   "source": [
    "ranger_varimp_02 <- importance(ranger_02)\n",
    "ranger_varimp_02 <- data.frame('var' = names(ranger_varimp_02),\n",
    "                                 'imp' = unname(ranger_varimp_02))\n",
    "ranger_varimp_02 <- ranger_varimp_02[order(-ranger_varimp_02$imp),]\n",
    "\n",
    "head(ranger_varimp_02,20)"
   ]
  },
  {
   "cell_type": "code",
   "execution_count": 16,
   "metadata": {},
   "outputs": [],
   "source": [
    "write.csv(ranger_varimp_02,'../../data/output/ranger_varimp_02.csv', row.names=FALSE)"
   ]
  },
  {
   "cell_type": "markdown",
   "metadata": {},
   "source": [
    "# APPENDIX"
   ]
  },
  {
   "cell_type": "markdown",
   "metadata": {},
   "source": [
    "## Quick test: renew_M and renew_Y as leaked variables in xltree_01\n"
   ]
  },
  {
   "cell_type": "code",
   "execution_count": 4,
   "metadata": {},
   "outputs": [],
   "source": [
    "system(\"gsutil cp gs://data_input/train /home/jupyter/local/Domains_202003/data/\")\n",
    "train <- readRDS(file.path('../../data/',\"train\"))"
   ]
  },
  {
   "cell_type": "code",
   "execution_count": 5,
   "metadata": {},
   "outputs": [],
   "source": [
    "source('load_prep_data.R')"
   ]
  },
  {
   "cell_type": "code",
   "execution_count": 6,
   "metadata": {},
   "outputs": [
    {
     "data": {
      "text/html": [
       "<style>\n",
       ".list-inline {list-style: none; margin:0; padding: 0}\n",
       ".list-inline>li {display: inline-block}\n",
       ".list-inline>li:not(:last-child)::after {content: \"\\00b7\"; padding: 0 .5ex}\n",
       "</style>\n",
       "<ol class=list-inline><li>'df_prep'</li><li>'test'</li><li>'test_df'</li><li>'test_df_f'</li><li>'train'</li><li>'train_data'</li><li>'train_df'</li><li>'train_df_f'</li></ol>\n"
      ],
      "text/latex": [
       "\\begin{enumerate*}\n",
       "\\item 'df\\_prep'\n",
       "\\item 'test'\n",
       "\\item 'test\\_df'\n",
       "\\item 'test\\_df\\_f'\n",
       "\\item 'train'\n",
       "\\item 'train\\_data'\n",
       "\\item 'train\\_df'\n",
       "\\item 'train\\_df\\_f'\n",
       "\\end{enumerate*}\n"
      ],
      "text/markdown": [
       "1. 'df_prep'\n",
       "2. 'test'\n",
       "3. 'test_df'\n",
       "4. 'test_df_f'\n",
       "5. 'train'\n",
       "6. 'train_data'\n",
       "7. 'train_df'\n",
       "8. 'train_df_f'\n",
       "\n",
       "\n"
      ],
      "text/plain": [
       "[1] \"df_prep\"    \"test\"       \"test_df\"    \"test_df_f\"  \"train\"     \n",
       "[6] \"train_data\" \"train_df\"   \"train_df_f\""
      ]
     },
     "metadata": {},
     "output_type": "display_data"
    }
   ],
   "source": [
    "objects()"
   ]
  },
  {
   "cell_type": "code",
   "execution_count": 7,
   "metadata": {},
   "outputs": [
    {
     "data": {
      "text/html": [
       "<style>\n",
       ".list-inline {list-style: none; margin:0; padding: 0}\n",
       ".list-inline>li {display: inline-block}\n",
       ".list-inline>li:not(:last-child)::after {content: \"\\00b7\"; padding: 0 .5ex}\n",
       "</style>\n",
       "<ol class=list-inline><li>'tld'</li><li>'registrar'</li><li>'reseller'</li><li>'reseller_country'</li><li>'region'</li><li>'reg_period'</li><li>'renewal_status'</li><li>'reg_revenue'</li><li>'reg_arpt'</li><li>'reg_arpt_org'</li><li>'sld_type'</li><li>'sld_length'</li><li>'day_domains'</li><li>'log_reg_arpt'</li><li>'gibb_score'</li><li>'cluster'</li><li>'pattern_score'</li><li>'pattern_domain_count'</li><li>'renew_Y'</li><li>'creation_Y'</li><li>'expiry_Y'</li><li>'renew_M'</li><li>'creation_M'</li><li>'expiry_M'</li></ol>\n"
      ],
      "text/latex": [
       "\\begin{enumerate*}\n",
       "\\item 'tld'\n",
       "\\item 'registrar'\n",
       "\\item 'reseller'\n",
       "\\item 'reseller\\_country'\n",
       "\\item 'region'\n",
       "\\item 'reg\\_period'\n",
       "\\item 'renewal\\_status'\n",
       "\\item 'reg\\_revenue'\n",
       "\\item 'reg\\_arpt'\n",
       "\\item 'reg\\_arpt\\_org'\n",
       "\\item 'sld\\_type'\n",
       "\\item 'sld\\_length'\n",
       "\\item 'day\\_domains'\n",
       "\\item 'log\\_reg\\_arpt'\n",
       "\\item 'gibb\\_score'\n",
       "\\item 'cluster'\n",
       "\\item 'pattern\\_score'\n",
       "\\item 'pattern\\_domain\\_count'\n",
       "\\item 'renew\\_Y'\n",
       "\\item 'creation\\_Y'\n",
       "\\item 'expiry\\_Y'\n",
       "\\item 'renew\\_M'\n",
       "\\item 'creation\\_M'\n",
       "\\item 'expiry\\_M'\n",
       "\\end{enumerate*}\n"
      ],
      "text/markdown": [
       "1. 'tld'\n",
       "2. 'registrar'\n",
       "3. 'reseller'\n",
       "4. 'reseller_country'\n",
       "5. 'region'\n",
       "6. 'reg_period'\n",
       "7. 'renewal_status'\n",
       "8. 'reg_revenue'\n",
       "9. 'reg_arpt'\n",
       "10. 'reg_arpt_org'\n",
       "11. 'sld_type'\n",
       "12. 'sld_length'\n",
       "13. 'day_domains'\n",
       "14. 'log_reg_arpt'\n",
       "15. 'gibb_score'\n",
       "16. 'cluster'\n",
       "17. 'pattern_score'\n",
       "18. 'pattern_domain_count'\n",
       "19. 'renew_Y'\n",
       "20. 'creation_Y'\n",
       "21. 'expiry_Y'\n",
       "22. 'renew_M'\n",
       "23. 'creation_M'\n",
       "24. 'expiry_M'\n",
       "\n",
       "\n"
      ],
      "text/plain": [
       " [1] \"tld\"                  \"registrar\"            \"reseller\"            \n",
       " [4] \"reseller_country\"     \"region\"               \"reg_period\"          \n",
       " [7] \"renewal_status\"       \"reg_revenue\"          \"reg_arpt\"            \n",
       "[10] \"reg_arpt_org\"         \"sld_type\"             \"sld_length\"          \n",
       "[13] \"day_domains\"          \"log_reg_arpt\"         \"gibb_score\"          \n",
       "[16] \"cluster\"              \"pattern_score\"        \"pattern_domain_count\"\n",
       "[19] \"renew_Y\"              \"creation_Y\"           \"expiry_Y\"            \n",
       "[22] \"renew_M\"              \"creation_M\"           \"expiry_M\"            "
      ]
     },
     "metadata": {},
     "output_type": "display_data"
    }
   ],
   "source": [
    "names(train_df_f)"
   ]
  },
  {
   "cell_type": "code",
   "execution_count": 8,
   "metadata": {},
   "outputs": [
    {
     "data": {
      "text/plain": [
       "      tld             registrar           reseller           reseller_country  \n",
       " site   :427336   gmo      :251900   gmo      :251900   Japan        : 251900  \n",
       " online :329558   go daddy :340111   go daddy :340111   United States:1307365  \n",
       " pw     :169044   namecheap:967254   namecheap:967254                          \n",
       " website:157565                                                                \n",
       " space  :135589                                                                \n",
       " fun    : 82048                                                                \n",
       " (Other):258125                                                                \n",
       "       region          reg_period      renewal_status     reg_revenue     \n",
       " Non China:1559265   Min.   :1.00   Not Renewd:1384190   Min.   :-35.000  \n",
       "                     1st Qu.:1.00   Renewed   : 175075   1st Qu.:  0.440  \n",
       "                     Median :1.00                        Median :  0.500  \n",
       "                     Mean   :1.01                        Mean   :  1.123  \n",
       "                     3rd Qu.:1.00                        3rd Qu.:  0.590  \n",
       "                     Max.   :6.00                        Max.   :295.000  \n",
       "                                                                          \n",
       "    reg_arpt        reg_arpt_org           sld_type         sld_length   \n",
       " Min.   : 0.0001   Min.   :-35.0000   hyphen-l :  90270   Min.   : 2.00  \n",
       " 1st Qu.: 0.4400   1st Qu.:  0.4400   hyphen-ln:  33054   1st Qu.: 7.00  \n",
       " Median : 0.5000   Median :  0.5000   l        :1189759   Median : 9.00  \n",
       " Mean   : 0.9829   Mean   :  0.9828   ln       : 225774   Mean   :10.53  \n",
       " 3rd Qu.: 0.5900   3rd Qu.:  0.5900   n        :   6679   3rd Qu.:13.00  \n",
       " Max.   :59.0000   Max.   : 59.0000   idn      :  13729   Max.   :63.00  \n",
       "                                                                         \n",
       "  day_domains      log_reg_arpt       gibb_score         cluster    \n",
       " Min.   :   1.0   Min.   :-9.2103   Min.   :  0.000   Min.   :   1  \n",
       " 1st Qu.:  99.0   1st Qu.:-0.8210   1st Qu.:  1.760   1st Qu.:  17  \n",
       " Median : 233.0   Median :-0.6931   Median :  3.950   Median :  54  \n",
       " Mean   : 480.9   Mean   :-0.8262   Mean   :  4.721   Mean   : 145  \n",
       " 3rd Qu.: 480.0   3rd Qu.:-0.5276   3rd Qu.:  5.860   3rd Qu.: 138  \n",
       " Max.   :5398.0   Max.   : 4.0775   Max.   :100.000   Max.   :4091  \n",
       "                                                                    \n",
       " pattern_score       pattern_domain_count renew_Y       creation_Y   \n",
       " Min.   :0.0000000   Min.   :   1.00      2014:    26   2013:    45  \n",
       " 1st Qu.:0.0000077   1st Qu.:   1.00      2015:    13   2014:   121  \n",
       " Median :0.0000336   Median :   1.00      2016:    55   2015:   510  \n",
       " Mean   :0.0030705   Mean   :  10.13      2017:  3829   2016:  5820  \n",
       " 3rd Qu.:0.0001877   3rd Qu.:   2.00      2018:553624   2017:561429  \n",
       " Max.   :1.0000000   Max.   :1208.00      2019:988287   2018:991340  \n",
       "                                          NA's: 13431                \n",
       " expiry_Y          renew_M         creation_M        expiry_M     \n",
       " 2018: 559042   11     :216423   11     :219200   11     :219200  \n",
       " 2019:1000223   10     :180120   10     :180637   10     :180637  \n",
       "                12     :172102   12     :172562   12     :172562  \n",
       "                09     :151919   09     :153656   09     :153656  \n",
       "                08     :132021   08     :133271   08     :133271  \n",
       "                (Other):693249   05     :115288   05     :115288  \n",
       "                NA's   : 13431   (Other):584651   (Other):584651  "
      ]
     },
     "metadata": {},
     "output_type": "display_data"
    }
   ],
   "source": [
    "summary(train_df_f)"
   ]
  },
  {
   "cell_type": "code",
   "execution_count": 12,
   "metadata": {},
   "outputs": [
    {
     "data": {
      "text/plain": [
       "   renew_date        \n",
       " Min.   :2014-03-22  \n",
       " 1st Qu.:2018-09-22  \n",
       " Median :2019-04-25  \n",
       " Mean   :2019-03-18  \n",
       " 3rd Qu.:2019-10-07  \n",
       " Max.   :2019-12-31  \n",
       " NA's   :13431       "
      ]
     },
     "metadata": {},
     "output_type": "display_data"
    }
   ],
   "source": [
    "summary(subset(train_df, select=\"renew_date\"))"
   ]
  },
  {
   "cell_type": "code",
   "execution_count": 13,
   "metadata": {},
   "outputs": [
    {
     "data": {
      "text/html": [
       "<style>\n",
       ".list-inline {list-style: none; margin:0; padding: 0}\n",
       ".list-inline>li {display: inline-block}\n",
       ".list-inline>li:not(:last-child)::after {content: \"\\00b7\"; padding: 0 .5ex}\n",
       "</style>\n",
       "<ol class=list-inline><li>13431</li><li>38</li></ol>\n"
      ],
      "text/latex": [
       "\\begin{enumerate*}\n",
       "\\item 13431\n",
       "\\item 38\n",
       "\\end{enumerate*}\n"
      ],
      "text/markdown": [
       "1. 13431\n",
       "2. 38\n",
       "\n",
       "\n"
      ],
      "text/plain": [
       "[1] 13431    38"
      ]
     },
     "metadata": {},
     "output_type": "display_data"
    }
   ],
   "source": [
    "train_df_temp <- train_df %>% filter(is.na(renew_date)) \n",
    "dim(train_df_temp)"
   ]
  },
  {
   "cell_type": "code",
   "execution_count": 14,
   "metadata": {},
   "outputs": [
    {
     "data": {
      "text/plain": [
       "\n",
       "Not Renewd    Renewed \n",
       "     13431          0 "
      ]
     },
     "metadata": {},
     "output_type": "display_data"
    }
   ],
   "source": [
    "table(train_df_temp$renewal_status)"
   ]
  },
  {
   "cell_type": "code",
   "execution_count": 15,
   "metadata": {},
   "outputs": [
    {
     "data": {
      "text/plain": [
       "\n",
       "Not Renewd    Renewed \n",
       "   1384190     175075 "
      ]
     },
     "metadata": {},
     "output_type": "display_data"
    }
   ],
   "source": [
    "table(train_df$renewal_status)"
   ]
  },
  {
   "cell_type": "markdown",
   "metadata": {},
   "source": [
    "### YUP! all missing values of renew_M and renew_Y are non-renewals\n",
    "\n",
    "## Other cols?"
   ]
  },
  {
   "cell_type": "code",
   "execution_count": 17,
   "metadata": {},
   "outputs": [],
   "source": [
    "na_count <- train_df_f %>%\n",
    "  select(everything()) %>%  # replace to your needs\n",
    "  summarise_all(funs(sum(is.na(.))))"
   ]
  },
  {
   "cell_type": "code",
   "execution_count": 21,
   "metadata": {},
   "outputs": [
    {
     "data": {
      "text/html": [
       "<table>\n",
       "<caption>A matrix: 24 × 1 of type int</caption>\n",
       "<tbody>\n",
       "\t<tr><th scope=row>tld</th><td>    0</td></tr>\n",
       "\t<tr><th scope=row>registrar</th><td>    0</td></tr>\n",
       "\t<tr><th scope=row>reseller</th><td>    0</td></tr>\n",
       "\t<tr><th scope=row>reseller_country</th><td>    0</td></tr>\n",
       "\t<tr><th scope=row>region</th><td>    0</td></tr>\n",
       "\t<tr><th scope=row>reg_period</th><td>    0</td></tr>\n",
       "\t<tr><th scope=row>renewal_status</th><td>    0</td></tr>\n",
       "\t<tr><th scope=row>reg_revenue</th><td>    0</td></tr>\n",
       "\t<tr><th scope=row>reg_arpt</th><td>    0</td></tr>\n",
       "\t<tr><th scope=row>reg_arpt_org</th><td>    0</td></tr>\n",
       "\t<tr><th scope=row>sld_type</th><td>    0</td></tr>\n",
       "\t<tr><th scope=row>sld_length</th><td>    0</td></tr>\n",
       "\t<tr><th scope=row>day_domains</th><td>    0</td></tr>\n",
       "\t<tr><th scope=row>log_reg_arpt</th><td>    0</td></tr>\n",
       "\t<tr><th scope=row>gibb_score</th><td>    0</td></tr>\n",
       "\t<tr><th scope=row>cluster</th><td>    0</td></tr>\n",
       "\t<tr><th scope=row>pattern_score</th><td>    0</td></tr>\n",
       "\t<tr><th scope=row>pattern_domain_count</th><td>    0</td></tr>\n",
       "\t<tr><th scope=row>renew_Y</th><td>13431</td></tr>\n",
       "\t<tr><th scope=row>creation_Y</th><td>    0</td></tr>\n",
       "\t<tr><th scope=row>expiry_Y</th><td>    0</td></tr>\n",
       "\t<tr><th scope=row>renew_M</th><td>13431</td></tr>\n",
       "\t<tr><th scope=row>creation_M</th><td>    0</td></tr>\n",
       "\t<tr><th scope=row>expiry_M</th><td>    0</td></tr>\n",
       "</tbody>\n",
       "</table>\n"
      ],
      "text/latex": [
       "A matrix: 24 × 1 of type int\n",
       "\\begin{tabular}{r|l}\n",
       "\ttld &     0\\\\\n",
       "\tregistrar &     0\\\\\n",
       "\treseller &     0\\\\\n",
       "\treseller\\_country &     0\\\\\n",
       "\tregion &     0\\\\\n",
       "\treg\\_period &     0\\\\\n",
       "\trenewal\\_status &     0\\\\\n",
       "\treg\\_revenue &     0\\\\\n",
       "\treg\\_arpt &     0\\\\\n",
       "\treg\\_arpt\\_org &     0\\\\\n",
       "\tsld\\_type &     0\\\\\n",
       "\tsld\\_length &     0\\\\\n",
       "\tday\\_domains &     0\\\\\n",
       "\tlog\\_reg\\_arpt &     0\\\\\n",
       "\tgibb\\_score &     0\\\\\n",
       "\tcluster &     0\\\\\n",
       "\tpattern\\_score &     0\\\\\n",
       "\tpattern\\_domain\\_count &     0\\\\\n",
       "\trenew\\_Y & 13431\\\\\n",
       "\tcreation\\_Y &     0\\\\\n",
       "\texpiry\\_Y &     0\\\\\n",
       "\trenew\\_M & 13431\\\\\n",
       "\tcreation\\_M &     0\\\\\n",
       "\texpiry\\_M &     0\\\\\n",
       "\\end{tabular}\n"
      ],
      "text/markdown": [
       "\n",
       "A matrix: 24 × 1 of type int\n",
       "\n",
       "| tld |     0 |\n",
       "| registrar |     0 |\n",
       "| reseller |     0 |\n",
       "| reseller_country |     0 |\n",
       "| region |     0 |\n",
       "| reg_period |     0 |\n",
       "| renewal_status |     0 |\n",
       "| reg_revenue |     0 |\n",
       "| reg_arpt |     0 |\n",
       "| reg_arpt_org |     0 |\n",
       "| sld_type |     0 |\n",
       "| sld_length |     0 |\n",
       "| day_domains |     0 |\n",
       "| log_reg_arpt |     0 |\n",
       "| gibb_score |     0 |\n",
       "| cluster |     0 |\n",
       "| pattern_score |     0 |\n",
       "| pattern_domain_count |     0 |\n",
       "| renew_Y | 13431 |\n",
       "| creation_Y |     0 |\n",
       "| expiry_Y |     0 |\n",
       "| renew_M | 13431 |\n",
       "| creation_M |     0 |\n",
       "| expiry_M |     0 |\n",
       "\n"
      ],
      "text/plain": [
       "                     [,1] \n",
       "tld                      0\n",
       "registrar                0\n",
       "reseller                 0\n",
       "reseller_country         0\n",
       "region                   0\n",
       "reg_period               0\n",
       "renewal_status           0\n",
       "reg_revenue              0\n",
       "reg_arpt                 0\n",
       "reg_arpt_org             0\n",
       "sld_type                 0\n",
       "sld_length               0\n",
       "day_domains              0\n",
       "log_reg_arpt             0\n",
       "gibb_score               0\n",
       "cluster                  0\n",
       "pattern_score            0\n",
       "pattern_domain_count     0\n",
       "renew_Y              13431\n",
       "creation_Y               0\n",
       "expiry_Y                 0\n",
       "renew_M              13431\n",
       "creation_M               0\n",
       "expiry_M                 0"
      ]
     },
     "metadata": {},
     "output_type": "display_data"
    }
   ],
   "source": [
    "t(na_count)"
   ]
  },
  {
   "cell_type": "markdown",
   "metadata": {},
   "source": [
    "# Rerun xltree_01 & xltree_02 w/o these missing variables"
   ]
  },
  {
   "cell_type": "code",
   "execution_count": null,
   "metadata": {},
   "outputs": [],
   "source": [
    "# NO LEAKED VARS renew_M & renew_Y\n",
    "\n",
    "# d05 (prob) -- lift 3.249514\n",
    "# model fitting: 17.636 sec elapsed\n",
    "# model saving: 24.347 sec elapsed\n",
    "# model predict: 0.305 sec elapsed\n",
    "# eval saving: 0.215 sec elapsed\n",
    "\n",
    "# d10 (prob) -- lift 3.356824, AUC 0.742071845326622\n",
    "# model fitting: 183.013 sec elapsed # 3m\n",
    "# model saving: 25.175 sec elapsed\n",
    "# model predict: 2.981 sec elapsed\n",
    "# eval saving: 0.082 sec elapsed\n",
    "# auc: 0.006 sec elapsed\n",
    "\n",
    "# d20 (prob) -- lift 2.699920, AUC 0.708132936734927\n",
    "# model fitting: 3492.942 sec elapsed # 1h\n",
    "# model saving: 28.202 sec elapsed\n",
    "# model predict: 8.388 sec elapsed\n",
    "# eval saving: 0.092 sec elapsed\n",
    "# auc: 0.006 sec elapsed\n",
    "# 0.708132936734927\n",
    "\n",
    "\n",
    "# W LEAKED VARS renew_M & renew_Y\n",
    "\n",
    "# d05 (prob) -- lift 3.430271 AUC 0.724842695343782\n",
    "# model fitting: 21.398 sec elapsed\n",
    "# model saving: 26.326 sec elapsed\n",
    "# model predict: 1.009 sec elapsed\n",
    "# eval saving: 0.04 sec elapsed\n",
    "\n",
    "\n",
    "# d15 (prob) -- lift 5.354765 AUC 0.830652099302139\n",
    "# model fitting: 1121.154 sec elapsed\n",
    "# model saving: 27.391 sec elapsed\n",
    "# model predict: 3.493 sec elapsed\n",
    "# eval saving: 0.07 sec elapsed\n",
    "# auc: 0.006 sec elapsed"
   ]
  },
  {
   "cell_type": "code",
   "execution_count": 6,
   "metadata": {},
   "outputs": [],
   "source": [
    "W = ifelse(train_df$renewal_status==\"Renewed\", 4, 3)"
   ]
  },
  {
   "cell_type": "code",
   "execution_count": 14,
   "metadata": {},
   "outputs": [
    {
     "name": "stdout",
     "output_type": "stream",
     "text": [
      "model fitting: 1121.154 sec elapsed\n",
      "model saving: 27.391 sec elapsed\n",
      "model predict: 3.493 sec elapsed\n",
      "eval saving: 0.07 sec elapsed\n",
      "auc: 0.006 sec elapsed\n"
     ]
    },
    {
     "data": {
      "text/html": [
       "0.830652099302139"
      ],
      "text/latex": [
       "0.830652099302139"
      ],
      "text/markdown": [
       "0.830652099302139"
      ],
      "text/plain": [
       "[1] 0.8306521"
      ]
     },
     "metadata": {},
     "output_type": "display_data"
    },
    {
     "data": {
      "text/html": [
       "<table>\n",
       "<caption>A data.frame: 10 × 4</caption>\n",
       "<thead>\n",
       "\t<tr><th scope=col>P</th><th scope=col>actu_renwd2</th><th scope=col>gain</th><th scope=col>lift</th></tr>\n",
       "\t<tr><th scope=col>&lt;dbl&gt;</th><th scope=col>&lt;int&gt;</th><th scope=col>&lt;dbl&gt;</th><th scope=col>&lt;dbl&gt;</th></tr>\n",
       "</thead>\n",
       "<tbody>\n",
       "\t<tr><td>0.1</td><td>23403</td><td>0.5354765</td><td>5.354765</td></tr>\n",
       "\t<tr><td>0.2</td><td>31815</td><td>0.7279487</td><td>3.639744</td></tr>\n",
       "\t<tr><td>0.3</td><td>36132</td><td>0.8267246</td><td>2.755749</td></tr>\n",
       "\t<tr><td>0.4</td><td>38751</td><td>0.8866491</td><td>2.216623</td></tr>\n",
       "\t<tr><td>0.5</td><td>40641</td><td>0.9298936</td><td>1.859787</td></tr>\n",
       "\t<tr><td>0.6</td><td>41641</td><td>0.9527743</td><td>1.587957</td></tr>\n",
       "\t<tr><td>0.7</td><td>42428</td><td>0.9707814</td><td>1.386831</td></tr>\n",
       "\t<tr><td>0.8</td><td>43046</td><td>0.9849216</td><td>1.231152</td></tr>\n",
       "\t<tr><td>0.9</td><td>43327</td><td>0.9913511</td><td>1.101501</td></tr>\n",
       "\t<tr><td>1.0</td><td>43705</td><td>1.0000000</td><td>1.000000</td></tr>\n",
       "</tbody>\n",
       "</table>\n"
      ],
      "text/latex": [
       "A data.frame: 10 × 4\n",
       "\\begin{tabular}{llll}\n",
       " P & actu\\_renwd2 & gain & lift\\\\\n",
       " <dbl> & <int> & <dbl> & <dbl>\\\\\n",
       "\\hline\n",
       "\t 0.1 & 23403 & 0.5354765 & 5.354765\\\\\n",
       "\t 0.2 & 31815 & 0.7279487 & 3.639744\\\\\n",
       "\t 0.3 & 36132 & 0.8267246 & 2.755749\\\\\n",
       "\t 0.4 & 38751 & 0.8866491 & 2.216623\\\\\n",
       "\t 0.5 & 40641 & 0.9298936 & 1.859787\\\\\n",
       "\t 0.6 & 41641 & 0.9527743 & 1.587957\\\\\n",
       "\t 0.7 & 42428 & 0.9707814 & 1.386831\\\\\n",
       "\t 0.8 & 43046 & 0.9849216 & 1.231152\\\\\n",
       "\t 0.9 & 43327 & 0.9913511 & 1.101501\\\\\n",
       "\t 1.0 & 43705 & 1.0000000 & 1.000000\\\\\n",
       "\\end{tabular}\n"
      ],
      "text/markdown": [
       "\n",
       "A data.frame: 10 × 4\n",
       "\n",
       "| P &lt;dbl&gt; | actu_renwd2 &lt;int&gt; | gain &lt;dbl&gt; | lift &lt;dbl&gt; |\n",
       "|---|---|---|---|\n",
       "| 0.1 | 23403 | 0.5354765 | 5.354765 |\n",
       "| 0.2 | 31815 | 0.7279487 | 3.639744 |\n",
       "| 0.3 | 36132 | 0.8267246 | 2.755749 |\n",
       "| 0.4 | 38751 | 0.8866491 | 2.216623 |\n",
       "| 0.5 | 40641 | 0.9298936 | 1.859787 |\n",
       "| 0.6 | 41641 | 0.9527743 | 1.587957 |\n",
       "| 0.7 | 42428 | 0.9707814 | 1.386831 |\n",
       "| 0.8 | 43046 | 0.9849216 | 1.231152 |\n",
       "| 0.9 | 43327 | 0.9913511 | 1.101501 |\n",
       "| 1.0 | 43705 | 1.0000000 | 1.000000 |\n",
       "\n"
      ],
      "text/plain": [
       "   P   actu_renwd2 gain      lift    \n",
       "1  0.1 23403       0.5354765 5.354765\n",
       "2  0.2 31815       0.7279487 3.639744\n",
       "3  0.3 36132       0.8267246 2.755749\n",
       "4  0.4 38751       0.8866491 2.216623\n",
       "5  0.5 40641       0.9298936 1.859787\n",
       "6  0.6 41641       0.9527743 1.587957\n",
       "7  0.7 42428       0.9707814 1.386831\n",
       "8  0.8 43046       0.9849216 1.231152\n",
       "9  0.9 43327       0.9913511 1.101501\n",
       "10 1.0 43705       1.0000000 1.000000"
      ]
     },
     "metadata": {},
     "output_type": "display_data"
    }
   ],
   "source": [
    "tic(\"model fitting\")\n",
    "xltree_01_2 <- ctree(renewal_status ~ . ,\n",
    "                   data = train_df_f, \n",
    "                                 weights=W, maxdepth=15)\n",
    "toc()\n",
    "\n",
    "tic(\"model saving\")\n",
    "save(xltree_01_2, file=\"../../data/output/xltree_01_d15_nlv\")\n",
    "toc()\n",
    "\n",
    "tic(\"model predict\")\n",
    "txl_predict_01_2 <- predict(xltree_01_2, \n",
    "                          newdata = na.omit(test_df_f),\n",
    "                          type=\"prob\")\n",
    "txl_predict_01_2 <- as.data.frame(txl_predict_01_2)$Renewed\n",
    "toc()\n",
    "\n",
    "tic(\"eval saving\")\n",
    "save(txl_predict_01_2, file=\"../../data/output/txl_predict_01_d15_nlv\")\n",
    "toc()\n",
    "\n",
    "txl_pred_df_1_2 = data.frame(\"actual\" = na.omit(test_df_f)$renewal_status,\n",
    "                           \"predicted\" = txl_predict_01_2)\n",
    "\n",
    "tic(\"lift df\")\n",
    "lift_df_01_2 <- chart_lift(pred_df = txl_pred_df_1_2,\n",
    "                        dep_var = \"actual\",\n",
    "                        pred_var = \"predicted\")\n",
    "\n",
    "tic(\"auc\")\n",
    "auc_01_2 <- calc_auc(lift_df_01_2)\n",
    "toc()\n",
    "\n",
    "\n",
    "saveRDS(lift_df_01_2, file.path('../../data/output/',\"lift_df_xldtr_d15_nlv\"))\n",
    "\n",
    "auc_01_2\n",
    "lift_df_01_2"
   ]
  },
  {
   "cell_type": "markdown",
   "metadata": {},
   "source": [
    "# sans- leaked candidates RF rerun\n",
    "i.e. now just 11 predictors"
   ]
  },
  {
   "cell_type": "code",
   "execution_count": 7,
   "metadata": {},
   "outputs": [
    {
     "data": {
      "text/html": [
       "<table>\n",
       "<caption>A data.table: 6 × 12</caption>\n",
       "<thead>\n",
       "\t<tr><th scope=col>tld</th><th scope=col>registrar</th><th scope=col>reseller</th><th scope=col>reseller_country</th><th scope=col>region</th><th scope=col>reg_period</th><th scope=col>renewal_status</th><th scope=col>sld_type</th><th scope=col>sld_length</th><th scope=col>day_domains</th><th scope=col>gibb_score</th><th scope=col>pattern_domain_count</th></tr>\n",
       "\t<tr><th scope=col>&lt;fct&gt;</th><th scope=col>&lt;fct&gt;</th><th scope=col>&lt;fct&gt;</th><th scope=col>&lt;fct&gt;</th><th scope=col>&lt;fct&gt;</th><th scope=col>&lt;int&gt;</th><th scope=col>&lt;fct&gt;</th><th scope=col>&lt;fct&gt;</th><th scope=col>&lt;int&gt;</th><th scope=col>&lt;int&gt;</th><th scope=col>&lt;dbl&gt;</th><th scope=col>&lt;int&gt;</th></tr>\n",
       "</thead>\n",
       "<tbody>\n",
       "\t<tr><td>fun</td><td>gmo</td><td>gmo</td><td>Japan</td><td>Non China</td><td>1</td><td>Not Renewd</td><td>l</td><td>7</td><td>32</td><td>7.41</td><td>1</td></tr>\n",
       "\t<tr><td>fun</td><td>gmo</td><td>gmo</td><td>Japan</td><td>Non China</td><td>1</td><td>Renewed   </td><td>l</td><td>4</td><td>32</td><td>5.29</td><td>1</td></tr>\n",
       "\t<tr><td>fun</td><td>gmo</td><td>gmo</td><td>Japan</td><td>Non China</td><td>1</td><td>Not Renewd</td><td>l</td><td>8</td><td>32</td><td>9.94</td><td>1</td></tr>\n",
       "\t<tr><td>fun</td><td>gmo</td><td>gmo</td><td>Japan</td><td>Non China</td><td>1</td><td>Not Renewd</td><td>l</td><td>6</td><td>32</td><td>9.38</td><td>1</td></tr>\n",
       "\t<tr><td>fun</td><td>gmo</td><td>gmo</td><td>Japan</td><td>Non China</td><td>1</td><td>Not Renewd</td><td>l</td><td>6</td><td>32</td><td>1.99</td><td>1</td></tr>\n",
       "\t<tr><td>fun</td><td>gmo</td><td>gmo</td><td>Japan</td><td>Non China</td><td>1</td><td>Renewed   </td><td>l</td><td>3</td><td>32</td><td>0.31</td><td>1</td></tr>\n",
       "</tbody>\n",
       "</table>\n"
      ],
      "text/latex": [
       "A data.table: 6 × 12\n",
       "\\begin{tabular}{llllllllllll}\n",
       " tld & registrar & reseller & reseller\\_country & region & reg\\_period & renewal\\_status & sld\\_type & sld\\_length & day\\_domains & gibb\\_score & pattern\\_domain\\_count\\\\\n",
       " <fct> & <fct> & <fct> & <fct> & <fct> & <int> & <fct> & <fct> & <int> & <int> & <dbl> & <int>\\\\\n",
       "\\hline\n",
       "\t fun & gmo & gmo & Japan & Non China & 1 & Not Renewd & l & 7 & 32 & 7.41 & 1\\\\\n",
       "\t fun & gmo & gmo & Japan & Non China & 1 & Renewed    & l & 4 & 32 & 5.29 & 1\\\\\n",
       "\t fun & gmo & gmo & Japan & Non China & 1 & Not Renewd & l & 8 & 32 & 9.94 & 1\\\\\n",
       "\t fun & gmo & gmo & Japan & Non China & 1 & Not Renewd & l & 6 & 32 & 9.38 & 1\\\\\n",
       "\t fun & gmo & gmo & Japan & Non China & 1 & Not Renewd & l & 6 & 32 & 1.99 & 1\\\\\n",
       "\t fun & gmo & gmo & Japan & Non China & 1 & Renewed    & l & 3 & 32 & 0.31 & 1\\\\\n",
       "\\end{tabular}\n"
      ],
      "text/markdown": [
       "\n",
       "A data.table: 6 × 12\n",
       "\n",
       "| tld &lt;fct&gt; | registrar &lt;fct&gt; | reseller &lt;fct&gt; | reseller_country &lt;fct&gt; | region &lt;fct&gt; | reg_period &lt;int&gt; | renewal_status &lt;fct&gt; | sld_type &lt;fct&gt; | sld_length &lt;int&gt; | day_domains &lt;int&gt; | gibb_score &lt;dbl&gt; | pattern_domain_count &lt;int&gt; |\n",
       "|---|---|---|---|---|---|---|---|---|---|---|---|\n",
       "| fun | gmo | gmo | Japan | Non China | 1 | Not Renewd | l | 7 | 32 | 7.41 | 1 |\n",
       "| fun | gmo | gmo | Japan | Non China | 1 | Renewed    | l | 4 | 32 | 5.29 | 1 |\n",
       "| fun | gmo | gmo | Japan | Non China | 1 | Not Renewd | l | 8 | 32 | 9.94 | 1 |\n",
       "| fun | gmo | gmo | Japan | Non China | 1 | Not Renewd | l | 6 | 32 | 9.38 | 1 |\n",
       "| fun | gmo | gmo | Japan | Non China | 1 | Not Renewd | l | 6 | 32 | 1.99 | 1 |\n",
       "| fun | gmo | gmo | Japan | Non China | 1 | Renewed    | l | 3 | 32 | 0.31 | 1 |\n",
       "\n"
      ],
      "text/plain": [
       "  tld registrar reseller reseller_country region    reg_period renewal_status\n",
       "1 fun gmo       gmo      Japan            Non China 1          Not Renewd    \n",
       "2 fun gmo       gmo      Japan            Non China 1          Renewed       \n",
       "3 fun gmo       gmo      Japan            Non China 1          Not Renewd    \n",
       "4 fun gmo       gmo      Japan            Non China 1          Not Renewd    \n",
       "5 fun gmo       gmo      Japan            Non China 1          Not Renewd    \n",
       "6 fun gmo       gmo      Japan            Non China 1          Renewed       \n",
       "  sld_type sld_length day_domains gibb_score pattern_domain_count\n",
       "1 l        7          32          7.41       1                   \n",
       "2 l        4          32          5.29       1                   \n",
       "3 l        8          32          9.94       1                   \n",
       "4 l        6          32          9.38       1                   \n",
       "5 l        6          32          1.99       1                   \n",
       "6 l        3          32          0.31       1                   "
      ]
     },
     "metadata": {},
     "output_type": "display_data"
    }
   ],
   "source": [
    "train_df_f_sub <- subset(train_df_f, \n",
    "       select = -c(renew_M, renew_Y, reg_revenue, reg_arpt_org, reg_arpt, log_reg_arpt, pattern_score, cluster, \n",
    "                   expiry_M, creation_M, expiry_Y , creation_Y) )\n",
    "head(train_df_f_sub)\n",
    "\n",
    "# SegGLM variables:\n",
    "# factor(tld), factor(reseller), reg_period, sld_type, sld_length,  day_domains,  gibb_score , pattern_domain_count. (log_reg_arpt)                \n",
    "# Removed: log_reg_arpt\n",
    "# Added: region, registrar, reseller_country"
   ]
  },
  {
   "cell_type": "code",
   "execution_count": 16,
   "metadata": {},
   "outputs": [
    {
     "ename": "ERROR",
     "evalue": "Error in eval(expr, envir, enclos): object 'train_df_f_sub' not found\n",
     "output_type": "error",
     "traceback": [
      "Error in eval(expr, envir, enclos): object 'train_df_f_sub' not found\nTraceback:\n"
     ]
    }
   ],
   "source": [
    "names(train_df_f_sub)"
   ]
  },
  {
   "cell_type": "code",
   "execution_count": 8,
   "metadata": {},
   "outputs": [
    {
     "name": "stdout",
     "output_type": "stream",
     "text": [
      "Growing trees.. Progress: 4%. Estimated remaining time: 11 minutes, 13 seconds.\n",
      "Growing trees.. Progress: 9%. Estimated remaining time: 9 minutes, 57 seconds.\n",
      "Growing trees.. Progress: 15%. Estimated remaining time: 9 minutes, 6 seconds.\n",
      "Growing trees.. Progress: 20%. Estimated remaining time: 8 minutes, 34 seconds.\n",
      "Growing trees.. Progress: 25%. Estimated remaining time: 8 minutes, 7 seconds.\n",
      "Growing trees.. Progress: 30%. Estimated remaining time: 7 minutes, 34 seconds.\n",
      "Growing trees.. Progress: 35%. Estimated remaining time: 7 minutes, 1 seconds.\n",
      "Growing trees.. Progress: 40%. Estimated remaining time: 6 minutes, 27 seconds.\n",
      "Growing trees.. Progress: 45%. Estimated remaining time: 5 minutes, 56 seconds.\n",
      "Growing trees.. Progress: 50%. Estimated remaining time: 5 minutes, 21 seconds.\n",
      "Growing trees.. Progress: 54%. Estimated remaining time: 4 minutes, 54 seconds.\n",
      "Growing trees.. Progress: 59%. Estimated remaining time: 4 minutes, 25 seconds.\n",
      "Growing trees.. Progress: 64%. Estimated remaining time: 3 minutes, 54 seconds.\n",
      "Growing trees.. Progress: 69%. Estimated remaining time: 3 minutes, 21 seconds.\n",
      "Growing trees.. Progress: 73%. Estimated remaining time: 2 minutes, 52 seconds.\n",
      "Growing trees.. Progress: 78%. Estimated remaining time: 2 minutes, 23 seconds.\n",
      "Growing trees.. Progress: 83%. Estimated remaining time: 1 minute, 52 seconds.\n",
      "Growing trees.. Progress: 88%. Estimated remaining time: 1 minute, 20 seconds.\n",
      "Growing trees.. Progress: 92%. Estimated remaining time: 49 seconds.\n",
      "Growing trees.. Progress: 97%. Estimated remaining time: 22 seconds.\n",
      "Computing prediction error.. Progress: 53%. Estimated remaining time: 27 seconds.\n",
      "model fitting: 895.627 sec elapsed\n",
      "model saving: 145.049 sec elapsed\n"
     ]
    }
   ],
   "source": [
    "# model fitting: 895.627 sec elapsed (15m)\n",
    "# model saving: 145.049 sec elapsed\n",
    "\n",
    "tic(\"model fitting\")\n",
    "\n",
    "ranger_03 <- ranger(\n",
    "    formula         = renewal_status ~ ., \n",
    "    data            = train_df_f_sub, \n",
    "    importance = 'impurity', \n",
    "    num.trees       = 500,\n",
    "    class.weights = c(3,4),\n",
    "    probability = TRUE,\n",
    "    mtry            = 5,\n",
    "    min.node.size   = 10,\n",
    "    replace = FALSE,\n",
    "    sample.fraction = .725,\n",
    "    seed            = 123\n",
    ")\n",
    "\n",
    "toc()\n",
    "\n",
    "tic(\"model saving\")\n",
    "save(ranger_03, file=\"../../data/output/ranger_03\")\n",
    "toc()\n"
   ]
  },
  {
   "cell_type": "code",
   "execution_count": 9,
   "metadata": {},
   "outputs": [
    {
     "name": "stdout",
     "output_type": "stream",
     "text": [
      "Predicting.. Progress: 73%. Estimated remaining time: 11 seconds.\n",
      "Aggregating predictions.. Progress: 54%. Estimated remaining time: 26 seconds.\n",
      "model predict: 117.485 sec elapsed\n",
      "eval saving: 0.585 sec elapsed\n"
     ]
    }
   ],
   "source": [
    "# model predict: 117.485 sec elapsed\n",
    "# eval saving: 0.585 sec elapsed\n",
    "\n",
    "tic(\"model predict\")\n",
    "ranger_predict_03 <- predict(ranger_03, \n",
    "                          data = na.omit(train_df_f_sub),\n",
    "                          type=\"response\")$predictions\n",
    "toc()\n",
    "\n",
    "tic(\"eval saving\")\n",
    "\n",
    "ranger_predict_03 <- as.data.frame(ranger_predict_03)$Renewed\n",
    "\n",
    "save(ranger_predict_03, \n",
    "     file=\"../../data/output/ranger_predict_03\")\n",
    "toc()\n"
   ]
  },
  {
   "cell_type": "code",
   "execution_count": 12,
   "metadata": {},
   "outputs": [
    {
     "name": "stdout",
     "output_type": "stream",
     "text": [
      "lift df: 14.546 sec elapsed\n",
      "gains plot: 0.057 sec elapsed\n",
      "auc: 0.035 sec elapsed\n"
     ]
    }
   ],
   "source": [
    "# lift df: 14.546 sec elapsed\n",
    "# gains plot: 0.057 sec elapsed\n",
    "# auc: 0.035 sec elapsed\n",
    "\n",
    "txl_pred_df_5 = data.frame(\"actual\" = \n",
    "                           na.omit(train_df_f_sub)$renewal_status,\n",
    "                           \"predicted\" = ranger_predict_03)\n",
    "\n",
    "tic(\"lift df\")\n",
    "lift_df_05 <- chart_lift(pred_df = txl_pred_df_5,\n",
    "                        dep_var = \"actual\",\n",
    "                        pred_var = \"predicted\")\n",
    "\n",
    "toc()\n",
    "\n",
    "saveRDS(lift_df_05, file.path('../../data/',\"lift_df_ranger3\"))\n",
    "\n",
    "tic(\"gains plot\")\n",
    "gains_plot_05 <- plot_gains (lift_df_05) \n",
    "\n",
    "toc()\n",
    "tic(\"auc\")\n",
    "auc_05 <- calc_auc(lift_df_05)\n",
    "toc()"
   ]
  },
  {
   "cell_type": "code",
   "execution_count": 18,
   "metadata": {},
   "outputs": [
    {
     "ename": "ERROR",
     "evalue": "Error in eval(expr, envir, enclos): object 'lift_df_05' not found\n",
     "output_type": "error",
     "traceback": [
      "Error in eval(expr, envir, enclos): object 'lift_df_05' not found\nTraceback:\n"
     ]
    }
   ],
   "source": [
    "lift_df_05"
   ]
  },
  {
   "cell_type": "code",
   "execution_count": 13,
   "metadata": {},
   "outputs": [
    {
     "data": {
      "text/html": [
       "0.9045891760674"
      ],
      "text/latex": [
       "0.9045891760674"
      ],
      "text/markdown": [
       "0.9045891760674"
      ],
      "text/plain": [
       "[1] 0.9045892"
      ]
     },
     "metadata": {},
     "output_type": "display_data"
    }
   ],
   "source": [
    "auc_05"
   ]
  },
  {
   "cell_type": "code",
   "execution_count": 21,
   "metadata": {},
   "outputs": [
    {
     "data": {
      "text/html": [
       "<strong>png:</strong> 2"
      ],
      "text/latex": [
       "\\textbf{png:} 2"
      ],
      "text/markdown": [
       "**png:** 2"
      ],
      "text/plain": [
       "png \n",
       "  2 "
      ]
     },
     "metadata": {},
     "output_type": "display_data"
    }
   ],
   "source": [
    "plot_multigains_03 <- plot_multigains(lift_df_list=list(seg_glm = lift_df_segglm, \n",
    "                                  ben_dtr = lift_df_bendtr,\n",
    "                                  xl_dtr = lift_df_01,\n",
    "                                  xl_dtr_2 = lift_df_02,\n",
    "                                  ranger_1 = lift_df_03,\n",
    "#                                   ranger_2 = lift_df_04,\n",
    "                                  ranger_3 = lift_df_05),\n",
    "                             auc_list = list(seg_glm = calc_auc(lift_df_segglm), \n",
    "                                             ben_dtr= calc_auc(lift_df_bendtr), \n",
    "                                             xl_dtr= calc_auc(lift_df_01), \n",
    "                                             xl_dtr_2= calc_auc(lift_df_02), \n",
    "                                             ranger_1= calc_auc(lift_df_03), \n",
    "#                                              ranger_2= calc_auc(lift_df_04), \n",
    "                                             ranger_3= calc_auc(lift_df_05)))\n",
    "png(file = \"../../data/output/plot_multigains_03.png\",\n",
    "    width = 500, height = 375)\n",
    "plot(plot_multigains_03)\n",
    "dev.off()"
   ]
  },
  {
   "cell_type": "code",
   "execution_count": 22,
   "metadata": {},
   "outputs": [
    {
     "data": {
      "text/html": [
       "<table>\n",
       "<caption>A data.frame: 11 × 2</caption>\n",
       "<thead>\n",
       "\t<tr><th></th><th scope=col>var</th><th scope=col>imp</th></tr>\n",
       "\t<tr><th></th><th scope=col>&lt;fct&gt;</th><th scope=col>&lt;dbl&gt;</th></tr>\n",
       "</thead>\n",
       "<tbody>\n",
       "\t<tr><th scope=row>9</th><td>day_domains         </td><td>92600.278</td></tr>\n",
       "\t<tr><th scope=row>10</th><td>gibb_score          </td><td>86059.144</td></tr>\n",
       "\t<tr><th scope=row>8</th><td>sld_length          </td><td>28108.386</td></tr>\n",
       "\t<tr><th scope=row>1</th><td>tld                 </td><td>25682.021</td></tr>\n",
       "\t<tr><th scope=row>11</th><td>pattern_domain_count</td><td>15233.250</td></tr>\n",
       "\t<tr><th scope=row>7</th><td>sld_type            </td><td>12202.175</td></tr>\n",
       "\t<tr><th scope=row>6</th><td>reg_period          </td><td>10153.585</td></tr>\n",
       "\t<tr><th scope=row>2</th><td>registrar           </td><td> 8545.673</td></tr>\n",
       "\t<tr><th scope=row>3</th><td>reseller            </td><td> 8536.806</td></tr>\n",
       "\t<tr><th scope=row>4</th><td>reseller_country    </td><td> 1413.630</td></tr>\n",
       "\t<tr><th scope=row>5</th><td>region              </td><td>    0.000</td></tr>\n",
       "</tbody>\n",
       "</table>\n"
      ],
      "text/latex": [
       "A data.frame: 11 × 2\n",
       "\\begin{tabular}{r|ll}\n",
       "  & var & imp\\\\\n",
       "  & <fct> & <dbl>\\\\\n",
       "\\hline\n",
       "\t9 & day\\_domains          & 92600.278\\\\\n",
       "\t10 & gibb\\_score           & 86059.144\\\\\n",
       "\t8 & sld\\_length           & 28108.386\\\\\n",
       "\t1 & tld                  & 25682.021\\\\\n",
       "\t11 & pattern\\_domain\\_count & 15233.250\\\\\n",
       "\t7 & sld\\_type             & 12202.175\\\\\n",
       "\t6 & reg\\_period           & 10153.585\\\\\n",
       "\t2 & registrar            &  8545.673\\\\\n",
       "\t3 & reseller             &  8536.806\\\\\n",
       "\t4 & reseller\\_country     &  1413.630\\\\\n",
       "\t5 & region               &     0.000\\\\\n",
       "\\end{tabular}\n"
      ],
      "text/markdown": [
       "\n",
       "A data.frame: 11 × 2\n",
       "\n",
       "| <!--/--> | var &lt;fct&gt; | imp &lt;dbl&gt; |\n",
       "|---|---|---|\n",
       "| 9 | day_domains          | 92600.278 |\n",
       "| 10 | gibb_score           | 86059.144 |\n",
       "| 8 | sld_length           | 28108.386 |\n",
       "| 1 | tld                  | 25682.021 |\n",
       "| 11 | pattern_domain_count | 15233.250 |\n",
       "| 7 | sld_type             | 12202.175 |\n",
       "| 6 | reg_period           | 10153.585 |\n",
       "| 2 | registrar            |  8545.673 |\n",
       "| 3 | reseller             |  8536.806 |\n",
       "| 4 | reseller_country     |  1413.630 |\n",
       "| 5 | region               |     0.000 |\n",
       "\n"
      ],
      "text/plain": [
       "   var                  imp      \n",
       "9  day_domains          92600.278\n",
       "10 gibb_score           86059.144\n",
       "8  sld_length           28108.386\n",
       "1  tld                  25682.021\n",
       "11 pattern_domain_count 15233.250\n",
       "7  sld_type             12202.175\n",
       "6  reg_period           10153.585\n",
       "2  registrar             8545.673\n",
       "3  reseller              8536.806\n",
       "4  reseller_country      1413.630\n",
       "5  region                   0.000"
      ]
     },
     "metadata": {},
     "output_type": "display_data"
    }
   ],
   "source": [
    "ranger_varimp_03 <- importance(ranger_03)\n",
    "ranger_varimp_03 <- data.frame('var' = names(ranger_varimp_03),\n",
    "                                 'imp' = unname(ranger_varimp_03))\n",
    "ranger_varimp_03 <- ranger_varimp_03[order(-ranger_varimp_03$imp),]\n",
    "head(ranger_varimp_03,20)"
   ]
  },
  {
   "cell_type": "code",
   "execution_count": 23,
   "metadata": {},
   "outputs": [],
   "source": [
    "write.csv(ranger_varimp_03,'../../data/output/ranger_varimp_03.csv', row.names=FALSE)"
   ]
  },
  {
   "cell_type": "code",
   "execution_count": 1,
   "metadata": {},
   "outputs": [
    {
     "ename": "ERROR",
     "evalue": "Error in eval(expr, envir, enclos): object 'plot_multigains_03' not found\n",
     "output_type": "error",
     "traceback": [
      "Error in eval(expr, envir, enclos): object 'plot_multigains_03' not found\nTraceback:\n"
     ]
    }
   ],
   "source": [
    "plot_multigains_03"
   ]
  },
  {
   "cell_type": "code",
   "execution_count": 11,
   "metadata": {},
   "outputs": [
    {
     "data": {
      "text/html": [
       "<style>\n",
       ".list-inline {list-style: none; margin:0; padding: 0}\n",
       ".list-inline>li {display: inline-block}\n",
       ".list-inline>li:not(:last-child)::after {content: \"\\00b7\"; padding: 0 .5ex}\n",
       "</style>\n",
       "<ol class=list-inline><li>'file_list'</li><li>'lift_df_bendtr'</li><li>'lift_df_ranger3'</li><li>'lift_df_segglm'</li><li>'load_cloud_mem'</li><li>'RDS_list'</li></ol>\n"
      ],
      "text/latex": [
       "\\begin{enumerate*}\n",
       "\\item 'file\\_list'\n",
       "\\item 'lift\\_df\\_bendtr'\n",
       "\\item 'lift\\_df\\_ranger3'\n",
       "\\item 'lift\\_df\\_segglm'\n",
       "\\item 'load\\_cloud\\_mem'\n",
       "\\item 'RDS\\_list'\n",
       "\\end{enumerate*}\n"
      ],
      "text/markdown": [
       "1. 'file_list'\n",
       "2. 'lift_df_bendtr'\n",
       "3. 'lift_df_ranger3'\n",
       "4. 'lift_df_segglm'\n",
       "5. 'load_cloud_mem'\n",
       "6. 'RDS_list'\n",
       "\n",
       "\n"
      ],
      "text/plain": [
       "[1] \"file_list\"       \"lift_df_bendtr\"  \"lift_df_ranger3\" \"lift_df_segglm\" \n",
       "[5] \"load_cloud_mem\"  \"RDS_list\"       "
      ]
     },
     "metadata": {},
     "output_type": "display_data"
    }
   ],
   "source": [
    "ls()"
   ]
  },
  {
   "cell_type": "code",
   "execution_count": 15,
   "metadata": {},
   "outputs": [
    {
     "data": {
      "text/html": [
       "<strong>png:</strong> 2"
      ],
      "text/latex": [
       "\\textbf{png:} 2"
      ],
      "text/markdown": [
       "**png:** 2"
      ],
      "text/plain": [
       "png \n",
       "  2 "
      ]
     },
     "metadata": {},
     "output_type": "display_data"
    }
   ],
   "source": [
    "plot_multigains_03_summ <- plot_multigains(\n",
    "    lift_df_list=list(\n",
    "        seg_glm = lift_df_segglm, \n",
    "        ben_dtr = lift_df_bendtr,\n",
    "        rf_500tr = lift_df_ranger3),\n",
    "    auc_list = list(\n",
    "        seg_glm = calc_auc(lift_df_segglm), \n",
    "        ben_dtr= calc_auc(lift_df_bendtr), \n",
    "        rf_500tr= calc_auc(lift_df_ranger3)))\n",
    "png(file = \"../../data/output/plot_multigains_03_summ.png\",\n",
    "    width = 500, height = 375)\n",
    "plot(plot_multigains_03_summ)\n",
    "dev.off()"
   ]
  },
  {
   "cell_type": "code",
   "execution_count": 20,
   "metadata": {},
   "outputs": [
    {
     "data": {
      "text/html": [
       "<table>\n",
       "<caption>A data.frame: 10 × 4</caption>\n",
       "<thead>\n",
       "\t<tr><th scope=col>P</th><th scope=col>actu_renwd2</th><th scope=col>gain</th><th scope=col>lift</th></tr>\n",
       "\t<tr><th scope=col>&lt;dbl&gt;</th><th scope=col>&lt;int&gt;</th><th scope=col>&lt;dbl&gt;</th><th scope=col>&lt;dbl&gt;</th></tr>\n",
       "</thead>\n",
       "<tbody>\n",
       "\t<tr><td>0.1</td><td>14576</td><td>0.3305215</td><td>3.305215</td></tr>\n",
       "\t<tr><td>0.2</td><td>23027</td><td>0.5221542</td><td>2.610771</td></tr>\n",
       "\t<tr><td>0.3</td><td>29601</td><td>0.6712245</td><td>2.237415</td></tr>\n",
       "\t<tr><td>0.4</td><td>32925</td><td>0.7465986</td><td>1.866497</td></tr>\n",
       "\t<tr><td>0.5</td><td>35893</td><td>0.8139002</td><td>1.627800</td></tr>\n",
       "\t<tr><td>0.6</td><td>38582</td><td>0.8748753</td><td>1.458125</td></tr>\n",
       "\t<tr><td>0.7</td><td>40827</td><td>0.9257823</td><td>1.322546</td></tr>\n",
       "\t<tr><td>0.8</td><td>42622</td><td>0.9664853</td><td>1.208107</td></tr>\n",
       "\t<tr><td>0.9</td><td>43729</td><td>0.9915873</td><td>1.101764</td></tr>\n",
       "\t<tr><td>1.0</td><td>44100</td><td>1.0000000</td><td>1.000000</td></tr>\n",
       "</tbody>\n",
       "</table>\n"
      ],
      "text/latex": [
       "A data.frame: 10 × 4\n",
       "\\begin{tabular}{llll}\n",
       " P & actu\\_renwd2 & gain & lift\\\\\n",
       " <dbl> & <int> & <dbl> & <dbl>\\\\\n",
       "\\hline\n",
       "\t 0.1 & 14576 & 0.3305215 & 3.305215\\\\\n",
       "\t 0.2 & 23027 & 0.5221542 & 2.610771\\\\\n",
       "\t 0.3 & 29601 & 0.6712245 & 2.237415\\\\\n",
       "\t 0.4 & 32925 & 0.7465986 & 1.866497\\\\\n",
       "\t 0.5 & 35893 & 0.8139002 & 1.627800\\\\\n",
       "\t 0.6 & 38582 & 0.8748753 & 1.458125\\\\\n",
       "\t 0.7 & 40827 & 0.9257823 & 1.322546\\\\\n",
       "\t 0.8 & 42622 & 0.9664853 & 1.208107\\\\\n",
       "\t 0.9 & 43729 & 0.9915873 & 1.101764\\\\\n",
       "\t 1.0 & 44100 & 1.0000000 & 1.000000\\\\\n",
       "\\end{tabular}\n"
      ],
      "text/markdown": [
       "\n",
       "A data.frame: 10 × 4\n",
       "\n",
       "| P &lt;dbl&gt; | actu_renwd2 &lt;int&gt; | gain &lt;dbl&gt; | lift &lt;dbl&gt; |\n",
       "|---|---|---|---|\n",
       "| 0.1 | 14576 | 0.3305215 | 3.305215 |\n",
       "| 0.2 | 23027 | 0.5221542 | 2.610771 |\n",
       "| 0.3 | 29601 | 0.6712245 | 2.237415 |\n",
       "| 0.4 | 32925 | 0.7465986 | 1.866497 |\n",
       "| 0.5 | 35893 | 0.8139002 | 1.627800 |\n",
       "| 0.6 | 38582 | 0.8748753 | 1.458125 |\n",
       "| 0.7 | 40827 | 0.9257823 | 1.322546 |\n",
       "| 0.8 | 42622 | 0.9664853 | 1.208107 |\n",
       "| 0.9 | 43729 | 0.9915873 | 1.101764 |\n",
       "| 1.0 | 44100 | 1.0000000 | 1.000000 |\n",
       "\n"
      ],
      "text/plain": [
       "   P   actu_renwd2 gain      lift    \n",
       "1  0.1 14576       0.3305215 3.305215\n",
       "2  0.2 23027       0.5221542 2.610771\n",
       "3  0.3 29601       0.6712245 2.237415\n",
       "4  0.4 32925       0.7465986 1.866497\n",
       "5  0.5 35893       0.8139002 1.627800\n",
       "6  0.6 38582       0.8748753 1.458125\n",
       "7  0.7 40827       0.9257823 1.322546\n",
       "8  0.8 42622       0.9664853 1.208107\n",
       "9  0.9 43729       0.9915873 1.101764\n",
       "10 1.0 44100       1.0000000 1.000000"
      ]
     },
     "metadata": {},
     "output_type": "display_data"
    }
   ],
   "source": [
    "lift_df_segglm"
   ]
  },
  {
   "cell_type": "code",
   "execution_count": null,
   "metadata": {},
   "outputs": [],
   "source": []
  }
 ],
 "metadata": {
  "environment": {
   "name": "r-cpu.3-6.m48",
   "type": "gcloud",
   "uri": "gcr.io/deeplearning-platform-release/r-cpu.3-6:m48"
  },
  "kernelspec": {
   "display_name": "R",
   "language": "R",
   "name": "ir"
  },
  "language_info": {
   "codemirror_mode": "r",
   "file_extension": ".r",
   "mimetype": "text/x-r-source",
   "name": "R",
   "pygments_lexer": "r",
   "version": "3.6.3"
  }
 },
 "nbformat": 4,
 "nbformat_minor": 4
}
