{
 "cells": [
  {
   "cell_type": "markdown",
   "metadata": {},
   "source": [
    "# Retrain RF on new data"
   ]
  },
  {
   "cell_type": "code",
   "execution_count": 7,
   "metadata": {},
   "outputs": [],
   "source": [
    "# install.packages(\"stringdist\")"
   ]
  },
  {
   "cell_type": "code",
   "execution_count": 1,
   "metadata": {},
   "outputs": [
    {
     "name": "stderr",
     "output_type": "stream",
     "text": [
      "\n",
      "Attaching package: ‘dplyr’\n",
      "\n",
      "\n",
      "The following objects are masked from ‘package:stats’:\n",
      "\n",
      "    filter, lag\n",
      "\n",
      "\n",
      "The following objects are masked from ‘package:base’:\n",
      "\n",
      "    intersect, setdiff, setequal, union\n",
      "\n",
      "\n",
      "\n",
      "Attaching package: ‘data.table’\n",
      "\n",
      "\n",
      "The following objects are masked from ‘package:dplyr’:\n",
      "\n",
      "    between, first, last\n",
      "\n",
      "\n",
      "Loading required package: grid\n",
      "\n",
      "Loading required package: libcoin\n",
      "\n",
      "Loading required package: mvtnorm\n",
      "\n",
      "Loading required package: lattice\n",
      "\n",
      "Loading required package: ggplot2\n",
      "\n",
      "randomForest 4.6-14\n",
      "\n",
      "Type rfNews() to see new features/changes/bug fixes.\n",
      "\n",
      "\n",
      "Attaching package: ‘randomForest’\n",
      "\n",
      "\n",
      "The following object is masked from ‘package:ggplot2’:\n",
      "\n",
      "    margin\n",
      "\n",
      "\n",
      "The following object is masked from ‘package:dplyr’:\n",
      "\n",
      "    combine\n",
      "\n",
      "\n",
      "\n",
      "Attaching package: ‘ranger’\n",
      "\n",
      "\n",
      "The following object is masked from ‘package:randomForest’:\n",
      "\n",
      "    importance\n",
      "\n",
      "\n",
      "\n",
      "Attaching package: ‘plotly’\n",
      "\n",
      "\n",
      "The following object is masked from ‘package:ggplot2’:\n",
      "\n",
      "    last_plot\n",
      "\n",
      "\n",
      "The following object is masked from ‘package:stats’:\n",
      "\n",
      "    filter\n",
      "\n",
      "\n",
      "The following object is masked from ‘package:graphics’:\n",
      "\n",
      "    layout\n",
      "\n",
      "\n",
      "Loading required package: RJSONIO\n",
      "\n"
     ]
    },
    {
     "data": {
      "text/html": [
       "'/home/jupyter/local/Domains_202003/scripts/phaseII_gcloudaccess'"
      ],
      "text/latex": [
       "'/home/jupyter/local/Domains\\_202003/scripts/phaseII\\_gcloudaccess'"
      ],
      "text/markdown": [
       "'/home/jupyter/local/Domains_202003/scripts/phaseII_gcloudaccess'"
      ],
      "text/plain": [
       "[1] \"/home/jupyter/local/Domains_202003/scripts/phaseII_gcloudaccess\""
      ]
     },
     "metadata": {},
     "output_type": "display_data"
    }
   ],
   "source": [
    "library(dplyr)\n",
    "library(data.table)\n",
    "library(partykit)\n",
    "library(tictoc)\n",
    "library(caret)\n",
    "library(e1071)\n",
    "library(randomForest)\n",
    "library(ranger)\n",
    "\n",
    "#for 3d plotting\n",
    "library(akima)\n",
    "library(plotly)\n",
    "\n",
    "# for prep data\n",
    "library(rPython)\n",
    "library(stringr)\n",
    "library(pbapply)\n",
    "library(stringdist)\n",
    "library(data.table)\n",
    "\n",
    "getwd()"
   ]
  },
  {
   "cell_type": "code",
   "execution_count": 2,
   "metadata": {},
   "outputs": [],
   "source": [
    "\n",
    "source('../orig/functions.R')\n",
    "\n",
    "source('../orig/functions_models.R')\n",
    "\n",
    "source('functions_eval.R')\n"
   ]
  },
  {
   "cell_type": "markdown",
   "metadata": {},
   "source": [
    "# Load data"
   ]
  },
  {
   "cell_type": "code",
   "execution_count": 3,
   "metadata": {},
   "outputs": [],
   "source": [
    "system(\"gsutil cp gs://data_outputt/output/expiry_train_prepped_2 /home/jupyter/local/Domains_202003/data/expiry_train_prepped_2\")\n",
    "expiry_train_prepped_2 <- readRDS(\"/home/jupyter/local/Domains_202003/data/expiry_train_prepped_2\")\n",
    "\n",
    "system(\"gsutil cp gs://data_outputt/output/expiry_test_prepped_2 /home/jupyter/local/Domains_202003/data/expiry_test_prepped_2\")\n",
    "expiry_test_prepped_2 <- readRDS(\"/home/jupyter/local/Domains_202003/data/expiry_test_prepped_2\")\n",
    "\n",
    "\n",
    "expiry_train_df <- rbindlist(expiry_train_prepped_2, fill=TRUE)\n",
    "expiry_test_df <- rbindlist(expiry_test_prepped_2, fill=TRUE)"
   ]
  },
  {
   "cell_type": "code",
   "execution_count": 5,
   "metadata": {},
   "outputs": [
    {
     "data": {
      "text/html": [
       "<style>\n",
       ".list-inline {list-style: none; margin:0; padding: 0}\n",
       ".list-inline>li {display: inline-block}\n",
       ".list-inline>li:not(:last-child)::after {content: \"\\00b7\"; padding: 0 .5ex}\n",
       "</style>\n",
       "<ol class=list-inline><li>1394366</li><li>39</li></ol>\n"
      ],
      "text/latex": [
       "\\begin{enumerate*}\n",
       "\\item 1394366\n",
       "\\item 39\n",
       "\\end{enumerate*}\n"
      ],
      "text/markdown": [
       "1. 1394366\n",
       "2. 39\n",
       "\n",
       "\n"
      ],
      "text/plain": [
       "[1] 1394366      39"
      ]
     },
     "metadata": {},
     "output_type": "display_data"
    },
    {
     "data": {
      "text/html": [
       "<style>\n",
       ".list-inline {list-style: none; margin:0; padding: 0}\n",
       ".list-inline>li {display: inline-block}\n",
       ".list-inline>li:not(:last-child)::after {content: \"\\00b7\"; padding: 0 .5ex}\n",
       "</style>\n",
       "<ol class=list-inline><li>348591</li><li>39</li></ol>\n"
      ],
      "text/latex": [
       "\\begin{enumerate*}\n",
       "\\item 348591\n",
       "\\item 39\n",
       "\\end{enumerate*}\n"
      ],
      "text/markdown": [
       "1. 348591\n",
       "2. 39\n",
       "\n",
       "\n"
      ],
      "text/plain": [
       "[1] 348591     39"
      ]
     },
     "metadata": {},
     "output_type": "display_data"
    }
   ],
   "source": [
    "dim(expiry_train_df)\n",
    "dim(expiry_test_df)"
   ]
  },
  {
   "cell_type": "markdown",
   "metadata": {},
   "source": [
    "# Retrain Ranger_03"
   ]
  },
  {
   "cell_type": "markdown",
   "metadata": {},
   "source": [
    "## per the same definitions as in dtree_xl.ipynb, but added reg_arpt as a predictor"
   ]
  },
  {
   "cell_type": "code",
   "execution_count": 11,
   "metadata": {},
   "outputs": [
    {
     "data": {
      "text/html": [
       "<style>\n",
       ".list-inline {list-style: none; margin:0; padding: 0}\n",
       ".list-inline>li {display: inline-block}\n",
       ".list-inline>li:not(:last-child)::after {content: \"\\00b7\"; padding: 0 .5ex}\n",
       "</style>\n",
       "<ol class=list-inline><li>'renewal_type'</li><li>'renewed_count'</li><li>'expiry_date'</li><li>'domain_id'</li><li>'domain'</li><li>'creation_date'</li><li>'status'</li><li>'tld'</li><li>'registrar'</li><li>'reseller'</li><li>'reseller_country'</li><li>'region'</li><li>'reg_period'</li><li>'registrant_country'</li><li>'renewal_status'</li><li>'renew_mbg'</li><li>'renew_type'</li><li>'autorenew_type'</li><li>'renew_date'</li><li>'renew_registrar'</li><li>'renew_reseller'</li><li>'reg_revenue'</li><li>'reg_arpt'</li><li>'renew_period'</li><li>'renew_domain_revenue'</li><li>'renew_arpt'</li><li>'reg_arpt_org'</li><li>'tld_registrar_index'</li><li>'sld'</li><li>'sld_type'</li><li>'sld_length'</li><li>'sld_type2'</li><li>'day_domains'</li><li>'log_reg_arpt'</li><li>'gibb_score'</li><li>'cluster'</li><li>'pattern'</li><li>'pattern_score'</li><li>'pattern_domain_count'</li></ol>\n"
      ],
      "text/latex": [
       "\\begin{enumerate*}\n",
       "\\item 'renewal\\_type'\n",
       "\\item 'renewed\\_count'\n",
       "\\item 'expiry\\_date'\n",
       "\\item 'domain\\_id'\n",
       "\\item 'domain'\n",
       "\\item 'creation\\_date'\n",
       "\\item 'status'\n",
       "\\item 'tld'\n",
       "\\item 'registrar'\n",
       "\\item 'reseller'\n",
       "\\item 'reseller\\_country'\n",
       "\\item 'region'\n",
       "\\item 'reg\\_period'\n",
       "\\item 'registrant\\_country'\n",
       "\\item 'renewal\\_status'\n",
       "\\item 'renew\\_mbg'\n",
       "\\item 'renew\\_type'\n",
       "\\item 'autorenew\\_type'\n",
       "\\item 'renew\\_date'\n",
       "\\item 'renew\\_registrar'\n",
       "\\item 'renew\\_reseller'\n",
       "\\item 'reg\\_revenue'\n",
       "\\item 'reg\\_arpt'\n",
       "\\item 'renew\\_period'\n",
       "\\item 'renew\\_domain\\_revenue'\n",
       "\\item 'renew\\_arpt'\n",
       "\\item 'reg\\_arpt\\_org'\n",
       "\\item 'tld\\_registrar\\_index'\n",
       "\\item 'sld'\n",
       "\\item 'sld\\_type'\n",
       "\\item 'sld\\_length'\n",
       "\\item 'sld\\_type2'\n",
       "\\item 'day\\_domains'\n",
       "\\item 'log\\_reg\\_arpt'\n",
       "\\item 'gibb\\_score'\n",
       "\\item 'cluster'\n",
       "\\item 'pattern'\n",
       "\\item 'pattern\\_score'\n",
       "\\item 'pattern\\_domain\\_count'\n",
       "\\end{enumerate*}\n"
      ],
      "text/markdown": [
       "1. 'renewal_type'\n",
       "2. 'renewed_count'\n",
       "3. 'expiry_date'\n",
       "4. 'domain_id'\n",
       "5. 'domain'\n",
       "6. 'creation_date'\n",
       "7. 'status'\n",
       "8. 'tld'\n",
       "9. 'registrar'\n",
       "10. 'reseller'\n",
       "11. 'reseller_country'\n",
       "12. 'region'\n",
       "13. 'reg_period'\n",
       "14. 'registrant_country'\n",
       "15. 'renewal_status'\n",
       "16. 'renew_mbg'\n",
       "17. 'renew_type'\n",
       "18. 'autorenew_type'\n",
       "19. 'renew_date'\n",
       "20. 'renew_registrar'\n",
       "21. 'renew_reseller'\n",
       "22. 'reg_revenue'\n",
       "23. 'reg_arpt'\n",
       "24. 'renew_period'\n",
       "25. 'renew_domain_revenue'\n",
       "26. 'renew_arpt'\n",
       "27. 'reg_arpt_org'\n",
       "28. 'tld_registrar_index'\n",
       "29. 'sld'\n",
       "30. 'sld_type'\n",
       "31. 'sld_length'\n",
       "32. 'sld_type2'\n",
       "33. 'day_domains'\n",
       "34. 'log_reg_arpt'\n",
       "35. 'gibb_score'\n",
       "36. 'cluster'\n",
       "37. 'pattern'\n",
       "38. 'pattern_score'\n",
       "39. 'pattern_domain_count'\n",
       "\n",
       "\n"
      ],
      "text/plain": [
       " [1] \"renewal_type\"         \"renewed_count\"        \"expiry_date\"         \n",
       " [4] \"domain_id\"            \"domain\"               \"creation_date\"       \n",
       " [7] \"status\"               \"tld\"                  \"registrar\"           \n",
       "[10] \"reseller\"             \"reseller_country\"     \"region\"              \n",
       "[13] \"reg_period\"           \"registrant_country\"   \"renewal_status\"      \n",
       "[16] \"renew_mbg\"            \"renew_type\"           \"autorenew_type\"      \n",
       "[19] \"renew_date\"           \"renew_registrar\"      \"renew_reseller\"      \n",
       "[22] \"reg_revenue\"          \"reg_arpt\"             \"renew_period\"        \n",
       "[25] \"renew_domain_revenue\" \"renew_arpt\"           \"reg_arpt_org\"        \n",
       "[28] \"tld_registrar_index\"  \"sld\"                  \"sld_type\"            \n",
       "[31] \"sld_length\"           \"sld_type2\"            \"day_domains\"         \n",
       "[34] \"log_reg_arpt\"         \"gibb_score\"           \"cluster\"             \n",
       "[37] \"pattern\"              \"pattern_score\"        \"pattern_domain_count\""
      ]
     },
     "metadata": {},
     "output_type": "display_data"
    }
   ],
   "source": [
    "names(expiry_train_df)"
   ]
  },
  {
   "cell_type": "code",
   "execution_count": 14,
   "metadata": {},
   "outputs": [
    {
     "data": {
      "text/html": [
       "<table>\n",
       "<caption>A matrix: 39 × 1 of type int</caption>\n",
       "<tbody>\n",
       "\t<tr><th scope=row>renewal_type</th><td>      0</td></tr>\n",
       "\t<tr><th scope=row>renewed_count</th><td>      0</td></tr>\n",
       "\t<tr><th scope=row>expiry_date</th><td>      0</td></tr>\n",
       "\t<tr><th scope=row>domain_id</th><td>      0</td></tr>\n",
       "\t<tr><th scope=row>domain</th><td>      0</td></tr>\n",
       "\t<tr><th scope=row>creation_date</th><td>      0</td></tr>\n",
       "\t<tr><th scope=row>status</th><td>      0</td></tr>\n",
       "\t<tr><th scope=row>tld</th><td>      0</td></tr>\n",
       "\t<tr><th scope=row>registrar</th><td>      0</td></tr>\n",
       "\t<tr><th scope=row>reseller</th><td>      0</td></tr>\n",
       "\t<tr><th scope=row>reseller_country</th><td>      0</td></tr>\n",
       "\t<tr><th scope=row>region</th><td>      0</td></tr>\n",
       "\t<tr><th scope=row>reg_period</th><td>      0</td></tr>\n",
       "\t<tr><th scope=row>registrant_country</th><td>1393474</td></tr>\n",
       "\t<tr><th scope=row>renewal_status</th><td>      0</td></tr>\n",
       "\t<tr><th scope=row>renew_mbg</th><td>      7</td></tr>\n",
       "\t<tr><th scope=row>renew_type</th><td>  36978</td></tr>\n",
       "\t<tr><th scope=row>autorenew_type</th><td> 394962</td></tr>\n",
       "\t<tr><th scope=row>renew_date</th><td>  37004</td></tr>\n",
       "\t<tr><th scope=row>renew_registrar</th><td>      5</td></tr>\n",
       "\t<tr><th scope=row>renew_reseller</th><td>      5</td></tr>\n",
       "\t<tr><th scope=row>reg_revenue</th><td>      0</td></tr>\n",
       "\t<tr><th scope=row>reg_arpt</th><td>      0</td></tr>\n",
       "\t<tr><th scope=row>renew_period</th><td>  37004</td></tr>\n",
       "\t<tr><th scope=row>renew_domain_revenue</th><td>   4879</td></tr>\n",
       "\t<tr><th scope=row>renew_arpt</th><td>  37008</td></tr>\n",
       "\t<tr><th scope=row>reg_arpt_org</th><td>      1</td></tr>\n",
       "\t<tr><th scope=row>tld_registrar_index</th><td>      0</td></tr>\n",
       "\t<tr><th scope=row>sld</th><td>      0</td></tr>\n",
       "\t<tr><th scope=row>sld_type</th><td>      0</td></tr>\n",
       "\t<tr><th scope=row>sld_length</th><td>      0</td></tr>\n",
       "\t<tr><th scope=row>sld_type2</th><td>      0</td></tr>\n",
       "\t<tr><th scope=row>day_domains</th><td>      0</td></tr>\n",
       "\t<tr><th scope=row>log_reg_arpt</th><td>      0</td></tr>\n",
       "\t<tr><th scope=row>gibb_score</th><td>      0</td></tr>\n",
       "\t<tr><th scope=row>cluster</th><td>      0</td></tr>\n",
       "\t<tr><th scope=row>pattern</th><td>      0</td></tr>\n",
       "\t<tr><th scope=row>pattern_score</th><td>      0</td></tr>\n",
       "\t<tr><th scope=row>pattern_domain_count</th><td>      0</td></tr>\n",
       "</tbody>\n",
       "</table>\n"
      ],
      "text/latex": [
       "A matrix: 39 × 1 of type int\n",
       "\\begin{tabular}{r|l}\n",
       "\trenewal\\_type &       0\\\\\n",
       "\trenewed\\_count &       0\\\\\n",
       "\texpiry\\_date &       0\\\\\n",
       "\tdomain\\_id &       0\\\\\n",
       "\tdomain &       0\\\\\n",
       "\tcreation\\_date &       0\\\\\n",
       "\tstatus &       0\\\\\n",
       "\ttld &       0\\\\\n",
       "\tregistrar &       0\\\\\n",
       "\treseller &       0\\\\\n",
       "\treseller\\_country &       0\\\\\n",
       "\tregion &       0\\\\\n",
       "\treg\\_period &       0\\\\\n",
       "\tregistrant\\_country & 1393474\\\\\n",
       "\trenewal\\_status &       0\\\\\n",
       "\trenew\\_mbg &       7\\\\\n",
       "\trenew\\_type &   36978\\\\\n",
       "\tautorenew\\_type &  394962\\\\\n",
       "\trenew\\_date &   37004\\\\\n",
       "\trenew\\_registrar &       5\\\\\n",
       "\trenew\\_reseller &       5\\\\\n",
       "\treg\\_revenue &       0\\\\\n",
       "\treg\\_arpt &       0\\\\\n",
       "\trenew\\_period &   37004\\\\\n",
       "\trenew\\_domain\\_revenue &    4879\\\\\n",
       "\trenew\\_arpt &   37008\\\\\n",
       "\treg\\_arpt\\_org &       1\\\\\n",
       "\ttld\\_registrar\\_index &       0\\\\\n",
       "\tsld &       0\\\\\n",
       "\tsld\\_type &       0\\\\\n",
       "\tsld\\_length &       0\\\\\n",
       "\tsld\\_type2 &       0\\\\\n",
       "\tday\\_domains &       0\\\\\n",
       "\tlog\\_reg\\_arpt &       0\\\\\n",
       "\tgibb\\_score &       0\\\\\n",
       "\tcluster &       0\\\\\n",
       "\tpattern &       0\\\\\n",
       "\tpattern\\_score &       0\\\\\n",
       "\tpattern\\_domain\\_count &       0\\\\\n",
       "\\end{tabular}\n"
      ],
      "text/markdown": [
       "\n",
       "A matrix: 39 × 1 of type int\n",
       "\n",
       "| renewal_type |       0 |\n",
       "| renewed_count |       0 |\n",
       "| expiry_date |       0 |\n",
       "| domain_id |       0 |\n",
       "| domain |       0 |\n",
       "| creation_date |       0 |\n",
       "| status |       0 |\n",
       "| tld |       0 |\n",
       "| registrar |       0 |\n",
       "| reseller |       0 |\n",
       "| reseller_country |       0 |\n",
       "| region |       0 |\n",
       "| reg_period |       0 |\n",
       "| registrant_country | 1393474 |\n",
       "| renewal_status |       0 |\n",
       "| renew_mbg |       7 |\n",
       "| renew_type |   36978 |\n",
       "| autorenew_type |  394962 |\n",
       "| renew_date |   37004 |\n",
       "| renew_registrar |       5 |\n",
       "| renew_reseller |       5 |\n",
       "| reg_revenue |       0 |\n",
       "| reg_arpt |       0 |\n",
       "| renew_period |   37004 |\n",
       "| renew_domain_revenue |    4879 |\n",
       "| renew_arpt |   37008 |\n",
       "| reg_arpt_org |       1 |\n",
       "| tld_registrar_index |       0 |\n",
       "| sld |       0 |\n",
       "| sld_type |       0 |\n",
       "| sld_length |       0 |\n",
       "| sld_type2 |       0 |\n",
       "| day_domains |       0 |\n",
       "| log_reg_arpt |       0 |\n",
       "| gibb_score |       0 |\n",
       "| cluster |       0 |\n",
       "| pattern |       0 |\n",
       "| pattern_score |       0 |\n",
       "| pattern_domain_count |       0 |\n",
       "\n"
      ],
      "text/plain": [
       "                     [,1]   \n",
       "renewal_type               0\n",
       "renewed_count              0\n",
       "expiry_date                0\n",
       "domain_id                  0\n",
       "domain                     0\n",
       "creation_date              0\n",
       "status                     0\n",
       "tld                        0\n",
       "registrar                  0\n",
       "reseller                   0\n",
       "reseller_country           0\n",
       "region                     0\n",
       "reg_period                 0\n",
       "registrant_country   1393474\n",
       "renewal_status             0\n",
       "renew_mbg                  7\n",
       "renew_type             36978\n",
       "autorenew_type        394962\n",
       "renew_date             37004\n",
       "renew_registrar            5\n",
       "renew_reseller             5\n",
       "reg_revenue                0\n",
       "reg_arpt                   0\n",
       "renew_period           37004\n",
       "renew_domain_revenue    4879\n",
       "renew_arpt             37008\n",
       "reg_arpt_org               1\n",
       "tld_registrar_index        0\n",
       "sld                        0\n",
       "sld_type                   0\n",
       "sld_length                 0\n",
       "sld_type2                  0\n",
       "day_domains                0\n",
       "log_reg_arpt               0\n",
       "gibb_score                 0\n",
       "cluster                    0\n",
       "pattern                    0\n",
       "pattern_score              0\n",
       "pattern_domain_count       0"
      ]
     },
     "metadata": {},
     "output_type": "display_data"
    }
   ],
   "source": [
    "na_df <- expiry_train_df %>%\n",
    "  summarise_all(funs(sum(is.na(.))))\n",
    "t(na_df)"
   ]
  },
  {
   "cell_type": "code",
   "execution_count": 19,
   "metadata": {},
   "outputs": [
    {
     "data": {
      "text/html": [
       "<table>\n",
       "<caption>A data.table: 6 × 13</caption>\n",
       "<thead>\n",
       "\t<tr><th scope=col>renewal_status</th><th scope=col>tld</th><th scope=col>registrar</th><th scope=col>reseller</th><th scope=col>reseller_country</th><th scope=col>region</th><th scope=col>reg_period</th><th scope=col>sld_type</th><th scope=col>sld_length</th><th scope=col>day_domains</th><th scope=col>gibb_score</th><th scope=col>pattern_domain_count</th><th scope=col>reg_arpt</th></tr>\n",
       "\t<tr><th scope=col>&lt;fct&gt;</th><th scope=col>&lt;fct&gt;</th><th scope=col>&lt;chr&gt;</th><th scope=col>&lt;chr&gt;</th><th scope=col>&lt;chr&gt;</th><th scope=col>&lt;chr&gt;</th><th scope=col>&lt;int&gt;</th><th scope=col>&lt;fct&gt;</th><th scope=col>&lt;int&gt;</th><th scope=col>&lt;int&gt;</th><th scope=col>&lt;dbl&gt;</th><th scope=col>&lt;int&gt;</th><th scope=col>&lt;dbl&gt;</th></tr>\n",
       "</thead>\n",
       "<tbody>\n",
       "\t<tr><td><span style=white-space:pre-wrap>Renewed   </span></td><td>fun</td><td>1&amp;1 internet</td><td>1&amp;1 internet</td><td>Germany</td><td>Non China</td><td>1</td><td><span style=white-space:pre-wrap>ln      </span></td><td> 8</td><td>51</td><td>5.95</td><td>1</td><td>15</td></tr>\n",
       "\t<tr><td><span style=white-space:pre-wrap>Renewed   </span></td><td>fun</td><td>1&amp;1 internet</td><td>1&amp;1 internet</td><td>Germany</td><td>Non China</td><td>1</td><td><span style=white-space:pre-wrap>l       </span></td><td> 3</td><td>51</td><td>0.57</td><td>1</td><td>15</td></tr>\n",
       "\t<tr><td>Not Renewd</td><td>fun</td><td>1&amp;1 internet</td><td>1&amp;1 internet</td><td>Germany</td><td>Non China</td><td>1</td><td>hyphen-l</td><td>10</td><td>51</td><td>5.09</td><td>4</td><td>15</td></tr>\n",
       "\t<tr><td><span style=white-space:pre-wrap>Renewed   </span></td><td>fun</td><td>1&amp;1 internet</td><td>1&amp;1 internet</td><td>Germany</td><td>Non China</td><td>1</td><td><span style=white-space:pre-wrap>ln      </span></td><td> 3</td><td>51</td><td>5.63</td><td>1</td><td>15</td></tr>\n",
       "\t<tr><td><span style=white-space:pre-wrap>Renewed   </span></td><td>fun</td><td>1&amp;1 internet</td><td>1&amp;1 internet</td><td>Germany</td><td>Non China</td><td>1</td><td><span style=white-space:pre-wrap>ln      </span></td><td> 3</td><td>51</td><td>5.89</td><td>1</td><td>15</td></tr>\n",
       "\t<tr><td><span style=white-space:pre-wrap>Renewed   </span></td><td>fun</td><td>1&amp;1 internet</td><td>1&amp;1 internet</td><td>Germany</td><td>Non China</td><td>1</td><td><span style=white-space:pre-wrap>l       </span></td><td>11</td><td>51</td><td>8.40</td><td>1</td><td>15</td></tr>\n",
       "</tbody>\n",
       "</table>\n"
      ],
      "text/latex": [
       "A data.table: 6 × 13\n",
       "\\begin{tabular}{lllllllllllll}\n",
       " renewal\\_status & tld & registrar & reseller & reseller\\_country & region & reg\\_period & sld\\_type & sld\\_length & day\\_domains & gibb\\_score & pattern\\_domain\\_count & reg\\_arpt\\\\\n",
       " <fct> & <fct> & <chr> & <chr> & <chr> & <chr> & <int> & <fct> & <int> & <int> & <dbl> & <int> & <dbl>\\\\\n",
       "\\hline\n",
       "\t Renewed    & fun & 1\\&1 internet & 1\\&1 internet & Germany & Non China & 1 & ln       &  8 & 51 & 5.95 & 1 & 15\\\\\n",
       "\t Renewed    & fun & 1\\&1 internet & 1\\&1 internet & Germany & Non China & 1 & l        &  3 & 51 & 0.57 & 1 & 15\\\\\n",
       "\t Not Renewd & fun & 1\\&1 internet & 1\\&1 internet & Germany & Non China & 1 & hyphen-l & 10 & 51 & 5.09 & 4 & 15\\\\\n",
       "\t Renewed    & fun & 1\\&1 internet & 1\\&1 internet & Germany & Non China & 1 & ln       &  3 & 51 & 5.63 & 1 & 15\\\\\n",
       "\t Renewed    & fun & 1\\&1 internet & 1\\&1 internet & Germany & Non China & 1 & ln       &  3 & 51 & 5.89 & 1 & 15\\\\\n",
       "\t Renewed    & fun & 1\\&1 internet & 1\\&1 internet & Germany & Non China & 1 & l        & 11 & 51 & 8.40 & 1 & 15\\\\\n",
       "\\end{tabular}\n"
      ],
      "text/markdown": [
       "\n",
       "A data.table: 6 × 13\n",
       "\n",
       "| renewal_status &lt;fct&gt; | tld &lt;fct&gt; | registrar &lt;chr&gt; | reseller &lt;chr&gt; | reseller_country &lt;chr&gt; | region &lt;chr&gt; | reg_period &lt;int&gt; | sld_type &lt;fct&gt; | sld_length &lt;int&gt; | day_domains &lt;int&gt; | gibb_score &lt;dbl&gt; | pattern_domain_count &lt;int&gt; | reg_arpt &lt;dbl&gt; |\n",
       "|---|---|---|---|---|---|---|---|---|---|---|---|---|\n",
       "| Renewed    | fun | 1&amp;1 internet | 1&amp;1 internet | Germany | Non China | 1 | ln       |  8 | 51 | 5.95 | 1 | 15 |\n",
       "| Renewed    | fun | 1&amp;1 internet | 1&amp;1 internet | Germany | Non China | 1 | l        |  3 | 51 | 0.57 | 1 | 15 |\n",
       "| Not Renewd | fun | 1&amp;1 internet | 1&amp;1 internet | Germany | Non China | 1 | hyphen-l | 10 | 51 | 5.09 | 4 | 15 |\n",
       "| Renewed    | fun | 1&amp;1 internet | 1&amp;1 internet | Germany | Non China | 1 | ln       |  3 | 51 | 5.63 | 1 | 15 |\n",
       "| Renewed    | fun | 1&amp;1 internet | 1&amp;1 internet | Germany | Non China | 1 | ln       |  3 | 51 | 5.89 | 1 | 15 |\n",
       "| Renewed    | fun | 1&amp;1 internet | 1&amp;1 internet | Germany | Non China | 1 | l        | 11 | 51 | 8.40 | 1 | 15 |\n",
       "\n"
      ],
      "text/plain": [
       "  renewal_status tld registrar    reseller     reseller_country region   \n",
       "1 Renewed        fun 1&1 internet 1&1 internet Germany          Non China\n",
       "2 Renewed        fun 1&1 internet 1&1 internet Germany          Non China\n",
       "3 Not Renewd     fun 1&1 internet 1&1 internet Germany          Non China\n",
       "4 Renewed        fun 1&1 internet 1&1 internet Germany          Non China\n",
       "5 Renewed        fun 1&1 internet 1&1 internet Germany          Non China\n",
       "6 Renewed        fun 1&1 internet 1&1 internet Germany          Non China\n",
       "  reg_period sld_type sld_length day_domains gibb_score pattern_domain_count\n",
       "1 1          ln        8         51          5.95       1                   \n",
       "2 1          l         3         51          0.57       1                   \n",
       "3 1          hyphen-l 10         51          5.09       4                   \n",
       "4 1          ln        3         51          5.63       1                   \n",
       "5 1          ln        3         51          5.89       1                   \n",
       "6 1          l        11         51          8.40       1                   \n",
       "  reg_arpt\n",
       "1 15      \n",
       "2 15      \n",
       "3 15      \n",
       "4 15      \n",
       "5 15      \n",
       "6 15      "
      ]
     },
     "metadata": {},
     "output_type": "display_data"
    }
   ],
   "source": [
    "expiry_train_df_sub <- subset(expiry_train_df, \n",
    "       select = c(renewal_status, tld, registrar, reseller, reseller_country, region, reg_period, \n",
    "                  sld_type, sld_length, day_domains, gibb_score, pattern_domain_count,reg_arpt) )\n",
    "head(expiry_train_df_sub)"
   ]
  },
  {
   "cell_type": "code",
   "execution_count": 20,
   "metadata": {},
   "outputs": [
    {
     "name": "stdout",
     "output_type": "stream",
     "text": [
      "Growing trees.. Progress: 4%. Estimated remaining time: 13 minutes, 4 seconds.\n",
      "Growing trees.. Progress: 8%. Estimated remaining time: 12 minutes, 4 seconds.\n",
      "Growing trees.. Progress: 12%. Estimated remaining time: 11 minutes, 23 seconds.\n",
      "Growing trees.. Progress: 16%. Estimated remaining time: 11 minutes, 2 seconds.\n",
      "Growing trees.. Progress: 20%. Estimated remaining time: 10 minutes, 32 seconds.\n",
      "Growing trees.. Progress: 25%. Estimated remaining time: 9 minutes, 51 seconds.\n",
      "Growing trees.. Progress: 29%. Estimated remaining time: 9 minutes, 13 seconds.\n",
      "Growing trees.. Progress: 33%. Estimated remaining time: 8 minutes, 44 seconds.\n",
      "Growing trees.. Progress: 37%. Estimated remaining time: 8 minutes, 8 seconds.\n",
      "Growing trees.. Progress: 41%. Estimated remaining time: 7 minutes, 35 seconds.\n",
      "Growing trees.. Progress: 45%. Estimated remaining time: 7 minutes, 7 seconds.\n",
      "Growing trees.. Progress: 49%. Estimated remaining time: 6 minutes, 30 seconds.\n",
      "Growing trees.. Progress: 53%. Estimated remaining time: 6 minutes, 0 seconds.\n",
      "Growing trees.. Progress: 57%. Estimated remaining time: 5 minutes, 31 seconds.\n",
      "Growing trees.. Progress: 62%. Estimated remaining time: 4 minutes, 57 seconds.\n",
      "Growing trees.. Progress: 66%. Estimated remaining time: 4 minutes, 21 seconds.\n",
      "Growing trees.. Progress: 71%. Estimated remaining time: 3 minutes, 44 seconds.\n",
      "Growing trees.. Progress: 75%. Estimated remaining time: 3 minutes, 9 seconds.\n",
      "Growing trees.. Progress: 80%. Estimated remaining time: 2 minutes, 35 seconds.\n",
      "Growing trees.. Progress: 84%. Estimated remaining time: 2 minutes, 2 seconds.\n",
      "Growing trees.. Progress: 88%. Estimated remaining time: 1 minute, 29 seconds.\n",
      "Growing trees.. Progress: 92%. Estimated remaining time: 58 seconds.\n",
      "Growing trees.. Progress: 97%. Estimated remaining time: 24 seconds.\n",
      "Computing prediction error.. Progress: 41%. Estimated remaining time: 44 seconds.\n",
      "Computing prediction error.. Progress: 83%. Estimated remaining time: 12 seconds.\n",
      "model fitting: 952.151 sec elapsed\n",
      "model saving: 163.762 sec elapsed\n"
     ]
    }
   ],
   "source": [
    "# # model fitting: 952.151 sec elapsed\n",
    "# # model saving: 163.762 sec elapsed\n",
    "\n",
    "\n",
    "# tic(\"model fitting\")\n",
    "\n",
    "# ranger_03_expiry <- ranger(\n",
    "#     formula         = renewal_status ~ ., \n",
    "#     data            = expiry_train_df_sub, \n",
    "#     importance = 'impurity', \n",
    "#     num.trees       = 500,\n",
    "#     class.weights = c(3,4),\n",
    "#     probability = TRUE,\n",
    "#     mtry            = 5,\n",
    "#     min.node.size   = 10,\n",
    "#     replace = FALSE,\n",
    "#     sample.fraction = .725,\n",
    "#     seed            = 123\n",
    "# )\n",
    "\n",
    "# toc()\n",
    "\n",
    "# tic(\"model saving\")\n",
    "# save(ranger_03_expiry, file=\"../../data/output/ranger_03_expiry\")\n",
    "# toc()"
   ]
  },
  {
   "cell_type": "markdown",
   "metadata": {},
   "source": [
    "## test ranger_03 on expiry_test"
   ]
  },
  {
   "cell_type": "code",
   "execution_count": 21,
   "metadata": {},
   "outputs": [
    {
     "name": "stdout",
     "output_type": "stream",
     "text": [
      "model predict: 65.851 sec elapsed\n",
      "eval saving: 0.132 sec elapsed\n"
     ]
    }
   ],
   "source": [
    "\n",
    "# # model predict: 65.851 sec elapsed\n",
    "# # eval saving: 0.132 sec elapsed\n",
    "\n",
    "# tic(\"model predict\")\n",
    "# ranger_predict_03_expiry <- predict(ranger_03_expiry, \n",
    "#                           data = expiry_test_df,\n",
    "#                           type=\"response\")$predictions\n",
    "# toc()\n",
    "\n",
    "# tic(\"eval saving\")\n",
    "\n",
    "# ranger_predict_03_expiry <- as.data.frame(ranger_predict_03_expiry)$Renewed\n",
    "\n",
    "# save(ranger_predict_03_expiry, \n",
    "#      file=\"../../data/output/ranger_predict_03_expiry\")\n",
    "# toc()\n"
   ]
  },
  {
   "cell_type": "code",
   "execution_count": 22,
   "metadata": {},
   "outputs": [],
   "source": [
    "# load(\"../../data/output/ranger_predict_03_exptest\")"
   ]
  },
  {
   "cell_type": "code",
   "execution_count": 24,
   "metadata": {},
   "outputs": [
    {
     "data": {
      "text/html": [
       "<style>\n",
       ".list-inline {list-style: none; margin:0; padding: 0}\n",
       ".list-inline>li {display: inline-block}\n",
       ".list-inline>li:not(:last-child)::after {content: \"\\00b7\"; padding: 0 .5ex}\n",
       "</style>\n",
       "<ol class=list-inline><li>0.297809915361007</li><li>0.181995608486512</li><li>0.226871202815937</li><li>0.021335640216549</li><li>0.193479524927664</li><li>0.432496669209513</li></ol>\n"
      ],
      "text/latex": [
       "\\begin{enumerate*}\n",
       "\\item 0.297809915361007\n",
       "\\item 0.181995608486512\n",
       "\\item 0.226871202815937\n",
       "\\item 0.021335640216549\n",
       "\\item 0.193479524927664\n",
       "\\item 0.432496669209513\n",
       "\\end{enumerate*}\n"
      ],
      "text/markdown": [
       "1. 0.297809915361007\n",
       "2. 0.181995608486512\n",
       "3. 0.226871202815937\n",
       "4. 0.021335640216549\n",
       "5. 0.193479524927664\n",
       "6. 0.432496669209513\n",
       "\n",
       "\n"
      ],
      "text/plain": [
       "[1] 0.29780992 0.18199561 0.22687120 0.02133564 0.19347952 0.43249667"
      ]
     },
     "metadata": {},
     "output_type": "display_data"
    }
   ],
   "source": [
    "# head(ranger_predict_03_exptest)"
   ]
  },
  {
   "cell_type": "code",
   "execution_count": 25,
   "metadata": {},
   "outputs": [
    {
     "data": {
      "text/html": [
       "348591"
      ],
      "text/latex": [
       "348591"
      ],
      "text/markdown": [
       "348591"
      ],
      "text/plain": [
       "[1] 348591"
      ]
     },
     "metadata": {},
     "output_type": "display_data"
    }
   ],
   "source": [
    "length(ranger_predict_03_exptest)"
   ]
  },
  {
   "cell_type": "code",
   "execution_count": 28,
   "metadata": {},
   "outputs": [
    {
     "data": {
      "text/html": [
       "<style>\n",
       ".list-inline {list-style: none; margin:0; padding: 0}\n",
       ".list-inline>li {display: inline-block}\n",
       ".list-inline>li:not(:last-child)::after {content: \"\\00b7\"; padding: 0 .5ex}\n",
       "</style>\n",
       "<ol class=list-inline><li>348591</li><li>39</li></ol>\n"
      ],
      "text/latex": [
       "\\begin{enumerate*}\n",
       "\\item 348591\n",
       "\\item 39\n",
       "\\end{enumerate*}\n"
      ],
      "text/markdown": [
       "1. 348591\n",
       "2. 39\n",
       "\n",
       "\n"
      ],
      "text/plain": [
       "[1] 348591     39"
      ]
     },
     "metadata": {},
     "output_type": "display_data"
    }
   ],
   "source": [
    "dim(expiry_test_df)"
   ]
  },
  {
   "cell_type": "code",
   "execution_count": 30,
   "metadata": {},
   "outputs": [
    {
     "data": {
      "text/html": [
       "<style>\n",
       ".list-inline {list-style: none; margin:0; padding: 0}\n",
       ".list-inline>li {display: inline-block}\n",
       ".list-inline>li:not(:last-child)::after {content: \"\\00b7\"; padding: 0 .5ex}\n",
       "</style>\n",
       "<ol class=list-inline><li>Renewed</li><li>Not Renewd</li><li>Renewed</li><li>Not Renewd</li><li>Not Renewd</li><li>Renewed</li></ol>\n",
       "\n",
       "<details>\n",
       "\t<summary style=display:list-item;cursor:pointer>\n",
       "\t\t<strong>Levels</strong>:\n",
       "\t</summary>\n",
       "\t<style>\n",
       "\t.list-inline {list-style: none; margin:0; padding: 0}\n",
       "\t.list-inline>li {display: inline-block}\n",
       "\t.list-inline>li:not(:last-child)::after {content: \"\\00b7\"; padding: 0 .5ex}\n",
       "\t</style>\n",
       "\t<ol class=list-inline><li>'Not Renewd'</li><li>'Renewed'</li></ol>\n",
       "</details>"
      ],
      "text/latex": [
       "\\begin{enumerate*}\n",
       "\\item Renewed\n",
       "\\item Not Renewd\n",
       "\\item Renewed\n",
       "\\item Not Renewd\n",
       "\\item Not Renewd\n",
       "\\item Renewed\n",
       "\\end{enumerate*}\n",
       "\n",
       "\\emph{Levels}: \\begin{enumerate*}\n",
       "\\item 'Not Renewd'\n",
       "\\item 'Renewed'\n",
       "\\end{enumerate*}\n"
      ],
      "text/markdown": [
       "1. Renewed\n",
       "2. Not Renewd\n",
       "3. Renewed\n",
       "4. Not Renewd\n",
       "5. Not Renewd\n",
       "6. Renewed\n",
       "\n",
       "\n",
       "\n",
       "**Levels**: 1. 'Not Renewd'\n",
       "2. 'Renewed'\n",
       "\n",
       "\n"
      ],
      "text/plain": [
       "[1] Renewed    Not Renewd Renewed    Not Renewd Not Renewd Renewed   \n",
       "Levels: Not Renewd Renewed"
      ]
     },
     "metadata": {},
     "output_type": "display_data"
    }
   ],
   "source": [
    "head((expiry_test_df)$renewal_status)"
   ]
  },
  {
   "cell_type": "code",
   "execution_count": 23,
   "metadata": {},
   "outputs": [
    {
     "name": "stdout",
     "output_type": "stream",
     "text": [
      "lift df: 1.419 sec elapsed\n",
      "gains plot: 0.093 sec elapsed\n",
      "auc: 0.036 sec elapsed\n"
     ]
    }
   ],
   "source": [
    "# ranger_03_pred_df_expiry = data.frame(\"actual\" = expiry_test_df$renewal_status,\n",
    "#           \"predicted\" = ranger_predict_03_expiry)\n",
    "\n",
    "# # lift df: 23.675 sec elapsed\n",
    "# # gains plot: 0.046 sec elapsed\n",
    "# # auc: 0.007 sec elapsed\n",
    "# tic(\"lift df\")\n",
    "# lift_df_ranger_03_expiry <- chart_lift(pred_df = ranger_03_pred_df_expiry,\n",
    "#                         dep_var = \"actual\",\n",
    "#                         pred_var = \"predicted\")\n",
    "\n",
    "# toc()\n",
    "# tic(\"gains plot\")\n",
    "# gains_plot_ranger_03_expiry <- plot_gains (lift_df_ranger_03_expiry) \n",
    "\n",
    "# toc()\n",
    "# tic(\"auc\")\n",
    "# auc_ranger_03_expiry <- calc_auc(lift_df_ranger_03_expiry)\n",
    "# toc()\n",
    "\n",
    "\n",
    "# saveRDS(lift_df_ranger_03_expiry, file.path('../../data/output/',\"lift_df_ranger_03_expiry\"))\n"
   ]
  },
  {
   "cell_type": "code",
   "execution_count": 11,
   "metadata": {},
   "outputs": [],
   "source": [
    "file_list <- c(\"lift_df_segglm\",\n",
    "                    \"lift_df_bendtr\",\n",
    "                    \"lift_df_ranger3\",\n",
    "                    \"lift_df_ranger_03\",\n",
    "               \"lift_df_ranger_03_expiry\"\n",
    "              )\n",
    "assign(file_list[1], readRDS(sprintf(\"../../data/%s\", file_list[1])))\n",
    "assign(file_list[2], readRDS(sprintf(\"../../data/%s\", file_list[2])))\n",
    "assign(file_list[3], readRDS(sprintf(\"../../data/%s\", file_list[3])))\n",
    "assign(file_list[4], readRDS(sprintf(\"../../data/%s\", file_list[4])))\n",
    "assign(file_list[5], readRDS(sprintf(\"../../data/%s\", file_list[5])))\n",
    "     "
   ]
  },
  {
   "cell_type": "code",
   "execution_count": 12,
   "metadata": {},
   "outputs": [],
   "source": [
    "auc_list= list(\n",
    "        seg_glm = calc_auc(lift_df_segglm), \n",
    "        ben_dtr= calc_auc(lift_df_bendtr), \n",
    "        rf_500tr= calc_auc(lift_df_ranger3), \n",
    "        rf_newd = calc_auc(lift_df_ranger_03),\n",
    "        rf_newd_ex= calc_auc(lift_df_ranger_03_expiry))"
   ]
  },
  {
   "cell_type": "code",
   "execution_count": 13,
   "metadata": {},
   "outputs": [
    {
     "data": {
      "text/html": [
       "<dl>\n",
       "\t<dt>$seg_glm</dt>\n",
       "\t\t<dd>0.734312925170068</dd>\n",
       "\t<dt>$ben_dtr</dt>\n",
       "\t\t<dd>0.703184807256236</dd>\n",
       "\t<dt>$rf_500tr</dt>\n",
       "\t\t<dd>0.9045891760674</dd>\n",
       "\t<dt>$rf_newd</dt>\n",
       "\t\t<dd>0.616926025422618</dd>\n",
       "\t<dt>$rf_newd_ex</dt>\n",
       "\t\t<dd>0.806467042327349</dd>\n",
       "</dl>\n"
      ],
      "text/latex": [
       "\\begin{description}\n",
       "\\item[\\$seg\\_glm] 0.734312925170068\n",
       "\\item[\\$ben\\_dtr] 0.703184807256236\n",
       "\\item[\\$rf\\_500tr] 0.9045891760674\n",
       "\\item[\\$rf\\_newd] 0.616926025422618\n",
       "\\item[\\$rf\\_newd\\_ex] 0.806467042327349\n",
       "\\end{description}\n"
      ],
      "text/markdown": [
       "$seg_glm\n",
       ":   0.734312925170068\n",
       "$ben_dtr\n",
       ":   0.703184807256236\n",
       "$rf_500tr\n",
       ":   0.9045891760674\n",
       "$rf_newd\n",
       ":   0.616926025422618\n",
       "$rf_newd_ex\n",
       ":   0.806467042327349\n",
       "\n",
       "\n"
      ],
      "text/plain": [
       "$seg_glm\n",
       "[1] 0.7343129\n",
       "\n",
       "$ben_dtr\n",
       "[1] 0.7031848\n",
       "\n",
       "$rf_500tr\n",
       "[1] 0.9045892\n",
       "\n",
       "$rf_newd\n",
       "[1] 0.616926\n",
       "\n",
       "$rf_newd_ex\n",
       "[1] 0.806467\n"
      ]
     },
     "metadata": {},
     "output_type": "display_data"
    }
   ],
   "source": [
    "auc_list"
   ]
  },
  {
   "cell_type": "code",
   "execution_count": 14,
   "metadata": {},
   "outputs": [
    {
     "data": {
      "text/html": [
       "<strong>png:</strong> 2"
      ],
      "text/latex": [
       "\\textbf{png:} 2"
      ],
      "text/markdown": [
       "**png:** 2"
      ],
      "text/plain": [
       "png \n",
       "  2 "
      ]
     },
     "metadata": {},
     "output_type": "display_data"
    }
   ],
   "source": [
    "plot_multigains_03_summ3 <- plot_multigains(\n",
    "    lift_df_list=list(\n",
    "        seg_glm = lift_df_segglm, \n",
    "        ben_dtr = lift_df_bendtr,\n",
    "        rf_500tr = lift_df_ranger3,\n",
    "        rf_newd = lift_df_ranger_03,\n",
    "        rf_newd_ex = lift_df_ranger_03_expiry),\n",
    "    auc_list = list(\n",
    "        seg_glm = calc_auc(lift_df_segglm), \n",
    "        ben_dtr= calc_auc(lift_df_bendtr), \n",
    "        rf_500tr= calc_auc(lift_df_ranger3), \n",
    "        rf_newd = calc_auc(lift_df_ranger_03),\n",
    "        rf_newd_ex= calc_auc(lift_df_ranger_03_expiry)))\n",
    "png(file = \"../../data/output/plot_multigains_03_newdata_summ3.png\",\n",
    "    width = 500, height = 375)\n",
    "plot(plot_multigains_03_summ3)\n",
    "dev.off()"
   ]
  },
  {
   "cell_type": "code",
   "execution_count": 15,
   "metadata": {},
   "outputs": [
    {
     "data": {
      "image/png": "[encoded data removed]",
      "text/plain": [
       "plot without title"
      ]
     },
     "metadata": {
      "image/png": {
       "height": 420,
       "width": 420
      },
      "text/plain": {
       "height": 420,
       "width": 420
      }
     },
     "output_type": "display_data"
    }
   ],
   "source": [
    "plot_multigains_03_summ3"
   ]
  },
  {
   "cell_type": "code",
   "execution_count": 31,
   "metadata": {},
   "outputs": [],
   "source": [
    "system(\"gsutil cp /home/jupyter/local/Domains_202003/data/output/* gs://data_outputt/output/\")"
   ]
  },
  {
   "cell_type": "code",
   "execution_count": 16,
   "metadata": {},
   "outputs": [
    {
     "data": {
      "text/html": [
       "<table>\n",
       "<caption>A data.frame: 10 × 4</caption>\n",
       "<thead>\n",
       "\t<tr><th scope=col>P</th><th scope=col>actu_renwd2</th><th scope=col>gain</th><th scope=col>lift</th></tr>\n",
       "\t<tr><th scope=col>&lt;dbl&gt;</th><th scope=col>&lt;int&gt;</th><th scope=col>&lt;dbl&gt;</th><th scope=col>&lt;dbl&gt;</th></tr>\n",
       "</thead>\n",
       "<tbody>\n",
       "\t<tr><td>0.1</td><td>23076</td><td>0.3779976</td><td>3.779976</td></tr>\n",
       "\t<tr><td>0.2</td><td>41620</td><td>0.6817586</td><td>3.408793</td></tr>\n",
       "\t<tr><td>0.3</td><td>48777</td><td>0.7989942</td><td>2.663314</td></tr>\n",
       "\t<tr><td>0.4</td><td>53100</td><td>0.8698074</td><td>2.174518</td></tr>\n",
       "\t<tr><td>0.5</td><td>56166</td><td>0.9200301</td><td>1.840060</td></tr>\n",
       "\t<tr><td>0.6</td><td>58182</td><td>0.9530533</td><td>1.588422</td></tr>\n",
       "\t<tr><td>0.7</td><td>59443</td><td>0.9737092</td><td>1.391013</td></tr>\n",
       "\t<tr><td>0.8</td><td>60430</td><td>0.9898768</td><td>1.237346</td></tr>\n",
       "\t<tr><td>0.9</td><td>61014</td><td>0.9994431</td><td>1.110492</td></tr>\n",
       "\t<tr><td>1.0</td><td>61048</td><td>1.0000000</td><td>1.000000</td></tr>\n",
       "</tbody>\n",
       "</table>\n"
      ],
      "text/latex": [
       "A data.frame: 10 × 4\n",
       "\\begin{tabular}{llll}\n",
       " P & actu\\_renwd2 & gain & lift\\\\\n",
       " <dbl> & <int> & <dbl> & <dbl>\\\\\n",
       "\\hline\n",
       "\t 0.1 & 23076 & 0.3779976 & 3.779976\\\\\n",
       "\t 0.2 & 41620 & 0.6817586 & 3.408793\\\\\n",
       "\t 0.3 & 48777 & 0.7989942 & 2.663314\\\\\n",
       "\t 0.4 & 53100 & 0.8698074 & 2.174518\\\\\n",
       "\t 0.5 & 56166 & 0.9200301 & 1.840060\\\\\n",
       "\t 0.6 & 58182 & 0.9530533 & 1.588422\\\\\n",
       "\t 0.7 & 59443 & 0.9737092 & 1.391013\\\\\n",
       "\t 0.8 & 60430 & 0.9898768 & 1.237346\\\\\n",
       "\t 0.9 & 61014 & 0.9994431 & 1.110492\\\\\n",
       "\t 1.0 & 61048 & 1.0000000 & 1.000000\\\\\n",
       "\\end{tabular}\n"
      ],
      "text/markdown": [
       "\n",
       "A data.frame: 10 × 4\n",
       "\n",
       "| P &lt;dbl&gt; | actu_renwd2 &lt;int&gt; | gain &lt;dbl&gt; | lift &lt;dbl&gt; |\n",
       "|---|---|---|---|\n",
       "| 0.1 | 23076 | 0.3779976 | 3.779976 |\n",
       "| 0.2 | 41620 | 0.6817586 | 3.408793 |\n",
       "| 0.3 | 48777 | 0.7989942 | 2.663314 |\n",
       "| 0.4 | 53100 | 0.8698074 | 2.174518 |\n",
       "| 0.5 | 56166 | 0.9200301 | 1.840060 |\n",
       "| 0.6 | 58182 | 0.9530533 | 1.588422 |\n",
       "| 0.7 | 59443 | 0.9737092 | 1.391013 |\n",
       "| 0.8 | 60430 | 0.9898768 | 1.237346 |\n",
       "| 0.9 | 61014 | 0.9994431 | 1.110492 |\n",
       "| 1.0 | 61048 | 1.0000000 | 1.000000 |\n",
       "\n"
      ],
      "text/plain": [
       "   P   actu_renwd2 gain      lift    \n",
       "1  0.1 23076       0.3779976 3.779976\n",
       "2  0.2 41620       0.6817586 3.408793\n",
       "3  0.3 48777       0.7989942 2.663314\n",
       "4  0.4 53100       0.8698074 2.174518\n",
       "5  0.5 56166       0.9200301 1.840060\n",
       "6  0.6 58182       0.9530533 1.588422\n",
       "7  0.7 59443       0.9737092 1.391013\n",
       "8  0.8 60430       0.9898768 1.237346\n",
       "9  0.9 61014       0.9994431 1.110492\n",
       "10 1.0 61048       1.0000000 1.000000"
      ]
     },
     "metadata": {},
     "output_type": "display_data"
    }
   ],
   "source": [
    "lift_df_ranger_03_expiry"
   ]
  },
  {
   "cell_type": "markdown",
   "metadata": {},
   "source": [
    "lift_df_ranger3"
   ]
  },
  {
   "cell_type": "code",
   "execution_count": 17,
   "metadata": {},
   "outputs": [
    {
     "data": {
      "text/html": [
       "<table>\n",
       "<caption>A data.frame: 10 × 4</caption>\n",
       "<thead>\n",
       "\t<tr><th scope=col>P</th><th scope=col>actu_renwd2</th><th scope=col>gain</th><th scope=col>lift</th></tr>\n",
       "\t<tr><th scope=col>&lt;dbl&gt;</th><th scope=col>&lt;int&gt;</th><th scope=col>&lt;dbl&gt;</th><th scope=col>&lt;dbl&gt;</th></tr>\n",
       "</thead>\n",
       "<tbody>\n",
       "\t<tr><td>0.1</td><td>14576</td><td>0.3305215</td><td>3.305215</td></tr>\n",
       "\t<tr><td>0.2</td><td>23027</td><td>0.5221542</td><td>2.610771</td></tr>\n",
       "\t<tr><td>0.3</td><td>29601</td><td>0.6712245</td><td>2.237415</td></tr>\n",
       "\t<tr><td>0.4</td><td>32925</td><td>0.7465986</td><td>1.866497</td></tr>\n",
       "\t<tr><td>0.5</td><td>35893</td><td>0.8139002</td><td>1.627800</td></tr>\n",
       "\t<tr><td>0.6</td><td>38582</td><td>0.8748753</td><td>1.458125</td></tr>\n",
       "\t<tr><td>0.7</td><td>40827</td><td>0.9257823</td><td>1.322546</td></tr>\n",
       "\t<tr><td>0.8</td><td>42622</td><td>0.9664853</td><td>1.208107</td></tr>\n",
       "\t<tr><td>0.9</td><td>43729</td><td>0.9915873</td><td>1.101764</td></tr>\n",
       "\t<tr><td>1.0</td><td>44100</td><td>1.0000000</td><td>1.000000</td></tr>\n",
       "</tbody>\n",
       "</table>\n"
      ],
      "text/latex": [
       "A data.frame: 10 × 4\n",
       "\\begin{tabular}{llll}\n",
       " P & actu\\_renwd2 & gain & lift\\\\\n",
       " <dbl> & <int> & <dbl> & <dbl>\\\\\n",
       "\\hline\n",
       "\t 0.1 & 14576 & 0.3305215 & 3.305215\\\\\n",
       "\t 0.2 & 23027 & 0.5221542 & 2.610771\\\\\n",
       "\t 0.3 & 29601 & 0.6712245 & 2.237415\\\\\n",
       "\t 0.4 & 32925 & 0.7465986 & 1.866497\\\\\n",
       "\t 0.5 & 35893 & 0.8139002 & 1.627800\\\\\n",
       "\t 0.6 & 38582 & 0.8748753 & 1.458125\\\\\n",
       "\t 0.7 & 40827 & 0.9257823 & 1.322546\\\\\n",
       "\t 0.8 & 42622 & 0.9664853 & 1.208107\\\\\n",
       "\t 0.9 & 43729 & 0.9915873 & 1.101764\\\\\n",
       "\t 1.0 & 44100 & 1.0000000 & 1.000000\\\\\n",
       "\\end{tabular}\n"
      ],
      "text/markdown": [
       "\n",
       "A data.frame: 10 × 4\n",
       "\n",
       "| P &lt;dbl&gt; | actu_renwd2 &lt;int&gt; | gain &lt;dbl&gt; | lift &lt;dbl&gt; |\n",
       "|---|---|---|---|\n",
       "| 0.1 | 14576 | 0.3305215 | 3.305215 |\n",
       "| 0.2 | 23027 | 0.5221542 | 2.610771 |\n",
       "| 0.3 | 29601 | 0.6712245 | 2.237415 |\n",
       "| 0.4 | 32925 | 0.7465986 | 1.866497 |\n",
       "| 0.5 | 35893 | 0.8139002 | 1.627800 |\n",
       "| 0.6 | 38582 | 0.8748753 | 1.458125 |\n",
       "| 0.7 | 40827 | 0.9257823 | 1.322546 |\n",
       "| 0.8 | 42622 | 0.9664853 | 1.208107 |\n",
       "| 0.9 | 43729 | 0.9915873 | 1.101764 |\n",
       "| 1.0 | 44100 | 1.0000000 | 1.000000 |\n",
       "\n"
      ],
      "text/plain": [
       "   P   actu_renwd2 gain      lift    \n",
       "1  0.1 14576       0.3305215 3.305215\n",
       "2  0.2 23027       0.5221542 2.610771\n",
       "3  0.3 29601       0.6712245 2.237415\n",
       "4  0.4 32925       0.7465986 1.866497\n",
       "5  0.5 35893       0.8139002 1.627800\n",
       "6  0.6 38582       0.8748753 1.458125\n",
       "7  0.7 40827       0.9257823 1.322546\n",
       "8  0.8 42622       0.9664853 1.208107\n",
       "9  0.9 43729       0.9915873 1.101764\n",
       "10 1.0 44100       1.0000000 1.000000"
      ]
     },
     "metadata": {},
     "output_type": "display_data"
    }
   ],
   "source": [
    "lift_df_segglm"
   ]
  },
  {
   "cell_type": "markdown",
   "metadata": {},
   "source": [
    "# how well does seg_glm perf when trained on this data?"
   ]
  },
  {
   "cell_type": "markdown",
   "metadata": {},
   "source": [
    "## need to retrain model on expiry_train_prepped_2 (list of dfs)\n"
   ]
  },
  {
   "cell_type": "code",
   "execution_count": 19,
   "metadata": {},
   "outputs": [],
   "source": [
    "# model fitting: 38.794 sec elapsed\n",
    "# model saving: 48.062 sec elapsed\n",
    "# tic(\"model fitting\")\n",
    "# first_renewal_model_expiry_train<-mass_build_model_first_renewal(expiry_train_prepped_2)\n",
    "# toc()\n",
    "# tic(\"model saving\")\n",
    "# saveRDS(first_renewal_model_expiry_train, \"../../data/output/first_renewal_model_expiry_train\")\n",
    "# toc()\n"
   ]
  },
  {
   "cell_type": "code",
   "execution_count": 56,
   "metadata": {},
   "outputs": [],
   "source": [
    "# filename='first_renewal_model'\n",
    "# system(paste(sprintf(\"gsutil cp gs://data_input/%s /home/jupyter/local/Domains_202003/data/\", filename)))\n",
    "# assign(filename, readRDS(sprintf(\"../../data/%s\", filename)))\n",
    "# rm(first_renewal_model)"
   ]
  },
  {
   "cell_type": "code",
   "execution_count": 36,
   "metadata": {},
   "outputs": [],
   "source": [
    "# filename='first_renewal_model_train' # trained in training subset, like ranger_03\n",
    "# system(paste(sprintf(\"gsutil cp gs://data_input/%s /home/jupyter/local/Domains_202003/data/\", filename)))\n",
    "# assign(filename, readRDS(sprintf(\"../../data/%s\", filename)))"
   ]
  },
  {
   "cell_type": "markdown",
   "metadata": {},
   "source": [
    "# need to use predict from original functions"
   ]
  },
  {
   "cell_type": "code",
   "execution_count": 21,
   "metadata": {},
   "outputs": [],
   "source": [
    "# model predict: 12.668 sec elapsed\n",
    "\n",
    "# tic(\"model predict\")\n",
    "# seg_glm_expiry_exptest <- mass_predict_first_renewal(expiry_test_prepped_2, first_renewal_model_expiry_train)\n",
    "# toc()\n",
    "# saveRDS(seg_glm_expiry_exptest,\"../../data/output/seg_glm_expiry_exptest\")\n"
   ]
  },
  {
   "cell_type": "code",
   "execution_count": null,
   "metadata": {},
   "outputs": [],
   "source": [
    "# seg_glm_exptest <- readRDS(\"../../data/output/seg_glm_exptest\")"
   ]
  },
  {
   "cell_type": "code",
   "execution_count": 22,
   "metadata": {},
   "outputs": [
    {
     "data": {
      "text/html": [
       "<table>\n",
       "<caption>A data.frame: 1 × 40</caption>\n",
       "<thead>\n",
       "\t<tr><th scope=col>renewal_type</th><th scope=col>renewed_count</th><th scope=col>expiry_date</th><th scope=col>domain_id</th><th scope=col>domain</th><th scope=col>creation_date</th><th scope=col>status</th><th scope=col>tld</th><th scope=col>registrar</th><th scope=col>reseller</th><th scope=col>⋯</th><th scope=col>sld_length</th><th scope=col>sld_type2</th><th scope=col>day_domains</th><th scope=col>log_reg_arpt</th><th scope=col>gibb_score</th><th scope=col>cluster</th><th scope=col>pattern</th><th scope=col>pattern_score</th><th scope=col>pattern_domain_count</th><th scope=col>first_renewal_prediction</th></tr>\n",
       "\t<tr><th scope=col>&lt;int&gt;</th><th scope=col>&lt;int&gt;</th><th scope=col>&lt;int&gt;</th><th scope=col>&lt;int&gt;</th><th scope=col>&lt;int&gt;</th><th scope=col>&lt;int&gt;</th><th scope=col>&lt;int&gt;</th><th scope=col>&lt;int&gt;</th><th scope=col>&lt;int&gt;</th><th scope=col>&lt;int&gt;</th><th scope=col>⋯</th><th scope=col>&lt;int&gt;</th><th scope=col>&lt;int&gt;</th><th scope=col>&lt;int&gt;</th><th scope=col>&lt;int&gt;</th><th scope=col>&lt;int&gt;</th><th scope=col>&lt;int&gt;</th><th scope=col>&lt;int&gt;</th><th scope=col>&lt;int&gt;</th><th scope=col>&lt;int&gt;</th><th scope=col>&lt;int&gt;</th></tr>\n",
       "</thead>\n",
       "<tbody>\n",
       "\t<tr><td>0</td><td>0</td><td>0</td><td>0</td><td>0</td><td>0</td><td>0</td><td>0</td><td>0</td><td>0</td><td>⋯</td><td>0</td><td>0</td><td>0</td><td>0</td><td>0</td><td>0</td><td>0</td><td>0</td><td>0</td><td>1178</td></tr>\n",
       "</tbody>\n",
       "</table>\n"
      ],
      "text/latex": [
       "A data.frame: 1 × 40\n",
       "\\begin{tabular}{lllllllllllllllllllll}\n",
       " renewal\\_type & renewed\\_count & expiry\\_date & domain\\_id & domain & creation\\_date & status & tld & registrar & reseller & ⋯ & sld\\_length & sld\\_type2 & day\\_domains & log\\_reg\\_arpt & gibb\\_score & cluster & pattern & pattern\\_score & pattern\\_domain\\_count & first\\_renewal\\_prediction\\\\\n",
       " <int> & <int> & <int> & <int> & <int> & <int> & <int> & <int> & <int> & <int> & ⋯ & <int> & <int> & <int> & <int> & <int> & <int> & <int> & <int> & <int> & <int>\\\\\n",
       "\\hline\n",
       "\t 0 & 0 & 0 & 0 & 0 & 0 & 0 & 0 & 0 & 0 & ⋯ & 0 & 0 & 0 & 0 & 0 & 0 & 0 & 0 & 0 & 1178\\\\\n",
       "\\end{tabular}\n"
      ],
      "text/markdown": [
       "\n",
       "A data.frame: 1 × 40\n",
       "\n",
       "| renewal_type &lt;int&gt; | renewed_count &lt;int&gt; | expiry_date &lt;int&gt; | domain_id &lt;int&gt; | domain &lt;int&gt; | creation_date &lt;int&gt; | status &lt;int&gt; | tld &lt;int&gt; | registrar &lt;int&gt; | reseller &lt;int&gt; | ⋯ ⋯ | sld_length &lt;int&gt; | sld_type2 &lt;int&gt; | day_domains &lt;int&gt; | log_reg_arpt &lt;int&gt; | gibb_score &lt;int&gt; | cluster &lt;int&gt; | pattern &lt;int&gt; | pattern_score &lt;int&gt; | pattern_domain_count &lt;int&gt; | first_renewal_prediction &lt;int&gt; |\n",
       "|---|---|---|---|---|---|---|---|---|---|---|---|---|---|---|---|---|---|---|---|---|\n",
       "| 0 | 0 | 0 | 0 | 0 | 0 | 0 | 0 | 0 | 0 | ⋯ | 0 | 0 | 0 | 0 | 0 | 0 | 0 | 0 | 0 | 1178 |\n",
       "\n"
      ],
      "text/plain": [
       "  renewal_type renewed_count expiry_date domain_id domain creation_date status\n",
       "1 0            0             0           0         0      0             0     \n",
       "  tld registrar reseller ⋯ sld_length sld_type2 day_domains log_reg_arpt\n",
       "1 0   0         0        ⋯ 0          0         0           0           \n",
       "  gibb_score cluster pattern pattern_score pattern_domain_count\n",
       "1 0          0       0       0             0                   \n",
       "  first_renewal_prediction\n",
       "1 1178                    "
      ]
     },
     "metadata": {},
     "output_type": "display_data"
    }
   ],
   "source": [
    "# colSums(is.na([\"first_renewal_prediction\"]))\n",
    "# seg_glm_exptest[, sum(is.na(.SD)),  .SDcols = 1:39]\n",
    "\n",
    "seg_glm_expiry_exptest %>% summarise_all(~ sum(is.na(.)))"
   ]
  },
  {
   "cell_type": "code",
   "execution_count": 24,
   "metadata": {},
   "outputs": [
    {
     "data": {
      "text/html": [
       "0.00337931845629979"
      ],
      "text/latex": [
       "0.00337931845629979"
      ],
      "text/markdown": [
       "0.00337931845629979"
      ],
      "text/plain": [
       "[1] 0.003379318"
      ]
     },
     "metadata": {},
     "output_type": "display_data"
    }
   ],
   "source": [
    "1178/dim(seg_glm_expiry_exptest)[1]"
   ]
  },
  {
   "cell_type": "code",
   "execution_count": 25,
   "metadata": {},
   "outputs": [],
   "source": [
    "seg_glm_expiry_exptest_pred_df = data.frame(\"actual\" = expiry_test_df$renewal_status,\n",
    "          \"predicted\" = seg_glm_expiry_exptest$first_renewal_prediction)"
   ]
  },
  {
   "cell_type": "code",
   "execution_count": 26,
   "metadata": {},
   "outputs": [
    {
     "name": "stdout",
     "output_type": "stream",
     "text": [
      "lift df: 1.63 sec elapsed\n",
      "gains plot: 0.03 sec elapsed\n",
      "auc: 0.005 sec elapsed\n"
     ]
    }
   ],
   "source": [
    "# lift df: 1.63 sec elapsed\n",
    "# gains plot: 0.03 sec elapsed\n",
    "# auc: 0.005 sec elapsed\n",
    "\n",
    "tic(\"lift df\")\n",
    "lift_df_seg_glm_expiry_exptest <- chart_lift(pred_df = seg_glm_expiry_exptest_pred_df,\n",
    "                        dep_var = \"actual\",\n",
    "                        pred_var = \"predicted\")\n",
    "\n",
    "toc()\n",
    "tic(\"gains plot\")\n",
    "gains_plot_seg_glm_expiry_exptest <- plot_gains (lift_df_seg_glm_expiry_exptest) \n",
    "\n",
    "toc()\n",
    "tic(\"auc\")\n",
    "auc_seg_glm_expiry_exptest<- calc_auc(lift_df_seg_glm_expiry_exptest)\n",
    "toc()\n",
    "\n",
    "\n",
    "saveRDS(lift_df_seg_glm_expiry_exptest, file.path('../../data/',\"lift_df_seg_glm_expiry_exptest\"))"
   ]
  },
  {
   "cell_type": "code",
   "execution_count": 27,
   "metadata": {},
   "outputs": [
    {
     "data": {
      "text/html": [
       "<table>\n",
       "<caption>A data.frame: 10 × 4</caption>\n",
       "<thead>\n",
       "\t<tr><th scope=col>P</th><th scope=col>actu_renwd2</th><th scope=col>gain</th><th scope=col>lift</th></tr>\n",
       "\t<tr><th scope=col>&lt;dbl&gt;</th><th scope=col>&lt;int&gt;</th><th scope=col>&lt;dbl&gt;</th><th scope=col>&lt;dbl&gt;</th></tr>\n",
       "</thead>\n",
       "<tbody>\n",
       "\t<tr><td>0.1</td><td>24105</td><td>0.3948532</td><td>3.948532</td></tr>\n",
       "\t<tr><td>0.2</td><td>42028</td><td>0.6884419</td><td>3.442209</td></tr>\n",
       "\t<tr><td>0.3</td><td>50773</td><td>0.8316898</td><td>2.772299</td></tr>\n",
       "\t<tr><td>0.4</td><td>55148</td><td>0.9033547</td><td>2.258387</td></tr>\n",
       "\t<tr><td>0.5</td><td>57507</td><td>0.9419965</td><td>1.883993</td></tr>\n",
       "\t<tr><td>0.6</td><td>58867</td><td>0.9642740</td><td>1.607123</td></tr>\n",
       "\t<tr><td>0.7</td><td>59725</td><td>0.9783285</td><td>1.397612</td></tr>\n",
       "\t<tr><td>0.8</td><td>60120</td><td>0.9847988</td><td>1.230999</td></tr>\n",
       "\t<tr><td>0.9</td><td>60274</td><td>0.9873215</td><td>1.097024</td></tr>\n",
       "\t<tr><td>1.0</td><td>61048</td><td>1.0000000</td><td>1.000000</td></tr>\n",
       "</tbody>\n",
       "</table>\n"
      ],
      "text/latex": [
       "A data.frame: 10 × 4\n",
       "\\begin{tabular}{llll}\n",
       " P & actu\\_renwd2 & gain & lift\\\\\n",
       " <dbl> & <int> & <dbl> & <dbl>\\\\\n",
       "\\hline\n",
       "\t 0.1 & 24105 & 0.3948532 & 3.948532\\\\\n",
       "\t 0.2 & 42028 & 0.6884419 & 3.442209\\\\\n",
       "\t 0.3 & 50773 & 0.8316898 & 2.772299\\\\\n",
       "\t 0.4 & 55148 & 0.9033547 & 2.258387\\\\\n",
       "\t 0.5 & 57507 & 0.9419965 & 1.883993\\\\\n",
       "\t 0.6 & 58867 & 0.9642740 & 1.607123\\\\\n",
       "\t 0.7 & 59725 & 0.9783285 & 1.397612\\\\\n",
       "\t 0.8 & 60120 & 0.9847988 & 1.230999\\\\\n",
       "\t 0.9 & 60274 & 0.9873215 & 1.097024\\\\\n",
       "\t 1.0 & 61048 & 1.0000000 & 1.000000\\\\\n",
       "\\end{tabular}\n"
      ],
      "text/markdown": [
       "\n",
       "A data.frame: 10 × 4\n",
       "\n",
       "| P &lt;dbl&gt; | actu_renwd2 &lt;int&gt; | gain &lt;dbl&gt; | lift &lt;dbl&gt; |\n",
       "|---|---|---|---|\n",
       "| 0.1 | 24105 | 0.3948532 | 3.948532 |\n",
       "| 0.2 | 42028 | 0.6884419 | 3.442209 |\n",
       "| 0.3 | 50773 | 0.8316898 | 2.772299 |\n",
       "| 0.4 | 55148 | 0.9033547 | 2.258387 |\n",
       "| 0.5 | 57507 | 0.9419965 | 1.883993 |\n",
       "| 0.6 | 58867 | 0.9642740 | 1.607123 |\n",
       "| 0.7 | 59725 | 0.9783285 | 1.397612 |\n",
       "| 0.8 | 60120 | 0.9847988 | 1.230999 |\n",
       "| 0.9 | 60274 | 0.9873215 | 1.097024 |\n",
       "| 1.0 | 61048 | 1.0000000 | 1.000000 |\n",
       "\n"
      ],
      "text/plain": [
       "   P   actu_renwd2 gain      lift    \n",
       "1  0.1 24105       0.3948532 3.948532\n",
       "2  0.2 42028       0.6884419 3.442209\n",
       "3  0.3 50773       0.8316898 2.772299\n",
       "4  0.4 55148       0.9033547 2.258387\n",
       "5  0.5 57507       0.9419965 1.883993\n",
       "6  0.6 58867       0.9642740 1.607123\n",
       "7  0.7 59725       0.9783285 1.397612\n",
       "8  0.8 60120       0.9847988 1.230999\n",
       "9  0.9 60274       0.9873215 1.097024\n",
       "10 1.0 61048       1.0000000 1.000000"
      ]
     },
     "metadata": {},
     "output_type": "display_data"
    }
   ],
   "source": [
    "lift_df_seg_glm_expiry_exptest"
   ]
  },
  {
   "cell_type": "code",
   "execution_count": 30,
   "metadata": {},
   "outputs": [
    {
     "data": {
      "text/html": [
       "<strong>png:</strong> 2"
      ],
      "text/latex": [
       "\\textbf{png:} 2"
      ],
      "text/markdown": [
       "**png:** 2"
      ],
      "text/plain": [
       "png \n",
       "  2 "
      ]
     },
     "metadata": {},
     "output_type": "display_data"
    }
   ],
   "source": [
    "plot_multigains_03_summ4 <- plot_multigains(\n",
    "    lift_df_list=list(\n",
    "        seg_glm = lift_df_segglm, \n",
    "        ben_dtr = lift_df_bendtr,\n",
    "        rf_500tr = lift_df_ranger3,\n",
    "        rf_newd_ex = lift_df_ranger_03_expiry,\n",
    "        seg_newd_ex = lift_df_seg_glm_expiry_exptest),\n",
    "    auc_list = list(\n",
    "        seg_glm = calc_auc(lift_df_segglm), \n",
    "        ben_dtr= calc_auc(lift_df_bendtr), \n",
    "        rf_500tr= calc_auc(lift_df_ranger3),\n",
    "        rf_newd_ex= calc_auc(lift_df_ranger_03_expiry),\n",
    "        seg_newd_ex= calc_auc(lift_df_seg_glm_expiry_exptest)))\n",
    "png(file = \"../../data/output/plot_multigains_03_summ4.png\",\n",
    "    width = 500, height = 375)\n",
    "plot(plot_multigains_03_summ4)\n",
    "dev.off()"
   ]
  },
  {
   "cell_type": "code",
   "execution_count": 31,
   "metadata": {},
   "outputs": [
    {
     "data": {
      "image/png": "[encoded data removed]",
      "text/plain": [
       "plot without title"
      ]
     },
     "metadata": {
      "image/png": {
       "height": 420,
       "width": 420
      },
      "text/plain": {
       "height": 420,
       "width": 420
      }
     },
     "output_type": "display_data"
    }
   ],
   "source": [
    "plot_multigains_03_summ4"
   ]
  },
  {
   "cell_type": "markdown",
   "metadata": {},
   "source": [
    "# but ultimately, client fills NA's with data from \"fallback tables\", which would improve performance. asked client for script"
   ]
  },
  {
   "cell_type": "code",
   "execution_count": 67,
   "metadata": {},
   "outputs": [],
   "source": [
    "# from /scripts/nedata_202005/explore\n",
    "\n",
    "system(\"gsutil cp gs://data_input/npv_fallback_tables /home/jupyter/local/Domains_202003/data/npv_fallback_tables\")"
   ]
  },
  {
   "cell_type": "code",
   "execution_count": 68,
   "metadata": {},
   "outputs": [
    {
     "data": {
      "text/html": [
       "<style>\n",
       ".list-inline {list-style: none; margin:0; padding: 0}\n",
       ".list-inline>li {display: inline-block}\n",
       ".list-inline>li:not(:last-child)::after {content: \"\\00b7\"; padding: 0 .5ex}\n",
       "</style>\n",
       "<ol class=list-inline><li>'npv_fallback_first_final'</li><li>'npv_fallback_first_geo_arpt'</li><li>'npv_fallback_first_geo_arpt_tld'</li><li>'npv_fallback_first_tld_arpt'</li><li>'npv_fallback_second_final'</li><li>'npv_fallback_second_geo'</li><li>'npv_fallback_second_tld_geo'</li><li>'npv_fallback_third_final'</li><li>'npv_fallback_third_geo'</li><li>'npv_fallback_third_tld_geo'</li></ol>\n"
      ],
      "text/latex": [
       "\\begin{enumerate*}\n",
       "\\item 'npv\\_fallback\\_first\\_final'\n",
       "\\item 'npv\\_fallback\\_first\\_geo\\_arpt'\n",
       "\\item 'npv\\_fallback\\_first\\_geo\\_arpt\\_tld'\n",
       "\\item 'npv\\_fallback\\_first\\_tld\\_arpt'\n",
       "\\item 'npv\\_fallback\\_second\\_final'\n",
       "\\item 'npv\\_fallback\\_second\\_geo'\n",
       "\\item 'npv\\_fallback\\_second\\_tld\\_geo'\n",
       "\\item 'npv\\_fallback\\_third\\_final'\n",
       "\\item 'npv\\_fallback\\_third\\_geo'\n",
       "\\item 'npv\\_fallback\\_third\\_tld\\_geo'\n",
       "\\end{enumerate*}\n"
      ],
      "text/markdown": [
       "1. 'npv_fallback_first_final'\n",
       "2. 'npv_fallback_first_geo_arpt'\n",
       "3. 'npv_fallback_first_geo_arpt_tld'\n",
       "4. 'npv_fallback_first_tld_arpt'\n",
       "5. 'npv_fallback_second_final'\n",
       "6. 'npv_fallback_second_geo'\n",
       "7. 'npv_fallback_second_tld_geo'\n",
       "8. 'npv_fallback_third_final'\n",
       "9. 'npv_fallback_third_geo'\n",
       "10. 'npv_fallback_third_tld_geo'\n",
       "\n",
       "\n"
      ],
      "text/plain": [
       " [1] \"npv_fallback_first_final\"        \"npv_fallback_first_geo_arpt\"    \n",
       " [3] \"npv_fallback_first_geo_arpt_tld\" \"npv_fallback_first_tld_arpt\"    \n",
       " [5] \"npv_fallback_second_final\"       \"npv_fallback_second_geo\"        \n",
       " [7] \"npv_fallback_second_tld_geo\"     \"npv_fallback_third_final\"       \n",
       " [9] \"npv_fallback_third_geo\"          \"npv_fallback_third_tld_geo\"     "
      ]
     },
     "metadata": {},
     "output_type": "display_data"
    }
   ],
   "source": [
    "# npv_fallback_tables\t\n",
    "#   fallback tables where we dont have enough training \n",
    "#   data for a particular tld-registrar combination\n",
    "\n",
    "npv_fallback_names <- load(\"/home/jupyter/local/Domains_202003/data/npv_fallback_tables\")\n",
    "npv_fallback_names"
   ]
  },
  {
   "cell_type": "code",
   "execution_count": 64,
   "metadata": {},
   "outputs": [],
   "source": [
    "# [1] \"npv_fallback_first_final\"        \"npv_fallback_first_geo_arpt\"    \n",
    "# [3] \"npv_fallback_first_geo_arpt_tld\" \"npv_fallback_first_tld_arpt\"    \n",
    "# [5] \"npv_fallback_second_final\"       \"npv_fallback_second_geo\"        \n",
    "# [7] \"npv_fallback_second_tld_geo\"     \"npv_fallback_third_final\"       \n",
    "# [9] \"npv_fallback_third_geo\"          \"npv_fallback_third_tld_geo\" "
   ]
  },
  {
   "cell_type": "code",
   "execution_count": 69,
   "metadata": {},
   "outputs": [
    {
     "data": {
      "text/html": [
       "<table>\n",
       "<caption>A grouped_df: 6 × 6</caption>\n",
       "<thead>\n",
       "\t<tr><th scope=col>region</th><th scope=col>reg_arpt_slab</th><th scope=col>expiring_domains</th><th scope=col>renewed_domains</th><th scope=col>renewal_rate</th><th scope=col>index</th></tr>\n",
       "\t<tr><th scope=col>&lt;chr&gt;</th><th scope=col>&lt;fct&gt;</th><th scope=col>&lt;int&gt;</th><th scope=col>&lt;int&gt;</th><th scope=col>&lt;dbl&gt;</th><th scope=col>&lt;chr&gt;</th></tr>\n",
       "</thead>\n",
       "<tbody>\n",
       "\t<tr><td>China</td><td>(-Inf,0]</td><td> 35669</td><td> 2139</td><td>0.060</td><td>China(-Inf,0]</td></tr>\n",
       "\t<tr><td>China</td><td>(0,1]   </td><td>536645</td><td>11052</td><td>0.021</td><td>China(0,1]   </td></tr>\n",
       "\t<tr><td>China</td><td>(1,3]   </td><td> 84869</td><td>12063</td><td>0.142</td><td>China(1,3]   </td></tr>\n",
       "\t<tr><td>China</td><td>(3,5]   </td><td>  1356</td><td>  340</td><td>0.251</td><td>China(3,5]   </td></tr>\n",
       "\t<tr><td>China</td><td>(5,10]  </td><td>   177</td><td>   36</td><td>0.203</td><td>China(5,10]  </td></tr>\n",
       "\t<tr><td>China</td><td>(10,15] </td><td>   427</td><td>  122</td><td>0.286</td><td>China(10,15] </td></tr>\n",
       "</tbody>\n",
       "</table>\n"
      ],
      "text/latex": [
       "A grouped\\_df: 6 × 6\n",
       "\\begin{tabular}{llllll}\n",
       " region & reg\\_arpt\\_slab & expiring\\_domains & renewed\\_domains & renewal\\_rate & index\\\\\n",
       " <chr> & <fct> & <int> & <int> & <dbl> & <chr>\\\\\n",
       "\\hline\n",
       "\t China & (-Inf,0{]} &  35669 &  2139 & 0.060 & China(-Inf,0{]}\\\\\n",
       "\t China & (0,1{]}    & 536645 & 11052 & 0.021 & China(0,1{]}   \\\\\n",
       "\t China & (1,3{]}    &  84869 & 12063 & 0.142 & China(1,3{]}   \\\\\n",
       "\t China & (3,5{]}    &   1356 &   340 & 0.251 & China(3,5{]}   \\\\\n",
       "\t China & (5,10{]}   &    177 &    36 & 0.203 & China(5,10{]}  \\\\\n",
       "\t China & (10,15{]}  &    427 &   122 & 0.286 & China(10,15{]} \\\\\n",
       "\\end{tabular}\n"
      ],
      "text/markdown": [
       "\n",
       "A grouped_df: 6 × 6\n",
       "\n",
       "| region &lt;chr&gt; | reg_arpt_slab &lt;fct&gt; | expiring_domains &lt;int&gt; | renewed_domains &lt;int&gt; | renewal_rate &lt;dbl&gt; | index &lt;chr&gt; |\n",
       "|---|---|---|---|---|---|\n",
       "| China | (-Inf,0] |  35669 |  2139 | 0.060 | China(-Inf,0] |\n",
       "| China | (0,1]    | 536645 | 11052 | 0.021 | China(0,1]    |\n",
       "| China | (1,3]    |  84869 | 12063 | 0.142 | China(1,3]    |\n",
       "| China | (3,5]    |   1356 |   340 | 0.251 | China(3,5]    |\n",
       "| China | (5,10]   |    177 |    36 | 0.203 | China(5,10]   |\n",
       "| China | (10,15]  |    427 |   122 | 0.286 | China(10,15]  |\n",
       "\n"
      ],
      "text/plain": [
       "  region reg_arpt_slab expiring_domains renewed_domains renewal_rate\n",
       "1 China  (-Inf,0]       35669            2139           0.060       \n",
       "2 China  (0,1]         536645           11052           0.021       \n",
       "3 China  (1,3]          84869           12063           0.142       \n",
       "4 China  (3,5]           1356             340           0.251       \n",
       "5 China  (5,10]           177              36           0.203       \n",
       "6 China  (10,15]          427             122           0.286       \n",
       "  index        \n",
       "1 China(-Inf,0]\n",
       "2 China(0,1]   \n",
       "3 China(1,3]   \n",
       "4 China(3,5]   \n",
       "5 China(5,10]  \n",
       "6 China(10,15] "
      ]
     },
     "metadata": {},
     "output_type": "display_data"
    }
   ],
   "source": [
    "head(npv_fallback_first_final)"
   ]
  },
  {
   "cell_type": "code",
   "execution_count": 64,
   "metadata": {},
   "outputs": [
    {
     "name": "stderr",
     "output_type": "stream",
     "text": [
      "Warning message in readChar(con, 5L, useBytes = TRUE):\n",
      "“cannot open compressed file '/home/jupyter/local/Domains_202003/data/npv_fallback_tables', probable reason 'No such file or directory'”\n"
     ]
    },
    {
     "ename": "ERROR",
     "evalue": "Error in readChar(con, 5L, useBytes = TRUE): cannot open the connection\n",
     "output_type": "error",
     "traceback": [
      "Error in readChar(con, 5L, useBytes = TRUE): cannot open the connection\nTraceback:\n",
      "1. load(\"/home/jupyter/local/Domains_202003/data/npv_fallback_tables\")",
      "2. readChar(con, 5L, useBytes = TRUE)"
     ]
    }
   ],
   "source": [
    "# Questions:\n",
    "# not enough training means we also don't have \"day_domains\"?\n",
    "# npv_fallback_first_final, _geo_arpt? renewal rate by country & buy price\n",
    "# npv_fallback_first_final$reg_arpt_slab? reg_arpt: the price at which the domain is bought by the reseller \n",
    "\n",
    "# Using a decision tree means you don't need to retrain a model but we can do better than simply using a \"fall back table\" -- can we confirm this with historical data?"
   ]
  },
  {
   "cell_type": "markdown",
   "metadata": {},
   "source": [
    "# Variable importance"
   ]
  },
  {
   "cell_type": "code",
   "execution_count": 38,
   "metadata": {},
   "outputs": [],
   "source": [
    "# load(\"../../data/output/ranger_03_expiry\") # new expiry data\n",
    "load(\"../../data/ranger_03\") # original data"
   ]
  },
  {
   "cell_type": "code",
   "execution_count": 47,
   "metadata": {},
   "outputs": [
    {
     "data": {
      "text/html": [
       "<table>\n",
       "<caption>A data.frame: 12 × 1</caption>\n",
       "<thead>\n",
       "\t<tr><th></th><th scope=col>round(sort(ranger_03_expiry$variable.importance, decreasing = TRUE), 0)</th></tr>\n",
       "\t<tr><th></th><th scope=col>&lt;dbl&gt;</th></tr>\n",
       "</thead>\n",
       "<tbody>\n",
       "\t<tr><th scope=row>reg_arpt</th><td>265675</td></tr>\n",
       "\t<tr><th scope=row>day_domains</th><td>120616</td></tr>\n",
       "\t<tr><th scope=row>gibb_score</th><td> 99629</td></tr>\n",
       "\t<tr><th scope=row>sld_length</th><td> 43497</td></tr>\n",
       "\t<tr><th scope=row>reseller</th><td> 26344</td></tr>\n",
       "\t<tr><th scope=row>registrar</th><td> 21450</td></tr>\n",
       "\t<tr><th scope=row>pattern_domain_count</th><td> 19572</td></tr>\n",
       "\t<tr><th scope=row>tld</th><td> 17826</td></tr>\n",
       "\t<tr><th scope=row>reseller_country</th><td> 15428</td></tr>\n",
       "\t<tr><th scope=row>sld_type</th><td> 12934</td></tr>\n",
       "\t<tr><th scope=row>reg_period</th><td>  2316</td></tr>\n",
       "\t<tr><th scope=row>region</th><td>  1044</td></tr>\n",
       "</tbody>\n",
       "</table>\n"
      ],
      "text/latex": [
       "A data.frame: 12 × 1\n",
       "\\begin{tabular}{r|l}\n",
       "  & round(sort(ranger\\_03\\_expiry\\$variable.importance, decreasing = TRUE), 0)\\\\\n",
       "  & <dbl>\\\\\n",
       "\\hline\n",
       "\treg\\_arpt & 265675\\\\\n",
       "\tday\\_domains & 120616\\\\\n",
       "\tgibb\\_score &  99629\\\\\n",
       "\tsld\\_length &  43497\\\\\n",
       "\treseller &  26344\\\\\n",
       "\tregistrar &  21450\\\\\n",
       "\tpattern\\_domain\\_count &  19572\\\\\n",
       "\ttld &  17826\\\\\n",
       "\treseller\\_country &  15428\\\\\n",
       "\tsld\\_type &  12934\\\\\n",
       "\treg\\_period &   2316\\\\\n",
       "\tregion &   1044\\\\\n",
       "\\end{tabular}\n"
      ],
      "text/markdown": [
       "\n",
       "A data.frame: 12 × 1\n",
       "\n",
       "| <!--/--> | round(sort(ranger_03_expiry$variable.importance, decreasing = TRUE), 0) &lt;dbl&gt; |\n",
       "|---|---|\n",
       "| reg_arpt | 265675 |\n",
       "| day_domains | 120616 |\n",
       "| gibb_score |  99629 |\n",
       "| sld_length |  43497 |\n",
       "| reseller |  26344 |\n",
       "| registrar |  21450 |\n",
       "| pattern_domain_count |  19572 |\n",
       "| tld |  17826 |\n",
       "| reseller_country |  15428 |\n",
       "| sld_type |  12934 |\n",
       "| reg_period |   2316 |\n",
       "| region |   1044 |\n",
       "\n"
      ],
      "text/plain": [
       "                     round(sort(ranger_03_expiry$variable.importance, decreasing = TRUE), 0)\n",
       "reg_arpt             265675                                                                 \n",
       "day_domains          120616                                                                 \n",
       "gibb_score            99629                                                                 \n",
       "sld_length            43497                                                                 \n",
       "reseller              26344                                                                 \n",
       "registrar             21450                                                                 \n",
       "pattern_domain_count  19572                                                                 \n",
       "tld                   17826                                                                 \n",
       "reseller_country      15428                                                                 \n",
       "sld_type              12934                                                                 \n",
       "reg_period             2316                                                                 \n",
       "region                 1044                                                                 "
      ]
     },
     "metadata": {},
     "output_type": "display_data"
    }
   ],
   "source": [
    "as.data.frame(round(sort(ranger_03_expiry$variable.importance, decreasing=TRUE),0))"
   ]
  },
  {
   "cell_type": "code",
   "execution_count": 46,
   "metadata": {},
   "outputs": [
    {
     "data": {
      "text/html": [
       "<table>\n",
       "<caption>A data.frame: 11 × 1</caption>\n",
       "<thead>\n",
       "\t<tr><th></th><th scope=col>round(sort(ranger_03$variable.importance, decreasing = TRUE), 0)</th></tr>\n",
       "\t<tr><th></th><th scope=col>&lt;dbl&gt;</th></tr>\n",
       "</thead>\n",
       "<tbody>\n",
       "\t<tr><th scope=row>day_domains</th><td>92600</td></tr>\n",
       "\t<tr><th scope=row>gibb_score</th><td>86059</td></tr>\n",
       "\t<tr><th scope=row>sld_length</th><td>28108</td></tr>\n",
       "\t<tr><th scope=row>tld</th><td>25682</td></tr>\n",
       "\t<tr><th scope=row>pattern_domain_count</th><td>15233</td></tr>\n",
       "\t<tr><th scope=row>sld_type</th><td>12202</td></tr>\n",
       "\t<tr><th scope=row>reg_period</th><td>10154</td></tr>\n",
       "\t<tr><th scope=row>registrar</th><td> 8546</td></tr>\n",
       "\t<tr><th scope=row>reseller</th><td> 8537</td></tr>\n",
       "\t<tr><th scope=row>reseller_country</th><td> 1414</td></tr>\n",
       "\t<tr><th scope=row>region</th><td>    0</td></tr>\n",
       "</tbody>\n",
       "</table>\n"
      ],
      "text/latex": [
       "A data.frame: 11 × 1\n",
       "\\begin{tabular}{r|l}\n",
       "  & round(sort(ranger\\_03\\$variable.importance, decreasing = TRUE), 0)\\\\\n",
       "  & <dbl>\\\\\n",
       "\\hline\n",
       "\tday\\_domains & 92600\\\\\n",
       "\tgibb\\_score & 86059\\\\\n",
       "\tsld\\_length & 28108\\\\\n",
       "\ttld & 25682\\\\\n",
       "\tpattern\\_domain\\_count & 15233\\\\\n",
       "\tsld\\_type & 12202\\\\\n",
       "\treg\\_period & 10154\\\\\n",
       "\tregistrar &  8546\\\\\n",
       "\treseller &  8537\\\\\n",
       "\treseller\\_country &  1414\\\\\n",
       "\tregion &     0\\\\\n",
       "\\end{tabular}\n"
      ],
      "text/markdown": [
       "\n",
       "A data.frame: 11 × 1\n",
       "\n",
       "| <!--/--> | round(sort(ranger_03$variable.importance, decreasing = TRUE), 0) &lt;dbl&gt; |\n",
       "|---|---|\n",
       "| day_domains | 92600 |\n",
       "| gibb_score | 86059 |\n",
       "| sld_length | 28108 |\n",
       "| tld | 25682 |\n",
       "| pattern_domain_count | 15233 |\n",
       "| sld_type | 12202 |\n",
       "| reg_period | 10154 |\n",
       "| registrar |  8546 |\n",
       "| reseller |  8537 |\n",
       "| reseller_country |  1414 |\n",
       "| region |     0 |\n",
       "\n"
      ],
      "text/plain": [
       "                     round(sort(ranger_03$variable.importance, decreasing = TRUE), 0)\n",
       "day_domains          92600                                                           \n",
       "gibb_score           86059                                                           \n",
       "sld_length           28108                                                           \n",
       "tld                  25682                                                           \n",
       "pattern_domain_count 15233                                                           \n",
       "sld_type             12202                                                           \n",
       "reg_period           10154                                                           \n",
       "registrar             8546                                                           \n",
       "reseller              8537                                                           \n",
       "reseller_country      1414                                                           \n",
       "region                   0                                                           "
      ]
     },
     "metadata": {},
     "output_type": "display_data"
    }
   ],
   "source": [
    "as.data.frame(round(sort(ranger_03$variable.importance, decreasing=TRUE),0))"
   ]
  },
  {
   "cell_type": "code",
   "execution_count": null,
   "metadata": {},
   "outputs": [],
   "source": []
  }
 ],
 "metadata": {
  "environment": {
   "name": "r-cpu.3-6.m48",
   "type": "gcloud",
   "uri": "gcr.io/deeplearning-platform-release/r-cpu.3-6:m48"
  },
  "kernelspec": {
   "display_name": "R",
   "language": "R",
   "name": "ir"
  },
  "language_info": {
   "codemirror_mode": "r",
   "file_extension": ".r",
   "mimetype": "text/x-r-source",
   "name": "R",
   "pygments_lexer": "r",
   "version": "3.6.3"
  }
 },
 "nbformat": 4,
 "nbformat_minor": 4
}
