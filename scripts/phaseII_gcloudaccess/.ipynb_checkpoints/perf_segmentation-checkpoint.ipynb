{
 "cells": [
  {
   "cell_type": "markdown",
   "metadata": {},
   "source": [
    "# Comparing Performance\n",
    "## seg_glm & ranger_03 on new data\n",
    "## on a per-registrar basis"
   ]
  },
  {
   "cell_type": "markdown",
   "metadata": {},
   "source": [
    "# Load Data, Models, Predictions & Lifts\n",
    "tr_expiry, pf_expiry \n",
    "\n",
    "|           | train                   | test                   | **PREDS**             | **MODELS**                      | **LIFT_DF**          |\n",
    "|-----------|-------------------------|------------------------|-----------------------|---------------------------------|----------------------|\n",
    "| *seg_glm* | expiry_train_prepped_2_1| expiry_test_prepped_2_1| seg_glm_expiry_exptest| first_renewal_model_expiry_train| lift_df_seg_glm_expiry_exptest   \n",
    "| *rf_500*  | expiry_train_df_sub     | expiry_test_df_sub | ranger_predict_03_expiry| ranger_03_expiry                | lift_df_ranger_03_expiry"
   ]
  },
  {
   "cell_type": "code",
   "execution_count": 11,
   "metadata": {},
   "outputs": [],
   "source": [
    "# preds\n",
    "seg_glm_expiry_exptest <- readRDS(\"/home/jupyter/local/Domains_202003/data/seg_glm_expiry_exptest\")\n",
    "load(\"/home/jupyter/local/Domains_202003/data/ranger_predict_03_expiry\")"
   ]
  },
  {
   "cell_type": "code",
   "execution_count": 3,
   "metadata": {},
   "outputs": [
    {
     "name": "stderr",
     "output_type": "stream",
     "text": [
      "\n",
      "Attaching package: ‘dplyr’\n",
      "\n",
      "\n",
      "The following objects are masked from ‘package:stats’:\n",
      "\n",
      "    filter, lag\n",
      "\n",
      "\n",
      "The following objects are masked from ‘package:base’:\n",
      "\n",
      "    intersect, setdiff, setequal, union\n",
      "\n",
      "\n",
      "\n",
      "Attaching package: ‘data.table’\n",
      "\n",
      "\n",
      "The following objects are masked from ‘package:dplyr’:\n",
      "\n",
      "    between, first, last\n",
      "\n",
      "\n"
     ]
    }
   ],
   "source": [
    "source('functions_eval.R')\n",
    "\n",
    "source('load_prep_data_expiry.R')"
   ]
  },
  {
   "cell_type": "code",
   "execution_count": 4,
   "metadata": {},
   "outputs": [
    {
     "name": "stderr",
     "output_type": "stream",
     "text": [
      "Loading required package: grid\n",
      "\n",
      "Loading required package: libcoin\n",
      "\n",
      "Loading required package: mvtnorm\n",
      "\n",
      "Loading required package: lattice\n",
      "\n",
      "randomForest 4.6-14\n",
      "\n",
      "Type rfNews() to see new features/changes/bug fixes.\n",
      "\n",
      "\n",
      "Attaching package: ‘randomForest’\n",
      "\n",
      "\n",
      "The following object is masked from ‘package:ggplot2’:\n",
      "\n",
      "    margin\n",
      "\n",
      "\n",
      "The following object is masked from ‘package:dplyr’:\n",
      "\n",
      "    combine\n",
      "\n",
      "\n",
      "\n",
      "Attaching package: ‘ranger’\n",
      "\n",
      "\n",
      "The following object is masked from ‘package:randomForest’:\n",
      "\n",
      "    importance\n",
      "\n",
      "\n",
      "\n",
      "Attaching package: ‘plotly’\n",
      "\n",
      "\n",
      "The following object is masked from ‘package:ggplot2’:\n",
      "\n",
      "    last_plot\n",
      "\n",
      "\n",
      "The following object is masked from ‘package:stats’:\n",
      "\n",
      "    filter\n",
      "\n",
      "\n",
      "The following object is masked from ‘package:graphics’:\n",
      "\n",
      "    layout\n",
      "\n",
      "\n"
     ]
    },
    {
     "data": {
      "text/html": [
       "'/home/jupyter/local/Domains_202003/scripts/phaseII_gcloudaccess'"
      ],
      "text/latex": [
       "'/home/jupyter/local/Domains\\_202003/scripts/phaseII\\_gcloudaccess'"
      ],
      "text/markdown": [
       "'/home/jupyter/local/Domains_202003/scripts/phaseII_gcloudaccess'"
      ],
      "text/plain": [
       "[1] \"/home/jupyter/local/Domains_202003/scripts/phaseII_gcloudaccess\""
      ]
     },
     "metadata": {},
     "output_type": "display_data"
    }
   ],
   "source": [
    "library(dplyr)\n",
    "library(data.table)\n",
    "library(partykit)\n",
    "library(tictoc)\n",
    "library(caret)\n",
    "library(e1071)\n",
    "library(randomForest)\n",
    "library(ranger)\n",
    "\n",
    "#for 3d plotting\n",
    "library(akima)\n",
    "library(plotly)\n",
    "\n",
    "# for prep data\n",
    "library(stringr)\n",
    "library(pbapply)\n",
    "library(stringdist)\n",
    "library(data.table)\n",
    "\n",
    "# for metrics\n",
    "library(ROCR)\n",
    "\n",
    "getwd()"
   ]
  },
  {
   "cell_type": "code",
   "execution_count": 5,
   "metadata": {},
   "outputs": [
    {
     "data": {
      "text/html": [
       "<style>\n",
       ".list-inline {list-style: none; margin:0; padding: 0}\n",
       ".list-inline>li {display: inline-block}\n",
       ".list-inline>li:not(:last-child)::after {content: \"\\00b7\"; padding: 0 .5ex}\n",
       "</style>\n",
       "<ol class=list-inline><li>'calc_auc'</li><li>'chart_lift'</li><li>'expiry_test_df_1'</li><li>'expiry_test_df_sub'</li><li>'expiry_test_prepped_2'</li><li>'expiry_test_prepped_2_1'</li><li>'expiry_train_df_1'</li><li>'expiry_train_df_sub'</li><li>'expiry_train_prepped_2'</li><li>'expiry_train_prepped_2_1'</li><li>'plot_gains'</li><li>'plot_multigains'</li><li>'ranger_predict_03_expiry'</li><li>'seg_glm_expiry_exptest'</li></ol>\n"
      ],
      "text/latex": [
       "\\begin{enumerate*}\n",
       "\\item 'calc\\_auc'\n",
       "\\item 'chart\\_lift'\n",
       "\\item 'expiry\\_test\\_df\\_1'\n",
       "\\item 'expiry\\_test\\_df\\_sub'\n",
       "\\item 'expiry\\_test\\_prepped\\_2'\n",
       "\\item 'expiry\\_test\\_prepped\\_2\\_1'\n",
       "\\item 'expiry\\_train\\_df\\_1'\n",
       "\\item 'expiry\\_train\\_df\\_sub'\n",
       "\\item 'expiry\\_train\\_prepped\\_2'\n",
       "\\item 'expiry\\_train\\_prepped\\_2\\_1'\n",
       "\\item 'plot\\_gains'\n",
       "\\item 'plot\\_multigains'\n",
       "\\item 'ranger\\_predict\\_03\\_expiry'\n",
       "\\item 'seg\\_glm\\_expiry\\_exptest'\n",
       "\\end{enumerate*}\n"
      ],
      "text/markdown": [
       "1. 'calc_auc'\n",
       "2. 'chart_lift'\n",
       "3. 'expiry_test_df_1'\n",
       "4. 'expiry_test_df_sub'\n",
       "5. 'expiry_test_prepped_2'\n",
       "6. 'expiry_test_prepped_2_1'\n",
       "7. 'expiry_train_df_1'\n",
       "8. 'expiry_train_df_sub'\n",
       "9. 'expiry_train_prepped_2'\n",
       "10. 'expiry_train_prepped_2_1'\n",
       "11. 'plot_gains'\n",
       "12. 'plot_multigains'\n",
       "13. 'ranger_predict_03_expiry'\n",
       "14. 'seg_glm_expiry_exptest'\n",
       "\n",
       "\n"
      ],
      "text/plain": [
       " [1] \"calc_auc\"                 \"chart_lift\"              \n",
       " [3] \"expiry_test_df_1\"         \"expiry_test_df_sub\"      \n",
       " [5] \"expiry_test_prepped_2\"    \"expiry_test_prepped_2_1\" \n",
       " [7] \"expiry_train_df_1\"        \"expiry_train_df_sub\"     \n",
       " [9] \"expiry_train_prepped_2\"   \"expiry_train_prepped_2_1\"\n",
       "[11] \"plot_gains\"               \"plot_multigains\"         \n",
       "[13] \"ranger_predict_03_expiry\" \"seg_glm_expiry_exptest\"  "
      ]
     },
     "metadata": {},
     "output_type": "display_data"
    }
   ],
   "source": [
    "ls()"
   ]
  },
  {
   "cell_type": "code",
   "execution_count": 14,
   "metadata": {},
   "outputs": [],
   "source": [
    "options(repr.matrix.max.cols=50, repr.matrix.max.rows=100)"
   ]
  },
  {
   "cell_type": "markdown",
   "metadata": {},
   "source": [
    "# seg_glm"
   ]
  },
  {
   "cell_type": "code",
   "execution_count": 13,
   "metadata": {},
   "outputs": [
    {
     "data": {
      "text/html": [
       "<table>\n",
       "<caption>A data.table: 6 × 40</caption>\n",
       "<thead>\n",
       "\t<tr><th scope=col>renewal_type</th><th scope=col>renewed_count</th><th scope=col>expiry_date</th><th scope=col>domain_id</th><th scope=col>domain</th><th scope=col>creation_date</th><th scope=col>status</th><th scope=col>tld</th><th scope=col>registrar</th><th scope=col>reseller</th><th scope=col>reseller_country</th><th scope=col>region</th><th scope=col>reg_period</th><th scope=col>registrant_country</th><th scope=col>renewal_status</th><th scope=col>renew_mbg</th><th scope=col>renew_type</th><th scope=col>autorenew_type</th><th scope=col>renew_date</th><th scope=col>renew_registrar</th><th scope=col>renew_reseller</th><th scope=col>reg_revenue</th><th scope=col>reg_arpt</th><th scope=col>renew_period</th><th scope=col>renew_domain_revenue</th><th scope=col>renew_arpt</th><th scope=col>reg_arpt_org</th><th scope=col>tld_registrar_index</th><th scope=col>sld</th><th scope=col>sld_type</th><th scope=col>sld_length</th><th scope=col>sld_type2</th><th scope=col>day_domains</th><th scope=col>log_reg_arpt</th><th scope=col>gibb_score</th><th scope=col>pattern</th><th scope=col>cluster</th><th scope=col>pattern_score</th><th scope=col>pattern_domain_count</th><th scope=col>first_renewal_prediction</th></tr>\n",
       "\t<tr><th scope=col>&lt;chr&gt;</th><th scope=col>&lt;int&gt;</th><th scope=col>&lt;date&gt;</th><th scope=col>&lt;int&gt;</th><th scope=col>&lt;chr&gt;</th><th scope=col>&lt;date&gt;</th><th scope=col>&lt;chr&gt;</th><th scope=col>&lt;fct&gt;</th><th scope=col>&lt;chr&gt;</th><th scope=col>&lt;chr&gt;</th><th scope=col>&lt;chr&gt;</th><th scope=col>&lt;chr&gt;</th><th scope=col>&lt;int&gt;</th><th scope=col>&lt;chr&gt;</th><th scope=col>&lt;fct&gt;</th><th scope=col>&lt;int&gt;</th><th scope=col>&lt;chr&gt;</th><th scope=col>&lt;chr&gt;</th><th scope=col>&lt;date&gt;</th><th scope=col>&lt;chr&gt;</th><th scope=col>&lt;chr&gt;</th><th scope=col>&lt;dbl&gt;</th><th scope=col>&lt;dbl&gt;</th><th scope=col>&lt;int&gt;</th><th scope=col>&lt;dbl&gt;</th><th scope=col>&lt;dbl&gt;</th><th scope=col>&lt;dbl&gt;</th><th scope=col>&lt;chr&gt;</th><th scope=col>&lt;chr&gt;</th><th scope=col>&lt;fct&gt;</th><th scope=col>&lt;int&gt;</th><th scope=col>&lt;chr&gt;</th><th scope=col>&lt;int&gt;</th><th scope=col>&lt;dbl&gt;</th><th scope=col>&lt;dbl&gt;</th><th scope=col>&lt;chr&gt;</th><th scope=col>&lt;chr&gt;</th><th scope=col>&lt;dbl&gt;</th><th scope=col>&lt;int&gt;</th><th scope=col>&lt;dbl&gt;</th></tr>\n",
       "</thead>\n",
       "<tbody>\n",
       "\t<tr><td>FirstTime</td><td>1</td><td>2020-01-22</td><td> 91639803</td><td><span style=white-space:pre-wrap>segeln.fun   </span></td><td>2019-01-22</td><td>Active</td><td>fun</td><td><span style=white-space:pre-wrap>1&amp;1 internet    </span></td><td><span style=white-space:pre-wrap>1&amp;1 internet    </span></td><td>Germany</td><td>Non China</td><td>1</td><td>NA</td><td><span style=white-space:pre-wrap>Renewed   </span></td><td>0</td><td>auto-renewal</td><td><span style=white-space:pre-wrap>realized  </span></td><td>2020-01-22</td><td><span style=white-space:pre-wrap>1&amp;1 Internet    </span></td><td><span style=white-space:pre-wrap>1&amp;1 Internet    </span></td><td>15</td><td>15</td><td>1</td><td>15</td><td>15</td><td>15</td><td><span style=white-space:pre-wrap>fun1&amp;1 internet    </span></td><td><span style=white-space:pre-wrap>segeln   </span></td><td>l</td><td>6</td><td>6l</td><td>1</td><td>2.708050</td><td>2.23</td><td><span style=white-space:pre-wrap>segeln   </span></td><td>1</td><td>1</td><td>1</td><td>0.8459141</td></tr>\n",
       "\t<tr><td>FirstTime</td><td>1</td><td>2020-03-07</td><td> 95819759</td><td>harzhotel.fun</td><td>2019-03-07</td><td>Active</td><td>fun</td><td><span style=white-space:pre-wrap>1&amp;1 internet    </span></td><td><span style=white-space:pre-wrap>1&amp;1 internet    </span></td><td>Germany</td><td>Non China</td><td>1</td><td>NA</td><td><span style=white-space:pre-wrap>Renewed   </span></td><td>0</td><td>auto-renewal</td><td><span style=white-space:pre-wrap>realized  </span></td><td>2020-03-07</td><td><span style=white-space:pre-wrap>1&amp;1 Internet    </span></td><td><span style=white-space:pre-wrap>1&amp;1 Internet    </span></td><td>15</td><td>15</td><td>1</td><td>15</td><td>15</td><td>15</td><td><span style=white-space:pre-wrap>fun1&amp;1 internet    </span></td><td>harzhotel</td><td>l</td><td>9</td><td>9l</td><td>1</td><td>2.708050</td><td>3.45</td><td>harzhotel</td><td>1</td><td>1</td><td>1</td><td>0.4607455</td></tr>\n",
       "\t<tr><td>FirstTime</td><td>1</td><td>2020-01-15</td><td> 91044973</td><td>movistar.fun </td><td>2019-01-15</td><td>Active</td><td>fun</td><td>10dencehispahard</td><td>10dencehispahard</td><td>Spain  </td><td>Non China</td><td>1</td><td>NA</td><td>Not Renewd</td><td>0</td><td>auto-renewal</td><td>unrealized</td><td>2020-01-15</td><td>10dencehispahard</td><td>10dencehispahard</td><td>15</td><td>15</td><td>1</td><td>15</td><td>15</td><td>15</td><td>fun10dencehispahard</td><td>movistar </td><td>l</td><td>8</td><td>8l</td><td>1</td><td>2.708050</td><td>8.62</td><td>movistar </td><td>1</td><td>1</td><td>1</td><td>       NA</td></tr>\n",
       "\t<tr><td>FirstTime</td><td>1</td><td>2020-02-01</td><td> 92472913</td><td>kuinik.fun   </td><td>2019-02-01</td><td>Active</td><td>fun</td><td>10dencehispahard</td><td>10dencehispahard</td><td>Spain  </td><td>Non China</td><td>1</td><td>NA</td><td>Not Renewd</td><td>0</td><td>auto-renewal</td><td>unrealized</td><td>2020-02-01</td><td>10dencehispahard</td><td>10dencehispahard</td><td>15</td><td>15</td><td>1</td><td>15</td><td>15</td><td>15</td><td>fun10dencehispahard</td><td>kuinik   </td><td>l</td><td>6</td><td>6l</td><td>1</td><td>2.708050</td><td>3.13</td><td>kuinik   </td><td>1</td><td>1</td><td>1</td><td>       NA</td></tr>\n",
       "\t<tr><td>FirstTime</td><td>1</td><td>2020-01-21</td><td> 91532433</td><td>bulgari.fun  </td><td>2019-01-21</td><td>Active</td><td>fun</td><td>1api            </td><td>1api            </td><td>Germany</td><td>Non China</td><td>1</td><td>NA</td><td>Renewed   </td><td>0</td><td>auto-renewal</td><td>realized  </td><td>2020-01-21</td><td>1API            </td><td>1API            </td><td> 5</td><td> 5</td><td>1</td><td>15</td><td>15</td><td> 5</td><td>fun1api            </td><td>bulgari  </td><td>l</td><td>7</td><td>7l</td><td>1</td><td>1.609438</td><td>4.51</td><td>bulgari  </td><td>1</td><td>1</td><td>1</td><td>0.9999971</td></tr>\n",
       "\t<tr><td>FirstTime</td><td>1</td><td>2020-04-24</td><td>101717674</td><td>gotsome.fun  </td><td>2019-04-24</td><td>Active</td><td>fun</td><td>1api            </td><td>1api            </td><td>Germany</td><td>Non China</td><td>1</td><td>NA</td><td>Not Renewd</td><td>0</td><td>auto-renewal</td><td>unrealized</td><td>2020-04-24</td><td>1API            </td><td>1API            </td><td> 5</td><td> 5</td><td>1</td><td>15</td><td>15</td><td> 5</td><td>fun1api            </td><td>gotsome  </td><td>l</td><td>7</td><td>7l</td><td>1</td><td>1.609438</td><td>6.09</td><td>gotsome  </td><td>1</td><td>1</td><td>1</td><td>0.9999992</td></tr>\n",
       "</tbody>\n",
       "</table>\n"
      ],
      "text/latex": [
       "A data.table: 6 × 40\n",
       "\\begin{tabular}{llllllllllllllllllllllllllllllllllllllll}\n",
       " renewal\\_type & renewed\\_count & expiry\\_date & domain\\_id & domain & creation\\_date & status & tld & registrar & reseller & reseller\\_country & region & reg\\_period & registrant\\_country & renewal\\_status & renew\\_mbg & renew\\_type & autorenew\\_type & renew\\_date & renew\\_registrar & renew\\_reseller & reg\\_revenue & reg\\_arpt & renew\\_period & renew\\_domain\\_revenue & renew\\_arpt & reg\\_arpt\\_org & tld\\_registrar\\_index & sld & sld\\_type & sld\\_length & sld\\_type2 & day\\_domains & log\\_reg\\_arpt & gibb\\_score & pattern & cluster & pattern\\_score & pattern\\_domain\\_count & first\\_renewal\\_prediction\\\\\n",
       " <chr> & <int> & <date> & <int> & <chr> & <date> & <chr> & <fct> & <chr> & <chr> & <chr> & <chr> & <int> & <chr> & <fct> & <int> & <chr> & <chr> & <date> & <chr> & <chr> & <dbl> & <dbl> & <int> & <dbl> & <dbl> & <dbl> & <chr> & <chr> & <fct> & <int> & <chr> & <int> & <dbl> & <dbl> & <chr> & <chr> & <dbl> & <int> & <dbl>\\\\\n",
       "\\hline\n",
       "\t FirstTime & 1 & 2020-01-22 &  91639803 & segeln.fun    & 2019-01-22 & Active & fun & 1\\&1 internet     & 1\\&1 internet     & Germany & Non China & 1 & NA & Renewed    & 0 & auto-renewal & realized   & 2020-01-22 & 1\\&1 Internet     & 1\\&1 Internet     & 15 & 15 & 1 & 15 & 15 & 15 & fun1\\&1 internet     & segeln    & l & 6 & 6l & 1 & 2.708050 & 2.23 & segeln    & 1 & 1 & 1 & 0.8459141\\\\\n",
       "\t FirstTime & 1 & 2020-03-07 &  95819759 & harzhotel.fun & 2019-03-07 & Active & fun & 1\\&1 internet     & 1\\&1 internet     & Germany & Non China & 1 & NA & Renewed    & 0 & auto-renewal & realized   & 2020-03-07 & 1\\&1 Internet     & 1\\&1 Internet     & 15 & 15 & 1 & 15 & 15 & 15 & fun1\\&1 internet     & harzhotel & l & 9 & 9l & 1 & 2.708050 & 3.45 & harzhotel & 1 & 1 & 1 & 0.4607455\\\\\n",
       "\t FirstTime & 1 & 2020-01-15 &  91044973 & movistar.fun  & 2019-01-15 & Active & fun & 10dencehispahard & 10dencehispahard & Spain   & Non China & 1 & NA & Not Renewd & 0 & auto-renewal & unrealized & 2020-01-15 & 10dencehispahard & 10dencehispahard & 15 & 15 & 1 & 15 & 15 & 15 & fun10dencehispahard & movistar  & l & 8 & 8l & 1 & 2.708050 & 8.62 & movistar  & 1 & 1 & 1 &        NA\\\\\n",
       "\t FirstTime & 1 & 2020-02-01 &  92472913 & kuinik.fun    & 2019-02-01 & Active & fun & 10dencehispahard & 10dencehispahard & Spain   & Non China & 1 & NA & Not Renewd & 0 & auto-renewal & unrealized & 2020-02-01 & 10dencehispahard & 10dencehispahard & 15 & 15 & 1 & 15 & 15 & 15 & fun10dencehispahard & kuinik    & l & 6 & 6l & 1 & 2.708050 & 3.13 & kuinik    & 1 & 1 & 1 &        NA\\\\\n",
       "\t FirstTime & 1 & 2020-01-21 &  91532433 & bulgari.fun   & 2019-01-21 & Active & fun & 1api             & 1api             & Germany & Non China & 1 & NA & Renewed    & 0 & auto-renewal & realized   & 2020-01-21 & 1API             & 1API             &  5 &  5 & 1 & 15 & 15 &  5 & fun1api             & bulgari   & l & 7 & 7l & 1 & 1.609438 & 4.51 & bulgari   & 1 & 1 & 1 & 0.9999971\\\\\n",
       "\t FirstTime & 1 & 2020-04-24 & 101717674 & gotsome.fun   & 2019-04-24 & Active & fun & 1api             & 1api             & Germany & Non China & 1 & NA & Not Renewd & 0 & auto-renewal & unrealized & 2020-04-24 & 1API             & 1API             &  5 &  5 & 1 & 15 & 15 &  5 & fun1api             & gotsome   & l & 7 & 7l & 1 & 1.609438 & 6.09 & gotsome   & 1 & 1 & 1 & 0.9999992\\\\\n",
       "\\end{tabular}\n"
      ],
      "text/markdown": [
       "\n",
       "A data.table: 6 × 40\n",
       "\n",
       "| renewal_type &lt;chr&gt; | renewed_count &lt;int&gt; | expiry_date &lt;date&gt; | domain_id &lt;int&gt; | domain &lt;chr&gt; | creation_date &lt;date&gt; | status &lt;chr&gt; | tld &lt;fct&gt; | registrar &lt;chr&gt; | reseller &lt;chr&gt; | reseller_country &lt;chr&gt; | region &lt;chr&gt; | reg_period &lt;int&gt; | registrant_country &lt;chr&gt; | renewal_status &lt;fct&gt; | renew_mbg &lt;int&gt; | renew_type &lt;chr&gt; | autorenew_type &lt;chr&gt; | renew_date &lt;date&gt; | renew_registrar &lt;chr&gt; | renew_reseller &lt;chr&gt; | reg_revenue &lt;dbl&gt; | reg_arpt &lt;dbl&gt; | renew_period &lt;int&gt; | renew_domain_revenue &lt;dbl&gt; | renew_arpt &lt;dbl&gt; | reg_arpt_org &lt;dbl&gt; | tld_registrar_index &lt;chr&gt; | sld &lt;chr&gt; | sld_type &lt;fct&gt; | sld_length &lt;int&gt; | sld_type2 &lt;chr&gt; | day_domains &lt;int&gt; | log_reg_arpt &lt;dbl&gt; | gibb_score &lt;dbl&gt; | pattern &lt;chr&gt; | cluster &lt;chr&gt; | pattern_score &lt;dbl&gt; | pattern_domain_count &lt;int&gt; | first_renewal_prediction &lt;dbl&gt; |\n",
       "|---|---|---|---|---|---|---|---|---|---|---|---|---|---|---|---|---|---|---|---|---|---|---|---|---|---|---|---|---|---|---|---|---|---|---|---|---|---|---|---|\n",
       "| FirstTime | 1 | 2020-01-22 |  91639803 | segeln.fun    | 2019-01-22 | Active | fun | 1&amp;1 internet     | 1&amp;1 internet     | Germany | Non China | 1 | NA | Renewed    | 0 | auto-renewal | realized   | 2020-01-22 | 1&amp;1 Internet     | 1&amp;1 Internet     | 15 | 15 | 1 | 15 | 15 | 15 | fun1&amp;1 internet     | segeln    | l | 6 | 6l | 1 | 2.708050 | 2.23 | segeln    | 1 | 1 | 1 | 0.8459141 |\n",
       "| FirstTime | 1 | 2020-03-07 |  95819759 | harzhotel.fun | 2019-03-07 | Active | fun | 1&amp;1 internet     | 1&amp;1 internet     | Germany | Non China | 1 | NA | Renewed    | 0 | auto-renewal | realized   | 2020-03-07 | 1&amp;1 Internet     | 1&amp;1 Internet     | 15 | 15 | 1 | 15 | 15 | 15 | fun1&amp;1 internet     | harzhotel | l | 9 | 9l | 1 | 2.708050 | 3.45 | harzhotel | 1 | 1 | 1 | 0.4607455 |\n",
       "| FirstTime | 1 | 2020-01-15 |  91044973 | movistar.fun  | 2019-01-15 | Active | fun | 10dencehispahard | 10dencehispahard | Spain   | Non China | 1 | NA | Not Renewd | 0 | auto-renewal | unrealized | 2020-01-15 | 10dencehispahard | 10dencehispahard | 15 | 15 | 1 | 15 | 15 | 15 | fun10dencehispahard | movistar  | l | 8 | 8l | 1 | 2.708050 | 8.62 | movistar  | 1 | 1 | 1 |        NA |\n",
       "| FirstTime | 1 | 2020-02-01 |  92472913 | kuinik.fun    | 2019-02-01 | Active | fun | 10dencehispahard | 10dencehispahard | Spain   | Non China | 1 | NA | Not Renewd | 0 | auto-renewal | unrealized | 2020-02-01 | 10dencehispahard | 10dencehispahard | 15 | 15 | 1 | 15 | 15 | 15 | fun10dencehispahard | kuinik    | l | 6 | 6l | 1 | 2.708050 | 3.13 | kuinik    | 1 | 1 | 1 |        NA |\n",
       "| FirstTime | 1 | 2020-01-21 |  91532433 | bulgari.fun   | 2019-01-21 | Active | fun | 1api             | 1api             | Germany | Non China | 1 | NA | Renewed    | 0 | auto-renewal | realized   | 2020-01-21 | 1API             | 1API             |  5 |  5 | 1 | 15 | 15 |  5 | fun1api             | bulgari   | l | 7 | 7l | 1 | 1.609438 | 4.51 | bulgari   | 1 | 1 | 1 | 0.9999971 |\n",
       "| FirstTime | 1 | 2020-04-24 | 101717674 | gotsome.fun   | 2019-04-24 | Active | fun | 1api             | 1api             | Germany | Non China | 1 | NA | Not Renewd | 0 | auto-renewal | unrealized | 2020-04-24 | 1API             | 1API             |  5 |  5 | 1 | 15 | 15 |  5 | fun1api             | gotsome   | l | 7 | 7l | 1 | 1.609438 | 6.09 | gotsome   | 1 | 1 | 1 | 0.9999992 |\n",
       "\n"
      ],
      "text/plain": [
       "  renewal_type renewed_count expiry_date domain_id domain        creation_date\n",
       "1 FirstTime    1             2020-01-22   91639803 segeln.fun    2019-01-22   \n",
       "2 FirstTime    1             2020-03-07   95819759 harzhotel.fun 2019-03-07   \n",
       "3 FirstTime    1             2020-01-15   91044973 movistar.fun  2019-01-15   \n",
       "4 FirstTime    1             2020-02-01   92472913 kuinik.fun    2019-02-01   \n",
       "5 FirstTime    1             2020-01-21   91532433 bulgari.fun   2019-01-21   \n",
       "6 FirstTime    1             2020-04-24  101717674 gotsome.fun   2019-04-24   \n",
       "  status tld registrar        reseller         reseller_country region   \n",
       "1 Active fun 1&1 internet     1&1 internet     Germany          Non China\n",
       "2 Active fun 1&1 internet     1&1 internet     Germany          Non China\n",
       "3 Active fun 10dencehispahard 10dencehispahard Spain            Non China\n",
       "4 Active fun 10dencehispahard 10dencehispahard Spain            Non China\n",
       "5 Active fun 1api             1api             Germany          Non China\n",
       "6 Active fun 1api             1api             Germany          Non China\n",
       "  reg_period registrant_country renewal_status renew_mbg renew_type  \n",
       "1 1          NA                 Renewed        0         auto-renewal\n",
       "2 1          NA                 Renewed        0         auto-renewal\n",
       "3 1          NA                 Not Renewd     0         auto-renewal\n",
       "4 1          NA                 Not Renewd     0         auto-renewal\n",
       "5 1          NA                 Renewed        0         auto-renewal\n",
       "6 1          NA                 Not Renewd     0         auto-renewal\n",
       "  autorenew_type renew_date renew_registrar  renew_reseller   reg_revenue\n",
       "1 realized       2020-01-22 1&1 Internet     1&1 Internet     15         \n",
       "2 realized       2020-03-07 1&1 Internet     1&1 Internet     15         \n",
       "3 unrealized     2020-01-15 10dencehispahard 10dencehispahard 15         \n",
       "4 unrealized     2020-02-01 10dencehispahard 10dencehispahard 15         \n",
       "5 realized       2020-01-21 1API             1API              5         \n",
       "6 unrealized     2020-04-24 1API             1API              5         \n",
       "  reg_arpt renew_period renew_domain_revenue renew_arpt reg_arpt_org\n",
       "1 15       1            15                   15         15          \n",
       "2 15       1            15                   15         15          \n",
       "3 15       1            15                   15         15          \n",
       "4 15       1            15                   15         15          \n",
       "5  5       1            15                   15          5          \n",
       "6  5       1            15                   15          5          \n",
       "  tld_registrar_index sld       sld_type sld_length sld_type2 day_domains\n",
       "1 fun1&1 internet     segeln    l        6          6l        1          \n",
       "2 fun1&1 internet     harzhotel l        9          9l        1          \n",
       "3 fun10dencehispahard movistar  l        8          8l        1          \n",
       "4 fun10dencehispahard kuinik    l        6          6l        1          \n",
       "5 fun1api             bulgari   l        7          7l        1          \n",
       "6 fun1api             gotsome   l        7          7l        1          \n",
       "  log_reg_arpt gibb_score pattern   cluster pattern_score pattern_domain_count\n",
       "1 2.708050     2.23       segeln    1       1             1                   \n",
       "2 2.708050     3.45       harzhotel 1       1             1                   \n",
       "3 2.708050     8.62       movistar  1       1             1                   \n",
       "4 2.708050     3.13       kuinik    1       1             1                   \n",
       "5 1.609438     4.51       bulgari   1       1             1                   \n",
       "6 1.609438     6.09       gotsome   1       1             1                   \n",
       "  first_renewal_prediction\n",
       "1 0.8459141               \n",
       "2 0.4607455               \n",
       "3        NA               \n",
       "4        NA               \n",
       "5 0.9999971               \n",
       "6 0.9999992               "
      ]
     },
     "metadata": {},
     "output_type": "display_data"
    }
   ],
   "source": [
    "# examine results\n",
    "head(seg_glm_expiry_exptest)"
   ]
  },
  {
   "cell_type": "code",
   "execution_count": 12,
   "metadata": {},
   "outputs": [
    {
     "data": {
      "text/plain": [
       "\n",
       "FirstTime \n",
       "   296797 "
      ]
     },
     "metadata": {},
     "output_type": "display_data"
    }
   ],
   "source": [
    "table(seg_glm_expiry_exptest$renewal_type)"
   ]
  },
  {
   "cell_type": "code",
   "execution_count": 15,
   "metadata": {},
   "outputs": [],
   "source": [
    "iterations = length(unique(seg_glm_expiry_exptest$registrar))\n",
    "variables = 14\n",
    "\n",
    "output <- matrix(ncol=variables, nrow=iterations)\n",
    "\n",
    "for(i in 1:iterations){\n",
    "    reg = unique(seg_glm_expiry_exptest$registrar)[i]\n",
    "    temp = subset(seg_glm_expiry_exptest, registrar==reg)\n",
    "    obs_count = dim(temp)[1]\n",
    "    na_count = sum(is.na(temp$first_renewal_prediction)) # na_count\n",
    "    \n",
    "    if (obs_count>na_count) {\n",
    "        temp = temp[!is.na(temp$first_renewal_prediction)] \n",
    "        temp$Y = factor(as.numeric(temp$renewal_status == \"Renewed\"), levels=c(0,1))\n",
    "        temp$pred = as.numeric(temp$first_renewal_prediction>0.5)\n",
    "        \n",
    "        TP = sum((temp$pred==1) & (temp$Y==1))\n",
    "        TN = sum((temp$pred==0) & (temp$Y==0))\n",
    "        P = sum((temp$Y==1))\n",
    "        N = sum((temp$Y==0))\n",
    "        \n",
    "\n",
    "        pred_obj = prediction(temp$first_renewal_prediction, temp$Y)\n",
    "\n",
    "        perf = performance(pred_obj,'acc')\n",
    "        acc_0.5 = performance(pred_obj,'acc')@y.values[[1]][max(which(performance(pred_obj,'acc')@x.values[[1]] >= 0.5))] # acc_0.5\n",
    "\n",
    "        perf = performance(pred_obj,\"tpr\")\n",
    "        tpr_0.5 = perf@y.values[[1]][max(which(perf@x.values[[1]] >= 0.5))] # tpr_0.5 \n",
    "\n",
    "        perf = performance(pred_obj,\"tnr\")\n",
    "        tnr_0.5 = perf@y.values[[1]][max(which(perf@x.values[[1]] >= 0.5))] # tnr_0.5 \n",
    "\n",
    "        perf = performance(pred_obj,\"fpr\")\n",
    "        fpr_0.5 = perf@y.values[[1]][max(which(perf@x.values[[1]] >= 0.5))] # fpr_0.5 \n",
    "\n",
    "        perf = performance(pred_obj,\"fnr\")\n",
    "        fnr_0.5 = perf@y.values[[1]][max(which(perf@x.values[[1]] >= 0.5))] # fnr_0.5 \n",
    "\n",
    "        auc = NA\n",
    "        aucpr = NA\n",
    "        tryCatch(\n",
    "        {auc = performance(pred_obj,\"auc\")@y.values[[1]]\n",
    "        aucpr = performance(pred_obj,\"aucpr\")@y.values[[1]]},\n",
    "    error = function(e){\n",
    "        # (Optional)\n",
    "        # Do this at the end before quitting the tryCatch structure...\n",
    "    })\n",
    "        \n",
    "        output[i,] <- c(reg, obs_count, na_count, TP, TN, P, N, acc_0.5, tpr_0.5, tnr_0.5, fpr_0.5, fnr_0.5, auc, aucpr )\n",
    "    } else {\n",
    "        output[i,] <- c(reg, obs_count, na_count, rep (NA,11))\n",
    "    } \n",
    "}"
   ]
  },
  {
   "cell_type": "code",
   "execution_count": 20,
   "metadata": {},
   "outputs": [
    {
     "data": {
      "text/html": [
       "<table>\n",
       "<caption>A data.frame: 50 × 14</caption>\n",
       "<thead>\n",
       "\t<tr><th></th><th scope=col>reg</th><th scope=col>obs_count</th><th scope=col>na_count</th><th scope=col>TP</th><th scope=col>TN</th><th scope=col>P</th><th scope=col>N</th><th scope=col>acc_0.5</th><th scope=col>tpr_0.5</th><th scope=col>tnr_0.5</th><th scope=col>fpr_0.5</th><th scope=col>fnr_0.5</th><th scope=col>auc</th><th scope=col>aucpr</th></tr>\n",
       "\t<tr><th></th><th scope=col>&lt;fct&gt;</th><th scope=col>&lt;fct&gt;</th><th scope=col>&lt;fct&gt;</th><th scope=col>&lt;fct&gt;</th><th scope=col>&lt;fct&gt;</th><th scope=col>&lt;fct&gt;</th><th scope=col>&lt;fct&gt;</th><th scope=col>&lt;fct&gt;</th><th scope=col>&lt;fct&gt;</th><th scope=col>&lt;fct&gt;</th><th scope=col>&lt;fct&gt;</th><th scope=col>&lt;fct&gt;</th><th scope=col>&lt;fct&gt;</th><th scope=col>&lt;fct&gt;</th></tr>\n",
       "</thead>\n",
       "<tbody>\n",
       "\t<tr><th scope=row>1</th><td><span style=white-space:pre-wrap>1&amp;1 internet          </span></td><td>2321 </td><td><span style=white-space:pre-wrap>6  </span></td><td>460</td><td><span style=white-space:pre-wrap>863  </span></td><td>1000</td><td>1315 </td><td>0.571490280777538</td><td><span style=white-space:pre-wrap>0.46               </span></td><td>0.656273764258555</td><td><span style=white-space:pre-wrap>0.343726235741445   </span></td><td><span style=white-space:pre-wrap>0.54              </span></td><td>0.587819011406844</td><td>0.486851264976771 </td></tr>\n",
       "\t<tr><th scope=row>2</th><td>10dencehispahard      </td><td>165  </td><td>2  </td><td>2  </td><td>128  </td><td>31  </td><td>132  </td><td>0.797546012269939</td><td>0.0645161290322581 </td><td>0.96969696969697 </td><td>0.0303030303030303  </td><td>0.935483870967742 </td><td>0.706500488758553</td><td>0.348974984750745 </td></tr>\n",
       "\t<tr><th scope=row>3</th><td>1api                  </td><td>190  </td><td>8  </td><td>56 </td><td>45   </td><td>79  </td><td>103  </td><td>0.554945054945055</td><td>0.708860759493671  </td><td>0.436893203883495</td><td>0.563106796116505   </td><td>0.291139240506329 </td><td>0.571033550448569</td><td>0.46988104455093  </td></tr>\n",
       "\t<tr><th scope=row>4</th><td>ascio                 </td><td>647  </td><td>8  </td><td>89 </td><td>300  </td><td>274 </td><td>365  </td><td>0.608763693270736</td><td>0.324817518248175  </td><td>0.821917808219178</td><td>0.178082191780822   </td><td>0.675182481751825 </td><td>0.642855714428557</td><td>0.558515190603268 </td></tr>\n",
       "\t<tr><th scope=row>5</th><td>alibaba               </td><td>30567</td><td>1  </td><td>2  </td><td>29507</td><td>1045</td><td>29521</td><td>0.965419093109992</td><td>0.00191387559808612</td><td>0.999525761322448</td><td>0.000474238677551573</td><td>0.998086124401914 </td><td>0.861912215924738</td><td>0.165704392123854 </td></tr>\n",
       "\t<tr><th scope=row>6</th><td>alibaba sg            </td><td>268  </td><td>1  </td><td>0  </td><td>250  </td><td>17  </td><td>250  </td><td>0.936329588014981</td><td>0                  </td><td>1                </td><td>0                   </td><td>1                 </td><td>0.601529411764706</td><td>0.135296667638456 </td></tr>\n",
       "\t<tr><th scope=row>7</th><td>automattic            </td><td>355  </td><td>0  </td><td>132</td><td>54   </td><td>191 </td><td>164  </td><td>0.523943661971831</td><td>0.691099476439791  </td><td>0.329268292682927</td><td>0.670731707317073   </td><td>0.308900523560209 </td><td>0.503958625973694</td><td>0.522754001638221 </td></tr>\n",
       "\t<tr><th scope=row>8</th><td>bizcn                 </td><td>231  </td><td>11 </td><td>1  </td><td>176  </td><td>24  </td><td>196  </td><td>0.804545454545455</td><td>0.0416666666666667 </td><td>0.897959183673469</td><td>0.102040816326531   </td><td>0.958333333333333 </td><td>0.598001700680272</td><td>0.156782441367867 </td></tr>\n",
       "\t<tr><th scope=row>9</th><td>beget                 </td><td>1373 </td><td>2  </td><td>0  </td><td>1258 </td><td>108 </td><td>1263 </td><td>0.917578409919767</td><td>0                  </td><td>0.996041171813143</td><td>0.00395882818685669 </td><td>1                 </td><td>0.741385883111937</td><td>0.240106011231044 </td></tr>\n",
       "\t<tr><th scope=row>10</th><td>beijing guoxu         </td><td>2    </td><td>2  </td><td>NA </td><td>NA   </td><td>NA  </td><td>NA   </td><td>NA               </td><td>NA                 </td><td>NA               </td><td>NA                  </td><td>NA                </td><td>NA               </td><td>NA                </td></tr>\n",
       "\t<tr><th scope=row>11</th><td>pdr ltd               </td><td>16402</td><td>473</td><td>319</td><td>13537</td><td>2075</td><td>13854</td><td>0.869860003766715</td><td>0.153734939759036  </td><td>0.977118521726577</td><td>0.0228814782734228  </td><td>0.846265060240964 </td><td>0.842250630934306</td><td>0.402771155039652 </td></tr>\n",
       "\t<tr><th scope=row>12</th><td>tucows                </td><td>5727 </td><td>42 </td><td>812</td><td>3398 </td><td>1746</td><td>3939 </td><td>0.740545294635004</td><td>0.465063001145475  </td><td>0.862655496318863</td><td>0.137344503681137   </td><td>0.534936998854525 </td><td>0.768005177467255</td><td>0.560483430475633 </td></tr>\n",
       "\t<tr><th scope=row>13</th><td>chengdu fly           </td><td>69   </td><td>12 </td><td>1  </td><td>51   </td><td>3   </td><td>54   </td><td>0.912280701754386</td><td>0.333333333333333  </td><td>0.944444444444444</td><td>0.0555555555555556  </td><td>0.666666666666667 </td><td>0.688271604938272</td><td>0.314327485380117 </td></tr>\n",
       "\t<tr><th scope=row>14</th><td>chengdu west          </td><td>14040</td><td>1  </td><td>8  </td><td>13679</td><td>356 </td><td>13683</td><td>0.974926989101788</td><td>0.0224719101123595 </td><td>0.999707666447416</td><td>0.000292333552583498</td><td>0.97752808988764  </td><td>0.922530274177634</td><td>0.270396789989196 </td></tr>\n",
       "\t<tr><th scope=row>15</th><td>crazy domains         </td><td>195  </td><td>2  </td><td>30 </td><td>82   </td><td>87  </td><td>106  </td><td>0.580310880829015</td><td>0.344827586206897  </td><td>0.773584905660377</td><td>0.226415094339623   </td><td>0.655172413793103 </td><td>0.589568423335502</td><td>0.521798578750022 </td></tr>\n",
       "\t<tr><th scope=row>16</th><td>cronon ag             </td><td>869  </td><td>0  </td><td>476</td><td>38   </td><td>510 </td><td>359  </td><td>0.591484464902186</td><td>0.933333333333333  </td><td>0.105849582172702</td><td>0.894150417827298   </td><td>0.0666666666666667</td><td>0.559782074389644</td><td>0.637812361193337 </td></tr>\n",
       "\t<tr><th scope=row>17</th><td>csl                   </td><td>216  </td><td>3  </td><td>9  </td><td>132  </td><td>70  </td><td>143  </td><td>0.661971830985915</td><td>0.128571428571429  </td><td>0.923076923076923</td><td>0.0769230769230769  </td><td>0.871428571428571 </td><td>0.699450549450549</td><td>0.472393466198278 </td></tr>\n",
       "\t<tr><th scope=row>18</th><td>key-systems           </td><td>1591 </td><td>17 </td><td>203</td><td>1026 </td><td>412 </td><td>1162 </td><td>0.780813214739517</td><td>0.492718446601942  </td><td>0.882960413080895</td><td>0.117039586919105   </td><td>0.507281553398058 </td><td>0.794892468626238</td><td>0.557980238842995 </td></tr>\n",
       "\t<tr><th scope=row>19</th><td>domain.com - registrar</td><td>1303 </td><td>2  </td><td>240</td><td>540  </td><td>530 </td><td>771  </td><td>0.599538816295158</td><td>0.452830188679245  </td><td>0.700389105058366</td><td>0.299610894941634   </td><td>0.547169811320755 </td><td>0.629240388615619</td><td>0.502662019482723 </td></tr>\n",
       "\t<tr><th scope=row>20</th><td>dotname korea         </td><td>132  </td><td>0  </td><td>0  </td><td>125  </td><td>3   </td><td>129  </td><td>0.946969696969697</td><td>0                  </td><td>0.968992248062015</td><td>0.0310077519379845  </td><td>1                 </td><td>0.344961240310077</td><td>0.183976678379663 </td></tr>\n",
       "\t<tr><th scope=row>21</th><td>dotserve inc          </td><td>1350 </td><td>0  </td><td>33 </td><td>1122 </td><td>225 </td><td>1125 </td><td>0.855555555555556</td><td>0.146666666666667  </td><td>0.997333333333333</td><td>0.00266666666666667 </td><td>0.853333333333333 </td><td>0.703913086419753</td><td>0.553640406342829 </td></tr>\n",
       "\t<tr><th scope=row>22</th><td>enom                  </td><td>3348 </td><td>18 </td><td>145</td><td>2325 </td><td>898 </td><td>2432 </td><td>0.741741741741742</td><td>0.161469933184855  </td><td>0.956003289473684</td><td>0.0439967105263158  </td><td>0.838530066815145 </td><td>0.663975272169147</td><td>0.449461706899777 </td></tr>\n",
       "\t<tr><th scope=row>23</th><td>dynadot               </td><td>4481 </td><td>2  </td><td>4  </td><td>4336 </td><td>133 </td><td>4346 </td><td>0.96896628711766 </td><td>0.0300751879699248 </td><td>0.997699033594109</td><td>0.00230096640589047 </td><td>0.969924812030075 </td><td>0.827643775799331</td><td>0.166854010555977 </td></tr>\n",
       "\t<tr><th scope=row>24</th><td>ejee group            </td><td>8    </td><td>5  </td><td>0  </td><td>2    </td><td>1   </td><td>2    </td><td>0.666666666666667</td><td>0                  </td><td>1                </td><td>0                   </td><td>1                 </td><td>0.25             </td><td>0.666666666666667 </td></tr>\n",
       "\t<tr><th scope=row>25</th><td>epik llc              </td><td>54   </td><td>27 </td><td>1  </td><td>24   </td><td>3   </td><td>24   </td><td>0.925925925925926</td><td>0.333333333333333  </td><td>1                </td><td>0                   </td><td>0.666666666666667 </td><td>0.75             </td><td>0.602272727272727 </td></tr>\n",
       "\t<tr><th scope=row>26</th><td>eranet                </td><td>707  </td><td>274</td><td>1  </td><td>407  </td><td>3   </td><td>430  </td><td>0.942263279445728</td><td>0.333333333333333  </td><td>0.946511627906977</td><td>0.0534883720930233  </td><td>0.666666666666667 </td><td>0.887596899224806</td><td>0.215499108022473 </td></tr>\n",
       "\t<tr><th scope=row>27</th><td>euro dns              </td><td>257  </td><td>3  </td><td>7  </td><td>185  </td><td>62  </td><td>192  </td><td>0.755905511811024</td><td>0.112903225806452  </td><td>0.963541666666667</td><td>0.0364583333333333  </td><td>0.887096774193548 </td><td>0.697832661290322</td><td>0.396783474767991 </td></tr>\n",
       "\t<tr><th scope=row>28</th><td>fbs                   </td><td>5675 </td><td>17 </td><td>0  </td><td>5549 </td><td>108 </td><td>5550 </td><td>0.98073524213503 </td><td>0                  </td><td>0.99981981981982 </td><td>0.00018018018018018 </td><td>1                 </td><td>0.654863196529896</td><td>0.0462273765449629</td></tr>\n",
       "\t<tr><th scope=row>29</th><td>foshan yidong         </td><td>7    </td><td>3  </td><td>0  </td><td>1    </td><td>0   </td><td>4    </td><td>0.25             </td><td>NaN                </td><td>0.25             </td><td>0.75                </td><td>NaN               </td><td>NA               </td><td>NA                </td></tr>\n",
       "\t<tr><th scope=row>30</th><td>gabia                 </td><td>637  </td><td>19 </td><td>2  </td><td>569  </td><td>49  </td><td>569  </td><td>0.923948220064725</td><td>0.0408163265306122 </td><td>1                </td><td>0                   </td><td>0.959183673469388 </td><td>0.610846095907608</td><td>0.191561220798534 </td></tr>\n",
       "\t<tr><th scope=row>31</th><td>gandi sas             </td><td>11686</td><td>2  </td><td>25 </td><td>11249</td><td>410 </td><td>11274</td><td>0.964909277644642</td><td>0.0609756097560976 </td><td>0.997782508426468</td><td>0.00221749157353202 </td><td>0.939024390243902 </td><td>0.924305979222431</td><td>0.332873101964397 </td></tr>\n",
       "\t<tr><th scope=row>32</th><td>global domains        </td><td>542  </td><td>38 </td><td>1  </td><td>488  </td><td>5   </td><td>499  </td><td>0.970238095238095</td><td>0.2                </td><td>0.977955911823647</td><td>0.0220440881763527  </td><td>0.8               </td><td>0.799198396793587</td><td>0.137288114625612 </td></tr>\n",
       "\t<tr><th scope=row>33</th><td>gmo                   </td><td>31494</td><td>8  </td><td>193</td><td>29936</td><td>1362</td><td>30124</td><td>0.956901480022867</td><td>0.141703377386197  </td><td>0.993759128933741</td><td>0.00624087106625946 </td><td>0.858296622613803 </td><td>0.921499054519888</td><td>0.386074136336697 </td></tr>\n",
       "\t<tr><th scope=row>34</th><td>go daddy              </td><td>27537</td><td>0  </td><td>385</td><td>23188</td><td>4035</td><td>23502</td><td>0.856048226023169</td><td>0.0954151177199504 </td><td>0.986639434941707</td><td>0.0133605650582929  </td><td>0.90458488228005  </td><td>0.764926099252595</td><td>0.358132658377875 </td></tr>\n",
       "\t<tr><th scope=row>35</th><td>google                </td><td>854  </td><td>1  </td><td>258</td><td>241  </td><td>401 </td><td>452  </td><td>0.584994138335287</td><td>0.643391521197007  </td><td>0.533185840707965</td><td>0.466814159292035   </td><td>0.356608478802993 </td><td>0.631093725862334</td><td>0.57264322820688  </td></tr>\n",
       "\t<tr><th scope=row>36</th><td>hosting concepts      </td><td>1093 </td><td>11 </td><td>53 </td><td>806  </td><td>238 </td><td>844  </td><td>0.793900184842883</td><td>0.222689075630252  </td><td>0.954976303317536</td><td>0.0450236966824645  </td><td>0.777310924369748 </td><td>0.700207097056831</td><td>0.425131164063332 </td></tr>\n",
       "\t<tr><th scope=row>37</th><td>hosting ukraine       </td><td>1309 </td><td>0  </td><td>2  </td><td>1230 </td><td>75  </td><td>1234 </td><td>0.941176470588235</td><td>0.0266666666666667 </td><td>0.9967585089141  </td><td>0.00324149108589951 </td><td>0.973333333333333 </td><td>0.769011345218795</td><td>0.222282635327215 </td></tr>\n",
       "\t<tr><th scope=row>38</th><td>instra corporation    </td><td>205  </td><td>3  </td><td>7  </td><td>150  </td><td>46  </td><td>156  </td><td>0.777227722772277</td><td>0.152173913043478  </td><td>0.961538461538462</td><td>0.0384615384615385  </td><td>0.847826086956522 </td><td>0.653985507246377</td><td>0.408070257027144 </td></tr>\n",
       "\t<tr><th scope=row>39</th><td>internetworx ltd      </td><td>19   </td><td>3  </td><td>7  </td><td>3    </td><td>9   </td><td>7    </td><td>0.625            </td><td>0.777777777777778  </td><td>0.428571428571429</td><td>0.571428571428571   </td><td>0.222222222222222 </td><td>0.555555555555556</td><td>0.656807158890492 </td></tr>\n",
       "\t<tr><th scope=row>40</th><td>ledl.net              </td><td>62   </td><td>0  </td><td>6  </td><td>36   </td><td>16  </td><td>46   </td><td>0.67741935483871 </td><td>0.375              </td><td>0.782608695652174</td><td>0.217391304347826   </td><td>0.625             </td><td>0.533288043478261</td><td>0.40512062597361  </td></tr>\n",
       "\t<tr><th scope=row>41</th><td>ligne web services    </td><td>268  </td><td>1  </td><td>1  </td><td>249  </td><td>17  </td><td>250  </td><td>0.936329588014981</td><td>0.0588235294117647 </td><td>0.996            </td><td>0.004               </td><td>0.941176470588235 </td><td>0.615764705882353</td><td>0.177869169877228 </td></tr>\n",
       "\t<tr><th scope=row>42</th><td>liquidnet             </td><td>127  </td><td>0  </td><td>3  </td><td>96   </td><td>21  </td><td>106  </td><td>0.779527559055118</td><td>0.142857142857143  </td><td>0.905660377358491</td><td>0.0943396226415094  </td><td>0.857142857142857 </td><td>0.484725965858041</td><td>0.213148241973794 </td></tr>\n",
       "\t<tr><th scope=row>43</th><td>marcaria.com          </td><td>13   </td><td>4  </td><td>4  </td><td>0    </td><td>8   </td><td>1    </td><td>0.444444444444444</td><td>0.5                </td><td>0                </td><td>1                   </td><td>0.5               </td><td>0.1875           </td><td>0.819990079365079 </td></tr>\n",
       "\t<tr><th scope=row>44</th><td>mesh digital          </td><td>462  </td><td>9  </td><td>264</td><td>30   </td><td>280 </td><td>173  </td><td>0.649006622516556</td><td>0.942857142857143  </td><td>0.173410404624277</td><td>0.826589595375723   </td><td>0.0571428571428571</td><td>0.601383154417836</td><td>0.685641387729429 </td></tr>\n",
       "\t<tr><th scope=row>45</th><td>metaregistrar         </td><td>217  </td><td>1  </td><td>99 </td><td>45   </td><td>119 </td><td>97   </td><td>0.666666666666667</td><td>0.831932773109244  </td><td>0.463917525773196</td><td>0.536082474226804   </td><td>0.168067226890756 </td><td>0.689075630252101</td><td>0.695593999770699 </td></tr>\n",
       "\t<tr><th scope=row>46</th><td>name.com              </td><td>841  </td><td>2  </td><td>57 </td><td>513  </td><td>253 </td><td>586  </td><td>0.67938021454112 </td><td>0.225296442687747  </td><td>0.87542662116041 </td><td>0.12457337883959    </td><td>0.774703557312253 </td><td>0.662709600830983</td><td>0.432392412658818 </td></tr>\n",
       "\t<tr><th scope=row>47</th><td>namecheap             </td><td>55117</td><td>0  </td><td>20 </td><td>51750</td><td>3328</td><td>51789</td><td>0.939274633960484</td><td>0.00600961538461538</td><td>0.999246944331808</td><td>0.000753055668192087</td><td>0.993990384615385 </td><td>0.769377627038213</td><td>0.203150023946539 </td></tr>\n",
       "\t<tr><th scope=row>48</th><td>nameshield            </td><td>9    </td><td>6  </td><td>0  </td><td>1    </td><td>2   </td><td>1    </td><td>0.333333333333333</td><td>0                  </td><td>1                </td><td>0                   </td><td>1                 </td><td>1                </td><td>1                 </td></tr>\n",
       "\t<tr><th scope=row>49</th><td>namesilo              </td><td>1501 </td><td>2  </td><td>5  </td><td>1276 </td><td>215 </td><td>1284 </td><td>0.854569713142095</td><td>0.0232558139534884 </td><td>0.993769470404984</td><td>0.00623052959501558 </td><td>0.976744186046512 </td><td>0.713024342534234</td><td>0.298251925718856 </td></tr>\n",
       "\t<tr><th scope=row>50</th><td>ru-center             </td><td>1196 </td><td>5  </td><td>6  </td><td>1002 </td><td>174 </td><td>1017 </td><td>0.846347607052897</td><td>0.0344827586206897 </td><td>0.985250737463127</td><td>0.0147492625368732  </td><td>0.96551724137931  </td><td>0.744733213530889</td><td>0.285362319763972 </td></tr>\n",
       "</tbody>\n",
       "</table>\n"
      ],
      "text/latex": [
       "A data.frame: 50 × 14\n",
       "\\begin{tabular}{r|llllllllllllll}\n",
       "  & reg & obs\\_count & na\\_count & TP & TN & P & N & acc\\_0.5 & tpr\\_0.5 & tnr\\_0.5 & fpr\\_0.5 & fnr\\_0.5 & auc & aucpr\\\\\n",
       "  & <fct> & <fct> & <fct> & <fct> & <fct> & <fct> & <fct> & <fct> & <fct> & <fct> & <fct> & <fct> & <fct> & <fct>\\\\\n",
       "\\hline\n",
       "\t1 & 1\\&1 internet           & 2321  & 6   & 460 & 863   & 1000 & 1315  & 0.571490280777538 & 0.46                & 0.656273764258555 & 0.343726235741445    & 0.54               & 0.587819011406844 & 0.486851264976771 \\\\\n",
       "\t2 & 10dencehispahard       & 165   & 2   & 2   & 128   & 31   & 132   & 0.797546012269939 & 0.0645161290322581  & 0.96969696969697  & 0.0303030303030303   & 0.935483870967742  & 0.706500488758553 & 0.348974984750745 \\\\\n",
       "\t3 & 1api                   & 190   & 8   & 56  & 45    & 79   & 103   & 0.554945054945055 & 0.708860759493671   & 0.436893203883495 & 0.563106796116505    & 0.291139240506329  & 0.571033550448569 & 0.46988104455093  \\\\\n",
       "\t4 & ascio                  & 647   & 8   & 89  & 300   & 274  & 365   & 0.608763693270736 & 0.324817518248175   & 0.821917808219178 & 0.178082191780822    & 0.675182481751825  & 0.642855714428557 & 0.558515190603268 \\\\\n",
       "\t5 & alibaba                & 30567 & 1   & 2   & 29507 & 1045 & 29521 & 0.965419093109992 & 0.00191387559808612 & 0.999525761322448 & 0.000474238677551573 & 0.998086124401914  & 0.861912215924738 & 0.165704392123854 \\\\\n",
       "\t6 & alibaba sg             & 268   & 1   & 0   & 250   & 17   & 250   & 0.936329588014981 & 0                   & 1                 & 0                    & 1                  & 0.601529411764706 & 0.135296667638456 \\\\\n",
       "\t7 & automattic             & 355   & 0   & 132 & 54    & 191  & 164   & 0.523943661971831 & 0.691099476439791   & 0.329268292682927 & 0.670731707317073    & 0.308900523560209  & 0.503958625973694 & 0.522754001638221 \\\\\n",
       "\t8 & bizcn                  & 231   & 11  & 1   & 176   & 24   & 196   & 0.804545454545455 & 0.0416666666666667  & 0.897959183673469 & 0.102040816326531    & 0.958333333333333  & 0.598001700680272 & 0.156782441367867 \\\\\n",
       "\t9 & beget                  & 1373  & 2   & 0   & 1258  & 108  & 1263  & 0.917578409919767 & 0                   & 0.996041171813143 & 0.00395882818685669  & 1                  & 0.741385883111937 & 0.240106011231044 \\\\\n",
       "\t10 & beijing guoxu          & 2     & 2   & NA  & NA    & NA   & NA    & NA                & NA                  & NA                & NA                   & NA                 & NA                & NA                \\\\\n",
       "\t11 & pdr ltd                & 16402 & 473 & 319 & 13537 & 2075 & 13854 & 0.869860003766715 & 0.153734939759036   & 0.977118521726577 & 0.0228814782734228   & 0.846265060240964  & 0.842250630934306 & 0.402771155039652 \\\\\n",
       "\t12 & tucows                 & 5727  & 42  & 812 & 3398  & 1746 & 3939  & 0.740545294635004 & 0.465063001145475   & 0.862655496318863 & 0.137344503681137    & 0.534936998854525  & 0.768005177467255 & 0.560483430475633 \\\\\n",
       "\t13 & chengdu fly            & 69    & 12  & 1   & 51    & 3    & 54    & 0.912280701754386 & 0.333333333333333   & 0.944444444444444 & 0.0555555555555556   & 0.666666666666667  & 0.688271604938272 & 0.314327485380117 \\\\\n",
       "\t14 & chengdu west           & 14040 & 1   & 8   & 13679 & 356  & 13683 & 0.974926989101788 & 0.0224719101123595  & 0.999707666447416 & 0.000292333552583498 & 0.97752808988764   & 0.922530274177634 & 0.270396789989196 \\\\\n",
       "\t15 & crazy domains          & 195   & 2   & 30  & 82    & 87   & 106   & 0.580310880829015 & 0.344827586206897   & 0.773584905660377 & 0.226415094339623    & 0.655172413793103  & 0.589568423335502 & 0.521798578750022 \\\\\n",
       "\t16 & cronon ag              & 869   & 0   & 476 & 38    & 510  & 359   & 0.591484464902186 & 0.933333333333333   & 0.105849582172702 & 0.894150417827298    & 0.0666666666666667 & 0.559782074389644 & 0.637812361193337 \\\\\n",
       "\t17 & csl                    & 216   & 3   & 9   & 132   & 70   & 143   & 0.661971830985915 & 0.128571428571429   & 0.923076923076923 & 0.0769230769230769   & 0.871428571428571  & 0.699450549450549 & 0.472393466198278 \\\\\n",
       "\t18 & key-systems            & 1591  & 17  & 203 & 1026  & 412  & 1162  & 0.780813214739517 & 0.492718446601942   & 0.882960413080895 & 0.117039586919105    & 0.507281553398058  & 0.794892468626238 & 0.557980238842995 \\\\\n",
       "\t19 & domain.com - registrar & 1303  & 2   & 240 & 540   & 530  & 771   & 0.599538816295158 & 0.452830188679245   & 0.700389105058366 & 0.299610894941634    & 0.547169811320755  & 0.629240388615619 & 0.502662019482723 \\\\\n",
       "\t20 & dotname korea          & 132   & 0   & 0   & 125   & 3    & 129   & 0.946969696969697 & 0                   & 0.968992248062015 & 0.0310077519379845   & 1                  & 0.344961240310077 & 0.183976678379663 \\\\\n",
       "\t21 & dotserve inc           & 1350  & 0   & 33  & 1122  & 225  & 1125  & 0.855555555555556 & 0.146666666666667   & 0.997333333333333 & 0.00266666666666667  & 0.853333333333333  & 0.703913086419753 & 0.553640406342829 \\\\\n",
       "\t22 & enom                   & 3348  & 18  & 145 & 2325  & 898  & 2432  & 0.741741741741742 & 0.161469933184855   & 0.956003289473684 & 0.0439967105263158   & 0.838530066815145  & 0.663975272169147 & 0.449461706899777 \\\\\n",
       "\t23 & dynadot                & 4481  & 2   & 4   & 4336  & 133  & 4346  & 0.96896628711766  & 0.0300751879699248  & 0.997699033594109 & 0.00230096640589047  & 0.969924812030075  & 0.827643775799331 & 0.166854010555977 \\\\\n",
       "\t24 & ejee group             & 8     & 5   & 0   & 2     & 1    & 2     & 0.666666666666667 & 0                   & 1                 & 0                    & 1                  & 0.25              & 0.666666666666667 \\\\\n",
       "\t25 & epik llc               & 54    & 27  & 1   & 24    & 3    & 24    & 0.925925925925926 & 0.333333333333333   & 1                 & 0                    & 0.666666666666667  & 0.75              & 0.602272727272727 \\\\\n",
       "\t26 & eranet                 & 707   & 274 & 1   & 407   & 3    & 430   & 0.942263279445728 & 0.333333333333333   & 0.946511627906977 & 0.0534883720930233   & 0.666666666666667  & 0.887596899224806 & 0.215499108022473 \\\\\n",
       "\t27 & euro dns               & 257   & 3   & 7   & 185   & 62   & 192   & 0.755905511811024 & 0.112903225806452   & 0.963541666666667 & 0.0364583333333333   & 0.887096774193548  & 0.697832661290322 & 0.396783474767991 \\\\\n",
       "\t28 & fbs                    & 5675  & 17  & 0   & 5549  & 108  & 5550  & 0.98073524213503  & 0                   & 0.99981981981982  & 0.00018018018018018  & 1                  & 0.654863196529896 & 0.0462273765449629\\\\\n",
       "\t29 & foshan yidong          & 7     & 3   & 0   & 1     & 0    & 4     & 0.25              & NaN                 & 0.25              & 0.75                 & NaN                & NA                & NA                \\\\\n",
       "\t30 & gabia                  & 637   & 19  & 2   & 569   & 49   & 569   & 0.923948220064725 & 0.0408163265306122  & 1                 & 0                    & 0.959183673469388  & 0.610846095907608 & 0.191561220798534 \\\\\n",
       "\t31 & gandi sas              & 11686 & 2   & 25  & 11249 & 410  & 11274 & 0.964909277644642 & 0.0609756097560976  & 0.997782508426468 & 0.00221749157353202  & 0.939024390243902  & 0.924305979222431 & 0.332873101964397 \\\\\n",
       "\t32 & global domains         & 542   & 38  & 1   & 488   & 5    & 499   & 0.970238095238095 & 0.2                 & 0.977955911823647 & 0.0220440881763527   & 0.8                & 0.799198396793587 & 0.137288114625612 \\\\\n",
       "\t33 & gmo                    & 31494 & 8   & 193 & 29936 & 1362 & 30124 & 0.956901480022867 & 0.141703377386197   & 0.993759128933741 & 0.00624087106625946  & 0.858296622613803  & 0.921499054519888 & 0.386074136336697 \\\\\n",
       "\t34 & go daddy               & 27537 & 0   & 385 & 23188 & 4035 & 23502 & 0.856048226023169 & 0.0954151177199504  & 0.986639434941707 & 0.0133605650582929   & 0.90458488228005   & 0.764926099252595 & 0.358132658377875 \\\\\n",
       "\t35 & google                 & 854   & 1   & 258 & 241   & 401  & 452   & 0.584994138335287 & 0.643391521197007   & 0.533185840707965 & 0.466814159292035    & 0.356608478802993  & 0.631093725862334 & 0.57264322820688  \\\\\n",
       "\t36 & hosting concepts       & 1093  & 11  & 53  & 806   & 238  & 844   & 0.793900184842883 & 0.222689075630252   & 0.954976303317536 & 0.0450236966824645   & 0.777310924369748  & 0.700207097056831 & 0.425131164063332 \\\\\n",
       "\t37 & hosting ukraine        & 1309  & 0   & 2   & 1230  & 75   & 1234  & 0.941176470588235 & 0.0266666666666667  & 0.9967585089141   & 0.00324149108589951  & 0.973333333333333  & 0.769011345218795 & 0.222282635327215 \\\\\n",
       "\t38 & instra corporation     & 205   & 3   & 7   & 150   & 46   & 156   & 0.777227722772277 & 0.152173913043478   & 0.961538461538462 & 0.0384615384615385   & 0.847826086956522  & 0.653985507246377 & 0.408070257027144 \\\\\n",
       "\t39 & internetworx ltd       & 19    & 3   & 7   & 3     & 9    & 7     & 0.625             & 0.777777777777778   & 0.428571428571429 & 0.571428571428571    & 0.222222222222222  & 0.555555555555556 & 0.656807158890492 \\\\\n",
       "\t40 & ledl.net               & 62    & 0   & 6   & 36    & 16   & 46    & 0.67741935483871  & 0.375               & 0.782608695652174 & 0.217391304347826    & 0.625              & 0.533288043478261 & 0.40512062597361  \\\\\n",
       "\t41 & ligne web services     & 268   & 1   & 1   & 249   & 17   & 250   & 0.936329588014981 & 0.0588235294117647  & 0.996             & 0.004                & 0.941176470588235  & 0.615764705882353 & 0.177869169877228 \\\\\n",
       "\t42 & liquidnet              & 127   & 0   & 3   & 96    & 21   & 106   & 0.779527559055118 & 0.142857142857143   & 0.905660377358491 & 0.0943396226415094   & 0.857142857142857  & 0.484725965858041 & 0.213148241973794 \\\\\n",
       "\t43 & marcaria.com           & 13    & 4   & 4   & 0     & 8    & 1     & 0.444444444444444 & 0.5                 & 0                 & 1                    & 0.5                & 0.1875            & 0.819990079365079 \\\\\n",
       "\t44 & mesh digital           & 462   & 9   & 264 & 30    & 280  & 173   & 0.649006622516556 & 0.942857142857143   & 0.173410404624277 & 0.826589595375723    & 0.0571428571428571 & 0.601383154417836 & 0.685641387729429 \\\\\n",
       "\t45 & metaregistrar          & 217   & 1   & 99  & 45    & 119  & 97    & 0.666666666666667 & 0.831932773109244   & 0.463917525773196 & 0.536082474226804    & 0.168067226890756  & 0.689075630252101 & 0.695593999770699 \\\\\n",
       "\t46 & name.com               & 841   & 2   & 57  & 513   & 253  & 586   & 0.67938021454112  & 0.225296442687747   & 0.87542662116041  & 0.12457337883959     & 0.774703557312253  & 0.662709600830983 & 0.432392412658818 \\\\\n",
       "\t47 & namecheap              & 55117 & 0   & 20  & 51750 & 3328 & 51789 & 0.939274633960484 & 0.00600961538461538 & 0.999246944331808 & 0.000753055668192087 & 0.993990384615385  & 0.769377627038213 & 0.203150023946539 \\\\\n",
       "\t48 & nameshield             & 9     & 6   & 0   & 1     & 2    & 1     & 0.333333333333333 & 0                   & 1                 & 0                    & 1                  & 1                 & 1                 \\\\\n",
       "\t49 & namesilo               & 1501  & 2   & 5   & 1276  & 215  & 1284  & 0.854569713142095 & 0.0232558139534884  & 0.993769470404984 & 0.00623052959501558  & 0.976744186046512  & 0.713024342534234 & 0.298251925718856 \\\\\n",
       "\t50 & ru-center              & 1196  & 5   & 6   & 1002  & 174  & 1017  & 0.846347607052897 & 0.0344827586206897  & 0.985250737463127 & 0.0147492625368732   & 0.96551724137931   & 0.744733213530889 & 0.285362319763972 \\\\\n",
       "\\end{tabular}\n"
      ],
      "text/markdown": [
       "\n",
       "A data.frame: 50 × 14\n",
       "\n",
       "| <!--/--> | reg &lt;fct&gt; | obs_count &lt;fct&gt; | na_count &lt;fct&gt; | TP &lt;fct&gt; | TN &lt;fct&gt; | P &lt;fct&gt; | N &lt;fct&gt; | acc_0.5 &lt;fct&gt; | tpr_0.5 &lt;fct&gt; | tnr_0.5 &lt;fct&gt; | fpr_0.5 &lt;fct&gt; | fnr_0.5 &lt;fct&gt; | auc &lt;fct&gt; | aucpr &lt;fct&gt; |\n",
       "|---|---|---|---|---|---|---|---|---|---|---|---|---|---|---|\n",
       "| 1 | 1&amp;1 internet           | 2321  | 6   | 460 | 863   | 1000 | 1315  | 0.571490280777538 | 0.46                | 0.656273764258555 | 0.343726235741445    | 0.54               | 0.587819011406844 | 0.486851264976771  |\n",
       "| 2 | 10dencehispahard       | 165   | 2   | 2   | 128   | 31   | 132   | 0.797546012269939 | 0.0645161290322581  | 0.96969696969697  | 0.0303030303030303   | 0.935483870967742  | 0.706500488758553 | 0.348974984750745  |\n",
       "| 3 | 1api                   | 190   | 8   | 56  | 45    | 79   | 103   | 0.554945054945055 | 0.708860759493671   | 0.436893203883495 | 0.563106796116505    | 0.291139240506329  | 0.571033550448569 | 0.46988104455093   |\n",
       "| 4 | ascio                  | 647   | 8   | 89  | 300   | 274  | 365   | 0.608763693270736 | 0.324817518248175   | 0.821917808219178 | 0.178082191780822    | 0.675182481751825  | 0.642855714428557 | 0.558515190603268  |\n",
       "| 5 | alibaba                | 30567 | 1   | 2   | 29507 | 1045 | 29521 | 0.965419093109992 | 0.00191387559808612 | 0.999525761322448 | 0.000474238677551573 | 0.998086124401914  | 0.861912215924738 | 0.165704392123854  |\n",
       "| 6 | alibaba sg             | 268   | 1   | 0   | 250   | 17   | 250   | 0.936329588014981 | 0                   | 1                 | 0                    | 1                  | 0.601529411764706 | 0.135296667638456  |\n",
       "| 7 | automattic             | 355   | 0   | 132 | 54    | 191  | 164   | 0.523943661971831 | 0.691099476439791   | 0.329268292682927 | 0.670731707317073    | 0.308900523560209  | 0.503958625973694 | 0.522754001638221  |\n",
       "| 8 | bizcn                  | 231   | 11  | 1   | 176   | 24   | 196   | 0.804545454545455 | 0.0416666666666667  | 0.897959183673469 | 0.102040816326531    | 0.958333333333333  | 0.598001700680272 | 0.156782441367867  |\n",
       "| 9 | beget                  | 1373  | 2   | 0   | 1258  | 108  | 1263  | 0.917578409919767 | 0                   | 0.996041171813143 | 0.00395882818685669  | 1                  | 0.741385883111937 | 0.240106011231044  |\n",
       "| 10 | beijing guoxu          | 2     | 2   | NA  | NA    | NA   | NA    | NA                | NA                  | NA                | NA                   | NA                 | NA                | NA                 |\n",
       "| 11 | pdr ltd                | 16402 | 473 | 319 | 13537 | 2075 | 13854 | 0.869860003766715 | 0.153734939759036   | 0.977118521726577 | 0.0228814782734228   | 0.846265060240964  | 0.842250630934306 | 0.402771155039652  |\n",
       "| 12 | tucows                 | 5727  | 42  | 812 | 3398  | 1746 | 3939  | 0.740545294635004 | 0.465063001145475   | 0.862655496318863 | 0.137344503681137    | 0.534936998854525  | 0.768005177467255 | 0.560483430475633  |\n",
       "| 13 | chengdu fly            | 69    | 12  | 1   | 51    | 3    | 54    | 0.912280701754386 | 0.333333333333333   | 0.944444444444444 | 0.0555555555555556   | 0.666666666666667  | 0.688271604938272 | 0.314327485380117  |\n",
       "| 14 | chengdu west           | 14040 | 1   | 8   | 13679 | 356  | 13683 | 0.974926989101788 | 0.0224719101123595  | 0.999707666447416 | 0.000292333552583498 | 0.97752808988764   | 0.922530274177634 | 0.270396789989196  |\n",
       "| 15 | crazy domains          | 195   | 2   | 30  | 82    | 87   | 106   | 0.580310880829015 | 0.344827586206897   | 0.773584905660377 | 0.226415094339623    | 0.655172413793103  | 0.589568423335502 | 0.521798578750022  |\n",
       "| 16 | cronon ag              | 869   | 0   | 476 | 38    | 510  | 359   | 0.591484464902186 | 0.933333333333333   | 0.105849582172702 | 0.894150417827298    | 0.0666666666666667 | 0.559782074389644 | 0.637812361193337  |\n",
       "| 17 | csl                    | 216   | 3   | 9   | 132   | 70   | 143   | 0.661971830985915 | 0.128571428571429   | 0.923076923076923 | 0.0769230769230769   | 0.871428571428571  | 0.699450549450549 | 0.472393466198278  |\n",
       "| 18 | key-systems            | 1591  | 17  | 203 | 1026  | 412  | 1162  | 0.780813214739517 | 0.492718446601942   | 0.882960413080895 | 0.117039586919105    | 0.507281553398058  | 0.794892468626238 | 0.557980238842995  |\n",
       "| 19 | domain.com - registrar | 1303  | 2   | 240 | 540   | 530  | 771   | 0.599538816295158 | 0.452830188679245   | 0.700389105058366 | 0.299610894941634    | 0.547169811320755  | 0.629240388615619 | 0.502662019482723  |\n",
       "| 20 | dotname korea          | 132   | 0   | 0   | 125   | 3    | 129   | 0.946969696969697 | 0                   | 0.968992248062015 | 0.0310077519379845   | 1                  | 0.344961240310077 | 0.183976678379663  |\n",
       "| 21 | dotserve inc           | 1350  | 0   | 33  | 1122  | 225  | 1125  | 0.855555555555556 | 0.146666666666667   | 0.997333333333333 | 0.00266666666666667  | 0.853333333333333  | 0.703913086419753 | 0.553640406342829  |\n",
       "| 22 | enom                   | 3348  | 18  | 145 | 2325  | 898  | 2432  | 0.741741741741742 | 0.161469933184855   | 0.956003289473684 | 0.0439967105263158   | 0.838530066815145  | 0.663975272169147 | 0.449461706899777  |\n",
       "| 23 | dynadot                | 4481  | 2   | 4   | 4336  | 133  | 4346  | 0.96896628711766  | 0.0300751879699248  | 0.997699033594109 | 0.00230096640589047  | 0.969924812030075  | 0.827643775799331 | 0.166854010555977  |\n",
       "| 24 | ejee group             | 8     | 5   | 0   | 2     | 1    | 2     | 0.666666666666667 | 0                   | 1                 | 0                    | 1                  | 0.25              | 0.666666666666667  |\n",
       "| 25 | epik llc               | 54    | 27  | 1   | 24    | 3    | 24    | 0.925925925925926 | 0.333333333333333   | 1                 | 0                    | 0.666666666666667  | 0.75              | 0.602272727272727  |\n",
       "| 26 | eranet                 | 707   | 274 | 1   | 407   | 3    | 430   | 0.942263279445728 | 0.333333333333333   | 0.946511627906977 | 0.0534883720930233   | 0.666666666666667  | 0.887596899224806 | 0.215499108022473  |\n",
       "| 27 | euro dns               | 257   | 3   | 7   | 185   | 62   | 192   | 0.755905511811024 | 0.112903225806452   | 0.963541666666667 | 0.0364583333333333   | 0.887096774193548  | 0.697832661290322 | 0.396783474767991  |\n",
       "| 28 | fbs                    | 5675  | 17  | 0   | 5549  | 108  | 5550  | 0.98073524213503  | 0                   | 0.99981981981982  | 0.00018018018018018  | 1                  | 0.654863196529896 | 0.0462273765449629 |\n",
       "| 29 | foshan yidong          | 7     | 3   | 0   | 1     | 0    | 4     | 0.25              | NaN                 | 0.25              | 0.75                 | NaN                | NA                | NA                 |\n",
       "| 30 | gabia                  | 637   | 19  | 2   | 569   | 49   | 569   | 0.923948220064725 | 0.0408163265306122  | 1                 | 0                    | 0.959183673469388  | 0.610846095907608 | 0.191561220798534  |\n",
       "| 31 | gandi sas              | 11686 | 2   | 25  | 11249 | 410  | 11274 | 0.964909277644642 | 0.0609756097560976  | 0.997782508426468 | 0.00221749157353202  | 0.939024390243902  | 0.924305979222431 | 0.332873101964397  |\n",
       "| 32 | global domains         | 542   | 38  | 1   | 488   | 5    | 499   | 0.970238095238095 | 0.2                 | 0.977955911823647 | 0.0220440881763527   | 0.8                | 0.799198396793587 | 0.137288114625612  |\n",
       "| 33 | gmo                    | 31494 | 8   | 193 | 29936 | 1362 | 30124 | 0.956901480022867 | 0.141703377386197   | 0.993759128933741 | 0.00624087106625946  | 0.858296622613803  | 0.921499054519888 | 0.386074136336697  |\n",
       "| 34 | go daddy               | 27537 | 0   | 385 | 23188 | 4035 | 23502 | 0.856048226023169 | 0.0954151177199504  | 0.986639434941707 | 0.0133605650582929   | 0.90458488228005   | 0.764926099252595 | 0.358132658377875  |\n",
       "| 35 | google                 | 854   | 1   | 258 | 241   | 401  | 452   | 0.584994138335287 | 0.643391521197007   | 0.533185840707965 | 0.466814159292035    | 0.356608478802993  | 0.631093725862334 | 0.57264322820688   |\n",
       "| 36 | hosting concepts       | 1093  | 11  | 53  | 806   | 238  | 844   | 0.793900184842883 | 0.222689075630252   | 0.954976303317536 | 0.0450236966824645   | 0.777310924369748  | 0.700207097056831 | 0.425131164063332  |\n",
       "| 37 | hosting ukraine        | 1309  | 0   | 2   | 1230  | 75   | 1234  | 0.941176470588235 | 0.0266666666666667  | 0.9967585089141   | 0.00324149108589951  | 0.973333333333333  | 0.769011345218795 | 0.222282635327215  |\n",
       "| 38 | instra corporation     | 205   | 3   | 7   | 150   | 46   | 156   | 0.777227722772277 | 0.152173913043478   | 0.961538461538462 | 0.0384615384615385   | 0.847826086956522  | 0.653985507246377 | 0.408070257027144  |\n",
       "| 39 | internetworx ltd       | 19    | 3   | 7   | 3     | 9    | 7     | 0.625             | 0.777777777777778   | 0.428571428571429 | 0.571428571428571    | 0.222222222222222  | 0.555555555555556 | 0.656807158890492  |\n",
       "| 40 | ledl.net               | 62    | 0   | 6   | 36    | 16   | 46    | 0.67741935483871  | 0.375               | 0.782608695652174 | 0.217391304347826    | 0.625              | 0.533288043478261 | 0.40512062597361   |\n",
       "| 41 | ligne web services     | 268   | 1   | 1   | 249   | 17   | 250   | 0.936329588014981 | 0.0588235294117647  | 0.996             | 0.004                | 0.941176470588235  | 0.615764705882353 | 0.177869169877228  |\n",
       "| 42 | liquidnet              | 127   | 0   | 3   | 96    | 21   | 106   | 0.779527559055118 | 0.142857142857143   | 0.905660377358491 | 0.0943396226415094   | 0.857142857142857  | 0.484725965858041 | 0.213148241973794  |\n",
       "| 43 | marcaria.com           | 13    | 4   | 4   | 0     | 8    | 1     | 0.444444444444444 | 0.5                 | 0                 | 1                    | 0.5                | 0.1875            | 0.819990079365079  |\n",
       "| 44 | mesh digital           | 462   | 9   | 264 | 30    | 280  | 173   | 0.649006622516556 | 0.942857142857143   | 0.173410404624277 | 0.826589595375723    | 0.0571428571428571 | 0.601383154417836 | 0.685641387729429  |\n",
       "| 45 | metaregistrar          | 217   | 1   | 99  | 45    | 119  | 97    | 0.666666666666667 | 0.831932773109244   | 0.463917525773196 | 0.536082474226804    | 0.168067226890756  | 0.689075630252101 | 0.695593999770699  |\n",
       "| 46 | name.com               | 841   | 2   | 57  | 513   | 253  | 586   | 0.67938021454112  | 0.225296442687747   | 0.87542662116041  | 0.12457337883959     | 0.774703557312253  | 0.662709600830983 | 0.432392412658818  |\n",
       "| 47 | namecheap              | 55117 | 0   | 20  | 51750 | 3328 | 51789 | 0.939274633960484 | 0.00600961538461538 | 0.999246944331808 | 0.000753055668192087 | 0.993990384615385  | 0.769377627038213 | 0.203150023946539  |\n",
       "| 48 | nameshield             | 9     | 6   | 0   | 1     | 2    | 1     | 0.333333333333333 | 0                   | 1                 | 0                    | 1                  | 1                 | 1                  |\n",
       "| 49 | namesilo               | 1501  | 2   | 5   | 1276  | 215  | 1284  | 0.854569713142095 | 0.0232558139534884  | 0.993769470404984 | 0.00623052959501558  | 0.976744186046512  | 0.713024342534234 | 0.298251925718856  |\n",
       "| 50 | ru-center              | 1196  | 5   | 6   | 1002  | 174  | 1017  | 0.846347607052897 | 0.0344827586206897  | 0.985250737463127 | 0.0147492625368732   | 0.96551724137931   | 0.744733213530889 | 0.285362319763972  |\n",
       "\n"
      ],
      "text/plain": [
       "   reg                    obs_count na_count TP  TN    P    N    \n",
       "1  1&1 internet           2321      6        460 863   1000 1315 \n",
       "2  10dencehispahard       165       2        2   128   31   132  \n",
       "3  1api                   190       8        56  45    79   103  \n",
       "4  ascio                  647       8        89  300   274  365  \n",
       "5  alibaba                30567     1        2   29507 1045 29521\n",
       "6  alibaba sg             268       1        0   250   17   250  \n",
       "7  automattic             355       0        132 54    191  164  \n",
       "8  bizcn                  231       11       1   176   24   196  \n",
       "9  beget                  1373      2        0   1258  108  1263 \n",
       "10 beijing guoxu          2         2        NA  NA    NA   NA   \n",
       "11 pdr ltd                16402     473      319 13537 2075 13854\n",
       "12 tucows                 5727      42       812 3398  1746 3939 \n",
       "13 chengdu fly            69        12       1   51    3    54   \n",
       "14 chengdu west           14040     1        8   13679 356  13683\n",
       "15 crazy domains          195       2        30  82    87   106  \n",
       "16 cronon ag              869       0        476 38    510  359  \n",
       "17 csl                    216       3        9   132   70   143  \n",
       "18 key-systems            1591      17       203 1026  412  1162 \n",
       "19 domain.com - registrar 1303      2        240 540   530  771  \n",
       "20 dotname korea          132       0        0   125   3    129  \n",
       "21 dotserve inc           1350      0        33  1122  225  1125 \n",
       "22 enom                   3348      18       145 2325  898  2432 \n",
       "23 dynadot                4481      2        4   4336  133  4346 \n",
       "24 ejee group             8         5        0   2     1    2    \n",
       "25 epik llc               54        27       1   24    3    24   \n",
       "26 eranet                 707       274      1   407   3    430  \n",
       "27 euro dns               257       3        7   185   62   192  \n",
       "28 fbs                    5675      17       0   5549  108  5550 \n",
       "29 foshan yidong          7         3        0   1     0    4    \n",
       "30 gabia                  637       19       2   569   49   569  \n",
       "31 gandi sas              11686     2        25  11249 410  11274\n",
       "32 global domains         542       38       1   488   5    499  \n",
       "33 gmo                    31494     8        193 29936 1362 30124\n",
       "34 go daddy               27537     0        385 23188 4035 23502\n",
       "35 google                 854       1        258 241   401  452  \n",
       "36 hosting concepts       1093      11       53  806   238  844  \n",
       "37 hosting ukraine        1309      0        2   1230  75   1234 \n",
       "38 instra corporation     205       3        7   150   46   156  \n",
       "39 internetworx ltd       19        3        7   3     9    7    \n",
       "40 ledl.net               62        0        6   36    16   46   \n",
       "41 ligne web services     268       1        1   249   17   250  \n",
       "42 liquidnet              127       0        3   96    21   106  \n",
       "43 marcaria.com           13        4        4   0     8    1    \n",
       "44 mesh digital           462       9        264 30    280  173  \n",
       "45 metaregistrar          217       1        99  45    119  97   \n",
       "46 name.com               841       2        57  513   253  586  \n",
       "47 namecheap              55117     0        20  51750 3328 51789\n",
       "48 nameshield             9         6        0   1     2    1    \n",
       "49 namesilo               1501      2        5   1276  215  1284 \n",
       "50 ru-center              1196      5        6   1002  174  1017 \n",
       "   acc_0.5           tpr_0.5             tnr_0.5           fpr_0.5             \n",
       "1  0.571490280777538 0.46                0.656273764258555 0.343726235741445   \n",
       "2  0.797546012269939 0.0645161290322581  0.96969696969697  0.0303030303030303  \n",
       "3  0.554945054945055 0.708860759493671   0.436893203883495 0.563106796116505   \n",
       "4  0.608763693270736 0.324817518248175   0.821917808219178 0.178082191780822   \n",
       "5  0.965419093109992 0.00191387559808612 0.999525761322448 0.000474238677551573\n",
       "6  0.936329588014981 0                   1                 0                   \n",
       "7  0.523943661971831 0.691099476439791   0.329268292682927 0.670731707317073   \n",
       "8  0.804545454545455 0.0416666666666667  0.897959183673469 0.102040816326531   \n",
       "9  0.917578409919767 0                   0.996041171813143 0.00395882818685669 \n",
       "10 NA                NA                  NA                NA                  \n",
       "11 0.869860003766715 0.153734939759036   0.977118521726577 0.0228814782734228  \n",
       "12 0.740545294635004 0.465063001145475   0.862655496318863 0.137344503681137   \n",
       "13 0.912280701754386 0.333333333333333   0.944444444444444 0.0555555555555556  \n",
       "14 0.974926989101788 0.0224719101123595  0.999707666447416 0.000292333552583498\n",
       "15 0.580310880829015 0.344827586206897   0.773584905660377 0.226415094339623   \n",
       "16 0.591484464902186 0.933333333333333   0.105849582172702 0.894150417827298   \n",
       "17 0.661971830985915 0.128571428571429   0.923076923076923 0.0769230769230769  \n",
       "18 0.780813214739517 0.492718446601942   0.882960413080895 0.117039586919105   \n",
       "19 0.599538816295158 0.452830188679245   0.700389105058366 0.299610894941634   \n",
       "20 0.946969696969697 0                   0.968992248062015 0.0310077519379845  \n",
       "21 0.855555555555556 0.146666666666667   0.997333333333333 0.00266666666666667 \n",
       "22 0.741741741741742 0.161469933184855   0.956003289473684 0.0439967105263158  \n",
       "23 0.96896628711766  0.0300751879699248  0.997699033594109 0.00230096640589047 \n",
       "24 0.666666666666667 0                   1                 0                   \n",
       "25 0.925925925925926 0.333333333333333   1                 0                   \n",
       "26 0.942263279445728 0.333333333333333   0.946511627906977 0.0534883720930233  \n",
       "27 0.755905511811024 0.112903225806452   0.963541666666667 0.0364583333333333  \n",
       "28 0.98073524213503  0                   0.99981981981982  0.00018018018018018 \n",
       "29 0.25              NaN                 0.25              0.75                \n",
       "30 0.923948220064725 0.0408163265306122  1                 0                   \n",
       "31 0.964909277644642 0.0609756097560976  0.997782508426468 0.00221749157353202 \n",
       "32 0.970238095238095 0.2                 0.977955911823647 0.0220440881763527  \n",
       "33 0.956901480022867 0.141703377386197   0.993759128933741 0.00624087106625946 \n",
       "34 0.856048226023169 0.0954151177199504  0.986639434941707 0.0133605650582929  \n",
       "35 0.584994138335287 0.643391521197007   0.533185840707965 0.466814159292035   \n",
       "36 0.793900184842883 0.222689075630252   0.954976303317536 0.0450236966824645  \n",
       "37 0.941176470588235 0.0266666666666667  0.9967585089141   0.00324149108589951 \n",
       "38 0.777227722772277 0.152173913043478   0.961538461538462 0.0384615384615385  \n",
       "39 0.625             0.777777777777778   0.428571428571429 0.571428571428571   \n",
       "40 0.67741935483871  0.375               0.782608695652174 0.217391304347826   \n",
       "41 0.936329588014981 0.0588235294117647  0.996             0.004               \n",
       "42 0.779527559055118 0.142857142857143   0.905660377358491 0.0943396226415094  \n",
       "43 0.444444444444444 0.5                 0                 1                   \n",
       "44 0.649006622516556 0.942857142857143   0.173410404624277 0.826589595375723   \n",
       "45 0.666666666666667 0.831932773109244   0.463917525773196 0.536082474226804   \n",
       "46 0.67938021454112  0.225296442687747   0.87542662116041  0.12457337883959    \n",
       "47 0.939274633960484 0.00600961538461538 0.999246944331808 0.000753055668192087\n",
       "48 0.333333333333333 0                   1                 0                   \n",
       "49 0.854569713142095 0.0232558139534884  0.993769470404984 0.00623052959501558 \n",
       "50 0.846347607052897 0.0344827586206897  0.985250737463127 0.0147492625368732  \n",
       "   fnr_0.5            auc               aucpr             \n",
       "1  0.54               0.587819011406844 0.486851264976771 \n",
       "2  0.935483870967742  0.706500488758553 0.348974984750745 \n",
       "3  0.291139240506329  0.571033550448569 0.46988104455093  \n",
       "4  0.675182481751825  0.642855714428557 0.558515190603268 \n",
       "5  0.998086124401914  0.861912215924738 0.165704392123854 \n",
       "6  1                  0.601529411764706 0.135296667638456 \n",
       "7  0.308900523560209  0.503958625973694 0.522754001638221 \n",
       "8  0.958333333333333  0.598001700680272 0.156782441367867 \n",
       "9  1                  0.741385883111937 0.240106011231044 \n",
       "10 NA                 NA                NA                \n",
       "11 0.846265060240964  0.842250630934306 0.402771155039652 \n",
       "12 0.534936998854525  0.768005177467255 0.560483430475633 \n",
       "13 0.666666666666667  0.688271604938272 0.314327485380117 \n",
       "14 0.97752808988764   0.922530274177634 0.270396789989196 \n",
       "15 0.655172413793103  0.589568423335502 0.521798578750022 \n",
       "16 0.0666666666666667 0.559782074389644 0.637812361193337 \n",
       "17 0.871428571428571  0.699450549450549 0.472393466198278 \n",
       "18 0.507281553398058  0.794892468626238 0.557980238842995 \n",
       "19 0.547169811320755  0.629240388615619 0.502662019482723 \n",
       "20 1                  0.344961240310077 0.183976678379663 \n",
       "21 0.853333333333333  0.703913086419753 0.553640406342829 \n",
       "22 0.838530066815145  0.663975272169147 0.449461706899777 \n",
       "23 0.969924812030075  0.827643775799331 0.166854010555977 \n",
       "24 1                  0.25              0.666666666666667 \n",
       "25 0.666666666666667  0.75              0.602272727272727 \n",
       "26 0.666666666666667  0.887596899224806 0.215499108022473 \n",
       "27 0.887096774193548  0.697832661290322 0.396783474767991 \n",
       "28 1                  0.654863196529896 0.0462273765449629\n",
       "29 NaN                NA                NA                \n",
       "30 0.959183673469388  0.610846095907608 0.191561220798534 \n",
       "31 0.939024390243902  0.924305979222431 0.332873101964397 \n",
       "32 0.8                0.799198396793587 0.137288114625612 \n",
       "33 0.858296622613803  0.921499054519888 0.386074136336697 \n",
       "34 0.90458488228005   0.764926099252595 0.358132658377875 \n",
       "35 0.356608478802993  0.631093725862334 0.57264322820688  \n",
       "36 0.777310924369748  0.700207097056831 0.425131164063332 \n",
       "37 0.973333333333333  0.769011345218795 0.222282635327215 \n",
       "38 0.847826086956522  0.653985507246377 0.408070257027144 \n",
       "39 0.222222222222222  0.555555555555556 0.656807158890492 \n",
       "40 0.625              0.533288043478261 0.40512062597361  \n",
       "41 0.941176470588235  0.615764705882353 0.177869169877228 \n",
       "42 0.857142857142857  0.484725965858041 0.213148241973794 \n",
       "43 0.5                0.1875            0.819990079365079 \n",
       "44 0.0571428571428571 0.601383154417836 0.685641387729429 \n",
       "45 0.168067226890756  0.689075630252101 0.695593999770699 \n",
       "46 0.774703557312253  0.662709600830983 0.432392412658818 \n",
       "47 0.993990384615385  0.769377627038213 0.203150023946539 \n",
       "48 1                  1                 1                 \n",
       "49 0.976744186046512  0.713024342534234 0.298251925718856 \n",
       "50 0.96551724137931   0.744733213530889 0.285362319763972 "
      ]
     },
     "metadata": {},
     "output_type": "display_data"
    }
   ],
   "source": [
    "seg_glm_perf_df <- data.frame(output)\n",
    "names(seg_glm_perf_df) <- c('reg', 'obs_count', 'na_count', 'TP', 'TN','P', 'N', 'acc_0.5', 'tpr_0.5', 'tnr_0.5', 'fpr_0.5', 'fnr_0.5', 'auc', 'aucpr')\n",
    "head(seg_glm_perf_df,50)"
   ]
  },
  {
   "cell_type": "code",
   "execution_count": 18,
   "metadata": {},
   "outputs": [
    {
     "data": {
      "text/html": [
       "<table>\n",
       "<caption>A data.frame: 30 × 4</caption>\n",
       "<thead>\n",
       "\t<tr><th></th><th scope=col>reg</th><th scope=col>obs_count</th><th scope=col>na_count</th><th scope=col>aucpr</th></tr>\n",
       "\t<tr><th></th><th scope=col>&lt;fct&gt;</th><th scope=col>&lt;fct&gt;</th><th scope=col>&lt;fct&gt;</th><th scope=col>&lt;fct&gt;</th></tr>\n",
       "</thead>\n",
       "<tbody>\n",
       "\t<tr><th scope=row>1</th><td>nameshield         </td><td>9  </td><td>6 </td><td>1                </td></tr>\n",
       "\t<tr><th scope=row>2</th><td>alpnames           </td><td>3  </td><td>1 </td><td>1                </td></tr>\n",
       "\t<tr><th scope=row>3</th><td>netistrar          </td><td>3  </td><td>0 </td><td>1                </td></tr>\n",
       "\t<tr><th scope=row>4</th><td>tecnocratica centro</td><td>3  </td><td>1 </td><td>1                </td></tr>\n",
       "\t<tr><th scope=row>5</th><td>22net inc          </td><td>51 </td><td>0 </td><td>1                </td></tr>\n",
       "\t<tr><th scope=row>6</th><td>csc corporate      </td><td>25 </td><td>18</td><td>0.988095238095238</td></tr>\n",
       "\t<tr><th scope=row>7</th><td>corehub            </td><td>10 </td><td>2 </td><td>0.972321428571428</td></tr>\n",
       "\t<tr><th scope=row>8</th><td>registrygate       </td><td>18 </td><td>4 </td><td>0.899309718059718</td></tr>\n",
       "\t<tr><th scope=row>9</th><td>paragon internet   </td><td>47 </td><td>0 </td><td>0.878850443062443</td></tr>\n",
       "\t<tr><th scope=row>10</th><td>synergy wholesale  </td><td>10 </td><td>5 </td><td>0.829166666666667</td></tr>\n",
       "\t<tr><th scope=row>11</th><td>freeparking        </td><td>6  </td><td>1 </td><td>0.822222222222222</td></tr>\n",
       "\t<tr><th scope=row>12</th><td>marcaria.com       </td><td>13 </td><td>4 </td><td>0.819990079365079</td></tr>\n",
       "\t<tr><th scope=row>13</th><td>online sas         </td><td>15 </td><td>0 </td><td>0.801041693349386</td></tr>\n",
       "\t<tr><th scope=row>14</th><td>com laude          </td><td>8  </td><td>4 </td><td>0.75             </td></tr>\n",
       "\t<tr><th scope=row>15</th><td>server plan        </td><td>3  </td><td>1 </td><td>0.75             </td></tr>\n",
       "\t<tr><th scope=row>16</th><td>ab name isp        </td><td>15 </td><td>3 </td><td>0.728571428571429</td></tr>\n",
       "\t<tr><th scope=row>17</th><td>internetx          </td><td>150</td><td>5 </td><td>0.719759706428148</td></tr>\n",
       "\t<tr><th scope=row>18</th><td>domeneshop         </td><td>59 </td><td>1 </td><td>0.711347255633956</td></tr>\n",
       "\t<tr><th scope=row>19</th><td>opentld b.v.       </td><td>7  </td><td>2 </td><td>0.704166666666667</td></tr>\n",
       "\t<tr><th scope=row>20</th><td>united domains     </td><td>600</td><td>1 </td><td>0.700135493099502</td></tr>\n",
       "\t<tr><th scope=row>21</th><td>101 domain         </td><td>32 </td><td>6 </td><td>0.699285613771707</td></tr>\n",
       "\t<tr><th scope=row>22</th><td>metaregistrar      </td><td>217</td><td>1 </td><td>0.695593999770699</td></tr>\n",
       "\t<tr><th scope=row>23</th><td>mesh digital       </td><td>462</td><td>9 </td><td>0.685641387729429</td></tr>\n",
       "\t<tr><th scope=row>24</th><td>register.com       </td><td>110</td><td>2 </td><td>0.680896499682939</td></tr>\n",
       "\t<tr><th scope=row>25</th><td>webnames           </td><td>18 </td><td>2 </td><td>0.675            </td></tr>\n",
       "\t<tr><th scope=row>26</th><td>ejee group         </td><td>8  </td><td>5 </td><td>0.666666666666667</td></tr>\n",
       "\t<tr><th scope=row>27</th><td>internetworx ltd   </td><td>19 </td><td>3 </td><td>0.656807158890492</td></tr>\n",
       "\t<tr><th scope=row>28</th><td>cronon ag          </td><td>869</td><td>0 </td><td>0.637812361193337</td></tr>\n",
       "\t<tr><th scope=row>29</th><td>super registry     </td><td>13 </td><td>0 </td><td>0.635461760461761</td></tr>\n",
       "\t<tr><th scope=row>30</th><td>internet gmbh      </td><td>4  </td><td>0 </td><td>0.625            </td></tr>\n",
       "</tbody>\n",
       "</table>\n"
      ],
      "text/latex": [
       "A data.frame: 30 × 4\n",
       "\\begin{tabular}{r|llll}\n",
       "  & reg & obs\\_count & na\\_count & aucpr\\\\\n",
       "  & <fct> & <fct> & <fct> & <fct>\\\\\n",
       "\\hline\n",
       "\t1 & nameshield          & 9   & 6  & 1                \\\\\n",
       "\t2 & alpnames            & 3   & 1  & 1                \\\\\n",
       "\t3 & netistrar           & 3   & 0  & 1                \\\\\n",
       "\t4 & tecnocratica centro & 3   & 1  & 1                \\\\\n",
       "\t5 & 22net inc           & 51  & 0  & 1                \\\\\n",
       "\t6 & csc corporate       & 25  & 18 & 0.988095238095238\\\\\n",
       "\t7 & corehub             & 10  & 2  & 0.972321428571428\\\\\n",
       "\t8 & registrygate        & 18  & 4  & 0.899309718059718\\\\\n",
       "\t9 & paragon internet    & 47  & 0  & 0.878850443062443\\\\\n",
       "\t10 & synergy wholesale   & 10  & 5  & 0.829166666666667\\\\\n",
       "\t11 & freeparking         & 6   & 1  & 0.822222222222222\\\\\n",
       "\t12 & marcaria.com        & 13  & 4  & 0.819990079365079\\\\\n",
       "\t13 & online sas          & 15  & 0  & 0.801041693349386\\\\\n",
       "\t14 & com laude           & 8   & 4  & 0.75             \\\\\n",
       "\t15 & server plan         & 3   & 1  & 0.75             \\\\\n",
       "\t16 & ab name isp         & 15  & 3  & 0.728571428571429\\\\\n",
       "\t17 & internetx           & 150 & 5  & 0.719759706428148\\\\\n",
       "\t18 & domeneshop          & 59  & 1  & 0.711347255633956\\\\\n",
       "\t19 & opentld b.v.        & 7   & 2  & 0.704166666666667\\\\\n",
       "\t20 & united domains      & 600 & 1  & 0.700135493099502\\\\\n",
       "\t21 & 101 domain          & 32  & 6  & 0.699285613771707\\\\\n",
       "\t22 & metaregistrar       & 217 & 1  & 0.695593999770699\\\\\n",
       "\t23 & mesh digital        & 462 & 9  & 0.685641387729429\\\\\n",
       "\t24 & register.com        & 110 & 2  & 0.680896499682939\\\\\n",
       "\t25 & webnames            & 18  & 2  & 0.675            \\\\\n",
       "\t26 & ejee group          & 8   & 5  & 0.666666666666667\\\\\n",
       "\t27 & internetworx ltd    & 19  & 3  & 0.656807158890492\\\\\n",
       "\t28 & cronon ag           & 869 & 0  & 0.637812361193337\\\\\n",
       "\t29 & super registry      & 13  & 0  & 0.635461760461761\\\\\n",
       "\t30 & internet gmbh       & 4   & 0  & 0.625            \\\\\n",
       "\\end{tabular}\n"
      ],
      "text/markdown": [
       "\n",
       "A data.frame: 30 × 4\n",
       "\n",
       "| <!--/--> | reg &lt;fct&gt; | obs_count &lt;fct&gt; | na_count &lt;fct&gt; | aucpr &lt;fct&gt; |\n",
       "|---|---|---|---|---|\n",
       "| 1 | nameshield          | 9   | 6  | 1                 |\n",
       "| 2 | alpnames            | 3   | 1  | 1                 |\n",
       "| 3 | netistrar           | 3   | 0  | 1                 |\n",
       "| 4 | tecnocratica centro | 3   | 1  | 1                 |\n",
       "| 5 | 22net inc           | 51  | 0  | 1                 |\n",
       "| 6 | csc corporate       | 25  | 18 | 0.988095238095238 |\n",
       "| 7 | corehub             | 10  | 2  | 0.972321428571428 |\n",
       "| 8 | registrygate        | 18  | 4  | 0.899309718059718 |\n",
       "| 9 | paragon internet    | 47  | 0  | 0.878850443062443 |\n",
       "| 10 | synergy wholesale   | 10  | 5  | 0.829166666666667 |\n",
       "| 11 | freeparking         | 6   | 1  | 0.822222222222222 |\n",
       "| 12 | marcaria.com        | 13  | 4  | 0.819990079365079 |\n",
       "| 13 | online sas          | 15  | 0  | 0.801041693349386 |\n",
       "| 14 | com laude           | 8   | 4  | 0.75              |\n",
       "| 15 | server plan         | 3   | 1  | 0.75              |\n",
       "| 16 | ab name isp         | 15  | 3  | 0.728571428571429 |\n",
       "| 17 | internetx           | 150 | 5  | 0.719759706428148 |\n",
       "| 18 | domeneshop          | 59  | 1  | 0.711347255633956 |\n",
       "| 19 | opentld b.v.        | 7   | 2  | 0.704166666666667 |\n",
       "| 20 | united domains      | 600 | 1  | 0.700135493099502 |\n",
       "| 21 | 101 domain          | 32  | 6  | 0.699285613771707 |\n",
       "| 22 | metaregistrar       | 217 | 1  | 0.695593999770699 |\n",
       "| 23 | mesh digital        | 462 | 9  | 0.685641387729429 |\n",
       "| 24 | register.com        | 110 | 2  | 0.680896499682939 |\n",
       "| 25 | webnames            | 18  | 2  | 0.675             |\n",
       "| 26 | ejee group          | 8   | 5  | 0.666666666666667 |\n",
       "| 27 | internetworx ltd    | 19  | 3  | 0.656807158890492 |\n",
       "| 28 | cronon ag           | 869 | 0  | 0.637812361193337 |\n",
       "| 29 | super registry      | 13  | 0  | 0.635461760461761 |\n",
       "| 30 | internet gmbh       | 4   | 0  | 0.625             |\n",
       "\n"
      ],
      "text/plain": [
       "   reg                 obs_count na_count aucpr            \n",
       "1  nameshield          9         6        1                \n",
       "2  alpnames            3         1        1                \n",
       "3  netistrar           3         0        1                \n",
       "4  tecnocratica centro 3         1        1                \n",
       "5  22net inc           51        0        1                \n",
       "6  csc corporate       25        18       0.988095238095238\n",
       "7  corehub             10        2        0.972321428571428\n",
       "8  registrygate        18        4        0.899309718059718\n",
       "9  paragon internet    47        0        0.878850443062443\n",
       "10 synergy wholesale   10        5        0.829166666666667\n",
       "11 freeparking         6         1        0.822222222222222\n",
       "12 marcaria.com        13        4        0.819990079365079\n",
       "13 online sas          15        0        0.801041693349386\n",
       "14 com laude           8         4        0.75             \n",
       "15 server plan         3         1        0.75             \n",
       "16 ab name isp         15        3        0.728571428571429\n",
       "17 internetx           150       5        0.719759706428148\n",
       "18 domeneshop          59        1        0.711347255633956\n",
       "19 opentld b.v.        7         2        0.704166666666667\n",
       "20 united domains      600       1        0.700135493099502\n",
       "21 101 domain          32        6        0.699285613771707\n",
       "22 metaregistrar       217       1        0.695593999770699\n",
       "23 mesh digital        462       9        0.685641387729429\n",
       "24 register.com        110       2        0.680896499682939\n",
       "25 webnames            18        2        0.675            \n",
       "26 ejee group          8         5        0.666666666666667\n",
       "27 internetworx ltd    19        3        0.656807158890492\n",
       "28 cronon ag           869       0        0.637812361193337\n",
       "29 super registry      13        0        0.635461760461761\n",
       "30 internet gmbh       4         0        0.625            "
      ]
     },
     "metadata": {},
     "output_type": "display_data"
    }
   ],
   "source": [
    "seg_glm_perf_df %>% arrange(desc(aucpr)) %>% select(reg,obs_count,na_count,aucpr)  %>% head(30)"
   ]
  },
  {
   "cell_type": "code",
   "execution_count": 21,
   "metadata": {},
   "outputs": [
    {
     "data": {
      "text/html": [
       "<table>\n",
       "<caption>A data.frame: 1 × 14</caption>\n",
       "<thead>\n",
       "\t<tr><th></th><th scope=col>reg</th><th scope=col>obs_count</th><th scope=col>na_count</th><th scope=col>TP</th><th scope=col>TN</th><th scope=col>P</th><th scope=col>N</th><th scope=col>acc_0.5</th><th scope=col>tpr_0.5</th><th scope=col>tnr_0.5</th><th scope=col>fpr_0.5</th><th scope=col>fnr_0.5</th><th scope=col>auc</th><th scope=col>aucpr</th></tr>\n",
       "\t<tr><th></th><th scope=col>&lt;fct&gt;</th><th scope=col>&lt;fct&gt;</th><th scope=col>&lt;fct&gt;</th><th scope=col>&lt;fct&gt;</th><th scope=col>&lt;fct&gt;</th><th scope=col>&lt;fct&gt;</th><th scope=col>&lt;fct&gt;</th><th scope=col>&lt;fct&gt;</th><th scope=col>&lt;fct&gt;</th><th scope=col>&lt;fct&gt;</th><th scope=col>&lt;fct&gt;</th><th scope=col>&lt;fct&gt;</th><th scope=col>&lt;fct&gt;</th><th scope=col>&lt;fct&gt;</th></tr>\n",
       "</thead>\n",
       "<tbody>\n",
       "\t<tr><th scope=row>34</th><td>go daddy</td><td>27537</td><td>0</td><td>385</td><td>23188</td><td>4035</td><td>23502</td><td>0.856048226023169</td><td>0.0954151177199504</td><td>0.986639434941707</td><td>0.0133605650582929</td><td>0.90458488228005</td><td>0.764926099252595</td><td>0.358132658377875</td></tr>\n",
       "</tbody>\n",
       "</table>\n"
      ],
      "text/latex": [
       "A data.frame: 1 × 14\n",
       "\\begin{tabular}{r|llllllllllllll}\n",
       "  & reg & obs\\_count & na\\_count & TP & TN & P & N & acc\\_0.5 & tpr\\_0.5 & tnr\\_0.5 & fpr\\_0.5 & fnr\\_0.5 & auc & aucpr\\\\\n",
       "  & <fct> & <fct> & <fct> & <fct> & <fct> & <fct> & <fct> & <fct> & <fct> & <fct> & <fct> & <fct> & <fct> & <fct>\\\\\n",
       "\\hline\n",
       "\t34 & go daddy & 27537 & 0 & 385 & 23188 & 4035 & 23502 & 0.856048226023169 & 0.0954151177199504 & 0.986639434941707 & 0.0133605650582929 & 0.90458488228005 & 0.764926099252595 & 0.358132658377875\\\\\n",
       "\\end{tabular}\n"
      ],
      "text/markdown": [
       "\n",
       "A data.frame: 1 × 14\n",
       "\n",
       "| <!--/--> | reg &lt;fct&gt; | obs_count &lt;fct&gt; | na_count &lt;fct&gt; | TP &lt;fct&gt; | TN &lt;fct&gt; | P &lt;fct&gt; | N &lt;fct&gt; | acc_0.5 &lt;fct&gt; | tpr_0.5 &lt;fct&gt; | tnr_0.5 &lt;fct&gt; | fpr_0.5 &lt;fct&gt; | fnr_0.5 &lt;fct&gt; | auc &lt;fct&gt; | aucpr &lt;fct&gt; |\n",
       "|---|---|---|---|---|---|---|---|---|---|---|---|---|---|---|\n",
       "| 34 | go daddy | 27537 | 0 | 385 | 23188 | 4035 | 23502 | 0.856048226023169 | 0.0954151177199504 | 0.986639434941707 | 0.0133605650582929 | 0.90458488228005 | 0.764926099252595 | 0.358132658377875 |\n",
       "\n"
      ],
      "text/plain": [
       "   reg      obs_count na_count TP  TN    P    N     acc_0.5          \n",
       "34 go daddy 27537     0        385 23188 4035 23502 0.856048226023169\n",
       "   tpr_0.5            tnr_0.5           fpr_0.5            fnr_0.5         \n",
       "34 0.0954151177199504 0.986639434941707 0.0133605650582929 0.90458488228005\n",
       "   auc               aucpr            \n",
       "34 0.764926099252595 0.358132658377875"
      ]
     },
     "metadata": {},
     "output_type": "display_data"
    }
   ],
   "source": [
    "subset(seg_glm_perf_df, reg=='go daddy')"
   ]
  },
  {
   "cell_type": "markdown",
   "metadata": {},
   "source": [
    "# ranger_03"
   ]
  },
  {
   "cell_type": "code",
   "execution_count": 23,
   "metadata": {},
   "outputs": [
    {
     "data": {
      "text/html": [
       "<table>\n",
       "<caption>A data.table: 6 × 13</caption>\n",
       "<thead>\n",
       "\t<tr><th scope=col>renewal_status</th><th scope=col>tld</th><th scope=col>registrar</th><th scope=col>reseller</th><th scope=col>reseller_country</th><th scope=col>region</th><th scope=col>reg_period</th><th scope=col>sld_type</th><th scope=col>sld_length</th><th scope=col>day_domains</th><th scope=col>gibb_score</th><th scope=col>pattern_domain_count</th><th scope=col>reg_arpt</th></tr>\n",
       "\t<tr><th scope=col>&lt;fct&gt;</th><th scope=col>&lt;fct&gt;</th><th scope=col>&lt;chr&gt;</th><th scope=col>&lt;chr&gt;</th><th scope=col>&lt;chr&gt;</th><th scope=col>&lt;chr&gt;</th><th scope=col>&lt;int&gt;</th><th scope=col>&lt;fct&gt;</th><th scope=col>&lt;int&gt;</th><th scope=col>&lt;int&gt;</th><th scope=col>&lt;dbl&gt;</th><th scope=col>&lt;int&gt;</th><th scope=col>&lt;dbl&gt;</th></tr>\n",
       "</thead>\n",
       "<tbody>\n",
       "\t<tr><td><span style=white-space:pre-wrap>Renewed   </span></td><td>fun</td><td><span style=white-space:pre-wrap>1&amp;1 internet    </span></td><td><span style=white-space:pre-wrap>1&amp;1 internet    </span></td><td>Germany</td><td>Non China</td><td>1</td><td>l</td><td>6</td><td>1</td><td>2.23</td><td>1</td><td>15</td></tr>\n",
       "\t<tr><td><span style=white-space:pre-wrap>Renewed   </span></td><td>fun</td><td><span style=white-space:pre-wrap>1&amp;1 internet    </span></td><td><span style=white-space:pre-wrap>1&amp;1 internet    </span></td><td>Germany</td><td>Non China</td><td>1</td><td>l</td><td>9</td><td>1</td><td>3.45</td><td>1</td><td>15</td></tr>\n",
       "\t<tr><td>Not Renewd</td><td>fun</td><td>10dencehispahard</td><td>10dencehispahard</td><td>Spain  </td><td>Non China</td><td>1</td><td>l</td><td>8</td><td>1</td><td>8.62</td><td>1</td><td>15</td></tr>\n",
       "\t<tr><td>Not Renewd</td><td>fun</td><td>10dencehispahard</td><td>10dencehispahard</td><td>Spain  </td><td>Non China</td><td>1</td><td>l</td><td>6</td><td>1</td><td>3.13</td><td>1</td><td>15</td></tr>\n",
       "\t<tr><td>Renewed   </td><td>fun</td><td>1api            </td><td>1api            </td><td>Germany</td><td>Non China</td><td>1</td><td>l</td><td>7</td><td>1</td><td>4.51</td><td>1</td><td> 5</td></tr>\n",
       "\t<tr><td>Not Renewd</td><td>fun</td><td>1api            </td><td>1api            </td><td>Germany</td><td>Non China</td><td>1</td><td>l</td><td>7</td><td>1</td><td>6.09</td><td>1</td><td> 5</td></tr>\n",
       "</tbody>\n",
       "</table>\n"
      ],
      "text/latex": [
       "A data.table: 6 × 13\n",
       "\\begin{tabular}{lllllllllllll}\n",
       " renewal\\_status & tld & registrar & reseller & reseller\\_country & region & reg\\_period & sld\\_type & sld\\_length & day\\_domains & gibb\\_score & pattern\\_domain\\_count & reg\\_arpt\\\\\n",
       " <fct> & <fct> & <chr> & <chr> & <chr> & <chr> & <int> & <fct> & <int> & <int> & <dbl> & <int> & <dbl>\\\\\n",
       "\\hline\n",
       "\t Renewed    & fun & 1\\&1 internet     & 1\\&1 internet     & Germany & Non China & 1 & l & 6 & 1 & 2.23 & 1 & 15\\\\\n",
       "\t Renewed    & fun & 1\\&1 internet     & 1\\&1 internet     & Germany & Non China & 1 & l & 9 & 1 & 3.45 & 1 & 15\\\\\n",
       "\t Not Renewd & fun & 10dencehispahard & 10dencehispahard & Spain   & Non China & 1 & l & 8 & 1 & 8.62 & 1 & 15\\\\\n",
       "\t Not Renewd & fun & 10dencehispahard & 10dencehispahard & Spain   & Non China & 1 & l & 6 & 1 & 3.13 & 1 & 15\\\\\n",
       "\t Renewed    & fun & 1api             & 1api             & Germany & Non China & 1 & l & 7 & 1 & 4.51 & 1 &  5\\\\\n",
       "\t Not Renewd & fun & 1api             & 1api             & Germany & Non China & 1 & l & 7 & 1 & 6.09 & 1 &  5\\\\\n",
       "\\end{tabular}\n"
      ],
      "text/markdown": [
       "\n",
       "A data.table: 6 × 13\n",
       "\n",
       "| renewal_status &lt;fct&gt; | tld &lt;fct&gt; | registrar &lt;chr&gt; | reseller &lt;chr&gt; | reseller_country &lt;chr&gt; | region &lt;chr&gt; | reg_period &lt;int&gt; | sld_type &lt;fct&gt; | sld_length &lt;int&gt; | day_domains &lt;int&gt; | gibb_score &lt;dbl&gt; | pattern_domain_count &lt;int&gt; | reg_arpt &lt;dbl&gt; |\n",
       "|---|---|---|---|---|---|---|---|---|---|---|---|---|\n",
       "| Renewed    | fun | 1&amp;1 internet     | 1&amp;1 internet     | Germany | Non China | 1 | l | 6 | 1 | 2.23 | 1 | 15 |\n",
       "| Renewed    | fun | 1&amp;1 internet     | 1&amp;1 internet     | Germany | Non China | 1 | l | 9 | 1 | 3.45 | 1 | 15 |\n",
       "| Not Renewd | fun | 10dencehispahard | 10dencehispahard | Spain   | Non China | 1 | l | 8 | 1 | 8.62 | 1 | 15 |\n",
       "| Not Renewd | fun | 10dencehispahard | 10dencehispahard | Spain   | Non China | 1 | l | 6 | 1 | 3.13 | 1 | 15 |\n",
       "| Renewed    | fun | 1api             | 1api             | Germany | Non China | 1 | l | 7 | 1 | 4.51 | 1 |  5 |\n",
       "| Not Renewd | fun | 1api             | 1api             | Germany | Non China | 1 | l | 7 | 1 | 6.09 | 1 |  5 |\n",
       "\n"
      ],
      "text/plain": [
       "  renewal_status tld registrar        reseller         reseller_country\n",
       "1 Renewed        fun 1&1 internet     1&1 internet     Germany         \n",
       "2 Renewed        fun 1&1 internet     1&1 internet     Germany         \n",
       "3 Not Renewd     fun 10dencehispahard 10dencehispahard Spain           \n",
       "4 Not Renewd     fun 10dencehispahard 10dencehispahard Spain           \n",
       "5 Renewed        fun 1api             1api             Germany         \n",
       "6 Not Renewd     fun 1api             1api             Germany         \n",
       "  region    reg_period sld_type sld_length day_domains gibb_score\n",
       "1 Non China 1          l        6          1           2.23      \n",
       "2 Non China 1          l        9          1           3.45      \n",
       "3 Non China 1          l        8          1           8.62      \n",
       "4 Non China 1          l        6          1           3.13      \n",
       "5 Non China 1          l        7          1           4.51      \n",
       "6 Non China 1          l        7          1           6.09      \n",
       "  pattern_domain_count reg_arpt\n",
       "1 1                    15      \n",
       "2 1                    15      \n",
       "3 1                    15      \n",
       "4 1                    15      \n",
       "5 1                     5      \n",
       "6 1                     5      "
      ]
     },
     "metadata": {},
     "output_type": "display_data"
    }
   ],
   "source": [
    "head(expiry_test_df_sub)"
   ]
  },
  {
   "cell_type": "code",
   "execution_count": 24,
   "metadata": {},
   "outputs": [
    {
     "data": {
      "text/plain": [
       "\n",
       "FirstTime \n",
       "   296797 "
      ]
     },
     "metadata": {},
     "output_type": "display_data"
    }
   ],
   "source": [
    "table(expiry_test_df_1$renewal_type)"
   ]
  },
  {
   "cell_type": "code",
   "execution_count": 22,
   "metadata": {},
   "outputs": [
    {
     "data": {
      "text/html": [
       "<style>\n",
       ".list-inline {list-style: none; margin:0; padding: 0}\n",
       ".list-inline>li {display: inline-block}\n",
       ".list-inline>li:not(:last-child)::after {content: \"\\00b7\"; padding: 0 .5ex}\n",
       "</style>\n",
       "<ol class=list-inline><li>0.508586390279474</li><li>0.492292087259203</li><li>0.595032497269293</li><li>0.45788487904655</li><li>0.541949387662944</li><li>0.539759115022046</li></ol>\n"
      ],
      "text/latex": [
       "\\begin{enumerate*}\n",
       "\\item 0.508586390279474\n",
       "\\item 0.492292087259203\n",
       "\\item 0.595032497269293\n",
       "\\item 0.45788487904655\n",
       "\\item 0.541949387662944\n",
       "\\item 0.539759115022046\n",
       "\\end{enumerate*}\n"
      ],
      "text/markdown": [
       "1. 0.508586390279474\n",
       "2. 0.492292087259203\n",
       "3. 0.595032497269293\n",
       "4. 0.45788487904655\n",
       "5. 0.541949387662944\n",
       "6. 0.539759115022046\n",
       "\n",
       "\n"
      ],
      "text/plain": [
       "[1] 0.5085864 0.4922921 0.5950325 0.4578849 0.5419494 0.5397591"
      ]
     },
     "metadata": {},
     "output_type": "display_data"
    }
   ],
   "source": [
    "head(ranger_predict_03_expiry)"
   ]
  },
  {
   "cell_type": "code",
   "execution_count": 37,
   "metadata": {},
   "outputs": [],
   "source": [
    "ranger_results <- expiry_test_df_sub\n",
    "ranger_results$predicted <- ranger_predict_03_expiry"
   ]
  },
  {
   "cell_type": "code",
   "execution_count": 38,
   "metadata": {},
   "outputs": [
    {
     "data": {
      "text/html": [
       "<table>\n",
       "<caption>A data.table: 6 × 14</caption>\n",
       "<thead>\n",
       "\t<tr><th scope=col>renewal_status</th><th scope=col>tld</th><th scope=col>registrar</th><th scope=col>reseller</th><th scope=col>reseller_country</th><th scope=col>region</th><th scope=col>reg_period</th><th scope=col>sld_type</th><th scope=col>sld_length</th><th scope=col>day_domains</th><th scope=col>gibb_score</th><th scope=col>pattern_domain_count</th><th scope=col>reg_arpt</th><th scope=col>predicted</th></tr>\n",
       "\t<tr><th scope=col>&lt;fct&gt;</th><th scope=col>&lt;fct&gt;</th><th scope=col>&lt;chr&gt;</th><th scope=col>&lt;chr&gt;</th><th scope=col>&lt;chr&gt;</th><th scope=col>&lt;chr&gt;</th><th scope=col>&lt;int&gt;</th><th scope=col>&lt;fct&gt;</th><th scope=col>&lt;int&gt;</th><th scope=col>&lt;int&gt;</th><th scope=col>&lt;dbl&gt;</th><th scope=col>&lt;int&gt;</th><th scope=col>&lt;dbl&gt;</th><th scope=col>&lt;dbl&gt;</th></tr>\n",
       "</thead>\n",
       "<tbody>\n",
       "\t<tr><td><span style=white-space:pre-wrap>Renewed   </span></td><td>fun</td><td><span style=white-space:pre-wrap>1&amp;1 internet    </span></td><td><span style=white-space:pre-wrap>1&amp;1 internet    </span></td><td>Germany</td><td>Non China</td><td>1</td><td>l</td><td>6</td><td>1</td><td>2.23</td><td>1</td><td>15</td><td>0.5085864</td></tr>\n",
       "\t<tr><td><span style=white-space:pre-wrap>Renewed   </span></td><td>fun</td><td><span style=white-space:pre-wrap>1&amp;1 internet    </span></td><td><span style=white-space:pre-wrap>1&amp;1 internet    </span></td><td>Germany</td><td>Non China</td><td>1</td><td>l</td><td>9</td><td>1</td><td>3.45</td><td>1</td><td>15</td><td>0.4922921</td></tr>\n",
       "\t<tr><td>Not Renewd</td><td>fun</td><td>10dencehispahard</td><td>10dencehispahard</td><td>Spain  </td><td>Non China</td><td>1</td><td>l</td><td>8</td><td>1</td><td>8.62</td><td>1</td><td>15</td><td>0.5950325</td></tr>\n",
       "\t<tr><td>Not Renewd</td><td>fun</td><td>10dencehispahard</td><td>10dencehispahard</td><td>Spain  </td><td>Non China</td><td>1</td><td>l</td><td>6</td><td>1</td><td>3.13</td><td>1</td><td>15</td><td>0.4578849</td></tr>\n",
       "\t<tr><td>Renewed   </td><td>fun</td><td>1api            </td><td>1api            </td><td>Germany</td><td>Non China</td><td>1</td><td>l</td><td>7</td><td>1</td><td>4.51</td><td>1</td><td> 5</td><td>0.5419494</td></tr>\n",
       "\t<tr><td>Not Renewd</td><td>fun</td><td>1api            </td><td>1api            </td><td>Germany</td><td>Non China</td><td>1</td><td>l</td><td>7</td><td>1</td><td>6.09</td><td>1</td><td> 5</td><td>0.5397591</td></tr>\n",
       "</tbody>\n",
       "</table>\n"
      ],
      "text/latex": [
       "A data.table: 6 × 14\n",
       "\\begin{tabular}{llllllllllllll}\n",
       " renewal\\_status & tld & registrar & reseller & reseller\\_country & region & reg\\_period & sld\\_type & sld\\_length & day\\_domains & gibb\\_score & pattern\\_domain\\_count & reg\\_arpt & predicted\\\\\n",
       " <fct> & <fct> & <chr> & <chr> & <chr> & <chr> & <int> & <fct> & <int> & <int> & <dbl> & <int> & <dbl> & <dbl>\\\\\n",
       "\\hline\n",
       "\t Renewed    & fun & 1\\&1 internet     & 1\\&1 internet     & Germany & Non China & 1 & l & 6 & 1 & 2.23 & 1 & 15 & 0.5085864\\\\\n",
       "\t Renewed    & fun & 1\\&1 internet     & 1\\&1 internet     & Germany & Non China & 1 & l & 9 & 1 & 3.45 & 1 & 15 & 0.4922921\\\\\n",
       "\t Not Renewd & fun & 10dencehispahard & 10dencehispahard & Spain   & Non China & 1 & l & 8 & 1 & 8.62 & 1 & 15 & 0.5950325\\\\\n",
       "\t Not Renewd & fun & 10dencehispahard & 10dencehispahard & Spain   & Non China & 1 & l & 6 & 1 & 3.13 & 1 & 15 & 0.4578849\\\\\n",
       "\t Renewed    & fun & 1api             & 1api             & Germany & Non China & 1 & l & 7 & 1 & 4.51 & 1 &  5 & 0.5419494\\\\\n",
       "\t Not Renewd & fun & 1api             & 1api             & Germany & Non China & 1 & l & 7 & 1 & 6.09 & 1 &  5 & 0.5397591\\\\\n",
       "\\end{tabular}\n"
      ],
      "text/markdown": [
       "\n",
       "A data.table: 6 × 14\n",
       "\n",
       "| renewal_status &lt;fct&gt; | tld &lt;fct&gt; | registrar &lt;chr&gt; | reseller &lt;chr&gt; | reseller_country &lt;chr&gt; | region &lt;chr&gt; | reg_period &lt;int&gt; | sld_type &lt;fct&gt; | sld_length &lt;int&gt; | day_domains &lt;int&gt; | gibb_score &lt;dbl&gt; | pattern_domain_count &lt;int&gt; | reg_arpt &lt;dbl&gt; | predicted &lt;dbl&gt; |\n",
       "|---|---|---|---|---|---|---|---|---|---|---|---|---|---|\n",
       "| Renewed    | fun | 1&amp;1 internet     | 1&amp;1 internet     | Germany | Non China | 1 | l | 6 | 1 | 2.23 | 1 | 15 | 0.5085864 |\n",
       "| Renewed    | fun | 1&amp;1 internet     | 1&amp;1 internet     | Germany | Non China | 1 | l | 9 | 1 | 3.45 | 1 | 15 | 0.4922921 |\n",
       "| Not Renewd | fun | 10dencehispahard | 10dencehispahard | Spain   | Non China | 1 | l | 8 | 1 | 8.62 | 1 | 15 | 0.5950325 |\n",
       "| Not Renewd | fun | 10dencehispahard | 10dencehispahard | Spain   | Non China | 1 | l | 6 | 1 | 3.13 | 1 | 15 | 0.4578849 |\n",
       "| Renewed    | fun | 1api             | 1api             | Germany | Non China | 1 | l | 7 | 1 | 4.51 | 1 |  5 | 0.5419494 |\n",
       "| Not Renewd | fun | 1api             | 1api             | Germany | Non China | 1 | l | 7 | 1 | 6.09 | 1 |  5 | 0.5397591 |\n",
       "\n"
      ],
      "text/plain": [
       "  renewal_status tld registrar        reseller         reseller_country\n",
       "1 Renewed        fun 1&1 internet     1&1 internet     Germany         \n",
       "2 Renewed        fun 1&1 internet     1&1 internet     Germany         \n",
       "3 Not Renewd     fun 10dencehispahard 10dencehispahard Spain           \n",
       "4 Not Renewd     fun 10dencehispahard 10dencehispahard Spain           \n",
       "5 Renewed        fun 1api             1api             Germany         \n",
       "6 Not Renewd     fun 1api             1api             Germany         \n",
       "  region    reg_period sld_type sld_length day_domains gibb_score\n",
       "1 Non China 1          l        6          1           2.23      \n",
       "2 Non China 1          l        9          1           3.45      \n",
       "3 Non China 1          l        8          1           8.62      \n",
       "4 Non China 1          l        6          1           3.13      \n",
       "5 Non China 1          l        7          1           4.51      \n",
       "6 Non China 1          l        7          1           6.09      \n",
       "  pattern_domain_count reg_arpt predicted\n",
       "1 1                    15       0.5085864\n",
       "2 1                    15       0.4922921\n",
       "3 1                    15       0.5950325\n",
       "4 1                    15       0.4578849\n",
       "5 1                     5       0.5419494\n",
       "6 1                     5       0.5397591"
      ]
     },
     "metadata": {},
     "output_type": "display_data"
    }
   ],
   "source": [
    "head(ranger_results)"
   ]
  },
  {
   "cell_type": "code",
   "execution_count": 39,
   "metadata": {},
   "outputs": [],
   "source": [
    "iterations = length(unique(ranger_results$registrar))\n",
    "variables = 14\n",
    "\n",
    "output2 <- matrix(ncol=variables, nrow=iterations)\n",
    "\n",
    "for(i in 1:iterations){\n",
    "    reg = unique(ranger_results$registrar)[i]\n",
    "    temp = subset(ranger_results, registrar==reg)\n",
    "    obs_count = dim(temp)[1]\n",
    "    na_count = sum(is.na(temp$predicted)) # na_count\n",
    "    \n",
    "    if (obs_count>na_count) {\n",
    "        temp = temp[!is.na(temp$predicted)] \n",
    "        temp$Y = factor(as.numeric(temp$renewal_status == \"Renewed\"), levels=c(0,1))\n",
    "        temp$pred = as.numeric(temp$predicted>0.5)\n",
    "        \n",
    "        TP = sum((temp$pred==1) & (temp$Y==1))\n",
    "        TN = sum((temp$pred==0) & (temp$Y==0))\n",
    "        P = sum((temp$Y==1))\n",
    "        N = sum((temp$Y==0))\n",
    "        \n",
    "\n",
    "        pred_obj = prediction(temp$predicted, temp$Y)\n",
    "\n",
    "        perf = performance(pred_obj,'acc')\n",
    "        acc_0.5 = performance(pred_obj,'acc')@y.values[[1]][max(which(performance(pred_obj,'acc')@x.values[[1]] >= 0.5))] # acc_0.5\n",
    "\n",
    "        perf = performance(pred_obj,\"tpr\")\n",
    "        tpr_0.5 = perf@y.values[[1]][max(which(perf@x.values[[1]] >= 0.5))] # tpr_0.5 \n",
    "\n",
    "        perf = performance(pred_obj,\"tnr\")\n",
    "        tnr_0.5 = perf@y.values[[1]][max(which(perf@x.values[[1]] >= 0.5))] # tnr_0.5 \n",
    "\n",
    "        perf = performance(pred_obj,\"fpr\")\n",
    "        fpr_0.5 = perf@y.values[[1]][max(which(perf@x.values[[1]] >= 0.5))] # fpr_0.5 \n",
    "\n",
    "        perf = performance(pred_obj,\"fnr\")\n",
    "        fnr_0.5 = perf@y.values[[1]][max(which(perf@x.values[[1]] >= 0.5))] # fnr_0.5 \n",
    "\n",
    "        auc = NA\n",
    "        aucpr = NA\n",
    "        tryCatch(\n",
    "        {auc = performance(pred_obj,\"auc\")@y.values[[1]]\n",
    "        aucpr = performance(pred_obj,\"aucpr\")@y.values[[1]]},\n",
    "    error = function(e){\n",
    "        # (Optional)\n",
    "        # Do this at the end before quitting the tryCatch structure...\n",
    "    })\n",
    "        \n",
    "        output2[i,] <- c(reg, obs_count, na_count, TP, TN, P, N, acc_0.5, tpr_0.5, tnr_0.5, fpr_0.5, fnr_0.5, auc, aucpr )\n",
    "    } else {\n",
    "        output2[i,] <- c(reg, obs_count, na_count, rep (NA,11))\n",
    "    } \n",
    "}"
   ]
  },
  {
   "cell_type": "code",
   "execution_count": 41,
   "metadata": {},
   "outputs": [],
   "source": [
    "ranger_03_perf_df <- data.frame(output2)\n",
    "names(ranger_03_perf_df) <- c('reg', 'obs_count', 'na_count', 'TP', 'TN','P', 'N', 'acc_0.5', 'tpr_0.5', 'tnr_0.5', 'fpr_0.5', 'fnr_0.5', 'auc', 'aucpr')"
   ]
  },
  {
   "cell_type": "code",
   "execution_count": 42,
   "metadata": {},
   "outputs": [
    {
     "data": {
      "text/html": [
       "<table>\n",
       "<caption>A data.frame: 30 × 4</caption>\n",
       "<thead>\n",
       "\t<tr><th></th><th scope=col>reg</th><th scope=col>obs_count</th><th scope=col>na_count</th><th scope=col>aucpr</th></tr>\n",
       "\t<tr><th></th><th scope=col>&lt;fct&gt;</th><th scope=col>&lt;fct&gt;</th><th scope=col>&lt;fct&gt;</th><th scope=col>&lt;fct&gt;</th></tr>\n",
       "</thead>\n",
       "<tbody>\n",
       "\t<tr><th scope=row>1</th><td>ejee group         </td><td>8  </td><td>0</td><td>1                </td></tr>\n",
       "\t<tr><th scope=row>2</th><td>epik llc           </td><td>54 </td><td>0</td><td>1                </td></tr>\n",
       "\t<tr><th scope=row>3</th><td>nameshield         </td><td>9  </td><td>0</td><td>1                </td></tr>\n",
       "\t<tr><th scope=row>4</th><td>dnc holdings       </td><td>2  </td><td>0</td><td>1                </td></tr>\n",
       "\t<tr><th scope=row>5</th><td>alpnames           </td><td>3  </td><td>0</td><td>1                </td></tr>\n",
       "\t<tr><th scope=row>6</th><td>blacknight         </td><td>4  </td><td>0</td><td>1                </td></tr>\n",
       "\t<tr><th scope=row>7</th><td>com laude          </td><td>8  </td><td>0</td><td>1                </td></tr>\n",
       "\t<tr><th scope=row>8</th><td>corehub            </td><td>10 </td><td>0</td><td>1                </td></tr>\n",
       "\t<tr><th scope=row>9</th><td>domaindiscover.com </td><td>4  </td><td>0</td><td>1                </td></tr>\n",
       "\t<tr><th scope=row>10</th><td>netistrar          </td><td>3  </td><td>0</td><td>1                </td></tr>\n",
       "\t<tr><th scope=row>11</th><td>server plan        </td><td>3  </td><td>0</td><td>1                </td></tr>\n",
       "\t<tr><th scope=row>12</th><td>sibername          </td><td>2  </td><td>0</td><td>1                </td></tr>\n",
       "\t<tr><th scope=row>13</th><td>22net inc          </td><td>51 </td><td>0</td><td>1                </td></tr>\n",
       "\t<tr><th scope=row>14</th><td>csc corporate      </td><td>25 </td><td>0</td><td>0.997430555555555</td></tr>\n",
       "\t<tr><th scope=row>15</th><td>netowl             </td><td>60 </td><td>0</td><td>0.934343434343434</td></tr>\n",
       "\t<tr><th scope=row>16</th><td>online sas         </td><td>15 </td><td>0</td><td>0.90000661731431 </td></tr>\n",
       "\t<tr><th scope=row>17</th><td>freeparking        </td><td>6  </td><td>0</td><td>0.829166666666667</td></tr>\n",
       "\t<tr><th scope=row>18</th><td>registrygate       </td><td>18 </td><td>0</td><td>0.818261652877037</td></tr>\n",
       "\t<tr><th scope=row>19</th><td>101 domain         </td><td>32 </td><td>0</td><td>0.802165373002632</td></tr>\n",
       "\t<tr><th scope=row>20</th><td>eranet             </td><td>707</td><td>0</td><td>0.797727272727273</td></tr>\n",
       "\t<tr><th scope=row>21</th><td>internetx          </td><td>150</td><td>0</td><td>0.752041109525808</td></tr>\n",
       "\t<tr><th scope=row>22</th><td>domain the net     </td><td>2  </td><td>0</td><td>0.75             </td></tr>\n",
       "\t<tr><th scope=row>23</th><td>netearth one       </td><td>3  </td><td>0</td><td>0.75             </td></tr>\n",
       "\t<tr><th scope=row>24</th><td>tecnocratica centro</td><td>3  </td><td>0</td><td>0.75             </td></tr>\n",
       "\t<tr><th scope=row>25</th><td>inames             </td><td>2  </td><td>0</td><td>0.75             </td></tr>\n",
       "\t<tr><th scope=row>26</th><td>synergy wholesale  </td><td>10 </td><td>0</td><td>0.742222222222222</td></tr>\n",
       "\t<tr><th scope=row>27</th><td>super registry     </td><td>13 </td><td>0</td><td>0.698953823953824</td></tr>\n",
       "\t<tr><th scope=row>28</th><td>united domains     </td><td>600</td><td>0</td><td>0.691890103736574</td></tr>\n",
       "\t<tr><th scope=row>29</th><td>dinahosting        </td><td>33 </td><td>0</td><td>0.689767396830569</td></tr>\n",
       "\t<tr><th scope=row>30</th><td>marcaria.com       </td><td>13 </td><td>0</td><td>0.687691197691198</td></tr>\n",
       "</tbody>\n",
       "</table>\n"
      ],
      "text/latex": [
       "A data.frame: 30 × 4\n",
       "\\begin{tabular}{r|llll}\n",
       "  & reg & obs\\_count & na\\_count & aucpr\\\\\n",
       "  & <fct> & <fct> & <fct> & <fct>\\\\\n",
       "\\hline\n",
       "\t1 & ejee group          & 8   & 0 & 1                \\\\\n",
       "\t2 & epik llc            & 54  & 0 & 1                \\\\\n",
       "\t3 & nameshield          & 9   & 0 & 1                \\\\\n",
       "\t4 & dnc holdings        & 2   & 0 & 1                \\\\\n",
       "\t5 & alpnames            & 3   & 0 & 1                \\\\\n",
       "\t6 & blacknight          & 4   & 0 & 1                \\\\\n",
       "\t7 & com laude           & 8   & 0 & 1                \\\\\n",
       "\t8 & corehub             & 10  & 0 & 1                \\\\\n",
       "\t9 & domaindiscover.com  & 4   & 0 & 1                \\\\\n",
       "\t10 & netistrar           & 3   & 0 & 1                \\\\\n",
       "\t11 & server plan         & 3   & 0 & 1                \\\\\n",
       "\t12 & sibername           & 2   & 0 & 1                \\\\\n",
       "\t13 & 22net inc           & 51  & 0 & 1                \\\\\n",
       "\t14 & csc corporate       & 25  & 0 & 0.997430555555555\\\\\n",
       "\t15 & netowl              & 60  & 0 & 0.934343434343434\\\\\n",
       "\t16 & online sas          & 15  & 0 & 0.90000661731431 \\\\\n",
       "\t17 & freeparking         & 6   & 0 & 0.829166666666667\\\\\n",
       "\t18 & registrygate        & 18  & 0 & 0.818261652877037\\\\\n",
       "\t19 & 101 domain          & 32  & 0 & 0.802165373002632\\\\\n",
       "\t20 & eranet              & 707 & 0 & 0.797727272727273\\\\\n",
       "\t21 & internetx           & 150 & 0 & 0.752041109525808\\\\\n",
       "\t22 & domain the net      & 2   & 0 & 0.75             \\\\\n",
       "\t23 & netearth one        & 3   & 0 & 0.75             \\\\\n",
       "\t24 & tecnocratica centro & 3   & 0 & 0.75             \\\\\n",
       "\t25 & inames              & 2   & 0 & 0.75             \\\\\n",
       "\t26 & synergy wholesale   & 10  & 0 & 0.742222222222222\\\\\n",
       "\t27 & super registry      & 13  & 0 & 0.698953823953824\\\\\n",
       "\t28 & united domains      & 600 & 0 & 0.691890103736574\\\\\n",
       "\t29 & dinahosting         & 33  & 0 & 0.689767396830569\\\\\n",
       "\t30 & marcaria.com        & 13  & 0 & 0.687691197691198\\\\\n",
       "\\end{tabular}\n"
      ],
      "text/markdown": [
       "\n",
       "A data.frame: 30 × 4\n",
       "\n",
       "| <!--/--> | reg &lt;fct&gt; | obs_count &lt;fct&gt; | na_count &lt;fct&gt; | aucpr &lt;fct&gt; |\n",
       "|---|---|---|---|---|\n",
       "| 1 | ejee group          | 8   | 0 | 1                 |\n",
       "| 2 | epik llc            | 54  | 0 | 1                 |\n",
       "| 3 | nameshield          | 9   | 0 | 1                 |\n",
       "| 4 | dnc holdings        | 2   | 0 | 1                 |\n",
       "| 5 | alpnames            | 3   | 0 | 1                 |\n",
       "| 6 | blacknight          | 4   | 0 | 1                 |\n",
       "| 7 | com laude           | 8   | 0 | 1                 |\n",
       "| 8 | corehub             | 10  | 0 | 1                 |\n",
       "| 9 | domaindiscover.com  | 4   | 0 | 1                 |\n",
       "| 10 | netistrar           | 3   | 0 | 1                 |\n",
       "| 11 | server plan         | 3   | 0 | 1                 |\n",
       "| 12 | sibername           | 2   | 0 | 1                 |\n",
       "| 13 | 22net inc           | 51  | 0 | 1                 |\n",
       "| 14 | csc corporate       | 25  | 0 | 0.997430555555555 |\n",
       "| 15 | netowl              | 60  | 0 | 0.934343434343434 |\n",
       "| 16 | online sas          | 15  | 0 | 0.90000661731431  |\n",
       "| 17 | freeparking         | 6   | 0 | 0.829166666666667 |\n",
       "| 18 | registrygate        | 18  | 0 | 0.818261652877037 |\n",
       "| 19 | 101 domain          | 32  | 0 | 0.802165373002632 |\n",
       "| 20 | eranet              | 707 | 0 | 0.797727272727273 |\n",
       "| 21 | internetx           | 150 | 0 | 0.752041109525808 |\n",
       "| 22 | domain the net      | 2   | 0 | 0.75              |\n",
       "| 23 | netearth one        | 3   | 0 | 0.75              |\n",
       "| 24 | tecnocratica centro | 3   | 0 | 0.75              |\n",
       "| 25 | inames              | 2   | 0 | 0.75              |\n",
       "| 26 | synergy wholesale   | 10  | 0 | 0.742222222222222 |\n",
       "| 27 | super registry      | 13  | 0 | 0.698953823953824 |\n",
       "| 28 | united domains      | 600 | 0 | 0.691890103736574 |\n",
       "| 29 | dinahosting         | 33  | 0 | 0.689767396830569 |\n",
       "| 30 | marcaria.com        | 13  | 0 | 0.687691197691198 |\n",
       "\n"
      ],
      "text/plain": [
       "   reg                 obs_count na_count aucpr            \n",
       "1  ejee group          8         0        1                \n",
       "2  epik llc            54        0        1                \n",
       "3  nameshield          9         0        1                \n",
       "4  dnc holdings        2         0        1                \n",
       "5  alpnames            3         0        1                \n",
       "6  blacknight          4         0        1                \n",
       "7  com laude           8         0        1                \n",
       "8  corehub             10        0        1                \n",
       "9  domaindiscover.com  4         0        1                \n",
       "10 netistrar           3         0        1                \n",
       "11 server plan         3         0        1                \n",
       "12 sibername           2         0        1                \n",
       "13 22net inc           51        0        1                \n",
       "14 csc corporate       25        0        0.997430555555555\n",
       "15 netowl              60        0        0.934343434343434\n",
       "16 online sas          15        0        0.90000661731431 \n",
       "17 freeparking         6         0        0.829166666666667\n",
       "18 registrygate        18        0        0.818261652877037\n",
       "19 101 domain          32        0        0.802165373002632\n",
       "20 eranet              707       0        0.797727272727273\n",
       "21 internetx           150       0        0.752041109525808\n",
       "22 domain the net      2         0        0.75             \n",
       "23 netearth one        3         0        0.75             \n",
       "24 tecnocratica centro 3         0        0.75             \n",
       "25 inames              2         0        0.75             \n",
       "26 synergy wholesale   10        0        0.742222222222222\n",
       "27 super registry      13        0        0.698953823953824\n",
       "28 united domains      600       0        0.691890103736574\n",
       "29 dinahosting         33        0        0.689767396830569\n",
       "30 marcaria.com        13        0        0.687691197691198"
      ]
     },
     "metadata": {},
     "output_type": "display_data"
    }
   ],
   "source": [
    "ranger_03_perf_df %>% arrange(desc(aucpr)) %>% select(reg,obs_count,na_count,aucpr)  %>% head(30)"
   ]
  },
  {
   "cell_type": "code",
   "execution_count": 44,
   "metadata": {},
   "outputs": [
    {
     "data": {
      "text/html": [
       "<strong>0:</strong> 155"
      ],
      "text/latex": [
       "\\textbf{0:} 155"
      ],
      "text/markdown": [
       "**0:** 155"
      ],
      "text/plain": [
       "  0 \n",
       "155 "
      ]
     },
     "metadata": {},
     "output_type": "display_data"
    }
   ],
   "source": []
  },
  {
   "cell_type": "code",
   "execution_count": 43,
   "metadata": {},
   "outputs": [
    {
     "data": {
      "text/html": [
       "<table>\n",
       "<caption>A data.frame: 1 × 14</caption>\n",
       "<thead>\n",
       "\t<tr><th></th><th scope=col>reg</th><th scope=col>obs_count</th><th scope=col>na_count</th><th scope=col>TP</th><th scope=col>TN</th><th scope=col>P</th><th scope=col>N</th><th scope=col>acc_0.5</th><th scope=col>tpr_0.5</th><th scope=col>tnr_0.5</th><th scope=col>fpr_0.5</th><th scope=col>fnr_0.5</th><th scope=col>auc</th><th scope=col>aucpr</th></tr>\n",
       "\t<tr><th></th><th scope=col>&lt;fct&gt;</th><th scope=col>&lt;fct&gt;</th><th scope=col>&lt;fct&gt;</th><th scope=col>&lt;fct&gt;</th><th scope=col>&lt;fct&gt;</th><th scope=col>&lt;fct&gt;</th><th scope=col>&lt;fct&gt;</th><th scope=col>&lt;fct&gt;</th><th scope=col>&lt;fct&gt;</th><th scope=col>&lt;fct&gt;</th><th scope=col>&lt;fct&gt;</th><th scope=col>&lt;fct&gt;</th><th scope=col>&lt;fct&gt;</th><th scope=col>&lt;fct&gt;</th></tr>\n",
       "</thead>\n",
       "<tbody>\n",
       "\t<tr><th scope=row>34</th><td>go daddy</td><td>27537</td><td>0</td><td>266</td><td>23289</td><td>4035</td><td>23502</td><td>0.855394560046483</td><td>0.0659231722428748</td><td>0.99093694153689</td><td>0.00906305846310952</td><td>0.934076827757125</td><td>0.690613944427409</td><td>0.336712679608358</td></tr>\n",
       "</tbody>\n",
       "</table>\n"
      ],
      "text/latex": [
       "A data.frame: 1 × 14\n",
       "\\begin{tabular}{r|llllllllllllll}\n",
       "  & reg & obs\\_count & na\\_count & TP & TN & P & N & acc\\_0.5 & tpr\\_0.5 & tnr\\_0.5 & fpr\\_0.5 & fnr\\_0.5 & auc & aucpr\\\\\n",
       "  & <fct> & <fct> & <fct> & <fct> & <fct> & <fct> & <fct> & <fct> & <fct> & <fct> & <fct> & <fct> & <fct> & <fct>\\\\\n",
       "\\hline\n",
       "\t34 & go daddy & 27537 & 0 & 266 & 23289 & 4035 & 23502 & 0.855394560046483 & 0.0659231722428748 & 0.99093694153689 & 0.00906305846310952 & 0.934076827757125 & 0.690613944427409 & 0.336712679608358\\\\\n",
       "\\end{tabular}\n"
      ],
      "text/markdown": [
       "\n",
       "A data.frame: 1 × 14\n",
       "\n",
       "| <!--/--> | reg &lt;fct&gt; | obs_count &lt;fct&gt; | na_count &lt;fct&gt; | TP &lt;fct&gt; | TN &lt;fct&gt; | P &lt;fct&gt; | N &lt;fct&gt; | acc_0.5 &lt;fct&gt; | tpr_0.5 &lt;fct&gt; | tnr_0.5 &lt;fct&gt; | fpr_0.5 &lt;fct&gt; | fnr_0.5 &lt;fct&gt; | auc &lt;fct&gt; | aucpr &lt;fct&gt; |\n",
       "|---|---|---|---|---|---|---|---|---|---|---|---|---|---|---|\n",
       "| 34 | go daddy | 27537 | 0 | 266 | 23289 | 4035 | 23502 | 0.855394560046483 | 0.0659231722428748 | 0.99093694153689 | 0.00906305846310952 | 0.934076827757125 | 0.690613944427409 | 0.336712679608358 |\n",
       "\n"
      ],
      "text/plain": [
       "   reg      obs_count na_count TP  TN    P    N     acc_0.5          \n",
       "34 go daddy 27537     0        266 23289 4035 23502 0.855394560046483\n",
       "   tpr_0.5            tnr_0.5          fpr_0.5             fnr_0.5          \n",
       "34 0.0659231722428748 0.99093694153689 0.00906305846310952 0.934076827757125\n",
       "   auc               aucpr            \n",
       "34 0.690613944427409 0.336712679608358"
      ]
     },
     "metadata": {},
     "output_type": "display_data"
    }
   ],
   "source": [
    "subset(ranger_03_perf_df, reg=='go daddy')"
   ]
  },
  {
   "cell_type": "markdown",
   "metadata": {},
   "source": [
    "# Combine two performance dfs"
   ]
  },
  {
   "cell_type": "code",
   "execution_count": null,
   "metadata": {},
   "outputs": [],
   "source": [
    "ranger_03_perf_df"
   ]
  },
  {
   "cell_type": "markdown",
   "metadata": {},
   "source": [
    "# How are prediction NAs being handled in perf metric calculations?"
   ]
  },
  {
   "cell_type": "code",
   "execution_count": 45,
   "metadata": {},
   "outputs": [
    {
     "data": {
      "text/html": [
       "<strong>0:</strong> 155"
      ],
      "text/latex": [
       "\\textbf{0:} 155"
      ],
      "text/markdown": [
       "**0:** 155"
      ],
      "text/plain": [
       "  0 \n",
       "155 "
      ]
     },
     "metadata": {},
     "output_type": "display_data"
    }
   ],
   "source": [
    "summary(ranger_03_perf_df$na_count)"
   ]
  },
  {
   "cell_type": "code",
   "execution_count": 48,
   "metadata": {},
   "outputs": [
    {
     "data": {
      "image/png": "[encoded data removed]",
      "text/plain": [
       "Plot with title “Histogram of as.numeric(seg_glm_perf_df$na_count)”"
      ]
     },
     "metadata": {
      "image/png": {
       "height": 420,
       "width": 420
      },
      "text/plain": {
       "height": 420,
       "width": 420
      }
     },
     "output_type": "display_data"
    }
   ],
   "source": [
    "hist(as.numeric(seg_glm_perf_df$na_count))"
   ]
  },
  {
   "cell_type": "code",
   "execution_count": null,
   "metadata": {},
   "outputs": [],
   "source": []
  }
 ],
 "metadata": {
  "environment": {
   "name": "r-cpu.3-6.m48",
   "type": "gcloud",
   "uri": "gcr.io/deeplearning-platform-release/r-cpu.3-6:m48"
  },
  "kernelspec": {
   "display_name": "R",
   "language": "R",
   "name": "ir"
  },
  "language_info": {
   "codemirror_mode": "r",
   "file_extension": ".r",
   "mimetype": "text/x-r-source",
   "name": "R",
   "pygments_lexer": "r",
   "version": "3.6.3"
  }
 },
 "nbformat": 4,
 "nbformat_minor": 4
}
