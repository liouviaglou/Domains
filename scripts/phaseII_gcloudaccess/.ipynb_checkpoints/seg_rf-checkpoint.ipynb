{
 "cells": [
  {
   "cell_type": "markdown",
   "metadata": {},
   "source": [
    "# Segmented RF"
   ]
  },
  {
   "cell_type": "code",
   "execution_count": 1,
   "metadata": {},
   "outputs": [
    {
     "name": "stderr",
     "output_type": "stream",
     "text": [
      "\n",
      "Attaching package: ‘dplyr’\n",
      "\n",
      "\n",
      "The following objects are masked from ‘package:stats’:\n",
      "\n",
      "    filter, lag\n",
      "\n",
      "\n",
      "The following objects are masked from ‘package:base’:\n",
      "\n",
      "    intersect, setdiff, setequal, union\n",
      "\n",
      "\n",
      "\n",
      "Attaching package: ‘data.table’\n",
      "\n",
      "\n",
      "The following objects are masked from ‘package:dplyr’:\n",
      "\n",
      "    between, first, last\n",
      "\n",
      "\n",
      "Loading required package: grid\n",
      "\n",
      "Loading required package: libcoin\n",
      "\n",
      "Loading required package: mvtnorm\n",
      "\n",
      "Loading required package: lattice\n",
      "\n",
      "Loading required package: ggplot2\n",
      "\n",
      "randomForest 4.6-14\n",
      "\n",
      "Type rfNews() to see new features/changes/bug fixes.\n",
      "\n",
      "\n",
      "Attaching package: ‘randomForest’\n",
      "\n",
      "\n",
      "The following object is masked from ‘package:ggplot2’:\n",
      "\n",
      "    margin\n",
      "\n",
      "\n",
      "The following object is masked from ‘package:dplyr’:\n",
      "\n",
      "    combine\n",
      "\n",
      "\n",
      "\n",
      "Attaching package: ‘ranger’\n",
      "\n",
      "\n",
      "The following object is masked from ‘package:randomForest’:\n",
      "\n",
      "    importance\n",
      "\n",
      "\n",
      "\n",
      "Attaching package: ‘plotly’\n",
      "\n",
      "\n",
      "The following object is masked from ‘package:ggplot2’:\n",
      "\n",
      "    last_plot\n",
      "\n",
      "\n",
      "The following object is masked from ‘package:stats’:\n",
      "\n",
      "    filter\n",
      "\n",
      "\n",
      "The following object is masked from ‘package:graphics’:\n",
      "\n",
      "    layout\n",
      "\n",
      "\n",
      "Loading required package: RJSONIO\n",
      "\n"
     ]
    },
    {
     "data": {
      "text/html": [
       "'/home/jupyter/local/Domains_202003/scripts/phaseII_gcloudaccess'"
      ],
      "text/latex": [
       "'/home/jupyter/local/Domains\\_202003/scripts/phaseII\\_gcloudaccess'"
      ],
      "text/markdown": [
       "'/home/jupyter/local/Domains_202003/scripts/phaseII_gcloudaccess'"
      ],
      "text/plain": [
       "[1] \"/home/jupyter/local/Domains_202003/scripts/phaseII_gcloudaccess\""
      ]
     },
     "metadata": {},
     "output_type": "display_data"
    }
   ],
   "source": [
    "library(dplyr)\n",
    "library(data.table)\n",
    "library(partykit)\n",
    "library(tictoc)\n",
    "library(caret)\n",
    "library(e1071)\n",
    "library(randomForest)\n",
    "library(ranger)\n",
    "\n",
    "#for 3d plotting\n",
    "library(akima)\n",
    "library(plotly)\n",
    "\n",
    "# for prep data\n",
    "library(rPython)\n",
    "library(stringr)\n",
    "library(pbapply)\n",
    "library(stringdist)\n",
    "library(data.table)\n",
    "\n",
    "getwd()"
   ]
  },
  {
   "cell_type": "code",
   "execution_count": 2,
   "metadata": {},
   "outputs": [],
   "source": [
    "\n",
    "source('../orig/functions.R')\n",
    "\n",
    "source('../orig/functions_models.R')\n",
    "\n",
    "source('functions_eval.R')\n",
    "\n",
    "source('load_prep_data_expiry.R')\n"
   ]
  },
  {
   "cell_type": "markdown",
   "metadata": {},
   "source": [
    "# Identify major registrar with poor performance for head to head"
   ]
  },
  {
   "cell_type": "code",
   "execution_count": 3,
   "metadata": {},
   "outputs": [
    {
     "data": {
      "text/html": [
       "<table>\n",
       "<caption>A data.frame: 6 × 29</caption>\n",
       "<thead>\n",
       "\t<tr><th></th><th scope=col>reg</th><th scope=col>obs_count_s</th><th scope=col>na_count_s</th><th scope=col>TP_s</th><th scope=col>TN_s</th><th scope=col>P_s</th><th scope=col>N_s</th><th scope=col>acc_0.5_s</th><th scope=col>tpr_0.5_s</th><th scope=col>tnr_0.5_s</th><th scope=col>⋯</th><th scope=col>N_r</th><th scope=col>acc_0.5_r</th><th scope=col>tpr_0.5_r</th><th scope=col>tnr_0.5_r</th><th scope=col>fpr_0.5_r</th><th scope=col>fnr_0.5_r</th><th scope=col>auc_r</th><th scope=col>aucpr_r</th><th scope=col>aucpr_srrat</th><th scope=col>acc_srrat</th></tr>\n",
       "\t<tr><th></th><th scope=col>&lt;fct&gt;</th><th scope=col>&lt;int&gt;</th><th scope=col>&lt;int&gt;</th><th scope=col>&lt;int&gt;</th><th scope=col>&lt;int&gt;</th><th scope=col>&lt;int&gt;</th><th scope=col>&lt;int&gt;</th><th scope=col>&lt;dbl&gt;</th><th scope=col>&lt;dbl&gt;</th><th scope=col>&lt;dbl&gt;</th><th scope=col>⋯</th><th scope=col>&lt;int&gt;</th><th scope=col>&lt;dbl&gt;</th><th scope=col>&lt;dbl&gt;</th><th scope=col>&lt;dbl&gt;</th><th scope=col>&lt;dbl&gt;</th><th scope=col>&lt;dbl&gt;</th><th scope=col>&lt;dbl&gt;</th><th scope=col>&lt;dbl&gt;</th><th scope=col>&lt;dbl&gt;</th><th scope=col>&lt;dbl&gt;</th></tr>\n",
       "</thead>\n",
       "<tbody>\n",
       "\t<tr><th scope=row>1</th><td><span style=white-space:pre-wrap>1&amp;1 internet    </span></td><td>2321</td><td>6</td><td>460</td><td>863</td><td>1000</td><td>1315</td><td>0.5714903</td><td>0.46000000</td><td>0.6562738</td><td>⋯</td><td>1318</td><td>0.5691512</td><td>0.23030907</td><td>0.8270106</td><td>0.17298938</td><td>0.7696909</td><td>0.5654244</td><td>0.4847203</td><td>1.0043963</td><td>1.0041097</td></tr>\n",
       "\t<tr><th scope=row>2</th><td>101 domain      </td><td>  32</td><td>6</td><td> 14</td><td>  6</td><td>  16</td><td>  10</td><td>0.7692308</td><td>0.87500000</td><td>0.6000000</td><td>⋯</td><td>  13</td><td>0.6562500</td><td>1.00000000</td><td>0.1538462</td><td>0.84615385</td><td>0.0000000</td><td>0.6923077</td><td>0.8021654</td><td>0.8717474</td><td>1.1721612</td></tr>\n",
       "\t<tr><th scope=row>3</th><td>10dencehispahard</td><td> 165</td><td>2</td><td>  2</td><td>128</td><td>  31</td><td> 132</td><td>0.7975460</td><td>0.06451613</td><td>0.9696970</td><td>⋯</td><td> 134</td><td>0.8060606</td><td>0.03225806</td><td>0.9850746</td><td>0.01492537</td><td>0.9677419</td><td>0.7087145</td><td>0.3286169</td><td>1.0619508</td><td>0.9894368</td></tr>\n",
       "\t<tr><th scope=row>4</th><td>1api            </td><td> 190</td><td>8</td><td> 56</td><td> 45</td><td>  79</td><td> 103</td><td>0.5549451</td><td>0.70886076</td><td>0.4368932</td><td>⋯</td><td> 106</td><td>0.4789474</td><td>0.25000000</td><td>0.6603774</td><td>0.33962264</td><td>0.7500000</td><td>0.4977538</td><td>0.4620861</td><td>1.0168691</td><td>1.1586765</td></tr>\n",
       "\t<tr><th scope=row>5</th><td>22net inc       </td><td>  51</td><td>0</td><td>  2</td><td> 49</td><td>   2</td><td>  49</td><td>1.0000000</td><td>1.00000000</td><td>1.0000000</td><td>⋯</td><td>  49</td><td>1.0000000</td><td>1.00000000</td><td>1.0000000</td><td>0.00000000</td><td>0.0000000</td><td>1.0000000</td><td>1.0000000</td><td>1.0000000</td><td>1.0000000</td></tr>\n",
       "\t<tr><th scope=row>6</th><td>ab name isp     </td><td>  15</td><td>3</td><td>  7</td><td>  0</td><td>   7</td><td>   5</td><td>0.5833333</td><td>1.00000000</td><td>0.0000000</td><td>⋯</td><td>   6</td><td>0.5333333</td><td>0.77777778</td><td>0.1666667</td><td>0.83333333</td><td>0.2222222</td><td>0.3888889</td><td>0.5754147</td><td>1.2661675</td><td>1.0937500</td></tr>\n",
       "</tbody>\n",
       "</table>\n"
      ],
      "text/latex": [
       "A data.frame: 6 × 29\n",
       "\\begin{tabular}{r|lllllllllllllllllllll}\n",
       "  & reg & obs\\_count\\_s & na\\_count\\_s & TP\\_s & TN\\_s & P\\_s & N\\_s & acc\\_0.5\\_s & tpr\\_0.5\\_s & tnr\\_0.5\\_s & ⋯ & N\\_r & acc\\_0.5\\_r & tpr\\_0.5\\_r & tnr\\_0.5\\_r & fpr\\_0.5\\_r & fnr\\_0.5\\_r & auc\\_r & aucpr\\_r & aucpr\\_srrat & acc\\_srrat\\\\\n",
       "  & <fct> & <int> & <int> & <int> & <int> & <int> & <int> & <dbl> & <dbl> & <dbl> & ⋯ & <int> & <dbl> & <dbl> & <dbl> & <dbl> & <dbl> & <dbl> & <dbl> & <dbl> & <dbl>\\\\\n",
       "\\hline\n",
       "\t1 & 1\\&1 internet     & 2321 & 6 & 460 & 863 & 1000 & 1315 & 0.5714903 & 0.46000000 & 0.6562738 & ⋯ & 1318 & 0.5691512 & 0.23030907 & 0.8270106 & 0.17298938 & 0.7696909 & 0.5654244 & 0.4847203 & 1.0043963 & 1.0041097\\\\\n",
       "\t2 & 101 domain       &   32 & 6 &  14 &   6 &   16 &   10 & 0.7692308 & 0.87500000 & 0.6000000 & ⋯ &   13 & 0.6562500 & 1.00000000 & 0.1538462 & 0.84615385 & 0.0000000 & 0.6923077 & 0.8021654 & 0.8717474 & 1.1721612\\\\\n",
       "\t3 & 10dencehispahard &  165 & 2 &   2 & 128 &   31 &  132 & 0.7975460 & 0.06451613 & 0.9696970 & ⋯ &  134 & 0.8060606 & 0.03225806 & 0.9850746 & 0.01492537 & 0.9677419 & 0.7087145 & 0.3286169 & 1.0619508 & 0.9894368\\\\\n",
       "\t4 & 1api             &  190 & 8 &  56 &  45 &   79 &  103 & 0.5549451 & 0.70886076 & 0.4368932 & ⋯ &  106 & 0.4789474 & 0.25000000 & 0.6603774 & 0.33962264 & 0.7500000 & 0.4977538 & 0.4620861 & 1.0168691 & 1.1586765\\\\\n",
       "\t5 & 22net inc        &   51 & 0 &   2 &  49 &    2 &   49 & 1.0000000 & 1.00000000 & 1.0000000 & ⋯ &   49 & 1.0000000 & 1.00000000 & 1.0000000 & 0.00000000 & 0.0000000 & 1.0000000 & 1.0000000 & 1.0000000 & 1.0000000\\\\\n",
       "\t6 & ab name isp      &   15 & 3 &   7 &   0 &    7 &    5 & 0.5833333 & 1.00000000 & 0.0000000 & ⋯ &    6 & 0.5333333 & 0.77777778 & 0.1666667 & 0.83333333 & 0.2222222 & 0.3888889 & 0.5754147 & 1.2661675 & 1.0937500\\\\\n",
       "\\end{tabular}\n"
      ],
      "text/markdown": [
       "\n",
       "A data.frame: 6 × 29\n",
       "\n",
       "| <!--/--> | reg &lt;fct&gt; | obs_count_s &lt;int&gt; | na_count_s &lt;int&gt; | TP_s &lt;int&gt; | TN_s &lt;int&gt; | P_s &lt;int&gt; | N_s &lt;int&gt; | acc_0.5_s &lt;dbl&gt; | tpr_0.5_s &lt;dbl&gt; | tnr_0.5_s &lt;dbl&gt; | ⋯ ⋯ | N_r &lt;int&gt; | acc_0.5_r &lt;dbl&gt; | tpr_0.5_r &lt;dbl&gt; | tnr_0.5_r &lt;dbl&gt; | fpr_0.5_r &lt;dbl&gt; | fnr_0.5_r &lt;dbl&gt; | auc_r &lt;dbl&gt; | aucpr_r &lt;dbl&gt; | aucpr_srrat &lt;dbl&gt; | acc_srrat &lt;dbl&gt; |\n",
       "|---|---|---|---|---|---|---|---|---|---|---|---|---|---|---|---|---|---|---|---|---|---|\n",
       "| 1 | 1&amp;1 internet     | 2321 | 6 | 460 | 863 | 1000 | 1315 | 0.5714903 | 0.46000000 | 0.6562738 | ⋯ | 1318 | 0.5691512 | 0.23030907 | 0.8270106 | 0.17298938 | 0.7696909 | 0.5654244 | 0.4847203 | 1.0043963 | 1.0041097 |\n",
       "| 2 | 101 domain       |   32 | 6 |  14 |   6 |   16 |   10 | 0.7692308 | 0.87500000 | 0.6000000 | ⋯ |   13 | 0.6562500 | 1.00000000 | 0.1538462 | 0.84615385 | 0.0000000 | 0.6923077 | 0.8021654 | 0.8717474 | 1.1721612 |\n",
       "| 3 | 10dencehispahard |  165 | 2 |   2 | 128 |   31 |  132 | 0.7975460 | 0.06451613 | 0.9696970 | ⋯ |  134 | 0.8060606 | 0.03225806 | 0.9850746 | 0.01492537 | 0.9677419 | 0.7087145 | 0.3286169 | 1.0619508 | 0.9894368 |\n",
       "| 4 | 1api             |  190 | 8 |  56 |  45 |   79 |  103 | 0.5549451 | 0.70886076 | 0.4368932 | ⋯ |  106 | 0.4789474 | 0.25000000 | 0.6603774 | 0.33962264 | 0.7500000 | 0.4977538 | 0.4620861 | 1.0168691 | 1.1586765 |\n",
       "| 5 | 22net inc        |   51 | 0 |   2 |  49 |    2 |   49 | 1.0000000 | 1.00000000 | 1.0000000 | ⋯ |   49 | 1.0000000 | 1.00000000 | 1.0000000 | 0.00000000 | 0.0000000 | 1.0000000 | 1.0000000 | 1.0000000 | 1.0000000 |\n",
       "| 6 | ab name isp      |   15 | 3 |   7 |   0 |    7 |    5 | 0.5833333 | 1.00000000 | 0.0000000 | ⋯ |    6 | 0.5333333 | 0.77777778 | 0.1666667 | 0.83333333 | 0.2222222 | 0.3888889 | 0.5754147 | 1.2661675 | 1.0937500 |\n",
       "\n"
      ],
      "text/plain": [
       "  reg              obs_count_s na_count_s TP_s TN_s P_s  N_s  acc_0.5_s\n",
       "1 1&1 internet     2321        6          460  863  1000 1315 0.5714903\n",
       "2 101 domain         32        6           14    6    16   10 0.7692308\n",
       "3 10dencehispahard  165        2            2  128    31  132 0.7975460\n",
       "4 1api              190        8           56   45    79  103 0.5549451\n",
       "5 22net inc          51        0            2   49     2   49 1.0000000\n",
       "6 ab name isp        15        3            7    0     7    5 0.5833333\n",
       "  tpr_0.5_s  tnr_0.5_s ⋯ N_r  acc_0.5_r tpr_0.5_r  tnr_0.5_r fpr_0.5_r \n",
       "1 0.46000000 0.6562738 ⋯ 1318 0.5691512 0.23030907 0.8270106 0.17298938\n",
       "2 0.87500000 0.6000000 ⋯   13 0.6562500 1.00000000 0.1538462 0.84615385\n",
       "3 0.06451613 0.9696970 ⋯  134 0.8060606 0.03225806 0.9850746 0.01492537\n",
       "4 0.70886076 0.4368932 ⋯  106 0.4789474 0.25000000 0.6603774 0.33962264\n",
       "5 1.00000000 1.0000000 ⋯   49 1.0000000 1.00000000 1.0000000 0.00000000\n",
       "6 1.00000000 0.0000000 ⋯    6 0.5333333 0.77777778 0.1666667 0.83333333\n",
       "  fnr_0.5_r auc_r     aucpr_r   aucpr_srrat acc_srrat\n",
       "1 0.7696909 0.5654244 0.4847203 1.0043963   1.0041097\n",
       "2 0.0000000 0.6923077 0.8021654 0.8717474   1.1721612\n",
       "3 0.9677419 0.7087145 0.3286169 1.0619508   0.9894368\n",
       "4 0.7500000 0.4977538 0.4620861 1.0168691   1.1586765\n",
       "5 0.0000000 1.0000000 1.0000000 1.0000000   1.0000000\n",
       "6 0.2222222 0.3888889 0.5754147 1.2661675   1.0937500"
      ]
     },
     "metadata": {},
     "output_type": "display_data"
    }
   ],
   "source": [
    "joint_pred_df <- read.csv(\"../../data/joint_pred_df.csv\")\n",
    "head(joint_pred_df)"
   ]
  },
  {
   "cell_type": "code",
   "execution_count": 5,
   "metadata": {},
   "outputs": [
    {
     "data": {
      "text/html": [
       "<table>\n",
       "<caption>A data.frame: 155 × 6</caption>\n",
       "<thead>\n",
       "\t<tr><th scope=col>reg</th><th scope=col>obs_count_s</th><th scope=col>na_count_s</th><th scope=col>acc_0.5_s</th><th scope=col>acc_0.5_r</th><th scope=col>acc_srrat</th></tr>\n",
       "\t<tr><th scope=col>&lt;fct&gt;</th><th scope=col>&lt;int&gt;</th><th scope=col>&lt;int&gt;</th><th scope=col>&lt;dbl&gt;</th><th scope=col>&lt;dbl&gt;</th><th scope=col>&lt;dbl&gt;</th></tr>\n",
       "</thead>\n",
       "<tbody>\n",
       "\t<tr><td>namecheap                </td><td>55117</td><td>  0</td><td>0.9392746</td><td>0.9386578</td><td>1.0006572</td></tr>\n",
       "\t<tr><td>gmo                      </td><td>31494</td><td>  8</td><td>0.9569015</td><td>0.9577380</td><td>0.9991266</td></tr>\n",
       "\t<tr><td>alibaba                  </td><td>30567</td><td>  1</td><td>0.9654191</td><td>0.9656492</td><td>0.9997617</td></tr>\n",
       "\t<tr><td>go daddy                 </td><td>27537</td><td>  0</td><td>0.8560482</td><td>0.8553946</td><td>1.0007642</td></tr>\n",
       "\t<tr><td>pdr ltd                  </td><td>16402</td><td>473</td><td>0.8698600</td><td>0.8735520</td><td>0.9957736</td></tr>\n",
       "\t<tr><td>reg.ru                   </td><td>15373</td><td>  1</td><td>0.9514702</td><td>0.9514083</td><td>1.0000651</td></tr>\n",
       "\t<tr><td>chengdu west             </td><td>14040</td><td>  1</td><td>0.9749270</td><td>0.9745726</td><td>1.0003636</td></tr>\n",
       "\t<tr><td>gandi sas                </td><td>11686</td><td>  2</td><td>0.9649093</td><td>0.9655143</td><td>0.9993734</td></tr>\n",
       "\t<tr><td>hostinger                </td><td>11140</td><td>  0</td><td>0.9300718</td><td>0.9300718</td><td>1.0000000</td></tr>\n",
       "\t<tr><td>zhengzhou century connect</td><td> 7043</td><td> 24</td><td>0.9978629</td><td>0.9998580</td><td>0.9980046</td></tr>\n",
       "\t<tr><td>uniregistrar             </td><td> 6992</td><td>  0</td><td>0.9829805</td><td>0.9831236</td><td>0.9998545</td></tr>\n",
       "\t<tr><td>onlinenic                </td><td> 6429</td><td>  0</td><td>0.9959558</td><td>0.9984445</td><td>0.9975074</td></tr>\n",
       "\t<tr><td>tucows                   </td><td> 5727</td><td> 42</td><td>0.7405453</td><td>0.6949537</td><td>1.0656037</td></tr>\n",
       "\t<tr><td>fbs                      </td><td> 5675</td><td> 17</td><td>0.9807352</td><td>0.9806167</td><td>1.0001208</td></tr>\n",
       "\t<tr><td>dynadot                  </td><td> 4481</td><td>  2</td><td>0.9689663</td><td>0.9703191</td><td>0.9986058</td></tr>\n",
       "\t<tr><td>network solutions        </td><td> 4222</td><td>  3</td><td>0.7072766</td><td>0.7051161</td><td>1.0030641</td></tr>\n",
       "\t<tr><td>url solutions            </td><td> 3967</td><td>  0</td><td>0.9609277</td><td>0.9616839</td><td>0.9992136</td></tr>\n",
       "\t<tr><td>enom                     </td><td> 3348</td><td> 18</td><td>0.7417417</td><td>0.7359618</td><td>1.0078536</td></tr>\n",
       "\t<tr><td><span style=white-space:pre-wrap>1&amp;1 internet             </span></td><td> 2321</td><td><span style=white-space:pre-wrap>  6</span></td><td>0.5714903</td><td>0.5691512</td><td>1.0041097</td></tr>\n",
       "\t<tr><td>ovh                      </td><td> 2177</td><td>  2</td><td>0.6565517</td><td>0.6022049</td><td>1.0902465</td></tr>\n",
       "\t<tr><td>realtime register        </td><td> 1772</td><td>  6</td><td>0.7689694</td><td>0.7550790</td><td>1.0183960</td></tr>\n",
       "\t<tr><td>key-systems              </td><td> 1591</td><td> 17</td><td>0.7808132</td><td>0.7498429</td><td>1.0413025</td></tr>\n",
       "\t<tr><td>namesilo                 </td><td> 1501</td><td>  2</td><td>0.8545697</td><td>0.7774817</td><td>1.0991509</td></tr>\n",
       "\t<tr><td>beget                    </td><td> 1373</td><td>  2</td><td>0.9175784</td><td>0.9206118</td><td>0.9967050</td></tr>\n",
       "\t<tr><td>dotserve inc             </td><td> 1350</td><td>  0</td><td>0.8555556</td><td>0.8333333</td><td>1.0266667</td></tr>\n",
       "\t<tr><td>west263 international    </td><td> 1348</td><td>  0</td><td>0.8672107</td><td>0.8679525</td><td>0.9991453</td></tr>\n",
       "\t<tr><td>hosting ukraine          </td><td> 1309</td><td>  0</td><td>0.9411765</td><td>0.9442322</td><td>0.9967638</td></tr>\n",
       "\t<tr><td>domain.com - registrar   </td><td> 1303</td><td>  2</td><td>0.5995388</td><td>0.6116654</td><td>0.9801745</td></tr>\n",
       "\t<tr><td>ru-center                </td><td> 1196</td><td>  5</td><td>0.8463476</td><td>0.8536789</td><td>0.9914121</td></tr>\n",
       "\t<tr><td>hosting concepts         </td><td> 1093</td><td> 11</td><td>0.7939002</td><td>0.7904849</td><td>1.0043205</td></tr>\n",
       "\t<tr><td>⋮</td><td>⋮</td><td>⋮</td><td>⋮</td><td>⋮</td><td>⋮</td></tr>\n",
       "\t<tr><td>safenames ltd             </td><td>3</td><td>3</td><td>1e-06</td><td>0.0000010</td><td>1e+00</td></tr>\n",
       "\t<tr><td>server plan               </td><td>3</td><td>1</td><td>1e-06</td><td>0.3333333</td><td>3e-06</td></tr>\n",
       "\t<tr><td>tecnocratica centro       </td><td>3</td><td>1</td><td>1e+00</td><td>0.3333333</td><td>3e+00</td></tr>\n",
       "\t<tr><td>beijing guoxu             </td><td>2</td><td>2</td><td>1e-06</td><td>1.0000000</td><td>1e-06</td></tr>\n",
       "\t<tr><td>dnc holdings              </td><td>2</td><td>1</td><td>1e-06</td><td>0.5000000</td><td>2e-06</td></tr>\n",
       "\t<tr><td>domain the net            </td><td>2</td><td>2</td><td>1e-06</td><td>0.5000000</td><td>2e-06</td></tr>\n",
       "\t<tr><td>ename tech                </td><td>2</td><td>2</td><td>1e-06</td><td>0.0000010</td><td>1e+00</td></tr>\n",
       "\t<tr><td>entorno digital           </td><td>2</td><td>2</td><td>1e-06</td><td>1.0000000</td><td>1e-06</td></tr>\n",
       "\t<tr><td>inames                    </td><td>2</td><td>2</td><td>1e-06</td><td>0.0000010</td><td>1e+00</td></tr>\n",
       "\t<tr><td>innovadeus                </td><td>2</td><td>2</td><td>1e-06</td><td>1.0000000</td><td>1e-06</td></tr>\n",
       "\t<tr><td>mailclub                  </td><td>2</td><td>2</td><td>1e-06</td><td>0.5000000</td><td>2e-06</td></tr>\n",
       "\t<tr><td>nameweb                   </td><td>2</td><td>1</td><td>1e+00</td><td>1.0000000</td><td>1e+00</td></tr>\n",
       "\t<tr><td>ownregistrar              </td><td>2</td><td>1</td><td>1e+00</td><td>0.5000000</td><td>2e+00</td></tr>\n",
       "\t<tr><td>regtime ltd               </td><td>2</td><td>0</td><td>5e-01</td><td>0.0000010</td><td>5e+05</td></tr>\n",
       "\t<tr><td>sibername                 </td><td>2</td><td>1</td><td>1e+00</td><td>0.5000000</td><td>2e+00</td></tr>\n",
       "\t<tr><td>the registrar company b.v.</td><td>2</td><td>1</td><td>1e+00</td><td>1.0000000</td><td>1e+00</td></tr>\n",
       "\t<tr><td>boltn                     </td><td>1</td><td>1</td><td>1e-06</td><td>1.0000000</td><td>1e-06</td></tr>\n",
       "\t<tr><td>brandsight                </td><td>1</td><td>1</td><td>1e-06</td><td>1.0000000</td><td>1e-06</td></tr>\n",
       "\t<tr><td>cci reg s.a.              </td><td>1</td><td>1</td><td>1e-06</td><td>1.0000000</td><td>1e-06</td></tr>\n",
       "\t<tr><td>domain-it                 </td><td>1</td><td>1</td><td>1e-06</td><td>1.0000000</td><td>1e-06</td></tr>\n",
       "\t<tr><td>eims                      </td><td>1</td><td>0</td><td>1e+00</td><td>1.0000000</td><td>1e+00</td></tr>\n",
       "\t<tr><td>eu technology             </td><td>1</td><td>1</td><td>1e-06</td><td>1.0000000</td><td>1e-06</td></tr>\n",
       "\t<tr><td>french connexion          </td><td>1</td><td>1</td><td>1e-06</td><td>1.0000000</td><td>1e-06</td></tr>\n",
       "\t<tr><td>global village            </td><td>1</td><td>1</td><td>1e-06</td><td>1.0000000</td><td>1e-06</td></tr>\n",
       "\t<tr><td>jiangsu bangning          </td><td>1</td><td>1</td><td>1e-06</td><td>1.0000000</td><td>1e-06</td></tr>\n",
       "\t<tr><td>net4 india                </td><td>1</td><td>0</td><td>1e-06</td><td>0.0000010</td><td>1e+00</td></tr>\n",
       "\t<tr><td>ownregistrar, inc.        </td><td>1</td><td>0</td><td>1e+00</td><td>1.0000000</td><td>1e+00</td></tr>\n",
       "\t<tr><td>virtua drug               </td><td>1</td><td>1</td><td>1e-06</td><td>0.0000010</td><td>1e+00</td></tr>\n",
       "\t<tr><td>web werks                 </td><td>1</td><td>1</td><td>1e-06</td><td>0.0000010</td><td>1e+00</td></tr>\n",
       "\t<tr><td>whois networks            </td><td>1</td><td>0</td><td>1e+00</td><td>1.0000000</td><td>1e+00</td></tr>\n",
       "</tbody>\n",
       "</table>\n"
      ],
      "text/latex": [
       "A data.frame: 155 × 6\n",
       "\\begin{tabular}{llllll}\n",
       " reg & obs\\_count\\_s & na\\_count\\_s & acc\\_0.5\\_s & acc\\_0.5\\_r & acc\\_srrat\\\\\n",
       " <fct> & <int> & <int> & <dbl> & <dbl> & <dbl>\\\\\n",
       "\\hline\n",
       "\t namecheap                 & 55117 &   0 & 0.9392746 & 0.9386578 & 1.0006572\\\\\n",
       "\t gmo                       & 31494 &   8 & 0.9569015 & 0.9577380 & 0.9991266\\\\\n",
       "\t alibaba                   & 30567 &   1 & 0.9654191 & 0.9656492 & 0.9997617\\\\\n",
       "\t go daddy                  & 27537 &   0 & 0.8560482 & 0.8553946 & 1.0007642\\\\\n",
       "\t pdr ltd                   & 16402 & 473 & 0.8698600 & 0.8735520 & 0.9957736\\\\\n",
       "\t reg.ru                    & 15373 &   1 & 0.9514702 & 0.9514083 & 1.0000651\\\\\n",
       "\t chengdu west              & 14040 &   1 & 0.9749270 & 0.9745726 & 1.0003636\\\\\n",
       "\t gandi sas                 & 11686 &   2 & 0.9649093 & 0.9655143 & 0.9993734\\\\\n",
       "\t hostinger                 & 11140 &   0 & 0.9300718 & 0.9300718 & 1.0000000\\\\\n",
       "\t zhengzhou century connect &  7043 &  24 & 0.9978629 & 0.9998580 & 0.9980046\\\\\n",
       "\t uniregistrar              &  6992 &   0 & 0.9829805 & 0.9831236 & 0.9998545\\\\\n",
       "\t onlinenic                 &  6429 &   0 & 0.9959558 & 0.9984445 & 0.9975074\\\\\n",
       "\t tucows                    &  5727 &  42 & 0.7405453 & 0.6949537 & 1.0656037\\\\\n",
       "\t fbs                       &  5675 &  17 & 0.9807352 & 0.9806167 & 1.0001208\\\\\n",
       "\t dynadot                   &  4481 &   2 & 0.9689663 & 0.9703191 & 0.9986058\\\\\n",
       "\t network solutions         &  4222 &   3 & 0.7072766 & 0.7051161 & 1.0030641\\\\\n",
       "\t url solutions             &  3967 &   0 & 0.9609277 & 0.9616839 & 0.9992136\\\\\n",
       "\t enom                      &  3348 &  18 & 0.7417417 & 0.7359618 & 1.0078536\\\\\n",
       "\t 1\\&1 internet              &  2321 &   6 & 0.5714903 & 0.5691512 & 1.0041097\\\\\n",
       "\t ovh                       &  2177 &   2 & 0.6565517 & 0.6022049 & 1.0902465\\\\\n",
       "\t realtime register         &  1772 &   6 & 0.7689694 & 0.7550790 & 1.0183960\\\\\n",
       "\t key-systems               &  1591 &  17 & 0.7808132 & 0.7498429 & 1.0413025\\\\\n",
       "\t namesilo                  &  1501 &   2 & 0.8545697 & 0.7774817 & 1.0991509\\\\\n",
       "\t beget                     &  1373 &   2 & 0.9175784 & 0.9206118 & 0.9967050\\\\\n",
       "\t dotserve inc              &  1350 &   0 & 0.8555556 & 0.8333333 & 1.0266667\\\\\n",
       "\t west263 international     &  1348 &   0 & 0.8672107 & 0.8679525 & 0.9991453\\\\\n",
       "\t hosting ukraine           &  1309 &   0 & 0.9411765 & 0.9442322 & 0.9967638\\\\\n",
       "\t domain.com - registrar    &  1303 &   2 & 0.5995388 & 0.6116654 & 0.9801745\\\\\n",
       "\t ru-center                 &  1196 &   5 & 0.8463476 & 0.8536789 & 0.9914121\\\\\n",
       "\t hosting concepts          &  1093 &  11 & 0.7939002 & 0.7904849 & 1.0043205\\\\\n",
       "\t ⋮ & ⋮ & ⋮ & ⋮ & ⋮ & ⋮\\\\\n",
       "\t safenames ltd              & 3 & 3 & 1e-06 & 0.0000010 & 1e+00\\\\\n",
       "\t server plan                & 3 & 1 & 1e-06 & 0.3333333 & 3e-06\\\\\n",
       "\t tecnocratica centro        & 3 & 1 & 1e+00 & 0.3333333 & 3e+00\\\\\n",
       "\t beijing guoxu              & 2 & 2 & 1e-06 & 1.0000000 & 1e-06\\\\\n",
       "\t dnc holdings               & 2 & 1 & 1e-06 & 0.5000000 & 2e-06\\\\\n",
       "\t domain the net             & 2 & 2 & 1e-06 & 0.5000000 & 2e-06\\\\\n",
       "\t ename tech                 & 2 & 2 & 1e-06 & 0.0000010 & 1e+00\\\\\n",
       "\t entorno digital            & 2 & 2 & 1e-06 & 1.0000000 & 1e-06\\\\\n",
       "\t inames                     & 2 & 2 & 1e-06 & 0.0000010 & 1e+00\\\\\n",
       "\t innovadeus                 & 2 & 2 & 1e-06 & 1.0000000 & 1e-06\\\\\n",
       "\t mailclub                   & 2 & 2 & 1e-06 & 0.5000000 & 2e-06\\\\\n",
       "\t nameweb                    & 2 & 1 & 1e+00 & 1.0000000 & 1e+00\\\\\n",
       "\t ownregistrar               & 2 & 1 & 1e+00 & 0.5000000 & 2e+00\\\\\n",
       "\t regtime ltd                & 2 & 0 & 5e-01 & 0.0000010 & 5e+05\\\\\n",
       "\t sibername                  & 2 & 1 & 1e+00 & 0.5000000 & 2e+00\\\\\n",
       "\t the registrar company b.v. & 2 & 1 & 1e+00 & 1.0000000 & 1e+00\\\\\n",
       "\t boltn                      & 1 & 1 & 1e-06 & 1.0000000 & 1e-06\\\\\n",
       "\t brandsight                 & 1 & 1 & 1e-06 & 1.0000000 & 1e-06\\\\\n",
       "\t cci reg s.a.               & 1 & 1 & 1e-06 & 1.0000000 & 1e-06\\\\\n",
       "\t domain-it                  & 1 & 1 & 1e-06 & 1.0000000 & 1e-06\\\\\n",
       "\t eims                       & 1 & 0 & 1e+00 & 1.0000000 & 1e+00\\\\\n",
       "\t eu technology              & 1 & 1 & 1e-06 & 1.0000000 & 1e-06\\\\\n",
       "\t french connexion           & 1 & 1 & 1e-06 & 1.0000000 & 1e-06\\\\\n",
       "\t global village             & 1 & 1 & 1e-06 & 1.0000000 & 1e-06\\\\\n",
       "\t jiangsu bangning           & 1 & 1 & 1e-06 & 1.0000000 & 1e-06\\\\\n",
       "\t net4 india                 & 1 & 0 & 1e-06 & 0.0000010 & 1e+00\\\\\n",
       "\t ownregistrar, inc.         & 1 & 0 & 1e+00 & 1.0000000 & 1e+00\\\\\n",
       "\t virtua drug                & 1 & 1 & 1e-06 & 0.0000010 & 1e+00\\\\\n",
       "\t web werks                  & 1 & 1 & 1e-06 & 0.0000010 & 1e+00\\\\\n",
       "\t whois networks             & 1 & 0 & 1e+00 & 1.0000000 & 1e+00\\\\\n",
       "\\end{tabular}\n"
      ],
      "text/markdown": [
       "\n",
       "A data.frame: 155 × 6\n",
       "\n",
       "| reg &lt;fct&gt; | obs_count_s &lt;int&gt; | na_count_s &lt;int&gt; | acc_0.5_s &lt;dbl&gt; | acc_0.5_r &lt;dbl&gt; | acc_srrat &lt;dbl&gt; |\n",
       "|---|---|---|---|---|---|\n",
       "| namecheap                 | 55117 |   0 | 0.9392746 | 0.9386578 | 1.0006572 |\n",
       "| gmo                       | 31494 |   8 | 0.9569015 | 0.9577380 | 0.9991266 |\n",
       "| alibaba                   | 30567 |   1 | 0.9654191 | 0.9656492 | 0.9997617 |\n",
       "| go daddy                  | 27537 |   0 | 0.8560482 | 0.8553946 | 1.0007642 |\n",
       "| pdr ltd                   | 16402 | 473 | 0.8698600 | 0.8735520 | 0.9957736 |\n",
       "| reg.ru                    | 15373 |   1 | 0.9514702 | 0.9514083 | 1.0000651 |\n",
       "| chengdu west              | 14040 |   1 | 0.9749270 | 0.9745726 | 1.0003636 |\n",
       "| gandi sas                 | 11686 |   2 | 0.9649093 | 0.9655143 | 0.9993734 |\n",
       "| hostinger                 | 11140 |   0 | 0.9300718 | 0.9300718 | 1.0000000 |\n",
       "| zhengzhou century connect |  7043 |  24 | 0.9978629 | 0.9998580 | 0.9980046 |\n",
       "| uniregistrar              |  6992 |   0 | 0.9829805 | 0.9831236 | 0.9998545 |\n",
       "| onlinenic                 |  6429 |   0 | 0.9959558 | 0.9984445 | 0.9975074 |\n",
       "| tucows                    |  5727 |  42 | 0.7405453 | 0.6949537 | 1.0656037 |\n",
       "| fbs                       |  5675 |  17 | 0.9807352 | 0.9806167 | 1.0001208 |\n",
       "| dynadot                   |  4481 |   2 | 0.9689663 | 0.9703191 | 0.9986058 |\n",
       "| network solutions         |  4222 |   3 | 0.7072766 | 0.7051161 | 1.0030641 |\n",
       "| url solutions             |  3967 |   0 | 0.9609277 | 0.9616839 | 0.9992136 |\n",
       "| enom                      |  3348 |  18 | 0.7417417 | 0.7359618 | 1.0078536 |\n",
       "| 1&amp;1 internet              |  2321 |   6 | 0.5714903 | 0.5691512 | 1.0041097 |\n",
       "| ovh                       |  2177 |   2 | 0.6565517 | 0.6022049 | 1.0902465 |\n",
       "| realtime register         |  1772 |   6 | 0.7689694 | 0.7550790 | 1.0183960 |\n",
       "| key-systems               |  1591 |  17 | 0.7808132 | 0.7498429 | 1.0413025 |\n",
       "| namesilo                  |  1501 |   2 | 0.8545697 | 0.7774817 | 1.0991509 |\n",
       "| beget                     |  1373 |   2 | 0.9175784 | 0.9206118 | 0.9967050 |\n",
       "| dotserve inc              |  1350 |   0 | 0.8555556 | 0.8333333 | 1.0266667 |\n",
       "| west263 international     |  1348 |   0 | 0.8672107 | 0.8679525 | 0.9991453 |\n",
       "| hosting ukraine           |  1309 |   0 | 0.9411765 | 0.9442322 | 0.9967638 |\n",
       "| domain.com - registrar    |  1303 |   2 | 0.5995388 | 0.6116654 | 0.9801745 |\n",
       "| ru-center                 |  1196 |   5 | 0.8463476 | 0.8536789 | 0.9914121 |\n",
       "| hosting concepts          |  1093 |  11 | 0.7939002 | 0.7904849 | 1.0043205 |\n",
       "| ⋮ | ⋮ | ⋮ | ⋮ | ⋮ | ⋮ |\n",
       "| safenames ltd              | 3 | 3 | 1e-06 | 0.0000010 | 1e+00 |\n",
       "| server plan                | 3 | 1 | 1e-06 | 0.3333333 | 3e-06 |\n",
       "| tecnocratica centro        | 3 | 1 | 1e+00 | 0.3333333 | 3e+00 |\n",
       "| beijing guoxu              | 2 | 2 | 1e-06 | 1.0000000 | 1e-06 |\n",
       "| dnc holdings               | 2 | 1 | 1e-06 | 0.5000000 | 2e-06 |\n",
       "| domain the net             | 2 | 2 | 1e-06 | 0.5000000 | 2e-06 |\n",
       "| ename tech                 | 2 | 2 | 1e-06 | 0.0000010 | 1e+00 |\n",
       "| entorno digital            | 2 | 2 | 1e-06 | 1.0000000 | 1e-06 |\n",
       "| inames                     | 2 | 2 | 1e-06 | 0.0000010 | 1e+00 |\n",
       "| innovadeus                 | 2 | 2 | 1e-06 | 1.0000000 | 1e-06 |\n",
       "| mailclub                   | 2 | 2 | 1e-06 | 0.5000000 | 2e-06 |\n",
       "| nameweb                    | 2 | 1 | 1e+00 | 1.0000000 | 1e+00 |\n",
       "| ownregistrar               | 2 | 1 | 1e+00 | 0.5000000 | 2e+00 |\n",
       "| regtime ltd                | 2 | 0 | 5e-01 | 0.0000010 | 5e+05 |\n",
       "| sibername                  | 2 | 1 | 1e+00 | 0.5000000 | 2e+00 |\n",
       "| the registrar company b.v. | 2 | 1 | 1e+00 | 1.0000000 | 1e+00 |\n",
       "| boltn                      | 1 | 1 | 1e-06 | 1.0000000 | 1e-06 |\n",
       "| brandsight                 | 1 | 1 | 1e-06 | 1.0000000 | 1e-06 |\n",
       "| cci reg s.a.               | 1 | 1 | 1e-06 | 1.0000000 | 1e-06 |\n",
       "| domain-it                  | 1 | 1 | 1e-06 | 1.0000000 | 1e-06 |\n",
       "| eims                       | 1 | 0 | 1e+00 | 1.0000000 | 1e+00 |\n",
       "| eu technology              | 1 | 1 | 1e-06 | 1.0000000 | 1e-06 |\n",
       "| french connexion           | 1 | 1 | 1e-06 | 1.0000000 | 1e-06 |\n",
       "| global village             | 1 | 1 | 1e-06 | 1.0000000 | 1e-06 |\n",
       "| jiangsu bangning           | 1 | 1 | 1e-06 | 1.0000000 | 1e-06 |\n",
       "| net4 india                 | 1 | 0 | 1e-06 | 0.0000010 | 1e+00 |\n",
       "| ownregistrar, inc.         | 1 | 0 | 1e+00 | 1.0000000 | 1e+00 |\n",
       "| virtua drug                | 1 | 1 | 1e-06 | 0.0000010 | 1e+00 |\n",
       "| web werks                  | 1 | 1 | 1e-06 | 0.0000010 | 1e+00 |\n",
       "| whois networks             | 1 | 0 | 1e+00 | 1.0000000 | 1e+00 |\n",
       "\n"
      ],
      "text/plain": [
       "    reg                        obs_count_s na_count_s acc_0.5_s acc_0.5_r\n",
       "1   namecheap                  55117         0        0.9392746 0.9386578\n",
       "2   gmo                        31494         8        0.9569015 0.9577380\n",
       "3   alibaba                    30567         1        0.9654191 0.9656492\n",
       "4   go daddy                   27537         0        0.8560482 0.8553946\n",
       "5   pdr ltd                    16402       473        0.8698600 0.8735520\n",
       "6   reg.ru                     15373         1        0.9514702 0.9514083\n",
       "7   chengdu west               14040         1        0.9749270 0.9745726\n",
       "8   gandi sas                  11686         2        0.9649093 0.9655143\n",
       "9   hostinger                  11140         0        0.9300718 0.9300718\n",
       "10  zhengzhou century connect   7043        24        0.9978629 0.9998580\n",
       "11  uniregistrar                6992         0        0.9829805 0.9831236\n",
       "12  onlinenic                   6429         0        0.9959558 0.9984445\n",
       "13  tucows                      5727        42        0.7405453 0.6949537\n",
       "14  fbs                         5675        17        0.9807352 0.9806167\n",
       "15  dynadot                     4481         2        0.9689663 0.9703191\n",
       "16  network solutions           4222         3        0.7072766 0.7051161\n",
       "17  url solutions               3967         0        0.9609277 0.9616839\n",
       "18  enom                        3348        18        0.7417417 0.7359618\n",
       "19  1&1 internet                2321         6        0.5714903 0.5691512\n",
       "20  ovh                         2177         2        0.6565517 0.6022049\n",
       "21  realtime register           1772         6        0.7689694 0.7550790\n",
       "22  key-systems                 1591        17        0.7808132 0.7498429\n",
       "23  namesilo                    1501         2        0.8545697 0.7774817\n",
       "24  beget                       1373         2        0.9175784 0.9206118\n",
       "25  dotserve inc                1350         0        0.8555556 0.8333333\n",
       "26  west263 international       1348         0        0.8672107 0.8679525\n",
       "27  hosting ukraine             1309         0        0.9411765 0.9442322\n",
       "28  domain.com - registrar      1303         2        0.5995388 0.6116654\n",
       "29  ru-center                   1196         5        0.8463476 0.8536789\n",
       "30  hosting concepts            1093        11        0.7939002 0.7904849\n",
       "⋮   ⋮                          ⋮           ⋮          ⋮         ⋮        \n",
       "126 safenames ltd              3           3          1e-06     0.0000010\n",
       "127 server plan                3           1          1e-06     0.3333333\n",
       "128 tecnocratica centro        3           1          1e+00     0.3333333\n",
       "129 beijing guoxu              2           2          1e-06     1.0000000\n",
       "130 dnc holdings               2           1          1e-06     0.5000000\n",
       "131 domain the net             2           2          1e-06     0.5000000\n",
       "132 ename tech                 2           2          1e-06     0.0000010\n",
       "133 entorno digital            2           2          1e-06     1.0000000\n",
       "134 inames                     2           2          1e-06     0.0000010\n",
       "135 innovadeus                 2           2          1e-06     1.0000000\n",
       "136 mailclub                   2           2          1e-06     0.5000000\n",
       "137 nameweb                    2           1          1e+00     1.0000000\n",
       "138 ownregistrar               2           1          1e+00     0.5000000\n",
       "139 regtime ltd                2           0          5e-01     0.0000010\n",
       "140 sibername                  2           1          1e+00     0.5000000\n",
       "141 the registrar company b.v. 2           1          1e+00     1.0000000\n",
       "142 boltn                      1           1          1e-06     1.0000000\n",
       "143 brandsight                 1           1          1e-06     1.0000000\n",
       "144 cci reg s.a.               1           1          1e-06     1.0000000\n",
       "145 domain-it                  1           1          1e-06     1.0000000\n",
       "146 eims                       1           0          1e+00     1.0000000\n",
       "147 eu technology              1           1          1e-06     1.0000000\n",
       "148 french connexion           1           1          1e-06     1.0000000\n",
       "149 global village             1           1          1e-06     1.0000000\n",
       "150 jiangsu bangning           1           1          1e-06     1.0000000\n",
       "151 net4 india                 1           0          1e-06     0.0000010\n",
       "152 ownregistrar, inc.         1           0          1e+00     1.0000000\n",
       "153 virtua drug                1           1          1e-06     0.0000010\n",
       "154 web werks                  1           1          1e-06     0.0000010\n",
       "155 whois networks             1           0          1e+00     1.0000000\n",
       "    acc_srrat\n",
       "1   1.0006572\n",
       "2   0.9991266\n",
       "3   0.9997617\n",
       "4   1.0007642\n",
       "5   0.9957736\n",
       "6   1.0000651\n",
       "7   1.0003636\n",
       "8   0.9993734\n",
       "9   1.0000000\n",
       "10  0.9980046\n",
       "11  0.9998545\n",
       "12  0.9975074\n",
       "13  1.0656037\n",
       "14  1.0001208\n",
       "15  0.9986058\n",
       "16  1.0030641\n",
       "17  0.9992136\n",
       "18  1.0078536\n",
       "19  1.0041097\n",
       "20  1.0902465\n",
       "21  1.0183960\n",
       "22  1.0413025\n",
       "23  1.0991509\n",
       "24  0.9967050\n",
       "25  1.0266667\n",
       "26  0.9991453\n",
       "27  0.9967638\n",
       "28  0.9801745\n",
       "29  0.9914121\n",
       "30  1.0043205\n",
       "⋮   ⋮        \n",
       "126 1e+00    \n",
       "127 3e-06    \n",
       "128 3e+00    \n",
       "129 1e-06    \n",
       "130 2e-06    \n",
       "131 2e-06    \n",
       "132 1e+00    \n",
       "133 1e-06    \n",
       "134 1e+00    \n",
       "135 1e-06    \n",
       "136 2e-06    \n",
       "137 1e+00    \n",
       "138 2e+00    \n",
       "139 5e+05    \n",
       "140 2e+00    \n",
       "141 1e+00    \n",
       "142 1e-06    \n",
       "143 1e-06    \n",
       "144 1e-06    \n",
       "145 1e-06    \n",
       "146 1e+00    \n",
       "147 1e-06    \n",
       "148 1e-06    \n",
       "149 1e-06    \n",
       "150 1e-06    \n",
       "151 1e+00    \n",
       "152 1e+00    \n",
       "153 1e+00    \n",
       "154 1e+00    \n",
       "155 1e+00    "
      ]
     },
     "metadata": {},
     "output_type": "display_data"
    }
   ],
   "source": [
    "# by accuracy\n",
    "joint_pred_df[c(\"reg\",\"obs_count_s\",\"na_count_s\",\"acc_0.5_s\",\"acc_0.5_r\",\"acc_srrat\")] %>% arrange(desc(obs_count_s))"
   ]
  },
  {
   "cell_type": "code",
   "execution_count": 9,
   "metadata": {},
   "outputs": [
    {
     "data": {
      "text/html": [
       "<table>\n",
       "<caption>A data.frame: 155 × 8</caption>\n",
       "<thead>\n",
       "\t<tr><th scope=col>reg</th><th scope=col>obs_count_s</th><th scope=col>na_count_s</th><th scope=col>tpr_0.5_s</th><th scope=col>tpr_0.5_r</th><th scope=col>aucpr_s</th><th scope=col>aucpr_r</th><th scope=col>aucpr_srrat</th></tr>\n",
       "\t<tr><th scope=col>&lt;fct&gt;</th><th scope=col>&lt;int&gt;</th><th scope=col>&lt;int&gt;</th><th scope=col>&lt;dbl&gt;</th><th scope=col>&lt;dbl&gt;</th><th scope=col>&lt;dbl&gt;</th><th scope=col>&lt;dbl&gt;</th><th scope=col>&lt;dbl&gt;</th></tr>\n",
       "</thead>\n",
       "<tbody>\n",
       "\t<tr><td>namecheap                </td><td>55117</td><td>  0</td><td>0.006009615</td><td>0.063401442</td><td>0.20315002</td><td>0.18892813</td><td>1.0752767</td></tr>\n",
       "\t<tr><td>gmo                      </td><td>31494</td><td>  8</td><td>0.141703377</td><td>0.030036630</td><td>0.38607414</td><td>0.11609370</td><td>3.3255390</td></tr>\n",
       "\t<tr><td>alibaba                  </td><td>30567</td><td>  1</td><td>0.001913876</td><td>0.003827751</td><td>0.16570439</td><td>0.17257293</td><td>0.9601992</td></tr>\n",
       "\t<tr><td>go daddy                 </td><td>27537</td><td>  0</td><td>0.095415118</td><td>0.065923172</td><td>0.35813266</td><td>0.33671268</td><td>1.0636150</td></tr>\n",
       "\t<tr><td>pdr ltd                  </td><td>16402</td><td>473</td><td>0.153734940</td><td>0.017274472</td><td>0.40277116</td><td>0.27120713</td><td>1.4851053</td></tr>\n",
       "\t<tr><td>reg.ru                   </td><td>15373</td><td>  1</td><td>0.001340483</td><td>0.000000000</td><td>0.18745978</td><td>0.14659013</td><td>1.2788022</td></tr>\n",
       "\t<tr><td>chengdu west             </td><td>14040</td><td>  1</td><td>0.022471910</td><td>0.011204482</td><td>0.27039679</td><td>0.22024362</td><td>1.2277168</td></tr>\n",
       "\t<tr><td>gandi sas                </td><td>11686</td><td>  2</td><td>0.060975610</td><td>0.051094891</td><td>0.33287310</td><td>0.34864064</td><td>0.9547742</td></tr>\n",
       "\t<tr><td>hostinger                </td><td>11140</td><td>  0</td><td>0.000000000</td><td>0.000000000</td><td>0.10372553</td><td>0.08330299</td><td>1.2451598</td></tr>\n",
       "\t<tr><td>zhengzhou century connect</td><td> 7043</td><td> 24</td><td>0.000000000</td><td>0.000000000</td><td>0.50007124</td><td>0.60000000</td><td>0.8334521</td></tr>\n",
       "\t<tr><td>uniregistrar             </td><td> 6992</td><td>  0</td><td>0.008474576</td><td>0.000000000</td><td>0.15959594</td><td>0.14783289</td><td>1.0795699</td></tr>\n",
       "\t<tr><td>onlinenic                </td><td> 6429</td><td>  0</td><td>0.200000000</td><td>0.000000000</td><td>0.18069888</td><td>0.37017927</td><td>0.4881388</td></tr>\n",
       "\t<tr><td>tucows                   </td><td> 5727</td><td> 42</td><td>0.465063001</td><td>0.035087719</td><td>0.56048343</td><td>0.43791860</td><td>1.2798804</td></tr>\n",
       "\t<tr><td>fbs                      </td><td> 5675</td><td> 17</td><td>0.000000000</td><td>0.000000000</td><td>0.04622738</td><td>0.05204469</td><td>0.8882247</td></tr>\n",
       "\t<tr><td>dynadot                  </td><td> 4481</td><td>  2</td><td>0.030075188</td><td>0.007518797</td><td>0.16685401</td><td>0.11373646</td><td>1.4670231</td></tr>\n",
       "\t<tr><td>network solutions        </td><td> 4222</td><td>  3</td><td>0.120745543</td><td>0.042949757</td><td>0.42849446</td><td>0.40900598</td><td>1.0476484</td></tr>\n",
       "\t<tr><td>url solutions            </td><td> 3967</td><td>  0</td><td>0.006578947</td><td>0.000000000</td><td>0.06141869</td><td>0.06386818</td><td>0.9616479</td></tr>\n",
       "\t<tr><td>enom                     </td><td> 3348</td><td> 18</td><td>0.161469933</td><td>0.094609461</td><td>0.44946171</td><td>0.41852375</td><td>1.0739216</td></tr>\n",
       "\t<tr><td><span style=white-space:pre-wrap>1&amp;1 internet             </span></td><td> 2321</td><td><span style=white-space:pre-wrap>  6</span></td><td>0.460000000</td><td>0.230309073</td><td>0.48685126</td><td>0.48472030</td><td>1.0043963</td></tr>\n",
       "\t<tr><td>ovh                      </td><td> 2177</td><td>  2</td><td>0.540201005</td><td>0.378920954</td><td>0.54343301</td><td>0.45387909</td><td>1.1973079</td></tr>\n",
       "\t<tr><td>realtime register        </td><td> 1772</td><td>  6</td><td>0.233560091</td><td>0.038374718</td><td>0.41336796</td><td>0.42946833</td><td>0.9625109</td></tr>\n",
       "\t<tr><td>key-systems              </td><td> 1591</td><td> 17</td><td>0.492718447</td><td>0.127659574</td><td>0.55798024</td><td>0.57578799</td><td>0.9690724</td></tr>\n",
       "\t<tr><td>namesilo                 </td><td> 1501</td><td>  2</td><td>0.023255814</td><td>0.237209302</td><td>0.29825193</td><td>0.22113610</td><td>1.3487257</td></tr>\n",
       "\t<tr><td>beget                    </td><td> 1373</td><td>  2</td><td>0.000000000</td><td>0.000000000</td><td>0.24010601</td><td>0.20689792</td><td>1.1605047</td></tr>\n",
       "\t<tr><td>dotserve inc             </td><td> 1350</td><td>  0</td><td>0.146666667</td><td>0.000000000</td><td>0.55364041</td><td>0.28976421</td><td>1.9106584</td></tr>\n",
       "\t<tr><td>west263 international    </td><td> 1348</td><td>  0</td><td>0.011235955</td><td>0.000000000</td><td>0.25964169</td><td>0.25286265</td><td>1.0268092</td></tr>\n",
       "\t<tr><td>hosting ukraine          </td><td> 1309</td><td>  0</td><td>0.026666667</td><td>0.026666667</td><td>0.22228264</td><td>0.23312297</td><td>0.9534995</td></tr>\n",
       "\t<tr><td>domain.com - registrar   </td><td> 1303</td><td>  2</td><td>0.452830189</td><td>0.301886792</td><td>0.50266202</td><td>0.50812017</td><td>0.9892581</td></tr>\n",
       "\t<tr><td>ru-center                </td><td> 1196</td><td>  5</td><td>0.034482759</td><td>0.000000000</td><td>0.28536232</td><td>0.18659874</td><td>1.5292832</td></tr>\n",
       "\t<tr><td>hosting concepts         </td><td> 1093</td><td> 11</td><td>0.222689076</td><td>0.200819672</td><td>0.42513116</td><td>0.40390333</td><td>1.0525567</td></tr>\n",
       "\t<tr><td>⋮</td><td>⋮</td><td>⋮</td><td>⋮</td><td>⋮</td><td>⋮</td><td>⋮</td><td>⋮</td></tr>\n",
       "\t<tr><td>safenames ltd             </td><td>3</td><td>3</td><td> NA</td><td>0.0</td><td>  NA</td><td>  NA</td><td>      NA</td></tr>\n",
       "\t<tr><td>server plan               </td><td>3</td><td>1</td><td>0.0</td><td>0.0</td><td>0.75</td><td>1.00</td><td>0.750000</td></tr>\n",
       "\t<tr><td>tecnocratica centro       </td><td>3</td><td>1</td><td>1.0</td><td>0.0</td><td>1.00</td><td>0.75</td><td>1.333333</td></tr>\n",
       "\t<tr><td>beijing guoxu             </td><td>2</td><td>2</td><td> NA</td><td> NA</td><td>  NA</td><td>  NA</td><td>      NA</td></tr>\n",
       "\t<tr><td>dnc holdings              </td><td>2</td><td>1</td><td> NA</td><td>1.0</td><td>  NA</td><td>1.00</td><td>      NA</td></tr>\n",
       "\t<tr><td>domain the net            </td><td>2</td><td>2</td><td> NA</td><td>1.0</td><td>  NA</td><td>0.75</td><td>      NA</td></tr>\n",
       "\t<tr><td>ename tech                </td><td>2</td><td>2</td><td> NA</td><td>0.0</td><td>  NA</td><td>  NA</td><td>      NA</td></tr>\n",
       "\t<tr><td>entorno digital           </td><td>2</td><td>2</td><td> NA</td><td>1.0</td><td>  NA</td><td>  NA</td><td>      NA</td></tr>\n",
       "\t<tr><td>inames                    </td><td>2</td><td>2</td><td> NA</td><td>0.0</td><td>  NA</td><td>0.75</td><td>      NA</td></tr>\n",
       "\t<tr><td>innovadeus                </td><td>2</td><td>2</td><td> NA</td><td> NA</td><td>  NA</td><td>  NA</td><td>      NA</td></tr>\n",
       "\t<tr><td>mailclub                  </td><td>2</td><td>2</td><td> NA</td><td>0.5</td><td>  NA</td><td>  NA</td><td>      NA</td></tr>\n",
       "\t<tr><td>nameweb                   </td><td>2</td><td>1</td><td>1.0</td><td>1.0</td><td>  NA</td><td>  NA</td><td>      NA</td></tr>\n",
       "\t<tr><td>ownregistrar              </td><td>2</td><td>1</td><td> NA</td><td> NA</td><td>  NA</td><td>  NA</td><td>      NA</td></tr>\n",
       "\t<tr><td>regtime ltd               </td><td>2</td><td>0</td><td>0.5</td><td>0.0</td><td>  NA</td><td>  NA</td><td>      NA</td></tr>\n",
       "\t<tr><td>sibername                 </td><td>2</td><td>1</td><td> NA</td><td>0.0</td><td>  NA</td><td>1.00</td><td>      NA</td></tr>\n",
       "\t<tr><td>the registrar company b.v.</td><td>2</td><td>1</td><td>1.0</td><td>1.0</td><td>  NA</td><td>  NA</td><td>      NA</td></tr>\n",
       "\t<tr><td>boltn                     </td><td>1</td><td>1</td><td> NA</td><td>1.0</td><td>  NA</td><td>  NA</td><td>      NA</td></tr>\n",
       "\t<tr><td>brandsight                </td><td>1</td><td>1</td><td> NA</td><td>1.0</td><td>  NA</td><td>  NA</td><td>      NA</td></tr>\n",
       "\t<tr><td>cci reg s.a.              </td><td>1</td><td>1</td><td> NA</td><td>1.0</td><td>  NA</td><td>  NA</td><td>      NA</td></tr>\n",
       "\t<tr><td>domain-it                 </td><td>1</td><td>1</td><td> NA</td><td>1.0</td><td>  NA</td><td>  NA</td><td>      NA</td></tr>\n",
       "\t<tr><td>eims                      </td><td>1</td><td>0</td><td> NA</td><td> NA</td><td>  NA</td><td>  NA</td><td>      NA</td></tr>\n",
       "\t<tr><td>eu technology             </td><td>1</td><td>1</td><td> NA</td><td> NA</td><td>  NA</td><td>  NA</td><td>      NA</td></tr>\n",
       "\t<tr><td>french connexion          </td><td>1</td><td>1</td><td> NA</td><td>1.0</td><td>  NA</td><td>  NA</td><td>      NA</td></tr>\n",
       "\t<tr><td>global village            </td><td>1</td><td>1</td><td> NA</td><td> NA</td><td>  NA</td><td>  NA</td><td>      NA</td></tr>\n",
       "\t<tr><td>jiangsu bangning          </td><td>1</td><td>1</td><td> NA</td><td> NA</td><td>  NA</td><td>  NA</td><td>      NA</td></tr>\n",
       "\t<tr><td>net4 india                </td><td>1</td><td>0</td><td>0.0</td><td>0.0</td><td>  NA</td><td>  NA</td><td>      NA</td></tr>\n",
       "\t<tr><td>ownregistrar, inc.        </td><td>1</td><td>0</td><td> NA</td><td> NA</td><td>  NA</td><td>  NA</td><td>      NA</td></tr>\n",
       "\t<tr><td>virtua drug               </td><td>1</td><td>1</td><td> NA</td><td>0.0</td><td>  NA</td><td>  NA</td><td>      NA</td></tr>\n",
       "\t<tr><td>web werks                 </td><td>1</td><td>1</td><td> NA</td><td>0.0</td><td>  NA</td><td>  NA</td><td>      NA</td></tr>\n",
       "\t<tr><td>whois networks            </td><td>1</td><td>0</td><td> NA</td><td> NA</td><td>  NA</td><td>  NA</td><td>      NA</td></tr>\n",
       "</tbody>\n",
       "</table>\n"
      ],
      "text/latex": [
       "A data.frame: 155 × 8\n",
       "\\begin{tabular}{llllllll}\n",
       " reg & obs\\_count\\_s & na\\_count\\_s & tpr\\_0.5\\_s & tpr\\_0.5\\_r & aucpr\\_s & aucpr\\_r & aucpr\\_srrat\\\\\n",
       " <fct> & <int> & <int> & <dbl> & <dbl> & <dbl> & <dbl> & <dbl>\\\\\n",
       "\\hline\n",
       "\t namecheap                 & 55117 &   0 & 0.006009615 & 0.063401442 & 0.20315002 & 0.18892813 & 1.0752767\\\\\n",
       "\t gmo                       & 31494 &   8 & 0.141703377 & 0.030036630 & 0.38607414 & 0.11609370 & 3.3255390\\\\\n",
       "\t alibaba                   & 30567 &   1 & 0.001913876 & 0.003827751 & 0.16570439 & 0.17257293 & 0.9601992\\\\\n",
       "\t go daddy                  & 27537 &   0 & 0.095415118 & 0.065923172 & 0.35813266 & 0.33671268 & 1.0636150\\\\\n",
       "\t pdr ltd                   & 16402 & 473 & 0.153734940 & 0.017274472 & 0.40277116 & 0.27120713 & 1.4851053\\\\\n",
       "\t reg.ru                    & 15373 &   1 & 0.001340483 & 0.000000000 & 0.18745978 & 0.14659013 & 1.2788022\\\\\n",
       "\t chengdu west              & 14040 &   1 & 0.022471910 & 0.011204482 & 0.27039679 & 0.22024362 & 1.2277168\\\\\n",
       "\t gandi sas                 & 11686 &   2 & 0.060975610 & 0.051094891 & 0.33287310 & 0.34864064 & 0.9547742\\\\\n",
       "\t hostinger                 & 11140 &   0 & 0.000000000 & 0.000000000 & 0.10372553 & 0.08330299 & 1.2451598\\\\\n",
       "\t zhengzhou century connect &  7043 &  24 & 0.000000000 & 0.000000000 & 0.50007124 & 0.60000000 & 0.8334521\\\\\n",
       "\t uniregistrar              &  6992 &   0 & 0.008474576 & 0.000000000 & 0.15959594 & 0.14783289 & 1.0795699\\\\\n",
       "\t onlinenic                 &  6429 &   0 & 0.200000000 & 0.000000000 & 0.18069888 & 0.37017927 & 0.4881388\\\\\n",
       "\t tucows                    &  5727 &  42 & 0.465063001 & 0.035087719 & 0.56048343 & 0.43791860 & 1.2798804\\\\\n",
       "\t fbs                       &  5675 &  17 & 0.000000000 & 0.000000000 & 0.04622738 & 0.05204469 & 0.8882247\\\\\n",
       "\t dynadot                   &  4481 &   2 & 0.030075188 & 0.007518797 & 0.16685401 & 0.11373646 & 1.4670231\\\\\n",
       "\t network solutions         &  4222 &   3 & 0.120745543 & 0.042949757 & 0.42849446 & 0.40900598 & 1.0476484\\\\\n",
       "\t url solutions             &  3967 &   0 & 0.006578947 & 0.000000000 & 0.06141869 & 0.06386818 & 0.9616479\\\\\n",
       "\t enom                      &  3348 &  18 & 0.161469933 & 0.094609461 & 0.44946171 & 0.41852375 & 1.0739216\\\\\n",
       "\t 1\\&1 internet              &  2321 &   6 & 0.460000000 & 0.230309073 & 0.48685126 & 0.48472030 & 1.0043963\\\\\n",
       "\t ovh                       &  2177 &   2 & 0.540201005 & 0.378920954 & 0.54343301 & 0.45387909 & 1.1973079\\\\\n",
       "\t realtime register         &  1772 &   6 & 0.233560091 & 0.038374718 & 0.41336796 & 0.42946833 & 0.9625109\\\\\n",
       "\t key-systems               &  1591 &  17 & 0.492718447 & 0.127659574 & 0.55798024 & 0.57578799 & 0.9690724\\\\\n",
       "\t namesilo                  &  1501 &   2 & 0.023255814 & 0.237209302 & 0.29825193 & 0.22113610 & 1.3487257\\\\\n",
       "\t beget                     &  1373 &   2 & 0.000000000 & 0.000000000 & 0.24010601 & 0.20689792 & 1.1605047\\\\\n",
       "\t dotserve inc              &  1350 &   0 & 0.146666667 & 0.000000000 & 0.55364041 & 0.28976421 & 1.9106584\\\\\n",
       "\t west263 international     &  1348 &   0 & 0.011235955 & 0.000000000 & 0.25964169 & 0.25286265 & 1.0268092\\\\\n",
       "\t hosting ukraine           &  1309 &   0 & 0.026666667 & 0.026666667 & 0.22228264 & 0.23312297 & 0.9534995\\\\\n",
       "\t domain.com - registrar    &  1303 &   2 & 0.452830189 & 0.301886792 & 0.50266202 & 0.50812017 & 0.9892581\\\\\n",
       "\t ru-center                 &  1196 &   5 & 0.034482759 & 0.000000000 & 0.28536232 & 0.18659874 & 1.5292832\\\\\n",
       "\t hosting concepts          &  1093 &  11 & 0.222689076 & 0.200819672 & 0.42513116 & 0.40390333 & 1.0525567\\\\\n",
       "\t ⋮ & ⋮ & ⋮ & ⋮ & ⋮ & ⋮ & ⋮ & ⋮\\\\\n",
       "\t safenames ltd              & 3 & 3 &  NA & 0.0 &   NA &   NA &       NA\\\\\n",
       "\t server plan                & 3 & 1 & 0.0 & 0.0 & 0.75 & 1.00 & 0.750000\\\\\n",
       "\t tecnocratica centro        & 3 & 1 & 1.0 & 0.0 & 1.00 & 0.75 & 1.333333\\\\\n",
       "\t beijing guoxu              & 2 & 2 &  NA &  NA &   NA &   NA &       NA\\\\\n",
       "\t dnc holdings               & 2 & 1 &  NA & 1.0 &   NA & 1.00 &       NA\\\\\n",
       "\t domain the net             & 2 & 2 &  NA & 1.0 &   NA & 0.75 &       NA\\\\\n",
       "\t ename tech                 & 2 & 2 &  NA & 0.0 &   NA &   NA &       NA\\\\\n",
       "\t entorno digital            & 2 & 2 &  NA & 1.0 &   NA &   NA &       NA\\\\\n",
       "\t inames                     & 2 & 2 &  NA & 0.0 &   NA & 0.75 &       NA\\\\\n",
       "\t innovadeus                 & 2 & 2 &  NA &  NA &   NA &   NA &       NA\\\\\n",
       "\t mailclub                   & 2 & 2 &  NA & 0.5 &   NA &   NA &       NA\\\\\n",
       "\t nameweb                    & 2 & 1 & 1.0 & 1.0 &   NA &   NA &       NA\\\\\n",
       "\t ownregistrar               & 2 & 1 &  NA &  NA &   NA &   NA &       NA\\\\\n",
       "\t regtime ltd                & 2 & 0 & 0.5 & 0.0 &   NA &   NA &       NA\\\\\n",
       "\t sibername                  & 2 & 1 &  NA & 0.0 &   NA & 1.00 &       NA\\\\\n",
       "\t the registrar company b.v. & 2 & 1 & 1.0 & 1.0 &   NA &   NA &       NA\\\\\n",
       "\t boltn                      & 1 & 1 &  NA & 1.0 &   NA &   NA &       NA\\\\\n",
       "\t brandsight                 & 1 & 1 &  NA & 1.0 &   NA &   NA &       NA\\\\\n",
       "\t cci reg s.a.               & 1 & 1 &  NA & 1.0 &   NA &   NA &       NA\\\\\n",
       "\t domain-it                  & 1 & 1 &  NA & 1.0 &   NA &   NA &       NA\\\\\n",
       "\t eims                       & 1 & 0 &  NA &  NA &   NA &   NA &       NA\\\\\n",
       "\t eu technology              & 1 & 1 &  NA &  NA &   NA &   NA &       NA\\\\\n",
       "\t french connexion           & 1 & 1 &  NA & 1.0 &   NA &   NA &       NA\\\\\n",
       "\t global village             & 1 & 1 &  NA &  NA &   NA &   NA &       NA\\\\\n",
       "\t jiangsu bangning           & 1 & 1 &  NA &  NA &   NA &   NA &       NA\\\\\n",
       "\t net4 india                 & 1 & 0 & 0.0 & 0.0 &   NA &   NA &       NA\\\\\n",
       "\t ownregistrar, inc.         & 1 & 0 &  NA &  NA &   NA &   NA &       NA\\\\\n",
       "\t virtua drug                & 1 & 1 &  NA & 0.0 &   NA &   NA &       NA\\\\\n",
       "\t web werks                  & 1 & 1 &  NA & 0.0 &   NA &   NA &       NA\\\\\n",
       "\t whois networks             & 1 & 0 &  NA &  NA &   NA &   NA &       NA\\\\\n",
       "\\end{tabular}\n"
      ],
      "text/markdown": [
       "\n",
       "A data.frame: 155 × 8\n",
       "\n",
       "| reg &lt;fct&gt; | obs_count_s &lt;int&gt; | na_count_s &lt;int&gt; | tpr_0.5_s &lt;dbl&gt; | tpr_0.5_r &lt;dbl&gt; | aucpr_s &lt;dbl&gt; | aucpr_r &lt;dbl&gt; | aucpr_srrat &lt;dbl&gt; |\n",
       "|---|---|---|---|---|---|---|---|\n",
       "| namecheap                 | 55117 |   0 | 0.006009615 | 0.063401442 | 0.20315002 | 0.18892813 | 1.0752767 |\n",
       "| gmo                       | 31494 |   8 | 0.141703377 | 0.030036630 | 0.38607414 | 0.11609370 | 3.3255390 |\n",
       "| alibaba                   | 30567 |   1 | 0.001913876 | 0.003827751 | 0.16570439 | 0.17257293 | 0.9601992 |\n",
       "| go daddy                  | 27537 |   0 | 0.095415118 | 0.065923172 | 0.35813266 | 0.33671268 | 1.0636150 |\n",
       "| pdr ltd                   | 16402 | 473 | 0.153734940 | 0.017274472 | 0.40277116 | 0.27120713 | 1.4851053 |\n",
       "| reg.ru                    | 15373 |   1 | 0.001340483 | 0.000000000 | 0.18745978 | 0.14659013 | 1.2788022 |\n",
       "| chengdu west              | 14040 |   1 | 0.022471910 | 0.011204482 | 0.27039679 | 0.22024362 | 1.2277168 |\n",
       "| gandi sas                 | 11686 |   2 | 0.060975610 | 0.051094891 | 0.33287310 | 0.34864064 | 0.9547742 |\n",
       "| hostinger                 | 11140 |   0 | 0.000000000 | 0.000000000 | 0.10372553 | 0.08330299 | 1.2451598 |\n",
       "| zhengzhou century connect |  7043 |  24 | 0.000000000 | 0.000000000 | 0.50007124 | 0.60000000 | 0.8334521 |\n",
       "| uniregistrar              |  6992 |   0 | 0.008474576 | 0.000000000 | 0.15959594 | 0.14783289 | 1.0795699 |\n",
       "| onlinenic                 |  6429 |   0 | 0.200000000 | 0.000000000 | 0.18069888 | 0.37017927 | 0.4881388 |\n",
       "| tucows                    |  5727 |  42 | 0.465063001 | 0.035087719 | 0.56048343 | 0.43791860 | 1.2798804 |\n",
       "| fbs                       |  5675 |  17 | 0.000000000 | 0.000000000 | 0.04622738 | 0.05204469 | 0.8882247 |\n",
       "| dynadot                   |  4481 |   2 | 0.030075188 | 0.007518797 | 0.16685401 | 0.11373646 | 1.4670231 |\n",
       "| network solutions         |  4222 |   3 | 0.120745543 | 0.042949757 | 0.42849446 | 0.40900598 | 1.0476484 |\n",
       "| url solutions             |  3967 |   0 | 0.006578947 | 0.000000000 | 0.06141869 | 0.06386818 | 0.9616479 |\n",
       "| enom                      |  3348 |  18 | 0.161469933 | 0.094609461 | 0.44946171 | 0.41852375 | 1.0739216 |\n",
       "| 1&amp;1 internet              |  2321 |   6 | 0.460000000 | 0.230309073 | 0.48685126 | 0.48472030 | 1.0043963 |\n",
       "| ovh                       |  2177 |   2 | 0.540201005 | 0.378920954 | 0.54343301 | 0.45387909 | 1.1973079 |\n",
       "| realtime register         |  1772 |   6 | 0.233560091 | 0.038374718 | 0.41336796 | 0.42946833 | 0.9625109 |\n",
       "| key-systems               |  1591 |  17 | 0.492718447 | 0.127659574 | 0.55798024 | 0.57578799 | 0.9690724 |\n",
       "| namesilo                  |  1501 |   2 | 0.023255814 | 0.237209302 | 0.29825193 | 0.22113610 | 1.3487257 |\n",
       "| beget                     |  1373 |   2 | 0.000000000 | 0.000000000 | 0.24010601 | 0.20689792 | 1.1605047 |\n",
       "| dotserve inc              |  1350 |   0 | 0.146666667 | 0.000000000 | 0.55364041 | 0.28976421 | 1.9106584 |\n",
       "| west263 international     |  1348 |   0 | 0.011235955 | 0.000000000 | 0.25964169 | 0.25286265 | 1.0268092 |\n",
       "| hosting ukraine           |  1309 |   0 | 0.026666667 | 0.026666667 | 0.22228264 | 0.23312297 | 0.9534995 |\n",
       "| domain.com - registrar    |  1303 |   2 | 0.452830189 | 0.301886792 | 0.50266202 | 0.50812017 | 0.9892581 |\n",
       "| ru-center                 |  1196 |   5 | 0.034482759 | 0.000000000 | 0.28536232 | 0.18659874 | 1.5292832 |\n",
       "| hosting concepts          |  1093 |  11 | 0.222689076 | 0.200819672 | 0.42513116 | 0.40390333 | 1.0525567 |\n",
       "| ⋮ | ⋮ | ⋮ | ⋮ | ⋮ | ⋮ | ⋮ | ⋮ |\n",
       "| safenames ltd              | 3 | 3 |  NA | 0.0 |   NA |   NA |       NA |\n",
       "| server plan                | 3 | 1 | 0.0 | 0.0 | 0.75 | 1.00 | 0.750000 |\n",
       "| tecnocratica centro        | 3 | 1 | 1.0 | 0.0 | 1.00 | 0.75 | 1.333333 |\n",
       "| beijing guoxu              | 2 | 2 |  NA |  NA |   NA |   NA |       NA |\n",
       "| dnc holdings               | 2 | 1 |  NA | 1.0 |   NA | 1.00 |       NA |\n",
       "| domain the net             | 2 | 2 |  NA | 1.0 |   NA | 0.75 |       NA |\n",
       "| ename tech                 | 2 | 2 |  NA | 0.0 |   NA |   NA |       NA |\n",
       "| entorno digital            | 2 | 2 |  NA | 1.0 |   NA |   NA |       NA |\n",
       "| inames                     | 2 | 2 |  NA | 0.0 |   NA | 0.75 |       NA |\n",
       "| innovadeus                 | 2 | 2 |  NA |  NA |   NA |   NA |       NA |\n",
       "| mailclub                   | 2 | 2 |  NA | 0.5 |   NA |   NA |       NA |\n",
       "| nameweb                    | 2 | 1 | 1.0 | 1.0 |   NA |   NA |       NA |\n",
       "| ownregistrar               | 2 | 1 |  NA |  NA |   NA |   NA |       NA |\n",
       "| regtime ltd                | 2 | 0 | 0.5 | 0.0 |   NA |   NA |       NA |\n",
       "| sibername                  | 2 | 1 |  NA | 0.0 |   NA | 1.00 |       NA |\n",
       "| the registrar company b.v. | 2 | 1 | 1.0 | 1.0 |   NA |   NA |       NA |\n",
       "| boltn                      | 1 | 1 |  NA | 1.0 |   NA |   NA |       NA |\n",
       "| brandsight                 | 1 | 1 |  NA | 1.0 |   NA |   NA |       NA |\n",
       "| cci reg s.a.               | 1 | 1 |  NA | 1.0 |   NA |   NA |       NA |\n",
       "| domain-it                  | 1 | 1 |  NA | 1.0 |   NA |   NA |       NA |\n",
       "| eims                       | 1 | 0 |  NA |  NA |   NA |   NA |       NA |\n",
       "| eu technology              | 1 | 1 |  NA |  NA |   NA |   NA |       NA |\n",
       "| french connexion           | 1 | 1 |  NA | 1.0 |   NA |   NA |       NA |\n",
       "| global village             | 1 | 1 |  NA |  NA |   NA |   NA |       NA |\n",
       "| jiangsu bangning           | 1 | 1 |  NA |  NA |   NA |   NA |       NA |\n",
       "| net4 india                 | 1 | 0 | 0.0 | 0.0 |   NA |   NA |       NA |\n",
       "| ownregistrar, inc.         | 1 | 0 |  NA |  NA |   NA |   NA |       NA |\n",
       "| virtua drug                | 1 | 1 |  NA | 0.0 |   NA |   NA |       NA |\n",
       "| web werks                  | 1 | 1 |  NA | 0.0 |   NA |   NA |       NA |\n",
       "| whois networks             | 1 | 0 |  NA |  NA |   NA |   NA |       NA |\n",
       "\n"
      ],
      "text/plain": [
       "    reg                        obs_count_s na_count_s tpr_0.5_s   tpr_0.5_r  \n",
       "1   namecheap                  55117         0        0.006009615 0.063401442\n",
       "2   gmo                        31494         8        0.141703377 0.030036630\n",
       "3   alibaba                    30567         1        0.001913876 0.003827751\n",
       "4   go daddy                   27537         0        0.095415118 0.065923172\n",
       "5   pdr ltd                    16402       473        0.153734940 0.017274472\n",
       "6   reg.ru                     15373         1        0.001340483 0.000000000\n",
       "7   chengdu west               14040         1        0.022471910 0.011204482\n",
       "8   gandi sas                  11686         2        0.060975610 0.051094891\n",
       "9   hostinger                  11140         0        0.000000000 0.000000000\n",
       "10  zhengzhou century connect   7043        24        0.000000000 0.000000000\n",
       "11  uniregistrar                6992         0        0.008474576 0.000000000\n",
       "12  onlinenic                   6429         0        0.200000000 0.000000000\n",
       "13  tucows                      5727        42        0.465063001 0.035087719\n",
       "14  fbs                         5675        17        0.000000000 0.000000000\n",
       "15  dynadot                     4481         2        0.030075188 0.007518797\n",
       "16  network solutions           4222         3        0.120745543 0.042949757\n",
       "17  url solutions               3967         0        0.006578947 0.000000000\n",
       "18  enom                        3348        18        0.161469933 0.094609461\n",
       "19  1&1 internet                2321         6        0.460000000 0.230309073\n",
       "20  ovh                         2177         2        0.540201005 0.378920954\n",
       "21  realtime register           1772         6        0.233560091 0.038374718\n",
       "22  key-systems                 1591        17        0.492718447 0.127659574\n",
       "23  namesilo                    1501         2        0.023255814 0.237209302\n",
       "24  beget                       1373         2        0.000000000 0.000000000\n",
       "25  dotserve inc                1350         0        0.146666667 0.000000000\n",
       "26  west263 international       1348         0        0.011235955 0.000000000\n",
       "27  hosting ukraine             1309         0        0.026666667 0.026666667\n",
       "28  domain.com - registrar      1303         2        0.452830189 0.301886792\n",
       "29  ru-center                   1196         5        0.034482759 0.000000000\n",
       "30  hosting concepts            1093        11        0.222689076 0.200819672\n",
       "⋮   ⋮                          ⋮           ⋮          ⋮           ⋮          \n",
       "126 safenames ltd              3           3           NA         0.0        \n",
       "127 server plan                3           1          0.0         0.0        \n",
       "128 tecnocratica centro        3           1          1.0         0.0        \n",
       "129 beijing guoxu              2           2           NA          NA        \n",
       "130 dnc holdings               2           1           NA         1.0        \n",
       "131 domain the net             2           2           NA         1.0        \n",
       "132 ename tech                 2           2           NA         0.0        \n",
       "133 entorno digital            2           2           NA         1.0        \n",
       "134 inames                     2           2           NA         0.0        \n",
       "135 innovadeus                 2           2           NA          NA        \n",
       "136 mailclub                   2           2           NA         0.5        \n",
       "137 nameweb                    2           1          1.0         1.0        \n",
       "138 ownregistrar               2           1           NA          NA        \n",
       "139 regtime ltd                2           0          0.5         0.0        \n",
       "140 sibername                  2           1           NA         0.0        \n",
       "141 the registrar company b.v. 2           1          1.0         1.0        \n",
       "142 boltn                      1           1           NA         1.0        \n",
       "143 brandsight                 1           1           NA         1.0        \n",
       "144 cci reg s.a.               1           1           NA         1.0        \n",
       "145 domain-it                  1           1           NA         1.0        \n",
       "146 eims                       1           0           NA          NA        \n",
       "147 eu technology              1           1           NA          NA        \n",
       "148 french connexion           1           1           NA         1.0        \n",
       "149 global village             1           1           NA          NA        \n",
       "150 jiangsu bangning           1           1           NA          NA        \n",
       "151 net4 india                 1           0          0.0         0.0        \n",
       "152 ownregistrar, inc.         1           0           NA          NA        \n",
       "153 virtua drug                1           1           NA         0.0        \n",
       "154 web werks                  1           1           NA         0.0        \n",
       "155 whois networks             1           0           NA          NA        \n",
       "    aucpr_s    aucpr_r    aucpr_srrat\n",
       "1   0.20315002 0.18892813 1.0752767  \n",
       "2   0.38607414 0.11609370 3.3255390  \n",
       "3   0.16570439 0.17257293 0.9601992  \n",
       "4   0.35813266 0.33671268 1.0636150  \n",
       "5   0.40277116 0.27120713 1.4851053  \n",
       "6   0.18745978 0.14659013 1.2788022  \n",
       "7   0.27039679 0.22024362 1.2277168  \n",
       "8   0.33287310 0.34864064 0.9547742  \n",
       "9   0.10372553 0.08330299 1.2451598  \n",
       "10  0.50007124 0.60000000 0.8334521  \n",
       "11  0.15959594 0.14783289 1.0795699  \n",
       "12  0.18069888 0.37017927 0.4881388  \n",
       "13  0.56048343 0.43791860 1.2798804  \n",
       "14  0.04622738 0.05204469 0.8882247  \n",
       "15  0.16685401 0.11373646 1.4670231  \n",
       "16  0.42849446 0.40900598 1.0476484  \n",
       "17  0.06141869 0.06386818 0.9616479  \n",
       "18  0.44946171 0.41852375 1.0739216  \n",
       "19  0.48685126 0.48472030 1.0043963  \n",
       "20  0.54343301 0.45387909 1.1973079  \n",
       "21  0.41336796 0.42946833 0.9625109  \n",
       "22  0.55798024 0.57578799 0.9690724  \n",
       "23  0.29825193 0.22113610 1.3487257  \n",
       "24  0.24010601 0.20689792 1.1605047  \n",
       "25  0.55364041 0.28976421 1.9106584  \n",
       "26  0.25964169 0.25286265 1.0268092  \n",
       "27  0.22228264 0.23312297 0.9534995  \n",
       "28  0.50266202 0.50812017 0.9892581  \n",
       "29  0.28536232 0.18659874 1.5292832  \n",
       "30  0.42513116 0.40390333 1.0525567  \n",
       "⋮   ⋮          ⋮          ⋮          \n",
       "126   NA         NA             NA   \n",
       "127 0.75       1.00       0.750000   \n",
       "128 1.00       0.75       1.333333   \n",
       "129   NA         NA             NA   \n",
       "130   NA       1.00             NA   \n",
       "131   NA       0.75             NA   \n",
       "132   NA         NA             NA   \n",
       "133   NA         NA             NA   \n",
       "134   NA       0.75             NA   \n",
       "135   NA         NA             NA   \n",
       "136   NA         NA             NA   \n",
       "137   NA         NA             NA   \n",
       "138   NA         NA             NA   \n",
       "139   NA         NA             NA   \n",
       "140   NA       1.00             NA   \n",
       "141   NA         NA             NA   \n",
       "142   NA         NA             NA   \n",
       "143   NA         NA             NA   \n",
       "144   NA         NA             NA   \n",
       "145   NA         NA             NA   \n",
       "146   NA         NA             NA   \n",
       "147   NA         NA             NA   \n",
       "148   NA         NA             NA   \n",
       "149   NA         NA             NA   \n",
       "150   NA         NA             NA   \n",
       "151   NA         NA             NA   \n",
       "152   NA         NA             NA   \n",
       "153   NA         NA             NA   \n",
       "154   NA         NA             NA   \n",
       "155   NA         NA             NA   "
      ]
     },
     "metadata": {},
     "output_type": "display_data"
    }
   ],
   "source": [
    "# by auc\n",
    "joint_pred_df[c(\"reg\",\"obs_count_s\",\"na_count_s\",\"tpr_0.5_s\",\"tpr_0.5_r\",\"aucpr_s\",\"aucpr_r\",\"aucpr_srrat\")] %>% arrange(desc(obs_count_s))"
   ]
  },
  {
   "cell_type": "markdown",
   "metadata": {},
   "source": [
    "# Rf for one registrar of choice"
   ]
  },
  {
   "cell_type": "code",
   "execution_count": 10,
   "metadata": {},
   "outputs": [],
   "source": []
  },
  {
   "cell_type": "code",
   "execution_count": 15,
   "metadata": {},
   "outputs": [
    {
     "data": {
      "text/html": [
       "<style>\n",
       ".list-inline {list-style: none; margin:0; padding: 0}\n",
       ".list-inline>li {display: inline-block}\n",
       ".list-inline>li:not(:last-child)::after {content: \"\\00b7\"; padding: 0 .5ex}\n",
       "</style>\n",
       "<ol class=list-inline><li>1188250</li><li>12</li></ol>\n"
      ],
      "text/latex": [
       "\\begin{enumerate*}\n",
       "\\item 1188250\n",
       "\\item 12\n",
       "\\end{enumerate*}\n"
      ],
      "text/markdown": [
       "1. 1188250\n",
       "2. 12\n",
       "\n",
       "\n"
      ],
      "text/plain": [
       "[1] 1188250      12"
      ]
     },
     "metadata": {},
     "output_type": "display_data"
    },
    {
     "data": {
      "text/html": [
       "<style>\n",
       ".list-inline {list-style: none; margin:0; padding: 0}\n",
       ".list-inline>li {display: inline-block}\n",
       ".list-inline>li:not(:last-child)::after {content: \"\\00b7\"; padding: 0 .5ex}\n",
       "</style>\n",
       "<ol class=list-inline><li>296797</li><li>12</li></ol>\n"
      ],
      "text/latex": [
       "\\begin{enumerate*}\n",
       "\\item 296797\n",
       "\\item 12\n",
       "\\end{enumerate*}\n"
      ],
      "text/markdown": [
       "1. 296797\n",
       "2. 12\n",
       "\n",
       "\n"
      ],
      "text/plain": [
       "[1] 296797     12"
      ]
     },
     "metadata": {},
     "output_type": "display_data"
    },
    {
     "name": "stdout",
     "output_type": "stream",
     "text": [
      "\n"
     ]
    },
    {
     "data": {
      "text/html": [
       "<style>\n",
       ".list-inline {list-style: none; margin:0; padding: 0}\n",
       ".list-inline>li {display: inline-block}\n",
       ".list-inline>li:not(:last-child)::after {content: \"\\00b7\"; padding: 0 .5ex}\n",
       "</style>\n",
       "<ol class=list-inline><li>126254</li><li>12</li></ol>\n"
      ],
      "text/latex": [
       "\\begin{enumerate*}\n",
       "\\item 126254\n",
       "\\item 12\n",
       "\\end{enumerate*}\n"
      ],
      "text/markdown": [
       "1. 126254\n",
       "2. 12\n",
       "\n",
       "\n"
      ],
      "text/plain": [
       "[1] 126254     12"
      ]
     },
     "metadata": {},
     "output_type": "display_data"
    },
    {
     "data": {
      "text/html": [
       "<style>\n",
       ".list-inline {list-style: none; margin:0; padding: 0}\n",
       ".list-inline>li {display: inline-block}\n",
       ".list-inline>li:not(:last-child)::after {content: \"\\00b7\"; padding: 0 .5ex}\n",
       "</style>\n",
       "<ol class=list-inline><li>31494</li><li>12</li></ol>\n"
      ],
      "text/latex": [
       "\\begin{enumerate*}\n",
       "\\item 31494\n",
       "\\item 12\n",
       "\\end{enumerate*}\n"
      ],
      "text/markdown": [
       "1. 31494\n",
       "2. 12\n",
       "\n",
       "\n"
      ],
      "text/plain": [
       "[1] 31494    12"
      ]
     },
     "metadata": {},
     "output_type": "display_data"
    },
    {
     "name": "stdout",
     "output_type": "stream",
     "text": [
      "\n"
     ]
    },
    {
     "data": {
      "text/html": [
       "<style>\n",
       ".list-inline {list-style: none; margin:0; padding: 0}\n",
       ".list-inline>li {display: inline-block}\n",
       ".list-inline>li:not(:last-child)::after {content: \"\\00b7\"; padding: 0 .5ex}\n",
       "</style>\n",
       "<ol class=list-inline><li>0.106252051335998</li><li>1</li></ol>\n"
      ],
      "text/latex": [
       "\\begin{enumerate*}\n",
       "\\item 0.106252051335998\n",
       "\\item 1\n",
       "\\end{enumerate*}\n"
      ],
      "text/markdown": [
       "1. 0.106252051335998\n",
       "2. 1\n",
       "\n",
       "\n"
      ],
      "text/plain": [
       "[1] 0.1062521 1.0000000"
      ]
     },
     "metadata": {},
     "output_type": "display_data"
    },
    {
     "data": {
      "text/html": [
       "<style>\n",
       ".list-inline {list-style: none; margin:0; padding: 0}\n",
       ".list-inline>li {display: inline-block}\n",
       ".list-inline>li:not(:last-child)::after {content: \"\\00b7\"; padding: 0 .5ex}\n",
       "</style>\n",
       "<ol class=list-inline><li>0.106112932408346</li><li>1</li></ol>\n"
      ],
      "text/latex": [
       "\\begin{enumerate*}\n",
       "\\item 0.106112932408346\n",
       "\\item 1\n",
       "\\end{enumerate*}\n"
      ],
      "text/markdown": [
       "1. 0.106112932408346\n",
       "2. 1\n",
       "\n",
       "\n"
      ],
      "text/plain": [
       "[1] 0.1061129 1.0000000"
      ]
     },
     "metadata": {},
     "output_type": "display_data"
    }
   ],
   "source": [
    "reg_name = 'gmo'\n",
    "\n",
    "# subset data\n",
    "\n",
    "dim(expiry_train_df_sub)\n",
    "dim(expiry_test_df_sub)\n",
    "cat('\\n')\n",
    "\n",
    "expiry_train_df_sub_reg <- expiry_train_df_sub %>% filter(registrar==reg_name)\n",
    "expiry_test_df_sub_reg <- expiry_test_df_sub %>% filter(registrar==reg_name)\n",
    "\n",
    "\n",
    "dim(expiry_train_df_sub_reg)\n",
    "dim(expiry_test_df_sub_reg)\n",
    "cat('\\n')\n",
    "\n",
    "\n",
    "dim(expiry_train_df_sub_reg)/dim(expiry_train_df_sub)\n",
    "dim(expiry_test_df_sub_reg)/dim(expiry_test_df_sub)"
   ]
  },
  {
   "cell_type": "code",
   "execution_count": 16,
   "metadata": {},
   "outputs": [],
   "source": [
    "# train & test RF\n",
    "\n",
    "\n",
    "ranger_03_reg <- ranger(\n",
    "    formula         = renewal_status ~ ., \n",
    "    data            = expiry_test_df_sub_reg, \n",
    "    importance = 'impurity', \n",
    "    num.trees       = 1000,\n",
    "    probability = TRUE,\n",
    "    mtry            = 3,\n",
    "    min.node.size   = 10,\n",
    "    replace = FALSE,\n",
    "    sample.fraction = .8,\n",
    "    seed            = 123\n",
    ")\n",
    "\n",
    "ranger_predict_03_reg <- predict(ranger_03_reg, \n",
    "                          data = expiry_test_df_sub_reg,\n",
    "                          type=\"response\")$predictions\n",
    "\n",
    "ranger_predict_03_reg <- as.data.frame(ranger_predict_03_reg)$Renewed\n",
    "\n",
    "ranger_03_pred_df_reg = data.frame(\"actual\" = expiry_test_df_sub_reg$renewal_status,\n",
    "          \"predicted\" = ranger_predict_03_reg)\n",
    "\n",
    "lift_df_ranger_03_reg <- chart_lift(pred_df = ranger_03_pred_df_reg,\n",
    "                        dep_var = \"actual\",\n",
    "                        pred_var = \"predicted\")\n",
    "\n",
    "gains_plot_ranger_03_reg <- plot_gains (lift_df_ranger_03_reg) \n",
    "\n",
    "auc_ranger_03_reg <- calc_auc(lift_df_ranger_03_reg)\n",
    "toc()\n",
    "\n",
    "\n",
    "\n",
    "\n",
    "\n",
    "\n",
    "\n",
    "# save(ranger_03_reg, file=\"../../data/output/ranger_03_reg\")\n",
    "# save(ranger_predict_03_reg, \n",
    "#      file=\"../../data/output/ranger_predict_03_reg\")\n",
    "# saveRDS(lift_df_ranger_03_reg, file.path('../../data/output/',\"lift_df_ranger_03_reg\"))\n",
    "\n"
   ]
  },
  {
   "cell_type": "code",
   "execution_count": 17,
   "metadata": {},
   "outputs": [
    {
     "data": {
      "text/html": [
       "0.945897435897436"
      ],
      "text/latex": [
       "0.945897435897436"
      ],
      "text/markdown": [
       "0.945897435897436"
      ],
      "text/plain": [
       "[1] 0.9458974"
      ]
     },
     "metadata": {},
     "output_type": "display_data"
    }
   ],
   "source": [
    "auc_ranger_03_reg"
   ]
  },
  {
   "cell_type": "markdown",
   "metadata": {},
   "source": [
    "# Seg_GLM for one registrar of choice"
   ]
  },
  {
   "cell_type": "code",
   "execution_count": 23,
   "metadata": {},
   "outputs": [],
   "source": [
    "filename = 'seg_glm_expiry_exptest'\n",
    "system(paste(sprintf(\"gsutil cp gs://data_input/%s /home/jupyter/local/Domains_202003/data/\", filename)))\n",
    "seg_glm_expiry_exptest <- readRDS(file.path(\"/home/jupyter/local/Domains_202003/data/\", filename))"
   ]
  },
  {
   "cell_type": "code",
   "execution_count": 24,
   "metadata": {},
   "outputs": [
    {
     "data": {
      "text/html": [
       "<style>\n",
       ".list-inline {list-style: none; margin:0; padding: 0}\n",
       ".list-inline>li {display: inline-block}\n",
       ".list-inline>li:not(:last-child)::after {content: \"\\00b7\"; padding: 0 .5ex}\n",
       "</style>\n",
       "<ol class=list-inline><li>296797</li><li>40</li></ol>\n"
      ],
      "text/latex": [
       "\\begin{enumerate*}\n",
       "\\item 296797\n",
       "\\item 40\n",
       "\\end{enumerate*}\n"
      ],
      "text/markdown": [
       "1. 296797\n",
       "2. 40\n",
       "\n",
       "\n"
      ],
      "text/plain": [
       "[1] 296797     40"
      ]
     },
     "metadata": {},
     "output_type": "display_data"
    },
    {
     "name": "stdout",
     "output_type": "stream",
     "text": [
      "\n"
     ]
    },
    {
     "data": {
      "text/html": [
       "<style>\n",
       ".list-inline {list-style: none; margin:0; padding: 0}\n",
       ".list-inline>li {display: inline-block}\n",
       ".list-inline>li:not(:last-child)::after {content: \"\\00b7\"; padding: 0 .5ex}\n",
       "</style>\n",
       "<ol class=list-inline><li>31494</li><li>40</li></ol>\n"
      ],
      "text/latex": [
       "\\begin{enumerate*}\n",
       "\\item 31494\n",
       "\\item 40\n",
       "\\end{enumerate*}\n"
      ],
      "text/markdown": [
       "1. 31494\n",
       "2. 40\n",
       "\n",
       "\n"
      ],
      "text/plain": [
       "[1] 31494    40"
      ]
     },
     "metadata": {},
     "output_type": "display_data"
    },
    {
     "name": "stdout",
     "output_type": "stream",
     "text": [
      "\n"
     ]
    },
    {
     "data": {
      "text/html": [
       "<style>\n",
       ".list-inline {list-style: none; margin:0; padding: 0}\n",
       ".list-inline>li {display: inline-block}\n",
       ".list-inline>li:not(:last-child)::after {content: \"\\00b7\"; padding: 0 .5ex}\n",
       "</style>\n",
       "<ol class=list-inline><li>0.106112932408346</li><li>1</li></ol>\n"
      ],
      "text/latex": [
       "\\begin{enumerate*}\n",
       "\\item 0.106112932408346\n",
       "\\item 1\n",
       "\\end{enumerate*}\n"
      ],
      "text/markdown": [
       "1. 0.106112932408346\n",
       "2. 1\n",
       "\n",
       "\n"
      ],
      "text/plain": [
       "[1] 0.1061129 1.0000000"
      ]
     },
     "metadata": {},
     "output_type": "display_data"
    }
   ],
   "source": [
    "reg_name = 'gmo'\n",
    "\n",
    "# subset data\n",
    "\n",
    "dim(seg_glm_expiry_exptest)\n",
    "cat('\\n')\n",
    "\n",
    "seg_glm_expiry_exptest_reg <-seg_glm_expiry_exptest %>% filter(registrar==reg_name)\n",
    "\n",
    "\n",
    "dim(seg_glm_expiry_exptest_reg)\n",
    "cat('\\n')\n",
    "\n",
    "\n",
    "dim(seg_glm_expiry_exptest_reg)/dim(seg_glm_expiry_exptest)\n",
    "\n"
   ]
  },
  {
   "cell_type": "code",
   "execution_count": 25,
   "metadata": {},
   "outputs": [],
   "source": [
    "seg_glm_expiry_exptest_pred_df_reg = data.frame(\"actual\" = seg_glm_expiry_exptest_reg$renewal_status,\n",
    "          \"predicted\" = seg_glm_expiry_exptest_reg$first_renewal_prediction)\n",
    "\n",
    "lift_df_seg_glm_expiry_exptest_reg <- chart_lift(pred_df = seg_glm_expiry_exptest_pred_df_reg,\n",
    "                        dep_var = \"actual\",\n",
    "                        pred_var = \"predicted\")\n",
    "\n",
    "gains_plot_seg_glm_expiry_exptest_reg <- plot_gains (lift_df_seg_glm_expiry_exptest_reg) \n",
    "\n",
    "auc_seg_glm_expiry_exptest_reg<- calc_auc(lift_df_seg_glm_expiry_exptest_reg)\n",
    "\n",
    "\n",
    "# saveRDS(lift_df_seg_glm_expiry_exptest, file.path('../../data/output/',\"lift_df_seg_glm_expiry_exptest\"))"
   ]
  },
  {
   "cell_type": "code",
   "execution_count": 26,
   "metadata": {},
   "outputs": [
    {
     "data": {
      "text/html": [
       "0.887655677655678"
      ],
      "text/latex": [
       "0.887655677655678"
      ],
      "text/markdown": [
       "0.887655677655678"
      ],
      "text/plain": [
       "[1] 0.8876557"
      ]
     },
     "metadata": {},
     "output_type": "display_data"
    }
   ],
   "source": [
    "auc_seg_glm_expiry_exptest_reg"
   ]
  },
  {
   "cell_type": "code",
   "execution_count": 28,
   "metadata": {},
   "outputs": [
    {
     "data": {
      "text/plain": [
       "\n",
       "   Renewed Not Renewd \n",
       "0.04334159 0.95665841 "
      ]
     },
     "metadata": {},
     "output_type": "display_data"
    }
   ],
   "source": [
    "prop.table(table(seg_glm_expiry_exptest_reg$renewal_status))"
   ]
  },
  {
   "cell_type": "code",
   "execution_count": 35,
   "metadata": {},
   "outputs": [
    {
     "data": {
      "image/png": "[encoded data removed]",
      "text/plain": [
       "plot without title"
      ]
     },
     "metadata": {
      "image/png": {
       "height": 420,
       "width": 420
      },
      "text/plain": {
       "height": 420,
       "width": 420
      }
     },
     "output_type": "display_data"
    }
   ],
   "source": [
    "plot_multigains_reg <- plot_multigains(\n",
    "    lift_df_list=list(\n",
    "        rf_reg = lift_df_ranger_03_reg,\n",
    "        seg_reg = lift_df_seg_glm_expiry_exptest_reg),\n",
    "    auc_list = list(\n",
    "        rf_reg= calc_auc(lift_df_ranger_03_reg),\n",
    "        seg_reg= calc_auc(lift_df_seg_glm_expiry_exptest_reg)),\n",
    "    prop_positive = 0.04334159)\n",
    "# png(file = \"../../data/output/plot_multigains_03_summ4.png\",\n",
    "#     width = 500, height = 375)\n",
    "plot(plot_multigains_reg + \n",
    "      annotate(\"text\", x = .3, y = .3, hjust = 0, label=reg_name,s ize = 24))\n",
    "# dev.off()"
   ]
  },
  {
   "cell_type": "markdown",
   "metadata": {},
   "source": [
    "# Another One!"
   ]
  },
  {
   "cell_type": "code",
   "execution_count": 36,
   "metadata": {},
   "outputs": [],
   "source": [
    "reg_name='namecheap'"
   ]
  },
  {
   "cell_type": "code",
   "execution_count": 37,
   "metadata": {},
   "outputs": [
    {
     "data": {
      "text/html": [
       "<style>\n",
       ".list-inline {list-style: none; margin:0; padding: 0}\n",
       ".list-inline>li {display: inline-block}\n",
       ".list-inline>li:not(:last-child)::after {content: \"\\00b7\"; padding: 0 .5ex}\n",
       "</style>\n",
       "<ol class=list-inline><li>1188250</li><li>12</li></ol>\n"
      ],
      "text/latex": [
       "\\begin{enumerate*}\n",
       "\\item 1188250\n",
       "\\item 12\n",
       "\\end{enumerate*}\n"
      ],
      "text/markdown": [
       "1. 1188250\n",
       "2. 12\n",
       "\n",
       "\n"
      ],
      "text/plain": [
       "[1] 1188250      12"
      ]
     },
     "metadata": {},
     "output_type": "display_data"
    },
    {
     "data": {
      "text/html": [
       "<style>\n",
       ".list-inline {list-style: none; margin:0; padding: 0}\n",
       ".list-inline>li {display: inline-block}\n",
       ".list-inline>li:not(:last-child)::after {content: \"\\00b7\"; padding: 0 .5ex}\n",
       "</style>\n",
       "<ol class=list-inline><li>296797</li><li>12</li></ol>\n"
      ],
      "text/latex": [
       "\\begin{enumerate*}\n",
       "\\item 296797\n",
       "\\item 12\n",
       "\\end{enumerate*}\n"
      ],
      "text/markdown": [
       "1. 296797\n",
       "2. 12\n",
       "\n",
       "\n"
      ],
      "text/plain": [
       "[1] 296797     12"
      ]
     },
     "metadata": {},
     "output_type": "display_data"
    },
    {
     "name": "stdout",
     "output_type": "stream",
     "text": [
      "\n"
     ]
    },
    {
     "data": {
      "text/html": [
       "<style>\n",
       ".list-inline {list-style: none; margin:0; padding: 0}\n",
       ".list-inline>li {display: inline-block}\n",
       ".list-inline>li:not(:last-child)::after {content: \"\\00b7\"; padding: 0 .5ex}\n",
       "</style>\n",
       "<ol class=list-inline><li>221470</li><li>12</li></ol>\n"
      ],
      "text/latex": [
       "\\begin{enumerate*}\n",
       "\\item 221470\n",
       "\\item 12\n",
       "\\end{enumerate*}\n"
      ],
      "text/markdown": [
       "1. 221470\n",
       "2. 12\n",
       "\n",
       "\n"
      ],
      "text/plain": [
       "[1] 221470     12"
      ]
     },
     "metadata": {},
     "output_type": "display_data"
    },
    {
     "data": {
      "text/html": [
       "<style>\n",
       ".list-inline {list-style: none; margin:0; padding: 0}\n",
       ".list-inline>li {display: inline-block}\n",
       ".list-inline>li:not(:last-child)::after {content: \"\\00b7\"; padding: 0 .5ex}\n",
       "</style>\n",
       "<ol class=list-inline><li>55117</li><li>12</li></ol>\n"
      ],
      "text/latex": [
       "\\begin{enumerate*}\n",
       "\\item 55117\n",
       "\\item 12\n",
       "\\end{enumerate*}\n"
      ],
      "text/markdown": [
       "1. 55117\n",
       "2. 12\n",
       "\n",
       "\n"
      ],
      "text/plain": [
       "[1] 55117    12"
      ]
     },
     "metadata": {},
     "output_type": "display_data"
    },
    {
     "name": "stdout",
     "output_type": "stream",
     "text": [
      "\n"
     ]
    },
    {
     "data": {
      "text/html": [
       "<style>\n",
       ".list-inline {list-style: none; margin:0; padding: 0}\n",
       ".list-inline>li {display: inline-block}\n",
       ".list-inline>li:not(:last-child)::after {content: \"\\00b7\"; padding: 0 .5ex}\n",
       "</style>\n",
       "<ol class=list-inline><li>0.186383336839891</li><li>1</li></ol>\n"
      ],
      "text/latex": [
       "\\begin{enumerate*}\n",
       "\\item 0.186383336839891\n",
       "\\item 1\n",
       "\\end{enumerate*}\n"
      ],
      "text/markdown": [
       "1. 0.186383336839891\n",
       "2. 1\n",
       "\n",
       "\n"
      ],
      "text/plain": [
       "[1] 0.1863833 1.0000000"
      ]
     },
     "metadata": {},
     "output_type": "display_data"
    },
    {
     "data": {
      "text/html": [
       "<style>\n",
       ".list-inline {list-style: none; margin:0; padding: 0}\n",
       ".list-inline>li {display: inline-block}\n",
       ".list-inline>li:not(:last-child)::after {content: \"\\00b7\"; padding: 0 .5ex}\n",
       "</style>\n",
       "<ol class=list-inline><li>0.18570605498034</li><li>1</li></ol>\n"
      ],
      "text/latex": [
       "\\begin{enumerate*}\n",
       "\\item 0.18570605498034\n",
       "\\item 1\n",
       "\\end{enumerate*}\n"
      ],
      "text/markdown": [
       "1. 0.18570605498034\n",
       "2. 1\n",
       "\n",
       "\n"
      ],
      "text/plain": [
       "[1] 0.1857061 1.0000000"
      ]
     },
     "metadata": {},
     "output_type": "display_data"
    }
   ],
   "source": [
    "# RF \n",
    "\n",
    "# subset data\n",
    "\n",
    "dim(expiry_train_df_sub)\n",
    "dim(expiry_test_df_sub)\n",
    "cat('\\n')\n",
    "\n",
    "expiry_train_df_sub_reg <- expiry_train_df_sub %>% filter(registrar==reg_name)\n",
    "expiry_test_df_sub_reg <- expiry_test_df_sub %>% filter(registrar==reg_name)\n",
    "\n",
    "\n",
    "dim(expiry_train_df_sub_reg)\n",
    "dim(expiry_test_df_sub_reg)\n",
    "cat('\\n')\n",
    "\n",
    "\n",
    "dim(expiry_train_df_sub_reg)/dim(expiry_train_df_sub)\n",
    "dim(expiry_test_df_sub_reg)/dim(expiry_test_df_sub)\n",
    "\n",
    "# train & test RF\n",
    "ranger_03_reg <- ranger(\n",
    "    formula         = renewal_status ~ ., \n",
    "    data            = expiry_test_df_sub_reg, \n",
    "    importance = 'impurity', \n",
    "    num.trees       = 1000,\n",
    "    probability = TRUE,\n",
    "    mtry            = 3,\n",
    "    min.node.size   = 10,\n",
    "    replace = FALSE,\n",
    "    sample.fraction = .8,\n",
    "    seed            = 123\n",
    ")\n",
    "\n",
    "ranger_predict_03_reg <- predict(ranger_03_reg, \n",
    "                          data = expiry_test_df_sub_reg,\n",
    "                          type=\"response\")$predictions\n",
    "\n",
    "ranger_predict_03_reg <- as.data.frame(ranger_predict_03_reg)$Renewed\n",
    "\n",
    "ranger_03_pred_df_reg = data.frame(\"actual\" = expiry_test_df_sub_reg$renewal_status,\n",
    "          \"predicted\" = ranger_predict_03_reg)\n",
    "\n",
    "lift_df_ranger_03_reg <- chart_lift(pred_df = ranger_03_pred_df_reg,\n",
    "                        dep_var = \"actual\",\n",
    "                        pred_var = \"predicted\")\n",
    "\n",
    "gains_plot_ranger_03_reg <- plot_gains (lift_df_ranger_03_reg) \n",
    "\n",
    "auc_ranger_03_reg <- calc_auc(lift_df_ranger_03_reg)\n",
    "\n",
    "# save(ranger_03_reg, file=\"../../data/output/ranger_03_reg\")\n",
    "# save(ranger_predict_03_reg, \n",
    "#      file=\"../../data/output/ranger_predict_03_reg\")\n",
    "# saveRDS(lift_df_ranger_03_reg, file.path('../../data/output/',\"lift_df_ranger_03_reg\"))\n",
    "\n"
   ]
  },
  {
   "cell_type": "code",
   "execution_count": 38,
   "metadata": {},
   "outputs": [
    {
     "data": {
      "text/html": [
       "<style>\n",
       ".list-inline {list-style: none; margin:0; padding: 0}\n",
       ".list-inline>li {display: inline-block}\n",
       ".list-inline>li:not(:last-child)::after {content: \"\\00b7\"; padding: 0 .5ex}\n",
       "</style>\n",
       "<ol class=list-inline><li>296797</li><li>40</li></ol>\n"
      ],
      "text/latex": [
       "\\begin{enumerate*}\n",
       "\\item 296797\n",
       "\\item 40\n",
       "\\end{enumerate*}\n"
      ],
      "text/markdown": [
       "1. 296797\n",
       "2. 40\n",
       "\n",
       "\n"
      ],
      "text/plain": [
       "[1] 296797     40"
      ]
     },
     "metadata": {},
     "output_type": "display_data"
    },
    {
     "name": "stdout",
     "output_type": "stream",
     "text": [
      "\n"
     ]
    },
    {
     "data": {
      "text/html": [
       "<style>\n",
       ".list-inline {list-style: none; margin:0; padding: 0}\n",
       ".list-inline>li {display: inline-block}\n",
       ".list-inline>li:not(:last-child)::after {content: \"\\00b7\"; padding: 0 .5ex}\n",
       "</style>\n",
       "<ol class=list-inline><li>55117</li><li>40</li></ol>\n"
      ],
      "text/latex": [
       "\\begin{enumerate*}\n",
       "\\item 55117\n",
       "\\item 40\n",
       "\\end{enumerate*}\n"
      ],
      "text/markdown": [
       "1. 55117\n",
       "2. 40\n",
       "\n",
       "\n"
      ],
      "text/plain": [
       "[1] 55117    40"
      ]
     },
     "metadata": {},
     "output_type": "display_data"
    },
    {
     "name": "stdout",
     "output_type": "stream",
     "text": [
      "\n"
     ]
    },
    {
     "data": {
      "text/html": [
       "<style>\n",
       ".list-inline {list-style: none; margin:0; padding: 0}\n",
       ".list-inline>li {display: inline-block}\n",
       ".list-inline>li:not(:last-child)::after {content: \"\\00b7\"; padding: 0 .5ex}\n",
       "</style>\n",
       "<ol class=list-inline><li>0.18570605498034</li><li>1</li></ol>\n"
      ],
      "text/latex": [
       "\\begin{enumerate*}\n",
       "\\item 0.18570605498034\n",
       "\\item 1\n",
       "\\end{enumerate*}\n"
      ],
      "text/markdown": [
       "1. 0.18570605498034\n",
       "2. 1\n",
       "\n",
       "\n"
      ],
      "text/plain": [
       "[1] 0.1857061 1.0000000"
      ]
     },
     "metadata": {},
     "output_type": "display_data"
    }
   ],
   "source": [
    "# seg_glm\n",
    "\n",
    "# subset data\n",
    "\n",
    "dim(seg_glm_expiry_exptest)\n",
    "cat('\\n')\n",
    "\n",
    "seg_glm_expiry_exptest_reg <-seg_glm_expiry_exptest %>% filter(registrar==reg_name)\n",
    "\n",
    "\n",
    "dim(seg_glm_expiry_exptest_reg)\n",
    "cat('\\n')\n",
    "\n",
    "\n",
    "dim(seg_glm_expiry_exptest_reg)/dim(seg_glm_expiry_exptest)\n",
    "\n",
    "\n",
    "\n",
    "seg_glm_expiry_exptest_pred_df_reg = data.frame(\"actual\" = seg_glm_expiry_exptest_reg$renewal_status,\n",
    "          \"predicted\" = seg_glm_expiry_exptest_reg$first_renewal_prediction)\n",
    "\n",
    "lift_df_seg_glm_expiry_exptest_reg <- chart_lift(pred_df = seg_glm_expiry_exptest_pred_df_reg,\n",
    "                        dep_var = \"actual\",\n",
    "                        pred_var = \"predicted\")\n",
    "\n",
    "gains_plot_seg_glm_expiry_exptest_reg <- plot_gains (lift_df_seg_glm_expiry_exptest_reg) \n",
    "\n",
    "auc_seg_glm_expiry_exptest_reg<- calc_auc(lift_df_seg_glm_expiry_exptest_reg)\n",
    "\n",
    "\n",
    "# saveRDS(lift_df_seg_glm_expiry_exptest, file.path('../../data/output/',\"lift_df_seg_glm_expiry_exptest\"))"
   ]
  },
  {
   "cell_type": "code",
   "execution_count": 39,
   "metadata": {},
   "outputs": [
    {
     "data": {
      "text/plain": [
       "\n",
       "   Renewed Not Renewd \n",
       "0.06038064 0.93961936 "
      ]
     },
     "metadata": {},
     "output_type": "display_data"
    }
   ],
   "source": [
    "prop.table(table(seg_glm_expiry_exptest_reg$renewal_status))"
   ]
  },
  {
   "cell_type": "code",
   "execution_count": 42,
   "metadata": {},
   "outputs": [
    {
     "data": {
      "text/html": [
       "0.0603806448101312"
      ],
      "text/latex": [
       "0.0603806448101312"
      ],
      "text/markdown": [
       "0.0603806448101312"
      ],
      "text/plain": [
       "[1] 0.06038064"
      ]
     },
     "metadata": {},
     "output_type": "display_data"
    }
   ],
   "source": [
    "prop_positive = prop.table(table(seg_glm_expiry_exptest_reg$renewal_status))[[1]]\n",
    "prop_positive"
   ]
  },
  {
   "cell_type": "code",
   "execution_count": 45,
   "metadata": {},
   "outputs": [
    {
     "data": {
      "image/png": "[encoded data removed]",
      "text/plain": [
       "plot without title"
      ]
     },
     "metadata": {
      "image/png": {
       "height": 420,
       "width": 420
      },
      "text/plain": {
       "height": 420,
       "width": 420
      }
     },
     "output_type": "display_data"
    }
   ],
   "source": [
    "plot_multigains_reg <- plot_multigains(\n",
    "    lift_df_list=list(\n",
    "        rf_reg = lift_df_ranger_03_reg,\n",
    "        seg_reg = lift_df_seg_glm_expiry_exptest_reg),\n",
    "    auc_list = list(\n",
    "        rf_reg= calc_auc(lift_df_ranger_03_reg),\n",
    "        seg_reg= calc_auc(lift_df_seg_glm_expiry_exptest_reg)),\n",
    "    prop_positive = prop_positive)\n",
    "# png(file = \"../../data/output/plot_multigains_03_summ4.png\",\n",
    "#     width = 500, height = 375)\n",
    "plot(plot_multigains_reg + \n",
    "      annotate(\"text\", x = .15, y = .3, hjust = 0, label=reg_name, size = 24))\n",
    "# dev.off()"
   ]
  },
  {
   "cell_type": "markdown",
   "metadata": {},
   "source": [
    "# Uno Mas!"
   ]
  },
  {
   "cell_type": "code",
   "execution_count": 46,
   "metadata": {},
   "outputs": [],
   "source": [
    "reg_name='alibaba'"
   ]
  },
  {
   "cell_type": "code",
   "execution_count": 47,
   "metadata": {},
   "outputs": [
    {
     "data": {
      "text/html": [
       "<style>\n",
       ".list-inline {list-style: none; margin:0; padding: 0}\n",
       ".list-inline>li {display: inline-block}\n",
       ".list-inline>li:not(:last-child)::after {content: \"\\00b7\"; padding: 0 .5ex}\n",
       "</style>\n",
       "<ol class=list-inline><li>1188250</li><li>12</li></ol>\n"
      ],
      "text/latex": [
       "\\begin{enumerate*}\n",
       "\\item 1188250\n",
       "\\item 12\n",
       "\\end{enumerate*}\n"
      ],
      "text/markdown": [
       "1. 1188250\n",
       "2. 12\n",
       "\n",
       "\n"
      ],
      "text/plain": [
       "[1] 1188250      12"
      ]
     },
     "metadata": {},
     "output_type": "display_data"
    },
    {
     "data": {
      "text/html": [
       "<style>\n",
       ".list-inline {list-style: none; margin:0; padding: 0}\n",
       ".list-inline>li {display: inline-block}\n",
       ".list-inline>li:not(:last-child)::after {content: \"\\00b7\"; padding: 0 .5ex}\n",
       "</style>\n",
       "<ol class=list-inline><li>296797</li><li>12</li></ol>\n"
      ],
      "text/latex": [
       "\\begin{enumerate*}\n",
       "\\item 296797\n",
       "\\item 12\n",
       "\\end{enumerate*}\n"
      ],
      "text/markdown": [
       "1. 296797\n",
       "2. 12\n",
       "\n",
       "\n"
      ],
      "text/plain": [
       "[1] 296797     12"
      ]
     },
     "metadata": {},
     "output_type": "display_data"
    },
    {
     "name": "stdout",
     "output_type": "stream",
     "text": [
      "\n"
     ]
    },
    {
     "data": {
      "text/html": [
       "<style>\n",
       ".list-inline {list-style: none; margin:0; padding: 0}\n",
       ".list-inline>li {display: inline-block}\n",
       ".list-inline>li:not(:last-child)::after {content: \"\\00b7\"; padding: 0 .5ex}\n",
       "</style>\n",
       "<ol class=list-inline><li>123060</li><li>12</li></ol>\n"
      ],
      "text/latex": [
       "\\begin{enumerate*}\n",
       "\\item 123060\n",
       "\\item 12\n",
       "\\end{enumerate*}\n"
      ],
      "text/markdown": [
       "1. 123060\n",
       "2. 12\n",
       "\n",
       "\n"
      ],
      "text/plain": [
       "[1] 123060     12"
      ]
     },
     "metadata": {},
     "output_type": "display_data"
    },
    {
     "data": {
      "text/html": [
       "<style>\n",
       ".list-inline {list-style: none; margin:0; padding: 0}\n",
       ".list-inline>li {display: inline-block}\n",
       ".list-inline>li:not(:last-child)::after {content: \"\\00b7\"; padding: 0 .5ex}\n",
       "</style>\n",
       "<ol class=list-inline><li>30567</li><li>12</li></ol>\n"
      ],
      "text/latex": [
       "\\begin{enumerate*}\n",
       "\\item 30567\n",
       "\\item 12\n",
       "\\end{enumerate*}\n"
      ],
      "text/markdown": [
       "1. 30567\n",
       "2. 12\n",
       "\n",
       "\n"
      ],
      "text/plain": [
       "[1] 30567    12"
      ]
     },
     "metadata": {},
     "output_type": "display_data"
    },
    {
     "name": "stdout",
     "output_type": "stream",
     "text": [
      "\n"
     ]
    },
    {
     "data": {
      "text/html": [
       "<style>\n",
       ".list-inline {list-style: none; margin:0; padding: 0}\n",
       ".list-inline>li {display: inline-block}\n",
       ".list-inline>li:not(:last-child)::after {content: \"\\00b7\"; padding: 0 .5ex}\n",
       "</style>\n",
       "<ol class=list-inline><li>0.103564064801178</li><li>1</li></ol>\n"
      ],
      "text/latex": [
       "\\begin{enumerate*}\n",
       "\\item 0.103564064801178\n",
       "\\item 1\n",
       "\\end{enumerate*}\n"
      ],
      "text/markdown": [
       "1. 0.103564064801178\n",
       "2. 1\n",
       "\n",
       "\n"
      ],
      "text/plain": [
       "[1] 0.1035641 1.0000000"
      ]
     },
     "metadata": {},
     "output_type": "display_data"
    },
    {
     "data": {
      "text/html": [
       "<style>\n",
       ".list-inline {list-style: none; margin:0; padding: 0}\n",
       ".list-inline>li {display: inline-block}\n",
       ".list-inline>li:not(:last-child)::after {content: \"\\00b7\"; padding: 0 .5ex}\n",
       "</style>\n",
       "<ol class=list-inline><li>0.102989585474247</li><li>1</li></ol>\n"
      ],
      "text/latex": [
       "\\begin{enumerate*}\n",
       "\\item 0.102989585474247\n",
       "\\item 1\n",
       "\\end{enumerate*}\n"
      ],
      "text/markdown": [
       "1. 0.102989585474247\n",
       "2. 1\n",
       "\n",
       "\n"
      ],
      "text/plain": [
       "[1] 0.1029896 1.0000000"
      ]
     },
     "metadata": {},
     "output_type": "display_data"
    }
   ],
   "source": [
    "# RF \n",
    "\n",
    "# subset data\n",
    "\n",
    "dim(expiry_train_df_sub)\n",
    "dim(expiry_test_df_sub)\n",
    "cat('\\n')\n",
    "\n",
    "expiry_train_df_sub_reg <- expiry_train_df_sub %>% filter(registrar==reg_name)\n",
    "expiry_test_df_sub_reg <- expiry_test_df_sub %>% filter(registrar==reg_name)\n",
    "\n",
    "\n",
    "dim(expiry_train_df_sub_reg)\n",
    "dim(expiry_test_df_sub_reg)\n",
    "cat('\\n')\n",
    "\n",
    "\n",
    "dim(expiry_train_df_sub_reg)/dim(expiry_train_df_sub)\n",
    "dim(expiry_test_df_sub_reg)/dim(expiry_test_df_sub)\n",
    "\n",
    "# train & test RF\n",
    "ranger_03_reg <- ranger(\n",
    "    formula         = renewal_status ~ ., \n",
    "    data            = expiry_test_df_sub_reg, \n",
    "    importance = 'impurity', \n",
    "    num.trees       = 1000,\n",
    "    probability = TRUE,\n",
    "    mtry            = 3,\n",
    "    min.node.size   = 10,\n",
    "    replace = FALSE,\n",
    "    sample.fraction = .8,\n",
    "    seed            = 123\n",
    ")\n",
    "\n",
    "ranger_predict_03_reg <- predict(ranger_03_reg, \n",
    "                          data = expiry_test_df_sub_reg,\n",
    "                          type=\"response\")$predictions\n",
    "\n",
    "ranger_predict_03_reg <- as.data.frame(ranger_predict_03_reg)$Renewed\n",
    "\n",
    "ranger_03_pred_df_reg = data.frame(\"actual\" = expiry_test_df_sub_reg$renewal_status,\n",
    "          \"predicted\" = ranger_predict_03_reg)\n",
    "\n",
    "lift_df_ranger_03_reg <- chart_lift(pred_df = ranger_03_pred_df_reg,\n",
    "                        dep_var = \"actual\",\n",
    "                        pred_var = \"predicted\")\n",
    "\n",
    "gains_plot_ranger_03_reg <- plot_gains (lift_df_ranger_03_reg) \n",
    "\n",
    "auc_ranger_03_reg <- calc_auc(lift_df_ranger_03_reg)\n",
    "\n",
    "# save(ranger_03_reg, file=\"../../data/output/ranger_03_reg\")\n",
    "# save(ranger_predict_03_reg, \n",
    "#      file=\"../../data/output/ranger_predict_03_reg\")\n",
    "# saveRDS(lift_df_ranger_03_reg, file.path('../../data/output/',\"lift_df_ranger_03_reg\"))\n",
    "\n"
   ]
  },
  {
   "cell_type": "code",
   "execution_count": 48,
   "metadata": {},
   "outputs": [
    {
     "data": {
      "text/html": [
       "<style>\n",
       ".list-inline {list-style: none; margin:0; padding: 0}\n",
       ".list-inline>li {display: inline-block}\n",
       ".list-inline>li:not(:last-child)::after {content: \"\\00b7\"; padding: 0 .5ex}\n",
       "</style>\n",
       "<ol class=list-inline><li>296797</li><li>40</li></ol>\n"
      ],
      "text/latex": [
       "\\begin{enumerate*}\n",
       "\\item 296797\n",
       "\\item 40\n",
       "\\end{enumerate*}\n"
      ],
      "text/markdown": [
       "1. 296797\n",
       "2. 40\n",
       "\n",
       "\n"
      ],
      "text/plain": [
       "[1] 296797     40"
      ]
     },
     "metadata": {},
     "output_type": "display_data"
    },
    {
     "name": "stdout",
     "output_type": "stream",
     "text": [
      "\n"
     ]
    },
    {
     "data": {
      "text/html": [
       "<style>\n",
       ".list-inline {list-style: none; margin:0; padding: 0}\n",
       ".list-inline>li {display: inline-block}\n",
       ".list-inline>li:not(:last-child)::after {content: \"\\00b7\"; padding: 0 .5ex}\n",
       "</style>\n",
       "<ol class=list-inline><li>30567</li><li>40</li></ol>\n"
      ],
      "text/latex": [
       "\\begin{enumerate*}\n",
       "\\item 30567\n",
       "\\item 40\n",
       "\\end{enumerate*}\n"
      ],
      "text/markdown": [
       "1. 30567\n",
       "2. 40\n",
       "\n",
       "\n"
      ],
      "text/plain": [
       "[1] 30567    40"
      ]
     },
     "metadata": {},
     "output_type": "display_data"
    },
    {
     "name": "stdout",
     "output_type": "stream",
     "text": [
      "\n"
     ]
    },
    {
     "data": {
      "text/html": [
       "<style>\n",
       ".list-inline {list-style: none; margin:0; padding: 0}\n",
       ".list-inline>li {display: inline-block}\n",
       ".list-inline>li:not(:last-child)::after {content: \"\\00b7\"; padding: 0 .5ex}\n",
       "</style>\n",
       "<ol class=list-inline><li>0.102989585474247</li><li>1</li></ol>\n"
      ],
      "text/latex": [
       "\\begin{enumerate*}\n",
       "\\item 0.102989585474247\n",
       "\\item 1\n",
       "\\end{enumerate*}\n"
      ],
      "text/markdown": [
       "1. 0.102989585474247\n",
       "2. 1\n",
       "\n",
       "\n"
      ],
      "text/plain": [
       "[1] 0.1029896 1.0000000"
      ]
     },
     "metadata": {},
     "output_type": "display_data"
    }
   ],
   "source": [
    "# seg_glm\n",
    "\n",
    "# subset data\n",
    "\n",
    "dim(seg_glm_expiry_exptest)\n",
    "cat('\\n')\n",
    "\n",
    "seg_glm_expiry_exptest_reg <-seg_glm_expiry_exptest %>% filter(registrar==reg_name)\n",
    "\n",
    "\n",
    "dim(seg_glm_expiry_exptest_reg)\n",
    "cat('\\n')\n",
    "\n",
    "\n",
    "dim(seg_glm_expiry_exptest_reg)/dim(seg_glm_expiry_exptest)\n",
    "\n",
    "\n",
    "\n",
    "seg_glm_expiry_exptest_pred_df_reg = data.frame(\"actual\" = seg_glm_expiry_exptest_reg$renewal_status,\n",
    "          \"predicted\" = seg_glm_expiry_exptest_reg$first_renewal_prediction)\n",
    "\n",
    "lift_df_seg_glm_expiry_exptest_reg <- chart_lift(pred_df = seg_glm_expiry_exptest_pred_df_reg,\n",
    "                        dep_var = \"actual\",\n",
    "                        pred_var = \"predicted\")\n",
    "\n",
    "gains_plot_seg_glm_expiry_exptest_reg <- plot_gains (lift_df_seg_glm_expiry_exptest_reg) \n",
    "\n",
    "auc_seg_glm_expiry_exptest_reg<- calc_auc(lift_df_seg_glm_expiry_exptest_reg)\n",
    "\n",
    "\n",
    "# saveRDS(lift_df_seg_glm_expiry_exptest, file.path('../../data/output/',\"lift_df_seg_glm_expiry_exptest\"))"
   ]
  },
  {
   "cell_type": "code",
   "execution_count": 49,
   "metadata": {},
   "outputs": [
    {
     "data": {
      "text/plain": [
       "\n",
       "   Renewed Not Renewd \n",
       " 0.0341872  0.9658128 "
      ]
     },
     "metadata": {},
     "output_type": "display_data"
    }
   ],
   "source": [
    "prop.table(table(seg_glm_expiry_exptest_reg$renewal_status))"
   ]
  },
  {
   "cell_type": "code",
   "execution_count": 50,
   "metadata": {},
   "outputs": [
    {
     "data": {
      "text/html": [
       "0.0341871953413812"
      ],
      "text/latex": [
       "0.0341871953413812"
      ],
      "text/markdown": [
       "0.0341871953413812"
      ],
      "text/plain": [
       "[1] 0.0341872"
      ]
     },
     "metadata": {},
     "output_type": "display_data"
    }
   ],
   "source": [
    "prop_positive = prop.table(table(seg_glm_expiry_exptest_reg$renewal_status))[[1]]\n",
    "prop_positive"
   ]
  },
  {
   "cell_type": "code",
   "execution_count": 51,
   "metadata": {},
   "outputs": [
    {
     "data": {
      "image/png": "[encoded data removed]",
      "text/plain": [
       "plot without title"
      ]
     },
     "metadata": {
      "image/png": {
       "height": 420,
       "width": 420
      },
      "text/plain": {
       "height": 420,
       "width": 420
      }
     },
     "output_type": "display_data"
    }
   ],
   "source": [
    "plot_multigains_reg <- plot_multigains(\n",
    "    lift_df_list=list(\n",
    "        rf_reg = lift_df_ranger_03_reg,\n",
    "        seg_reg = lift_df_seg_glm_expiry_exptest_reg),\n",
    "    auc_list = list(\n",
    "        rf_reg= calc_auc(lift_df_ranger_03_reg),\n",
    "        seg_reg= calc_auc(lift_df_seg_glm_expiry_exptest_reg)),\n",
    "    prop_positive = prop_positive)\n",
    "# png(file = \"../../data/output/plot_multigains_03_summ4.png\",\n",
    "#     width = 500, height = 375)\n",
    "plot(plot_multigains_reg + \n",
    "      annotate(\"text\", x = .15, y = .3, hjust = 0, label=reg_name, size = 24))\n",
    "# dev.off()"
   ]
  },
  {
   "cell_type": "markdown",
   "metadata": {},
   "source": [
    "# And then? No and then!"
   ]
  },
  {
   "cell_type": "code",
   "execution_count": 52,
   "metadata": {},
   "outputs": [],
   "source": [
    "reg_name='go daddy'"
   ]
  },
  {
   "cell_type": "code",
   "execution_count": 53,
   "metadata": {},
   "outputs": [
    {
     "data": {
      "text/html": [
       "<style>\n",
       ".list-inline {list-style: none; margin:0; padding: 0}\n",
       ".list-inline>li {display: inline-block}\n",
       ".list-inline>li:not(:last-child)::after {content: \"\\00b7\"; padding: 0 .5ex}\n",
       "</style>\n",
       "<ol class=list-inline><li>1188250</li><li>12</li></ol>\n"
      ],
      "text/latex": [
       "\\begin{enumerate*}\n",
       "\\item 1188250\n",
       "\\item 12\n",
       "\\end{enumerate*}\n"
      ],
      "text/markdown": [
       "1. 1188250\n",
       "2. 12\n",
       "\n",
       "\n"
      ],
      "text/plain": [
       "[1] 1188250      12"
      ]
     },
     "metadata": {},
     "output_type": "display_data"
    },
    {
     "data": {
      "text/html": [
       "<style>\n",
       ".list-inline {list-style: none; margin:0; padding: 0}\n",
       ".list-inline>li {display: inline-block}\n",
       ".list-inline>li:not(:last-child)::after {content: \"\\00b7\"; padding: 0 .5ex}\n",
       "</style>\n",
       "<ol class=list-inline><li>296797</li><li>12</li></ol>\n"
      ],
      "text/latex": [
       "\\begin{enumerate*}\n",
       "\\item 296797\n",
       "\\item 12\n",
       "\\end{enumerate*}\n"
      ],
      "text/markdown": [
       "1. 296797\n",
       "2. 12\n",
       "\n",
       "\n"
      ],
      "text/plain": [
       "[1] 296797     12"
      ]
     },
     "metadata": {},
     "output_type": "display_data"
    },
    {
     "name": "stdout",
     "output_type": "stream",
     "text": [
      "\n"
     ]
    },
    {
     "data": {
      "text/html": [
       "<style>\n",
       ".list-inline {list-style: none; margin:0; padding: 0}\n",
       ".list-inline>li {display: inline-block}\n",
       ".list-inline>li:not(:last-child)::after {content: \"\\00b7\"; padding: 0 .5ex}\n",
       "</style>\n",
       "<ol class=list-inline><li>108988</li><li>12</li></ol>\n"
      ],
      "text/latex": [
       "\\begin{enumerate*}\n",
       "\\item 108988\n",
       "\\item 12\n",
       "\\end{enumerate*}\n"
      ],
      "text/markdown": [
       "1. 108988\n",
       "2. 12\n",
       "\n",
       "\n"
      ],
      "text/plain": [
       "[1] 108988     12"
      ]
     },
     "metadata": {},
     "output_type": "display_data"
    },
    {
     "data": {
      "text/html": [
       "<style>\n",
       ".list-inline {list-style: none; margin:0; padding: 0}\n",
       ".list-inline>li {display: inline-block}\n",
       ".list-inline>li:not(:last-child)::after {content: \"\\00b7\"; padding: 0 .5ex}\n",
       "</style>\n",
       "<ol class=list-inline><li>27537</li><li>12</li></ol>\n"
      ],
      "text/latex": [
       "\\begin{enumerate*}\n",
       "\\item 27537\n",
       "\\item 12\n",
       "\\end{enumerate*}\n"
      ],
      "text/markdown": [
       "1. 27537\n",
       "2. 12\n",
       "\n",
       "\n"
      ],
      "text/plain": [
       "[1] 27537    12"
      ]
     },
     "metadata": {},
     "output_type": "display_data"
    },
    {
     "name": "stdout",
     "output_type": "stream",
     "text": [
      "\n"
     ]
    },
    {
     "data": {
      "text/html": [
       "<style>\n",
       ".list-inline {list-style: none; margin:0; padding: 0}\n",
       ".list-inline>li {display: inline-block}\n",
       ".list-inline>li:not(:last-child)::after {content: \"\\00b7\"; padding: 0 .5ex}\n",
       "</style>\n",
       "<ol class=list-inline><li>0.0917214390911004</li><li>1</li></ol>\n"
      ],
      "text/latex": [
       "\\begin{enumerate*}\n",
       "\\item 0.0917214390911004\n",
       "\\item 1\n",
       "\\end{enumerate*}\n"
      ],
      "text/markdown": [
       "1. 0.0917214390911004\n",
       "2. 1\n",
       "\n",
       "\n"
      ],
      "text/plain": [
       "[1] 0.09172144 1.00000000"
      ]
     },
     "metadata": {},
     "output_type": "display_data"
    },
    {
     "data": {
      "text/html": [
       "<style>\n",
       ".list-inline {list-style: none; margin:0; padding: 0}\n",
       ".list-inline>li {display: inline-block}\n",
       ".list-inline>li:not(:last-child)::after {content: \"\\00b7\"; padding: 0 .5ex}\n",
       "</style>\n",
       "<ol class=list-inline><li>0.0927805874048592</li><li>1</li></ol>\n"
      ],
      "text/latex": [
       "\\begin{enumerate*}\n",
       "\\item 0.0927805874048592\n",
       "\\item 1\n",
       "\\end{enumerate*}\n"
      ],
      "text/markdown": [
       "1. 0.0927805874048592\n",
       "2. 1\n",
       "\n",
       "\n"
      ],
      "text/plain": [
       "[1] 0.09278059 1.00000000"
      ]
     },
     "metadata": {},
     "output_type": "display_data"
    }
   ],
   "source": [
    "# RF \n",
    "\n",
    "# subset data\n",
    "\n",
    "dim(expiry_train_df_sub)\n",
    "dim(expiry_test_df_sub)\n",
    "cat('\\n')\n",
    "\n",
    "expiry_train_df_sub_reg <- expiry_train_df_sub %>% filter(registrar==reg_name)\n",
    "expiry_test_df_sub_reg <- expiry_test_df_sub %>% filter(registrar==reg_name)\n",
    "\n",
    "\n",
    "dim(expiry_train_df_sub_reg)\n",
    "dim(expiry_test_df_sub_reg)\n",
    "cat('\\n')\n",
    "\n",
    "\n",
    "dim(expiry_train_df_sub_reg)/dim(expiry_train_df_sub)\n",
    "dim(expiry_test_df_sub_reg)/dim(expiry_test_df_sub)\n",
    "\n",
    "# train & test RF\n",
    "ranger_03_reg <- ranger(\n",
    "    formula         = renewal_status ~ ., \n",
    "    data            = expiry_test_df_sub_reg, \n",
    "    importance = 'impurity', \n",
    "    num.trees       = 1000,\n",
    "    probability = TRUE,\n",
    "    mtry            = 3,\n",
    "    min.node.size   = 10,\n",
    "    replace = FALSE,\n",
    "    sample.fraction = .8,\n",
    "    seed            = 123\n",
    ")\n",
    "\n",
    "ranger_predict_03_reg <- predict(ranger_03_reg, \n",
    "                          data = expiry_test_df_sub_reg,\n",
    "                          type=\"response\")$predictions\n",
    "\n",
    "ranger_predict_03_reg <- as.data.frame(ranger_predict_03_reg)$Renewed\n",
    "\n",
    "ranger_03_pred_df_reg = data.frame(\"actual\" = expiry_test_df_sub_reg$renewal_status,\n",
    "          \"predicted\" = ranger_predict_03_reg)\n",
    "\n",
    "lift_df_ranger_03_reg <- chart_lift(pred_df = ranger_03_pred_df_reg,\n",
    "                        dep_var = \"actual\",\n",
    "                        pred_var = \"predicted\")\n",
    "\n",
    "gains_plot_ranger_03_reg <- plot_gains (lift_df_ranger_03_reg) \n",
    "\n",
    "auc_ranger_03_reg <- calc_auc(lift_df_ranger_03_reg)\n",
    "\n",
    "# save(ranger_03_reg, file=\"../../data/output/ranger_03_reg\")\n",
    "# save(ranger_predict_03_reg, \n",
    "#      file=\"../../data/output/ranger_predict_03_reg\")\n",
    "# saveRDS(lift_df_ranger_03_reg, file.path('../../data/output/',\"lift_df_ranger_03_reg\"))\n",
    "\n"
   ]
  },
  {
   "cell_type": "code",
   "execution_count": 54,
   "metadata": {},
   "outputs": [
    {
     "data": {
      "text/html": [
       "<style>\n",
       ".list-inline {list-style: none; margin:0; padding: 0}\n",
       ".list-inline>li {display: inline-block}\n",
       ".list-inline>li:not(:last-child)::after {content: \"\\00b7\"; padding: 0 .5ex}\n",
       "</style>\n",
       "<ol class=list-inline><li>296797</li><li>40</li></ol>\n"
      ],
      "text/latex": [
       "\\begin{enumerate*}\n",
       "\\item 296797\n",
       "\\item 40\n",
       "\\end{enumerate*}\n"
      ],
      "text/markdown": [
       "1. 296797\n",
       "2. 40\n",
       "\n",
       "\n"
      ],
      "text/plain": [
       "[1] 296797     40"
      ]
     },
     "metadata": {},
     "output_type": "display_data"
    },
    {
     "name": "stdout",
     "output_type": "stream",
     "text": [
      "\n"
     ]
    },
    {
     "data": {
      "text/html": [
       "<style>\n",
       ".list-inline {list-style: none; margin:0; padding: 0}\n",
       ".list-inline>li {display: inline-block}\n",
       ".list-inline>li:not(:last-child)::after {content: \"\\00b7\"; padding: 0 .5ex}\n",
       "</style>\n",
       "<ol class=list-inline><li>27537</li><li>40</li></ol>\n"
      ],
      "text/latex": [
       "\\begin{enumerate*}\n",
       "\\item 27537\n",
       "\\item 40\n",
       "\\end{enumerate*}\n"
      ],
      "text/markdown": [
       "1. 27537\n",
       "2. 40\n",
       "\n",
       "\n"
      ],
      "text/plain": [
       "[1] 27537    40"
      ]
     },
     "metadata": {},
     "output_type": "display_data"
    },
    {
     "name": "stdout",
     "output_type": "stream",
     "text": [
      "\n"
     ]
    },
    {
     "data": {
      "text/html": [
       "<style>\n",
       ".list-inline {list-style: none; margin:0; padding: 0}\n",
       ".list-inline>li {display: inline-block}\n",
       ".list-inline>li:not(:last-child)::after {content: \"\\00b7\"; padding: 0 .5ex}\n",
       "</style>\n",
       "<ol class=list-inline><li>0.0927805874048592</li><li>1</li></ol>\n"
      ],
      "text/latex": [
       "\\begin{enumerate*}\n",
       "\\item 0.0927805874048592\n",
       "\\item 1\n",
       "\\end{enumerate*}\n"
      ],
      "text/markdown": [
       "1. 0.0927805874048592\n",
       "2. 1\n",
       "\n",
       "\n"
      ],
      "text/plain": [
       "[1] 0.09278059 1.00000000"
      ]
     },
     "metadata": {},
     "output_type": "display_data"
    }
   ],
   "source": [
    "# seg_glm\n",
    "\n",
    "# subset data\n",
    "\n",
    "dim(seg_glm_expiry_exptest)\n",
    "cat('\\n')\n",
    "\n",
    "seg_glm_expiry_exptest_reg <-seg_glm_expiry_exptest %>% filter(registrar==reg_name)\n",
    "\n",
    "\n",
    "dim(seg_glm_expiry_exptest_reg)\n",
    "cat('\\n')\n",
    "\n",
    "\n",
    "dim(seg_glm_expiry_exptest_reg)/dim(seg_glm_expiry_exptest)\n",
    "\n",
    "\n",
    "\n",
    "seg_glm_expiry_exptest_pred_df_reg = data.frame(\"actual\" = seg_glm_expiry_exptest_reg$renewal_status,\n",
    "          \"predicted\" = seg_glm_expiry_exptest_reg$first_renewal_prediction)\n",
    "\n",
    "lift_df_seg_glm_expiry_exptest_reg <- chart_lift(pred_df = seg_glm_expiry_exptest_pred_df_reg,\n",
    "                        dep_var = \"actual\",\n",
    "                        pred_var = \"predicted\")\n",
    "\n",
    "gains_plot_seg_glm_expiry_exptest_reg <- plot_gains (lift_df_seg_glm_expiry_exptest_reg) \n",
    "\n",
    "auc_seg_glm_expiry_exptest_reg<- calc_auc(lift_df_seg_glm_expiry_exptest_reg)\n",
    "\n",
    "\n",
    "# saveRDS(lift_df_seg_glm_expiry_exptest, file.path('../../data/output/',\"lift_df_seg_glm_expiry_exptest\"))"
   ]
  },
  {
   "cell_type": "code",
   "execution_count": 55,
   "metadata": {},
   "outputs": [
    {
     "data": {
      "text/plain": [
       "\n",
       "   Renewed Not Renewd \n",
       " 0.1465301  0.8534699 "
      ]
     },
     "metadata": {},
     "output_type": "display_data"
    }
   ],
   "source": [
    "prop.table(table(seg_glm_expiry_exptest_reg$renewal_status))"
   ]
  },
  {
   "cell_type": "code",
   "execution_count": 56,
   "metadata": {},
   "outputs": [
    {
     "data": {
      "text/html": [
       "0.146530123107092"
      ],
      "text/latex": [
       "0.146530123107092"
      ],
      "text/markdown": [
       "0.146530123107092"
      ],
      "text/plain": [
       "[1] 0.1465301"
      ]
     },
     "metadata": {},
     "output_type": "display_data"
    }
   ],
   "source": [
    "prop_positive = prop.table(table(seg_glm_expiry_exptest_reg$renewal_status))[[1]]\n",
    "prop_positive"
   ]
  },
  {
   "cell_type": "code",
   "execution_count": 57,
   "metadata": {},
   "outputs": [
    {
     "data": {
      "image/png": "[encoded data removed]",
      "text/plain": [
       "plot without title"
      ]
     },
     "metadata": {
      "image/png": {
       "height": 420,
       "width": 420
      },
      "text/plain": {
       "height": 420,
       "width": 420
      }
     },
     "output_type": "display_data"
    }
   ],
   "source": [
    "plot_multigains_reg <- plot_multigains(\n",
    "    lift_df_list=list(\n",
    "        rf_reg = lift_df_ranger_03_reg,\n",
    "        seg_reg = lift_df_seg_glm_expiry_exptest_reg),\n",
    "    auc_list = list(\n",
    "        rf_reg= calc_auc(lift_df_ranger_03_reg),\n",
    "        seg_reg= calc_auc(lift_df_seg_glm_expiry_exptest_reg)),\n",
    "    prop_positive = prop_positive)\n",
    "# png(file = \"../../data/output/plot_multigains_03_summ4.png\",\n",
    "#     width = 500, height = 375)\n",
    "plot(plot_multigains_reg + \n",
    "      annotate(\"text\", x = .15, y = .3, hjust = 0, label=reg_name, size = 24))\n",
    "# dev.off()"
   ]
  },
  {
   "cell_type": "code",
   "execution_count": null,
   "metadata": {},
   "outputs": [],
   "source": []
  }
 ],
 "metadata": {
  "environment": {
   "name": "r-cpu.3-6.m48",
   "type": "gcloud",
   "uri": "gcr.io/deeplearning-platform-release/r-cpu.3-6:m48"
  },
  "kernelspec": {
   "display_name": "R",
   "language": "R",
   "name": "ir"
  },
  "language_info": {
   "codemirror_mode": "r",
   "file_extension": ".r",
   "mimetype": "text/x-r-source",
   "name": "R",
   "pygments_lexer": "r",
   "version": "3.6.3"
  }
 },
 "nbformat": 4,
 "nbformat_minor": 4
}
