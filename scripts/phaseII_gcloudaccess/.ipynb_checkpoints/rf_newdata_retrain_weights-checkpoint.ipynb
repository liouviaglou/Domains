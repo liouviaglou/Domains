{
 "cells": [
  {
   "cell_type": "markdown",
   "metadata": {},
   "source": [
    "# Retrain RF on new data (experiment w/ weights)"
   ]
  },
  {
   "cell_type": "code",
   "execution_count": 1,
   "metadata": {},
   "outputs": [
    {
     "name": "stderr",
     "output_type": "stream",
     "text": [
      "\n",
      "Attaching package: ‘dplyr’\n",
      "\n",
      "\n",
      "The following objects are masked from ‘package:stats’:\n",
      "\n",
      "    filter, lag\n",
      "\n",
      "\n",
      "The following objects are masked from ‘package:base’:\n",
      "\n",
      "    intersect, setdiff, setequal, union\n",
      "\n",
      "\n",
      "\n",
      "Attaching package: ‘data.table’\n",
      "\n",
      "\n",
      "The following objects are masked from ‘package:dplyr’:\n",
      "\n",
      "    between, first, last\n",
      "\n",
      "\n",
      "Loading required package: grid\n",
      "\n",
      "Loading required package: libcoin\n",
      "\n",
      "Loading required package: mvtnorm\n",
      "\n",
      "Loading required package: lattice\n",
      "\n",
      "Loading required package: ggplot2\n",
      "\n",
      "randomForest 4.6-14\n",
      "\n",
      "Type rfNews() to see new features/changes/bug fixes.\n",
      "\n",
      "\n",
      "Attaching package: ‘randomForest’\n",
      "\n",
      "\n",
      "The following object is masked from ‘package:ggplot2’:\n",
      "\n",
      "    margin\n",
      "\n",
      "\n",
      "The following object is masked from ‘package:dplyr’:\n",
      "\n",
      "    combine\n",
      "\n",
      "\n",
      "\n",
      "Attaching package: ‘ranger’\n",
      "\n",
      "\n",
      "The following object is masked from ‘package:randomForest’:\n",
      "\n",
      "    importance\n",
      "\n",
      "\n",
      "\n",
      "Attaching package: ‘plotly’\n",
      "\n",
      "\n",
      "The following object is masked from ‘package:ggplot2’:\n",
      "\n",
      "    last_plot\n",
      "\n",
      "\n",
      "The following object is masked from ‘package:stats’:\n",
      "\n",
      "    filter\n",
      "\n",
      "\n",
      "The following object is masked from ‘package:graphics’:\n",
      "\n",
      "    layout\n",
      "\n",
      "\n",
      "Loading required package: RJSONIO\n",
      "\n",
      "── \u001b[1mAttaching packages\u001b[22m ─────────────────────────────────────── tidyverse 1.3.0 ──\n",
      "\n",
      "\u001b[32m✔\u001b[39m \u001b[34mtibble \u001b[39m 3.0.1     \u001b[32m✔\u001b[39m \u001b[34mpurrr  \u001b[39m 0.3.4\n",
      "\u001b[32m✔\u001b[39m \u001b[34mtidyr  \u001b[39m 1.1.0     \u001b[32m✔\u001b[39m \u001b[34mforcats\u001b[39m 0.5.0\n",
      "\u001b[32m✔\u001b[39m \u001b[34mreadr  \u001b[39m 1.3.1     \n",
      "\n",
      "── \u001b[1mConflicts\u001b[22m ────────────────────────────────────────── tidyverse_conflicts() ──\n",
      "\u001b[31m✖\u001b[39m \u001b[34mdata.table\u001b[39m::\u001b[32mbetween()\u001b[39m   masks \u001b[34mdplyr\u001b[39m::between()\n",
      "\u001b[31m✖\u001b[39m \u001b[34mrandomForest\u001b[39m::\u001b[32mcombine()\u001b[39m masks \u001b[34mdplyr\u001b[39m::combine()\n",
      "\u001b[31m✖\u001b[39m \u001b[34mplotly\u001b[39m::\u001b[32mfilter()\u001b[39m        masks \u001b[34mdplyr\u001b[39m::filter(), \u001b[34mstats\u001b[39m::filter()\n",
      "\u001b[31m✖\u001b[39m \u001b[34mdata.table\u001b[39m::\u001b[32mfirst()\u001b[39m     masks \u001b[34mdplyr\u001b[39m::first()\n",
      "\u001b[31m✖\u001b[39m \u001b[34mdplyr\u001b[39m::\u001b[32mlag()\u001b[39m            masks \u001b[34mstats\u001b[39m::lag()\n",
      "\u001b[31m✖\u001b[39m \u001b[34mdata.table\u001b[39m::\u001b[32mlast()\u001b[39m      masks \u001b[34mdplyr\u001b[39m::last()\n",
      "\u001b[31m✖\u001b[39m \u001b[34mpurrr\u001b[39m::\u001b[32mlift()\u001b[39m           masks \u001b[34mcaret\u001b[39m::lift()\n",
      "\u001b[31m✖\u001b[39m \u001b[34mrandomForest\u001b[39m::\u001b[32mmargin()\u001b[39m  masks \u001b[34mggplot2\u001b[39m::margin()\n",
      "\u001b[31m✖\u001b[39m \u001b[34mpurrr\u001b[39m::\u001b[32mtranspose()\u001b[39m      masks \u001b[34mdata.table\u001b[39m::transpose()\n",
      "\n"
     ]
    },
    {
     "data": {
      "text/html": [
       "'/home/jupyter/local/Domains_202003/scripts/phaseII_gcloudaccess'"
      ],
      "text/latex": [
       "'/home/jupyter/local/Domains\\_202003/scripts/phaseII\\_gcloudaccess'"
      ],
      "text/markdown": [
       "'/home/jupyter/local/Domains_202003/scripts/phaseII_gcloudaccess'"
      ],
      "text/plain": [
       "[1] \"/home/jupyter/local/Domains_202003/scripts/phaseII_gcloudaccess\""
      ]
     },
     "metadata": {},
     "output_type": "display_data"
    }
   ],
   "source": [
    "library(dplyr)\n",
    "library(data.table)\n",
    "library(partykit)\n",
    "library(tictoc)\n",
    "library(caret)\n",
    "library(e1071)\n",
    "library(randomForest)\n",
    "library(ranger)\n",
    "\n",
    "#for 3d plotting\n",
    "library(akima)\n",
    "library(plotly)\n",
    "\n",
    "# for prep data\n",
    "library(rPython)\n",
    "library(stringr)\n",
    "library(pbapply)\n",
    "library(stringdist)\n",
    "library(data.table)\n",
    "library(tidyverse)\n",
    "\n",
    "\n",
    "getwd()"
   ]
  },
  {
   "cell_type": "code",
   "execution_count": 2,
   "metadata": {},
   "outputs": [
    {
     "data": {
      "text/html": [],
      "text/latex": [],
      "text/markdown": [],
      "text/plain": [
       "character(0)"
      ]
     },
     "metadata": {},
     "output_type": "display_data"
    }
   ],
   "source": [
    "ls()"
   ]
  },
  {
   "cell_type": "code",
   "execution_count": 5,
   "metadata": {},
   "outputs": [],
   "source": [
    "\n",
    "source('../orig/functions.R')\n",
    "\n",
    "source('../orig/functions_models.R')\n",
    "\n",
    "source('functions_eval.R')\n",
    "\n",
    "source('load_prep_data_expiry.R')\n"
   ]
  },
  {
   "cell_type": "markdown",
   "metadata": {},
   "source": [
    "# Load data\n",
    "now in load_prep... function above"
   ]
  },
  {
   "cell_type": "code",
   "execution_count": 13,
   "metadata": {},
   "outputs": [],
   "source": [
    "# FIRST STAGE RENEWALS ONLY\n",
    "\n",
    "# LOAD list of dfs\n",
    "# system(\"gsutil cp gs://data_outputt/output/expiry_train_prepped_2 /home/jupyter/local/Domains_202003/data/expiry_train_prepped_2\")\n",
    "# expiry_train_prepped_2 <- readRDS(\"/home/jupyter/local/Domains_202003/data/expiry_train_prepped_1list\")\n",
    "\n",
    "# system(\"gsutil cp gs://data_outputt/output/expiry_test_prepped_2 /home/jupyter/local/Domains_202003/data/expiry_test_prepped_2\")\n",
    "# expiry_test_prepped_2 <- readRDS(\"/home/jupyter/local/Domains_202003/data/expiry_test_prepped_1list\")\n",
    "\n",
    "# REMOVE empty list items from each list (does not change the dim of rbound list)\n",
    "# expiry_train_prepped_2_1 <- expiry_train_prepped_2[sapply(expiry_train_prepped_2, function(x) dim(x)[1]) > 0]\n",
    "# expiry_test_prepped_2_1 <- expiry_test_prepped_2[sapply(expiry_test_prepped_2, function(x) dim(x)[1]) > 0]\n",
    "\n",
    "# RBIND list of dfs\n",
    "# expiry_train_df_1 <- rbindlist(expiry_train_prepped_2_1, fill=TRUE)\n",
    "# expiry_test_df_1 <- rbindlist(expiry_test_prepped_2_1, fill=TRUE)"
   ]
  },
  {
   "cell_type": "code",
   "execution_count": 65,
   "metadata": {},
   "outputs": [],
   "source": [
    "# renewals at all stages\n",
    "\n",
    "# # system(\"gsutil cp gs://data_outputt/output/expiry_train_prepped_2 /home/jupyter/local/Domains_202003/data/expiry_train_prepped_2\")\n",
    "# expiry_train_prepped_2 <- readRDS(\"/home/jupyter/local/Domains_202003/data/expiry_train_prepped_2\")\n",
    "\n",
    "# # system(\"gsutil cp gs://data_outputt/output/expiry_test_prepped_2 /home/jupyter/local/Domains_202003/data/expiry_test_prepped_2\")\n",
    "# expiry_test_prepped_2 <- readRDS(\"/home/jupyter/local/Domains_202003/data/expiry_test_prepped_2\")\n",
    "\n",
    "\n",
    "# expiry_train_df <- rbindlist(expiry_train_prepped_2, fill=TRUE)\n",
    "# expiry_test_df <- rbindlist(expiry_test_prepped_2, fill=TRUE)"
   ]
  },
  {
   "cell_type": "code",
   "execution_count": 6,
   "metadata": {},
   "outputs": [
    {
     "data": {
      "text/html": [
       "<style>\n",
       ".list-inline {list-style: none; margin:0; padding: 0}\n",
       ".list-inline>li {display: inline-block}\n",
       ".list-inline>li:not(:last-child)::after {content: \"\\00b7\"; padding: 0 .5ex}\n",
       "</style>\n",
       "<ol class=list-inline><li>1188250</li><li>39</li></ol>\n"
      ],
      "text/latex": [
       "\\begin{enumerate*}\n",
       "\\item 1188250\n",
       "\\item 39\n",
       "\\end{enumerate*}\n"
      ],
      "text/markdown": [
       "1. 1188250\n",
       "2. 39\n",
       "\n",
       "\n"
      ],
      "text/plain": [
       "[1] 1188250      39"
      ]
     },
     "metadata": {},
     "output_type": "display_data"
    },
    {
     "data": {
      "text/html": [
       "<style>\n",
       ".list-inline {list-style: none; margin:0; padding: 0}\n",
       ".list-inline>li {display: inline-block}\n",
       ".list-inline>li:not(:last-child)::after {content: \"\\00b7\"; padding: 0 .5ex}\n",
       "</style>\n",
       "<ol class=list-inline><li>296797</li><li>39</li></ol>\n"
      ],
      "text/latex": [
       "\\begin{enumerate*}\n",
       "\\item 296797\n",
       "\\item 39\n",
       "\\end{enumerate*}\n"
      ],
      "text/markdown": [
       "1. 296797\n",
       "2. 39\n",
       "\n",
       "\n"
      ],
      "text/plain": [
       "[1] 296797     39"
      ]
     },
     "metadata": {},
     "output_type": "display_data"
    }
   ],
   "source": [
    "# was 139436639, 34859139... should be 1188250, 296797\n",
    "\n",
    "dim(expiry_train_df_1)\n",
    "dim(expiry_test_df_1)"
   ]
  },
  {
   "cell_type": "code",
   "execution_count": 145,
   "metadata": {},
   "outputs": [],
   "source": [
    "# OR MANUAL way to exclude subsequent renewals from list of df's\n",
    "\n",
    "# expiry_train_prepped_2_1 <- lapply(expiry_train_prepped_2, \n",
    "#                                       function(x)x[x[[1]]=='FirstTime'])\n",
    "# expiry_test_prepped_2_1 <- lapply(expiry_test_prepped_2, \n",
    "#                                       function(x)x[x[[1]]=='FirstTime'])\n",
    "\n",
    "# expiry_train_prepped_2_1 <- expiry_train_prepped_2_1[sapply(expiry_train_prepped_2_1, function(x) dim(x)[1]) > 0]\n",
    "# expiry_test_prepped_2_1 <- expiry_test_prepped_2_1[sapply(expiry_test_prepped_2_1, function(x) dim(x)[1]) > 0]\n",
    "\n",
    "# expiry_train_df_1 <- rbindlist(expiry_train_prepped_2_1, fill=TRUE)\n",
    "# expiry_test_df_1 <- rbindlist(expiry_test_prepped_2_1, fill=TRUE)\n",
    "\n",
    "# dim(expiry_train_df_1)\n",
    "# dim(expiry_test_df_1)"
   ]
  },
  {
   "cell_type": "markdown",
   "metadata": {},
   "source": [
    "# Assess Ranger Hyper Param Tuning Results"
   ]
  },
  {
   "cell_type": "code",
   "execution_count": 12,
   "metadata": {},
   "outputs": [
    {
     "name": "stderr",
     "output_type": "stream",
     "text": [
      "Parsed with column specification:\n",
      "cols(\n",
      "  X1 = \u001b[32mcol_double()\u001b[39m,\n",
      "  X2 = \u001b[32mcol_double()\u001b[39m,\n",
      "  X3 = \u001b[32mcol_double()\u001b[39m,\n",
      "  X4 = \u001b[33mcol_logical()\u001b[39m,\n",
      "  X5 = \u001b[32mcol_double()\u001b[39m,\n",
      "  X6 = \u001b[31mcol_character()\u001b[39m\n",
      ")\n",
      "\n"
     ]
    },
    {
     "data": {
      "text/html": [
       "<table>\n",
       "<caption>A tibble: 6 × 5</caption>\n",
       "<thead>\n",
       "\t<tr><th scope=col>mtry</th><th scope=col>sample.fraction</th><th scope=col>replace</th><th scope=col>OOB_RMSE</th><th scope=col>timestamp</th></tr>\n",
       "\t<tr><th scope=col>&lt;dbl&gt;</th><th scope=col>&lt;dbl&gt;</th><th scope=col>&lt;lgl&gt;</th><th scope=col>&lt;dbl&gt;</th><th scope=col>&lt;chr&gt;</th></tr>\n",
       "</thead>\n",
       "<tbody>\n",
       "\t<tr><td>1</td><td>0.5</td><td>TRUE</td><td>0.2605507</td><td>2020-07-18 16:18:59 PDT</td></tr>\n",
       "\t<tr><td>2</td><td>0.5</td><td>TRUE</td><td>0.2481628</td><td>2020-07-18 16:20:23 PDT</td></tr>\n",
       "\t<tr><td>3</td><td>0.5</td><td>TRUE</td><td>0.2463284</td><td>2020-07-18 16:22:17 PDT</td></tr>\n",
       "\t<tr><td>4</td><td>0.5</td><td>TRUE</td><td>0.2462503</td><td>2020-07-18 16:24:35 PDT</td></tr>\n",
       "\t<tr><td>5</td><td>0.5</td><td>TRUE</td><td>0.2466001</td><td>2020-07-18 16:26:57 PDT</td></tr>\n",
       "\t<tr><td>6</td><td>0.5</td><td>TRUE</td><td>0.2471266</td><td>2020-07-18 16:29:38 PDT</td></tr>\n",
       "</tbody>\n",
       "</table>\n"
      ],
      "text/latex": [
       "A tibble: 6 × 5\n",
       "\\begin{tabular}{lllll}\n",
       " mtry & sample.fraction & replace & OOB\\_RMSE & timestamp\\\\\n",
       " <dbl> & <dbl> & <lgl> & <dbl> & <chr>\\\\\n",
       "\\hline\n",
       "\t 1 & 0.5 & TRUE & 0.2605507 & 2020-07-18 16:18:59 PDT\\\\\n",
       "\t 2 & 0.5 & TRUE & 0.2481628 & 2020-07-18 16:20:23 PDT\\\\\n",
       "\t 3 & 0.5 & TRUE & 0.2463284 & 2020-07-18 16:22:17 PDT\\\\\n",
       "\t 4 & 0.5 & TRUE & 0.2462503 & 2020-07-18 16:24:35 PDT\\\\\n",
       "\t 5 & 0.5 & TRUE & 0.2466001 & 2020-07-18 16:26:57 PDT\\\\\n",
       "\t 6 & 0.5 & TRUE & 0.2471266 & 2020-07-18 16:29:38 PDT\\\\\n",
       "\\end{tabular}\n"
      ],
      "text/markdown": [
       "\n",
       "A tibble: 6 × 5\n",
       "\n",
       "| mtry &lt;dbl&gt; | sample.fraction &lt;dbl&gt; | replace &lt;lgl&gt; | OOB_RMSE &lt;dbl&gt; | timestamp &lt;chr&gt; |\n",
       "|---|---|---|---|---|\n",
       "| 1 | 0.5 | TRUE | 0.2605507 | 2020-07-18 16:18:59 PDT |\n",
       "| 2 | 0.5 | TRUE | 0.2481628 | 2020-07-18 16:20:23 PDT |\n",
       "| 3 | 0.5 | TRUE | 0.2463284 | 2020-07-18 16:22:17 PDT |\n",
       "| 4 | 0.5 | TRUE | 0.2462503 | 2020-07-18 16:24:35 PDT |\n",
       "| 5 | 0.5 | TRUE | 0.2466001 | 2020-07-18 16:26:57 PDT |\n",
       "| 6 | 0.5 | TRUE | 0.2471266 | 2020-07-18 16:29:38 PDT |\n",
       "\n"
      ],
      "text/plain": [
       "  mtry sample.fraction replace OOB_RMSE  timestamp              \n",
       "1 1    0.5             TRUE    0.2605507 2020-07-18 16:18:59 PDT\n",
       "2 2    0.5             TRUE    0.2481628 2020-07-18 16:20:23 PDT\n",
       "3 3    0.5             TRUE    0.2463284 2020-07-18 16:22:17 PDT\n",
       "4 4    0.5             TRUE    0.2462503 2020-07-18 16:24:35 PDT\n",
       "5 5    0.5             TRUE    0.2466001 2020-07-18 16:26:57 PDT\n",
       "6 6    0.5             TRUE    0.2471266 2020-07-18 16:29:38 PDT"
      ]
     },
     "metadata": {},
     "output_type": "display_data"
    }
   ],
   "source": [
    "results_df <- read_csv(\"../../data/hyper_grid_expiry.log\", col_names=FALSE)[c(2:6)]\n",
    "names(results_df) <- c(\"mtry\",\"sample.fraction\",\"replace\",\"OOB_RMSE\",\"timestamp\")\n",
    "head(results_df)"
   ]
  },
  {
   "cell_type": "code",
   "execution_count": 15,
   "metadata": {},
   "outputs": [
    {
     "data": {
      "text/html": [
       "<table>\n",
       "<caption>A data.table: 2 × 5</caption>\n",
       "<thead>\n",
       "\t<tr><th scope=col>replace</th><th scope=col>mtry</th><th scope=col>sample.fraction</th><th scope=col>OOB_RMSE</th><th scope=col>timestamp</th></tr>\n",
       "\t<tr><th scope=col>&lt;lgl&gt;</th><th scope=col>&lt;dbl&gt;</th><th scope=col>&lt;dbl&gt;</th><th scope=col>&lt;dbl&gt;</th><th scope=col>&lt;chr&gt;</th></tr>\n",
       "</thead>\n",
       "<tbody>\n",
       "\t<tr><td> TRUE</td><td>3</td><td>0.9</td><td>0.2459659</td><td>2020-07-18 18:15:07 PDT</td></tr>\n",
       "\t<tr><td>FALSE</td><td>3</td><td>0.8</td><td>0.2458980</td><td>2020-07-18 20:59:25 PDT</td></tr>\n",
       "</tbody>\n",
       "</table>\n"
      ],
      "text/latex": [
       "A data.table: 2 × 5\n",
       "\\begin{tabular}{lllll}\n",
       " replace & mtry & sample.fraction & OOB\\_RMSE & timestamp\\\\\n",
       " <lgl> & <dbl> & <dbl> & <dbl> & <chr>\\\\\n",
       "\\hline\n",
       "\t  TRUE & 3 & 0.9 & 0.2459659 & 2020-07-18 18:15:07 PDT\\\\\n",
       "\t FALSE & 3 & 0.8 & 0.2458980 & 2020-07-18 20:59:25 PDT\\\\\n",
       "\\end{tabular}\n"
      ],
      "text/markdown": [
       "\n",
       "A data.table: 2 × 5\n",
       "\n",
       "| replace &lt;lgl&gt; | mtry &lt;dbl&gt; | sample.fraction &lt;dbl&gt; | OOB_RMSE &lt;dbl&gt; | timestamp &lt;chr&gt; |\n",
       "|---|---|---|---|---|\n",
       "|  TRUE | 3 | 0.9 | 0.2459659 | 2020-07-18 18:15:07 PDT |\n",
       "| FALSE | 3 | 0.8 | 0.2458980 | 2020-07-18 20:59:25 PDT |\n",
       "\n"
      ],
      "text/plain": [
       "  replace mtry sample.fraction OOB_RMSE  timestamp              \n",
       "1  TRUE   3    0.9             0.2459659 2020-07-18 18:15:07 PDT\n",
       "2 FALSE   3    0.8             0.2458980 2020-07-18 20:59:25 PDT"
      ]
     },
     "metadata": {},
     "output_type": "display_data"
    }
   ],
   "source": [
    "results_df <- as.data.table(results_df)\n",
    "results_df[ , .SD[which.min(OOB_RMSE)], by = replace]"
   ]
  },
  {
   "cell_type": "code",
   "execution_count": 22,
   "metadata": {},
   "outputs": [],
   "source": [
    "# hyper_grid_comp = subset(results_df,replace=='FALSE')\n",
    "# s = interp(hyper_grid_comp$mtry,\n",
    "#            hyper_grid_comp$sample.fraction,\n",
    "#            hyper_grid_comp$OOB_RMSE)\n",
    "\n",
    "# fig <- plot_ly(x = s$x, # mtry\n",
    "#                y = s$y, # sample_size\n",
    "#                z = s$z) %>% add_surface()\n",
    "\n",
    "# fig"
   ]
  },
  {
   "cell_type": "code",
   "execution_count": 19,
   "metadata": {},
   "outputs": [
    {
     "data": {
      "text/html": [
       "<table>\n",
       "<caption>A data.table: 6 × 5</caption>\n",
       "<thead>\n",
       "\t<tr><th scope=col>mtry</th><th scope=col>sample.fraction</th><th scope=col>replace</th><th scope=col>OOB_RMSE</th><th scope=col>timestamp</th></tr>\n",
       "\t<tr><th scope=col>&lt;dbl&gt;</th><th scope=col>&lt;dbl&gt;</th><th scope=col>&lt;lgl&gt;</th><th scope=col>&lt;dbl&gt;</th><th scope=col>&lt;chr&gt;</th></tr>\n",
       "</thead>\n",
       "<tbody>\n",
       "\t<tr><td>1</td><td>0.5</td><td>TRUE</td><td>0.2605507</td><td>2020-07-18 16:18:59 PDT</td></tr>\n",
       "\t<tr><td>2</td><td>0.5</td><td>TRUE</td><td>0.2481628</td><td>2020-07-18 16:20:23 PDT</td></tr>\n",
       "\t<tr><td>3</td><td>0.5</td><td>TRUE</td><td>0.2463284</td><td>2020-07-18 16:22:17 PDT</td></tr>\n",
       "\t<tr><td>4</td><td>0.5</td><td>TRUE</td><td>0.2462503</td><td>2020-07-18 16:24:35 PDT</td></tr>\n",
       "\t<tr><td>5</td><td>0.5</td><td>TRUE</td><td>0.2466001</td><td>2020-07-18 16:26:57 PDT</td></tr>\n",
       "\t<tr><td>6</td><td>0.5</td><td>TRUE</td><td>0.2471266</td><td>2020-07-18 16:29:38 PDT</td></tr>\n",
       "</tbody>\n",
       "</table>\n"
      ],
      "text/latex": [
       "A data.table: 6 × 5\n",
       "\\begin{tabular}{lllll}\n",
       " mtry & sample.fraction & replace & OOB\\_RMSE & timestamp\\\\\n",
       " <dbl> & <dbl> & <lgl> & <dbl> & <chr>\\\\\n",
       "\\hline\n",
       "\t 1 & 0.5 & TRUE & 0.2605507 & 2020-07-18 16:18:59 PDT\\\\\n",
       "\t 2 & 0.5 & TRUE & 0.2481628 & 2020-07-18 16:20:23 PDT\\\\\n",
       "\t 3 & 0.5 & TRUE & 0.2463284 & 2020-07-18 16:22:17 PDT\\\\\n",
       "\t 4 & 0.5 & TRUE & 0.2462503 & 2020-07-18 16:24:35 PDT\\\\\n",
       "\t 5 & 0.5 & TRUE & 0.2466001 & 2020-07-18 16:26:57 PDT\\\\\n",
       "\t 6 & 0.5 & TRUE & 0.2471266 & 2020-07-18 16:29:38 PDT\\\\\n",
       "\\end{tabular}\n"
      ],
      "text/markdown": [
       "\n",
       "A data.table: 6 × 5\n",
       "\n",
       "| mtry &lt;dbl&gt; | sample.fraction &lt;dbl&gt; | replace &lt;lgl&gt; | OOB_RMSE &lt;dbl&gt; | timestamp &lt;chr&gt; |\n",
       "|---|---|---|---|---|\n",
       "| 1 | 0.5 | TRUE | 0.2605507 | 2020-07-18 16:18:59 PDT |\n",
       "| 2 | 0.5 | TRUE | 0.2481628 | 2020-07-18 16:20:23 PDT |\n",
       "| 3 | 0.5 | TRUE | 0.2463284 | 2020-07-18 16:22:17 PDT |\n",
       "| 4 | 0.5 | TRUE | 0.2462503 | 2020-07-18 16:24:35 PDT |\n",
       "| 5 | 0.5 | TRUE | 0.2466001 | 2020-07-18 16:26:57 PDT |\n",
       "| 6 | 0.5 | TRUE | 0.2471266 | 2020-07-18 16:29:38 PDT |\n",
       "\n"
      ],
      "text/plain": [
       "  mtry sample.fraction replace OOB_RMSE  timestamp              \n",
       "1 1    0.5             TRUE    0.2605507 2020-07-18 16:18:59 PDT\n",
       "2 2    0.5             TRUE    0.2481628 2020-07-18 16:20:23 PDT\n",
       "3 3    0.5             TRUE    0.2463284 2020-07-18 16:22:17 PDT\n",
       "4 4    0.5             TRUE    0.2462503 2020-07-18 16:24:35 PDT\n",
       "5 5    0.5             TRUE    0.2466001 2020-07-18 16:26:57 PDT\n",
       "6 6    0.5             TRUE    0.2471266 2020-07-18 16:29:38 PDT"
      ]
     },
     "metadata": {},
     "output_type": "display_data"
    }
   ],
   "source": [
    "head(hyper_grid_comp)"
   ]
  },
  {
   "cell_type": "markdown",
   "metadata": {},
   "source": [
    "# Retrain Ranger_03"
   ]
  },
  {
   "cell_type": "markdown",
   "metadata": {},
   "source": [
    "## per the same definitions as in dtree_xl.ipynb, but added reg_arpt as a predictor"
   ]
  },
  {
   "cell_type": "code",
   "execution_count": 23,
   "metadata": {},
   "outputs": [],
   "source": [
    "# expiry_train_df_sub <- subset(expiry_train_df_1, \n",
    "#        select = c(renewal_status, tld, registrar, reseller, reseller_country, region, reg_period, \n",
    "#                   sld_type, sld_length, day_domains, gibb_score, pattern_domain_count,reg_arpt) )\n",
    "# head(expiry_train_df_sub)"
   ]
  },
  {
   "cell_type": "code",
   "execution_count": 24,
   "metadata": {},
   "outputs": [],
   "source": [
    "# # expiry_test_df_1 <- expiry_test_df %>% filter(renewal_type == 'FirstTime')\n",
    "# expiry_test_df_sub <- subset(expiry_test_df_1, \n",
    "#        select = c(renewal_status, tld, registrar, reseller, reseller_country, region, reg_period, \n",
    "#                   sld_type, sld_length, day_domains, gibb_score, pattern_domain_count,reg_arpt) )\n",
    "# head(expiry_test_df_sub)"
   ]
  },
  {
   "cell_type": "code",
   "execution_count": 115,
   "metadata": {},
   "outputs": [
    {
     "name": "stdout",
     "output_type": "stream",
     "text": [
      "Growing trees.. Progress: 14%. Estimated remaining time: 3 minutes, 2 seconds.\n",
      "Growing trees.. Progress: 30%. Estimated remaining time: 2 minutes, 28 seconds.\n",
      "Growing trees.. Progress: 45%. Estimated remaining time: 1 minute, 53 seconds.\n",
      "Growing trees.. Progress: 60%. Estimated remaining time: 1 minute, 21 seconds.\n",
      "Growing trees.. Progress: 76%. Estimated remaining time: 50 seconds.\n",
      "Growing trees.. Progress: 90%. Estimated remaining time: 19 seconds.\n"
     ]
    }
   ],
   "source": [
    "# model fitting: 952.151 sec elapsed (model fitting: 160sec (sole operation) OR 334.385 sec elapsed on 16 core)\n",
    "# model saving: 163.762 sec elapsed ( 67.825 sec on 16 core)\n",
    "\n",
    "# 1000 trees model fitting: 299.005 sec elapsed ( 470.493 sec elapsed with non default params)\n",
    "\n",
    "\n",
    "# tic(\"model fitting\")\n",
    "\n",
    "# ranger_03_expiry <- ranger(\n",
    "#     formula         = renewal_status ~ ., \n",
    "#     data            = expiry_train_df_sub, \n",
    "#     importance = 'impurity', \n",
    "#     num.trees       = 1000,\n",
    "#     probability = TRUE,\n",
    "#     mtry            = 3,\n",
    "#     min.node.size   = 10,\n",
    "#     replace = FALSE,\n",
    "#     sample.fraction = .8,\n",
    "#     seed            = 123\n",
    "# )\n",
    "\n",
    "# toc()\n",
    "\n",
    "# tic(\"model saving\")\n",
    "# save(ranger_03_expiry, file=\"../../data/output/ranger_03_expiry\")\n",
    "# toc()"
   ]
  },
  {
   "cell_type": "markdown",
   "metadata": {},
   "source": [
    "## test ranger_03 on expiry_test"
   ]
  },
  {
   "cell_type": "code",
   "execution_count": 116,
   "metadata": {},
   "outputs": [
    {
     "name": "stdout",
     "output_type": "stream",
     "text": [
      "model fitting: 1234.831 sec elapsed\n"
     ]
    }
   ],
   "source": [
    "\n",
    "# # model predict: 65.851 sec elapsed (18sec on 16 core)\n",
    "# # eval saving: 0.132 sec elapsed\n",
    "\n",
    "# # tic(\"model predict\")\n",
    "# ranger_predict_03_expiry <- predict(ranger_03_expiry, \n",
    "#                           data = expiry_test_df_sub,\n",
    "#                           type=\"response\")$predictions\n",
    "# toc()\n",
    "\n",
    "# tic(\"eval saving\")\n",
    "\n",
    "# ranger_predict_03_expiry <- as.data.frame(ranger_predict_03_expiry)$Renewed\n",
    "\n",
    "# # save(ranger_predict_03_expiry, \n",
    "# #      file=\"../../data/output/ranger_predict_03_expiry\")\n",
    "# toc()\n"
   ]
  },
  {
   "cell_type": "code",
   "execution_count": 117,
   "metadata": {},
   "outputs": [
    {
     "name": "stdout",
     "output_type": "stream",
     "text": [
      "lift df: 1.015 sec elapsed\n",
      "gains plot: 0.015 sec elapsed\n",
      "auc: 0.005 sec elapsed\n"
     ]
    }
   ],
   "source": [
    "# ranger_03_pred_df_expiry = data.frame(\"actual\" = expiry_test_df_sub$renewal_status,\n",
    "#           \"predicted\" = ranger_predict_03_expiry)\n",
    "\n",
    "# # lift df: 23.675 sec elapsed\n",
    "# # gains plot: 0.046 sec elapsed\n",
    "# # auc: 0.007 sec elapsed\n",
    "# tic(\"lift df\")\n",
    "# lift_df_ranger_03_expiry <- chart_lift(pred_df = ranger_03_pred_df_expiry,\n",
    "#                         dep_var = \"actual\",\n",
    "#                         pred_var = \"predicted\")\n",
    "\n",
    "# toc()\n",
    "# tic(\"gains plot\")\n",
    "# gains_plot_ranger_03_expiry <- plot_gains (lift_df_ranger_03_expiry) \n",
    "\n",
    "# toc()\n",
    "# tic(\"auc\")\n",
    "# auc_ranger_03_expiry <- calc_auc(lift_df_ranger_03_expiry)\n",
    "# toc()\n",
    "\n",
    "\n",
    "# # saveRDS(lift_df_ranger_03_expiry, file.path('../../data/output/',\"lift_df_ranger_03_expiry\"))\n"
   ]
  },
  {
   "cell_type": "code",
   "execution_count": 8,
   "metadata": {},
   "outputs": [],
   "source": [
    "# system(\"gsutil cp gs://data_outputt/output/ranger_03_expiry /home/jupyter/local/Domains_202003/data/ranger_03_expiry\")\n",
    "# system(\"gsutil cp gs://data_outputt/output/ranger_predict_03_expiry /home/jupyter/local/Domains_202003/data/ranger_predict_03_expiry\")\n",
    "# system(\"gsutil cp gs://data_outputt/output/lift_df_ranger_03_expiry /home/jupyter/local/Domains_202003/data/lift_df_ranger_03_expiry\")\n",
    "\n",
    "# load(\"../../data/ranger_03_expiry\")\n",
    "\n",
    "load(\"../../data/ranger_predict_03_expiry\")\n",
    "lift_df_ranger_03_expiry <- readRDS('../../data/lift_df_ranger_03_expiry')"
   ]
  },
  {
   "cell_type": "code",
   "execution_count": 9,
   "metadata": {},
   "outputs": [
    {
     "data": {
      "text/html": [
       "<table>\n",
       "<caption>A data.frame: 10 × 4</caption>\n",
       "<thead>\n",
       "\t<tr><th scope=col>P</th><th scope=col>actu_renwd2</th><th scope=col>gain</th><th scope=col>lift</th></tr>\n",
       "\t<tr><th scope=col>&lt;dbl&gt;</th><th scope=col>&lt;int&gt;</th><th scope=col>&lt;dbl&gt;</th><th scope=col>&lt;dbl&gt;</th></tr>\n",
       "</thead>\n",
       "<tbody>\n",
       "\t<tr><td>0.1</td><td>11192</td><td>0.4121525</td><td>4.121525</td></tr>\n",
       "\t<tr><td>0.2</td><td>15918</td><td>0.5861904</td><td>2.930952</td></tr>\n",
       "\t<tr><td>0.3</td><td>18871</td><td>0.6949365</td><td>2.316455</td></tr>\n",
       "\t<tr><td>0.4</td><td>21434</td><td>0.7893206</td><td>1.973301</td></tr>\n",
       "\t<tr><td>0.5</td><td>23305</td><td>0.8582213</td><td>1.716443</td></tr>\n",
       "\t<tr><td>0.6</td><td>24687</td><td>0.9091143</td><td>1.515191</td></tr>\n",
       "\t<tr><td>0.7</td><td>25739</td><td>0.9478549</td><td>1.354078</td></tr>\n",
       "\t<tr><td>0.8</td><td>26673</td><td>0.9822500</td><td>1.227813</td></tr>\n",
       "\t<tr><td>0.9</td><td>27076</td><td>0.9970908</td><td>1.107879</td></tr>\n",
       "\t<tr><td>1.0</td><td>27155</td><td>1.0000000</td><td>1.000000</td></tr>\n",
       "</tbody>\n",
       "</table>\n"
      ],
      "text/latex": [
       "A data.frame: 10 × 4\n",
       "\\begin{tabular}{llll}\n",
       " P & actu\\_renwd2 & gain & lift\\\\\n",
       " <dbl> & <int> & <dbl> & <dbl>\\\\\n",
       "\\hline\n",
       "\t 0.1 & 11192 & 0.4121525 & 4.121525\\\\\n",
       "\t 0.2 & 15918 & 0.5861904 & 2.930952\\\\\n",
       "\t 0.3 & 18871 & 0.6949365 & 2.316455\\\\\n",
       "\t 0.4 & 21434 & 0.7893206 & 1.973301\\\\\n",
       "\t 0.5 & 23305 & 0.8582213 & 1.716443\\\\\n",
       "\t 0.6 & 24687 & 0.9091143 & 1.515191\\\\\n",
       "\t 0.7 & 25739 & 0.9478549 & 1.354078\\\\\n",
       "\t 0.8 & 26673 & 0.9822500 & 1.227813\\\\\n",
       "\t 0.9 & 27076 & 0.9970908 & 1.107879\\\\\n",
       "\t 1.0 & 27155 & 1.0000000 & 1.000000\\\\\n",
       "\\end{tabular}\n"
      ],
      "text/markdown": [
       "\n",
       "A data.frame: 10 × 4\n",
       "\n",
       "| P &lt;dbl&gt; | actu_renwd2 &lt;int&gt; | gain &lt;dbl&gt; | lift &lt;dbl&gt; |\n",
       "|---|---|---|---|\n",
       "| 0.1 | 11192 | 0.4121525 | 4.121525 |\n",
       "| 0.2 | 15918 | 0.5861904 | 2.930952 |\n",
       "| 0.3 | 18871 | 0.6949365 | 2.316455 |\n",
       "| 0.4 | 21434 | 0.7893206 | 1.973301 |\n",
       "| 0.5 | 23305 | 0.8582213 | 1.716443 |\n",
       "| 0.6 | 24687 | 0.9091143 | 1.515191 |\n",
       "| 0.7 | 25739 | 0.9478549 | 1.354078 |\n",
       "| 0.8 | 26673 | 0.9822500 | 1.227813 |\n",
       "| 0.9 | 27076 | 0.9970908 | 1.107879 |\n",
       "| 1.0 | 27155 | 1.0000000 | 1.000000 |\n",
       "\n"
      ],
      "text/plain": [
       "   P   actu_renwd2 gain      lift    \n",
       "1  0.1 11192       0.4121525 4.121525\n",
       "2  0.2 15918       0.5861904 2.930952\n",
       "3  0.3 18871       0.6949365 2.316455\n",
       "4  0.4 21434       0.7893206 1.973301\n",
       "5  0.5 23305       0.8582213 1.716443\n",
       "6  0.6 24687       0.9091143 1.515191\n",
       "7  0.7 25739       0.9478549 1.354078\n",
       "8  0.8 26673       0.9822500 1.227813\n",
       "9  0.9 27076       0.9970908 1.107879\n",
       "10 1.0 27155       1.0000000 1.000000"
      ]
     },
     "metadata": {},
     "output_type": "display_data"
    }
   ],
   "source": [
    "lift_df_ranger_03_expiry"
   ]
  },
  {
   "cell_type": "code",
   "execution_count": 127,
   "metadata": {},
   "outputs": [],
   "source": [
    "# system(\"gsutil cp /home/jupyter/local/Domains_202003/data/output/* gs://data_outputt/output/\")\n",
    "# system(\"mv /home/jupyter/local/Domains_202003/data/output/* /home/jupyter/local/Domains_202003/data/\")"
   ]
  },
  {
   "cell_type": "code",
   "execution_count": 15,
   "metadata": {},
   "outputs": [
    {
     "ename": "ERROR",
     "evalue": "Error in sort(ranger_03_expiry$variable.importance, decreasing = TRUE): object 'ranger_03_expiry' not found\n",
     "output_type": "error",
     "traceback": [
      "Error in sort(ranger_03_expiry$variable.importance, decreasing = TRUE): object 'ranger_03_expiry' not found\nTraceback:\n",
      "1. as.data.frame(sort(ranger_03_expiry$variable.importance, decreasing = TRUE))",
      "2. sort(ranger_03_expiry$variable.importance, decreasing = TRUE)"
     ]
    }
   ],
   "source": [
    "as.data.frame(sort(ranger_03_expiry$variable.importance,decreasing=TRUE))"
   ]
  },
  {
   "cell_type": "markdown",
   "metadata": {},
   "source": [
    "lift_df_ranger3"
   ]
  },
  {
   "cell_type": "markdown",
   "metadata": {},
   "source": [
    "# how well does seg_glm perf when trained on this data?"
   ]
  },
  {
   "cell_type": "markdown",
   "metadata": {},
   "source": [
    "## need to retrain model on expiry_train_prepped_2 (list of dfs)\n"
   ]
  },
  {
   "cell_type": "code",
   "execution_count": 90,
   "metadata": {},
   "outputs": [
    {
     "data": {
      "text/plain": [
       "\n",
       "FirstTime \n",
       "  1188250 "
      ]
     },
     "metadata": {},
     "output_type": "display_data"
    }
   ],
   "source": [
    "table(expiry_train_df_1$renewal_type)"
   ]
  },
  {
   "cell_type": "code",
   "execution_count": 91,
   "metadata": {},
   "outputs": [
    {
     "data": {
      "text/plain": [
       "\n",
       "FirstTime \n",
       "   296797 "
      ]
     },
     "metadata": {},
     "output_type": "display_data"
    }
   ],
   "source": [
    "table(expiry_test_df_1$renewal_type)"
   ]
  },
  {
   "cell_type": "code",
   "execution_count": 101,
   "metadata": {},
   "outputs": [
    {
     "data": {
      "text/plain": [
       "\n",
       "FirstTime \n",
       "   296797 "
      ]
     },
     "metadata": {},
     "output_type": "display_data"
    }
   ],
   "source": [
    "table(seg_glm_expiry_exptest$renewal_type)"
   ]
  },
  {
   "cell_type": "code",
   "execution_count": 31,
   "metadata": {},
   "outputs": [
    {
     "data": {
      "text/html": [
       "<style>\n",
       ".list-inline {list-style: none; margin:0; padding: 0}\n",
       ".list-inline>li {display: inline-block}\n",
       ".list-inline>li:not(:last-child)::after {content: \"\\00b7\"; padding: 0 .5ex}\n",
       "</style>\n",
       "<ol class=list-inline><li>'apply_standard_adjustments'</li><li>'auc_ranger_03_expiry'</li><li>'basic_prep_domain_data'</li><li>'build_model_first_renewal'</li><li>'build_model_second_renewal'</li><li>'calc_auc'</li><li>'change.colnames'</li><li>'chart_lift'</li><li>'expiry_test_df_1'</li><li>'expiry_test_df_sub'</li><li>'expiry_test_prepped_2'</li><li>'expiry_test_prepped_2_1'</li><li>'expiry_train_df_1'</li><li>'expiry_train_df_sub'</li><li>'expiry_train_prepped_2'</li><li>'expiry_train_prepped_2_1'</li><li>'fig'</li><li>'gains_plot_ranger_03_expiry'</li><li>'get_cluster_data'</li><li>'get_cluster_large'</li><li>'get_df_npv'</li><li>'get_domain_npv'</li><li>'get_domain_type'</li><li>'get_pattern_score'</li><li>'get_renewal_status'</li><li>'hyper_grid_comp'</li><li>'intersect2'</li><li>'lift_df_ranger_03_expiry'</li><li>'list_predict_first_renewal'</li><li>'list_predict_second_renewal'</li><li>'mass_build_model_first_renewal'</li><li>'mass_build_model_second_renewal'</li><li>'mass_predict_first_renewal'</li><li>'mass_predict_second_renewal'</li><li>'mass_prep_data'</li><li>'na.zero'</li><li>'newreg_data_prep'</li><li>'newreg_data_rename'</li><li>'newreg_data_select'</li><li>'plot_gains'</li><li>'plot_multigains'</li><li>'predict_first_renewal'</li><li>'predict_second_renewal'</li><li>'prep_domain_data'</li><li>'ranger_03_expiry'</li><li>'ranger_03_pred_df_expiry'</li><li>'ranger_predict_03_expiry'</li><li>'results_df'</li><li>'s'</li><li>'save_object'</li><li>'unzip.file'</li></ol>\n"
      ],
      "text/latex": [
       "\\begin{enumerate*}\n",
       "\\item 'apply\\_standard\\_adjustments'\n",
       "\\item 'auc\\_ranger\\_03\\_expiry'\n",
       "\\item 'basic\\_prep\\_domain\\_data'\n",
       "\\item 'build\\_model\\_first\\_renewal'\n",
       "\\item 'build\\_model\\_second\\_renewal'\n",
       "\\item 'calc\\_auc'\n",
       "\\item 'change.colnames'\n",
       "\\item 'chart\\_lift'\n",
       "\\item 'expiry\\_test\\_df\\_1'\n",
       "\\item 'expiry\\_test\\_df\\_sub'\n",
       "\\item 'expiry\\_test\\_prepped\\_2'\n",
       "\\item 'expiry\\_test\\_prepped\\_2\\_1'\n",
       "\\item 'expiry\\_train\\_df\\_1'\n",
       "\\item 'expiry\\_train\\_df\\_sub'\n",
       "\\item 'expiry\\_train\\_prepped\\_2'\n",
       "\\item 'expiry\\_train\\_prepped\\_2\\_1'\n",
       "\\item 'fig'\n",
       "\\item 'gains\\_plot\\_ranger\\_03\\_expiry'\n",
       "\\item 'get\\_cluster\\_data'\n",
       "\\item 'get\\_cluster\\_large'\n",
       "\\item 'get\\_df\\_npv'\n",
       "\\item 'get\\_domain\\_npv'\n",
       "\\item 'get\\_domain\\_type'\n",
       "\\item 'get\\_pattern\\_score'\n",
       "\\item 'get\\_renewal\\_status'\n",
       "\\item 'hyper\\_grid\\_comp'\n",
       "\\item 'intersect2'\n",
       "\\item 'lift\\_df\\_ranger\\_03\\_expiry'\n",
       "\\item 'list\\_predict\\_first\\_renewal'\n",
       "\\item 'list\\_predict\\_second\\_renewal'\n",
       "\\item 'mass\\_build\\_model\\_first\\_renewal'\n",
       "\\item 'mass\\_build\\_model\\_second\\_renewal'\n",
       "\\item 'mass\\_predict\\_first\\_renewal'\n",
       "\\item 'mass\\_predict\\_second\\_renewal'\n",
       "\\item 'mass\\_prep\\_data'\n",
       "\\item 'na.zero'\n",
       "\\item 'newreg\\_data\\_prep'\n",
       "\\item 'newreg\\_data\\_rename'\n",
       "\\item 'newreg\\_data\\_select'\n",
       "\\item 'plot\\_gains'\n",
       "\\item 'plot\\_multigains'\n",
       "\\item 'predict\\_first\\_renewal'\n",
       "\\item 'predict\\_second\\_renewal'\n",
       "\\item 'prep\\_domain\\_data'\n",
       "\\item 'ranger\\_03\\_expiry'\n",
       "\\item 'ranger\\_03\\_pred\\_df\\_expiry'\n",
       "\\item 'ranger\\_predict\\_03\\_expiry'\n",
       "\\item 'results\\_df'\n",
       "\\item 's'\n",
       "\\item 'save\\_object'\n",
       "\\item 'unzip.file'\n",
       "\\end{enumerate*}\n"
      ],
      "text/markdown": [
       "1. 'apply_standard_adjustments'\n",
       "2. 'auc_ranger_03_expiry'\n",
       "3. 'basic_prep_domain_data'\n",
       "4. 'build_model_first_renewal'\n",
       "5. 'build_model_second_renewal'\n",
       "6. 'calc_auc'\n",
       "7. 'change.colnames'\n",
       "8. 'chart_lift'\n",
       "9. 'expiry_test_df_1'\n",
       "10. 'expiry_test_df_sub'\n",
       "11. 'expiry_test_prepped_2'\n",
       "12. 'expiry_test_prepped_2_1'\n",
       "13. 'expiry_train_df_1'\n",
       "14. 'expiry_train_df_sub'\n",
       "15. 'expiry_train_prepped_2'\n",
       "16. 'expiry_train_prepped_2_1'\n",
       "17. 'fig'\n",
       "18. 'gains_plot_ranger_03_expiry'\n",
       "19. 'get_cluster_data'\n",
       "20. 'get_cluster_large'\n",
       "21. 'get_df_npv'\n",
       "22. 'get_domain_npv'\n",
       "23. 'get_domain_type'\n",
       "24. 'get_pattern_score'\n",
       "25. 'get_renewal_status'\n",
       "26. 'hyper_grid_comp'\n",
       "27. 'intersect2'\n",
       "28. 'lift_df_ranger_03_expiry'\n",
       "29. 'list_predict_first_renewal'\n",
       "30. 'list_predict_second_renewal'\n",
       "31. 'mass_build_model_first_renewal'\n",
       "32. 'mass_build_model_second_renewal'\n",
       "33. 'mass_predict_first_renewal'\n",
       "34. 'mass_predict_second_renewal'\n",
       "35. 'mass_prep_data'\n",
       "36. 'na.zero'\n",
       "37. 'newreg_data_prep'\n",
       "38. 'newreg_data_rename'\n",
       "39. 'newreg_data_select'\n",
       "40. 'plot_gains'\n",
       "41. 'plot_multigains'\n",
       "42. 'predict_first_renewal'\n",
       "43. 'predict_second_renewal'\n",
       "44. 'prep_domain_data'\n",
       "45. 'ranger_03_expiry'\n",
       "46. 'ranger_03_pred_df_expiry'\n",
       "47. 'ranger_predict_03_expiry'\n",
       "48. 'results_df'\n",
       "49. 's'\n",
       "50. 'save_object'\n",
       "51. 'unzip.file'\n",
       "\n",
       "\n"
      ],
      "text/plain": [
       " [1] \"apply_standard_adjustments\"      \"auc_ranger_03_expiry\"           \n",
       " [3] \"basic_prep_domain_data\"          \"build_model_first_renewal\"      \n",
       " [5] \"build_model_second_renewal\"      \"calc_auc\"                       \n",
       " [7] \"change.colnames\"                 \"chart_lift\"                     \n",
       " [9] \"expiry_test_df_1\"                \"expiry_test_df_sub\"             \n",
       "[11] \"expiry_test_prepped_2\"           \"expiry_test_prepped_2_1\"        \n",
       "[13] \"expiry_train_df_1\"               \"expiry_train_df_sub\"            \n",
       "[15] \"expiry_train_prepped_2\"          \"expiry_train_prepped_2_1\"       \n",
       "[17] \"fig\"                             \"gains_plot_ranger_03_expiry\"    \n",
       "[19] \"get_cluster_data\"                \"get_cluster_large\"              \n",
       "[21] \"get_df_npv\"                      \"get_domain_npv\"                 \n",
       "[23] \"get_domain_type\"                 \"get_pattern_score\"              \n",
       "[25] \"get_renewal_status\"              \"hyper_grid_comp\"                \n",
       "[27] \"intersect2\"                      \"lift_df_ranger_03_expiry\"       \n",
       "[29] \"list_predict_first_renewal\"      \"list_predict_second_renewal\"    \n",
       "[31] \"mass_build_model_first_renewal\"  \"mass_build_model_second_renewal\"\n",
       "[33] \"mass_predict_first_renewal\"      \"mass_predict_second_renewal\"    \n",
       "[35] \"mass_prep_data\"                  \"na.zero\"                        \n",
       "[37] \"newreg_data_prep\"                \"newreg_data_rename\"             \n",
       "[39] \"newreg_data_select\"              \"plot_gains\"                     \n",
       "[41] \"plot_multigains\"                 \"predict_first_renewal\"          \n",
       "[43] \"predict_second_renewal\"          \"prep_domain_data\"               \n",
       "[45] \"ranger_03_expiry\"                \"ranger_03_pred_df_expiry\"       \n",
       "[47] \"ranger_predict_03_expiry\"        \"results_df\"                     \n",
       "[49] \"s\"                               \"save_object\"                    \n",
       "[51] \"unzip.file\"                     "
      ]
     },
     "metadata": {},
     "output_type": "display_data"
    }
   ],
   "source": [
    "ls()"
   ]
  },
  {
   "cell_type": "code",
   "execution_count": 97,
   "metadata": {},
   "outputs": [
    {
     "name": "stdout",
     "output_type": "stream",
     "text": [
      "model fitting: 26.519 sec elapsed\n",
      "model saving: 39.453 sec elapsed\n"
     ]
    }
   ],
   "source": [
    "# model fitting: 38.794 sec elapsed\n",
    "# model saving: 48.062 sec elapsed\n",
    "\n",
    "# model fitting: 48.917 sec elapsed on 16 core\n",
    "# model saving: 42.567 sec elapsed\n",
    "\n",
    "tic(\"model fitting\")\n",
    "suppressWarnings(first_renewal_model_expiry_train<-mass_build_model_first_renewal(expiry_train_prepped_2_1))\n",
    "toc()\n",
    "tic(\"model saving\")\n",
    "saveRDS(first_renewal_model_expiry_train, \"../../data/output/first_renewal_model_expiry_train\")\n",
    "toc()\n"
   ]
  },
  {
   "cell_type": "code",
   "execution_count": 98,
   "metadata": {},
   "outputs": [
    {
     "name": "stdout",
     "output_type": "stream",
     "text": [
      "model predict: 4.534 sec elapsed\n"
     ]
    }
   ],
   "source": [
    "# model predict: 12.668 sec elapsed\n",
    "# model predict: 11.492 sec elapsed on 16 core\n",
    "\n",
    "tic(\"model predict\")\n",
    "suppressWarnings(seg_glm_expiry_exptest <- mass_predict_first_renewal(expiry_test_prepped_2_1, \n",
    "                                                     first_renewal_model_expiry_train))\n",
    "toc()\n",
    "saveRDS(seg_glm_expiry_exptest,\"../../data/output/seg_glm_expiry_exptest\")\n"
   ]
  },
  {
   "cell_type": "code",
   "execution_count": null,
   "metadata": {},
   "outputs": [],
   "source": [
    "# seg_glm_exptest <- readRDS(\"../../data/output/seg_glm_exptest\")"
   ]
  },
  {
   "cell_type": "code",
   "execution_count": 100,
   "metadata": {},
   "outputs": [],
   "source": [
    "seg_glm_expiry_exptest_pred_df = data.frame(\"actual\" = expiry_test_df_sub$renewal_status,\n",
    "          \"predicted\" = seg_glm_expiry_exptest$first_renewal_prediction)\n",
    "\n",
    "# lift df: 1.63 sec elapsed\n",
    "# gains plot: 0.03 sec elapsed\n",
    "# auc: 0.005 sec elapsed\n",
    "\n",
    "tic(\"lift df\")\n",
    "lift_df_seg_glm_expiry_exptest <- chart_lift(pred_df = seg_glm_expiry_exptest_pred_df,\n",
    "                        dep_var = \"actual\",\n",
    "                        pred_var = \"predicted\")\n",
    "\n",
    "toc()\n",
    "tic(\"gains plot\")\n",
    "gains_plot_seg_glm_expiry_exptest <- plot_gains (lift_df_seg_glm_expiry_exptest) \n",
    "\n",
    "toc()\n",
    "tic(\"auc\")\n",
    "auc_seg_glm_expiry_exptest<- calc_auc(lift_df_seg_glm_expiry_exptest)\n",
    "toc()\n",
    "\n",
    "\n",
    "saveRDS(lift_df_seg_glm_expiry_exptest, file.path('../../data/output/',\"lift_df_seg_glm_expiry_exptest\"))"
   ]
  },
  {
   "cell_type": "code",
   "execution_count": 103,
   "metadata": {},
   "outputs": [
    {
     "data": {
      "text/html": [
       "<table>\n",
       "<caption>A data.frame: 10 × 4</caption>\n",
       "<thead>\n",
       "\t<tr><th scope=col>P</th><th scope=col>actu_renwd2</th><th scope=col>gain</th><th scope=col>lift</th></tr>\n",
       "\t<tr><th scope=col>&lt;dbl&gt;</th><th scope=col>&lt;int&gt;</th><th scope=col>&lt;dbl&gt;</th><th scope=col>&lt;dbl&gt;</th></tr>\n",
       "</thead>\n",
       "<tbody>\n",
       "\t<tr><td>0.1</td><td>12787</td><td>0.4708893</td><td>4.708893</td></tr>\n",
       "\t<tr><td>0.2</td><td>18692</td><td>0.6883447</td><td>3.441723</td></tr>\n",
       "\t<tr><td>0.3</td><td>21933</td><td>0.8076966</td><td>2.692322</td></tr>\n",
       "\t<tr><td>0.4</td><td>24000</td><td>0.8838151</td><td>2.209538</td></tr>\n",
       "\t<tr><td>0.5</td><td>25227</td><td>0.9290002</td><td>1.858000</td></tr>\n",
       "\t<tr><td>0.6</td><td>25947</td><td>0.9555146</td><td>1.592524</td></tr>\n",
       "\t<tr><td>0.7</td><td>26325</td><td>0.9694347</td><td>1.384907</td></tr>\n",
       "\t<tr><td>0.8</td><td>26587</td><td>0.9790830</td><td>1.223854</td></tr>\n",
       "\t<tr><td>0.9</td><td>26647</td><td>0.9812926</td><td>1.090325</td></tr>\n",
       "\t<tr><td>1.0</td><td>27155</td><td>1.0000000</td><td>1.000000</td></tr>\n",
       "</tbody>\n",
       "</table>\n"
      ],
      "text/latex": [
       "A data.frame: 10 × 4\n",
       "\\begin{tabular}{llll}\n",
       " P & actu\\_renwd2 & gain & lift\\\\\n",
       " <dbl> & <int> & <dbl> & <dbl>\\\\\n",
       "\\hline\n",
       "\t 0.1 & 12787 & 0.4708893 & 4.708893\\\\\n",
       "\t 0.2 & 18692 & 0.6883447 & 3.441723\\\\\n",
       "\t 0.3 & 21933 & 0.8076966 & 2.692322\\\\\n",
       "\t 0.4 & 24000 & 0.8838151 & 2.209538\\\\\n",
       "\t 0.5 & 25227 & 0.9290002 & 1.858000\\\\\n",
       "\t 0.6 & 25947 & 0.9555146 & 1.592524\\\\\n",
       "\t 0.7 & 26325 & 0.9694347 & 1.384907\\\\\n",
       "\t 0.8 & 26587 & 0.9790830 & 1.223854\\\\\n",
       "\t 0.9 & 26647 & 0.9812926 & 1.090325\\\\\n",
       "\t 1.0 & 27155 & 1.0000000 & 1.000000\\\\\n",
       "\\end{tabular}\n"
      ],
      "text/markdown": [
       "\n",
       "A data.frame: 10 × 4\n",
       "\n",
       "| P &lt;dbl&gt; | actu_renwd2 &lt;int&gt; | gain &lt;dbl&gt; | lift &lt;dbl&gt; |\n",
       "|---|---|---|---|\n",
       "| 0.1 | 12787 | 0.4708893 | 4.708893 |\n",
       "| 0.2 | 18692 | 0.6883447 | 3.441723 |\n",
       "| 0.3 | 21933 | 0.8076966 | 2.692322 |\n",
       "| 0.4 | 24000 | 0.8838151 | 2.209538 |\n",
       "| 0.5 | 25227 | 0.9290002 | 1.858000 |\n",
       "| 0.6 | 25947 | 0.9555146 | 1.592524 |\n",
       "| 0.7 | 26325 | 0.9694347 | 1.384907 |\n",
       "| 0.8 | 26587 | 0.9790830 | 1.223854 |\n",
       "| 0.9 | 26647 | 0.9812926 | 1.090325 |\n",
       "| 1.0 | 27155 | 1.0000000 | 1.000000 |\n",
       "\n"
      ],
      "text/plain": [
       "   P   actu_renwd2 gain      lift    \n",
       "1  0.1 12787       0.4708893 4.708893\n",
       "2  0.2 18692       0.6883447 3.441723\n",
       "3  0.3 21933       0.8076966 2.692322\n",
       "4  0.4 24000       0.8838151 2.209538\n",
       "5  0.5 25227       0.9290002 1.858000\n",
       "6  0.6 25947       0.9555146 1.592524\n",
       "7  0.7 26325       0.9694347 1.384907\n",
       "8  0.8 26587       0.9790830 1.223854\n",
       "9  0.9 26647       0.9812926 1.090325\n",
       "10 1.0 27155       1.0000000 1.000000"
      ]
     },
     "metadata": {},
     "output_type": "display_data"
    }
   ],
   "source": [
    "lift_df_seg_glm_expiry_exptest"
   ]
  },
  {
   "cell_type": "code",
   "execution_count": 104,
   "metadata": {},
   "outputs": [
    {
     "data": {
      "text/html": [
       "<strong>png:</strong> 2"
      ],
      "text/latex": [
       "\\textbf{png:} 2"
      ],
      "text/markdown": [
       "**png:** 2"
      ],
      "text/plain": [
       "png \n",
       "  2 "
      ]
     },
     "metadata": {},
     "output_type": "display_data"
    }
   ],
   "source": [
    "plot_multigains_03_summ4 <- plot_multigains(\n",
    "    lift_df_list=list(\n",
    "        rf_newd_ex = lift_df_ranger_03_expiry,\n",
    "        seg_newd_ex = lift_df_seg_glm_expiry_exptest),\n",
    "    auc_list = list(\n",
    "        rf_newd_ex= calc_auc(lift_df_ranger_03_expiry),\n",
    "        seg_newd_ex= calc_auc(lift_df_seg_glm_expiry_exptest)))\n",
    "png(file = \"../../data/output/plot_multigains_03_summ4.png\",\n",
    "    width = 500, height = 375)\n",
    "plot(plot_multigains_03_summ4)\n",
    "dev.off()"
   ]
  },
  {
   "cell_type": "code",
   "execution_count": 105,
   "metadata": {},
   "outputs": [
    {
     "data": {
      "image/png": "[encoded data removed]",
      "text/plain": [
       "plot without title"
      ]
     },
     "metadata": {
      "image/png": {
       "height": 420,
       "width": 420
      },
      "text/plain": {
       "height": 420,
       "width": 420
      }
     },
     "output_type": "display_data"
    }
   ],
   "source": [
    "plot_multigains_03_summ4"
   ]
  },
  {
   "cell_type": "code",
   "execution_count": 106,
   "metadata": {},
   "outputs": [
    {
     "data": {
      "text/html": [
       "<table>\n",
       "<caption>A data.frame: 10 × 3</caption>\n",
       "<thead>\n",
       "\t<tr><th scope=col>pct</th><th scope=col>seg_glm</th><th scope=col>ranger_03</th></tr>\n",
       "\t<tr><th scope=col>&lt;dbl&gt;</th><th scope=col>&lt;dbl&gt;</th><th scope=col>&lt;dbl&gt;</th></tr>\n",
       "</thead>\n",
       "<tbody>\n",
       "\t<tr><td>0.1</td><td>4.708893</td><td>4.110477</td></tr>\n",
       "\t<tr><td>0.2</td><td>3.441723</td><td>2.933161</td></tr>\n",
       "\t<tr><td>0.3</td><td>2.692322</td><td>2.317191</td></tr>\n",
       "\t<tr><td>0.4</td><td>2.209538</td><td>1.978549</td></tr>\n",
       "\t<tr><td>0.5</td><td>1.858000</td><td>1.718799</td></tr>\n",
       "\t<tr><td>0.6</td><td>1.592524</td><td>1.514638</td></tr>\n",
       "\t<tr><td>0.7</td><td>1.384907</td><td>1.354815</td></tr>\n",
       "\t<tr><td>0.8</td><td>1.223854</td><td>1.227076</td></tr>\n",
       "\t<tr><td>0.9</td><td>1.090325</td><td>1.107920</td></tr>\n",
       "\t<tr><td>1.0</td><td>1.000000</td><td>1.000000</td></tr>\n",
       "</tbody>\n",
       "</table>\n"
      ],
      "text/latex": [
       "A data.frame: 10 × 3\n",
       "\\begin{tabular}{lll}\n",
       " pct & seg\\_glm & ranger\\_03\\\\\n",
       " <dbl> & <dbl> & <dbl>\\\\\n",
       "\\hline\n",
       "\t 0.1 & 4.708893 & 4.110477\\\\\n",
       "\t 0.2 & 3.441723 & 2.933161\\\\\n",
       "\t 0.3 & 2.692322 & 2.317191\\\\\n",
       "\t 0.4 & 2.209538 & 1.978549\\\\\n",
       "\t 0.5 & 1.858000 & 1.718799\\\\\n",
       "\t 0.6 & 1.592524 & 1.514638\\\\\n",
       "\t 0.7 & 1.384907 & 1.354815\\\\\n",
       "\t 0.8 & 1.223854 & 1.227076\\\\\n",
       "\t 0.9 & 1.090325 & 1.107920\\\\\n",
       "\t 1.0 & 1.000000 & 1.000000\\\\\n",
       "\\end{tabular}\n"
      ],
      "text/markdown": [
       "\n",
       "A data.frame: 10 × 3\n",
       "\n",
       "| pct &lt;dbl&gt; | seg_glm &lt;dbl&gt; | ranger_03 &lt;dbl&gt; |\n",
       "|---|---|---|\n",
       "| 0.1 | 4.708893 | 4.110477 |\n",
       "| 0.2 | 3.441723 | 2.933161 |\n",
       "| 0.3 | 2.692322 | 2.317191 |\n",
       "| 0.4 | 2.209538 | 1.978549 |\n",
       "| 0.5 | 1.858000 | 1.718799 |\n",
       "| 0.6 | 1.592524 | 1.514638 |\n",
       "| 0.7 | 1.384907 | 1.354815 |\n",
       "| 0.8 | 1.223854 | 1.227076 |\n",
       "| 0.9 | 1.090325 | 1.107920 |\n",
       "| 1.0 | 1.000000 | 1.000000 |\n",
       "\n"
      ],
      "text/plain": [
       "   pct seg_glm  ranger_03\n",
       "1  0.1 4.708893 4.110477 \n",
       "2  0.2 3.441723 2.933161 \n",
       "3  0.3 2.692322 2.317191 \n",
       "4  0.4 2.209538 1.978549 \n",
       "5  0.5 1.858000 1.718799 \n",
       "6  0.6 1.592524 1.514638 \n",
       "7  0.7 1.384907 1.354815 \n",
       "8  0.8 1.223854 1.227076 \n",
       "9  0.9 1.090325 1.107920 \n",
       "10 1.0 1.000000 1.000000 "
      ]
     },
     "metadata": {},
     "output_type": "display_data"
    }
   ],
   "source": [
    "lift_newdata_df <- cbind(lift_df_seg_glm_expiry_exptest[c(\"P\",\"lift\")],lift_df_ranger_03_expiry[c(\"lift\")])\n",
    "names(lift_newdata_df) <- c(\"pct\",\"seg_glm\",\"ranger_03\")\n",
    "lift_newdata_df\n"
   ]
  },
  {
   "cell_type": "markdown",
   "metadata": {},
   "source": [
    "# Confusion Matrices"
   ]
  },
  {
   "cell_type": "code",
   "execution_count": 42,
   "metadata": {},
   "outputs": [],
   "source": [
    "CM_thresh_test <- function (actual, predicted, thresh){\n",
    "    predicted <- as.factor(predicted>thresh)\n",
    "    actual <- as.factor(actual==\"Renewed\")\n",
    "    confusionMatrix(predicted,actual, positive=\"TRUE\")\n",
    "}"
   ]
  },
  {
   "cell_type": "code",
   "execution_count": 43,
   "metadata": {},
   "outputs": [],
   "source": [
    "results5 <- CM_thresh_test(expiry_test_df_1$renewal_status,\n",
    "                           seg_glm_expiry_exptest$first_renewal_prediction,\n",
    "                           .5)\n",
    "cm5 <- as.table(results5)\n",
    "df5 <- as.matrix(results5, what = \"classes\")\n",
    "\n",
    "results6 <- CM_thresh_test(expiry_test_df_1$renewal_status,\n",
    "                           ranger_predict_03_expiry,\n",
    "                           .5)\n",
    "cm6 <- as.table(results6)\n",
    "df6 <- as.matrix(results6, what = \"classes\")"
   ]
  },
  {
   "cell_type": "code",
   "execution_count": 44,
   "metadata": {},
   "outputs": [
    {
     "data": {
      "text/html": [
       "<table>\n",
       "<caption>A data.frame: 11 × 2</caption>\n",
       "<thead>\n",
       "\t<tr><th></th><th scope=col>seg_glm</th><th scope=col>ranger_03</th></tr>\n",
       "\t<tr><th></th><th scope=col>&lt;dbl&gt;</th><th scope=col>&lt;dbl&gt;</th></tr>\n",
       "</thead>\n",
       "<tbody>\n",
       "\t<tr><th scope=row>Sensitivity</th><td>0.21578908</td><td>0.11743694</td></tr>\n",
       "\t<tr><th scope=row>Specificity</th><td>0.98236089</td><td>0.98946010</td></tr>\n",
       "\t<tr><th scope=row>Pos Pred Value</th><td>0.55056926</td><td>0.52876803</td></tr>\n",
       "\t<tr><th scope=row>Neg Pred Value</th><td>0.92597832</td><td>0.91757633</td></tr>\n",
       "\t<tr><th scope=row>Precision</th><td>0.55056926</td><td>0.52876803</td></tr>\n",
       "\t<tr><th scope=row>Recall</th><td>0.21578908</td><td>0.11743694</td></tr>\n",
       "\t<tr><th scope=row>F1</th><td>0.31005557</td><td>0.19218948</td></tr>\n",
       "\t<tr><th scope=row>Prevalence</th><td>0.09102263</td><td>0.09149351</td></tr>\n",
       "\t<tr><th scope=row>Detection Rate</th><td>0.01964169</td><td>0.01074472</td></tr>\n",
       "\t<tr><th scope=row>Detection Prevalence</th><td>0.03567524</td><td>0.02032029</td></tr>\n",
       "\t<tr><th scope=row>Balanced Accuracy</th><td>0.59907499</td><td>0.55344852</td></tr>\n",
       "</tbody>\n",
       "</table>\n"
      ],
      "text/latex": [
       "A data.frame: 11 × 2\n",
       "\\begin{tabular}{r|ll}\n",
       "  & seg\\_glm & ranger\\_03\\\\\n",
       "  & <dbl> & <dbl>\\\\\n",
       "\\hline\n",
       "\tSensitivity & 0.21578908 & 0.11743694\\\\\n",
       "\tSpecificity & 0.98236089 & 0.98946010\\\\\n",
       "\tPos Pred Value & 0.55056926 & 0.52876803\\\\\n",
       "\tNeg Pred Value & 0.92597832 & 0.91757633\\\\\n",
       "\tPrecision & 0.55056926 & 0.52876803\\\\\n",
       "\tRecall & 0.21578908 & 0.11743694\\\\\n",
       "\tF1 & 0.31005557 & 0.19218948\\\\\n",
       "\tPrevalence & 0.09102263 & 0.09149351\\\\\n",
       "\tDetection Rate & 0.01964169 & 0.01074472\\\\\n",
       "\tDetection Prevalence & 0.03567524 & 0.02032029\\\\\n",
       "\tBalanced Accuracy & 0.59907499 & 0.55344852\\\\\n",
       "\\end{tabular}\n"
      ],
      "text/markdown": [
       "\n",
       "A data.frame: 11 × 2\n",
       "\n",
       "| <!--/--> | seg_glm &lt;dbl&gt; | ranger_03 &lt;dbl&gt; |\n",
       "|---|---|---|\n",
       "| Sensitivity | 0.21578908 | 0.11743694 |\n",
       "| Specificity | 0.98236089 | 0.98946010 |\n",
       "| Pos Pred Value | 0.55056926 | 0.52876803 |\n",
       "| Neg Pred Value | 0.92597832 | 0.91757633 |\n",
       "| Precision | 0.55056926 | 0.52876803 |\n",
       "| Recall | 0.21578908 | 0.11743694 |\n",
       "| F1 | 0.31005557 | 0.19218948 |\n",
       "| Prevalence | 0.09102263 | 0.09149351 |\n",
       "| Detection Rate | 0.01964169 | 0.01074472 |\n",
       "| Detection Prevalence | 0.03567524 | 0.02032029 |\n",
       "| Balanced Accuracy | 0.59907499 | 0.55344852 |\n",
       "\n"
      ],
      "text/plain": [
       "                     seg_glm    ranger_03 \n",
       "Sensitivity          0.21578908 0.11743694\n",
       "Specificity          0.98236089 0.98946010\n",
       "Pos Pred Value       0.55056926 0.52876803\n",
       "Neg Pred Value       0.92597832 0.91757633\n",
       "Precision            0.55056926 0.52876803\n",
       "Recall               0.21578908 0.11743694\n",
       "F1                   0.31005557 0.19218948\n",
       "Prevalence           0.09102263 0.09149351\n",
       "Detection Rate       0.01964169 0.01074472\n",
       "Detection Prevalence 0.03567524 0.02032029\n",
       "Balanced Accuracy    0.59907499 0.55344852"
      ]
     },
     "metadata": {},
     "output_type": "display_data"
    }
   ],
   "source": [
    "perf_newdata_df <- cbind(as.data.frame(df5),as.data.frame(df6))\n",
    "names(perf_newdata_df) <- c(\"seg_glm\",\"ranger_03\")\n",
    "perf_newdata_df"
   ]
  },
  {
   "cell_type": "code",
   "execution_count": 45,
   "metadata": {},
   "outputs": [
    {
     "data": {
      "text/plain": [
       "          Reference\n",
       "Prediction  FALSE   TRUE\n",
       "     FALSE 263814  21089\n",
       "     TRUE    4737   5803"
      ]
     },
     "metadata": {},
     "output_type": "display_data"
    },
    {
     "data": {
      "text/plain": [
       "          Reference\n",
       "Prediction  FALSE   TRUE\n",
       "     FALSE 266800  23966\n",
       "     TRUE    2842   3189"
      ]
     },
     "metadata": {},
     "output_type": "display_data"
    }
   ],
   "source": [
    "cm5\n",
    "cm6"
   ]
  },
  {
   "cell_type": "markdown",
   "metadata": {},
   "source": [
    "# Class weighting doesn't work?"
   ]
  },
  {
   "cell_type": "code",
   "execution_count": 47,
   "metadata": {},
   "outputs": [],
   "source": [
    "library(datasets)"
   ]
  },
  {
   "cell_type": "code",
   "execution_count": 48,
   "metadata": {},
   "outputs": [],
   "source": [
    "rf <- ranger(Species ~ ., iris, num.trees = 5)\n",
    "rf_weighted <- ranger(Species ~ ., iris, num.trees = 5, class.weights = c(1, 0, 0))"
   ]
  },
  {
   "cell_type": "code",
   "execution_count": 49,
   "metadata": {},
   "outputs": [
    {
     "data": {
      "text/html": [
       "0.0746268656716418"
      ],
      "text/latex": [
       "0.0746268656716418"
      ],
      "text/markdown": [
       "0.0746268656716418"
      ],
      "text/plain": [
       "[1] 0.07462687"
      ]
     },
     "metadata": {},
     "output_type": "display_data"
    },
    {
     "data": {
      "text/html": [
       "0.18978102189781"
      ],
      "text/latex": [
       "0.18978102189781"
      ],
      "text/markdown": [
       "0.18978102189781"
      ],
      "text/plain": [
       "[1] 0.189781"
      ]
     },
     "metadata": {},
     "output_type": "display_data"
    }
   ],
   "source": [
    "rf$prediction.error\n",
    "rf_weighted$prediction.error"
   ]
  },
  {
   "cell_type": "code",
   "execution_count": 62,
   "metadata": {},
   "outputs": [
    {
     "data": {
      "text/html": [
       "<style>\n",
       ".list-inline {list-style: none; margin:0; padding: 0}\n",
       ".list-inline>li {display: inline-block}\n",
       ".list-inline>li:not(:last-child)::after {content: \"\\00b7\"; padding: 0 .5ex}\n",
       "</style>\n",
       "<ol class=list-inline><li>59412</li><li>13</li></ol>\n"
      ],
      "text/latex": [
       "\\begin{enumerate*}\n",
       "\\item 59412\n",
       "\\item 13\n",
       "\\end{enumerate*}\n"
      ],
      "text/markdown": [
       "1. 59412\n",
       "2. 13\n",
       "\n",
       "\n"
      ],
      "text/plain": [
       "[1] 59412    13"
      ]
     },
     "metadata": {},
     "output_type": "display_data"
    },
    {
     "data": {
      "text/html": [
       "<style>\n",
       ".list-inline {list-style: none; margin:0; padding: 0}\n",
       ".list-inline>li {display: inline-block}\n",
       ".list-inline>li:not(:last-child)::after {content: \"\\00b7\"; padding: 0 .5ex}\n",
       "</style>\n",
       "<ol class=list-inline><li>14839</li><li>13</li></ol>\n"
      ],
      "text/latex": [
       "\\begin{enumerate*}\n",
       "\\item 14839\n",
       "\\item 13\n",
       "\\end{enumerate*}\n"
      ],
      "text/markdown": [
       "1. 14839\n",
       "2. 13\n",
       "\n",
       "\n"
      ],
      "text/plain": [
       "[1] 14839    13"
      ]
     },
     "metadata": {},
     "output_type": "display_data"
    }
   ],
   "source": [
    "\n",
    "set.seed(123)\n",
    "tr_idxs <- sample(seq_len(nrow(expiry_train_df_sub)), size = floor(0.05 * nrow(expiry_train_df_sub)))\n",
    "ts_idxs <- sample(seq_len(nrow(expiry_test_df_sub)), size = floor(0.05 * nrow(expiry_test_df_sub)))\n",
    "\n",
    "tr <- expiry_train_df_sub[tr_idxs, ] \n",
    "ts <- expiry_test_df_sub[ts_idxs, ] \n",
    "\n",
    "dim(tr)\n",
    "dim(ts)"
   ]
  },
  {
   "cell_type": "code",
   "execution_count": 51,
   "metadata": {},
   "outputs": [
    {
     "data": {
      "text/html": [
       "<style>\n",
       ".dl-inline {width: auto; margin:0; padding: 0}\n",
       ".dl-inline>dt, .dl-inline>dd {float: none; width: auto; display: inline-block}\n",
       ".dl-inline>dt::after {content: \":\\0020\"; padding-right: .5ex}\n",
       ".dl-inline>dt:not(:first-of-type) {padding-left: .5ex}\n",
       "</style><dl class=dl-inline><dt>Not Renewd</dt><dd>54035</dd><dt>Renewed</dt><dd>5377</dd></dl>\n"
      ],
      "text/latex": [
       "\\begin{description*}\n",
       "\\item[Not Renewd] 54035\n",
       "\\item[Renewed] 5377\n",
       "\\end{description*}\n"
      ],
      "text/markdown": [
       "Not Renewd\n",
       ":   54035Renewed\n",
       ":   5377\n",
       "\n"
      ],
      "text/plain": [
       "Not Renewd    Renewed \n",
       "     54035       5377 "
      ]
     },
     "metadata": {},
     "output_type": "display_data"
    }
   ],
   "source": [
    "summary(tr$renewal_status)"
   ]
  },
  {
   "cell_type": "code",
   "execution_count": 83,
   "metadata": {},
   "outputs": [],
   "source": [
    "# test_1 <- ranger(\n",
    "#     formula         = renewal_status ~ ., \n",
    "#     data            = tr, \n",
    "#     importance = 'impurity', \n",
    "#     num.trees       = 100,\n",
    "# #     class.weights = c(1,10000),\n",
    "#     probability = TRUE,\n",
    "#     mtry            = 3,\n",
    "#     min.node.size   = 10,\n",
    "#     replace = FALSE,\n",
    "#     sample.fraction = .8,\n",
    "#     seed            = 123\n",
    "# )\n",
    "\n",
    "\n",
    "# test_2 <- ranger(\n",
    "#     formula         = renewal_status ~ ., \n",
    "#     data            = tr, \n",
    "#     importance = 'impurity', \n",
    "#     num.trees       = 100,\n",
    "#     class.weights = c(0,1),\n",
    "#     probability = TRUE,\n",
    "#     mtry            = 3,\n",
    "#     min.node.size   = 10,\n",
    "#     replace = FALSE,\n",
    "#     sample.fraction = .8,\n",
    "#     seed            = 123\n",
    "# )\n",
    "\n",
    "\n",
    "# test_3 <- ranger(\n",
    "#     formula         = renewal_status ~ ., \n",
    "#     data            = tr, \n",
    "#     importance = 'impurity', \n",
    "#     num.trees       = 100,\n",
    "#     class.weights = c(1,0),\n",
    "#     probability = TRUE,\n",
    "#     mtry            = 3,\n",
    "#     min.node.size   = 10,\n",
    "#     replace = FALSE,\n",
    "#     sample.fraction = .8,\n",
    "#     seed            = 123\n",
    "# )\n",
    "\n",
    "\n",
    "\n",
    "test_4 <- ranger(\n",
    "    formula         = renewal_status ~ ., \n",
    "    data            = tr, \n",
    "    importance = 'impurity', \n",
    "    num.trees       = 100,\n",
    "    class.weights = c(1,1000),\n",
    "    probability = TRUE,\n",
    "    mtry            = 3,\n",
    "    min.node.size   = 10,\n",
    "    replace = FALSE,\n",
    "    sample.fraction = .8,\n",
    "    seed            = 123\n",
    ")\n"
   ]
  },
  {
   "cell_type": "code",
   "execution_count": 84,
   "metadata": {},
   "outputs": [
    {
     "data": {
      "text/html": [
       "0.0655673696067219"
      ],
      "text/latex": [
       "0.0655673696067219"
      ],
      "text/markdown": [
       "0.0655673696067219"
      ],
      "text/plain": [
       "[1] 0.06556737"
      ]
     },
     "metadata": {},
     "output_type": "display_data"
    },
    {
     "data": {
      "text/html": [
       "0.0655040521100706"
      ],
      "text/latex": [
       "0.0655040521100706"
      ],
      "text/markdown": [
       "0.0655040521100706"
      ],
      "text/plain": [
       "[1] 0.06550405"
      ]
     },
     "metadata": {},
     "output_type": "display_data"
    },
    {
     "data": {
      "text/html": [
       "0.0655213785355325"
      ],
      "text/latex": [
       "0.0655213785355325"
      ],
      "text/markdown": [
       "0.0655213785355325"
      ],
      "text/plain": [
       "[1] 0.06552138"
      ]
     },
     "metadata": {},
     "output_type": "display_data"
    },
    {
     "data": {
      "text/html": [
       "0.0655034859000889"
      ],
      "text/latex": [
       "0.0655034859000889"
      ],
      "text/markdown": [
       "0.0655034859000889"
      ],
      "text/plain": [
       "[1] 0.06550349"
      ]
     },
     "metadata": {},
     "output_type": "display_data"
    },
    {
     "name": "stdout",
     "output_type": "stream",
     "text": [
      "\n"
     ]
    }
   ],
   "source": [
    "test_1$prediction.error\n",
    "test_2$prediction.error\n",
    "test_3$prediction.error\n",
    "test_4$prediction.error\n",
    "cat(\"\\n\")"
   ]
  },
  {
   "cell_type": "code",
   "execution_count": 63,
   "metadata": {},
   "outputs": [
    {
     "data": {
      "text/html": [
       "<style>\n",
       ".dl-inline {width: auto; margin:0; padding: 0}\n",
       ".dl-inline>dt, .dl-inline>dd {float: none; width: auto; display: inline-block}\n",
       ".dl-inline>dt::after {content: \":\\0020\"; padding-right: .5ex}\n",
       ".dl-inline>dt:not(:first-of-type) {padding-left: .5ex}\n",
       "</style><dl class=dl-inline><dt>renewal_status</dt><dd>'factor'</dd><dt>tld</dt><dd>'factor'</dd><dt>registrar</dt><dd>'character'</dd><dt>reseller</dt><dd>'character'</dd><dt>reseller_country</dt><dd>'character'</dd><dt>region</dt><dd>'character'</dd><dt>reg_period</dt><dd>'integer'</dd><dt>sld_type</dt><dd>'factor'</dd><dt>sld_length</dt><dd>'integer'</dd><dt>day_domains</dt><dd>'integer'</dd><dt>gibb_score</dt><dd>'numeric'</dd><dt>pattern_domain_count</dt><dd>'integer'</dd><dt>reg_arpt</dt><dd>'numeric'</dd></dl>\n"
      ],
      "text/latex": [
       "\\begin{description*}\n",
       "\\item[renewal\\textbackslash{}\\_status] 'factor'\n",
       "\\item[tld] 'factor'\n",
       "\\item[registrar] 'character'\n",
       "\\item[reseller] 'character'\n",
       "\\item[reseller\\textbackslash{}\\_country] 'character'\n",
       "\\item[region] 'character'\n",
       "\\item[reg\\textbackslash{}\\_period] 'integer'\n",
       "\\item[sld\\textbackslash{}\\_type] 'factor'\n",
       "\\item[sld\\textbackslash{}\\_length] 'integer'\n",
       "\\item[day\\textbackslash{}\\_domains] 'integer'\n",
       "\\item[gibb\\textbackslash{}\\_score] 'numeric'\n",
       "\\item[pattern\\textbackslash{}\\_domain\\textbackslash{}\\_count] 'integer'\n",
       "\\item[reg\\textbackslash{}\\_arpt] 'numeric'\n",
       "\\end{description*}\n"
      ],
      "text/markdown": [
       "renewal_status\n",
       ":   'factor'tld\n",
       ":   'factor'registrar\n",
       ":   'character'reseller\n",
       ":   'character'reseller_country\n",
       ":   'character'region\n",
       ":   'character'reg_period\n",
       ":   'integer'sld_type\n",
       ":   'factor'sld_length\n",
       ":   'integer'day_domains\n",
       ":   'integer'gibb_score\n",
       ":   'numeric'pattern_domain_count\n",
       ":   'integer'reg_arpt\n",
       ":   'numeric'\n",
       "\n"
      ],
      "text/plain": [
       "      renewal_status                  tld            registrar \n",
       "            \"factor\"             \"factor\"          \"character\" \n",
       "            reseller     reseller_country               region \n",
       "         \"character\"          \"character\"          \"character\" \n",
       "          reg_period             sld_type           sld_length \n",
       "           \"integer\"             \"factor\"            \"integer\" \n",
       "         day_domains           gibb_score pattern_domain_count \n",
       "           \"integer\"            \"numeric\"            \"integer\" \n",
       "            reg_arpt \n",
       "           \"numeric\" "
      ]
     },
     "metadata": {},
     "output_type": "display_data"
    }
   ],
   "source": [
    "# tr$renewal_status <- as.factor(tr$renewal_status)\n",
    "sapply(tr, class)"
   ]
  },
  {
   "cell_type": "code",
   "execution_count": 56,
   "metadata": {},
   "outputs": [],
   "source": [
    "test_21 <- ranger(\n",
    "    formula         = renewal_status ~ ., \n",
    "    data            = tr, \n",
    "    importance = 'impurity', \n",
    "    num.trees       = 100,\n",
    "#     class.weights = c(1,10000),\n",
    "    probability = TRUE,\n",
    "    mtry            = 3,\n",
    "    min.node.size   = 10,\n",
    "    replace = FALSE,\n",
    "    sample.fraction = .8,\n",
    "    seed            = 123\n",
    ")\n",
    "\n",
    "\n",
    "test_22 <- ranger(\n",
    "    formula         = renewal_status ~ ., \n",
    "    data            = tr, \n",
    "    importance = 'impurity', \n",
    "    num.trees       = 100,\n",
    "    class.weights = c(0,1),\n",
    "    probability = TRUE,\n",
    "    mtry            = 3,\n",
    "    min.node.size   = 10,\n",
    "    replace = FALSE,\n",
    "    sample.fraction = .8,\n",
    "    seed            = 123\n",
    ")\n",
    "\n",
    "\n",
    "test_23 <- ranger(\n",
    "    formula         = renewal_status ~ ., \n",
    "    data            = tr, \n",
    "    importance = 'impurity', \n",
    "    num.trees       = 100,\n",
    "    class.weights = c(1,0),\n",
    "    probability = TRUE,\n",
    "    mtry            = 3,\n",
    "    min.node.size   = 10,\n",
    "    replace = FALSE,\n",
    "    sample.fraction = .8,\n",
    "    seed            = 123\n",
    ")\n"
   ]
  },
  {
   "cell_type": "markdown",
   "metadata": {},
   "source": [
    "# but ultimately, client fills NA's with data from \"fallback tables\", which would improve performance. asked client for script"
   ]
  },
  {
   "cell_type": "code",
   "execution_count": 67,
   "metadata": {},
   "outputs": [],
   "source": [
    "# from /scripts/nedata_202005/explore\n",
    "\n",
    "system(\"gsutil cp gs://data_input/npv_fallback_tables /home/jupyter/local/Domains_202003/data/npv_fallback_tables\")"
   ]
  },
  {
   "cell_type": "code",
   "execution_count": 68,
   "metadata": {},
   "outputs": [
    {
     "data": {
      "text/html": [
       "<style>\n",
       ".list-inline {list-style: none; margin:0; padding: 0}\n",
       ".list-inline>li {display: inline-block}\n",
       ".list-inline>li:not(:last-child)::after {content: \"\\00b7\"; padding: 0 .5ex}\n",
       "</style>\n",
       "<ol class=list-inline><li>'npv_fallback_first_final'</li><li>'npv_fallback_first_geo_arpt'</li><li>'npv_fallback_first_geo_arpt_tld'</li><li>'npv_fallback_first_tld_arpt'</li><li>'npv_fallback_second_final'</li><li>'npv_fallback_second_geo'</li><li>'npv_fallback_second_tld_geo'</li><li>'npv_fallback_third_final'</li><li>'npv_fallback_third_geo'</li><li>'npv_fallback_third_tld_geo'</li></ol>\n"
      ],
      "text/latex": [
       "\\begin{enumerate*}\n",
       "\\item 'npv\\_fallback\\_first\\_final'\n",
       "\\item 'npv\\_fallback\\_first\\_geo\\_arpt'\n",
       "\\item 'npv\\_fallback\\_first\\_geo\\_arpt\\_tld'\n",
       "\\item 'npv\\_fallback\\_first\\_tld\\_arpt'\n",
       "\\item 'npv\\_fallback\\_second\\_final'\n",
       "\\item 'npv\\_fallback\\_second\\_geo'\n",
       "\\item 'npv\\_fallback\\_second\\_tld\\_geo'\n",
       "\\item 'npv\\_fallback\\_third\\_final'\n",
       "\\item 'npv\\_fallback\\_third\\_geo'\n",
       "\\item 'npv\\_fallback\\_third\\_tld\\_geo'\n",
       "\\end{enumerate*}\n"
      ],
      "text/markdown": [
       "1. 'npv_fallback_first_final'\n",
       "2. 'npv_fallback_first_geo_arpt'\n",
       "3. 'npv_fallback_first_geo_arpt_tld'\n",
       "4. 'npv_fallback_first_tld_arpt'\n",
       "5. 'npv_fallback_second_final'\n",
       "6. 'npv_fallback_second_geo'\n",
       "7. 'npv_fallback_second_tld_geo'\n",
       "8. 'npv_fallback_third_final'\n",
       "9. 'npv_fallback_third_geo'\n",
       "10. 'npv_fallback_third_tld_geo'\n",
       "\n",
       "\n"
      ],
      "text/plain": [
       " [1] \"npv_fallback_first_final\"        \"npv_fallback_first_geo_arpt\"    \n",
       " [3] \"npv_fallback_first_geo_arpt_tld\" \"npv_fallback_first_tld_arpt\"    \n",
       " [5] \"npv_fallback_second_final\"       \"npv_fallback_second_geo\"        \n",
       " [7] \"npv_fallback_second_tld_geo\"     \"npv_fallback_third_final\"       \n",
       " [9] \"npv_fallback_third_geo\"          \"npv_fallback_third_tld_geo\"     "
      ]
     },
     "metadata": {},
     "output_type": "display_data"
    }
   ],
   "source": [
    "# npv_fallback_tables\t\n",
    "#   fallback tables where we dont have enough training \n",
    "#   data for a particular tld-registrar combination\n",
    "\n",
    "npv_fallback_names <- load(\"/home/jupyter/local/Domains_202003/data/npv_fallback_tables\")\n",
    "npv_fallback_names"
   ]
  },
  {
   "cell_type": "code",
   "execution_count": 64,
   "metadata": {},
   "outputs": [],
   "source": [
    "# [1] \"npv_fallback_first_final\"        \"npv_fallback_first_geo_arpt\"    \n",
    "# [3] \"npv_fallback_first_geo_arpt_tld\" \"npv_fallback_first_tld_arpt\"    \n",
    "# [5] \"npv_fallback_second_final\"       \"npv_fallback_second_geo\"        \n",
    "# [7] \"npv_fallback_second_tld_geo\"     \"npv_fallback_third_final\"       \n",
    "# [9] \"npv_fallback_third_geo\"          \"npv_fallback_third_tld_geo\" "
   ]
  },
  {
   "cell_type": "code",
   "execution_count": 69,
   "metadata": {},
   "outputs": [
    {
     "data": {
      "text/html": [
       "<table>\n",
       "<caption>A grouped_df: 6 × 6</caption>\n",
       "<thead>\n",
       "\t<tr><th scope=col>region</th><th scope=col>reg_arpt_slab</th><th scope=col>expiring_domains</th><th scope=col>renewed_domains</th><th scope=col>renewal_rate</th><th scope=col>index</th></tr>\n",
       "\t<tr><th scope=col>&lt;chr&gt;</th><th scope=col>&lt;fct&gt;</th><th scope=col>&lt;int&gt;</th><th scope=col>&lt;int&gt;</th><th scope=col>&lt;dbl&gt;</th><th scope=col>&lt;chr&gt;</th></tr>\n",
       "</thead>\n",
       "<tbody>\n",
       "\t<tr><td>China</td><td>(-Inf,0]</td><td> 35669</td><td> 2139</td><td>0.060</td><td>China(-Inf,0]</td></tr>\n",
       "\t<tr><td>China</td><td>(0,1]   </td><td>536645</td><td>11052</td><td>0.021</td><td>China(0,1]   </td></tr>\n",
       "\t<tr><td>China</td><td>(1,3]   </td><td> 84869</td><td>12063</td><td>0.142</td><td>China(1,3]   </td></tr>\n",
       "\t<tr><td>China</td><td>(3,5]   </td><td>  1356</td><td>  340</td><td>0.251</td><td>China(3,5]   </td></tr>\n",
       "\t<tr><td>China</td><td>(5,10]  </td><td>   177</td><td>   36</td><td>0.203</td><td>China(5,10]  </td></tr>\n",
       "\t<tr><td>China</td><td>(10,15] </td><td>   427</td><td>  122</td><td>0.286</td><td>China(10,15] </td></tr>\n",
       "</tbody>\n",
       "</table>\n"
      ],
      "text/latex": [
       "A grouped\\_df: 6 × 6\n",
       "\\begin{tabular}{llllll}\n",
       " region & reg\\_arpt\\_slab & expiring\\_domains & renewed\\_domains & renewal\\_rate & index\\\\\n",
       " <chr> & <fct> & <int> & <int> & <dbl> & <chr>\\\\\n",
       "\\hline\n",
       "\t China & (-Inf,0{]} &  35669 &  2139 & 0.060 & China(-Inf,0{]}\\\\\n",
       "\t China & (0,1{]}    & 536645 & 11052 & 0.021 & China(0,1{]}   \\\\\n",
       "\t China & (1,3{]}    &  84869 & 12063 & 0.142 & China(1,3{]}   \\\\\n",
       "\t China & (3,5{]}    &   1356 &   340 & 0.251 & China(3,5{]}   \\\\\n",
       "\t China & (5,10{]}   &    177 &    36 & 0.203 & China(5,10{]}  \\\\\n",
       "\t China & (10,15{]}  &    427 &   122 & 0.286 & China(10,15{]} \\\\\n",
       "\\end{tabular}\n"
      ],
      "text/markdown": [
       "\n",
       "A grouped_df: 6 × 6\n",
       "\n",
       "| region &lt;chr&gt; | reg_arpt_slab &lt;fct&gt; | expiring_domains &lt;int&gt; | renewed_domains &lt;int&gt; | renewal_rate &lt;dbl&gt; | index &lt;chr&gt; |\n",
       "|---|---|---|---|---|---|\n",
       "| China | (-Inf,0] |  35669 |  2139 | 0.060 | China(-Inf,0] |\n",
       "| China | (0,1]    | 536645 | 11052 | 0.021 | China(0,1]    |\n",
       "| China | (1,3]    |  84869 | 12063 | 0.142 | China(1,3]    |\n",
       "| China | (3,5]    |   1356 |   340 | 0.251 | China(3,5]    |\n",
       "| China | (5,10]   |    177 |    36 | 0.203 | China(5,10]   |\n",
       "| China | (10,15]  |    427 |   122 | 0.286 | China(10,15]  |\n",
       "\n"
      ],
      "text/plain": [
       "  region reg_arpt_slab expiring_domains renewed_domains renewal_rate\n",
       "1 China  (-Inf,0]       35669            2139           0.060       \n",
       "2 China  (0,1]         536645           11052           0.021       \n",
       "3 China  (1,3]          84869           12063           0.142       \n",
       "4 China  (3,5]           1356             340           0.251       \n",
       "5 China  (5,10]           177              36           0.203       \n",
       "6 China  (10,15]          427             122           0.286       \n",
       "  index        \n",
       "1 China(-Inf,0]\n",
       "2 China(0,1]   \n",
       "3 China(1,3]   \n",
       "4 China(3,5]   \n",
       "5 China(5,10]  \n",
       "6 China(10,15] "
      ]
     },
     "metadata": {},
     "output_type": "display_data"
    }
   ],
   "source": [
    "head(npv_fallback_first_final)"
   ]
  },
  {
   "cell_type": "code",
   "execution_count": 64,
   "metadata": {},
   "outputs": [
    {
     "name": "stderr",
     "output_type": "stream",
     "text": [
      "Warning message in readChar(con, 5L, useBytes = TRUE):\n",
      "“cannot open compressed file '/home/jupyter/local/Domains_202003/data/npv_fallback_tables', probable reason 'No such file or directory'”\n"
     ]
    },
    {
     "ename": "ERROR",
     "evalue": "Error in readChar(con, 5L, useBytes = TRUE): cannot open the connection\n",
     "output_type": "error",
     "traceback": [
      "Error in readChar(con, 5L, useBytes = TRUE): cannot open the connection\nTraceback:\n",
      "1. load(\"/home/jupyter/local/Domains_202003/data/npv_fallback_tables\")",
      "2. readChar(con, 5L, useBytes = TRUE)"
     ]
    }
   ],
   "source": [
    "# Questions:\n",
    "# not enough training means we also don't have \"day_domains\"?\n",
    "# npv_fallback_first_final, _geo_arpt? renewal rate by country & buy price\n",
    "# npv_fallback_first_final$reg_arpt_slab? reg_arpt: the price at which the domain is bought by the reseller \n",
    "\n",
    "# Using a decision tree means you don't need to retrain a model but we can do better than simply using a \"fall back table\" -- can we confirm this with historical data?"
   ]
  },
  {
   "cell_type": "markdown",
   "metadata": {},
   "source": [
    "# Variable importance"
   ]
  },
  {
   "cell_type": "code",
   "execution_count": 38,
   "metadata": {},
   "outputs": [],
   "source": [
    "# load(\"../../data/output/ranger_03_expiry\") # new expiry data\n",
    "load(\"../../data/ranger_03\") # original data"
   ]
  },
  {
   "cell_type": "code",
   "execution_count": 47,
   "metadata": {},
   "outputs": [
    {
     "data": {
      "text/html": [
       "<table>\n",
       "<caption>A data.frame: 12 × 1</caption>\n",
       "<thead>\n",
       "\t<tr><th></th><th scope=col>round(sort(ranger_03_expiry$variable.importance, decreasing = TRUE), 0)</th></tr>\n",
       "\t<tr><th></th><th scope=col>&lt;dbl&gt;</th></tr>\n",
       "</thead>\n",
       "<tbody>\n",
       "\t<tr><th scope=row>reg_arpt</th><td>265675</td></tr>\n",
       "\t<tr><th scope=row>day_domains</th><td>120616</td></tr>\n",
       "\t<tr><th scope=row>gibb_score</th><td> 99629</td></tr>\n",
       "\t<tr><th scope=row>sld_length</th><td> 43497</td></tr>\n",
       "\t<tr><th scope=row>reseller</th><td> 26344</td></tr>\n",
       "\t<tr><th scope=row>registrar</th><td> 21450</td></tr>\n",
       "\t<tr><th scope=row>pattern_domain_count</th><td> 19572</td></tr>\n",
       "\t<tr><th scope=row>tld</th><td> 17826</td></tr>\n",
       "\t<tr><th scope=row>reseller_country</th><td> 15428</td></tr>\n",
       "\t<tr><th scope=row>sld_type</th><td> 12934</td></tr>\n",
       "\t<tr><th scope=row>reg_period</th><td>  2316</td></tr>\n",
       "\t<tr><th scope=row>region</th><td>  1044</td></tr>\n",
       "</tbody>\n",
       "</table>\n"
      ],
      "text/latex": [
       "A data.frame: 12 × 1\n",
       "\\begin{tabular}{r|l}\n",
       "  & round(sort(ranger\\_03\\_expiry\\$variable.importance, decreasing = TRUE), 0)\\\\\n",
       "  & <dbl>\\\\\n",
       "\\hline\n",
       "\treg\\_arpt & 265675\\\\\n",
       "\tday\\_domains & 120616\\\\\n",
       "\tgibb\\_score &  99629\\\\\n",
       "\tsld\\_length &  43497\\\\\n",
       "\treseller &  26344\\\\\n",
       "\tregistrar &  21450\\\\\n",
       "\tpattern\\_domain\\_count &  19572\\\\\n",
       "\ttld &  17826\\\\\n",
       "\treseller\\_country &  15428\\\\\n",
       "\tsld\\_type &  12934\\\\\n",
       "\treg\\_period &   2316\\\\\n",
       "\tregion &   1044\\\\\n",
       "\\end{tabular}\n"
      ],
      "text/markdown": [
       "\n",
       "A data.frame: 12 × 1\n",
       "\n",
       "| <!--/--> | round(sort(ranger_03_expiry$variable.importance, decreasing = TRUE), 0) &lt;dbl&gt; |\n",
       "|---|---|\n",
       "| reg_arpt | 265675 |\n",
       "| day_domains | 120616 |\n",
       "| gibb_score |  99629 |\n",
       "| sld_length |  43497 |\n",
       "| reseller |  26344 |\n",
       "| registrar |  21450 |\n",
       "| pattern_domain_count |  19572 |\n",
       "| tld |  17826 |\n",
       "| reseller_country |  15428 |\n",
       "| sld_type |  12934 |\n",
       "| reg_period |   2316 |\n",
       "| region |   1044 |\n",
       "\n"
      ],
      "text/plain": [
       "                     round(sort(ranger_03_expiry$variable.importance, decreasing = TRUE), 0)\n",
       "reg_arpt             265675                                                                 \n",
       "day_domains          120616                                                                 \n",
       "gibb_score            99629                                                                 \n",
       "sld_length            43497                                                                 \n",
       "reseller              26344                                                                 \n",
       "registrar             21450                                                                 \n",
       "pattern_domain_count  19572                                                                 \n",
       "tld                   17826                                                                 \n",
       "reseller_country      15428                                                                 \n",
       "sld_type              12934                                                                 \n",
       "reg_period             2316                                                                 \n",
       "region                 1044                                                                 "
      ]
     },
     "metadata": {},
     "output_type": "display_data"
    }
   ],
   "source": [
    "as.data.frame(round(sort(ranger_03_expiry$variable.importance, decreasing=TRUE),0))"
   ]
  },
  {
   "cell_type": "code",
   "execution_count": 46,
   "metadata": {},
   "outputs": [
    {
     "data": {
      "text/html": [
       "<table>\n",
       "<caption>A data.frame: 11 × 1</caption>\n",
       "<thead>\n",
       "\t<tr><th></th><th scope=col>round(sort(ranger_03$variable.importance, decreasing = TRUE), 0)</th></tr>\n",
       "\t<tr><th></th><th scope=col>&lt;dbl&gt;</th></tr>\n",
       "</thead>\n",
       "<tbody>\n",
       "\t<tr><th scope=row>day_domains</th><td>92600</td></tr>\n",
       "\t<tr><th scope=row>gibb_score</th><td>86059</td></tr>\n",
       "\t<tr><th scope=row>sld_length</th><td>28108</td></tr>\n",
       "\t<tr><th scope=row>tld</th><td>25682</td></tr>\n",
       "\t<tr><th scope=row>pattern_domain_count</th><td>15233</td></tr>\n",
       "\t<tr><th scope=row>sld_type</th><td>12202</td></tr>\n",
       "\t<tr><th scope=row>reg_period</th><td>10154</td></tr>\n",
       "\t<tr><th scope=row>registrar</th><td> 8546</td></tr>\n",
       "\t<tr><th scope=row>reseller</th><td> 8537</td></tr>\n",
       "\t<tr><th scope=row>reseller_country</th><td> 1414</td></tr>\n",
       "\t<tr><th scope=row>region</th><td>    0</td></tr>\n",
       "</tbody>\n",
       "</table>\n"
      ],
      "text/latex": [
       "A data.frame: 11 × 1\n",
       "\\begin{tabular}{r|l}\n",
       "  & round(sort(ranger\\_03\\$variable.importance, decreasing = TRUE), 0)\\\\\n",
       "  & <dbl>\\\\\n",
       "\\hline\n",
       "\tday\\_domains & 92600\\\\\n",
       "\tgibb\\_score & 86059\\\\\n",
       "\tsld\\_length & 28108\\\\\n",
       "\ttld & 25682\\\\\n",
       "\tpattern\\_domain\\_count & 15233\\\\\n",
       "\tsld\\_type & 12202\\\\\n",
       "\treg\\_period & 10154\\\\\n",
       "\tregistrar &  8546\\\\\n",
       "\treseller &  8537\\\\\n",
       "\treseller\\_country &  1414\\\\\n",
       "\tregion &     0\\\\\n",
       "\\end{tabular}\n"
      ],
      "text/markdown": [
       "\n",
       "A data.frame: 11 × 1\n",
       "\n",
       "| <!--/--> | round(sort(ranger_03$variable.importance, decreasing = TRUE), 0) &lt;dbl&gt; |\n",
       "|---|---|\n",
       "| day_domains | 92600 |\n",
       "| gibb_score | 86059 |\n",
       "| sld_length | 28108 |\n",
       "| tld | 25682 |\n",
       "| pattern_domain_count | 15233 |\n",
       "| sld_type | 12202 |\n",
       "| reg_period | 10154 |\n",
       "| registrar |  8546 |\n",
       "| reseller |  8537 |\n",
       "| reseller_country |  1414 |\n",
       "| region |     0 |\n",
       "\n"
      ],
      "text/plain": [
       "                     round(sort(ranger_03$variable.importance, decreasing = TRUE), 0)\n",
       "day_domains          92600                                                           \n",
       "gibb_score           86059                                                           \n",
       "sld_length           28108                                                           \n",
       "tld                  25682                                                           \n",
       "pattern_domain_count 15233                                                           \n",
       "sld_type             12202                                                           \n",
       "reg_period           10154                                                           \n",
       "registrar             8546                                                           \n",
       "reseller              8537                                                           \n",
       "reseller_country      1414                                                           \n",
       "region                   0                                                           "
      ]
     },
     "metadata": {},
     "output_type": "display_data"
    }
   ],
   "source": [
    "as.data.frame(round(sort(ranger_03$variable.importance, decreasing=TRUE),0))"
   ]
  },
  {
   "cell_type": "markdown",
   "metadata": {},
   "source": [
    "# Subset where renew_status is not missing"
   ]
  },
  {
   "cell_type": "code",
   "execution_count": 31,
   "metadata": {},
   "outputs": [
    {
     "data": {
      "text/html": [
       "<table>\n",
       "<caption>A data.frame: 39 × 1</caption>\n",
       "<thead>\n",
       "\t<tr><th></th><th scope=col>V1</th></tr>\n",
       "\t<tr><th></th><th scope=col>&lt;int&gt;</th></tr>\n",
       "</thead>\n",
       "<tbody>\n",
       "\t<tr><th scope=row>renewal_type</th><td>      0</td></tr>\n",
       "\t<tr><th scope=row>renewed_count</th><td>      0</td></tr>\n",
       "\t<tr><th scope=row>expiry_date</th><td>      0</td></tr>\n",
       "\t<tr><th scope=row>domain_id</th><td>      0</td></tr>\n",
       "\t<tr><th scope=row>domain</th><td>      0</td></tr>\n",
       "\t<tr><th scope=row>creation_date</th><td>      0</td></tr>\n",
       "\t<tr><th scope=row>status</th><td>      0</td></tr>\n",
       "\t<tr><th scope=row>tld</th><td>      0</td></tr>\n",
       "\t<tr><th scope=row>registrar</th><td>      0</td></tr>\n",
       "\t<tr><th scope=row>reseller</th><td>      0</td></tr>\n",
       "\t<tr><th scope=row>reseller_country</th><td>      0</td></tr>\n",
       "\t<tr><th scope=row>region</th><td>      0</td></tr>\n",
       "\t<tr><th scope=row>reg_period</th><td>      0</td></tr>\n",
       "\t<tr><th scope=row>registrant_country</th><td>1393474</td></tr>\n",
       "\t<tr><th scope=row>renewal_status</th><td>      0</td></tr>\n",
       "\t<tr><th scope=row>renew_mbg</th><td>      7</td></tr>\n",
       "\t<tr><th scope=row>renew_type</th><td>  36978</td></tr>\n",
       "\t<tr><th scope=row>autorenew_type</th><td> 394962</td></tr>\n",
       "\t<tr><th scope=row>renew_date</th><td>  37004</td></tr>\n",
       "\t<tr><th scope=row>renew_registrar</th><td>      5</td></tr>\n",
       "\t<tr><th scope=row>renew_reseller</th><td>      5</td></tr>\n",
       "\t<tr><th scope=row>reg_revenue</th><td>      0</td></tr>\n",
       "\t<tr><th scope=row>reg_arpt</th><td>      0</td></tr>\n",
       "\t<tr><th scope=row>renew_period</th><td>  37004</td></tr>\n",
       "\t<tr><th scope=row>renew_domain_revenue</th><td>   4879</td></tr>\n",
       "\t<tr><th scope=row>renew_arpt</th><td>  37008</td></tr>\n",
       "\t<tr><th scope=row>reg_arpt_org</th><td>      1</td></tr>\n",
       "\t<tr><th scope=row>tld_registrar_index</th><td>      0</td></tr>\n",
       "\t<tr><th scope=row>sld</th><td>      0</td></tr>\n",
       "\t<tr><th scope=row>sld_type</th><td>      0</td></tr>\n",
       "\t<tr><th scope=row>sld_length</th><td>      0</td></tr>\n",
       "\t<tr><th scope=row>sld_type2</th><td>      0</td></tr>\n",
       "\t<tr><th scope=row>day_domains</th><td>      0</td></tr>\n",
       "\t<tr><th scope=row>log_reg_arpt</th><td>      0</td></tr>\n",
       "\t<tr><th scope=row>gibb_score</th><td>      0</td></tr>\n",
       "\t<tr><th scope=row>cluster</th><td>      0</td></tr>\n",
       "\t<tr><th scope=row>pattern</th><td>      0</td></tr>\n",
       "\t<tr><th scope=row>pattern_score</th><td>      0</td></tr>\n",
       "\t<tr><th scope=row>pattern_domain_count</th><td>      0</td></tr>\n",
       "</tbody>\n",
       "</table>\n"
      ],
      "text/latex": [
       "A data.frame: 39 × 1\n",
       "\\begin{tabular}{r|l}\n",
       "  & V1\\\\\n",
       "  & <int>\\\\\n",
       "\\hline\n",
       "\trenewal\\_type &       0\\\\\n",
       "\trenewed\\_count &       0\\\\\n",
       "\texpiry\\_date &       0\\\\\n",
       "\tdomain\\_id &       0\\\\\n",
       "\tdomain &       0\\\\\n",
       "\tcreation\\_date &       0\\\\\n",
       "\tstatus &       0\\\\\n",
       "\ttld &       0\\\\\n",
       "\tregistrar &       0\\\\\n",
       "\treseller &       0\\\\\n",
       "\treseller\\_country &       0\\\\\n",
       "\tregion &       0\\\\\n",
       "\treg\\_period &       0\\\\\n",
       "\tregistrant\\_country & 1393474\\\\\n",
       "\trenewal\\_status &       0\\\\\n",
       "\trenew\\_mbg &       7\\\\\n",
       "\trenew\\_type &   36978\\\\\n",
       "\tautorenew\\_type &  394962\\\\\n",
       "\trenew\\_date &   37004\\\\\n",
       "\trenew\\_registrar &       5\\\\\n",
       "\trenew\\_reseller &       5\\\\\n",
       "\treg\\_revenue &       0\\\\\n",
       "\treg\\_arpt &       0\\\\\n",
       "\trenew\\_period &   37004\\\\\n",
       "\trenew\\_domain\\_revenue &    4879\\\\\n",
       "\trenew\\_arpt &   37008\\\\\n",
       "\treg\\_arpt\\_org &       1\\\\\n",
       "\ttld\\_registrar\\_index &       0\\\\\n",
       "\tsld &       0\\\\\n",
       "\tsld\\_type &       0\\\\\n",
       "\tsld\\_length &       0\\\\\n",
       "\tsld\\_type2 &       0\\\\\n",
       "\tday\\_domains &       0\\\\\n",
       "\tlog\\_reg\\_arpt &       0\\\\\n",
       "\tgibb\\_score &       0\\\\\n",
       "\tcluster &       0\\\\\n",
       "\tpattern &       0\\\\\n",
       "\tpattern\\_score &       0\\\\\n",
       "\tpattern\\_domain\\_count &       0\\\\\n",
       "\\end{tabular}\n"
      ],
      "text/markdown": [
       "\n",
       "A data.frame: 39 × 1\n",
       "\n",
       "| <!--/--> | V1 &lt;int&gt; |\n",
       "|---|---|\n",
       "| renewal_type |       0 |\n",
       "| renewed_count |       0 |\n",
       "| expiry_date |       0 |\n",
       "| domain_id |       0 |\n",
       "| domain |       0 |\n",
       "| creation_date |       0 |\n",
       "| status |       0 |\n",
       "| tld |       0 |\n",
       "| registrar |       0 |\n",
       "| reseller |       0 |\n",
       "| reseller_country |       0 |\n",
       "| region |       0 |\n",
       "| reg_period |       0 |\n",
       "| registrant_country | 1393474 |\n",
       "| renewal_status |       0 |\n",
       "| renew_mbg |       7 |\n",
       "| renew_type |   36978 |\n",
       "| autorenew_type |  394962 |\n",
       "| renew_date |   37004 |\n",
       "| renew_registrar |       5 |\n",
       "| renew_reseller |       5 |\n",
       "| reg_revenue |       0 |\n",
       "| reg_arpt |       0 |\n",
       "| renew_period |   37004 |\n",
       "| renew_domain_revenue |    4879 |\n",
       "| renew_arpt |   37008 |\n",
       "| reg_arpt_org |       1 |\n",
       "| tld_registrar_index |       0 |\n",
       "| sld |       0 |\n",
       "| sld_type |       0 |\n",
       "| sld_length |       0 |\n",
       "| sld_type2 |       0 |\n",
       "| day_domains |       0 |\n",
       "| log_reg_arpt |       0 |\n",
       "| gibb_score |       0 |\n",
       "| cluster |       0 |\n",
       "| pattern |       0 |\n",
       "| pattern_score |       0 |\n",
       "| pattern_domain_count |       0 |\n",
       "\n"
      ],
      "text/plain": [
       "                     V1     \n",
       "renewal_type               0\n",
       "renewed_count              0\n",
       "expiry_date                0\n",
       "domain_id                  0\n",
       "domain                     0\n",
       "creation_date              0\n",
       "status                     0\n",
       "tld                        0\n",
       "registrar                  0\n",
       "reseller                   0\n",
       "reseller_country           0\n",
       "region                     0\n",
       "reg_period                 0\n",
       "registrant_country   1393474\n",
       "renewal_status             0\n",
       "renew_mbg                  7\n",
       "renew_type             36978\n",
       "autorenew_type        394962\n",
       "renew_date             37004\n",
       "renew_registrar            5\n",
       "renew_reseller             5\n",
       "reg_revenue                0\n",
       "reg_arpt                   0\n",
       "renew_period           37004\n",
       "renew_domain_revenue    4879\n",
       "renew_arpt             37008\n",
       "reg_arpt_org               1\n",
       "tld_registrar_index        0\n",
       "sld                        0\n",
       "sld_type                   0\n",
       "sld_length                 0\n",
       "sld_type2                  0\n",
       "day_domains                0\n",
       "log_reg_arpt               0\n",
       "gibb_score                 0\n",
       "cluster                    0\n",
       "pattern                    0\n",
       "pattern_score              0\n",
       "pattern_domain_count       0"
      ]
     },
     "metadata": {},
     "output_type": "display_data"
    }
   ],
   "source": [
    "# na_train_df <- expiry_train_df  %>% \n",
    "#  summarise_all(~ sum(is.na(.)))  %>% \n",
    "#  t()  %>%  as.data.frame()\n",
    "# na_train_df <- na_train_df[na_train_df$V1>0]\n",
    "na_train_df"
   ]
  },
  {
   "cell_type": "markdown",
   "metadata": {},
   "source": [
    "# Explore renewal type var"
   ]
  },
  {
   "cell_type": "code",
   "execution_count": 32,
   "metadata": {},
   "outputs": [
    {
     "data": {
      "text/plain": [
       ".\n",
       " FirstTime     Second Subsequent \n",
       "0.85217941 0.07805483 0.06976576 "
      ]
     },
     "metadata": {},
     "output_type": "display_data"
    }
   ],
   "source": [
    "expiry_train_df$renewal_type %>% table() %>% prop.table()"
   ]
  },
  {
   "cell_type": "code",
   "execution_count": 34,
   "metadata": {},
   "outputs": [
    {
     "data": {
      "text/plain": [
       ".\n",
       " FirstTime     Second Subsequent \n",
       "0.85141900 0.07859067 0.06999033 "
      ]
     },
     "metadata": {},
     "output_type": "display_data"
    }
   ],
   "source": [
    "expiry_test_df$renewal_type %>% table() %>% prop.table()"
   ]
  },
  {
   "cell_type": "markdown",
   "metadata": {},
   "source": [
    "# Explore autorenew_type as variable"
   ]
  },
  {
   "cell_type": "code",
   "execution_count": 35,
   "metadata": {},
   "outputs": [
    {
     "data": {
      "text/plain": [
       ".\n",
       "             NULL presumed-realized          realized        unrealized \n",
       "     0.0002171294      0.0051060432      0.0811083406      0.9135684868 "
      ]
     },
     "metadata": {},
     "output_type": "display_data"
    }
   ],
   "source": [
    "expiry_train_df$autorenew_type %>% table() %>% prop.table()"
   ]
  },
  {
   "cell_type": "code",
   "execution_count": null,
   "metadata": {},
   "outputs": [],
   "source": []
  }
 ],
 "metadata": {
  "environment": {
   "name": "r-cpu.3-6.m48",
   "type": "gcloud",
   "uri": "gcr.io/deeplearning-platform-release/r-cpu.3-6:m48"
  },
  "kernelspec": {
   "display_name": "R",
   "language": "R",
   "name": "ir"
  },
  "language_info": {
   "codemirror_mode": "r",
   "file_extension": ".r",
   "mimetype": "text/x-r-source",
   "name": "R",
   "pygments_lexer": "r",
   "version": "3.6.3"
  }
 },
 "nbformat": 4,
 "nbformat_minor": 4
}
