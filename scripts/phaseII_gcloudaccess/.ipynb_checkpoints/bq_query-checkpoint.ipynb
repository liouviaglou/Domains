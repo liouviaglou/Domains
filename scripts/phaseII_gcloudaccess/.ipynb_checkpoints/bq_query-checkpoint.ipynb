{
 "cells": [
  {
   "cell_type": "code",
   "execution_count": 80,
   "metadata": {},
   "outputs": [],
   "source": [
    "library(bigrquery)\n",
    "library(plotly)\n",
    "library(data.table)\n",
    "library(stringr)"
   ]
  },
  {
   "cell_type": "code",
   "execution_count": 3,
   "metadata": {},
   "outputs": [
    {
     "data": {
      "text/html": [],
      "text/latex": [],
      "text/markdown": [],
      "text/plain": [
       "character(0)"
      ]
     },
     "metadata": {},
     "output_type": "display_data"
    }
   ],
   "source": [
    "objects()"
   ]
  },
  {
   "cell_type": "code",
   "execution_count": 10,
   "metadata": {},
   "outputs": [],
   "source": [
    "projectid <- \"radixbi-249015\""
   ]
  },
  {
   "cell_type": "markdown",
   "metadata": {},
   "source": [
    "### 1. get_expiry_data_str() requires a start and end date for var ***radixbi-249015.newreg.expiry_date***. \n",
    "\n",
    "#### what is the range?"
   ]
  },
  {
   "cell_type": "code",
   "execution_count": 5,
   "metadata": {},
   "outputs": [
    {
     "data": {
      "text/plain": [
       "                 Min.               1st Qu.                Median \n",
       "\"2014-03-03 00:00:00\" \"2017-10-14 00:00:00\" \"2019-08-29 00:00:00\" \n",
       "                 Mean               3rd Qu.                  Max. \n",
       "\"2019-03-08 08:56:24\" \"2020-08-26 00:00:00\" \"2030-06-25 00:00:00\" "
      ]
     },
     "metadata": {},
     "output_type": "display_data"
    },
    {
     "name": "stdout",
     "output_type": "stream",
     "text": [
      " POSIXct[1:16445630], format: \"2015-04-12\" \"2015-04-12\" \"2015-04-12\" \"2015-04-12\" \"2015-04-12\" ...\n"
     ]
    }
   ],
   "source": [
    "\n",
    "# sql <- \"SELECT expiry_date FROM `radixbi-249015.prediction_vendors.newreg`\"\n",
    "# expiry_date_df <- bq_table_download(bq_project_query(projectid, sql))\n",
    "# saveRDS(expiry_date_df,\"../../data/output/expiry_date_df\")\n",
    "\n",
    "expiry_date_df <- readRDS(file.path('../../data/output/',\"expiry_date_df\"))\n",
    "summary(expiry_date_df$expiry_date)\n",
    "str(expiry_date_df$expiry_date) # 16,445,630 × 1"
   ]
  },
  {
   "cell_type": "markdown",
   "metadata": {},
   "source": [
    "#### what is the range in orig data?\n",
    "Jan 01, 2018 - Dec 31, 2019 (2 years; inclusive)"
   ]
  },
  {
   "cell_type": "code",
   "execution_count": 9,
   "metadata": {},
   "outputs": [],
   "source": [
    "# system(\"gsutil cp gs://data_input/first_renewal_preds /home/jupyter/local/Domains_202003/data/\")"
   ]
  },
  {
   "cell_type": "code",
   "execution_count": 6,
   "metadata": {},
   "outputs": [],
   "source": [
    "first_renewal_preds <- readRDS(\"../../data/first_renewal_preds\")"
   ]
  },
  {
   "cell_type": "code",
   "execution_count": 7,
   "metadata": {},
   "outputs": [
    {
     "data": {
      "text/html": [
       "<style>\n",
       ".dl-inline {width: auto; margin:0; padding: 0}\n",
       ".dl-inline>dt, .dl-inline>dd {float: none; width: auto; display: inline-block}\n",
       ".dl-inline>dt::after {content: \":\\0020\"; padding-right: .5ex}\n",
       ".dl-inline>dt:not(:first-of-type) {padding-left: .5ex}\n",
       "</style><dl class=dl-inline><dt>Min.</dt><dd><time datetime=\"2018-01-01\">2018-01-01</time></dd><dt>1st Qu.</dt><dd><time datetime=\"2018-09-25\">2018-09-25</time></dd><dt>Median</dt><dd><time datetime=\"2019-04-27\">2019-04-27</time></dd><dt>Mean</dt><dd><time datetime=\"2019-03-19\">2019-03-19</time></dd><dt>3rd Qu.</dt><dd><time datetime=\"2019-10-08\">2019-10-08</time></dd><dt>Max.</dt><dd><time datetime=\"2019-12-31\">2019-12-31</time></dd></dl>\n"
      ],
      "text/latex": [
       "\\begin{description*}\n",
       "\\item[Min.] 2018-01-01\n",
       "\\item[1st Qu.] 2018-09-25\n",
       "\\item[Median] 2019-04-27\n",
       "\\item[Mean] 2019-03-19\n",
       "\\item[3rd Qu.] 2019-10-08\n",
       "\\item[Max.] 2019-12-31\n",
       "\\end{description*}\n"
      ],
      "text/markdown": [
       "Min.\n",
       ":   2018-01-011st Qu.\n",
       ":   2018-09-25Median\n",
       ":   2019-04-27Mean\n",
       ":   2019-03-193rd Qu.\n",
       ":   2019-10-08Max.\n",
       ":   2019-12-31\n",
       "\n"
      ],
      "text/plain": [
       "        Min.      1st Qu.       Median         Mean      3rd Qu.         Max. \n",
       "\"2018-01-01\" \"2018-09-25\" \"2019-04-27\" \"2019-03-19\" \"2019-10-08\" \"2019-12-31\" "
      ]
     },
     "metadata": {},
     "output_type": "display_data"
    },
    {
     "name": "stdout",
     "output_type": "stream",
     "text": [
      " Date[1:1949082], format: \"2018-04-06\" \"2018-04-06\" \"2018-04-06\" \"2018-04-06\" \"2018-04-06\" ...\n"
     ]
    }
   ],
   "source": [
    "summary(first_renewal_preds$expiry_date)\n",
    "str(first_renewal_preds$expiry_date) # 16,445,630 × 1"
   ]
  },
  {
   "cell_type": "code",
   "execution_count": 15,
   "metadata": {},
   "outputs": [
    {
     "data": {
      "text/html": [
       "<style>\n",
       ".list-inline {list-style: none; margin:0; padding: 0}\n",
       ".list-inline>li {display: inline-block}\n",
       ".list-inline>li:not(:last-child)::after {content: \"\\00b7\"; padding: 0 .5ex}\n",
       "</style>\n",
       "<ol class=list-inline><li><time datetime=\"2018-04-06\">2018-04-06</time></li><li><time datetime=\"2018-04-06\">2018-04-06</time></li><li><time datetime=\"2018-04-06\">2018-04-06</time></li><li><time datetime=\"2018-04-06\">2018-04-06</time></li><li><time datetime=\"2018-04-06\">2018-04-06</time></li><li><time datetime=\"2018-04-06\">2018-04-06</time></li></ol>\n"
      ],
      "text/latex": [
       "\\begin{enumerate*}\n",
       "\\item 2018-04-06\n",
       "\\item 2018-04-06\n",
       "\\item 2018-04-06\n",
       "\\item 2018-04-06\n",
       "\\item 2018-04-06\n",
       "\\item 2018-04-06\n",
       "\\end{enumerate*}\n"
      ],
      "text/markdown": [
       "1. 2018-04-06\n",
       "2. 2018-04-06\n",
       "3. 2018-04-06\n",
       "4. 2018-04-06\n",
       "5. 2018-04-06\n",
       "6. 2018-04-06\n",
       "\n",
       "\n"
      ],
      "text/plain": [
       "[1] \"2018-04-06\" \"2018-04-06\" \"2018-04-06\" \"2018-04-06\" \"2018-04-06\"\n",
       "[6] \"2018-04-06\""
      ]
     },
     "metadata": {},
     "output_type": "display_data"
    }
   ],
   "source": [
    "head(first_renewal_preds$expiry_date)"
   ]
  },
  {
   "cell_type": "markdown",
   "metadata": {},
   "source": [
    "#### For QAing, let's pick most recently expired data so (2020-01-01 through 2020-05-31)"
   ]
  },
  {
   "cell_type": "code",
   "execution_count": 12,
   "metadata": {},
   "outputs": [
    {
     "data": {
      "text/html": [
       "<table>\n",
       "<caption>A tibble: 1 × 2</caption>\n",
       "<thead>\n",
       "\t<tr><th scope=col>f0_</th><th scope=col>f1_</th></tr>\n",
       "\t<tr><th scope=col>&lt;dttm&gt;</th><th scope=col>&lt;dttm&gt;</th></tr>\n",
       "</thead>\n",
       "<tbody>\n",
       "\t<tr><td>2020-01-01</td><td>2020-05-31</td></tr>\n",
       "</tbody>\n",
       "</table>\n"
      ],
      "text/latex": [
       "A tibble: 1 × 2\n",
       "\\begin{tabular}{ll}\n",
       " f0\\_ & f1\\_\\\\\n",
       " <dttm> & <dttm>\\\\\n",
       "\\hline\n",
       "\t 2020-01-01 & 2020-05-31\\\\\n",
       "\\end{tabular}\n"
      ],
      "text/markdown": [
       "\n",
       "A tibble: 1 × 2\n",
       "\n",
       "| f0_ &lt;dttm&gt; | f1_ &lt;dttm&gt; |\n",
       "|---|---|\n",
       "| 2020-01-01 | 2020-05-31 |\n",
       "\n"
      ],
      "text/plain": [
       "  f0_        f1_       \n",
       "1 2020-01-01 2020-05-31"
      ]
     },
     "metadata": {},
     "output_type": "display_data"
    }
   ],
   "source": [
    "# test query functionality\n",
    "expiry_date_start='2020-01-01'\n",
    "expiry_date_end='2020-05-31'\n",
    "sql <- sprintf(\"SELECT MIN(expiry_date), MAX(expiry_date) \n",
    "          FROM radixbi-249015.prediction_vendors.newreg \n",
    "          WHERE expiry_date>= '%s' AND expiry_date <= '%s'\", \n",
    "               expiry_date_start, expiry_date_end)\n",
    "test_df <- bq_table_download(bq_project_query(projectid, sql))\n",
    "test_df"
   ]
  },
  {
   "cell_type": "code",
   "execution_count": 69,
   "metadata": {},
   "outputs": [
    {
     "data": {
      "text/html": [
       "<table>\n",
       "<caption>A tibble: 1 × 2</caption>\n",
       "<thead>\n",
       "\t<tr><th scope=col>f0_</th><th scope=col>f1_</th></tr>\n",
       "\t<tr><th scope=col>&lt;dttm&gt;</th><th scope=col>&lt;dttm&gt;</th></tr>\n",
       "</thead>\n",
       "<tbody>\n",
       "\t<tr><td>2020-01-01</td><td>2020-05-31</td></tr>\n",
       "</tbody>\n",
       "</table>\n"
      ],
      "text/latex": [
       "A tibble: 1 × 2\n",
       "\\begin{tabular}{ll}\n",
       " f0\\_ & f1\\_\\\\\n",
       " <dttm> & <dttm>\\\\\n",
       "\\hline\n",
       "\t 2020-01-01 & 2020-05-31\\\\\n",
       "\\end{tabular}\n"
      ],
      "text/markdown": [
       "\n",
       "A tibble: 1 × 2\n",
       "\n",
       "| f0_ &lt;dttm&gt; | f1_ &lt;dttm&gt; |\n",
       "|---|---|\n",
       "| 2020-01-01 | 2020-05-31 |\n",
       "\n"
      ],
      "text/plain": [
       "  f0_        f1_       \n",
       "1 2020-01-01 2020-05-31"
      ]
     },
     "metadata": {},
     "output_type": "display_data"
    }
   ],
   "source": [
    "# got an error No matching signature for operator > for argument types: \n",
    "# DATETIME, STRING. Supported signatures: ANY > ANY at [11:27] [invalidQuery]\n",
    "# on full count() query so converting string to TIMESTAMP\n",
    "# NOTE: this was actually an error pertaining to the deteled_date col which is a string\n",
    "# test query functionality 2\n",
    "expiry_date_start='2020-01-01'\n",
    "expiry_date_end='2020-05-31'\n",
    "sql <- sprintf(\"SELECT MIN(expiry_date), MAX(expiry_date) \n",
    "          FROM radixbi-249015.prediction_vendors.newreg \n",
    "          WHERE expiry_date>= DATETIME('%s') AND expiry_date <= DATETIME('%s')\", \n",
    "               expiry_date_start, expiry_date_end)\n",
    "test_df <- bq_table_download(bq_project_query(projectid, sql))\n",
    "test_df"
   ]
  },
  {
   "cell_type": "code",
   "execution_count": 86,
   "metadata": {},
   "outputs": [
    {
     "data": {
      "text/html": [
       "<style>\n",
       ".list-inline {list-style: none; margin:0; padding: 0}\n",
       ".list-inline>li {display: inline-block}\n",
       ".list-inline>li:not(:last-child)::after {content: \"\\00b7\"; padding: 0 .5ex}\n",
       "</style>\n",
       "<ol class=list-inline><li>'domain_id'</li><li>'domain'</li><li>'registrar_userid'</li><li>'ns'</li><li>'renew_date'</li><li>'renewal_id'</li><li>'period'</li><li>'renew_type'</li><li>'amount'</li><li>'usdamt'</li><li>'net_revenue'</li><li>'zdns_cost'</li><li>'manual_rebate'</li><li>'rebate_given'</li><li>'tld'</li><li>'registrantid'</li><li>'registrant_country'</li><li>'comm'</li><li>'autorenew_type'</li><li>'centralnic_comm'</li><li>'gross_centralnic_comm'</li><li>'icann_comm'</li><li>'transaction_expiry'</li><li>'expiry_status'</li><li>'cumulative_period'</li><li>'rebate'</li><li>'ns_company'</li><li>'client_am'</li><li>'registrar_am'</li><li>'deleted_date'</li><li>'registrar_shortname'</li><li>'client_shortname'</li><li>'registrar_country'</li><li>'client_country'</li><li>'mbg'</li><li>'renewed_count'</li><li>'transfer'</li><li>'newreg_period'</li><li>'newreg_net_revenue'</li><li>'r_row_id'</li><li>'r_renew_date'</li><li>'r_renewal_id'</li><li>'r_period'</li><li>'r_renew_type'</li><li>'r_autorenew_type'</li><li>'r_net_revenue'</li><li>'r_mbg'</li><li>'r_centralnic_comm'</li><li>'r_icann_comm'</li><li>'r_registrar_shortname'</li><li>'r_client_shortname'</li><li>'r_client_am'</li><li>'r_registrar_country'</li><li>'r_client_country'</li><li>'r_registrar_am'</li><li>'sub_type'</li><li>'tier'</li><li>'promo_tag'</li></ol>\n"
      ],
      "text/latex": [
       "\\begin{enumerate*}\n",
       "\\item 'domain\\_id'\n",
       "\\item 'domain'\n",
       "\\item 'registrar\\_userid'\n",
       "\\item 'ns'\n",
       "\\item 'renew\\_date'\n",
       "\\item 'renewal\\_id'\n",
       "\\item 'period'\n",
       "\\item 'renew\\_type'\n",
       "\\item 'amount'\n",
       "\\item 'usdamt'\n",
       "\\item 'net\\_revenue'\n",
       "\\item 'zdns\\_cost'\n",
       "\\item 'manual\\_rebate'\n",
       "\\item 'rebate\\_given'\n",
       "\\item 'tld'\n",
       "\\item 'registrantid'\n",
       "\\item 'registrant\\_country'\n",
       "\\item 'comm'\n",
       "\\item 'autorenew\\_type'\n",
       "\\item 'centralnic\\_comm'\n",
       "\\item 'gross\\_centralnic\\_comm'\n",
       "\\item 'icann\\_comm'\n",
       "\\item 'transaction\\_expiry'\n",
       "\\item 'expiry\\_status'\n",
       "\\item 'cumulative\\_period'\n",
       "\\item 'rebate'\n",
       "\\item 'ns\\_company'\n",
       "\\item 'client\\_am'\n",
       "\\item 'registrar\\_am'\n",
       "\\item 'deleted\\_date'\n",
       "\\item 'registrar\\_shortname'\n",
       "\\item 'client\\_shortname'\n",
       "\\item 'registrar\\_country'\n",
       "\\item 'client\\_country'\n",
       "\\item 'mbg'\n",
       "\\item 'renewed\\_count'\n",
       "\\item 'transfer'\n",
       "\\item 'newreg\\_period'\n",
       "\\item 'newreg\\_net\\_revenue'\n",
       "\\item 'r\\_row\\_id'\n",
       "\\item 'r\\_renew\\_date'\n",
       "\\item 'r\\_renewal\\_id'\n",
       "\\item 'r\\_period'\n",
       "\\item 'r\\_renew\\_type'\n",
       "\\item 'r\\_autorenew\\_type'\n",
       "\\item 'r\\_net\\_revenue'\n",
       "\\item 'r\\_mbg'\n",
       "\\item 'r\\_centralnic\\_comm'\n",
       "\\item 'r\\_icann\\_comm'\n",
       "\\item 'r\\_registrar\\_shortname'\n",
       "\\item 'r\\_client\\_shortname'\n",
       "\\item 'r\\_client\\_am'\n",
       "\\item 'r\\_registrar\\_country'\n",
       "\\item 'r\\_client\\_country'\n",
       "\\item 'r\\_registrar\\_am'\n",
       "\\item 'sub\\_type'\n",
       "\\item 'tier'\n",
       "\\item 'promo\\_tag'\n",
       "\\end{enumerate*}\n"
      ],
      "text/markdown": [
       "1. 'domain_id'\n",
       "2. 'domain'\n",
       "3. 'registrar_userid'\n",
       "4. 'ns'\n",
       "5. 'renew_date'\n",
       "6. 'renewal_id'\n",
       "7. 'period'\n",
       "8. 'renew_type'\n",
       "9. 'amount'\n",
       "10. 'usdamt'\n",
       "11. 'net_revenue'\n",
       "12. 'zdns_cost'\n",
       "13. 'manual_rebate'\n",
       "14. 'rebate_given'\n",
       "15. 'tld'\n",
       "16. 'registrantid'\n",
       "17. 'registrant_country'\n",
       "18. 'comm'\n",
       "19. 'autorenew_type'\n",
       "20. 'centralnic_comm'\n",
       "21. 'gross_centralnic_comm'\n",
       "22. 'icann_comm'\n",
       "23. 'transaction_expiry'\n",
       "24. 'expiry_status'\n",
       "25. 'cumulative_period'\n",
       "26. 'rebate'\n",
       "27. 'ns_company'\n",
       "28. 'client_am'\n",
       "29. 'registrar_am'\n",
       "30. 'deleted_date'\n",
       "31. 'registrar_shortname'\n",
       "32. 'client_shortname'\n",
       "33. 'registrar_country'\n",
       "34. 'client_country'\n",
       "35. 'mbg'\n",
       "36. 'renewed_count'\n",
       "37. 'transfer'\n",
       "38. 'newreg_period'\n",
       "39. 'newreg_net_revenue'\n",
       "40. 'r_row_id'\n",
       "41. 'r_renew_date'\n",
       "42. 'r_renewal_id'\n",
       "43. 'r_period'\n",
       "44. 'r_renew_type'\n",
       "45. 'r_autorenew_type'\n",
       "46. 'r_net_revenue'\n",
       "47. 'r_mbg'\n",
       "48. 'r_centralnic_comm'\n",
       "49. 'r_icann_comm'\n",
       "50. 'r_registrar_shortname'\n",
       "51. 'r_client_shortname'\n",
       "52. 'r_client_am'\n",
       "53. 'r_registrar_country'\n",
       "54. 'r_client_country'\n",
       "55. 'r_registrar_am'\n",
       "56. 'sub_type'\n",
       "57. 'tier'\n",
       "58. 'promo_tag'\n",
       "\n",
       "\n"
      ],
      "text/plain": [
       " [1] \"domain_id\"             \"domain\"                \"registrar_userid\"     \n",
       " [4] \"ns\"                    \"renew_date\"            \"renewal_id\"           \n",
       " [7] \"period\"                \"renew_type\"            \"amount\"               \n",
       "[10] \"usdamt\"                \"net_revenue\"           \"zdns_cost\"            \n",
       "[13] \"manual_rebate\"         \"rebate_given\"          \"tld\"                  \n",
       "[16] \"registrantid\"          \"registrant_country\"    \"comm\"                 \n",
       "[19] \"autorenew_type\"        \"centralnic_comm\"       \"gross_centralnic_comm\"\n",
       "[22] \"icann_comm\"            \"transaction_expiry\"    \"expiry_status\"        \n",
       "[25] \"cumulative_period\"     \"rebate\"                \"ns_company\"           \n",
       "[28] \"client_am\"             \"registrar_am\"          \"deleted_date\"         \n",
       "[31] \"registrar_shortname\"   \"client_shortname\"      \"registrar_country\"    \n",
       "[34] \"client_country\"        \"mbg\"                   \"renewed_count\"        \n",
       "[37] \"transfer\"              \"newreg_period\"         \"newreg_net_revenue\"   \n",
       "[40] \"r_row_id\"              \"r_renew_date\"          \"r_renewal_id\"         \n",
       "[43] \"r_period\"              \"r_renew_type\"          \"r_autorenew_type\"     \n",
       "[46] \"r_net_revenue\"         \"r_mbg\"                 \"r_centralnic_comm\"    \n",
       "[49] \"r_icann_comm\"          \"r_registrar_shortname\" \"r_client_shortname\"   \n",
       "[52] \"r_client_am\"           \"r_registrar_country\"   \"r_client_country\"     \n",
       "[55] \"r_registrar_am\"        \"sub_type\"              \"tier\"                 \n",
       "[58] \"promo_tag\"            "
      ]
     },
     "metadata": {},
     "output_type": "display_data"
    },
    {
     "data": {
      "text/html": [],
      "text/latex": [],
      "text/markdown": [],
      "text/plain": [
       "character(0)"
      ]
     },
     "metadata": {},
     "output_type": "display_data"
    },
    {
     "data": {
      "text/html": [
       "<style>\n",
       ".list-inline {list-style: none; margin:0; padding: 0}\n",
       ".list-inline>li {display: inline-block}\n",
       ".list-inline>li:not(:last-child)::after {content: \"\\00b7\"; padding: 0 .5ex}\n",
       "</style>\n",
       "<ol class=list-inline><li>'domain_id'</li><li>'domain'</li><li>'expiry_date'</li><li>'creation_date'</li><li>'registrar_userid'</li><li>'ns'</li><li>'period'</li><li>'amount'</li><li>'tld'</li><li>'usdamt'</li><li>'rebate_given'</li><li>'net_revenue'</li><li>'zdns_cost'</li><li>'manual_rebate'</li><li>'registrantid'</li><li>'registrant_country'</li><li>'comm'</li><li>'mbg'</li><li>'rebate'</li><li>'centralnic_comm'</li><li>'gross_centralnic_comm'</li><li>'icann_comm'</li><li>'ns_company'</li><li>'client_am'</li><li>'registrar_am'</li><li>'deleted_date'</li><li>'registrar_shortname'</li><li>'client_shortname'</li><li>'registrar_country'</li><li>'client_country'</li><li>'creationtime'</li><li>'r_row_id'</li><li>'r_renew_date'</li><li>'r_renewal_id'</li><li>'r_period'</li><li>'r_renew_type'</li><li>'r_autorenew_type'</li><li>'r_net_revenue'</li><li>'r_mbg'</li><li>'r_centralnic_comm'</li><li>'r_icann_comm'</li><li>'r_registrar_shortname'</li><li>'r_client_shortname'</li><li>'r_client_am'</li><li>'r_registrar_country'</li><li>'r_client_country'</li><li>'r_registrar_am'</li><li>'promo_tag'</li></ol>\n"
      ],
      "text/latex": [
       "\\begin{enumerate*}\n",
       "\\item 'domain\\_id'\n",
       "\\item 'domain'\n",
       "\\item 'expiry\\_date'\n",
       "\\item 'creation\\_date'\n",
       "\\item 'registrar\\_userid'\n",
       "\\item 'ns'\n",
       "\\item 'period'\n",
       "\\item 'amount'\n",
       "\\item 'tld'\n",
       "\\item 'usdamt'\n",
       "\\item 'rebate\\_given'\n",
       "\\item 'net\\_revenue'\n",
       "\\item 'zdns\\_cost'\n",
       "\\item 'manual\\_rebate'\n",
       "\\item 'registrantid'\n",
       "\\item 'registrant\\_country'\n",
       "\\item 'comm'\n",
       "\\item 'mbg'\n",
       "\\item 'rebate'\n",
       "\\item 'centralnic\\_comm'\n",
       "\\item 'gross\\_centralnic\\_comm'\n",
       "\\item 'icann\\_comm'\n",
       "\\item 'ns\\_company'\n",
       "\\item 'client\\_am'\n",
       "\\item 'registrar\\_am'\n",
       "\\item 'deleted\\_date'\n",
       "\\item 'registrar\\_shortname'\n",
       "\\item 'client\\_shortname'\n",
       "\\item 'registrar\\_country'\n",
       "\\item 'client\\_country'\n",
       "\\item 'creationtime'\n",
       "\\item 'r\\_row\\_id'\n",
       "\\item 'r\\_renew\\_date'\n",
       "\\item 'r\\_renewal\\_id'\n",
       "\\item 'r\\_period'\n",
       "\\item 'r\\_renew\\_type'\n",
       "\\item 'r\\_autorenew\\_type'\n",
       "\\item 'r\\_net\\_revenue'\n",
       "\\item 'r\\_mbg'\n",
       "\\item 'r\\_centralnic\\_comm'\n",
       "\\item 'r\\_icann\\_comm'\n",
       "\\item 'r\\_registrar\\_shortname'\n",
       "\\item 'r\\_client\\_shortname'\n",
       "\\item 'r\\_client\\_am'\n",
       "\\item 'r\\_registrar\\_country'\n",
       "\\item 'r\\_client\\_country'\n",
       "\\item 'r\\_registrar\\_am'\n",
       "\\item 'promo\\_tag'\n",
       "\\end{enumerate*}\n"
      ],
      "text/markdown": [
       "1. 'domain_id'\n",
       "2. 'domain'\n",
       "3. 'expiry_date'\n",
       "4. 'creation_date'\n",
       "5. 'registrar_userid'\n",
       "6. 'ns'\n",
       "7. 'period'\n",
       "8. 'amount'\n",
       "9. 'tld'\n",
       "10. 'usdamt'\n",
       "11. 'rebate_given'\n",
       "12. 'net_revenue'\n",
       "13. 'zdns_cost'\n",
       "14. 'manual_rebate'\n",
       "15. 'registrantid'\n",
       "16. 'registrant_country'\n",
       "17. 'comm'\n",
       "18. 'mbg'\n",
       "19. 'rebate'\n",
       "20. 'centralnic_comm'\n",
       "21. 'gross_centralnic_comm'\n",
       "22. 'icann_comm'\n",
       "23. 'ns_company'\n",
       "24. 'client_am'\n",
       "25. 'registrar_am'\n",
       "26. 'deleted_date'\n",
       "27. 'registrar_shortname'\n",
       "28. 'client_shortname'\n",
       "29. 'registrar_country'\n",
       "30. 'client_country'\n",
       "31. 'creationtime'\n",
       "32. 'r_row_id'\n",
       "33. 'r_renew_date'\n",
       "34. 'r_renewal_id'\n",
       "35. 'r_period'\n",
       "36. 'r_renew_type'\n",
       "37. 'r_autorenew_type'\n",
       "38. 'r_net_revenue'\n",
       "39. 'r_mbg'\n",
       "40. 'r_centralnic_comm'\n",
       "41. 'r_icann_comm'\n",
       "42. 'r_registrar_shortname'\n",
       "43. 'r_client_shortname'\n",
       "44. 'r_client_am'\n",
       "45. 'r_registrar_country'\n",
       "46. 'r_client_country'\n",
       "47. 'r_registrar_am'\n",
       "48. 'promo_tag'\n",
       "\n",
       "\n"
      ],
      "text/plain": [
       " [1] \"domain_id\"             \"domain\"                \"expiry_date\"          \n",
       " [4] \"creation_date\"         \"registrar_userid\"      \"ns\"                   \n",
       " [7] \"period\"                \"amount\"                \"tld\"                  \n",
       "[10] \"usdamt\"                \"rebate_given\"          \"net_revenue\"          \n",
       "[13] \"zdns_cost\"             \"manual_rebate\"         \"registrantid\"         \n",
       "[16] \"registrant_country\"    \"comm\"                  \"mbg\"                  \n",
       "[19] \"rebate\"                \"centralnic_comm\"       \"gross_centralnic_comm\"\n",
       "[22] \"icann_comm\"            \"ns_company\"            \"client_am\"            \n",
       "[25] \"registrar_am\"          \"deleted_date\"          \"registrar_shortname\"  \n",
       "[28] \"client_shortname\"      \"registrar_country\"     \"client_country\"       \n",
       "[31] \"creationtime\"          \"r_row_id\"              \"r_renew_date\"         \n",
       "[34] \"r_renewal_id\"          \"r_period\"              \"r_renew_type\"         \n",
       "[37] \"r_autorenew_type\"      \"r_net_revenue\"         \"r_mbg\"                \n",
       "[40] \"r_centralnic_comm\"     \"r_icann_comm\"          \"r_registrar_shortname\"\n",
       "[43] \"r_client_shortname\"    \"r_client_am\"           \"r_registrar_country\"  \n",
       "[46] \"r_client_country\"      \"r_registrar_am\"        \"promo_tag\"            "
      ]
     },
     "metadata": {},
     "output_type": "display_data"
    },
    {
     "data": {
      "text/html": [],
      "text/latex": [],
      "text/markdown": [],
      "text/plain": [
       "character(0)"
      ]
     },
     "metadata": {},
     "output_type": "display_data"
    },
    {
     "data": {
      "text/html": [
       "<style>\n",
       ".list-inline {list-style: none; margin:0; padding: 0}\n",
       ".list-inline>li {display: inline-block}\n",
       ".list-inline>li:not(:last-child)::after {content: \"\\00b7\"; padding: 0 .5ex}\n",
       "</style>\n",
       "<ol class=list-inline><li>'domain_id'</li><li>'domain'</li><li>'prediction'</li><li>'revised_prediction'</li><li>'first_renewal_prediction'</li><li>'second_renewal_prediction'</li><li>'subsequent_renewal_prediction'</li><li>'projected_renew_arpt'</li><li>'zdns_reg'</li><li>'zdns_ren'</li><li>'npv'</li><li>'model_version'</li><li>'init_model_version'</li><li>'timestamp'</li></ol>\n"
      ],
      "text/latex": [
       "\\begin{enumerate*}\n",
       "\\item 'domain\\_id'\n",
       "\\item 'domain'\n",
       "\\item 'prediction'\n",
       "\\item 'revised\\_prediction'\n",
       "\\item 'first\\_renewal\\_prediction'\n",
       "\\item 'second\\_renewal\\_prediction'\n",
       "\\item 'subsequent\\_renewal\\_prediction'\n",
       "\\item 'projected\\_renew\\_arpt'\n",
       "\\item 'zdns\\_reg'\n",
       "\\item 'zdns\\_ren'\n",
       "\\item 'npv'\n",
       "\\item 'model\\_version'\n",
       "\\item 'init\\_model\\_version'\n",
       "\\item 'timestamp'\n",
       "\\end{enumerate*}\n"
      ],
      "text/markdown": [
       "1. 'domain_id'\n",
       "2. 'domain'\n",
       "3. 'prediction'\n",
       "4. 'revised_prediction'\n",
       "5. 'first_renewal_prediction'\n",
       "6. 'second_renewal_prediction'\n",
       "7. 'subsequent_renewal_prediction'\n",
       "8. 'projected_renew_arpt'\n",
       "9. 'zdns_reg'\n",
       "10. 'zdns_ren'\n",
       "11. 'npv'\n",
       "12. 'model_version'\n",
       "13. 'init_model_version'\n",
       "14. 'timestamp'\n",
       "\n",
       "\n"
      ],
      "text/plain": [
       " [1] \"domain_id\"                     \"domain\"                       \n",
       " [3] \"prediction\"                    \"revised_prediction\"           \n",
       " [5] \"first_renewal_prediction\"      \"second_renewal_prediction\"    \n",
       " [7] \"subsequent_renewal_prediction\" \"projected_renew_arpt\"         \n",
       " [9] \"zdns_reg\"                      \"zdns_ren\"                     \n",
       "[11] \"npv\"                           \"model_version\"                \n",
       "[13] \"init_model_version\"            \"timestamp\"                    "
      ]
     },
     "metadata": {},
     "output_type": "display_data"
    }
   ],
   "source": [
    "sql <- sprintf(\"SELECT column_name\n",
    "                FROM radixbi-249015.prediction_vendors.INFORMATION_SCHEMA.COLUMNS\n",
    "               WHERE table_name = 'renews'\")\n",
    "renews_cols <- bq_table_download(bq_project_query(projectid, sql))$column_name\n",
    "renews_cols\n",
    "paste()\n",
    "sql <- sprintf(\"SELECT column_name\n",
    "                FROM radixbi-249015.prediction_vendors.INFORMATION_SCHEMA.COLUMNS\n",
    "               WHERE table_name = 'newreg'\")\n",
    "newreg_cols <- bq_table_download(bq_project_query(projectid, sql))$column_name\n",
    "newreg_cols #n\n",
    "paste()\n",
    "sql <- sprintf(\"SELECT column_name\n",
    "                FROM radixbi-249015.prediction_vendors.INFORMATION_SCHEMA.COLUMNS\n",
    "               WHERE table_name = 'predictions'\")\n",
    "predictions_cols <- bq_table_download(bq_project_query(projectid, sql))$column_name\n",
    "predictions_cols #pr"
   ]
  },
  {
   "cell_type": "code",
   "execution_count": 60,
   "metadata": {},
   "outputs": [
    {
     "data": {
      "text/html": [],
      "text/latex": [],
      "text/markdown": [],
      "text/plain": [
       "character(0)"
      ]
     },
     "metadata": {},
     "output_type": "display_data"
    }
   ],
   "source": [
    "newreg_cols[str_detect(predictions_cols, \"type\")]"
   ]
  },
  {
   "cell_type": "code",
   "execution_count": 91,
   "metadata": {},
   "outputs": [
    {
     "data": {
      "text/html": [
       "<table>\n",
       "<caption>A tibble: 3 × 2</caption>\n",
       "<thead>\n",
       "\t<tr><th scope=col>column_name</th><th scope=col>data_type</th></tr>\n",
       "\t<tr><th scope=col>&lt;chr&gt;</th><th scope=col>&lt;chr&gt;</th></tr>\n",
       "</thead>\n",
       "<tbody>\n",
       "\t<tr><td>renew_date  </td><td>TIMESTAMP</td></tr>\n",
       "\t<tr><td>deleted_date</td><td>STRING   </td></tr>\n",
       "\t<tr><td>r_renew_date</td><td>STRING   </td></tr>\n",
       "</tbody>\n",
       "</table>\n"
      ],
      "text/latex": [
       "A tibble: 3 × 2\n",
       "\\begin{tabular}{ll}\n",
       " column\\_name & data\\_type\\\\\n",
       " <chr> & <chr>\\\\\n",
       "\\hline\n",
       "\t renew\\_date   & TIMESTAMP\\\\\n",
       "\t deleted\\_date & STRING   \\\\\n",
       "\t r\\_renew\\_date & STRING   \\\\\n",
       "\\end{tabular}\n"
      ],
      "text/markdown": [
       "\n",
       "A tibble: 3 × 2\n",
       "\n",
       "| column_name &lt;chr&gt; | data_type &lt;chr&gt; |\n",
       "|---|---|\n",
       "| renew_date   | TIMESTAMP |\n",
       "| deleted_date | STRING    |\n",
       "| r_renew_date | STRING    |\n",
       "\n"
      ],
      "text/plain": [
       "  column_name  data_type\n",
       "1 renew_date   TIMESTAMP\n",
       "2 deleted_date STRING   \n",
       "3 r_renew_date STRING   "
      ]
     },
     "metadata": {},
     "output_type": "display_data"
    }
   ],
   "source": [
    "sql <- sprintf(\"SELECT *\n",
    "                FROM radixbi-249015.prediction_vendors.INFORMATION_SCHEMA.COLUMNS\n",
    "               WHERE table_name = 'renews'\")\n",
    "renews_test_df <- bq_table_download(bq_project_query(projectid, sql))\n",
    "renews_test_df[renews_test_df$column_name %like% \"date\", ][c(\"column_name\",'data_type')]"
   ]
  },
  {
   "cell_type": "code",
   "execution_count": 93,
   "metadata": {},
   "outputs": [
    {
     "data": {
      "text/html": [
       "<table>\n",
       "<caption>A tibble: 4 × 2</caption>\n",
       "<thead>\n",
       "\t<tr><th scope=col>column_name</th><th scope=col>data_type</th></tr>\n",
       "\t<tr><th scope=col>&lt;chr&gt;</th><th scope=col>&lt;chr&gt;</th></tr>\n",
       "</thead>\n",
       "<tbody>\n",
       "\t<tr><td>expiry_date  </td><td>DATETIME </td></tr>\n",
       "\t<tr><td>creation_date</td><td>TIMESTAMP</td></tr>\n",
       "\t<tr><td>deleted_date </td><td>STRING   </td></tr>\n",
       "\t<tr><td>r_renew_date </td><td>DATETIME </td></tr>\n",
       "</tbody>\n",
       "</table>\n"
      ],
      "text/latex": [
       "A tibble: 4 × 2\n",
       "\\begin{tabular}{ll}\n",
       " column\\_name & data\\_type\\\\\n",
       " <chr> & <chr>\\\\\n",
       "\\hline\n",
       "\t expiry\\_date   & DATETIME \\\\\n",
       "\t creation\\_date & TIMESTAMP\\\\\n",
       "\t deleted\\_date  & STRING   \\\\\n",
       "\t r\\_renew\\_date  & DATETIME \\\\\n",
       "\\end{tabular}\n"
      ],
      "text/markdown": [
       "\n",
       "A tibble: 4 × 2\n",
       "\n",
       "| column_name &lt;chr&gt; | data_type &lt;chr&gt; |\n",
       "|---|---|\n",
       "| expiry_date   | DATETIME  |\n",
       "| creation_date | TIMESTAMP |\n",
       "| deleted_date  | STRING    |\n",
       "| r_renew_date  | DATETIME  |\n",
       "\n"
      ],
      "text/plain": [
       "  column_name   data_type\n",
       "1 expiry_date   DATETIME \n",
       "2 creation_date TIMESTAMP\n",
       "3 deleted_date  STRING   \n",
       "4 r_renew_date  DATETIME "
      ]
     },
     "metadata": {},
     "output_type": "display_data"
    }
   ],
   "source": [
    "sql <- sprintf(\"SELECT *\n",
    "                FROM radixbi-249015.prediction_vendors.INFORMATION_SCHEMA.COLUMNS\n",
    "               WHERE table_name = 'newreg'\")\n",
    "newreg_test_df <- bq_table_download(bq_project_query(projectid, sql))\n",
    "newreg_test_df[newreg_test_df$column_name %like% \"date\", ][c(\"column_name\",'data_type')]"
   ]
  },
  {
   "cell_type": "code",
   "execution_count": null,
   "metadata": {},
   "outputs": [],
   "source": [
    "transaction_expiry, expiry date"
   ]
  },
  {
   "cell_type": "code",
   "execution_count": 74,
   "metadata": {},
   "outputs": [
    {
     "name": "stdout",
     "output_type": "stream",
     "text": [
      "SELECT count(*) FROM ( \n",
      " SELECT 'FirstTime'  AS renewal_type, \n",
      "               '1' AS renewed_count, \n",
      "               n.expiry_date AS Expiry_date, \n",
      "               n.domain_id AS domain_id, \n",
      "               n.domain, \n",
      "               n.creation_date AS creation_date1, \n",
      "               \n",
      "               CASE \n",
      "                 WHEN n.deleted_date IS NOT NULL \n",
      "                      AND n.expiry_date > n.deleted_date THEN 'Deleted' \n",
      "                 ELSE 'Active' \n",
      "               END AS status, \n",
      "               \n",
      "               n.tld AS tld, \n",
      "               n.registrar_shortname AS registrar_shortname, \n",
      "               n.client_shortname AS client_shortname, \n",
      "               n.client_country AS client_country, \n",
      "               n.registrant_country AS registrant_country,\n",
      "\n",
      "               CASE \n",
      "                 WHEN n.client_am IN ( 'Kenneth', 'Kenneth HK' ) THEN 'China' \n",
      "                 ELSE 'Non China' \n",
      "               END AS region,\n",
      "\n",
      "               n.period AS noofyears,\n",
      "\n",
      "               CASE \n",
      "                 WHEN n.r_transfer = 1 THEN 'Transfered' \n",
      "                 WHEN ( n.r_renew_type IN ( 'renewal', 'transfer' ) \n",
      "                         OR n.r_autorenew_type = 'realized' ) THEN 'Renewed' \n",
      "                 ELSE 'Not Renewd' \n",
      "               END AS renewal_status, \n",
      "               \n",
      "               n.r_mbg AS renew_mbg,\n",
      "               n.r_renew_type AS renew_type, \n",
      "               n.r_autorenew_type AS autorenew_type, \n",
      "               n.r_renewed_on AS renew_date, \n",
      "               n.r_registrar_shortname AS Renew_Registrar_Shortname, \n",
      "               n.r_client_shortname AS Renew_Client_Shortname, \n",
      "               Round(n.net_revenue, 2) AS domain_revenue, \n",
      "               Round(( n.net_revenue / n.period ), 2) AS arpt, \n",
      "               \n",
      "               CASE \n",
      "                 WHEN n.deleted_date IS NOT NULL \n",
      "                      AND n.expiry_date > n.deleted_date THEN 0 \n",
      "                 ELSE pr.revised_prediction \n",
      "               END AS prediction,\n",
      "\n",
      "               pr.sld_length AS sld_length, \n",
      "               pr.sld_type AS sld_type, \n",
      "               pr.sld_type2 AS sld_type2, \n",
      "               pr.day_domains AS day_domains, \n",
      "               pr.logarpt AS logarpt, \n",
      "               pr.gibb_score AS gibb_score, \n",
      "               pr.coeff_variation AS coeff_variation, \n",
      "               Round(( n.net_revenue - ( ( CASE \n",
      "                                             WHEN n.centralnic_comm IS NULL THEN \n",
      "                                             0.00 \n",
      "                                             ELSE n.centralnic_comm \n",
      "                                           END ) + ( CASE \n",
      "                                                       WHEN n.icann_comm IS NULL \n",
      "                                                     THEN \n",
      "                                                       0.00 \n",
      "                                                       ELSE \n",
      "                                         n.icann_comm + n.icann_fixed \n",
      "                                                     END ) ) ), 2)   AS gross_profit, \n",
      "               Round(( n.net_revenue - ( ( CASE \n",
      "                                             WHEN n.centralnic_comm IS NULL THEN \n",
      "                                             0.00 \n",
      "                                             ELSE n.centralnic_comm \n",
      "                                           END ) + ( CASE \n",
      "                                                       WHEN n.icann_comm IS NULL \n",
      "                                                     THEN \n",
      "                                                       0.00 \n",
      "                                                       ELSE n.icann_comm \n",
      "                                                     END ) ) ), 2)   AS gp_less_icann_fixed, \n",
      "               n.r_period AS renew_domain_years, \n",
      "               Round(n.r_net_revenue, 2) AS renew_domain_revenue, \n",
      "               Round(( n.r_net_revenue / n.r_period ), 2) AS renew_arpt, \n",
      "               Round(( n.r_net_revenue - ( ( CASE \n",
      "                                               WHEN n.r_centralnic_comm IS NULL \n",
      "                                             THEN \n",
      "                                               0.00 \n",
      "                                               ELSE n.r_centralnic_comm \n",
      "                                             END ) + ( CASE \n",
      "                                                         WHEN \n",
      "                                           n.r_icann_comm IS NULL \n",
      "                                                       THEN 0.00 \n",
      "                                                         ELSE \n",
      "                                           n.r_icann_comm + n.icann_fixed \n",
      "                                                       END ) ) ), 2) AS renew_gross_profit, \n",
      "               Round(( n.r_net_revenue - ( ( CASE \n",
      "                                               WHEN n.r_centralnic_comm IS NULL \n",
      "                                             THEN \n",
      "                                               0.00 \n",
      "                                               ELSE n.r_centralnic_comm \n",
      "                                             END ) + ( CASE \n",
      "                                                         WHEN \n",
      "                                           n.r_icann_comm IS NULL \n",
      "                                                       THEN 0.00 \n",
      "                                                         ELSE n.r_icann_comm \n",
      "                                                       END ) ) ), 2) AS renew_gp_less_icann_fixed, \n",
      "               Round(( n.net_revenue / n.period ), 2) AS registration_arpt \n",
      "\n",
      "\n",
      "               \n",
      "        FROM   radixbi-249015.prediction_vendors.newreg n \n",
      "               LEFT OUTER JOIN radixbi-249015.prediction_vendors.predictions pr \n",
      "                            ON n.domain_id = pr.domain_id \n",
      "                              \n",
      "        WHERE  n.mbg = 0 \n",
      "               AND n.expiry_date >= DATETIME('2020-01-01')\n",
      "               AND n.expiry_date <= DATETIME('2020-05-31')\n",
      "               AND n.period > 0  \n",
      " UNION ALL \n",
      " SELECT CASE \n",
      "                 WHEN renewed_count > 1 THEN 'Subsequent' \n",
      "                 ELSE 'Second' \n",
      "               END AS renewal_type, \n",
      "               ( renewed_count + 1 ) AS renewed_count, \n",
      "               n.transaction_expiry AS Expiry_date, \n",
      "               n.domain_id AS domain_id, \n",
      "               n.domain AS domain, \n",
      "               n.registered_on AS creation_date1, \n",
      "               CASE \n",
      "                 WHEN n.deleted_date IS NOT NULL \n",
      "                      AND n.transaction_expiry > n.deleted_date THEN 'Deleted' \n",
      "                 ELSE 'Active' \n",
      "               END AS status, \n",
      "               n.tld AS tld, \n",
      "               n.registrar_shortname AS registrar_shortname, \n",
      "               n.client_shortname AS client_shortname, \n",
      "               n.client_country AS client_country, \n",
      "               n.registrant_country AS registrant_country,\n",
      "               CASE \n",
      "                 WHEN n.client_am IN ( 'Kenneth', 'Kenneth HK' ) THEN 'China' \n",
      "                 ELSE 'Non China' \n",
      "               END AS region, \n",
      "               n.period AS noofyears, \n",
      "               CASE \n",
      "                 WHEN n.r_transfer = 1 THEN 'Transfered' \n",
      "                 WHEN ( n.r_renew_type IN ( 'renewal', 'transfer' ) \n",
      "                         OR n.r_autorenew_type = 'realized' ) THEN 'Renewed' \n",
      "                 ELSE 'Not Renewd' \n",
      "               END AS renewal_status, \n",
      "               n.r_mbg AS renew_mbg,\n",
      "               n.r_renew_type AS renew_type, \n",
      "               n.r_autorenew_type AS autorenew_type, \n",
      "               n.r_renewed_on AS renew_date, \n",
      "               n.r_registrar_shortname AS Renew_Registrar_Shortname, \n",
      "               n.r_client_shortname AS Renew_Client_Shortname, \n",
      "               Round(n.net_revenue, 2) AS domain_revenue, \n",
      "               Round(( n.net_revenue / n.period ), 2) AS arpt, \n",
      "               CASE \n",
      "                 WHEN n.deleted_date IS NOT NULL \n",
      "                      AND n.expiry_date > n.deleted_date THEN 0 \n",
      "                 ELSE pr.revised_prediction \n",
      "               END AS prediction, \n",
      "               pr.sld_length AS sld_length, \n",
      "               pr.sld_type AS sld_type, \n",
      "               pr.sld_type2 AS sld_type2, \n",
      "               pr.day_domains AS day_domains, \n",
      "               pr.logarpt AS logarpt, \n",
      "               pr.gibb_score AS gibb_score, \n",
      "               pr.coeff_variation AS coeff_variation, \n",
      "               Round(( n.net_revenue - ( ( CASE \n",
      "                                             WHEN n.centralnic_comm IS NULL THEN \n",
      "                                             0.00 \n",
      "                                             ELSE n.centralnic_comm \n",
      "                                           END ) + ( CASE \n",
      "                                                       WHEN n.icann_comm IS NULL \n",
      "                                                     THEN \n",
      "                                                       0.00 \n",
      "                                                       ELSE \n",
      "                                         n.icann_comm + n.icann_fixed \n",
      "                                                     END ) ) ), 2)   AS \n",
      "               gross_profit, \n",
      "               Round(( n.net_revenue - ( ( CASE \n",
      "                                             WHEN n.centralnic_comm IS NULL THEN \n",
      "                                             0.00 \n",
      "                                             ELSE n.centralnic_comm \n",
      "                                           END ) + ( CASE \n",
      "                                                       WHEN n.icann_comm IS NULL \n",
      "                                                     THEN \n",
      "                                                       0.00 \n",
      "                                                       ELSE n.icann_comm \n",
      "                                                     END ) ) ), 2)   AS gp_less_icann_fixed, \n",
      "               n.r_period AS renew_domain_years, \n",
      "               Round(n.r_net_revenue, 2) AS renew_domain_revenue, \n",
      "               Round(( n.r_net_revenue / n.r_period ), 2) AS renew_arpt, \n",
      "               Round(( n.r_net_revenue - ( ( CASE \n",
      "                                               WHEN n.r_centralnic_comm IS NULL \n",
      "                                             THEN \n",
      "                                               0.00 \n",
      "                                               ELSE n.r_centralnic_comm \n",
      "                                             END ) + ( CASE \n",
      "                                                         WHEN \n",
      "                                           n.r_icann_comm IS NULL \n",
      "                                                       THEN 0.00 \n",
      "                                                         ELSE \n",
      "                                           n.r_icann_comm + n.icann_fixed \n",
      "                                                       END ) ) ), 2) AS renew_gross_profit, \n",
      "               Round(( n.r_net_revenue - ( ( CASE \n",
      "                                               WHEN n.r_centralnic_comm IS NULL \n",
      "                                             THEN \n",
      "                                               0.00 \n",
      "                                               ELSE n.r_centralnic_comm \n",
      "                                             END ) + ( CASE \n",
      "                                                         WHEN \n",
      "                                           n.r_icann_comm IS NULL \n",
      "                                                       THEN 0.00 \n",
      "                                                         ELSE n.r_icann_comm \n",
      "                                                       END ) ) ), 2) AS renew_gp_less_icann_fixed, \n",
      "               CASE \n",
      "                 WHEN n.newreg_period IS NOT NULL THEN Round(( \n",
      "                 n.newreg_net_revenue / n.newreg_period ), 2) \n",
      "                 ELSE 0 \n",
      "               END AS \n",
      "               registration_arpt \n",
      "        FROM   radixbi-249015.prediction_vendors.renews n \n",
      "               LEFT OUTER JOIN radixbi-249015.prediction_vendors.predictions pr \n",
      "                            ON n.domain_id = pr.domain_id \n",
      "                               \n",
      "        WHERE  n.mbg = 0 \n",
      "               AND n.transaction_expiry >= DATETIME('2020-01-01')\n",
      "               AND n.transaction_expiry <= DATETIME('2020-05-31')\n",
      "               AND n.period > 0 \n",
      "               AND ( n.renew_type IN ( 'renewal', 'transfer' ) \n",
      "                      OR n.autorenew_type = 'realized' ) \n",
      " ) AS sub ORDER  BY expiry_date\n"
     ]
    }
   ],
   "source": [
    "# count number of rows we're working with\n",
    "expiry_date_start='2020-01-01'\n",
    "expiry_date_end='2020-05-31'\n",
    "\n",
    "source(\"query_string_defs.R\")\n",
    "\n",
    "writeLines(count_expiry_data_str)"
   ]
  },
  {
   "cell_type": "code",
   "execution_count": 87,
   "metadata": {},
   "outputs": [
    {
     "ename": "ERROR",
     "evalue": "Error: Job 'radixbi-249015.job_6T8fHae5hcYZVQlh0C3BlAnhiy9A.US' failed\n\u001b[31m✖\u001b[39m No matching signature for operator > for argument types: DATETIME, STRING. Supported signatures: ANY > ANY at [11:27] [invalidQuery]\n",
     "output_type": "error",
     "traceback": [
      "Error: Job 'radixbi-249015.job_6T8fHae5hcYZVQlh0C3BlAnhiy9A.US' failed\n\u001b[31m✖\u001b[39m No matching signature for operator > for argument types: DATETIME, STRING. Supported signatures: ANY > ANY at [11:27] [invalidQuery]\nTraceback:\n",
      "1. bq_table_download(bq_project_query(projectid, \"SELECT count(*) FROM ( \\n SELECT 'FirstTime'  AS renewal_type, \\n               '1' AS renewed_count, \\n               n.expiry_date AS Expiry_date, \\n               n.domain_id AS domain_id, \\n               n.domain, \\n               n.creation_date AS creation_date1, \\n               \\n               CASE \\n                 WHEN n.deleted_date IS NOT NULL \\n                      AND n.expiry_date > n.deleted_date THEN 'Deleted' \\n                 ELSE 'Active' \\n               END AS status, \\n               \\n               n.tld AS tld, \\n               n.registrar_shortname AS registrar_shortname, \\n               n.client_shortname AS client_shortname, \\n               n.client_country AS client_country, \\n               n.registrant_country AS registrant_country,\\n\\n               CASE \\n                 WHEN n.client_am IN ( 'Kenneth', 'Kenneth HK' ) THEN 'China' \\n                 ELSE 'Non China' \\n               END AS region,\\n\\n               n.period AS noofyears,\\n\\n               CASE \\n                 WHEN n.r_transfer = 1 THEN 'Transfered' \\n                 WHEN ( n.r_renew_type IN ( 'renewal', 'transfer' ) \\n                         OR n.r_autorenew_type = 'realized' ) THEN 'Renewed' \\n                 ELSE 'Not Renewd' \\n               END AS renewal_status, \\n               \\n               n.r_mbg AS renew_mbg,\\n               n.r_renew_type AS renew_type, \\n               n.r_autorenew_type AS autorenew_type, \\n               n.r_renewed_on AS renew_date, \\n               n.r_registrar_shortname AS Renew_Registrar_Shortname, \\n               n.r_client_shortname AS Renew_Client_Shortname, \\n               Round(n.net_revenue, 2) AS domain_revenue, \\n               Round(( n.net_revenue / n.period ), 2) AS arpt, \\n               \\n               CASE \\n                 WHEN n.deleted_date IS NOT NULL \\n                      AND n.expiry_date > n.deleted_date THEN 0 \\n                 ELSE pr.revised_prediction \\n               END AS prediction,\\n\\n               pr.sld_length AS sld_length, \\n               pr.sld_type AS sld_type, \\n               pr.sld_type2 AS sld_type2, \\n               pr.day_domains AS day_domains, \\n               pr.logarpt AS logarpt, \\n               pr.gibb_score AS gibb_score, \\n               pr.coeff_variation AS coeff_variation, \\n               Round(( n.net_revenue - ( ( CASE \\n                                             WHEN n.centralnic_comm IS NULL THEN \\n                                             0.00 \\n                                             ELSE n.centralnic_comm \\n                                           END ) + ( CASE \\n                                                       WHEN n.icann_comm IS NULL \\n                                                     THEN \\n                                                       0.00 \\n                                                       ELSE \\n                                         n.icann_comm + n.icann_fixed \\n                                                     END ) ) ), 2)   AS gross_profit, \\n               Round(( n.net_revenue - ( ( CASE \\n                                             WHEN n.centralnic_comm IS NULL THEN \\n                                             0.00 \\n                                             ELSE n.centralnic_comm \\n                                           END ) + ( CASE \\n                                                       WHEN n.icann_comm IS NULL \\n                                                     THEN \\n                                                       0.00 \\n                                                       ELSE n.icann_comm \\n                                                     END ) ) ), 2)   AS gp_less_icann_fixed, \\n               n.r_period AS renew_domain_years, \\n               Round(n.r_net_revenue, 2) AS renew_domain_revenue, \\n               Round(( n.r_net_revenue / n.r_period ), 2) AS renew_arpt, \\n               Round(( n.r_net_revenue - ( ( CASE \\n                                               WHEN n.r_centralnic_comm IS NULL \\n                                             THEN \\n                                               0.00 \\n                                               ELSE n.r_centralnic_comm \\n                                             END ) + ( CASE \\n                                                         WHEN \\n                                           n.r_icann_comm IS NULL \\n                                                       THEN 0.00 \\n                                                         ELSE \\n                                           n.r_icann_comm + n.icann_fixed \\n                                                       END ) ) ), 2) AS renew_gross_profit, \\n               Round(( n.r_net_revenue - ( ( CASE \\n                                               WHEN n.r_centralnic_comm IS NULL \\n                                             THEN \\n                                               0.00 \\n                                               ELSE n.r_centralnic_comm \\n                                             END ) + ( CASE \\n                                                         WHEN \\n                                           n.r_icann_comm IS NULL \\n                                                       THEN 0.00 \\n                                                         ELSE n.r_icann_comm \\n                                                       END ) ) ), 2) AS renew_gp_less_icann_fixed, \\n               Round(( n.net_revenue / n.period ), 2) AS registration_arpt \\n\\n\\n               \\n        FROM   radixbi-249015.prediction_vendors.newreg n \\n               LEFT OUTER JOIN radixbi-249015.prediction_vendors.predictions pr \\n                            ON n.domain_id = pr.domain_id \\n                              \\n        WHERE  n.mbg = 0 \\n               AND n.expiry_date >= DATETIME('2020-01-01')\\n               AND n.expiry_date <= DATETIME('2020-05-31')\\n               AND n.period > 0  \\n UNION ALL \\n SELECT CASE \\n                 WHEN renewed_count > 1 THEN 'Subsequent' \\n                 ELSE 'Second' \\n               END AS renewal_type, \\n               ( renewed_count + 1 ) AS renewed_count, \\n               n.transaction_expiry AS Expiry_date, \\n               n.domain_id AS domain_id, \\n               n.domain AS domain, \\n               n.registered_on AS creation_date1, \\n               CASE \\n                 WHEN n.deleted_date IS NOT NULL \\n                      AND n.transaction_expiry > n.deleted_date THEN 'Deleted' \\n                 ELSE 'Active' \\n               END AS status, \\n               n.tld AS tld, \\n               n.registrar_shortname AS registrar_shortname, \\n               n.client_shortname AS client_shortname, \\n               n.client_country AS client_country, \\n               n.registrant_country AS registrant_country,\\n               CASE \\n                 WHEN n.client_am IN ( 'Kenneth', 'Kenneth HK' ) THEN 'China' \\n                 ELSE 'Non China' \\n               END AS region, \\n               n.period AS noofyears, \\n               CASE \\n                 WHEN n.r_transfer = 1 THEN 'Transfered' \\n                 WHEN ( n.r_renew_type IN ( 'renewal', 'transfer' ) \\n                         OR n.r_autorenew_type = 'realized' ) THEN 'Renewed' \\n                 ELSE 'Not Renewd' \\n               END AS renewal_status, \\n               n.r_mbg AS renew_mbg,\\n               n.r_renew_type AS renew_type, \\n               n.r_autorenew_type AS autorenew_type, \\n               n.r_renewed_on AS renew_date, \\n               n.r_registrar_shortname AS Renew_Registrar_Shortname, \\n               n.r_client_shortname AS Renew_Client_Shortname, \\n               Round(n.net_revenue, 2) AS domain_revenue, \\n               Round(( n.net_revenue / n.period ), 2) AS arpt, \\n               CASE \\n                 WHEN n.deleted_date IS NOT NULL \\n                      AND n.expiry_date > n.deleted_date THEN 0 \\n                 ELSE pr.revised_prediction \\n               END AS prediction, \\n               pr.sld_length AS sld_length, \\n               pr.sld_type AS sld_type, \\n               pr.sld_type2 AS sld_type2, \\n               pr.day_domains AS day_domains, \\n               pr.logarpt AS logarpt, \\n               pr.gibb_score AS gibb_score, \\n               pr.coeff_variation AS coeff_variation, \\n               Round(( n.net_revenue - ( ( CASE \\n                                             WHEN n.centralnic_comm IS NULL THEN \\n                                             0.00 \\n                                             ELSE n.centralnic_comm \\n                                           END ) + ( CASE \\n                                                       WHEN n.icann_comm IS NULL \\n                                                     THEN \\n                                                       0.00 \\n                                                       ELSE \\n                                         n.icann_comm + n.icann_fixed \\n                                                     END ) ) ), 2)   AS \\n               gross_profit, \\n               Round(( n.net_revenue - ( ( CASE \\n                                             WHEN n.centralnic_comm IS NULL THEN \\n                                             0.00 \\n                                             ELSE n.centralnic_comm \\n                                           END ) + ( CASE \\n                                                       WHEN n.icann_comm IS NULL \\n                                                     THEN \\n                                                       0.00 \\n                                                       ELSE n.icann_comm \\n                                                     END ) ) ), 2)   AS gp_less_icann_fixed, \\n               n.r_period AS renew_domain_years, \\n               Round(n.r_net_revenue, 2) AS renew_domain_revenue, \\n               Round(( n.r_net_revenue / n.r_period ), 2) AS renew_arpt, \\n               Round(( n.r_net_revenue - ( ( CASE \\n                                               WHEN n.r_centralnic_comm IS NULL \\n                                             THEN \\n                                               0.00 \\n                                               ELSE n.r_centralnic_comm \\n                                             END ) + ( CASE \\n                                                         WHEN \\n                                           n.r_icann_comm IS NULL \\n                                                       THEN 0.00 \\n                                                         ELSE \\n                                           n.r_icann_comm + n.icann_fixed \\n                                                       END ) ) ), 2) AS renew_gross_profit, \\n               Round(( n.r_net_revenue - ( ( CASE \\n                                               WHEN n.r_centralnic_comm IS NULL \\n                                             THEN \\n                                               0.00 \\n                                               ELSE n.r_centralnic_comm \\n                                             END ) + ( CASE \\n                                                         WHEN \\n                                           n.r_icann_comm IS NULL \\n                                                       THEN 0.00 \\n                                                         ELSE n.r_icann_comm \\n                                                       END ) ) ), 2) AS renew_gp_less_icann_fixed, \\n               CASE \\n                 WHEN n.newreg_period IS NOT NULL THEN Round(( \\n                 n.newreg_net_revenue / n.newreg_period ), 2) \\n                 ELSE 0 \\n               END AS \\n               registration_arpt \\n        FROM   radixbi-249015.prediction_vendors.renews n \\n               LEFT OUTER JOIN radixbi-249015.prediction_vendors.predictions pr \\n                            ON n.domain_id = pr.domain_id \\n                               \\n        WHERE  n.mbg = 0 \\n               AND n.transaction_expiry >= DATETIME('2020-01-01')\\n               AND n.transaction_expiry <= DATETIME('2020-05-31')\\n               AND n.period > 0 \\n               AND ( n.renew_type IN ( 'renewal', 'transfer' ) \\n                      OR n.autorenew_type = 'realized' ) \\n ) AS sub ORDER  BY expiry_date\"))",
      "2. as_bq_table(x)",
      "3. bq_project_query(projectid, \"SELECT count(*) FROM ( \\n SELECT 'FirstTime'  AS renewal_type, \\n               '1' AS renewed_count, \\n               n.expiry_date AS Expiry_date, \\n               n.domain_id AS domain_id, \\n               n.domain, \\n               n.creation_date AS creation_date1, \\n               \\n               CASE \\n                 WHEN n.deleted_date IS NOT NULL \\n                      AND n.expiry_date > n.deleted_date THEN 'Deleted' \\n                 ELSE 'Active' \\n               END AS status, \\n               \\n               n.tld AS tld, \\n               n.registrar_shortname AS registrar_shortname, \\n               n.client_shortname AS client_shortname, \\n               n.client_country AS client_country, \\n               n.registrant_country AS registrant_country,\\n\\n               CASE \\n                 WHEN n.client_am IN ( 'Kenneth', 'Kenneth HK' ) THEN 'China' \\n                 ELSE 'Non China' \\n               END AS region,\\n\\n               n.period AS noofyears,\\n\\n               CASE \\n                 WHEN n.r_transfer = 1 THEN 'Transfered' \\n                 WHEN ( n.r_renew_type IN ( 'renewal', 'transfer' ) \\n                         OR n.r_autorenew_type = 'realized' ) THEN 'Renewed' \\n                 ELSE 'Not Renewd' \\n               END AS renewal_status, \\n               \\n               n.r_mbg AS renew_mbg,\\n               n.r_renew_type AS renew_type, \\n               n.r_autorenew_type AS autorenew_type, \\n               n.r_renewed_on AS renew_date, \\n               n.r_registrar_shortname AS Renew_Registrar_Shortname, \\n               n.r_client_shortname AS Renew_Client_Shortname, \\n               Round(n.net_revenue, 2) AS domain_revenue, \\n               Round(( n.net_revenue / n.period ), 2) AS arpt, \\n               \\n               CASE \\n                 WHEN n.deleted_date IS NOT NULL \\n                      AND n.expiry_date > n.deleted_date THEN 0 \\n                 ELSE pr.revised_prediction \\n               END AS prediction,\\n\\n               pr.sld_length AS sld_length, \\n               pr.sld_type AS sld_type, \\n               pr.sld_type2 AS sld_type2, \\n               pr.day_domains AS day_domains, \\n               pr.logarpt AS logarpt, \\n               pr.gibb_score AS gibb_score, \\n               pr.coeff_variation AS coeff_variation, \\n               Round(( n.net_revenue - ( ( CASE \\n                                             WHEN n.centralnic_comm IS NULL THEN \\n                                             0.00 \\n                                             ELSE n.centralnic_comm \\n                                           END ) + ( CASE \\n                                                       WHEN n.icann_comm IS NULL \\n                                                     THEN \\n                                                       0.00 \\n                                                       ELSE \\n                                         n.icann_comm + n.icann_fixed \\n                                                     END ) ) ), 2)   AS gross_profit, \\n               Round(( n.net_revenue - ( ( CASE \\n                                             WHEN n.centralnic_comm IS NULL THEN \\n                                             0.00 \\n                                             ELSE n.centralnic_comm \\n                                           END ) + ( CASE \\n                                                       WHEN n.icann_comm IS NULL \\n                                                     THEN \\n                                                       0.00 \\n                                                       ELSE n.icann_comm \\n                                                     END ) ) ), 2)   AS gp_less_icann_fixed, \\n               n.r_period AS renew_domain_years, \\n               Round(n.r_net_revenue, 2) AS renew_domain_revenue, \\n               Round(( n.r_net_revenue / n.r_period ), 2) AS renew_arpt, \\n               Round(( n.r_net_revenue - ( ( CASE \\n                                               WHEN n.r_centralnic_comm IS NULL \\n                                             THEN \\n                                               0.00 \\n                                               ELSE n.r_centralnic_comm \\n                                             END ) + ( CASE \\n                                                         WHEN \\n                                           n.r_icann_comm IS NULL \\n                                                       THEN 0.00 \\n                                                         ELSE \\n                                           n.r_icann_comm + n.icann_fixed \\n                                                       END ) ) ), 2) AS renew_gross_profit, \\n               Round(( n.r_net_revenue - ( ( CASE \\n                                               WHEN n.r_centralnic_comm IS NULL \\n                                             THEN \\n                                               0.00 \\n                                               ELSE n.r_centralnic_comm \\n                                             END ) + ( CASE \\n                                                         WHEN \\n                                           n.r_icann_comm IS NULL \\n                                                       THEN 0.00 \\n                                                         ELSE n.r_icann_comm \\n                                                       END ) ) ), 2) AS renew_gp_less_icann_fixed, \\n               Round(( n.net_revenue / n.period ), 2) AS registration_arpt \\n\\n\\n               \\n        FROM   radixbi-249015.prediction_vendors.newreg n \\n               LEFT OUTER JOIN radixbi-249015.prediction_vendors.predictions pr \\n                            ON n.domain_id = pr.domain_id \\n                              \\n        WHERE  n.mbg = 0 \\n               AND n.expiry_date >= DATETIME('2020-01-01')\\n               AND n.expiry_date <= DATETIME('2020-05-31')\\n               AND n.period > 0  \\n UNION ALL \\n SELECT CASE \\n                 WHEN renewed_count > 1 THEN 'Subsequent' \\n                 ELSE 'Second' \\n               END AS renewal_type, \\n               ( renewed_count + 1 ) AS renewed_count, \\n               n.transaction_expiry AS Expiry_date, \\n               n.domain_id AS domain_id, \\n               n.domain AS domain, \\n               n.registered_on AS creation_date1, \\n               CASE \\n                 WHEN n.deleted_date IS NOT NULL \\n                      AND n.transaction_expiry > n.deleted_date THEN 'Deleted' \\n                 ELSE 'Active' \\n               END AS status, \\n               n.tld AS tld, \\n               n.registrar_shortname AS registrar_shortname, \\n               n.client_shortname AS client_shortname, \\n               n.client_country AS client_country, \\n               n.registrant_country AS registrant_country,\\n               CASE \\n                 WHEN n.client_am IN ( 'Kenneth', 'Kenneth HK' ) THEN 'China' \\n                 ELSE 'Non China' \\n               END AS region, \\n               n.period AS noofyears, \\n               CASE \\n                 WHEN n.r_transfer = 1 THEN 'Transfered' \\n                 WHEN ( n.r_renew_type IN ( 'renewal', 'transfer' ) \\n                         OR n.r_autorenew_type = 'realized' ) THEN 'Renewed' \\n                 ELSE 'Not Renewd' \\n               END AS renewal_status, \\n               n.r_mbg AS renew_mbg,\\n               n.r_renew_type AS renew_type, \\n               n.r_autorenew_type AS autorenew_type, \\n               n.r_renewed_on AS renew_date, \\n               n.r_registrar_shortname AS Renew_Registrar_Shortname, \\n               n.r_client_shortname AS Renew_Client_Shortname, \\n               Round(n.net_revenue, 2) AS domain_revenue, \\n               Round(( n.net_revenue / n.period ), 2) AS arpt, \\n               CASE \\n                 WHEN n.deleted_date IS NOT NULL \\n                      AND n.expiry_date > n.deleted_date THEN 0 \\n                 ELSE pr.revised_prediction \\n               END AS prediction, \\n               pr.sld_length AS sld_length, \\n               pr.sld_type AS sld_type, \\n               pr.sld_type2 AS sld_type2, \\n               pr.day_domains AS day_domains, \\n               pr.logarpt AS logarpt, \\n               pr.gibb_score AS gibb_score, \\n               pr.coeff_variation AS coeff_variation, \\n               Round(( n.net_revenue - ( ( CASE \\n                                             WHEN n.centralnic_comm IS NULL THEN \\n                                             0.00 \\n                                             ELSE n.centralnic_comm \\n                                           END ) + ( CASE \\n                                                       WHEN n.icann_comm IS NULL \\n                                                     THEN \\n                                                       0.00 \\n                                                       ELSE \\n                                         n.icann_comm + n.icann_fixed \\n                                                     END ) ) ), 2)   AS \\n               gross_profit, \\n               Round(( n.net_revenue - ( ( CASE \\n                                             WHEN n.centralnic_comm IS NULL THEN \\n                                             0.00 \\n                                             ELSE n.centralnic_comm \\n                                           END ) + ( CASE \\n                                                       WHEN n.icann_comm IS NULL \\n                                                     THEN \\n                                                       0.00 \\n                                                       ELSE n.icann_comm \\n                                                     END ) ) ), 2)   AS gp_less_icann_fixed, \\n               n.r_period AS renew_domain_years, \\n               Round(n.r_net_revenue, 2) AS renew_domain_revenue, \\n               Round(( n.r_net_revenue / n.r_period ), 2) AS renew_arpt, \\n               Round(( n.r_net_revenue - ( ( CASE \\n                                               WHEN n.r_centralnic_comm IS NULL \\n                                             THEN \\n                                               0.00 \\n                                               ELSE n.r_centralnic_comm \\n                                             END ) + ( CASE \\n                                                         WHEN \\n                                           n.r_icann_comm IS NULL \\n                                                       THEN 0.00 \\n                                                         ELSE \\n                                           n.r_icann_comm + n.icann_fixed \\n                                                       END ) ) ), 2) AS renew_gross_profit, \\n               Round(( n.r_net_revenue - ( ( CASE \\n                                               WHEN n.r_centralnic_comm IS NULL \\n                                             THEN \\n                                               0.00 \\n                                               ELSE n.r_centralnic_comm \\n                                             END ) + ( CASE \\n                                                         WHEN \\n                                           n.r_icann_comm IS NULL \\n                                                       THEN 0.00 \\n                                                         ELSE n.r_icann_comm \\n                                                       END ) ) ), 2) AS renew_gp_less_icann_fixed, \\n               CASE \\n                 WHEN n.newreg_period IS NOT NULL THEN Round(( \\n                 n.newreg_net_revenue / n.newreg_period ), 2) \\n                 ELSE 0 \\n               END AS \\n               registration_arpt \\n        FROM   radixbi-249015.prediction_vendors.renews n \\n               LEFT OUTER JOIN radixbi-249015.prediction_vendors.predictions pr \\n                            ON n.domain_id = pr.domain_id \\n                               \\n        WHERE  n.mbg = 0 \\n               AND n.transaction_expiry >= DATETIME('2020-01-01')\\n               AND n.transaction_expiry <= DATETIME('2020-05-31')\\n               AND n.period > 0 \\n               AND ( n.renew_type IN ( 'renewal', 'transfer' ) \\n                      OR n.autorenew_type = 'realized' ) \\n ) AS sub ORDER  BY expiry_date\")",
      "4. bq_job_wait(job, quiet = quiet)",
      "5. rlang::abort(c(paste0(\"Job '\", if (!isTRUE(quiet)) x, \"' failed\"), \n .     bullets))",
      "6. signal_abort(cnd)"
     ]
    }
   ],
   "source": [
    "test_df <- bq_table_download(bq_project_query(projectid, \n",
    "                                             \"\"))\n",
    "test_df"
   ]
  },
  {
   "cell_type": "code",
   "execution_count": 29,
   "metadata": {},
   "outputs": [
    {
     "ename": "ERROR",
     "evalue": "Error: Job 'radixbi-249015.job_D0kw5kGwzlOj2aHmwU29sQxk_vUA.US' failed\n\u001b[31m✖\u001b[39m Unrecognized name: id at [1:8] [invalidQuery]\n",
     "output_type": "error",
     "traceback": [
      "Error: Job 'radixbi-249015.job_D0kw5kGwzlOj2aHmwU29sQxk_vUA.US' failed\n\u001b[31m✖\u001b[39m Unrecognized name: id at [1:8] [invalidQuery]\nTraceback:\n",
      "1. bq_table_download(bq_project_query(projectid, sql))",
      "2. as_bq_table(x)",
      "3. bq_project_query(projectid, sql)",
      "4. bq_job_wait(job, quiet = quiet)",
      "5. rlang::abort(c(paste0(\"Job '\", if (!isTRUE(quiet)) x, \"' failed\"), \n .     bullets))",
      "6. signal_abort(cnd)"
     ]
    }
   ],
   "source": [
    "sql <- sprintf(\"SELECT * LIKE \n",
    "          FROM radixbi-249015.prediction_vendors.renews\n",
    "          LIMIT 10;\")\n",
    "test_df <- bq_table_download(bq_project_query(projectid, sql))\n",
    "test_df"
   ]
  },
  {
   "cell_type": "code",
   "execution_count": null,
   "metadata": {},
   "outputs": [],
   "source": []
  },
  {
   "cell_type": "code",
   "execution_count": 16,
   "metadata": {},
   "outputs": [],
   "source": [
    "get_expiry_data_str <- sprintf(\"SELECT * FROM   \n",
    "      (SELECT 'FirstTime'  AS renewal_type, \n",
    "               '1' AS renewed_count, \n",
    "               n.expiry_date AS Expiry_date, \n",
    "               n.id AS domain_id, \n",
    "               n.domain, \n",
    "               n.creation_date AS creation_date1, \n",
    "               \n",
    "               CASE \n",
    "                 WHEN n.deleted_date IS NOT NULL \n",
    "                      AND n.expiry_date > n.deleted_date THEN 'Deleted' \n",
    "                 ELSE 'Active' \n",
    "               END AS status, \n",
    "               \n",
    "               n.tld AS tld, \n",
    "               n.registrar_shortname AS registrar_shortname, \n",
    "               n.client_shortname AS client_shortname, \n",
    "               n.client_country AS client_country, \n",
    "               n.registrant_country AS registrant_country,\n",
    "\n",
    "               CASE \n",
    "                 WHEN n.client_am IN ( 'Kenneth', 'Kenneth HK' ) THEN 'China' \n",
    "                 ELSE 'Non China' \n",
    "               END AS region,\n",
    "\n",
    "               n.period AS noofyears,\n",
    "\n",
    "               CASE \n",
    "                 WHEN n.r_transfer = 1 THEN 'Transfered' \n",
    "                 WHEN ( n.r_renew_type IN ( 'renewal', 'transfer' ) \n",
    "                         OR n.r_autorenew_type = 'realized' ) THEN 'Renewed' \n",
    "                 ELSE 'Not Renewd' \n",
    "               END AS renewal_status, \n",
    "               \n",
    "               n.r_mbg AS renew_mbg,\n",
    "               n.r_renew_type AS renew_type, \n",
    "               n.r_autorenew_type AS autorenew_type, \n",
    "               n.r_renewed_on AS renew_date, \n",
    "               n.r_registrar_shortname AS Renew_Registrar_Shortname, \n",
    "               n.r_client_shortname AS Renew_Client_Shortname, \n",
    "               Round(n.net_revenue, 2) AS domain_revenue, \n",
    "               Round(( n.net_revenue / n.period ), 2) AS arpt, \n",
    "               \n",
    "               CASE \n",
    "                 WHEN n.deleted_date IS NOT NULL \n",
    "                      AND n.expiry_date > n.deleted_date THEN 0 \n",
    "                 ELSE pr.revised_prediction \n",
    "               END AS prediction,\n",
    "\n",
    "               pr.sld_length AS sld_length, \n",
    "               pr.sld_type AS sld_type, \n",
    "               pr.sld_type2 AS sld_type2, \n",
    "               pr.day_domains AS day_domains, \n",
    "               pr.logarpt AS logarpt, \n",
    "               pr.gibb_score AS gibb_score, \n",
    "               pr.coeff_variation AS coeff_variation, \n",
    "               Round(( n.net_revenue - ( ( CASE \n",
    "                                             WHEN n.centralnic_comm IS NULL THEN \n",
    "                                             0.00 \n",
    "                                             ELSE n.centralnic_comm \n",
    "                                           END ) + ( CASE \n",
    "                                                       WHEN n.icann_comm IS NULL \n",
    "                                                     THEN \n",
    "                                                       0.00 \n",
    "                                                       ELSE \n",
    "                                         n.icann_comm + n.icann_fixed \n",
    "                                                     END ) ) ), 2)   AS gross_profit, \n",
    "               Round(( n.net_revenue - ( ( CASE \n",
    "                                             WHEN n.centralnic_comm IS NULL THEN \n",
    "                                             0.00 \n",
    "                                             ELSE n.centralnic_comm \n",
    "                                           END ) + ( CASE \n",
    "                                                       WHEN n.icann_comm IS NULL \n",
    "                                                     THEN \n",
    "                                                       0.00 \n",
    "                                                       ELSE n.icann_comm \n",
    "                                                     END ) ) ), 2)   AS gp_less_icann_fixed, \n",
    "               n.r_period AS renew_domain_years, \n",
    "               Round(n.r_net_revenue, 2) AS renew_domain_revenue, \n",
    "               Round(( n.r_net_revenue / n.r_period ), 2) AS renew_arpt, \n",
    "               Round(( n.r_net_revenue - ( ( CASE \n",
    "                                               WHEN n.r_centralnic_comm IS NULL \n",
    "                                             THEN \n",
    "                                               0.00 \n",
    "                                               ELSE n.r_centralnic_comm \n",
    "                                             END ) + ( CASE \n",
    "                                                         WHEN \n",
    "                                           n.r_icann_comm IS NULL \n",
    "                                                       THEN 0.00 \n",
    "                                                         ELSE \n",
    "                                           n.r_icann_comm + n.icann_fixed \n",
    "                                                       END ) ) ), 2) AS renew_gross_profit, \n",
    "               Round(( n.r_net_revenue - ( ( CASE \n",
    "                                               WHEN n.r_centralnic_comm IS NULL \n",
    "                                             THEN \n",
    "                                               0.00 \n",
    "                                               ELSE n.r_centralnic_comm \n",
    "                                             END ) + ( CASE \n",
    "                                                         WHEN \n",
    "                                           n.r_icann_comm IS NULL \n",
    "                                                       THEN 0.00 \n",
    "                                                         ELSE n.r_icann_comm \n",
    "                                                       END ) ) ), 2) AS renew_gp_less_icann_fixed, \n",
    "               Round(( n.net_revenue / n.period ), 2) AS registration_arpt \n",
    "\n",
    "\n",
    "               \n",
    "        FROM   radixbi-249015.newreg n \n",
    "               LEFT OUTER JOIN radixbi-249015.predictions pr \n",
    "                            ON n.id = pr.domain_id \n",
    "                               AND pr.type = 'FirstTime' \n",
    "        WHERE  n.mbg = 0 \n",
    "               AND n.expiry_date >= '%s' \n",
    "               AND n.expiry_date <= '%s' \n",
    "               AND n.period > 0 \n",
    "\", expiry_date_start, expiry_date_end)"
   ]
  },
  {
   "cell_type": "code",
   "execution_count": 17,
   "metadata": {},
   "outputs": [
    {
     "data": {
      "text/html": [
       "<span style=white-space:pre-wrap>'SELECT * FROM   \\n      (SELECT \\'FirstTime\\'  AS renewal_type, \\n               \\'1\\' AS renewed_count, \\n               n.expiry_date AS Expiry_date, \\n               n.id AS domain_id, \\n               n.domain, \\n               n.creation_date AS creation_date1, \\n               \\n               CASE \\n                 WHEN n.deleted_date IS NOT NULL \\n                      AND n.expiry_date &gt; n.deleted_date THEN \\'Deleted\\' \\n                 ELSE \\'Active\\' \\n               END AS status, \\n               \\n               n.tld AS tld, \\n               n.registrar_shortname AS registrar_shortname, \\n               n.client_shortname AS client_shortname, \\n               n.client_country AS client_country, \\n               n.registrant_country AS registrant_country,\\n\\n               CASE \\n                 WHEN n.client_am IN ( \\'Kenneth\\', \\'Kenneth HK\\' ) THEN \\'China\\' \\n                 ELSE \\'Non China\\' \\n               END AS region,\\n\\n               n.period AS noofyears,\\n\\n               CASE \\n                 WHEN n.r_transfer = 1 THEN \\'Transfered\\' \\n                 WHEN ( n.r_renew_type IN ( \\'renewal\\', \\'transfer\\' ) \\n                         OR n.r_autorenew_type = \\'realized\\' ) THEN \\'Renewed\\' \\n                 ELSE \\'Not Renewd\\' \\n               END AS renewal_status, \\n               \\n               n.r_mbg AS renew_mbg,\\n               n.r_renew_type AS renew_type, \\n               n.r_autorenew_type AS autorenew_type, \\n               n.r_renewed_on AS renew_date, \\n               n.r_registrar_shortname AS Renew_Registrar_Shortname, \\n               n.r_client_shortname AS Renew_Client_Shortname, \\n               Round(n.net_revenue, 2) AS domain_revenue, \\n               Round(( n.net_revenue / n.period ), 2) AS arpt, \\n               \\n               CASE \\n                 WHEN n.deleted_date IS NOT NULL \\n                      AND n.expiry_date &gt; n.deleted_date THEN 0 \\n                 ELSE pr.revised_prediction \\n               END AS prediction,\\n\\n               pr.sld_length AS sld_length, \\n               pr.sld_type AS sld_type, \\n               pr.sld_type2 AS sld_type2, \\n               pr.day_domains AS day_domains, \\n               pr.logarpt AS logarpt, \\n               pr.gibb_score AS gibb_score, \\n               pr.coeff_variation AS coeff_variation, \\n               Round(( n.net_revenue - ( ( CASE \\n                                             WHEN n.centralnic_comm IS NULL THEN \\n                                             0.00 \\n                                             ELSE n.centralnic_comm \\n                                           END ) + ( CASE \\n                                                       WHEN n.icann_comm IS NULL \\n                                                     THEN \\n                                                       0.00 \\n                                                       ELSE \\n                                         n.icann_comm + n.icann_fixed \\n                                                     END ) ) ), 2)   AS gross_profit, \\n               Round(( n.net_revenue - ( ( CASE \\n                                             WHEN n.centralnic_comm IS NULL THEN \\n                                             0.00 \\n                                             ELSE n.centralnic_comm \\n                                           END ) + ( CASE \\n                                                       WHEN n.icann_comm IS NULL \\n                                                     THEN \\n                                                       0.00 \\n                                                       ELSE n.icann_comm \\n                                                     END ) ) ), 2)   AS gp_less_icann_fixed, \\n               n.r_period AS renew_domain_years, \\n               Round(n.r_net_revenue, 2) AS renew_domain_revenue, \\n               Round(( n.r_net_revenue / n.r_period ), 2) AS renew_arpt, \\n               Round(( n.r_net_revenue - ( ( CASE \\n                                               WHEN n.r_centralnic_comm IS NULL \\n                                             THEN \\n                                               0.00 \\n                                               ELSE n.r_centralnic_comm \\n                                             END ) + ( CASE \\n                                                         WHEN \\n                                           n.r_icann_comm IS NULL \\n                                                       THEN 0.00 \\n                                                         ELSE \\n                                           n.r_icann_comm + n.icann_fixed \\n                                                       END ) ) ), 2) AS renew_gross_profit, \\n               Round(( n.r_net_revenue - ( ( CASE \\n                                               WHEN n.r_centralnic_comm IS NULL \\n                                             THEN \\n                                               0.00 \\n                                               ELSE n.r_centralnic_comm \\n                                             END ) + ( CASE \\n                                                         WHEN \\n                                           n.r_icann_comm IS NULL \\n                                                       THEN 0.00 \\n                                                         ELSE n.r_icann_comm \\n                                                       END ) ) ), 2) AS renew_gp_less_icann_fixed, \\n               Round(( n.net_revenue / n.period ), 2) AS registration_arpt \\n\\n\\n               \\n        FROM   radixbi-249015.newreg n \\n               LEFT OUTER JOIN radixbi-249015.predictions pr \\n                            ON n.id = pr.domain_id \\n                               AND pr.type = \\'FirstTime\\' \\n        WHERE  n.mbg = 0 \\n               AND n.expiry_date &gt;= \\'2020-01-01\\' \\n               AND n.expiry_date &lt;= \\'2020-05-31\\' \\n               AND n.period &gt; 0 \\n'</span>"
      ],
      "text/latex": [
       "'SELECT * FROM   \\textbackslash{}n      (SELECT \\textbackslash{}'FirstTime\\textbackslash{}'  AS renewal\\_type, \\textbackslash{}n               \\textbackslash{}'1\\textbackslash{}' AS renewed\\_count, \\textbackslash{}n               n.expiry\\_date AS Expiry\\_date, \\textbackslash{}n               n.id AS domain\\_id, \\textbackslash{}n               n.domain, \\textbackslash{}n               n.creation\\_date AS creation\\_date1, \\textbackslash{}n               \\textbackslash{}n               CASE \\textbackslash{}n                 WHEN n.deleted\\_date IS NOT NULL \\textbackslash{}n                      AND n.expiry\\_date > n.deleted\\_date THEN \\textbackslash{}'Deleted\\textbackslash{}' \\textbackslash{}n                 ELSE \\textbackslash{}'Active\\textbackslash{}' \\textbackslash{}n               END AS status, \\textbackslash{}n               \\textbackslash{}n               n.tld AS tld, \\textbackslash{}n               n.registrar\\_shortname AS registrar\\_shortname, \\textbackslash{}n               n.client\\_shortname AS client\\_shortname, \\textbackslash{}n               n.client\\_country AS client\\_country, \\textbackslash{}n               n.registrant\\_country AS registrant\\_country,\\textbackslash{}n\\textbackslash{}n               CASE \\textbackslash{}n                 WHEN n.client\\_am IN ( \\textbackslash{}'Kenneth\\textbackslash{}', \\textbackslash{}'Kenneth HK\\textbackslash{}' ) THEN \\textbackslash{}'China\\textbackslash{}' \\textbackslash{}n                 ELSE \\textbackslash{}'Non China\\textbackslash{}' \\textbackslash{}n               END AS region,\\textbackslash{}n\\textbackslash{}n               n.period AS noofyears,\\textbackslash{}n\\textbackslash{}n               CASE \\textbackslash{}n                 WHEN n.r\\_transfer = 1 THEN \\textbackslash{}'Transfered\\textbackslash{}' \\textbackslash{}n                 WHEN ( n.r\\_renew\\_type IN ( \\textbackslash{}'renewal\\textbackslash{}', \\textbackslash{}'transfer\\textbackslash{}' ) \\textbackslash{}n                         OR n.r\\_autorenew\\_type = \\textbackslash{}'realized\\textbackslash{}' ) THEN \\textbackslash{}'Renewed\\textbackslash{}' \\textbackslash{}n                 ELSE \\textbackslash{}'Not Renewd\\textbackslash{}' \\textbackslash{}n               END AS renewal\\_status, \\textbackslash{}n               \\textbackslash{}n               n.r\\_mbg AS renew\\_mbg,\\textbackslash{}n               n.r\\_renew\\_type AS renew\\_type, \\textbackslash{}n               n.r\\_autorenew\\_type AS autorenew\\_type, \\textbackslash{}n               n.r\\_renewed\\_on AS renew\\_date, \\textbackslash{}n               n.r\\_registrar\\_shortname AS Renew\\_Registrar\\_Shortname, \\textbackslash{}n               n.r\\_client\\_shortname AS Renew\\_Client\\_Shortname, \\textbackslash{}n               Round(n.net\\_revenue, 2) AS domain\\_revenue, \\textbackslash{}n               Round(( n.net\\_revenue / n.period ), 2) AS arpt, \\textbackslash{}n               \\textbackslash{}n               CASE \\textbackslash{}n                 WHEN n.deleted\\_date IS NOT NULL \\textbackslash{}n                      AND n.expiry\\_date > n.deleted\\_date THEN 0 \\textbackslash{}n                 ELSE pr.revised\\_prediction \\textbackslash{}n               END AS prediction,\\textbackslash{}n\\textbackslash{}n               pr.sld\\_length AS sld\\_length, \\textbackslash{}n               pr.sld\\_type AS sld\\_type, \\textbackslash{}n               pr.sld\\_type2 AS sld\\_type2, \\textbackslash{}n               pr.day\\_domains AS day\\_domains, \\textbackslash{}n               pr.logarpt AS logarpt, \\textbackslash{}n               pr.gibb\\_score AS gibb\\_score, \\textbackslash{}n               pr.coeff\\_variation AS coeff\\_variation, \\textbackslash{}n               Round(( n.net\\_revenue - ( ( CASE \\textbackslash{}n                                             WHEN n.centralnic\\_comm IS NULL THEN \\textbackslash{}n                                             0.00 \\textbackslash{}n                                             ELSE n.centralnic\\_comm \\textbackslash{}n                                           END ) + ( CASE \\textbackslash{}n                                                       WHEN n.icann\\_comm IS NULL \\textbackslash{}n                                                     THEN \\textbackslash{}n                                                       0.00 \\textbackslash{}n                                                       ELSE \\textbackslash{}n                                         n.icann\\_comm + n.icann\\_fixed \\textbackslash{}n                                                     END ) ) ), 2)   AS gross\\_profit, \\textbackslash{}n               Round(( n.net\\_revenue - ( ( CASE \\textbackslash{}n                                             WHEN n.centralnic\\_comm IS NULL THEN \\textbackslash{}n                                             0.00 \\textbackslash{}n                                             ELSE n.centralnic\\_comm \\textbackslash{}n                                           END ) + ( CASE \\textbackslash{}n                                                       WHEN n.icann\\_comm IS NULL \\textbackslash{}n                                                     THEN \\textbackslash{}n                                                       0.00 \\textbackslash{}n                                                       ELSE n.icann\\_comm \\textbackslash{}n                                                     END ) ) ), 2)   AS gp\\_less\\_icann\\_fixed, \\textbackslash{}n               n.r\\_period AS renew\\_domain\\_years, \\textbackslash{}n               Round(n.r\\_net\\_revenue, 2) AS renew\\_domain\\_revenue, \\textbackslash{}n               Round(( n.r\\_net\\_revenue / n.r\\_period ), 2) AS renew\\_arpt, \\textbackslash{}n               Round(( n.r\\_net\\_revenue - ( ( CASE \\textbackslash{}n                                               WHEN n.r\\_centralnic\\_comm IS NULL \\textbackslash{}n                                             THEN \\textbackslash{}n                                               0.00 \\textbackslash{}n                                               ELSE n.r\\_centralnic\\_comm \\textbackslash{}n                                             END ) + ( CASE \\textbackslash{}n                                                         WHEN \\textbackslash{}n                                           n.r\\_icann\\_comm IS NULL \\textbackslash{}n                                                       THEN 0.00 \\textbackslash{}n                                                         ELSE \\textbackslash{}n                                           n.r\\_icann\\_comm + n.icann\\_fixed \\textbackslash{}n                                                       END ) ) ), 2) AS renew\\_gross\\_profit, \\textbackslash{}n               Round(( n.r\\_net\\_revenue - ( ( CASE \\textbackslash{}n                                               WHEN n.r\\_centralnic\\_comm IS NULL \\textbackslash{}n                                             THEN \\textbackslash{}n                                               0.00 \\textbackslash{}n                                               ELSE n.r\\_centralnic\\_comm \\textbackslash{}n                                             END ) + ( CASE \\textbackslash{}n                                                         WHEN \\textbackslash{}n                                           n.r\\_icann\\_comm IS NULL \\textbackslash{}n                                                       THEN 0.00 \\textbackslash{}n                                                         ELSE n.r\\_icann\\_comm \\textbackslash{}n                                                       END ) ) ), 2) AS renew\\_gp\\_less\\_icann\\_fixed, \\textbackslash{}n               Round(( n.net\\_revenue / n.period ), 2) AS registration\\_arpt \\textbackslash{}n\\textbackslash{}n\\textbackslash{}n               \\textbackslash{}n        FROM   radixbi-249015.newreg n \\textbackslash{}n               LEFT OUTER JOIN radixbi-249015.predictions pr \\textbackslash{}n                            ON n.id = pr.domain\\_id \\textbackslash{}n                               AND pr.type = \\textbackslash{}'FirstTime\\textbackslash{}' \\textbackslash{}n        WHERE  n.mbg = 0 \\textbackslash{}n               AND n.expiry\\_date >= \\textbackslash{}'2020-01-01\\textbackslash{}' \\textbackslash{}n               AND n.expiry\\_date <= \\textbackslash{}'2020-05-31\\textbackslash{}' \\textbackslash{}n               AND n.period > 0 \\textbackslash{}n'"
      ],
      "text/markdown": [
       "<span style=white-space:pre-wrap>'SELECT * FROM   \\n      (SELECT \\'FirstTime\\'  AS renewal_type, \\n               \\'1\\' AS renewed_count, \\n               n.expiry_date AS Expiry_date, \\n               n.id AS domain_id, \\n               n.domain, \\n               n.creation_date AS creation_date1, \\n               \\n               CASE \\n                 WHEN n.deleted_date IS NOT NULL \\n                      AND n.expiry_date &gt; n.deleted_date THEN \\'Deleted\\' \\n                 ELSE \\'Active\\' \\n               END AS status, \\n               \\n               n.tld AS tld, \\n               n.registrar_shortname AS registrar_shortname, \\n               n.client_shortname AS client_shortname, \\n               n.client_country AS client_country, \\n               n.registrant_country AS registrant_country,\\n\\n               CASE \\n                 WHEN n.client_am IN ( \\'Kenneth\\', \\'Kenneth HK\\' ) THEN \\'China\\' \\n                 ELSE \\'Non China\\' \\n               END AS region,\\n\\n               n.period AS noofyears,\\n\\n               CASE \\n                 WHEN n.r_transfer = 1 THEN \\'Transfered\\' \\n                 WHEN ( n.r_renew_type IN ( \\'renewal\\', \\'transfer\\' ) \\n                         OR n.r_autorenew_type = \\'realized\\' ) THEN \\'Renewed\\' \\n                 ELSE \\'Not Renewd\\' \\n               END AS renewal_status, \\n               \\n               n.r_mbg AS renew_mbg,\\n               n.r_renew_type AS renew_type, \\n               n.r_autorenew_type AS autorenew_type, \\n               n.r_renewed_on AS renew_date, \\n               n.r_registrar_shortname AS Renew_Registrar_Shortname, \\n               n.r_client_shortname AS Renew_Client_Shortname, \\n               Round(n.net_revenue, 2) AS domain_revenue, \\n               Round(( n.net_revenue / n.period ), 2) AS arpt, \\n               \\n               CASE \\n                 WHEN n.deleted_date IS NOT NULL \\n                      AND n.expiry_date &gt; n.deleted_date THEN 0 \\n                 ELSE pr.revised_prediction \\n               END AS prediction,\\n\\n               pr.sld_length AS sld_length, \\n               pr.sld_type AS sld_type, \\n               pr.sld_type2 AS sld_type2, \\n               pr.day_domains AS day_domains, \\n               pr.logarpt AS logarpt, \\n               pr.gibb_score AS gibb_score, \\n               pr.coeff_variation AS coeff_variation, \\n               Round(( n.net_revenue - ( ( CASE \\n                                             WHEN n.centralnic_comm IS NULL THEN \\n                                             0.00 \\n                                             ELSE n.centralnic_comm \\n                                           END ) + ( CASE \\n                                                       WHEN n.icann_comm IS NULL \\n                                                     THEN \\n                                                       0.00 \\n                                                       ELSE \\n                                         n.icann_comm + n.icann_fixed \\n                                                     END ) ) ), 2)   AS gross_profit, \\n               Round(( n.net_revenue - ( ( CASE \\n                                             WHEN n.centralnic_comm IS NULL THEN \\n                                             0.00 \\n                                             ELSE n.centralnic_comm \\n                                           END ) + ( CASE \\n                                                       WHEN n.icann_comm IS NULL \\n                                                     THEN \\n                                                       0.00 \\n                                                       ELSE n.icann_comm \\n                                                     END ) ) ), 2)   AS gp_less_icann_fixed, \\n               n.r_period AS renew_domain_years, \\n               Round(n.r_net_revenue, 2) AS renew_domain_revenue, \\n               Round(( n.r_net_revenue / n.r_period ), 2) AS renew_arpt, \\n               Round(( n.r_net_revenue - ( ( CASE \\n                                               WHEN n.r_centralnic_comm IS NULL \\n                                             THEN \\n                                               0.00 \\n                                               ELSE n.r_centralnic_comm \\n                                             END ) + ( CASE \\n                                                         WHEN \\n                                           n.r_icann_comm IS NULL \\n                                                       THEN 0.00 \\n                                                         ELSE \\n                                           n.r_icann_comm + n.icann_fixed \\n                                                       END ) ) ), 2) AS renew_gross_profit, \\n               Round(( n.r_net_revenue - ( ( CASE \\n                                               WHEN n.r_centralnic_comm IS NULL \\n                                             THEN \\n                                               0.00 \\n                                               ELSE n.r_centralnic_comm \\n                                             END ) + ( CASE \\n                                                         WHEN \\n                                           n.r_icann_comm IS NULL \\n                                                       THEN 0.00 \\n                                                         ELSE n.r_icann_comm \\n                                                       END ) ) ), 2) AS renew_gp_less_icann_fixed, \\n               Round(( n.net_revenue / n.period ), 2) AS registration_arpt \\n\\n\\n               \\n        FROM   radixbi-249015.newreg n \\n               LEFT OUTER JOIN radixbi-249015.predictions pr \\n                            ON n.id = pr.domain_id \\n                               AND pr.type = \\'FirstTime\\' \\n        WHERE  n.mbg = 0 \\n               AND n.expiry_date &gt;= \\'2020-01-01\\' \\n               AND n.expiry_date &lt;= \\'2020-05-31\\' \\n               AND n.period &gt; 0 \\n'</span>"
      ],
      "text/plain": [
       "[1] \"SELECT * FROM   \\n      (SELECT 'FirstTime'  AS renewal_type, \\n               '1' AS renewed_count, \\n               n.expiry_date AS Expiry_date, \\n               n.id AS domain_id, \\n               n.domain, \\n               n.creation_date AS creation_date1, \\n               \\n               CASE \\n                 WHEN n.deleted_date IS NOT NULL \\n                      AND n.expiry_date > n.deleted_date THEN 'Deleted' \\n                 ELSE 'Active' \\n               END AS status, \\n               \\n               n.tld AS tld, \\n               n.registrar_shortname AS registrar_shortname, \\n               n.client_shortname AS client_shortname, \\n               n.client_country AS client_country, \\n               n.registrant_country AS registrant_country,\\n\\n               CASE \\n                 WHEN n.client_am IN ( 'Kenneth', 'Kenneth HK' ) THEN 'China' \\n                 ELSE 'Non China' \\n               END AS region,\\n\\n               n.period AS noofyears,\\n\\n               CASE \\n                 WHEN n.r_transfer = 1 THEN 'Transfered' \\n                 WHEN ( n.r_renew_type IN ( 'renewal', 'transfer' ) \\n                         OR n.r_autorenew_type = 'realized' ) THEN 'Renewed' \\n                 ELSE 'Not Renewd' \\n               END AS renewal_status, \\n               \\n               n.r_mbg AS renew_mbg,\\n               n.r_renew_type AS renew_type, \\n               n.r_autorenew_type AS autorenew_type, \\n               n.r_renewed_on AS renew_date, \\n               n.r_registrar_shortname AS Renew_Registrar_Shortname, \\n               n.r_client_shortname AS Renew_Client_Shortname, \\n               Round(n.net_revenue, 2) AS domain_revenue, \\n               Round(( n.net_revenue / n.period ), 2) AS arpt, \\n               \\n               CASE \\n                 WHEN n.deleted_date IS NOT NULL \\n                      AND n.expiry_date > n.deleted_date THEN 0 \\n                 ELSE pr.revised_prediction \\n               END AS prediction,\\n\\n               pr.sld_length AS sld_length, \\n               pr.sld_type AS sld_type, \\n               pr.sld_type2 AS sld_type2, \\n               pr.day_domains AS day_domains, \\n               pr.logarpt AS logarpt, \\n               pr.gibb_score AS gibb_score, \\n               pr.coeff_variation AS coeff_variation, \\n               Round(( n.net_revenue - ( ( CASE \\n                                             WHEN n.centralnic_comm IS NULL THEN \\n                                             0.00 \\n                                             ELSE n.centralnic_comm \\n                                           END ) + ( CASE \\n                                                       WHEN n.icann_comm IS NULL \\n                                                     THEN \\n                                                       0.00 \\n                                                       ELSE \\n                                         n.icann_comm + n.icann_fixed \\n                                                     END ) ) ), 2)   AS gross_profit, \\n               Round(( n.net_revenue - ( ( CASE \\n                                             WHEN n.centralnic_comm IS NULL THEN \\n                                             0.00 \\n                                             ELSE n.centralnic_comm \\n                                           END ) + ( CASE \\n                                                       WHEN n.icann_comm IS NULL \\n                                                     THEN \\n                                                       0.00 \\n                                                       ELSE n.icann_comm \\n                                                     END ) ) ), 2)   AS gp_less_icann_fixed, \\n               n.r_period AS renew_domain_years, \\n               Round(n.r_net_revenue, 2) AS renew_domain_revenue, \\n               Round(( n.r_net_revenue / n.r_period ), 2) AS renew_arpt, \\n               Round(( n.r_net_revenue - ( ( CASE \\n                                               WHEN n.r_centralnic_comm IS NULL \\n                                             THEN \\n                                               0.00 \\n                                               ELSE n.r_centralnic_comm \\n                                             END ) + ( CASE \\n                                                         WHEN \\n                                           n.r_icann_comm IS NULL \\n                                                       THEN 0.00 \\n                                                         ELSE \\n                                           n.r_icann_comm + n.icann_fixed \\n                                                       END ) ) ), 2) AS renew_gross_profit, \\n               Round(( n.r_net_revenue - ( ( CASE \\n                                               WHEN n.r_centralnic_comm IS NULL \\n                                             THEN \\n                                               0.00 \\n                                               ELSE n.r_centralnic_comm \\n                                             END ) + ( CASE \\n                                                         WHEN \\n                                           n.r_icann_comm IS NULL \\n                                                       THEN 0.00 \\n                                                         ELSE n.r_icann_comm \\n                                                       END ) ) ), 2) AS renew_gp_less_icann_fixed, \\n               Round(( n.net_revenue / n.period ), 2) AS registration_arpt \\n\\n\\n               \\n        FROM   radixbi-249015.newreg n \\n               LEFT OUTER JOIN radixbi-249015.predictions pr \\n                            ON n.id = pr.domain_id \\n                               AND pr.type = 'FirstTime' \\n        WHERE  n.mbg = 0 \\n               AND n.expiry_date >= '2020-01-01' \\n               AND n.expiry_date <= '2020-05-31' \\n               AND n.period > 0 \\n\""
      ]
     },
     "metadata": {},
     "output_type": "display_data"
    }
   ],
   "source": [
    "get_expiry_data_str"
   ]
  },
  {
   "cell_type": "code",
   "execution_count": 18,
   "metadata": {},
   "outputs": [],
   "source": [
    "get_expiry_data_str2 <- sprintf(\"SELECT CASE \n",
    "                 WHEN renewed_count > 1 THEN 'Subsequent' \n",
    "                 ELSE 'Second' \n",
    "               END AS renewal_type, \n",
    "               ( renewed_count + 1 ) AS renewed_count, \n",
    "               n.transaction_expiry AS Expiry_date, \n",
    "               n.id AS domain_id, \n",
    "               n.domain AS domain, \n",
    "               n.registered_on AS creation_date1, \n",
    "               CASE \n",
    "                 WHEN n.deleted_date IS NOT NULL \n",
    "                      AND n.transaction_expiry > n.deleted_date THEN 'Deleted' \n",
    "                 ELSE 'Active' \n",
    "               END AS status, \n",
    "               n.tld AS tld, \n",
    "               n.registrar_shortname AS registrar_shortname, \n",
    "               n.client_shortname AS client_shortname, \n",
    "               n.client_country AS client_country, \n",
    "               n.registrant_country AS registrant_country,\n",
    "               CASE \n",
    "                 WHEN n.client_am IN ( 'Kenneth', 'Kenneth HK' ) THEN 'China' \n",
    "                 ELSE 'Non China' \n",
    "               END AS region, \n",
    "               n.period AS noofyears, \n",
    "               CASE \n",
    "                 WHEN n.r_transfer = 1 THEN 'Transfered' \n",
    "                 WHEN ( n.r_renew_type IN ( 'renewal', 'transfer' ) \n",
    "                         OR n.r_autorenew_type = 'realized' ) THEN 'Renewed' \n",
    "                 ELSE 'Not Renewd' \n",
    "               END AS renewal_status, \n",
    "               n.r_mbg AS renew_mbg,\n",
    "               n.r_renew_type AS renew_type, \n",
    "               n.r_autorenew_type AS autorenew_type, \n",
    "               n.r_renewed_on AS renew_date, \n",
    "               n.r_registrar_shortname AS Renew_Registrar_Shortname, \n",
    "               n.r_client_shortname AS Renew_Client_Shortname, \n",
    "               Round(n.net_revenue, 2) AS domain_revenue, \n",
    "               Round(( n.net_revenue / n.period ), 2) AS arpt, \n",
    "               CASE \n",
    "                 WHEN n.deleted_date IS NOT NULL \n",
    "                      AND n.expiry_date > n.deleted_date THEN 0 \n",
    "                 ELSE pr.revised_prediction \n",
    "               END AS prediction, \n",
    "               pr.sld_length AS sld_length, \n",
    "               pr.sld_type AS sld_type, \n",
    "               pr.sld_type2 AS sld_type2, \n",
    "               pr.day_domains AS day_domains, \n",
    "               pr.logarpt AS logarpt, \n",
    "               pr.gibb_score AS gibb_score, \n",
    "               pr.coeff_variation AS coeff_variation, \n",
    "               Round(( n.net_revenue - ( ( CASE \n",
    "                                             WHEN n.centralnic_comm IS NULL THEN \n",
    "                                             0.00 \n",
    "                                             ELSE n.centralnic_comm \n",
    "                                           END ) + ( CASE \n",
    "                                                       WHEN n.icann_comm IS NULL \n",
    "                                                     THEN \n",
    "                                                       0.00 \n",
    "                                                       ELSE \n",
    "                                         n.icann_comm + n.icann_fixed \n",
    "                                                     END ) ) ), 2)   AS \n",
    "               gross_profit, \n",
    "               Round(( n.net_revenue - ( ( CASE \n",
    "                                             WHEN n.centralnic_comm IS NULL THEN \n",
    "                                             0.00 \n",
    "                                             ELSE n.centralnic_comm \n",
    "                                           END ) + ( CASE \n",
    "                                                       WHEN n.icann_comm IS NULL \n",
    "                                                     THEN \n",
    "                                                       0.00 \n",
    "                                                       ELSE n.icann_comm \n",
    "                                                     END ) ) ), 2)   AS gp_less_icann_fixed, \n",
    "               n.r_period AS renew_domain_years, \n",
    "               Round(n.r_net_revenue, 2) AS renew_domain_revenue, \n",
    "               Round(( n.r_net_revenue / n.r_period ), 2) AS renew_arpt, \n",
    "               Round(( n.r_net_revenue - ( ( CASE \n",
    "                                               WHEN n.r_centralnic_comm IS NULL \n",
    "                                             THEN \n",
    "                                               0.00 \n",
    "                                               ELSE n.r_centralnic_comm \n",
    "                                             END ) + ( CASE \n",
    "                                                         WHEN \n",
    "                                           n.r_icann_comm IS NULL \n",
    "                                                       THEN 0.00 \n",
    "                                                         ELSE \n",
    "                                           n.r_icann_comm + n.icann_fixed \n",
    "                                                       END ) ) ), 2) AS renew_gross_profit, \n",
    "               Round(( n.r_net_revenue - ( ( CASE \n",
    "                                               WHEN n.r_centralnic_comm IS NULL \n",
    "                                             THEN \n",
    "                                               0.00 \n",
    "                                               ELSE n.r_centralnic_comm \n",
    "                                             END ) + ( CASE \n",
    "                                                         WHEN \n",
    "                                           n.r_icann_comm IS NULL \n",
    "                                                       THEN 0.00 \n",
    "                                                         ELSE n.r_icann_comm \n",
    "                                                       END ) ) ), 2) AS renew_gp_less_icann_fixed, \n",
    "               CASE \n",
    "                 WHEN n.newreg_period IS NOT NULL THEN Round(( \n",
    "                 n.newreg_net_revenue / n.newreg_period ), 2) \n",
    "                 ELSE 0 \n",
    "               END AS \n",
    "               registration_arpt \n",
    "        FROM   radixbi-249015.renews n \n",
    "               LEFT OUTER JOIN radixbi-249015.predictions pr \n",
    "                            ON n.id = pr.domain_id \n",
    "                               AND pr.type = 'Renew' \n",
    "        WHERE  n.mbg = 0 \n",
    "               AND n.transaction_expiry >= '%s' \n",
    "               AND n.transaction_expiry <= '%s' \n",
    "               AND n.period > 0 \n",
    "               AND ( n.renew_type IN ( 'renewal', 'transfer' ) \n",
    "                      OR n.autorenew_type = 'realized' )) AS sub \n",
    "\n",
    "ORDER  BY expiry_date \", expiry_date_start, expiry_date_end)"
   ]
  },
  {
   "cell_type": "code",
   "execution_count": null,
   "metadata": {},
   "outputs": [],
   "source": []
  },
  {
   "cell_type": "code",
   "execution_count": null,
   "metadata": {},
   "outputs": [],
   "source": []
  },
  {
   "cell_type": "code",
   "execution_count": null,
   "metadata": {},
   "outputs": [],
   "source": []
  },
  {
   "cell_type": "code",
   "execution_count": null,
   "metadata": {},
   "outputs": [],
   "source": []
  },
  {
   "cell_type": "code",
   "execution_count": null,
   "metadata": {},
   "outputs": [],
   "source": [
    "# check Renewed/not Renewed distribution\n",
    "expiry_date_start='2020-01-01'\n",
    "expiry_date_end='2020-05-31'\n",
    "sql <- sprintf(\"SELECT  \n",
    "          FROM radixbi-249015.prediction_vendors.newreg \n",
    "          WHERE expiry_date>= '%s' AND expiry_date <= '%s'\", \n",
    "               expiry_date_start, expiry_date_end)\n",
    "test_df <- bq_table_download(bq_project_query(projectid, sql))\n",
    "test_df"
   ]
  }
 ],
 "metadata": {
  "environment": {
   "name": "r-cpu.3-6.m48",
   "type": "gcloud",
   "uri": "gcr.io/deeplearning-platform-release/r-cpu.3-6:m48"
  },
  "kernelspec": {
   "display_name": "R",
   "language": "R",
   "name": "ir"
  },
  "language_info": {
   "codemirror_mode": "r",
   "file_extension": ".r",
   "mimetype": "text/x-r-source",
   "name": "R",
   "pygments_lexer": "r",
   "version": "3.6.3"
  }
 },
 "nbformat": 4,
 "nbformat_minor": 4
}
