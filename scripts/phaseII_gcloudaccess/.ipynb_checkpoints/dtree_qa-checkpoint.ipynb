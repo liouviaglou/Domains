{
 "cells": [
  {
   "cell_type": "code",
   "execution_count": 3,
   "metadata": {},
   "outputs": [
    {
     "data": {
      "text/html": [
       "'/home/jupyter/local/Domains_202003/scripts/phaseII_gcloudaccess'"
      ],
      "text/latex": [
       "'/home/jupyter/local/Domains\\_202003/scripts/phaseII\\_gcloudaccess'"
      ],
      "text/markdown": [
       "'/home/jupyter/local/Domains_202003/scripts/phaseII_gcloudaccess'"
      ],
      "text/plain": [
       "[1] \"/home/jupyter/local/Domains_202003/scripts/phaseII_gcloudaccess\""
      ]
     },
     "metadata": {},
     "output_type": "display_data"
    }
   ],
   "source": [
    "library(dplyr)\n",
    "library(data.table)\n",
    "library(partykit)\n",
    "library(tictoc)\n",
    "library(caret)\n",
    "library(e1071)\n",
    "library(randomForest)\n",
    "library(ranger)\n",
    "\n",
    "library(stringr)\n",
    "getwd()"
   ]
  },
  {
   "cell_type": "code",
   "execution_count": 2,
   "metadata": {},
   "outputs": [],
   "source": [
    "# install.packages(\"purr\")"
   ]
  },
  {
   "cell_type": "code",
   "execution_count": 4,
   "metadata": {},
   "outputs": [],
   "source": [
    "# load functions\n",
    "source('functions_eval.R')\n",
    "source('load_prep_data.R')"
   ]
  },
  {
   "cell_type": "code",
   "execution_count": 5,
   "metadata": {},
   "outputs": [
    {
     "data": {
      "text/html": [
       "<style>\n",
       ".list-inline {list-style: none; margin:0; padding: 0}\n",
       ".list-inline>li {display: inline-block}\n",
       ".list-inline>li:not(:last-child)::after {content: \"\\00b7\"; padding: 0 .5ex}\n",
       "</style>\n",
       "<ol class=list-inline><li>'calc_auc'</li><li>'chart_lift'</li><li>'df_prep'</li><li>'plot_gains'</li><li>'plot_multigains'</li><li>'test'</li><li>'test_df'</li><li>'test_df_f'</li><li>'train'</li><li>'train_data'</li><li>'train_df'</li><li>'train_df_f'</li></ol>\n"
      ],
      "text/latex": [
       "\\begin{enumerate*}\n",
       "\\item 'calc\\_auc'\n",
       "\\item 'chart\\_lift'\n",
       "\\item 'df\\_prep'\n",
       "\\item 'plot\\_gains'\n",
       "\\item 'plot\\_multigains'\n",
       "\\item 'test'\n",
       "\\item 'test\\_df'\n",
       "\\item 'test\\_df\\_f'\n",
       "\\item 'train'\n",
       "\\item 'train\\_data'\n",
       "\\item 'train\\_df'\n",
       "\\item 'train\\_df\\_f'\n",
       "\\end{enumerate*}\n"
      ],
      "text/markdown": [
       "1. 'calc_auc'\n",
       "2. 'chart_lift'\n",
       "3. 'df_prep'\n",
       "4. 'plot_gains'\n",
       "5. 'plot_multigains'\n",
       "6. 'test'\n",
       "7. 'test_df'\n",
       "8. 'test_df_f'\n",
       "9. 'train'\n",
       "10. 'train_data'\n",
       "11. 'train_df'\n",
       "12. 'train_df_f'\n",
       "\n",
       "\n"
      ],
      "text/plain": [
       " [1] \"calc_auc\"        \"chart_lift\"      \"df_prep\"         \"plot_gains\"     \n",
       " [5] \"plot_multigains\" \"test\"            \"test_df\"         \"test_df_f\"      \n",
       " [9] \"train\"           \"train_data\"      \"train_df\"        \"train_df_f\"     "
      ]
     },
     "metadata": {},
     "output_type": "display_data"
    }
   ],
   "source": [
    "ls()"
   ]
  },
  {
   "cell_type": "markdown",
   "metadata": {},
   "source": [
    "# Test Initial DTree, compare with D15_nlv"
   ]
  },
  {
   "cell_type": "code",
   "execution_count": 2,
   "metadata": {},
   "outputs": [
    {
     "data": {
      "text/html": [
       "<ol>\n",
       "\t<li>'xltree_01'</li>\n",
       "\t<li>'txl_predict_01'</li>\n",
       "\t<li>'xltree_01_2'</li>\n",
       "\t<li>'txl_predict_01_2'</li>\n",
       "</ol>\n"
      ],
      "text/latex": [
       "\\begin{enumerate}\n",
       "\\item 'xltree\\_01'\n",
       "\\item 'txl\\_predict\\_01'\n",
       "\\item 'xltree\\_01\\_2'\n",
       "\\item 'txl\\_predict\\_01\\_2'\n",
       "\\end{enumerate}\n"
      ],
      "text/markdown": [
       "1. 'xltree_01'\n",
       "2. 'txl_predict_01'\n",
       "3. 'xltree_01_2'\n",
       "4. 'txl_predict_01_2'\n",
       "\n",
       "\n"
      ],
      "text/plain": [
       "[[1]]\n",
       "[1] \"xltree_01\"\n",
       "\n",
       "[[2]]\n",
       "[1] \"txl_predict_01\"\n",
       "\n",
       "[[3]]\n",
       "[1] \"xltree_01_2\"\n",
       "\n",
       "[[4]]\n",
       "[1] \"txl_predict_01_2\"\n"
      ]
     },
     "metadata": {},
     "output_type": "display_data"
    }
   ],
   "source": [
    "file_list <- c(\"xltree_01\",\"txl_predict_01\",\"lift_df_xldtr\", # xltree_01\n",
    "               \"/output/xltree_01_d15_nlv\",\"/output/txl_predict_01_d15_nlv\",\"/output/lift_df_xldtr_d15_nlv\")\n",
    "\n",
    "load_cloud_disk <- function(filename){\n",
    "    system(paste(sprintf(\n",
    "        \"gsutil cp gs://data_outputt/output/%s /home/jupyter/local/Domains_202003/data/\",\n",
    "        filename)))\n",
    "}\n",
    "\n",
    "\n",
    "\n",
    "# lapply(file_list,load_cloud_disk)\n",
    "lapply(paste(\"../../data/\", file_list[c(1,2,4,5)], sep=\"\"),load,envir = .GlobalEnv)\n",
    "lift_df_01 <- readRDS(file.path('../../data/',\"lift_df_xldtr\"))\n",
    "lift_df_xldtr_d15_nlv <- readRDS(file.path('../../data/output',\"lift_df_xldtr_d15_nlv\"))\n",
    "\n",
    "# system(\"gsutil cp gs://data_input/test /home/jupyter/local/Domains_202003/data/\")\n",
    "test <- readRDS(file.path('../../data/',\"test\"))\n",
    "test <- readRDS(file.path('../../data/',\"train\"))\n",
    "\n",
    "# Initial full depth, max var decision tree\n",
    "# load(\"../../data/output/xltree_01\")\n",
    "# load(\"../../data/output/txl_predict_01\")\n",
    "# lift_df_01 <- readRDS(file.path('../../data/',\"lift_df_xldtr\"))\n",
    "\n",
    "# Subsequent pre-pruned tree w/ mincriterion=.999\n",
    "# load(\"../../data/output/xltree_02\")\n",
    "# load(\"../../data/output/txl_predict_02\")\n",
    "# lift_df_02 <- readRDS(file.path('../../data/',\"lift_df_xldtr_2\"))\n"
   ]
  },
  {
   "cell_type": "code",
   "execution_count": 4,
   "metadata": {},
   "outputs": [
    {
     "data": {
      "text/html": [
       "<style>\n",
       ".list-inline {list-style: none; margin:0; padding: 0}\n",
       ".list-inline>li {display: inline-block}\n",
       ".list-inline>li:not(:last-child)::after {content: \"\\00b7\"; padding: 0 .5ex}\n",
       "</style>\n",
       "<ol class=list-inline><li>'calc_auc'</li><li>'chart_lift'</li><li>'df_prep'</li><li>'plot_gains'</li><li>'plot_multigains'</li><li>'test'</li><li>'test_df'</li><li>'test_df_f'</li><li>'train'</li><li>'train_data'</li><li>'train_df'</li><li>'train_df_f'</li></ol>\n"
      ],
      "text/latex": [
       "\\begin{enumerate*}\n",
       "\\item 'calc\\_auc'\n",
       "\\item 'chart\\_lift'\n",
       "\\item 'df\\_prep'\n",
       "\\item 'plot\\_gains'\n",
       "\\item 'plot\\_multigains'\n",
       "\\item 'test'\n",
       "\\item 'test\\_df'\n",
       "\\item 'test\\_df\\_f'\n",
       "\\item 'train'\n",
       "\\item 'train\\_data'\n",
       "\\item 'train\\_df'\n",
       "\\item 'train\\_df\\_f'\n",
       "\\end{enumerate*}\n"
      ],
      "text/markdown": [
       "1. 'calc_auc'\n",
       "2. 'chart_lift'\n",
       "3. 'df_prep'\n",
       "4. 'plot_gains'\n",
       "5. 'plot_multigains'\n",
       "6. 'test'\n",
       "7. 'test_df'\n",
       "8. 'test_df_f'\n",
       "9. 'train'\n",
       "10. 'train_data'\n",
       "11. 'train_df'\n",
       "12. 'train_df_f'\n",
       "\n",
       "\n"
      ],
      "text/plain": [
       " [1] \"calc_auc\"        \"chart_lift\"      \"df_prep\"         \"plot_gains\"     \n",
       " [5] \"plot_multigains\" \"test\"            \"test_df\"         \"test_df_f\"      \n",
       " [9] \"train\"           \"train_data\"      \"train_df\"        \"train_df_f\"     "
      ]
     },
     "metadata": {},
     "output_type": "display_data"
    }
   ],
   "source": [
    "ls()"
   ]
  },
  {
   "cell_type": "code",
   "execution_count": 3,
   "metadata": {},
   "outputs": [
    {
     "data": {
      "text/html": [
       "<style>\n",
       ".list-inline {list-style: none; margin:0; padding: 0}\n",
       ".list-inline>li {display: inline-block}\n",
       ".list-inline>li:not(:last-child)::after {content: \"\\00b7\"; padding: 0 .5ex}\n",
       "</style>\n",
       "<ol class=list-inline><li>'df_prep'</li><li>'test'</li><li>'test_df'</li><li>'train'</li><li>'train_data'</li><li>'train_df'</li></ol>\n"
      ],
      "text/latex": [
       "\\begin{enumerate*}\n",
       "\\item 'df\\_prep'\n",
       "\\item 'test'\n",
       "\\item 'test\\_df'\n",
       "\\item 'train'\n",
       "\\item 'train\\_data'\n",
       "\\item 'train\\_df'\n",
       "\\end{enumerate*}\n"
      ],
      "text/markdown": [
       "1. 'df_prep'\n",
       "2. 'test'\n",
       "3. 'test_df'\n",
       "4. 'train'\n",
       "5. 'train_data'\n",
       "6. 'train_df'\n",
       "\n",
       "\n"
      ],
      "text/plain": [
       "[1] \"df_prep\"    \"test\"       \"test_df\"    \"train\"      \"train_data\"\n",
       "[6] \"train_df\"  "
      ]
     },
     "metadata": {},
     "output_type": "display_data"
    }
   ],
   "source": [
    "ls()"
   ]
  },
  {
   "cell_type": "code",
   "execution_count": 4,
   "metadata": {},
   "outputs": [
    {
     "data": {
      "text/html": [
       "<style>\n",
       ".list-inline {list-style: none; margin:0; padding: 0}\n",
       ".list-inline>li {display: inline-block}\n",
       ".list-inline>li:not(:last-child)::after {content: \"\\00b7\"; padding: 0 .5ex}\n",
       "</style>\n",
       "<ol class=list-inline><li>1559265</li><li>38</li></ol>\n"
      ],
      "text/latex": [
       "\\begin{enumerate*}\n",
       "\\item 1559265\n",
       "\\item 38\n",
       "\\end{enumerate*}\n"
      ],
      "text/markdown": [
       "1. 1559265\n",
       "2. 38\n",
       "\n",
       "\n"
      ],
      "text/plain": [
       "[1] 1559265      38"
      ]
     },
     "metadata": {},
     "output_type": "display_data"
    },
    {
     "data": {
      "text/html": [
       "<style>\n",
       ".list-inline {list-style: none; margin:0; padding: 0}\n",
       ".list-inline>li {display: inline-block}\n",
       ".list-inline>li:not(:last-child)::after {content: \"\\00b7\"; padding: 0 .5ex}\n",
       "</style>\n",
       "<ol class=list-inline><li>389817</li><li>38</li></ol>\n"
      ],
      "text/latex": [
       "\\begin{enumerate*}\n",
       "\\item 389817\n",
       "\\item 38\n",
       "\\end{enumerate*}\n"
      ],
      "text/markdown": [
       "1. 389817\n",
       "2. 38\n",
       "\n",
       "\n"
      ],
      "text/plain": [
       "[1] 389817     38"
      ]
     },
     "metadata": {},
     "output_type": "display_data"
    }
   ],
   "source": [
    "dim(train_df)\n",
    "dim(test_df)"
   ]
  },
  {
   "cell_type": "code",
   "execution_count": 5,
   "metadata": {},
   "outputs": [
    {
     "data": {
      "text/plain": [
       "\n",
       "Not Renewd    Renewed \n",
       " 0.8877195  0.1122805 "
      ]
     },
     "metadata": {},
     "output_type": "display_data"
    }
   ],
   "source": [
    "prop.table(table(train_df$renewal_status))"
   ]
  },
  {
   "cell_type": "code",
   "execution_count": 12,
   "metadata": {},
   "outputs": [
    {
     "data": {
      "text/html": [
       "<style>\n",
       ".list-inline {list-style: none; margin:0; padding: 0}\n",
       ".list-inline>li {display: inline-block}\n",
       ".list-inline>li:not(:last-child)::after {content: \"\\00b7\"; padding: 0 .5ex}\n",
       "</style>\n",
       "<ol class=list-inline><li>'df_prep'</li><li>'file_list'</li><li>'lift_df_01'</li><li>'lift_df_xldtr_d15_nlv'</li><li>'load_cloud_disk'</li><li>'test'</li><li>'test_df'</li><li>'test_df_f'</li><li>'train'</li><li>'train_data'</li><li>'train_df'</li><li>'train_df_f'</li><li>'txl_pred_df_1_2_train'</li><li>'txl_predict_01'</li><li>'txl_predict_01_2'</li><li>'txl_predict_01_2_train'</li><li>'xltree_01'</li><li>'xltree_01_2'</li></ol>\n"
      ],
      "text/latex": [
       "\\begin{enumerate*}\n",
       "\\item 'df\\_prep'\n",
       "\\item 'file\\_list'\n",
       "\\item 'lift\\_df\\_01'\n",
       "\\item 'lift\\_df\\_xldtr\\_d15\\_nlv'\n",
       "\\item 'load\\_cloud\\_disk'\n",
       "\\item 'test'\n",
       "\\item 'test\\_df'\n",
       "\\item 'test\\_df\\_f'\n",
       "\\item 'train'\n",
       "\\item 'train\\_data'\n",
       "\\item 'train\\_df'\n",
       "\\item 'train\\_df\\_f'\n",
       "\\item 'txl\\_pred\\_df\\_1\\_2\\_train'\n",
       "\\item 'txl\\_predict\\_01'\n",
       "\\item 'txl\\_predict\\_01\\_2'\n",
       "\\item 'txl\\_predict\\_01\\_2\\_train'\n",
       "\\item 'xltree\\_01'\n",
       "\\item 'xltree\\_01\\_2'\n",
       "\\end{enumerate*}\n"
      ],
      "text/markdown": [
       "1. 'df_prep'\n",
       "2. 'file_list'\n",
       "3. 'lift_df_01'\n",
       "4. 'lift_df_xldtr_d15_nlv'\n",
       "5. 'load_cloud_disk'\n",
       "6. 'test'\n",
       "7. 'test_df'\n",
       "8. 'test_df_f'\n",
       "9. 'train'\n",
       "10. 'train_data'\n",
       "11. 'train_df'\n",
       "12. 'train_df_f'\n",
       "13. 'txl_pred_df_1_2_train'\n",
       "14. 'txl_predict_01'\n",
       "15. 'txl_predict_01_2'\n",
       "16. 'txl_predict_01_2_train'\n",
       "17. 'xltree_01'\n",
       "18. 'xltree_01_2'\n",
       "\n",
       "\n"
      ],
      "text/plain": [
       " [1] \"df_prep\"                \"file_list\"              \"lift_df_01\"            \n",
       " [4] \"lift_df_xldtr_d15_nlv\"  \"load_cloud_disk\"        \"test\"                  \n",
       " [7] \"test_df\"                \"test_df_f\"              \"train\"                 \n",
       "[10] \"train_data\"             \"train_df\"               \"train_df_f\"            \n",
       "[13] \"txl_pred_df_1_2_train\"  \"txl_predict_01\"         \"txl_predict_01_2\"      \n",
       "[16] \"txl_predict_01_2_train\" \"xltree_01\"              \"xltree_01_2\"           "
      ]
     },
     "metadata": {},
     "output_type": "display_data"
    }
   ],
   "source": [
    "objects()"
   ]
  },
  {
   "cell_type": "code",
   "execution_count": 7,
   "metadata": {},
   "outputs": [
    {
     "data": {
      "text/html": [
       "<table>\n",
       "<caption>A data.frame: 1 × 4</caption>\n",
       "<thead>\n",
       "\t<tr><th></th><th scope=col>P</th><th scope=col>actu_renwd2</th><th scope=col>gain</th><th scope=col>lift</th></tr>\n",
       "\t<tr><th></th><th scope=col>&lt;dbl&gt;</th><th scope=col>&lt;int&gt;</th><th scope=col>&lt;dbl&gt;</th><th scope=col>&lt;dbl&gt;</th></tr>\n",
       "</thead>\n",
       "<tbody>\n",
       "\t<tr><th scope=row>1</th><td>0.1</td><td>22574</td><td>0.5165084</td><td>5.165084</td></tr>\n",
       "</tbody>\n",
       "</table>\n"
      ],
      "text/latex": [
       "A data.frame: 1 × 4\n",
       "\\begin{tabular}{r|llll}\n",
       "  & P & actu\\_renwd2 & gain & lift\\\\\n",
       "  & <dbl> & <int> & <dbl> & <dbl>\\\\\n",
       "\\hline\n",
       "\t1 & 0.1 & 22574 & 0.5165084 & 5.165084\\\\\n",
       "\\end{tabular}\n"
      ],
      "text/markdown": [
       "\n",
       "A data.frame: 1 × 4\n",
       "\n",
       "| <!--/--> | P &lt;dbl&gt; | actu_renwd2 &lt;int&gt; | gain &lt;dbl&gt; | lift &lt;dbl&gt; |\n",
       "|---|---|---|---|---|\n",
       "| 1 | 0.1 | 22574 | 0.5165084 | 5.165084 |\n",
       "\n"
      ],
      "text/plain": [
       "  P   actu_renwd2 gain      lift    \n",
       "1 0.1 22574       0.5165084 5.165084"
      ]
     },
     "metadata": {},
     "output_type": "display_data"
    }
   ],
   "source": [
    "lift_df_01[1,]"
   ]
  },
  {
   "cell_type": "code",
   "execution_count": 8,
   "metadata": {},
   "outputs": [
    {
     "data": {
      "text/html": [
       "<table>\n",
       "<caption>A data.frame: 1 × 4</caption>\n",
       "<thead>\n",
       "\t<tr><th></th><th scope=col>P</th><th scope=col>actu_renwd2</th><th scope=col>gain</th><th scope=col>lift</th></tr>\n",
       "\t<tr><th></th><th scope=col>&lt;dbl&gt;</th><th scope=col>&lt;int&gt;</th><th scope=col>&lt;dbl&gt;</th><th scope=col>&lt;dbl&gt;</th></tr>\n",
       "</thead>\n",
       "<tbody>\n",
       "\t<tr><th scope=row>1</th><td>0.1</td><td>23403</td><td>0.5354765</td><td>5.354765</td></tr>\n",
       "</tbody>\n",
       "</table>\n"
      ],
      "text/latex": [
       "A data.frame: 1 × 4\n",
       "\\begin{tabular}{r|llll}\n",
       "  & P & actu\\_renwd2 & gain & lift\\\\\n",
       "  & <dbl> & <int> & <dbl> & <dbl>\\\\\n",
       "\\hline\n",
       "\t1 & 0.1 & 23403 & 0.5354765 & 5.354765\\\\\n",
       "\\end{tabular}\n"
      ],
      "text/markdown": [
       "\n",
       "A data.frame: 1 × 4\n",
       "\n",
       "| <!--/--> | P &lt;dbl&gt; | actu_renwd2 &lt;int&gt; | gain &lt;dbl&gt; | lift &lt;dbl&gt; |\n",
       "|---|---|---|---|---|\n",
       "| 1 | 0.1 | 23403 | 0.5354765 | 5.354765 |\n",
       "\n"
      ],
      "text/plain": [
       "  P   actu_renwd2 gain      lift    \n",
       "1 0.1 23403       0.5354765 5.354765"
      ]
     },
     "metadata": {},
     "output_type": "display_data"
    }
   ],
   "source": [
    "lift_df_xldtr_d15_nlv[1,]"
   ]
  },
  {
   "cell_type": "markdown",
   "metadata": {},
   "source": [
    "#### Goal: Validate that model indeed has a list of 5.165 at 10%"
   ]
  },
  {
   "cell_type": "markdown",
   "metadata": {},
   "source": [
    "## Compare sizes of Tree"
   ]
  },
  {
   "cell_type": "code",
   "execution_count": 9,
   "metadata": {},
   "outputs": [
    {
     "data": {
      "text/html": [
       "18259"
      ],
      "text/latex": [
       "18259"
      ],
      "text/markdown": [
       "18259"
      ],
      "text/plain": [
       "[1] 18259"
      ]
     },
     "metadata": {},
     "output_type": "display_data"
    }
   ],
   "source": [
    "length(xltree_01) #18,259"
   ]
  },
  {
   "cell_type": "code",
   "execution_count": 10,
   "metadata": {},
   "outputs": [
    {
     "data": {
      "text/html": [
       "6505"
      ],
      "text/latex": [
       "6505"
      ],
      "text/markdown": [
       "6505"
      ],
      "text/plain": [
       "[1] 6505"
      ]
     },
     "metadata": {},
     "output_type": "display_data"
    }
   ],
   "source": [
    "length(xltree_01_2) #6,505"
   ]
  },
  {
   "cell_type": "markdown",
   "metadata": {},
   "source": [
    "## Compare Gains Curve (train & test)"
   ]
  },
  {
   "cell_type": "code",
   "execution_count": 15,
   "metadata": {},
   "outputs": [
    {
     "data": {
      "text/html": [
       "0.857260888190775"
      ],
      "text/latex": [
       "0.857260888190775"
      ],
      "text/markdown": [
       "0.857260888190775"
      ],
      "text/plain": [
       "[1] 0.8572609"
      ]
     },
     "metadata": {},
     "output_type": "display_data"
    },
    {
     "data": {
      "text/html": [
       "<table>\n",
       "<caption>A data.frame: 1 × 4</caption>\n",
       "<thead>\n",
       "\t<tr><th></th><th scope=col>P</th><th scope=col>actu_renwd2</th><th scope=col>gain</th><th scope=col>lift</th></tr>\n",
       "\t<tr><th></th><th scope=col>&lt;dbl&gt;</th><th scope=col>&lt;int&gt;</th><th scope=col>&lt;dbl&gt;</th><th scope=col>&lt;dbl&gt;</th></tr>\n",
       "</thead>\n",
       "<tbody>\n",
       "\t<tr><th scope=row>1</th><td>0.1</td><td>101397</td><td>0.5791632</td><td>5.791632</td></tr>\n",
       "</tbody>\n",
       "</table>\n"
      ],
      "text/latex": [
       "A data.frame: 1 × 4\n",
       "\\begin{tabular}{r|llll}\n",
       "  & P & actu\\_renwd2 & gain & lift\\\\\n",
       "  & <dbl> & <int> & <dbl> & <dbl>\\\\\n",
       "\\hline\n",
       "\t1 & 0.1 & 101397 & 0.5791632 & 5.791632\\\\\n",
       "\\end{tabular}\n"
      ],
      "text/markdown": [
       "\n",
       "A data.frame: 1 × 4\n",
       "\n",
       "| <!--/--> | P &lt;dbl&gt; | actu_renwd2 &lt;int&gt; | gain &lt;dbl&gt; | lift &lt;dbl&gt; |\n",
       "|---|---|---|---|---|\n",
       "| 1 | 0.1 | 101397 | 0.5791632 | 5.791632 |\n",
       "\n"
      ],
      "text/plain": [
       "  P   actu_renwd2 gain      lift    \n",
       "1 0.1 101397      0.5791632 5.791632"
      ]
     },
     "metadata": {},
     "output_type": "display_data"
    }
   ],
   "source": [
    "# _d15_nlv TRAIN\n",
    "# txl_predict_01_2_train <- as.data.frame(predict(xltree_01_2, \n",
    "#                           newdata = na.omit(train_df_f),\n",
    "#                           type=\"prob\"))$Renewed\n",
    "\n",
    "# save(txl_predict_01_2_train, file=\"../../data/output/txl_predict_01_d15_nlv_train\")\n",
    "\n",
    "# txl_pred_df_1_2_train = data.frame(\"actual\" = na.omit(train_df_f)$renewal_status,\n",
    "#                            \"predicted\" = txl_predict_01_2_train)\n",
    "\n",
    "# lift_df_01_2_train <- chart_lift(pred_df = txl_pred_df_1_2_train,\n",
    "#                         dep_var = \"actual\",\n",
    "#                         pred_var = \"predicted\")\n",
    "\n",
    "# auc_01_2_train <- calc_auc(lift_df_01_2_train)\n",
    "\n",
    "# saveRDS(lift_df_01_2_train, file.path('../../data/output/',\"lift_df_xldtr_d15_nlv_train\"))\n",
    "\n",
    "auc_01_2_train\n",
    "lift_df_01_2_train[1,]"
   ]
  },
  {
   "cell_type": "code",
   "execution_count": 16,
   "metadata": {},
   "outputs": [
    {
     "data": {
      "text/html": [
       "0.877116378694845"
      ],
      "text/latex": [
       "0.877116378694845"
      ],
      "text/markdown": [
       "0.877116378694845"
      ],
      "text/plain": [
       "[1] 0.8771164"
      ]
     },
     "metadata": {},
     "output_type": "display_data"
    },
    {
     "data": {
      "text/html": [
       "<table>\n",
       "<caption>A data.frame: 1 × 4</caption>\n",
       "<thead>\n",
       "\t<tr><th></th><th scope=col>P</th><th scope=col>actu_renwd2</th><th scope=col>gain</th><th scope=col>lift</th></tr>\n",
       "\t<tr><th></th><th scope=col>&lt;dbl&gt;</th><th scope=col>&lt;int&gt;</th><th scope=col>&lt;dbl&gt;</th><th scope=col>&lt;dbl&gt;</th></tr>\n",
       "</thead>\n",
       "<tbody>\n",
       "\t<tr><th scope=row>1</th><td>0.1</td><td>109772</td><td>0.6269999</td><td>6.269999</td></tr>\n",
       "</tbody>\n",
       "</table>\n"
      ],
      "text/latex": [
       "A data.frame: 1 × 4\n",
       "\\begin{tabular}{r|llll}\n",
       "  & P & actu\\_renwd2 & gain & lift\\\\\n",
       "  & <dbl> & <int> & <dbl> & <dbl>\\\\\n",
       "\\hline\n",
       "\t1 & 0.1 & 109772 & 0.6269999 & 6.269999\\\\\n",
       "\\end{tabular}\n"
      ],
      "text/markdown": [
       "\n",
       "A data.frame: 1 × 4\n",
       "\n",
       "| <!--/--> | P &lt;dbl&gt; | actu_renwd2 &lt;int&gt; | gain &lt;dbl&gt; | lift &lt;dbl&gt; |\n",
       "|---|---|---|---|---|\n",
       "| 1 | 0.1 | 109772 | 0.6269999 | 6.269999 |\n",
       "\n"
      ],
      "text/plain": [
       "  P   actu_renwd2 gain      lift    \n",
       "1 0.1 109772      0.6269999 6.269999"
      ]
     },
     "metadata": {},
     "output_type": "display_data"
    }
   ],
   "source": [
    "# xltree TRAIN\n",
    "# \"xltree_01\"\n",
    "txl_predict_01_train <- as.data.frame(predict(xltree_01, \n",
    "                          newdata = na.omit(train_df_f),\n",
    "                          type=\"prob\"))$Renewed\n",
    "\n",
    "save(txl_predict_01_train, file=\"../../data/output/txl_predict_01_train\")\n",
    "\n",
    "txl_pred_df_1_train = data.frame(\"actual\" = na.omit(train_df_f)$renewal_status,\n",
    "                           \"predicted\" = txl_predict_01_train)\n",
    "\n",
    "lift_df_xldtr_train <- chart_lift(pred_df = txl_pred_df_1_train,\n",
    "                        dep_var = \"actual\",\n",
    "                        pred_var = \"predicted\")\n",
    "\n",
    "auc_01_train <- calc_auc(lift_df_xldtr_train)\n",
    "\n",
    "saveRDS(lift_df_xldtr_train, file.path('../../data/output/',\"lift_df_xldtr_train\"))\n",
    "\n",
    "auc_01_train\n",
    "lift_df_xldtr_train[1,]"
   ]
  },
  {
   "cell_type": "code",
   "execution_count": 17,
   "metadata": {},
   "outputs": [
    {
     "data": {
      "text/html": [
       "<style>\n",
       ".list-inline {list-style: none; margin:0; padding: 0}\n",
       ".list-inline>li {display: inline-block}\n",
       ".list-inline>li:not(:last-child)::after {content: \"\\00b7\"; padding: 0 .5ex}\n",
       "</style>\n",
       "<ol class=list-inline><li>'auc_01_2_train'</li><li>'auc_01_train'</li><li>'calc_auc'</li><li>'chart_lift'</li><li>'df_prep'</li><li>'file_list'</li><li>'lift_df_01'</li><li>'lift_df_01_2_train'</li><li>'lift_df_xldtr_d15_nlv'</li><li>'lift_df_xldtr_train'</li><li>'load_cloud_disk'</li><li>'plot_gains'</li><li>'plot_multigains'</li><li>'test'</li><li>'test_df'</li><li>'test_df_f'</li><li>'train'</li><li>'train_data'</li><li>'train_df'</li><li>'train_df_f'</li><li>'txl_pred_df_1_2_train'</li><li>'txl_pred_df_1_train'</li><li>'txl_predict_01'</li><li>'txl_predict_01_2'</li><li>'txl_predict_01_2_train'</li><li>'txl_predict_01_train'</li><li>'xltree_01'</li><li>'xltree_01_2'</li></ol>\n"
      ],
      "text/latex": [
       "\\begin{enumerate*}\n",
       "\\item 'auc\\_01\\_2\\_train'\n",
       "\\item 'auc\\_01\\_train'\n",
       "\\item 'calc\\_auc'\n",
       "\\item 'chart\\_lift'\n",
       "\\item 'df\\_prep'\n",
       "\\item 'file\\_list'\n",
       "\\item 'lift\\_df\\_01'\n",
       "\\item 'lift\\_df\\_01\\_2\\_train'\n",
       "\\item 'lift\\_df\\_xldtr\\_d15\\_nlv'\n",
       "\\item 'lift\\_df\\_xldtr\\_train'\n",
       "\\item 'load\\_cloud\\_disk'\n",
       "\\item 'plot\\_gains'\n",
       "\\item 'plot\\_multigains'\n",
       "\\item 'test'\n",
       "\\item 'test\\_df'\n",
       "\\item 'test\\_df\\_f'\n",
       "\\item 'train'\n",
       "\\item 'train\\_data'\n",
       "\\item 'train\\_df'\n",
       "\\item 'train\\_df\\_f'\n",
       "\\item 'txl\\_pred\\_df\\_1\\_2\\_train'\n",
       "\\item 'txl\\_pred\\_df\\_1\\_train'\n",
       "\\item 'txl\\_predict\\_01'\n",
       "\\item 'txl\\_predict\\_01\\_2'\n",
       "\\item 'txl\\_predict\\_01\\_2\\_train'\n",
       "\\item 'txl\\_predict\\_01\\_train'\n",
       "\\item 'xltree\\_01'\n",
       "\\item 'xltree\\_01\\_2'\n",
       "\\end{enumerate*}\n"
      ],
      "text/markdown": [
       "1. 'auc_01_2_train'\n",
       "2. 'auc_01_train'\n",
       "3. 'calc_auc'\n",
       "4. 'chart_lift'\n",
       "5. 'df_prep'\n",
       "6. 'file_list'\n",
       "7. 'lift_df_01'\n",
       "8. 'lift_df_01_2_train'\n",
       "9. 'lift_df_xldtr_d15_nlv'\n",
       "10. 'lift_df_xldtr_train'\n",
       "11. 'load_cloud_disk'\n",
       "12. 'plot_gains'\n",
       "13. 'plot_multigains'\n",
       "14. 'test'\n",
       "15. 'test_df'\n",
       "16. 'test_df_f'\n",
       "17. 'train'\n",
       "18. 'train_data'\n",
       "19. 'train_df'\n",
       "20. 'train_df_f'\n",
       "21. 'txl_pred_df_1_2_train'\n",
       "22. 'txl_pred_df_1_train'\n",
       "23. 'txl_predict_01'\n",
       "24. 'txl_predict_01_2'\n",
       "25. 'txl_predict_01_2_train'\n",
       "26. 'txl_predict_01_train'\n",
       "27. 'xltree_01'\n",
       "28. 'xltree_01_2'\n",
       "\n",
       "\n"
      ],
      "text/plain": [
       " [1] \"auc_01_2_train\"         \"auc_01_train\"           \"calc_auc\"              \n",
       " [4] \"chart_lift\"             \"df_prep\"                \"file_list\"             \n",
       " [7] \"lift_df_01\"             \"lift_df_01_2_train\"     \"lift_df_xldtr_d15_nlv\" \n",
       "[10] \"lift_df_xldtr_train\"    \"load_cloud_disk\"        \"plot_gains\"            \n",
       "[13] \"plot_multigains\"        \"test\"                   \"test_df\"               \n",
       "[16] \"test_df_f\"              \"train\"                  \"train_data\"            \n",
       "[19] \"train_df\"               \"train_df_f\"             \"txl_pred_df_1_2_train\" \n",
       "[22] \"txl_pred_df_1_train\"    \"txl_predict_01\"         \"txl_predict_01_2\"      \n",
       "[25] \"txl_predict_01_2_train\" \"txl_predict_01_train\"   \"xltree_01\"             \n",
       "[28] \"xltree_01_2\"           "
      ]
     },
     "metadata": {},
     "output_type": "display_data"
    }
   ],
   "source": [
    "ls()"
   ]
  },
  {
   "cell_type": "code",
   "execution_count": 21,
   "metadata": {},
   "outputs": [],
   "source": [
    "xltree_01_2"
   ]
  },
  {
   "cell_type": "code",
   "execution_count": 22,
   "metadata": {},
   "outputs": [
    {
     "data": {
      "image/png": "[encoded data removed]",
      "text/plain": [
       "plot without title"
      ]
     },
     "metadata": {
      "image/png": {
       "height": 420,
       "width": 420
      },
      "text/plain": {
       "height": 420,
       "width": 420
      }
     },
     "output_type": "display_data"
    }
   ],
   "source": [
    "plot_multigains(lift_df_list=list(xl_dtr_test = lift_df_01,\n",
    "                                  xl_dtr_train = lift_df_xldtr_train, \n",
    "                                  d15_dtr_test = lift_df_xldtr_d15_nlv, \n",
    "                                  d15_dtr_train = lift_df_01_2_train \n",
    "                                 ),\n",
    "                             auc_list = list(xl_dtr_test = calc_auc(lift_df_01), \n",
    "                                             xl_dtr_train= calc_auc(lift_df_xldtr_train), \n",
    "                                             d15_dtr_test= calc_auc(lift_df_xldtr_d15_nlv), \n",
    "                                             d15_dtr_train= calc_auc(lift_df_01_2_train)))"
   ]
  },
  {
   "cell_type": "markdown",
   "metadata": {},
   "source": [
    "#### xl_dtr is massively overfitting -- see highest curve for train performance and lowest curve for test performance\n",
    "#### d15 is overfitting a lot less & is about half the size (in terms of length of model object, sum(len(branches)))"
   ]
  },
  {
   "cell_type": "markdown",
   "metadata": {},
   "source": [
    "## Get Terminal NodeIds"
   ]
  },
  {
   "cell_type": "code",
   "execution_count": 23,
   "metadata": {},
   "outputs": [
    {
     "data": {
      "text/html": [
       "9130"
      ],
      "text/latex": [
       "9130"
      ],
      "text/markdown": [
       "9130"
      ],
      "text/plain": [
       "[1] 9130"
      ]
     },
     "metadata": {},
     "output_type": "display_data"
    },
    {
     "data": {
      "text/html": [
       "3253"
      ],
      "text/latex": [
       "3253"
      ],
      "text/markdown": [
       "3253"
      ],
      "text/plain": [
       "[1] 3253"
      ]
     },
     "metadata": {},
     "output_type": "display_data"
    }
   ],
   "source": [
    "# d15 has about 1/3 the number of terminal nodes \n",
    "\n",
    "terminal_nodeids_xl <- nodeids(xltree_01, terminal = TRUE)\n",
    "terminal_nodeids_d15 <- nodeids(xltree_01_2, terminal = TRUE)\n",
    "length(terminal_nodeids_xl)\n",
    "length(terminal_nodeids_d15)\n"
   ]
  },
  {
   "cell_type": "code",
   "execution_count": 52,
   "metadata": {},
   "outputs": [
    {
     "data": {
      "text/html": [
       "<style>\n",
       ".list-inline {list-style: none; margin:0; padding: 0}\n",
       ".list-inline>li {display: inline-block}\n",
       ".list-inline>li:not(:last-child)::after {content: \"\\00b7\"; padding: 0 .5ex}\n",
       "</style>\n",
       "<ol class=list-inline><li>9</li><li>10</li><li>13</li><li>14</li><li>15</li><li>17</li></ol>\n"
      ],
      "text/latex": [
       "\\begin{enumerate*}\n",
       "\\item 9\n",
       "\\item 10\n",
       "\\item 13\n",
       "\\item 14\n",
       "\\item 15\n",
       "\\item 17\n",
       "\\end{enumerate*}\n"
      ],
      "text/markdown": [
       "1. 9\n",
       "2. 10\n",
       "3. 13\n",
       "4. 14\n",
       "5. 15\n",
       "6. 17\n",
       "\n",
       "\n"
      ],
      "text/plain": [
       "[1]  9 10 13 14 15 17"
      ]
     },
     "metadata": {},
     "output_type": "display_data"
    }
   ],
   "source": [
    "head(terminal_nodeids_xl)"
   ]
  },
  {
   "cell_type": "code",
   "execution_count": 53,
   "metadata": {},
   "outputs": [
    {
     "data": {
      "text/html": [
       "<style>\n",
       ".list-inline {list-style: none; margin:0; padding: 0}\n",
       ".list-inline>li {display: inline-block}\n",
       ".list-inline>li:not(:last-child)::after {content: \"\\00b7\"; padding: 0 .5ex}\n",
       "</style>\n",
       "<ol class=list-inline><li>9</li><li>10</li><li>13</li><li>14</li><li>15</li><li>17</li></ol>\n"
      ],
      "text/latex": [
       "\\begin{enumerate*}\n",
       "\\item 9\n",
       "\\item 10\n",
       "\\item 13\n",
       "\\item 14\n",
       "\\item 15\n",
       "\\item 17\n",
       "\\end{enumerate*}\n"
      ],
      "text/markdown": [
       "1. 9\n",
       "2. 10\n",
       "3. 13\n",
       "4. 14\n",
       "5. 15\n",
       "6. 17\n",
       "\n",
       "\n"
      ],
      "text/plain": [
       "[1]  9 10 13 14 15 17"
      ]
     },
     "metadata": {},
     "output_type": "display_data"
    }
   ],
   "source": [
    "head(terminal_nodeids_d15)"
   ]
  },
  {
   "cell_type": "markdown",
   "metadata": {},
   "source": [
    "## Examine structure of one terminal node"
   ]
  },
  {
   "cell_type": "code",
   "execution_count": 11,
   "metadata": {},
   "outputs": [
    {
     "data": {
      "text/html": [
       "<strong>$`9`</strong> = <style>\n",
       ".list-inline {list-style: none; margin:0; padding: 0}\n",
       ".list-inline>li {display: inline-block}\n",
       ".list-inline>li:not(:last-child)::after {content: \"\\00b7\"; padding: 0 .5ex}\n",
       "</style>\n",
       "<ol class=list-inline><li>'id'</li><li>'split'</li><li>'kids'</li><li>'surrogates'</li><li>'info'</li></ol>\n"
      ],
      "text/latex": [
       "\\textbf{\\$`9`} = \\begin{enumerate*}\n",
       "\\item 'id'\n",
       "\\item 'split'\n",
       "\\item 'kids'\n",
       "\\item 'surrogates'\n",
       "\\item 'info'\n",
       "\\end{enumerate*}\n"
      ],
      "text/markdown": [
       "**$`9`** = 1. 'id'\n",
       "2. 'split'\n",
       "3. 'kids'\n",
       "4. 'surrogates'\n",
       "5. 'info'\n",
       "\n",
       "\n"
      ],
      "text/plain": [
       "$`9`\n",
       "[1] \"id\"         \"split\"      \"kids\"       \"surrogates\" \"info\"      \n"
      ]
     },
     "metadata": {},
     "output_type": "display_data"
    }
   ],
   "source": [
    "nodeapply(xltree_01, ids = c(9), FUN = function(n) names(n))"
   ]
  },
  {
   "cell_type": "code",
   "execution_count": 12,
   "metadata": {},
   "outputs": [
    {
     "data": {
      "text/html": [
       "<strong>$`9`</strong> = 9"
      ],
      "text/latex": [
       "\\textbf{\\$`9`} = 9"
      ],
      "text/markdown": [
       "**$`9`** = 9"
      ],
      "text/plain": [
       "$`9`\n",
       "[1] 9\n"
      ]
     },
     "metadata": {},
     "output_type": "display_data"
    }
   ],
   "source": [
    "nodeapply(xltree_01, ids = c(9), FUN = function(n) n$id) # the id (ie 9)"
   ]
  },
  {
   "cell_type": "code",
   "execution_count": 13,
   "metadata": {},
   "outputs": [
    {
     "data": {
      "text/html": [],
      "text/latex": [],
      "text/markdown": [],
      "text/plain": [
       "$`9`\n",
       "NULL\n"
      ]
     },
     "metadata": {},
     "output_type": "display_data"
    }
   ],
   "source": [
    "nodeapply(xltree_01, ids = c(9), FUN = function(n) n$split)# no split it's a terminal node!"
   ]
  },
  {
   "cell_type": "code",
   "execution_count": 14,
   "metadata": {},
   "outputs": [
    {
     "data": {
      "text/html": [],
      "text/latex": [],
      "text/markdown": [],
      "text/plain": [
       "$`9`\n",
       "NULL\n"
      ]
     },
     "metadata": {},
     "output_type": "display_data"
    }
   ],
   "source": [
    "nodeapply(xltree_01, ids = c(9), FUN = function(n) n$kids)# no kids it's a terminal node!"
   ]
  },
  {
   "cell_type": "code",
   "execution_count": 15,
   "metadata": {},
   "outputs": [
    {
     "data": {
      "text/html": [],
      "text/latex": [],
      "text/markdown": [],
      "text/plain": [
       "$`9`\n",
       "NULL\n"
      ]
     },
     "metadata": {},
     "output_type": "display_data"
    }
   ],
   "source": [
    "nodeapply(xltree_01, ids = c(9), FUN = function(n) n$surrogates) # no surrogates (?) it's a terminal node"
   ]
  },
  {
   "cell_type": "code",
   "execution_count": 16,
   "metadata": {},
   "outputs": [
    {
     "data": {
      "text/html": [
       "<strong>$`9`</strong> = <style>\n",
       ".list-inline {list-style: none; margin:0; padding: 0}\n",
       ".list-inline>li {display: inline-block}\n",
       ".list-inline>li:not(:last-child)::after {content: \"\\00b7\"; padding: 0 .5ex}\n",
       "</style>\n",
       "<ol class=list-inline><li>'criterion'</li><li>'p.value'</li><li>'unweighted'</li><li>'nobs'</li></ol>\n"
      ],
      "text/latex": [
       "\\textbf{\\$`9`} = \\begin{enumerate*}\n",
       "\\item 'criterion'\n",
       "\\item 'p.value'\n",
       "\\item 'unweighted'\n",
       "\\item 'nobs'\n",
       "\\end{enumerate*}\n"
      ],
      "text/markdown": [
       "**$`9`** = 1. 'criterion'\n",
       "2. 'p.value'\n",
       "3. 'unweighted'\n",
       "4. 'nobs'\n",
       "\n",
       "\n"
      ],
      "text/plain": [
       "$`9`\n",
       "[1] \"criterion\"  \"p.value\"    \"unweighted\" \"nobs\"      \n"
      ]
     },
     "metadata": {},
     "output_type": "display_data"
    }
   ],
   "source": [
    "nodeapply(xltree_01, ids = c(9), FUN = function(n) names(n$info))"
   ]
  },
  {
   "cell_type": "code",
   "execution_count": 16,
   "metadata": {},
   "outputs": [
    {
     "data": {
      "text/html": [
       "<strong>$`9`</strong> = <dl>\n",
       "\t<dt>$criterion</dt>\n",
       "\t\t<dd><table>\n",
       "<caption>A matrix: 3 × 17 of type dbl</caption>\n",
       "<thead>\n",
       "\t<tr><th></th><th scope=col>tld</th><th scope=col>reg_period</th><th scope=col>reg_revenue</th><th scope=col>reg_arpt</th><th scope=col>reg_arpt_org</th><th scope=col>sld_type</th><th scope=col>sld_length</th><th scope=col>day_domains</th><th scope=col>log_reg_arpt</th><th scope=col>gibb_score</th><th scope=col>cluster</th><th scope=col>pattern_score</th><th scope=col>renew_Y</th><th scope=col>creation_Y</th><th scope=col>renew_M</th><th scope=col>creation_M</th><th scope=col>expiry_M</th></tr>\n",
       "</thead>\n",
       "<tbody>\n",
       "\t<tr><th scope=row>statistic</th><td>  2.6240212</td><td> 3.4941332</td><td>  0.008424641</td><td>  0.05564838</td><td>  0.05564838</td><td> 6.4399830</td><td>  0.2967076</td><td> 4.0545827</td><td> 2.3422468</td><td> 2.0322662</td><td> 2.241818e+01</td><td> 4.0545827</td><td> 1.1359867</td><td> 3.4941332</td><td>15.50288478</td><td> 9.3476462</td><td> 9.3476462</td></tr>\n",
       "\t<tr><th scope=row>p.value</th><td>  0.9999999</td><td> 0.6606084</td><td>  1.000000000</td><td>  1.00000000</td><td>  1.00000000</td><td> 0.8063695</td><td>  0.9999997</td><td> 0.5350721</td><td> 0.8984984</td><td> 0.9417392</td><td> 3.727835e-05</td><td> 0.5350721</td><td> 0.9967813</td><td> 0.6606084</td><td> 0.06209995</td><td> 0.6035807</td><td> 0.6035807</td></tr>\n",
       "\t<tr><th scope=row>criterion</th><td>-16.5644652</td><td>-1.0806007</td><td>-44.463361670</td><td>-28.54950985</td><td>-28.54950985</td><td>-1.6418034</td><td>-14.9902227</td><td>-0.7658729</td><td>-2.2876808</td><td>-2.8428266</td><td>-3.727904e-05</td><td>-0.7658729</td><td>-5.7387848</td><td>-1.0806007</td><td>-0.06411189</td><td>-0.9252828</td><td>-0.9252828</td></tr>\n",
       "</tbody>\n",
       "</table>\n",
       "</dd>\n",
       "\t<dt>$p.value</dt>\n",
       "\t\t<dd><strong>cluster:</strong> 3.72783486690712e-05</dd>\n",
       "\t<dt>$unweighted</dt>\n",
       "\t\t<dd>TRUE</dd>\n",
       "\t<dt>$nobs</dt>\n",
       "\t\t<dd>138</dd>\n",
       "</dl>\n"
      ],
      "text/latex": [
       "\\textbf{\\$`9`} = \\begin{description}\n",
       "\\item[\\$criterion] A matrix: 3 × 17 of type dbl\n",
       "\\begin{tabular}{r|lllllllllllllllll}\n",
       "  & tld & reg\\_period & reg\\_revenue & reg\\_arpt & reg\\_arpt\\_org & sld\\_type & sld\\_length & day\\_domains & log\\_reg\\_arpt & gibb\\_score & cluster & pattern\\_score & renew\\_Y & creation\\_Y & renew\\_M & creation\\_M & expiry\\_M\\\\\n",
       "\\hline\n",
       "\tstatistic &   2.6240212 &  3.4941332 &   0.008424641 &   0.05564838 &   0.05564838 &  6.4399830 &   0.2967076 &  4.0545827 &  2.3422468 &  2.0322662 &  2.241818e+01 &  4.0545827 &  1.1359867 &  3.4941332 & 15.50288478 &  9.3476462 &  9.3476462\\\\\n",
       "\tp.value &   0.9999999 &  0.6606084 &   1.000000000 &   1.00000000 &   1.00000000 &  0.8063695 &   0.9999997 &  0.5350721 &  0.8984984 &  0.9417392 &  3.727835e-05 &  0.5350721 &  0.9967813 &  0.6606084 &  0.06209995 &  0.6035807 &  0.6035807\\\\\n",
       "\tcriterion & -16.5644652 & -1.0806007 & -44.463361670 & -28.54950985 & -28.54950985 & -1.6418034 & -14.9902227 & -0.7658729 & -2.2876808 & -2.8428266 & -3.727904e-05 & -0.7658729 & -5.7387848 & -1.0806007 & -0.06411189 & -0.9252828 & -0.9252828\\\\\n",
       "\\end{tabular}\n",
       "\n",
       "\\item[\\$p.value] \\textbf{cluster:} 3.72783486690712e-05\n",
       "\\item[\\$unweighted] TRUE\n",
       "\\item[\\$nobs] 138\n",
       "\\end{description}\n"
      ],
      "text/markdown": [
       "**$`9`** = $criterion\n",
       ":   \n",
       "A matrix: 3 × 17 of type dbl\n",
       "\n",
       "| <!--/--> | tld | reg_period | reg_revenue | reg_arpt | reg_arpt_org | sld_type | sld_length | day_domains | log_reg_arpt | gibb_score | cluster | pattern_score | renew_Y | creation_Y | renew_M | creation_M | expiry_M |\n",
       "|---|---|---|---|---|---|---|---|---|---|---|---|---|---|---|---|---|---|\n",
       "| statistic |   2.6240212 |  3.4941332 |   0.008424641 |   0.05564838 |   0.05564838 |  6.4399830 |   0.2967076 |  4.0545827 |  2.3422468 |  2.0322662 |  2.241818e+01 |  4.0545827 |  1.1359867 |  3.4941332 | 15.50288478 |  9.3476462 |  9.3476462 |\n",
       "| p.value |   0.9999999 |  0.6606084 |   1.000000000 |   1.00000000 |   1.00000000 |  0.8063695 |   0.9999997 |  0.5350721 |  0.8984984 |  0.9417392 |  3.727835e-05 |  0.5350721 |  0.9967813 |  0.6606084 |  0.06209995 |  0.6035807 |  0.6035807 |\n",
       "| criterion | -16.5644652 | -1.0806007 | -44.463361670 | -28.54950985 | -28.54950985 | -1.6418034 | -14.9902227 | -0.7658729 | -2.2876808 | -2.8428266 | -3.727904e-05 | -0.7658729 | -5.7387848 | -1.0806007 | -0.06411189 | -0.9252828 | -0.9252828 |\n",
       "\n",
       "\n",
       "$p.value\n",
       ":   **cluster:** 3.72783486690712e-05\n",
       "$unweighted\n",
       ":   TRUE\n",
       "$nobs\n",
       ":   138\n",
       "\n",
       "\n"
      ],
      "text/plain": [
       "$`9`\n",
       "$`9`$criterion\n",
       "                  tld reg_period   reg_revenue     reg_arpt reg_arpt_org\n",
       "statistic   2.6240212  3.4941332   0.008424641   0.05564838   0.05564838\n",
       "p.value     0.9999999  0.6606084   1.000000000   1.00000000   1.00000000\n",
       "criterion -16.5644652 -1.0806007 -44.463361670 -28.54950985 -28.54950985\n",
       "            sld_type  sld_length day_domains log_reg_arpt gibb_score\n",
       "statistic  6.4399830   0.2967076   4.0545827    2.3422468  2.0322662\n",
       "p.value    0.8063695   0.9999997   0.5350721    0.8984984  0.9417392\n",
       "criterion -1.6418034 -14.9902227  -0.7658729   -2.2876808 -2.8428266\n",
       "                cluster pattern_score    renew_Y creation_Y     renew_M\n",
       "statistic  2.241818e+01     4.0545827  1.1359867  3.4941332 15.50288478\n",
       "p.value    3.727835e-05     0.5350721  0.9967813  0.6606084  0.06209995\n",
       "criterion -3.727904e-05    -0.7658729 -5.7387848 -1.0806007 -0.06411189\n",
       "          creation_M   expiry_M\n",
       "statistic  9.3476462  9.3476462\n",
       "p.value    0.6035807  0.6035807\n",
       "criterion -0.9252828 -0.9252828\n",
       "\n",
       "$`9`$p.value\n",
       "     cluster \n",
       "3.727835e-05 \n",
       "\n",
       "$`9`$unweighted\n",
       "[1] TRUE\n",
       "\n",
       "$`9`$nobs\n",
       "[1] 138\n",
       "\n"
      ]
     },
     "metadata": {},
     "output_type": "display_data"
    }
   ],
   "source": [
    "nodeapply(xltree_01, ids = c(9), FUN = function(n) n$info)"
   ]
  },
  {
   "cell_type": "code",
   "execution_count": 17,
   "metadata": {},
   "outputs": [
    {
     "data": {
      "text/html": [
       "<strong>$`9`</strong> = <table>\n",
       "<caption>A matrix: 3 × 17 of type dbl</caption>\n",
       "<thead>\n",
       "\t<tr><th></th><th scope=col>tld</th><th scope=col>reg_period</th><th scope=col>reg_revenue</th><th scope=col>reg_arpt</th><th scope=col>reg_arpt_org</th><th scope=col>sld_type</th><th scope=col>sld_length</th><th scope=col>day_domains</th><th scope=col>log_reg_arpt</th><th scope=col>gibb_score</th><th scope=col>cluster</th><th scope=col>pattern_score</th><th scope=col>renew_Y</th><th scope=col>creation_Y</th><th scope=col>renew_M</th><th scope=col>creation_M</th><th scope=col>expiry_M</th></tr>\n",
       "</thead>\n",
       "<tbody>\n",
       "\t<tr><th scope=row>statistic</th><td>  2.6240212</td><td> 3.4941332</td><td>  0.008424641</td><td>  0.05564838</td><td>  0.05564838</td><td> 6.4399830</td><td>  0.2967076</td><td> 4.0545827</td><td> 2.3422468</td><td> 2.0322662</td><td> 2.241818e+01</td><td> 4.0545827</td><td> 1.1359867</td><td> 3.4941332</td><td>15.50288478</td><td> 9.3476462</td><td> 9.3476462</td></tr>\n",
       "\t<tr><th scope=row>p.value</th><td>  0.9999999</td><td> 0.6606084</td><td>  1.000000000</td><td>  1.00000000</td><td>  1.00000000</td><td> 0.8063695</td><td>  0.9999997</td><td> 0.5350721</td><td> 0.8984984</td><td> 0.9417392</td><td> 3.727835e-05</td><td> 0.5350721</td><td> 0.9967813</td><td> 0.6606084</td><td> 0.06209995</td><td> 0.6035807</td><td> 0.6035807</td></tr>\n",
       "\t<tr><th scope=row>criterion</th><td>-16.5644652</td><td>-1.0806007</td><td>-44.463361670</td><td>-28.54950985</td><td>-28.54950985</td><td>-1.6418034</td><td>-14.9902227</td><td>-0.7658729</td><td>-2.2876808</td><td>-2.8428266</td><td>-3.727904e-05</td><td>-0.7658729</td><td>-5.7387848</td><td>-1.0806007</td><td>-0.06411189</td><td>-0.9252828</td><td>-0.9252828</td></tr>\n",
       "</tbody>\n",
       "</table>\n"
      ],
      "text/latex": [
       "\\textbf{\\$`9`} = A matrix: 3 × 17 of type dbl\n",
       "\\begin{tabular}{r|lllllllllllllllll}\n",
       "  & tld & reg\\_period & reg\\_revenue & reg\\_arpt & reg\\_arpt\\_org & sld\\_type & sld\\_length & day\\_domains & log\\_reg\\_arpt & gibb\\_score & cluster & pattern\\_score & renew\\_Y & creation\\_Y & renew\\_M & creation\\_M & expiry\\_M\\\\\n",
       "\\hline\n",
       "\tstatistic &   2.6240212 &  3.4941332 &   0.008424641 &   0.05564838 &   0.05564838 &  6.4399830 &   0.2967076 &  4.0545827 &  2.3422468 &  2.0322662 &  2.241818e+01 &  4.0545827 &  1.1359867 &  3.4941332 & 15.50288478 &  9.3476462 &  9.3476462\\\\\n",
       "\tp.value &   0.9999999 &  0.6606084 &   1.000000000 &   1.00000000 &   1.00000000 &  0.8063695 &   0.9999997 &  0.5350721 &  0.8984984 &  0.9417392 &  3.727835e-05 &  0.5350721 &  0.9967813 &  0.6606084 &  0.06209995 &  0.6035807 &  0.6035807\\\\\n",
       "\tcriterion & -16.5644652 & -1.0806007 & -44.463361670 & -28.54950985 & -28.54950985 & -1.6418034 & -14.9902227 & -0.7658729 & -2.2876808 & -2.8428266 & -3.727904e-05 & -0.7658729 & -5.7387848 & -1.0806007 & -0.06411189 & -0.9252828 & -0.9252828\\\\\n",
       "\\end{tabular}\n"
      ],
      "text/markdown": [
       "**$`9`** = \n",
       "A matrix: 3 × 17 of type dbl\n",
       "\n",
       "| <!--/--> | tld | reg_period | reg_revenue | reg_arpt | reg_arpt_org | sld_type | sld_length | day_domains | log_reg_arpt | gibb_score | cluster | pattern_score | renew_Y | creation_Y | renew_M | creation_M | expiry_M |\n",
       "|---|---|---|---|---|---|---|---|---|---|---|---|---|---|---|---|---|---|\n",
       "| statistic |   2.6240212 |  3.4941332 |   0.008424641 |   0.05564838 |   0.05564838 |  6.4399830 |   0.2967076 |  4.0545827 |  2.3422468 |  2.0322662 |  2.241818e+01 |  4.0545827 |  1.1359867 |  3.4941332 | 15.50288478 |  9.3476462 |  9.3476462 |\n",
       "| p.value |   0.9999999 |  0.6606084 |   1.000000000 |   1.00000000 |   1.00000000 |  0.8063695 |   0.9999997 |  0.5350721 |  0.8984984 |  0.9417392 |  3.727835e-05 |  0.5350721 |  0.9967813 |  0.6606084 |  0.06209995 |  0.6035807 |  0.6035807 |\n",
       "| criterion | -16.5644652 | -1.0806007 | -44.463361670 | -28.54950985 | -28.54950985 | -1.6418034 | -14.9902227 | -0.7658729 | -2.2876808 | -2.8428266 | -3.727904e-05 | -0.7658729 | -5.7387848 | -1.0806007 | -0.06411189 | -0.9252828 | -0.9252828 |\n",
       "\n"
      ],
      "text/plain": [
       "$`9`\n",
       "                  tld reg_period   reg_revenue     reg_arpt reg_arpt_org\n",
       "statistic   2.6240212  3.4941332   0.008424641   0.05564838   0.05564838\n",
       "p.value     0.9999999  0.6606084   1.000000000   1.00000000   1.00000000\n",
       "criterion -16.5644652 -1.0806007 -44.463361670 -28.54950985 -28.54950985\n",
       "            sld_type  sld_length day_domains log_reg_arpt gibb_score\n",
       "statistic  6.4399830   0.2967076   4.0545827    2.3422468  2.0322662\n",
       "p.value    0.8063695   0.9999997   0.5350721    0.8984984  0.9417392\n",
       "criterion -1.6418034 -14.9902227  -0.7658729   -2.2876808 -2.8428266\n",
       "                cluster pattern_score    renew_Y creation_Y     renew_M\n",
       "statistic  2.241818e+01     4.0545827  1.1359867  3.4941332 15.50288478\n",
       "p.value    3.727835e-05     0.5350721  0.9967813  0.6606084  0.06209995\n",
       "criterion -3.727904e-05    -0.7658729 -5.7387848 -1.0806007 -0.06411189\n",
       "          creation_M   expiry_M\n",
       "statistic  9.3476462  9.3476462\n",
       "p.value    0.6035807  0.6035807\n",
       "criterion -0.9252828 -0.9252828\n"
      ]
     },
     "metadata": {},
     "output_type": "display_data"
    }
   ],
   "source": [
    "nodeapply(xltree_01, ids = c(9), FUN = function(n) n$info$criterion)"
   ]
  },
  {
   "cell_type": "markdown",
   "metadata": {},
   "source": [
    "## Terminal Nodes don't contain much infor apparently\n",
    "\"However, in the terminal nodes of constparty objects there is nothing stored. Instead, the whole distribution of the response by fitted node is stored and can be extracted by fitted(object). This contains a data frame with the observed (response) the (fitted) node and the observation (weights) (if any). And then you can easily use tapply() or aggregate() or something like that to compute node-wise means etc.\""
   ]
  },
  {
   "cell_type": "code",
   "execution_count": 19,
   "metadata": {},
   "outputs": [],
   "source": [
    "xltree_01_f <- fitted(xltree_01)"
   ]
  },
  {
   "cell_type": "code",
   "execution_count": 30,
   "metadata": {},
   "outputs": [
    {
     "data": {
      "text/html": [
       "<style>\n",
       ".list-inline {list-style: none; margin:0; padding: 0}\n",
       ".list-inline>li {display: inline-block}\n",
       ".list-inline>li:not(:last-child)::after {content: \"\\00b7\"; padding: 0 .5ex}\n",
       "</style>\n",
       "<ol class=list-inline><li>1559265</li><li>3</li></ol>\n"
      ],
      "text/latex": [
       "\\begin{enumerate*}\n",
       "\\item 1559265\n",
       "\\item 3\n",
       "\\end{enumerate*}\n"
      ],
      "text/markdown": [
       "1. 1559265\n",
       "2. 3\n",
       "\n",
       "\n"
      ],
      "text/plain": [
       "[1] 1559265       3"
      ]
     },
     "metadata": {},
     "output_type": "display_data"
    },
    {
     "data": {
      "text/html": [
       "<table>\n",
       "<caption>A data.frame: 6 × 3</caption>\n",
       "<thead>\n",
       "\t<tr><th></th><th scope=col>(fitted)</th><th scope=col>(weights)</th><th scope=col>(response)</th></tr>\n",
       "\t<tr><th></th><th scope=col>&lt;int&gt;</th><th scope=col>&lt;dbl&gt;</th><th scope=col>&lt;fct&gt;</th></tr>\n",
       "</thead>\n",
       "<tbody>\n",
       "\t<tr><th scope=row>1</th><td>360</td><td>3</td><td>Not Renewd</td></tr>\n",
       "\t<tr><th scope=row>2</th><td>331</td><td>4</td><td>Renewed   </td></tr>\n",
       "\t<tr><th scope=row>3</th><td>360</td><td>3</td><td>Not Renewd</td></tr>\n",
       "\t<tr><th scope=row>4</th><td>360</td><td>3</td><td>Not Renewd</td></tr>\n",
       "\t<tr><th scope=row>5</th><td>354</td><td>3</td><td>Not Renewd</td></tr>\n",
       "\t<tr><th scope=row>6</th><td>331</td><td>4</td><td>Renewed   </td></tr>\n",
       "</tbody>\n",
       "</table>\n"
      ],
      "text/latex": [
       "A data.frame: 6 × 3\n",
       "\\begin{tabular}{r|lll}\n",
       "  & (fitted) & (weights) & (response)\\\\\n",
       "  & <int> & <dbl> & <fct>\\\\\n",
       "\\hline\n",
       "\t1 & 360 & 3 & Not Renewd\\\\\n",
       "\t2 & 331 & 4 & Renewed   \\\\\n",
       "\t3 & 360 & 3 & Not Renewd\\\\\n",
       "\t4 & 360 & 3 & Not Renewd\\\\\n",
       "\t5 & 354 & 3 & Not Renewd\\\\\n",
       "\t6 & 331 & 4 & Renewed   \\\\\n",
       "\\end{tabular}\n"
      ],
      "text/markdown": [
       "\n",
       "A data.frame: 6 × 3\n",
       "\n",
       "| <!--/--> | (fitted) &lt;int&gt; | (weights) &lt;dbl&gt; | (response) &lt;fct&gt; |\n",
       "|---|---|---|---|\n",
       "| 1 | 360 | 3 | Not Renewd |\n",
       "| 2 | 331 | 4 | Renewed    |\n",
       "| 3 | 360 | 3 | Not Renewd |\n",
       "| 4 | 360 | 3 | Not Renewd |\n",
       "| 5 | 354 | 3 | Not Renewd |\n",
       "| 6 | 331 | 4 | Renewed    |\n",
       "\n"
      ],
      "text/plain": [
       "  (fitted) (weights) (response)\n",
       "1 360      3         Not Renewd\n",
       "2 331      4         Renewed   \n",
       "3 360      3         Not Renewd\n",
       "4 360      3         Not Renewd\n",
       "5 354      3         Not Renewd\n",
       "6 331      4         Renewed   "
      ]
     },
     "metadata": {},
     "output_type": "display_data"
    }
   ],
   "source": [
    "dim(xltree_01_f)\n",
    "head(xltree_01_f)\n",
    "names(xltree_01_f) <- c('fitted','weights','response')"
   ]
  },
  {
   "cell_type": "code",
   "execution_count": 35,
   "metadata": {},
   "outputs": [
    {
     "data": {
      "text/html": [
       "<style>\n",
       ".list-inline {list-style: none; margin:0; padding: 0}\n",
       ".list-inline>li {display: inline-block}\n",
       ".list-inline>li:not(:last-child)::after {content: \"\\00b7\"; padding: 0 .5ex}\n",
       "</style>\n",
       "<ol class=list-inline><li>37</li><li>3</li></ol>\n"
      ],
      "text/latex": [
       "\\begin{enumerate*}\n",
       "\\item 37\n",
       "\\item 3\n",
       "\\end{enumerate*}\n"
      ],
      "text/markdown": [
       "1. 37\n",
       "2. 3\n",
       "\n",
       "\n"
      ],
      "text/plain": [
       "[1] 37  3"
      ]
     },
     "metadata": {},
     "output_type": "display_data"
    }
   ],
   "source": [
    "xltree_01_f %>% filter(fitted ==9)  %>% head(10)"
   ]
  },
  {
   "cell_type": "code",
   "execution_count": 36,
   "metadata": {},
   "outputs": [
    {
     "data": {
      "text/html": [
       "<style>\n",
       ".list-inline {list-style: none; margin:0; padding: 0}\n",
       ".list-inline>li {display: inline-block}\n",
       ".list-inline>li:not(:last-child)::after {content: \"\\00b7\"; padding: 0 .5ex}\n",
       "</style>\n",
       "<ol class=list-inline><li>1559265</li><li>3</li></ol>\n"
      ],
      "text/latex": [
       "\\begin{enumerate*}\n",
       "\\item 1559265\n",
       "\\item 3\n",
       "\\end{enumerate*}\n"
      ],
      "text/markdown": [
       "1. 1559265\n",
       "2. 3\n",
       "\n",
       "\n"
      ],
      "text/plain": [
       "[1] 1559265       3"
      ]
     },
     "metadata": {},
     "output_type": "display_data"
    }
   ],
   "source": [
    "xltree_01_f %>% filter(fitted %in% terminal_nodeids) %>% dim\n"
   ]
  },
  {
   "cell_type": "code",
   "execution_count": 26,
   "metadata": {},
   "outputs": [
    {
     "data": {
      "text/html": [
       "<table>\n",
       "<caption>A data.frame: 6 × 1</caption>\n",
       "<thead>\n",
       "\t<tr><th></th><th scope=col>(fitted)</th></tr>\n",
       "\t<tr><th></th><th scope=col>&lt;int&gt;</th></tr>\n",
       "</thead>\n",
       "<tbody>\n",
       "\t<tr><th scope=row>1</th><td>360</td></tr>\n",
       "\t<tr><th scope=row>2</th><td>331</td></tr>\n",
       "\t<tr><th scope=row>3</th><td>360</td></tr>\n",
       "\t<tr><th scope=row>4</th><td>360</td></tr>\n",
       "\t<tr><th scope=row>5</th><td>354</td></tr>\n",
       "\t<tr><th scope=row>6</th><td>331</td></tr>\n",
       "</tbody>\n",
       "</table>\n"
      ],
      "text/latex": [
       "A data.frame: 6 × 1\n",
       "\\begin{tabular}{r|l}\n",
       "  & (fitted)\\\\\n",
       "  & <int>\\\\\n",
       "\\hline\n",
       "\t1 & 360\\\\\n",
       "\t2 & 331\\\\\n",
       "\t3 & 360\\\\\n",
       "\t4 & 360\\\\\n",
       "\t5 & 354\\\\\n",
       "\t6 & 331\\\\\n",
       "\\end{tabular}\n"
      ],
      "text/markdown": [
       "\n",
       "A data.frame: 6 × 1\n",
       "\n",
       "| <!--/--> | (fitted) &lt;int&gt; |\n",
       "|---|---|\n",
       "| 1 | 360 |\n",
       "| 2 | 331 |\n",
       "| 3 | 360 |\n",
       "| 4 | 360 |\n",
       "| 5 | 354 |\n",
       "| 6 | 331 |\n",
       "\n"
      ],
      "text/plain": [
       "  (fitted)\n",
       "1 360     \n",
       "2 331     \n",
       "3 360     \n",
       "4 360     \n",
       "5 354     \n",
       "6 331     "
      ]
     },
     "metadata": {},
     "output_type": "display_data"
    }
   ],
   "source": [
    "head(xltree_01_f[c(\"(fitted)\"==)])"
   ]
  },
  {
   "cell_type": "code",
   "execution_count": 23,
   "metadata": {},
   "outputs": [],
   "source": [
    "# Then you can easily compute node-wise means by\n",
    "# with(xltree_01_f, tapply(`(response)`, `(fitted)`, mean))"
   ]
  },
  {
   "cell_type": "markdown",
   "metadata": {},
   "source": [
    "## Idenitfy End node with minimal error rate"
   ]
  },
  {
   "cell_type": "code",
   "execution_count": 13,
   "metadata": {},
   "outputs": [],
   "source": [
    "# system(\"gsutil cp gs://data_outputt/output/xltree_01_d15_nlv /home/jupyter/local/Domains_202003/data/\")\n",
    "# load('../../data/xltree_01_d15_nlv')\n",
    "train <- readRDS('../../data/train')\n",
    "test <- readRDS('../../data/test')\n"
   ]
  },
  {
   "cell_type": "code",
   "execution_count": 8,
   "metadata": {},
   "outputs": [],
   "source": [
    "load('../../data/xltree_01_d15_nlv')"
   ]
  },
  {
   "cell_type": "code",
   "execution_count": 9,
   "metadata": {},
   "outputs": [],
   "source": [
    "xltree_01_2_s <- as.simpleparty(xltree_01_2)"
   ]
  },
  {
   "cell_type": "code",
   "execution_count": 11,
   "metadata": {},
   "outputs": [],
   "source": [
    "terminal_nodeids_d15 <- nodeids(xltree_01_2, terminal = TRUE)\n",
    "\n",
    "tn_info <- nodeapply(xltree_01_2_s, ids = terminal_nodeids_d15, info_node)"
   ]
  },
  {
   "cell_type": "code",
   "execution_count": 8,
   "metadata": {},
   "outputs": [
    {
     "data": {
      "text/html": [
       "3253"
      ],
      "text/latex": [
       "3253"
      ],
      "text/markdown": [
       "3253"
      ],
      "text/plain": [
       "[1] 3253"
      ]
     },
     "metadata": {},
     "output_type": "display_data"
    }
   ],
   "source": [
    "length(tn_info)"
   ]
  },
  {
   "cell_type": "code",
   "execution_count": 9,
   "metadata": {},
   "outputs": [
    {
     "data": {
      "text/html": [
       "<style>\n",
       ".list-inline {list-style: none; margin:0; padding: 0}\n",
       ".list-inline>li {display: inline-block}\n",
       ".list-inline>li:not(:last-child)::after {content: \"\\00b7\"; padding: 0 .5ex}\n",
       "</style>\n",
       "<ol class=list-inline><li>'9'</li><li>'10'</li><li>'13'</li><li>'14'</li><li>'15'</li><li>'17'</li></ol>\n"
      ],
      "text/latex": [
       "\\begin{enumerate*}\n",
       "\\item '9'\n",
       "\\item '10'\n",
       "\\item '13'\n",
       "\\item '14'\n",
       "\\item '15'\n",
       "\\item '17'\n",
       "\\end{enumerate*}\n"
      ],
      "text/markdown": [
       "1. '9'\n",
       "2. '10'\n",
       "3. '13'\n",
       "4. '14'\n",
       "5. '15'\n",
       "6. '17'\n",
       "\n",
       "\n"
      ],
      "text/plain": [
       "[1] \"9\"  \"10\" \"13\" \"14\" \"15\" \"17\""
      ]
     },
     "metadata": {},
     "output_type": "display_data"
    }
   ],
   "source": [
    "head(names(tn_info))"
   ]
  },
  {
   "cell_type": "code",
   "execution_count": 57,
   "metadata": {},
   "outputs": [],
   "source": [
    "# # extract single node\n",
    "# node9 = nodeapply(xltree_01_s, ids = 9, info_node)\n",
    "# node9\n",
    "\n",
    "# # percentage Renewed\n",
    "# node9[[1]]$distribution[2]/node9[[1]]$n\n",
    "\n",
    "# # apply to all terminal nodes\n",
    "# # \n",
    "# tn_info[1]\n",
    "\n",
    "# tn_info[1][[1]]"
   ]
  },
  {
   "cell_type": "code",
   "execution_count": 10,
   "metadata": {},
   "outputs": [
    {
     "data": {
      "text/html": [
       "<table>\n",
       "<caption>A data.frame: 6 × 2</caption>\n",
       "<thead>\n",
       "\t<tr><th></th><th scope=col>Renewed</th><th scope=col>n</th></tr>\n",
       "\t<tr><th></th><th scope=col>&lt;dbl&gt;</th><th scope=col>&lt;dbl&gt;</th></tr>\n",
       "</thead>\n",
       "<tbody>\n",
       "\t<tr><th scope=row>X1858</th><td>1</td><td>6780</td></tr>\n",
       "\t<tr><th scope=row>X1698</th><td>1</td><td>6556</td></tr>\n",
       "\t<tr><th scope=row>X997</th><td>1</td><td>3352</td></tr>\n",
       "\t<tr><th scope=row>X3803</th><td>1</td><td>3308</td></tr>\n",
       "\t<tr><th scope=row>X1072</th><td>1</td><td>3176</td></tr>\n",
       "\t<tr><th scope=row>X1109</th><td>1</td><td>3100</td></tr>\n",
       "</tbody>\n",
       "</table>\n"
      ],
      "text/latex": [
       "A data.frame: 6 × 2\n",
       "\\begin{tabular}{r|ll}\n",
       "  & Renewed & n\\\\\n",
       "  & <dbl> & <dbl>\\\\\n",
       "\\hline\n",
       "\tX1858 & 1 & 6780\\\\\n",
       "\tX1698 & 1 & 6556\\\\\n",
       "\tX997 & 1 & 3352\\\\\n",
       "\tX3803 & 1 & 3308\\\\\n",
       "\tX1072 & 1 & 3176\\\\\n",
       "\tX1109 & 1 & 3100\\\\\n",
       "\\end{tabular}\n"
      ],
      "text/markdown": [
       "\n",
       "A data.frame: 6 × 2\n",
       "\n",
       "| <!--/--> | Renewed &lt;dbl&gt; | n &lt;dbl&gt; |\n",
       "|---|---|---|\n",
       "| X1858 | 1 | 6780 |\n",
       "| X1698 | 1 | 6556 |\n",
       "| X997 | 1 | 3352 |\n",
       "| X3803 | 1 | 3308 |\n",
       "| X1072 | 1 | 3176 |\n",
       "| X1109 | 1 | 3100 |\n",
       "\n"
      ],
      "text/plain": [
       "      Renewed n   \n",
       "X1858 1       6780\n",
       "X1698 1       6556\n",
       "X997  1       3352\n",
       "X3803 1       3308\n",
       "X1072 1       3176\n",
       "X1109 1       3100"
      ]
     },
     "metadata": {},
     "output_type": "display_data"
    }
   ],
   "source": [
    "\n",
    "tn_renrates <- lapply(tn_info, function(t) c(t[[4]][2]/t[[2]], t[[2]]))\n",
    "tn_renrates_df <- as.data.frame(t(as.data.frame(tn_renrates)))\n",
    "tn_renrates_df <- tn_renrates_df %>% arrange(desc(Renewed),desc(n)) \n",
    "head(tn_renrates_df)"
   ]
  },
  {
   "cell_type": "code",
   "execution_count": 11,
   "metadata": {},
   "outputs": [
    {
     "data": {
      "text/html": [
       "4852870"
      ],
      "text/latex": [
       "4852870"
      ],
      "text/markdown": [
       "4852870"
      ],
      "text/plain": [
       "[1] 4852870"
      ]
     },
     "metadata": {},
     "output_type": "display_data"
    }
   ],
   "source": [
    "sum(tn_renrates_df$n)"
   ]
  },
  {
   "cell_type": "code",
   "execution_count": 32,
   "metadata": {},
   "outputs": [
    {
     "data": {
      "text/html": [
       "<strong>$`1858`</strong> = <dl>\n",
       "\t<dt>$prediction</dt>\n",
       "\t\t<dd><strong>Renewed:</strong> Renewed\n",
       "<details>\n",
       "\t<summary style=display:list-item;cursor:pointer>\n",
       "\t\t<strong>Levels</strong>:\n",
       "\t</summary>\n",
       "\t<style>\n",
       "\t.list-inline {list-style: none; margin:0; padding: 0}\n",
       "\t.list-inline>li {display: inline-block}\n",
       "\t.list-inline>li:not(:last-child)::after {content: \"\\00b7\"; padding: 0 .5ex}\n",
       "\t</style>\n",
       "\t<ol class=list-inline><li>'Not Renewd'</li><li>'Renewed'</li></ol>\n",
       "</details></dd>\n",
       "\t<dt>$n</dt>\n",
       "\t\t<dd><strong>n:</strong> 6780</dd>\n",
       "\t<dt>$error</dt>\n",
       "\t\t<dd><strong>%:</strong> 0</dd>\n",
       "\t<dt>$distribution</dt>\n",
       "\t\t<dd><style>\n",
       ".dl-inline {width: auto; margin:0; padding: 0}\n",
       ".dl-inline>dt, .dl-inline>dd {float: none; width: auto; display: inline-block}\n",
       ".dl-inline>dt::after {content: \":\\0020\"; padding-right: .5ex}\n",
       ".dl-inline>dt:not(:first-of-type) {padding-left: .5ex}\n",
       "</style><dl class=dl-inline><dt>Not Renewd</dt><dd>0</dd><dt>Renewed</dt><dd>6780</dd></dl>\n",
       "</dd>\n",
       "\t<dt>$p.value</dt>\n",
       "\t\t<dd>NULL</dd>\n",
       "</dl>\n"
      ],
      "text/latex": [
       "\\textbf{\\$`1858`} = \\begin{description}\n",
       "\\item[\\$prediction] \\textbf{Renewed:} Renewed\n",
       "\\emph{Levels}: \\begin{enumerate*}\n",
       "\\item 'Not Renewd'\n",
       "\\item 'Renewed'\n",
       "\\end{enumerate*}\n",
       "\n",
       "\\item[\\$n] \\textbf{n:} 6780\n",
       "\\item[\\$error] \\textbf{\\textbackslash{}\\%:} 0\n",
       "\\item[\\$distribution] \\begin{description*}\n",
       "\\item[Not Renewd] 0\n",
       "\\item[Renewed] 6780\n",
       "\\end{description*}\n",
       "\n",
       "\\item[\\$p.value] NULL\n",
       "\\end{description}\n"
      ],
      "text/markdown": [
       "**$`1858`** = $prediction\n",
       ":   **Renewed:** Renewed\n",
       "**Levels**: 1. 'Not Renewd'\n",
       "2. 'Renewed'\n",
       "\n",
       "\n",
       "\n",
       "$n\n",
       ":   **n:** 6780\n",
       "$error\n",
       ":   **%:** 0\n",
       "$distribution\n",
       ":   Not Renewd\n",
       ":   0Renewed\n",
       ":   6780\n",
       "\n",
       "\n",
       "$p.value\n",
       ":   NULL\n",
       "\n",
       "\n"
      ],
      "text/plain": [
       "$`1858`\n",
       "$`1858`$prediction\n",
       "Renewed \n",
       "Renewed \n",
       "Levels: Not Renewd Renewed\n",
       "\n",
       "$`1858`$n\n",
       "   n \n",
       "6780 \n",
       "\n",
       "$`1858`$error\n",
       "% \n",
       "0 \n",
       "\n",
       "$`1858`$distribution\n",
       "Not Renewd    Renewed \n",
       "         0       6780 \n",
       "\n",
       "$`1858`$p.value\n",
       "NULL\n",
       "\n"
      ]
     },
     "metadata": {},
     "output_type": "display_data"
    }
   ],
   "source": [
    "# so, for example, node 5989 correclty predicted all 6960 observations as Renewed\n",
    "node1858 = nodeapply(xltree_01_2_s, ids = 1858, info_node)\n",
    "node1858"
   ]
  },
  {
   "cell_type": "markdown",
   "metadata": {},
   "source": [
    "## Find split criteria for this terminal node"
   ]
  },
  {
   "cell_type": "code",
   "execution_count": 24,
   "metadata": {},
   "outputs": [],
   "source": [
    "# xltree_01_d15_rules <- partykit:::.list.rules.party(xltree_01_2)\n",
    "\n",
    "# save(xltree_01_d15_rules, file=\"../../data/output/xltree_01_d15_rules\")\n",
    "\n",
    "# system(\"gsutil cp /home/jupyter/local/Domains_202003/data/output/* gs://data_outputt/output/ \")"
   ]
  },
  {
   "cell_type": "code",
   "execution_count": 14,
   "metadata": {},
   "outputs": [],
   "source": [
    "system(\"gsutil cp gs://data_outputt/output/xltree_01_d15_rules /home/jupyter/local/Domains_202003/data/\")\n",
    "\n",
    "load('../../data/xltree_01_d15_rules')\n",
    "\n",
    "# from https://rmanic.wordpress.com/2016/05/19/creating-a-well-formatted-decision-tree-with-partykit-and-listing-the-rules-of-the-nodes/\n",
    "terminals <- data.frame(response = predict(xltree_01_2, type = \"response\"))\n",
    "terminals$prob <- predict(xltree_01_2, type = \"prob\")\n",
    "\n",
    "rules<- xltree_01_d15_rules #partykit:::.list.rules.party(tree)\n",
    "terminals$rule <- rules[as.character(predict(xltree_01_2, type = \"node\"))]\n",
    "\n",
    "value<-cbind(terminals$rule, terminals[,which(grepl(\"prob\", colnames(terminals)))])\n",
    "colnames(value)[1]<-\"rules\"\n",
    "DF<-data.table(value)  \n",
    "terminals<-as.data.frame(DF[,sapply(.SD, function(x) list(max=max(x))),by=list(rules)])\n",
    "terminalsname<-cbind(names(rules), rules)\n",
    "terminals<-merge(terminals, terminalsname, by=c(\"rules\"))\n",
    "names<-colnames(terminals)[which(grepl(\".max\", colnames(terminals)))]\n",
    "names<-unlist(strsplit(names, \"[.]\"))[-which(unlist(strsplit(names, \"[.]\"))==\"max\")]\n",
    "colnames(terminals)[which(grepl(\".max\", colnames(terminals)))]<-names\n",
    "colnames(terminals)[which(colnames(terminals)==\"V1\")]<-\"Terminal_Node\"\n",
    "colnames(terminals)[which(colnames(terminals)==\"rules\")]<-\"Rule\"\n",
    "\n",
    "# terminals<-terminals[,c(5,1,2,3,4)]\n",
    "terminals$Rule[which(grepl(\"\\\"NA\\\"\", terminals$Rule))]<-gsub(\"\\\"NA\\\"\", \"\", terminals$Rule[which(grepl(\"\\\"NA\\\"\", terminals$Rule))])\n",
    "terminals$Terminal_Node<-as.numeric(as.character(terminals$Terminal_Node))\n",
    "terminals<-terminals[order(terminals$Terminal_Node),]\n",
    "\n",
    "head(terminals)"
   ]
  },
  {
   "cell_type": "code",
   "execution_count": 54,
   "metadata": {},
   "outputs": [
    {
     "data": {
      "text/html": [
       "<strong>$`1858`</strong> = <dl>\n",
       "\t<dt>$prediction</dt>\n",
       "\t\t<dd><strong>Renewed:</strong> Renewed\n",
       "<details>\n",
       "\t<summary style=display:list-item;cursor:pointer>\n",
       "\t\t<strong>Levels</strong>:\n",
       "\t</summary>\n",
       "\t<style>\n",
       "\t.list-inline {list-style: none; margin:0; padding: 0}\n",
       "\t.list-inline>li {display: inline-block}\n",
       "\t.list-inline>li:not(:last-child)::after {content: \"\\00b7\"; padding: 0 .5ex}\n",
       "\t</style>\n",
       "\t<ol class=list-inline><li>'Not Renewd'</li><li>'Renewed'</li></ol>\n",
       "</details></dd>\n",
       "\t<dt>$n</dt>\n",
       "\t\t<dd><strong>n:</strong> 6780</dd>\n",
       "\t<dt>$error</dt>\n",
       "\t\t<dd><strong>%:</strong> 0</dd>\n",
       "\t<dt>$distribution</dt>\n",
       "\t\t<dd><style>\n",
       ".dl-inline {width: auto; margin:0; padding: 0}\n",
       ".dl-inline>dt, .dl-inline>dd {float: none; width: auto; display: inline-block}\n",
       ".dl-inline>dt::after {content: \":\\0020\"; padding-right: .5ex}\n",
       ".dl-inline>dt:not(:first-of-type) {padding-left: .5ex}\n",
       "</style><dl class=dl-inline><dt>Not Renewd</dt><dd>0</dd><dt>Renewed</dt><dd>6780</dd></dl>\n",
       "</dd>\n",
       "\t<dt>$p.value</dt>\n",
       "\t\t<dd>NULL</dd>\n",
       "</dl>\n"
      ],
      "text/latex": [
       "\\textbf{\\$`1858`} = \\begin{description}\n",
       "\\item[\\$prediction] \\textbf{Renewed:} Renewed\n",
       "\\emph{Levels}: \\begin{enumerate*}\n",
       "\\item 'Not Renewd'\n",
       "\\item 'Renewed'\n",
       "\\end{enumerate*}\n",
       "\n",
       "\\item[\\$n] \\textbf{n:} 6780\n",
       "\\item[\\$error] \\textbf{\\textbackslash{}\\%:} 0\n",
       "\\item[\\$distribution] \\begin{description*}\n",
       "\\item[Not Renewd] 0\n",
       "\\item[Renewed] 6780\n",
       "\\end{description*}\n",
       "\n",
       "\\item[\\$p.value] NULL\n",
       "\\end{description}\n"
      ],
      "text/markdown": [
       "**$`1858`** = $prediction\n",
       ":   **Renewed:** Renewed\n",
       "**Levels**: 1. 'Not Renewd'\n",
       "2. 'Renewed'\n",
       "\n",
       "\n",
       "\n",
       "$n\n",
       ":   **n:** 6780\n",
       "$error\n",
       ":   **%:** 0\n",
       "$distribution\n",
       ":   Not Renewd\n",
       ":   0Renewed\n",
       ":   6780\n",
       "\n",
       "\n",
       "$p.value\n",
       ":   NULL\n",
       "\n",
       "\n"
      ],
      "text/plain": [
       "$`1858`\n",
       "$`1858`$prediction\n",
       "Renewed \n",
       "Renewed \n",
       "Levels: Not Renewd Renewed\n",
       "\n",
       "$`1858`$n\n",
       "   n \n",
       "6780 \n",
       "\n",
       "$`1858`$error\n",
       "% \n",
       "0 \n",
       "\n",
       "$`1858`$distribution\n",
       "Not Renewd    Renewed \n",
       "         0       6780 \n",
       "\n",
       "$`1858`$p.value\n",
       "NULL\n",
       "\n"
      ]
     },
     "metadata": {},
     "output_type": "display_data"
    }
   ],
   "source": [
    "# confirm values match tn_info\n",
    "# node1858 = nodeapply(xltree_01_2_s, ids = 1858, info_node)\n",
    "node1858"
   ]
  },
  {
   "cell_type": "code",
   "execution_count": 58,
   "metadata": {},
   "outputs": [
    {
     "data": {
      "text/html": [
       "<table>\n",
       "<caption>A data.frame: 1 × 4</caption>\n",
       "<thead>\n",
       "\t<tr><th></th><th scope=col>Rule</th><th scope=col>Not Renewd</th><th scope=col>Renewed</th><th scope=col>Terminal_Node</th></tr>\n",
       "\t<tr><th></th><th scope=col>&lt;chr&gt;</th><th scope=col>&lt;chr&gt;</th><th scope=col>&lt;chr&gt;</th><th scope=col>&lt;dbl&gt;</th></tr>\n",
       "</thead>\n",
       "<tbody>\n",
       "\t<tr><th scope=row>924</th><td>tld %in% c(\"fun\", \"host\", \"press\", \"pw\", \"site\", \"space\", \"website\") &amp; renew_Y %in% c(\"2019\") &amp; renew_M %in% c(\"01\", \"02\", \"03\", \"04\", \"05\", \"06\", \"07\", \"08\") &amp; expiry_M %in% c(\"01\", \"02\", \"03\", \"04\", \"05\", \"06\", \"07\", \"08\") &amp; renew_M %in% c(\"01\", \"02\", \"03\", , , , ) &amp; expiry_M %in% c(\"01\", \"02\", \"03\", \"07\", \"08\", , , , ) &amp; expiry_M %in% c(\"03\", , , , \"07\", \"08\", , , , ) &amp; renew_M %in% c(\"01\", \"02\", , , , , , , , , ) &amp; expiry_M %in% c(, , \"03\", , , , , , , ) &amp; tld %in% c(\"fun\", \"host\", , , \"pw\", \"site\", \"space\", , , \"website\") &amp; reseller %in% c(\"gmo\", \"namecheap\")</td><td>0</td><td>1</td><td>1858</td></tr>\n",
       "</tbody>\n",
       "</table>\n"
      ],
      "text/latex": [
       "A data.frame: 1 × 4\n",
       "\\begin{tabular}{r|llll}\n",
       "  & Rule & Not Renewd & Renewed & Terminal\\_Node\\\\\n",
       "  & <chr> & <chr> & <chr> & <dbl>\\\\\n",
       "\\hline\n",
       "\t924 & tld \\%in\\% c(\"fun\", \"host\", \"press\", \"pw\", \"site\", \"space\", \"website\") \\& renew\\_Y \\%in\\% c(\"2019\") \\& renew\\_M \\%in\\% c(\"01\", \"02\", \"03\", \"04\", \"05\", \"06\", \"07\", \"08\") \\& expiry\\_M \\%in\\% c(\"01\", \"02\", \"03\", \"04\", \"05\", \"06\", \"07\", \"08\") \\& renew\\_M \\%in\\% c(\"01\", \"02\", \"03\", , , , ) \\& expiry\\_M \\%in\\% c(\"01\", \"02\", \"03\", \"07\", \"08\", , , , ) \\& expiry\\_M \\%in\\% c(\"03\", , , , \"07\", \"08\", , , , ) \\& renew\\_M \\%in\\% c(\"01\", \"02\", , , , , , , , , ) \\& expiry\\_M \\%in\\% c(, , \"03\", , , , , , , ) \\& tld \\%in\\% c(\"fun\", \"host\", , , \"pw\", \"site\", \"space\", , , \"website\") \\& reseller \\%in\\% c(\"gmo\", \"namecheap\") & 0 & 1 & 1858\\\\\n",
       "\\end{tabular}\n"
      ],
      "text/markdown": [
       "\n",
       "A data.frame: 1 × 4\n",
       "\n",
       "| <!--/--> | Rule &lt;chr&gt; | Not Renewd &lt;chr&gt; | Renewed &lt;chr&gt; | Terminal_Node &lt;dbl&gt; |\n",
       "|---|---|---|---|---|\n",
       "| 924 | tld %in% c(\"fun\", \"host\", \"press\", \"pw\", \"site\", \"space\", \"website\") &amp; renew_Y %in% c(\"2019\") &amp; renew_M %in% c(\"01\", \"02\", \"03\", \"04\", \"05\", \"06\", \"07\", \"08\") &amp; expiry_M %in% c(\"01\", \"02\", \"03\", \"04\", \"05\", \"06\", \"07\", \"08\") &amp; renew_M %in% c(\"01\", \"02\", \"03\", , , , ) &amp; expiry_M %in% c(\"01\", \"02\", \"03\", \"07\", \"08\", , , , ) &amp; expiry_M %in% c(\"03\", , , , \"07\", \"08\", , , , ) &amp; renew_M %in% c(\"01\", \"02\", , , , , , , , , ) &amp; expiry_M %in% c(, , \"03\", , , , , , , ) &amp; tld %in% c(\"fun\", \"host\", , , \"pw\", \"site\", \"space\", , , \"website\") &amp; reseller %in% c(\"gmo\", \"namecheap\") | 0 | 1 | 1858 |\n",
       "\n"
      ],
      "text/plain": [
       "    Rule                                                                                                                                                                                                                                                                                                                                                                                                                                                                                                                                                                                      \n",
       "924 tld %in% c(\"fun\", \"host\", \"press\", \"pw\", \"site\", \"space\", \"website\") & renew_Y %in% c(\"2019\") & renew_M %in% c(\"01\", \"02\", \"03\", \"04\", \"05\", \"06\", \"07\", \"08\") & expiry_M %in% c(\"01\", \"02\", \"03\", \"04\", \"05\", \"06\", \"07\", \"08\") & renew_M %in% c(\"01\", \"02\", \"03\", , , , ) & expiry_M %in% c(\"01\", \"02\", \"03\", \"07\", \"08\", , , , ) & expiry_M %in% c(\"03\", , , , \"07\", \"08\", , , , ) & renew_M %in% c(\"01\", \"02\", , , , , , , , , ) & expiry_M %in% c(, , \"03\", , , , , , , ) & tld %in% c(\"fun\", \"host\", , , \"pw\", \"site\", \"space\", , , \"website\") & reseller %in% c(\"gmo\", \"namecheap\")\n",
       "    Not Renewd Renewed Terminal_Node\n",
       "924 0          1       1858         "
      ]
     },
     "metadata": {},
     "output_type": "display_data"
    }
   ],
   "source": [
    "terminals[ which(terminals$Terminal_Node==1858) ,]"
   ]
  },
  {
   "cell_type": "code",
   "execution_count": 59,
   "metadata": {},
   "outputs": [],
   "source": [
    "rule1858 <- terminals[ which(terminals$Terminal_Node==1858) ,]$Rule\n",
    "rule1858\n",
    "\n",
    "rule1858_df <- as.data.frame(strsplit(rule1858,' & ', fixed=TRUE)[[1]], header=FALSE)\n",
    "names(rule1858_df) <- 'rule'\n",
    "rule1858_df <- rule1858_df %>% separate(rule, \n",
    "                         into = c(\"var\", \"val\"),\n",
    "                        sep = ' %in% ')\n",
    "rule1858_df %>% arrange(desc(var))"
   ]
  },
  {
   "cell_type": "markdown",
   "metadata": {},
   "source": [
    "## filter through test data"
   ]
  },
  {
   "cell_type": "code",
   "execution_count": 91,
   "metadata": {},
   "outputs": [
    {
     "data": {
      "text/html": [
       "<style>\n",
       ".list-inline {list-style: none; margin:0; padding: 0}\n",
       ".list-inline>li {display: inline-block}\n",
       ".list-inline>li:not(:last-child)::after {content: \"\\00b7\"; padding: 0 .5ex}\n",
       "</style>\n",
       "<ol class=list-inline><li>1559265</li><li>24</li></ol>\n"
      ],
      "text/latex": [
       "\\begin{enumerate*}\n",
       "\\item 1559265\n",
       "\\item 24\n",
       "\\end{enumerate*}\n"
      ],
      "text/markdown": [
       "1. 1559265\n",
       "2. 24\n",
       "\n",
       "\n"
      ],
      "text/plain": [
       "[1] 1559265      24"
      ]
     },
     "metadata": {},
     "output_type": "display_data"
    },
    {
     "data": {
      "text/html": [
       "<style>\n",
       ".list-inline {list-style: none; margin:0; padding: 0}\n",
       ".list-inline>li {display: inline-block}\n",
       ".list-inline>li:not(:last-child)::after {content: \"\\00b7\"; padding: 0 .5ex}\n",
       "</style>\n",
       "<ol class=list-inline><li>1052679</li><li>24</li></ol>\n"
      ],
      "text/latex": [
       "\\begin{enumerate*}\n",
       "\\item 1052679\n",
       "\\item 24\n",
       "\\end{enumerate*}\n"
      ],
      "text/markdown": [
       "1. 1052679\n",
       "2. 24\n",
       "\n",
       "\n"
      ],
      "text/plain": [
       "[1] 1052679      24"
      ]
     },
     "metadata": {},
     "output_type": "display_data"
    },
    {
     "data": {
      "text/html": [
       "<style>\n",
       ".list-inline {list-style: none; margin:0; padding: 0}\n",
       ".list-inline>li {display: inline-block}\n",
       ".list-inline>li:not(:last-child)::after {content: \"\\00b7\"; padding: 0 .5ex}\n",
       "</style>\n",
       "<ol class=list-inline><li>723369</li><li>24</li></ol>\n"
      ],
      "text/latex": [
       "\\begin{enumerate*}\n",
       "\\item 723369\n",
       "\\item 24\n",
       "\\end{enumerate*}\n"
      ],
      "text/markdown": [
       "1. 723369\n",
       "2. 24\n",
       "\n",
       "\n"
      ],
      "text/plain": [
       "[1] 723369     24"
      ]
     },
     "metadata": {},
     "output_type": "display_data"
    },
    {
     "data": {
      "text/html": [
       "<style>\n",
       ".list-inline {list-style: none; margin:0; padding: 0}\n",
       ".list-inline>li {display: inline-block}\n",
       ".list-inline>li:not(:last-child)::after {content: \"\\00b7\"; padding: 0 .5ex}\n",
       "</style>\n",
       "<ol class=list-inline><li>60100</li><li>24</li></ol>\n"
      ],
      "text/latex": [
       "\\begin{enumerate*}\n",
       "\\item 60100\n",
       "\\item 24\n",
       "\\end{enumerate*}\n"
      ],
      "text/markdown": [
       "1. 60100\n",
       "2. 24\n",
       "\n",
       "\n"
      ],
      "text/plain": [
       "[1] 60100    24"
      ]
     },
     "metadata": {},
     "output_type": "display_data"
    },
    {
     "data": {
      "text/html": [
       "<style>\n",
       ".list-inline {list-style: none; margin:0; padding: 0}\n",
       ".list-inline>li {display: inline-block}\n",
       ".list-inline>li:not(:last-child)::after {content: \"\\00b7\"; padding: 0 .5ex}\n",
       "</style>\n",
       "<ol class=list-inline><li>1817</li><li>24</li></ol>\n"
      ],
      "text/latex": [
       "\\begin{enumerate*}\n",
       "\\item 1817\n",
       "\\item 24\n",
       "\\end{enumerate*}\n"
      ],
      "text/markdown": [
       "1. 1817\n",
       "2. 24\n",
       "\n",
       "\n"
      ],
      "text/plain": [
       "[1] 1817   24"
      ]
     },
     "metadata": {},
     "output_type": "display_data"
    }
   ],
   "source": [
    "dim(train_df_f)\n",
    "rule1858_train_df <- train_df_f %>% filter(tld %in% c(\"fun\", \"host\", \"pw\", \"site\", \"space\", \"website\"))\n",
    "dim(rule1858_train_df)\n",
    "rule1858_train_df <- rule1858_train_df %>% filter(renew_Y %in% c(\"2019\"))\n",
    "dim(rule1858_train_df)\n",
    "rule1858_train_df <- rule1858_train_df %>% filter(renew_M %in% c(\"01\", \"02\"))\n",
    "dim(rule1858_train_df)\n",
    "rule1858_train_df <- rule1858_train_df %>% filter(expiry_M %in% c(\"03\"))\n",
    "dim(rule1858_train_df)"
   ]
  },
  {
   "cell_type": "code",
   "execution_count": 93,
   "metadata": {},
   "outputs": [
    {
     "data": {
      "text/plain": [
       "\n",
       "Not Renewd    Renewed \n",
       "         0       1817 "
      ]
     },
     "metadata": {},
     "output_type": "display_data"
    }
   ],
   "source": [
    "table(rule1858_train_df$renewal_status)"
   ]
  },
  {
   "cell_type": "code",
   "execution_count": 92,
   "metadata": {},
   "outputs": [
    {
     "data": {
      "text/html": [
       "<style>\n",
       ".list-inline {list-style: none; margin:0; padding: 0}\n",
       ".list-inline>li {display: inline-block}\n",
       ".list-inline>li:not(:last-child)::after {content: \"\\00b7\"; padding: 0 .5ex}\n",
       "</style>\n",
       "<ol class=list-inline><li>389817</li><li>24</li></ol>\n"
      ],
      "text/latex": [
       "\\begin{enumerate*}\n",
       "\\item 389817\n",
       "\\item 24\n",
       "\\end{enumerate*}\n"
      ],
      "text/markdown": [
       "1. 389817\n",
       "2. 24\n",
       "\n",
       "\n"
      ],
      "text/plain": [
       "[1] 389817     24"
      ]
     },
     "metadata": {},
     "output_type": "display_data"
    },
    {
     "data": {
      "text/html": [
       "<style>\n",
       ".list-inline {list-style: none; margin:0; padding: 0}\n",
       ".list-inline>li {display: inline-block}\n",
       ".list-inline>li:not(:last-child)::after {content: \"\\00b7\"; padding: 0 .5ex}\n",
       "</style>\n",
       "<ol class=list-inline><li>263142</li><li>24</li></ol>\n"
      ],
      "text/latex": [
       "\\begin{enumerate*}\n",
       "\\item 263142\n",
       "\\item 24\n",
       "\\end{enumerate*}\n"
      ],
      "text/markdown": [
       "1. 263142\n",
       "2. 24\n",
       "\n",
       "\n"
      ],
      "text/plain": [
       "[1] 263142     24"
      ]
     },
     "metadata": {},
     "output_type": "display_data"
    },
    {
     "data": {
      "text/html": [
       "<style>\n",
       ".list-inline {list-style: none; margin:0; padding: 0}\n",
       ".list-inline>li {display: inline-block}\n",
       ".list-inline>li:not(:last-child)::after {content: \"\\00b7\"; padding: 0 .5ex}\n",
       "</style>\n",
       "<ol class=list-inline><li>180991</li><li>24</li></ol>\n"
      ],
      "text/latex": [
       "\\begin{enumerate*}\n",
       "\\item 180991\n",
       "\\item 24\n",
       "\\end{enumerate*}\n"
      ],
      "text/markdown": [
       "1. 180991\n",
       "2. 24\n",
       "\n",
       "\n"
      ],
      "text/plain": [
       "[1] 180991     24"
      ]
     },
     "metadata": {},
     "output_type": "display_data"
    },
    {
     "data": {
      "text/html": [
       "<style>\n",
       ".list-inline {list-style: none; margin:0; padding: 0}\n",
       ".list-inline>li {display: inline-block}\n",
       ".list-inline>li:not(:last-child)::after {content: \"\\00b7\"; padding: 0 .5ex}\n",
       "</style>\n",
       "<ol class=list-inline><li>15144</li><li>24</li></ol>\n"
      ],
      "text/latex": [
       "\\begin{enumerate*}\n",
       "\\item 15144\n",
       "\\item 24\n",
       "\\end{enumerate*}\n"
      ],
      "text/markdown": [
       "1. 15144\n",
       "2. 24\n",
       "\n",
       "\n"
      ],
      "text/plain": [
       "[1] 15144    24"
      ]
     },
     "metadata": {},
     "output_type": "display_data"
    },
    {
     "data": {
      "text/html": [
       "<style>\n",
       ".list-inline {list-style: none; margin:0; padding: 0}\n",
       ".list-inline>li {display: inline-block}\n",
       ".list-inline>li:not(:last-child)::after {content: \"\\00b7\"; padding: 0 .5ex}\n",
       "</style>\n",
       "<ol class=list-inline><li>485</li><li>24</li></ol>\n"
      ],
      "text/latex": [
       "\\begin{enumerate*}\n",
       "\\item 485\n",
       "\\item 24\n",
       "\\end{enumerate*}\n"
      ],
      "text/markdown": [
       "1. 485\n",
       "2. 24\n",
       "\n",
       "\n"
      ],
      "text/plain": [
       "[1] 485  24"
      ]
     },
     "metadata": {},
     "output_type": "display_data"
    }
   ],
   "source": [
    "dim(test_df_f)\n",
    "rule1858_test_df <- test_df_f %>% filter(tld %in% c(\"fun\", \"host\", \"pw\", \"site\", \"space\", \"website\"))\n",
    "dim(rule1858_test_df)\n",
    "rule1858_test_df <- rule1858_test_df %>% filter(renew_Y %in% c(\"2019\"))\n",
    "dim(rule1858_test_df)\n",
    "rule1858_test_df <- rule1858_test_df %>% filter(renew_M %in% c(\"01\", \"02\"))\n",
    "dim(rule1858_test_df)\n",
    "rule1858_test_df <- rule1858_test_df %>% filter(expiry_M %in% c(\"03\"))\n",
    "dim(rule1858_test_df)"
   ]
  },
  {
   "cell_type": "code",
   "execution_count": 94,
   "metadata": {},
   "outputs": [
    {
     "data": {
      "text/plain": [
       "\n",
       "Not Renewd    Renewed \n",
       "         0        485 "
      ]
     },
     "metadata": {},
     "output_type": "display_data"
    }
   ],
   "source": [
    "table(rule1858_test_df$renewal_status)"
   ]
  },
  {
   "cell_type": "code",
   "execution_count": null,
   "metadata": {},
   "outputs": [],
   "source": []
  },
  {
   "cell_type": "code",
   "execution_count": 97,
   "metadata": {},
   "outputs": [
    {
     "data": {
      "text/html": [
       "<style>\n",
       ".list-inline {list-style: none; margin:0; padding: 0}\n",
       ".list-inline>li {display: inline-block}\n",
       ".list-inline>li:not(:last-child)::after {content: \"\\00b7\"; padding: 0 .5ex}\n",
       "</style>\n",
       "<ol class=list-inline><li>'renewal_type'</li><li>'renewed_count'</li><li>'expiry_date'</li><li>'domain_id'</li><li>'domain'</li><li>'creation_date'</li><li>'status'</li><li>'tld'</li><li>'registrar'</li><li>'reseller'</li><li>'reseller_country'</li><li>'region'</li><li>'reg_period'</li><li>'renewal_status'</li><li>'renew_type'</li><li>'autorenew_type'</li><li>'renew_date'</li><li>'renew_registrar'</li><li>'renew_reseller'</li><li>'reg_revenue'</li><li>'reg_arpt'</li><li>'renew_period'</li><li>'renew_domain_revenue'</li><li>'renew_arpt'</li><li>'reg_arpt_org'</li><li>'tld_registrar_index'</li><li>'sld'</li><li>'sld_type'</li><li>'sld_length'</li><li>'sld_type2'</li><li>'day_domains'</li><li>'log_reg_arpt'</li><li>'gibb_score'</li><li>'cluster'</li><li>'pattern'</li><li>'pattern_score'</li><li>'pattern_domain_count'</li><li>'first_renewal_prediction'</li></ol>\n"
      ],
      "text/latex": [
       "\\begin{enumerate*}\n",
       "\\item 'renewal\\_type'\n",
       "\\item 'renewed\\_count'\n",
       "\\item 'expiry\\_date'\n",
       "\\item 'domain\\_id'\n",
       "\\item 'domain'\n",
       "\\item 'creation\\_date'\n",
       "\\item 'status'\n",
       "\\item 'tld'\n",
       "\\item 'registrar'\n",
       "\\item 'reseller'\n",
       "\\item 'reseller\\_country'\n",
       "\\item 'region'\n",
       "\\item 'reg\\_period'\n",
       "\\item 'renewal\\_status'\n",
       "\\item 'renew\\_type'\n",
       "\\item 'autorenew\\_type'\n",
       "\\item 'renew\\_date'\n",
       "\\item 'renew\\_registrar'\n",
       "\\item 'renew\\_reseller'\n",
       "\\item 'reg\\_revenue'\n",
       "\\item 'reg\\_arpt'\n",
       "\\item 'renew\\_period'\n",
       "\\item 'renew\\_domain\\_revenue'\n",
       "\\item 'renew\\_arpt'\n",
       "\\item 'reg\\_arpt\\_org'\n",
       "\\item 'tld\\_registrar\\_index'\n",
       "\\item 'sld'\n",
       "\\item 'sld\\_type'\n",
       "\\item 'sld\\_length'\n",
       "\\item 'sld\\_type2'\n",
       "\\item 'day\\_domains'\n",
       "\\item 'log\\_reg\\_arpt'\n",
       "\\item 'gibb\\_score'\n",
       "\\item 'cluster'\n",
       "\\item 'pattern'\n",
       "\\item 'pattern\\_score'\n",
       "\\item 'pattern\\_domain\\_count'\n",
       "\\item 'first\\_renewal\\_prediction'\n",
       "\\end{enumerate*}\n"
      ],
      "text/markdown": [
       "1. 'renewal_type'\n",
       "2. 'renewed_count'\n",
       "3. 'expiry_date'\n",
       "4. 'domain_id'\n",
       "5. 'domain'\n",
       "6. 'creation_date'\n",
       "7. 'status'\n",
       "8. 'tld'\n",
       "9. 'registrar'\n",
       "10. 'reseller'\n",
       "11. 'reseller_country'\n",
       "12. 'region'\n",
       "13. 'reg_period'\n",
       "14. 'renewal_status'\n",
       "15. 'renew_type'\n",
       "16. 'autorenew_type'\n",
       "17. 'renew_date'\n",
       "18. 'renew_registrar'\n",
       "19. 'renew_reseller'\n",
       "20. 'reg_revenue'\n",
       "21. 'reg_arpt'\n",
       "22. 'renew_period'\n",
       "23. 'renew_domain_revenue'\n",
       "24. 'renew_arpt'\n",
       "25. 'reg_arpt_org'\n",
       "26. 'tld_registrar_index'\n",
       "27. 'sld'\n",
       "28. 'sld_type'\n",
       "29. 'sld_length'\n",
       "30. 'sld_type2'\n",
       "31. 'day_domains'\n",
       "32. 'log_reg_arpt'\n",
       "33. 'gibb_score'\n",
       "34. 'cluster'\n",
       "35. 'pattern'\n",
       "36. 'pattern_score'\n",
       "37. 'pattern_domain_count'\n",
       "38. 'first_renewal_prediction'\n",
       "\n",
       "\n"
      ],
      "text/plain": [
       " [1] \"renewal_type\"             \"renewed_count\"           \n",
       " [3] \"expiry_date\"              \"domain_id\"               \n",
       " [5] \"domain\"                   \"creation_date\"           \n",
       " [7] \"status\"                   \"tld\"                     \n",
       " [9] \"registrar\"                \"reseller\"                \n",
       "[11] \"reseller_country\"         \"region\"                  \n",
       "[13] \"reg_period\"               \"renewal_status\"          \n",
       "[15] \"renew_type\"               \"autorenew_type\"          \n",
       "[17] \"renew_date\"               \"renew_registrar\"         \n",
       "[19] \"renew_reseller\"           \"reg_revenue\"             \n",
       "[21] \"reg_arpt\"                 \"renew_period\"            \n",
       "[23] \"renew_domain_revenue\"     \"renew_arpt\"              \n",
       "[25] \"reg_arpt_org\"             \"tld_registrar_index\"     \n",
       "[27] \"sld\"                      \"sld_type\"                \n",
       "[29] \"sld_length\"               \"sld_type2\"               \n",
       "[31] \"day_domains\"              \"log_reg_arpt\"            \n",
       "[33] \"gibb_score\"               \"cluster\"                 \n",
       "[35] \"pattern\"                  \"pattern_score\"           \n",
       "[37] \"pattern_domain_count\"     \"first_renewal_prediction\""
      ]
     },
     "metadata": {},
     "output_type": "display_data"
    }
   ],
   "source": [
    "names(train_df)"
   ]
  },
  {
   "cell_type": "code",
   "execution_count": 105,
   "metadata": {},
   "outputs": [
    {
     "name": "stderr",
     "output_type": "stream",
     "text": [
      "Warning message in cbind(parts$left, ellip_h, parts$right, deparse.level = 0L):\n",
      "“number of rows of result is not a multiple of vector length (arg 2)”\n",
      "Warning message in cbind(parts$left, ellip_h, parts$right, deparse.level = 0L):\n",
      "“number of rows of result is not a multiple of vector length (arg 2)”\n",
      "Warning message in cbind(parts$left, ellip_h, parts$right, deparse.level = 0L):\n",
      "“number of rows of result is not a multiple of vector length (arg 2)”\n",
      "Warning message in cbind(parts$left, ellip_h, parts$right, deparse.level = 0L):\n",
      "“number of rows of result is not a multiple of vector length (arg 2)”\n"
     ]
    },
    {
     "data": {
      "text/html": [
       "<table>\n",
       "<caption>A data.table: 0 × 38</caption>\n",
       "<thead>\n",
       "\t<tr><th scope=col>renewal_type</th><th scope=col>renewed_count</th><th scope=col>expiry_date</th><th scope=col>domain_id</th><th scope=col>domain</th><th scope=col>creation_date</th><th scope=col>status</th><th scope=col>tld</th><th scope=col>registrar</th><th scope=col>reseller</th><th scope=col>⋯</th><th scope=col>sld_length</th><th scope=col>sld_type2</th><th scope=col>day_domains</th><th scope=col>log_reg_arpt</th><th scope=col>gibb_score</th><th scope=col>cluster</th><th scope=col>pattern</th><th scope=col>pattern_score</th><th scope=col>pattern_domain_count</th><th scope=col>first_renewal_prediction</th></tr>\n",
       "\t<tr><th scope=col>&lt;chr&gt;</th><th scope=col>&lt;chr&gt;</th><th scope=col>&lt;date&gt;</th><th scope=col>&lt;int&gt;</th><th scope=col>&lt;chr&gt;</th><th scope=col>&lt;date&gt;</th><th scope=col>&lt;chr&gt;</th><th scope=col>&lt;fct&gt;</th><th scope=col>&lt;chr&gt;</th><th scope=col>&lt;fct&gt;</th><th scope=col>⋯</th><th scope=col>&lt;int&gt;</th><th scope=col>&lt;chr&gt;</th><th scope=col>&lt;int&gt;</th><th scope=col>&lt;dbl&gt;</th><th scope=col>&lt;dbl&gt;</th><th scope=col>&lt;dbl&gt;</th><th scope=col>&lt;chr&gt;</th><th scope=col>&lt;dbl&gt;</th><th scope=col>&lt;int&gt;</th><th scope=col>&lt;dbl&gt;</th></tr>\n",
       "</thead>\n",
       "<tbody>\n",
       "</tbody>\n",
       "</table>\n"
      ],
      "text/latex": [
       "A data.table: 0 × 38\n",
       "\\begin{tabular}{lllllllllllllllllllll}\n",
       " renewal\\_type & renewed\\_count & expiry\\_date & domain\\_id & domain & creation\\_date & status & tld & registrar & reseller & ⋯ & sld\\_length & sld\\_type2 & day\\_domains & log\\_reg\\_arpt & gibb\\_score & cluster & pattern & pattern\\_score & pattern\\_domain\\_count & first\\_renewal\\_prediction\\\\\n",
       " <chr> & <chr> & <date> & <int> & <chr> & <date> & <chr> & <fct> & <chr> & <fct> & ⋯ & <int> & <chr> & <int> & <dbl> & <dbl> & <dbl> & <chr> & <dbl> & <int> & <dbl>\\\\\n",
       "\\hline\n",
       "\\end{tabular}\n"
      ],
      "text/markdown": [
       "\n",
       "A data.table: 0 × 38\n",
       "\n",
       "| renewal_type &lt;chr&gt; | renewed_count &lt;chr&gt; | expiry_date &lt;date&gt; | domain_id &lt;int&gt; | domain &lt;chr&gt; | creation_date &lt;date&gt; | status &lt;chr&gt; | tld &lt;fct&gt; | registrar &lt;chr&gt; | reseller &lt;fct&gt; | ⋯ ⋯ | sld_length &lt;int&gt; | sld_type2 &lt;chr&gt; | day_domains &lt;int&gt; | log_reg_arpt &lt;dbl&gt; | gibb_score &lt;dbl&gt; | cluster &lt;dbl&gt; | pattern &lt;chr&gt; | pattern_score &lt;dbl&gt; | pattern_domain_count &lt;int&gt; | first_renewal_prediction &lt;dbl&gt; |\n",
       "|---|---|---|---|---|---|---|---|---|---|---|---|---|---|---|---|---|---|---|---|---|\n",
       "\n"
      ],
      "text/plain": [
       "     renewal_type renewed_count expiry_date domain_id domain creation_date\n",
       "     status tld registrar reseller ⋯ sld_length sld_type2 day_domains\n",
       "     log_reg_arpt gibb_score cluster pattern pattern_score pattern_domain_count\n",
       "     first_renewal_prediction"
      ]
     },
     "metadata": {},
     "output_type": "display_data"
    }
   ],
   "source": [
    "train_df %>% filter(domain %like% \"%world%\")"
   ]
  },
  {
   "cell_type": "code",
   "execution_count": 106,
   "metadata": {},
   "outputs": [
    {
     "data": {
      "text/html": [
       "<style>\n",
       ".list-inline {list-style: none; margin:0; padding: 0}\n",
       ".list-inline>li {display: inline-block}\n",
       ".list-inline>li:not(:last-child)::after {content: \"\\00b7\"; padding: 0 .5ex}\n",
       "</style>\n",
       "<ol class=list-inline><li>'bianchi.fun'</li><li>'ppap.fun'</li><li>'frontale.fun'</li><li>'kimono.fun'</li><li>'kawaii.fun'</li><li>'ftb.fun'</li></ol>\n"
      ],
      "text/latex": [
       "\\begin{enumerate*}\n",
       "\\item 'bianchi.fun'\n",
       "\\item 'ppap.fun'\n",
       "\\item 'frontale.fun'\n",
       "\\item 'kimono.fun'\n",
       "\\item 'kawaii.fun'\n",
       "\\item 'ftb.fun'\n",
       "\\end{enumerate*}\n"
      ],
      "text/markdown": [
       "1. 'bianchi.fun'\n",
       "2. 'ppap.fun'\n",
       "3. 'frontale.fun'\n",
       "4. 'kimono.fun'\n",
       "5. 'kawaii.fun'\n",
       "6. 'ftb.fun'\n",
       "\n",
       "\n"
      ],
      "text/plain": [
       "[1] \"bianchi.fun\"  \"ppap.fun\"     \"frontale.fun\" \"kimono.fun\"   \"kawaii.fun\"  \n",
       "[6] \"ftb.fun\"     "
      ]
     },
     "metadata": {},
     "output_type": "display_data"
    }
   ],
   "source": [
    "head(train_df$domain)"
   ]
  },
  {
   "cell_type": "markdown",
   "metadata": {},
   "source": [
    "### Issue:\n",
    "Though overall, the n number returned by info_node() is reporting the weighted number of observations in train_df total \\[ 1,559,265*4*0.1122805+ 1,559,265*3*.89) = 1,559,265*(3.1122805) = 4,852,870\\] the n number for node # 1858 does not equal the wighted number of observations filtering though that node \\[1817*4=7268!=6780\\] (however note that all filtering through that node as indeed Renewed). This may be due to the way the decision tree handles missing data (to be investigated). For now, looking into a node without the problematic renew_M and renew_Y variables. "
   ]
  },
  {
   "cell_type": "markdown",
   "metadata": {},
   "source": [
    "#1. Identify high-Renew-pred node that doesn't have renew_M or renew_Y as splitting rules\n",
    "\n",
    "#1.a) get a list of all super high-Renew-pred nodes (via tn_info list)\n",
    "\n",
    "#1.b) for those nodes, parse through splitting rules to extract those w/o renew_M and renew_Y (via terminals)"
   ]
  },
  {
   "cell_type": "code",
   "execution_count": 13,
   "metadata": {},
   "outputs": [
    {
     "data": {
      "text/html": [
       "<strong>$`9`</strong> = <dl>\n",
       "\t<dt>$prediction</dt>\n",
       "\t\t<dd><strong>Renewed:</strong> Renewed\n",
       "<details>\n",
       "\t<summary style=display:list-item;cursor:pointer>\n",
       "\t\t<strong>Levels</strong>:\n",
       "\t</summary>\n",
       "\t<style>\n",
       "\t.list-inline {list-style: none; margin:0; padding: 0}\n",
       "\t.list-inline>li {display: inline-block}\n",
       "\t.list-inline>li:not(:last-child)::after {content: \"\\00b7\"; padding: 0 .5ex}\n",
       "\t</style>\n",
       "\t<ol class=list-inline><li>'Not Renewd'</li><li>'Renewed'</li></ol>\n",
       "</details></dd>\n",
       "\t<dt>$n</dt>\n",
       "\t\t<dd><strong>n:</strong> 138</dd>\n",
       "\t<dt>$error</dt>\n",
       "\t\t<dd><strong>%:</strong> 21.7391304347826</dd>\n",
       "\t<dt>$distribution</dt>\n",
       "\t\t<dd><style>\n",
       ".dl-inline {width: auto; margin:0; padding: 0}\n",
       ".dl-inline>dt, .dl-inline>dd {float: none; width: auto; display: inline-block}\n",
       ".dl-inline>dt::after {content: \":\\0020\"; padding-right: .5ex}\n",
       ".dl-inline>dt:not(:first-of-type) {padding-left: .5ex}\n",
       "</style><dl class=dl-inline><dt>Not Renewd</dt><dd>30</dd><dt>Renewed</dt><dd>108</dd></dl>\n",
       "</dd>\n",
       "\t<dt>$p.value</dt>\n",
       "\t\t<dd><strong>cluster:</strong> 3.72783486690712e-05</dd>\n",
       "</dl>\n"
      ],
      "text/latex": [
       "\\textbf{\\$`9`} = \\begin{description}\n",
       "\\item[\\$prediction] \\textbf{Renewed:} Renewed\n",
       "\\emph{Levels}: \\begin{enumerate*}\n",
       "\\item 'Not Renewd'\n",
       "\\item 'Renewed'\n",
       "\\end{enumerate*}\n",
       "\n",
       "\\item[\\$n] \\textbf{n:} 138\n",
       "\\item[\\$error] \\textbf{\\textbackslash{}\\%:} 21.7391304347826\n",
       "\\item[\\$distribution] \\begin{description*}\n",
       "\\item[Not Renewd] 30\n",
       "\\item[Renewed] 108\n",
       "\\end{description*}\n",
       "\n",
       "\\item[\\$p.value] \\textbf{cluster:} 3.72783486690712e-05\n",
       "\\end{description}\n"
      ],
      "text/markdown": [
       "**$`9`** = $prediction\n",
       ":   **Renewed:** Renewed\n",
       "**Levels**: 1. 'Not Renewd'\n",
       "2. 'Renewed'\n",
       "\n",
       "\n",
       "\n",
       "$n\n",
       ":   **n:** 138\n",
       "$error\n",
       ":   **%:** 21.7391304347826\n",
       "$distribution\n",
       ":   Not Renewd\n",
       ":   30Renewed\n",
       ":   108\n",
       "\n",
       "\n",
       "$p.value\n",
       ":   **cluster:** 3.72783486690712e-05\n",
       "\n",
       "\n"
      ],
      "text/plain": [
       "$`9`\n",
       "$`9`$prediction\n",
       "Renewed \n",
       "Renewed \n",
       "Levels: Not Renewd Renewed\n",
       "\n",
       "$`9`$n\n",
       "  n \n",
       "138 \n",
       "\n",
       "$`9`$error\n",
       "       % \n",
       "21.73913 \n",
       "\n",
       "$`9`$distribution\n",
       "Not Renewd    Renewed \n",
       "        30        108 \n",
       "\n",
       "$`9`$p.value\n",
       "     cluster \n",
       "3.727835e-05 \n",
       "\n"
      ]
     },
     "metadata": {},
     "output_type": "display_data"
    }
   ],
   "source": [
    "tn_info[1]"
   ]
  },
  {
   "cell_type": "code",
   "execution_count": 28,
   "metadata": {},
   "outputs": [
    {
     "data": {
      "text/html": [
       "<table>\n",
       "<caption>A tibble: 6 × 3</caption>\n",
       "<thead>\n",
       "\t<tr><th scope=col>node</th><th scope=col>Renewed</th><th scope=col>n</th></tr>\n",
       "\t<tr><th scope=col>&lt;chr&gt;</th><th scope=col>&lt;dbl&gt;</th><th scope=col>&lt;dbl&gt;</th></tr>\n",
       "</thead>\n",
       "<tbody>\n",
       "\t<tr><td>1858</td><td>1</td><td>6780</td></tr>\n",
       "\t<tr><td>1698</td><td>1</td><td>6556</td></tr>\n",
       "\t<tr><td>997 </td><td>1</td><td>3352</td></tr>\n",
       "\t<tr><td>3803</td><td>1</td><td>3308</td></tr>\n",
       "\t<tr><td>1072</td><td>1</td><td>3176</td></tr>\n",
       "\t<tr><td>1109</td><td>1</td><td>3100</td></tr>\n",
       "</tbody>\n",
       "</table>\n"
      ],
      "text/latex": [
       "A tibble: 6 × 3\n",
       "\\begin{tabular}{lll}\n",
       " node & Renewed & n\\\\\n",
       " <chr> & <dbl> & <dbl>\\\\\n",
       "\\hline\n",
       "\t 1858 & 1 & 6780\\\\\n",
       "\t 1698 & 1 & 6556\\\\\n",
       "\t 997  & 1 & 3352\\\\\n",
       "\t 3803 & 1 & 3308\\\\\n",
       "\t 1072 & 1 & 3176\\\\\n",
       "\t 1109 & 1 & 3100\\\\\n",
       "\\end{tabular}\n"
      ],
      "text/markdown": [
       "\n",
       "A tibble: 6 × 3\n",
       "\n",
       "| node &lt;chr&gt; | Renewed &lt;dbl&gt; | n &lt;dbl&gt; |\n",
       "|---|---|---|\n",
       "| 1858 | 1 | 6780 |\n",
       "| 1698 | 1 | 6556 |\n",
       "| 997  | 1 | 3352 |\n",
       "| 3803 | 1 | 3308 |\n",
       "| 1072 | 1 | 3176 |\n",
       "| 1109 | 1 | 3100 |\n",
       "\n"
      ],
      "text/plain": [
       "  node Renewed n   \n",
       "1 1858 1       6780\n",
       "2 1698 1       6556\n",
       "3 997  1       3352\n",
       "4 3803 1       3308\n",
       "5 1072 1       3176\n",
       "6 1109 1       3100"
      ]
     },
     "metadata": {},
     "output_type": "display_data"
    }
   ],
   "source": [
    "tn_renrates <- lapply(tn_info, function(t) c(t[[4]][2]/t[[2]], t[[2]]))\n",
    "tn_renrates_df <- as.data.frame(t(as.data.frame(tn_renrates)))\n",
    "tn_renrates_df <- tn_renrates_df %>% arrange(desc(Renewed),desc(n)) \n",
    "tn_renrates_R1df <- tn_renrates_df %>%  add_rownames(var = \"node\") %>% filter(Renewed==1) \n",
    "tn_renrates_R1df$node <- stringr::str_replace(tn_renrates_R1df$node, 'X', '')\n",
    "head(tn_renrates_R1df)"
   ]
  },
  {
   "cell_type": "code",
   "execution_count": 34,
   "metadata": {},
   "outputs": [
    {
     "data": {
      "text/html": [
       "454"
      ],
      "text/latex": [
       "454"
      ],
      "text/markdown": [
       "454"
      ],
      "text/plain": [
       "[1] 454"
      ]
     },
     "metadata": {},
     "output_type": "display_data"
    },
    {
     "data": {
      "text/html": [
       "<style>\n",
       ".list-inline {list-style: none; margin:0; padding: 0}\n",
       ".list-inline>li {display: inline-block}\n",
       ".list-inline>li:not(:last-child)::after {content: \"\\00b7\"; padding: 0 .5ex}\n",
       "</style>\n",
       "<ol class=list-inline><li>'1858'</li><li>'1698'</li><li>'997'</li><li>'3803'</li><li>'1072'</li><li>'1109'</li><li>'6319'</li><li>'2093'</li><li>'1371'</li><li>'993'</li></ol>\n"
      ],
      "text/latex": [
       "\\begin{enumerate*}\n",
       "\\item '1858'\n",
       "\\item '1698'\n",
       "\\item '997'\n",
       "\\item '3803'\n",
       "\\item '1072'\n",
       "\\item '1109'\n",
       "\\item '6319'\n",
       "\\item '2093'\n",
       "\\item '1371'\n",
       "\\item '993'\n",
       "\\end{enumerate*}\n"
      ],
      "text/markdown": [
       "1. '1858'\n",
       "2. '1698'\n",
       "3. '997'\n",
       "4. '3803'\n",
       "5. '1072'\n",
       "6. '1109'\n",
       "7. '6319'\n",
       "8. '2093'\n",
       "9. '1371'\n",
       "10. '993'\n",
       "\n",
       "\n"
      ],
      "text/plain": [
       " [1] \"1858\" \"1698\" \"997\"  \"3803\" \"1072\" \"1109\" \"6319\" \"2093\" \"1371\" \"993\" "
      ]
     },
     "metadata": {},
     "output_type": "display_data"
    }
   ],
   "source": [
    "terminalnodes_R1 <- tn_renrates_R1df$node\n",
    "length(terminalnodes_R1)\n",
    "terminalnodes_R1[1:10]"
   ]
  },
  {
   "cell_type": "code",
   "execution_count": 36,
   "metadata": {},
   "outputs": [
    {
     "data": {
      "text/html": [
       "<style>\n",
       ".list-inline {list-style: none; margin:0; padding: 0}\n",
       ".list-inline>li {display: inline-block}\n",
       ".list-inline>li:not(:last-child)::after {content: \"\\00b7\"; padding: 0 .5ex}\n",
       "</style>\n",
       "<ol class=list-inline><li>454</li><li>4</li></ol>\n"
      ],
      "text/latex": [
       "\\begin{enumerate*}\n",
       "\\item 454\n",
       "\\item 4\n",
       "\\end{enumerate*}\n"
      ],
      "text/markdown": [
       "1. 454\n",
       "2. 4\n",
       "\n",
       "\n"
      ],
      "text/plain": [
       "[1] 454   4"
      ]
     },
     "metadata": {},
     "output_type": "display_data"
    },
    {
     "data": {
      "text/html": [
       "<table>\n",
       "<caption>A data.frame: 6 × 4</caption>\n",
       "<thead>\n",
       "\t<tr><th></th><th scope=col>Rule</th><th scope=col>Not Renewd</th><th scope=col>Renewed</th><th scope=col>Terminal_Node</th></tr>\n",
       "\t<tr><th></th><th scope=col>&lt;chr&gt;</th><th scope=col>&lt;chr&gt;</th><th scope=col>&lt;chr&gt;</th><th scope=col>&lt;dbl&gt;</th></tr>\n",
       "</thead>\n",
       "<tbody>\n",
       "\t<tr><th scope=row>1</th><td><span style=white-space:pre-wrap>tld %in% c(\"fun\", \"host\", \"press\", \"pw\", \"site\", \"space\", \"website\") &amp; renew_Y %in% c(\"2014\", \"2015\", \"2016\", \"2017\", \"2018\") &amp; creation_Y %in% c(\"2013\", \"2014\", \"2015\", \"2016\", \"2018\") &amp; reseller %in% c(\"gmo\", \"namecheap\") &amp; expiry_Y %in% c(\"2018\") &amp; reseller_country %in% c(\"Japan\") &amp; renew_M %in% c(\"01\", \"02\", \"03\", \"09\", \"11\") &amp; expiry_M %in% c(\"04\", , , , \"08\", \"10\", \"12\")                                                                                                                                                                                                                                                                                                                                                                </span></td><td>0</td><td>1</td><td>10</td></tr>\n",
       "\t<tr><th scope=row>2</th><td><span style=white-space:pre-wrap>tld %in% c(\"fun\", \"host\", \"press\", \"pw\", \"site\", \"space\", \"website\") &amp; renew_Y %in% c(\"2014\", \"2015\", \"2016\", \"2017\", \"2018\") &amp; creation_Y %in% c(\"2013\", \"2014\", \"2015\", \"2016\", \"2018\") &amp; reseller %in% c(\"gmo\", \"namecheap\") &amp; expiry_Y %in% c(\"2018\") &amp; reseller_country %in% c(\"Japan\") &amp; renew_M %in% c(\"04\", \"05\", \"06\", \"07\", \"08\", \"10\", \"12\") &amp; sld_type %in% c(\"hyphen-l\", , \"l\", , ) &amp; renew_Y %in% c(, , \"2016\", \"2017\", )                                                                                                                                                                                                                                                                                                                    </span></td><td>0</td><td>1</td><td>13</td></tr>\n",
       "\t<tr><th scope=row>3</th><td><span style=white-space:pre-wrap>tld %in% c(\"fun\", \"host\", \"press\", \"pw\", \"site\", \"space\", \"website\") &amp; renew_Y %in% c(\"2014\", \"2015\", \"2016\", \"2017\", \"2018\") &amp; creation_Y %in% c(\"2013\", \"2014\", \"2015\", \"2016\", \"2018\") &amp; reseller %in% c(\"gmo\", \"namecheap\") &amp; expiry_Y %in% c(\"2018\") &amp; reseller_country %in% c(\"United States\") &amp; renew_Y %in% c(, \"2015\", \"2016\", \"2017\", )                                                                                                                                                                                                                                                                                                                                                                                                          </span></td><td>0</td><td>1</td><td>17</td></tr>\n",
       "\t<tr><th scope=row>4</th><td>tld %in% c(\"fun\", \"host\", \"press\", \"pw\", \"site\", \"space\", \"website\") &amp; renew_Y %in% c(\"2014\", \"2015\", \"2016\", \"2017\", \"2018\") &amp; creation_Y %in% c(\"2013\", \"2014\", \"2015\", \"2016\", \"2018\") &amp; reseller %in% c(\"gmo\", \"namecheap\") &amp; expiry_Y %in% c(\"2018\") &amp; reseller_country %in% c(\"United States\") &amp; renew_Y %in% c(, \"2018\", ) &amp; renew_M %in% c(\"01\", \"02\", \"06\", \"07\", \"09\", \"10\", \"11\", \"12\") &amp; expiry_M %in% c(\"01\", \"02\", , , \"06\", \"07\", \"09\", \"10\", \"11\", \"12\") &amp; renew_M %in% c(\"01\", , , , \"06\", , \"10\", \"11\") &amp; expiry_M %in% c(\"01\", , , , \"06\", , , \"10\", \"11\") &amp; pattern_domain_count &lt;= 1 &amp; tld %in% c(, , , , \"press\", \"pw\", \"site\", , , \"website\") &amp; renew_M %in% c(, , , , \"06\", , , , \"10\", ) &amp; expiry_M %in% c(, , , , , , , , \"11\", )</td><td>0</td><td>1</td><td>28</td></tr>\n",
       "\t<tr><th scope=row>5</th><td><span style=white-space:pre-wrap>tld %in% c(\"fun\", \"host\", \"press\", \"pw\", \"site\", \"space\", \"website\") &amp; renew_Y %in% c(\"2014\", \"2015\", \"2016\", \"2017\", \"2018\") &amp; creation_Y %in% c(\"2013\", \"2014\", \"2015\", \"2016\", \"2018\") &amp; reseller %in% c(\"gmo\", \"namecheap\") &amp; expiry_Y %in% c(\"2018\") &amp; reseller_country %in% c(\"United States\") &amp; renew_Y %in% c(, \"2018\", ) &amp; renew_M %in% c(\"01\", \"02\", \"06\", \"07\", \"09\", \"10\", \"11\", \"12\") &amp; expiry_M %in% c(\"01\", \"02\", , , \"06\", \"07\", \"09\", \"10\", \"11\", \"12\") &amp; renew_M %in% c(\"01\", , , , \"06\", , \"10\", \"11\") &amp; expiry_M %in% c(\"01\", , , , \"06\", , , \"10\", \"11\") &amp; pattern_domain_count &gt; 1                                                                                                                                                   </span></td><td>0</td><td>1</td><td>32</td></tr>\n",
       "\t<tr><th scope=row>6</th><td><span style=white-space:pre-wrap>tld %in% c(\"fun\", \"host\", \"press\", \"pw\", \"site\", \"space\", \"website\") &amp; renew_Y %in% c(\"2014\", \"2015\", \"2016\", \"2017\", \"2018\") &amp; creation_Y %in% c(\"2013\", \"2014\", \"2015\", \"2016\", \"2018\") &amp; reseller %in% c(\"gmo\", \"namecheap\") &amp; expiry_Y %in% c(\"2018\") &amp; reseller_country %in% c(\"United States\") &amp; renew_Y %in% c(, \"2018\", ) &amp; renew_M %in% c(\"01\", \"02\", \"06\", \"07\", \"09\", \"10\", \"11\", \"12\") &amp; expiry_M %in% c(\"01\", \"02\", , , \"06\", \"07\", \"09\", \"10\", \"11\", \"12\") &amp; renew_M %in% c(\"01\", , , , \"06\", , \"10\", \"11\") &amp; expiry_M %in% c(\"02\", , , , \"07\", , , \"12\")                                                                                                                                                                                    </span></td><td>0</td><td>1</td><td>33</td></tr>\n",
       "</tbody>\n",
       "</table>\n"
      ],
      "text/latex": [
       "A data.frame: 6 × 4\n",
       "\\begin{tabular}{r|llll}\n",
       "  & Rule & Not Renewd & Renewed & Terminal\\_Node\\\\\n",
       "  & <chr> & <chr> & <chr> & <dbl>\\\\\n",
       "\\hline\n",
       "\t1 & tld \\%in\\% c(\"fun\", \"host\", \"press\", \"pw\", \"site\", \"space\", \"website\") \\& renew\\_Y \\%in\\% c(\"2014\", \"2015\", \"2016\", \"2017\", \"2018\") \\& creation\\_Y \\%in\\% c(\"2013\", \"2014\", \"2015\", \"2016\", \"2018\") \\& reseller \\%in\\% c(\"gmo\", \"namecheap\") \\& expiry\\_Y \\%in\\% c(\"2018\") \\& reseller\\_country \\%in\\% c(\"Japan\") \\& renew\\_M \\%in\\% c(\"01\", \"02\", \"03\", \"09\", \"11\") \\& expiry\\_M \\%in\\% c(\"04\", , , , \"08\", \"10\", \"12\")                                                                                                                                                                                                                                                                                                                                                                 & 0 & 1 & 10\\\\\n",
       "\t2 & tld \\%in\\% c(\"fun\", \"host\", \"press\", \"pw\", \"site\", \"space\", \"website\") \\& renew\\_Y \\%in\\% c(\"2014\", \"2015\", \"2016\", \"2017\", \"2018\") \\& creation\\_Y \\%in\\% c(\"2013\", \"2014\", \"2015\", \"2016\", \"2018\") \\& reseller \\%in\\% c(\"gmo\", \"namecheap\") \\& expiry\\_Y \\%in\\% c(\"2018\") \\& reseller\\_country \\%in\\% c(\"Japan\") \\& renew\\_M \\%in\\% c(\"04\", \"05\", \"06\", \"07\", \"08\", \"10\", \"12\") \\& sld\\_type \\%in\\% c(\"hyphen-l\", , \"l\", , ) \\& renew\\_Y \\%in\\% c(, , \"2016\", \"2017\", )                                                                                                                                                                                                                                                                                                                     & 0 & 1 & 13\\\\\n",
       "\t3 & tld \\%in\\% c(\"fun\", \"host\", \"press\", \"pw\", \"site\", \"space\", \"website\") \\& renew\\_Y \\%in\\% c(\"2014\", \"2015\", \"2016\", \"2017\", \"2018\") \\& creation\\_Y \\%in\\% c(\"2013\", \"2014\", \"2015\", \"2016\", \"2018\") \\& reseller \\%in\\% c(\"gmo\", \"namecheap\") \\& expiry\\_Y \\%in\\% c(\"2018\") \\& reseller\\_country \\%in\\% c(\"United States\") \\& renew\\_Y \\%in\\% c(, \"2015\", \"2016\", \"2017\", )                                                                                                                                                                                                                                                                                                                                                                                                           & 0 & 1 & 17\\\\\n",
       "\t4 & tld \\%in\\% c(\"fun\", \"host\", \"press\", \"pw\", \"site\", \"space\", \"website\") \\& renew\\_Y \\%in\\% c(\"2014\", \"2015\", \"2016\", \"2017\", \"2018\") \\& creation\\_Y \\%in\\% c(\"2013\", \"2014\", \"2015\", \"2016\", \"2018\") \\& reseller \\%in\\% c(\"gmo\", \"namecheap\") \\& expiry\\_Y \\%in\\% c(\"2018\") \\& reseller\\_country \\%in\\% c(\"United States\") \\& renew\\_Y \\%in\\% c(, \"2018\", ) \\& renew\\_M \\%in\\% c(\"01\", \"02\", \"06\", \"07\", \"09\", \"10\", \"11\", \"12\") \\& expiry\\_M \\%in\\% c(\"01\", \"02\", , , \"06\", \"07\", \"09\", \"10\", \"11\", \"12\") \\& renew\\_M \\%in\\% c(\"01\", , , , \"06\", , \"10\", \"11\") \\& expiry\\_M \\%in\\% c(\"01\", , , , \"06\", , , \"10\", \"11\") \\& pattern\\_domain\\_count <= 1 \\& tld \\%in\\% c(, , , , \"press\", \"pw\", \"site\", , , \"website\") \\& renew\\_M \\%in\\% c(, , , , \"06\", , , , \"10\", ) \\& expiry\\_M \\%in\\% c(, , , , , , , , \"11\", ) & 0 & 1 & 28\\\\\n",
       "\t5 & tld \\%in\\% c(\"fun\", \"host\", \"press\", \"pw\", \"site\", \"space\", \"website\") \\& renew\\_Y \\%in\\% c(\"2014\", \"2015\", \"2016\", \"2017\", \"2018\") \\& creation\\_Y \\%in\\% c(\"2013\", \"2014\", \"2015\", \"2016\", \"2018\") \\& reseller \\%in\\% c(\"gmo\", \"namecheap\") \\& expiry\\_Y \\%in\\% c(\"2018\") \\& reseller\\_country \\%in\\% c(\"United States\") \\& renew\\_Y \\%in\\% c(, \"2018\", ) \\& renew\\_M \\%in\\% c(\"01\", \"02\", \"06\", \"07\", \"09\", \"10\", \"11\", \"12\") \\& expiry\\_M \\%in\\% c(\"01\", \"02\", , , \"06\", \"07\", \"09\", \"10\", \"11\", \"12\") \\& renew\\_M \\%in\\% c(\"01\", , , , \"06\", , \"10\", \"11\") \\& expiry\\_M \\%in\\% c(\"01\", , , , \"06\", , , \"10\", \"11\") \\& pattern\\_domain\\_count > 1                                                                                                                                                    & 0 & 1 & 32\\\\\n",
       "\t6 & tld \\%in\\% c(\"fun\", \"host\", \"press\", \"pw\", \"site\", \"space\", \"website\") \\& renew\\_Y \\%in\\% c(\"2014\", \"2015\", \"2016\", \"2017\", \"2018\") \\& creation\\_Y \\%in\\% c(\"2013\", \"2014\", \"2015\", \"2016\", \"2018\") \\& reseller \\%in\\% c(\"gmo\", \"namecheap\") \\& expiry\\_Y \\%in\\% c(\"2018\") \\& reseller\\_country \\%in\\% c(\"United States\") \\& renew\\_Y \\%in\\% c(, \"2018\", ) \\& renew\\_M \\%in\\% c(\"01\", \"02\", \"06\", \"07\", \"09\", \"10\", \"11\", \"12\") \\& expiry\\_M \\%in\\% c(\"01\", \"02\", , , \"06\", \"07\", \"09\", \"10\", \"11\", \"12\") \\& renew\\_M \\%in\\% c(\"01\", , , , \"06\", , \"10\", \"11\") \\& expiry\\_M \\%in\\% c(\"02\", , , , \"07\", , , \"12\")                                                                                                                                                                                     & 0 & 1 & 33\\\\\n",
       "\\end{tabular}\n"
      ],
      "text/markdown": [
       "\n",
       "A data.frame: 6 × 4\n",
       "\n",
       "| <!--/--> | Rule &lt;chr&gt; | Not Renewd &lt;chr&gt; | Renewed &lt;chr&gt; | Terminal_Node &lt;dbl&gt; |\n",
       "|---|---|---|---|---|\n",
       "| 1 | tld %in% c(\"fun\", \"host\", \"press\", \"pw\", \"site\", \"space\", \"website\") &amp; renew_Y %in% c(\"2014\", \"2015\", \"2016\", \"2017\", \"2018\") &amp; creation_Y %in% c(\"2013\", \"2014\", \"2015\", \"2016\", \"2018\") &amp; reseller %in% c(\"gmo\", \"namecheap\") &amp; expiry_Y %in% c(\"2018\") &amp; reseller_country %in% c(\"Japan\") &amp; renew_M %in% c(\"01\", \"02\", \"03\", \"09\", \"11\") &amp; expiry_M %in% c(\"04\", , , , \"08\", \"10\", \"12\")                                                                                                                                                                                                                                                                                                                                                                 | 0 | 1 | 10 |\n",
       "| 2 | tld %in% c(\"fun\", \"host\", \"press\", \"pw\", \"site\", \"space\", \"website\") &amp; renew_Y %in% c(\"2014\", \"2015\", \"2016\", \"2017\", \"2018\") &amp; creation_Y %in% c(\"2013\", \"2014\", \"2015\", \"2016\", \"2018\") &amp; reseller %in% c(\"gmo\", \"namecheap\") &amp; expiry_Y %in% c(\"2018\") &amp; reseller_country %in% c(\"Japan\") &amp; renew_M %in% c(\"04\", \"05\", \"06\", \"07\", \"08\", \"10\", \"12\") &amp; sld_type %in% c(\"hyphen-l\", , \"l\", , ) &amp; renew_Y %in% c(, , \"2016\", \"2017\", )                                                                                                                                                                                                                                                                                                                     | 0 | 1 | 13 |\n",
       "| 3 | tld %in% c(\"fun\", \"host\", \"press\", \"pw\", \"site\", \"space\", \"website\") &amp; renew_Y %in% c(\"2014\", \"2015\", \"2016\", \"2017\", \"2018\") &amp; creation_Y %in% c(\"2013\", \"2014\", \"2015\", \"2016\", \"2018\") &amp; reseller %in% c(\"gmo\", \"namecheap\") &amp; expiry_Y %in% c(\"2018\") &amp; reseller_country %in% c(\"United States\") &amp; renew_Y %in% c(, \"2015\", \"2016\", \"2017\", )                                                                                                                                                                                                                                                                                                                                                                                                           | 0 | 1 | 17 |\n",
       "| 4 | tld %in% c(\"fun\", \"host\", \"press\", \"pw\", \"site\", \"space\", \"website\") &amp; renew_Y %in% c(\"2014\", \"2015\", \"2016\", \"2017\", \"2018\") &amp; creation_Y %in% c(\"2013\", \"2014\", \"2015\", \"2016\", \"2018\") &amp; reseller %in% c(\"gmo\", \"namecheap\") &amp; expiry_Y %in% c(\"2018\") &amp; reseller_country %in% c(\"United States\") &amp; renew_Y %in% c(, \"2018\", ) &amp; renew_M %in% c(\"01\", \"02\", \"06\", \"07\", \"09\", \"10\", \"11\", \"12\") &amp; expiry_M %in% c(\"01\", \"02\", , , \"06\", \"07\", \"09\", \"10\", \"11\", \"12\") &amp; renew_M %in% c(\"01\", , , , \"06\", , \"10\", \"11\") &amp; expiry_M %in% c(\"01\", , , , \"06\", , , \"10\", \"11\") &amp; pattern_domain_count &lt;= 1 &amp; tld %in% c(, , , , \"press\", \"pw\", \"site\", , , \"website\") &amp; renew_M %in% c(, , , , \"06\", , , , \"10\", ) &amp; expiry_M %in% c(, , , , , , , , \"11\", ) | 0 | 1 | 28 |\n",
       "| 5 | tld %in% c(\"fun\", \"host\", \"press\", \"pw\", \"site\", \"space\", \"website\") &amp; renew_Y %in% c(\"2014\", \"2015\", \"2016\", \"2017\", \"2018\") &amp; creation_Y %in% c(\"2013\", \"2014\", \"2015\", \"2016\", \"2018\") &amp; reseller %in% c(\"gmo\", \"namecheap\") &amp; expiry_Y %in% c(\"2018\") &amp; reseller_country %in% c(\"United States\") &amp; renew_Y %in% c(, \"2018\", ) &amp; renew_M %in% c(\"01\", \"02\", \"06\", \"07\", \"09\", \"10\", \"11\", \"12\") &amp; expiry_M %in% c(\"01\", \"02\", , , \"06\", \"07\", \"09\", \"10\", \"11\", \"12\") &amp; renew_M %in% c(\"01\", , , , \"06\", , \"10\", \"11\") &amp; expiry_M %in% c(\"01\", , , , \"06\", , , \"10\", \"11\") &amp; pattern_domain_count &gt; 1                                                                                                                                                    | 0 | 1 | 32 |\n",
       "| 6 | tld %in% c(\"fun\", \"host\", \"press\", \"pw\", \"site\", \"space\", \"website\") &amp; renew_Y %in% c(\"2014\", \"2015\", \"2016\", \"2017\", \"2018\") &amp; creation_Y %in% c(\"2013\", \"2014\", \"2015\", \"2016\", \"2018\") &amp; reseller %in% c(\"gmo\", \"namecheap\") &amp; expiry_Y %in% c(\"2018\") &amp; reseller_country %in% c(\"United States\") &amp; renew_Y %in% c(, \"2018\", ) &amp; renew_M %in% c(\"01\", \"02\", \"06\", \"07\", \"09\", \"10\", \"11\", \"12\") &amp; expiry_M %in% c(\"01\", \"02\", , , \"06\", \"07\", \"09\", \"10\", \"11\", \"12\") &amp; renew_M %in% c(\"01\", , , , \"06\", , \"10\", \"11\") &amp; expiry_M %in% c(\"02\", , , , \"07\", , , \"12\")                                                                                                                                                                                     | 0 | 1 | 33 |\n",
       "\n"
      ],
      "text/plain": [
       "  Rule                                                                                                                                                                                                                                                                                                                                                                                                                                                                                                                                                                                                                                                                                                                                                       \n",
       "1 tld %in% c(\"fun\", \"host\", \"press\", \"pw\", \"site\", \"space\", \"website\") & renew_Y %in% c(\"2014\", \"2015\", \"2016\", \"2017\", \"2018\") & creation_Y %in% c(\"2013\", \"2014\", \"2015\", \"2016\", \"2018\") & reseller %in% c(\"gmo\", \"namecheap\") & expiry_Y %in% c(\"2018\") & reseller_country %in% c(\"Japan\") & renew_M %in% c(\"01\", \"02\", \"03\", \"09\", \"11\") & expiry_M %in% c(\"04\", , , , \"08\", \"10\", \"12\")                                                                                                                                                                                                                                                                                                                                                                \n",
       "2 tld %in% c(\"fun\", \"host\", \"press\", \"pw\", \"site\", \"space\", \"website\") & renew_Y %in% c(\"2014\", \"2015\", \"2016\", \"2017\", \"2018\") & creation_Y %in% c(\"2013\", \"2014\", \"2015\", \"2016\", \"2018\") & reseller %in% c(\"gmo\", \"namecheap\") & expiry_Y %in% c(\"2018\") & reseller_country %in% c(\"Japan\") & renew_M %in% c(\"04\", \"05\", \"06\", \"07\", \"08\", \"10\", \"12\") & sld_type %in% c(\"hyphen-l\", , \"l\", , ) & renew_Y %in% c(, , \"2016\", \"2017\", )                                                                                                                                                                                                                                                                                                                    \n",
       "3 tld %in% c(\"fun\", \"host\", \"press\", \"pw\", \"site\", \"space\", \"website\") & renew_Y %in% c(\"2014\", \"2015\", \"2016\", \"2017\", \"2018\") & creation_Y %in% c(\"2013\", \"2014\", \"2015\", \"2016\", \"2018\") & reseller %in% c(\"gmo\", \"namecheap\") & expiry_Y %in% c(\"2018\") & reseller_country %in% c(\"United States\") & renew_Y %in% c(, \"2015\", \"2016\", \"2017\", )                                                                                                                                                                                                                                                                                                                                                                                                          \n",
       "4 tld %in% c(\"fun\", \"host\", \"press\", \"pw\", \"site\", \"space\", \"website\") & renew_Y %in% c(\"2014\", \"2015\", \"2016\", \"2017\", \"2018\") & creation_Y %in% c(\"2013\", \"2014\", \"2015\", \"2016\", \"2018\") & reseller %in% c(\"gmo\", \"namecheap\") & expiry_Y %in% c(\"2018\") & reseller_country %in% c(\"United States\") & renew_Y %in% c(, \"2018\", ) & renew_M %in% c(\"01\", \"02\", \"06\", \"07\", \"09\", \"10\", \"11\", \"12\") & expiry_M %in% c(\"01\", \"02\", , , \"06\", \"07\", \"09\", \"10\", \"11\", \"12\") & renew_M %in% c(\"01\", , , , \"06\", , \"10\", \"11\") & expiry_M %in% c(\"01\", , , , \"06\", , , \"10\", \"11\") & pattern_domain_count <= 1 & tld %in% c(, , , , \"press\", \"pw\", \"site\", , , \"website\") & renew_M %in% c(, , , , \"06\", , , , \"10\", ) & expiry_M %in% c(, , , , , , , , \"11\", )\n",
       "5 tld %in% c(\"fun\", \"host\", \"press\", \"pw\", \"site\", \"space\", \"website\") & renew_Y %in% c(\"2014\", \"2015\", \"2016\", \"2017\", \"2018\") & creation_Y %in% c(\"2013\", \"2014\", \"2015\", \"2016\", \"2018\") & reseller %in% c(\"gmo\", \"namecheap\") & expiry_Y %in% c(\"2018\") & reseller_country %in% c(\"United States\") & renew_Y %in% c(, \"2018\", ) & renew_M %in% c(\"01\", \"02\", \"06\", \"07\", \"09\", \"10\", \"11\", \"12\") & expiry_M %in% c(\"01\", \"02\", , , \"06\", \"07\", \"09\", \"10\", \"11\", \"12\") & renew_M %in% c(\"01\", , , , \"06\", , \"10\", \"11\") & expiry_M %in% c(\"01\", , , , \"06\", , , \"10\", \"11\") & pattern_domain_count > 1                                                                                                                                                   \n",
       "6 tld %in% c(\"fun\", \"host\", \"press\", \"pw\", \"site\", \"space\", \"website\") & renew_Y %in% c(\"2014\", \"2015\", \"2016\", \"2017\", \"2018\") & creation_Y %in% c(\"2013\", \"2014\", \"2015\", \"2016\", \"2018\") & reseller %in% c(\"gmo\", \"namecheap\") & expiry_Y %in% c(\"2018\") & reseller_country %in% c(\"United States\") & renew_Y %in% c(, \"2018\", ) & renew_M %in% c(\"01\", \"02\", \"06\", \"07\", \"09\", \"10\", \"11\", \"12\") & expiry_M %in% c(\"01\", \"02\", , , \"06\", \"07\", \"09\", \"10\", \"11\", \"12\") & renew_M %in% c(\"01\", , , , \"06\", , \"10\", \"11\") & expiry_M %in% c(\"02\", , , , \"07\", , , \"12\")                                                                                                                                                                                    \n",
       "  Not Renewd Renewed Terminal_Node\n",
       "1 0          1       10           \n",
       "2 0          1       13           \n",
       "3 0          1       17           \n",
       "4 0          1       28           \n",
       "5 0          1       32           \n",
       "6 0          1       33           "
      ]
     },
     "metadata": {},
     "output_type": "display_data"
    }
   ],
   "source": [
    "terminals_R1 <- terminals %>% filter(Terminal_Node %in% terminalnodes_R1)\n",
    "dim(terminals_R1)\n",
    "head(terminals_R1)"
   ]
  },
  {
   "cell_type": "code",
   "execution_count": 45,
   "metadata": {},
   "outputs": [
    {
     "data": {
      "text/html": [
       "<table>\n",
       "<caption>A data.frame: 0 × 4</caption>\n",
       "<thead>\n",
       "\t<tr><th scope=col>Rule</th><th scope=col>Not Renewd</th><th scope=col>Renewed</th><th scope=col>Terminal_Node</th></tr>\n",
       "\t<tr><th scope=col>&lt;chr&gt;</th><th scope=col>&lt;chr&gt;</th><th scope=col>&lt;chr&gt;</th><th scope=col>&lt;dbl&gt;</th></tr>\n",
       "</thead>\n",
       "<tbody>\n",
       "</tbody>\n",
       "</table>\n"
      ],
      "text/latex": [
       "A data.frame: 0 × 4\n",
       "\\begin{tabular}{llll}\n",
       " Rule & Not Renewd & Renewed & Terminal\\_Node\\\\\n",
       " <chr> & <chr> & <chr> & <dbl>\\\\\n",
       "\\hline\n",
       "\\end{tabular}\n"
      ],
      "text/markdown": [
       "\n",
       "A data.frame: 0 × 4\n",
       "\n",
       "| Rule &lt;chr&gt; | Not Renewd &lt;chr&gt; | Renewed &lt;chr&gt; | Terminal_Node &lt;dbl&gt; |\n",
       "|---|---|---|---|\n",
       "\n"
      ],
      "text/plain": [
       "     Rule Not Renewd Renewed Terminal_Node"
      ]
     },
     "metadata": {},
     "output_type": "display_data"
    }
   ],
   "source": [
    "terminals_R1 %>% filter(!str_detect(Rule, 'renew_M|renew_Y'))"
   ]
  },
  {
   "cell_type": "code",
   "execution_count": 46,
   "metadata": {},
   "outputs": [],
   "source": [
    "# no terminal nodes w/ predicted Renewal rate == 1 are sans renew_M or renew-Y"
   ]
  },
  {
   "cell_type": "code",
   "execution_count": null,
   "metadata": {},
   "outputs": [],
   "source": [
    "# examine all terminal nodes, pick the one w/o renewal_Y/M in Rule w/ highest predicted Renewal rate"
   ]
  },
  {
   "cell_type": "code",
   "execution_count": 56,
   "metadata": {},
   "outputs": [
    {
     "data": {
      "text/html": [
       "<table>\n",
       "<caption>A data.frame: 6 × 2</caption>\n",
       "<thead>\n",
       "\t<tr><th></th><th scope=col>Renewed</th><th scope=col>n</th></tr>\n",
       "\t<tr><th></th><th scope=col>&lt;dbl&gt;</th><th scope=col>&lt;dbl&gt;</th></tr>\n",
       "</thead>\n",
       "<tbody>\n",
       "\t<tr><th scope=row>X1858</th><td>1</td><td>6780</td></tr>\n",
       "\t<tr><th scope=row>X1698</th><td>1</td><td>6556</td></tr>\n",
       "\t<tr><th scope=row>X997</th><td>1</td><td>3352</td></tr>\n",
       "\t<tr><th scope=row>X3803</th><td>1</td><td>3308</td></tr>\n",
       "\t<tr><th scope=row>X1072</th><td>1</td><td>3176</td></tr>\n",
       "\t<tr><th scope=row>X1109</th><td>1</td><td>3100</td></tr>\n",
       "</tbody>\n",
       "</table>\n"
      ],
      "text/latex": [
       "A data.frame: 6 × 2\n",
       "\\begin{tabular}{r|ll}\n",
       "  & Renewed & n\\\\\n",
       "  & <dbl> & <dbl>\\\\\n",
       "\\hline\n",
       "\tX1858 & 1 & 6780\\\\\n",
       "\tX1698 & 1 & 6556\\\\\n",
       "\tX997 & 1 & 3352\\\\\n",
       "\tX3803 & 1 & 3308\\\\\n",
       "\tX1072 & 1 & 3176\\\\\n",
       "\tX1109 & 1 & 3100\\\\\n",
       "\\end{tabular}\n"
      ],
      "text/markdown": [
       "\n",
       "A data.frame: 6 × 2\n",
       "\n",
       "| <!--/--> | Renewed &lt;dbl&gt; | n &lt;dbl&gt; |\n",
       "|---|---|---|\n",
       "| X1858 | 1 | 6780 |\n",
       "| X1698 | 1 | 6556 |\n",
       "| X997 | 1 | 3352 |\n",
       "| X3803 | 1 | 3308 |\n",
       "| X1072 | 1 | 3176 |\n",
       "| X1109 | 1 | 3100 |\n",
       "\n"
      ],
      "text/plain": [
       "      Renewed n   \n",
       "X1858 1       6780\n",
       "X1698 1       6556\n",
       "X997  1       3352\n",
       "X3803 1       3308\n",
       "X1072 1       3176\n",
       "X1109 1       3100"
      ]
     },
     "metadata": {},
     "output_type": "display_data"
    }
   ],
   "source": [
    "head(tn_renrates_df)"
   ]
  },
  {
   "cell_type": "code",
   "execution_count": 74,
   "metadata": {},
   "outputs": [
    {
     "data": {
      "text/html": [
       "<style>\n",
       ".list-inline {list-style: none; margin:0; padding: 0}\n",
       ".list-inline>li {display: inline-block}\n",
       ".list-inline>li:not(:last-child)::after {content: \"\\00b7\"; padding: 0 .5ex}\n",
       "</style>\n",
       "<ol class=list-inline><li>3251</li><li>4</li></ol>\n"
      ],
      "text/latex": [
       "\\begin{enumerate*}\n",
       "\\item 3251\n",
       "\\item 4\n",
       "\\end{enumerate*}\n"
      ],
      "text/markdown": [
       "1. 3251\n",
       "2. 4\n",
       "\n",
       "\n"
      ],
      "text/plain": [
       "[1] 3251    4"
      ]
     },
     "metadata": {},
     "output_type": "display_data"
    },
    {
     "data": {
      "text/html": [
       "<style>\n",
       ".list-inline {list-style: none; margin:0; padding: 0}\n",
       ".list-inline>li {display: inline-block}\n",
       ".list-inline>li:not(:last-child)::after {content: \"\\00b7\"; padding: 0 .5ex}\n",
       "</style>\n",
       "<ol class=list-inline><li>3251</li><li>6</li></ol>\n"
      ],
      "text/latex": [
       "\\begin{enumerate*}\n",
       "\\item 3251\n",
       "\\item 6\n",
       "\\end{enumerate*}\n"
      ],
      "text/markdown": [
       "1. 3251\n",
       "2. 6\n",
       "\n",
       "\n"
      ],
      "text/plain": [
       "[1] 3251    6"
      ]
     },
     "metadata": {},
     "output_type": "display_data"
    },
    {
     "data": {
      "text/html": [
       "<table>\n",
       "<caption>A data.frame: 6 × 6</caption>\n",
       "<thead>\n",
       "\t<tr><th></th><th scope=col>Rule</th><th scope=col>Not Renewd</th><th scope=col>Renewed.x</th><th scope=col>Terminal_Node</th><th scope=col>Renewed.y</th><th scope=col>n</th></tr>\n",
       "\t<tr><th></th><th scope=col>&lt;chr&gt;</th><th scope=col>&lt;chr&gt;</th><th scope=col>&lt;chr&gt;</th><th scope=col>&lt;dbl&gt;</th><th scope=col>&lt;dbl&gt;</th><th scope=col>&lt;dbl&gt;</th></tr>\n",
       "</thead>\n",
       "<tbody>\n",
       "\t<tr><th scope=row>1</th><td><span style=white-space:pre-wrap>tld %in% c(\"fun\", \"host\", \"press\", \"pw\", \"site\", \"space\", \"website\") &amp; renew_Y %in% c(\"2014\", \"2015\", \"2016\", \"2017\", \"2018\") &amp; creation_Y %in% c(\"2013\", \"2014\", \"2015\", \"2016\", \"2018\") &amp; reseller %in% c(\"gmo\", \"namecheap\") &amp; expiry_Y %in% c(\"2018\") &amp; reseller_country %in% c(\"Japan\") &amp; renew_M %in% c(\"01\", \"02\", \"03\", \"09\", \"11\") &amp; expiry_M %in% c(\"01\", \"02\", \"03\", , , , \"09\", \"11\")                                      </span></td><td>0.217391304347826</td><td>0.782608695652174</td><td> 9</td><td>0.7826087</td><td>138</td></tr>\n",
       "\t<tr><th scope=row>2</th><td><span style=white-space:pre-wrap>tld %in% c(\"fun\", \"host\", \"press\", \"pw\", \"site\", \"space\", \"website\") &amp; renew_Y %in% c(\"2014\", \"2015\", \"2016\", \"2017\", \"2018\") &amp; creation_Y %in% c(\"2013\", \"2014\", \"2015\", \"2016\", \"2018\") &amp; reseller %in% c(\"gmo\", \"namecheap\") &amp; expiry_Y %in% c(\"2018\") &amp; reseller_country %in% c(\"Japan\") &amp; renew_M %in% c(\"01\", \"02\", \"03\", \"09\", \"11\") &amp; expiry_M %in% c(\"04\", , , , \"08\", \"10\", \"12\")                                            </span></td><td><span style=white-space:pre-wrap>0                </span></td><td><span style=white-space:pre-wrap>1                </span></td><td>10</td><td>1.0000000</td><td>164</td></tr>\n",
       "\t<tr><th scope=row>3</th><td>tld %in% c(\"fun\", \"host\", \"press\", \"pw\", \"site\", \"space\", \"website\") &amp; renew_Y %in% c(\"2014\", \"2015\", \"2016\", \"2017\", \"2018\") &amp; creation_Y %in% c(\"2013\", \"2014\", \"2015\", \"2016\", \"2018\") &amp; reseller %in% c(\"gmo\", \"namecheap\") &amp; expiry_Y %in% c(\"2018\") &amp; reseller_country %in% c(\"Japan\") &amp; renew_M %in% c(\"04\", \"05\", \"06\", \"07\", \"08\", \"10\", \"12\") &amp; sld_type %in% c(\"hyphen-l\", , \"l\", , ) &amp; renew_Y %in% c(, , \"2016\", \"2017\", )</td><td><span style=white-space:pre-wrap>0                </span></td><td><span style=white-space:pre-wrap>1                </span></td><td>13</td><td>1.0000000</td><td> 20</td></tr>\n",
       "\t<tr><th scope=row>4</th><td><span style=white-space:pre-wrap>tld %in% c(\"fun\", \"host\", \"press\", \"pw\", \"site\", \"space\", \"website\") &amp; renew_Y %in% c(\"2014\", \"2015\", \"2016\", \"2017\", \"2018\") &amp; creation_Y %in% c(\"2013\", \"2014\", \"2015\", \"2016\", \"2018\") &amp; reseller %in% c(\"gmo\", \"namecheap\") &amp; expiry_Y %in% c(\"2018\") &amp; reseller_country %in% c(\"Japan\") &amp; renew_M %in% c(\"04\", \"05\", \"06\", \"07\", \"08\", \"10\", \"12\") &amp; sld_type %in% c(\"hyphen-l\", , \"l\", , ) &amp; renew_Y %in% c(, , \"2018\", )        </span></td><td>0.417721518987342</td><td>0.582278481012658</td><td>14</td><td>0.5822785</td><td>158</td></tr>\n",
       "\t<tr><th scope=row>5</th><td><span style=white-space:pre-wrap>tld %in% c(\"fun\", \"host\", \"press\", \"pw\", \"site\", \"space\", \"website\") &amp; renew_Y %in% c(\"2014\", \"2015\", \"2016\", \"2017\", \"2018\") &amp; creation_Y %in% c(\"2013\", \"2014\", \"2015\", \"2016\", \"2018\") &amp; reseller %in% c(\"gmo\", \"namecheap\") &amp; expiry_Y %in% c(\"2018\") &amp; reseller_country %in% c(\"Japan\") &amp; renew_M %in% c(\"04\", \"05\", \"06\", \"07\", \"08\", \"10\", \"12\") &amp; sld_type %in% c(, , , \"idn\")                                                 </span></td><td><span style=white-space:pre-wrap>1                </span></td><td><span style=white-space:pre-wrap>0                </span></td><td>15</td><td>0.0000000</td><td><span style=white-space:pre-wrap>  9</span></td></tr>\n",
       "\t<tr><th scope=row>6</th><td><span style=white-space:pre-wrap>tld %in% c(\"fun\", \"host\", \"press\", \"pw\", \"site\", \"space\", \"website\") &amp; renew_Y %in% c(\"2014\", \"2015\", \"2016\", \"2017\", \"2018\") &amp; creation_Y %in% c(\"2013\", \"2014\", \"2015\", \"2016\", \"2018\") &amp; reseller %in% c(\"gmo\", \"namecheap\") &amp; expiry_Y %in% c(\"2018\") &amp; reseller_country %in% c(\"United States\") &amp; renew_Y %in% c(, \"2015\", \"2016\", \"2017\", )                                                                                      </span></td><td><span style=white-space:pre-wrap>0                </span></td><td><span style=white-space:pre-wrap>1                </span></td><td>17</td><td>1.0000000</td><td>108</td></tr>\n",
       "</tbody>\n",
       "</table>\n"
      ],
      "text/latex": [
       "A data.frame: 6 × 6\n",
       "\\begin{tabular}{r|llllll}\n",
       "  & Rule & Not Renewd & Renewed.x & Terminal\\_Node & Renewed.y & n\\\\\n",
       "  & <chr> & <chr> & <chr> & <dbl> & <dbl> & <dbl>\\\\\n",
       "\\hline\n",
       "\t1 & tld \\%in\\% c(\"fun\", \"host\", \"press\", \"pw\", \"site\", \"space\", \"website\") \\& renew\\_Y \\%in\\% c(\"2014\", \"2015\", \"2016\", \"2017\", \"2018\") \\& creation\\_Y \\%in\\% c(\"2013\", \"2014\", \"2015\", \"2016\", \"2018\") \\& reseller \\%in\\% c(\"gmo\", \"namecheap\") \\& expiry\\_Y \\%in\\% c(\"2018\") \\& reseller\\_country \\%in\\% c(\"Japan\") \\& renew\\_M \\%in\\% c(\"01\", \"02\", \"03\", \"09\", \"11\") \\& expiry\\_M \\%in\\% c(\"01\", \"02\", \"03\", , , , \"09\", \"11\")                                       & 0.217391304347826 & 0.782608695652174 &  9 & 0.7826087 & 138\\\\\n",
       "\t2 & tld \\%in\\% c(\"fun\", \"host\", \"press\", \"pw\", \"site\", \"space\", \"website\") \\& renew\\_Y \\%in\\% c(\"2014\", \"2015\", \"2016\", \"2017\", \"2018\") \\& creation\\_Y \\%in\\% c(\"2013\", \"2014\", \"2015\", \"2016\", \"2018\") \\& reseller \\%in\\% c(\"gmo\", \"namecheap\") \\& expiry\\_Y \\%in\\% c(\"2018\") \\& reseller\\_country \\%in\\% c(\"Japan\") \\& renew\\_M \\%in\\% c(\"01\", \"02\", \"03\", \"09\", \"11\") \\& expiry\\_M \\%in\\% c(\"04\", , , , \"08\", \"10\", \"12\")                                             & 0                 & 1                 & 10 & 1.0000000 & 164\\\\\n",
       "\t3 & tld \\%in\\% c(\"fun\", \"host\", \"press\", \"pw\", \"site\", \"space\", \"website\") \\& renew\\_Y \\%in\\% c(\"2014\", \"2015\", \"2016\", \"2017\", \"2018\") \\& creation\\_Y \\%in\\% c(\"2013\", \"2014\", \"2015\", \"2016\", \"2018\") \\& reseller \\%in\\% c(\"gmo\", \"namecheap\") \\& expiry\\_Y \\%in\\% c(\"2018\") \\& reseller\\_country \\%in\\% c(\"Japan\") \\& renew\\_M \\%in\\% c(\"04\", \"05\", \"06\", \"07\", \"08\", \"10\", \"12\") \\& sld\\_type \\%in\\% c(\"hyphen-l\", , \"l\", , ) \\& renew\\_Y \\%in\\% c(, , \"2016\", \"2017\", ) & 0                 & 1                 & 13 & 1.0000000 &  20\\\\\n",
       "\t4 & tld \\%in\\% c(\"fun\", \"host\", \"press\", \"pw\", \"site\", \"space\", \"website\") \\& renew\\_Y \\%in\\% c(\"2014\", \"2015\", \"2016\", \"2017\", \"2018\") \\& creation\\_Y \\%in\\% c(\"2013\", \"2014\", \"2015\", \"2016\", \"2018\") \\& reseller \\%in\\% c(\"gmo\", \"namecheap\") \\& expiry\\_Y \\%in\\% c(\"2018\") \\& reseller\\_country \\%in\\% c(\"Japan\") \\& renew\\_M \\%in\\% c(\"04\", \"05\", \"06\", \"07\", \"08\", \"10\", \"12\") \\& sld\\_type \\%in\\% c(\"hyphen-l\", , \"l\", , ) \\& renew\\_Y \\%in\\% c(, , \"2018\", )         & 0.417721518987342 & 0.582278481012658 & 14 & 0.5822785 & 158\\\\\n",
       "\t5 & tld \\%in\\% c(\"fun\", \"host\", \"press\", \"pw\", \"site\", \"space\", \"website\") \\& renew\\_Y \\%in\\% c(\"2014\", \"2015\", \"2016\", \"2017\", \"2018\") \\& creation\\_Y \\%in\\% c(\"2013\", \"2014\", \"2015\", \"2016\", \"2018\") \\& reseller \\%in\\% c(\"gmo\", \"namecheap\") \\& expiry\\_Y \\%in\\% c(\"2018\") \\& reseller\\_country \\%in\\% c(\"Japan\") \\& renew\\_M \\%in\\% c(\"04\", \"05\", \"06\", \"07\", \"08\", \"10\", \"12\") \\& sld\\_type \\%in\\% c(, , , \"idn\")                                                  & 1                 & 0                 & 15 & 0.0000000 &   9\\\\\n",
       "\t6 & tld \\%in\\% c(\"fun\", \"host\", \"press\", \"pw\", \"site\", \"space\", \"website\") \\& renew\\_Y \\%in\\% c(\"2014\", \"2015\", \"2016\", \"2017\", \"2018\") \\& creation\\_Y \\%in\\% c(\"2013\", \"2014\", \"2015\", \"2016\", \"2018\") \\& reseller \\%in\\% c(\"gmo\", \"namecheap\") \\& expiry\\_Y \\%in\\% c(\"2018\") \\& reseller\\_country \\%in\\% c(\"United States\") \\& renew\\_Y \\%in\\% c(, \"2015\", \"2016\", \"2017\", )                                                                                       & 0                 & 1                 & 17 & 1.0000000 & 108\\\\\n",
       "\\end{tabular}\n"
      ],
      "text/markdown": [
       "\n",
       "A data.frame: 6 × 6\n",
       "\n",
       "| <!--/--> | Rule &lt;chr&gt; | Not Renewd &lt;chr&gt; | Renewed.x &lt;chr&gt; | Terminal_Node &lt;dbl&gt; | Renewed.y &lt;dbl&gt; | n &lt;dbl&gt; |\n",
       "|---|---|---|---|---|---|---|\n",
       "| 1 | tld %in% c(\"fun\", \"host\", \"press\", \"pw\", \"site\", \"space\", \"website\") &amp; renew_Y %in% c(\"2014\", \"2015\", \"2016\", \"2017\", \"2018\") &amp; creation_Y %in% c(\"2013\", \"2014\", \"2015\", \"2016\", \"2018\") &amp; reseller %in% c(\"gmo\", \"namecheap\") &amp; expiry_Y %in% c(\"2018\") &amp; reseller_country %in% c(\"Japan\") &amp; renew_M %in% c(\"01\", \"02\", \"03\", \"09\", \"11\") &amp; expiry_M %in% c(\"01\", \"02\", \"03\", , , , \"09\", \"11\")                                       | 0.217391304347826 | 0.782608695652174 |  9 | 0.7826087 | 138 |\n",
       "| 2 | tld %in% c(\"fun\", \"host\", \"press\", \"pw\", \"site\", \"space\", \"website\") &amp; renew_Y %in% c(\"2014\", \"2015\", \"2016\", \"2017\", \"2018\") &amp; creation_Y %in% c(\"2013\", \"2014\", \"2015\", \"2016\", \"2018\") &amp; reseller %in% c(\"gmo\", \"namecheap\") &amp; expiry_Y %in% c(\"2018\") &amp; reseller_country %in% c(\"Japan\") &amp; renew_M %in% c(\"01\", \"02\", \"03\", \"09\", \"11\") &amp; expiry_M %in% c(\"04\", , , , \"08\", \"10\", \"12\")                                             | 0                 | 1                 | 10 | 1.0000000 | 164 |\n",
       "| 3 | tld %in% c(\"fun\", \"host\", \"press\", \"pw\", \"site\", \"space\", \"website\") &amp; renew_Y %in% c(\"2014\", \"2015\", \"2016\", \"2017\", \"2018\") &amp; creation_Y %in% c(\"2013\", \"2014\", \"2015\", \"2016\", \"2018\") &amp; reseller %in% c(\"gmo\", \"namecheap\") &amp; expiry_Y %in% c(\"2018\") &amp; reseller_country %in% c(\"Japan\") &amp; renew_M %in% c(\"04\", \"05\", \"06\", \"07\", \"08\", \"10\", \"12\") &amp; sld_type %in% c(\"hyphen-l\", , \"l\", , ) &amp; renew_Y %in% c(, , \"2016\", \"2017\", ) | 0                 | 1                 | 13 | 1.0000000 |  20 |\n",
       "| 4 | tld %in% c(\"fun\", \"host\", \"press\", \"pw\", \"site\", \"space\", \"website\") &amp; renew_Y %in% c(\"2014\", \"2015\", \"2016\", \"2017\", \"2018\") &amp; creation_Y %in% c(\"2013\", \"2014\", \"2015\", \"2016\", \"2018\") &amp; reseller %in% c(\"gmo\", \"namecheap\") &amp; expiry_Y %in% c(\"2018\") &amp; reseller_country %in% c(\"Japan\") &amp; renew_M %in% c(\"04\", \"05\", \"06\", \"07\", \"08\", \"10\", \"12\") &amp; sld_type %in% c(\"hyphen-l\", , \"l\", , ) &amp; renew_Y %in% c(, , \"2018\", )         | 0.417721518987342 | 0.582278481012658 | 14 | 0.5822785 | 158 |\n",
       "| 5 | tld %in% c(\"fun\", \"host\", \"press\", \"pw\", \"site\", \"space\", \"website\") &amp; renew_Y %in% c(\"2014\", \"2015\", \"2016\", \"2017\", \"2018\") &amp; creation_Y %in% c(\"2013\", \"2014\", \"2015\", \"2016\", \"2018\") &amp; reseller %in% c(\"gmo\", \"namecheap\") &amp; expiry_Y %in% c(\"2018\") &amp; reseller_country %in% c(\"Japan\") &amp; renew_M %in% c(\"04\", \"05\", \"06\", \"07\", \"08\", \"10\", \"12\") &amp; sld_type %in% c(, , , \"idn\")                                                  | 1                 | 0                 | 15 | 0.0000000 |   9 |\n",
       "| 6 | tld %in% c(\"fun\", \"host\", \"press\", \"pw\", \"site\", \"space\", \"website\") &amp; renew_Y %in% c(\"2014\", \"2015\", \"2016\", \"2017\", \"2018\") &amp; creation_Y %in% c(\"2013\", \"2014\", \"2015\", \"2016\", \"2018\") &amp; reseller %in% c(\"gmo\", \"namecheap\") &amp; expiry_Y %in% c(\"2018\") &amp; reseller_country %in% c(\"United States\") &amp; renew_Y %in% c(, \"2015\", \"2016\", \"2017\", )                                                                                       | 0                 | 1                 | 17 | 1.0000000 | 108 |\n",
       "\n"
      ],
      "text/plain": [
       "  Rule                                                                                                                                                                                                                                                                                                                                                                                                                                   \n",
       "1 tld %in% c(\"fun\", \"host\", \"press\", \"pw\", \"site\", \"space\", \"website\") & renew_Y %in% c(\"2014\", \"2015\", \"2016\", \"2017\", \"2018\") & creation_Y %in% c(\"2013\", \"2014\", \"2015\", \"2016\", \"2018\") & reseller %in% c(\"gmo\", \"namecheap\") & expiry_Y %in% c(\"2018\") & reseller_country %in% c(\"Japan\") & renew_M %in% c(\"01\", \"02\", \"03\", \"09\", \"11\") & expiry_M %in% c(\"01\", \"02\", \"03\", , , , \"09\", \"11\")                                      \n",
       "2 tld %in% c(\"fun\", \"host\", \"press\", \"pw\", \"site\", \"space\", \"website\") & renew_Y %in% c(\"2014\", \"2015\", \"2016\", \"2017\", \"2018\") & creation_Y %in% c(\"2013\", \"2014\", \"2015\", \"2016\", \"2018\") & reseller %in% c(\"gmo\", \"namecheap\") & expiry_Y %in% c(\"2018\") & reseller_country %in% c(\"Japan\") & renew_M %in% c(\"01\", \"02\", \"03\", \"09\", \"11\") & expiry_M %in% c(\"04\", , , , \"08\", \"10\", \"12\")                                            \n",
       "3 tld %in% c(\"fun\", \"host\", \"press\", \"pw\", \"site\", \"space\", \"website\") & renew_Y %in% c(\"2014\", \"2015\", \"2016\", \"2017\", \"2018\") & creation_Y %in% c(\"2013\", \"2014\", \"2015\", \"2016\", \"2018\") & reseller %in% c(\"gmo\", \"namecheap\") & expiry_Y %in% c(\"2018\") & reseller_country %in% c(\"Japan\") & renew_M %in% c(\"04\", \"05\", \"06\", \"07\", \"08\", \"10\", \"12\") & sld_type %in% c(\"hyphen-l\", , \"l\", , ) & renew_Y %in% c(, , \"2016\", \"2017\", )\n",
       "4 tld %in% c(\"fun\", \"host\", \"press\", \"pw\", \"site\", \"space\", \"website\") & renew_Y %in% c(\"2014\", \"2015\", \"2016\", \"2017\", \"2018\") & creation_Y %in% c(\"2013\", \"2014\", \"2015\", \"2016\", \"2018\") & reseller %in% c(\"gmo\", \"namecheap\") & expiry_Y %in% c(\"2018\") & reseller_country %in% c(\"Japan\") & renew_M %in% c(\"04\", \"05\", \"06\", \"07\", \"08\", \"10\", \"12\") & sld_type %in% c(\"hyphen-l\", , \"l\", , ) & renew_Y %in% c(, , \"2018\", )        \n",
       "5 tld %in% c(\"fun\", \"host\", \"press\", \"pw\", \"site\", \"space\", \"website\") & renew_Y %in% c(\"2014\", \"2015\", \"2016\", \"2017\", \"2018\") & creation_Y %in% c(\"2013\", \"2014\", \"2015\", \"2016\", \"2018\") & reseller %in% c(\"gmo\", \"namecheap\") & expiry_Y %in% c(\"2018\") & reseller_country %in% c(\"Japan\") & renew_M %in% c(\"04\", \"05\", \"06\", \"07\", \"08\", \"10\", \"12\") & sld_type %in% c(, , , \"idn\")                                                 \n",
       "6 tld %in% c(\"fun\", \"host\", \"press\", \"pw\", \"site\", \"space\", \"website\") & renew_Y %in% c(\"2014\", \"2015\", \"2016\", \"2017\", \"2018\") & creation_Y %in% c(\"2013\", \"2014\", \"2015\", \"2016\", \"2018\") & reseller %in% c(\"gmo\", \"namecheap\") & expiry_Y %in% c(\"2018\") & reseller_country %in% c(\"United States\") & renew_Y %in% c(, \"2015\", \"2016\", \"2017\", )                                                                                      \n",
       "  Not Renewd        Renewed.x         Terminal_Node Renewed.y n  \n",
       "1 0.217391304347826 0.782608695652174  9            0.7826087 138\n",
       "2 0                 1                 10            1.0000000 164\n",
       "3 0                 1                 13            1.0000000  20\n",
       "4 0.417721518987342 0.582278481012658 14            0.5822785 158\n",
       "5 1                 0                 15            0.0000000   9\n",
       "6 0                 1                 17            1.0000000 108"
      ]
     },
     "metadata": {},
     "output_type": "display_data"
    }
   ],
   "source": [
    "tn_renrates_df <- as.data.frame(t(as.data.frame(tn_renrates))) %>% \n",
    "                        arrange(desc(Renewed),desc(n))  %>%  \n",
    "                        add_rownames(var = \"node\") \n",
    "tn_renrates_df$node <- as.double(stringr::str_replace(tn_renrates_df$node, 'X', ''))\n",
    "terminals_renrates <- terminals %>% inner_join(tn_renrates_df, by = c(\"Terminal_Node\" = \"node\"))\n",
    "dim(terminals)\n",
    "dim(terminals_renrates)\n",
    "head(terminals_renrates)"
   ]
  },
  {
   "cell_type": "code",
   "execution_count": 75,
   "metadata": {},
   "outputs": [
    {
     "data": {
      "text/html": [
       "<style>\n",
       ".list-inline {list-style: none; margin:0; padding: 0}\n",
       ".list-inline>li {display: inline-block}\n",
       ".list-inline>li:not(:last-child)::after {content: \"\\00b7\"; padding: 0 .5ex}\n",
       "</style>\n",
       "<ol class=list-inline><li>8</li><li>6</li></ol>\n"
      ],
      "text/latex": [
       "\\begin{enumerate*}\n",
       "\\item 8\n",
       "\\item 6\n",
       "\\end{enumerate*}\n"
      ],
      "text/markdown": [
       "1. 8\n",
       "2. 6\n",
       "\n",
       "\n"
      ],
      "text/plain": [
       "[1] 8 6"
      ]
     },
     "metadata": {},
     "output_type": "display_data"
    },
    {
     "data": {
      "text/html": [
       "<table>\n",
       "<caption>A data.frame: 6 × 6</caption>\n",
       "<thead>\n",
       "\t<tr><th></th><th scope=col>Rule</th><th scope=col>Not Renewd</th><th scope=col>Renewed.x</th><th scope=col>Terminal_Node</th><th scope=col>Renewed.y</th><th scope=col>n</th></tr>\n",
       "\t<tr><th></th><th scope=col>&lt;chr&gt;</th><th scope=col>&lt;chr&gt;</th><th scope=col>&lt;chr&gt;</th><th scope=col>&lt;dbl&gt;</th><th scope=col>&lt;dbl&gt;</th><th scope=col>&lt;dbl&gt;</th></tr>\n",
       "</thead>\n",
       "<tbody>\n",
       "\t<tr><th scope=row>1</th><td><span style=white-space:pre-wrap>tld %in% c(\"in.net\", \"online\", \"store\", \"tech\") &amp; reg_arpt &gt; 2.49 &amp; reseller %in% c(\"gmo\", \"go daddy\") &amp; reg_period &lt;= 1 &amp; tld %in% c(, , , , , , , \"tech\", ) &amp; reg_arpt_org &lt;= 4 &amp; log_reg_arpt &lt;= 1.09861228866811 &amp; day_domains &gt; 124 &amp; sld_length &lt;= 4 &amp; gibb_score &lt;= 4.53                                                      </span></td><td><span style=white-space:pre-wrap>1                </span></td><td><span style=white-space:pre-wrap>0                </span></td><td>5725</td><td>0.0000000</td><td>573</td></tr>\n",
       "\t<tr><th scope=row>2</th><td><span style=white-space:pre-wrap>tld %in% c(\"in.net\", \"online\", \"store\", \"tech\") &amp; reg_arpt &gt; 2.49 &amp; reseller %in% c(\"gmo\", \"go daddy\") &amp; reg_period &lt;= 1 &amp; tld %in% c(, , , , , , , \"tech\", ) &amp; reg_arpt_org &lt;= 4 &amp; log_reg_arpt &lt;= 1.09861228866811 &amp; day_domains &gt; 124 &amp; sld_length &lt;= 4 &amp; gibb_score &gt; 4.53 &amp; cluster &lt;= 61 &amp; gibb_score &lt;= 5.71                  </span></td><td>0.272727272727273</td><td>0.727272727272727</td><td>5728</td><td>0.7272727</td><td> 11</td></tr>\n",
       "\t<tr><th scope=row>3</th><td><span style=white-space:pre-wrap>tld %in% c(\"in.net\", \"online\", \"store\", \"tech\") &amp; reg_arpt &gt; 2.49 &amp; reseller %in% c(\"gmo\", \"go daddy\") &amp; reg_period &lt;= 1 &amp; tld %in% c(, , , , , , , \"tech\", ) &amp; reg_arpt_org &lt;= 4 &amp; log_reg_arpt &lt;= 1.09861228866811 &amp; day_domains &gt; 124 &amp; sld_length &lt;= 4 &amp; gibb_score &gt; 4.53 &amp; cluster &lt;= 61 &amp; gibb_score &gt; 5.71                   </span></td><td><span style=white-space:pre-wrap>1                </span></td><td><span style=white-space:pre-wrap>0                </span></td><td>5729</td><td>0.0000000</td><td> 15</td></tr>\n",
       "\t<tr><th scope=row>4</th><td><span style=white-space:pre-wrap>tld %in% c(\"in.net\", \"online\", \"store\", \"tech\") &amp; reg_arpt &gt; 2.49 &amp; reseller %in% c(\"gmo\", \"go daddy\") &amp; reg_period &lt;= 1 &amp; tld %in% c(, , , , , , , \"tech\", ) &amp; reg_arpt_org &lt;= 4 &amp; log_reg_arpt &lt;= 1.09861228866811 &amp; day_domains &gt; 124 &amp; sld_length &lt;= 4 &amp; gibb_score &gt; 4.53 &amp; cluster &gt; 61                                        </span></td><td><span style=white-space:pre-wrap>1                </span></td><td><span style=white-space:pre-wrap>0                </span></td><td>5730</td><td>0.0000000</td><td> 63</td></tr>\n",
       "\t<tr><th scope=row>5</th><td>tld %in% c(\"in.net\", \"online\", \"store\", \"tech\") &amp; reg_arpt &gt; 2.49 &amp; reseller %in% c(\"gmo\", \"go daddy\") &amp; reg_period &lt;= 1 &amp; tld %in% c(, , , , , , , \"tech\", ) &amp; reg_arpt_org &lt;= 4 &amp; log_reg_arpt &lt;= 1.09861228866811 &amp; day_domains &gt; 124 &amp; sld_length &gt; 4 &amp; pattern_score &lt;= 2.51496403601429e-05 &amp; sld_type %in% c(\"hyphen-l\", , , )</td><td><span style=white-space:pre-wrap>1                </span></td><td><span style=white-space:pre-wrap>0                </span></td><td>5733</td><td>0.0000000</td><td> 12</td></tr>\n",
       "\t<tr><th scope=row>6</th><td>tld %in% c(\"in.net\", \"online\", \"store\", \"tech\") &amp; reg_arpt &gt; 2.49 &amp; reseller %in% c(\"gmo\", \"go daddy\") &amp; reg_period &lt;= 1 &amp; tld %in% c(, , , , , , , \"tech\", ) &amp; reg_arpt_org &lt;= 4 &amp; log_reg_arpt &lt;= 1.09861228866811 &amp; day_domains &gt; 124 &amp; sld_length &gt; 4 &amp; pattern_score &lt;= 2.51496403601429e-05 &amp; sld_type %in% c(, \"l\", , , \"idn\")</td><td>0.441176470588235</td><td>0.558823529411765</td><td>5734</td><td>0.5588235</td><td>136</td></tr>\n",
       "</tbody>\n",
       "</table>\n"
      ],
      "text/latex": [
       "A data.frame: 6 × 6\n",
       "\\begin{tabular}{r|llllll}\n",
       "  & Rule & Not Renewd & Renewed.x & Terminal\\_Node & Renewed.y & n\\\\\n",
       "  & <chr> & <chr> & <chr> & <dbl> & <dbl> & <dbl>\\\\\n",
       "\\hline\n",
       "\t1 & tld \\%in\\% c(\"in.net\", \"online\", \"store\", \"tech\") \\& reg\\_arpt > 2.49 \\& reseller \\%in\\% c(\"gmo\", \"go daddy\") \\& reg\\_period <= 1 \\& tld \\%in\\% c(, , , , , , , \"tech\", ) \\& reg\\_arpt\\_org <= 4 \\& log\\_reg\\_arpt <= 1.09861228866811 \\& day\\_domains > 124 \\& sld\\_length <= 4 \\& gibb\\_score <= 4.53                                                       & 1                 & 0                 & 5725 & 0.0000000 & 573\\\\\n",
       "\t2 & tld \\%in\\% c(\"in.net\", \"online\", \"store\", \"tech\") \\& reg\\_arpt > 2.49 \\& reseller \\%in\\% c(\"gmo\", \"go daddy\") \\& reg\\_period <= 1 \\& tld \\%in\\% c(, , , , , , , \"tech\", ) \\& reg\\_arpt\\_org <= 4 \\& log\\_reg\\_arpt <= 1.09861228866811 \\& day\\_domains > 124 \\& sld\\_length <= 4 \\& gibb\\_score > 4.53 \\& cluster <= 61 \\& gibb\\_score <= 5.71                   & 0.272727272727273 & 0.727272727272727 & 5728 & 0.7272727 &  11\\\\\n",
       "\t3 & tld \\%in\\% c(\"in.net\", \"online\", \"store\", \"tech\") \\& reg\\_arpt > 2.49 \\& reseller \\%in\\% c(\"gmo\", \"go daddy\") \\& reg\\_period <= 1 \\& tld \\%in\\% c(, , , , , , , \"tech\", ) \\& reg\\_arpt\\_org <= 4 \\& log\\_reg\\_arpt <= 1.09861228866811 \\& day\\_domains > 124 \\& sld\\_length <= 4 \\& gibb\\_score > 4.53 \\& cluster <= 61 \\& gibb\\_score > 5.71                    & 1                 & 0                 & 5729 & 0.0000000 &  15\\\\\n",
       "\t4 & tld \\%in\\% c(\"in.net\", \"online\", \"store\", \"tech\") \\& reg\\_arpt > 2.49 \\& reseller \\%in\\% c(\"gmo\", \"go daddy\") \\& reg\\_period <= 1 \\& tld \\%in\\% c(, , , , , , , \"tech\", ) \\& reg\\_arpt\\_org <= 4 \\& log\\_reg\\_arpt <= 1.09861228866811 \\& day\\_domains > 124 \\& sld\\_length <= 4 \\& gibb\\_score > 4.53 \\& cluster > 61                                         & 1                 & 0                 & 5730 & 0.0000000 &  63\\\\\n",
       "\t5 & tld \\%in\\% c(\"in.net\", \"online\", \"store\", \"tech\") \\& reg\\_arpt > 2.49 \\& reseller \\%in\\% c(\"gmo\", \"go daddy\") \\& reg\\_period <= 1 \\& tld \\%in\\% c(, , , , , , , \"tech\", ) \\& reg\\_arpt\\_org <= 4 \\& log\\_reg\\_arpt <= 1.09861228866811 \\& day\\_domains > 124 \\& sld\\_length > 4 \\& pattern\\_score <= 2.51496403601429e-05 \\& sld\\_type \\%in\\% c(\"hyphen-l\", , , ) & 1                 & 0                 & 5733 & 0.0000000 &  12\\\\\n",
       "\t6 & tld \\%in\\% c(\"in.net\", \"online\", \"store\", \"tech\") \\& reg\\_arpt > 2.49 \\& reseller \\%in\\% c(\"gmo\", \"go daddy\") \\& reg\\_period <= 1 \\& tld \\%in\\% c(, , , , , , , \"tech\", ) \\& reg\\_arpt\\_org <= 4 \\& log\\_reg\\_arpt <= 1.09861228866811 \\& day\\_domains > 124 \\& sld\\_length > 4 \\& pattern\\_score <= 2.51496403601429e-05 \\& sld\\_type \\%in\\% c(, \"l\", , , \"idn\") & 0.441176470588235 & 0.558823529411765 & 5734 & 0.5588235 & 136\\\\\n",
       "\\end{tabular}\n"
      ],
      "text/markdown": [
       "\n",
       "A data.frame: 6 × 6\n",
       "\n",
       "| <!--/--> | Rule &lt;chr&gt; | Not Renewd &lt;chr&gt; | Renewed.x &lt;chr&gt; | Terminal_Node &lt;dbl&gt; | Renewed.y &lt;dbl&gt; | n &lt;dbl&gt; |\n",
       "|---|---|---|---|---|---|---|\n",
       "| 1 | tld %in% c(\"in.net\", \"online\", \"store\", \"tech\") &amp; reg_arpt &gt; 2.49 &amp; reseller %in% c(\"gmo\", \"go daddy\") &amp; reg_period &lt;= 1 &amp; tld %in% c(, , , , , , , \"tech\", ) &amp; reg_arpt_org &lt;= 4 &amp; log_reg_arpt &lt;= 1.09861228866811 &amp; day_domains &gt; 124 &amp; sld_length &lt;= 4 &amp; gibb_score &lt;= 4.53                                                       | 1                 | 0                 | 5725 | 0.0000000 | 573 |\n",
       "| 2 | tld %in% c(\"in.net\", \"online\", \"store\", \"tech\") &amp; reg_arpt &gt; 2.49 &amp; reseller %in% c(\"gmo\", \"go daddy\") &amp; reg_period &lt;= 1 &amp; tld %in% c(, , , , , , , \"tech\", ) &amp; reg_arpt_org &lt;= 4 &amp; log_reg_arpt &lt;= 1.09861228866811 &amp; day_domains &gt; 124 &amp; sld_length &lt;= 4 &amp; gibb_score &gt; 4.53 &amp; cluster &lt;= 61 &amp; gibb_score &lt;= 5.71                   | 0.272727272727273 | 0.727272727272727 | 5728 | 0.7272727 |  11 |\n",
       "| 3 | tld %in% c(\"in.net\", \"online\", \"store\", \"tech\") &amp; reg_arpt &gt; 2.49 &amp; reseller %in% c(\"gmo\", \"go daddy\") &amp; reg_period &lt;= 1 &amp; tld %in% c(, , , , , , , \"tech\", ) &amp; reg_arpt_org &lt;= 4 &amp; log_reg_arpt &lt;= 1.09861228866811 &amp; day_domains &gt; 124 &amp; sld_length &lt;= 4 &amp; gibb_score &gt; 4.53 &amp; cluster &lt;= 61 &amp; gibb_score &gt; 5.71                    | 1                 | 0                 | 5729 | 0.0000000 |  15 |\n",
       "| 4 | tld %in% c(\"in.net\", \"online\", \"store\", \"tech\") &amp; reg_arpt &gt; 2.49 &amp; reseller %in% c(\"gmo\", \"go daddy\") &amp; reg_period &lt;= 1 &amp; tld %in% c(, , , , , , , \"tech\", ) &amp; reg_arpt_org &lt;= 4 &amp; log_reg_arpt &lt;= 1.09861228866811 &amp; day_domains &gt; 124 &amp; sld_length &lt;= 4 &amp; gibb_score &gt; 4.53 &amp; cluster &gt; 61                                         | 1                 | 0                 | 5730 | 0.0000000 |  63 |\n",
       "| 5 | tld %in% c(\"in.net\", \"online\", \"store\", \"tech\") &amp; reg_arpt &gt; 2.49 &amp; reseller %in% c(\"gmo\", \"go daddy\") &amp; reg_period &lt;= 1 &amp; tld %in% c(, , , , , , , \"tech\", ) &amp; reg_arpt_org &lt;= 4 &amp; log_reg_arpt &lt;= 1.09861228866811 &amp; day_domains &gt; 124 &amp; sld_length &gt; 4 &amp; pattern_score &lt;= 2.51496403601429e-05 &amp; sld_type %in% c(\"hyphen-l\", , , ) | 1                 | 0                 | 5733 | 0.0000000 |  12 |\n",
       "| 6 | tld %in% c(\"in.net\", \"online\", \"store\", \"tech\") &amp; reg_arpt &gt; 2.49 &amp; reseller %in% c(\"gmo\", \"go daddy\") &amp; reg_period &lt;= 1 &amp; tld %in% c(, , , , , , , \"tech\", ) &amp; reg_arpt_org &lt;= 4 &amp; log_reg_arpt &lt;= 1.09861228866811 &amp; day_domains &gt; 124 &amp; sld_length &gt; 4 &amp; pattern_score &lt;= 2.51496403601429e-05 &amp; sld_type %in% c(, \"l\", , , \"idn\") | 0.441176470588235 | 0.558823529411765 | 5734 | 0.5588235 | 136 |\n",
       "\n"
      ],
      "text/plain": [
       "  Rule                                                                                                                                                                                                                                                                                                                                 \n",
       "1 tld %in% c(\"in.net\", \"online\", \"store\", \"tech\") & reg_arpt > 2.49 & reseller %in% c(\"gmo\", \"go daddy\") & reg_period <= 1 & tld %in% c(, , , , , , , \"tech\", ) & reg_arpt_org <= 4 & log_reg_arpt <= 1.09861228866811 & day_domains > 124 & sld_length <= 4 & gibb_score <= 4.53                                                      \n",
       "2 tld %in% c(\"in.net\", \"online\", \"store\", \"tech\") & reg_arpt > 2.49 & reseller %in% c(\"gmo\", \"go daddy\") & reg_period <= 1 & tld %in% c(, , , , , , , \"tech\", ) & reg_arpt_org <= 4 & log_reg_arpt <= 1.09861228866811 & day_domains > 124 & sld_length <= 4 & gibb_score > 4.53 & cluster <= 61 & gibb_score <= 5.71                  \n",
       "3 tld %in% c(\"in.net\", \"online\", \"store\", \"tech\") & reg_arpt > 2.49 & reseller %in% c(\"gmo\", \"go daddy\") & reg_period <= 1 & tld %in% c(, , , , , , , \"tech\", ) & reg_arpt_org <= 4 & log_reg_arpt <= 1.09861228866811 & day_domains > 124 & sld_length <= 4 & gibb_score > 4.53 & cluster <= 61 & gibb_score > 5.71                   \n",
       "4 tld %in% c(\"in.net\", \"online\", \"store\", \"tech\") & reg_arpt > 2.49 & reseller %in% c(\"gmo\", \"go daddy\") & reg_period <= 1 & tld %in% c(, , , , , , , \"tech\", ) & reg_arpt_org <= 4 & log_reg_arpt <= 1.09861228866811 & day_domains > 124 & sld_length <= 4 & gibb_score > 4.53 & cluster > 61                                        \n",
       "5 tld %in% c(\"in.net\", \"online\", \"store\", \"tech\") & reg_arpt > 2.49 & reseller %in% c(\"gmo\", \"go daddy\") & reg_period <= 1 & tld %in% c(, , , , , , , \"tech\", ) & reg_arpt_org <= 4 & log_reg_arpt <= 1.09861228866811 & day_domains > 124 & sld_length > 4 & pattern_score <= 2.51496403601429e-05 & sld_type %in% c(\"hyphen-l\", , , )\n",
       "6 tld %in% c(\"in.net\", \"online\", \"store\", \"tech\") & reg_arpt > 2.49 & reseller %in% c(\"gmo\", \"go daddy\") & reg_period <= 1 & tld %in% c(, , , , , , , \"tech\", ) & reg_arpt_org <= 4 & log_reg_arpt <= 1.09861228866811 & day_domains > 124 & sld_length > 4 & pattern_score <= 2.51496403601429e-05 & sld_type %in% c(, \"l\", , , \"idn\")\n",
       "  Not Renewd        Renewed.x         Terminal_Node Renewed.y n  \n",
       "1 1                 0                 5725          0.0000000 573\n",
       "2 0.272727272727273 0.727272727272727 5728          0.7272727  11\n",
       "3 1                 0                 5729          0.0000000  15\n",
       "4 1                 0                 5730          0.0000000  63\n",
       "5 1                 0                 5733          0.0000000  12\n",
       "6 0.441176470588235 0.558823529411765 5734          0.5588235 136"
      ]
     },
     "metadata": {},
     "output_type": "display_data"
    }
   ],
   "source": [
    "terminals_renrates_nobadvars <- terminals_renrates %>% filter(!str_detect(Rule, 'renew_M|renew_Y'))\n",
    "dim(terminals_renrates_nobadvars)\n",
    "head(terminals_renrates_nobadvars)"
   ]
  },
  {
   "cell_type": "code",
   "execution_count": 78,
   "metadata": {},
   "outputs": [],
   "source": [
    "# terminal node #5728 is the one w/o renewal_Y/M in Rule w/ highest predicted Renewal rate of .73"
   ]
  },
  {
   "cell_type": "code",
   "execution_count": 83,
   "metadata": {},
   "outputs": [
    {
     "data": {
      "text/html": [
       "'tld %in% c(\"in.net\", \"online\", \"store\", \"tech\") &amp; reg_arpt &gt; 2.49 &amp; reseller %in% c(\"gmo\", \"go daddy\") &amp; reg_period &lt;= 1 &amp; tld %in% c(, , , , , , , \"tech\", ) &amp; reg_arpt_org &lt;= 4 &amp; log_reg_arpt &lt;= 1.09861228866811 &amp; day_domains &gt; 124 &amp; sld_length &lt;= 4 &amp; gibb_score &gt; 4.53 &amp; cluster &lt;= 61 &amp; gibb_score &lt;= 5.71'"
      ],
      "text/latex": [
       "'tld \\%in\\% c(\"in.net\", \"online\", \"store\", \"tech\") \\& reg\\_arpt > 2.49 \\& reseller \\%in\\% c(\"gmo\", \"go daddy\") \\& reg\\_period <= 1 \\& tld \\%in\\% c(, , , , , , , \"tech\", ) \\& reg\\_arpt\\_org <= 4 \\& log\\_reg\\_arpt <= 1.09861228866811 \\& day\\_domains > 124 \\& sld\\_length <= 4 \\& gibb\\_score > 4.53 \\& cluster <= 61 \\& gibb\\_score <= 5.71'"
      ],
      "text/markdown": [
       "'tld %in% c(\"in.net\", \"online\", \"store\", \"tech\") &amp; reg_arpt &gt; 2.49 &amp; reseller %in% c(\"gmo\", \"go daddy\") &amp; reg_period &lt;= 1 &amp; tld %in% c(, , , , , , , \"tech\", ) &amp; reg_arpt_org &lt;= 4 &amp; log_reg_arpt &lt;= 1.09861228866811 &amp; day_domains &gt; 124 &amp; sld_length &lt;= 4 &amp; gibb_score &gt; 4.53 &amp; cluster &lt;= 61 &amp; gibb_score &lt;= 5.71'"
      ],
      "text/plain": [
       "[1] \"tld %in% c(\\\"in.net\\\", \\\"online\\\", \\\"store\\\", \\\"tech\\\") & reg_arpt > 2.49 & reseller %in% c(\\\"gmo\\\", \\\"go daddy\\\") & reg_period <= 1 & tld %in% c(, , , , , , , \\\"tech\\\", ) & reg_arpt_org <= 4 & log_reg_arpt <= 1.09861228866811 & day_domains > 124 & sld_length <= 4 & gibb_score > 4.53 & cluster <= 61 & gibb_score <= 5.71\""
      ]
     },
     "metadata": {},
     "output_type": "display_data"
    },
    {
     "data": {
      "text/html": [
       "<table>\n",
       "<caption>A data.frame: 12 × 1</caption>\n",
       "<thead>\n",
       "\t<tr><th scope=col>rule</th></tr>\n",
       "\t<tr><th scope=col>&lt;fct&gt;</th></tr>\n",
       "</thead>\n",
       "<tbody>\n",
       "\t<tr><td>tld %in% c(\"in.net\", \"online\", \"store\", \"tech\")</td></tr>\n",
       "\t<tr><td>tld %in% c(, , , , , , , \"tech\", )             </td></tr>\n",
       "\t<tr><td><span style=white-space:pre-wrap>sld_length &lt;= 4                                </span></td></tr>\n",
       "\t<tr><td>reseller %in% c(\"gmo\", \"go daddy\")             </td></tr>\n",
       "\t<tr><td><span style=white-space:pre-wrap>reg_period &lt;= 1                                </span></td></tr>\n",
       "\t<tr><td><span style=white-space:pre-wrap>reg_arpt_org &lt;= 4                              </span></td></tr>\n",
       "\t<tr><td><span style=white-space:pre-wrap>reg_arpt &gt; 2.49                                </span></td></tr>\n",
       "\t<tr><td><span style=white-space:pre-wrap>log_reg_arpt &lt;= 1.09861228866811               </span></td></tr>\n",
       "\t<tr><td><span style=white-space:pre-wrap>gibb_score &gt; 4.53                              </span></td></tr>\n",
       "\t<tr><td><span style=white-space:pre-wrap>gibb_score &lt;= 5.71                             </span></td></tr>\n",
       "\t<tr><td><span style=white-space:pre-wrap>day_domains &gt; 124                              </span></td></tr>\n",
       "\t<tr><td><span style=white-space:pre-wrap>cluster &lt;= 61                                  </span></td></tr>\n",
       "</tbody>\n",
       "</table>\n"
      ],
      "text/latex": [
       "A data.frame: 12 × 1\n",
       "\\begin{tabular}{l}\n",
       " rule\\\\\n",
       " <fct>\\\\\n",
       "\\hline\n",
       "\t tld \\%in\\% c(\"in.net\", \"online\", \"store\", \"tech\")\\\\\n",
       "\t tld \\%in\\% c(, , , , , , , \"tech\", )             \\\\\n",
       "\t sld\\_length <= 4                                \\\\\n",
       "\t reseller \\%in\\% c(\"gmo\", \"go daddy\")             \\\\\n",
       "\t reg\\_period <= 1                                \\\\\n",
       "\t reg\\_arpt\\_org <= 4                              \\\\\n",
       "\t reg\\_arpt > 2.49                                \\\\\n",
       "\t log\\_reg\\_arpt <= 1.09861228866811               \\\\\n",
       "\t gibb\\_score > 4.53                              \\\\\n",
       "\t gibb\\_score <= 5.71                             \\\\\n",
       "\t day\\_domains > 124                              \\\\\n",
       "\t cluster <= 61                                  \\\\\n",
       "\\end{tabular}\n"
      ],
      "text/markdown": [
       "\n",
       "A data.frame: 12 × 1\n",
       "\n",
       "| rule &lt;fct&gt; |\n",
       "|---|\n",
       "| tld %in% c(\"in.net\", \"online\", \"store\", \"tech\") |\n",
       "| tld %in% c(, , , , , , , \"tech\", )              |\n",
       "| sld_length &lt;= 4                                 |\n",
       "| reseller %in% c(\"gmo\", \"go daddy\")              |\n",
       "| reg_period &lt;= 1                                 |\n",
       "| reg_arpt_org &lt;= 4                               |\n",
       "| reg_arpt &gt; 2.49                                 |\n",
       "| log_reg_arpt &lt;= 1.09861228866811                |\n",
       "| gibb_score &gt; 4.53                               |\n",
       "| gibb_score &lt;= 5.71                              |\n",
       "| day_domains &gt; 124                               |\n",
       "| cluster &lt;= 61                                   |\n",
       "\n"
      ],
      "text/plain": [
       "   rule                                           \n",
       "1  tld %in% c(\"in.net\", \"online\", \"store\", \"tech\")\n",
       "2  tld %in% c(, , , , , , , \"tech\", )             \n",
       "3  sld_length <= 4                                \n",
       "4  reseller %in% c(\"gmo\", \"go daddy\")             \n",
       "5  reg_period <= 1                                \n",
       "6  reg_arpt_org <= 4                              \n",
       "7  reg_arpt > 2.49                                \n",
       "8  log_reg_arpt <= 1.09861228866811               \n",
       "9  gibb_score > 4.53                              \n",
       "10 gibb_score <= 5.71                             \n",
       "11 day_domains > 124                              \n",
       "12 cluster <= 61                                  "
      ]
     },
     "metadata": {},
     "output_type": "display_data"
    }
   ],
   "source": [
    "rule5728 <- terminals[ which(terminals$Terminal_Node==5728) ,]$Rule\n",
    "rule5728\n",
    "\n",
    "rule5728_df <- as.data.frame(strsplit(rule5728,' & ', fixed=TRUE)[[1]], header=FALSE)\n",
    "names(rule5728_df) <- 'rule'\n",
    "rule5728_df %>% arrange(desc(rule))"
   ]
  },
  {
   "cell_type": "code",
   "execution_count": 84,
   "metadata": {},
   "outputs": [
    {
     "data": {
      "text/plain": [
       "   Min. 1st Qu.  Median    Mean 3rd Qu.    Max. \n",
       "  0.000   1.760   3.950   4.721   5.860 100.000 "
      ]
     },
     "metadata": {},
     "output_type": "display_data"
    }
   ],
   "source": [
    "summary(train_df_f$gibb_score)"
   ]
  },
  {
   "cell_type": "code",
   "execution_count": 85,
   "metadata": {},
   "outputs": [
    {
     "data": {
      "text/html": [
       "<style>\n",
       ".list-inline {list-style: none; margin:0; padding: 0}\n",
       ".list-inline>li {display: inline-block}\n",
       ".list-inline>li:not(:last-child)::after {content: \"\\00b7\"; padding: 0 .5ex}\n",
       "</style>\n",
       "<ol class=list-inline><li>1559265</li><li>24</li></ol>\n"
      ],
      "text/latex": [
       "\\begin{enumerate*}\n",
       "\\item 1559265\n",
       "\\item 24\n",
       "\\end{enumerate*}\n"
      ],
      "text/markdown": [
       "1. 1559265\n",
       "2. 24\n",
       "\n",
       "\n"
      ],
      "text/plain": [
       "[1] 1559265      24"
      ]
     },
     "metadata": {},
     "output_type": "display_data"
    },
    {
     "data": {
      "text/html": [
       "<style>\n",
       ".list-inline {list-style: none; margin:0; padding: 0}\n",
       ".list-inline>li {display: inline-block}\n",
       ".list-inline>li:not(:last-child)::after {content: \"\\00b7\"; padding: 0 .5ex}\n",
       "</style>\n",
       "<ol class=list-inline><li>53939</li><li>24</li></ol>\n"
      ],
      "text/latex": [
       "\\begin{enumerate*}\n",
       "\\item 53939\n",
       "\\item 24\n",
       "\\end{enumerate*}\n"
      ],
      "text/markdown": [
       "1. 53939\n",
       "2. 24\n",
       "\n",
       "\n"
      ],
      "text/plain": [
       "[1] 53939    24"
      ]
     },
     "metadata": {},
     "output_type": "display_data"
    },
    {
     "data": {
      "text/html": [
       "<style>\n",
       ".list-inline {list-style: none; margin:0; padding: 0}\n",
       ".list-inline>li {display: inline-block}\n",
       ".list-inline>li:not(:last-child)::after {content: \"\\00b7\"; padding: 0 .5ex}\n",
       "</style>\n",
       "<ol class=list-inline><li>3864</li><li>24</li></ol>\n"
      ],
      "text/latex": [
       "\\begin{enumerate*}\n",
       "\\item 3864\n",
       "\\item 24\n",
       "\\end{enumerate*}\n"
      ],
      "text/markdown": [
       "1. 3864\n",
       "2. 24\n",
       "\n",
       "\n"
      ],
      "text/plain": [
       "[1] 3864   24"
      ]
     },
     "metadata": {},
     "output_type": "display_data"
    },
    {
     "data": {
      "text/html": [
       "<style>\n",
       ".list-inline {list-style: none; margin:0; padding: 0}\n",
       ".list-inline>li {display: inline-block}\n",
       ".list-inline>li:not(:last-child)::after {content: \"\\00b7\"; padding: 0 .5ex}\n",
       "</style>\n",
       "<ol class=list-inline><li>2406</li><li>24</li></ol>\n"
      ],
      "text/latex": [
       "\\begin{enumerate*}\n",
       "\\item 2406\n",
       "\\item 24\n",
       "\\end{enumerate*}\n"
      ],
      "text/markdown": [
       "1. 2406\n",
       "2. 24\n",
       "\n",
       "\n"
      ],
      "text/plain": [
       "[1] 2406   24"
      ]
     },
     "metadata": {},
     "output_type": "display_data"
    },
    {
     "data": {
      "text/html": [
       "<style>\n",
       ".list-inline {list-style: none; margin:0; padding: 0}\n",
       ".list-inline>li {display: inline-block}\n",
       ".list-inline>li:not(:last-child)::after {content: \"\\00b7\"; padding: 0 .5ex}\n",
       "</style>\n",
       "<ol class=list-inline><li>2239</li><li>24</li></ol>\n"
      ],
      "text/latex": [
       "\\begin{enumerate*}\n",
       "\\item 2239\n",
       "\\item 24\n",
       "\\end{enumerate*}\n"
      ],
      "text/markdown": [
       "1. 2239\n",
       "2. 24\n",
       "\n",
       "\n"
      ],
      "text/plain": [
       "[1] 2239   24"
      ]
     },
     "metadata": {},
     "output_type": "display_data"
    },
    {
     "data": {
      "text/html": [
       "<style>\n",
       ".list-inline {list-style: none; margin:0; padding: 0}\n",
       ".list-inline>li {display: inline-block}\n",
       ".list-inline>li:not(:last-child)::after {content: \"\\00b7\"; padding: 0 .5ex}\n",
       "</style>\n",
       "<ol class=list-inline><li>1186</li><li>24</li></ol>\n"
      ],
      "text/latex": [
       "\\begin{enumerate*}\n",
       "\\item 1186\n",
       "\\item 24\n",
       "\\end{enumerate*}\n"
      ],
      "text/markdown": [
       "1. 1186\n",
       "2. 24\n",
       "\n",
       "\n"
      ],
      "text/plain": [
       "[1] 1186   24"
      ]
     },
     "metadata": {},
     "output_type": "display_data"
    },
    {
     "data": {
      "text/html": [
       "<style>\n",
       ".list-inline {list-style: none; margin:0; padding: 0}\n",
       ".list-inline>li {display: inline-block}\n",
       ".list-inline>li:not(:last-child)::after {content: \"\\00b7\"; padding: 0 .5ex}\n",
       "</style>\n",
       "<ol class=list-inline><li>873</li><li>24</li></ol>\n"
      ],
      "text/latex": [
       "\\begin{enumerate*}\n",
       "\\item 873\n",
       "\\item 24\n",
       "\\end{enumerate*}\n"
      ],
      "text/markdown": [
       "1. 873\n",
       "2. 24\n",
       "\n",
       "\n"
      ],
      "text/plain": [
       "[1] 873  24"
      ]
     },
     "metadata": {},
     "output_type": "display_data"
    },
    {
     "data": {
      "text/html": [
       "<style>\n",
       ".list-inline {list-style: none; margin:0; padding: 0}\n",
       ".list-inline>li {display: inline-block}\n",
       ".list-inline>li:not(:last-child)::after {content: \"\\00b7\"; padding: 0 .5ex}\n",
       "</style>\n",
       "<ol class=list-inline><li>692</li><li>24</li></ol>\n"
      ],
      "text/latex": [
       "\\begin{enumerate*}\n",
       "\\item 692\n",
       "\\item 24\n",
       "\\end{enumerate*}\n"
      ],
      "text/markdown": [
       "1. 692\n",
       "2. 24\n",
       "\n",
       "\n"
      ],
      "text/plain": [
       "[1] 692  24"
      ]
     },
     "metadata": {},
     "output_type": "display_data"
    },
    {
     "data": {
      "text/html": [
       "<style>\n",
       ".list-inline {list-style: none; margin:0; padding: 0}\n",
       ".list-inline>li {display: inline-block}\n",
       ".list-inline>li:not(:last-child)::after {content: \"\\00b7\"; padding: 0 .5ex}\n",
       "</style>\n",
       "<ol class=list-inline><li>158</li><li>24</li></ol>\n"
      ],
      "text/latex": [
       "\\begin{enumerate*}\n",
       "\\item 158\n",
       "\\item 24\n",
       "\\end{enumerate*}\n"
      ],
      "text/markdown": [
       "1. 158\n",
       "2. 24\n",
       "\n",
       "\n"
      ],
      "text/plain": [
       "[1] 158  24"
      ]
     },
     "metadata": {},
     "output_type": "display_data"
    },
    {
     "data": {
      "text/html": [
       "<style>\n",
       ".list-inline {list-style: none; margin:0; padding: 0}\n",
       ".list-inline>li {display: inline-block}\n",
       ".list-inline>li:not(:last-child)::after {content: \"\\00b7\"; padding: 0 .5ex}\n",
       "</style>\n",
       "<ol class=list-inline><li>36</li><li>24</li></ol>\n"
      ],
      "text/latex": [
       "\\begin{enumerate*}\n",
       "\\item 36\n",
       "\\item 24\n",
       "\\end{enumerate*}\n"
      ],
      "text/markdown": [
       "1. 36\n",
       "2. 24\n",
       "\n",
       "\n"
      ],
      "text/plain": [
       "[1] 36 24"
      ]
     },
     "metadata": {},
     "output_type": "display_data"
    },
    {
     "data": {
      "text/html": [
       "<style>\n",
       ".list-inline {list-style: none; margin:0; padding: 0}\n",
       ".list-inline>li {display: inline-block}\n",
       ".list-inline>li:not(:last-child)::after {content: \"\\00b7\"; padding: 0 .5ex}\n",
       "</style>\n",
       "<ol class=list-inline><li>6</li><li>24</li></ol>\n"
      ],
      "text/latex": [
       "\\begin{enumerate*}\n",
       "\\item 6\n",
       "\\item 24\n",
       "\\end{enumerate*}\n"
      ],
      "text/markdown": [
       "1. 6\n",
       "2. 24\n",
       "\n",
       "\n"
      ],
      "text/plain": [
       "[1]  6 24"
      ]
     },
     "metadata": {},
     "output_type": "display_data"
    },
    {
     "data": {
      "text/html": [
       "<style>\n",
       ".list-inline {list-style: none; margin:0; padding: 0}\n",
       ".list-inline>li {display: inline-block}\n",
       ".list-inline>li:not(:last-child)::after {content: \"\\00b7\"; padding: 0 .5ex}\n",
       "</style>\n",
       "<ol class=list-inline><li>3</li><li>24</li></ol>\n"
      ],
      "text/latex": [
       "\\begin{enumerate*}\n",
       "\\item 3\n",
       "\\item 24\n",
       "\\end{enumerate*}\n"
      ],
      "text/markdown": [
       "1. 3\n",
       "2. 24\n",
       "\n",
       "\n"
      ],
      "text/plain": [
       "[1]  3 24"
      ]
     },
     "metadata": {},
     "output_type": "display_data"
    }
   ],
   "source": [
    "dim(train_df_f)\n",
    "rule5728_train_df <- train_df_f %>% filter(tld %in% c(\"tech\"))\n",
    "\n",
    "dim(rule5728_train_df)\n",
    "rule5728_train_df <- rule5728_train_df %>% filter(sld_length <= 4 )\n",
    "\n",
    "dim(rule5728_train_df)\n",
    "rule5728_train_df <- rule5728_train_df %>% filter(reseller %in% c(\"gmo\", \"go daddy\"))\n",
    "\n",
    "dim(rule5728_train_df)\n",
    "rule5728_train_df <- rule5728_train_df %>% filter(reg_period <= 1  )\n",
    "\n",
    "dim(rule5728_train_df)\n",
    "rule5728_train_df <- rule5728_train_df %>% filter(reg_arpt_org <= 4   )\n",
    "\n",
    "dim(rule5728_train_df)\n",
    "rule5728_train_df <- rule5728_train_df %>% filter(reg_arpt > 2.49    )\n",
    "\n",
    "dim(rule5728_train_df)\n",
    "rule5728_train_df <- rule5728_train_df %>% filter(log_reg_arpt <= 1.09861228866811       )\n",
    "\n",
    "dim(rule5728_train_df)\n",
    "rule5728_train_df <- rule5728_train_df %>% filter(gibb_score > 4.53   )\n",
    "\n",
    "dim(rule5728_train_df)\n",
    "rule5728_train_df <- rule5728_train_df %>% filter(gibb_score <= 5.71     )\n",
    "\n",
    "dim(rule5728_train_df)\n",
    "rule5728_train_df <- rule5728_train_df %>% filter(day_domains > 124   )\n",
    "\n",
    "dim(rule5728_train_df)\n",
    "rule5728_train_df <- rule5728_train_df %>% filter(cluster <= 61 )\n",
    "\n",
    "dim(rule5728_train_df)"
   ]
  },
  {
   "cell_type": "code",
   "execution_count": 86,
   "metadata": {},
   "outputs": [
    {
     "data": {
      "text/plain": [
       "\n",
       "Not Renewd    Renewed \n",
       " 0.3333333  0.6666667 "
      ]
     },
     "metadata": {},
     "output_type": "display_data"
    }
   ],
   "source": [
    "prop.table(table(rule5728_train_df$renewal_status))"
   ]
  },
  {
   "cell_type": "code",
   "execution_count": 87,
   "metadata": {},
   "outputs": [],
   "source": [
    "# 1 is not renewed, 2 are renewed but when weighted.... 3 are not renewed, 8 are renewed  so n=3+8 and .27 are not renewed and .72 are "
   ]
  },
  {
   "cell_type": "markdown",
   "metadata": {},
   "source": [
    "# QA COMPLETE!! (well, for training data, now do the same for test data)\n",
    "## test data doesn't lead to any obs in segments w/o renew_M/Y variables so instead, rerunning QA on decison tree trained w/o renew_M/Y"
   ]
  },
  {
   "cell_type": "code",
   "execution_count": 5,
   "metadata": {},
   "outputs": [
    {
     "data": {
      "text/html": [
       "<style>\n",
       ".list-inline {list-style: none; margin:0; padding: 0}\n",
       ".list-inline>li {display: inline-block}\n",
       ".list-inline>li:not(:last-child)::after {content: \"\\00b7\"; padding: 0 .5ex}\n",
       "</style>\n",
       "<ol class=list-inline><li>'calc_auc'</li><li>'chart_lift'</li><li>'df_prep'</li><li>'plot_gains'</li><li>'plot_multigains'</li><li>'test'</li><li>'test_df'</li><li>'test_df_f'</li><li>'train'</li><li>'train_data'</li><li>'train_df'</li><li>'train_df_f'</li></ol>\n"
      ],
      "text/latex": [
       "\\begin{enumerate*}\n",
       "\\item 'calc\\_auc'\n",
       "\\item 'chart\\_lift'\n",
       "\\item 'df\\_prep'\n",
       "\\item 'plot\\_gains'\n",
       "\\item 'plot\\_multigains'\n",
       "\\item 'test'\n",
       "\\item 'test\\_df'\n",
       "\\item 'test\\_df\\_f'\n",
       "\\item 'train'\n",
       "\\item 'train\\_data'\n",
       "\\item 'train\\_df'\n",
       "\\item 'train\\_df\\_f'\n",
       "\\end{enumerate*}\n"
      ],
      "text/markdown": [
       "1. 'calc_auc'\n",
       "2. 'chart_lift'\n",
       "3. 'df_prep'\n",
       "4. 'plot_gains'\n",
       "5. 'plot_multigains'\n",
       "6. 'test'\n",
       "7. 'test_df'\n",
       "8. 'test_df_f'\n",
       "9. 'train'\n",
       "10. 'train_data'\n",
       "11. 'train_df'\n",
       "12. 'train_df_f'\n",
       "\n",
       "\n"
      ],
      "text/plain": [
       " [1] \"calc_auc\"        \"chart_lift\"      \"df_prep\"         \"plot_gains\"     \n",
       " [5] \"plot_multigains\" \"test\"            \"test_df\"         \"test_df_f\"      \n",
       " [9] \"train\"           \"train_data\"      \"train_df\"        \"train_df_f\"     "
      ]
     },
     "metadata": {},
     "output_type": "display_data"
    }
   ],
   "source": [
    "ls()"
   ]
  },
  {
   "cell_type": "code",
   "execution_count": 6,
   "metadata": {},
   "outputs": [],
   "source": [
    "system(\"gsutil cp gs://data_outputt/output/xltree_01_d10 /home/jupyter/local/Domains_202003/data/\")"
   ]
  },
  {
   "cell_type": "code",
   "execution_count": 7,
   "metadata": {},
   "outputs": [],
   "source": [
    "# system(\"gsutil cp gs://data_outputt/output/xltree_01_d15_rules /home/jupyter/local/Domains_202003/data/\")\n",
    "load('../../data/xltree_01_d10')"
   ]
  },
  {
   "cell_type": "code",
   "execution_count": 8,
   "metadata": {},
   "outputs": [
    {
     "data": {
      "text/html": [
       "<style>\n",
       ".list-inline {list-style: none; margin:0; padding: 0}\n",
       ".list-inline>li {display: inline-block}\n",
       ".list-inline>li:not(:last-child)::after {content: \"\\00b7\"; padding: 0 .5ex}\n",
       "</style>\n",
       "<ol class=list-inline><li>'calc_auc'</li><li>'chart_lift'</li><li>'df_prep'</li><li>'plot_gains'</li><li>'plot_multigains'</li><li>'test'</li><li>'test_df'</li><li>'test_df_f'</li><li>'train'</li><li>'train_data'</li><li>'train_df'</li><li>'train_df_f'</li><li>'xltree_01_2'</li></ol>\n"
      ],
      "text/latex": [
       "\\begin{enumerate*}\n",
       "\\item 'calc\\_auc'\n",
       "\\item 'chart\\_lift'\n",
       "\\item 'df\\_prep'\n",
       "\\item 'plot\\_gains'\n",
       "\\item 'plot\\_multigains'\n",
       "\\item 'test'\n",
       "\\item 'test\\_df'\n",
       "\\item 'test\\_df\\_f'\n",
       "\\item 'train'\n",
       "\\item 'train\\_data'\n",
       "\\item 'train\\_df'\n",
       "\\item 'train\\_df\\_f'\n",
       "\\item 'xltree\\_01\\_2'\n",
       "\\end{enumerate*}\n"
      ],
      "text/markdown": [
       "1. 'calc_auc'\n",
       "2. 'chart_lift'\n",
       "3. 'df_prep'\n",
       "4. 'plot_gains'\n",
       "5. 'plot_multigains'\n",
       "6. 'test'\n",
       "7. 'test_df'\n",
       "8. 'test_df_f'\n",
       "9. 'train'\n",
       "10. 'train_data'\n",
       "11. 'train_df'\n",
       "12. 'train_df_f'\n",
       "13. 'xltree_01_2'\n",
       "\n",
       "\n"
      ],
      "text/plain": [
       " [1] \"calc_auc\"        \"chart_lift\"      \"df_prep\"         \"plot_gains\"     \n",
       " [5] \"plot_multigains\" \"test\"            \"test_df\"         \"test_df_f\"      \n",
       " [9] \"train\"           \"train_data\"      \"train_df\"        \"train_df_f\"     \n",
       "[13] \"xltree_01_2\"    "
      ]
     },
     "metadata": {},
     "output_type": "display_data"
    }
   ],
   "source": [
    "ls()"
   ]
  },
  {
   "cell_type": "code",
   "execution_count": 9,
   "metadata": {},
   "outputs": [],
   "source": [
    "# xltree_01_d10_rules <- partykit:::.list.rules.party(xltree_01_2)\n",
    "# save(xltree_01_d10_rules, file=\"../../data/output/xltree_01_d10_rules\")\n",
    "# system(\"gsutil cp /home/jupyter/local/Domains_202003/data/output/* gs://data_outputt/output/ \")"
   ]
  },
  {
   "cell_type": "code",
   "execution_count": null,
   "metadata": {},
   "outputs": [],
   "source": []
  },
  {
   "cell_type": "code",
   "execution_count": 23,
   "metadata": {},
   "outputs": [
    {
     "data": {
      "text/html": [
       "<style>\n",
       ".list-inline {list-style: none; margin:0; padding: 0}\n",
       ".list-inline>li {display: inline-block}\n",
       ".list-inline>li:not(:last-child)::after {content: \"\\00b7\"; padding: 0 .5ex}\n",
       "</style>\n",
       "<ol class=list-inline><li>389817</li><li>24</li></ol>\n"
      ],
      "text/latex": [
       "\\begin{enumerate*}\n",
       "\\item 389817\n",
       "\\item 24\n",
       "\\end{enumerate*}\n"
      ],
      "text/markdown": [
       "1. 389817\n",
       "2. 24\n",
       "\n",
       "\n"
      ],
      "text/plain": [
       "[1] 389817     24"
      ]
     },
     "metadata": {},
     "output_type": "display_data"
    },
    {
     "data": {
      "text/html": [
       "<style>\n",
       ".list-inline {list-style: none; margin:0; padding: 0}\n",
       ".list-inline>li {display: inline-block}\n",
       ".list-inline>li:not(:last-child)::after {content: \"\\00b7\"; padding: 0 .5ex}\n",
       "</style>\n",
       "<ol class=list-inline><li>389817</li><li>22</li></ol>\n"
      ],
      "text/latex": [
       "\\begin{enumerate*}\n",
       "\\item 389817\n",
       "\\item 22\n",
       "\\end{enumerate*}\n"
      ],
      "text/markdown": [
       "1. 389817\n",
       "2. 22\n",
       "\n",
       "\n"
      ],
      "text/plain": [
       "[1] 389817     22"
      ]
     },
     "metadata": {},
     "output_type": "display_data"
    }
   ],
   "source": [
    "dim(test_df_f)\n",
    "test_df_f <- test_df_f %>% select(-one_of(c(\"renew_M\",\"renew_Y\")))\n",
    "dim(test_df_f)"
   ]
  },
  {
   "cell_type": "code",
   "execution_count": 11,
   "metadata": {},
   "outputs": [],
   "source": [
    "terminals_test <- data.frame(response = predict(xltree_01_2, type = \"response\", newdata = test_df_f))\n",
    "terminals_test$prob <- predict(xltree_01_2, type = \"prob\", newdata = test_df_f)\n",
    "\n",
    "rules<- xltree_01_d10_rules #partykit:::.list.rules.party(tree)\n",
    "terminals_test$rule <- rules[as.character(predict(xltree_01_2, type = \"node\", newdata = test_df_f))]"
   ]
  },
  {
   "cell_type": "code",
   "execution_count": 12,
   "metadata": {},
   "outputs": [
    {
     "data": {
      "text/html": [
       "<table>\n",
       "<caption>A data.frame: 6 × 4</caption>\n",
       "<thead>\n",
       "\t<tr><th></th><th scope=col>Rule</th><th scope=col>Not Renewd</th><th scope=col>Renewed</th><th scope=col>Terminal_Node</th></tr>\n",
       "\t<tr><th></th><th scope=col>&lt;chr&gt;</th><th scope=col>&lt;chr&gt;</th><th scope=col>&lt;chr&gt;</th><th scope=col>&lt;dbl&gt;</th></tr>\n",
       "</thead>\n",
       "<tbody>\n",
       "\t<tr><th scope=row>1</th><td><span style=white-space:pre-wrap>tld %in% c(\"fun\", \"host\", \"press\", \"pw\", \"site\", \"space\", \"website\") &amp; day_domains &lt;= 127 &amp; tld %in% c(\"fun\", , , \"site\", \"space\", , ) &amp; day_domains &lt;= 25 &amp; sld_type %in% c(\"hyphen-l\", \"l\") &amp; day_domains &lt;= 9 &amp; reg_arpt &lt;= 2.48 &amp; reseller_country %in% c(\"Japan\") &amp; gibb_score &lt;= 0.83 &amp; expiry_M %in% c(\"01\", \"05\", \"06\", \"07\", \"09\", \"11\")                               </span></td><td>0.929824561403509</td><td>0.0701754385964912</td><td>11</td></tr>\n",
       "\t<tr><th scope=row>2</th><td><span style=white-space:pre-wrap>tld %in% c(\"fun\", \"host\", \"press\", \"pw\", \"site\", \"space\", \"website\") &amp; day_domains &lt;= 127 &amp; tld %in% c(\"fun\", , , \"site\", \"space\", , ) &amp; day_domains &lt;= 25 &amp; sld_type %in% c(\"hyphen-l\", \"l\") &amp; day_domains &lt;= 9 &amp; reg_arpt &lt;= 2.48 &amp; reseller_country %in% c(\"Japan\") &amp; gibb_score &lt;= 0.83 &amp; expiry_M %in% c(\"02\", \"03\", \"04\", \"08\", \"10\", \"12\")                               </span></td><td>0.589285714285714</td><td>0.410714285714286 </td><td>12</td></tr>\n",
       "\t<tr><th scope=row>3</th><td><span style=white-space:pre-wrap>tld %in% c(\"fun\", \"host\", \"press\", \"pw\", \"site\", \"space\", \"website\") &amp; day_domains &lt;= 127 &amp; tld %in% c(\"fun\", , , \"site\", \"space\", , ) &amp; day_domains &lt;= 25 &amp; sld_type %in% c(\"hyphen-l\", \"l\") &amp; day_domains &lt;= 9 &amp; reg_arpt &lt;= 2.48 &amp; reseller_country %in% c(\"Japan\") &amp; gibb_score &gt; 0.83 &amp; tld %in% c(\"fun\", , , , , , \"site\", , , )                                          </span></td><td>0.415712593762337</td><td>0.584287406237663 </td><td>14</td></tr>\n",
       "\t<tr><th scope=row>4</th><td><span style=white-space:pre-wrap>tld %in% c(\"fun\", \"host\", \"press\", \"pw\", \"site\", \"space\", \"website\") &amp; day_domains &lt;= 127 &amp; tld %in% c(\"fun\", , , \"site\", \"space\", , ) &amp; day_domains &lt;= 25 &amp; sld_type %in% c(\"hyphen-l\", \"l\") &amp; day_domains &lt;= 9 &amp; reg_arpt &lt;= 2.48 &amp; reseller_country %in% c(\"Japan\") &amp; gibb_score &gt; 0.83 &amp; tld %in% c(, , , , , \"space\", , , )                                                </span></td><td>0.495145631067961</td><td>0.504854368932039 </td><td>15</td></tr>\n",
       "\t<tr><th scope=row>5</th><td>tld %in% c(\"fun\", \"host\", \"press\", \"pw\", \"site\", \"space\", \"website\") &amp; day_domains &lt;= 127 &amp; tld %in% c(\"fun\", , , \"site\", \"space\", , ) &amp; day_domains &lt;= 25 &amp; sld_type %in% c(\"hyphen-l\", \"l\") &amp; day_domains &lt;= 9 &amp; reg_arpt &lt;= 2.48 &amp; reseller_country %in% c(\"United States\") &amp; tld %in% c(\"fun\", , , , , , \"site\", , , ) &amp; expiry_M %in% c(\"01\", \"07\", \"08\", \"09\", \"10\", \"12\")</td><td>0.732057416267943</td><td>0.267942583732057 </td><td>18</td></tr>\n",
       "\t<tr><th scope=row>6</th><td>tld %in% c(\"fun\", \"host\", \"press\", \"pw\", \"site\", \"space\", \"website\") &amp; day_domains &lt;= 127 &amp; tld %in% c(\"fun\", , , \"site\", \"space\", , ) &amp; day_domains &lt;= 25 &amp; sld_type %in% c(\"hyphen-l\", \"l\") &amp; day_domains &lt;= 9 &amp; reg_arpt &lt;= 2.48 &amp; reseller_country %in% c(\"United States\") &amp; tld %in% c(\"fun\", , , , , , \"site\", , , ) &amp; expiry_M %in% c(\"02\", \"03\", \"04\", \"05\", \"06\", \"11\")</td><td>0.610801543077582</td><td>0.389198456922418 </td><td>19</td></tr>\n",
       "</tbody>\n",
       "</table>\n"
      ],
      "text/latex": [
       "A data.frame: 6 × 4\n",
       "\\begin{tabular}{r|llll}\n",
       "  & Rule & Not Renewd & Renewed & Terminal\\_Node\\\\\n",
       "  & <chr> & <chr> & <chr> & <dbl>\\\\\n",
       "\\hline\n",
       "\t1 & tld \\%in\\% c(\"fun\", \"host\", \"press\", \"pw\", \"site\", \"space\", \"website\") \\& day\\_domains <= 127 \\& tld \\%in\\% c(\"fun\", , , \"site\", \"space\", , ) \\& day\\_domains <= 25 \\& sld\\_type \\%in\\% c(\"hyphen-l\", \"l\") \\& day\\_domains <= 9 \\& reg\\_arpt <= 2.48 \\& reseller\\_country \\%in\\% c(\"Japan\") \\& gibb\\_score <= 0.83 \\& expiry\\_M \\%in\\% c(\"01\", \"05\", \"06\", \"07\", \"09\", \"11\")                                & 0.929824561403509 & 0.0701754385964912 & 11\\\\\n",
       "\t2 & tld \\%in\\% c(\"fun\", \"host\", \"press\", \"pw\", \"site\", \"space\", \"website\") \\& day\\_domains <= 127 \\& tld \\%in\\% c(\"fun\", , , \"site\", \"space\", , ) \\& day\\_domains <= 25 \\& sld\\_type \\%in\\% c(\"hyphen-l\", \"l\") \\& day\\_domains <= 9 \\& reg\\_arpt <= 2.48 \\& reseller\\_country \\%in\\% c(\"Japan\") \\& gibb\\_score <= 0.83 \\& expiry\\_M \\%in\\% c(\"02\", \"03\", \"04\", \"08\", \"10\", \"12\")                                & 0.589285714285714 & 0.410714285714286  & 12\\\\\n",
       "\t3 & tld \\%in\\% c(\"fun\", \"host\", \"press\", \"pw\", \"site\", \"space\", \"website\") \\& day\\_domains <= 127 \\& tld \\%in\\% c(\"fun\", , , \"site\", \"space\", , ) \\& day\\_domains <= 25 \\& sld\\_type \\%in\\% c(\"hyphen-l\", \"l\") \\& day\\_domains <= 9 \\& reg\\_arpt <= 2.48 \\& reseller\\_country \\%in\\% c(\"Japan\") \\& gibb\\_score > 0.83 \\& tld \\%in\\% c(\"fun\", , , , , , \"site\", , , )                                           & 0.415712593762337 & 0.584287406237663  & 14\\\\\n",
       "\t4 & tld \\%in\\% c(\"fun\", \"host\", \"press\", \"pw\", \"site\", \"space\", \"website\") \\& day\\_domains <= 127 \\& tld \\%in\\% c(\"fun\", , , \"site\", \"space\", , ) \\& day\\_domains <= 25 \\& sld\\_type \\%in\\% c(\"hyphen-l\", \"l\") \\& day\\_domains <= 9 \\& reg\\_arpt <= 2.48 \\& reseller\\_country \\%in\\% c(\"Japan\") \\& gibb\\_score > 0.83 \\& tld \\%in\\% c(, , , , , \"space\", , , )                                                 & 0.495145631067961 & 0.504854368932039  & 15\\\\\n",
       "\t5 & tld \\%in\\% c(\"fun\", \"host\", \"press\", \"pw\", \"site\", \"space\", \"website\") \\& day\\_domains <= 127 \\& tld \\%in\\% c(\"fun\", , , \"site\", \"space\", , ) \\& day\\_domains <= 25 \\& sld\\_type \\%in\\% c(\"hyphen-l\", \"l\") \\& day\\_domains <= 9 \\& reg\\_arpt <= 2.48 \\& reseller\\_country \\%in\\% c(\"United States\") \\& tld \\%in\\% c(\"fun\", , , , , , \"site\", , , ) \\& expiry\\_M \\%in\\% c(\"01\", \"07\", \"08\", \"09\", \"10\", \"12\") & 0.732057416267943 & 0.267942583732057  & 18\\\\\n",
       "\t6 & tld \\%in\\% c(\"fun\", \"host\", \"press\", \"pw\", \"site\", \"space\", \"website\") \\& day\\_domains <= 127 \\& tld \\%in\\% c(\"fun\", , , \"site\", \"space\", , ) \\& day\\_domains <= 25 \\& sld\\_type \\%in\\% c(\"hyphen-l\", \"l\") \\& day\\_domains <= 9 \\& reg\\_arpt <= 2.48 \\& reseller\\_country \\%in\\% c(\"United States\") \\& tld \\%in\\% c(\"fun\", , , , , , \"site\", , , ) \\& expiry\\_M \\%in\\% c(\"02\", \"03\", \"04\", \"05\", \"06\", \"11\") & 0.610801543077582 & 0.389198456922418  & 19\\\\\n",
       "\\end{tabular}\n"
      ],
      "text/markdown": [
       "\n",
       "A data.frame: 6 × 4\n",
       "\n",
       "| <!--/--> | Rule &lt;chr&gt; | Not Renewd &lt;chr&gt; | Renewed &lt;chr&gt; | Terminal_Node &lt;dbl&gt; |\n",
       "|---|---|---|---|---|\n",
       "| 1 | tld %in% c(\"fun\", \"host\", \"press\", \"pw\", \"site\", \"space\", \"website\") &amp; day_domains &lt;= 127 &amp; tld %in% c(\"fun\", , , \"site\", \"space\", , ) &amp; day_domains &lt;= 25 &amp; sld_type %in% c(\"hyphen-l\", \"l\") &amp; day_domains &lt;= 9 &amp; reg_arpt &lt;= 2.48 &amp; reseller_country %in% c(\"Japan\") &amp; gibb_score &lt;= 0.83 &amp; expiry_M %in% c(\"01\", \"05\", \"06\", \"07\", \"09\", \"11\")                                | 0.929824561403509 | 0.0701754385964912 | 11 |\n",
       "| 2 | tld %in% c(\"fun\", \"host\", \"press\", \"pw\", \"site\", \"space\", \"website\") &amp; day_domains &lt;= 127 &amp; tld %in% c(\"fun\", , , \"site\", \"space\", , ) &amp; day_domains &lt;= 25 &amp; sld_type %in% c(\"hyphen-l\", \"l\") &amp; day_domains &lt;= 9 &amp; reg_arpt &lt;= 2.48 &amp; reseller_country %in% c(\"Japan\") &amp; gibb_score &lt;= 0.83 &amp; expiry_M %in% c(\"02\", \"03\", \"04\", \"08\", \"10\", \"12\")                                | 0.589285714285714 | 0.410714285714286  | 12 |\n",
       "| 3 | tld %in% c(\"fun\", \"host\", \"press\", \"pw\", \"site\", \"space\", \"website\") &amp; day_domains &lt;= 127 &amp; tld %in% c(\"fun\", , , \"site\", \"space\", , ) &amp; day_domains &lt;= 25 &amp; sld_type %in% c(\"hyphen-l\", \"l\") &amp; day_domains &lt;= 9 &amp; reg_arpt &lt;= 2.48 &amp; reseller_country %in% c(\"Japan\") &amp; gibb_score &gt; 0.83 &amp; tld %in% c(\"fun\", , , , , , \"site\", , , )                                           | 0.415712593762337 | 0.584287406237663  | 14 |\n",
       "| 4 | tld %in% c(\"fun\", \"host\", \"press\", \"pw\", \"site\", \"space\", \"website\") &amp; day_domains &lt;= 127 &amp; tld %in% c(\"fun\", , , \"site\", \"space\", , ) &amp; day_domains &lt;= 25 &amp; sld_type %in% c(\"hyphen-l\", \"l\") &amp; day_domains &lt;= 9 &amp; reg_arpt &lt;= 2.48 &amp; reseller_country %in% c(\"Japan\") &amp; gibb_score &gt; 0.83 &amp; tld %in% c(, , , , , \"space\", , , )                                                 | 0.495145631067961 | 0.504854368932039  | 15 |\n",
       "| 5 | tld %in% c(\"fun\", \"host\", \"press\", \"pw\", \"site\", \"space\", \"website\") &amp; day_domains &lt;= 127 &amp; tld %in% c(\"fun\", , , \"site\", \"space\", , ) &amp; day_domains &lt;= 25 &amp; sld_type %in% c(\"hyphen-l\", \"l\") &amp; day_domains &lt;= 9 &amp; reg_arpt &lt;= 2.48 &amp; reseller_country %in% c(\"United States\") &amp; tld %in% c(\"fun\", , , , , , \"site\", , , ) &amp; expiry_M %in% c(\"01\", \"07\", \"08\", \"09\", \"10\", \"12\") | 0.732057416267943 | 0.267942583732057  | 18 |\n",
       "| 6 | tld %in% c(\"fun\", \"host\", \"press\", \"pw\", \"site\", \"space\", \"website\") &amp; day_domains &lt;= 127 &amp; tld %in% c(\"fun\", , , \"site\", \"space\", , ) &amp; day_domains &lt;= 25 &amp; sld_type %in% c(\"hyphen-l\", \"l\") &amp; day_domains &lt;= 9 &amp; reg_arpt &lt;= 2.48 &amp; reseller_country %in% c(\"United States\") &amp; tld %in% c(\"fun\", , , , , , \"site\", , , ) &amp; expiry_M %in% c(\"02\", \"03\", \"04\", \"05\", \"06\", \"11\") | 0.610801543077582 | 0.389198456922418  | 19 |\n",
       "\n"
      ],
      "text/plain": [
       "  Rule                                                                                                                                                                                                                                                                                                                                                                            \n",
       "1 tld %in% c(\"fun\", \"host\", \"press\", \"pw\", \"site\", \"space\", \"website\") & day_domains <= 127 & tld %in% c(\"fun\", , , \"site\", \"space\", , ) & day_domains <= 25 & sld_type %in% c(\"hyphen-l\", \"l\") & day_domains <= 9 & reg_arpt <= 2.48 & reseller_country %in% c(\"Japan\") & gibb_score <= 0.83 & expiry_M %in% c(\"01\", \"05\", \"06\", \"07\", \"09\", \"11\")                               \n",
       "2 tld %in% c(\"fun\", \"host\", \"press\", \"pw\", \"site\", \"space\", \"website\") & day_domains <= 127 & tld %in% c(\"fun\", , , \"site\", \"space\", , ) & day_domains <= 25 & sld_type %in% c(\"hyphen-l\", \"l\") & day_domains <= 9 & reg_arpt <= 2.48 & reseller_country %in% c(\"Japan\") & gibb_score <= 0.83 & expiry_M %in% c(\"02\", \"03\", \"04\", \"08\", \"10\", \"12\")                               \n",
       "3 tld %in% c(\"fun\", \"host\", \"press\", \"pw\", \"site\", \"space\", \"website\") & day_domains <= 127 & tld %in% c(\"fun\", , , \"site\", \"space\", , ) & day_domains <= 25 & sld_type %in% c(\"hyphen-l\", \"l\") & day_domains <= 9 & reg_arpt <= 2.48 & reseller_country %in% c(\"Japan\") & gibb_score > 0.83 & tld %in% c(\"fun\", , , , , , \"site\", , , )                                          \n",
       "4 tld %in% c(\"fun\", \"host\", \"press\", \"pw\", \"site\", \"space\", \"website\") & day_domains <= 127 & tld %in% c(\"fun\", , , \"site\", \"space\", , ) & day_domains <= 25 & sld_type %in% c(\"hyphen-l\", \"l\") & day_domains <= 9 & reg_arpt <= 2.48 & reseller_country %in% c(\"Japan\") & gibb_score > 0.83 & tld %in% c(, , , , , \"space\", , , )                                                \n",
       "5 tld %in% c(\"fun\", \"host\", \"press\", \"pw\", \"site\", \"space\", \"website\") & day_domains <= 127 & tld %in% c(\"fun\", , , \"site\", \"space\", , ) & day_domains <= 25 & sld_type %in% c(\"hyphen-l\", \"l\") & day_domains <= 9 & reg_arpt <= 2.48 & reseller_country %in% c(\"United States\") & tld %in% c(\"fun\", , , , , , \"site\", , , ) & expiry_M %in% c(\"01\", \"07\", \"08\", \"09\", \"10\", \"12\")\n",
       "6 tld %in% c(\"fun\", \"host\", \"press\", \"pw\", \"site\", \"space\", \"website\") & day_domains <= 127 & tld %in% c(\"fun\", , , \"site\", \"space\", , ) & day_domains <= 25 & sld_type %in% c(\"hyphen-l\", \"l\") & day_domains <= 9 & reg_arpt <= 2.48 & reseller_country %in% c(\"United States\") & tld %in% c(\"fun\", , , , , , \"site\", , , ) & expiry_M %in% c(\"02\", \"03\", \"04\", \"05\", \"06\", \"11\")\n",
       "  Not Renewd        Renewed            Terminal_Node\n",
       "1 0.929824561403509 0.0701754385964912 11           \n",
       "2 0.589285714285714 0.410714285714286  12           \n",
       "3 0.415712593762337 0.584287406237663  14           \n",
       "4 0.495145631067961 0.504854368932039  15           \n",
       "5 0.732057416267943 0.267942583732057  18           \n",
       "6 0.610801543077582 0.389198456922418  19           "
      ]
     },
     "metadata": {},
     "output_type": "display_data"
    }
   ],
   "source": [
    "value<-cbind(terminals_test$rule, terminals_test[,which(grepl(\"prob\", colnames(terminals_test)))])\n",
    "colnames(value)[1]<-\"rules\"\n",
    "DF<-data.table(value)  \n",
    "terminals_test<-as.data.frame(DF[,sapply(.SD, function(x) list(max=max(x))),by=list(rules)])\n",
    "terminalsname<-cbind(names(rules), rules)\n",
    "terminals_test<-merge(terminals_test, terminalsname, by=c(\"rules\"))\n",
    "names<-colnames(terminals_test)[which(grepl(\".max\", colnames(terminals_test)))]\n",
    "names<-unlist(strsplit(names, \"[.]\"))[-which(unlist(strsplit(names, \"[.]\"))==\"max\")]\n",
    "colnames(terminals_test)[which(grepl(\".max\", colnames(terminals_test)))]<-names\n",
    "colnames(terminals_test)[which(colnames(terminals_test)==\"V1\")]<-\"Terminal_Node\"\n",
    "colnames(terminals_test)[which(colnames(terminals_test)==\"rules\")]<-\"Rule\"\n",
    "\n",
    "# terminals<-terminals[,c(5,1,2,3,4)]\n",
    "terminals_test$Rule[which(grepl(\"\\\"NA\\\"\", terminals_test$Rule))]<-gsub(\"\\\"NA\\\"\", \"\",\n",
    "                                                                       terminals_test$Rule[which(grepl(\"\\\"NA\\\"\", \n",
    "                                                                                                       terminals_test$Rule))])\n",
    "terminals_test$Terminal_Node<-as.numeric(as.character(terminals_test$Terminal_Node))\n",
    "terminals_test<-terminals_test[order(terminals_test$Terminal_Node),]\n",
    "\n",
    "head(terminals_test)"
   ]
  },
  {
   "cell_type": "code",
   "execution_count": 19,
   "metadata": {},
   "outputs": [
    {
     "data": {
      "text/html": [
       "<table>\n",
       "<caption>A data.frame: 20 × 4</caption>\n",
       "<thead>\n",
       "\t<tr><th></th><th scope=col>Rule</th><th scope=col>Not Renewd</th><th scope=col>Renewed</th><th scope=col>Terminal_Node</th></tr>\n",
       "\t<tr><th></th><th scope=col>&lt;chr&gt;</th><th scope=col>&lt;chr&gt;</th><th scope=col>&lt;chr&gt;</th><th scope=col>&lt;dbl&gt;</th></tr>\n",
       "</thead>\n",
       "<tbody>\n",
       "\t<tr><th scope=row>33</th><td><span style=white-space:pre-wrap>tld %in% c(\"fun\", \"host\", \"press\", \"pw\", \"site\", \"space\", \"website\") &amp; day_domains &lt;= 127 &amp; tld %in% c(\"fun\", , , \"site\", \"space\", , ) &amp; day_domains &lt;= 25 &amp; sld_type %in% c(\"hyphen-ln\", \"ln\", \"n\", \"idn\") &amp; creation_Y %in% c(, , \"2015\", \"2016\") &amp; cluster &lt;= 1 &amp; pattern_score &lt;= 0.5 &amp; expiry_Y %in% c(\"2018\")                                                                                                                                          </span></td><td><span style=white-space:pre-wrap>0                 </span></td><td><span style=white-space:pre-wrap>1                </span></td><td><span style=white-space:pre-wrap>  73</span></td></tr>\n",
       "\t<tr><th scope=row>194</th><td><span style=white-space:pre-wrap>tld %in% c(\"fun\", \"host\", \"press\", \"pw\", \"site\", \"space\", \"website\") &amp; day_domains &lt;= 127 &amp; tld %in% c(\"host\", , , \"press\", \"pw\", , , \"website\") &amp; reg_arpt &gt; 3 &amp; tld %in% c(, , , \"pw\", , , , , \"website\") &amp; sld_type %in% c(\"hyphen-l\", , \"ln\") &amp; expiry_M %in% c(\"02\", \"03\", \"05\", \"06\", \"07\", \"08\", \"09\", \"10\", \"11\", \"12\") &amp; tld %in% c(, , , , , \"pw\", , , , ) &amp; day_domains &gt; 4                                                                       </span></td><td><span style=white-space:pre-wrap>0                 </span></td><td><span style=white-space:pre-wrap>1                </span></td><td> 415</td></tr>\n",
       "\t<tr><th scope=row>195</th><td><span style=white-space:pre-wrap>tld %in% c(\"fun\", \"host\", \"press\", \"pw\", \"site\", \"space\", \"website\") &amp; day_domains &lt;= 127 &amp; tld %in% c(\"host\", , , \"press\", \"pw\", , , \"website\") &amp; reg_arpt &gt; 3 &amp; tld %in% c(, , , \"pw\", , , , , \"website\") &amp; sld_type %in% c(, \"l\", \"n\", \"idn\") &amp; log_reg_arpt &lt;= 1.38629436111989 &amp; expiry_M %in% c(\"01\", \"04\", \"05\", \"06\", \"07\", \"08\", \"09\", \"11\") &amp; tld %in% c(, , , , , , , , , \"website\") &amp; sld_length &lt;= 9                                            </span></td><td><span style=white-space:pre-wrap>0                 </span></td><td><span style=white-space:pre-wrap>1                </span></td><td> 426</td></tr>\n",
       "\t<tr><th scope=row>259</th><td><span style=white-space:pre-wrap>tld %in% c(\"fun\", \"host\", \"press\", \"pw\", \"site\", \"space\", \"website\") &amp; day_domains &gt; 127 &amp; expiry_M %in% c(\"01\", \"02\", \"04\", \"05\", \"06\", \"07\", \"08\", \"09\", \"10\", \"11\", \"12\") &amp; day_domains &gt; 340 &amp; tld %in% c(\"fun\", , , \"pw\", \"site\", \"space\", , , \"website\") &amp; day_domains &lt;= 1584 &amp; sld_type %in% c(\"hyphen-ln\", \"ln\", \"n\") &amp; expiry_M %in% c(, \"04\", \"11\", \"12\") &amp; sld_type %in% c(, , \"n\", ) &amp; pattern_domain_count &gt; 2                                 </span></td><td><span style=white-space:pre-wrap>0                 </span></td><td><span style=white-space:pre-wrap>1                </span></td><td> 583</td></tr>\n",
       "\t<tr><th scope=row>340</th><td><span style=white-space:pre-wrap>tld %in% c(\"in.net\", \"online\", \"store\", \"tech\") &amp; reg_arpt &lt;= 2.49 &amp; day_domains &lt;= 436 &amp; sld_type %in% c(\"hyphen-ln\", \"ln\", \"n\") &amp; reg_revenue &lt;= 1.5 &amp; pattern_domain_count &gt; 2 &amp; expiry_M %in% c(\"04\", \"06\", \"07\", \"12\") &amp; reg_arpt &gt; 0.7 &amp; expiry_M %in% c(, , , \"04\", , , , , )                                                                                                                                                                         </span></td><td><span style=white-space:pre-wrap>0                 </span></td><td><span style=white-space:pre-wrap>1                </span></td><td> 941</td></tr>\n",
       "\t<tr><th scope=row>384</th><td><span style=white-space:pre-wrap>tld %in% c(\"in.net\", \"online\", \"store\", \"tech\") &amp; reg_arpt &lt;= 2.49 &amp; day_domains &gt; 436 &amp; day_domains &gt; 637 &amp; day_domains &lt;= 1023 &amp; sld_type %in% c(\"l\", \"idn\") &amp; expiry_M %in% c(, \"03\", , \"05\", \"06\", , \"08\", \"09\", , \"11\", ) &amp; reg_arpt &gt; 1 &amp; expiry_M %in% c(, , \"03\", , , \"06\", , \"09\", , \"11\", ) &amp; pattern_score &lt;= 4.79253131919217e-06                                                                                                                </span></td><td>0.661016949152542 </td><td><span style=white-space:pre-wrap>1                </span></td><td>1129</td></tr>\n",
       "\t<tr><th scope=row>429</th><td><span style=white-space:pre-wrap>tld %in% c(\"in.net\", \"online\", \"store\", \"tech\") &amp; reg_arpt &gt; 2.49 &amp; reseller %in% c(\"gmo\", \"go daddy\") &amp; reg_period &gt; 1 &amp; sld_type %in% c(\"hyphen-l\", \"hyphen-ln\", \"ln\", \"n\") &amp; reg_period &gt; 2 &amp; expiry_M %in% c(, \"02\", \"03\", \"04\", \"05\", \"06\", \"07\", \"08\", \"12\") &amp; expiry_Y %in% c(\"2019\") &amp; sld_length &gt; 11 &amp; sld_type %in% c(\"hyphen-l\", , , , )                                                                                                         </span></td><td><span style=white-space:pre-wrap>0                 </span></td><td><span style=white-space:pre-wrap>1                </span></td><td>1305</td></tr>\n",
       "\t<tr><th scope=row>482</th><td><span style=white-space:pre-wrap>tld %in% c(\"in.net\", \"online\", \"store\", \"tech\") &amp; reg_arpt &gt; 2.49 &amp; reseller %in% c(\"namecheap\") &amp; day_domains &lt;= 30 &amp; tld %in% c(, , \"online\", , , , , \"store\", ) &amp; sld_type %in% c(\"l\", \"ln\", \"n\", ) &amp; reg_arpt_org &gt; 8.15 &amp; sld_length &lt;= 6 &amp; expiry_M %in% c(\"01\", , \"03\", , , \"06\", \"07\", \"09\", \"10\", \"11\") &amp; gibb_score &gt; 0.77                                                                                                                         </span></td><td><span style=white-space:pre-wrap>0                 </span></td><td><span style=white-space:pre-wrap>1                </span></td><td>1444</td></tr>\n",
       "\t<tr><th scope=row>404</th><td><span style=white-space:pre-wrap>tld %in% c(\"in.net\", \"online\", \"store\", \"tech\") &amp; reg_arpt &gt; 2.49 &amp; reseller %in% c(\"gmo\", \"go daddy\") &amp; reg_period &lt;= 1 &amp; tld %in% c(, , , , , , , \"tech\", ) &amp; reg_arpt_org &gt; 4 &amp; expiry_M %in% c(\"02\", \"03\", \"04\", \"05\", \"06\", \"08\", \"09\", \"10\", \"11\", \"12\") &amp; pattern_domain_count &gt; 1 &amp; expiry_M %in% c(, \"03\", , \"11\") &amp; reg_arpt_org &gt; 6                                                                                                               </span></td><td>0.0171428571428571</td><td>0.982857142857143</td><td>1281</td></tr>\n",
       "\t<tr><th scope=row>179</th><td><span style=white-space:pre-wrap>tld %in% c(\"fun\", \"host\", \"press\", \"pw\", \"site\", \"space\", \"website\") &amp; day_domains &lt;= 127 &amp; tld %in% c(\"host\", , , \"press\", \"pw\", , , \"website\") &amp; reg_arpt &gt; 3 &amp; tld %in% c(, \"host\", , , \"press\", , , , ) &amp; sld_type %in% c(\"l\", \"n\", \"idn\") &amp; day_domains &lt;= 13 &amp; reseller %in% c(\"gmo\", \"go daddy\") &amp; creation_Y %in% c(, \"2014\", \"2015\", \"2016\") &amp; creation_Y %in% c(, \"2014\", \"2015\", , )                                                              </span></td><td>0.0666666666666667</td><td>0.933333333333333</td><td> 388</td></tr>\n",
       "\t<tr><th scope=row>458</th><td><span style=white-space:pre-wrap>tld %in% c(\"in.net\", \"online\", \"store\", \"tech\") &amp; reg_arpt &gt; 2.49 &amp; reseller %in% c(\"namecheap\") &amp; day_domains &lt;= 30 &amp; tld %in% c(, , \"in.net\", , , , , \"tech\", ) &amp; reg_arpt_org &lt;= 9.75 &amp; sld_length &gt; 13 &amp; pattern_domain_count &lt;= 2 &amp; expiry_Y %in% c(\"2019\") &amp; expiry_M %in% c(\"05\", \"07\", \"08\")                                                                                                                                                         </span></td><td>0.0825688073394495</td><td>0.917431192660551</td><td>1391</td></tr>\n",
       "\t<tr><th scope=row>190</th><td>tld %in% c(\"fun\", \"host\", \"press\", \"pw\", \"site\", \"space\", \"website\") &amp; day_domains &lt;= 127 &amp; tld %in% c(\"host\", , , \"press\", \"pw\", , , \"website\") &amp; reg_arpt &gt; 3 &amp; tld %in% c(, , , \"pw\", , , , , \"website\") &amp; sld_type %in% c(\"hyphen-l\", , \"ln\") &amp; expiry_M %in% c(\"02\", \"03\", \"05\", \"06\", \"07\", \"08\", \"09\", \"10\", \"11\", \"12\") &amp; tld %in% c(, , , , , , , , , \"website\") &amp; creation_Y %in% c(, \"2014\", \"2017\", ) &amp; expiry_M %in% c(, , , , \"08\", \"10\", \"12\")</td><td>0.0857142857142857</td><td>0.914285714285714</td><td> 419</td></tr>\n",
       "\t<tr><th scope=row>191</th><td><span style=white-space:pre-wrap>tld %in% c(\"fun\", \"host\", \"press\", \"pw\", \"site\", \"space\", \"website\") &amp; day_domains &lt;= 127 &amp; tld %in% c(\"host\", , , \"press\", \"pw\", , , \"website\") &amp; reg_arpt &gt; 3 &amp; tld %in% c(, , , \"pw\", , , , , \"website\") &amp; sld_type %in% c(\"hyphen-l\", , \"ln\") &amp; expiry_M %in% c(\"02\", \"03\", \"05\", \"06\", \"07\", \"08\", \"09\", \"10\", \"11\", \"12\") &amp; tld %in% c(, , , , , , , , , \"website\") &amp; creation_Y %in% c(, \"2015\", \"2016\", )                                            </span></td><td>0.111111111111111 </td><td>0.888888888888889</td><td> 420</td></tr>\n",
       "\t<tr><th scope=row>192</th><td><span style=white-space:pre-wrap>tld %in% c(\"fun\", \"host\", \"press\", \"pw\", \"site\", \"space\", \"website\") &amp; day_domains &lt;= 127 &amp; tld %in% c(\"host\", , , \"press\", \"pw\", , , \"website\") &amp; reg_arpt &gt; 3 &amp; tld %in% c(, , , \"pw\", , , , , \"website\") &amp; sld_type %in% c(\"hyphen-l\", , \"ln\") &amp; expiry_M %in% c(\"02\", \"03\", \"05\", \"06\", \"07\", \"08\", \"09\", \"10\", \"11\", \"12\") &amp; tld %in% c(, , , , , \"pw\", , , , ) &amp; day_domains &lt;= 4 &amp; expiry_M %in% c(, \"02\", , , \"05\", \"08\", , , \"12\")                  </span></td><td><span style=white-space:pre-wrap>0.12              </span></td><td><span style=white-space:pre-wrap>0.88             </span></td><td> 413</td></tr>\n",
       "\t<tr><th scope=row>187</th><td><span style=white-space:pre-wrap>tld %in% c(\"fun\", \"host\", \"press\", \"pw\", \"site\", \"space\", \"website\") &amp; day_domains &lt;= 127 &amp; tld %in% c(\"host\", , , \"press\", \"pw\", , , \"website\") &amp; reg_arpt &gt; 3 &amp; tld %in% c(, \"host\", , , \"press\", , , , ) &amp; sld_type %in% c(\"l\", \"n\", \"idn\") &amp; day_domains &gt; 13 &amp; expiry_M %in% c(, , , \"05\", , , \"09\", \"11\") &amp; reseller_country %in% c(\"United States\")                                                                                                   </span></td><td>0.130434782608696 </td><td>0.869565217391304</td><td> 404</td></tr>\n",
       "\t<tr><th scope=row>412</th><td><span style=white-space:pre-wrap>tld %in% c(\"in.net\", \"online\", \"store\", \"tech\") &amp; reg_arpt &gt; 2.49 &amp; reseller %in% c(\"gmo\", \"go daddy\") &amp; reg_period &lt;= 1 &amp; tld %in% c(, , , \"online\", , , , , \"store\", ) &amp; sld_type %in% c(\"hyphen-l\", \"l\") &amp; reg_arpt_org &gt; 6 &amp; day_domains &lt;= 5 &amp; gibb_score &lt;= 4.89                                                                                                                                                                                       </span></td><td>0.130434782608696 </td><td>0.869565217391304</td><td>1199</td></tr>\n",
       "\t<tr><th scope=row>88</th><td><span style=white-space:pre-wrap>tld %in% c(\"fun\", \"host\", \"press\", \"pw\", \"site\", \"space\", \"website\") &amp; day_domains &lt;= 127 &amp; tld %in% c(\"fun\", , , \"site\", \"space\", , ) &amp; day_domains &gt; 25 &amp; sld_type %in% c(\"hyphen-ln\", \"ln\") &amp; reseller %in% c(\"gmo\", \"go daddy\") &amp; tld %in% c(\"fun\", , , , , , , , ) &amp; reseller_country %in% c(\"United States\") &amp; expiry_M %in% c(, \"04\", \"05\") &amp; pattern_domain_count &gt; 1                                                                                </span></td><td>0.138461538461538 </td><td>0.861538461538462</td><td> 194</td></tr>\n",
       "\t<tr><th scope=row>291</th><td><span style=white-space:pre-wrap>tld %in% c(\"in.net\", \"online\", \"store\", \"tech\") &amp; reg_arpt &lt;= 2.49 &amp; day_domains &lt;= 436 &amp; sld_type %in% c(\"hyphen-l\", \"l\", \"idn\") &amp; reseller %in% c(\"namecheap\") &amp; reg_arpt_org &lt;= 0.59 &amp; day_domains &lt;= 162 &amp; log_reg_arpt &lt;= -9.21034037197618 &amp; sld_type %in% c(\"hyphen-l\", , , , \"idn\")                                                                                                                                                                  </span></td><td>0.142857142857143 </td><td>0.857142857142857</td><td> 832</td></tr>\n",
       "\t<tr><th scope=row>185</th><td><span style=white-space:pre-wrap>tld %in% c(\"fun\", \"host\", \"press\", \"pw\", \"site\", \"space\", \"website\") &amp; day_domains &lt;= 127 &amp; tld %in% c(\"host\", , , \"press\", \"pw\", , , \"website\") &amp; reg_arpt &gt; 3 &amp; tld %in% c(, \"host\", , , \"press\", , , , ) &amp; sld_type %in% c(\"l\", \"n\", \"idn\") &amp; day_domains &lt;= 13 &amp; reseller %in% c(\"namecheap\") &amp; gibb_score &gt; 10.56                                                                                                                                       </span></td><td>0.157894736842105 </td><td>0.842105263157895</td><td> 397</td></tr>\n",
       "\t<tr><th scope=row>428</th><td><span style=white-space:pre-wrap>tld %in% c(\"in.net\", \"online\", \"store\", \"tech\") &amp; reg_arpt &gt; 2.49 &amp; reseller %in% c(\"gmo\", \"go daddy\") &amp; reg_period &gt; 1 &amp; sld_type %in% c(\"hyphen-l\", \"hyphen-ln\", \"ln\", \"n\") &amp; reg_period &gt; 2 &amp; expiry_M %in% c(, \"02\", \"03\", \"04\", \"05\", \"06\", \"07\", \"08\", \"12\") &amp; expiry_Y %in% c(\"2019\") &amp; sld_length &lt;= 11 &amp; tld %in% c(, , , , , , \"tech\", )                                                                                                           </span></td><td>0.157894736842105 </td><td>0.842105263157895</td><td>1303</td></tr>\n",
       "</tbody>\n",
       "</table>\n"
      ],
      "text/latex": [
       "A data.frame: 20 × 4\n",
       "\\begin{tabular}{r|llll}\n",
       "  & Rule & Not Renewd & Renewed & Terminal\\_Node\\\\\n",
       "  & <chr> & <chr> & <chr> & <dbl>\\\\\n",
       "\\hline\n",
       "\t33 & tld \\%in\\% c(\"fun\", \"host\", \"press\", \"pw\", \"site\", \"space\", \"website\") \\& day\\_domains <= 127 \\& tld \\%in\\% c(\"fun\", , , \"site\", \"space\", , ) \\& day\\_domains <= 25 \\& sld\\_type \\%in\\% c(\"hyphen-ln\", \"ln\", \"n\", \"idn\") \\& creation\\_Y \\%in\\% c(, , \"2015\", \"2016\") \\& cluster <= 1 \\& pattern\\_score <= 0.5 \\& expiry\\_Y \\%in\\% c(\"2018\")                                                                                                                                           & 0                  & 1                 &   73\\\\\n",
       "\t194 & tld \\%in\\% c(\"fun\", \"host\", \"press\", \"pw\", \"site\", \"space\", \"website\") \\& day\\_domains <= 127 \\& tld \\%in\\% c(\"host\", , , \"press\", \"pw\", , , \"website\") \\& reg\\_arpt > 3 \\& tld \\%in\\% c(, , , \"pw\", , , , , \"website\") \\& sld\\_type \\%in\\% c(\"hyphen-l\", , \"ln\") \\& expiry\\_M \\%in\\% c(\"02\", \"03\", \"05\", \"06\", \"07\", \"08\", \"09\", \"10\", \"11\", \"12\") \\& tld \\%in\\% c(, , , , , \"pw\", , , , ) \\& day\\_domains > 4                                                                        & 0                  & 1                 &  415\\\\\n",
       "\t195 & tld \\%in\\% c(\"fun\", \"host\", \"press\", \"pw\", \"site\", \"space\", \"website\") \\& day\\_domains <= 127 \\& tld \\%in\\% c(\"host\", , , \"press\", \"pw\", , , \"website\") \\& reg\\_arpt > 3 \\& tld \\%in\\% c(, , , \"pw\", , , , , \"website\") \\& sld\\_type \\%in\\% c(, \"l\", \"n\", \"idn\") \\& log\\_reg\\_arpt <= 1.38629436111989 \\& expiry\\_M \\%in\\% c(\"01\", \"04\", \"05\", \"06\", \"07\", \"08\", \"09\", \"11\") \\& tld \\%in\\% c(, , , , , , , , , \"website\") \\& sld\\_length <= 9                                             & 0                  & 1                 &  426\\\\\n",
       "\t259 & tld \\%in\\% c(\"fun\", \"host\", \"press\", \"pw\", \"site\", \"space\", \"website\") \\& day\\_domains > 127 \\& expiry\\_M \\%in\\% c(\"01\", \"02\", \"04\", \"05\", \"06\", \"07\", \"08\", \"09\", \"10\", \"11\", \"12\") \\& day\\_domains > 340 \\& tld \\%in\\% c(\"fun\", , , \"pw\", \"site\", \"space\", , , \"website\") \\& day\\_domains <= 1584 \\& sld\\_type \\%in\\% c(\"hyphen-ln\", \"ln\", \"n\") \\& expiry\\_M \\%in\\% c(, \"04\", \"11\", \"12\") \\& sld\\_type \\%in\\% c(, , \"n\", ) \\& pattern\\_domain\\_count > 2                                  & 0                  & 1                 &  583\\\\\n",
       "\t340 & tld \\%in\\% c(\"in.net\", \"online\", \"store\", \"tech\") \\& reg\\_arpt <= 2.49 \\& day\\_domains <= 436 \\& sld\\_type \\%in\\% c(\"hyphen-ln\", \"ln\", \"n\") \\& reg\\_revenue <= 1.5 \\& pattern\\_domain\\_count > 2 \\& expiry\\_M \\%in\\% c(\"04\", \"06\", \"07\", \"12\") \\& reg\\_arpt > 0.7 \\& expiry\\_M \\%in\\% c(, , , \"04\", , , , , )                                                                                                                                                                          & 0                  & 1                 &  941\\\\\n",
       "\t384 & tld \\%in\\% c(\"in.net\", \"online\", \"store\", \"tech\") \\& reg\\_arpt <= 2.49 \\& day\\_domains > 436 \\& day\\_domains > 637 \\& day\\_domains <= 1023 \\& sld\\_type \\%in\\% c(\"l\", \"idn\") \\& expiry\\_M \\%in\\% c(, \"03\", , \"05\", \"06\", , \"08\", \"09\", , \"11\", ) \\& reg\\_arpt > 1 \\& expiry\\_M \\%in\\% c(, , \"03\", , , \"06\", , \"09\", , \"11\", ) \\& pattern\\_score <= 4.79253131919217e-06                                                                                                                 & 0.661016949152542  & 1                 & 1129\\\\\n",
       "\t429 & tld \\%in\\% c(\"in.net\", \"online\", \"store\", \"tech\") \\& reg\\_arpt > 2.49 \\& reseller \\%in\\% c(\"gmo\", \"go daddy\") \\& reg\\_period > 1 \\& sld\\_type \\%in\\% c(\"hyphen-l\", \"hyphen-ln\", \"ln\", \"n\") \\& reg\\_period > 2 \\& expiry\\_M \\%in\\% c(, \"02\", \"03\", \"04\", \"05\", \"06\", \"07\", \"08\", \"12\") \\& expiry\\_Y \\%in\\% c(\"2019\") \\& sld\\_length > 11 \\& sld\\_type \\%in\\% c(\"hyphen-l\", , , , )                                                                                                          & 0                  & 1                 & 1305\\\\\n",
       "\t482 & tld \\%in\\% c(\"in.net\", \"online\", \"store\", \"tech\") \\& reg\\_arpt > 2.49 \\& reseller \\%in\\% c(\"namecheap\") \\& day\\_domains <= 30 \\& tld \\%in\\% c(, , \"online\", , , , , \"store\", ) \\& sld\\_type \\%in\\% c(\"l\", \"ln\", \"n\", ) \\& reg\\_arpt\\_org > 8.15 \\& sld\\_length <= 6 \\& expiry\\_M \\%in\\% c(\"01\", , \"03\", , , \"06\", \"07\", \"09\", \"10\", \"11\") \\& gibb\\_score > 0.77                                                                                                                          & 0                  & 1                 & 1444\\\\\n",
       "\t404 & tld \\%in\\% c(\"in.net\", \"online\", \"store\", \"tech\") \\& reg\\_arpt > 2.49 \\& reseller \\%in\\% c(\"gmo\", \"go daddy\") \\& reg\\_period <= 1 \\& tld \\%in\\% c(, , , , , , , \"tech\", ) \\& reg\\_arpt\\_org > 4 \\& expiry\\_M \\%in\\% c(\"02\", \"03\", \"04\", \"05\", \"06\", \"08\", \"09\", \"10\", \"11\", \"12\") \\& pattern\\_domain\\_count > 1 \\& expiry\\_M \\%in\\% c(, \"03\", , \"11\") \\& reg\\_arpt\\_org > 6                                                                                                                & 0.0171428571428571 & 0.982857142857143 & 1281\\\\\n",
       "\t179 & tld \\%in\\% c(\"fun\", \"host\", \"press\", \"pw\", \"site\", \"space\", \"website\") \\& day\\_domains <= 127 \\& tld \\%in\\% c(\"host\", , , \"press\", \"pw\", , , \"website\") \\& reg\\_arpt > 3 \\& tld \\%in\\% c(, \"host\", , , \"press\", , , , ) \\& sld\\_type \\%in\\% c(\"l\", \"n\", \"idn\") \\& day\\_domains <= 13 \\& reseller \\%in\\% c(\"gmo\", \"go daddy\") \\& creation\\_Y \\%in\\% c(, \"2014\", \"2015\", \"2016\") \\& creation\\_Y \\%in\\% c(, \"2014\", \"2015\", , )                                                               & 0.0666666666666667 & 0.933333333333333 &  388\\\\\n",
       "\t458 & tld \\%in\\% c(\"in.net\", \"online\", \"store\", \"tech\") \\& reg\\_arpt > 2.49 \\& reseller \\%in\\% c(\"namecheap\") \\& day\\_domains <= 30 \\& tld \\%in\\% c(, , \"in.net\", , , , , \"tech\", ) \\& reg\\_arpt\\_org <= 9.75 \\& sld\\_length > 13 \\& pattern\\_domain\\_count <= 2 \\& expiry\\_Y \\%in\\% c(\"2019\") \\& expiry\\_M \\%in\\% c(\"05\", \"07\", \"08\")                                                                                                                                                          & 0.0825688073394495 & 0.917431192660551 & 1391\\\\\n",
       "\t190 & tld \\%in\\% c(\"fun\", \"host\", \"press\", \"pw\", \"site\", \"space\", \"website\") \\& day\\_domains <= 127 \\& tld \\%in\\% c(\"host\", , , \"press\", \"pw\", , , \"website\") \\& reg\\_arpt > 3 \\& tld \\%in\\% c(, , , \"pw\", , , , , \"website\") \\& sld\\_type \\%in\\% c(\"hyphen-l\", , \"ln\") \\& expiry\\_M \\%in\\% c(\"02\", \"03\", \"05\", \"06\", \"07\", \"08\", \"09\", \"10\", \"11\", \"12\") \\& tld \\%in\\% c(, , , , , , , , , \"website\") \\& creation\\_Y \\%in\\% c(, \"2014\", \"2017\", ) \\& expiry\\_M \\%in\\% c(, , , , \"08\", \"10\", \"12\") & 0.0857142857142857 & 0.914285714285714 &  419\\\\\n",
       "\t191 & tld \\%in\\% c(\"fun\", \"host\", \"press\", \"pw\", \"site\", \"space\", \"website\") \\& day\\_domains <= 127 \\& tld \\%in\\% c(\"host\", , , \"press\", \"pw\", , , \"website\") \\& reg\\_arpt > 3 \\& tld \\%in\\% c(, , , \"pw\", , , , , \"website\") \\& sld\\_type \\%in\\% c(\"hyphen-l\", , \"ln\") \\& expiry\\_M \\%in\\% c(\"02\", \"03\", \"05\", \"06\", \"07\", \"08\", \"09\", \"10\", \"11\", \"12\") \\& tld \\%in\\% c(, , , , , , , , , \"website\") \\& creation\\_Y \\%in\\% c(, \"2015\", \"2016\", )                                             & 0.111111111111111  & 0.888888888888889 &  420\\\\\n",
       "\t192 & tld \\%in\\% c(\"fun\", \"host\", \"press\", \"pw\", \"site\", \"space\", \"website\") \\& day\\_domains <= 127 \\& tld \\%in\\% c(\"host\", , , \"press\", \"pw\", , , \"website\") \\& reg\\_arpt > 3 \\& tld \\%in\\% c(, , , \"pw\", , , , , \"website\") \\& sld\\_type \\%in\\% c(\"hyphen-l\", , \"ln\") \\& expiry\\_M \\%in\\% c(\"02\", \"03\", \"05\", \"06\", \"07\", \"08\", \"09\", \"10\", \"11\", \"12\") \\& tld \\%in\\% c(, , , , , \"pw\", , , , ) \\& day\\_domains <= 4 \\& expiry\\_M \\%in\\% c(, \"02\", , , \"05\", \"08\", , , \"12\")                   & 0.12               & 0.88              &  413\\\\\n",
       "\t187 & tld \\%in\\% c(\"fun\", \"host\", \"press\", \"pw\", \"site\", \"space\", \"website\") \\& day\\_domains <= 127 \\& tld \\%in\\% c(\"host\", , , \"press\", \"pw\", , , \"website\") \\& reg\\_arpt > 3 \\& tld \\%in\\% c(, \"host\", , , \"press\", , , , ) \\& sld\\_type \\%in\\% c(\"l\", \"n\", \"idn\") \\& day\\_domains > 13 \\& expiry\\_M \\%in\\% c(, , , \"05\", , , \"09\", \"11\") \\& reseller\\_country \\%in\\% c(\"United States\")                                                                                                    & 0.130434782608696  & 0.869565217391304 &  404\\\\\n",
       "\t412 & tld \\%in\\% c(\"in.net\", \"online\", \"store\", \"tech\") \\& reg\\_arpt > 2.49 \\& reseller \\%in\\% c(\"gmo\", \"go daddy\") \\& reg\\_period <= 1 \\& tld \\%in\\% c(, , , \"online\", , , , , \"store\", ) \\& sld\\_type \\%in\\% c(\"hyphen-l\", \"l\") \\& reg\\_arpt\\_org > 6 \\& day\\_domains <= 5 \\& gibb\\_score <= 4.89                                                                                                                                                                                        & 0.130434782608696  & 0.869565217391304 & 1199\\\\\n",
       "\t88 & tld \\%in\\% c(\"fun\", \"host\", \"press\", \"pw\", \"site\", \"space\", \"website\") \\& day\\_domains <= 127 \\& tld \\%in\\% c(\"fun\", , , \"site\", \"space\", , ) \\& day\\_domains > 25 \\& sld\\_type \\%in\\% c(\"hyphen-ln\", \"ln\") \\& reseller \\%in\\% c(\"gmo\", \"go daddy\") \\& tld \\%in\\% c(\"fun\", , , , , , , , ) \\& reseller\\_country \\%in\\% c(\"United States\") \\& expiry\\_M \\%in\\% c(, \"04\", \"05\") \\& pattern\\_domain\\_count > 1                                                                                 & 0.138461538461538  & 0.861538461538462 &  194\\\\\n",
       "\t291 & tld \\%in\\% c(\"in.net\", \"online\", \"store\", \"tech\") \\& reg\\_arpt <= 2.49 \\& day\\_domains <= 436 \\& sld\\_type \\%in\\% c(\"hyphen-l\", \"l\", \"idn\") \\& reseller \\%in\\% c(\"namecheap\") \\& reg\\_arpt\\_org <= 0.59 \\& day\\_domains <= 162 \\& log\\_reg\\_arpt <= -9.21034037197618 \\& sld\\_type \\%in\\% c(\"hyphen-l\", , , , \"idn\")                                                                                                                                                                   & 0.142857142857143  & 0.857142857142857 &  832\\\\\n",
       "\t185 & tld \\%in\\% c(\"fun\", \"host\", \"press\", \"pw\", \"site\", \"space\", \"website\") \\& day\\_domains <= 127 \\& tld \\%in\\% c(\"host\", , , \"press\", \"pw\", , , \"website\") \\& reg\\_arpt > 3 \\& tld \\%in\\% c(, \"host\", , , \"press\", , , , ) \\& sld\\_type \\%in\\% c(\"l\", \"n\", \"idn\") \\& day\\_domains <= 13 \\& reseller \\%in\\% c(\"namecheap\") \\& gibb\\_score > 10.56                                                                                                                                        & 0.157894736842105  & 0.842105263157895 &  397\\\\\n",
       "\t428 & tld \\%in\\% c(\"in.net\", \"online\", \"store\", \"tech\") \\& reg\\_arpt > 2.49 \\& reseller \\%in\\% c(\"gmo\", \"go daddy\") \\& reg\\_period > 1 \\& sld\\_type \\%in\\% c(\"hyphen-l\", \"hyphen-ln\", \"ln\", \"n\") \\& reg\\_period > 2 \\& expiry\\_M \\%in\\% c(, \"02\", \"03\", \"04\", \"05\", \"06\", \"07\", \"08\", \"12\") \\& expiry\\_Y \\%in\\% c(\"2019\") \\& sld\\_length <= 11 \\& tld \\%in\\% c(, , , , , , \"tech\", )                                                                                                            & 0.157894736842105  & 0.842105263157895 & 1303\\\\\n",
       "\\end{tabular}\n"
      ],
      "text/markdown": [
       "\n",
       "A data.frame: 20 × 4\n",
       "\n",
       "| <!--/--> | Rule &lt;chr&gt; | Not Renewd &lt;chr&gt; | Renewed &lt;chr&gt; | Terminal_Node &lt;dbl&gt; |\n",
       "|---|---|---|---|---|\n",
       "| 33 | tld %in% c(\"fun\", \"host\", \"press\", \"pw\", \"site\", \"space\", \"website\") &amp; day_domains &lt;= 127 &amp; tld %in% c(\"fun\", , , \"site\", \"space\", , ) &amp; day_domains &lt;= 25 &amp; sld_type %in% c(\"hyphen-ln\", \"ln\", \"n\", \"idn\") &amp; creation_Y %in% c(, , \"2015\", \"2016\") &amp; cluster &lt;= 1 &amp; pattern_score &lt;= 0.5 &amp; expiry_Y %in% c(\"2018\")                                                                                                                                           | 0                  | 1                 |   73 |\n",
       "| 194 | tld %in% c(\"fun\", \"host\", \"press\", \"pw\", \"site\", \"space\", \"website\") &amp; day_domains &lt;= 127 &amp; tld %in% c(\"host\", , , \"press\", \"pw\", , , \"website\") &amp; reg_arpt &gt; 3 &amp; tld %in% c(, , , \"pw\", , , , , \"website\") &amp; sld_type %in% c(\"hyphen-l\", , \"ln\") &amp; expiry_M %in% c(\"02\", \"03\", \"05\", \"06\", \"07\", \"08\", \"09\", \"10\", \"11\", \"12\") &amp; tld %in% c(, , , , , \"pw\", , , , ) &amp; day_domains &gt; 4                                                                        | 0                  | 1                 |  415 |\n",
       "| 195 | tld %in% c(\"fun\", \"host\", \"press\", \"pw\", \"site\", \"space\", \"website\") &amp; day_domains &lt;= 127 &amp; tld %in% c(\"host\", , , \"press\", \"pw\", , , \"website\") &amp; reg_arpt &gt; 3 &amp; tld %in% c(, , , \"pw\", , , , , \"website\") &amp; sld_type %in% c(, \"l\", \"n\", \"idn\") &amp; log_reg_arpt &lt;= 1.38629436111989 &amp; expiry_M %in% c(\"01\", \"04\", \"05\", \"06\", \"07\", \"08\", \"09\", \"11\") &amp; tld %in% c(, , , , , , , , , \"website\") &amp; sld_length &lt;= 9                                             | 0                  | 1                 |  426 |\n",
       "| 259 | tld %in% c(\"fun\", \"host\", \"press\", \"pw\", \"site\", \"space\", \"website\") &amp; day_domains &gt; 127 &amp; expiry_M %in% c(\"01\", \"02\", \"04\", \"05\", \"06\", \"07\", \"08\", \"09\", \"10\", \"11\", \"12\") &amp; day_domains &gt; 340 &amp; tld %in% c(\"fun\", , , \"pw\", \"site\", \"space\", , , \"website\") &amp; day_domains &lt;= 1584 &amp; sld_type %in% c(\"hyphen-ln\", \"ln\", \"n\") &amp; expiry_M %in% c(, \"04\", \"11\", \"12\") &amp; sld_type %in% c(, , \"n\", ) &amp; pattern_domain_count &gt; 2                                  | 0                  | 1                 |  583 |\n",
       "| 340 | tld %in% c(\"in.net\", \"online\", \"store\", \"tech\") &amp; reg_arpt &lt;= 2.49 &amp; day_domains &lt;= 436 &amp; sld_type %in% c(\"hyphen-ln\", \"ln\", \"n\") &amp; reg_revenue &lt;= 1.5 &amp; pattern_domain_count &gt; 2 &amp; expiry_M %in% c(\"04\", \"06\", \"07\", \"12\") &amp; reg_arpt &gt; 0.7 &amp; expiry_M %in% c(, , , \"04\", , , , , )                                                                                                                                                                          | 0                  | 1                 |  941 |\n",
       "| 384 | tld %in% c(\"in.net\", \"online\", \"store\", \"tech\") &amp; reg_arpt &lt;= 2.49 &amp; day_domains &gt; 436 &amp; day_domains &gt; 637 &amp; day_domains &lt;= 1023 &amp; sld_type %in% c(\"l\", \"idn\") &amp; expiry_M %in% c(, \"03\", , \"05\", \"06\", , \"08\", \"09\", , \"11\", ) &amp; reg_arpt &gt; 1 &amp; expiry_M %in% c(, , \"03\", , , \"06\", , \"09\", , \"11\", ) &amp; pattern_score &lt;= 4.79253131919217e-06                                                                                                                 | 0.661016949152542  | 1                 | 1129 |\n",
       "| 429 | tld %in% c(\"in.net\", \"online\", \"store\", \"tech\") &amp; reg_arpt &gt; 2.49 &amp; reseller %in% c(\"gmo\", \"go daddy\") &amp; reg_period &gt; 1 &amp; sld_type %in% c(\"hyphen-l\", \"hyphen-ln\", \"ln\", \"n\") &amp; reg_period &gt; 2 &amp; expiry_M %in% c(, \"02\", \"03\", \"04\", \"05\", \"06\", \"07\", \"08\", \"12\") &amp; expiry_Y %in% c(\"2019\") &amp; sld_length &gt; 11 &amp; sld_type %in% c(\"hyphen-l\", , , , )                                                                                                          | 0                  | 1                 | 1305 |\n",
       "| 482 | tld %in% c(\"in.net\", \"online\", \"store\", \"tech\") &amp; reg_arpt &gt; 2.49 &amp; reseller %in% c(\"namecheap\") &amp; day_domains &lt;= 30 &amp; tld %in% c(, , \"online\", , , , , \"store\", ) &amp; sld_type %in% c(\"l\", \"ln\", \"n\", ) &amp; reg_arpt_org &gt; 8.15 &amp; sld_length &lt;= 6 &amp; expiry_M %in% c(\"01\", , \"03\", , , \"06\", \"07\", \"09\", \"10\", \"11\") &amp; gibb_score &gt; 0.77                                                                                                                          | 0                  | 1                 | 1444 |\n",
       "| 404 | tld %in% c(\"in.net\", \"online\", \"store\", \"tech\") &amp; reg_arpt &gt; 2.49 &amp; reseller %in% c(\"gmo\", \"go daddy\") &amp; reg_period &lt;= 1 &amp; tld %in% c(, , , , , , , \"tech\", ) &amp; reg_arpt_org &gt; 4 &amp; expiry_M %in% c(\"02\", \"03\", \"04\", \"05\", \"06\", \"08\", \"09\", \"10\", \"11\", \"12\") &amp; pattern_domain_count &gt; 1 &amp; expiry_M %in% c(, \"03\", , \"11\") &amp; reg_arpt_org &gt; 6                                                                                                                | 0.0171428571428571 | 0.982857142857143 | 1281 |\n",
       "| 179 | tld %in% c(\"fun\", \"host\", \"press\", \"pw\", \"site\", \"space\", \"website\") &amp; day_domains &lt;= 127 &amp; tld %in% c(\"host\", , , \"press\", \"pw\", , , \"website\") &amp; reg_arpt &gt; 3 &amp; tld %in% c(, \"host\", , , \"press\", , , , ) &amp; sld_type %in% c(\"l\", \"n\", \"idn\") &amp; day_domains &lt;= 13 &amp; reseller %in% c(\"gmo\", \"go daddy\") &amp; creation_Y %in% c(, \"2014\", \"2015\", \"2016\") &amp; creation_Y %in% c(, \"2014\", \"2015\", , )                                                               | 0.0666666666666667 | 0.933333333333333 |  388 |\n",
       "| 458 | tld %in% c(\"in.net\", \"online\", \"store\", \"tech\") &amp; reg_arpt &gt; 2.49 &amp; reseller %in% c(\"namecheap\") &amp; day_domains &lt;= 30 &amp; tld %in% c(, , \"in.net\", , , , , \"tech\", ) &amp; reg_arpt_org &lt;= 9.75 &amp; sld_length &gt; 13 &amp; pattern_domain_count &lt;= 2 &amp; expiry_Y %in% c(\"2019\") &amp; expiry_M %in% c(\"05\", \"07\", \"08\")                                                                                                                                                          | 0.0825688073394495 | 0.917431192660551 | 1391 |\n",
       "| 190 | tld %in% c(\"fun\", \"host\", \"press\", \"pw\", \"site\", \"space\", \"website\") &amp; day_domains &lt;= 127 &amp; tld %in% c(\"host\", , , \"press\", \"pw\", , , \"website\") &amp; reg_arpt &gt; 3 &amp; tld %in% c(, , , \"pw\", , , , , \"website\") &amp; sld_type %in% c(\"hyphen-l\", , \"ln\") &amp; expiry_M %in% c(\"02\", \"03\", \"05\", \"06\", \"07\", \"08\", \"09\", \"10\", \"11\", \"12\") &amp; tld %in% c(, , , , , , , , , \"website\") &amp; creation_Y %in% c(, \"2014\", \"2017\", ) &amp; expiry_M %in% c(, , , , \"08\", \"10\", \"12\") | 0.0857142857142857 | 0.914285714285714 |  419 |\n",
       "| 191 | tld %in% c(\"fun\", \"host\", \"press\", \"pw\", \"site\", \"space\", \"website\") &amp; day_domains &lt;= 127 &amp; tld %in% c(\"host\", , , \"press\", \"pw\", , , \"website\") &amp; reg_arpt &gt; 3 &amp; tld %in% c(, , , \"pw\", , , , , \"website\") &amp; sld_type %in% c(\"hyphen-l\", , \"ln\") &amp; expiry_M %in% c(\"02\", \"03\", \"05\", \"06\", \"07\", \"08\", \"09\", \"10\", \"11\", \"12\") &amp; tld %in% c(, , , , , , , , , \"website\") &amp; creation_Y %in% c(, \"2015\", \"2016\", )                                             | 0.111111111111111  | 0.888888888888889 |  420 |\n",
       "| 192 | tld %in% c(\"fun\", \"host\", \"press\", \"pw\", \"site\", \"space\", \"website\") &amp; day_domains &lt;= 127 &amp; tld %in% c(\"host\", , , \"press\", \"pw\", , , \"website\") &amp; reg_arpt &gt; 3 &amp; tld %in% c(, , , \"pw\", , , , , \"website\") &amp; sld_type %in% c(\"hyphen-l\", , \"ln\") &amp; expiry_M %in% c(\"02\", \"03\", \"05\", \"06\", \"07\", \"08\", \"09\", \"10\", \"11\", \"12\") &amp; tld %in% c(, , , , , \"pw\", , , , ) &amp; day_domains &lt;= 4 &amp; expiry_M %in% c(, \"02\", , , \"05\", \"08\", , , \"12\")                   | 0.12               | 0.88              |  413 |\n",
       "| 187 | tld %in% c(\"fun\", \"host\", \"press\", \"pw\", \"site\", \"space\", \"website\") &amp; day_domains &lt;= 127 &amp; tld %in% c(\"host\", , , \"press\", \"pw\", , , \"website\") &amp; reg_arpt &gt; 3 &amp; tld %in% c(, \"host\", , , \"press\", , , , ) &amp; sld_type %in% c(\"l\", \"n\", \"idn\") &amp; day_domains &gt; 13 &amp; expiry_M %in% c(, , , \"05\", , , \"09\", \"11\") &amp; reseller_country %in% c(\"United States\")                                                                                                    | 0.130434782608696  | 0.869565217391304 |  404 |\n",
       "| 412 | tld %in% c(\"in.net\", \"online\", \"store\", \"tech\") &amp; reg_arpt &gt; 2.49 &amp; reseller %in% c(\"gmo\", \"go daddy\") &amp; reg_period &lt;= 1 &amp; tld %in% c(, , , \"online\", , , , , \"store\", ) &amp; sld_type %in% c(\"hyphen-l\", \"l\") &amp; reg_arpt_org &gt; 6 &amp; day_domains &lt;= 5 &amp; gibb_score &lt;= 4.89                                                                                                                                                                                        | 0.130434782608696  | 0.869565217391304 | 1199 |\n",
       "| 88 | tld %in% c(\"fun\", \"host\", \"press\", \"pw\", \"site\", \"space\", \"website\") &amp; day_domains &lt;= 127 &amp; tld %in% c(\"fun\", , , \"site\", \"space\", , ) &amp; day_domains &gt; 25 &amp; sld_type %in% c(\"hyphen-ln\", \"ln\") &amp; reseller %in% c(\"gmo\", \"go daddy\") &amp; tld %in% c(\"fun\", , , , , , , , ) &amp; reseller_country %in% c(\"United States\") &amp; expiry_M %in% c(, \"04\", \"05\") &amp; pattern_domain_count &gt; 1                                                                                 | 0.138461538461538  | 0.861538461538462 |  194 |\n",
       "| 291 | tld %in% c(\"in.net\", \"online\", \"store\", \"tech\") &amp; reg_arpt &lt;= 2.49 &amp; day_domains &lt;= 436 &amp; sld_type %in% c(\"hyphen-l\", \"l\", \"idn\") &amp; reseller %in% c(\"namecheap\") &amp; reg_arpt_org &lt;= 0.59 &amp; day_domains &lt;= 162 &amp; log_reg_arpt &lt;= -9.21034037197618 &amp; sld_type %in% c(\"hyphen-l\", , , , \"idn\")                                                                                                                                                                   | 0.142857142857143  | 0.857142857142857 |  832 |\n",
       "| 185 | tld %in% c(\"fun\", \"host\", \"press\", \"pw\", \"site\", \"space\", \"website\") &amp; day_domains &lt;= 127 &amp; tld %in% c(\"host\", , , \"press\", \"pw\", , , \"website\") &amp; reg_arpt &gt; 3 &amp; tld %in% c(, \"host\", , , \"press\", , , , ) &amp; sld_type %in% c(\"l\", \"n\", \"idn\") &amp; day_domains &lt;= 13 &amp; reseller %in% c(\"namecheap\") &amp; gibb_score &gt; 10.56                                                                                                                                        | 0.157894736842105  | 0.842105263157895 |  397 |\n",
       "| 428 | tld %in% c(\"in.net\", \"online\", \"store\", \"tech\") &amp; reg_arpt &gt; 2.49 &amp; reseller %in% c(\"gmo\", \"go daddy\") &amp; reg_period &gt; 1 &amp; sld_type %in% c(\"hyphen-l\", \"hyphen-ln\", \"ln\", \"n\") &amp; reg_period &gt; 2 &amp; expiry_M %in% c(, \"02\", \"03\", \"04\", \"05\", \"06\", \"07\", \"08\", \"12\") &amp; expiry_Y %in% c(\"2019\") &amp; sld_length &lt;= 11 &amp; tld %in% c(, , , , , , \"tech\", )                                                                                                            | 0.157894736842105  | 0.842105263157895 | 1303 |\n",
       "\n"
      ],
      "text/plain": [
       "    Rule                                                                                                                                                                                                                                                                                                                                                                                                                                                         \n",
       "33  tld %in% c(\"fun\", \"host\", \"press\", \"pw\", \"site\", \"space\", \"website\") & day_domains <= 127 & tld %in% c(\"fun\", , , \"site\", \"space\", , ) & day_domains <= 25 & sld_type %in% c(\"hyphen-ln\", \"ln\", \"n\", \"idn\") & creation_Y %in% c(, , \"2015\", \"2016\") & cluster <= 1 & pattern_score <= 0.5 & expiry_Y %in% c(\"2018\")                                                                                                                                          \n",
       "194 tld %in% c(\"fun\", \"host\", \"press\", \"pw\", \"site\", \"space\", \"website\") & day_domains <= 127 & tld %in% c(\"host\", , , \"press\", \"pw\", , , \"website\") & reg_arpt > 3 & tld %in% c(, , , \"pw\", , , , , \"website\") & sld_type %in% c(\"hyphen-l\", , \"ln\") & expiry_M %in% c(\"02\", \"03\", \"05\", \"06\", \"07\", \"08\", \"09\", \"10\", \"11\", \"12\") & tld %in% c(, , , , , \"pw\", , , , ) & day_domains > 4                                                                       \n",
       "195 tld %in% c(\"fun\", \"host\", \"press\", \"pw\", \"site\", \"space\", \"website\") & day_domains <= 127 & tld %in% c(\"host\", , , \"press\", \"pw\", , , \"website\") & reg_arpt > 3 & tld %in% c(, , , \"pw\", , , , , \"website\") & sld_type %in% c(, \"l\", \"n\", \"idn\") & log_reg_arpt <= 1.38629436111989 & expiry_M %in% c(\"01\", \"04\", \"05\", \"06\", \"07\", \"08\", \"09\", \"11\") & tld %in% c(, , , , , , , , , \"website\") & sld_length <= 9                                            \n",
       "259 tld %in% c(\"fun\", \"host\", \"press\", \"pw\", \"site\", \"space\", \"website\") & day_domains > 127 & expiry_M %in% c(\"01\", \"02\", \"04\", \"05\", \"06\", \"07\", \"08\", \"09\", \"10\", \"11\", \"12\") & day_domains > 340 & tld %in% c(\"fun\", , , \"pw\", \"site\", \"space\", , , \"website\") & day_domains <= 1584 & sld_type %in% c(\"hyphen-ln\", \"ln\", \"n\") & expiry_M %in% c(, \"04\", \"11\", \"12\") & sld_type %in% c(, , \"n\", ) & pattern_domain_count > 2                                 \n",
       "340 tld %in% c(\"in.net\", \"online\", \"store\", \"tech\") & reg_arpt <= 2.49 & day_domains <= 436 & sld_type %in% c(\"hyphen-ln\", \"ln\", \"n\") & reg_revenue <= 1.5 & pattern_domain_count > 2 & expiry_M %in% c(\"04\", \"06\", \"07\", \"12\") & reg_arpt > 0.7 & expiry_M %in% c(, , , \"04\", , , , , )                                                                                                                                                                         \n",
       "384 tld %in% c(\"in.net\", \"online\", \"store\", \"tech\") & reg_arpt <= 2.49 & day_domains > 436 & day_domains > 637 & day_domains <= 1023 & sld_type %in% c(\"l\", \"idn\") & expiry_M %in% c(, \"03\", , \"05\", \"06\", , \"08\", \"09\", , \"11\", ) & reg_arpt > 1 & expiry_M %in% c(, , \"03\", , , \"06\", , \"09\", , \"11\", ) & pattern_score <= 4.79253131919217e-06                                                                                                                \n",
       "429 tld %in% c(\"in.net\", \"online\", \"store\", \"tech\") & reg_arpt > 2.49 & reseller %in% c(\"gmo\", \"go daddy\") & reg_period > 1 & sld_type %in% c(\"hyphen-l\", \"hyphen-ln\", \"ln\", \"n\") & reg_period > 2 & expiry_M %in% c(, \"02\", \"03\", \"04\", \"05\", \"06\", \"07\", \"08\", \"12\") & expiry_Y %in% c(\"2019\") & sld_length > 11 & sld_type %in% c(\"hyphen-l\", , , , )                                                                                                         \n",
       "482 tld %in% c(\"in.net\", \"online\", \"store\", \"tech\") & reg_arpt > 2.49 & reseller %in% c(\"namecheap\") & day_domains <= 30 & tld %in% c(, , \"online\", , , , , \"store\", ) & sld_type %in% c(\"l\", \"ln\", \"n\", ) & reg_arpt_org > 8.15 & sld_length <= 6 & expiry_M %in% c(\"01\", , \"03\", , , \"06\", \"07\", \"09\", \"10\", \"11\") & gibb_score > 0.77                                                                                                                         \n",
       "404 tld %in% c(\"in.net\", \"online\", \"store\", \"tech\") & reg_arpt > 2.49 & reseller %in% c(\"gmo\", \"go daddy\") & reg_period <= 1 & tld %in% c(, , , , , , , \"tech\", ) & reg_arpt_org > 4 & expiry_M %in% c(\"02\", \"03\", \"04\", \"05\", \"06\", \"08\", \"09\", \"10\", \"11\", \"12\") & pattern_domain_count > 1 & expiry_M %in% c(, \"03\", , \"11\") & reg_arpt_org > 6                                                                                                               \n",
       "179 tld %in% c(\"fun\", \"host\", \"press\", \"pw\", \"site\", \"space\", \"website\") & day_domains <= 127 & tld %in% c(\"host\", , , \"press\", \"pw\", , , \"website\") & reg_arpt > 3 & tld %in% c(, \"host\", , , \"press\", , , , ) & sld_type %in% c(\"l\", \"n\", \"idn\") & day_domains <= 13 & reseller %in% c(\"gmo\", \"go daddy\") & creation_Y %in% c(, \"2014\", \"2015\", \"2016\") & creation_Y %in% c(, \"2014\", \"2015\", , )                                                              \n",
       "458 tld %in% c(\"in.net\", \"online\", \"store\", \"tech\") & reg_arpt > 2.49 & reseller %in% c(\"namecheap\") & day_domains <= 30 & tld %in% c(, , \"in.net\", , , , , \"tech\", ) & reg_arpt_org <= 9.75 & sld_length > 13 & pattern_domain_count <= 2 & expiry_Y %in% c(\"2019\") & expiry_M %in% c(\"05\", \"07\", \"08\")                                                                                                                                                         \n",
       "190 tld %in% c(\"fun\", \"host\", \"press\", \"pw\", \"site\", \"space\", \"website\") & day_domains <= 127 & tld %in% c(\"host\", , , \"press\", \"pw\", , , \"website\") & reg_arpt > 3 & tld %in% c(, , , \"pw\", , , , , \"website\") & sld_type %in% c(\"hyphen-l\", , \"ln\") & expiry_M %in% c(\"02\", \"03\", \"05\", \"06\", \"07\", \"08\", \"09\", \"10\", \"11\", \"12\") & tld %in% c(, , , , , , , , , \"website\") & creation_Y %in% c(, \"2014\", \"2017\", ) & expiry_M %in% c(, , , , \"08\", \"10\", \"12\")\n",
       "191 tld %in% c(\"fun\", \"host\", \"press\", \"pw\", \"site\", \"space\", \"website\") & day_domains <= 127 & tld %in% c(\"host\", , , \"press\", \"pw\", , , \"website\") & reg_arpt > 3 & tld %in% c(, , , \"pw\", , , , , \"website\") & sld_type %in% c(\"hyphen-l\", , \"ln\") & expiry_M %in% c(\"02\", \"03\", \"05\", \"06\", \"07\", \"08\", \"09\", \"10\", \"11\", \"12\") & tld %in% c(, , , , , , , , , \"website\") & creation_Y %in% c(, \"2015\", \"2016\", )                                            \n",
       "192 tld %in% c(\"fun\", \"host\", \"press\", \"pw\", \"site\", \"space\", \"website\") & day_domains <= 127 & tld %in% c(\"host\", , , \"press\", \"pw\", , , \"website\") & reg_arpt > 3 & tld %in% c(, , , \"pw\", , , , , \"website\") & sld_type %in% c(\"hyphen-l\", , \"ln\") & expiry_M %in% c(\"02\", \"03\", \"05\", \"06\", \"07\", \"08\", \"09\", \"10\", \"11\", \"12\") & tld %in% c(, , , , , \"pw\", , , , ) & day_domains <= 4 & expiry_M %in% c(, \"02\", , , \"05\", \"08\", , , \"12\")                  \n",
       "187 tld %in% c(\"fun\", \"host\", \"press\", \"pw\", \"site\", \"space\", \"website\") & day_domains <= 127 & tld %in% c(\"host\", , , \"press\", \"pw\", , , \"website\") & reg_arpt > 3 & tld %in% c(, \"host\", , , \"press\", , , , ) & sld_type %in% c(\"l\", \"n\", \"idn\") & day_domains > 13 & expiry_M %in% c(, , , \"05\", , , \"09\", \"11\") & reseller_country %in% c(\"United States\")                                                                                                   \n",
       "412 tld %in% c(\"in.net\", \"online\", \"store\", \"tech\") & reg_arpt > 2.49 & reseller %in% c(\"gmo\", \"go daddy\") & reg_period <= 1 & tld %in% c(, , , \"online\", , , , , \"store\", ) & sld_type %in% c(\"hyphen-l\", \"l\") & reg_arpt_org > 6 & day_domains <= 5 & gibb_score <= 4.89                                                                                                                                                                                       \n",
       "88  tld %in% c(\"fun\", \"host\", \"press\", \"pw\", \"site\", \"space\", \"website\") & day_domains <= 127 & tld %in% c(\"fun\", , , \"site\", \"space\", , ) & day_domains > 25 & sld_type %in% c(\"hyphen-ln\", \"ln\") & reseller %in% c(\"gmo\", \"go daddy\") & tld %in% c(\"fun\", , , , , , , , ) & reseller_country %in% c(\"United States\") & expiry_M %in% c(, \"04\", \"05\") & pattern_domain_count > 1                                                                                \n",
       "291 tld %in% c(\"in.net\", \"online\", \"store\", \"tech\") & reg_arpt <= 2.49 & day_domains <= 436 & sld_type %in% c(\"hyphen-l\", \"l\", \"idn\") & reseller %in% c(\"namecheap\") & reg_arpt_org <= 0.59 & day_domains <= 162 & log_reg_arpt <= -9.21034037197618 & sld_type %in% c(\"hyphen-l\", , , , \"idn\")                                                                                                                                                                  \n",
       "185 tld %in% c(\"fun\", \"host\", \"press\", \"pw\", \"site\", \"space\", \"website\") & day_domains <= 127 & tld %in% c(\"host\", , , \"press\", \"pw\", , , \"website\") & reg_arpt > 3 & tld %in% c(, \"host\", , , \"press\", , , , ) & sld_type %in% c(\"l\", \"n\", \"idn\") & day_domains <= 13 & reseller %in% c(\"namecheap\") & gibb_score > 10.56                                                                                                                                       \n",
       "428 tld %in% c(\"in.net\", \"online\", \"store\", \"tech\") & reg_arpt > 2.49 & reseller %in% c(\"gmo\", \"go daddy\") & reg_period > 1 & sld_type %in% c(\"hyphen-l\", \"hyphen-ln\", \"ln\", \"n\") & reg_period > 2 & expiry_M %in% c(, \"02\", \"03\", \"04\", \"05\", \"06\", \"07\", \"08\", \"12\") & expiry_Y %in% c(\"2019\") & sld_length <= 11 & tld %in% c(, , , , , , \"tech\", )                                                                                                           \n",
       "    Not Renewd         Renewed           Terminal_Node\n",
       "33  0                  1                   73         \n",
       "194 0                  1                  415         \n",
       "195 0                  1                  426         \n",
       "259 0                  1                  583         \n",
       "340 0                  1                  941         \n",
       "384 0.661016949152542  1                 1129         \n",
       "429 0                  1                 1305         \n",
       "482 0                  1                 1444         \n",
       "404 0.0171428571428571 0.982857142857143 1281         \n",
       "179 0.0666666666666667 0.933333333333333  388         \n",
       "458 0.0825688073394495 0.917431192660551 1391         \n",
       "190 0.0857142857142857 0.914285714285714  419         \n",
       "191 0.111111111111111  0.888888888888889  420         \n",
       "192 0.12               0.88               413         \n",
       "187 0.130434782608696  0.869565217391304  404         \n",
       "412 0.130434782608696  0.869565217391304 1199         \n",
       "88  0.138461538461538  0.861538461538462  194         \n",
       "291 0.142857142857143  0.857142857142857  832         \n",
       "185 0.157894736842105  0.842105263157895  397         \n",
       "428 0.157894736842105  0.842105263157895 1303         "
      ]
     },
     "metadata": {},
     "output_type": "display_data"
    }
   ],
   "source": [
    "terminals_test<-terminals_test[order(desc(terminals_test$Renewed)),]\n",
    "head(terminals_test,20)"
   ]
  },
  {
   "cell_type": "code",
   "execution_count": 20,
   "metadata": {},
   "outputs": [],
   "source": [
    "terminal_nodeids_d10 <- nodeids(xltree_01_2, terminal = TRUE)\n",
    "xltree_01_2_s <- as.simpleparty(xltree_01_2)\n",
    "\n",
    "tn_info <- nodeapply(xltree_01_2_s, ids = terminal_nodeids_d10, info_node)"
   ]
  },
  {
   "cell_type": "code",
   "execution_count": 21,
   "metadata": {},
   "outputs": [
    {
     "data": {
      "text/html": [
       "<table>\n",
       "<caption>A data.frame: 6 × 2</caption>\n",
       "<thead>\n",
       "\t<tr><th></th><th scope=col>Renewed</th><th scope=col>n</th></tr>\n",
       "\t<tr><th></th><th scope=col>&lt;dbl&gt;</th><th scope=col>&lt;dbl&gt;</th></tr>\n",
       "</thead>\n",
       "<tbody>\n",
       "\t<tr><th scope=row>X882</th><td>1</td><td>1712</td></tr>\n",
       "\t<tr><th scope=row>X747</th><td>1</td><td> 960</td></tr>\n",
       "\t<tr><th scope=row>X729</th><td>1</td><td> 704</td></tr>\n",
       "\t<tr><th scope=row>X450</th><td>1</td><td> 300</td></tr>\n",
       "\t<tr><th scope=row>X766</th><td>1</td><td> 284</td></tr>\n",
       "\t<tr><th scope=row>X415</th><td>1</td><td> 192</td></tr>\n",
       "</tbody>\n",
       "</table>\n"
      ],
      "text/latex": [
       "A data.frame: 6 × 2\n",
       "\\begin{tabular}{r|ll}\n",
       "  & Renewed & n\\\\\n",
       "  & <dbl> & <dbl>\\\\\n",
       "\\hline\n",
       "\tX882 & 1 & 1712\\\\\n",
       "\tX747 & 1 &  960\\\\\n",
       "\tX729 & 1 &  704\\\\\n",
       "\tX450 & 1 &  300\\\\\n",
       "\tX766 & 1 &  284\\\\\n",
       "\tX415 & 1 &  192\\\\\n",
       "\\end{tabular}\n"
      ],
      "text/markdown": [
       "\n",
       "A data.frame: 6 × 2\n",
       "\n",
       "| <!--/--> | Renewed &lt;dbl&gt; | n &lt;dbl&gt; |\n",
       "|---|---|---|\n",
       "| X882 | 1 | 1712 |\n",
       "| X747 | 1 |  960 |\n",
       "| X729 | 1 |  704 |\n",
       "| X450 | 1 |  300 |\n",
       "| X766 | 1 |  284 |\n",
       "| X415 | 1 |  192 |\n",
       "\n"
      ],
      "text/plain": [
       "     Renewed n   \n",
       "X882 1       1712\n",
       "X747 1        960\n",
       "X729 1        704\n",
       "X450 1        300\n",
       "X766 1        284\n",
       "X415 1        192"
      ]
     },
     "metadata": {},
     "output_type": "display_data"
    }
   ],
   "source": [
    "tn_renrates <- lapply(tn_info, function(t) c(t[[4]][2]/t[[2]], t[[2]]))\n",
    "tn_renrates_df <- as.data.frame(t(as.data.frame(tn_renrates)))\n",
    "tn_renrates_df <- tn_renrates_df %>% arrange(desc(Renewed),desc(n)) \n",
    "head(tn_renrates_df)"
   ]
  },
  {
   "cell_type": "code",
   "execution_count": 22,
   "metadata": {},
   "outputs": [
    {
     "name": "stderr",
     "output_type": "stream",
     "text": [
      "Warning message:\n",
      "“`add_rownames()` is deprecated as of dplyr 1.0.0.\n",
      "Please use `tibble::rownames_to_column()` instead.\n",
      "\u001b[90mThis warning is displayed once every 8 hours.\u001b[39m\n",
      "\u001b[90mCall `lifecycle::last_warnings()` to see where this warning was generated.\u001b[39m”\n"
     ]
    },
    {
     "data": {
      "text/html": [
       "<style>\n",
       ".list-inline {list-style: none; margin:0; padding: 0}\n",
       ".list-inline>li {display: inline-block}\n",
       ".list-inline>li:not(:last-child)::after {content: \"\\00b7\"; padding: 0 .5ex}\n",
       "</style>\n",
       "<ol class=list-inline><li>499</li><li>4</li></ol>\n"
      ],
      "text/latex": [
       "\\begin{enumerate*}\n",
       "\\item 499\n",
       "\\item 4\n",
       "\\end{enumerate*}\n"
      ],
      "text/markdown": [
       "1. 499\n",
       "2. 4\n",
       "\n",
       "\n"
      ],
      "text/plain": [
       "[1] 499   4"
      ]
     },
     "metadata": {},
     "output_type": "display_data"
    },
    {
     "data": {
      "text/html": [
       "<style>\n",
       ".list-inline {list-style: none; margin:0; padding: 0}\n",
       ".list-inline>li {display: inline-block}\n",
       ".list-inline>li:not(:last-child)::after {content: \"\\00b7\"; padding: 0 .5ex}\n",
       "</style>\n",
       "<ol class=list-inline><li>499</li><li>6</li></ol>\n"
      ],
      "text/latex": [
       "\\begin{enumerate*}\n",
       "\\item 499\n",
       "\\item 6\n",
       "\\end{enumerate*}\n"
      ],
      "text/markdown": [
       "1. 499\n",
       "2. 6\n",
       "\n",
       "\n"
      ],
      "text/plain": [
       "[1] 499   6"
      ]
     },
     "metadata": {},
     "output_type": "display_data"
    },
    {
     "data": {
      "text/html": [
       "<table>\n",
       "<caption>A data.frame: 6 × 6</caption>\n",
       "<thead>\n",
       "\t<tr><th></th><th scope=col>Rule</th><th scope=col>Not Renewd</th><th scope=col>Renewed.x</th><th scope=col>Terminal_Node</th><th scope=col>Renewed.y</th><th scope=col>n</th></tr>\n",
       "\t<tr><th></th><th scope=col>&lt;chr&gt;</th><th scope=col>&lt;chr&gt;</th><th scope=col>&lt;chr&gt;</th><th scope=col>&lt;dbl&gt;</th><th scope=col>&lt;dbl&gt;</th><th scope=col>&lt;dbl&gt;</th></tr>\n",
       "</thead>\n",
       "<tbody>\n",
       "\t<tr><th scope=row>1</th><td><span style=white-space:pre-wrap>tld %in% c(\"fun\", \"host\", \"press\", \"pw\", \"site\", \"space\", \"website\") &amp; day_domains &lt;= 127 &amp; tld %in% c(\"fun\", , , \"site\", \"space\", , ) &amp; day_domains &lt;= 25 &amp; sld_type %in% c(\"hyphen-ln\", \"ln\", \"n\", \"idn\") &amp; creation_Y %in% c(, , \"2015\", \"2016\") &amp; cluster &lt;= 1 &amp; pattern_score &lt;= 0.5 &amp; expiry_Y %in% c(\"2018\")                                                                                                         </span></td><td><span style=white-space:pre-wrap>0                </span></td><td>1</td><td><span style=white-space:pre-wrap>  73</span></td><td>1.0000000</td><td> 64</td></tr>\n",
       "\t<tr><th scope=row>2</th><td><span style=white-space:pre-wrap>tld %in% c(\"fun\", \"host\", \"press\", \"pw\", \"site\", \"space\", \"website\") &amp; day_domains &lt;= 127 &amp; tld %in% c(\"host\", , , \"press\", \"pw\", , , \"website\") &amp; reg_arpt &gt; 3 &amp; tld %in% c(, , , \"pw\", , , , , \"website\") &amp; sld_type %in% c(\"hyphen-l\", , \"ln\") &amp; expiry_M %in% c(\"02\", \"03\", \"05\", \"06\", \"07\", \"08\", \"09\", \"10\", \"11\", \"12\") &amp; tld %in% c(, , , , , \"pw\", , , , ) &amp; day_domains &gt; 4                                      </span></td><td><span style=white-space:pre-wrap>0                </span></td><td>1</td><td> 415</td><td>1.0000000</td><td>192</td></tr>\n",
       "\t<tr><th scope=row>3</th><td><span style=white-space:pre-wrap>tld %in% c(\"fun\", \"host\", \"press\", \"pw\", \"site\", \"space\", \"website\") &amp; day_domains &lt;= 127 &amp; tld %in% c(\"host\", , , \"press\", \"pw\", , , \"website\") &amp; reg_arpt &gt; 3 &amp; tld %in% c(, , , \"pw\", , , , , \"website\") &amp; sld_type %in% c(, \"l\", \"n\", \"idn\") &amp; log_reg_arpt &lt;= 1.38629436111989 &amp; expiry_M %in% c(\"01\", \"04\", \"05\", \"06\", \"07\", \"08\", \"09\", \"11\") &amp; tld %in% c(, , , , , , , , , \"website\") &amp; sld_length &lt;= 9           </span></td><td><span style=white-space:pre-wrap>0                </span></td><td>1</td><td> 426</td><td>1.0000000</td><td> 28</td></tr>\n",
       "\t<tr><th scope=row>4</th><td>tld %in% c(\"fun\", \"host\", \"press\", \"pw\", \"site\", \"space\", \"website\") &amp; day_domains &gt; 127 &amp; expiry_M %in% c(\"01\", \"02\", \"04\", \"05\", \"06\", \"07\", \"08\", \"09\", \"10\", \"11\", \"12\") &amp; day_domains &gt; 340 &amp; tld %in% c(\"fun\", , , \"pw\", \"site\", \"space\", , , \"website\") &amp; day_domains &lt;= 1584 &amp; sld_type %in% c(\"hyphen-ln\", \"ln\", \"n\") &amp; expiry_M %in% c(, \"04\", \"11\", \"12\") &amp; sld_type %in% c(, , \"n\", ) &amp; pattern_domain_count &gt; 2</td><td><span style=white-space:pre-wrap>0                </span></td><td>1</td><td> 583</td><td>1.0000000</td><td> 48</td></tr>\n",
       "\t<tr><th scope=row>5</th><td><span style=white-space:pre-wrap>tld %in% c(\"in.net\", \"online\", \"store\", \"tech\") &amp; reg_arpt &lt;= 2.49 &amp; day_domains &lt;= 436 &amp; sld_type %in% c(\"hyphen-ln\", \"ln\", \"n\") &amp; reg_revenue &lt;= 1.5 &amp; pattern_domain_count &gt; 2 &amp; expiry_M %in% c(\"04\", \"06\", \"07\", \"12\") &amp; reg_arpt &gt; 0.7 &amp; expiry_M %in% c(, , , \"04\", , , , , )                                                                                                                                        </span></td><td><span style=white-space:pre-wrap>0                </span></td><td>1</td><td> 941</td><td>1.0000000</td><td> 64</td></tr>\n",
       "\t<tr><th scope=row>6</th><td><span style=white-space:pre-wrap>tld %in% c(\"in.net\", \"online\", \"store\", \"tech\") &amp; reg_arpt &lt;= 2.49 &amp; day_domains &gt; 436 &amp; day_domains &gt; 637 &amp; day_domains &lt;= 1023 &amp; sld_type %in% c(\"l\", \"idn\") &amp; expiry_M %in% c(, \"03\", , \"05\", \"06\", , \"08\", \"09\", , \"11\", ) &amp; reg_arpt &gt; 1 &amp; expiry_M %in% c(, , \"03\", , , \"06\", , \"09\", , \"11\", ) &amp; pattern_score &lt;= 4.79253131919217e-06                                                                               </span></td><td>0.661016949152542</td><td>1</td><td>1129</td><td>0.3389831</td><td>472</td></tr>\n",
       "</tbody>\n",
       "</table>\n"
      ],
      "text/latex": [
       "A data.frame: 6 × 6\n",
       "\\begin{tabular}{r|llllll}\n",
       "  & Rule & Not Renewd & Renewed.x & Terminal\\_Node & Renewed.y & n\\\\\n",
       "  & <chr> & <chr> & <chr> & <dbl> & <dbl> & <dbl>\\\\\n",
       "\\hline\n",
       "\t1 & tld \\%in\\% c(\"fun\", \"host\", \"press\", \"pw\", \"site\", \"space\", \"website\") \\& day\\_domains <= 127 \\& tld \\%in\\% c(\"fun\", , , \"site\", \"space\", , ) \\& day\\_domains <= 25 \\& sld\\_type \\%in\\% c(\"hyphen-ln\", \"ln\", \"n\", \"idn\") \\& creation\\_Y \\%in\\% c(, , \"2015\", \"2016\") \\& cluster <= 1 \\& pattern\\_score <= 0.5 \\& expiry\\_Y \\%in\\% c(\"2018\")                                                                                                          & 0                 & 1 &   73 & 1.0000000 &  64\\\\\n",
       "\t2 & tld \\%in\\% c(\"fun\", \"host\", \"press\", \"pw\", \"site\", \"space\", \"website\") \\& day\\_domains <= 127 \\& tld \\%in\\% c(\"host\", , , \"press\", \"pw\", , , \"website\") \\& reg\\_arpt > 3 \\& tld \\%in\\% c(, , , \"pw\", , , , , \"website\") \\& sld\\_type \\%in\\% c(\"hyphen-l\", , \"ln\") \\& expiry\\_M \\%in\\% c(\"02\", \"03\", \"05\", \"06\", \"07\", \"08\", \"09\", \"10\", \"11\", \"12\") \\& tld \\%in\\% c(, , , , , \"pw\", , , , ) \\& day\\_domains > 4                                       & 0                 & 1 &  415 & 1.0000000 & 192\\\\\n",
       "\t3 & tld \\%in\\% c(\"fun\", \"host\", \"press\", \"pw\", \"site\", \"space\", \"website\") \\& day\\_domains <= 127 \\& tld \\%in\\% c(\"host\", , , \"press\", \"pw\", , , \"website\") \\& reg\\_arpt > 3 \\& tld \\%in\\% c(, , , \"pw\", , , , , \"website\") \\& sld\\_type \\%in\\% c(, \"l\", \"n\", \"idn\") \\& log\\_reg\\_arpt <= 1.38629436111989 \\& expiry\\_M \\%in\\% c(\"01\", \"04\", \"05\", \"06\", \"07\", \"08\", \"09\", \"11\") \\& tld \\%in\\% c(, , , , , , , , , \"website\") \\& sld\\_length <= 9            & 0                 & 1 &  426 & 1.0000000 &  28\\\\\n",
       "\t4 & tld \\%in\\% c(\"fun\", \"host\", \"press\", \"pw\", \"site\", \"space\", \"website\") \\& day\\_domains > 127 \\& expiry\\_M \\%in\\% c(\"01\", \"02\", \"04\", \"05\", \"06\", \"07\", \"08\", \"09\", \"10\", \"11\", \"12\") \\& day\\_domains > 340 \\& tld \\%in\\% c(\"fun\", , , \"pw\", \"site\", \"space\", , , \"website\") \\& day\\_domains <= 1584 \\& sld\\_type \\%in\\% c(\"hyphen-ln\", \"ln\", \"n\") \\& expiry\\_M \\%in\\% c(, \"04\", \"11\", \"12\") \\& sld\\_type \\%in\\% c(, , \"n\", ) \\& pattern\\_domain\\_count > 2 & 0                 & 1 &  583 & 1.0000000 &  48\\\\\n",
       "\t5 & tld \\%in\\% c(\"in.net\", \"online\", \"store\", \"tech\") \\& reg\\_arpt <= 2.49 \\& day\\_domains <= 436 \\& sld\\_type \\%in\\% c(\"hyphen-ln\", \"ln\", \"n\") \\& reg\\_revenue <= 1.5 \\& pattern\\_domain\\_count > 2 \\& expiry\\_M \\%in\\% c(\"04\", \"06\", \"07\", \"12\") \\& reg\\_arpt > 0.7 \\& expiry\\_M \\%in\\% c(, , , \"04\", , , , , )                                                                                                                                         & 0                 & 1 &  941 & 1.0000000 &  64\\\\\n",
       "\t6 & tld \\%in\\% c(\"in.net\", \"online\", \"store\", \"tech\") \\& reg\\_arpt <= 2.49 \\& day\\_domains > 436 \\& day\\_domains > 637 \\& day\\_domains <= 1023 \\& sld\\_type \\%in\\% c(\"l\", \"idn\") \\& expiry\\_M \\%in\\% c(, \"03\", , \"05\", \"06\", , \"08\", \"09\", , \"11\", ) \\& reg\\_arpt > 1 \\& expiry\\_M \\%in\\% c(, , \"03\", , , \"06\", , \"09\", , \"11\", ) \\& pattern\\_score <= 4.79253131919217e-06                                                                                & 0.661016949152542 & 1 & 1129 & 0.3389831 & 472\\\\\n",
       "\\end{tabular}\n"
      ],
      "text/markdown": [
       "\n",
       "A data.frame: 6 × 6\n",
       "\n",
       "| <!--/--> | Rule &lt;chr&gt; | Not Renewd &lt;chr&gt; | Renewed.x &lt;chr&gt; | Terminal_Node &lt;dbl&gt; | Renewed.y &lt;dbl&gt; | n &lt;dbl&gt; |\n",
       "|---|---|---|---|---|---|---|\n",
       "| 1 | tld %in% c(\"fun\", \"host\", \"press\", \"pw\", \"site\", \"space\", \"website\") &amp; day_domains &lt;= 127 &amp; tld %in% c(\"fun\", , , \"site\", \"space\", , ) &amp; day_domains &lt;= 25 &amp; sld_type %in% c(\"hyphen-ln\", \"ln\", \"n\", \"idn\") &amp; creation_Y %in% c(, , \"2015\", \"2016\") &amp; cluster &lt;= 1 &amp; pattern_score &lt;= 0.5 &amp; expiry_Y %in% c(\"2018\")                                                                                                          | 0                 | 1 |   73 | 1.0000000 |  64 |\n",
       "| 2 | tld %in% c(\"fun\", \"host\", \"press\", \"pw\", \"site\", \"space\", \"website\") &amp; day_domains &lt;= 127 &amp; tld %in% c(\"host\", , , \"press\", \"pw\", , , \"website\") &amp; reg_arpt &gt; 3 &amp; tld %in% c(, , , \"pw\", , , , , \"website\") &amp; sld_type %in% c(\"hyphen-l\", , \"ln\") &amp; expiry_M %in% c(\"02\", \"03\", \"05\", \"06\", \"07\", \"08\", \"09\", \"10\", \"11\", \"12\") &amp; tld %in% c(, , , , , \"pw\", , , , ) &amp; day_domains &gt; 4                                       | 0                 | 1 |  415 | 1.0000000 | 192 |\n",
       "| 3 | tld %in% c(\"fun\", \"host\", \"press\", \"pw\", \"site\", \"space\", \"website\") &amp; day_domains &lt;= 127 &amp; tld %in% c(\"host\", , , \"press\", \"pw\", , , \"website\") &amp; reg_arpt &gt; 3 &amp; tld %in% c(, , , \"pw\", , , , , \"website\") &amp; sld_type %in% c(, \"l\", \"n\", \"idn\") &amp; log_reg_arpt &lt;= 1.38629436111989 &amp; expiry_M %in% c(\"01\", \"04\", \"05\", \"06\", \"07\", \"08\", \"09\", \"11\") &amp; tld %in% c(, , , , , , , , , \"website\") &amp; sld_length &lt;= 9            | 0                 | 1 |  426 | 1.0000000 |  28 |\n",
       "| 4 | tld %in% c(\"fun\", \"host\", \"press\", \"pw\", \"site\", \"space\", \"website\") &amp; day_domains &gt; 127 &amp; expiry_M %in% c(\"01\", \"02\", \"04\", \"05\", \"06\", \"07\", \"08\", \"09\", \"10\", \"11\", \"12\") &amp; day_domains &gt; 340 &amp; tld %in% c(\"fun\", , , \"pw\", \"site\", \"space\", , , \"website\") &amp; day_domains &lt;= 1584 &amp; sld_type %in% c(\"hyphen-ln\", \"ln\", \"n\") &amp; expiry_M %in% c(, \"04\", \"11\", \"12\") &amp; sld_type %in% c(, , \"n\", ) &amp; pattern_domain_count &gt; 2 | 0                 | 1 |  583 | 1.0000000 |  48 |\n",
       "| 5 | tld %in% c(\"in.net\", \"online\", \"store\", \"tech\") &amp; reg_arpt &lt;= 2.49 &amp; day_domains &lt;= 436 &amp; sld_type %in% c(\"hyphen-ln\", \"ln\", \"n\") &amp; reg_revenue &lt;= 1.5 &amp; pattern_domain_count &gt; 2 &amp; expiry_M %in% c(\"04\", \"06\", \"07\", \"12\") &amp; reg_arpt &gt; 0.7 &amp; expiry_M %in% c(, , , \"04\", , , , , )                                                                                                                                         | 0                 | 1 |  941 | 1.0000000 |  64 |\n",
       "| 6 | tld %in% c(\"in.net\", \"online\", \"store\", \"tech\") &amp; reg_arpt &lt;= 2.49 &amp; day_domains &gt; 436 &amp; day_domains &gt; 637 &amp; day_domains &lt;= 1023 &amp; sld_type %in% c(\"l\", \"idn\") &amp; expiry_M %in% c(, \"03\", , \"05\", \"06\", , \"08\", \"09\", , \"11\", ) &amp; reg_arpt &gt; 1 &amp; expiry_M %in% c(, , \"03\", , , \"06\", , \"09\", , \"11\", ) &amp; pattern_score &lt;= 4.79253131919217e-06                                                                                | 0.661016949152542 | 1 | 1129 | 0.3389831 | 472 |\n",
       "\n"
      ],
      "text/plain": [
       "  Rule                                                                                                                                                                                                                                                                                                                                                                                                                        \n",
       "1 tld %in% c(\"fun\", \"host\", \"press\", \"pw\", \"site\", \"space\", \"website\") & day_domains <= 127 & tld %in% c(\"fun\", , , \"site\", \"space\", , ) & day_domains <= 25 & sld_type %in% c(\"hyphen-ln\", \"ln\", \"n\", \"idn\") & creation_Y %in% c(, , \"2015\", \"2016\") & cluster <= 1 & pattern_score <= 0.5 & expiry_Y %in% c(\"2018\")                                                                                                         \n",
       "2 tld %in% c(\"fun\", \"host\", \"press\", \"pw\", \"site\", \"space\", \"website\") & day_domains <= 127 & tld %in% c(\"host\", , , \"press\", \"pw\", , , \"website\") & reg_arpt > 3 & tld %in% c(, , , \"pw\", , , , , \"website\") & sld_type %in% c(\"hyphen-l\", , \"ln\") & expiry_M %in% c(\"02\", \"03\", \"05\", \"06\", \"07\", \"08\", \"09\", \"10\", \"11\", \"12\") & tld %in% c(, , , , , \"pw\", , , , ) & day_domains > 4                                      \n",
       "3 tld %in% c(\"fun\", \"host\", \"press\", \"pw\", \"site\", \"space\", \"website\") & day_domains <= 127 & tld %in% c(\"host\", , , \"press\", \"pw\", , , \"website\") & reg_arpt > 3 & tld %in% c(, , , \"pw\", , , , , \"website\") & sld_type %in% c(, \"l\", \"n\", \"idn\") & log_reg_arpt <= 1.38629436111989 & expiry_M %in% c(\"01\", \"04\", \"05\", \"06\", \"07\", \"08\", \"09\", \"11\") & tld %in% c(, , , , , , , , , \"website\") & sld_length <= 9           \n",
       "4 tld %in% c(\"fun\", \"host\", \"press\", \"pw\", \"site\", \"space\", \"website\") & day_domains > 127 & expiry_M %in% c(\"01\", \"02\", \"04\", \"05\", \"06\", \"07\", \"08\", \"09\", \"10\", \"11\", \"12\") & day_domains > 340 & tld %in% c(\"fun\", , , \"pw\", \"site\", \"space\", , , \"website\") & day_domains <= 1584 & sld_type %in% c(\"hyphen-ln\", \"ln\", \"n\") & expiry_M %in% c(, \"04\", \"11\", \"12\") & sld_type %in% c(, , \"n\", ) & pattern_domain_count > 2\n",
       "5 tld %in% c(\"in.net\", \"online\", \"store\", \"tech\") & reg_arpt <= 2.49 & day_domains <= 436 & sld_type %in% c(\"hyphen-ln\", \"ln\", \"n\") & reg_revenue <= 1.5 & pattern_domain_count > 2 & expiry_M %in% c(\"04\", \"06\", \"07\", \"12\") & reg_arpt > 0.7 & expiry_M %in% c(, , , \"04\", , , , , )                                                                                                                                        \n",
       "6 tld %in% c(\"in.net\", \"online\", \"store\", \"tech\") & reg_arpt <= 2.49 & day_domains > 436 & day_domains > 637 & day_domains <= 1023 & sld_type %in% c(\"l\", \"idn\") & expiry_M %in% c(, \"03\", , \"05\", \"06\", , \"08\", \"09\", , \"11\", ) & reg_arpt > 1 & expiry_M %in% c(, , \"03\", , , \"06\", , \"09\", , \"11\", ) & pattern_score <= 4.79253131919217e-06                                                                               \n",
       "  Not Renewd        Renewed.x Terminal_Node Renewed.y n  \n",
       "1 0                 1           73          1.0000000  64\n",
       "2 0                 1          415          1.0000000 192\n",
       "3 0                 1          426          1.0000000  28\n",
       "4 0                 1          583          1.0000000  48\n",
       "5 0                 1          941          1.0000000  64\n",
       "6 0.661016949152542 1         1129          0.3389831 472"
      ]
     },
     "metadata": {},
     "output_type": "display_data"
    }
   ],
   "source": [
    "tn_renrates_df <- as.data.frame(t(as.data.frame(tn_renrates))) %>% \n",
    "                        arrange(desc(Renewed),desc(n))  %>%  \n",
    "                        add_rownames(var = \"node\") \n",
    "tn_renrates_df$node <- as.double(stringr::str_replace(tn_renrates_df$node, 'X', ''))\n",
    "terminals_renrates <- terminals_test %>% inner_join(tn_renrates_df, by = c(\"Terminal_Node\" = \"node\"))\n",
    "dim(terminals_test)\n",
    "dim(terminals_renrates)\n",
    "head(terminals_renrates)"
   ]
  },
  {
   "cell_type": "code",
   "execution_count": 24,
   "metadata": {},
   "outputs": [
    {
     "data": {
      "text/html": [
       "<table>\n",
       "<caption>A data.frame: 6 × 6</caption>\n",
       "<thead>\n",
       "\t<tr><th></th><th scope=col>Rule</th><th scope=col>Not Renewd</th><th scope=col>Renewed.x</th><th scope=col>Terminal_Node</th><th scope=col>Renewed.y</th><th scope=col>n</th></tr>\n",
       "\t<tr><th></th><th scope=col>&lt;chr&gt;</th><th scope=col>&lt;chr&gt;</th><th scope=col>&lt;chr&gt;</th><th scope=col>&lt;dbl&gt;</th><th scope=col>&lt;dbl&gt;</th><th scope=col>&lt;dbl&gt;</th></tr>\n",
       "</thead>\n",
       "<tbody>\n",
       "\t<tr><th scope=row>1</th><td><span style=white-space:pre-wrap>tld %in% c(\"fun\", \"host\", \"press\", \"pw\", \"site\", \"space\", \"website\") &amp; day_domains &lt;= 127 &amp; tld %in% c(\"host\", , , \"press\", \"pw\", , , \"website\") &amp; reg_arpt &gt; 3 &amp; tld %in% c(, , , \"pw\", , , , , \"website\") &amp; sld_type %in% c(\"hyphen-l\", , \"ln\") &amp; expiry_M %in% c(\"02\", \"03\", \"05\", \"06\", \"07\", \"08\", \"09\", \"10\", \"11\", \"12\") &amp; tld %in% c(, , , , , \"pw\", , , , ) &amp; day_domains &gt; 4                                      </span></td><td>0</td><td>1</td><td> 415</td><td>1</td><td>192</td></tr>\n",
       "\t<tr><th scope=row>2</th><td><span style=white-space:pre-wrap>tld %in% c(\"in.net\", \"online\", \"store\", \"tech\") &amp; reg_arpt &gt; 2.49 &amp; reseller %in% c(\"namecheap\") &amp; day_domains &lt;= 30 &amp; tld %in% c(, , \"online\", , , , , \"store\", ) &amp; sld_type %in% c(\"l\", \"ln\", \"n\", ) &amp; reg_arpt_org &gt; 8.15 &amp; sld_length &lt;= 6 &amp; expiry_M %in% c(\"01\", , \"03\", , , \"06\", \"07\", \"09\", \"10\", \"11\") &amp; gibb_score &gt; 0.77                                                                                        </span></td><td>0</td><td>1</td><td>1444</td><td>1</td><td> 76</td></tr>\n",
       "\t<tr><th scope=row>3</th><td><span style=white-space:pre-wrap>tld %in% c(\"fun\", \"host\", \"press\", \"pw\", \"site\", \"space\", \"website\") &amp; day_domains &lt;= 127 &amp; tld %in% c(\"fun\", , , \"site\", \"space\", , ) &amp; day_domains &lt;= 25 &amp; sld_type %in% c(\"hyphen-ln\", \"ln\", \"n\", \"idn\") &amp; creation_Y %in% c(, , \"2015\", \"2016\") &amp; cluster &lt;= 1 &amp; pattern_score &lt;= 0.5 &amp; expiry_Y %in% c(\"2018\")                                                                                                         </span></td><td>0</td><td>1</td><td><span style=white-space:pre-wrap>  73</span></td><td>1</td><td> 64</td></tr>\n",
       "\t<tr><th scope=row>4</th><td><span style=white-space:pre-wrap>tld %in% c(\"in.net\", \"online\", \"store\", \"tech\") &amp; reg_arpt &lt;= 2.49 &amp; day_domains &lt;= 436 &amp; sld_type %in% c(\"hyphen-ln\", \"ln\", \"n\") &amp; reg_revenue &lt;= 1.5 &amp; pattern_domain_count &gt; 2 &amp; expiry_M %in% c(\"04\", \"06\", \"07\", \"12\") &amp; reg_arpt &gt; 0.7 &amp; expiry_M %in% c(, , , \"04\", , , , , )                                                                                                                                        </span></td><td>0</td><td>1</td><td> 941</td><td>1</td><td> 64</td></tr>\n",
       "\t<tr><th scope=row>5</th><td><span style=white-space:pre-wrap>tld %in% c(\"in.net\", \"online\", \"store\", \"tech\") &amp; reg_arpt &gt; 2.49 &amp; reseller %in% c(\"gmo\", \"go daddy\") &amp; reg_period &gt; 1 &amp; sld_type %in% c(\"hyphen-l\", \"hyphen-ln\", \"ln\", \"n\") &amp; reg_period &gt; 2 &amp; expiry_M %in% c(, \"02\", \"03\", \"04\", \"05\", \"06\", \"07\", \"08\", \"12\") &amp; expiry_Y %in% c(\"2019\") &amp; sld_length &gt; 11 &amp; sld_type %in% c(\"hyphen-l\", , , , )                                                                        </span></td><td>0</td><td>1</td><td>1305</td><td>1</td><td> 56</td></tr>\n",
       "\t<tr><th scope=row>6</th><td>tld %in% c(\"fun\", \"host\", \"press\", \"pw\", \"site\", \"space\", \"website\") &amp; day_domains &gt; 127 &amp; expiry_M %in% c(\"01\", \"02\", \"04\", \"05\", \"06\", \"07\", \"08\", \"09\", \"10\", \"11\", \"12\") &amp; day_domains &gt; 340 &amp; tld %in% c(\"fun\", , , \"pw\", \"site\", \"space\", , , \"website\") &amp; day_domains &lt;= 1584 &amp; sld_type %in% c(\"hyphen-ln\", \"ln\", \"n\") &amp; expiry_M %in% c(, \"04\", \"11\", \"12\") &amp; sld_type %in% c(, , \"n\", ) &amp; pattern_domain_count &gt; 2</td><td>0</td><td>1</td><td> 583</td><td>1</td><td> 48</td></tr>\n",
       "</tbody>\n",
       "</table>\n"
      ],
      "text/latex": [
       "A data.frame: 6 × 6\n",
       "\\begin{tabular}{r|llllll}\n",
       "  & Rule & Not Renewd & Renewed.x & Terminal\\_Node & Renewed.y & n\\\\\n",
       "  & <chr> & <chr> & <chr> & <dbl> & <dbl> & <dbl>\\\\\n",
       "\\hline\n",
       "\t1 & tld \\%in\\% c(\"fun\", \"host\", \"press\", \"pw\", \"site\", \"space\", \"website\") \\& day\\_domains <= 127 \\& tld \\%in\\% c(\"host\", , , \"press\", \"pw\", , , \"website\") \\& reg\\_arpt > 3 \\& tld \\%in\\% c(, , , \"pw\", , , , , \"website\") \\& sld\\_type \\%in\\% c(\"hyphen-l\", , \"ln\") \\& expiry\\_M \\%in\\% c(\"02\", \"03\", \"05\", \"06\", \"07\", \"08\", \"09\", \"10\", \"11\", \"12\") \\& tld \\%in\\% c(, , , , , \"pw\", , , , ) \\& day\\_domains > 4                                       & 0 & 1 &  415 & 1 & 192\\\\\n",
       "\t2 & tld \\%in\\% c(\"in.net\", \"online\", \"store\", \"tech\") \\& reg\\_arpt > 2.49 \\& reseller \\%in\\% c(\"namecheap\") \\& day\\_domains <= 30 \\& tld \\%in\\% c(, , \"online\", , , , , \"store\", ) \\& sld\\_type \\%in\\% c(\"l\", \"ln\", \"n\", ) \\& reg\\_arpt\\_org > 8.15 \\& sld\\_length <= 6 \\& expiry\\_M \\%in\\% c(\"01\", , \"03\", , , \"06\", \"07\", \"09\", \"10\", \"11\") \\& gibb\\_score > 0.77                                                                                         & 0 & 1 & 1444 & 1 &  76\\\\\n",
       "\t3 & tld \\%in\\% c(\"fun\", \"host\", \"press\", \"pw\", \"site\", \"space\", \"website\") \\& day\\_domains <= 127 \\& tld \\%in\\% c(\"fun\", , , \"site\", \"space\", , ) \\& day\\_domains <= 25 \\& sld\\_type \\%in\\% c(\"hyphen-ln\", \"ln\", \"n\", \"idn\") \\& creation\\_Y \\%in\\% c(, , \"2015\", \"2016\") \\& cluster <= 1 \\& pattern\\_score <= 0.5 \\& expiry\\_Y \\%in\\% c(\"2018\")                                                                                                          & 0 & 1 &   73 & 1 &  64\\\\\n",
       "\t4 & tld \\%in\\% c(\"in.net\", \"online\", \"store\", \"tech\") \\& reg\\_arpt <= 2.49 \\& day\\_domains <= 436 \\& sld\\_type \\%in\\% c(\"hyphen-ln\", \"ln\", \"n\") \\& reg\\_revenue <= 1.5 \\& pattern\\_domain\\_count > 2 \\& expiry\\_M \\%in\\% c(\"04\", \"06\", \"07\", \"12\") \\& reg\\_arpt > 0.7 \\& expiry\\_M \\%in\\% c(, , , \"04\", , , , , )                                                                                                                                         & 0 & 1 &  941 & 1 &  64\\\\\n",
       "\t5 & tld \\%in\\% c(\"in.net\", \"online\", \"store\", \"tech\") \\& reg\\_arpt > 2.49 \\& reseller \\%in\\% c(\"gmo\", \"go daddy\") \\& reg\\_period > 1 \\& sld\\_type \\%in\\% c(\"hyphen-l\", \"hyphen-ln\", \"ln\", \"n\") \\& reg\\_period > 2 \\& expiry\\_M \\%in\\% c(, \"02\", \"03\", \"04\", \"05\", \"06\", \"07\", \"08\", \"12\") \\& expiry\\_Y \\%in\\% c(\"2019\") \\& sld\\_length > 11 \\& sld\\_type \\%in\\% c(\"hyphen-l\", , , , )                                                                         & 0 & 1 & 1305 & 1 &  56\\\\\n",
       "\t6 & tld \\%in\\% c(\"fun\", \"host\", \"press\", \"pw\", \"site\", \"space\", \"website\") \\& day\\_domains > 127 \\& expiry\\_M \\%in\\% c(\"01\", \"02\", \"04\", \"05\", \"06\", \"07\", \"08\", \"09\", \"10\", \"11\", \"12\") \\& day\\_domains > 340 \\& tld \\%in\\% c(\"fun\", , , \"pw\", \"site\", \"space\", , , \"website\") \\& day\\_domains <= 1584 \\& sld\\_type \\%in\\% c(\"hyphen-ln\", \"ln\", \"n\") \\& expiry\\_M \\%in\\% c(, \"04\", \"11\", \"12\") \\& sld\\_type \\%in\\% c(, , \"n\", ) \\& pattern\\_domain\\_count > 2 & 0 & 1 &  583 & 1 &  48\\\\\n",
       "\\end{tabular}\n"
      ],
      "text/markdown": [
       "\n",
       "A data.frame: 6 × 6\n",
       "\n",
       "| <!--/--> | Rule &lt;chr&gt; | Not Renewd &lt;chr&gt; | Renewed.x &lt;chr&gt; | Terminal_Node &lt;dbl&gt; | Renewed.y &lt;dbl&gt; | n &lt;dbl&gt; |\n",
       "|---|---|---|---|---|---|---|\n",
       "| 1 | tld %in% c(\"fun\", \"host\", \"press\", \"pw\", \"site\", \"space\", \"website\") &amp; day_domains &lt;= 127 &amp; tld %in% c(\"host\", , , \"press\", \"pw\", , , \"website\") &amp; reg_arpt &gt; 3 &amp; tld %in% c(, , , \"pw\", , , , , \"website\") &amp; sld_type %in% c(\"hyphen-l\", , \"ln\") &amp; expiry_M %in% c(\"02\", \"03\", \"05\", \"06\", \"07\", \"08\", \"09\", \"10\", \"11\", \"12\") &amp; tld %in% c(, , , , , \"pw\", , , , ) &amp; day_domains &gt; 4                                       | 0 | 1 |  415 | 1 | 192 |\n",
       "| 2 | tld %in% c(\"in.net\", \"online\", \"store\", \"tech\") &amp; reg_arpt &gt; 2.49 &amp; reseller %in% c(\"namecheap\") &amp; day_domains &lt;= 30 &amp; tld %in% c(, , \"online\", , , , , \"store\", ) &amp; sld_type %in% c(\"l\", \"ln\", \"n\", ) &amp; reg_arpt_org &gt; 8.15 &amp; sld_length &lt;= 6 &amp; expiry_M %in% c(\"01\", , \"03\", , , \"06\", \"07\", \"09\", \"10\", \"11\") &amp; gibb_score &gt; 0.77                                                                                         | 0 | 1 | 1444 | 1 |  76 |\n",
       "| 3 | tld %in% c(\"fun\", \"host\", \"press\", \"pw\", \"site\", \"space\", \"website\") &amp; day_domains &lt;= 127 &amp; tld %in% c(\"fun\", , , \"site\", \"space\", , ) &amp; day_domains &lt;= 25 &amp; sld_type %in% c(\"hyphen-ln\", \"ln\", \"n\", \"idn\") &amp; creation_Y %in% c(, , \"2015\", \"2016\") &amp; cluster &lt;= 1 &amp; pattern_score &lt;= 0.5 &amp; expiry_Y %in% c(\"2018\")                                                                                                          | 0 | 1 |   73 | 1 |  64 |\n",
       "| 4 | tld %in% c(\"in.net\", \"online\", \"store\", \"tech\") &amp; reg_arpt &lt;= 2.49 &amp; day_domains &lt;= 436 &amp; sld_type %in% c(\"hyphen-ln\", \"ln\", \"n\") &amp; reg_revenue &lt;= 1.5 &amp; pattern_domain_count &gt; 2 &amp; expiry_M %in% c(\"04\", \"06\", \"07\", \"12\") &amp; reg_arpt &gt; 0.7 &amp; expiry_M %in% c(, , , \"04\", , , , , )                                                                                                                                         | 0 | 1 |  941 | 1 |  64 |\n",
       "| 5 | tld %in% c(\"in.net\", \"online\", \"store\", \"tech\") &amp; reg_arpt &gt; 2.49 &amp; reseller %in% c(\"gmo\", \"go daddy\") &amp; reg_period &gt; 1 &amp; sld_type %in% c(\"hyphen-l\", \"hyphen-ln\", \"ln\", \"n\") &amp; reg_period &gt; 2 &amp; expiry_M %in% c(, \"02\", \"03\", \"04\", \"05\", \"06\", \"07\", \"08\", \"12\") &amp; expiry_Y %in% c(\"2019\") &amp; sld_length &gt; 11 &amp; sld_type %in% c(\"hyphen-l\", , , , )                                                                         | 0 | 1 | 1305 | 1 |  56 |\n",
       "| 6 | tld %in% c(\"fun\", \"host\", \"press\", \"pw\", \"site\", \"space\", \"website\") &amp; day_domains &gt; 127 &amp; expiry_M %in% c(\"01\", \"02\", \"04\", \"05\", \"06\", \"07\", \"08\", \"09\", \"10\", \"11\", \"12\") &amp; day_domains &gt; 340 &amp; tld %in% c(\"fun\", , , \"pw\", \"site\", \"space\", , , \"website\") &amp; day_domains &lt;= 1584 &amp; sld_type %in% c(\"hyphen-ln\", \"ln\", \"n\") &amp; expiry_M %in% c(, \"04\", \"11\", \"12\") &amp; sld_type %in% c(, , \"n\", ) &amp; pattern_domain_count &gt; 2 | 0 | 1 |  583 | 1 |  48 |\n",
       "\n"
      ],
      "text/plain": [
       "  Rule                                                                                                                                                                                                                                                                                                                                                                                                                        \n",
       "1 tld %in% c(\"fun\", \"host\", \"press\", \"pw\", \"site\", \"space\", \"website\") & day_domains <= 127 & tld %in% c(\"host\", , , \"press\", \"pw\", , , \"website\") & reg_arpt > 3 & tld %in% c(, , , \"pw\", , , , , \"website\") & sld_type %in% c(\"hyphen-l\", , \"ln\") & expiry_M %in% c(\"02\", \"03\", \"05\", \"06\", \"07\", \"08\", \"09\", \"10\", \"11\", \"12\") & tld %in% c(, , , , , \"pw\", , , , ) & day_domains > 4                                      \n",
       "2 tld %in% c(\"in.net\", \"online\", \"store\", \"tech\") & reg_arpt > 2.49 & reseller %in% c(\"namecheap\") & day_domains <= 30 & tld %in% c(, , \"online\", , , , , \"store\", ) & sld_type %in% c(\"l\", \"ln\", \"n\", ) & reg_arpt_org > 8.15 & sld_length <= 6 & expiry_M %in% c(\"01\", , \"03\", , , \"06\", \"07\", \"09\", \"10\", \"11\") & gibb_score > 0.77                                                                                        \n",
       "3 tld %in% c(\"fun\", \"host\", \"press\", \"pw\", \"site\", \"space\", \"website\") & day_domains <= 127 & tld %in% c(\"fun\", , , \"site\", \"space\", , ) & day_domains <= 25 & sld_type %in% c(\"hyphen-ln\", \"ln\", \"n\", \"idn\") & creation_Y %in% c(, , \"2015\", \"2016\") & cluster <= 1 & pattern_score <= 0.5 & expiry_Y %in% c(\"2018\")                                                                                                         \n",
       "4 tld %in% c(\"in.net\", \"online\", \"store\", \"tech\") & reg_arpt <= 2.49 & day_domains <= 436 & sld_type %in% c(\"hyphen-ln\", \"ln\", \"n\") & reg_revenue <= 1.5 & pattern_domain_count > 2 & expiry_M %in% c(\"04\", \"06\", \"07\", \"12\") & reg_arpt > 0.7 & expiry_M %in% c(, , , \"04\", , , , , )                                                                                                                                        \n",
       "5 tld %in% c(\"in.net\", \"online\", \"store\", \"tech\") & reg_arpt > 2.49 & reseller %in% c(\"gmo\", \"go daddy\") & reg_period > 1 & sld_type %in% c(\"hyphen-l\", \"hyphen-ln\", \"ln\", \"n\") & reg_period > 2 & expiry_M %in% c(, \"02\", \"03\", \"04\", \"05\", \"06\", \"07\", \"08\", \"12\") & expiry_Y %in% c(\"2019\") & sld_length > 11 & sld_type %in% c(\"hyphen-l\", , , , )                                                                        \n",
       "6 tld %in% c(\"fun\", \"host\", \"press\", \"pw\", \"site\", \"space\", \"website\") & day_domains > 127 & expiry_M %in% c(\"01\", \"02\", \"04\", \"05\", \"06\", \"07\", \"08\", \"09\", \"10\", \"11\", \"12\") & day_domains > 340 & tld %in% c(\"fun\", , , \"pw\", \"site\", \"space\", , , \"website\") & day_domains <= 1584 & sld_type %in% c(\"hyphen-ln\", \"ln\", \"n\") & expiry_M %in% c(, \"04\", \"11\", \"12\") & sld_type %in% c(, , \"n\", ) & pattern_domain_count > 2\n",
       "  Not Renewd Renewed.x Terminal_Node Renewed.y n  \n",
       "1 0          1          415          1         192\n",
       "2 0          1         1444          1          76\n",
       "3 0          1           73          1          64\n",
       "4 0          1          941          1          64\n",
       "5 0          1         1305          1          56\n",
       "6 0          1          583          1          48"
      ]
     },
     "metadata": {},
     "output_type": "display_data"
    }
   ],
   "source": [
    "terminals_renrates <- terminals_renrates %>% arrange(desc(Renewed.y),desc(n))\n",
    "head(terminals_renrates)"
   ]
  },
  {
   "cell_type": "code",
   "execution_count": null,
   "metadata": {},
   "outputs": [],
   "source": []
  },
  {
   "cell_type": "code",
   "execution_count": 26,
   "metadata": {},
   "outputs": [
    {
     "data": {
      "text/html": [
       "'tld %in% c(\"fun\", \"host\", \"press\", \"pw\", \"site\", \"space\", \"website\") &amp; day_domains &lt;= 127 &amp; tld %in% c(\"host\", , , \"press\", \"pw\", , , \"website\") &amp; reg_arpt &gt; 3 &amp; tld %in% c(, , , \"pw\", , , , , \"website\") &amp; sld_type %in% c(\"hyphen-l\", , \"ln\") &amp; expiry_M %in% c(\"02\", \"03\", \"05\", \"06\", \"07\", \"08\", \"09\", \"10\", \"11\", \"12\") &amp; tld %in% c(, , , , , \"pw\", , , , ) &amp; day_domains &gt; 4'"
      ],
      "text/latex": [
       "'tld \\%in\\% c(\"fun\", \"host\", \"press\", \"pw\", \"site\", \"space\", \"website\") \\& day\\_domains <= 127 \\& tld \\%in\\% c(\"host\", , , \"press\", \"pw\", , , \"website\") \\& reg\\_arpt > 3 \\& tld \\%in\\% c(, , , \"pw\", , , , , \"website\") \\& sld\\_type \\%in\\% c(\"hyphen-l\", , \"ln\") \\& expiry\\_M \\%in\\% c(\"02\", \"03\", \"05\", \"06\", \"07\", \"08\", \"09\", \"10\", \"11\", \"12\") \\& tld \\%in\\% c(, , , , , \"pw\", , , , ) \\& day\\_domains > 4'"
      ],
      "text/markdown": [
       "'tld %in% c(\"fun\", \"host\", \"press\", \"pw\", \"site\", \"space\", \"website\") &amp; day_domains &lt;= 127 &amp; tld %in% c(\"host\", , , \"press\", \"pw\", , , \"website\") &amp; reg_arpt &gt; 3 &amp; tld %in% c(, , , \"pw\", , , , , \"website\") &amp; sld_type %in% c(\"hyphen-l\", , \"ln\") &amp; expiry_M %in% c(\"02\", \"03\", \"05\", \"06\", \"07\", \"08\", \"09\", \"10\", \"11\", \"12\") &amp; tld %in% c(, , , , , \"pw\", , , , ) &amp; day_domains &gt; 4'"
      ],
      "text/plain": [
       "[1] \"tld %in% c(\\\"fun\\\", \\\"host\\\", \\\"press\\\", \\\"pw\\\", \\\"site\\\", \\\"space\\\", \\\"website\\\") & day_domains <= 127 & tld %in% c(\\\"host\\\", , , \\\"press\\\", \\\"pw\\\", , , \\\"website\\\") & reg_arpt > 3 & tld %in% c(, , , \\\"pw\\\", , , , , \\\"website\\\") & sld_type %in% c(\\\"hyphen-l\\\", , \\\"ln\\\") & expiry_M %in% c(\\\"02\\\", \\\"03\\\", \\\"05\\\", \\\"06\\\", \\\"07\\\", \\\"08\\\", \\\"09\\\", \\\"10\\\", \\\"11\\\", \\\"12\\\") & tld %in% c(, , , , , \\\"pw\\\", , , , ) & day_domains > 4\""
      ]
     },
     "metadata": {},
     "output_type": "display_data"
    },
    {
     "data": {
      "text/html": [
       "<table>\n",
       "<caption>A data.frame: 9 × 1</caption>\n",
       "<thead>\n",
       "\t<tr><th scope=col>rule</th></tr>\n",
       "\t<tr><th scope=col>&lt;fct&gt;</th></tr>\n",
       "</thead>\n",
       "<tbody>\n",
       "\t<tr><td>tld %in% c(\"host\", , , \"press\", \"pw\", , , \"website\")                       </td></tr>\n",
       "\t<tr><td>tld %in% c(\"fun\", \"host\", \"press\", \"pw\", \"site\", \"space\", \"website\")       </td></tr>\n",
       "\t<tr><td>tld %in% c(, , , \"pw\", , , , , \"website\")                                  </td></tr>\n",
       "\t<tr><td>tld %in% c(, , , , , \"pw\", , , , )                                         </td></tr>\n",
       "\t<tr><td>sld_type %in% c(\"hyphen-l\", , \"ln\")                                        </td></tr>\n",
       "\t<tr><td><span style=white-space:pre-wrap>reg_arpt &gt; 3                                                               </span></td></tr>\n",
       "\t<tr><td>expiry_M %in% c(\"02\", \"03\", \"05\", \"06\", \"07\", \"08\", \"09\", \"10\", \"11\", \"12\")</td></tr>\n",
       "\t<tr><td><span style=white-space:pre-wrap>day_domains &gt; 4                                                            </span></td></tr>\n",
       "\t<tr><td><span style=white-space:pre-wrap>day_domains &lt;= 127                                                         </span></td></tr>\n",
       "</tbody>\n",
       "</table>\n"
      ],
      "text/latex": [
       "A data.frame: 9 × 1\n",
       "\\begin{tabular}{l}\n",
       " rule\\\\\n",
       " <fct>\\\\\n",
       "\\hline\n",
       "\t tld \\%in\\% c(\"host\", , , \"press\", \"pw\", , , \"website\")                       \\\\\n",
       "\t tld \\%in\\% c(\"fun\", \"host\", \"press\", \"pw\", \"site\", \"space\", \"website\")       \\\\\n",
       "\t tld \\%in\\% c(, , , \"pw\", , , , , \"website\")                                  \\\\\n",
       "\t tld \\%in\\% c(, , , , , \"pw\", , , , )                                         \\\\\n",
       "\t sld\\_type \\%in\\% c(\"hyphen-l\", , \"ln\")                                        \\\\\n",
       "\t reg\\_arpt > 3                                                               \\\\\n",
       "\t expiry\\_M \\%in\\% c(\"02\", \"03\", \"05\", \"06\", \"07\", \"08\", \"09\", \"10\", \"11\", \"12\")\\\\\n",
       "\t day\\_domains > 4                                                            \\\\\n",
       "\t day\\_domains <= 127                                                         \\\\\n",
       "\\end{tabular}\n"
      ],
      "text/markdown": [
       "\n",
       "A data.frame: 9 × 1\n",
       "\n",
       "| rule &lt;fct&gt; |\n",
       "|---|\n",
       "| tld %in% c(\"host\", , , \"press\", \"pw\", , , \"website\")                        |\n",
       "| tld %in% c(\"fun\", \"host\", \"press\", \"pw\", \"site\", \"space\", \"website\")        |\n",
       "| tld %in% c(, , , \"pw\", , , , , \"website\")                                   |\n",
       "| tld %in% c(, , , , , \"pw\", , , , )                                          |\n",
       "| sld_type %in% c(\"hyphen-l\", , \"ln\")                                         |\n",
       "| reg_arpt &gt; 3                                                                |\n",
       "| expiry_M %in% c(\"02\", \"03\", \"05\", \"06\", \"07\", \"08\", \"09\", \"10\", \"11\", \"12\") |\n",
       "| day_domains &gt; 4                                                             |\n",
       "| day_domains &lt;= 127                                                          |\n",
       "\n"
      ],
      "text/plain": [
       "  rule                                                                       \n",
       "1 tld %in% c(\"host\", , , \"press\", \"pw\", , , \"website\")                       \n",
       "2 tld %in% c(\"fun\", \"host\", \"press\", \"pw\", \"site\", \"space\", \"website\")       \n",
       "3 tld %in% c(, , , \"pw\", , , , , \"website\")                                  \n",
       "4 tld %in% c(, , , , , \"pw\", , , , )                                         \n",
       "5 sld_type %in% c(\"hyphen-l\", , \"ln\")                                        \n",
       "6 reg_arpt > 3                                                               \n",
       "7 expiry_M %in% c(\"02\", \"03\", \"05\", \"06\", \"07\", \"08\", \"09\", \"10\", \"11\", \"12\")\n",
       "8 day_domains > 4                                                            \n",
       "9 day_domains <= 127                                                         "
      ]
     },
     "metadata": {},
     "output_type": "display_data"
    }
   ],
   "source": [
    "rule415 <- terminals_test[ which(terminals_test$Terminal_Node==415) ,]$Rule\n",
    "rule415\n",
    "\n",
    "rule415_df <- as.data.frame(strsplit(rule415,' & ', fixed=TRUE)[[1]], header=FALSE)\n",
    "names(rule415_df) <- 'rule'\n",
    "rule415_df %>% arrange(desc(rule))"
   ]
  },
  {
   "cell_type": "code",
   "execution_count": 48,
   "metadata": {},
   "outputs": [
    {
     "data": {
      "text/html": [
       "<style>\n",
       ".list-inline {list-style: none; margin:0; padding: 0}\n",
       ".list-inline>li {display: inline-block}\n",
       ".list-inline>li:not(:last-child)::after {content: \"\\00b7\"; padding: 0 .5ex}\n",
       "</style>\n",
       "<ol class=list-inline><li>1559265</li><li>24</li></ol>\n"
      ],
      "text/latex": [
       "\\begin{enumerate*}\n",
       "\\item 1559265\n",
       "\\item 24\n",
       "\\end{enumerate*}\n"
      ],
      "text/markdown": [
       "1. 1559265\n",
       "2. 24\n",
       "\n",
       "\n"
      ],
      "text/plain": [
       "[1] 1559265      24"
      ]
     },
     "metadata": {},
     "output_type": "display_data"
    },
    {
     "data": {
      "text/html": [
       "<style>\n",
       ".list-inline {list-style: none; margin:0; padding: 0}\n",
       ".list-inline>li {display: inline-block}\n",
       ".list-inline>li:not(:last-child)::after {content: \"\\00b7\"; padding: 0 .5ex}\n",
       "</style>\n",
       "<ol class=list-inline><li>48</li><li>24</li></ol>\n"
      ],
      "text/latex": [
       "\\begin{enumerate*}\n",
       "\\item 48\n",
       "\\item 24\n",
       "\\end{enumerate*}\n"
      ],
      "text/markdown": [
       "1. 48\n",
       "2. 24\n",
       "\n",
       "\n"
      ],
      "text/plain": [
       "[1] 48 24"
      ]
     },
     "metadata": {},
     "output_type": "display_data"
    }
   ],
   "source": [
    "# filter test_df_f through that node\n",
    "dim(train_df_f)\n",
    "\n",
    "rule415_df_test_df <- train_df_f %>% \n",
    "    filter(tld %in%  c(\"pw\")) %>% \n",
    "    filter(sld_type %in% c(\"hyphen-l\", \"ln\")) %>% \n",
    "    filter(reg_arpt > 3   ) %>% \n",
    "    filter(expiry_M %in% c(\"02\", \"03\", \"05\", \"06\", \"07\", \"08\", \"09\", \"10\", \"11\", \"12\")) %>% \n",
    "    filter(day_domains > 4   ) %>% \n",
    "    filter(day_domains <= 127 )\n",
    "\n",
    "dim(rule415_df_test_df)"
   ]
  },
  {
   "cell_type": "markdown",
   "metadata": {},
   "source": [
    "# 48*4 = 192. Thus, the weighted number of observations filtering through is equal to the output of the node_info\n",
    "# QA complete"
   ]
  },
  {
   "cell_type": "code",
   "execution_count": null,
   "metadata": {},
   "outputs": [],
   "source": []
  },
  {
   "cell_type": "markdown",
   "metadata": {},
   "source": [
    "# Test for other Laked Vars"
   ]
  },
  {
   "cell_type": "markdown",
   "metadata": {},
   "source": [
    "## Examine other predictors & their relationship w/ response"
   ]
  },
  {
   "cell_type": "code",
   "execution_count": 13,
   "metadata": {},
   "outputs": [
    {
     "data": {
      "text/html": [
       "<table>\n",
       "<caption>A data.frame: 21 × 2</caption>\n",
       "<thead>\n",
       "\t<tr><th scope=col>var</th><th scope=col>imp</th></tr>\n",
       "\t<tr><th scope=col>&lt;fct&gt;</th><th scope=col>&lt;dbl&gt;</th></tr>\n",
       "</thead>\n",
       "<tbody>\n",
       "\t<tr><td>gibb_score          </td><td>53983.130</td></tr>\n",
       "\t<tr><td>day_domains         </td><td>43936.696</td></tr>\n",
       "\t<tr><td>cluster             </td><td>40805.560</td></tr>\n",
       "\t<tr><td>pattern_score       </td><td>37339.352</td></tr>\n",
       "\t<tr><td>sld_length          </td><td>29220.655</td></tr>\n",
       "\t<tr><td>reg_revenue         </td><td>21075.749</td></tr>\n",
       "\t<tr><td>log_reg_arpt        </td><td>15908.841</td></tr>\n",
       "\t<tr><td>reg_arpt_org        </td><td>15074.213</td></tr>\n",
       "\t<tr><td>reg_arpt            </td><td>14957.752</td></tr>\n",
       "\t<tr><td>expiry_M            </td><td>11879.661</td></tr>\n",
       "\t<tr><td>creation_M          </td><td>11833.586</td></tr>\n",
       "\t<tr><td>pattern_domain_count</td><td>11567.907</td></tr>\n",
       "\t<tr><td>sld_type            </td><td>10791.177</td></tr>\n",
       "\t<tr><td>tld                 </td><td>10584.684</td></tr>\n",
       "\t<tr><td>reseller            </td><td> 5206.509</td></tr>\n",
       "\t<tr><td>registrar           </td><td> 4875.947</td></tr>\n",
       "\t<tr><td>creation_Y          </td><td> 2484.281</td></tr>\n",
       "\t<tr><td>expiry_Y            </td><td> 2277.088</td></tr>\n",
       "\t<tr><td>reg_period          </td><td> 2172.396</td></tr>\n",
       "\t<tr><td>reseller_country    </td><td> 1309.257</td></tr>\n",
       "\t<tr><td>region              </td><td>    0.000</td></tr>\n",
       "</tbody>\n",
       "</table>\n"
      ],
      "text/latex": [
       "A data.frame: 21 × 2\n",
       "\\begin{tabular}{ll}\n",
       " var & imp\\\\\n",
       " <fct> & <dbl>\\\\\n",
       "\\hline\n",
       "\t gibb\\_score           & 53983.130\\\\\n",
       "\t day\\_domains          & 43936.696\\\\\n",
       "\t cluster              & 40805.560\\\\\n",
       "\t pattern\\_score        & 37339.352\\\\\n",
       "\t sld\\_length           & 29220.655\\\\\n",
       "\t reg\\_revenue          & 21075.749\\\\\n",
       "\t log\\_reg\\_arpt         & 15908.841\\\\\n",
       "\t reg\\_arpt\\_org         & 15074.213\\\\\n",
       "\t reg\\_arpt             & 14957.752\\\\\n",
       "\t expiry\\_M             & 11879.661\\\\\n",
       "\t creation\\_M           & 11833.586\\\\\n",
       "\t pattern\\_domain\\_count & 11567.907\\\\\n",
       "\t sld\\_type             & 10791.177\\\\\n",
       "\t tld                  & 10584.684\\\\\n",
       "\t reseller             &  5206.509\\\\\n",
       "\t registrar            &  4875.947\\\\\n",
       "\t creation\\_Y           &  2484.281\\\\\n",
       "\t expiry\\_Y             &  2277.088\\\\\n",
       "\t reg\\_period           &  2172.396\\\\\n",
       "\t reseller\\_country     &  1309.257\\\\\n",
       "\t region               &     0.000\\\\\n",
       "\\end{tabular}\n"
      ],
      "text/markdown": [
       "\n",
       "A data.frame: 21 × 2\n",
       "\n",
       "| var &lt;fct&gt; | imp &lt;dbl&gt; |\n",
       "|---|---|\n",
       "| gibb_score           | 53983.130 |\n",
       "| day_domains          | 43936.696 |\n",
       "| cluster              | 40805.560 |\n",
       "| pattern_score        | 37339.352 |\n",
       "| sld_length           | 29220.655 |\n",
       "| reg_revenue          | 21075.749 |\n",
       "| log_reg_arpt         | 15908.841 |\n",
       "| reg_arpt_org         | 15074.213 |\n",
       "| reg_arpt             | 14957.752 |\n",
       "| expiry_M             | 11879.661 |\n",
       "| creation_M           | 11833.586 |\n",
       "| pattern_domain_count | 11567.907 |\n",
       "| sld_type             | 10791.177 |\n",
       "| tld                  | 10584.684 |\n",
       "| reseller             |  5206.509 |\n",
       "| registrar            |  4875.947 |\n",
       "| creation_Y           |  2484.281 |\n",
       "| expiry_Y             |  2277.088 |\n",
       "| reg_period           |  2172.396 |\n",
       "| reseller_country     |  1309.257 |\n",
       "| region               |     0.000 |\n",
       "\n"
      ],
      "text/plain": [
       "   var                  imp      \n",
       "1  gibb_score           53983.130\n",
       "2  day_domains          43936.696\n",
       "3  cluster              40805.560\n",
       "4  pattern_score        37339.352\n",
       "5  sld_length           29220.655\n",
       "6  reg_revenue          21075.749\n",
       "7  log_reg_arpt         15908.841\n",
       "8  reg_arpt_org         15074.213\n",
       "9  reg_arpt             14957.752\n",
       "10 expiry_M             11879.661\n",
       "11 creation_M           11833.586\n",
       "12 pattern_domain_count 11567.907\n",
       "13 sld_type             10791.177\n",
       "14 tld                  10584.684\n",
       "15 reseller              5206.509\n",
       "16 registrar             4875.947\n",
       "17 creation_Y            2484.281\n",
       "18 expiry_Y              2277.088\n",
       "19 reg_period            2172.396\n",
       "20 reseller_country      1309.257\n",
       "21 region                   0.000"
      ]
     },
     "metadata": {},
     "output_type": "display_data"
    }
   ],
   "source": [
    "# go down the list in desc. varimp on RF\n",
    "x <- '\"var\",\"imp\"\n",
    "\"gibb_score\",53983.1298272041\n",
    "\"day_domains\",43936.6955666438\n",
    "\"cluster\",40805.5601424121\n",
    "\"pattern_score\",37339.3519830773\n",
    "\"sld_length\",29220.6549305966\n",
    "\"reg_revenue\",21075.7488681765\n",
    "\"log_reg_arpt\",15908.8412390459\n",
    "\"reg_arpt_org\",15074.2128042156\n",
    "\"reg_arpt\",14957.7516560806\n",
    "\"expiry_M\",11879.6611564393\n",
    "\"creation_M\",11833.5863162648\n",
    "\"pattern_domain_count\",11567.9070461037\n",
    "\"sld_type\",10791.1768788584\n",
    "\"tld\",10584.6838678758\n",
    "\"reseller\",5206.50936265686\n",
    "\"registrar\",4875.94719473257\n",
    "\"creation_Y\",2484.28077992007\n",
    "\"expiry_Y\",2277.08770533224\n",
    "\"reg_period\",2172.39636906242\n",
    "\"reseller_country\",1309.25653246897\n",
    "\"region\",0'\n",
    "RF_varimp <- read.table(text=x, sep = \",\", header=TRUE)\n",
    "RF_varimp"
   ]
  },
  {
   "cell_type": "code",
   "execution_count": 14,
   "metadata": {},
   "outputs": [
    {
     "data": {
      "text/html": [
       "<style>\n",
       ".list-inline {list-style: none; margin:0; padding: 0}\n",
       ".list-inline>li {display: inline-block}\n",
       ".list-inline>li:not(:last-child)::after {content: \"\\00b7\"; padding: 0 .5ex}\n",
       "</style>\n",
       "<ol class=list-inline><li>'cluster'</li><li>'creation_M'</li><li>'creation_Y'</li><li>'day_domains'</li><li>'expiry_M'</li><li>'expiry_Y'</li><li>'gibb_score'</li><li>'log_reg_arpt'</li><li>'pattern_domain_count'</li><li>'pattern_score'</li><li>'reg_arpt'</li><li>'reg_arpt_org'</li><li>'reg_period'</li><li>'reg_revenue'</li><li>'region'</li><li>'registrar'</li><li>'reseller'</li><li>'reseller_country'</li><li>'sld_length'</li><li>'sld_type'</li><li>'tld'</li></ol>\n"
      ],
      "text/latex": [
       "\\begin{enumerate*}\n",
       "\\item 'cluster'\n",
       "\\item 'creation\\_M'\n",
       "\\item 'creation\\_Y'\n",
       "\\item 'day\\_domains'\n",
       "\\item 'expiry\\_M'\n",
       "\\item 'expiry\\_Y'\n",
       "\\item 'gibb\\_score'\n",
       "\\item 'log\\_reg\\_arpt'\n",
       "\\item 'pattern\\_domain\\_count'\n",
       "\\item 'pattern\\_score'\n",
       "\\item 'reg\\_arpt'\n",
       "\\item 'reg\\_arpt\\_org'\n",
       "\\item 'reg\\_period'\n",
       "\\item 'reg\\_revenue'\n",
       "\\item 'region'\n",
       "\\item 'registrar'\n",
       "\\item 'reseller'\n",
       "\\item 'reseller\\_country'\n",
       "\\item 'sld\\_length'\n",
       "\\item 'sld\\_type'\n",
       "\\item 'tld'\n",
       "\\end{enumerate*}\n"
      ],
      "text/markdown": [
       "1. 'cluster'\n",
       "2. 'creation_M'\n",
       "3. 'creation_Y'\n",
       "4. 'day_domains'\n",
       "5. 'expiry_M'\n",
       "6. 'expiry_Y'\n",
       "7. 'gibb_score'\n",
       "8. 'log_reg_arpt'\n",
       "9. 'pattern_domain_count'\n",
       "10. 'pattern_score'\n",
       "11. 'reg_arpt'\n",
       "12. 'reg_arpt_org'\n",
       "13. 'reg_period'\n",
       "14. 'reg_revenue'\n",
       "15. 'region'\n",
       "16. 'registrar'\n",
       "17. 'reseller'\n",
       "18. 'reseller_country'\n",
       "19. 'sld_length'\n",
       "20. 'sld_type'\n",
       "21. 'tld'\n",
       "\n",
       "\n"
      ],
      "text/plain": [
       " [1] \"cluster\"              \"creation_M\"           \"creation_Y\"          \n",
       " [4] \"day_domains\"          \"expiry_M\"             \"expiry_Y\"            \n",
       " [7] \"gibb_score\"           \"log_reg_arpt\"         \"pattern_domain_count\"\n",
       "[10] \"pattern_score\"        \"reg_arpt\"             \"reg_arpt_org\"        \n",
       "[13] \"reg_period\"           \"reg_revenue\"          \"region\"              \n",
       "[16] \"registrar\"            \"reseller\"             \"reseller_country\"    \n",
       "[19] \"sld_length\"           \"sld_type\"             \"tld\"                 "
      ]
     },
     "metadata": {},
     "output_type": "display_data"
    }
   ],
   "source": [
    "levels(RF_varimp$var)"
   ]
  },
  {
   "cell_type": "code",
   "execution_count": 15,
   "metadata": {},
   "outputs": [],
   "source": [
    "# load & prep input data\n",
    "source('load_prep_data.R')"
   ]
  },
  {
   "cell_type": "code",
   "execution_count": 16,
   "metadata": {},
   "outputs": [
    {
     "data": {
      "text/html": [
       "<style>\n",
       ".list-inline {list-style: none; margin:0; padding: 0}\n",
       ".list-inline>li {display: inline-block}\n",
       ".list-inline>li:not(:last-child)::after {content: \"\\00b7\"; padding: 0 .5ex}\n",
       "</style>\n",
       "<ol class=list-inline><li>'df_prep'</li><li>'RF_varimp'</li><li>'test'</li><li>'test_df'</li><li>'test_df_f'</li><li>'train'</li><li>'train_data'</li><li>'train_df'</li><li>'train_df_f'</li><li>'x'</li></ol>\n"
      ],
      "text/latex": [
       "\\begin{enumerate*}\n",
       "\\item 'df\\_prep'\n",
       "\\item 'RF\\_varimp'\n",
       "\\item 'test'\n",
       "\\item 'test\\_df'\n",
       "\\item 'test\\_df\\_f'\n",
       "\\item 'train'\n",
       "\\item 'train\\_data'\n",
       "\\item 'train\\_df'\n",
       "\\item 'train\\_df\\_f'\n",
       "\\item 'x'\n",
       "\\end{enumerate*}\n"
      ],
      "text/markdown": [
       "1. 'df_prep'\n",
       "2. 'RF_varimp'\n",
       "3. 'test'\n",
       "4. 'test_df'\n",
       "5. 'test_df_f'\n",
       "6. 'train'\n",
       "7. 'train_data'\n",
       "8. 'train_df'\n",
       "9. 'train_df_f'\n",
       "10. 'x'\n",
       "\n",
       "\n"
      ],
      "text/plain": [
       " [1] \"df_prep\"    \"RF_varimp\"  \"test\"       \"test_df\"    \"test_df_f\" \n",
       " [6] \"train\"      \"train_data\" \"train_df\"   \"train_df_f\" \"x\"         "
      ]
     },
     "metadata": {},
     "output_type": "display_data"
    }
   ],
   "source": [
    "objects()"
   ]
  },
  {
   "cell_type": "code",
   "execution_count": 27,
   "metadata": {},
   "outputs": [],
   "source": [
    "train_df_f_summ <- train_df_f %>% \n",
    "    select(c(levels(RF_varimp$var),\"renewal_status\"))%>%\n",
    "    group_by(renewal_status) %>%\n",
    "    summarise_if(is.numeric, mean, na.rm = TRUE)\n",
    "#     summarise_all(.funs = list(Q1 = ~ quantile(x = ., probs = 0.25),\n",
    "#                                Q3 = ~ quantile(x = ., probs = 0.75)))"
   ]
  },
  {
   "cell_type": "code",
   "execution_count": 28,
   "metadata": {},
   "outputs": [
    {
     "data": {
      "text/html": [
       "<table>\n",
       "<caption>A tibble: 2 × 12</caption>\n",
       "<thead>\n",
       "\t<tr><th scope=col>renewal_status</th><th scope=col>cluster</th><th scope=col>day_domains</th><th scope=col>gibb_score</th><th scope=col>log_reg_arpt</th><th scope=col>pattern_domain_count</th><th scope=col>pattern_score</th><th scope=col>reg_arpt</th><th scope=col>reg_arpt_org</th><th scope=col>reg_period</th><th scope=col>reg_revenue</th><th scope=col>sld_length</th></tr>\n",
       "\t<tr><th scope=col>&lt;fct&gt;</th><th scope=col>&lt;dbl&gt;</th><th scope=col>&lt;dbl&gt;</th><th scope=col>&lt;dbl&gt;</th><th scope=col>&lt;dbl&gt;</th><th scope=col>&lt;dbl&gt;</th><th scope=col>&lt;dbl&gt;</th><th scope=col>&lt;dbl&gt;</th><th scope=col>&lt;dbl&gt;</th><th scope=col>&lt;dbl&gt;</th><th scope=col>&lt;dbl&gt;</th><th scope=col>&lt;dbl&gt;</th></tr>\n",
       "</thead>\n",
       "<tbody>\n",
       "\t<tr><td>Not Renewd</td><td>155.67102</td><td>519.0998</td><td>4.649832</td><td>-0.8978136</td><td>11.183114</td><td>0.002005249</td><td>0.8372664</td><td>0.837196</td><td>1.005130</td><td>0.9040118</td><td>10.57314</td></tr>\n",
       "\t<tr><td>Renewed   </td><td> 60.89243</td><td>178.8090</td><td>5.287672</td><td>-0.2596281</td><td> 1.832597</td><td>0.011492742</td><td>2.1339261</td><td>2.133736</td><td>1.052355</td><td>2.8568179</td><td>10.14712</td></tr>\n",
       "</tbody>\n",
       "</table>\n"
      ],
      "text/latex": [
       "A tibble: 2 × 12\n",
       "\\begin{tabular}{llllllllllll}\n",
       " renewal\\_status & cluster & day\\_domains & gibb\\_score & log\\_reg\\_arpt & pattern\\_domain\\_count & pattern\\_score & reg\\_arpt & reg\\_arpt\\_org & reg\\_period & reg\\_revenue & sld\\_length\\\\\n",
       " <fct> & <dbl> & <dbl> & <dbl> & <dbl> & <dbl> & <dbl> & <dbl> & <dbl> & <dbl> & <dbl> & <dbl>\\\\\n",
       "\\hline\n",
       "\t Not Renewd & 155.67102 & 519.0998 & 4.649832 & -0.8978136 & 11.183114 & 0.002005249 & 0.8372664 & 0.837196 & 1.005130 & 0.9040118 & 10.57314\\\\\n",
       "\t Renewed    &  60.89243 & 178.8090 & 5.287672 & -0.2596281 &  1.832597 & 0.011492742 & 2.1339261 & 2.133736 & 1.052355 & 2.8568179 & 10.14712\\\\\n",
       "\\end{tabular}\n"
      ],
      "text/markdown": [
       "\n",
       "A tibble: 2 × 12\n",
       "\n",
       "| renewal_status &lt;fct&gt; | cluster &lt;dbl&gt; | day_domains &lt;dbl&gt; | gibb_score &lt;dbl&gt; | log_reg_arpt &lt;dbl&gt; | pattern_domain_count &lt;dbl&gt; | pattern_score &lt;dbl&gt; | reg_arpt &lt;dbl&gt; | reg_arpt_org &lt;dbl&gt; | reg_period &lt;dbl&gt; | reg_revenue &lt;dbl&gt; | sld_length &lt;dbl&gt; |\n",
       "|---|---|---|---|---|---|---|---|---|---|---|---|\n",
       "| Not Renewd | 155.67102 | 519.0998 | 4.649832 | -0.8978136 | 11.183114 | 0.002005249 | 0.8372664 | 0.837196 | 1.005130 | 0.9040118 | 10.57314 |\n",
       "| Renewed    |  60.89243 | 178.8090 | 5.287672 | -0.2596281 |  1.832597 | 0.011492742 | 2.1339261 | 2.133736 | 1.052355 | 2.8568179 | 10.14712 |\n",
       "\n"
      ],
      "text/plain": [
       "  renewal_status cluster   day_domains gibb_score log_reg_arpt\n",
       "1 Not Renewd     155.67102 519.0998    4.649832   -0.8978136  \n",
       "2 Renewed         60.89243 178.8090    5.287672   -0.2596281  \n",
       "  pattern_domain_count pattern_score reg_arpt  reg_arpt_org reg_period\n",
       "1 11.183114            0.002005249   0.8372664 0.837196     1.005130  \n",
       "2  1.832597            0.011492742   2.1339261 2.133736     1.052355  \n",
       "  reg_revenue sld_length\n",
       "1 0.9040118   10.57314  \n",
       "2 2.8568179   10.14712  "
      ]
     },
     "metadata": {},
     "output_type": "display_data"
    }
   ],
   "source": [
    "train_df_f_summ"
   ]
  },
  {
   "cell_type": "code",
   "execution_count": 29,
   "metadata": {},
   "outputs": [
    {
     "data": {
      "text/html": [
       "<style>\n",
       ".list-inline {list-style: none; margin:0; padding: 0}\n",
       ".list-inline>li {display: inline-block}\n",
       ".list-inline>li:not(:last-child)::after {content: \"\\00b7\"; padding: 0 .5ex}\n",
       "</style>\n",
       "<ol class=list-inline><li>'renewal_status'</li><li>'cluster'</li><li>'day_domains'</li><li>'gibb_score'</li><li>'log_reg_arpt'</li><li>'pattern_domain_count'</li><li>'pattern_score'</li><li>'reg_arpt'</li><li>'reg_arpt_org'</li><li>'reg_period'</li><li>'reg_revenue'</li><li>'sld_length'</li></ol>\n"
      ],
      "text/latex": [
       "\\begin{enumerate*}\n",
       "\\item 'renewal\\_status'\n",
       "\\item 'cluster'\n",
       "\\item 'day\\_domains'\n",
       "\\item 'gibb\\_score'\n",
       "\\item 'log\\_reg\\_arpt'\n",
       "\\item 'pattern\\_domain\\_count'\n",
       "\\item 'pattern\\_score'\n",
       "\\item 'reg\\_arpt'\n",
       "\\item 'reg\\_arpt\\_org'\n",
       "\\item 'reg\\_period'\n",
       "\\item 'reg\\_revenue'\n",
       "\\item 'sld\\_length'\n",
       "\\end{enumerate*}\n"
      ],
      "text/markdown": [
       "1. 'renewal_status'\n",
       "2. 'cluster'\n",
       "3. 'day_domains'\n",
       "4. 'gibb_score'\n",
       "5. 'log_reg_arpt'\n",
       "6. 'pattern_domain_count'\n",
       "7. 'pattern_score'\n",
       "8. 'reg_arpt'\n",
       "9. 'reg_arpt_org'\n",
       "10. 'reg_period'\n",
       "11. 'reg_revenue'\n",
       "12. 'sld_length'\n",
       "\n",
       "\n"
      ],
      "text/plain": [
       " [1] \"renewal_status\"       \"cluster\"              \"day_domains\"         \n",
       " [4] \"gibb_score\"           \"log_reg_arpt\"         \"pattern_domain_count\"\n",
       " [7] \"pattern_score\"        \"reg_arpt\"             \"reg_arpt_org\"        \n",
       "[10] \"reg_period\"           \"reg_revenue\"          \"sld_length\"          "
      ]
     },
     "metadata": {},
     "output_type": "display_data"
    }
   ],
   "source": [
    "numeric_cols <- names(train_df_f_summ)\n",
    "numeric_cols"
   ]
  },
  {
   "cell_type": "markdown",
   "metadata": {},
   "source": [
    "### LEAKED VAR CANDIDATES:\n",
    "\n",
    "### reg_revenue = round(n.net_revenue, 2) <br> total revenue we made on the registration. if the domain is registered for 2 years then we make 1st year + 2nd year revenue upfront\n",
    "\n",
    "### reg_arpt_org =  CASE WHEN n.newreg_period is not null THEN round((n.newreg_net_revenue / n.newreg_period), 2) ELSE 0 END <br> original price of registration of the domain ***NOT A LEAK according to definition*** however, values of this and reg_arpt are very close\n",
    "\n",
    "### reg_arpt = round((n.net_revenue / n.years), 2) <br> revenue per year of registraton. = reg_revenue/reg_period\n",
    "\n",
    "### log_reg_arpt ?= log(reg_arpt) <br> log of the original registration price.\n",
    "                                \n"
   ]
  },
  {
   "cell_type": "code",
   "execution_count": 5,
   "metadata": {},
   "outputs": [],
   "source": [
    "first_renewal_preds<-readRDS(\"../../data/first_renewal_preds\")\n"
   ]
  },
  {
   "cell_type": "code",
   "execution_count": 6,
   "metadata": {},
   "outputs": [
    {
     "data": {
      "text/plain": [
       "    Min.  1st Qu.   Median     Mean  3rd Qu.     Max. \n",
       "-35.0000   0.4400   0.5000   0.9822   0.5900  59.0000 "
      ]
     },
     "metadata": {},
     "output_type": "display_data"
    },
    {
     "data": {
      "text/plain": [
       "   Min. 1st Qu.  Median    Mean 3rd Qu.    Max. \n",
       " 0.0001  0.4400  0.5000  0.9823  0.5900 59.0000 "
      ]
     },
     "metadata": {},
     "output_type": "display_data"
    }
   ],
   "source": [
    "summary(first_renewal_preds$reg_arpt_org)\n",
    "summary(first_renewal_preds$reg_arpt)"
   ]
  },
  {
   "cell_type": "code",
   "execution_count": 7,
   "metadata": {},
   "outputs": [
    {
     "data": {
      "text/plain": [
       "    Min.  1st Qu.   Median     Mean  3rd Qu.     Max. \n",
       "-35.0000   0.4400   0.5000   0.9828   0.5900  59.0000 "
      ]
     },
     "metadata": {},
     "output_type": "display_data"
    },
    {
     "data": {
      "text/plain": [
       "   Min. 1st Qu.  Median    Mean 3rd Qu.    Max. \n",
       " 0.0001  0.4400  0.5000  0.9829  0.5900 59.0000 "
      ]
     },
     "metadata": {},
     "output_type": "display_data"
    }
   ],
   "source": [
    "summary(train_df_f$reg_arpt_org)\n",
    "summary(train_df_f$reg_arpt)"
   ]
  },
  {
   "cell_type": "code",
   "execution_count": 8,
   "metadata": {},
   "outputs": [
    {
     "name": "stderr",
     "output_type": "stream",
     "text": [
      "\n",
      "Attaching package: ‘dplyr’\n",
      "\n",
      "\n",
      "The following objects are masked from ‘package:stats’:\n",
      "\n",
      "    filter, lag\n",
      "\n",
      "\n",
      "The following objects are masked from ‘package:base’:\n",
      "\n",
      "    intersect, setdiff, setequal, union\n",
      "\n",
      "\n"
     ]
    }
   ],
   "source": [
    "library(dplyr)"
   ]
  },
  {
   "cell_type": "code",
   "execution_count": 14,
   "metadata": {},
   "outputs": [
    {
     "name": "stderr",
     "output_type": "stream",
     "text": [
      "Warning message in log(reg_arpt_org):\n",
      "“NaNs produced”\n"
     ]
    }
   ],
   "source": [
    "temp <- first_renewal_preds %>% \n",
    "    select(c(\"reg_arpt\",\"reg_arpt_org\",\"log_reg_arpt\")) %>% \n",
    "    mutate(log_r_a = log(reg_arpt), log_r_a_o= log(reg_arpt_org)) %>%\n",
    "    filter(reg_arpt!=reg_arpt_org) "
   ]
  },
  {
   "cell_type": "code",
   "execution_count": 10,
   "metadata": {},
   "outputs": [
    {
     "data": {
      "text/html": [
       "<table>\n",
       "<caption>A data.table: 6 × 5</caption>\n",
       "<thead>\n",
       "\t<tr><th></th><th scope=col>reg_arpt</th><th scope=col>reg_arpt_org</th><th scope=col>log_reg_arpt</th><th scope=col>log_r_a</th><th scope=col>log_r_a_o</th></tr>\n",
       "\t<tr><th></th><th scope=col>&lt;dbl&gt;</th><th scope=col>&lt;dbl&gt;</th><th scope=col>&lt;dbl&gt;</th><th scope=col>&lt;dbl&gt;</th><th scope=col>&lt;dbl&gt;</th></tr>\n",
       "</thead>\n",
       "<tbody>\n",
       "\t<tr><th scope=row>1</th><td>1e-04</td><td>0</td><td>-9.21034</td><td>-9.21034</td><td>-Inf</td></tr>\n",
       "\t<tr><th scope=row>2</th><td>1e-04</td><td>0</td><td>-9.21034</td><td>-9.21034</td><td>-Inf</td></tr>\n",
       "\t<tr><th scope=row>3</th><td>1e-04</td><td>0</td><td>-9.21034</td><td>-9.21034</td><td>-Inf</td></tr>\n",
       "\t<tr><th scope=row>4</th><td>1e-04</td><td>0</td><td>-9.21034</td><td>-9.21034</td><td>-Inf</td></tr>\n",
       "\t<tr><th scope=row>5</th><td>1e-04</td><td>0</td><td>-9.21034</td><td>-9.21034</td><td>-Inf</td></tr>\n",
       "\t<tr><th scope=row>6</th><td>1e-04</td><td>0</td><td>-9.21034</td><td>-9.21034</td><td>-Inf</td></tr>\n",
       "</tbody>\n",
       "</table>\n"
      ],
      "text/latex": [
       "A data.table: 6 × 5\n",
       "\\begin{tabular}{r|lllll}\n",
       "  & reg\\_arpt & reg\\_arpt\\_org & log\\_reg\\_arpt & log\\_r\\_a & log\\_r\\_a\\_o\\\\\n",
       "  & <dbl> & <dbl> & <dbl> & <dbl> & <dbl>\\\\\n",
       "\\hline\n",
       "\t1 & 1e-04 & 0 & -9.21034 & -9.21034 & -Inf\\\\\n",
       "\t2 & 1e-04 & 0 & -9.21034 & -9.21034 & -Inf\\\\\n",
       "\t3 & 1e-04 & 0 & -9.21034 & -9.21034 & -Inf\\\\\n",
       "\t4 & 1e-04 & 0 & -9.21034 & -9.21034 & -Inf\\\\\n",
       "\t5 & 1e-04 & 0 & -9.21034 & -9.21034 & -Inf\\\\\n",
       "\t6 & 1e-04 & 0 & -9.21034 & -9.21034 & -Inf\\\\\n",
       "\\end{tabular}\n"
      ],
      "text/markdown": [
       "\n",
       "A data.table: 6 × 5\n",
       "\n",
       "| <!--/--> | reg_arpt &lt;dbl&gt; | reg_arpt_org &lt;dbl&gt; | log_reg_arpt &lt;dbl&gt; | log_r_a &lt;dbl&gt; | log_r_a_o &lt;dbl&gt; |\n",
       "|---|---|---|---|---|---|\n",
       "| 1 | 1e-04 | 0 | -9.21034 | -9.21034 | -Inf |\n",
       "| 2 | 1e-04 | 0 | -9.21034 | -9.21034 | -Inf |\n",
       "| 3 | 1e-04 | 0 | -9.21034 | -9.21034 | -Inf |\n",
       "| 4 | 1e-04 | 0 | -9.21034 | -9.21034 | -Inf |\n",
       "| 5 | 1e-04 | 0 | -9.21034 | -9.21034 | -Inf |\n",
       "| 6 | 1e-04 | 0 | -9.21034 | -9.21034 | -Inf |\n",
       "\n"
      ],
      "text/plain": [
       "  reg_arpt reg_arpt_org log_reg_arpt log_r_a  log_r_a_o\n",
       "1 1e-04    0            -9.21034     -9.21034 -Inf     \n",
       "2 1e-04    0            -9.21034     -9.21034 -Inf     \n",
       "3 1e-04    0            -9.21034     -9.21034 -Inf     \n",
       "4 1e-04    0            -9.21034     -9.21034 -Inf     \n",
       "5 1e-04    0            -9.21034     -9.21034 -Inf     \n",
       "6 1e-04    0            -9.21034     -9.21034 -Inf     "
      ]
     },
     "metadata": {},
     "output_type": "display_data"
    }
   ],
   "source": [
    "head(temp)"
   ]
  },
  {
   "cell_type": "code",
   "execution_count": 16,
   "metadata": {},
   "outputs": [
    {
     "data": {
      "text/html": [
       "0"
      ],
      "text/latex": [
       "0"
      ],
      "text/markdown": [
       "0"
      ],
      "text/plain": [
       "[1] 0"
      ]
     },
     "metadata": {},
     "output_type": "display_data"
    }
   ],
   "source": [
    "sum(temp$log_reg_arpt != temp$log_r_a)"
   ]
  },
  {
   "cell_type": "code",
   "execution_count": 31,
   "metadata": {},
   "outputs": [
    {
     "data": {
      "text/html": [
       "<style>\n",
       ".list-inline {list-style: none; margin:0; padding: 0}\n",
       ".list-inline>li {display: inline-block}\n",
       ".list-inline>li:not(:last-child)::after {content: \"\\00b7\"; padding: 0 .5ex}\n",
       "</style>\n",
       "<ol class=list-inline><li>'cluster'</li><li>'creation_M'</li><li>'creation_Y'</li><li>'day_domains'</li><li>'expiry_M'</li><li>'expiry_Y'</li><li>'gibb_score'</li><li>'log_reg_arpt'</li><li>'pattern_domain_count'</li><li>'pattern_score'</li><li>'reg_arpt'</li><li>'reg_arpt_org'</li><li>'reg_period'</li><li>'reg_revenue'</li><li>'region'</li><li>'registrar'</li><li>'reseller'</li><li>'reseller_country'</li><li>'sld_length'</li><li>'sld_type'</li><li>'tld'</li></ol>\n"
      ],
      "text/latex": [
       "\\begin{enumerate*}\n",
       "\\item 'cluster'\n",
       "\\item 'creation\\_M'\n",
       "\\item 'creation\\_Y'\n",
       "\\item 'day\\_domains'\n",
       "\\item 'expiry\\_M'\n",
       "\\item 'expiry\\_Y'\n",
       "\\item 'gibb\\_score'\n",
       "\\item 'log\\_reg\\_arpt'\n",
       "\\item 'pattern\\_domain\\_count'\n",
       "\\item 'pattern\\_score'\n",
       "\\item 'reg\\_arpt'\n",
       "\\item 'reg\\_arpt\\_org'\n",
       "\\item 'reg\\_period'\n",
       "\\item 'reg\\_revenue'\n",
       "\\item 'region'\n",
       "\\item 'registrar'\n",
       "\\item 'reseller'\n",
       "\\item 'reseller\\_country'\n",
       "\\item 'sld\\_length'\n",
       "\\item 'sld\\_type'\n",
       "\\item 'tld'\n",
       "\\end{enumerate*}\n"
      ],
      "text/markdown": [
       "1. 'cluster'\n",
       "2. 'creation_M'\n",
       "3. 'creation_Y'\n",
       "4. 'day_domains'\n",
       "5. 'expiry_M'\n",
       "6. 'expiry_Y'\n",
       "7. 'gibb_score'\n",
       "8. 'log_reg_arpt'\n",
       "9. 'pattern_domain_count'\n",
       "10. 'pattern_score'\n",
       "11. 'reg_arpt'\n",
       "12. 'reg_arpt_org'\n",
       "13. 'reg_period'\n",
       "14. 'reg_revenue'\n",
       "15. 'region'\n",
       "16. 'registrar'\n",
       "17. 'reseller'\n",
       "18. 'reseller_country'\n",
       "19. 'sld_length'\n",
       "20. 'sld_type'\n",
       "21. 'tld'\n",
       "\n",
       "\n"
      ],
      "text/plain": [
       " [1] \"cluster\"              \"creation_M\"           \"creation_Y\"          \n",
       " [4] \"day_domains\"          \"expiry_M\"             \"expiry_Y\"            \n",
       " [7] \"gibb_score\"           \"log_reg_arpt\"         \"pattern_domain_count\"\n",
       "[10] \"pattern_score\"        \"reg_arpt\"             \"reg_arpt_org\"        \n",
       "[13] \"reg_period\"           \"reg_revenue\"          \"region\"              \n",
       "[16] \"registrar\"            \"reseller\"             \"reseller_country\"    \n",
       "[19] \"sld_length\"           \"sld_type\"             \"tld\"                 "
      ]
     },
     "metadata": {},
     "output_type": "display_data"
    },
    {
     "data": {
      "text/html": [
       "<style>\n",
       ".list-inline {list-style: none; margin:0; padding: 0}\n",
       ".list-inline>li {display: inline-block}\n",
       ".list-inline>li:not(:last-child)::after {content: \"\\00b7\"; padding: 0 .5ex}\n",
       "</style>\n",
       "<ol class=list-inline><li>'renewal_status'</li><li>'cluster'</li><li>'day_domains'</li><li>'gibb_score'</li><li>'log_reg_arpt'</li><li>'pattern_domain_count'</li><li>'pattern_score'</li><li>'reg_arpt'</li><li>'reg_arpt_org'</li><li>'reg_period'</li><li>'reg_revenue'</li><li>'sld_length'</li></ol>\n"
      ],
      "text/latex": [
       "\\begin{enumerate*}\n",
       "\\item 'renewal\\_status'\n",
       "\\item 'cluster'\n",
       "\\item 'day\\_domains'\n",
       "\\item 'gibb\\_score'\n",
       "\\item 'log\\_reg\\_arpt'\n",
       "\\item 'pattern\\_domain\\_count'\n",
       "\\item 'pattern\\_score'\n",
       "\\item 'reg\\_arpt'\n",
       "\\item 'reg\\_arpt\\_org'\n",
       "\\item 'reg\\_period'\n",
       "\\item 'reg\\_revenue'\n",
       "\\item 'sld\\_length'\n",
       "\\end{enumerate*}\n"
      ],
      "text/markdown": [
       "1. 'renewal_status'\n",
       "2. 'cluster'\n",
       "3. 'day_domains'\n",
       "4. 'gibb_score'\n",
       "5. 'log_reg_arpt'\n",
       "6. 'pattern_domain_count'\n",
       "7. 'pattern_score'\n",
       "8. 'reg_arpt'\n",
       "9. 'reg_arpt_org'\n",
       "10. 'reg_period'\n",
       "11. 'reg_revenue'\n",
       "12. 'sld_length'\n",
       "\n",
       "\n"
      ],
      "text/plain": [
       " [1] \"renewal_status\"       \"cluster\"              \"day_domains\"         \n",
       " [4] \"gibb_score\"           \"log_reg_arpt\"         \"pattern_domain_count\"\n",
       " [7] \"pattern_score\"        \"reg_arpt\"             \"reg_arpt_org\"        \n",
       "[10] \"reg_period\"           \"reg_revenue\"          \"sld_length\"          "
      ]
     },
     "metadata": {},
     "output_type": "display_data"
    },
    {
     "data": {
      "text/html": [
       "<style>\n",
       ".list-inline {list-style: none; margin:0; padding: 0}\n",
       ".list-inline>li {display: inline-block}\n",
       ".list-inline>li:not(:last-child)::after {content: \"\\00b7\"; padding: 0 .5ex}\n",
       "</style>\n",
       "<ol class=list-inline><li>'expiry_M'</li><li>'creation_M'</li><li>'sld_type'</li><li>'tld'</li><li>'reseller'</li><li>'registrar'</li><li>'creation_Y'</li><li>'expiry_Y'</li><li>'reseller_country'</li><li>'region'</li></ol>\n"
      ],
      "text/latex": [
       "\\begin{enumerate*}\n",
       "\\item 'expiry\\_M'\n",
       "\\item 'creation\\_M'\n",
       "\\item 'sld\\_type'\n",
       "\\item 'tld'\n",
       "\\item 'reseller'\n",
       "\\item 'registrar'\n",
       "\\item 'creation\\_Y'\n",
       "\\item 'expiry\\_Y'\n",
       "\\item 'reseller\\_country'\n",
       "\\item 'region'\n",
       "\\end{enumerate*}\n"
      ],
      "text/markdown": [
       "1. 'expiry_M'\n",
       "2. 'creation_M'\n",
       "3. 'sld_type'\n",
       "4. 'tld'\n",
       "5. 'reseller'\n",
       "6. 'registrar'\n",
       "7. 'creation_Y'\n",
       "8. 'expiry_Y'\n",
       "9. 'reseller_country'\n",
       "10. 'region'\n",
       "\n",
       "\n"
      ],
      "text/plain": [
       " [1] \"expiry_M\"         \"creation_M\"       \"sld_type\"         \"tld\"             \n",
       " [5] \"reseller\"         \"registrar\"        \"creation_Y\"       \"expiry_Y\"        \n",
       " [9] \"reseller_country\" \"region\"          "
      ]
     },
     "metadata": {},
     "output_type": "display_data"
    }
   ],
   "source": [
    "levels(RF_varimp$var)\n",
    "numeric_cols\n",
    "setdiff(RF_varimp$var,numeric_cols)"
   ]
  },
  {
   "cell_type": "code",
   "execution_count": 49,
   "metadata": {},
   "outputs": [],
   "source": [
    "train_df_f_summ2 <- train_df_f %>% \n",
    "    select(setdiff(RF_varimp$var,numeric_cols),\"renewal_status\")\n"
   ]
  },
  {
   "cell_type": "code",
   "execution_count": 50,
   "metadata": {},
   "outputs": [
    {
     "data": {
      "text/html": [
       "<table>\n",
       "<caption>A data.table: 1559265 × 11</caption>\n",
       "<thead>\n",
       "\t<tr><th scope=col>expiry_M</th><th scope=col>creation_M</th><th scope=col>sld_type</th><th scope=col>tld</th><th scope=col>reseller</th><th scope=col>registrar</th><th scope=col>creation_Y</th><th scope=col>expiry_Y</th><th scope=col>reseller_country</th><th scope=col>region</th><th scope=col>renewal_status</th></tr>\n",
       "\t<tr><th scope=col>&lt;fct&gt;</th><th scope=col>&lt;fct&gt;</th><th scope=col>&lt;fct&gt;</th><th scope=col>&lt;fct&gt;</th><th scope=col>&lt;fct&gt;</th><th scope=col>&lt;fct&gt;</th><th scope=col>&lt;fct&gt;</th><th scope=col>&lt;fct&gt;</th><th scope=col>&lt;fct&gt;</th><th scope=col>&lt;fct&gt;</th><th scope=col>&lt;fct&gt;</th></tr>\n",
       "</thead>\n",
       "<tbody>\n",
       "\t<tr><td>04</td><td>04</td><td>l       </td><td>fun</td><td>gmo</td><td>gmo</td><td>2017</td><td>2018</td><td>Japan</td><td>Non China</td><td>Not Renewd</td></tr>\n",
       "\t<tr><td>04</td><td>04</td><td>l       </td><td>fun</td><td>gmo</td><td>gmo</td><td>2017</td><td>2018</td><td>Japan</td><td>Non China</td><td>Renewed   </td></tr>\n",
       "\t<tr><td>04</td><td>04</td><td>l       </td><td>fun</td><td>gmo</td><td>gmo</td><td>2017</td><td>2018</td><td>Japan</td><td>Non China</td><td>Not Renewd</td></tr>\n",
       "\t<tr><td>04</td><td>04</td><td>l       </td><td>fun</td><td>gmo</td><td>gmo</td><td>2017</td><td>2018</td><td>Japan</td><td>Non China</td><td>Not Renewd</td></tr>\n",
       "\t<tr><td>04</td><td>04</td><td>l       </td><td>fun</td><td>gmo</td><td>gmo</td><td>2017</td><td>2018</td><td>Japan</td><td>Non China</td><td>Not Renewd</td></tr>\n",
       "\t<tr><td>04</td><td>04</td><td>l       </td><td>fun</td><td>gmo</td><td>gmo</td><td>2017</td><td>2018</td><td>Japan</td><td>Non China</td><td>Renewed   </td></tr>\n",
       "\t<tr><td>04</td><td>04</td><td>l       </td><td>fun</td><td>gmo</td><td>gmo</td><td>2017</td><td>2018</td><td>Japan</td><td>Non China</td><td>Not Renewd</td></tr>\n",
       "\t<tr><td>04</td><td>04</td><td>l       </td><td>fun</td><td>gmo</td><td>gmo</td><td>2017</td><td>2018</td><td>Japan</td><td>Non China</td><td>Renewed   </td></tr>\n",
       "\t<tr><td>04</td><td>04</td><td>ln      </td><td>fun</td><td>gmo</td><td>gmo</td><td>2017</td><td>2018</td><td>Japan</td><td>Non China</td><td>Renewed   </td></tr>\n",
       "\t<tr><td>04</td><td>04</td><td>hyphen-l</td><td>fun</td><td>gmo</td><td>gmo</td><td>2017</td><td>2018</td><td>Japan</td><td>Non China</td><td>Not Renewd</td></tr>\n",
       "\t<tr><td>04</td><td>04</td><td>l       </td><td>fun</td><td>gmo</td><td>gmo</td><td>2017</td><td>2018</td><td>Japan</td><td>Non China</td><td>Renewed   </td></tr>\n",
       "\t<tr><td>04</td><td>04</td><td>l       </td><td>fun</td><td>gmo</td><td>gmo</td><td>2017</td><td>2018</td><td>Japan</td><td>Non China</td><td>Not Renewd</td></tr>\n",
       "\t<tr><td>04</td><td>04</td><td>l       </td><td>fun</td><td>gmo</td><td>gmo</td><td>2017</td><td>2018</td><td>Japan</td><td>Non China</td><td>Not Renewd</td></tr>\n",
       "\t<tr><td>04</td><td>04</td><td>l       </td><td>fun</td><td>gmo</td><td>gmo</td><td>2017</td><td>2018</td><td>Japan</td><td>Non China</td><td>Not Renewd</td></tr>\n",
       "\t<tr><td>04</td><td>04</td><td>l       </td><td>fun</td><td>gmo</td><td>gmo</td><td>2017</td><td>2018</td><td>Japan</td><td>Non China</td><td>Not Renewd</td></tr>\n",
       "\t<tr><td>04</td><td>04</td><td>l       </td><td>fun</td><td>gmo</td><td>gmo</td><td>2017</td><td>2018</td><td>Japan</td><td>Non China</td><td>Renewed   </td></tr>\n",
       "\t<tr><td>04</td><td>04</td><td>l       </td><td>fun</td><td>gmo</td><td>gmo</td><td>2017</td><td>2018</td><td>Japan</td><td>Non China</td><td>Not Renewd</td></tr>\n",
       "\t<tr><td>04</td><td>04</td><td>l       </td><td>fun</td><td>gmo</td><td>gmo</td><td>2017</td><td>2019</td><td>Japan</td><td>Non China</td><td>Renewed   </td></tr>\n",
       "\t<tr><td>04</td><td>04</td><td>l       </td><td>fun</td><td>gmo</td><td>gmo</td><td>2017</td><td>2018</td><td>Japan</td><td>Non China</td><td>Not Renewd</td></tr>\n",
       "\t<tr><td>04</td><td>04</td><td>hyphen-l</td><td>fun</td><td>gmo</td><td>gmo</td><td>2017</td><td>2018</td><td>Japan</td><td>Non China</td><td>Renewed   </td></tr>\n",
       "\t<tr><td>04</td><td>04</td><td>l       </td><td>fun</td><td>gmo</td><td>gmo</td><td>2017</td><td>2018</td><td>Japan</td><td>Non China</td><td>Renewed   </td></tr>\n",
       "\t<tr><td>04</td><td>04</td><td>l       </td><td>fun</td><td>gmo</td><td>gmo</td><td>2017</td><td>2018</td><td>Japan</td><td>Non China</td><td>Renewed   </td></tr>\n",
       "\t<tr><td>04</td><td>04</td><td>l       </td><td>fun</td><td>gmo</td><td>gmo</td><td>2017</td><td>2018</td><td>Japan</td><td>Non China</td><td>Renewed   </td></tr>\n",
       "\t<tr><td>04</td><td>04</td><td>l       </td><td>fun</td><td>gmo</td><td>gmo</td><td>2017</td><td>2018</td><td>Japan</td><td>Non China</td><td>Not Renewd</td></tr>\n",
       "\t<tr><td>04</td><td>04</td><td>l       </td><td>fun</td><td>gmo</td><td>gmo</td><td>2017</td><td>2018</td><td>Japan</td><td>Non China</td><td>Renewed   </td></tr>\n",
       "\t<tr><td>04</td><td>04</td><td>l       </td><td>fun</td><td>gmo</td><td>gmo</td><td>2017</td><td>2018</td><td>Japan</td><td>Non China</td><td>Renewed   </td></tr>\n",
       "\t<tr><td>04</td><td>04</td><td>l       </td><td>fun</td><td>gmo</td><td>gmo</td><td>2017</td><td>2018</td><td>Japan</td><td>Non China</td><td>Renewed   </td></tr>\n",
       "\t<tr><td>04</td><td>04</td><td>l       </td><td>fun</td><td>gmo</td><td>gmo</td><td>2017</td><td>2018</td><td>Japan</td><td>Non China</td><td>Not Renewd</td></tr>\n",
       "\t<tr><td>04</td><td>04</td><td>l       </td><td>fun</td><td>gmo</td><td>gmo</td><td>2017</td><td>2018</td><td>Japan</td><td>Non China</td><td>Not Renewd</td></tr>\n",
       "\t<tr><td>04</td><td>04</td><td>l       </td><td>fun</td><td>gmo</td><td>gmo</td><td>2017</td><td>2019</td><td>Japan</td><td>Non China</td><td>Renewed   </td></tr>\n",
       "\t<tr><td>⋮</td><td>⋮</td><td>⋮</td><td>⋮</td><td>⋮</td><td>⋮</td><td>⋮</td><td>⋮</td><td>⋮</td><td>⋮</td><td>⋮</td></tr>\n",
       "\t<tr><td>12</td><td>12</td><td>l       </td><td>website</td><td>namecheap</td><td>namecheap</td><td>2018</td><td>2019</td><td>United States</td><td>Non China</td><td>Renewed   </td></tr>\n",
       "\t<tr><td>12</td><td>12</td><td>l       </td><td>website</td><td>namecheap</td><td>namecheap</td><td>2018</td><td>2019</td><td>United States</td><td>Non China</td><td>Not Renewd</td></tr>\n",
       "\t<tr><td>12</td><td>12</td><td>ln      </td><td>website</td><td>namecheap</td><td>namecheap</td><td>2018</td><td>2019</td><td>United States</td><td>Non China</td><td>Not Renewd</td></tr>\n",
       "\t<tr><td>12</td><td>12</td><td>l       </td><td>website</td><td>namecheap</td><td>namecheap</td><td>2018</td><td>2019</td><td>United States</td><td>Non China</td><td>Not Renewd</td></tr>\n",
       "\t<tr><td>12</td><td>12</td><td>ln      </td><td>website</td><td>namecheap</td><td>namecheap</td><td>2018</td><td>2019</td><td>United States</td><td>Non China</td><td>Renewed   </td></tr>\n",
       "\t<tr><td>12</td><td>12</td><td>ln      </td><td>website</td><td>namecheap</td><td>namecheap</td><td>2018</td><td>2019</td><td>United States</td><td>Non China</td><td>Not Renewd</td></tr>\n",
       "\t<tr><td>12</td><td>12</td><td>l       </td><td>website</td><td>namecheap</td><td>namecheap</td><td>2018</td><td>2019</td><td>United States</td><td>Non China</td><td>Renewed   </td></tr>\n",
       "\t<tr><td>12</td><td>12</td><td>l       </td><td>website</td><td>namecheap</td><td>namecheap</td><td>2018</td><td>2019</td><td>United States</td><td>Non China</td><td>Not Renewd</td></tr>\n",
       "\t<tr><td>12</td><td>12</td><td>l       </td><td>website</td><td>namecheap</td><td>namecheap</td><td>2018</td><td>2019</td><td>United States</td><td>Non China</td><td>Renewed   </td></tr>\n",
       "\t<tr><td>12</td><td>12</td><td>l       </td><td>website</td><td>namecheap</td><td>namecheap</td><td>2018</td><td>2019</td><td>United States</td><td>Non China</td><td>Not Renewd</td></tr>\n",
       "\t<tr><td>12</td><td>12</td><td>l       </td><td>website</td><td>namecheap</td><td>namecheap</td><td>2018</td><td>2019</td><td>United States</td><td>Non China</td><td>Not Renewd</td></tr>\n",
       "\t<tr><td>12</td><td>12</td><td>hyphen-l</td><td>website</td><td>namecheap</td><td>namecheap</td><td>2018</td><td>2019</td><td>United States</td><td>Non China</td><td>Not Renewd</td></tr>\n",
       "\t<tr><td>12</td><td>12</td><td>ln      </td><td>website</td><td>namecheap</td><td>namecheap</td><td>2018</td><td>2019</td><td>United States</td><td>Non China</td><td>Not Renewd</td></tr>\n",
       "\t<tr><td>12</td><td>12</td><td>l       </td><td>website</td><td>namecheap</td><td>namecheap</td><td>2018</td><td>2019</td><td>United States</td><td>Non China</td><td>Not Renewd</td></tr>\n",
       "\t<tr><td>12</td><td>12</td><td>l       </td><td>website</td><td>namecheap</td><td>namecheap</td><td>2018</td><td>2019</td><td>United States</td><td>Non China</td><td>Not Renewd</td></tr>\n",
       "\t<tr><td>12</td><td>12</td><td>l       </td><td>website</td><td>namecheap</td><td>namecheap</td><td>2018</td><td>2019</td><td>United States</td><td>Non China</td><td>Not Renewd</td></tr>\n",
       "\t<tr><td>12</td><td>12</td><td>l       </td><td>website</td><td>namecheap</td><td>namecheap</td><td>2018</td><td>2019</td><td>United States</td><td>Non China</td><td>Not Renewd</td></tr>\n",
       "\t<tr><td>12</td><td>12</td><td>ln      </td><td>website</td><td>namecheap</td><td>namecheap</td><td>2018</td><td>2019</td><td>United States</td><td>Non China</td><td>Not Renewd</td></tr>\n",
       "\t<tr><td>12</td><td>12</td><td>l       </td><td>website</td><td>namecheap</td><td>namecheap</td><td>2018</td><td>2019</td><td>United States</td><td>Non China</td><td>Not Renewd</td></tr>\n",
       "\t<tr><td>12</td><td>12</td><td>l       </td><td>website</td><td>namecheap</td><td>namecheap</td><td>2018</td><td>2019</td><td>United States</td><td>Non China</td><td>Renewed   </td></tr>\n",
       "\t<tr><td>12</td><td>12</td><td>l       </td><td>website</td><td>namecheap</td><td>namecheap</td><td>2018</td><td>2019</td><td>United States</td><td>Non China</td><td>Not Renewd</td></tr>\n",
       "\t<tr><td>12</td><td>12</td><td>l       </td><td>website</td><td>namecheap</td><td>namecheap</td><td>2018</td><td>2019</td><td>United States</td><td>Non China</td><td>Renewed   </td></tr>\n",
       "\t<tr><td>12</td><td>12</td><td>l       </td><td>website</td><td>namecheap</td><td>namecheap</td><td>2018</td><td>2019</td><td>United States</td><td>Non China</td><td>Not Renewd</td></tr>\n",
       "\t<tr><td>12</td><td>12</td><td>l       </td><td>website</td><td>namecheap</td><td>namecheap</td><td>2018</td><td>2019</td><td>United States</td><td>Non China</td><td>Renewed   </td></tr>\n",
       "\t<tr><td>12</td><td>12</td><td>l       </td><td>website</td><td>namecheap</td><td>namecheap</td><td>2018</td><td>2019</td><td>United States</td><td>Non China</td><td>Not Renewd</td></tr>\n",
       "\t<tr><td>12</td><td>12</td><td>l       </td><td>website</td><td>namecheap</td><td>namecheap</td><td>2018</td><td>2019</td><td>United States</td><td>Non China</td><td>Not Renewd</td></tr>\n",
       "\t<tr><td>12</td><td>12</td><td>l       </td><td>website</td><td>namecheap</td><td>namecheap</td><td>2018</td><td>2019</td><td>United States</td><td>Non China</td><td>Not Renewd</td></tr>\n",
       "\t<tr><td>12</td><td>12</td><td>l       </td><td>website</td><td>namecheap</td><td>namecheap</td><td>2018</td><td>2019</td><td>United States</td><td>Non China</td><td>Not Renewd</td></tr>\n",
       "\t<tr><td>12</td><td>12</td><td>l       </td><td>website</td><td>namecheap</td><td>namecheap</td><td>2018</td><td>2019</td><td>United States</td><td>Non China</td><td>Renewed   </td></tr>\n",
       "\t<tr><td>12</td><td>12</td><td>ln      </td><td>website</td><td>namecheap</td><td>namecheap</td><td>2018</td><td>2019</td><td>United States</td><td>Non China</td><td>Not Renewd</td></tr>\n",
       "</tbody>\n",
       "</table>\n"
      ],
      "text/latex": [
       "A data.table: 1559265 × 11\n",
       "\\begin{tabular}{lllllllllll}\n",
       " expiry\\_M & creation\\_M & sld\\_type & tld & reseller & registrar & creation\\_Y & expiry\\_Y & reseller\\_country & region & renewal\\_status\\\\\n",
       " <fct> & <fct> & <fct> & <fct> & <fct> & <fct> & <fct> & <fct> & <fct> & <fct> & <fct>\\\\\n",
       "\\hline\n",
       "\t 04 & 04 & l        & fun & gmo & gmo & 2017 & 2018 & Japan & Non China & Not Renewd\\\\\n",
       "\t 04 & 04 & l        & fun & gmo & gmo & 2017 & 2018 & Japan & Non China & Renewed   \\\\\n",
       "\t 04 & 04 & l        & fun & gmo & gmo & 2017 & 2018 & Japan & Non China & Not Renewd\\\\\n",
       "\t 04 & 04 & l        & fun & gmo & gmo & 2017 & 2018 & Japan & Non China & Not Renewd\\\\\n",
       "\t 04 & 04 & l        & fun & gmo & gmo & 2017 & 2018 & Japan & Non China & Not Renewd\\\\\n",
       "\t 04 & 04 & l        & fun & gmo & gmo & 2017 & 2018 & Japan & Non China & Renewed   \\\\\n",
       "\t 04 & 04 & l        & fun & gmo & gmo & 2017 & 2018 & Japan & Non China & Not Renewd\\\\\n",
       "\t 04 & 04 & l        & fun & gmo & gmo & 2017 & 2018 & Japan & Non China & Renewed   \\\\\n",
       "\t 04 & 04 & ln       & fun & gmo & gmo & 2017 & 2018 & Japan & Non China & Renewed   \\\\\n",
       "\t 04 & 04 & hyphen-l & fun & gmo & gmo & 2017 & 2018 & Japan & Non China & Not Renewd\\\\\n",
       "\t 04 & 04 & l        & fun & gmo & gmo & 2017 & 2018 & Japan & Non China & Renewed   \\\\\n",
       "\t 04 & 04 & l        & fun & gmo & gmo & 2017 & 2018 & Japan & Non China & Not Renewd\\\\\n",
       "\t 04 & 04 & l        & fun & gmo & gmo & 2017 & 2018 & Japan & Non China & Not Renewd\\\\\n",
       "\t 04 & 04 & l        & fun & gmo & gmo & 2017 & 2018 & Japan & Non China & Not Renewd\\\\\n",
       "\t 04 & 04 & l        & fun & gmo & gmo & 2017 & 2018 & Japan & Non China & Not Renewd\\\\\n",
       "\t 04 & 04 & l        & fun & gmo & gmo & 2017 & 2018 & Japan & Non China & Renewed   \\\\\n",
       "\t 04 & 04 & l        & fun & gmo & gmo & 2017 & 2018 & Japan & Non China & Not Renewd\\\\\n",
       "\t 04 & 04 & l        & fun & gmo & gmo & 2017 & 2019 & Japan & Non China & Renewed   \\\\\n",
       "\t 04 & 04 & l        & fun & gmo & gmo & 2017 & 2018 & Japan & Non China & Not Renewd\\\\\n",
       "\t 04 & 04 & hyphen-l & fun & gmo & gmo & 2017 & 2018 & Japan & Non China & Renewed   \\\\\n",
       "\t 04 & 04 & l        & fun & gmo & gmo & 2017 & 2018 & Japan & Non China & Renewed   \\\\\n",
       "\t 04 & 04 & l        & fun & gmo & gmo & 2017 & 2018 & Japan & Non China & Renewed   \\\\\n",
       "\t 04 & 04 & l        & fun & gmo & gmo & 2017 & 2018 & Japan & Non China & Renewed   \\\\\n",
       "\t 04 & 04 & l        & fun & gmo & gmo & 2017 & 2018 & Japan & Non China & Not Renewd\\\\\n",
       "\t 04 & 04 & l        & fun & gmo & gmo & 2017 & 2018 & Japan & Non China & Renewed   \\\\\n",
       "\t 04 & 04 & l        & fun & gmo & gmo & 2017 & 2018 & Japan & Non China & Renewed   \\\\\n",
       "\t 04 & 04 & l        & fun & gmo & gmo & 2017 & 2018 & Japan & Non China & Renewed   \\\\\n",
       "\t 04 & 04 & l        & fun & gmo & gmo & 2017 & 2018 & Japan & Non China & Not Renewd\\\\\n",
       "\t 04 & 04 & l        & fun & gmo & gmo & 2017 & 2018 & Japan & Non China & Not Renewd\\\\\n",
       "\t 04 & 04 & l        & fun & gmo & gmo & 2017 & 2019 & Japan & Non China & Renewed   \\\\\n",
       "\t ⋮ & ⋮ & ⋮ & ⋮ & ⋮ & ⋮ & ⋮ & ⋮ & ⋮ & ⋮ & ⋮\\\\\n",
       "\t 12 & 12 & l        & website & namecheap & namecheap & 2018 & 2019 & United States & Non China & Renewed   \\\\\n",
       "\t 12 & 12 & l        & website & namecheap & namecheap & 2018 & 2019 & United States & Non China & Not Renewd\\\\\n",
       "\t 12 & 12 & ln       & website & namecheap & namecheap & 2018 & 2019 & United States & Non China & Not Renewd\\\\\n",
       "\t 12 & 12 & l        & website & namecheap & namecheap & 2018 & 2019 & United States & Non China & Not Renewd\\\\\n",
       "\t 12 & 12 & ln       & website & namecheap & namecheap & 2018 & 2019 & United States & Non China & Renewed   \\\\\n",
       "\t 12 & 12 & ln       & website & namecheap & namecheap & 2018 & 2019 & United States & Non China & Not Renewd\\\\\n",
       "\t 12 & 12 & l        & website & namecheap & namecheap & 2018 & 2019 & United States & Non China & Renewed   \\\\\n",
       "\t 12 & 12 & l        & website & namecheap & namecheap & 2018 & 2019 & United States & Non China & Not Renewd\\\\\n",
       "\t 12 & 12 & l        & website & namecheap & namecheap & 2018 & 2019 & United States & Non China & Renewed   \\\\\n",
       "\t 12 & 12 & l        & website & namecheap & namecheap & 2018 & 2019 & United States & Non China & Not Renewd\\\\\n",
       "\t 12 & 12 & l        & website & namecheap & namecheap & 2018 & 2019 & United States & Non China & Not Renewd\\\\\n",
       "\t 12 & 12 & hyphen-l & website & namecheap & namecheap & 2018 & 2019 & United States & Non China & Not Renewd\\\\\n",
       "\t 12 & 12 & ln       & website & namecheap & namecheap & 2018 & 2019 & United States & Non China & Not Renewd\\\\\n",
       "\t 12 & 12 & l        & website & namecheap & namecheap & 2018 & 2019 & United States & Non China & Not Renewd\\\\\n",
       "\t 12 & 12 & l        & website & namecheap & namecheap & 2018 & 2019 & United States & Non China & Not Renewd\\\\\n",
       "\t 12 & 12 & l        & website & namecheap & namecheap & 2018 & 2019 & United States & Non China & Not Renewd\\\\\n",
       "\t 12 & 12 & l        & website & namecheap & namecheap & 2018 & 2019 & United States & Non China & Not Renewd\\\\\n",
       "\t 12 & 12 & ln       & website & namecheap & namecheap & 2018 & 2019 & United States & Non China & Not Renewd\\\\\n",
       "\t 12 & 12 & l        & website & namecheap & namecheap & 2018 & 2019 & United States & Non China & Not Renewd\\\\\n",
       "\t 12 & 12 & l        & website & namecheap & namecheap & 2018 & 2019 & United States & Non China & Renewed   \\\\\n",
       "\t 12 & 12 & l        & website & namecheap & namecheap & 2018 & 2019 & United States & Non China & Not Renewd\\\\\n",
       "\t 12 & 12 & l        & website & namecheap & namecheap & 2018 & 2019 & United States & Non China & Renewed   \\\\\n",
       "\t 12 & 12 & l        & website & namecheap & namecheap & 2018 & 2019 & United States & Non China & Not Renewd\\\\\n",
       "\t 12 & 12 & l        & website & namecheap & namecheap & 2018 & 2019 & United States & Non China & Renewed   \\\\\n",
       "\t 12 & 12 & l        & website & namecheap & namecheap & 2018 & 2019 & United States & Non China & Not Renewd\\\\\n",
       "\t 12 & 12 & l        & website & namecheap & namecheap & 2018 & 2019 & United States & Non China & Not Renewd\\\\\n",
       "\t 12 & 12 & l        & website & namecheap & namecheap & 2018 & 2019 & United States & Non China & Not Renewd\\\\\n",
       "\t 12 & 12 & l        & website & namecheap & namecheap & 2018 & 2019 & United States & Non China & Not Renewd\\\\\n",
       "\t 12 & 12 & l        & website & namecheap & namecheap & 2018 & 2019 & United States & Non China & Renewed   \\\\\n",
       "\t 12 & 12 & ln       & website & namecheap & namecheap & 2018 & 2019 & United States & Non China & Not Renewd\\\\\n",
       "\\end{tabular}\n"
      ],
      "text/markdown": [
       "\n",
       "A data.table: 1559265 × 11\n",
       "\n",
       "| expiry_M &lt;fct&gt; | creation_M &lt;fct&gt; | sld_type &lt;fct&gt; | tld &lt;fct&gt; | reseller &lt;fct&gt; | registrar &lt;fct&gt; | creation_Y &lt;fct&gt; | expiry_Y &lt;fct&gt; | reseller_country &lt;fct&gt; | region &lt;fct&gt; | renewal_status &lt;fct&gt; |\n",
       "|---|---|---|---|---|---|---|---|---|---|---|\n",
       "| 04 | 04 | l        | fun | gmo | gmo | 2017 | 2018 | Japan | Non China | Not Renewd |\n",
       "| 04 | 04 | l        | fun | gmo | gmo | 2017 | 2018 | Japan | Non China | Renewed    |\n",
       "| 04 | 04 | l        | fun | gmo | gmo | 2017 | 2018 | Japan | Non China | Not Renewd |\n",
       "| 04 | 04 | l        | fun | gmo | gmo | 2017 | 2018 | Japan | Non China | Not Renewd |\n",
       "| 04 | 04 | l        | fun | gmo | gmo | 2017 | 2018 | Japan | Non China | Not Renewd |\n",
       "| 04 | 04 | l        | fun | gmo | gmo | 2017 | 2018 | Japan | Non China | Renewed    |\n",
       "| 04 | 04 | l        | fun | gmo | gmo | 2017 | 2018 | Japan | Non China | Not Renewd |\n",
       "| 04 | 04 | l        | fun | gmo | gmo | 2017 | 2018 | Japan | Non China | Renewed    |\n",
       "| 04 | 04 | ln       | fun | gmo | gmo | 2017 | 2018 | Japan | Non China | Renewed    |\n",
       "| 04 | 04 | hyphen-l | fun | gmo | gmo | 2017 | 2018 | Japan | Non China | Not Renewd |\n",
       "| 04 | 04 | l        | fun | gmo | gmo | 2017 | 2018 | Japan | Non China | Renewed    |\n",
       "| 04 | 04 | l        | fun | gmo | gmo | 2017 | 2018 | Japan | Non China | Not Renewd |\n",
       "| 04 | 04 | l        | fun | gmo | gmo | 2017 | 2018 | Japan | Non China | Not Renewd |\n",
       "| 04 | 04 | l        | fun | gmo | gmo | 2017 | 2018 | Japan | Non China | Not Renewd |\n",
       "| 04 | 04 | l        | fun | gmo | gmo | 2017 | 2018 | Japan | Non China | Not Renewd |\n",
       "| 04 | 04 | l        | fun | gmo | gmo | 2017 | 2018 | Japan | Non China | Renewed    |\n",
       "| 04 | 04 | l        | fun | gmo | gmo | 2017 | 2018 | Japan | Non China | Not Renewd |\n",
       "| 04 | 04 | l        | fun | gmo | gmo | 2017 | 2019 | Japan | Non China | Renewed    |\n",
       "| 04 | 04 | l        | fun | gmo | gmo | 2017 | 2018 | Japan | Non China | Not Renewd |\n",
       "| 04 | 04 | hyphen-l | fun | gmo | gmo | 2017 | 2018 | Japan | Non China | Renewed    |\n",
       "| 04 | 04 | l        | fun | gmo | gmo | 2017 | 2018 | Japan | Non China | Renewed    |\n",
       "| 04 | 04 | l        | fun | gmo | gmo | 2017 | 2018 | Japan | Non China | Renewed    |\n",
       "| 04 | 04 | l        | fun | gmo | gmo | 2017 | 2018 | Japan | Non China | Renewed    |\n",
       "| 04 | 04 | l        | fun | gmo | gmo | 2017 | 2018 | Japan | Non China | Not Renewd |\n",
       "| 04 | 04 | l        | fun | gmo | gmo | 2017 | 2018 | Japan | Non China | Renewed    |\n",
       "| 04 | 04 | l        | fun | gmo | gmo | 2017 | 2018 | Japan | Non China | Renewed    |\n",
       "| 04 | 04 | l        | fun | gmo | gmo | 2017 | 2018 | Japan | Non China | Renewed    |\n",
       "| 04 | 04 | l        | fun | gmo | gmo | 2017 | 2018 | Japan | Non China | Not Renewd |\n",
       "| 04 | 04 | l        | fun | gmo | gmo | 2017 | 2018 | Japan | Non China | Not Renewd |\n",
       "| 04 | 04 | l        | fun | gmo | gmo | 2017 | 2019 | Japan | Non China | Renewed    |\n",
       "| ⋮ | ⋮ | ⋮ | ⋮ | ⋮ | ⋮ | ⋮ | ⋮ | ⋮ | ⋮ | ⋮ |\n",
       "| 12 | 12 | l        | website | namecheap | namecheap | 2018 | 2019 | United States | Non China | Renewed    |\n",
       "| 12 | 12 | l        | website | namecheap | namecheap | 2018 | 2019 | United States | Non China | Not Renewd |\n",
       "| 12 | 12 | ln       | website | namecheap | namecheap | 2018 | 2019 | United States | Non China | Not Renewd |\n",
       "| 12 | 12 | l        | website | namecheap | namecheap | 2018 | 2019 | United States | Non China | Not Renewd |\n",
       "| 12 | 12 | ln       | website | namecheap | namecheap | 2018 | 2019 | United States | Non China | Renewed    |\n",
       "| 12 | 12 | ln       | website | namecheap | namecheap | 2018 | 2019 | United States | Non China | Not Renewd |\n",
       "| 12 | 12 | l        | website | namecheap | namecheap | 2018 | 2019 | United States | Non China | Renewed    |\n",
       "| 12 | 12 | l        | website | namecheap | namecheap | 2018 | 2019 | United States | Non China | Not Renewd |\n",
       "| 12 | 12 | l        | website | namecheap | namecheap | 2018 | 2019 | United States | Non China | Renewed    |\n",
       "| 12 | 12 | l        | website | namecheap | namecheap | 2018 | 2019 | United States | Non China | Not Renewd |\n",
       "| 12 | 12 | l        | website | namecheap | namecheap | 2018 | 2019 | United States | Non China | Not Renewd |\n",
       "| 12 | 12 | hyphen-l | website | namecheap | namecheap | 2018 | 2019 | United States | Non China | Not Renewd |\n",
       "| 12 | 12 | ln       | website | namecheap | namecheap | 2018 | 2019 | United States | Non China | Not Renewd |\n",
       "| 12 | 12 | l        | website | namecheap | namecheap | 2018 | 2019 | United States | Non China | Not Renewd |\n",
       "| 12 | 12 | l        | website | namecheap | namecheap | 2018 | 2019 | United States | Non China | Not Renewd |\n",
       "| 12 | 12 | l        | website | namecheap | namecheap | 2018 | 2019 | United States | Non China | Not Renewd |\n",
       "| 12 | 12 | l        | website | namecheap | namecheap | 2018 | 2019 | United States | Non China | Not Renewd |\n",
       "| 12 | 12 | ln       | website | namecheap | namecheap | 2018 | 2019 | United States | Non China | Not Renewd |\n",
       "| 12 | 12 | l        | website | namecheap | namecheap | 2018 | 2019 | United States | Non China | Not Renewd |\n",
       "| 12 | 12 | l        | website | namecheap | namecheap | 2018 | 2019 | United States | Non China | Renewed    |\n",
       "| 12 | 12 | l        | website | namecheap | namecheap | 2018 | 2019 | United States | Non China | Not Renewd |\n",
       "| 12 | 12 | l        | website | namecheap | namecheap | 2018 | 2019 | United States | Non China | Renewed    |\n",
       "| 12 | 12 | l        | website | namecheap | namecheap | 2018 | 2019 | United States | Non China | Not Renewd |\n",
       "| 12 | 12 | l        | website | namecheap | namecheap | 2018 | 2019 | United States | Non China | Renewed    |\n",
       "| 12 | 12 | l        | website | namecheap | namecheap | 2018 | 2019 | United States | Non China | Not Renewd |\n",
       "| 12 | 12 | l        | website | namecheap | namecheap | 2018 | 2019 | United States | Non China | Not Renewd |\n",
       "| 12 | 12 | l        | website | namecheap | namecheap | 2018 | 2019 | United States | Non China | Not Renewd |\n",
       "| 12 | 12 | l        | website | namecheap | namecheap | 2018 | 2019 | United States | Non China | Not Renewd |\n",
       "| 12 | 12 | l        | website | namecheap | namecheap | 2018 | 2019 | United States | Non China | Renewed    |\n",
       "| 12 | 12 | ln       | website | namecheap | namecheap | 2018 | 2019 | United States | Non China | Not Renewd |\n",
       "\n"
      ],
      "text/plain": [
       "        expiry_M creation_M sld_type tld     reseller  registrar creation_Y\n",
       "1       04       04         l        fun     gmo       gmo       2017      \n",
       "2       04       04         l        fun     gmo       gmo       2017      \n",
       "3       04       04         l        fun     gmo       gmo       2017      \n",
       "4       04       04         l        fun     gmo       gmo       2017      \n",
       "5       04       04         l        fun     gmo       gmo       2017      \n",
       "6       04       04         l        fun     gmo       gmo       2017      \n",
       "7       04       04         l        fun     gmo       gmo       2017      \n",
       "8       04       04         l        fun     gmo       gmo       2017      \n",
       "9       04       04         ln       fun     gmo       gmo       2017      \n",
       "10      04       04         hyphen-l fun     gmo       gmo       2017      \n",
       "11      04       04         l        fun     gmo       gmo       2017      \n",
       "12      04       04         l        fun     gmo       gmo       2017      \n",
       "13      04       04         l        fun     gmo       gmo       2017      \n",
       "14      04       04         l        fun     gmo       gmo       2017      \n",
       "15      04       04         l        fun     gmo       gmo       2017      \n",
       "16      04       04         l        fun     gmo       gmo       2017      \n",
       "17      04       04         l        fun     gmo       gmo       2017      \n",
       "18      04       04         l        fun     gmo       gmo       2017      \n",
       "19      04       04         l        fun     gmo       gmo       2017      \n",
       "20      04       04         hyphen-l fun     gmo       gmo       2017      \n",
       "21      04       04         l        fun     gmo       gmo       2017      \n",
       "22      04       04         l        fun     gmo       gmo       2017      \n",
       "23      04       04         l        fun     gmo       gmo       2017      \n",
       "24      04       04         l        fun     gmo       gmo       2017      \n",
       "25      04       04         l        fun     gmo       gmo       2017      \n",
       "26      04       04         l        fun     gmo       gmo       2017      \n",
       "27      04       04         l        fun     gmo       gmo       2017      \n",
       "28      04       04         l        fun     gmo       gmo       2017      \n",
       "29      04       04         l        fun     gmo       gmo       2017      \n",
       "30      04       04         l        fun     gmo       gmo       2017      \n",
       "⋮       ⋮        ⋮          ⋮        ⋮       ⋮         ⋮         ⋮         \n",
       "1559236 12       12         l        website namecheap namecheap 2018      \n",
       "1559237 12       12         l        website namecheap namecheap 2018      \n",
       "1559238 12       12         ln       website namecheap namecheap 2018      \n",
       "1559239 12       12         l        website namecheap namecheap 2018      \n",
       "1559240 12       12         ln       website namecheap namecheap 2018      \n",
       "1559241 12       12         ln       website namecheap namecheap 2018      \n",
       "1559242 12       12         l        website namecheap namecheap 2018      \n",
       "1559243 12       12         l        website namecheap namecheap 2018      \n",
       "1559244 12       12         l        website namecheap namecheap 2018      \n",
       "1559245 12       12         l        website namecheap namecheap 2018      \n",
       "1559246 12       12         l        website namecheap namecheap 2018      \n",
       "1559247 12       12         hyphen-l website namecheap namecheap 2018      \n",
       "1559248 12       12         ln       website namecheap namecheap 2018      \n",
       "1559249 12       12         l        website namecheap namecheap 2018      \n",
       "1559250 12       12         l        website namecheap namecheap 2018      \n",
       "1559251 12       12         l        website namecheap namecheap 2018      \n",
       "1559252 12       12         l        website namecheap namecheap 2018      \n",
       "1559253 12       12         ln       website namecheap namecheap 2018      \n",
       "1559254 12       12         l        website namecheap namecheap 2018      \n",
       "1559255 12       12         l        website namecheap namecheap 2018      \n",
       "1559256 12       12         l        website namecheap namecheap 2018      \n",
       "1559257 12       12         l        website namecheap namecheap 2018      \n",
       "1559258 12       12         l        website namecheap namecheap 2018      \n",
       "1559259 12       12         l        website namecheap namecheap 2018      \n",
       "1559260 12       12         l        website namecheap namecheap 2018      \n",
       "1559261 12       12         l        website namecheap namecheap 2018      \n",
       "1559262 12       12         l        website namecheap namecheap 2018      \n",
       "1559263 12       12         l        website namecheap namecheap 2018      \n",
       "1559264 12       12         l        website namecheap namecheap 2018      \n",
       "1559265 12       12         ln       website namecheap namecheap 2018      \n",
       "        expiry_Y reseller_country region    renewal_status\n",
       "1       2018     Japan            Non China Not Renewd    \n",
       "2       2018     Japan            Non China Renewed       \n",
       "3       2018     Japan            Non China Not Renewd    \n",
       "4       2018     Japan            Non China Not Renewd    \n",
       "5       2018     Japan            Non China Not Renewd    \n",
       "6       2018     Japan            Non China Renewed       \n",
       "7       2018     Japan            Non China Not Renewd    \n",
       "8       2018     Japan            Non China Renewed       \n",
       "9       2018     Japan            Non China Renewed       \n",
       "10      2018     Japan            Non China Not Renewd    \n",
       "11      2018     Japan            Non China Renewed       \n",
       "12      2018     Japan            Non China Not Renewd    \n",
       "13      2018     Japan            Non China Not Renewd    \n",
       "14      2018     Japan            Non China Not Renewd    \n",
       "15      2018     Japan            Non China Not Renewd    \n",
       "16      2018     Japan            Non China Renewed       \n",
       "17      2018     Japan            Non China Not Renewd    \n",
       "18      2019     Japan            Non China Renewed       \n",
       "19      2018     Japan            Non China Not Renewd    \n",
       "20      2018     Japan            Non China Renewed       \n",
       "21      2018     Japan            Non China Renewed       \n",
       "22      2018     Japan            Non China Renewed       \n",
       "23      2018     Japan            Non China Renewed       \n",
       "24      2018     Japan            Non China Not Renewd    \n",
       "25      2018     Japan            Non China Renewed       \n",
       "26      2018     Japan            Non China Renewed       \n",
       "27      2018     Japan            Non China Renewed       \n",
       "28      2018     Japan            Non China Not Renewd    \n",
       "29      2018     Japan            Non China Not Renewd    \n",
       "30      2019     Japan            Non China Renewed       \n",
       "⋮       ⋮        ⋮                ⋮         ⋮             \n",
       "1559236 2019     United States    Non China Renewed       \n",
       "1559237 2019     United States    Non China Not Renewd    \n",
       "1559238 2019     United States    Non China Not Renewd    \n",
       "1559239 2019     United States    Non China Not Renewd    \n",
       "1559240 2019     United States    Non China Renewed       \n",
       "1559241 2019     United States    Non China Not Renewd    \n",
       "1559242 2019     United States    Non China Renewed       \n",
       "1559243 2019     United States    Non China Not Renewd    \n",
       "1559244 2019     United States    Non China Renewed       \n",
       "1559245 2019     United States    Non China Not Renewd    \n",
       "1559246 2019     United States    Non China Not Renewd    \n",
       "1559247 2019     United States    Non China Not Renewd    \n",
       "1559248 2019     United States    Non China Not Renewd    \n",
       "1559249 2019     United States    Non China Not Renewd    \n",
       "1559250 2019     United States    Non China Not Renewd    \n",
       "1559251 2019     United States    Non China Not Renewd    \n",
       "1559252 2019     United States    Non China Not Renewd    \n",
       "1559253 2019     United States    Non China Not Renewd    \n",
       "1559254 2019     United States    Non China Not Renewd    \n",
       "1559255 2019     United States    Non China Renewed       \n",
       "1559256 2019     United States    Non China Not Renewd    \n",
       "1559257 2019     United States    Non China Renewed       \n",
       "1559258 2019     United States    Non China Not Renewd    \n",
       "1559259 2019     United States    Non China Renewed       \n",
       "1559260 2019     United States    Non China Not Renewd    \n",
       "1559261 2019     United States    Non China Not Renewd    \n",
       "1559262 2019     United States    Non China Not Renewd    \n",
       "1559263 2019     United States    Non China Not Renewd    \n",
       "1559264 2019     United States    Non China Renewed       \n",
       "1559265 2019     United States    Non China Not Renewd    "
      ]
     },
     "metadata": {},
     "output_type": "display_data"
    }
   ],
   "source": [
    "train_df_f_summ2"
   ]
  },
  {
   "cell_type": "markdown",
   "metadata": {},
   "source": [
    "### For now, flagging all 'reg_' variables as leaked vars <br> except for reg_period: initial term of registration"
   ]
  },
  {
   "cell_type": "code",
   "execution_count": null,
   "metadata": {},
   "outputs": [],
   "source": [
    "objects()"
   ]
  },
  {
   "cell_type": "markdown",
   "metadata": {},
   "source": [
    "## VarImp of XLtree_01"
   ]
  },
  {
   "cell_type": "code",
   "execution_count": 8,
   "metadata": {},
   "outputs": [],
   "source": [
    "varimp_01 <- varimp(xltree_01)"
   ]
  },
  {
   "cell_type": "code",
   "execution_count": 3,
   "metadata": {},
   "outputs": [],
   "source": [
    "load('../../data/output/txl_predict_01_d5')"
   ]
  },
  {
   "cell_type": "code",
   "execution_count": null,
   "metadata": {},
   "outputs": [],
   "source": []
  },
  {
   "cell_type": "code",
   "execution_count": 5,
   "metadata": {},
   "outputs": [
    {
     "data": {
      "text/html": [
       "'txl_predict_01_2'"
      ],
      "text/latex": [
       "'txl\\_predict\\_01\\_2'"
      ],
      "text/markdown": [
       "'txl_predict_01_2'"
      ],
      "text/plain": [
       "[1] \"txl_predict_01_2\""
      ]
     },
     "metadata": {},
     "output_type": "display_data"
    }
   ],
   "source": [
    "objects()"
   ]
  },
  {
   "cell_type": "code",
   "execution_count": 6,
   "metadata": {},
   "outputs": [
    {
     "data": {
      "text/html": [
       "<style>\n",
       ".dl-inline {width: auto; margin:0; padding: 0}\n",
       ".dl-inline>dt, .dl-inline>dd {float: none; width: auto; display: inline-block}\n",
       ".dl-inline>dt::after {content: \":\\0020\"; padding-right: .5ex}\n",
       ".dl-inline>dt:not(:first-of-type) {padding-left: .5ex}\n",
       "</style><dl class=dl-inline><dt>1</dt><dd>Not Renewd</dd><dt>2</dt><dd>Not Renewd</dd><dt>3</dt><dd>Not Renewd</dd><dt>4</dt><dd>Not Renewd</dd><dt>5</dt><dd>Not Renewd</dd><dt>6</dt><dd>Not Renewd</dd></dl>\n",
       "\n",
       "<details>\n",
       "\t<summary style=display:list-item;cursor:pointer>\n",
       "\t\t<strong>Levels</strong>:\n",
       "\t</summary>\n",
       "\t<style>\n",
       "\t.list-inline {list-style: none; margin:0; padding: 0}\n",
       "\t.list-inline>li {display: inline-block}\n",
       "\t.list-inline>li:not(:last-child)::after {content: \"\\00b7\"; padding: 0 .5ex}\n",
       "\t</style>\n",
       "\t<ol class=list-inline><li>'Not Renewd'</li><li>'Renewed'</li></ol>\n",
       "</details>"
      ],
      "text/latex": [
       "\\begin{description*}\n",
       "\\item[1] Not Renewd\n",
       "\\item[2] Not Renewd\n",
       "\\item[3] Not Renewd\n",
       "\\item[4] Not Renewd\n",
       "\\item[5] Not Renewd\n",
       "\\item[6] Not Renewd\n",
       "\\end{description*}\n",
       "\n",
       "\\emph{Levels}: \\begin{enumerate*}\n",
       "\\item 'Not Renewd'\n",
       "\\item 'Renewed'\n",
       "\\end{enumerate*}\n"
      ],
      "text/markdown": [
       "1\n",
       ":   Not Renewd2\n",
       ":   Not Renewd3\n",
       ":   Not Renewd4\n",
       ":   Not Renewd5\n",
       ":   Not Renewd6\n",
       ":   Not Renewd\n",
       "\n",
       "\n",
       "**Levels**: 1. 'Not Renewd'\n",
       "2. 'Renewed'\n",
       "\n",
       "\n"
      ],
      "text/plain": [
       "         1          2          3          4          5          6 \n",
       "Not Renewd Not Renewd Not Renewd Not Renewd Not Renewd Not Renewd \n",
       "Levels: Not Renewd Renewed"
      ]
     },
     "metadata": {},
     "output_type": "display_data"
    }
   ],
   "source": [
    "head(txl_predict_01_2)"
   ]
  },
  {
   "cell_type": "code",
   "execution_count": null,
   "metadata": {},
   "outputs": [],
   "source": []
  }
 ],
 "metadata": {
  "environment": {
   "name": "r-cpu.3-6.m48",
   "type": "gcloud",
   "uri": "gcr.io/deeplearning-platform-release/r-cpu.3-6:m48"
  },
  "kernelspec": {
   "display_name": "R",
   "language": "R",
   "name": "ir"
  },
  "language_info": {
   "codemirror_mode": "r",
   "file_extension": ".r",
   "mimetype": "text/x-r-source",
   "name": "R",
   "pygments_lexer": "r",
   "version": "3.6.3"
  }
 },
 "nbformat": 4,
 "nbformat_minor": 4
}
