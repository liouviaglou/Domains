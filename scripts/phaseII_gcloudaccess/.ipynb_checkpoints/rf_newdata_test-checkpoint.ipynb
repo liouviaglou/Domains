{
 "cells": [
  {
   "cell_type": "markdown",
   "metadata": {},
   "source": [
    "# Test RF on new data"
   ]
  },
  {
   "cell_type": "code",
   "execution_count": 2,
   "metadata": {},
   "outputs": [],
   "source": [
    "# install.packages(\"rPython\",repos='http://cran.us.r-project.org')\n",
    "# # “package ‘rPython’ is not available (for R version 3.6.3)”\n",
    "\n",
    "# packageurl <- \"https://cran.r-project.org/src/contrib/Archive/rPython/rPython_0.0-6.tar.gz\"\n",
    "# install.packages(packageurl, repos=NULL, type=\"source\")\n",
    "# # “installation of package ‘/tmp/Rtmp4Wu00p/downloaded_packages/rPython_0.0-6.tar.gz’ had non-zero exit status”\n",
    "\n",
    "# wget https://cran.r-project.org/src/contrib/Archive/rPython/rPython_0.0-6.tar.gz\n",
    "# R CMD INSTALL ggplot2_0.9.1.tar.gz"
   ]
  },
  {
   "cell_type": "code",
   "execution_count": 57,
   "metadata": {},
   "outputs": [],
   "source": [
    "# # this worked:\n",
    "# require(devtools)\n",
    "# install_version(\"rPython\", version = \"0.0-6\", repos = \"http://cran.us.r-project.org\")"
   ]
  },
  {
   "cell_type": "code",
   "execution_count": 56,
   "metadata": {},
   "outputs": [],
   "source": [
    "# install.packages(\"rgl\", dependencies = TRUE)\n",
    "# Warning message in install.packages(\"rgl\", dependencies = TRUE):\n",
    "# “installation of package ‘rgl’ had non-zero exit status”\n",
    "# Warning message in install.packages(\"rgl\", dependencies = TRUE):\n",
    "# “installation of package ‘alphashape3d’ had non-zero exit status”"
   ]
  },
  {
   "cell_type": "code",
   "execution_count": 55,
   "metadata": {},
   "outputs": [],
   "source": [
    "# # this worked:\n",
    "# install.packages(\"devtools\")\n",
    "# library(devtools)\n",
    "# install.packages(\"rgl\")\n",
    "# library(rgl)"
   ]
  },
  {
   "cell_type": "code",
   "execution_count": null,
   "metadata": {},
   "outputs": [],
   "source": [
    "# Had to install magick via:\n",
    "# sudo apt-get install libmagick++-dev"
   ]
  },
  {
   "cell_type": "code",
   "execution_count": 83,
   "metadata": {},
   "outputs": [
    {
     "name": "stderr",
     "output_type": "stream",
     "text": [
      "Installing package into ‘/home/jupyter/.R/library’\n",
      "(as ‘lib’ is unspecified)\n",
      "\n"
     ]
    }
   ],
   "source": [
    "# install.packages(\"stringdist\")"
   ]
  },
  {
   "cell_type": "code",
   "execution_count": 3,
   "metadata": {},
   "outputs": [
    {
     "name": "stderr",
     "output_type": "stream",
     "text": [
      "\n",
      "Attaching package: ‘dplyr’\n",
      "\n",
      "\n",
      "The following objects are masked from ‘package:stats’:\n",
      "\n",
      "    filter, lag\n",
      "\n",
      "\n",
      "The following objects are masked from ‘package:base’:\n",
      "\n",
      "    intersect, setdiff, setequal, union\n",
      "\n",
      "\n",
      "\n",
      "Attaching package: ‘data.table’\n",
      "\n",
      "\n",
      "The following objects are masked from ‘package:dplyr’:\n",
      "\n",
      "    between, first, last\n",
      "\n",
      "\n",
      "Loading required package: grid\n",
      "\n",
      "Loading required package: libcoin\n",
      "\n",
      "Loading required package: mvtnorm\n",
      "\n",
      "Loading required package: lattice\n",
      "\n",
      "Loading required package: ggplot2\n",
      "\n",
      "randomForest 4.6-14\n",
      "\n",
      "Type rfNews() to see new features/changes/bug fixes.\n",
      "\n",
      "\n",
      "Attaching package: ‘randomForest’\n",
      "\n",
      "\n",
      "The following object is masked from ‘package:ggplot2’:\n",
      "\n",
      "    margin\n",
      "\n",
      "\n",
      "The following object is masked from ‘package:dplyr’:\n",
      "\n",
      "    combine\n",
      "\n",
      "\n",
      "\n",
      "Attaching package: ‘ranger’\n",
      "\n",
      "\n",
      "The following object is masked from ‘package:randomForest’:\n",
      "\n",
      "    importance\n",
      "\n",
      "\n",
      "\n",
      "Attaching package: ‘plotly’\n",
      "\n",
      "\n",
      "The following object is masked from ‘package:ggplot2’:\n",
      "\n",
      "    last_plot\n",
      "\n",
      "\n",
      "The following object is masked from ‘package:stats’:\n",
      "\n",
      "    filter\n",
      "\n",
      "\n",
      "The following object is masked from ‘package:graphics’:\n",
      "\n",
      "    layout\n",
      "\n",
      "\n",
      "Loading required package: RJSONIO\n",
      "\n"
     ]
    },
    {
     "data": {
      "text/html": [
       "'/home/jupyter/local/Domains_202003/scripts/phaseII_gcloudaccess'"
      ],
      "text/latex": [
       "'/home/jupyter/local/Domains\\_202003/scripts/phaseII\\_gcloudaccess'"
      ],
      "text/markdown": [
       "'/home/jupyter/local/Domains_202003/scripts/phaseII_gcloudaccess'"
      ],
      "text/plain": [
       "[1] \"/home/jupyter/local/Domains_202003/scripts/phaseII_gcloudaccess\""
      ]
     },
     "metadata": {},
     "output_type": "display_data"
    }
   ],
   "source": [
    "library(dplyr)\n",
    "library(data.table)\n",
    "library(partykit)\n",
    "library(tictoc)\n",
    "library(caret)\n",
    "library(e1071)\n",
    "library(randomForest)\n",
    "library(ranger)\n",
    "\n",
    "#for 3d plotting\n",
    "library(akima)\n",
    "library(plotly)\n",
    "\n",
    "# for prep data\n",
    "library(rPython)\n",
    "library(stringr)\n",
    "library(pbapply)\n",
    "library(stringdist)\n",
    "\n",
    "getwd()"
   ]
  },
  {
   "cell_type": "code",
   "execution_count": 60,
   "metadata": {},
   "outputs": [],
   "source": [
    "\n",
    "source('../orig/functions.R')\n",
    "\n",
    "source('../orig/functions_models.R')\n",
    "\n",
    "source('functions_eval.R')\n"
   ]
  },
  {
   "cell_type": "markdown",
   "metadata": {},
   "source": [
    "## load data & model"
   ]
  },
  {
   "cell_type": "markdown",
   "metadata": {},
   "source": [
    "ranger_03 was trained in dtree_xl notebook on the following predictors:\n",
    "\n",
    "\n",
    "renewal_status ~\n",
    "\n",
    "tld\n",
    "\n",
    "registrar\n",
    "\n",
    "reseller\n",
    "\n",
    "reseller_country\n",
    "\n",
    "region\n",
    "\n",
    "reg_period\n",
    "\n",
    "sld_type\n",
    "\n",
    "sld_length\n",
    "\n",
    "day_domains\n",
    "\n",
    "gibb_score\n",
    "\n",
    "pattern_domain_count"
   ]
  },
  {
   "cell_type": "raw",
   "metadata": {},
   "source": [
    "    formula         = renewal_status ~ ., \n",
    "    data            = train_df_f_sub, \n",
    "    importance = 'impurity', \n",
    "    num.trees       = 500,\n",
    "    class.weights = c(3,4),\n",
    "    probability = TRUE,\n",
    "    mtry            = 5,\n",
    "    min.node.size   = 10,\n",
    "    replace = FALSE,\n",
    "    sample.fraction = .725,\n",
    "    seed            = 123"
   ]
  },
  {
   "cell_type": "raw",
   "metadata": {},
   "source": [
    "AUC of 0.9045891760674"
   ]
  },
  {
   "cell_type": "code",
   "execution_count": 3,
   "metadata": {},
   "outputs": [],
   "source": [
    "# system(\"gsutil cp gs://data_outputt/output/expiry_data /home/jupyter/local/Domains_202003/data/expiry_data\")\n",
    "# expiry_data <- readRDS(\"/home/jupyter/local/Domains_202003/data/expiry_data\")\n",
    "\n",
    "# system(\"gsutil cp gs://data_outputt/output/ranger_03 /home/jupyter/local/Domains_202003/data/ranger_03\")\n",
    "# load('../../data/ranger_03')\n"
   ]
  },
  {
   "cell_type": "code",
   "execution_count": 60,
   "metadata": {},
   "outputs": [
    {
     "data": {
      "text/html": [
       "<style>\n",
       ".list-inline {list-style: none; margin:0; padding: 0}\n",
       ".list-inline>li {display: inline-block}\n",
       ".list-inline>li:not(:last-child)::after {content: \"\\00b7\"; padding: 0 .5ex}\n",
       "</style>\n",
       "<ol class=list-inline><li>'expiry_data'</li><li>'expiry_test'</li><li>'expiry_train'</li><li>'expiry_vars'</li><li>'packageurl'</li><li>'ranger_03'</li><li>'ranger_03_vars'</li><li>'test_index'</li><li>'train_index'</li></ol>\n"
      ],
      "text/latex": [
       "\\begin{enumerate*}\n",
       "\\item 'expiry\\_data'\n",
       "\\item 'expiry\\_test'\n",
       "\\item 'expiry\\_train'\n",
       "\\item 'expiry\\_vars'\n",
       "\\item 'packageurl'\n",
       "\\item 'ranger\\_03'\n",
       "\\item 'ranger\\_03\\_vars'\n",
       "\\item 'test\\_index'\n",
       "\\item 'train\\_index'\n",
       "\\end{enumerate*}\n"
      ],
      "text/markdown": [
       "1. 'expiry_data'\n",
       "2. 'expiry_test'\n",
       "3. 'expiry_train'\n",
       "4. 'expiry_vars'\n",
       "5. 'packageurl'\n",
       "6. 'ranger_03'\n",
       "7. 'ranger_03_vars'\n",
       "8. 'test_index'\n",
       "9. 'train_index'\n",
       "\n",
       "\n"
      ],
      "text/plain": [
       "[1] \"expiry_data\"    \"expiry_test\"    \"expiry_train\"   \"expiry_vars\"   \n",
       "[5] \"packageurl\"     \"ranger_03\"      \"ranger_03_vars\" \"test_index\"    \n",
       "[9] \"train_index\"   "
      ]
     },
     "metadata": {},
     "output_type": "display_data"
    }
   ],
   "source": [
    "ls()"
   ]
  },
  {
   "cell_type": "markdown",
   "metadata": {},
   "source": [
    "## create test train split"
   ]
  },
  {
   "cell_type": "code",
   "execution_count": 6,
   "metadata": {},
   "outputs": [],
   "source": [
    "# set.seed(0)\n",
    "# train_index <- sample(1:nrow(expiry_data), 0.8 * nrow(expiry_data))\n",
    "# test_index <- setdiff(1:nrow(expiry_data), train_index)\n",
    "\n",
    "# expiry_train <- expiry_data[train_index,]\n",
    "# expiry_test <- expiry_data[test_index,]"
   ]
  },
  {
   "cell_type": "code",
   "execution_count": 7,
   "metadata": {},
   "outputs": [
    {
     "data": {
      "text/plain": [
       "\n",
       "Not Renewd    Renewed \n",
       " 0.8257068  0.1742932 "
      ]
     },
     "metadata": {},
     "output_type": "display_data"
    },
    {
     "data": {
      "text/plain": [
       "\n",
       "Not Renewd    Renewed \n",
       " 0.8248038  0.1751962 "
      ]
     },
     "metadata": {},
     "output_type": "display_data"
    }
   ],
   "source": [
    "# Not Renewd    Renewed \n",
    "#  0.8257068  0.1742932 \n",
    "\n",
    "# Not Renewd    Renewed \n",
    "#  0.8248038  0.1751962 \n",
    "\n",
    "prop.table(table(expiry_train$renewal_status))\n",
    "prop.table(table(expiry_test$renewal_status))"
   ]
  },
  {
   "cell_type": "code",
   "execution_count": 8,
   "metadata": {},
   "outputs": [],
   "source": [
    "# saveRDS(expiry_train,\"../../data/output/expiry_train\")\n",
    "# saveRDS(expiry_test,\"../../data/output/expiry_test\")\n",
    "# system(\"gsutil cp /home/jupyter/local/Domains_202003/data/output/* gs://data_outputt/output/\")\n",
    "\n",
    "# expiry_train <- readRDS(file.path('../../data/output/',\"expiry_data\"))"
   ]
  },
  {
   "cell_type": "code",
   "execution_count": 2,
   "metadata": {},
   "outputs": [],
   "source": [
    "# expiry_data <- readRDS(\"/home/jupyter/local/Domains_202003/data/expiry_data\")\n",
    "# expiry_train <- readRDS(\"/home/jupyter/local/Domains_202003/data/expiry_train\")\n",
    "# expiry_test <- readRDS(\"/home/jupyter/local/Domains_202003/data/expiry_test\")\n",
    "\n",
    "# expiry_test_prepped <- readRDS(\"/home/jupyter/local/Domains_202003/data/output/expiry_test_prepped\")\n",
    "\n",
    "expiry_test_prepped_2 <- readRDS(\"/home/jupyter/local/Domains_202003/data/output/expiry_test_prepped_2\")\n",
    "\n",
    "# system(\"gsutil cp gs://data_outputt/output/ranger_03 /home/jupyter/local/Domains_202003/data/ranger_03\")\n",
    "# load('../../data/ranger_03')\n"
   ]
  },
  {
   "cell_type": "code",
   "execution_count": 9,
   "metadata": {},
   "outputs": [
    {
     "data": {
      "text/html": [
       "<style>\n",
       ".list-inline {list-style: none; margin:0; padding: 0}\n",
       ".list-inline>li {display: inline-block}\n",
       ".list-inline>li:not(:last-child)::after {content: \"\\00b7\"; padding: 0 .5ex}\n",
       "</style>\n",
       "<ol class=list-inline><li>348672</li><li>27</li></ol>\n"
      ],
      "text/latex": [
       "\\begin{enumerate*}\n",
       "\\item 348672\n",
       "\\item 27\n",
       "\\end{enumerate*}\n"
      ],
      "text/markdown": [
       "1. 348672\n",
       "2. 27\n",
       "\n",
       "\n"
      ],
      "text/plain": [
       "[1] 348672     27"
      ]
     },
     "metadata": {},
     "output_type": "display_data"
    },
    {
     "data": {
      "text/html": [
       "<style>\n",
       ".list-inline {list-style: none; margin:0; padding: 0}\n",
       ".list-inline>li {display: inline-block}\n",
       ".list-inline>li:not(:last-child)::after {content: \"\\00b7\"; padding: 0 .5ex}\n",
       "</style>\n",
       "<ol class=list-inline><li>348591</li><li>39</li></ol>\n"
      ],
      "text/latex": [
       "\\begin{enumerate*}\n",
       "\\item 348591\n",
       "\\item 39\n",
       "\\end{enumerate*}\n"
      ],
      "text/markdown": [
       "1. 348591\n",
       "2. 39\n",
       "\n",
       "\n"
      ],
      "text/plain": [
       "[1] 348591     39"
      ]
     },
     "metadata": {},
     "output_type": "display_data"
    }
   ],
   "source": [
    "dim(expiry_test)\n",
    "dim(expiry_test_prepped)"
   ]
  },
  {
   "cell_type": "code",
   "execution_count": 4,
   "metadata": {},
   "outputs": [
    {
     "data": {
      "text/html": [
       "1765"
      ],
      "text/latex": [
       "1765"
      ],
      "text/markdown": [
       "1765"
      ],
      "text/plain": [
       "[1] 1765"
      ]
     },
     "metadata": {},
     "output_type": "display_data"
    }
   ],
   "source": [
    "length(expiry_test_prepped_2)"
   ]
  },
  {
   "cell_type": "code",
   "execution_count": 7,
   "metadata": {},
   "outputs": [],
   "source": [
    "library(data.table)\n",
    "expiry_test_df <- rbindlist(expiry_test_prepped_2, fill=TRUE)"
   ]
  },
  {
   "cell_type": "code",
   "execution_count": 8,
   "metadata": {},
   "outputs": [
    {
     "data": {
      "text/html": [
       "<style>\n",
       ".list-inline {list-style: none; margin:0; padding: 0}\n",
       ".list-inline>li {display: inline-block}\n",
       ".list-inline>li:not(:last-child)::after {content: \"\\00b7\"; padding: 0 .5ex}\n",
       "</style>\n",
       "<ol class=list-inline><li>348591</li><li>39</li></ol>\n"
      ],
      "text/latex": [
       "\\begin{enumerate*}\n",
       "\\item 348591\n",
       "\\item 39\n",
       "\\end{enumerate*}\n"
      ],
      "text/markdown": [
       "1. 348591\n",
       "2. 39\n",
       "\n",
       "\n"
      ],
      "text/plain": [
       "[1] 348591     39"
      ]
     },
     "metadata": {},
     "output_type": "display_data"
    }
   ],
   "source": [
    "dim(expiry_test_df)"
   ]
  },
  {
   "cell_type": "markdown",
   "metadata": {},
   "source": [
    "## gen gibb score"
   ]
  },
  {
   "cell_type": "code",
   "execution_count": null,
   "metadata": {},
   "outputs": [],
   "source": [
    "# see script prep_expiry.R\n",
    "\n",
    "# python.load(\"../orig/gibb_detect/gib_detect.py\",TRUE)\n",
    "\n",
    "# suppressWarnings(expiry_train_prepped <- prep_domain_data(expiry_train))\n",
    "\n",
    "# ls()\n",
    "\n",
    "\n",
    "# suppressWarnings(expiry_test_prepped <- prep_domain_data(expiry_test))\n",
    "\n",
    "# dim(expiry_train)\n",
    "# dim(expiry_train_prepped)\n",
    "# dim(expiry_test)\n",
    "# dim(expiry_test_prepped)\n",
    "\n",
    "# saveRDS(expiry_train_prepped,\"../../data/output/expiry_train_prepped\")\n",
    "# saveRDS(expiry_test_prepped,\"../../data/output/expiry_test_prepped\")\n",
    "# system(\"gsutil cp /home/jupyter/local/Domains_202003/data/output/* gs://data_outputt/output/\")\n",
    "\n",
    "# # expiry_train <- readRDS(file.path('../../data/output/',\"expiry_data\"))\n",
    "\n",
    "# prep_domain_data<-function(domain_data) {\n",
    "# domain_data<-basic_prep_domain_data(domain_data)\n",
    "# # python.load(\"/home/radmin/npv_project/gibb_detect/gib_detect.py\",TRUE)\n",
    "# # \n",
    "\n",
    "\n",
    "\n",
    "# # \n",
    "# #Get Gibberish Scores for all SLDs\n",
    "\n",
    "# domain_data$gibb_score<-mapply(python.call, \"gibberish_test\", domain_data$sld)\n",
    "\n",
    "# #Get Coeff-Variation on all days\n",
    "# domain_data<-pblapply(split(domain_data, domain_data$creation_date), \n",
    "#                     function(i) get_cluster_large(i, 0.3, 30000))\n",
    "# domain_data<-rbindlist(domain_data)\n",
    "# domain_data$gibb_score<-round(domain_data$gibb_score*100,2)\n",
    "\n",
    "# return(domain_data)\n",
    "# }\n",
    "\n",
    "\n",
    "\n",
    "# python.load(\"../orig/gibb_detect/gib_detect_train.py\",TRUE)\n",
    "\n",
    "\n",
    "# python.load(\"../orig/gibb_detect/gib_detect.py\",TRUE)\n",
    "\n",
    "# # \n",
    "# #Get Gibberish Scores for all SLDs\n",
    "\n",
    "# domain_data$gibb_score<-mapply(python.call, \"gibberish_test\", domain_data$sld)\n",
    "\n",
    "# #Get Coeff-Variation on all days\n",
    "# domain_data<-pblapply(split(domain_data, domain_data$creation_date), \n",
    "#                     function(i) get_cluster_large(i, 0.3, 30000))\n",
    "# domain_data<-rbindlist(domain_data)\n",
    "# domain_data$gibb_score<-round(domain_data$gibb_score*100,2)"
   ]
  },
  {
   "cell_type": "markdown",
   "metadata": {},
   "source": [
    "## test ranger_03 on expiry_test"
   ]
  },
  {
   "cell_type": "code",
   "execution_count": 18,
   "metadata": {},
   "outputs": [
    {
     "name": "stdout",
     "output_type": "stream",
     "text": [
      "Aggregating predictions.. Progress: 72%. Estimated remaining time: 12 seconds.\n",
      "model predict: 86.684 sec elapsed\n",
      "eval saving: 0.146 sec elapsed\n"
     ]
    }
   ],
   "source": [
    "# Aggregating predictions.. Progress: 72%. Estimated remaining time: 12 seconds.\n",
    "# model predict: 86.684 sec elapsed\n",
    "# eval saving: 0.146 sec elapsed\n",
    "\n",
    "tic(\"model predict\")\n",
    "ranger_predict_03_exptest <- predict(ranger_03, \n",
    "                          data = expiry_test_prepped,\n",
    "                          type=\"response\")$predictions\n",
    "toc()\n",
    "\n",
    "tic(\"eval saving\")\n",
    "\n",
    "ranger_predict_03_exptest <- as.data.frame(ranger_predict_03_exptest)$Renewed\n",
    "\n",
    "save(ranger_predict_03_exptest, \n",
    "     file=\"../../data/output/ranger_predict_03_exptest\")\n",
    "toc()\n"
   ]
  },
  {
   "cell_type": "code",
   "execution_count": 21,
   "metadata": {},
   "outputs": [
    {
     "data": {
      "text/html": [
       "<style>\n",
       ".list-inline {list-style: none; margin:0; padding: 0}\n",
       ".list-inline>li {display: inline-block}\n",
       ".list-inline>li:not(:last-child)::after {content: \"\\00b7\"; padding: 0 .5ex}\n",
       "</style>\n",
       "<ol class=list-inline><li>0.297809915361007</li><li>0.181995608486512</li><li>0.226871202815937</li><li>0.021335640216549</li><li>0.193479524927664</li><li>0.432496669209513</li></ol>\n"
      ],
      "text/latex": [
       "\\begin{enumerate*}\n",
       "\\item 0.297809915361007\n",
       "\\item 0.181995608486512\n",
       "\\item 0.226871202815937\n",
       "\\item 0.021335640216549\n",
       "\\item 0.193479524927664\n",
       "\\item 0.432496669209513\n",
       "\\end{enumerate*}\n"
      ],
      "text/markdown": [
       "1. 0.297809915361007\n",
       "2. 0.181995608486512\n",
       "3. 0.226871202815937\n",
       "4. 0.021335640216549\n",
       "5. 0.193479524927664\n",
       "6. 0.432496669209513\n",
       "\n",
       "\n"
      ],
      "text/plain": [
       "[1] 0.29780992 0.18199561 0.22687120 0.02133564 0.19347952 0.43249667"
      ]
     },
     "metadata": {},
     "output_type": "display_data"
    }
   ],
   "source": [
    "head(ranger_predict_03_exptest)"
   ]
  },
  {
   "cell_type": "code",
   "execution_count": 19,
   "metadata": {},
   "outputs": [
    {
     "data": {
      "text/html": [
       "348591"
      ],
      "text/latex": [
       "348591"
      ],
      "text/markdown": [
       "348591"
      ],
      "text/plain": [
       "[1] 348591"
      ]
     },
     "metadata": {},
     "output_type": "display_data"
    }
   ],
   "source": [
    "length(ranger_predict_03_exptest)"
   ]
  },
  {
   "cell_type": "code",
   "execution_count": 16,
   "metadata": {},
   "outputs": [
    {
     "data": {
      "text/html": [
       "<style>\n",
       ".list-inline {list-style: none; margin:0; padding: 0}\n",
       ".list-inline>li {display: inline-block}\n",
       ".list-inline>li:not(:last-child)::after {content: \"\\00b7\"; padding: 0 .5ex}\n",
       "</style>\n",
       "<ol class=list-inline><li>140</li><li>39</li></ol>\n"
      ],
      "text/latex": [
       "\\begin{enumerate*}\n",
       "\\item 140\n",
       "\\item 39\n",
       "\\end{enumerate*}\n"
      ],
      "text/markdown": [
       "1. 140\n",
       "2. 39\n",
       "\n",
       "\n"
      ],
      "text/plain": [
       "[1] 140  39"
      ]
     },
     "metadata": {},
     "output_type": "display_data"
    }
   ],
   "source": [
    "dim(na.omit(expiry_test_prepped))"
   ]
  },
  {
   "cell_type": "code",
   "execution_count": 17,
   "metadata": {},
   "outputs": [
    {
     "data": {
      "text/html": [
       "<style>\n",
       ".list-inline {list-style: none; margin:0; padding: 0}\n",
       ".list-inline>li {display: inline-block}\n",
       ".list-inline>li:not(:last-child)::after {content: \"\\00b7\"; padding: 0 .5ex}\n",
       "</style>\n",
       "<ol class=list-inline><li>348591</li><li>39</li></ol>\n"
      ],
      "text/latex": [
       "\\begin{enumerate*}\n",
       "\\item 348591\n",
       "\\item 39\n",
       "\\end{enumerate*}\n"
      ],
      "text/markdown": [
       "1. 348591\n",
       "2. 39\n",
       "\n",
       "\n"
      ],
      "text/plain": [
       "[1] 348591     39"
      ]
     },
     "metadata": {},
     "output_type": "display_data"
    }
   ],
   "source": [
    "dim(expiry_test_prepped)"
   ]
  },
  {
   "cell_type": "code",
   "execution_count": 20,
   "metadata": {},
   "outputs": [
    {
     "data": {
      "text/html": [
       "<style>\n",
       ".list-inline {list-style: none; margin:0; padding: 0}\n",
       ".list-inline>li {display: inline-block}\n",
       ".list-inline>li:not(:last-child)::after {content: \"\\00b7\"; padding: 0 .5ex}\n",
       "</style>\n",
       "<ol class=list-inline><li>Renewed</li><li>Renewed</li><li>Renewed</li><li>Not Renewd</li><li>Renewed</li><li>Renewed</li></ol>\n",
       "\n",
       "<details>\n",
       "\t<summary style=display:list-item;cursor:pointer>\n",
       "\t\t<strong>Levels</strong>:\n",
       "\t</summary>\n",
       "\t<style>\n",
       "\t.list-inline {list-style: none; margin:0; padding: 0}\n",
       "\t.list-inline>li {display: inline-block}\n",
       "\t.list-inline>li:not(:last-child)::after {content: \"\\00b7\"; padding: 0 .5ex}\n",
       "\t</style>\n",
       "\t<ol class=list-inline><li>'Not Renewd'</li><li>'Renewed'</li></ol>\n",
       "</details>"
      ],
      "text/latex": [
       "\\begin{enumerate*}\n",
       "\\item Renewed\n",
       "\\item Renewed\n",
       "\\item Renewed\n",
       "\\item Not Renewd\n",
       "\\item Renewed\n",
       "\\item Renewed\n",
       "\\end{enumerate*}\n",
       "\n",
       "\\emph{Levels}: \\begin{enumerate*}\n",
       "\\item 'Not Renewd'\n",
       "\\item 'Renewed'\n",
       "\\end{enumerate*}\n"
      ],
      "text/markdown": [
       "1. Renewed\n",
       "2. Renewed\n",
       "3. Renewed\n",
       "4. Not Renewd\n",
       "5. Renewed\n",
       "6. Renewed\n",
       "\n",
       "\n",
       "\n",
       "**Levels**: 1. 'Not Renewd'\n",
       "2. 'Renewed'\n",
       "\n",
       "\n"
      ],
      "text/plain": [
       "[1] Renewed    Renewed    Renewed    Not Renewd Renewed    Renewed   \n",
       "Levels: Not Renewd Renewed"
      ]
     },
     "metadata": {},
     "output_type": "display_data"
    }
   ],
   "source": [
    "head((expiry_test_prepped)$renewal_status)"
   ]
  },
  {
   "cell_type": "code",
   "execution_count": 24,
   "metadata": {},
   "outputs": [
    {
     "data": {
      "text/html": [
       "<style>\n",
       ".list-inline {list-style: none; margin:0; padding: 0}\n",
       ".list-inline>li {display: inline-block}\n",
       ".list-inline>li:not(:last-child)::after {content: \"\\00b7\"; padding: 0 .5ex}\n",
       "</style>\n",
       "<ol class=list-inline><li>'Renewed'</li><li>'Renewed'</li><li>'Renewed'</li><li>'Not Renewd'</li><li>'Renewed'</li><li>'Renewed'</li></ol>\n"
      ],
      "text/latex": [
       "\\begin{enumerate*}\n",
       "\\item 'Renewed'\n",
       "\\item 'Renewed'\n",
       "\\item 'Renewed'\n",
       "\\item 'Not Renewd'\n",
       "\\item 'Renewed'\n",
       "\\item 'Renewed'\n",
       "\\end{enumerate*}\n"
      ],
      "text/markdown": [
       "1. 'Renewed'\n",
       "2. 'Renewed'\n",
       "3. 'Renewed'\n",
       "4. 'Not Renewd'\n",
       "5. 'Renewed'\n",
       "6. 'Renewed'\n",
       "\n",
       "\n"
      ],
      "text/plain": [
       "[1] \"Renewed\"    \"Renewed\"    \"Renewed\"    \"Not Renewd\" \"Renewed\"   \n",
       "[6] \"Renewed\"   "
      ]
     },
     "metadata": {},
     "output_type": "display_data"
    }
   ],
   "source": [
    "actual <- as.character((expiry_test_prepped)$renewal_status)\n",
    "head(actual)"
   ]
  },
  {
   "cell_type": "code",
   "execution_count": 27,
   "metadata": {},
   "outputs": [
    {
     "ename": "ERROR",
     "evalue": "Error: `data` and `reference` should be factors with the same levels.\n",
     "output_type": "error",
     "traceback": [
      "Error: `data` and `reference` should be factors with the same levels.\nTraceback:\n",
      "1. confusionMatrix(ranger_predict_03_exptest, actual, positive = \"Renewed\")",
      "2. confusionMatrix.default(ranger_predict_03_exptest, actual, positive = \"Renewed\")",
      "3. stop(\"`data` and `reference` should be factors with the same levels.\", \n .     call. = FALSE)"
     ]
    }
   ],
   "source": [
    "# load(\"../../data/output/ranger_03\")\n",
    "# load(\"../../data/output/ranger_predict_03_exptest\")\n",
    "\n",
    "# confusionMatrix(table(ranger_predict_03_exptest, expiry_test_prepped$renewal_status),\n",
    "#                 positive = \"Renewed\")\n",
    "\n",
    "confusionMatrix(ranger_predict_03_exptest, actual,\n",
    "                positive = \"Renewed\")"
   ]
  },
  {
   "cell_type": "code",
   "execution_count": 29,
   "metadata": {},
   "outputs": [],
   "source": [
    "ranger_03_pred_df = data.frame(\"actual\" = expiry_test_prepped$renewal_status,\n",
    "          \"predicted\" = ranger_predict_03_exptest)"
   ]
  },
  {
   "cell_type": "code",
   "execution_count": 35,
   "metadata": {},
   "outputs": [
    {
     "name": "stdout",
     "output_type": "stream",
     "text": [
      "lift df: 2.074 sec elapsed\n",
      "gains plot: 0.072 sec elapsed\n",
      "auc: 0.038 sec elapsed\n"
     ]
    }
   ],
   "source": [
    "# lift df: 23.675 sec elapsed\n",
    "# gains plot: 0.046 sec elapsed\n",
    "# auc: 0.007 sec elapsed\n",
    "tic(\"lift df\")\n",
    "lift_df_ranger_03 <- chart_lift(pred_df = ranger_03_pred_df,\n",
    "                        dep_var = \"actual\",\n",
    "                        pred_var = \"predicted\")\n",
    "\n",
    "toc()\n",
    "tic(\"gains plot\")\n",
    "gains_plot_ranger_03 <- plot_gains (lift_df_ranger_03) \n",
    "\n",
    "toc()\n",
    "tic(\"auc\")\n",
    "auc_ranger_03 <- calc_auc(lift_df_ranger_03)\n",
    "toc()\n",
    "\n",
    "\n",
    "saveRDS(lift_df_ranger_03, file.path('../../data/',\"lift_df_ranger_03\"))\n"
   ]
  },
  {
   "cell_type": "code",
   "execution_count": 36,
   "metadata": {},
   "outputs": [
    {
     "data": {
      "image/png": "[encoded data removed]",
      "text/plain": [
       "plot without title"
      ]
     },
     "metadata": {
      "image/png": {
       "height": 420,
       "width": 420
      },
      "text/plain": {
       "height": 420,
       "width": 420
      }
     },
     "output_type": "display_data"
    }
   ],
   "source": [
    "gains_plot_ranger_03"
   ]
  },
  {
   "cell_type": "code",
   "execution_count": 38,
   "metadata": {},
   "outputs": [],
   "source": [
    "file_list <- c(\"lift_df_segglm\",\n",
    "                    \"lift_df_bendtr\",\n",
    "#                     \"lift_df_xldtr\",\n",
    "#                     \"lift_df_xldtr_2\",\n",
    "#                     \"lift_df_ranger1\",\n",
    "                    \"lift_df_ranger3\"\n",
    "#                     \"ranger_01\",\n",
    "              )\n",
    "assign(file_list[1], readRDS(sprintf(\"../../data/%s\", file_list[1])))\n",
    "assign(file_list[2], readRDS(sprintf(\"../../data/%s\", file_list[2])))\n",
    "assign(file_list[3], readRDS(sprintf(\"../../data/%s\", file_list[3])))\n",
    "     "
   ]
  },
  {
   "cell_type": "code",
   "execution_count": 44,
   "metadata": {},
   "outputs": [
    {
     "data": {
      "text/html": [
       "<strong>png:</strong> 2"
      ],
      "text/latex": [
       "\\textbf{png:} 2"
      ],
      "text/markdown": [
       "**png:** 2"
      ],
      "text/plain": [
       "png \n",
       "  2 "
      ]
     },
     "metadata": {},
     "output_type": "display_data"
    }
   ],
   "source": [
    "plot_multigains_03_summ <- plot_multigains(\n",
    "    lift_df_list=list(\n",
    "        seg_glm = lift_df_segglm, \n",
    "        ben_dtr = lift_df_bendtr,\n",
    "        rf_500tr = lift_df_ranger3,\n",
    "        rf_newd = lift_df_ranger_03),\n",
    "    auc_list = list(\n",
    "        seg_glm = calc_auc(lift_df_segglm), \n",
    "        ben_dtr= calc_auc(lift_df_bendtr), \n",
    "        rf_500tr= calc_auc(lift_df_ranger3), \n",
    "        rf_newd= calc_auc(lift_df_ranger_03)))\n",
    "png(file = \"../../data/output/plot_multigains_03_newdata_summ.png\",\n",
    "    width = 500, height = 375)\n",
    "plot(plot_multigains_03_summ)\n",
    "dev.off()"
   ]
  },
  {
   "cell_type": "code",
   "execution_count": 45,
   "metadata": {},
   "outputs": [
    {
     "data": {
      "image/png": "[encoded data removed]",
      "text/plain": [
       "plot without title"
      ]
     },
     "metadata": {
      "image/png": {
       "height": 420,
       "width": 420
      },
      "text/plain": {
       "height": 420,
       "width": 420
      }
     },
     "output_type": "display_data"
    }
   ],
   "source": [
    "plot_multigains_03_summ"
   ]
  },
  {
   "cell_type": "code",
   "execution_count": 46,
   "metadata": {},
   "outputs": [],
   "source": [
    "system(\"gsutil cp /home/jupyter/local/Domains_202003/data/output/* gs://data_outputt/output/\")"
   ]
  },
  {
   "cell_type": "code",
   "execution_count": 47,
   "metadata": {},
   "outputs": [
    {
     "data": {
      "text/html": [
       "<table>\n",
       "<caption>A data.frame: 10 × 4</caption>\n",
       "<thead>\n",
       "\t<tr><th scope=col>P</th><th scope=col>actu_renwd2</th><th scope=col>gain</th><th scope=col>lift</th></tr>\n",
       "\t<tr><th scope=col>&lt;dbl&gt;</th><th scope=col>&lt;int&gt;</th><th scope=col>&lt;dbl&gt;</th><th scope=col>&lt;dbl&gt;</th></tr>\n",
       "</thead>\n",
       "<tbody>\n",
       "\t<tr><td>0.1</td><td>11057</td><td>0.1811198</td><td>1.811198</td></tr>\n",
       "\t<tr><td>0.2</td><td>20777</td><td>0.3403387</td><td>1.701694</td></tr>\n",
       "\t<tr><td>0.3</td><td>28877</td><td>0.4730212</td><td>1.576737</td></tr>\n",
       "\t<tr><td>0.4</td><td>35763</td><td>0.5858177</td><td>1.464544</td></tr>\n",
       "\t<tr><td>0.5</td><td>41386</td><td>0.6779256</td><td>1.355851</td></tr>\n",
       "\t<tr><td>0.6</td><td>46146</td><td>0.7558970</td><td>1.259828</td></tr>\n",
       "\t<tr><td>0.7</td><td>50326</td><td>0.8243677</td><td>1.177668</td></tr>\n",
       "\t<tr><td>0.8</td><td>54097</td><td>0.8861388</td><td>1.107673</td></tr>\n",
       "\t<tr><td>0.9</td><td>57668</td><td>0.9446337</td><td>1.049593</td></tr>\n",
       "\t<tr><td>1.0</td><td>61048</td><td>1.0000000</td><td>1.000000</td></tr>\n",
       "</tbody>\n",
       "</table>\n"
      ],
      "text/latex": [
       "A data.frame: 10 × 4\n",
       "\\begin{tabular}{llll}\n",
       " P & actu\\_renwd2 & gain & lift\\\\\n",
       " <dbl> & <int> & <dbl> & <dbl>\\\\\n",
       "\\hline\n",
       "\t 0.1 & 11057 & 0.1811198 & 1.811198\\\\\n",
       "\t 0.2 & 20777 & 0.3403387 & 1.701694\\\\\n",
       "\t 0.3 & 28877 & 0.4730212 & 1.576737\\\\\n",
       "\t 0.4 & 35763 & 0.5858177 & 1.464544\\\\\n",
       "\t 0.5 & 41386 & 0.6779256 & 1.355851\\\\\n",
       "\t 0.6 & 46146 & 0.7558970 & 1.259828\\\\\n",
       "\t 0.7 & 50326 & 0.8243677 & 1.177668\\\\\n",
       "\t 0.8 & 54097 & 0.8861388 & 1.107673\\\\\n",
       "\t 0.9 & 57668 & 0.9446337 & 1.049593\\\\\n",
       "\t 1.0 & 61048 & 1.0000000 & 1.000000\\\\\n",
       "\\end{tabular}\n"
      ],
      "text/markdown": [
       "\n",
       "A data.frame: 10 × 4\n",
       "\n",
       "| P &lt;dbl&gt; | actu_renwd2 &lt;int&gt; | gain &lt;dbl&gt; | lift &lt;dbl&gt; |\n",
       "|---|---|---|---|\n",
       "| 0.1 | 11057 | 0.1811198 | 1.811198 |\n",
       "| 0.2 | 20777 | 0.3403387 | 1.701694 |\n",
       "| 0.3 | 28877 | 0.4730212 | 1.576737 |\n",
       "| 0.4 | 35763 | 0.5858177 | 1.464544 |\n",
       "| 0.5 | 41386 | 0.6779256 | 1.355851 |\n",
       "| 0.6 | 46146 | 0.7558970 | 1.259828 |\n",
       "| 0.7 | 50326 | 0.8243677 | 1.177668 |\n",
       "| 0.8 | 54097 | 0.8861388 | 1.107673 |\n",
       "| 0.9 | 57668 | 0.9446337 | 1.049593 |\n",
       "| 1.0 | 61048 | 1.0000000 | 1.000000 |\n",
       "\n"
      ],
      "text/plain": [
       "   P   actu_renwd2 gain      lift    \n",
       "1  0.1 11057       0.1811198 1.811198\n",
       "2  0.2 20777       0.3403387 1.701694\n",
       "3  0.3 28877       0.4730212 1.576737\n",
       "4  0.4 35763       0.5858177 1.464544\n",
       "5  0.5 41386       0.6779256 1.355851\n",
       "6  0.6 46146       0.7558970 1.259828\n",
       "7  0.7 50326       0.8243677 1.177668\n",
       "8  0.8 54097       0.8861388 1.107673\n",
       "9  0.9 57668       0.9446337 1.049593\n",
       "10 1.0 61048       1.0000000 1.000000"
      ]
     },
     "metadata": {},
     "output_type": "display_data"
    }
   ],
   "source": [
    "lift_df_ranger_03"
   ]
  },
  {
   "cell_type": "markdown",
   "metadata": {},
   "source": [
    "lift_df_ranger3"
   ]
  },
  {
   "cell_type": "code",
   "execution_count": 49,
   "metadata": {},
   "outputs": [
    {
     "data": {
      "text/html": [
       "<table>\n",
       "<caption>A data.frame: 10 × 4</caption>\n",
       "<thead>\n",
       "\t<tr><th scope=col>P</th><th scope=col>actu_renwd2</th><th scope=col>gain</th><th scope=col>lift</th></tr>\n",
       "\t<tr><th scope=col>&lt;dbl&gt;</th><th scope=col>&lt;int&gt;</th><th scope=col>&lt;dbl&gt;</th><th scope=col>&lt;dbl&gt;</th></tr>\n",
       "</thead>\n",
       "<tbody>\n",
       "\t<tr><td>0.1</td><td>14576</td><td>0.3305215</td><td>3.305215</td></tr>\n",
       "\t<tr><td>0.2</td><td>23027</td><td>0.5221542</td><td>2.610771</td></tr>\n",
       "\t<tr><td>0.3</td><td>29601</td><td>0.6712245</td><td>2.237415</td></tr>\n",
       "\t<tr><td>0.4</td><td>32925</td><td>0.7465986</td><td>1.866497</td></tr>\n",
       "\t<tr><td>0.5</td><td>35893</td><td>0.8139002</td><td>1.627800</td></tr>\n",
       "\t<tr><td>0.6</td><td>38582</td><td>0.8748753</td><td>1.458125</td></tr>\n",
       "\t<tr><td>0.7</td><td>40827</td><td>0.9257823</td><td>1.322546</td></tr>\n",
       "\t<tr><td>0.8</td><td>42622</td><td>0.9664853</td><td>1.208107</td></tr>\n",
       "\t<tr><td>0.9</td><td>43729</td><td>0.9915873</td><td>1.101764</td></tr>\n",
       "\t<tr><td>1.0</td><td>44100</td><td>1.0000000</td><td>1.000000</td></tr>\n",
       "</tbody>\n",
       "</table>\n"
      ],
      "text/latex": [
       "A data.frame: 10 × 4\n",
       "\\begin{tabular}{llll}\n",
       " P & actu\\_renwd2 & gain & lift\\\\\n",
       " <dbl> & <int> & <dbl> & <dbl>\\\\\n",
       "\\hline\n",
       "\t 0.1 & 14576 & 0.3305215 & 3.305215\\\\\n",
       "\t 0.2 & 23027 & 0.5221542 & 2.610771\\\\\n",
       "\t 0.3 & 29601 & 0.6712245 & 2.237415\\\\\n",
       "\t 0.4 & 32925 & 0.7465986 & 1.866497\\\\\n",
       "\t 0.5 & 35893 & 0.8139002 & 1.627800\\\\\n",
       "\t 0.6 & 38582 & 0.8748753 & 1.458125\\\\\n",
       "\t 0.7 & 40827 & 0.9257823 & 1.322546\\\\\n",
       "\t 0.8 & 42622 & 0.9664853 & 1.208107\\\\\n",
       "\t 0.9 & 43729 & 0.9915873 & 1.101764\\\\\n",
       "\t 1.0 & 44100 & 1.0000000 & 1.000000\\\\\n",
       "\\end{tabular}\n"
      ],
      "text/markdown": [
       "\n",
       "A data.frame: 10 × 4\n",
       "\n",
       "| P &lt;dbl&gt; | actu_renwd2 &lt;int&gt; | gain &lt;dbl&gt; | lift &lt;dbl&gt; |\n",
       "|---|---|---|---|\n",
       "| 0.1 | 14576 | 0.3305215 | 3.305215 |\n",
       "| 0.2 | 23027 | 0.5221542 | 2.610771 |\n",
       "| 0.3 | 29601 | 0.6712245 | 2.237415 |\n",
       "| 0.4 | 32925 | 0.7465986 | 1.866497 |\n",
       "| 0.5 | 35893 | 0.8139002 | 1.627800 |\n",
       "| 0.6 | 38582 | 0.8748753 | 1.458125 |\n",
       "| 0.7 | 40827 | 0.9257823 | 1.322546 |\n",
       "| 0.8 | 42622 | 0.9664853 | 1.208107 |\n",
       "| 0.9 | 43729 | 0.9915873 | 1.101764 |\n",
       "| 1.0 | 44100 | 1.0000000 | 1.000000 |\n",
       "\n"
      ],
      "text/plain": [
       "   P   actu_renwd2 gain      lift    \n",
       "1  0.1 14576       0.3305215 3.305215\n",
       "2  0.2 23027       0.5221542 2.610771\n",
       "3  0.3 29601       0.6712245 2.237415\n",
       "4  0.4 32925       0.7465986 1.866497\n",
       "5  0.5 35893       0.8139002 1.627800\n",
       "6  0.6 38582       0.8748753 1.458125\n",
       "7  0.7 40827       0.9257823 1.322546\n",
       "8  0.8 42622       0.9664853 1.208107\n",
       "9  0.9 43729       0.9915873 1.101764\n",
       "10 1.0 44100       1.0000000 1.000000"
      ]
     },
     "metadata": {},
     "output_type": "display_data"
    }
   ],
   "source": [
    "lift_df_segglm"
   ]
  },
  {
   "cell_type": "markdown",
   "metadata": {},
   "source": [
    "# how well does seg_glm perf on this data?"
   ]
  },
  {
   "cell_type": "code",
   "execution_count": 56,
   "metadata": {},
   "outputs": [],
   "source": [
    "# filename='first_renewal_model'\n",
    "# system(paste(sprintf(\"gsutil cp gs://data_input/%s /home/jupyter/local/Domains_202003/data/\", filename)))\n",
    "# assign(filename, readRDS(sprintf(\"../../data/%s\", filename)))"
   ]
  },
  {
   "cell_type": "code",
   "execution_count": 62,
   "metadata": {},
   "outputs": [],
   "source": [
    "rm(first_renewal_model)"
   ]
  },
  {
   "cell_type": "code",
   "execution_count": 63,
   "metadata": {},
   "outputs": [],
   "source": [
    "filename='first_renewal_model_train'\n",
    "system(paste(sprintf(\"gsutil cp gs://data_input/%s /home/jupyter/local/Domains_202003/data/\", filename)))\n",
    "assign(filename, readRDS(sprintf(\"../../data/%s\", filename)))"
   ]
  },
  {
   "cell_type": "code",
   "execution_count": 65,
   "metadata": {},
   "outputs": [],
   "source": [
    "test <- readRDS(sprintf(\"../../data/test\"))"
   ]
  },
  {
   "cell_type": "code",
   "execution_count": 66,
   "metadata": {},
   "outputs": [
    {
     "data": {
      "text/html": [
       "32"
      ],
      "text/latex": [
       "32"
      ],
      "text/markdown": [
       "32"
      ],
      "text/plain": [
       "[1] 32"
      ]
     },
     "metadata": {},
     "output_type": "display_data"
    }
   ],
   "source": [
    "length(test)"
   ]
  },
  {
   "cell_type": "code",
   "execution_count": 71,
   "metadata": {},
   "outputs": [
    {
     "data": {
      "text/html": [
       "<style>\n",
       ".list-inline {list-style: none; margin:0; padding: 0}\n",
       ".list-inline>li {display: inline-block}\n",
       ".list-inline>li:not(:last-child)::after {content: \"\\00b7\"; padding: 0 .5ex}\n",
       "</style>\n",
       "<ol class=list-inline><li>'fungmo'</li><li>'fungo daddy'</li><li>'funnamecheap'</li><li>'hostgmo'</li><li>'hostgo daddy'</li><li>'hostnamecheap'</li><li>'in.netgmo'</li><li>'in.netnamecheap'</li><li>'onlinegmo'</li><li>'onlinego daddy'</li><li>'onlinenamecheap'</li><li>'pressgmo'</li><li>'pressgo daddy'</li><li>'pressnamecheap'</li><li>'pwgmo'</li><li>'pwgo daddy'</li><li>'pwnamecheap'</li><li>'sitegmo'</li><li>'sitego daddy'</li><li>'sitenamecheap'</li><li>'spacegmo'</li><li>'spacego daddy'</li><li>'spacenamecheap'</li><li>'storegmo'</li><li>'storego daddy'</li><li>'storenamecheap'</li><li>'techgmo'</li><li>'techgo daddy'</li><li>'technamecheap'</li><li>'websitegmo'</li><li>'websitego daddy'</li><li>'websitenamecheap'</li></ol>\n"
      ],
      "text/latex": [
       "\\begin{enumerate*}\n",
       "\\item 'fungmo'\n",
       "\\item 'fungo daddy'\n",
       "\\item 'funnamecheap'\n",
       "\\item 'hostgmo'\n",
       "\\item 'hostgo daddy'\n",
       "\\item 'hostnamecheap'\n",
       "\\item 'in.netgmo'\n",
       "\\item 'in.netnamecheap'\n",
       "\\item 'onlinegmo'\n",
       "\\item 'onlinego daddy'\n",
       "\\item 'onlinenamecheap'\n",
       "\\item 'pressgmo'\n",
       "\\item 'pressgo daddy'\n",
       "\\item 'pressnamecheap'\n",
       "\\item 'pwgmo'\n",
       "\\item 'pwgo daddy'\n",
       "\\item 'pwnamecheap'\n",
       "\\item 'sitegmo'\n",
       "\\item 'sitego daddy'\n",
       "\\item 'sitenamecheap'\n",
       "\\item 'spacegmo'\n",
       "\\item 'spacego daddy'\n",
       "\\item 'spacenamecheap'\n",
       "\\item 'storegmo'\n",
       "\\item 'storego daddy'\n",
       "\\item 'storenamecheap'\n",
       "\\item 'techgmo'\n",
       "\\item 'techgo daddy'\n",
       "\\item 'technamecheap'\n",
       "\\item 'websitegmo'\n",
       "\\item 'websitego daddy'\n",
       "\\item 'websitenamecheap'\n",
       "\\end{enumerate*}\n"
      ],
      "text/markdown": [
       "1. 'fungmo'\n",
       "2. 'fungo daddy'\n",
       "3. 'funnamecheap'\n",
       "4. 'hostgmo'\n",
       "5. 'hostgo daddy'\n",
       "6. 'hostnamecheap'\n",
       "7. 'in.netgmo'\n",
       "8. 'in.netnamecheap'\n",
       "9. 'onlinegmo'\n",
       "10. 'onlinego daddy'\n",
       "11. 'onlinenamecheap'\n",
       "12. 'pressgmo'\n",
       "13. 'pressgo daddy'\n",
       "14. 'pressnamecheap'\n",
       "15. 'pwgmo'\n",
       "16. 'pwgo daddy'\n",
       "17. 'pwnamecheap'\n",
       "18. 'sitegmo'\n",
       "19. 'sitego daddy'\n",
       "20. 'sitenamecheap'\n",
       "21. 'spacegmo'\n",
       "22. 'spacego daddy'\n",
       "23. 'spacenamecheap'\n",
       "24. 'storegmo'\n",
       "25. 'storego daddy'\n",
       "26. 'storenamecheap'\n",
       "27. 'techgmo'\n",
       "28. 'techgo daddy'\n",
       "29. 'technamecheap'\n",
       "30. 'websitegmo'\n",
       "31. 'websitego daddy'\n",
       "32. 'websitenamecheap'\n",
       "\n",
       "\n"
      ],
      "text/plain": [
       " [1] \"fungmo\"           \"fungo daddy\"      \"funnamecheap\"     \"hostgmo\"         \n",
       " [5] \"hostgo daddy\"     \"hostnamecheap\"    \"in.netgmo\"        \"in.netnamecheap\" \n",
       " [9] \"onlinegmo\"        \"onlinego daddy\"   \"onlinenamecheap\"  \"pressgmo\"        \n",
       "[13] \"pressgo daddy\"    \"pressnamecheap\"   \"pwgmo\"            \"pwgo daddy\"      \n",
       "[17] \"pwnamecheap\"      \"sitegmo\"          \"sitego daddy\"     \"sitenamecheap\"   \n",
       "[21] \"spacegmo\"         \"spacego daddy\"    \"spacenamecheap\"   \"storegmo\"        \n",
       "[25] \"storego daddy\"    \"storenamecheap\"   \"techgmo\"          \"techgo daddy\"    \n",
       "[29] \"technamecheap\"    \"websitegmo\"       \"websitego daddy\"  \"websitenamecheap\""
      ]
     },
     "metadata": {},
     "output_type": "display_data"
    }
   ],
   "source": [
    "names(test)"
   ]
  },
  {
   "cell_type": "code",
   "execution_count": 72,
   "metadata": {},
   "outputs": [
    {
     "data": {
      "text/html": [
       "<style>\n",
       ".list-inline {list-style: none; margin:0; padding: 0}\n",
       ".list-inline>li {display: inline-block}\n",
       ".list-inline>li:not(:last-child)::after {content: \"\\00b7\"; padding: 0 .5ex}\n",
       "</style>\n",
       "<ol class=list-inline><li>3405</li><li>38</li></ol>\n"
      ],
      "text/latex": [
       "\\begin{enumerate*}\n",
       "\\item 3405\n",
       "\\item 38\n",
       "\\end{enumerate*}\n"
      ],
      "text/markdown": [
       "1. 3405\n",
       "2. 38\n",
       "\n",
       "\n"
      ],
      "text/plain": [
       "[1] 3405   38"
      ]
     },
     "metadata": {},
     "output_type": "display_data"
    }
   ],
   "source": [
    "dim(test$fungmo)"
   ]
  },
  {
   "cell_type": "code",
   "execution_count": 73,
   "metadata": {},
   "outputs": [
    {
     "data": {
      "text/html": [
       "<table>\n",
       "<caption>A data.table: 6 × 38</caption>\n",
       "<thead>\n",
       "\t<tr><th scope=col>renewal_type</th><th scope=col>renewed_count</th><th scope=col>expiry_date</th><th scope=col>domain_id</th><th scope=col>domain</th><th scope=col>creation_date</th><th scope=col>status</th><th scope=col>tld</th><th scope=col>registrar</th><th scope=col>reseller</th><th scope=col>⋯</th><th scope=col>sld_length</th><th scope=col>sld_type2</th><th scope=col>day_domains</th><th scope=col>log_reg_arpt</th><th scope=col>gibb_score</th><th scope=col>cluster</th><th scope=col>pattern</th><th scope=col>pattern_score</th><th scope=col>pattern_domain_count</th><th scope=col>first_renewal_prediction</th></tr>\n",
       "\t<tr><th scope=col>&lt;chr&gt;</th><th scope=col>&lt;chr&gt;</th><th scope=col>&lt;date&gt;</th><th scope=col>&lt;int&gt;</th><th scope=col>&lt;chr&gt;</th><th scope=col>&lt;date&gt;</th><th scope=col>&lt;chr&gt;</th><th scope=col>&lt;fct&gt;</th><th scope=col>&lt;chr&gt;</th><th scope=col>&lt;chr&gt;</th><th scope=col>⋯</th><th scope=col>&lt;int&gt;</th><th scope=col>&lt;chr&gt;</th><th scope=col>&lt;int&gt;</th><th scope=col>&lt;dbl&gt;</th><th scope=col>&lt;dbl&gt;</th><th scope=col>&lt;dbl&gt;</th><th scope=col>&lt;chr&gt;</th><th scope=col>&lt;dbl&gt;</th><th scope=col>&lt;int&gt;</th><th scope=col>&lt;dbl&gt;</th></tr>\n",
       "</thead>\n",
       "<tbody>\n",
       "\t<tr><td>FirstTime</td><td>1</td><td>2018-04-06</td><td>46569775</td><td>onamae.fun </td><td>2017-04-06</td><td>Active</td><td>fun</td><td>gmo</td><td>gmo</td><td>⋯</td><td>6</td><td>6l </td><td>8</td><td>2.079442</td><td>3.59</td><td>1</td><td>onamae </td><td>0.015625</td><td>1</td><td>0.31528793</td></tr>\n",
       "\t<tr><td>FirstTime</td><td>1</td><td>2018-04-06</td><td>46575244</td><td>doi.fun    </td><td>2017-04-06</td><td>Active</td><td>fun</td><td>gmo</td><td>gmo</td><td>⋯</td><td>3</td><td>3l </td><td>8</td><td>2.079442</td><td>2.25</td><td>2</td><td>doi    </td><td>0.015625</td><td>1</td><td>0.49457900</td></tr>\n",
       "\t<tr><td>FirstTime</td><td>1</td><td>2018-04-06</td><td>46575320</td><td>kawaii.fun </td><td>2017-04-06</td><td>Active</td><td>fun</td><td>gmo</td><td>gmo</td><td>⋯</td><td>6</td><td>6l </td><td>8</td><td>2.079442</td><td>1.99</td><td>3</td><td>kawaii </td><td>0.015625</td><td>1</td><td>0.40847761</td></tr>\n",
       "\t<tr><td>FirstTime</td><td>1</td><td>2018-04-06</td><td>46576724</td><td>sas.fun    </td><td>2017-04-06</td><td>Active</td><td>fun</td><td>gmo</td><td>gmo</td><td>⋯</td><td>3</td><td>3l </td><td>8</td><td>2.079442</td><td>6.21</td><td>4</td><td>sas    </td><td>0.015625</td><td>1</td><td>0.42897224</td></tr>\n",
       "\t<tr><td>FirstTime</td><td>1</td><td>2018-04-06</td><td>46596244</td><td>bnr32.fun  </td><td>2017-04-06</td><td>Active</td><td>fun</td><td>gmo</td><td>gmo</td><td>⋯</td><td>5</td><td>5ln</td><td>8</td><td>2.079442</td><td>0.09</td><td>5</td><td>bnr32  </td><td>0.015625</td><td>1</td><td>0.04774799</td></tr>\n",
       "\t<tr><td>FirstTime</td><td>1</td><td>2018-04-06</td><td>46599435</td><td>foodian.fun</td><td>2017-04-06</td><td>Active</td><td>fun</td><td>gmo</td><td>gmo</td><td>⋯</td><td>7</td><td>7l </td><td>8</td><td>2.079442</td><td>5.64</td><td>6</td><td>foodian</td><td>0.015625</td><td>1</td><td>0.43453279</td></tr>\n",
       "</tbody>\n",
       "</table>\n"
      ],
      "text/latex": [
       "A data.table: 6 × 38\n",
       "\\begin{tabular}{lllllllllllllllllllll}\n",
       " renewal\\_type & renewed\\_count & expiry\\_date & domain\\_id & domain & creation\\_date & status & tld & registrar & reseller & ⋯ & sld\\_length & sld\\_type2 & day\\_domains & log\\_reg\\_arpt & gibb\\_score & cluster & pattern & pattern\\_score & pattern\\_domain\\_count & first\\_renewal\\_prediction\\\\\n",
       " <chr> & <chr> & <date> & <int> & <chr> & <date> & <chr> & <fct> & <chr> & <chr> & ⋯ & <int> & <chr> & <int> & <dbl> & <dbl> & <dbl> & <chr> & <dbl> & <int> & <dbl>\\\\\n",
       "\\hline\n",
       "\t FirstTime & 1 & 2018-04-06 & 46569775 & onamae.fun  & 2017-04-06 & Active & fun & gmo & gmo & ⋯ & 6 & 6l  & 8 & 2.079442 & 3.59 & 1 & onamae  & 0.015625 & 1 & 0.31528793\\\\\n",
       "\t FirstTime & 1 & 2018-04-06 & 46575244 & doi.fun     & 2017-04-06 & Active & fun & gmo & gmo & ⋯ & 3 & 3l  & 8 & 2.079442 & 2.25 & 2 & doi     & 0.015625 & 1 & 0.49457900\\\\\n",
       "\t FirstTime & 1 & 2018-04-06 & 46575320 & kawaii.fun  & 2017-04-06 & Active & fun & gmo & gmo & ⋯ & 6 & 6l  & 8 & 2.079442 & 1.99 & 3 & kawaii  & 0.015625 & 1 & 0.40847761\\\\\n",
       "\t FirstTime & 1 & 2018-04-06 & 46576724 & sas.fun     & 2017-04-06 & Active & fun & gmo & gmo & ⋯ & 3 & 3l  & 8 & 2.079442 & 6.21 & 4 & sas     & 0.015625 & 1 & 0.42897224\\\\\n",
       "\t FirstTime & 1 & 2018-04-06 & 46596244 & bnr32.fun   & 2017-04-06 & Active & fun & gmo & gmo & ⋯ & 5 & 5ln & 8 & 2.079442 & 0.09 & 5 & bnr32   & 0.015625 & 1 & 0.04774799\\\\\n",
       "\t FirstTime & 1 & 2018-04-06 & 46599435 & foodian.fun & 2017-04-06 & Active & fun & gmo & gmo & ⋯ & 7 & 7l  & 8 & 2.079442 & 5.64 & 6 & foodian & 0.015625 & 1 & 0.43453279\\\\\n",
       "\\end{tabular}\n"
      ],
      "text/markdown": [
       "\n",
       "A data.table: 6 × 38\n",
       "\n",
       "| renewal_type &lt;chr&gt; | renewed_count &lt;chr&gt; | expiry_date &lt;date&gt; | domain_id &lt;int&gt; | domain &lt;chr&gt; | creation_date &lt;date&gt; | status &lt;chr&gt; | tld &lt;fct&gt; | registrar &lt;chr&gt; | reseller &lt;chr&gt; | ⋯ ⋯ | sld_length &lt;int&gt; | sld_type2 &lt;chr&gt; | day_domains &lt;int&gt; | log_reg_arpt &lt;dbl&gt; | gibb_score &lt;dbl&gt; | cluster &lt;dbl&gt; | pattern &lt;chr&gt; | pattern_score &lt;dbl&gt; | pattern_domain_count &lt;int&gt; | first_renewal_prediction &lt;dbl&gt; |\n",
       "|---|---|---|---|---|---|---|---|---|---|---|---|---|---|---|---|---|---|---|---|---|\n",
       "| FirstTime | 1 | 2018-04-06 | 46569775 | onamae.fun  | 2017-04-06 | Active | fun | gmo | gmo | ⋯ | 6 | 6l  | 8 | 2.079442 | 3.59 | 1 | onamae  | 0.015625 | 1 | 0.31528793 |\n",
       "| FirstTime | 1 | 2018-04-06 | 46575244 | doi.fun     | 2017-04-06 | Active | fun | gmo | gmo | ⋯ | 3 | 3l  | 8 | 2.079442 | 2.25 | 2 | doi     | 0.015625 | 1 | 0.49457900 |\n",
       "| FirstTime | 1 | 2018-04-06 | 46575320 | kawaii.fun  | 2017-04-06 | Active | fun | gmo | gmo | ⋯ | 6 | 6l  | 8 | 2.079442 | 1.99 | 3 | kawaii  | 0.015625 | 1 | 0.40847761 |\n",
       "| FirstTime | 1 | 2018-04-06 | 46576724 | sas.fun     | 2017-04-06 | Active | fun | gmo | gmo | ⋯ | 3 | 3l  | 8 | 2.079442 | 6.21 | 4 | sas     | 0.015625 | 1 | 0.42897224 |\n",
       "| FirstTime | 1 | 2018-04-06 | 46596244 | bnr32.fun   | 2017-04-06 | Active | fun | gmo | gmo | ⋯ | 5 | 5ln | 8 | 2.079442 | 0.09 | 5 | bnr32   | 0.015625 | 1 | 0.04774799 |\n",
       "| FirstTime | 1 | 2018-04-06 | 46599435 | foodian.fun | 2017-04-06 | Active | fun | gmo | gmo | ⋯ | 7 | 7l  | 8 | 2.079442 | 5.64 | 6 | foodian | 0.015625 | 1 | 0.43453279 |\n",
       "\n"
      ],
      "text/plain": [
       "  renewal_type renewed_count expiry_date domain_id domain      creation_date\n",
       "1 FirstTime    1             2018-04-06  46569775  onamae.fun  2017-04-06   \n",
       "2 FirstTime    1             2018-04-06  46575244  doi.fun     2017-04-06   \n",
       "3 FirstTime    1             2018-04-06  46575320  kawaii.fun  2017-04-06   \n",
       "4 FirstTime    1             2018-04-06  46576724  sas.fun     2017-04-06   \n",
       "5 FirstTime    1             2018-04-06  46596244  bnr32.fun   2017-04-06   \n",
       "6 FirstTime    1             2018-04-06  46599435  foodian.fun 2017-04-06   \n",
       "  status tld registrar reseller ⋯ sld_length sld_type2 day_domains log_reg_arpt\n",
       "1 Active fun gmo       gmo      ⋯ 6          6l        8           2.079442    \n",
       "2 Active fun gmo       gmo      ⋯ 3          3l        8           2.079442    \n",
       "3 Active fun gmo       gmo      ⋯ 6          6l        8           2.079442    \n",
       "4 Active fun gmo       gmo      ⋯ 3          3l        8           2.079442    \n",
       "5 Active fun gmo       gmo      ⋯ 5          5ln       8           2.079442    \n",
       "6 Active fun gmo       gmo      ⋯ 7          7l        8           2.079442    \n",
       "  gibb_score cluster pattern pattern_score pattern_domain_count\n",
       "1 3.59       1       onamae  0.015625      1                   \n",
       "2 2.25       2       doi     0.015625      1                   \n",
       "3 1.99       3       kawaii  0.015625      1                   \n",
       "4 6.21       4       sas     0.015625      1                   \n",
       "5 0.09       5       bnr32   0.015625      1                   \n",
       "6 5.64       6       foodian 0.015625      1                   \n",
       "  first_renewal_prediction\n",
       "1 0.31528793              \n",
       "2 0.49457900              \n",
       "3 0.40847761              \n",
       "4 0.42897224              \n",
       "5 0.04774799              \n",
       "6 0.43453279              "
      ]
     },
     "metadata": {},
     "output_type": "display_data"
    }
   ],
   "source": [
    "head(test$fungmo)"
   ]
  },
  {
   "cell_type": "markdown",
   "metadata": {},
   "source": [
    "# need to use predict from original functions"
   ]
  },
  {
   "cell_type": "code",
   "execution_count": null,
   "metadata": {},
   "outputs": [],
   "source": [
    "domain_data$tld_registrar_index<-tolower(paste(domain_data$tld, \n",
    "                                             domain_data$reseller,sep=\"\"))\n",
    "tld_registrar_data<-split(domain_data, \n",
    "                        domain_data$tld_registrar_index)"
   ]
  },
  {
   "cell_type": "code",
   "execution_count": 64,
   "metadata": {},
   "outputs": [
    {
     "name": "stdout",
     "output_type": "stream",
     "text": [
      "[1] \"renewal_type\"\n",
      "[1] \"renewed_count\"\n",
      "[1] \"expiry_date\"\n",
      "[1] \"domain_id\"\n",
      "[1] \"domain\"\n",
      "[1] \"creation_date\"\n",
      "[1] \"status\"\n",
      "[1] \"tld\"\n",
      "[1] \"registrar\"\n",
      "[1] \"reseller\"\n",
      "[1] \"reseller_country\"\n",
      "[1] \"region\"\n",
      "[1] \"reg_period\"\n",
      "[1] \"registrant_country\"\n",
      "[1] \"renewal_status\"\n",
      "[1] \"renew_mbg\"\n",
      "[1] \"renew_type\"\n",
      "[1] \"autorenew_type\"\n",
      "[1] \"renew_date\"\n",
      "[1] \"renew_registrar\"\n",
      "[1] \"renew_reseller\"\n",
      "[1] \"reg_revenue\"\n",
      "[1] \"reg_arpt\"\n",
      "[1] \"renew_period\"\n",
      "[1] \"renew_domain_revenue\"\n",
      "[1] \"renew_arpt\"\n",
      "[1] \"reg_arpt_org\"\n",
      "[1] \"sld\"\n",
      "[1] \"sld_type\"\n",
      "[1] \"sld_length\"\n",
      "[1] \"sld_type2\"\n",
      "[1] \"day_domains\"\n",
      "[1] \"log_reg_arpt\"\n",
      "[1] \"tld_registrar_index\"\n",
      "[1] \"gibb_score\"\n",
      "[1] \"pattern\"\n",
      "[1] \"cluster\"\n",
      "[1] \"pattern_score\"\n",
      "[1] \"pattern_domain_count\"\n"
     ]
    },
    {
     "ename": "ERROR",
     "evalue": "Error in rbindlist(test_data): Input is data.table but should be a plain list of items to be stacked\n",
     "output_type": "error",
     "traceback": [
      "Error in rbindlist(test_data): Input is data.table but should be a plain list of items to be stacked\nTraceback:\n",
      "1. mass_predict_first_renewal(expiry_test_prepped, first_renewal_model_train)",
      "2. rbindlist(test_data)",
      "3. stop(\"Input is \", class(l)[1L], \" but should be a plain list of items to be stacked\")"
     ]
    }
   ],
   "source": [
    "tic(\"seg_glm new_data predict\")\n",
    "seg_glm_exptest <- mass_predict_first_renewal(expiry_test_prepped, first_renewal_model_train)\n",
    "toc()\n",
    "saveRDS(seg_glm_exptest,\"../../data/output/seg_glm_exptest\")\n"
   ]
  },
  {
   "cell_type": "code",
   "execution_count": null,
   "metadata": {},
   "outputs": [],
   "source": [
    "first_renewal_model_test_predict <- readRDS(\n",
    "#   \"../../data/output/dtree/first_renewal_model_test_predict\")\n",
    "# \n",
    "# first_renewal_model_test_predBin <- ifelse(\n",
    "#   first_renewal_model_test_predict$first_renewal_prediction >.5, \n",
    "#   \"Renewed\", \"Not Renewd\")\n",
    "# confusionMatrix(table(first_renewal_model_test_predBin, \n",
    "#                       first_renewal_model_test_predict$renewal_status), \n",
    "#                 positive = \"Renewed\")\n",
    "# \n",
    "# #                Not Renewd Renewed\n",
    "# # Not Renewd       342410   40584\n",
    "# # Renewed            3307    3516\n",
    "# \n",
    "# # Sensitivity : 0.07973 (vs  0.044921 on  dtree_md5_tt)  \n",
    "# # Specificity : 0.99043 (vs 0.995603 on dtree_md5_tt)\n",
    "# \n",
    "# "
   ]
  },
  {
   "cell_type": "code",
   "execution_count": 57,
   "metadata": {},
   "outputs": [
    {
     "name": "stdout",
     "output_type": "stream",
     "text": [
      "model predict: 0.006 sec elapsed\n",
      "eval saving: 0.005 sec elapsed\n"
     ]
    }
   ],
   "source": [
    "# Aggregating predictions.. Progress: 72%. Estimated remaining time: 12 seconds.\n",
    "# model predict: 86.684 sec elapsed\n",
    "# eval saving: 0.146 sec elapsed\n",
    "\n",
    "tic(\"model predict\")\n",
    "seg_glm_exptest <- predict(first_renewal_model, \n",
    "                          data = expiry_test_prepped,\n",
    "                          type=\"response\")$predictions\n",
    "toc()\n",
    "\n",
    "tic(\"eval saving\")\n",
    "\n",
    "seg_glm_exptest <- as.data.frame(seg_glm_exptest)$Renewed\n",
    "\n",
    "save(seg_glm_exptest, \n",
    "     file=\"../../data/output/seg_glm_exptest\")\n",
    "toc()\n"
   ]
  },
  {
   "cell_type": "code",
   "execution_count": 58,
   "metadata": {},
   "outputs": [
    {
     "data": {
      "text/plain": [
       "NULL"
      ]
     },
     "metadata": {},
     "output_type": "display_data"
    }
   ],
   "source": [
    "seg_glm_exptest"
   ]
  },
  {
   "cell_type": "code",
   "execution_count": null,
   "metadata": {},
   "outputs": [],
   "source": [
    "ranger_03_pred_df = data.frame(\"actual\" = expiry_test_prepped$renewal_status,\n",
    "          \"predicted\" = ranger_predict_03_exptest)"
   ]
  }
 ],
 "metadata": {
  "environment": {
   "name": "r-cpu.3-6.m48",
   "type": "gcloud",
   "uri": "gcr.io/deeplearning-platform-release/r-cpu.3-6:m48"
  },
  "kernelspec": {
   "display_name": "R",
   "language": "R",
   "name": "ir"
  },
  "language_info": {
   "codemirror_mode": "r",
   "file_extension": ".r",
   "mimetype": "text/x-r-source",
   "name": "R",
   "pygments_lexer": "r",
   "version": "3.6.3"
  }
 },
 "nbformat": 4,
 "nbformat_minor": 4
}
