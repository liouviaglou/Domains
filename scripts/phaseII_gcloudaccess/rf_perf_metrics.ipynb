{
 "cells": [
  {
   "cell_type": "markdown",
   "metadata": {},
   "source": [
    "## Need to geerate performance metrics for the following models\n",
    "\n",
    "|         | tr_phase1, pf_phase1 | tr_phase1, pf_expiry | tr_expiry, pf_expiry |   |\n",
    "|---------|----------------------|----------------------|----------------------|---|\n",
    "| seg_glm |                      |                      |                      |   |\n",
    "| rf_500  | ranger_03_           |                      |                      |   |\n",
    "|         |                      |                      |                      |   |\n",
    "\n",
    "### Metrics include: Gains Curves; Lift values; for each tld-registrar-reg_arpt: sum(prob) vs count (renewed)\n"
   ]
  },
  {
   "cell_type": "markdown",
   "metadata": {},
   "source": [
    "# Housekeeping"
   ]
  },
  {
   "cell_type": "code",
   "execution_count": 13,
   "metadata": {},
   "outputs": [
    {
     "name": "stderr",
     "output_type": "stream",
     "text": [
      "Installing package into ‘/home/jupyter/.R/library’\n",
      "(as ‘lib’ is unspecified)\n",
      "\n",
      "also installing the dependencies ‘gtools’, ‘gdata’, ‘caTools’, ‘gplots’\n",
      "\n",
      "\n"
     ]
    }
   ],
   "source": [
    "# install.packages(\"ROCR\")"
   ]
  },
  {
   "cell_type": "code",
   "execution_count": 2,
   "metadata": {},
   "outputs": [
    {
     "name": "stderr",
     "output_type": "stream",
     "text": [
      "\n",
      "Attaching package: ‘dplyr’\n",
      "\n",
      "\n",
      "The following objects are masked from ‘package:stats’:\n",
      "\n",
      "    filter, lag\n",
      "\n",
      "\n",
      "The following objects are masked from ‘package:base’:\n",
      "\n",
      "    intersect, setdiff, setequal, union\n",
      "\n",
      "\n",
      "\n",
      "Attaching package: ‘data.table’\n",
      "\n",
      "\n",
      "The following objects are masked from ‘package:dplyr’:\n",
      "\n",
      "    between, first, last\n",
      "\n",
      "\n",
      "Loading required package: grid\n",
      "\n",
      "Loading required package: libcoin\n",
      "\n",
      "Loading required package: mvtnorm\n",
      "\n",
      "Loading required package: lattice\n",
      "\n",
      "Loading required package: ggplot2\n",
      "\n",
      "randomForest 4.6-14\n",
      "\n",
      "Type rfNews() to see new features/changes/bug fixes.\n",
      "\n",
      "\n",
      "Attaching package: ‘randomForest’\n",
      "\n",
      "\n",
      "The following object is masked from ‘package:ggplot2’:\n",
      "\n",
      "    margin\n",
      "\n",
      "\n",
      "The following object is masked from ‘package:dplyr’:\n",
      "\n",
      "    combine\n",
      "\n",
      "\n",
      "\n",
      "Attaching package: ‘ranger’\n",
      "\n",
      "\n",
      "The following object is masked from ‘package:randomForest’:\n",
      "\n",
      "    importance\n",
      "\n",
      "\n",
      "\n",
      "Attaching package: ‘plotly’\n",
      "\n",
      "\n",
      "The following object is masked from ‘package:ggplot2’:\n",
      "\n",
      "    last_plot\n",
      "\n",
      "\n",
      "The following object is masked from ‘package:stats’:\n",
      "\n",
      "    filter\n",
      "\n",
      "\n",
      "The following object is masked from ‘package:graphics’:\n",
      "\n",
      "    layout\n",
      "\n",
      "\n",
      "Loading required package: RJSONIO\n",
      "\n"
     ]
    },
    {
     "data": {
      "text/html": [
       "'/home/jupyter/local/Domains_202003/scripts/phaseII_gcloudaccess'"
      ],
      "text/latex": [
       "'/home/jupyter/local/Domains\\_202003/scripts/phaseII\\_gcloudaccess'"
      ],
      "text/markdown": [
       "'/home/jupyter/local/Domains_202003/scripts/phaseII_gcloudaccess'"
      ],
      "text/plain": [
       "[1] \"/home/jupyter/local/Domains_202003/scripts/phaseII_gcloudaccess\""
      ]
     },
     "metadata": {},
     "output_type": "display_data"
    }
   ],
   "source": [
    "library(dplyr)\n",
    "library(data.table)\n",
    "library(partykit)\n",
    "library(tictoc)\n",
    "library(caret)\n",
    "library(e1071)\n",
    "library(randomForest)\n",
    "library(ranger)\n",
    "\n",
    "#for 3d plotting\n",
    "library(akima)\n",
    "library(plotly)\n",
    "\n",
    "# for prep data\n",
    "library(rPython)\n",
    "library(stringr)\n",
    "library(pbapply)\n",
    "library(stringdist)\n",
    "library(data.table)\n",
    "\n",
    "getwd()"
   ]
  },
  {
   "cell_type": "markdown",
   "metadata": {},
   "source": [
    "# Load functions, models, data"
   ]
  },
  {
   "cell_type": "markdown",
   "metadata": {},
   "source": [
    "## Functions"
   ]
  },
  {
   "cell_type": "code",
   "execution_count": 61,
   "metadata": {},
   "outputs": [],
   "source": [
    "\n",
    "source('../orig/functions.R')\n",
    "\n",
    "source('../orig/functions_models.R')\n",
    "\n",
    "source('functions_eval.R')"
   ]
  },
  {
   "cell_type": "markdown",
   "metadata": {},
   "source": [
    "## Models"
   ]
  },
  {
   "cell_type": "markdown",
   "metadata": {},
   "source": [
    "#### model objects\n",
    "\n",
    "| **PREDS** | tr_phase1, pf_phase1             | tr_phase1, pf_expiry      | tr_expiry, pf_expiry                 | \n",
    "|-----------|----------------------------------|---------------------------|--------------------------------------|\n",
    "| *seg_glm* | first_renewal_model_train        | first_renewal_model_train | first_renewal_model_expiry_train     |   \n",
    "| *rf_500*  | ranger_03_                       | ranger_03_                | ranger_03_expiry                     |  "
   ]
  },
  {
   "cell_type": "code",
   "execution_count": 1,
   "metadata": {},
   "outputs": [],
   "source": [
    "\n",
    "# system(paste(sprintf(\"gsutil cp gs://data_input/%s /home/jupyter/local/Domains_202003/data/\", filename)))\n",
    "\n",
    "# rf_500tr\n",
    "# load(\"../../data/output/ranger_03_expiry\") # new expiry data, w/reg_arpt\n",
    "# load(\"../../data/ranger_03_\") # phase 1 data, w/ reg_aprt\n",
    "\n",
    "# seg_glm\n",
    "# first_renewal_model_expiry_train <- readRDS(sprintf(\"../../data/first_renewal_model_expiry_train\")) # new expiry data, w/ reg_arpt duh!\n",
    "# first_renewal_model_train <- readRDS(sprintf(\"../../data/first_renewal_model_train\")) # phase 1 data, w/ reg_aprt\n",
    "\n"
   ]
  },
  {
   "cell_type": "markdown",
   "metadata": {},
   "source": [
    "## Data "
   ]
  },
  {
   "cell_type": "markdown",
   "metadata": {},
   "source": [
    "#### predicted output TEST\n",
    "\n",
    "| **PREDS** | tr_phase1, pf_phase1             | tr_phase1, pf_expiry      | tr_expiry, pf_expiry                 | \n",
    "|-----------|----------------------------------|---------------------------|--------------------------------------|\n",
    "| *seg_glm* | first_renewal_model_test_predict | seg_glm_exptest           | seg_glm_expiry_exptest               |   \n",
    "| *rf_500*  | predict_ranger_03_               | ranger_predict_03_exptest | ranger_predict_03_expiry             |   "
   ]
  },
  {
   "cell_type": "code",
   "execution_count": 4,
   "metadata": {},
   "outputs": [],
   "source": [
    "filename = 'first_renewal_model_test_predict'\n",
    "system(paste(sprintf(\"gsutil cp gs://data_input/%s /home/jupyter/local/Domains_202003/data/\", filename)))\n",
    "first_renewal_model_test_predict <- readRDS(file.path(\"/home/jupyter/local/Domains_202003/data/\", filename))"
   ]
  },
  {
   "cell_type": "code",
   "execution_count": 5,
   "metadata": {},
   "outputs": [],
   "source": [
    "load(\"/home/jupyter/local/Domains_202003/data/predict_ranger_03_\")"
   ]
  },
  {
   "cell_type": "code",
   "execution_count": 6,
   "metadata": {},
   "outputs": [],
   "source": [
    "seg_glm_exptest <- readRDS(\"/home/jupyter/local/Domains_202003/data/seg_glm_exptest\")"
   ]
  },
  {
   "cell_type": "code",
   "execution_count": 7,
   "metadata": {},
   "outputs": [],
   "source": [
    "load(\"/home/jupyter/local/Domains_202003/data/ranger_predict_03_exptest\")"
   ]
  },
  {
   "cell_type": "code",
   "execution_count": 8,
   "metadata": {},
   "outputs": [],
   "source": [
    "seg_glm_expiry_exptest <- readRDS(\"/home/jupyter/local/Domains_202003/data/seg_glm_expiry_exptest\")"
   ]
  },
  {
   "cell_type": "code",
   "execution_count": 9,
   "metadata": {},
   "outputs": [],
   "source": [
    "load(\"/home/jupyter/local/Domains_202003/data/ranger_predict_03_expiry\")"
   ]
  },
  {
   "cell_type": "code",
   "execution_count": 10,
   "metadata": {},
   "outputs": [],
   "source": [
    "# also load test data for ranger, phase1\n",
    "# ranger_03 trained on train_df_f_sub, a subset (sans leaked vars) of train_df_f which was defined in dtree_play_3.R\n",
    "# i'm bypassing the creation of date related variables as those are ultimately leaks\n",
    "\n",
    "test <- readRDS(\"../../data/test\")\n",
    "test_df <- rbindlist(test)\n",
    "\n",
    "test_df_f_sub <- subset(test_df, select = c(renewal_status, tld, registrar, reseller, \n",
    "                                              reseller_country, region, reg_period, \n",
    "                                              sld_type, sld_length, day_domains, gibb_score, \n",
    "                                              pattern_domain_count,reg_arpt) ) \n",
    "test_df_f_sub <- test_df_f_sub %>%\n",
    "  mutate_if(sapply(test_df_f_sub, is.character), as.factor)"
   ]
  },
  {
   "cell_type": "code",
   "execution_count": 4,
   "metadata": {},
   "outputs": [],
   "source": [
    "# also load test data for ranger, phase1\n",
    "# ranger_03 trained on train_df_f_sub, a subset (sans leaked vars) of train_df_f which was defined in dtree_play_3.R\n",
    "# i'm bypassing the creation of date related variables as those are ultimately leaks\n",
    "\n",
    "# train <- readRDS(\"../../data/test\")\n",
    "# train_df <- rbindlist(train)\n",
    "\n",
    "# train_df_f_sub <- subset(train_df, select = c(renewal_status, tld, registrar, reseller, \n",
    "#                                               reseller_country, region, reg_period, \n",
    "#                                               sld_type, sld_length, day_domains, gibb_score, \n",
    "#                                               pattern_domain_count,reg_arpt) ) \n",
    "train_df_f_sub <- train_df_f_sub %>%\n",
    "  mutate_if(sapply(train_df_f_sub, is.character), as.factor)"
   ]
  },
  {
   "cell_type": "code",
   "execution_count": 5,
   "metadata": {},
   "outputs": [
    {
     "data": {
      "text/html": [
       "<style>\n",
       ".list-inline {list-style: none; margin:0; padding: 0}\n",
       ".list-inline>li {display: inline-block}\n",
       ".list-inline>li:not(:last-child)::after {content: \"\\00b7\"; padding: 0 .5ex}\n",
       "</style>\n",
       "<ol class=list-inline><li>Renewed</li><li>Renewed</li><li>Not Renewd</li><li>Not Renewd</li><li>Renewed</li><li>Not Renewd</li></ol>\n",
       "\n",
       "<details>\n",
       "\t<summary style=display:list-item;cursor:pointer>\n",
       "\t\t<strong>Levels</strong>:\n",
       "\t</summary>\n",
       "\t<style>\n",
       "\t.list-inline {list-style: none; margin:0; padding: 0}\n",
       "\t.list-inline>li {display: inline-block}\n",
       "\t.list-inline>li:not(:last-child)::after {content: \"\\00b7\"; padding: 0 .5ex}\n",
       "\t</style>\n",
       "\t<ol class=list-inline><li>'Not Renewd'</li><li>'Renewed'</li></ol>\n",
       "</details>"
      ],
      "text/latex": [
       "\\begin{enumerate*}\n",
       "\\item Renewed\n",
       "\\item Renewed\n",
       "\\item Not Renewd\n",
       "\\item Not Renewd\n",
       "\\item Renewed\n",
       "\\item Not Renewd\n",
       "\\end{enumerate*}\n",
       "\n",
       "\\emph{Levels}: \\begin{enumerate*}\n",
       "\\item 'Not Renewd'\n",
       "\\item 'Renewed'\n",
       "\\end{enumerate*}\n"
      ],
      "text/markdown": [
       "1. Renewed\n",
       "2. Renewed\n",
       "3. Not Renewd\n",
       "4. Not Renewd\n",
       "5. Renewed\n",
       "6. Not Renewd\n",
       "\n",
       "\n",
       "\n",
       "**Levels**: 1. 'Not Renewd'\n",
       "2. 'Renewed'\n",
       "\n",
       "\n"
      ],
      "text/plain": [
       "[1] Renewed    Renewed    Not Renewd Not Renewd Renewed    Not Renewd\n",
       "Levels: Not Renewd Renewed"
      ]
     },
     "metadata": {},
     "output_type": "display_data"
    }
   ],
   "source": [
    "train_df_f_sub$renewal_status %>% head()"
   ]
  },
  {
   "cell_type": "code",
   "execution_count": 11,
   "metadata": {},
   "outputs": [],
   "source": [
    "# also load test data for ranger, expiry\n",
    "# system(\"gsutil cp gs://data_outputt/output/expiry_test_prepped_2 /home/jupyter/local/Domains_202003/data/expiry_test_prepped_2\")\n",
    "expiry_test_prepped_2 <- readRDS(\"/home/jupyter/local/Domains_202003/data/expiry_test_prepped_2\")\n",
    "expiry_test_df <- rbindlist(expiry_test_prepped_2, fill=TRUE)"
   ]
  },
  {
   "cell_type": "markdown",
   "metadata": {},
   "source": [
    "#### lifts\n",
    "|**LIFT_DF**| tr_phase1, pf_phase1             | tr_phase1, pf_expiry      | tr_expiry, pf_expiry                 | \n",
    "|-----------|----------------------------------|---------------------------|--------------------------------------|\n",
    "| *seg_glm* | lift_df_segglm                   | lift_df_seg_glm_exptest   | lift_df_seg_glm_expiry_exptest       |   \n",
    "| *rf_500*  | lift_df_ranger_03_               | lift_df_ranger_03         | lift_df_ranger_03_expiry             |   \n",
    "\n"
   ]
  },
  {
   "cell_type": "code",
   "execution_count": 48,
   "metadata": {},
   "outputs": [],
   "source": [
    "lift_df_seg_glm_expiry_exptest <- readRDS(\"../../data/lift_df_seg_glm_expiry_exptest\")"
   ]
  },
  {
   "cell_type": "code",
   "execution_count": 49,
   "metadata": {},
   "outputs": [],
   "source": [
    "lift_df_ranger_03_expiry <- readRDS(\"../../data/lift_df_ranger_03_expiry\")"
   ]
  },
  {
   "cell_type": "markdown",
   "metadata": {},
   "source": [
    "# Confusion Matrices"
   ]
  },
  {
   "cell_type": "code",
   "execution_count": 12,
   "metadata": {},
   "outputs": [],
   "source": [
    "CM_thresh_test <- function (actual, predicted, thresh){\n",
    "    predicted <- as.factor(predicted>thresh)\n",
    "    actual <- as.factor(actual==\"Renewed\")\n",
    "    confusionMatrix(predicted,actual)\n",
    "}"
   ]
  },
  {
   "cell_type": "code",
   "execution_count": 13,
   "metadata": {},
   "outputs": [],
   "source": [
    "results <- CM_thresh_test(first_renewal_model_test_predict$renewal_status,\n",
    "              first_renewal_model_test_predict$first_renewal_prediction,\n",
    "              .5)\n",
    "\n",
    "cm1 <- as.table(results)\n",
    "\n",
    "df1 <- as.matrix(results, what = \"classes\")"
   ]
  },
  {
   "cell_type": "code",
   "execution_count": 21,
   "metadata": {},
   "outputs": [],
   "source": [
    "results2 <- CM_thresh_test(test_df_f_sub$renewal_status,\n",
    "                           predict_ranger_03_,\n",
    "                           .5)\n",
    "cm2 <- as.table(results2)\n",
    "df2 <- as.matrix(results2, what = \"classes\")"
   ]
  },
  {
   "cell_type": "code",
   "execution_count": 29,
   "metadata": {},
   "outputs": [],
   "source": [
    "results5 <- CM_thresh_test(expiry_test_df$renewal_status,\n",
    "                           seg_glm_expiry_exptest$first_renewal_prediction,\n",
    "                           .5)\n",
    "cm5 <- as.table(results5)\n",
    "df5 <- as.matrix(results5, what = \"classes\")\n",
    "\n",
    "results6 <- CM_thresh_test(expiry_test_df$renewal_status,\n",
    "                           ranger_predict_03_expiry,\n",
    "                           .5)\n",
    "cm6 <- as.table(results6)\n",
    "df6 <- as.matrix(results6, what = \"classes\")"
   ]
  },
  {
   "cell_type": "code",
   "execution_count": 46,
   "metadata": {},
   "outputs": [
    {
     "data": {
      "text/plain": [
       "          Reference\n",
       "Prediction  FALSE   TRUE\n",
       "     FALSE 265463  22748\n",
       "     TRUE   21363  37839"
      ]
     },
     "metadata": {},
     "output_type": "display_data"
    },
    {
     "data": {
      "text/plain": [
       "          Reference\n",
       "Prediction  FALSE   TRUE\n",
       "     FALSE 277493  52859\n",
       "     TRUE   10050   8189"
      ]
     },
     "metadata": {},
     "output_type": "display_data"
    }
   ],
   "source": [
    "cm5\n",
    "cm6"
   ]
  },
  {
   "cell_type": "code",
   "execution_count": 44,
   "metadata": {},
   "outputs": [
    {
     "data": {
      "text/html": [
       "<table>\n",
       "<caption>A data.frame: 11 × 2</caption>\n",
       "<thead>\n",
       "\t<tr><th></th><th scope=col>seg_glm</th><th scope=col>ranger_03</th></tr>\n",
       "\t<tr><th></th><th scope=col>&lt;dbl&gt;</th><th scope=col>&lt;dbl&gt;</th></tr>\n",
       "</thead>\n",
       "<tbody>\n",
       "\t<tr><th scope=row>Sensitivity</th><td>0.9255193</td><td>0.9650487</td></tr>\n",
       "\t<tr><th scope=row>Specificity</th><td>0.6245399</td><td>0.1341403</td></tr>\n",
       "\t<tr><th scope=row>Pos Pred Value</th><td>0.9210717</td><td>0.8399919</td></tr>\n",
       "\t<tr><th scope=row>Neg Pred Value</th><td>0.6391507</td><td>0.4489829</td></tr>\n",
       "\t<tr><th scope=row>Precision</th><td>0.9210717</td><td>0.8399919</td></tr>\n",
       "\t<tr><th scope=row>Recall</th><td>0.9255193</td><td>0.9650487</td></tr>\n",
       "\t<tr><th scope=row>F1</th><td>0.9232902</td><td>0.8981882</td></tr>\n",
       "\t<tr><th scope=row>Prevalence</th><td>0.8256053</td><td>0.8248721</td></tr>\n",
       "\t<tr><th scope=row>Detection Rate</th><td>0.7641136</td><td>0.7960418</td></tr>\n",
       "\t<tr><th scope=row>Detection Prevalence</th><td>0.8295919</td><td>0.9476779</td></tr>\n",
       "\t<tr><th scope=row>Balanced Accuracy</th><td>0.7750296</td><td>0.5495945</td></tr>\n",
       "</tbody>\n",
       "</table>\n"
      ],
      "text/latex": [
       "A data.frame: 11 × 2\n",
       "\\begin{tabular}{r|ll}\n",
       "  & seg\\_glm & ranger\\_03\\\\\n",
       "  & <dbl> & <dbl>\\\\\n",
       "\\hline\n",
       "\tSensitivity & 0.9255193 & 0.9650487\\\\\n",
       "\tSpecificity & 0.6245399 & 0.1341403\\\\\n",
       "\tPos Pred Value & 0.9210717 & 0.8399919\\\\\n",
       "\tNeg Pred Value & 0.6391507 & 0.4489829\\\\\n",
       "\tPrecision & 0.9210717 & 0.8399919\\\\\n",
       "\tRecall & 0.9255193 & 0.9650487\\\\\n",
       "\tF1 & 0.9232902 & 0.8981882\\\\\n",
       "\tPrevalence & 0.8256053 & 0.8248721\\\\\n",
       "\tDetection Rate & 0.7641136 & 0.7960418\\\\\n",
       "\tDetection Prevalence & 0.8295919 & 0.9476779\\\\\n",
       "\tBalanced Accuracy & 0.7750296 & 0.5495945\\\\\n",
       "\\end{tabular}\n"
      ],
      "text/markdown": [
       "\n",
       "A data.frame: 11 × 2\n",
       "\n",
       "| <!--/--> | seg_glm &lt;dbl&gt; | ranger_03 &lt;dbl&gt; |\n",
       "|---|---|---|\n",
       "| Sensitivity | 0.9255193 | 0.9650487 |\n",
       "| Specificity | 0.6245399 | 0.1341403 |\n",
       "| Pos Pred Value | 0.9210717 | 0.8399919 |\n",
       "| Neg Pred Value | 0.6391507 | 0.4489829 |\n",
       "| Precision | 0.9210717 | 0.8399919 |\n",
       "| Recall | 0.9255193 | 0.9650487 |\n",
       "| F1 | 0.9232902 | 0.8981882 |\n",
       "| Prevalence | 0.8256053 | 0.8248721 |\n",
       "| Detection Rate | 0.7641136 | 0.7960418 |\n",
       "| Detection Prevalence | 0.8295919 | 0.9476779 |\n",
       "| Balanced Accuracy | 0.7750296 | 0.5495945 |\n",
       "\n"
      ],
      "text/plain": [
       "                     seg_glm   ranger_03\n",
       "Sensitivity          0.9255193 0.9650487\n",
       "Specificity          0.6245399 0.1341403\n",
       "Pos Pred Value       0.9210717 0.8399919\n",
       "Neg Pred Value       0.6391507 0.4489829\n",
       "Precision            0.9210717 0.8399919\n",
       "Recall               0.9255193 0.9650487\n",
       "F1                   0.9232902 0.8981882\n",
       "Prevalence           0.8256053 0.8248721\n",
       "Detection Rate       0.7641136 0.7960418\n",
       "Detection Prevalence 0.8295919 0.9476779\n",
       "Balanced Accuracy    0.7750296 0.5495945"
      ]
     },
     "metadata": {},
     "output_type": "display_data"
    }
   ],
   "source": [
    "perf_newdata_df <- cbind(as.data.frame(df5),as.data.frame(df6))\n",
    "names(perf_newdata_df) <- c(\"seg_glm\",\"ranger_03\")\n",
    "perf_newdata_df"
   ]
  },
  {
   "cell_type": "markdown",
   "metadata": {},
   "source": [
    "# Lift & Gains"
   ]
  },
  {
   "cell_type": "code",
   "execution_count": 53,
   "metadata": {},
   "outputs": [
    {
     "data": {
      "text/html": [
       "<table>\n",
       "<caption>A data.frame: 10 × 3</caption>\n",
       "<thead>\n",
       "\t<tr><th scope=col>pct</th><th scope=col>seg_glm</th><th scope=col>ranger_03</th></tr>\n",
       "\t<tr><th scope=col>&lt;dbl&gt;</th><th scope=col>&lt;dbl&gt;</th><th scope=col>&lt;dbl&gt;</th></tr>\n",
       "</thead>\n",
       "<tbody>\n",
       "\t<tr><td>0.1</td><td>3.948532</td><td>3.779976</td></tr>\n",
       "\t<tr><td>0.2</td><td>3.442209</td><td>3.408793</td></tr>\n",
       "\t<tr><td>0.3</td><td>2.772299</td><td>2.663314</td></tr>\n",
       "\t<tr><td>0.4</td><td>2.258387</td><td>2.174518</td></tr>\n",
       "\t<tr><td>0.5</td><td>1.883993</td><td>1.840060</td></tr>\n",
       "\t<tr><td>0.6</td><td>1.607123</td><td>1.588422</td></tr>\n",
       "\t<tr><td>0.7</td><td>1.397612</td><td>1.391013</td></tr>\n",
       "\t<tr><td>0.8</td><td>1.230999</td><td>1.237346</td></tr>\n",
       "\t<tr><td>0.9</td><td>1.097024</td><td>1.110492</td></tr>\n",
       "\t<tr><td>1.0</td><td>1.000000</td><td>1.000000</td></tr>\n",
       "</tbody>\n",
       "</table>\n"
      ],
      "text/latex": [
       "A data.frame: 10 × 3\n",
       "\\begin{tabular}{lll}\n",
       " pct & seg\\_glm & ranger\\_03\\\\\n",
       " <dbl> & <dbl> & <dbl>\\\\\n",
       "\\hline\n",
       "\t 0.1 & 3.948532 & 3.779976\\\\\n",
       "\t 0.2 & 3.442209 & 3.408793\\\\\n",
       "\t 0.3 & 2.772299 & 2.663314\\\\\n",
       "\t 0.4 & 2.258387 & 2.174518\\\\\n",
       "\t 0.5 & 1.883993 & 1.840060\\\\\n",
       "\t 0.6 & 1.607123 & 1.588422\\\\\n",
       "\t 0.7 & 1.397612 & 1.391013\\\\\n",
       "\t 0.8 & 1.230999 & 1.237346\\\\\n",
       "\t 0.9 & 1.097024 & 1.110492\\\\\n",
       "\t 1.0 & 1.000000 & 1.000000\\\\\n",
       "\\end{tabular}\n"
      ],
      "text/markdown": [
       "\n",
       "A data.frame: 10 × 3\n",
       "\n",
       "| pct &lt;dbl&gt; | seg_glm &lt;dbl&gt; | ranger_03 &lt;dbl&gt; |\n",
       "|---|---|---|\n",
       "| 0.1 | 3.948532 | 3.779976 |\n",
       "| 0.2 | 3.442209 | 3.408793 |\n",
       "| 0.3 | 2.772299 | 2.663314 |\n",
       "| 0.4 | 2.258387 | 2.174518 |\n",
       "| 0.5 | 1.883993 | 1.840060 |\n",
       "| 0.6 | 1.607123 | 1.588422 |\n",
       "| 0.7 | 1.397612 | 1.391013 |\n",
       "| 0.8 | 1.230999 | 1.237346 |\n",
       "| 0.9 | 1.097024 | 1.110492 |\n",
       "| 1.0 | 1.000000 | 1.000000 |\n",
       "\n"
      ],
      "text/plain": [
       "   pct seg_glm  ranger_03\n",
       "1  0.1 3.948532 3.779976 \n",
       "2  0.2 3.442209 3.408793 \n",
       "3  0.3 2.772299 2.663314 \n",
       "4  0.4 2.258387 2.174518 \n",
       "5  0.5 1.883993 1.840060 \n",
       "6  0.6 1.607123 1.588422 \n",
       "7  0.7 1.397612 1.391013 \n",
       "8  0.8 1.230999 1.237346 \n",
       "9  0.9 1.097024 1.110492 \n",
       "10 1.0 1.000000 1.000000 "
      ]
     },
     "metadata": {},
     "output_type": "display_data"
    }
   ],
   "source": [
    "lift_newdata_df <- cbind(lift_df_seg_glm_expiry_exptest[c(\"P\",\"lift\")],lift_df_ranger_03_expiry[c(\"lift\")])\n",
    "names(lift_newdata_df) <- c(\"pct\",\"seg_glm\",\"ranger_03\")\n",
    "lift_newdata_df\n",
    "\n",
    "\n"
   ]
  },
  {
   "cell_type": "code",
   "execution_count": 65,
   "metadata": {},
   "outputs": [
    {
     "data": {
      "image/png": "[encoded data removed]",
      "text/plain": [
       "plot without title"
      ]
     },
     "metadata": {
      "image/png": {
       "height": 420,
       "width": 420
      },
      "text/plain": {
       "height": 420,
       "width": 420
      }
     },
     "output_type": "display_data"
    }
   ],
   "source": [
    "\n",
    "source('functions_eval.R')\n",
    "plot_multigains(lift_df_list=list(seg_glm = lift_df_seg_glm_expiry_exptest, \n",
    "                                  rf_500tr = lift_df_ranger_03_expiry),\n",
    "                             auc_list = list(seg_glm = calc_auc(lift_df_seg_glm_expiry_exptest), \n",
    "                                             rf_500tr= calc_auc(lift_df_ranger_03_expiry)))"
   ]
  },
  {
   "cell_type": "markdown",
   "metadata": {},
   "source": [
    "# Side issue: phase1 test data for seg_glm and ranger_03 not equivalent"
   ]
  },
  {
   "cell_type": "code",
   "execution_count": 36,
   "metadata": {},
   "outputs": [
    {
     "data": {
      "text/html": [
       "<table>\n",
       "<caption>A data.frame: 389817 × 2</caption>\n",
       "<thead>\n",
       "\t<tr><th scope=col>first</th><th scope=col>test</th></tr>\n",
       "\t<tr><th scope=col>&lt;fct&gt;</th><th scope=col>&lt;fct&gt;</th></tr>\n",
       "</thead>\n",
       "<tbody>\n",
       "\t<tr><td>Renewed   </td><td>Renewed   </td></tr>\n",
       "\t<tr><td>Not Renewd</td><td>Renewed   </td></tr>\n",
       "\t<tr><td>Not Renewd</td><td>Not Renewd</td></tr>\n",
       "\t<tr><td>Renewed   </td><td>Not Renewd</td></tr>\n",
       "\t<tr><td>Renewed   </td><td>Renewed   </td></tr>\n",
       "\t<tr><td>Renewed   </td><td>Not Renewd</td></tr>\n",
       "\t<tr><td>Renewed   </td><td>Renewed   </td></tr>\n",
       "\t<tr><td>Renewed   </td><td>Renewed   </td></tr>\n",
       "\t<tr><td>Renewed   </td><td>Renewed   </td></tr>\n",
       "\t<tr><td>Renewed   </td><td>Renewed   </td></tr>\n",
       "\t<tr><td>Renewed   </td><td>Not Renewd</td></tr>\n",
       "\t<tr><td>Not Renewd</td><td>Renewed   </td></tr>\n",
       "\t<tr><td>Not Renewd</td><td>Renewed   </td></tr>\n",
       "\t<tr><td>Not Renewd</td><td>Renewed   </td></tr>\n",
       "\t<tr><td>Not Renewd</td><td>Not Renewd</td></tr>\n",
       "\t<tr><td>Renewed   </td><td>Not Renewd</td></tr>\n",
       "\t<tr><td>Renewed   </td><td>Renewed   </td></tr>\n",
       "\t<tr><td>Not Renewd</td><td>Renewed   </td></tr>\n",
       "\t<tr><td>Renewed   </td><td>Not Renewd</td></tr>\n",
       "\t<tr><td>Renewed   </td><td>Renewed   </td></tr>\n",
       "\t<tr><td>Not Renewd</td><td>Renewed   </td></tr>\n",
       "\t<tr><td>Renewed   </td><td>Renewed   </td></tr>\n",
       "\t<tr><td>Renewed   </td><td>Not Renewd</td></tr>\n",
       "\t<tr><td>Renewed   </td><td>Not Renewd</td></tr>\n",
       "\t<tr><td>Renewed   </td><td>Renewed   </td></tr>\n",
       "\t<tr><td>Renewed   </td><td>Renewed   </td></tr>\n",
       "\t<tr><td>Renewed   </td><td>Not Renewd</td></tr>\n",
       "\t<tr><td>Not Renewd</td><td>Not Renewd</td></tr>\n",
       "\t<tr><td>Not Renewd</td><td>Not Renewd</td></tr>\n",
       "\t<tr><td>Renewed   </td><td>Not Renewd</td></tr>\n",
       "\t<tr><td>⋮</td><td>⋮</td></tr>\n",
       "\t<tr><td>Not Renewd</td><td>Renewed   </td></tr>\n",
       "\t<tr><td>Not Renewd</td><td>Not Renewd</td></tr>\n",
       "\t<tr><td>Not Renewd</td><td>Not Renewd</td></tr>\n",
       "\t<tr><td>Not Renewd</td><td>Not Renewd</td></tr>\n",
       "\t<tr><td>Not Renewd</td><td>Not Renewd</td></tr>\n",
       "\t<tr><td>Renewed   </td><td>Not Renewd</td></tr>\n",
       "\t<tr><td>Not Renewd</td><td>Not Renewd</td></tr>\n",
       "\t<tr><td>Not Renewd</td><td>Not Renewd</td></tr>\n",
       "\t<tr><td>Not Renewd</td><td>Not Renewd</td></tr>\n",
       "\t<tr><td>Not Renewd</td><td>Not Renewd</td></tr>\n",
       "\t<tr><td>Not Renewd</td><td>Renewed   </td></tr>\n",
       "\t<tr><td>Renewed   </td><td>Not Renewd</td></tr>\n",
       "\t<tr><td>Not Renewd</td><td>Not Renewd</td></tr>\n",
       "\t<tr><td>Not Renewd</td><td>Renewed   </td></tr>\n",
       "\t<tr><td>Not Renewd</td><td>Not Renewd</td></tr>\n",
       "\t<tr><td>Not Renewd</td><td>Not Renewd</td></tr>\n",
       "\t<tr><td>Not Renewd</td><td>Renewed   </td></tr>\n",
       "\t<tr><td>Not Renewd</td><td>Not Renewd</td></tr>\n",
       "\t<tr><td>Not Renewd</td><td>Not Renewd</td></tr>\n",
       "\t<tr><td>Not Renewd</td><td>Renewed   </td></tr>\n",
       "\t<tr><td>Not Renewd</td><td>Not Renewd</td></tr>\n",
       "\t<tr><td>Not Renewd</td><td>Not Renewd</td></tr>\n",
       "\t<tr><td>Not Renewd</td><td>Not Renewd</td></tr>\n",
       "\t<tr><td>Not Renewd</td><td>Not Renewd</td></tr>\n",
       "\t<tr><td>Not Renewd</td><td>Not Renewd</td></tr>\n",
       "\t<tr><td>Not Renewd</td><td>Not Renewd</td></tr>\n",
       "\t<tr><td>Not Renewd</td><td>Renewed   </td></tr>\n",
       "\t<tr><td>Not Renewd</td><td>Not Renewd</td></tr>\n",
       "\t<tr><td>Not Renewd</td><td>Not Renewd</td></tr>\n",
       "\t<tr><td>Not Renewd</td><td>Not Renewd</td></tr>\n",
       "</tbody>\n",
       "</table>\n"
      ],
      "text/latex": [
       "A data.frame: 389817 × 2\n",
       "\\begin{tabular}{ll}\n",
       " first & test\\\\\n",
       " <fct> & <fct>\\\\\n",
       "\\hline\n",
       "\t Renewed    & Renewed   \\\\\n",
       "\t Not Renewd & Renewed   \\\\\n",
       "\t Not Renewd & Not Renewd\\\\\n",
       "\t Renewed    & Not Renewd\\\\\n",
       "\t Renewed    & Renewed   \\\\\n",
       "\t Renewed    & Not Renewd\\\\\n",
       "\t Renewed    & Renewed   \\\\\n",
       "\t Renewed    & Renewed   \\\\\n",
       "\t Renewed    & Renewed   \\\\\n",
       "\t Renewed    & Renewed   \\\\\n",
       "\t Renewed    & Not Renewd\\\\\n",
       "\t Not Renewd & Renewed   \\\\\n",
       "\t Not Renewd & Renewed   \\\\\n",
       "\t Not Renewd & Renewed   \\\\\n",
       "\t Not Renewd & Not Renewd\\\\\n",
       "\t Renewed    & Not Renewd\\\\\n",
       "\t Renewed    & Renewed   \\\\\n",
       "\t Not Renewd & Renewed   \\\\\n",
       "\t Renewed    & Not Renewd\\\\\n",
       "\t Renewed    & Renewed   \\\\\n",
       "\t Not Renewd & Renewed   \\\\\n",
       "\t Renewed    & Renewed   \\\\\n",
       "\t Renewed    & Not Renewd\\\\\n",
       "\t Renewed    & Not Renewd\\\\\n",
       "\t Renewed    & Renewed   \\\\\n",
       "\t Renewed    & Renewed   \\\\\n",
       "\t Renewed    & Not Renewd\\\\\n",
       "\t Not Renewd & Not Renewd\\\\\n",
       "\t Not Renewd & Not Renewd\\\\\n",
       "\t Renewed    & Not Renewd\\\\\n",
       "\t ⋮ & ⋮\\\\\n",
       "\t Not Renewd & Renewed   \\\\\n",
       "\t Not Renewd & Not Renewd\\\\\n",
       "\t Not Renewd & Not Renewd\\\\\n",
       "\t Not Renewd & Not Renewd\\\\\n",
       "\t Not Renewd & Not Renewd\\\\\n",
       "\t Renewed    & Not Renewd\\\\\n",
       "\t Not Renewd & Not Renewd\\\\\n",
       "\t Not Renewd & Not Renewd\\\\\n",
       "\t Not Renewd & Not Renewd\\\\\n",
       "\t Not Renewd & Not Renewd\\\\\n",
       "\t Not Renewd & Renewed   \\\\\n",
       "\t Renewed    & Not Renewd\\\\\n",
       "\t Not Renewd & Not Renewd\\\\\n",
       "\t Not Renewd & Renewed   \\\\\n",
       "\t Not Renewd & Not Renewd\\\\\n",
       "\t Not Renewd & Not Renewd\\\\\n",
       "\t Not Renewd & Renewed   \\\\\n",
       "\t Not Renewd & Not Renewd\\\\\n",
       "\t Not Renewd & Not Renewd\\\\\n",
       "\t Not Renewd & Renewed   \\\\\n",
       "\t Not Renewd & Not Renewd\\\\\n",
       "\t Not Renewd & Not Renewd\\\\\n",
       "\t Not Renewd & Not Renewd\\\\\n",
       "\t Not Renewd & Not Renewd\\\\\n",
       "\t Not Renewd & Not Renewd\\\\\n",
       "\t Not Renewd & Not Renewd\\\\\n",
       "\t Not Renewd & Renewed   \\\\\n",
       "\t Not Renewd & Not Renewd\\\\\n",
       "\t Not Renewd & Not Renewd\\\\\n",
       "\t Not Renewd & Not Renewd\\\\\n",
       "\\end{tabular}\n"
      ],
      "text/markdown": [
       "\n",
       "A data.frame: 389817 × 2\n",
       "\n",
       "| first &lt;fct&gt; | test &lt;fct&gt; |\n",
       "|---|---|\n",
       "| Renewed    | Renewed    |\n",
       "| Not Renewd | Renewed    |\n",
       "| Not Renewd | Not Renewd |\n",
       "| Renewed    | Not Renewd |\n",
       "| Renewed    | Renewed    |\n",
       "| Renewed    | Not Renewd |\n",
       "| Renewed    | Renewed    |\n",
       "| Renewed    | Renewed    |\n",
       "| Renewed    | Renewed    |\n",
       "| Renewed    | Renewed    |\n",
       "| Renewed    | Not Renewd |\n",
       "| Not Renewd | Renewed    |\n",
       "| Not Renewd | Renewed    |\n",
       "| Not Renewd | Renewed    |\n",
       "| Not Renewd | Not Renewd |\n",
       "| Renewed    | Not Renewd |\n",
       "| Renewed    | Renewed    |\n",
       "| Not Renewd | Renewed    |\n",
       "| Renewed    | Not Renewd |\n",
       "| Renewed    | Renewed    |\n",
       "| Not Renewd | Renewed    |\n",
       "| Renewed    | Renewed    |\n",
       "| Renewed    | Not Renewd |\n",
       "| Renewed    | Not Renewd |\n",
       "| Renewed    | Renewed    |\n",
       "| Renewed    | Renewed    |\n",
       "| Renewed    | Not Renewd |\n",
       "| Not Renewd | Not Renewd |\n",
       "| Not Renewd | Not Renewd |\n",
       "| Renewed    | Not Renewd |\n",
       "| ⋮ | ⋮ |\n",
       "| Not Renewd | Renewed    |\n",
       "| Not Renewd | Not Renewd |\n",
       "| Not Renewd | Not Renewd |\n",
       "| Not Renewd | Not Renewd |\n",
       "| Not Renewd | Not Renewd |\n",
       "| Renewed    | Not Renewd |\n",
       "| Not Renewd | Not Renewd |\n",
       "| Not Renewd | Not Renewd |\n",
       "| Not Renewd | Not Renewd |\n",
       "| Not Renewd | Not Renewd |\n",
       "| Not Renewd | Renewed    |\n",
       "| Renewed    | Not Renewd |\n",
       "| Not Renewd | Not Renewd |\n",
       "| Not Renewd | Renewed    |\n",
       "| Not Renewd | Not Renewd |\n",
       "| Not Renewd | Not Renewd |\n",
       "| Not Renewd | Renewed    |\n",
       "| Not Renewd | Not Renewd |\n",
       "| Not Renewd | Not Renewd |\n",
       "| Not Renewd | Renewed    |\n",
       "| Not Renewd | Not Renewd |\n",
       "| Not Renewd | Not Renewd |\n",
       "| Not Renewd | Not Renewd |\n",
       "| Not Renewd | Not Renewd |\n",
       "| Not Renewd | Not Renewd |\n",
       "| Not Renewd | Not Renewd |\n",
       "| Not Renewd | Renewed    |\n",
       "| Not Renewd | Not Renewd |\n",
       "| Not Renewd | Not Renewd |\n",
       "| Not Renewd | Not Renewd |\n",
       "\n"
      ],
      "text/plain": [
       "       first      test      \n",
       "1      Renewed    Renewed   \n",
       "2      Not Renewd Renewed   \n",
       "3      Not Renewd Not Renewd\n",
       "4      Renewed    Not Renewd\n",
       "5      Renewed    Renewed   \n",
       "6      Renewed    Not Renewd\n",
       "7      Renewed    Renewed   \n",
       "8      Renewed    Renewed   \n",
       "9      Renewed    Renewed   \n",
       "10     Renewed    Renewed   \n",
       "11     Renewed    Not Renewd\n",
       "12     Not Renewd Renewed   \n",
       "13     Not Renewd Renewed   \n",
       "14     Not Renewd Renewed   \n",
       "15     Not Renewd Not Renewd\n",
       "16     Renewed    Not Renewd\n",
       "17     Renewed    Renewed   \n",
       "18     Not Renewd Renewed   \n",
       "19     Renewed    Not Renewd\n",
       "20     Renewed    Renewed   \n",
       "21     Not Renewd Renewed   \n",
       "22     Renewed    Renewed   \n",
       "23     Renewed    Not Renewd\n",
       "24     Renewed    Not Renewd\n",
       "25     Renewed    Renewed   \n",
       "26     Renewed    Renewed   \n",
       "27     Renewed    Not Renewd\n",
       "28     Not Renewd Not Renewd\n",
       "29     Not Renewd Not Renewd\n",
       "30     Renewed    Not Renewd\n",
       "⋮      ⋮          ⋮         \n",
       "389788 Not Renewd Renewed   \n",
       "389789 Not Renewd Not Renewd\n",
       "389790 Not Renewd Not Renewd\n",
       "389791 Not Renewd Not Renewd\n",
       "389792 Not Renewd Not Renewd\n",
       "389793 Renewed    Not Renewd\n",
       "389794 Not Renewd Not Renewd\n",
       "389795 Not Renewd Not Renewd\n",
       "389796 Not Renewd Not Renewd\n",
       "389797 Not Renewd Not Renewd\n",
       "389798 Not Renewd Renewed   \n",
       "389799 Renewed    Not Renewd\n",
       "389800 Not Renewd Not Renewd\n",
       "389801 Not Renewd Renewed   \n",
       "389802 Not Renewd Not Renewd\n",
       "389803 Not Renewd Not Renewd\n",
       "389804 Not Renewd Renewed   \n",
       "389805 Not Renewd Not Renewd\n",
       "389806 Not Renewd Not Renewd\n",
       "389807 Not Renewd Renewed   \n",
       "389808 Not Renewd Not Renewd\n",
       "389809 Not Renewd Not Renewd\n",
       "389810 Not Renewd Not Renewd\n",
       "389811 Not Renewd Not Renewd\n",
       "389812 Not Renewd Not Renewd\n",
       "389813 Not Renewd Not Renewd\n",
       "389814 Not Renewd Renewed   \n",
       "389815 Not Renewd Not Renewd\n",
       "389816 Not Renewd Not Renewd\n",
       "389817 Not Renewd Not Renewd"
      ]
     },
     "metadata": {},
     "output_type": "display_data"
    }
   ],
   "source": [
    "data.frame(first=first_renewal_model_test_predict$renewal_status, test=test_df_f_sub$renewal_status)"
   ]
  },
  {
   "cell_type": "code",
   "execution_count": null,
   "metadata": {},
   "outputs": [],
   "source": []
  }
 ],
 "metadata": {
  "environment": {
   "name": "r-cpu.3-6.m48",
   "type": "gcloud",
   "uri": "gcr.io/deeplearning-platform-release/r-cpu.3-6:m48"
  },
  "kernelspec": {
   "display_name": "R",
   "language": "R",
   "name": "ir"
  },
  "language_info": {
   "codemirror_mode": "r",
   "file_extension": ".r",
   "mimetype": "text/x-r-source",
   "name": "R",
   "pygments_lexer": "r",
   "version": "3.6.3"
  }
 },
 "nbformat": 4,
 "nbformat_minor": 4
}
