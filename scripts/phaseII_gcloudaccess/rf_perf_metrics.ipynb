{
 "cells": [
  {
   "cell_type": "markdown",
   "metadata": {},
   "source": [
    "## Need to geerate performance metrics for the following models\n",
    "\n",
    "|         | tr_phase1, pf_phase1 | tr_phase1, pf_expiry | tr_expiry, pf_expiry |   |\n",
    "|---------|----------------------|----------------------|----------------------|---|\n",
    "| seg_glm |                      |                      |                      |   |\n",
    "| rf_500  | ranger_03_           |                      |                      |   |\n",
    "|         |                      |                      |                      |   |\n",
    "\n",
    "### Metrics include: Gains Curves; Lift values; for each tld-registrar-reg_arpt: sum(prob) vs count (renewed)\n"
   ]
  },
  {
   "cell_type": "markdown",
   "metadata": {},
   "source": [
    "# Housekeeping"
   ]
  },
  {
   "cell_type": "code",
   "execution_count": 1,
   "metadata": {},
   "outputs": [
    {
     "name": "stderr",
     "output_type": "stream",
     "text": [
      "\n",
      "Attaching package: ‘dplyr’\n",
      "\n",
      "\n",
      "The following objects are masked from ‘package:stats’:\n",
      "\n",
      "    filter, lag\n",
      "\n",
      "\n",
      "The following objects are masked from ‘package:base’:\n",
      "\n",
      "    intersect, setdiff, setequal, union\n",
      "\n",
      "\n",
      "\n",
      "Attaching package: ‘data.table’\n",
      "\n",
      "\n",
      "The following objects are masked from ‘package:dplyr’:\n",
      "\n",
      "    between, first, last\n",
      "\n",
      "\n",
      "Loading required package: grid\n",
      "\n",
      "Loading required package: libcoin\n",
      "\n",
      "Loading required package: mvtnorm\n",
      "\n",
      "Loading required package: lattice\n",
      "\n",
      "Loading required package: ggplot2\n",
      "\n",
      "randomForest 4.6-14\n",
      "\n",
      "Type rfNews() to see new features/changes/bug fixes.\n",
      "\n",
      "\n",
      "Attaching package: ‘randomForest’\n",
      "\n",
      "\n",
      "The following object is masked from ‘package:ggplot2’:\n",
      "\n",
      "    margin\n",
      "\n",
      "\n",
      "The following object is masked from ‘package:dplyr’:\n",
      "\n",
      "    combine\n",
      "\n",
      "\n",
      "\n",
      "Attaching package: ‘ranger’\n",
      "\n",
      "\n",
      "The following object is masked from ‘package:randomForest’:\n",
      "\n",
      "    importance\n",
      "\n",
      "\n",
      "\n",
      "Attaching package: ‘plotly’\n",
      "\n",
      "\n",
      "The following object is masked from ‘package:ggplot2’:\n",
      "\n",
      "    last_plot\n",
      "\n",
      "\n",
      "The following object is masked from ‘package:stats’:\n",
      "\n",
      "    filter\n",
      "\n",
      "\n",
      "The following object is masked from ‘package:graphics’:\n",
      "\n",
      "    layout\n",
      "\n",
      "\n",
      "Loading required package: RJSONIO\n",
      "\n"
     ]
    },
    {
     "data": {
      "text/html": [
       "'/home/jupyter/local/Domains_202003/scripts/phaseII_gcloudaccess'"
      ],
      "text/latex": [
       "'/home/jupyter/local/Domains\\_202003/scripts/phaseII\\_gcloudaccess'"
      ],
      "text/markdown": [
       "'/home/jupyter/local/Domains_202003/scripts/phaseII_gcloudaccess'"
      ],
      "text/plain": [
       "[1] \"/home/jupyter/local/Domains_202003/scripts/phaseII_gcloudaccess\""
      ]
     },
     "metadata": {},
     "output_type": "display_data"
    }
   ],
   "source": [
    "library(dplyr)\n",
    "library(data.table)\n",
    "library(partykit)\n",
    "library(tictoc)\n",
    "library(caret)\n",
    "library(e1071)\n",
    "library(randomForest)\n",
    "library(ranger)\n",
    "\n",
    "#for 3d plotting\n",
    "library(akima)\n",
    "library(plotly)\n",
    "\n",
    "# for prep data\n",
    "library(rPython)\n",
    "library(stringr)\n",
    "library(pbapply)\n",
    "library(stringdist)\n",
    "library(data.table)\n",
    "\n",
    "getwd()"
   ]
  },
  {
   "cell_type": "markdown",
   "metadata": {},
   "source": [
    "# Load functions, models, data"
   ]
  },
  {
   "cell_type": "markdown",
   "metadata": {},
   "source": [
    "## Functions"
   ]
  },
  {
   "cell_type": "code",
   "execution_count": null,
   "metadata": {},
   "outputs": [],
   "source": []
  },
  {
   "cell_type": "markdown",
   "metadata": {},
   "source": [
    "## Models"
   ]
  },
  {
   "cell_type": "code",
   "execution_count": null,
   "metadata": {},
   "outputs": [],
   "source": [
    "\n",
    "# system(paste(sprintf(\"gsutil cp gs://data_input/%s /home/jupyter/local/Domains_202003/data/\", filename)))\n",
    "\n",
    "# rf_500tr\n",
    "# load(\"../../data/output/ranger_03_expiry\") # new expiry data, w/reg_arpt\n",
    "# load(\"../../data/ranger_03_\") # phase 1 data, w/ reg_aprt\n",
    "\n",
    "# seg_glm\n",
    "# first_renewal_model_expiry_train <- readRDS(sprintf(\"../../data/first_renewal_model_expiry_train\")) # new expiry data, w/ reg_arpt duh!\n",
    "# first_renewal_model_train <- readRDS(sprintf(\"../../data/first_renewal_model_train\")) # phase 1 data, w/ reg_aprt\n",
    "\n"
   ]
  },
  {
   "cell_type": "markdown",
   "metadata": {},
   "source": [
    "## Data "
   ]
  },
  {
   "cell_type": "markdown",
   "metadata": {},
   "source": [
    "#### predicted output\n",
    "\n",
    "| **PREDS** | tr_phase1, pf_phase1             | tr_phase1, pf_expiry      | tr_expiry, pf_expiry                 | \n",
    "|-----------|----------------------------------|---------------------------|--------------------------------------|\n",
    "| seg_glm   | first_renewal_model_test_predict | seg_glm_exptest           | seg_glm_expiry_exptest               |   \n",
    "| rf_500    | ???                              | ranger_predict_03_exptest | ranger_predict_03_expiry             |   "
   ]
  },
  {
   "cell_type": "code",
   "execution_count": null,
   "metadata": {},
   "outputs": [],
   "source": [
    "first_renewal_model_test_predict <- "
   ]
  },
  {
   "cell_type": "code",
   "execution_count": null,
   "metadata": {},
   "outputs": [],
   "source": [
    "seg_glm_exptest <- "
   ]
  },
  {
   "cell_type": "code",
   "execution_count": null,
   "metadata": {},
   "outputs": [],
   "source": [
    "ranger_predict_03_exptest <- "
   ]
  },
  {
   "cell_type": "code",
   "execution_count": null,
   "metadata": {},
   "outputs": [],
   "source": [
    "seg_glm_expiry_exptest <- "
   ]
  },
  {
   "cell_type": "code",
   "execution_count": null,
   "metadata": {},
   "outputs": [],
   "source": [
    "ranger_predict_03_expiry <- "
   ]
  },
  {
   "cell_type": "markdown",
   "metadata": {},
   "source": [
    "#### lifts\n",
    "|**LIFT_DF**| tr_phase1, pf_phase1             | tr_phase1, pf_expiry      | tr_expiry, pf_expiry                 | \n",
    "|-----------|----------------------------------|---------------------------|--------------------------------------|\n",
    "| seg_glm   | lift_df_segglm                   | lift_df_seg_glm_exptest   | lift_df_seg_glm_expiry_exptest       |   \n",
    "| rf_500    | ???                              | lift_df_ranger_03         | lift_df_ranger_03_expiry             |   \n",
    "\n"
   ]
  },
  {
   "cell_type": "code",
   "execution_count": null,
   "metadata": {},
   "outputs": [],
   "source": []
  }
 ],
 "metadata": {
  "environment": {
   "name": "r-cpu.3-6.m48",
   "type": "gcloud",
   "uri": "gcr.io/deeplearning-platform-release/r-cpu.3-6:m48"
  },
  "kernelspec": {
   "display_name": "R",
   "language": "R",
   "name": "ir"
  },
  "language_info": {
   "codemirror_mode": "r",
   "file_extension": ".r",
   "mimetype": "text/x-r-source",
   "name": "R",
   "pygments_lexer": "r",
   "version": "3.6.3"
  }
 },
 "nbformat": 4,
 "nbformat_minor": 4
}
