{
 "cells": [
  {
   "cell_type": "markdown",
   "metadata": {},
   "source": [
    "# Get Expiry Data QA "
   ]
  },
  {
   "cell_type": "code",
   "execution_count": 1,
   "metadata": {},
   "outputs": [],
   "source": [
    "# install.packages(\"readr\")"
   ]
  },
  {
   "cell_type": "code",
   "execution_count": 2,
   "metadata": {},
   "outputs": [
    {
     "name": "stderr",
     "output_type": "stream",
     "text": [
      "Loading required package: ggplot2\n",
      "\n",
      "\n",
      "Attaching package: ‘plotly’\n",
      "\n",
      "\n",
      "The following object is masked from ‘package:ggplot2’:\n",
      "\n",
      "    last_plot\n",
      "\n",
      "\n",
      "The following object is masked from ‘package:stats’:\n",
      "\n",
      "    filter\n",
      "\n",
      "\n",
      "The following object is masked from ‘package:graphics’:\n",
      "\n",
      "    layout\n",
      "\n",
      "\n"
     ]
    }
   ],
   "source": [
    "library(bigrquery)\n",
    "library(plotly)\n",
    "library(data.table)\n",
    "library(stringr)\n",
    "library(readr)"
   ]
  },
  {
   "cell_type": "code",
   "execution_count": 2,
   "metadata": {},
   "outputs": [
    {
     "data": {
      "text/html": [],
      "text/latex": [],
      "text/markdown": [],
      "text/plain": [
       "character(0)"
      ]
     },
     "metadata": {},
     "output_type": "display_data"
    }
   ],
   "source": [
    "objects()"
   ]
  },
  {
   "cell_type": "code",
   "execution_count": 27,
   "metadata": {},
   "outputs": [],
   "source": [
    "projectid <- \"radixbi-249015\""
   ]
  },
  {
   "cell_type": "code",
   "execution_count": 36,
   "metadata": {},
   "outputs": [],
   "source": [
    "# count number of rows we're working with\n",
    "expiry_date_start='2020-01-01'\n",
    "expiry_date_end='2020-05-31'\n",
    "\n",
    "source(\"query_string_defs.R\")\n",
    "\n",
    "# writeLines(count_expiry_data_str)"
   ]
  },
  {
   "cell_type": "code",
   "execution_count": 40,
   "metadata": {},
   "outputs": [
    {
     "name": "stdout",
     "output_type": "stream",
     "text": [
      "SELECT count(*) FROM ( \n",
      " SELECT 'FirstTime'  AS renewal_type, \n",
      "               1 AS renewed_count, \n",
      "               n.expiry_date AS Expiry_date, \n",
      "               n.domain_id AS domain_id, \n",
      "               n.domain, \n",
      "               n.creation_date AS creation_date1, \n",
      "               \n",
      "               CASE \n",
      "                 WHEN n.deleted_date IS NOT NULL \n",
      "                      AND DATE(n.expiry_date) > SAFE.PARSE_DATE('%Y-%m-%d',n.deleted_date) THEN 'Deleted' \n",
      "                 ELSE 'Active' \n",
      "               END AS status, \n",
      "               \n",
      "               n.tld AS tld, \n",
      "               n.registrar_shortname AS registrar_shortname, \n",
      "               n.client_shortname AS client_shortname, \n",
      "               n.client_country AS client_country, \n",
      "               n.registrant_country AS registrant_country,\n",
      "\n",
      "               CASE \n",
      "                 WHEN n.client_am IN ( 'Kenneth', 'Kenneth HK' ) THEN 'China' \n",
      "                 ELSE 'Non China' \n",
      "               END AS region,\n",
      "\n",
      "               n.period AS noofyears,\n",
      "\n",
      "               CASE \n",
      "                 WHEN ( n.r_renew_type IN ( 'renewal', 'transfer' ) \n",
      "                         OR n.r_autorenew_type = 'realized' ) THEN 'Renewed' \n",
      "                 ELSE 'Not Renewd' \n",
      "               END AS renewal_status, \n",
      "               \n",
      "               n.r_mbg AS renew_mbg,\n",
      "               n.r_renewal_id as renewal_item_id,\n",
      "               n.r_renew_type AS renew_type, \n",
      "               n.r_autorenew_type AS autorenew_type, \n",
      "               DATE(n.r_renew_date) AS renew_date, \n",
      "               n.r_registrar_shortname AS Renew_Registrar_Shortname, \n",
      "               n.r_client_shortname AS Renew_Client_Shortname, \n",
      "               Round(n.net_revenue, 2) AS domain_revenue, \n",
      "               Round(( SAFE_DIVIDE(n.net_revenue, n.period )), 2) AS arpt, \n",
      "               \n",
      "              \n",
      "               Round(( n.net_revenue - ( ( CASE \n",
      "                                             WHEN n.centralnic_comm IS NULL THEN \n",
      "                                             0.00 \n",
      "                                             ELSE n.centralnic_comm \n",
      "                                           END ) + ( CASE \n",
      "                                                       WHEN n.icann_comm IS NULL \n",
      "                                                     THEN \n",
      "                                                       0.00 \n",
      "                                                       ELSE \n",
      "                                         n.icann_comm \n",
      "                                                     END ) ) ), 2)   AS gross_profit, \n",
      "               Round(( n.net_revenue - ( ( CASE \n",
      "                                             WHEN n.centralnic_comm IS NULL THEN \n",
      "                                             0.00 \n",
      "                                             ELSE n.centralnic_comm \n",
      "                                           END ) + ( CASE \n",
      "                                                       WHEN n.icann_comm IS NULL \n",
      "                                                     THEN \n",
      "                                                       0.00 \n",
      "                                                       ELSE n.icann_comm \n",
      "                                                     END ) ) ), 2)   AS gp_less_icann_fixed, \n",
      "               n.r_period AS renew_domain_years, \n",
      "               Round(n.r_net_revenue, 2) AS renew_domain_revenue, \n",
      "               Round( SAFE_DIVIDE(n.r_net_revenue, CAST(n.r_period as INT64)), 2) AS renew_arpt, \n",
      "\n",
      "              \n",
      "               Round(( SAFE_DIVIDE(n.net_revenue, n.period )), 2) AS registration_arpt \n",
      "\n",
      "\n",
      "               \n",
      "        FROM   radixbi-249015.prediction_vendors.newreg n \n",
      "                              \n",
      "        WHERE  n.mbg = 0 \n",
      "               AND n.expiry_date >= '2020-01-01'\n",
      "               AND n.expiry_date <= '2020-05-31'\n",
      "               AND n.period > 0  \n",
      " UNION ALL \n",
      " SELECT CASE \n",
      "                 WHEN renewed_count > 1 THEN 'Subsequent' \n",
      "                 ELSE 'Second' \n",
      "               END AS renewal_type, \n",
      "               \n",
      "               (renewed_count + 1 ) AS renewed_count, \n",
      "               n.transaction_expiry AS Expiry_date, \n",
      "               n.domain_id AS domain_id, \n",
      "               n.domain AS domain, \n",
      "               pr.creation_date AS creation_date1, \n",
      "               CASE \n",
      "                 WHEN n.deleted_date IS NOT NULL \n",
      "                      AND DATE(n.transaction_expiry) > SAFE.PARSE_DATE('%Y-%m-%d',n.deleted_date) THEN 'Deleted' \n",
      "                 ELSE 'Active' \n",
      "               END AS status, \n",
      "               \n",
      "               n.tld AS tld, \n",
      "               n.registrar_shortname AS registrar_shortname, \n",
      "               n.client_shortname AS client_shortname, \n",
      "               n.client_country AS client_country, \n",
      "               n.registrant_country AS registrant_country,\n",
      "               \n",
      "               CASE \n",
      "                 WHEN n.client_am IN ( 'Kenneth', 'Kenneth HK' ) THEN 'China' \n",
      "                 ELSE 'Non China' \n",
      "               END AS region, \n",
      "               n.period AS noofyears, \n",
      "               \n",
      "               CASE \n",
      "                 WHEN ( n.r_renew_type IN ( 'renewal', 'transfer' ) \n",
      "                         OR n.r_autorenew_type = 'realized' ) THEN 'Renewed' \n",
      "                 ELSE 'Not Renewd' \n",
      "               END AS renewal_status,\n",
      "               \n",
      "               \n",
      "               CAST(n.r_mbg as INT64) AS renew_mbg,\n",
      "                n.r_renewal_id as renewal_item_id,\n",
      "               n.r_renew_type AS renew_type, \n",
      "               n.r_autorenew_type AS autorenew_type, \n",
      "               PARSE_DATE('%Y-%m-%d',n.r_renew_date) AS renew_date, \n",
      "               n.r_registrar_shortname AS Renew_Registrar_Shortname, \n",
      "               n.r_client_shortname AS Renew_Client_Shortname, \n",
      "               Round(n.net_revenue, 2) AS domain_revenue, \n",
      "               Round(( SAFE_DIVIDE(n.net_revenue ,n.period )), 2) AS arpt, \n",
      "               \n",
      "               Round(( n.net_revenue - ( ( CASE \n",
      "                                             WHEN n.centralnic_comm IS NULL THEN \n",
      "                                             0.00 \n",
      "                                             ELSE n.centralnic_comm \n",
      "                                           END ) + ( CASE \n",
      "                                                       WHEN n.icann_comm IS NULL \n",
      "                                                     THEN \n",
      "                                                       0.00 \n",
      "                                                       ELSE \n",
      "                                         n.icann_comm \n",
      "                                                     END ) ) ), 2)   AS gross_profit, \n",
      "               Round(( n.net_revenue - ( ( CASE \n",
      "                                             WHEN n.centralnic_comm IS NULL THEN \n",
      "                                             0.00 \n",
      "                                             ELSE n.centralnic_comm \n",
      "                                           END ) + ( CASE \n",
      "                                                       WHEN n.icann_comm IS NULL \n",
      "                                                     THEN \n",
      "                                                       0.00 \n",
      "                                                       ELSE n.icann_comm \n",
      "                                                     END ) ) ), 2)   AS gp_less_icann_fixed, \n",
      "               CAST(n.r_period as INT64) AS renew_domain_years, \n",
      "               Round(n.r_net_revenue, 2) AS renew_domain_revenue, \n",
      "               Round( SAFE_DIVIDE(n.r_net_revenue , CAST(n.r_period as INT64)), 2) AS renew_arpt, \n",
      "               \n",
      "               \n",
      "               CASE \n",
      "                 WHEN n.newreg_period IS NOT NULL THEN Round(( \n",
      "                 SAFE_DIVIDE(n.newreg_net_revenue, n.newreg_period )), 2) \n",
      "                 ELSE 0 \n",
      "               END AS \n",
      "               registration_arpt \n",
      "        FROM   radixbi-249015.prediction_vendors.renews n \n",
      "               LEFT OUTER JOIN radixbi-249015.prediction_vendors.newreg pr \n",
      "                            ON n.domain_id = pr.domain_id \n",
      "                               \n",
      "        WHERE  n.mbg = 0 \n",
      "               AND n.transaction_expiry >= '2020-01-01'\n",
      "               AND n.transaction_expiry <= '2020-05-31'\n",
      "               AND n.period > 0 \n",
      "               AND ( n.renew_type IN ( 'renewal', 'transfer' ) \n",
      "                      OR n.autorenew_type = 'realized' ) \n",
      " ) AS sub"
     ]
    }
   ],
   "source": [
    "cat(count_expiry_data_str)"
   ]
  },
  {
   "cell_type": "code",
   "execution_count": 38,
   "metadata": {},
   "outputs": [
    {
     "data": {
      "text/html": [
       "<table>\n",
       "<caption>A tibble: 1 × 1</caption>\n",
       "<thead>\n",
       "\t<tr><th scope=col>f0_</th></tr>\n",
       "\t<tr><th scope=col>&lt;int&gt;</th></tr>\n",
       "</thead>\n",
       "<tbody>\n",
       "\t<tr><td>1743356</td></tr>\n",
       "</tbody>\n",
       "</table>\n"
      ],
      "text/latex": [
       "A tibble: 1 × 1\n",
       "\\begin{tabular}{l}\n",
       " f0\\_\\\\\n",
       " <int>\\\\\n",
       "\\hline\n",
       "\t 1743356\\\\\n",
       "\\end{tabular}\n"
      ],
      "text/markdown": [
       "\n",
       "A tibble: 1 × 1\n",
       "\n",
       "| f0_ &lt;int&gt; |\n",
       "|---|\n",
       "| 1743356 |\n",
       "\n"
      ],
      "text/plain": [
       "  f0_    \n",
       "1 1743356"
      ]
     },
     "metadata": {},
     "output_type": "display_data"
    }
   ],
   "source": [
    "sql <- count_expiry_data_str\n",
    "\n",
    "test_df <- bq_table_download(bq_project_query(projectid, sql))\n",
    "test_df"
   ]
  },
  {
   "cell_type": "code",
   "execution_count": 39,
   "metadata": {},
   "outputs": [
    {
     "data": {
      "text/html": [
       "<table>\n",
       "<caption>A tibble: 1 × 1</caption>\n",
       "<thead>\n",
       "\t<tr><th scope=col>f0_</th></tr>\n",
       "\t<tr><th scope=col>&lt;int&gt;</th></tr>\n",
       "</thead>\n",
       "<tbody>\n",
       "\t<tr><td>1743356</td></tr>\n",
       "</tbody>\n",
       "</table>\n"
      ],
      "text/latex": [
       "A tibble: 1 × 1\n",
       "\\begin{tabular}{l}\n",
       " f0\\_\\\\\n",
       " <int>\\\\\n",
       "\\hline\n",
       "\t 1743356\\\\\n",
       "\\end{tabular}\n"
      ],
      "text/markdown": [
       "\n",
       "A tibble: 1 × 1\n",
       "\n",
       "| f0_ &lt;int&gt; |\n",
       "|---|\n",
       "| 1743356 |\n",
       "\n"
      ],
      "text/plain": [
       "  f0_    \n",
       "1 1743356"
      ]
     },
     "metadata": {},
     "output_type": "display_data"
    }
   ],
   "source": [
    "test_df"
   ]
  },
  {
   "cell_type": "code",
   "execution_count": null,
   "metadata": {},
   "outputs": [],
   "source": []
  }
 ],
 "metadata": {
  "environment": {
   "name": "r-cpu.3-6.m48",
   "type": "gcloud",
   "uri": "gcr.io/deeplearning-platform-release/r-cpu.3-6:m48"
  },
  "kernelspec": {
   "display_name": "R",
   "language": "R",
   "name": "ir"
  },
  "language_info": {
   "codemirror_mode": "r",
   "file_extension": ".r",
   "mimetype": "text/x-r-source",
   "name": "R",
   "pygments_lexer": "r",
   "version": "3.6.3"
  }
 },
 "nbformat": 4,
 "nbformat_minor": 4
}
