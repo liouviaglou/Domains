{
 "cells": [
  {
   "cell_type": "markdown",
   "metadata": {},
   "source": [
    "moving forward with fusion approach, combining segmented glm and aggregate random forest\n",
    "## *Perf Metrics for Explore_Expiry.ipynb*"
   ]
  },
  {
   "cell_type": "code",
   "execution_count": 1,
   "metadata": {},
   "outputs": [
    {
     "data": {
      "text/html": [],
      "text/latex": [],
      "text/markdown": [],
      "text/plain": [
       "character(0)"
      ]
     },
     "metadata": {},
     "output_type": "display_data"
    }
   ],
   "source": [
    "ls()"
   ]
  },
  {
   "cell_type": "code",
   "execution_count": 6,
   "metadata": {},
   "outputs": [],
   "source": [
    "options(repr.matrix.max.cols=50, repr.matrix.max.rows=100)"
   ]
  },
  {
   "cell_type": "code",
   "execution_count": 7,
   "metadata": {},
   "outputs": [
    {
     "data": {
      "text/html": [
       "'/home/jupyter/local/Domains_202003/scripts/phaseII_05_moredata'"
      ],
      "text/latex": [
       "'/home/jupyter/local/Domains\\_202003/scripts/phaseII\\_05\\_moredata'"
      ],
      "text/markdown": [
       "'/home/jupyter/local/Domains_202003/scripts/phaseII_05_moredata'"
      ],
      "text/plain": [
       "[1] \"/home/jupyter/local/Domains_202003/scripts/phaseII_05_moredata\""
      ]
     },
     "metadata": {},
     "output_type": "display_data"
    }
   ],
   "source": [
    "library(dplyr)\n",
    "library(data.table)\n",
    "library(partykit)\n",
    "library(tictoc)\n",
    "library(caret)\n",
    "library(e1071)\n",
    "library(randomForest)\n",
    "library(ranger)\n",
    "\n",
    "#for 3d plotting\n",
    "library(akima)\n",
    "library(plotly)\n",
    "\n",
    "# for prep data\n",
    "library(rPython)\n",
    "library(stringr)\n",
    "library(pbapply)\n",
    "library(stringdist)\n",
    "library(data.table)\n",
    "library(dominanceanalysis)\n",
    "\n",
    "getwd()"
   ]
  },
  {
   "cell_type": "code",
   "execution_count": 5,
   "metadata": {},
   "outputs": [],
   "source": [
    "\n",
    "source('../orig/functions.R')\n",
    "\n",
    "source('../orig/functions_models.R')\n",
    "\n",
    "source('../phaseII_03_forest/functions_eval.R')\n",
    "\n",
    "\n",
    "source('../phaseII_03_forest/load_prep_data_expiry.R')\n",
    "\n",
    "# expiry_train_prepped_2_1 (list, less df's w/ 0 obs)\n",
    "# expiry_test_prepped_2_1  (list, less df's w/ 0 obs)\n",
    "# expiry_train_df_1 (above, rbound)\n",
    "# expiry_test_df_1 (above, rbound)\n",
    "# expiry_train_df_sub (subset vars)                                        \n",
    "# expiry_test_df_sub (subset vars)"
   ]
  },
  {
   "cell_type": "code",
   "execution_count": null,
   "metadata": {},
   "outputs": [],
   "source": []
  },
  {
   "cell_type": "code",
   "execution_count": null,
   "metadata": {},
   "outputs": [],
   "source": []
  },
  {
   "cell_type": "markdown",
   "metadata": {},
   "source": [
    "# Plus\n",
    "## (i.e. agg glm w/ tld & reseller, plus creation based vars as predictors)"
   ]
  },
  {
   "cell_type": "code",
   "execution_count": 13,
   "metadata": {},
   "outputs": [],
   "source": [
    "# processed glm test data\n",
    "filename = 'agg_glm_plus_pred'\n",
    "# system(paste(sprintf(\"gsutil cp gs://data_input/%s /home/jupyter/local/Domains_202003/data/\", filename)))\n",
    "load(file.path(\"/home/jupyter/local/Domains_202003/data/output\", filename))"
   ]
  },
  {
   "cell_type": "code",
   "execution_count": 14,
   "metadata": {},
   "outputs": [
    {
     "data": {
      "text/html": [
       "<table>\n",
       "<caption>A data.table: 6 × 46</caption>\n",
       "<thead>\n",
       "\t<tr><th scope=col>renewal_type</th><th scope=col>renewed_count</th><th scope=col>expiry_date</th><th scope=col>domain_id</th><th scope=col>domain</th><th scope=col>creation_date</th><th scope=col>status</th><th scope=col>tld</th><th scope=col>registrar</th><th scope=col>reseller</th><th scope=col>reseller_country</th><th scope=col>region</th><th scope=col>reg_period</th><th scope=col>registrant_country</th><th scope=col>renewal_status</th><th scope=col>renew_mbg</th><th scope=col>renew_type</th><th scope=col>autorenew_type</th><th scope=col>renew_date</th><th scope=col>renew_registrar</th><th scope=col>renew_reseller</th><th scope=col>reg_revenue</th><th scope=col>reg_arpt</th><th scope=col>renew_period</th><th scope=col>renew_domain_revenue</th><th scope=col>renew_arpt</th><th scope=col>reg_arpt_org</th><th scope=col>tld_registrar_index</th><th scope=col>sld</th><th scope=col>sld_type</th><th scope=col>sld_length</th><th scope=col>sld_type2</th><th scope=col>day_domains</th><th scope=col>log_reg_arpt</th><th scope=col>gibb_score</th><th scope=col>pattern</th><th scope=col>cluster</th><th scope=col>pattern_score</th><th scope=col>pattern_domain_count</th><th scope=col>reg_durY</th><th scope=col>mday</th><th scope=col>wday</th><th scope=col>qday</th><th scope=col>yday</th><th scope=col>probabilities</th><th scope=col>first_renewal_prediction</th></tr>\n",
       "\t<tr><th scope=col>&lt;chr&gt;</th><th scope=col>&lt;int&gt;</th><th scope=col>&lt;date&gt;</th><th scope=col>&lt;int&gt;</th><th scope=col>&lt;chr&gt;</th><th scope=col>&lt;date&gt;</th><th scope=col>&lt;chr&gt;</th><th scope=col>&lt;fct&gt;</th><th scope=col>&lt;chr&gt;</th><th scope=col>&lt;chr&gt;</th><th scope=col>&lt;chr&gt;</th><th scope=col>&lt;chr&gt;</th><th scope=col>&lt;int&gt;</th><th scope=col>&lt;chr&gt;</th><th scope=col>&lt;fct&gt;</th><th scope=col>&lt;int&gt;</th><th scope=col>&lt;chr&gt;</th><th scope=col>&lt;chr&gt;</th><th scope=col>&lt;date&gt;</th><th scope=col>&lt;chr&gt;</th><th scope=col>&lt;chr&gt;</th><th scope=col>&lt;dbl&gt;</th><th scope=col>&lt;dbl&gt;</th><th scope=col>&lt;int&gt;</th><th scope=col>&lt;dbl&gt;</th><th scope=col>&lt;dbl&gt;</th><th scope=col>&lt;dbl&gt;</th><th scope=col>&lt;chr&gt;</th><th scope=col>&lt;chr&gt;</th><th scope=col>&lt;fct&gt;</th><th scope=col>&lt;int&gt;</th><th scope=col>&lt;chr&gt;</th><th scope=col>&lt;int&gt;</th><th scope=col>&lt;dbl&gt;</th><th scope=col>&lt;dbl&gt;</th><th scope=col>&lt;chr&gt;</th><th scope=col>&lt;chr&gt;</th><th scope=col>&lt;dbl&gt;</th><th scope=col>&lt;int&gt;</th><th scope=col>&lt;dbl&gt;</th><th scope=col>&lt;int&gt;</th><th scope=col>&lt;int&gt;</th><th scope=col>&lt;dbl&gt;</th><th scope=col>&lt;int&gt;</th><th scope=col>&lt;dbl&gt;</th><th scope=col>&lt;dbl&gt;</th></tr>\n",
       "</thead>\n",
       "<tbody>\n",
       "\t<tr><td>FirstTime</td><td>1</td><td>2020-01-22</td><td> 91639803</td><td><span style=white-space:pre-wrap>segeln.fun   </span></td><td>2019-01-22</td><td>Active</td><td>fun</td><td><span style=white-space:pre-wrap>1&amp;1 internet    </span></td><td><span style=white-space:pre-wrap>1&amp;1 internet    </span></td><td>Germany</td><td>Non China</td><td>1</td><td>NA</td><td><span style=white-space:pre-wrap>Renewed   </span></td><td>0</td><td>auto-renewal</td><td><span style=white-space:pre-wrap>realized  </span></td><td>2020-01-22</td><td><span style=white-space:pre-wrap>1&amp;1 Internet    </span></td><td><span style=white-space:pre-wrap>1&amp;1 Internet    </span></td><td>15</td><td>15</td><td>1</td><td>15</td><td>15</td><td>15</td><td><span style=white-space:pre-wrap>fun1&amp;1 internet    </span></td><td><span style=white-space:pre-wrap>segeln   </span></td><td>l</td><td>6</td><td>6l</td><td>1</td><td>2.708050</td><td>2.23</td><td><span style=white-space:pre-wrap>segeln   </span></td><td>1</td><td>1</td><td>1</td><td>1</td><td>22</td><td>3</td><td>22</td><td> 22</td><td>0.3947892</td><td>0.395</td></tr>\n",
       "\t<tr><td>FirstTime</td><td>1</td><td>2020-03-07</td><td> 95819759</td><td>harzhotel.fun</td><td>2019-03-07</td><td>Active</td><td>fun</td><td><span style=white-space:pre-wrap>1&amp;1 internet    </span></td><td><span style=white-space:pre-wrap>1&amp;1 internet    </span></td><td>Germany</td><td>Non China</td><td>1</td><td>NA</td><td><span style=white-space:pre-wrap>Renewed   </span></td><td>0</td><td>auto-renewal</td><td><span style=white-space:pre-wrap>realized  </span></td><td>2020-03-07</td><td><span style=white-space:pre-wrap>1&amp;1 Internet    </span></td><td><span style=white-space:pre-wrap>1&amp;1 Internet    </span></td><td>15</td><td>15</td><td>1</td><td>15</td><td>15</td><td>15</td><td><span style=white-space:pre-wrap>fun1&amp;1 internet    </span></td><td>harzhotel</td><td>l</td><td>9</td><td>9l</td><td>1</td><td>2.708050</td><td>3.45</td><td>harzhotel</td><td>1</td><td>1</td><td>1</td><td>1</td><td> 7</td><td>5</td><td>66</td><td> 66</td><td>0.3658402</td><td>0.366</td></tr>\n",
       "\t<tr><td>FirstTime</td><td>1</td><td>2020-01-15</td><td> 91044973</td><td>movistar.fun </td><td>2019-01-15</td><td>Active</td><td>fun</td><td>10dencehispahard</td><td>10dencehispahard</td><td>Spain  </td><td>Non China</td><td>1</td><td>NA</td><td>Not Renewd</td><td>0</td><td>auto-renewal</td><td>unrealized</td><td>2020-01-15</td><td>10dencehispahard</td><td>10dencehispahard</td><td>15</td><td>15</td><td>1</td><td>15</td><td>15</td><td>15</td><td>fun10dencehispahard</td><td>movistar </td><td>l</td><td>8</td><td>8l</td><td>1</td><td>2.708050</td><td>8.62</td><td>movistar </td><td>1</td><td>1</td><td>1</td><td>1</td><td>15</td><td>3</td><td>15</td><td> 15</td><td>0.1481456</td><td>0.148</td></tr>\n",
       "\t<tr><td>FirstTime</td><td>1</td><td>2020-02-01</td><td> 92472913</td><td>kuinik.fun   </td><td>2019-02-01</td><td>Active</td><td>fun</td><td>10dencehispahard</td><td>10dencehispahard</td><td>Spain  </td><td>Non China</td><td>1</td><td>NA</td><td>Not Renewd</td><td>0</td><td>auto-renewal</td><td>unrealized</td><td>2020-02-01</td><td>10dencehispahard</td><td>10dencehispahard</td><td>15</td><td>15</td><td>1</td><td>15</td><td>15</td><td>15</td><td>fun10dencehispahard</td><td>kuinik   </td><td>l</td><td>6</td><td>6l</td><td>1</td><td>2.708050</td><td>3.13</td><td>kuinik   </td><td>1</td><td>1</td><td>1</td><td>1</td><td> 1</td><td>6</td><td>32</td><td> 32</td><td>0.1430743</td><td>0.143</td></tr>\n",
       "\t<tr><td>FirstTime</td><td>1</td><td>2020-01-21</td><td> 91532433</td><td>bulgari.fun  </td><td>2019-01-21</td><td>Active</td><td>fun</td><td>1api            </td><td>1api            </td><td>Germany</td><td>Non China</td><td>1</td><td>NA</td><td>Renewed   </td><td>0</td><td>auto-renewal</td><td>realized  </td><td>2020-01-21</td><td>1API            </td><td>1API            </td><td> 5</td><td> 5</td><td>1</td><td>15</td><td>15</td><td> 5</td><td>fun1api            </td><td>bulgari  </td><td>l</td><td>7</td><td>7l</td><td>1</td><td>1.609438</td><td>4.51</td><td>bulgari  </td><td>1</td><td>1</td><td>1</td><td>1</td><td>21</td><td>2</td><td>21</td><td> 21</td><td>0.3700480</td><td>0.370</td></tr>\n",
       "\t<tr><td>FirstTime</td><td>1</td><td>2020-04-24</td><td>101717674</td><td>gotsome.fun  </td><td>2019-04-24</td><td>Active</td><td>fun</td><td>1api            </td><td>1api            </td><td>Germany</td><td>Non China</td><td>1</td><td>NA</td><td>Not Renewd</td><td>0</td><td>auto-renewal</td><td>unrealized</td><td>2020-04-24</td><td>1API            </td><td>1API            </td><td> 5</td><td> 5</td><td>1</td><td>15</td><td>15</td><td> 5</td><td>fun1api            </td><td>gotsome  </td><td>l</td><td>7</td><td>7l</td><td>1</td><td>1.609438</td><td>6.09</td><td>gotsome  </td><td>1</td><td>1</td><td>1</td><td>1</td><td>24</td><td>4</td><td>24</td><td>114</td><td>0.3005961</td><td>0.301</td></tr>\n",
       "</tbody>\n",
       "</table>\n"
      ],
      "text/latex": [
       "A data.table: 6 × 46\n",
       "\\begin{tabular}{llllllllllllllllllllllllllllllllllllllllllllll}\n",
       " renewal\\_type & renewed\\_count & expiry\\_date & domain\\_id & domain & creation\\_date & status & tld & registrar & reseller & reseller\\_country & region & reg\\_period & registrant\\_country & renewal\\_status & renew\\_mbg & renew\\_type & autorenew\\_type & renew\\_date & renew\\_registrar & renew\\_reseller & reg\\_revenue & reg\\_arpt & renew\\_period & renew\\_domain\\_revenue & renew\\_arpt & reg\\_arpt\\_org & tld\\_registrar\\_index & sld & sld\\_type & sld\\_length & sld\\_type2 & day\\_domains & log\\_reg\\_arpt & gibb\\_score & pattern & cluster & pattern\\_score & pattern\\_domain\\_count & reg\\_durY & mday & wday & qday & yday & probabilities & first\\_renewal\\_prediction\\\\\n",
       " <chr> & <int> & <date> & <int> & <chr> & <date> & <chr> & <fct> & <chr> & <chr> & <chr> & <chr> & <int> & <chr> & <fct> & <int> & <chr> & <chr> & <date> & <chr> & <chr> & <dbl> & <dbl> & <int> & <dbl> & <dbl> & <dbl> & <chr> & <chr> & <fct> & <int> & <chr> & <int> & <dbl> & <dbl> & <chr> & <chr> & <dbl> & <int> & <dbl> & <int> & <int> & <dbl> & <int> & <dbl> & <dbl>\\\\\n",
       "\\hline\n",
       "\t FirstTime & 1 & 2020-01-22 &  91639803 & segeln.fun    & 2019-01-22 & Active & fun & 1\\&1 internet     & 1\\&1 internet     & Germany & Non China & 1 & NA & Renewed    & 0 & auto-renewal & realized   & 2020-01-22 & 1\\&1 Internet     & 1\\&1 Internet     & 15 & 15 & 1 & 15 & 15 & 15 & fun1\\&1 internet     & segeln    & l & 6 & 6l & 1 & 2.708050 & 2.23 & segeln    & 1 & 1 & 1 & 1 & 22 & 3 & 22 &  22 & 0.3947892 & 0.395\\\\\n",
       "\t FirstTime & 1 & 2020-03-07 &  95819759 & harzhotel.fun & 2019-03-07 & Active & fun & 1\\&1 internet     & 1\\&1 internet     & Germany & Non China & 1 & NA & Renewed    & 0 & auto-renewal & realized   & 2020-03-07 & 1\\&1 Internet     & 1\\&1 Internet     & 15 & 15 & 1 & 15 & 15 & 15 & fun1\\&1 internet     & harzhotel & l & 9 & 9l & 1 & 2.708050 & 3.45 & harzhotel & 1 & 1 & 1 & 1 &  7 & 5 & 66 &  66 & 0.3658402 & 0.366\\\\\n",
       "\t FirstTime & 1 & 2020-01-15 &  91044973 & movistar.fun  & 2019-01-15 & Active & fun & 10dencehispahard & 10dencehispahard & Spain   & Non China & 1 & NA & Not Renewd & 0 & auto-renewal & unrealized & 2020-01-15 & 10dencehispahard & 10dencehispahard & 15 & 15 & 1 & 15 & 15 & 15 & fun10dencehispahard & movistar  & l & 8 & 8l & 1 & 2.708050 & 8.62 & movistar  & 1 & 1 & 1 & 1 & 15 & 3 & 15 &  15 & 0.1481456 & 0.148\\\\\n",
       "\t FirstTime & 1 & 2020-02-01 &  92472913 & kuinik.fun    & 2019-02-01 & Active & fun & 10dencehispahard & 10dencehispahard & Spain   & Non China & 1 & NA & Not Renewd & 0 & auto-renewal & unrealized & 2020-02-01 & 10dencehispahard & 10dencehispahard & 15 & 15 & 1 & 15 & 15 & 15 & fun10dencehispahard & kuinik    & l & 6 & 6l & 1 & 2.708050 & 3.13 & kuinik    & 1 & 1 & 1 & 1 &  1 & 6 & 32 &  32 & 0.1430743 & 0.143\\\\\n",
       "\t FirstTime & 1 & 2020-01-21 &  91532433 & bulgari.fun   & 2019-01-21 & Active & fun & 1api             & 1api             & Germany & Non China & 1 & NA & Renewed    & 0 & auto-renewal & realized   & 2020-01-21 & 1API             & 1API             &  5 &  5 & 1 & 15 & 15 &  5 & fun1api             & bulgari   & l & 7 & 7l & 1 & 1.609438 & 4.51 & bulgari   & 1 & 1 & 1 & 1 & 21 & 2 & 21 &  21 & 0.3700480 & 0.370\\\\\n",
       "\t FirstTime & 1 & 2020-04-24 & 101717674 & gotsome.fun   & 2019-04-24 & Active & fun & 1api             & 1api             & Germany & Non China & 1 & NA & Not Renewd & 0 & auto-renewal & unrealized & 2020-04-24 & 1API             & 1API             &  5 &  5 & 1 & 15 & 15 &  5 & fun1api             & gotsome   & l & 7 & 7l & 1 & 1.609438 & 6.09 & gotsome   & 1 & 1 & 1 & 1 & 24 & 4 & 24 & 114 & 0.3005961 & 0.301\\\\\n",
       "\\end{tabular}\n"
      ],
      "text/markdown": [
       "\n",
       "A data.table: 6 × 46\n",
       "\n",
       "| renewal_type &lt;chr&gt; | renewed_count &lt;int&gt; | expiry_date &lt;date&gt; | domain_id &lt;int&gt; | domain &lt;chr&gt; | creation_date &lt;date&gt; | status &lt;chr&gt; | tld &lt;fct&gt; | registrar &lt;chr&gt; | reseller &lt;chr&gt; | reseller_country &lt;chr&gt; | region &lt;chr&gt; | reg_period &lt;int&gt; | registrant_country &lt;chr&gt; | renewal_status &lt;fct&gt; | renew_mbg &lt;int&gt; | renew_type &lt;chr&gt; | autorenew_type &lt;chr&gt; | renew_date &lt;date&gt; | renew_registrar &lt;chr&gt; | renew_reseller &lt;chr&gt; | reg_revenue &lt;dbl&gt; | reg_arpt &lt;dbl&gt; | renew_period &lt;int&gt; | renew_domain_revenue &lt;dbl&gt; | renew_arpt &lt;dbl&gt; | reg_arpt_org &lt;dbl&gt; | tld_registrar_index &lt;chr&gt; | sld &lt;chr&gt; | sld_type &lt;fct&gt; | sld_length &lt;int&gt; | sld_type2 &lt;chr&gt; | day_domains &lt;int&gt; | log_reg_arpt &lt;dbl&gt; | gibb_score &lt;dbl&gt; | pattern &lt;chr&gt; | cluster &lt;chr&gt; | pattern_score &lt;dbl&gt; | pattern_domain_count &lt;int&gt; | reg_durY &lt;dbl&gt; | mday &lt;int&gt; | wday &lt;int&gt; | qday &lt;dbl&gt; | yday &lt;int&gt; | probabilities &lt;dbl&gt; | first_renewal_prediction &lt;dbl&gt; |\n",
       "|---|---|---|---|---|---|---|---|---|---|---|---|---|---|---|---|---|---|---|---|---|---|---|---|---|---|---|---|---|---|---|---|---|---|---|---|---|---|---|---|---|---|---|---|---|---|\n",
       "| FirstTime | 1 | 2020-01-22 |  91639803 | segeln.fun    | 2019-01-22 | Active | fun | 1&amp;1 internet     | 1&amp;1 internet     | Germany | Non China | 1 | NA | Renewed    | 0 | auto-renewal | realized   | 2020-01-22 | 1&amp;1 Internet     | 1&amp;1 Internet     | 15 | 15 | 1 | 15 | 15 | 15 | fun1&amp;1 internet     | segeln    | l | 6 | 6l | 1 | 2.708050 | 2.23 | segeln    | 1 | 1 | 1 | 1 | 22 | 3 | 22 |  22 | 0.3947892 | 0.395 |\n",
       "| FirstTime | 1 | 2020-03-07 |  95819759 | harzhotel.fun | 2019-03-07 | Active | fun | 1&amp;1 internet     | 1&amp;1 internet     | Germany | Non China | 1 | NA | Renewed    | 0 | auto-renewal | realized   | 2020-03-07 | 1&amp;1 Internet     | 1&amp;1 Internet     | 15 | 15 | 1 | 15 | 15 | 15 | fun1&amp;1 internet     | harzhotel | l | 9 | 9l | 1 | 2.708050 | 3.45 | harzhotel | 1 | 1 | 1 | 1 |  7 | 5 | 66 |  66 | 0.3658402 | 0.366 |\n",
       "| FirstTime | 1 | 2020-01-15 |  91044973 | movistar.fun  | 2019-01-15 | Active | fun | 10dencehispahard | 10dencehispahard | Spain   | Non China | 1 | NA | Not Renewd | 0 | auto-renewal | unrealized | 2020-01-15 | 10dencehispahard | 10dencehispahard | 15 | 15 | 1 | 15 | 15 | 15 | fun10dencehispahard | movistar  | l | 8 | 8l | 1 | 2.708050 | 8.62 | movistar  | 1 | 1 | 1 | 1 | 15 | 3 | 15 |  15 | 0.1481456 | 0.148 |\n",
       "| FirstTime | 1 | 2020-02-01 |  92472913 | kuinik.fun    | 2019-02-01 | Active | fun | 10dencehispahard | 10dencehispahard | Spain   | Non China | 1 | NA | Not Renewd | 0 | auto-renewal | unrealized | 2020-02-01 | 10dencehispahard | 10dencehispahard | 15 | 15 | 1 | 15 | 15 | 15 | fun10dencehispahard | kuinik    | l | 6 | 6l | 1 | 2.708050 | 3.13 | kuinik    | 1 | 1 | 1 | 1 |  1 | 6 | 32 |  32 | 0.1430743 | 0.143 |\n",
       "| FirstTime | 1 | 2020-01-21 |  91532433 | bulgari.fun   | 2019-01-21 | Active | fun | 1api             | 1api             | Germany | Non China | 1 | NA | Renewed    | 0 | auto-renewal | realized   | 2020-01-21 | 1API             | 1API             |  5 |  5 | 1 | 15 | 15 |  5 | fun1api             | bulgari   | l | 7 | 7l | 1 | 1.609438 | 4.51 | bulgari   | 1 | 1 | 1 | 1 | 21 | 2 | 21 |  21 | 0.3700480 | 0.370 |\n",
       "| FirstTime | 1 | 2020-04-24 | 101717674 | gotsome.fun   | 2019-04-24 | Active | fun | 1api             | 1api             | Germany | Non China | 1 | NA | Not Renewd | 0 | auto-renewal | unrealized | 2020-04-24 | 1API             | 1API             |  5 |  5 | 1 | 15 | 15 |  5 | fun1api             | gotsome   | l | 7 | 7l | 1 | 1.609438 | 6.09 | gotsome   | 1 | 1 | 1 | 1 | 24 | 4 | 24 | 114 | 0.3005961 | 0.301 |\n",
       "\n"
      ],
      "text/plain": [
       "  renewal_type renewed_count expiry_date domain_id domain        creation_date\n",
       "1 FirstTime    1             2020-01-22   91639803 segeln.fun    2019-01-22   \n",
       "2 FirstTime    1             2020-03-07   95819759 harzhotel.fun 2019-03-07   \n",
       "3 FirstTime    1             2020-01-15   91044973 movistar.fun  2019-01-15   \n",
       "4 FirstTime    1             2020-02-01   92472913 kuinik.fun    2019-02-01   \n",
       "5 FirstTime    1             2020-01-21   91532433 bulgari.fun   2019-01-21   \n",
       "6 FirstTime    1             2020-04-24  101717674 gotsome.fun   2019-04-24   \n",
       "  status tld registrar        reseller         reseller_country region   \n",
       "1 Active fun 1&1 internet     1&1 internet     Germany          Non China\n",
       "2 Active fun 1&1 internet     1&1 internet     Germany          Non China\n",
       "3 Active fun 10dencehispahard 10dencehispahard Spain            Non China\n",
       "4 Active fun 10dencehispahard 10dencehispahard Spain            Non China\n",
       "5 Active fun 1api             1api             Germany          Non China\n",
       "6 Active fun 1api             1api             Germany          Non China\n",
       "  reg_period registrant_country renewal_status renew_mbg renew_type  \n",
       "1 1          NA                 Renewed        0         auto-renewal\n",
       "2 1          NA                 Renewed        0         auto-renewal\n",
       "3 1          NA                 Not Renewd     0         auto-renewal\n",
       "4 1          NA                 Not Renewd     0         auto-renewal\n",
       "5 1          NA                 Renewed        0         auto-renewal\n",
       "6 1          NA                 Not Renewd     0         auto-renewal\n",
       "  autorenew_type renew_date renew_registrar  renew_reseller   reg_revenue\n",
       "1 realized       2020-01-22 1&1 Internet     1&1 Internet     15         \n",
       "2 realized       2020-03-07 1&1 Internet     1&1 Internet     15         \n",
       "3 unrealized     2020-01-15 10dencehispahard 10dencehispahard 15         \n",
       "4 unrealized     2020-02-01 10dencehispahard 10dencehispahard 15         \n",
       "5 realized       2020-01-21 1API             1API              5         \n",
       "6 unrealized     2020-04-24 1API             1API              5         \n",
       "  reg_arpt renew_period renew_domain_revenue renew_arpt reg_arpt_org\n",
       "1 15       1            15                   15         15          \n",
       "2 15       1            15                   15         15          \n",
       "3 15       1            15                   15         15          \n",
       "4 15       1            15                   15         15          \n",
       "5  5       1            15                   15          5          \n",
       "6  5       1            15                   15          5          \n",
       "  tld_registrar_index sld       sld_type sld_length sld_type2 day_domains\n",
       "1 fun1&1 internet     segeln    l        6          6l        1          \n",
       "2 fun1&1 internet     harzhotel l        9          9l        1          \n",
       "3 fun10dencehispahard movistar  l        8          8l        1          \n",
       "4 fun10dencehispahard kuinik    l        6          6l        1          \n",
       "5 fun1api             bulgari   l        7          7l        1          \n",
       "6 fun1api             gotsome   l        7          7l        1          \n",
       "  log_reg_arpt gibb_score pattern   cluster pattern_score pattern_domain_count\n",
       "1 2.708050     2.23       segeln    1       1             1                   \n",
       "2 2.708050     3.45       harzhotel 1       1             1                   \n",
       "3 2.708050     8.62       movistar  1       1             1                   \n",
       "4 2.708050     3.13       kuinik    1       1             1                   \n",
       "5 1.609438     4.51       bulgari   1       1             1                   \n",
       "6 1.609438     6.09       gotsome   1       1             1                   \n",
       "  reg_durY mday wday qday yday probabilities first_renewal_prediction\n",
       "1 1        22   3    22    22  0.3947892     0.395                   \n",
       "2 1         7   5    66    66  0.3658402     0.366                   \n",
       "3 1        15   3    15    15  0.1481456     0.148                   \n",
       "4 1         1   6    32    32  0.1430743     0.143                   \n",
       "5 1        21   2    21    21  0.3700480     0.370                   \n",
       "6 1        24   4    24   114  0.3005961     0.301                   "
      ]
     },
     "metadata": {},
     "output_type": "display_data"
    }
   ],
   "source": [
    "head(agg_glm_plus_pred)"
   ]
  },
  {
   "cell_type": "code",
   "execution_count": 15,
   "metadata": {},
   "outputs": [],
   "source": [
    "df_plus = data.frame(\"actual\" = agg_glm_plus_pred$renewal_status,\n",
    "                     \"predicted\" = agg_glm_plus_pred$first_renewal_prediction)\n",
    "\n",
    "lift_df_plus <- chart_lift(pred_df = df_plus,\n",
    "                        dep_var = \"actual\",\n",
    "                        pred_var = \"predicted\")\n",
    "\n",
    "gains_plot_plus <- plot_gains (lift_df_plus) \n",
    "\n",
    "auc_val_plus <- calc_auc(lift_df_plus)\n",
    "\n",
    "\n",
    "# saveRDS(lift_df_seg_glm_expiry_exptest, file.path('../../data/output/',\"lift_df_seg_glm_expiry_exptest\"))"
   ]
  },
  {
   "cell_type": "code",
   "execution_count": 16,
   "metadata": {},
   "outputs": [
    {
     "data": {
      "text/html": [
       "0.812076965568035"
      ],
      "text/latex": [
       "0.812076965568035"
      ],
      "text/markdown": [
       "0.812076965568035"
      ],
      "text/plain": [
       "[1] 0.812077"
      ]
     },
     "metadata": {},
     "output_type": "display_data"
    }
   ],
   "source": [
    "auc_val_plus"
   ]
  },
  {
   "cell_type": "code",
   "execution_count": 17,
   "metadata": {},
   "outputs": [
    {
     "data": {
      "text/html": [
       "<table>\n",
       "<caption>A data.frame: 10 × 4</caption>\n",
       "<thead>\n",
       "\t<tr><th scope=col>P</th><th scope=col>actu_renwd2</th><th scope=col>gain</th><th scope=col>lift</th></tr>\n",
       "\t<tr><th scope=col>&lt;dbl&gt;</th><th scope=col>&lt;int&gt;</th><th scope=col>&lt;dbl&gt;</th><th scope=col>&lt;dbl&gt;</th></tr>\n",
       "</thead>\n",
       "<tbody>\n",
       "\t<tr><td>0.1</td><td>12657</td><td>0.4661020</td><td>4.661020</td></tr>\n",
       "\t<tr><td>0.2</td><td>18058</td><td>0.6649972</td><td>3.324986</td></tr>\n",
       "\t<tr><td>0.3</td><td>21260</td><td>0.7829129</td><td>2.609710</td></tr>\n",
       "\t<tr><td>0.4</td><td>23335</td><td>0.8593261</td><td>2.148315</td></tr>\n",
       "\t<tr><td>0.5</td><td>24933</td><td>0.9181734</td><td>1.836347</td></tr>\n",
       "\t<tr><td>0.6</td><td>25985</td><td>0.9569140</td><td>1.594857</td></tr>\n",
       "\t<tr><td>0.7</td><td>26611</td><td>0.9799669</td><td>1.399953</td></tr>\n",
       "\t<tr><td>0.8</td><td>26970</td><td>0.9931873</td><td>1.241484</td></tr>\n",
       "\t<tr><td>0.9</td><td>27133</td><td>0.9991898</td><td>1.110211</td></tr>\n",
       "\t<tr><td>1.0</td><td>27155</td><td>1.0000000</td><td>1.000000</td></tr>\n",
       "</tbody>\n",
       "</table>\n"
      ],
      "text/latex": [
       "A data.frame: 10 × 4\n",
       "\\begin{tabular}{llll}\n",
       " P & actu\\_renwd2 & gain & lift\\\\\n",
       " <dbl> & <int> & <dbl> & <dbl>\\\\\n",
       "\\hline\n",
       "\t 0.1 & 12657 & 0.4661020 & 4.661020\\\\\n",
       "\t 0.2 & 18058 & 0.6649972 & 3.324986\\\\\n",
       "\t 0.3 & 21260 & 0.7829129 & 2.609710\\\\\n",
       "\t 0.4 & 23335 & 0.8593261 & 2.148315\\\\\n",
       "\t 0.5 & 24933 & 0.9181734 & 1.836347\\\\\n",
       "\t 0.6 & 25985 & 0.9569140 & 1.594857\\\\\n",
       "\t 0.7 & 26611 & 0.9799669 & 1.399953\\\\\n",
       "\t 0.8 & 26970 & 0.9931873 & 1.241484\\\\\n",
       "\t 0.9 & 27133 & 0.9991898 & 1.110211\\\\\n",
       "\t 1.0 & 27155 & 1.0000000 & 1.000000\\\\\n",
       "\\end{tabular}\n"
      ],
      "text/markdown": [
       "\n",
       "A data.frame: 10 × 4\n",
       "\n",
       "| P &lt;dbl&gt; | actu_renwd2 &lt;int&gt; | gain &lt;dbl&gt; | lift &lt;dbl&gt; |\n",
       "|---|---|---|---|\n",
       "| 0.1 | 12657 | 0.4661020 | 4.661020 |\n",
       "| 0.2 | 18058 | 0.6649972 | 3.324986 |\n",
       "| 0.3 | 21260 | 0.7829129 | 2.609710 |\n",
       "| 0.4 | 23335 | 0.8593261 | 2.148315 |\n",
       "| 0.5 | 24933 | 0.9181734 | 1.836347 |\n",
       "| 0.6 | 25985 | 0.9569140 | 1.594857 |\n",
       "| 0.7 | 26611 | 0.9799669 | 1.399953 |\n",
       "| 0.8 | 26970 | 0.9931873 | 1.241484 |\n",
       "| 0.9 | 27133 | 0.9991898 | 1.110211 |\n",
       "| 1.0 | 27155 | 1.0000000 | 1.000000 |\n",
       "\n"
      ],
      "text/plain": [
       "   P   actu_renwd2 gain      lift    \n",
       "1  0.1 12657       0.4661020 4.661020\n",
       "2  0.2 18058       0.6649972 3.324986\n",
       "3  0.3 21260       0.7829129 2.609710\n",
       "4  0.4 23335       0.8593261 2.148315\n",
       "5  0.5 24933       0.9181734 1.836347\n",
       "6  0.6 25985       0.9569140 1.594857\n",
       "7  0.7 26611       0.9799669 1.399953\n",
       "8  0.8 26970       0.9931873 1.241484\n",
       "9  0.9 27133       0.9991898 1.110211\n",
       "10 1.0 27155       1.0000000 1.000000"
      ]
     },
     "metadata": {},
     "output_type": "display_data"
    }
   ],
   "source": [
    "lift_df_plus"
   ]
  },
  {
   "cell_type": "code",
   "execution_count": null,
   "metadata": {},
   "outputs": [],
   "source": []
  },
  {
   "cell_type": "markdown",
   "metadata": {},
   "source": [
    "# Basic\n",
    "## (i.e. agg glm w/ tld & reseller as predictors)"
   ]
  },
  {
   "cell_type": "code",
   "execution_count": 8,
   "metadata": {},
   "outputs": [],
   "source": [
    "# processed glm test data\n",
    "filename = 'agg_glm_basic_pred'\n",
    "# system(paste(sprintf(\"gsutil cp gs://data_input/%s /home/jupyter/local/Domains_202003/data/\", filename)))\n",
    "load(file.path(\"/home/jupyter/local/Domains_202003/data/output\", filename))"
   ]
  },
  {
   "cell_type": "code",
   "execution_count": 9,
   "metadata": {},
   "outputs": [
    {
     "data": {
      "text/html": [
       "<table>\n",
       "<caption>A data.table: 6 × 46</caption>\n",
       "<thead>\n",
       "\t<tr><th scope=col>renewal_type</th><th scope=col>renewed_count</th><th scope=col>expiry_date</th><th scope=col>domain_id</th><th scope=col>domain</th><th scope=col>creation_date</th><th scope=col>status</th><th scope=col>tld</th><th scope=col>registrar</th><th scope=col>reseller</th><th scope=col>reseller_country</th><th scope=col>region</th><th scope=col>reg_period</th><th scope=col>registrant_country</th><th scope=col>renewal_status</th><th scope=col>renew_mbg</th><th scope=col>renew_type</th><th scope=col>autorenew_type</th><th scope=col>renew_date</th><th scope=col>renew_registrar</th><th scope=col>renew_reseller</th><th scope=col>reg_revenue</th><th scope=col>reg_arpt</th><th scope=col>renew_period</th><th scope=col>renew_domain_revenue</th><th scope=col>renew_arpt</th><th scope=col>reg_arpt_org</th><th scope=col>tld_registrar_index</th><th scope=col>sld</th><th scope=col>sld_type</th><th scope=col>sld_length</th><th scope=col>sld_type2</th><th scope=col>day_domains</th><th scope=col>log_reg_arpt</th><th scope=col>gibb_score</th><th scope=col>pattern</th><th scope=col>cluster</th><th scope=col>pattern_score</th><th scope=col>pattern_domain_count</th><th scope=col>reg_durY</th><th scope=col>mday</th><th scope=col>wday</th><th scope=col>qday</th><th scope=col>yday</th><th scope=col>probabilities</th><th scope=col>first_renewal_prediction</th></tr>\n",
       "\t<tr><th scope=col>&lt;chr&gt;</th><th scope=col>&lt;int&gt;</th><th scope=col>&lt;date&gt;</th><th scope=col>&lt;int&gt;</th><th scope=col>&lt;chr&gt;</th><th scope=col>&lt;date&gt;</th><th scope=col>&lt;chr&gt;</th><th scope=col>&lt;fct&gt;</th><th scope=col>&lt;chr&gt;</th><th scope=col>&lt;chr&gt;</th><th scope=col>&lt;chr&gt;</th><th scope=col>&lt;chr&gt;</th><th scope=col>&lt;int&gt;</th><th scope=col>&lt;chr&gt;</th><th scope=col>&lt;fct&gt;</th><th scope=col>&lt;int&gt;</th><th scope=col>&lt;chr&gt;</th><th scope=col>&lt;chr&gt;</th><th scope=col>&lt;date&gt;</th><th scope=col>&lt;chr&gt;</th><th scope=col>&lt;chr&gt;</th><th scope=col>&lt;dbl&gt;</th><th scope=col>&lt;dbl&gt;</th><th scope=col>&lt;int&gt;</th><th scope=col>&lt;dbl&gt;</th><th scope=col>&lt;dbl&gt;</th><th scope=col>&lt;dbl&gt;</th><th scope=col>&lt;chr&gt;</th><th scope=col>&lt;chr&gt;</th><th scope=col>&lt;fct&gt;</th><th scope=col>&lt;int&gt;</th><th scope=col>&lt;chr&gt;</th><th scope=col>&lt;int&gt;</th><th scope=col>&lt;dbl&gt;</th><th scope=col>&lt;dbl&gt;</th><th scope=col>&lt;chr&gt;</th><th scope=col>&lt;chr&gt;</th><th scope=col>&lt;dbl&gt;</th><th scope=col>&lt;int&gt;</th><th scope=col>&lt;dbl&gt;</th><th scope=col>&lt;int&gt;</th><th scope=col>&lt;int&gt;</th><th scope=col>&lt;dbl&gt;</th><th scope=col>&lt;int&gt;</th><th scope=col>&lt;dbl&gt;</th><th scope=col>&lt;dbl&gt;</th></tr>\n",
       "</thead>\n",
       "<tbody>\n",
       "\t<tr><td>FirstTime</td><td>1</td><td>2020-01-22</td><td> 91639803</td><td><span style=white-space:pre-wrap>segeln.fun   </span></td><td>2019-01-22</td><td>Active</td><td>fun</td><td><span style=white-space:pre-wrap>1&amp;1 internet    </span></td><td><span style=white-space:pre-wrap>1&amp;1 internet    </span></td><td>Germany</td><td>Non China</td><td>1</td><td>NA</td><td><span style=white-space:pre-wrap>Renewed   </span></td><td>0</td><td>auto-renewal</td><td><span style=white-space:pre-wrap>realized  </span></td><td>2020-01-22</td><td><span style=white-space:pre-wrap>1&amp;1 Internet    </span></td><td><span style=white-space:pre-wrap>1&amp;1 Internet    </span></td><td>15</td><td>15</td><td>1</td><td>15</td><td>15</td><td>15</td><td><span style=white-space:pre-wrap>fun1&amp;1 internet    </span></td><td><span style=white-space:pre-wrap>segeln   </span></td><td>l</td><td>6</td><td>6l</td><td>1</td><td>2.708050</td><td>2.23</td><td><span style=white-space:pre-wrap>segeln   </span></td><td>1</td><td>1</td><td>1</td><td>1</td><td>22</td><td>3</td><td>22</td><td> 22</td><td>0.3713604</td><td>0.371</td></tr>\n",
       "\t<tr><td>FirstTime</td><td>1</td><td>2020-03-07</td><td> 95819759</td><td>harzhotel.fun</td><td>2019-03-07</td><td>Active</td><td>fun</td><td><span style=white-space:pre-wrap>1&amp;1 internet    </span></td><td><span style=white-space:pre-wrap>1&amp;1 internet    </span></td><td>Germany</td><td>Non China</td><td>1</td><td>NA</td><td><span style=white-space:pre-wrap>Renewed   </span></td><td>0</td><td>auto-renewal</td><td><span style=white-space:pre-wrap>realized  </span></td><td>2020-03-07</td><td><span style=white-space:pre-wrap>1&amp;1 Internet    </span></td><td><span style=white-space:pre-wrap>1&amp;1 Internet    </span></td><td>15</td><td>15</td><td>1</td><td>15</td><td>15</td><td>15</td><td><span style=white-space:pre-wrap>fun1&amp;1 internet    </span></td><td>harzhotel</td><td>l</td><td>9</td><td>9l</td><td>1</td><td>2.708050</td><td>3.45</td><td>harzhotel</td><td>1</td><td>1</td><td>1</td><td>1</td><td> 7</td><td>5</td><td>66</td><td> 66</td><td>0.3604911</td><td>0.360</td></tr>\n",
       "\t<tr><td>FirstTime</td><td>1</td><td>2020-01-15</td><td> 91044973</td><td>movistar.fun </td><td>2019-01-15</td><td>Active</td><td>fun</td><td>10dencehispahard</td><td>10dencehispahard</td><td>Spain  </td><td>Non China</td><td>1</td><td>NA</td><td>Not Renewd</td><td>0</td><td>auto-renewal</td><td>unrealized</td><td>2020-01-15</td><td>10dencehispahard</td><td>10dencehispahard</td><td>15</td><td>15</td><td>1</td><td>15</td><td>15</td><td>15</td><td>fun10dencehispahard</td><td>movistar </td><td>l</td><td>8</td><td>8l</td><td>1</td><td>2.708050</td><td>8.62</td><td>movistar </td><td>1</td><td>1</td><td>1</td><td>1</td><td>15</td><td>3</td><td>15</td><td> 15</td><td>0.1228685</td><td>0.123</td></tr>\n",
       "\t<tr><td>FirstTime</td><td>1</td><td>2020-02-01</td><td> 92472913</td><td>kuinik.fun   </td><td>2019-02-01</td><td>Active</td><td>fun</td><td>10dencehispahard</td><td>10dencehispahard</td><td>Spain  </td><td>Non China</td><td>1</td><td>NA</td><td>Not Renewd</td><td>0</td><td>auto-renewal</td><td>unrealized</td><td>2020-02-01</td><td>10dencehispahard</td><td>10dencehispahard</td><td>15</td><td>15</td><td>1</td><td>15</td><td>15</td><td>15</td><td>fun10dencehispahard</td><td>kuinik   </td><td>l</td><td>6</td><td>6l</td><td>1</td><td>2.708050</td><td>3.13</td><td>kuinik   </td><td>1</td><td>1</td><td>1</td><td>1</td><td> 1</td><td>6</td><td>32</td><td> 32</td><td>0.1200240</td><td>0.120</td></tr>\n",
       "\t<tr><td>FirstTime</td><td>1</td><td>2020-01-21</td><td> 91532433</td><td>bulgari.fun  </td><td>2019-01-21</td><td>Active</td><td>fun</td><td>1api            </td><td>1api            </td><td>Germany</td><td>Non China</td><td>1</td><td>NA</td><td>Renewed   </td><td>0</td><td>auto-renewal</td><td>realized  </td><td>2020-01-21</td><td>1API            </td><td>1API            </td><td> 5</td><td> 5</td><td>1</td><td>15</td><td>15</td><td> 5</td><td>fun1api            </td><td>bulgari  </td><td>l</td><td>7</td><td>7l</td><td>1</td><td>1.609438</td><td>4.51</td><td>bulgari  </td><td>1</td><td>1</td><td>1</td><td>1</td><td>21</td><td>2</td><td>21</td><td> 21</td><td>0.3255836</td><td>0.326</td></tr>\n",
       "\t<tr><td>FirstTime</td><td>1</td><td>2020-04-24</td><td>101717674</td><td>gotsome.fun  </td><td>2019-04-24</td><td>Active</td><td>fun</td><td>1api            </td><td>1api            </td><td>Germany</td><td>Non China</td><td>1</td><td>NA</td><td>Not Renewd</td><td>0</td><td>auto-renewal</td><td>unrealized</td><td>2020-04-24</td><td>1API            </td><td>1API            </td><td> 5</td><td> 5</td><td>1</td><td>15</td><td>15</td><td> 5</td><td>fun1api            </td><td>gotsome  </td><td>l</td><td>7</td><td>7l</td><td>1</td><td>1.609438</td><td>6.09</td><td>gotsome  </td><td>1</td><td>1</td><td>1</td><td>1</td><td>24</td><td>4</td><td>24</td><td>114</td><td>0.3298929</td><td>0.330</td></tr>\n",
       "</tbody>\n",
       "</table>\n"
      ],
      "text/latex": [
       "A data.table: 6 × 46\n",
       "\\begin{tabular}{llllllllllllllllllllllllllllllllllllllllllllll}\n",
       " renewal\\_type & renewed\\_count & expiry\\_date & domain\\_id & domain & creation\\_date & status & tld & registrar & reseller & reseller\\_country & region & reg\\_period & registrant\\_country & renewal\\_status & renew\\_mbg & renew\\_type & autorenew\\_type & renew\\_date & renew\\_registrar & renew\\_reseller & reg\\_revenue & reg\\_arpt & renew\\_period & renew\\_domain\\_revenue & renew\\_arpt & reg\\_arpt\\_org & tld\\_registrar\\_index & sld & sld\\_type & sld\\_length & sld\\_type2 & day\\_domains & log\\_reg\\_arpt & gibb\\_score & pattern & cluster & pattern\\_score & pattern\\_domain\\_count & reg\\_durY & mday & wday & qday & yday & probabilities & first\\_renewal\\_prediction\\\\\n",
       " <chr> & <int> & <date> & <int> & <chr> & <date> & <chr> & <fct> & <chr> & <chr> & <chr> & <chr> & <int> & <chr> & <fct> & <int> & <chr> & <chr> & <date> & <chr> & <chr> & <dbl> & <dbl> & <int> & <dbl> & <dbl> & <dbl> & <chr> & <chr> & <fct> & <int> & <chr> & <int> & <dbl> & <dbl> & <chr> & <chr> & <dbl> & <int> & <dbl> & <int> & <int> & <dbl> & <int> & <dbl> & <dbl>\\\\\n",
       "\\hline\n",
       "\t FirstTime & 1 & 2020-01-22 &  91639803 & segeln.fun    & 2019-01-22 & Active & fun & 1\\&1 internet     & 1\\&1 internet     & Germany & Non China & 1 & NA & Renewed    & 0 & auto-renewal & realized   & 2020-01-22 & 1\\&1 Internet     & 1\\&1 Internet     & 15 & 15 & 1 & 15 & 15 & 15 & fun1\\&1 internet     & segeln    & l & 6 & 6l & 1 & 2.708050 & 2.23 & segeln    & 1 & 1 & 1 & 1 & 22 & 3 & 22 &  22 & 0.3713604 & 0.371\\\\\n",
       "\t FirstTime & 1 & 2020-03-07 &  95819759 & harzhotel.fun & 2019-03-07 & Active & fun & 1\\&1 internet     & 1\\&1 internet     & Germany & Non China & 1 & NA & Renewed    & 0 & auto-renewal & realized   & 2020-03-07 & 1\\&1 Internet     & 1\\&1 Internet     & 15 & 15 & 1 & 15 & 15 & 15 & fun1\\&1 internet     & harzhotel & l & 9 & 9l & 1 & 2.708050 & 3.45 & harzhotel & 1 & 1 & 1 & 1 &  7 & 5 & 66 &  66 & 0.3604911 & 0.360\\\\\n",
       "\t FirstTime & 1 & 2020-01-15 &  91044973 & movistar.fun  & 2019-01-15 & Active & fun & 10dencehispahard & 10dencehispahard & Spain   & Non China & 1 & NA & Not Renewd & 0 & auto-renewal & unrealized & 2020-01-15 & 10dencehispahard & 10dencehispahard & 15 & 15 & 1 & 15 & 15 & 15 & fun10dencehispahard & movistar  & l & 8 & 8l & 1 & 2.708050 & 8.62 & movistar  & 1 & 1 & 1 & 1 & 15 & 3 & 15 &  15 & 0.1228685 & 0.123\\\\\n",
       "\t FirstTime & 1 & 2020-02-01 &  92472913 & kuinik.fun    & 2019-02-01 & Active & fun & 10dencehispahard & 10dencehispahard & Spain   & Non China & 1 & NA & Not Renewd & 0 & auto-renewal & unrealized & 2020-02-01 & 10dencehispahard & 10dencehispahard & 15 & 15 & 1 & 15 & 15 & 15 & fun10dencehispahard & kuinik    & l & 6 & 6l & 1 & 2.708050 & 3.13 & kuinik    & 1 & 1 & 1 & 1 &  1 & 6 & 32 &  32 & 0.1200240 & 0.120\\\\\n",
       "\t FirstTime & 1 & 2020-01-21 &  91532433 & bulgari.fun   & 2019-01-21 & Active & fun & 1api             & 1api             & Germany & Non China & 1 & NA & Renewed    & 0 & auto-renewal & realized   & 2020-01-21 & 1API             & 1API             &  5 &  5 & 1 & 15 & 15 &  5 & fun1api             & bulgari   & l & 7 & 7l & 1 & 1.609438 & 4.51 & bulgari   & 1 & 1 & 1 & 1 & 21 & 2 & 21 &  21 & 0.3255836 & 0.326\\\\\n",
       "\t FirstTime & 1 & 2020-04-24 & 101717674 & gotsome.fun   & 2019-04-24 & Active & fun & 1api             & 1api             & Germany & Non China & 1 & NA & Not Renewd & 0 & auto-renewal & unrealized & 2020-04-24 & 1API             & 1API             &  5 &  5 & 1 & 15 & 15 &  5 & fun1api             & gotsome   & l & 7 & 7l & 1 & 1.609438 & 6.09 & gotsome   & 1 & 1 & 1 & 1 & 24 & 4 & 24 & 114 & 0.3298929 & 0.330\\\\\n",
       "\\end{tabular}\n"
      ],
      "text/markdown": [
       "\n",
       "A data.table: 6 × 46\n",
       "\n",
       "| renewal_type &lt;chr&gt; | renewed_count &lt;int&gt; | expiry_date &lt;date&gt; | domain_id &lt;int&gt; | domain &lt;chr&gt; | creation_date &lt;date&gt; | status &lt;chr&gt; | tld &lt;fct&gt; | registrar &lt;chr&gt; | reseller &lt;chr&gt; | reseller_country &lt;chr&gt; | region &lt;chr&gt; | reg_period &lt;int&gt; | registrant_country &lt;chr&gt; | renewal_status &lt;fct&gt; | renew_mbg &lt;int&gt; | renew_type &lt;chr&gt; | autorenew_type &lt;chr&gt; | renew_date &lt;date&gt; | renew_registrar &lt;chr&gt; | renew_reseller &lt;chr&gt; | reg_revenue &lt;dbl&gt; | reg_arpt &lt;dbl&gt; | renew_period &lt;int&gt; | renew_domain_revenue &lt;dbl&gt; | renew_arpt &lt;dbl&gt; | reg_arpt_org &lt;dbl&gt; | tld_registrar_index &lt;chr&gt; | sld &lt;chr&gt; | sld_type &lt;fct&gt; | sld_length &lt;int&gt; | sld_type2 &lt;chr&gt; | day_domains &lt;int&gt; | log_reg_arpt &lt;dbl&gt; | gibb_score &lt;dbl&gt; | pattern &lt;chr&gt; | cluster &lt;chr&gt; | pattern_score &lt;dbl&gt; | pattern_domain_count &lt;int&gt; | reg_durY &lt;dbl&gt; | mday &lt;int&gt; | wday &lt;int&gt; | qday &lt;dbl&gt; | yday &lt;int&gt; | probabilities &lt;dbl&gt; | first_renewal_prediction &lt;dbl&gt; |\n",
       "|---|---|---|---|---|---|---|---|---|---|---|---|---|---|---|---|---|---|---|---|---|---|---|---|---|---|---|---|---|---|---|---|---|---|---|---|---|---|---|---|---|---|---|---|---|---|\n",
       "| FirstTime | 1 | 2020-01-22 |  91639803 | segeln.fun    | 2019-01-22 | Active | fun | 1&amp;1 internet     | 1&amp;1 internet     | Germany | Non China | 1 | NA | Renewed    | 0 | auto-renewal | realized   | 2020-01-22 | 1&amp;1 Internet     | 1&amp;1 Internet     | 15 | 15 | 1 | 15 | 15 | 15 | fun1&amp;1 internet     | segeln    | l | 6 | 6l | 1 | 2.708050 | 2.23 | segeln    | 1 | 1 | 1 | 1 | 22 | 3 | 22 |  22 | 0.3713604 | 0.371 |\n",
       "| FirstTime | 1 | 2020-03-07 |  95819759 | harzhotel.fun | 2019-03-07 | Active | fun | 1&amp;1 internet     | 1&amp;1 internet     | Germany | Non China | 1 | NA | Renewed    | 0 | auto-renewal | realized   | 2020-03-07 | 1&amp;1 Internet     | 1&amp;1 Internet     | 15 | 15 | 1 | 15 | 15 | 15 | fun1&amp;1 internet     | harzhotel | l | 9 | 9l | 1 | 2.708050 | 3.45 | harzhotel | 1 | 1 | 1 | 1 |  7 | 5 | 66 |  66 | 0.3604911 | 0.360 |\n",
       "| FirstTime | 1 | 2020-01-15 |  91044973 | movistar.fun  | 2019-01-15 | Active | fun | 10dencehispahard | 10dencehispahard | Spain   | Non China | 1 | NA | Not Renewd | 0 | auto-renewal | unrealized | 2020-01-15 | 10dencehispahard | 10dencehispahard | 15 | 15 | 1 | 15 | 15 | 15 | fun10dencehispahard | movistar  | l | 8 | 8l | 1 | 2.708050 | 8.62 | movistar  | 1 | 1 | 1 | 1 | 15 | 3 | 15 |  15 | 0.1228685 | 0.123 |\n",
       "| FirstTime | 1 | 2020-02-01 |  92472913 | kuinik.fun    | 2019-02-01 | Active | fun | 10dencehispahard | 10dencehispahard | Spain   | Non China | 1 | NA | Not Renewd | 0 | auto-renewal | unrealized | 2020-02-01 | 10dencehispahard | 10dencehispahard | 15 | 15 | 1 | 15 | 15 | 15 | fun10dencehispahard | kuinik    | l | 6 | 6l | 1 | 2.708050 | 3.13 | kuinik    | 1 | 1 | 1 | 1 |  1 | 6 | 32 |  32 | 0.1200240 | 0.120 |\n",
       "| FirstTime | 1 | 2020-01-21 |  91532433 | bulgari.fun   | 2019-01-21 | Active | fun | 1api             | 1api             | Germany | Non China | 1 | NA | Renewed    | 0 | auto-renewal | realized   | 2020-01-21 | 1API             | 1API             |  5 |  5 | 1 | 15 | 15 |  5 | fun1api             | bulgari   | l | 7 | 7l | 1 | 1.609438 | 4.51 | bulgari   | 1 | 1 | 1 | 1 | 21 | 2 | 21 |  21 | 0.3255836 | 0.326 |\n",
       "| FirstTime | 1 | 2020-04-24 | 101717674 | gotsome.fun   | 2019-04-24 | Active | fun | 1api             | 1api             | Germany | Non China | 1 | NA | Not Renewd | 0 | auto-renewal | unrealized | 2020-04-24 | 1API             | 1API             |  5 |  5 | 1 | 15 | 15 |  5 | fun1api             | gotsome   | l | 7 | 7l | 1 | 1.609438 | 6.09 | gotsome   | 1 | 1 | 1 | 1 | 24 | 4 | 24 | 114 | 0.3298929 | 0.330 |\n",
       "\n"
      ],
      "text/plain": [
       "  renewal_type renewed_count expiry_date domain_id domain        creation_date\n",
       "1 FirstTime    1             2020-01-22   91639803 segeln.fun    2019-01-22   \n",
       "2 FirstTime    1             2020-03-07   95819759 harzhotel.fun 2019-03-07   \n",
       "3 FirstTime    1             2020-01-15   91044973 movistar.fun  2019-01-15   \n",
       "4 FirstTime    1             2020-02-01   92472913 kuinik.fun    2019-02-01   \n",
       "5 FirstTime    1             2020-01-21   91532433 bulgari.fun   2019-01-21   \n",
       "6 FirstTime    1             2020-04-24  101717674 gotsome.fun   2019-04-24   \n",
       "  status tld registrar        reseller         reseller_country region   \n",
       "1 Active fun 1&1 internet     1&1 internet     Germany          Non China\n",
       "2 Active fun 1&1 internet     1&1 internet     Germany          Non China\n",
       "3 Active fun 10dencehispahard 10dencehispahard Spain            Non China\n",
       "4 Active fun 10dencehispahard 10dencehispahard Spain            Non China\n",
       "5 Active fun 1api             1api             Germany          Non China\n",
       "6 Active fun 1api             1api             Germany          Non China\n",
       "  reg_period registrant_country renewal_status renew_mbg renew_type  \n",
       "1 1          NA                 Renewed        0         auto-renewal\n",
       "2 1          NA                 Renewed        0         auto-renewal\n",
       "3 1          NA                 Not Renewd     0         auto-renewal\n",
       "4 1          NA                 Not Renewd     0         auto-renewal\n",
       "5 1          NA                 Renewed        0         auto-renewal\n",
       "6 1          NA                 Not Renewd     0         auto-renewal\n",
       "  autorenew_type renew_date renew_registrar  renew_reseller   reg_revenue\n",
       "1 realized       2020-01-22 1&1 Internet     1&1 Internet     15         \n",
       "2 realized       2020-03-07 1&1 Internet     1&1 Internet     15         \n",
       "3 unrealized     2020-01-15 10dencehispahard 10dencehispahard 15         \n",
       "4 unrealized     2020-02-01 10dencehispahard 10dencehispahard 15         \n",
       "5 realized       2020-01-21 1API             1API              5         \n",
       "6 unrealized     2020-04-24 1API             1API              5         \n",
       "  reg_arpt renew_period renew_domain_revenue renew_arpt reg_arpt_org\n",
       "1 15       1            15                   15         15          \n",
       "2 15       1            15                   15         15          \n",
       "3 15       1            15                   15         15          \n",
       "4 15       1            15                   15         15          \n",
       "5  5       1            15                   15          5          \n",
       "6  5       1            15                   15          5          \n",
       "  tld_registrar_index sld       sld_type sld_length sld_type2 day_domains\n",
       "1 fun1&1 internet     segeln    l        6          6l        1          \n",
       "2 fun1&1 internet     harzhotel l        9          9l        1          \n",
       "3 fun10dencehispahard movistar  l        8          8l        1          \n",
       "4 fun10dencehispahard kuinik    l        6          6l        1          \n",
       "5 fun1api             bulgari   l        7          7l        1          \n",
       "6 fun1api             gotsome   l        7          7l        1          \n",
       "  log_reg_arpt gibb_score pattern   cluster pattern_score pattern_domain_count\n",
       "1 2.708050     2.23       segeln    1       1             1                   \n",
       "2 2.708050     3.45       harzhotel 1       1             1                   \n",
       "3 2.708050     8.62       movistar  1       1             1                   \n",
       "4 2.708050     3.13       kuinik    1       1             1                   \n",
       "5 1.609438     4.51       bulgari   1       1             1                   \n",
       "6 1.609438     6.09       gotsome   1       1             1                   \n",
       "  reg_durY mday wday qday yday probabilities first_renewal_prediction\n",
       "1 1        22   3    22    22  0.3713604     0.371                   \n",
       "2 1         7   5    66    66  0.3604911     0.360                   \n",
       "3 1        15   3    15    15  0.1228685     0.123                   \n",
       "4 1         1   6    32    32  0.1200240     0.120                   \n",
       "5 1        21   2    21    21  0.3255836     0.326                   \n",
       "6 1        24   4    24   114  0.3298929     0.330                   "
      ]
     },
     "metadata": {},
     "output_type": "display_data"
    }
   ],
   "source": [
    "head(agg_glm_basic_pred)"
   ]
  },
  {
   "cell_type": "code",
   "execution_count": 10,
   "metadata": {},
   "outputs": [],
   "source": [
    "df_basic = data.frame(\"actual\" = agg_glm_basic_pred$renewal_status,\n",
    "          \"predicted\" = agg_glm_basic_pred$first_renewal_prediction)\n",
    "\n",
    "lift_df_basic <- chart_lift(pred_df = df_basic,\n",
    "                        dep_var = \"actual\",\n",
    "                        pred_var = \"predicted\")\n",
    "\n",
    "gains_plot_basic <- plot_gains (lift_df_basic) \n",
    "\n",
    "auc_val_basic <- calc_auc(lift_df_basic)\n",
    "\n",
    "\n",
    "# saveRDS(lift_df_seg_glm_expiry_exptest, file.path('../../data/output/',\"lift_df_seg_glm_expiry_exptest\"))"
   ]
  },
  {
   "cell_type": "code",
   "execution_count": 11,
   "metadata": {},
   "outputs": [
    {
     "data": {
      "text/html": [
       "0.812320014730252"
      ],
      "text/latex": [
       "0.812320014730252"
      ],
      "text/markdown": [
       "0.812320014730252"
      ],
      "text/plain": [
       "[1] 0.81232"
      ]
     },
     "metadata": {},
     "output_type": "display_data"
    }
   ],
   "source": [
    "auc_val_basic"
   ]
  },
  {
   "cell_type": "code",
   "execution_count": 12,
   "metadata": {},
   "outputs": [
    {
     "data": {
      "text/html": [
       "<table>\n",
       "<caption>A data.frame: 10 × 4</caption>\n",
       "<thead>\n",
       "\t<tr><th scope=col>P</th><th scope=col>actu_renwd2</th><th scope=col>gain</th><th scope=col>lift</th></tr>\n",
       "\t<tr><th scope=col>&lt;dbl&gt;</th><th scope=col>&lt;int&gt;</th><th scope=col>&lt;dbl&gt;</th><th scope=col>&lt;dbl&gt;</th></tr>\n",
       "</thead>\n",
       "<tbody>\n",
       "\t<tr><td>0.1</td><td>12690</td><td>0.4673173</td><td>4.673173</td></tr>\n",
       "\t<tr><td>0.2</td><td>18189</td><td>0.6698214</td><td>3.349107</td></tr>\n",
       "\t<tr><td>0.3</td><td>21266</td><td>0.7831339</td><td>2.610446</td></tr>\n",
       "\t<tr><td>0.4</td><td>23205</td><td>0.8545388</td><td>2.136347</td></tr>\n",
       "\t<tr><td>0.5</td><td>24971</td><td>0.9195728</td><td>1.839146</td></tr>\n",
       "\t<tr><td>0.6</td><td>25971</td><td>0.9563985</td><td>1.593997</td></tr>\n",
       "\t<tr><td>0.7</td><td>26632</td><td>0.9807402</td><td>1.401057</td></tr>\n",
       "\t<tr><td>0.8</td><td>26955</td><td>0.9926349</td><td>1.240794</td></tr>\n",
       "\t<tr><td>0.9</td><td>27129</td><td>0.9990425</td><td>1.110047</td></tr>\n",
       "\t<tr><td>1.0</td><td>27155</td><td>1.0000000</td><td>1.000000</td></tr>\n",
       "</tbody>\n",
       "</table>\n"
      ],
      "text/latex": [
       "A data.frame: 10 × 4\n",
       "\\begin{tabular}{llll}\n",
       " P & actu\\_renwd2 & gain & lift\\\\\n",
       " <dbl> & <int> & <dbl> & <dbl>\\\\\n",
       "\\hline\n",
       "\t 0.1 & 12690 & 0.4673173 & 4.673173\\\\\n",
       "\t 0.2 & 18189 & 0.6698214 & 3.349107\\\\\n",
       "\t 0.3 & 21266 & 0.7831339 & 2.610446\\\\\n",
       "\t 0.4 & 23205 & 0.8545388 & 2.136347\\\\\n",
       "\t 0.5 & 24971 & 0.9195728 & 1.839146\\\\\n",
       "\t 0.6 & 25971 & 0.9563985 & 1.593997\\\\\n",
       "\t 0.7 & 26632 & 0.9807402 & 1.401057\\\\\n",
       "\t 0.8 & 26955 & 0.9926349 & 1.240794\\\\\n",
       "\t 0.9 & 27129 & 0.9990425 & 1.110047\\\\\n",
       "\t 1.0 & 27155 & 1.0000000 & 1.000000\\\\\n",
       "\\end{tabular}\n"
      ],
      "text/markdown": [
       "\n",
       "A data.frame: 10 × 4\n",
       "\n",
       "| P &lt;dbl&gt; | actu_renwd2 &lt;int&gt; | gain &lt;dbl&gt; | lift &lt;dbl&gt; |\n",
       "|---|---|---|---|\n",
       "| 0.1 | 12690 | 0.4673173 | 4.673173 |\n",
       "| 0.2 | 18189 | 0.6698214 | 3.349107 |\n",
       "| 0.3 | 21266 | 0.7831339 | 2.610446 |\n",
       "| 0.4 | 23205 | 0.8545388 | 2.136347 |\n",
       "| 0.5 | 24971 | 0.9195728 | 1.839146 |\n",
       "| 0.6 | 25971 | 0.9563985 | 1.593997 |\n",
       "| 0.7 | 26632 | 0.9807402 | 1.401057 |\n",
       "| 0.8 | 26955 | 0.9926349 | 1.240794 |\n",
       "| 0.9 | 27129 | 0.9990425 | 1.110047 |\n",
       "| 1.0 | 27155 | 1.0000000 | 1.000000 |\n",
       "\n"
      ],
      "text/plain": [
       "   P   actu_renwd2 gain      lift    \n",
       "1  0.1 12690       0.4673173 4.673173\n",
       "2  0.2 18189       0.6698214 3.349107\n",
       "3  0.3 21266       0.7831339 2.610446\n",
       "4  0.4 23205       0.8545388 2.136347\n",
       "5  0.5 24971       0.9195728 1.839146\n",
       "6  0.6 25971       0.9563985 1.593997\n",
       "7  0.7 26632       0.9807402 1.401057\n",
       "8  0.8 26955       0.9926349 1.240794\n",
       "9  0.9 27129       0.9990425 1.110047\n",
       "10 1.0 27155       1.0000000 1.000000"
      ]
     },
     "metadata": {},
     "output_type": "display_data"
    }
   ],
   "source": [
    "lift_df_basic"
   ]
  },
  {
   "cell_type": "markdown",
   "metadata": {},
   "source": [
    "# Var imp\n",
    "https://cran.r-project.org/web/packages/dominanceanalysis/vignettes/da-logistic-regression.html"
   ]
  },
  {
   "cell_type": "markdown",
   "metadata": {},
   "source": [
    "## plus"
   ]
  },
  {
   "cell_type": "code",
   "execution_count": 8,
   "metadata": {},
   "outputs": [],
   "source": [
    "filename = 'agg_glm_plus_model'\n",
    "# system(paste(sprintf(\"gsutil cp gs://data_input/%s /home/jupyter/local/Domains_202003/data/\", filename)))\n",
    "load(file.path(\"/home/jupyter/local/Domains_202003/data/output\", filename))"
   ]
  },
  {
   "cell_type": "code",
   "execution_count": null,
   "metadata": {},
   "outputs": [
    {
     "name": "stderr",
     "output_type": "stream",
     "text": [
      "Warning message:\n",
      "“glm.fit: fitted probabilities numerically 0 or 1 occurred”\n",
      "Warning message:\n",
      "“glm.fit: fitted probabilities numerically 0 or 1 occurred”\n",
      "Warning message:\n",
      "“glm.fit: fitted probabilities numerically 0 or 1 occurred”\n",
      "Warning message:\n",
      "“glm.fit: fitted probabilities numerically 0 or 1 occurred”\n",
      "Warning message:\n",
      "“glm.fit: fitted probabilities numerically 0 or 1 occurred”\n",
      "Warning message:\n",
      "“glm.fit: fitted probabilities numerically 0 or 1 occurred”\n",
      "Warning message:\n",
      "“glm.fit: fitted probabilities numerically 0 or 1 occurred”\n",
      "Warning message:\n",
      "“glm.fit: fitted probabilities numerically 0 or 1 occurred”\n",
      "Warning message:\n",
      "“glm.fit: fitted probabilities numerically 0 or 1 occurred”\n",
      "Warning message:\n",
      "“glm.fit: fitted probabilities numerically 0 or 1 occurred”\n",
      "Warning message:\n",
      "“glm.fit: fitted probabilities numerically 0 or 1 occurred”\n",
      "Warning message:\n",
      "“glm.fit: fitted probabilities numerically 0 or 1 occurred”\n",
      "Warning message:\n",
      "“glm.fit: fitted probabilities numerically 0 or 1 occurred”\n",
      "Warning message:\n",
      "“glm.fit: fitted probabilities numerically 0 or 1 occurred”\n",
      "Warning message:\n",
      "“glm.fit: fitted probabilities numerically 0 or 1 occurred”\n",
      "Warning message:\n",
      "“glm.fit: fitted probabilities numerically 0 or 1 occurred”\n",
      "Warning message:\n",
      "“glm.fit: fitted probabilities numerically 0 or 1 occurred”\n",
      "Warning message:\n",
      "“glm.fit: fitted probabilities numerically 0 or 1 occurred”\n",
      "Warning message:\n",
      "“glm.fit: fitted probabilities numerically 0 or 1 occurred”\n",
      "Warning message:\n",
      "“glm.fit: fitted probabilities numerically 0 or 1 occurred”\n",
      "Warning message:\n",
      "“glm.fit: fitted probabilities numerically 0 or 1 occurred”\n",
      "Warning message:\n",
      "“glm.fit: fitted probabilities numerically 0 or 1 occurred”\n",
      "Warning message:\n",
      "“glm.fit: fitted probabilities numerically 0 or 1 occurred”\n",
      "Warning message:\n",
      "“glm.fit: fitted probabilities numerically 0 or 1 occurred”\n",
      "Warning message:\n",
      "“glm.fit: fitted probabilities numerically 0 or 1 occurred”\n",
      "Warning message:\n",
      "“glm.fit: fitted probabilities numerically 0 or 1 occurred”\n",
      "Warning message:\n",
      "“glm.fit: fitted probabilities numerically 0 or 1 occurred”\n",
      "Warning message:\n",
      "“glm.fit: fitted probabilities numerically 0 or 1 occurred”\n",
      "Warning message:\n",
      "“glm.fit: fitted probabilities numerically 0 or 1 occurred”\n",
      "Warning message:\n",
      "“glm.fit: fitted probabilities numerically 0 or 1 occurred”\n",
      "Warning message:\n",
      "“glm.fit: fitted probabilities numerically 0 or 1 occurred”\n",
      "Warning message:\n",
      "“glm.fit: fitted probabilities numerically 0 or 1 occurred”\n",
      "Warning message:\n",
      "“glm.fit: fitted probabilities numerically 0 or 1 occurred”\n",
      "Warning message:\n",
      "“glm.fit: fitted probabilities numerically 0 or 1 occurred”\n",
      "Warning message:\n",
      "“glm.fit: fitted probabilities numerically 0 or 1 occurred”\n",
      "Warning message:\n",
      "“glm.fit: fitted probabilities numerically 0 or 1 occurred”\n",
      "Warning message:\n",
      "“glm.fit: fitted probabilities numerically 0 or 1 occurred”\n",
      "Warning message:\n",
      "“glm.fit: fitted probabilities numerically 0 or 1 occurred”\n",
      "Warning message:\n",
      "“glm.fit: fitted probabilities numerically 0 or 1 occurred”\n",
      "Warning message:\n",
      "“glm.fit: fitted probabilities numerically 0 or 1 occurred”\n",
      "Warning message:\n",
      "“glm.fit: fitted probabilities numerically 0 or 1 occurred”\n",
      "Warning message:\n",
      "“glm.fit: fitted probabilities numerically 0 or 1 occurred”\n",
      "Warning message:\n",
      "“glm.fit: fitted probabilities numerically 0 or 1 occurred”\n",
      "Warning message:\n",
      "“glm.fit: fitted probabilities numerically 0 or 1 occurred”\n",
      "Warning message:\n",
      "“glm.fit: fitted probabilities numerically 0 or 1 occurred”\n",
      "Warning message:\n",
      "“glm.fit: fitted probabilities numerically 0 or 1 occurred”\n",
      "Warning message:\n",
      "“glm.fit: fitted probabilities numerically 0 or 1 occurred”\n",
      "Warning message:\n",
      "“glm.fit: fitted probabilities numerically 0 or 1 occurred”\n",
      "Warning message:\n",
      "“glm.fit: fitted probabilities numerically 0 or 1 occurred”\n",
      "Warning message:\n",
      "“glm.fit: fitted probabilities numerically 0 or 1 occurred”\n",
      "Warning message:\n",
      "“glm.fit: fitted probabilities numerically 0 or 1 occurred”\n",
      "Warning message:\n",
      "“glm.fit: fitted probabilities numerically 0 or 1 occurred”\n",
      "Warning message:\n",
      "“glm.fit: fitted probabilities numerically 0 or 1 occurred”\n",
      "Warning message:\n",
      "“glm.fit: fitted probabilities numerically 0 or 1 occurred”\n",
      "Warning message:\n",
      "“glm.fit: fitted probabilities numerically 0 or 1 occurred”\n",
      "Warning message:\n",
      "“glm.fit: fitted probabilities numerically 0 or 1 occurred”\n",
      "Warning message:\n",
      "“glm.fit: fitted probabilities numerically 0 or 1 occurred”\n",
      "Warning message:\n",
      "“glm.fit: fitted probabilities numerically 0 or 1 occurred”\n",
      "Warning message:\n",
      "“glm.fit: fitted probabilities numerically 0 or 1 occurred”\n",
      "Warning message:\n",
      "“glm.fit: fitted probabilities numerically 0 or 1 occurred”\n",
      "Warning message:\n",
      "“glm.fit: fitted probabilities numerically 0 or 1 occurred”\n",
      "Warning message:\n",
      "“glm.fit: fitted probabilities numerically 0 or 1 occurred”\n",
      "Warning message:\n",
      "“glm.fit: fitted probabilities numerically 0 or 1 occurred”\n",
      "Warning message:\n",
      "“glm.fit: fitted probabilities numerically 0 or 1 occurred”\n",
      "Warning message:\n",
      "“glm.fit: fitted probabilities numerically 0 or 1 occurred”\n",
      "Warning message:\n",
      "“glm.fit: fitted probabilities numerically 0 or 1 occurred”\n",
      "Warning message:\n",
      "“glm.fit: fitted probabilities numerically 0 or 1 occurred”\n",
      "Warning message:\n",
      "“glm.fit: fitted probabilities numerically 0 or 1 occurred”\n",
      "Warning message:\n",
      "“glm.fit: fitted probabilities numerically 0 or 1 occurred”\n",
      "Warning message:\n",
      "“glm.fit: fitted probabilities numerically 0 or 1 occurred”\n",
      "Warning message:\n",
      "“glm.fit: fitted probabilities numerically 0 or 1 occurred”\n",
      "Warning message:\n",
      "“glm.fit: fitted probabilities numerically 0 or 1 occurred”\n",
      "Warning message:\n",
      "“glm.fit: fitted probabilities numerically 0 or 1 occurred”\n",
      "Warning message:\n",
      "“glm.fit: fitted probabilities numerically 0 or 1 occurred”\n",
      "Warning message:\n",
      "“glm.fit: fitted probabilities numerically 0 or 1 occurred”\n",
      "Warning message:\n",
      "“glm.fit: fitted probabilities numerically 0 or 1 occurred”\n",
      "Warning message:\n",
      "“glm.fit: fitted probabilities numerically 0 or 1 occurred”\n",
      "Warning message:\n",
      "“glm.fit: fitted probabilities numerically 0 or 1 occurred”\n",
      "Warning message:\n",
      "“glm.fit: fitted probabilities numerically 0 or 1 occurred”\n",
      "Warning message:\n",
      "“glm.fit: fitted probabilities numerically 0 or 1 occurred”\n",
      "Warning message:\n",
      "“glm.fit: fitted probabilities numerically 0 or 1 occurred”\n",
      "Warning message:\n",
      "“glm.fit: fitted probabilities numerically 0 or 1 occurred”\n",
      "Warning message:\n",
      "“glm.fit: fitted probabilities numerically 0 or 1 occurred”\n",
      "Warning message:\n",
      "“glm.fit: fitted probabilities numerically 0 or 1 occurred”\n",
      "Warning message:\n",
      "“glm.fit: fitted probabilities numerically 0 or 1 occurred”\n",
      "Warning message:\n",
      "“glm.fit: fitted probabilities numerically 0 or 1 occurred”\n",
      "Warning message:\n",
      "“glm.fit: fitted probabilities numerically 0 or 1 occurred”\n",
      "Warning message:\n",
      "“glm.fit: fitted probabilities numerically 0 or 1 occurred”\n",
      "Warning message:\n",
      "“glm.fit: fitted probabilities numerically 0 or 1 occurred”\n",
      "Warning message:\n",
      "“glm.fit: fitted probabilities numerically 0 or 1 occurred”\n",
      "Warning message:\n",
      "“glm.fit: fitted probabilities numerically 0 or 1 occurred”\n",
      "Warning message:\n",
      "“glm.fit: fitted probabilities numerically 0 or 1 occurred”\n",
      "Warning message:\n",
      "“glm.fit: fitted probabilities numerically 0 or 1 occurred”\n",
      "Warning message:\n",
      "“glm.fit: fitted probabilities numerically 0 or 1 occurred”\n",
      "Warning message:\n",
      "“glm.fit: fitted probabilities numerically 0 or 1 occurred”\n",
      "Warning message:\n",
      "“glm.fit: fitted probabilities numerically 0 or 1 occurred”\n",
      "Warning message:\n",
      "“glm.fit: fitted probabilities numerically 0 or 1 occurred”\n",
      "Warning message:\n",
      "“glm.fit: fitted probabilities numerically 0 or 1 occurred”\n",
      "Warning message:\n",
      "“glm.fit: fitted probabilities numerically 0 or 1 occurred”\n",
      "Warning message:\n",
      "“glm.fit: fitted probabilities numerically 0 or 1 occurred”\n",
      "Warning message:\n",
      "“glm.fit: fitted probabilities numerically 0 or 1 occurred”\n",
      "Warning message:\n",
      "“glm.fit: fitted probabilities numerically 0 or 1 occurred”\n",
      "Warning message:\n",
      "“glm.fit: fitted probabilities numerically 0 or 1 occurred”\n",
      "Warning message:\n",
      "“glm.fit: fitted probabilities numerically 0 or 1 occurred”\n",
      "Warning message:\n",
      "“glm.fit: fitted probabilities numerically 0 or 1 occurred”\n",
      "Warning message:\n",
      "“glm.fit: fitted probabilities numerically 0 or 1 occurred”\n",
      "Warning message:\n",
      "“glm.fit: fitted probabilities numerically 0 or 1 occurred”\n",
      "Warning message:\n",
      "“glm.fit: fitted probabilities numerically 0 or 1 occurred”\n",
      "Warning message:\n",
      "“glm.fit: fitted probabilities numerically 0 or 1 occurred”\n",
      "Warning message:\n",
      "“glm.fit: fitted probabilities numerically 0 or 1 occurred”\n",
      "Warning message:\n",
      "“glm.fit: fitted probabilities numerically 0 or 1 occurred”\n",
      "Warning message:\n",
      "“glm.fit: fitted probabilities numerically 0 or 1 occurred”\n",
      "Warning message:\n",
      "“glm.fit: fitted probabilities numerically 0 or 1 occurred”\n",
      "Warning message:\n",
      "“glm.fit: fitted probabilities numerically 0 or 1 occurred”\n",
      "Warning message:\n",
      "“glm.fit: fitted probabilities numerically 0 or 1 occurred”\n",
      "Warning message:\n",
      "“glm.fit: fitted probabilities numerically 0 or 1 occurred”\n",
      "Warning message:\n",
      "“glm.fit: fitted probabilities numerically 0 or 1 occurred”\n",
      "Warning message:\n",
      "“glm.fit: fitted probabilities numerically 0 or 1 occurred”\n",
      "Warning message:\n",
      "“glm.fit: fitted probabilities numerically 0 or 1 occurred”\n",
      "Warning message:\n",
      "“glm.fit: fitted probabilities numerically 0 or 1 occurred”\n",
      "Warning message:\n",
      "“glm.fit: fitted probabilities numerically 0 or 1 occurred”\n",
      "Warning message:\n",
      "“glm.fit: fitted probabilities numerically 0 or 1 occurred”\n",
      "Warning message:\n",
      "“glm.fit: fitted probabilities numerically 0 or 1 occurred”\n",
      "Warning message:\n",
      "“glm.fit: fitted probabilities numerically 0 or 1 occurred”\n",
      "Warning message:\n",
      "“glm.fit: fitted probabilities numerically 0 or 1 occurred”\n",
      "Warning message:\n",
      "“glm.fit: fitted probabilities numerically 0 or 1 occurred”\n",
      "Warning message:\n",
      "“glm.fit: fitted probabilities numerically 0 or 1 occurred”\n",
      "Warning message:\n",
      "“glm.fit: fitted probabilities numerically 0 or 1 occurred”\n",
      "Warning message:\n",
      "“glm.fit: fitted probabilities numerically 0 or 1 occurred”\n",
      "Warning message:\n",
      "“glm.fit: fitted probabilities numerically 0 or 1 occurred”\n",
      "Warning message:\n",
      "“glm.fit: fitted probabilities numerically 0 or 1 occurred”\n",
      "Warning message:\n",
      "“glm.fit: fitted probabilities numerically 0 or 1 occurred”\n",
      "Warning message:\n",
      "“glm.fit: fitted probabilities numerically 0 or 1 occurred”\n",
      "Warning message:\n",
      "“glm.fit: fitted probabilities numerically 0 or 1 occurred”\n",
      "Warning message:\n",
      "“glm.fit: fitted probabilities numerically 0 or 1 occurred”\n",
      "Warning message:\n",
      "“glm.fit: fitted probabilities numerically 0 or 1 occurred”\n",
      "Warning message:\n",
      "“glm.fit: fitted probabilities numerically 0 or 1 occurred”\n",
      "Warning message:\n",
      "“glm.fit: fitted probabilities numerically 0 or 1 occurred”\n",
      "Warning message:\n",
      "“glm.fit: fitted probabilities numerically 0 or 1 occurred”\n",
      "Warning message:\n",
      "“glm.fit: fitted probabilities numerically 0 or 1 occurred”\n",
      "Warning message:\n",
      "“glm.fit: fitted probabilities numerically 0 or 1 occurred”\n",
      "Warning message:\n",
      "“glm.fit: fitted probabilities numerically 0 or 1 occurred”\n",
      "Warning message:\n",
      "“glm.fit: fitted probabilities numerically 0 or 1 occurred”\n",
      "Warning message:\n",
      "“glm.fit: fitted probabilities numerically 0 or 1 occurred”\n"
     ]
    }
   ],
   "source": [
    "da_plus <- dominanceAnalysis(agg_glm_plus_model)\n",
    "da_plus_fits <- getFits(da_plus,\"r2.m\")"
   ]
  },
  {
   "cell_type": "code",
   "execution_count": null,
   "metadata": {},
   "outputs": [],
   "source": [
    "da_plus_fits"
   ]
  },
  {
   "cell_type": "code",
   "execution_count": null,
   "metadata": {},
   "outputs": [],
   "source": [
    "1"
   ]
  },
  {
   "cell_type": "code",
   "execution_count": null,
   "metadata": {},
   "outputs": [],
   "source": [
    "save(da_plus, file=\"../../data/output/da_plus\")"
   ]
  },
  {
   "cell_type": "code",
   "execution_count": null,
   "metadata": {},
   "outputs": [],
   "source": [
    "rm(da_plus)"
   ]
  },
  {
   "cell_type": "code",
   "execution_count": null,
   "metadata": {},
   "outputs": [],
   "source": [
    "rm(agg_glm_plus_model)"
   ]
  },
  {
   "cell_type": "code",
   "execution_count": null,
   "metadata": {},
   "outputs": [],
   "source": [
    "1"
   ]
  },
  {
   "cell_type": "markdown",
   "metadata": {},
   "source": [
    "## basic"
   ]
  },
  {
   "cell_type": "code",
   "execution_count": null,
   "metadata": {},
   "outputs": [],
   "source": [
    "filename = 'agg_glm_basic_model'\n",
    "# system(paste(sprintf(\"gsutil cp gs://data_input/%s /home/jupyter/local/Domains_202003/data/\", filename)))\n",
    "load(file.path(\"/home/jupyter/local/Domains_202003/data/output\", filename))"
   ]
  },
  {
   "cell_type": "code",
   "execution_count": null,
   "metadata": {},
   "outputs": [],
   "source": [
    "da_basic <- dominanceAnalysis(agg_glm_basic_model)\n",
    "da_basic_fits <- getFits(da_basic,\"r2.m\")"
   ]
  },
  {
   "cell_type": "code",
   "execution_count": null,
   "metadata": {},
   "outputs": [],
   "source": [
    "save(da_basic, file=\"../../data/output/da_basic\")"
   ]
  },
  {
   "cell_type": "code",
   "execution_count": null,
   "metadata": {},
   "outputs": [],
   "source": [
    "rm(da_basic)"
   ]
  },
  {
   "cell_type": "code",
   "execution_count": null,
   "metadata": {},
   "outputs": [],
   "source": [
    "rm(agg_glm_basic_model)"
   ]
  },
  {
   "cell_type": "code",
   "execution_count": null,
   "metadata": {},
   "outputs": [],
   "source": [
    "1"
   ]
  },
  {
   "cell_type": "markdown",
   "metadata": {},
   "source": [
    "# Write to GCP"
   ]
  },
  {
   "cell_type": "code",
   "execution_count": null,
   "metadata": {},
   "outputs": [],
   "source": [
    "system(\"gsutil cp /home/jupyter/local/Domains_202003/data/output/* gs://data_outputt/output/\")\n",
    "system(\"mv /home/jupyter/local/Domains_202003/data/output/* /home/jupyter/local/Domains_202003/data/\")"
   ]
  },
  {
   "cell_type": "code",
   "execution_count": null,
   "metadata": {},
   "outputs": [],
   "source": []
  }
 ],
 "metadata": {
  "environment": {
   "name": "r-cpu.3-6.m48",
   "type": "gcloud",
   "uri": "gcr.io/deeplearning-platform-release/r-cpu.3-6:m48"
  },
  "kernelspec": {
   "display_name": "R",
   "language": "R",
   "name": "ir"
  },
  "language_info": {
   "codemirror_mode": "r",
   "file_extension": ".r",
   "mimetype": "text/x-r-source",
   "name": "R",
   "pygments_lexer": "r",
   "version": "3.6.3"
  }
 },
 "nbformat": 4,
 "nbformat_minor": 4
}
