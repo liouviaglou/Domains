{
 "cells": [
  {
   "cell_type": "markdown",
   "metadata": {},
   "source": [
    "# A re-mapping of reseller_country to fallback table values"
   ]
  },
  {
   "cell_type": "code",
   "execution_count": 1,
   "metadata": {},
   "outputs": [],
   "source": [
    "options(repr.matrix.max.cols=50, repr.matrix.max.rows=100)"
   ]
  },
  {
   "cell_type": "code",
   "execution_count": 2,
   "metadata": {},
   "outputs": [],
   "source": [
    "# install.packages(\"pkgcond\")"
   ]
  },
  {
   "cell_type": "code",
   "execution_count": 3,
   "metadata": {},
   "outputs": [
    {
     "name": "stderr",
     "output_type": "stream",
     "text": [
      "\n",
      "Attaching package: ‘dplyr’\n",
      "\n",
      "\n",
      "The following objects are masked from ‘package:stats’:\n",
      "\n",
      "    filter, lag\n",
      "\n",
      "\n",
      "The following objects are masked from ‘package:base’:\n",
      "\n",
      "    intersect, setdiff, setequal, union\n",
      "\n",
      "\n",
      "\n",
      "Attaching package: ‘data.table’\n",
      "\n",
      "\n",
      "The following objects are masked from ‘package:dplyr’:\n",
      "\n",
      "    between, first, last\n",
      "\n",
      "\n",
      "Loading required package: grid\n",
      "\n",
      "Loading required package: libcoin\n",
      "\n",
      "Loading required package: mvtnorm\n",
      "\n",
      "Loading required package: lattice\n",
      "\n",
      "Loading required package: ggplot2\n",
      "\n",
      "randomForest 4.6-14\n",
      "\n",
      "Type rfNews() to see new features/changes/bug fixes.\n",
      "\n",
      "\n",
      "Attaching package: ‘randomForest’\n",
      "\n",
      "\n",
      "The following object is masked from ‘package:ggplot2’:\n",
      "\n",
      "    margin\n",
      "\n",
      "\n",
      "The following object is masked from ‘package:dplyr’:\n",
      "\n",
      "    combine\n",
      "\n",
      "\n",
      "\n",
      "Attaching package: ‘ranger’\n",
      "\n",
      "\n",
      "The following object is masked from ‘package:randomForest’:\n",
      "\n",
      "    importance\n",
      "\n",
      "\n",
      "\n",
      "Attaching package: ‘plotly’\n",
      "\n",
      "\n",
      "The following object is masked from ‘package:ggplot2’:\n",
      "\n",
      "    last_plot\n",
      "\n",
      "\n",
      "The following object is masked from ‘package:stats’:\n",
      "\n",
      "    filter\n",
      "\n",
      "\n",
      "The following object is masked from ‘package:graphics’:\n",
      "\n",
      "    layout\n",
      "\n",
      "\n",
      "Loading required package: RJSONIO\n",
      "\n"
     ]
    },
    {
     "data": {
      "text/html": [
       "'/home/jupyter/local/Domains_202003/scripts/phaseII_05_metalearning'"
      ],
      "text/latex": [
       "'/home/jupyter/local/Domains\\_202003/scripts/phaseII\\_05\\_metalearning'"
      ],
      "text/markdown": [
       "'/home/jupyter/local/Domains_202003/scripts/phaseII_05_metalearning'"
      ],
      "text/plain": [
       "[1] \"/home/jupyter/local/Domains_202003/scripts/phaseII_05_metalearning\""
      ]
     },
     "metadata": {},
     "output_type": "display_data"
    }
   ],
   "source": [
    "library(dplyr)\n",
    "library(data.table)\n",
    "library(partykit)\n",
    "library(tictoc)\n",
    "library(caret)\n",
    "library(e1071)\n",
    "library(randomForest)\n",
    "library(ranger)\n",
    "\n",
    "#for 3d plotting\n",
    "library(akima)\n",
    "library(plotly)\n",
    "\n",
    "# for prep data\n",
    "library(rPython)\n",
    "library(stringr)\n",
    "library(pbapply)\n",
    "library(stringdist)\n",
    "library(data.table)\n",
    "library(dominanceanalysis)\n",
    "\n",
    "\n",
    "getwd()"
   ]
  },
  {
   "cell_type": "code",
   "execution_count": 4,
   "metadata": {},
   "outputs": [],
   "source": [
    "\n",
    "source('../orig/functions.R')\n",
    "\n",
    "source('../orig/functions_models.R')\n",
    "\n",
    "source('../phaseII_03_forest/functions_eval.R')\n",
    "\n",
    "\n",
    "source('../phaseII_03_forest/load_prep_data_expiry.R')\n",
    "\n",
    "# expiry_train_prepped_2_1 (list, less df's w/ 0 obs)\n",
    "# expiry_test_prepped_2_1  (list, less df's w/ 0 obs)\n",
    "# expiry_train_df_1 (above, rbound)\n",
    "# expiry_test_df_1 (above, rbound)\n",
    "# expiry_train_df_sub (subset vars)                                        \n",
    "# expiry_test_df_sub (subset vars)"
   ]
  },
  {
   "cell_type": "markdown",
   "metadata": {},
   "source": [
    "## create country -> geo lookup table\n",
    "### incorrect location, abandoned"
   ]
  },
  {
   "cell_type": "code",
   "execution_count": 5,
   "metadata": {},
   "outputs": [],
   "source": [
    "system(\"gsutil cp gs://data_input/npv_fallback_tables /home/jupyter/local/Domains_202003/data/npv_fallback_tables\")\n",
    "npv_fallback_tables <- load(\"/home/jupyter/local/Domains_202003/data/npv_fallback_tables\")\n"
   ]
  },
  {
   "cell_type": "code",
   "execution_count": 6,
   "metadata": {},
   "outputs": [
    {
     "data": {
      "text/html": [
       "<style>\n",
       ".list-inline {list-style: none; margin:0; padding: 0}\n",
       ".list-inline>li {display: inline-block}\n",
       ".list-inline>li:not(:last-child)::after {content: \"\\00b7\"; padding: 0 .5ex}\n",
       "</style>\n",
       "<ol class=list-inline><li>'npv_fallback_first_final'</li><li>'npv_fallback_first_geo_arpt'</li><li>'npv_fallback_first_geo_arpt_tld'</li><li>'npv_fallback_first_tld_arpt'</li><li>'npv_fallback_second_final'</li><li>'npv_fallback_second_geo'</li><li>'npv_fallback_second_tld_geo'</li><li>'npv_fallback_third_final'</li><li>'npv_fallback_third_geo'</li><li>'npv_fallback_third_tld_geo'</li></ol>\n"
      ],
      "text/latex": [
       "\\begin{enumerate*}\n",
       "\\item 'npv\\_fallback\\_first\\_final'\n",
       "\\item 'npv\\_fallback\\_first\\_geo\\_arpt'\n",
       "\\item 'npv\\_fallback\\_first\\_geo\\_arpt\\_tld'\n",
       "\\item 'npv\\_fallback\\_first\\_tld\\_arpt'\n",
       "\\item 'npv\\_fallback\\_second\\_final'\n",
       "\\item 'npv\\_fallback\\_second\\_geo'\n",
       "\\item 'npv\\_fallback\\_second\\_tld\\_geo'\n",
       "\\item 'npv\\_fallback\\_third\\_final'\n",
       "\\item 'npv\\_fallback\\_third\\_geo'\n",
       "\\item 'npv\\_fallback\\_third\\_tld\\_geo'\n",
       "\\end{enumerate*}\n"
      ],
      "text/markdown": [
       "1. 'npv_fallback_first_final'\n",
       "2. 'npv_fallback_first_geo_arpt'\n",
       "3. 'npv_fallback_first_geo_arpt_tld'\n",
       "4. 'npv_fallback_first_tld_arpt'\n",
       "5. 'npv_fallback_second_final'\n",
       "6. 'npv_fallback_second_geo'\n",
       "7. 'npv_fallback_second_tld_geo'\n",
       "8. 'npv_fallback_third_final'\n",
       "9. 'npv_fallback_third_geo'\n",
       "10. 'npv_fallback_third_tld_geo'\n",
       "\n",
       "\n"
      ],
      "text/plain": [
       " [1] \"npv_fallback_first_final\"        \"npv_fallback_first_geo_arpt\"    \n",
       " [3] \"npv_fallback_first_geo_arpt_tld\" \"npv_fallback_first_tld_arpt\"    \n",
       " [5] \"npv_fallback_second_final\"       \"npv_fallback_second_geo\"        \n",
       " [7] \"npv_fallback_second_tld_geo\"     \"npv_fallback_third_final\"       \n",
       " [9] \"npv_fallback_third_geo\"          \"npv_fallback_third_tld_geo\"     "
      ]
     },
     "metadata": {},
     "output_type": "display_data"
    }
   ],
   "source": [
    "npv_fallback_tables"
   ]
  },
  {
   "cell_type": "code",
   "execution_count": 13,
   "metadata": {},
   "outputs": [
    {
     "data": {
      "text/html": [
       "<table>\n",
       "<caption>A grouped_df: 6 × 6</caption>\n",
       "<thead>\n",
       "\t<tr><th scope=col>tld</th><th scope=col>reseller_geo</th><th scope=col>expiring_domains</th><th scope=col>renewed_domains</th><th scope=col>renewal_rate</th><th scope=col>index</th></tr>\n",
       "\t<tr><th scope=col>&lt;chr&gt;</th><th scope=col>&lt;chr&gt;</th><th scope=col>&lt;int&gt;</th><th scope=col>&lt;int&gt;</th><th scope=col>&lt;dbl&gt;</th><th scope=col>&lt;chr&gt;</th></tr>\n",
       "</thead>\n",
       "<tbody>\n",
       "\t<tr><td>host  </td><td>Canada       </td><td> 215</td><td> 178</td><td>0.828</td><td>hostCanada       </td></tr>\n",
       "\t<tr><td>host  </td><td>China        </td><td> 243</td><td> 152</td><td>0.626</td><td>hostChina        </td></tr>\n",
       "\t<tr><td>host  </td><td>EU           </td><td> 652</td><td> 595</td><td>0.913</td><td>hostEU           </td></tr>\n",
       "\t<tr><td>host  </td><td>India        </td><td> 237</td><td> 189</td><td>0.797</td><td>hostIndia        </td></tr>\n",
       "\t<tr><td>host  </td><td>United States</td><td>2155</td><td>1663</td><td>0.772</td><td>hostUnited States</td></tr>\n",
       "\t<tr><td>in.net</td><td>EU           </td><td> 183</td><td> 140</td><td>0.765</td><td>in.netEU         </td></tr>\n",
       "</tbody>\n",
       "</table>\n"
      ],
      "text/latex": [
       "A grouped\\_df: 6 × 6\n",
       "\\begin{tabular}{llllll}\n",
       " tld & reseller\\_geo & expiring\\_domains & renewed\\_domains & renewal\\_rate & index\\\\\n",
       " <chr> & <chr> & <int> & <int> & <dbl> & <chr>\\\\\n",
       "\\hline\n",
       "\t host   & Canada        &  215 &  178 & 0.828 & hostCanada       \\\\\n",
       "\t host   & China         &  243 &  152 & 0.626 & hostChina        \\\\\n",
       "\t host   & EU            &  652 &  595 & 0.913 & hostEU           \\\\\n",
       "\t host   & India         &  237 &  189 & 0.797 & hostIndia        \\\\\n",
       "\t host   & United States & 2155 & 1663 & 0.772 & hostUnited States\\\\\n",
       "\t in.net & EU            &  183 &  140 & 0.765 & in.netEU         \\\\\n",
       "\\end{tabular}\n"
      ],
      "text/markdown": [
       "\n",
       "A grouped_df: 6 × 6\n",
       "\n",
       "| tld &lt;chr&gt; | reseller_geo &lt;chr&gt; | expiring_domains &lt;int&gt; | renewed_domains &lt;int&gt; | renewal_rate &lt;dbl&gt; | index &lt;chr&gt; |\n",
       "|---|---|---|---|---|---|\n",
       "| host   | Canada        |  215 |  178 | 0.828 | hostCanada        |\n",
       "| host   | China         |  243 |  152 | 0.626 | hostChina         |\n",
       "| host   | EU            |  652 |  595 | 0.913 | hostEU            |\n",
       "| host   | India         |  237 |  189 | 0.797 | hostIndia         |\n",
       "| host   | United States | 2155 | 1663 | 0.772 | hostUnited States |\n",
       "| in.net | EU            |  183 |  140 | 0.765 | in.netEU          |\n",
       "\n"
      ],
      "text/plain": [
       "  tld    reseller_geo  expiring_domains renewed_domains renewal_rate\n",
       "1 host   Canada         215              178            0.828       \n",
       "2 host   China          243              152            0.626       \n",
       "3 host   EU             652              595            0.913       \n",
       "4 host   India          237              189            0.797       \n",
       "5 host   United States 2155             1663            0.772       \n",
       "6 in.net EU             183              140            0.765       \n",
       "  index            \n",
       "1 hostCanada       \n",
       "2 hostChina        \n",
       "3 hostEU           \n",
       "4 hostIndia        \n",
       "5 hostUnited States\n",
       "6 in.netEU         "
      ]
     },
     "metadata": {},
     "output_type": "display_data"
    }
   ],
   "source": [
    "head(npv_fallback_third_tld_geo)"
   ]
  },
  {
   "cell_type": "markdown",
   "metadata": {},
   "source": [
    "### uploading tab from https://docs.google.com/spreadsheets/d/1ybBC_KLGKYG3D54px3e2k0LP0LF5FjJ2uMAXTAUnzuU/edit#gid=427645846"
   ]
  },
  {
   "cell_type": "code",
   "execution_count": 20,
   "metadata": {},
   "outputs": [],
   "source": [
    "# system(\"gsutil cp gs://data_input/PredictiveModelAnalysis_AnomalyRegistrars.csv /home/jupyter/local/Domains_202003/data/PredictiveModelAnalysis_AnomalyRegistrars.csv\")\n",
    "# anomalyDF <- read.csv(\"/home/jupyter/local/Domains_202003/data/PredictiveModelAnalysis_AnomalyRegistrars.csv\")\n",
    "\n",
    "anomalyDF$registrar <- trimws(anomalyDF$registrar, which = c(\"both\"))\n",
    "anomalyDF$reseller <- trimws(anomalyDF$reseller, which = c(\"both\"))\n",
    "anomalyDF$reseller_country <- trimws(anomalyDF$reseller_country, which = c(\"both\"))\n",
    "anomalyDF$reseller_geo <- trimws(anomalyDF$reseller_geo, which = c(\"both\"))\n",
    "\n",
    "anomalyDF <- apply(anomalyDF, 2, function(x) trimws(x,which = c(\"both\")) )"
   ]
  },
  {
   "cell_type": "code",
   "execution_count": 21,
   "metadata": {},
   "outputs": [
    {
     "data": {
      "text/html": [
       "<table>\n",
       "<caption>A matrix: 6 × 5 of type chr</caption>\n",
       "<thead>\n",
       "\t<tr><th scope=col>registrar</th><th scope=col>reseller</th><th scope=col>reseller_country</th><th scope=col>reseller_geo</th><th scope=col>notes</th></tr>\n",
       "</thead>\n",
       "<tbody>\n",
       "\t<tr><td>007names           </td><td>007names           </td><td>United States</td><td>United States</td><td></td></tr>\n",
       "\t<tr><td>0101 internet      </td><td>0101 internet      </td><td>Hong Kong    </td><td>China        </td><td></td></tr>\n",
       "\t<tr><td><span style=white-space:pre-wrap>1&amp;1 internet       </span></td><td><span style=white-space:pre-wrap>1&amp;1 internet       </span></td><td><span style=white-space:pre-wrap>Germany      </span></td><td><span style=white-space:pre-wrap>EU           </span></td><td></td></tr>\n",
       "\t<tr><td>101 domain         </td><td>101 domain         </td><td>United States</td><td>United States</td><td></td></tr>\n",
       "\t<tr><td>101 domain         </td><td>101 domain         </td><td>United States</td><td>United States</td><td></td></tr>\n",
       "\t<tr><td>101domain discovery</td><td>101domain discovery</td><td>Germany      </td><td>EU           </td><td></td></tr>\n",
       "</tbody>\n",
       "</table>\n"
      ],
      "text/latex": [
       "A matrix: 6 × 5 of type chr\n",
       "\\begin{tabular}{lllll}\n",
       " registrar & reseller & reseller\\_country & reseller\\_geo & notes\\\\\n",
       "\\hline\n",
       "\t 007names            & 007names            & United States & United States & \\\\\n",
       "\t 0101 internet       & 0101 internet       & Hong Kong     & China         & \\\\\n",
       "\t 1\\&1 internet        & 1\\&1 internet        & Germany       & EU            & \\\\\n",
       "\t 101 domain          & 101 domain          & United States & United States & \\\\\n",
       "\t 101 domain          & 101 domain          & United States & United States & \\\\\n",
       "\t 101domain discovery & 101domain discovery & Germany       & EU            & \\\\\n",
       "\\end{tabular}\n"
      ],
      "text/markdown": [
       "\n",
       "A matrix: 6 × 5 of type chr\n",
       "\n",
       "| registrar | reseller | reseller_country | reseller_geo | notes |\n",
       "|---|---|---|---|---|\n",
       "| 007names            | 007names            | United States | United States | <!----> |\n",
       "| 0101 internet       | 0101 internet       | Hong Kong     | China         | <!----> |\n",
       "| 1&amp;1 internet        | 1&amp;1 internet        | Germany       | EU            | <!----> |\n",
       "| 101 domain          | 101 domain          | United States | United States | <!----> |\n",
       "| 101 domain          | 101 domain          | United States | United States | <!----> |\n",
       "| 101domain discovery | 101domain discovery | Germany       | EU            | <!----> |\n",
       "\n"
      ],
      "text/plain": [
       "     registrar           reseller            reseller_country reseller_geo \n",
       "[1,] 007names            007names            United States    United States\n",
       "[2,] 0101 internet       0101 internet       Hong Kong        China        \n",
       "[3,] 1&1 internet        1&1 internet        Germany          EU           \n",
       "[4,] 101 domain          101 domain          United States    United States\n",
       "[5,] 101 domain          101 domain          United States    United States\n",
       "[6,] 101domain discovery 101domain discovery Germany          EU           \n",
       "     notes\n",
       "[1,]      \n",
       "[2,]      \n",
       "[3,]      \n",
       "[4,]      \n",
       "[5,]      \n",
       "[6,]      "
      ]
     },
     "metadata": {},
     "output_type": "display_data"
    }
   ],
   "source": [
    "head(anomalyDF)"
   ]
  },
  {
   "cell_type": "code",
   "execution_count": 27,
   "metadata": {},
   "outputs": [],
   "source": [
    "geoLookupDF <- unique(anomalyDF[,c('reseller','reseller_country','reseller_geo')])"
   ]
  },
  {
   "cell_type": "code",
   "execution_count": 28,
   "metadata": {},
   "outputs": [
    {
     "data": {
      "text/html": [
       "<table>\n",
       "<caption>A matrix: 1481 × 3 of type chr</caption>\n",
       "<thead>\n",
       "\t<tr><th scope=col>reseller</th><th scope=col>reseller_country</th><th scope=col>reseller_geo</th></tr>\n",
       "</thead>\n",
       "<tbody>\n",
       "\t<tr><td>007names              </td><td>United States </td><td>United States          </td></tr>\n",
       "\t<tr><td>0101 internet         </td><td>Hong Kong     </td><td>China                  </td></tr>\n",
       "\t<tr><td><span style=white-space:pre-wrap>1&amp;1 internet          </span></td><td><span style=white-space:pre-wrap>Germany       </span></td><td><span style=white-space:pre-wrap>EU                     </span></td></tr>\n",
       "\t<tr><td>101 domain            </td><td>United States </td><td>United States          </td></tr>\n",
       "\t<tr><td>101domain discovery   </td><td>Germany       </td><td>EU                     </td></tr>\n",
       "\t<tr><td>10dencehispahard      </td><td>Spain         </td><td>EU                     </td></tr>\n",
       "\t<tr><td>10dollar              </td><td>Canada        </td><td>Canada                 </td></tr>\n",
       "\t<tr><td>123-reg               </td><td>United Kingdom</td><td>EU                     </td></tr>\n",
       "\t<tr><td>123cheapdomains.com   </td><td>Others        </td><td>Others                 </td></tr>\n",
       "\t<tr><td>123connect            </td><td>United Kingdom</td><td>EU                     </td></tr>\n",
       "\t<tr><td>123domainrenewals     </td><td>United States </td><td>United States          </td></tr>\n",
       "\t<tr><td>123hjemmeside         </td><td>Denmark       </td><td>EU                     </td></tr>\n",
       "\t<tr><td>1800-website          </td><td>United States </td><td>United States          </td></tr>\n",
       "\t<tr><td>1984.is               </td><td>Iceland       </td><td>EU                     </td></tr>\n",
       "\t<tr><td>1api                  </td><td>Germany       </td><td>EU                     </td></tr>\n",
       "\t<tr><td>1blu                  </td><td>Germany       </td><td>EU                     </td></tr>\n",
       "\t<tr><td>1st dns               </td><td>United Kingdom</td><td>EU                     </td></tr>\n",
       "\t<tr><td>1st-for-domain-names  </td><td>United States </td><td>United States          </td></tr>\n",
       "\t<tr><td><span style=white-space:pre-wrap>1stdomains            </span></td><td><span style=white-space:pre-wrap>New Zealand   </span></td><td>Australia &amp; New Zealand</td></tr>\n",
       "\t<tr><td>22net inc             </td><td>China         </td><td>China                  </td></tr>\n",
       "\t<tr><td>24x7domains           </td><td>United States </td><td>United States          </td></tr>\n",
       "\t<tr><td>3 in 1 hosting        </td><td>Hungary       </td><td>EU                     </td></tr>\n",
       "\t<tr><td>3w media              </td><td>Germany       </td><td>EU                     </td></tr>\n",
       "\t<tr><td>4x                    </td><td>France        </td><td>EU                     </td></tr>\n",
       "\t<tr><td>606 ventures          </td><td>United States </td><td>United States          </td></tr>\n",
       "\t<tr><td>995discountdomains    </td><td>United States </td><td>United States          </td></tr>\n",
       "\t<tr><td>a small orange        </td><td>United States </td><td>United States          </td></tr>\n",
       "\t<tr><td>a2hosting             </td><td>United States </td><td>United States          </td></tr>\n",
       "\t<tr><td>aahwed                </td><td>United States </td><td>United States          </td></tr>\n",
       "\t<tr><td>ab name isp           </td><td>Sweden        </td><td>EU                     </td></tr>\n",
       "\t<tr><td>ab riktad             </td><td>Sweden        </td><td>EU                     </td></tr>\n",
       "\t<tr><td>abansys &amp; hostytecs.l.</td><td><span style=white-space:pre-wrap>Spain         </span></td><td><span style=white-space:pre-wrap>EU                     </span></td></tr>\n",
       "\t<tr><td>aboss technology      </td><td>Hong Kong     </td><td>China                  </td></tr>\n",
       "\t<tr><td><span style=white-space:pre-wrap>above.com             </span></td><td><span style=white-space:pre-wrap>Australia     </span></td><td>Australia &amp; New Zealand</td></tr>\n",
       "\t<tr><td><span style=white-space:pre-wrap>abraham loln          </span></td><td><span style=white-space:pre-wrap>Australia     </span></td><td>Australia &amp; New Zealand</td></tr>\n",
       "\t<tr><td>abu ghazeleh          </td><td>Jordan        </td><td>Middle East            </td></tr>\n",
       "\t<tr><td>accentdomains         </td><td>United States </td><td>United States          </td></tr>\n",
       "\t<tr><td>acens tech            </td><td>Spain         </td><td>EU                     </td></tr>\n",
       "\t<tr><td>achilles 888          </td><td>Spain         </td><td>EU                     </td></tr>\n",
       "\t<tr><td>acquirednames         </td><td>United States </td><td>United States          </td></tr>\n",
       "\t<tr><td>active 24             </td><td>Czech Republic</td><td>EU                     </td></tr>\n",
       "\t<tr><td>ad valorem domains    </td><td>United States </td><td>United States          </td></tr>\n",
       "\t<tr><td>address creation      </td><td>United States </td><td>United States          </td></tr>\n",
       "\t<tr><td>addressontheweb       </td><td>United States </td><td>United States          </td></tr>\n",
       "\t<tr><td>adomainofyourown.com  </td><td>United States </td><td>United States          </td></tr>\n",
       "\t<tr><td>advanced internet tech</td><td>United States </td><td>United States          </td></tr>\n",
       "\t<tr><td>aerotek               </td><td>Turkey        </td><td>Turkey                 </td></tr>\n",
       "\t<tr><td>afrihost              </td><td>South Africa  </td><td>South Africa           </td></tr>\n",
       "\t<tr><td>afriregister          </td><td>NA            </td><td>Africa                 </td></tr>\n",
       "\t<tr><td>afriregister s.a.     </td><td>Burundi       </td><td>Africa                 </td></tr>\n",
       "\t<tr><td>⋮</td><td>⋮</td><td>⋮</td></tr>\n",
       "\t<tr><td>wix                      </td><td>United States </td><td>United States</td></tr>\n",
       "\t<tr><td>wixi orporated           </td><td>Japan         </td><td>Japan        </td></tr>\n",
       "\t<tr><td>wordpress                </td><td>United States </td><td>United States</td></tr>\n",
       "\t<tr><td>world biz domains        </td><td>United States </td><td>United States</td></tr>\n",
       "\t<tr><td>world4you                </td><td>Austria       </td><td>EU           </td></tr>\n",
       "\t<tr><td>worthydomains            </td><td>United States </td><td>United States</td></tr>\n",
       "\t<tr><td>wyith                    </td><td>Hong Kong     </td><td>China        </td></tr>\n",
       "\t<tr><td>xdomain                  </td><td>Japan         </td><td>Japan        </td></tr>\n",
       "\t<tr><td>xiamen 35.com            </td><td>China         </td><td>China        </td></tr>\n",
       "\t<tr><td>xiamen chinasource       </td><td>China         </td><td>China        </td></tr>\n",
       "\t<tr><td>xiamen dianmei           </td><td>China         </td><td>China        </td></tr>\n",
       "\t<tr><td>xiamen domains           </td><td>China         </td><td>China        </td></tr>\n",
       "\t<tr><td>xiamen mimei             </td><td>China         </td><td>China        </td></tr>\n",
       "\t<tr><td>xiamen nawang            </td><td>China         </td><td>China        </td></tr>\n",
       "\t<tr><td>xiamen niucha            </td><td>China         </td><td>China        </td></tr>\n",
       "\t<tr><td>xiamen xin click network </td><td>China         </td><td>China        </td></tr>\n",
       "\t<tr><td>xiamen yuwang            </td><td>China         </td><td>China        </td></tr>\n",
       "\t<tr><td>xilo communications      </td><td>United Kingdom</td><td>EU           </td></tr>\n",
       "\t<tr><td>xin net                  </td><td>China         </td><td>China        </td></tr>\n",
       "\t<tr><td>xpress                   </td><td>Mexico        </td><td>Latam        </td></tr>\n",
       "\t<tr><td>yahoo                    </td><td>United States </td><td>United States</td></tr>\n",
       "\t<tr><td>yahoo japan              </td><td>Japan         </td><td>Japan        </td></tr>\n",
       "\t<tr><td>yellow start             </td><td>India         </td><td>India        </td></tr>\n",
       "\t<tr><td>yenkos                   </td><td>India         </td><td>India        </td></tr>\n",
       "\t<tr><td>ynot                     </td><td>India         </td><td>India        </td></tr>\n",
       "\t<tr><td>youdamain.com            </td><td>United States </td><td>United States</td></tr>\n",
       "\t<tr><td>your domain              </td><td>United States </td><td>United States</td></tr>\n",
       "\t<tr><td>your domain casa         </td><td>United States </td><td>United States</td></tr>\n",
       "\t<tr><td>your domain king         </td><td>India         </td><td>India        </td></tr>\n",
       "\t<tr><td>your hosting             </td><td>Netherlands   </td><td>EU           </td></tr>\n",
       "\t<tr><td>z domain names           </td><td>United States </td><td>United States</td></tr>\n",
       "\t<tr><td>zdns                     </td><td>China         </td><td>China        </td></tr>\n",
       "\t<tr><td>zeit                     </td><td>United States </td><td>United States</td></tr>\n",
       "\t<tr><td>zeus 888                 </td><td>United States </td><td>United States</td></tr>\n",
       "\t<tr><td>zhengzhou business       </td><td>China         </td><td>China        </td></tr>\n",
       "\t<tr><td>zhengzhou century connect</td><td>China         </td><td>China        </td></tr>\n",
       "\t<tr><td>zhengzhou yu bin         </td><td>China         </td><td>China        </td></tr>\n",
       "\t<tr><td>zhengzhou zitian         </td><td>China         </td><td>China        </td></tr>\n",
       "\t<tr><td>zhenjiang aimingwang     </td><td>China         </td><td>China        </td></tr>\n",
       "\t<tr><td>zhong yu network         </td><td>China         </td><td>China        </td></tr>\n",
       "\t<tr><td>zhuhai naisinike         </td><td>China         </td><td>China        </td></tr>\n",
       "\t<tr><td>zhuimi                   </td><td>United States </td><td>United States</td></tr>\n",
       "\t<tr><td>zigzagnames.com          </td><td>United States </td><td>United States</td></tr>\n",
       "\t<tr><td>znet                     </td><td>India         </td><td>India        </td></tr>\n",
       "\t<tr><td>zone casting             </td><td>India         </td><td>India        </td></tr>\n",
       "\t<tr><td>zone of domains          </td><td>United States </td><td>United States</td></tr>\n",
       "\t<tr><td>zoomregistrar            </td><td>United States </td><td>United States</td></tr>\n",
       "\t<tr><td>zulfigar                 </td><td>United States </td><td>United States</td></tr>\n",
       "\t<tr><td>NA                       </td><td>NA            </td><td>Others       </td></tr>\n",
       "\t<tr><td>NA                       </td><td>NA            </td><td>NA           </td></tr>\n",
       "</tbody>\n",
       "</table>\n"
      ],
      "text/latex": [
       "A matrix: 1481 × 3 of type chr\n",
       "\\begin{tabular}{lll}\n",
       " reseller & reseller\\_country & reseller\\_geo\\\\\n",
       "\\hline\n",
       "\t 007names               & United States  & United States          \\\\\n",
       "\t 0101 internet          & Hong Kong      & China                  \\\\\n",
       "\t 1\\&1 internet           & Germany        & EU                     \\\\\n",
       "\t 101 domain             & United States  & United States          \\\\\n",
       "\t 101domain discovery    & Germany        & EU                     \\\\\n",
       "\t 10dencehispahard       & Spain          & EU                     \\\\\n",
       "\t 10dollar               & Canada         & Canada                 \\\\\n",
       "\t 123-reg                & United Kingdom & EU                     \\\\\n",
       "\t 123cheapdomains.com    & Others         & Others                 \\\\\n",
       "\t 123connect             & United Kingdom & EU                     \\\\\n",
       "\t 123domainrenewals      & United States  & United States          \\\\\n",
       "\t 123hjemmeside          & Denmark        & EU                     \\\\\n",
       "\t 1800-website           & United States  & United States          \\\\\n",
       "\t 1984.is                & Iceland        & EU                     \\\\\n",
       "\t 1api                   & Germany        & EU                     \\\\\n",
       "\t 1blu                   & Germany        & EU                     \\\\\n",
       "\t 1st dns                & United Kingdom & EU                     \\\\\n",
       "\t 1st-for-domain-names   & United States  & United States          \\\\\n",
       "\t 1stdomains             & New Zealand    & Australia \\& New Zealand\\\\\n",
       "\t 22net inc              & China          & China                  \\\\\n",
       "\t 24x7domains            & United States  & United States          \\\\\n",
       "\t 3 in 1 hosting         & Hungary        & EU                     \\\\\n",
       "\t 3w media               & Germany        & EU                     \\\\\n",
       "\t 4x                     & France         & EU                     \\\\\n",
       "\t 606 ventures           & United States  & United States          \\\\\n",
       "\t 995discountdomains     & United States  & United States          \\\\\n",
       "\t a small orange         & United States  & United States          \\\\\n",
       "\t a2hosting              & United States  & United States          \\\\\n",
       "\t aahwed                 & United States  & United States          \\\\\n",
       "\t ab name isp            & Sweden         & EU                     \\\\\n",
       "\t ab riktad              & Sweden         & EU                     \\\\\n",
       "\t abansys \\& hostytecs.l. & Spain          & EU                     \\\\\n",
       "\t aboss technology       & Hong Kong      & China                  \\\\\n",
       "\t above.com              & Australia      & Australia \\& New Zealand\\\\\n",
       "\t abraham loln           & Australia      & Australia \\& New Zealand\\\\\n",
       "\t abu ghazeleh           & Jordan         & Middle East            \\\\\n",
       "\t accentdomains          & United States  & United States          \\\\\n",
       "\t acens tech             & Spain          & EU                     \\\\\n",
       "\t achilles 888           & Spain          & EU                     \\\\\n",
       "\t acquirednames          & United States  & United States          \\\\\n",
       "\t active 24              & Czech Republic & EU                     \\\\\n",
       "\t ad valorem domains     & United States  & United States          \\\\\n",
       "\t address creation       & United States  & United States          \\\\\n",
       "\t addressontheweb        & United States  & United States          \\\\\n",
       "\t adomainofyourown.com   & United States  & United States          \\\\\n",
       "\t advanced internet tech & United States  & United States          \\\\\n",
       "\t aerotek                & Turkey         & Turkey                 \\\\\n",
       "\t afrihost               & South Africa   & South Africa           \\\\\n",
       "\t afriregister           & NA             & Africa                 \\\\\n",
       "\t afriregister s.a.      & Burundi        & Africa                 \\\\\n",
       "\t ⋮ & ⋮ & ⋮\\\\\n",
       "\t wix                       & United States  & United States\\\\\n",
       "\t wixi orporated            & Japan          & Japan        \\\\\n",
       "\t wordpress                 & United States  & United States\\\\\n",
       "\t world biz domains         & United States  & United States\\\\\n",
       "\t world4you                 & Austria        & EU           \\\\\n",
       "\t worthydomains             & United States  & United States\\\\\n",
       "\t wyith                     & Hong Kong      & China        \\\\\n",
       "\t xdomain                   & Japan          & Japan        \\\\\n",
       "\t xiamen 35.com             & China          & China        \\\\\n",
       "\t xiamen chinasource        & China          & China        \\\\\n",
       "\t xiamen dianmei            & China          & China        \\\\\n",
       "\t xiamen domains            & China          & China        \\\\\n",
       "\t xiamen mimei              & China          & China        \\\\\n",
       "\t xiamen nawang             & China          & China        \\\\\n",
       "\t xiamen niucha             & China          & China        \\\\\n",
       "\t xiamen xin click network  & China          & China        \\\\\n",
       "\t xiamen yuwang             & China          & China        \\\\\n",
       "\t xilo communications       & United Kingdom & EU           \\\\\n",
       "\t xin net                   & China          & China        \\\\\n",
       "\t xpress                    & Mexico         & Latam        \\\\\n",
       "\t yahoo                     & United States  & United States\\\\\n",
       "\t yahoo japan               & Japan          & Japan        \\\\\n",
       "\t yellow start              & India          & India        \\\\\n",
       "\t yenkos                    & India          & India        \\\\\n",
       "\t ynot                      & India          & India        \\\\\n",
       "\t youdamain.com             & United States  & United States\\\\\n",
       "\t your domain               & United States  & United States\\\\\n",
       "\t your domain casa          & United States  & United States\\\\\n",
       "\t your domain king          & India          & India        \\\\\n",
       "\t your hosting              & Netherlands    & EU           \\\\\n",
       "\t z domain names            & United States  & United States\\\\\n",
       "\t zdns                      & China          & China        \\\\\n",
       "\t zeit                      & United States  & United States\\\\\n",
       "\t zeus 888                  & United States  & United States\\\\\n",
       "\t zhengzhou business        & China          & China        \\\\\n",
       "\t zhengzhou century connect & China          & China        \\\\\n",
       "\t zhengzhou yu bin          & China          & China        \\\\\n",
       "\t zhengzhou zitian          & China          & China        \\\\\n",
       "\t zhenjiang aimingwang      & China          & China        \\\\\n",
       "\t zhong yu network          & China          & China        \\\\\n",
       "\t zhuhai naisinike          & China          & China        \\\\\n",
       "\t zhuimi                    & United States  & United States\\\\\n",
       "\t zigzagnames.com           & United States  & United States\\\\\n",
       "\t znet                      & India          & India        \\\\\n",
       "\t zone casting              & India          & India        \\\\\n",
       "\t zone of domains           & United States  & United States\\\\\n",
       "\t zoomregistrar             & United States  & United States\\\\\n",
       "\t zulfigar                  & United States  & United States\\\\\n",
       "\t NA                        & NA             & Others       \\\\\n",
       "\t NA                        & NA             & NA           \\\\\n",
       "\\end{tabular}\n"
      ],
      "text/markdown": [
       "\n",
       "A matrix: 1481 × 3 of type chr\n",
       "\n",
       "| reseller | reseller_country | reseller_geo |\n",
       "|---|---|---|\n",
       "| 007names               | United States  | United States           |\n",
       "| 0101 internet          | Hong Kong      | China                   |\n",
       "| 1&amp;1 internet           | Germany        | EU                      |\n",
       "| 101 domain             | United States  | United States           |\n",
       "| 101domain discovery    | Germany        | EU                      |\n",
       "| 10dencehispahard       | Spain          | EU                      |\n",
       "| 10dollar               | Canada         | Canada                  |\n",
       "| 123-reg                | United Kingdom | EU                      |\n",
       "| 123cheapdomains.com    | Others         | Others                  |\n",
       "| 123connect             | United Kingdom | EU                      |\n",
       "| 123domainrenewals      | United States  | United States           |\n",
       "| 123hjemmeside          | Denmark        | EU                      |\n",
       "| 1800-website           | United States  | United States           |\n",
       "| 1984.is                | Iceland        | EU                      |\n",
       "| 1api                   | Germany        | EU                      |\n",
       "| 1blu                   | Germany        | EU                      |\n",
       "| 1st dns                | United Kingdom | EU                      |\n",
       "| 1st-for-domain-names   | United States  | United States           |\n",
       "| 1stdomains             | New Zealand    | Australia &amp; New Zealand |\n",
       "| 22net inc              | China          | China                   |\n",
       "| 24x7domains            | United States  | United States           |\n",
       "| 3 in 1 hosting         | Hungary        | EU                      |\n",
       "| 3w media               | Germany        | EU                      |\n",
       "| 4x                     | France         | EU                      |\n",
       "| 606 ventures           | United States  | United States           |\n",
       "| 995discountdomains     | United States  | United States           |\n",
       "| a small orange         | United States  | United States           |\n",
       "| a2hosting              | United States  | United States           |\n",
       "| aahwed                 | United States  | United States           |\n",
       "| ab name isp            | Sweden         | EU                      |\n",
       "| ab riktad              | Sweden         | EU                      |\n",
       "| abansys &amp; hostytecs.l. | Spain          | EU                      |\n",
       "| aboss technology       | Hong Kong      | China                   |\n",
       "| above.com              | Australia      | Australia &amp; New Zealand |\n",
       "| abraham loln           | Australia      | Australia &amp; New Zealand |\n",
       "| abu ghazeleh           | Jordan         | Middle East             |\n",
       "| accentdomains          | United States  | United States           |\n",
       "| acens tech             | Spain          | EU                      |\n",
       "| achilles 888           | Spain          | EU                      |\n",
       "| acquirednames          | United States  | United States           |\n",
       "| active 24              | Czech Republic | EU                      |\n",
       "| ad valorem domains     | United States  | United States           |\n",
       "| address creation       | United States  | United States           |\n",
       "| addressontheweb        | United States  | United States           |\n",
       "| adomainofyourown.com   | United States  | United States           |\n",
       "| advanced internet tech | United States  | United States           |\n",
       "| aerotek                | Turkey         | Turkey                  |\n",
       "| afrihost               | South Africa   | South Africa            |\n",
       "| afriregister           | NA             | Africa                  |\n",
       "| afriregister s.a.      | Burundi        | Africa                  |\n",
       "| ⋮ | ⋮ | ⋮ |\n",
       "| wix                       | United States  | United States |\n",
       "| wixi orporated            | Japan          | Japan         |\n",
       "| wordpress                 | United States  | United States |\n",
       "| world biz domains         | United States  | United States |\n",
       "| world4you                 | Austria        | EU            |\n",
       "| worthydomains             | United States  | United States |\n",
       "| wyith                     | Hong Kong      | China         |\n",
       "| xdomain                   | Japan          | Japan         |\n",
       "| xiamen 35.com             | China          | China         |\n",
       "| xiamen chinasource        | China          | China         |\n",
       "| xiamen dianmei            | China          | China         |\n",
       "| xiamen domains            | China          | China         |\n",
       "| xiamen mimei              | China          | China         |\n",
       "| xiamen nawang             | China          | China         |\n",
       "| xiamen niucha             | China          | China         |\n",
       "| xiamen xin click network  | China          | China         |\n",
       "| xiamen yuwang             | China          | China         |\n",
       "| xilo communications       | United Kingdom | EU            |\n",
       "| xin net                   | China          | China         |\n",
       "| xpress                    | Mexico         | Latam         |\n",
       "| yahoo                     | United States  | United States |\n",
       "| yahoo japan               | Japan          | Japan         |\n",
       "| yellow start              | India          | India         |\n",
       "| yenkos                    | India          | India         |\n",
       "| ynot                      | India          | India         |\n",
       "| youdamain.com             | United States  | United States |\n",
       "| your domain               | United States  | United States |\n",
       "| your domain casa          | United States  | United States |\n",
       "| your domain king          | India          | India         |\n",
       "| your hosting              | Netherlands    | EU            |\n",
       "| z domain names            | United States  | United States |\n",
       "| zdns                      | China          | China         |\n",
       "| zeit                      | United States  | United States |\n",
       "| zeus 888                  | United States  | United States |\n",
       "| zhengzhou business        | China          | China         |\n",
       "| zhengzhou century connect | China          | China         |\n",
       "| zhengzhou yu bin          | China          | China         |\n",
       "| zhengzhou zitian          | China          | China         |\n",
       "| zhenjiang aimingwang      | China          | China         |\n",
       "| zhong yu network          | China          | China         |\n",
       "| zhuhai naisinike          | China          | China         |\n",
       "| zhuimi                    | United States  | United States |\n",
       "| zigzagnames.com           | United States  | United States |\n",
       "| znet                      | India          | India         |\n",
       "| zone casting              | India          | India         |\n",
       "| zone of domains           | United States  | United States |\n",
       "| zoomregistrar             | United States  | United States |\n",
       "| zulfigar                  | United States  | United States |\n",
       "| NA                        | NA             | Others        |\n",
       "| NA                        | NA             | NA            |\n",
       "\n"
      ],
      "text/plain": [
       "       reseller                  reseller_country reseller_geo           \n",
       "  [1,] 007names                  United States    United States          \n",
       "  [2,] 0101 internet             Hong Kong        China                  \n",
       "  [3,] 1&1 internet              Germany          EU                     \n",
       "  [4,] 101 domain                United States    United States          \n",
       "  [5,] 101domain discovery       Germany          EU                     \n",
       "  [6,] 10dencehispahard          Spain            EU                     \n",
       "  [7,] 10dollar                  Canada           Canada                 \n",
       "  [8,] 123-reg                   United Kingdom   EU                     \n",
       "  [9,] 123cheapdomains.com       Others           Others                 \n",
       " [10,] 123connect                United Kingdom   EU                     \n",
       " [11,] 123domainrenewals         United States    United States          \n",
       " [12,] 123hjemmeside             Denmark          EU                     \n",
       " [13,] 1800-website              United States    United States          \n",
       " [14,] 1984.is                   Iceland          EU                     \n",
       " [15,] 1api                      Germany          EU                     \n",
       " [16,] 1blu                      Germany          EU                     \n",
       " [17,] 1st dns                   United Kingdom   EU                     \n",
       " [18,] 1st-for-domain-names      United States    United States          \n",
       " [19,] 1stdomains                New Zealand      Australia & New Zealand\n",
       " [20,] 22net inc                 China            China                  \n",
       " [21,] 24x7domains               United States    United States          \n",
       " [22,] 3 in 1 hosting            Hungary          EU                     \n",
       " [23,] 3w media                  Germany          EU                     \n",
       " [24,] 4x                        France           EU                     \n",
       " [25,] 606 ventures              United States    United States          \n",
       " [26,] 995discountdomains        United States    United States          \n",
       " [27,] a small orange            United States    United States          \n",
       " [28,] a2hosting                 United States    United States          \n",
       " [29,] aahwed                    United States    United States          \n",
       " [30,] ab name isp               Sweden           EU                     \n",
       " [31,] ab riktad                 Sweden           EU                     \n",
       " [32,] abansys & hostytecs.l.    Spain            EU                     \n",
       " [33,] aboss technology          Hong Kong        China                  \n",
       " [34,] above.com                 Australia        Australia & New Zealand\n",
       " [35,] abraham loln              Australia        Australia & New Zealand\n",
       " [36,] abu ghazeleh              Jordan           Middle East            \n",
       " [37,] accentdomains             United States    United States          \n",
       " [38,] acens tech                Spain            EU                     \n",
       " [39,] achilles 888              Spain            EU                     \n",
       " [40,] acquirednames             United States    United States          \n",
       " [41,] active 24                 Czech Republic   EU                     \n",
       " [42,] ad valorem domains        United States    United States          \n",
       " [43,] address creation          United States    United States          \n",
       " [44,] addressontheweb           United States    United States          \n",
       " [45,] adomainofyourown.com      United States    United States          \n",
       " [46,] advanced internet tech    United States    United States          \n",
       " [47,] aerotek                   Turkey           Turkey                 \n",
       " [48,] afrihost                  South Africa     South Africa           \n",
       " [49,] afriregister              NA               Africa                 \n",
       " [50,] afriregister s.a.         Burundi          Africa                 \n",
       " [51,] ⋮                         ⋮                ⋮                      \n",
       " [52,] wix                       United States    United States          \n",
       " [53,] wixi orporated            Japan            Japan                  \n",
       " [54,] wordpress                 United States    United States          \n",
       " [55,] world biz domains         United States    United States          \n",
       " [56,] world4you                 Austria          EU                     \n",
       " [57,] worthydomains             United States    United States          \n",
       " [58,] wyith                     Hong Kong        China                  \n",
       " [59,] xdomain                   Japan            Japan                  \n",
       " [60,] xiamen 35.com             China            China                  \n",
       " [61,] xiamen chinasource        China            China                  \n",
       " [62,] xiamen dianmei            China            China                  \n",
       " [63,] xiamen domains            China            China                  \n",
       " [64,] xiamen mimei              China            China                  \n",
       " [65,] xiamen nawang             China            China                  \n",
       " [66,] xiamen niucha             China            China                  \n",
       " [67,] xiamen xin click network  China            China                  \n",
       " [68,] xiamen yuwang             China            China                  \n",
       " [69,] xilo communications       United Kingdom   EU                     \n",
       " [70,] xin net                   China            China                  \n",
       " [71,] xpress                    Mexico           Latam                  \n",
       " [72,] yahoo                     United States    United States          \n",
       " [73,] yahoo japan               Japan            Japan                  \n",
       " [74,] yellow start              India            India                  \n",
       " [75,] yenkos                    India            India                  \n",
       " [76,] ynot                      India            India                  \n",
       " [77,] youdamain.com             United States    United States          \n",
       " [78,] your domain               United States    United States          \n",
       " [79,] your domain casa          United States    United States          \n",
       " [80,] your domain king          India            India                  \n",
       " [81,] your hosting              Netherlands      EU                     \n",
       " [82,] z domain names            United States    United States          \n",
       " [83,] zdns                      China            China                  \n",
       " [84,] zeit                      United States    United States          \n",
       " [85,] zeus 888                  United States    United States          \n",
       " [86,] zhengzhou business        China            China                  \n",
       " [87,] zhengzhou century connect China            China                  \n",
       " [88,] zhengzhou yu bin          China            China                  \n",
       " [89,] zhengzhou zitian          China            China                  \n",
       " [90,] zhenjiang aimingwang      China            China                  \n",
       " [91,] zhong yu network          China            China                  \n",
       " [92,] zhuhai naisinike          China            China                  \n",
       " [93,] zhuimi                    United States    United States          \n",
       " [94,] zigzagnames.com           United States    United States          \n",
       " [95,] znet                      India            India                  \n",
       " [96,] zone casting              India            India                  \n",
       " [97,] zone of domains           United States    United States          \n",
       " [98,] zoomregistrar             United States    United States          \n",
       " [99,] zulfigar                  United States    United States          \n",
       "[100,] NA                        NA               Others                 \n",
       "[101,] NA                        NA               NA                     "
      ]
     },
     "metadata": {},
     "output_type": "display_data"
    }
   ],
   "source": [
    "geoLookupDF"
   ]
  },
  {
   "cell_type": "code",
   "execution_count": 29,
   "metadata": {},
   "outputs": [
    {
     "data": {
      "text/html": [
       "<style>\n",
       ".list-inline {list-style: none; margin:0; padding: 0}\n",
       ".list-inline>li {display: inline-block}\n",
       ".list-inline>li:not(:last-child)::after {content: \"\\00b7\"; padding: 0 .5ex}\n",
       "</style>\n",
       "<ol class=list-inline><li>1481</li><li>3</li></ol>\n"
      ],
      "text/latex": [
       "\\begin{enumerate*}\n",
       "\\item 1481\n",
       "\\item 3\n",
       "\\end{enumerate*}\n"
      ],
      "text/markdown": [
       "1. 1481\n",
       "2. 3\n",
       "\n",
       "\n"
      ],
      "text/plain": [
       "[1] 1481    3"
      ]
     },
     "metadata": {},
     "output_type": "display_data"
    }
   ],
   "source": [
    "dim(geoLookupDF)"
   ]
  },
  {
   "cell_type": "code",
   "execution_count": 30,
   "metadata": {},
   "outputs": [],
   "source": [
    "write.csv(geoLookupDF, \"../../data/output/geoLookup.csv\", row.names=FALSE)"
   ]
  },
  {
   "cell_type": "markdown",
   "metadata": {},
   "source": [
    "## append reseller_geo to train & test data"
   ]
  },
  {
   "cell_type": "code",
   "execution_count": 32,
   "metadata": {},
   "outputs": [],
   "source": [
    "# names as used in _list.R script\n",
    "train_list = expiry_train_prepped_2_1\n",
    "test_list = expiry_test_prepped_2_1"
   ]
  },
  {
   "cell_type": "code",
   "execution_count": 33,
   "metadata": {},
   "outputs": [
    {
     "data": {
      "text/html": [
       "1723"
      ],
      "text/latex": [
       "1723"
      ],
      "text/markdown": [
       "1723"
      ],
      "text/plain": [
       "[1] 1723"
      ]
     },
     "metadata": {},
     "output_type": "display_data"
    }
   ],
   "source": [
    "length(train_list)"
   ]
  },
  {
   "cell_type": "code",
   "execution_count": 34,
   "metadata": {},
   "outputs": [
    {
     "data": {
      "text/html": [
       "1405"
      ],
      "text/latex": [
       "1405"
      ],
      "text/markdown": [
       "1405"
      ],
      "text/plain": [
       "[1] 1405"
      ]
     },
     "metadata": {},
     "output_type": "display_data"
    }
   ],
   "source": [
    "length(test_list)"
   ]
  },
  {
   "cell_type": "code",
   "execution_count": 50,
   "metadata": {},
   "outputs": [
    {
     "name": "stdout",
     "output_type": "stream",
     "text": [
      "1111111111111111111111111111111111111111111111111111111111111111111111111111111111111111111111111111111111111111111111111111111111111111111111111111111111111111111111111111111111111111111111111111111111111111111111111111111111111111111111111111111111111111111111111111111111111111111111111111111111111111111111111111111111111111111111111111111111111111111111111111111111111111111111111111111111111111111111111111111111111111111111111111111111111111111111111111111111111111111111111111111111111111111111111111111111111111111111111111111111111111111111111111111111111111111111111111111111111111111111111111111111111111111111111111111111111111111111111111111111111111111111111111111111111111111111111111111111111111111111111111111111111111111111111111111111111111111111111111111111111111111111111111111111111111111111111111111111111111111111111111111111111111111111111111111111111111111111111111111111111111111111111111111111111111111111111111111111111111111111111111111111111111111111111111111111111111111111111111111111111111111111111111111111111111111111111111111111111111111111111111111111111111111111111111111111111111111111111111111111111111111111111111111111111111111111111111111111111111111111111111111111111111111111111111111111111111111111111111111111111111111111111111111111111111111111111111111111111111111111111111111111111111111111111111111111111111111111111111111111111111111111111111111111111111111111111111111111111111111111111111111111111111111111111111111111111111111111111111111111111111111111111111111111111111111111111111111111111111111111111111111111111111111111111111111111111111111111111111111111111111111111111111111111111111111111111111111111111111111111111111111111111111111111111111111111111111111"
     ]
    }
   ],
   "source": [
    "for (i in 1:length(train_list)){\n",
    "    cat(length(unique(train_list[[i]]$tld_registrar_index)))}"
   ]
  },
  {
   "cell_type": "code",
   "execution_count": 58,
   "metadata": {},
   "outputs": [],
   "source": [
    "for (i in 1:length(train_list)){\n",
    "    if (names(train_list)[[i]]!=unique(train_list[[i]]$tld_registrar_index)){\n",
    "        cat(i)}}"
   ]
  },
  {
   "cell_type": "code",
   "execution_count": 57,
   "metadata": {},
   "outputs": [
    {
     "data": {
      "text/html": [
       "'websitezhengzhou century connect'"
      ],
      "text/latex": [
       "'websitezhengzhou century connect'"
      ],
      "text/markdown": [
       "'websitezhengzhou century connect'"
      ],
      "text/plain": [
       "[1] \"websitezhengzhou century connect\""
      ]
     },
     "metadata": {},
     "output_type": "display_data"
    },
    {
     "data": {
      "text/html": [
       "'websitezhengzhou century connect'"
      ],
      "text/latex": [
       "'websitezhengzhou century connect'"
      ],
      "text/markdown": [
       "'websitezhengzhou century connect'"
      ],
      "text/plain": [
       "[1] \"websitezhengzhou century connect\""
      ]
     },
     "metadata": {},
     "output_type": "display_data"
    },
    {
     "data": {
      "text/html": [
       "<table>\n",
       "<caption>A data.table: 6 × 39</caption>\n",
       "<thead>\n",
       "\t<tr><th scope=col>renewal_type</th><th scope=col>renewed_count</th><th scope=col>expiry_date</th><th scope=col>domain_id</th><th scope=col>domain</th><th scope=col>creation_date</th><th scope=col>status</th><th scope=col>tld</th><th scope=col>registrar</th><th scope=col>reseller</th><th scope=col>reseller_country</th><th scope=col>region</th><th scope=col>reg_period</th><th scope=col>registrant_country</th><th scope=col>renewal_status</th><th scope=col>renew_mbg</th><th scope=col>renew_type</th><th scope=col>autorenew_type</th><th scope=col>renew_date</th><th scope=col>renew_registrar</th><th scope=col>renew_reseller</th><th scope=col>reg_revenue</th><th scope=col>reg_arpt</th><th scope=col>renew_period</th><th scope=col>renew_domain_revenue</th><th scope=col>renew_arpt</th><th scope=col>reg_arpt_org</th><th scope=col>tld_registrar_index</th><th scope=col>sld</th><th scope=col>sld_type</th><th scope=col>sld_length</th><th scope=col>sld_type2</th><th scope=col>day_domains</th><th scope=col>log_reg_arpt</th><th scope=col>gibb_score</th><th scope=col>pattern</th><th scope=col>cluster</th><th scope=col>pattern_score</th><th scope=col>pattern_domain_count</th></tr>\n",
       "\t<tr><th scope=col>&lt;chr&gt;</th><th scope=col>&lt;int&gt;</th><th scope=col>&lt;date&gt;</th><th scope=col>&lt;int&gt;</th><th scope=col>&lt;chr&gt;</th><th scope=col>&lt;date&gt;</th><th scope=col>&lt;chr&gt;</th><th scope=col>&lt;fct&gt;</th><th scope=col>&lt;chr&gt;</th><th scope=col>&lt;chr&gt;</th><th scope=col>&lt;chr&gt;</th><th scope=col>&lt;chr&gt;</th><th scope=col>&lt;int&gt;</th><th scope=col>&lt;chr&gt;</th><th scope=col>&lt;fct&gt;</th><th scope=col>&lt;int&gt;</th><th scope=col>&lt;chr&gt;</th><th scope=col>&lt;chr&gt;</th><th scope=col>&lt;date&gt;</th><th scope=col>&lt;chr&gt;</th><th scope=col>&lt;chr&gt;</th><th scope=col>&lt;dbl&gt;</th><th scope=col>&lt;dbl&gt;</th><th scope=col>&lt;int&gt;</th><th scope=col>&lt;dbl&gt;</th><th scope=col>&lt;dbl&gt;</th><th scope=col>&lt;dbl&gt;</th><th scope=col>&lt;chr&gt;</th><th scope=col>&lt;chr&gt;</th><th scope=col>&lt;fct&gt;</th><th scope=col>&lt;int&gt;</th><th scope=col>&lt;chr&gt;</th><th scope=col>&lt;int&gt;</th><th scope=col>&lt;dbl&gt;</th><th scope=col>&lt;dbl&gt;</th><th scope=col>&lt;chr&gt;</th><th scope=col>&lt;chr&gt;</th><th scope=col>&lt;dbl&gt;</th><th scope=col>&lt;int&gt;</th></tr>\n",
       "</thead>\n",
       "<tbody>\n",
       "\t<tr><td>FirstTime</td><td>1</td><td>2020-01-09</td><td>90424822</td><td>woyaozhizhu.website</td><td>2019-01-09</td><td>Active</td><td>website</td><td>zhengzhou century connect</td><td>zhengzhou century connect</td><td>China</td><td>China</td><td>1</td><td>NA</td><td>Not Renewd</td><td>0</td><td>auto-renewal</td><td>unrealized</td><td>2020-01-09</td><td>Zhengzhou Century Connect</td><td>Zhengzhou Century Connect</td><td>0.75</td><td>0.75</td><td>1</td><td>5</td><td>5</td><td>0.75</td><td>websitezhengzhou century connect</td><td>woyaozhizhu</td><td>l </td><td>11</td><td>11l</td><td> 1</td><td>-0.2876821</td><td>0.99</td><td>woyaozhizhu</td><td>1     </td><td>1.00000000</td><td> 1</td></tr>\n",
       "\t<tr><td>FirstTime</td><td>1</td><td>2020-01-26</td><td>91955393</td><td>sunbet26.website   </td><td>2019-01-26</td><td>Active</td><td>website</td><td>zhengzhou century connect</td><td>zhengzhou century connect</td><td>China</td><td>China</td><td>1</td><td>NA</td><td>Not Renewd</td><td>0</td><td>auto-renewal</td><td>unrealized</td><td>2020-01-26</td><td>Zhengzhou Century Connect</td><td>Zhengzhou Century Connect</td><td>0.75</td><td>0.75</td><td>1</td><td>5</td><td>5</td><td>0.75</td><td>websitezhengzhou century connect</td><td>sunbet26   </td><td>ln</td><td> 8</td><td>8ln</td><td>39</td><td>-0.2876821</td><td>3.35</td><td>1          </td><td>sunbet</td><td>0.02564103</td><td>39</td></tr>\n",
       "\t<tr><td>FirstTime</td><td>1</td><td>2020-01-26</td><td>91955268</td><td>sunbet1.website    </td><td>2019-01-26</td><td>Active</td><td>website</td><td>zhengzhou century connect</td><td>zhengzhou century connect</td><td>China</td><td>China</td><td>1</td><td>NA</td><td>Not Renewd</td><td>0</td><td>auto-renewal</td><td>unrealized</td><td>2020-01-26</td><td>Zhengzhou Century Connect</td><td>Zhengzhou Century Connect</td><td>0.75</td><td>0.75</td><td>1</td><td>5</td><td>5</td><td>0.75</td><td>websitezhengzhou century connect</td><td>sunbet1    </td><td>ln</td><td> 7</td><td>7ln</td><td>39</td><td>-0.2876821</td><td>3.35</td><td>1          </td><td>sunbet</td><td>0.02564103</td><td>39</td></tr>\n",
       "\t<tr><td>FirstTime</td><td>1</td><td>2020-01-26</td><td>91955338</td><td>sunbet15.website   </td><td>2019-01-26</td><td>Active</td><td>website</td><td>zhengzhou century connect</td><td>zhengzhou century connect</td><td>China</td><td>China</td><td>1</td><td>NA</td><td>Not Renewd</td><td>0</td><td>auto-renewal</td><td>unrealized</td><td>2020-01-26</td><td>Zhengzhou Century Connect</td><td>Zhengzhou Century Connect</td><td>0.75</td><td>0.75</td><td>1</td><td>5</td><td>5</td><td>0.75</td><td>websitezhengzhou century connect</td><td>sunbet15   </td><td>ln</td><td> 8</td><td>8ln</td><td>39</td><td>-0.2876821</td><td>3.35</td><td>1          </td><td>sunbet</td><td>0.02564103</td><td>39</td></tr>\n",
       "\t<tr><td>FirstTime</td><td>1</td><td>2020-01-26</td><td>91955293</td><td>sunbet6.website    </td><td>2019-01-26</td><td>Active</td><td>website</td><td>zhengzhou century connect</td><td>zhengzhou century connect</td><td>China</td><td>China</td><td>1</td><td>NA</td><td>Not Renewd</td><td>0</td><td>auto-renewal</td><td>unrealized</td><td>2020-01-26</td><td>Zhengzhou Century Connect</td><td>Zhengzhou Century Connect</td><td>0.75</td><td>0.75</td><td>1</td><td>5</td><td>5</td><td>0.75</td><td>websitezhengzhou century connect</td><td>sunbet6    </td><td>ln</td><td> 7</td><td>7ln</td><td>39</td><td>-0.2876821</td><td>3.35</td><td>1          </td><td>sunbet</td><td>0.02564103</td><td>39</td></tr>\n",
       "\t<tr><td>FirstTime</td><td>1</td><td>2020-01-26</td><td>91955478</td><td>sunbet42.website   </td><td>2019-01-26</td><td>Active</td><td>website</td><td>zhengzhou century connect</td><td>zhengzhou century connect</td><td>China</td><td>China</td><td>1</td><td>NA</td><td>Not Renewd</td><td>0</td><td>auto-renewal</td><td>unrealized</td><td>2020-01-26</td><td>Zhengzhou Century Connect</td><td>Zhengzhou Century Connect</td><td>0.75</td><td>0.75</td><td>1</td><td>5</td><td>5</td><td>0.75</td><td>websitezhengzhou century connect</td><td>sunbet42   </td><td>ln</td><td> 8</td><td>8ln</td><td>39</td><td>-0.2876821</td><td>3.35</td><td>1          </td><td>sunbet</td><td>0.02564103</td><td>39</td></tr>\n",
       "</tbody>\n",
       "</table>\n"
      ],
      "text/latex": [
       "A data.table: 6 × 39\n",
       "\\begin{tabular}{lllllllllllllllllllllllllllllllllllllll}\n",
       " renewal\\_type & renewed\\_count & expiry\\_date & domain\\_id & domain & creation\\_date & status & tld & registrar & reseller & reseller\\_country & region & reg\\_period & registrant\\_country & renewal\\_status & renew\\_mbg & renew\\_type & autorenew\\_type & renew\\_date & renew\\_registrar & renew\\_reseller & reg\\_revenue & reg\\_arpt & renew\\_period & renew\\_domain\\_revenue & renew\\_arpt & reg\\_arpt\\_org & tld\\_registrar\\_index & sld & sld\\_type & sld\\_length & sld\\_type2 & day\\_domains & log\\_reg\\_arpt & gibb\\_score & pattern & cluster & pattern\\_score & pattern\\_domain\\_count\\\\\n",
       " <chr> & <int> & <date> & <int> & <chr> & <date> & <chr> & <fct> & <chr> & <chr> & <chr> & <chr> & <int> & <chr> & <fct> & <int> & <chr> & <chr> & <date> & <chr> & <chr> & <dbl> & <dbl> & <int> & <dbl> & <dbl> & <dbl> & <chr> & <chr> & <fct> & <int> & <chr> & <int> & <dbl> & <dbl> & <chr> & <chr> & <dbl> & <int>\\\\\n",
       "\\hline\n",
       "\t FirstTime & 1 & 2020-01-09 & 90424822 & woyaozhizhu.website & 2019-01-09 & Active & website & zhengzhou century connect & zhengzhou century connect & China & China & 1 & NA & Not Renewd & 0 & auto-renewal & unrealized & 2020-01-09 & Zhengzhou Century Connect & Zhengzhou Century Connect & 0.75 & 0.75 & 1 & 5 & 5 & 0.75 & websitezhengzhou century connect & woyaozhizhu & l  & 11 & 11l &  1 & -0.2876821 & 0.99 & woyaozhizhu & 1      & 1.00000000 &  1\\\\\n",
       "\t FirstTime & 1 & 2020-01-26 & 91955393 & sunbet26.website    & 2019-01-26 & Active & website & zhengzhou century connect & zhengzhou century connect & China & China & 1 & NA & Not Renewd & 0 & auto-renewal & unrealized & 2020-01-26 & Zhengzhou Century Connect & Zhengzhou Century Connect & 0.75 & 0.75 & 1 & 5 & 5 & 0.75 & websitezhengzhou century connect & sunbet26    & ln &  8 & 8ln & 39 & -0.2876821 & 3.35 & 1           & sunbet & 0.02564103 & 39\\\\\n",
       "\t FirstTime & 1 & 2020-01-26 & 91955268 & sunbet1.website     & 2019-01-26 & Active & website & zhengzhou century connect & zhengzhou century connect & China & China & 1 & NA & Not Renewd & 0 & auto-renewal & unrealized & 2020-01-26 & Zhengzhou Century Connect & Zhengzhou Century Connect & 0.75 & 0.75 & 1 & 5 & 5 & 0.75 & websitezhengzhou century connect & sunbet1     & ln &  7 & 7ln & 39 & -0.2876821 & 3.35 & 1           & sunbet & 0.02564103 & 39\\\\\n",
       "\t FirstTime & 1 & 2020-01-26 & 91955338 & sunbet15.website    & 2019-01-26 & Active & website & zhengzhou century connect & zhengzhou century connect & China & China & 1 & NA & Not Renewd & 0 & auto-renewal & unrealized & 2020-01-26 & Zhengzhou Century Connect & Zhengzhou Century Connect & 0.75 & 0.75 & 1 & 5 & 5 & 0.75 & websitezhengzhou century connect & sunbet15    & ln &  8 & 8ln & 39 & -0.2876821 & 3.35 & 1           & sunbet & 0.02564103 & 39\\\\\n",
       "\t FirstTime & 1 & 2020-01-26 & 91955293 & sunbet6.website     & 2019-01-26 & Active & website & zhengzhou century connect & zhengzhou century connect & China & China & 1 & NA & Not Renewd & 0 & auto-renewal & unrealized & 2020-01-26 & Zhengzhou Century Connect & Zhengzhou Century Connect & 0.75 & 0.75 & 1 & 5 & 5 & 0.75 & websitezhengzhou century connect & sunbet6     & ln &  7 & 7ln & 39 & -0.2876821 & 3.35 & 1           & sunbet & 0.02564103 & 39\\\\\n",
       "\t FirstTime & 1 & 2020-01-26 & 91955478 & sunbet42.website    & 2019-01-26 & Active & website & zhengzhou century connect & zhengzhou century connect & China & China & 1 & NA & Not Renewd & 0 & auto-renewal & unrealized & 2020-01-26 & Zhengzhou Century Connect & Zhengzhou Century Connect & 0.75 & 0.75 & 1 & 5 & 5 & 0.75 & websitezhengzhou century connect & sunbet42    & ln &  8 & 8ln & 39 & -0.2876821 & 3.35 & 1           & sunbet & 0.02564103 & 39\\\\\n",
       "\\end{tabular}\n"
      ],
      "text/markdown": [
       "\n",
       "A data.table: 6 × 39\n",
       "\n",
       "| renewal_type &lt;chr&gt; | renewed_count &lt;int&gt; | expiry_date &lt;date&gt; | domain_id &lt;int&gt; | domain &lt;chr&gt; | creation_date &lt;date&gt; | status &lt;chr&gt; | tld &lt;fct&gt; | registrar &lt;chr&gt; | reseller &lt;chr&gt; | reseller_country &lt;chr&gt; | region &lt;chr&gt; | reg_period &lt;int&gt; | registrant_country &lt;chr&gt; | renewal_status &lt;fct&gt; | renew_mbg &lt;int&gt; | renew_type &lt;chr&gt; | autorenew_type &lt;chr&gt; | renew_date &lt;date&gt; | renew_registrar &lt;chr&gt; | renew_reseller &lt;chr&gt; | reg_revenue &lt;dbl&gt; | reg_arpt &lt;dbl&gt; | renew_period &lt;int&gt; | renew_domain_revenue &lt;dbl&gt; | renew_arpt &lt;dbl&gt; | reg_arpt_org &lt;dbl&gt; | tld_registrar_index &lt;chr&gt; | sld &lt;chr&gt; | sld_type &lt;fct&gt; | sld_length &lt;int&gt; | sld_type2 &lt;chr&gt; | day_domains &lt;int&gt; | log_reg_arpt &lt;dbl&gt; | gibb_score &lt;dbl&gt; | pattern &lt;chr&gt; | cluster &lt;chr&gt; | pattern_score &lt;dbl&gt; | pattern_domain_count &lt;int&gt; |\n",
       "|---|---|---|---|---|---|---|---|---|---|---|---|---|---|---|---|---|---|---|---|---|---|---|---|---|---|---|---|---|---|---|---|---|---|---|---|---|---|---|\n",
       "| FirstTime | 1 | 2020-01-09 | 90424822 | woyaozhizhu.website | 2019-01-09 | Active | website | zhengzhou century connect | zhengzhou century connect | China | China | 1 | NA | Not Renewd | 0 | auto-renewal | unrealized | 2020-01-09 | Zhengzhou Century Connect | Zhengzhou Century Connect | 0.75 | 0.75 | 1 | 5 | 5 | 0.75 | websitezhengzhou century connect | woyaozhizhu | l  | 11 | 11l |  1 | -0.2876821 | 0.99 | woyaozhizhu | 1      | 1.00000000 |  1 |\n",
       "| FirstTime | 1 | 2020-01-26 | 91955393 | sunbet26.website    | 2019-01-26 | Active | website | zhengzhou century connect | zhengzhou century connect | China | China | 1 | NA | Not Renewd | 0 | auto-renewal | unrealized | 2020-01-26 | Zhengzhou Century Connect | Zhengzhou Century Connect | 0.75 | 0.75 | 1 | 5 | 5 | 0.75 | websitezhengzhou century connect | sunbet26    | ln |  8 | 8ln | 39 | -0.2876821 | 3.35 | 1           | sunbet | 0.02564103 | 39 |\n",
       "| FirstTime | 1 | 2020-01-26 | 91955268 | sunbet1.website     | 2019-01-26 | Active | website | zhengzhou century connect | zhengzhou century connect | China | China | 1 | NA | Not Renewd | 0 | auto-renewal | unrealized | 2020-01-26 | Zhengzhou Century Connect | Zhengzhou Century Connect | 0.75 | 0.75 | 1 | 5 | 5 | 0.75 | websitezhengzhou century connect | sunbet1     | ln |  7 | 7ln | 39 | -0.2876821 | 3.35 | 1           | sunbet | 0.02564103 | 39 |\n",
       "| FirstTime | 1 | 2020-01-26 | 91955338 | sunbet15.website    | 2019-01-26 | Active | website | zhengzhou century connect | zhengzhou century connect | China | China | 1 | NA | Not Renewd | 0 | auto-renewal | unrealized | 2020-01-26 | Zhengzhou Century Connect | Zhengzhou Century Connect | 0.75 | 0.75 | 1 | 5 | 5 | 0.75 | websitezhengzhou century connect | sunbet15    | ln |  8 | 8ln | 39 | -0.2876821 | 3.35 | 1           | sunbet | 0.02564103 | 39 |\n",
       "| FirstTime | 1 | 2020-01-26 | 91955293 | sunbet6.website     | 2019-01-26 | Active | website | zhengzhou century connect | zhengzhou century connect | China | China | 1 | NA | Not Renewd | 0 | auto-renewal | unrealized | 2020-01-26 | Zhengzhou Century Connect | Zhengzhou Century Connect | 0.75 | 0.75 | 1 | 5 | 5 | 0.75 | websitezhengzhou century connect | sunbet6     | ln |  7 | 7ln | 39 | -0.2876821 | 3.35 | 1           | sunbet | 0.02564103 | 39 |\n",
       "| FirstTime | 1 | 2020-01-26 | 91955478 | sunbet42.website    | 2019-01-26 | Active | website | zhengzhou century connect | zhengzhou century connect | China | China | 1 | NA | Not Renewd | 0 | auto-renewal | unrealized | 2020-01-26 | Zhengzhou Century Connect | Zhengzhou Century Connect | 0.75 | 0.75 | 1 | 5 | 5 | 0.75 | websitezhengzhou century connect | sunbet42    | ln |  8 | 8ln | 39 | -0.2876821 | 3.35 | 1           | sunbet | 0.02564103 | 39 |\n",
       "\n"
      ],
      "text/plain": [
       "  renewal_type renewed_count expiry_date domain_id domain             \n",
       "1 FirstTime    1             2020-01-09  90424822  woyaozhizhu.website\n",
       "2 FirstTime    1             2020-01-26  91955393  sunbet26.website   \n",
       "3 FirstTime    1             2020-01-26  91955268  sunbet1.website    \n",
       "4 FirstTime    1             2020-01-26  91955338  sunbet15.website   \n",
       "5 FirstTime    1             2020-01-26  91955293  sunbet6.website    \n",
       "6 FirstTime    1             2020-01-26  91955478  sunbet42.website   \n",
       "  creation_date status tld     registrar                \n",
       "1 2019-01-09    Active website zhengzhou century connect\n",
       "2 2019-01-26    Active website zhengzhou century connect\n",
       "3 2019-01-26    Active website zhengzhou century connect\n",
       "4 2019-01-26    Active website zhengzhou century connect\n",
       "5 2019-01-26    Active website zhengzhou century connect\n",
       "6 2019-01-26    Active website zhengzhou century connect\n",
       "  reseller                  reseller_country region reg_period\n",
       "1 zhengzhou century connect China            China  1         \n",
       "2 zhengzhou century connect China            China  1         \n",
       "3 zhengzhou century connect China            China  1         \n",
       "4 zhengzhou century connect China            China  1         \n",
       "5 zhengzhou century connect China            China  1         \n",
       "6 zhengzhou century connect China            China  1         \n",
       "  registrant_country renewal_status renew_mbg renew_type   autorenew_type\n",
       "1 NA                 Not Renewd     0         auto-renewal unrealized    \n",
       "2 NA                 Not Renewd     0         auto-renewal unrealized    \n",
       "3 NA                 Not Renewd     0         auto-renewal unrealized    \n",
       "4 NA                 Not Renewd     0         auto-renewal unrealized    \n",
       "5 NA                 Not Renewd     0         auto-renewal unrealized    \n",
       "6 NA                 Not Renewd     0         auto-renewal unrealized    \n",
       "  renew_date renew_registrar           renew_reseller            reg_revenue\n",
       "1 2020-01-09 Zhengzhou Century Connect Zhengzhou Century Connect 0.75       \n",
       "2 2020-01-26 Zhengzhou Century Connect Zhengzhou Century Connect 0.75       \n",
       "3 2020-01-26 Zhengzhou Century Connect Zhengzhou Century Connect 0.75       \n",
       "4 2020-01-26 Zhengzhou Century Connect Zhengzhou Century Connect 0.75       \n",
       "5 2020-01-26 Zhengzhou Century Connect Zhengzhou Century Connect 0.75       \n",
       "6 2020-01-26 Zhengzhou Century Connect Zhengzhou Century Connect 0.75       \n",
       "  reg_arpt renew_period renew_domain_revenue renew_arpt reg_arpt_org\n",
       "1 0.75     1            5                    5          0.75        \n",
       "2 0.75     1            5                    5          0.75        \n",
       "3 0.75     1            5                    5          0.75        \n",
       "4 0.75     1            5                    5          0.75        \n",
       "5 0.75     1            5                    5          0.75        \n",
       "6 0.75     1            5                    5          0.75        \n",
       "  tld_registrar_index              sld         sld_type sld_length sld_type2\n",
       "1 websitezhengzhou century connect woyaozhizhu l        11         11l      \n",
       "2 websitezhengzhou century connect sunbet26    ln        8         8ln      \n",
       "3 websitezhengzhou century connect sunbet1     ln        7         7ln      \n",
       "4 websitezhengzhou century connect sunbet15    ln        8         8ln      \n",
       "5 websitezhengzhou century connect sunbet6     ln        7         7ln      \n",
       "6 websitezhengzhou century connect sunbet42    ln        8         8ln      \n",
       "  day_domains log_reg_arpt gibb_score pattern     cluster pattern_score\n",
       "1  1          -0.2876821   0.99       woyaozhizhu 1       1.00000000   \n",
       "2 39          -0.2876821   3.35       1           sunbet  0.02564103   \n",
       "3 39          -0.2876821   3.35       1           sunbet  0.02564103   \n",
       "4 39          -0.2876821   3.35       1           sunbet  0.02564103   \n",
       "5 39          -0.2876821   3.35       1           sunbet  0.02564103   \n",
       "6 39          -0.2876821   3.35       1           sunbet  0.02564103   \n",
       "  pattern_domain_count\n",
       "1  1                  \n",
       "2 39                  \n",
       "3 39                  \n",
       "4 39                  \n",
       "5 39                  \n",
       "6 39                  "
      ]
     },
     "metadata": {},
     "output_type": "display_data"
    }
   ],
   "source": [
    "names(train_list)[[1722]]\n",
    "unique(train_list[[1722]]$tld_registrar_index)\n",
    "head(train_list[[1722]])"
   ]
  },
  {
   "cell_type": "code",
   "execution_count": 53,
   "metadata": {},
   "outputs": [
    {
     "data": {
      "text/html": [
       "<table>\n",
       "<caption>A data.table: 6 × 40</caption>\n",
       "<thead>\n",
       "\t<tr><th scope=col>reseller</th><th scope=col>reseller_country</th><th scope=col>renewal_type</th><th scope=col>renewed_count</th><th scope=col>expiry_date</th><th scope=col>domain_id</th><th scope=col>domain</th><th scope=col>creation_date</th><th scope=col>status</th><th scope=col>tld</th><th scope=col>registrar</th><th scope=col>region</th><th scope=col>reg_period</th><th scope=col>registrant_country</th><th scope=col>renewal_status</th><th scope=col>renew_mbg</th><th scope=col>renew_type</th><th scope=col>autorenew_type</th><th scope=col>renew_date</th><th scope=col>renew_registrar</th><th scope=col>renew_reseller</th><th scope=col>reg_revenue</th><th scope=col>reg_arpt</th><th scope=col>renew_period</th><th scope=col>renew_domain_revenue</th><th scope=col>renew_arpt</th><th scope=col>reg_arpt_org</th><th scope=col>tld_registrar_index</th><th scope=col>sld</th><th scope=col>sld_type</th><th scope=col>sld_length</th><th scope=col>sld_type2</th><th scope=col>day_domains</th><th scope=col>log_reg_arpt</th><th scope=col>gibb_score</th><th scope=col>pattern</th><th scope=col>cluster</th><th scope=col>pattern_score</th><th scope=col>pattern_domain_count</th><th scope=col>reseller_geo</th></tr>\n",
       "\t<tr><th scope=col>&lt;chr&gt;</th><th scope=col>&lt;chr&gt;</th><th scope=col>&lt;chr&gt;</th><th scope=col>&lt;int&gt;</th><th scope=col>&lt;date&gt;</th><th scope=col>&lt;int&gt;</th><th scope=col>&lt;chr&gt;</th><th scope=col>&lt;date&gt;</th><th scope=col>&lt;chr&gt;</th><th scope=col>&lt;fct&gt;</th><th scope=col>&lt;chr&gt;</th><th scope=col>&lt;chr&gt;</th><th scope=col>&lt;int&gt;</th><th scope=col>&lt;chr&gt;</th><th scope=col>&lt;fct&gt;</th><th scope=col>&lt;int&gt;</th><th scope=col>&lt;chr&gt;</th><th scope=col>&lt;chr&gt;</th><th scope=col>&lt;date&gt;</th><th scope=col>&lt;chr&gt;</th><th scope=col>&lt;chr&gt;</th><th scope=col>&lt;dbl&gt;</th><th scope=col>&lt;dbl&gt;</th><th scope=col>&lt;int&gt;</th><th scope=col>&lt;dbl&gt;</th><th scope=col>&lt;dbl&gt;</th><th scope=col>&lt;dbl&gt;</th><th scope=col>&lt;chr&gt;</th><th scope=col>&lt;chr&gt;</th><th scope=col>&lt;fct&gt;</th><th scope=col>&lt;int&gt;</th><th scope=col>&lt;chr&gt;</th><th scope=col>&lt;int&gt;</th><th scope=col>&lt;dbl&gt;</th><th scope=col>&lt;dbl&gt;</th><th scope=col>&lt;chr&gt;</th><th scope=col>&lt;chr&gt;</th><th scope=col>&lt;dbl&gt;</th><th scope=col>&lt;int&gt;</th><th scope=col>&lt;chr&gt;</th></tr>\n",
       "</thead>\n",
       "<tbody>\n",
       "\t<tr><td>1&amp;1 internet</td><td>Germany</td><td>FirstTime</td><td>1</td><td>2020-01-21</td><td>91584433</td><td><span style=white-space:pre-wrap>racefor.fun     </span></td><td>2019-01-21</td><td>Active</td><td>fun</td><td>1&amp;1 internet</td><td>Non China</td><td>1</td><td>NA</td><td><span style=white-space:pre-wrap>Renewed   </span></td><td>0</td><td>auto-renewal</td><td><span style=white-space:pre-wrap>realized  </span></td><td>2020-01-21</td><td>1&amp;1 Internet</td><td>1&amp;1 Internet</td><td>15</td><td>15</td><td>1</td><td>15</td><td>15</td><td>15</td><td>fun1&amp;1 internet</td><td><span style=white-space:pre-wrap>racefor     </span></td><td>l </td><td> 7</td><td>7l </td><td>1</td><td>2.70805</td><td> 6.77</td><td><span style=white-space:pre-wrap>racefor     </span></td><td>1</td><td>1</td><td>1</td><td>EU</td></tr>\n",
       "\t<tr><td>1&amp;1 internet</td><td>Germany</td><td>FirstTime</td><td>1</td><td>2020-01-30</td><td>92254793</td><td><span style=white-space:pre-wrap>united4.fun     </span></td><td>2019-01-30</td><td>Active</td><td>fun</td><td>1&amp;1 internet</td><td>Non China</td><td>1</td><td>NA</td><td><span style=white-space:pre-wrap>Renewed   </span></td><td>0</td><td>auto-renewal</td><td><span style=white-space:pre-wrap>realized  </span></td><td>2020-01-30</td><td>1&amp;1 Internet</td><td>1&amp;1 Internet</td><td>15</td><td>15</td><td>1</td><td>15</td><td>15</td><td>15</td><td>fun1&amp;1 internet</td><td><span style=white-space:pre-wrap>united4     </span></td><td>ln</td><td> 7</td><td>7ln</td><td>1</td><td>2.70805</td><td> 8.65</td><td><span style=white-space:pre-wrap>united4     </span></td><td>1</td><td>1</td><td>1</td><td>EU</td></tr>\n",
       "\t<tr><td>1&amp;1 internet</td><td>Germany</td><td>FirstTime</td><td>1</td><td>2020-02-04</td><td>92827233</td><td><span style=white-space:pre-wrap>bereal.fun      </span></td><td>2019-02-04</td><td>Active</td><td>fun</td><td>1&amp;1 internet</td><td>Non China</td><td>1</td><td>NA</td><td><span style=white-space:pre-wrap>Renewed   </span></td><td>0</td><td>auto-renewal</td><td><span style=white-space:pre-wrap>realized  </span></td><td>2020-02-04</td><td>1&amp;1 Internet</td><td>1&amp;1 Internet</td><td>15</td><td>15</td><td>1</td><td>15</td><td>15</td><td>15</td><td>fun1&amp;1 internet</td><td><span style=white-space:pre-wrap>bereal      </span></td><td>l </td><td> 6</td><td>6l </td><td>1</td><td>2.70805</td><td>13.09</td><td><span style=white-space:pre-wrap>bereal      </span></td><td>1</td><td>1</td><td>1</td><td>EU</td></tr>\n",
       "\t<tr><td>1&amp;1 internet</td><td>Germany</td><td>FirstTime</td><td>1</td><td>2020-02-12</td><td>93490823</td><td>dogsoutdoors.fun</td><td>2019-02-12</td><td>Active</td><td>fun</td><td>1&amp;1 internet</td><td>Non China</td><td>1</td><td>NA</td><td>Not Renewd</td><td>0</td><td>auto-renewal</td><td>unrealized</td><td>2020-02-12</td><td>1&amp;1 Internet</td><td>1&amp;1 Internet</td><td>15</td><td>15</td><td>1</td><td>15</td><td>15</td><td>15</td><td>fun1&amp;1 internet</td><td>dogsoutdoors</td><td>l </td><td>12</td><td>12l</td><td>1</td><td>2.70805</td><td> 2.44</td><td>dogsoutdoors</td><td>1</td><td>1</td><td>1</td><td>EU</td></tr>\n",
       "\t<tr><td>1&amp;1 internet</td><td>Germany</td><td>FirstTime</td><td>1</td><td>2020-02-15</td><td>93767978</td><td><span style=white-space:pre-wrap>rosalux.fun     </span></td><td>2019-02-15</td><td>Active</td><td>fun</td><td>1&amp;1 internet</td><td>Non China</td><td>1</td><td>NA</td><td><span style=white-space:pre-wrap>Renewed   </span></td><td>0</td><td>auto-renewal</td><td><span style=white-space:pre-wrap>realized  </span></td><td>2020-02-15</td><td>1&amp;1 Internet</td><td>1&amp;1 Internet</td><td>15</td><td>15</td><td>1</td><td>15</td><td>15</td><td>15</td><td>fun1&amp;1 internet</td><td><span style=white-space:pre-wrap>rosalux     </span></td><td>l </td><td> 7</td><td>7l </td><td>1</td><td>2.70805</td><td> 2.34</td><td><span style=white-space:pre-wrap>rosalux     </span></td><td>1</td><td>1</td><td>1</td><td>EU</td></tr>\n",
       "\t<tr><td>1&amp;1 internet</td><td>Germany</td><td>FirstTime</td><td>1</td><td>2020-02-16</td><td>93823708</td><td><span style=white-space:pre-wrap>verygood.fun    </span></td><td>2019-02-16</td><td>Active</td><td>fun</td><td>1&amp;1 internet</td><td>Non China</td><td>1</td><td>NA</td><td><span style=white-space:pre-wrap>Renewed   </span></td><td>0</td><td>auto-renewal</td><td><span style=white-space:pre-wrap>realized  </span></td><td>2020-02-16</td><td>1&amp;1 Internet</td><td>1&amp;1 Internet</td><td>15</td><td>15</td><td>1</td><td>15</td><td>15</td><td>15</td><td>fun1&amp;1 internet</td><td><span style=white-space:pre-wrap>verygood    </span></td><td>l </td><td> 8</td><td>8l </td><td>1</td><td>2.70805</td><td> 3.64</td><td><span style=white-space:pre-wrap>verygood    </span></td><td>1</td><td>1</td><td>1</td><td>EU</td></tr>\n",
       "</tbody>\n",
       "</table>\n"
      ],
      "text/latex": [
       "A data.table: 6 × 40\n",
       "\\begin{tabular}{llllllllllllllllllllllllllllllllllllllll}\n",
       " reseller & reseller\\_country & renewal\\_type & renewed\\_count & expiry\\_date & domain\\_id & domain & creation\\_date & status & tld & registrar & region & reg\\_period & registrant\\_country & renewal\\_status & renew\\_mbg & renew\\_type & autorenew\\_type & renew\\_date & renew\\_registrar & renew\\_reseller & reg\\_revenue & reg\\_arpt & renew\\_period & renew\\_domain\\_revenue & renew\\_arpt & reg\\_arpt\\_org & tld\\_registrar\\_index & sld & sld\\_type & sld\\_length & sld\\_type2 & day\\_domains & log\\_reg\\_arpt & gibb\\_score & pattern & cluster & pattern\\_score & pattern\\_domain\\_count & reseller\\_geo\\\\\n",
       " <chr> & <chr> & <chr> & <int> & <date> & <int> & <chr> & <date> & <chr> & <fct> & <chr> & <chr> & <int> & <chr> & <fct> & <int> & <chr> & <chr> & <date> & <chr> & <chr> & <dbl> & <dbl> & <int> & <dbl> & <dbl> & <dbl> & <chr> & <chr> & <fct> & <int> & <chr> & <int> & <dbl> & <dbl> & <chr> & <chr> & <dbl> & <int> & <chr>\\\\\n",
       "\\hline\n",
       "\t 1\\&1 internet & Germany & FirstTime & 1 & 2020-01-21 & 91584433 & racefor.fun      & 2019-01-21 & Active & fun & 1\\&1 internet & Non China & 1 & NA & Renewed    & 0 & auto-renewal & realized   & 2020-01-21 & 1\\&1 Internet & 1\\&1 Internet & 15 & 15 & 1 & 15 & 15 & 15 & fun1\\&1 internet & racefor      & l  &  7 & 7l  & 1 & 2.70805 &  6.77 & racefor      & 1 & 1 & 1 & EU\\\\\n",
       "\t 1\\&1 internet & Germany & FirstTime & 1 & 2020-01-30 & 92254793 & united4.fun      & 2019-01-30 & Active & fun & 1\\&1 internet & Non China & 1 & NA & Renewed    & 0 & auto-renewal & realized   & 2020-01-30 & 1\\&1 Internet & 1\\&1 Internet & 15 & 15 & 1 & 15 & 15 & 15 & fun1\\&1 internet & united4      & ln &  7 & 7ln & 1 & 2.70805 &  8.65 & united4      & 1 & 1 & 1 & EU\\\\\n",
       "\t 1\\&1 internet & Germany & FirstTime & 1 & 2020-02-04 & 92827233 & bereal.fun       & 2019-02-04 & Active & fun & 1\\&1 internet & Non China & 1 & NA & Renewed    & 0 & auto-renewal & realized   & 2020-02-04 & 1\\&1 Internet & 1\\&1 Internet & 15 & 15 & 1 & 15 & 15 & 15 & fun1\\&1 internet & bereal       & l  &  6 & 6l  & 1 & 2.70805 & 13.09 & bereal       & 1 & 1 & 1 & EU\\\\\n",
       "\t 1\\&1 internet & Germany & FirstTime & 1 & 2020-02-12 & 93490823 & dogsoutdoors.fun & 2019-02-12 & Active & fun & 1\\&1 internet & Non China & 1 & NA & Not Renewd & 0 & auto-renewal & unrealized & 2020-02-12 & 1\\&1 Internet & 1\\&1 Internet & 15 & 15 & 1 & 15 & 15 & 15 & fun1\\&1 internet & dogsoutdoors & l  & 12 & 12l & 1 & 2.70805 &  2.44 & dogsoutdoors & 1 & 1 & 1 & EU\\\\\n",
       "\t 1\\&1 internet & Germany & FirstTime & 1 & 2020-02-15 & 93767978 & rosalux.fun      & 2019-02-15 & Active & fun & 1\\&1 internet & Non China & 1 & NA & Renewed    & 0 & auto-renewal & realized   & 2020-02-15 & 1\\&1 Internet & 1\\&1 Internet & 15 & 15 & 1 & 15 & 15 & 15 & fun1\\&1 internet & rosalux      & l  &  7 & 7l  & 1 & 2.70805 &  2.34 & rosalux      & 1 & 1 & 1 & EU\\\\\n",
       "\t 1\\&1 internet & Germany & FirstTime & 1 & 2020-02-16 & 93823708 & verygood.fun     & 2019-02-16 & Active & fun & 1\\&1 internet & Non China & 1 & NA & Renewed    & 0 & auto-renewal & realized   & 2020-02-16 & 1\\&1 Internet & 1\\&1 Internet & 15 & 15 & 1 & 15 & 15 & 15 & fun1\\&1 internet & verygood     & l  &  8 & 8l  & 1 & 2.70805 &  3.64 & verygood     & 1 & 1 & 1 & EU\\\\\n",
       "\\end{tabular}\n"
      ],
      "text/markdown": [
       "\n",
       "A data.table: 6 × 40\n",
       "\n",
       "| reseller &lt;chr&gt; | reseller_country &lt;chr&gt; | renewal_type &lt;chr&gt; | renewed_count &lt;int&gt; | expiry_date &lt;date&gt; | domain_id &lt;int&gt; | domain &lt;chr&gt; | creation_date &lt;date&gt; | status &lt;chr&gt; | tld &lt;fct&gt; | registrar &lt;chr&gt; | region &lt;chr&gt; | reg_period &lt;int&gt; | registrant_country &lt;chr&gt; | renewal_status &lt;fct&gt; | renew_mbg &lt;int&gt; | renew_type &lt;chr&gt; | autorenew_type &lt;chr&gt; | renew_date &lt;date&gt; | renew_registrar &lt;chr&gt; | renew_reseller &lt;chr&gt; | reg_revenue &lt;dbl&gt; | reg_arpt &lt;dbl&gt; | renew_period &lt;int&gt; | renew_domain_revenue &lt;dbl&gt; | renew_arpt &lt;dbl&gt; | reg_arpt_org &lt;dbl&gt; | tld_registrar_index &lt;chr&gt; | sld &lt;chr&gt; | sld_type &lt;fct&gt; | sld_length &lt;int&gt; | sld_type2 &lt;chr&gt; | day_domains &lt;int&gt; | log_reg_arpt &lt;dbl&gt; | gibb_score &lt;dbl&gt; | pattern &lt;chr&gt; | cluster &lt;chr&gt; | pattern_score &lt;dbl&gt; | pattern_domain_count &lt;int&gt; | reseller_geo &lt;chr&gt; |\n",
       "|---|---|---|---|---|---|---|---|---|---|---|---|---|---|---|---|---|---|---|---|---|---|---|---|---|---|---|---|---|---|---|---|---|---|---|---|---|---|---|---|\n",
       "| 1&amp;1 internet | Germany | FirstTime | 1 | 2020-01-21 | 91584433 | racefor.fun      | 2019-01-21 | Active | fun | 1&amp;1 internet | Non China | 1 | NA | Renewed    | 0 | auto-renewal | realized   | 2020-01-21 | 1&amp;1 Internet | 1&amp;1 Internet | 15 | 15 | 1 | 15 | 15 | 15 | fun1&amp;1 internet | racefor      | l  |  7 | 7l  | 1 | 2.70805 |  6.77 | racefor      | 1 | 1 | 1 | EU |\n",
       "| 1&amp;1 internet | Germany | FirstTime | 1 | 2020-01-30 | 92254793 | united4.fun      | 2019-01-30 | Active | fun | 1&amp;1 internet | Non China | 1 | NA | Renewed    | 0 | auto-renewal | realized   | 2020-01-30 | 1&amp;1 Internet | 1&amp;1 Internet | 15 | 15 | 1 | 15 | 15 | 15 | fun1&amp;1 internet | united4      | ln |  7 | 7ln | 1 | 2.70805 |  8.65 | united4      | 1 | 1 | 1 | EU |\n",
       "| 1&amp;1 internet | Germany | FirstTime | 1 | 2020-02-04 | 92827233 | bereal.fun       | 2019-02-04 | Active | fun | 1&amp;1 internet | Non China | 1 | NA | Renewed    | 0 | auto-renewal | realized   | 2020-02-04 | 1&amp;1 Internet | 1&amp;1 Internet | 15 | 15 | 1 | 15 | 15 | 15 | fun1&amp;1 internet | bereal       | l  |  6 | 6l  | 1 | 2.70805 | 13.09 | bereal       | 1 | 1 | 1 | EU |\n",
       "| 1&amp;1 internet | Germany | FirstTime | 1 | 2020-02-12 | 93490823 | dogsoutdoors.fun | 2019-02-12 | Active | fun | 1&amp;1 internet | Non China | 1 | NA | Not Renewd | 0 | auto-renewal | unrealized | 2020-02-12 | 1&amp;1 Internet | 1&amp;1 Internet | 15 | 15 | 1 | 15 | 15 | 15 | fun1&amp;1 internet | dogsoutdoors | l  | 12 | 12l | 1 | 2.70805 |  2.44 | dogsoutdoors | 1 | 1 | 1 | EU |\n",
       "| 1&amp;1 internet | Germany | FirstTime | 1 | 2020-02-15 | 93767978 | rosalux.fun      | 2019-02-15 | Active | fun | 1&amp;1 internet | Non China | 1 | NA | Renewed    | 0 | auto-renewal | realized   | 2020-02-15 | 1&amp;1 Internet | 1&amp;1 Internet | 15 | 15 | 1 | 15 | 15 | 15 | fun1&amp;1 internet | rosalux      | l  |  7 | 7l  | 1 | 2.70805 |  2.34 | rosalux      | 1 | 1 | 1 | EU |\n",
       "| 1&amp;1 internet | Germany | FirstTime | 1 | 2020-02-16 | 93823708 | verygood.fun     | 2019-02-16 | Active | fun | 1&amp;1 internet | Non China | 1 | NA | Renewed    | 0 | auto-renewal | realized   | 2020-02-16 | 1&amp;1 Internet | 1&amp;1 Internet | 15 | 15 | 1 | 15 | 15 | 15 | fun1&amp;1 internet | verygood     | l  |  8 | 8l  | 1 | 2.70805 |  3.64 | verygood     | 1 | 1 | 1 | EU |\n",
       "\n"
      ],
      "text/plain": [
       "  reseller     reseller_country renewal_type renewed_count expiry_date\n",
       "1 1&1 internet Germany          FirstTime    1             2020-01-21 \n",
       "2 1&1 internet Germany          FirstTime    1             2020-01-30 \n",
       "3 1&1 internet Germany          FirstTime    1             2020-02-04 \n",
       "4 1&1 internet Germany          FirstTime    1             2020-02-12 \n",
       "5 1&1 internet Germany          FirstTime    1             2020-02-15 \n",
       "6 1&1 internet Germany          FirstTime    1             2020-02-16 \n",
       "  domain_id domain           creation_date status tld registrar    region   \n",
       "1 91584433  racefor.fun      2019-01-21    Active fun 1&1 internet Non China\n",
       "2 92254793  united4.fun      2019-01-30    Active fun 1&1 internet Non China\n",
       "3 92827233  bereal.fun       2019-02-04    Active fun 1&1 internet Non China\n",
       "4 93490823  dogsoutdoors.fun 2019-02-12    Active fun 1&1 internet Non China\n",
       "5 93767978  rosalux.fun      2019-02-15    Active fun 1&1 internet Non China\n",
       "6 93823708  verygood.fun     2019-02-16    Active fun 1&1 internet Non China\n",
       "  reg_period registrant_country renewal_status renew_mbg renew_type  \n",
       "1 1          NA                 Renewed        0         auto-renewal\n",
       "2 1          NA                 Renewed        0         auto-renewal\n",
       "3 1          NA                 Renewed        0         auto-renewal\n",
       "4 1          NA                 Not Renewd     0         auto-renewal\n",
       "5 1          NA                 Renewed        0         auto-renewal\n",
       "6 1          NA                 Renewed        0         auto-renewal\n",
       "  autorenew_type renew_date renew_registrar renew_reseller reg_revenue reg_arpt\n",
       "1 realized       2020-01-21 1&1 Internet    1&1 Internet   15          15      \n",
       "2 realized       2020-01-30 1&1 Internet    1&1 Internet   15          15      \n",
       "3 realized       2020-02-04 1&1 Internet    1&1 Internet   15          15      \n",
       "4 unrealized     2020-02-12 1&1 Internet    1&1 Internet   15          15      \n",
       "5 realized       2020-02-15 1&1 Internet    1&1 Internet   15          15      \n",
       "6 realized       2020-02-16 1&1 Internet    1&1 Internet   15          15      \n",
       "  renew_period renew_domain_revenue renew_arpt reg_arpt_org tld_registrar_index\n",
       "1 1            15                   15         15           fun1&1 internet    \n",
       "2 1            15                   15         15           fun1&1 internet    \n",
       "3 1            15                   15         15           fun1&1 internet    \n",
       "4 1            15                   15         15           fun1&1 internet    \n",
       "5 1            15                   15         15           fun1&1 internet    \n",
       "6 1            15                   15         15           fun1&1 internet    \n",
       "  sld          sld_type sld_length sld_type2 day_domains log_reg_arpt\n",
       "1 racefor      l         7         7l        1           2.70805     \n",
       "2 united4      ln        7         7ln       1           2.70805     \n",
       "3 bereal       l         6         6l        1           2.70805     \n",
       "4 dogsoutdoors l        12         12l       1           2.70805     \n",
       "5 rosalux      l         7         7l        1           2.70805     \n",
       "6 verygood     l         8         8l        1           2.70805     \n",
       "  gibb_score pattern      cluster pattern_score pattern_domain_count\n",
       "1  6.77      racefor      1       1             1                   \n",
       "2  8.65      united4      1       1             1                   \n",
       "3 13.09      bereal       1       1             1                   \n",
       "4  2.44      dogsoutdoors 1       1             1                   \n",
       "5  2.34      rosalux      1       1             1                   \n",
       "6  3.64      verygood     1       1             1                   \n",
       "  reseller_geo\n",
       "1 EU          \n",
       "2 EU          \n",
       "3 EU          \n",
       "4 EU          \n",
       "5 EU          \n",
       "6 EU          "
      ]
     },
     "metadata": {},
     "output_type": "display_data"
    }
   ],
   "source": [
    "i=1\n",
    "train_temp <- merge(train_list[[i]],geoLookupDF,on=c('reseller','reseller_country'), how='left')\n",
    "head(train_temp)"
   ]
  },
  {
   "cell_type": "code",
   "execution_count": 59,
   "metadata": {},
   "outputs": [],
   "source": [
    "train_list_2 <- lapply(train_list, function(x){\n",
    " x <- merge(x,geoLookupDF,on=c('reseller','reseller_country'), how='left')\n",
    " return(x)\n",
    "})\n"
   ]
  },
  {
   "cell_type": "code",
   "execution_count": 60,
   "metadata": {},
   "outputs": [
    {
     "data": {
      "text/html": [
       "1723"
      ],
      "text/latex": [
       "1723"
      ],
      "text/markdown": [
       "1723"
      ],
      "text/plain": [
       "[1] 1723"
      ]
     },
     "metadata": {},
     "output_type": "display_data"
    },
    {
     "data": {
      "text/html": [
       "<style>\n",
       ".list-inline {list-style: none; margin:0; padding: 0}\n",
       ".list-inline>li {display: inline-block}\n",
       ".list-inline>li:not(:last-child)::after {content: \"\\00b7\"; padding: 0 .5ex}\n",
       "</style>\n",
       "<ol class=list-inline><li>19</li><li>40</li></ol>\n"
      ],
      "text/latex": [
       "\\begin{enumerate*}\n",
       "\\item 19\n",
       "\\item 40\n",
       "\\end{enumerate*}\n"
      ],
      "text/markdown": [
       "1. 19\n",
       "2. 40\n",
       "\n",
       "\n"
      ],
      "text/plain": [
       "[1] 19 40"
      ]
     },
     "metadata": {},
     "output_type": "display_data"
    },
    {
     "data": {
      "text/html": [
       "<table>\n",
       "<caption>A data.table: 6 × 40</caption>\n",
       "<thead>\n",
       "\t<tr><th scope=col>reseller</th><th scope=col>reseller_country</th><th scope=col>renewal_type</th><th scope=col>renewed_count</th><th scope=col>expiry_date</th><th scope=col>domain_id</th><th scope=col>domain</th><th scope=col>creation_date</th><th scope=col>status</th><th scope=col>tld</th><th scope=col>registrar</th><th scope=col>region</th><th scope=col>reg_period</th><th scope=col>registrant_country</th><th scope=col>renewal_status</th><th scope=col>renew_mbg</th><th scope=col>renew_type</th><th scope=col>autorenew_type</th><th scope=col>renew_date</th><th scope=col>renew_registrar</th><th scope=col>renew_reseller</th><th scope=col>reg_revenue</th><th scope=col>reg_arpt</th><th scope=col>renew_period</th><th scope=col>renew_domain_revenue</th><th scope=col>renew_arpt</th><th scope=col>reg_arpt_org</th><th scope=col>tld_registrar_index</th><th scope=col>sld</th><th scope=col>sld_type</th><th scope=col>sld_length</th><th scope=col>sld_type2</th><th scope=col>day_domains</th><th scope=col>log_reg_arpt</th><th scope=col>gibb_score</th><th scope=col>pattern</th><th scope=col>cluster</th><th scope=col>pattern_score</th><th scope=col>pattern_domain_count</th><th scope=col>reseller_geo</th></tr>\n",
       "\t<tr><th scope=col>&lt;chr&gt;</th><th scope=col>&lt;chr&gt;</th><th scope=col>&lt;chr&gt;</th><th scope=col>&lt;int&gt;</th><th scope=col>&lt;date&gt;</th><th scope=col>&lt;int&gt;</th><th scope=col>&lt;chr&gt;</th><th scope=col>&lt;date&gt;</th><th scope=col>&lt;chr&gt;</th><th scope=col>&lt;fct&gt;</th><th scope=col>&lt;chr&gt;</th><th scope=col>&lt;chr&gt;</th><th scope=col>&lt;int&gt;</th><th scope=col>&lt;chr&gt;</th><th scope=col>&lt;fct&gt;</th><th scope=col>&lt;int&gt;</th><th scope=col>&lt;chr&gt;</th><th scope=col>&lt;chr&gt;</th><th scope=col>&lt;date&gt;</th><th scope=col>&lt;chr&gt;</th><th scope=col>&lt;chr&gt;</th><th scope=col>&lt;dbl&gt;</th><th scope=col>&lt;dbl&gt;</th><th scope=col>&lt;int&gt;</th><th scope=col>&lt;dbl&gt;</th><th scope=col>&lt;dbl&gt;</th><th scope=col>&lt;dbl&gt;</th><th scope=col>&lt;chr&gt;</th><th scope=col>&lt;chr&gt;</th><th scope=col>&lt;fct&gt;</th><th scope=col>&lt;int&gt;</th><th scope=col>&lt;chr&gt;</th><th scope=col>&lt;int&gt;</th><th scope=col>&lt;dbl&gt;</th><th scope=col>&lt;dbl&gt;</th><th scope=col>&lt;chr&gt;</th><th scope=col>&lt;chr&gt;</th><th scope=col>&lt;dbl&gt;</th><th scope=col>&lt;int&gt;</th><th scope=col>&lt;chr&gt;</th></tr>\n",
       "</thead>\n",
       "<tbody>\n",
       "\t<tr><td>1&amp;1 internet</td><td>Germany</td><td>FirstTime</td><td>1</td><td>2020-01-21</td><td>91584433</td><td><span style=white-space:pre-wrap>racefor.fun     </span></td><td>2019-01-21</td><td>Active</td><td>fun</td><td>1&amp;1 internet</td><td>Non China</td><td>1</td><td>NA</td><td><span style=white-space:pre-wrap>Renewed   </span></td><td>0</td><td>auto-renewal</td><td><span style=white-space:pre-wrap>realized  </span></td><td>2020-01-21</td><td>1&amp;1 Internet</td><td>1&amp;1 Internet</td><td>15</td><td>15</td><td>1</td><td>15</td><td>15</td><td>15</td><td>fun1&amp;1 internet</td><td><span style=white-space:pre-wrap>racefor     </span></td><td>l </td><td> 7</td><td>7l </td><td>1</td><td>2.70805</td><td> 6.77</td><td><span style=white-space:pre-wrap>racefor     </span></td><td>1</td><td>1</td><td>1</td><td>EU</td></tr>\n",
       "\t<tr><td>1&amp;1 internet</td><td>Germany</td><td>FirstTime</td><td>1</td><td>2020-01-30</td><td>92254793</td><td><span style=white-space:pre-wrap>united4.fun     </span></td><td>2019-01-30</td><td>Active</td><td>fun</td><td>1&amp;1 internet</td><td>Non China</td><td>1</td><td>NA</td><td><span style=white-space:pre-wrap>Renewed   </span></td><td>0</td><td>auto-renewal</td><td><span style=white-space:pre-wrap>realized  </span></td><td>2020-01-30</td><td>1&amp;1 Internet</td><td>1&amp;1 Internet</td><td>15</td><td>15</td><td>1</td><td>15</td><td>15</td><td>15</td><td>fun1&amp;1 internet</td><td><span style=white-space:pre-wrap>united4     </span></td><td>ln</td><td> 7</td><td>7ln</td><td>1</td><td>2.70805</td><td> 8.65</td><td><span style=white-space:pre-wrap>united4     </span></td><td>1</td><td>1</td><td>1</td><td>EU</td></tr>\n",
       "\t<tr><td>1&amp;1 internet</td><td>Germany</td><td>FirstTime</td><td>1</td><td>2020-02-04</td><td>92827233</td><td><span style=white-space:pre-wrap>bereal.fun      </span></td><td>2019-02-04</td><td>Active</td><td>fun</td><td>1&amp;1 internet</td><td>Non China</td><td>1</td><td>NA</td><td><span style=white-space:pre-wrap>Renewed   </span></td><td>0</td><td>auto-renewal</td><td><span style=white-space:pre-wrap>realized  </span></td><td>2020-02-04</td><td>1&amp;1 Internet</td><td>1&amp;1 Internet</td><td>15</td><td>15</td><td>1</td><td>15</td><td>15</td><td>15</td><td>fun1&amp;1 internet</td><td><span style=white-space:pre-wrap>bereal      </span></td><td>l </td><td> 6</td><td>6l </td><td>1</td><td>2.70805</td><td>13.09</td><td><span style=white-space:pre-wrap>bereal      </span></td><td>1</td><td>1</td><td>1</td><td>EU</td></tr>\n",
       "\t<tr><td>1&amp;1 internet</td><td>Germany</td><td>FirstTime</td><td>1</td><td>2020-02-12</td><td>93490823</td><td>dogsoutdoors.fun</td><td>2019-02-12</td><td>Active</td><td>fun</td><td>1&amp;1 internet</td><td>Non China</td><td>1</td><td>NA</td><td>Not Renewd</td><td>0</td><td>auto-renewal</td><td>unrealized</td><td>2020-02-12</td><td>1&amp;1 Internet</td><td>1&amp;1 Internet</td><td>15</td><td>15</td><td>1</td><td>15</td><td>15</td><td>15</td><td>fun1&amp;1 internet</td><td>dogsoutdoors</td><td>l </td><td>12</td><td>12l</td><td>1</td><td>2.70805</td><td> 2.44</td><td>dogsoutdoors</td><td>1</td><td>1</td><td>1</td><td>EU</td></tr>\n",
       "\t<tr><td>1&amp;1 internet</td><td>Germany</td><td>FirstTime</td><td>1</td><td>2020-02-15</td><td>93767978</td><td><span style=white-space:pre-wrap>rosalux.fun     </span></td><td>2019-02-15</td><td>Active</td><td>fun</td><td>1&amp;1 internet</td><td>Non China</td><td>1</td><td>NA</td><td><span style=white-space:pre-wrap>Renewed   </span></td><td>0</td><td>auto-renewal</td><td><span style=white-space:pre-wrap>realized  </span></td><td>2020-02-15</td><td>1&amp;1 Internet</td><td>1&amp;1 Internet</td><td>15</td><td>15</td><td>1</td><td>15</td><td>15</td><td>15</td><td>fun1&amp;1 internet</td><td><span style=white-space:pre-wrap>rosalux     </span></td><td>l </td><td> 7</td><td>7l </td><td>1</td><td>2.70805</td><td> 2.34</td><td><span style=white-space:pre-wrap>rosalux     </span></td><td>1</td><td>1</td><td>1</td><td>EU</td></tr>\n",
       "\t<tr><td>1&amp;1 internet</td><td>Germany</td><td>FirstTime</td><td>1</td><td>2020-02-16</td><td>93823708</td><td><span style=white-space:pre-wrap>verygood.fun    </span></td><td>2019-02-16</td><td>Active</td><td>fun</td><td>1&amp;1 internet</td><td>Non China</td><td>1</td><td>NA</td><td><span style=white-space:pre-wrap>Renewed   </span></td><td>0</td><td>auto-renewal</td><td><span style=white-space:pre-wrap>realized  </span></td><td>2020-02-16</td><td>1&amp;1 Internet</td><td>1&amp;1 Internet</td><td>15</td><td>15</td><td>1</td><td>15</td><td>15</td><td>15</td><td>fun1&amp;1 internet</td><td><span style=white-space:pre-wrap>verygood    </span></td><td>l </td><td> 8</td><td>8l </td><td>1</td><td>2.70805</td><td> 3.64</td><td><span style=white-space:pre-wrap>verygood    </span></td><td>1</td><td>1</td><td>1</td><td>EU</td></tr>\n",
       "</tbody>\n",
       "</table>\n"
      ],
      "text/latex": [
       "A data.table: 6 × 40\n",
       "\\begin{tabular}{llllllllllllllllllllllllllllllllllllllll}\n",
       " reseller & reseller\\_country & renewal\\_type & renewed\\_count & expiry\\_date & domain\\_id & domain & creation\\_date & status & tld & registrar & region & reg\\_period & registrant\\_country & renewal\\_status & renew\\_mbg & renew\\_type & autorenew\\_type & renew\\_date & renew\\_registrar & renew\\_reseller & reg\\_revenue & reg\\_arpt & renew\\_period & renew\\_domain\\_revenue & renew\\_arpt & reg\\_arpt\\_org & tld\\_registrar\\_index & sld & sld\\_type & sld\\_length & sld\\_type2 & day\\_domains & log\\_reg\\_arpt & gibb\\_score & pattern & cluster & pattern\\_score & pattern\\_domain\\_count & reseller\\_geo\\\\\n",
       " <chr> & <chr> & <chr> & <int> & <date> & <int> & <chr> & <date> & <chr> & <fct> & <chr> & <chr> & <int> & <chr> & <fct> & <int> & <chr> & <chr> & <date> & <chr> & <chr> & <dbl> & <dbl> & <int> & <dbl> & <dbl> & <dbl> & <chr> & <chr> & <fct> & <int> & <chr> & <int> & <dbl> & <dbl> & <chr> & <chr> & <dbl> & <int> & <chr>\\\\\n",
       "\\hline\n",
       "\t 1\\&1 internet & Germany & FirstTime & 1 & 2020-01-21 & 91584433 & racefor.fun      & 2019-01-21 & Active & fun & 1\\&1 internet & Non China & 1 & NA & Renewed    & 0 & auto-renewal & realized   & 2020-01-21 & 1\\&1 Internet & 1\\&1 Internet & 15 & 15 & 1 & 15 & 15 & 15 & fun1\\&1 internet & racefor      & l  &  7 & 7l  & 1 & 2.70805 &  6.77 & racefor      & 1 & 1 & 1 & EU\\\\\n",
       "\t 1\\&1 internet & Germany & FirstTime & 1 & 2020-01-30 & 92254793 & united4.fun      & 2019-01-30 & Active & fun & 1\\&1 internet & Non China & 1 & NA & Renewed    & 0 & auto-renewal & realized   & 2020-01-30 & 1\\&1 Internet & 1\\&1 Internet & 15 & 15 & 1 & 15 & 15 & 15 & fun1\\&1 internet & united4      & ln &  7 & 7ln & 1 & 2.70805 &  8.65 & united4      & 1 & 1 & 1 & EU\\\\\n",
       "\t 1\\&1 internet & Germany & FirstTime & 1 & 2020-02-04 & 92827233 & bereal.fun       & 2019-02-04 & Active & fun & 1\\&1 internet & Non China & 1 & NA & Renewed    & 0 & auto-renewal & realized   & 2020-02-04 & 1\\&1 Internet & 1\\&1 Internet & 15 & 15 & 1 & 15 & 15 & 15 & fun1\\&1 internet & bereal       & l  &  6 & 6l  & 1 & 2.70805 & 13.09 & bereal       & 1 & 1 & 1 & EU\\\\\n",
       "\t 1\\&1 internet & Germany & FirstTime & 1 & 2020-02-12 & 93490823 & dogsoutdoors.fun & 2019-02-12 & Active & fun & 1\\&1 internet & Non China & 1 & NA & Not Renewd & 0 & auto-renewal & unrealized & 2020-02-12 & 1\\&1 Internet & 1\\&1 Internet & 15 & 15 & 1 & 15 & 15 & 15 & fun1\\&1 internet & dogsoutdoors & l  & 12 & 12l & 1 & 2.70805 &  2.44 & dogsoutdoors & 1 & 1 & 1 & EU\\\\\n",
       "\t 1\\&1 internet & Germany & FirstTime & 1 & 2020-02-15 & 93767978 & rosalux.fun      & 2019-02-15 & Active & fun & 1\\&1 internet & Non China & 1 & NA & Renewed    & 0 & auto-renewal & realized   & 2020-02-15 & 1\\&1 Internet & 1\\&1 Internet & 15 & 15 & 1 & 15 & 15 & 15 & fun1\\&1 internet & rosalux      & l  &  7 & 7l  & 1 & 2.70805 &  2.34 & rosalux      & 1 & 1 & 1 & EU\\\\\n",
       "\t 1\\&1 internet & Germany & FirstTime & 1 & 2020-02-16 & 93823708 & verygood.fun     & 2019-02-16 & Active & fun & 1\\&1 internet & Non China & 1 & NA & Renewed    & 0 & auto-renewal & realized   & 2020-02-16 & 1\\&1 Internet & 1\\&1 Internet & 15 & 15 & 1 & 15 & 15 & 15 & fun1\\&1 internet & verygood     & l  &  8 & 8l  & 1 & 2.70805 &  3.64 & verygood     & 1 & 1 & 1 & EU\\\\\n",
       "\\end{tabular}\n"
      ],
      "text/markdown": [
       "\n",
       "A data.table: 6 × 40\n",
       "\n",
       "| reseller &lt;chr&gt; | reseller_country &lt;chr&gt; | renewal_type &lt;chr&gt; | renewed_count &lt;int&gt; | expiry_date &lt;date&gt; | domain_id &lt;int&gt; | domain &lt;chr&gt; | creation_date &lt;date&gt; | status &lt;chr&gt; | tld &lt;fct&gt; | registrar &lt;chr&gt; | region &lt;chr&gt; | reg_period &lt;int&gt; | registrant_country &lt;chr&gt; | renewal_status &lt;fct&gt; | renew_mbg &lt;int&gt; | renew_type &lt;chr&gt; | autorenew_type &lt;chr&gt; | renew_date &lt;date&gt; | renew_registrar &lt;chr&gt; | renew_reseller &lt;chr&gt; | reg_revenue &lt;dbl&gt; | reg_arpt &lt;dbl&gt; | renew_period &lt;int&gt; | renew_domain_revenue &lt;dbl&gt; | renew_arpt &lt;dbl&gt; | reg_arpt_org &lt;dbl&gt; | tld_registrar_index &lt;chr&gt; | sld &lt;chr&gt; | sld_type &lt;fct&gt; | sld_length &lt;int&gt; | sld_type2 &lt;chr&gt; | day_domains &lt;int&gt; | log_reg_arpt &lt;dbl&gt; | gibb_score &lt;dbl&gt; | pattern &lt;chr&gt; | cluster &lt;chr&gt; | pattern_score &lt;dbl&gt; | pattern_domain_count &lt;int&gt; | reseller_geo &lt;chr&gt; |\n",
       "|---|---|---|---|---|---|---|---|---|---|---|---|---|---|---|---|---|---|---|---|---|---|---|---|---|---|---|---|---|---|---|---|---|---|---|---|---|---|---|---|\n",
       "| 1&amp;1 internet | Germany | FirstTime | 1 | 2020-01-21 | 91584433 | racefor.fun      | 2019-01-21 | Active | fun | 1&amp;1 internet | Non China | 1 | NA | Renewed    | 0 | auto-renewal | realized   | 2020-01-21 | 1&amp;1 Internet | 1&amp;1 Internet | 15 | 15 | 1 | 15 | 15 | 15 | fun1&amp;1 internet | racefor      | l  |  7 | 7l  | 1 | 2.70805 |  6.77 | racefor      | 1 | 1 | 1 | EU |\n",
       "| 1&amp;1 internet | Germany | FirstTime | 1 | 2020-01-30 | 92254793 | united4.fun      | 2019-01-30 | Active | fun | 1&amp;1 internet | Non China | 1 | NA | Renewed    | 0 | auto-renewal | realized   | 2020-01-30 | 1&amp;1 Internet | 1&amp;1 Internet | 15 | 15 | 1 | 15 | 15 | 15 | fun1&amp;1 internet | united4      | ln |  7 | 7ln | 1 | 2.70805 |  8.65 | united4      | 1 | 1 | 1 | EU |\n",
       "| 1&amp;1 internet | Germany | FirstTime | 1 | 2020-02-04 | 92827233 | bereal.fun       | 2019-02-04 | Active | fun | 1&amp;1 internet | Non China | 1 | NA | Renewed    | 0 | auto-renewal | realized   | 2020-02-04 | 1&amp;1 Internet | 1&amp;1 Internet | 15 | 15 | 1 | 15 | 15 | 15 | fun1&amp;1 internet | bereal       | l  |  6 | 6l  | 1 | 2.70805 | 13.09 | bereal       | 1 | 1 | 1 | EU |\n",
       "| 1&amp;1 internet | Germany | FirstTime | 1 | 2020-02-12 | 93490823 | dogsoutdoors.fun | 2019-02-12 | Active | fun | 1&amp;1 internet | Non China | 1 | NA | Not Renewd | 0 | auto-renewal | unrealized | 2020-02-12 | 1&amp;1 Internet | 1&amp;1 Internet | 15 | 15 | 1 | 15 | 15 | 15 | fun1&amp;1 internet | dogsoutdoors | l  | 12 | 12l | 1 | 2.70805 |  2.44 | dogsoutdoors | 1 | 1 | 1 | EU |\n",
       "| 1&amp;1 internet | Germany | FirstTime | 1 | 2020-02-15 | 93767978 | rosalux.fun      | 2019-02-15 | Active | fun | 1&amp;1 internet | Non China | 1 | NA | Renewed    | 0 | auto-renewal | realized   | 2020-02-15 | 1&amp;1 Internet | 1&amp;1 Internet | 15 | 15 | 1 | 15 | 15 | 15 | fun1&amp;1 internet | rosalux      | l  |  7 | 7l  | 1 | 2.70805 |  2.34 | rosalux      | 1 | 1 | 1 | EU |\n",
       "| 1&amp;1 internet | Germany | FirstTime | 1 | 2020-02-16 | 93823708 | verygood.fun     | 2019-02-16 | Active | fun | 1&amp;1 internet | Non China | 1 | NA | Renewed    | 0 | auto-renewal | realized   | 2020-02-16 | 1&amp;1 Internet | 1&amp;1 Internet | 15 | 15 | 1 | 15 | 15 | 15 | fun1&amp;1 internet | verygood     | l  |  8 | 8l  | 1 | 2.70805 |  3.64 | verygood     | 1 | 1 | 1 | EU |\n",
       "\n"
      ],
      "text/plain": [
       "  reseller     reseller_country renewal_type renewed_count expiry_date\n",
       "1 1&1 internet Germany          FirstTime    1             2020-01-21 \n",
       "2 1&1 internet Germany          FirstTime    1             2020-01-30 \n",
       "3 1&1 internet Germany          FirstTime    1             2020-02-04 \n",
       "4 1&1 internet Germany          FirstTime    1             2020-02-12 \n",
       "5 1&1 internet Germany          FirstTime    1             2020-02-15 \n",
       "6 1&1 internet Germany          FirstTime    1             2020-02-16 \n",
       "  domain_id domain           creation_date status tld registrar    region   \n",
       "1 91584433  racefor.fun      2019-01-21    Active fun 1&1 internet Non China\n",
       "2 92254793  united4.fun      2019-01-30    Active fun 1&1 internet Non China\n",
       "3 92827233  bereal.fun       2019-02-04    Active fun 1&1 internet Non China\n",
       "4 93490823  dogsoutdoors.fun 2019-02-12    Active fun 1&1 internet Non China\n",
       "5 93767978  rosalux.fun      2019-02-15    Active fun 1&1 internet Non China\n",
       "6 93823708  verygood.fun     2019-02-16    Active fun 1&1 internet Non China\n",
       "  reg_period registrant_country renewal_status renew_mbg renew_type  \n",
       "1 1          NA                 Renewed        0         auto-renewal\n",
       "2 1          NA                 Renewed        0         auto-renewal\n",
       "3 1          NA                 Renewed        0         auto-renewal\n",
       "4 1          NA                 Not Renewd     0         auto-renewal\n",
       "5 1          NA                 Renewed        0         auto-renewal\n",
       "6 1          NA                 Renewed        0         auto-renewal\n",
       "  autorenew_type renew_date renew_registrar renew_reseller reg_revenue reg_arpt\n",
       "1 realized       2020-01-21 1&1 Internet    1&1 Internet   15          15      \n",
       "2 realized       2020-01-30 1&1 Internet    1&1 Internet   15          15      \n",
       "3 realized       2020-02-04 1&1 Internet    1&1 Internet   15          15      \n",
       "4 unrealized     2020-02-12 1&1 Internet    1&1 Internet   15          15      \n",
       "5 realized       2020-02-15 1&1 Internet    1&1 Internet   15          15      \n",
       "6 realized       2020-02-16 1&1 Internet    1&1 Internet   15          15      \n",
       "  renew_period renew_domain_revenue renew_arpt reg_arpt_org tld_registrar_index\n",
       "1 1            15                   15         15           fun1&1 internet    \n",
       "2 1            15                   15         15           fun1&1 internet    \n",
       "3 1            15                   15         15           fun1&1 internet    \n",
       "4 1            15                   15         15           fun1&1 internet    \n",
       "5 1            15                   15         15           fun1&1 internet    \n",
       "6 1            15                   15         15           fun1&1 internet    \n",
       "  sld          sld_type sld_length sld_type2 day_domains log_reg_arpt\n",
       "1 racefor      l         7         7l        1           2.70805     \n",
       "2 united4      ln        7         7ln       1           2.70805     \n",
       "3 bereal       l         6         6l        1           2.70805     \n",
       "4 dogsoutdoors l        12         12l       1           2.70805     \n",
       "5 rosalux      l         7         7l        1           2.70805     \n",
       "6 verygood     l         8         8l        1           2.70805     \n",
       "  gibb_score pattern      cluster pattern_score pattern_domain_count\n",
       "1  6.77      racefor      1       1             1                   \n",
       "2  8.65      united4      1       1             1                   \n",
       "3 13.09      bereal       1       1             1                   \n",
       "4  2.44      dogsoutdoors 1       1             1                   \n",
       "5  2.34      rosalux      1       1             1                   \n",
       "6  3.64      verygood     1       1             1                   \n",
       "  reseller_geo\n",
       "1 EU          \n",
       "2 EU          \n",
       "3 EU          \n",
       "4 EU          \n",
       "5 EU          \n",
       "6 EU          "
      ]
     },
     "metadata": {},
     "output_type": "display_data"
    }
   ],
   "source": [
    "length(train_list_2)\n",
    "dim(train_list_2[[1]])\n",
    "head(train_list_2[[1]])"
   ]
  },
  {
   "cell_type": "code",
   "execution_count": null,
   "metadata": {},
   "outputs": [],
   "source": []
  },
  {
   "cell_type": "code",
   "execution_count": null,
   "metadata": {},
   "outputs": [],
   "source": []
  },
  {
   "cell_type": "code",
   "execution_count": 33,
   "metadata": {},
   "outputs": [],
   "source": [
    "system(\"gsutil cp /home/jupyter/local/Domains_202003/data/output/* gs://data_outputt/output/\")\n",
    "system(\"mv /home/jupyter/local/Domains_202003/data/output/* /home/jupyter/local/Domains_202003/data/\")"
   ]
  },
  {
   "cell_type": "code",
   "execution_count": null,
   "metadata": {},
   "outputs": [],
   "source": []
  }
 ],
 "metadata": {
  "environment": {
   "name": "r-cpu.3-6.m48",
   "type": "gcloud",
   "uri": "gcr.io/deeplearning-platform-release/r-cpu.3-6:m48"
  },
  "kernelspec": {
   "display_name": "R",
   "language": "R",
   "name": "ir"
  },
  "language_info": {
   "codemirror_mode": "r",
   "file_extension": ".r",
   "mimetype": "text/x-r-source",
   "name": "R",
   "pygments_lexer": "r",
   "version": "3.6.3"
  }
 },
 "nbformat": 4,
 "nbformat_minor": 4
}
