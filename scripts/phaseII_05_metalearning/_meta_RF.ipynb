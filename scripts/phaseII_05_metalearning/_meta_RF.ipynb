{
 "cells": [
  {
   "cell_type": "markdown",
   "metadata": {},
   "source": [
    "# RF: ANALYZE tld_reseller model performance comparison (w/ reseller_geo)"
   ]
  },
  {
   "cell_type": "code",
   "execution_count": 1,
   "metadata": {},
   "outputs": [],
   "source": [
    "options(repr.matrix.max.cols=50, repr.matrix.max.rows=100)"
   ]
  },
  {
   "cell_type": "code",
   "execution_count": 2,
   "metadata": {},
   "outputs": [],
   "source": [
    "# install.packages(\"pkgcond\")"
   ]
  },
  {
   "cell_type": "code",
   "execution_count": 3,
   "metadata": {},
   "outputs": [
    {
     "name": "stderr",
     "output_type": "stream",
     "text": [
      "\n",
      "Attaching package: ‘dplyr’\n",
      "\n",
      "\n",
      "The following objects are masked from ‘package:stats’:\n",
      "\n",
      "    filter, lag\n",
      "\n",
      "\n",
      "The following objects are masked from ‘package:base’:\n",
      "\n",
      "    intersect, setdiff, setequal, union\n",
      "\n",
      "\n",
      "\n",
      "Attaching package: ‘data.table’\n",
      "\n",
      "\n",
      "The following objects are masked from ‘package:dplyr’:\n",
      "\n",
      "    between, first, last\n",
      "\n",
      "\n",
      "Loading required package: grid\n",
      "\n",
      "Loading required package: libcoin\n",
      "\n",
      "Loading required package: mvtnorm\n",
      "\n",
      "Loading required package: lattice\n",
      "\n",
      "Loading required package: ggplot2\n",
      "\n",
      "randomForest 4.6-14\n",
      "\n",
      "Type rfNews() to see new features/changes/bug fixes.\n",
      "\n",
      "\n",
      "Attaching package: ‘randomForest’\n",
      "\n",
      "\n",
      "The following object is masked from ‘package:ggplot2’:\n",
      "\n",
      "    margin\n",
      "\n",
      "\n",
      "The following object is masked from ‘package:dplyr’:\n",
      "\n",
      "    combine\n",
      "\n",
      "\n",
      "\n",
      "Attaching package: ‘ranger’\n",
      "\n",
      "\n",
      "The following object is masked from ‘package:randomForest’:\n",
      "\n",
      "    importance\n",
      "\n",
      "\n",
      "\n",
      "Attaching package: ‘plotly’\n",
      "\n",
      "\n",
      "The following object is masked from ‘package:ggplot2’:\n",
      "\n",
      "    last_plot\n",
      "\n",
      "\n",
      "The following object is masked from ‘package:stats’:\n",
      "\n",
      "    filter\n",
      "\n",
      "\n",
      "The following object is masked from ‘package:graphics’:\n",
      "\n",
      "    layout\n",
      "\n",
      "\n",
      "Loading required package: RJSONIO\n",
      "\n"
     ]
    },
    {
     "data": {
      "text/html": [
       "'/home/jupyter/local/Domains_202003/scripts/phaseII_05_metalearning'"
      ],
      "text/latex": [
       "'/home/jupyter/local/Domains\\_202003/scripts/phaseII\\_05\\_metalearning'"
      ],
      "text/markdown": [
       "'/home/jupyter/local/Domains_202003/scripts/phaseII_05_metalearning'"
      ],
      "text/plain": [
       "[1] \"/home/jupyter/local/Domains_202003/scripts/phaseII_05_metalearning\""
      ]
     },
     "metadata": {},
     "output_type": "display_data"
    }
   ],
   "source": [
    "library(dplyr)\n",
    "library(data.table)\n",
    "library(partykit)\n",
    "library(tictoc)\n",
    "library(caret)\n",
    "library(e1071)\n",
    "library(randomForest)\n",
    "library(ranger)\n",
    "\n",
    "#for 3d plotting\n",
    "library(akima)\n",
    "library(plotly)\n",
    "\n",
    "# for prep data\n",
    "library(rPython)\n",
    "library(stringr)\n",
    "library(pbapply)\n",
    "library(stringdist)\n",
    "library(data.table)\n",
    "library(dominanceanalysis)\n",
    "\n",
    "\n",
    "getwd()"
   ]
  },
  {
   "cell_type": "markdown",
   "metadata": {},
   "source": [
    "## List tld_reseller labels"
   ]
  },
  {
   "cell_type": "code",
   "execution_count": 5,
   "metadata": {},
   "outputs": [
    {
     "data": {
      "text/html": [
       "<table>\n",
       "<caption>A grouped_df: 6 × 3</caption>\n",
       "<thead>\n",
       "\t<tr><th scope=col>tld_registrar_index</th><th scope=col>reseller</th><th scope=col>n</th></tr>\n",
       "\t<tr><th scope=col>&lt;chr&gt;</th><th scope=col>&lt;chr&gt;</th><th scope=col>&lt;int&gt;</th></tr>\n",
       "</thead>\n",
       "<tbody>\n",
       "\t<tr><td>sitegmo       </td><td>gmo      </td><td>106569</td></tr>\n",
       "\t<tr><td>funalibaba    </td><td>alibaba  </td><td> 72690</td></tr>\n",
       "\t<tr><td>sitenamecheap </td><td>namecheap</td><td> 53536</td></tr>\n",
       "\t<tr><td>pwnamecheap   </td><td>namecheap</td><td> 50470</td></tr>\n",
       "\t<tr><td>onlinego daddy</td><td>go daddy </td><td> 42162</td></tr>\n",
       "\t<tr><td>sitegandi sas </td><td>gandi sas</td><td> 35309</td></tr>\n",
       "</tbody>\n",
       "</table>\n"
      ],
      "text/latex": [
       "A grouped\\_df: 6 × 3\n",
       "\\begin{tabular}{lll}\n",
       " tld\\_registrar\\_index & reseller & n\\\\\n",
       " <chr> & <chr> & <int>\\\\\n",
       "\\hline\n",
       "\t sitegmo        & gmo       & 106569\\\\\n",
       "\t funalibaba     & alibaba   &  72690\\\\\n",
       "\t sitenamecheap  & namecheap &  53536\\\\\n",
       "\t pwnamecheap    & namecheap &  50470\\\\\n",
       "\t onlinego daddy & go daddy  &  42162\\\\\n",
       "\t sitegandi sas  & gandi sas &  35309\\\\\n",
       "\\end{tabular}\n"
      ],
      "text/markdown": [
       "\n",
       "A grouped_df: 6 × 3\n",
       "\n",
       "| tld_registrar_index &lt;chr&gt; | reseller &lt;chr&gt; | n &lt;int&gt; |\n",
       "|---|---|---|\n",
       "| sitegmo        | gmo       | 106569 |\n",
       "| funalibaba     | alibaba   |  72690 |\n",
       "| sitenamecheap  | namecheap |  53536 |\n",
       "| pwnamecheap    | namecheap |  50470 |\n",
       "| onlinego daddy | go daddy  |  42162 |\n",
       "| sitegandi sas  | gandi sas |  35309 |\n",
       "\n"
      ],
      "text/plain": [
       "  tld_registrar_index reseller  n     \n",
       "1 sitegmo             gmo       106569\n",
       "2 funalibaba          alibaba    72690\n",
       "3 sitenamecheap       namecheap  53536\n",
       "4 pwnamecheap         namecheap  50470\n",
       "5 onlinego daddy      go daddy   42162\n",
       "6 sitegandi sas       gandi sas  35309"
      ]
     },
     "metadata": {},
     "output_type": "display_data"
    }
   ],
   "source": [
    "tld_reseller_lookup_df = expiry_train_df_1 %>% group_by(tld_registrar_index, reseller) %>% tally() %>% arrange(desc(n))\n",
    "tld_reseller_lookup_df %>% head()"
   ]
  },
  {
   "cell_type": "markdown",
   "metadata": {},
   "source": [
    "## Load PREPed tld_reseller compare"
   ]
  },
  {
   "cell_type": "code",
   "execution_count": 6,
   "metadata": {},
   "outputs": [
    {
     "data": {
      "text/html": [
       "<style>\n",
       ".list-inline {list-style: none; margin:0; padding: 0}\n",
       ".list-inline>li {display: inline-block}\n",
       ".list-inline>li:not(:last-child)::after {content: \"\\00b7\"; padding: 0 .5ex}\n",
       "</style>\n",
       "<ol class=list-inline><li>297100</li><li>12</li></ol>\n"
      ],
      "text/latex": [
       "\\begin{enumerate*}\n",
       "\\item 297100\n",
       "\\item 12\n",
       "\\end{enumerate*}\n"
      ],
      "text/markdown": [
       "1. 297100\n",
       "2. 12\n",
       "\n",
       "\n"
      ],
      "text/plain": [
       "[1] 297100     12"
      ]
     },
     "metadata": {},
     "output_type": "display_data"
    },
    {
     "data": {
      "text/html": [
       "<table>\n",
       "<caption>A data.frame: 6 × 12</caption>\n",
       "<thead>\n",
       "\t<tr><th></th><th scope=col>actual</th><th scope=col>pred_df_seg2_glm</th><th scope=col>pred_df_seg_glm</th><th scope=col>pred_df_agg_glm</th><th scope=col>pred_df_seg2_rf</th><th scope=col>pred_df_seg_rf</th><th scope=col>pred_df_agg_rf</th><th scope=col>tld_registrar_index</th><th scope=col>reseller</th><th scope=col>n</th><th scope=col>domain_id</th><th scope=col>domain</th></tr>\n",
       "\t<tr><th></th><th scope=col>&lt;fct&gt;</th><th scope=col>&lt;dbl&gt;</th><th scope=col>&lt;dbl&gt;</th><th scope=col>&lt;dbl&gt;</th><th scope=col>&lt;dbl&gt;</th><th scope=col>&lt;dbl&gt;</th><th scope=col>&lt;dbl&gt;</th><th scope=col>&lt;fct&gt;</th><th scope=col>&lt;fct&gt;</th><th scope=col>&lt;int&gt;</th><th scope=col>&lt;int&gt;</th><th scope=col>&lt;fct&gt;</th></tr>\n",
       "</thead>\n",
       "<tbody>\n",
       "\t<tr><th scope=row>1</th><td>Not Renewd</td><td>0.6470992</td><td>0.558</td><td>0.419</td><td>0.4765771</td><td>0.4545657</td><td>0.5386137</td><td>sitegmo</td><td>gmo</td><td>106569</td><td>44295183</td><td>kagen.site           </td></tr>\n",
       "\t<tr><th scope=row>2</th><td>Renewed   </td><td>0.6762222</td><td>0.567</td><td>0.397</td><td>0.5410605</td><td>0.5769973</td><td>0.6091513</td><td>sitegmo</td><td>gmo</td><td>106569</td><td>44573611</td><td>designlab.site       </td></tr>\n",
       "\t<tr><th scope=row>3</th><td>Renewed   </td><td>0.9098495</td><td>0.835</td><td>0.410</td><td>0.7018108</td><td>0.6343404</td><td>0.6886680</td><td>sitegmo</td><td>gmo</td><td>106569</td><td>45304858</td><td>hokatu-blog.site     </td></tr>\n",
       "\t<tr><th scope=row>4</th><td>Renewed   </td><td>0.6029350</td><td>0.515</td><td>0.402</td><td>0.2414726</td><td>0.3999603</td><td>0.3464197</td><td>sitegmo</td><td>gmo</td><td>106569</td><td>46235129</td><td>suzuya.site          </td></tr>\n",
       "\t<tr><th scope=row>5</th><td>Not Renewd</td><td>0.9311321</td><td>0.863</td><td>0.417</td><td>0.7749462</td><td>0.7039504</td><td>0.6711740</td><td>sitegmo</td><td>gmo</td><td>106569</td><td>46276970</td><td>wins-company.site    </td></tr>\n",
       "\t<tr><th scope=row>6</th><td>Renewed   </td><td>0.9347869</td><td>0.861</td><td>0.391</td><td>0.6376848</td><td>0.6566740</td><td>0.6717237</td><td>sitegmo</td><td>gmo</td><td>106569</td><td>47809960</td><td>yamatoku-company.site</td></tr>\n",
       "</tbody>\n",
       "</table>\n"
      ],
      "text/latex": [
       "A data.frame: 6 × 12\n",
       "\\begin{tabular}{r|llllllllllll}\n",
       "  & actual & pred\\_df\\_seg2\\_glm & pred\\_df\\_seg\\_glm & pred\\_df\\_agg\\_glm & pred\\_df\\_seg2\\_rf & pred\\_df\\_seg\\_rf & pred\\_df\\_agg\\_rf & tld\\_registrar\\_index & reseller & n & domain\\_id & domain\\\\\n",
       "  & <fct> & <dbl> & <dbl> & <dbl> & <dbl> & <dbl> & <dbl> & <fct> & <fct> & <int> & <int> & <fct>\\\\\n",
       "\\hline\n",
       "\t1 & Not Renewd & 0.6470992 & 0.558 & 0.419 & 0.4765771 & 0.4545657 & 0.5386137 & sitegmo & gmo & 106569 & 44295183 & kagen.site           \\\\\n",
       "\t2 & Renewed    & 0.6762222 & 0.567 & 0.397 & 0.5410605 & 0.5769973 & 0.6091513 & sitegmo & gmo & 106569 & 44573611 & designlab.site       \\\\\n",
       "\t3 & Renewed    & 0.9098495 & 0.835 & 0.410 & 0.7018108 & 0.6343404 & 0.6886680 & sitegmo & gmo & 106569 & 45304858 & hokatu-blog.site     \\\\\n",
       "\t4 & Renewed    & 0.6029350 & 0.515 & 0.402 & 0.2414726 & 0.3999603 & 0.3464197 & sitegmo & gmo & 106569 & 46235129 & suzuya.site          \\\\\n",
       "\t5 & Not Renewd & 0.9311321 & 0.863 & 0.417 & 0.7749462 & 0.7039504 & 0.6711740 & sitegmo & gmo & 106569 & 46276970 & wins-company.site    \\\\\n",
       "\t6 & Renewed    & 0.9347869 & 0.861 & 0.391 & 0.6376848 & 0.6566740 & 0.6717237 & sitegmo & gmo & 106569 & 47809960 & yamatoku-company.site\\\\\n",
       "\\end{tabular}\n"
      ],
      "text/markdown": [
       "\n",
       "A data.frame: 6 × 12\n",
       "\n",
       "| <!--/--> | actual &lt;fct&gt; | pred_df_seg2_glm &lt;dbl&gt; | pred_df_seg_glm &lt;dbl&gt; | pred_df_agg_glm &lt;dbl&gt; | pred_df_seg2_rf &lt;dbl&gt; | pred_df_seg_rf &lt;dbl&gt; | pred_df_agg_rf &lt;dbl&gt; | tld_registrar_index &lt;fct&gt; | reseller &lt;fct&gt; | n &lt;int&gt; | domain_id &lt;int&gt; | domain &lt;fct&gt; |\n",
       "|---|---|---|---|---|---|---|---|---|---|---|---|---|\n",
       "| 1 | Not Renewd | 0.6470992 | 0.558 | 0.419 | 0.4765771 | 0.4545657 | 0.5386137 | sitegmo | gmo | 106569 | 44295183 | kagen.site            |\n",
       "| 2 | Renewed    | 0.6762222 | 0.567 | 0.397 | 0.5410605 | 0.5769973 | 0.6091513 | sitegmo | gmo | 106569 | 44573611 | designlab.site        |\n",
       "| 3 | Renewed    | 0.9098495 | 0.835 | 0.410 | 0.7018108 | 0.6343404 | 0.6886680 | sitegmo | gmo | 106569 | 45304858 | hokatu-blog.site      |\n",
       "| 4 | Renewed    | 0.6029350 | 0.515 | 0.402 | 0.2414726 | 0.3999603 | 0.3464197 | sitegmo | gmo | 106569 | 46235129 | suzuya.site           |\n",
       "| 5 | Not Renewd | 0.9311321 | 0.863 | 0.417 | 0.7749462 | 0.7039504 | 0.6711740 | sitegmo | gmo | 106569 | 46276970 | wins-company.site     |\n",
       "| 6 | Renewed    | 0.9347869 | 0.861 | 0.391 | 0.6376848 | 0.6566740 | 0.6717237 | sitegmo | gmo | 106569 | 47809960 | yamatoku-company.site |\n",
       "\n"
      ],
      "text/plain": [
       "  actual     pred_df_seg2_glm pred_df_seg_glm pred_df_agg_glm pred_df_seg2_rf\n",
       "1 Not Renewd 0.6470992        0.558           0.419           0.4765771      \n",
       "2 Renewed    0.6762222        0.567           0.397           0.5410605      \n",
       "3 Renewed    0.9098495        0.835           0.410           0.7018108      \n",
       "4 Renewed    0.6029350        0.515           0.402           0.2414726      \n",
       "5 Not Renewd 0.9311321        0.863           0.417           0.7749462      \n",
       "6 Renewed    0.9347869        0.861           0.391           0.6376848      \n",
       "  pred_df_seg_rf pred_df_agg_rf tld_registrar_index reseller n      domain_id\n",
       "1 0.4545657      0.5386137      sitegmo             gmo      106569 44295183 \n",
       "2 0.5769973      0.6091513      sitegmo             gmo      106569 44573611 \n",
       "3 0.6343404      0.6886680      sitegmo             gmo      106569 45304858 \n",
       "4 0.3999603      0.3464197      sitegmo             gmo      106569 46235129 \n",
       "5 0.7039504      0.6711740      sitegmo             gmo      106569 46276970 \n",
       "6 0.6566740      0.6717237      sitegmo             gmo      106569 47809960 \n",
       "  domain               \n",
       "1 kagen.site           \n",
       "2 designlab.site       \n",
       "3 hokatu-blog.site     \n",
       "4 suzuya.site          \n",
       "5 wins-company.site    \n",
       "6 yamatoku-company.site"
      ]
     },
     "metadata": {},
     "output_type": "display_data"
    },
    {
     "data": {
      "text/html": [
       "<style>\n",
       ".list-inline {list-style: none; margin:0; padding: 0}\n",
       ".list-inline>li {display: inline-block}\n",
       ".list-inline>li:not(:last-child)::after {content: \"\\00b7\"; padding: 0 .5ex}\n",
       "</style>\n",
       "<ol class=list-inline><li>1723</li><li>15</li></ol>\n"
      ],
      "text/latex": [
       "\\begin{enumerate*}\n",
       "\\item 1723\n",
       "\\item 15\n",
       "\\end{enumerate*}\n"
      ],
      "text/markdown": [
       "1. 1723\n",
       "2. 15\n",
       "\n",
       "\n"
      ],
      "text/plain": [
       "[1] 1723   15"
      ]
     },
     "metadata": {},
     "output_type": "display_data"
    },
    {
     "data": {
      "text/html": [
       "<table>\n",
       "<caption>A data.frame: 6 × 15</caption>\n",
       "<thead>\n",
       "\t<tr><th></th><th scope=col>tld_registrar_index</th><th scope=col>reseller</th><th scope=col>n</th><th scope=col>l10_seg2_glm</th><th scope=col>l10_seg_glm</th><th scope=col>l10_agg_glm</th><th scope=col>l10_seg2_rf</th><th scope=col>l10_seg_rf</th><th scope=col>l10_agg_rf</th><th scope=col>auc_seg2_glm</th><th scope=col>auc_seg_glm</th><th scope=col>auc_agg_glm</th><th scope=col>auc_seg2_rf</th><th scope=col>auc_seg_rf</th><th scope=col>auc_agg_rf</th></tr>\n",
       "\t<tr><th></th><th scope=col>&lt;fct&gt;</th><th scope=col>&lt;fct&gt;</th><th scope=col>&lt;int&gt;</th><th scope=col>&lt;dbl&gt;</th><th scope=col>&lt;dbl&gt;</th><th scope=col>&lt;dbl&gt;</th><th scope=col>&lt;dbl&gt;</th><th scope=col>&lt;dbl&gt;</th><th scope=col>&lt;dbl&gt;</th><th scope=col>&lt;dbl&gt;</th><th scope=col>&lt;dbl&gt;</th><th scope=col>&lt;dbl&gt;</th><th scope=col>&lt;dbl&gt;</th><th scope=col>&lt;dbl&gt;</th><th scope=col>&lt;dbl&gt;</th></tr>\n",
       "</thead>\n",
       "<tbody>\n",
       "\t<tr><th scope=row>1</th><td>sitegmo       </td><td>gmo      </td><td>106569</td><td>8.204334</td><td>8.126935</td><td>6.408669</td><td>8.777090</td><td>8.761610</td><td>8.591331</td><td>0.8958204</td><td>0.8825077</td><td>0.8729102</td><td>0.9345201</td><td>0.9348297</td><td>0.9329721</td></tr>\n",
       "\t<tr><th scope=row>2</th><td>funalibaba    </td><td>alibaba  </td><td> 72690</td><td>4.883721</td><td>5.255814</td><td>5.023256</td><td>5.813953</td><td>6.000000</td><td>6.186047</td><td>0.8262791</td><td>0.8430233</td><td>0.8518605</td><td>0.8769767</td><td>0.8779070</td><td>0.8793023</td></tr>\n",
       "\t<tr><th scope=row>3</th><td>sitenamecheap </td><td>namecheap</td><td> 53536</td><td>2.298025</td><td>1.921005</td><td>1.885099</td><td>2.280072</td><td>2.028725</td><td>2.046679</td><td>0.6862657</td><td>0.6196589</td><td>0.6338420</td><td>0.6654399</td><td>0.6792639</td><td>0.6893178</td></tr>\n",
       "\t<tr><th scope=row>4</th><td>pwnamecheap   </td><td>namecheap</td><td> 50470</td><td>3.478261</td><td>3.675889</td><td>3.675889</td><td>3.438735</td><td>4.071146</td><td>4.308300</td><td>0.7274704</td><td>0.6551383</td><td>0.6361660</td><td>0.7167984</td><td>0.7405138</td><td>0.7507905</td></tr>\n",
       "\t<tr><th scope=row>5</th><td>onlinego daddy</td><td>go daddy </td><td> 42162</td><td>2.850995</td><td>2.883271</td><td>2.474449</td><td>2.598171</td><td>2.727273</td><td>2.646584</td><td>0.6506455</td><td>0.6493007</td><td>0.6381119</td><td>0.6095481</td><td>0.6266541</td><td>0.6249328</td></tr>\n",
       "\t<tr><th scope=row>6</th><td>sitegandi sas </td><td>gandi sas</td><td> 35309</td><td>8.243243</td><td>8.445946</td><td>7.094595</td><td>4.932432</td><td>8.445946</td><td>8.581081</td><td>0.9202703</td><td>0.9195946</td><td>0.9189189</td><td>0.7162162</td><td>0.9344595</td><td>0.9358108</td></tr>\n",
       "</tbody>\n",
       "</table>\n"
      ],
      "text/latex": [
       "A data.frame: 6 × 15\n",
       "\\begin{tabular}{r|lllllllllllllll}\n",
       "  & tld\\_registrar\\_index & reseller & n & l10\\_seg2\\_glm & l10\\_seg\\_glm & l10\\_agg\\_glm & l10\\_seg2\\_rf & l10\\_seg\\_rf & l10\\_agg\\_rf & auc\\_seg2\\_glm & auc\\_seg\\_glm & auc\\_agg\\_glm & auc\\_seg2\\_rf & auc\\_seg\\_rf & auc\\_agg\\_rf\\\\\n",
       "  & <fct> & <fct> & <int> & <dbl> & <dbl> & <dbl> & <dbl> & <dbl> & <dbl> & <dbl> & <dbl> & <dbl> & <dbl> & <dbl> & <dbl>\\\\\n",
       "\\hline\n",
       "\t1 & sitegmo        & gmo       & 106569 & 8.204334 & 8.126935 & 6.408669 & 8.777090 & 8.761610 & 8.591331 & 0.8958204 & 0.8825077 & 0.8729102 & 0.9345201 & 0.9348297 & 0.9329721\\\\\n",
       "\t2 & funalibaba     & alibaba   &  72690 & 4.883721 & 5.255814 & 5.023256 & 5.813953 & 6.000000 & 6.186047 & 0.8262791 & 0.8430233 & 0.8518605 & 0.8769767 & 0.8779070 & 0.8793023\\\\\n",
       "\t3 & sitenamecheap  & namecheap &  53536 & 2.298025 & 1.921005 & 1.885099 & 2.280072 & 2.028725 & 2.046679 & 0.6862657 & 0.6196589 & 0.6338420 & 0.6654399 & 0.6792639 & 0.6893178\\\\\n",
       "\t4 & pwnamecheap    & namecheap &  50470 & 3.478261 & 3.675889 & 3.675889 & 3.438735 & 4.071146 & 4.308300 & 0.7274704 & 0.6551383 & 0.6361660 & 0.7167984 & 0.7405138 & 0.7507905\\\\\n",
       "\t5 & onlinego daddy & go daddy  &  42162 & 2.850995 & 2.883271 & 2.474449 & 2.598171 & 2.727273 & 2.646584 & 0.6506455 & 0.6493007 & 0.6381119 & 0.6095481 & 0.6266541 & 0.6249328\\\\\n",
       "\t6 & sitegandi sas  & gandi sas &  35309 & 8.243243 & 8.445946 & 7.094595 & 4.932432 & 8.445946 & 8.581081 & 0.9202703 & 0.9195946 & 0.9189189 & 0.7162162 & 0.9344595 & 0.9358108\\\\\n",
       "\\end{tabular}\n"
      ],
      "text/markdown": [
       "\n",
       "A data.frame: 6 × 15\n",
       "\n",
       "| <!--/--> | tld_registrar_index &lt;fct&gt; | reseller &lt;fct&gt; | n &lt;int&gt; | l10_seg2_glm &lt;dbl&gt; | l10_seg_glm &lt;dbl&gt; | l10_agg_glm &lt;dbl&gt; | l10_seg2_rf &lt;dbl&gt; | l10_seg_rf &lt;dbl&gt; | l10_agg_rf &lt;dbl&gt; | auc_seg2_glm &lt;dbl&gt; | auc_seg_glm &lt;dbl&gt; | auc_agg_glm &lt;dbl&gt; | auc_seg2_rf &lt;dbl&gt; | auc_seg_rf &lt;dbl&gt; | auc_agg_rf &lt;dbl&gt; |\n",
       "|---|---|---|---|---|---|---|---|---|---|---|---|---|---|---|---|\n",
       "| 1 | sitegmo        | gmo       | 106569 | 8.204334 | 8.126935 | 6.408669 | 8.777090 | 8.761610 | 8.591331 | 0.8958204 | 0.8825077 | 0.8729102 | 0.9345201 | 0.9348297 | 0.9329721 |\n",
       "| 2 | funalibaba     | alibaba   |  72690 | 4.883721 | 5.255814 | 5.023256 | 5.813953 | 6.000000 | 6.186047 | 0.8262791 | 0.8430233 | 0.8518605 | 0.8769767 | 0.8779070 | 0.8793023 |\n",
       "| 3 | sitenamecheap  | namecheap |  53536 | 2.298025 | 1.921005 | 1.885099 | 2.280072 | 2.028725 | 2.046679 | 0.6862657 | 0.6196589 | 0.6338420 | 0.6654399 | 0.6792639 | 0.6893178 |\n",
       "| 4 | pwnamecheap    | namecheap |  50470 | 3.478261 | 3.675889 | 3.675889 | 3.438735 | 4.071146 | 4.308300 | 0.7274704 | 0.6551383 | 0.6361660 | 0.7167984 | 0.7405138 | 0.7507905 |\n",
       "| 5 | onlinego daddy | go daddy  |  42162 | 2.850995 | 2.883271 | 2.474449 | 2.598171 | 2.727273 | 2.646584 | 0.6506455 | 0.6493007 | 0.6381119 | 0.6095481 | 0.6266541 | 0.6249328 |\n",
       "| 6 | sitegandi sas  | gandi sas |  35309 | 8.243243 | 8.445946 | 7.094595 | 4.932432 | 8.445946 | 8.581081 | 0.9202703 | 0.9195946 | 0.9189189 | 0.7162162 | 0.9344595 | 0.9358108 |\n",
       "\n"
      ],
      "text/plain": [
       "  tld_registrar_index reseller  n      l10_seg2_glm l10_seg_glm l10_agg_glm\n",
       "1 sitegmo             gmo       106569 8.204334     8.126935    6.408669   \n",
       "2 funalibaba          alibaba    72690 4.883721     5.255814    5.023256   \n",
       "3 sitenamecheap       namecheap  53536 2.298025     1.921005    1.885099   \n",
       "4 pwnamecheap         namecheap  50470 3.478261     3.675889    3.675889   \n",
       "5 onlinego daddy      go daddy   42162 2.850995     2.883271    2.474449   \n",
       "6 sitegandi sas       gandi sas  35309 8.243243     8.445946    7.094595   \n",
       "  l10_seg2_rf l10_seg_rf l10_agg_rf auc_seg2_glm auc_seg_glm auc_agg_glm\n",
       "1 8.777090    8.761610   8.591331   0.8958204    0.8825077   0.8729102  \n",
       "2 5.813953    6.000000   6.186047   0.8262791    0.8430233   0.8518605  \n",
       "3 2.280072    2.028725   2.046679   0.6862657    0.6196589   0.6338420  \n",
       "4 3.438735    4.071146   4.308300   0.7274704    0.6551383   0.6361660  \n",
       "5 2.598171    2.727273   2.646584   0.6506455    0.6493007   0.6381119  \n",
       "6 4.932432    8.445946   8.581081   0.9202703    0.9195946   0.9189189  \n",
       "  auc_seg2_rf auc_seg_rf auc_agg_rf\n",
       "1 0.9345201   0.9348297  0.9329721 \n",
       "2 0.8769767   0.8779070  0.8793023 \n",
       "3 0.6654399   0.6792639  0.6893178 \n",
       "4 0.7167984   0.7405138  0.7507905 \n",
       "5 0.6095481   0.6266541  0.6249328 \n",
       "6 0.7162162   0.9344595  0.9358108 "
      ]
     },
     "metadata": {},
     "output_type": "display_data"
    }
   ],
   "source": [
    "predictions_df <- read.csv(\"../../data/tld_reseller_compare_predictions.csv\")\n",
    "metrics_df <- read.csv(\"../../data/tld_reseller_compare_metrics.csv\")\n",
    "\n",
    "dim(predictions_df)\n",
    "head(predictions_df)\n",
    "dim(metrics_df)\n",
    "head(metrics_df)"
   ]
  },
  {
   "cell_type": "markdown",
   "metadata": {},
   "source": [
    "## Add reseller_geo to train_df before feature eng"
   ]
  },
  {
   "cell_type": "code",
   "execution_count": 7,
   "metadata": {},
   "outputs": [
    {
     "data": {
      "text/html": [
       "<table>\n",
       "<caption>A data.table: 6 × 39</caption>\n",
       "<thead>\n",
       "\t<tr><th scope=col>renewal_type</th><th scope=col>renewed_count</th><th scope=col>expiry_date</th><th scope=col>domain_id</th><th scope=col>domain</th><th scope=col>creation_date</th><th scope=col>status</th><th scope=col>tld</th><th scope=col>registrar</th><th scope=col>reseller</th><th scope=col>reseller_country</th><th scope=col>region</th><th scope=col>reg_period</th><th scope=col>registrant_country</th><th scope=col>renewal_status</th><th scope=col>renew_mbg</th><th scope=col>renew_type</th><th scope=col>autorenew_type</th><th scope=col>renew_date</th><th scope=col>renew_registrar</th><th scope=col>renew_reseller</th><th scope=col>reg_revenue</th><th scope=col>reg_arpt</th><th scope=col>renew_period</th><th scope=col>renew_domain_revenue</th><th scope=col>renew_arpt</th><th scope=col>reg_arpt_org</th><th scope=col>tld_registrar_index</th><th scope=col>sld</th><th scope=col>sld_type</th><th scope=col>sld_length</th><th scope=col>sld_type2</th><th scope=col>day_domains</th><th scope=col>log_reg_arpt</th><th scope=col>gibb_score</th><th scope=col>pattern</th><th scope=col>cluster</th><th scope=col>pattern_score</th><th scope=col>pattern_domain_count</th></tr>\n",
       "\t<tr><th scope=col>&lt;chr&gt;</th><th scope=col>&lt;int&gt;</th><th scope=col>&lt;date&gt;</th><th scope=col>&lt;int&gt;</th><th scope=col>&lt;chr&gt;</th><th scope=col>&lt;date&gt;</th><th scope=col>&lt;chr&gt;</th><th scope=col>&lt;fct&gt;</th><th scope=col>&lt;chr&gt;</th><th scope=col>&lt;chr&gt;</th><th scope=col>&lt;chr&gt;</th><th scope=col>&lt;chr&gt;</th><th scope=col>&lt;int&gt;</th><th scope=col>&lt;chr&gt;</th><th scope=col>&lt;fct&gt;</th><th scope=col>&lt;int&gt;</th><th scope=col>&lt;chr&gt;</th><th scope=col>&lt;chr&gt;</th><th scope=col>&lt;date&gt;</th><th scope=col>&lt;chr&gt;</th><th scope=col>&lt;chr&gt;</th><th scope=col>&lt;dbl&gt;</th><th scope=col>&lt;dbl&gt;</th><th scope=col>&lt;int&gt;</th><th scope=col>&lt;dbl&gt;</th><th scope=col>&lt;dbl&gt;</th><th scope=col>&lt;dbl&gt;</th><th scope=col>&lt;chr&gt;</th><th scope=col>&lt;chr&gt;</th><th scope=col>&lt;fct&gt;</th><th scope=col>&lt;int&gt;</th><th scope=col>&lt;chr&gt;</th><th scope=col>&lt;int&gt;</th><th scope=col>&lt;dbl&gt;</th><th scope=col>&lt;dbl&gt;</th><th scope=col>&lt;chr&gt;</th><th scope=col>&lt;chr&gt;</th><th scope=col>&lt;dbl&gt;</th><th scope=col>&lt;int&gt;</th></tr>\n",
       "</thead>\n",
       "<tbody>\n",
       "\t<tr><td>FirstTime</td><td>1</td><td>2020-01-21</td><td>91584433</td><td><span style=white-space:pre-wrap>racefor.fun     </span></td><td>2019-01-21</td><td>Active</td><td>fun</td><td>1&amp;1 internet</td><td>1&amp;1 internet</td><td>Germany</td><td>Non China</td><td>1</td><td>NA</td><td><span style=white-space:pre-wrap>Renewed   </span></td><td>0</td><td>auto-renewal</td><td><span style=white-space:pre-wrap>realized  </span></td><td>2020-01-21</td><td>1&amp;1 Internet</td><td>1&amp;1 Internet</td><td>15</td><td>15</td><td>1</td><td>15</td><td>15</td><td>15</td><td>fun1&amp;1 internet</td><td><span style=white-space:pre-wrap>racefor     </span></td><td>l </td><td> 7</td><td>7l </td><td>1</td><td>2.70805</td><td> 6.77</td><td><span style=white-space:pre-wrap>racefor     </span></td><td>1</td><td>1</td><td>1</td></tr>\n",
       "\t<tr><td>FirstTime</td><td>1</td><td>2020-01-30</td><td>92254793</td><td><span style=white-space:pre-wrap>united4.fun     </span></td><td>2019-01-30</td><td>Active</td><td>fun</td><td>1&amp;1 internet</td><td>1&amp;1 internet</td><td>Germany</td><td>Non China</td><td>1</td><td>NA</td><td><span style=white-space:pre-wrap>Renewed   </span></td><td>0</td><td>auto-renewal</td><td><span style=white-space:pre-wrap>realized  </span></td><td>2020-01-30</td><td>1&amp;1 Internet</td><td>1&amp;1 Internet</td><td>15</td><td>15</td><td>1</td><td>15</td><td>15</td><td>15</td><td>fun1&amp;1 internet</td><td><span style=white-space:pre-wrap>united4     </span></td><td>ln</td><td> 7</td><td>7ln</td><td>1</td><td>2.70805</td><td> 8.65</td><td><span style=white-space:pre-wrap>united4     </span></td><td>1</td><td>1</td><td>1</td></tr>\n",
       "\t<tr><td>FirstTime</td><td>1</td><td>2020-02-04</td><td>92827233</td><td><span style=white-space:pre-wrap>bereal.fun      </span></td><td>2019-02-04</td><td>Active</td><td>fun</td><td>1&amp;1 internet</td><td>1&amp;1 internet</td><td>Germany</td><td>Non China</td><td>1</td><td>NA</td><td><span style=white-space:pre-wrap>Renewed   </span></td><td>0</td><td>auto-renewal</td><td><span style=white-space:pre-wrap>realized  </span></td><td>2020-02-04</td><td>1&amp;1 Internet</td><td>1&amp;1 Internet</td><td>15</td><td>15</td><td>1</td><td>15</td><td>15</td><td>15</td><td>fun1&amp;1 internet</td><td><span style=white-space:pre-wrap>bereal      </span></td><td>l </td><td> 6</td><td>6l </td><td>1</td><td>2.70805</td><td>13.09</td><td><span style=white-space:pre-wrap>bereal      </span></td><td>1</td><td>1</td><td>1</td></tr>\n",
       "\t<tr><td>FirstTime</td><td>1</td><td>2020-02-12</td><td>93490823</td><td>dogsoutdoors.fun</td><td>2019-02-12</td><td>Active</td><td>fun</td><td>1&amp;1 internet</td><td>1&amp;1 internet</td><td>Germany</td><td>Non China</td><td>1</td><td>NA</td><td>Not Renewd</td><td>0</td><td>auto-renewal</td><td>unrealized</td><td>2020-02-12</td><td>1&amp;1 Internet</td><td>1&amp;1 Internet</td><td>15</td><td>15</td><td>1</td><td>15</td><td>15</td><td>15</td><td>fun1&amp;1 internet</td><td>dogsoutdoors</td><td>l </td><td>12</td><td>12l</td><td>1</td><td>2.70805</td><td> 2.44</td><td>dogsoutdoors</td><td>1</td><td>1</td><td>1</td></tr>\n",
       "\t<tr><td>FirstTime</td><td>1</td><td>2020-02-15</td><td>93767978</td><td><span style=white-space:pre-wrap>rosalux.fun     </span></td><td>2019-02-15</td><td>Active</td><td>fun</td><td>1&amp;1 internet</td><td>1&amp;1 internet</td><td>Germany</td><td>Non China</td><td>1</td><td>NA</td><td><span style=white-space:pre-wrap>Renewed   </span></td><td>0</td><td>auto-renewal</td><td><span style=white-space:pre-wrap>realized  </span></td><td>2020-02-15</td><td>1&amp;1 Internet</td><td>1&amp;1 Internet</td><td>15</td><td>15</td><td>1</td><td>15</td><td>15</td><td>15</td><td>fun1&amp;1 internet</td><td><span style=white-space:pre-wrap>rosalux     </span></td><td>l </td><td> 7</td><td>7l </td><td>1</td><td>2.70805</td><td> 2.34</td><td><span style=white-space:pre-wrap>rosalux     </span></td><td>1</td><td>1</td><td>1</td></tr>\n",
       "\t<tr><td>FirstTime</td><td>1</td><td>2020-02-16</td><td>93823708</td><td><span style=white-space:pre-wrap>verygood.fun    </span></td><td>2019-02-16</td><td>Active</td><td>fun</td><td>1&amp;1 internet</td><td>1&amp;1 internet</td><td>Germany</td><td>Non China</td><td>1</td><td>NA</td><td><span style=white-space:pre-wrap>Renewed   </span></td><td>0</td><td>auto-renewal</td><td><span style=white-space:pre-wrap>realized  </span></td><td>2020-02-16</td><td>1&amp;1 Internet</td><td>1&amp;1 Internet</td><td>15</td><td>15</td><td>1</td><td>15</td><td>15</td><td>15</td><td>fun1&amp;1 internet</td><td><span style=white-space:pre-wrap>verygood    </span></td><td>l </td><td> 8</td><td>8l </td><td>1</td><td>2.70805</td><td> 3.64</td><td><span style=white-space:pre-wrap>verygood    </span></td><td>1</td><td>1</td><td>1</td></tr>\n",
       "</tbody>\n",
       "</table>\n"
      ],
      "text/latex": [
       "A data.table: 6 × 39\n",
       "\\begin{tabular}{lllllllllllllllllllllllllllllllllllllll}\n",
       " renewal\\_type & renewed\\_count & expiry\\_date & domain\\_id & domain & creation\\_date & status & tld & registrar & reseller & reseller\\_country & region & reg\\_period & registrant\\_country & renewal\\_status & renew\\_mbg & renew\\_type & autorenew\\_type & renew\\_date & renew\\_registrar & renew\\_reseller & reg\\_revenue & reg\\_arpt & renew\\_period & renew\\_domain\\_revenue & renew\\_arpt & reg\\_arpt\\_org & tld\\_registrar\\_index & sld & sld\\_type & sld\\_length & sld\\_type2 & day\\_domains & log\\_reg\\_arpt & gibb\\_score & pattern & cluster & pattern\\_score & pattern\\_domain\\_count\\\\\n",
       " <chr> & <int> & <date> & <int> & <chr> & <date> & <chr> & <fct> & <chr> & <chr> & <chr> & <chr> & <int> & <chr> & <fct> & <int> & <chr> & <chr> & <date> & <chr> & <chr> & <dbl> & <dbl> & <int> & <dbl> & <dbl> & <dbl> & <chr> & <chr> & <fct> & <int> & <chr> & <int> & <dbl> & <dbl> & <chr> & <chr> & <dbl> & <int>\\\\\n",
       "\\hline\n",
       "\t FirstTime & 1 & 2020-01-21 & 91584433 & racefor.fun      & 2019-01-21 & Active & fun & 1\\&1 internet & 1\\&1 internet & Germany & Non China & 1 & NA & Renewed    & 0 & auto-renewal & realized   & 2020-01-21 & 1\\&1 Internet & 1\\&1 Internet & 15 & 15 & 1 & 15 & 15 & 15 & fun1\\&1 internet & racefor      & l  &  7 & 7l  & 1 & 2.70805 &  6.77 & racefor      & 1 & 1 & 1\\\\\n",
       "\t FirstTime & 1 & 2020-01-30 & 92254793 & united4.fun      & 2019-01-30 & Active & fun & 1\\&1 internet & 1\\&1 internet & Germany & Non China & 1 & NA & Renewed    & 0 & auto-renewal & realized   & 2020-01-30 & 1\\&1 Internet & 1\\&1 Internet & 15 & 15 & 1 & 15 & 15 & 15 & fun1\\&1 internet & united4      & ln &  7 & 7ln & 1 & 2.70805 &  8.65 & united4      & 1 & 1 & 1\\\\\n",
       "\t FirstTime & 1 & 2020-02-04 & 92827233 & bereal.fun       & 2019-02-04 & Active & fun & 1\\&1 internet & 1\\&1 internet & Germany & Non China & 1 & NA & Renewed    & 0 & auto-renewal & realized   & 2020-02-04 & 1\\&1 Internet & 1\\&1 Internet & 15 & 15 & 1 & 15 & 15 & 15 & fun1\\&1 internet & bereal       & l  &  6 & 6l  & 1 & 2.70805 & 13.09 & bereal       & 1 & 1 & 1\\\\\n",
       "\t FirstTime & 1 & 2020-02-12 & 93490823 & dogsoutdoors.fun & 2019-02-12 & Active & fun & 1\\&1 internet & 1\\&1 internet & Germany & Non China & 1 & NA & Not Renewd & 0 & auto-renewal & unrealized & 2020-02-12 & 1\\&1 Internet & 1\\&1 Internet & 15 & 15 & 1 & 15 & 15 & 15 & fun1\\&1 internet & dogsoutdoors & l  & 12 & 12l & 1 & 2.70805 &  2.44 & dogsoutdoors & 1 & 1 & 1\\\\\n",
       "\t FirstTime & 1 & 2020-02-15 & 93767978 & rosalux.fun      & 2019-02-15 & Active & fun & 1\\&1 internet & 1\\&1 internet & Germany & Non China & 1 & NA & Renewed    & 0 & auto-renewal & realized   & 2020-02-15 & 1\\&1 Internet & 1\\&1 Internet & 15 & 15 & 1 & 15 & 15 & 15 & fun1\\&1 internet & rosalux      & l  &  7 & 7l  & 1 & 2.70805 &  2.34 & rosalux      & 1 & 1 & 1\\\\\n",
       "\t FirstTime & 1 & 2020-02-16 & 93823708 & verygood.fun     & 2019-02-16 & Active & fun & 1\\&1 internet & 1\\&1 internet & Germany & Non China & 1 & NA & Renewed    & 0 & auto-renewal & realized   & 2020-02-16 & 1\\&1 Internet & 1\\&1 Internet & 15 & 15 & 1 & 15 & 15 & 15 & fun1\\&1 internet & verygood     & l  &  8 & 8l  & 1 & 2.70805 &  3.64 & verygood     & 1 & 1 & 1\\\\\n",
       "\\end{tabular}\n"
      ],
      "text/markdown": [
       "\n",
       "A data.table: 6 × 39\n",
       "\n",
       "| renewal_type &lt;chr&gt; | renewed_count &lt;int&gt; | expiry_date &lt;date&gt; | domain_id &lt;int&gt; | domain &lt;chr&gt; | creation_date &lt;date&gt; | status &lt;chr&gt; | tld &lt;fct&gt; | registrar &lt;chr&gt; | reseller &lt;chr&gt; | reseller_country &lt;chr&gt; | region &lt;chr&gt; | reg_period &lt;int&gt; | registrant_country &lt;chr&gt; | renewal_status &lt;fct&gt; | renew_mbg &lt;int&gt; | renew_type &lt;chr&gt; | autorenew_type &lt;chr&gt; | renew_date &lt;date&gt; | renew_registrar &lt;chr&gt; | renew_reseller &lt;chr&gt; | reg_revenue &lt;dbl&gt; | reg_arpt &lt;dbl&gt; | renew_period &lt;int&gt; | renew_domain_revenue &lt;dbl&gt; | renew_arpt &lt;dbl&gt; | reg_arpt_org &lt;dbl&gt; | tld_registrar_index &lt;chr&gt; | sld &lt;chr&gt; | sld_type &lt;fct&gt; | sld_length &lt;int&gt; | sld_type2 &lt;chr&gt; | day_domains &lt;int&gt; | log_reg_arpt &lt;dbl&gt; | gibb_score &lt;dbl&gt; | pattern &lt;chr&gt; | cluster &lt;chr&gt; | pattern_score &lt;dbl&gt; | pattern_domain_count &lt;int&gt; |\n",
       "|---|---|---|---|---|---|---|---|---|---|---|---|---|---|---|---|---|---|---|---|---|---|---|---|---|---|---|---|---|---|---|---|---|---|---|---|---|---|---|\n",
       "| FirstTime | 1 | 2020-01-21 | 91584433 | racefor.fun      | 2019-01-21 | Active | fun | 1&amp;1 internet | 1&amp;1 internet | Germany | Non China | 1 | NA | Renewed    | 0 | auto-renewal | realized   | 2020-01-21 | 1&amp;1 Internet | 1&amp;1 Internet | 15 | 15 | 1 | 15 | 15 | 15 | fun1&amp;1 internet | racefor      | l  |  7 | 7l  | 1 | 2.70805 |  6.77 | racefor      | 1 | 1 | 1 |\n",
       "| FirstTime | 1 | 2020-01-30 | 92254793 | united4.fun      | 2019-01-30 | Active | fun | 1&amp;1 internet | 1&amp;1 internet | Germany | Non China | 1 | NA | Renewed    | 0 | auto-renewal | realized   | 2020-01-30 | 1&amp;1 Internet | 1&amp;1 Internet | 15 | 15 | 1 | 15 | 15 | 15 | fun1&amp;1 internet | united4      | ln |  7 | 7ln | 1 | 2.70805 |  8.65 | united4      | 1 | 1 | 1 |\n",
       "| FirstTime | 1 | 2020-02-04 | 92827233 | bereal.fun       | 2019-02-04 | Active | fun | 1&amp;1 internet | 1&amp;1 internet | Germany | Non China | 1 | NA | Renewed    | 0 | auto-renewal | realized   | 2020-02-04 | 1&amp;1 Internet | 1&amp;1 Internet | 15 | 15 | 1 | 15 | 15 | 15 | fun1&amp;1 internet | bereal       | l  |  6 | 6l  | 1 | 2.70805 | 13.09 | bereal       | 1 | 1 | 1 |\n",
       "| FirstTime | 1 | 2020-02-12 | 93490823 | dogsoutdoors.fun | 2019-02-12 | Active | fun | 1&amp;1 internet | 1&amp;1 internet | Germany | Non China | 1 | NA | Not Renewd | 0 | auto-renewal | unrealized | 2020-02-12 | 1&amp;1 Internet | 1&amp;1 Internet | 15 | 15 | 1 | 15 | 15 | 15 | fun1&amp;1 internet | dogsoutdoors | l  | 12 | 12l | 1 | 2.70805 |  2.44 | dogsoutdoors | 1 | 1 | 1 |\n",
       "| FirstTime | 1 | 2020-02-15 | 93767978 | rosalux.fun      | 2019-02-15 | Active | fun | 1&amp;1 internet | 1&amp;1 internet | Germany | Non China | 1 | NA | Renewed    | 0 | auto-renewal | realized   | 2020-02-15 | 1&amp;1 Internet | 1&amp;1 Internet | 15 | 15 | 1 | 15 | 15 | 15 | fun1&amp;1 internet | rosalux      | l  |  7 | 7l  | 1 | 2.70805 |  2.34 | rosalux      | 1 | 1 | 1 |\n",
       "| FirstTime | 1 | 2020-02-16 | 93823708 | verygood.fun     | 2019-02-16 | Active | fun | 1&amp;1 internet | 1&amp;1 internet | Germany | Non China | 1 | NA | Renewed    | 0 | auto-renewal | realized   | 2020-02-16 | 1&amp;1 Internet | 1&amp;1 Internet | 15 | 15 | 1 | 15 | 15 | 15 | fun1&amp;1 internet | verygood     | l  |  8 | 8l  | 1 | 2.70805 |  3.64 | verygood     | 1 | 1 | 1 |\n",
       "\n"
      ],
      "text/plain": [
       "  renewal_type renewed_count expiry_date domain_id domain          \n",
       "1 FirstTime    1             2020-01-21  91584433  racefor.fun     \n",
       "2 FirstTime    1             2020-01-30  92254793  united4.fun     \n",
       "3 FirstTime    1             2020-02-04  92827233  bereal.fun      \n",
       "4 FirstTime    1             2020-02-12  93490823  dogsoutdoors.fun\n",
       "5 FirstTime    1             2020-02-15  93767978  rosalux.fun     \n",
       "6 FirstTime    1             2020-02-16  93823708  verygood.fun    \n",
       "  creation_date status tld registrar    reseller     reseller_country region   \n",
       "1 2019-01-21    Active fun 1&1 internet 1&1 internet Germany          Non China\n",
       "2 2019-01-30    Active fun 1&1 internet 1&1 internet Germany          Non China\n",
       "3 2019-02-04    Active fun 1&1 internet 1&1 internet Germany          Non China\n",
       "4 2019-02-12    Active fun 1&1 internet 1&1 internet Germany          Non China\n",
       "5 2019-02-15    Active fun 1&1 internet 1&1 internet Germany          Non China\n",
       "6 2019-02-16    Active fun 1&1 internet 1&1 internet Germany          Non China\n",
       "  reg_period registrant_country renewal_status renew_mbg renew_type  \n",
       "1 1          NA                 Renewed        0         auto-renewal\n",
       "2 1          NA                 Renewed        0         auto-renewal\n",
       "3 1          NA                 Renewed        0         auto-renewal\n",
       "4 1          NA                 Not Renewd     0         auto-renewal\n",
       "5 1          NA                 Renewed        0         auto-renewal\n",
       "6 1          NA                 Renewed        0         auto-renewal\n",
       "  autorenew_type renew_date renew_registrar renew_reseller reg_revenue reg_arpt\n",
       "1 realized       2020-01-21 1&1 Internet    1&1 Internet   15          15      \n",
       "2 realized       2020-01-30 1&1 Internet    1&1 Internet   15          15      \n",
       "3 realized       2020-02-04 1&1 Internet    1&1 Internet   15          15      \n",
       "4 unrealized     2020-02-12 1&1 Internet    1&1 Internet   15          15      \n",
       "5 realized       2020-02-15 1&1 Internet    1&1 Internet   15          15      \n",
       "6 realized       2020-02-16 1&1 Internet    1&1 Internet   15          15      \n",
       "  renew_period renew_domain_revenue renew_arpt reg_arpt_org tld_registrar_index\n",
       "1 1            15                   15         15           fun1&1 internet    \n",
       "2 1            15                   15         15           fun1&1 internet    \n",
       "3 1            15                   15         15           fun1&1 internet    \n",
       "4 1            15                   15         15           fun1&1 internet    \n",
       "5 1            15                   15         15           fun1&1 internet    \n",
       "6 1            15                   15         15           fun1&1 internet    \n",
       "  sld          sld_type sld_length sld_type2 day_domains log_reg_arpt\n",
       "1 racefor      l         7         7l        1           2.70805     \n",
       "2 united4      ln        7         7ln       1           2.70805     \n",
       "3 bereal       l         6         6l        1           2.70805     \n",
       "4 dogsoutdoors l        12         12l       1           2.70805     \n",
       "5 rosalux      l         7         7l        1           2.70805     \n",
       "6 verygood     l         8         8l        1           2.70805     \n",
       "  gibb_score pattern      cluster pattern_score pattern_domain_count\n",
       "1  6.77      racefor      1       1             1                   \n",
       "2  8.65      united4      1       1             1                   \n",
       "3 13.09      bereal       1       1             1                   \n",
       "4  2.44      dogsoutdoors 1       1             1                   \n",
       "5  2.34      rosalux      1       1             1                   \n",
       "6  3.64      verygood     1       1             1                   "
      ]
     },
     "metadata": {},
     "output_type": "display_data"
    }
   ],
   "source": [
    "head(expiry_train_df_1)"
   ]
  },
  {
   "cell_type": "code",
   "execution_count": 8,
   "metadata": {},
   "outputs": [
    {
     "data": {
      "text/html": [
       "<table>\n",
       "<caption>A data.frame: 6 × 3</caption>\n",
       "<thead>\n",
       "\t<tr><th></th><th scope=col>reseller</th><th scope=col>reseller_country</th><th scope=col>reseller_geo</th></tr>\n",
       "\t<tr><th></th><th scope=col>&lt;fct&gt;</th><th scope=col>&lt;fct&gt;</th><th scope=col>&lt;fct&gt;</th></tr>\n",
       "</thead>\n",
       "<tbody>\n",
       "\t<tr><th scope=row>1</th><td>007names           </td><td>United States</td><td>United States</td></tr>\n",
       "\t<tr><th scope=row>2</th><td>0101 internet      </td><td>Hong Kong    </td><td>China        </td></tr>\n",
       "\t<tr><th scope=row>3</th><td><span style=white-space:pre-wrap>1&amp;1 internet       </span></td><td><span style=white-space:pre-wrap>Germany      </span></td><td><span style=white-space:pre-wrap>EU           </span></td></tr>\n",
       "\t<tr><th scope=row>4</th><td>101 domain         </td><td>United States</td><td>United States</td></tr>\n",
       "\t<tr><th scope=row>5</th><td>101domain discovery</td><td>Germany      </td><td>EU           </td></tr>\n",
       "\t<tr><th scope=row>6</th><td>10dencehispahard   </td><td>Spain        </td><td>EU           </td></tr>\n",
       "</tbody>\n",
       "</table>\n"
      ],
      "text/latex": [
       "A data.frame: 6 × 3\n",
       "\\begin{tabular}{r|lll}\n",
       "  & reseller & reseller\\_country & reseller\\_geo\\\\\n",
       "  & <fct> & <fct> & <fct>\\\\\n",
       "\\hline\n",
       "\t1 & 007names            & United States & United States\\\\\n",
       "\t2 & 0101 internet       & Hong Kong     & China        \\\\\n",
       "\t3 & 1\\&1 internet        & Germany       & EU           \\\\\n",
       "\t4 & 101 domain          & United States & United States\\\\\n",
       "\t5 & 101domain discovery & Germany       & EU           \\\\\n",
       "\t6 & 10dencehispahard    & Spain         & EU           \\\\\n",
       "\\end{tabular}\n"
      ],
      "text/markdown": [
       "\n",
       "A data.frame: 6 × 3\n",
       "\n",
       "| <!--/--> | reseller &lt;fct&gt; | reseller_country &lt;fct&gt; | reseller_geo &lt;fct&gt; |\n",
       "|---|---|---|---|\n",
       "| 1 | 007names            | United States | United States |\n",
       "| 2 | 0101 internet       | Hong Kong     | China         |\n",
       "| 3 | 1&amp;1 internet        | Germany       | EU            |\n",
       "| 4 | 101 domain          | United States | United States |\n",
       "| 5 | 101domain discovery | Germany       | EU            |\n",
       "| 6 | 10dencehispahard    | Spain         | EU            |\n",
       "\n"
      ],
      "text/plain": [
       "  reseller            reseller_country reseller_geo \n",
       "1 007names            United States    United States\n",
       "2 0101 internet       Hong Kong        China        \n",
       "3 1&1 internet        Germany          EU           \n",
       "4 101 domain          United States    United States\n",
       "5 101domain discovery Germany          EU           \n",
       "6 10dencehispahard    Spain            EU           "
      ]
     },
     "metadata": {},
     "output_type": "display_data"
    }
   ],
   "source": [
    "system(\"gsutil cp gs://data_input/PredictiveModelAnalysis_AnomalyRegistrars.csv /home/jupyter/local/Domains_202003/data/PredictiveModelAnalysis_AnomalyRegistrars.csv\")\n",
    "anomalyDF <- read.csv(\"/home/jupyter/local/Domains_202003/data/PredictiveModelAnalysis_AnomalyRegistrars.csv\")\n",
    "anomalyDF <- apply(anomalyDF, 2, function(x) trimws(x,which = c(\"both\")) )\n",
    "geoLookupDF <- unique(anomalyDF[,c('reseller','reseller_country','reseller_geo')])\n",
    "geoLookupDF <- as.data.frame(geoLookupDF)\n",
    "head(geoLookupDF)"
   ]
  },
  {
   "cell_type": "code",
   "execution_count": 9,
   "metadata": {},
   "outputs": [
    {
     "name": "stderr",
     "output_type": "stream",
     "text": [
      "`summarise()` ungrouping output (override with `.groups` argument)\n",
      "\n"
     ]
    },
    {
     "data": {
      "text/html": [
       "<table>\n",
       "<caption>A tibble: 6 × 2</caption>\n",
       "<thead>\n",
       "\t<tr><th scope=col>reseller</th><th scope=col>u_geo</th></tr>\n",
       "\t<tr><th scope=col>&lt;fct&gt;</th><th scope=col>&lt;int&gt;</th></tr>\n",
       "</thead>\n",
       "<tbody>\n",
       "\t<tr><td>hostgator   </td><td>2</td></tr>\n",
       "\t<tr><td>moniker     </td><td>2</td></tr>\n",
       "\t<tr><td>psi-japan   </td><td>2</td></tr>\n",
       "\t<tr><td>registrarsec</td><td>2</td></tr>\n",
       "\t<tr><td>uk2         </td><td>2</td></tr>\n",
       "\t<tr><td>NA          </td><td>2</td></tr>\n",
       "</tbody>\n",
       "</table>\n"
      ],
      "text/latex": [
       "A tibble: 6 × 2\n",
       "\\begin{tabular}{ll}\n",
       " reseller & u\\_geo\\\\\n",
       " <fct> & <int>\\\\\n",
       "\\hline\n",
       "\t hostgator    & 2\\\\\n",
       "\t moniker      & 2\\\\\n",
       "\t psi-japan    & 2\\\\\n",
       "\t registrarsec & 2\\\\\n",
       "\t uk2          & 2\\\\\n",
       "\t NA           & 2\\\\\n",
       "\\end{tabular}\n"
      ],
      "text/markdown": [
       "\n",
       "A tibble: 6 × 2\n",
       "\n",
       "| reseller &lt;fct&gt; | u_geo &lt;int&gt; |\n",
       "|---|---|\n",
       "| hostgator    | 2 |\n",
       "| moniker      | 2 |\n",
       "| psi-japan    | 2 |\n",
       "| registrarsec | 2 |\n",
       "| uk2          | 2 |\n",
       "| NA           | 2 |\n",
       "\n"
      ],
      "text/plain": [
       "  reseller     u_geo\n",
       "1 hostgator    2    \n",
       "2 moniker      2    \n",
       "3 psi-japan    2    \n",
       "4 registrarsec 2    \n",
       "5 uk2          2    \n",
       "6 NA           2    "
      ]
     },
     "metadata": {},
     "output_type": "display_data"
    }
   ],
   "source": [
    "# number of unique geos per reseller\n",
    "geoLookupDF %>%\n",
    "  group_by(reseller) %>%\n",
    "  summarise(u_geo = n_distinct(reseller_geo))  %>%\n",
    "  filter(u_geo>1)"
   ]
  },
  {
   "cell_type": "code",
   "execution_count": 10,
   "metadata": {},
   "outputs": [
    {
     "name": "stderr",
     "output_type": "stream",
     "text": [
      "`summarise()` regrouping output by 'reseller' (override with `.groups` argument)\n",
      "\n"
     ]
    },
    {
     "data": {
      "text/html": [
       "<table>\n",
       "<caption>A grouped_df: 1 × 3</caption>\n",
       "<thead>\n",
       "\t<tr><th scope=col>reseller</th><th scope=col>reseller_country</th><th scope=col>u_geo</th></tr>\n",
       "\t<tr><th scope=col>&lt;fct&gt;</th><th scope=col>&lt;fct&gt;</th><th scope=col>&lt;int&gt;</th></tr>\n",
       "</thead>\n",
       "<tbody>\n",
       "\t<tr><td>NA</td><td>NA</td><td>2</td></tr>\n",
       "</tbody>\n",
       "</table>\n"
      ],
      "text/latex": [
       "A grouped\\_df: 1 × 3\n",
       "\\begin{tabular}{lll}\n",
       " reseller & reseller\\_country & u\\_geo\\\\\n",
       " <fct> & <fct> & <int>\\\\\n",
       "\\hline\n",
       "\t NA & NA & 2\\\\\n",
       "\\end{tabular}\n"
      ],
      "text/markdown": [
       "\n",
       "A grouped_df: 1 × 3\n",
       "\n",
       "| reseller &lt;fct&gt; | reseller_country &lt;fct&gt; | u_geo &lt;int&gt; |\n",
       "|---|---|---|\n",
       "| NA | NA | 2 |\n",
       "\n"
      ],
      "text/plain": [
       "  reseller reseller_country u_geo\n",
       "1 NA       NA               2    "
      ]
     },
     "metadata": {},
     "output_type": "display_data"
    }
   ],
   "source": [
    "# number of unique geos per reseller-country\n",
    "geoLookupDF %>%\n",
    "  group_by(reseller, reseller_country) %>%\n",
    "  summarise(u_geo = n_distinct(reseller_geo))  %>%\n",
    "  filter(u_geo>1)"
   ]
  },
  {
   "cell_type": "code",
   "execution_count": 11,
   "metadata": {},
   "outputs": [
    {
     "data": {
      "text/html": [
       "<table>\n",
       "<caption>A data.frame: 2 × 3</caption>\n",
       "<thead>\n",
       "\t<tr><th scope=col>reseller</th><th scope=col>reseller_country</th><th scope=col>reseller_geo</th></tr>\n",
       "\t<tr><th scope=col>&lt;fct&gt;</th><th scope=col>&lt;fct&gt;</th><th scope=col>&lt;fct&gt;</th></tr>\n",
       "</thead>\n",
       "<tbody>\n",
       "\t<tr><td>NA</td><td>NA</td><td>Others</td></tr>\n",
       "\t<tr><td>NA</td><td>NA</td><td>NA    </td></tr>\n",
       "</tbody>\n",
       "</table>\n"
      ],
      "text/latex": [
       "A data.frame: 2 × 3\n",
       "\\begin{tabular}{lll}\n",
       " reseller & reseller\\_country & reseller\\_geo\\\\\n",
       " <fct> & <fct> & <fct>\\\\\n",
       "\\hline\n",
       "\t NA & NA & Others\\\\\n",
       "\t NA & NA & NA    \\\\\n",
       "\\end{tabular}\n"
      ],
      "text/markdown": [
       "\n",
       "A data.frame: 2 × 3\n",
       "\n",
       "| reseller &lt;fct&gt; | reseller_country &lt;fct&gt; | reseller_geo &lt;fct&gt; |\n",
       "|---|---|---|\n",
       "| NA | NA | Others |\n",
       "| NA | NA | NA     |\n",
       "\n"
      ],
      "text/plain": [
       "  reseller reseller_country reseller_geo\n",
       "1 NA       NA               Others      \n",
       "2 NA       NA               NA          "
      ]
     },
     "metadata": {},
     "output_type": "display_data"
    }
   ],
   "source": [
    "geoLookupDF %>% filter(is.na(reseller))"
   ]
  },
  {
   "cell_type": "code",
   "execution_count": 12,
   "metadata": {},
   "outputs": [
    {
     "data": {
      "text/html": [
       "<style>\n",
       ".list-inline {list-style: none; margin:0; padding: 0}\n",
       ".list-inline>li {display: inline-block}\n",
       ".list-inline>li:not(:last-child)::after {content: \"\\00b7\"; padding: 0 .5ex}\n",
       "</style>\n",
       "<ol class=list-inline><li>1188250</li><li>39</li></ol>\n"
      ],
      "text/latex": [
       "\\begin{enumerate*}\n",
       "\\item 1188250\n",
       "\\item 39\n",
       "\\end{enumerate*}\n"
      ],
      "text/markdown": [
       "1. 1188250\n",
       "2. 39\n",
       "\n",
       "\n"
      ],
      "text/plain": [
       "[1] 1188250      39"
      ]
     },
     "metadata": {},
     "output_type": "display_data"
    },
    {
     "data": {
      "text/html": [
       "<style>\n",
       ".list-inline {list-style: none; margin:0; padding: 0}\n",
       ".list-inline>li {display: inline-block}\n",
       ".list-inline>li:not(:last-child)::after {content: \"\\00b7\"; padding: 0 .5ex}\n",
       "</style>\n",
       "<ol class=list-inline><li>1188250</li><li>40</li></ol>\n"
      ],
      "text/latex": [
       "\\begin{enumerate*}\n",
       "\\item 1188250\n",
       "\\item 40\n",
       "\\end{enumerate*}\n"
      ],
      "text/markdown": [
       "1. 1188250\n",
       "2. 40\n",
       "\n",
       "\n"
      ],
      "text/plain": [
       "[1] 1188250      40"
      ]
     },
     "metadata": {},
     "output_type": "display_data"
    },
    {
     "data": {
      "text/html": [
       "<table>\n",
       "<caption>A data.table: 6 × 40</caption>\n",
       "<thead>\n",
       "\t<tr><th scope=col>reseller</th><th scope=col>reseller_country</th><th scope=col>renewal_type</th><th scope=col>renewed_count</th><th scope=col>expiry_date</th><th scope=col>domain_id</th><th scope=col>domain</th><th scope=col>creation_date</th><th scope=col>status</th><th scope=col>tld</th><th scope=col>registrar</th><th scope=col>region</th><th scope=col>reg_period</th><th scope=col>registrant_country</th><th scope=col>renewal_status</th><th scope=col>renew_mbg</th><th scope=col>renew_type</th><th scope=col>autorenew_type</th><th scope=col>renew_date</th><th scope=col>renew_registrar</th><th scope=col>renew_reseller</th><th scope=col>reg_revenue</th><th scope=col>reg_arpt</th><th scope=col>renew_period</th><th scope=col>renew_domain_revenue</th><th scope=col>renew_arpt</th><th scope=col>reg_arpt_org</th><th scope=col>tld_registrar_index</th><th scope=col>sld</th><th scope=col>sld_type</th><th scope=col>sld_length</th><th scope=col>sld_type2</th><th scope=col>day_domains</th><th scope=col>log_reg_arpt</th><th scope=col>gibb_score</th><th scope=col>pattern</th><th scope=col>cluster</th><th scope=col>pattern_score</th><th scope=col>pattern_domain_count</th><th scope=col>reseller_geo</th></tr>\n",
       "\t<tr><th scope=col>&lt;chr&gt;</th><th scope=col>&lt;chr&gt;</th><th scope=col>&lt;chr&gt;</th><th scope=col>&lt;int&gt;</th><th scope=col>&lt;date&gt;</th><th scope=col>&lt;int&gt;</th><th scope=col>&lt;chr&gt;</th><th scope=col>&lt;date&gt;</th><th scope=col>&lt;chr&gt;</th><th scope=col>&lt;fct&gt;</th><th scope=col>&lt;chr&gt;</th><th scope=col>&lt;chr&gt;</th><th scope=col>&lt;int&gt;</th><th scope=col>&lt;chr&gt;</th><th scope=col>&lt;fct&gt;</th><th scope=col>&lt;int&gt;</th><th scope=col>&lt;chr&gt;</th><th scope=col>&lt;chr&gt;</th><th scope=col>&lt;date&gt;</th><th scope=col>&lt;chr&gt;</th><th scope=col>&lt;chr&gt;</th><th scope=col>&lt;dbl&gt;</th><th scope=col>&lt;dbl&gt;</th><th scope=col>&lt;int&gt;</th><th scope=col>&lt;dbl&gt;</th><th scope=col>&lt;dbl&gt;</th><th scope=col>&lt;dbl&gt;</th><th scope=col>&lt;chr&gt;</th><th scope=col>&lt;chr&gt;</th><th scope=col>&lt;fct&gt;</th><th scope=col>&lt;int&gt;</th><th scope=col>&lt;chr&gt;</th><th scope=col>&lt;int&gt;</th><th scope=col>&lt;dbl&gt;</th><th scope=col>&lt;dbl&gt;</th><th scope=col>&lt;chr&gt;</th><th scope=col>&lt;chr&gt;</th><th scope=col>&lt;dbl&gt;</th><th scope=col>&lt;int&gt;</th><th scope=col>&lt;fct&gt;</th></tr>\n",
       "</thead>\n",
       "<tbody>\n",
       "\t<tr><td>1&amp;1 internet</td><td>Germany</td><td>FirstTime</td><td>1</td><td>2020-01-21</td><td>91584433</td><td><span style=white-space:pre-wrap>racefor.fun     </span></td><td>2019-01-21</td><td>Active</td><td>fun</td><td>1&amp;1 internet</td><td>Non China</td><td>1</td><td>NA</td><td><span style=white-space:pre-wrap>Renewed   </span></td><td>0</td><td>auto-renewal</td><td><span style=white-space:pre-wrap>realized  </span></td><td>2020-01-21</td><td>1&amp;1 Internet</td><td>1&amp;1 Internet</td><td>15</td><td>15</td><td>1</td><td>15</td><td>15</td><td>15</td><td>fun1&amp;1 internet</td><td><span style=white-space:pre-wrap>racefor     </span></td><td>l </td><td> 7</td><td>7l </td><td>1</td><td>2.70805</td><td> 6.77</td><td><span style=white-space:pre-wrap>racefor     </span></td><td>1</td><td>1</td><td>1</td><td>EU</td></tr>\n",
       "\t<tr><td>1&amp;1 internet</td><td>Germany</td><td>FirstTime</td><td>1</td><td>2020-01-30</td><td>92254793</td><td><span style=white-space:pre-wrap>united4.fun     </span></td><td>2019-01-30</td><td>Active</td><td>fun</td><td>1&amp;1 internet</td><td>Non China</td><td>1</td><td>NA</td><td><span style=white-space:pre-wrap>Renewed   </span></td><td>0</td><td>auto-renewal</td><td><span style=white-space:pre-wrap>realized  </span></td><td>2020-01-30</td><td>1&amp;1 Internet</td><td>1&amp;1 Internet</td><td>15</td><td>15</td><td>1</td><td>15</td><td>15</td><td>15</td><td>fun1&amp;1 internet</td><td><span style=white-space:pre-wrap>united4     </span></td><td>ln</td><td> 7</td><td>7ln</td><td>1</td><td>2.70805</td><td> 8.65</td><td><span style=white-space:pre-wrap>united4     </span></td><td>1</td><td>1</td><td>1</td><td>EU</td></tr>\n",
       "\t<tr><td>1&amp;1 internet</td><td>Germany</td><td>FirstTime</td><td>1</td><td>2020-02-04</td><td>92827233</td><td><span style=white-space:pre-wrap>bereal.fun      </span></td><td>2019-02-04</td><td>Active</td><td>fun</td><td>1&amp;1 internet</td><td>Non China</td><td>1</td><td>NA</td><td><span style=white-space:pre-wrap>Renewed   </span></td><td>0</td><td>auto-renewal</td><td><span style=white-space:pre-wrap>realized  </span></td><td>2020-02-04</td><td>1&amp;1 Internet</td><td>1&amp;1 Internet</td><td>15</td><td>15</td><td>1</td><td>15</td><td>15</td><td>15</td><td>fun1&amp;1 internet</td><td><span style=white-space:pre-wrap>bereal      </span></td><td>l </td><td> 6</td><td>6l </td><td>1</td><td>2.70805</td><td>13.09</td><td><span style=white-space:pre-wrap>bereal      </span></td><td>1</td><td>1</td><td>1</td><td>EU</td></tr>\n",
       "\t<tr><td>1&amp;1 internet</td><td>Germany</td><td>FirstTime</td><td>1</td><td>2020-02-12</td><td>93490823</td><td>dogsoutdoors.fun</td><td>2019-02-12</td><td>Active</td><td>fun</td><td>1&amp;1 internet</td><td>Non China</td><td>1</td><td>NA</td><td>Not Renewd</td><td>0</td><td>auto-renewal</td><td>unrealized</td><td>2020-02-12</td><td>1&amp;1 Internet</td><td>1&amp;1 Internet</td><td>15</td><td>15</td><td>1</td><td>15</td><td>15</td><td>15</td><td>fun1&amp;1 internet</td><td>dogsoutdoors</td><td>l </td><td>12</td><td>12l</td><td>1</td><td>2.70805</td><td> 2.44</td><td>dogsoutdoors</td><td>1</td><td>1</td><td>1</td><td>EU</td></tr>\n",
       "\t<tr><td>1&amp;1 internet</td><td>Germany</td><td>FirstTime</td><td>1</td><td>2020-02-15</td><td>93767978</td><td><span style=white-space:pre-wrap>rosalux.fun     </span></td><td>2019-02-15</td><td>Active</td><td>fun</td><td>1&amp;1 internet</td><td>Non China</td><td>1</td><td>NA</td><td><span style=white-space:pre-wrap>Renewed   </span></td><td>0</td><td>auto-renewal</td><td><span style=white-space:pre-wrap>realized  </span></td><td>2020-02-15</td><td>1&amp;1 Internet</td><td>1&amp;1 Internet</td><td>15</td><td>15</td><td>1</td><td>15</td><td>15</td><td>15</td><td>fun1&amp;1 internet</td><td><span style=white-space:pre-wrap>rosalux     </span></td><td>l </td><td> 7</td><td>7l </td><td>1</td><td>2.70805</td><td> 2.34</td><td><span style=white-space:pre-wrap>rosalux     </span></td><td>1</td><td>1</td><td>1</td><td>EU</td></tr>\n",
       "\t<tr><td>1&amp;1 internet</td><td>Germany</td><td>FirstTime</td><td>1</td><td>2020-02-16</td><td>93823708</td><td><span style=white-space:pre-wrap>verygood.fun    </span></td><td>2019-02-16</td><td>Active</td><td>fun</td><td>1&amp;1 internet</td><td>Non China</td><td>1</td><td>NA</td><td><span style=white-space:pre-wrap>Renewed   </span></td><td>0</td><td>auto-renewal</td><td><span style=white-space:pre-wrap>realized  </span></td><td>2020-02-16</td><td>1&amp;1 Internet</td><td>1&amp;1 Internet</td><td>15</td><td>15</td><td>1</td><td>15</td><td>15</td><td>15</td><td>fun1&amp;1 internet</td><td><span style=white-space:pre-wrap>verygood    </span></td><td>l </td><td> 8</td><td>8l </td><td>1</td><td>2.70805</td><td> 3.64</td><td><span style=white-space:pre-wrap>verygood    </span></td><td>1</td><td>1</td><td>1</td><td>EU</td></tr>\n",
       "</tbody>\n",
       "</table>\n"
      ],
      "text/latex": [
       "A data.table: 6 × 40\n",
       "\\begin{tabular}{llllllllllllllllllllllllllllllllllllllll}\n",
       " reseller & reseller\\_country & renewal\\_type & renewed\\_count & expiry\\_date & domain\\_id & domain & creation\\_date & status & tld & registrar & region & reg\\_period & registrant\\_country & renewal\\_status & renew\\_mbg & renew\\_type & autorenew\\_type & renew\\_date & renew\\_registrar & renew\\_reseller & reg\\_revenue & reg\\_arpt & renew\\_period & renew\\_domain\\_revenue & renew\\_arpt & reg\\_arpt\\_org & tld\\_registrar\\_index & sld & sld\\_type & sld\\_length & sld\\_type2 & day\\_domains & log\\_reg\\_arpt & gibb\\_score & pattern & cluster & pattern\\_score & pattern\\_domain\\_count & reseller\\_geo\\\\\n",
       " <chr> & <chr> & <chr> & <int> & <date> & <int> & <chr> & <date> & <chr> & <fct> & <chr> & <chr> & <int> & <chr> & <fct> & <int> & <chr> & <chr> & <date> & <chr> & <chr> & <dbl> & <dbl> & <int> & <dbl> & <dbl> & <dbl> & <chr> & <chr> & <fct> & <int> & <chr> & <int> & <dbl> & <dbl> & <chr> & <chr> & <dbl> & <int> & <fct>\\\\\n",
       "\\hline\n",
       "\t 1\\&1 internet & Germany & FirstTime & 1 & 2020-01-21 & 91584433 & racefor.fun      & 2019-01-21 & Active & fun & 1\\&1 internet & Non China & 1 & NA & Renewed    & 0 & auto-renewal & realized   & 2020-01-21 & 1\\&1 Internet & 1\\&1 Internet & 15 & 15 & 1 & 15 & 15 & 15 & fun1\\&1 internet & racefor      & l  &  7 & 7l  & 1 & 2.70805 &  6.77 & racefor      & 1 & 1 & 1 & EU\\\\\n",
       "\t 1\\&1 internet & Germany & FirstTime & 1 & 2020-01-30 & 92254793 & united4.fun      & 2019-01-30 & Active & fun & 1\\&1 internet & Non China & 1 & NA & Renewed    & 0 & auto-renewal & realized   & 2020-01-30 & 1\\&1 Internet & 1\\&1 Internet & 15 & 15 & 1 & 15 & 15 & 15 & fun1\\&1 internet & united4      & ln &  7 & 7ln & 1 & 2.70805 &  8.65 & united4      & 1 & 1 & 1 & EU\\\\\n",
       "\t 1\\&1 internet & Germany & FirstTime & 1 & 2020-02-04 & 92827233 & bereal.fun       & 2019-02-04 & Active & fun & 1\\&1 internet & Non China & 1 & NA & Renewed    & 0 & auto-renewal & realized   & 2020-02-04 & 1\\&1 Internet & 1\\&1 Internet & 15 & 15 & 1 & 15 & 15 & 15 & fun1\\&1 internet & bereal       & l  &  6 & 6l  & 1 & 2.70805 & 13.09 & bereal       & 1 & 1 & 1 & EU\\\\\n",
       "\t 1\\&1 internet & Germany & FirstTime & 1 & 2020-02-12 & 93490823 & dogsoutdoors.fun & 2019-02-12 & Active & fun & 1\\&1 internet & Non China & 1 & NA & Not Renewd & 0 & auto-renewal & unrealized & 2020-02-12 & 1\\&1 Internet & 1\\&1 Internet & 15 & 15 & 1 & 15 & 15 & 15 & fun1\\&1 internet & dogsoutdoors & l  & 12 & 12l & 1 & 2.70805 &  2.44 & dogsoutdoors & 1 & 1 & 1 & EU\\\\\n",
       "\t 1\\&1 internet & Germany & FirstTime & 1 & 2020-02-15 & 93767978 & rosalux.fun      & 2019-02-15 & Active & fun & 1\\&1 internet & Non China & 1 & NA & Renewed    & 0 & auto-renewal & realized   & 2020-02-15 & 1\\&1 Internet & 1\\&1 Internet & 15 & 15 & 1 & 15 & 15 & 15 & fun1\\&1 internet & rosalux      & l  &  7 & 7l  & 1 & 2.70805 &  2.34 & rosalux      & 1 & 1 & 1 & EU\\\\\n",
       "\t 1\\&1 internet & Germany & FirstTime & 1 & 2020-02-16 & 93823708 & verygood.fun     & 2019-02-16 & Active & fun & 1\\&1 internet & Non China & 1 & NA & Renewed    & 0 & auto-renewal & realized   & 2020-02-16 & 1\\&1 Internet & 1\\&1 Internet & 15 & 15 & 1 & 15 & 15 & 15 & fun1\\&1 internet & verygood     & l  &  8 & 8l  & 1 & 2.70805 &  3.64 & verygood     & 1 & 1 & 1 & EU\\\\\n",
       "\\end{tabular}\n"
      ],
      "text/markdown": [
       "\n",
       "A data.table: 6 × 40\n",
       "\n",
       "| reseller &lt;chr&gt; | reseller_country &lt;chr&gt; | renewal_type &lt;chr&gt; | renewed_count &lt;int&gt; | expiry_date &lt;date&gt; | domain_id &lt;int&gt; | domain &lt;chr&gt; | creation_date &lt;date&gt; | status &lt;chr&gt; | tld &lt;fct&gt; | registrar &lt;chr&gt; | region &lt;chr&gt; | reg_period &lt;int&gt; | registrant_country &lt;chr&gt; | renewal_status &lt;fct&gt; | renew_mbg &lt;int&gt; | renew_type &lt;chr&gt; | autorenew_type &lt;chr&gt; | renew_date &lt;date&gt; | renew_registrar &lt;chr&gt; | renew_reseller &lt;chr&gt; | reg_revenue &lt;dbl&gt; | reg_arpt &lt;dbl&gt; | renew_period &lt;int&gt; | renew_domain_revenue &lt;dbl&gt; | renew_arpt &lt;dbl&gt; | reg_arpt_org &lt;dbl&gt; | tld_registrar_index &lt;chr&gt; | sld &lt;chr&gt; | sld_type &lt;fct&gt; | sld_length &lt;int&gt; | sld_type2 &lt;chr&gt; | day_domains &lt;int&gt; | log_reg_arpt &lt;dbl&gt; | gibb_score &lt;dbl&gt; | pattern &lt;chr&gt; | cluster &lt;chr&gt; | pattern_score &lt;dbl&gt; | pattern_domain_count &lt;int&gt; | reseller_geo &lt;fct&gt; |\n",
       "|---|---|---|---|---|---|---|---|---|---|---|---|---|---|---|---|---|---|---|---|---|---|---|---|---|---|---|---|---|---|---|---|---|---|---|---|---|---|---|---|\n",
       "| 1&amp;1 internet | Germany | FirstTime | 1 | 2020-01-21 | 91584433 | racefor.fun      | 2019-01-21 | Active | fun | 1&amp;1 internet | Non China | 1 | NA | Renewed    | 0 | auto-renewal | realized   | 2020-01-21 | 1&amp;1 Internet | 1&amp;1 Internet | 15 | 15 | 1 | 15 | 15 | 15 | fun1&amp;1 internet | racefor      | l  |  7 | 7l  | 1 | 2.70805 |  6.77 | racefor      | 1 | 1 | 1 | EU |\n",
       "| 1&amp;1 internet | Germany | FirstTime | 1 | 2020-01-30 | 92254793 | united4.fun      | 2019-01-30 | Active | fun | 1&amp;1 internet | Non China | 1 | NA | Renewed    | 0 | auto-renewal | realized   | 2020-01-30 | 1&amp;1 Internet | 1&amp;1 Internet | 15 | 15 | 1 | 15 | 15 | 15 | fun1&amp;1 internet | united4      | ln |  7 | 7ln | 1 | 2.70805 |  8.65 | united4      | 1 | 1 | 1 | EU |\n",
       "| 1&amp;1 internet | Germany | FirstTime | 1 | 2020-02-04 | 92827233 | bereal.fun       | 2019-02-04 | Active | fun | 1&amp;1 internet | Non China | 1 | NA | Renewed    | 0 | auto-renewal | realized   | 2020-02-04 | 1&amp;1 Internet | 1&amp;1 Internet | 15 | 15 | 1 | 15 | 15 | 15 | fun1&amp;1 internet | bereal       | l  |  6 | 6l  | 1 | 2.70805 | 13.09 | bereal       | 1 | 1 | 1 | EU |\n",
       "| 1&amp;1 internet | Germany | FirstTime | 1 | 2020-02-12 | 93490823 | dogsoutdoors.fun | 2019-02-12 | Active | fun | 1&amp;1 internet | Non China | 1 | NA | Not Renewd | 0 | auto-renewal | unrealized | 2020-02-12 | 1&amp;1 Internet | 1&amp;1 Internet | 15 | 15 | 1 | 15 | 15 | 15 | fun1&amp;1 internet | dogsoutdoors | l  | 12 | 12l | 1 | 2.70805 |  2.44 | dogsoutdoors | 1 | 1 | 1 | EU |\n",
       "| 1&amp;1 internet | Germany | FirstTime | 1 | 2020-02-15 | 93767978 | rosalux.fun      | 2019-02-15 | Active | fun | 1&amp;1 internet | Non China | 1 | NA | Renewed    | 0 | auto-renewal | realized   | 2020-02-15 | 1&amp;1 Internet | 1&amp;1 Internet | 15 | 15 | 1 | 15 | 15 | 15 | fun1&amp;1 internet | rosalux      | l  |  7 | 7l  | 1 | 2.70805 |  2.34 | rosalux      | 1 | 1 | 1 | EU |\n",
       "| 1&amp;1 internet | Germany | FirstTime | 1 | 2020-02-16 | 93823708 | verygood.fun     | 2019-02-16 | Active | fun | 1&amp;1 internet | Non China | 1 | NA | Renewed    | 0 | auto-renewal | realized   | 2020-02-16 | 1&amp;1 Internet | 1&amp;1 Internet | 15 | 15 | 1 | 15 | 15 | 15 | fun1&amp;1 internet | verygood     | l  |  8 | 8l  | 1 | 2.70805 |  3.64 | verygood     | 1 | 1 | 1 | EU |\n",
       "\n"
      ],
      "text/plain": [
       "  reseller     reseller_country renewal_type renewed_count expiry_date\n",
       "1 1&1 internet Germany          FirstTime    1             2020-01-21 \n",
       "2 1&1 internet Germany          FirstTime    1             2020-01-30 \n",
       "3 1&1 internet Germany          FirstTime    1             2020-02-04 \n",
       "4 1&1 internet Germany          FirstTime    1             2020-02-12 \n",
       "5 1&1 internet Germany          FirstTime    1             2020-02-15 \n",
       "6 1&1 internet Germany          FirstTime    1             2020-02-16 \n",
       "  domain_id domain           creation_date status tld registrar    region   \n",
       "1 91584433  racefor.fun      2019-01-21    Active fun 1&1 internet Non China\n",
       "2 92254793  united4.fun      2019-01-30    Active fun 1&1 internet Non China\n",
       "3 92827233  bereal.fun       2019-02-04    Active fun 1&1 internet Non China\n",
       "4 93490823  dogsoutdoors.fun 2019-02-12    Active fun 1&1 internet Non China\n",
       "5 93767978  rosalux.fun      2019-02-15    Active fun 1&1 internet Non China\n",
       "6 93823708  verygood.fun     2019-02-16    Active fun 1&1 internet Non China\n",
       "  reg_period registrant_country renewal_status renew_mbg renew_type  \n",
       "1 1          NA                 Renewed        0         auto-renewal\n",
       "2 1          NA                 Renewed        0         auto-renewal\n",
       "3 1          NA                 Renewed        0         auto-renewal\n",
       "4 1          NA                 Not Renewd     0         auto-renewal\n",
       "5 1          NA                 Renewed        0         auto-renewal\n",
       "6 1          NA                 Renewed        0         auto-renewal\n",
       "  autorenew_type renew_date renew_registrar renew_reseller reg_revenue reg_arpt\n",
       "1 realized       2020-01-21 1&1 Internet    1&1 Internet   15          15      \n",
       "2 realized       2020-01-30 1&1 Internet    1&1 Internet   15          15      \n",
       "3 realized       2020-02-04 1&1 Internet    1&1 Internet   15          15      \n",
       "4 unrealized     2020-02-12 1&1 Internet    1&1 Internet   15          15      \n",
       "5 realized       2020-02-15 1&1 Internet    1&1 Internet   15          15      \n",
       "6 realized       2020-02-16 1&1 Internet    1&1 Internet   15          15      \n",
       "  renew_period renew_domain_revenue renew_arpt reg_arpt_org tld_registrar_index\n",
       "1 1            15                   15         15           fun1&1 internet    \n",
       "2 1            15                   15         15           fun1&1 internet    \n",
       "3 1            15                   15         15           fun1&1 internet    \n",
       "4 1            15                   15         15           fun1&1 internet    \n",
       "5 1            15                   15         15           fun1&1 internet    \n",
       "6 1            15                   15         15           fun1&1 internet    \n",
       "  sld          sld_type sld_length sld_type2 day_domains log_reg_arpt\n",
       "1 racefor      l         7         7l        1           2.70805     \n",
       "2 united4      ln        7         7ln       1           2.70805     \n",
       "3 bereal       l         6         6l        1           2.70805     \n",
       "4 dogsoutdoors l        12         12l       1           2.70805     \n",
       "5 rosalux      l         7         7l        1           2.70805     \n",
       "6 verygood     l         8         8l        1           2.70805     \n",
       "  gibb_score pattern      cluster pattern_score pattern_domain_count\n",
       "1  6.77      racefor      1       1             1                   \n",
       "2  8.65      united4      1       1             1                   \n",
       "3 13.09      bereal       1       1             1                   \n",
       "4  2.44      dogsoutdoors 1       1             1                   \n",
       "5  2.34      rosalux      1       1             1                   \n",
       "6  3.64      verygood     1       1             1                   \n",
       "  reseller_geo\n",
       "1 EU          \n",
       "2 EU          \n",
       "3 EU          \n",
       "4 EU          \n",
       "5 EU          \n",
       "6 EU          "
      ]
     },
     "metadata": {},
     "output_type": "display_data"
    }
   ],
   "source": [
    "# ensure correct number of dimm\n",
    "dim(expiry_train_df_1)\n",
    "expiry_train_df_2 <- merge(expiry_train_df_1,geoLookupDF,on=c('reseller','reseller_country'), all.x = TRUE)\n",
    "dim(expiry_train_df_2)\n",
    "head(expiry_train_df_2)\n"
   ]
  },
  {
   "cell_type": "code",
   "execution_count": 13,
   "metadata": {},
   "outputs": [],
   "source": [
    "# replace original\n",
    "expiry_train_df_1 <- expiry_train_df_2"
   ]
  },
  {
   "cell_type": "code",
   "execution_count": 14,
   "metadata": {},
   "outputs": [
    {
     "data": {
      "text/html": [
       "<table>\n",
       "<caption>A data.table: 13 × 1</caption>\n",
       "<thead>\n",
       "\t<tr><th scope=col>reseller</th></tr>\n",
       "\t<tr><th scope=col>&lt;chr&gt;</th></tr>\n",
       "</thead>\n",
       "<tbody>\n",
       "\t<tr><td>anygaming        </td></tr>\n",
       "\t<tr><td>electron networks</td></tr>\n",
       "\t<tr><td>innovadeus       </td></tr>\n",
       "\t<tr><td>innovadeus       </td></tr>\n",
       "\t<tr><td>netclues         </td></tr>\n",
       "\t<tr><td>ownregistrar     </td></tr>\n",
       "\t<tr><td>ownregistrar     </td></tr>\n",
       "\t<tr><td>ownregistrar     </td></tr>\n",
       "\t<tr><td>ownregistrar     </td></tr>\n",
       "\t<tr><td>tucows           </td></tr>\n",
       "\t<tr><td>tucows           </td></tr>\n",
       "\t<tr><td>virtua drug      </td></tr>\n",
       "\t<tr><td>virtua drug      </td></tr>\n",
       "</tbody>\n",
       "</table>\n"
      ],
      "text/latex": [
       "A data.table: 13 × 1\n",
       "\\begin{tabular}{l}\n",
       " reseller\\\\\n",
       " <chr>\\\\\n",
       "\\hline\n",
       "\t anygaming        \\\\\n",
       "\t electron networks\\\\\n",
       "\t innovadeus       \\\\\n",
       "\t innovadeus       \\\\\n",
       "\t netclues         \\\\\n",
       "\t ownregistrar     \\\\\n",
       "\t ownregistrar     \\\\\n",
       "\t ownregistrar     \\\\\n",
       "\t ownregistrar     \\\\\n",
       "\t tucows           \\\\\n",
       "\t tucows           \\\\\n",
       "\t virtua drug      \\\\\n",
       "\t virtua drug      \\\\\n",
       "\\end{tabular}\n"
      ],
      "text/markdown": [
       "\n",
       "A data.table: 13 × 1\n",
       "\n",
       "| reseller &lt;chr&gt; |\n",
       "|---|\n",
       "| anygaming         |\n",
       "| electron networks |\n",
       "| innovadeus        |\n",
       "| innovadeus        |\n",
       "| netclues          |\n",
       "| ownregistrar      |\n",
       "| ownregistrar      |\n",
       "| ownregistrar      |\n",
       "| ownregistrar      |\n",
       "| tucows            |\n",
       "| tucows            |\n",
       "| virtua drug       |\n",
       "| virtua drug       |\n",
       "\n"
      ],
      "text/plain": [
       "   reseller         \n",
       "1  anygaming        \n",
       "2  electron networks\n",
       "3  innovadeus       \n",
       "4  innovadeus       \n",
       "5  netclues         \n",
       "6  ownregistrar     \n",
       "7  ownregistrar     \n",
       "8  ownregistrar     \n",
       "9  ownregistrar     \n",
       "10 tucows           \n",
       "11 tucows           \n",
       "12 virtua drug      \n",
       "13 virtua drug      "
      ]
     },
     "metadata": {},
     "output_type": "display_data"
    }
   ],
   "source": [
    "expiry_train_df_1 %>% filter(reseller_country=='') %>% select(reseller)"
   ]
  },
  {
   "cell_type": "code",
   "execution_count": 15,
   "metadata": {},
   "outputs": [
    {
     "name": "stderr",
     "output_type": "stream",
     "text": [
      "`summarise()` ungrouping output (override with `.groups` argument)\n",
      "\n"
     ]
    },
    {
     "data": {
      "text/html": [
       "<table>\n",
       "<caption>A tibble: 27 × 3</caption>\n",
       "<thead>\n",
       "\t<tr><th scope=col>tld_registrar_index</th><th scope=col>u_cntry</th><th scope=col>u_geo</th></tr>\n",
       "\t<tr><th scope=col>&lt;chr&gt;</th><th scope=col>&lt;int&gt;</th><th scope=col>&lt;int&gt;</th></tr>\n",
       "</thead>\n",
       "<tbody>\n",
       "\t<tr><td>funkey-systems    </td><td>2</td><td>2</td></tr>\n",
       "\t<tr><td>funtucows         </td><td>2</td><td>2</td></tr>\n",
       "\t<tr><td>onlineinnovadeus  </td><td>2</td><td>1</td></tr>\n",
       "\t<tr><td>onlinekey-systems </td><td>2</td><td>2</td></tr>\n",
       "\t<tr><td>onlineownregistrar</td><td>2</td><td>2</td></tr>\n",
       "\t<tr><td>onlineshopify     </td><td>2</td><td>2</td></tr>\n",
       "\t<tr><td>onlinetucows      </td><td>2</td><td>2</td></tr>\n",
       "\t<tr><td>onlineuk2         </td><td>2</td><td>2</td></tr>\n",
       "\t<tr><td>presskey-systems  </td><td>2</td><td>2</td></tr>\n",
       "\t<tr><td>presspdr ltd      </td><td>2</td><td>2</td></tr>\n",
       "\t<tr><td>pwpdr ltd         </td><td>2</td><td>2</td></tr>\n",
       "\t<tr><td>sitekey-systems   </td><td>2</td><td>2</td></tr>\n",
       "\t<tr><td>sitetucows        </td><td>2</td><td>2</td></tr>\n",
       "\t<tr><td>siteuk2           </td><td>2</td><td>2</td></tr>\n",
       "\t<tr><td>spacealpnames     </td><td>2</td><td>1</td></tr>\n",
       "\t<tr><td>spacepdr ltd      </td><td>2</td><td>2</td></tr>\n",
       "\t<tr><td>spaceshopify      </td><td>2</td><td>2</td></tr>\n",
       "\t<tr><td>spacetucows       </td><td>2</td><td>2</td></tr>\n",
       "\t<tr><td>spaceuk2          </td><td>2</td><td>2</td></tr>\n",
       "\t<tr><td>spacewhois        </td><td>2</td><td>2</td></tr>\n",
       "\t<tr><td>storetucows       </td><td>2</td><td>2</td></tr>\n",
       "\t<tr><td>storeuk2          </td><td>2</td><td>2</td></tr>\n",
       "\t<tr><td>techkey-systems   </td><td>2</td><td>2</td></tr>\n",
       "\t<tr><td>techtucows        </td><td>3</td><td>2</td></tr>\n",
       "\t<tr><td>websitetucows     </td><td>3</td><td>2</td></tr>\n",
       "\t<tr><td>websiteuk2        </td><td>2</td><td>2</td></tr>\n",
       "\t<tr><td>websitewhois      </td><td>2</td><td>2</td></tr>\n",
       "</tbody>\n",
       "</table>\n"
      ],
      "text/latex": [
       "A tibble: 27 × 3\n",
       "\\begin{tabular}{lll}\n",
       " tld\\_registrar\\_index & u\\_cntry & u\\_geo\\\\\n",
       " <chr> & <int> & <int>\\\\\n",
       "\\hline\n",
       "\t funkey-systems     & 2 & 2\\\\\n",
       "\t funtucows          & 2 & 2\\\\\n",
       "\t onlineinnovadeus   & 2 & 1\\\\\n",
       "\t onlinekey-systems  & 2 & 2\\\\\n",
       "\t onlineownregistrar & 2 & 2\\\\\n",
       "\t onlineshopify      & 2 & 2\\\\\n",
       "\t onlinetucows       & 2 & 2\\\\\n",
       "\t onlineuk2          & 2 & 2\\\\\n",
       "\t presskey-systems   & 2 & 2\\\\\n",
       "\t presspdr ltd       & 2 & 2\\\\\n",
       "\t pwpdr ltd          & 2 & 2\\\\\n",
       "\t sitekey-systems    & 2 & 2\\\\\n",
       "\t sitetucows         & 2 & 2\\\\\n",
       "\t siteuk2            & 2 & 2\\\\\n",
       "\t spacealpnames      & 2 & 1\\\\\n",
       "\t spacepdr ltd       & 2 & 2\\\\\n",
       "\t spaceshopify       & 2 & 2\\\\\n",
       "\t spacetucows        & 2 & 2\\\\\n",
       "\t spaceuk2           & 2 & 2\\\\\n",
       "\t spacewhois         & 2 & 2\\\\\n",
       "\t storetucows        & 2 & 2\\\\\n",
       "\t storeuk2           & 2 & 2\\\\\n",
       "\t techkey-systems    & 2 & 2\\\\\n",
       "\t techtucows         & 3 & 2\\\\\n",
       "\t websitetucows      & 3 & 2\\\\\n",
       "\t websiteuk2         & 2 & 2\\\\\n",
       "\t websitewhois       & 2 & 2\\\\\n",
       "\\end{tabular}\n"
      ],
      "text/markdown": [
       "\n",
       "A tibble: 27 × 3\n",
       "\n",
       "| tld_registrar_index &lt;chr&gt; | u_cntry &lt;int&gt; | u_geo &lt;int&gt; |\n",
       "|---|---|---|\n",
       "| funkey-systems     | 2 | 2 |\n",
       "| funtucows          | 2 | 2 |\n",
       "| onlineinnovadeus   | 2 | 1 |\n",
       "| onlinekey-systems  | 2 | 2 |\n",
       "| onlineownregistrar | 2 | 2 |\n",
       "| onlineshopify      | 2 | 2 |\n",
       "| onlinetucows       | 2 | 2 |\n",
       "| onlineuk2          | 2 | 2 |\n",
       "| presskey-systems   | 2 | 2 |\n",
       "| presspdr ltd       | 2 | 2 |\n",
       "| pwpdr ltd          | 2 | 2 |\n",
       "| sitekey-systems    | 2 | 2 |\n",
       "| sitetucows         | 2 | 2 |\n",
       "| siteuk2            | 2 | 2 |\n",
       "| spacealpnames      | 2 | 1 |\n",
       "| spacepdr ltd       | 2 | 2 |\n",
       "| spaceshopify       | 2 | 2 |\n",
       "| spacetucows        | 2 | 2 |\n",
       "| spaceuk2           | 2 | 2 |\n",
       "| spacewhois         | 2 | 2 |\n",
       "| storetucows        | 2 | 2 |\n",
       "| storeuk2           | 2 | 2 |\n",
       "| techkey-systems    | 2 | 2 |\n",
       "| techtucows         | 3 | 2 |\n",
       "| websitetucows      | 3 | 2 |\n",
       "| websiteuk2         | 2 | 2 |\n",
       "| websitewhois       | 2 | 2 |\n",
       "\n"
      ],
      "text/plain": [
       "   tld_registrar_index u_cntry u_geo\n",
       "1  funkey-systems      2       2    \n",
       "2  funtucows           2       2    \n",
       "3  onlineinnovadeus    2       1    \n",
       "4  onlinekey-systems   2       2    \n",
       "5  onlineownregistrar  2       2    \n",
       "6  onlineshopify       2       2    \n",
       "7  onlinetucows        2       2    \n",
       "8  onlineuk2           2       2    \n",
       "9  presskey-systems    2       2    \n",
       "10 presspdr ltd        2       2    \n",
       "11 pwpdr ltd           2       2    \n",
       "12 sitekey-systems     2       2    \n",
       "13 sitetucows          2       2    \n",
       "14 siteuk2             2       2    \n",
       "15 spacealpnames       2       1    \n",
       "16 spacepdr ltd        2       2    \n",
       "17 spaceshopify        2       2    \n",
       "18 spacetucows         2       2    \n",
       "19 spaceuk2            2       2    \n",
       "20 spacewhois          2       2    \n",
       "21 storetucows         2       2    \n",
       "22 storeuk2            2       2    \n",
       "23 techkey-systems     2       2    \n",
       "24 techtucows          3       2    \n",
       "25 websitetucows       3       2    \n",
       "26 websiteuk2          2       2    \n",
       "27 websitewhois        2       2    "
      ]
     },
     "metadata": {},
     "output_type": "display_data"
    }
   ],
   "source": [
    "# number of unique reseller_country and reseller_geo for eachtld_registrar_index\n",
    "expiry_train_df_1 %>%\n",
    "  group_by(tld_registrar_index) %>%\n",
    "  summarise(u_cntry = n_distinct(reseller_country),\n",
    "         u_geo = n_distinct(reseller_geo))  %>%\n",
    "  filter(u_cntry>1)"
   ]
  },
  {
   "cell_type": "markdown",
   "metadata": {},
   "source": [
    "## Feature Engineering for tld-reseller level "
   ]
  },
  {
   "cell_type": "code",
   "execution_count": 16,
   "metadata": {},
   "outputs": [
    {
     "name": "stderr",
     "output_type": "stream",
     "text": [
      "`summarise()` regrouping output by 'tld_registrar_index' (override with `.groups` argument)\n",
      "\n"
     ]
    }
   ],
   "source": [
    "# new geo level feature eng\n",
    "geo_maj = expiry_train_df_1 %>%\n",
    "  add_count(tld_registrar_index, reseller_geo) %>%\n",
    "  group_by(tld_registrar_index) %>%\n",
    "  mutate(geo_maj = reseller_geo[n == max(n)][1]) %>%\n",
    "  select(-n) %>% \n",
    "  group_by(tld_registrar_index,geo_maj) %>%\n",
    "    summarise(n = n()) %>% \n",
    "    arrange(desc(n)) %>%\n",
    "    pull(geo_maj)"
   ]
  },
  {
   "cell_type": "code",
   "execution_count": 17,
   "metadata": {},
   "outputs": [
    {
     "name": "stderr",
     "output_type": "stream",
     "text": [
      "`summarise()` ungrouping output (override with `.groups` argument)\n",
      "\n"
     ]
    }
   ],
   "source": [
    "# new geo level feature eng\n",
    "geo_cnt = expiry_train_df_1 %>%\n",
    "  add_count(tld_registrar_index, reseller_geo) %>%\n",
    "  group_by(tld_registrar_index) %>%\n",
    "  summarise(geo_cnt = n_distinct(reseller_geo)) %>%\n",
    "  pull(geo_cnt)  "
   ]
  },
  {
   "cell_type": "code",
   "execution_count": 18,
   "metadata": {},
   "outputs": [],
   "source": [
    "count_pct <- function(df) {\n",
    "  return(\n",
    "    df %>%\n",
    "      tally %>% \n",
    "      mutate(n_prp = n/sum(n))\n",
    "  )\n",
    "}"
   ]
  },
  {
   "cell_type": "code",
   "execution_count": 19,
   "metadata": {},
   "outputs": [],
   "source": [
    "tld_reseller_names = expiry_train_df_1 %>% \n",
    "    group_by(tld_registrar_index) %>% \n",
    "    count_pct %>%\n",
    "    arrange(desc(n)) %>% \n",
    "   pull(tld_registrar_index)"
   ]
  },
  {
   "cell_type": "code",
   "execution_count": 20,
   "metadata": {},
   "outputs": [],
   "source": [
    "count_obs = expiry_train_df_1 %>% \n",
    "    group_by(tld_registrar_index) %>% \n",
    "    count_pct %>%\n",
    "    arrange(desc(n)) %>% \n",
    "    pull(n)"
   ]
  },
  {
   "cell_type": "code",
   "execution_count": 21,
   "metadata": {},
   "outputs": [
    {
     "name": "stderr",
     "output_type": "stream",
     "text": [
      "`summarise()` ungrouping output (override with `.groups` argument)\n",
      "\n"
     ]
    }
   ],
   "source": [
    "ren_prp = expiry_train_df_1 %>% \n",
    "    group_by(tld_registrar_index) %>% \n",
    "    summarise(n = n(), ren_prp = sum(renewal_status=='Renewed')/sum(n))  %>% \n",
    "    arrange(desc(n)) %>% \n",
    "    pull(ren_prp)"
   ]
  },
  {
   "cell_type": "code",
   "execution_count": 22,
   "metadata": {},
   "outputs": [
    {
     "name": "stderr",
     "output_type": "stream",
     "text": [
      "`summarise()` ungrouping output (override with `.groups` argument)\n",
      "\n"
     ]
    }
   ],
   "source": [
    "# not informative -- tld_cnt always = 1 so tld_rat is ismply mult.inverse of count_obs\n",
    "tld_rat = expiry_train_df_1 %>%\n",
    "    group_by(tld_registrar_index) %>% \n",
    "    summarise(n = n(), tld_cnt = n_distinct(tld), tld_rat = tld_cnt/n) %>% \n",
    "    arrange(desc(n)) %>%\n",
    "    pull(tld_rat)"
   ]
  },
  {
   "cell_type": "code",
   "execution_count": 23,
   "metadata": {},
   "outputs": [
    {
     "name": "stderr",
     "output_type": "stream",
     "text": [
      "`summarise()` regrouping output by 'tld_registrar_index' (override with `.groups` argument)\n",
      "\n"
     ]
    }
   ],
   "source": [
    "country_maj = expiry_train_df_1 %>%\n",
    "  add_count(tld_registrar_index, reseller_country) %>%\n",
    "  group_by(tld_registrar_index) %>%\n",
    "  mutate(reseller_country_maj = reseller_country[n == max(n)][1]) %>%\n",
    "  select(-n) %>% \n",
    "  group_by(tld_registrar_index,reseller_country_maj) %>%\n",
    "    summarise(n = n()) %>% \n",
    "    arrange(desc(n)) %>%\n",
    "    pull(reseller_country_maj)"
   ]
  },
  {
   "cell_type": "code",
   "execution_count": 24,
   "metadata": {},
   "outputs": [
    {
     "name": "stderr",
     "output_type": "stream",
     "text": [
      "`summarise()` ungrouping output (override with `.groups` argument)\n",
      "\n"
     ]
    }
   ],
   "source": [
    "country_cnt = expiry_train_df_1 %>%\n",
    "  add_count(tld_registrar_index, reseller_country) %>%\n",
    "  group_by(tld_registrar_index) %>%\n",
    "  summarise(reseller_country_cnt = n_distinct(reseller_country)) %>%\n",
    "  pull(reseller_country_cnt)  "
   ]
  },
  {
   "cell_type": "code",
   "execution_count": 25,
   "metadata": {},
   "outputs": [
    {
     "name": "stderr",
     "output_type": "stream",
     "text": [
      "`summarise()` regrouping output by 'tld_registrar_index' (override with `.groups` argument)\n",
      "\n"
     ]
    }
   ],
   "source": [
    "region_maj = expiry_train_df_1 %>%\n",
    "  add_count(tld_registrar_index, region) %>%\n",
    "  group_by(tld_registrar_index) %>%\n",
    "  mutate(region_maj = region[n == max(n)][1]) %>%\n",
    "  select(-n) %>% \n",
    "  group_by(tld_registrar_index,region_maj) %>%\n",
    "    summarise(n = n()) %>% \n",
    "    arrange(desc(n)) %>%\n",
    "    pull(region_maj)"
   ]
  },
  {
   "cell_type": "code",
   "execution_count": 26,
   "metadata": {},
   "outputs": [
    {
     "name": "stderr",
     "output_type": "stream",
     "text": [
      "`summarise()` ungrouping output (override with `.groups` argument)\n",
      "\n"
     ]
    }
   ],
   "source": [
    "region_cnt = expiry_train_df_1 %>%\n",
    "  add_count(tld_registrar_index, region) %>%\n",
    "  group_by(tld_registrar_index) %>%\n",
    "  summarise(reseller_region_cnt = n_distinct(reseller_country)) %>%\n",
    "  pull(reseller_region_cnt)  "
   ]
  },
  {
   "cell_type": "code",
   "execution_count": 27,
   "metadata": {},
   "outputs": [
    {
     "name": "stderr",
     "output_type": "stream",
     "text": [
      "`summarise()` ungrouping output (override with `.groups` argument)\n",
      "\n"
     ]
    }
   ],
   "source": [
    "daydom_stats = expiry_train_df_1 %>%\n",
    "    group_by(tld_registrar_index) %>% \n",
    "    summarise(n = n(), \n",
    "              daydom_min = min(day_domains), \n",
    "              daydom_max = max(day_domains), \n",
    "              daydom_mean = mean(day_domains, na.rm = TRUE), \n",
    "              daydom_rng = daydom_max - daydom_min, \n",
    "              daydom_std = sd(day_domains, na.rm = TRUE), \n",
    "              daydom_skew = skewness(day_domains, na.rm = TRUE), \n",
    "              daydom_kurt = kurtosis(day_domains, na.rm = TRUE)) %>% \n",
    "    arrange(desc(n)) \n",
    "\n",
    "daydom_min <- daydom_stats %>% pull(daydom_min)\n",
    "daydom_max <- daydom_stats %>% pull(daydom_max)\n",
    "daydom_mean <- daydom_stats %>% pull(daydom_mean)\n",
    "daydom_rng <- daydom_stats %>% pull(daydom_rng)\n",
    "daydom_std <- daydom_stats %>% pull(daydom_std)\n",
    "daydom_skew <- daydom_stats %>% pull(daydom_skew)\n",
    "daydom_kurt <- daydom_stats %>% pull(daydom_kurt)\n",
    "\n"
   ]
  },
  {
   "cell_type": "code",
   "execution_count": 28,
   "metadata": {},
   "outputs": [
    {
     "name": "stderr",
     "output_type": "stream",
     "text": [
      "`summarise()` ungrouping output (override with `.groups` argument)\n",
      "\n"
     ]
    }
   ],
   "source": [
    "sldlen_stats = expiry_train_df_1 %>%\n",
    "    group_by(tld_registrar_index) %>% \n",
    "    summarise(n = n(), \n",
    "              min = min(sld_length), \n",
    "              max = max(sld_length), \n",
    "              mean = mean(sld_length, na.rm = TRUE), \n",
    "              rng = max - min, \n",
    "              std = sd(sld_length, na.rm = TRUE), \n",
    "              skew = skewness(sld_length, na.rm = TRUE), \n",
    "              kurt = kurtosis(sld_length, na.rm = TRUE)) %>% \n",
    "    arrange(desc(n)) \n",
    "\n",
    "sldlen_min <- sldlen_stats %>% pull(min)\n",
    "sldlen_max <- sldlen_stats %>% pull(max)\n",
    "sldlen_mean <- sldlen_stats %>% pull(mean)\n",
    "sldlen_rng <- sldlen_stats %>% pull(rng)\n",
    "sldlen_std <- sldlen_stats %>% pull(std)\n",
    "sldlen_skew <- sldlen_stats %>% pull(skew)\n",
    "sldlen_kurt <- sldlen_stats %>% pull(kurt)\n",
    "\n"
   ]
  },
  {
   "cell_type": "code",
   "execution_count": 29,
   "metadata": {},
   "outputs": [
    {
     "name": "stderr",
     "output_type": "stream",
     "text": [
      "`summarise()` ungrouping output (override with `.groups` argument)\n",
      "\n"
     ]
    }
   ],
   "source": [
    "gibbs_stats = expiry_train_df_1 %>%\n",
    "    group_by(tld_registrar_index) %>% \n",
    "    summarise(n = n(), \n",
    "              min = min(gibb_score), \n",
    "              max = max(gibb_score), \n",
    "              mean = mean(gibb_score, na.rm = TRUE), \n",
    "              rng = max - min, \n",
    "              std = sd(gibb_score, na.rm = TRUE), \n",
    "              skew = skewness(gibb_score, na.rm = TRUE), \n",
    "              kurt = kurtosis(gibb_score, na.rm = TRUE)) %>% \n",
    "    arrange(desc(n)) \n",
    "\n",
    "gibbs_min <- gibbs_stats %>% pull(min)\n",
    "gibbs_max <- gibbs_stats %>% pull(max)\n",
    "gibbs_mean <- gibbs_stats %>% pull(mean)\n",
    "gibbs_rng <- gibbs_stats %>% pull(rng)\n",
    "gibbs_std <- gibbs_stats %>% pull(std)\n",
    "gibbs_skew <- gibbs_stats %>% pull(skew)\n",
    "gibbs_kurt <- gibbs_stats %>% pull(kurt)\n"
   ]
  },
  {
   "cell_type": "code",
   "execution_count": 30,
   "metadata": {},
   "outputs": [
    {
     "name": "stderr",
     "output_type": "stream",
     "text": [
      "`summarise()` ungrouping output (override with `.groups` argument)\n",
      "\n"
     ]
    }
   ],
   "source": [
    "pdcnt_stats = expiry_train_df_1 %>%\n",
    "    group_by(tld_registrar_index) %>% \n",
    "    summarise(n = n(), \n",
    "              min = min(pattern_domain_count), \n",
    "              max = max(pattern_domain_count), \n",
    "              mean = mean(pattern_domain_count, na.rm = TRUE), \n",
    "              rng = max - min, \n",
    "              std = sd(pattern_domain_count, na.rm = TRUE), \n",
    "              skew = skewness(pattern_domain_count, na.rm = TRUE), \n",
    "              kurt = kurtosis(pattern_domain_count, na.rm = TRUE)) %>% \n",
    "    arrange(desc(n)) \n",
    "\n",
    "pdcnt_min <- pdcnt_stats %>% pull(min)\n",
    "pdcnt_max <- pdcnt_stats %>% pull(max)\n",
    "pdcnt_mean <- pdcnt_stats %>% pull(mean)\n",
    "pdcnt_rng <- pdcnt_stats %>% pull(rng)\n",
    "pdcnt_std <- pdcnt_stats %>% pull(std)\n",
    "pdcnt_skew <- pdcnt_stats %>% pull(skew)\n",
    "pdcnt_kurt <- pdcnt_stats %>% pull(kurt)"
   ]
  },
  {
   "cell_type": "code",
   "execution_count": 31,
   "metadata": {},
   "outputs": [
    {
     "name": "stderr",
     "output_type": "stream",
     "text": [
      "`summarise()` ungrouping output (override with `.groups` argument)\n",
      "\n"
     ]
    }
   ],
   "source": [
    "rarpt_stats = expiry_train_df_1 %>%\n",
    "    group_by(tld_registrar_index) %>% \n",
    "    summarise(n = n(), \n",
    "              min = min(reg_arpt), \n",
    "              max = max(reg_arpt), \n",
    "              mean = mean(reg_arpt, na.rm = TRUE), \n",
    "              rng = max - min, \n",
    "              std = sd(reg_arpt, na.rm = TRUE), \n",
    "              skew = skewness(reg_arpt, na.rm = TRUE), \n",
    "              kurt = kurtosis(reg_arpt, na.rm = TRUE)) %>% \n",
    "    arrange(desc(n)) \n",
    "\n",
    "rarpt_min <- rarpt_stats %>% pull(min)\n",
    "rarpt_max <- rarpt_stats %>% pull(max)\n",
    "rarpt_mean <- rarpt_stats %>% pull(mean)\n",
    "rarpt_rng <- rarpt_stats %>% pull(rng)\n",
    "rarpt_std <- rarpt_stats %>% pull(std)\n",
    "rarpt_skew <- rarpt_stats %>% pull(skew)\n",
    "rarpt_kurt <- rarpt_stats %>% pull(kurt)"
   ]
  },
  {
   "cell_type": "markdown",
   "metadata": {},
   "source": [
    "## Add tld_reseller level feature engineering"
   ]
  },
  {
   "cell_type": "code",
   "execution_count": 32,
   "metadata": {},
   "outputs": [],
   "source": [
    "metrics_df = metrics_df %>% \n",
    "    mutate(tld_reseller = tld_reseller_names,\n",
    "            count = count_obs,\n",
    "            ren_prp = ren_prp,\n",
    "            tld_rat = tld_rat,\n",
    "            country_maj = country_maj,\n",
    "            region_maj = region_maj,\n",
    "            country_cnt = country_cnt,\n",
    "            region_cnt = region_cnt,\n",
    "            geo_cnt = geo_cnt,\n",
    "            geo_maj = geo_maj,\n",
    "\n",
    "            daydom_min = daydom_min,\n",
    "            daydom_max = daydom_max,\n",
    "            daydom_mean = daydom_mean,\n",
    "            daydom_rng = daydom_rng,\n",
    "            daydom_std = daydom_std,\n",
    "            daydom_skew = daydom_skew,\n",
    "            daydom_kurt = daydom_kurt,\n",
    "\n",
    "            sldlen_min = sldlen_min,\n",
    "            sldlen_max = sldlen_max,\n",
    "            sldlen_mean = sldlen_mean,\n",
    "            sldlen_rng = sldlen_rng,\n",
    "            sldlen_std = sldlen_std,\n",
    "            sldlen_skew = sldlen_skew,\n",
    "            sldlen_kurt = sldlen_kurt,\n",
    "\n",
    "            gibbs_min = gibbs_min,\n",
    "            gibbs_max = gibbs_max,\n",
    "            gibbs_mean = gibbs_mean,\n",
    "            gibbs_rng = gibbs_rng,\n",
    "            gibbs_std = gibbs_std,\n",
    "            gibbs_skew = gibbs_skew,\n",
    "            gibbs_kurt = gibbs_kurt,\n",
    "\n",
    "            pdcnt_min = pdcnt_min,\n",
    "            pdcnt_max = pdcnt_max,\n",
    "            pdcnt_mean = pdcnt_mean,\n",
    "            pdcnt_rng = pdcnt_rng,\n",
    "            pdcnt_std = pdcnt_std,\n",
    "            pdcnt_skew = pdcnt_skew,\n",
    "            pdcnt_kurt = pdcnt_kurt,\n",
    "\n",
    "            rarpt_min = rarpt_min,\n",
    "            rarpt_max = rarpt_max,\n",
    "            rarpt_mean = rarpt_mean,\n",
    "            rarpt_rng = rarpt_rng,\n",
    "            rarpt_std = rarpt_std,\n",
    "            rarpt_skew = rarpt_skew,\n",
    "            rarpt_kurt = rarpt_kurt)"
   ]
  },
  {
   "cell_type": "code",
   "execution_count": 33,
   "metadata": {},
   "outputs": [
    {
     "data": {
      "text/html": [
       "<style>\n",
       ".list-inline {list-style: none; margin:0; padding: 0}\n",
       ".list-inline>li {display: inline-block}\n",
       ".list-inline>li:not(:last-child)::after {content: \"\\00b7\"; padding: 0 .5ex}\n",
       "</style>\n",
       "<ol class=list-inline><li>1723</li><li>60</li></ol>\n"
      ],
      "text/latex": [
       "\\begin{enumerate*}\n",
       "\\item 1723\n",
       "\\item 60\n",
       "\\end{enumerate*}\n"
      ],
      "text/markdown": [
       "1. 1723\n",
       "2. 60\n",
       "\n",
       "\n"
      ],
      "text/plain": [
       "[1] 1723   60"
      ]
     },
     "metadata": {},
     "output_type": "display_data"
    },
    {
     "data": {
      "text/html": [
       "<table>\n",
       "<caption>A data.frame: 6 × 60</caption>\n",
       "<thead>\n",
       "\t<tr><th></th><th scope=col>tld_registrar_index</th><th scope=col>reseller</th><th scope=col>n</th><th scope=col>l10_seg2_glm</th><th scope=col>l10_seg_glm</th><th scope=col>l10_agg_glm</th><th scope=col>l10_seg2_rf</th><th scope=col>l10_seg_rf</th><th scope=col>l10_agg_rf</th><th scope=col>auc_seg2_glm</th><th scope=col>auc_seg_glm</th><th scope=col>auc_agg_glm</th><th scope=col>auc_seg2_rf</th><th scope=col>auc_seg_rf</th><th scope=col>auc_agg_rf</th><th scope=col>tld_reseller</th><th scope=col>count</th><th scope=col>ren_prp</th><th scope=col>tld_rat</th><th scope=col>country_maj</th><th scope=col>region_maj</th><th scope=col>country_cnt</th><th scope=col>region_cnt</th><th scope=col>geo_cnt</th><th scope=col>geo_maj</th><th scope=col>⋯</th><th scope=col>sldlen_rng</th><th scope=col>sldlen_std</th><th scope=col>sldlen_skew</th><th scope=col>sldlen_kurt</th><th scope=col>gibbs_min</th><th scope=col>gibbs_max</th><th scope=col>gibbs_mean</th><th scope=col>gibbs_rng</th><th scope=col>gibbs_std</th><th scope=col>gibbs_skew</th><th scope=col>gibbs_kurt</th><th scope=col>pdcnt_min</th><th scope=col>pdcnt_max</th><th scope=col>pdcnt_mean</th><th scope=col>pdcnt_rng</th><th scope=col>pdcnt_std</th><th scope=col>pdcnt_skew</th><th scope=col>pdcnt_kurt</th><th scope=col>rarpt_min</th><th scope=col>rarpt_max</th><th scope=col>rarpt_mean</th><th scope=col>rarpt_rng</th><th scope=col>rarpt_std</th><th scope=col>rarpt_skew</th><th scope=col>rarpt_kurt</th></tr>\n",
       "\t<tr><th></th><th scope=col>&lt;fct&gt;</th><th scope=col>&lt;fct&gt;</th><th scope=col>&lt;int&gt;</th><th scope=col>&lt;dbl&gt;</th><th scope=col>&lt;dbl&gt;</th><th scope=col>&lt;dbl&gt;</th><th scope=col>&lt;dbl&gt;</th><th scope=col>&lt;dbl&gt;</th><th scope=col>&lt;dbl&gt;</th><th scope=col>&lt;dbl&gt;</th><th scope=col>&lt;dbl&gt;</th><th scope=col>&lt;dbl&gt;</th><th scope=col>&lt;dbl&gt;</th><th scope=col>&lt;dbl&gt;</th><th scope=col>&lt;dbl&gt;</th><th scope=col>&lt;chr&gt;</th><th scope=col>&lt;int&gt;</th><th scope=col>&lt;dbl&gt;</th><th scope=col>&lt;dbl&gt;</th><th scope=col>&lt;chr&gt;</th><th scope=col>&lt;chr&gt;</th><th scope=col>&lt;int&gt;</th><th scope=col>&lt;int&gt;</th><th scope=col>&lt;int&gt;</th><th scope=col>&lt;fct&gt;</th><th scope=col>⋯</th><th scope=col>&lt;int&gt;</th><th scope=col>&lt;dbl&gt;</th><th scope=col>&lt;dbl&gt;</th><th scope=col>&lt;dbl&gt;</th><th scope=col>&lt;dbl&gt;</th><th scope=col>&lt;dbl&gt;</th><th scope=col>&lt;dbl&gt;</th><th scope=col>&lt;dbl&gt;</th><th scope=col>&lt;dbl&gt;</th><th scope=col>&lt;dbl&gt;</th><th scope=col>&lt;dbl&gt;</th><th scope=col>&lt;int&gt;</th><th scope=col>&lt;int&gt;</th><th scope=col>&lt;dbl&gt;</th><th scope=col>&lt;int&gt;</th><th scope=col>&lt;dbl&gt;</th><th scope=col>&lt;dbl&gt;</th><th scope=col>&lt;dbl&gt;</th><th scope=col>&lt;dbl&gt;</th><th scope=col>&lt;dbl&gt;</th><th scope=col>&lt;dbl&gt;</th><th scope=col>&lt;dbl&gt;</th><th scope=col>&lt;dbl&gt;</th><th scope=col>&lt;dbl&gt;</th><th scope=col>&lt;dbl&gt;</th></tr>\n",
       "</thead>\n",
       "<tbody>\n",
       "\t<tr><th scope=row>1</th><td>sitegmo       </td><td>gmo      </td><td>106569</td><td>8.204334</td><td>8.126935</td><td>6.408669</td><td>8.777090</td><td>8.761610</td><td>8.591331</td><td>0.8958204</td><td>0.8825077</td><td>0.8729102</td><td>0.9345201</td><td>0.9348297</td><td>0.9329721</td><td>sitegmo       </td><td>106569</td><td>0.02441611</td><td>9.383592e-06</td><td>Japan        </td><td>Non China</td><td>1</td><td>1</td><td>1</td><td>Japan        </td><td>⋯</td><td>50</td><td>2.508508</td><td> 6.1455276</td><td>55.010118</td><td>0</td><td>100</td><td>1.672944</td><td>100</td><td> 4.083236</td><td>15.334299</td><td>348.12171</td><td>1</td><td> 51</td><td> 3.432490</td><td> 50</td><td>  5.173298</td><td>3.6994369</td><td>16.3930266</td><td>0.10</td><td>13.37</td><td>0.1037350</td><td>13.27</td><td>0.20216296</td><td>55.154300</td><td>3102.462949</td></tr>\n",
       "\t<tr><th scope=row>2</th><td>funalibaba    </td><td>alibaba  </td><td> 72690</td><td>4.883721</td><td>5.255814</td><td>5.023256</td><td>5.813953</td><td>6.000000</td><td>6.186047</td><td>0.8262791</td><td>0.8430233</td><td>0.8518605</td><td>0.8769767</td><td>0.8779070</td><td>0.8793023</td><td>funalibaba    </td><td> 72690</td><td>0.01223002</td><td>1.375705e-05</td><td>China        </td><td>China    </td><td>1</td><td>1</td><td>1</td><td>China        </td><td>⋯</td><td>60</td><td>3.289407</td><td> 2.9497402</td><td>14.097156</td><td>0</td><td>100</td><td>6.427920</td><td>100</td><td>21.265643</td><td> 4.112206</td><td> 15.16265</td><td>1</td><td>326</td><td>15.295667</td><td>325</td><td> 37.775267</td><td>4.8276608</td><td>27.7586974</td><td>0.75</td><td> 4.75</td><td>0.7521482</td><td> 4.00</td><td>0.08239843</td><td>43.767804</td><td>1951.657326</td></tr>\n",
       "\t<tr><th scope=row>3</th><td>sitenamecheap </td><td>namecheap</td><td> 53536</td><td>2.298025</td><td>1.921005</td><td>1.885099</td><td>2.280072</td><td>2.028725</td><td>2.046679</td><td>0.6862657</td><td>0.6196589</td><td>0.6338420</td><td>0.6654399</td><td>0.6792639</td><td>0.6893178</td><td>sitenamecheap </td><td> 53536</td><td>0.03973027</td><td>1.867902e-05</td><td>United States</td><td>Non China</td><td>1</td><td>1</td><td>1</td><td>United States</td><td>⋯</td><td>57</td><td>4.457749</td><td> 1.8173451</td><td> 7.306364</td><td>0</td><td>100</td><td>4.292920</td><td>100</td><td> 4.790116</td><td>13.813471</td><td>271.44212</td><td>1</td><td>102</td><td> 5.683839</td><td>101</td><td> 11.925165</td><td>4.8845405</td><td>28.4273959</td><td>0.58</td><td> 8.33</td><td>0.8639192</td><td> 7.75</td><td>0.46643401</td><td> 2.149515</td><td>  15.078455</td></tr>\n",
       "\t<tr><th scope=row>4</th><td>pwnamecheap   </td><td>namecheap</td><td> 50470</td><td>3.478261</td><td>3.675889</td><td>3.675889</td><td>3.438735</td><td>4.071146</td><td>4.308300</td><td>0.7274704</td><td>0.6551383</td><td>0.6361660</td><td>0.7167984</td><td>0.7405138</td><td>0.7507905</td><td>pwnamecheap   </td><td> 50470</td><td>0.02276600</td><td>1.981375e-05</td><td>United States</td><td>Non China</td><td>1</td><td>1</td><td>1</td><td>United States</td><td>⋯</td><td>53</td><td>3.816024</td><td> 0.9727996</td><td> 3.074438</td><td>0</td><td>100</td><td>5.021115</td><td>100</td><td> 5.889335</td><td>13.133157</td><td>208.93433</td><td>1</td><td>133</td><td> 3.806340</td><td>132</td><td> 11.591963</td><td>7.9464521</td><td>72.1673024</td><td>0.59</td><td> 5.40</td><td>0.8950147</td><td> 4.81</td><td>0.37727284</td><td> 1.158011</td><td>   3.878673</td></tr>\n",
       "\t<tr><th scope=row>5</th><td>onlinego daddy</td><td>go daddy </td><td> 42162</td><td>2.850995</td><td>2.883271</td><td>2.474449</td><td>2.598171</td><td>2.727273</td><td>2.646584</td><td>0.6506455</td><td>0.6493007</td><td>0.6381119</td><td>0.6095481</td><td>0.6266541</td><td>0.6249328</td><td>onlinego daddy</td><td> 42162</td><td>0.17413785</td><td>2.371804e-05</td><td>United States</td><td>Non China</td><td>1</td><td>1</td><td>1</td><td>United States</td><td>⋯</td><td>57</td><td>4.627825</td><td> 1.2478782</td><td> 3.883563</td><td>0</td><td>100</td><td>5.019930</td><td>100</td><td> 5.451631</td><td>13.738913</td><td>235.73852</td><td>1</td><td> 38</td><td> 1.947346</td><td> 37</td><td>  2.554309</td><td>8.0693509</td><td>82.8231996</td><td>0.50</td><td>19.38</td><td>1.4417611</td><td>18.88</td><td>2.84260467</td><td> 3.856059</td><td>  13.984498</td></tr>\n",
       "\t<tr><th scope=row>6</th><td>sitegandi sas </td><td>gandi sas</td><td> 35309</td><td>8.243243</td><td>8.445946</td><td>7.094595</td><td>4.932432</td><td>8.445946</td><td>8.581081</td><td>0.9202703</td><td>0.9195946</td><td>0.9189189</td><td>0.7162162</td><td>0.9344595</td><td>0.9358108</td><td>sitegandi sas </td><td> 35309</td><td>0.01741766</td><td>2.832139e-05</td><td>France       </td><td>Non China</td><td>1</td><td>1</td><td>1</td><td>EU           </td><td>⋯</td><td>51</td><td>4.052579</td><td>-0.9342607</td><td> 1.096902</td><td>0</td><td>100</td><td>3.680121</td><td>100</td><td> 7.475273</td><td>11.932197</td><td>150.65015</td><td>1</td><td>332</td><td>99.953015</td><td>331</td><td>114.009691</td><td>0.8053729</td><td>-0.9005846</td><td>0.50</td><td> 7.00</td><td>0.5011045</td><td> 6.50</td><td>0.08472577</td><td>76.689854</td><td>5879.500288</td></tr>\n",
       "</tbody>\n",
       "</table>\n"
      ],
      "text/latex": [
       "A data.frame: 6 × 60\n",
       "\\begin{tabular}{r|lllllllllllllllllllllllllllllllllllllllllllllllllll}\n",
       "  & tld\\_registrar\\_index & reseller & n & l10\\_seg2\\_glm & l10\\_seg\\_glm & l10\\_agg\\_glm & l10\\_seg2\\_rf & l10\\_seg\\_rf & l10\\_agg\\_rf & auc\\_seg2\\_glm & auc\\_seg\\_glm & auc\\_agg\\_glm & auc\\_seg2\\_rf & auc\\_seg\\_rf & auc\\_agg\\_rf & tld\\_reseller & count & ren\\_prp & tld\\_rat & country\\_maj & region\\_maj & country\\_cnt & region\\_cnt & geo\\_cnt & geo\\_maj & ⋯ & sldlen\\_rng & sldlen\\_std & sldlen\\_skew & sldlen\\_kurt & gibbs\\_min & gibbs\\_max & gibbs\\_mean & gibbs\\_rng & gibbs\\_std & gibbs\\_skew & gibbs\\_kurt & pdcnt\\_min & pdcnt\\_max & pdcnt\\_mean & pdcnt\\_rng & pdcnt\\_std & pdcnt\\_skew & pdcnt\\_kurt & rarpt\\_min & rarpt\\_max & rarpt\\_mean & rarpt\\_rng & rarpt\\_std & rarpt\\_skew & rarpt\\_kurt\\\\\n",
       "  & <fct> & <fct> & <int> & <dbl> & <dbl> & <dbl> & <dbl> & <dbl> & <dbl> & <dbl> & <dbl> & <dbl> & <dbl> & <dbl> & <dbl> & <chr> & <int> & <dbl> & <dbl> & <chr> & <chr> & <int> & <int> & <int> & <fct> & ⋯ & <int> & <dbl> & <dbl> & <dbl> & <dbl> & <dbl> & <dbl> & <dbl> & <dbl> & <dbl> & <dbl> & <int> & <int> & <dbl> & <int> & <dbl> & <dbl> & <dbl> & <dbl> & <dbl> & <dbl> & <dbl> & <dbl> & <dbl> & <dbl>\\\\\n",
       "\\hline\n",
       "\t1 & sitegmo        & gmo       & 106569 & 8.204334 & 8.126935 & 6.408669 & 8.777090 & 8.761610 & 8.591331 & 0.8958204 & 0.8825077 & 0.8729102 & 0.9345201 & 0.9348297 & 0.9329721 & sitegmo        & 106569 & 0.02441611 & 9.383592e-06 & Japan         & Non China & 1 & 1 & 1 & Japan         & ⋯ & 50 & 2.508508 &  6.1455276 & 55.010118 & 0 & 100 & 1.672944 & 100 &  4.083236 & 15.334299 & 348.12171 & 1 &  51 &  3.432490 &  50 &   5.173298 & 3.6994369 & 16.3930266 & 0.10 & 13.37 & 0.1037350 & 13.27 & 0.20216296 & 55.154300 & 3102.462949\\\\\n",
       "\t2 & funalibaba     & alibaba   &  72690 & 4.883721 & 5.255814 & 5.023256 & 5.813953 & 6.000000 & 6.186047 & 0.8262791 & 0.8430233 & 0.8518605 & 0.8769767 & 0.8779070 & 0.8793023 & funalibaba     &  72690 & 0.01223002 & 1.375705e-05 & China         & China     & 1 & 1 & 1 & China         & ⋯ & 60 & 3.289407 &  2.9497402 & 14.097156 & 0 & 100 & 6.427920 & 100 & 21.265643 &  4.112206 &  15.16265 & 1 & 326 & 15.295667 & 325 &  37.775267 & 4.8276608 & 27.7586974 & 0.75 &  4.75 & 0.7521482 &  4.00 & 0.08239843 & 43.767804 & 1951.657326\\\\\n",
       "\t3 & sitenamecheap  & namecheap &  53536 & 2.298025 & 1.921005 & 1.885099 & 2.280072 & 2.028725 & 2.046679 & 0.6862657 & 0.6196589 & 0.6338420 & 0.6654399 & 0.6792639 & 0.6893178 & sitenamecheap  &  53536 & 0.03973027 & 1.867902e-05 & United States & Non China & 1 & 1 & 1 & United States & ⋯ & 57 & 4.457749 &  1.8173451 &  7.306364 & 0 & 100 & 4.292920 & 100 &  4.790116 & 13.813471 & 271.44212 & 1 & 102 &  5.683839 & 101 &  11.925165 & 4.8845405 & 28.4273959 & 0.58 &  8.33 & 0.8639192 &  7.75 & 0.46643401 &  2.149515 &   15.078455\\\\\n",
       "\t4 & pwnamecheap    & namecheap &  50470 & 3.478261 & 3.675889 & 3.675889 & 3.438735 & 4.071146 & 4.308300 & 0.7274704 & 0.6551383 & 0.6361660 & 0.7167984 & 0.7405138 & 0.7507905 & pwnamecheap    &  50470 & 0.02276600 & 1.981375e-05 & United States & Non China & 1 & 1 & 1 & United States & ⋯ & 53 & 3.816024 &  0.9727996 &  3.074438 & 0 & 100 & 5.021115 & 100 &  5.889335 & 13.133157 & 208.93433 & 1 & 133 &  3.806340 & 132 &  11.591963 & 7.9464521 & 72.1673024 & 0.59 &  5.40 & 0.8950147 &  4.81 & 0.37727284 &  1.158011 &    3.878673\\\\\n",
       "\t5 & onlinego daddy & go daddy  &  42162 & 2.850995 & 2.883271 & 2.474449 & 2.598171 & 2.727273 & 2.646584 & 0.6506455 & 0.6493007 & 0.6381119 & 0.6095481 & 0.6266541 & 0.6249328 & onlinego daddy &  42162 & 0.17413785 & 2.371804e-05 & United States & Non China & 1 & 1 & 1 & United States & ⋯ & 57 & 4.627825 &  1.2478782 &  3.883563 & 0 & 100 & 5.019930 & 100 &  5.451631 & 13.738913 & 235.73852 & 1 &  38 &  1.947346 &  37 &   2.554309 & 8.0693509 & 82.8231996 & 0.50 & 19.38 & 1.4417611 & 18.88 & 2.84260467 &  3.856059 &   13.984498\\\\\n",
       "\t6 & sitegandi sas  & gandi sas &  35309 & 8.243243 & 8.445946 & 7.094595 & 4.932432 & 8.445946 & 8.581081 & 0.9202703 & 0.9195946 & 0.9189189 & 0.7162162 & 0.9344595 & 0.9358108 & sitegandi sas  &  35309 & 0.01741766 & 2.832139e-05 & France        & Non China & 1 & 1 & 1 & EU            & ⋯ & 51 & 4.052579 & -0.9342607 &  1.096902 & 0 & 100 & 3.680121 & 100 &  7.475273 & 11.932197 & 150.65015 & 1 & 332 & 99.953015 & 331 & 114.009691 & 0.8053729 & -0.9005846 & 0.50 &  7.00 & 0.5011045 &  6.50 & 0.08472577 & 76.689854 & 5879.500288\\\\\n",
       "\\end{tabular}\n"
      ],
      "text/markdown": [
       "\n",
       "A data.frame: 6 × 60\n",
       "\n",
       "| <!--/--> | tld_registrar_index &lt;fct&gt; | reseller &lt;fct&gt; | n &lt;int&gt; | l10_seg2_glm &lt;dbl&gt; | l10_seg_glm &lt;dbl&gt; | l10_agg_glm &lt;dbl&gt; | l10_seg2_rf &lt;dbl&gt; | l10_seg_rf &lt;dbl&gt; | l10_agg_rf &lt;dbl&gt; | auc_seg2_glm &lt;dbl&gt; | auc_seg_glm &lt;dbl&gt; | auc_agg_glm &lt;dbl&gt; | auc_seg2_rf &lt;dbl&gt; | auc_seg_rf &lt;dbl&gt; | auc_agg_rf &lt;dbl&gt; | tld_reseller &lt;chr&gt; | count &lt;int&gt; | ren_prp &lt;dbl&gt; | tld_rat &lt;dbl&gt; | country_maj &lt;chr&gt; | region_maj &lt;chr&gt; | country_cnt &lt;int&gt; | region_cnt &lt;int&gt; | geo_cnt &lt;int&gt; | geo_maj &lt;fct&gt; | ⋯ ⋯ | sldlen_rng &lt;int&gt; | sldlen_std &lt;dbl&gt; | sldlen_skew &lt;dbl&gt; | sldlen_kurt &lt;dbl&gt; | gibbs_min &lt;dbl&gt; | gibbs_max &lt;dbl&gt; | gibbs_mean &lt;dbl&gt; | gibbs_rng &lt;dbl&gt; | gibbs_std &lt;dbl&gt; | gibbs_skew &lt;dbl&gt; | gibbs_kurt &lt;dbl&gt; | pdcnt_min &lt;int&gt; | pdcnt_max &lt;int&gt; | pdcnt_mean &lt;dbl&gt; | pdcnt_rng &lt;int&gt; | pdcnt_std &lt;dbl&gt; | pdcnt_skew &lt;dbl&gt; | pdcnt_kurt &lt;dbl&gt; | rarpt_min &lt;dbl&gt; | rarpt_max &lt;dbl&gt; | rarpt_mean &lt;dbl&gt; | rarpt_rng &lt;dbl&gt; | rarpt_std &lt;dbl&gt; | rarpt_skew &lt;dbl&gt; | rarpt_kurt &lt;dbl&gt; |\n",
       "|---|---|---|---|---|---|---|---|---|---|---|---|---|---|---|---|---|---|---|---|---|---|---|---|---|---|---|---|---|---|---|---|---|---|---|---|---|---|---|---|---|---|---|---|---|---|---|---|---|---|---|---|\n",
       "| 1 | sitegmo        | gmo       | 106569 | 8.204334 | 8.126935 | 6.408669 | 8.777090 | 8.761610 | 8.591331 | 0.8958204 | 0.8825077 | 0.8729102 | 0.9345201 | 0.9348297 | 0.9329721 | sitegmo        | 106569 | 0.02441611 | 9.383592e-06 | Japan         | Non China | 1 | 1 | 1 | Japan         | ⋯ | 50 | 2.508508 |  6.1455276 | 55.010118 | 0 | 100 | 1.672944 | 100 |  4.083236 | 15.334299 | 348.12171 | 1 |  51 |  3.432490 |  50 |   5.173298 | 3.6994369 | 16.3930266 | 0.10 | 13.37 | 0.1037350 | 13.27 | 0.20216296 | 55.154300 | 3102.462949 |\n",
       "| 2 | funalibaba     | alibaba   |  72690 | 4.883721 | 5.255814 | 5.023256 | 5.813953 | 6.000000 | 6.186047 | 0.8262791 | 0.8430233 | 0.8518605 | 0.8769767 | 0.8779070 | 0.8793023 | funalibaba     |  72690 | 0.01223002 | 1.375705e-05 | China         | China     | 1 | 1 | 1 | China         | ⋯ | 60 | 3.289407 |  2.9497402 | 14.097156 | 0 | 100 | 6.427920 | 100 | 21.265643 |  4.112206 |  15.16265 | 1 | 326 | 15.295667 | 325 |  37.775267 | 4.8276608 | 27.7586974 | 0.75 |  4.75 | 0.7521482 |  4.00 | 0.08239843 | 43.767804 | 1951.657326 |\n",
       "| 3 | sitenamecheap  | namecheap |  53536 | 2.298025 | 1.921005 | 1.885099 | 2.280072 | 2.028725 | 2.046679 | 0.6862657 | 0.6196589 | 0.6338420 | 0.6654399 | 0.6792639 | 0.6893178 | sitenamecheap  |  53536 | 0.03973027 | 1.867902e-05 | United States | Non China | 1 | 1 | 1 | United States | ⋯ | 57 | 4.457749 |  1.8173451 |  7.306364 | 0 | 100 | 4.292920 | 100 |  4.790116 | 13.813471 | 271.44212 | 1 | 102 |  5.683839 | 101 |  11.925165 | 4.8845405 | 28.4273959 | 0.58 |  8.33 | 0.8639192 |  7.75 | 0.46643401 |  2.149515 |   15.078455 |\n",
       "| 4 | pwnamecheap    | namecheap |  50470 | 3.478261 | 3.675889 | 3.675889 | 3.438735 | 4.071146 | 4.308300 | 0.7274704 | 0.6551383 | 0.6361660 | 0.7167984 | 0.7405138 | 0.7507905 | pwnamecheap    |  50470 | 0.02276600 | 1.981375e-05 | United States | Non China | 1 | 1 | 1 | United States | ⋯ | 53 | 3.816024 |  0.9727996 |  3.074438 | 0 | 100 | 5.021115 | 100 |  5.889335 | 13.133157 | 208.93433 | 1 | 133 |  3.806340 | 132 |  11.591963 | 7.9464521 | 72.1673024 | 0.59 |  5.40 | 0.8950147 |  4.81 | 0.37727284 |  1.158011 |    3.878673 |\n",
       "| 5 | onlinego daddy | go daddy  |  42162 | 2.850995 | 2.883271 | 2.474449 | 2.598171 | 2.727273 | 2.646584 | 0.6506455 | 0.6493007 | 0.6381119 | 0.6095481 | 0.6266541 | 0.6249328 | onlinego daddy |  42162 | 0.17413785 | 2.371804e-05 | United States | Non China | 1 | 1 | 1 | United States | ⋯ | 57 | 4.627825 |  1.2478782 |  3.883563 | 0 | 100 | 5.019930 | 100 |  5.451631 | 13.738913 | 235.73852 | 1 |  38 |  1.947346 |  37 |   2.554309 | 8.0693509 | 82.8231996 | 0.50 | 19.38 | 1.4417611 | 18.88 | 2.84260467 |  3.856059 |   13.984498 |\n",
       "| 6 | sitegandi sas  | gandi sas |  35309 | 8.243243 | 8.445946 | 7.094595 | 4.932432 | 8.445946 | 8.581081 | 0.9202703 | 0.9195946 | 0.9189189 | 0.7162162 | 0.9344595 | 0.9358108 | sitegandi sas  |  35309 | 0.01741766 | 2.832139e-05 | France        | Non China | 1 | 1 | 1 | EU            | ⋯ | 51 | 4.052579 | -0.9342607 |  1.096902 | 0 | 100 | 3.680121 | 100 |  7.475273 | 11.932197 | 150.65015 | 1 | 332 | 99.953015 | 331 | 114.009691 | 0.8053729 | -0.9005846 | 0.50 |  7.00 | 0.5011045 |  6.50 | 0.08472577 | 76.689854 | 5879.500288 |\n",
       "\n"
      ],
      "text/plain": [
       "  tld_registrar_index reseller  n      l10_seg2_glm l10_seg_glm l10_agg_glm\n",
       "1 sitegmo             gmo       106569 8.204334     8.126935    6.408669   \n",
       "2 funalibaba          alibaba    72690 4.883721     5.255814    5.023256   \n",
       "3 sitenamecheap       namecheap  53536 2.298025     1.921005    1.885099   \n",
       "4 pwnamecheap         namecheap  50470 3.478261     3.675889    3.675889   \n",
       "5 onlinego daddy      go daddy   42162 2.850995     2.883271    2.474449   \n",
       "6 sitegandi sas       gandi sas  35309 8.243243     8.445946    7.094595   \n",
       "  l10_seg2_rf l10_seg_rf l10_agg_rf auc_seg2_glm auc_seg_glm auc_agg_glm\n",
       "1 8.777090    8.761610   8.591331   0.8958204    0.8825077   0.8729102  \n",
       "2 5.813953    6.000000   6.186047   0.8262791    0.8430233   0.8518605  \n",
       "3 2.280072    2.028725   2.046679   0.6862657    0.6196589   0.6338420  \n",
       "4 3.438735    4.071146   4.308300   0.7274704    0.6551383   0.6361660  \n",
       "5 2.598171    2.727273   2.646584   0.6506455    0.6493007   0.6381119  \n",
       "6 4.932432    8.445946   8.581081   0.9202703    0.9195946   0.9189189  \n",
       "  auc_seg2_rf auc_seg_rf auc_agg_rf tld_reseller   count  ren_prp   \n",
       "1 0.9345201   0.9348297  0.9329721  sitegmo        106569 0.02441611\n",
       "2 0.8769767   0.8779070  0.8793023  funalibaba      72690 0.01223002\n",
       "3 0.6654399   0.6792639  0.6893178  sitenamecheap   53536 0.03973027\n",
       "4 0.7167984   0.7405138  0.7507905  pwnamecheap     50470 0.02276600\n",
       "5 0.6095481   0.6266541  0.6249328  onlinego daddy  42162 0.17413785\n",
       "6 0.7162162   0.9344595  0.9358108  sitegandi sas   35309 0.01741766\n",
       "  tld_rat      country_maj   region_maj country_cnt region_cnt geo_cnt\n",
       "1 9.383592e-06 Japan         Non China  1           1          1      \n",
       "2 1.375705e-05 China         China      1           1          1      \n",
       "3 1.867902e-05 United States Non China  1           1          1      \n",
       "4 1.981375e-05 United States Non China  1           1          1      \n",
       "5 2.371804e-05 United States Non China  1           1          1      \n",
       "6 2.832139e-05 France        Non China  1           1          1      \n",
       "  geo_maj       ⋯ sldlen_rng sldlen_std sldlen_skew sldlen_kurt gibbs_min\n",
       "1 Japan         ⋯ 50         2.508508    6.1455276  55.010118   0        \n",
       "2 China         ⋯ 60         3.289407    2.9497402  14.097156   0        \n",
       "3 United States ⋯ 57         4.457749    1.8173451   7.306364   0        \n",
       "4 United States ⋯ 53         3.816024    0.9727996   3.074438   0        \n",
       "5 United States ⋯ 57         4.627825    1.2478782   3.883563   0        \n",
       "6 EU            ⋯ 51         4.052579   -0.9342607   1.096902   0        \n",
       "  gibbs_max gibbs_mean gibbs_rng gibbs_std gibbs_skew gibbs_kurt pdcnt_min\n",
       "1 100       1.672944   100        4.083236 15.334299  348.12171  1        \n",
       "2 100       6.427920   100       21.265643  4.112206   15.16265  1        \n",
       "3 100       4.292920   100        4.790116 13.813471  271.44212  1        \n",
       "4 100       5.021115   100        5.889335 13.133157  208.93433  1        \n",
       "5 100       5.019930   100        5.451631 13.738913  235.73852  1        \n",
       "6 100       3.680121   100        7.475273 11.932197  150.65015  1        \n",
       "  pdcnt_max pdcnt_mean pdcnt_rng pdcnt_std  pdcnt_skew pdcnt_kurt rarpt_min\n",
       "1  51        3.432490   50         5.173298 3.6994369  16.3930266 0.10     \n",
       "2 326       15.295667  325        37.775267 4.8276608  27.7586974 0.75     \n",
       "3 102        5.683839  101        11.925165 4.8845405  28.4273959 0.58     \n",
       "4 133        3.806340  132        11.591963 7.9464521  72.1673024 0.59     \n",
       "5  38        1.947346   37         2.554309 8.0693509  82.8231996 0.50     \n",
       "6 332       99.953015  331       114.009691 0.8053729  -0.9005846 0.50     \n",
       "  rarpt_max rarpt_mean rarpt_rng rarpt_std  rarpt_skew rarpt_kurt \n",
       "1 13.37     0.1037350  13.27     0.20216296 55.154300  3102.462949\n",
       "2  4.75     0.7521482   4.00     0.08239843 43.767804  1951.657326\n",
       "3  8.33     0.8639192   7.75     0.46643401  2.149515    15.078455\n",
       "4  5.40     0.8950147   4.81     0.37727284  1.158011     3.878673\n",
       "5 19.38     1.4417611  18.88     2.84260467  3.856059    13.984498\n",
       "6  7.00     0.5011045   6.50     0.08472577 76.689854  5879.500288"
      ]
     },
     "metadata": {},
     "output_type": "display_data"
    }
   ],
   "source": [
    "dim(metrics_df)\n",
    "head(metrics_df)"
   ]
  },
  {
   "cell_type": "code",
   "execution_count": 34,
   "metadata": {},
   "outputs": [
    {
     "data": {
      "text/html": [
       "0"
      ],
      "text/latex": [
       "0"
      ],
      "text/markdown": [
       "0"
      ],
      "text/plain": [
       "[1] 0"
      ]
     },
     "metadata": {},
     "output_type": "display_data"
    }
   ],
   "source": [
    "sum(metrics_df$tld_registrar_index != metrics_df$tld_reseller)"
   ]
  },
  {
   "cell_type": "code",
   "execution_count": 35,
   "metadata": {},
   "outputs": [
    {
     "data": {
      "text/html": [
       "0"
      ],
      "text/latex": [
       "0"
      ],
      "text/markdown": [
       "0"
      ],
      "text/plain": [
       "[1] 0"
      ]
     },
     "metadata": {},
     "output_type": "display_data"
    }
   ],
   "source": [
    "sum(metrics_df$n != metrics_df$count)"
   ]
  },
  {
   "cell_type": "code",
   "execution_count": 36,
   "metadata": {},
   "outputs": [],
   "source": [
    "metrics_df <- subset(metrics_df, select=-c(tld_registrar_index,reseller,n))"
   ]
  },
  {
   "cell_type": "code",
   "execution_count": 37,
   "metadata": {},
   "outputs": [
    {
     "data": {
      "text/html": [
       "<table>\n",
       "<caption>A data.frame: 6 × 57</caption>\n",
       "<thead>\n",
       "\t<tr><th></th><th scope=col>l10_seg2_glm</th><th scope=col>l10_seg_glm</th><th scope=col>l10_agg_glm</th><th scope=col>l10_seg2_rf</th><th scope=col>l10_seg_rf</th><th scope=col>l10_agg_rf</th><th scope=col>auc_seg2_glm</th><th scope=col>auc_seg_glm</th><th scope=col>auc_agg_glm</th><th scope=col>auc_seg2_rf</th><th scope=col>auc_seg_rf</th><th scope=col>auc_agg_rf</th><th scope=col>tld_reseller</th><th scope=col>count</th><th scope=col>ren_prp</th><th scope=col>tld_rat</th><th scope=col>country_maj</th><th scope=col>region_maj</th><th scope=col>country_cnt</th><th scope=col>region_cnt</th><th scope=col>geo_cnt</th><th scope=col>geo_maj</th><th scope=col>daydom_min</th><th scope=col>daydom_max</th><th scope=col>daydom_mean</th><th scope=col>⋯</th><th scope=col>sldlen_rng</th><th scope=col>sldlen_std</th><th scope=col>sldlen_skew</th><th scope=col>sldlen_kurt</th><th scope=col>gibbs_min</th><th scope=col>gibbs_max</th><th scope=col>gibbs_mean</th><th scope=col>gibbs_rng</th><th scope=col>gibbs_std</th><th scope=col>gibbs_skew</th><th scope=col>gibbs_kurt</th><th scope=col>pdcnt_min</th><th scope=col>pdcnt_max</th><th scope=col>pdcnt_mean</th><th scope=col>pdcnt_rng</th><th scope=col>pdcnt_std</th><th scope=col>pdcnt_skew</th><th scope=col>pdcnt_kurt</th><th scope=col>rarpt_min</th><th scope=col>rarpt_max</th><th scope=col>rarpt_mean</th><th scope=col>rarpt_rng</th><th scope=col>rarpt_std</th><th scope=col>rarpt_skew</th><th scope=col>rarpt_kurt</th></tr>\n",
       "\t<tr><th></th><th scope=col>&lt;dbl&gt;</th><th scope=col>&lt;dbl&gt;</th><th scope=col>&lt;dbl&gt;</th><th scope=col>&lt;dbl&gt;</th><th scope=col>&lt;dbl&gt;</th><th scope=col>&lt;dbl&gt;</th><th scope=col>&lt;dbl&gt;</th><th scope=col>&lt;dbl&gt;</th><th scope=col>&lt;dbl&gt;</th><th scope=col>&lt;dbl&gt;</th><th scope=col>&lt;dbl&gt;</th><th scope=col>&lt;dbl&gt;</th><th scope=col>&lt;chr&gt;</th><th scope=col>&lt;int&gt;</th><th scope=col>&lt;dbl&gt;</th><th scope=col>&lt;dbl&gt;</th><th scope=col>&lt;chr&gt;</th><th scope=col>&lt;chr&gt;</th><th scope=col>&lt;int&gt;</th><th scope=col>&lt;int&gt;</th><th scope=col>&lt;int&gt;</th><th scope=col>&lt;fct&gt;</th><th scope=col>&lt;int&gt;</th><th scope=col>&lt;int&gt;</th><th scope=col>&lt;dbl&gt;</th><th scope=col>⋯</th><th scope=col>&lt;int&gt;</th><th scope=col>&lt;dbl&gt;</th><th scope=col>&lt;dbl&gt;</th><th scope=col>&lt;dbl&gt;</th><th scope=col>&lt;dbl&gt;</th><th scope=col>&lt;dbl&gt;</th><th scope=col>&lt;dbl&gt;</th><th scope=col>&lt;dbl&gt;</th><th scope=col>&lt;dbl&gt;</th><th scope=col>&lt;dbl&gt;</th><th scope=col>&lt;dbl&gt;</th><th scope=col>&lt;int&gt;</th><th scope=col>&lt;int&gt;</th><th scope=col>&lt;dbl&gt;</th><th scope=col>&lt;int&gt;</th><th scope=col>&lt;dbl&gt;</th><th scope=col>&lt;dbl&gt;</th><th scope=col>&lt;dbl&gt;</th><th scope=col>&lt;dbl&gt;</th><th scope=col>&lt;dbl&gt;</th><th scope=col>&lt;dbl&gt;</th><th scope=col>&lt;dbl&gt;</th><th scope=col>&lt;dbl&gt;</th><th scope=col>&lt;dbl&gt;</th><th scope=col>&lt;dbl&gt;</th></tr>\n",
       "</thead>\n",
       "<tbody>\n",
       "\t<tr><th scope=row>1</th><td>8.204334</td><td>8.126935</td><td>6.408669</td><td>8.777090</td><td>8.761610</td><td>8.591331</td><td>0.8958204</td><td>0.8825077</td><td>0.8729102</td><td>0.9345201</td><td>0.9348297</td><td>0.9329721</td><td>sitegmo       </td><td>106569</td><td>0.02441611</td><td>9.383592e-06</td><td>Japan        </td><td>Non China</td><td>1</td><td>1</td><td>1</td><td>Japan        </td><td>1</td><td>16752</td><td>6351.1060</td><td>⋯</td><td>50</td><td>2.508508</td><td> 6.1455276</td><td>55.010118</td><td>0</td><td>100</td><td>1.672944</td><td>100</td><td> 4.083236</td><td>15.334299</td><td>348.12171</td><td>1</td><td> 51</td><td> 3.432490</td><td> 50</td><td>  5.173298</td><td>3.6994369</td><td>16.3930266</td><td>0.10</td><td>13.37</td><td>0.1037350</td><td>13.27</td><td>0.20216296</td><td>55.154300</td><td>3102.462949</td></tr>\n",
       "\t<tr><th scope=row>2</th><td>4.883721</td><td>5.255814</td><td>5.023256</td><td>5.813953</td><td>6.000000</td><td>6.186047</td><td>0.8262791</td><td>0.8430233</td><td>0.8518605</td><td>0.8769767</td><td>0.8779070</td><td>0.8793023</td><td>funalibaba    </td><td> 72690</td><td>0.01223002</td><td>1.375705e-05</td><td>China        </td><td>China    </td><td>1</td><td>1</td><td>1</td><td>China        </td><td>1</td><td> 2779</td><td> 861.4138</td><td>⋯</td><td>60</td><td>3.289407</td><td> 2.9497402</td><td>14.097156</td><td>0</td><td>100</td><td>6.427920</td><td>100</td><td>21.265643</td><td> 4.112206</td><td> 15.16265</td><td>1</td><td>326</td><td>15.295667</td><td>325</td><td> 37.775267</td><td>4.8276608</td><td>27.7586974</td><td>0.75</td><td> 4.75</td><td>0.7521482</td><td> 4.00</td><td>0.08239843</td><td>43.767804</td><td>1951.657326</td></tr>\n",
       "\t<tr><th scope=row>3</th><td>2.298025</td><td>1.921005</td><td>1.885099</td><td>2.280072</td><td>2.028725</td><td>2.046679</td><td>0.6862657</td><td>0.6196589</td><td>0.6338420</td><td>0.6654399</td><td>0.6792639</td><td>0.6893178</td><td>sitenamecheap </td><td> 53536</td><td>0.03973027</td><td>1.867902e-05</td><td>United States</td><td>Non China</td><td>1</td><td>1</td><td>1</td><td>United States</td><td>1</td><td> 2200</td><td> 641.6495</td><td>⋯</td><td>57</td><td>4.457749</td><td> 1.8173451</td><td> 7.306364</td><td>0</td><td>100</td><td>4.292920</td><td>100</td><td> 4.790116</td><td>13.813471</td><td>271.44212</td><td>1</td><td>102</td><td> 5.683839</td><td>101</td><td> 11.925165</td><td>4.8845405</td><td>28.4273959</td><td>0.58</td><td> 8.33</td><td>0.8639192</td><td> 7.75</td><td>0.46643401</td><td> 2.149515</td><td>  15.078455</td></tr>\n",
       "\t<tr><th scope=row>4</th><td>3.478261</td><td>3.675889</td><td>3.675889</td><td>3.438735</td><td>4.071146</td><td>4.308300</td><td>0.7274704</td><td>0.6551383</td><td>0.6361660</td><td>0.7167984</td><td>0.7405138</td><td>0.7507905</td><td>pwnamecheap   </td><td> 50470</td><td>0.02276600</td><td>1.981375e-05</td><td>United States</td><td>Non China</td><td>1</td><td>1</td><td>1</td><td>United States</td><td>1</td><td> 2277</td><td> 708.5591</td><td>⋯</td><td>53</td><td>3.816024</td><td> 0.9727996</td><td> 3.074438</td><td>0</td><td>100</td><td>5.021115</td><td>100</td><td> 5.889335</td><td>13.133157</td><td>208.93433</td><td>1</td><td>133</td><td> 3.806340</td><td>132</td><td> 11.591963</td><td>7.9464521</td><td>72.1673024</td><td>0.59</td><td> 5.40</td><td>0.8950147</td><td> 4.81</td><td>0.37727284</td><td> 1.158011</td><td>   3.878673</td></tr>\n",
       "\t<tr><th scope=row>5</th><td>2.850995</td><td>2.883271</td><td>2.474449</td><td>2.598171</td><td>2.727273</td><td>2.646584</td><td>0.6506455</td><td>0.6493007</td><td>0.6381119</td><td>0.6095481</td><td>0.6266541</td><td>0.6249328</td><td>onlinego daddy</td><td> 42162</td><td>0.17413785</td><td>2.371804e-05</td><td>United States</td><td>Non China</td><td>1</td><td>1</td><td>1</td><td>United States</td><td>1</td><td> 2642</td><td> 444.9510</td><td>⋯</td><td>57</td><td>4.627825</td><td> 1.2478782</td><td> 3.883563</td><td>0</td><td>100</td><td>5.019930</td><td>100</td><td> 5.451631</td><td>13.738913</td><td>235.73852</td><td>1</td><td> 38</td><td> 1.947346</td><td> 37</td><td>  2.554309</td><td>8.0693509</td><td>82.8231996</td><td>0.50</td><td>19.38</td><td>1.4417611</td><td>18.88</td><td>2.84260467</td><td> 3.856059</td><td>  13.984498</td></tr>\n",
       "\t<tr><th scope=row>6</th><td>8.243243</td><td>8.445946</td><td>7.094595</td><td>4.932432</td><td>8.445946</td><td>8.581081</td><td>0.9202703</td><td>0.9195946</td><td>0.9189189</td><td>0.7162162</td><td>0.9344595</td><td>0.9358108</td><td>sitegandi sas </td><td> 35309</td><td>0.01741766</td><td>2.832139e-05</td><td>France       </td><td>Non China</td><td>1</td><td>1</td><td>1</td><td>EU           </td><td>1</td><td> 8032</td><td>5529.4799</td><td>⋯</td><td>51</td><td>4.052579</td><td>-0.9342607</td><td> 1.096902</td><td>0</td><td>100</td><td>3.680121</td><td>100</td><td> 7.475273</td><td>11.932197</td><td>150.65015</td><td>1</td><td>332</td><td>99.953015</td><td>331</td><td>114.009691</td><td>0.8053729</td><td>-0.9005846</td><td>0.50</td><td> 7.00</td><td>0.5011045</td><td> 6.50</td><td>0.08472577</td><td>76.689854</td><td>5879.500288</td></tr>\n",
       "</tbody>\n",
       "</table>\n"
      ],
      "text/latex": [
       "A data.frame: 6 × 57\n",
       "\\begin{tabular}{r|lllllllllllllllllllllllllllllllllllllllllllllllllll}\n",
       "  & l10\\_seg2\\_glm & l10\\_seg\\_glm & l10\\_agg\\_glm & l10\\_seg2\\_rf & l10\\_seg\\_rf & l10\\_agg\\_rf & auc\\_seg2\\_glm & auc\\_seg\\_glm & auc\\_agg\\_glm & auc\\_seg2\\_rf & auc\\_seg\\_rf & auc\\_agg\\_rf & tld\\_reseller & count & ren\\_prp & tld\\_rat & country\\_maj & region\\_maj & country\\_cnt & region\\_cnt & geo\\_cnt & geo\\_maj & daydom\\_min & daydom\\_max & daydom\\_mean & ⋯ & sldlen\\_rng & sldlen\\_std & sldlen\\_skew & sldlen\\_kurt & gibbs\\_min & gibbs\\_max & gibbs\\_mean & gibbs\\_rng & gibbs\\_std & gibbs\\_skew & gibbs\\_kurt & pdcnt\\_min & pdcnt\\_max & pdcnt\\_mean & pdcnt\\_rng & pdcnt\\_std & pdcnt\\_skew & pdcnt\\_kurt & rarpt\\_min & rarpt\\_max & rarpt\\_mean & rarpt\\_rng & rarpt\\_std & rarpt\\_skew & rarpt\\_kurt\\\\\n",
       "  & <dbl> & <dbl> & <dbl> & <dbl> & <dbl> & <dbl> & <dbl> & <dbl> & <dbl> & <dbl> & <dbl> & <dbl> & <chr> & <int> & <dbl> & <dbl> & <chr> & <chr> & <int> & <int> & <int> & <fct> & <int> & <int> & <dbl> & ⋯ & <int> & <dbl> & <dbl> & <dbl> & <dbl> & <dbl> & <dbl> & <dbl> & <dbl> & <dbl> & <dbl> & <int> & <int> & <dbl> & <int> & <dbl> & <dbl> & <dbl> & <dbl> & <dbl> & <dbl> & <dbl> & <dbl> & <dbl> & <dbl>\\\\\n",
       "\\hline\n",
       "\t1 & 8.204334 & 8.126935 & 6.408669 & 8.777090 & 8.761610 & 8.591331 & 0.8958204 & 0.8825077 & 0.8729102 & 0.9345201 & 0.9348297 & 0.9329721 & sitegmo        & 106569 & 0.02441611 & 9.383592e-06 & Japan         & Non China & 1 & 1 & 1 & Japan         & 1 & 16752 & 6351.1060 & ⋯ & 50 & 2.508508 &  6.1455276 & 55.010118 & 0 & 100 & 1.672944 & 100 &  4.083236 & 15.334299 & 348.12171 & 1 &  51 &  3.432490 &  50 &   5.173298 & 3.6994369 & 16.3930266 & 0.10 & 13.37 & 0.1037350 & 13.27 & 0.20216296 & 55.154300 & 3102.462949\\\\\n",
       "\t2 & 4.883721 & 5.255814 & 5.023256 & 5.813953 & 6.000000 & 6.186047 & 0.8262791 & 0.8430233 & 0.8518605 & 0.8769767 & 0.8779070 & 0.8793023 & funalibaba     &  72690 & 0.01223002 & 1.375705e-05 & China         & China     & 1 & 1 & 1 & China         & 1 &  2779 &  861.4138 & ⋯ & 60 & 3.289407 &  2.9497402 & 14.097156 & 0 & 100 & 6.427920 & 100 & 21.265643 &  4.112206 &  15.16265 & 1 & 326 & 15.295667 & 325 &  37.775267 & 4.8276608 & 27.7586974 & 0.75 &  4.75 & 0.7521482 &  4.00 & 0.08239843 & 43.767804 & 1951.657326\\\\\n",
       "\t3 & 2.298025 & 1.921005 & 1.885099 & 2.280072 & 2.028725 & 2.046679 & 0.6862657 & 0.6196589 & 0.6338420 & 0.6654399 & 0.6792639 & 0.6893178 & sitenamecheap  &  53536 & 0.03973027 & 1.867902e-05 & United States & Non China & 1 & 1 & 1 & United States & 1 &  2200 &  641.6495 & ⋯ & 57 & 4.457749 &  1.8173451 &  7.306364 & 0 & 100 & 4.292920 & 100 &  4.790116 & 13.813471 & 271.44212 & 1 & 102 &  5.683839 & 101 &  11.925165 & 4.8845405 & 28.4273959 & 0.58 &  8.33 & 0.8639192 &  7.75 & 0.46643401 &  2.149515 &   15.078455\\\\\n",
       "\t4 & 3.478261 & 3.675889 & 3.675889 & 3.438735 & 4.071146 & 4.308300 & 0.7274704 & 0.6551383 & 0.6361660 & 0.7167984 & 0.7405138 & 0.7507905 & pwnamecheap    &  50470 & 0.02276600 & 1.981375e-05 & United States & Non China & 1 & 1 & 1 & United States & 1 &  2277 &  708.5591 & ⋯ & 53 & 3.816024 &  0.9727996 &  3.074438 & 0 & 100 & 5.021115 & 100 &  5.889335 & 13.133157 & 208.93433 & 1 & 133 &  3.806340 & 132 &  11.591963 & 7.9464521 & 72.1673024 & 0.59 &  5.40 & 0.8950147 &  4.81 & 0.37727284 &  1.158011 &    3.878673\\\\\n",
       "\t5 & 2.850995 & 2.883271 & 2.474449 & 2.598171 & 2.727273 & 2.646584 & 0.6506455 & 0.6493007 & 0.6381119 & 0.6095481 & 0.6266541 & 0.6249328 & onlinego daddy &  42162 & 0.17413785 & 2.371804e-05 & United States & Non China & 1 & 1 & 1 & United States & 1 &  2642 &  444.9510 & ⋯ & 57 & 4.627825 &  1.2478782 &  3.883563 & 0 & 100 & 5.019930 & 100 &  5.451631 & 13.738913 & 235.73852 & 1 &  38 &  1.947346 &  37 &   2.554309 & 8.0693509 & 82.8231996 & 0.50 & 19.38 & 1.4417611 & 18.88 & 2.84260467 &  3.856059 &   13.984498\\\\\n",
       "\t6 & 8.243243 & 8.445946 & 7.094595 & 4.932432 & 8.445946 & 8.581081 & 0.9202703 & 0.9195946 & 0.9189189 & 0.7162162 & 0.9344595 & 0.9358108 & sitegandi sas  &  35309 & 0.01741766 & 2.832139e-05 & France        & Non China & 1 & 1 & 1 & EU            & 1 &  8032 & 5529.4799 & ⋯ & 51 & 4.052579 & -0.9342607 &  1.096902 & 0 & 100 & 3.680121 & 100 &  7.475273 & 11.932197 & 150.65015 & 1 & 332 & 99.953015 & 331 & 114.009691 & 0.8053729 & -0.9005846 & 0.50 &  7.00 & 0.5011045 &  6.50 & 0.08472577 & 76.689854 & 5879.500288\\\\\n",
       "\\end{tabular}\n"
      ],
      "text/markdown": [
       "\n",
       "A data.frame: 6 × 57\n",
       "\n",
       "| <!--/--> | l10_seg2_glm &lt;dbl&gt; | l10_seg_glm &lt;dbl&gt; | l10_agg_glm &lt;dbl&gt; | l10_seg2_rf &lt;dbl&gt; | l10_seg_rf &lt;dbl&gt; | l10_agg_rf &lt;dbl&gt; | auc_seg2_glm &lt;dbl&gt; | auc_seg_glm &lt;dbl&gt; | auc_agg_glm &lt;dbl&gt; | auc_seg2_rf &lt;dbl&gt; | auc_seg_rf &lt;dbl&gt; | auc_agg_rf &lt;dbl&gt; | tld_reseller &lt;chr&gt; | count &lt;int&gt; | ren_prp &lt;dbl&gt; | tld_rat &lt;dbl&gt; | country_maj &lt;chr&gt; | region_maj &lt;chr&gt; | country_cnt &lt;int&gt; | region_cnt &lt;int&gt; | geo_cnt &lt;int&gt; | geo_maj &lt;fct&gt; | daydom_min &lt;int&gt; | daydom_max &lt;int&gt; | daydom_mean &lt;dbl&gt; | ⋯ ⋯ | sldlen_rng &lt;int&gt; | sldlen_std &lt;dbl&gt; | sldlen_skew &lt;dbl&gt; | sldlen_kurt &lt;dbl&gt; | gibbs_min &lt;dbl&gt; | gibbs_max &lt;dbl&gt; | gibbs_mean &lt;dbl&gt; | gibbs_rng &lt;dbl&gt; | gibbs_std &lt;dbl&gt; | gibbs_skew &lt;dbl&gt; | gibbs_kurt &lt;dbl&gt; | pdcnt_min &lt;int&gt; | pdcnt_max &lt;int&gt; | pdcnt_mean &lt;dbl&gt; | pdcnt_rng &lt;int&gt; | pdcnt_std &lt;dbl&gt; | pdcnt_skew &lt;dbl&gt; | pdcnt_kurt &lt;dbl&gt; | rarpt_min &lt;dbl&gt; | rarpt_max &lt;dbl&gt; | rarpt_mean &lt;dbl&gt; | rarpt_rng &lt;dbl&gt; | rarpt_std &lt;dbl&gt; | rarpt_skew &lt;dbl&gt; | rarpt_kurt &lt;dbl&gt; |\n",
       "|---|---|---|---|---|---|---|---|---|---|---|---|---|---|---|---|---|---|---|---|---|---|---|---|---|---|---|---|---|---|---|---|---|---|---|---|---|---|---|---|---|---|---|---|---|---|---|---|---|---|---|---|\n",
       "| 1 | 8.204334 | 8.126935 | 6.408669 | 8.777090 | 8.761610 | 8.591331 | 0.8958204 | 0.8825077 | 0.8729102 | 0.9345201 | 0.9348297 | 0.9329721 | sitegmo        | 106569 | 0.02441611 | 9.383592e-06 | Japan         | Non China | 1 | 1 | 1 | Japan         | 1 | 16752 | 6351.1060 | ⋯ | 50 | 2.508508 |  6.1455276 | 55.010118 | 0 | 100 | 1.672944 | 100 |  4.083236 | 15.334299 | 348.12171 | 1 |  51 |  3.432490 |  50 |   5.173298 | 3.6994369 | 16.3930266 | 0.10 | 13.37 | 0.1037350 | 13.27 | 0.20216296 | 55.154300 | 3102.462949 |\n",
       "| 2 | 4.883721 | 5.255814 | 5.023256 | 5.813953 | 6.000000 | 6.186047 | 0.8262791 | 0.8430233 | 0.8518605 | 0.8769767 | 0.8779070 | 0.8793023 | funalibaba     |  72690 | 0.01223002 | 1.375705e-05 | China         | China     | 1 | 1 | 1 | China         | 1 |  2779 |  861.4138 | ⋯ | 60 | 3.289407 |  2.9497402 | 14.097156 | 0 | 100 | 6.427920 | 100 | 21.265643 |  4.112206 |  15.16265 | 1 | 326 | 15.295667 | 325 |  37.775267 | 4.8276608 | 27.7586974 | 0.75 |  4.75 | 0.7521482 |  4.00 | 0.08239843 | 43.767804 | 1951.657326 |\n",
       "| 3 | 2.298025 | 1.921005 | 1.885099 | 2.280072 | 2.028725 | 2.046679 | 0.6862657 | 0.6196589 | 0.6338420 | 0.6654399 | 0.6792639 | 0.6893178 | sitenamecheap  |  53536 | 0.03973027 | 1.867902e-05 | United States | Non China | 1 | 1 | 1 | United States | 1 |  2200 |  641.6495 | ⋯ | 57 | 4.457749 |  1.8173451 |  7.306364 | 0 | 100 | 4.292920 | 100 |  4.790116 | 13.813471 | 271.44212 | 1 | 102 |  5.683839 | 101 |  11.925165 | 4.8845405 | 28.4273959 | 0.58 |  8.33 | 0.8639192 |  7.75 | 0.46643401 |  2.149515 |   15.078455 |\n",
       "| 4 | 3.478261 | 3.675889 | 3.675889 | 3.438735 | 4.071146 | 4.308300 | 0.7274704 | 0.6551383 | 0.6361660 | 0.7167984 | 0.7405138 | 0.7507905 | pwnamecheap    |  50470 | 0.02276600 | 1.981375e-05 | United States | Non China | 1 | 1 | 1 | United States | 1 |  2277 |  708.5591 | ⋯ | 53 | 3.816024 |  0.9727996 |  3.074438 | 0 | 100 | 5.021115 | 100 |  5.889335 | 13.133157 | 208.93433 | 1 | 133 |  3.806340 | 132 |  11.591963 | 7.9464521 | 72.1673024 | 0.59 |  5.40 | 0.8950147 |  4.81 | 0.37727284 |  1.158011 |    3.878673 |\n",
       "| 5 | 2.850995 | 2.883271 | 2.474449 | 2.598171 | 2.727273 | 2.646584 | 0.6506455 | 0.6493007 | 0.6381119 | 0.6095481 | 0.6266541 | 0.6249328 | onlinego daddy |  42162 | 0.17413785 | 2.371804e-05 | United States | Non China | 1 | 1 | 1 | United States | 1 |  2642 |  444.9510 | ⋯ | 57 | 4.627825 |  1.2478782 |  3.883563 | 0 | 100 | 5.019930 | 100 |  5.451631 | 13.738913 | 235.73852 | 1 |  38 |  1.947346 |  37 |   2.554309 | 8.0693509 | 82.8231996 | 0.50 | 19.38 | 1.4417611 | 18.88 | 2.84260467 |  3.856059 |   13.984498 |\n",
       "| 6 | 8.243243 | 8.445946 | 7.094595 | 4.932432 | 8.445946 | 8.581081 | 0.9202703 | 0.9195946 | 0.9189189 | 0.7162162 | 0.9344595 | 0.9358108 | sitegandi sas  |  35309 | 0.01741766 | 2.832139e-05 | France        | Non China | 1 | 1 | 1 | EU            | 1 |  8032 | 5529.4799 | ⋯ | 51 | 4.052579 | -0.9342607 |  1.096902 | 0 | 100 | 3.680121 | 100 |  7.475273 | 11.932197 | 150.65015 | 1 | 332 | 99.953015 | 331 | 114.009691 | 0.8053729 | -0.9005846 | 0.50 |  7.00 | 0.5011045 |  6.50 | 0.08472577 | 76.689854 | 5879.500288 |\n",
       "\n"
      ],
      "text/plain": [
       "  l10_seg2_glm l10_seg_glm l10_agg_glm l10_seg2_rf l10_seg_rf l10_agg_rf\n",
       "1 8.204334     8.126935    6.408669    8.777090    8.761610   8.591331  \n",
       "2 4.883721     5.255814    5.023256    5.813953    6.000000   6.186047  \n",
       "3 2.298025     1.921005    1.885099    2.280072    2.028725   2.046679  \n",
       "4 3.478261     3.675889    3.675889    3.438735    4.071146   4.308300  \n",
       "5 2.850995     2.883271    2.474449    2.598171    2.727273   2.646584  \n",
       "6 8.243243     8.445946    7.094595    4.932432    8.445946   8.581081  \n",
       "  auc_seg2_glm auc_seg_glm auc_agg_glm auc_seg2_rf auc_seg_rf auc_agg_rf\n",
       "1 0.8958204    0.8825077   0.8729102   0.9345201   0.9348297  0.9329721 \n",
       "2 0.8262791    0.8430233   0.8518605   0.8769767   0.8779070  0.8793023 \n",
       "3 0.6862657    0.6196589   0.6338420   0.6654399   0.6792639  0.6893178 \n",
       "4 0.7274704    0.6551383   0.6361660   0.7167984   0.7405138  0.7507905 \n",
       "5 0.6506455    0.6493007   0.6381119   0.6095481   0.6266541  0.6249328 \n",
       "6 0.9202703    0.9195946   0.9189189   0.7162162   0.9344595  0.9358108 \n",
       "  tld_reseller   count  ren_prp    tld_rat      country_maj   region_maj\n",
       "1 sitegmo        106569 0.02441611 9.383592e-06 Japan         Non China \n",
       "2 funalibaba      72690 0.01223002 1.375705e-05 China         China     \n",
       "3 sitenamecheap   53536 0.03973027 1.867902e-05 United States Non China \n",
       "4 pwnamecheap     50470 0.02276600 1.981375e-05 United States Non China \n",
       "5 onlinego daddy  42162 0.17413785 2.371804e-05 United States Non China \n",
       "6 sitegandi sas   35309 0.01741766 2.832139e-05 France        Non China \n",
       "  country_cnt region_cnt geo_cnt geo_maj       daydom_min daydom_max\n",
       "1 1           1          1       Japan         1          16752     \n",
       "2 1           1          1       China         1           2779     \n",
       "3 1           1          1       United States 1           2200     \n",
       "4 1           1          1       United States 1           2277     \n",
       "5 1           1          1       United States 1           2642     \n",
       "6 1           1          1       EU            1           8032     \n",
       "  daydom_mean ⋯ sldlen_rng sldlen_std sldlen_skew sldlen_kurt gibbs_min\n",
       "1 6351.1060   ⋯ 50         2.508508    6.1455276  55.010118   0        \n",
       "2  861.4138   ⋯ 60         3.289407    2.9497402  14.097156   0        \n",
       "3  641.6495   ⋯ 57         4.457749    1.8173451   7.306364   0        \n",
       "4  708.5591   ⋯ 53         3.816024    0.9727996   3.074438   0        \n",
       "5  444.9510   ⋯ 57         4.627825    1.2478782   3.883563   0        \n",
       "6 5529.4799   ⋯ 51         4.052579   -0.9342607   1.096902   0        \n",
       "  gibbs_max gibbs_mean gibbs_rng gibbs_std gibbs_skew gibbs_kurt pdcnt_min\n",
       "1 100       1.672944   100        4.083236 15.334299  348.12171  1        \n",
       "2 100       6.427920   100       21.265643  4.112206   15.16265  1        \n",
       "3 100       4.292920   100        4.790116 13.813471  271.44212  1        \n",
       "4 100       5.021115   100        5.889335 13.133157  208.93433  1        \n",
       "5 100       5.019930   100        5.451631 13.738913  235.73852  1        \n",
       "6 100       3.680121   100        7.475273 11.932197  150.65015  1        \n",
       "  pdcnt_max pdcnt_mean pdcnt_rng pdcnt_std  pdcnt_skew pdcnt_kurt rarpt_min\n",
       "1  51        3.432490   50         5.173298 3.6994369  16.3930266 0.10     \n",
       "2 326       15.295667  325        37.775267 4.8276608  27.7586974 0.75     \n",
       "3 102        5.683839  101        11.925165 4.8845405  28.4273959 0.58     \n",
       "4 133        3.806340  132        11.591963 7.9464521  72.1673024 0.59     \n",
       "5  38        1.947346   37         2.554309 8.0693509  82.8231996 0.50     \n",
       "6 332       99.953015  331       114.009691 0.8053729  -0.9005846 0.50     \n",
       "  rarpt_max rarpt_mean rarpt_rng rarpt_std  rarpt_skew rarpt_kurt \n",
       "1 13.37     0.1037350  13.27     0.20216296 55.154300  3102.462949\n",
       "2  4.75     0.7521482   4.00     0.08239843 43.767804  1951.657326\n",
       "3  8.33     0.8639192   7.75     0.46643401  2.149515    15.078455\n",
       "4  5.40     0.8950147   4.81     0.37727284  1.158011     3.878673\n",
       "5 19.38     1.4417611  18.88     2.84260467  3.856059    13.984498\n",
       "6  7.00     0.5011045   6.50     0.08472577 76.689854  5879.500288"
      ]
     },
     "metadata": {},
     "output_type": "display_data"
    }
   ],
   "source": [
    "head(metrics_df)"
   ]
  },
  {
   "cell_type": "code",
   "execution_count": 38,
   "metadata": {},
   "outputs": [
    {
     "data": {
      "text/html": [
       "<style>\n",
       ".list-inline {list-style: none; margin:0; padding: 0}\n",
       ".list-inline>li {display: inline-block}\n",
       ".list-inline>li:not(:last-child)::after {content: \"\\00b7\"; padding: 0 .5ex}\n",
       "</style>\n",
       "<ol class=list-inline><li>'l10_seg2_glm'</li><li>'l10_seg_glm'</li><li>'l10_agg_glm'</li><li>'l10_seg2_rf'</li><li>'l10_seg_rf'</li><li>'l10_agg_rf'</li><li>'auc_seg2_glm'</li><li>'auc_seg_glm'</li><li>'auc_agg_glm'</li><li>'auc_seg2_rf'</li><li>'auc_seg_rf'</li><li>'auc_agg_rf'</li><li>'tld_reseller'</li><li>'count'</li><li>'ren_prp'</li><li>'tld_rat'</li><li>'country_maj'</li><li>'region_maj'</li><li>'country_cnt'</li><li>'region_cnt'</li><li>'geo_cnt'</li><li>'geo_maj'</li><li>'daydom_min'</li><li>'daydom_max'</li><li>'daydom_mean'</li><li>'daydom_rng'</li><li>'daydom_std'</li><li>'daydom_skew'</li><li>'daydom_kurt'</li><li>'sldlen_min'</li><li>'sldlen_max'</li><li>'sldlen_mean'</li><li>'sldlen_rng'</li><li>'sldlen_std'</li><li>'sldlen_skew'</li><li>'sldlen_kurt'</li><li>'gibbs_min'</li><li>'gibbs_max'</li><li>'gibbs_mean'</li><li>'gibbs_rng'</li><li>'gibbs_std'</li><li>'gibbs_skew'</li><li>'gibbs_kurt'</li><li>'pdcnt_min'</li><li>'pdcnt_max'</li><li>'pdcnt_mean'</li><li>'pdcnt_rng'</li><li>'pdcnt_std'</li><li>'pdcnt_skew'</li><li>'pdcnt_kurt'</li><li>'rarpt_min'</li><li>'rarpt_max'</li><li>'rarpt_mean'</li><li>'rarpt_rng'</li><li>'rarpt_std'</li><li>'rarpt_skew'</li><li>'rarpt_kurt'</li></ol>\n"
      ],
      "text/latex": [
       "\\begin{enumerate*}\n",
       "\\item 'l10\\_seg2\\_glm'\n",
       "\\item 'l10\\_seg\\_glm'\n",
       "\\item 'l10\\_agg\\_glm'\n",
       "\\item 'l10\\_seg2\\_rf'\n",
       "\\item 'l10\\_seg\\_rf'\n",
       "\\item 'l10\\_agg\\_rf'\n",
       "\\item 'auc\\_seg2\\_glm'\n",
       "\\item 'auc\\_seg\\_glm'\n",
       "\\item 'auc\\_agg\\_glm'\n",
       "\\item 'auc\\_seg2\\_rf'\n",
       "\\item 'auc\\_seg\\_rf'\n",
       "\\item 'auc\\_agg\\_rf'\n",
       "\\item 'tld\\_reseller'\n",
       "\\item 'count'\n",
       "\\item 'ren\\_prp'\n",
       "\\item 'tld\\_rat'\n",
       "\\item 'country\\_maj'\n",
       "\\item 'region\\_maj'\n",
       "\\item 'country\\_cnt'\n",
       "\\item 'region\\_cnt'\n",
       "\\item 'geo\\_cnt'\n",
       "\\item 'geo\\_maj'\n",
       "\\item 'daydom\\_min'\n",
       "\\item 'daydom\\_max'\n",
       "\\item 'daydom\\_mean'\n",
       "\\item 'daydom\\_rng'\n",
       "\\item 'daydom\\_std'\n",
       "\\item 'daydom\\_skew'\n",
       "\\item 'daydom\\_kurt'\n",
       "\\item 'sldlen\\_min'\n",
       "\\item 'sldlen\\_max'\n",
       "\\item 'sldlen\\_mean'\n",
       "\\item 'sldlen\\_rng'\n",
       "\\item 'sldlen\\_std'\n",
       "\\item 'sldlen\\_skew'\n",
       "\\item 'sldlen\\_kurt'\n",
       "\\item 'gibbs\\_min'\n",
       "\\item 'gibbs\\_max'\n",
       "\\item 'gibbs\\_mean'\n",
       "\\item 'gibbs\\_rng'\n",
       "\\item 'gibbs\\_std'\n",
       "\\item 'gibbs\\_skew'\n",
       "\\item 'gibbs\\_kurt'\n",
       "\\item 'pdcnt\\_min'\n",
       "\\item 'pdcnt\\_max'\n",
       "\\item 'pdcnt\\_mean'\n",
       "\\item 'pdcnt\\_rng'\n",
       "\\item 'pdcnt\\_std'\n",
       "\\item 'pdcnt\\_skew'\n",
       "\\item 'pdcnt\\_kurt'\n",
       "\\item 'rarpt\\_min'\n",
       "\\item 'rarpt\\_max'\n",
       "\\item 'rarpt\\_mean'\n",
       "\\item 'rarpt\\_rng'\n",
       "\\item 'rarpt\\_std'\n",
       "\\item 'rarpt\\_skew'\n",
       "\\item 'rarpt\\_kurt'\n",
       "\\end{enumerate*}\n"
      ],
      "text/markdown": [
       "1. 'l10_seg2_glm'\n",
       "2. 'l10_seg_glm'\n",
       "3. 'l10_agg_glm'\n",
       "4. 'l10_seg2_rf'\n",
       "5. 'l10_seg_rf'\n",
       "6. 'l10_agg_rf'\n",
       "7. 'auc_seg2_glm'\n",
       "8. 'auc_seg_glm'\n",
       "9. 'auc_agg_glm'\n",
       "10. 'auc_seg2_rf'\n",
       "11. 'auc_seg_rf'\n",
       "12. 'auc_agg_rf'\n",
       "13. 'tld_reseller'\n",
       "14. 'count'\n",
       "15. 'ren_prp'\n",
       "16. 'tld_rat'\n",
       "17. 'country_maj'\n",
       "18. 'region_maj'\n",
       "19. 'country_cnt'\n",
       "20. 'region_cnt'\n",
       "21. 'geo_cnt'\n",
       "22. 'geo_maj'\n",
       "23. 'daydom_min'\n",
       "24. 'daydom_max'\n",
       "25. 'daydom_mean'\n",
       "26. 'daydom_rng'\n",
       "27. 'daydom_std'\n",
       "28. 'daydom_skew'\n",
       "29. 'daydom_kurt'\n",
       "30. 'sldlen_min'\n",
       "31. 'sldlen_max'\n",
       "32. 'sldlen_mean'\n",
       "33. 'sldlen_rng'\n",
       "34. 'sldlen_std'\n",
       "35. 'sldlen_skew'\n",
       "36. 'sldlen_kurt'\n",
       "37. 'gibbs_min'\n",
       "38. 'gibbs_max'\n",
       "39. 'gibbs_mean'\n",
       "40. 'gibbs_rng'\n",
       "41. 'gibbs_std'\n",
       "42. 'gibbs_skew'\n",
       "43. 'gibbs_kurt'\n",
       "44. 'pdcnt_min'\n",
       "45. 'pdcnt_max'\n",
       "46. 'pdcnt_mean'\n",
       "47. 'pdcnt_rng'\n",
       "48. 'pdcnt_std'\n",
       "49. 'pdcnt_skew'\n",
       "50. 'pdcnt_kurt'\n",
       "51. 'rarpt_min'\n",
       "52. 'rarpt_max'\n",
       "53. 'rarpt_mean'\n",
       "54. 'rarpt_rng'\n",
       "55. 'rarpt_std'\n",
       "56. 'rarpt_skew'\n",
       "57. 'rarpt_kurt'\n",
       "\n",
       "\n"
      ],
      "text/plain": [
       " [1] \"l10_seg2_glm\" \"l10_seg_glm\"  \"l10_agg_glm\"  \"l10_seg2_rf\"  \"l10_seg_rf\"  \n",
       " [6] \"l10_agg_rf\"   \"auc_seg2_glm\" \"auc_seg_glm\"  \"auc_agg_glm\"  \"auc_seg2_rf\" \n",
       "[11] \"auc_seg_rf\"   \"auc_agg_rf\"   \"tld_reseller\" \"count\"        \"ren_prp\"     \n",
       "[16] \"tld_rat\"      \"country_maj\"  \"region_maj\"   \"country_cnt\"  \"region_cnt\"  \n",
       "[21] \"geo_cnt\"      \"geo_maj\"      \"daydom_min\"   \"daydom_max\"   \"daydom_mean\" \n",
       "[26] \"daydom_rng\"   \"daydom_std\"   \"daydom_skew\"  \"daydom_kurt\"  \"sldlen_min\"  \n",
       "[31] \"sldlen_max\"   \"sldlen_mean\"  \"sldlen_rng\"   \"sldlen_std\"   \"sldlen_skew\" \n",
       "[36] \"sldlen_kurt\"  \"gibbs_min\"    \"gibbs_max\"    \"gibbs_mean\"   \"gibbs_rng\"   \n",
       "[41] \"gibbs_std\"    \"gibbs_skew\"   \"gibbs_kurt\"   \"pdcnt_min\"    \"pdcnt_max\"   \n",
       "[46] \"pdcnt_mean\"   \"pdcnt_rng\"    \"pdcnt_std\"    \"pdcnt_skew\"   \"pdcnt_kurt\"  \n",
       "[51] \"rarpt_min\"    \"rarpt_max\"    \"rarpt_mean\"   \"rarpt_rng\"    \"rarpt_std\"   \n",
       "[56] \"rarpt_skew\"   \"rarpt_kurt\"  "
      ]
     },
     "metadata": {},
     "output_type": "display_data"
    }
   ],
   "source": [
    "names(metrics_df)"
   ]
  },
  {
   "cell_type": "markdown",
   "metadata": {},
   "source": [
    "# CREATE new multi-class dependent variables"
   ]
  },
  {
   "cell_type": "code",
   "execution_count": 39,
   "metadata": {},
   "outputs": [
    {
     "data": {
      "text/html": [
       "<style>\n",
       ".list-inline {list-style: none; margin:0; padding: 0}\n",
       ".list-inline>li {display: inline-block}\n",
       ".list-inline>li:not(:last-child)::after {content: \"\\00b7\"; padding: 0 .5ex}\n",
       "</style>\n",
       "<ol class=list-inline><li>'auc_seg2_glm'</li><li>'auc_seg_glm'</li><li>'auc_agg_glm'</li><li>'auc_seg2_rf'</li><li>'auc_seg_rf'</li><li>'auc_agg_rf'</li></ol>\n"
      ],
      "text/latex": [
       "\\begin{enumerate*}\n",
       "\\item 'auc\\_seg2\\_glm'\n",
       "\\item 'auc\\_seg\\_glm'\n",
       "\\item 'auc\\_agg\\_glm'\n",
       "\\item 'auc\\_seg2\\_rf'\n",
       "\\item 'auc\\_seg\\_rf'\n",
       "\\item 'auc\\_agg\\_rf'\n",
       "\\end{enumerate*}\n"
      ],
      "text/markdown": [
       "1. 'auc_seg2_glm'\n",
       "2. 'auc_seg_glm'\n",
       "3. 'auc_agg_glm'\n",
       "4. 'auc_seg2_rf'\n",
       "5. 'auc_seg_rf'\n",
       "6. 'auc_agg_rf'\n",
       "\n",
       "\n"
      ],
      "text/plain": [
       "[1] \"auc_seg2_glm\" \"auc_seg_glm\"  \"auc_agg_glm\"  \"auc_seg2_rf\"  \"auc_seg_rf\"  \n",
       "[6] \"auc_agg_rf\"  "
      ]
     },
     "metadata": {},
     "output_type": "display_data"
    },
    {
     "data": {
      "text/html": [
       "<style>\n",
       ".list-inline {list-style: none; margin:0; padding: 0}\n",
       ".list-inline>li {display: inline-block}\n",
       ".list-inline>li:not(:last-child)::after {content: \"\\00b7\"; padding: 0 .5ex}\n",
       "</style>\n",
       "<ol class=list-inline><li>'l10_seg2_glm'</li><li>'l10_seg_glm'</li><li>'l10_agg_glm'</li><li>'l10_seg2_rf'</li><li>'l10_seg_rf'</li><li>'l10_agg_rf'</li></ol>\n"
      ],
      "text/latex": [
       "\\begin{enumerate*}\n",
       "\\item 'l10\\_seg2\\_glm'\n",
       "\\item 'l10\\_seg\\_glm'\n",
       "\\item 'l10\\_agg\\_glm'\n",
       "\\item 'l10\\_seg2\\_rf'\n",
       "\\item 'l10\\_seg\\_rf'\n",
       "\\item 'l10\\_agg\\_rf'\n",
       "\\end{enumerate*}\n"
      ],
      "text/markdown": [
       "1. 'l10_seg2_glm'\n",
       "2. 'l10_seg_glm'\n",
       "3. 'l10_agg_glm'\n",
       "4. 'l10_seg2_rf'\n",
       "5. 'l10_seg_rf'\n",
       "6. 'l10_agg_rf'\n",
       "\n",
       "\n"
      ],
      "text/plain": [
       "[1] \"l10_seg2_glm\" \"l10_seg_glm\"  \"l10_agg_glm\"  \"l10_seg2_rf\"  \"l10_seg_rf\"  \n",
       "[6] \"l10_agg_rf\"  "
      ]
     },
     "metadata": {},
     "output_type": "display_data"
    }
   ],
   "source": [
    "(auc_vars = grep('auc', names(metrics_df), value=TRUE))\n",
    "(l10_vars = grep('l10', names(metrics_df), value=TRUE))"
   ]
  },
  {
   "cell_type": "code",
   "execution_count": 40,
   "metadata": {},
   "outputs": [],
   "source": [
    "# auc_vars = c('seg2_glm_auc','seg_glm_auc','agg_glm_auc','agg_rf_auc')\n",
    "# l10_vars = c('seg2_glm_lift10','seg_glm_lift10','agg_glm_lift10','agg_rf_lift10')"
   ]
  },
  {
   "cell_type": "code",
   "execution_count": 41,
   "metadata": {},
   "outputs": [],
   "source": [
    "metrics_df <- metrics_df %>%\n",
    "    mutate (auc_win=sapply(apply(.[,c(auc_vars)], \n",
    "                          1, function(x) names(x)[which.max(x)]) , function(s) if (length(s) == 0) NA else paste(s, collapse = \" \")) ,\n",
    "            l10_win=sapply(apply(.[,c(l10_vars)], \n",
    "                          1, function(x) names(x)[which.max(x)]), function(s) if (length(s) == 0) NA else paste(s, collapse = \" \")) \n",
    "            ) "
   ]
  },
  {
   "cell_type": "markdown",
   "metadata": {},
   "source": [
    "# proportion of wins by each class"
   ]
  },
  {
   "cell_type": "code",
   "execution_count": 42,
   "metadata": {},
   "outputs": [
    {
     "data": {
      "text/html": [
       "<table>\n",
       "<caption>A tibble: 7 × 2</caption>\n",
       "<thead>\n",
       "\t<tr><th scope=col>auc_win</th><th scope=col>n</th></tr>\n",
       "\t<tr><th scope=col>&lt;chr&gt;</th><th scope=col>&lt;int&gt;</th></tr>\n",
       "</thead>\n",
       "<tbody>\n",
       "\t<tr><td>NA          </td><td>665</td></tr>\n",
       "\t<tr><td>auc_seg2_glm</td><td>433</td></tr>\n",
       "\t<tr><td>auc_seg_glm </td><td>176</td></tr>\n",
       "\t<tr><td>auc_agg_glm </td><td>144</td></tr>\n",
       "\t<tr><td>auc_seg_rf  </td><td>117</td></tr>\n",
       "\t<tr><td>auc_agg_rf  </td><td> 94</td></tr>\n",
       "\t<tr><td>auc_seg2_rf </td><td> 94</td></tr>\n",
       "</tbody>\n",
       "</table>\n"
      ],
      "text/latex": [
       "A tibble: 7 × 2\n",
       "\\begin{tabular}{ll}\n",
       " auc\\_win & n\\\\\n",
       " <chr> & <int>\\\\\n",
       "\\hline\n",
       "\t NA           & 665\\\\\n",
       "\t auc\\_seg2\\_glm & 433\\\\\n",
       "\t auc\\_seg\\_glm  & 176\\\\\n",
       "\t auc\\_agg\\_glm  & 144\\\\\n",
       "\t auc\\_seg\\_rf   & 117\\\\\n",
       "\t auc\\_agg\\_rf   &  94\\\\\n",
       "\t auc\\_seg2\\_rf  &  94\\\\\n",
       "\\end{tabular}\n"
      ],
      "text/markdown": [
       "\n",
       "A tibble: 7 × 2\n",
       "\n",
       "| auc_win &lt;chr&gt; | n &lt;int&gt; |\n",
       "|---|---|\n",
       "| NA           | 665 |\n",
       "| auc_seg2_glm | 433 |\n",
       "| auc_seg_glm  | 176 |\n",
       "| auc_agg_glm  | 144 |\n",
       "| auc_seg_rf   | 117 |\n",
       "| auc_agg_rf   |  94 |\n",
       "| auc_seg2_rf  |  94 |\n",
       "\n"
      ],
      "text/plain": [
       "  auc_win      n  \n",
       "1 NA           665\n",
       "2 auc_seg2_glm 433\n",
       "3 auc_seg_glm  176\n",
       "4 auc_agg_glm  144\n",
       "5 auc_seg_rf   117\n",
       "6 auc_agg_rf    94\n",
       "7 auc_seg2_rf   94"
      ]
     },
     "metadata": {},
     "output_type": "display_data"
    }
   ],
   "source": [
    "metrics_df %>% \n",
    "    group_by(auc_win) %>%\n",
    "    tally() %>%\n",
    "    arrange(desc(n))"
   ]
  },
  {
   "cell_type": "code",
   "execution_count": 43,
   "metadata": {},
   "outputs": [
    {
     "data": {
      "text/html": [
       "<table>\n",
       "<caption>A tibble: 7 × 2</caption>\n",
       "<thead>\n",
       "\t<tr><th scope=col>l10_win</th><th scope=col>n</th></tr>\n",
       "\t<tr><th scope=col>&lt;chr&gt;</th><th scope=col>&lt;int&gt;</th></tr>\n",
       "</thead>\n",
       "<tbody>\n",
       "\t<tr><td>NA          </td><td>665</td></tr>\n",
       "\t<tr><td>l10_seg2_glm</td><td>603</td></tr>\n",
       "\t<tr><td>l10_seg_glm </td><td>158</td></tr>\n",
       "\t<tr><td>l10_agg_glm </td><td>104</td></tr>\n",
       "\t<tr><td>l10_seg2_rf </td><td>100</td></tr>\n",
       "\t<tr><td>l10_seg_rf  </td><td> 51</td></tr>\n",
       "\t<tr><td>l10_agg_rf  </td><td> 42</td></tr>\n",
       "</tbody>\n",
       "</table>\n"
      ],
      "text/latex": [
       "A tibble: 7 × 2\n",
       "\\begin{tabular}{ll}\n",
       " l10\\_win & n\\\\\n",
       " <chr> & <int>\\\\\n",
       "\\hline\n",
       "\t NA           & 665\\\\\n",
       "\t l10\\_seg2\\_glm & 603\\\\\n",
       "\t l10\\_seg\\_glm  & 158\\\\\n",
       "\t l10\\_agg\\_glm  & 104\\\\\n",
       "\t l10\\_seg2\\_rf  & 100\\\\\n",
       "\t l10\\_seg\\_rf   &  51\\\\\n",
       "\t l10\\_agg\\_rf   &  42\\\\\n",
       "\\end{tabular}\n"
      ],
      "text/markdown": [
       "\n",
       "A tibble: 7 × 2\n",
       "\n",
       "| l10_win &lt;chr&gt; | n &lt;int&gt; |\n",
       "|---|---|\n",
       "| NA           | 665 |\n",
       "| l10_seg2_glm | 603 |\n",
       "| l10_seg_glm  | 158 |\n",
       "| l10_agg_glm  | 104 |\n",
       "| l10_seg2_rf  | 100 |\n",
       "| l10_seg_rf   |  51 |\n",
       "| l10_agg_rf   |  42 |\n",
       "\n"
      ],
      "text/plain": [
       "  l10_win      n  \n",
       "1 NA           665\n",
       "2 l10_seg2_glm 603\n",
       "3 l10_seg_glm  158\n",
       "4 l10_agg_glm  104\n",
       "5 l10_seg2_rf  100\n",
       "6 l10_seg_rf    51\n",
       "7 l10_agg_rf    42"
      ]
     },
     "metadata": {},
     "output_type": "display_data"
    }
   ],
   "source": [
    "metrics_df %>% \n",
    "    group_by(l10_win) %>%\n",
    "    tally() %>%\n",
    "    arrange(desc(n))"
   ]
  },
  {
   "cell_type": "markdown",
   "metadata": {},
   "source": [
    "# Note some resellers have no wins -- these are all where no renewals exist"
   ]
  },
  {
   "cell_type": "code",
   "execution_count": 44,
   "metadata": {},
   "outputs": [
    {
     "data": {
      "text/html": [
       "<style>\n",
       ".list-inline {list-style: none; margin:0; padding: 0}\n",
       ".list-inline>li {display: inline-block}\n",
       ".list-inline>li:not(:last-child)::after {content: \"\\00b7\"; padding: 0 .5ex}\n",
       "</style>\n",
       "<ol class=list-inline><li>'funzhengzhou century connect'</li><li>'sitepdr china'</li><li>'onlinepdr china'</li><li>'spaceeranet'</li><li>'funmoniker'</li><li>'siteeranet'</li><li>'siteidwebhost'</li><li>'spaceglobal domains'</li><li>'sitedomains4bitcoins'</li><li>'hostglobal domains'</li><li>'websitebeget'</li><li>'siteshanghai meicheng'</li><li>'sitenethouse'</li><li>'spaceniaga hoster'</li><li>'hostdomains4bitcoins'</li><li>'storebeon intermedia'</li><li>'websitedomains4bitcoins'</li><li>'sitecafe24'</li><li>'presszhengzhou zitian'</li><li>'onlinenicenic'</li><li>'storenhan hoa software'</li><li>'websiteshanghai best oray'</li><li>'fundomains4bitcoins'</li><li>'sitenicenic'</li><li>'websitexin net'</li><li>'onlineeranet'</li><li>'hostgmo'</li><li>'techdomains4bitcoins'</li><li>'techspaceweb'</li><li>'storedomains4bitcoins'</li><li>'store22net inc'</li><li>'storenicenic'</li><li>'spacedomains4bitcoins'</li><li>'funnicenic'</li><li>'techglobal domains'</li><li>'technicenic'</li><li>'pressfbs'</li><li>'funglobal domains'</li><li>'funfbs'</li><li>'storexiamen chinasource'</li><li>'site1&amp;1 internet'</li><li>'spacewebsupport.sk'</li><li>'websitedomainesia'</li><li>'onlinesmartweb'</li><li>'storebizcn'</li><li>'onlinezhengzhou century connect'</li><li>'technics telekom'</li><li>'techp.a viet nam'</li><li>'storeinterneto vizija'</li><li>'websitebeon intermedia'</li><li>'spacezhengzhou century connect'</li><li>'storeglobal domains'</li><li>'siteipage enom'</li><li>'techrumahweb'</li><li>'funnethouse'</li><li>'pressname.com'</li><li>'websitezhengzhou century connect'</li><li>'sitewebsupport.sk'</li><li>'spaceepik llc'</li><li>'spaceshanghai meicheng'</li><li>'websiterumahweb'</li><li>'funepik llc'</li><li>'websiteepik llc'</li><li>'funhosting ukraine'</li><li>'websitepdr china'</li><li>'funbeon intermedia'</li><li>'pressglobal domains'</li><li>'websitewest263 international'</li><li>'onlinexiamen nawang'</li><li>'pressgandi sas'</li><li>'storebaidu'</li><li>'techwild west'</li><li>'space10dencehispahard'</li><li>'websitetld registrar solns'</li><li>'sitep.a viet nam'</li><li>'storeligne web services'</li><li>'storetimeweb'</li><li>'websitemat bao'</li><li>'websitenethouse'</li><li>'websiterebrandly'</li><li>'space123hjemmeside'</li><li>'spacebizcn'</li><li>'hostnetwork solutions'</li><li>'hostfbs'</li><li>'storeipage domain.com'</li><li>'techbaidu'</li><li>'fundotserve inc'</li><li>'hostbaidu'</li><li>'sitebaidu'</li><li>'websitecsc corporate'</li><li>'funchengdu fly'</li><li>'pwifastnet'</li><li>'sitexiamen 35.com'</li><li>'websitebizcn'</li><li>'websiteshopify'</li><li>'funshanghai best oray'</li><li>'onlineregway'</li><li>'siteguzel hosting'</li><li>'websiteweb4africa'</li><li>'websitewild west'</li><li>'hostliquidnet'</li><li>'sitedomain discount'</li><li>'spacenominalia'</li><li>'spaceversio'</li><li>'websiteregistrator domenov '</li><li>'pressalibaba'</li><li>'presswhois'</li><li>'storeamen fr'</li><li>'storewhogohost'</li><li>'pressshanghai best oray'</li><li>'storeaz.pl'</li><li>'technhan hoa software'</li><li>'onlineexabytes'</li><li>'onlineiwantmyname'</li><li>'onlinevimexx ks'</li><li>'sitedominios.pt'</li><li>'websiteshanghai meicheng'</li><li>'hostregistrator domenov '</li><li>'hostshanghai meicheng'</li><li>'onlinea small orange'</li><li>'sitediamatrix'</li><li>'spaceifastnet'</li><li>'websiteyahoo'</li><li>'funhostgator brazil'</li><li>'onlineqhoster'</li><li>'siteejee group'</li><li>'siteweb4africa'</li><li>'storedotname korea'</li><li>'storeliquidnet'</li><li>'websiteicn'</li><li>'hostregway'</li><li>'siteactive 24'</li><li>'funrumahweb'</li><li>'hostgoogle'</li><li>'press1&amp;1 internet'</li><li>'pwonlinenic'</li><li>'spacedotname korea'</li><li>'storeregistrator domenov '</li><li>'websiteredehost'</li><li>'funbaidu'</li><li>'hostxin net'</li><li>'in.nethostgator'</li><li>'onlineguzel hosting'</li><li>'onlinenetowl'</li><li>'onlinethe registrar company b.v.'</li><li>'pressliquidnet'</li><li>'pwnicenic'</li><li>'spacebeon intermedia'</li><li>'spacewhogohost'</li><li>'storecafe24'</li><li>'storeweb4africa'</li><li>'websiteligne web services'</li><li>'funfoshan yidong'</li><li>'funmat bao'</li><li>'in.nettld registrar solns'</li><li>'onlinechengdu fly'</li><li>'storeproisp'</li><li>'storexiamen nawang'</li><li>'websitedomaindiscover.com'</li><li>'websitenameshield'</li><li>'in.netnettigritty'</li><li>'onlinednsimple'</li><li>'pressshanghai meicheng'</li><li>'spacecafe24'</li><li>'spacemarkmonitor'</li><li>'storeafrihost'</li><li>'storeeims'</li><li>'techwhois networks'</li><li>'funtimeweb'</li><li>'host1&amp;1 internet'</li><li>'hostneubox'</li><li>'hostwhois'</li><li>'onlineejee group'</li><li>'onlineproisp'</li><li>'presspdr ltd'</li><li>'spacevautron'</li><li>'techmelbourne it'</li><li>'websiteunited domains'</li><li>'funcrazy domains'</li><li>'funevoplus ltd'</li><li>'funhosting concepts'</li><li>'funwild west'</li><li>'in.netalpnames'</li><li>'in.netporkbun'</li><li>'in.netreg.ru'</li><li>'onlineeasyspace'</li><li>'onlineimpreza'</li><li>'onlinesibername'</li><li>'onlinexpress'</li><li>'pw101 domain'</li><li>'sitehostens'</li><li>'siteiwantmyname'</li><li>'space101 domain'</li><li>'storedomaininfo'</li><li>'techepik llc'</li><li>'websiteeranet'</li><li>'websitetransip'</li><li>'funcafe24'</li><li>'fundomeneshop'</li><li>'funforpsi'</li><li>⋯</li><li>'hostcorehub'</li><li>'hostcrazy domains'</li><li>'hostdiamatrix'</li><li>'hostdomeneshop'</li><li>'hostdomeny.pl'</li><li>'hosteasyspace'</li><li>'hosteims'</li><li>'hosthostgator mexico'</li><li>'hostjogjacamp'</li><li>'hostmelbourne it'</li><li>'hostmijn internet'</li><li>'hostnetim'</li><li>'hostonlinenic'</li><li>'hostparagon internet'</li><li>'hostpromo people'</li><li>'hostregister.it'</li><li>'hostshinjiru'</li><li>'hostsoluciones corporativas'</li><li>'hostsquarespace'</li><li>'hosttodaynic'</li><li>'hostuniregistrar'</li><li>'hostunited domains'</li><li>'hostzhengzhou zitian'</li><li>'in.netcsc corporate'</li><li>'in.netcsl'</li><li>'in.netexonhost'</li><li>'in.netipage pdr ltd'</li><li>'in.netkey-systems'</li><li>'onlinebeijing guoxu'</li><li>'onlinedandomains'</li><li>'onlineeasydns'</li><li>'onlinefocus ip'</li><li>'onlinefoshan yidong'</li><li>'onlineglobal village'</li><li>'onlinego france'</li><li>'onlinehostnet'</li><li>'onlinehostneverdie'</li><li>'onlineipage enom'</li><li>'onlinenamecamp'</li><li>'onlineorigiweb'</li><li>'onlineplanet hoster'</li><li>'onlinereliable software'</li><li>'onlinesecura gmbh'</li><li>'onlinetodaynic'</li><li>'onlinevariomedia'</li><li>'onlinewebhouse'</li><li>'onlinewordpress'</li><li>'pressa small orange'</li><li>'pressbigrock'</li><li>'pressdomeneshop'</li><li>'presseasydns'</li><li>'presseuro dns'</li><li>'presshosting ukraine'</li><li>'pressinternetx'</li><li>'pressiwantmyname'</li><li>'pressmuumuu'</li><li>'pressnameshield'</li><li>'pressniaga hoster'</li><li>'pressnicenic'</li><li>'pressomnis network'</li><li>'pressregister.it'</li><li>'presssafenames ltd'</li><li>'pressshopify'</li><li>'pressunoeuro'</li><li>'pressuol'</li><li>'presswebsupport.sk'</li><li>'pwanygaming'</li><li>'pwbeon intermedia'</li><li>'pwbigrock'</li><li>'pwbluehost'</li><li>'pwdiamatrix'</li><li>'pwdomain context'</li><li>'pwelectron networks'</li><li>'pweuro dns'</li><li>'pwfbs'</li><li>'pwguzel hosting'</li><li>'pwinternetworx ltd'</li><li>'pwinternetx'</li><li>'pwmarcaria.com'</li><li>'pwonline sas'</li><li>'pwplanet hoster'</li><li>'pwregister.com'</li><li>'pwshinjiru'</li><li>'pwwhogohost'</li><li>'pwwhois networks'</li><li>'siteblacknight'</li><li>'sitecheck domain'</li><li>'sitedinahosting'</li><li>'sitedomaindiscover.com'</li><li>'siteeu technology'</li><li>'siteevoplus ltd'</li><li>'siteexabytes'</li><li>'sitegransy'</li><li>'sitehosteur'</li><li>'siteimpreza'</li><li>'sitejiangsu bangning'</li><li>'sitelcn'</li><li>'sitemarcaria.com'</li><li>'sitemarkum'</li><li>'sitenettigritty'</li><li>'siteomnis network'</li><li>'siteorigiweb'</li><li>'siteownregistrar'</li><li>'siteplanet hoster'</li><li>'sitesea wasp'</li><li>'sitesibername'</li><li>'sitesuper registry'</li><li>'sitetecnocratica centro'</li><li>'sitethe registrar company b.v.'</li><li>'siteventraip'</li><li>'sitevimexx trc'</li><li>'sitewhois networks'</li><li>'spacebb online'</li><li>'spacebeijing guoxu'</li><li>'spaceblacknight'</li><li>'spaceconstant contact'</li><li>'spacedandomains'</li><li>'spacedomain the net'</li><li>'spacedomainmonger'</li><li>'spaceeims'</li><li>'spaceejee group'</li><li>'spaceeukhost'</li><li>'spaceinternet gmbh'</li><li>'spaceipage pdr ltd'</li><li>'spacejogjacamp'</li><li>'spacenameshield'</li><li>'spaceneostrada'</li><li>'spacenetearth one'</li><li>'spacenicenic'</li><li>'spacereg2c'</li><li>'spacesoluciones corporativas'</li><li>'spacevimexx trc'</li><li>'spacewhois networks'</li><li>'spacexpress'</li><li>'spaceznet'</li><li>'storea small orange'</li><li>'storealpnames'</li><li>'storecompra'</li><li>'storeentorno digital'</li><li>'storeeranet'</li><li>'storeetsy'</li><li>'storeflexwebhosting'</li><li>'storeidwebhost'</li><li>'storeimpreza'</li><li>'storeipage enom'</li><li>'storejogjacamp'</li><li>'storekinghost'</li><li>'storenetclues'</li><li>'storenetearth one'</li><li>'storeopentld b.v.'</li><li>'storeownregistrar'</li><li>'storequalispace'</li><li>'storeshanghai best oray'</li><li>'storetecnocratica centro'</li><li>'storeventraip'</li><li>'storevimexx ks'</li><li>'storewebonic'</li><li>'storewhois networks'</li><li>'storezhengzhou century connect'</li><li>'techblacknight'</li><li>'techcafe24'</li><li>'techcheck domain'</li><li>'techgo canada'</li><li>'techinternet gmbh'</li><li>'techjiangsu bangning'</li><li>'techkinghost'</li><li>'techlcn'</li><li>'techmijn internet'</li><li>'techopentld b.v.'</li><li>'techownregistrar'</li><li>'techqhoster'</li><li>'techsibername'</li><li>'techvariomedia'</li><li>'website10dencehispahard'</li><li>'website1blu'</li><li>'websitealastry'</li><li>'websiteamen fr'</li><li>'websiteblacknight'</li><li>'websitecom laude'</li><li>'websitednc holdings'</li><li>'websitedomain the net'</li><li>'websitedomainfactory'</li><li>'websitedreamhost'</li><li>'websitegransy'</li><li>'websiteguzel hosting'</li><li>'websiteidwebhost'</li><li>'websiteinternetworx ltd'</li><li>'websitemijn internet'</li><li>'websitenameweb'</li><li>'websiteneostrada'</li><li>'websitenicenic'</li><li>'websitenominalia'</li><li>'websiteopentld b.v.'</li><li>'websiteownregistrar'</li><li>'websiteregister.com'</li><li>'websiteregtime ltd'</li><li>'websitesibername'</li><li>'websitethe registrar company b.v.'</li><li>'websitevautron'</li><li>'websitezhengzhou zitian'</li></ol>\n"
      ],
      "text/latex": [
       "\\begin{enumerate*}\n",
       "\\item 'funzhengzhou century connect'\n",
       "\\item 'sitepdr china'\n",
       "\\item 'onlinepdr china'\n",
       "\\item 'spaceeranet'\n",
       "\\item 'funmoniker'\n",
       "\\item 'siteeranet'\n",
       "\\item 'siteidwebhost'\n",
       "\\item 'spaceglobal domains'\n",
       "\\item 'sitedomains4bitcoins'\n",
       "\\item 'hostglobal domains'\n",
       "\\item 'websitebeget'\n",
       "\\item 'siteshanghai meicheng'\n",
       "\\item 'sitenethouse'\n",
       "\\item 'spaceniaga hoster'\n",
       "\\item 'hostdomains4bitcoins'\n",
       "\\item 'storebeon intermedia'\n",
       "\\item 'websitedomains4bitcoins'\n",
       "\\item 'sitecafe24'\n",
       "\\item 'presszhengzhou zitian'\n",
       "\\item 'onlinenicenic'\n",
       "\\item 'storenhan hoa software'\n",
       "\\item 'websiteshanghai best oray'\n",
       "\\item 'fundomains4bitcoins'\n",
       "\\item 'sitenicenic'\n",
       "\\item 'websitexin net'\n",
       "\\item 'onlineeranet'\n",
       "\\item 'hostgmo'\n",
       "\\item 'techdomains4bitcoins'\n",
       "\\item 'techspaceweb'\n",
       "\\item 'storedomains4bitcoins'\n",
       "\\item 'store22net inc'\n",
       "\\item 'storenicenic'\n",
       "\\item 'spacedomains4bitcoins'\n",
       "\\item 'funnicenic'\n",
       "\\item 'techglobal domains'\n",
       "\\item 'technicenic'\n",
       "\\item 'pressfbs'\n",
       "\\item 'funglobal domains'\n",
       "\\item 'funfbs'\n",
       "\\item 'storexiamen chinasource'\n",
       "\\item 'site1\\&1 internet'\n",
       "\\item 'spacewebsupport.sk'\n",
       "\\item 'websitedomainesia'\n",
       "\\item 'onlinesmartweb'\n",
       "\\item 'storebizcn'\n",
       "\\item 'onlinezhengzhou century connect'\n",
       "\\item 'technics telekom'\n",
       "\\item 'techp.a viet nam'\n",
       "\\item 'storeinterneto vizija'\n",
       "\\item 'websitebeon intermedia'\n",
       "\\item 'spacezhengzhou century connect'\n",
       "\\item 'storeglobal domains'\n",
       "\\item 'siteipage enom'\n",
       "\\item 'techrumahweb'\n",
       "\\item 'funnethouse'\n",
       "\\item 'pressname.com'\n",
       "\\item 'websitezhengzhou century connect'\n",
       "\\item 'sitewebsupport.sk'\n",
       "\\item 'spaceepik llc'\n",
       "\\item 'spaceshanghai meicheng'\n",
       "\\item 'websiterumahweb'\n",
       "\\item 'funepik llc'\n",
       "\\item 'websiteepik llc'\n",
       "\\item 'funhosting ukraine'\n",
       "\\item 'websitepdr china'\n",
       "\\item 'funbeon intermedia'\n",
       "\\item 'pressglobal domains'\n",
       "\\item 'websitewest263 international'\n",
       "\\item 'onlinexiamen nawang'\n",
       "\\item 'pressgandi sas'\n",
       "\\item 'storebaidu'\n",
       "\\item 'techwild west'\n",
       "\\item 'space10dencehispahard'\n",
       "\\item 'websitetld registrar solns'\n",
       "\\item 'sitep.a viet nam'\n",
       "\\item 'storeligne web services'\n",
       "\\item 'storetimeweb'\n",
       "\\item 'websitemat bao'\n",
       "\\item 'websitenethouse'\n",
       "\\item 'websiterebrandly'\n",
       "\\item 'space123hjemmeside'\n",
       "\\item 'spacebizcn'\n",
       "\\item 'hostnetwork solutions'\n",
       "\\item 'hostfbs'\n",
       "\\item 'storeipage domain.com'\n",
       "\\item 'techbaidu'\n",
       "\\item 'fundotserve inc'\n",
       "\\item 'hostbaidu'\n",
       "\\item 'sitebaidu'\n",
       "\\item 'websitecsc corporate'\n",
       "\\item 'funchengdu fly'\n",
       "\\item 'pwifastnet'\n",
       "\\item 'sitexiamen 35.com'\n",
       "\\item 'websitebizcn'\n",
       "\\item 'websiteshopify'\n",
       "\\item 'funshanghai best oray'\n",
       "\\item 'onlineregway'\n",
       "\\item 'siteguzel hosting'\n",
       "\\item 'websiteweb4africa'\n",
       "\\item 'websitewild west'\n",
       "\\item 'hostliquidnet'\n",
       "\\item 'sitedomain discount'\n",
       "\\item 'spacenominalia'\n",
       "\\item 'spaceversio'\n",
       "\\item 'websiteregistrator domenov '\n",
       "\\item 'pressalibaba'\n",
       "\\item 'presswhois'\n",
       "\\item 'storeamen fr'\n",
       "\\item 'storewhogohost'\n",
       "\\item 'pressshanghai best oray'\n",
       "\\item 'storeaz.pl'\n",
       "\\item 'technhan hoa software'\n",
       "\\item 'onlineexabytes'\n",
       "\\item 'onlineiwantmyname'\n",
       "\\item 'onlinevimexx ks'\n",
       "\\item 'sitedominios.pt'\n",
       "\\item 'websiteshanghai meicheng'\n",
       "\\item 'hostregistrator domenov '\n",
       "\\item 'hostshanghai meicheng'\n",
       "\\item 'onlinea small orange'\n",
       "\\item 'sitediamatrix'\n",
       "\\item 'spaceifastnet'\n",
       "\\item 'websiteyahoo'\n",
       "\\item 'funhostgator brazil'\n",
       "\\item 'onlineqhoster'\n",
       "\\item 'siteejee group'\n",
       "\\item 'siteweb4africa'\n",
       "\\item 'storedotname korea'\n",
       "\\item 'storeliquidnet'\n",
       "\\item 'websiteicn'\n",
       "\\item 'hostregway'\n",
       "\\item 'siteactive 24'\n",
       "\\item 'funrumahweb'\n",
       "\\item 'hostgoogle'\n",
       "\\item 'press1\\&1 internet'\n",
       "\\item 'pwonlinenic'\n",
       "\\item 'spacedotname korea'\n",
       "\\item 'storeregistrator domenov '\n",
       "\\item 'websiteredehost'\n",
       "\\item 'funbaidu'\n",
       "\\item 'hostxin net'\n",
       "\\item 'in.nethostgator'\n",
       "\\item 'onlineguzel hosting'\n",
       "\\item 'onlinenetowl'\n",
       "\\item 'onlinethe registrar company b.v.'\n",
       "\\item 'pressliquidnet'\n",
       "\\item 'pwnicenic'\n",
       "\\item 'spacebeon intermedia'\n",
       "\\item 'spacewhogohost'\n",
       "\\item 'storecafe24'\n",
       "\\item 'storeweb4africa'\n",
       "\\item 'websiteligne web services'\n",
       "\\item 'funfoshan yidong'\n",
       "\\item 'funmat bao'\n",
       "\\item 'in.nettld registrar solns'\n",
       "\\item 'onlinechengdu fly'\n",
       "\\item 'storeproisp'\n",
       "\\item 'storexiamen nawang'\n",
       "\\item 'websitedomaindiscover.com'\n",
       "\\item 'websitenameshield'\n",
       "\\item 'in.netnettigritty'\n",
       "\\item 'onlinednsimple'\n",
       "\\item 'pressshanghai meicheng'\n",
       "\\item 'spacecafe24'\n",
       "\\item 'spacemarkmonitor'\n",
       "\\item 'storeafrihost'\n",
       "\\item 'storeeims'\n",
       "\\item 'techwhois networks'\n",
       "\\item 'funtimeweb'\n",
       "\\item 'host1\\&1 internet'\n",
       "\\item 'hostneubox'\n",
       "\\item 'hostwhois'\n",
       "\\item 'onlineejee group'\n",
       "\\item 'onlineproisp'\n",
       "\\item 'presspdr ltd'\n",
       "\\item 'spacevautron'\n",
       "\\item 'techmelbourne it'\n",
       "\\item 'websiteunited domains'\n",
       "\\item 'funcrazy domains'\n",
       "\\item 'funevoplus ltd'\n",
       "\\item 'funhosting concepts'\n",
       "\\item 'funwild west'\n",
       "\\item 'in.netalpnames'\n",
       "\\item 'in.netporkbun'\n",
       "\\item 'in.netreg.ru'\n",
       "\\item 'onlineeasyspace'\n",
       "\\item 'onlineimpreza'\n",
       "\\item 'onlinesibername'\n",
       "\\item 'onlinexpress'\n",
       "\\item 'pw101 domain'\n",
       "\\item 'sitehostens'\n",
       "\\item 'siteiwantmyname'\n",
       "\\item 'space101 domain'\n",
       "\\item 'storedomaininfo'\n",
       "\\item 'techepik llc'\n",
       "\\item 'websiteeranet'\n",
       "\\item 'websitetransip'\n",
       "\\item 'funcafe24'\n",
       "\\item 'fundomeneshop'\n",
       "\\item 'funforpsi'\n",
       "\\item ⋯\n",
       "\\item 'hostcorehub'\n",
       "\\item 'hostcrazy domains'\n",
       "\\item 'hostdiamatrix'\n",
       "\\item 'hostdomeneshop'\n",
       "\\item 'hostdomeny.pl'\n",
       "\\item 'hosteasyspace'\n",
       "\\item 'hosteims'\n",
       "\\item 'hosthostgator mexico'\n",
       "\\item 'hostjogjacamp'\n",
       "\\item 'hostmelbourne it'\n",
       "\\item 'hostmijn internet'\n",
       "\\item 'hostnetim'\n",
       "\\item 'hostonlinenic'\n",
       "\\item 'hostparagon internet'\n",
       "\\item 'hostpromo people'\n",
       "\\item 'hostregister.it'\n",
       "\\item 'hostshinjiru'\n",
       "\\item 'hostsoluciones corporativas'\n",
       "\\item 'hostsquarespace'\n",
       "\\item 'hosttodaynic'\n",
       "\\item 'hostuniregistrar'\n",
       "\\item 'hostunited domains'\n",
       "\\item 'hostzhengzhou zitian'\n",
       "\\item 'in.netcsc corporate'\n",
       "\\item 'in.netcsl'\n",
       "\\item 'in.netexonhost'\n",
       "\\item 'in.netipage pdr ltd'\n",
       "\\item 'in.netkey-systems'\n",
       "\\item 'onlinebeijing guoxu'\n",
       "\\item 'onlinedandomains'\n",
       "\\item 'onlineeasydns'\n",
       "\\item 'onlinefocus ip'\n",
       "\\item 'onlinefoshan yidong'\n",
       "\\item 'onlineglobal village'\n",
       "\\item 'onlinego france'\n",
       "\\item 'onlinehostnet'\n",
       "\\item 'onlinehostneverdie'\n",
       "\\item 'onlineipage enom'\n",
       "\\item 'onlinenamecamp'\n",
       "\\item 'onlineorigiweb'\n",
       "\\item 'onlineplanet hoster'\n",
       "\\item 'onlinereliable software'\n",
       "\\item 'onlinesecura gmbh'\n",
       "\\item 'onlinetodaynic'\n",
       "\\item 'onlinevariomedia'\n",
       "\\item 'onlinewebhouse'\n",
       "\\item 'onlinewordpress'\n",
       "\\item 'pressa small orange'\n",
       "\\item 'pressbigrock'\n",
       "\\item 'pressdomeneshop'\n",
       "\\item 'presseasydns'\n",
       "\\item 'presseuro dns'\n",
       "\\item 'presshosting ukraine'\n",
       "\\item 'pressinternetx'\n",
       "\\item 'pressiwantmyname'\n",
       "\\item 'pressmuumuu'\n",
       "\\item 'pressnameshield'\n",
       "\\item 'pressniaga hoster'\n",
       "\\item 'pressnicenic'\n",
       "\\item 'pressomnis network'\n",
       "\\item 'pressregister.it'\n",
       "\\item 'presssafenames ltd'\n",
       "\\item 'pressshopify'\n",
       "\\item 'pressunoeuro'\n",
       "\\item 'pressuol'\n",
       "\\item 'presswebsupport.sk'\n",
       "\\item 'pwanygaming'\n",
       "\\item 'pwbeon intermedia'\n",
       "\\item 'pwbigrock'\n",
       "\\item 'pwbluehost'\n",
       "\\item 'pwdiamatrix'\n",
       "\\item 'pwdomain context'\n",
       "\\item 'pwelectron networks'\n",
       "\\item 'pweuro dns'\n",
       "\\item 'pwfbs'\n",
       "\\item 'pwguzel hosting'\n",
       "\\item 'pwinternetworx ltd'\n",
       "\\item 'pwinternetx'\n",
       "\\item 'pwmarcaria.com'\n",
       "\\item 'pwonline sas'\n",
       "\\item 'pwplanet hoster'\n",
       "\\item 'pwregister.com'\n",
       "\\item 'pwshinjiru'\n",
       "\\item 'pwwhogohost'\n",
       "\\item 'pwwhois networks'\n",
       "\\item 'siteblacknight'\n",
       "\\item 'sitecheck domain'\n",
       "\\item 'sitedinahosting'\n",
       "\\item 'sitedomaindiscover.com'\n",
       "\\item 'siteeu technology'\n",
       "\\item 'siteevoplus ltd'\n",
       "\\item 'siteexabytes'\n",
       "\\item 'sitegransy'\n",
       "\\item 'sitehosteur'\n",
       "\\item 'siteimpreza'\n",
       "\\item 'sitejiangsu bangning'\n",
       "\\item 'sitelcn'\n",
       "\\item 'sitemarcaria.com'\n",
       "\\item 'sitemarkum'\n",
       "\\item 'sitenettigritty'\n",
       "\\item 'siteomnis network'\n",
       "\\item 'siteorigiweb'\n",
       "\\item 'siteownregistrar'\n",
       "\\item 'siteplanet hoster'\n",
       "\\item 'sitesea wasp'\n",
       "\\item 'sitesibername'\n",
       "\\item 'sitesuper registry'\n",
       "\\item 'sitetecnocratica centro'\n",
       "\\item 'sitethe registrar company b.v.'\n",
       "\\item 'siteventraip'\n",
       "\\item 'sitevimexx trc'\n",
       "\\item 'sitewhois networks'\n",
       "\\item 'spacebb online'\n",
       "\\item 'spacebeijing guoxu'\n",
       "\\item 'spaceblacknight'\n",
       "\\item 'spaceconstant contact'\n",
       "\\item 'spacedandomains'\n",
       "\\item 'spacedomain the net'\n",
       "\\item 'spacedomainmonger'\n",
       "\\item 'spaceeims'\n",
       "\\item 'spaceejee group'\n",
       "\\item 'spaceeukhost'\n",
       "\\item 'spaceinternet gmbh'\n",
       "\\item 'spaceipage pdr ltd'\n",
       "\\item 'spacejogjacamp'\n",
       "\\item 'spacenameshield'\n",
       "\\item 'spaceneostrada'\n",
       "\\item 'spacenetearth one'\n",
       "\\item 'spacenicenic'\n",
       "\\item 'spacereg2c'\n",
       "\\item 'spacesoluciones corporativas'\n",
       "\\item 'spacevimexx trc'\n",
       "\\item 'spacewhois networks'\n",
       "\\item 'spacexpress'\n",
       "\\item 'spaceznet'\n",
       "\\item 'storea small orange'\n",
       "\\item 'storealpnames'\n",
       "\\item 'storecompra'\n",
       "\\item 'storeentorno digital'\n",
       "\\item 'storeeranet'\n",
       "\\item 'storeetsy'\n",
       "\\item 'storeflexwebhosting'\n",
       "\\item 'storeidwebhost'\n",
       "\\item 'storeimpreza'\n",
       "\\item 'storeipage enom'\n",
       "\\item 'storejogjacamp'\n",
       "\\item 'storekinghost'\n",
       "\\item 'storenetclues'\n",
       "\\item 'storenetearth one'\n",
       "\\item 'storeopentld b.v.'\n",
       "\\item 'storeownregistrar'\n",
       "\\item 'storequalispace'\n",
       "\\item 'storeshanghai best oray'\n",
       "\\item 'storetecnocratica centro'\n",
       "\\item 'storeventraip'\n",
       "\\item 'storevimexx ks'\n",
       "\\item 'storewebonic'\n",
       "\\item 'storewhois networks'\n",
       "\\item 'storezhengzhou century connect'\n",
       "\\item 'techblacknight'\n",
       "\\item 'techcafe24'\n",
       "\\item 'techcheck domain'\n",
       "\\item 'techgo canada'\n",
       "\\item 'techinternet gmbh'\n",
       "\\item 'techjiangsu bangning'\n",
       "\\item 'techkinghost'\n",
       "\\item 'techlcn'\n",
       "\\item 'techmijn internet'\n",
       "\\item 'techopentld b.v.'\n",
       "\\item 'techownregistrar'\n",
       "\\item 'techqhoster'\n",
       "\\item 'techsibername'\n",
       "\\item 'techvariomedia'\n",
       "\\item 'website10dencehispahard'\n",
       "\\item 'website1blu'\n",
       "\\item 'websitealastry'\n",
       "\\item 'websiteamen fr'\n",
       "\\item 'websiteblacknight'\n",
       "\\item 'websitecom laude'\n",
       "\\item 'websitednc holdings'\n",
       "\\item 'websitedomain the net'\n",
       "\\item 'websitedomainfactory'\n",
       "\\item 'websitedreamhost'\n",
       "\\item 'websitegransy'\n",
       "\\item 'websiteguzel hosting'\n",
       "\\item 'websiteidwebhost'\n",
       "\\item 'websiteinternetworx ltd'\n",
       "\\item 'websitemijn internet'\n",
       "\\item 'websitenameweb'\n",
       "\\item 'websiteneostrada'\n",
       "\\item 'websitenicenic'\n",
       "\\item 'websitenominalia'\n",
       "\\item 'websiteopentld b.v.'\n",
       "\\item 'websiteownregistrar'\n",
       "\\item 'websiteregister.com'\n",
       "\\item 'websiteregtime ltd'\n",
       "\\item 'websitesibername'\n",
       "\\item 'websitethe registrar company b.v.'\n",
       "\\item 'websitevautron'\n",
       "\\item 'websitezhengzhou zitian'\n",
       "\\end{enumerate*}\n"
      ],
      "text/markdown": [
       "1. 'funzhengzhou century connect'\n",
       "2. 'sitepdr china'\n",
       "3. 'onlinepdr china'\n",
       "4. 'spaceeranet'\n",
       "5. 'funmoniker'\n",
       "6. 'siteeranet'\n",
       "7. 'siteidwebhost'\n",
       "8. 'spaceglobal domains'\n",
       "9. 'sitedomains4bitcoins'\n",
       "10. 'hostglobal domains'\n",
       "11. 'websitebeget'\n",
       "12. 'siteshanghai meicheng'\n",
       "13. 'sitenethouse'\n",
       "14. 'spaceniaga hoster'\n",
       "15. 'hostdomains4bitcoins'\n",
       "16. 'storebeon intermedia'\n",
       "17. 'websitedomains4bitcoins'\n",
       "18. 'sitecafe24'\n",
       "19. 'presszhengzhou zitian'\n",
       "20. 'onlinenicenic'\n",
       "21. 'storenhan hoa software'\n",
       "22. 'websiteshanghai best oray'\n",
       "23. 'fundomains4bitcoins'\n",
       "24. 'sitenicenic'\n",
       "25. 'websitexin net'\n",
       "26. 'onlineeranet'\n",
       "27. 'hostgmo'\n",
       "28. 'techdomains4bitcoins'\n",
       "29. 'techspaceweb'\n",
       "30. 'storedomains4bitcoins'\n",
       "31. 'store22net inc'\n",
       "32. 'storenicenic'\n",
       "33. 'spacedomains4bitcoins'\n",
       "34. 'funnicenic'\n",
       "35. 'techglobal domains'\n",
       "36. 'technicenic'\n",
       "37. 'pressfbs'\n",
       "38. 'funglobal domains'\n",
       "39. 'funfbs'\n",
       "40. 'storexiamen chinasource'\n",
       "41. 'site1&amp;1 internet'\n",
       "42. 'spacewebsupport.sk'\n",
       "43. 'websitedomainesia'\n",
       "44. 'onlinesmartweb'\n",
       "45. 'storebizcn'\n",
       "46. 'onlinezhengzhou century connect'\n",
       "47. 'technics telekom'\n",
       "48. 'techp.a viet nam'\n",
       "49. 'storeinterneto vizija'\n",
       "50. 'websitebeon intermedia'\n",
       "51. 'spacezhengzhou century connect'\n",
       "52. 'storeglobal domains'\n",
       "53. 'siteipage enom'\n",
       "54. 'techrumahweb'\n",
       "55. 'funnethouse'\n",
       "56. 'pressname.com'\n",
       "57. 'websitezhengzhou century connect'\n",
       "58. 'sitewebsupport.sk'\n",
       "59. 'spaceepik llc'\n",
       "60. 'spaceshanghai meicheng'\n",
       "61. 'websiterumahweb'\n",
       "62. 'funepik llc'\n",
       "63. 'websiteepik llc'\n",
       "64. 'funhosting ukraine'\n",
       "65. 'websitepdr china'\n",
       "66. 'funbeon intermedia'\n",
       "67. 'pressglobal domains'\n",
       "68. 'websitewest263 international'\n",
       "69. 'onlinexiamen nawang'\n",
       "70. 'pressgandi sas'\n",
       "71. 'storebaidu'\n",
       "72. 'techwild west'\n",
       "73. 'space10dencehispahard'\n",
       "74. 'websitetld registrar solns'\n",
       "75. 'sitep.a viet nam'\n",
       "76. 'storeligne web services'\n",
       "77. 'storetimeweb'\n",
       "78. 'websitemat bao'\n",
       "79. 'websitenethouse'\n",
       "80. 'websiterebrandly'\n",
       "81. 'space123hjemmeside'\n",
       "82. 'spacebizcn'\n",
       "83. 'hostnetwork solutions'\n",
       "84. 'hostfbs'\n",
       "85. 'storeipage domain.com'\n",
       "86. 'techbaidu'\n",
       "87. 'fundotserve inc'\n",
       "88. 'hostbaidu'\n",
       "89. 'sitebaidu'\n",
       "90. 'websitecsc corporate'\n",
       "91. 'funchengdu fly'\n",
       "92. 'pwifastnet'\n",
       "93. 'sitexiamen 35.com'\n",
       "94. 'websitebizcn'\n",
       "95. 'websiteshopify'\n",
       "96. 'funshanghai best oray'\n",
       "97. 'onlineregway'\n",
       "98. 'siteguzel hosting'\n",
       "99. 'websiteweb4africa'\n",
       "100. 'websitewild west'\n",
       "101. 'hostliquidnet'\n",
       "102. 'sitedomain discount'\n",
       "103. 'spacenominalia'\n",
       "104. 'spaceversio'\n",
       "105. 'websiteregistrator domenov '\n",
       "106. 'pressalibaba'\n",
       "107. 'presswhois'\n",
       "108. 'storeamen fr'\n",
       "109. 'storewhogohost'\n",
       "110. 'pressshanghai best oray'\n",
       "111. 'storeaz.pl'\n",
       "112. 'technhan hoa software'\n",
       "113. 'onlineexabytes'\n",
       "114. 'onlineiwantmyname'\n",
       "115. 'onlinevimexx ks'\n",
       "116. 'sitedominios.pt'\n",
       "117. 'websiteshanghai meicheng'\n",
       "118. 'hostregistrator domenov '\n",
       "119. 'hostshanghai meicheng'\n",
       "120. 'onlinea small orange'\n",
       "121. 'sitediamatrix'\n",
       "122. 'spaceifastnet'\n",
       "123. 'websiteyahoo'\n",
       "124. 'funhostgator brazil'\n",
       "125. 'onlineqhoster'\n",
       "126. 'siteejee group'\n",
       "127. 'siteweb4africa'\n",
       "128. 'storedotname korea'\n",
       "129. 'storeliquidnet'\n",
       "130. 'websiteicn'\n",
       "131. 'hostregway'\n",
       "132. 'siteactive 24'\n",
       "133. 'funrumahweb'\n",
       "134. 'hostgoogle'\n",
       "135. 'press1&amp;1 internet'\n",
       "136. 'pwonlinenic'\n",
       "137. 'spacedotname korea'\n",
       "138. 'storeregistrator domenov '\n",
       "139. 'websiteredehost'\n",
       "140. 'funbaidu'\n",
       "141. 'hostxin net'\n",
       "142. 'in.nethostgator'\n",
       "143. 'onlineguzel hosting'\n",
       "144. 'onlinenetowl'\n",
       "145. 'onlinethe registrar company b.v.'\n",
       "146. 'pressliquidnet'\n",
       "147. 'pwnicenic'\n",
       "148. 'spacebeon intermedia'\n",
       "149. 'spacewhogohost'\n",
       "150. 'storecafe24'\n",
       "151. 'storeweb4africa'\n",
       "152. 'websiteligne web services'\n",
       "153. 'funfoshan yidong'\n",
       "154. 'funmat bao'\n",
       "155. 'in.nettld registrar solns'\n",
       "156. 'onlinechengdu fly'\n",
       "157. 'storeproisp'\n",
       "158. 'storexiamen nawang'\n",
       "159. 'websitedomaindiscover.com'\n",
       "160. 'websitenameshield'\n",
       "161. 'in.netnettigritty'\n",
       "162. 'onlinednsimple'\n",
       "163. 'pressshanghai meicheng'\n",
       "164. 'spacecafe24'\n",
       "165. 'spacemarkmonitor'\n",
       "166. 'storeafrihost'\n",
       "167. 'storeeims'\n",
       "168. 'techwhois networks'\n",
       "169. 'funtimeweb'\n",
       "170. 'host1&amp;1 internet'\n",
       "171. 'hostneubox'\n",
       "172. 'hostwhois'\n",
       "173. 'onlineejee group'\n",
       "174. 'onlineproisp'\n",
       "175. 'presspdr ltd'\n",
       "176. 'spacevautron'\n",
       "177. 'techmelbourne it'\n",
       "178. 'websiteunited domains'\n",
       "179. 'funcrazy domains'\n",
       "180. 'funevoplus ltd'\n",
       "181. 'funhosting concepts'\n",
       "182. 'funwild west'\n",
       "183. 'in.netalpnames'\n",
       "184. 'in.netporkbun'\n",
       "185. 'in.netreg.ru'\n",
       "186. 'onlineeasyspace'\n",
       "187. 'onlineimpreza'\n",
       "188. 'onlinesibername'\n",
       "189. 'onlinexpress'\n",
       "190. 'pw101 domain'\n",
       "191. 'sitehostens'\n",
       "192. 'siteiwantmyname'\n",
       "193. 'space101 domain'\n",
       "194. 'storedomaininfo'\n",
       "195. 'techepik llc'\n",
       "196. 'websiteeranet'\n",
       "197. 'websitetransip'\n",
       "198. 'funcafe24'\n",
       "199. 'fundomeneshop'\n",
       "200. 'funforpsi'\n",
       "201. ⋯\n",
       "202. 'hostcorehub'\n",
       "203. 'hostcrazy domains'\n",
       "204. 'hostdiamatrix'\n",
       "205. 'hostdomeneshop'\n",
       "206. 'hostdomeny.pl'\n",
       "207. 'hosteasyspace'\n",
       "208. 'hosteims'\n",
       "209. 'hosthostgator mexico'\n",
       "210. 'hostjogjacamp'\n",
       "211. 'hostmelbourne it'\n",
       "212. 'hostmijn internet'\n",
       "213. 'hostnetim'\n",
       "214. 'hostonlinenic'\n",
       "215. 'hostparagon internet'\n",
       "216. 'hostpromo people'\n",
       "217. 'hostregister.it'\n",
       "218. 'hostshinjiru'\n",
       "219. 'hostsoluciones corporativas'\n",
       "220. 'hostsquarespace'\n",
       "221. 'hosttodaynic'\n",
       "222. 'hostuniregistrar'\n",
       "223. 'hostunited domains'\n",
       "224. 'hostzhengzhou zitian'\n",
       "225. 'in.netcsc corporate'\n",
       "226. 'in.netcsl'\n",
       "227. 'in.netexonhost'\n",
       "228. 'in.netipage pdr ltd'\n",
       "229. 'in.netkey-systems'\n",
       "230. 'onlinebeijing guoxu'\n",
       "231. 'onlinedandomains'\n",
       "232. 'onlineeasydns'\n",
       "233. 'onlinefocus ip'\n",
       "234. 'onlinefoshan yidong'\n",
       "235. 'onlineglobal village'\n",
       "236. 'onlinego france'\n",
       "237. 'onlinehostnet'\n",
       "238. 'onlinehostneverdie'\n",
       "239. 'onlineipage enom'\n",
       "240. 'onlinenamecamp'\n",
       "241. 'onlineorigiweb'\n",
       "242. 'onlineplanet hoster'\n",
       "243. 'onlinereliable software'\n",
       "244. 'onlinesecura gmbh'\n",
       "245. 'onlinetodaynic'\n",
       "246. 'onlinevariomedia'\n",
       "247. 'onlinewebhouse'\n",
       "248. 'onlinewordpress'\n",
       "249. 'pressa small orange'\n",
       "250. 'pressbigrock'\n",
       "251. 'pressdomeneshop'\n",
       "252. 'presseasydns'\n",
       "253. 'presseuro dns'\n",
       "254. 'presshosting ukraine'\n",
       "255. 'pressinternetx'\n",
       "256. 'pressiwantmyname'\n",
       "257. 'pressmuumuu'\n",
       "258. 'pressnameshield'\n",
       "259. 'pressniaga hoster'\n",
       "260. 'pressnicenic'\n",
       "261. 'pressomnis network'\n",
       "262. 'pressregister.it'\n",
       "263. 'presssafenames ltd'\n",
       "264. 'pressshopify'\n",
       "265. 'pressunoeuro'\n",
       "266. 'pressuol'\n",
       "267. 'presswebsupport.sk'\n",
       "268. 'pwanygaming'\n",
       "269. 'pwbeon intermedia'\n",
       "270. 'pwbigrock'\n",
       "271. 'pwbluehost'\n",
       "272. 'pwdiamatrix'\n",
       "273. 'pwdomain context'\n",
       "274. 'pwelectron networks'\n",
       "275. 'pweuro dns'\n",
       "276. 'pwfbs'\n",
       "277. 'pwguzel hosting'\n",
       "278. 'pwinternetworx ltd'\n",
       "279. 'pwinternetx'\n",
       "280. 'pwmarcaria.com'\n",
       "281. 'pwonline sas'\n",
       "282. 'pwplanet hoster'\n",
       "283. 'pwregister.com'\n",
       "284. 'pwshinjiru'\n",
       "285. 'pwwhogohost'\n",
       "286. 'pwwhois networks'\n",
       "287. 'siteblacknight'\n",
       "288. 'sitecheck domain'\n",
       "289. 'sitedinahosting'\n",
       "290. 'sitedomaindiscover.com'\n",
       "291. 'siteeu technology'\n",
       "292. 'siteevoplus ltd'\n",
       "293. 'siteexabytes'\n",
       "294. 'sitegransy'\n",
       "295. 'sitehosteur'\n",
       "296. 'siteimpreza'\n",
       "297. 'sitejiangsu bangning'\n",
       "298. 'sitelcn'\n",
       "299. 'sitemarcaria.com'\n",
       "300. 'sitemarkum'\n",
       "301. 'sitenettigritty'\n",
       "302. 'siteomnis network'\n",
       "303. 'siteorigiweb'\n",
       "304. 'siteownregistrar'\n",
       "305. 'siteplanet hoster'\n",
       "306. 'sitesea wasp'\n",
       "307. 'sitesibername'\n",
       "308. 'sitesuper registry'\n",
       "309. 'sitetecnocratica centro'\n",
       "310. 'sitethe registrar company b.v.'\n",
       "311. 'siteventraip'\n",
       "312. 'sitevimexx trc'\n",
       "313. 'sitewhois networks'\n",
       "314. 'spacebb online'\n",
       "315. 'spacebeijing guoxu'\n",
       "316. 'spaceblacknight'\n",
       "317. 'spaceconstant contact'\n",
       "318. 'spacedandomains'\n",
       "319. 'spacedomain the net'\n",
       "320. 'spacedomainmonger'\n",
       "321. 'spaceeims'\n",
       "322. 'spaceejee group'\n",
       "323. 'spaceeukhost'\n",
       "324. 'spaceinternet gmbh'\n",
       "325. 'spaceipage pdr ltd'\n",
       "326. 'spacejogjacamp'\n",
       "327. 'spacenameshield'\n",
       "328. 'spaceneostrada'\n",
       "329. 'spacenetearth one'\n",
       "330. 'spacenicenic'\n",
       "331. 'spacereg2c'\n",
       "332. 'spacesoluciones corporativas'\n",
       "333. 'spacevimexx trc'\n",
       "334. 'spacewhois networks'\n",
       "335. 'spacexpress'\n",
       "336. 'spaceznet'\n",
       "337. 'storea small orange'\n",
       "338. 'storealpnames'\n",
       "339. 'storecompra'\n",
       "340. 'storeentorno digital'\n",
       "341. 'storeeranet'\n",
       "342. 'storeetsy'\n",
       "343. 'storeflexwebhosting'\n",
       "344. 'storeidwebhost'\n",
       "345. 'storeimpreza'\n",
       "346. 'storeipage enom'\n",
       "347. 'storejogjacamp'\n",
       "348. 'storekinghost'\n",
       "349. 'storenetclues'\n",
       "350. 'storenetearth one'\n",
       "351. 'storeopentld b.v.'\n",
       "352. 'storeownregistrar'\n",
       "353. 'storequalispace'\n",
       "354. 'storeshanghai best oray'\n",
       "355. 'storetecnocratica centro'\n",
       "356. 'storeventraip'\n",
       "357. 'storevimexx ks'\n",
       "358. 'storewebonic'\n",
       "359. 'storewhois networks'\n",
       "360. 'storezhengzhou century connect'\n",
       "361. 'techblacknight'\n",
       "362. 'techcafe24'\n",
       "363. 'techcheck domain'\n",
       "364. 'techgo canada'\n",
       "365. 'techinternet gmbh'\n",
       "366. 'techjiangsu bangning'\n",
       "367. 'techkinghost'\n",
       "368. 'techlcn'\n",
       "369. 'techmijn internet'\n",
       "370. 'techopentld b.v.'\n",
       "371. 'techownregistrar'\n",
       "372. 'techqhoster'\n",
       "373. 'techsibername'\n",
       "374. 'techvariomedia'\n",
       "375. 'website10dencehispahard'\n",
       "376. 'website1blu'\n",
       "377. 'websitealastry'\n",
       "378. 'websiteamen fr'\n",
       "379. 'websiteblacknight'\n",
       "380. 'websitecom laude'\n",
       "381. 'websitednc holdings'\n",
       "382. 'websitedomain the net'\n",
       "383. 'websitedomainfactory'\n",
       "384. 'websitedreamhost'\n",
       "385. 'websitegransy'\n",
       "386. 'websiteguzel hosting'\n",
       "387. 'websiteidwebhost'\n",
       "388. 'websiteinternetworx ltd'\n",
       "389. 'websitemijn internet'\n",
       "390. 'websitenameweb'\n",
       "391. 'websiteneostrada'\n",
       "392. 'websitenicenic'\n",
       "393. 'websitenominalia'\n",
       "394. 'websiteopentld b.v.'\n",
       "395. 'websiteownregistrar'\n",
       "396. 'websiteregister.com'\n",
       "397. 'websiteregtime ltd'\n",
       "398. 'websitesibername'\n",
       "399. 'websitethe registrar company b.v.'\n",
       "400. 'websitevautron'\n",
       "401. 'websitezhengzhou zitian'\n",
       "\n",
       "\n"
      ],
      "text/plain": [
       "  [1] \"funzhengzhou century connect\"      \"sitepdr china\"                    \n",
       "  [3] \"onlinepdr china\"                   \"spaceeranet\"                      \n",
       "  [5] \"funmoniker\"                        \"siteeranet\"                       \n",
       "  [7] \"siteidwebhost\"                     \"spaceglobal domains\"              \n",
       "  [9] \"sitedomains4bitcoins\"              \"hostglobal domains\"               \n",
       " [11] \"websitebeget\"                      \"siteshanghai meicheng\"            \n",
       " [13] \"sitenethouse\"                      \"spaceniaga hoster\"                \n",
       " [15] \"hostdomains4bitcoins\"              \"storebeon intermedia\"             \n",
       " [17] \"websitedomains4bitcoins\"           \"sitecafe24\"                       \n",
       " [19] \"presszhengzhou zitian\"             \"onlinenicenic\"                    \n",
       " [21] \"storenhan hoa software\"            \"websiteshanghai best oray\"        \n",
       " [23] \"fundomains4bitcoins\"               \"sitenicenic\"                      \n",
       " [25] \"websitexin net\"                    \"onlineeranet\"                     \n",
       " [27] \"hostgmo\"                           \"techdomains4bitcoins\"             \n",
       " [29] \"techspaceweb\"                      \"storedomains4bitcoins\"            \n",
       " [31] \"store22net inc\"                    \"storenicenic\"                     \n",
       " [33] \"spacedomains4bitcoins\"             \"funnicenic\"                       \n",
       " [35] \"techglobal domains\"                \"technicenic\"                      \n",
       " [37] \"pressfbs\"                          \"funglobal domains\"                \n",
       " [39] \"funfbs\"                            \"storexiamen chinasource\"          \n",
       " [41] \"site1&1 internet\"                  \"spacewebsupport.sk\"               \n",
       " [43] \"websitedomainesia\"                 \"onlinesmartweb\"                   \n",
       " [45] \"storebizcn\"                        \"onlinezhengzhou century connect\"  \n",
       " [47] \"technics telekom\"                  \"techp.a viet nam\"                 \n",
       " [49] \"storeinterneto vizija\"             \"websitebeon intermedia\"           \n",
       " [51] \"spacezhengzhou century connect\"    \"storeglobal domains\"              \n",
       " [53] \"siteipage enom\"                    \"techrumahweb\"                     \n",
       " [55] \"funnethouse\"                       \"pressname.com\"                    \n",
       " [57] \"websitezhengzhou century connect\"  \"sitewebsupport.sk\"                \n",
       " [59] \"spaceepik llc\"                     \"spaceshanghai meicheng\"           \n",
       " [61] \"websiterumahweb\"                   \"funepik llc\"                      \n",
       " [63] \"websiteepik llc\"                   \"funhosting ukraine\"               \n",
       " [65] \"websitepdr china\"                  \"funbeon intermedia\"               \n",
       " [67] \"pressglobal domains\"               \"websitewest263 international\"     \n",
       " [69] \"onlinexiamen nawang\"               \"pressgandi sas\"                   \n",
       " [71] \"storebaidu\"                        \"techwild west\"                    \n",
       " [73] \"space10dencehispahard\"             \"websitetld registrar solns\"       \n",
       " [75] \"sitep.a viet nam\"                  \"storeligne web services\"          \n",
       " [77] \"storetimeweb\"                      \"websitemat bao\"                   \n",
       " [79] \"websitenethouse\"                   \"websiterebrandly\"                 \n",
       " [81] \"space123hjemmeside\"                \"spacebizcn\"                       \n",
       " [83] \"hostnetwork solutions\"             \"hostfbs\"                          \n",
       " [85] \"storeipage domain.com\"             \"techbaidu\"                        \n",
       " [87] \"fundotserve inc\"                   \"hostbaidu\"                        \n",
       " [89] \"sitebaidu\"                         \"websitecsc corporate\"             \n",
       " [91] \"funchengdu fly\"                    \"pwifastnet\"                       \n",
       " [93] \"sitexiamen 35.com\"                 \"websitebizcn\"                     \n",
       " [95] \"websiteshopify\"                    \"funshanghai best oray\"            \n",
       " [97] \"onlineregway\"                      \"siteguzel hosting\"                \n",
       " [99] \"websiteweb4africa\"                 \"websitewild west\"                 \n",
       "[101] \"hostliquidnet\"                     \"sitedomain discount\"              \n",
       "[103] \"spacenominalia\"                    \"spaceversio\"                      \n",
       "[105] \"websiteregistrator domenov \"       \"pressalibaba\"                     \n",
       "[107] \"presswhois\"                        \"storeamen fr\"                     \n",
       "[109] \"storewhogohost\"                    \"pressshanghai best oray\"          \n",
       "[111] \"storeaz.pl\"                        \"technhan hoa software\"            \n",
       "[113] \"onlineexabytes\"                    \"onlineiwantmyname\"                \n",
       "[115] \"onlinevimexx ks\"                   \"sitedominios.pt\"                  \n",
       "[117] \"websiteshanghai meicheng\"          \"hostregistrator domenov \"         \n",
       "[119] \"hostshanghai meicheng\"             \"onlinea small orange\"             \n",
       "[121] \"sitediamatrix\"                     \"spaceifastnet\"                    \n",
       "[123] \"websiteyahoo\"                      \"funhostgator brazil\"              \n",
       "[125] \"onlineqhoster\"                     \"siteejee group\"                   \n",
       "[127] \"siteweb4africa\"                    \"storedotname korea\"               \n",
       "[129] \"storeliquidnet\"                    \"websiteicn\"                       \n",
       "[131] \"hostregway\"                        \"siteactive 24\"                    \n",
       "[133] \"funrumahweb\"                       \"hostgoogle\"                       \n",
       "[135] \"press1&1 internet\"                 \"pwonlinenic\"                      \n",
       "[137] \"spacedotname korea\"                \"storeregistrator domenov \"        \n",
       "[139] \"websiteredehost\"                   \"funbaidu\"                         \n",
       "[141] \"hostxin net\"                       \"in.nethostgator\"                  \n",
       "[143] \"onlineguzel hosting\"               \"onlinenetowl\"                     \n",
       "[145] \"onlinethe registrar company b.v.\"  \"pressliquidnet\"                   \n",
       "[147] \"pwnicenic\"                         \"spacebeon intermedia\"             \n",
       "[149] \"spacewhogohost\"                    \"storecafe24\"                      \n",
       "[151] \"storeweb4africa\"                   \"websiteligne web services\"        \n",
       "[153] \"funfoshan yidong\"                  \"funmat bao\"                       \n",
       "[155] \"in.nettld registrar solns\"         \"onlinechengdu fly\"                \n",
       "[157] \"storeproisp\"                       \"storexiamen nawang\"               \n",
       "[159] \"websitedomaindiscover.com\"         \"websitenameshield\"                \n",
       "[161] \"in.netnettigritty\"                 \"onlinednsimple\"                   \n",
       "[163] \"pressshanghai meicheng\"            \"spacecafe24\"                      \n",
       "[165] \"spacemarkmonitor\"                  \"storeafrihost\"                    \n",
       "[167] \"storeeims\"                         \"techwhois networks\"               \n",
       "[169] \"funtimeweb\"                        \"host1&1 internet\"                 \n",
       "[171] \"hostneubox\"                        \"hostwhois\"                        \n",
       "[173] \"onlineejee group\"                  \"onlineproisp\"                     \n",
       "[175] \"presspdr ltd\"                      \"spacevautron\"                     \n",
       "[177] \"techmelbourne it\"                  \"websiteunited domains\"            \n",
       "[179] \"funcrazy domains\"                  \"funevoplus ltd\"                   \n",
       "[181] \"funhosting concepts\"               \"funwild west\"                     \n",
       "[183] \"in.netalpnames\"                    \"in.netporkbun\"                    \n",
       "[185] \"in.netreg.ru\"                      \"onlineeasyspace\"                  \n",
       "[187] \"onlineimpreza\"                     \"onlinesibername\"                  \n",
       "[189] \"onlinexpress\"                      \"pw101 domain\"                     \n",
       "[191] \"sitehostens\"                       \"siteiwantmyname\"                  \n",
       "[193] \"space101 domain\"                   \"storedomaininfo\"                  \n",
       "[195] \"techepik llc\"                      \"websiteeranet\"                    \n",
       "[197] \"websitetransip\"                    \"funcafe24\"                        \n",
       "[199] \"fundomeneshop\"                     \"funforpsi\"                        \n",
       "[201] \"funxiamen nawang\"                  \"hostovh\"                          \n",
       "[203] \"onlinehostens\"                     \"onlinequalispace\"                 \n",
       "[205] \"pressbeon intermedia\"              \"pwbizcn\"                          \n",
       "[207] \"sitea small orange\"                \"siteforpsi\"                       \n",
       "[209] \"sitehoststar\"                      \"siteipage domain.com\"             \n",
       "[211] \"siteworld4you\"                     \"spaceidwebhost\"                   \n",
       "[213] \"spacenettigritty\"                  \"spacep.a viet nam\"                \n",
       "[215] \"storeregister.com\"                 \"techchengdu fly\"                  \n",
       "[217] \"techdnsimple\"                      \"websitenettigritty\"               \n",
       "[219] \"websitesuperhosting\"               \"hostautomattic\"                   \n",
       "[221] \"hostdomainesia\"                    \"in.netwhogohost\"                  \n",
       "[223] \"onlinemailclub\"                    \"onlinenetearth one\"               \n",
       "[225] \"pressblacknight\"                   \"pwjiangsu bangning\"               \n",
       "[227] \"pwxiamen chinasource\"              \"pwzhuhai naisinike\"               \n",
       "[229] \"sitehostgator mexico\"              \"sitetradeindia\"                   \n",
       "[231] \"sitetransip\"                       \"spaceactive 24\"                   \n",
       "[233] \"spacealpnames\"                     \"spacedomaindiscover.com\"          \n",
       "[235] \"spaceforpsi\"                       \"spaceicn\"                         \n",
       "[237] \"spaceinfomaniak.ch\"                \"spacenetowl\"                      \n",
       "[239] \"spaceonline sas\"                   \"spaceregway\"                      \n",
       "[241] \"storenetowl\"                       \"storesibername\"                   \n",
       "[243] \"techejee group\"                    \"techicn\"                          \n",
       "[245] \"techipage pdr ltd\"                 \"techsafenames ltd\"                \n",
       "[247] \"techtodaynic\"                      \"websiteascio\"                     \n",
       "[249] \"websitecorehub\"                    \"funascio\"                         \n",
       "[251] \"funeuro dns\"                       \"funuol\"                           \n",
       "[253] \"hosteranet\"                        \"in.nethosting ukraine\"            \n",
       "[255] \"onlineembratelcloud\"               \"onlinelexsynergy\"                 \n",
       "[257] \"onlinenettigritty\"                 \"onlineownregistrar\"               \n",
       "[259] \"presskey-systems\"                  \"pressmesh digital\"                \n",
       "[261] \"pressneubox\"                       \"presszhengzhou century connect\"   \n",
       "[263] \"pwenom\"                            \"pwrealtime register\"              \n",
       "[265] \"pwweb commerce comm\"               \"pwzhengzhou zitian\"               \n",
       "[267] \"siteascio\"                         \"sitebb online\"                    \n",
       "[269] \"sitegridhost\"                      \"sitespaceweb\"                     \n",
       "[271] \"spacedomeneshop\"                   \"spaceipage enom\"                  \n",
       "[273] \"spacenetim\"                        \"spaceneubox\"                      \n",
       "[275] \"spacewebnames\"                     \"storenameshield\"                  \n",
       "[277] \"storeumbler\"                       \"techaerotek\"                      \n",
       "[279] \"techdiamatrix\"                     \"techdotname korea\"                \n",
       "[281] \"techeasydns\"                       \"techeasyspace\"                    \n",
       "[283] \"technameweb\"                       \"techregtime ltd\"                  \n",
       "[285] \"techserver plan\"                   \"websitecafe24\"                    \n",
       "[287] \"websiteinterserver\"                \"websiteipage enom\"                \n",
       "[289] \"websitesmartweb\"                   \"websitetradeindia\"                \n",
       "[291] \"websitewhogohost\"                  \"funicn\"                           \n",
       "[293] \"funkreativmedia\"                   \"funnettigritty\"                   \n",
       "[295] \"funvimexx trc\"                     \"funwest263 international\"         \n",
       "[297] \"hostaruba\"                         \"hostdonweb\"                       \n",
       "[299] \"hosthover\"                         \"hostonline sas\"                   \n",
       "[301] \"hostwest263 international\"         \"in.netinstra corporation\"         \n",
       "[303] \"onlineinnovadeus\"                  \"onlineipage pdr ltd\"              \n",
       "[305] \"onlinenina\"                        \"onlineopentld b.v.\"               \n",
       "[307] \"onlineshinjiru\"                    \"onlineumbler\"                     \n",
       "[309] \"pressdonweb\"                       \"presseranet\"                      \n",
       "[311] \"pressxin net\"                      \"pwascio\"                          \n",
       "[313] \"pwtimeweb\"                         \"sitearuba\"                        \n",
       "[315] \"sitecom laude\"                     \"siteeims\"                         \n",
       "[317] \"sitefoshan yidong\"                 \"sitekinghost\"                     \n",
       "[319] \"sitenameweb\"                       \"sitenetim\"                        \n",
       "[321] \"siteopentld b.v.\"                  \"siteregister.com\"                 \n",
       "[323] \"sitesiteground\"                    \"siteumbler\"                       \n",
       "[325] \"spaceafrihost\"                     \"spacecps-datensysteme\"            \n",
       "[327] \"spacednc holdings\"                 \"spacegransy\"                      \n",
       "[329] \"spacehome.pl\"                      \"spaceinterserver\"                 \n",
       "[331] \"spacetenten\"                       \"spaceweb commerce comm\"           \n",
       "[333] \"storeatak\"                         \"storeejee group\"                  \n",
       "[335] \"storehostens\"                      \"storeinternetworx ltd\"            \n",
       "[337] \"storelcn\"                          \"storeqhoster\"                     \n",
       "[339] \"techdomeny.pl\"                     \"techglobal village\"               \n",
       "[341] \"techgridhost\"                      \"techsynergy wholesale\"            \n",
       "[343] \"techuk2\"                           \"techzhengzhou century connect\"    \n",
       "[345] \"websitea small orange\"             \"websiteargeweb\"                   \n",
       "[347] \"websitediamatrix\"                  \"websitedomeneshop\"                \n",
       "[349] \"websitehostgator mexico\"           \"websiteonline sas\"                \n",
       "[351] \"websiteplanet hoster\"              \"websiteregistrygate\"              \n",
       "[353] \"websiteregway\"                     \"websitesuperdominios\"             \n",
       "[355] \"websitexpress\"                     \"funarsys\"                         \n",
       "[357] \"funcom laude\"                      \"funinstra corporation\"            \n",
       "[359] \"funiwantmyname\"                    \"funmarkmonitor\"                   \n",
       "[361] \"funnhan hoa software\"              \"funopentld b.v.\"                  \n",
       "[363] \"funregister.com\"                   \"funregistrator domenov \"          \n",
       "[365] \"hostbigrock\"                       \"hosthostgator brazil\"             \n",
       "[367] \"hosthosting concepts\"              \"hostinternetx\"                    \n",
       "[369] \"hostname.com\"                      \"hostnamesilo\"                     \n",
       "[371] \"hostnicenic\"                       \"hosttld registrar solns\"          \n",
       "[373] \"hostzhengzhou century connect\"     \"in.netdomains4bitcoins\"           \n",
       "[375] \"in.netgandi sas\"                   \"in.netsuryanandan\"                \n",
       "[377] \"in.netvalue domain\"                \"online1stdomains\"                 \n",
       "[379] \"onlinebeijing brandma\"             \"onlinednc holdings\"               \n",
       "[381] \"onlinedomain-it\"                   \"onlinezhengzhou zitian\"           \n",
       "[383] \"pressbizcn\"                        \"presscronon ag\"                   \n",
       "[385] \"pressdotname korea\"                \"pressepik llc\"                    \n",
       "[387] \"presshosting concepts\"             \"pressipage domain.com\"            \n",
       "[389] \"pressnamesilo\"                     \"pressparagon internet\"            \n",
       "[391] \"presspromo people\"                 \"pressrealtime register\"           \n",
       "[393] \"presswest263 international\"        \"pressxiamen chinasource\"          \n",
       "[395] \"pwcritchcorp\"                      \"pwgransy\"                         \n",
       "[397] \"pwhosting ukraine\"                 \"pwligne web services\"             \n",
       "[399] \"pwnetwork solutions\"               \"pwrumahweb\"                       \n",
       "[401] \"pwshenzhen hulianxianfeng\"         \"pwsoluciones corporativas\"        \n",
       "[403] \"pwtenten\"                          \"pwunited domains\"                 \n",
       "[405] \"pwvautron\"                         \"pwxiamen nawang\"                  \n",
       "[407] \"sitebeijing guoxu\"                 \"sitecrazy domains\"                \n",
       "[409] \"sitedomeneshop\"                    \"sitefreeparking\"                  \n",
       "[411] \"siteqhoster\"                       \"sitexpress\"                       \n",
       "[413] \"space1stdomains\"                   \"spaceaz.pl\"                       \n",
       "[415] \"spacebrandma\"                      \"spaceinstra corporation\"          \n",
       "[417] \"spacemailclub\"                     \"spacenhan hoa software\"           \n",
       "[419] \"spaceregtime ltd\"                  \"spacesafenames ltd\"               \n",
       "[421] \"spacespaceweb\"                     \"spaceventraip\"                    \n",
       "[423] \"spacezhengzhou zitian\"             \"storecom laude\"                   \n",
       "[425] \"storeguzel hosting\"                \"storeinternet gmbh\"               \n",
       "[427] \"storenetistrar\"                    \"storepdr china\"                   \n",
       "[429] \"storeserver plan\"                  \"storeshinjiru\"                    \n",
       "[431] \"storesynergy wholesale\"            \"storetradeindia\"                  \n",
       "[433] \"storeworld4you\"                    \"techalfahosting\"                  \n",
       "[435] \"techbeijing guoxu\"                 \"techdomaindiscover.com\"           \n",
       "[437] \"techhostens\"                       \"technetistrar\"                    \n",
       "[439] \"techwebhouse\"                      \"techwix\"                          \n",
       "[441] \"websitecheck domain\"               \"websitedotname korea\"             \n",
       "[443] \"websitehostens\"                    \"websitehoststar\"                  \n",
       "[445] \"websiteimpreza\"                    \"websiteonlinenic\"                 \n",
       "[447] \"websitesynergy wholesale\"          \"fun10dencehispahard\"              \n",
       "[449] \"funab name isp\"                    \"funalfahosting\"                   \n",
       "[451] \"funargeweb\"                        \"funbeijing guoxu\"                 \n",
       "[453] \"funcsc corporate\"                  \"fundinahosting\"                   \n",
       "[455] \"fundnc holdings\"                   \"funinterserver\"                   \n",
       "[457] \"funtecnocratica centro\"            \"funtenten\"                        \n",
       "[459] \"funtodaynic\"                       \"funzhengzhou zitian\"              \n",
       "[461] \"hostafrihost\"                      \"hostascio\"                        \n",
       "[463] \"hostbb online\"                     \"hostblacknight\"                   \n",
       "[465] \"hostcom laude\"                     \"hostcorehub\"                      \n",
       "[467] \"hostcrazy domains\"                 \"hostdiamatrix\"                    \n",
       "[469] \"hostdomeneshop\"                    \"hostdomeny.pl\"                    \n",
       "[471] \"hosteasyspace\"                     \"hosteims\"                         \n",
       "[473] \"hosthostgator mexico\"              \"hostjogjacamp\"                    \n",
       "[475] \"hostmelbourne it\"                  \"hostmijn internet\"                \n",
       "[477] \"hostnetim\"                         \"hostonlinenic\"                    \n",
       "[479] \"hostparagon internet\"              \"hostpromo people\"                 \n",
       "[481] \"hostregister.it\"                   \"hostshinjiru\"                     \n",
       "[483] \"hostsoluciones corporativas\"       \"hostsquarespace\"                  \n",
       "[485] \"hosttodaynic\"                      \"hostuniregistrar\"                 \n",
       "[487] \"hostunited domains\"                \"hostzhengzhou zitian\"             \n",
       "[489] \"in.netcsc corporate\"               \"in.netcsl\"                        \n",
       "[491] \"in.netexonhost\"                    \"in.netipage pdr ltd\"              \n",
       "[493] \"in.netkey-systems\"                 \"onlinebeijing guoxu\"              \n",
       "[495] \"onlinedandomains\"                  \"onlineeasydns\"                    \n",
       "[497] \"onlinefocus ip\"                    \"onlinefoshan yidong\"              \n",
       "[499] \"onlineglobal village\"              \"onlinego france\"                  \n",
       "[501] \"onlinehostnet\"                     \"onlinehostneverdie\"               \n",
       "[503] \"onlineipage enom\"                  \"onlinenamecamp\"                   \n",
       "[505] \"onlineorigiweb\"                    \"onlineplanet hoster\"              \n",
       "[507] \"onlinereliable software\"           \"onlinesecura gmbh\"                \n",
       "[509] \"onlinetodaynic\"                    \"onlinevariomedia\"                 \n",
       "[511] \"onlinewebhouse\"                    \"onlinewordpress\"                  \n",
       "[513] \"pressa small orange\"               \"pressbigrock\"                     \n",
       "[515] \"pressdomeneshop\"                   \"presseasydns\"                     \n",
       "[517] \"presseuro dns\"                     \"presshosting ukraine\"             \n",
       "[519] \"pressinternetx\"                    \"pressiwantmyname\"                 \n",
       "[521] \"pressmuumuu\"                       \"pressnameshield\"                  \n",
       "[523] \"pressniaga hoster\"                 \"pressnicenic\"                     \n",
       "[525] \"pressomnis network\"                \"pressregister.it\"                 \n",
       "[527] \"presssafenames ltd\"                \"pressshopify\"                     \n",
       "[529] \"pressunoeuro\"                      \"pressuol\"                         \n",
       "[531] \"presswebsupport.sk\"                \"pwanygaming\"                      \n",
       "[533] \"pwbeon intermedia\"                 \"pwbigrock\"                        \n",
       "[535] \"pwbluehost\"                        \"pwdiamatrix\"                      \n",
       "[537] \"pwdomain context\"                  \"pwelectron networks\"              \n",
       "[539] \"pweuro dns\"                        \"pwfbs\"                            \n",
       "[541] \"pwguzel hosting\"                   \"pwinternetworx ltd\"               \n",
       "[543] \"pwinternetx\"                       \"pwmarcaria.com\"                   \n",
       "[545] \"pwonline sas\"                      \"pwplanet hoster\"                  \n",
       "[547] \"pwregister.com\"                    \"pwshinjiru\"                       \n",
       "[549] \"pwwhogohost\"                       \"pwwhois networks\"                 \n",
       "[551] \"siteblacknight\"                    \"sitecheck domain\"                 \n",
       "[553] \"sitedinahosting\"                   \"sitedomaindiscover.com\"           \n",
       "[555] \"siteeu technology\"                 \"siteevoplus ltd\"                  \n",
       "[557] \"siteexabytes\"                      \"sitegransy\"                       \n",
       "[559] \"sitehosteur\"                       \"siteimpreza\"                      \n",
       "[561] \"sitejiangsu bangning\"              \"sitelcn\"                          \n",
       "[563] \"sitemarcaria.com\"                  \"sitemarkum\"                       \n",
       "[565] \"sitenettigritty\"                   \"siteomnis network\"                \n",
       "[567] \"siteorigiweb\"                      \"siteownregistrar\"                 \n",
       "[569] \"siteplanet hoster\"                 \"sitesea wasp\"                     \n",
       "[571] \"sitesibername\"                     \"sitesuper registry\"               \n",
       "[573] \"sitetecnocratica centro\"           \"sitethe registrar company b.v.\"   \n",
       "[575] \"siteventraip\"                      \"sitevimexx trc\"                   \n",
       "[577] \"sitewhois networks\"                \"spacebb online\"                   \n",
       "[579] \"spacebeijing guoxu\"                \"spaceblacknight\"                  \n",
       "[581] \"spaceconstant contact\"             \"spacedandomains\"                  \n",
       "[583] \"spacedomain the net\"               \"spacedomainmonger\"                \n",
       "[585] \"spaceeims\"                         \"spaceejee group\"                  \n",
       "[587] \"spaceeukhost\"                      \"spaceinternet gmbh\"               \n",
       "[589] \"spaceipage pdr ltd\"                \"spacejogjacamp\"                   \n",
       "[591] \"spacenameshield\"                   \"spaceneostrada\"                   \n",
       "[593] \"spacenetearth one\"                 \"spacenicenic\"                     \n",
       "[595] \"spacereg2c\"                        \"spacesoluciones corporativas\"     \n",
       "[597] \"spacevimexx trc\"                   \"spacewhois networks\"              \n",
       "[599] \"spacexpress\"                       \"spaceznet\"                        \n",
       "[601] \"storea small orange\"               \"storealpnames\"                    \n",
       "[603] \"storecompra\"                       \"storeentorno digital\"             \n",
       "[605] \"storeeranet\"                       \"storeetsy\"                        \n",
       "[607] \"storeflexwebhosting\"               \"storeidwebhost\"                   \n",
       "[609] \"storeimpreza\"                      \"storeipage enom\"                  \n",
       "[611] \"storejogjacamp\"                    \"storekinghost\"                    \n",
       "[613] \"storenetclues\"                     \"storenetearth one\"                \n",
       "[615] \"storeopentld b.v.\"                 \"storeownregistrar\"                \n",
       "[617] \"storequalispace\"                   \"storeshanghai best oray\"          \n",
       "[619] \"storetecnocratica centro\"          \"storeventraip\"                    \n",
       "[621] \"storevimexx ks\"                    \"storewebonic\"                     \n",
       "[623] \"storewhois networks\"               \"storezhengzhou century connect\"   \n",
       "[625] \"techblacknight\"                    \"techcafe24\"                       \n",
       "[627] \"techcheck domain\"                  \"techgo canada\"                    \n",
       "[629] \"techinternet gmbh\"                 \"techjiangsu bangning\"             \n",
       "[631] \"techkinghost\"                      \"techlcn\"                          \n",
       "[633] \"techmijn internet\"                 \"techopentld b.v.\"                 \n",
       "[635] \"techownregistrar\"                  \"techqhoster\"                      \n",
       "[637] \"techsibername\"                     \"techvariomedia\"                   \n",
       "[639] \"website10dencehispahard\"           \"website1blu\"                      \n",
       "[641] \"websitealastry\"                    \"websiteamen fr\"                   \n",
       "[643] \"websiteblacknight\"                 \"websitecom laude\"                 \n",
       "[645] \"websitednc holdings\"               \"websitedomain the net\"            \n",
       "[647] \"websitedomainfactory\"              \"websitedreamhost\"                 \n",
       "[649] \"websitegransy\"                     \"websiteguzel hosting\"             \n",
       "[651] \"websiteidwebhost\"                  \"websiteinternetworx ltd\"          \n",
       "[653] \"websitemijn internet\"              \"websitenameweb\"                   \n",
       "[655] \"websiteneostrada\"                  \"websitenicenic\"                   \n",
       "[657] \"websitenominalia\"                  \"websiteopentld b.v.\"              \n",
       "[659] \"websiteownregistrar\"               \"websiteregister.com\"              \n",
       "[661] \"websiteregtime ltd\"                \"websitesibername\"                 \n",
       "[663] \"websitethe registrar company b.v.\" \"websitevautron\"                   \n",
       "[665] \"websitezhengzhou zitian\"          "
      ]
     },
     "metadata": {},
     "output_type": "display_data"
    }
   ],
   "source": [
    "(tld_reseller_NAs <- metrics_df %>% filter(is.na(auc_win)) %>% pull(tld_reseller))"
   ]
  },
  {
   "cell_type": "code",
   "execution_count": 45,
   "metadata": {},
   "outputs": [
    {
     "name": "stderr",
     "output_type": "stream",
     "text": [
      "`summarise()` regrouping output by 'tld_registrar_index' (override with `.groups` argument)\n",
      "\n"
     ]
    },
    {
     "data": {
      "text/html": [
       "<table>\n",
       "<caption>A grouped_df: 274 × 4</caption>\n",
       "<thead>\n",
       "\t<tr><th scope=col>tld_registrar_index</th><th scope=col>renewal_status</th><th scope=col>n</th><th scope=col>freq</th></tr>\n",
       "\t<tr><th scope=col>&lt;chr&gt;</th><th scope=col>&lt;fct&gt;</th><th scope=col>&lt;int&gt;</th><th scope=col>&lt;dbl&gt;</th></tr>\n",
       "</thead>\n",
       "<tbody>\n",
       "\t<tr><td>funzhengzhou century connect    </td><td>Not Renewd</td><td>1151</td><td>1</td></tr>\n",
       "\t<tr><td>sitepdr china                   </td><td>Not Renewd</td><td> 561</td><td>1</td></tr>\n",
       "\t<tr><td>onlinepdr china                 </td><td>Not Renewd</td><td> 278</td><td>1</td></tr>\n",
       "\t<tr><td>spaceeranet                     </td><td>Not Renewd</td><td> 210</td><td>1</td></tr>\n",
       "\t<tr><td>spaceglobal domains             </td><td>Not Renewd</td><td> 103</td><td>1</td></tr>\n",
       "\t<tr><td>funmoniker                      </td><td>Not Renewd</td><td>  97</td><td>1</td></tr>\n",
       "\t<tr><td>siteeranet                      </td><td>Not Renewd</td><td>  94</td><td>1</td></tr>\n",
       "\t<tr><td>siteidwebhost                   </td><td>Not Renewd</td><td>  90</td><td>1</td></tr>\n",
       "\t<tr><td>sitenethouse                    </td><td>Not Renewd</td><td>  89</td><td>1</td></tr>\n",
       "\t<tr><td>spaceniaga hoster               </td><td>Not Renewd</td><td>  71</td><td>1</td></tr>\n",
       "\t<tr><td>hostglobal domains              </td><td>Not Renewd</td><td>  69</td><td>1</td></tr>\n",
       "\t<tr><td>sitedomains4bitcoins            </td><td>Not Renewd</td><td>  69</td><td>1</td></tr>\n",
       "\t<tr><td>websitebeget                    </td><td>Not Renewd</td><td>  62</td><td>1</td></tr>\n",
       "\t<tr><td>siteshanghai meicheng           </td><td>Not Renewd</td><td>  61</td><td>1</td></tr>\n",
       "\t<tr><td>hostdomains4bitcoins            </td><td>Not Renewd</td><td>  50</td><td>1</td></tr>\n",
       "\t<tr><td>presszhengzhou zitian           </td><td>Not Renewd</td><td>  44</td><td>1</td></tr>\n",
       "\t<tr><td>storebeon intermedia            </td><td>Not Renewd</td><td>  43</td><td>1</td></tr>\n",
       "\t<tr><td>websitedomains4bitcoins         </td><td>Not Renewd</td><td>  40</td><td>1</td></tr>\n",
       "\t<tr><td>onlinenicenic                   </td><td>Not Renewd</td><td>  33</td><td>1</td></tr>\n",
       "\t<tr><td>sitecafe24                      </td><td>Not Renewd</td><td>  29</td><td>1</td></tr>\n",
       "\t<tr><td>sitenicenic                     </td><td>Not Renewd</td><td>  29</td><td>1</td></tr>\n",
       "\t<tr><td>websiteshanghai best oray       </td><td>Not Renewd</td><td>  26</td><td>1</td></tr>\n",
       "\t<tr><td>onlineeranet                    </td><td>Not Renewd</td><td>  25</td><td>1</td></tr>\n",
       "\t<tr><td>techdomains4bitcoins            </td><td>Not Renewd</td><td>  24</td><td>1</td></tr>\n",
       "\t<tr><td>funnicenic                      </td><td>Not Renewd</td><td>  22</td><td>1</td></tr>\n",
       "\t<tr><td>hostgmo                         </td><td>Not Renewd</td><td>  21</td><td>1</td></tr>\n",
       "\t<tr><td>storenhan hoa software          </td><td>Not Renewd</td><td>  21</td><td>1</td></tr>\n",
       "\t<tr><td>fundomains4bitcoins             </td><td>Not Renewd</td><td>  20</td><td>1</td></tr>\n",
       "\t<tr><td>storenicenic                    </td><td>Not Renewd</td><td>  19</td><td>1</td></tr>\n",
       "\t<tr><td>technicenic                     </td><td>Not Renewd</td><td>  19</td><td>1</td></tr>\n",
       "\t<tr><td>storedomains4bitcoins           </td><td>Not Renewd</td><td>  18</td><td>1</td></tr>\n",
       "\t<tr><td>websitexin net                  </td><td>Not Renewd</td><td>  18</td><td>1</td></tr>\n",
       "\t<tr><td>funbeon intermedia              </td><td>Not Renewd</td><td>  15</td><td>1</td></tr>\n",
       "\t<tr><td>onlinezhengzhou century connect </td><td>Not Renewd</td><td>  15</td><td>1</td></tr>\n",
       "\t<tr><td>storexiamen chinasource         </td><td>Not Renewd</td><td>  15</td><td>1</td></tr>\n",
       "\t<tr><td>funepik llc                     </td><td>Not Renewd</td><td>  14</td><td>1</td></tr>\n",
       "\t<tr><td>spacedomains4bitcoins           </td><td>Not Renewd</td><td>  14</td><td>1</td></tr>\n",
       "\t<tr><td>websitebizcn                    </td><td>Not Renewd</td><td>  14</td><td>1</td></tr>\n",
       "\t<tr><td>storebizcn                      </td><td>Not Renewd</td><td>  13</td><td>1</td></tr>\n",
       "\t<tr><td>storeinterneto vizija           </td><td>Not Renewd</td><td>  13</td><td>1</td></tr>\n",
       "\t<tr><td>technics telekom                </td><td>Not Renewd</td><td>  13</td><td>1</td></tr>\n",
       "\t<tr><td>websiteepik llc                 </td><td>Not Renewd</td><td>  13</td><td>1</td></tr>\n",
       "\t<tr><td>funfbs                          </td><td>Not Renewd</td><td>  12</td><td>1</td></tr>\n",
       "\t<tr><td>pressfbs                        </td><td>Not Renewd</td><td>  12</td><td>1</td></tr>\n",
       "\t<tr><td><span style=white-space:pre-wrap>site1&amp;1 internet                </span></td><td>Not Renewd</td><td><span style=white-space:pre-wrap>  12</span></td><td>1</td></tr>\n",
       "\t<tr><td>store22net inc                  </td><td>Not Renewd</td><td>  12</td><td>1</td></tr>\n",
       "\t<tr><td>websiterumahweb                 </td><td>Not Renewd</td><td>  12</td><td>1</td></tr>\n",
       "\t<tr><td>websitezhengzhou century connect</td><td>Not Renewd</td><td>  12</td><td>1</td></tr>\n",
       "\t<tr><td>funhosting ukraine              </td><td>Not Renewd</td><td>  11</td><td>1</td></tr>\n",
       "\t<tr><td>sitewebsupport.sk               </td><td>Not Renewd</td><td>  11</td><td>1</td></tr>\n",
       "\t<tr><td>⋮</td><td>⋮</td><td>⋮</td><td>⋮</td></tr>\n",
       "\t<tr><td>pwligne web services        </td><td>Not Renewd</td><td>1</td><td>1</td></tr>\n",
       "\t<tr><td>pwtimeweb                   </td><td>Not Renewd</td><td>1</td><td>1</td></tr>\n",
       "\t<tr><td>pwxiamen nawang             </td><td>Not Renewd</td><td>1</td><td>1</td></tr>\n",
       "\t<tr><td>siteactive 24               </td><td>Not Renewd</td><td>1</td><td>1</td></tr>\n",
       "\t<tr><td>sitedominios.pt             </td><td>Not Renewd</td><td>1</td><td>1</td></tr>\n",
       "\t<tr><td>siteforpsi                  </td><td>Not Renewd</td><td>1</td><td>1</td></tr>\n",
       "\t<tr><td>sitehoststar                </td><td>Not Renewd</td><td>1</td><td>1</td></tr>\n",
       "\t<tr><td>siteipage domain.com        </td><td>Not Renewd</td><td>1</td><td>1</td></tr>\n",
       "\t<tr><td>sitejiangsu bangning        </td><td>Not Renewd</td><td>1</td><td>1</td></tr>\n",
       "\t<tr><td>sitekinghost                </td><td>Not Renewd</td><td>1</td><td>1</td></tr>\n",
       "\t<tr><td>siteopentld b.v.            </td><td>Not Renewd</td><td>1</td><td>1</td></tr>\n",
       "\t<tr><td>siteqhoster                 </td><td>Not Renewd</td><td>1</td><td>1</td></tr>\n",
       "\t<tr><td>sitesiteground              </td><td>Not Renewd</td><td>1</td><td>1</td></tr>\n",
       "\t<tr><td>sitetecnocratica centro     </td><td>Not Renewd</td><td>1</td><td>1</td></tr>\n",
       "\t<tr><td>siteumbler                  </td><td>Not Renewd</td><td>1</td><td>1</td></tr>\n",
       "\t<tr><td>space1stdomains             </td><td>Not Renewd</td><td>1</td><td>1</td></tr>\n",
       "\t<tr><td>spaceafrihost               </td><td>Not Renewd</td><td>1</td><td>1</td></tr>\n",
       "\t<tr><td>spaceaz.pl                  </td><td>Not Renewd</td><td>1</td><td>1</td></tr>\n",
       "\t<tr><td>spacecafe24                 </td><td>Not Renewd</td><td>1</td><td>1</td></tr>\n",
       "\t<tr><td>spacednc holdings           </td><td>Not Renewd</td><td>1</td><td>1</td></tr>\n",
       "\t<tr><td>spaceinstra corporation     </td><td>Not Renewd</td><td>1</td><td>1</td></tr>\n",
       "\t<tr><td>spacesoluciones corporativas</td><td>Not Renewd</td><td>1</td><td>1</td></tr>\n",
       "\t<tr><td>spacevautron                </td><td>Not Renewd</td><td>1</td><td>1</td></tr>\n",
       "\t<tr><td>spacewebnames               </td><td>Not Renewd</td><td>1</td><td>1</td></tr>\n",
       "\t<tr><td>storeeims                   </td><td>Not Renewd</td><td>1</td><td>1</td></tr>\n",
       "\t<tr><td>storeguzel hosting          </td><td>Not Renewd</td><td>1</td><td>1</td></tr>\n",
       "\t<tr><td>storehostens                </td><td>Not Renewd</td><td>1</td><td>1</td></tr>\n",
       "\t<tr><td>storeregistrator domenov    </td><td>Not Renewd</td><td>1</td><td>1</td></tr>\n",
       "\t<tr><td>storeweb4africa             </td><td>Not Renewd</td><td>1</td><td>1</td></tr>\n",
       "\t<tr><td>storeworld4you              </td><td>Not Renewd</td><td>1</td><td>1</td></tr>\n",
       "\t<tr><td>techdomeny.pl               </td><td>Not Renewd</td><td>1</td><td>1</td></tr>\n",
       "\t<tr><td>techejee group              </td><td>Not Renewd</td><td>1</td><td>1</td></tr>\n",
       "\t<tr><td>techgridhost                </td><td>Not Renewd</td><td>1</td><td>1</td></tr>\n",
       "\t<tr><td>techhostens                 </td><td>Not Renewd</td><td>1</td><td>1</td></tr>\n",
       "\t<tr><td>techipage pdr ltd           </td><td>Not Renewd</td><td>1</td><td>1</td></tr>\n",
       "\t<tr><td>techmelbourne it            </td><td>Not Renewd</td><td>1</td><td>1</td></tr>\n",
       "\t<tr><td>techvariomedia              </td><td>Not Renewd</td><td>1</td><td>1</td></tr>\n",
       "\t<tr><td>techwhois networks          </td><td>Not Renewd</td><td>1</td><td>1</td></tr>\n",
       "\t<tr><td>techwild west               </td><td>Not Renewd</td><td>1</td><td>1</td></tr>\n",
       "\t<tr><td>websitecorehub              </td><td>Not Renewd</td><td>1</td><td>1</td></tr>\n",
       "\t<tr><td>websiteinterserver          </td><td>Not Renewd</td><td>1</td><td>1</td></tr>\n",
       "\t<tr><td>websitenameshield           </td><td>Not Renewd</td><td>1</td><td>1</td></tr>\n",
       "\t<tr><td>websiteopentld b.v.         </td><td>Not Renewd</td><td>1</td><td>1</td></tr>\n",
       "\t<tr><td>websiterebrandly            </td><td>Not Renewd</td><td>1</td><td>1</td></tr>\n",
       "\t<tr><td>websitesuperdominios        </td><td>Not Renewd</td><td>1</td><td>1</td></tr>\n",
       "\t<tr><td>websitesuperhosting         </td><td>Not Renewd</td><td>1</td><td>1</td></tr>\n",
       "\t<tr><td>websitesynergy wholesale    </td><td>Not Renewd</td><td>1</td><td>1</td></tr>\n",
       "\t<tr><td>websitewhogohost            </td><td>Not Renewd</td><td>1</td><td>1</td></tr>\n",
       "\t<tr><td>websitewild west            </td><td>Not Renewd</td><td>1</td><td>1</td></tr>\n",
       "\t<tr><td>websitexpress               </td><td>Not Renewd</td><td>1</td><td>1</td></tr>\n",
       "</tbody>\n",
       "</table>\n"
      ],
      "text/latex": [
       "A grouped\\_df: 274 × 4\n",
       "\\begin{tabular}{llll}\n",
       " tld\\_registrar\\_index & renewal\\_status & n & freq\\\\\n",
       " <chr> & <fct> & <int> & <dbl>\\\\\n",
       "\\hline\n",
       "\t funzhengzhou century connect     & Not Renewd & 1151 & 1\\\\\n",
       "\t sitepdr china                    & Not Renewd &  561 & 1\\\\\n",
       "\t onlinepdr china                  & Not Renewd &  278 & 1\\\\\n",
       "\t spaceeranet                      & Not Renewd &  210 & 1\\\\\n",
       "\t spaceglobal domains              & Not Renewd &  103 & 1\\\\\n",
       "\t funmoniker                       & Not Renewd &   97 & 1\\\\\n",
       "\t siteeranet                       & Not Renewd &   94 & 1\\\\\n",
       "\t siteidwebhost                    & Not Renewd &   90 & 1\\\\\n",
       "\t sitenethouse                     & Not Renewd &   89 & 1\\\\\n",
       "\t spaceniaga hoster                & Not Renewd &   71 & 1\\\\\n",
       "\t hostglobal domains               & Not Renewd &   69 & 1\\\\\n",
       "\t sitedomains4bitcoins             & Not Renewd &   69 & 1\\\\\n",
       "\t websitebeget                     & Not Renewd &   62 & 1\\\\\n",
       "\t siteshanghai meicheng            & Not Renewd &   61 & 1\\\\\n",
       "\t hostdomains4bitcoins             & Not Renewd &   50 & 1\\\\\n",
       "\t presszhengzhou zitian            & Not Renewd &   44 & 1\\\\\n",
       "\t storebeon intermedia             & Not Renewd &   43 & 1\\\\\n",
       "\t websitedomains4bitcoins          & Not Renewd &   40 & 1\\\\\n",
       "\t onlinenicenic                    & Not Renewd &   33 & 1\\\\\n",
       "\t sitecafe24                       & Not Renewd &   29 & 1\\\\\n",
       "\t sitenicenic                      & Not Renewd &   29 & 1\\\\\n",
       "\t websiteshanghai best oray        & Not Renewd &   26 & 1\\\\\n",
       "\t onlineeranet                     & Not Renewd &   25 & 1\\\\\n",
       "\t techdomains4bitcoins             & Not Renewd &   24 & 1\\\\\n",
       "\t funnicenic                       & Not Renewd &   22 & 1\\\\\n",
       "\t hostgmo                          & Not Renewd &   21 & 1\\\\\n",
       "\t storenhan hoa software           & Not Renewd &   21 & 1\\\\\n",
       "\t fundomains4bitcoins              & Not Renewd &   20 & 1\\\\\n",
       "\t storenicenic                     & Not Renewd &   19 & 1\\\\\n",
       "\t technicenic                      & Not Renewd &   19 & 1\\\\\n",
       "\t storedomains4bitcoins            & Not Renewd &   18 & 1\\\\\n",
       "\t websitexin net                   & Not Renewd &   18 & 1\\\\\n",
       "\t funbeon intermedia               & Not Renewd &   15 & 1\\\\\n",
       "\t onlinezhengzhou century connect  & Not Renewd &   15 & 1\\\\\n",
       "\t storexiamen chinasource          & Not Renewd &   15 & 1\\\\\n",
       "\t funepik llc                      & Not Renewd &   14 & 1\\\\\n",
       "\t spacedomains4bitcoins            & Not Renewd &   14 & 1\\\\\n",
       "\t websitebizcn                     & Not Renewd &   14 & 1\\\\\n",
       "\t storebizcn                       & Not Renewd &   13 & 1\\\\\n",
       "\t storeinterneto vizija            & Not Renewd &   13 & 1\\\\\n",
       "\t technics telekom                 & Not Renewd &   13 & 1\\\\\n",
       "\t websiteepik llc                  & Not Renewd &   13 & 1\\\\\n",
       "\t funfbs                           & Not Renewd &   12 & 1\\\\\n",
       "\t pressfbs                         & Not Renewd &   12 & 1\\\\\n",
       "\t site1\\&1 internet                 & Not Renewd &   12 & 1\\\\\n",
       "\t store22net inc                   & Not Renewd &   12 & 1\\\\\n",
       "\t websiterumahweb                  & Not Renewd &   12 & 1\\\\\n",
       "\t websitezhengzhou century connect & Not Renewd &   12 & 1\\\\\n",
       "\t funhosting ukraine               & Not Renewd &   11 & 1\\\\\n",
       "\t sitewebsupport.sk                & Not Renewd &   11 & 1\\\\\n",
       "\t ⋮ & ⋮ & ⋮ & ⋮\\\\\n",
       "\t pwligne web services         & Not Renewd & 1 & 1\\\\\n",
       "\t pwtimeweb                    & Not Renewd & 1 & 1\\\\\n",
       "\t pwxiamen nawang              & Not Renewd & 1 & 1\\\\\n",
       "\t siteactive 24                & Not Renewd & 1 & 1\\\\\n",
       "\t sitedominios.pt              & Not Renewd & 1 & 1\\\\\n",
       "\t siteforpsi                   & Not Renewd & 1 & 1\\\\\n",
       "\t sitehoststar                 & Not Renewd & 1 & 1\\\\\n",
       "\t siteipage domain.com         & Not Renewd & 1 & 1\\\\\n",
       "\t sitejiangsu bangning         & Not Renewd & 1 & 1\\\\\n",
       "\t sitekinghost                 & Not Renewd & 1 & 1\\\\\n",
       "\t siteopentld b.v.             & Not Renewd & 1 & 1\\\\\n",
       "\t siteqhoster                  & Not Renewd & 1 & 1\\\\\n",
       "\t sitesiteground               & Not Renewd & 1 & 1\\\\\n",
       "\t sitetecnocratica centro      & Not Renewd & 1 & 1\\\\\n",
       "\t siteumbler                   & Not Renewd & 1 & 1\\\\\n",
       "\t space1stdomains              & Not Renewd & 1 & 1\\\\\n",
       "\t spaceafrihost                & Not Renewd & 1 & 1\\\\\n",
       "\t spaceaz.pl                   & Not Renewd & 1 & 1\\\\\n",
       "\t spacecafe24                  & Not Renewd & 1 & 1\\\\\n",
       "\t spacednc holdings            & Not Renewd & 1 & 1\\\\\n",
       "\t spaceinstra corporation      & Not Renewd & 1 & 1\\\\\n",
       "\t spacesoluciones corporativas & Not Renewd & 1 & 1\\\\\n",
       "\t spacevautron                 & Not Renewd & 1 & 1\\\\\n",
       "\t spacewebnames                & Not Renewd & 1 & 1\\\\\n",
       "\t storeeims                    & Not Renewd & 1 & 1\\\\\n",
       "\t storeguzel hosting           & Not Renewd & 1 & 1\\\\\n",
       "\t storehostens                 & Not Renewd & 1 & 1\\\\\n",
       "\t storeregistrator domenov     & Not Renewd & 1 & 1\\\\\n",
       "\t storeweb4africa              & Not Renewd & 1 & 1\\\\\n",
       "\t storeworld4you               & Not Renewd & 1 & 1\\\\\n",
       "\t techdomeny.pl                & Not Renewd & 1 & 1\\\\\n",
       "\t techejee group               & Not Renewd & 1 & 1\\\\\n",
       "\t techgridhost                 & Not Renewd & 1 & 1\\\\\n",
       "\t techhostens                  & Not Renewd & 1 & 1\\\\\n",
       "\t techipage pdr ltd            & Not Renewd & 1 & 1\\\\\n",
       "\t techmelbourne it             & Not Renewd & 1 & 1\\\\\n",
       "\t techvariomedia               & Not Renewd & 1 & 1\\\\\n",
       "\t techwhois networks           & Not Renewd & 1 & 1\\\\\n",
       "\t techwild west                & Not Renewd & 1 & 1\\\\\n",
       "\t websitecorehub               & Not Renewd & 1 & 1\\\\\n",
       "\t websiteinterserver           & Not Renewd & 1 & 1\\\\\n",
       "\t websitenameshield            & Not Renewd & 1 & 1\\\\\n",
       "\t websiteopentld b.v.          & Not Renewd & 1 & 1\\\\\n",
       "\t websiterebrandly             & Not Renewd & 1 & 1\\\\\n",
       "\t websitesuperdominios         & Not Renewd & 1 & 1\\\\\n",
       "\t websitesuperhosting          & Not Renewd & 1 & 1\\\\\n",
       "\t websitesynergy wholesale     & Not Renewd & 1 & 1\\\\\n",
       "\t websitewhogohost             & Not Renewd & 1 & 1\\\\\n",
       "\t websitewild west             & Not Renewd & 1 & 1\\\\\n",
       "\t websitexpress                & Not Renewd & 1 & 1\\\\\n",
       "\\end{tabular}\n"
      ],
      "text/markdown": [
       "\n",
       "A grouped_df: 274 × 4\n",
       "\n",
       "| tld_registrar_index &lt;chr&gt; | renewal_status &lt;fct&gt; | n &lt;int&gt; | freq &lt;dbl&gt; |\n",
       "|---|---|---|---|\n",
       "| funzhengzhou century connect     | Not Renewd | 1151 | 1 |\n",
       "| sitepdr china                    | Not Renewd |  561 | 1 |\n",
       "| onlinepdr china                  | Not Renewd |  278 | 1 |\n",
       "| spaceeranet                      | Not Renewd |  210 | 1 |\n",
       "| spaceglobal domains              | Not Renewd |  103 | 1 |\n",
       "| funmoniker                       | Not Renewd |   97 | 1 |\n",
       "| siteeranet                       | Not Renewd |   94 | 1 |\n",
       "| siteidwebhost                    | Not Renewd |   90 | 1 |\n",
       "| sitenethouse                     | Not Renewd |   89 | 1 |\n",
       "| spaceniaga hoster                | Not Renewd |   71 | 1 |\n",
       "| hostglobal domains               | Not Renewd |   69 | 1 |\n",
       "| sitedomains4bitcoins             | Not Renewd |   69 | 1 |\n",
       "| websitebeget                     | Not Renewd |   62 | 1 |\n",
       "| siteshanghai meicheng            | Not Renewd |   61 | 1 |\n",
       "| hostdomains4bitcoins             | Not Renewd |   50 | 1 |\n",
       "| presszhengzhou zitian            | Not Renewd |   44 | 1 |\n",
       "| storebeon intermedia             | Not Renewd |   43 | 1 |\n",
       "| websitedomains4bitcoins          | Not Renewd |   40 | 1 |\n",
       "| onlinenicenic                    | Not Renewd |   33 | 1 |\n",
       "| sitecafe24                       | Not Renewd |   29 | 1 |\n",
       "| sitenicenic                      | Not Renewd |   29 | 1 |\n",
       "| websiteshanghai best oray        | Not Renewd |   26 | 1 |\n",
       "| onlineeranet                     | Not Renewd |   25 | 1 |\n",
       "| techdomains4bitcoins             | Not Renewd |   24 | 1 |\n",
       "| funnicenic                       | Not Renewd |   22 | 1 |\n",
       "| hostgmo                          | Not Renewd |   21 | 1 |\n",
       "| storenhan hoa software           | Not Renewd |   21 | 1 |\n",
       "| fundomains4bitcoins              | Not Renewd |   20 | 1 |\n",
       "| storenicenic                     | Not Renewd |   19 | 1 |\n",
       "| technicenic                      | Not Renewd |   19 | 1 |\n",
       "| storedomains4bitcoins            | Not Renewd |   18 | 1 |\n",
       "| websitexin net                   | Not Renewd |   18 | 1 |\n",
       "| funbeon intermedia               | Not Renewd |   15 | 1 |\n",
       "| onlinezhengzhou century connect  | Not Renewd |   15 | 1 |\n",
       "| storexiamen chinasource          | Not Renewd |   15 | 1 |\n",
       "| funepik llc                      | Not Renewd |   14 | 1 |\n",
       "| spacedomains4bitcoins            | Not Renewd |   14 | 1 |\n",
       "| websitebizcn                     | Not Renewd |   14 | 1 |\n",
       "| storebizcn                       | Not Renewd |   13 | 1 |\n",
       "| storeinterneto vizija            | Not Renewd |   13 | 1 |\n",
       "| technics telekom                 | Not Renewd |   13 | 1 |\n",
       "| websiteepik llc                  | Not Renewd |   13 | 1 |\n",
       "| funfbs                           | Not Renewd |   12 | 1 |\n",
       "| pressfbs                         | Not Renewd |   12 | 1 |\n",
       "| site1&amp;1 internet                 | Not Renewd |   12 | 1 |\n",
       "| store22net inc                   | Not Renewd |   12 | 1 |\n",
       "| websiterumahweb                  | Not Renewd |   12 | 1 |\n",
       "| websitezhengzhou century connect | Not Renewd |   12 | 1 |\n",
       "| funhosting ukraine               | Not Renewd |   11 | 1 |\n",
       "| sitewebsupport.sk                | Not Renewd |   11 | 1 |\n",
       "| ⋮ | ⋮ | ⋮ | ⋮ |\n",
       "| pwligne web services         | Not Renewd | 1 | 1 |\n",
       "| pwtimeweb                    | Not Renewd | 1 | 1 |\n",
       "| pwxiamen nawang              | Not Renewd | 1 | 1 |\n",
       "| siteactive 24                | Not Renewd | 1 | 1 |\n",
       "| sitedominios.pt              | Not Renewd | 1 | 1 |\n",
       "| siteforpsi                   | Not Renewd | 1 | 1 |\n",
       "| sitehoststar                 | Not Renewd | 1 | 1 |\n",
       "| siteipage domain.com         | Not Renewd | 1 | 1 |\n",
       "| sitejiangsu bangning         | Not Renewd | 1 | 1 |\n",
       "| sitekinghost                 | Not Renewd | 1 | 1 |\n",
       "| siteopentld b.v.             | Not Renewd | 1 | 1 |\n",
       "| siteqhoster                  | Not Renewd | 1 | 1 |\n",
       "| sitesiteground               | Not Renewd | 1 | 1 |\n",
       "| sitetecnocratica centro      | Not Renewd | 1 | 1 |\n",
       "| siteumbler                   | Not Renewd | 1 | 1 |\n",
       "| space1stdomains              | Not Renewd | 1 | 1 |\n",
       "| spaceafrihost                | Not Renewd | 1 | 1 |\n",
       "| spaceaz.pl                   | Not Renewd | 1 | 1 |\n",
       "| spacecafe24                  | Not Renewd | 1 | 1 |\n",
       "| spacednc holdings            | Not Renewd | 1 | 1 |\n",
       "| spaceinstra corporation      | Not Renewd | 1 | 1 |\n",
       "| spacesoluciones corporativas | Not Renewd | 1 | 1 |\n",
       "| spacevautron                 | Not Renewd | 1 | 1 |\n",
       "| spacewebnames                | Not Renewd | 1 | 1 |\n",
       "| storeeims                    | Not Renewd | 1 | 1 |\n",
       "| storeguzel hosting           | Not Renewd | 1 | 1 |\n",
       "| storehostens                 | Not Renewd | 1 | 1 |\n",
       "| storeregistrator domenov     | Not Renewd | 1 | 1 |\n",
       "| storeweb4africa              | Not Renewd | 1 | 1 |\n",
       "| storeworld4you               | Not Renewd | 1 | 1 |\n",
       "| techdomeny.pl                | Not Renewd | 1 | 1 |\n",
       "| techejee group               | Not Renewd | 1 | 1 |\n",
       "| techgridhost                 | Not Renewd | 1 | 1 |\n",
       "| techhostens                  | Not Renewd | 1 | 1 |\n",
       "| techipage pdr ltd            | Not Renewd | 1 | 1 |\n",
       "| techmelbourne it             | Not Renewd | 1 | 1 |\n",
       "| techvariomedia               | Not Renewd | 1 | 1 |\n",
       "| techwhois networks           | Not Renewd | 1 | 1 |\n",
       "| techwild west                | Not Renewd | 1 | 1 |\n",
       "| websitecorehub               | Not Renewd | 1 | 1 |\n",
       "| websiteinterserver           | Not Renewd | 1 | 1 |\n",
       "| websitenameshield            | Not Renewd | 1 | 1 |\n",
       "| websiteopentld b.v.          | Not Renewd | 1 | 1 |\n",
       "| websiterebrandly             | Not Renewd | 1 | 1 |\n",
       "| websitesuperdominios         | Not Renewd | 1 | 1 |\n",
       "| websitesuperhosting          | Not Renewd | 1 | 1 |\n",
       "| websitesynergy wholesale     | Not Renewd | 1 | 1 |\n",
       "| websitewhogohost             | Not Renewd | 1 | 1 |\n",
       "| websitewild west             | Not Renewd | 1 | 1 |\n",
       "| websitexpress                | Not Renewd | 1 | 1 |\n",
       "\n"
      ],
      "text/plain": [
       "    tld_registrar_index              renewal_status n    freq\n",
       "1   funzhengzhou century connect     Not Renewd     1151 1   \n",
       "2   sitepdr china                    Not Renewd      561 1   \n",
       "3   onlinepdr china                  Not Renewd      278 1   \n",
       "4   spaceeranet                      Not Renewd      210 1   \n",
       "5   spaceglobal domains              Not Renewd      103 1   \n",
       "6   funmoniker                       Not Renewd       97 1   \n",
       "7   siteeranet                       Not Renewd       94 1   \n",
       "8   siteidwebhost                    Not Renewd       90 1   \n",
       "9   sitenethouse                     Not Renewd       89 1   \n",
       "10  spaceniaga hoster                Not Renewd       71 1   \n",
       "11  hostglobal domains               Not Renewd       69 1   \n",
       "12  sitedomains4bitcoins             Not Renewd       69 1   \n",
       "13  websitebeget                     Not Renewd       62 1   \n",
       "14  siteshanghai meicheng            Not Renewd       61 1   \n",
       "15  hostdomains4bitcoins             Not Renewd       50 1   \n",
       "16  presszhengzhou zitian            Not Renewd       44 1   \n",
       "17  storebeon intermedia             Not Renewd       43 1   \n",
       "18  websitedomains4bitcoins          Not Renewd       40 1   \n",
       "19  onlinenicenic                    Not Renewd       33 1   \n",
       "20  sitecafe24                       Not Renewd       29 1   \n",
       "21  sitenicenic                      Not Renewd       29 1   \n",
       "22  websiteshanghai best oray        Not Renewd       26 1   \n",
       "23  onlineeranet                     Not Renewd       25 1   \n",
       "24  techdomains4bitcoins             Not Renewd       24 1   \n",
       "25  funnicenic                       Not Renewd       22 1   \n",
       "26  hostgmo                          Not Renewd       21 1   \n",
       "27  storenhan hoa software           Not Renewd       21 1   \n",
       "28  fundomains4bitcoins              Not Renewd       20 1   \n",
       "29  storenicenic                     Not Renewd       19 1   \n",
       "30  technicenic                      Not Renewd       19 1   \n",
       "31  storedomains4bitcoins            Not Renewd       18 1   \n",
       "32  websitexin net                   Not Renewd       18 1   \n",
       "33  funbeon intermedia               Not Renewd       15 1   \n",
       "34  onlinezhengzhou century connect  Not Renewd       15 1   \n",
       "35  storexiamen chinasource          Not Renewd       15 1   \n",
       "36  funepik llc                      Not Renewd       14 1   \n",
       "37  spacedomains4bitcoins            Not Renewd       14 1   \n",
       "38  websitebizcn                     Not Renewd       14 1   \n",
       "39  storebizcn                       Not Renewd       13 1   \n",
       "40  storeinterneto vizija            Not Renewd       13 1   \n",
       "41  technics telekom                 Not Renewd       13 1   \n",
       "42  websiteepik llc                  Not Renewd       13 1   \n",
       "43  funfbs                           Not Renewd       12 1   \n",
       "44  pressfbs                         Not Renewd       12 1   \n",
       "45  site1&1 internet                 Not Renewd       12 1   \n",
       "46  store22net inc                   Not Renewd       12 1   \n",
       "47  websiterumahweb                  Not Renewd       12 1   \n",
       "48  websitezhengzhou century connect Not Renewd       12 1   \n",
       "49  funhosting ukraine               Not Renewd       11 1   \n",
       "50  sitewebsupport.sk                Not Renewd       11 1   \n",
       "⋮   ⋮                                ⋮              ⋮    ⋮   \n",
       "225 pwligne web services             Not Renewd     1    1   \n",
       "226 pwtimeweb                        Not Renewd     1    1   \n",
       "227 pwxiamen nawang                  Not Renewd     1    1   \n",
       "228 siteactive 24                    Not Renewd     1    1   \n",
       "229 sitedominios.pt                  Not Renewd     1    1   \n",
       "230 siteforpsi                       Not Renewd     1    1   \n",
       "231 sitehoststar                     Not Renewd     1    1   \n",
       "232 siteipage domain.com             Not Renewd     1    1   \n",
       "233 sitejiangsu bangning             Not Renewd     1    1   \n",
       "234 sitekinghost                     Not Renewd     1    1   \n",
       "235 siteopentld b.v.                 Not Renewd     1    1   \n",
       "236 siteqhoster                      Not Renewd     1    1   \n",
       "237 sitesiteground                   Not Renewd     1    1   \n",
       "238 sitetecnocratica centro          Not Renewd     1    1   \n",
       "239 siteumbler                       Not Renewd     1    1   \n",
       "240 space1stdomains                  Not Renewd     1    1   \n",
       "241 spaceafrihost                    Not Renewd     1    1   \n",
       "242 spaceaz.pl                       Not Renewd     1    1   \n",
       "243 spacecafe24                      Not Renewd     1    1   \n",
       "244 spacednc holdings                Not Renewd     1    1   \n",
       "245 spaceinstra corporation          Not Renewd     1    1   \n",
       "246 spacesoluciones corporativas     Not Renewd     1    1   \n",
       "247 spacevautron                     Not Renewd     1    1   \n",
       "248 spacewebnames                    Not Renewd     1    1   \n",
       "249 storeeims                        Not Renewd     1    1   \n",
       "250 storeguzel hosting               Not Renewd     1    1   \n",
       "251 storehostens                     Not Renewd     1    1   \n",
       "252 storeregistrator domenov         Not Renewd     1    1   \n",
       "253 storeweb4africa                  Not Renewd     1    1   \n",
       "254 storeworld4you                   Not Renewd     1    1   \n",
       "255 techdomeny.pl                    Not Renewd     1    1   \n",
       "256 techejee group                   Not Renewd     1    1   \n",
       "257 techgridhost                     Not Renewd     1    1   \n",
       "258 techhostens                      Not Renewd     1    1   \n",
       "259 techipage pdr ltd                Not Renewd     1    1   \n",
       "260 techmelbourne it                 Not Renewd     1    1   \n",
       "261 techvariomedia                   Not Renewd     1    1   \n",
       "262 techwhois networks               Not Renewd     1    1   \n",
       "263 techwild west                    Not Renewd     1    1   \n",
       "264 websitecorehub                   Not Renewd     1    1   \n",
       "265 websiteinterserver               Not Renewd     1    1   \n",
       "266 websitenameshield                Not Renewd     1    1   \n",
       "267 websiteopentld b.v.              Not Renewd     1    1   \n",
       "268 websiterebrandly                 Not Renewd     1    1   \n",
       "269 websitesuperdominios             Not Renewd     1    1   \n",
       "270 websitesuperhosting              Not Renewd     1    1   \n",
       "271 websitesynergy wholesale         Not Renewd     1    1   \n",
       "272 websitewhogohost                 Not Renewd     1    1   \n",
       "273 websitewild west                 Not Renewd     1    1   \n",
       "274 websitexpress                    Not Renewd     1    1   "
      ]
     },
     "metadata": {},
     "output_type": "display_data"
    }
   ],
   "source": [
    "expiry_test_df_1 %>% \n",
    "  filter(tld_registrar_index %in% tld_reseller_NAs) %>% \n",
    "  group_by(tld_registrar_index,renewal_status) %>%\n",
    "  summarise(n = n()) %>%\n",
    "  mutate(freq = n / sum(n)) %>%\n",
    "  arrange(desc(n))"
   ]
  },
  {
   "cell_type": "markdown",
   "metadata": {},
   "source": [
    "# proportion of wins by each class - NA removed"
   ]
  },
  {
   "cell_type": "code",
   "execution_count": 46,
   "metadata": {},
   "outputs": [
    {
     "data": {
      "text/html": [
       "<style>\n",
       ".list-inline {list-style: none; margin:0; padding: 0}\n",
       ".list-inline>li {display: inline-block}\n",
       ".list-inline>li:not(:last-child)::after {content: \"\\00b7\"; padding: 0 .5ex}\n",
       "</style>\n",
       "<ol class=list-inline><li>1058</li><li>59</li></ol>\n"
      ],
      "text/latex": [
       "\\begin{enumerate*}\n",
       "\\item 1058\n",
       "\\item 59\n",
       "\\end{enumerate*}\n"
      ],
      "text/markdown": [
       "1. 1058\n",
       "2. 59\n",
       "\n",
       "\n"
      ],
      "text/plain": [
       "[1] 1058   59"
      ]
     },
     "metadata": {},
     "output_type": "display_data"
    }
   ],
   "source": [
    "metrics_df <- metrics_df %>% filter(!is.na(auc_win)) \n",
    "dim(metrics_df)"
   ]
  },
  {
   "cell_type": "code",
   "execution_count": 47,
   "metadata": {},
   "outputs": [
    {
     "data": {
      "text/html": [
       "<table>\n",
       "<caption>A tibble: 6 × 2</caption>\n",
       "<thead>\n",
       "\t<tr><th scope=col>auc_win</th><th scope=col>n</th></tr>\n",
       "\t<tr><th scope=col>&lt;chr&gt;</th><th scope=col>&lt;int&gt;</th></tr>\n",
       "</thead>\n",
       "<tbody>\n",
       "\t<tr><td>auc_seg2_glm</td><td>433</td></tr>\n",
       "\t<tr><td>auc_seg_glm </td><td>176</td></tr>\n",
       "\t<tr><td>auc_agg_glm </td><td>144</td></tr>\n",
       "\t<tr><td>auc_seg_rf  </td><td>117</td></tr>\n",
       "\t<tr><td>auc_agg_rf  </td><td> 94</td></tr>\n",
       "\t<tr><td>auc_seg2_rf </td><td> 94</td></tr>\n",
       "</tbody>\n",
       "</table>\n"
      ],
      "text/latex": [
       "A tibble: 6 × 2\n",
       "\\begin{tabular}{ll}\n",
       " auc\\_win & n\\\\\n",
       " <chr> & <int>\\\\\n",
       "\\hline\n",
       "\t auc\\_seg2\\_glm & 433\\\\\n",
       "\t auc\\_seg\\_glm  & 176\\\\\n",
       "\t auc\\_agg\\_glm  & 144\\\\\n",
       "\t auc\\_seg\\_rf   & 117\\\\\n",
       "\t auc\\_agg\\_rf   &  94\\\\\n",
       "\t auc\\_seg2\\_rf  &  94\\\\\n",
       "\\end{tabular}\n"
      ],
      "text/markdown": [
       "\n",
       "A tibble: 6 × 2\n",
       "\n",
       "| auc_win &lt;chr&gt; | n &lt;int&gt; |\n",
       "|---|---|\n",
       "| auc_seg2_glm | 433 |\n",
       "| auc_seg_glm  | 176 |\n",
       "| auc_agg_glm  | 144 |\n",
       "| auc_seg_rf   | 117 |\n",
       "| auc_agg_rf   |  94 |\n",
       "| auc_seg2_rf  |  94 |\n",
       "\n"
      ],
      "text/plain": [
       "  auc_win      n  \n",
       "1 auc_seg2_glm 433\n",
       "2 auc_seg_glm  176\n",
       "3 auc_agg_glm  144\n",
       "4 auc_seg_rf   117\n",
       "5 auc_agg_rf    94\n",
       "6 auc_seg2_rf   94"
      ]
     },
     "metadata": {},
     "output_type": "display_data"
    }
   ],
   "source": [
    "metrics_df %>% \n",
    "    group_by(auc_win) %>%\n",
    "    tally() %>%\n",
    "    arrange(desc(n))"
   ]
  },
  {
   "cell_type": "code",
   "execution_count": 48,
   "metadata": {},
   "outputs": [
    {
     "data": {
      "text/html": [
       "<table>\n",
       "<caption>A tibble: 6 × 2</caption>\n",
       "<thead>\n",
       "\t<tr><th scope=col>l10_win</th><th scope=col>n</th></tr>\n",
       "\t<tr><th scope=col>&lt;chr&gt;</th><th scope=col>&lt;int&gt;</th></tr>\n",
       "</thead>\n",
       "<tbody>\n",
       "\t<tr><td>l10_seg2_glm</td><td>603</td></tr>\n",
       "\t<tr><td>l10_seg_glm </td><td>158</td></tr>\n",
       "\t<tr><td>l10_agg_glm </td><td>104</td></tr>\n",
       "\t<tr><td>l10_seg2_rf </td><td>100</td></tr>\n",
       "\t<tr><td>l10_seg_rf  </td><td> 51</td></tr>\n",
       "\t<tr><td>l10_agg_rf  </td><td> 42</td></tr>\n",
       "</tbody>\n",
       "</table>\n"
      ],
      "text/latex": [
       "A tibble: 6 × 2\n",
       "\\begin{tabular}{ll}\n",
       " l10\\_win & n\\\\\n",
       " <chr> & <int>\\\\\n",
       "\\hline\n",
       "\t l10\\_seg2\\_glm & 603\\\\\n",
       "\t l10\\_seg\\_glm  & 158\\\\\n",
       "\t l10\\_agg\\_glm  & 104\\\\\n",
       "\t l10\\_seg2\\_rf  & 100\\\\\n",
       "\t l10\\_seg\\_rf   &  51\\\\\n",
       "\t l10\\_agg\\_rf   &  42\\\\\n",
       "\\end{tabular}\n"
      ],
      "text/markdown": [
       "\n",
       "A tibble: 6 × 2\n",
       "\n",
       "| l10_win &lt;chr&gt; | n &lt;int&gt; |\n",
       "|---|---|\n",
       "| l10_seg2_glm | 603 |\n",
       "| l10_seg_glm  | 158 |\n",
       "| l10_agg_glm  | 104 |\n",
       "| l10_seg2_rf  | 100 |\n",
       "| l10_seg_rf   |  51 |\n",
       "| l10_agg_rf   |  42 |\n",
       "\n"
      ],
      "text/plain": [
       "  l10_win      n  \n",
       "1 l10_seg2_glm 603\n",
       "2 l10_seg_glm  158\n",
       "3 l10_agg_glm  104\n",
       "4 l10_seg2_rf  100\n",
       "5 l10_seg_rf    51\n",
       "6 l10_agg_rf    42"
      ]
     },
     "metadata": {},
     "output_type": "display_data"
    }
   ],
   "source": [
    "metrics_df %>% \n",
    "    group_by(l10_win) %>%\n",
    "    tally() %>%\n",
    "    arrange(desc(n))"
   ]
  },
  {
   "cell_type": "markdown",
   "metadata": {},
   "source": [
    "# ***MULTICLASS RF***"
   ]
  },
  {
   "cell_type": "markdown",
   "metadata": {},
   "source": [
    "# Data Prep"
   ]
  },
  {
   "cell_type": "code",
   "execution_count": 49,
   "metadata": {},
   "outputs": [],
   "source": [
    "metrics_df <- metrics_df %>%\n",
    "  mutate_if(sapply(metrics_df, is.character), as.factor)"
   ]
  },
  {
   "cell_type": "code",
   "execution_count": 50,
   "metadata": {},
   "outputs": [
    {
     "name": "stderr",
     "output_type": "stream",
     "text": [
      "Warning message:\n",
      "“`funs()` is deprecated as of dplyr 0.8.0.\n",
      "Please use a list of either functions or lambdas: \n",
      "\n",
      "  # Simple named list: \n",
      "  list(mean = mean, median = median)\n",
      "\n",
      "  # Auto named with `tibble::lst()`: \n",
      "  tibble::lst(mean, median)\n",
      "\n",
      "  # Using lambdas\n",
      "  list(~ mean(., trim = .2), ~ median(., na.rm = TRUE))\n",
      "\u001b[90mThis warning is displayed once every 8 hours.\u001b[39m\n",
      "\u001b[90mCall `lifecycle::last_warnings()` to see where this warning was generated.\u001b[39m”\n"
     ]
    },
    {
     "data": {
      "text/html": [
       "<table>\n",
       "<caption>A matrix: 59 × 1 of type int</caption>\n",
       "<tbody>\n",
       "\t<tr><th scope=row>l10_seg2_glm</th><td>  0</td></tr>\n",
       "\t<tr><th scope=row>l10_seg_glm</th><td>  0</td></tr>\n",
       "\t<tr><th scope=row>l10_agg_glm</th><td>  0</td></tr>\n",
       "\t<tr><th scope=row>l10_seg2_rf</th><td>  0</td></tr>\n",
       "\t<tr><th scope=row>l10_seg_rf</th><td>  0</td></tr>\n",
       "\t<tr><th scope=row>l10_agg_rf</th><td>  0</td></tr>\n",
       "\t<tr><th scope=row>auc_seg2_glm</th><td>  0</td></tr>\n",
       "\t<tr><th scope=row>auc_seg_glm</th><td>  0</td></tr>\n",
       "\t<tr><th scope=row>auc_agg_glm</th><td>  0</td></tr>\n",
       "\t<tr><th scope=row>auc_seg2_rf</th><td>  0</td></tr>\n",
       "\t<tr><th scope=row>auc_seg_rf</th><td>  0</td></tr>\n",
       "\t<tr><th scope=row>auc_agg_rf</th><td>  0</td></tr>\n",
       "\t<tr><th scope=row>tld_reseller</th><td>  0</td></tr>\n",
       "\t<tr><th scope=row>count</th><td>  0</td></tr>\n",
       "\t<tr><th scope=row>ren_prp</th><td>  0</td></tr>\n",
       "\t<tr><th scope=row>tld_rat</th><td>  0</td></tr>\n",
       "\t<tr><th scope=row>country_maj</th><td>  0</td></tr>\n",
       "\t<tr><th scope=row>region_maj</th><td>  0</td></tr>\n",
       "\t<tr><th scope=row>country_cnt</th><td>  0</td></tr>\n",
       "\t<tr><th scope=row>region_cnt</th><td>  0</td></tr>\n",
       "\t<tr><th scope=row>geo_cnt</th><td>  0</td></tr>\n",
       "\t<tr><th scope=row>geo_maj</th><td> 30</td></tr>\n",
       "\t<tr><th scope=row>daydom_min</th><td>  0</td></tr>\n",
       "\t<tr><th scope=row>daydom_max</th><td>  0</td></tr>\n",
       "\t<tr><th scope=row>daydom_mean</th><td>  0</td></tr>\n",
       "\t<tr><th scope=row>daydom_rng</th><td>  0</td></tr>\n",
       "\t<tr><th scope=row>daydom_std</th><td> 22</td></tr>\n",
       "\t<tr><th scope=row>daydom_skew</th><td>174</td></tr>\n",
       "\t<tr><th scope=row>daydom_kurt</th><td>174</td></tr>\n",
       "\t<tr><th scope=row>sldlen_min</th><td>  0</td></tr>\n",
       "\t<tr><th scope=row>sldlen_max</th><td>  0</td></tr>\n",
       "\t<tr><th scope=row>sldlen_mean</th><td>  0</td></tr>\n",
       "\t<tr><th scope=row>sldlen_rng</th><td>  0</td></tr>\n",
       "\t<tr><th scope=row>sldlen_std</th><td> 22</td></tr>\n",
       "\t<tr><th scope=row>sldlen_skew</th><td> 26</td></tr>\n",
       "\t<tr><th scope=row>sldlen_kurt</th><td> 26</td></tr>\n",
       "\t<tr><th scope=row>gibbs_min</th><td>  0</td></tr>\n",
       "\t<tr><th scope=row>gibbs_max</th><td>  0</td></tr>\n",
       "\t<tr><th scope=row>gibbs_mean</th><td>  0</td></tr>\n",
       "\t<tr><th scope=row>gibbs_rng</th><td>  0</td></tr>\n",
       "\t<tr><th scope=row>gibbs_std</th><td> 22</td></tr>\n",
       "\t<tr><th scope=row>gibbs_skew</th><td> 24</td></tr>\n",
       "\t<tr><th scope=row>gibbs_kurt</th><td> 24</td></tr>\n",
       "\t<tr><th scope=row>pdcnt_min</th><td>  0</td></tr>\n",
       "\t<tr><th scope=row>pdcnt_max</th><td>  0</td></tr>\n",
       "\t<tr><th scope=row>pdcnt_mean</th><td>  0</td></tr>\n",
       "\t<tr><th scope=row>pdcnt_rng</th><td>  0</td></tr>\n",
       "\t<tr><th scope=row>pdcnt_std</th><td> 22</td></tr>\n",
       "\t<tr><th scope=row>pdcnt_skew</th><td>326</td></tr>\n",
       "\t<tr><th scope=row>pdcnt_kurt</th><td>326</td></tr>\n",
       "\t<tr><th scope=row>rarpt_min</th><td>  0</td></tr>\n",
       "\t<tr><th scope=row>rarpt_max</th><td>  0</td></tr>\n",
       "\t<tr><th scope=row>rarpt_mean</th><td>  0</td></tr>\n",
       "\t<tr><th scope=row>rarpt_rng</th><td>  0</td></tr>\n",
       "\t<tr><th scope=row>rarpt_std</th><td> 22</td></tr>\n",
       "\t<tr><th scope=row>rarpt_skew</th><td>523</td></tr>\n",
       "\t<tr><th scope=row>rarpt_kurt</th><td>523</td></tr>\n",
       "\t<tr><th scope=row>auc_win</th><td>  0</td></tr>\n",
       "\t<tr><th scope=row>l10_win</th><td>  0</td></tr>\n",
       "</tbody>\n",
       "</table>\n"
      ],
      "text/latex": [
       "A matrix: 59 × 1 of type int\n",
       "\\begin{tabular}{r|l}\n",
       "\tl10\\_seg2\\_glm &   0\\\\\n",
       "\tl10\\_seg\\_glm &   0\\\\\n",
       "\tl10\\_agg\\_glm &   0\\\\\n",
       "\tl10\\_seg2\\_rf &   0\\\\\n",
       "\tl10\\_seg\\_rf &   0\\\\\n",
       "\tl10\\_agg\\_rf &   0\\\\\n",
       "\tauc\\_seg2\\_glm &   0\\\\\n",
       "\tauc\\_seg\\_glm &   0\\\\\n",
       "\tauc\\_agg\\_glm &   0\\\\\n",
       "\tauc\\_seg2\\_rf &   0\\\\\n",
       "\tauc\\_seg\\_rf &   0\\\\\n",
       "\tauc\\_agg\\_rf &   0\\\\\n",
       "\ttld\\_reseller &   0\\\\\n",
       "\tcount &   0\\\\\n",
       "\tren\\_prp &   0\\\\\n",
       "\ttld\\_rat &   0\\\\\n",
       "\tcountry\\_maj &   0\\\\\n",
       "\tregion\\_maj &   0\\\\\n",
       "\tcountry\\_cnt &   0\\\\\n",
       "\tregion\\_cnt &   0\\\\\n",
       "\tgeo\\_cnt &   0\\\\\n",
       "\tgeo\\_maj &  30\\\\\n",
       "\tdaydom\\_min &   0\\\\\n",
       "\tdaydom\\_max &   0\\\\\n",
       "\tdaydom\\_mean &   0\\\\\n",
       "\tdaydom\\_rng &   0\\\\\n",
       "\tdaydom\\_std &  22\\\\\n",
       "\tdaydom\\_skew & 174\\\\\n",
       "\tdaydom\\_kurt & 174\\\\\n",
       "\tsldlen\\_min &   0\\\\\n",
       "\tsldlen\\_max &   0\\\\\n",
       "\tsldlen\\_mean &   0\\\\\n",
       "\tsldlen\\_rng &   0\\\\\n",
       "\tsldlen\\_std &  22\\\\\n",
       "\tsldlen\\_skew &  26\\\\\n",
       "\tsldlen\\_kurt &  26\\\\\n",
       "\tgibbs\\_min &   0\\\\\n",
       "\tgibbs\\_max &   0\\\\\n",
       "\tgibbs\\_mean &   0\\\\\n",
       "\tgibbs\\_rng &   0\\\\\n",
       "\tgibbs\\_std &  22\\\\\n",
       "\tgibbs\\_skew &  24\\\\\n",
       "\tgibbs\\_kurt &  24\\\\\n",
       "\tpdcnt\\_min &   0\\\\\n",
       "\tpdcnt\\_max &   0\\\\\n",
       "\tpdcnt\\_mean &   0\\\\\n",
       "\tpdcnt\\_rng &   0\\\\\n",
       "\tpdcnt\\_std &  22\\\\\n",
       "\tpdcnt\\_skew & 326\\\\\n",
       "\tpdcnt\\_kurt & 326\\\\\n",
       "\trarpt\\_min &   0\\\\\n",
       "\trarpt\\_max &   0\\\\\n",
       "\trarpt\\_mean &   0\\\\\n",
       "\trarpt\\_rng &   0\\\\\n",
       "\trarpt\\_std &  22\\\\\n",
       "\trarpt\\_skew & 523\\\\\n",
       "\trarpt\\_kurt & 523\\\\\n",
       "\tauc\\_win &   0\\\\\n",
       "\tl10\\_win &   0\\\\\n",
       "\\end{tabular}\n"
      ],
      "text/markdown": [
       "\n",
       "A matrix: 59 × 1 of type int\n",
       "\n",
       "| l10_seg2_glm |   0 |\n",
       "| l10_seg_glm |   0 |\n",
       "| l10_agg_glm |   0 |\n",
       "| l10_seg2_rf |   0 |\n",
       "| l10_seg_rf |   0 |\n",
       "| l10_agg_rf |   0 |\n",
       "| auc_seg2_glm |   0 |\n",
       "| auc_seg_glm |   0 |\n",
       "| auc_agg_glm |   0 |\n",
       "| auc_seg2_rf |   0 |\n",
       "| auc_seg_rf |   0 |\n",
       "| auc_agg_rf |   0 |\n",
       "| tld_reseller |   0 |\n",
       "| count |   0 |\n",
       "| ren_prp |   0 |\n",
       "| tld_rat |   0 |\n",
       "| country_maj |   0 |\n",
       "| region_maj |   0 |\n",
       "| country_cnt |   0 |\n",
       "| region_cnt |   0 |\n",
       "| geo_cnt |   0 |\n",
       "| geo_maj |  30 |\n",
       "| daydom_min |   0 |\n",
       "| daydom_max |   0 |\n",
       "| daydom_mean |   0 |\n",
       "| daydom_rng |   0 |\n",
       "| daydom_std |  22 |\n",
       "| daydom_skew | 174 |\n",
       "| daydom_kurt | 174 |\n",
       "| sldlen_min |   0 |\n",
       "| sldlen_max |   0 |\n",
       "| sldlen_mean |   0 |\n",
       "| sldlen_rng |   0 |\n",
       "| sldlen_std |  22 |\n",
       "| sldlen_skew |  26 |\n",
       "| sldlen_kurt |  26 |\n",
       "| gibbs_min |   0 |\n",
       "| gibbs_max |   0 |\n",
       "| gibbs_mean |   0 |\n",
       "| gibbs_rng |   0 |\n",
       "| gibbs_std |  22 |\n",
       "| gibbs_skew |  24 |\n",
       "| gibbs_kurt |  24 |\n",
       "| pdcnt_min |   0 |\n",
       "| pdcnt_max |   0 |\n",
       "| pdcnt_mean |   0 |\n",
       "| pdcnt_rng |   0 |\n",
       "| pdcnt_std |  22 |\n",
       "| pdcnt_skew | 326 |\n",
       "| pdcnt_kurt | 326 |\n",
       "| rarpt_min |   0 |\n",
       "| rarpt_max |   0 |\n",
       "| rarpt_mean |   0 |\n",
       "| rarpt_rng |   0 |\n",
       "| rarpt_std |  22 |\n",
       "| rarpt_skew | 523 |\n",
       "| rarpt_kurt | 523 |\n",
       "| auc_win |   0 |\n",
       "| l10_win |   0 |\n",
       "\n"
      ],
      "text/plain": [
       "             [,1]\n",
       "l10_seg2_glm   0 \n",
       "l10_seg_glm    0 \n",
       "l10_agg_glm    0 \n",
       "l10_seg2_rf    0 \n",
       "l10_seg_rf     0 \n",
       "l10_agg_rf     0 \n",
       "auc_seg2_glm   0 \n",
       "auc_seg_glm    0 \n",
       "auc_agg_glm    0 \n",
       "auc_seg2_rf    0 \n",
       "auc_seg_rf     0 \n",
       "auc_agg_rf     0 \n",
       "tld_reseller   0 \n",
       "count          0 \n",
       "ren_prp        0 \n",
       "tld_rat        0 \n",
       "country_maj    0 \n",
       "region_maj     0 \n",
       "country_cnt    0 \n",
       "region_cnt     0 \n",
       "geo_cnt        0 \n",
       "geo_maj       30 \n",
       "daydom_min     0 \n",
       "daydom_max     0 \n",
       "daydom_mean    0 \n",
       "daydom_rng     0 \n",
       "daydom_std    22 \n",
       "daydom_skew  174 \n",
       "daydom_kurt  174 \n",
       "sldlen_min     0 \n",
       "sldlen_max     0 \n",
       "sldlen_mean    0 \n",
       "sldlen_rng     0 \n",
       "sldlen_std    22 \n",
       "sldlen_skew   26 \n",
       "sldlen_kurt   26 \n",
       "gibbs_min      0 \n",
       "gibbs_max      0 \n",
       "gibbs_mean     0 \n",
       "gibbs_rng      0 \n",
       "gibbs_std     22 \n",
       "gibbs_skew    24 \n",
       "gibbs_kurt    24 \n",
       "pdcnt_min      0 \n",
       "pdcnt_max      0 \n",
       "pdcnt_mean     0 \n",
       "pdcnt_rng      0 \n",
       "pdcnt_std     22 \n",
       "pdcnt_skew   326 \n",
       "pdcnt_kurt   326 \n",
       "rarpt_min      0 \n",
       "rarpt_max      0 \n",
       "rarpt_mean     0 \n",
       "rarpt_rng      0 \n",
       "rarpt_std     22 \n",
       "rarpt_skew   523 \n",
       "rarpt_kurt   523 \n",
       "auc_win        0 \n",
       "l10_win        0 "
      ]
     },
     "metadata": {},
     "output_type": "display_data"
    }
   ],
   "source": [
    "metrics_df %>%\n",
    "  select(everything()) %>%  \n",
    "  summarise_all(funs(sum(is.na(.)))) %>%  \n",
    "  t() "
   ]
  },
  {
   "cell_type": "markdown",
   "metadata": {},
   "source": [
    "## Train/Test Split"
   ]
  },
  {
   "cell_type": "code",
   "execution_count": 51,
   "metadata": {},
   "outputs": [
    {
     "data": {
      "text/html": [
       "<style>\n",
       ".list-inline {list-style: none; margin:0; padding: 0}\n",
       ".list-inline>li {display: inline-block}\n",
       ".list-inline>li:not(:last-child)::after {content: \"\\00b7\"; padding: 0 .5ex}\n",
       "</style>\n",
       "<ol class=list-inline><li>'l10_seg2_glm'</li><li>'l10_seg_glm'</li><li>'l10_agg_glm'</li><li>'l10_seg2_rf'</li><li>'l10_seg_rf'</li><li>'l10_agg_rf'</li><li>'auc_seg2_glm'</li><li>'auc_seg_glm'</li><li>'auc_agg_glm'</li><li>'auc_seg2_rf'</li><li>'auc_seg_rf'</li><li>'auc_agg_rf'</li><li>'tld_reseller'</li><li>'count'</li><li>'ren_prp'</li><li>'tld_rat'</li><li>'country_maj'</li><li>'region_maj'</li><li>'country_cnt'</li><li>'region_cnt'</li><li>'geo_cnt'</li><li>'geo_maj'</li><li>'daydom_min'</li><li>'daydom_max'</li><li>'daydom_mean'</li><li>'daydom_rng'</li><li>'daydom_std'</li><li>'daydom_skew'</li><li>'daydom_kurt'</li><li>'sldlen_min'</li><li>'sldlen_max'</li><li>'sldlen_mean'</li><li>'sldlen_rng'</li><li>'sldlen_std'</li><li>'sldlen_skew'</li><li>'sldlen_kurt'</li><li>'gibbs_min'</li><li>'gibbs_max'</li><li>'gibbs_mean'</li><li>'gibbs_rng'</li><li>'gibbs_std'</li><li>'gibbs_skew'</li><li>'gibbs_kurt'</li><li>'pdcnt_min'</li><li>'pdcnt_max'</li><li>'pdcnt_mean'</li><li>'pdcnt_rng'</li><li>'pdcnt_std'</li><li>'pdcnt_skew'</li><li>'pdcnt_kurt'</li><li>'rarpt_min'</li><li>'rarpt_max'</li><li>'rarpt_mean'</li><li>'rarpt_rng'</li><li>'rarpt_std'</li><li>'rarpt_skew'</li><li>'rarpt_kurt'</li><li>'auc_win'</li><li>'l10_win'</li></ol>\n"
      ],
      "text/latex": [
       "\\begin{enumerate*}\n",
       "\\item 'l10\\_seg2\\_glm'\n",
       "\\item 'l10\\_seg\\_glm'\n",
       "\\item 'l10\\_agg\\_glm'\n",
       "\\item 'l10\\_seg2\\_rf'\n",
       "\\item 'l10\\_seg\\_rf'\n",
       "\\item 'l10\\_agg\\_rf'\n",
       "\\item 'auc\\_seg2\\_glm'\n",
       "\\item 'auc\\_seg\\_glm'\n",
       "\\item 'auc\\_agg\\_glm'\n",
       "\\item 'auc\\_seg2\\_rf'\n",
       "\\item 'auc\\_seg\\_rf'\n",
       "\\item 'auc\\_agg\\_rf'\n",
       "\\item 'tld\\_reseller'\n",
       "\\item 'count'\n",
       "\\item 'ren\\_prp'\n",
       "\\item 'tld\\_rat'\n",
       "\\item 'country\\_maj'\n",
       "\\item 'region\\_maj'\n",
       "\\item 'country\\_cnt'\n",
       "\\item 'region\\_cnt'\n",
       "\\item 'geo\\_cnt'\n",
       "\\item 'geo\\_maj'\n",
       "\\item 'daydom\\_min'\n",
       "\\item 'daydom\\_max'\n",
       "\\item 'daydom\\_mean'\n",
       "\\item 'daydom\\_rng'\n",
       "\\item 'daydom\\_std'\n",
       "\\item 'daydom\\_skew'\n",
       "\\item 'daydom\\_kurt'\n",
       "\\item 'sldlen\\_min'\n",
       "\\item 'sldlen\\_max'\n",
       "\\item 'sldlen\\_mean'\n",
       "\\item 'sldlen\\_rng'\n",
       "\\item 'sldlen\\_std'\n",
       "\\item 'sldlen\\_skew'\n",
       "\\item 'sldlen\\_kurt'\n",
       "\\item 'gibbs\\_min'\n",
       "\\item 'gibbs\\_max'\n",
       "\\item 'gibbs\\_mean'\n",
       "\\item 'gibbs\\_rng'\n",
       "\\item 'gibbs\\_std'\n",
       "\\item 'gibbs\\_skew'\n",
       "\\item 'gibbs\\_kurt'\n",
       "\\item 'pdcnt\\_min'\n",
       "\\item 'pdcnt\\_max'\n",
       "\\item 'pdcnt\\_mean'\n",
       "\\item 'pdcnt\\_rng'\n",
       "\\item 'pdcnt\\_std'\n",
       "\\item 'pdcnt\\_skew'\n",
       "\\item 'pdcnt\\_kurt'\n",
       "\\item 'rarpt\\_min'\n",
       "\\item 'rarpt\\_max'\n",
       "\\item 'rarpt\\_mean'\n",
       "\\item 'rarpt\\_rng'\n",
       "\\item 'rarpt\\_std'\n",
       "\\item 'rarpt\\_skew'\n",
       "\\item 'rarpt\\_kurt'\n",
       "\\item 'auc\\_win'\n",
       "\\item 'l10\\_win'\n",
       "\\end{enumerate*}\n"
      ],
      "text/markdown": [
       "1. 'l10_seg2_glm'\n",
       "2. 'l10_seg_glm'\n",
       "3. 'l10_agg_glm'\n",
       "4. 'l10_seg2_rf'\n",
       "5. 'l10_seg_rf'\n",
       "6. 'l10_agg_rf'\n",
       "7. 'auc_seg2_glm'\n",
       "8. 'auc_seg_glm'\n",
       "9. 'auc_agg_glm'\n",
       "10. 'auc_seg2_rf'\n",
       "11. 'auc_seg_rf'\n",
       "12. 'auc_agg_rf'\n",
       "13. 'tld_reseller'\n",
       "14. 'count'\n",
       "15. 'ren_prp'\n",
       "16. 'tld_rat'\n",
       "17. 'country_maj'\n",
       "18. 'region_maj'\n",
       "19. 'country_cnt'\n",
       "20. 'region_cnt'\n",
       "21. 'geo_cnt'\n",
       "22. 'geo_maj'\n",
       "23. 'daydom_min'\n",
       "24. 'daydom_max'\n",
       "25. 'daydom_mean'\n",
       "26. 'daydom_rng'\n",
       "27. 'daydom_std'\n",
       "28. 'daydom_skew'\n",
       "29. 'daydom_kurt'\n",
       "30. 'sldlen_min'\n",
       "31. 'sldlen_max'\n",
       "32. 'sldlen_mean'\n",
       "33. 'sldlen_rng'\n",
       "34. 'sldlen_std'\n",
       "35. 'sldlen_skew'\n",
       "36. 'sldlen_kurt'\n",
       "37. 'gibbs_min'\n",
       "38. 'gibbs_max'\n",
       "39. 'gibbs_mean'\n",
       "40. 'gibbs_rng'\n",
       "41. 'gibbs_std'\n",
       "42. 'gibbs_skew'\n",
       "43. 'gibbs_kurt'\n",
       "44. 'pdcnt_min'\n",
       "45. 'pdcnt_max'\n",
       "46. 'pdcnt_mean'\n",
       "47. 'pdcnt_rng'\n",
       "48. 'pdcnt_std'\n",
       "49. 'pdcnt_skew'\n",
       "50. 'pdcnt_kurt'\n",
       "51. 'rarpt_min'\n",
       "52. 'rarpt_max'\n",
       "53. 'rarpt_mean'\n",
       "54. 'rarpt_rng'\n",
       "55. 'rarpt_std'\n",
       "56. 'rarpt_skew'\n",
       "57. 'rarpt_kurt'\n",
       "58. 'auc_win'\n",
       "59. 'l10_win'\n",
       "\n",
       "\n"
      ],
      "text/plain": [
       " [1] \"l10_seg2_glm\" \"l10_seg_glm\"  \"l10_agg_glm\"  \"l10_seg2_rf\"  \"l10_seg_rf\"  \n",
       " [6] \"l10_agg_rf\"   \"auc_seg2_glm\" \"auc_seg_glm\"  \"auc_agg_glm\"  \"auc_seg2_rf\" \n",
       "[11] \"auc_seg_rf\"   \"auc_agg_rf\"   \"tld_reseller\" \"count\"        \"ren_prp\"     \n",
       "[16] \"tld_rat\"      \"country_maj\"  \"region_maj\"   \"country_cnt\"  \"region_cnt\"  \n",
       "[21] \"geo_cnt\"      \"geo_maj\"      \"daydom_min\"   \"daydom_max\"   \"daydom_mean\" \n",
       "[26] \"daydom_rng\"   \"daydom_std\"   \"daydom_skew\"  \"daydom_kurt\"  \"sldlen_min\"  \n",
       "[31] \"sldlen_max\"   \"sldlen_mean\"  \"sldlen_rng\"   \"sldlen_std\"   \"sldlen_skew\" \n",
       "[36] \"sldlen_kurt\"  \"gibbs_min\"    \"gibbs_max\"    \"gibbs_mean\"   \"gibbs_rng\"   \n",
       "[41] \"gibbs_std\"    \"gibbs_skew\"   \"gibbs_kurt\"   \"pdcnt_min\"    \"pdcnt_max\"   \n",
       "[46] \"pdcnt_mean\"   \"pdcnt_rng\"    \"pdcnt_std\"    \"pdcnt_skew\"   \"pdcnt_kurt\"  \n",
       "[51] \"rarpt_min\"    \"rarpt_max\"    \"rarpt_mean\"   \"rarpt_rng\"    \"rarpt_std\"   \n",
       "[56] \"rarpt_skew\"   \"rarpt_kurt\"   \"auc_win\"      \"l10_win\"     "
      ]
     },
     "metadata": {},
     "output_type": "display_data"
    }
   ],
   "source": [
    "names(metrics_df)"
   ]
  },
  {
   "cell_type": "code",
   "execution_count": 52,
   "metadata": {},
   "outputs": [
    {
     "data": {
      "text/html": [
       "<table>\n",
       "<caption>A data.frame: 6 × 42</caption>\n",
       "<thead>\n",
       "\t<tr><th></th><th scope=col>auc_win</th><th scope=col>l10_win</th><th scope=col>count</th><th scope=col>ren_prp</th><th scope=col>tld_rat</th><th scope=col>geo_cnt</th><th scope=col>geo_maj</th><th scope=col>daydom_min</th><th scope=col>daydom_max</th><th scope=col>daydom_mean</th><th scope=col>daydom_rng</th><th scope=col>daydom_std</th><th scope=col>daydom_skew</th><th scope=col>daydom_kurt</th><th scope=col>sldlen_min</th><th scope=col>sldlen_max</th><th scope=col>sldlen_mean</th><th scope=col>sldlen_rng</th><th scope=col>sldlen_std</th><th scope=col>sldlen_skew</th><th scope=col>sldlen_kurt</th><th scope=col>gibbs_min</th><th scope=col>gibbs_max</th><th scope=col>gibbs_mean</th><th scope=col>gibbs_rng</th><th scope=col>gibbs_std</th><th scope=col>gibbs_skew</th><th scope=col>gibbs_kurt</th><th scope=col>pdcnt_min</th><th scope=col>pdcnt_max</th><th scope=col>pdcnt_mean</th><th scope=col>pdcnt_rng</th><th scope=col>pdcnt_std</th><th scope=col>pdcnt_skew</th><th scope=col>pdcnt_kurt</th><th scope=col>rarpt_min</th><th scope=col>rarpt_max</th><th scope=col>rarpt_mean</th><th scope=col>rarpt_rng</th><th scope=col>rarpt_std</th><th scope=col>rarpt_skew</th><th scope=col>rarpt_kurt</th></tr>\n",
       "\t<tr><th></th><th scope=col>&lt;fct&gt;</th><th scope=col>&lt;fct&gt;</th><th scope=col>&lt;int&gt;</th><th scope=col>&lt;dbl&gt;</th><th scope=col>&lt;dbl&gt;</th><th scope=col>&lt;int&gt;</th><th scope=col>&lt;fct&gt;</th><th scope=col>&lt;int&gt;</th><th scope=col>&lt;int&gt;</th><th scope=col>&lt;dbl&gt;</th><th scope=col>&lt;int&gt;</th><th scope=col>&lt;dbl&gt;</th><th scope=col>&lt;dbl&gt;</th><th scope=col>&lt;dbl&gt;</th><th scope=col>&lt;int&gt;</th><th scope=col>&lt;int&gt;</th><th scope=col>&lt;dbl&gt;</th><th scope=col>&lt;int&gt;</th><th scope=col>&lt;dbl&gt;</th><th scope=col>&lt;dbl&gt;</th><th scope=col>&lt;dbl&gt;</th><th scope=col>&lt;dbl&gt;</th><th scope=col>&lt;dbl&gt;</th><th scope=col>&lt;dbl&gt;</th><th scope=col>&lt;dbl&gt;</th><th scope=col>&lt;dbl&gt;</th><th scope=col>&lt;dbl&gt;</th><th scope=col>&lt;dbl&gt;</th><th scope=col>&lt;int&gt;</th><th scope=col>&lt;int&gt;</th><th scope=col>&lt;dbl&gt;</th><th scope=col>&lt;int&gt;</th><th scope=col>&lt;dbl&gt;</th><th scope=col>&lt;dbl&gt;</th><th scope=col>&lt;dbl&gt;</th><th scope=col>&lt;dbl&gt;</th><th scope=col>&lt;dbl&gt;</th><th scope=col>&lt;dbl&gt;</th><th scope=col>&lt;dbl&gt;</th><th scope=col>&lt;dbl&gt;</th><th scope=col>&lt;dbl&gt;</th><th scope=col>&lt;dbl&gt;</th></tr>\n",
       "</thead>\n",
       "<tbody>\n",
       "\t<tr><th scope=row>1</th><td>auc_seg_rf  </td><td>l10_seg2_rf </td><td>106569</td><td>0.02441611</td><td>9.383592e-06</td><td>1</td><td>Japan        </td><td>1</td><td>16752</td><td>6351.1060</td><td>16751</td><td>5949.6090</td><td> 0.7065131</td><td>-1.0294486</td><td>3</td><td>53</td><td> 6.642335</td><td>50</td><td>2.508508</td><td> 6.1455276</td><td>55.010118</td><td>0</td><td>100</td><td>1.672944</td><td>100</td><td> 4.083236</td><td>15.334299</td><td>348.12171</td><td>1</td><td> 51</td><td> 3.432490</td><td> 50</td><td>  5.173298</td><td>3.6994369</td><td>16.3930266</td><td>0.10</td><td>13.37</td><td>0.1037350</td><td>13.27</td><td>0.20216296</td><td>55.154300</td><td>3102.462949</td></tr>\n",
       "\t<tr><th scope=row>2</th><td>auc_agg_rf  </td><td>l10_agg_rf  </td><td> 72690</td><td>0.01223002</td><td>1.375705e-05</td><td>1</td><td>China        </td><td>1</td><td> 2779</td><td> 861.4138</td><td> 2778</td><td> 598.0098</td><td> 1.5584245</td><td> 2.6494681</td><td>3</td><td>63</td><td> 6.947572</td><td>60</td><td>3.289407</td><td> 2.9497402</td><td>14.097156</td><td>0</td><td>100</td><td>6.427920</td><td>100</td><td>21.265643</td><td> 4.112206</td><td> 15.16265</td><td>1</td><td>326</td><td>15.295667</td><td>325</td><td> 37.775267</td><td>4.8276608</td><td>27.7586974</td><td>0.75</td><td> 4.75</td><td>0.7521482</td><td> 4.00</td><td>0.08239843</td><td>43.767804</td><td>1951.657326</td></tr>\n",
       "\t<tr><th scope=row>3</th><td>auc_agg_rf  </td><td>l10_seg2_glm</td><td> 53536</td><td>0.03973027</td><td>1.867902e-05</td><td>1</td><td>United States</td><td>1</td><td> 2200</td><td> 641.6495</td><td> 2199</td><td> 552.7995</td><td> 1.4770911</td><td> 1.2445628</td><td>3</td><td>60</td><td>10.040702</td><td>57</td><td>4.457749</td><td> 1.8173451</td><td> 7.306364</td><td>0</td><td>100</td><td>4.292920</td><td>100</td><td> 4.790116</td><td>13.813471</td><td>271.44212</td><td>1</td><td>102</td><td> 5.683839</td><td>101</td><td> 11.925165</td><td>4.8845405</td><td>28.4273959</td><td>0.58</td><td> 8.33</td><td>0.8639192</td><td> 7.75</td><td>0.46643401</td><td> 2.149515</td><td>  15.078455</td></tr>\n",
       "\t<tr><th scope=row>4</th><td>auc_agg_rf  </td><td>l10_agg_rf  </td><td> 50470</td><td>0.02276600</td><td>1.981375e-05</td><td>1</td><td>United States</td><td>1</td><td> 2277</td><td> 708.5591</td><td> 2276</td><td> 495.1889</td><td> 1.4025666</td><td> 2.4231262</td><td>3</td><td>56</td><td>10.612245</td><td>53</td><td>3.816024</td><td> 0.9727996</td><td> 3.074438</td><td>0</td><td>100</td><td>5.021115</td><td>100</td><td> 5.889335</td><td>13.133157</td><td>208.93433</td><td>1</td><td>133</td><td> 3.806340</td><td>132</td><td> 11.591963</td><td>7.9464521</td><td>72.1673024</td><td>0.59</td><td> 5.40</td><td>0.8950147</td><td> 4.81</td><td>0.37727284</td><td> 1.158011</td><td>   3.878673</td></tr>\n",
       "\t<tr><th scope=row>5</th><td>auc_seg2_glm</td><td>l10_seg_glm </td><td> 42162</td><td>0.17413785</td><td>2.371804e-05</td><td>1</td><td>United States</td><td>1</td><td> 2642</td><td> 444.9510</td><td> 2641</td><td> 590.7182</td><td> 3.1800012</td><td> 9.0282709</td><td>3</td><td>60</td><td>10.460960</td><td>57</td><td>4.627825</td><td> 1.2478782</td><td> 3.883563</td><td>0</td><td>100</td><td>5.019930</td><td>100</td><td> 5.451631</td><td>13.738913</td><td>235.73852</td><td>1</td><td> 38</td><td> 1.947346</td><td> 37</td><td>  2.554309</td><td>8.0693509</td><td>82.8231996</td><td>0.50</td><td>19.38</td><td>1.4417611</td><td>18.88</td><td>2.84260467</td><td> 3.856059</td><td>  13.984498</td></tr>\n",
       "\t<tr><th scope=row>6</th><td>auc_agg_rf  </td><td>l10_agg_rf  </td><td> 35309</td><td>0.01741766</td><td>2.832139e-05</td><td>1</td><td>EU           </td><td>1</td><td> 8032</td><td>5529.4799</td><td> 8031</td><td>2800.9130</td><td>-0.8344171</td><td>-0.4973638</td><td>3</td><td>54</td><td>15.473874</td><td>51</td><td>4.052579</td><td>-0.9342607</td><td> 1.096902</td><td>0</td><td>100</td><td>3.680121</td><td>100</td><td> 7.475273</td><td>11.932197</td><td>150.65015</td><td>1</td><td>332</td><td>99.953015</td><td>331</td><td>114.009691</td><td>0.8053729</td><td>-0.9005846</td><td>0.50</td><td> 7.00</td><td>0.5011045</td><td> 6.50</td><td>0.08472577</td><td>76.689854</td><td>5879.500288</td></tr>\n",
       "</tbody>\n",
       "</table>\n"
      ],
      "text/latex": [
       "A data.frame: 6 × 42\n",
       "\\begin{tabular}{r|llllllllllllllllllllllllllllllllllllllllll}\n",
       "  & auc\\_win & l10\\_win & count & ren\\_prp & tld\\_rat & geo\\_cnt & geo\\_maj & daydom\\_min & daydom\\_max & daydom\\_mean & daydom\\_rng & daydom\\_std & daydom\\_skew & daydom\\_kurt & sldlen\\_min & sldlen\\_max & sldlen\\_mean & sldlen\\_rng & sldlen\\_std & sldlen\\_skew & sldlen\\_kurt & gibbs\\_min & gibbs\\_max & gibbs\\_mean & gibbs\\_rng & gibbs\\_std & gibbs\\_skew & gibbs\\_kurt & pdcnt\\_min & pdcnt\\_max & pdcnt\\_mean & pdcnt\\_rng & pdcnt\\_std & pdcnt\\_skew & pdcnt\\_kurt & rarpt\\_min & rarpt\\_max & rarpt\\_mean & rarpt\\_rng & rarpt\\_std & rarpt\\_skew & rarpt\\_kurt\\\\\n",
       "  & <fct> & <fct> & <int> & <dbl> & <dbl> & <int> & <fct> & <int> & <int> & <dbl> & <int> & <dbl> & <dbl> & <dbl> & <int> & <int> & <dbl> & <int> & <dbl> & <dbl> & <dbl> & <dbl> & <dbl> & <dbl> & <dbl> & <dbl> & <dbl> & <dbl> & <int> & <int> & <dbl> & <int> & <dbl> & <dbl> & <dbl> & <dbl> & <dbl> & <dbl> & <dbl> & <dbl> & <dbl> & <dbl>\\\\\n",
       "\\hline\n",
       "\t1 & auc\\_seg\\_rf   & l10\\_seg2\\_rf  & 106569 & 0.02441611 & 9.383592e-06 & 1 & Japan         & 1 & 16752 & 6351.1060 & 16751 & 5949.6090 &  0.7065131 & -1.0294486 & 3 & 53 &  6.642335 & 50 & 2.508508 &  6.1455276 & 55.010118 & 0 & 100 & 1.672944 & 100 &  4.083236 & 15.334299 & 348.12171 & 1 &  51 &  3.432490 &  50 &   5.173298 & 3.6994369 & 16.3930266 & 0.10 & 13.37 & 0.1037350 & 13.27 & 0.20216296 & 55.154300 & 3102.462949\\\\\n",
       "\t2 & auc\\_agg\\_rf   & l10\\_agg\\_rf   &  72690 & 0.01223002 & 1.375705e-05 & 1 & China         & 1 &  2779 &  861.4138 &  2778 &  598.0098 &  1.5584245 &  2.6494681 & 3 & 63 &  6.947572 & 60 & 3.289407 &  2.9497402 & 14.097156 & 0 & 100 & 6.427920 & 100 & 21.265643 &  4.112206 &  15.16265 & 1 & 326 & 15.295667 & 325 &  37.775267 & 4.8276608 & 27.7586974 & 0.75 &  4.75 & 0.7521482 &  4.00 & 0.08239843 & 43.767804 & 1951.657326\\\\\n",
       "\t3 & auc\\_agg\\_rf   & l10\\_seg2\\_glm &  53536 & 0.03973027 & 1.867902e-05 & 1 & United States & 1 &  2200 &  641.6495 &  2199 &  552.7995 &  1.4770911 &  1.2445628 & 3 & 60 & 10.040702 & 57 & 4.457749 &  1.8173451 &  7.306364 & 0 & 100 & 4.292920 & 100 &  4.790116 & 13.813471 & 271.44212 & 1 & 102 &  5.683839 & 101 &  11.925165 & 4.8845405 & 28.4273959 & 0.58 &  8.33 & 0.8639192 &  7.75 & 0.46643401 &  2.149515 &   15.078455\\\\\n",
       "\t4 & auc\\_agg\\_rf   & l10\\_agg\\_rf   &  50470 & 0.02276600 & 1.981375e-05 & 1 & United States & 1 &  2277 &  708.5591 &  2276 &  495.1889 &  1.4025666 &  2.4231262 & 3 & 56 & 10.612245 & 53 & 3.816024 &  0.9727996 &  3.074438 & 0 & 100 & 5.021115 & 100 &  5.889335 & 13.133157 & 208.93433 & 1 & 133 &  3.806340 & 132 &  11.591963 & 7.9464521 & 72.1673024 & 0.59 &  5.40 & 0.8950147 &  4.81 & 0.37727284 &  1.158011 &    3.878673\\\\\n",
       "\t5 & auc\\_seg2\\_glm & l10\\_seg\\_glm  &  42162 & 0.17413785 & 2.371804e-05 & 1 & United States & 1 &  2642 &  444.9510 &  2641 &  590.7182 &  3.1800012 &  9.0282709 & 3 & 60 & 10.460960 & 57 & 4.627825 &  1.2478782 &  3.883563 & 0 & 100 & 5.019930 & 100 &  5.451631 & 13.738913 & 235.73852 & 1 &  38 &  1.947346 &  37 &   2.554309 & 8.0693509 & 82.8231996 & 0.50 & 19.38 & 1.4417611 & 18.88 & 2.84260467 &  3.856059 &   13.984498\\\\\n",
       "\t6 & auc\\_agg\\_rf   & l10\\_agg\\_rf   &  35309 & 0.01741766 & 2.832139e-05 & 1 & EU            & 1 &  8032 & 5529.4799 &  8031 & 2800.9130 & -0.8344171 & -0.4973638 & 3 & 54 & 15.473874 & 51 & 4.052579 & -0.9342607 &  1.096902 & 0 & 100 & 3.680121 & 100 &  7.475273 & 11.932197 & 150.65015 & 1 & 332 & 99.953015 & 331 & 114.009691 & 0.8053729 & -0.9005846 & 0.50 &  7.00 & 0.5011045 &  6.50 & 0.08472577 & 76.689854 & 5879.500288\\\\\n",
       "\\end{tabular}\n"
      ],
      "text/markdown": [
       "\n",
       "A data.frame: 6 × 42\n",
       "\n",
       "| <!--/--> | auc_win &lt;fct&gt; | l10_win &lt;fct&gt; | count &lt;int&gt; | ren_prp &lt;dbl&gt; | tld_rat &lt;dbl&gt; | geo_cnt &lt;int&gt; | geo_maj &lt;fct&gt; | daydom_min &lt;int&gt; | daydom_max &lt;int&gt; | daydom_mean &lt;dbl&gt; | daydom_rng &lt;int&gt; | daydom_std &lt;dbl&gt; | daydom_skew &lt;dbl&gt; | daydom_kurt &lt;dbl&gt; | sldlen_min &lt;int&gt; | sldlen_max &lt;int&gt; | sldlen_mean &lt;dbl&gt; | sldlen_rng &lt;int&gt; | sldlen_std &lt;dbl&gt; | sldlen_skew &lt;dbl&gt; | sldlen_kurt &lt;dbl&gt; | gibbs_min &lt;dbl&gt; | gibbs_max &lt;dbl&gt; | gibbs_mean &lt;dbl&gt; | gibbs_rng &lt;dbl&gt; | gibbs_std &lt;dbl&gt; | gibbs_skew &lt;dbl&gt; | gibbs_kurt &lt;dbl&gt; | pdcnt_min &lt;int&gt; | pdcnt_max &lt;int&gt; | pdcnt_mean &lt;dbl&gt; | pdcnt_rng &lt;int&gt; | pdcnt_std &lt;dbl&gt; | pdcnt_skew &lt;dbl&gt; | pdcnt_kurt &lt;dbl&gt; | rarpt_min &lt;dbl&gt; | rarpt_max &lt;dbl&gt; | rarpt_mean &lt;dbl&gt; | rarpt_rng &lt;dbl&gt; | rarpt_std &lt;dbl&gt; | rarpt_skew &lt;dbl&gt; | rarpt_kurt &lt;dbl&gt; |\n",
       "|---|---|---|---|---|---|---|---|---|---|---|---|---|---|---|---|---|---|---|---|---|---|---|---|---|---|---|---|---|---|---|---|---|---|---|---|---|---|---|---|---|---|---|\n",
       "| 1 | auc_seg_rf   | l10_seg2_rf  | 106569 | 0.02441611 | 9.383592e-06 | 1 | Japan         | 1 | 16752 | 6351.1060 | 16751 | 5949.6090 |  0.7065131 | -1.0294486 | 3 | 53 |  6.642335 | 50 | 2.508508 |  6.1455276 | 55.010118 | 0 | 100 | 1.672944 | 100 |  4.083236 | 15.334299 | 348.12171 | 1 |  51 |  3.432490 |  50 |   5.173298 | 3.6994369 | 16.3930266 | 0.10 | 13.37 | 0.1037350 | 13.27 | 0.20216296 | 55.154300 | 3102.462949 |\n",
       "| 2 | auc_agg_rf   | l10_agg_rf   |  72690 | 0.01223002 | 1.375705e-05 | 1 | China         | 1 |  2779 |  861.4138 |  2778 |  598.0098 |  1.5584245 |  2.6494681 | 3 | 63 |  6.947572 | 60 | 3.289407 |  2.9497402 | 14.097156 | 0 | 100 | 6.427920 | 100 | 21.265643 |  4.112206 |  15.16265 | 1 | 326 | 15.295667 | 325 |  37.775267 | 4.8276608 | 27.7586974 | 0.75 |  4.75 | 0.7521482 |  4.00 | 0.08239843 | 43.767804 | 1951.657326 |\n",
       "| 3 | auc_agg_rf   | l10_seg2_glm |  53536 | 0.03973027 | 1.867902e-05 | 1 | United States | 1 |  2200 |  641.6495 |  2199 |  552.7995 |  1.4770911 |  1.2445628 | 3 | 60 | 10.040702 | 57 | 4.457749 |  1.8173451 |  7.306364 | 0 | 100 | 4.292920 | 100 |  4.790116 | 13.813471 | 271.44212 | 1 | 102 |  5.683839 | 101 |  11.925165 | 4.8845405 | 28.4273959 | 0.58 |  8.33 | 0.8639192 |  7.75 | 0.46643401 |  2.149515 |   15.078455 |\n",
       "| 4 | auc_agg_rf   | l10_agg_rf   |  50470 | 0.02276600 | 1.981375e-05 | 1 | United States | 1 |  2277 |  708.5591 |  2276 |  495.1889 |  1.4025666 |  2.4231262 | 3 | 56 | 10.612245 | 53 | 3.816024 |  0.9727996 |  3.074438 | 0 | 100 | 5.021115 | 100 |  5.889335 | 13.133157 | 208.93433 | 1 | 133 |  3.806340 | 132 |  11.591963 | 7.9464521 | 72.1673024 | 0.59 |  5.40 | 0.8950147 |  4.81 | 0.37727284 |  1.158011 |    3.878673 |\n",
       "| 5 | auc_seg2_glm | l10_seg_glm  |  42162 | 0.17413785 | 2.371804e-05 | 1 | United States | 1 |  2642 |  444.9510 |  2641 |  590.7182 |  3.1800012 |  9.0282709 | 3 | 60 | 10.460960 | 57 | 4.627825 |  1.2478782 |  3.883563 | 0 | 100 | 5.019930 | 100 |  5.451631 | 13.738913 | 235.73852 | 1 |  38 |  1.947346 |  37 |   2.554309 | 8.0693509 | 82.8231996 | 0.50 | 19.38 | 1.4417611 | 18.88 | 2.84260467 |  3.856059 |   13.984498 |\n",
       "| 6 | auc_agg_rf   | l10_agg_rf   |  35309 | 0.01741766 | 2.832139e-05 | 1 | EU            | 1 |  8032 | 5529.4799 |  8031 | 2800.9130 | -0.8344171 | -0.4973638 | 3 | 54 | 15.473874 | 51 | 4.052579 | -0.9342607 |  1.096902 | 0 | 100 | 3.680121 | 100 |  7.475273 | 11.932197 | 150.65015 | 1 | 332 | 99.953015 | 331 | 114.009691 | 0.8053729 | -0.9005846 | 0.50 |  7.00 | 0.5011045 |  6.50 | 0.08472577 | 76.689854 | 5879.500288 |\n",
       "\n"
      ],
      "text/plain": [
       "  auc_win      l10_win      count  ren_prp    tld_rat      geo_cnt\n",
       "1 auc_seg_rf   l10_seg2_rf  106569 0.02441611 9.383592e-06 1      \n",
       "2 auc_agg_rf   l10_agg_rf    72690 0.01223002 1.375705e-05 1      \n",
       "3 auc_agg_rf   l10_seg2_glm  53536 0.03973027 1.867902e-05 1      \n",
       "4 auc_agg_rf   l10_agg_rf    50470 0.02276600 1.981375e-05 1      \n",
       "5 auc_seg2_glm l10_seg_glm   42162 0.17413785 2.371804e-05 1      \n",
       "6 auc_agg_rf   l10_agg_rf    35309 0.01741766 2.832139e-05 1      \n",
       "  geo_maj       daydom_min daydom_max daydom_mean daydom_rng daydom_std\n",
       "1 Japan         1          16752      6351.1060   16751      5949.6090 \n",
       "2 China         1           2779       861.4138    2778       598.0098 \n",
       "3 United States 1           2200       641.6495    2199       552.7995 \n",
       "4 United States 1           2277       708.5591    2276       495.1889 \n",
       "5 United States 1           2642       444.9510    2641       590.7182 \n",
       "6 EU            1           8032      5529.4799    8031      2800.9130 \n",
       "  daydom_skew daydom_kurt sldlen_min sldlen_max sldlen_mean sldlen_rng\n",
       "1  0.7065131  -1.0294486  3          53          6.642335   50        \n",
       "2  1.5584245   2.6494681  3          63          6.947572   60        \n",
       "3  1.4770911   1.2445628  3          60         10.040702   57        \n",
       "4  1.4025666   2.4231262  3          56         10.612245   53        \n",
       "5  3.1800012   9.0282709  3          60         10.460960   57        \n",
       "6 -0.8344171  -0.4973638  3          54         15.473874   51        \n",
       "  sldlen_std sldlen_skew sldlen_kurt gibbs_min gibbs_max gibbs_mean gibbs_rng\n",
       "1 2.508508    6.1455276  55.010118   0         100       1.672944   100      \n",
       "2 3.289407    2.9497402  14.097156   0         100       6.427920   100      \n",
       "3 4.457749    1.8173451   7.306364   0         100       4.292920   100      \n",
       "4 3.816024    0.9727996   3.074438   0         100       5.021115   100      \n",
       "5 4.627825    1.2478782   3.883563   0         100       5.019930   100      \n",
       "6 4.052579   -0.9342607   1.096902   0         100       3.680121   100      \n",
       "  gibbs_std gibbs_skew gibbs_kurt pdcnt_min pdcnt_max pdcnt_mean pdcnt_rng\n",
       "1  4.083236 15.334299  348.12171  1          51        3.432490   50      \n",
       "2 21.265643  4.112206   15.16265  1         326       15.295667  325      \n",
       "3  4.790116 13.813471  271.44212  1         102        5.683839  101      \n",
       "4  5.889335 13.133157  208.93433  1         133        3.806340  132      \n",
       "5  5.451631 13.738913  235.73852  1          38        1.947346   37      \n",
       "6  7.475273 11.932197  150.65015  1         332       99.953015  331      \n",
       "  pdcnt_std  pdcnt_skew pdcnt_kurt rarpt_min rarpt_max rarpt_mean rarpt_rng\n",
       "1   5.173298 3.6994369  16.3930266 0.10      13.37     0.1037350  13.27    \n",
       "2  37.775267 4.8276608  27.7586974 0.75       4.75     0.7521482   4.00    \n",
       "3  11.925165 4.8845405  28.4273959 0.58       8.33     0.8639192   7.75    \n",
       "4  11.591963 7.9464521  72.1673024 0.59       5.40     0.8950147   4.81    \n",
       "5   2.554309 8.0693509  82.8231996 0.50      19.38     1.4417611  18.88    \n",
       "6 114.009691 0.8053729  -0.9005846 0.50       7.00     0.5011045   6.50    \n",
       "  rarpt_std  rarpt_skew rarpt_kurt \n",
       "1 0.20216296 55.154300  3102.462949\n",
       "2 0.08239843 43.767804  1951.657326\n",
       "3 0.46643401  2.149515    15.078455\n",
       "4 0.37727284  1.158011     3.878673\n",
       "5 2.84260467  3.856059    13.984498\n",
       "6 0.08472577 76.689854  5879.500288"
      ]
     },
     "metadata": {},
     "output_type": "display_data"
    }
   ],
   "source": [
    "metrics_df_sub = metrics_df %>% \n",
    "  select('auc_win', 'l10_win',\n",
    "         'count','ren_prp','tld_rat',\n",
    "         #'country_maj','region_maj','country_cnt','region_cnt',\n",
    "         'geo_cnt', 'geo_maj',\n",
    "         'daydom_min','daydom_max','daydom_mean','daydom_rng','daydom_std','daydom_skew','daydom_kurt',\n",
    "         'sldlen_min','sldlen_max','sldlen_mean','sldlen_rng','sldlen_std','sldlen_skew','sldlen_kurt',\n",
    "         'gibbs_min','gibbs_max','gibbs_mean','gibbs_rng','gibbs_std','gibbs_skew','gibbs_kurt',\n",
    "         'pdcnt_min','pdcnt_max','pdcnt_mean','pdcnt_rng','pdcnt_std','pdcnt_skew','pdcnt_kurt',\n",
    "         'rarpt_min','rarpt_max','rarpt_mean','rarpt_rng','rarpt_std','rarpt_skew','rarpt_kurt')\n",
    "head(metrics_df_sub)"
   ]
  },
  {
   "cell_type": "code",
   "execution_count": 53,
   "metadata": {},
   "outputs": [],
   "source": [
    "set.seed(123) \n",
    "smp_siz = floor(0.8*nrow(metrics_df_sub))\n",
    "train_ind = sample(seq_len(nrow(metrics_df_sub)),size = smp_siz) \n",
    "train = metrics_df_sub[train_ind,] \n",
    "test = metrics_df_sub[-train_ind,]  "
   ]
  },
  {
   "cell_type": "code",
   "execution_count": 54,
   "metadata": {},
   "outputs": [
    {
     "data": {
      "text/html": [
       "<style>\n",
       ".list-inline {list-style: none; margin:0; padding: 0}\n",
       ".list-inline>li {display: inline-block}\n",
       ".list-inline>li:not(:last-child)::after {content: \"\\00b7\"; padding: 0 .5ex}\n",
       "</style>\n",
       "<ol class=list-inline><li>846</li><li>42</li></ol>\n"
      ],
      "text/latex": [
       "\\begin{enumerate*}\n",
       "\\item 846\n",
       "\\item 42\n",
       "\\end{enumerate*}\n"
      ],
      "text/markdown": [
       "1. 846\n",
       "2. 42\n",
       "\n",
       "\n"
      ],
      "text/plain": [
       "[1] 846  42"
      ]
     },
     "metadata": {},
     "output_type": "display_data"
    }
   ],
   "source": [
    "dim(train)"
   ]
  },
  {
   "cell_type": "code",
   "execution_count": 55,
   "metadata": {},
   "outputs": [
    {
     "data": {
      "text/html": [
       "<style>\n",
       ".list-inline {list-style: none; margin:0; padding: 0}\n",
       ".list-inline>li {display: inline-block}\n",
       ".list-inline>li:not(:last-child)::after {content: \"\\00b7\"; padding: 0 .5ex}\n",
       "</style>\n",
       "<ol class=list-inline><li>212</li><li>42</li></ol>\n"
      ],
      "text/latex": [
       "\\begin{enumerate*}\n",
       "\\item 212\n",
       "\\item 42\n",
       "\\end{enumerate*}\n"
      ],
      "text/markdown": [
       "1. 212\n",
       "2. 42\n",
       "\n",
       "\n"
      ],
      "text/plain": [
       "[1] 212  42"
      ]
     },
     "metadata": {},
     "output_type": "display_data"
    }
   ],
   "source": [
    "dim(test)"
   ]
  },
  {
   "cell_type": "code",
   "execution_count": 56,
   "metadata": {},
   "outputs": [
    {
     "name": "stdout",
     "output_type": "stream",
     "text": [
      "'data.frame':\t846 obs. of  42 variables:\n",
      " $ auc_win    : Factor w/ 6 levels \"auc_agg_glm\",..: 3 1 2 1 5 5 5 2 1 5 ...\n",
      "  ..- attr(*, \"names\")= chr  \"434\" \"489\" \"183\" \"560\" ...\n",
      " $ l10_win    : Factor w/ 6 levels \"l10_agg_glm\",..: 5 5 5 5 2 5 5 5 3 5 ...\n",
      "  ..- attr(*, \"names\")= chr  \"434\" \"489\" \"183\" \"560\" ...\n",
      " $ count      : int  127 98 689 74 604 5 1 34 51 26 ...\n",
      " $ ren_prp    : num  0.646 0.388 0.196 0.23 0.106 ...\n",
      " $ tld_rat    : num  0.00787 0.0102 0.00145 0.01351 0.00166 ...\n",
      " $ geo_cnt    : int  1 1 1 1 1 1 1 1 1 1 ...\n",
      " $ geo_maj    : Factor w/ 15 levels \"Africa\",\"Australia & New Zealand\",..: 5 14 5 11 6 14 11 5 NA 5 ...\n",
      " $ daydom_min : int  1 1 1 1 1 1 1 1 1 1 ...\n",
      " $ daydom_max : int  3 3 66 2 14 1 1 14 4 2 ...\n",
      " $ daydom_mean: num  1.43 1.45 15.44 1.32 6.16 ...\n",
      " $ daydom_rng : int  2 2 65 1 13 0 0 13 3 1 ...\n",
      " $ daydom_std : num  0.696 0.558 19.095 0.471 3.293 ...\n",
      " $ daydom_skew: num  1.317 0.726 1.823 0.735 0.485 ...\n",
      " $ daydom_kurt: num  0.28 -0.567 2.012 -1.479 -0.516 ...\n",
      " $ sldlen_min : int  3 4 4 4 4 4 9 5 4 4 ...\n",
      " $ sldlen_max : int  18 22 52 15 29 15 9 20 20 15 ...\n",
      " $ sldlen_mean: num  9.01 11.66 11.74 8.05 11.14 ...\n",
      " $ sldlen_rng : int  15 18 48 11 25 11 0 15 16 11 ...\n",
      " $ sldlen_std : num  3.83 4.45 4.81 2.73 4.15 ...\n",
      " $ sldlen_skew: num  0.458 0.404 1.477 0.432 0.793 ...\n",
      " $ sldlen_kurt: num  -0.735 -0.323 6.866 -0.505 0.671 ...\n",
      " $ gibbs_min  : num  0.35 0.06 0.32 0.17 0.05 4.12 3.5 0.43 0.21 1.59 ...\n",
      " $ gibbs_max  : num  12.6 15.4 12.8 13.9 14.9 ...\n",
      " $ gibbs_mean : num  5.29 5.16 5.22 5.26 4.73 ...\n",
      " $ gibbs_rng  : num  12.3 15.3 12.5 13.8 14.9 ...\n",
      " $ gibbs_std  : num  2.57 2.63 2.06 2.72 2.3 ...\n",
      " $ gibbs_skew : num  0.274 0.662 0.284 0.263 0.695 ...\n",
      " $ gibbs_kurt : num  -0.512 1.28 0.249 -0.143 0.96 ...\n",
      " $ pdcnt_min  : int  1 1 1 1 1 1 1 1 1 1 ...\n",
      " $ pdcnt_max  : int  2 1 2 1 7 1 1 3 1 2 ...\n",
      " $ pdcnt_mean : num  1.02 1 1.08 1 1.18 ...\n",
      " $ pdcnt_rng  : int  1 0 1 0 6 0 0 2 0 1 ...\n",
      " $ pdcnt_std  : num  0.125 0 0.278 0 0.803 ...\n",
      " $ pdcnt_skew : num  7.69 NaN 2.99 NaN 5.69 ...\n",
      " $ pdcnt_kurt : num  57.55 NaN 6.94 NaN 34.47 ...\n",
      " $ rarpt_min  : num  0.5 9.52 0.0001 4.99 0.5 0.0001 15 6 2 2.4 ...\n",
      " $ rarpt_max  : num  6 9.52 1 4.99 8.17 3 15 6 2 2.4 ...\n",
      " $ rarpt_mean : num  2.412 9.52 0.312 4.99 0.72 ...\n",
      " $ rarpt_rng  : num  5.5 0 1 0 7.67 ...\n",
      " $ rarpt_std  : num  1.651 0 0.431 0 1.194 ...\n",
      " $ rarpt_skew : num  -0.131 NaN 0.894 NaN 5.294 ...\n",
      " $ rarpt_kurt : num  -1.55 NaN -1.07 NaN 26.39 ...\n"
     ]
    }
   ],
   "source": [
    "str(train)"
   ]
  },
  {
   "cell_type": "code",
   "execution_count": 57,
   "metadata": {},
   "outputs": [
    {
     "data": {
      "text/html": [
       "<style>\n",
       ".list-inline {list-style: none; margin:0; padding: 0}\n",
       ".list-inline>li {display: inline-block}\n",
       ".list-inline>li:not(:last-child)::after {content: \"\\00b7\"; padding: 0 .5ex}\n",
       "</style>\n",
       "<ol class=list-inline><li>'auc_agg_glm'</li><li>'auc_agg_rf'</li><li>'auc_seg_glm'</li><li>'auc_seg_rf'</li><li>'auc_seg2_glm'</li><li>'auc_seg2_rf'</li></ol>\n"
      ],
      "text/latex": [
       "\\begin{enumerate*}\n",
       "\\item 'auc\\_agg\\_glm'\n",
       "\\item 'auc\\_agg\\_rf'\n",
       "\\item 'auc\\_seg\\_glm'\n",
       "\\item 'auc\\_seg\\_rf'\n",
       "\\item 'auc\\_seg2\\_glm'\n",
       "\\item 'auc\\_seg2\\_rf'\n",
       "\\end{enumerate*}\n"
      ],
      "text/markdown": [
       "1. 'auc_agg_glm'\n",
       "2. 'auc_agg_rf'\n",
       "3. 'auc_seg_glm'\n",
       "4. 'auc_seg_rf'\n",
       "5. 'auc_seg2_glm'\n",
       "6. 'auc_seg2_rf'\n",
       "\n",
       "\n"
      ],
      "text/plain": [
       "[1] \"auc_agg_glm\"  \"auc_agg_rf\"   \"auc_seg_glm\"  \"auc_seg_rf\"   \"auc_seg2_glm\"\n",
       "[6] \"auc_seg2_rf\" "
      ]
     },
     "metadata": {},
     "output_type": "display_data"
    },
    {
     "name": "stdout",
     "output_type": "stream",
     "text": [
      "'data.frame':\t846 obs. of  41 variables:\n",
      " $ auc_win    : Factor w/ 6 levels \"auc_seg2_glm\",..: 4 2 3 2 1 1 1 3 2 1 ...\n",
      " $ count      : int  127 98 689 74 604 5 1 34 51 26 ...\n",
      " $ ren_prp    : num  0.646 0.388 0.196 0.23 0.106 ...\n",
      " $ tld_rat    : num  0.00787 0.0102 0.00145 0.01351 0.00166 ...\n",
      " $ geo_cnt    : int  1 1 1 1 1 1 1 1 1 1 ...\n",
      " $ geo_maj    : Factor w/ 15 levels \"Africa\",\"Australia & New Zealand\",..: 5 14 5 11 6 14 11 5 NA 5 ...\n",
      " $ daydom_min : int  1 1 1 1 1 1 1 1 1 1 ...\n",
      " $ daydom_max : int  3 3 66 2 14 1 1 14 4 2 ...\n",
      " $ daydom_mean: num  1.43 1.45 15.44 1.32 6.16 ...\n",
      " $ daydom_rng : int  2 2 65 1 13 0 0 13 3 1 ...\n",
      " $ daydom_std : num  0.696 0.558 19.095 0.471 3.293 ...\n",
      " $ daydom_skew: num  1.317 0.726 1.823 0.735 0.485 ...\n",
      " $ daydom_kurt: num  0.28 -0.567 2.012 -1.479 -0.516 ...\n",
      " $ sldlen_min : int  3 4 4 4 4 4 9 5 4 4 ...\n",
      " $ sldlen_max : int  18 22 52 15 29 15 9 20 20 15 ...\n",
      " $ sldlen_mean: num  9.01 11.66 11.74 8.05 11.14 ...\n",
      " $ sldlen_rng : int  15 18 48 11 25 11 0 15 16 11 ...\n",
      " $ sldlen_std : num  3.83 4.45 4.81 2.73 4.15 ...\n",
      " $ sldlen_skew: num  0.458 0.404 1.477 0.432 0.793 ...\n",
      " $ sldlen_kurt: num  -0.735 -0.323 6.866 -0.505 0.671 ...\n",
      " $ gibbs_min  : num  0.35 0.06 0.32 0.17 0.05 4.12 3.5 0.43 0.21 1.59 ...\n",
      " $ gibbs_max  : num  12.6 15.4 12.8 13.9 14.9 ...\n",
      " $ gibbs_mean : num  5.29 5.16 5.22 5.26 4.73 ...\n",
      " $ gibbs_rng  : num  12.3 15.3 12.5 13.8 14.9 ...\n",
      " $ gibbs_std  : num  2.57 2.63 2.06 2.72 2.3 ...\n",
      " $ gibbs_skew : num  0.274 0.662 0.284 0.263 0.695 ...\n",
      " $ gibbs_kurt : num  -0.512 1.28 0.249 -0.143 0.96 ...\n",
      " $ pdcnt_min  : int  1 1 1 1 1 1 1 1 1 1 ...\n",
      " $ pdcnt_max  : int  2 1 2 1 7 1 1 3 1 2 ...\n",
      " $ pdcnt_mean : num  1.02 1 1.08 1 1.18 ...\n",
      " $ pdcnt_rng  : int  1 0 1 0 6 0 0 2 0 1 ...\n",
      " $ pdcnt_std  : num  0.125 0 0.278 0 0.803 ...\n",
      " $ pdcnt_skew : num  7.69 NaN 2.99 NaN 5.69 ...\n",
      " $ pdcnt_kurt : num  57.55 NaN 6.94 NaN 34.47 ...\n",
      " $ rarpt_min  : num  0.5 9.52 0.0001 4.99 0.5 0.0001 15 6 2 2.4 ...\n",
      " $ rarpt_max  : num  6 9.52 1 4.99 8.17 3 15 6 2 2.4 ...\n",
      " $ rarpt_mean : num  2.412 9.52 0.312 4.99 0.72 ...\n",
      " $ rarpt_rng  : num  5.5 0 1 0 7.67 ...\n",
      " $ rarpt_std  : num  1.651 0 0.431 0 1.194 ...\n",
      " $ rarpt_skew : num  -0.131 NaN 0.894 NaN 5.294 ...\n",
      " $ rarpt_kurt : num  -1.55 NaN -1.07 NaN 26.39 ...\n"
     ]
    }
   ],
   "source": [
    "train_auc <- subset(train, select = -c(l10_win) )\n",
    "levels(train_auc$auc_win)\n",
    "train_auc$auc_win <- relevel(train_auc$auc_win, ref=5)\n",
    "str(train_auc)"
   ]
  },
  {
   "cell_type": "code",
   "execution_count": 58,
   "metadata": {},
   "outputs": [
    {
     "data": {
      "text/html": [
       "<style>\n",
       ".list-inline {list-style: none; margin:0; padding: 0}\n",
       ".list-inline>li {display: inline-block}\n",
       ".list-inline>li:not(:last-child)::after {content: \"\\00b7\"; padding: 0 .5ex}\n",
       "</style>\n",
       "<ol class=list-inline><li>'l10_agg_glm'</li><li>'l10_agg_rf'</li><li>'l10_seg_glm'</li><li>'l10_seg_rf'</li><li>'l10_seg2_glm'</li><li>'l10_seg2_rf'</li></ol>\n"
      ],
      "text/latex": [
       "\\begin{enumerate*}\n",
       "\\item 'l10\\_agg\\_glm'\n",
       "\\item 'l10\\_agg\\_rf'\n",
       "\\item 'l10\\_seg\\_glm'\n",
       "\\item 'l10\\_seg\\_rf'\n",
       "\\item 'l10\\_seg2\\_glm'\n",
       "\\item 'l10\\_seg2\\_rf'\n",
       "\\end{enumerate*}\n"
      ],
      "text/markdown": [
       "1. 'l10_agg_glm'\n",
       "2. 'l10_agg_rf'\n",
       "3. 'l10_seg_glm'\n",
       "4. 'l10_seg_rf'\n",
       "5. 'l10_seg2_glm'\n",
       "6. 'l10_seg2_rf'\n",
       "\n",
       "\n"
      ],
      "text/plain": [
       "[1] \"l10_agg_glm\"  \"l10_agg_rf\"   \"l10_seg_glm\"  \"l10_seg_rf\"   \"l10_seg2_glm\"\n",
       "[6] \"l10_seg2_rf\" "
      ]
     },
     "metadata": {},
     "output_type": "display_data"
    },
    {
     "name": "stdout",
     "output_type": "stream",
     "text": [
      "'data.frame':\t846 obs. of  41 variables:\n",
      " $ l10_win    : Factor w/ 6 levels \"l10_seg2_glm\",..: 1 1 1 1 3 1 1 1 4 1 ...\n",
      " $ count      : int  127 98 689 74 604 5 1 34 51 26 ...\n",
      " $ ren_prp    : num  0.646 0.388 0.196 0.23 0.106 ...\n",
      " $ tld_rat    : num  0.00787 0.0102 0.00145 0.01351 0.00166 ...\n",
      " $ geo_cnt    : int  1 1 1 1 1 1 1 1 1 1 ...\n",
      " $ geo_maj    : Factor w/ 15 levels \"Africa\",\"Australia & New Zealand\",..: 5 14 5 11 6 14 11 5 NA 5 ...\n",
      " $ daydom_min : int  1 1 1 1 1 1 1 1 1 1 ...\n",
      " $ daydom_max : int  3 3 66 2 14 1 1 14 4 2 ...\n",
      " $ daydom_mean: num  1.43 1.45 15.44 1.32 6.16 ...\n",
      " $ daydom_rng : int  2 2 65 1 13 0 0 13 3 1 ...\n",
      " $ daydom_std : num  0.696 0.558 19.095 0.471 3.293 ...\n",
      " $ daydom_skew: num  1.317 0.726 1.823 0.735 0.485 ...\n",
      " $ daydom_kurt: num  0.28 -0.567 2.012 -1.479 -0.516 ...\n",
      " $ sldlen_min : int  3 4 4 4 4 4 9 5 4 4 ...\n",
      " $ sldlen_max : int  18 22 52 15 29 15 9 20 20 15 ...\n",
      " $ sldlen_mean: num  9.01 11.66 11.74 8.05 11.14 ...\n",
      " $ sldlen_rng : int  15 18 48 11 25 11 0 15 16 11 ...\n",
      " $ sldlen_std : num  3.83 4.45 4.81 2.73 4.15 ...\n",
      " $ sldlen_skew: num  0.458 0.404 1.477 0.432 0.793 ...\n",
      " $ sldlen_kurt: num  -0.735 -0.323 6.866 -0.505 0.671 ...\n",
      " $ gibbs_min  : num  0.35 0.06 0.32 0.17 0.05 4.12 3.5 0.43 0.21 1.59 ...\n",
      " $ gibbs_max  : num  12.6 15.4 12.8 13.9 14.9 ...\n",
      " $ gibbs_mean : num  5.29 5.16 5.22 5.26 4.73 ...\n",
      " $ gibbs_rng  : num  12.3 15.3 12.5 13.8 14.9 ...\n",
      " $ gibbs_std  : num  2.57 2.63 2.06 2.72 2.3 ...\n",
      " $ gibbs_skew : num  0.274 0.662 0.284 0.263 0.695 ...\n",
      " $ gibbs_kurt : num  -0.512 1.28 0.249 -0.143 0.96 ...\n",
      " $ pdcnt_min  : int  1 1 1 1 1 1 1 1 1 1 ...\n",
      " $ pdcnt_max  : int  2 1 2 1 7 1 1 3 1 2 ...\n",
      " $ pdcnt_mean : num  1.02 1 1.08 1 1.18 ...\n",
      " $ pdcnt_rng  : int  1 0 1 0 6 0 0 2 0 1 ...\n",
      " $ pdcnt_std  : num  0.125 0 0.278 0 0.803 ...\n",
      " $ pdcnt_skew : num  7.69 NaN 2.99 NaN 5.69 ...\n",
      " $ pdcnt_kurt : num  57.55 NaN 6.94 NaN 34.47 ...\n",
      " $ rarpt_min  : num  0.5 9.52 0.0001 4.99 0.5 0.0001 15 6 2 2.4 ...\n",
      " $ rarpt_max  : num  6 9.52 1 4.99 8.17 3 15 6 2 2.4 ...\n",
      " $ rarpt_mean : num  2.412 9.52 0.312 4.99 0.72 ...\n",
      " $ rarpt_rng  : num  5.5 0 1 0 7.67 ...\n",
      " $ rarpt_std  : num  1.651 0 0.431 0 1.194 ...\n",
      " $ rarpt_skew : num  -0.131 NaN 0.894 NaN 5.294 ...\n",
      " $ rarpt_kurt : num  -1.55 NaN -1.07 NaN 26.39 ...\n"
     ]
    }
   ],
   "source": [
    "train_l10 <- subset(train, select = -c(auc_win) )\n",
    "levels(train_l10$l10_win)\n",
    "train_l10$l10_win <- relevel(train_l10$l10_win, ref=5)\n",
    "str(train_l10)"
   ]
  },
  {
   "cell_type": "markdown",
   "metadata": {},
   "source": [
    "## RF missing values addressing"
   ]
  },
  {
   "cell_type": "code",
   "execution_count": 59,
   "metadata": {},
   "outputs": [
    {
     "data": {
      "text/html": [
       "<table>\n",
       "<caption>A matrix: 41 × 1 of type int</caption>\n",
       "<tbody>\n",
       "\t<tr><th scope=row>auc_win</th><td>  0</td></tr>\n",
       "\t<tr><th scope=row>count</th><td>  0</td></tr>\n",
       "\t<tr><th scope=row>ren_prp</th><td>  0</td></tr>\n",
       "\t<tr><th scope=row>tld_rat</th><td>  0</td></tr>\n",
       "\t<tr><th scope=row>geo_cnt</th><td>  0</td></tr>\n",
       "\t<tr><th scope=row>geo_maj</th><td> 24</td></tr>\n",
       "\t<tr><th scope=row>daydom_min</th><td>  0</td></tr>\n",
       "\t<tr><th scope=row>daydom_max</th><td>  0</td></tr>\n",
       "\t<tr><th scope=row>daydom_mean</th><td>  0</td></tr>\n",
       "\t<tr><th scope=row>daydom_rng</th><td>  0</td></tr>\n",
       "\t<tr><th scope=row>daydom_std</th><td> 20</td></tr>\n",
       "\t<tr><th scope=row>daydom_skew</th><td>143</td></tr>\n",
       "\t<tr><th scope=row>daydom_kurt</th><td>143</td></tr>\n",
       "\t<tr><th scope=row>sldlen_min</th><td>  0</td></tr>\n",
       "\t<tr><th scope=row>sldlen_max</th><td>  0</td></tr>\n",
       "\t<tr><th scope=row>sldlen_mean</th><td>  0</td></tr>\n",
       "\t<tr><th scope=row>sldlen_rng</th><td>  0</td></tr>\n",
       "\t<tr><th scope=row>sldlen_std</th><td> 20</td></tr>\n",
       "\t<tr><th scope=row>sldlen_skew</th><td> 24</td></tr>\n",
       "\t<tr><th scope=row>sldlen_kurt</th><td> 24</td></tr>\n",
       "\t<tr><th scope=row>gibbs_min</th><td>  0</td></tr>\n",
       "\t<tr><th scope=row>gibbs_max</th><td>  0</td></tr>\n",
       "\t<tr><th scope=row>gibbs_mean</th><td>  0</td></tr>\n",
       "\t<tr><th scope=row>gibbs_rng</th><td>  0</td></tr>\n",
       "\t<tr><th scope=row>gibbs_std</th><td> 20</td></tr>\n",
       "\t<tr><th scope=row>gibbs_skew</th><td> 22</td></tr>\n",
       "\t<tr><th scope=row>gibbs_kurt</th><td> 22</td></tr>\n",
       "\t<tr><th scope=row>pdcnt_min</th><td>  0</td></tr>\n",
       "\t<tr><th scope=row>pdcnt_max</th><td>  0</td></tr>\n",
       "\t<tr><th scope=row>pdcnt_mean</th><td>  0</td></tr>\n",
       "\t<tr><th scope=row>pdcnt_rng</th><td>  0</td></tr>\n",
       "\t<tr><th scope=row>pdcnt_std</th><td> 20</td></tr>\n",
       "\t<tr><th scope=row>pdcnt_skew</th><td>267</td></tr>\n",
       "\t<tr><th scope=row>pdcnt_kurt</th><td>267</td></tr>\n",
       "\t<tr><th scope=row>rarpt_min</th><td>  0</td></tr>\n",
       "\t<tr><th scope=row>rarpt_max</th><td>  0</td></tr>\n",
       "\t<tr><th scope=row>rarpt_mean</th><td>  0</td></tr>\n",
       "\t<tr><th scope=row>rarpt_rng</th><td>  0</td></tr>\n",
       "\t<tr><th scope=row>rarpt_std</th><td> 20</td></tr>\n",
       "\t<tr><th scope=row>rarpt_skew</th><td>419</td></tr>\n",
       "\t<tr><th scope=row>rarpt_kurt</th><td>419</td></tr>\n",
       "</tbody>\n",
       "</table>\n"
      ],
      "text/latex": [
       "A matrix: 41 × 1 of type int\n",
       "\\begin{tabular}{r|l}\n",
       "\tauc\\_win &   0\\\\\n",
       "\tcount &   0\\\\\n",
       "\tren\\_prp &   0\\\\\n",
       "\ttld\\_rat &   0\\\\\n",
       "\tgeo\\_cnt &   0\\\\\n",
       "\tgeo\\_maj &  24\\\\\n",
       "\tdaydom\\_min &   0\\\\\n",
       "\tdaydom\\_max &   0\\\\\n",
       "\tdaydom\\_mean &   0\\\\\n",
       "\tdaydom\\_rng &   0\\\\\n",
       "\tdaydom\\_std &  20\\\\\n",
       "\tdaydom\\_skew & 143\\\\\n",
       "\tdaydom\\_kurt & 143\\\\\n",
       "\tsldlen\\_min &   0\\\\\n",
       "\tsldlen\\_max &   0\\\\\n",
       "\tsldlen\\_mean &   0\\\\\n",
       "\tsldlen\\_rng &   0\\\\\n",
       "\tsldlen\\_std &  20\\\\\n",
       "\tsldlen\\_skew &  24\\\\\n",
       "\tsldlen\\_kurt &  24\\\\\n",
       "\tgibbs\\_min &   0\\\\\n",
       "\tgibbs\\_max &   0\\\\\n",
       "\tgibbs\\_mean &   0\\\\\n",
       "\tgibbs\\_rng &   0\\\\\n",
       "\tgibbs\\_std &  20\\\\\n",
       "\tgibbs\\_skew &  22\\\\\n",
       "\tgibbs\\_kurt &  22\\\\\n",
       "\tpdcnt\\_min &   0\\\\\n",
       "\tpdcnt\\_max &   0\\\\\n",
       "\tpdcnt\\_mean &   0\\\\\n",
       "\tpdcnt\\_rng &   0\\\\\n",
       "\tpdcnt\\_std &  20\\\\\n",
       "\tpdcnt\\_skew & 267\\\\\n",
       "\tpdcnt\\_kurt & 267\\\\\n",
       "\trarpt\\_min &   0\\\\\n",
       "\trarpt\\_max &   0\\\\\n",
       "\trarpt\\_mean &   0\\\\\n",
       "\trarpt\\_rng &   0\\\\\n",
       "\trarpt\\_std &  20\\\\\n",
       "\trarpt\\_skew & 419\\\\\n",
       "\trarpt\\_kurt & 419\\\\\n",
       "\\end{tabular}\n"
      ],
      "text/markdown": [
       "\n",
       "A matrix: 41 × 1 of type int\n",
       "\n",
       "| auc_win |   0 |\n",
       "| count |   0 |\n",
       "| ren_prp |   0 |\n",
       "| tld_rat |   0 |\n",
       "| geo_cnt |   0 |\n",
       "| geo_maj |  24 |\n",
       "| daydom_min |   0 |\n",
       "| daydom_max |   0 |\n",
       "| daydom_mean |   0 |\n",
       "| daydom_rng |   0 |\n",
       "| daydom_std |  20 |\n",
       "| daydom_skew | 143 |\n",
       "| daydom_kurt | 143 |\n",
       "| sldlen_min |   0 |\n",
       "| sldlen_max |   0 |\n",
       "| sldlen_mean |   0 |\n",
       "| sldlen_rng |   0 |\n",
       "| sldlen_std |  20 |\n",
       "| sldlen_skew |  24 |\n",
       "| sldlen_kurt |  24 |\n",
       "| gibbs_min |   0 |\n",
       "| gibbs_max |   0 |\n",
       "| gibbs_mean |   0 |\n",
       "| gibbs_rng |   0 |\n",
       "| gibbs_std |  20 |\n",
       "| gibbs_skew |  22 |\n",
       "| gibbs_kurt |  22 |\n",
       "| pdcnt_min |   0 |\n",
       "| pdcnt_max |   0 |\n",
       "| pdcnt_mean |   0 |\n",
       "| pdcnt_rng |   0 |\n",
       "| pdcnt_std |  20 |\n",
       "| pdcnt_skew | 267 |\n",
       "| pdcnt_kurt | 267 |\n",
       "| rarpt_min |   0 |\n",
       "| rarpt_max |   0 |\n",
       "| rarpt_mean |   0 |\n",
       "| rarpt_rng |   0 |\n",
       "| rarpt_std |  20 |\n",
       "| rarpt_skew | 419 |\n",
       "| rarpt_kurt | 419 |\n",
       "\n"
      ],
      "text/plain": [
       "            [,1]\n",
       "auc_win       0 \n",
       "count         0 \n",
       "ren_prp       0 \n",
       "tld_rat       0 \n",
       "geo_cnt       0 \n",
       "geo_maj      24 \n",
       "daydom_min    0 \n",
       "daydom_max    0 \n",
       "daydom_mean   0 \n",
       "daydom_rng    0 \n",
       "daydom_std   20 \n",
       "daydom_skew 143 \n",
       "daydom_kurt 143 \n",
       "sldlen_min    0 \n",
       "sldlen_max    0 \n",
       "sldlen_mean   0 \n",
       "sldlen_rng    0 \n",
       "sldlen_std   20 \n",
       "sldlen_skew  24 \n",
       "sldlen_kurt  24 \n",
       "gibbs_min     0 \n",
       "gibbs_max     0 \n",
       "gibbs_mean    0 \n",
       "gibbs_rng     0 \n",
       "gibbs_std    20 \n",
       "gibbs_skew   22 \n",
       "gibbs_kurt   22 \n",
       "pdcnt_min     0 \n",
       "pdcnt_max     0 \n",
       "pdcnt_mean    0 \n",
       "pdcnt_rng     0 \n",
       "pdcnt_std    20 \n",
       "pdcnt_skew  267 \n",
       "pdcnt_kurt  267 \n",
       "rarpt_min     0 \n",
       "rarpt_max     0 \n",
       "rarpt_mean    0 \n",
       "rarpt_rng     0 \n",
       "rarpt_std    20 \n",
       "rarpt_skew  419 \n",
       "rarpt_kurt  419 "
      ]
     },
     "metadata": {},
     "output_type": "display_data"
    }
   ],
   "source": [
    "train_auc %>%\n",
    "  select(everything()) %>%  \n",
    "  summarise_all(funs(sum(is.na(.)))) %>%  \n",
    "  t() "
   ]
  },
  {
   "cell_type": "code",
   "execution_count": 60,
   "metadata": {},
   "outputs": [],
   "source": [
    "# install.packages(\"missRanger\")\n",
    "library(missRanger)"
   ]
  },
  {
   "cell_type": "code",
   "execution_count": 61,
   "metadata": {},
   "outputs": [
    {
     "name": "stdout",
     "output_type": "stream",
     "text": [
      "\n",
      "Missing value imputation by random forests\n",
      "\n",
      "  Variables to impute:\t\tgeo_maj, daydom_std, daydom_skew, daydom_kurt, sldlen_std, sldlen_skew, sldlen_kurt, gibbs_std, gibbs_skew, gibbs_kurt, pdcnt_std, pdcnt_skew, pdcnt_kurt, rarpt_std, rarpt_skew, rarpt_kurt\n",
      "  Variables used to impute:\tauc_win, count, ren_prp, tld_rat, geo_cnt, geo_maj, daydom_min, daydom_max, daydom_mean, daydom_rng, daydom_std, daydom_skew, daydom_kurt, sldlen_min, sldlen_max, sldlen_mean, sldlen_rng, sldlen_std, sldlen_skew, sldlen_kurt, gibbs_min, gibbs_max, gibbs_mean, gibbs_rng, gibbs_std, gibbs_skew, gibbs_kurt, pdcnt_min, pdcnt_max, pdcnt_mean, pdcnt_rng, pdcnt_std, pdcnt_skew, pdcnt_kurt, rarpt_min, rarpt_max, rarpt_mean, rarpt_rng, rarpt_std, rarpt_skew, rarpt_kurt\n",
      "iter 1:\t......."
     ]
    },
    {
     "name": "stderr",
     "output_type": "stream",
     "text": [
      "Warning message:\n",
      "“Dropped unused factor level(s) in dependent variable: Middle East.”\n"
     ]
    },
    {
     "name": "stdout",
     "output_type": "stream",
     "text": [
      ".........\n",
      "iter 2:\t......."
     ]
    },
    {
     "name": "stderr",
     "output_type": "stream",
     "text": [
      "Warning message:\n",
      "“Dropped unused factor level(s) in dependent variable: Middle East.”\n"
     ]
    },
    {
     "name": "stdout",
     "output_type": "stream",
     "text": [
      ".........\n",
      "iter 3:\t......."
     ]
    },
    {
     "name": "stderr",
     "output_type": "stream",
     "text": [
      "Warning message:\n",
      "“Dropped unused factor level(s) in dependent variable: Middle East.”\n"
     ]
    },
    {
     "name": "stdout",
     "output_type": "stream",
     "text": [
      ".........\n",
      "iter 4:\t......."
     ]
    },
    {
     "name": "stderr",
     "output_type": "stream",
     "text": [
      "Warning message:\n",
      "“Dropped unused factor level(s) in dependent variable: Middle East.”\n"
     ]
    },
    {
     "name": "stdout",
     "output_type": "stream",
     "text": [
      ".........\n",
      "iter 5:\t......."
     ]
    },
    {
     "name": "stderr",
     "output_type": "stream",
     "text": [
      "Warning message:\n",
      "“Dropped unused factor level(s) in dependent variable: Middle East.”\n"
     ]
    },
    {
     "name": "stdout",
     "output_type": "stream",
     "text": [
      ".........\n"
     ]
    }
   ],
   "source": [
    "train_auc_imp <- missRanger(train_auc, num.trees = 100)"
   ]
  },
  {
   "cell_type": "code",
   "execution_count": 62,
   "metadata": {},
   "outputs": [
    {
     "name": "stdout",
     "output_type": "stream",
     "text": [
      "\n",
      "Missing value imputation by random forests\n",
      "\n",
      "  Variables to impute:\t\tgeo_maj, daydom_std, daydom_skew, daydom_kurt, sldlen_std, sldlen_skew, sldlen_kurt, gibbs_std, gibbs_skew, gibbs_kurt, pdcnt_std, pdcnt_skew, pdcnt_kurt, rarpt_std, rarpt_skew, rarpt_kurt\n",
      "  Variables used to impute:\tl10_win, count, ren_prp, tld_rat, geo_cnt, geo_maj, daydom_min, daydom_max, daydom_mean, daydom_rng, daydom_std, daydom_skew, daydom_kurt, sldlen_min, sldlen_max, sldlen_mean, sldlen_rng, sldlen_std, sldlen_skew, sldlen_kurt, gibbs_min, gibbs_max, gibbs_mean, gibbs_rng, gibbs_std, gibbs_skew, gibbs_kurt, pdcnt_min, pdcnt_max, pdcnt_mean, pdcnt_rng, pdcnt_std, pdcnt_skew, pdcnt_kurt, rarpt_min, rarpt_max, rarpt_mean, rarpt_rng, rarpt_std, rarpt_skew, rarpt_kurt\n",
      "iter 1:\t......."
     ]
    },
    {
     "name": "stderr",
     "output_type": "stream",
     "text": [
      "Warning message:\n",
      "“Dropped unused factor level(s) in dependent variable: Middle East.”\n"
     ]
    },
    {
     "name": "stdout",
     "output_type": "stream",
     "text": [
      ".........\n",
      "iter 2:\t......."
     ]
    },
    {
     "name": "stderr",
     "output_type": "stream",
     "text": [
      "Warning message:\n",
      "“Dropped unused factor level(s) in dependent variable: Middle East.”\n"
     ]
    },
    {
     "name": "stdout",
     "output_type": "stream",
     "text": [
      ".........\n",
      "iter 3:\t......."
     ]
    },
    {
     "name": "stderr",
     "output_type": "stream",
     "text": [
      "Warning message:\n",
      "“Dropped unused factor level(s) in dependent variable: Middle East.”\n"
     ]
    },
    {
     "name": "stdout",
     "output_type": "stream",
     "text": [
      ".........\n"
     ]
    }
   ],
   "source": [
    "train_l10_imp <- missRanger(train_l10, num.trees = 100)"
   ]
  },
  {
   "cell_type": "code",
   "execution_count": 63,
   "metadata": {},
   "outputs": [
    {
     "name": "stdout",
     "output_type": "stream",
     "text": [
      "\n",
      "Missing value imputation by random forests\n",
      "\n",
      "  Variables to impute:\t\tgeo_maj, daydom_std, daydom_skew, daydom_kurt, sldlen_std, sldlen_skew, sldlen_kurt, gibbs_std, gibbs_skew, gibbs_kurt, pdcnt_std, pdcnt_skew, pdcnt_kurt, rarpt_std, rarpt_skew, rarpt_kurt\n",
      "  Variables used to impute:\tauc_win, l10_win, count, ren_prp, tld_rat, geo_cnt, geo_maj, daydom_min, daydom_max, daydom_mean, daydom_rng, daydom_std, daydom_skew, daydom_kurt, sldlen_min, sldlen_max, sldlen_mean, sldlen_rng, sldlen_std, sldlen_skew, sldlen_kurt, gibbs_min, gibbs_max, gibbs_mean, gibbs_rng, gibbs_std, gibbs_skew, gibbs_kurt, pdcnt_min, pdcnt_max, pdcnt_mean, pdcnt_rng, pdcnt_std, pdcnt_skew, pdcnt_kurt, rarpt_min, rarpt_max, rarpt_mean, rarpt_rng, rarpt_std, rarpt_skew, rarpt_kurt\n",
      "iter 1:\t........."
     ]
    },
    {
     "name": "stderr",
     "output_type": "stream",
     "text": [
      "Warning message:\n",
      "“Dropped unused factor level(s) in dependent variable: Middle East.”\n"
     ]
    },
    {
     "name": "stdout",
     "output_type": "stream",
     "text": [
      ".......\n",
      "iter 2:\t........."
     ]
    },
    {
     "name": "stderr",
     "output_type": "stream",
     "text": [
      "Warning message:\n",
      "“Dropped unused factor level(s) in dependent variable: Middle East.”\n"
     ]
    },
    {
     "name": "stdout",
     "output_type": "stream",
     "text": [
      ".......\n",
      "iter 3:\t........."
     ]
    },
    {
     "name": "stderr",
     "output_type": "stream",
     "text": [
      "Warning message:\n",
      "“Dropped unused factor level(s) in dependent variable: Middle East.”\n"
     ]
    },
    {
     "name": "stdout",
     "output_type": "stream",
     "text": [
      ".......\n"
     ]
    }
   ],
   "source": [
    "test_imp <- missRanger(test, num.trees = 100)"
   ]
  },
  {
   "cell_type": "markdown",
   "metadata": {},
   "source": [
    "## RF multiclass auc"
   ]
  },
  {
   "cell_type": "code",
   "execution_count": 64,
   "metadata": {},
   "outputs": [],
   "source": [
    "library(ranger) "
   ]
  },
  {
   "cell_type": "code",
   "execution_count": 65,
   "metadata": {},
   "outputs": [],
   "source": [
    "model <- ranger(formula         = auc_win ~ ., \n",
    "                data            = train_auc_imp, \n",
    "                importance = 'impurity', \n",
    "                num.trees       = 500,\n",
    "                probability = TRUE,\n",
    "                replace = FALSE,\n",
    "                sample.fraction = .8,\n",
    "                seed            = 123,\n",
    "                respect.unordered.factors=TRUE)"
   ]
  },
  {
   "cell_type": "code",
   "execution_count": 66,
   "metadata": {},
   "outputs": [],
   "source": [
    "pred <- predict(model, \n",
    "                data = test_imp,\n",
    "                type=\"response\")$predictions"
   ]
  },
  {
   "cell_type": "code",
   "execution_count": 67,
   "metadata": {},
   "outputs": [
    {
     "data": {
      "text/html": [
       "<table>\n",
       "<caption>A matrix: 6 × 6 of type dbl</caption>\n",
       "<thead>\n",
       "\t<tr><th scope=col>auc_seg2_glm</th><th scope=col>auc_agg_glm</th><th scope=col>auc_agg_rf</th><th scope=col>auc_seg_glm</th><th scope=col>auc_seg_rf</th><th scope=col>auc_seg2_rf</th></tr>\n",
       "</thead>\n",
       "<tbody>\n",
       "\t<tr><td>0.1291548</td><td>0.2509706</td><td>0.2703452</td><td>0.07572143</td><td>0.14627540</td><td>0.12753254</td></tr>\n",
       "\t<tr><td>0.1993786</td><td>0.1938516</td><td>0.3238452</td><td>0.08795952</td><td>0.13624921</td><td>0.05871587</td></tr>\n",
       "\t<tr><td>0.1615857</td><td>0.1081619</td><td>0.3577563</td><td>0.09724048</td><td>0.07991825</td><td>0.19533730</td></tr>\n",
       "\t<tr><td>0.1649397</td><td>0.1513889</td><td>0.2968254</td><td>0.09179524</td><td>0.12959921</td><td>0.16545159</td></tr>\n",
       "\t<tr><td>0.0996881</td><td>0.1129746</td><td>0.4762960</td><td>0.06365000</td><td>0.17222619</td><td>0.07516508</td></tr>\n",
       "\t<tr><td>0.1784881</td><td>0.1235659</td><td>0.3946738</td><td>0.04305238</td><td>0.14948889</td><td>0.11073095</td></tr>\n",
       "</tbody>\n",
       "</table>\n"
      ],
      "text/latex": [
       "A matrix: 6 × 6 of type dbl\n",
       "\\begin{tabular}{llllll}\n",
       " auc\\_seg2\\_glm & auc\\_agg\\_glm & auc\\_agg\\_rf & auc\\_seg\\_glm & auc\\_seg\\_rf & auc\\_seg2\\_rf\\\\\n",
       "\\hline\n",
       "\t 0.1291548 & 0.2509706 & 0.2703452 & 0.07572143 & 0.14627540 & 0.12753254\\\\\n",
       "\t 0.1993786 & 0.1938516 & 0.3238452 & 0.08795952 & 0.13624921 & 0.05871587\\\\\n",
       "\t 0.1615857 & 0.1081619 & 0.3577563 & 0.09724048 & 0.07991825 & 0.19533730\\\\\n",
       "\t 0.1649397 & 0.1513889 & 0.2968254 & 0.09179524 & 0.12959921 & 0.16545159\\\\\n",
       "\t 0.0996881 & 0.1129746 & 0.4762960 & 0.06365000 & 0.17222619 & 0.07516508\\\\\n",
       "\t 0.1784881 & 0.1235659 & 0.3946738 & 0.04305238 & 0.14948889 & 0.11073095\\\\\n",
       "\\end{tabular}\n"
      ],
      "text/markdown": [
       "\n",
       "A matrix: 6 × 6 of type dbl\n",
       "\n",
       "| auc_seg2_glm | auc_agg_glm | auc_agg_rf | auc_seg_glm | auc_seg_rf | auc_seg2_rf |\n",
       "|---|---|---|---|---|---|\n",
       "| 0.1291548 | 0.2509706 | 0.2703452 | 0.07572143 | 0.14627540 | 0.12753254 |\n",
       "| 0.1993786 | 0.1938516 | 0.3238452 | 0.08795952 | 0.13624921 | 0.05871587 |\n",
       "| 0.1615857 | 0.1081619 | 0.3577563 | 0.09724048 | 0.07991825 | 0.19533730 |\n",
       "| 0.1649397 | 0.1513889 | 0.2968254 | 0.09179524 | 0.12959921 | 0.16545159 |\n",
       "| 0.0996881 | 0.1129746 | 0.4762960 | 0.06365000 | 0.17222619 | 0.07516508 |\n",
       "| 0.1784881 | 0.1235659 | 0.3946738 | 0.04305238 | 0.14948889 | 0.11073095 |\n",
       "\n"
      ],
      "text/plain": [
       "     auc_seg2_glm auc_agg_glm auc_agg_rf auc_seg_glm auc_seg_rf auc_seg2_rf\n",
       "[1,] 0.1291548    0.2509706   0.2703452  0.07572143  0.14627540 0.12753254 \n",
       "[2,] 0.1993786    0.1938516   0.3238452  0.08795952  0.13624921 0.05871587 \n",
       "[3,] 0.1615857    0.1081619   0.3577563  0.09724048  0.07991825 0.19533730 \n",
       "[4,] 0.1649397    0.1513889   0.2968254  0.09179524  0.12959921 0.16545159 \n",
       "[5,] 0.0996881    0.1129746   0.4762960  0.06365000  0.17222619 0.07516508 \n",
       "[6,] 0.1784881    0.1235659   0.3946738  0.04305238  0.14948889 0.11073095 "
      ]
     },
     "metadata": {},
     "output_type": "display_data"
    }
   ],
   "source": [
    "head(pred)"
   ]
  },
  {
   "cell_type": "code",
   "execution_count": 68,
   "metadata": {},
   "outputs": [
    {
     "data": {
      "text/html": [
       "<table>\n",
       "<caption>A data.frame: 6 × 7</caption>\n",
       "<thead>\n",
       "\t<tr><th></th><th scope=col>auc_seg2_glm</th><th scope=col>auc_agg_glm</th><th scope=col>auc_agg_rf</th><th scope=col>auc_seg_glm</th><th scope=col>auc_seg_rf</th><th scope=col>auc_seg2_rf</th><th scope=col>auc_win</th></tr>\n",
       "\t<tr><th></th><th scope=col>&lt;dbl&gt;</th><th scope=col>&lt;dbl&gt;</th><th scope=col>&lt;dbl&gt;</th><th scope=col>&lt;dbl&gt;</th><th scope=col>&lt;dbl&gt;</th><th scope=col>&lt;dbl&gt;</th><th scope=col>&lt;chr&gt;</th></tr>\n",
       "</thead>\n",
       "<tbody>\n",
       "\t<tr><th scope=row>1</th><td>0.1291548</td><td>0.2509706</td><td>0.2703452</td><td>0.07572143</td><td>0.14627540</td><td>0.12753254</td><td>auc_agg_rf</td></tr>\n",
       "\t<tr><th scope=row>2</th><td>0.1993786</td><td>0.1938516</td><td>0.3238452</td><td>0.08795952</td><td>0.13624921</td><td>0.05871587</td><td>auc_agg_rf</td></tr>\n",
       "\t<tr><th scope=row>3</th><td>0.1615857</td><td>0.1081619</td><td>0.3577563</td><td>0.09724048</td><td>0.07991825</td><td>0.19533730</td><td>auc_agg_rf</td></tr>\n",
       "\t<tr><th scope=row>4</th><td>0.1649397</td><td>0.1513889</td><td>0.2968254</td><td>0.09179524</td><td>0.12959921</td><td>0.16545159</td><td>auc_agg_rf</td></tr>\n",
       "\t<tr><th scope=row>5</th><td>0.0996881</td><td>0.1129746</td><td>0.4762960</td><td>0.06365000</td><td>0.17222619</td><td>0.07516508</td><td>auc_agg_rf</td></tr>\n",
       "\t<tr><th scope=row>6</th><td>0.1784881</td><td>0.1235659</td><td>0.3946738</td><td>0.04305238</td><td>0.14948889</td><td>0.11073095</td><td>auc_agg_rf</td></tr>\n",
       "</tbody>\n",
       "</table>\n"
      ],
      "text/latex": [
       "A data.frame: 6 × 7\n",
       "\\begin{tabular}{r|lllllll}\n",
       "  & auc\\_seg2\\_glm & auc\\_agg\\_glm & auc\\_agg\\_rf & auc\\_seg\\_glm & auc\\_seg\\_rf & auc\\_seg2\\_rf & auc\\_win\\\\\n",
       "  & <dbl> & <dbl> & <dbl> & <dbl> & <dbl> & <dbl> & <chr>\\\\\n",
       "\\hline\n",
       "\t1 & 0.1291548 & 0.2509706 & 0.2703452 & 0.07572143 & 0.14627540 & 0.12753254 & auc\\_agg\\_rf\\\\\n",
       "\t2 & 0.1993786 & 0.1938516 & 0.3238452 & 0.08795952 & 0.13624921 & 0.05871587 & auc\\_agg\\_rf\\\\\n",
       "\t3 & 0.1615857 & 0.1081619 & 0.3577563 & 0.09724048 & 0.07991825 & 0.19533730 & auc\\_agg\\_rf\\\\\n",
       "\t4 & 0.1649397 & 0.1513889 & 0.2968254 & 0.09179524 & 0.12959921 & 0.16545159 & auc\\_agg\\_rf\\\\\n",
       "\t5 & 0.0996881 & 0.1129746 & 0.4762960 & 0.06365000 & 0.17222619 & 0.07516508 & auc\\_agg\\_rf\\\\\n",
       "\t6 & 0.1784881 & 0.1235659 & 0.3946738 & 0.04305238 & 0.14948889 & 0.11073095 & auc\\_agg\\_rf\\\\\n",
       "\\end{tabular}\n"
      ],
      "text/markdown": [
       "\n",
       "A data.frame: 6 × 7\n",
       "\n",
       "| <!--/--> | auc_seg2_glm &lt;dbl&gt; | auc_agg_glm &lt;dbl&gt; | auc_agg_rf &lt;dbl&gt; | auc_seg_glm &lt;dbl&gt; | auc_seg_rf &lt;dbl&gt; | auc_seg2_rf &lt;dbl&gt; | auc_win &lt;chr&gt; |\n",
       "|---|---|---|---|---|---|---|---|\n",
       "| 1 | 0.1291548 | 0.2509706 | 0.2703452 | 0.07572143 | 0.14627540 | 0.12753254 | auc_agg_rf |\n",
       "| 2 | 0.1993786 | 0.1938516 | 0.3238452 | 0.08795952 | 0.13624921 | 0.05871587 | auc_agg_rf |\n",
       "| 3 | 0.1615857 | 0.1081619 | 0.3577563 | 0.09724048 | 0.07991825 | 0.19533730 | auc_agg_rf |\n",
       "| 4 | 0.1649397 | 0.1513889 | 0.2968254 | 0.09179524 | 0.12959921 | 0.16545159 | auc_agg_rf |\n",
       "| 5 | 0.0996881 | 0.1129746 | 0.4762960 | 0.06365000 | 0.17222619 | 0.07516508 | auc_agg_rf |\n",
       "| 6 | 0.1784881 | 0.1235659 | 0.3946738 | 0.04305238 | 0.14948889 | 0.11073095 | auc_agg_rf |\n",
       "\n"
      ],
      "text/plain": [
       "  auc_seg2_glm auc_agg_glm auc_agg_rf auc_seg_glm auc_seg_rf auc_seg2_rf\n",
       "1 0.1291548    0.2509706   0.2703452  0.07572143  0.14627540 0.12753254 \n",
       "2 0.1993786    0.1938516   0.3238452  0.08795952  0.13624921 0.05871587 \n",
       "3 0.1615857    0.1081619   0.3577563  0.09724048  0.07991825 0.19533730 \n",
       "4 0.1649397    0.1513889   0.2968254  0.09179524  0.12959921 0.16545159 \n",
       "5 0.0996881    0.1129746   0.4762960  0.06365000  0.17222619 0.07516508 \n",
       "6 0.1784881    0.1235659   0.3946738  0.04305238  0.14948889 0.11073095 \n",
       "  auc_win   \n",
       "1 auc_agg_rf\n",
       "2 auc_agg_rf\n",
       "3 auc_agg_rf\n",
       "4 auc_agg_rf\n",
       "5 auc_agg_rf\n",
       "6 auc_agg_rf"
      ]
     },
     "metadata": {},
     "output_type": "display_data"
    }
   ],
   "source": [
    "pred <- as.data.frame(pred)\n",
    "auc_vars <- names(pred)\n",
    "pred <- pred %>%\n",
    "    mutate (auc_win=sapply(apply(.[,c(auc_vars)], \n",
    "                          1, function(x) names(x)[which.max(x)]) , function(s) if (length(s) == 0) NA else paste(s, collapse = \" \")) \n",
    "            ) \n",
    "head(pred)"
   ]
  },
  {
   "cell_type": "code",
   "execution_count": 69,
   "metadata": {},
   "outputs": [
    {
     "data": {
      "text/plain": [
       "              \n",
       "               auc_agg_glm auc_agg_rf auc_seg_glm auc_seg_rf auc_seg2_glm\n",
       "  auc_agg_glm            8          0           2          0           12\n",
       "  auc_agg_rf             4          1           6          1            9\n",
       "  auc_seg_glm            6          0           4          0           23\n",
       "  auc_seg_rf             3          2           5          0           13\n",
       "  auc_seg2_glm          11          4           8          0           67\n",
       "  auc_seg2_rf            2          1           4          0           13\n",
       "              \n",
       "               auc_seg2_rf\n",
       "  auc_agg_glm            0\n",
       "  auc_agg_rf             0\n",
       "  auc_seg_glm            0\n",
       "  auc_seg_rf             0\n",
       "  auc_seg2_glm           1\n",
       "  auc_seg2_rf            2"
      ]
     },
     "metadata": {},
     "output_type": "display_data"
    }
   ],
   "source": [
    "xtab <- table(test_imp$auc_win, pred$auc_win)\n",
    "xtab"
   ]
  },
  {
   "cell_type": "code",
   "execution_count": 70,
   "metadata": {},
   "outputs": [
    {
     "data": {
      "text/plain": [
       "Confusion Matrix and Statistics\n",
       "\n",
       "              Reference\n",
       "Prediction     auc_agg_glm auc_agg_rf auc_seg_glm auc_seg_rf auc_seg2_glm\n",
       "  auc_agg_glm            8          0           2          0           12\n",
       "  auc_agg_rf             4          1           6          1            9\n",
       "  auc_seg_glm            6          0           4          0           23\n",
       "  auc_seg_rf             3          2           5          0           13\n",
       "  auc_seg2_glm          11          4           8          0           67\n",
       "  auc_seg2_rf            2          1           4          0           13\n",
       "              Reference\n",
       "Prediction     auc_seg2_rf\n",
       "  auc_agg_glm            0\n",
       "  auc_agg_rf             0\n",
       "  auc_seg_glm            0\n",
       "  auc_seg_rf             0\n",
       "  auc_seg2_glm           1\n",
       "  auc_seg2_rf            2\n",
       "\n",
       "Overall Statistics\n",
       "                                          \n",
       "               Accuracy : 0.3868          \n",
       "                 95% CI : (0.3209, 0.4559)\n",
       "    No Information Rate : 0.6462          \n",
       "    P-Value [Acc > NIR] : 1               \n",
       "                                          \n",
       "                  Kappa : 0.0968          \n",
       "                                          \n",
       " Mcnemar's Test P-Value : NA              \n",
       "\n",
       "Statistics by Class:\n",
       "\n",
       "                     Class: auc_agg_glm Class: auc_agg_rf Class: auc_seg_glm\n",
       "Sensitivity                     0.23529          0.125000            0.13793\n",
       "Specificity                     0.92135          0.901961            0.84153\n",
       "Pos Pred Value                  0.36364          0.047619            0.12121\n",
       "Neg Pred Value                  0.86316          0.963351            0.86034\n",
       "Prevalence                      0.16038          0.037736            0.13679\n",
       "Detection Rate                  0.03774          0.004717            0.01887\n",
       "Detection Prevalence            0.10377          0.099057            0.15566\n",
       "Balanced Accuracy               0.57832          0.513480            0.48973\n",
       "                     Class: auc_seg_rf Class: auc_seg2_glm Class: auc_seg2_rf\n",
       "Sensitivity                   0.000000              0.4891           0.666667\n",
       "Specificity                   0.890995              0.6800           0.904306\n",
       "Pos Pred Value                0.000000              0.7363           0.090909\n",
       "Neg Pred Value                0.994709              0.4215           0.994737\n",
       "Prevalence                    0.004717              0.6462           0.014151\n",
       "Detection Rate                0.000000              0.3160           0.009434\n",
       "Detection Prevalence          0.108491              0.4292           0.103774\n",
       "Balanced Accuracy             0.445498              0.5845           0.785486"
      ]
     },
     "metadata": {},
     "output_type": "display_data"
    }
   ],
   "source": [
    "confusionMatrix(data=factor(test_imp$auc_win), reference=factor(pred$auc_win))"
   ]
  },
  {
   "cell_type": "markdown",
   "metadata": {},
   "source": [
    "## RF multiclass l10"
   ]
  },
  {
   "cell_type": "code",
   "execution_count": 71,
   "metadata": {},
   "outputs": [],
   "source": [
    "library(ranger) "
   ]
  },
  {
   "cell_type": "code",
   "execution_count": 72,
   "metadata": {},
   "outputs": [],
   "source": [
    "model_l10 <- ranger(formula         = l10_win ~ ., \n",
    "                data            = train_l10_imp, \n",
    "                importance = 'impurity', \n",
    "                num.trees       = 500,\n",
    "                probability = TRUE,\n",
    "                replace = FALSE,\n",
    "                sample.fraction = .8,\n",
    "                seed            = 123,\n",
    "                respect.unordered.factors=TRUE)"
   ]
  },
  {
   "cell_type": "code",
   "execution_count": 73,
   "metadata": {},
   "outputs": [],
   "source": [
    "pred <- predict(model_l10, \n",
    "                data = test_imp,\n",
    "                type=\"response\")$predictions"
   ]
  },
  {
   "cell_type": "code",
   "execution_count": 74,
   "metadata": {},
   "outputs": [
    {
     "data": {
      "text/html": [
       "<table>\n",
       "<caption>A matrix: 6 × 6 of type dbl</caption>\n",
       "<thead>\n",
       "\t<tr><th scope=col>l10_seg2_glm</th><th scope=col>l10_agg_glm</th><th scope=col>l10_agg_rf</th><th scope=col>l10_seg_glm</th><th scope=col>l10_seg_rf</th><th scope=col>l10_seg2_rf</th></tr>\n",
       "</thead>\n",
       "<tbody>\n",
       "\t<tr><td>0.18515159</td><td>0.2418857</td><td>0.2593643</td><td>0.1233373</td><td>0.11780714</td><td>0.07245397</td></tr>\n",
       "\t<tr><td>0.09553492</td><td>0.1807754</td><td>0.4270405</td><td>0.1471857</td><td>0.07892698</td><td>0.07053651</td></tr>\n",
       "\t<tr><td>0.43676587</td><td>0.1182675</td><td>0.1314913</td><td>0.1023103</td><td>0.04190079</td><td>0.16926429</td></tr>\n",
       "\t<tr><td>0.30521270</td><td>0.1837349</td><td>0.2030857</td><td>0.1266516</td><td>0.09498968</td><td>0.08632540</td></tr>\n",
       "\t<tr><td>0.16655397</td><td>0.2340754</td><td>0.2525183</td><td>0.1434706</td><td>0.08654603</td><td>0.11683571</td></tr>\n",
       "\t<tr><td>0.29352540</td><td>0.1516532</td><td>0.1819857</td><td>0.1104183</td><td>0.10993333</td><td>0.15248413</td></tr>\n",
       "</tbody>\n",
       "</table>\n"
      ],
      "text/latex": [
       "A matrix: 6 × 6 of type dbl\n",
       "\\begin{tabular}{llllll}\n",
       " l10\\_seg2\\_glm & l10\\_agg\\_glm & l10\\_agg\\_rf & l10\\_seg\\_glm & l10\\_seg\\_rf & l10\\_seg2\\_rf\\\\\n",
       "\\hline\n",
       "\t 0.18515159 & 0.2418857 & 0.2593643 & 0.1233373 & 0.11780714 & 0.07245397\\\\\n",
       "\t 0.09553492 & 0.1807754 & 0.4270405 & 0.1471857 & 0.07892698 & 0.07053651\\\\\n",
       "\t 0.43676587 & 0.1182675 & 0.1314913 & 0.1023103 & 0.04190079 & 0.16926429\\\\\n",
       "\t 0.30521270 & 0.1837349 & 0.2030857 & 0.1266516 & 0.09498968 & 0.08632540\\\\\n",
       "\t 0.16655397 & 0.2340754 & 0.2525183 & 0.1434706 & 0.08654603 & 0.11683571\\\\\n",
       "\t 0.29352540 & 0.1516532 & 0.1819857 & 0.1104183 & 0.10993333 & 0.15248413\\\\\n",
       "\\end{tabular}\n"
      ],
      "text/markdown": [
       "\n",
       "A matrix: 6 × 6 of type dbl\n",
       "\n",
       "| l10_seg2_glm | l10_agg_glm | l10_agg_rf | l10_seg_glm | l10_seg_rf | l10_seg2_rf |\n",
       "|---|---|---|---|---|---|\n",
       "| 0.18515159 | 0.2418857 | 0.2593643 | 0.1233373 | 0.11780714 | 0.07245397 |\n",
       "| 0.09553492 | 0.1807754 | 0.4270405 | 0.1471857 | 0.07892698 | 0.07053651 |\n",
       "| 0.43676587 | 0.1182675 | 0.1314913 | 0.1023103 | 0.04190079 | 0.16926429 |\n",
       "| 0.30521270 | 0.1837349 | 0.2030857 | 0.1266516 | 0.09498968 | 0.08632540 |\n",
       "| 0.16655397 | 0.2340754 | 0.2525183 | 0.1434706 | 0.08654603 | 0.11683571 |\n",
       "| 0.29352540 | 0.1516532 | 0.1819857 | 0.1104183 | 0.10993333 | 0.15248413 |\n",
       "\n"
      ],
      "text/plain": [
       "     l10_seg2_glm l10_agg_glm l10_agg_rf l10_seg_glm l10_seg_rf l10_seg2_rf\n",
       "[1,] 0.18515159   0.2418857   0.2593643  0.1233373   0.11780714 0.07245397 \n",
       "[2,] 0.09553492   0.1807754   0.4270405  0.1471857   0.07892698 0.07053651 \n",
       "[3,] 0.43676587   0.1182675   0.1314913  0.1023103   0.04190079 0.16926429 \n",
       "[4,] 0.30521270   0.1837349   0.2030857  0.1266516   0.09498968 0.08632540 \n",
       "[5,] 0.16655397   0.2340754   0.2525183  0.1434706   0.08654603 0.11683571 \n",
       "[6,] 0.29352540   0.1516532   0.1819857  0.1104183   0.10993333 0.15248413 "
      ]
     },
     "metadata": {},
     "output_type": "display_data"
    }
   ],
   "source": [
    "head(pred)"
   ]
  },
  {
   "cell_type": "code",
   "execution_count": 75,
   "metadata": {},
   "outputs": [
    {
     "data": {
      "text/html": [
       "<table>\n",
       "<caption>A data.frame: 6 × 7</caption>\n",
       "<thead>\n",
       "\t<tr><th></th><th scope=col>l10_seg2_glm</th><th scope=col>l10_agg_glm</th><th scope=col>l10_agg_rf</th><th scope=col>l10_seg_glm</th><th scope=col>l10_seg_rf</th><th scope=col>l10_seg2_rf</th><th scope=col>win</th></tr>\n",
       "\t<tr><th></th><th scope=col>&lt;dbl&gt;</th><th scope=col>&lt;dbl&gt;</th><th scope=col>&lt;dbl&gt;</th><th scope=col>&lt;dbl&gt;</th><th scope=col>&lt;dbl&gt;</th><th scope=col>&lt;dbl&gt;</th><th scope=col>&lt;chr&gt;</th></tr>\n",
       "</thead>\n",
       "<tbody>\n",
       "\t<tr><th scope=row>1</th><td>0.18515159</td><td>0.2418857</td><td>0.2593643</td><td>0.1233373</td><td>0.11780714</td><td>0.07245397</td><td>l10_agg_rf  </td></tr>\n",
       "\t<tr><th scope=row>2</th><td>0.09553492</td><td>0.1807754</td><td>0.4270405</td><td>0.1471857</td><td>0.07892698</td><td>0.07053651</td><td>l10_agg_rf  </td></tr>\n",
       "\t<tr><th scope=row>3</th><td>0.43676587</td><td>0.1182675</td><td>0.1314913</td><td>0.1023103</td><td>0.04190079</td><td>0.16926429</td><td>l10_seg2_glm</td></tr>\n",
       "\t<tr><th scope=row>4</th><td>0.30521270</td><td>0.1837349</td><td>0.2030857</td><td>0.1266516</td><td>0.09498968</td><td>0.08632540</td><td>l10_seg2_glm</td></tr>\n",
       "\t<tr><th scope=row>5</th><td>0.16655397</td><td>0.2340754</td><td>0.2525183</td><td>0.1434706</td><td>0.08654603</td><td>0.11683571</td><td>l10_agg_rf  </td></tr>\n",
       "\t<tr><th scope=row>6</th><td>0.29352540</td><td>0.1516532</td><td>0.1819857</td><td>0.1104183</td><td>0.10993333</td><td>0.15248413</td><td>l10_seg2_glm</td></tr>\n",
       "</tbody>\n",
       "</table>\n"
      ],
      "text/latex": [
       "A data.frame: 6 × 7\n",
       "\\begin{tabular}{r|lllllll}\n",
       "  & l10\\_seg2\\_glm & l10\\_agg\\_glm & l10\\_agg\\_rf & l10\\_seg\\_glm & l10\\_seg\\_rf & l10\\_seg2\\_rf & win\\\\\n",
       "  & <dbl> & <dbl> & <dbl> & <dbl> & <dbl> & <dbl> & <chr>\\\\\n",
       "\\hline\n",
       "\t1 & 0.18515159 & 0.2418857 & 0.2593643 & 0.1233373 & 0.11780714 & 0.07245397 & l10\\_agg\\_rf  \\\\\n",
       "\t2 & 0.09553492 & 0.1807754 & 0.4270405 & 0.1471857 & 0.07892698 & 0.07053651 & l10\\_agg\\_rf  \\\\\n",
       "\t3 & 0.43676587 & 0.1182675 & 0.1314913 & 0.1023103 & 0.04190079 & 0.16926429 & l10\\_seg2\\_glm\\\\\n",
       "\t4 & 0.30521270 & 0.1837349 & 0.2030857 & 0.1266516 & 0.09498968 & 0.08632540 & l10\\_seg2\\_glm\\\\\n",
       "\t5 & 0.16655397 & 0.2340754 & 0.2525183 & 0.1434706 & 0.08654603 & 0.11683571 & l10\\_agg\\_rf  \\\\\n",
       "\t6 & 0.29352540 & 0.1516532 & 0.1819857 & 0.1104183 & 0.10993333 & 0.15248413 & l10\\_seg2\\_glm\\\\\n",
       "\\end{tabular}\n"
      ],
      "text/markdown": [
       "\n",
       "A data.frame: 6 × 7\n",
       "\n",
       "| <!--/--> | l10_seg2_glm &lt;dbl&gt; | l10_agg_glm &lt;dbl&gt; | l10_agg_rf &lt;dbl&gt; | l10_seg_glm &lt;dbl&gt; | l10_seg_rf &lt;dbl&gt; | l10_seg2_rf &lt;dbl&gt; | win &lt;chr&gt; |\n",
       "|---|---|---|---|---|---|---|---|\n",
       "| 1 | 0.18515159 | 0.2418857 | 0.2593643 | 0.1233373 | 0.11780714 | 0.07245397 | l10_agg_rf   |\n",
       "| 2 | 0.09553492 | 0.1807754 | 0.4270405 | 0.1471857 | 0.07892698 | 0.07053651 | l10_agg_rf   |\n",
       "| 3 | 0.43676587 | 0.1182675 | 0.1314913 | 0.1023103 | 0.04190079 | 0.16926429 | l10_seg2_glm |\n",
       "| 4 | 0.30521270 | 0.1837349 | 0.2030857 | 0.1266516 | 0.09498968 | 0.08632540 | l10_seg2_glm |\n",
       "| 5 | 0.16655397 | 0.2340754 | 0.2525183 | 0.1434706 | 0.08654603 | 0.11683571 | l10_agg_rf   |\n",
       "| 6 | 0.29352540 | 0.1516532 | 0.1819857 | 0.1104183 | 0.10993333 | 0.15248413 | l10_seg2_glm |\n",
       "\n"
      ],
      "text/plain": [
       "  l10_seg2_glm l10_agg_glm l10_agg_rf l10_seg_glm l10_seg_rf l10_seg2_rf\n",
       "1 0.18515159   0.2418857   0.2593643  0.1233373   0.11780714 0.07245397 \n",
       "2 0.09553492   0.1807754   0.4270405  0.1471857   0.07892698 0.07053651 \n",
       "3 0.43676587   0.1182675   0.1314913  0.1023103   0.04190079 0.16926429 \n",
       "4 0.30521270   0.1837349   0.2030857  0.1266516   0.09498968 0.08632540 \n",
       "5 0.16655397   0.2340754   0.2525183  0.1434706   0.08654603 0.11683571 \n",
       "6 0.29352540   0.1516532   0.1819857  0.1104183   0.10993333 0.15248413 \n",
       "  win         \n",
       "1 l10_agg_rf  \n",
       "2 l10_agg_rf  \n",
       "3 l10_seg2_glm\n",
       "4 l10_seg2_glm\n",
       "5 l10_agg_rf  \n",
       "6 l10_seg2_glm"
      ]
     },
     "metadata": {},
     "output_type": "display_data"
    }
   ],
   "source": [
    "pred <- as.data.frame(pred)\n",
    "vars <- names(pred)\n",
    "pred <- pred %>%\n",
    "    mutate (win=sapply(apply(.[,c(vars)], \n",
    "                          1, function(x) names(x)[which.max(x)]) , function(s) if (length(s) == 0) NA else paste(s, collapse = \" \")) \n",
    "            ) \n",
    "head(pred)"
   ]
  },
  {
   "cell_type": "code",
   "execution_count": 76,
   "metadata": {},
   "outputs": [
    {
     "data": {
      "text/plain": [
       "              \n",
       "               l10_agg_glm l10_agg_rf l10_seg_glm l10_seg2_glm l10_seg2_rf\n",
       "  l10_agg_glm            0          0           1           18           1\n",
       "  l10_agg_rf             0          0           4            6           0\n",
       "  l10_seg_glm            0          0           0           33           0\n",
       "  l10_seg_rf             0          1           0            2           0\n",
       "  l10_seg2_glm           0          1           0          127           0\n",
       "  l10_seg2_rf            1          1           1           14           1"
      ]
     },
     "metadata": {},
     "output_type": "display_data"
    }
   ],
   "source": [
    "xtab <- table(test_imp$l10_win, pred$win)\n",
    "xtab"
   ]
  },
  {
   "cell_type": "code",
   "execution_count": 77,
   "metadata": {},
   "outputs": [
    {
     "data": {
      "text/plain": [
       "Confusion Matrix and Statistics\n",
       "\n",
       "              Reference\n",
       "Prediction     l10_agg_glm l10_agg_rf l10_seg_glm l10_seg_rf l10_seg2_glm\n",
       "  l10_agg_glm            0          0           1          0           18\n",
       "  l10_agg_rf             0          0           4          0            6\n",
       "  l10_seg_glm            0          0           0          0           33\n",
       "  l10_seg_rf             0          1           0          0            2\n",
       "  l10_seg2_glm           0          1           0          0          127\n",
       "  l10_seg2_rf            1          1           1          0           14\n",
       "              Reference\n",
       "Prediction     l10_seg2_rf\n",
       "  l10_agg_glm            1\n",
       "  l10_agg_rf             0\n",
       "  l10_seg_glm            0\n",
       "  l10_seg_rf             0\n",
       "  l10_seg2_glm           0\n",
       "  l10_seg2_rf            1\n",
       "\n",
       "Overall Statistics\n",
       "                                          \n",
       "               Accuracy : 0.6038          \n",
       "                 95% CI : (0.5345, 0.6701)\n",
       "    No Information Rate : 0.9434          \n",
       "    P-Value [Acc > NIR] : 1               \n",
       "                                          \n",
       "                  Kappa : 0.0657          \n",
       "                                          \n",
       " Mcnemar's Test P-Value : NA              \n",
       "\n",
       "Statistics by Class:\n",
       "\n",
       "                     Class: l10_agg_glm Class: l10_agg_rf Class: l10_seg_glm\n",
       "Sensitivity                    0.000000           0.00000             0.0000\n",
       "Specificity                    0.905213           0.95215             0.8398\n",
       "Pos Pred Value                 0.000000           0.00000             0.0000\n",
       "Neg Pred Value                 0.994792           0.98515             0.9665\n",
       "Prevalence                     0.004717           0.01415             0.0283\n",
       "Detection Rate                 0.000000           0.00000             0.0000\n",
       "Detection Prevalence           0.094340           0.04717             0.1557\n",
       "Balanced Accuracy              0.452607           0.47608             0.4199\n",
       "                     Class: l10_seg_rf Class: l10_seg2_glm Class: l10_seg2_rf\n",
       "Sensitivity                         NA              0.6350           0.500000\n",
       "Specificity                    0.98585              0.9167           0.919048\n",
       "Pos Pred Value                      NA              0.9922           0.055556\n",
       "Neg Pred Value                      NA              0.1310           0.994845\n",
       "Prevalence                     0.00000              0.9434           0.009434\n",
       "Detection Rate                 0.00000              0.5991           0.004717\n",
       "Detection Prevalence           0.01415              0.6038           0.084906\n",
       "Balanced Accuracy                   NA              0.7758           0.709524"
      ]
     },
     "metadata": {},
     "output_type": "display_data"
    }
   ],
   "source": [
    "confusionMatrix(data=factor(test_imp$l10_win), reference=factor(pred$win, levels=levels(factor(test_imp$l10_win))))"
   ]
  },
  {
   "cell_type": "code",
   "execution_count": 78,
   "metadata": {},
   "outputs": [
    {
     "name": "stdout",
     "output_type": "stream",
     "text": [
      " Factor w/ 6 levels \"l10_agg_glm\",..: 6 5 5 6 4 5 5 1 5 5 ...\n",
      " - attr(*, \"names\")= chr [1:212] \"1\" \"3\" \"7\" \"12\" ...\n",
      " Factor w/ 5 levels \"l10_agg_glm\",..: 2 2 4 4 2 4 4 4 4 4 ...\n",
      " - attr(*, \"names\")= chr [1:212] \"l10_agg_rf\" \"l10_agg_rf\" \"l10_seg2_glm\" \"l10_seg2_glm\" ...\n"
     ]
    }
   ],
   "source": [
    "str(factor(test_imp$l10_win))\n",
    "str(factor(pred$win))"
   ]
  },
  {
   "cell_type": "code",
   "execution_count": 79,
   "metadata": {},
   "outputs": [
    {
     "data": {
      "text/html": [
       "<style>\n",
       ".list-inline {list-style: none; margin:0; padding: 0}\n",
       ".list-inline>li {display: inline-block}\n",
       ".list-inline>li:not(:last-child)::after {content: \"\\00b7\"; padding: 0 .5ex}\n",
       "</style>\n",
       "<ol class=list-inline><li>'l10_agg_glm'</li><li>'l10_agg_rf'</li><li>'l10_seg_glm'</li><li>'l10_seg_rf'</li><li>'l10_seg2_glm'</li><li>'l10_seg2_rf'</li></ol>\n"
      ],
      "text/latex": [
       "\\begin{enumerate*}\n",
       "\\item 'l10\\_agg\\_glm'\n",
       "\\item 'l10\\_agg\\_rf'\n",
       "\\item 'l10\\_seg\\_glm'\n",
       "\\item 'l10\\_seg\\_rf'\n",
       "\\item 'l10\\_seg2\\_glm'\n",
       "\\item 'l10\\_seg2\\_rf'\n",
       "\\end{enumerate*}\n"
      ],
      "text/markdown": [
       "1. 'l10_agg_glm'\n",
       "2. 'l10_agg_rf'\n",
       "3. 'l10_seg_glm'\n",
       "4. 'l10_seg_rf'\n",
       "5. 'l10_seg2_glm'\n",
       "6. 'l10_seg2_rf'\n",
       "\n",
       "\n"
      ],
      "text/plain": [
       "[1] \"l10_agg_glm\"  \"l10_agg_rf\"   \"l10_seg_glm\"  \"l10_seg_rf\"   \"l10_seg2_glm\"\n",
       "[6] \"l10_seg2_rf\" "
      ]
     },
     "metadata": {},
     "output_type": "display_data"
    },
    {
     "data": {
      "text/html": [
       "<style>\n",
       ".list-inline {list-style: none; margin:0; padding: 0}\n",
       ".list-inline>li {display: inline-block}\n",
       ".list-inline>li:not(:last-child)::after {content: \"\\00b7\"; padding: 0 .5ex}\n",
       "</style>\n",
       "<ol class=list-inline><li>'l10_agg_glm'</li><li>'l10_agg_rf'</li><li>'l10_seg_glm'</li><li>'l10_seg2_glm'</li><li>'l10_seg2_rf'</li></ol>\n"
      ],
      "text/latex": [
       "\\begin{enumerate*}\n",
       "\\item 'l10\\_agg\\_glm'\n",
       "\\item 'l10\\_agg\\_rf'\n",
       "\\item 'l10\\_seg\\_glm'\n",
       "\\item 'l10\\_seg2\\_glm'\n",
       "\\item 'l10\\_seg2\\_rf'\n",
       "\\end{enumerate*}\n"
      ],
      "text/markdown": [
       "1. 'l10_agg_glm'\n",
       "2. 'l10_agg_rf'\n",
       "3. 'l10_seg_glm'\n",
       "4. 'l10_seg2_glm'\n",
       "5. 'l10_seg2_rf'\n",
       "\n",
       "\n"
      ],
      "text/plain": [
       "[1] \"l10_agg_glm\"  \"l10_agg_rf\"   \"l10_seg_glm\"  \"l10_seg2_glm\" \"l10_seg2_rf\" "
      ]
     },
     "metadata": {},
     "output_type": "display_data"
    }
   ],
   "source": [
    "levels(factor(test_imp$l10_win))\n",
    "levels(factor(pred$win))"
   ]
  },
  {
   "cell_type": "code",
   "execution_count": 80,
   "metadata": {},
   "outputs": [
    {
     "data": {
      "text/plain": [
       "\n",
       " l10_agg_glm   l10_agg_rf  l10_seg_glm   l10_seg_rf l10_seg2_glm  l10_seg2_rf \n",
       "          20           10           33            3          128           18 "
      ]
     },
     "metadata": {},
     "output_type": "display_data"
    }
   ],
   "source": [
    "table(test_imp$l10_win)"
   ]
  },
  {
   "cell_type": "code",
   "execution_count": 81,
   "metadata": {},
   "outputs": [
    {
     "data": {
      "text/plain": [
       "\n",
       " l10_agg_glm   l10_agg_rf  l10_seg_glm l10_seg2_glm  l10_seg2_rf \n",
       "           1            3            6          200            2 "
      ]
     },
     "metadata": {},
     "output_type": "display_data"
    }
   ],
   "source": [
    "table(pred$win)"
   ]
  },
  {
   "cell_type": "markdown",
   "metadata": {},
   "source": [
    "## Variable importance across auc & l10"
   ]
  },
  {
   "cell_type": "code",
   "execution_count": 82,
   "metadata": {},
   "outputs": [
    {
     "data": {
      "text/html": [
       "<table>\n",
       "<caption>A data.frame: 40 × 4</caption>\n",
       "<thead>\n",
       "\t<tr><th></th><th scope=col>var</th><th scope=col>auc_imp</th><th scope=col>l10_imp</th><th scope=col>rank</th></tr>\n",
       "\t<tr><th></th><th scope=col>&lt;I&lt;chr&gt;&gt;</th><th scope=col>&lt;dbl&gt;</th><th scope=col>&lt;dbl&gt;</th><th scope=col>&lt;int&gt;</th></tr>\n",
       "</thead>\n",
       "<tbody>\n",
       "\t<tr><th scope=row>40</th><td>tld_rat    </td><td>16.207191595</td><td>12.7484377</td><td> 1</td></tr>\n",
       "\t<tr><th scope=row>1</th><td>count      </td><td>15.889443255</td><td>12.3682971</td><td> 2</td></tr>\n",
       "\t<tr><th scope=row>30</th><td>rarpt_skew </td><td> 7.056740301</td><td> 9.2596278</td><td> 3</td></tr>\n",
       "\t<tr><th scope=row>11</th><td>gibbs_kurt </td><td>13.161256415</td><td> 9.1138800</td><td> 4</td></tr>\n",
       "\t<tr><th scope=row>32</th><td>ren_prp    </td><td> 9.122650732</td><td> 8.6384074</td><td> 5</td></tr>\n",
       "\t<tr><th scope=row>16</th><td>gibbs_skew </td><td> 8.712807112</td><td> 8.4799362</td><td> 6</td></tr>\n",
       "\t<tr><th scope=row>14</th><td>gibbs_min  </td><td> 7.867619677</td><td> 8.2239824</td><td> 7</td></tr>\n",
       "\t<tr><th scope=row>18</th><td>pdcnt_kurt </td><td> 9.043655376</td><td> 7.9437501</td><td> 8</td></tr>\n",
       "\t<tr><th scope=row>23</th><td>pdcnt_skew </td><td> 9.050061937</td><td> 7.4374853</td><td> 9</td></tr>\n",
       "\t<tr><th scope=row>33</th><td>sldlen_kurt</td><td>11.618180029</td><td> 7.3317912</td><td>10</td></tr>\n",
       "\t<tr><th scope=row>8</th><td>daydom_std </td><td> 8.775624975</td><td> 7.2053590</td><td>11</td></tr>\n",
       "\t<tr><th scope=row>27</th><td>rarpt_mean </td><td> 7.002629665</td><td> 6.9912310</td><td>12</td></tr>\n",
       "\t<tr><th scope=row>38</th><td>sldlen_skew</td><td> 8.614766706</td><td> 6.9694851</td><td>13</td></tr>\n",
       "\t<tr><th scope=row>7</th><td>daydom_skew</td><td> 7.530435856</td><td> 6.7924541</td><td>14</td></tr>\n",
       "\t<tr><th scope=row>13</th><td>gibbs_mean </td><td> 8.458792461</td><td> 6.7801990</td><td>15</td></tr>\n",
       "\t<tr><th scope=row>2</th><td>daydom_kurt</td><td> 8.073193842</td><td> 6.7256164</td><td>16</td></tr>\n",
       "\t<tr><th scope=row>15</th><td>gibbs_rng  </td><td> 8.285736423</td><td> 6.5105340</td><td>17</td></tr>\n",
       "\t<tr><th scope=row>39</th><td>sldlen_std </td><td> 7.658664080</td><td> 6.4310739</td><td>18</td></tr>\n",
       "\t<tr><th scope=row>25</th><td>rarpt_kurt </td><td> 7.635234667</td><td> 6.3443007</td><td>19</td></tr>\n",
       "\t<tr><th scope=row>4</th><td>daydom_mean</td><td> 6.938492113</td><td> 6.3198756</td><td>20</td></tr>\n",
       "\t<tr><th scope=row>35</th><td>sldlen_mean</td><td> 7.570447962</td><td> 5.8228856</td><td>21</td></tr>\n",
       "\t<tr><th scope=row>17</th><td>gibbs_std  </td><td> 7.240362414</td><td> 5.7916443</td><td>22</td></tr>\n",
       "\t<tr><th scope=row>24</th><td>pdcnt_std  </td><td> 6.070189991</td><td> 5.3540642</td><td>23</td></tr>\n",
       "\t<tr><th scope=row>37</th><td>sldlen_rng </td><td> 6.021331898</td><td> 5.0790309</td><td>24</td></tr>\n",
       "\t<tr><th scope=row>6</th><td>daydom_rng </td><td> 5.140091877</td><td> 4.9434260</td><td>25</td></tr>\n",
       "\t<tr><th scope=row>12</th><td>gibbs_max  </td><td> 5.411984218</td><td> 4.7752445</td><td>26</td></tr>\n",
       "\t<tr><th scope=row>34</th><td>sldlen_max </td><td> 5.198130637</td><td> 4.7199283</td><td>27</td></tr>\n",
       "\t<tr><th scope=row>28</th><td>rarpt_min  </td><td> 5.058519590</td><td> 4.6517828</td><td>28</td></tr>\n",
       "\t<tr><th scope=row>26</th><td>rarpt_max  </td><td> 5.199585143</td><td> 4.5771074</td><td>29</td></tr>\n",
       "\t<tr><th scope=row>20</th><td>pdcnt_mean </td><td> 4.710171124</td><td> 4.5434556</td><td>30</td></tr>\n",
       "\t<tr><th scope=row>3</th><td>daydom_max </td><td> 4.217233768</td><td> 4.5219232</td><td>31</td></tr>\n",
       "\t<tr><th scope=row>10</th><td>geo_maj    </td><td> 5.470486547</td><td> 4.3328974</td><td>32</td></tr>\n",
       "\t<tr><th scope=row>31</th><td>rarpt_std  </td><td> 3.845452810</td><td> 3.9859845</td><td>33</td></tr>\n",
       "\t<tr><th scope=row>29</th><td>rarpt_rng  </td><td> 3.678742130</td><td> 3.6281335</td><td>34</td></tr>\n",
       "\t<tr><th scope=row>22</th><td>pdcnt_rng  </td><td> 2.306924303</td><td> 3.3944242</td><td>35</td></tr>\n",
       "\t<tr><th scope=row>19</th><td>pdcnt_max  </td><td> 2.133811927</td><td> 3.3254703</td><td>36</td></tr>\n",
       "\t<tr><th scope=row>36</th><td>sldlen_min </td><td> 2.274215193</td><td> 1.6253349</td><td>37</td></tr>\n",
       "\t<tr><th scope=row>5</th><td>daydom_min </td><td> 0.556656205</td><td> 0.4796066</td><td>38</td></tr>\n",
       "\t<tr><th scope=row>9</th><td>geo_cnt    </td><td> 0.080390555</td><td> 0.2475635</td><td>39</td></tr>\n",
       "\t<tr><th scope=row>21</th><td>pdcnt_min  </td><td> 0.003035714</td><td> 0.0000000</td><td>40</td></tr>\n",
       "</tbody>\n",
       "</table>\n"
      ],
      "text/latex": [
       "A data.frame: 40 × 4\n",
       "\\begin{tabular}{r|llll}\n",
       "  & var & auc\\_imp & l10\\_imp & rank\\\\\n",
       "  & <I<chr>> & <dbl> & <dbl> & <int>\\\\\n",
       "\\hline\n",
       "\t40 & tld\\_rat     & 16.207191595 & 12.7484377 &  1\\\\\n",
       "\t1 & count       & 15.889443255 & 12.3682971 &  2\\\\\n",
       "\t30 & rarpt\\_skew  &  7.056740301 &  9.2596278 &  3\\\\\n",
       "\t11 & gibbs\\_kurt  & 13.161256415 &  9.1138800 &  4\\\\\n",
       "\t32 & ren\\_prp     &  9.122650732 &  8.6384074 &  5\\\\\n",
       "\t16 & gibbs\\_skew  &  8.712807112 &  8.4799362 &  6\\\\\n",
       "\t14 & gibbs\\_min   &  7.867619677 &  8.2239824 &  7\\\\\n",
       "\t18 & pdcnt\\_kurt  &  9.043655376 &  7.9437501 &  8\\\\\n",
       "\t23 & pdcnt\\_skew  &  9.050061937 &  7.4374853 &  9\\\\\n",
       "\t33 & sldlen\\_kurt & 11.618180029 &  7.3317912 & 10\\\\\n",
       "\t8 & daydom\\_std  &  8.775624975 &  7.2053590 & 11\\\\\n",
       "\t27 & rarpt\\_mean  &  7.002629665 &  6.9912310 & 12\\\\\n",
       "\t38 & sldlen\\_skew &  8.614766706 &  6.9694851 & 13\\\\\n",
       "\t7 & daydom\\_skew &  7.530435856 &  6.7924541 & 14\\\\\n",
       "\t13 & gibbs\\_mean  &  8.458792461 &  6.7801990 & 15\\\\\n",
       "\t2 & daydom\\_kurt &  8.073193842 &  6.7256164 & 16\\\\\n",
       "\t15 & gibbs\\_rng   &  8.285736423 &  6.5105340 & 17\\\\\n",
       "\t39 & sldlen\\_std  &  7.658664080 &  6.4310739 & 18\\\\\n",
       "\t25 & rarpt\\_kurt  &  7.635234667 &  6.3443007 & 19\\\\\n",
       "\t4 & daydom\\_mean &  6.938492113 &  6.3198756 & 20\\\\\n",
       "\t35 & sldlen\\_mean &  7.570447962 &  5.8228856 & 21\\\\\n",
       "\t17 & gibbs\\_std   &  7.240362414 &  5.7916443 & 22\\\\\n",
       "\t24 & pdcnt\\_std   &  6.070189991 &  5.3540642 & 23\\\\\n",
       "\t37 & sldlen\\_rng  &  6.021331898 &  5.0790309 & 24\\\\\n",
       "\t6 & daydom\\_rng  &  5.140091877 &  4.9434260 & 25\\\\\n",
       "\t12 & gibbs\\_max   &  5.411984218 &  4.7752445 & 26\\\\\n",
       "\t34 & sldlen\\_max  &  5.198130637 &  4.7199283 & 27\\\\\n",
       "\t28 & rarpt\\_min   &  5.058519590 &  4.6517828 & 28\\\\\n",
       "\t26 & rarpt\\_max   &  5.199585143 &  4.5771074 & 29\\\\\n",
       "\t20 & pdcnt\\_mean  &  4.710171124 &  4.5434556 & 30\\\\\n",
       "\t3 & daydom\\_max  &  4.217233768 &  4.5219232 & 31\\\\\n",
       "\t10 & geo\\_maj     &  5.470486547 &  4.3328974 & 32\\\\\n",
       "\t31 & rarpt\\_std   &  3.845452810 &  3.9859845 & 33\\\\\n",
       "\t29 & rarpt\\_rng   &  3.678742130 &  3.6281335 & 34\\\\\n",
       "\t22 & pdcnt\\_rng   &  2.306924303 &  3.3944242 & 35\\\\\n",
       "\t19 & pdcnt\\_max   &  2.133811927 &  3.3254703 & 36\\\\\n",
       "\t36 & sldlen\\_min  &  2.274215193 &  1.6253349 & 37\\\\\n",
       "\t5 & daydom\\_min  &  0.556656205 &  0.4796066 & 38\\\\\n",
       "\t9 & geo\\_cnt     &  0.080390555 &  0.2475635 & 39\\\\\n",
       "\t21 & pdcnt\\_min   &  0.003035714 &  0.0000000 & 40\\\\\n",
       "\\end{tabular}\n"
      ],
      "text/markdown": [
       "\n",
       "A data.frame: 40 × 4\n",
       "\n",
       "| <!--/--> | var &lt;I&lt;chr&gt;&gt; | auc_imp &lt;dbl&gt; | l10_imp &lt;dbl&gt; | rank &lt;int&gt; |\n",
       "|---|---|---|---|---|\n",
       "| 40 | tld_rat     | 16.207191595 | 12.7484377 |  1 |\n",
       "| 1 | count       | 15.889443255 | 12.3682971 |  2 |\n",
       "| 30 | rarpt_skew  |  7.056740301 |  9.2596278 |  3 |\n",
       "| 11 | gibbs_kurt  | 13.161256415 |  9.1138800 |  4 |\n",
       "| 32 | ren_prp     |  9.122650732 |  8.6384074 |  5 |\n",
       "| 16 | gibbs_skew  |  8.712807112 |  8.4799362 |  6 |\n",
       "| 14 | gibbs_min   |  7.867619677 |  8.2239824 |  7 |\n",
       "| 18 | pdcnt_kurt  |  9.043655376 |  7.9437501 |  8 |\n",
       "| 23 | pdcnt_skew  |  9.050061937 |  7.4374853 |  9 |\n",
       "| 33 | sldlen_kurt | 11.618180029 |  7.3317912 | 10 |\n",
       "| 8 | daydom_std  |  8.775624975 |  7.2053590 | 11 |\n",
       "| 27 | rarpt_mean  |  7.002629665 |  6.9912310 | 12 |\n",
       "| 38 | sldlen_skew |  8.614766706 |  6.9694851 | 13 |\n",
       "| 7 | daydom_skew |  7.530435856 |  6.7924541 | 14 |\n",
       "| 13 | gibbs_mean  |  8.458792461 |  6.7801990 | 15 |\n",
       "| 2 | daydom_kurt |  8.073193842 |  6.7256164 | 16 |\n",
       "| 15 | gibbs_rng   |  8.285736423 |  6.5105340 | 17 |\n",
       "| 39 | sldlen_std  |  7.658664080 |  6.4310739 | 18 |\n",
       "| 25 | rarpt_kurt  |  7.635234667 |  6.3443007 | 19 |\n",
       "| 4 | daydom_mean |  6.938492113 |  6.3198756 | 20 |\n",
       "| 35 | sldlen_mean |  7.570447962 |  5.8228856 | 21 |\n",
       "| 17 | gibbs_std   |  7.240362414 |  5.7916443 | 22 |\n",
       "| 24 | pdcnt_std   |  6.070189991 |  5.3540642 | 23 |\n",
       "| 37 | sldlen_rng  |  6.021331898 |  5.0790309 | 24 |\n",
       "| 6 | daydom_rng  |  5.140091877 |  4.9434260 | 25 |\n",
       "| 12 | gibbs_max   |  5.411984218 |  4.7752445 | 26 |\n",
       "| 34 | sldlen_max  |  5.198130637 |  4.7199283 | 27 |\n",
       "| 28 | rarpt_min   |  5.058519590 |  4.6517828 | 28 |\n",
       "| 26 | rarpt_max   |  5.199585143 |  4.5771074 | 29 |\n",
       "| 20 | pdcnt_mean  |  4.710171124 |  4.5434556 | 30 |\n",
       "| 3 | daydom_max  |  4.217233768 |  4.5219232 | 31 |\n",
       "| 10 | geo_maj     |  5.470486547 |  4.3328974 | 32 |\n",
       "| 31 | rarpt_std   |  3.845452810 |  3.9859845 | 33 |\n",
       "| 29 | rarpt_rng   |  3.678742130 |  3.6281335 | 34 |\n",
       "| 22 | pdcnt_rng   |  2.306924303 |  3.3944242 | 35 |\n",
       "| 19 | pdcnt_max   |  2.133811927 |  3.3254703 | 36 |\n",
       "| 36 | sldlen_min  |  2.274215193 |  1.6253349 | 37 |\n",
       "| 5 | daydom_min  |  0.556656205 |  0.4796066 | 38 |\n",
       "| 9 | geo_cnt     |  0.080390555 |  0.2475635 | 39 |\n",
       "| 21 | pdcnt_min   |  0.003035714 |  0.0000000 | 40 |\n",
       "\n"
      ],
      "text/plain": [
       "   var         auc_imp      l10_imp    rank\n",
       "40 tld_rat     16.207191595 12.7484377  1  \n",
       "1  count       15.889443255 12.3682971  2  \n",
       "30 rarpt_skew   7.056740301  9.2596278  3  \n",
       "11 gibbs_kurt  13.161256415  9.1138800  4  \n",
       "32 ren_prp      9.122650732  8.6384074  5  \n",
       "16 gibbs_skew   8.712807112  8.4799362  6  \n",
       "14 gibbs_min    7.867619677  8.2239824  7  \n",
       "18 pdcnt_kurt   9.043655376  7.9437501  8  \n",
       "23 pdcnt_skew   9.050061937  7.4374853  9  \n",
       "33 sldlen_kurt 11.618180029  7.3317912 10  \n",
       "8  daydom_std   8.775624975  7.2053590 11  \n",
       "27 rarpt_mean   7.002629665  6.9912310 12  \n",
       "38 sldlen_skew  8.614766706  6.9694851 13  \n",
       "7  daydom_skew  7.530435856  6.7924541 14  \n",
       "13 gibbs_mean   8.458792461  6.7801990 15  \n",
       "2  daydom_kurt  8.073193842  6.7256164 16  \n",
       "15 gibbs_rng    8.285736423  6.5105340 17  \n",
       "39 sldlen_std   7.658664080  6.4310739 18  \n",
       "25 rarpt_kurt   7.635234667  6.3443007 19  \n",
       "4  daydom_mean  6.938492113  6.3198756 20  \n",
       "35 sldlen_mean  7.570447962  5.8228856 21  \n",
       "17 gibbs_std    7.240362414  5.7916443 22  \n",
       "24 pdcnt_std    6.070189991  5.3540642 23  \n",
       "37 sldlen_rng   6.021331898  5.0790309 24  \n",
       "6  daydom_rng   5.140091877  4.9434260 25  \n",
       "12 gibbs_max    5.411984218  4.7752445 26  \n",
       "34 sldlen_max   5.198130637  4.7199283 27  \n",
       "28 rarpt_min    5.058519590  4.6517828 28  \n",
       "26 rarpt_max    5.199585143  4.5771074 29  \n",
       "20 pdcnt_mean   4.710171124  4.5434556 30  \n",
       "3  daydom_max   4.217233768  4.5219232 31  \n",
       "10 geo_maj      5.470486547  4.3328974 32  \n",
       "31 rarpt_std    3.845452810  3.9859845 33  \n",
       "29 rarpt_rng    3.678742130  3.6281335 34  \n",
       "22 pdcnt_rng    2.306924303  3.3944242 35  \n",
       "19 pdcnt_max    2.133811927  3.3254703 36  \n",
       "36 sldlen_min   2.274215193  1.6253349 37  \n",
       "5  daydom_min   0.556656205  0.4796066 38  \n",
       "9  geo_cnt      0.080390555  0.2475635 39  \n",
       "21 pdcnt_min    0.003035714  0.0000000 40  "
      ]
     },
     "metadata": {},
     "output_type": "display_data"
    }
   ],
   "source": [
    "varimp_df <- as.data.frame(sort(importance(model),decreasing=TRUE))\n",
    "varimp_df <- merge(varimp_df, as.data.frame(sort(importance(model_l10),decreasing=TRUE)), by=0, all=TRUE)\n",
    "names(varimp_df) <- c(\"var\",\"auc_imp\",\"l10_imp\")\n",
    "varimp_df <- varimp_df[order(varimp_df$l10_imp, decreasing=TRUE),]\n",
    "varimp_df$rank <- seq(1:nrow(varimp_df))\n",
    "varimp_df"
   ]
  },
  {
   "cell_type": "markdown",
   "metadata": {},
   "source": [
    "## RF multiclass w/ country, region variables"
   ]
  },
  {
   "cell_type": "code",
   "execution_count": 83,
   "metadata": {},
   "outputs": [],
   "source": [
    "metrics_df_sub2 = metrics_df %>% \n",
    "  select('auc_win', 'l10_win',\n",
    "         'count','ren_prp','tld_rat',\n",
    "         'country_maj','region_maj','country_cnt','region_cnt',\n",
    "#          'geo_cnt', 'geo_maj',\n",
    "         'daydom_min','daydom_max','daydom_mean','daydom_rng','daydom_std','daydom_skew','daydom_kurt',\n",
    "         'sldlen_min','sldlen_max','sldlen_mean','sldlen_rng','sldlen_std','sldlen_skew','sldlen_kurt',\n",
    "         'gibbs_min','gibbs_max','gibbs_mean','gibbs_rng','gibbs_std','gibbs_skew','gibbs_kurt',\n",
    "         'pdcnt_min','pdcnt_max','pdcnt_mean','pdcnt_rng','pdcnt_std','pdcnt_skew','pdcnt_kurt',\n",
    "         'rarpt_min','rarpt_max','rarpt_mean','rarpt_rng','rarpt_std','rarpt_skew','rarpt_kurt')"
   ]
  },
  {
   "cell_type": "code",
   "execution_count": 84,
   "metadata": {},
   "outputs": [],
   "source": [
    "set.seed(123) \n",
    "smp_siz = floor(0.8*nrow(metrics_df_sub2))\n",
    "train_ind = sample(seq_len(nrow(metrics_df_sub2)),size = smp_siz) \n",
    "train2 = metrics_df_sub2[train_ind,] \n",
    "test2 = metrics_df_sub2[-train_ind,]  "
   ]
  },
  {
   "cell_type": "code",
   "execution_count": 85,
   "metadata": {},
   "outputs": [
    {
     "data": {
      "text/html": [
       "<style>\n",
       ".list-inline {list-style: none; margin:0; padding: 0}\n",
       ".list-inline>li {display: inline-block}\n",
       ".list-inline>li:not(:last-child)::after {content: \"\\00b7\"; padding: 0 .5ex}\n",
       "</style>\n",
       "<ol class=list-inline><li>846</li><li>44</li></ol>\n"
      ],
      "text/latex": [
       "\\begin{enumerate*}\n",
       "\\item 846\n",
       "\\item 44\n",
       "\\end{enumerate*}\n"
      ],
      "text/markdown": [
       "1. 846\n",
       "2. 44\n",
       "\n",
       "\n"
      ],
      "text/plain": [
       "[1] 846  44"
      ]
     },
     "metadata": {},
     "output_type": "display_data"
    },
    {
     "data": {
      "text/html": [
       "<style>\n",
       ".list-inline {list-style: none; margin:0; padding: 0}\n",
       ".list-inline>li {display: inline-block}\n",
       ".list-inline>li:not(:last-child)::after {content: \"\\00b7\"; padding: 0 .5ex}\n",
       "</style>\n",
       "<ol class=list-inline><li>212</li><li>44</li></ol>\n"
      ],
      "text/latex": [
       "\\begin{enumerate*}\n",
       "\\item 212\n",
       "\\item 44\n",
       "\\end{enumerate*}\n"
      ],
      "text/markdown": [
       "1. 212\n",
       "2. 44\n",
       "\n",
       "\n"
      ],
      "text/plain": [
       "[1] 212  44"
      ]
     },
     "metadata": {},
     "output_type": "display_data"
    }
   ],
   "source": [
    "dim(train2)\n",
    "dim(test2)"
   ]
  },
  {
   "cell_type": "code",
   "execution_count": 86,
   "metadata": {},
   "outputs": [
    {
     "data": {
      "text/html": [
       "<style>\n",
       ".list-inline {list-style: none; margin:0; padding: 0}\n",
       ".list-inline>li {display: inline-block}\n",
       ".list-inline>li:not(:last-child)::after {content: \"\\00b7\"; padding: 0 .5ex}\n",
       "</style>\n",
       "<ol class=list-inline><li>'auc_agg_glm'</li><li>'auc_agg_rf'</li><li>'auc_seg_glm'</li><li>'auc_seg_rf'</li><li>'auc_seg2_glm'</li><li>'auc_seg2_rf'</li></ol>\n"
      ],
      "text/latex": [
       "\\begin{enumerate*}\n",
       "\\item 'auc\\_agg\\_glm'\n",
       "\\item 'auc\\_agg\\_rf'\n",
       "\\item 'auc\\_seg\\_glm'\n",
       "\\item 'auc\\_seg\\_rf'\n",
       "\\item 'auc\\_seg2\\_glm'\n",
       "\\item 'auc\\_seg2\\_rf'\n",
       "\\end{enumerate*}\n"
      ],
      "text/markdown": [
       "1. 'auc_agg_glm'\n",
       "2. 'auc_agg_rf'\n",
       "3. 'auc_seg_glm'\n",
       "4. 'auc_seg_rf'\n",
       "5. 'auc_seg2_glm'\n",
       "6. 'auc_seg2_rf'\n",
       "\n",
       "\n"
      ],
      "text/plain": [
       "[1] \"auc_agg_glm\"  \"auc_agg_rf\"   \"auc_seg_glm\"  \"auc_seg_rf\"   \"auc_seg2_glm\"\n",
       "[6] \"auc_seg2_rf\" "
      ]
     },
     "metadata": {},
     "output_type": "display_data"
    },
    {
     "name": "stdout",
     "output_type": "stream",
     "text": [
      " Factor w/ 6 levels \"auc_seg2_glm\",..: 4 2 3 2 1 1 1 3 2 1 ...\n"
     ]
    }
   ],
   "source": [
    "train2_auc <- subset(train2, select = -c(l10_win) )\n",
    "levels(train2_auc$auc_win)\n",
    "train2_auc$auc_win <- relevel(train2_auc$auc_win, ref=5)\n",
    "str(train2_auc$auc_win)"
   ]
  },
  {
   "cell_type": "code",
   "execution_count": 87,
   "metadata": {},
   "outputs": [
    {
     "name": "stdout",
     "output_type": "stream",
     "text": [
      " Factor w/ 6 levels \"l10_seg2_glm\",..: 1 1 1 1 3 1 1 1 4 1 ...\n"
     ]
    }
   ],
   "source": [
    "train2_l10 <- subset(train2, select = -c(auc_win) )\n",
    "train2_l10$l10_win <- relevel(train2_l10$l10_win, ref=5)\n",
    "str(train2_l10$l10_win )"
   ]
  },
  {
   "cell_type": "code",
   "execution_count": 88,
   "metadata": {},
   "outputs": [
    {
     "name": "stdout",
     "output_type": "stream",
     "text": [
      "\n",
      "Missing value imputation by random forests\n",
      "\n",
      "  Variables to impute:\t\tdaydom_std, daydom_skew, daydom_kurt, sldlen_std, sldlen_skew, sldlen_kurt, gibbs_std, gibbs_skew, gibbs_kurt, pdcnt_std, pdcnt_skew, pdcnt_kurt, rarpt_std, rarpt_skew, rarpt_kurt\n",
      "  Variables used to impute:\tauc_win, count, ren_prp, tld_rat, country_maj, region_maj, country_cnt, region_cnt, daydom_min, daydom_max, daydom_mean, daydom_rng, daydom_std, daydom_skew, daydom_kurt, sldlen_min, sldlen_max, sldlen_mean, sldlen_rng, sldlen_std, sldlen_skew, sldlen_kurt, gibbs_min, gibbs_max, gibbs_mean, gibbs_rng, gibbs_std, gibbs_skew, gibbs_kurt, pdcnt_min, pdcnt_max, pdcnt_mean, pdcnt_rng, pdcnt_std, pdcnt_skew, pdcnt_kurt, rarpt_min, rarpt_max, rarpt_mean, rarpt_rng, rarpt_std, rarpt_skew, rarpt_kurt\n",
      "iter 1:\t...............\n",
      "iter 2:\t...............\n",
      "iter 3:\t...............\n",
      "\n",
      "Missing value imputation by random forests\n",
      "\n",
      "  Variables to impute:\t\tdaydom_std, daydom_skew, daydom_kurt, sldlen_std, sldlen_skew, sldlen_kurt, gibbs_std, gibbs_skew, gibbs_kurt, pdcnt_std, pdcnt_skew, pdcnt_kurt, rarpt_std, rarpt_skew, rarpt_kurt\n",
      "  Variables used to impute:\tl10_win, count, ren_prp, tld_rat, country_maj, region_maj, country_cnt, region_cnt, daydom_min, daydom_max, daydom_mean, daydom_rng, daydom_std, daydom_skew, daydom_kurt, sldlen_min, sldlen_max, sldlen_mean, sldlen_rng, sldlen_std, sldlen_skew, sldlen_kurt, gibbs_min, gibbs_max, gibbs_mean, gibbs_rng, gibbs_std, gibbs_skew, gibbs_kurt, pdcnt_min, pdcnt_max, pdcnt_mean, pdcnt_rng, pdcnt_std, pdcnt_skew, pdcnt_kurt, rarpt_min, rarpt_max, rarpt_mean, rarpt_rng, rarpt_std, rarpt_skew, rarpt_kurt\n",
      "iter 1:\t...............\n",
      "iter 2:\t...............\n",
      "iter 3:\t...............\n",
      "iter 4:\t...............\n",
      "\n",
      "Missing value imputation by random forests\n",
      "\n",
      "  Variables to impute:\t\tdaydom_std, daydom_skew, daydom_kurt, sldlen_std, sldlen_skew, sldlen_kurt, gibbs_std, gibbs_skew, gibbs_kurt, pdcnt_std, pdcnt_skew, pdcnt_kurt, rarpt_std, rarpt_skew, rarpt_kurt\n",
      "  Variables used to impute:\tauc_win, l10_win, count, ren_prp, tld_rat, country_maj, region_maj, country_cnt, region_cnt, daydom_min, daydom_max, daydom_mean, daydom_rng, daydom_std, daydom_skew, daydom_kurt, sldlen_min, sldlen_max, sldlen_mean, sldlen_rng, sldlen_std, sldlen_skew, sldlen_kurt, gibbs_min, gibbs_max, gibbs_mean, gibbs_rng, gibbs_std, gibbs_skew, gibbs_kurt, pdcnt_min, pdcnt_max, pdcnt_mean, pdcnt_rng, pdcnt_std, pdcnt_skew, pdcnt_kurt, rarpt_min, rarpt_max, rarpt_mean, rarpt_rng, rarpt_std, rarpt_skew, rarpt_kurt\n",
      "iter 1:\t...............\n",
      "iter 2:\t...............\n",
      "iter 3:\t...............\n",
      "iter 4:\t...............\n",
      "iter 5:\t...............\n"
     ]
    }
   ],
   "source": [
    "train2_auc_imp <- missRanger(train2_auc, num.trees = 100)\n",
    "train2_l10_imp <- missRanger(train2_l10, num.trees = 100)\n",
    "test2_imp <- missRanger(test2, num.trees = 100)"
   ]
  },
  {
   "cell_type": "markdown",
   "metadata": {},
   "source": [
    "## RF multiclass auc - country & region"
   ]
  },
  {
   "cell_type": "code",
   "execution_count": 89,
   "metadata": {},
   "outputs": [
    {
     "data": {
      "text/plain": [
       "Confusion Matrix and Statistics\n",
       "\n",
       "              Reference\n",
       "Prediction     auc_agg_glm auc_agg_rf auc_seg_glm auc_seg_rf auc_seg2_glm\n",
       "  auc_agg_glm            6          0           2          0           14\n",
       "  auc_agg_rf             2          1           7          1           10\n",
       "  auc_seg_glm            5          0           4          0           24\n",
       "  auc_seg_rf             1          3           4          1           14\n",
       "  auc_seg2_glm           9          3           6          0           72\n",
       "  auc_seg2_rf            3          2           6          0           11\n",
       "              Reference\n",
       "Prediction     auc_seg2_rf\n",
       "  auc_agg_glm            0\n",
       "  auc_agg_rf             0\n",
       "  auc_seg_glm            0\n",
       "  auc_seg_rf             0\n",
       "  auc_seg2_glm           1\n",
       "  auc_seg2_rf            0\n",
       "\n",
       "Overall Statistics\n",
       "                                          \n",
       "               Accuracy : 0.3962          \n",
       "                 95% CI : (0.3299, 0.4655)\n",
       "    No Information Rate : 0.684           \n",
       "    P-Value [Acc > NIR] : 1               \n",
       "                                          \n",
       "                  Kappa : 0.0943          \n",
       "                                          \n",
       " Mcnemar's Test P-Value : NA              \n",
       "\n",
       "Statistics by Class:\n",
       "\n",
       "                     Class: auc_agg_glm Class: auc_agg_rf Class: auc_seg_glm\n",
       "Sensitivity                      0.2308          0.111111            0.13793\n",
       "Specificity                      0.9140          0.901478            0.84153\n",
       "Pos Pred Value                   0.2727          0.047619            0.12121\n",
       "Neg Pred Value                   0.8947          0.958115            0.86034\n",
       "Prevalence                       0.1226          0.042453            0.13679\n",
       "Detection Rate                   0.0283          0.004717            0.01887\n",
       "Detection Prevalence             0.1038          0.099057            0.15566\n",
       "Balanced Accuracy                0.5724          0.506294            0.48973\n",
       "                     Class: auc_seg_rf Class: auc_seg2_glm Class: auc_seg2_rf\n",
       "Sensitivity                   0.500000              0.4966           0.000000\n",
       "Specificity                   0.895238              0.7164           0.895735\n",
       "Pos Pred Value                0.043478              0.7912           0.000000\n",
       "Neg Pred Value                0.994709              0.3967           0.994737\n",
       "Prevalence                    0.009434              0.6840           0.004717\n",
       "Detection Rate                0.004717              0.3396           0.000000\n",
       "Detection Prevalence          0.108491              0.4292           0.103774\n",
       "Balanced Accuracy             0.697619              0.6065           0.447867"
      ]
     },
     "metadata": {},
     "output_type": "display_data"
    }
   ],
   "source": [
    "model <- ranger(formula         = auc_win ~ ., \n",
    "                data            = train2_auc_imp, \n",
    "                importance = 'impurity', \n",
    "                num.trees       = 500,\n",
    "                probability = TRUE,\n",
    "                replace = FALSE,\n",
    "                sample.fraction = .8,\n",
    "                seed            = 123,\n",
    "                respect.unordered.factors=TRUE)\n",
    "\n",
    "pred <- predict(model, \n",
    "                data = test2_imp,\n",
    "                type=\"response\")$predictions\n",
    "\n",
    "pred <- as.data.frame(pred)\n",
    "vars <- names(pred)\n",
    "pred <- pred %>%\n",
    "    mutate (win=sapply(apply(.[,c(vars)], \n",
    "                          1, function(x) names(x)[which.max(x)]) , function(s) if (length(s) == 0) NA else paste(s, collapse = \" \")) \n",
    "            ) \n",
    "\n",
    "confusionMatrix(data=factor(test2_imp$auc_win), reference=factor(pred$win, levels=levels(factor(test2_imp$auc_win))))"
   ]
  },
  {
   "cell_type": "markdown",
   "metadata": {},
   "source": [
    "## RF multiclass l10"
   ]
  },
  {
   "cell_type": "code",
   "execution_count": 90,
   "metadata": {},
   "outputs": [
    {
     "data": {
      "text/plain": [
       "Confusion Matrix and Statistics\n",
       "\n",
       "              Reference\n",
       "Prediction     l10_agg_glm l10_agg_rf l10_seg_glm l10_seg_rf l10_seg2_glm\n",
       "  l10_agg_glm            0          0           1          0           18\n",
       "  l10_agg_rf             0          0           4          0            6\n",
       "  l10_seg_glm            0          0           1          0           32\n",
       "  l10_seg_rf             0          1           0          0            2\n",
       "  l10_seg2_glm           0          1           1          1          124\n",
       "  l10_seg2_rf            2          0           1          0           14\n",
       "              Reference\n",
       "Prediction     l10_seg2_rf\n",
       "  l10_agg_glm            1\n",
       "  l10_agg_rf             0\n",
       "  l10_seg_glm            0\n",
       "  l10_seg_rf             0\n",
       "  l10_seg2_glm           1\n",
       "  l10_seg2_rf            1\n",
       "\n",
       "Overall Statistics\n",
       "                                          \n",
       "               Accuracy : 0.5943          \n",
       "                 95% CI : (0.5249, 0.6611)\n",
       "    No Information Rate : 0.9245          \n",
       "    P-Value [Acc > NIR] : 1               \n",
       "                                          \n",
       "                  Kappa : 0.0638          \n",
       "                                          \n",
       " Mcnemar's Test P-Value : NA              \n",
       "\n",
       "Statistics by Class:\n",
       "\n",
       "                     Class: l10_agg_glm Class: l10_agg_rf Class: l10_seg_glm\n",
       "Sensitivity                    0.000000          0.000000           0.125000\n",
       "Specificity                    0.904762          0.952381           0.843137\n",
       "Pos Pred Value                 0.000000          0.000000           0.030303\n",
       "Neg Pred Value                 0.989583          0.990099           0.960894\n",
       "Prevalence                     0.009434          0.009434           0.037736\n",
       "Detection Rate                 0.000000          0.000000           0.004717\n",
       "Detection Prevalence           0.094340          0.047170           0.155660\n",
       "Balanced Accuracy              0.452381          0.476190           0.484069\n",
       "                     Class: l10_seg_rf Class: l10_seg2_glm Class: l10_seg2_rf\n",
       "Sensitivity                   0.000000              0.6327           0.333333\n",
       "Specificity                   0.985782              0.7500           0.918660\n",
       "Pos Pred Value                0.000000              0.9688           0.055556\n",
       "Neg Pred Value                0.995215              0.1429           0.989691\n",
       "Prevalence                    0.004717              0.9245           0.014151\n",
       "Detection Rate                0.000000              0.5849           0.004717\n",
       "Detection Prevalence          0.014151              0.6038           0.084906\n",
       "Balanced Accuracy             0.492891              0.6913           0.625997"
      ]
     },
     "metadata": {},
     "output_type": "display_data"
    }
   ],
   "source": [
    "model_l10 <- ranger(formula         = l10_win ~ ., \n",
    "                data            = train2_l10_imp, \n",
    "                importance = 'impurity', \n",
    "                num.trees       = 500,\n",
    "                probability = TRUE,\n",
    "                replace = FALSE,\n",
    "                sample.fraction = .8,\n",
    "                seed            = 123,\n",
    "                respect.unordered.factors=TRUE)\n",
    "\n",
    "pred <- predict(model_l10, \n",
    "                data = test2_imp,\n",
    "                type=\"response\")$predictions\n",
    "\n",
    "pred <- as.data.frame(pred)\n",
    "vars <- names(pred)\n",
    "pred <- pred %>%\n",
    "    mutate (win=sapply(apply(.[,c(vars)], \n",
    "                          1, function(x) names(x)[which.max(x)]) , function(s) if (length(s) == 0) NA else paste(s, collapse = \" \")) \n",
    "            ) \n",
    "\n",
    "confusionMatrix(data=factor(test2_imp$l10_win), reference=factor(pred$win, levels=levels(factor(test2_imp$l10_win))))"
   ]
  },
  {
   "cell_type": "markdown",
   "metadata": {},
   "source": [
    "## Variable importance across auc & l10 -- country & region"
   ]
  },
  {
   "cell_type": "code",
   "execution_count": 91,
   "metadata": {},
   "outputs": [
    {
     "data": {
      "text/html": [
       "<table>\n",
       "<caption>A data.frame: 42 × 4</caption>\n",
       "<thead>\n",
       "\t<tr><th></th><th scope=col>var</th><th scope=col>auc_imp</th><th scope=col>l10_imp</th><th scope=col>rank</th></tr>\n",
       "\t<tr><th></th><th scope=col>&lt;I&lt;chr&gt;&gt;</th><th scope=col>&lt;dbl&gt;</th><th scope=col>&lt;dbl&gt;</th><th scope=col>&lt;int&gt;</th></tr>\n",
       "</thead>\n",
       "<tbody>\n",
       "\t<tr><th scope=row>1</th><td>count      </td><td>15.31169300</td><td>12.2144782</td><td> 1</td></tr>\n",
       "\t<tr><th scope=row>42</th><td>tld_rat    </td><td>15.23831185</td><td>11.9945710</td><td> 2</td></tr>\n",
       "\t<tr><th scope=row>3</th><td>country_maj</td><td>11.07141571</td><td> 9.8014162</td><td> 3</td></tr>\n",
       "\t<tr><th scope=row>11</th><td>gibbs_kurt </td><td>13.30721958</td><td> 9.7556244</td><td> 4</td></tr>\n",
       "\t<tr><th scope=row>30</th><td>rarpt_skew </td><td> 6.78713983</td><td> 8.6828113</td><td> 5</td></tr>\n",
       "\t<tr><th scope=row>16</th><td>gibbs_skew </td><td> 8.16672373</td><td> 8.4766116</td><td> 6</td></tr>\n",
       "\t<tr><th scope=row>34</th><td>ren_prp    </td><td> 8.88075429</td><td> 8.4745175</td><td> 7</td></tr>\n",
       "\t<tr><th scope=row>14</th><td>gibbs_min  </td><td> 7.90966643</td><td> 7.5154632</td><td> 8</td></tr>\n",
       "\t<tr><th scope=row>18</th><td>pdcnt_kurt </td><td> 8.36394211</td><td> 7.2483910</td><td> 9</td></tr>\n",
       "\t<tr><th scope=row>35</th><td>sldlen_kurt</td><td>11.40667832</td><td> 7.1475892</td><td>10</td></tr>\n",
       "\t<tr><th scope=row>27</th><td>rarpt_mean </td><td> 6.89552662</td><td> 6.8642091</td><td>11</td></tr>\n",
       "\t<tr><th scope=row>23</th><td>pdcnt_skew </td><td> 8.26749300</td><td> 6.8601065</td><td>12</td></tr>\n",
       "\t<tr><th scope=row>10</th><td>daydom_std </td><td> 7.20368857</td><td> 6.8384168</td><td>13</td></tr>\n",
       "\t<tr><th scope=row>13</th><td>gibbs_mean </td><td> 8.34572758</td><td> 6.6631761</td><td>14</td></tr>\n",
       "\t<tr><th scope=row>25</th><td>rarpt_kurt </td><td> 7.24538731</td><td> 6.6157076</td><td>15</td></tr>\n",
       "\t<tr><th scope=row>40</th><td>sldlen_skew</td><td> 8.14024547</td><td> 6.5682164</td><td>16</td></tr>\n",
       "\t<tr><th scope=row>9</th><td>daydom_skew</td><td> 7.69415532</td><td> 6.4048228</td><td>17</td></tr>\n",
       "\t<tr><th scope=row>4</th><td>daydom_kurt</td><td> 8.21517282</td><td> 6.3371163</td><td>18</td></tr>\n",
       "\t<tr><th scope=row>41</th><td>sldlen_std </td><td> 6.99835343</td><td> 6.0969344</td><td>19</td></tr>\n",
       "\t<tr><th scope=row>15</th><td>gibbs_rng  </td><td> 8.12993683</td><td> 5.9241736</td><td>20</td></tr>\n",
       "\t<tr><th scope=row>6</th><td>daydom_mean</td><td> 7.09591054</td><td> 5.7493910</td><td>21</td></tr>\n",
       "\t<tr><th scope=row>24</th><td>pdcnt_std  </td><td> 5.45130642</td><td> 5.6763965</td><td>22</td></tr>\n",
       "\t<tr><th scope=row>17</th><td>gibbs_std  </td><td> 7.48817500</td><td> 5.6332276</td><td>23</td></tr>\n",
       "\t<tr><th scope=row>37</th><td>sldlen_mean</td><td> 7.54536711</td><td> 5.4838030</td><td>24</td></tr>\n",
       "\t<tr><th scope=row>8</th><td>daydom_rng </td><td> 5.91203550</td><td> 5.2847957</td><td>25</td></tr>\n",
       "\t<tr><th scope=row>39</th><td>sldlen_rng </td><td> 5.98359974</td><td> 5.0543207</td><td>26</td></tr>\n",
       "\t<tr><th scope=row>5</th><td>daydom_max </td><td> 4.25778559</td><td> 4.9400643</td><td>27</td></tr>\n",
       "\t<tr><th scope=row>20</th><td>pdcnt_mean </td><td> 5.19275303</td><td> 4.6768229</td><td>28</td></tr>\n",
       "\t<tr><th scope=row>26</th><td>rarpt_max  </td><td> 5.56579818</td><td> 4.5578646</td><td>29</td></tr>\n",
       "\t<tr><th scope=row>12</th><td>gibbs_max  </td><td> 5.92317714</td><td> 4.4847103</td><td>30</td></tr>\n",
       "\t<tr><th scope=row>28</th><td>rarpt_min  </td><td> 4.93330802</td><td> 4.3559688</td><td>31</td></tr>\n",
       "\t<tr><th scope=row>36</th><td>sldlen_max </td><td> 5.28877342</td><td> 4.3427462</td><td>32</td></tr>\n",
       "\t<tr><th scope=row>31</th><td>rarpt_std  </td><td> 3.84163093</td><td> 4.1537824</td><td>33</td></tr>\n",
       "\t<tr><th scope=row>29</th><td>rarpt_rng  </td><td> 3.74022403</td><td> 3.8148489</td><td>34</td></tr>\n",
       "\t<tr><th scope=row>19</th><td>pdcnt_max  </td><td> 2.16315454</td><td> 3.5298333</td><td>35</td></tr>\n",
       "\t<tr><th scope=row>22</th><td>pdcnt_rng  </td><td> 2.45716700</td><td> 3.1336761</td><td>36</td></tr>\n",
       "\t<tr><th scope=row>38</th><td>sldlen_min </td><td> 2.33790268</td><td> 1.9245086</td><td>37</td></tr>\n",
       "\t<tr><th scope=row>7</th><td>daydom_min </td><td> 0.52950744</td><td> 0.5173183</td><td>38</td></tr>\n",
       "\t<tr><th scope=row>33</th><td>region_maj </td><td> 0.19949523</td><td> 0.2855315</td><td>39</td></tr>\n",
       "\t<tr><th scope=row>2</th><td>country_cnt</td><td> 0.07467913</td><td> 0.2047129</td><td>40</td></tr>\n",
       "\t<tr><th scope=row>32</th><td>region_cnt </td><td> 0.06095874</td><td> 0.1905010</td><td>41</td></tr>\n",
       "\t<tr><th scope=row>21</th><td>pdcnt_min  </td><td> 0.00000000</td><td> 0.0000000</td><td>42</td></tr>\n",
       "</tbody>\n",
       "</table>\n"
      ],
      "text/latex": [
       "A data.frame: 42 × 4\n",
       "\\begin{tabular}{r|llll}\n",
       "  & var & auc\\_imp & l10\\_imp & rank\\\\\n",
       "  & <I<chr>> & <dbl> & <dbl> & <int>\\\\\n",
       "\\hline\n",
       "\t1 & count       & 15.31169300 & 12.2144782 &  1\\\\\n",
       "\t42 & tld\\_rat     & 15.23831185 & 11.9945710 &  2\\\\\n",
       "\t3 & country\\_maj & 11.07141571 &  9.8014162 &  3\\\\\n",
       "\t11 & gibbs\\_kurt  & 13.30721958 &  9.7556244 &  4\\\\\n",
       "\t30 & rarpt\\_skew  &  6.78713983 &  8.6828113 &  5\\\\\n",
       "\t16 & gibbs\\_skew  &  8.16672373 &  8.4766116 &  6\\\\\n",
       "\t34 & ren\\_prp     &  8.88075429 &  8.4745175 &  7\\\\\n",
       "\t14 & gibbs\\_min   &  7.90966643 &  7.5154632 &  8\\\\\n",
       "\t18 & pdcnt\\_kurt  &  8.36394211 &  7.2483910 &  9\\\\\n",
       "\t35 & sldlen\\_kurt & 11.40667832 &  7.1475892 & 10\\\\\n",
       "\t27 & rarpt\\_mean  &  6.89552662 &  6.8642091 & 11\\\\\n",
       "\t23 & pdcnt\\_skew  &  8.26749300 &  6.8601065 & 12\\\\\n",
       "\t10 & daydom\\_std  &  7.20368857 &  6.8384168 & 13\\\\\n",
       "\t13 & gibbs\\_mean  &  8.34572758 &  6.6631761 & 14\\\\\n",
       "\t25 & rarpt\\_kurt  &  7.24538731 &  6.6157076 & 15\\\\\n",
       "\t40 & sldlen\\_skew &  8.14024547 &  6.5682164 & 16\\\\\n",
       "\t9 & daydom\\_skew &  7.69415532 &  6.4048228 & 17\\\\\n",
       "\t4 & daydom\\_kurt &  8.21517282 &  6.3371163 & 18\\\\\n",
       "\t41 & sldlen\\_std  &  6.99835343 &  6.0969344 & 19\\\\\n",
       "\t15 & gibbs\\_rng   &  8.12993683 &  5.9241736 & 20\\\\\n",
       "\t6 & daydom\\_mean &  7.09591054 &  5.7493910 & 21\\\\\n",
       "\t24 & pdcnt\\_std   &  5.45130642 &  5.6763965 & 22\\\\\n",
       "\t17 & gibbs\\_std   &  7.48817500 &  5.6332276 & 23\\\\\n",
       "\t37 & sldlen\\_mean &  7.54536711 &  5.4838030 & 24\\\\\n",
       "\t8 & daydom\\_rng  &  5.91203550 &  5.2847957 & 25\\\\\n",
       "\t39 & sldlen\\_rng  &  5.98359974 &  5.0543207 & 26\\\\\n",
       "\t5 & daydom\\_max  &  4.25778559 &  4.9400643 & 27\\\\\n",
       "\t20 & pdcnt\\_mean  &  5.19275303 &  4.6768229 & 28\\\\\n",
       "\t26 & rarpt\\_max   &  5.56579818 &  4.5578646 & 29\\\\\n",
       "\t12 & gibbs\\_max   &  5.92317714 &  4.4847103 & 30\\\\\n",
       "\t28 & rarpt\\_min   &  4.93330802 &  4.3559688 & 31\\\\\n",
       "\t36 & sldlen\\_max  &  5.28877342 &  4.3427462 & 32\\\\\n",
       "\t31 & rarpt\\_std   &  3.84163093 &  4.1537824 & 33\\\\\n",
       "\t29 & rarpt\\_rng   &  3.74022403 &  3.8148489 & 34\\\\\n",
       "\t19 & pdcnt\\_max   &  2.16315454 &  3.5298333 & 35\\\\\n",
       "\t22 & pdcnt\\_rng   &  2.45716700 &  3.1336761 & 36\\\\\n",
       "\t38 & sldlen\\_min  &  2.33790268 &  1.9245086 & 37\\\\\n",
       "\t7 & daydom\\_min  &  0.52950744 &  0.5173183 & 38\\\\\n",
       "\t33 & region\\_maj  &  0.19949523 &  0.2855315 & 39\\\\\n",
       "\t2 & country\\_cnt &  0.07467913 &  0.2047129 & 40\\\\\n",
       "\t32 & region\\_cnt  &  0.06095874 &  0.1905010 & 41\\\\\n",
       "\t21 & pdcnt\\_min   &  0.00000000 &  0.0000000 & 42\\\\\n",
       "\\end{tabular}\n"
      ],
      "text/markdown": [
       "\n",
       "A data.frame: 42 × 4\n",
       "\n",
       "| <!--/--> | var &lt;I&lt;chr&gt;&gt; | auc_imp &lt;dbl&gt; | l10_imp &lt;dbl&gt; | rank &lt;int&gt; |\n",
       "|---|---|---|---|---|\n",
       "| 1 | count       | 15.31169300 | 12.2144782 |  1 |\n",
       "| 42 | tld_rat     | 15.23831185 | 11.9945710 |  2 |\n",
       "| 3 | country_maj | 11.07141571 |  9.8014162 |  3 |\n",
       "| 11 | gibbs_kurt  | 13.30721958 |  9.7556244 |  4 |\n",
       "| 30 | rarpt_skew  |  6.78713983 |  8.6828113 |  5 |\n",
       "| 16 | gibbs_skew  |  8.16672373 |  8.4766116 |  6 |\n",
       "| 34 | ren_prp     |  8.88075429 |  8.4745175 |  7 |\n",
       "| 14 | gibbs_min   |  7.90966643 |  7.5154632 |  8 |\n",
       "| 18 | pdcnt_kurt  |  8.36394211 |  7.2483910 |  9 |\n",
       "| 35 | sldlen_kurt | 11.40667832 |  7.1475892 | 10 |\n",
       "| 27 | rarpt_mean  |  6.89552662 |  6.8642091 | 11 |\n",
       "| 23 | pdcnt_skew  |  8.26749300 |  6.8601065 | 12 |\n",
       "| 10 | daydom_std  |  7.20368857 |  6.8384168 | 13 |\n",
       "| 13 | gibbs_mean  |  8.34572758 |  6.6631761 | 14 |\n",
       "| 25 | rarpt_kurt  |  7.24538731 |  6.6157076 | 15 |\n",
       "| 40 | sldlen_skew |  8.14024547 |  6.5682164 | 16 |\n",
       "| 9 | daydom_skew |  7.69415532 |  6.4048228 | 17 |\n",
       "| 4 | daydom_kurt |  8.21517282 |  6.3371163 | 18 |\n",
       "| 41 | sldlen_std  |  6.99835343 |  6.0969344 | 19 |\n",
       "| 15 | gibbs_rng   |  8.12993683 |  5.9241736 | 20 |\n",
       "| 6 | daydom_mean |  7.09591054 |  5.7493910 | 21 |\n",
       "| 24 | pdcnt_std   |  5.45130642 |  5.6763965 | 22 |\n",
       "| 17 | gibbs_std   |  7.48817500 |  5.6332276 | 23 |\n",
       "| 37 | sldlen_mean |  7.54536711 |  5.4838030 | 24 |\n",
       "| 8 | daydom_rng  |  5.91203550 |  5.2847957 | 25 |\n",
       "| 39 | sldlen_rng  |  5.98359974 |  5.0543207 | 26 |\n",
       "| 5 | daydom_max  |  4.25778559 |  4.9400643 | 27 |\n",
       "| 20 | pdcnt_mean  |  5.19275303 |  4.6768229 | 28 |\n",
       "| 26 | rarpt_max   |  5.56579818 |  4.5578646 | 29 |\n",
       "| 12 | gibbs_max   |  5.92317714 |  4.4847103 | 30 |\n",
       "| 28 | rarpt_min   |  4.93330802 |  4.3559688 | 31 |\n",
       "| 36 | sldlen_max  |  5.28877342 |  4.3427462 | 32 |\n",
       "| 31 | rarpt_std   |  3.84163093 |  4.1537824 | 33 |\n",
       "| 29 | rarpt_rng   |  3.74022403 |  3.8148489 | 34 |\n",
       "| 19 | pdcnt_max   |  2.16315454 |  3.5298333 | 35 |\n",
       "| 22 | pdcnt_rng   |  2.45716700 |  3.1336761 | 36 |\n",
       "| 38 | sldlen_min  |  2.33790268 |  1.9245086 | 37 |\n",
       "| 7 | daydom_min  |  0.52950744 |  0.5173183 | 38 |\n",
       "| 33 | region_maj  |  0.19949523 |  0.2855315 | 39 |\n",
       "| 2 | country_cnt |  0.07467913 |  0.2047129 | 40 |\n",
       "| 32 | region_cnt  |  0.06095874 |  0.1905010 | 41 |\n",
       "| 21 | pdcnt_min   |  0.00000000 |  0.0000000 | 42 |\n",
       "\n"
      ],
      "text/plain": [
       "   var         auc_imp     l10_imp    rank\n",
       "1  count       15.31169300 12.2144782  1  \n",
       "42 tld_rat     15.23831185 11.9945710  2  \n",
       "3  country_maj 11.07141571  9.8014162  3  \n",
       "11 gibbs_kurt  13.30721958  9.7556244  4  \n",
       "30 rarpt_skew   6.78713983  8.6828113  5  \n",
       "16 gibbs_skew   8.16672373  8.4766116  6  \n",
       "34 ren_prp      8.88075429  8.4745175  7  \n",
       "14 gibbs_min    7.90966643  7.5154632  8  \n",
       "18 pdcnt_kurt   8.36394211  7.2483910  9  \n",
       "35 sldlen_kurt 11.40667832  7.1475892 10  \n",
       "27 rarpt_mean   6.89552662  6.8642091 11  \n",
       "23 pdcnt_skew   8.26749300  6.8601065 12  \n",
       "10 daydom_std   7.20368857  6.8384168 13  \n",
       "13 gibbs_mean   8.34572758  6.6631761 14  \n",
       "25 rarpt_kurt   7.24538731  6.6157076 15  \n",
       "40 sldlen_skew  8.14024547  6.5682164 16  \n",
       "9  daydom_skew  7.69415532  6.4048228 17  \n",
       "4  daydom_kurt  8.21517282  6.3371163 18  \n",
       "41 sldlen_std   6.99835343  6.0969344 19  \n",
       "15 gibbs_rng    8.12993683  5.9241736 20  \n",
       "6  daydom_mean  7.09591054  5.7493910 21  \n",
       "24 pdcnt_std    5.45130642  5.6763965 22  \n",
       "17 gibbs_std    7.48817500  5.6332276 23  \n",
       "37 sldlen_mean  7.54536711  5.4838030 24  \n",
       "8  daydom_rng   5.91203550  5.2847957 25  \n",
       "39 sldlen_rng   5.98359974  5.0543207 26  \n",
       "5  daydom_max   4.25778559  4.9400643 27  \n",
       "20 pdcnt_mean   5.19275303  4.6768229 28  \n",
       "26 rarpt_max    5.56579818  4.5578646 29  \n",
       "12 gibbs_max    5.92317714  4.4847103 30  \n",
       "28 rarpt_min    4.93330802  4.3559688 31  \n",
       "36 sldlen_max   5.28877342  4.3427462 32  \n",
       "31 rarpt_std    3.84163093  4.1537824 33  \n",
       "29 rarpt_rng    3.74022403  3.8148489 34  \n",
       "19 pdcnt_max    2.16315454  3.5298333 35  \n",
       "22 pdcnt_rng    2.45716700  3.1336761 36  \n",
       "38 sldlen_min   2.33790268  1.9245086 37  \n",
       "7  daydom_min   0.52950744  0.5173183 38  \n",
       "33 region_maj   0.19949523  0.2855315 39  \n",
       "2  country_cnt  0.07467913  0.2047129 40  \n",
       "32 region_cnt   0.06095874  0.1905010 41  \n",
       "21 pdcnt_min    0.00000000  0.0000000 42  "
      ]
     },
     "metadata": {},
     "output_type": "display_data"
    }
   ],
   "source": [
    "varimp_df <- as.data.frame(sort(importance(model),decreasing=TRUE))\n",
    "varimp_df <- merge(varimp_df, as.data.frame(sort(importance(model_l10),decreasing=TRUE)), by=0, all=TRUE)\n",
    "names(varimp_df) <- c(\"var\",\"auc_imp\",\"l10_imp\")\n",
    "varimp_df <- varimp_df[order(varimp_df$l10_imp, decreasing=TRUE),]\n",
    "varimp_df$rank <- seq(1:nrow(varimp_df))\n",
    "varimp_df"
   ]
  },
  {
   "cell_type": "markdown",
   "metadata": {},
   "source": [
    "# Leveraging l10 geo multiclass assigns"
   ]
  },
  {
   "cell_type": "code",
   "execution_count": 92,
   "metadata": {},
   "outputs": [
    {
     "data": {
      "text/plain": [
       "Ranger result\n",
       "\n",
       "Call:\n",
       " ranger(formula = l10_win ~ ., data = train2_l10_imp, importance = \"impurity\",      num.trees = 500, probability = TRUE, replace = FALSE, sample.fraction = 0.8,      seed = 123, respect.unordered.factors = TRUE) \n",
       "\n",
       "Type:                             Probability estimation \n",
       "Number of trees:                  500 \n",
       "Sample size:                      846 \n",
       "Number of independent variables:  42 \n",
       "Mtry:                             6 \n",
       "Target node size:                 10 \n",
       "Variable importance mode:         impurity \n",
       "Splitrule:                        gini \n",
       "OOB prediction error (Brier s.):  0.4460021 "
      ]
     },
     "metadata": {},
     "output_type": "display_data"
    }
   ],
   "source": [
    "model_l10"
   ]
  },
  {
   "cell_type": "code",
   "execution_count": 94,
   "metadata": {},
   "outputs": [
    {
     "data": {
      "text/html": [
       "<table>\n",
       "<caption>A data.frame: 6 × 7</caption>\n",
       "<thead>\n",
       "\t<tr><th></th><th scope=col>l10_seg2_glm</th><th scope=col>l10_agg_glm</th><th scope=col>l10_agg_rf</th><th scope=col>l10_seg_glm</th><th scope=col>l10_seg_rf</th><th scope=col>l10_seg2_rf</th><th scope=col>win</th></tr>\n",
       "\t<tr><th></th><th scope=col>&lt;dbl&gt;</th><th scope=col>&lt;dbl&gt;</th><th scope=col>&lt;dbl&gt;</th><th scope=col>&lt;dbl&gt;</th><th scope=col>&lt;dbl&gt;</th><th scope=col>&lt;dbl&gt;</th><th scope=col>&lt;chr&gt;</th></tr>\n",
       "</thead>\n",
       "<tbody>\n",
       "\t<tr><th scope=row>1</th><td>0.16476190</td><td>0.2533397</td><td>0.2449270</td><td>0.1208151</td><td>0.14337460</td><td>0.07278175</td><td>l10_agg_glm </td></tr>\n",
       "\t<tr><th scope=row>2</th><td>0.09413095</td><td>0.1814429</td><td>0.4197706</td><td>0.1442079</td><td>0.08977302</td><td>0.07067460</td><td>l10_agg_rf  </td></tr>\n",
       "\t<tr><th scope=row>3</th><td>0.46560238</td><td>0.1062786</td><td>0.1017913</td><td>0.1114437</td><td>0.03903730</td><td>0.17584683</td><td>l10_seg2_glm</td></tr>\n",
       "\t<tr><th scope=row>4</th><td>0.30808095</td><td>0.1571103</td><td>0.1971937</td><td>0.1401460</td><td>0.11175159</td><td>0.08571746</td><td>l10_seg2_glm</td></tr>\n",
       "\t<tr><th scope=row>5</th><td>0.16270635</td><td>0.2351746</td><td>0.2556500</td><td>0.1483667</td><td>0.08074365</td><td>0.11735873</td><td>l10_agg_rf  </td></tr>\n",
       "\t<tr><th scope=row>6</th><td>0.25851508</td><td>0.1724857</td><td>0.1747921</td><td>0.1126397</td><td>0.12087619</td><td>0.16069127</td><td>l10_seg2_glm</td></tr>\n",
       "</tbody>\n",
       "</table>\n"
      ],
      "text/latex": [
       "A data.frame: 6 × 7\n",
       "\\begin{tabular}{r|lllllll}\n",
       "  & l10\\_seg2\\_glm & l10\\_agg\\_glm & l10\\_agg\\_rf & l10\\_seg\\_glm & l10\\_seg\\_rf & l10\\_seg2\\_rf & win\\\\\n",
       "  & <dbl> & <dbl> & <dbl> & <dbl> & <dbl> & <dbl> & <chr>\\\\\n",
       "\\hline\n",
       "\t1 & 0.16476190 & 0.2533397 & 0.2449270 & 0.1208151 & 0.14337460 & 0.07278175 & l10\\_agg\\_glm \\\\\n",
       "\t2 & 0.09413095 & 0.1814429 & 0.4197706 & 0.1442079 & 0.08977302 & 0.07067460 & l10\\_agg\\_rf  \\\\\n",
       "\t3 & 0.46560238 & 0.1062786 & 0.1017913 & 0.1114437 & 0.03903730 & 0.17584683 & l10\\_seg2\\_glm\\\\\n",
       "\t4 & 0.30808095 & 0.1571103 & 0.1971937 & 0.1401460 & 0.11175159 & 0.08571746 & l10\\_seg2\\_glm\\\\\n",
       "\t5 & 0.16270635 & 0.2351746 & 0.2556500 & 0.1483667 & 0.08074365 & 0.11735873 & l10\\_agg\\_rf  \\\\\n",
       "\t6 & 0.25851508 & 0.1724857 & 0.1747921 & 0.1126397 & 0.12087619 & 0.16069127 & l10\\_seg2\\_glm\\\\\n",
       "\\end{tabular}\n"
      ],
      "text/markdown": [
       "\n",
       "A data.frame: 6 × 7\n",
       "\n",
       "| <!--/--> | l10_seg2_glm &lt;dbl&gt; | l10_agg_glm &lt;dbl&gt; | l10_agg_rf &lt;dbl&gt; | l10_seg_glm &lt;dbl&gt; | l10_seg_rf &lt;dbl&gt; | l10_seg2_rf &lt;dbl&gt; | win &lt;chr&gt; |\n",
       "|---|---|---|---|---|---|---|---|\n",
       "| 1 | 0.16476190 | 0.2533397 | 0.2449270 | 0.1208151 | 0.14337460 | 0.07278175 | l10_agg_glm  |\n",
       "| 2 | 0.09413095 | 0.1814429 | 0.4197706 | 0.1442079 | 0.08977302 | 0.07067460 | l10_agg_rf   |\n",
       "| 3 | 0.46560238 | 0.1062786 | 0.1017913 | 0.1114437 | 0.03903730 | 0.17584683 | l10_seg2_glm |\n",
       "| 4 | 0.30808095 | 0.1571103 | 0.1971937 | 0.1401460 | 0.11175159 | 0.08571746 | l10_seg2_glm |\n",
       "| 5 | 0.16270635 | 0.2351746 | 0.2556500 | 0.1483667 | 0.08074365 | 0.11735873 | l10_agg_rf   |\n",
       "| 6 | 0.25851508 | 0.1724857 | 0.1747921 | 0.1126397 | 0.12087619 | 0.16069127 | l10_seg2_glm |\n",
       "\n"
      ],
      "text/plain": [
       "  l10_seg2_glm l10_agg_glm l10_agg_rf l10_seg_glm l10_seg_rf l10_seg2_rf\n",
       "1 0.16476190   0.2533397   0.2449270  0.1208151   0.14337460 0.07278175 \n",
       "2 0.09413095   0.1814429   0.4197706  0.1442079   0.08977302 0.07067460 \n",
       "3 0.46560238   0.1062786   0.1017913  0.1114437   0.03903730 0.17584683 \n",
       "4 0.30808095   0.1571103   0.1971937  0.1401460   0.11175159 0.08571746 \n",
       "5 0.16270635   0.2351746   0.2556500  0.1483667   0.08074365 0.11735873 \n",
       "6 0.25851508   0.1724857   0.1747921  0.1126397   0.12087619 0.16069127 \n",
       "  win         \n",
       "1 l10_agg_glm \n",
       "2 l10_agg_rf  \n",
       "3 l10_seg2_glm\n",
       "4 l10_seg2_glm\n",
       "5 l10_agg_rf  \n",
       "6 l10_seg2_glm"
      ]
     },
     "metadata": {},
     "output_type": "display_data"
    }
   ],
   "source": [
    "head(pred)"
   ]
  },
  {
   "cell_type": "code",
   "execution_count": 102,
   "metadata": {},
   "outputs": [
    {
     "data": {
      "text/html": [
       "<table>\n",
       "<caption>A data.frame: 6 × 4</caption>\n",
       "<thead>\n",
       "\t<tr><th></th><th scope=col>auc_win</th><th scope=col>l10_win</th><th scope=col>pred_l10win</th><th scope=col>tld_reseller</th></tr>\n",
       "\t<tr><th></th><th scope=col>&lt;fct&gt;</th><th scope=col>&lt;fct&gt;</th><th scope=col>&lt;chr&gt;</th><th scope=col>&lt;fct&gt;</th></tr>\n",
       "</thead>\n",
       "<tbody>\n",
       "\t<tr><th scope=row>1</th><td>auc_seg_rf  </td><td>l10_seg2_rf </td><td>l10_agg_glm </td><td>sitegmo        </td></tr>\n",
       "\t<tr><th scope=row>3</th><td>auc_agg_rf  </td><td>l10_seg2_glm</td><td>l10_agg_rf  </td><td>sitenamecheap  </td></tr>\n",
       "\t<tr><th scope=row>7</th><td>auc_seg2_glm</td><td>l10_seg2_glm</td><td>l10_seg2_glm</td><td>sitereg.ru     </td></tr>\n",
       "\t<tr><th scope=row>12</th><td>auc_seg2_rf </td><td>l10_seg2_rf </td><td>l10_seg2_glm</td><td>funchengdu west</td></tr>\n",
       "\t<tr><th scope=row>14</th><td>auc_seg_rf  </td><td>l10_seg_rf  </td><td>l10_agg_rf  </td><td>spacego daddy  </td></tr>\n",
       "\t<tr><th scope=row>15</th><td>auc_seg2_glm</td><td>l10_seg2_glm</td><td>l10_seg2_glm</td><td>funnamecheap   </td></tr>\n",
       "</tbody>\n",
       "</table>\n"
      ],
      "text/latex": [
       "A data.frame: 6 × 4\n",
       "\\begin{tabular}{r|llll}\n",
       "  & auc\\_win & l10\\_win & pred\\_l10win & tld\\_reseller\\\\\n",
       "  & <fct> & <fct> & <chr> & <fct>\\\\\n",
       "\\hline\n",
       "\t1 & auc\\_seg\\_rf   & l10\\_seg2\\_rf  & l10\\_agg\\_glm  & sitegmo        \\\\\n",
       "\t3 & auc\\_agg\\_rf   & l10\\_seg2\\_glm & l10\\_agg\\_rf   & sitenamecheap  \\\\\n",
       "\t7 & auc\\_seg2\\_glm & l10\\_seg2\\_glm & l10\\_seg2\\_glm & sitereg.ru     \\\\\n",
       "\t12 & auc\\_seg2\\_rf  & l10\\_seg2\\_rf  & l10\\_seg2\\_glm & funchengdu west\\\\\n",
       "\t14 & auc\\_seg\\_rf   & l10\\_seg\\_rf   & l10\\_agg\\_rf   & spacego daddy  \\\\\n",
       "\t15 & auc\\_seg2\\_glm & l10\\_seg2\\_glm & l10\\_seg2\\_glm & funnamecheap   \\\\\n",
       "\\end{tabular}\n"
      ],
      "text/markdown": [
       "\n",
       "A data.frame: 6 × 4\n",
       "\n",
       "| <!--/--> | auc_win &lt;fct&gt; | l10_win &lt;fct&gt; | pred_l10win &lt;chr&gt; | tld_reseller &lt;fct&gt; |\n",
       "|---|---|---|---|---|\n",
       "| 1 | auc_seg_rf   | l10_seg2_rf  | l10_agg_glm  | sitegmo         |\n",
       "| 3 | auc_agg_rf   | l10_seg2_glm | l10_agg_rf   | sitenamecheap   |\n",
       "| 7 | auc_seg2_glm | l10_seg2_glm | l10_seg2_glm | sitereg.ru      |\n",
       "| 12 | auc_seg2_rf  | l10_seg2_rf  | l10_seg2_glm | funchengdu west |\n",
       "| 14 | auc_seg_rf   | l10_seg_rf   | l10_agg_rf   | spacego daddy   |\n",
       "| 15 | auc_seg2_glm | l10_seg2_glm | l10_seg2_glm | funnamecheap    |\n",
       "\n"
      ],
      "text/plain": [
       "   auc_win      l10_win      pred_l10win  tld_reseller   \n",
       "1  auc_seg_rf   l10_seg2_rf  l10_agg_glm  sitegmo        \n",
       "3  auc_agg_rf   l10_seg2_glm l10_agg_rf   sitenamecheap  \n",
       "7  auc_seg2_glm l10_seg2_glm l10_seg2_glm sitereg.ru     \n",
       "12 auc_seg2_rf  l10_seg2_rf  l10_seg2_glm funchengdu west\n",
       "14 auc_seg_rf   l10_seg_rf   l10_agg_rf   spacego daddy  \n",
       "15 auc_seg2_glm l10_seg2_glm l10_seg2_glm funnamecheap   "
      ]
     },
     "metadata": {},
     "output_type": "display_data"
    }
   ],
   "source": [
    "pred_df <- metrics_df[-train_ind,] \n",
    "pred_df$pred_l10win <- pred$win \n",
    "# dim(pred_df)\n",
    "# names(pred_df)\n",
    "pred_df_lookup <- pred_df %>% select(auc_win, l10_win, pred_l10win, tld_reseller)\n",
    "head(pred_df_lookup)"
   ]
  },
  {
   "cell_type": "code",
   "execution_count": 100,
   "metadata": {},
   "outputs": [
    {
     "data": {
      "text/html": [
       "<style>\n",
       ".list-inline {list-style: none; margin:0; padding: 0}\n",
       ".list-inline>li {display: inline-block}\n",
       ".list-inline>li:not(:last-child)::after {content: \"\\00b7\"; padding: 0 .5ex}\n",
       "</style>\n",
       "<ol class=list-inline><li>'auc_win'</li><li>'l10_win'</li><li>'count'</li><li>'ren_prp'</li><li>'tld_rat'</li><li>'geo_cnt'</li><li>'geo_maj'</li><li>'daydom_min'</li><li>'daydom_max'</li><li>'daydom_mean'</li><li>'daydom_rng'</li><li>'daydom_std'</li><li>'daydom_skew'</li><li>'daydom_kurt'</li><li>'sldlen_min'</li><li>'sldlen_max'</li><li>'sldlen_mean'</li><li>'sldlen_rng'</li><li>'sldlen_std'</li><li>'sldlen_skew'</li><li>'sldlen_kurt'</li><li>'gibbs_min'</li><li>'gibbs_max'</li><li>'gibbs_mean'</li><li>'gibbs_rng'</li><li>'gibbs_std'</li><li>'gibbs_skew'</li><li>'gibbs_kurt'</li><li>'pdcnt_min'</li><li>'pdcnt_max'</li><li>'pdcnt_mean'</li><li>'pdcnt_rng'</li><li>'pdcnt_std'</li><li>'pdcnt_skew'</li><li>'pdcnt_kurt'</li><li>'rarpt_min'</li><li>'rarpt_max'</li><li>'rarpt_mean'</li><li>'rarpt_rng'</li><li>'rarpt_std'</li><li>'rarpt_skew'</li><li>'rarpt_kurt'</li></ol>\n"
      ],
      "text/latex": [
       "\\begin{enumerate*}\n",
       "\\item 'auc\\_win'\n",
       "\\item 'l10\\_win'\n",
       "\\item 'count'\n",
       "\\item 'ren\\_prp'\n",
       "\\item 'tld\\_rat'\n",
       "\\item 'geo\\_cnt'\n",
       "\\item 'geo\\_maj'\n",
       "\\item 'daydom\\_min'\n",
       "\\item 'daydom\\_max'\n",
       "\\item 'daydom\\_mean'\n",
       "\\item 'daydom\\_rng'\n",
       "\\item 'daydom\\_std'\n",
       "\\item 'daydom\\_skew'\n",
       "\\item 'daydom\\_kurt'\n",
       "\\item 'sldlen\\_min'\n",
       "\\item 'sldlen\\_max'\n",
       "\\item 'sldlen\\_mean'\n",
       "\\item 'sldlen\\_rng'\n",
       "\\item 'sldlen\\_std'\n",
       "\\item 'sldlen\\_skew'\n",
       "\\item 'sldlen\\_kurt'\n",
       "\\item 'gibbs\\_min'\n",
       "\\item 'gibbs\\_max'\n",
       "\\item 'gibbs\\_mean'\n",
       "\\item 'gibbs\\_rng'\n",
       "\\item 'gibbs\\_std'\n",
       "\\item 'gibbs\\_skew'\n",
       "\\item 'gibbs\\_kurt'\n",
       "\\item 'pdcnt\\_min'\n",
       "\\item 'pdcnt\\_max'\n",
       "\\item 'pdcnt\\_mean'\n",
       "\\item 'pdcnt\\_rng'\n",
       "\\item 'pdcnt\\_std'\n",
       "\\item 'pdcnt\\_skew'\n",
       "\\item 'pdcnt\\_kurt'\n",
       "\\item 'rarpt\\_min'\n",
       "\\item 'rarpt\\_max'\n",
       "\\item 'rarpt\\_mean'\n",
       "\\item 'rarpt\\_rng'\n",
       "\\item 'rarpt\\_std'\n",
       "\\item 'rarpt\\_skew'\n",
       "\\item 'rarpt\\_kurt'\n",
       "\\end{enumerate*}\n"
      ],
      "text/markdown": [
       "1. 'auc_win'\n",
       "2. 'l10_win'\n",
       "3. 'count'\n",
       "4. 'ren_prp'\n",
       "5. 'tld_rat'\n",
       "6. 'geo_cnt'\n",
       "7. 'geo_maj'\n",
       "8. 'daydom_min'\n",
       "9. 'daydom_max'\n",
       "10. 'daydom_mean'\n",
       "11. 'daydom_rng'\n",
       "12. 'daydom_std'\n",
       "13. 'daydom_skew'\n",
       "14. 'daydom_kurt'\n",
       "15. 'sldlen_min'\n",
       "16. 'sldlen_max'\n",
       "17. 'sldlen_mean'\n",
       "18. 'sldlen_rng'\n",
       "19. 'sldlen_std'\n",
       "20. 'sldlen_skew'\n",
       "21. 'sldlen_kurt'\n",
       "22. 'gibbs_min'\n",
       "23. 'gibbs_max'\n",
       "24. 'gibbs_mean'\n",
       "25. 'gibbs_rng'\n",
       "26. 'gibbs_std'\n",
       "27. 'gibbs_skew'\n",
       "28. 'gibbs_kurt'\n",
       "29. 'pdcnt_min'\n",
       "30. 'pdcnt_max'\n",
       "31. 'pdcnt_mean'\n",
       "32. 'pdcnt_rng'\n",
       "33. 'pdcnt_std'\n",
       "34. 'pdcnt_skew'\n",
       "35. 'pdcnt_kurt'\n",
       "36. 'rarpt_min'\n",
       "37. 'rarpt_max'\n",
       "38. 'rarpt_mean'\n",
       "39. 'rarpt_rng'\n",
       "40. 'rarpt_std'\n",
       "41. 'rarpt_skew'\n",
       "42. 'rarpt_kurt'\n",
       "\n",
       "\n"
      ],
      "text/plain": [
       " [1] \"auc_win\"     \"l10_win\"     \"count\"       \"ren_prp\"     \"tld_rat\"    \n",
       " [6] \"geo_cnt\"     \"geo_maj\"     \"daydom_min\"  \"daydom_max\"  \"daydom_mean\"\n",
       "[11] \"daydom_rng\"  \"daydom_std\"  \"daydom_skew\" \"daydom_kurt\" \"sldlen_min\" \n",
       "[16] \"sldlen_max\"  \"sldlen_mean\" \"sldlen_rng\"  \"sldlen_std\"  \"sldlen_skew\"\n",
       "[21] \"sldlen_kurt\" \"gibbs_min\"   \"gibbs_max\"   \"gibbs_mean\"  \"gibbs_rng\"  \n",
       "[26] \"gibbs_std\"   \"gibbs_skew\"  \"gibbs_kurt\"  \"pdcnt_min\"   \"pdcnt_max\"  \n",
       "[31] \"pdcnt_mean\"  \"pdcnt_rng\"   \"pdcnt_std\"   \"pdcnt_skew\"  \"pdcnt_kurt\" \n",
       "[36] \"rarpt_min\"   \"rarpt_max\"   \"rarpt_mean\"  \"rarpt_rng\"   \"rarpt_std\"  \n",
       "[41] \"rarpt_skew\"  \"rarpt_kurt\" "
      ]
     },
     "metadata": {},
     "output_type": "display_data"
    }
   ],
   "source": [
    "names(test)"
   ]
  },
  {
   "cell_type": "markdown",
   "metadata": {},
   "source": [
    "### add assigned model to pred_df"
   ]
  },
  {
   "cell_type": "code",
   "execution_count": 107,
   "metadata": {},
   "outputs": [
    {
     "data": {
      "text/html": [
       "<table>\n",
       "<caption>A data.frame: 6 × 12</caption>\n",
       "<thead>\n",
       "\t<tr><th></th><th scope=col>actual</th><th scope=col>pred_df_seg2_glm</th><th scope=col>pred_df_seg_glm</th><th scope=col>pred_df_agg_glm</th><th scope=col>pred_df_seg2_rf</th><th scope=col>pred_df_seg_rf</th><th scope=col>pred_df_agg_rf</th><th scope=col>tld_registrar_index</th><th scope=col>reseller</th><th scope=col>n</th><th scope=col>domain_id</th><th scope=col>domain</th></tr>\n",
       "\t<tr><th></th><th scope=col>&lt;fct&gt;</th><th scope=col>&lt;dbl&gt;</th><th scope=col>&lt;dbl&gt;</th><th scope=col>&lt;dbl&gt;</th><th scope=col>&lt;dbl&gt;</th><th scope=col>&lt;dbl&gt;</th><th scope=col>&lt;dbl&gt;</th><th scope=col>&lt;fct&gt;</th><th scope=col>&lt;fct&gt;</th><th scope=col>&lt;int&gt;</th><th scope=col>&lt;int&gt;</th><th scope=col>&lt;fct&gt;</th></tr>\n",
       "</thead>\n",
       "<tbody>\n",
       "\t<tr><th scope=row>1</th><td>Not Renewd</td><td>0.6470992</td><td>0.558</td><td>0.419</td><td>0.4765771</td><td>0.4545657</td><td>0.5386137</td><td>sitegmo</td><td>gmo</td><td>106569</td><td>44295183</td><td>kagen.site           </td></tr>\n",
       "\t<tr><th scope=row>2</th><td>Renewed   </td><td>0.6762222</td><td>0.567</td><td>0.397</td><td>0.5410605</td><td>0.5769973</td><td>0.6091513</td><td>sitegmo</td><td>gmo</td><td>106569</td><td>44573611</td><td>designlab.site       </td></tr>\n",
       "\t<tr><th scope=row>3</th><td>Renewed   </td><td>0.9098495</td><td>0.835</td><td>0.410</td><td>0.7018108</td><td>0.6343404</td><td>0.6886680</td><td>sitegmo</td><td>gmo</td><td>106569</td><td>45304858</td><td>hokatu-blog.site     </td></tr>\n",
       "\t<tr><th scope=row>4</th><td>Renewed   </td><td>0.6029350</td><td>0.515</td><td>0.402</td><td>0.2414726</td><td>0.3999603</td><td>0.3464197</td><td>sitegmo</td><td>gmo</td><td>106569</td><td>46235129</td><td>suzuya.site          </td></tr>\n",
       "\t<tr><th scope=row>5</th><td>Not Renewd</td><td>0.9311321</td><td>0.863</td><td>0.417</td><td>0.7749462</td><td>0.7039504</td><td>0.6711740</td><td>sitegmo</td><td>gmo</td><td>106569</td><td>46276970</td><td>wins-company.site    </td></tr>\n",
       "\t<tr><th scope=row>6</th><td>Renewed   </td><td>0.9347869</td><td>0.861</td><td>0.391</td><td>0.6376848</td><td>0.6566740</td><td>0.6717237</td><td>sitegmo</td><td>gmo</td><td>106569</td><td>47809960</td><td>yamatoku-company.site</td></tr>\n",
       "</tbody>\n",
       "</table>\n"
      ],
      "text/latex": [
       "A data.frame: 6 × 12\n",
       "\\begin{tabular}{r|llllllllllll}\n",
       "  & actual & pred\\_df\\_seg2\\_glm & pred\\_df\\_seg\\_glm & pred\\_df\\_agg\\_glm & pred\\_df\\_seg2\\_rf & pred\\_df\\_seg\\_rf & pred\\_df\\_agg\\_rf & tld\\_registrar\\_index & reseller & n & domain\\_id & domain\\\\\n",
       "  & <fct> & <dbl> & <dbl> & <dbl> & <dbl> & <dbl> & <dbl> & <fct> & <fct> & <int> & <int> & <fct>\\\\\n",
       "\\hline\n",
       "\t1 & Not Renewd & 0.6470992 & 0.558 & 0.419 & 0.4765771 & 0.4545657 & 0.5386137 & sitegmo & gmo & 106569 & 44295183 & kagen.site           \\\\\n",
       "\t2 & Renewed    & 0.6762222 & 0.567 & 0.397 & 0.5410605 & 0.5769973 & 0.6091513 & sitegmo & gmo & 106569 & 44573611 & designlab.site       \\\\\n",
       "\t3 & Renewed    & 0.9098495 & 0.835 & 0.410 & 0.7018108 & 0.6343404 & 0.6886680 & sitegmo & gmo & 106569 & 45304858 & hokatu-blog.site     \\\\\n",
       "\t4 & Renewed    & 0.6029350 & 0.515 & 0.402 & 0.2414726 & 0.3999603 & 0.3464197 & sitegmo & gmo & 106569 & 46235129 & suzuya.site          \\\\\n",
       "\t5 & Not Renewd & 0.9311321 & 0.863 & 0.417 & 0.7749462 & 0.7039504 & 0.6711740 & sitegmo & gmo & 106569 & 46276970 & wins-company.site    \\\\\n",
       "\t6 & Renewed    & 0.9347869 & 0.861 & 0.391 & 0.6376848 & 0.6566740 & 0.6717237 & sitegmo & gmo & 106569 & 47809960 & yamatoku-company.site\\\\\n",
       "\\end{tabular}\n"
      ],
      "text/markdown": [
       "\n",
       "A data.frame: 6 × 12\n",
       "\n",
       "| <!--/--> | actual &lt;fct&gt; | pred_df_seg2_glm &lt;dbl&gt; | pred_df_seg_glm &lt;dbl&gt; | pred_df_agg_glm &lt;dbl&gt; | pred_df_seg2_rf &lt;dbl&gt; | pred_df_seg_rf &lt;dbl&gt; | pred_df_agg_rf &lt;dbl&gt; | tld_registrar_index &lt;fct&gt; | reseller &lt;fct&gt; | n &lt;int&gt; | domain_id &lt;int&gt; | domain &lt;fct&gt; |\n",
       "|---|---|---|---|---|---|---|---|---|---|---|---|---|\n",
       "| 1 | Not Renewd | 0.6470992 | 0.558 | 0.419 | 0.4765771 | 0.4545657 | 0.5386137 | sitegmo | gmo | 106569 | 44295183 | kagen.site            |\n",
       "| 2 | Renewed    | 0.6762222 | 0.567 | 0.397 | 0.5410605 | 0.5769973 | 0.6091513 | sitegmo | gmo | 106569 | 44573611 | designlab.site        |\n",
       "| 3 | Renewed    | 0.9098495 | 0.835 | 0.410 | 0.7018108 | 0.6343404 | 0.6886680 | sitegmo | gmo | 106569 | 45304858 | hokatu-blog.site      |\n",
       "| 4 | Renewed    | 0.6029350 | 0.515 | 0.402 | 0.2414726 | 0.3999603 | 0.3464197 | sitegmo | gmo | 106569 | 46235129 | suzuya.site           |\n",
       "| 5 | Not Renewd | 0.9311321 | 0.863 | 0.417 | 0.7749462 | 0.7039504 | 0.6711740 | sitegmo | gmo | 106569 | 46276970 | wins-company.site     |\n",
       "| 6 | Renewed    | 0.9347869 | 0.861 | 0.391 | 0.6376848 | 0.6566740 | 0.6717237 | sitegmo | gmo | 106569 | 47809960 | yamatoku-company.site |\n",
       "\n"
      ],
      "text/plain": [
       "  actual     pred_df_seg2_glm pred_df_seg_glm pred_df_agg_glm pred_df_seg2_rf\n",
       "1 Not Renewd 0.6470992        0.558           0.419           0.4765771      \n",
       "2 Renewed    0.6762222        0.567           0.397           0.5410605      \n",
       "3 Renewed    0.9098495        0.835           0.410           0.7018108      \n",
       "4 Renewed    0.6029350        0.515           0.402           0.2414726      \n",
       "5 Not Renewd 0.9311321        0.863           0.417           0.7749462      \n",
       "6 Renewed    0.9347869        0.861           0.391           0.6376848      \n",
       "  pred_df_seg_rf pred_df_agg_rf tld_registrar_index reseller n      domain_id\n",
       "1 0.4545657      0.5386137      sitegmo             gmo      106569 44295183 \n",
       "2 0.5769973      0.6091513      sitegmo             gmo      106569 44573611 \n",
       "3 0.6343404      0.6886680      sitegmo             gmo      106569 45304858 \n",
       "4 0.3999603      0.3464197      sitegmo             gmo      106569 46235129 \n",
       "5 0.7039504      0.6711740      sitegmo             gmo      106569 46276970 \n",
       "6 0.6566740      0.6717237      sitegmo             gmo      106569 47809960 \n",
       "  domain               \n",
       "1 kagen.site           \n",
       "2 designlab.site       \n",
       "3 hokatu-blog.site     \n",
       "4 suzuya.site          \n",
       "5 wins-company.site    \n",
       "6 yamatoku-company.site"
      ]
     },
     "metadata": {},
     "output_type": "display_data"
    }
   ],
   "source": [
    "head(predictions_df)"
   ]
  },
  {
   "cell_type": "code",
   "execution_count": 110,
   "metadata": {},
   "outputs": [
    {
     "data": {
      "text/html": [
       "<style>\n",
       ".list-inline {list-style: none; margin:0; padding: 0}\n",
       ".list-inline>li {display: inline-block}\n",
       ".list-inline>li:not(:last-child)::after {content: \"\\00b7\"; padding: 0 .5ex}\n",
       "</style>\n",
       "<ol class=list-inline><li>297100</li><li>12</li></ol>\n"
      ],
      "text/latex": [
       "\\begin{enumerate*}\n",
       "\\item 297100\n",
       "\\item 12\n",
       "\\end{enumerate*}\n"
      ],
      "text/markdown": [
       "1. 297100\n",
       "2. 12\n",
       "\n",
       "\n"
      ],
      "text/plain": [
       "[1] 297100     12"
      ]
     },
     "metadata": {},
     "output_type": "display_data"
    },
    {
     "data": {
      "text/html": [
       "<style>\n",
       ".list-inline {list-style: none; margin:0; padding: 0}\n",
       ".list-inline>li {display: inline-block}\n",
       ".list-inline>li:not(:last-child)::after {content: \"\\00b7\"; padding: 0 .5ex}\n",
       "</style>\n",
       "<ol class=list-inline><li>297100</li><li>15</li></ol>\n"
      ],
      "text/latex": [
       "\\begin{enumerate*}\n",
       "\\item 297100\n",
       "\\item 15\n",
       "\\end{enumerate*}\n"
      ],
      "text/markdown": [
       "1. 297100\n",
       "2. 15\n",
       "\n",
       "\n"
      ],
      "text/plain": [
       "[1] 297100     15"
      ]
     },
     "metadata": {},
     "output_type": "display_data"
    },
    {
     "data": {
      "text/html": [
       "<table>\n",
       "<caption>A data.frame: 6 × 15</caption>\n",
       "<thead>\n",
       "\t<tr><th></th><th scope=col>tld_registrar_index</th><th scope=col>actual</th><th scope=col>pred_df_seg2_glm</th><th scope=col>pred_df_seg_glm</th><th scope=col>pred_df_agg_glm</th><th scope=col>pred_df_seg2_rf</th><th scope=col>pred_df_seg_rf</th><th scope=col>pred_df_agg_rf</th><th scope=col>reseller</th><th scope=col>n</th><th scope=col>domain_id</th><th scope=col>domain</th><th scope=col>auc_win</th><th scope=col>l10_win</th><th scope=col>pred_l10win</th></tr>\n",
       "\t<tr><th></th><th scope=col>&lt;fct&gt;</th><th scope=col>&lt;fct&gt;</th><th scope=col>&lt;dbl&gt;</th><th scope=col>&lt;dbl&gt;</th><th scope=col>&lt;dbl&gt;</th><th scope=col>&lt;dbl&gt;</th><th scope=col>&lt;dbl&gt;</th><th scope=col>&lt;dbl&gt;</th><th scope=col>&lt;fct&gt;</th><th scope=col>&lt;int&gt;</th><th scope=col>&lt;int&gt;</th><th scope=col>&lt;fct&gt;</th><th scope=col>&lt;fct&gt;</th><th scope=col>&lt;fct&gt;</th><th scope=col>&lt;chr&gt;</th></tr>\n",
       "</thead>\n",
       "<tbody>\n",
       "\t<tr><th scope=row>1</th><td>sitegmo</td><td>Not Renewd</td><td>0.007010644</td><td>0.006</td><td>0.000</td><td>0.012973132</td><td>0.005583303</td><td>0.0076133783</td><td>gmo</td><td>106569</td><td>105125506</td><td>igguub.site</td><td>auc_seg_rf</td><td>l10_seg2_rf</td><td>l10_agg_glm</td></tr>\n",
       "\t<tr><th scope=row>2</th><td>sitegmo</td><td>Not Renewd</td><td>0.017977875</td><td>0.020</td><td>0.016</td><td>0.001263600</td><td>0.001205006</td><td>0.0002808805</td><td>gmo</td><td>106569</td><td>103854676</td><td>iuofhn.site</td><td>auc_seg_rf</td><td>l10_seg2_rf</td><td>l10_agg_glm</td></tr>\n",
       "\t<tr><th scope=row>3</th><td>sitegmo</td><td>Not Renewd</td><td>0.004407615</td><td>0.004</td><td>0.000</td><td>0.007525737</td><td>0.004575360</td><td>0.0064641536</td><td>gmo</td><td>106569</td><td>105192206</td><td>zanozz.site</td><td>auc_seg_rf</td><td>l10_seg2_rf</td><td>l10_agg_glm</td></tr>\n",
       "\t<tr><th scope=row>4</th><td>sitegmo</td><td>Not Renewd</td><td>0.006998380</td><td>0.006</td><td>0.000</td><td>0.011422635</td><td>0.004519164</td><td>0.0056738281</td><td>gmo</td><td>106569</td><td>105102351</td><td>fxynor.site</td><td>auc_seg_rf</td><td>l10_seg2_rf</td><td>l10_agg_glm</td></tr>\n",
       "\t<tr><th scope=row>5</th><td>sitegmo</td><td>Not Renewd</td><td>0.006769366</td><td>0.006</td><td>0.000</td><td>0.008389888</td><td>0.004467357</td><td>0.0042599138</td><td>gmo</td><td>106569</td><td>105114161</td><td>tqtszm.site</td><td>auc_seg_rf</td><td>l10_seg2_rf</td><td>l10_agg_glm</td></tr>\n",
       "\t<tr><th scope=row>6</th><td>sitegmo</td><td>Not Renewd</td><td>0.063116514</td><td>0.073</td><td>0.089</td><td>0.022211532</td><td>0.019650927</td><td>0.0496194658</td><td>gmo</td><td>106569</td><td> 97429969</td><td>avbenc.site</td><td>auc_seg_rf</td><td>l10_seg2_rf</td><td>l10_agg_glm</td></tr>\n",
       "</tbody>\n",
       "</table>\n"
      ],
      "text/latex": [
       "A data.frame: 6 × 15\n",
       "\\begin{tabular}{r|lllllllllllllll}\n",
       "  & tld\\_registrar\\_index & actual & pred\\_df\\_seg2\\_glm & pred\\_df\\_seg\\_glm & pred\\_df\\_agg\\_glm & pred\\_df\\_seg2\\_rf & pred\\_df\\_seg\\_rf & pred\\_df\\_agg\\_rf & reseller & n & domain\\_id & domain & auc\\_win & l10\\_win & pred\\_l10win\\\\\n",
       "  & <fct> & <fct> & <dbl> & <dbl> & <dbl> & <dbl> & <dbl> & <dbl> & <fct> & <int> & <int> & <fct> & <fct> & <fct> & <chr>\\\\\n",
       "\\hline\n",
       "\t1 & sitegmo & Not Renewd & 0.007010644 & 0.006 & 0.000 & 0.012973132 & 0.005583303 & 0.0076133783 & gmo & 106569 & 105125506 & igguub.site & auc\\_seg\\_rf & l10\\_seg2\\_rf & l10\\_agg\\_glm\\\\\n",
       "\t2 & sitegmo & Not Renewd & 0.017977875 & 0.020 & 0.016 & 0.001263600 & 0.001205006 & 0.0002808805 & gmo & 106569 & 103854676 & iuofhn.site & auc\\_seg\\_rf & l10\\_seg2\\_rf & l10\\_agg\\_glm\\\\\n",
       "\t3 & sitegmo & Not Renewd & 0.004407615 & 0.004 & 0.000 & 0.007525737 & 0.004575360 & 0.0064641536 & gmo & 106569 & 105192206 & zanozz.site & auc\\_seg\\_rf & l10\\_seg2\\_rf & l10\\_agg\\_glm\\\\\n",
       "\t4 & sitegmo & Not Renewd & 0.006998380 & 0.006 & 0.000 & 0.011422635 & 0.004519164 & 0.0056738281 & gmo & 106569 & 105102351 & fxynor.site & auc\\_seg\\_rf & l10\\_seg2\\_rf & l10\\_agg\\_glm\\\\\n",
       "\t5 & sitegmo & Not Renewd & 0.006769366 & 0.006 & 0.000 & 0.008389888 & 0.004467357 & 0.0042599138 & gmo & 106569 & 105114161 & tqtszm.site & auc\\_seg\\_rf & l10\\_seg2\\_rf & l10\\_agg\\_glm\\\\\n",
       "\t6 & sitegmo & Not Renewd & 0.063116514 & 0.073 & 0.089 & 0.022211532 & 0.019650927 & 0.0496194658 & gmo & 106569 &  97429969 & avbenc.site & auc\\_seg\\_rf & l10\\_seg2\\_rf & l10\\_agg\\_glm\\\\\n",
       "\\end{tabular}\n"
      ],
      "text/markdown": [
       "\n",
       "A data.frame: 6 × 15\n",
       "\n",
       "| <!--/--> | tld_registrar_index &lt;fct&gt; | actual &lt;fct&gt; | pred_df_seg2_glm &lt;dbl&gt; | pred_df_seg_glm &lt;dbl&gt; | pred_df_agg_glm &lt;dbl&gt; | pred_df_seg2_rf &lt;dbl&gt; | pred_df_seg_rf &lt;dbl&gt; | pred_df_agg_rf &lt;dbl&gt; | reseller &lt;fct&gt; | n &lt;int&gt; | domain_id &lt;int&gt; | domain &lt;fct&gt; | auc_win &lt;fct&gt; | l10_win &lt;fct&gt; | pred_l10win &lt;chr&gt; |\n",
       "|---|---|---|---|---|---|---|---|---|---|---|---|---|---|---|---|\n",
       "| 1 | sitegmo | Not Renewd | 0.007010644 | 0.006 | 0.000 | 0.012973132 | 0.005583303 | 0.0076133783 | gmo | 106569 | 105125506 | igguub.site | auc_seg_rf | l10_seg2_rf | l10_agg_glm |\n",
       "| 2 | sitegmo | Not Renewd | 0.017977875 | 0.020 | 0.016 | 0.001263600 | 0.001205006 | 0.0002808805 | gmo | 106569 | 103854676 | iuofhn.site | auc_seg_rf | l10_seg2_rf | l10_agg_glm |\n",
       "| 3 | sitegmo | Not Renewd | 0.004407615 | 0.004 | 0.000 | 0.007525737 | 0.004575360 | 0.0064641536 | gmo | 106569 | 105192206 | zanozz.site | auc_seg_rf | l10_seg2_rf | l10_agg_glm |\n",
       "| 4 | sitegmo | Not Renewd | 0.006998380 | 0.006 | 0.000 | 0.011422635 | 0.004519164 | 0.0056738281 | gmo | 106569 | 105102351 | fxynor.site | auc_seg_rf | l10_seg2_rf | l10_agg_glm |\n",
       "| 5 | sitegmo | Not Renewd | 0.006769366 | 0.006 | 0.000 | 0.008389888 | 0.004467357 | 0.0042599138 | gmo | 106569 | 105114161 | tqtszm.site | auc_seg_rf | l10_seg2_rf | l10_agg_glm |\n",
       "| 6 | sitegmo | Not Renewd | 0.063116514 | 0.073 | 0.089 | 0.022211532 | 0.019650927 | 0.0496194658 | gmo | 106569 |  97429969 | avbenc.site | auc_seg_rf | l10_seg2_rf | l10_agg_glm |\n",
       "\n"
      ],
      "text/plain": [
       "  tld_registrar_index actual     pred_df_seg2_glm pred_df_seg_glm\n",
       "1 sitegmo             Not Renewd 0.007010644      0.006          \n",
       "2 sitegmo             Not Renewd 0.017977875      0.020          \n",
       "3 sitegmo             Not Renewd 0.004407615      0.004          \n",
       "4 sitegmo             Not Renewd 0.006998380      0.006          \n",
       "5 sitegmo             Not Renewd 0.006769366      0.006          \n",
       "6 sitegmo             Not Renewd 0.063116514      0.073          \n",
       "  pred_df_agg_glm pred_df_seg2_rf pred_df_seg_rf pred_df_agg_rf reseller n     \n",
       "1 0.000           0.012973132     0.005583303    0.0076133783   gmo      106569\n",
       "2 0.016           0.001263600     0.001205006    0.0002808805   gmo      106569\n",
       "3 0.000           0.007525737     0.004575360    0.0064641536   gmo      106569\n",
       "4 0.000           0.011422635     0.004519164    0.0056738281   gmo      106569\n",
       "5 0.000           0.008389888     0.004467357    0.0042599138   gmo      106569\n",
       "6 0.089           0.022211532     0.019650927    0.0496194658   gmo      106569\n",
       "  domain_id domain      auc_win    l10_win     pred_l10win\n",
       "1 105125506 igguub.site auc_seg_rf l10_seg2_rf l10_agg_glm\n",
       "2 103854676 iuofhn.site auc_seg_rf l10_seg2_rf l10_agg_glm\n",
       "3 105192206 zanozz.site auc_seg_rf l10_seg2_rf l10_agg_glm\n",
       "4 105102351 fxynor.site auc_seg_rf l10_seg2_rf l10_agg_glm\n",
       "5 105114161 tqtszm.site auc_seg_rf l10_seg2_rf l10_agg_glm\n",
       "6  97429969 avbenc.site auc_seg_rf l10_seg2_rf l10_agg_glm"
      ]
     },
     "metadata": {},
     "output_type": "display_data"
    }
   ],
   "source": [
    "pred_assigned_df <- merge(predictions_df,pred_df_lookup, by.x='tld_registrar_index', by.y='tld_reseller', all=TRUE)\n",
    "dim(predictions_df)\n",
    "dim(pred_assigned_df)\n",
    "head(pred_assigned_df %>% filter(tld_registrar_index=='sitegmo'))"
   ]
  },
  {
   "cell_type": "markdown",
   "metadata": {},
   "source": [
    "### calculate overall metrics based on assigned model"
   ]
  },
  {
   "cell_type": "code",
   "execution_count": 113,
   "metadata": {},
   "outputs": [
    {
     "data": {
      "text/html": [
       "<style>\n",
       ".list-inline {list-style: none; margin:0; padding: 0}\n",
       ".list-inline>li {display: inline-block}\n",
       ".list-inline>li:not(:last-child)::after {content: \"\\00b7\"; padding: 0 .5ex}\n",
       "</style>\n",
       "<ol class=list-inline><li>212</li><li>4</li></ol>\n"
      ],
      "text/latex": [
       "\\begin{enumerate*}\n",
       "\\item 212\n",
       "\\item 4\n",
       "\\end{enumerate*}\n"
      ],
      "text/markdown": [
       "1. 212\n",
       "2. 4\n",
       "\n",
       "\n"
      ],
      "text/plain": [
       "[1] 212   4"
      ]
     },
     "metadata": {},
     "output_type": "display_data"
    },
    {
     "data": {
      "text/html": [
       "<style>\n",
       ".list-inline {list-style: none; margin:0; padding: 0}\n",
       ".list-inline>li {display: inline-block}\n",
       ".list-inline>li:not(:last-child)::after {content: \"\\00b7\"; padding: 0 .5ex}\n",
       "</style>\n",
       "<ol class=list-inline><li>297100</li><li>12</li></ol>\n"
      ],
      "text/latex": [
       "\\begin{enumerate*}\n",
       "\\item 297100\n",
       "\\item 12\n",
       "\\end{enumerate*}\n"
      ],
      "text/markdown": [
       "1. 297100\n",
       "2. 12\n",
       "\n",
       "\n"
      ],
      "text/plain": [
       "[1] 297100     12"
      ]
     },
     "metadata": {},
     "output_type": "display_data"
    },
    {
     "data": {
      "text/html": [
       "<style>\n",
       ".list-inline {list-style: none; margin:0; padding: 0}\n",
       ".list-inline>li {display: inline-block}\n",
       ".list-inline>li:not(:last-child)::after {content: \"\\00b7\"; padding: 0 .5ex}\n",
       "</style>\n",
       "<ol class=list-inline><li>297100</li><li>15</li></ol>\n"
      ],
      "text/latex": [
       "\\begin{enumerate*}\n",
       "\\item 297100\n",
       "\\item 15\n",
       "\\end{enumerate*}\n"
      ],
      "text/markdown": [
       "1. 297100\n",
       "2. 15\n",
       "\n",
       "\n"
      ],
      "text/plain": [
       "[1] 297100     15"
      ]
     },
     "metadata": {},
     "output_type": "display_data"
    },
    {
     "data": {
      "text/html": [
       "<style>\n",
       ".list-inline {list-style: none; margin:0; padding: 0}\n",
       ".list-inline>li {display: inline-block}\n",
       ".list-inline>li:not(:last-child)::after {content: \"\\00b7\"; padding: 0 .5ex}\n",
       "</style>\n",
       "<ol class=list-inline><li>296797</li><li>39</li></ol>\n"
      ],
      "text/latex": [
       "\\begin{enumerate*}\n",
       "\\item 296797\n",
       "\\item 39\n",
       "\\end{enumerate*}\n"
      ],
      "text/markdown": [
       "1. 296797\n",
       "2. 39\n",
       "\n",
       "\n"
      ],
      "text/plain": [
       "[1] 296797     39"
      ]
     },
     "metadata": {},
     "output_type": "display_data"
    }
   ],
   "source": [
    "dim(pred_df_lookup)\n",
    "dim(predictions_df)\n",
    "dim(pred_assigned_df)\n",
    "dim(expiry_test_df_1)"
   ]
  },
  {
   "cell_type": "code",
   "execution_count": 137,
   "metadata": {},
   "outputs": [
    {
     "data": {
      "text/html": [
       "<table>\n",
       "<caption>A data.frame: 6 × 17</caption>\n",
       "<thead>\n",
       "\t<tr><th></th><th scope=col>tld_registrar_index</th><th scope=col>actual</th><th scope=col>l10_seg2_glm</th><th scope=col>l10_seg_glm</th><th scope=col>l10_agg_glm</th><th scope=col>l10_seg2_rf</th><th scope=col>l10_seg_rf</th><th scope=col>l10_agg_rf</th><th scope=col>reseller</th><th scope=col>n</th><th scope=col>domain_id</th><th scope=col>domain</th><th scope=col>auc_win</th><th scope=col>l10_win</th><th scope=col>pred_l10win</th><th scope=col>pred_assigned</th><th scope=col>none</th></tr>\n",
       "\t<tr><th></th><th scope=col>&lt;fct&gt;</th><th scope=col>&lt;fct&gt;</th><th scope=col>&lt;dbl&gt;</th><th scope=col>&lt;dbl&gt;</th><th scope=col>&lt;dbl&gt;</th><th scope=col>&lt;dbl&gt;</th><th scope=col>&lt;dbl&gt;</th><th scope=col>&lt;dbl&gt;</th><th scope=col>&lt;fct&gt;</th><th scope=col>&lt;int&gt;</th><th scope=col>&lt;int&gt;</th><th scope=col>&lt;fct&gt;</th><th scope=col>&lt;fct&gt;</th><th scope=col>&lt;fct&gt;</th><th scope=col>&lt;chr&gt;</th><th scope=col>&lt;dbl&gt;</th><th scope=col>&lt;lgl&gt;</th></tr>\n",
       "</thead>\n",
       "<tbody>\n",
       "\t<tr><th scope=row>1</th><td><span style=white-space:pre-wrap>fun1&amp;1 internet    </span></td><td><span style=white-space:pre-wrap>Renewed   </span></td><td>0.8459141</td><td>0.802</td><td>0.371</td><td>0.7125206</td><td>0.6801492</td><td>0.6402113</td><td><span style=white-space:pre-wrap>1&amp;1 internet    </span></td><td>19</td><td> 91639803</td><td><span style=white-space:pre-wrap>segeln.fun   </span></td><td>NA</td><td>NA</td><td>none</td><td>0.8459141</td><td>NA</td></tr>\n",
       "\t<tr><th scope=row>2</th><td><span style=white-space:pre-wrap>fun1&amp;1 internet    </span></td><td><span style=white-space:pre-wrap>Renewed   </span></td><td>0.4607455</td><td>0.785</td><td>0.360</td><td>0.7248957</td><td>0.6428311</td><td>0.5817404</td><td><span style=white-space:pre-wrap>1&amp;1 internet    </span></td><td>19</td><td> 95819759</td><td>harzhotel.fun</td><td>NA</td><td>NA</td><td>none</td><td>0.4607455</td><td>NA</td></tr>\n",
       "\t<tr><th scope=row>3</th><td>fun10dencehispahard</td><td>Not Renewd</td><td>       NA</td><td>0.000</td><td>0.123</td><td>0.0000000</td><td>0.3462084</td><td>0.4382183</td><td>10dencehispahard</td><td> 1</td><td> 91044973</td><td>movistar.fun </td><td>NA</td><td>NA</td><td>none</td><td>       NA</td><td>NA</td></tr>\n",
       "\t<tr><th scope=row>4</th><td>fun10dencehispahard</td><td>Not Renewd</td><td>       NA</td><td>0.000</td><td>0.120</td><td>0.0000000</td><td>0.3169892</td><td>0.2664795</td><td>10dencehispahard</td><td> 1</td><td> 92472913</td><td>kuinik.fun   </td><td>NA</td><td>NA</td><td>none</td><td>       NA</td><td>NA</td></tr>\n",
       "\t<tr><th scope=row>5</th><td>fun1api            </td><td>Renewed   </td><td>0.9999971</td><td>0.842</td><td>0.326</td><td>0.8320000</td><td>0.8486598</td><td>0.7788035</td><td>1api            </td><td> 6</td><td> 91532433</td><td>bulgari.fun  </td><td>NA</td><td>NA</td><td>none</td><td>0.9999971</td><td>NA</td></tr>\n",
       "\t<tr><th scope=row>6</th><td>fun1api            </td><td>Not Renewd</td><td>0.9999992</td><td>0.843</td><td>0.330</td><td>0.8320000</td><td>0.8421671</td><td>0.8345259</td><td>1api            </td><td> 6</td><td>101717674</td><td>gotsome.fun  </td><td>NA</td><td>NA</td><td>none</td><td>0.9999992</td><td>NA</td></tr>\n",
       "</tbody>\n",
       "</table>\n"
      ],
      "text/latex": [
       "A data.frame: 6 × 17\n",
       "\\begin{tabular}{r|lllllllllllllllll}\n",
       "  & tld\\_registrar\\_index & actual & l10\\_seg2\\_glm & l10\\_seg\\_glm & l10\\_agg\\_glm & l10\\_seg2\\_rf & l10\\_seg\\_rf & l10\\_agg\\_rf & reseller & n & domain\\_id & domain & auc\\_win & l10\\_win & pred\\_l10win & pred\\_assigned & none\\\\\n",
       "  & <fct> & <fct> & <dbl> & <dbl> & <dbl> & <dbl> & <dbl> & <dbl> & <fct> & <int> & <int> & <fct> & <fct> & <fct> & <chr> & <dbl> & <lgl>\\\\\n",
       "\\hline\n",
       "\t1 & fun1\\&1 internet     & Renewed    & 0.8459141 & 0.802 & 0.371 & 0.7125206 & 0.6801492 & 0.6402113 & 1\\&1 internet     & 19 &  91639803 & segeln.fun    & NA & NA & none & 0.8459141 & NA\\\\\n",
       "\t2 & fun1\\&1 internet     & Renewed    & 0.4607455 & 0.785 & 0.360 & 0.7248957 & 0.6428311 & 0.5817404 & 1\\&1 internet     & 19 &  95819759 & harzhotel.fun & NA & NA & none & 0.4607455 & NA\\\\\n",
       "\t3 & fun10dencehispahard & Not Renewd &        NA & 0.000 & 0.123 & 0.0000000 & 0.3462084 & 0.4382183 & 10dencehispahard &  1 &  91044973 & movistar.fun  & NA & NA & none &        NA & NA\\\\\n",
       "\t4 & fun10dencehispahard & Not Renewd &        NA & 0.000 & 0.120 & 0.0000000 & 0.3169892 & 0.2664795 & 10dencehispahard &  1 &  92472913 & kuinik.fun    & NA & NA & none &        NA & NA\\\\\n",
       "\t5 & fun1api             & Renewed    & 0.9999971 & 0.842 & 0.326 & 0.8320000 & 0.8486598 & 0.7788035 & 1api             &  6 &  91532433 & bulgari.fun   & NA & NA & none & 0.9999971 & NA\\\\\n",
       "\t6 & fun1api             & Not Renewd & 0.9999992 & 0.843 & 0.330 & 0.8320000 & 0.8421671 & 0.8345259 & 1api             &  6 & 101717674 & gotsome.fun   & NA & NA & none & 0.9999992 & NA\\\\\n",
       "\\end{tabular}\n"
      ],
      "text/markdown": [
       "\n",
       "A data.frame: 6 × 17\n",
       "\n",
       "| <!--/--> | tld_registrar_index &lt;fct&gt; | actual &lt;fct&gt; | l10_seg2_glm &lt;dbl&gt; | l10_seg_glm &lt;dbl&gt; | l10_agg_glm &lt;dbl&gt; | l10_seg2_rf &lt;dbl&gt; | l10_seg_rf &lt;dbl&gt; | l10_agg_rf &lt;dbl&gt; | reseller &lt;fct&gt; | n &lt;int&gt; | domain_id &lt;int&gt; | domain &lt;fct&gt; | auc_win &lt;fct&gt; | l10_win &lt;fct&gt; | pred_l10win &lt;chr&gt; | pred_assigned &lt;dbl&gt; | none &lt;lgl&gt; |\n",
       "|---|---|---|---|---|---|---|---|---|---|---|---|---|---|---|---|---|---|\n",
       "| 1 | fun1&amp;1 internet     | Renewed    | 0.8459141 | 0.802 | 0.371 | 0.7125206 | 0.6801492 | 0.6402113 | 1&amp;1 internet     | 19 |  91639803 | segeln.fun    | NA | NA | none | 0.8459141 | NA |\n",
       "| 2 | fun1&amp;1 internet     | Renewed    | 0.4607455 | 0.785 | 0.360 | 0.7248957 | 0.6428311 | 0.5817404 | 1&amp;1 internet     | 19 |  95819759 | harzhotel.fun | NA | NA | none | 0.4607455 | NA |\n",
       "| 3 | fun10dencehispahard | Not Renewd |        NA | 0.000 | 0.123 | 0.0000000 | 0.3462084 | 0.4382183 | 10dencehispahard |  1 |  91044973 | movistar.fun  | NA | NA | none |        NA | NA |\n",
       "| 4 | fun10dencehispahard | Not Renewd |        NA | 0.000 | 0.120 | 0.0000000 | 0.3169892 | 0.2664795 | 10dencehispahard |  1 |  92472913 | kuinik.fun    | NA | NA | none |        NA | NA |\n",
       "| 5 | fun1api             | Renewed    | 0.9999971 | 0.842 | 0.326 | 0.8320000 | 0.8486598 | 0.7788035 | 1api             |  6 |  91532433 | bulgari.fun   | NA | NA | none | 0.9999971 | NA |\n",
       "| 6 | fun1api             | Not Renewd | 0.9999992 | 0.843 | 0.330 | 0.8320000 | 0.8421671 | 0.8345259 | 1api             |  6 | 101717674 | gotsome.fun   | NA | NA | none | 0.9999992 | NA |\n",
       "\n"
      ],
      "text/plain": [
       "  tld_registrar_index actual     l10_seg2_glm l10_seg_glm l10_agg_glm\n",
       "1 fun1&1 internet     Renewed    0.8459141    0.802       0.371      \n",
       "2 fun1&1 internet     Renewed    0.4607455    0.785       0.360      \n",
       "3 fun10dencehispahard Not Renewd        NA    0.000       0.123      \n",
       "4 fun10dencehispahard Not Renewd        NA    0.000       0.120      \n",
       "5 fun1api             Renewed    0.9999971    0.842       0.326      \n",
       "6 fun1api             Not Renewd 0.9999992    0.843       0.330      \n",
       "  l10_seg2_rf l10_seg_rf l10_agg_rf reseller         n  domain_id domain       \n",
       "1 0.7125206   0.6801492  0.6402113  1&1 internet     19  91639803 segeln.fun   \n",
       "2 0.7248957   0.6428311  0.5817404  1&1 internet     19  95819759 harzhotel.fun\n",
       "3 0.0000000   0.3462084  0.4382183  10dencehispahard  1  91044973 movistar.fun \n",
       "4 0.0000000   0.3169892  0.2664795  10dencehispahard  1  92472913 kuinik.fun   \n",
       "5 0.8320000   0.8486598  0.7788035  1api              6  91532433 bulgari.fun  \n",
       "6 0.8320000   0.8421671  0.8345259  1api              6 101717674 gotsome.fun  \n",
       "  auc_win l10_win pred_l10win pred_assigned none\n",
       "1 NA      NA      none        0.8459141     NA  \n",
       "2 NA      NA      none        0.4607455     NA  \n",
       "3 NA      NA      none               NA     NA  \n",
       "4 NA      NA      none               NA     NA  \n",
       "5 NA      NA      none        0.9999971     NA  \n",
       "6 NA      NA      none        0.9999992     NA  "
      ]
     },
     "metadata": {},
     "output_type": "display_data"
    }
   ],
   "source": [
    "# rename columns to correspond with pred_l10win values\n",
    "names(pred_assigned_df) <- c('tld_registrar_index','actual',\n",
    "                             'l10_seg2_glm',    'l10_seg_glm',    'l10_agg_glm',    'l10_seg2_rf',    'l10_seg_rf',    'l10_agg_rf',\n",
    "#                              'pred_df_seg2_glm','pred_df_seg_glm','pred_df_agg_glm','pred_df_seg2_rf','pred_df_seg_rf','pred_df_agg_rf',\n",
    "                             'reseller','n','domain_id','domain','auc_win','l10_win','pred_l10win','pred_assigned')\n",
    "# replace na values in pred_10win, create a fill column for those missing/\"none\" values\n",
    "pred_assigned_df <- pred_assigned_df %>%\n",
    "  mutate_at(vars(pred_l10win), ~replace_na(., \"none\"))\n",
    "pred_assigned_df$none <- NA\n",
    "head(pred_assigned_df)"
   ]
  },
  {
   "cell_type": "code",
   "execution_count": 142,
   "metadata": {},
   "outputs": [
    {
     "ename": "ERROR",
     "evalue": "Error in .subset2(x, ..2, exact = exact): recursive indexing failed at level 2\n\n",
     "output_type": "error",
     "traceback": [
      "Error in .subset2(x, ..2, exact = exact): recursive indexing failed at level 2\n\nTraceback:\n",
      "1. pred_assigned_df[[, pred_assigned_df[[\"pred_l10win\"]]]]",
      "2. `[[.data.frame`(pred_assigned_df, , pred_assigned_df[[\"pred_l10win\"]])"
     ]
    }
   ],
   "source": [
    "# pull value from pred_assigned from column specified in pred_l10win\n",
    "# pred_assigned_df$pred_assigned <- \n",
    "x <- pred_assigned_df[[,pred_assigned_df[['pred_l10win']]]]\n",
    "head(x)"
   ]
  },
  {
   "cell_type": "code",
   "execution_count": 140,
   "metadata": {},
   "outputs": [
    {
     "data": {
      "text/html": [
       "<style>\n",
       ".list-inline {list-style: none; margin:0; padding: 0}\n",
       ".list-inline>li {display: inline-block}\n",
       ".list-inline>li:not(:last-child)::after {content: \"\\00b7\"; padding: 0 .5ex}\n",
       "</style>\n",
       "<ol class=list-inline><li>297100</li><li>297100</li></ol>\n"
      ],
      "text/latex": [
       "\\begin{enumerate*}\n",
       "\\item 297100\n",
       "\\item 297100\n",
       "\\end{enumerate*}\n"
      ],
      "text/markdown": [
       "1. 297100\n",
       "2. 297100\n",
       "\n",
       "\n"
      ],
      "text/plain": [
       "[1] 297100 297100"
      ]
     },
     "metadata": {},
     "output_type": "display_data"
    }
   ],
   "source": [
    "dim(x)"
   ]
  },
  {
   "cell_type": "code",
   "execution_count": 141,
   "metadata": {},
   "outputs": [
    {
     "data": {
      "text/html": [
       "297100"
      ],
      "text/latex": [
       "297100"
      ],
      "text/markdown": [
       "297100"
      ],
      "text/plain": [
       "[1] 297100"
      ]
     },
     "metadata": {},
     "output_type": "display_data"
    }
   ],
   "source": [
    "length(x)"
   ]
  },
  {
   "cell_type": "code",
   "execution_count": 125,
   "metadata": {},
   "outputs": [],
   "source": [
    "# need to select one of pred_df_seg2_glm\tpred_df_seg_glm\tpred_df_agg_glm\tpred_df_seg2_rf\tpred_df_seg_rf\tpred_df_agg_rf \n",
    "# based on entry in pred_l10win\n",
    "lapply(pred_assigned_df, function(x) x)"
   ]
  },
  {
   "cell_type": "code",
   "execution_count": 117,
   "metadata": {},
   "outputs": [
    {
     "ename": "ERROR",
     "evalue": "Error in `[.data.frame`(pred_assigned_df, , pred_assigned_df[[\"pred_l10win\"]]): undefined columns selected\n",
     "output_type": "error",
     "traceback": [
      "Error in `[.data.frame`(pred_assigned_df, , pred_assigned_df[[\"pred_l10win\"]]): undefined columns selected\nTraceback:\n",
      "1. pred_assigned_df[, pred_assigned_df[[\"pred_l10win\"]]]",
      "2. `[.data.frame`(pred_assigned_df, , pred_assigned_df[[\"pred_l10win\"]])",
      "3. stop(\"undefined columns selected\")"
     ]
    }
   ],
   "source": [
    "\n",
    "head(pred_assigned_df)"
   ]
  },
  {
   "cell_type": "code",
   "execution_count": null,
   "metadata": {},
   "outputs": [],
   "source": [
    "sub_df <- \n",
    "chart_lift (pred_df=sub_df,\n",
    "                        dep_var = \"actual\",\n",
    "                        pred_var = \"first_renewal_prediction\") "
   ]
  },
  {
   "cell_type": "markdown",
   "metadata": {},
   "source": [
    "# RF Binary -- seg2_glm vs agg_rf"
   ]
  },
  {
   "cell_type": "code",
   "execution_count": null,
   "metadata": {},
   "outputs": [],
   "source": []
  }
 ],
 "metadata": {
  "environment": {
   "name": "r-cpu.3-6.m48",
   "type": "gcloud",
   "uri": "gcr.io/deeplearning-platform-release/r-cpu.3-6:m48"
  },
  "kernelspec": {
   "display_name": "R",
   "language": "R",
   "name": "ir"
  },
  "language_info": {
   "codemirror_mode": "r",
   "file_extension": ".r",
   "mimetype": "text/x-r-source",
   "name": "R",
   "pygments_lexer": "r",
   "version": "3.6.3"
  }
 },
 "nbformat": 4,
 "nbformat_minor": 4
}
