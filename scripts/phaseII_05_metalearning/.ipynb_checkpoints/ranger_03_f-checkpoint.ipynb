{
 "cells": [
  {
   "cell_type": "markdown",
   "metadata": {},
   "source": [
    "# ReTrain ReTest Ranger_04 with respect.unordered.factors=TRUE\n",
    "https://win-vector.com/2016/05/30/on-ranger-respect-unordered-factors/"
   ]
  },
  {
   "cell_type": "code",
   "execution_count": 1,
   "metadata": {},
   "outputs": [
    {
     "name": "stderr",
     "output_type": "stream",
     "text": [
      "\n",
      "Attaching package: ‘dplyr’\n",
      "\n",
      "\n",
      "The following objects are masked from ‘package:stats’:\n",
      "\n",
      "    filter, lag\n",
      "\n",
      "\n",
      "The following objects are masked from ‘package:base’:\n",
      "\n",
      "    intersect, setdiff, setequal, union\n",
      "\n",
      "\n",
      "\n",
      "Attaching package: ‘data.table’\n",
      "\n",
      "\n",
      "The following objects are masked from ‘package:dplyr’:\n",
      "\n",
      "    between, first, last\n",
      "\n",
      "\n",
      "Loading required package: grid\n",
      "\n",
      "Loading required package: libcoin\n",
      "\n",
      "Loading required package: mvtnorm\n",
      "\n",
      "Loading required package: lattice\n",
      "\n",
      "Loading required package: ggplot2\n",
      "\n",
      "randomForest 4.6-14\n",
      "\n",
      "Type rfNews() to see new features/changes/bug fixes.\n",
      "\n",
      "\n",
      "Attaching package: ‘randomForest’\n",
      "\n",
      "\n",
      "The following object is masked from ‘package:ggplot2’:\n",
      "\n",
      "    margin\n",
      "\n",
      "\n",
      "The following object is masked from ‘package:dplyr’:\n",
      "\n",
      "    combine\n",
      "\n",
      "\n",
      "\n",
      "Attaching package: ‘ranger’\n",
      "\n",
      "\n",
      "The following object is masked from ‘package:randomForest’:\n",
      "\n",
      "    importance\n",
      "\n",
      "\n",
      "\n",
      "Attaching package: ‘plotly’\n",
      "\n",
      "\n",
      "The following object is masked from ‘package:ggplot2’:\n",
      "\n",
      "    last_plot\n",
      "\n",
      "\n",
      "The following object is masked from ‘package:stats’:\n",
      "\n",
      "    filter\n",
      "\n",
      "\n",
      "The following object is masked from ‘package:graphics’:\n",
      "\n",
      "    layout\n",
      "\n",
      "\n",
      "Loading required package: RJSONIO\n",
      "\n"
     ]
    },
    {
     "data": {
      "text/html": [
       "'/home/jupyter/local/Domains_202003/scripts/phaseII_05_moredata'"
      ],
      "text/latex": [
       "'/home/jupyter/local/Domains\\_202003/scripts/phaseII\\_05\\_moredata'"
      ],
      "text/markdown": [
       "'/home/jupyter/local/Domains_202003/scripts/phaseII_05_moredata'"
      ],
      "text/plain": [
       "[1] \"/home/jupyter/local/Domains_202003/scripts/phaseII_05_moredata\""
      ]
     },
     "metadata": {},
     "output_type": "display_data"
    }
   ],
   "source": [
    "library(dplyr)\n",
    "library(data.table)\n",
    "library(partykit)\n",
    "library(tictoc)\n",
    "library(caret)\n",
    "library(e1071)\n",
    "library(randomForest)\n",
    "library(ranger)\n",
    "\n",
    "#for 3d plotting\n",
    "library(akima)\n",
    "library(plotly)\n",
    "\n",
    "# for prep data\n",
    "library(rPython)\n",
    "library(stringr)\n",
    "library(pbapply)\n",
    "library(stringdist)\n",
    "library(data.table)\n",
    "\n",
    "getwd()"
   ]
  },
  {
   "cell_type": "code",
   "execution_count": 2,
   "metadata": {},
   "outputs": [],
   "source": [
    "\n",
    "source('../orig/functions.R')\n",
    "\n",
    "source('../orig/functions_models.R')\n",
    "\n",
    "source('../phaseII_03_forest/functions_eval.R')\n",
    "\n",
    "\n",
    "source('../phaseII_03_forest/load_prep_data_expiry.R')\n",
    "\n",
    "# expiry_train_prepped_2_1 (list, less df's w/ 0 obs)\n",
    "# expiry_test_prepped_2_1  (list, less df's w/ 0 obs)\n",
    "# expiry_train_df_1 (above, rbound)\n",
    "# expiry_test_df_1 (above, rbound)\n",
    "# expiry_train_df_sub (subset vars)                                        \n",
    "# expiry_test_df_sub (subset vars)"
   ]
  },
  {
   "cell_type": "code",
   "execution_count": 11,
   "metadata": {},
   "outputs": [],
   "source": [
    "num_trees = 1000\n",
    "train = expiry_train_df_1\n",
    "test <- expiry_test_df_1"
   ]
  },
  {
   "cell_type": "code",
   "execution_count": 12,
   "metadata": {},
   "outputs": [
    {
     "name": "stdout",
     "output_type": "stream",
     "text": [
      "\n",
      "Training & Testing remaining aggregate forest.\n",
      "Growing trees.. Progress: 7%. Estimated remaining time: 7 minutes, 40 seconds.\n",
      "Growing trees.. Progress: 13%. Estimated remaining time: 6 minutes, 54 seconds.\n",
      "Growing trees.. Progress: 20%. Estimated remaining time: 6 minutes, 18 seconds.\n",
      "Growing trees.. Progress: 27%. Estimated remaining time: 5 minutes, 42 seconds.\n",
      "Growing trees.. Progress: 34%. Estimated remaining time: 5 minutes, 7 seconds.\n",
      "Growing trees.. Progress: 41%. Estimated remaining time: 4 minutes, 31 seconds.\n",
      "Growing trees.. Progress: 48%. Estimated remaining time: 3 minutes, 59 seconds.\n",
      "Growing trees.. Progress: 54%. Estimated remaining time: 3 minutes, 30 seconds.\n",
      "Growing trees.. Progress: 61%. Estimated remaining time: 2 minutes, 58 seconds.\n",
      "Growing trees.. Progress: 68%. Estimated remaining time: 2 minutes, 25 seconds.\n",
      "Growing trees.. Progress: 76%. Estimated remaining time: 1 minute, 51 seconds.\n",
      "Growing trees.. Progress: 83%. Estimated remaining time: 1 minute, 18 seconds.\n",
      "Growing trees.. Progress: 90%. Estimated remaining time: 46 seconds.\n",
      "Growing trees.. Progress: 97%. Estimated remaining time: 13 seconds.\n"
     ]
    }
   ],
   "source": [
    "cat(\"\\nTraining & Testing remaining aggregate forest.\\n\")\n",
    "\n",
    "ranger_03_expiry2_f <- ranger( formula         = renewal_status ~ \n",
    "                             tld + reseller + reseller_country + \n",
    "                             region + reg_period + sld_type + sld_length + day_domains + \n",
    "                             gibb_score + pattern_domain_count + reg_arpt,\n",
    "                             data            = train, \n",
    "                             importance      = 'impurity', \n",
    "                             num.trees       = num_trees,\n",
    "                             probability     = TRUE,\n",
    "                            #     mtry            = 3,\n",
    "                            #     min.node.size   = 10,\n",
    "                            #     replace         = FALSE,\n",
    "                            #     sample.fraction = .8,\n",
    "                             seed            = 123,\n",
    "                             respect.unordered.factors=TRUE\n",
    ")\n",
    "\n",
    "predict_ranger_03_expiry2_f <- predict(ranger_03_expiry2_f, \n",
    "                                 data = test,\n",
    "                                 type=\"response\")$predictions\n",
    "\n",
    "predict_ranger_03_expiry2_f <- as.data.frame(predict_ranger_03_expiry2_f)$Renewed"
   ]
  },
  {
   "cell_type": "code",
   "execution_count": null,
   "metadata": {},
   "outputs": [],
   "source": [
    "test$first_renewal_prediction <- predict_ranger_03_expiry2_f\n",
    "\n",
    "df = data.frame(\"actual\" = test$renewal_status,\n",
    "          \"predicted\" = test$first_renewal_prediction)\n",
    "\n",
    "lift_df <- chart_lift(pred_df = df,\n",
    "                        dep_var = \"actual\",\n",
    "                        pred_var = \"predicted\")\n",
    "\n",
    "gains_plot <- plot_gains (lift_df) \n",
    "\n",
    "auc_val <- calc_auc(lift_df)"
   ]
  },
  {
   "cell_type": "code",
   "execution_count": null,
   "metadata": {},
   "outputs": [],
   "source": [
    "save(ranger_03_expiry2_f, file=\"../../data/output/ranger_03_expiry2_f\")\n",
    "save(predict_ranger_03_expiry2_f, file=\"../../data/output/predict_ranger_03_expiry2_f\")\n",
    "\n",
    "# system(\"gsutil cp /home/jupyter/local/Domains_202003/data/output/* gs://data_outputt/output/\")\n",
    "# system(\"mv /home/jupyter/local/Domains_202003/data/output/* /home/jupyter/local/Domains_202003/data/\")"
   ]
  }
 ],
 "metadata": {
  "environment": {
   "name": "r-cpu.3-6.m48",
   "type": "gcloud",
   "uri": "gcr.io/deeplearning-platform-release/r-cpu.3-6:m48"
  },
  "kernelspec": {
   "display_name": "R",
   "language": "R",
   "name": "ir"
  },
  "language_info": {
   "codemirror_mode": "r",
   "file_extension": ".r",
   "mimetype": "text/x-r-source",
   "name": "R",
   "pygments_lexer": "r",
   "version": "3.6.3"
  }
 },
 "nbformat": 4,
 "nbformat_minor": 4
}
