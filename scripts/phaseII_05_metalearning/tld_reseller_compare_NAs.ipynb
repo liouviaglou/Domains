{
 "cells": [
  {
   "cell_type": "markdown",
   "metadata": {},
   "source": [
    "# INVESTIGATE NAs as outputs in tld_reseller model performance comparison "
   ]
  },
  {
   "cell_type": "code",
   "execution_count": 1,
   "metadata": {},
   "outputs": [],
   "source": [
    "options(repr.matrix.max.cols=50, repr.matrix.max.rows=100)"
   ]
  },
  {
   "cell_type": "code",
   "execution_count": 2,
   "metadata": {},
   "outputs": [],
   "source": [
    "# install.packages(\"pkgcond\")"
   ]
  },
  {
   "cell_type": "code",
   "execution_count": 3,
   "metadata": {},
   "outputs": [
    {
     "name": "stderr",
     "output_type": "stream",
     "text": [
      "\n",
      "Attaching package: ‘dplyr’\n",
      "\n",
      "\n",
      "The following objects are masked from ‘package:stats’:\n",
      "\n",
      "    filter, lag\n",
      "\n",
      "\n",
      "The following objects are masked from ‘package:base’:\n",
      "\n",
      "    intersect, setdiff, setequal, union\n",
      "\n",
      "\n",
      "\n",
      "Attaching package: ‘data.table’\n",
      "\n",
      "\n",
      "The following objects are masked from ‘package:dplyr’:\n",
      "\n",
      "    between, first, last\n",
      "\n",
      "\n",
      "Loading required package: grid\n",
      "\n",
      "Loading required package: libcoin\n",
      "\n",
      "Loading required package: mvtnorm\n",
      "\n",
      "Loading required package: lattice\n",
      "\n",
      "Loading required package: ggplot2\n",
      "\n",
      "randomForest 4.6-14\n",
      "\n",
      "Type rfNews() to see new features/changes/bug fixes.\n",
      "\n",
      "\n",
      "Attaching package: ‘randomForest’\n",
      "\n",
      "\n",
      "The following object is masked from ‘package:ggplot2’:\n",
      "\n",
      "    margin\n",
      "\n",
      "\n",
      "The following object is masked from ‘package:dplyr’:\n",
      "\n",
      "    combine\n",
      "\n",
      "\n",
      "\n",
      "Attaching package: ‘ranger’\n",
      "\n",
      "\n",
      "The following object is masked from ‘package:randomForest’:\n",
      "\n",
      "    importance\n",
      "\n",
      "\n",
      "\n",
      "Attaching package: ‘plotly’\n",
      "\n",
      "\n",
      "The following object is masked from ‘package:ggplot2’:\n",
      "\n",
      "    last_plot\n",
      "\n",
      "\n",
      "The following object is masked from ‘package:stats’:\n",
      "\n",
      "    filter\n",
      "\n",
      "\n",
      "The following object is masked from ‘package:graphics’:\n",
      "\n",
      "    layout\n",
      "\n",
      "\n",
      "Loading required package: RJSONIO\n",
      "\n"
     ]
    },
    {
     "data": {
      "text/html": [
       "'/home/jupyter/local/Domains_202003/scripts/phaseII_05_metalearning'"
      ],
      "text/latex": [
       "'/home/jupyter/local/Domains\\_202003/scripts/phaseII\\_05\\_metalearning'"
      ],
      "text/markdown": [
       "'/home/jupyter/local/Domains_202003/scripts/phaseII_05_metalearning'"
      ],
      "text/plain": [
       "[1] \"/home/jupyter/local/Domains_202003/scripts/phaseII_05_metalearning\""
      ]
     },
     "metadata": {},
     "output_type": "display_data"
    }
   ],
   "source": [
    "library(dplyr)\n",
    "library(data.table)\n",
    "library(partykit)\n",
    "library(tictoc)\n",
    "library(caret)\n",
    "library(e1071)\n",
    "library(randomForest)\n",
    "library(ranger)\n",
    "\n",
    "#for 3d plotting\n",
    "library(akima)\n",
    "library(plotly)\n",
    "\n",
    "# for prep data\n",
    "library(rPython)\n",
    "library(stringr)\n",
    "library(pbapply)\n",
    "library(stringdist)\n",
    "library(data.table)\n",
    "library(dominanceanalysis)\n",
    "\n",
    "\n",
    "getwd()"
   ]
  },
  {
   "cell_type": "code",
   "execution_count": 4,
   "metadata": {},
   "outputs": [],
   "source": [
    "\n",
    "source('../orig/functions.R')\n",
    "\n",
    "source('../orig/functions_models.R')\n",
    "\n",
    "source('../phaseII_03_forest/functions_eval.R')\n",
    "\n",
    "\n",
    "source('../phaseII_03_forest/load_prep_data_expiry.R')\n",
    "\n",
    "# expiry_train_prepped_2_1 (list, less df's w/ 0 obs)\n",
    "# expiry_test_prepped_2_1  (list, less df's w/ 0 obs)\n",
    "# expiry_train_df_1 (above, rbound)\n",
    "# expiry_test_df_1 (above, rbound)\n",
    "# expiry_train_df_sub (subset vars)                                        \n",
    "# expiry_test_df_sub (subset vars)"
   ]
  },
  {
   "cell_type": "markdown",
   "metadata": {},
   "source": [
    "## List tld_reseller labels"
   ]
  },
  {
   "cell_type": "code",
   "execution_count": 5,
   "metadata": {},
   "outputs": [
    {
     "data": {
      "text/html": [
       "<table>\n",
       "<caption>A grouped_df: 6 × 3</caption>\n",
       "<thead>\n",
       "\t<tr><th scope=col>tld_registrar_index</th><th scope=col>reseller</th><th scope=col>n</th></tr>\n",
       "\t<tr><th scope=col>&lt;chr&gt;</th><th scope=col>&lt;chr&gt;</th><th scope=col>&lt;int&gt;</th></tr>\n",
       "</thead>\n",
       "<tbody>\n",
       "\t<tr><td>sitegmo       </td><td>gmo      </td><td>106569</td></tr>\n",
       "\t<tr><td>funalibaba    </td><td>alibaba  </td><td> 72690</td></tr>\n",
       "\t<tr><td>sitenamecheap </td><td>namecheap</td><td> 53536</td></tr>\n",
       "\t<tr><td>pwnamecheap   </td><td>namecheap</td><td> 50470</td></tr>\n",
       "\t<tr><td>onlinego daddy</td><td>go daddy </td><td> 42162</td></tr>\n",
       "\t<tr><td>sitegandi sas </td><td>gandi sas</td><td> 35309</td></tr>\n",
       "</tbody>\n",
       "</table>\n"
      ],
      "text/latex": [
       "A grouped\\_df: 6 × 3\n",
       "\\begin{tabular}{lll}\n",
       " tld\\_registrar\\_index & reseller & n\\\\\n",
       " <chr> & <chr> & <int>\\\\\n",
       "\\hline\n",
       "\t sitegmo        & gmo       & 106569\\\\\n",
       "\t funalibaba     & alibaba   &  72690\\\\\n",
       "\t sitenamecheap  & namecheap &  53536\\\\\n",
       "\t pwnamecheap    & namecheap &  50470\\\\\n",
       "\t onlinego daddy & go daddy  &  42162\\\\\n",
       "\t sitegandi sas  & gandi sas &  35309\\\\\n",
       "\\end{tabular}\n"
      ],
      "text/markdown": [
       "\n",
       "A grouped_df: 6 × 3\n",
       "\n",
       "| tld_registrar_index &lt;chr&gt; | reseller &lt;chr&gt; | n &lt;int&gt; |\n",
       "|---|---|---|\n",
       "| sitegmo        | gmo       | 106569 |\n",
       "| funalibaba     | alibaba   |  72690 |\n",
       "| sitenamecheap  | namecheap |  53536 |\n",
       "| pwnamecheap    | namecheap |  50470 |\n",
       "| onlinego daddy | go daddy  |  42162 |\n",
       "| sitegandi sas  | gandi sas |  35309 |\n",
       "\n"
      ],
      "text/plain": [
       "  tld_registrar_index reseller  n     \n",
       "1 sitegmo             gmo       106569\n",
       "2 funalibaba          alibaba    72690\n",
       "3 sitenamecheap       namecheap  53536\n",
       "4 pwnamecheap         namecheap  50470\n",
       "5 onlinego daddy      go daddy   42162\n",
       "6 sitegandi sas       gandi sas  35309"
      ]
     },
     "metadata": {},
     "output_type": "display_data"
    }
   ],
   "source": [
    "tld_reseller_lookup_df = expiry_train_df_1 %>% group_by(tld_registrar_index, reseller) %>% tally() %>% arrange(desc(n))\n",
    "tld_reseller_lookup_df %>% head()"
   ]
  },
  {
   "cell_type": "markdown",
   "metadata": {},
   "source": [
    "## Load PREPed tld_reseller compare"
   ]
  },
  {
   "cell_type": "code",
   "execution_count": 6,
   "metadata": {},
   "outputs": [
    {
     "data": {
      "text/html": [
       "<style>\n",
       ".list-inline {list-style: none; margin:0; padding: 0}\n",
       ".list-inline>li {display: inline-block}\n",
       ".list-inline>li:not(:last-child)::after {content: \"\\00b7\"; padding: 0 .5ex}\n",
       "</style>\n",
       "<ol class=list-inline><li>297100</li><li>12</li></ol>\n"
      ],
      "text/latex": [
       "\\begin{enumerate*}\n",
       "\\item 297100\n",
       "\\item 12\n",
       "\\end{enumerate*}\n"
      ],
      "text/markdown": [
       "1. 297100\n",
       "2. 12\n",
       "\n",
       "\n"
      ],
      "text/plain": [
       "[1] 297100     12"
      ]
     },
     "metadata": {},
     "output_type": "display_data"
    },
    {
     "data": {
      "text/html": [
       "<table>\n",
       "<caption>A data.frame: 6 × 12</caption>\n",
       "<thead>\n",
       "\t<tr><th></th><th scope=col>actual</th><th scope=col>pred_df_seg2_glm</th><th scope=col>pred_df_seg_glm</th><th scope=col>pred_df_agg_glm</th><th scope=col>pred_df_seg2_rf</th><th scope=col>pred_df_seg_rf</th><th scope=col>pred_df_agg_rf</th><th scope=col>tld_registrar_index</th><th scope=col>reseller</th><th scope=col>n</th><th scope=col>domain_id</th><th scope=col>domain</th></tr>\n",
       "\t<tr><th></th><th scope=col>&lt;fct&gt;</th><th scope=col>&lt;dbl&gt;</th><th scope=col>&lt;dbl&gt;</th><th scope=col>&lt;dbl&gt;</th><th scope=col>&lt;dbl&gt;</th><th scope=col>&lt;dbl&gt;</th><th scope=col>&lt;dbl&gt;</th><th scope=col>&lt;fct&gt;</th><th scope=col>&lt;fct&gt;</th><th scope=col>&lt;int&gt;</th><th scope=col>&lt;int&gt;</th><th scope=col>&lt;fct&gt;</th></tr>\n",
       "</thead>\n",
       "<tbody>\n",
       "\t<tr><th scope=row>1</th><td>Not Renewd</td><td>0.6470992</td><td>0.558</td><td>0.419</td><td>0.4765771</td><td>0.4545657</td><td>0.5386137</td><td>sitegmo</td><td>gmo</td><td>106569</td><td>44295183</td><td>kagen.site           </td></tr>\n",
       "\t<tr><th scope=row>2</th><td>Renewed   </td><td>0.6762222</td><td>0.567</td><td>0.397</td><td>0.5410605</td><td>0.5769973</td><td>0.6091513</td><td>sitegmo</td><td>gmo</td><td>106569</td><td>44573611</td><td>designlab.site       </td></tr>\n",
       "\t<tr><th scope=row>3</th><td>Renewed   </td><td>0.9098495</td><td>0.835</td><td>0.410</td><td>0.7018108</td><td>0.6343404</td><td>0.6886680</td><td>sitegmo</td><td>gmo</td><td>106569</td><td>45304858</td><td>hokatu-blog.site     </td></tr>\n",
       "\t<tr><th scope=row>4</th><td>Renewed   </td><td>0.6029350</td><td>0.515</td><td>0.402</td><td>0.2414726</td><td>0.3999603</td><td>0.3464197</td><td>sitegmo</td><td>gmo</td><td>106569</td><td>46235129</td><td>suzuya.site          </td></tr>\n",
       "\t<tr><th scope=row>5</th><td>Not Renewd</td><td>0.9311321</td><td>0.863</td><td>0.417</td><td>0.7749462</td><td>0.7039504</td><td>0.6711740</td><td>sitegmo</td><td>gmo</td><td>106569</td><td>46276970</td><td>wins-company.site    </td></tr>\n",
       "\t<tr><th scope=row>6</th><td>Renewed   </td><td>0.9347869</td><td>0.861</td><td>0.391</td><td>0.6376848</td><td>0.6566740</td><td>0.6717237</td><td>sitegmo</td><td>gmo</td><td>106569</td><td>47809960</td><td>yamatoku-company.site</td></tr>\n",
       "</tbody>\n",
       "</table>\n"
      ],
      "text/latex": [
       "A data.frame: 6 × 12\n",
       "\\begin{tabular}{r|llllllllllll}\n",
       "  & actual & pred\\_df\\_seg2\\_glm & pred\\_df\\_seg\\_glm & pred\\_df\\_agg\\_glm & pred\\_df\\_seg2\\_rf & pred\\_df\\_seg\\_rf & pred\\_df\\_agg\\_rf & tld\\_registrar\\_index & reseller & n & domain\\_id & domain\\\\\n",
       "  & <fct> & <dbl> & <dbl> & <dbl> & <dbl> & <dbl> & <dbl> & <fct> & <fct> & <int> & <int> & <fct>\\\\\n",
       "\\hline\n",
       "\t1 & Not Renewd & 0.6470992 & 0.558 & 0.419 & 0.4765771 & 0.4545657 & 0.5386137 & sitegmo & gmo & 106569 & 44295183 & kagen.site           \\\\\n",
       "\t2 & Renewed    & 0.6762222 & 0.567 & 0.397 & 0.5410605 & 0.5769973 & 0.6091513 & sitegmo & gmo & 106569 & 44573611 & designlab.site       \\\\\n",
       "\t3 & Renewed    & 0.9098495 & 0.835 & 0.410 & 0.7018108 & 0.6343404 & 0.6886680 & sitegmo & gmo & 106569 & 45304858 & hokatu-blog.site     \\\\\n",
       "\t4 & Renewed    & 0.6029350 & 0.515 & 0.402 & 0.2414726 & 0.3999603 & 0.3464197 & sitegmo & gmo & 106569 & 46235129 & suzuya.site          \\\\\n",
       "\t5 & Not Renewd & 0.9311321 & 0.863 & 0.417 & 0.7749462 & 0.7039504 & 0.6711740 & sitegmo & gmo & 106569 & 46276970 & wins-company.site    \\\\\n",
       "\t6 & Renewed    & 0.9347869 & 0.861 & 0.391 & 0.6376848 & 0.6566740 & 0.6717237 & sitegmo & gmo & 106569 & 47809960 & yamatoku-company.site\\\\\n",
       "\\end{tabular}\n"
      ],
      "text/markdown": [
       "\n",
       "A data.frame: 6 × 12\n",
       "\n",
       "| <!--/--> | actual &lt;fct&gt; | pred_df_seg2_glm &lt;dbl&gt; | pred_df_seg_glm &lt;dbl&gt; | pred_df_agg_glm &lt;dbl&gt; | pred_df_seg2_rf &lt;dbl&gt; | pred_df_seg_rf &lt;dbl&gt; | pred_df_agg_rf &lt;dbl&gt; | tld_registrar_index &lt;fct&gt; | reseller &lt;fct&gt; | n &lt;int&gt; | domain_id &lt;int&gt; | domain &lt;fct&gt; |\n",
       "|---|---|---|---|---|---|---|---|---|---|---|---|---|\n",
       "| 1 | Not Renewd | 0.6470992 | 0.558 | 0.419 | 0.4765771 | 0.4545657 | 0.5386137 | sitegmo | gmo | 106569 | 44295183 | kagen.site            |\n",
       "| 2 | Renewed    | 0.6762222 | 0.567 | 0.397 | 0.5410605 | 0.5769973 | 0.6091513 | sitegmo | gmo | 106569 | 44573611 | designlab.site        |\n",
       "| 3 | Renewed    | 0.9098495 | 0.835 | 0.410 | 0.7018108 | 0.6343404 | 0.6886680 | sitegmo | gmo | 106569 | 45304858 | hokatu-blog.site      |\n",
       "| 4 | Renewed    | 0.6029350 | 0.515 | 0.402 | 0.2414726 | 0.3999603 | 0.3464197 | sitegmo | gmo | 106569 | 46235129 | suzuya.site           |\n",
       "| 5 | Not Renewd | 0.9311321 | 0.863 | 0.417 | 0.7749462 | 0.7039504 | 0.6711740 | sitegmo | gmo | 106569 | 46276970 | wins-company.site     |\n",
       "| 6 | Renewed    | 0.9347869 | 0.861 | 0.391 | 0.6376848 | 0.6566740 | 0.6717237 | sitegmo | gmo | 106569 | 47809960 | yamatoku-company.site |\n",
       "\n"
      ],
      "text/plain": [
       "  actual     pred_df_seg2_glm pred_df_seg_glm pred_df_agg_glm pred_df_seg2_rf\n",
       "1 Not Renewd 0.6470992        0.558           0.419           0.4765771      \n",
       "2 Renewed    0.6762222        0.567           0.397           0.5410605      \n",
       "3 Renewed    0.9098495        0.835           0.410           0.7018108      \n",
       "4 Renewed    0.6029350        0.515           0.402           0.2414726      \n",
       "5 Not Renewd 0.9311321        0.863           0.417           0.7749462      \n",
       "6 Renewed    0.9347869        0.861           0.391           0.6376848      \n",
       "  pred_df_seg_rf pred_df_agg_rf tld_registrar_index reseller n      domain_id\n",
       "1 0.4545657      0.5386137      sitegmo             gmo      106569 44295183 \n",
       "2 0.5769973      0.6091513      sitegmo             gmo      106569 44573611 \n",
       "3 0.6343404      0.6886680      sitegmo             gmo      106569 45304858 \n",
       "4 0.3999603      0.3464197      sitegmo             gmo      106569 46235129 \n",
       "5 0.7039504      0.6711740      sitegmo             gmo      106569 46276970 \n",
       "6 0.6566740      0.6717237      sitegmo             gmo      106569 47809960 \n",
       "  domain               \n",
       "1 kagen.site           \n",
       "2 designlab.site       \n",
       "3 hokatu-blog.site     \n",
       "4 suzuya.site          \n",
       "5 wins-company.site    \n",
       "6 yamatoku-company.site"
      ]
     },
     "metadata": {},
     "output_type": "display_data"
    },
    {
     "data": {
      "text/html": [
       "<style>\n",
       ".list-inline {list-style: none; margin:0; padding: 0}\n",
       ".list-inline>li {display: inline-block}\n",
       ".list-inline>li:not(:last-child)::after {content: \"\\00b7\"; padding: 0 .5ex}\n",
       "</style>\n",
       "<ol class=list-inline><li>1723</li><li>15</li></ol>\n"
      ],
      "text/latex": [
       "\\begin{enumerate*}\n",
       "\\item 1723\n",
       "\\item 15\n",
       "\\end{enumerate*}\n"
      ],
      "text/markdown": [
       "1. 1723\n",
       "2. 15\n",
       "\n",
       "\n"
      ],
      "text/plain": [
       "[1] 1723   15"
      ]
     },
     "metadata": {},
     "output_type": "display_data"
    },
    {
     "data": {
      "text/html": [
       "<table>\n",
       "<caption>A data.frame: 6 × 15</caption>\n",
       "<thead>\n",
       "\t<tr><th></th><th scope=col>tld_registrar_index</th><th scope=col>reseller</th><th scope=col>n</th><th scope=col>l10_seg2_glm</th><th scope=col>l10_seg_glm</th><th scope=col>l10_agg_glm</th><th scope=col>l10_seg2_rf</th><th scope=col>l10_seg_rf</th><th scope=col>l10_agg_rf</th><th scope=col>auc_seg2_glm</th><th scope=col>auc_seg_glm</th><th scope=col>auc_agg_glm</th><th scope=col>auc_seg2_rf</th><th scope=col>auc_seg_rf</th><th scope=col>auc_agg_rf</th></tr>\n",
       "\t<tr><th></th><th scope=col>&lt;fct&gt;</th><th scope=col>&lt;fct&gt;</th><th scope=col>&lt;int&gt;</th><th scope=col>&lt;dbl&gt;</th><th scope=col>&lt;dbl&gt;</th><th scope=col>&lt;dbl&gt;</th><th scope=col>&lt;dbl&gt;</th><th scope=col>&lt;dbl&gt;</th><th scope=col>&lt;dbl&gt;</th><th scope=col>&lt;dbl&gt;</th><th scope=col>&lt;dbl&gt;</th><th scope=col>&lt;dbl&gt;</th><th scope=col>&lt;dbl&gt;</th><th scope=col>&lt;dbl&gt;</th><th scope=col>&lt;dbl&gt;</th></tr>\n",
       "</thead>\n",
       "<tbody>\n",
       "\t<tr><th scope=row>1</th><td>sitegmo       </td><td>gmo      </td><td>106569</td><td>8.204334</td><td>8.126935</td><td>6.408669</td><td>8.777090</td><td>8.761610</td><td>8.591331</td><td>0.8958204</td><td>0.8825077</td><td>0.8729102</td><td>0.9345201</td><td>0.9348297</td><td>0.9329721</td></tr>\n",
       "\t<tr><th scope=row>2</th><td>funalibaba    </td><td>alibaba  </td><td> 72690</td><td>4.883721</td><td>5.255814</td><td>5.023256</td><td>5.813953</td><td>6.000000</td><td>6.186047</td><td>0.8262791</td><td>0.8430233</td><td>0.8518605</td><td>0.8769767</td><td>0.8779070</td><td>0.8793023</td></tr>\n",
       "\t<tr><th scope=row>3</th><td>sitenamecheap </td><td>namecheap</td><td> 53536</td><td>2.298025</td><td>1.921005</td><td>1.885099</td><td>2.280072</td><td>2.028725</td><td>2.046679</td><td>0.6862657</td><td>0.6196589</td><td>0.6338420</td><td>0.6654399</td><td>0.6792639</td><td>0.6893178</td></tr>\n",
       "\t<tr><th scope=row>4</th><td>pwnamecheap   </td><td>namecheap</td><td> 50470</td><td>3.478261</td><td>3.675889</td><td>3.675889</td><td>3.438735</td><td>4.071146</td><td>4.308300</td><td>0.7274704</td><td>0.6551383</td><td>0.6361660</td><td>0.7167984</td><td>0.7405138</td><td>0.7507905</td></tr>\n",
       "\t<tr><th scope=row>5</th><td>onlinego daddy</td><td>go daddy </td><td> 42162</td><td>2.850995</td><td>2.883271</td><td>2.474449</td><td>2.598171</td><td>2.727273</td><td>2.646584</td><td>0.6506455</td><td>0.6493007</td><td>0.6381119</td><td>0.6095481</td><td>0.6266541</td><td>0.6249328</td></tr>\n",
       "\t<tr><th scope=row>6</th><td>sitegandi sas </td><td>gandi sas</td><td> 35309</td><td>8.243243</td><td>8.445946</td><td>7.094595</td><td>4.932432</td><td>8.445946</td><td>8.581081</td><td>0.9202703</td><td>0.9195946</td><td>0.9189189</td><td>0.7162162</td><td>0.9344595</td><td>0.9358108</td></tr>\n",
       "</tbody>\n",
       "</table>\n"
      ],
      "text/latex": [
       "A data.frame: 6 × 15\n",
       "\\begin{tabular}{r|lllllllllllllll}\n",
       "  & tld\\_registrar\\_index & reseller & n & l10\\_seg2\\_glm & l10\\_seg\\_glm & l10\\_agg\\_glm & l10\\_seg2\\_rf & l10\\_seg\\_rf & l10\\_agg\\_rf & auc\\_seg2\\_glm & auc\\_seg\\_glm & auc\\_agg\\_glm & auc\\_seg2\\_rf & auc\\_seg\\_rf & auc\\_agg\\_rf\\\\\n",
       "  & <fct> & <fct> & <int> & <dbl> & <dbl> & <dbl> & <dbl> & <dbl> & <dbl> & <dbl> & <dbl> & <dbl> & <dbl> & <dbl> & <dbl>\\\\\n",
       "\\hline\n",
       "\t1 & sitegmo        & gmo       & 106569 & 8.204334 & 8.126935 & 6.408669 & 8.777090 & 8.761610 & 8.591331 & 0.8958204 & 0.8825077 & 0.8729102 & 0.9345201 & 0.9348297 & 0.9329721\\\\\n",
       "\t2 & funalibaba     & alibaba   &  72690 & 4.883721 & 5.255814 & 5.023256 & 5.813953 & 6.000000 & 6.186047 & 0.8262791 & 0.8430233 & 0.8518605 & 0.8769767 & 0.8779070 & 0.8793023\\\\\n",
       "\t3 & sitenamecheap  & namecheap &  53536 & 2.298025 & 1.921005 & 1.885099 & 2.280072 & 2.028725 & 2.046679 & 0.6862657 & 0.6196589 & 0.6338420 & 0.6654399 & 0.6792639 & 0.6893178\\\\\n",
       "\t4 & pwnamecheap    & namecheap &  50470 & 3.478261 & 3.675889 & 3.675889 & 3.438735 & 4.071146 & 4.308300 & 0.7274704 & 0.6551383 & 0.6361660 & 0.7167984 & 0.7405138 & 0.7507905\\\\\n",
       "\t5 & onlinego daddy & go daddy  &  42162 & 2.850995 & 2.883271 & 2.474449 & 2.598171 & 2.727273 & 2.646584 & 0.6506455 & 0.6493007 & 0.6381119 & 0.6095481 & 0.6266541 & 0.6249328\\\\\n",
       "\t6 & sitegandi sas  & gandi sas &  35309 & 8.243243 & 8.445946 & 7.094595 & 4.932432 & 8.445946 & 8.581081 & 0.9202703 & 0.9195946 & 0.9189189 & 0.7162162 & 0.9344595 & 0.9358108\\\\\n",
       "\\end{tabular}\n"
      ],
      "text/markdown": [
       "\n",
       "A data.frame: 6 × 15\n",
       "\n",
       "| <!--/--> | tld_registrar_index &lt;fct&gt; | reseller &lt;fct&gt; | n &lt;int&gt; | l10_seg2_glm &lt;dbl&gt; | l10_seg_glm &lt;dbl&gt; | l10_agg_glm &lt;dbl&gt; | l10_seg2_rf &lt;dbl&gt; | l10_seg_rf &lt;dbl&gt; | l10_agg_rf &lt;dbl&gt; | auc_seg2_glm &lt;dbl&gt; | auc_seg_glm &lt;dbl&gt; | auc_agg_glm &lt;dbl&gt; | auc_seg2_rf &lt;dbl&gt; | auc_seg_rf &lt;dbl&gt; | auc_agg_rf &lt;dbl&gt; |\n",
       "|---|---|---|---|---|---|---|---|---|---|---|---|---|---|---|---|\n",
       "| 1 | sitegmo        | gmo       | 106569 | 8.204334 | 8.126935 | 6.408669 | 8.777090 | 8.761610 | 8.591331 | 0.8958204 | 0.8825077 | 0.8729102 | 0.9345201 | 0.9348297 | 0.9329721 |\n",
       "| 2 | funalibaba     | alibaba   |  72690 | 4.883721 | 5.255814 | 5.023256 | 5.813953 | 6.000000 | 6.186047 | 0.8262791 | 0.8430233 | 0.8518605 | 0.8769767 | 0.8779070 | 0.8793023 |\n",
       "| 3 | sitenamecheap  | namecheap |  53536 | 2.298025 | 1.921005 | 1.885099 | 2.280072 | 2.028725 | 2.046679 | 0.6862657 | 0.6196589 | 0.6338420 | 0.6654399 | 0.6792639 | 0.6893178 |\n",
       "| 4 | pwnamecheap    | namecheap |  50470 | 3.478261 | 3.675889 | 3.675889 | 3.438735 | 4.071146 | 4.308300 | 0.7274704 | 0.6551383 | 0.6361660 | 0.7167984 | 0.7405138 | 0.7507905 |\n",
       "| 5 | onlinego daddy | go daddy  |  42162 | 2.850995 | 2.883271 | 2.474449 | 2.598171 | 2.727273 | 2.646584 | 0.6506455 | 0.6493007 | 0.6381119 | 0.6095481 | 0.6266541 | 0.6249328 |\n",
       "| 6 | sitegandi sas  | gandi sas |  35309 | 8.243243 | 8.445946 | 7.094595 | 4.932432 | 8.445946 | 8.581081 | 0.9202703 | 0.9195946 | 0.9189189 | 0.7162162 | 0.9344595 | 0.9358108 |\n",
       "\n"
      ],
      "text/plain": [
       "  tld_registrar_index reseller  n      l10_seg2_glm l10_seg_glm l10_agg_glm\n",
       "1 sitegmo             gmo       106569 8.204334     8.126935    6.408669   \n",
       "2 funalibaba          alibaba    72690 4.883721     5.255814    5.023256   \n",
       "3 sitenamecheap       namecheap  53536 2.298025     1.921005    1.885099   \n",
       "4 pwnamecheap         namecheap  50470 3.478261     3.675889    3.675889   \n",
       "5 onlinego daddy      go daddy   42162 2.850995     2.883271    2.474449   \n",
       "6 sitegandi sas       gandi sas  35309 8.243243     8.445946    7.094595   \n",
       "  l10_seg2_rf l10_seg_rf l10_agg_rf auc_seg2_glm auc_seg_glm auc_agg_glm\n",
       "1 8.777090    8.761610   8.591331   0.8958204    0.8825077   0.8729102  \n",
       "2 5.813953    6.000000   6.186047   0.8262791    0.8430233   0.8518605  \n",
       "3 2.280072    2.028725   2.046679   0.6862657    0.6196589   0.6338420  \n",
       "4 3.438735    4.071146   4.308300   0.7274704    0.6551383   0.6361660  \n",
       "5 2.598171    2.727273   2.646584   0.6506455    0.6493007   0.6381119  \n",
       "6 4.932432    8.445946   8.581081   0.9202703    0.9195946   0.9189189  \n",
       "  auc_seg2_rf auc_seg_rf auc_agg_rf\n",
       "1 0.9345201   0.9348297  0.9329721 \n",
       "2 0.8769767   0.8779070  0.8793023 \n",
       "3 0.6654399   0.6792639  0.6893178 \n",
       "4 0.7167984   0.7405138  0.7507905 \n",
       "5 0.6095481   0.6266541  0.6249328 \n",
       "6 0.7162162   0.9344595  0.9358108 "
      ]
     },
     "metadata": {},
     "output_type": "display_data"
    }
   ],
   "source": [
    "predictions_df <- read.csv(\"../../data/tld_reseller_compare_predictions.csv\")\n",
    "metrics_df <- read.csv(\"../../data/tld_reseller_compare_metrics.csv\")\n",
    "\n",
    "dim(predictions_df)\n",
    "head(predictions_df)\n",
    "dim(metrics_df)\n",
    "head(metrics_df)"
   ]
  },
  {
   "cell_type": "code",
   "execution_count": 7,
   "metadata": {},
   "outputs": [
    {
     "data": {
      "text/html": [
       "<table>\n",
       "<caption>A data.table: 6 × 39</caption>\n",
       "<thead>\n",
       "\t<tr><th scope=col>renewal_type</th><th scope=col>renewed_count</th><th scope=col>expiry_date</th><th scope=col>domain_id</th><th scope=col>domain</th><th scope=col>creation_date</th><th scope=col>status</th><th scope=col>tld</th><th scope=col>registrar</th><th scope=col>reseller</th><th scope=col>reseller_country</th><th scope=col>region</th><th scope=col>reg_period</th><th scope=col>registrant_country</th><th scope=col>renewal_status</th><th scope=col>renew_mbg</th><th scope=col>renew_type</th><th scope=col>autorenew_type</th><th scope=col>renew_date</th><th scope=col>renew_registrar</th><th scope=col>renew_reseller</th><th scope=col>reg_revenue</th><th scope=col>reg_arpt</th><th scope=col>renew_period</th><th scope=col>renew_domain_revenue</th><th scope=col>renew_arpt</th><th scope=col>reg_arpt_org</th><th scope=col>tld_registrar_index</th><th scope=col>sld</th><th scope=col>sld_type</th><th scope=col>sld_length</th><th scope=col>sld_type2</th><th scope=col>day_domains</th><th scope=col>log_reg_arpt</th><th scope=col>gibb_score</th><th scope=col>pattern</th><th scope=col>cluster</th><th scope=col>pattern_score</th><th scope=col>pattern_domain_count</th></tr>\n",
       "\t<tr><th scope=col>&lt;chr&gt;</th><th scope=col>&lt;int&gt;</th><th scope=col>&lt;date&gt;</th><th scope=col>&lt;int&gt;</th><th scope=col>&lt;chr&gt;</th><th scope=col>&lt;date&gt;</th><th scope=col>&lt;chr&gt;</th><th scope=col>&lt;fct&gt;</th><th scope=col>&lt;chr&gt;</th><th scope=col>&lt;chr&gt;</th><th scope=col>&lt;chr&gt;</th><th scope=col>&lt;chr&gt;</th><th scope=col>&lt;int&gt;</th><th scope=col>&lt;chr&gt;</th><th scope=col>&lt;fct&gt;</th><th scope=col>&lt;int&gt;</th><th scope=col>&lt;chr&gt;</th><th scope=col>&lt;chr&gt;</th><th scope=col>&lt;date&gt;</th><th scope=col>&lt;chr&gt;</th><th scope=col>&lt;chr&gt;</th><th scope=col>&lt;dbl&gt;</th><th scope=col>&lt;dbl&gt;</th><th scope=col>&lt;int&gt;</th><th scope=col>&lt;dbl&gt;</th><th scope=col>&lt;dbl&gt;</th><th scope=col>&lt;dbl&gt;</th><th scope=col>&lt;chr&gt;</th><th scope=col>&lt;chr&gt;</th><th scope=col>&lt;fct&gt;</th><th scope=col>&lt;int&gt;</th><th scope=col>&lt;chr&gt;</th><th scope=col>&lt;int&gt;</th><th scope=col>&lt;dbl&gt;</th><th scope=col>&lt;dbl&gt;</th><th scope=col>&lt;chr&gt;</th><th scope=col>&lt;chr&gt;</th><th scope=col>&lt;dbl&gt;</th><th scope=col>&lt;int&gt;</th></tr>\n",
       "</thead>\n",
       "<tbody>\n",
       "\t<tr><td>FirstTime</td><td>1</td><td>2020-01-21</td><td>91584433</td><td><span style=white-space:pre-wrap>racefor.fun     </span></td><td>2019-01-21</td><td>Active</td><td>fun</td><td>1&amp;1 internet</td><td>1&amp;1 internet</td><td>Germany</td><td>Non China</td><td>1</td><td>NA</td><td><span style=white-space:pre-wrap>Renewed   </span></td><td>0</td><td>auto-renewal</td><td><span style=white-space:pre-wrap>realized  </span></td><td>2020-01-21</td><td>1&amp;1 Internet</td><td>1&amp;1 Internet</td><td>15</td><td>15</td><td>1</td><td>15</td><td>15</td><td>15</td><td>fun1&amp;1 internet</td><td><span style=white-space:pre-wrap>racefor     </span></td><td>l </td><td> 7</td><td>7l </td><td>1</td><td>2.70805</td><td> 6.77</td><td><span style=white-space:pre-wrap>racefor     </span></td><td>1</td><td>1</td><td>1</td></tr>\n",
       "\t<tr><td>FirstTime</td><td>1</td><td>2020-01-30</td><td>92254793</td><td><span style=white-space:pre-wrap>united4.fun     </span></td><td>2019-01-30</td><td>Active</td><td>fun</td><td>1&amp;1 internet</td><td>1&amp;1 internet</td><td>Germany</td><td>Non China</td><td>1</td><td>NA</td><td><span style=white-space:pre-wrap>Renewed   </span></td><td>0</td><td>auto-renewal</td><td><span style=white-space:pre-wrap>realized  </span></td><td>2020-01-30</td><td>1&amp;1 Internet</td><td>1&amp;1 Internet</td><td>15</td><td>15</td><td>1</td><td>15</td><td>15</td><td>15</td><td>fun1&amp;1 internet</td><td><span style=white-space:pre-wrap>united4     </span></td><td>ln</td><td> 7</td><td>7ln</td><td>1</td><td>2.70805</td><td> 8.65</td><td><span style=white-space:pre-wrap>united4     </span></td><td>1</td><td>1</td><td>1</td></tr>\n",
       "\t<tr><td>FirstTime</td><td>1</td><td>2020-02-04</td><td>92827233</td><td><span style=white-space:pre-wrap>bereal.fun      </span></td><td>2019-02-04</td><td>Active</td><td>fun</td><td>1&amp;1 internet</td><td>1&amp;1 internet</td><td>Germany</td><td>Non China</td><td>1</td><td>NA</td><td><span style=white-space:pre-wrap>Renewed   </span></td><td>0</td><td>auto-renewal</td><td><span style=white-space:pre-wrap>realized  </span></td><td>2020-02-04</td><td>1&amp;1 Internet</td><td>1&amp;1 Internet</td><td>15</td><td>15</td><td>1</td><td>15</td><td>15</td><td>15</td><td>fun1&amp;1 internet</td><td><span style=white-space:pre-wrap>bereal      </span></td><td>l </td><td> 6</td><td>6l </td><td>1</td><td>2.70805</td><td>13.09</td><td><span style=white-space:pre-wrap>bereal      </span></td><td>1</td><td>1</td><td>1</td></tr>\n",
       "\t<tr><td>FirstTime</td><td>1</td><td>2020-02-12</td><td>93490823</td><td>dogsoutdoors.fun</td><td>2019-02-12</td><td>Active</td><td>fun</td><td>1&amp;1 internet</td><td>1&amp;1 internet</td><td>Germany</td><td>Non China</td><td>1</td><td>NA</td><td>Not Renewd</td><td>0</td><td>auto-renewal</td><td>unrealized</td><td>2020-02-12</td><td>1&amp;1 Internet</td><td>1&amp;1 Internet</td><td>15</td><td>15</td><td>1</td><td>15</td><td>15</td><td>15</td><td>fun1&amp;1 internet</td><td>dogsoutdoors</td><td>l </td><td>12</td><td>12l</td><td>1</td><td>2.70805</td><td> 2.44</td><td>dogsoutdoors</td><td>1</td><td>1</td><td>1</td></tr>\n",
       "\t<tr><td>FirstTime</td><td>1</td><td>2020-02-15</td><td>93767978</td><td><span style=white-space:pre-wrap>rosalux.fun     </span></td><td>2019-02-15</td><td>Active</td><td>fun</td><td>1&amp;1 internet</td><td>1&amp;1 internet</td><td>Germany</td><td>Non China</td><td>1</td><td>NA</td><td><span style=white-space:pre-wrap>Renewed   </span></td><td>0</td><td>auto-renewal</td><td><span style=white-space:pre-wrap>realized  </span></td><td>2020-02-15</td><td>1&amp;1 Internet</td><td>1&amp;1 Internet</td><td>15</td><td>15</td><td>1</td><td>15</td><td>15</td><td>15</td><td>fun1&amp;1 internet</td><td><span style=white-space:pre-wrap>rosalux     </span></td><td>l </td><td> 7</td><td>7l </td><td>1</td><td>2.70805</td><td> 2.34</td><td><span style=white-space:pre-wrap>rosalux     </span></td><td>1</td><td>1</td><td>1</td></tr>\n",
       "\t<tr><td>FirstTime</td><td>1</td><td>2020-02-16</td><td>93823708</td><td><span style=white-space:pre-wrap>verygood.fun    </span></td><td>2019-02-16</td><td>Active</td><td>fun</td><td>1&amp;1 internet</td><td>1&amp;1 internet</td><td>Germany</td><td>Non China</td><td>1</td><td>NA</td><td><span style=white-space:pre-wrap>Renewed   </span></td><td>0</td><td>auto-renewal</td><td><span style=white-space:pre-wrap>realized  </span></td><td>2020-02-16</td><td>1&amp;1 Internet</td><td>1&amp;1 Internet</td><td>15</td><td>15</td><td>1</td><td>15</td><td>15</td><td>15</td><td>fun1&amp;1 internet</td><td><span style=white-space:pre-wrap>verygood    </span></td><td>l </td><td> 8</td><td>8l </td><td>1</td><td>2.70805</td><td> 3.64</td><td><span style=white-space:pre-wrap>verygood    </span></td><td>1</td><td>1</td><td>1</td></tr>\n",
       "</tbody>\n",
       "</table>\n"
      ],
      "text/latex": [
       "A data.table: 6 × 39\n",
       "\\begin{tabular}{lllllllllllllllllllllllllllllllllllllll}\n",
       " renewal\\_type & renewed\\_count & expiry\\_date & domain\\_id & domain & creation\\_date & status & tld & registrar & reseller & reseller\\_country & region & reg\\_period & registrant\\_country & renewal\\_status & renew\\_mbg & renew\\_type & autorenew\\_type & renew\\_date & renew\\_registrar & renew\\_reseller & reg\\_revenue & reg\\_arpt & renew\\_period & renew\\_domain\\_revenue & renew\\_arpt & reg\\_arpt\\_org & tld\\_registrar\\_index & sld & sld\\_type & sld\\_length & sld\\_type2 & day\\_domains & log\\_reg\\_arpt & gibb\\_score & pattern & cluster & pattern\\_score & pattern\\_domain\\_count\\\\\n",
       " <chr> & <int> & <date> & <int> & <chr> & <date> & <chr> & <fct> & <chr> & <chr> & <chr> & <chr> & <int> & <chr> & <fct> & <int> & <chr> & <chr> & <date> & <chr> & <chr> & <dbl> & <dbl> & <int> & <dbl> & <dbl> & <dbl> & <chr> & <chr> & <fct> & <int> & <chr> & <int> & <dbl> & <dbl> & <chr> & <chr> & <dbl> & <int>\\\\\n",
       "\\hline\n",
       "\t FirstTime & 1 & 2020-01-21 & 91584433 & racefor.fun      & 2019-01-21 & Active & fun & 1\\&1 internet & 1\\&1 internet & Germany & Non China & 1 & NA & Renewed    & 0 & auto-renewal & realized   & 2020-01-21 & 1\\&1 Internet & 1\\&1 Internet & 15 & 15 & 1 & 15 & 15 & 15 & fun1\\&1 internet & racefor      & l  &  7 & 7l  & 1 & 2.70805 &  6.77 & racefor      & 1 & 1 & 1\\\\\n",
       "\t FirstTime & 1 & 2020-01-30 & 92254793 & united4.fun      & 2019-01-30 & Active & fun & 1\\&1 internet & 1\\&1 internet & Germany & Non China & 1 & NA & Renewed    & 0 & auto-renewal & realized   & 2020-01-30 & 1\\&1 Internet & 1\\&1 Internet & 15 & 15 & 1 & 15 & 15 & 15 & fun1\\&1 internet & united4      & ln &  7 & 7ln & 1 & 2.70805 &  8.65 & united4      & 1 & 1 & 1\\\\\n",
       "\t FirstTime & 1 & 2020-02-04 & 92827233 & bereal.fun       & 2019-02-04 & Active & fun & 1\\&1 internet & 1\\&1 internet & Germany & Non China & 1 & NA & Renewed    & 0 & auto-renewal & realized   & 2020-02-04 & 1\\&1 Internet & 1\\&1 Internet & 15 & 15 & 1 & 15 & 15 & 15 & fun1\\&1 internet & bereal       & l  &  6 & 6l  & 1 & 2.70805 & 13.09 & bereal       & 1 & 1 & 1\\\\\n",
       "\t FirstTime & 1 & 2020-02-12 & 93490823 & dogsoutdoors.fun & 2019-02-12 & Active & fun & 1\\&1 internet & 1\\&1 internet & Germany & Non China & 1 & NA & Not Renewd & 0 & auto-renewal & unrealized & 2020-02-12 & 1\\&1 Internet & 1\\&1 Internet & 15 & 15 & 1 & 15 & 15 & 15 & fun1\\&1 internet & dogsoutdoors & l  & 12 & 12l & 1 & 2.70805 &  2.44 & dogsoutdoors & 1 & 1 & 1\\\\\n",
       "\t FirstTime & 1 & 2020-02-15 & 93767978 & rosalux.fun      & 2019-02-15 & Active & fun & 1\\&1 internet & 1\\&1 internet & Germany & Non China & 1 & NA & Renewed    & 0 & auto-renewal & realized   & 2020-02-15 & 1\\&1 Internet & 1\\&1 Internet & 15 & 15 & 1 & 15 & 15 & 15 & fun1\\&1 internet & rosalux      & l  &  7 & 7l  & 1 & 2.70805 &  2.34 & rosalux      & 1 & 1 & 1\\\\\n",
       "\t FirstTime & 1 & 2020-02-16 & 93823708 & verygood.fun     & 2019-02-16 & Active & fun & 1\\&1 internet & 1\\&1 internet & Germany & Non China & 1 & NA & Renewed    & 0 & auto-renewal & realized   & 2020-02-16 & 1\\&1 Internet & 1\\&1 Internet & 15 & 15 & 1 & 15 & 15 & 15 & fun1\\&1 internet & verygood     & l  &  8 & 8l  & 1 & 2.70805 &  3.64 & verygood     & 1 & 1 & 1\\\\\n",
       "\\end{tabular}\n"
      ],
      "text/markdown": [
       "\n",
       "A data.table: 6 × 39\n",
       "\n",
       "| renewal_type &lt;chr&gt; | renewed_count &lt;int&gt; | expiry_date &lt;date&gt; | domain_id &lt;int&gt; | domain &lt;chr&gt; | creation_date &lt;date&gt; | status &lt;chr&gt; | tld &lt;fct&gt; | registrar &lt;chr&gt; | reseller &lt;chr&gt; | reseller_country &lt;chr&gt; | region &lt;chr&gt; | reg_period &lt;int&gt; | registrant_country &lt;chr&gt; | renewal_status &lt;fct&gt; | renew_mbg &lt;int&gt; | renew_type &lt;chr&gt; | autorenew_type &lt;chr&gt; | renew_date &lt;date&gt; | renew_registrar &lt;chr&gt; | renew_reseller &lt;chr&gt; | reg_revenue &lt;dbl&gt; | reg_arpt &lt;dbl&gt; | renew_period &lt;int&gt; | renew_domain_revenue &lt;dbl&gt; | renew_arpt &lt;dbl&gt; | reg_arpt_org &lt;dbl&gt; | tld_registrar_index &lt;chr&gt; | sld &lt;chr&gt; | sld_type &lt;fct&gt; | sld_length &lt;int&gt; | sld_type2 &lt;chr&gt; | day_domains &lt;int&gt; | log_reg_arpt &lt;dbl&gt; | gibb_score &lt;dbl&gt; | pattern &lt;chr&gt; | cluster &lt;chr&gt; | pattern_score &lt;dbl&gt; | pattern_domain_count &lt;int&gt; |\n",
       "|---|---|---|---|---|---|---|---|---|---|---|---|---|---|---|---|---|---|---|---|---|---|---|---|---|---|---|---|---|---|---|---|---|---|---|---|---|---|---|\n",
       "| FirstTime | 1 | 2020-01-21 | 91584433 | racefor.fun      | 2019-01-21 | Active | fun | 1&amp;1 internet | 1&amp;1 internet | Germany | Non China | 1 | NA | Renewed    | 0 | auto-renewal | realized   | 2020-01-21 | 1&amp;1 Internet | 1&amp;1 Internet | 15 | 15 | 1 | 15 | 15 | 15 | fun1&amp;1 internet | racefor      | l  |  7 | 7l  | 1 | 2.70805 |  6.77 | racefor      | 1 | 1 | 1 |\n",
       "| FirstTime | 1 | 2020-01-30 | 92254793 | united4.fun      | 2019-01-30 | Active | fun | 1&amp;1 internet | 1&amp;1 internet | Germany | Non China | 1 | NA | Renewed    | 0 | auto-renewal | realized   | 2020-01-30 | 1&amp;1 Internet | 1&amp;1 Internet | 15 | 15 | 1 | 15 | 15 | 15 | fun1&amp;1 internet | united4      | ln |  7 | 7ln | 1 | 2.70805 |  8.65 | united4      | 1 | 1 | 1 |\n",
       "| FirstTime | 1 | 2020-02-04 | 92827233 | bereal.fun       | 2019-02-04 | Active | fun | 1&amp;1 internet | 1&amp;1 internet | Germany | Non China | 1 | NA | Renewed    | 0 | auto-renewal | realized   | 2020-02-04 | 1&amp;1 Internet | 1&amp;1 Internet | 15 | 15 | 1 | 15 | 15 | 15 | fun1&amp;1 internet | bereal       | l  |  6 | 6l  | 1 | 2.70805 | 13.09 | bereal       | 1 | 1 | 1 |\n",
       "| FirstTime | 1 | 2020-02-12 | 93490823 | dogsoutdoors.fun | 2019-02-12 | Active | fun | 1&amp;1 internet | 1&amp;1 internet | Germany | Non China | 1 | NA | Not Renewd | 0 | auto-renewal | unrealized | 2020-02-12 | 1&amp;1 Internet | 1&amp;1 Internet | 15 | 15 | 1 | 15 | 15 | 15 | fun1&amp;1 internet | dogsoutdoors | l  | 12 | 12l | 1 | 2.70805 |  2.44 | dogsoutdoors | 1 | 1 | 1 |\n",
       "| FirstTime | 1 | 2020-02-15 | 93767978 | rosalux.fun      | 2019-02-15 | Active | fun | 1&amp;1 internet | 1&amp;1 internet | Germany | Non China | 1 | NA | Renewed    | 0 | auto-renewal | realized   | 2020-02-15 | 1&amp;1 Internet | 1&amp;1 Internet | 15 | 15 | 1 | 15 | 15 | 15 | fun1&amp;1 internet | rosalux      | l  |  7 | 7l  | 1 | 2.70805 |  2.34 | rosalux      | 1 | 1 | 1 |\n",
       "| FirstTime | 1 | 2020-02-16 | 93823708 | verygood.fun     | 2019-02-16 | Active | fun | 1&amp;1 internet | 1&amp;1 internet | Germany | Non China | 1 | NA | Renewed    | 0 | auto-renewal | realized   | 2020-02-16 | 1&amp;1 Internet | 1&amp;1 Internet | 15 | 15 | 1 | 15 | 15 | 15 | fun1&amp;1 internet | verygood     | l  |  8 | 8l  | 1 | 2.70805 |  3.64 | verygood     | 1 | 1 | 1 |\n",
       "\n"
      ],
      "text/plain": [
       "  renewal_type renewed_count expiry_date domain_id domain          \n",
       "1 FirstTime    1             2020-01-21  91584433  racefor.fun     \n",
       "2 FirstTime    1             2020-01-30  92254793  united4.fun     \n",
       "3 FirstTime    1             2020-02-04  92827233  bereal.fun      \n",
       "4 FirstTime    1             2020-02-12  93490823  dogsoutdoors.fun\n",
       "5 FirstTime    1             2020-02-15  93767978  rosalux.fun     \n",
       "6 FirstTime    1             2020-02-16  93823708  verygood.fun    \n",
       "  creation_date status tld registrar    reseller     reseller_country region   \n",
       "1 2019-01-21    Active fun 1&1 internet 1&1 internet Germany          Non China\n",
       "2 2019-01-30    Active fun 1&1 internet 1&1 internet Germany          Non China\n",
       "3 2019-02-04    Active fun 1&1 internet 1&1 internet Germany          Non China\n",
       "4 2019-02-12    Active fun 1&1 internet 1&1 internet Germany          Non China\n",
       "5 2019-02-15    Active fun 1&1 internet 1&1 internet Germany          Non China\n",
       "6 2019-02-16    Active fun 1&1 internet 1&1 internet Germany          Non China\n",
       "  reg_period registrant_country renewal_status renew_mbg renew_type  \n",
       "1 1          NA                 Renewed        0         auto-renewal\n",
       "2 1          NA                 Renewed        0         auto-renewal\n",
       "3 1          NA                 Renewed        0         auto-renewal\n",
       "4 1          NA                 Not Renewd     0         auto-renewal\n",
       "5 1          NA                 Renewed        0         auto-renewal\n",
       "6 1          NA                 Renewed        0         auto-renewal\n",
       "  autorenew_type renew_date renew_registrar renew_reseller reg_revenue reg_arpt\n",
       "1 realized       2020-01-21 1&1 Internet    1&1 Internet   15          15      \n",
       "2 realized       2020-01-30 1&1 Internet    1&1 Internet   15          15      \n",
       "3 realized       2020-02-04 1&1 Internet    1&1 Internet   15          15      \n",
       "4 unrealized     2020-02-12 1&1 Internet    1&1 Internet   15          15      \n",
       "5 realized       2020-02-15 1&1 Internet    1&1 Internet   15          15      \n",
       "6 realized       2020-02-16 1&1 Internet    1&1 Internet   15          15      \n",
       "  renew_period renew_domain_revenue renew_arpt reg_arpt_org tld_registrar_index\n",
       "1 1            15                   15         15           fun1&1 internet    \n",
       "2 1            15                   15         15           fun1&1 internet    \n",
       "3 1            15                   15         15           fun1&1 internet    \n",
       "4 1            15                   15         15           fun1&1 internet    \n",
       "5 1            15                   15         15           fun1&1 internet    \n",
       "6 1            15                   15         15           fun1&1 internet    \n",
       "  sld          sld_type sld_length sld_type2 day_domains log_reg_arpt\n",
       "1 racefor      l         7         7l        1           2.70805     \n",
       "2 united4      ln        7         7ln       1           2.70805     \n",
       "3 bereal       l         6         6l        1           2.70805     \n",
       "4 dogsoutdoors l        12         12l       1           2.70805     \n",
       "5 rosalux      l         7         7l        1           2.70805     \n",
       "6 verygood     l         8         8l        1           2.70805     \n",
       "  gibb_score pattern      cluster pattern_score pattern_domain_count\n",
       "1  6.77      racefor      1       1             1                   \n",
       "2  8.65      united4      1       1             1                   \n",
       "3 13.09      bereal       1       1             1                   \n",
       "4  2.44      dogsoutdoors 1       1             1                   \n",
       "5  2.34      rosalux      1       1             1                   \n",
       "6  3.64      verygood     1       1             1                   "
      ]
     },
     "metadata": {},
     "output_type": "display_data"
    }
   ],
   "source": [
    "head(expiry_train_df_1)"
   ]
  },
  {
   "cell_type": "code",
   "execution_count": 8,
   "metadata": {},
   "outputs": [
    {
     "data": {
      "text/html": [
       "<table>\n",
       "<caption>A data.frame: 6 × 3</caption>\n",
       "<thead>\n",
       "\t<tr><th></th><th scope=col>reseller</th><th scope=col>reseller_country</th><th scope=col>reseller_geo</th></tr>\n",
       "\t<tr><th></th><th scope=col>&lt;fct&gt;</th><th scope=col>&lt;fct&gt;</th><th scope=col>&lt;fct&gt;</th></tr>\n",
       "</thead>\n",
       "<tbody>\n",
       "\t<tr><th scope=row>1</th><td>007names           </td><td>United States</td><td>United States</td></tr>\n",
       "\t<tr><th scope=row>2</th><td>0101 internet      </td><td>Hong Kong    </td><td>China        </td></tr>\n",
       "\t<tr><th scope=row>3</th><td><span style=white-space:pre-wrap>1&amp;1 internet       </span></td><td><span style=white-space:pre-wrap>Germany      </span></td><td><span style=white-space:pre-wrap>EU           </span></td></tr>\n",
       "\t<tr><th scope=row>4</th><td>101 domain         </td><td>United States</td><td>United States</td></tr>\n",
       "\t<tr><th scope=row>5</th><td>101domain discovery</td><td>Germany      </td><td>EU           </td></tr>\n",
       "\t<tr><th scope=row>6</th><td>10dencehispahard   </td><td>Spain        </td><td>EU           </td></tr>\n",
       "</tbody>\n",
       "</table>\n"
      ],
      "text/latex": [
       "A data.frame: 6 × 3\n",
       "\\begin{tabular}{r|lll}\n",
       "  & reseller & reseller\\_country & reseller\\_geo\\\\\n",
       "  & <fct> & <fct> & <fct>\\\\\n",
       "\\hline\n",
       "\t1 & 007names            & United States & United States\\\\\n",
       "\t2 & 0101 internet       & Hong Kong     & China        \\\\\n",
       "\t3 & 1\\&1 internet        & Germany       & EU           \\\\\n",
       "\t4 & 101 domain          & United States & United States\\\\\n",
       "\t5 & 101domain discovery & Germany       & EU           \\\\\n",
       "\t6 & 10dencehispahard    & Spain         & EU           \\\\\n",
       "\\end{tabular}\n"
      ],
      "text/markdown": [
       "\n",
       "A data.frame: 6 × 3\n",
       "\n",
       "| <!--/--> | reseller &lt;fct&gt; | reseller_country &lt;fct&gt; | reseller_geo &lt;fct&gt; |\n",
       "|---|---|---|---|\n",
       "| 1 | 007names            | United States | United States |\n",
       "| 2 | 0101 internet       | Hong Kong     | China         |\n",
       "| 3 | 1&amp;1 internet        | Germany       | EU            |\n",
       "| 4 | 101 domain          | United States | United States |\n",
       "| 5 | 101domain discovery | Germany       | EU            |\n",
       "| 6 | 10dencehispahard    | Spain         | EU            |\n",
       "\n"
      ],
      "text/plain": [
       "  reseller            reseller_country reseller_geo \n",
       "1 007names            United States    United States\n",
       "2 0101 internet       Hong Kong        China        \n",
       "3 1&1 internet        Germany          EU           \n",
       "4 101 domain          United States    United States\n",
       "5 101domain discovery Germany          EU           \n",
       "6 10dencehispahard    Spain            EU           "
      ]
     },
     "metadata": {},
     "output_type": "display_data"
    }
   ],
   "source": [
    "system(\"gsutil cp gs://data_input/PredictiveModelAnalysis_AnomalyRegistrars.csv /home/jupyter/local/Domains_202003/data/PredictiveModelAnalysis_AnomalyRegistrars.csv\")\n",
    "anomalyDF <- read.csv(\"/home/jupyter/local/Domains_202003/data/PredictiveModelAnalysis_AnomalyRegistrars.csv\")\n",
    "anomalyDF <- apply(anomalyDF, 2, function(x) trimws(x,which = c(\"both\")) )\n",
    "geoLookupDF <- unique(anomalyDF[,c('reseller','reseller_country','reseller_geo')])\n",
    "geoLookupDF <- as.data.frame(geoLookupDF)\n",
    "head(geoLookupDF)"
   ]
  },
  {
   "cell_type": "code",
   "execution_count": 9,
   "metadata": {},
   "outputs": [
    {
     "name": "stderr",
     "output_type": "stream",
     "text": [
      "`summarise()` ungrouping output (override with `.groups` argument)\n",
      "\n"
     ]
    },
    {
     "data": {
      "text/html": [
       "<table>\n",
       "<caption>A tibble: 6 × 2</caption>\n",
       "<thead>\n",
       "\t<tr><th scope=col>reseller</th><th scope=col>u_geo</th></tr>\n",
       "\t<tr><th scope=col>&lt;fct&gt;</th><th scope=col>&lt;int&gt;</th></tr>\n",
       "</thead>\n",
       "<tbody>\n",
       "\t<tr><td>hostgator   </td><td>2</td></tr>\n",
       "\t<tr><td>moniker     </td><td>2</td></tr>\n",
       "\t<tr><td>psi-japan   </td><td>2</td></tr>\n",
       "\t<tr><td>registrarsec</td><td>2</td></tr>\n",
       "\t<tr><td>uk2         </td><td>2</td></tr>\n",
       "\t<tr><td>NA          </td><td>2</td></tr>\n",
       "</tbody>\n",
       "</table>\n"
      ],
      "text/latex": [
       "A tibble: 6 × 2\n",
       "\\begin{tabular}{ll}\n",
       " reseller & u\\_geo\\\\\n",
       " <fct> & <int>\\\\\n",
       "\\hline\n",
       "\t hostgator    & 2\\\\\n",
       "\t moniker      & 2\\\\\n",
       "\t psi-japan    & 2\\\\\n",
       "\t registrarsec & 2\\\\\n",
       "\t uk2          & 2\\\\\n",
       "\t NA           & 2\\\\\n",
       "\\end{tabular}\n"
      ],
      "text/markdown": [
       "\n",
       "A tibble: 6 × 2\n",
       "\n",
       "| reseller &lt;fct&gt; | u_geo &lt;int&gt; |\n",
       "|---|---|\n",
       "| hostgator    | 2 |\n",
       "| moniker      | 2 |\n",
       "| psi-japan    | 2 |\n",
       "| registrarsec | 2 |\n",
       "| uk2          | 2 |\n",
       "| NA           | 2 |\n",
       "\n"
      ],
      "text/plain": [
       "  reseller     u_geo\n",
       "1 hostgator    2    \n",
       "2 moniker      2    \n",
       "3 psi-japan    2    \n",
       "4 registrarsec 2    \n",
       "5 uk2          2    \n",
       "6 NA           2    "
      ]
     },
     "metadata": {},
     "output_type": "display_data"
    }
   ],
   "source": [
    "# number of unique geos per reseller\n",
    "geoLookupDF %>%\n",
    "  group_by(reseller) %>%\n",
    "  summarise(u_geo = n_distinct(reseller_geo))  %>%\n",
    "  filter(u_geo>1)"
   ]
  },
  {
   "cell_type": "code",
   "execution_count": 10,
   "metadata": {},
   "outputs": [
    {
     "name": "stderr",
     "output_type": "stream",
     "text": [
      "`summarise()` regrouping output by 'reseller' (override with `.groups` argument)\n",
      "\n"
     ]
    },
    {
     "data": {
      "text/html": [
       "<table>\n",
       "<caption>A grouped_df: 1 × 3</caption>\n",
       "<thead>\n",
       "\t<tr><th scope=col>reseller</th><th scope=col>reseller_country</th><th scope=col>u_geo</th></tr>\n",
       "\t<tr><th scope=col>&lt;fct&gt;</th><th scope=col>&lt;fct&gt;</th><th scope=col>&lt;int&gt;</th></tr>\n",
       "</thead>\n",
       "<tbody>\n",
       "\t<tr><td>NA</td><td>NA</td><td>2</td></tr>\n",
       "</tbody>\n",
       "</table>\n"
      ],
      "text/latex": [
       "A grouped\\_df: 1 × 3\n",
       "\\begin{tabular}{lll}\n",
       " reseller & reseller\\_country & u\\_geo\\\\\n",
       " <fct> & <fct> & <int>\\\\\n",
       "\\hline\n",
       "\t NA & NA & 2\\\\\n",
       "\\end{tabular}\n"
      ],
      "text/markdown": [
       "\n",
       "A grouped_df: 1 × 3\n",
       "\n",
       "| reseller &lt;fct&gt; | reseller_country &lt;fct&gt; | u_geo &lt;int&gt; |\n",
       "|---|---|---|\n",
       "| NA | NA | 2 |\n",
       "\n"
      ],
      "text/plain": [
       "  reseller reseller_country u_geo\n",
       "1 NA       NA               2    "
      ]
     },
     "metadata": {},
     "output_type": "display_data"
    }
   ],
   "source": [
    "# number of unique geos per reseller-country\n",
    "geoLookupDF %>%\n",
    "  group_by(reseller, reseller_country) %>%\n",
    "  summarise(u_geo = n_distinct(reseller_geo))  %>%\n",
    "  filter(u_geo>1)"
   ]
  },
  {
   "cell_type": "code",
   "execution_count": 11,
   "metadata": {},
   "outputs": [
    {
     "data": {
      "text/html": [
       "<table>\n",
       "<caption>A data.frame: 2 × 3</caption>\n",
       "<thead>\n",
       "\t<tr><th scope=col>reseller</th><th scope=col>reseller_country</th><th scope=col>reseller_geo</th></tr>\n",
       "\t<tr><th scope=col>&lt;fct&gt;</th><th scope=col>&lt;fct&gt;</th><th scope=col>&lt;fct&gt;</th></tr>\n",
       "</thead>\n",
       "<tbody>\n",
       "\t<tr><td>NA</td><td>NA</td><td>Others</td></tr>\n",
       "\t<tr><td>NA</td><td>NA</td><td>NA    </td></tr>\n",
       "</tbody>\n",
       "</table>\n"
      ],
      "text/latex": [
       "A data.frame: 2 × 3\n",
       "\\begin{tabular}{lll}\n",
       " reseller & reseller\\_country & reseller\\_geo\\\\\n",
       " <fct> & <fct> & <fct>\\\\\n",
       "\\hline\n",
       "\t NA & NA & Others\\\\\n",
       "\t NA & NA & NA    \\\\\n",
       "\\end{tabular}\n"
      ],
      "text/markdown": [
       "\n",
       "A data.frame: 2 × 3\n",
       "\n",
       "| reseller &lt;fct&gt; | reseller_country &lt;fct&gt; | reseller_geo &lt;fct&gt; |\n",
       "|---|---|---|\n",
       "| NA | NA | Others |\n",
       "| NA | NA | NA     |\n",
       "\n"
      ],
      "text/plain": [
       "  reseller reseller_country reseller_geo\n",
       "1 NA       NA               Others      \n",
       "2 NA       NA               NA          "
      ]
     },
     "metadata": {},
     "output_type": "display_data"
    }
   ],
   "source": [
    "geoLookupDF %>% filter(is.na(reseller))"
   ]
  },
  {
   "cell_type": "code",
   "execution_count": 12,
   "metadata": {},
   "outputs": [
    {
     "data": {
      "text/html": [
       "<style>\n",
       ".list-inline {list-style: none; margin:0; padding: 0}\n",
       ".list-inline>li {display: inline-block}\n",
       ".list-inline>li:not(:last-child)::after {content: \"\\00b7\"; padding: 0 .5ex}\n",
       "</style>\n",
       "<ol class=list-inline><li>1188250</li><li>39</li></ol>\n"
      ],
      "text/latex": [
       "\\begin{enumerate*}\n",
       "\\item 1188250\n",
       "\\item 39\n",
       "\\end{enumerate*}\n"
      ],
      "text/markdown": [
       "1. 1188250\n",
       "2. 39\n",
       "\n",
       "\n"
      ],
      "text/plain": [
       "[1] 1188250      39"
      ]
     },
     "metadata": {},
     "output_type": "display_data"
    },
    {
     "data": {
      "text/html": [
       "<style>\n",
       ".list-inline {list-style: none; margin:0; padding: 0}\n",
       ".list-inline>li {display: inline-block}\n",
       ".list-inline>li:not(:last-child)::after {content: \"\\00b7\"; padding: 0 .5ex}\n",
       "</style>\n",
       "<ol class=list-inline><li>1188250</li><li>40</li></ol>\n"
      ],
      "text/latex": [
       "\\begin{enumerate*}\n",
       "\\item 1188250\n",
       "\\item 40\n",
       "\\end{enumerate*}\n"
      ],
      "text/markdown": [
       "1. 1188250\n",
       "2. 40\n",
       "\n",
       "\n"
      ],
      "text/plain": [
       "[1] 1188250      40"
      ]
     },
     "metadata": {},
     "output_type": "display_data"
    },
    {
     "data": {
      "text/html": [
       "<table>\n",
       "<caption>A data.table: 6 × 40</caption>\n",
       "<thead>\n",
       "\t<tr><th scope=col>reseller</th><th scope=col>reseller_country</th><th scope=col>renewal_type</th><th scope=col>renewed_count</th><th scope=col>expiry_date</th><th scope=col>domain_id</th><th scope=col>domain</th><th scope=col>creation_date</th><th scope=col>status</th><th scope=col>tld</th><th scope=col>registrar</th><th scope=col>region</th><th scope=col>reg_period</th><th scope=col>registrant_country</th><th scope=col>renewal_status</th><th scope=col>renew_mbg</th><th scope=col>renew_type</th><th scope=col>autorenew_type</th><th scope=col>renew_date</th><th scope=col>renew_registrar</th><th scope=col>renew_reseller</th><th scope=col>reg_revenue</th><th scope=col>reg_arpt</th><th scope=col>renew_period</th><th scope=col>renew_domain_revenue</th><th scope=col>renew_arpt</th><th scope=col>reg_arpt_org</th><th scope=col>tld_registrar_index</th><th scope=col>sld</th><th scope=col>sld_type</th><th scope=col>sld_length</th><th scope=col>sld_type2</th><th scope=col>day_domains</th><th scope=col>log_reg_arpt</th><th scope=col>gibb_score</th><th scope=col>pattern</th><th scope=col>cluster</th><th scope=col>pattern_score</th><th scope=col>pattern_domain_count</th><th scope=col>reseller_geo</th></tr>\n",
       "\t<tr><th scope=col>&lt;chr&gt;</th><th scope=col>&lt;chr&gt;</th><th scope=col>&lt;chr&gt;</th><th scope=col>&lt;int&gt;</th><th scope=col>&lt;date&gt;</th><th scope=col>&lt;int&gt;</th><th scope=col>&lt;chr&gt;</th><th scope=col>&lt;date&gt;</th><th scope=col>&lt;chr&gt;</th><th scope=col>&lt;fct&gt;</th><th scope=col>&lt;chr&gt;</th><th scope=col>&lt;chr&gt;</th><th scope=col>&lt;int&gt;</th><th scope=col>&lt;chr&gt;</th><th scope=col>&lt;fct&gt;</th><th scope=col>&lt;int&gt;</th><th scope=col>&lt;chr&gt;</th><th scope=col>&lt;chr&gt;</th><th scope=col>&lt;date&gt;</th><th scope=col>&lt;chr&gt;</th><th scope=col>&lt;chr&gt;</th><th scope=col>&lt;dbl&gt;</th><th scope=col>&lt;dbl&gt;</th><th scope=col>&lt;int&gt;</th><th scope=col>&lt;dbl&gt;</th><th scope=col>&lt;dbl&gt;</th><th scope=col>&lt;dbl&gt;</th><th scope=col>&lt;chr&gt;</th><th scope=col>&lt;chr&gt;</th><th scope=col>&lt;fct&gt;</th><th scope=col>&lt;int&gt;</th><th scope=col>&lt;chr&gt;</th><th scope=col>&lt;int&gt;</th><th scope=col>&lt;dbl&gt;</th><th scope=col>&lt;dbl&gt;</th><th scope=col>&lt;chr&gt;</th><th scope=col>&lt;chr&gt;</th><th scope=col>&lt;dbl&gt;</th><th scope=col>&lt;int&gt;</th><th scope=col>&lt;fct&gt;</th></tr>\n",
       "</thead>\n",
       "<tbody>\n",
       "\t<tr><td>1&amp;1 internet</td><td>Germany</td><td>FirstTime</td><td>1</td><td>2020-01-21</td><td>91584433</td><td><span style=white-space:pre-wrap>racefor.fun     </span></td><td>2019-01-21</td><td>Active</td><td>fun</td><td>1&amp;1 internet</td><td>Non China</td><td>1</td><td>NA</td><td><span style=white-space:pre-wrap>Renewed   </span></td><td>0</td><td>auto-renewal</td><td><span style=white-space:pre-wrap>realized  </span></td><td>2020-01-21</td><td>1&amp;1 Internet</td><td>1&amp;1 Internet</td><td>15</td><td>15</td><td>1</td><td>15</td><td>15</td><td>15</td><td>fun1&amp;1 internet</td><td><span style=white-space:pre-wrap>racefor     </span></td><td>l </td><td> 7</td><td>7l </td><td>1</td><td>2.70805</td><td> 6.77</td><td><span style=white-space:pre-wrap>racefor     </span></td><td>1</td><td>1</td><td>1</td><td>EU</td></tr>\n",
       "\t<tr><td>1&amp;1 internet</td><td>Germany</td><td>FirstTime</td><td>1</td><td>2020-01-30</td><td>92254793</td><td><span style=white-space:pre-wrap>united4.fun     </span></td><td>2019-01-30</td><td>Active</td><td>fun</td><td>1&amp;1 internet</td><td>Non China</td><td>1</td><td>NA</td><td><span style=white-space:pre-wrap>Renewed   </span></td><td>0</td><td>auto-renewal</td><td><span style=white-space:pre-wrap>realized  </span></td><td>2020-01-30</td><td>1&amp;1 Internet</td><td>1&amp;1 Internet</td><td>15</td><td>15</td><td>1</td><td>15</td><td>15</td><td>15</td><td>fun1&amp;1 internet</td><td><span style=white-space:pre-wrap>united4     </span></td><td>ln</td><td> 7</td><td>7ln</td><td>1</td><td>2.70805</td><td> 8.65</td><td><span style=white-space:pre-wrap>united4     </span></td><td>1</td><td>1</td><td>1</td><td>EU</td></tr>\n",
       "\t<tr><td>1&amp;1 internet</td><td>Germany</td><td>FirstTime</td><td>1</td><td>2020-02-04</td><td>92827233</td><td><span style=white-space:pre-wrap>bereal.fun      </span></td><td>2019-02-04</td><td>Active</td><td>fun</td><td>1&amp;1 internet</td><td>Non China</td><td>1</td><td>NA</td><td><span style=white-space:pre-wrap>Renewed   </span></td><td>0</td><td>auto-renewal</td><td><span style=white-space:pre-wrap>realized  </span></td><td>2020-02-04</td><td>1&amp;1 Internet</td><td>1&amp;1 Internet</td><td>15</td><td>15</td><td>1</td><td>15</td><td>15</td><td>15</td><td>fun1&amp;1 internet</td><td><span style=white-space:pre-wrap>bereal      </span></td><td>l </td><td> 6</td><td>6l </td><td>1</td><td>2.70805</td><td>13.09</td><td><span style=white-space:pre-wrap>bereal      </span></td><td>1</td><td>1</td><td>1</td><td>EU</td></tr>\n",
       "\t<tr><td>1&amp;1 internet</td><td>Germany</td><td>FirstTime</td><td>1</td><td>2020-02-12</td><td>93490823</td><td>dogsoutdoors.fun</td><td>2019-02-12</td><td>Active</td><td>fun</td><td>1&amp;1 internet</td><td>Non China</td><td>1</td><td>NA</td><td>Not Renewd</td><td>0</td><td>auto-renewal</td><td>unrealized</td><td>2020-02-12</td><td>1&amp;1 Internet</td><td>1&amp;1 Internet</td><td>15</td><td>15</td><td>1</td><td>15</td><td>15</td><td>15</td><td>fun1&amp;1 internet</td><td>dogsoutdoors</td><td>l </td><td>12</td><td>12l</td><td>1</td><td>2.70805</td><td> 2.44</td><td>dogsoutdoors</td><td>1</td><td>1</td><td>1</td><td>EU</td></tr>\n",
       "\t<tr><td>1&amp;1 internet</td><td>Germany</td><td>FirstTime</td><td>1</td><td>2020-02-15</td><td>93767978</td><td><span style=white-space:pre-wrap>rosalux.fun     </span></td><td>2019-02-15</td><td>Active</td><td>fun</td><td>1&amp;1 internet</td><td>Non China</td><td>1</td><td>NA</td><td><span style=white-space:pre-wrap>Renewed   </span></td><td>0</td><td>auto-renewal</td><td><span style=white-space:pre-wrap>realized  </span></td><td>2020-02-15</td><td>1&amp;1 Internet</td><td>1&amp;1 Internet</td><td>15</td><td>15</td><td>1</td><td>15</td><td>15</td><td>15</td><td>fun1&amp;1 internet</td><td><span style=white-space:pre-wrap>rosalux     </span></td><td>l </td><td> 7</td><td>7l </td><td>1</td><td>2.70805</td><td> 2.34</td><td><span style=white-space:pre-wrap>rosalux     </span></td><td>1</td><td>1</td><td>1</td><td>EU</td></tr>\n",
       "\t<tr><td>1&amp;1 internet</td><td>Germany</td><td>FirstTime</td><td>1</td><td>2020-02-16</td><td>93823708</td><td><span style=white-space:pre-wrap>verygood.fun    </span></td><td>2019-02-16</td><td>Active</td><td>fun</td><td>1&amp;1 internet</td><td>Non China</td><td>1</td><td>NA</td><td><span style=white-space:pre-wrap>Renewed   </span></td><td>0</td><td>auto-renewal</td><td><span style=white-space:pre-wrap>realized  </span></td><td>2020-02-16</td><td>1&amp;1 Internet</td><td>1&amp;1 Internet</td><td>15</td><td>15</td><td>1</td><td>15</td><td>15</td><td>15</td><td>fun1&amp;1 internet</td><td><span style=white-space:pre-wrap>verygood    </span></td><td>l </td><td> 8</td><td>8l </td><td>1</td><td>2.70805</td><td> 3.64</td><td><span style=white-space:pre-wrap>verygood    </span></td><td>1</td><td>1</td><td>1</td><td>EU</td></tr>\n",
       "</tbody>\n",
       "</table>\n"
      ],
      "text/latex": [
       "A data.table: 6 × 40\n",
       "\\begin{tabular}{llllllllllllllllllllllllllllllllllllllll}\n",
       " reseller & reseller\\_country & renewal\\_type & renewed\\_count & expiry\\_date & domain\\_id & domain & creation\\_date & status & tld & registrar & region & reg\\_period & registrant\\_country & renewal\\_status & renew\\_mbg & renew\\_type & autorenew\\_type & renew\\_date & renew\\_registrar & renew\\_reseller & reg\\_revenue & reg\\_arpt & renew\\_period & renew\\_domain\\_revenue & renew\\_arpt & reg\\_arpt\\_org & tld\\_registrar\\_index & sld & sld\\_type & sld\\_length & sld\\_type2 & day\\_domains & log\\_reg\\_arpt & gibb\\_score & pattern & cluster & pattern\\_score & pattern\\_domain\\_count & reseller\\_geo\\\\\n",
       " <chr> & <chr> & <chr> & <int> & <date> & <int> & <chr> & <date> & <chr> & <fct> & <chr> & <chr> & <int> & <chr> & <fct> & <int> & <chr> & <chr> & <date> & <chr> & <chr> & <dbl> & <dbl> & <int> & <dbl> & <dbl> & <dbl> & <chr> & <chr> & <fct> & <int> & <chr> & <int> & <dbl> & <dbl> & <chr> & <chr> & <dbl> & <int> & <fct>\\\\\n",
       "\\hline\n",
       "\t 1\\&1 internet & Germany & FirstTime & 1 & 2020-01-21 & 91584433 & racefor.fun      & 2019-01-21 & Active & fun & 1\\&1 internet & Non China & 1 & NA & Renewed    & 0 & auto-renewal & realized   & 2020-01-21 & 1\\&1 Internet & 1\\&1 Internet & 15 & 15 & 1 & 15 & 15 & 15 & fun1\\&1 internet & racefor      & l  &  7 & 7l  & 1 & 2.70805 &  6.77 & racefor      & 1 & 1 & 1 & EU\\\\\n",
       "\t 1\\&1 internet & Germany & FirstTime & 1 & 2020-01-30 & 92254793 & united4.fun      & 2019-01-30 & Active & fun & 1\\&1 internet & Non China & 1 & NA & Renewed    & 0 & auto-renewal & realized   & 2020-01-30 & 1\\&1 Internet & 1\\&1 Internet & 15 & 15 & 1 & 15 & 15 & 15 & fun1\\&1 internet & united4      & ln &  7 & 7ln & 1 & 2.70805 &  8.65 & united4      & 1 & 1 & 1 & EU\\\\\n",
       "\t 1\\&1 internet & Germany & FirstTime & 1 & 2020-02-04 & 92827233 & bereal.fun       & 2019-02-04 & Active & fun & 1\\&1 internet & Non China & 1 & NA & Renewed    & 0 & auto-renewal & realized   & 2020-02-04 & 1\\&1 Internet & 1\\&1 Internet & 15 & 15 & 1 & 15 & 15 & 15 & fun1\\&1 internet & bereal       & l  &  6 & 6l  & 1 & 2.70805 & 13.09 & bereal       & 1 & 1 & 1 & EU\\\\\n",
       "\t 1\\&1 internet & Germany & FirstTime & 1 & 2020-02-12 & 93490823 & dogsoutdoors.fun & 2019-02-12 & Active & fun & 1\\&1 internet & Non China & 1 & NA & Not Renewd & 0 & auto-renewal & unrealized & 2020-02-12 & 1\\&1 Internet & 1\\&1 Internet & 15 & 15 & 1 & 15 & 15 & 15 & fun1\\&1 internet & dogsoutdoors & l  & 12 & 12l & 1 & 2.70805 &  2.44 & dogsoutdoors & 1 & 1 & 1 & EU\\\\\n",
       "\t 1\\&1 internet & Germany & FirstTime & 1 & 2020-02-15 & 93767978 & rosalux.fun      & 2019-02-15 & Active & fun & 1\\&1 internet & Non China & 1 & NA & Renewed    & 0 & auto-renewal & realized   & 2020-02-15 & 1\\&1 Internet & 1\\&1 Internet & 15 & 15 & 1 & 15 & 15 & 15 & fun1\\&1 internet & rosalux      & l  &  7 & 7l  & 1 & 2.70805 &  2.34 & rosalux      & 1 & 1 & 1 & EU\\\\\n",
       "\t 1\\&1 internet & Germany & FirstTime & 1 & 2020-02-16 & 93823708 & verygood.fun     & 2019-02-16 & Active & fun & 1\\&1 internet & Non China & 1 & NA & Renewed    & 0 & auto-renewal & realized   & 2020-02-16 & 1\\&1 Internet & 1\\&1 Internet & 15 & 15 & 1 & 15 & 15 & 15 & fun1\\&1 internet & verygood     & l  &  8 & 8l  & 1 & 2.70805 &  3.64 & verygood     & 1 & 1 & 1 & EU\\\\\n",
       "\\end{tabular}\n"
      ],
      "text/markdown": [
       "\n",
       "A data.table: 6 × 40\n",
       "\n",
       "| reseller &lt;chr&gt; | reseller_country &lt;chr&gt; | renewal_type &lt;chr&gt; | renewed_count &lt;int&gt; | expiry_date &lt;date&gt; | domain_id &lt;int&gt; | domain &lt;chr&gt; | creation_date &lt;date&gt; | status &lt;chr&gt; | tld &lt;fct&gt; | registrar &lt;chr&gt; | region &lt;chr&gt; | reg_period &lt;int&gt; | registrant_country &lt;chr&gt; | renewal_status &lt;fct&gt; | renew_mbg &lt;int&gt; | renew_type &lt;chr&gt; | autorenew_type &lt;chr&gt; | renew_date &lt;date&gt; | renew_registrar &lt;chr&gt; | renew_reseller &lt;chr&gt; | reg_revenue &lt;dbl&gt; | reg_arpt &lt;dbl&gt; | renew_period &lt;int&gt; | renew_domain_revenue &lt;dbl&gt; | renew_arpt &lt;dbl&gt; | reg_arpt_org &lt;dbl&gt; | tld_registrar_index &lt;chr&gt; | sld &lt;chr&gt; | sld_type &lt;fct&gt; | sld_length &lt;int&gt; | sld_type2 &lt;chr&gt; | day_domains &lt;int&gt; | log_reg_arpt &lt;dbl&gt; | gibb_score &lt;dbl&gt; | pattern &lt;chr&gt; | cluster &lt;chr&gt; | pattern_score &lt;dbl&gt; | pattern_domain_count &lt;int&gt; | reseller_geo &lt;fct&gt; |\n",
       "|---|---|---|---|---|---|---|---|---|---|---|---|---|---|---|---|---|---|---|---|---|---|---|---|---|---|---|---|---|---|---|---|---|---|---|---|---|---|---|---|\n",
       "| 1&amp;1 internet | Germany | FirstTime | 1 | 2020-01-21 | 91584433 | racefor.fun      | 2019-01-21 | Active | fun | 1&amp;1 internet | Non China | 1 | NA | Renewed    | 0 | auto-renewal | realized   | 2020-01-21 | 1&amp;1 Internet | 1&amp;1 Internet | 15 | 15 | 1 | 15 | 15 | 15 | fun1&amp;1 internet | racefor      | l  |  7 | 7l  | 1 | 2.70805 |  6.77 | racefor      | 1 | 1 | 1 | EU |\n",
       "| 1&amp;1 internet | Germany | FirstTime | 1 | 2020-01-30 | 92254793 | united4.fun      | 2019-01-30 | Active | fun | 1&amp;1 internet | Non China | 1 | NA | Renewed    | 0 | auto-renewal | realized   | 2020-01-30 | 1&amp;1 Internet | 1&amp;1 Internet | 15 | 15 | 1 | 15 | 15 | 15 | fun1&amp;1 internet | united4      | ln |  7 | 7ln | 1 | 2.70805 |  8.65 | united4      | 1 | 1 | 1 | EU |\n",
       "| 1&amp;1 internet | Germany | FirstTime | 1 | 2020-02-04 | 92827233 | bereal.fun       | 2019-02-04 | Active | fun | 1&amp;1 internet | Non China | 1 | NA | Renewed    | 0 | auto-renewal | realized   | 2020-02-04 | 1&amp;1 Internet | 1&amp;1 Internet | 15 | 15 | 1 | 15 | 15 | 15 | fun1&amp;1 internet | bereal       | l  |  6 | 6l  | 1 | 2.70805 | 13.09 | bereal       | 1 | 1 | 1 | EU |\n",
       "| 1&amp;1 internet | Germany | FirstTime | 1 | 2020-02-12 | 93490823 | dogsoutdoors.fun | 2019-02-12 | Active | fun | 1&amp;1 internet | Non China | 1 | NA | Not Renewd | 0 | auto-renewal | unrealized | 2020-02-12 | 1&amp;1 Internet | 1&amp;1 Internet | 15 | 15 | 1 | 15 | 15 | 15 | fun1&amp;1 internet | dogsoutdoors | l  | 12 | 12l | 1 | 2.70805 |  2.44 | dogsoutdoors | 1 | 1 | 1 | EU |\n",
       "| 1&amp;1 internet | Germany | FirstTime | 1 | 2020-02-15 | 93767978 | rosalux.fun      | 2019-02-15 | Active | fun | 1&amp;1 internet | Non China | 1 | NA | Renewed    | 0 | auto-renewal | realized   | 2020-02-15 | 1&amp;1 Internet | 1&amp;1 Internet | 15 | 15 | 1 | 15 | 15 | 15 | fun1&amp;1 internet | rosalux      | l  |  7 | 7l  | 1 | 2.70805 |  2.34 | rosalux      | 1 | 1 | 1 | EU |\n",
       "| 1&amp;1 internet | Germany | FirstTime | 1 | 2020-02-16 | 93823708 | verygood.fun     | 2019-02-16 | Active | fun | 1&amp;1 internet | Non China | 1 | NA | Renewed    | 0 | auto-renewal | realized   | 2020-02-16 | 1&amp;1 Internet | 1&amp;1 Internet | 15 | 15 | 1 | 15 | 15 | 15 | fun1&amp;1 internet | verygood     | l  |  8 | 8l  | 1 | 2.70805 |  3.64 | verygood     | 1 | 1 | 1 | EU |\n",
       "\n"
      ],
      "text/plain": [
       "  reseller     reseller_country renewal_type renewed_count expiry_date\n",
       "1 1&1 internet Germany          FirstTime    1             2020-01-21 \n",
       "2 1&1 internet Germany          FirstTime    1             2020-01-30 \n",
       "3 1&1 internet Germany          FirstTime    1             2020-02-04 \n",
       "4 1&1 internet Germany          FirstTime    1             2020-02-12 \n",
       "5 1&1 internet Germany          FirstTime    1             2020-02-15 \n",
       "6 1&1 internet Germany          FirstTime    1             2020-02-16 \n",
       "  domain_id domain           creation_date status tld registrar    region   \n",
       "1 91584433  racefor.fun      2019-01-21    Active fun 1&1 internet Non China\n",
       "2 92254793  united4.fun      2019-01-30    Active fun 1&1 internet Non China\n",
       "3 92827233  bereal.fun       2019-02-04    Active fun 1&1 internet Non China\n",
       "4 93490823  dogsoutdoors.fun 2019-02-12    Active fun 1&1 internet Non China\n",
       "5 93767978  rosalux.fun      2019-02-15    Active fun 1&1 internet Non China\n",
       "6 93823708  verygood.fun     2019-02-16    Active fun 1&1 internet Non China\n",
       "  reg_period registrant_country renewal_status renew_mbg renew_type  \n",
       "1 1          NA                 Renewed        0         auto-renewal\n",
       "2 1          NA                 Renewed        0         auto-renewal\n",
       "3 1          NA                 Renewed        0         auto-renewal\n",
       "4 1          NA                 Not Renewd     0         auto-renewal\n",
       "5 1          NA                 Renewed        0         auto-renewal\n",
       "6 1          NA                 Renewed        0         auto-renewal\n",
       "  autorenew_type renew_date renew_registrar renew_reseller reg_revenue reg_arpt\n",
       "1 realized       2020-01-21 1&1 Internet    1&1 Internet   15          15      \n",
       "2 realized       2020-01-30 1&1 Internet    1&1 Internet   15          15      \n",
       "3 realized       2020-02-04 1&1 Internet    1&1 Internet   15          15      \n",
       "4 unrealized     2020-02-12 1&1 Internet    1&1 Internet   15          15      \n",
       "5 realized       2020-02-15 1&1 Internet    1&1 Internet   15          15      \n",
       "6 realized       2020-02-16 1&1 Internet    1&1 Internet   15          15      \n",
       "  renew_period renew_domain_revenue renew_arpt reg_arpt_org tld_registrar_index\n",
       "1 1            15                   15         15           fun1&1 internet    \n",
       "2 1            15                   15         15           fun1&1 internet    \n",
       "3 1            15                   15         15           fun1&1 internet    \n",
       "4 1            15                   15         15           fun1&1 internet    \n",
       "5 1            15                   15         15           fun1&1 internet    \n",
       "6 1            15                   15         15           fun1&1 internet    \n",
       "  sld          sld_type sld_length sld_type2 day_domains log_reg_arpt\n",
       "1 racefor      l         7         7l        1           2.70805     \n",
       "2 united4      ln        7         7ln       1           2.70805     \n",
       "3 bereal       l         6         6l        1           2.70805     \n",
       "4 dogsoutdoors l        12         12l       1           2.70805     \n",
       "5 rosalux      l         7         7l        1           2.70805     \n",
       "6 verygood     l         8         8l        1           2.70805     \n",
       "  gibb_score pattern      cluster pattern_score pattern_domain_count\n",
       "1  6.77      racefor      1       1             1                   \n",
       "2  8.65      united4      1       1             1                   \n",
       "3 13.09      bereal       1       1             1                   \n",
       "4  2.44      dogsoutdoors 1       1             1                   \n",
       "5  2.34      rosalux      1       1             1                   \n",
       "6  3.64      verygood     1       1             1                   \n",
       "  reseller_geo\n",
       "1 EU          \n",
       "2 EU          \n",
       "3 EU          \n",
       "4 EU          \n",
       "5 EU          \n",
       "6 EU          "
      ]
     },
     "metadata": {},
     "output_type": "display_data"
    }
   ],
   "source": [
    "# ewnsure correct number of dimm\n",
    "dim(expiry_train_df_1)\n",
    "expiry_train_df_2 <- merge(expiry_train_df_1,geoLookupDF,on=c('reseller','reseller_country'), all.x = TRUE)\n",
    "dim(expiry_train_df_2)\n",
    "head(expiry_train_df_2)\n"
   ]
  },
  {
   "cell_type": "code",
   "execution_count": 13,
   "metadata": {},
   "outputs": [],
   "source": [
    "# replace original\n",
    "expiry_train_df_1 <- expiry_train_df_2"
   ]
  },
  {
   "cell_type": "code",
   "execution_count": 14,
   "metadata": {},
   "outputs": [
    {
     "data": {
      "text/html": [
       "<table>\n",
       "<caption>A data.table: 13 × 1</caption>\n",
       "<thead>\n",
       "\t<tr><th scope=col>reseller</th></tr>\n",
       "\t<tr><th scope=col>&lt;chr&gt;</th></tr>\n",
       "</thead>\n",
       "<tbody>\n",
       "\t<tr><td>anygaming        </td></tr>\n",
       "\t<tr><td>electron networks</td></tr>\n",
       "\t<tr><td>innovadeus       </td></tr>\n",
       "\t<tr><td>innovadeus       </td></tr>\n",
       "\t<tr><td>netclues         </td></tr>\n",
       "\t<tr><td>ownregistrar     </td></tr>\n",
       "\t<tr><td>ownregistrar     </td></tr>\n",
       "\t<tr><td>ownregistrar     </td></tr>\n",
       "\t<tr><td>ownregistrar     </td></tr>\n",
       "\t<tr><td>tucows           </td></tr>\n",
       "\t<tr><td>tucows           </td></tr>\n",
       "\t<tr><td>virtua drug      </td></tr>\n",
       "\t<tr><td>virtua drug      </td></tr>\n",
       "</tbody>\n",
       "</table>\n"
      ],
      "text/latex": [
       "A data.table: 13 × 1\n",
       "\\begin{tabular}{l}\n",
       " reseller\\\\\n",
       " <chr>\\\\\n",
       "\\hline\n",
       "\t anygaming        \\\\\n",
       "\t electron networks\\\\\n",
       "\t innovadeus       \\\\\n",
       "\t innovadeus       \\\\\n",
       "\t netclues         \\\\\n",
       "\t ownregistrar     \\\\\n",
       "\t ownregistrar     \\\\\n",
       "\t ownregistrar     \\\\\n",
       "\t ownregistrar     \\\\\n",
       "\t tucows           \\\\\n",
       "\t tucows           \\\\\n",
       "\t virtua drug      \\\\\n",
       "\t virtua drug      \\\\\n",
       "\\end{tabular}\n"
      ],
      "text/markdown": [
       "\n",
       "A data.table: 13 × 1\n",
       "\n",
       "| reseller &lt;chr&gt; |\n",
       "|---|\n",
       "| anygaming         |\n",
       "| electron networks |\n",
       "| innovadeus        |\n",
       "| innovadeus        |\n",
       "| netclues          |\n",
       "| ownregistrar      |\n",
       "| ownregistrar      |\n",
       "| ownregistrar      |\n",
       "| ownregistrar      |\n",
       "| tucows            |\n",
       "| tucows            |\n",
       "| virtua drug       |\n",
       "| virtua drug       |\n",
       "\n"
      ],
      "text/plain": [
       "   reseller         \n",
       "1  anygaming        \n",
       "2  electron networks\n",
       "3  innovadeus       \n",
       "4  innovadeus       \n",
       "5  netclues         \n",
       "6  ownregistrar     \n",
       "7  ownregistrar     \n",
       "8  ownregistrar     \n",
       "9  ownregistrar     \n",
       "10 tucows           \n",
       "11 tucows           \n",
       "12 virtua drug      \n",
       "13 virtua drug      "
      ]
     },
     "metadata": {},
     "output_type": "display_data"
    }
   ],
   "source": [
    "expiry_train_df_1 %>% filter(reseller_country=='') %>% select(reseller)"
   ]
  },
  {
   "cell_type": "code",
   "execution_count": 15,
   "metadata": {},
   "outputs": [
    {
     "name": "stderr",
     "output_type": "stream",
     "text": [
      "`summarise()` ungrouping output (override with `.groups` argument)\n",
      "\n"
     ]
    },
    {
     "data": {
      "text/html": [
       "<table>\n",
       "<caption>A tibble: 27 × 3</caption>\n",
       "<thead>\n",
       "\t<tr><th scope=col>tld_registrar_index</th><th scope=col>u_cntry</th><th scope=col>u_geo</th></tr>\n",
       "\t<tr><th scope=col>&lt;chr&gt;</th><th scope=col>&lt;int&gt;</th><th scope=col>&lt;int&gt;</th></tr>\n",
       "</thead>\n",
       "<tbody>\n",
       "\t<tr><td>funkey-systems    </td><td>2</td><td>2</td></tr>\n",
       "\t<tr><td>funtucows         </td><td>2</td><td>2</td></tr>\n",
       "\t<tr><td>onlineinnovadeus  </td><td>2</td><td>1</td></tr>\n",
       "\t<tr><td>onlinekey-systems </td><td>2</td><td>2</td></tr>\n",
       "\t<tr><td>onlineownregistrar</td><td>2</td><td>2</td></tr>\n",
       "\t<tr><td>onlineshopify     </td><td>2</td><td>2</td></tr>\n",
       "\t<tr><td>onlinetucows      </td><td>2</td><td>2</td></tr>\n",
       "\t<tr><td>onlineuk2         </td><td>2</td><td>2</td></tr>\n",
       "\t<tr><td>presskey-systems  </td><td>2</td><td>2</td></tr>\n",
       "\t<tr><td>presspdr ltd      </td><td>2</td><td>2</td></tr>\n",
       "\t<tr><td>pwpdr ltd         </td><td>2</td><td>2</td></tr>\n",
       "\t<tr><td>sitekey-systems   </td><td>2</td><td>2</td></tr>\n",
       "\t<tr><td>sitetucows        </td><td>2</td><td>2</td></tr>\n",
       "\t<tr><td>siteuk2           </td><td>2</td><td>2</td></tr>\n",
       "\t<tr><td>spacealpnames     </td><td>2</td><td>1</td></tr>\n",
       "\t<tr><td>spacepdr ltd      </td><td>2</td><td>2</td></tr>\n",
       "\t<tr><td>spaceshopify      </td><td>2</td><td>2</td></tr>\n",
       "\t<tr><td>spacetucows       </td><td>2</td><td>2</td></tr>\n",
       "\t<tr><td>spaceuk2          </td><td>2</td><td>2</td></tr>\n",
       "\t<tr><td>spacewhois        </td><td>2</td><td>2</td></tr>\n",
       "\t<tr><td>storetucows       </td><td>2</td><td>2</td></tr>\n",
       "\t<tr><td>storeuk2          </td><td>2</td><td>2</td></tr>\n",
       "\t<tr><td>techkey-systems   </td><td>2</td><td>2</td></tr>\n",
       "\t<tr><td>techtucows        </td><td>3</td><td>2</td></tr>\n",
       "\t<tr><td>websitetucows     </td><td>3</td><td>2</td></tr>\n",
       "\t<tr><td>websiteuk2        </td><td>2</td><td>2</td></tr>\n",
       "\t<tr><td>websitewhois      </td><td>2</td><td>2</td></tr>\n",
       "</tbody>\n",
       "</table>\n"
      ],
      "text/latex": [
       "A tibble: 27 × 3\n",
       "\\begin{tabular}{lll}\n",
       " tld\\_registrar\\_index & u\\_cntry & u\\_geo\\\\\n",
       " <chr> & <int> & <int>\\\\\n",
       "\\hline\n",
       "\t funkey-systems     & 2 & 2\\\\\n",
       "\t funtucows          & 2 & 2\\\\\n",
       "\t onlineinnovadeus   & 2 & 1\\\\\n",
       "\t onlinekey-systems  & 2 & 2\\\\\n",
       "\t onlineownregistrar & 2 & 2\\\\\n",
       "\t onlineshopify      & 2 & 2\\\\\n",
       "\t onlinetucows       & 2 & 2\\\\\n",
       "\t onlineuk2          & 2 & 2\\\\\n",
       "\t presskey-systems   & 2 & 2\\\\\n",
       "\t presspdr ltd       & 2 & 2\\\\\n",
       "\t pwpdr ltd          & 2 & 2\\\\\n",
       "\t sitekey-systems    & 2 & 2\\\\\n",
       "\t sitetucows         & 2 & 2\\\\\n",
       "\t siteuk2            & 2 & 2\\\\\n",
       "\t spacealpnames      & 2 & 1\\\\\n",
       "\t spacepdr ltd       & 2 & 2\\\\\n",
       "\t spaceshopify       & 2 & 2\\\\\n",
       "\t spacetucows        & 2 & 2\\\\\n",
       "\t spaceuk2           & 2 & 2\\\\\n",
       "\t spacewhois         & 2 & 2\\\\\n",
       "\t storetucows        & 2 & 2\\\\\n",
       "\t storeuk2           & 2 & 2\\\\\n",
       "\t techkey-systems    & 2 & 2\\\\\n",
       "\t techtucows         & 3 & 2\\\\\n",
       "\t websitetucows      & 3 & 2\\\\\n",
       "\t websiteuk2         & 2 & 2\\\\\n",
       "\t websitewhois       & 2 & 2\\\\\n",
       "\\end{tabular}\n"
      ],
      "text/markdown": [
       "\n",
       "A tibble: 27 × 3\n",
       "\n",
       "| tld_registrar_index &lt;chr&gt; | u_cntry &lt;int&gt; | u_geo &lt;int&gt; |\n",
       "|---|---|---|\n",
       "| funkey-systems     | 2 | 2 |\n",
       "| funtucows          | 2 | 2 |\n",
       "| onlineinnovadeus   | 2 | 1 |\n",
       "| onlinekey-systems  | 2 | 2 |\n",
       "| onlineownregistrar | 2 | 2 |\n",
       "| onlineshopify      | 2 | 2 |\n",
       "| onlinetucows       | 2 | 2 |\n",
       "| onlineuk2          | 2 | 2 |\n",
       "| presskey-systems   | 2 | 2 |\n",
       "| presspdr ltd       | 2 | 2 |\n",
       "| pwpdr ltd          | 2 | 2 |\n",
       "| sitekey-systems    | 2 | 2 |\n",
       "| sitetucows         | 2 | 2 |\n",
       "| siteuk2            | 2 | 2 |\n",
       "| spacealpnames      | 2 | 1 |\n",
       "| spacepdr ltd       | 2 | 2 |\n",
       "| spaceshopify       | 2 | 2 |\n",
       "| spacetucows        | 2 | 2 |\n",
       "| spaceuk2           | 2 | 2 |\n",
       "| spacewhois         | 2 | 2 |\n",
       "| storetucows        | 2 | 2 |\n",
       "| storeuk2           | 2 | 2 |\n",
       "| techkey-systems    | 2 | 2 |\n",
       "| techtucows         | 3 | 2 |\n",
       "| websitetucows      | 3 | 2 |\n",
       "| websiteuk2         | 2 | 2 |\n",
       "| websitewhois       | 2 | 2 |\n",
       "\n"
      ],
      "text/plain": [
       "   tld_registrar_index u_cntry u_geo\n",
       "1  funkey-systems      2       2    \n",
       "2  funtucows           2       2    \n",
       "3  onlineinnovadeus    2       1    \n",
       "4  onlinekey-systems   2       2    \n",
       "5  onlineownregistrar  2       2    \n",
       "6  onlineshopify       2       2    \n",
       "7  onlinetucows        2       2    \n",
       "8  onlineuk2           2       2    \n",
       "9  presskey-systems    2       2    \n",
       "10 presspdr ltd        2       2    \n",
       "11 pwpdr ltd           2       2    \n",
       "12 sitekey-systems     2       2    \n",
       "13 sitetucows          2       2    \n",
       "14 siteuk2             2       2    \n",
       "15 spacealpnames       2       1    \n",
       "16 spacepdr ltd        2       2    \n",
       "17 spaceshopify        2       2    \n",
       "18 spacetucows         2       2    \n",
       "19 spaceuk2            2       2    \n",
       "20 spacewhois          2       2    \n",
       "21 storetucows         2       2    \n",
       "22 storeuk2            2       2    \n",
       "23 techkey-systems     2       2    \n",
       "24 techtucows          3       2    \n",
       "25 websitetucows       3       2    \n",
       "26 websiteuk2          2       2    \n",
       "27 websitewhois        2       2    "
      ]
     },
     "metadata": {},
     "output_type": "display_data"
    }
   ],
   "source": [
    "# number of unique reseller_country and reseller_geo for eachtld_registrar_index\n",
    "expiry_train_df_1 %>%\n",
    "  group_by(tld_registrar_index) %>%\n",
    "  summarise(u_cntry = n_distinct(reseller_country),\n",
    "         u_geo = n_distinct(reseller_geo))  %>%\n",
    "  filter(u_cntry>1)"
   ]
  },
  {
   "cell_type": "markdown",
   "metadata": {},
   "source": [
    "## Feature Engineering for tld-reseller level "
   ]
  },
  {
   "cell_type": "code",
   "execution_count": 16,
   "metadata": {},
   "outputs": [
    {
     "name": "stderr",
     "output_type": "stream",
     "text": [
      "`summarise()` regrouping output by 'tld_registrar_index' (override with `.groups` argument)\n",
      "\n"
     ]
    }
   ],
   "source": [
    "# new geo level feature eng\n",
    "geo_maj = expiry_train_df_1 %>%\n",
    "  add_count(tld_registrar_index, reseller_geo) %>%\n",
    "  group_by(tld_registrar_index) %>%\n",
    "  mutate(geo_maj = reseller_geo[n == max(n)][1]) %>%\n",
    "  select(-n) %>% \n",
    "  group_by(tld_registrar_index,geo_maj) %>%\n",
    "    summarise(n = n()) %>% \n",
    "    arrange(desc(n)) %>%\n",
    "    pull(geo_maj)"
   ]
  },
  {
   "cell_type": "code",
   "execution_count": 17,
   "metadata": {},
   "outputs": [
    {
     "name": "stderr",
     "output_type": "stream",
     "text": [
      "`summarise()` ungrouping output (override with `.groups` argument)\n",
      "\n"
     ]
    }
   ],
   "source": [
    "# new geo level feature eng\n",
    "geo_cnt = expiry_train_df_1 %>%\n",
    "  add_count(tld_registrar_index, reseller_geo) %>%\n",
    "  group_by(tld_registrar_index) %>%\n",
    "  summarise(geo_cnt = n_distinct(reseller_geo)) %>%\n",
    "  pull(geo_cnt)  "
   ]
  },
  {
   "cell_type": "code",
   "execution_count": 18,
   "metadata": {},
   "outputs": [],
   "source": [
    "count_pct <- function(df) {\n",
    "  return(\n",
    "    df %>%\n",
    "      tally %>% \n",
    "      mutate(n_prp = n/sum(n))\n",
    "  )\n",
    "}"
   ]
  },
  {
   "cell_type": "code",
   "execution_count": 19,
   "metadata": {},
   "outputs": [],
   "source": [
    "tld_reseller_names = expiry_train_df_1 %>% \n",
    "    group_by(tld_registrar_index) %>% \n",
    "    count_pct %>%\n",
    "    arrange(desc(n)) %>% \n",
    "   pull(tld_registrar_index)"
   ]
  },
  {
   "cell_type": "code",
   "execution_count": 20,
   "metadata": {},
   "outputs": [],
   "source": [
    "count_obs = expiry_train_df_1 %>% \n",
    "    group_by(tld_registrar_index) %>% \n",
    "    count_pct %>%\n",
    "    arrange(desc(n)) %>% \n",
    "    pull(n)"
   ]
  },
  {
   "cell_type": "code",
   "execution_count": 21,
   "metadata": {},
   "outputs": [
    {
     "name": "stderr",
     "output_type": "stream",
     "text": [
      "`summarise()` ungrouping output (override with `.groups` argument)\n",
      "\n"
     ]
    }
   ],
   "source": [
    "ren_prp = expiry_train_df_1 %>% \n",
    "    group_by(tld_registrar_index) %>% \n",
    "    summarise(n = n(), ren_prp = sum(renewal_status=='Renewed')/sum(n))  %>% \n",
    "    arrange(desc(n)) %>% \n",
    "    pull(ren_prp)"
   ]
  },
  {
   "cell_type": "code",
   "execution_count": 22,
   "metadata": {},
   "outputs": [
    {
     "name": "stderr",
     "output_type": "stream",
     "text": [
      "`summarise()` ungrouping output (override with `.groups` argument)\n",
      "\n"
     ]
    }
   ],
   "source": [
    "# not informative -- tld_cnt always = 1 so tld_rat is ismply mult.inverse of count_obs\n",
    "tld_rat = expiry_train_df_1 %>%\n",
    "    group_by(tld_registrar_index) %>% \n",
    "    summarise(n = n(), tld_cnt = n_distinct(tld), tld_rat = tld_cnt/n) %>% \n",
    "    arrange(desc(n)) %>%\n",
    "    pull(tld_rat)"
   ]
  },
  {
   "cell_type": "code",
   "execution_count": 23,
   "metadata": {},
   "outputs": [
    {
     "name": "stderr",
     "output_type": "stream",
     "text": [
      "`summarise()` regrouping output by 'tld_registrar_index' (override with `.groups` argument)\n",
      "\n"
     ]
    }
   ],
   "source": [
    "country_maj = expiry_train_df_1 %>%\n",
    "  add_count(tld_registrar_index, reseller_country) %>%\n",
    "  group_by(tld_registrar_index) %>%\n",
    "  mutate(reseller_country_maj = reseller_country[n == max(n)][1]) %>%\n",
    "  select(-n) %>% \n",
    "  group_by(tld_registrar_index,reseller_country_maj) %>%\n",
    "    summarise(n = n()) %>% \n",
    "    arrange(desc(n)) %>%\n",
    "    pull(reseller_country_maj)"
   ]
  },
  {
   "cell_type": "code",
   "execution_count": 24,
   "metadata": {},
   "outputs": [
    {
     "name": "stderr",
     "output_type": "stream",
     "text": [
      "`summarise()` ungrouping output (override with `.groups` argument)\n",
      "\n"
     ]
    }
   ],
   "source": [
    "country_cnt = expiry_train_df_1 %>%\n",
    "  add_count(tld_registrar_index, reseller_country) %>%\n",
    "  group_by(tld_registrar_index) %>%\n",
    "  summarise(reseller_country_cnt = n_distinct(reseller_country)) %>%\n",
    "  pull(reseller_country_cnt)  "
   ]
  },
  {
   "cell_type": "code",
   "execution_count": 25,
   "metadata": {},
   "outputs": [
    {
     "name": "stderr",
     "output_type": "stream",
     "text": [
      "`summarise()` regrouping output by 'tld_registrar_index' (override with `.groups` argument)\n",
      "\n"
     ]
    }
   ],
   "source": [
    "region_maj = expiry_train_df_1 %>%\n",
    "  add_count(tld_registrar_index, region) %>%\n",
    "  group_by(tld_registrar_index) %>%\n",
    "  mutate(region_maj = region[n == max(n)][1]) %>%\n",
    "  select(-n) %>% \n",
    "  group_by(tld_registrar_index,region_maj) %>%\n",
    "    summarise(n = n()) %>% \n",
    "    arrange(desc(n)) %>%\n",
    "    pull(region_maj)"
   ]
  },
  {
   "cell_type": "code",
   "execution_count": 26,
   "metadata": {},
   "outputs": [
    {
     "name": "stderr",
     "output_type": "stream",
     "text": [
      "`summarise()` ungrouping output (override with `.groups` argument)\n",
      "\n"
     ]
    }
   ],
   "source": [
    "region_cnt = expiry_train_df_1 %>%\n",
    "  add_count(tld_registrar_index, region) %>%\n",
    "  group_by(tld_registrar_index) %>%\n",
    "  summarise(reseller_region_cnt = n_distinct(reseller_country)) %>%\n",
    "  pull(reseller_region_cnt)  "
   ]
  },
  {
   "cell_type": "code",
   "execution_count": 27,
   "metadata": {},
   "outputs": [
    {
     "name": "stderr",
     "output_type": "stream",
     "text": [
      "`summarise()` ungrouping output (override with `.groups` argument)\n",
      "\n"
     ]
    }
   ],
   "source": [
    "daydom_stats = expiry_train_df_1 %>%\n",
    "    group_by(tld_registrar_index) %>% \n",
    "    summarise(n = n(), \n",
    "              daydom_min = min(day_domains), \n",
    "              daydom_max = max(day_domains), \n",
    "              daydom_mean = mean(day_domains, na.rm = TRUE), \n",
    "              daydom_rng = daydom_max - daydom_min, \n",
    "              daydom_std = sd(day_domains, na.rm = TRUE), \n",
    "              daydom_skew = skewness(day_domains, na.rm = TRUE), \n",
    "              daydom_kurt = kurtosis(day_domains, na.rm = TRUE)) %>% \n",
    "    arrange(desc(n)) \n",
    "\n",
    "daydom_min <- daydom_stats %>% pull(daydom_min)\n",
    "daydom_max <- daydom_stats %>% pull(daydom_max)\n",
    "daydom_mean <- daydom_stats %>% pull(daydom_mean)\n",
    "daydom_rng <- daydom_stats %>% pull(daydom_rng)\n",
    "daydom_std <- daydom_stats %>% pull(daydom_std)\n",
    "daydom_skew <- daydom_stats %>% pull(daydom_skew)\n",
    "daydom_kurt <- daydom_stats %>% pull(daydom_kurt)\n",
    "\n"
   ]
  },
  {
   "cell_type": "code",
   "execution_count": 28,
   "metadata": {},
   "outputs": [
    {
     "name": "stderr",
     "output_type": "stream",
     "text": [
      "`summarise()` ungrouping output (override with `.groups` argument)\n",
      "\n"
     ]
    }
   ],
   "source": [
    "sldlen_stats = expiry_train_df_1 %>%\n",
    "    group_by(tld_registrar_index) %>% \n",
    "    summarise(n = n(), \n",
    "              min = min(sld_length), \n",
    "              max = max(sld_length), \n",
    "              mean = mean(sld_length, na.rm = TRUE), \n",
    "              rng = max - min, \n",
    "              std = sd(sld_length, na.rm = TRUE), \n",
    "              skew = skewness(sld_length, na.rm = TRUE), \n",
    "              kurt = kurtosis(sld_length, na.rm = TRUE)) %>% \n",
    "    arrange(desc(n)) \n",
    "\n",
    "sldlen_min <- sldlen_stats %>% pull(min)\n",
    "sldlen_max <- sldlen_stats %>% pull(max)\n",
    "sldlen_mean <- sldlen_stats %>% pull(mean)\n",
    "sldlen_rng <- sldlen_stats %>% pull(rng)\n",
    "sldlen_std <- sldlen_stats %>% pull(std)\n",
    "sldlen_skew <- sldlen_stats %>% pull(skew)\n",
    "sldlen_kurt <- sldlen_stats %>% pull(kurt)\n",
    "\n"
   ]
  },
  {
   "cell_type": "code",
   "execution_count": 29,
   "metadata": {},
   "outputs": [
    {
     "name": "stderr",
     "output_type": "stream",
     "text": [
      "`summarise()` ungrouping output (override with `.groups` argument)\n",
      "\n"
     ]
    }
   ],
   "source": [
    "gibbs_stats = expiry_train_df_1 %>%\n",
    "    group_by(tld_registrar_index) %>% \n",
    "    summarise(n = n(), \n",
    "              min = min(gibb_score), \n",
    "              max = max(gibb_score), \n",
    "              mean = mean(gibb_score, na.rm = TRUE), \n",
    "              rng = max - min, \n",
    "              std = sd(gibb_score, na.rm = TRUE), \n",
    "              skew = skewness(gibb_score, na.rm = TRUE), \n",
    "              kurt = kurtosis(gibb_score, na.rm = TRUE)) %>% \n",
    "    arrange(desc(n)) \n",
    "\n",
    "gibbs_min <- gibbs_stats %>% pull(min)\n",
    "gibbs_max <- gibbs_stats %>% pull(max)\n",
    "gibbs_mean <- gibbs_stats %>% pull(mean)\n",
    "gibbs_rng <- gibbs_stats %>% pull(rng)\n",
    "gibbs_std <- gibbs_stats %>% pull(std)\n",
    "gibbs_skew <- gibbs_stats %>% pull(skew)\n",
    "gibbs_kurt <- gibbs_stats %>% pull(kurt)\n"
   ]
  },
  {
   "cell_type": "code",
   "execution_count": 30,
   "metadata": {},
   "outputs": [
    {
     "name": "stderr",
     "output_type": "stream",
     "text": [
      "`summarise()` ungrouping output (override with `.groups` argument)\n",
      "\n"
     ]
    }
   ],
   "source": [
    "pdcnt_stats = expiry_train_df_1 %>%\n",
    "    group_by(tld_registrar_index) %>% \n",
    "    summarise(n = n(), \n",
    "              min = min(pattern_domain_count), \n",
    "              max = max(pattern_domain_count), \n",
    "              mean = mean(pattern_domain_count, na.rm = TRUE), \n",
    "              rng = max - min, \n",
    "              std = sd(pattern_domain_count, na.rm = TRUE), \n",
    "              skew = skewness(pattern_domain_count, na.rm = TRUE), \n",
    "              kurt = kurtosis(pattern_domain_count, na.rm = TRUE)) %>% \n",
    "    arrange(desc(n)) \n",
    "\n",
    "pdcnt_min <- pdcnt_stats %>% pull(min)\n",
    "pdcnt_max <- pdcnt_stats %>% pull(max)\n",
    "pdcnt_mean <- pdcnt_stats %>% pull(mean)\n",
    "pdcnt_rng <- pdcnt_stats %>% pull(rng)\n",
    "pdcnt_std <- pdcnt_stats %>% pull(std)\n",
    "pdcnt_skew <- pdcnt_stats %>% pull(skew)\n",
    "pdcnt_kurt <- pdcnt_stats %>% pull(kurt)"
   ]
  },
  {
   "cell_type": "code",
   "execution_count": 31,
   "metadata": {},
   "outputs": [
    {
     "name": "stderr",
     "output_type": "stream",
     "text": [
      "`summarise()` ungrouping output (override with `.groups` argument)\n",
      "\n"
     ]
    }
   ],
   "source": [
    "rarpt_stats = expiry_train_df_1 %>%\n",
    "    group_by(tld_registrar_index) %>% \n",
    "    summarise(n = n(), \n",
    "              min = min(reg_arpt), \n",
    "              max = max(reg_arpt), \n",
    "              mean = mean(reg_arpt, na.rm = TRUE), \n",
    "              rng = max - min, \n",
    "              std = sd(reg_arpt, na.rm = TRUE), \n",
    "              skew = skewness(reg_arpt, na.rm = TRUE), \n",
    "              kurt = kurtosis(reg_arpt, na.rm = TRUE)) %>% \n",
    "    arrange(desc(n)) \n",
    "\n",
    "rarpt_min <- rarpt_stats %>% pull(min)\n",
    "rarpt_max <- rarpt_stats %>% pull(max)\n",
    "rarpt_mean <- rarpt_stats %>% pull(mean)\n",
    "rarpt_rng <- rarpt_stats %>% pull(rng)\n",
    "rarpt_std <- rarpt_stats %>% pull(std)\n",
    "rarpt_skew <- rarpt_stats %>% pull(skew)\n",
    "rarpt_kurt <- rarpt_stats %>% pull(kurt)"
   ]
  },
  {
   "cell_type": "markdown",
   "metadata": {},
   "source": [
    "## Add tld_reseller level feature engineering"
   ]
  },
  {
   "cell_type": "code",
   "execution_count": 32,
   "metadata": {},
   "outputs": [],
   "source": [
    "metrics_df = metrics_df %>% \n",
    "    mutate(tld_reseller = tld_reseller_names,\n",
    "            count = count_obs,\n",
    "            ren_prp = ren_prp,\n",
    "            tld_rat = tld_rat,\n",
    "            country_maj = country_maj,\n",
    "            region_maj = region_maj,\n",
    "            country_cnt = country_cnt,\n",
    "            region_cnt = region_cnt,\n",
    "            geo_cnt = geo_cnt,\n",
    "            geo_maj = geo_maj,\n",
    "\n",
    "            daydom_min = daydom_min,\n",
    "            daydom_max = daydom_max,\n",
    "            daydom_mean = daydom_mean,\n",
    "            daydom_rng = daydom_rng,\n",
    "            daydom_std = daydom_std,\n",
    "            daydom_skew = daydom_skew,\n",
    "            daydom_kurt = daydom_kurt,\n",
    "\n",
    "            sldlen_min = sldlen_min,\n",
    "            sldlen_max = sldlen_max,\n",
    "            sldlen_mean = sldlen_mean,\n",
    "            sldlen_rng = sldlen_rng,\n",
    "            sldlen_std = sldlen_std,\n",
    "            sldlen_skew = sldlen_skew,\n",
    "            sldlen_kurt = sldlen_kurt,\n",
    "\n",
    "            gibbs_min = gibbs_min,\n",
    "            gibbs_max = gibbs_max,\n",
    "            gibbs_mean = gibbs_mean,\n",
    "            gibbs_rng = gibbs_rng,\n",
    "            gibbs_std = gibbs_std,\n",
    "            gibbs_skew = gibbs_skew,\n",
    "            gibbs_kurt = gibbs_kurt,\n",
    "\n",
    "            pdcnt_min = pdcnt_min,\n",
    "            pdcnt_max = pdcnt_max,\n",
    "            pdcnt_mean = pdcnt_mean,\n",
    "            pdcnt_rng = pdcnt_rng,\n",
    "            pdcnt_std = pdcnt_std,\n",
    "            pdcnt_skew = pdcnt_skew,\n",
    "            pdcnt_kurt = pdcnt_kurt,\n",
    "\n",
    "            rarpt_min = rarpt_min,\n",
    "            rarpt_max = rarpt_max,\n",
    "            rarpt_mean = rarpt_mean,\n",
    "            rarpt_rng = rarpt_rng,\n",
    "            rarpt_std = rarpt_std,\n",
    "            rarpt_skew = rarpt_skew,\n",
    "            rarpt_kurt = rarpt_kurt)"
   ]
  },
  {
   "cell_type": "code",
   "execution_count": 33,
   "metadata": {},
   "outputs": [
    {
     "data": {
      "text/html": [
       "<style>\n",
       ".list-inline {list-style: none; margin:0; padding: 0}\n",
       ".list-inline>li {display: inline-block}\n",
       ".list-inline>li:not(:last-child)::after {content: \"\\00b7\"; padding: 0 .5ex}\n",
       "</style>\n",
       "<ol class=list-inline><li>1723</li><li>60</li></ol>\n"
      ],
      "text/latex": [
       "\\begin{enumerate*}\n",
       "\\item 1723\n",
       "\\item 60\n",
       "\\end{enumerate*}\n"
      ],
      "text/markdown": [
       "1. 1723\n",
       "2. 60\n",
       "\n",
       "\n"
      ],
      "text/plain": [
       "[1] 1723   60"
      ]
     },
     "metadata": {},
     "output_type": "display_data"
    },
    {
     "data": {
      "text/html": [
       "<table>\n",
       "<caption>A data.frame: 6 × 60</caption>\n",
       "<thead>\n",
       "\t<tr><th></th><th scope=col>tld_registrar_index</th><th scope=col>reseller</th><th scope=col>n</th><th scope=col>l10_seg2_glm</th><th scope=col>l10_seg_glm</th><th scope=col>l10_agg_glm</th><th scope=col>l10_seg2_rf</th><th scope=col>l10_seg_rf</th><th scope=col>l10_agg_rf</th><th scope=col>auc_seg2_glm</th><th scope=col>auc_seg_glm</th><th scope=col>auc_agg_glm</th><th scope=col>auc_seg2_rf</th><th scope=col>auc_seg_rf</th><th scope=col>auc_agg_rf</th><th scope=col>tld_reseller</th><th scope=col>count</th><th scope=col>ren_prp</th><th scope=col>tld_rat</th><th scope=col>country_maj</th><th scope=col>region_maj</th><th scope=col>country_cnt</th><th scope=col>region_cnt</th><th scope=col>geo_cnt</th><th scope=col>geo_maj</th><th scope=col>⋯</th><th scope=col>sldlen_rng</th><th scope=col>sldlen_std</th><th scope=col>sldlen_skew</th><th scope=col>sldlen_kurt</th><th scope=col>gibbs_min</th><th scope=col>gibbs_max</th><th scope=col>gibbs_mean</th><th scope=col>gibbs_rng</th><th scope=col>gibbs_std</th><th scope=col>gibbs_skew</th><th scope=col>gibbs_kurt</th><th scope=col>pdcnt_min</th><th scope=col>pdcnt_max</th><th scope=col>pdcnt_mean</th><th scope=col>pdcnt_rng</th><th scope=col>pdcnt_std</th><th scope=col>pdcnt_skew</th><th scope=col>pdcnt_kurt</th><th scope=col>rarpt_min</th><th scope=col>rarpt_max</th><th scope=col>rarpt_mean</th><th scope=col>rarpt_rng</th><th scope=col>rarpt_std</th><th scope=col>rarpt_skew</th><th scope=col>rarpt_kurt</th></tr>\n",
       "\t<tr><th></th><th scope=col>&lt;fct&gt;</th><th scope=col>&lt;fct&gt;</th><th scope=col>&lt;int&gt;</th><th scope=col>&lt;dbl&gt;</th><th scope=col>&lt;dbl&gt;</th><th scope=col>&lt;dbl&gt;</th><th scope=col>&lt;dbl&gt;</th><th scope=col>&lt;dbl&gt;</th><th scope=col>&lt;dbl&gt;</th><th scope=col>&lt;dbl&gt;</th><th scope=col>&lt;dbl&gt;</th><th scope=col>&lt;dbl&gt;</th><th scope=col>&lt;dbl&gt;</th><th scope=col>&lt;dbl&gt;</th><th scope=col>&lt;dbl&gt;</th><th scope=col>&lt;chr&gt;</th><th scope=col>&lt;int&gt;</th><th scope=col>&lt;dbl&gt;</th><th scope=col>&lt;dbl&gt;</th><th scope=col>&lt;chr&gt;</th><th scope=col>&lt;chr&gt;</th><th scope=col>&lt;int&gt;</th><th scope=col>&lt;int&gt;</th><th scope=col>&lt;int&gt;</th><th scope=col>&lt;fct&gt;</th><th scope=col>⋯</th><th scope=col>&lt;int&gt;</th><th scope=col>&lt;dbl&gt;</th><th scope=col>&lt;dbl&gt;</th><th scope=col>&lt;dbl&gt;</th><th scope=col>&lt;dbl&gt;</th><th scope=col>&lt;dbl&gt;</th><th scope=col>&lt;dbl&gt;</th><th scope=col>&lt;dbl&gt;</th><th scope=col>&lt;dbl&gt;</th><th scope=col>&lt;dbl&gt;</th><th scope=col>&lt;dbl&gt;</th><th scope=col>&lt;int&gt;</th><th scope=col>&lt;int&gt;</th><th scope=col>&lt;dbl&gt;</th><th scope=col>&lt;int&gt;</th><th scope=col>&lt;dbl&gt;</th><th scope=col>&lt;dbl&gt;</th><th scope=col>&lt;dbl&gt;</th><th scope=col>&lt;dbl&gt;</th><th scope=col>&lt;dbl&gt;</th><th scope=col>&lt;dbl&gt;</th><th scope=col>&lt;dbl&gt;</th><th scope=col>&lt;dbl&gt;</th><th scope=col>&lt;dbl&gt;</th><th scope=col>&lt;dbl&gt;</th></tr>\n",
       "</thead>\n",
       "<tbody>\n",
       "\t<tr><th scope=row>1</th><td>sitegmo       </td><td>gmo      </td><td>106569</td><td>8.204334</td><td>8.126935</td><td>6.408669</td><td>8.777090</td><td>8.761610</td><td>8.591331</td><td>0.8958204</td><td>0.8825077</td><td>0.8729102</td><td>0.9345201</td><td>0.9348297</td><td>0.9329721</td><td>sitegmo       </td><td>106569</td><td>0.02441611</td><td>9.383592e-06</td><td>Japan        </td><td>Non China</td><td>1</td><td>1</td><td>1</td><td>Japan        </td><td>⋯</td><td>50</td><td>2.508508</td><td> 6.1455276</td><td>55.010118</td><td>0</td><td>100</td><td>1.672944</td><td>100</td><td> 4.083236</td><td>15.334299</td><td>348.12171</td><td>1</td><td> 51</td><td> 3.432490</td><td> 50</td><td>  5.173298</td><td>3.6994369</td><td>16.3930266</td><td>0.10</td><td>13.37</td><td>0.1037350</td><td>13.27</td><td>0.20216296</td><td>55.154300</td><td>3102.462949</td></tr>\n",
       "\t<tr><th scope=row>2</th><td>funalibaba    </td><td>alibaba  </td><td> 72690</td><td>4.883721</td><td>5.255814</td><td>5.023256</td><td>5.813953</td><td>6.000000</td><td>6.186047</td><td>0.8262791</td><td>0.8430233</td><td>0.8518605</td><td>0.8769767</td><td>0.8779070</td><td>0.8793023</td><td>funalibaba    </td><td> 72690</td><td>0.01223002</td><td>1.375705e-05</td><td>China        </td><td>China    </td><td>1</td><td>1</td><td>1</td><td>China        </td><td>⋯</td><td>60</td><td>3.289407</td><td> 2.9497402</td><td>14.097156</td><td>0</td><td>100</td><td>6.427920</td><td>100</td><td>21.265643</td><td> 4.112206</td><td> 15.16265</td><td>1</td><td>326</td><td>15.295667</td><td>325</td><td> 37.775267</td><td>4.8276608</td><td>27.7586974</td><td>0.75</td><td> 4.75</td><td>0.7521482</td><td> 4.00</td><td>0.08239843</td><td>43.767804</td><td>1951.657326</td></tr>\n",
       "\t<tr><th scope=row>3</th><td>sitenamecheap </td><td>namecheap</td><td> 53536</td><td>2.298025</td><td>1.921005</td><td>1.885099</td><td>2.280072</td><td>2.028725</td><td>2.046679</td><td>0.6862657</td><td>0.6196589</td><td>0.6338420</td><td>0.6654399</td><td>0.6792639</td><td>0.6893178</td><td>sitenamecheap </td><td> 53536</td><td>0.03973027</td><td>1.867902e-05</td><td>United States</td><td>Non China</td><td>1</td><td>1</td><td>1</td><td>United States</td><td>⋯</td><td>57</td><td>4.457749</td><td> 1.8173451</td><td> 7.306364</td><td>0</td><td>100</td><td>4.292920</td><td>100</td><td> 4.790116</td><td>13.813471</td><td>271.44212</td><td>1</td><td>102</td><td> 5.683839</td><td>101</td><td> 11.925165</td><td>4.8845405</td><td>28.4273959</td><td>0.58</td><td> 8.33</td><td>0.8639192</td><td> 7.75</td><td>0.46643401</td><td> 2.149515</td><td>  15.078455</td></tr>\n",
       "\t<tr><th scope=row>4</th><td>pwnamecheap   </td><td>namecheap</td><td> 50470</td><td>3.478261</td><td>3.675889</td><td>3.675889</td><td>3.438735</td><td>4.071146</td><td>4.308300</td><td>0.7274704</td><td>0.6551383</td><td>0.6361660</td><td>0.7167984</td><td>0.7405138</td><td>0.7507905</td><td>pwnamecheap   </td><td> 50470</td><td>0.02276600</td><td>1.981375e-05</td><td>United States</td><td>Non China</td><td>1</td><td>1</td><td>1</td><td>United States</td><td>⋯</td><td>53</td><td>3.816024</td><td> 0.9727996</td><td> 3.074438</td><td>0</td><td>100</td><td>5.021115</td><td>100</td><td> 5.889335</td><td>13.133157</td><td>208.93433</td><td>1</td><td>133</td><td> 3.806340</td><td>132</td><td> 11.591963</td><td>7.9464521</td><td>72.1673024</td><td>0.59</td><td> 5.40</td><td>0.8950147</td><td> 4.81</td><td>0.37727284</td><td> 1.158011</td><td>   3.878673</td></tr>\n",
       "\t<tr><th scope=row>5</th><td>onlinego daddy</td><td>go daddy </td><td> 42162</td><td>2.850995</td><td>2.883271</td><td>2.474449</td><td>2.598171</td><td>2.727273</td><td>2.646584</td><td>0.6506455</td><td>0.6493007</td><td>0.6381119</td><td>0.6095481</td><td>0.6266541</td><td>0.6249328</td><td>onlinego daddy</td><td> 42162</td><td>0.17413785</td><td>2.371804e-05</td><td>United States</td><td>Non China</td><td>1</td><td>1</td><td>1</td><td>United States</td><td>⋯</td><td>57</td><td>4.627825</td><td> 1.2478782</td><td> 3.883563</td><td>0</td><td>100</td><td>5.019930</td><td>100</td><td> 5.451631</td><td>13.738913</td><td>235.73852</td><td>1</td><td> 38</td><td> 1.947346</td><td> 37</td><td>  2.554309</td><td>8.0693509</td><td>82.8231996</td><td>0.50</td><td>19.38</td><td>1.4417611</td><td>18.88</td><td>2.84260467</td><td> 3.856059</td><td>  13.984498</td></tr>\n",
       "\t<tr><th scope=row>6</th><td>sitegandi sas </td><td>gandi sas</td><td> 35309</td><td>8.243243</td><td>8.445946</td><td>7.094595</td><td>4.932432</td><td>8.445946</td><td>8.581081</td><td>0.9202703</td><td>0.9195946</td><td>0.9189189</td><td>0.7162162</td><td>0.9344595</td><td>0.9358108</td><td>sitegandi sas </td><td> 35309</td><td>0.01741766</td><td>2.832139e-05</td><td>France       </td><td>Non China</td><td>1</td><td>1</td><td>1</td><td>EU           </td><td>⋯</td><td>51</td><td>4.052579</td><td>-0.9342607</td><td> 1.096902</td><td>0</td><td>100</td><td>3.680121</td><td>100</td><td> 7.475273</td><td>11.932197</td><td>150.65015</td><td>1</td><td>332</td><td>99.953015</td><td>331</td><td>114.009691</td><td>0.8053729</td><td>-0.9005846</td><td>0.50</td><td> 7.00</td><td>0.5011045</td><td> 6.50</td><td>0.08472577</td><td>76.689854</td><td>5879.500288</td></tr>\n",
       "</tbody>\n",
       "</table>\n"
      ],
      "text/latex": [
       "A data.frame: 6 × 60\n",
       "\\begin{tabular}{r|lllllllllllllllllllllllllllllllllllllllllllllllllll}\n",
       "  & tld\\_registrar\\_index & reseller & n & l10\\_seg2\\_glm & l10\\_seg\\_glm & l10\\_agg\\_glm & l10\\_seg2\\_rf & l10\\_seg\\_rf & l10\\_agg\\_rf & auc\\_seg2\\_glm & auc\\_seg\\_glm & auc\\_agg\\_glm & auc\\_seg2\\_rf & auc\\_seg\\_rf & auc\\_agg\\_rf & tld\\_reseller & count & ren\\_prp & tld\\_rat & country\\_maj & region\\_maj & country\\_cnt & region\\_cnt & geo\\_cnt & geo\\_maj & ⋯ & sldlen\\_rng & sldlen\\_std & sldlen\\_skew & sldlen\\_kurt & gibbs\\_min & gibbs\\_max & gibbs\\_mean & gibbs\\_rng & gibbs\\_std & gibbs\\_skew & gibbs\\_kurt & pdcnt\\_min & pdcnt\\_max & pdcnt\\_mean & pdcnt\\_rng & pdcnt\\_std & pdcnt\\_skew & pdcnt\\_kurt & rarpt\\_min & rarpt\\_max & rarpt\\_mean & rarpt\\_rng & rarpt\\_std & rarpt\\_skew & rarpt\\_kurt\\\\\n",
       "  & <fct> & <fct> & <int> & <dbl> & <dbl> & <dbl> & <dbl> & <dbl> & <dbl> & <dbl> & <dbl> & <dbl> & <dbl> & <dbl> & <dbl> & <chr> & <int> & <dbl> & <dbl> & <chr> & <chr> & <int> & <int> & <int> & <fct> & ⋯ & <int> & <dbl> & <dbl> & <dbl> & <dbl> & <dbl> & <dbl> & <dbl> & <dbl> & <dbl> & <dbl> & <int> & <int> & <dbl> & <int> & <dbl> & <dbl> & <dbl> & <dbl> & <dbl> & <dbl> & <dbl> & <dbl> & <dbl> & <dbl>\\\\\n",
       "\\hline\n",
       "\t1 & sitegmo        & gmo       & 106569 & 8.204334 & 8.126935 & 6.408669 & 8.777090 & 8.761610 & 8.591331 & 0.8958204 & 0.8825077 & 0.8729102 & 0.9345201 & 0.9348297 & 0.9329721 & sitegmo        & 106569 & 0.02441611 & 9.383592e-06 & Japan         & Non China & 1 & 1 & 1 & Japan         & ⋯ & 50 & 2.508508 &  6.1455276 & 55.010118 & 0 & 100 & 1.672944 & 100 &  4.083236 & 15.334299 & 348.12171 & 1 &  51 &  3.432490 &  50 &   5.173298 & 3.6994369 & 16.3930266 & 0.10 & 13.37 & 0.1037350 & 13.27 & 0.20216296 & 55.154300 & 3102.462949\\\\\n",
       "\t2 & funalibaba     & alibaba   &  72690 & 4.883721 & 5.255814 & 5.023256 & 5.813953 & 6.000000 & 6.186047 & 0.8262791 & 0.8430233 & 0.8518605 & 0.8769767 & 0.8779070 & 0.8793023 & funalibaba     &  72690 & 0.01223002 & 1.375705e-05 & China         & China     & 1 & 1 & 1 & China         & ⋯ & 60 & 3.289407 &  2.9497402 & 14.097156 & 0 & 100 & 6.427920 & 100 & 21.265643 &  4.112206 &  15.16265 & 1 & 326 & 15.295667 & 325 &  37.775267 & 4.8276608 & 27.7586974 & 0.75 &  4.75 & 0.7521482 &  4.00 & 0.08239843 & 43.767804 & 1951.657326\\\\\n",
       "\t3 & sitenamecheap  & namecheap &  53536 & 2.298025 & 1.921005 & 1.885099 & 2.280072 & 2.028725 & 2.046679 & 0.6862657 & 0.6196589 & 0.6338420 & 0.6654399 & 0.6792639 & 0.6893178 & sitenamecheap  &  53536 & 0.03973027 & 1.867902e-05 & United States & Non China & 1 & 1 & 1 & United States & ⋯ & 57 & 4.457749 &  1.8173451 &  7.306364 & 0 & 100 & 4.292920 & 100 &  4.790116 & 13.813471 & 271.44212 & 1 & 102 &  5.683839 & 101 &  11.925165 & 4.8845405 & 28.4273959 & 0.58 &  8.33 & 0.8639192 &  7.75 & 0.46643401 &  2.149515 &   15.078455\\\\\n",
       "\t4 & pwnamecheap    & namecheap &  50470 & 3.478261 & 3.675889 & 3.675889 & 3.438735 & 4.071146 & 4.308300 & 0.7274704 & 0.6551383 & 0.6361660 & 0.7167984 & 0.7405138 & 0.7507905 & pwnamecheap    &  50470 & 0.02276600 & 1.981375e-05 & United States & Non China & 1 & 1 & 1 & United States & ⋯ & 53 & 3.816024 &  0.9727996 &  3.074438 & 0 & 100 & 5.021115 & 100 &  5.889335 & 13.133157 & 208.93433 & 1 & 133 &  3.806340 & 132 &  11.591963 & 7.9464521 & 72.1673024 & 0.59 &  5.40 & 0.8950147 &  4.81 & 0.37727284 &  1.158011 &    3.878673\\\\\n",
       "\t5 & onlinego daddy & go daddy  &  42162 & 2.850995 & 2.883271 & 2.474449 & 2.598171 & 2.727273 & 2.646584 & 0.6506455 & 0.6493007 & 0.6381119 & 0.6095481 & 0.6266541 & 0.6249328 & onlinego daddy &  42162 & 0.17413785 & 2.371804e-05 & United States & Non China & 1 & 1 & 1 & United States & ⋯ & 57 & 4.627825 &  1.2478782 &  3.883563 & 0 & 100 & 5.019930 & 100 &  5.451631 & 13.738913 & 235.73852 & 1 &  38 &  1.947346 &  37 &   2.554309 & 8.0693509 & 82.8231996 & 0.50 & 19.38 & 1.4417611 & 18.88 & 2.84260467 &  3.856059 &   13.984498\\\\\n",
       "\t6 & sitegandi sas  & gandi sas &  35309 & 8.243243 & 8.445946 & 7.094595 & 4.932432 & 8.445946 & 8.581081 & 0.9202703 & 0.9195946 & 0.9189189 & 0.7162162 & 0.9344595 & 0.9358108 & sitegandi sas  &  35309 & 0.01741766 & 2.832139e-05 & France        & Non China & 1 & 1 & 1 & EU            & ⋯ & 51 & 4.052579 & -0.9342607 &  1.096902 & 0 & 100 & 3.680121 & 100 &  7.475273 & 11.932197 & 150.65015 & 1 & 332 & 99.953015 & 331 & 114.009691 & 0.8053729 & -0.9005846 & 0.50 &  7.00 & 0.5011045 &  6.50 & 0.08472577 & 76.689854 & 5879.500288\\\\\n",
       "\\end{tabular}\n"
      ],
      "text/markdown": [
       "\n",
       "A data.frame: 6 × 60\n",
       "\n",
       "| <!--/--> | tld_registrar_index &lt;fct&gt; | reseller &lt;fct&gt; | n &lt;int&gt; | l10_seg2_glm &lt;dbl&gt; | l10_seg_glm &lt;dbl&gt; | l10_agg_glm &lt;dbl&gt; | l10_seg2_rf &lt;dbl&gt; | l10_seg_rf &lt;dbl&gt; | l10_agg_rf &lt;dbl&gt; | auc_seg2_glm &lt;dbl&gt; | auc_seg_glm &lt;dbl&gt; | auc_agg_glm &lt;dbl&gt; | auc_seg2_rf &lt;dbl&gt; | auc_seg_rf &lt;dbl&gt; | auc_agg_rf &lt;dbl&gt; | tld_reseller &lt;chr&gt; | count &lt;int&gt; | ren_prp &lt;dbl&gt; | tld_rat &lt;dbl&gt; | country_maj &lt;chr&gt; | region_maj &lt;chr&gt; | country_cnt &lt;int&gt; | region_cnt &lt;int&gt; | geo_cnt &lt;int&gt; | geo_maj &lt;fct&gt; | ⋯ ⋯ | sldlen_rng &lt;int&gt; | sldlen_std &lt;dbl&gt; | sldlen_skew &lt;dbl&gt; | sldlen_kurt &lt;dbl&gt; | gibbs_min &lt;dbl&gt; | gibbs_max &lt;dbl&gt; | gibbs_mean &lt;dbl&gt; | gibbs_rng &lt;dbl&gt; | gibbs_std &lt;dbl&gt; | gibbs_skew &lt;dbl&gt; | gibbs_kurt &lt;dbl&gt; | pdcnt_min &lt;int&gt; | pdcnt_max &lt;int&gt; | pdcnt_mean &lt;dbl&gt; | pdcnt_rng &lt;int&gt; | pdcnt_std &lt;dbl&gt; | pdcnt_skew &lt;dbl&gt; | pdcnt_kurt &lt;dbl&gt; | rarpt_min &lt;dbl&gt; | rarpt_max &lt;dbl&gt; | rarpt_mean &lt;dbl&gt; | rarpt_rng &lt;dbl&gt; | rarpt_std &lt;dbl&gt; | rarpt_skew &lt;dbl&gt; | rarpt_kurt &lt;dbl&gt; |\n",
       "|---|---|---|---|---|---|---|---|---|---|---|---|---|---|---|---|---|---|---|---|---|---|---|---|---|---|---|---|---|---|---|---|---|---|---|---|---|---|---|---|---|---|---|---|---|---|---|---|---|---|---|---|\n",
       "| 1 | sitegmo        | gmo       | 106569 | 8.204334 | 8.126935 | 6.408669 | 8.777090 | 8.761610 | 8.591331 | 0.8958204 | 0.8825077 | 0.8729102 | 0.9345201 | 0.9348297 | 0.9329721 | sitegmo        | 106569 | 0.02441611 | 9.383592e-06 | Japan         | Non China | 1 | 1 | 1 | Japan         | ⋯ | 50 | 2.508508 |  6.1455276 | 55.010118 | 0 | 100 | 1.672944 | 100 |  4.083236 | 15.334299 | 348.12171 | 1 |  51 |  3.432490 |  50 |   5.173298 | 3.6994369 | 16.3930266 | 0.10 | 13.37 | 0.1037350 | 13.27 | 0.20216296 | 55.154300 | 3102.462949 |\n",
       "| 2 | funalibaba     | alibaba   |  72690 | 4.883721 | 5.255814 | 5.023256 | 5.813953 | 6.000000 | 6.186047 | 0.8262791 | 0.8430233 | 0.8518605 | 0.8769767 | 0.8779070 | 0.8793023 | funalibaba     |  72690 | 0.01223002 | 1.375705e-05 | China         | China     | 1 | 1 | 1 | China         | ⋯ | 60 | 3.289407 |  2.9497402 | 14.097156 | 0 | 100 | 6.427920 | 100 | 21.265643 |  4.112206 |  15.16265 | 1 | 326 | 15.295667 | 325 |  37.775267 | 4.8276608 | 27.7586974 | 0.75 |  4.75 | 0.7521482 |  4.00 | 0.08239843 | 43.767804 | 1951.657326 |\n",
       "| 3 | sitenamecheap  | namecheap |  53536 | 2.298025 | 1.921005 | 1.885099 | 2.280072 | 2.028725 | 2.046679 | 0.6862657 | 0.6196589 | 0.6338420 | 0.6654399 | 0.6792639 | 0.6893178 | sitenamecheap  |  53536 | 0.03973027 | 1.867902e-05 | United States | Non China | 1 | 1 | 1 | United States | ⋯ | 57 | 4.457749 |  1.8173451 |  7.306364 | 0 | 100 | 4.292920 | 100 |  4.790116 | 13.813471 | 271.44212 | 1 | 102 |  5.683839 | 101 |  11.925165 | 4.8845405 | 28.4273959 | 0.58 |  8.33 | 0.8639192 |  7.75 | 0.46643401 |  2.149515 |   15.078455 |\n",
       "| 4 | pwnamecheap    | namecheap |  50470 | 3.478261 | 3.675889 | 3.675889 | 3.438735 | 4.071146 | 4.308300 | 0.7274704 | 0.6551383 | 0.6361660 | 0.7167984 | 0.7405138 | 0.7507905 | pwnamecheap    |  50470 | 0.02276600 | 1.981375e-05 | United States | Non China | 1 | 1 | 1 | United States | ⋯ | 53 | 3.816024 |  0.9727996 |  3.074438 | 0 | 100 | 5.021115 | 100 |  5.889335 | 13.133157 | 208.93433 | 1 | 133 |  3.806340 | 132 |  11.591963 | 7.9464521 | 72.1673024 | 0.59 |  5.40 | 0.8950147 |  4.81 | 0.37727284 |  1.158011 |    3.878673 |\n",
       "| 5 | onlinego daddy | go daddy  |  42162 | 2.850995 | 2.883271 | 2.474449 | 2.598171 | 2.727273 | 2.646584 | 0.6506455 | 0.6493007 | 0.6381119 | 0.6095481 | 0.6266541 | 0.6249328 | onlinego daddy |  42162 | 0.17413785 | 2.371804e-05 | United States | Non China | 1 | 1 | 1 | United States | ⋯ | 57 | 4.627825 |  1.2478782 |  3.883563 | 0 | 100 | 5.019930 | 100 |  5.451631 | 13.738913 | 235.73852 | 1 |  38 |  1.947346 |  37 |   2.554309 | 8.0693509 | 82.8231996 | 0.50 | 19.38 | 1.4417611 | 18.88 | 2.84260467 |  3.856059 |   13.984498 |\n",
       "| 6 | sitegandi sas  | gandi sas |  35309 | 8.243243 | 8.445946 | 7.094595 | 4.932432 | 8.445946 | 8.581081 | 0.9202703 | 0.9195946 | 0.9189189 | 0.7162162 | 0.9344595 | 0.9358108 | sitegandi sas  |  35309 | 0.01741766 | 2.832139e-05 | France        | Non China | 1 | 1 | 1 | EU            | ⋯ | 51 | 4.052579 | -0.9342607 |  1.096902 | 0 | 100 | 3.680121 | 100 |  7.475273 | 11.932197 | 150.65015 | 1 | 332 | 99.953015 | 331 | 114.009691 | 0.8053729 | -0.9005846 | 0.50 |  7.00 | 0.5011045 |  6.50 | 0.08472577 | 76.689854 | 5879.500288 |\n",
       "\n"
      ],
      "text/plain": [
       "  tld_registrar_index reseller  n      l10_seg2_glm l10_seg_glm l10_agg_glm\n",
       "1 sitegmo             gmo       106569 8.204334     8.126935    6.408669   \n",
       "2 funalibaba          alibaba    72690 4.883721     5.255814    5.023256   \n",
       "3 sitenamecheap       namecheap  53536 2.298025     1.921005    1.885099   \n",
       "4 pwnamecheap         namecheap  50470 3.478261     3.675889    3.675889   \n",
       "5 onlinego daddy      go daddy   42162 2.850995     2.883271    2.474449   \n",
       "6 sitegandi sas       gandi sas  35309 8.243243     8.445946    7.094595   \n",
       "  l10_seg2_rf l10_seg_rf l10_agg_rf auc_seg2_glm auc_seg_glm auc_agg_glm\n",
       "1 8.777090    8.761610   8.591331   0.8958204    0.8825077   0.8729102  \n",
       "2 5.813953    6.000000   6.186047   0.8262791    0.8430233   0.8518605  \n",
       "3 2.280072    2.028725   2.046679   0.6862657    0.6196589   0.6338420  \n",
       "4 3.438735    4.071146   4.308300   0.7274704    0.6551383   0.6361660  \n",
       "5 2.598171    2.727273   2.646584   0.6506455    0.6493007   0.6381119  \n",
       "6 4.932432    8.445946   8.581081   0.9202703    0.9195946   0.9189189  \n",
       "  auc_seg2_rf auc_seg_rf auc_agg_rf tld_reseller   count  ren_prp   \n",
       "1 0.9345201   0.9348297  0.9329721  sitegmo        106569 0.02441611\n",
       "2 0.8769767   0.8779070  0.8793023  funalibaba      72690 0.01223002\n",
       "3 0.6654399   0.6792639  0.6893178  sitenamecheap   53536 0.03973027\n",
       "4 0.7167984   0.7405138  0.7507905  pwnamecheap     50470 0.02276600\n",
       "5 0.6095481   0.6266541  0.6249328  onlinego daddy  42162 0.17413785\n",
       "6 0.7162162   0.9344595  0.9358108  sitegandi sas   35309 0.01741766\n",
       "  tld_rat      country_maj   region_maj country_cnt region_cnt geo_cnt\n",
       "1 9.383592e-06 Japan         Non China  1           1          1      \n",
       "2 1.375705e-05 China         China      1           1          1      \n",
       "3 1.867902e-05 United States Non China  1           1          1      \n",
       "4 1.981375e-05 United States Non China  1           1          1      \n",
       "5 2.371804e-05 United States Non China  1           1          1      \n",
       "6 2.832139e-05 France        Non China  1           1          1      \n",
       "  geo_maj       ⋯ sldlen_rng sldlen_std sldlen_skew sldlen_kurt gibbs_min\n",
       "1 Japan         ⋯ 50         2.508508    6.1455276  55.010118   0        \n",
       "2 China         ⋯ 60         3.289407    2.9497402  14.097156   0        \n",
       "3 United States ⋯ 57         4.457749    1.8173451   7.306364   0        \n",
       "4 United States ⋯ 53         3.816024    0.9727996   3.074438   0        \n",
       "5 United States ⋯ 57         4.627825    1.2478782   3.883563   0        \n",
       "6 EU            ⋯ 51         4.052579   -0.9342607   1.096902   0        \n",
       "  gibbs_max gibbs_mean gibbs_rng gibbs_std gibbs_skew gibbs_kurt pdcnt_min\n",
       "1 100       1.672944   100        4.083236 15.334299  348.12171  1        \n",
       "2 100       6.427920   100       21.265643  4.112206   15.16265  1        \n",
       "3 100       4.292920   100        4.790116 13.813471  271.44212  1        \n",
       "4 100       5.021115   100        5.889335 13.133157  208.93433  1        \n",
       "5 100       5.019930   100        5.451631 13.738913  235.73852  1        \n",
       "6 100       3.680121   100        7.475273 11.932197  150.65015  1        \n",
       "  pdcnt_max pdcnt_mean pdcnt_rng pdcnt_std  pdcnt_skew pdcnt_kurt rarpt_min\n",
       "1  51        3.432490   50         5.173298 3.6994369  16.3930266 0.10     \n",
       "2 326       15.295667  325        37.775267 4.8276608  27.7586974 0.75     \n",
       "3 102        5.683839  101        11.925165 4.8845405  28.4273959 0.58     \n",
       "4 133        3.806340  132        11.591963 7.9464521  72.1673024 0.59     \n",
       "5  38        1.947346   37         2.554309 8.0693509  82.8231996 0.50     \n",
       "6 332       99.953015  331       114.009691 0.8053729  -0.9005846 0.50     \n",
       "  rarpt_max rarpt_mean rarpt_rng rarpt_std  rarpt_skew rarpt_kurt \n",
       "1 13.37     0.1037350  13.27     0.20216296 55.154300  3102.462949\n",
       "2  4.75     0.7521482   4.00     0.08239843 43.767804  1951.657326\n",
       "3  8.33     0.8639192   7.75     0.46643401  2.149515    15.078455\n",
       "4  5.40     0.8950147   4.81     0.37727284  1.158011     3.878673\n",
       "5 19.38     1.4417611  18.88     2.84260467  3.856059    13.984498\n",
       "6  7.00     0.5011045   6.50     0.08472577 76.689854  5879.500288"
      ]
     },
     "metadata": {},
     "output_type": "display_data"
    }
   ],
   "source": [
    "dim(metrics_df)\n",
    "head(metrics_df)"
   ]
  },
  {
   "cell_type": "code",
   "execution_count": 34,
   "metadata": {},
   "outputs": [
    {
     "data": {
      "text/html": [
       "0"
      ],
      "text/latex": [
       "0"
      ],
      "text/markdown": [
       "0"
      ],
      "text/plain": [
       "[1] 0"
      ]
     },
     "metadata": {},
     "output_type": "display_data"
    }
   ],
   "source": [
    "sum(metrics_df$tld_registrar_index != metrics_df$tld_reseller)"
   ]
  },
  {
   "cell_type": "code",
   "execution_count": 35,
   "metadata": {},
   "outputs": [
    {
     "data": {
      "text/html": [
       "0"
      ],
      "text/latex": [
       "0"
      ],
      "text/markdown": [
       "0"
      ],
      "text/plain": [
       "[1] 0"
      ]
     },
     "metadata": {},
     "output_type": "display_data"
    }
   ],
   "source": [
    "sum(metrics_df$n != metrics_df$count)"
   ]
  },
  {
   "cell_type": "code",
   "execution_count": 36,
   "metadata": {},
   "outputs": [],
   "source": [
    "metrics_df <- subset(metrics_df, select=-c(tld_registrar_index,reseller,n))"
   ]
  },
  {
   "cell_type": "code",
   "execution_count": 37,
   "metadata": {},
   "outputs": [
    {
     "data": {
      "text/html": [
       "<table>\n",
       "<caption>A data.frame: 6 × 57</caption>\n",
       "<thead>\n",
       "\t<tr><th></th><th scope=col>l10_seg2_glm</th><th scope=col>l10_seg_glm</th><th scope=col>l10_agg_glm</th><th scope=col>l10_seg2_rf</th><th scope=col>l10_seg_rf</th><th scope=col>l10_agg_rf</th><th scope=col>auc_seg2_glm</th><th scope=col>auc_seg_glm</th><th scope=col>auc_agg_glm</th><th scope=col>auc_seg2_rf</th><th scope=col>auc_seg_rf</th><th scope=col>auc_agg_rf</th><th scope=col>tld_reseller</th><th scope=col>count</th><th scope=col>ren_prp</th><th scope=col>tld_rat</th><th scope=col>country_maj</th><th scope=col>region_maj</th><th scope=col>country_cnt</th><th scope=col>region_cnt</th><th scope=col>geo_cnt</th><th scope=col>geo_maj</th><th scope=col>daydom_min</th><th scope=col>daydom_max</th><th scope=col>daydom_mean</th><th scope=col>⋯</th><th scope=col>sldlen_rng</th><th scope=col>sldlen_std</th><th scope=col>sldlen_skew</th><th scope=col>sldlen_kurt</th><th scope=col>gibbs_min</th><th scope=col>gibbs_max</th><th scope=col>gibbs_mean</th><th scope=col>gibbs_rng</th><th scope=col>gibbs_std</th><th scope=col>gibbs_skew</th><th scope=col>gibbs_kurt</th><th scope=col>pdcnt_min</th><th scope=col>pdcnt_max</th><th scope=col>pdcnt_mean</th><th scope=col>pdcnt_rng</th><th scope=col>pdcnt_std</th><th scope=col>pdcnt_skew</th><th scope=col>pdcnt_kurt</th><th scope=col>rarpt_min</th><th scope=col>rarpt_max</th><th scope=col>rarpt_mean</th><th scope=col>rarpt_rng</th><th scope=col>rarpt_std</th><th scope=col>rarpt_skew</th><th scope=col>rarpt_kurt</th></tr>\n",
       "\t<tr><th></th><th scope=col>&lt;dbl&gt;</th><th scope=col>&lt;dbl&gt;</th><th scope=col>&lt;dbl&gt;</th><th scope=col>&lt;dbl&gt;</th><th scope=col>&lt;dbl&gt;</th><th scope=col>&lt;dbl&gt;</th><th scope=col>&lt;dbl&gt;</th><th scope=col>&lt;dbl&gt;</th><th scope=col>&lt;dbl&gt;</th><th scope=col>&lt;dbl&gt;</th><th scope=col>&lt;dbl&gt;</th><th scope=col>&lt;dbl&gt;</th><th scope=col>&lt;chr&gt;</th><th scope=col>&lt;int&gt;</th><th scope=col>&lt;dbl&gt;</th><th scope=col>&lt;dbl&gt;</th><th scope=col>&lt;chr&gt;</th><th scope=col>&lt;chr&gt;</th><th scope=col>&lt;int&gt;</th><th scope=col>&lt;int&gt;</th><th scope=col>&lt;int&gt;</th><th scope=col>&lt;fct&gt;</th><th scope=col>&lt;int&gt;</th><th scope=col>&lt;int&gt;</th><th scope=col>&lt;dbl&gt;</th><th scope=col>⋯</th><th scope=col>&lt;int&gt;</th><th scope=col>&lt;dbl&gt;</th><th scope=col>&lt;dbl&gt;</th><th scope=col>&lt;dbl&gt;</th><th scope=col>&lt;dbl&gt;</th><th scope=col>&lt;dbl&gt;</th><th scope=col>&lt;dbl&gt;</th><th scope=col>&lt;dbl&gt;</th><th scope=col>&lt;dbl&gt;</th><th scope=col>&lt;dbl&gt;</th><th scope=col>&lt;dbl&gt;</th><th scope=col>&lt;int&gt;</th><th scope=col>&lt;int&gt;</th><th scope=col>&lt;dbl&gt;</th><th scope=col>&lt;int&gt;</th><th scope=col>&lt;dbl&gt;</th><th scope=col>&lt;dbl&gt;</th><th scope=col>&lt;dbl&gt;</th><th scope=col>&lt;dbl&gt;</th><th scope=col>&lt;dbl&gt;</th><th scope=col>&lt;dbl&gt;</th><th scope=col>&lt;dbl&gt;</th><th scope=col>&lt;dbl&gt;</th><th scope=col>&lt;dbl&gt;</th><th scope=col>&lt;dbl&gt;</th></tr>\n",
       "</thead>\n",
       "<tbody>\n",
       "\t<tr><th scope=row>1</th><td>8.204334</td><td>8.126935</td><td>6.408669</td><td>8.777090</td><td>8.761610</td><td>8.591331</td><td>0.8958204</td><td>0.8825077</td><td>0.8729102</td><td>0.9345201</td><td>0.9348297</td><td>0.9329721</td><td>sitegmo       </td><td>106569</td><td>0.02441611</td><td>9.383592e-06</td><td>Japan        </td><td>Non China</td><td>1</td><td>1</td><td>1</td><td>Japan        </td><td>1</td><td>16752</td><td>6351.1060</td><td>⋯</td><td>50</td><td>2.508508</td><td> 6.1455276</td><td>55.010118</td><td>0</td><td>100</td><td>1.672944</td><td>100</td><td> 4.083236</td><td>15.334299</td><td>348.12171</td><td>1</td><td> 51</td><td> 3.432490</td><td> 50</td><td>  5.173298</td><td>3.6994369</td><td>16.3930266</td><td>0.10</td><td>13.37</td><td>0.1037350</td><td>13.27</td><td>0.20216296</td><td>55.154300</td><td>3102.462949</td></tr>\n",
       "\t<tr><th scope=row>2</th><td>4.883721</td><td>5.255814</td><td>5.023256</td><td>5.813953</td><td>6.000000</td><td>6.186047</td><td>0.8262791</td><td>0.8430233</td><td>0.8518605</td><td>0.8769767</td><td>0.8779070</td><td>0.8793023</td><td>funalibaba    </td><td> 72690</td><td>0.01223002</td><td>1.375705e-05</td><td>China        </td><td>China    </td><td>1</td><td>1</td><td>1</td><td>China        </td><td>1</td><td> 2779</td><td> 861.4138</td><td>⋯</td><td>60</td><td>3.289407</td><td> 2.9497402</td><td>14.097156</td><td>0</td><td>100</td><td>6.427920</td><td>100</td><td>21.265643</td><td> 4.112206</td><td> 15.16265</td><td>1</td><td>326</td><td>15.295667</td><td>325</td><td> 37.775267</td><td>4.8276608</td><td>27.7586974</td><td>0.75</td><td> 4.75</td><td>0.7521482</td><td> 4.00</td><td>0.08239843</td><td>43.767804</td><td>1951.657326</td></tr>\n",
       "\t<tr><th scope=row>3</th><td>2.298025</td><td>1.921005</td><td>1.885099</td><td>2.280072</td><td>2.028725</td><td>2.046679</td><td>0.6862657</td><td>0.6196589</td><td>0.6338420</td><td>0.6654399</td><td>0.6792639</td><td>0.6893178</td><td>sitenamecheap </td><td> 53536</td><td>0.03973027</td><td>1.867902e-05</td><td>United States</td><td>Non China</td><td>1</td><td>1</td><td>1</td><td>United States</td><td>1</td><td> 2200</td><td> 641.6495</td><td>⋯</td><td>57</td><td>4.457749</td><td> 1.8173451</td><td> 7.306364</td><td>0</td><td>100</td><td>4.292920</td><td>100</td><td> 4.790116</td><td>13.813471</td><td>271.44212</td><td>1</td><td>102</td><td> 5.683839</td><td>101</td><td> 11.925165</td><td>4.8845405</td><td>28.4273959</td><td>0.58</td><td> 8.33</td><td>0.8639192</td><td> 7.75</td><td>0.46643401</td><td> 2.149515</td><td>  15.078455</td></tr>\n",
       "\t<tr><th scope=row>4</th><td>3.478261</td><td>3.675889</td><td>3.675889</td><td>3.438735</td><td>4.071146</td><td>4.308300</td><td>0.7274704</td><td>0.6551383</td><td>0.6361660</td><td>0.7167984</td><td>0.7405138</td><td>0.7507905</td><td>pwnamecheap   </td><td> 50470</td><td>0.02276600</td><td>1.981375e-05</td><td>United States</td><td>Non China</td><td>1</td><td>1</td><td>1</td><td>United States</td><td>1</td><td> 2277</td><td> 708.5591</td><td>⋯</td><td>53</td><td>3.816024</td><td> 0.9727996</td><td> 3.074438</td><td>0</td><td>100</td><td>5.021115</td><td>100</td><td> 5.889335</td><td>13.133157</td><td>208.93433</td><td>1</td><td>133</td><td> 3.806340</td><td>132</td><td> 11.591963</td><td>7.9464521</td><td>72.1673024</td><td>0.59</td><td> 5.40</td><td>0.8950147</td><td> 4.81</td><td>0.37727284</td><td> 1.158011</td><td>   3.878673</td></tr>\n",
       "\t<tr><th scope=row>5</th><td>2.850995</td><td>2.883271</td><td>2.474449</td><td>2.598171</td><td>2.727273</td><td>2.646584</td><td>0.6506455</td><td>0.6493007</td><td>0.6381119</td><td>0.6095481</td><td>0.6266541</td><td>0.6249328</td><td>onlinego daddy</td><td> 42162</td><td>0.17413785</td><td>2.371804e-05</td><td>United States</td><td>Non China</td><td>1</td><td>1</td><td>1</td><td>United States</td><td>1</td><td> 2642</td><td> 444.9510</td><td>⋯</td><td>57</td><td>4.627825</td><td> 1.2478782</td><td> 3.883563</td><td>0</td><td>100</td><td>5.019930</td><td>100</td><td> 5.451631</td><td>13.738913</td><td>235.73852</td><td>1</td><td> 38</td><td> 1.947346</td><td> 37</td><td>  2.554309</td><td>8.0693509</td><td>82.8231996</td><td>0.50</td><td>19.38</td><td>1.4417611</td><td>18.88</td><td>2.84260467</td><td> 3.856059</td><td>  13.984498</td></tr>\n",
       "\t<tr><th scope=row>6</th><td>8.243243</td><td>8.445946</td><td>7.094595</td><td>4.932432</td><td>8.445946</td><td>8.581081</td><td>0.9202703</td><td>0.9195946</td><td>0.9189189</td><td>0.7162162</td><td>0.9344595</td><td>0.9358108</td><td>sitegandi sas </td><td> 35309</td><td>0.01741766</td><td>2.832139e-05</td><td>France       </td><td>Non China</td><td>1</td><td>1</td><td>1</td><td>EU           </td><td>1</td><td> 8032</td><td>5529.4799</td><td>⋯</td><td>51</td><td>4.052579</td><td>-0.9342607</td><td> 1.096902</td><td>0</td><td>100</td><td>3.680121</td><td>100</td><td> 7.475273</td><td>11.932197</td><td>150.65015</td><td>1</td><td>332</td><td>99.953015</td><td>331</td><td>114.009691</td><td>0.8053729</td><td>-0.9005846</td><td>0.50</td><td> 7.00</td><td>0.5011045</td><td> 6.50</td><td>0.08472577</td><td>76.689854</td><td>5879.500288</td></tr>\n",
       "</tbody>\n",
       "</table>\n"
      ],
      "text/latex": [
       "A data.frame: 6 × 57\n",
       "\\begin{tabular}{r|lllllllllllllllllllllllllllllllllllllllllllllllllll}\n",
       "  & l10\\_seg2\\_glm & l10\\_seg\\_glm & l10\\_agg\\_glm & l10\\_seg2\\_rf & l10\\_seg\\_rf & l10\\_agg\\_rf & auc\\_seg2\\_glm & auc\\_seg\\_glm & auc\\_agg\\_glm & auc\\_seg2\\_rf & auc\\_seg\\_rf & auc\\_agg\\_rf & tld\\_reseller & count & ren\\_prp & tld\\_rat & country\\_maj & region\\_maj & country\\_cnt & region\\_cnt & geo\\_cnt & geo\\_maj & daydom\\_min & daydom\\_max & daydom\\_mean & ⋯ & sldlen\\_rng & sldlen\\_std & sldlen\\_skew & sldlen\\_kurt & gibbs\\_min & gibbs\\_max & gibbs\\_mean & gibbs\\_rng & gibbs\\_std & gibbs\\_skew & gibbs\\_kurt & pdcnt\\_min & pdcnt\\_max & pdcnt\\_mean & pdcnt\\_rng & pdcnt\\_std & pdcnt\\_skew & pdcnt\\_kurt & rarpt\\_min & rarpt\\_max & rarpt\\_mean & rarpt\\_rng & rarpt\\_std & rarpt\\_skew & rarpt\\_kurt\\\\\n",
       "  & <dbl> & <dbl> & <dbl> & <dbl> & <dbl> & <dbl> & <dbl> & <dbl> & <dbl> & <dbl> & <dbl> & <dbl> & <chr> & <int> & <dbl> & <dbl> & <chr> & <chr> & <int> & <int> & <int> & <fct> & <int> & <int> & <dbl> & ⋯ & <int> & <dbl> & <dbl> & <dbl> & <dbl> & <dbl> & <dbl> & <dbl> & <dbl> & <dbl> & <dbl> & <int> & <int> & <dbl> & <int> & <dbl> & <dbl> & <dbl> & <dbl> & <dbl> & <dbl> & <dbl> & <dbl> & <dbl> & <dbl>\\\\\n",
       "\\hline\n",
       "\t1 & 8.204334 & 8.126935 & 6.408669 & 8.777090 & 8.761610 & 8.591331 & 0.8958204 & 0.8825077 & 0.8729102 & 0.9345201 & 0.9348297 & 0.9329721 & sitegmo        & 106569 & 0.02441611 & 9.383592e-06 & Japan         & Non China & 1 & 1 & 1 & Japan         & 1 & 16752 & 6351.1060 & ⋯ & 50 & 2.508508 &  6.1455276 & 55.010118 & 0 & 100 & 1.672944 & 100 &  4.083236 & 15.334299 & 348.12171 & 1 &  51 &  3.432490 &  50 &   5.173298 & 3.6994369 & 16.3930266 & 0.10 & 13.37 & 0.1037350 & 13.27 & 0.20216296 & 55.154300 & 3102.462949\\\\\n",
       "\t2 & 4.883721 & 5.255814 & 5.023256 & 5.813953 & 6.000000 & 6.186047 & 0.8262791 & 0.8430233 & 0.8518605 & 0.8769767 & 0.8779070 & 0.8793023 & funalibaba     &  72690 & 0.01223002 & 1.375705e-05 & China         & China     & 1 & 1 & 1 & China         & 1 &  2779 &  861.4138 & ⋯ & 60 & 3.289407 &  2.9497402 & 14.097156 & 0 & 100 & 6.427920 & 100 & 21.265643 &  4.112206 &  15.16265 & 1 & 326 & 15.295667 & 325 &  37.775267 & 4.8276608 & 27.7586974 & 0.75 &  4.75 & 0.7521482 &  4.00 & 0.08239843 & 43.767804 & 1951.657326\\\\\n",
       "\t3 & 2.298025 & 1.921005 & 1.885099 & 2.280072 & 2.028725 & 2.046679 & 0.6862657 & 0.6196589 & 0.6338420 & 0.6654399 & 0.6792639 & 0.6893178 & sitenamecheap  &  53536 & 0.03973027 & 1.867902e-05 & United States & Non China & 1 & 1 & 1 & United States & 1 &  2200 &  641.6495 & ⋯ & 57 & 4.457749 &  1.8173451 &  7.306364 & 0 & 100 & 4.292920 & 100 &  4.790116 & 13.813471 & 271.44212 & 1 & 102 &  5.683839 & 101 &  11.925165 & 4.8845405 & 28.4273959 & 0.58 &  8.33 & 0.8639192 &  7.75 & 0.46643401 &  2.149515 &   15.078455\\\\\n",
       "\t4 & 3.478261 & 3.675889 & 3.675889 & 3.438735 & 4.071146 & 4.308300 & 0.7274704 & 0.6551383 & 0.6361660 & 0.7167984 & 0.7405138 & 0.7507905 & pwnamecheap    &  50470 & 0.02276600 & 1.981375e-05 & United States & Non China & 1 & 1 & 1 & United States & 1 &  2277 &  708.5591 & ⋯ & 53 & 3.816024 &  0.9727996 &  3.074438 & 0 & 100 & 5.021115 & 100 &  5.889335 & 13.133157 & 208.93433 & 1 & 133 &  3.806340 & 132 &  11.591963 & 7.9464521 & 72.1673024 & 0.59 &  5.40 & 0.8950147 &  4.81 & 0.37727284 &  1.158011 &    3.878673\\\\\n",
       "\t5 & 2.850995 & 2.883271 & 2.474449 & 2.598171 & 2.727273 & 2.646584 & 0.6506455 & 0.6493007 & 0.6381119 & 0.6095481 & 0.6266541 & 0.6249328 & onlinego daddy &  42162 & 0.17413785 & 2.371804e-05 & United States & Non China & 1 & 1 & 1 & United States & 1 &  2642 &  444.9510 & ⋯ & 57 & 4.627825 &  1.2478782 &  3.883563 & 0 & 100 & 5.019930 & 100 &  5.451631 & 13.738913 & 235.73852 & 1 &  38 &  1.947346 &  37 &   2.554309 & 8.0693509 & 82.8231996 & 0.50 & 19.38 & 1.4417611 & 18.88 & 2.84260467 &  3.856059 &   13.984498\\\\\n",
       "\t6 & 8.243243 & 8.445946 & 7.094595 & 4.932432 & 8.445946 & 8.581081 & 0.9202703 & 0.9195946 & 0.9189189 & 0.7162162 & 0.9344595 & 0.9358108 & sitegandi sas  &  35309 & 0.01741766 & 2.832139e-05 & France        & Non China & 1 & 1 & 1 & EU            & 1 &  8032 & 5529.4799 & ⋯ & 51 & 4.052579 & -0.9342607 &  1.096902 & 0 & 100 & 3.680121 & 100 &  7.475273 & 11.932197 & 150.65015 & 1 & 332 & 99.953015 & 331 & 114.009691 & 0.8053729 & -0.9005846 & 0.50 &  7.00 & 0.5011045 &  6.50 & 0.08472577 & 76.689854 & 5879.500288\\\\\n",
       "\\end{tabular}\n"
      ],
      "text/markdown": [
       "\n",
       "A data.frame: 6 × 57\n",
       "\n",
       "| <!--/--> | l10_seg2_glm &lt;dbl&gt; | l10_seg_glm &lt;dbl&gt; | l10_agg_glm &lt;dbl&gt; | l10_seg2_rf &lt;dbl&gt; | l10_seg_rf &lt;dbl&gt; | l10_agg_rf &lt;dbl&gt; | auc_seg2_glm &lt;dbl&gt; | auc_seg_glm &lt;dbl&gt; | auc_agg_glm &lt;dbl&gt; | auc_seg2_rf &lt;dbl&gt; | auc_seg_rf &lt;dbl&gt; | auc_agg_rf &lt;dbl&gt; | tld_reseller &lt;chr&gt; | count &lt;int&gt; | ren_prp &lt;dbl&gt; | tld_rat &lt;dbl&gt; | country_maj &lt;chr&gt; | region_maj &lt;chr&gt; | country_cnt &lt;int&gt; | region_cnt &lt;int&gt; | geo_cnt &lt;int&gt; | geo_maj &lt;fct&gt; | daydom_min &lt;int&gt; | daydom_max &lt;int&gt; | daydom_mean &lt;dbl&gt; | ⋯ ⋯ | sldlen_rng &lt;int&gt; | sldlen_std &lt;dbl&gt; | sldlen_skew &lt;dbl&gt; | sldlen_kurt &lt;dbl&gt; | gibbs_min &lt;dbl&gt; | gibbs_max &lt;dbl&gt; | gibbs_mean &lt;dbl&gt; | gibbs_rng &lt;dbl&gt; | gibbs_std &lt;dbl&gt; | gibbs_skew &lt;dbl&gt; | gibbs_kurt &lt;dbl&gt; | pdcnt_min &lt;int&gt; | pdcnt_max &lt;int&gt; | pdcnt_mean &lt;dbl&gt; | pdcnt_rng &lt;int&gt; | pdcnt_std &lt;dbl&gt; | pdcnt_skew &lt;dbl&gt; | pdcnt_kurt &lt;dbl&gt; | rarpt_min &lt;dbl&gt; | rarpt_max &lt;dbl&gt; | rarpt_mean &lt;dbl&gt; | rarpt_rng &lt;dbl&gt; | rarpt_std &lt;dbl&gt; | rarpt_skew &lt;dbl&gt; | rarpt_kurt &lt;dbl&gt; |\n",
       "|---|---|---|---|---|---|---|---|---|---|---|---|---|---|---|---|---|---|---|---|---|---|---|---|---|---|---|---|---|---|---|---|---|---|---|---|---|---|---|---|---|---|---|---|---|---|---|---|---|---|---|---|\n",
       "| 1 | 8.204334 | 8.126935 | 6.408669 | 8.777090 | 8.761610 | 8.591331 | 0.8958204 | 0.8825077 | 0.8729102 | 0.9345201 | 0.9348297 | 0.9329721 | sitegmo        | 106569 | 0.02441611 | 9.383592e-06 | Japan         | Non China | 1 | 1 | 1 | Japan         | 1 | 16752 | 6351.1060 | ⋯ | 50 | 2.508508 |  6.1455276 | 55.010118 | 0 | 100 | 1.672944 | 100 |  4.083236 | 15.334299 | 348.12171 | 1 |  51 |  3.432490 |  50 |   5.173298 | 3.6994369 | 16.3930266 | 0.10 | 13.37 | 0.1037350 | 13.27 | 0.20216296 | 55.154300 | 3102.462949 |\n",
       "| 2 | 4.883721 | 5.255814 | 5.023256 | 5.813953 | 6.000000 | 6.186047 | 0.8262791 | 0.8430233 | 0.8518605 | 0.8769767 | 0.8779070 | 0.8793023 | funalibaba     |  72690 | 0.01223002 | 1.375705e-05 | China         | China     | 1 | 1 | 1 | China         | 1 |  2779 |  861.4138 | ⋯ | 60 | 3.289407 |  2.9497402 | 14.097156 | 0 | 100 | 6.427920 | 100 | 21.265643 |  4.112206 |  15.16265 | 1 | 326 | 15.295667 | 325 |  37.775267 | 4.8276608 | 27.7586974 | 0.75 |  4.75 | 0.7521482 |  4.00 | 0.08239843 | 43.767804 | 1951.657326 |\n",
       "| 3 | 2.298025 | 1.921005 | 1.885099 | 2.280072 | 2.028725 | 2.046679 | 0.6862657 | 0.6196589 | 0.6338420 | 0.6654399 | 0.6792639 | 0.6893178 | sitenamecheap  |  53536 | 0.03973027 | 1.867902e-05 | United States | Non China | 1 | 1 | 1 | United States | 1 |  2200 |  641.6495 | ⋯ | 57 | 4.457749 |  1.8173451 |  7.306364 | 0 | 100 | 4.292920 | 100 |  4.790116 | 13.813471 | 271.44212 | 1 | 102 |  5.683839 | 101 |  11.925165 | 4.8845405 | 28.4273959 | 0.58 |  8.33 | 0.8639192 |  7.75 | 0.46643401 |  2.149515 |   15.078455 |\n",
       "| 4 | 3.478261 | 3.675889 | 3.675889 | 3.438735 | 4.071146 | 4.308300 | 0.7274704 | 0.6551383 | 0.6361660 | 0.7167984 | 0.7405138 | 0.7507905 | pwnamecheap    |  50470 | 0.02276600 | 1.981375e-05 | United States | Non China | 1 | 1 | 1 | United States | 1 |  2277 |  708.5591 | ⋯ | 53 | 3.816024 |  0.9727996 |  3.074438 | 0 | 100 | 5.021115 | 100 |  5.889335 | 13.133157 | 208.93433 | 1 | 133 |  3.806340 | 132 |  11.591963 | 7.9464521 | 72.1673024 | 0.59 |  5.40 | 0.8950147 |  4.81 | 0.37727284 |  1.158011 |    3.878673 |\n",
       "| 5 | 2.850995 | 2.883271 | 2.474449 | 2.598171 | 2.727273 | 2.646584 | 0.6506455 | 0.6493007 | 0.6381119 | 0.6095481 | 0.6266541 | 0.6249328 | onlinego daddy |  42162 | 0.17413785 | 2.371804e-05 | United States | Non China | 1 | 1 | 1 | United States | 1 |  2642 |  444.9510 | ⋯ | 57 | 4.627825 |  1.2478782 |  3.883563 | 0 | 100 | 5.019930 | 100 |  5.451631 | 13.738913 | 235.73852 | 1 |  38 |  1.947346 |  37 |   2.554309 | 8.0693509 | 82.8231996 | 0.50 | 19.38 | 1.4417611 | 18.88 | 2.84260467 |  3.856059 |   13.984498 |\n",
       "| 6 | 8.243243 | 8.445946 | 7.094595 | 4.932432 | 8.445946 | 8.581081 | 0.9202703 | 0.9195946 | 0.9189189 | 0.7162162 | 0.9344595 | 0.9358108 | sitegandi sas  |  35309 | 0.01741766 | 2.832139e-05 | France        | Non China | 1 | 1 | 1 | EU            | 1 |  8032 | 5529.4799 | ⋯ | 51 | 4.052579 | -0.9342607 |  1.096902 | 0 | 100 | 3.680121 | 100 |  7.475273 | 11.932197 | 150.65015 | 1 | 332 | 99.953015 | 331 | 114.009691 | 0.8053729 | -0.9005846 | 0.50 |  7.00 | 0.5011045 |  6.50 | 0.08472577 | 76.689854 | 5879.500288 |\n",
       "\n"
      ],
      "text/plain": [
       "  l10_seg2_glm l10_seg_glm l10_agg_glm l10_seg2_rf l10_seg_rf l10_agg_rf\n",
       "1 8.204334     8.126935    6.408669    8.777090    8.761610   8.591331  \n",
       "2 4.883721     5.255814    5.023256    5.813953    6.000000   6.186047  \n",
       "3 2.298025     1.921005    1.885099    2.280072    2.028725   2.046679  \n",
       "4 3.478261     3.675889    3.675889    3.438735    4.071146   4.308300  \n",
       "5 2.850995     2.883271    2.474449    2.598171    2.727273   2.646584  \n",
       "6 8.243243     8.445946    7.094595    4.932432    8.445946   8.581081  \n",
       "  auc_seg2_glm auc_seg_glm auc_agg_glm auc_seg2_rf auc_seg_rf auc_agg_rf\n",
       "1 0.8958204    0.8825077   0.8729102   0.9345201   0.9348297  0.9329721 \n",
       "2 0.8262791    0.8430233   0.8518605   0.8769767   0.8779070  0.8793023 \n",
       "3 0.6862657    0.6196589   0.6338420   0.6654399   0.6792639  0.6893178 \n",
       "4 0.7274704    0.6551383   0.6361660   0.7167984   0.7405138  0.7507905 \n",
       "5 0.6506455    0.6493007   0.6381119   0.6095481   0.6266541  0.6249328 \n",
       "6 0.9202703    0.9195946   0.9189189   0.7162162   0.9344595  0.9358108 \n",
       "  tld_reseller   count  ren_prp    tld_rat      country_maj   region_maj\n",
       "1 sitegmo        106569 0.02441611 9.383592e-06 Japan         Non China \n",
       "2 funalibaba      72690 0.01223002 1.375705e-05 China         China     \n",
       "3 sitenamecheap   53536 0.03973027 1.867902e-05 United States Non China \n",
       "4 pwnamecheap     50470 0.02276600 1.981375e-05 United States Non China \n",
       "5 onlinego daddy  42162 0.17413785 2.371804e-05 United States Non China \n",
       "6 sitegandi sas   35309 0.01741766 2.832139e-05 France        Non China \n",
       "  country_cnt region_cnt geo_cnt geo_maj       daydom_min daydom_max\n",
       "1 1           1          1       Japan         1          16752     \n",
       "2 1           1          1       China         1           2779     \n",
       "3 1           1          1       United States 1           2200     \n",
       "4 1           1          1       United States 1           2277     \n",
       "5 1           1          1       United States 1           2642     \n",
       "6 1           1          1       EU            1           8032     \n",
       "  daydom_mean ⋯ sldlen_rng sldlen_std sldlen_skew sldlen_kurt gibbs_min\n",
       "1 6351.1060   ⋯ 50         2.508508    6.1455276  55.010118   0        \n",
       "2  861.4138   ⋯ 60         3.289407    2.9497402  14.097156   0        \n",
       "3  641.6495   ⋯ 57         4.457749    1.8173451   7.306364   0        \n",
       "4  708.5591   ⋯ 53         3.816024    0.9727996   3.074438   0        \n",
       "5  444.9510   ⋯ 57         4.627825    1.2478782   3.883563   0        \n",
       "6 5529.4799   ⋯ 51         4.052579   -0.9342607   1.096902   0        \n",
       "  gibbs_max gibbs_mean gibbs_rng gibbs_std gibbs_skew gibbs_kurt pdcnt_min\n",
       "1 100       1.672944   100        4.083236 15.334299  348.12171  1        \n",
       "2 100       6.427920   100       21.265643  4.112206   15.16265  1        \n",
       "3 100       4.292920   100        4.790116 13.813471  271.44212  1        \n",
       "4 100       5.021115   100        5.889335 13.133157  208.93433  1        \n",
       "5 100       5.019930   100        5.451631 13.738913  235.73852  1        \n",
       "6 100       3.680121   100        7.475273 11.932197  150.65015  1        \n",
       "  pdcnt_max pdcnt_mean pdcnt_rng pdcnt_std  pdcnt_skew pdcnt_kurt rarpt_min\n",
       "1  51        3.432490   50         5.173298 3.6994369  16.3930266 0.10     \n",
       "2 326       15.295667  325        37.775267 4.8276608  27.7586974 0.75     \n",
       "3 102        5.683839  101        11.925165 4.8845405  28.4273959 0.58     \n",
       "4 133        3.806340  132        11.591963 7.9464521  72.1673024 0.59     \n",
       "5  38        1.947346   37         2.554309 8.0693509  82.8231996 0.50     \n",
       "6 332       99.953015  331       114.009691 0.8053729  -0.9005846 0.50     \n",
       "  rarpt_max rarpt_mean rarpt_rng rarpt_std  rarpt_skew rarpt_kurt \n",
       "1 13.37     0.1037350  13.27     0.20216296 55.154300  3102.462949\n",
       "2  4.75     0.7521482   4.00     0.08239843 43.767804  1951.657326\n",
       "3  8.33     0.8639192   7.75     0.46643401  2.149515    15.078455\n",
       "4  5.40     0.8950147   4.81     0.37727284  1.158011     3.878673\n",
       "5 19.38     1.4417611  18.88     2.84260467  3.856059    13.984498\n",
       "6  7.00     0.5011045   6.50     0.08472577 76.689854  5879.500288"
      ]
     },
     "metadata": {},
     "output_type": "display_data"
    }
   ],
   "source": [
    "head(metrics_df)"
   ]
  },
  {
   "cell_type": "code",
   "execution_count": 38,
   "metadata": {},
   "outputs": [
    {
     "data": {
      "text/html": [
       "<style>\n",
       ".list-inline {list-style: none; margin:0; padding: 0}\n",
       ".list-inline>li {display: inline-block}\n",
       ".list-inline>li:not(:last-child)::after {content: \"\\00b7\"; padding: 0 .5ex}\n",
       "</style>\n",
       "<ol class=list-inline><li>'l10_seg2_glm'</li><li>'l10_seg_glm'</li><li>'l10_agg_glm'</li><li>'l10_seg2_rf'</li><li>'l10_seg_rf'</li><li>'l10_agg_rf'</li><li>'auc_seg2_glm'</li><li>'auc_seg_glm'</li><li>'auc_agg_glm'</li><li>'auc_seg2_rf'</li><li>'auc_seg_rf'</li><li>'auc_agg_rf'</li><li>'tld_reseller'</li><li>'count'</li><li>'ren_prp'</li><li>'tld_rat'</li><li>'country_maj'</li><li>'region_maj'</li><li>'country_cnt'</li><li>'region_cnt'</li><li>'geo_cnt'</li><li>'geo_maj'</li><li>'daydom_min'</li><li>'daydom_max'</li><li>'daydom_mean'</li><li>'daydom_rng'</li><li>'daydom_std'</li><li>'daydom_skew'</li><li>'daydom_kurt'</li><li>'sldlen_min'</li><li>'sldlen_max'</li><li>'sldlen_mean'</li><li>'sldlen_rng'</li><li>'sldlen_std'</li><li>'sldlen_skew'</li><li>'sldlen_kurt'</li><li>'gibbs_min'</li><li>'gibbs_max'</li><li>'gibbs_mean'</li><li>'gibbs_rng'</li><li>'gibbs_std'</li><li>'gibbs_skew'</li><li>'gibbs_kurt'</li><li>'pdcnt_min'</li><li>'pdcnt_max'</li><li>'pdcnt_mean'</li><li>'pdcnt_rng'</li><li>'pdcnt_std'</li><li>'pdcnt_skew'</li><li>'pdcnt_kurt'</li><li>'rarpt_min'</li><li>'rarpt_max'</li><li>'rarpt_mean'</li><li>'rarpt_rng'</li><li>'rarpt_std'</li><li>'rarpt_skew'</li><li>'rarpt_kurt'</li></ol>\n"
      ],
      "text/latex": [
       "\\begin{enumerate*}\n",
       "\\item 'l10\\_seg2\\_glm'\n",
       "\\item 'l10\\_seg\\_glm'\n",
       "\\item 'l10\\_agg\\_glm'\n",
       "\\item 'l10\\_seg2\\_rf'\n",
       "\\item 'l10\\_seg\\_rf'\n",
       "\\item 'l10\\_agg\\_rf'\n",
       "\\item 'auc\\_seg2\\_glm'\n",
       "\\item 'auc\\_seg\\_glm'\n",
       "\\item 'auc\\_agg\\_glm'\n",
       "\\item 'auc\\_seg2\\_rf'\n",
       "\\item 'auc\\_seg\\_rf'\n",
       "\\item 'auc\\_agg\\_rf'\n",
       "\\item 'tld\\_reseller'\n",
       "\\item 'count'\n",
       "\\item 'ren\\_prp'\n",
       "\\item 'tld\\_rat'\n",
       "\\item 'country\\_maj'\n",
       "\\item 'region\\_maj'\n",
       "\\item 'country\\_cnt'\n",
       "\\item 'region\\_cnt'\n",
       "\\item 'geo\\_cnt'\n",
       "\\item 'geo\\_maj'\n",
       "\\item 'daydom\\_min'\n",
       "\\item 'daydom\\_max'\n",
       "\\item 'daydom\\_mean'\n",
       "\\item 'daydom\\_rng'\n",
       "\\item 'daydom\\_std'\n",
       "\\item 'daydom\\_skew'\n",
       "\\item 'daydom\\_kurt'\n",
       "\\item 'sldlen\\_min'\n",
       "\\item 'sldlen\\_max'\n",
       "\\item 'sldlen\\_mean'\n",
       "\\item 'sldlen\\_rng'\n",
       "\\item 'sldlen\\_std'\n",
       "\\item 'sldlen\\_skew'\n",
       "\\item 'sldlen\\_kurt'\n",
       "\\item 'gibbs\\_min'\n",
       "\\item 'gibbs\\_max'\n",
       "\\item 'gibbs\\_mean'\n",
       "\\item 'gibbs\\_rng'\n",
       "\\item 'gibbs\\_std'\n",
       "\\item 'gibbs\\_skew'\n",
       "\\item 'gibbs\\_kurt'\n",
       "\\item 'pdcnt\\_min'\n",
       "\\item 'pdcnt\\_max'\n",
       "\\item 'pdcnt\\_mean'\n",
       "\\item 'pdcnt\\_rng'\n",
       "\\item 'pdcnt\\_std'\n",
       "\\item 'pdcnt\\_skew'\n",
       "\\item 'pdcnt\\_kurt'\n",
       "\\item 'rarpt\\_min'\n",
       "\\item 'rarpt\\_max'\n",
       "\\item 'rarpt\\_mean'\n",
       "\\item 'rarpt\\_rng'\n",
       "\\item 'rarpt\\_std'\n",
       "\\item 'rarpt\\_skew'\n",
       "\\item 'rarpt\\_kurt'\n",
       "\\end{enumerate*}\n"
      ],
      "text/markdown": [
       "1. 'l10_seg2_glm'\n",
       "2. 'l10_seg_glm'\n",
       "3. 'l10_agg_glm'\n",
       "4. 'l10_seg2_rf'\n",
       "5. 'l10_seg_rf'\n",
       "6. 'l10_agg_rf'\n",
       "7. 'auc_seg2_glm'\n",
       "8. 'auc_seg_glm'\n",
       "9. 'auc_agg_glm'\n",
       "10. 'auc_seg2_rf'\n",
       "11. 'auc_seg_rf'\n",
       "12. 'auc_agg_rf'\n",
       "13. 'tld_reseller'\n",
       "14. 'count'\n",
       "15. 'ren_prp'\n",
       "16. 'tld_rat'\n",
       "17. 'country_maj'\n",
       "18. 'region_maj'\n",
       "19. 'country_cnt'\n",
       "20. 'region_cnt'\n",
       "21. 'geo_cnt'\n",
       "22. 'geo_maj'\n",
       "23. 'daydom_min'\n",
       "24. 'daydom_max'\n",
       "25. 'daydom_mean'\n",
       "26. 'daydom_rng'\n",
       "27. 'daydom_std'\n",
       "28. 'daydom_skew'\n",
       "29. 'daydom_kurt'\n",
       "30. 'sldlen_min'\n",
       "31. 'sldlen_max'\n",
       "32. 'sldlen_mean'\n",
       "33. 'sldlen_rng'\n",
       "34. 'sldlen_std'\n",
       "35. 'sldlen_skew'\n",
       "36. 'sldlen_kurt'\n",
       "37. 'gibbs_min'\n",
       "38. 'gibbs_max'\n",
       "39. 'gibbs_mean'\n",
       "40. 'gibbs_rng'\n",
       "41. 'gibbs_std'\n",
       "42. 'gibbs_skew'\n",
       "43. 'gibbs_kurt'\n",
       "44. 'pdcnt_min'\n",
       "45. 'pdcnt_max'\n",
       "46. 'pdcnt_mean'\n",
       "47. 'pdcnt_rng'\n",
       "48. 'pdcnt_std'\n",
       "49. 'pdcnt_skew'\n",
       "50. 'pdcnt_kurt'\n",
       "51. 'rarpt_min'\n",
       "52. 'rarpt_max'\n",
       "53. 'rarpt_mean'\n",
       "54. 'rarpt_rng'\n",
       "55. 'rarpt_std'\n",
       "56. 'rarpt_skew'\n",
       "57. 'rarpt_kurt'\n",
       "\n",
       "\n"
      ],
      "text/plain": [
       " [1] \"l10_seg2_glm\" \"l10_seg_glm\"  \"l10_agg_glm\"  \"l10_seg2_rf\"  \"l10_seg_rf\"  \n",
       " [6] \"l10_agg_rf\"   \"auc_seg2_glm\" \"auc_seg_glm\"  \"auc_agg_glm\"  \"auc_seg2_rf\" \n",
       "[11] \"auc_seg_rf\"   \"auc_agg_rf\"   \"tld_reseller\" \"count\"        \"ren_prp\"     \n",
       "[16] \"tld_rat\"      \"country_maj\"  \"region_maj\"   \"country_cnt\"  \"region_cnt\"  \n",
       "[21] \"geo_cnt\"      \"geo_maj\"      \"daydom_min\"   \"daydom_max\"   \"daydom_mean\" \n",
       "[26] \"daydom_rng\"   \"daydom_std\"   \"daydom_skew\"  \"daydom_kurt\"  \"sldlen_min\"  \n",
       "[31] \"sldlen_max\"   \"sldlen_mean\"  \"sldlen_rng\"   \"sldlen_std\"   \"sldlen_skew\" \n",
       "[36] \"sldlen_kurt\"  \"gibbs_min\"    \"gibbs_max\"    \"gibbs_mean\"   \"gibbs_rng\"   \n",
       "[41] \"gibbs_std\"    \"gibbs_skew\"   \"gibbs_kurt\"   \"pdcnt_min\"    \"pdcnt_max\"   \n",
       "[46] \"pdcnt_mean\"   \"pdcnt_rng\"    \"pdcnt_std\"    \"pdcnt_skew\"   \"pdcnt_kurt\"  \n",
       "[51] \"rarpt_min\"    \"rarpt_max\"    \"rarpt_mean\"   \"rarpt_rng\"    \"rarpt_std\"   \n",
       "[56] \"rarpt_skew\"   \"rarpt_kurt\"  "
      ]
     },
     "metadata": {},
     "output_type": "display_data"
    }
   ],
   "source": [
    "names(metrics_df)"
   ]
  },
  {
   "cell_type": "markdown",
   "metadata": {},
   "source": [
    "# CREATE new multi-class dependent variables"
   ]
  },
  {
   "cell_type": "code",
   "execution_count": 39,
   "metadata": {},
   "outputs": [
    {
     "data": {
      "text/html": [
       "<style>\n",
       ".list-inline {list-style: none; margin:0; padding: 0}\n",
       ".list-inline>li {display: inline-block}\n",
       ".list-inline>li:not(:last-child)::after {content: \"\\00b7\"; padding: 0 .5ex}\n",
       "</style>\n",
       "<ol class=list-inline><li>'auc_seg2_glm'</li><li>'auc_seg_glm'</li><li>'auc_agg_glm'</li><li>'auc_seg2_rf'</li><li>'auc_seg_rf'</li><li>'auc_agg_rf'</li></ol>\n"
      ],
      "text/latex": [
       "\\begin{enumerate*}\n",
       "\\item 'auc\\_seg2\\_glm'\n",
       "\\item 'auc\\_seg\\_glm'\n",
       "\\item 'auc\\_agg\\_glm'\n",
       "\\item 'auc\\_seg2\\_rf'\n",
       "\\item 'auc\\_seg\\_rf'\n",
       "\\item 'auc\\_agg\\_rf'\n",
       "\\end{enumerate*}\n"
      ],
      "text/markdown": [
       "1. 'auc_seg2_glm'\n",
       "2. 'auc_seg_glm'\n",
       "3. 'auc_agg_glm'\n",
       "4. 'auc_seg2_rf'\n",
       "5. 'auc_seg_rf'\n",
       "6. 'auc_agg_rf'\n",
       "\n",
       "\n"
      ],
      "text/plain": [
       "[1] \"auc_seg2_glm\" \"auc_seg_glm\"  \"auc_agg_glm\"  \"auc_seg2_rf\"  \"auc_seg_rf\"  \n",
       "[6] \"auc_agg_rf\"  "
      ]
     },
     "metadata": {},
     "output_type": "display_data"
    },
    {
     "data": {
      "text/html": [
       "<style>\n",
       ".list-inline {list-style: none; margin:0; padding: 0}\n",
       ".list-inline>li {display: inline-block}\n",
       ".list-inline>li:not(:last-child)::after {content: \"\\00b7\"; padding: 0 .5ex}\n",
       "</style>\n",
       "<ol class=list-inline><li>'l10_seg2_glm'</li><li>'l10_seg_glm'</li><li>'l10_agg_glm'</li><li>'l10_seg2_rf'</li><li>'l10_seg_rf'</li><li>'l10_agg_rf'</li></ol>\n"
      ],
      "text/latex": [
       "\\begin{enumerate*}\n",
       "\\item 'l10\\_seg2\\_glm'\n",
       "\\item 'l10\\_seg\\_glm'\n",
       "\\item 'l10\\_agg\\_glm'\n",
       "\\item 'l10\\_seg2\\_rf'\n",
       "\\item 'l10\\_seg\\_rf'\n",
       "\\item 'l10\\_agg\\_rf'\n",
       "\\end{enumerate*}\n"
      ],
      "text/markdown": [
       "1. 'l10_seg2_glm'\n",
       "2. 'l10_seg_glm'\n",
       "3. 'l10_agg_glm'\n",
       "4. 'l10_seg2_rf'\n",
       "5. 'l10_seg_rf'\n",
       "6. 'l10_agg_rf'\n",
       "\n",
       "\n"
      ],
      "text/plain": [
       "[1] \"l10_seg2_glm\" \"l10_seg_glm\"  \"l10_agg_glm\"  \"l10_seg2_rf\"  \"l10_seg_rf\"  \n",
       "[6] \"l10_agg_rf\"  "
      ]
     },
     "metadata": {},
     "output_type": "display_data"
    }
   ],
   "source": [
    "(auc_vars = grep('auc', names(metrics_df), value=TRUE))\n",
    "(l10_vars = grep('l10', names(metrics_df), value=TRUE))"
   ]
  },
  {
   "cell_type": "code",
   "execution_count": 40,
   "metadata": {},
   "outputs": [],
   "source": [
    "# auc_vars = c('seg2_glm_auc','seg_glm_auc','agg_glm_auc','agg_rf_auc')\n",
    "# l10_vars = c('seg2_glm_lift10','seg_glm_lift10','agg_glm_lift10','agg_rf_lift10')"
   ]
  },
  {
   "cell_type": "code",
   "execution_count": 41,
   "metadata": {},
   "outputs": [],
   "source": [
    "metrics_df <- metrics_df %>%\n",
    "    mutate (auc_win=sapply(apply(.[,c(auc_vars)], \n",
    "                          1, function(x) names(x)[which.max(x)]) , function(s) if (length(s) == 0) NA else paste(s, collapse = \" \")) ,\n",
    "            l10_win=sapply(apply(.[,c(l10_vars)], \n",
    "                          1, function(x) names(x)[which.max(x)]), function(s) if (length(s) == 0) NA else paste(s, collapse = \" \")) \n",
    "            ) "
   ]
  },
  {
   "cell_type": "markdown",
   "metadata": {},
   "source": [
    "# proportion of wins by each class"
   ]
  },
  {
   "cell_type": "code",
   "execution_count": 42,
   "metadata": {},
   "outputs": [
    {
     "data": {
      "text/html": [
       "<table>\n",
       "<caption>A tibble: 7 × 2</caption>\n",
       "<thead>\n",
       "\t<tr><th scope=col>auc_win</th><th scope=col>n</th></tr>\n",
       "\t<tr><th scope=col>&lt;chr&gt;</th><th scope=col>&lt;int&gt;</th></tr>\n",
       "</thead>\n",
       "<tbody>\n",
       "\t<tr><td>NA          </td><td>665</td></tr>\n",
       "\t<tr><td>auc_seg2_glm</td><td>433</td></tr>\n",
       "\t<tr><td>auc_seg_glm </td><td>176</td></tr>\n",
       "\t<tr><td>auc_agg_glm </td><td>144</td></tr>\n",
       "\t<tr><td>auc_seg_rf  </td><td>117</td></tr>\n",
       "\t<tr><td>auc_agg_rf  </td><td> 94</td></tr>\n",
       "\t<tr><td>auc_seg2_rf </td><td> 94</td></tr>\n",
       "</tbody>\n",
       "</table>\n"
      ],
      "text/latex": [
       "A tibble: 7 × 2\n",
       "\\begin{tabular}{ll}\n",
       " auc\\_win & n\\\\\n",
       " <chr> & <int>\\\\\n",
       "\\hline\n",
       "\t NA           & 665\\\\\n",
       "\t auc\\_seg2\\_glm & 433\\\\\n",
       "\t auc\\_seg\\_glm  & 176\\\\\n",
       "\t auc\\_agg\\_glm  & 144\\\\\n",
       "\t auc\\_seg\\_rf   & 117\\\\\n",
       "\t auc\\_agg\\_rf   &  94\\\\\n",
       "\t auc\\_seg2\\_rf  &  94\\\\\n",
       "\\end{tabular}\n"
      ],
      "text/markdown": [
       "\n",
       "A tibble: 7 × 2\n",
       "\n",
       "| auc_win &lt;chr&gt; | n &lt;int&gt; |\n",
       "|---|---|\n",
       "| NA           | 665 |\n",
       "| auc_seg2_glm | 433 |\n",
       "| auc_seg_glm  | 176 |\n",
       "| auc_agg_glm  | 144 |\n",
       "| auc_seg_rf   | 117 |\n",
       "| auc_agg_rf   |  94 |\n",
       "| auc_seg2_rf  |  94 |\n",
       "\n"
      ],
      "text/plain": [
       "  auc_win      n  \n",
       "1 NA           665\n",
       "2 auc_seg2_glm 433\n",
       "3 auc_seg_glm  176\n",
       "4 auc_agg_glm  144\n",
       "5 auc_seg_rf   117\n",
       "6 auc_agg_rf    94\n",
       "7 auc_seg2_rf   94"
      ]
     },
     "metadata": {},
     "output_type": "display_data"
    }
   ],
   "source": [
    "metrics_df %>% \n",
    "    group_by(auc_win) %>%\n",
    "    tally() %>%\n",
    "    arrange(desc(n))"
   ]
  },
  {
   "cell_type": "code",
   "execution_count": 43,
   "metadata": {},
   "outputs": [
    {
     "data": {
      "text/html": [
       "<table>\n",
       "<caption>A tibble: 7 × 2</caption>\n",
       "<thead>\n",
       "\t<tr><th scope=col>l10_win</th><th scope=col>n</th></tr>\n",
       "\t<tr><th scope=col>&lt;chr&gt;</th><th scope=col>&lt;int&gt;</th></tr>\n",
       "</thead>\n",
       "<tbody>\n",
       "\t<tr><td>NA          </td><td>665</td></tr>\n",
       "\t<tr><td>l10_seg2_glm</td><td>603</td></tr>\n",
       "\t<tr><td>l10_seg_glm </td><td>158</td></tr>\n",
       "\t<tr><td>l10_agg_glm </td><td>104</td></tr>\n",
       "\t<tr><td>l10_seg2_rf </td><td>100</td></tr>\n",
       "\t<tr><td>l10_seg_rf  </td><td> 51</td></tr>\n",
       "\t<tr><td>l10_agg_rf  </td><td> 42</td></tr>\n",
       "</tbody>\n",
       "</table>\n"
      ],
      "text/latex": [
       "A tibble: 7 × 2\n",
       "\\begin{tabular}{ll}\n",
       " l10\\_win & n\\\\\n",
       " <chr> & <int>\\\\\n",
       "\\hline\n",
       "\t NA           & 665\\\\\n",
       "\t l10\\_seg2\\_glm & 603\\\\\n",
       "\t l10\\_seg\\_glm  & 158\\\\\n",
       "\t l10\\_agg\\_glm  & 104\\\\\n",
       "\t l10\\_seg2\\_rf  & 100\\\\\n",
       "\t l10\\_seg\\_rf   &  51\\\\\n",
       "\t l10\\_agg\\_rf   &  42\\\\\n",
       "\\end{tabular}\n"
      ],
      "text/markdown": [
       "\n",
       "A tibble: 7 × 2\n",
       "\n",
       "| l10_win &lt;chr&gt; | n &lt;int&gt; |\n",
       "|---|---|\n",
       "| NA           | 665 |\n",
       "| l10_seg2_glm | 603 |\n",
       "| l10_seg_glm  | 158 |\n",
       "| l10_agg_glm  | 104 |\n",
       "| l10_seg2_rf  | 100 |\n",
       "| l10_seg_rf   |  51 |\n",
       "| l10_agg_rf   |  42 |\n",
       "\n"
      ],
      "text/plain": [
       "  l10_win      n  \n",
       "1 NA           665\n",
       "2 l10_seg2_glm 603\n",
       "3 l10_seg_glm  158\n",
       "4 l10_agg_glm  104\n",
       "5 l10_seg2_rf  100\n",
       "6 l10_seg_rf    51\n",
       "7 l10_agg_rf    42"
      ]
     },
     "metadata": {},
     "output_type": "display_data"
    }
   ],
   "source": [
    "metrics_df %>% \n",
    "    group_by(l10_win) %>%\n",
    "    tally() %>%\n",
    "    arrange(desc(n))"
   ]
  },
  {
   "cell_type": "markdown",
   "metadata": {},
   "source": [
    "# Note 665 tld-resellers have no wins as a result of NAs across all models"
   ]
  },
  {
   "cell_type": "code",
   "execution_count": 44,
   "metadata": {},
   "outputs": [
    {
     "data": {
      "text/html": [
       "<style>\n",
       ".list-inline {list-style: none; margin:0; padding: 0}\n",
       ".list-inline>li {display: inline-block}\n",
       ".list-inline>li:not(:last-child)::after {content: \"\\00b7\"; padding: 0 .5ex}\n",
       "</style>\n",
       "<ol class=list-inline><li>665</li><li>59</li></ol>\n"
      ],
      "text/latex": [
       "\\begin{enumerate*}\n",
       "\\item 665\n",
       "\\item 59\n",
       "\\end{enumerate*}\n"
      ],
      "text/markdown": [
       "1. 665\n",
       "2. 59\n",
       "\n",
       "\n"
      ],
      "text/plain": [
       "[1] 665  59"
      ]
     },
     "metadata": {},
     "output_type": "display_data"
    }
   ],
   "source": [
    "# examine where neither of models returned auc (or lift) values.. ssume this is where test data had no observatins\n",
    "na_df <- metrics_df %>% filter(is.na(auc_win)) \n",
    "dim(na_df)"
   ]
  },
  {
   "cell_type": "code",
   "execution_count": 45,
   "metadata": {},
   "outputs": [
    {
     "name": "stderr",
     "output_type": "stream",
     "text": [
      "Warning message:\n",
      "“`funs()` is deprecated as of dplyr 0.8.0.\n",
      "Please use a list of either functions or lambdas: \n",
      "\n",
      "  # Simple named list: \n",
      "  list(mean = mean, median = median)\n",
      "\n",
      "  # Auto named with `tibble::lst()`: \n",
      "  tibble::lst(mean, median)\n",
      "\n",
      "  # Using lambdas\n",
      "  list(~ mean(., trim = .2), ~ median(., na.rm = TRUE))\n",
      "\u001b[90mThis warning is displayed once every 8 hours.\u001b[39m\n",
      "\u001b[90mCall `lifecycle::last_warnings()` to see where this warning was generated.\u001b[39m”\n"
     ]
    },
    {
     "data": {
      "text/html": [
       "<table>\n",
       "<caption>A matrix: 59 × 1 of type int</caption>\n",
       "<tbody>\n",
       "\t<tr><th scope=row>l10_seg2_glm</th><td>665</td></tr>\n",
       "\t<tr><th scope=row>l10_seg_glm</th><td>665</td></tr>\n",
       "\t<tr><th scope=row>l10_agg_glm</th><td>665</td></tr>\n",
       "\t<tr><th scope=row>l10_seg2_rf</th><td>665</td></tr>\n",
       "\t<tr><th scope=row>l10_seg_rf</th><td>665</td></tr>\n",
       "\t<tr><th scope=row>l10_agg_rf</th><td>665</td></tr>\n",
       "\t<tr><th scope=row>auc_seg2_glm</th><td>665</td></tr>\n",
       "\t<tr><th scope=row>auc_seg_glm</th><td>665</td></tr>\n",
       "\t<tr><th scope=row>auc_agg_glm</th><td>665</td></tr>\n",
       "\t<tr><th scope=row>auc_seg2_rf</th><td>665</td></tr>\n",
       "\t<tr><th scope=row>auc_seg_rf</th><td>665</td></tr>\n",
       "\t<tr><th scope=row>auc_agg_rf</th><td>665</td></tr>\n",
       "\t<tr><th scope=row>tld_reseller</th><td>  0</td></tr>\n",
       "\t<tr><th scope=row>count</th><td>  0</td></tr>\n",
       "\t<tr><th scope=row>ren_prp</th><td>  0</td></tr>\n",
       "\t<tr><th scope=row>tld_rat</th><td>  0</td></tr>\n",
       "\t<tr><th scope=row>country_maj</th><td>  0</td></tr>\n",
       "\t<tr><th scope=row>region_maj</th><td>  0</td></tr>\n",
       "\t<tr><th scope=row>country_cnt</th><td>  0</td></tr>\n",
       "\t<tr><th scope=row>region_cnt</th><td>  0</td></tr>\n",
       "\t<tr><th scope=row>geo_cnt</th><td>  0</td></tr>\n",
       "\t<tr><th scope=row>geo_maj</th><td> 25</td></tr>\n",
       "\t<tr><th scope=row>daydom_min</th><td>  0</td></tr>\n",
       "\t<tr><th scope=row>daydom_max</th><td>  0</td></tr>\n",
       "\t<tr><th scope=row>daydom_mean</th><td>  0</td></tr>\n",
       "\t<tr><th scope=row>daydom_rng</th><td>  0</td></tr>\n",
       "\t<tr><th scope=row>daydom_std</th><td>218</td></tr>\n",
       "\t<tr><th scope=row>daydom_skew</th><td>444</td></tr>\n",
       "\t<tr><th scope=row>daydom_kurt</th><td>444</td></tr>\n",
       "\t<tr><th scope=row>sldlen_min</th><td>  0</td></tr>\n",
       "\t<tr><th scope=row>sldlen_max</th><td>  0</td></tr>\n",
       "\t<tr><th scope=row>sldlen_mean</th><td>  0</td></tr>\n",
       "\t<tr><th scope=row>sldlen_rng</th><td>  0</td></tr>\n",
       "\t<tr><th scope=row>sldlen_std</th><td>218</td></tr>\n",
       "\t<tr><th scope=row>sldlen_skew</th><td>226</td></tr>\n",
       "\t<tr><th scope=row>sldlen_kurt</th><td>226</td></tr>\n",
       "\t<tr><th scope=row>gibbs_min</th><td>  0</td></tr>\n",
       "\t<tr><th scope=row>gibbs_max</th><td>  0</td></tr>\n",
       "\t<tr><th scope=row>gibbs_mean</th><td>  0</td></tr>\n",
       "\t<tr><th scope=row>gibbs_rng</th><td>  0</td></tr>\n",
       "\t<tr><th scope=row>gibbs_std</th><td>218</td></tr>\n",
       "\t<tr><th scope=row>gibbs_skew</th><td>220</td></tr>\n",
       "\t<tr><th scope=row>gibbs_kurt</th><td>220</td></tr>\n",
       "\t<tr><th scope=row>pdcnt_min</th><td>  0</td></tr>\n",
       "\t<tr><th scope=row>pdcnt_max</th><td>  0</td></tr>\n",
       "\t<tr><th scope=row>pdcnt_mean</th><td>  0</td></tr>\n",
       "\t<tr><th scope=row>pdcnt_rng</th><td>  0</td></tr>\n",
       "\t<tr><th scope=row>pdcnt_std</th><td>218</td></tr>\n",
       "\t<tr><th scope=row>pdcnt_skew</th><td>550</td></tr>\n",
       "\t<tr><th scope=row>pdcnt_kurt</th><td>550</td></tr>\n",
       "\t<tr><th scope=row>rarpt_min</th><td>  0</td></tr>\n",
       "\t<tr><th scope=row>rarpt_max</th><td>  0</td></tr>\n",
       "\t<tr><th scope=row>rarpt_mean</th><td>  0</td></tr>\n",
       "\t<tr><th scope=row>rarpt_rng</th><td>  0</td></tr>\n",
       "\t<tr><th scope=row>rarpt_std</th><td>218</td></tr>\n",
       "\t<tr><th scope=row>rarpt_skew</th><td>541</td></tr>\n",
       "\t<tr><th scope=row>rarpt_kurt</th><td>541</td></tr>\n",
       "\t<tr><th scope=row>auc_win</th><td>665</td></tr>\n",
       "\t<tr><th scope=row>l10_win</th><td>665</td></tr>\n",
       "</tbody>\n",
       "</table>\n"
      ],
      "text/latex": [
       "A matrix: 59 × 1 of type int\n",
       "\\begin{tabular}{r|l}\n",
       "\tl10\\_seg2\\_glm & 665\\\\\n",
       "\tl10\\_seg\\_glm & 665\\\\\n",
       "\tl10\\_agg\\_glm & 665\\\\\n",
       "\tl10\\_seg2\\_rf & 665\\\\\n",
       "\tl10\\_seg\\_rf & 665\\\\\n",
       "\tl10\\_agg\\_rf & 665\\\\\n",
       "\tauc\\_seg2\\_glm & 665\\\\\n",
       "\tauc\\_seg\\_glm & 665\\\\\n",
       "\tauc\\_agg\\_glm & 665\\\\\n",
       "\tauc\\_seg2\\_rf & 665\\\\\n",
       "\tauc\\_seg\\_rf & 665\\\\\n",
       "\tauc\\_agg\\_rf & 665\\\\\n",
       "\ttld\\_reseller &   0\\\\\n",
       "\tcount &   0\\\\\n",
       "\tren\\_prp &   0\\\\\n",
       "\ttld\\_rat &   0\\\\\n",
       "\tcountry\\_maj &   0\\\\\n",
       "\tregion\\_maj &   0\\\\\n",
       "\tcountry\\_cnt &   0\\\\\n",
       "\tregion\\_cnt &   0\\\\\n",
       "\tgeo\\_cnt &   0\\\\\n",
       "\tgeo\\_maj &  25\\\\\n",
       "\tdaydom\\_min &   0\\\\\n",
       "\tdaydom\\_max &   0\\\\\n",
       "\tdaydom\\_mean &   0\\\\\n",
       "\tdaydom\\_rng &   0\\\\\n",
       "\tdaydom\\_std & 218\\\\\n",
       "\tdaydom\\_skew & 444\\\\\n",
       "\tdaydom\\_kurt & 444\\\\\n",
       "\tsldlen\\_min &   0\\\\\n",
       "\tsldlen\\_max &   0\\\\\n",
       "\tsldlen\\_mean &   0\\\\\n",
       "\tsldlen\\_rng &   0\\\\\n",
       "\tsldlen\\_std & 218\\\\\n",
       "\tsldlen\\_skew & 226\\\\\n",
       "\tsldlen\\_kurt & 226\\\\\n",
       "\tgibbs\\_min &   0\\\\\n",
       "\tgibbs\\_max &   0\\\\\n",
       "\tgibbs\\_mean &   0\\\\\n",
       "\tgibbs\\_rng &   0\\\\\n",
       "\tgibbs\\_std & 218\\\\\n",
       "\tgibbs\\_skew & 220\\\\\n",
       "\tgibbs\\_kurt & 220\\\\\n",
       "\tpdcnt\\_min &   0\\\\\n",
       "\tpdcnt\\_max &   0\\\\\n",
       "\tpdcnt\\_mean &   0\\\\\n",
       "\tpdcnt\\_rng &   0\\\\\n",
       "\tpdcnt\\_std & 218\\\\\n",
       "\tpdcnt\\_skew & 550\\\\\n",
       "\tpdcnt\\_kurt & 550\\\\\n",
       "\trarpt\\_min &   0\\\\\n",
       "\trarpt\\_max &   0\\\\\n",
       "\trarpt\\_mean &   0\\\\\n",
       "\trarpt\\_rng &   0\\\\\n",
       "\trarpt\\_std & 218\\\\\n",
       "\trarpt\\_skew & 541\\\\\n",
       "\trarpt\\_kurt & 541\\\\\n",
       "\tauc\\_win & 665\\\\\n",
       "\tl10\\_win & 665\\\\\n",
       "\\end{tabular}\n"
      ],
      "text/markdown": [
       "\n",
       "A matrix: 59 × 1 of type int\n",
       "\n",
       "| l10_seg2_glm | 665 |\n",
       "| l10_seg_glm | 665 |\n",
       "| l10_agg_glm | 665 |\n",
       "| l10_seg2_rf | 665 |\n",
       "| l10_seg_rf | 665 |\n",
       "| l10_agg_rf | 665 |\n",
       "| auc_seg2_glm | 665 |\n",
       "| auc_seg_glm | 665 |\n",
       "| auc_agg_glm | 665 |\n",
       "| auc_seg2_rf | 665 |\n",
       "| auc_seg_rf | 665 |\n",
       "| auc_agg_rf | 665 |\n",
       "| tld_reseller |   0 |\n",
       "| count |   0 |\n",
       "| ren_prp |   0 |\n",
       "| tld_rat |   0 |\n",
       "| country_maj |   0 |\n",
       "| region_maj |   0 |\n",
       "| country_cnt |   0 |\n",
       "| region_cnt |   0 |\n",
       "| geo_cnt |   0 |\n",
       "| geo_maj |  25 |\n",
       "| daydom_min |   0 |\n",
       "| daydom_max |   0 |\n",
       "| daydom_mean |   0 |\n",
       "| daydom_rng |   0 |\n",
       "| daydom_std | 218 |\n",
       "| daydom_skew | 444 |\n",
       "| daydom_kurt | 444 |\n",
       "| sldlen_min |   0 |\n",
       "| sldlen_max |   0 |\n",
       "| sldlen_mean |   0 |\n",
       "| sldlen_rng |   0 |\n",
       "| sldlen_std | 218 |\n",
       "| sldlen_skew | 226 |\n",
       "| sldlen_kurt | 226 |\n",
       "| gibbs_min |   0 |\n",
       "| gibbs_max |   0 |\n",
       "| gibbs_mean |   0 |\n",
       "| gibbs_rng |   0 |\n",
       "| gibbs_std | 218 |\n",
       "| gibbs_skew | 220 |\n",
       "| gibbs_kurt | 220 |\n",
       "| pdcnt_min |   0 |\n",
       "| pdcnt_max |   0 |\n",
       "| pdcnt_mean |   0 |\n",
       "| pdcnt_rng |   0 |\n",
       "| pdcnt_std | 218 |\n",
       "| pdcnt_skew | 550 |\n",
       "| pdcnt_kurt | 550 |\n",
       "| rarpt_min |   0 |\n",
       "| rarpt_max |   0 |\n",
       "| rarpt_mean |   0 |\n",
       "| rarpt_rng |   0 |\n",
       "| rarpt_std | 218 |\n",
       "| rarpt_skew | 541 |\n",
       "| rarpt_kurt | 541 |\n",
       "| auc_win | 665 |\n",
       "| l10_win | 665 |\n",
       "\n"
      ],
      "text/plain": [
       "             [,1]\n",
       "l10_seg2_glm 665 \n",
       "l10_seg_glm  665 \n",
       "l10_agg_glm  665 \n",
       "l10_seg2_rf  665 \n",
       "l10_seg_rf   665 \n",
       "l10_agg_rf   665 \n",
       "auc_seg2_glm 665 \n",
       "auc_seg_glm  665 \n",
       "auc_agg_glm  665 \n",
       "auc_seg2_rf  665 \n",
       "auc_seg_rf   665 \n",
       "auc_agg_rf   665 \n",
       "tld_reseller   0 \n",
       "count          0 \n",
       "ren_prp        0 \n",
       "tld_rat        0 \n",
       "country_maj    0 \n",
       "region_maj     0 \n",
       "country_cnt    0 \n",
       "region_cnt     0 \n",
       "geo_cnt        0 \n",
       "geo_maj       25 \n",
       "daydom_min     0 \n",
       "daydom_max     0 \n",
       "daydom_mean    0 \n",
       "daydom_rng     0 \n",
       "daydom_std   218 \n",
       "daydom_skew  444 \n",
       "daydom_kurt  444 \n",
       "sldlen_min     0 \n",
       "sldlen_max     0 \n",
       "sldlen_mean    0 \n",
       "sldlen_rng     0 \n",
       "sldlen_std   218 \n",
       "sldlen_skew  226 \n",
       "sldlen_kurt  226 \n",
       "gibbs_min      0 \n",
       "gibbs_max      0 \n",
       "gibbs_mean     0 \n",
       "gibbs_rng      0 \n",
       "gibbs_std    218 \n",
       "gibbs_skew   220 \n",
       "gibbs_kurt   220 \n",
       "pdcnt_min      0 \n",
       "pdcnt_max      0 \n",
       "pdcnt_mean     0 \n",
       "pdcnt_rng      0 \n",
       "pdcnt_std    218 \n",
       "pdcnt_skew   550 \n",
       "pdcnt_kurt   550 \n",
       "rarpt_min      0 \n",
       "rarpt_max      0 \n",
       "rarpt_mean     0 \n",
       "rarpt_rng      0 \n",
       "rarpt_std    218 \n",
       "rarpt_skew   541 \n",
       "rarpt_kurt   541 \n",
       "auc_win      665 \n",
       "l10_win      665 "
      ]
     },
     "metadata": {},
     "output_type": "display_data"
    }
   ],
   "source": [
    "# auc_win is na IFF all metrics are na\n",
    "na_df %>%\n",
    "  select(everything()) %>%  # replace to your needs\n",
    "  summarise_all(funs(sum(is.na(.)))) %>% t()"
   ]
  },
  {
   "cell_type": "markdown",
   "metadata": {},
   "source": [
    "# NAs for Ranger"
   ]
  },
  {
   "cell_type": "code",
   "execution_count": 46,
   "metadata": {},
   "outputs": [
    {
     "data": {
      "text/html": [
       "<table>\n",
       "<caption>A matrix: 59 × 1 of type int</caption>\n",
       "<tbody>\n",
       "\t<tr><th scope=row>l10_seg2_glm</th><td> 665</td></tr>\n",
       "\t<tr><th scope=row>l10_seg_glm</th><td> 665</td></tr>\n",
       "\t<tr><th scope=row>l10_agg_glm</th><td> 665</td></tr>\n",
       "\t<tr><th scope=row>l10_seg2_rf</th><td> 665</td></tr>\n",
       "\t<tr><th scope=row>l10_seg_rf</th><td> 665</td></tr>\n",
       "\t<tr><th scope=row>l10_agg_rf</th><td> 665</td></tr>\n",
       "\t<tr><th scope=row>auc_seg2_glm</th><td> 665</td></tr>\n",
       "\t<tr><th scope=row>auc_seg_glm</th><td> 665</td></tr>\n",
       "\t<tr><th scope=row>auc_agg_glm</th><td> 665</td></tr>\n",
       "\t<tr><th scope=row>auc_seg2_rf</th><td> 665</td></tr>\n",
       "\t<tr><th scope=row>auc_seg_rf</th><td> 665</td></tr>\n",
       "\t<tr><th scope=row>auc_agg_rf</th><td> 665</td></tr>\n",
       "\t<tr><th scope=row>tld_reseller</th><td>   0</td></tr>\n",
       "\t<tr><th scope=row>count</th><td>   0</td></tr>\n",
       "\t<tr><th scope=row>ren_prp</th><td>   0</td></tr>\n",
       "\t<tr><th scope=row>tld_rat</th><td>   0</td></tr>\n",
       "\t<tr><th scope=row>country_maj</th><td>   0</td></tr>\n",
       "\t<tr><th scope=row>region_maj</th><td>   0</td></tr>\n",
       "\t<tr><th scope=row>country_cnt</th><td>   0</td></tr>\n",
       "\t<tr><th scope=row>region_cnt</th><td>   0</td></tr>\n",
       "\t<tr><th scope=row>geo_cnt</th><td>   0</td></tr>\n",
       "\t<tr><th scope=row>geo_maj</th><td>  55</td></tr>\n",
       "\t<tr><th scope=row>daydom_min</th><td>   0</td></tr>\n",
       "\t<tr><th scope=row>daydom_max</th><td>   0</td></tr>\n",
       "\t<tr><th scope=row>daydom_mean</th><td>   0</td></tr>\n",
       "\t<tr><th scope=row>daydom_rng</th><td>   0</td></tr>\n",
       "\t<tr><th scope=row>daydom_std</th><td> 240</td></tr>\n",
       "\t<tr><th scope=row>daydom_skew</th><td> 618</td></tr>\n",
       "\t<tr><th scope=row>daydom_kurt</th><td> 618</td></tr>\n",
       "\t<tr><th scope=row>sldlen_min</th><td>   0</td></tr>\n",
       "\t<tr><th scope=row>sldlen_max</th><td>   0</td></tr>\n",
       "\t<tr><th scope=row>sldlen_mean</th><td>   0</td></tr>\n",
       "\t<tr><th scope=row>sldlen_rng</th><td>   0</td></tr>\n",
       "\t<tr><th scope=row>sldlen_std</th><td> 240</td></tr>\n",
       "\t<tr><th scope=row>sldlen_skew</th><td> 252</td></tr>\n",
       "\t<tr><th scope=row>sldlen_kurt</th><td> 252</td></tr>\n",
       "\t<tr><th scope=row>gibbs_min</th><td>   0</td></tr>\n",
       "\t<tr><th scope=row>gibbs_max</th><td>   0</td></tr>\n",
       "\t<tr><th scope=row>gibbs_mean</th><td>   0</td></tr>\n",
       "\t<tr><th scope=row>gibbs_rng</th><td>   0</td></tr>\n",
       "\t<tr><th scope=row>gibbs_std</th><td> 240</td></tr>\n",
       "\t<tr><th scope=row>gibbs_skew</th><td> 244</td></tr>\n",
       "\t<tr><th scope=row>gibbs_kurt</th><td> 244</td></tr>\n",
       "\t<tr><th scope=row>pdcnt_min</th><td>   0</td></tr>\n",
       "\t<tr><th scope=row>pdcnt_max</th><td>   0</td></tr>\n",
       "\t<tr><th scope=row>pdcnt_mean</th><td>   0</td></tr>\n",
       "\t<tr><th scope=row>pdcnt_rng</th><td>   0</td></tr>\n",
       "\t<tr><th scope=row>pdcnt_std</th><td> 240</td></tr>\n",
       "\t<tr><th scope=row>pdcnt_skew</th><td> 876</td></tr>\n",
       "\t<tr><th scope=row>pdcnt_kurt</th><td> 876</td></tr>\n",
       "\t<tr><th scope=row>rarpt_min</th><td>   0</td></tr>\n",
       "\t<tr><th scope=row>rarpt_max</th><td>   0</td></tr>\n",
       "\t<tr><th scope=row>rarpt_mean</th><td>   0</td></tr>\n",
       "\t<tr><th scope=row>rarpt_rng</th><td>   0</td></tr>\n",
       "\t<tr><th scope=row>rarpt_std</th><td> 240</td></tr>\n",
       "\t<tr><th scope=row>rarpt_skew</th><td>1064</td></tr>\n",
       "\t<tr><th scope=row>rarpt_kurt</th><td>1064</td></tr>\n",
       "\t<tr><th scope=row>auc_win</th><td> 665</td></tr>\n",
       "\t<tr><th scope=row>l10_win</th><td> 665</td></tr>\n",
       "</tbody>\n",
       "</table>\n"
      ],
      "text/latex": [
       "A matrix: 59 × 1 of type int\n",
       "\\begin{tabular}{r|l}\n",
       "\tl10\\_seg2\\_glm &  665\\\\\n",
       "\tl10\\_seg\\_glm &  665\\\\\n",
       "\tl10\\_agg\\_glm &  665\\\\\n",
       "\tl10\\_seg2\\_rf &  665\\\\\n",
       "\tl10\\_seg\\_rf &  665\\\\\n",
       "\tl10\\_agg\\_rf &  665\\\\\n",
       "\tauc\\_seg2\\_glm &  665\\\\\n",
       "\tauc\\_seg\\_glm &  665\\\\\n",
       "\tauc\\_agg\\_glm &  665\\\\\n",
       "\tauc\\_seg2\\_rf &  665\\\\\n",
       "\tauc\\_seg\\_rf &  665\\\\\n",
       "\tauc\\_agg\\_rf &  665\\\\\n",
       "\ttld\\_reseller &    0\\\\\n",
       "\tcount &    0\\\\\n",
       "\tren\\_prp &    0\\\\\n",
       "\ttld\\_rat &    0\\\\\n",
       "\tcountry\\_maj &    0\\\\\n",
       "\tregion\\_maj &    0\\\\\n",
       "\tcountry\\_cnt &    0\\\\\n",
       "\tregion\\_cnt &    0\\\\\n",
       "\tgeo\\_cnt &    0\\\\\n",
       "\tgeo\\_maj &   55\\\\\n",
       "\tdaydom\\_min &    0\\\\\n",
       "\tdaydom\\_max &    0\\\\\n",
       "\tdaydom\\_mean &    0\\\\\n",
       "\tdaydom\\_rng &    0\\\\\n",
       "\tdaydom\\_std &  240\\\\\n",
       "\tdaydom\\_skew &  618\\\\\n",
       "\tdaydom\\_kurt &  618\\\\\n",
       "\tsldlen\\_min &    0\\\\\n",
       "\tsldlen\\_max &    0\\\\\n",
       "\tsldlen\\_mean &    0\\\\\n",
       "\tsldlen\\_rng &    0\\\\\n",
       "\tsldlen\\_std &  240\\\\\n",
       "\tsldlen\\_skew &  252\\\\\n",
       "\tsldlen\\_kurt &  252\\\\\n",
       "\tgibbs\\_min &    0\\\\\n",
       "\tgibbs\\_max &    0\\\\\n",
       "\tgibbs\\_mean &    0\\\\\n",
       "\tgibbs\\_rng &    0\\\\\n",
       "\tgibbs\\_std &  240\\\\\n",
       "\tgibbs\\_skew &  244\\\\\n",
       "\tgibbs\\_kurt &  244\\\\\n",
       "\tpdcnt\\_min &    0\\\\\n",
       "\tpdcnt\\_max &    0\\\\\n",
       "\tpdcnt\\_mean &    0\\\\\n",
       "\tpdcnt\\_rng &    0\\\\\n",
       "\tpdcnt\\_std &  240\\\\\n",
       "\tpdcnt\\_skew &  876\\\\\n",
       "\tpdcnt\\_kurt &  876\\\\\n",
       "\trarpt\\_min &    0\\\\\n",
       "\trarpt\\_max &    0\\\\\n",
       "\trarpt\\_mean &    0\\\\\n",
       "\trarpt\\_rng &    0\\\\\n",
       "\trarpt\\_std &  240\\\\\n",
       "\trarpt\\_skew & 1064\\\\\n",
       "\trarpt\\_kurt & 1064\\\\\n",
       "\tauc\\_win &  665\\\\\n",
       "\tl10\\_win &  665\\\\\n",
       "\\end{tabular}\n"
      ],
      "text/markdown": [
       "\n",
       "A matrix: 59 × 1 of type int\n",
       "\n",
       "| l10_seg2_glm |  665 |\n",
       "| l10_seg_glm |  665 |\n",
       "| l10_agg_glm |  665 |\n",
       "| l10_seg2_rf |  665 |\n",
       "| l10_seg_rf |  665 |\n",
       "| l10_agg_rf |  665 |\n",
       "| auc_seg2_glm |  665 |\n",
       "| auc_seg_glm |  665 |\n",
       "| auc_agg_glm |  665 |\n",
       "| auc_seg2_rf |  665 |\n",
       "| auc_seg_rf |  665 |\n",
       "| auc_agg_rf |  665 |\n",
       "| tld_reseller |    0 |\n",
       "| count |    0 |\n",
       "| ren_prp |    0 |\n",
       "| tld_rat |    0 |\n",
       "| country_maj |    0 |\n",
       "| region_maj |    0 |\n",
       "| country_cnt |    0 |\n",
       "| region_cnt |    0 |\n",
       "| geo_cnt |    0 |\n",
       "| geo_maj |   55 |\n",
       "| daydom_min |    0 |\n",
       "| daydom_max |    0 |\n",
       "| daydom_mean |    0 |\n",
       "| daydom_rng |    0 |\n",
       "| daydom_std |  240 |\n",
       "| daydom_skew |  618 |\n",
       "| daydom_kurt |  618 |\n",
       "| sldlen_min |    0 |\n",
       "| sldlen_max |    0 |\n",
       "| sldlen_mean |    0 |\n",
       "| sldlen_rng |    0 |\n",
       "| sldlen_std |  240 |\n",
       "| sldlen_skew |  252 |\n",
       "| sldlen_kurt |  252 |\n",
       "| gibbs_min |    0 |\n",
       "| gibbs_max |    0 |\n",
       "| gibbs_mean |    0 |\n",
       "| gibbs_rng |    0 |\n",
       "| gibbs_std |  240 |\n",
       "| gibbs_skew |  244 |\n",
       "| gibbs_kurt |  244 |\n",
       "| pdcnt_min |    0 |\n",
       "| pdcnt_max |    0 |\n",
       "| pdcnt_mean |    0 |\n",
       "| pdcnt_rng |    0 |\n",
       "| pdcnt_std |  240 |\n",
       "| pdcnt_skew |  876 |\n",
       "| pdcnt_kurt |  876 |\n",
       "| rarpt_min |    0 |\n",
       "| rarpt_max |    0 |\n",
       "| rarpt_mean |    0 |\n",
       "| rarpt_rng |    0 |\n",
       "| rarpt_std |  240 |\n",
       "| rarpt_skew | 1064 |\n",
       "| rarpt_kurt | 1064 |\n",
       "| auc_win |  665 |\n",
       "| l10_win |  665 |\n",
       "\n"
      ],
      "text/plain": [
       "             [,1]\n",
       "l10_seg2_glm  665\n",
       "l10_seg_glm   665\n",
       "l10_agg_glm   665\n",
       "l10_seg2_rf   665\n",
       "l10_seg_rf    665\n",
       "l10_agg_rf    665\n",
       "auc_seg2_glm  665\n",
       "auc_seg_glm   665\n",
       "auc_agg_glm   665\n",
       "auc_seg2_rf   665\n",
       "auc_seg_rf    665\n",
       "auc_agg_rf    665\n",
       "tld_reseller    0\n",
       "count           0\n",
       "ren_prp         0\n",
       "tld_rat         0\n",
       "country_maj     0\n",
       "region_maj      0\n",
       "country_cnt     0\n",
       "region_cnt      0\n",
       "geo_cnt         0\n",
       "geo_maj        55\n",
       "daydom_min      0\n",
       "daydom_max      0\n",
       "daydom_mean     0\n",
       "daydom_rng      0\n",
       "daydom_std    240\n",
       "daydom_skew   618\n",
       "daydom_kurt   618\n",
       "sldlen_min      0\n",
       "sldlen_max      0\n",
       "sldlen_mean     0\n",
       "sldlen_rng      0\n",
       "sldlen_std    240\n",
       "sldlen_skew   252\n",
       "sldlen_kurt   252\n",
       "gibbs_min       0\n",
       "gibbs_max       0\n",
       "gibbs_mean      0\n",
       "gibbs_rng       0\n",
       "gibbs_std     240\n",
       "gibbs_skew    244\n",
       "gibbs_kurt    244\n",
       "pdcnt_min       0\n",
       "pdcnt_max       0\n",
       "pdcnt_mean      0\n",
       "pdcnt_rng       0\n",
       "pdcnt_std     240\n",
       "pdcnt_skew    876\n",
       "pdcnt_kurt    876\n",
       "rarpt_min       0\n",
       "rarpt_max       0\n",
       "rarpt_mean      0\n",
       "rarpt_rng       0\n",
       "rarpt_std     240\n",
       "rarpt_skew   1064\n",
       "rarpt_kurt   1064\n",
       "auc_win       665\n",
       "l10_win       665"
      ]
     },
     "metadata": {},
     "output_type": "display_data"
    }
   ],
   "source": [
    "# auc_win is na IFF all metrics are na\n",
    "metrics_df %>%\n",
    "  select(everything()) %>%  # replace to your needs\n",
    "  summarise_all(funs(sum(is.na(.)))) %>% t()"
   ]
  },
  {
   "cell_type": "markdown",
   "metadata": {},
   "source": [
    "# Examine indiivdual tld-resellers"
   ]
  },
  {
   "cell_type": "code",
   "execution_count": 47,
   "metadata": {},
   "outputs": [
    {
     "data": {
      "text/html": [
       "665"
      ],
      "text/latex": [
       "665"
      ],
      "text/markdown": [
       "665"
      ],
      "text/plain": [
       "[1] 665"
      ]
     },
     "metadata": {},
     "output_type": "display_data"
    },
    {
     "data": {
      "text/html": [
       "<style>\n",
       ".list-inline {list-style: none; margin:0; padding: 0}\n",
       ".list-inline>li {display: inline-block}\n",
       ".list-inline>li:not(:last-child)::after {content: \"\\00b7\"; padding: 0 .5ex}\n",
       "</style>\n",
       "<ol class=list-inline><li>'funzhengzhou century connect'</li><li>'sitepdr china'</li><li>'onlinepdr china'</li><li>'spaceeranet'</li><li>'funmoniker'</li><li>'siteeranet'</li></ol>\n"
      ],
      "text/latex": [
       "\\begin{enumerate*}\n",
       "\\item 'funzhengzhou century connect'\n",
       "\\item 'sitepdr china'\n",
       "\\item 'onlinepdr china'\n",
       "\\item 'spaceeranet'\n",
       "\\item 'funmoniker'\n",
       "\\item 'siteeranet'\n",
       "\\end{enumerate*}\n"
      ],
      "text/markdown": [
       "1. 'funzhengzhou century connect'\n",
       "2. 'sitepdr china'\n",
       "3. 'onlinepdr china'\n",
       "4. 'spaceeranet'\n",
       "5. 'funmoniker'\n",
       "6. 'siteeranet'\n",
       "\n",
       "\n"
      ],
      "text/plain": [
       "[1] \"funzhengzhou century connect\" \"sitepdr china\"               \n",
       "[3] \"onlinepdr china\"              \"spaceeranet\"                 \n",
       "[5] \"funmoniker\"                   \"siteeranet\"                  "
      ]
     },
     "metadata": {},
     "output_type": "display_data"
    }
   ],
   "source": [
    "na_tridxs <- metrics_df %>% filter(is.na(l10_agg_rf)) %>% pull(tld_reseller)\n",
    "length(na_tridxs)\n",
    "head(na_tridxs)"
   ]
  },
  {
   "cell_type": "code",
   "execution_count": 48,
   "metadata": {},
   "outputs": [
    {
     "data": {
      "text/html": [
       "'funzhengzhou century connect'"
      ],
      "text/latex": [
       "'funzhengzhou century connect'"
      ],
      "text/markdown": [
       "'funzhengzhou century connect'"
      ],
      "text/plain": [
       "[1] \"funzhengzhou century connect\""
      ]
     },
     "metadata": {},
     "output_type": "display_data"
    }
   ],
   "source": [
    "i=1\n",
    "na_tridxs[[i]]"
   ]
  },
  {
   "cell_type": "code",
   "execution_count": 49,
   "metadata": {},
   "outputs": [
    {
     "data": {
      "text/html": [
       "<table>\n",
       "<caption>A matrix: 59 × 1 of type chr</caption>\n",
       "<tbody>\n",
       "\t<tr><th scope=row>l10_seg2_glm</th><td>NA                          </td></tr>\n",
       "\t<tr><th scope=row>l10_seg_glm</th><td>NA                          </td></tr>\n",
       "\t<tr><th scope=row>l10_agg_glm</th><td>NA                          </td></tr>\n",
       "\t<tr><th scope=row>l10_seg2_rf</th><td>NA                          </td></tr>\n",
       "\t<tr><th scope=row>l10_seg_rf</th><td>NA                          </td></tr>\n",
       "\t<tr><th scope=row>l10_agg_rf</th><td>NA                          </td></tr>\n",
       "\t<tr><th scope=row>auc_seg2_glm</th><td>NA                          </td></tr>\n",
       "\t<tr><th scope=row>auc_seg_glm</th><td>NA                          </td></tr>\n",
       "\t<tr><th scope=row>auc_agg_glm</th><td>NA                          </td></tr>\n",
       "\t<tr><th scope=row>auc_seg2_rf</th><td>NA                          </td></tr>\n",
       "\t<tr><th scope=row>auc_seg_rf</th><td>NA                          </td></tr>\n",
       "\t<tr><th scope=row>auc_agg_rf</th><td>NA                          </td></tr>\n",
       "\t<tr><th scope=row>tld_reseller</th><td>funzhengzhou century connect</td></tr>\n",
       "\t<tr><th scope=row>count</th><td>4249                        </td></tr>\n",
       "\t<tr><th scope=row>ren_prp</th><td>0.000941398                 </td></tr>\n",
       "\t<tr><th scope=row>tld_rat</th><td>0.0002353495                </td></tr>\n",
       "\t<tr><th scope=row>country_maj</th><td>China                       </td></tr>\n",
       "\t<tr><th scope=row>region_maj</th><td>China                       </td></tr>\n",
       "\t<tr><th scope=row>country_cnt</th><td>1                           </td></tr>\n",
       "\t<tr><th scope=row>region_cnt</th><td>1                           </td></tr>\n",
       "\t<tr><th scope=row>geo_cnt</th><td>1                           </td></tr>\n",
       "\t<tr><th scope=row>geo_maj</th><td>China                       </td></tr>\n",
       "\t<tr><th scope=row>daydom_min</th><td>1                           </td></tr>\n",
       "\t<tr><th scope=row>daydom_max</th><td>943                         </td></tr>\n",
       "\t<tr><th scope=row>daydom_mean</th><td>693.4594                    </td></tr>\n",
       "\t<tr><th scope=row>daydom_rng</th><td>942                         </td></tr>\n",
       "\t<tr><th scope=row>daydom_std</th><td>290.5569                    </td></tr>\n",
       "\t<tr><th scope=row>daydom_skew</th><td>-0.8374038                  </td></tr>\n",
       "\t<tr><th scope=row>daydom_kurt</th><td>-0.870594                   </td></tr>\n",
       "\t<tr><th scope=row>sldlen_min</th><td>3                           </td></tr>\n",
       "\t<tr><th scope=row>sldlen_max</th><td>17                          </td></tr>\n",
       "\t<tr><th scope=row>sldlen_mean</th><td>9.649565                    </td></tr>\n",
       "\t<tr><th scope=row>sldlen_rng</th><td>14                          </td></tr>\n",
       "\t<tr><th scope=row>sldlen_std</th><td>1.034845                    </td></tr>\n",
       "\t<tr><th scope=row>sldlen_skew</th><td>-0.5206263                  </td></tr>\n",
       "\t<tr><th scope=row>sldlen_kurt</th><td>3.4755                      </td></tr>\n",
       "\t<tr><th scope=row>gibbs_min</th><td>0.21                        </td></tr>\n",
       "\t<tr><th scope=row>gibbs_max</th><td>100                         </td></tr>\n",
       "\t<tr><th scope=row>gibbs_mean</th><td>1.264093                    </td></tr>\n",
       "\t<tr><th scope=row>gibbs_rng</th><td>99.79                       </td></tr>\n",
       "\t<tr><th scope=row>gibbs_std</th><td>4.820475                    </td></tr>\n",
       "\t<tr><th scope=row>gibbs_skew</th><td>20.22408                    </td></tr>\n",
       "\t<tr><th scope=row>gibbs_kurt</th><td>411.2425                    </td></tr>\n",
       "\t<tr><th scope=row>pdcnt_min</th><td>1                           </td></tr>\n",
       "\t<tr><th scope=row>pdcnt_max</th><td>896                         </td></tr>\n",
       "\t<tr><th scope=row>pdcnt_mean</th><td>563.2198                    </td></tr>\n",
       "\t<tr><th scope=row>pdcnt_rng</th><td>895                         </td></tr>\n",
       "\t<tr><th scope=row>pdcnt_std</th><td>286.7571                    </td></tr>\n",
       "\t<tr><th scope=row>pdcnt_skew</th><td>-0.08148525                 </td></tr>\n",
       "\t<tr><th scope=row>pdcnt_kurt</th><td>-1.452123                   </td></tr>\n",
       "\t<tr><th scope=row>rarpt_min</th><td>0.75                        </td></tr>\n",
       "\t<tr><th scope=row>rarpt_max</th><td>0.75                        </td></tr>\n",
       "\t<tr><th scope=row>rarpt_mean</th><td>0.75                        </td></tr>\n",
       "\t<tr><th scope=row>rarpt_rng</th><td>0                           </td></tr>\n",
       "\t<tr><th scope=row>rarpt_std</th><td>0                           </td></tr>\n",
       "\t<tr><th scope=row>rarpt_skew</th><td>NA                          </td></tr>\n",
       "\t<tr><th scope=row>rarpt_kurt</th><td>NA                          </td></tr>\n",
       "\t<tr><th scope=row>auc_win</th><td>NA                          </td></tr>\n",
       "\t<tr><th scope=row>l10_win</th><td>NA                          </td></tr>\n",
       "</tbody>\n",
       "</table>\n"
      ],
      "text/latex": [
       "A matrix: 59 × 1 of type chr\n",
       "\\begin{tabular}{r|l}\n",
       "\tl10\\_seg2\\_glm & NA                          \\\\\n",
       "\tl10\\_seg\\_glm & NA                          \\\\\n",
       "\tl10\\_agg\\_glm & NA                          \\\\\n",
       "\tl10\\_seg2\\_rf & NA                          \\\\\n",
       "\tl10\\_seg\\_rf & NA                          \\\\\n",
       "\tl10\\_agg\\_rf & NA                          \\\\\n",
       "\tauc\\_seg2\\_glm & NA                          \\\\\n",
       "\tauc\\_seg\\_glm & NA                          \\\\\n",
       "\tauc\\_agg\\_glm & NA                          \\\\\n",
       "\tauc\\_seg2\\_rf & NA                          \\\\\n",
       "\tauc\\_seg\\_rf & NA                          \\\\\n",
       "\tauc\\_agg\\_rf & NA                          \\\\\n",
       "\ttld\\_reseller & funzhengzhou century connect\\\\\n",
       "\tcount & 4249                        \\\\\n",
       "\tren\\_prp & 0.000941398                 \\\\\n",
       "\ttld\\_rat & 0.0002353495                \\\\\n",
       "\tcountry\\_maj & China                       \\\\\n",
       "\tregion\\_maj & China                       \\\\\n",
       "\tcountry\\_cnt & 1                           \\\\\n",
       "\tregion\\_cnt & 1                           \\\\\n",
       "\tgeo\\_cnt & 1                           \\\\\n",
       "\tgeo\\_maj & China                       \\\\\n",
       "\tdaydom\\_min & 1                           \\\\\n",
       "\tdaydom\\_max & 943                         \\\\\n",
       "\tdaydom\\_mean & 693.4594                    \\\\\n",
       "\tdaydom\\_rng & 942                         \\\\\n",
       "\tdaydom\\_std & 290.5569                    \\\\\n",
       "\tdaydom\\_skew & -0.8374038                  \\\\\n",
       "\tdaydom\\_kurt & -0.870594                   \\\\\n",
       "\tsldlen\\_min & 3                           \\\\\n",
       "\tsldlen\\_max & 17                          \\\\\n",
       "\tsldlen\\_mean & 9.649565                    \\\\\n",
       "\tsldlen\\_rng & 14                          \\\\\n",
       "\tsldlen\\_std & 1.034845                    \\\\\n",
       "\tsldlen\\_skew & -0.5206263                  \\\\\n",
       "\tsldlen\\_kurt & 3.4755                      \\\\\n",
       "\tgibbs\\_min & 0.21                        \\\\\n",
       "\tgibbs\\_max & 100                         \\\\\n",
       "\tgibbs\\_mean & 1.264093                    \\\\\n",
       "\tgibbs\\_rng & 99.79                       \\\\\n",
       "\tgibbs\\_std & 4.820475                    \\\\\n",
       "\tgibbs\\_skew & 20.22408                    \\\\\n",
       "\tgibbs\\_kurt & 411.2425                    \\\\\n",
       "\tpdcnt\\_min & 1                           \\\\\n",
       "\tpdcnt\\_max & 896                         \\\\\n",
       "\tpdcnt\\_mean & 563.2198                    \\\\\n",
       "\tpdcnt\\_rng & 895                         \\\\\n",
       "\tpdcnt\\_std & 286.7571                    \\\\\n",
       "\tpdcnt\\_skew & -0.08148525                 \\\\\n",
       "\tpdcnt\\_kurt & -1.452123                   \\\\\n",
       "\trarpt\\_min & 0.75                        \\\\\n",
       "\trarpt\\_max & 0.75                        \\\\\n",
       "\trarpt\\_mean & 0.75                        \\\\\n",
       "\trarpt\\_rng & 0                           \\\\\n",
       "\trarpt\\_std & 0                           \\\\\n",
       "\trarpt\\_skew & NA                          \\\\\n",
       "\trarpt\\_kurt & NA                          \\\\\n",
       "\tauc\\_win & NA                          \\\\\n",
       "\tl10\\_win & NA                          \\\\\n",
       "\\end{tabular}\n"
      ],
      "text/markdown": [
       "\n",
       "A matrix: 59 × 1 of type chr\n",
       "\n",
       "| l10_seg2_glm | NA                           |\n",
       "| l10_seg_glm | NA                           |\n",
       "| l10_agg_glm | NA                           |\n",
       "| l10_seg2_rf | NA                           |\n",
       "| l10_seg_rf | NA                           |\n",
       "| l10_agg_rf | NA                           |\n",
       "| auc_seg2_glm | NA                           |\n",
       "| auc_seg_glm | NA                           |\n",
       "| auc_agg_glm | NA                           |\n",
       "| auc_seg2_rf | NA                           |\n",
       "| auc_seg_rf | NA                           |\n",
       "| auc_agg_rf | NA                           |\n",
       "| tld_reseller | funzhengzhou century connect |\n",
       "| count | 4249                         |\n",
       "| ren_prp | 0.000941398                  |\n",
       "| tld_rat | 0.0002353495                 |\n",
       "| country_maj | China                        |\n",
       "| region_maj | China                        |\n",
       "| country_cnt | 1                            |\n",
       "| region_cnt | 1                            |\n",
       "| geo_cnt | 1                            |\n",
       "| geo_maj | China                        |\n",
       "| daydom_min | 1                            |\n",
       "| daydom_max | 943                          |\n",
       "| daydom_mean | 693.4594                     |\n",
       "| daydom_rng | 942                          |\n",
       "| daydom_std | 290.5569                     |\n",
       "| daydom_skew | -0.8374038                   |\n",
       "| daydom_kurt | -0.870594                    |\n",
       "| sldlen_min | 3                            |\n",
       "| sldlen_max | 17                           |\n",
       "| sldlen_mean | 9.649565                     |\n",
       "| sldlen_rng | 14                           |\n",
       "| sldlen_std | 1.034845                     |\n",
       "| sldlen_skew | -0.5206263                   |\n",
       "| sldlen_kurt | 3.4755                       |\n",
       "| gibbs_min | 0.21                         |\n",
       "| gibbs_max | 100                          |\n",
       "| gibbs_mean | 1.264093                     |\n",
       "| gibbs_rng | 99.79                        |\n",
       "| gibbs_std | 4.820475                     |\n",
       "| gibbs_skew | 20.22408                     |\n",
       "| gibbs_kurt | 411.2425                     |\n",
       "| pdcnt_min | 1                            |\n",
       "| pdcnt_max | 896                          |\n",
       "| pdcnt_mean | 563.2198                     |\n",
       "| pdcnt_rng | 895                          |\n",
       "| pdcnt_std | 286.7571                     |\n",
       "| pdcnt_skew | -0.08148525                  |\n",
       "| pdcnt_kurt | -1.452123                    |\n",
       "| rarpt_min | 0.75                         |\n",
       "| rarpt_max | 0.75                         |\n",
       "| rarpt_mean | 0.75                         |\n",
       "| rarpt_rng | 0                            |\n",
       "| rarpt_std | 0                            |\n",
       "| rarpt_skew | NA                           |\n",
       "| rarpt_kurt | NA                           |\n",
       "| auc_win | NA                           |\n",
       "| l10_win | NA                           |\n",
       "\n"
      ],
      "text/plain": [
       "             [,1]                        \n",
       "l10_seg2_glm NA                          \n",
       "l10_seg_glm  NA                          \n",
       "l10_agg_glm  NA                          \n",
       "l10_seg2_rf  NA                          \n",
       "l10_seg_rf   NA                          \n",
       "l10_agg_rf   NA                          \n",
       "auc_seg2_glm NA                          \n",
       "auc_seg_glm  NA                          \n",
       "auc_agg_glm  NA                          \n",
       "auc_seg2_rf  NA                          \n",
       "auc_seg_rf   NA                          \n",
       "auc_agg_rf   NA                          \n",
       "tld_reseller funzhengzhou century connect\n",
       "count        4249                        \n",
       "ren_prp      0.000941398                 \n",
       "tld_rat      0.0002353495                \n",
       "country_maj  China                       \n",
       "region_maj   China                       \n",
       "country_cnt  1                           \n",
       "region_cnt   1                           \n",
       "geo_cnt      1                           \n",
       "geo_maj      China                       \n",
       "daydom_min   1                           \n",
       "daydom_max   943                         \n",
       "daydom_mean  693.4594                    \n",
       "daydom_rng   942                         \n",
       "daydom_std   290.5569                    \n",
       "daydom_skew  -0.8374038                  \n",
       "daydom_kurt  -0.870594                   \n",
       "sldlen_min   3                           \n",
       "sldlen_max   17                          \n",
       "sldlen_mean  9.649565                    \n",
       "sldlen_rng   14                          \n",
       "sldlen_std   1.034845                    \n",
       "sldlen_skew  -0.5206263                  \n",
       "sldlen_kurt  3.4755                      \n",
       "gibbs_min    0.21                        \n",
       "gibbs_max    100                         \n",
       "gibbs_mean   1.264093                    \n",
       "gibbs_rng    99.79                       \n",
       "gibbs_std    4.820475                    \n",
       "gibbs_skew   20.22408                    \n",
       "gibbs_kurt   411.2425                    \n",
       "pdcnt_min    1                           \n",
       "pdcnt_max    896                         \n",
       "pdcnt_mean   563.2198                    \n",
       "pdcnt_rng    895                         \n",
       "pdcnt_std    286.7571                    \n",
       "pdcnt_skew   -0.08148525                 \n",
       "pdcnt_kurt   -1.452123                   \n",
       "rarpt_min    0.75                        \n",
       "rarpt_max    0.75                        \n",
       "rarpt_mean   0.75                        \n",
       "rarpt_rng    0                           \n",
       "rarpt_std    0                           \n",
       "rarpt_skew   NA                          \n",
       "rarpt_kurt   NA                          \n",
       "auc_win      NA                          \n",
       "l10_win      NA                          "
      ]
     },
     "metadata": {},
     "output_type": "display_data"
    }
   ],
   "source": [
    "metrics_df %>% filter(tld_reseller==na_tridxs[[i]]) %>% t()"
   ]
  },
  {
   "cell_type": "code",
   "execution_count": 50,
   "metadata": {},
   "outputs": [
    {
     "name": "stdout",
     "output_type": "stream",
     "text": [
      "tld_reseller_str:\n",
      "[1] \"funzhengzhou century connect\"\n",
      "\n",
      "reseller_str"
     ]
    },
    {
     "data": {
      "text/html": [
       "'zhengzhou century connect'"
      ],
      "text/latex": [
       "'zhengzhou century connect'"
      ],
      "text/markdown": [
       "'zhengzhou century connect'"
      ],
      "text/plain": [
       "[1] \"zhengzhou century connect\""
      ]
     },
     "metadata": {},
     "output_type": "display_data"
    },
    {
     "name": "stdout",
     "output_type": "stream",
     "text": [
      "\n",
      "tld_registrars"
     ]
    },
    {
     "data": {
      "text/html": [
       "<style>\n",
       ".list-inline {list-style: none; margin:0; padding: 0}\n",
       ".list-inline>li {display: inline-block}\n",
       ".list-inline>li:not(:last-child)::after {content: \"\\00b7\"; padding: 0 .5ex}\n",
       "</style>\n",
       "<ol class=list-inline><li>'funzhengzhou century connect'</li><li>'hostzhengzhou century connect'</li><li>'onlinezhengzhou century connect'</li><li>'presszhengzhou century connect'</li><li>'sitezhengzhou century connect'</li><li>'spacezhengzhou century connect'</li><li>'storezhengzhou century connect'</li><li>'techzhengzhou century connect'</li><li>'websitezhengzhou century connect'</li></ol>\n"
      ],
      "text/latex": [
       "\\begin{enumerate*}\n",
       "\\item 'funzhengzhou century connect'\n",
       "\\item 'hostzhengzhou century connect'\n",
       "\\item 'onlinezhengzhou century connect'\n",
       "\\item 'presszhengzhou century connect'\n",
       "\\item 'sitezhengzhou century connect'\n",
       "\\item 'spacezhengzhou century connect'\n",
       "\\item 'storezhengzhou century connect'\n",
       "\\item 'techzhengzhou century connect'\n",
       "\\item 'websitezhengzhou century connect'\n",
       "\\end{enumerate*}\n"
      ],
      "text/markdown": [
       "1. 'funzhengzhou century connect'\n",
       "2. 'hostzhengzhou century connect'\n",
       "3. 'onlinezhengzhou century connect'\n",
       "4. 'presszhengzhou century connect'\n",
       "5. 'sitezhengzhou century connect'\n",
       "6. 'spacezhengzhou century connect'\n",
       "7. 'storezhengzhou century connect'\n",
       "8. 'techzhengzhou century connect'\n",
       "9. 'websitezhengzhou century connect'\n",
       "\n",
       "\n"
      ],
      "text/plain": [
       "[1] \"funzhengzhou century connect\"     \"hostzhengzhou century connect\"   \n",
       "[3] \"onlinezhengzhou century connect\"  \"presszhengzhou century connect\"  \n",
       "[5] \"sitezhengzhou century connect\"    \"spacezhengzhou century connect\"  \n",
       "[7] \"storezhengzhou century connect\"   \"techzhengzhou century connect\"   \n",
       "[9] \"websitezhengzhou century connect\""
      ]
     },
     "metadata": {},
     "output_type": "display_data"
    }
   ],
   "source": [
    "tld_reseller_str <- na_tridxs[[i]]\n",
    "cat('tld_reseller_str:\\n')\n",
    "print(tld_reseller_str)\n",
    "cat('\\n')\n",
    "\n",
    "reseller_lookup = expiry_train_df_1 %>% group_by(tld_registrar_index, reseller) %>% tally() %>% arrange(desc(n))\n",
    "\n",
    "cat('reseller_str')\n",
    "(reseller_str = reseller_lookup %>% filter(tld_registrar_index==tld_reseller_str) %>% pull(reseller))\n",
    "cat('\\n')\n",
    "cat('tld_registrars')\n",
    "(tld_registrars = names(expiry_train_prepped_2_1)[endsWith(names(expiry_train_prepped_2_1),reseller_str)])"
   ]
  },
  {
   "cell_type": "markdown",
   "metadata": {},
   "source": [
    "## Verify that test and train have sufficient number of observations"
   ]
  },
  {
   "cell_type": "code",
   "execution_count": 51,
   "metadata": {},
   "outputs": [],
   "source": [
    "train_list = expiry_train_prepped_2_1\n",
    "test_list = expiry_test_prepped_2_1"
   ]
  },
  {
   "cell_type": "code",
   "execution_count": 52,
   "metadata": {},
   "outputs": [],
   "source": [
    "# subset data for seg2 models\n",
    "train_list_tld_reseller = train_list[tld_reseller_str] # all the dfs associates with this reseller\n",
    "test_list_tld_reseller = test_list[tld_reseller_str]\n",
    "train_df_tld_reseller =  rbindlist(train_list_tld_reseller,use.names=TRUE)\n",
    "test_df_tld_reseller =  rbindlist(test_list_tld_reseller,use.names=TRUE)"
   ]
  },
  {
   "cell_type": "code",
   "execution_count": 53,
   "metadata": {},
   "outputs": [
    {
     "data": {
      "text/html": [
       "<style>\n",
       ".list-inline {list-style: none; margin:0; padding: 0}\n",
       ".list-inline>li {display: inline-block}\n",
       ".list-inline>li:not(:last-child)::after {content: \"\\00b7\"; padding: 0 .5ex}\n",
       "</style>\n",
       "<ol class=list-inline><li>1151</li><li>39</li></ol>\n"
      ],
      "text/latex": [
       "\\begin{enumerate*}\n",
       "\\item 1151\n",
       "\\item 39\n",
       "\\end{enumerate*}\n"
      ],
      "text/markdown": [
       "1. 1151\n",
       "2. 39\n",
       "\n",
       "\n"
      ],
      "text/plain": [
       "[1] 1151   39"
      ]
     },
     "metadata": {},
     "output_type": "display_data"
    },
    {
     "data": {
      "text/html": [
       "<style>\n",
       ".list-inline {list-style: none; margin:0; padding: 0}\n",
       ".list-inline>li {display: inline-block}\n",
       ".list-inline>li:not(:last-child)::after {content: \"\\00b7\"; padding: 0 .5ex}\n",
       "</style>\n",
       "<ol class=list-inline><li>4249</li><li>39</li></ol>\n"
      ],
      "text/latex": [
       "\\begin{enumerate*}\n",
       "\\item 4249\n",
       "\\item 39\n",
       "\\end{enumerate*}\n"
      ],
      "text/markdown": [
       "1. 4249\n",
       "2. 39\n",
       "\n",
       "\n"
      ],
      "text/plain": [
       "[1] 4249   39"
      ]
     },
     "metadata": {},
     "output_type": "display_data"
    }
   ],
   "source": [
    "dim(test_df_tld_reseller)\n",
    "dim(train_df_tld_reseller)"
   ]
  },
  {
   "cell_type": "code",
   "execution_count": 54,
   "metadata": {},
   "outputs": [],
   "source": [
    "# subset data for seg models\n",
    "train_list_reseller = train_list[tld_registrars]\n",
    "test_list_reseller = test_list[tld_registrars]\n",
    "train_df_reseller =  rbindlist(train_list_reseller,use.names=TRUE)\n",
    "test_df_reseller =  rbindlist(test_list_reseller,use.names=TRUE)\n",
    "\n",
    "\n"
   ]
  },
  {
   "cell_type": "code",
   "execution_count": 55,
   "metadata": {},
   "outputs": [
    {
     "data": {
      "text/html": [
       "<style>\n",
       ".list-inline {list-style: none; margin:0; padding: 0}\n",
       ".list-inline>li {display: inline-block}\n",
       ".list-inline>li:not(:last-child)::after {content: \"\\00b7\"; padding: 0 .5ex}\n",
       "</style>\n",
       "<ol class=list-inline><li>7043</li><li>39</li></ol>\n"
      ],
      "text/latex": [
       "\\begin{enumerate*}\n",
       "\\item 7043\n",
       "\\item 39\n",
       "\\end{enumerate*}\n"
      ],
      "text/markdown": [
       "1. 7043\n",
       "2. 39\n",
       "\n",
       "\n"
      ],
      "text/plain": [
       "[1] 7043   39"
      ]
     },
     "metadata": {},
     "output_type": "display_data"
    },
    {
     "data": {
      "text/html": [
       "<style>\n",
       ".list-inline {list-style: none; margin:0; padding: 0}\n",
       ".list-inline>li {display: inline-block}\n",
       ".list-inline>li:not(:last-child)::after {content: \"\\00b7\"; padding: 0 .5ex}\n",
       "</style>\n",
       "<ol class=list-inline><li>27066</li><li>39</li></ol>\n"
      ],
      "text/latex": [
       "\\begin{enumerate*}\n",
       "\\item 27066\n",
       "\\item 39\n",
       "\\end{enumerate*}\n"
      ],
      "text/markdown": [
       "1. 27066\n",
       "2. 39\n",
       "\n",
       "\n"
      ],
      "text/plain": [
       "[1] 27066    39"
      ]
     },
     "metadata": {},
     "output_type": "display_data"
    }
   ],
   "source": [
    "dim(test_df_reseller)\n",
    "dim(train_df_reseller)"
   ]
  },
  {
   "cell_type": "markdown",
   "metadata": {},
   "source": [
    "## Verify that test and train haren't missing predictors"
   ]
  },
  {
   "cell_type": "code",
   "execution_count": 56,
   "metadata": {},
   "outputs": [
    {
     "data": {
      "text/html": [
       "<table>\n",
       "<caption>A matrix: 7 × 1 of type int</caption>\n",
       "<tbody>\n",
       "\t<tr><th scope=row>pattern_domain_count</th><td>0</td></tr>\n",
       "\t<tr><th scope=row>log_reg_arpt</th><td>0</td></tr>\n",
       "\t<tr><th scope=row>sld_length</th><td>0</td></tr>\n",
       "\t<tr><th scope=row>gibb_score</th><td>0</td></tr>\n",
       "\t<tr><th scope=row>sld_type</th><td>0</td></tr>\n",
       "\t<tr><th scope=row>day_domains</th><td>0</td></tr>\n",
       "\t<tr><th scope=row>reg_period</th><td>0</td></tr>\n",
       "</tbody>\n",
       "</table>\n"
      ],
      "text/latex": [
       "A matrix: 7 × 1 of type int\n",
       "\\begin{tabular}{r|l}\n",
       "\tpattern\\_domain\\_count & 0\\\\\n",
       "\tlog\\_reg\\_arpt & 0\\\\\n",
       "\tsld\\_length & 0\\\\\n",
       "\tgibb\\_score & 0\\\\\n",
       "\tsld\\_type & 0\\\\\n",
       "\tday\\_domains & 0\\\\\n",
       "\treg\\_period & 0\\\\\n",
       "\\end{tabular}\n"
      ],
      "text/markdown": [
       "\n",
       "A matrix: 7 × 1 of type int\n",
       "\n",
       "| pattern_domain_count | 0 |\n",
       "| log_reg_arpt | 0 |\n",
       "| sld_length | 0 |\n",
       "| gibb_score | 0 |\n",
       "| sld_type | 0 |\n",
       "| day_domains | 0 |\n",
       "| reg_period | 0 |\n",
       "\n"
      ],
      "text/plain": [
       "                     [,1]\n",
       "pattern_domain_count 0   \n",
       "log_reg_arpt         0   \n",
       "sld_length           0   \n",
       "gibb_score           0   \n",
       "sld_type             0   \n",
       "day_domains          0   \n",
       "reg_period           0   "
      ]
     },
     "metadata": {},
     "output_type": "display_data"
    },
    {
     "data": {
      "text/html": [
       "<table>\n",
       "<caption>A matrix: 7 × 1 of type int</caption>\n",
       "<tbody>\n",
       "\t<tr><th scope=row>pattern_domain_count</th><td>0</td></tr>\n",
       "\t<tr><th scope=row>log_reg_arpt</th><td>0</td></tr>\n",
       "\t<tr><th scope=row>sld_length</th><td>0</td></tr>\n",
       "\t<tr><th scope=row>gibb_score</th><td>0</td></tr>\n",
       "\t<tr><th scope=row>sld_type</th><td>0</td></tr>\n",
       "\t<tr><th scope=row>day_domains</th><td>0</td></tr>\n",
       "\t<tr><th scope=row>reg_period</th><td>0</td></tr>\n",
       "</tbody>\n",
       "</table>\n"
      ],
      "text/latex": [
       "A matrix: 7 × 1 of type int\n",
       "\\begin{tabular}{r|l}\n",
       "\tpattern\\_domain\\_count & 0\\\\\n",
       "\tlog\\_reg\\_arpt & 0\\\\\n",
       "\tsld\\_length & 0\\\\\n",
       "\tgibb\\_score & 0\\\\\n",
       "\tsld\\_type & 0\\\\\n",
       "\tday\\_domains & 0\\\\\n",
       "\treg\\_period & 0\\\\\n",
       "\\end{tabular}\n"
      ],
      "text/markdown": [
       "\n",
       "A matrix: 7 × 1 of type int\n",
       "\n",
       "| pattern_domain_count | 0 |\n",
       "| log_reg_arpt | 0 |\n",
       "| sld_length | 0 |\n",
       "| gibb_score | 0 |\n",
       "| sld_type | 0 |\n",
       "| day_domains | 0 |\n",
       "| reg_period | 0 |\n",
       "\n"
      ],
      "text/plain": [
       "                     [,1]\n",
       "pattern_domain_count 0   \n",
       "log_reg_arpt         0   \n",
       "sld_length           0   \n",
       "gibb_score           0   \n",
       "sld_type             0   \n",
       "day_domains          0   \n",
       "reg_period           0   "
      ]
     },
     "metadata": {},
     "output_type": "display_data"
    }
   ],
   "source": [
    "test_df_tld_reseller %>% \n",
    "  select(pattern_domain_count,log_reg_arpt,sld_length,gibb_score,sld_type,day_domains,reg_period) %>%\n",
    "  summarise_all(funs(sum(is.na(.)))) %>% t()\n",
    "\n",
    "train_df_tld_reseller %>%\n",
    "  select(pattern_domain_count,log_reg_arpt,sld_length,gibb_score,sld_type,day_domains,reg_period) %>%\n",
    "  summarise_all(funs(sum(is.na(.)))) %>% t()"
   ]
  },
  {
   "cell_type": "code",
   "execution_count": 57,
   "metadata": {},
   "outputs": [
    {
     "data": {
      "text/html": [
       "<table>\n",
       "<caption>A matrix: 8 × 1 of type int</caption>\n",
       "<tbody>\n",
       "\t<tr><th scope=row>pattern_domain_count</th><td>0</td></tr>\n",
       "\t<tr><th scope=row>log_reg_arpt</th><td>0</td></tr>\n",
       "\t<tr><th scope=row>sld_length</th><td>0</td></tr>\n",
       "\t<tr><th scope=row>gibb_score</th><td>0</td></tr>\n",
       "\t<tr><th scope=row>sld_type</th><td>0</td></tr>\n",
       "\t<tr><th scope=row>day_domains</th><td>0</td></tr>\n",
       "\t<tr><th scope=row>reg_period</th><td>0</td></tr>\n",
       "\t<tr><th scope=row>tld</th><td>0</td></tr>\n",
       "</tbody>\n",
       "</table>\n"
      ],
      "text/latex": [
       "A matrix: 8 × 1 of type int\n",
       "\\begin{tabular}{r|l}\n",
       "\tpattern\\_domain\\_count & 0\\\\\n",
       "\tlog\\_reg\\_arpt & 0\\\\\n",
       "\tsld\\_length & 0\\\\\n",
       "\tgibb\\_score & 0\\\\\n",
       "\tsld\\_type & 0\\\\\n",
       "\tday\\_domains & 0\\\\\n",
       "\treg\\_period & 0\\\\\n",
       "\ttld & 0\\\\\n",
       "\\end{tabular}\n"
      ],
      "text/markdown": [
       "\n",
       "A matrix: 8 × 1 of type int\n",
       "\n",
       "| pattern_domain_count | 0 |\n",
       "| log_reg_arpt | 0 |\n",
       "| sld_length | 0 |\n",
       "| gibb_score | 0 |\n",
       "| sld_type | 0 |\n",
       "| day_domains | 0 |\n",
       "| reg_period | 0 |\n",
       "| tld | 0 |\n",
       "\n"
      ],
      "text/plain": [
       "                     [,1]\n",
       "pattern_domain_count 0   \n",
       "log_reg_arpt         0   \n",
       "sld_length           0   \n",
       "gibb_score           0   \n",
       "sld_type             0   \n",
       "day_domains          0   \n",
       "reg_period           0   \n",
       "tld                  0   "
      ]
     },
     "metadata": {},
     "output_type": "display_data"
    },
    {
     "data": {
      "text/html": [
       "<table>\n",
       "<caption>A matrix: 8 × 1 of type int</caption>\n",
       "<tbody>\n",
       "\t<tr><th scope=row>pattern_domain_count</th><td>0</td></tr>\n",
       "\t<tr><th scope=row>log_reg_arpt</th><td>0</td></tr>\n",
       "\t<tr><th scope=row>sld_length</th><td>0</td></tr>\n",
       "\t<tr><th scope=row>gibb_score</th><td>0</td></tr>\n",
       "\t<tr><th scope=row>sld_type</th><td>0</td></tr>\n",
       "\t<tr><th scope=row>day_domains</th><td>0</td></tr>\n",
       "\t<tr><th scope=row>reg_period</th><td>0</td></tr>\n",
       "\t<tr><th scope=row>tld</th><td>0</td></tr>\n",
       "</tbody>\n",
       "</table>\n"
      ],
      "text/latex": [
       "A matrix: 8 × 1 of type int\n",
       "\\begin{tabular}{r|l}\n",
       "\tpattern\\_domain\\_count & 0\\\\\n",
       "\tlog\\_reg\\_arpt & 0\\\\\n",
       "\tsld\\_length & 0\\\\\n",
       "\tgibb\\_score & 0\\\\\n",
       "\tsld\\_type & 0\\\\\n",
       "\tday\\_domains & 0\\\\\n",
       "\treg\\_period & 0\\\\\n",
       "\ttld & 0\\\\\n",
       "\\end{tabular}\n"
      ],
      "text/markdown": [
       "\n",
       "A matrix: 8 × 1 of type int\n",
       "\n",
       "| pattern_domain_count | 0 |\n",
       "| log_reg_arpt | 0 |\n",
       "| sld_length | 0 |\n",
       "| gibb_score | 0 |\n",
       "| sld_type | 0 |\n",
       "| day_domains | 0 |\n",
       "| reg_period | 0 |\n",
       "| tld | 0 |\n",
       "\n"
      ],
      "text/plain": [
       "                     [,1]\n",
       "pattern_domain_count 0   \n",
       "log_reg_arpt         0   \n",
       "sld_length           0   \n",
       "gibb_score           0   \n",
       "sld_type             0   \n",
       "day_domains          0   \n",
       "reg_period           0   \n",
       "tld                  0   "
      ]
     },
     "metadata": {},
     "output_type": "display_data"
    }
   ],
   "source": [
    "test_df_reseller %>% \n",
    "  select(pattern_domain_count,log_reg_arpt,sld_length,gibb_score,sld_type,day_domains,reg_period,tld) %>%\n",
    "  summarise_all(funs(sum(is.na(.)))) %>% t()\n",
    "\n",
    "train_df_reseller %>%\n",
    "  select(pattern_domain_count,log_reg_arpt,sld_length,gibb_score,sld_type,day_domains,reg_period,tld) %>%\n",
    "  summarise_all(funs(sum(is.na(.)))) %>% t()"
   ]
  },
  {
   "cell_type": "markdown",
   "metadata": {},
   "source": [
    "## Verify that model preds get generated"
   ]
  },
  {
   "cell_type": "code",
   "execution_count": 58,
   "metadata": {},
   "outputs": [
    {
     "name": "stdout",
     "output_type": "stream",
     "text": [
      "\n",
      " agg rf"
     ]
    },
    {
     "data": {
      "text/html": [
       "<table>\n",
       "<caption>A matrix: 2 × 6 of type dbl</caption>\n",
       "<thead>\n",
       "\t<tr><th></th><th scope=col>used</th><th scope=col>(Mb)</th><th scope=col>gc trigger</th><th scope=col>(Mb)</th><th scope=col>max used</th><th scope=col>(Mb)</th></tr>\n",
       "</thead>\n",
       "<tbody>\n",
       "\t<tr><th scope=row>Ncells</th><td> 66716968</td><td>3563.1</td><td>137648491</td><td>7351.3</td><td> 66766598</td><td>3565.8</td></tr>\n",
       "\t<tr><th scope=row>Vcells</th><td>501941978</td><td>3829.6</td><td>803294565</td><td>6128.7</td><td>502129201</td><td>3831.0</td></tr>\n",
       "</tbody>\n",
       "</table>\n"
      ],
      "text/latex": [
       "A matrix: 2 × 6 of type dbl\n",
       "\\begin{tabular}{r|llllll}\n",
       "  & used & (Mb) & gc trigger & (Mb) & max used & (Mb)\\\\\n",
       "\\hline\n",
       "\tNcells &  66716968 & 3563.1 & 137648491 & 7351.3 &  66766598 & 3565.8\\\\\n",
       "\tVcells & 501941978 & 3829.6 & 803294565 & 6128.7 & 502129201 & 3831.0\\\\\n",
       "\\end{tabular}\n"
      ],
      "text/markdown": [
       "\n",
       "A matrix: 2 × 6 of type dbl\n",
       "\n",
       "| <!--/--> | used | (Mb) | gc trigger | (Mb) | max used | (Mb) |\n",
       "|---|---|---|---|---|---|---|\n",
       "| Ncells |  66716968 | 3563.1 | 137648491 | 7351.3 |  66766598 | 3565.8 |\n",
       "| Vcells | 501941978 | 3829.6 | 803294565 | 6128.7 | 502129201 | 3831.0 |\n",
       "\n"
      ],
      "text/plain": [
       "       used      (Mb)   gc trigger (Mb)   max used  (Mb)  \n",
       "Ncells  66716968 3563.1 137648491  7351.3  66766598 3565.8\n",
       "Vcells 501941978 3829.6 803294565  6128.7 502129201 3831.0"
      ]
     },
     "metadata": {},
     "output_type": "display_data"
    },
    {
     "name": "stdout",
     "output_type": "stream",
     "text": [
      "\n",
      " agg glm"
     ]
    },
    {
     "data": {
      "text/html": [
       "<table>\n",
       "<caption>A matrix: 2 × 6 of type dbl</caption>\n",
       "<thead>\n",
       "\t<tr><th></th><th scope=col>used</th><th scope=col>(Mb)</th><th scope=col>gc trigger</th><th scope=col>(Mb)</th><th scope=col>max used</th><th scope=col>(Mb)</th></tr>\n",
       "</thead>\n",
       "<tbody>\n",
       "\t<tr><th scope=row>Ncells</th><td>   5558249</td><td> 296.9</td><td> 110118793</td><td> 5881</td><td>  66895035</td><td> 3572.6</td></tr>\n",
       "\t<tr><th scope=row>Vcells</th><td>1003266935</td><td>7654.4</td><td>1562896541</td><td>11924</td><td>1374134041</td><td>10483.9</td></tr>\n",
       "</tbody>\n",
       "</table>\n"
      ],
      "text/latex": [
       "A matrix: 2 × 6 of type dbl\n",
       "\\begin{tabular}{r|llllll}\n",
       "  & used & (Mb) & gc trigger & (Mb) & max used & (Mb)\\\\\n",
       "\\hline\n",
       "\tNcells &    5558249 &  296.9 &  110118793 &  5881 &   66895035 &  3572.6\\\\\n",
       "\tVcells & 1003266935 & 7654.4 & 1562896541 & 11924 & 1374134041 & 10483.9\\\\\n",
       "\\end{tabular}\n"
      ],
      "text/markdown": [
       "\n",
       "A matrix: 2 × 6 of type dbl\n",
       "\n",
       "| <!--/--> | used | (Mb) | gc trigger | (Mb) | max used | (Mb) |\n",
       "|---|---|---|---|---|---|---|\n",
       "| Ncells |    5558249 |  296.9 |  110118793 |  5881 |   66895035 |  3572.6 |\n",
       "| Vcells | 1003266935 | 7654.4 | 1562896541 | 11924 | 1374134041 | 10483.9 |\n",
       "\n"
      ],
      "text/plain": [
       "       used       (Mb)   gc trigger (Mb)  max used   (Mb)   \n",
       "Ncells    5558249  296.9  110118793  5881   66895035  3572.6\n",
       "Vcells 1003266935 7654.4 1562896541 11924 1374134041 10483.9"
      ]
     },
     "metadata": {},
     "output_type": "display_data"
    }
   ],
   "source": [
    "#####################################################################################    \n",
    "# agg rf (aggregarted rf (including tld and reseller as predictors))\n",
    "#####################################################################################\n",
    "\n",
    "cat(\"\\n agg rf\")\n",
    "load(\"../../data/ranger_03_expiry2_f\")\n",
    "# if test data contains no observations, skip!\n",
    " if (dim(test_df_tld_reseller)[1]==0){\n",
    "    pred_df_agg_rf = NA\n",
    "}  else {\n",
    "    model = ranger_03_expiry2_f\n",
    "    pred <- predict(model, \n",
    "                    data = test_df_tld_reseller,\n",
    "                    type=\"response\")$predictions\n",
    "\n",
    "    # if all Renewed col doesn't exist in predictions, create it with value 0\n",
    "    if(is.null(as.data.frame(pred)$Renewed)){\n",
    "        pred <- as.data.frame(pred)\n",
    "        pred$Renewed <- 0\n",
    "    }\n",
    "\n",
    "    pred_df_agg_rf = data.frame(\"actual\" = test_df_tld_reseller$renewal_status,\n",
    "                      \"predicted\" = as.data.frame(pred)$Renewed)\n",
    "}\n",
    "\n",
    "rm(ranger_03_expiry2_f)\n",
    "gc()\n",
    "\n",
    "#####################################################################################    \n",
    "# agg glm (aggregarted glm (including tld and reseller as predictors))\n",
    "#####################################################################################\n",
    "\n",
    "cat(\"\\n agg glm\")\n",
    "load(\"../../data/agg_glm_basic_model\")\n",
    "\n",
    "# if test data contains no observations, skip!\n",
    "if (dim(test_df_tld_reseller)[1]==0){\n",
    "    pred_df_agg_glm = NA\n",
    "} else {\n",
    "    model = agg_glm_basic_model\n",
    "    pred = predict_first_renewal_agg(test_df_tld_reseller, model)\n",
    "\n",
    "    pred_df_agg_glm = data.frame(\"actual\" = pred$renewal_status,\n",
    "                                  \"predicted\" = pred$first_renewal_prediction)\n",
    "}\n",
    "\n",
    "\n",
    "rm(agg_glm_basic_model)\n",
    "gc()"
   ]
  },
  {
   "cell_type": "code",
   "execution_count": 59,
   "metadata": {},
   "outputs": [
    {
     "name": "stdout",
     "output_type": "stream",
     "text": [
      "\n",
      " seg2 glm"
     ]
    },
    {
     "name": "stderr",
     "output_type": "stream",
     "text": [
      "Warning message:\n",
      "“glm.fit: fitted probabilities numerically 0 or 1 occurred”\n",
      "Warning message in if (is.na(model) | is.null(test_data)) {:\n",
      "“the condition has length > 1 and only the first element will be used”\n",
      "Warning message in predict.lm(object, newdata, se.fit, scale = 1, type = if (type == :\n",
      "“prediction from a rank-deficient fit may be misleading”\n"
     ]
    },
    {
     "name": "stdout",
     "output_type": "stream",
     "text": [
      "\n",
      " seg glm"
     ]
    },
    {
     "name": "stderr",
     "output_type": "stream",
     "text": [
      "Warning message in if (is.na(model) | is.null(test_data)) {:\n",
      "“the condition has length > 1 and only the first element will be used”\n",
      "Warning message in predict.lm(object, newdata, se.fit, scale = 1, type = if (type == :\n",
      "“prediction from a rank-deficient fit may be misleading”\n"
     ]
    },
    {
     "name": "stdout",
     "output_type": "stream",
     "text": [
      "\n",
      " seg2 rf\n",
      " seg rf"
     ]
    }
   ],
   "source": [
    "#####################################################################################\n",
    "# seg2 glm (tld-reseller-segmented glm)\n",
    "#####################################################################################\n",
    "\n",
    "cat(\"\\n seg2 glm\")\n",
    "\n",
    "# if test data contains no observations, skip!\n",
    "if (dim(test_df_tld_reseller)[1]==0){\n",
    "    pred_df_seg2_glm = NA\n",
    "} else {\n",
    "    model = mass_build_model_first_renewal(train_list_tld_reseller)\n",
    "    pred = mass_predict_first_renewal(test_list_tld_reseller, model)\n",
    "\n",
    "    pred_df_seg2_glm = data.frame(\"actual\" = pred$renewal_status,\n",
    "                                  \"predicted\" = pred$first_renewal_prediction)\n",
    "}\n",
    "\n",
    "#####################################################################################    \n",
    "# seg glm (reseller-segmented glm (including tld as predictor))\n",
    "#####################################################################################\n",
    "\n",
    "cat(\"\\n seg glm\")\n",
    "\n",
    "# if test data contains no observations, skip!\n",
    "if (dim(test_df_tld_reseller)[1]==0){\n",
    "    pred_df_seg_glm = NA\n",
    "} else {\n",
    "\n",
    "    if((nlevels(train_df_reseller$tld) < 2)){\n",
    "        model = build_model_first_renewal(train_df_reseller)\n",
    "    }else{\n",
    "        model = build_model_first_renewal_reg(train_df_reseller)\n",
    "    }\n",
    "\n",
    "\n",
    "\n",
    "    pred = predict_first_renewal_reg(test_df_tld_reseller, model)\n",
    "\n",
    "    pred_df_seg_glm = data.frame(\"actual\" = pred$renewal_status,\n",
    "                                  \"predicted\" = pred$first_renewal_prediction)\n",
    "}\n",
    "\n",
    "\n",
    "\n",
    "\n",
    "#####################################################################################\n",
    "# seg2 rf (tld-reseller-segmented rf)\n",
    "#####################################################################################\n",
    "\n",
    "cat(\"\\n seg2 rf\")\n",
    "\n",
    "# if test data contains no observations, skip!\n",
    "if (dim(test_df_tld_reseller)[1]==0){\n",
    "    pred_df_seg2_rf = NA\n",
    "} else {\n",
    "#     if train data only has one observation, sample_fraction must be 1 (cant sample fraction of 1 observation)\n",
    "    if(dim(train_df_tld_reseller)[1]==1){\n",
    "        sample_fraction=1\n",
    "    }else{\n",
    "        sample_fraction=.8\n",
    "    }\n",
    "\n",
    "    model <- ranger(formula         = renewal_status ~ pattern_domain_count+log_reg_arpt+sld_length+gibb_score+sld_type+day_domains+reg_period, \n",
    "                    data            = train_df_tld_reseller, \n",
    "                    importance = 'impurity', \n",
    "                    num.trees       = 1000,\n",
    "                    probability = TRUE,\n",
    "                    replace = FALSE,\n",
    "                    sample.fraction = sample_fraction,\n",
    "                    seed            = 123,\n",
    "                    respect.unordered.factors=TRUE)\n",
    "\n",
    "    pred <- predict(model, \n",
    "                    data = test_df_tld_reseller,\n",
    "                    type=\"response\")$predictions\n",
    "\n",
    "    # if all Renewed col doesn't exist in predictions, create it with value 0\n",
    "    if(is.null(as.data.frame(pred)$Renewed)){\n",
    "        pred <- as.data.frame(pred)\n",
    "        pred$Renewed <- 0\n",
    "    }\n",
    "\n",
    "    pred_df_seg2_rf = data.frame(\"actual\" = test_df_tld_reseller$renewal_status,\n",
    "                      \"predicted\" = as.data.frame(pred)$Renewed)\n",
    "}\n",
    "\n",
    "\n",
    "#####################################################################################\n",
    "# seg rf (reseller-segmented rf)\n",
    "#####################################################################################\n",
    "\n",
    "cat(\"\\n seg rf\")\n",
    "\n",
    "# if test data contains no observations, skip!\n",
    "if (dim(test_df_tld_reseller)[1]==0){\n",
    "    pred_df_seg_rf = NA\n",
    "} else {\n",
    "#     if train data only has one observation, sample_fraction must be 1 (cant sample fraction of 1 observation)\n",
    "    if(dim(train_df_reseller)[1]==1){\n",
    "        sample_fraction=1\n",
    "    }else{\n",
    "        sample_fraction=.8\n",
    "    }\n",
    "\n",
    "    model <- ranger(formula         = renewal_status ~ pattern_domain_count+log_reg_arpt+sld_length+gibb_score+sld_type+day_domains+reg_period+tld, \n",
    "                    data            = train_df_reseller, \n",
    "                    importance = 'impurity', \n",
    "                    num.trees       = 1000,\n",
    "                    probability = TRUE,\n",
    "                    replace = FALSE,\n",
    "                    sample.fraction = sample_fraction,\n",
    "                    seed            = 123,\n",
    "                    respect.unordered.factors=TRUE)\n",
    "\n",
    "    pred <- predict(model, \n",
    "                    data = test_df_tld_reseller,\n",
    "                    type=\"response\")$predictions\n",
    "\n",
    "    # if all Renewed col doesn't exist in predictions, create it with value 0\n",
    "    if(is.null(as.data.frame(pred)$Renewed)){\n",
    "        pred <- as.data.frame(pred)\n",
    "        pred$Renewed <- 0\n",
    "    }\n",
    "\n",
    "    pred_df_seg_rf = data.frame(\"actual\" = test_df_tld_reseller$renewal_status,\n",
    "                      \"predicted\" = as.data.frame(pred)$Renewed)\n",
    "}\n",
    "\n"
   ]
  },
  {
   "cell_type": "code",
   "execution_count": null,
   "metadata": {},
   "outputs": [],
   "source": []
  },
  {
   "cell_type": "markdown",
   "metadata": {},
   "source": [
    "## compare with results from compare_df"
   ]
  },
  {
   "cell_type": "code",
   "execution_count": 60,
   "metadata": {},
   "outputs": [],
   "source": [
    "compare_DF <- read.csv(\"../../data/tld_reseller_compare_predictions.csv\")"
   ]
  },
  {
   "cell_type": "code",
   "execution_count": 61,
   "metadata": {},
   "outputs": [
    {
     "data": {
      "text/html": [
       "<style>\n",
       ".list-inline {list-style: none; margin:0; padding: 0}\n",
       ".list-inline>li {display: inline-block}\n",
       ".list-inline>li:not(:last-child)::after {content: \"\\00b7\"; padding: 0 .5ex}\n",
       "</style>\n",
       "<ol class=list-inline><li>1151</li><li>12</li></ol>\n"
      ],
      "text/latex": [
       "\\begin{enumerate*}\n",
       "\\item 1151\n",
       "\\item 12\n",
       "\\end{enumerate*}\n"
      ],
      "text/markdown": [
       "1. 1151\n",
       "2. 12\n",
       "\n",
       "\n"
      ],
      "text/plain": [
       "[1] 1151   12"
      ]
     },
     "metadata": {},
     "output_type": "display_data"
    },
    {
     "data": {
      "text/html": [
       "<table>\n",
       "<caption>A data.frame: 6 × 12</caption>\n",
       "<thead>\n",
       "\t<tr><th></th><th scope=col>actual</th><th scope=col>pred_df_seg2_glm</th><th scope=col>pred_df_seg_glm</th><th scope=col>pred_df_agg_glm</th><th scope=col>pred_df_seg2_rf</th><th scope=col>pred_df_seg_rf</th><th scope=col>pred_df_agg_rf</th><th scope=col>tld_registrar_index</th><th scope=col>reseller</th><th scope=col>n</th><th scope=col>domain_id</th><th scope=col>domain</th></tr>\n",
       "\t<tr><th></th><th scope=col>&lt;fct&gt;</th><th scope=col>&lt;dbl&gt;</th><th scope=col>&lt;dbl&gt;</th><th scope=col>&lt;dbl&gt;</th><th scope=col>&lt;dbl&gt;</th><th scope=col>&lt;dbl&gt;</th><th scope=col>&lt;dbl&gt;</th><th scope=col>&lt;fct&gt;</th><th scope=col>&lt;fct&gt;</th><th scope=col>&lt;int&gt;</th><th scope=col>&lt;int&gt;</th><th scope=col>&lt;fct&gt;</th></tr>\n",
       "</thead>\n",
       "<tbody>\n",
       "\t<tr><th scope=row>1</th><td>Not Renewd</td><td>0.99685973</td><td>0.001</td><td>0.008</td><td>0.3239427</td><td>0.14889914</td><td>0.11534867</td><td>funzhengzhou century connect</td><td>zhengzhou century connect</td><td>4249</td><td>89694757</td><td>japana.fun </td></tr>\n",
       "\t<tr><th scope=row>2</th><td>Not Renewd</td><td>0.02230039</td><td>0.013</td><td>0.003</td><td>0.1631052</td><td>0.01707510</td><td>0.03484726</td><td>funzhengzhou century connect</td><td>zhengzhou century connect</td><td>4249</td><td>91954643</td><td>msc8844.fun</td></tr>\n",
       "\t<tr><th scope=row>3</th><td>Not Renewd</td><td>0.02230039</td><td>0.013</td><td>0.003</td><td>0.1631052</td><td>0.01707510</td><td>0.03484726</td><td>funzhengzhou century connect</td><td>zhengzhou century connect</td><td>4249</td><td>91954663</td><td>msc8855.fun</td></tr>\n",
       "\t<tr><th scope=row>4</th><td>Not Renewd</td><td>0.02230039</td><td>0.013</td><td>0.003</td><td>0.1631052</td><td>0.01707510</td><td>0.03484726</td><td>funzhengzhou century connect</td><td>zhengzhou century connect</td><td>4249</td><td>91954648</td><td>msc8866.fun</td></tr>\n",
       "\t<tr><th scope=row>5</th><td>Not Renewd</td><td>0.02230039</td><td>0.013</td><td>0.003</td><td>0.1631052</td><td>0.01707510</td><td>0.03484726</td><td>funzhengzhou century connect</td><td>zhengzhou century connect</td><td>4249</td><td>91954933</td><td>msc7333.fun</td></tr>\n",
       "\t<tr><th scope=row>6</th><td>Not Renewd</td><td>0.01943478</td><td>0.013</td><td>0.004</td><td>0.3321312</td><td>0.07657796</td><td>0.07859592</td><td>funzhengzhou century connect</td><td>zhengzhou century connect</td><td>4249</td><td>91954708</td><td>msc9922.fun</td></tr>\n",
       "</tbody>\n",
       "</table>\n"
      ],
      "text/latex": [
       "A data.frame: 6 × 12\n",
       "\\begin{tabular}{r|llllllllllll}\n",
       "  & actual & pred\\_df\\_seg2\\_glm & pred\\_df\\_seg\\_glm & pred\\_df\\_agg\\_glm & pred\\_df\\_seg2\\_rf & pred\\_df\\_seg\\_rf & pred\\_df\\_agg\\_rf & tld\\_registrar\\_index & reseller & n & domain\\_id & domain\\\\\n",
       "  & <fct> & <dbl> & <dbl> & <dbl> & <dbl> & <dbl> & <dbl> & <fct> & <fct> & <int> & <int> & <fct>\\\\\n",
       "\\hline\n",
       "\t1 & Not Renewd & 0.99685973 & 0.001 & 0.008 & 0.3239427 & 0.14889914 & 0.11534867 & funzhengzhou century connect & zhengzhou century connect & 4249 & 89694757 & japana.fun \\\\\n",
       "\t2 & Not Renewd & 0.02230039 & 0.013 & 0.003 & 0.1631052 & 0.01707510 & 0.03484726 & funzhengzhou century connect & zhengzhou century connect & 4249 & 91954643 & msc8844.fun\\\\\n",
       "\t3 & Not Renewd & 0.02230039 & 0.013 & 0.003 & 0.1631052 & 0.01707510 & 0.03484726 & funzhengzhou century connect & zhengzhou century connect & 4249 & 91954663 & msc8855.fun\\\\\n",
       "\t4 & Not Renewd & 0.02230039 & 0.013 & 0.003 & 0.1631052 & 0.01707510 & 0.03484726 & funzhengzhou century connect & zhengzhou century connect & 4249 & 91954648 & msc8866.fun\\\\\n",
       "\t5 & Not Renewd & 0.02230039 & 0.013 & 0.003 & 0.1631052 & 0.01707510 & 0.03484726 & funzhengzhou century connect & zhengzhou century connect & 4249 & 91954933 & msc7333.fun\\\\\n",
       "\t6 & Not Renewd & 0.01943478 & 0.013 & 0.004 & 0.3321312 & 0.07657796 & 0.07859592 & funzhengzhou century connect & zhengzhou century connect & 4249 & 91954708 & msc9922.fun\\\\\n",
       "\\end{tabular}\n"
      ],
      "text/markdown": [
       "\n",
       "A data.frame: 6 × 12\n",
       "\n",
       "| <!--/--> | actual &lt;fct&gt; | pred_df_seg2_glm &lt;dbl&gt; | pred_df_seg_glm &lt;dbl&gt; | pred_df_agg_glm &lt;dbl&gt; | pred_df_seg2_rf &lt;dbl&gt; | pred_df_seg_rf &lt;dbl&gt; | pred_df_agg_rf &lt;dbl&gt; | tld_registrar_index &lt;fct&gt; | reseller &lt;fct&gt; | n &lt;int&gt; | domain_id &lt;int&gt; | domain &lt;fct&gt; |\n",
       "|---|---|---|---|---|---|---|---|---|---|---|---|---|\n",
       "| 1 | Not Renewd | 0.99685973 | 0.001 | 0.008 | 0.3239427 | 0.14889914 | 0.11534867 | funzhengzhou century connect | zhengzhou century connect | 4249 | 89694757 | japana.fun  |\n",
       "| 2 | Not Renewd | 0.02230039 | 0.013 | 0.003 | 0.1631052 | 0.01707510 | 0.03484726 | funzhengzhou century connect | zhengzhou century connect | 4249 | 91954643 | msc8844.fun |\n",
       "| 3 | Not Renewd | 0.02230039 | 0.013 | 0.003 | 0.1631052 | 0.01707510 | 0.03484726 | funzhengzhou century connect | zhengzhou century connect | 4249 | 91954663 | msc8855.fun |\n",
       "| 4 | Not Renewd | 0.02230039 | 0.013 | 0.003 | 0.1631052 | 0.01707510 | 0.03484726 | funzhengzhou century connect | zhengzhou century connect | 4249 | 91954648 | msc8866.fun |\n",
       "| 5 | Not Renewd | 0.02230039 | 0.013 | 0.003 | 0.1631052 | 0.01707510 | 0.03484726 | funzhengzhou century connect | zhengzhou century connect | 4249 | 91954933 | msc7333.fun |\n",
       "| 6 | Not Renewd | 0.01943478 | 0.013 | 0.004 | 0.3321312 | 0.07657796 | 0.07859592 | funzhengzhou century connect | zhengzhou century connect | 4249 | 91954708 | msc9922.fun |\n",
       "\n"
      ],
      "text/plain": [
       "  actual     pred_df_seg2_glm pred_df_seg_glm pred_df_agg_glm pred_df_seg2_rf\n",
       "1 Not Renewd 0.99685973       0.001           0.008           0.3239427      \n",
       "2 Not Renewd 0.02230039       0.013           0.003           0.1631052      \n",
       "3 Not Renewd 0.02230039       0.013           0.003           0.1631052      \n",
       "4 Not Renewd 0.02230039       0.013           0.003           0.1631052      \n",
       "5 Not Renewd 0.02230039       0.013           0.003           0.1631052      \n",
       "6 Not Renewd 0.01943478       0.013           0.004           0.3321312      \n",
       "  pred_df_seg_rf pred_df_agg_rf tld_registrar_index         \n",
       "1 0.14889914     0.11534867     funzhengzhou century connect\n",
       "2 0.01707510     0.03484726     funzhengzhou century connect\n",
       "3 0.01707510     0.03484726     funzhengzhou century connect\n",
       "4 0.01707510     0.03484726     funzhengzhou century connect\n",
       "5 0.01707510     0.03484726     funzhengzhou century connect\n",
       "6 0.07657796     0.07859592     funzhengzhou century connect\n",
       "  reseller                  n    domain_id domain     \n",
       "1 zhengzhou century connect 4249 89694757  japana.fun \n",
       "2 zhengzhou century connect 4249 91954643  msc8844.fun\n",
       "3 zhengzhou century connect 4249 91954663  msc8855.fun\n",
       "4 zhengzhou century connect 4249 91954648  msc8866.fun\n",
       "5 zhengzhou century connect 4249 91954933  msc7333.fun\n",
       "6 zhengzhou century connect 4249 91954708  msc9922.fun"
      ]
     },
     "metadata": {},
     "output_type": "display_data"
    }
   ],
   "source": [
    "compare_DF_sub <- compare_DF %>% filter(tld_registrar_index==na_tridxs[[i]])\n",
    "dim(compare_DF_sub)\n",
    "head(compare_DF_sub)"
   ]
  },
  {
   "cell_type": "code",
   "execution_count": 80,
   "metadata": {},
   "outputs": [
    {
     "data": {
      "text/html": [
       "0"
      ],
      "text/latex": [
       "0"
      ],
      "text/markdown": [
       "0"
      ],
      "text/plain": [
       "[1] 0"
      ]
     },
     "metadata": {},
     "output_type": "display_data"
    },
    {
     "data": {
      "text/html": [
       "0"
      ],
      "text/latex": [
       "0"
      ],
      "text/markdown": [
       "0"
      ],
      "text/plain": [
       "[1] 0"
      ]
     },
     "metadata": {},
     "output_type": "display_data"
    },
    {
     "data": {
      "text/html": [
       "0"
      ],
      "text/latex": [
       "0"
      ],
      "text/markdown": [
       "0"
      ],
      "text/plain": [
       "[1] 0"
      ]
     },
     "metadata": {},
     "output_type": "display_data"
    },
    {
     "data": {
      "text/html": [
       "0"
      ],
      "text/latex": [
       "0"
      ],
      "text/markdown": [
       "0"
      ],
      "text/plain": [
       "[1] 0"
      ]
     },
     "metadata": {},
     "output_type": "display_data"
    },
    {
     "data": {
      "text/html": [
       "0"
      ],
      "text/latex": [
       "0"
      ],
      "text/markdown": [
       "0"
      ],
      "text/plain": [
       "[1] 0"
      ]
     },
     "metadata": {},
     "output_type": "display_data"
    },
    {
     "data": {
      "text/html": [
       "0"
      ],
      "text/latex": [
       "0"
      ],
      "text/markdown": [
       "0"
      ],
      "text/plain": [
       "[1] 0"
      ]
     },
     "metadata": {},
     "output_type": "display_data"
    }
   ],
   "source": [
    "# IF all 0's THEN all values equal with output here vs output in compare DF \n",
    "sum(round(pred_df_seg2_glm$predicted/compare_DF_sub$pred_df_seg2_glm,5)!=1)\n",
    "sum(round(ifelse(compare_DF_sub$pred_df_seg_glm==0, pred_df_seg_glm$predicted==compare_DF_sub$pred_df_seg_glm, \n",
    "                 pred_df_seg_glm$predicted/compare_DF_sub$pred_df_seg_glm),5)!=1)\n",
    "sum(round(ifelse(compare_DF_sub$pred_df_agg_glm==0, pred_df_agg_glm$predicted==compare_DF_sub$pred_df_agg_glm, \n",
    "                 pred_df_agg_glm$predicted/compare_DF_sub$pred_df_agg_glm),5)!=1)\n",
    "sum(round(pred_df_seg2_rf$predicted/compare_DF_sub$pred_df_seg2_rf,5)!=1)\n",
    "sum(round(pred_df_seg_rf$predicted/compare_DF_sub$pred_df_seg_rf,5)!=1)\n",
    "sum(round(pred_df_agg_rf$predicted/compare_DF_sub$pred_df_agg_rf,5)!=1)"
   ]
  },
  {
   "cell_type": "code",
   "execution_count": 83,
   "metadata": {},
   "outputs": [
    {
     "data": {
      "text/html": [
       "<style>\n",
       ".list-inline {list-style: none; margin:0; padding: 0}\n",
       ".list-inline>li {display: inline-block}\n",
       ".list-inline>li:not(:last-child)::after {content: \"\\00b7\"; padding: 0 .5ex}\n",
       "</style>\n",
       "<ol class=list-inline><li>1</li><li>15</li></ol>\n"
      ],
      "text/latex": [
       "\\begin{enumerate*}\n",
       "\\item 1\n",
       "\\item 15\n",
       "\\end{enumerate*}\n"
      ],
      "text/markdown": [
       "1. 1\n",
       "2. 15\n",
       "\n",
       "\n"
      ],
      "text/plain": [
       "[1]  1 15"
      ]
     },
     "metadata": {},
     "output_type": "display_data"
    },
    {
     "data": {
      "text/html": [
       "<table>\n",
       "<caption>A matrix: 15 × 1 of type chr</caption>\n",
       "<tbody>\n",
       "\t<tr><th scope=row>tld_registrar_index</th><td>funzhengzhou century connect</td></tr>\n",
       "\t<tr><th scope=row>reseller</th><td>zhengzhou century connect   </td></tr>\n",
       "\t<tr><th scope=row>n</th><td>4249                        </td></tr>\n",
       "\t<tr><th scope=row>l10_seg2_glm</th><td>NA                          </td></tr>\n",
       "\t<tr><th scope=row>l10_seg_glm</th><td>NA                          </td></tr>\n",
       "\t<tr><th scope=row>l10_agg_glm</th><td>NA                          </td></tr>\n",
       "\t<tr><th scope=row>l10_seg2_rf</th><td>NA                          </td></tr>\n",
       "\t<tr><th scope=row>l10_seg_rf</th><td>NA                          </td></tr>\n",
       "\t<tr><th scope=row>l10_agg_rf</th><td>NA                          </td></tr>\n",
       "\t<tr><th scope=row>auc_seg2_glm</th><td>NA                          </td></tr>\n",
       "\t<tr><th scope=row>auc_seg_glm</th><td>NA                          </td></tr>\n",
       "\t<tr><th scope=row>auc_agg_glm</th><td>NA                          </td></tr>\n",
       "\t<tr><th scope=row>auc_seg2_rf</th><td>NA                          </td></tr>\n",
       "\t<tr><th scope=row>auc_seg_rf</th><td>NA                          </td></tr>\n",
       "\t<tr><th scope=row>auc_agg_rf</th><td>NA                          </td></tr>\n",
       "</tbody>\n",
       "</table>\n"
      ],
      "text/latex": [
       "A matrix: 15 × 1 of type chr\n",
       "\\begin{tabular}{r|l}\n",
       "\ttld\\_registrar\\_index & funzhengzhou century connect\\\\\n",
       "\treseller & zhengzhou century connect   \\\\\n",
       "\tn & 4249                        \\\\\n",
       "\tl10\\_seg2\\_glm & NA                          \\\\\n",
       "\tl10\\_seg\\_glm & NA                          \\\\\n",
       "\tl10\\_agg\\_glm & NA                          \\\\\n",
       "\tl10\\_seg2\\_rf & NA                          \\\\\n",
       "\tl10\\_seg\\_rf & NA                          \\\\\n",
       "\tl10\\_agg\\_rf & NA                          \\\\\n",
       "\tauc\\_seg2\\_glm & NA                          \\\\\n",
       "\tauc\\_seg\\_glm & NA                          \\\\\n",
       "\tauc\\_agg\\_glm & NA                          \\\\\n",
       "\tauc\\_seg2\\_rf & NA                          \\\\\n",
       "\tauc\\_seg\\_rf & NA                          \\\\\n",
       "\tauc\\_agg\\_rf & NA                          \\\\\n",
       "\\end{tabular}\n"
      ],
      "text/markdown": [
       "\n",
       "A matrix: 15 × 1 of type chr\n",
       "\n",
       "| tld_registrar_index | funzhengzhou century connect |\n",
       "| reseller | zhengzhou century connect    |\n",
       "| n | 4249                         |\n",
       "| l10_seg2_glm | NA                           |\n",
       "| l10_seg_glm | NA                           |\n",
       "| l10_agg_glm | NA                           |\n",
       "| l10_seg2_rf | NA                           |\n",
       "| l10_seg_rf | NA                           |\n",
       "| l10_agg_rf | NA                           |\n",
       "| auc_seg2_glm | NA                           |\n",
       "| auc_seg_glm | NA                           |\n",
       "| auc_agg_glm | NA                           |\n",
       "| auc_seg2_rf | NA                           |\n",
       "| auc_seg_rf | NA                           |\n",
       "| auc_agg_rf | NA                           |\n",
       "\n"
      ],
      "text/plain": [
       "                    [,1]                        \n",
       "tld_registrar_index funzhengzhou century connect\n",
       "reseller            zhengzhou century connect   \n",
       "n                   4249                        \n",
       "l10_seg2_glm        NA                          \n",
       "l10_seg_glm         NA                          \n",
       "l10_agg_glm         NA                          \n",
       "l10_seg2_rf         NA                          \n",
       "l10_seg_rf          NA                          \n",
       "l10_agg_rf          NA                          \n",
       "auc_seg2_glm        NA                          \n",
       "auc_seg_glm         NA                          \n",
       "auc_agg_glm         NA                          \n",
       "auc_seg2_rf         NA                          \n",
       "auc_seg_rf          NA                          \n",
       "auc_agg_rf          NA                          "
      ]
     },
     "metadata": {},
     "output_type": "display_data"
    }
   ],
   "source": [
    "# check l10 & auc computation from tld_reseller_compare_metrics.csv -- NO\n",
    "df1 <- read.csv(\"../../data/tld_reseller_compare_metrics.csv\")\n",
    "df1_sub <- df1 %>% filter(tld_registrar_index==na_tridxs[[i]])\n",
    "dim(df1_sub)\n",
    "df1_sub %>% t()"
   ]
  },
  {
   "cell_type": "markdown",
   "metadata": {},
   "source": [
    "## Recalculate l10 & AUC from DF (originally done from list of df's)"
   ]
  },
  {
   "cell_type": "code",
   "execution_count": 85,
   "metadata": {},
   "outputs": [],
   "source": [
    "chart_lift <- function (pred_df=first_renewal_model_test_predict,\n",
    "                        dep_var = \"renewal_status\",\n",
    "                        pred_var = \"first_renewal_prediction\") {\n",
    "  N <- 10  # total number of rows to preallocate--possibly an overestimate\n",
    "  lift_df <- data.frame(P =rep(NA, N), \n",
    "                        actu_renwd2=rep(NA, N), \n",
    "                        gain=rep(NA, N), \n",
    "                        lift=rep(NA, N), \n",
    "                        stringsAsFactors=FALSE)          # you don't know levels yet\n",
    "  actu_renwd <- sum(pred_df[[dep_var]]=='Renewed')\n",
    "  \n",
    "  i = 1\n",
    "  for(P in seq(.1,1,length=10)){\n",
    "    temp_df <- data.frame(pred_df)[c(dep_var,pred_var)]\n",
    "    ttmp_df <- temp_df[order(temp_df[pred_var],decreasing = TRUE),][1:round(dim(temp_df)[1]*P),]\n",
    "    actu_renwd2 <-  sum(ttmp_df[[dep_var]] == 'Renewed')\n",
    "    gain = actu_renwd2/actu_renwd\n",
    "    lift = gain/(P)\n",
    "    \n",
    "    lift_df[i, ] <- list(P, actu_renwd2, gain, lift)\n",
    "    i = i+1\n",
    "  }\n",
    "  return(lift_df)\n",
    "}"
   ]
  },
  {
   "cell_type": "code",
   "execution_count": 86,
   "metadata": {},
   "outputs": [
    {
     "data": {
      "text/html": [
       "<table>\n",
       "<caption>A data.frame: 10 × 4</caption>\n",
       "<thead>\n",
       "\t<tr><th scope=col>P</th><th scope=col>actu_renwd2</th><th scope=col>gain</th><th scope=col>lift</th></tr>\n",
       "\t<tr><th scope=col>&lt;dbl&gt;</th><th scope=col>&lt;int&gt;</th><th scope=col>&lt;dbl&gt;</th><th scope=col>&lt;dbl&gt;</th></tr>\n",
       "</thead>\n",
       "<tbody>\n",
       "\t<tr><td>0.1</td><td>0</td><td>NaN</td><td>NaN</td></tr>\n",
       "\t<tr><td>0.2</td><td>0</td><td>NaN</td><td>NaN</td></tr>\n",
       "\t<tr><td>0.3</td><td>0</td><td>NaN</td><td>NaN</td></tr>\n",
       "\t<tr><td>0.4</td><td>0</td><td>NaN</td><td>NaN</td></tr>\n",
       "\t<tr><td>0.5</td><td>0</td><td>NaN</td><td>NaN</td></tr>\n",
       "\t<tr><td>0.6</td><td>0</td><td>NaN</td><td>NaN</td></tr>\n",
       "\t<tr><td>0.7</td><td>0</td><td>NaN</td><td>NaN</td></tr>\n",
       "\t<tr><td>0.8</td><td>0</td><td>NaN</td><td>NaN</td></tr>\n",
       "\t<tr><td>0.9</td><td>0</td><td>NaN</td><td>NaN</td></tr>\n",
       "\t<tr><td>1.0</td><td>0</td><td>NaN</td><td>NaN</td></tr>\n",
       "</tbody>\n",
       "</table>\n"
      ],
      "text/latex": [
       "A data.frame: 10 × 4\n",
       "\\begin{tabular}{llll}\n",
       " P & actu\\_renwd2 & gain & lift\\\\\n",
       " <dbl> & <int> & <dbl> & <dbl>\\\\\n",
       "\\hline\n",
       "\t 0.1 & 0 & NaN & NaN\\\\\n",
       "\t 0.2 & 0 & NaN & NaN\\\\\n",
       "\t 0.3 & 0 & NaN & NaN\\\\\n",
       "\t 0.4 & 0 & NaN & NaN\\\\\n",
       "\t 0.5 & 0 & NaN & NaN\\\\\n",
       "\t 0.6 & 0 & NaN & NaN\\\\\n",
       "\t 0.7 & 0 & NaN & NaN\\\\\n",
       "\t 0.8 & 0 & NaN & NaN\\\\\n",
       "\t 0.9 & 0 & NaN & NaN\\\\\n",
       "\t 1.0 & 0 & NaN & NaN\\\\\n",
       "\\end{tabular}\n"
      ],
      "text/markdown": [
       "\n",
       "A data.frame: 10 × 4\n",
       "\n",
       "| P &lt;dbl&gt; | actu_renwd2 &lt;int&gt; | gain &lt;dbl&gt; | lift &lt;dbl&gt; |\n",
       "|---|---|---|---|\n",
       "| 0.1 | 0 | NaN | NaN |\n",
       "| 0.2 | 0 | NaN | NaN |\n",
       "| 0.3 | 0 | NaN | NaN |\n",
       "| 0.4 | 0 | NaN | NaN |\n",
       "| 0.5 | 0 | NaN | NaN |\n",
       "| 0.6 | 0 | NaN | NaN |\n",
       "| 0.7 | 0 | NaN | NaN |\n",
       "| 0.8 | 0 | NaN | NaN |\n",
       "| 0.9 | 0 | NaN | NaN |\n",
       "| 1.0 | 0 | NaN | NaN |\n",
       "\n"
      ],
      "text/plain": [
       "   P   actu_renwd2 gain lift\n",
       "1  0.1 0           NaN  NaN \n",
       "2  0.2 0           NaN  NaN \n",
       "3  0.3 0           NaN  NaN \n",
       "4  0.4 0           NaN  NaN \n",
       "5  0.5 0           NaN  NaN \n",
       "6  0.6 0           NaN  NaN \n",
       "7  0.7 0           NaN  NaN \n",
       "8  0.8 0           NaN  NaN \n",
       "9  0.9 0           NaN  NaN \n",
       "10 1.0 0           NaN  NaN "
      ]
     },
     "metadata": {},
     "output_type": "display_data"
    }
   ],
   "source": [
    "chart_lift(pred_df=compare_DF_sub,\n",
    "           dep_var = \"actual\",\n",
    "           pred_var = \"pred_df_seg2_glm\"\n",
    "          )"
   ]
  },
  {
   "cell_type": "code",
   "execution_count": 91,
   "metadata": {},
   "outputs": [
    {
     "data": {
      "text/plain": [
       "\n",
       "Not Renewd    Renewed \n",
       "      1151          0 "
      ]
     },
     "metadata": {},
     "output_type": "display_data"
    },
    {
     "data": {
      "text/html": [
       "0"
      ],
      "text/latex": [
       "0"
      ],
      "text/markdown": [
       "0"
      ],
      "text/plain": [
       "[1] 0"
      ]
     },
     "metadata": {},
     "output_type": "display_data"
    }
   ],
   "source": [
    "# ISSUE: all actual values are not renewed\n",
    "table(compare_DF_sub$actual)\n",
    "table(compare_DF_sub$actual)[[2]]"
   ]
  },
  {
   "cell_type": "code",
   "execution_count": 101,
   "metadata": {},
   "outputs": [
    {
     "data": {
      "text/html": [
       "88"
      ],
      "text/latex": [
       "88"
      ],
      "text/markdown": [
       "88"
      ],
      "text/plain": [
       "[1] 88"
      ]
     },
     "metadata": {},
     "output_type": "display_data"
    },
    {
     "data": {
      "text/html": [
       "'hostbaidu'"
      ],
      "text/latex": [
       "'hostbaidu'"
      ],
      "text/markdown": [
       "'hostbaidu'"
      ],
      "text/plain": [
       "[1] \"hostbaidu\""
      ]
     },
     "metadata": {},
     "output_type": "display_data"
    }
   ],
   "source": [
    "i\n",
    "na_tridxs[[i]]"
   ]
  },
  {
   "cell_type": "code",
   "execution_count": 106,
   "metadata": {},
   "outputs": [
    {
     "data": {
      "text/html": [
       "<table>\n",
       "<caption>A data.frame: 1 × 12</caption>\n",
       "<thead>\n",
       "\t<tr><th scope=col>actual</th><th scope=col>pred_df_seg2_glm</th><th scope=col>pred_df_seg_glm</th><th scope=col>pred_df_agg_glm</th><th scope=col>pred_df_seg2_rf</th><th scope=col>pred_df_seg_rf</th><th scope=col>pred_df_agg_rf</th><th scope=col>tld_registrar_index</th><th scope=col>reseller</th><th scope=col>n</th><th scope=col>domain_id</th><th scope=col>domain</th></tr>\n",
       "\t<tr><th scope=col>&lt;fct&gt;</th><th scope=col>&lt;dbl&gt;</th><th scope=col>&lt;dbl&gt;</th><th scope=col>&lt;dbl&gt;</th><th scope=col>&lt;dbl&gt;</th><th scope=col>&lt;dbl&gt;</th><th scope=col>&lt;dbl&gt;</th><th scope=col>&lt;fct&gt;</th><th scope=col>&lt;fct&gt;</th><th scope=col>&lt;int&gt;</th><th scope=col>&lt;int&gt;</th><th scope=col>&lt;fct&gt;</th></tr>\n",
       "</thead>\n",
       "<tbody>\n",
       "\t<tr><td>NA</td><td>NA</td><td>NA</td><td>NA</td><td>NA</td><td>NA</td><td>NA</td><td>hostbaidu</td><td>baidu</td><td>23</td><td>NA</td><td>NA</td></tr>\n",
       "</tbody>\n",
       "</table>\n"
      ],
      "text/latex": [
       "A data.frame: 1 × 12\n",
       "\\begin{tabular}{llllllllllll}\n",
       " actual & pred\\_df\\_seg2\\_glm & pred\\_df\\_seg\\_glm & pred\\_df\\_agg\\_glm & pred\\_df\\_seg2\\_rf & pred\\_df\\_seg\\_rf & pred\\_df\\_agg\\_rf & tld\\_registrar\\_index & reseller & n & domain\\_id & domain\\\\\n",
       " <fct> & <dbl> & <dbl> & <dbl> & <dbl> & <dbl> & <dbl> & <fct> & <fct> & <int> & <int> & <fct>\\\\\n",
       "\\hline\n",
       "\t NA & NA & NA & NA & NA & NA & NA & hostbaidu & baidu & 23 & NA & NA\\\\\n",
       "\\end{tabular}\n"
      ],
      "text/markdown": [
       "\n",
       "A data.frame: 1 × 12\n",
       "\n",
       "| actual &lt;fct&gt; | pred_df_seg2_glm &lt;dbl&gt; | pred_df_seg_glm &lt;dbl&gt; | pred_df_agg_glm &lt;dbl&gt; | pred_df_seg2_rf &lt;dbl&gt; | pred_df_seg_rf &lt;dbl&gt; | pred_df_agg_rf &lt;dbl&gt; | tld_registrar_index &lt;fct&gt; | reseller &lt;fct&gt; | n &lt;int&gt; | domain_id &lt;int&gt; | domain &lt;fct&gt; |\n",
       "|---|---|---|---|---|---|---|---|---|---|---|---|\n",
       "| NA | NA | NA | NA | NA | NA | NA | hostbaidu | baidu | 23 | NA | NA |\n",
       "\n"
      ],
      "text/plain": [
       "  actual pred_df_seg2_glm pred_df_seg_glm pred_df_agg_glm pred_df_seg2_rf\n",
       "1 NA     NA               NA              NA              NA             \n",
       "  pred_df_seg_rf pred_df_agg_rf tld_registrar_index reseller n  domain_id\n",
       "1 NA             NA             hostbaidu           baidu    23 NA       \n",
       "  domain\n",
       "1 NA    "
      ]
     },
     "metadata": {},
     "output_type": "display_data"
    },
    {
     "data": {
      "text/html": [
       "FALSE"
      ],
      "text/latex": [
       "FALSE"
      ],
      "text/markdown": [
       "FALSE"
      ],
      "text/plain": [
       "[1] FALSE"
      ]
     },
     "metadata": {},
     "output_type": "display_data"
    }
   ],
   "source": [
    "df <- compare_DF %>% filter(tld_registrar_index==na_tridxs[[i]] )\n",
    "df\n",
    "!is.na(df$actual)"
   ]
  },
  {
   "cell_type": "code",
   "execution_count": 99,
   "metadata": {},
   "outputs": [
    {
     "data": {
      "text/html": [
       "&lt;NA&gt;"
      ],
      "text/latex": [
       "<NA>"
      ],
      "text/markdown": [
       "&lt;NA&gt;"
      ],
      "text/plain": [
       "[1] NA"
      ]
     },
     "metadata": {},
     "output_type": "display_data"
    }
   ],
   "source": [
    "compare_DF %>% filter(tld_registrar_index==na_tridxs[[i]]) %>% pull(actual) == 'Renewed'"
   ]
  },
  {
   "cell_type": "markdown",
   "metadata": {},
   "source": [
    "# Verify that this is the underlying issue for all 665 tld-registrars w/ NA's\n"
   ]
  },
  {
   "cell_type": "code",
   "execution_count": 110,
   "metadata": {},
   "outputs": [
    {
     "name": "stderr",
     "output_type": "stream",
     "text": [
      "Warning message in if (suppressWarnings(!is.na(df$actual))) {:\n",
      "“the condition has length > 1 and only the first element will be used”\n",
      "Warning message in if (suppressWarnings(!is.na(df$actual))) {:\n",
      "“the condition has length > 1 and only the first element will be used”\n",
      "Warning message in if (suppressWarnings(!is.na(df$actual))) {:\n",
      "“the condition has length > 1 and only the first element will be used”\n",
      "Warning message in if (suppressWarnings(!is.na(df$actual))) {:\n",
      "“the condition has length > 1 and only the first element will be used”\n",
      "Warning message in if (suppressWarnings(!is.na(df$actual))) {:\n",
      "“the condition has length > 1 and only the first element will be used”\n",
      "Warning message in if (suppressWarnings(!is.na(df$actual))) {:\n",
      "“the condition has length > 1 and only the first element will be used”\n",
      "Warning message in if (suppressWarnings(!is.na(df$actual))) {:\n",
      "“the condition has length > 1 and only the first element will be used”\n",
      "Warning message in if (suppressWarnings(!is.na(df$actual))) {:\n",
      "“the condition has length > 1 and only the first element will be used”\n",
      "Warning message in if (suppressWarnings(!is.na(df$actual))) {:\n",
      "“the condition has length > 1 and only the first element will be used”\n",
      "Warning message in if (suppressWarnings(!is.na(df$actual))) {:\n",
      "“the condition has length > 1 and only the first element will be used”\n",
      "Warning message in if (suppressWarnings(!is.na(df$actual))) {:\n",
      "“the condition has length > 1 and only the first element will be used”\n",
      "Warning message in if (suppressWarnings(!is.na(df$actual))) {:\n",
      "“the condition has length > 1 and only the first element will be used”\n",
      "Warning message in if (suppressWarnings(!is.na(df$actual))) {:\n",
      "“the condition has length > 1 and only the first element will be used”\n",
      "Warning message in if (suppressWarnings(!is.na(df$actual))) {:\n",
      "“the condition has length > 1 and only the first element will be used”\n",
      "Warning message in if (suppressWarnings(!is.na(df$actual))) {:\n",
      "“the condition has length > 1 and only the first element will be used”\n",
      "Warning message in if (suppressWarnings(!is.na(df$actual))) {:\n",
      "“the condition has length > 1 and only the first element will be used”\n",
      "Warning message in if (suppressWarnings(!is.na(df$actual))) {:\n",
      "“the condition has length > 1 and only the first element will be used”\n",
      "Warning message in if (suppressWarnings(!is.na(df$actual))) {:\n",
      "“the condition has length > 1 and only the first element will be used”\n",
      "Warning message in if (suppressWarnings(!is.na(df$actual))) {:\n",
      "“the condition has length > 1 and only the first element will be used”\n",
      "Warning message in if (suppressWarnings(!is.na(df$actual))) {:\n",
      "“the condition has length > 1 and only the first element will be used”\n",
      "Warning message in if (suppressWarnings(!is.na(df$actual))) {:\n",
      "“the condition has length > 1 and only the first element will be used”\n",
      "Warning message in if (suppressWarnings(!is.na(df$actual))) {:\n",
      "“the condition has length > 1 and only the first element will be used”\n",
      "Warning message in if (suppressWarnings(!is.na(df$actual))) {:\n",
      "“the condition has length > 1 and only the first element will be used”\n",
      "Warning message in if (suppressWarnings(!is.na(df$actual))) {:\n",
      "“the condition has length > 1 and only the first element will be used”\n",
      "Warning message in if (suppressWarnings(!is.na(df$actual))) {:\n",
      "“the condition has length > 1 and only the first element will be used”\n",
      "Warning message in if (suppressWarnings(!is.na(df$actual))) {:\n",
      "“the condition has length > 1 and only the first element will be used”\n",
      "Warning message in if (suppressWarnings(!is.na(df$actual))) {:\n",
      "“the condition has length > 1 and only the first element will be used”\n",
      "Warning message in if (suppressWarnings(!is.na(df$actual))) {:\n",
      "“the condition has length > 1 and only the first element will be used”\n",
      "Warning message in if (suppressWarnings(!is.na(df$actual))) {:\n",
      "“the condition has length > 1 and only the first element will be used”\n",
      "Warning message in if (suppressWarnings(!is.na(df$actual))) {:\n",
      "“the condition has length > 1 and only the first element will be used”\n",
      "Warning message in if (suppressWarnings(!is.na(df$actual))) {:\n",
      "“the condition has length > 1 and only the first element will be used”\n",
      "Warning message in if (suppressWarnings(!is.na(df$actual))) {:\n",
      "“the condition has length > 1 and only the first element will be used”\n",
      "Warning message in if (suppressWarnings(!is.na(df$actual))) {:\n",
      "“the condition has length > 1 and only the first element will be used”\n",
      "Warning message in if (suppressWarnings(!is.na(df$actual))) {:\n",
      "“the condition has length > 1 and only the first element will be used”\n",
      "Warning message in if (suppressWarnings(!is.na(df$actual))) {:\n",
      "“the condition has length > 1 and only the first element will be used”\n",
      "Warning message in if (suppressWarnings(!is.na(df$actual))) {:\n",
      "“the condition has length > 1 and only the first element will be used”\n",
      "Warning message in if (suppressWarnings(!is.na(df$actual))) {:\n",
      "“the condition has length > 1 and only the first element will be used”\n",
      "Warning message in if (suppressWarnings(!is.na(df$actual))) {:\n",
      "“the condition has length > 1 and only the first element will be used”\n",
      "Warning message in if (suppressWarnings(!is.na(df$actual))) {:\n",
      "“the condition has length > 1 and only the first element will be used”\n",
      "Warning message in if (suppressWarnings(!is.na(df$actual))) {:\n",
      "“the condition has length > 1 and only the first element will be used”\n",
      "Warning message in if (suppressWarnings(!is.na(df$actual))) {:\n",
      "“the condition has length > 1 and only the first element will be used”\n",
      "Warning message in if (suppressWarnings(!is.na(df$actual))) {:\n",
      "“the condition has length > 1 and only the first element will be used”\n",
      "Warning message in if (suppressWarnings(!is.na(df$actual))) {:\n",
      "“the condition has length > 1 and only the first element will be used”\n",
      "Warning message in if (suppressWarnings(!is.na(df$actual))) {:\n",
      "“the condition has length > 1 and only the first element will be used”\n",
      "Warning message in if (suppressWarnings(!is.na(df$actual))) {:\n",
      "“the condition has length > 1 and only the first element will be used”\n",
      "Warning message in if (suppressWarnings(!is.na(df$actual))) {:\n",
      "“the condition has length > 1 and only the first element will be used”\n",
      "Warning message in if (suppressWarnings(!is.na(df$actual))) {:\n",
      "“the condition has length > 1 and only the first element will be used”\n",
      "Warning message in if (suppressWarnings(!is.na(df$actual))) {:\n",
      "“the condition has length > 1 and only the first element will be used”\n",
      "Warning message in if (suppressWarnings(!is.na(df$actual))) {:\n",
      "“the condition has length > 1 and only the first element will be used”\n",
      "Warning message in if (suppressWarnings(!is.na(df$actual))) {:\n",
      "“the condition has length > 1 and only the first element will be used”\n",
      "Warning message in if (suppressWarnings(!is.na(df$actual))) {:\n",
      "“the condition has length > 1 and only the first element will be used”\n",
      "Warning message in if (suppressWarnings(!is.na(df$actual))) {:\n",
      "“the condition has length > 1 and only the first element will be used”\n",
      "Warning message in if (suppressWarnings(!is.na(df$actual))) {:\n",
      "“the condition has length > 1 and only the first element will be used”\n",
      "Warning message in if (suppressWarnings(!is.na(df$actual))) {:\n",
      "“the condition has length > 1 and only the first element will be used”\n",
      "Warning message in if (suppressWarnings(!is.na(df$actual))) {:\n",
      "“the condition has length > 1 and only the first element will be used”\n",
      "Warning message in if (suppressWarnings(!is.na(df$actual))) {:\n",
      "“the condition has length > 1 and only the first element will be used”\n",
      "Warning message in if (suppressWarnings(!is.na(df$actual))) {:\n",
      "“the condition has length > 1 and only the first element will be used”\n",
      "Warning message in if (suppressWarnings(!is.na(df$actual))) {:\n",
      "“the condition has length > 1 and only the first element will be used”\n",
      "Warning message in if (suppressWarnings(!is.na(df$actual))) {:\n",
      "“the condition has length > 1 and only the first element will be used”\n",
      "Warning message in if (suppressWarnings(!is.na(df$actual))) {:\n",
      "“the condition has length > 1 and only the first element will be used”\n",
      "Warning message in if (suppressWarnings(!is.na(df$actual))) {:\n",
      "“the condition has length > 1 and only the first element will be used”\n",
      "Warning message in if (suppressWarnings(!is.na(df$actual))) {:\n",
      "“the condition has length > 1 and only the first element will be used”\n",
      "Warning message in if (suppressWarnings(!is.na(df$actual))) {:\n",
      "“the condition has length > 1 and only the first element will be used”\n",
      "Warning message in if (suppressWarnings(!is.na(df$actual))) {:\n",
      "“the condition has length > 1 and only the first element will be used”\n",
      "Warning message in if (suppressWarnings(!is.na(df$actual))) {:\n",
      "“the condition has length > 1 and only the first element will be used”\n",
      "Warning message in if (suppressWarnings(!is.na(df$actual))) {:\n",
      "“the condition has length > 1 and only the first element will be used”\n",
      "Warning message in if (suppressWarnings(!is.na(df$actual))) {:\n",
      "“the condition has length > 1 and only the first element will be used”\n",
      "Warning message in if (suppressWarnings(!is.na(df$actual))) {:\n",
      "“the condition has length > 1 and only the first element will be used”\n",
      "Warning message in if (suppressWarnings(!is.na(df$actual))) {:\n",
      "“the condition has length > 1 and only the first element will be used”\n",
      "Warning message in if (suppressWarnings(!is.na(df$actual))) {:\n",
      "“the condition has length > 1 and only the first element will be used”\n",
      "Warning message in if (suppressWarnings(!is.na(df$actual))) {:\n",
      "“the condition has length > 1 and only the first element will be used”\n",
      "Warning message in if (suppressWarnings(!is.na(df$actual))) {:\n",
      "“the condition has length > 1 and only the first element will be used”\n",
      "Warning message in if (suppressWarnings(!is.na(df$actual))) {:\n",
      "“the condition has length > 1 and only the first element will be used”\n",
      "Warning message in if (suppressWarnings(!is.na(df$actual))) {:\n",
      "“the condition has length > 1 and only the first element will be used”\n",
      "Warning message in if (suppressWarnings(!is.na(df$actual))) {:\n",
      "“the condition has length > 1 and only the first element will be used”\n",
      "Warning message in if (suppressWarnings(!is.na(df$actual))) {:\n",
      "“the condition has length > 1 and only the first element will be used”\n",
      "Warning message in if (suppressWarnings(!is.na(df$actual))) {:\n",
      "“the condition has length > 1 and only the first element will be used”\n",
      "Warning message in if (suppressWarnings(!is.na(df$actual))) {:\n",
      "“the condition has length > 1 and only the first element will be used”\n",
      "Warning message in if (suppressWarnings(!is.na(df$actual))) {:\n",
      "“the condition has length > 1 and only the first element will be used”\n",
      "Warning message in if (suppressWarnings(!is.na(df$actual))) {:\n",
      "“the condition has length > 1 and only the first element will be used”\n",
      "Warning message in if (suppressWarnings(!is.na(df$actual))) {:\n",
      "“the condition has length > 1 and only the first element will be used”\n",
      "Warning message in if (suppressWarnings(!is.na(df$actual))) {:\n",
      "“the condition has length > 1 and only the first element will be used”\n",
      "Warning message in if (suppressWarnings(!is.na(df$actual))) {:\n",
      "“the condition has length > 1 and only the first element will be used”\n",
      "Warning message in if (suppressWarnings(!is.na(df$actual))) {:\n",
      "“the condition has length > 1 and only the first element will be used”\n",
      "Warning message in if (suppressWarnings(!is.na(df$actual))) {:\n",
      "“the condition has length > 1 and only the first element will be used”\n",
      "Warning message in if (suppressWarnings(!is.na(df$actual))) {:\n",
      "“the condition has length > 1 and only the first element will be used”\n",
      "Warning message in if (suppressWarnings(!is.na(df$actual))) {:\n",
      "“the condition has length > 1 and only the first element will be used”\n",
      "Warning message in if (suppressWarnings(!is.na(df$actual))) {:\n",
      "“the condition has length > 1 and only the first element will be used”\n",
      "Warning message in if (suppressWarnings(!is.na(df$actual))) {:\n",
      "“the condition has length > 1 and only the first element will be used”\n",
      "Warning message in if (suppressWarnings(!is.na(df$actual))) {:\n",
      "“the condition has length > 1 and only the first element will be used”\n",
      "Warning message in if (suppressWarnings(!is.na(df$actual))) {:\n",
      "“the condition has length > 1 and only the first element will be used”\n",
      "Warning message in if (suppressWarnings(!is.na(df$actual))) {:\n",
      "“the condition has length > 1 and only the first element will be used”\n",
      "Warning message in if (suppressWarnings(!is.na(df$actual))) {:\n",
      "“the condition has length > 1 and only the first element will be used”\n",
      "Warning message in if (suppressWarnings(!is.na(df$actual))) {:\n",
      "“the condition has length > 1 and only the first element will be used”\n",
      "Warning message in if (suppressWarnings(!is.na(df$actual))) {:\n",
      "“the condition has length > 1 and only the first element will be used”\n",
      "Warning message in if (suppressWarnings(!is.na(df$actual))) {:\n",
      "“the condition has length > 1 and only the first element will be used”\n",
      "Warning message in if (suppressWarnings(!is.na(df$actual))) {:\n",
      "“the condition has length > 1 and only the first element will be used”\n",
      "Warning message in if (suppressWarnings(!is.na(df$actual))) {:\n",
      "“the condition has length > 1 and only the first element will be used”\n",
      "Warning message in if (suppressWarnings(!is.na(df$actual))) {:\n",
      "“the condition has length > 1 and only the first element will be used”\n",
      "Warning message in if (suppressWarnings(!is.na(df$actual))) {:\n",
      "“the condition has length > 1 and only the first element will be used”\n",
      "Warning message in if (suppressWarnings(!is.na(df$actual))) {:\n",
      "“the condition has length > 1 and only the first element will be used”\n",
      "Warning message in if (suppressWarnings(!is.na(df$actual))) {:\n",
      "“the condition has length > 1 and only the first element will be used”\n",
      "Warning message in if (suppressWarnings(!is.na(df$actual))) {:\n",
      "“the condition has length > 1 and only the first element will be used”\n",
      "Warning message in if (suppressWarnings(!is.na(df$actual))) {:\n",
      "“the condition has length > 1 and only the first element will be used”\n",
      "Warning message in if (suppressWarnings(!is.na(df$actual))) {:\n",
      "“the condition has length > 1 and only the first element will be used”\n",
      "Warning message in if (suppressWarnings(!is.na(df$actual))) {:\n",
      "“the condition has length > 1 and only the first element will be used”\n",
      "Warning message in if (suppressWarnings(!is.na(df$actual))) {:\n",
      "“the condition has length > 1 and only the first element will be used”\n",
      "Warning message in if (suppressWarnings(!is.na(df$actual))) {:\n",
      "“the condition has length > 1 and only the first element will be used”\n",
      "Warning message in if (suppressWarnings(!is.na(df$actual))) {:\n",
      "“the condition has length > 1 and only the first element will be used”\n",
      "Warning message in if (suppressWarnings(!is.na(df$actual))) {:\n",
      "“the condition has length > 1 and only the first element will be used”\n",
      "Warning message in if (suppressWarnings(!is.na(df$actual))) {:\n",
      "“the condition has length > 1 and only the first element will be used”\n",
      "Warning message in if (suppressWarnings(!is.na(df$actual))) {:\n",
      "“the condition has length > 1 and only the first element will be used”\n",
      "Warning message in if (suppressWarnings(!is.na(df$actual))) {:\n",
      "“the condition has length > 1 and only the first element will be used”\n",
      "Warning message in if (suppressWarnings(!is.na(df$actual))) {:\n",
      "“the condition has length > 1 and only the first element will be used”\n",
      "Warning message in if (suppressWarnings(!is.na(df$actual))) {:\n",
      "“the condition has length > 1 and only the first element will be used”\n",
      "Warning message in if (suppressWarnings(!is.na(df$actual))) {:\n",
      "“the condition has length > 1 and only the first element will be used”\n",
      "Warning message in if (suppressWarnings(!is.na(df$actual))) {:\n",
      "“the condition has length > 1 and only the first element will be used”\n",
      "Warning message in if (suppressWarnings(!is.na(df$actual))) {:\n",
      "“the condition has length > 1 and only the first element will be used”\n",
      "Warning message in if (suppressWarnings(!is.na(df$actual))) {:\n",
      "“the condition has length > 1 and only the first element will be used”\n",
      "Warning message in if (suppressWarnings(!is.na(df$actual))) {:\n",
      "“the condition has length > 1 and only the first element will be used”\n",
      "Warning message in if (suppressWarnings(!is.na(df$actual))) {:\n",
      "“the condition has length > 1 and only the first element will be used”\n",
      "Warning message in if (suppressWarnings(!is.na(df$actual))) {:\n",
      "“the condition has length > 1 and only the first element will be used”\n",
      "Warning message in if (suppressWarnings(!is.na(df$actual))) {:\n",
      "“the condition has length > 1 and only the first element will be used”\n",
      "Warning message in if (suppressWarnings(!is.na(df$actual))) {:\n",
      "“the condition has length > 1 and only the first element will be used”\n",
      "Warning message in if (suppressWarnings(!is.na(df$actual))) {:\n",
      "“the condition has length > 1 and only the first element will be used”\n",
      "Warning message in if (suppressWarnings(!is.na(df$actual))) {:\n",
      "“the condition has length > 1 and only the first element will be used”\n",
      "Warning message in if (suppressWarnings(!is.na(df$actual))) {:\n",
      "“the condition has length > 1 and only the first element will be used”\n",
      "Warning message in if (suppressWarnings(!is.na(df$actual))) {:\n",
      "“the condition has length > 1 and only the first element will be used”\n",
      "Warning message in if (suppressWarnings(!is.na(df$actual))) {:\n",
      "“the condition has length > 1 and only the first element will be used”\n",
      "Warning message in if (suppressWarnings(!is.na(df$actual))) {:\n",
      "“the condition has length > 1 and only the first element will be used”\n",
      "Warning message in if (suppressWarnings(!is.na(df$actual))) {:\n",
      "“the condition has length > 1 and only the first element will be used”\n",
      "Warning message in if (suppressWarnings(!is.na(df$actual))) {:\n",
      "“the condition has length > 1 and only the first element will be used”\n",
      "Warning message in if (suppressWarnings(!is.na(df$actual))) {:\n",
      "“the condition has length > 1 and only the first element will be used”\n",
      "Warning message in if (suppressWarnings(!is.na(df$actual))) {:\n",
      "“the condition has length > 1 and only the first element will be used”\n",
      "Warning message in if (suppressWarnings(!is.na(df$actual))) {:\n",
      "“the condition has length > 1 and only the first element will be used”\n",
      "Warning message in if (suppressWarnings(!is.na(df$actual))) {:\n",
      "“the condition has length > 1 and only the first element will be used”\n",
      "Warning message in if (suppressWarnings(!is.na(df$actual))) {:\n",
      "“the condition has length > 1 and only the first element will be used”\n",
      "Warning message in if (suppressWarnings(!is.na(df$actual))) {:\n",
      "“the condition has length > 1 and only the first element will be used”\n",
      "Warning message in if (suppressWarnings(!is.na(df$actual))) {:\n",
      "“the condition has length > 1 and only the first element will be used”\n",
      "Warning message in if (suppressWarnings(!is.na(df$actual))) {:\n",
      "“the condition has length > 1 and only the first element will be used”\n",
      "Warning message in if (suppressWarnings(!is.na(df$actual))) {:\n",
      "“the condition has length > 1 and only the first element will be used”\n",
      "Warning message in if (suppressWarnings(!is.na(df$actual))) {:\n",
      "“the condition has length > 1 and only the first element will be used”\n",
      "Warning message in if (suppressWarnings(!is.na(df$actual))) {:\n",
      "“the condition has length > 1 and only the first element will be used”\n",
      "Warning message in if (suppressWarnings(!is.na(df$actual))) {:\n",
      "“the condition has length > 1 and only the first element will be used”\n",
      "Warning message in if (suppressWarnings(!is.na(df$actual))) {:\n",
      "“the condition has length > 1 and only the first element will be used”\n",
      "Warning message in if (suppressWarnings(!is.na(df$actual))) {:\n",
      "“the condition has length > 1 and only the first element will be used”\n",
      "Warning message in if (suppressWarnings(!is.na(df$actual))) {:\n",
      "“the condition has length > 1 and only the first element will be used”\n",
      "Warning message in if (suppressWarnings(!is.na(df$actual))) {:\n",
      "“the condition has length > 1 and only the first element will be used”\n",
      "Warning message in if (suppressWarnings(!is.na(df$actual))) {:\n",
      "“the condition has length > 1 and only the first element will be used”\n",
      "Warning message in if (suppressWarnings(!is.na(df$actual))) {:\n",
      "“the condition has length > 1 and only the first element will be used”\n",
      "Warning message in if (suppressWarnings(!is.na(df$actual))) {:\n",
      "“the condition has length > 1 and only the first element will be used”\n",
      "Warning message in if (suppressWarnings(!is.na(df$actual))) {:\n",
      "“the condition has length > 1 and only the first element will be used”\n",
      "Warning message in if (suppressWarnings(!is.na(df$actual))) {:\n",
      "“the condition has length > 1 and only the first element will be used”\n",
      "Warning message in if (suppressWarnings(!is.na(df$actual))) {:\n",
      "“the condition has length > 1 and only the first element will be used”\n",
      "Warning message in if (suppressWarnings(!is.na(df$actual))) {:\n",
      "“the condition has length > 1 and only the first element will be used”\n",
      "Warning message in if (suppressWarnings(!is.na(df$actual))) {:\n",
      "“the condition has length > 1 and only the first element will be used”\n",
      "Warning message in if (suppressWarnings(!is.na(df$actual))) {:\n",
      "“the condition has length > 1 and only the first element will be used”\n",
      "Warning message in if (suppressWarnings(!is.na(df$actual))) {:\n",
      "“the condition has length > 1 and only the first element will be used”\n",
      "Warning message in if (suppressWarnings(!is.na(df$actual))) {:\n",
      "“the condition has length > 1 and only the first element will be used”\n",
      "Warning message in if (suppressWarnings(!is.na(df$actual))) {:\n",
      "“the condition has length > 1 and only the first element will be used”\n",
      "Warning message in if (suppressWarnings(!is.na(df$actual))) {:\n",
      "“the condition has length > 1 and only the first element will be used”\n",
      "Warning message in if (suppressWarnings(!is.na(df$actual))) {:\n",
      "“the condition has length > 1 and only the first element will be used”\n",
      "Warning message in if (suppressWarnings(!is.na(df$actual))) {:\n",
      "“the condition has length > 1 and only the first element will be used”\n",
      "Warning message in if (suppressWarnings(!is.na(df$actual))) {:\n",
      "“the condition has length > 1 and only the first element will be used”\n",
      "Warning message in if (suppressWarnings(!is.na(df$actual))) {:\n",
      "“the condition has length > 1 and only the first element will be used”\n",
      "Warning message in if (suppressWarnings(!is.na(df$actual))) {:\n",
      "“the condition has length > 1 and only the first element will be used”\n",
      "Warning message in if (suppressWarnings(!is.na(df$actual))) {:\n",
      "“the condition has length > 1 and only the first element will be used”\n",
      "Warning message in if (suppressWarnings(!is.na(df$actual))) {:\n",
      "“the condition has length > 1 and only the first element will be used”\n",
      "Warning message in if (suppressWarnings(!is.na(df$actual))) {:\n",
      "“the condition has length > 1 and only the first element will be used”\n",
      "Warning message in if (suppressWarnings(!is.na(df$actual))) {:\n",
      "“the condition has length > 1 and only the first element will be used”\n",
      "Warning message in if (suppressWarnings(!is.na(df$actual))) {:\n",
      "“the condition has length > 1 and only the first element will be used”\n",
      "Warning message in if (suppressWarnings(!is.na(df$actual))) {:\n",
      "“the condition has length > 1 and only the first element will be used”\n",
      "Warning message in if (suppressWarnings(!is.na(df$actual))) {:\n",
      "“the condition has length > 1 and only the first element will be used”\n",
      "Warning message in if (suppressWarnings(!is.na(df$actual))) {:\n",
      "“the condition has length > 1 and only the first element will be used”\n",
      "Warning message in if (suppressWarnings(!is.na(df$actual))) {:\n",
      "“the condition has length > 1 and only the first element will be used”\n",
      "Warning message in if (suppressWarnings(!is.na(df$actual))) {:\n",
      "“the condition has length > 1 and only the first element will be used”\n",
      "Warning message in if (suppressWarnings(!is.na(df$actual))) {:\n",
      "“the condition has length > 1 and only the first element will be used”\n",
      "Warning message in if (suppressWarnings(!is.na(df$actual))) {:\n",
      "“the condition has length > 1 and only the first element will be used”\n"
     ]
    }
   ],
   "source": [
    "for (i in 1:length(na_tridxs)){\n",
    "    df <- compare_DF %>% filter(tld_registrar_index==na_tridxs[[i]] )\n",
    "    if (suppressWarnings(!is.na(df$actual))){\n",
    "        if (sum(df %>% pull(actual) == 'Renewed')>0){\n",
    "            print(na_tridxs[[i]])\n",
    "            print('\\n')\n",
    "        }\n",
    "    }\n",
    "    \n",
    "}"
   ]
  },
  {
   "cell_type": "code",
   "execution_count": null,
   "metadata": {},
   "outputs": [],
   "source": []
  },
  {
   "cell_type": "code",
   "execution_count": null,
   "metadata": {},
   "outputs": [],
   "source": []
  },
  {
   "cell_type": "code",
   "execution_count": null,
   "metadata": {},
   "outputs": [],
   "source": []
  },
  {
   "cell_type": "code",
   "execution_count": null,
   "metadata": {},
   "outputs": [],
   "source": []
  },
  {
   "cell_type": "code",
   "execution_count": null,
   "metadata": {},
   "outputs": [],
   "source": []
  },
  {
   "cell_type": "code",
   "execution_count": null,
   "metadata": {},
   "outputs": [],
   "source": []
  }
 ],
 "metadata": {
  "environment": {
   "name": "r-cpu.3-6.m48",
   "type": "gcloud",
   "uri": "gcr.io/deeplearning-platform-release/r-cpu.3-6:m48"
  },
  "kernelspec": {
   "display_name": "R",
   "language": "R",
   "name": "ir"
  },
  "language_info": {
   "codemirror_mode": "r",
   "file_extension": ".r",
   "mimetype": "text/x-r-source",
   "name": "R",
   "pygments_lexer": "r",
   "version": "3.6.3"
  }
 },
 "nbformat": 4,
 "nbformat_minor": 4
}
