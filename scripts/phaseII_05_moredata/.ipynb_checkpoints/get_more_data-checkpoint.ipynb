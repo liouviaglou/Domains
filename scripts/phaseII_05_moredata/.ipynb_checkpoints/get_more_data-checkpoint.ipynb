{
 "cells": [
  {
   "cell_type": "markdown",
   "metadata": {},
   "source": [
    "# Get Expiry Data QA "
   ]
  },
  {
   "cell_type": "code",
   "execution_count": 1,
   "metadata": {},
   "outputs": [],
   "source": [
    "# install.packages(\"readr\")"
   ]
  },
  {
   "cell_type": "code",
   "execution_count": 9,
   "metadata": {},
   "outputs": [],
   "source": [
    "options(repr.matrix.max.cols=50, repr.matrix.max.rows=100)"
   ]
  },
  {
   "cell_type": "code",
   "execution_count": 1,
   "metadata": {},
   "outputs": [
    {
     "name": "stderr",
     "output_type": "stream",
     "text": [
      "Loading required package: ggplot2\n",
      "\n",
      "\n",
      "Attaching package: ‘plotly’\n",
      "\n",
      "\n",
      "The following object is masked from ‘package:ggplot2’:\n",
      "\n",
      "    last_plot\n",
      "\n",
      "\n",
      "The following object is masked from ‘package:stats’:\n",
      "\n",
      "    filter\n",
      "\n",
      "\n",
      "The following object is masked from ‘package:graphics’:\n",
      "\n",
      "    layout\n",
      "\n",
      "\n"
     ]
    }
   ],
   "source": [
    "library(bigrquery)\n",
    "library(plotly)\n",
    "library(data.table)\n",
    "library(stringr)\n",
    "library(readr)"
   ]
  },
  {
   "cell_type": "code",
   "execution_count": 2,
   "metadata": {},
   "outputs": [
    {
     "data": {
      "text/html": [],
      "text/latex": [],
      "text/markdown": [],
      "text/plain": [
       "character(0)"
      ]
     },
     "metadata": {},
     "output_type": "display_data"
    }
   ],
   "source": [
    "objects()"
   ]
  },
  {
   "cell_type": "code",
   "execution_count": 3,
   "metadata": {},
   "outputs": [],
   "source": [
    "projectid <- \"radixbi-249015\""
   ]
  },
  {
   "cell_type": "markdown",
   "metadata": {},
   "source": [
    "## count number of rows we're working with"
   ]
  },
  {
   "cell_type": "code",
   "execution_count": 4,
   "metadata": {},
   "outputs": [],
   "source": [
    "expiry_date_start='2019-01-01'\n",
    "expiry_date_end='2020-03-31'\n",
    "\n",
    "source(\"query_string_defs2.R\")\n",
    "\n",
    "# writeLines(count_expiry_data_str)"
   ]
  },
  {
   "cell_type": "code",
   "execution_count": 5,
   "metadata": {},
   "outputs": [
    {
     "data": {
      "text/html": [
       "<table>\n",
       "<caption>A tibble: 1 × 1</caption>\n",
       "<thead>\n",
       "\t<tr><th scope=col>f0_</th></tr>\n",
       "\t<tr><th scope=col>&lt;int&gt;</th></tr>\n",
       "</thead>\n",
       "<tbody>\n",
       "\t<tr><td>4628632</td></tr>\n",
       "</tbody>\n",
       "</table>\n"
      ],
      "text/latex": [
       "A tibble: 1 × 1\n",
       "\\begin{tabular}{l}\n",
       " f0\\_\\\\\n",
       " <int>\\\\\n",
       "\\hline\n",
       "\t 4628632\\\\\n",
       "\\end{tabular}\n"
      ],
      "text/markdown": [
       "\n",
       "A tibble: 1 × 1\n",
       "\n",
       "| f0_ &lt;int&gt; |\n",
       "|---|\n",
       "| 4628632 |\n",
       "\n"
      ],
      "text/plain": [
       "  f0_    \n",
       "1 4628632"
      ]
     },
     "metadata": {},
     "output_type": "display_data"
    }
   ],
   "source": [
    "sql <- count_expiry_data_str\n",
    "\n",
    "test_df <- bq_table_download(bq_project_query(projectid, sql))\n",
    "test_df"
   ]
  },
  {
   "cell_type": "markdown",
   "metadata": {},
   "source": [
    "## compare to size of first_renewal_preds\n",
    "\n",
    "dim = (1949082      38) <br>\n",
    "size = 807.4 Mb = 0.8074 Gb"
   ]
  },
  {
   "cell_type": "code",
   "execution_count": 3,
   "metadata": {},
   "outputs": [
    {
     "name": "stdout",
     "output_type": "stream",
     "text": [
      "[1] 1949082      38\n",
      "807.4 Mb\n"
     ]
    }
   ],
   "source": [
    "# first_renewal_preds <- readRDS('../../data/first_renewal_preds')\n",
    "# print(dim(first_renewal_preds))\n",
    "# print(object.size(first_renewal_preds), units = \"auto\") \n",
    "# rm(first_renewal_preds)"
   ]
  },
  {
   "cell_type": "code",
   "execution_count": 6,
   "metadata": {},
   "outputs": [
    {
     "data": {
      "text/html": [
       "2.37477540708908"
      ],
      "text/latex": [
       "2.37477540708908"
      ],
      "text/markdown": [
       "2.37477540708908"
      ],
      "text/plain": [
       "[1] 2.374775"
      ]
     },
     "metadata": {},
     "output_type": "display_data"
    }
   ],
   "source": [
    "4628632/1949082"
   ]
  },
  {
   "cell_type": "markdown",
   "metadata": {},
   "source": [
    "## size is atleast 2.4x than first_renewal_preds (~2.0GB without considering additional columns)"
   ]
  },
  {
   "cell_type": "markdown",
   "metadata": {},
   "source": [
    "#  Get list of column names of both tables"
   ]
  },
  {
   "cell_type": "code",
   "execution_count": 10,
   "metadata": {},
   "outputs": [
    {
     "data": {
      "text/html": [
       "<table>\n",
       "<caption>A tibble: 10 × 48</caption>\n",
       "<thead>\n",
       "\t<tr><th scope=col>domain_id</th><th scope=col>domain</th><th scope=col>expiry_date</th><th scope=col>creation_date</th><th scope=col>registrar_userid</th><th scope=col>ns</th><th scope=col>period</th><th scope=col>amount</th><th scope=col>tld</th><th scope=col>usdamt</th><th scope=col>rebate_given</th><th scope=col>net_revenue</th><th scope=col>zdns_cost</th><th scope=col>manual_rebate</th><th scope=col>registrantid</th><th scope=col>registrant_country</th><th scope=col>comm</th><th scope=col>mbg</th><th scope=col>rebate</th><th scope=col>centralnic_comm</th><th scope=col>gross_centralnic_comm</th><th scope=col>icann_comm</th><th scope=col>ns_company</th><th scope=col>client_am</th><th scope=col>registrar_am</th><th scope=col>deleted_date</th><th scope=col>registrar_shortname</th><th scope=col>client_shortname</th><th scope=col>registrar_country</th><th scope=col>client_country</th><th scope=col>creationtime</th><th scope=col>r_row_id</th><th scope=col>r_renew_date</th><th scope=col>r_renewal_id</th><th scope=col>r_period</th><th scope=col>r_renew_type</th><th scope=col>r_autorenew_type</th><th scope=col>r_net_revenue</th><th scope=col>r_mbg</th><th scope=col>r_centralnic_comm</th><th scope=col>r_icann_comm</th><th scope=col>r_registrar_shortname</th><th scope=col>r_client_shortname</th><th scope=col>r_client_am</th><th scope=col>r_registrar_country</th><th scope=col>r_client_country</th><th scope=col>r_registrar_am</th><th scope=col>promo_tag</th></tr>\n",
       "\t<tr><th scope=col>&lt;int&gt;</th><th scope=col>&lt;chr&gt;</th><th scope=col>&lt;dttm&gt;</th><th scope=col>&lt;dttm&gt;</th><th scope=col>&lt;chr&gt;</th><th scope=col>&lt;chr&gt;</th><th scope=col>&lt;int&gt;</th><th scope=col>&lt;dbl&gt;</th><th scope=col>&lt;chr&gt;</th><th scope=col>&lt;dbl&gt;</th><th scope=col>&lt;dbl&gt;</th><th scope=col>&lt;dbl&gt;</th><th scope=col>&lt;dbl&gt;</th><th scope=col>&lt;int&gt;</th><th scope=col>&lt;chr&gt;</th><th scope=col>&lt;chr&gt;</th><th scope=col>&lt;dbl&gt;</th><th scope=col>&lt;int&gt;</th><th scope=col>&lt;int&gt;</th><th scope=col>&lt;dbl&gt;</th><th scope=col>&lt;dbl&gt;</th><th scope=col>&lt;dbl&gt;</th><th scope=col>&lt;chr&gt;</th><th scope=col>&lt;chr&gt;</th><th scope=col>&lt;chr&gt;</th><th scope=col>&lt;chr&gt;</th><th scope=col>&lt;chr&gt;</th><th scope=col>&lt;chr&gt;</th><th scope=col>&lt;chr&gt;</th><th scope=col>&lt;chr&gt;</th><th scope=col>&lt;chr&gt;</th><th scope=col>&lt;int&gt;</th><th scope=col>&lt;dttm&gt;</th><th scope=col>&lt;int&gt;</th><th scope=col>&lt;int&gt;</th><th scope=col>&lt;chr&gt;</th><th scope=col>&lt;chr&gt;</th><th scope=col>&lt;dbl&gt;</th><th scope=col>&lt;int&gt;</th><th scope=col>&lt;dbl&gt;</th><th scope=col>&lt;dbl&gt;</th><th scope=col>&lt;chr&gt;</th><th scope=col>&lt;chr&gt;</th><th scope=col>&lt;chr&gt;</th><th scope=col>&lt;chr&gt;</th><th scope=col>&lt;chr&gt;</th><th scope=col>&lt;chr&gt;</th><th scope=col>&lt;chr&gt;</th></tr>\n",
       "</thead>\n",
       "<tbody>\n",
       "\t<tr><td>189676949</td><td>hidinginplainsite.online</td><td>2021-06-15</td><td>2020-06-15 00:12:00</td><td>H13973213</td><td>x.ns.joker.com,y.ns.joker.com,z.ns.joker.com</td><td>1</td><td>2.4</td><td>online</td><td>0</td><td>2.4</td><td>0</td><td>0</td><td>1</td><td>CCEN-53744</td><td>NA</td><td>0</td><td>0</td><td>1</td><td>0</td><td>0.45</td><td>0.25</td><td>joker.com      </td><td>Varun</td><td>Varun</td><td>NA</td><td>CSL</td><td>CSL</td><td>Germany</td><td>Germany</td><td>2020-06-15 14:12:27</td><td>NA</td><td>NA</td><td>0</td><td>NA</td><td>NA</td><td>NA</td><td>0</td><td>0</td><td>NA</td><td>NA</td><td>Not Assigned</td><td>Not Assigned</td><td>Not Assigned</td><td>NA</td><td>NA</td><td>NA</td><td>domain_bundle_click_to_add_free</td></tr>\n",
       "\t<tr><td>189672829</td><td>bitcoinyt.online        </td><td>2021-06-15</td><td>2020-06-15 00:12:00</td><td>H13973213</td><td>x.ns.joker.com,y.ns.joker.com,z.ns.joker.com</td><td>1</td><td>2.4</td><td>online</td><td>0</td><td>2.4</td><td>0</td><td>0</td><td>1</td><td>C1046-4586</td><td>NA</td><td>0</td><td>0</td><td>1</td><td>0</td><td>0.45</td><td>0.25</td><td>joker.com      </td><td>Varun</td><td>Varun</td><td>NA</td><td>CSL</td><td>CSL</td><td>Germany</td><td>Germany</td><td>2020-06-15 13:49:37</td><td>NA</td><td>NA</td><td>0</td><td>NA</td><td>NA</td><td>NA</td><td>0</td><td>0</td><td>NA</td><td>NA</td><td>Not Assigned</td><td>Not Assigned</td><td>Not Assigned</td><td>NA</td><td>NA</td><td>NA</td><td>domain_bundle_click_to_add_free</td></tr>\n",
       "\t<tr><td>189683039</td><td>bitcoin24secure.online  </td><td>2021-06-15</td><td>2020-06-15 00:12:00</td><td>H13973213</td><td>ns1.sedoparking.com,ns2.sedoparking.com     </td><td>1</td><td>2.4</td><td>online</td><td>0</td><td>2.4</td><td>0</td><td>0</td><td>1</td><td>C1046-4588</td><td>NA</td><td>0</td><td>0</td><td>1</td><td>0</td><td>0.45</td><td>0.25</td><td>joker.com      </td><td>Varun</td><td>Varun</td><td>NA</td><td>CSL</td><td>CSL</td><td>Germany</td><td>Germany</td><td>2020-06-15 14:58:10</td><td>NA</td><td>NA</td><td>0</td><td>NA</td><td>NA</td><td>NA</td><td>0</td><td>0</td><td>NA</td><td>NA</td><td>Not Assigned</td><td>Not Assigned</td><td>Not Assigned</td><td>NA</td><td>NA</td><td>NA</td><td>domain_bundle_click_to_add_free</td></tr>\n",
       "\t<tr><td>189683069</td><td>bitcoincabana.online    </td><td>2021-06-15</td><td>2020-06-15 00:12:00</td><td>H13973213</td><td>ns1.sedoparking.com,ns2.sedoparking.com     </td><td>1</td><td>2.4</td><td>online</td><td>0</td><td>2.4</td><td>0</td><td>0</td><td>1</td><td>C1046-4592</td><td>NA</td><td>0</td><td>0</td><td>1</td><td>0</td><td>0.45</td><td>0.25</td><td>joker.com      </td><td>Varun</td><td>Varun</td><td>NA</td><td>CSL</td><td>CSL</td><td>Germany</td><td>Germany</td><td>2020-06-15 14:58:34</td><td>NA</td><td>NA</td><td>0</td><td>NA</td><td>NA</td><td>NA</td><td>0</td><td>0</td><td>NA</td><td>NA</td><td>Not Assigned</td><td>Not Assigned</td><td>Not Assigned</td><td>NA</td><td>NA</td><td>NA</td><td>domain_bundle_click_to_add_free</td></tr>\n",
       "\t<tr><td>189683094</td><td>bitcoinautobahn.online  </td><td>2021-06-15</td><td>2020-06-15 00:12:00</td><td>H13973213</td><td>ns1.sedoparking.com,ns2.sedoparking.com     </td><td>1</td><td>2.4</td><td>online</td><td>0</td><td>2.4</td><td>0</td><td>0</td><td>1</td><td>C1046-4596</td><td>NA</td><td>0</td><td>0</td><td>1</td><td>0</td><td>0.45</td><td>0.25</td><td>joker.com      </td><td>Varun</td><td>Varun</td><td>NA</td><td>CSL</td><td>CSL</td><td>Germany</td><td>Germany</td><td>2020-06-15 14:58:58</td><td>NA</td><td>NA</td><td>0</td><td>NA</td><td>NA</td><td>NA</td><td>0</td><td>0</td><td>NA</td><td>NA</td><td>Not Assigned</td><td>Not Assigned</td><td>Not Assigned</td><td>NA</td><td>NA</td><td>NA</td><td>domain_bundle_click_to_add_free</td></tr>\n",
       "\t<tr><td>189683054</td><td>bitcoin24bank.online    </td><td>2021-06-15</td><td>2020-06-15 00:12:00</td><td>H13973213</td><td>ns1.sedoparking.com,ns2.sedoparking.com     </td><td>1</td><td>2.4</td><td>online</td><td>0</td><td>2.4</td><td>0</td><td>0</td><td>1</td><td>C1046-4590</td><td>NA</td><td>0</td><td>0</td><td>1</td><td>0</td><td>0.45</td><td>0.25</td><td>sedoparking.com</td><td>Varun</td><td>Varun</td><td>NA</td><td>CSL</td><td>CSL</td><td>Germany</td><td>Germany</td><td>2020-06-15 14:58:22</td><td>NA</td><td>NA</td><td>0</td><td>NA</td><td>NA</td><td>NA</td><td>0</td><td>0</td><td>NA</td><td>NA</td><td>Not Assigned</td><td>Not Assigned</td><td>Not Assigned</td><td>NA</td><td>NA</td><td>NA</td><td>domain_bundle_click_to_add_free</td></tr>\n",
       "\t<tr><td>189683079</td><td>bitcoinbank-24.online   </td><td>2021-06-15</td><td>2020-06-15 00:12:00</td><td>H13973213</td><td>ns1.sedoparking.com,ns2.sedoparking.com     </td><td>1</td><td>2.4</td><td>online</td><td>0</td><td>2.4</td><td>0</td><td>0</td><td>1</td><td>C1046-4594</td><td>NA</td><td>0</td><td>0</td><td>1</td><td>0</td><td>0.45</td><td>0.25</td><td>sedoparking.com</td><td>Varun</td><td>Varun</td><td>NA</td><td>CSL</td><td>CSL</td><td>Germany</td><td>Germany</td><td>2020-06-15 14:58:46</td><td>NA</td><td>NA</td><td>0</td><td>NA</td><td>NA</td><td>NA</td><td>0</td><td>0</td><td>NA</td><td>NA</td><td>Not Assigned</td><td>Not Assigned</td><td>Not Assigned</td><td>NA</td><td>NA</td><td>NA</td><td>domain_bundle_click_to_add_free</td></tr>\n",
       "\t<tr><td>189683114</td><td>24bitcoin24.online      </td><td>2021-06-15</td><td>2020-06-15 00:12:00</td><td>H13973213</td><td>ns1.sedoparking.com,ns2.sedoparking.com     </td><td>1</td><td>2.4</td><td>online</td><td>0</td><td>2.4</td><td>0</td><td>0</td><td>1</td><td>C1046-4598</td><td>NA</td><td>0</td><td>0</td><td>1</td><td>0</td><td>0.45</td><td>0.25</td><td>joker.com      </td><td>Varun</td><td>Varun</td><td>NA</td><td>CSL</td><td>CSL</td><td>Germany</td><td>Germany</td><td>2020-06-15 14:59:11</td><td>NA</td><td>NA</td><td>0</td><td>NA</td><td>NA</td><td>NA</td><td>0</td><td>0</td><td>NA</td><td>NA</td><td>Not Assigned</td><td>Not Assigned</td><td>Not Assigned</td><td>NA</td><td>NA</td><td>NA</td><td>domain_bundle_click_to_add_free</td></tr>\n",
       "\t<tr><td>189690964</td><td>projetinox.online       </td><td>2021-06-15</td><td>2020-06-15 00:12:00</td><td>H13973213</td><td>ns1.neo-e.com.br,ns2.neo-e.com.br           </td><td>1</td><td>2.4</td><td>online</td><td>0</td><td>2.4</td><td>0</td><td>0</td><td>1</td><td>CCEN-53763</td><td>NA</td><td>0</td><td>0</td><td>1</td><td>0</td><td>0.45</td><td>0.25</td><td>neo-e.com.br   </td><td>Varun</td><td>Varun</td><td>NA</td><td>CSL</td><td>CSL</td><td>Germany</td><td>Germany</td><td>2020-06-15 16:28:34</td><td>NA</td><td>NA</td><td>0</td><td>NA</td><td>NA</td><td>NA</td><td>0</td><td>0</td><td>NA</td><td>NA</td><td>Not Assigned</td><td>Not Assigned</td><td>Not Assigned</td><td>NA</td><td>NA</td><td>NA</td><td>domain_bundle_click_to_add_free</td></tr>\n",
       "\t<tr><td>189699224</td><td>atm365bitcoin.online    </td><td>2021-06-15</td><td>2020-06-15 00:12:00</td><td>H13973213</td><td>x.ns.joker.com,y.ns.joker.com,z.ns.joker.com</td><td>1</td><td>2.4</td><td>online</td><td>0</td><td>2.4</td><td>0</td><td>0</td><td>1</td><td>C1046-4600</td><td>NA</td><td>0</td><td>0</td><td>1</td><td>0</td><td>0.45</td><td>0.25</td><td>joker.com      </td><td>Varun</td><td>Varun</td><td>NA</td><td>CSL</td><td>CSL</td><td>Germany</td><td>Germany</td><td>2020-06-15 18:51:18</td><td>NA</td><td>NA</td><td>0</td><td>NA</td><td>NA</td><td>NA</td><td>0</td><td>0</td><td>NA</td><td>NA</td><td>Not Assigned</td><td>Not Assigned</td><td>Not Assigned</td><td>NA</td><td>NA</td><td>NA</td><td>domain_bundle_click_to_add_free</td></tr>\n",
       "</tbody>\n",
       "</table>\n"
      ],
      "text/latex": [
       "A tibble: 10 × 48\n",
       "\\begin{tabular}{llllllllllllllllllllllllllllllllllllllllllllllll}\n",
       " domain\\_id & domain & expiry\\_date & creation\\_date & registrar\\_userid & ns & period & amount & tld & usdamt & rebate\\_given & net\\_revenue & zdns\\_cost & manual\\_rebate & registrantid & registrant\\_country & comm & mbg & rebate & centralnic\\_comm & gross\\_centralnic\\_comm & icann\\_comm & ns\\_company & client\\_am & registrar\\_am & deleted\\_date & registrar\\_shortname & client\\_shortname & registrar\\_country & client\\_country & creationtime & r\\_row\\_id & r\\_renew\\_date & r\\_renewal\\_id & r\\_period & r\\_renew\\_type & r\\_autorenew\\_type & r\\_net\\_revenue & r\\_mbg & r\\_centralnic\\_comm & r\\_icann\\_comm & r\\_registrar\\_shortname & r\\_client\\_shortname & r\\_client\\_am & r\\_registrar\\_country & r\\_client\\_country & r\\_registrar\\_am & promo\\_tag\\\\\n",
       " <int> & <chr> & <dttm> & <dttm> & <chr> & <chr> & <int> & <dbl> & <chr> & <dbl> & <dbl> & <dbl> & <dbl> & <int> & <chr> & <chr> & <dbl> & <int> & <int> & <dbl> & <dbl> & <dbl> & <chr> & <chr> & <chr> & <chr> & <chr> & <chr> & <chr> & <chr> & <chr> & <int> & <dttm> & <int> & <int> & <chr> & <chr> & <dbl> & <int> & <dbl> & <dbl> & <chr> & <chr> & <chr> & <chr> & <chr> & <chr> & <chr>\\\\\n",
       "\\hline\n",
       "\t 189676949 & hidinginplainsite.online & 2021-06-15 & 2020-06-15 00:12:00 & H13973213 & x.ns.joker.com,y.ns.joker.com,z.ns.joker.com & 1 & 2.4 & online & 0 & 2.4 & 0 & 0 & 1 & CCEN-53744 & NA & 0 & 0 & 1 & 0 & 0.45 & 0.25 & joker.com       & Varun & Varun & NA & CSL & CSL & Germany & Germany & 2020-06-15 14:12:27 & NA & NA & 0 & NA & NA & NA & 0 & 0 & NA & NA & Not Assigned & Not Assigned & Not Assigned & NA & NA & NA & domain\\_bundle\\_click\\_to\\_add\\_free\\\\\n",
       "\t 189672829 & bitcoinyt.online         & 2021-06-15 & 2020-06-15 00:12:00 & H13973213 & x.ns.joker.com,y.ns.joker.com,z.ns.joker.com & 1 & 2.4 & online & 0 & 2.4 & 0 & 0 & 1 & C1046-4586 & NA & 0 & 0 & 1 & 0 & 0.45 & 0.25 & joker.com       & Varun & Varun & NA & CSL & CSL & Germany & Germany & 2020-06-15 13:49:37 & NA & NA & 0 & NA & NA & NA & 0 & 0 & NA & NA & Not Assigned & Not Assigned & Not Assigned & NA & NA & NA & domain\\_bundle\\_click\\_to\\_add\\_free\\\\\n",
       "\t 189683039 & bitcoin24secure.online   & 2021-06-15 & 2020-06-15 00:12:00 & H13973213 & ns1.sedoparking.com,ns2.sedoparking.com      & 1 & 2.4 & online & 0 & 2.4 & 0 & 0 & 1 & C1046-4588 & NA & 0 & 0 & 1 & 0 & 0.45 & 0.25 & joker.com       & Varun & Varun & NA & CSL & CSL & Germany & Germany & 2020-06-15 14:58:10 & NA & NA & 0 & NA & NA & NA & 0 & 0 & NA & NA & Not Assigned & Not Assigned & Not Assigned & NA & NA & NA & domain\\_bundle\\_click\\_to\\_add\\_free\\\\\n",
       "\t 189683069 & bitcoincabana.online     & 2021-06-15 & 2020-06-15 00:12:00 & H13973213 & ns1.sedoparking.com,ns2.sedoparking.com      & 1 & 2.4 & online & 0 & 2.4 & 0 & 0 & 1 & C1046-4592 & NA & 0 & 0 & 1 & 0 & 0.45 & 0.25 & joker.com       & Varun & Varun & NA & CSL & CSL & Germany & Germany & 2020-06-15 14:58:34 & NA & NA & 0 & NA & NA & NA & 0 & 0 & NA & NA & Not Assigned & Not Assigned & Not Assigned & NA & NA & NA & domain\\_bundle\\_click\\_to\\_add\\_free\\\\\n",
       "\t 189683094 & bitcoinautobahn.online   & 2021-06-15 & 2020-06-15 00:12:00 & H13973213 & ns1.sedoparking.com,ns2.sedoparking.com      & 1 & 2.4 & online & 0 & 2.4 & 0 & 0 & 1 & C1046-4596 & NA & 0 & 0 & 1 & 0 & 0.45 & 0.25 & joker.com       & Varun & Varun & NA & CSL & CSL & Germany & Germany & 2020-06-15 14:58:58 & NA & NA & 0 & NA & NA & NA & 0 & 0 & NA & NA & Not Assigned & Not Assigned & Not Assigned & NA & NA & NA & domain\\_bundle\\_click\\_to\\_add\\_free\\\\\n",
       "\t 189683054 & bitcoin24bank.online     & 2021-06-15 & 2020-06-15 00:12:00 & H13973213 & ns1.sedoparking.com,ns2.sedoparking.com      & 1 & 2.4 & online & 0 & 2.4 & 0 & 0 & 1 & C1046-4590 & NA & 0 & 0 & 1 & 0 & 0.45 & 0.25 & sedoparking.com & Varun & Varun & NA & CSL & CSL & Germany & Germany & 2020-06-15 14:58:22 & NA & NA & 0 & NA & NA & NA & 0 & 0 & NA & NA & Not Assigned & Not Assigned & Not Assigned & NA & NA & NA & domain\\_bundle\\_click\\_to\\_add\\_free\\\\\n",
       "\t 189683079 & bitcoinbank-24.online    & 2021-06-15 & 2020-06-15 00:12:00 & H13973213 & ns1.sedoparking.com,ns2.sedoparking.com      & 1 & 2.4 & online & 0 & 2.4 & 0 & 0 & 1 & C1046-4594 & NA & 0 & 0 & 1 & 0 & 0.45 & 0.25 & sedoparking.com & Varun & Varun & NA & CSL & CSL & Germany & Germany & 2020-06-15 14:58:46 & NA & NA & 0 & NA & NA & NA & 0 & 0 & NA & NA & Not Assigned & Not Assigned & Not Assigned & NA & NA & NA & domain\\_bundle\\_click\\_to\\_add\\_free\\\\\n",
       "\t 189683114 & 24bitcoin24.online       & 2021-06-15 & 2020-06-15 00:12:00 & H13973213 & ns1.sedoparking.com,ns2.sedoparking.com      & 1 & 2.4 & online & 0 & 2.4 & 0 & 0 & 1 & C1046-4598 & NA & 0 & 0 & 1 & 0 & 0.45 & 0.25 & joker.com       & Varun & Varun & NA & CSL & CSL & Germany & Germany & 2020-06-15 14:59:11 & NA & NA & 0 & NA & NA & NA & 0 & 0 & NA & NA & Not Assigned & Not Assigned & Not Assigned & NA & NA & NA & domain\\_bundle\\_click\\_to\\_add\\_free\\\\\n",
       "\t 189690964 & projetinox.online        & 2021-06-15 & 2020-06-15 00:12:00 & H13973213 & ns1.neo-e.com.br,ns2.neo-e.com.br            & 1 & 2.4 & online & 0 & 2.4 & 0 & 0 & 1 & CCEN-53763 & NA & 0 & 0 & 1 & 0 & 0.45 & 0.25 & neo-e.com.br    & Varun & Varun & NA & CSL & CSL & Germany & Germany & 2020-06-15 16:28:34 & NA & NA & 0 & NA & NA & NA & 0 & 0 & NA & NA & Not Assigned & Not Assigned & Not Assigned & NA & NA & NA & domain\\_bundle\\_click\\_to\\_add\\_free\\\\\n",
       "\t 189699224 & atm365bitcoin.online     & 2021-06-15 & 2020-06-15 00:12:00 & H13973213 & x.ns.joker.com,y.ns.joker.com,z.ns.joker.com & 1 & 2.4 & online & 0 & 2.4 & 0 & 0 & 1 & C1046-4600 & NA & 0 & 0 & 1 & 0 & 0.45 & 0.25 & joker.com       & Varun & Varun & NA & CSL & CSL & Germany & Germany & 2020-06-15 18:51:18 & NA & NA & 0 & NA & NA & NA & 0 & 0 & NA & NA & Not Assigned & Not Assigned & Not Assigned & NA & NA & NA & domain\\_bundle\\_click\\_to\\_add\\_free\\\\\n",
       "\\end{tabular}\n"
      ],
      "text/markdown": [
       "\n",
       "A tibble: 10 × 48\n",
       "\n",
       "| domain_id &lt;int&gt; | domain &lt;chr&gt; | expiry_date &lt;dttm&gt; | creation_date &lt;dttm&gt; | registrar_userid &lt;chr&gt; | ns &lt;chr&gt; | period &lt;int&gt; | amount &lt;dbl&gt; | tld &lt;chr&gt; | usdamt &lt;dbl&gt; | rebate_given &lt;dbl&gt; | net_revenue &lt;dbl&gt; | zdns_cost &lt;dbl&gt; | manual_rebate &lt;int&gt; | registrantid &lt;chr&gt; | registrant_country &lt;chr&gt; | comm &lt;dbl&gt; | mbg &lt;int&gt; | rebate &lt;int&gt; | centralnic_comm &lt;dbl&gt; | gross_centralnic_comm &lt;dbl&gt; | icann_comm &lt;dbl&gt; | ns_company &lt;chr&gt; | client_am &lt;chr&gt; | registrar_am &lt;chr&gt; | deleted_date &lt;chr&gt; | registrar_shortname &lt;chr&gt; | client_shortname &lt;chr&gt; | registrar_country &lt;chr&gt; | client_country &lt;chr&gt; | creationtime &lt;chr&gt; | r_row_id &lt;int&gt; | r_renew_date &lt;dttm&gt; | r_renewal_id &lt;int&gt; | r_period &lt;int&gt; | r_renew_type &lt;chr&gt; | r_autorenew_type &lt;chr&gt; | r_net_revenue &lt;dbl&gt; | r_mbg &lt;int&gt; | r_centralnic_comm &lt;dbl&gt; | r_icann_comm &lt;dbl&gt; | r_registrar_shortname &lt;chr&gt; | r_client_shortname &lt;chr&gt; | r_client_am &lt;chr&gt; | r_registrar_country &lt;chr&gt; | r_client_country &lt;chr&gt; | r_registrar_am &lt;chr&gt; | promo_tag &lt;chr&gt; |\n",
       "|---|---|---|---|---|---|---|---|---|---|---|---|---|---|---|---|---|---|---|---|---|---|---|---|---|---|---|---|---|---|---|---|---|---|---|---|---|---|---|---|---|---|---|---|---|---|---|---|\n",
       "| 189676949 | hidinginplainsite.online | 2021-06-15 | 2020-06-15 00:12:00 | H13973213 | x.ns.joker.com,y.ns.joker.com,z.ns.joker.com | 1 | 2.4 | online | 0 | 2.4 | 0 | 0 | 1 | CCEN-53744 | NA | 0 | 0 | 1 | 0 | 0.45 | 0.25 | joker.com       | Varun | Varun | NA | CSL | CSL | Germany | Germany | 2020-06-15 14:12:27 | NA | NA | 0 | NA | NA | NA | 0 | 0 | NA | NA | Not Assigned | Not Assigned | Not Assigned | NA | NA | NA | domain_bundle_click_to_add_free |\n",
       "| 189672829 | bitcoinyt.online         | 2021-06-15 | 2020-06-15 00:12:00 | H13973213 | x.ns.joker.com,y.ns.joker.com,z.ns.joker.com | 1 | 2.4 | online | 0 | 2.4 | 0 | 0 | 1 | C1046-4586 | NA | 0 | 0 | 1 | 0 | 0.45 | 0.25 | joker.com       | Varun | Varun | NA | CSL | CSL | Germany | Germany | 2020-06-15 13:49:37 | NA | NA | 0 | NA | NA | NA | 0 | 0 | NA | NA | Not Assigned | Not Assigned | Not Assigned | NA | NA | NA | domain_bundle_click_to_add_free |\n",
       "| 189683039 | bitcoin24secure.online   | 2021-06-15 | 2020-06-15 00:12:00 | H13973213 | ns1.sedoparking.com,ns2.sedoparking.com      | 1 | 2.4 | online | 0 | 2.4 | 0 | 0 | 1 | C1046-4588 | NA | 0 | 0 | 1 | 0 | 0.45 | 0.25 | joker.com       | Varun | Varun | NA | CSL | CSL | Germany | Germany | 2020-06-15 14:58:10 | NA | NA | 0 | NA | NA | NA | 0 | 0 | NA | NA | Not Assigned | Not Assigned | Not Assigned | NA | NA | NA | domain_bundle_click_to_add_free |\n",
       "| 189683069 | bitcoincabana.online     | 2021-06-15 | 2020-06-15 00:12:00 | H13973213 | ns1.sedoparking.com,ns2.sedoparking.com      | 1 | 2.4 | online | 0 | 2.4 | 0 | 0 | 1 | C1046-4592 | NA | 0 | 0 | 1 | 0 | 0.45 | 0.25 | joker.com       | Varun | Varun | NA | CSL | CSL | Germany | Germany | 2020-06-15 14:58:34 | NA | NA | 0 | NA | NA | NA | 0 | 0 | NA | NA | Not Assigned | Not Assigned | Not Assigned | NA | NA | NA | domain_bundle_click_to_add_free |\n",
       "| 189683094 | bitcoinautobahn.online   | 2021-06-15 | 2020-06-15 00:12:00 | H13973213 | ns1.sedoparking.com,ns2.sedoparking.com      | 1 | 2.4 | online | 0 | 2.4 | 0 | 0 | 1 | C1046-4596 | NA | 0 | 0 | 1 | 0 | 0.45 | 0.25 | joker.com       | Varun | Varun | NA | CSL | CSL | Germany | Germany | 2020-06-15 14:58:58 | NA | NA | 0 | NA | NA | NA | 0 | 0 | NA | NA | Not Assigned | Not Assigned | Not Assigned | NA | NA | NA | domain_bundle_click_to_add_free |\n",
       "| 189683054 | bitcoin24bank.online     | 2021-06-15 | 2020-06-15 00:12:00 | H13973213 | ns1.sedoparking.com,ns2.sedoparking.com      | 1 | 2.4 | online | 0 | 2.4 | 0 | 0 | 1 | C1046-4590 | NA | 0 | 0 | 1 | 0 | 0.45 | 0.25 | sedoparking.com | Varun | Varun | NA | CSL | CSL | Germany | Germany | 2020-06-15 14:58:22 | NA | NA | 0 | NA | NA | NA | 0 | 0 | NA | NA | Not Assigned | Not Assigned | Not Assigned | NA | NA | NA | domain_bundle_click_to_add_free |\n",
       "| 189683079 | bitcoinbank-24.online    | 2021-06-15 | 2020-06-15 00:12:00 | H13973213 | ns1.sedoparking.com,ns2.sedoparking.com      | 1 | 2.4 | online | 0 | 2.4 | 0 | 0 | 1 | C1046-4594 | NA | 0 | 0 | 1 | 0 | 0.45 | 0.25 | sedoparking.com | Varun | Varun | NA | CSL | CSL | Germany | Germany | 2020-06-15 14:58:46 | NA | NA | 0 | NA | NA | NA | 0 | 0 | NA | NA | Not Assigned | Not Assigned | Not Assigned | NA | NA | NA | domain_bundle_click_to_add_free |\n",
       "| 189683114 | 24bitcoin24.online       | 2021-06-15 | 2020-06-15 00:12:00 | H13973213 | ns1.sedoparking.com,ns2.sedoparking.com      | 1 | 2.4 | online | 0 | 2.4 | 0 | 0 | 1 | C1046-4598 | NA | 0 | 0 | 1 | 0 | 0.45 | 0.25 | joker.com       | Varun | Varun | NA | CSL | CSL | Germany | Germany | 2020-06-15 14:59:11 | NA | NA | 0 | NA | NA | NA | 0 | 0 | NA | NA | Not Assigned | Not Assigned | Not Assigned | NA | NA | NA | domain_bundle_click_to_add_free |\n",
       "| 189690964 | projetinox.online        | 2021-06-15 | 2020-06-15 00:12:00 | H13973213 | ns1.neo-e.com.br,ns2.neo-e.com.br            | 1 | 2.4 | online | 0 | 2.4 | 0 | 0 | 1 | CCEN-53763 | NA | 0 | 0 | 1 | 0 | 0.45 | 0.25 | neo-e.com.br    | Varun | Varun | NA | CSL | CSL | Germany | Germany | 2020-06-15 16:28:34 | NA | NA | 0 | NA | NA | NA | 0 | 0 | NA | NA | Not Assigned | Not Assigned | Not Assigned | NA | NA | NA | domain_bundle_click_to_add_free |\n",
       "| 189699224 | atm365bitcoin.online     | 2021-06-15 | 2020-06-15 00:12:00 | H13973213 | x.ns.joker.com,y.ns.joker.com,z.ns.joker.com | 1 | 2.4 | online | 0 | 2.4 | 0 | 0 | 1 | C1046-4600 | NA | 0 | 0 | 1 | 0 | 0.45 | 0.25 | joker.com       | Varun | Varun | NA | CSL | CSL | Germany | Germany | 2020-06-15 18:51:18 | NA | NA | 0 | NA | NA | NA | 0 | 0 | NA | NA | Not Assigned | Not Assigned | Not Assigned | NA | NA | NA | domain_bundle_click_to_add_free |\n",
       "\n"
      ],
      "text/plain": [
       "   domain_id domain                   expiry_date creation_date      \n",
       "1  189676949 hidinginplainsite.online 2021-06-15  2020-06-15 00:12:00\n",
       "2  189672829 bitcoinyt.online         2021-06-15  2020-06-15 00:12:00\n",
       "3  189683039 bitcoin24secure.online   2021-06-15  2020-06-15 00:12:00\n",
       "4  189683069 bitcoincabana.online     2021-06-15  2020-06-15 00:12:00\n",
       "5  189683094 bitcoinautobahn.online   2021-06-15  2020-06-15 00:12:00\n",
       "6  189683054 bitcoin24bank.online     2021-06-15  2020-06-15 00:12:00\n",
       "7  189683079 bitcoinbank-24.online    2021-06-15  2020-06-15 00:12:00\n",
       "8  189683114 24bitcoin24.online       2021-06-15  2020-06-15 00:12:00\n",
       "9  189690964 projetinox.online        2021-06-15  2020-06-15 00:12:00\n",
       "10 189699224 atm365bitcoin.online     2021-06-15  2020-06-15 00:12:00\n",
       "   registrar_userid ns                                           period amount\n",
       "1  H13973213        x.ns.joker.com,y.ns.joker.com,z.ns.joker.com 1      2.4   \n",
       "2  H13973213        x.ns.joker.com,y.ns.joker.com,z.ns.joker.com 1      2.4   \n",
       "3  H13973213        ns1.sedoparking.com,ns2.sedoparking.com      1      2.4   \n",
       "4  H13973213        ns1.sedoparking.com,ns2.sedoparking.com      1      2.4   \n",
       "5  H13973213        ns1.sedoparking.com,ns2.sedoparking.com      1      2.4   \n",
       "6  H13973213        ns1.sedoparking.com,ns2.sedoparking.com      1      2.4   \n",
       "7  H13973213        ns1.sedoparking.com,ns2.sedoparking.com      1      2.4   \n",
       "8  H13973213        ns1.sedoparking.com,ns2.sedoparking.com      1      2.4   \n",
       "9  H13973213        ns1.neo-e.com.br,ns2.neo-e.com.br            1      2.4   \n",
       "10 H13973213        x.ns.joker.com,y.ns.joker.com,z.ns.joker.com 1      2.4   \n",
       "   tld    usdamt rebate_given net_revenue zdns_cost manual_rebate registrantid\n",
       "1  online 0      2.4          0           0         1             CCEN-53744  \n",
       "2  online 0      2.4          0           0         1             C1046-4586  \n",
       "3  online 0      2.4          0           0         1             C1046-4588  \n",
       "4  online 0      2.4          0           0         1             C1046-4592  \n",
       "5  online 0      2.4          0           0         1             C1046-4596  \n",
       "6  online 0      2.4          0           0         1             C1046-4590  \n",
       "7  online 0      2.4          0           0         1             C1046-4594  \n",
       "8  online 0      2.4          0           0         1             C1046-4598  \n",
       "9  online 0      2.4          0           0         1             CCEN-53763  \n",
       "10 online 0      2.4          0           0         1             C1046-4600  \n",
       "   registrant_country comm mbg rebate centralnic_comm gross_centralnic_comm\n",
       "1  NA                 0    0   1      0               0.45                 \n",
       "2  NA                 0    0   1      0               0.45                 \n",
       "3  NA                 0    0   1      0               0.45                 \n",
       "4  NA                 0    0   1      0               0.45                 \n",
       "5  NA                 0    0   1      0               0.45                 \n",
       "6  NA                 0    0   1      0               0.45                 \n",
       "7  NA                 0    0   1      0               0.45                 \n",
       "8  NA                 0    0   1      0               0.45                 \n",
       "9  NA                 0    0   1      0               0.45                 \n",
       "10 NA                 0    0   1      0               0.45                 \n",
       "   icann_comm ns_company      client_am registrar_am deleted_date\n",
       "1  0.25       joker.com       Varun     Varun        NA          \n",
       "2  0.25       joker.com       Varun     Varun        NA          \n",
       "3  0.25       joker.com       Varun     Varun        NA          \n",
       "4  0.25       joker.com       Varun     Varun        NA          \n",
       "5  0.25       joker.com       Varun     Varun        NA          \n",
       "6  0.25       sedoparking.com Varun     Varun        NA          \n",
       "7  0.25       sedoparking.com Varun     Varun        NA          \n",
       "8  0.25       joker.com       Varun     Varun        NA          \n",
       "9  0.25       neo-e.com.br    Varun     Varun        NA          \n",
       "10 0.25       joker.com       Varun     Varun        NA          \n",
       "   registrar_shortname client_shortname registrar_country client_country\n",
       "1  CSL                 CSL              Germany           Germany       \n",
       "2  CSL                 CSL              Germany           Germany       \n",
       "3  CSL                 CSL              Germany           Germany       \n",
       "4  CSL                 CSL              Germany           Germany       \n",
       "5  CSL                 CSL              Germany           Germany       \n",
       "6  CSL                 CSL              Germany           Germany       \n",
       "7  CSL                 CSL              Germany           Germany       \n",
       "8  CSL                 CSL              Germany           Germany       \n",
       "9  CSL                 CSL              Germany           Germany       \n",
       "10 CSL                 CSL              Germany           Germany       \n",
       "   creationtime        r_row_id r_renew_date r_renewal_id r_period r_renew_type\n",
       "1  2020-06-15 14:12:27 NA       <NA>         0            NA       NA          \n",
       "2  2020-06-15 13:49:37 NA       <NA>         0            NA       NA          \n",
       "3  2020-06-15 14:58:10 NA       <NA>         0            NA       NA          \n",
       "4  2020-06-15 14:58:34 NA       <NA>         0            NA       NA          \n",
       "5  2020-06-15 14:58:58 NA       <NA>         0            NA       NA          \n",
       "6  2020-06-15 14:58:22 NA       <NA>         0            NA       NA          \n",
       "7  2020-06-15 14:58:46 NA       <NA>         0            NA       NA          \n",
       "8  2020-06-15 14:59:11 NA       <NA>         0            NA       NA          \n",
       "9  2020-06-15 16:28:34 NA       <NA>         0            NA       NA          \n",
       "10 2020-06-15 18:51:18 NA       <NA>         0            NA       NA          \n",
       "   r_autorenew_type r_net_revenue r_mbg r_centralnic_comm r_icann_comm\n",
       "1  NA               0             0     NA                NA          \n",
       "2  NA               0             0     NA                NA          \n",
       "3  NA               0             0     NA                NA          \n",
       "4  NA               0             0     NA                NA          \n",
       "5  NA               0             0     NA                NA          \n",
       "6  NA               0             0     NA                NA          \n",
       "7  NA               0             0     NA                NA          \n",
       "8  NA               0             0     NA                NA          \n",
       "9  NA               0             0     NA                NA          \n",
       "10 NA               0             0     NA                NA          \n",
       "   r_registrar_shortname r_client_shortname r_client_am  r_registrar_country\n",
       "1  Not Assigned          Not Assigned       Not Assigned NA                 \n",
       "2  Not Assigned          Not Assigned       Not Assigned NA                 \n",
       "3  Not Assigned          Not Assigned       Not Assigned NA                 \n",
       "4  Not Assigned          Not Assigned       Not Assigned NA                 \n",
       "5  Not Assigned          Not Assigned       Not Assigned NA                 \n",
       "6  Not Assigned          Not Assigned       Not Assigned NA                 \n",
       "7  Not Assigned          Not Assigned       Not Assigned NA                 \n",
       "8  Not Assigned          Not Assigned       Not Assigned NA                 \n",
       "9  Not Assigned          Not Assigned       Not Assigned NA                 \n",
       "10 Not Assigned          Not Assigned       Not Assigned NA                 \n",
       "   r_client_country r_registrar_am promo_tag                      \n",
       "1  NA               NA             domain_bundle_click_to_add_free\n",
       "2  NA               NA             domain_bundle_click_to_add_free\n",
       "3  NA               NA             domain_bundle_click_to_add_free\n",
       "4  NA               NA             domain_bundle_click_to_add_free\n",
       "5  NA               NA             domain_bundle_click_to_add_free\n",
       "6  NA               NA             domain_bundle_click_to_add_free\n",
       "7  NA               NA             domain_bundle_click_to_add_free\n",
       "8  NA               NA             domain_bundle_click_to_add_free\n",
       "9  NA               NA             domain_bundle_click_to_add_free\n",
       "10 NA               NA             domain_bundle_click_to_add_free"
      ]
     },
     "metadata": {},
     "output_type": "display_data"
    }
   ],
   "source": [
    "# sql <- \"select * from radixbi-249015.prediction_vendors.newreg limit 10;\"\n",
    "# newreg10_df <- bq_table_download(bq_project_query(projectid, sql))\n",
    "newreg10_df"
   ]
  },
  {
   "cell_type": "code",
   "execution_count": 11,
   "metadata": {},
   "outputs": [
    {
     "data": {
      "text/html": [
       "<table>\n",
       "<caption>A tibble: 10 × 58</caption>\n",
       "<thead>\n",
       "\t<tr><th scope=col>domain_id</th><th scope=col>domain</th><th scope=col>registrar_userid</th><th scope=col>ns</th><th scope=col>renew_date</th><th scope=col>renewal_id</th><th scope=col>period</th><th scope=col>renew_type</th><th scope=col>amount</th><th scope=col>usdamt</th><th scope=col>net_revenue</th><th scope=col>zdns_cost</th><th scope=col>manual_rebate</th><th scope=col>rebate_given</th><th scope=col>tld</th><th scope=col>registrantid</th><th scope=col>registrant_country</th><th scope=col>comm</th><th scope=col>autorenew_type</th><th scope=col>centralnic_comm</th><th scope=col>gross_centralnic_comm</th><th scope=col>icann_comm</th><th scope=col>transaction_expiry</th><th scope=col>expiry_status</th><th scope=col>cumulative_period</th><th scope=col>⋯</th><th scope=col>client_country</th><th scope=col>mbg</th><th scope=col>renewed_count</th><th scope=col>transfer</th><th scope=col>newreg_period</th><th scope=col>newreg_net_revenue</th><th scope=col>r_row_id</th><th scope=col>r_renew_date</th><th scope=col>r_renewal_id</th><th scope=col>r_period</th><th scope=col>r_renew_type</th><th scope=col>r_autorenew_type</th><th scope=col>r_net_revenue</th><th scope=col>r_mbg</th><th scope=col>r_centralnic_comm</th><th scope=col>r_icann_comm</th><th scope=col>r_registrar_shortname</th><th scope=col>r_client_shortname</th><th scope=col>r_client_am</th><th scope=col>r_registrar_country</th><th scope=col>r_client_country</th><th scope=col>r_registrar_am</th><th scope=col>sub_type</th><th scope=col>tier</th><th scope=col>promo_tag</th></tr>\n",
       "\t<tr><th scope=col>&lt;int&gt;</th><th scope=col>&lt;chr&gt;</th><th scope=col>&lt;chr&gt;</th><th scope=col>&lt;chr&gt;</th><th scope=col>&lt;dttm&gt;</th><th scope=col>&lt;int&gt;</th><th scope=col>&lt;int&gt;</th><th scope=col>&lt;chr&gt;</th><th scope=col>&lt;dbl&gt;</th><th scope=col>&lt;dbl&gt;</th><th scope=col>&lt;dbl&gt;</th><th scope=col>&lt;dbl&gt;</th><th scope=col>&lt;int&gt;</th><th scope=col>&lt;dbl&gt;</th><th scope=col>&lt;chr&gt;</th><th scope=col>&lt;chr&gt;</th><th scope=col>&lt;chr&gt;</th><th scope=col>&lt;dbl&gt;</th><th scope=col>&lt;chr&gt;</th><th scope=col>&lt;dbl&gt;</th><th scope=col>&lt;dbl&gt;</th><th scope=col>&lt;dbl&gt;</th><th scope=col>&lt;dttm&gt;</th><th scope=col>&lt;int&gt;</th><th scope=col>&lt;int&gt;</th><th scope=col>⋯</th><th scope=col>&lt;chr&gt;</th><th scope=col>&lt;int&gt;</th><th scope=col>&lt;int&gt;</th><th scope=col>&lt;int&gt;</th><th scope=col>&lt;int&gt;</th><th scope=col>&lt;dbl&gt;</th><th scope=col>&lt;chr&gt;</th><th scope=col>&lt;chr&gt;</th><th scope=col>&lt;int&gt;</th><th scope=col>&lt;chr&gt;</th><th scope=col>&lt;chr&gt;</th><th scope=col>&lt;chr&gt;</th><th scope=col>&lt;dbl&gt;</th><th scope=col>&lt;chr&gt;</th><th scope=col>&lt;chr&gt;</th><th scope=col>&lt;chr&gt;</th><th scope=col>&lt;chr&gt;</th><th scope=col>&lt;chr&gt;</th><th scope=col>&lt;chr&gt;</th><th scope=col>&lt;chr&gt;</th><th scope=col>&lt;chr&gt;</th><th scope=col>&lt;chr&gt;</th><th scope=col>&lt;chr&gt;</th><th scope=col>&lt;dbl&gt;</th><th scope=col>&lt;chr&gt;</th></tr>\n",
       "</thead>\n",
       "<tbody>\n",
       "\t<tr><td>16996772</td><td>smscr.pw           </td><td>H13973213</td><td>a.ns.joker.com,b.ns.joker.com,c.ns.joker.com         </td><td>2017-01-25 00:12:00</td><td>68719842</td><td>2</td><td>renewal</td><td>12</td><td>12</td><td>12</td><td>0</td><td>0</td><td>0</td><td>pw     </td><td>CCEN-9705     </td><td>NA</td><td>2.38</td><td>NA</td><td>1.80</td><td>1.80</td><td>0.50</td><td>2019-02-18</td><td>NA</td><td>2</td><td>⋯</td><td>Germany</td><td>0</td><td>1</td><td>0</td><td>1</td><td>1.50</td><td>7637135</td><td>2019-02-18</td><td>186268243</td><td>1</td><td>auto-renewal</td><td>unrealized</td><td>15</td><td>0</td><td>2.25</td><td>0.25</td><td>CSL</td><td>CSL</td><td>Chaitanya</td><td>Germany</td><td>Germany</td><td>Chaitanya</td><td>FirstTime </td><td>NA</td><td></td></tr>\n",
       "\t<tr><td>17655965</td><td>essens.pw          </td><td>H13973213</td><td>ns1.regzone.cz,ns1.regzone.de,ns1.regzone.info       </td><td>2017-01-25 00:12:00</td><td>68723966</td><td>1</td><td>renewal</td><td> 6</td><td> 6</td><td> 6</td><td>0</td><td>0</td><td>0</td><td>pw     </td><td>CCEN-9725     </td><td>NA</td><td>1.19</td><td>NA</td><td>0.90</td><td>0.90</td><td>0.25</td><td>2018-02-23</td><td>NA</td><td>1</td><td>⋯</td><td>Germany</td><td>0</td><td>1</td><td>0</td><td>1</td><td>1.50</td><td>5152577</td><td>2018-01-25</td><td>130321448</td><td>1</td><td>renewal     </td><td>NA        </td><td> 4</td><td>0</td><td>0.6 </td><td>0.25</td><td>CSL</td><td>CSL</td><td>Varun    </td><td>Germany</td><td>Germany</td><td>Varun    </td><td>FirstTime </td><td>NA</td><td></td></tr>\n",
       "\t<tr><td> 6808738</td><td>dev01.website      </td><td>H13973213</td><td>dns1.registrar-servers.com,dns2.registrar-servers.com</td><td>2017-01-25 00:12:00</td><td>68771824</td><td>1</td><td>renewal</td><td>15</td><td>15</td><td>15</td><td>0</td><td>0</td><td>0</td><td>website</td><td>CCEN-18233    </td><td>NA</td><td>0.60</td><td>NA</td><td>0.45</td><td>0.45</td><td>0.25</td><td>2019-01-19</td><td>NA</td><td>3</td><td>⋯</td><td>Germany</td><td>0</td><td>3</td><td>1</td><td>1</td><td>3.50</td><td>7085734</td><td>2018-11-25</td><td>171973312</td><td>1</td><td>renewal     </td><td>NA        </td><td>10</td><td>0</td><td>0.45</td><td>0.25</td><td>CSL</td><td>CSL</td><td>Chaitanya</td><td>Germany</td><td>Germany</td><td>Chaitanya</td><td>Subsequent</td><td>10</td><td></td></tr>\n",
       "\t<tr><td> 6935192</td><td>xn--5xs7dw34bbtp.pw</td><td>H1605993 </td><td>ns.futoka.jp,ns2.futoka.jp                           </td><td>2017-01-25 00:12:00</td><td>68786096</td><td>1</td><td>renewal</td><td> 6</td><td> 6</td><td> 6</td><td>0</td><td>0</td><td>0</td><td>pw     </td><td>9E0E291F8441BB</td><td>NA</td><td>1.19</td><td>NA</td><td>0.90</td><td>0.90</td><td>0.25</td><td>2018-02-10</td><td>NA</td><td>2</td><td>⋯</td><td>Japan  </td><td>0</td><td>2</td><td>0</td><td>1</td><td>0.80</td><td>5153019</td><td>2018-01-25</td><td>130353523</td><td>1</td><td>renewal     </td><td>NA        </td><td> 6</td><td>0</td><td>0.9 </td><td>0.25</td><td>GMO</td><td>GMO</td><td>Divya    </td><td>Japan  </td><td>Japan  </td><td>Divya    </td><td>Subsequent</td><td> 6</td><td></td></tr>\n",
       "\t<tr><td>17651750</td><td>yamaga.site        </td><td>H1605993 </td><td>ns1.dns.ne.jp,ns2.dns.ne.jp                          </td><td>2017-01-25 00:12:00</td><td>68727877</td><td>1</td><td>renewal</td><td>20</td><td>20</td><td>20</td><td>0</td><td>0</td><td>0</td><td>site   </td><td>21E358543941B </td><td>NA</td><td>0.75</td><td>NA</td><td>0.45</td><td>0.45</td><td>0.25</td><td>2018-02-23</td><td>NA</td><td>1</td><td>⋯</td><td>Japan  </td><td>0</td><td>1</td><td>0</td><td>1</td><td>0.50</td><td>5325095</td><td>2018-02-20</td><td>133672367</td><td>1</td><td>renewal     </td><td>NA        </td><td>20</td><td>0</td><td>0.45</td><td>0.25</td><td>GMO</td><td>GMO</td><td>Divya    </td><td>Japan  </td><td>Japan  </td><td>Divya    </td><td>FirstTime </td><td>NA</td><td></td></tr>\n",
       "\t<tr><td> 7052329</td><td>ematerials.space   </td><td>H1605993 </td><td>ns1.dns.ne.jp,ns2.dns.ne.jp                          </td><td>2017-01-25 00:12:00</td><td>68793336</td><td>1</td><td>renewal</td><td> 6</td><td> 6</td><td> 6</td><td>0</td><td>0</td><td>0</td><td>space  </td><td>A26A6462524E44</td><td>NA</td><td>0.60</td><td>NA</td><td>0.45</td><td>0.45</td><td>0.25</td><td>2018-02-24</td><td>NA</td><td>2</td><td>⋯</td><td>Japan  </td><td>0</td><td>2</td><td>0</td><td>1</td><td>0.90</td><td>5153210</td><td>2018-01-25</td><td>130366458</td><td>1</td><td>renewal     </td><td>NA        </td><td> 6</td><td>0</td><td>0.45</td><td>0.25</td><td>GMO</td><td>GMO</td><td>Divya    </td><td>Japan  </td><td>Japan  </td><td>Divya    </td><td>Subsequent</td><td> 6</td><td></td></tr>\n",
       "\t<tr><td>15897461</td><td>kono.site          </td><td>H1605993 </td><td>ns1.kono.asia,ns2.kono.asia                          </td><td>2017-01-25 00:12:00</td><td>68794067</td><td>1</td><td>renewal</td><td>20</td><td>20</td><td>20</td><td>0</td><td>0</td><td>0</td><td>site   </td><td>7BCFAFDAC3D78 </td><td>NA</td><td>0.75</td><td>NA</td><td>0.45</td><td>0.45</td><td>0.25</td><td>2018-02-11</td><td>NA</td><td>1</td><td>⋯</td><td>Japan  </td><td>0</td><td>1</td><td>0</td><td>1</td><td>0.50</td><td>5170189</td><td>2018-01-26</td><td>130514968</td><td>1</td><td>renewal     </td><td>NA        </td><td>20</td><td>0</td><td>0.45</td><td>0.25</td><td>GMO</td><td>GMO</td><td>Divya    </td><td>Japan  </td><td>Japan  </td><td>Divya    </td><td>FirstTime </td><td>NA</td><td></td></tr>\n",
       "\t<tr><td>16903798</td><td>nail-radiant.space </td><td>H1605993 </td><td>ns0.wixdns.net,ns1.wixdns.net                        </td><td>2017-01-25 00:12:00</td><td>68719323</td><td>1</td><td>renewal</td><td> 6</td><td> 6</td><td> 6</td><td>0</td><td>0</td><td>0</td><td>space  </td><td>A08419E53A5B  </td><td>NA</td><td>0.60</td><td>NA</td><td>0.45</td><td>0.45</td><td>0.25</td><td>2018-02-18</td><td>NA</td><td>1</td><td>⋯</td><td>Japan  </td><td>0</td><td>1</td><td>0</td><td>1</td><td>0.83</td><td>5250171</td><td>2018-02-04</td><td>131647918</td><td>1</td><td>renewal     </td><td>NA        </td><td> 6</td><td>0</td><td>0.45</td><td>0.25</td><td>GMO</td><td>GMO</td><td>Divya    </td><td>Japan  </td><td>Japan  </td><td>Divya    </td><td>FirstTime </td><td>NA</td><td></td></tr>\n",
       "\t<tr><td>15875588</td><td>manekineko.site    </td><td>H1605993 </td><td>ns1.xserver.jp,ns2.xserver.jp                        </td><td>2017-01-25 00:12:00</td><td>68784666</td><td>1</td><td>renewal</td><td>20</td><td>20</td><td>20</td><td>0</td><td>0</td><td>0</td><td>site   </td><td>7A077B7C7523A </td><td>NA</td><td>0.75</td><td>NA</td><td>0.45</td><td>0.45</td><td>0.25</td><td>2018-02-10</td><td>NA</td><td>1</td><td>⋯</td><td>Japan  </td><td>0</td><td>1</td><td>0</td><td>1</td><td>0.50</td><td>5153001</td><td>2018-01-25</td><td>130353023</td><td>1</td><td>renewal     </td><td>NA        </td><td>20</td><td>0</td><td>0.45</td><td>0.25</td><td>GMO</td><td>GMO</td><td>Divya    </td><td>Japan  </td><td>Japan  </td><td>Divya    </td><td>FirstTime </td><td>NA</td><td></td></tr>\n",
       "\t<tr><td>18059527</td><td>xn--9ckk0f4c.pw    </td><td>H1605993 </td><td>ns1.xserver.jp,ns5.xserver.jp                        </td><td>2017-01-25 00:12:00</td><td>68793497</td><td>1</td><td>renewal</td><td> 6</td><td> 6</td><td> 6</td><td>0</td><td>0</td><td>0</td><td>pw     </td><td>65B7FE47EBB91 </td><td>NA</td><td>1.19</td><td>NA</td><td>0.90</td><td>0.90</td><td>0.25</td><td>2018-02-25</td><td>NA</td><td>1</td><td>⋯</td><td>Japan  </td><td>0</td><td>1</td><td>0</td><td>1</td><td>1.50</td><td>5153223</td><td>2018-01-25</td><td>130367093</td><td>1</td><td>renewal     </td><td>NA        </td><td> 6</td><td>0</td><td>0.9 </td><td>0.25</td><td>GMO</td><td>GMO</td><td>Divya    </td><td>Japan  </td><td>Japan  </td><td>Divya    </td><td>FirstTime </td><td>NA</td><td></td></tr>\n",
       "</tbody>\n",
       "</table>\n"
      ],
      "text/latex": [
       "A tibble: 10 × 58\n",
       "\\begin{tabular}{lllllllllllllllllllllllllllllllllllllllllllllllllll}\n",
       " domain\\_id & domain & registrar\\_userid & ns & renew\\_date & renewal\\_id & period & renew\\_type & amount & usdamt & net\\_revenue & zdns\\_cost & manual\\_rebate & rebate\\_given & tld & registrantid & registrant\\_country & comm & autorenew\\_type & centralnic\\_comm & gross\\_centralnic\\_comm & icann\\_comm & transaction\\_expiry & expiry\\_status & cumulative\\_period & ⋯ & client\\_country & mbg & renewed\\_count & transfer & newreg\\_period & newreg\\_net\\_revenue & r\\_row\\_id & r\\_renew\\_date & r\\_renewal\\_id & r\\_period & r\\_renew\\_type & r\\_autorenew\\_type & r\\_net\\_revenue & r\\_mbg & r\\_centralnic\\_comm & r\\_icann\\_comm & r\\_registrar\\_shortname & r\\_client\\_shortname & r\\_client\\_am & r\\_registrar\\_country & r\\_client\\_country & r\\_registrar\\_am & sub\\_type & tier & promo\\_tag\\\\\n",
       " <int> & <chr> & <chr> & <chr> & <dttm> & <int> & <int> & <chr> & <dbl> & <dbl> & <dbl> & <dbl> & <int> & <dbl> & <chr> & <chr> & <chr> & <dbl> & <chr> & <dbl> & <dbl> & <dbl> & <dttm> & <int> & <int> & ⋯ & <chr> & <int> & <int> & <int> & <int> & <dbl> & <chr> & <chr> & <int> & <chr> & <chr> & <chr> & <dbl> & <chr> & <chr> & <chr> & <chr> & <chr> & <chr> & <chr> & <chr> & <chr> & <chr> & <dbl> & <chr>\\\\\n",
       "\\hline\n",
       "\t 16996772 & smscr.pw            & H13973213 & a.ns.joker.com,b.ns.joker.com,c.ns.joker.com          & 2017-01-25 00:12:00 & 68719842 & 2 & renewal & 12 & 12 & 12 & 0 & 0 & 0 & pw      & CCEN-9705      & NA & 2.38 & NA & 1.80 & 1.80 & 0.50 & 2019-02-18 & NA & 2 & ⋯ & Germany & 0 & 1 & 0 & 1 & 1.50 & 7637135 & 2019-02-18 & 186268243 & 1 & auto-renewal & unrealized & 15 & 0 & 2.25 & 0.25 & CSL & CSL & Chaitanya & Germany & Germany & Chaitanya & FirstTime  & NA & \\\\\n",
       "\t 17655965 & essens.pw           & H13973213 & ns1.regzone.cz,ns1.regzone.de,ns1.regzone.info        & 2017-01-25 00:12:00 & 68723966 & 1 & renewal &  6 &  6 &  6 & 0 & 0 & 0 & pw      & CCEN-9725      & NA & 1.19 & NA & 0.90 & 0.90 & 0.25 & 2018-02-23 & NA & 1 & ⋯ & Germany & 0 & 1 & 0 & 1 & 1.50 & 5152577 & 2018-01-25 & 130321448 & 1 & renewal      & NA         &  4 & 0 & 0.6  & 0.25 & CSL & CSL & Varun     & Germany & Germany & Varun     & FirstTime  & NA & \\\\\n",
       "\t  6808738 & dev01.website       & H13973213 & dns1.registrar-servers.com,dns2.registrar-servers.com & 2017-01-25 00:12:00 & 68771824 & 1 & renewal & 15 & 15 & 15 & 0 & 0 & 0 & website & CCEN-18233     & NA & 0.60 & NA & 0.45 & 0.45 & 0.25 & 2019-01-19 & NA & 3 & ⋯ & Germany & 0 & 3 & 1 & 1 & 3.50 & 7085734 & 2018-11-25 & 171973312 & 1 & renewal      & NA         & 10 & 0 & 0.45 & 0.25 & CSL & CSL & Chaitanya & Germany & Germany & Chaitanya & Subsequent & 10 & \\\\\n",
       "\t  6935192 & xn--5xs7dw34bbtp.pw & H1605993  & ns.futoka.jp,ns2.futoka.jp                            & 2017-01-25 00:12:00 & 68786096 & 1 & renewal &  6 &  6 &  6 & 0 & 0 & 0 & pw      & 9E0E291F8441BB & NA & 1.19 & NA & 0.90 & 0.90 & 0.25 & 2018-02-10 & NA & 2 & ⋯ & Japan   & 0 & 2 & 0 & 1 & 0.80 & 5153019 & 2018-01-25 & 130353523 & 1 & renewal      & NA         &  6 & 0 & 0.9  & 0.25 & GMO & GMO & Divya     & Japan   & Japan   & Divya     & Subsequent &  6 & \\\\\n",
       "\t 17651750 & yamaga.site         & H1605993  & ns1.dns.ne.jp,ns2.dns.ne.jp                           & 2017-01-25 00:12:00 & 68727877 & 1 & renewal & 20 & 20 & 20 & 0 & 0 & 0 & site    & 21E358543941B  & NA & 0.75 & NA & 0.45 & 0.45 & 0.25 & 2018-02-23 & NA & 1 & ⋯ & Japan   & 0 & 1 & 0 & 1 & 0.50 & 5325095 & 2018-02-20 & 133672367 & 1 & renewal      & NA         & 20 & 0 & 0.45 & 0.25 & GMO & GMO & Divya     & Japan   & Japan   & Divya     & FirstTime  & NA & \\\\\n",
       "\t  7052329 & ematerials.space    & H1605993  & ns1.dns.ne.jp,ns2.dns.ne.jp                           & 2017-01-25 00:12:00 & 68793336 & 1 & renewal &  6 &  6 &  6 & 0 & 0 & 0 & space   & A26A6462524E44 & NA & 0.60 & NA & 0.45 & 0.45 & 0.25 & 2018-02-24 & NA & 2 & ⋯ & Japan   & 0 & 2 & 0 & 1 & 0.90 & 5153210 & 2018-01-25 & 130366458 & 1 & renewal      & NA         &  6 & 0 & 0.45 & 0.25 & GMO & GMO & Divya     & Japan   & Japan   & Divya     & Subsequent &  6 & \\\\\n",
       "\t 15897461 & kono.site           & H1605993  & ns1.kono.asia,ns2.kono.asia                           & 2017-01-25 00:12:00 & 68794067 & 1 & renewal & 20 & 20 & 20 & 0 & 0 & 0 & site    & 7BCFAFDAC3D78  & NA & 0.75 & NA & 0.45 & 0.45 & 0.25 & 2018-02-11 & NA & 1 & ⋯ & Japan   & 0 & 1 & 0 & 1 & 0.50 & 5170189 & 2018-01-26 & 130514968 & 1 & renewal      & NA         & 20 & 0 & 0.45 & 0.25 & GMO & GMO & Divya     & Japan   & Japan   & Divya     & FirstTime  & NA & \\\\\n",
       "\t 16903798 & nail-radiant.space  & H1605993  & ns0.wixdns.net,ns1.wixdns.net                         & 2017-01-25 00:12:00 & 68719323 & 1 & renewal &  6 &  6 &  6 & 0 & 0 & 0 & space   & A08419E53A5B   & NA & 0.60 & NA & 0.45 & 0.45 & 0.25 & 2018-02-18 & NA & 1 & ⋯ & Japan   & 0 & 1 & 0 & 1 & 0.83 & 5250171 & 2018-02-04 & 131647918 & 1 & renewal      & NA         &  6 & 0 & 0.45 & 0.25 & GMO & GMO & Divya     & Japan   & Japan   & Divya     & FirstTime  & NA & \\\\\n",
       "\t 15875588 & manekineko.site     & H1605993  & ns1.xserver.jp,ns2.xserver.jp                         & 2017-01-25 00:12:00 & 68784666 & 1 & renewal & 20 & 20 & 20 & 0 & 0 & 0 & site    & 7A077B7C7523A  & NA & 0.75 & NA & 0.45 & 0.45 & 0.25 & 2018-02-10 & NA & 1 & ⋯ & Japan   & 0 & 1 & 0 & 1 & 0.50 & 5153001 & 2018-01-25 & 130353023 & 1 & renewal      & NA         & 20 & 0 & 0.45 & 0.25 & GMO & GMO & Divya     & Japan   & Japan   & Divya     & FirstTime  & NA & \\\\\n",
       "\t 18059527 & xn--9ckk0f4c.pw     & H1605993  & ns1.xserver.jp,ns5.xserver.jp                         & 2017-01-25 00:12:00 & 68793497 & 1 & renewal &  6 &  6 &  6 & 0 & 0 & 0 & pw      & 65B7FE47EBB91  & NA & 1.19 & NA & 0.90 & 0.90 & 0.25 & 2018-02-25 & NA & 1 & ⋯ & Japan   & 0 & 1 & 0 & 1 & 1.50 & 5153223 & 2018-01-25 & 130367093 & 1 & renewal      & NA         &  6 & 0 & 0.9  & 0.25 & GMO & GMO & Divya     & Japan   & Japan   & Divya     & FirstTime  & NA & \\\\\n",
       "\\end{tabular}\n"
      ],
      "text/markdown": [
       "\n",
       "A tibble: 10 × 58\n",
       "\n",
       "| domain_id &lt;int&gt; | domain &lt;chr&gt; | registrar_userid &lt;chr&gt; | ns &lt;chr&gt; | renew_date &lt;dttm&gt; | renewal_id &lt;int&gt; | period &lt;int&gt; | renew_type &lt;chr&gt; | amount &lt;dbl&gt; | usdamt &lt;dbl&gt; | net_revenue &lt;dbl&gt; | zdns_cost &lt;dbl&gt; | manual_rebate &lt;int&gt; | rebate_given &lt;dbl&gt; | tld &lt;chr&gt; | registrantid &lt;chr&gt; | registrant_country &lt;chr&gt; | comm &lt;dbl&gt; | autorenew_type &lt;chr&gt; | centralnic_comm &lt;dbl&gt; | gross_centralnic_comm &lt;dbl&gt; | icann_comm &lt;dbl&gt; | transaction_expiry &lt;dttm&gt; | expiry_status &lt;int&gt; | cumulative_period &lt;int&gt; | ⋯ ⋯ | client_country &lt;chr&gt; | mbg &lt;int&gt; | renewed_count &lt;int&gt; | transfer &lt;int&gt; | newreg_period &lt;int&gt; | newreg_net_revenue &lt;dbl&gt; | r_row_id &lt;chr&gt; | r_renew_date &lt;chr&gt; | r_renewal_id &lt;int&gt; | r_period &lt;chr&gt; | r_renew_type &lt;chr&gt; | r_autorenew_type &lt;chr&gt; | r_net_revenue &lt;dbl&gt; | r_mbg &lt;chr&gt; | r_centralnic_comm &lt;chr&gt; | r_icann_comm &lt;chr&gt; | r_registrar_shortname &lt;chr&gt; | r_client_shortname &lt;chr&gt; | r_client_am &lt;chr&gt; | r_registrar_country &lt;chr&gt; | r_client_country &lt;chr&gt; | r_registrar_am &lt;chr&gt; | sub_type &lt;chr&gt; | tier &lt;dbl&gt; | promo_tag &lt;chr&gt; |\n",
       "|---|---|---|---|---|---|---|---|---|---|---|---|---|---|---|---|---|---|---|---|---|---|---|---|---|---|---|---|---|---|---|---|---|---|---|---|---|---|---|---|---|---|---|---|---|---|---|---|---|---|---|\n",
       "| 16996772 | smscr.pw            | H13973213 | a.ns.joker.com,b.ns.joker.com,c.ns.joker.com          | 2017-01-25 00:12:00 | 68719842 | 2 | renewal | 12 | 12 | 12 | 0 | 0 | 0 | pw      | CCEN-9705      | NA | 2.38 | NA | 1.80 | 1.80 | 0.50 | 2019-02-18 | NA | 2 | ⋯ | Germany | 0 | 1 | 0 | 1 | 1.50 | 7637135 | 2019-02-18 | 186268243 | 1 | auto-renewal | unrealized | 15 | 0 | 2.25 | 0.25 | CSL | CSL | Chaitanya | Germany | Germany | Chaitanya | FirstTime  | NA | <!----> |\n",
       "| 17655965 | essens.pw           | H13973213 | ns1.regzone.cz,ns1.regzone.de,ns1.regzone.info        | 2017-01-25 00:12:00 | 68723966 | 1 | renewal |  6 |  6 |  6 | 0 | 0 | 0 | pw      | CCEN-9725      | NA | 1.19 | NA | 0.90 | 0.90 | 0.25 | 2018-02-23 | NA | 1 | ⋯ | Germany | 0 | 1 | 0 | 1 | 1.50 | 5152577 | 2018-01-25 | 130321448 | 1 | renewal      | NA         |  4 | 0 | 0.6  | 0.25 | CSL | CSL | Varun     | Germany | Germany | Varun     | FirstTime  | NA | <!----> |\n",
       "|  6808738 | dev01.website       | H13973213 | dns1.registrar-servers.com,dns2.registrar-servers.com | 2017-01-25 00:12:00 | 68771824 | 1 | renewal | 15 | 15 | 15 | 0 | 0 | 0 | website | CCEN-18233     | NA | 0.60 | NA | 0.45 | 0.45 | 0.25 | 2019-01-19 | NA | 3 | ⋯ | Germany | 0 | 3 | 1 | 1 | 3.50 | 7085734 | 2018-11-25 | 171973312 | 1 | renewal      | NA         | 10 | 0 | 0.45 | 0.25 | CSL | CSL | Chaitanya | Germany | Germany | Chaitanya | Subsequent | 10 | <!----> |\n",
       "|  6935192 | xn--5xs7dw34bbtp.pw | H1605993  | ns.futoka.jp,ns2.futoka.jp                            | 2017-01-25 00:12:00 | 68786096 | 1 | renewal |  6 |  6 |  6 | 0 | 0 | 0 | pw      | 9E0E291F8441BB | NA | 1.19 | NA | 0.90 | 0.90 | 0.25 | 2018-02-10 | NA | 2 | ⋯ | Japan   | 0 | 2 | 0 | 1 | 0.80 | 5153019 | 2018-01-25 | 130353523 | 1 | renewal      | NA         |  6 | 0 | 0.9  | 0.25 | GMO | GMO | Divya     | Japan   | Japan   | Divya     | Subsequent |  6 | <!----> |\n",
       "| 17651750 | yamaga.site         | H1605993  | ns1.dns.ne.jp,ns2.dns.ne.jp                           | 2017-01-25 00:12:00 | 68727877 | 1 | renewal | 20 | 20 | 20 | 0 | 0 | 0 | site    | 21E358543941B  | NA | 0.75 | NA | 0.45 | 0.45 | 0.25 | 2018-02-23 | NA | 1 | ⋯ | Japan   | 0 | 1 | 0 | 1 | 0.50 | 5325095 | 2018-02-20 | 133672367 | 1 | renewal      | NA         | 20 | 0 | 0.45 | 0.25 | GMO | GMO | Divya     | Japan   | Japan   | Divya     | FirstTime  | NA | <!----> |\n",
       "|  7052329 | ematerials.space    | H1605993  | ns1.dns.ne.jp,ns2.dns.ne.jp                           | 2017-01-25 00:12:00 | 68793336 | 1 | renewal |  6 |  6 |  6 | 0 | 0 | 0 | space   | A26A6462524E44 | NA | 0.60 | NA | 0.45 | 0.45 | 0.25 | 2018-02-24 | NA | 2 | ⋯ | Japan   | 0 | 2 | 0 | 1 | 0.90 | 5153210 | 2018-01-25 | 130366458 | 1 | renewal      | NA         |  6 | 0 | 0.45 | 0.25 | GMO | GMO | Divya     | Japan   | Japan   | Divya     | Subsequent |  6 | <!----> |\n",
       "| 15897461 | kono.site           | H1605993  | ns1.kono.asia,ns2.kono.asia                           | 2017-01-25 00:12:00 | 68794067 | 1 | renewal | 20 | 20 | 20 | 0 | 0 | 0 | site    | 7BCFAFDAC3D78  | NA | 0.75 | NA | 0.45 | 0.45 | 0.25 | 2018-02-11 | NA | 1 | ⋯ | Japan   | 0 | 1 | 0 | 1 | 0.50 | 5170189 | 2018-01-26 | 130514968 | 1 | renewal      | NA         | 20 | 0 | 0.45 | 0.25 | GMO | GMO | Divya     | Japan   | Japan   | Divya     | FirstTime  | NA | <!----> |\n",
       "| 16903798 | nail-radiant.space  | H1605993  | ns0.wixdns.net,ns1.wixdns.net                         | 2017-01-25 00:12:00 | 68719323 | 1 | renewal |  6 |  6 |  6 | 0 | 0 | 0 | space   | A08419E53A5B   | NA | 0.60 | NA | 0.45 | 0.45 | 0.25 | 2018-02-18 | NA | 1 | ⋯ | Japan   | 0 | 1 | 0 | 1 | 0.83 | 5250171 | 2018-02-04 | 131647918 | 1 | renewal      | NA         |  6 | 0 | 0.45 | 0.25 | GMO | GMO | Divya     | Japan   | Japan   | Divya     | FirstTime  | NA | <!----> |\n",
       "| 15875588 | manekineko.site     | H1605993  | ns1.xserver.jp,ns2.xserver.jp                         | 2017-01-25 00:12:00 | 68784666 | 1 | renewal | 20 | 20 | 20 | 0 | 0 | 0 | site    | 7A077B7C7523A  | NA | 0.75 | NA | 0.45 | 0.45 | 0.25 | 2018-02-10 | NA | 1 | ⋯ | Japan   | 0 | 1 | 0 | 1 | 0.50 | 5153001 | 2018-01-25 | 130353023 | 1 | renewal      | NA         | 20 | 0 | 0.45 | 0.25 | GMO | GMO | Divya     | Japan   | Japan   | Divya     | FirstTime  | NA | <!----> |\n",
       "| 18059527 | xn--9ckk0f4c.pw     | H1605993  | ns1.xserver.jp,ns5.xserver.jp                         | 2017-01-25 00:12:00 | 68793497 | 1 | renewal |  6 |  6 |  6 | 0 | 0 | 0 | pw      | 65B7FE47EBB91  | NA | 1.19 | NA | 0.90 | 0.90 | 0.25 | 2018-02-25 | NA | 1 | ⋯ | Japan   | 0 | 1 | 0 | 1 | 1.50 | 5153223 | 2018-01-25 | 130367093 | 1 | renewal      | NA         |  6 | 0 | 0.9  | 0.25 | GMO | GMO | Divya     | Japan   | Japan   | Divya     | FirstTime  | NA | <!----> |\n",
       "\n"
      ],
      "text/plain": [
       "   domain_id domain              registrar_userid\n",
       "1  16996772  smscr.pw            H13973213       \n",
       "2  17655965  essens.pw           H13973213       \n",
       "3   6808738  dev01.website       H13973213       \n",
       "4   6935192  xn--5xs7dw34bbtp.pw H1605993        \n",
       "5  17651750  yamaga.site         H1605993        \n",
       "6   7052329  ematerials.space    H1605993        \n",
       "7  15897461  kono.site           H1605993        \n",
       "8  16903798  nail-radiant.space  H1605993        \n",
       "9  15875588  manekineko.site     H1605993        \n",
       "10 18059527  xn--9ckk0f4c.pw     H1605993        \n",
       "   ns                                                    renew_date         \n",
       "1  a.ns.joker.com,b.ns.joker.com,c.ns.joker.com          2017-01-25 00:12:00\n",
       "2  ns1.regzone.cz,ns1.regzone.de,ns1.regzone.info        2017-01-25 00:12:00\n",
       "3  dns1.registrar-servers.com,dns2.registrar-servers.com 2017-01-25 00:12:00\n",
       "4  ns.futoka.jp,ns2.futoka.jp                            2017-01-25 00:12:00\n",
       "5  ns1.dns.ne.jp,ns2.dns.ne.jp                           2017-01-25 00:12:00\n",
       "6  ns1.dns.ne.jp,ns2.dns.ne.jp                           2017-01-25 00:12:00\n",
       "7  ns1.kono.asia,ns2.kono.asia                           2017-01-25 00:12:00\n",
       "8  ns0.wixdns.net,ns1.wixdns.net                         2017-01-25 00:12:00\n",
       "9  ns1.xserver.jp,ns2.xserver.jp                         2017-01-25 00:12:00\n",
       "10 ns1.xserver.jp,ns5.xserver.jp                         2017-01-25 00:12:00\n",
       "   renewal_id period renew_type amount usdamt net_revenue zdns_cost\n",
       "1  68719842   2      renewal    12     12     12          0        \n",
       "2  68723966   1      renewal     6      6      6          0        \n",
       "3  68771824   1      renewal    15     15     15          0        \n",
       "4  68786096   1      renewal     6      6      6          0        \n",
       "5  68727877   1      renewal    20     20     20          0        \n",
       "6  68793336   1      renewal     6      6      6          0        \n",
       "7  68794067   1      renewal    20     20     20          0        \n",
       "8  68719323   1      renewal     6      6      6          0        \n",
       "9  68784666   1      renewal    20     20     20          0        \n",
       "10 68793497   1      renewal     6      6      6          0        \n",
       "   manual_rebate rebate_given tld     registrantid   registrant_country comm\n",
       "1  0             0            pw      CCEN-9705      NA                 2.38\n",
       "2  0             0            pw      CCEN-9725      NA                 1.19\n",
       "3  0             0            website CCEN-18233     NA                 0.60\n",
       "4  0             0            pw      9E0E291F8441BB NA                 1.19\n",
       "5  0             0            site    21E358543941B  NA                 0.75\n",
       "6  0             0            space   A26A6462524E44 NA                 0.60\n",
       "7  0             0            site    7BCFAFDAC3D78  NA                 0.75\n",
       "8  0             0            space   A08419E53A5B   NA                 0.60\n",
       "9  0             0            site    7A077B7C7523A  NA                 0.75\n",
       "10 0             0            pw      65B7FE47EBB91  NA                 1.19\n",
       "   autorenew_type centralnic_comm gross_centralnic_comm icann_comm\n",
       "1  NA             1.80            1.80                  0.50      \n",
       "2  NA             0.90            0.90                  0.25      \n",
       "3  NA             0.45            0.45                  0.25      \n",
       "4  NA             0.90            0.90                  0.25      \n",
       "5  NA             0.45            0.45                  0.25      \n",
       "6  NA             0.45            0.45                  0.25      \n",
       "7  NA             0.45            0.45                  0.25      \n",
       "8  NA             0.45            0.45                  0.25      \n",
       "9  NA             0.45            0.45                  0.25      \n",
       "10 NA             0.90            0.90                  0.25      \n",
       "   transaction_expiry expiry_status cumulative_period ⋯ client_country mbg\n",
       "1  2019-02-18         NA            2                 ⋯ Germany        0  \n",
       "2  2018-02-23         NA            1                 ⋯ Germany        0  \n",
       "3  2019-01-19         NA            3                 ⋯ Germany        0  \n",
       "4  2018-02-10         NA            2                 ⋯ Japan          0  \n",
       "5  2018-02-23         NA            1                 ⋯ Japan          0  \n",
       "6  2018-02-24         NA            2                 ⋯ Japan          0  \n",
       "7  2018-02-11         NA            1                 ⋯ Japan          0  \n",
       "8  2018-02-18         NA            1                 ⋯ Japan          0  \n",
       "9  2018-02-10         NA            1                 ⋯ Japan          0  \n",
       "10 2018-02-25         NA            1                 ⋯ Japan          0  \n",
       "   renewed_count transfer newreg_period newreg_net_revenue r_row_id\n",
       "1  1             0        1             1.50               7637135 \n",
       "2  1             0        1             1.50               5152577 \n",
       "3  3             1        1             3.50               7085734 \n",
       "4  2             0        1             0.80               5153019 \n",
       "5  1             0        1             0.50               5325095 \n",
       "6  2             0        1             0.90               5153210 \n",
       "7  1             0        1             0.50               5170189 \n",
       "8  1             0        1             0.83               5250171 \n",
       "9  1             0        1             0.50               5153001 \n",
       "10 1             0        1             1.50               5153223 \n",
       "   r_renew_date r_renewal_id r_period r_renew_type r_autorenew_type\n",
       "1  2019-02-18   186268243    1        auto-renewal unrealized      \n",
       "2  2018-01-25   130321448    1        renewal      NA              \n",
       "3  2018-11-25   171973312    1        renewal      NA              \n",
       "4  2018-01-25   130353523    1        renewal      NA              \n",
       "5  2018-02-20   133672367    1        renewal      NA              \n",
       "6  2018-01-25   130366458    1        renewal      NA              \n",
       "7  2018-01-26   130514968    1        renewal      NA              \n",
       "8  2018-02-04   131647918    1        renewal      NA              \n",
       "9  2018-01-25   130353023    1        renewal      NA              \n",
       "10 2018-01-25   130367093    1        renewal      NA              \n",
       "   r_net_revenue r_mbg r_centralnic_comm r_icann_comm r_registrar_shortname\n",
       "1  15            0     2.25              0.25         CSL                  \n",
       "2   4            0     0.6               0.25         CSL                  \n",
       "3  10            0     0.45              0.25         CSL                  \n",
       "4   6            0     0.9               0.25         GMO                  \n",
       "5  20            0     0.45              0.25         GMO                  \n",
       "6   6            0     0.45              0.25         GMO                  \n",
       "7  20            0     0.45              0.25         GMO                  \n",
       "8   6            0     0.45              0.25         GMO                  \n",
       "9  20            0     0.45              0.25         GMO                  \n",
       "10  6            0     0.9               0.25         GMO                  \n",
       "   r_client_shortname r_client_am r_registrar_country r_client_country\n",
       "1  CSL                Chaitanya   Germany             Germany         \n",
       "2  CSL                Varun       Germany             Germany         \n",
       "3  CSL                Chaitanya   Germany             Germany         \n",
       "4  GMO                Divya       Japan               Japan           \n",
       "5  GMO                Divya       Japan               Japan           \n",
       "6  GMO                Divya       Japan               Japan           \n",
       "7  GMO                Divya       Japan               Japan           \n",
       "8  GMO                Divya       Japan               Japan           \n",
       "9  GMO                Divya       Japan               Japan           \n",
       "10 GMO                Divya       Japan               Japan           \n",
       "   r_registrar_am sub_type   tier promo_tag\n",
       "1  Chaitanya      FirstTime  NA            \n",
       "2  Varun          FirstTime  NA            \n",
       "3  Chaitanya      Subsequent 10            \n",
       "4  Divya          Subsequent  6            \n",
       "5  Divya          FirstTime  NA            \n",
       "6  Divya          Subsequent  6            \n",
       "7  Divya          FirstTime  NA            \n",
       "8  Divya          FirstTime  NA            \n",
       "9  Divya          FirstTime  NA            \n",
       "10 Divya          FirstTime  NA            "
      ]
     },
     "metadata": {},
     "output_type": "display_data"
    }
   ],
   "source": [
    "# sql <- \"select * from radixbi-249015.prediction_vendors.renews limit 10;\"\n",
    "# renews10_df <- bq_table_download(bq_project_query(projectid, sql))\n",
    "renews10_df"
   ]
  },
  {
   "cell_type": "markdown",
   "metadata": {},
   "source": [
    "# Columns to pull:\n",
    "- creationtime"
   ]
  },
  {
   "cell_type": "code",
   "execution_count": null,
   "metadata": {},
   "outputs": [],
   "source": []
  },
  {
   "cell_type": "code",
   "execution_count": null,
   "metadata": {},
   "outputs": [],
   "source": []
  },
  {
   "cell_type": "markdown",
   "metadata": {},
   "source": [
    "# Get the data"
   ]
  },
  {
   "cell_type": "code",
   "execution_count": 10,
   "metadata": {},
   "outputs": [
    {
     "name": "stdout",
     "output_type": "stream",
     "text": [
      "[1] 1743356      30\n",
      "475.9 Mb\n"
     ]
    }
   ],
   "source": [
    "projectid <- \"radixbi-249015\"\n",
    "expiry_date_start <- '2019-01-01'\n",
    "expiry_date_end <- '2020-05-31'\n",
    "\n",
    "source(\"query_string_defs2.R\")\n",
    "\n",
    "sql <- get_expiry_data_str\n",
    "\n",
    "expiry_data <- bq_table_download(bq_project_query(projectid, sql))\n",
    "print(dim(expiry_data))\n",
    "print(object.size(expiry_data), units = \"auto\") \n",
    "\n",
    "# [1] 1743356      30\n",
    "# 475.9 Mb"
   ]
  },
  {
   "cell_type": "markdown",
   "metadata": {},
   "source": [
    "## qa rest of get_expiry_data.R code"
   ]
  },
  {
   "cell_type": "code",
   "execution_count": 12,
   "metadata": {},
   "outputs": [],
   "source": [
    "expiry_data_orig <- expiry_data"
   ]
  },
  {
   "cell_type": "code",
   "execution_count": 13,
   "metadata": {},
   "outputs": [
    {
     "data": {
      "text/html": [
       "<style>\n",
       ".list-inline {list-style: none; margin:0; padding: 0}\n",
       ".list-inline>li {display: inline-block}\n",
       ".list-inline>li:not(:last-child)::after {content: \"\\00b7\"; padding: 0 .5ex}\n",
       "</style>\n",
       "<ol class=list-inline><li>'renewal_type'</li><li>'renewed_count'</li><li>'Expiry_date'</li><li>'domain_id'</li><li>'domain'</li><li>'creation_date1'</li><li>'status'</li><li>'tld'</li><li>'registrar_shortname'</li><li>'client_shortname'</li><li>'client_country'</li><li>'registrant_country'</li><li>'region'</li><li>'noofyears'</li><li>'renewal_status'</li><li>'renew_mbg'</li><li>'renewal_item_id'</li><li>'renew_type'</li><li>'autorenew_type'</li><li>'renew_date'</li><li>'Renew_Registrar_Shortname'</li><li>'Renew_Client_Shortname'</li><li>'domain_revenue'</li><li>'arpt'</li><li>'gross_profit'</li><li>'gp_less_icann_fixed'</li><li>'renew_domain_years'</li><li>'renew_domain_revenue'</li><li>'renew_arpt'</li><li>'registration_arpt'</li></ol>\n"
      ],
      "text/latex": [
       "\\begin{enumerate*}\n",
       "\\item 'renewal\\_type'\n",
       "\\item 'renewed\\_count'\n",
       "\\item 'Expiry\\_date'\n",
       "\\item 'domain\\_id'\n",
       "\\item 'domain'\n",
       "\\item 'creation\\_date1'\n",
       "\\item 'status'\n",
       "\\item 'tld'\n",
       "\\item 'registrar\\_shortname'\n",
       "\\item 'client\\_shortname'\n",
       "\\item 'client\\_country'\n",
       "\\item 'registrant\\_country'\n",
       "\\item 'region'\n",
       "\\item 'noofyears'\n",
       "\\item 'renewal\\_status'\n",
       "\\item 'renew\\_mbg'\n",
       "\\item 'renewal\\_item\\_id'\n",
       "\\item 'renew\\_type'\n",
       "\\item 'autorenew\\_type'\n",
       "\\item 'renew\\_date'\n",
       "\\item 'Renew\\_Registrar\\_Shortname'\n",
       "\\item 'Renew\\_Client\\_Shortname'\n",
       "\\item 'domain\\_revenue'\n",
       "\\item 'arpt'\n",
       "\\item 'gross\\_profit'\n",
       "\\item 'gp\\_less\\_icann\\_fixed'\n",
       "\\item 'renew\\_domain\\_years'\n",
       "\\item 'renew\\_domain\\_revenue'\n",
       "\\item 'renew\\_arpt'\n",
       "\\item 'registration\\_arpt'\n",
       "\\end{enumerate*}\n"
      ],
      "text/markdown": [
       "1. 'renewal_type'\n",
       "2. 'renewed_count'\n",
       "3. 'Expiry_date'\n",
       "4. 'domain_id'\n",
       "5. 'domain'\n",
       "6. 'creation_date1'\n",
       "7. 'status'\n",
       "8. 'tld'\n",
       "9. 'registrar_shortname'\n",
       "10. 'client_shortname'\n",
       "11. 'client_country'\n",
       "12. 'registrant_country'\n",
       "13. 'region'\n",
       "14. 'noofyears'\n",
       "15. 'renewal_status'\n",
       "16. 'renew_mbg'\n",
       "17. 'renewal_item_id'\n",
       "18. 'renew_type'\n",
       "19. 'autorenew_type'\n",
       "20. 'renew_date'\n",
       "21. 'Renew_Registrar_Shortname'\n",
       "22. 'Renew_Client_Shortname'\n",
       "23. 'domain_revenue'\n",
       "24. 'arpt'\n",
       "25. 'gross_profit'\n",
       "26. 'gp_less_icann_fixed'\n",
       "27. 'renew_domain_years'\n",
       "28. 'renew_domain_revenue'\n",
       "29. 'renew_arpt'\n",
       "30. 'registration_arpt'\n",
       "\n",
       "\n"
      ],
      "text/plain": [
       " [1] \"renewal_type\"              \"renewed_count\"            \n",
       " [3] \"Expiry_date\"               \"domain_id\"                \n",
       " [5] \"domain\"                    \"creation_date1\"           \n",
       " [7] \"status\"                    \"tld\"                      \n",
       " [9] \"registrar_shortname\"       \"client_shortname\"         \n",
       "[11] \"client_country\"            \"registrant_country\"       \n",
       "[13] \"region\"                    \"noofyears\"                \n",
       "[15] \"renewal_status\"            \"renew_mbg\"                \n",
       "[17] \"renewal_item_id\"           \"renew_type\"               \n",
       "[19] \"autorenew_type\"            \"renew_date\"               \n",
       "[21] \"Renew_Registrar_Shortname\" \"Renew_Client_Shortname\"   \n",
       "[23] \"domain_revenue\"            \"arpt\"                     \n",
       "[25] \"gross_profit\"              \"gp_less_icann_fixed\"      \n",
       "[27] \"renew_domain_years\"        \"renew_domain_revenue\"     \n",
       "[29] \"renew_arpt\"                \"registration_arpt\"        "
      ]
     },
     "metadata": {},
     "output_type": "display_data"
    }
   ],
   "source": [
    "names(expiry_data_orig)"
   ]
  },
  {
   "cell_type": "code",
   "execution_count": 14,
   "metadata": {},
   "outputs": [],
   "source": [
    "expiry_data < -expiry_data_orig %>%\n",
    "select(renewal_type, renewed_count, expiry_date = Expiry_date, domain_id, domain,\n",
    "       creation_date = creation_date1, status, tld, registrar = registrar_shortname,\n",
    "       reseller = client_shortname, reseller_country = client_country, region, reg_period = noofyears,\n",
    "       registrant_country,renewal_status,renew_mbg, renew_type, autorenew_type, renew_date, renew_registrar = Renew_Registrar_Shortname, \n",
    "       renew_reseller = Renew_Client_Shortname, reg_revenue = domain_revenue, reg_arpt = arpt,\n",
    "       renew_period = renew_domain_years, renew_domain_revenue, renew_arpt,reg_arpt_org = registration_arpt)"
   ]
  },
  {
   "cell_type": "code",
   "execution_count": 16,
   "metadata": {},
   "outputs": [
    {
     "data": {
      "text/html": [
       "<style>\n",
       ".list-inline {list-style: none; margin:0; padding: 0}\n",
       ".list-inline>li {display: inline-block}\n",
       ".list-inline>li:not(:last-child)::after {content: \"\\00b7\"; padding: 0 .5ex}\n",
       "</style>\n",
       "<ol class=list-inline><li>'renewal_type'</li><li>'renewed_count'</li><li>'expiry_date'</li><li>'domain_id'</li><li>'domain'</li><li>'creation_date'</li><li>'status'</li><li>'tld'</li><li>'registrar'</li><li>'reseller'</li><li>'reseller_country'</li><li>'region'</li><li>'reg_period'</li><li>'registrant_country'</li><li>'renewal_status'</li><li>'renew_mbg'</li><li>'renew_type'</li><li>'autorenew_type'</li><li>'renew_date'</li><li>'renew_registrar'</li><li>'renew_reseller'</li><li>'reg_revenue'</li><li>'reg_arpt'</li><li>'renew_period'</li><li>'renew_domain_revenue'</li><li>'renew_arpt'</li><li>'reg_arpt_org'</li></ol>\n"
      ],
      "text/latex": [
       "\\begin{enumerate*}\n",
       "\\item 'renewal\\_type'\n",
       "\\item 'renewed\\_count'\n",
       "\\item 'expiry\\_date'\n",
       "\\item 'domain\\_id'\n",
       "\\item 'domain'\n",
       "\\item 'creation\\_date'\n",
       "\\item 'status'\n",
       "\\item 'tld'\n",
       "\\item 'registrar'\n",
       "\\item 'reseller'\n",
       "\\item 'reseller\\_country'\n",
       "\\item 'region'\n",
       "\\item 'reg\\_period'\n",
       "\\item 'registrant\\_country'\n",
       "\\item 'renewal\\_status'\n",
       "\\item 'renew\\_mbg'\n",
       "\\item 'renew\\_type'\n",
       "\\item 'autorenew\\_type'\n",
       "\\item 'renew\\_date'\n",
       "\\item 'renew\\_registrar'\n",
       "\\item 'renew\\_reseller'\n",
       "\\item 'reg\\_revenue'\n",
       "\\item 'reg\\_arpt'\n",
       "\\item 'renew\\_period'\n",
       "\\item 'renew\\_domain\\_revenue'\n",
       "\\item 'renew\\_arpt'\n",
       "\\item 'reg\\_arpt\\_org'\n",
       "\\end{enumerate*}\n"
      ],
      "text/markdown": [
       "1. 'renewal_type'\n",
       "2. 'renewed_count'\n",
       "3. 'expiry_date'\n",
       "4. 'domain_id'\n",
       "5. 'domain'\n",
       "6. 'creation_date'\n",
       "7. 'status'\n",
       "8. 'tld'\n",
       "9. 'registrar'\n",
       "10. 'reseller'\n",
       "11. 'reseller_country'\n",
       "12. 'region'\n",
       "13. 'reg_period'\n",
       "14. 'registrant_country'\n",
       "15. 'renewal_status'\n",
       "16. 'renew_mbg'\n",
       "17. 'renew_type'\n",
       "18. 'autorenew_type'\n",
       "19. 'renew_date'\n",
       "20. 'renew_registrar'\n",
       "21. 'renew_reseller'\n",
       "22. 'reg_revenue'\n",
       "23. 'reg_arpt'\n",
       "24. 'renew_period'\n",
       "25. 'renew_domain_revenue'\n",
       "26. 'renew_arpt'\n",
       "27. 'reg_arpt_org'\n",
       "\n",
       "\n"
      ],
      "text/plain": [
       " [1] \"renewal_type\"         \"renewed_count\"        \"expiry_date\"         \n",
       " [4] \"domain_id\"            \"domain\"               \"creation_date\"       \n",
       " [7] \"status\"               \"tld\"                  \"registrar\"           \n",
       "[10] \"reseller\"             \"reseller_country\"     \"region\"              \n",
       "[13] \"reg_period\"           \"registrant_country\"   \"renewal_status\"      \n",
       "[16] \"renew_mbg\"            \"renew_type\"           \"autorenew_type\"      \n",
       "[19] \"renew_date\"           \"renew_registrar\"      \"renew_reseller\"      \n",
       "[22] \"reg_revenue\"          \"reg_arpt\"             \"renew_period\"        \n",
       "[25] \"renew_domain_revenue\" \"renew_arpt\"           \"reg_arpt_org\"        "
      ]
     },
     "metadata": {},
     "output_type": "display_data"
    }
   ],
   "source": [
    "names(expiry_data)"
   ]
  },
  {
   "cell_type": "code",
   "execution_count": 17,
   "metadata": {},
   "outputs": [],
   "source": [
    "expiry_data$expiry_date<-as.Date(expiry_data$expiry_date, \"%Y-%m-%d\")\n",
    "expiry_data$creation_date<-as.Date(expiry_data$creation_date, \"%Y-%m-%d\")\n",
    "expiry_data$renew_date<-as.Date(expiry_data$renew_date, \"%Y-%m-%d\")\n",
    "expiry_data$registrar<-tolower(expiry_data$registrar)\n",
    "expiry_data$reseller<-tolower(expiry_data$reseller)"
   ]
  },
  {
   "cell_type": "code",
   "execution_count": 18,
   "metadata": {},
   "outputs": [],
   "source": [
    "expiry_data$renewal_status[!(expiry_data$renew_mbg == 0)]<-\"Not Renewd\"\n",
    "expiry_data$autorenew_type[!(expiry_data$renew_mbg == 0)]<-\"unrealized\""
   ]
  },
  {
   "cell_type": "code",
   "execution_count": 19,
   "metadata": {},
   "outputs": [],
   "source": [
    "saveRDS(expiry_data,\"../../data/output/expiry_data\")\n",
    "system(\"gsutil cp /home/jupyter/local/Domains_202003/data/output/* gs://data_outputt/output/\")\n",
    "\n",
    "# expiry_data <- readRDS(file.path('../../data/output/',\"expiry_data\"))"
   ]
  },
  {
   "cell_type": "code",
   "execution_count": null,
   "metadata": {},
   "outputs": [],
   "source": []
  }
 ],
 "metadata": {
  "environment": {
   "name": "r-cpu.3-6.m48",
   "type": "gcloud",
   "uri": "gcr.io/deeplearning-platform-release/r-cpu.3-6:m48"
  },
  "kernelspec": {
   "display_name": "R",
   "language": "R",
   "name": "ir"
  },
  "language_info": {
   "codemirror_mode": "r",
   "file_extension": ".r",
   "mimetype": "text/x-r-source",
   "name": "R",
   "pygments_lexer": "r",
   "version": "3.6.3"
  }
 },
 "nbformat": 4,
 "nbformat_minor": 4
}
