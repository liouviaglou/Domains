{
 "cells": [
  {
   "cell_type": "markdown",
   "metadata": {},
   "source": [
    "# Before pulling more data, explore feature engineering with existing expiry vars"
   ]
  },
  {
   "cell_type": "code",
   "execution_count": 29,
   "metadata": {},
   "outputs": [
    {
     "name": "stderr",
     "output_type": "stream",
     "text": [
      "Installing package into ‘/home/jupyter/.R/library’\n",
      "(as ‘lib’ is unspecified)\n",
      "\n"
     ]
    }
   ],
   "source": [
    "# install.packages(\"dominanceanalysis\")"
   ]
  },
  {
   "cell_type": "code",
   "execution_count": 3,
   "metadata": {},
   "outputs": [
    {
     "name": "stderr",
     "output_type": "stream",
     "text": [
      "\n",
      "Attaching package: ‘dplyr’\n",
      "\n",
      "\n",
      "The following objects are masked from ‘package:stats’:\n",
      "\n",
      "    filter, lag\n",
      "\n",
      "\n",
      "The following objects are masked from ‘package:base’:\n",
      "\n",
      "    intersect, setdiff, setequal, union\n",
      "\n",
      "\n",
      "\n",
      "Attaching package: ‘lubridate’\n",
      "\n",
      "\n",
      "The following objects are masked from ‘package:base’:\n",
      "\n",
      "    date, intersect, setdiff, union\n",
      "\n",
      "\n"
     ]
    }
   ],
   "source": [
    "library(tidyr)\n",
    "library(dplyr)\n",
    "library(lubridate)\n",
    "library(ggplot2)\n",
    "library(dominanceanalysis)\n",
    "options(repr.matrix.max.cols=50, repr.matrix.max.rows=100)"
   ]
  },
  {
   "cell_type": "code",
   "execution_count": 23,
   "metadata": {},
   "outputs": [],
   "source": [
    "\n",
    "source('../orig/functions.R')\n",
    "\n",
    "source('../orig/functions_models.R')\n",
    "\n",
    "source('../phaseII_03_forest/functions_eval.R')\n",
    "\n",
    "\n",
    "# source('../phaseII_03_forest/load_prep_data_expiry.R')\n",
    "\n",
    "# expiry_train_prepped_2_1 (list, less df's w/ 0 obs)\n",
    "# expiry_test_prepped_2_1  (list, less df's w/ 0 obs)\n",
    "# expiry_train_df_1 (above, rbound)\n",
    "# expiry_test_df_1 (above, rbound)\n",
    "# expiry_train_df_sub (subset vars)                                        \n",
    "# expiry_test_df_sub (subset vars)"
   ]
  },
  {
   "cell_type": "markdown",
   "metadata": {},
   "source": [
    "## Load data \n",
    "(pulled July 6th, 36 days after final date)"
   ]
  },
  {
   "cell_type": "code",
   "execution_count": 3,
   "metadata": {},
   "outputs": [],
   "source": [
    "filename = 'expiry_data'\n",
    "system(paste(sprintf(\"gsutil cp gs://data_outputt/output/%s /home/jupyter/local/Domains_202003/data/\", filename)))\n",
    "expiry_data <- readRDS(file.path(\"/home/jupyter/local/Domains_202003/data\", filename))"
   ]
  },
  {
   "cell_type": "code",
   "execution_count": 5,
   "metadata": {},
   "outputs": [
    {
     "data": {
      "text/html": [
       "<style>\n",
       ".list-inline {list-style: none; margin:0; padding: 0}\n",
       ".list-inline>li {display: inline-block}\n",
       ".list-inline>li:not(:last-child)::after {content: \"\\00b7\"; padding: 0 .5ex}\n",
       "</style>\n",
       "<ol class=list-inline><li>1743356</li><li>27</li></ol>\n"
      ],
      "text/latex": [
       "\\begin{enumerate*}\n",
       "\\item 1743356\n",
       "\\item 27\n",
       "\\end{enumerate*}\n"
      ],
      "text/markdown": [
       "1. 1743356\n",
       "2. 27\n",
       "\n",
       "\n"
      ],
      "text/plain": [
       "[1] 1743356      27"
      ]
     },
     "metadata": {},
     "output_type": "display_data"
    },
    {
     "data": {
      "text/html": [
       "<table>\n",
       "<caption>A tibble: 6 × 27</caption>\n",
       "<thead>\n",
       "\t<tr><th></th><th scope=col>renewal_type</th><th scope=col>renewed_count</th><th scope=col>expiry_date</th><th scope=col>domain_id</th><th scope=col>domain</th><th scope=col>creation_date</th><th scope=col>status</th><th scope=col>tld</th><th scope=col>registrar</th><th scope=col>reseller</th><th scope=col>reseller_country</th><th scope=col>region</th><th scope=col>reg_period</th><th scope=col>registrant_country</th><th scope=col>renewal_status</th><th scope=col>renew_mbg</th><th scope=col>renew_type</th><th scope=col>autorenew_type</th><th scope=col>renew_date</th><th scope=col>renew_registrar</th><th scope=col>renew_reseller</th><th scope=col>reg_revenue</th><th scope=col>reg_arpt</th><th scope=col>renew_period</th><th scope=col>renew_domain_revenue</th><th scope=col>renew_arpt</th><th scope=col>reg_arpt_org</th></tr>\n",
       "\t<tr><th></th><th scope=col>&lt;chr&gt;</th><th scope=col>&lt;int&gt;</th><th scope=col>&lt;date&gt;</th><th scope=col>&lt;int&gt;</th><th scope=col>&lt;chr&gt;</th><th scope=col>&lt;date&gt;</th><th scope=col>&lt;chr&gt;</th><th scope=col>&lt;chr&gt;</th><th scope=col>&lt;chr&gt;</th><th scope=col>&lt;chr&gt;</th><th scope=col>&lt;chr&gt;</th><th scope=col>&lt;chr&gt;</th><th scope=col>&lt;int&gt;</th><th scope=col>&lt;chr&gt;</th><th scope=col>&lt;chr&gt;</th><th scope=col>&lt;int&gt;</th><th scope=col>&lt;chr&gt;</th><th scope=col>&lt;chr&gt;</th><th scope=col>&lt;date&gt;</th><th scope=col>&lt;chr&gt;</th><th scope=col>&lt;chr&gt;</th><th scope=col>&lt;dbl&gt;</th><th scope=col>&lt;dbl&gt;</th><th scope=col>&lt;int&gt;</th><th scope=col>&lt;dbl&gt;</th><th scope=col>&lt;dbl&gt;</th><th scope=col>&lt;dbl&gt;</th></tr>\n",
       "</thead>\n",
       "<tbody>\n",
       "\t<tr><th scope=row>1</th><td>Subsequent</td><td>3</td><td>2020-01-01</td><td>41639702</td><td>howtofundraise.online</td><td>2017-01-01</td><td>Active</td><td>online</td><td>name.com </td><td>name.com </td><td>United States</td><td>Non China</td><td>1</td><td>NA</td><td>Renewed   </td><td>0</td><td>renewal     </td><td>NA        </td><td>2019-12-03</td><td>Name.com </td><td>Name.com </td><td>14.00</td><td>14.00</td><td>1</td><td>25.0</td><td>25.0</td><td>6.80</td></tr>\n",
       "\t<tr><th scope=row>2</th><td>FirstTime </td><td>1</td><td>2020-01-01</td><td>89380597</td><td>strela.pw            </td><td>2019-01-01</td><td>Active</td><td>pw    </td><td>beget    </td><td>beget    </td><td>Russia       </td><td>Non China</td><td>1</td><td>NA</td><td>Not Renewd</td><td>0</td><td>auto-renewal</td><td>unrealized</td><td>2020-01-01</td><td>Beget    </td><td>Beget    </td><td> 2.00</td><td> 2.00</td><td>1</td><td>15.0</td><td>15.0</td><td>2.00</td></tr>\n",
       "\t<tr><th scope=row>3</th><td>FirstTime </td><td>1</td><td>2020-01-01</td><td>89362247</td><td>qfg21.pw             </td><td>2019-01-01</td><td>Active</td><td>pw    </td><td>go daddy </td><td>go daddy </td><td>United States</td><td>Non China</td><td>1</td><td>NA</td><td>Not Renewd</td><td>0</td><td>auto-renewal</td><td>unrealized</td><td>2020-01-01</td><td>Go Daddy </td><td>Go Daddy </td><td> 0.50</td><td> 0.50</td><td>1</td><td>15.0</td><td>15.0</td><td>0.50</td></tr>\n",
       "\t<tr><th scope=row>4</th><td>FirstTime </td><td>1</td><td>2020-01-01</td><td>89376452</td><td>denial.pw            </td><td>2019-01-01</td><td>Active</td><td>pw    </td><td>namecheap</td><td>namecheap</td><td>United States</td><td>Non China</td><td>1</td><td>NA</td><td>Not Renewd</td><td>0</td><td>auto-renewal</td><td>unrealized</td><td>2020-01-01</td><td>Namecheap</td><td>Namecheap</td><td> 0.59</td><td> 0.59</td><td>1</td><td> 7.5</td><td> 7.5</td><td>0.59</td></tr>\n",
       "\t<tr><th scope=row>5</th><td>FirstTime </td><td>1</td><td>2020-01-01</td><td>89378522</td><td>tionwhich.pw         </td><td>2019-01-01</td><td>Active</td><td>pw    </td><td>namecheap</td><td>namecheap</td><td>United States</td><td>Non China</td><td>1</td><td>NA</td><td>Not Renewd</td><td>0</td><td>auto-renewal</td><td>unrealized</td><td>2020-01-01</td><td>Namecheap</td><td>Namecheap</td><td> 0.59</td><td> 0.59</td><td>1</td><td> 7.5</td><td> 7.5</td><td>0.59</td></tr>\n",
       "\t<tr><th scope=row>6</th><td>FirstTime </td><td>1</td><td>2020-01-01</td><td>89376062</td><td>accent.pw            </td><td>2019-01-01</td><td>Active</td><td>pw    </td><td>namecheap</td><td>namecheap</td><td>United States</td><td>Non China</td><td>1</td><td>NA</td><td>Not Renewd</td><td>0</td><td>auto-renewal</td><td>unrealized</td><td>2020-01-01</td><td>Namecheap</td><td>Namecheap</td><td> 0.59</td><td> 0.59</td><td>1</td><td> 7.5</td><td> 7.5</td><td>0.59</td></tr>\n",
       "</tbody>\n",
       "</table>\n"
      ],
      "text/latex": [
       "A tibble: 6 × 27\n",
       "\\begin{tabular}{r|lllllllllllllllllllllllllll}\n",
       "  & renewal\\_type & renewed\\_count & expiry\\_date & domain\\_id & domain & creation\\_date & status & tld & registrar & reseller & reseller\\_country & region & reg\\_period & registrant\\_country & renewal\\_status & renew\\_mbg & renew\\_type & autorenew\\_type & renew\\_date & renew\\_registrar & renew\\_reseller & reg\\_revenue & reg\\_arpt & renew\\_period & renew\\_domain\\_revenue & renew\\_arpt & reg\\_arpt\\_org\\\\\n",
       "  & <chr> & <int> & <date> & <int> & <chr> & <date> & <chr> & <chr> & <chr> & <chr> & <chr> & <chr> & <int> & <chr> & <chr> & <int> & <chr> & <chr> & <date> & <chr> & <chr> & <dbl> & <dbl> & <int> & <dbl> & <dbl> & <dbl>\\\\\n",
       "\\hline\n",
       "\t1 & Subsequent & 3 & 2020-01-01 & 41639702 & howtofundraise.online & 2017-01-01 & Active & online & name.com  & name.com  & United States & Non China & 1 & NA & Renewed    & 0 & renewal      & NA         & 2019-12-03 & Name.com  & Name.com  & 14.00 & 14.00 & 1 & 25.0 & 25.0 & 6.80\\\\\n",
       "\t2 & FirstTime  & 1 & 2020-01-01 & 89380597 & strela.pw             & 2019-01-01 & Active & pw     & beget     & beget     & Russia        & Non China & 1 & NA & Not Renewd & 0 & auto-renewal & unrealized & 2020-01-01 & Beget     & Beget     &  2.00 &  2.00 & 1 & 15.0 & 15.0 & 2.00\\\\\n",
       "\t3 & FirstTime  & 1 & 2020-01-01 & 89362247 & qfg21.pw              & 2019-01-01 & Active & pw     & go daddy  & go daddy  & United States & Non China & 1 & NA & Not Renewd & 0 & auto-renewal & unrealized & 2020-01-01 & Go Daddy  & Go Daddy  &  0.50 &  0.50 & 1 & 15.0 & 15.0 & 0.50\\\\\n",
       "\t4 & FirstTime  & 1 & 2020-01-01 & 89376452 & denial.pw             & 2019-01-01 & Active & pw     & namecheap & namecheap & United States & Non China & 1 & NA & Not Renewd & 0 & auto-renewal & unrealized & 2020-01-01 & Namecheap & Namecheap &  0.59 &  0.59 & 1 &  7.5 &  7.5 & 0.59\\\\\n",
       "\t5 & FirstTime  & 1 & 2020-01-01 & 89378522 & tionwhich.pw          & 2019-01-01 & Active & pw     & namecheap & namecheap & United States & Non China & 1 & NA & Not Renewd & 0 & auto-renewal & unrealized & 2020-01-01 & Namecheap & Namecheap &  0.59 &  0.59 & 1 &  7.5 &  7.5 & 0.59\\\\\n",
       "\t6 & FirstTime  & 1 & 2020-01-01 & 89376062 & accent.pw             & 2019-01-01 & Active & pw     & namecheap & namecheap & United States & Non China & 1 & NA & Not Renewd & 0 & auto-renewal & unrealized & 2020-01-01 & Namecheap & Namecheap &  0.59 &  0.59 & 1 &  7.5 &  7.5 & 0.59\\\\\n",
       "\\end{tabular}\n"
      ],
      "text/markdown": [
       "\n",
       "A tibble: 6 × 27\n",
       "\n",
       "| <!--/--> | renewal_type &lt;chr&gt; | renewed_count &lt;int&gt; | expiry_date &lt;date&gt; | domain_id &lt;int&gt; | domain &lt;chr&gt; | creation_date &lt;date&gt; | status &lt;chr&gt; | tld &lt;chr&gt; | registrar &lt;chr&gt; | reseller &lt;chr&gt; | reseller_country &lt;chr&gt; | region &lt;chr&gt; | reg_period &lt;int&gt; | registrant_country &lt;chr&gt; | renewal_status &lt;chr&gt; | renew_mbg &lt;int&gt; | renew_type &lt;chr&gt; | autorenew_type &lt;chr&gt; | renew_date &lt;date&gt; | renew_registrar &lt;chr&gt; | renew_reseller &lt;chr&gt; | reg_revenue &lt;dbl&gt; | reg_arpt &lt;dbl&gt; | renew_period &lt;int&gt; | renew_domain_revenue &lt;dbl&gt; | renew_arpt &lt;dbl&gt; | reg_arpt_org &lt;dbl&gt; |\n",
       "|---|---|---|---|---|---|---|---|---|---|---|---|---|---|---|---|---|---|---|---|---|---|---|---|---|---|---|---|\n",
       "| 1 | Subsequent | 3 | 2020-01-01 | 41639702 | howtofundraise.online | 2017-01-01 | Active | online | name.com  | name.com  | United States | Non China | 1 | NA | Renewed    | 0 | renewal      | NA         | 2019-12-03 | Name.com  | Name.com  | 14.00 | 14.00 | 1 | 25.0 | 25.0 | 6.80 |\n",
       "| 2 | FirstTime  | 1 | 2020-01-01 | 89380597 | strela.pw             | 2019-01-01 | Active | pw     | beget     | beget     | Russia        | Non China | 1 | NA | Not Renewd | 0 | auto-renewal | unrealized | 2020-01-01 | Beget     | Beget     |  2.00 |  2.00 | 1 | 15.0 | 15.0 | 2.00 |\n",
       "| 3 | FirstTime  | 1 | 2020-01-01 | 89362247 | qfg21.pw              | 2019-01-01 | Active | pw     | go daddy  | go daddy  | United States | Non China | 1 | NA | Not Renewd | 0 | auto-renewal | unrealized | 2020-01-01 | Go Daddy  | Go Daddy  |  0.50 |  0.50 | 1 | 15.0 | 15.0 | 0.50 |\n",
       "| 4 | FirstTime  | 1 | 2020-01-01 | 89376452 | denial.pw             | 2019-01-01 | Active | pw     | namecheap | namecheap | United States | Non China | 1 | NA | Not Renewd | 0 | auto-renewal | unrealized | 2020-01-01 | Namecheap | Namecheap |  0.59 |  0.59 | 1 |  7.5 |  7.5 | 0.59 |\n",
       "| 5 | FirstTime  | 1 | 2020-01-01 | 89378522 | tionwhich.pw          | 2019-01-01 | Active | pw     | namecheap | namecheap | United States | Non China | 1 | NA | Not Renewd | 0 | auto-renewal | unrealized | 2020-01-01 | Namecheap | Namecheap |  0.59 |  0.59 | 1 |  7.5 |  7.5 | 0.59 |\n",
       "| 6 | FirstTime  | 1 | 2020-01-01 | 89376062 | accent.pw             | 2019-01-01 | Active | pw     | namecheap | namecheap | United States | Non China | 1 | NA | Not Renewd | 0 | auto-renewal | unrealized | 2020-01-01 | Namecheap | Namecheap |  0.59 |  0.59 | 1 |  7.5 |  7.5 | 0.59 |\n",
       "\n"
      ],
      "text/plain": [
       "  renewal_type renewed_count expiry_date domain_id domain               \n",
       "1 Subsequent   3             2020-01-01  41639702  howtofundraise.online\n",
       "2 FirstTime    1             2020-01-01  89380597  strela.pw            \n",
       "3 FirstTime    1             2020-01-01  89362247  qfg21.pw             \n",
       "4 FirstTime    1             2020-01-01  89376452  denial.pw            \n",
       "5 FirstTime    1             2020-01-01  89378522  tionwhich.pw         \n",
       "6 FirstTime    1             2020-01-01  89376062  accent.pw            \n",
       "  creation_date status tld    registrar reseller  reseller_country region   \n",
       "1 2017-01-01    Active online name.com  name.com  United States    Non China\n",
       "2 2019-01-01    Active pw     beget     beget     Russia           Non China\n",
       "3 2019-01-01    Active pw     go daddy  go daddy  United States    Non China\n",
       "4 2019-01-01    Active pw     namecheap namecheap United States    Non China\n",
       "5 2019-01-01    Active pw     namecheap namecheap United States    Non China\n",
       "6 2019-01-01    Active pw     namecheap namecheap United States    Non China\n",
       "  reg_period registrant_country renewal_status renew_mbg renew_type  \n",
       "1 1          NA                 Renewed        0         renewal     \n",
       "2 1          NA                 Not Renewd     0         auto-renewal\n",
       "3 1          NA                 Not Renewd     0         auto-renewal\n",
       "4 1          NA                 Not Renewd     0         auto-renewal\n",
       "5 1          NA                 Not Renewd     0         auto-renewal\n",
       "6 1          NA                 Not Renewd     0         auto-renewal\n",
       "  autorenew_type renew_date renew_registrar renew_reseller reg_revenue reg_arpt\n",
       "1 NA             2019-12-03 Name.com        Name.com       14.00       14.00   \n",
       "2 unrealized     2020-01-01 Beget           Beget           2.00        2.00   \n",
       "3 unrealized     2020-01-01 Go Daddy        Go Daddy        0.50        0.50   \n",
       "4 unrealized     2020-01-01 Namecheap       Namecheap       0.59        0.59   \n",
       "5 unrealized     2020-01-01 Namecheap       Namecheap       0.59        0.59   \n",
       "6 unrealized     2020-01-01 Namecheap       Namecheap       0.59        0.59   \n",
       "  renew_period renew_domain_revenue renew_arpt reg_arpt_org\n",
       "1 1            25.0                 25.0       6.80        \n",
       "2 1            15.0                 15.0       2.00        \n",
       "3 1            15.0                 15.0       0.50        \n",
       "4 1             7.5                  7.5       0.59        \n",
       "5 1             7.5                  7.5       0.59        \n",
       "6 1             7.5                  7.5       0.59        "
      ]
     },
     "metadata": {},
     "output_type": "display_data"
    }
   ],
   "source": [
    "dim(expiry_data)\n",
    "head(expiry_data)"
   ]
  },
  {
   "cell_type": "code",
   "execution_count": 10,
   "metadata": {},
   "outputs": [
    {
     "data": {
      "text/html": [
       "<table>\n",
       "<caption>A matrix: 27 × 1 of type chr</caption>\n",
       "<tbody>\n",
       "\t<tr><th scope=row>renewal_type</th><td>Subsequent           </td></tr>\n",
       "\t<tr><th scope=row>renewed_count</th><td>3                    </td></tr>\n",
       "\t<tr><th scope=row>expiry_date</th><td>2020-01-01           </td></tr>\n",
       "\t<tr><th scope=row>domain_id</th><td>41639702             </td></tr>\n",
       "\t<tr><th scope=row>domain</th><td>howtofundraise.online</td></tr>\n",
       "\t<tr><th scope=row>creation_date</th><td>2017-01-01           </td></tr>\n",
       "\t<tr><th scope=row>status</th><td>Active               </td></tr>\n",
       "\t<tr><th scope=row>tld</th><td>online               </td></tr>\n",
       "\t<tr><th scope=row>registrar</th><td>name.com             </td></tr>\n",
       "\t<tr><th scope=row>reseller</th><td>name.com             </td></tr>\n",
       "\t<tr><th scope=row>reseller_country</th><td>United States        </td></tr>\n",
       "\t<tr><th scope=row>region</th><td>Non China            </td></tr>\n",
       "\t<tr><th scope=row>reg_period</th><td>1                    </td></tr>\n",
       "\t<tr><th scope=row>registrant_country</th><td>NA                   </td></tr>\n",
       "\t<tr><th scope=row>renewal_status</th><td>Renewed              </td></tr>\n",
       "\t<tr><th scope=row>renew_mbg</th><td>0                    </td></tr>\n",
       "\t<tr><th scope=row>renew_type</th><td>renewal              </td></tr>\n",
       "\t<tr><th scope=row>autorenew_type</th><td>NA                   </td></tr>\n",
       "\t<tr><th scope=row>renew_date</th><td>2019-12-03           </td></tr>\n",
       "\t<tr><th scope=row>renew_registrar</th><td>Name.com             </td></tr>\n",
       "\t<tr><th scope=row>renew_reseller</th><td>Name.com             </td></tr>\n",
       "\t<tr><th scope=row>reg_revenue</th><td>14                   </td></tr>\n",
       "\t<tr><th scope=row>reg_arpt</th><td>14                   </td></tr>\n",
       "\t<tr><th scope=row>renew_period</th><td>1                    </td></tr>\n",
       "\t<tr><th scope=row>renew_domain_revenue</th><td>25                   </td></tr>\n",
       "\t<tr><th scope=row>renew_arpt</th><td>25                   </td></tr>\n",
       "\t<tr><th scope=row>reg_arpt_org</th><td>6.8                  </td></tr>\n",
       "</tbody>\n",
       "</table>\n"
      ],
      "text/latex": [
       "A matrix: 27 × 1 of type chr\n",
       "\\begin{tabular}{r|l}\n",
       "\trenewal\\_type & Subsequent           \\\\\n",
       "\trenewed\\_count & 3                    \\\\\n",
       "\texpiry\\_date & 2020-01-01           \\\\\n",
       "\tdomain\\_id & 41639702             \\\\\n",
       "\tdomain & howtofundraise.online\\\\\n",
       "\tcreation\\_date & 2017-01-01           \\\\\n",
       "\tstatus & Active               \\\\\n",
       "\ttld & online               \\\\\n",
       "\tregistrar & name.com             \\\\\n",
       "\treseller & name.com             \\\\\n",
       "\treseller\\_country & United States        \\\\\n",
       "\tregion & Non China            \\\\\n",
       "\treg\\_period & 1                    \\\\\n",
       "\tregistrant\\_country & NA                   \\\\\n",
       "\trenewal\\_status & Renewed              \\\\\n",
       "\trenew\\_mbg & 0                    \\\\\n",
       "\trenew\\_type & renewal              \\\\\n",
       "\tautorenew\\_type & NA                   \\\\\n",
       "\trenew\\_date & 2019-12-03           \\\\\n",
       "\trenew\\_registrar & Name.com             \\\\\n",
       "\trenew\\_reseller & Name.com             \\\\\n",
       "\treg\\_revenue & 14                   \\\\\n",
       "\treg\\_arpt & 14                   \\\\\n",
       "\trenew\\_period & 1                    \\\\\n",
       "\trenew\\_domain\\_revenue & 25                   \\\\\n",
       "\trenew\\_arpt & 25                   \\\\\n",
       "\treg\\_arpt\\_org & 6.8                  \\\\\n",
       "\\end{tabular}\n"
      ],
      "text/markdown": [
       "\n",
       "A matrix: 27 × 1 of type chr\n",
       "\n",
       "| renewal_type | Subsequent            |\n",
       "| renewed_count | 3                     |\n",
       "| expiry_date | 2020-01-01            |\n",
       "| domain_id | 41639702              |\n",
       "| domain | howtofundraise.online |\n",
       "| creation_date | 2017-01-01            |\n",
       "| status | Active                |\n",
       "| tld | online                |\n",
       "| registrar | name.com              |\n",
       "| reseller | name.com              |\n",
       "| reseller_country | United States         |\n",
       "| region | Non China             |\n",
       "| reg_period | 1                     |\n",
       "| registrant_country | NA                    |\n",
       "| renewal_status | Renewed               |\n",
       "| renew_mbg | 0                     |\n",
       "| renew_type | renewal               |\n",
       "| autorenew_type | NA                    |\n",
       "| renew_date | 2019-12-03            |\n",
       "| renew_registrar | Name.com              |\n",
       "| renew_reseller | Name.com              |\n",
       "| reg_revenue | 14                    |\n",
       "| reg_arpt | 14                    |\n",
       "| renew_period | 1                     |\n",
       "| renew_domain_revenue | 25                    |\n",
       "| renew_arpt | 25                    |\n",
       "| reg_arpt_org | 6.8                   |\n",
       "\n"
      ],
      "text/plain": [
       "                     [,1]                 \n",
       "renewal_type         Subsequent           \n",
       "renewed_count        3                    \n",
       "expiry_date          2020-01-01           \n",
       "domain_id            41639702             \n",
       "domain               howtofundraise.online\n",
       "creation_date        2017-01-01           \n",
       "status               Active               \n",
       "tld                  online               \n",
       "registrar            name.com             \n",
       "reseller             name.com             \n",
       "reseller_country     United States        \n",
       "region               Non China            \n",
       "reg_period           1                    \n",
       "registrant_country   NA                   \n",
       "renewal_status       Renewed              \n",
       "renew_mbg            0                    \n",
       "renew_type           renewal              \n",
       "autorenew_type       NA                   \n",
       "renew_date           2019-12-03           \n",
       "renew_registrar      Name.com             \n",
       "renew_reseller       Name.com             \n",
       "reg_revenue          14                   \n",
       "reg_arpt             14                   \n",
       "renew_period         1                    \n",
       "renew_domain_revenue 25                   \n",
       "renew_arpt           25                   \n",
       "reg_arpt_org         6.8                  "
      ]
     },
     "metadata": {},
     "output_type": "display_data"
    }
   ],
   "source": [
    "expiry_data[1,] %>% t()"
   ]
  },
  {
   "cell_type": "markdown",
   "metadata": {},
   "source": [
    "# Subset only First Time"
   ]
  },
  {
   "cell_type": "code",
   "execution_count": 67,
   "metadata": {},
   "outputs": [
    {
     "data": {
      "text/html": [
       "<style>\n",
       ".list-inline {list-style: none; margin:0; padding: 0}\n",
       ".list-inline>li {display: inline-block}\n",
       ".list-inline>li:not(:last-child)::after {content: \"\\00b7\"; padding: 0 .5ex}\n",
       "</style>\n",
       "<ol class=list-inline><li>1485047</li><li>27</li></ol>\n"
      ],
      "text/latex": [
       "\\begin{enumerate*}\n",
       "\\item 1485047\n",
       "\\item 27\n",
       "\\end{enumerate*}\n"
      ],
      "text/markdown": [
       "1. 1485047\n",
       "2. 27\n",
       "\n",
       "\n"
      ],
      "text/plain": [
       "[1] 1485047      27"
      ]
     },
     "metadata": {},
     "output_type": "display_data"
    },
    {
     "data": {
      "text/html": [
       "<table>\n",
       "<caption>A tibble: 6 × 27</caption>\n",
       "<thead>\n",
       "\t<tr><th scope=col>renewal_type</th><th scope=col>renewed_count</th><th scope=col>expiry_date</th><th scope=col>domain_id</th><th scope=col>domain</th><th scope=col>creation_date</th><th scope=col>status</th><th scope=col>tld</th><th scope=col>registrar</th><th scope=col>reseller</th><th scope=col>reseller_country</th><th scope=col>region</th><th scope=col>reg_period</th><th scope=col>registrant_country</th><th scope=col>renewal_status</th><th scope=col>renew_mbg</th><th scope=col>renew_type</th><th scope=col>autorenew_type</th><th scope=col>renew_date</th><th scope=col>renew_registrar</th><th scope=col>renew_reseller</th><th scope=col>reg_revenue</th><th scope=col>reg_arpt</th><th scope=col>renew_period</th><th scope=col>renew_domain_revenue</th><th scope=col>renew_arpt</th><th scope=col>reg_arpt_org</th></tr>\n",
       "\t<tr><th scope=col>&lt;chr&gt;</th><th scope=col>&lt;int&gt;</th><th scope=col>&lt;date&gt;</th><th scope=col>&lt;int&gt;</th><th scope=col>&lt;chr&gt;</th><th scope=col>&lt;date&gt;</th><th scope=col>&lt;chr&gt;</th><th scope=col>&lt;chr&gt;</th><th scope=col>&lt;chr&gt;</th><th scope=col>&lt;chr&gt;</th><th scope=col>&lt;chr&gt;</th><th scope=col>&lt;chr&gt;</th><th scope=col>&lt;int&gt;</th><th scope=col>&lt;chr&gt;</th><th scope=col>&lt;chr&gt;</th><th scope=col>&lt;int&gt;</th><th scope=col>&lt;chr&gt;</th><th scope=col>&lt;chr&gt;</th><th scope=col>&lt;date&gt;</th><th scope=col>&lt;chr&gt;</th><th scope=col>&lt;chr&gt;</th><th scope=col>&lt;dbl&gt;</th><th scope=col>&lt;dbl&gt;</th><th scope=col>&lt;int&gt;</th><th scope=col>&lt;dbl&gt;</th><th scope=col>&lt;dbl&gt;</th><th scope=col>&lt;dbl&gt;</th></tr>\n",
       "</thead>\n",
       "<tbody>\n",
       "\t<tr><td>FirstTime</td><td>1</td><td>2020-01-01</td><td>89380597</td><td>strela.pw    </td><td>2019-01-01</td><td>Active</td><td>pw</td><td>beget    </td><td>beget    </td><td>Russia       </td><td>Non China</td><td>1</td><td>NA</td><td>Not Renewd</td><td>0</td><td>auto-renewal</td><td>unrealized</td><td>2020-01-01</td><td>Beget    </td><td>Beget    </td><td>2.00</td><td>2.00</td><td>1</td><td>15.0</td><td>15.0</td><td>2.00</td></tr>\n",
       "\t<tr><td>FirstTime</td><td>1</td><td>2020-01-01</td><td>89362247</td><td>qfg21.pw     </td><td>2019-01-01</td><td>Active</td><td>pw</td><td>go daddy </td><td>go daddy </td><td>United States</td><td>Non China</td><td>1</td><td>NA</td><td>Not Renewd</td><td>0</td><td>auto-renewal</td><td>unrealized</td><td>2020-01-01</td><td>Go Daddy </td><td>Go Daddy </td><td>0.50</td><td>0.50</td><td>1</td><td>15.0</td><td>15.0</td><td>0.50</td></tr>\n",
       "\t<tr><td>FirstTime</td><td>1</td><td>2020-01-01</td><td>89376452</td><td>denial.pw    </td><td>2019-01-01</td><td>Active</td><td>pw</td><td>namecheap</td><td>namecheap</td><td>United States</td><td>Non China</td><td>1</td><td>NA</td><td>Not Renewd</td><td>0</td><td>auto-renewal</td><td>unrealized</td><td>2020-01-01</td><td>Namecheap</td><td>Namecheap</td><td>0.59</td><td>0.59</td><td>1</td><td> 7.5</td><td> 7.5</td><td>0.59</td></tr>\n",
       "\t<tr><td>FirstTime</td><td>1</td><td>2020-01-01</td><td>89378522</td><td>tionwhich.pw </td><td>2019-01-01</td><td>Active</td><td>pw</td><td>namecheap</td><td>namecheap</td><td>United States</td><td>Non China</td><td>1</td><td>NA</td><td>Not Renewd</td><td>0</td><td>auto-renewal</td><td>unrealized</td><td>2020-01-01</td><td>Namecheap</td><td>Namecheap</td><td>0.59</td><td>0.59</td><td>1</td><td> 7.5</td><td> 7.5</td><td>0.59</td></tr>\n",
       "\t<tr><td>FirstTime</td><td>1</td><td>2020-01-01</td><td>89376062</td><td>accent.pw    </td><td>2019-01-01</td><td>Active</td><td>pw</td><td>namecheap</td><td>namecheap</td><td>United States</td><td>Non China</td><td>1</td><td>NA</td><td>Not Renewd</td><td>0</td><td>auto-renewal</td><td>unrealized</td><td>2020-01-01</td><td>Namecheap</td><td>Namecheap</td><td>0.59</td><td>0.59</td><td>1</td><td> 7.5</td><td> 7.5</td><td>0.59</td></tr>\n",
       "\t<tr><td>FirstTime</td><td>1</td><td>2020-01-01</td><td>89376437</td><td>disability.pw</td><td>2019-01-01</td><td>Active</td><td>pw</td><td>namecheap</td><td>namecheap</td><td>United States</td><td>Non China</td><td>1</td><td>NA</td><td>Not Renewd</td><td>0</td><td>auto-renewal</td><td>unrealized</td><td>2020-01-01</td><td>Namecheap</td><td>Namecheap</td><td>0.59</td><td>0.59</td><td>1</td><td> 7.5</td><td> 7.5</td><td>0.59</td></tr>\n",
       "</tbody>\n",
       "</table>\n"
      ],
      "text/latex": [
       "A tibble: 6 × 27\n",
       "\\begin{tabular}{lllllllllllllllllllllllllll}\n",
       " renewal\\_type & renewed\\_count & expiry\\_date & domain\\_id & domain & creation\\_date & status & tld & registrar & reseller & reseller\\_country & region & reg\\_period & registrant\\_country & renewal\\_status & renew\\_mbg & renew\\_type & autorenew\\_type & renew\\_date & renew\\_registrar & renew\\_reseller & reg\\_revenue & reg\\_arpt & renew\\_period & renew\\_domain\\_revenue & renew\\_arpt & reg\\_arpt\\_org\\\\\n",
       " <chr> & <int> & <date> & <int> & <chr> & <date> & <chr> & <chr> & <chr> & <chr> & <chr> & <chr> & <int> & <chr> & <chr> & <int> & <chr> & <chr> & <date> & <chr> & <chr> & <dbl> & <dbl> & <int> & <dbl> & <dbl> & <dbl>\\\\\n",
       "\\hline\n",
       "\t FirstTime & 1 & 2020-01-01 & 89380597 & strela.pw     & 2019-01-01 & Active & pw & beget     & beget     & Russia        & Non China & 1 & NA & Not Renewd & 0 & auto-renewal & unrealized & 2020-01-01 & Beget     & Beget     & 2.00 & 2.00 & 1 & 15.0 & 15.0 & 2.00\\\\\n",
       "\t FirstTime & 1 & 2020-01-01 & 89362247 & qfg21.pw      & 2019-01-01 & Active & pw & go daddy  & go daddy  & United States & Non China & 1 & NA & Not Renewd & 0 & auto-renewal & unrealized & 2020-01-01 & Go Daddy  & Go Daddy  & 0.50 & 0.50 & 1 & 15.0 & 15.0 & 0.50\\\\\n",
       "\t FirstTime & 1 & 2020-01-01 & 89376452 & denial.pw     & 2019-01-01 & Active & pw & namecheap & namecheap & United States & Non China & 1 & NA & Not Renewd & 0 & auto-renewal & unrealized & 2020-01-01 & Namecheap & Namecheap & 0.59 & 0.59 & 1 &  7.5 &  7.5 & 0.59\\\\\n",
       "\t FirstTime & 1 & 2020-01-01 & 89378522 & tionwhich.pw  & 2019-01-01 & Active & pw & namecheap & namecheap & United States & Non China & 1 & NA & Not Renewd & 0 & auto-renewal & unrealized & 2020-01-01 & Namecheap & Namecheap & 0.59 & 0.59 & 1 &  7.5 &  7.5 & 0.59\\\\\n",
       "\t FirstTime & 1 & 2020-01-01 & 89376062 & accent.pw     & 2019-01-01 & Active & pw & namecheap & namecheap & United States & Non China & 1 & NA & Not Renewd & 0 & auto-renewal & unrealized & 2020-01-01 & Namecheap & Namecheap & 0.59 & 0.59 & 1 &  7.5 &  7.5 & 0.59\\\\\n",
       "\t FirstTime & 1 & 2020-01-01 & 89376437 & disability.pw & 2019-01-01 & Active & pw & namecheap & namecheap & United States & Non China & 1 & NA & Not Renewd & 0 & auto-renewal & unrealized & 2020-01-01 & Namecheap & Namecheap & 0.59 & 0.59 & 1 &  7.5 &  7.5 & 0.59\\\\\n",
       "\\end{tabular}\n"
      ],
      "text/markdown": [
       "\n",
       "A tibble: 6 × 27\n",
       "\n",
       "| renewal_type &lt;chr&gt; | renewed_count &lt;int&gt; | expiry_date &lt;date&gt; | domain_id &lt;int&gt; | domain &lt;chr&gt; | creation_date &lt;date&gt; | status &lt;chr&gt; | tld &lt;chr&gt; | registrar &lt;chr&gt; | reseller &lt;chr&gt; | reseller_country &lt;chr&gt; | region &lt;chr&gt; | reg_period &lt;int&gt; | registrant_country &lt;chr&gt; | renewal_status &lt;chr&gt; | renew_mbg &lt;int&gt; | renew_type &lt;chr&gt; | autorenew_type &lt;chr&gt; | renew_date &lt;date&gt; | renew_registrar &lt;chr&gt; | renew_reseller &lt;chr&gt; | reg_revenue &lt;dbl&gt; | reg_arpt &lt;dbl&gt; | renew_period &lt;int&gt; | renew_domain_revenue &lt;dbl&gt; | renew_arpt &lt;dbl&gt; | reg_arpt_org &lt;dbl&gt; |\n",
       "|---|---|---|---|---|---|---|---|---|---|---|---|---|---|---|---|---|---|---|---|---|---|---|---|---|---|---|\n",
       "| FirstTime | 1 | 2020-01-01 | 89380597 | strela.pw     | 2019-01-01 | Active | pw | beget     | beget     | Russia        | Non China | 1 | NA | Not Renewd | 0 | auto-renewal | unrealized | 2020-01-01 | Beget     | Beget     | 2.00 | 2.00 | 1 | 15.0 | 15.0 | 2.00 |\n",
       "| FirstTime | 1 | 2020-01-01 | 89362247 | qfg21.pw      | 2019-01-01 | Active | pw | go daddy  | go daddy  | United States | Non China | 1 | NA | Not Renewd | 0 | auto-renewal | unrealized | 2020-01-01 | Go Daddy  | Go Daddy  | 0.50 | 0.50 | 1 | 15.0 | 15.0 | 0.50 |\n",
       "| FirstTime | 1 | 2020-01-01 | 89376452 | denial.pw     | 2019-01-01 | Active | pw | namecheap | namecheap | United States | Non China | 1 | NA | Not Renewd | 0 | auto-renewal | unrealized | 2020-01-01 | Namecheap | Namecheap | 0.59 | 0.59 | 1 |  7.5 |  7.5 | 0.59 |\n",
       "| FirstTime | 1 | 2020-01-01 | 89378522 | tionwhich.pw  | 2019-01-01 | Active | pw | namecheap | namecheap | United States | Non China | 1 | NA | Not Renewd | 0 | auto-renewal | unrealized | 2020-01-01 | Namecheap | Namecheap | 0.59 | 0.59 | 1 |  7.5 |  7.5 | 0.59 |\n",
       "| FirstTime | 1 | 2020-01-01 | 89376062 | accent.pw     | 2019-01-01 | Active | pw | namecheap | namecheap | United States | Non China | 1 | NA | Not Renewd | 0 | auto-renewal | unrealized | 2020-01-01 | Namecheap | Namecheap | 0.59 | 0.59 | 1 |  7.5 |  7.5 | 0.59 |\n",
       "| FirstTime | 1 | 2020-01-01 | 89376437 | disability.pw | 2019-01-01 | Active | pw | namecheap | namecheap | United States | Non China | 1 | NA | Not Renewd | 0 | auto-renewal | unrealized | 2020-01-01 | Namecheap | Namecheap | 0.59 | 0.59 | 1 |  7.5 |  7.5 | 0.59 |\n",
       "\n"
      ],
      "text/plain": [
       "  renewal_type renewed_count expiry_date domain_id domain        creation_date\n",
       "1 FirstTime    1             2020-01-01  89380597  strela.pw     2019-01-01   \n",
       "2 FirstTime    1             2020-01-01  89362247  qfg21.pw      2019-01-01   \n",
       "3 FirstTime    1             2020-01-01  89376452  denial.pw     2019-01-01   \n",
       "4 FirstTime    1             2020-01-01  89378522  tionwhich.pw  2019-01-01   \n",
       "5 FirstTime    1             2020-01-01  89376062  accent.pw     2019-01-01   \n",
       "6 FirstTime    1             2020-01-01  89376437  disability.pw 2019-01-01   \n",
       "  status tld registrar reseller  reseller_country region    reg_period\n",
       "1 Active pw  beget     beget     Russia           Non China 1         \n",
       "2 Active pw  go daddy  go daddy  United States    Non China 1         \n",
       "3 Active pw  namecheap namecheap United States    Non China 1         \n",
       "4 Active pw  namecheap namecheap United States    Non China 1         \n",
       "5 Active pw  namecheap namecheap United States    Non China 1         \n",
       "6 Active pw  namecheap namecheap United States    Non China 1         \n",
       "  registrant_country renewal_status renew_mbg renew_type   autorenew_type\n",
       "1 NA                 Not Renewd     0         auto-renewal unrealized    \n",
       "2 NA                 Not Renewd     0         auto-renewal unrealized    \n",
       "3 NA                 Not Renewd     0         auto-renewal unrealized    \n",
       "4 NA                 Not Renewd     0         auto-renewal unrealized    \n",
       "5 NA                 Not Renewd     0         auto-renewal unrealized    \n",
       "6 NA                 Not Renewd     0         auto-renewal unrealized    \n",
       "  renew_date renew_registrar renew_reseller reg_revenue reg_arpt renew_period\n",
       "1 2020-01-01 Beget           Beget          2.00        2.00     1           \n",
       "2 2020-01-01 Go Daddy        Go Daddy       0.50        0.50     1           \n",
       "3 2020-01-01 Namecheap       Namecheap      0.59        0.59     1           \n",
       "4 2020-01-01 Namecheap       Namecheap      0.59        0.59     1           \n",
       "5 2020-01-01 Namecheap       Namecheap      0.59        0.59     1           \n",
       "6 2020-01-01 Namecheap       Namecheap      0.59        0.59     1           \n",
       "  renew_domain_revenue renew_arpt reg_arpt_org\n",
       "1 15.0                 15.0       2.00        \n",
       "2 15.0                 15.0       0.50        \n",
       "3  7.5                  7.5       0.59        \n",
       "4  7.5                  7.5       0.59        \n",
       "5  7.5                  7.5       0.59        \n",
       "6  7.5                  7.5       0.59        "
      ]
     },
     "metadata": {},
     "output_type": "display_data"
    }
   ],
   "source": [
    "expiry_data_1 <- expiry_data %>% filter(renewal_type=='FirstTime')\n",
    "dim(expiry_data_1)\n",
    "head(expiry_data_1)"
   ]
  },
  {
   "cell_type": "markdown",
   "metadata": {},
   "source": [
    "## Difference between expiry & creation >> >365 more likley to renew? (**reg_durY**)"
   ]
  },
  {
   "cell_type": "code",
   "execution_count": 68,
   "metadata": {},
   "outputs": [
    {
     "data": {
      "text/html": [
       "<table>\n",
       "<caption>A tibble: 6 × 27</caption>\n",
       "<thead>\n",
       "\t<tr><th scope=col>renewal_type</th><th scope=col>renewed_count</th><th scope=col>expiry_date</th><th scope=col>domain_id</th><th scope=col>domain</th><th scope=col>creation_date</th><th scope=col>status</th><th scope=col>tld</th><th scope=col>registrar</th><th scope=col>reseller</th><th scope=col>reseller_country</th><th scope=col>region</th><th scope=col>reg_period</th><th scope=col>registrant_country</th><th scope=col>renewal_status</th><th scope=col>renew_mbg</th><th scope=col>renew_type</th><th scope=col>autorenew_type</th><th scope=col>renew_date</th><th scope=col>renew_registrar</th><th scope=col>renew_reseller</th><th scope=col>reg_revenue</th><th scope=col>reg_arpt</th><th scope=col>renew_period</th><th scope=col>renew_domain_revenue</th><th scope=col>renew_arpt</th><th scope=col>reg_arpt_org</th></tr>\n",
       "\t<tr><th scope=col>&lt;chr&gt;</th><th scope=col>&lt;int&gt;</th><th scope=col>&lt;date&gt;</th><th scope=col>&lt;int&gt;</th><th scope=col>&lt;chr&gt;</th><th scope=col>&lt;date&gt;</th><th scope=col>&lt;chr&gt;</th><th scope=col>&lt;chr&gt;</th><th scope=col>&lt;chr&gt;</th><th scope=col>&lt;chr&gt;</th><th scope=col>&lt;chr&gt;</th><th scope=col>&lt;chr&gt;</th><th scope=col>&lt;int&gt;</th><th scope=col>&lt;chr&gt;</th><th scope=col>&lt;chr&gt;</th><th scope=col>&lt;int&gt;</th><th scope=col>&lt;chr&gt;</th><th scope=col>&lt;chr&gt;</th><th scope=col>&lt;date&gt;</th><th scope=col>&lt;chr&gt;</th><th scope=col>&lt;chr&gt;</th><th scope=col>&lt;dbl&gt;</th><th scope=col>&lt;dbl&gt;</th><th scope=col>&lt;int&gt;</th><th scope=col>&lt;dbl&gt;</th><th scope=col>&lt;dbl&gt;</th><th scope=col>&lt;dbl&gt;</th></tr>\n",
       "</thead>\n",
       "<tbody>\n",
       "\t<tr><td>FirstTime</td><td>1</td><td>2020-01-01</td><td>41642428</td><td>plcm.tech            </td><td>2017-01-01</td><td>Active</td><td>tech  </td><td>alibaba         </td><td>alibaba         </td><td>China        </td><td>China    </td><td>3</td><td>China</td><td>Not Renewd</td><td>0</td><td>auto-renewal</td><td>unrealized</td><td>2020-01-01</td><td>Alibaba         </td><td>Alibaba         </td><td> 4.5</td><td> 1.50</td><td>1</td><td> 6</td><td> 6</td><td> 1.50</td></tr>\n",
       "\t<tr><td>FirstTime</td><td>1</td><td>2020-01-01</td><td>58838423</td><td><span style=white-space:pre-wrap>mozzafiato.online    </span></td><td>2018-01-01</td><td>Active</td><td>online</td><td><span style=white-space:pre-wrap>1&amp;1 internet    </span></td><td><span style=white-space:pre-wrap>1&amp;1 internet    </span></td><td><span style=white-space:pre-wrap>Germany      </span></td><td>Non China</td><td>2</td><td><span style=white-space:pre-wrap>NA   </span></td><td><span style=white-space:pre-wrap>Renewed   </span></td><td>0</td><td><span style=white-space:pre-wrap>renewal     </span></td><td><span style=white-space:pre-wrap>NA        </span></td><td>2019-01-17</td><td><span style=white-space:pre-wrap>1&amp;1 Internet    </span></td><td><span style=white-space:pre-wrap>1&amp;1 Internet    </span></td><td>30.0</td><td>15.00</td><td>1</td><td>25</td><td>25</td><td>15.00</td></tr>\n",
       "\t<tr><td>FirstTime</td><td>1</td><td>2020-01-01</td><td>41625202</td><td>lekki.tech           </td><td>2017-01-01</td><td>Active</td><td>tech  </td><td>alibaba         </td><td>alibaba         </td><td>China        </td><td>China    </td><td>3</td><td>China</td><td>Not Renewd</td><td>0</td><td>auto-renewal</td><td>unrealized</td><td>2020-01-01</td><td>Alibaba         </td><td>Alibaba         </td><td> 4.5</td><td> 1.50</td><td>1</td><td> 6</td><td> 6</td><td> 1.50</td></tr>\n",
       "\t<tr><td>FirstTime</td><td>1</td><td>2020-01-01</td><td>58838438</td><td>mltenterprises.online</td><td>2018-01-01</td><td>Active</td><td>online</td><td>go daddy        </td><td>go daddy        </td><td>United States</td><td>Non China</td><td>2</td><td>NA   </td><td>Renewed   </td><td>0</td><td>auto-renewal</td><td>realized  </td><td>2020-01-01</td><td>Go Daddy        </td><td>Go Daddy        </td><td>27.5</td><td>13.75</td><td>1</td><td>25</td><td>25</td><td>13.75</td></tr>\n",
       "\t<tr><td>FirstTime</td><td>1</td><td>2020-01-01</td><td>41618317</td><td>sypay.pw             </td><td>2017-01-01</td><td>Active</td><td>pw    </td><td>jiangsu bangning</td><td>jiangsu bangning</td><td>China        </td><td>China    </td><td>3</td><td>China</td><td>Not Renewd</td><td>0</td><td>auto-renewal</td><td>unrealized</td><td>2020-01-01</td><td>Jiangsu Bangning</td><td>Jiangsu Bangning</td><td>18.0</td><td> 6.00</td><td>1</td><td> 6</td><td> 6</td><td> 6.00</td></tr>\n",
       "\t<tr><td>FirstTime</td><td>1</td><td>2020-01-01</td><td>58818658</td><td>nycsl.online         </td><td>2018-01-01</td><td>Active</td><td>online</td><td>go daddy        </td><td>go daddy        </td><td>United States</td><td>Non China</td><td>2</td><td>NA   </td><td>Not Renewd</td><td>0</td><td>auto-renewal</td><td>unrealized</td><td>2020-01-01</td><td>Go Daddy        </td><td>Go Daddy        </td><td>27.5</td><td>13.75</td><td>1</td><td>25</td><td>25</td><td>13.75</td></tr>\n",
       "</tbody>\n",
       "</table>\n"
      ],
      "text/latex": [
       "A tibble: 6 × 27\n",
       "\\begin{tabular}{lllllllllllllllllllllllllll}\n",
       " renewal\\_type & renewed\\_count & expiry\\_date & domain\\_id & domain & creation\\_date & status & tld & registrar & reseller & reseller\\_country & region & reg\\_period & registrant\\_country & renewal\\_status & renew\\_mbg & renew\\_type & autorenew\\_type & renew\\_date & renew\\_registrar & renew\\_reseller & reg\\_revenue & reg\\_arpt & renew\\_period & renew\\_domain\\_revenue & renew\\_arpt & reg\\_arpt\\_org\\\\\n",
       " <chr> & <int> & <date> & <int> & <chr> & <date> & <chr> & <chr> & <chr> & <chr> & <chr> & <chr> & <int> & <chr> & <chr> & <int> & <chr> & <chr> & <date> & <chr> & <chr> & <dbl> & <dbl> & <int> & <dbl> & <dbl> & <dbl>\\\\\n",
       "\\hline\n",
       "\t FirstTime & 1 & 2020-01-01 & 41642428 & plcm.tech             & 2017-01-01 & Active & tech   & alibaba          & alibaba          & China         & China     & 3 & China & Not Renewd & 0 & auto-renewal & unrealized & 2020-01-01 & Alibaba          & Alibaba          &  4.5 &  1.50 & 1 &  6 &  6 &  1.50\\\\\n",
       "\t FirstTime & 1 & 2020-01-01 & 58838423 & mozzafiato.online     & 2018-01-01 & Active & online & 1\\&1 internet     & 1\\&1 internet     & Germany       & Non China & 2 & NA    & Renewed    & 0 & renewal      & NA         & 2019-01-17 & 1\\&1 Internet     & 1\\&1 Internet     & 30.0 & 15.00 & 1 & 25 & 25 & 15.00\\\\\n",
       "\t FirstTime & 1 & 2020-01-01 & 41625202 & lekki.tech            & 2017-01-01 & Active & tech   & alibaba          & alibaba          & China         & China     & 3 & China & Not Renewd & 0 & auto-renewal & unrealized & 2020-01-01 & Alibaba          & Alibaba          &  4.5 &  1.50 & 1 &  6 &  6 &  1.50\\\\\n",
       "\t FirstTime & 1 & 2020-01-01 & 58838438 & mltenterprises.online & 2018-01-01 & Active & online & go daddy         & go daddy         & United States & Non China & 2 & NA    & Renewed    & 0 & auto-renewal & realized   & 2020-01-01 & Go Daddy         & Go Daddy         & 27.5 & 13.75 & 1 & 25 & 25 & 13.75\\\\\n",
       "\t FirstTime & 1 & 2020-01-01 & 41618317 & sypay.pw              & 2017-01-01 & Active & pw     & jiangsu bangning & jiangsu bangning & China         & China     & 3 & China & Not Renewd & 0 & auto-renewal & unrealized & 2020-01-01 & Jiangsu Bangning & Jiangsu Bangning & 18.0 &  6.00 & 1 &  6 &  6 &  6.00\\\\\n",
       "\t FirstTime & 1 & 2020-01-01 & 58818658 & nycsl.online          & 2018-01-01 & Active & online & go daddy         & go daddy         & United States & Non China & 2 & NA    & Not Renewd & 0 & auto-renewal & unrealized & 2020-01-01 & Go Daddy         & Go Daddy         & 27.5 & 13.75 & 1 & 25 & 25 & 13.75\\\\\n",
       "\\end{tabular}\n"
      ],
      "text/markdown": [
       "\n",
       "A tibble: 6 × 27\n",
       "\n",
       "| renewal_type &lt;chr&gt; | renewed_count &lt;int&gt; | expiry_date &lt;date&gt; | domain_id &lt;int&gt; | domain &lt;chr&gt; | creation_date &lt;date&gt; | status &lt;chr&gt; | tld &lt;chr&gt; | registrar &lt;chr&gt; | reseller &lt;chr&gt; | reseller_country &lt;chr&gt; | region &lt;chr&gt; | reg_period &lt;int&gt; | registrant_country &lt;chr&gt; | renewal_status &lt;chr&gt; | renew_mbg &lt;int&gt; | renew_type &lt;chr&gt; | autorenew_type &lt;chr&gt; | renew_date &lt;date&gt; | renew_registrar &lt;chr&gt; | renew_reseller &lt;chr&gt; | reg_revenue &lt;dbl&gt; | reg_arpt &lt;dbl&gt; | renew_period &lt;int&gt; | renew_domain_revenue &lt;dbl&gt; | renew_arpt &lt;dbl&gt; | reg_arpt_org &lt;dbl&gt; |\n",
       "|---|---|---|---|---|---|---|---|---|---|---|---|---|---|---|---|---|---|---|---|---|---|---|---|---|---|---|\n",
       "| FirstTime | 1 | 2020-01-01 | 41642428 | plcm.tech             | 2017-01-01 | Active | tech   | alibaba          | alibaba          | China         | China     | 3 | China | Not Renewd | 0 | auto-renewal | unrealized | 2020-01-01 | Alibaba          | Alibaba          |  4.5 |  1.50 | 1 |  6 |  6 |  1.50 |\n",
       "| FirstTime | 1 | 2020-01-01 | 58838423 | mozzafiato.online     | 2018-01-01 | Active | online | 1&amp;1 internet     | 1&amp;1 internet     | Germany       | Non China | 2 | NA    | Renewed    | 0 | renewal      | NA         | 2019-01-17 | 1&amp;1 Internet     | 1&amp;1 Internet     | 30.0 | 15.00 | 1 | 25 | 25 | 15.00 |\n",
       "| FirstTime | 1 | 2020-01-01 | 41625202 | lekki.tech            | 2017-01-01 | Active | tech   | alibaba          | alibaba          | China         | China     | 3 | China | Not Renewd | 0 | auto-renewal | unrealized | 2020-01-01 | Alibaba          | Alibaba          |  4.5 |  1.50 | 1 |  6 |  6 |  1.50 |\n",
       "| FirstTime | 1 | 2020-01-01 | 58838438 | mltenterprises.online | 2018-01-01 | Active | online | go daddy         | go daddy         | United States | Non China | 2 | NA    | Renewed    | 0 | auto-renewal | realized   | 2020-01-01 | Go Daddy         | Go Daddy         | 27.5 | 13.75 | 1 | 25 | 25 | 13.75 |\n",
       "| FirstTime | 1 | 2020-01-01 | 41618317 | sypay.pw              | 2017-01-01 | Active | pw     | jiangsu bangning | jiangsu bangning | China         | China     | 3 | China | Not Renewd | 0 | auto-renewal | unrealized | 2020-01-01 | Jiangsu Bangning | Jiangsu Bangning | 18.0 |  6.00 | 1 |  6 |  6 |  6.00 |\n",
       "| FirstTime | 1 | 2020-01-01 | 58818658 | nycsl.online          | 2018-01-01 | Active | online | go daddy         | go daddy         | United States | Non China | 2 | NA    | Not Renewd | 0 | auto-renewal | unrealized | 2020-01-01 | Go Daddy         | Go Daddy         | 27.5 | 13.75 | 1 | 25 | 25 | 13.75 |\n",
       "\n"
      ],
      "text/plain": [
       "  renewal_type renewed_count expiry_date domain_id domain               \n",
       "1 FirstTime    1             2020-01-01  41642428  plcm.tech            \n",
       "2 FirstTime    1             2020-01-01  58838423  mozzafiato.online    \n",
       "3 FirstTime    1             2020-01-01  41625202  lekki.tech           \n",
       "4 FirstTime    1             2020-01-01  58838438  mltenterprises.online\n",
       "5 FirstTime    1             2020-01-01  41618317  sypay.pw             \n",
       "6 FirstTime    1             2020-01-01  58818658  nycsl.online         \n",
       "  creation_date status tld    registrar        reseller        \n",
       "1 2017-01-01    Active tech   alibaba          alibaba         \n",
       "2 2018-01-01    Active online 1&1 internet     1&1 internet    \n",
       "3 2017-01-01    Active tech   alibaba          alibaba         \n",
       "4 2018-01-01    Active online go daddy         go daddy        \n",
       "5 2017-01-01    Active pw     jiangsu bangning jiangsu bangning\n",
       "6 2018-01-01    Active online go daddy         go daddy        \n",
       "  reseller_country region    reg_period registrant_country renewal_status\n",
       "1 China            China     3          China              Not Renewd    \n",
       "2 Germany          Non China 2          NA                 Renewed       \n",
       "3 China            China     3          China              Not Renewd    \n",
       "4 United States    Non China 2          NA                 Renewed       \n",
       "5 China            China     3          China              Not Renewd    \n",
       "6 United States    Non China 2          NA                 Not Renewd    \n",
       "  renew_mbg renew_type   autorenew_type renew_date renew_registrar \n",
       "1 0         auto-renewal unrealized     2020-01-01 Alibaba         \n",
       "2 0         renewal      NA             2019-01-17 1&1 Internet    \n",
       "3 0         auto-renewal unrealized     2020-01-01 Alibaba         \n",
       "4 0         auto-renewal realized       2020-01-01 Go Daddy        \n",
       "5 0         auto-renewal unrealized     2020-01-01 Jiangsu Bangning\n",
       "6 0         auto-renewal unrealized     2020-01-01 Go Daddy        \n",
       "  renew_reseller   reg_revenue reg_arpt renew_period renew_domain_revenue\n",
       "1 Alibaba           4.5         1.50    1             6                  \n",
       "2 1&1 Internet     30.0        15.00    1            25                  \n",
       "3 Alibaba           4.5         1.50    1             6                  \n",
       "4 Go Daddy         27.5        13.75    1            25                  \n",
       "5 Jiangsu Bangning 18.0         6.00    1             6                  \n",
       "6 Go Daddy         27.5        13.75    1            25                  \n",
       "  renew_arpt reg_arpt_org\n",
       "1  6          1.50       \n",
       "2 25         15.00       \n",
       "3  6          1.50       \n",
       "4 25         13.75       \n",
       "5  6          6.00       \n",
       "6 25         13.75       "
      ]
     },
     "metadata": {},
     "output_type": "display_data"
    }
   ],
   "source": [
    "expiry_data_1 %>% filter(expiry_data_1$expiry_date - expiry_data_1$creation_date >365) %>% head()"
   ]
  },
  {
   "cell_type": "code",
   "execution_count": 69,
   "metadata": {},
   "outputs": [
    {
     "data": {
      "text/plain": [
       ".\n",
       "Not Renewd    Renewed \n",
       "0.91425791 0.08574209 "
      ]
     },
     "metadata": {},
     "output_type": "display_data"
    },
    {
     "data": {
      "text/plain": [
       ".\n",
       "Not Renewd    Renewed \n",
       "0.90864868 0.09135132 "
      ]
     },
     "metadata": {},
     "output_type": "display_data"
    }
   ],
   "source": [
    "expiry_data_1 %>% filter(expiry_data_1$expiry_date - expiry_data_1$creation_date >365)  %>% select(renewal_status) %>% table() %>% prop.table()\n",
    "expiry_data_1 %>% select(renewal_status) %>% table() %>% prop.table()"
   ]
  },
  {
   "cell_type": "code",
   "execution_count": 70,
   "metadata": {},
   "outputs": [],
   "source": [
    "expiry_data_1 <- expiry_data_1 %>% mutate(\n",
    "  reg_durY = as.numeric(floor(difftime(expiry_date,creation_date)/365)))"
   ]
  },
  {
   "cell_type": "code",
   "execution_count": 71,
   "metadata": {},
   "outputs": [
    {
     "data": {
      "image/png": "[encoded data removed]",
      "text/plain": [
       "Plot with title “Histogram of .”"
      ]
     },
     "metadata": {
      "image/png": {
       "height": 420,
       "width": 420
      },
      "text/plain": {
       "height": 420,
       "width": 420
      }
     },
     "output_type": "display_data"
    }
   ],
   "source": [
    "expiry_data_1 %>% .$reg_durY %>% hist()"
   ]
  },
  {
   "cell_type": "code",
   "execution_count": 72,
   "metadata": {},
   "outputs": [
    {
     "data": {
      "text/html": [
       "<table>\n",
       "<caption>A grouped_df: 13 × 3</caption>\n",
       "<thead>\n",
       "\t<tr><th scope=col>reg_durY</th><th scope=col>renewal_status</th><th scope=col>n</th></tr>\n",
       "\t<tr><th scope=col>&lt;dbl&gt;</th><th scope=col>&lt;chr&gt;</th><th scope=col>&lt;int&gt;</th></tr>\n",
       "</thead>\n",
       "<tbody>\n",
       "\t<tr><td>1</td><td>Not Renewd</td><td>1340045</td></tr>\n",
       "\t<tr><td>1</td><td>Renewed   </td><td> 128618</td></tr>\n",
       "\t<tr><td>2</td><td>Not Renewd</td><td>   5802</td></tr>\n",
       "\t<tr><td>2</td><td>Renewed   </td><td>   5547</td></tr>\n",
       "\t<tr><td>3</td><td>Not Renewd</td><td>   3262</td></tr>\n",
       "\t<tr><td>3</td><td>Renewed   </td><td>   1284</td></tr>\n",
       "\t<tr><td>4</td><td>Not Renewd</td><td>     31</td></tr>\n",
       "\t<tr><td>4</td><td>Renewed   </td><td>     29</td></tr>\n",
       "\t<tr><td>5</td><td>Not Renewd</td><td>    239</td></tr>\n",
       "\t<tr><td>5</td><td>Renewed   </td><td>    182</td></tr>\n",
       "\t<tr><td>6</td><td>Not Renewd</td><td>      4</td></tr>\n",
       "\t<tr><td>6</td><td>Renewed   </td><td>      1</td></tr>\n",
       "\t<tr><td>7</td><td>Not Renewd</td><td>      3</td></tr>\n",
       "</tbody>\n",
       "</table>\n"
      ],
      "text/latex": [
       "A grouped\\_df: 13 × 3\n",
       "\\begin{tabular}{lll}\n",
       " reg\\_durY & renewal\\_status & n\\\\\n",
       " <dbl> & <chr> & <int>\\\\\n",
       "\\hline\n",
       "\t 1 & Not Renewd & 1340045\\\\\n",
       "\t 1 & Renewed    &  128618\\\\\n",
       "\t 2 & Not Renewd &    5802\\\\\n",
       "\t 2 & Renewed    &    5547\\\\\n",
       "\t 3 & Not Renewd &    3262\\\\\n",
       "\t 3 & Renewed    &    1284\\\\\n",
       "\t 4 & Not Renewd &      31\\\\\n",
       "\t 4 & Renewed    &      29\\\\\n",
       "\t 5 & Not Renewd &     239\\\\\n",
       "\t 5 & Renewed    &     182\\\\\n",
       "\t 6 & Not Renewd &       4\\\\\n",
       "\t 6 & Renewed    &       1\\\\\n",
       "\t 7 & Not Renewd &       3\\\\\n",
       "\\end{tabular}\n"
      ],
      "text/markdown": [
       "\n",
       "A grouped_df: 13 × 3\n",
       "\n",
       "| reg_durY &lt;dbl&gt; | renewal_status &lt;chr&gt; | n &lt;int&gt; |\n",
       "|---|---|---|\n",
       "| 1 | Not Renewd | 1340045 |\n",
       "| 1 | Renewed    |  128618 |\n",
       "| 2 | Not Renewd |    5802 |\n",
       "| 2 | Renewed    |    5547 |\n",
       "| 3 | Not Renewd |    3262 |\n",
       "| 3 | Renewed    |    1284 |\n",
       "| 4 | Not Renewd |      31 |\n",
       "| 4 | Renewed    |      29 |\n",
       "| 5 | Not Renewd |     239 |\n",
       "| 5 | Renewed    |     182 |\n",
       "| 6 | Not Renewd |       4 |\n",
       "| 6 | Renewed    |       1 |\n",
       "| 7 | Not Renewd |       3 |\n",
       "\n"
      ],
      "text/plain": [
       "   reg_durY renewal_status n      \n",
       "1  1        Not Renewd     1340045\n",
       "2  1        Renewed         128618\n",
       "3  2        Not Renewd        5802\n",
       "4  2        Renewed           5547\n",
       "5  3        Not Renewd        3262\n",
       "6  3        Renewed           1284\n",
       "7  4        Not Renewd          31\n",
       "8  4        Renewed             29\n",
       "9  5        Not Renewd         239\n",
       "10 5        Renewed            182\n",
       "11 6        Not Renewd           4\n",
       "12 6        Renewed              1\n",
       "13 7        Not Renewd           3"
      ]
     },
     "metadata": {},
     "output_type": "display_data"
    }
   ],
   "source": [
    "expiry_data_1 %>%  group_by(reg_durY,renewal_status) %>% tally()# %>% table() %>% prop.table()"
   ]
  },
  {
   "cell_type": "markdown",
   "metadata": {},
   "source": [
    "# Create Quarter, Month, DoW vars"
   ]
  },
  {
   "cell_type": "code",
   "execution_count": 73,
   "metadata": {},
   "outputs": [
    {
     "data": {
      "text/html": [
       "<table>\n",
       "<caption>A tibble: 6 × 2</caption>\n",
       "<thead>\n",
       "\t<tr><th scope=col>creation_date</th><th scope=col>renewal_status</th></tr>\n",
       "\t<tr><th scope=col>&lt;date&gt;</th><th scope=col>&lt;chr&gt;</th></tr>\n",
       "</thead>\n",
       "<tbody>\n",
       "\t<tr><td>2019-01-01</td><td>Not Renewd</td></tr>\n",
       "\t<tr><td>2019-01-01</td><td>Not Renewd</td></tr>\n",
       "\t<tr><td>2019-01-01</td><td>Not Renewd</td></tr>\n",
       "\t<tr><td>2019-01-01</td><td>Not Renewd</td></tr>\n",
       "\t<tr><td>2019-01-01</td><td>Not Renewd</td></tr>\n",
       "\t<tr><td>2019-01-01</td><td>Not Renewd</td></tr>\n",
       "</tbody>\n",
       "</table>\n"
      ],
      "text/latex": [
       "A tibble: 6 × 2\n",
       "\\begin{tabular}{ll}\n",
       " creation\\_date & renewal\\_status\\\\\n",
       " <date> & <chr>\\\\\n",
       "\\hline\n",
       "\t 2019-01-01 & Not Renewd\\\\\n",
       "\t 2019-01-01 & Not Renewd\\\\\n",
       "\t 2019-01-01 & Not Renewd\\\\\n",
       "\t 2019-01-01 & Not Renewd\\\\\n",
       "\t 2019-01-01 & Not Renewd\\\\\n",
       "\t 2019-01-01 & Not Renewd\\\\\n",
       "\\end{tabular}\n"
      ],
      "text/markdown": [
       "\n",
       "A tibble: 6 × 2\n",
       "\n",
       "| creation_date &lt;date&gt; | renewal_status &lt;chr&gt; |\n",
       "|---|---|\n",
       "| 2019-01-01 | Not Renewd |\n",
       "| 2019-01-01 | Not Renewd |\n",
       "| 2019-01-01 | Not Renewd |\n",
       "| 2019-01-01 | Not Renewd |\n",
       "| 2019-01-01 | Not Renewd |\n",
       "| 2019-01-01 | Not Renewd |\n",
       "\n"
      ],
      "text/plain": [
       "  creation_date renewal_status\n",
       "1 2019-01-01    Not Renewd    \n",
       "2 2019-01-01    Not Renewd    \n",
       "3 2019-01-01    Not Renewd    \n",
       "4 2019-01-01    Not Renewd    \n",
       "5 2019-01-01    Not Renewd    \n",
       "6 2019-01-01    Not Renewd    "
      ]
     },
     "metadata": {},
     "output_type": "display_data"
    }
   ],
   "source": [
    "expiry_data_1 %>% select(creation_date, renewal_status) %>% head()"
   ]
  },
  {
   "cell_type": "code",
   "execution_count": 74,
   "metadata": {},
   "outputs": [
    {
     "data": {
      "text/html": [
       "<time datetime=\"2019-01-01\">2019-01-01</time>"
      ],
      "text/latex": [
       "2019-01-01"
      ],
      "text/markdown": [
       "2019-01-01"
      ],
      "text/plain": [
       "[1] \"2019-01-01\""
      ]
     },
     "metadata": {},
     "output_type": "display_data"
    }
   ],
   "source": [
    "expiry_data_1[1,'creation_date'] %>% .$creation_date"
   ]
  },
  {
   "cell_type": "code",
   "execution_count": 75,
   "metadata": {},
   "outputs": [],
   "source": [
    "expiry_data_1 <- expiry_data_1 %>% mutate(\n",
    "    mday = mday(creation_date),\n",
    "    wday = wday(creation_date),\n",
    "    qday = qday(creation_date),\n",
    "    yday = yday(creation_date)\n",
    "    \n",
    ")"
   ]
  },
  {
   "cell_type": "code",
   "execution_count": 76,
   "metadata": {},
   "outputs": [
    {
     "data": {
      "text/html": [
       "<table>\n",
       "<caption>A tibble: 6 × 6</caption>\n",
       "<thead>\n",
       "\t<tr><th scope=col>creation_date</th><th scope=col>mday</th><th scope=col>wday</th><th scope=col>qday</th><th scope=col>yday</th><th scope=col>renewal_status</th></tr>\n",
       "\t<tr><th scope=col>&lt;date&gt;</th><th scope=col>&lt;int&gt;</th><th scope=col>&lt;dbl&gt;</th><th scope=col>&lt;dbl&gt;</th><th scope=col>&lt;dbl&gt;</th><th scope=col>&lt;chr&gt;</th></tr>\n",
       "</thead>\n",
       "<tbody>\n",
       "\t<tr><td>2019-05-31</td><td>31</td><td>6</td><td>61</td><td>151</td><td>Not Renewd</td></tr>\n",
       "\t<tr><td>2019-05-31</td><td>31</td><td>6</td><td>61</td><td>151</td><td>Not Renewd</td></tr>\n",
       "\t<tr><td>2019-05-31</td><td>31</td><td>6</td><td>61</td><td>151</td><td>Not Renewd</td></tr>\n",
       "\t<tr><td>2019-05-31</td><td>31</td><td>6</td><td>61</td><td>151</td><td>Not Renewd</td></tr>\n",
       "\t<tr><td>2019-05-31</td><td>31</td><td>6</td><td>61</td><td>151</td><td>Not Renewd</td></tr>\n",
       "\t<tr><td>2019-05-31</td><td>31</td><td>6</td><td>61</td><td>151</td><td>Not Renewd</td></tr>\n",
       "</tbody>\n",
       "</table>\n"
      ],
      "text/latex": [
       "A tibble: 6 × 6\n",
       "\\begin{tabular}{llllll}\n",
       " creation\\_date & mday & wday & qday & yday & renewal\\_status\\\\\n",
       " <date> & <int> & <dbl> & <dbl> & <dbl> & <chr>\\\\\n",
       "\\hline\n",
       "\t 2019-05-31 & 31 & 6 & 61 & 151 & Not Renewd\\\\\n",
       "\t 2019-05-31 & 31 & 6 & 61 & 151 & Not Renewd\\\\\n",
       "\t 2019-05-31 & 31 & 6 & 61 & 151 & Not Renewd\\\\\n",
       "\t 2019-05-31 & 31 & 6 & 61 & 151 & Not Renewd\\\\\n",
       "\t 2019-05-31 & 31 & 6 & 61 & 151 & Not Renewd\\\\\n",
       "\t 2019-05-31 & 31 & 6 & 61 & 151 & Not Renewd\\\\\n",
       "\\end{tabular}\n"
      ],
      "text/markdown": [
       "\n",
       "A tibble: 6 × 6\n",
       "\n",
       "| creation_date &lt;date&gt; | mday &lt;int&gt; | wday &lt;dbl&gt; | qday &lt;dbl&gt; | yday &lt;dbl&gt; | renewal_status &lt;chr&gt; |\n",
       "|---|---|---|---|---|---|\n",
       "| 2019-05-31 | 31 | 6 | 61 | 151 | Not Renewd |\n",
       "| 2019-05-31 | 31 | 6 | 61 | 151 | Not Renewd |\n",
       "| 2019-05-31 | 31 | 6 | 61 | 151 | Not Renewd |\n",
       "| 2019-05-31 | 31 | 6 | 61 | 151 | Not Renewd |\n",
       "| 2019-05-31 | 31 | 6 | 61 | 151 | Not Renewd |\n",
       "| 2019-05-31 | 31 | 6 | 61 | 151 | Not Renewd |\n",
       "\n"
      ],
      "text/plain": [
       "  creation_date mday wday qday yday renewal_status\n",
       "1 2019-05-31    31   6    61   151  Not Renewd    \n",
       "2 2019-05-31    31   6    61   151  Not Renewd    \n",
       "3 2019-05-31    31   6    61   151  Not Renewd    \n",
       "4 2019-05-31    31   6    61   151  Not Renewd    \n",
       "5 2019-05-31    31   6    61   151  Not Renewd    \n",
       "6 2019-05-31    31   6    61   151  Not Renewd    "
      ]
     },
     "metadata": {},
     "output_type": "display_data"
    }
   ],
   "source": [
    "expiry_data_1 %>% select(creation_date, mday,wday,qday,yday,renewal_status) %>% tail()"
   ]
  },
  {
   "cell_type": "code",
   "execution_count": 77,
   "metadata": {},
   "outputs": [
    {
     "data": {
      "text/html": [
       "<table>\n",
       "<caption>A grouped_df: 14 × 3</caption>\n",
       "<thead>\n",
       "\t<tr><th scope=col>wday</th><th scope=col>renewal_status</th><th scope=col>n</th></tr>\n",
       "\t<tr><th scope=col>&lt;dbl&gt;</th><th scope=col>&lt;chr&gt;</th><th scope=col>&lt;int&gt;</th></tr>\n",
       "</thead>\n",
       "<tbody>\n",
       "\t<tr><td>1</td><td>Not Renewd</td><td>121009</td></tr>\n",
       "\t<tr><td>1</td><td>Renewed   </td><td> 12756</td></tr>\n",
       "\t<tr><td>2</td><td>Not Renewd</td><td>218893</td></tr>\n",
       "\t<tr><td>2</td><td>Renewed   </td><td> 21053</td></tr>\n",
       "\t<tr><td>3</td><td>Not Renewd</td><td>236474</td></tr>\n",
       "\t<tr><td>3</td><td>Renewed   </td><td> 23010</td></tr>\n",
       "\t<tr><td>4</td><td>Not Renewd</td><td>223864</td></tr>\n",
       "\t<tr><td>4</td><td>Renewed   </td><td> 22746</td></tr>\n",
       "\t<tr><td>5</td><td>Not Renewd</td><td>203977</td></tr>\n",
       "\t<tr><td>5</td><td>Renewed   </td><td> 21871</td></tr>\n",
       "\t<tr><td>6</td><td>Not Renewd</td><td>215235</td></tr>\n",
       "\t<tr><td>6</td><td>Renewed   </td><td> 20673</td></tr>\n",
       "\t<tr><td>7</td><td>Not Renewd</td><td>129934</td></tr>\n",
       "\t<tr><td>7</td><td>Renewed   </td><td> 13552</td></tr>\n",
       "</tbody>\n",
       "</table>\n"
      ],
      "text/latex": [
       "A grouped\\_df: 14 × 3\n",
       "\\begin{tabular}{lll}\n",
       " wday & renewal\\_status & n\\\\\n",
       " <dbl> & <chr> & <int>\\\\\n",
       "\\hline\n",
       "\t 1 & Not Renewd & 121009\\\\\n",
       "\t 1 & Renewed    &  12756\\\\\n",
       "\t 2 & Not Renewd & 218893\\\\\n",
       "\t 2 & Renewed    &  21053\\\\\n",
       "\t 3 & Not Renewd & 236474\\\\\n",
       "\t 3 & Renewed    &  23010\\\\\n",
       "\t 4 & Not Renewd & 223864\\\\\n",
       "\t 4 & Renewed    &  22746\\\\\n",
       "\t 5 & Not Renewd & 203977\\\\\n",
       "\t 5 & Renewed    &  21871\\\\\n",
       "\t 6 & Not Renewd & 215235\\\\\n",
       "\t 6 & Renewed    &  20673\\\\\n",
       "\t 7 & Not Renewd & 129934\\\\\n",
       "\t 7 & Renewed    &  13552\\\\\n",
       "\\end{tabular}\n"
      ],
      "text/markdown": [
       "\n",
       "A grouped_df: 14 × 3\n",
       "\n",
       "| wday &lt;dbl&gt; | renewal_status &lt;chr&gt; | n &lt;int&gt; |\n",
       "|---|---|---|\n",
       "| 1 | Not Renewd | 121009 |\n",
       "| 1 | Renewed    |  12756 |\n",
       "| 2 | Not Renewd | 218893 |\n",
       "| 2 | Renewed    |  21053 |\n",
       "| 3 | Not Renewd | 236474 |\n",
       "| 3 | Renewed    |  23010 |\n",
       "| 4 | Not Renewd | 223864 |\n",
       "| 4 | Renewed    |  22746 |\n",
       "| 5 | Not Renewd | 203977 |\n",
       "| 5 | Renewed    |  21871 |\n",
       "| 6 | Not Renewd | 215235 |\n",
       "| 6 | Renewed    |  20673 |\n",
       "| 7 | Not Renewd | 129934 |\n",
       "| 7 | Renewed    |  13552 |\n",
       "\n"
      ],
      "text/plain": [
       "   wday renewal_status n     \n",
       "1  1    Not Renewd     121009\n",
       "2  1    Renewed         12756\n",
       "3  2    Not Renewd     218893\n",
       "4  2    Renewed         21053\n",
       "5  3    Not Renewd     236474\n",
       "6  3    Renewed         23010\n",
       "7  4    Not Renewd     223864\n",
       "8  4    Renewed         22746\n",
       "9  5    Not Renewd     203977\n",
       "10 5    Renewed         21871\n",
       "11 6    Not Renewd     215235\n",
       "12 6    Renewed         20673\n",
       "13 7    Not Renewd     129934\n",
       "14 7    Renewed         13552"
      ]
     },
     "metadata": {},
     "output_type": "display_data"
    }
   ],
   "source": [
    "expiry_data_1 %>%  group_by(wday,renewal_status) %>% tally()"
   ]
  },
  {
   "cell_type": "markdown",
   "metadata": {},
   "source": [
    "# Add creation vars to expiry test & train split"
   ]
  },
  {
   "cell_type": "code",
   "execution_count": 3,
   "metadata": {},
   "outputs": [],
   "source": [
    "expiry_train_df_1 <- expiry_train_df_1 %>% mutate(\n",
    "    reg_durY = as.numeric(floor(difftime(expiry_date,creation_date)/365)),\n",
    "    mday = mday(creation_date),\n",
    "    wday = wday(creation_date),\n",
    "    qday = qday(creation_date),\n",
    "    yday = yday(creation_date) \n",
    ")\n",
    "\n",
    "expiry_test_df_1 <- expiry_test_df_1 %>% mutate(\n",
    "    reg_durY = as.numeric(floor(difftime(expiry_date,creation_date)/365)),\n",
    "    mday = mday(creation_date),\n",
    "    wday = wday(creation_date),\n",
    "    qday = qday(creation_date),\n",
    "    yday = yday(creation_date) \n",
    ")"
   ]
  },
  {
   "cell_type": "code",
   "execution_count": 4,
   "metadata": {},
   "outputs": [
    {
     "data": {
      "text/html": [
       "<style>\n",
       ".list-inline {list-style: none; margin:0; padding: 0}\n",
       ".list-inline>li {display: inline-block}\n",
       ".list-inline>li:not(:last-child)::after {content: \"\\00b7\"; padding: 0 .5ex}\n",
       "</style>\n",
       "<ol class=list-inline><li>'renewal_type'</li><li>'renewed_count'</li><li>'expiry_date'</li><li>'domain_id'</li><li>'domain'</li><li>'creation_date'</li><li>'status'</li><li>'tld'</li><li>'registrar'</li><li>'reseller'</li><li>'reseller_country'</li><li>'region'</li><li>'reg_period'</li><li>'registrant_country'</li><li>'renewal_status'</li><li>'renew_mbg'</li><li>'renew_type'</li><li>'autorenew_type'</li><li>'renew_date'</li><li>'renew_registrar'</li><li>'renew_reseller'</li><li>'reg_revenue'</li><li>'reg_arpt'</li><li>'renew_period'</li><li>'renew_domain_revenue'</li><li>'renew_arpt'</li><li>'reg_arpt_org'</li><li>'tld_registrar_index'</li><li>'sld'</li><li>'sld_type'</li><li>'sld_length'</li><li>'sld_type2'</li><li>'day_domains'</li><li>'log_reg_arpt'</li><li>'gibb_score'</li><li>'pattern'</li><li>'cluster'</li><li>'pattern_score'</li><li>'pattern_domain_count'</li><li>'reg_durY'</li><li>'mday'</li><li>'wday'</li><li>'qday'</li><li>'yday'</li></ol>\n"
      ],
      "text/latex": [
       "\\begin{enumerate*}\n",
       "\\item 'renewal\\_type'\n",
       "\\item 'renewed\\_count'\n",
       "\\item 'expiry\\_date'\n",
       "\\item 'domain\\_id'\n",
       "\\item 'domain'\n",
       "\\item 'creation\\_date'\n",
       "\\item 'status'\n",
       "\\item 'tld'\n",
       "\\item 'registrar'\n",
       "\\item 'reseller'\n",
       "\\item 'reseller\\_country'\n",
       "\\item 'region'\n",
       "\\item 'reg\\_period'\n",
       "\\item 'registrant\\_country'\n",
       "\\item 'renewal\\_status'\n",
       "\\item 'renew\\_mbg'\n",
       "\\item 'renew\\_type'\n",
       "\\item 'autorenew\\_type'\n",
       "\\item 'renew\\_date'\n",
       "\\item 'renew\\_registrar'\n",
       "\\item 'renew\\_reseller'\n",
       "\\item 'reg\\_revenue'\n",
       "\\item 'reg\\_arpt'\n",
       "\\item 'renew\\_period'\n",
       "\\item 'renew\\_domain\\_revenue'\n",
       "\\item 'renew\\_arpt'\n",
       "\\item 'reg\\_arpt\\_org'\n",
       "\\item 'tld\\_registrar\\_index'\n",
       "\\item 'sld'\n",
       "\\item 'sld\\_type'\n",
       "\\item 'sld\\_length'\n",
       "\\item 'sld\\_type2'\n",
       "\\item 'day\\_domains'\n",
       "\\item 'log\\_reg\\_arpt'\n",
       "\\item 'gibb\\_score'\n",
       "\\item 'pattern'\n",
       "\\item 'cluster'\n",
       "\\item 'pattern\\_score'\n",
       "\\item 'pattern\\_domain\\_count'\n",
       "\\item 'reg\\_durY'\n",
       "\\item 'mday'\n",
       "\\item 'wday'\n",
       "\\item 'qday'\n",
       "\\item 'yday'\n",
       "\\end{enumerate*}\n"
      ],
      "text/markdown": [
       "1. 'renewal_type'\n",
       "2. 'renewed_count'\n",
       "3. 'expiry_date'\n",
       "4. 'domain_id'\n",
       "5. 'domain'\n",
       "6. 'creation_date'\n",
       "7. 'status'\n",
       "8. 'tld'\n",
       "9. 'registrar'\n",
       "10. 'reseller'\n",
       "11. 'reseller_country'\n",
       "12. 'region'\n",
       "13. 'reg_period'\n",
       "14. 'registrant_country'\n",
       "15. 'renewal_status'\n",
       "16. 'renew_mbg'\n",
       "17. 'renew_type'\n",
       "18. 'autorenew_type'\n",
       "19. 'renew_date'\n",
       "20. 'renew_registrar'\n",
       "21. 'renew_reseller'\n",
       "22. 'reg_revenue'\n",
       "23. 'reg_arpt'\n",
       "24. 'renew_period'\n",
       "25. 'renew_domain_revenue'\n",
       "26. 'renew_arpt'\n",
       "27. 'reg_arpt_org'\n",
       "28. 'tld_registrar_index'\n",
       "29. 'sld'\n",
       "30. 'sld_type'\n",
       "31. 'sld_length'\n",
       "32. 'sld_type2'\n",
       "33. 'day_domains'\n",
       "34. 'log_reg_arpt'\n",
       "35. 'gibb_score'\n",
       "36. 'pattern'\n",
       "37. 'cluster'\n",
       "38. 'pattern_score'\n",
       "39. 'pattern_domain_count'\n",
       "40. 'reg_durY'\n",
       "41. 'mday'\n",
       "42. 'wday'\n",
       "43. 'qday'\n",
       "44. 'yday'\n",
       "\n",
       "\n"
      ],
      "text/plain": [
       " [1] \"renewal_type\"         \"renewed_count\"        \"expiry_date\"         \n",
       " [4] \"domain_id\"            \"domain\"               \"creation_date\"       \n",
       " [7] \"status\"               \"tld\"                  \"registrar\"           \n",
       "[10] \"reseller\"             \"reseller_country\"     \"region\"              \n",
       "[13] \"reg_period\"           \"registrant_country\"   \"renewal_status\"      \n",
       "[16] \"renew_mbg\"            \"renew_type\"           \"autorenew_type\"      \n",
       "[19] \"renew_date\"           \"renew_registrar\"      \"renew_reseller\"      \n",
       "[22] \"reg_revenue\"          \"reg_arpt\"             \"renew_period\"        \n",
       "[25] \"renew_domain_revenue\" \"renew_arpt\"           \"reg_arpt_org\"        \n",
       "[28] \"tld_registrar_index\"  \"sld\"                  \"sld_type\"            \n",
       "[31] \"sld_length\"           \"sld_type2\"            \"day_domains\"         \n",
       "[34] \"log_reg_arpt\"         \"gibb_score\"           \"pattern\"             \n",
       "[37] \"cluster\"              \"pattern_score\"        \"pattern_domain_count\"\n",
       "[40] \"reg_durY\"             \"mday\"                 \"wday\"                \n",
       "[43] \"qday\"                 \"yday\"                "
      ]
     },
     "metadata": {},
     "output_type": "display_data"
    }
   ],
   "source": [
    "names(expiry_train_df_1)"
   ]
  },
  {
   "cell_type": "markdown",
   "metadata": {},
   "source": [
    "# Rerun glm w & w/o new creation vars"
   ]
  },
  {
   "cell_type": "markdown",
   "metadata": {},
   "source": [
    "## w/o creation vars"
   ]
  },
  {
   "cell_type": "code",
   "execution_count": 5,
   "metadata": {},
   "outputs": [
    {
     "name": "stderr",
     "output_type": "stream",
     "text": [
      "Warning message:\n",
      "“glm.fit: fitted probabilities numerically 0 or 1 occurred”\n"
     ]
    }
   ],
   "source": [
    "agg_glm_basic_model <- build_model_first_renewal_agg(expiry_train_df_1)"
   ]
  },
  {
   "cell_type": "code",
   "execution_count": 6,
   "metadata": {},
   "outputs": [],
   "source": [
    "agg_glm_basic_pred <- predict_first_renewal_agg(expiry_test_df_1, agg_glm_basic_model)"
   ]
  },
  {
   "cell_type": "code",
   "execution_count": 10,
   "metadata": {},
   "outputs": [],
   "source": [
    "save(agg_glm_basic_model, file=\"../../data/output/agg_glm_basic_model\")\n",
    "save(agg_glm_basic_pred, file=\"../../data/output/agg_glm_basic_pred\")"
   ]
  },
  {
   "cell_type": "code",
   "execution_count": 16,
   "metadata": {},
   "outputs": [],
   "source": [
    "rm(agg_glm_basic_model,agg_glm_basic_pred)"
   ]
  },
  {
   "cell_type": "code",
   "execution_count": 17,
   "metadata": {},
   "outputs": [
    {
     "data": {
      "text/html": [
       "<table>\n",
       "<caption>A matrix: 2 × 6 of type dbl</caption>\n",
       "<thead>\n",
       "\t<tr><th></th><th scope=col>used</th><th scope=col>(Mb)</th><th scope=col>gc trigger</th><th scope=col>(Mb)</th><th scope=col>max used</th><th scope=col>(Mb)</th></tr>\n",
       "</thead>\n",
       "<tbody>\n",
       "\t<tr><th scope=row>Ncells</th><td>  5285579</td><td> 282.3</td><td>  10025322</td><td>  535.5</td><td>   6299494</td><td>  336.5</td></tr>\n",
       "\t<tr><th scope=row>Vcells</th><td>595576252</td><td>4543.9</td><td>2752022540</td><td>20996.3</td><td>3165451350</td><td>24150.5</td></tr>\n",
       "</tbody>\n",
       "</table>\n"
      ],
      "text/latex": [
       "A matrix: 2 × 6 of type dbl\n",
       "\\begin{tabular}{r|llllll}\n",
       "  & used & (Mb) & gc trigger & (Mb) & max used & (Mb)\\\\\n",
       "\\hline\n",
       "\tNcells &   5285579 &  282.3 &   10025322 &   535.5 &    6299494 &   336.5\\\\\n",
       "\tVcells & 595576252 & 4543.9 & 2752022540 & 20996.3 & 3165451350 & 24150.5\\\\\n",
       "\\end{tabular}\n"
      ],
      "text/markdown": [
       "\n",
       "A matrix: 2 × 6 of type dbl\n",
       "\n",
       "| <!--/--> | used | (Mb) | gc trigger | (Mb) | max used | (Mb) |\n",
       "|---|---|---|---|---|---|---|\n",
       "| Ncells |   5285579 |  282.3 |   10025322 |   535.5 |    6299494 |   336.5 |\n",
       "| Vcells | 595576252 | 4543.9 | 2752022540 | 20996.3 | 3165451350 | 24150.5 |\n",
       "\n"
      ],
      "text/plain": [
       "       used      (Mb)   gc trigger (Mb)    max used   (Mb)   \n",
       "Ncells   5285579  282.3   10025322   535.5    6299494   336.5\n",
       "Vcells 595576252 4543.9 2752022540 20996.3 3165451350 24150.5"
      ]
     },
     "metadata": {},
     "output_type": "display_data"
    }
   ],
   "source": [
    "gc()"
   ]
  },
  {
   "cell_type": "markdown",
   "metadata": {},
   "source": [
    "## w/ creation vars"
   ]
  },
  {
   "cell_type": "code",
   "execution_count": 12,
   "metadata": {},
   "outputs": [
    {
     "name": "stderr",
     "output_type": "stream",
     "text": [
      "Warning message:\n",
      "“glm.fit: fitted probabilities numerically 0 or 1 occurred”\n"
     ]
    }
   ],
   "source": [
    "agg_glm_plus_model <- build_model_first_renewal_agg_plus(expiry_train_df_1)"
   ]
  },
  {
   "cell_type": "code",
   "execution_count": 20,
   "metadata": {},
   "outputs": [
    {
     "data": {
      "text/plain": [
       "\n",
       "Call:  glm(formula = renewal_status ~ ., family = binomial(link = \"logit\"), \n",
       "    data = build_data, model = FALSE, y = FALSE)\n",
       "\n",
       "Coefficients:\n",
       "                       (Intercept)                pattern_domain_count  \n",
       "                        -4.934e-01                          -1.179e-01  \n",
       "                      log_reg_arpt                          sld_length  \n",
       "                         3.988e-02                          -2.075e-02  \n",
       "                         sld_typel                          sld_typeln  \n",
       "                        -1.056e-01                          -7.380e-01  \n",
       "                 sld_typehyphen-ln                         sld_typeidn  \n",
       "                        -6.409e-01                           2.322e-01  \n",
       "                         sld_typen                         day_domains  \n",
       "                        -1.432e+00                          -1.585e-03  \n",
       "                        gibb_score                          reg_period  \n",
       "                         1.255e-02                           4.742e-01  \n",
       "                           tldhost                           tldin.net  \n",
       "                        -5.982e-01                           2.921e-01  \n",
       "                         tldonline                            tldpress  \n",
       "                         7.365e-01                           2.798e-01  \n",
       "                             tldpw                             tldsite  \n",
       "                        -3.980e-01                           2.626e-01  \n",
       "                          tldspace                            tldstore  \n",
       "                         3.343e-01                           8.352e-01  \n",
       "                           tldtech                          tldwebsite  \n",
       "                         1.225e+00                           2.936e-01  \n",
       "                reseller101 domain            reseller10dencehispahard  \n",
       "                         7.520e-01                          -1.413e+00  \n",
       "             reseller123hjemmeside                        reseller1api  \n",
       "                        -1.534e+00                          -8.621e-02  \n",
       "                      reseller1blu                  reseller1stdomains  \n",
       "                         1.241e+00                          -4.238e-01  \n",
       "                 reseller22net inc              resellera small orange  \n",
       "                        -1.739e+00                          -5.573e-01  \n",
       "                 resellera2hosting                 resellerab name isp  \n",
       "                         4.681e-02                           8.816e-01  \n",
       "                 reselleractive 24                     reselleraerotek  \n",
       "                        -4.024e-01                          -1.852e+00  \n",
       "                  resellerafrihost                     reselleralastry  \n",
       "                         4.494e-01                          -1.291e+01  \n",
       "               reselleralfahosting                     reselleralibaba  \n",
       "                         1.088e+00                          -2.050e+00  \n",
       "                reselleralibaba sg                    reselleralpnames  \n",
       "                        -2.365e+00                          -1.646e+00  \n",
       "                      reselleramen                     reselleramen fr  \n",
       "                        -1.382e+00                          -1.923e+00  \n",
       "                resellerantagonist                   reselleranygaming  \n",
       "                        -4.255e-01                           1.437e+01  \n",
       "                   resellerargeweb                       resellerarsys  \n",
       "                         1.911e-01                          -1.680e-02  \n",
       "                     reselleraruba                       resellerascio  \n",
       "                         4.505e-01                           8.711e-01  \n",
       "                      reselleratak                  resellerautomattic  \n",
       "                        -1.339e+00                           2.650e-01  \n",
       "                     reselleraz.pl                       resellerbaidu  \n",
       "                        -1.804e+00                          -1.667e+00  \n",
       "                 resellerbb online                       resellerbeget  \n",
       "                         2.891e+00                          -1.995e+00  \n",
       "           resellerbeijing brandma               resellerbeijing guoxu  \n",
       "                         1.325e+01                          -7.402e-01  \n",
       "           resellerbeon intermedia                     resellerbigrock  \n",
       "                        -4.316e+00                          -2.250e+00  \n",
       "                    resellerbinero                       resellerbizcn  \n",
       "                        -9.955e-01                          -1.820e+00  \n",
       "                resellerblacknight                    resellerbluehost  \n",
       "                        -7.932e-02                          -1.903e-02  \n",
       "                   resellerbrandma                  resellerbrandsight  \n",
       "                         1.377e+01                           1.365e+01  \n",
       "                 resellerc-soft oy                      resellercafe24  \n",
       "                         6.949e-01                          -3.670e+00  \n",
       "              resellercheck domain                 resellerchengdu fly  \n",
       "                         7.475e-01                          -2.317e+00  \n",
       "              resellerchengdu west                   resellercom laude  \n",
       "                        -2.659e+00                           1.358e-01  \n",
       "                    resellercompra            resellerconstant contact  \n",
       "                         1.309e+01                          -1.275e+01  \n",
       "                   resellercorehub            resellercps-datensysteme  \n",
       "                         2.305e+00                           1.915e+00  \n",
       "             resellercrazy domains                  resellercritchcorp  \n",
       "                        -4.456e-01                           1.454e+01  \n",
       "                 resellercronon ag               resellercsc corporate  \n",
       "                         2.837e-01                           3.886e+00  \n",
       "                       resellercsl                  resellerdandomains  \n",
       "                        -6.265e-01                          -8.881e-01  \n",
       "                 resellerdiamatrix                 resellerdinahosting  \n",
       "                        -5.185e-01                           2.365e-01  \n",
       "              resellerdnc holdings                    resellerdnsimple  \n",
       "                        -3.256e-01                           2.698e-01  \n",
       "            resellerdomain context             resellerdomain discount  \n",
       "                        -1.244e+01                          -6.388e-01  \n",
       "          resellerdomain offensive              resellerdomain the net  \n",
       "                        -1.289e-01                          -1.362e+01  \n",
       "                 resellerdomain-it                  resellerdomain.com  \n",
       "                        -1.335e+01                          -2.595e-01  \n",
       "    resellerdomain.com - registrar          resellerdomaindiscover.com  \n",
       "                        -2.995e-01                           1.219e+00  \n",
       "                resellerdomainesia               resellerdomainfactory  \n",
       "                        -3.358e+00                           1.639e+00  \n",
       "                resellerdomaininfo                resellerdomainmonger  \n",
       "                         1.309e+01                           1.393e+01  \n",
       "          resellerdomains4bitcoins                  resellerdomeneshop  \n",
       "                        -3.814e+00                          -9.218e-02  \n",
       "                 resellerdomeny.pl                 resellerdominios.pt  \n",
       "                        -2.630e+00                          -1.512e+00  \n",
       "                    resellerdonweb               resellerdotname korea  \n",
       "                        -6.716e-01                          -3.162e+00  \n",
       "              resellerdotserve inc                   resellerdreamhost  \n",
       "                        -9.593e-01                          -2.314e-01  \n",
       "                   resellerdynadot                     resellereasydns  \n",
       "                        -2.840e+00                          -5.552e-01  \n",
       "                 resellereasyspace                        resellereims  \n",
       "                         1.426e+00                          -1.218e+00  \n",
       "                resellerejee group           resellerelectron networks  \n",
       "                        -2.952e+00                          -1.241e+01  \n",
       "             resellerembratelcloud                  resellerename tech  \n",
       "                        -1.685e+00                           1.423e+01  \n",
       "                      resellerenom             resellerentorno digital  \n",
       "                        -2.598e-01                           1.323e+01  \n",
       "                      resellerepag                    resellerepik llc  \n",
       "                        -3.228e-01                          -2.247e+00  \n",
       "                    resellereranet                        reselleretsy  \n",
       "                        -3.460e+00                           1.308e+01  \n",
       "                  reselleretsy.com               resellereu technology  \n",
       "                        -6.964e-01                          -1.319e+01  \n",
       "                   resellereukhost                    resellereuro dns  \n",
       "                        -1.372e+01                          -8.231e-01  \n",
       "               resellerevoplus ltd                    resellerexabytes  \n",
       "                         8.468e-01                          -2.249e+00  \n",
       "                  resellerexonhost                   resellerfasthosts  \n",
       "                         1.367e+01                           8.841e-01  \n",
       "                       resellerfbs              resellerflexwebhosting  \n",
       "                        -3.361e+00                           1.342e+01  \n",
       "                  resellerfocus ip                      resellerforpsi  \n",
       "                         1.340e+01                          -7.509e-01  \n",
       "             resellerfoshan yidong                 resellerfreeparking  \n",
       "                        -5.934e-01                           1.037e+00  \n",
       "                     resellergabia                   resellergandi sas  \n",
       "                        -2.208e+00                          -1.427e+00  \n",
       "            resellerglobal domains              resellerglobal village  \n",
       "                        -3.729e+00                           9.471e-01  \n",
       "                       resellergmo                   resellergo canada  \n",
       "                        -1.073e+00                           1.203e+01  \n",
       "                  resellergo daddy                   resellergo france  \n",
       "                        -1.033e+00                           1.257e+01  \n",
       "                    resellergoogle                      resellergransy  \n",
       "                        -1.784e-01                          -5.552e-01  \n",
       "                  resellergridhost               resellerguzel hosting  \n",
       "                         1.369e-01                          -2.130e+00  \n",
       "                   resellerhome.pl                     resellerhostens  \n",
       "                        -1.438e+00                          -1.288e+01  \n",
       "                   resellerhosteur                  resellerhosteurope  \n",
       "                        -1.274e+01                           2.458e-01  \n",
       "                 resellerhostgator            resellerhostgator brazil  \n",
       "                        -4.861e-01                          -1.119e+00  \n",
       "          resellerhostgator mexico            resellerhosting concepts  \n",
       "                        -1.649e+00                          -4.356e-01  \n",
       "           resellerhosting ukraine                   resellerhostinger  \n",
       "                        -2.416e+00                          -2.017e+00  \n",
       "                   resellerhostnet                  resellerhostnet.nl  \n",
       "                        -1.364e+01                           9.515e-01  \n",
       "              resellerhostneverdie                   resellerhostpoint  \n",
       "                         1.334e+01                          -1.875e-01  \n",
       "                  resellerhoststar                       resellerhover  \n",
       "                        -1.366e+00                          -2.688e-01  \n",
       "                       resellericn                   reselleridwebhost  \n",
       "                        -1.787e+00                          -3.089e+00  \n",
       "                  resellerifastnet                     resellerimpreza  \n",
       "                        -1.766e+00                          -1.342e+01  \n",
       "                    resellerinames               resellerinfomaniak.ch  \n",
       "                        -1.326e+01                          -3.596e-01  \n",
       "                resellerinnovadeus          resellerinstra corporation  \n",
       "                        -1.370e+01                          -1.194e+00  \n",
       "             resellerinternet gmbh            resellerinterneto vizija  \n",
       "                         1.022e+00                          -1.357e+00  \n",
       "          resellerinternetworx ltd                   resellerinternetx  \n",
       "                         2.635e-01                           9.015e-01  \n",
       "               resellerinterserver            reselleripage domain.com  \n",
       "                        -1.259e+00                          -1.473e+00  \n",
       "                reselleripage enom               reselleripage pdr ltd  \n",
       "                        -1.370e+00                          -7.980e-01  \n",
       "               reselleriwantmyname            resellerjiangsu bangning  \n",
       "                         6.100e-01                          -2.157e+00  \n",
       "                 resellerjogjacamp                   resellerkasserver  \n",
       "                        -2.908e+00                           1.244e+00  \n",
       "               resellerkey-systems                    resellerkinghost  \n",
       "                         9.036e-01                          -1.119e+00  \n",
       "              resellerkreativmedia                         resellerlcn  \n",
       "                         1.070e+00                           3.768e-01  \n",
       "                  resellerledl.net                  resellerlexsynergy  \n",
       "                        -4.615e-01                           1.340e+01  \n",
       "        resellerligne web services                   resellerliquidnet  \n",
       "                        -1.924e+00                          -1.156e+00  \n",
       "                    resellerloopia                    resellermailclub  \n",
       "                        -3.150e-01                           1.340e+01  \n",
       "              resellermarcaria.com                 resellermarkmonitor  \n",
       "                         6.027e-01                           1.361e+01  \n",
       "                    resellermarkum                     resellermat bao  \n",
       "                         1.418e+01                          -2.681e+00  \n",
       "              resellermelbourne it                resellermesh digital  \n",
       "                        -3.064e-02                           5.423e-01  \n",
       "             resellermetaregistrar               resellermijn internet  \n",
       "                         2.982e-01                           2.309e+00  \n",
       "                   resellermoniker                      resellermuumuu  \n",
       "                        -7.775e-01                           2.177e-01  \n",
       "                  resellername.com                    resellernamecamp  \n",
       "                        -6.495e-01                           1.324e+01  \n",
       "                 resellernamecheap                     resellernamesco  \n",
       "                        -1.595e+00                          -2.708e-01  \n",
       "                resellernameshield                    resellernamesilo  \n",
       "                         2.352e+00                          -1.520e+00  \n",
       "                   resellernameweb                   resellerneostrada  \n",
       "                         2.988e+00                          -1.535e-01  \n",
       "                resellernet4 india                    resellernetclues  \n",
       "                         1.458e+00                          -1.355e+01  \n",
       "              resellernetearth one                    resellernethouse  \n",
       "                         3.439e-02                          -2.621e+00  \n",
       "                     resellernetim                   resellernetistrar  \n",
       "                         8.805e-01                          -1.242e+00  \n",
       "                    resellernetowl                 resellernettigritty  \n",
       "                        -2.582e-02                          -7.174e-01  \n",
       "         resellernetwork solutions                      resellerneubox  \n",
       "                        -2.954e-02                          -9.074e-01  \n",
       "         resellernhan hoa software                resellerniaga hoster  \n",
       "                        -2.895e+00                          -2.964e+00  \n",
       "                   resellernicenic                resellernics telekom  \n",
       "                        -3.298e+00                          -2.303e+00  \n",
       "                      resellernina                   resellernominalia  \n",
       "                         1.385e+01                          -9.204e-01  \n",
       "             reselleromnis network                  reselleronline sas  \n",
       "                         5.327e-01                           4.996e-01  \n",
       "                 reselleronlinenic                reselleropentld b.v.  \n",
       "                        -3.588e+00                          -5.842e-01  \n",
       "                  resellerorigiweb                         resellerovh  \n",
       "                        -1.348e+01                          -4.034e-01  \n",
       "              resellerownregistrar                resellerp.a viet nam  \n",
       "                        -1.979e+00                          -2.657e+00  \n",
       "                    resellerpapaki            resellerparagon internet  \n",
       "                        -1.171e+00                           1.426e-01  \n",
       "                 resellerpdr china                     resellerpdr ltd  \n",
       "                        -3.443e+00                          -2.150e+00  \n",
       "          resellerpiensa solutions               resellerplanet hoster  \n",
       "                        -1.160e+00                           1.922e+00  \n",
       "                   resellerporkbun                      resellerproisp  \n",
       "                        -1.738e+00                          -1.717e-01  \n",
       "              resellerpromo people                     resellerqhoster  \n",
       "                        -3.793e-02                          -2.786e+00  \n",
       "                resellerqualispace           resellerrealtime register  \n",
       "                        -1.942e+00                           2.984e-01  \n",
       "                 resellerrebrandly                    resellerredehost  \n",
       "                        -3.846e-01                          -1.108e+00  \n",
       "                    resellerreg.ru                       resellerreg2c  \n",
       "                        -2.229e+00                          -1.308e+01  \n",
       "              resellerregister.com                 resellerregister.it  \n",
       "                         9.693e-01                          -7.043e-01  \n",
       "      resellerregistrator domenov                 resellerregistrygate  \n",
       "                        -1.019e+00                           1.651e+00  \n",
       "               resellerregtime ltd                      resellerregway  \n",
       "                        -9.292e-02                          -1.601e+00  \n",
       "         resellerreliable software                   resellerru-center  \n",
       "                        -1.377e+01                          -1.135e+00  \n",
       "                  resellerrumahweb               resellersafenames ltd  \n",
       "                        -3.238e+00                           1.347e+01  \n",
       "                  resellersea wasp                 resellersecura gmbh  \n",
       "                         1.388e+01                           1.325e+01  \n",
       "                     resellersered                 resellerserver plan  \n",
       "                        -1.285e+00                          -5.099e-01  \n",
       "        resellershanghai best oray           resellershanghai meicheng  \n",
       "                        -1.628e+00                          -3.032e+00  \n",
       "   resellershenzhen hulianxianfeng                    resellershinjiru  \n",
       "                        -1.257e+01                          -1.358e+01  \n",
       "                   resellershopify                   resellersibername  \n",
       "                        -1.959e+00                           9.390e-02  \n",
       "                resellersiteground                    resellersmartweb  \n",
       "                         4.314e-01                          -3.318e+00  \n",
       "   resellersoluciones corporativas                    resellerspaceweb  \n",
       "                        -1.614e+00                          -2.396e+00  \n",
       "               resellersquarespace                   resellersuempresa  \n",
       "                         3.824e-01                          -1.024e+00  \n",
       "            resellersuper registry               resellersuperdominios  \n",
       "                         2.642e-02                          -1.932e+00  \n",
       "              resellersuperhosting                 resellersuryanandan  \n",
       "                        -1.181e+00                           3.641e-01  \n",
       "         resellersynergy wholesale         resellertecnocratica centro  \n",
       "                        -1.510e-01                          -5.803e-01  \n",
       "                    resellertenten  resellerthe registrar company b.v.  \n",
       "                        -3.574e+00                           1.907e+00  \n",
       "                   resellertimeweb         resellertld registrar solns  \n",
       "                        -6.261e-01                          -1.656e+00  \n",
       "                  resellertodaynic                  resellertradeindia  \n",
       "                        -3.243e-01                          -2.941e+00  \n",
       "                   resellertransip                      resellertucows  \n",
       "                         6.828e-01                          -4.352e-01  \n",
       "                       reselleruk2                      resellerumbler  \n",
       "                        -4.821e-01                          -1.413e+00  \n",
       "              reselleruniregistrar              resellerunited domains  \n",
       "                        -3.180e+00                           6.677e-01  \n",
       "                   resellerunoeuro                         reselleruol  \n",
       "                         1.314e+00                          -2.294e+00  \n",
       "             resellerurl solutions                resellervalue domain  \n",
       "                        -2.645e+00                          -1.802e+00  \n",
       "                resellervariomedia                     resellervautron  \n",
       "                         1.315e+01                           2.800e-01  \n",
       "                  resellerventraip                      resellerversio  \n",
       "                         9.794e-01                          -7.183e-01  \n",
       "                 resellervimexx ks                  resellervimexx trc  \n",
       "                        -7.296e-01                          -7.646e-01  \n",
       "               resellervirtua drug           resellerweb commerce comm  \n",
       "                        -1.225e+01                          -1.431e-01  \n",
       "                 resellerweb werks                  resellerweb4africa  \n",
       "                         1.316e+01                          -3.283e+00  \n",
       "                  resellerwebhouse                    resellerwebnames  \n",
       "                         1.325e+01                          -4.591e-01  \n",
       "                   resellerwebonic               resellerwebsupport.sk  \n",
       "                        -1.383e+01                          -5.738e-01  \n",
       "                    resellerweebly       resellerwest263 international  \n",
       "                        -1.968e-01                          -1.203e+00  \n",
       "                 resellerwhogohost                       resellerwhois  \n",
       "                        -3.298e+00                          -1.912e+00  \n",
       "            resellerwhois networks                   resellerwild west  \n",
       "                        -3.866e-01                          -2.639e-01  \n",
       "                       resellerwix                   resellerwordpress  \n",
       "                         2.011e-01                           1.340e+01  \n",
       "                 resellerworld4you               resellerxiamen 35.com  \n",
       "                         1.910e+00                          -2.629e+00  \n",
       "        resellerxiamen chinasource               resellerxiamen nawang  \n",
       "                        -2.264e+00                          -2.061e+00  \n",
       "                   resellerxin net                      resellerxpress  \n",
       "                        -2.711e+00                          -1.555e+00  \n",
       "                     reselleryahoo                reselleryour hosting  \n",
       "                        -1.476e-01                           3.765e-01  \n",
       " resellerzhengzhou century connect            resellerzhengzhou zitian  \n",
       "                        -4.320e+00                          -2.745e+00  \n",
       "          resellerzhuhai naisinike                        resellerznet  \n",
       "                        -1.495e+00                          -1.442e+01  \n",
       "                          reg_durY                                mday  \n",
       "                                NA                          -4.632e-03  \n",
       "                              wday                                qday  \n",
       "                        -9.896e-03                           3.673e-04  \n",
       "                              yday  \n",
       "                        -3.222e-03  \n",
       "\n",
       "Degrees of Freedom: 1188249 Total (i.e. Null);  1187916 Residual\n",
       "Null Deviance:\t    726200 \n",
       "Residual Deviance: 534600 \tAIC: 535300"
      ]
     },
     "metadata": {},
     "output_type": "display_data"
    }
   ],
   "source": [
    "agg_glm_plus_model"
   ]
  },
  {
   "cell_type": "code",
   "execution_count": 24,
   "metadata": {},
   "outputs": [
    {
     "name": "stderr",
     "output_type": "stream",
     "text": [
      "Warning message in predict.lm(object, newdata, se.fit, scale = 1, type = if (type == :\n",
      "“prediction from a rank-deficient fit may be misleading”\n"
     ]
    }
   ],
   "source": [
    "agg_glm_plus_pred <- predict_first_renewal_agg_plus(expiry_test_df_1, agg_glm_plus_model)"
   ]
  },
  {
   "cell_type": "code",
   "execution_count": 25,
   "metadata": {},
   "outputs": [],
   "source": [
    "# save(agg_glm_plus_model, file=\"../../data/output/agg_glm_plus_model\")\n",
    "save(agg_glm_plus_pred, file=\"../../data/output/agg_glm_plus_pred\")"
   ]
  },
  {
   "cell_type": "markdown",
   "metadata": {},
   "source": [
    "# Write to gcp"
   ]
  },
  {
   "cell_type": "code",
   "execution_count": 15,
   "metadata": {},
   "outputs": [
    {
     "data": {
      "text/html": [
       "1"
      ],
      "text/latex": [
       "1"
      ],
      "text/markdown": [
       "1"
      ],
      "text/plain": [
       "[1] 1"
      ]
     },
     "metadata": {},
     "output_type": "display_data"
    }
   ],
   "source": [
    "\n",
    "system(\"gsutil cp /home/jupyter/local/Domains_202003/data/output/* gs://data_outputt/output/\")\n",
    "system(\"mv /home/jupyter/local/Domains_202003/data/output/* /home/jupyter/local/Domains_202003/data/\")"
   ]
  }
 ],
 "metadata": {
  "environment": {
   "name": "r-cpu.3-6.m48",
   "type": "gcloud",
   "uri": "gcr.io/deeplearning-platform-release/r-cpu.3-6:m48"
  },
  "kernelspec": {
   "display_name": "R",
   "language": "R",
   "name": "ir"
  },
  "language_info": {
   "codemirror_mode": "r",
   "file_extension": ".r",
   "mimetype": "text/x-r-source",
   "name": "R",
   "pygments_lexer": "r",
   "version": "3.6.3"
  }
 },
 "nbformat": 4,
 "nbformat_minor": 4
}
