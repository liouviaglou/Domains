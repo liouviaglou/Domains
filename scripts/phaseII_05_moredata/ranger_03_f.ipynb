{
 "cells": [
  {
   "cell_type": "markdown",
   "metadata": {},
   "source": [
    "# ReTrain ReTest Ranger_04 with respect.unordered.factors=TRUE\n",
    "https://win-vector.com/2016/05/30/on-ranger-respect-unordered-factors/"
   ]
  },
  {
   "cell_type": "code",
   "execution_count": 3,
   "metadata": {},
   "outputs": [
    {
     "data": {
      "text/html": [
       "'/home/jupyter/local/Domains_202003/scripts/phaseII_05_moredata'"
      ],
      "text/latex": [
       "'/home/jupyter/local/Domains\\_202003/scripts/phaseII\\_05\\_moredata'"
      ],
      "text/markdown": [
       "'/home/jupyter/local/Domains_202003/scripts/phaseII_05_moredata'"
      ],
      "text/plain": [
       "[1] \"/home/jupyter/local/Domains_202003/scripts/phaseII_05_moredata\""
      ]
     },
     "metadata": {},
     "output_type": "display_data"
    }
   ],
   "source": [
    "library(dplyr)\n",
    "library(data.table)\n",
    "library(partykit)\n",
    "library(tictoc)\n",
    "library(caret)\n",
    "library(e1071)\n",
    "library(randomForest)\n",
    "library(ranger)\n",
    "\n",
    "#for 3d plotting\n",
    "library(akima)\n",
    "library(plotly)\n",
    "\n",
    "# for prep data\n",
    "library(rPython)\n",
    "library(stringr)\n",
    "library(pbapply)\n",
    "library(stringdist)\n",
    "library(data.table)\n",
    "\n",
    "getwd()"
   ]
  },
  {
   "cell_type": "code",
   "execution_count": 12,
   "metadata": {},
   "outputs": [],
   "source": [
    "\n",
    "source('../orig/functions.R')\n",
    "\n",
    "source('../orig/functions_models.R')\n",
    "\n",
    "source('../phaseII_03_forest/functions_eval.R')\n",
    "\n",
    "\n",
    "# source('../phaseII_03_forest/load_prep_data_expiry.R')\n",
    "\n",
    "# expiry_train_prepped_2_1 (list, less df's w/ 0 obs)\n",
    "# expiry_test_prepped_2_1  (list, less df's w/ 0 obs)\n",
    "# expiry_train_df_1 (above, rbound)\n",
    "# expiry_test_df_1 (above, rbound)\n",
    "# expiry_train_df_sub (subset vars)                                        \n",
    "# expiry_test_df_sub (subset vars)"
   ]
  },
  {
   "cell_type": "code",
   "execution_count": 4,
   "metadata": {},
   "outputs": [
    {
     "data": {
      "text/html": [
       "<style>\n",
       ".list-inline {list-style: none; margin:0; padding: 0}\n",
       ".list-inline>li {display: inline-block}\n",
       ".list-inline>li:not(:last-child)::after {content: \"\\00b7\"; padding: 0 .5ex}\n",
       "</style>\n",
       "<ol class=list-inline><li>'apply_standard_adjustments'</li><li>'basic_prep_domain_data'</li><li>'build_model_first_renewal'</li><li>'build_model_first_renewal_agg'</li><li>'build_model_first_renewal_agg_plus'</li><li>'build_model_first_renewal_reg'</li><li>'build_model_second_renewal'</li><li>'calc_auc'</li><li>'change.colnames'</li><li>'chart_lift'</li><li>'expiry_test_df_1'</li><li>'expiry_test_df_sub'</li><li>'expiry_test_prepped_2'</li><li>'expiry_test_prepped_2_1'</li><li>'expiry_train_df_1'</li><li>'expiry_train_df_sub'</li><li>'expiry_train_prepped_2'</li><li>'expiry_train_prepped_2_1'</li><li>'get_cluster_data'</li><li>'get_cluster_large'</li><li>'get_df_npv'</li><li>'get_domain_npv'</li><li>'get_domain_type'</li><li>'get_pattern_score'</li><li>'get_renewal_status'</li><li>'intersect2'</li><li>'list_predict_first_renewal'</li><li>'list_predict_second_renewal'</li><li>'mass_build_model_first_renewal'</li><li>'mass_build_model_second_renewal'</li><li>'mass_predict_first_renewal'</li><li>'mass_predict_second_renewal'</li><li>'mass_prep_data'</li><li>'na.zero'</li><li>'newreg_data_prep'</li><li>'newreg_data_rename'</li><li>'newreg_data_select'</li><li>'plot_gains'</li><li>'plot_multigains'</li><li>'predict_first_renewal'</li><li>'predict_first_renewal_agg'</li><li>'predict_first_renewal_agg_plus'</li><li>'predict_first_renewal_reg'</li><li>'predict_second_renewal'</li><li>'prep_domain_data'</li><li>'save_object'</li><li>'unzip.file'</li></ol>\n"
      ],
      "text/latex": [
       "\\begin{enumerate*}\n",
       "\\item 'apply\\_standard\\_adjustments'\n",
       "\\item 'basic\\_prep\\_domain\\_data'\n",
       "\\item 'build\\_model\\_first\\_renewal'\n",
       "\\item 'build\\_model\\_first\\_renewal\\_agg'\n",
       "\\item 'build\\_model\\_first\\_renewal\\_agg\\_plus'\n",
       "\\item 'build\\_model\\_first\\_renewal\\_reg'\n",
       "\\item 'build\\_model\\_second\\_renewal'\n",
       "\\item 'calc\\_auc'\n",
       "\\item 'change.colnames'\n",
       "\\item 'chart\\_lift'\n",
       "\\item 'expiry\\_test\\_df\\_1'\n",
       "\\item 'expiry\\_test\\_df\\_sub'\n",
       "\\item 'expiry\\_test\\_prepped\\_2'\n",
       "\\item 'expiry\\_test\\_prepped\\_2\\_1'\n",
       "\\item 'expiry\\_train\\_df\\_1'\n",
       "\\item 'expiry\\_train\\_df\\_sub'\n",
       "\\item 'expiry\\_train\\_prepped\\_2'\n",
       "\\item 'expiry\\_train\\_prepped\\_2\\_1'\n",
       "\\item 'get\\_cluster\\_data'\n",
       "\\item 'get\\_cluster\\_large'\n",
       "\\item 'get\\_df\\_npv'\n",
       "\\item 'get\\_domain\\_npv'\n",
       "\\item 'get\\_domain\\_type'\n",
       "\\item 'get\\_pattern\\_score'\n",
       "\\item 'get\\_renewal\\_status'\n",
       "\\item 'intersect2'\n",
       "\\item 'list\\_predict\\_first\\_renewal'\n",
       "\\item 'list\\_predict\\_second\\_renewal'\n",
       "\\item 'mass\\_build\\_model\\_first\\_renewal'\n",
       "\\item 'mass\\_build\\_model\\_second\\_renewal'\n",
       "\\item 'mass\\_predict\\_first\\_renewal'\n",
       "\\item 'mass\\_predict\\_second\\_renewal'\n",
       "\\item 'mass\\_prep\\_data'\n",
       "\\item 'na.zero'\n",
       "\\item 'newreg\\_data\\_prep'\n",
       "\\item 'newreg\\_data\\_rename'\n",
       "\\item 'newreg\\_data\\_select'\n",
       "\\item 'plot\\_gains'\n",
       "\\item 'plot\\_multigains'\n",
       "\\item 'predict\\_first\\_renewal'\n",
       "\\item 'predict\\_first\\_renewal\\_agg'\n",
       "\\item 'predict\\_first\\_renewal\\_agg\\_plus'\n",
       "\\item 'predict\\_first\\_renewal\\_reg'\n",
       "\\item 'predict\\_second\\_renewal'\n",
       "\\item 'prep\\_domain\\_data'\n",
       "\\item 'save\\_object'\n",
       "\\item 'unzip.file'\n",
       "\\end{enumerate*}\n"
      ],
      "text/markdown": [
       "1. 'apply_standard_adjustments'\n",
       "2. 'basic_prep_domain_data'\n",
       "3. 'build_model_first_renewal'\n",
       "4. 'build_model_first_renewal_agg'\n",
       "5. 'build_model_first_renewal_agg_plus'\n",
       "6. 'build_model_first_renewal_reg'\n",
       "7. 'build_model_second_renewal'\n",
       "8. 'calc_auc'\n",
       "9. 'change.colnames'\n",
       "10. 'chart_lift'\n",
       "11. 'expiry_test_df_1'\n",
       "12. 'expiry_test_df_sub'\n",
       "13. 'expiry_test_prepped_2'\n",
       "14. 'expiry_test_prepped_2_1'\n",
       "15. 'expiry_train_df_1'\n",
       "16. 'expiry_train_df_sub'\n",
       "17. 'expiry_train_prepped_2'\n",
       "18. 'expiry_train_prepped_2_1'\n",
       "19. 'get_cluster_data'\n",
       "20. 'get_cluster_large'\n",
       "21. 'get_df_npv'\n",
       "22. 'get_domain_npv'\n",
       "23. 'get_domain_type'\n",
       "24. 'get_pattern_score'\n",
       "25. 'get_renewal_status'\n",
       "26. 'intersect2'\n",
       "27. 'list_predict_first_renewal'\n",
       "28. 'list_predict_second_renewal'\n",
       "29. 'mass_build_model_first_renewal'\n",
       "30. 'mass_build_model_second_renewal'\n",
       "31. 'mass_predict_first_renewal'\n",
       "32. 'mass_predict_second_renewal'\n",
       "33. 'mass_prep_data'\n",
       "34. 'na.zero'\n",
       "35. 'newreg_data_prep'\n",
       "36. 'newreg_data_rename'\n",
       "37. 'newreg_data_select'\n",
       "38. 'plot_gains'\n",
       "39. 'plot_multigains'\n",
       "40. 'predict_first_renewal'\n",
       "41. 'predict_first_renewal_agg'\n",
       "42. 'predict_first_renewal_agg_plus'\n",
       "43. 'predict_first_renewal_reg'\n",
       "44. 'predict_second_renewal'\n",
       "45. 'prep_domain_data'\n",
       "46. 'save_object'\n",
       "47. 'unzip.file'\n",
       "\n",
       "\n"
      ],
      "text/plain": [
       " [1] \"apply_standard_adjustments\"         \"basic_prep_domain_data\"            \n",
       " [3] \"build_model_first_renewal\"          \"build_model_first_renewal_agg\"     \n",
       " [5] \"build_model_first_renewal_agg_plus\" \"build_model_first_renewal_reg\"     \n",
       " [7] \"build_model_second_renewal\"         \"calc_auc\"                          \n",
       " [9] \"change.colnames\"                    \"chart_lift\"                        \n",
       "[11] \"expiry_test_df_1\"                   \"expiry_test_df_sub\"                \n",
       "[13] \"expiry_test_prepped_2\"              \"expiry_test_prepped_2_1\"           \n",
       "[15] \"expiry_train_df_1\"                  \"expiry_train_df_sub\"               \n",
       "[17] \"expiry_train_prepped_2\"             \"expiry_train_prepped_2_1\"          \n",
       "[19] \"get_cluster_data\"                   \"get_cluster_large\"                 \n",
       "[21] \"get_df_npv\"                         \"get_domain_npv\"                    \n",
       "[23] \"get_domain_type\"                    \"get_pattern_score\"                 \n",
       "[25] \"get_renewal_status\"                 \"intersect2\"                        \n",
       "[27] \"list_predict_first_renewal\"         \"list_predict_second_renewal\"       \n",
       "[29] \"mass_build_model_first_renewal\"     \"mass_build_model_second_renewal\"   \n",
       "[31] \"mass_predict_first_renewal\"         \"mass_predict_second_renewal\"       \n",
       "[33] \"mass_prep_data\"                     \"na.zero\"                           \n",
       "[35] \"newreg_data_prep\"                   \"newreg_data_rename\"                \n",
       "[37] \"newreg_data_select\"                 \"plot_gains\"                        \n",
       "[39] \"plot_multigains\"                    \"predict_first_renewal\"             \n",
       "[41] \"predict_first_renewal_agg\"          \"predict_first_renewal_agg_plus\"    \n",
       "[43] \"predict_first_renewal_reg\"          \"predict_second_renewal\"            \n",
       "[45] \"prep_domain_data\"                   \"save_object\"                       \n",
       "[47] \"unzip.file\"                        "
      ]
     },
     "metadata": {},
     "output_type": "display_data"
    }
   ],
   "source": [
    "ls()"
   ]
  },
  {
   "cell_type": "code",
   "execution_count": 5,
   "metadata": {},
   "outputs": [],
   "source": [
    "num_trees = 1000\n",
    "train = expiry_train_df_1\n",
    "test = expiry_test_df_1"
   ]
  },
  {
   "cell_type": "code",
   "execution_count": 6,
   "metadata": {},
   "outputs": [
    {
     "name": "stdout",
     "output_type": "stream",
     "text": [
      "\n",
      "Training & Testing remaining aggregate forest.\n",
      "Growing trees.. Progress: 3%. Estimated remaining time: 19 minutes, 21 seconds.\n",
      "Growing trees.. Progress: 6%. Estimated remaining time: 17 minutes, 22 seconds.\n",
      "Growing trees.. Progress: 9%. Estimated remaining time: 17 minutes, 13 seconds.\n",
      "Growing trees.. Progress: 12%. Estimated remaining time: 16 minutes, 25 seconds.\n",
      "Growing trees.. Progress: 14%. Estimated remaining time: 15 minutes, 57 seconds.\n",
      "Growing trees.. Progress: 18%. Estimated remaining time: 15 minutes, 14 seconds.\n",
      "Growing trees.. Progress: 20%. Estimated remaining time: 14 minutes, 54 seconds.\n",
      "Growing trees.. Progress: 23%. Estimated remaining time: 14 minutes, 9 seconds.\n",
      "Growing trees.. Progress: 26%. Estimated remaining time: 13 minutes, 34 seconds.\n",
      "Growing trees.. Progress: 29%. Estimated remaining time: 12 minutes, 59 seconds.\n",
      "Growing trees.. Progress: 32%. Estimated remaining time: 12 minutes, 25 seconds.\n",
      "Growing trees.. Progress: 36%. Estimated remaining time: 11 minutes, 33 seconds.\n",
      "Growing trees.. Progress: 38%. Estimated remaining time: 11 minutes, 24 seconds.\n",
      "Growing trees.. Progress: 40%. Estimated remaining time: 11 minutes, 17 seconds.\n",
      "Growing trees.. Progress: 42%. Estimated remaining time: 11 minutes, 1 seconds.\n",
      "Growing trees.. Progress: 45%. Estimated remaining time: 10 minutes, 45 seconds.\n",
      "Growing trees.. Progress: 47%. Estimated remaining time: 10 minutes, 19 seconds.\n",
      "Growing trees.. Progress: 50%. Estimated remaining time: 9 minutes, 39 seconds.\n",
      "Growing trees.. Progress: 53%. Estimated remaining time: 9 minutes, 4 seconds.\n",
      "Growing trees.. Progress: 56%. Estimated remaining time: 8 minutes, 27 seconds.\n",
      "Growing trees.. Progress: 59%. Estimated remaining time: 7 minutes, 51 seconds.\n",
      "Growing trees.. Progress: 62%. Estimated remaining time: 7 minutes, 20 seconds.\n",
      "Growing trees.. Progress: 65%. Estimated remaining time: 6 minutes, 45 seconds.\n",
      "Growing trees.. Progress: 68%. Estimated remaining time: 6 minutes, 8 seconds.\n",
      "Growing trees.. Progress: 72%. Estimated remaining time: 5 minutes, 18 seconds.\n",
      "Growing trees.. Progress: 75%. Estimated remaining time: 4 minutes, 45 seconds.\n",
      "Growing trees.. Progress: 78%. Estimated remaining time: 4 minutes, 9 seconds.\n",
      "Growing trees.. Progress: 81%. Estimated remaining time: 3 minutes, 34 seconds.\n",
      "Growing trees.. Progress: 84%. Estimated remaining time: 3 minutes, 3 seconds.\n",
      "Growing trees.. Progress: 86%. Estimated remaining time: 2 minutes, 31 seconds.\n",
      "Growing trees.. Progress: 89%. Estimated remaining time: 1 minute, 58 seconds.\n",
      "Growing trees.. Progress: 93%. Estimated remaining time: 1 minute, 23 seconds.\n",
      "Growing trees.. Progress: 96%. Estimated remaining time: 48 seconds.\n",
      "Growing trees.. Progress: 99%. Estimated remaining time: 15 seconds.\n",
      "Growing trees.. Progress: 100%. Estimated remaining time: 5 seconds.\n",
      "Computing prediction error.. Progress: 66%. Estimated remaining time: 15 seconds.\n",
      "Aggregating predictions.. Progress: 49%. Estimated remaining time: 32 seconds.\n",
      "Aggregating predictions.. Progress: 98%. Estimated remaining time: 1 seconds.\n"
     ]
    }
   ],
   "source": [
    "cat(\"\\nTraining & Testing remaining aggregate forest.\\n\")\n",
    "\n",
    "ranger_03_expiry2_f <- ranger( formula         = renewal_status ~ \n",
    "                             tld + reseller + reseller_country + \n",
    "                             region + reg_period + sld_type + sld_length + day_domains + \n",
    "                             gibb_score + pattern_domain_count + reg_arpt,\n",
    "                             data            = train, \n",
    "                             importance      = 'impurity', \n",
    "                             num.trees       = num_trees,\n",
    "                             probability     = TRUE,\n",
    "                            #     mtry            = 3,\n",
    "                            #     min.node.size   = 10,\n",
    "                            #     replace         = FALSE,\n",
    "                            #     sample.fraction = .8,\n",
    "                             seed            = 123,\n",
    "                             respect.unordered.factors=TRUE\n",
    ")\n",
    "\n",
    "predict_ranger_03_expiry2_f <- predict(ranger_03_expiry2_f, \n",
    "                                 data = test,\n",
    "                                 type=\"response\")$predictions\n",
    "\n",
    "predict_ranger_03_expiry2_f <- as.data.frame(predict_ranger_03_expiry2_f)$Renewed"
   ]
  },
  {
   "cell_type": "code",
   "execution_count": 7,
   "metadata": {},
   "outputs": [],
   "source": [
    "test$first_renewal_prediction <- predict_ranger_03_expiry2_f\n",
    "\n",
    "df = data.frame(\"actual\" = test$renewal_status,\n",
    "          \"predicted\" = test$first_renewal_prediction)\n",
    "\n",
    "lift_df <- chart_lift(pred_df = df,\n",
    "                        dep_var = \"actual\",\n",
    "                        pred_var = \"predicted\")\n",
    "\n",
    "gains_plot <- plot_gains (lift_df) \n",
    "\n",
    "auc_val <- calc_auc(lift_df)"
   ]
  },
  {
   "cell_type": "code",
   "execution_count": 10,
   "metadata": {},
   "outputs": [
    {
     "data": {
      "text/html": [
       "0.832666175658258"
      ],
      "text/latex": [
       "0.832666175658258"
      ],
      "text/markdown": [
       "0.832666175658258"
      ],
      "text/plain": [
       "[1] 0.8326662"
      ]
     },
     "metadata": {},
     "output_type": "display_data"
    }
   ],
   "source": [
    "auc_val"
   ]
  },
  {
   "cell_type": "code",
   "execution_count": 8,
   "metadata": {},
   "outputs": [],
   "source": [
    "save(ranger_03_expiry2_f, file=\"../../data/output/ranger_03_expiry2_f\")\n",
    "save(predict_ranger_03_expiry2_f, file=\"../../data/output/predict_ranger_03_expiry2_f\")"
   ]
  },
  {
   "cell_type": "code",
   "execution_count": 9,
   "metadata": {},
   "outputs": [
    {
     "data": {
      "image/png": "[encoded data removed]",
      "text/plain": [
       "plot without title"
      ]
     },
     "metadata": {
      "image/png": {
       "height": 420,
       "width": 420
      },
      "text/plain": {
       "height": 420,
       "width": 420
      }
     },
     "output_type": "display_data"
    }
   ],
   "source": [
    "gains_plot"
   ]
  },
  {
   "cell_type": "code",
   "execution_count": 11,
   "metadata": {},
   "outputs": [
    {
     "data": {
      "text/html": [
       "<table>\n",
       "<caption>A data.frame: 10 × 4</caption>\n",
       "<thead>\n",
       "\t<tr><th scope=col>P</th><th scope=col>actu_renwd2</th><th scope=col>gain</th><th scope=col>lift</th></tr>\n",
       "\t<tr><th scope=col>&lt;dbl&gt;</th><th scope=col>&lt;int&gt;</th><th scope=col>&lt;dbl&gt;</th><th scope=col>&lt;dbl&gt;</th></tr>\n",
       "</thead>\n",
       "<tbody>\n",
       "\t<tr><td>0.1</td><td>13136</td><td>0.4837415</td><td>4.837415</td></tr>\n",
       "\t<tr><td>0.2</td><td>18840</td><td>0.6937949</td><td>3.468974</td></tr>\n",
       "\t<tr><td>0.3</td><td>22421</td><td>0.8256675</td><td>2.752225</td></tr>\n",
       "\t<tr><td>0.4</td><td>24477</td><td>0.9013810</td><td>2.253452</td></tr>\n",
       "\t<tr><td>0.5</td><td>25846</td><td>0.9517952</td><td>1.903590</td></tr>\n",
       "\t<tr><td>0.6</td><td>26596</td><td>0.9794145</td><td>1.632357</td></tr>\n",
       "\t<tr><td>0.7</td><td>26963</td><td>0.9929295</td><td>1.418471</td></tr>\n",
       "\t<tr><td>0.8</td><td>27104</td><td>0.9981219</td><td>1.247652</td></tr>\n",
       "\t<tr><td>0.9</td><td>27150</td><td>0.9998159</td><td>1.110907</td></tr>\n",
       "\t<tr><td>1.0</td><td>27155</td><td>1.0000000</td><td>1.000000</td></tr>\n",
       "</tbody>\n",
       "</table>\n"
      ],
      "text/latex": [
       "A data.frame: 10 × 4\n",
       "\\begin{tabular}{llll}\n",
       " P & actu\\_renwd2 & gain & lift\\\\\n",
       " <dbl> & <int> & <dbl> & <dbl>\\\\\n",
       "\\hline\n",
       "\t 0.1 & 13136 & 0.4837415 & 4.837415\\\\\n",
       "\t 0.2 & 18840 & 0.6937949 & 3.468974\\\\\n",
       "\t 0.3 & 22421 & 0.8256675 & 2.752225\\\\\n",
       "\t 0.4 & 24477 & 0.9013810 & 2.253452\\\\\n",
       "\t 0.5 & 25846 & 0.9517952 & 1.903590\\\\\n",
       "\t 0.6 & 26596 & 0.9794145 & 1.632357\\\\\n",
       "\t 0.7 & 26963 & 0.9929295 & 1.418471\\\\\n",
       "\t 0.8 & 27104 & 0.9981219 & 1.247652\\\\\n",
       "\t 0.9 & 27150 & 0.9998159 & 1.110907\\\\\n",
       "\t 1.0 & 27155 & 1.0000000 & 1.000000\\\\\n",
       "\\end{tabular}\n"
      ],
      "text/markdown": [
       "\n",
       "A data.frame: 10 × 4\n",
       "\n",
       "| P &lt;dbl&gt; | actu_renwd2 &lt;int&gt; | gain &lt;dbl&gt; | lift &lt;dbl&gt; |\n",
       "|---|---|---|---|\n",
       "| 0.1 | 13136 | 0.4837415 | 4.837415 |\n",
       "| 0.2 | 18840 | 0.6937949 | 3.468974 |\n",
       "| 0.3 | 22421 | 0.8256675 | 2.752225 |\n",
       "| 0.4 | 24477 | 0.9013810 | 2.253452 |\n",
       "| 0.5 | 25846 | 0.9517952 | 1.903590 |\n",
       "| 0.6 | 26596 | 0.9794145 | 1.632357 |\n",
       "| 0.7 | 26963 | 0.9929295 | 1.418471 |\n",
       "| 0.8 | 27104 | 0.9981219 | 1.247652 |\n",
       "| 0.9 | 27150 | 0.9998159 | 1.110907 |\n",
       "| 1.0 | 27155 | 1.0000000 | 1.000000 |\n",
       "\n"
      ],
      "text/plain": [
       "   P   actu_renwd2 gain      lift    \n",
       "1  0.1 13136       0.4837415 4.837415\n",
       "2  0.2 18840       0.6937949 3.468974\n",
       "3  0.3 22421       0.8256675 2.752225\n",
       "4  0.4 24477       0.9013810 2.253452\n",
       "5  0.5 25846       0.9517952 1.903590\n",
       "6  0.6 26596       0.9794145 1.632357\n",
       "7  0.7 26963       0.9929295 1.418471\n",
       "8  0.8 27104       0.9981219 1.247652\n",
       "9  0.9 27150       0.9998159 1.110907\n",
       "10 1.0 27155       1.0000000 1.000000"
      ]
     },
     "metadata": {},
     "output_type": "display_data"
    }
   ],
   "source": [
    "lift_df"
   ]
  },
  {
   "cell_type": "code",
   "execution_count": 13,
   "metadata": {},
   "outputs": [
    {
     "data": {
      "text/html": [
       "<strong>png:</strong> 2"
      ],
      "text/latex": [
       "\\textbf{png:} 2"
      ],
      "text/markdown": [
       "**png:** 2"
      ],
      "text/plain": [
       "png \n",
       "  2 "
      ]
     },
     "metadata": {},
     "output_type": "display_data"
    }
   ],
   "source": [
    "lift_df_seg_glm_expiry_exptest <- readRDS('../../data/lift_df_seg_glm_expiry_exptest')\n",
    "plot_multigains <- plot_multigains(\n",
    "    lift_df_list=list(\n",
    "        agg_rf_f = lift_df,\n",
    "        seg_glm = lift_df_seg_glm_expiry_exptest),\n",
    "    auc_list = list(\n",
    "        agg_rf = calc_auc(lift_df),\n",
    "        seg_glm = calc_auc(lift_df_seg_glm_expiry_exptest)))\n",
    "png(file = \"../../data/output/plot_multigains_03_f.png\",\n",
    "    width = 500, height = 375)\n",
    "plot(plot_multigains)\n",
    "dev.off()"
   ]
  },
  {
   "cell_type": "code",
   "execution_count": 14,
   "metadata": {},
   "outputs": [
    {
     "data": {
      "image/png": "[encoded data removed]",
      "text/plain": [
       "plot without title"
      ]
     },
     "metadata": {
      "image/png": {
       "height": 420,
       "width": 420
      },
      "text/plain": {
       "height": 420,
       "width": 420
      }
     },
     "output_type": "display_data"
    }
   ],
   "source": [
    "plot(plot_multigains)"
   ]
  },
  {
   "cell_type": "code",
   "execution_count": 16,
   "metadata": {},
   "outputs": [
    {
     "data": {
      "text/html": [
       "<table>\n",
       "<caption>A data.frame: 10 × 4</caption>\n",
       "<thead>\n",
       "\t<tr><th scope=col>P</th><th scope=col>actu_renwd2</th><th scope=col>gain</th><th scope=col>lift</th></tr>\n",
       "\t<tr><th scope=col>&lt;dbl&gt;</th><th scope=col>&lt;int&gt;</th><th scope=col>&lt;dbl&gt;</th><th scope=col>&lt;dbl&gt;</th></tr>\n",
       "</thead>\n",
       "<tbody>\n",
       "\t<tr><td>0.1</td><td>13136</td><td>0.4837415</td><td>4.837415</td></tr>\n",
       "\t<tr><td>0.2</td><td>18840</td><td>0.6937949</td><td>3.468974</td></tr>\n",
       "\t<tr><td>0.3</td><td>22421</td><td>0.8256675</td><td>2.752225</td></tr>\n",
       "\t<tr><td>0.4</td><td>24477</td><td>0.9013810</td><td>2.253452</td></tr>\n",
       "\t<tr><td>0.5</td><td>25846</td><td>0.9517952</td><td>1.903590</td></tr>\n",
       "\t<tr><td>0.6</td><td>26596</td><td>0.9794145</td><td>1.632357</td></tr>\n",
       "\t<tr><td>0.7</td><td>26963</td><td>0.9929295</td><td>1.418471</td></tr>\n",
       "\t<tr><td>0.8</td><td>27104</td><td>0.9981219</td><td>1.247652</td></tr>\n",
       "\t<tr><td>0.9</td><td>27150</td><td>0.9998159</td><td>1.110907</td></tr>\n",
       "\t<tr><td>1.0</td><td>27155</td><td>1.0000000</td><td>1.000000</td></tr>\n",
       "</tbody>\n",
       "</table>\n"
      ],
      "text/latex": [
       "A data.frame: 10 × 4\n",
       "\\begin{tabular}{llll}\n",
       " P & actu\\_renwd2 & gain & lift\\\\\n",
       " <dbl> & <int> & <dbl> & <dbl>\\\\\n",
       "\\hline\n",
       "\t 0.1 & 13136 & 0.4837415 & 4.837415\\\\\n",
       "\t 0.2 & 18840 & 0.6937949 & 3.468974\\\\\n",
       "\t 0.3 & 22421 & 0.8256675 & 2.752225\\\\\n",
       "\t 0.4 & 24477 & 0.9013810 & 2.253452\\\\\n",
       "\t 0.5 & 25846 & 0.9517952 & 1.903590\\\\\n",
       "\t 0.6 & 26596 & 0.9794145 & 1.632357\\\\\n",
       "\t 0.7 & 26963 & 0.9929295 & 1.418471\\\\\n",
       "\t 0.8 & 27104 & 0.9981219 & 1.247652\\\\\n",
       "\t 0.9 & 27150 & 0.9998159 & 1.110907\\\\\n",
       "\t 1.0 & 27155 & 1.0000000 & 1.000000\\\\\n",
       "\\end{tabular}\n"
      ],
      "text/markdown": [
       "\n",
       "A data.frame: 10 × 4\n",
       "\n",
       "| P &lt;dbl&gt; | actu_renwd2 &lt;int&gt; | gain &lt;dbl&gt; | lift &lt;dbl&gt; |\n",
       "|---|---|---|---|\n",
       "| 0.1 | 13136 | 0.4837415 | 4.837415 |\n",
       "| 0.2 | 18840 | 0.6937949 | 3.468974 |\n",
       "| 0.3 | 22421 | 0.8256675 | 2.752225 |\n",
       "| 0.4 | 24477 | 0.9013810 | 2.253452 |\n",
       "| 0.5 | 25846 | 0.9517952 | 1.903590 |\n",
       "| 0.6 | 26596 | 0.9794145 | 1.632357 |\n",
       "| 0.7 | 26963 | 0.9929295 | 1.418471 |\n",
       "| 0.8 | 27104 | 0.9981219 | 1.247652 |\n",
       "| 0.9 | 27150 | 0.9998159 | 1.110907 |\n",
       "| 1.0 | 27155 | 1.0000000 | 1.000000 |\n",
       "\n"
      ],
      "text/plain": [
       "   P   actu_renwd2 gain      lift    \n",
       "1  0.1 13136       0.4837415 4.837415\n",
       "2  0.2 18840       0.6937949 3.468974\n",
       "3  0.3 22421       0.8256675 2.752225\n",
       "4  0.4 24477       0.9013810 2.253452\n",
       "5  0.5 25846       0.9517952 1.903590\n",
       "6  0.6 26596       0.9794145 1.632357\n",
       "7  0.7 26963       0.9929295 1.418471\n",
       "8  0.8 27104       0.9981219 1.247652\n",
       "9  0.9 27150       0.9998159 1.110907\n",
       "10 1.0 27155       1.0000000 1.000000"
      ]
     },
     "metadata": {},
     "output_type": "display_data"
    }
   ],
   "source": [
    "lift_df"
   ]
  },
  {
   "cell_type": "markdown",
   "metadata": {},
   "source": [
    "# Copy to Cloud Storage"
   ]
  },
  {
   "cell_type": "code",
   "execution_count": 15,
   "metadata": {},
   "outputs": [],
   "source": [
    "system(\"gsutil cp /home/jupyter/local/Domains_202003/data/output/* gs://data_outputt/output/\")\n",
    "system(\"mv /home/jupyter/local/Domains_202003/data/output/* /home/jupyter/local/Domains_202003/data/\")"
   ]
  },
  {
   "cell_type": "code",
   "execution_count": null,
   "metadata": {},
   "outputs": [],
   "source": []
  }
 ],
 "metadata": {
  "environment": {
   "name": "r-cpu.3-6.m48",
   "type": "gcloud",
   "uri": "gcr.io/deeplearning-platform-release/r-cpu.3-6:m48"
  },
  "kernelspec": {
   "display_name": "R",
   "language": "R",
   "name": "ir"
  },
  "language_info": {
   "codemirror_mode": "r",
   "file_extension": ".r",
   "mimetype": "text/x-r-source",
   "name": "R",
   "pygments_lexer": "r",
   "version": "3.6.3"
  }
 },
 "nbformat": 4,
 "nbformat_minor": 4
}
