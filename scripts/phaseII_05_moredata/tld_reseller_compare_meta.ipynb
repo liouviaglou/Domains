{
 "cells": [
  {
   "cell_type": "code",
   "execution_count": null,
   "metadata": {},
   "outputs": [],
   "source": []
  },
  {
   "cell_type": "markdown",
   "metadata": {},
   "source": [
    "# Load & Analyze tld_reseller model performance comparison"
   ]
  },
  {
   "cell_type": "code",
   "execution_count": null,
   "metadata": {},
   "outputs": [],
   "source": [
    "options(repr.matrix.max.cols=50, repr.matrix.max.rows=100)"
   ]
  },
  {
   "cell_type": "code",
   "execution_count": 47,
   "metadata": {},
   "outputs": [
    {
     "name": "stderr",
     "output_type": "stream",
     "text": [
      "Installing package into ‘/home/jupyter/.R/library’\n",
      "(as ‘lib’ is unspecified)\n",
      "\n"
     ]
    }
   ],
   "source": [
    "install.packages(\"pkgcond\")"
   ]
  },
  {
   "cell_type": "code",
   "execution_count": 48,
   "metadata": {},
   "outputs": [
    {
     "name": "stderr",
     "output_type": "stream",
     "text": [
      "\n",
      "Attaching package: ‘pkgcond’\n",
      "\n",
      "\n",
      "The following object is masked from ‘package:dplyr’:\n",
      "\n",
      "    collapse\n",
      "\n",
      "\n"
     ]
    },
    {
     "data": {
      "text/html": [
       "'/home/jupyter/local/Domains_202003/scripts/phaseII_05_moredata'"
      ],
      "text/latex": [
       "'/home/jupyter/local/Domains\\_202003/scripts/phaseII\\_05\\_moredata'"
      ],
      "text/markdown": [
       "'/home/jupyter/local/Domains_202003/scripts/phaseII_05_moredata'"
      ],
      "text/plain": [
       "[1] \"/home/jupyter/local/Domains_202003/scripts/phaseII_05_moredata\""
      ]
     },
     "metadata": {},
     "output_type": "display_data"
    }
   ],
   "source": [
    "library(dplyr)\n",
    "library(data.table)\n",
    "library(partykit)\n",
    "library(tictoc)\n",
    "library(caret)\n",
    "library(e1071)\n",
    "library(randomForest)\n",
    "library(ranger)\n",
    "\n",
    "#for 3d plotting\n",
    "library(akima)\n",
    "library(plotly)\n",
    "\n",
    "# for prep data\n",
    "library(rPython)\n",
    "library(stringr)\n",
    "library(pbapply)\n",
    "library(stringdist)\n",
    "library(data.table)\n",
    "library(dominanceanalysis)\n",
    "\n",
    "library(pkgcond)\n",
    "\n",
    "getwd()"
   ]
  },
  {
   "cell_type": "code",
   "execution_count": 1,
   "metadata": {},
   "outputs": [
    {
     "name": "stderr",
     "output_type": "stream",
     "text": [
      "\n",
      "Attaching package: ‘dplyr’\n",
      "\n",
      "\n",
      "The following objects are masked from ‘package:stats’:\n",
      "\n",
      "    filter, lag\n",
      "\n",
      "\n",
      "The following objects are masked from ‘package:base’:\n",
      "\n",
      "    intersect, setdiff, setequal, union\n",
      "\n",
      "\n",
      "\n",
      "Attaching package: ‘data.table’\n",
      "\n",
      "\n",
      "The following objects are masked from ‘package:dplyr’:\n",
      "\n",
      "    between, first, last\n",
      "\n",
      "\n"
     ]
    }
   ],
   "source": [
    "\n",
    "source('../orig/functions.R')\n",
    "\n",
    "source('../orig/functions_models.R')\n",
    "\n",
    "source('../phaseII_03_forest/functions_eval.R')\n",
    "\n",
    "\n",
    "source('../phaseII_03_forest/load_prep_data_expiry.R')\n",
    "\n",
    "# expiry_train_prepped_2_1 (list, less df's w/ 0 obs)\n",
    "# expiry_test_prepped_2_1  (list, less df's w/ 0 obs)\n",
    "# expiry_train_df_1 (above, rbound)\n",
    "# expiry_test_df_1 (above, rbound)\n",
    "# expiry_train_df_sub (subset vars)                                        \n",
    "# expiry_test_df_sub (subset vars)"
   ]
  },
  {
   "cell_type": "markdown",
   "metadata": {},
   "source": [
    "## List tld_reseller labels"
   ]
  },
  {
   "cell_type": "code",
   "execution_count": 4,
   "metadata": {},
   "outputs": [
    {
     "data": {
      "text/html": [
       "<table>\n",
       "<caption>A grouped_df: 6 × 3</caption>\n",
       "<thead>\n",
       "\t<tr><th scope=col>tld_registrar_index</th><th scope=col>reseller</th><th scope=col>n</th></tr>\n",
       "\t<tr><th scope=col>&lt;chr&gt;</th><th scope=col>&lt;chr&gt;</th><th scope=col>&lt;int&gt;</th></tr>\n",
       "</thead>\n",
       "<tbody>\n",
       "\t<tr><td>sitegmo       </td><td>gmo      </td><td>106569</td></tr>\n",
       "\t<tr><td>funalibaba    </td><td>alibaba  </td><td> 72690</td></tr>\n",
       "\t<tr><td>sitenamecheap </td><td>namecheap</td><td> 53536</td></tr>\n",
       "\t<tr><td>pwnamecheap   </td><td>namecheap</td><td> 50470</td></tr>\n",
       "\t<tr><td>onlinego daddy</td><td>go daddy </td><td> 42162</td></tr>\n",
       "\t<tr><td>sitegandi sas </td><td>gandi sas</td><td> 35309</td></tr>\n",
       "</tbody>\n",
       "</table>\n"
      ],
      "text/latex": [
       "A grouped\\_df: 6 × 3\n",
       "\\begin{tabular}{lll}\n",
       " tld\\_registrar\\_index & reseller & n\\\\\n",
       " <chr> & <chr> & <int>\\\\\n",
       "\\hline\n",
       "\t sitegmo        & gmo       & 106569\\\\\n",
       "\t funalibaba     & alibaba   &  72690\\\\\n",
       "\t sitenamecheap  & namecheap &  53536\\\\\n",
       "\t pwnamecheap    & namecheap &  50470\\\\\n",
       "\t onlinego daddy & go daddy  &  42162\\\\\n",
       "\t sitegandi sas  & gandi sas &  35309\\\\\n",
       "\\end{tabular}\n"
      ],
      "text/markdown": [
       "\n",
       "A grouped_df: 6 × 3\n",
       "\n",
       "| tld_registrar_index &lt;chr&gt; | reseller &lt;chr&gt; | n &lt;int&gt; |\n",
       "|---|---|---|\n",
       "| sitegmo        | gmo       | 106569 |\n",
       "| funalibaba     | alibaba   |  72690 |\n",
       "| sitenamecheap  | namecheap |  53536 |\n",
       "| pwnamecheap    | namecheap |  50470 |\n",
       "| onlinego daddy | go daddy  |  42162 |\n",
       "| sitegandi sas  | gandi sas |  35309 |\n",
       "\n"
      ],
      "text/plain": [
       "  tld_registrar_index reseller  n     \n",
       "1 sitegmo             gmo       106569\n",
       "2 funalibaba          alibaba    72690\n",
       "3 sitenamecheap       namecheap  53536\n",
       "4 pwnamecheap         namecheap  50470\n",
       "5 onlinego daddy      go daddy   42162\n",
       "6 sitegandi sas       gandi sas  35309"
      ]
     },
     "metadata": {},
     "output_type": "display_data"
    }
   ],
   "source": [
    "tld_reseller_lookup_df = expiry_train_df_1 %>% group_by(tld_registrar_index, reseller) %>% tally() %>% arrange(desc(n))\n",
    "tld_reseller_lookup_df %>% head()"
   ]
  },
  {
   "cell_type": "markdown",
   "metadata": {},
   "source": [
    "## Load script results"
   ]
  },
  {
   "cell_type": "code",
   "execution_count": 5,
   "metadata": {},
   "outputs": [
    {
     "data": {
      "text/html": [
       "<style>\n",
       ".list-inline {list-style: none; margin:0; padding: 0}\n",
       ".list-inline>li {display: inline-block}\n",
       ".list-inline>li:not(:last-child)::after {content: \"\\00b7\"; padding: 0 .5ex}\n",
       "</style>\n",
       "<ol class=list-inline><li>'apply_standard_adjustments'</li><li>'basic_prep_domain_data'</li><li>'build_model_first_renewal'</li><li>'build_model_first_renewal_agg'</li><li>'build_model_first_renewal_agg_plus'</li><li>'build_model_first_renewal_reg'</li><li>'build_model_second_renewal'</li><li>'calc_auc'</li><li>'change.colnames'</li><li>'chart_lift'</li><li>'expiry_test_df_1'</li><li>'expiry_test_df_sub'</li><li>'expiry_test_prepped_2'</li><li>'expiry_test_prepped_2_1'</li><li>'expiry_train_df_1'</li><li>'expiry_train_df_sub'</li><li>'expiry_train_prepped_2'</li><li>'expiry_train_prepped_2_1'</li><li>'get_cluster_data'</li><li>'get_cluster_large'</li><li>'get_df_npv'</li><li>'get_domain_npv'</li><li>'get_domain_type'</li><li>'get_pattern_score'</li><li>'get_renewal_status'</li><li>'intersect2'</li><li>'list_predict_first_renewal'</li><li>'list_predict_second_renewal'</li><li>'mass_build_model_first_renewal'</li><li>'mass_build_model_second_renewal'</li><li>'mass_predict_first_renewal'</li><li>'mass_predict_second_renewal'</li><li>'mass_prep_data'</li><li>'na.zero'</li><li>'newreg_data_prep'</li><li>'newreg_data_rename'</li><li>'newreg_data_select'</li><li>'plot_gains'</li><li>'plot_multigains'</li><li>'plot_multigains_file'</li><li>'plot_multigains_res'</li><li>'predict_first_renewal'</li><li>'predict_first_renewal_agg'</li><li>'predict_first_renewal_agg_plus'</li><li>'predict_first_renewal_reg'</li><li>'predict_second_renewal'</li><li>'prep_domain_data'</li><li>'save_object'</li><li>'tld_reseller_list'</li><li>'tld_reseller_lookup_df'</li><li>'unzip.file'</li></ol>\n"
      ],
      "text/latex": [
       "\\begin{enumerate*}\n",
       "\\item 'apply\\_standard\\_adjustments'\n",
       "\\item 'basic\\_prep\\_domain\\_data'\n",
       "\\item 'build\\_model\\_first\\_renewal'\n",
       "\\item 'build\\_model\\_first\\_renewal\\_agg'\n",
       "\\item 'build\\_model\\_first\\_renewal\\_agg\\_plus'\n",
       "\\item 'build\\_model\\_first\\_renewal\\_reg'\n",
       "\\item 'build\\_model\\_second\\_renewal'\n",
       "\\item 'calc\\_auc'\n",
       "\\item 'change.colnames'\n",
       "\\item 'chart\\_lift'\n",
       "\\item 'expiry\\_test\\_df\\_1'\n",
       "\\item 'expiry\\_test\\_df\\_sub'\n",
       "\\item 'expiry\\_test\\_prepped\\_2'\n",
       "\\item 'expiry\\_test\\_prepped\\_2\\_1'\n",
       "\\item 'expiry\\_train\\_df\\_1'\n",
       "\\item 'expiry\\_train\\_df\\_sub'\n",
       "\\item 'expiry\\_train\\_prepped\\_2'\n",
       "\\item 'expiry\\_train\\_prepped\\_2\\_1'\n",
       "\\item 'get\\_cluster\\_data'\n",
       "\\item 'get\\_cluster\\_large'\n",
       "\\item 'get\\_df\\_npv'\n",
       "\\item 'get\\_domain\\_npv'\n",
       "\\item 'get\\_domain\\_type'\n",
       "\\item 'get\\_pattern\\_score'\n",
       "\\item 'get\\_renewal\\_status'\n",
       "\\item 'intersect2'\n",
       "\\item 'list\\_predict\\_first\\_renewal'\n",
       "\\item 'list\\_predict\\_second\\_renewal'\n",
       "\\item 'mass\\_build\\_model\\_first\\_renewal'\n",
       "\\item 'mass\\_build\\_model\\_second\\_renewal'\n",
       "\\item 'mass\\_predict\\_first\\_renewal'\n",
       "\\item 'mass\\_predict\\_second\\_renewal'\n",
       "\\item 'mass\\_prep\\_data'\n",
       "\\item 'na.zero'\n",
       "\\item 'newreg\\_data\\_prep'\n",
       "\\item 'newreg\\_data\\_rename'\n",
       "\\item 'newreg\\_data\\_select'\n",
       "\\item 'plot\\_gains'\n",
       "\\item 'plot\\_multigains'\n",
       "\\item 'plot\\_multigains\\_file'\n",
       "\\item 'plot\\_multigains\\_res'\n",
       "\\item 'predict\\_first\\_renewal'\n",
       "\\item 'predict\\_first\\_renewal\\_agg'\n",
       "\\item 'predict\\_first\\_renewal\\_agg\\_plus'\n",
       "\\item 'predict\\_first\\_renewal\\_reg'\n",
       "\\item 'predict\\_second\\_renewal'\n",
       "\\item 'prep\\_domain\\_data'\n",
       "\\item 'save\\_object'\n",
       "\\item 'tld\\_reseller\\_list'\n",
       "\\item 'tld\\_reseller\\_lookup\\_df'\n",
       "\\item 'unzip.file'\n",
       "\\end{enumerate*}\n"
      ],
      "text/markdown": [
       "1. 'apply_standard_adjustments'\n",
       "2. 'basic_prep_domain_data'\n",
       "3. 'build_model_first_renewal'\n",
       "4. 'build_model_first_renewal_agg'\n",
       "5. 'build_model_first_renewal_agg_plus'\n",
       "6. 'build_model_first_renewal_reg'\n",
       "7. 'build_model_second_renewal'\n",
       "8. 'calc_auc'\n",
       "9. 'change.colnames'\n",
       "10. 'chart_lift'\n",
       "11. 'expiry_test_df_1'\n",
       "12. 'expiry_test_df_sub'\n",
       "13. 'expiry_test_prepped_2'\n",
       "14. 'expiry_test_prepped_2_1'\n",
       "15. 'expiry_train_df_1'\n",
       "16. 'expiry_train_df_sub'\n",
       "17. 'expiry_train_prepped_2'\n",
       "18. 'expiry_train_prepped_2_1'\n",
       "19. 'get_cluster_data'\n",
       "20. 'get_cluster_large'\n",
       "21. 'get_df_npv'\n",
       "22. 'get_domain_npv'\n",
       "23. 'get_domain_type'\n",
       "24. 'get_pattern_score'\n",
       "25. 'get_renewal_status'\n",
       "26. 'intersect2'\n",
       "27. 'list_predict_first_renewal'\n",
       "28. 'list_predict_second_renewal'\n",
       "29. 'mass_build_model_first_renewal'\n",
       "30. 'mass_build_model_second_renewal'\n",
       "31. 'mass_predict_first_renewal'\n",
       "32. 'mass_predict_second_renewal'\n",
       "33. 'mass_prep_data'\n",
       "34. 'na.zero'\n",
       "35. 'newreg_data_prep'\n",
       "36. 'newreg_data_rename'\n",
       "37. 'newreg_data_select'\n",
       "38. 'plot_gains'\n",
       "39. 'plot_multigains'\n",
       "40. 'plot_multigains_file'\n",
       "41. 'plot_multigains_res'\n",
       "42. 'predict_first_renewal'\n",
       "43. 'predict_first_renewal_agg'\n",
       "44. 'predict_first_renewal_agg_plus'\n",
       "45. 'predict_first_renewal_reg'\n",
       "46. 'predict_second_renewal'\n",
       "47. 'prep_domain_data'\n",
       "48. 'save_object'\n",
       "49. 'tld_reseller_list'\n",
       "50. 'tld_reseller_lookup_df'\n",
       "51. 'unzip.file'\n",
       "\n",
       "\n"
      ],
      "text/plain": [
       " [1] \"apply_standard_adjustments\"         \"basic_prep_domain_data\"            \n",
       " [3] \"build_model_first_renewal\"          \"build_model_first_renewal_agg\"     \n",
       " [5] \"build_model_first_renewal_agg_plus\" \"build_model_first_renewal_reg\"     \n",
       " [7] \"build_model_second_renewal\"         \"calc_auc\"                          \n",
       " [9] \"change.colnames\"                    \"chart_lift\"                        \n",
       "[11] \"expiry_test_df_1\"                   \"expiry_test_df_sub\"                \n",
       "[13] \"expiry_test_prepped_2\"              \"expiry_test_prepped_2_1\"           \n",
       "[15] \"expiry_train_df_1\"                  \"expiry_train_df_sub\"               \n",
       "[17] \"expiry_train_prepped_2\"             \"expiry_train_prepped_2_1\"          \n",
       "[19] \"get_cluster_data\"                   \"get_cluster_large\"                 \n",
       "[21] \"get_df_npv\"                         \"get_domain_npv\"                    \n",
       "[23] \"get_domain_type\"                    \"get_pattern_score\"                 \n",
       "[25] \"get_renewal_status\"                 \"intersect2\"                        \n",
       "[27] \"list_predict_first_renewal\"         \"list_predict_second_renewal\"       \n",
       "[29] \"mass_build_model_first_renewal\"     \"mass_build_model_second_renewal\"   \n",
       "[31] \"mass_predict_first_renewal\"         \"mass_predict_second_renewal\"       \n",
       "[33] \"mass_prep_data\"                     \"na.zero\"                           \n",
       "[35] \"newreg_data_prep\"                   \"newreg_data_rename\"                \n",
       "[37] \"newreg_data_select\"                 \"plot_gains\"                        \n",
       "[39] \"plot_multigains\"                    \"plot_multigains_file\"              \n",
       "[41] \"plot_multigains_res\"                \"predict_first_renewal\"             \n",
       "[43] \"predict_first_renewal_agg\"          \"predict_first_renewal_agg_plus\"    \n",
       "[45] \"predict_first_renewal_reg\"          \"predict_second_renewal\"            \n",
       "[47] \"prep_domain_data\"                   \"save_object\"                       \n",
       "[49] \"tld_reseller_list\"                  \"tld_reseller_lookup_df\"            \n",
       "[51] \"unzip.file\"                        "
      ]
     },
     "metadata": {},
     "output_type": "display_data"
    }
   ],
   "source": [
    "ls()"
   ]
  },
  {
   "cell_type": "code",
   "execution_count": 11,
   "metadata": {},
   "outputs": [],
   "source": [
    "load(\"../../data/tld_reseller_compare_list_0001_0817\")\n",
    "tld_reseller_compare_list_0001_0817 <- return_list\n",
    "load(\"../../data/tld_reseller_compare_list_0001_0817_seg_rf\")\n",
    "tld_reseller_compare_list_0001_0817_seg_rf <- return_list\n",
    "load(\"../../data/tld_reseller_compare_list_0818_1723.RData\")\n",
    "tld_reseller_compare_list_0818_1723.RData <- return_list"
   ]
  },
  {
   "cell_type": "code",
   "execution_count": 16,
   "metadata": {},
   "outputs": [
    {
     "data": {
      "text/html": [
       "817"
      ],
      "text/latex": [
       "817"
      ],
      "text/markdown": [
       "817"
      ],
      "text/plain": [
       "[1] 817"
      ]
     },
     "metadata": {},
     "output_type": "display_data"
    },
    {
     "data": {
      "text/html": [
       "6"
      ],
      "text/latex": [
       "6"
      ],
      "text/markdown": [
       "6"
      ],
      "text/plain": [
       "[1] 6"
      ]
     },
     "metadata": {},
     "output_type": "display_data"
    },
    {
     "data": {
      "text/html": [
       "<style>\n",
       ".list-inline {list-style: none; margin:0; padding: 0}\n",
       ".list-inline>li {display: inline-block}\n",
       ".list-inline>li:not(:last-child)::after {content: \"\\00b7\"; padding: 0 .5ex}\n",
       "</style>\n",
       "<ol class=list-inline><li>'pred_df_seg2_glm'</li><li>'pred_df_seg_glm'</li><li>'pred_df_agg_glm'</li><li>'pred_df_seg2_rf'</li><li>'pred_df_seg_rf'</li><li>'pred_df_agg_rf'</li></ol>\n"
      ],
      "text/latex": [
       "\\begin{enumerate*}\n",
       "\\item 'pred\\_df\\_seg2\\_glm'\n",
       "\\item 'pred\\_df\\_seg\\_glm'\n",
       "\\item 'pred\\_df\\_agg\\_glm'\n",
       "\\item 'pred\\_df\\_seg2\\_rf'\n",
       "\\item 'pred\\_df\\_seg\\_rf'\n",
       "\\item 'pred\\_df\\_agg\\_rf'\n",
       "\\end{enumerate*}\n"
      ],
      "text/markdown": [
       "1. 'pred_df_seg2_glm'\n",
       "2. 'pred_df_seg_glm'\n",
       "3. 'pred_df_agg_glm'\n",
       "4. 'pred_df_seg2_rf'\n",
       "5. 'pred_df_seg_rf'\n",
       "6. 'pred_df_agg_rf'\n",
       "\n",
       "\n"
      ],
      "text/plain": [
       "[1] \"pred_df_seg2_glm\" \"pred_df_seg_glm\"  \"pred_df_agg_glm\"  \"pred_df_seg2_rf\" \n",
       "[5] \"pred_df_seg_rf\"   \"pred_df_agg_rf\"  "
      ]
     },
     "metadata": {},
     "output_type": "display_data"
    }
   ],
   "source": [
    "length(tld_reseller_compare_list_0001_0817)\n",
    "length(tld_reseller_compare_list_0001_0817[[1]])\n",
    "names(tld_reseller_compare_list_0001_0817[[1]])"
   ]
  },
  {
   "cell_type": "code",
   "execution_count": 18,
   "metadata": {},
   "outputs": [
    {
     "data": {
      "text/html": [
       "817"
      ],
      "text/latex": [
       "817"
      ],
      "text/markdown": [
       "817"
      ],
      "text/plain": [
       "[1] 817"
      ]
     },
     "metadata": {},
     "output_type": "display_data"
    },
    {
     "data": {
      "text/html": [
       "1"
      ],
      "text/latex": [
       "1"
      ],
      "text/markdown": [
       "1"
      ],
      "text/plain": [
       "[1] 1"
      ]
     },
     "metadata": {},
     "output_type": "display_data"
    },
    {
     "data": {
      "text/html": [
       "'pred_df_seg_rf'"
      ],
      "text/latex": [
       "'pred\\_df\\_seg\\_rf'"
      ],
      "text/markdown": [
       "'pred_df_seg_rf'"
      ],
      "text/plain": [
       "[1] \"pred_df_seg_rf\""
      ]
     },
     "metadata": {},
     "output_type": "display_data"
    }
   ],
   "source": [
    "length(tld_reseller_compare_list_0001_0817_seg_rf)\n",
    "length(tld_reseller_compare_list_0001_0817_seg_rf[[1]])\n",
    "names(tld_reseller_compare_list_0001_0817_seg_rf[[1]])"
   ]
  },
  {
   "cell_type": "code",
   "execution_count": 14,
   "metadata": {},
   "outputs": [
    {
     "data": {
      "text/html": [
       "906"
      ],
      "text/latex": [
       "906"
      ],
      "text/markdown": [
       "906"
      ],
      "text/plain": [
       "[1] 906"
      ]
     },
     "metadata": {},
     "output_type": "display_data"
    }
   ],
   "source": [
    "length(tld_reseller_compare_list_0818_1723.RData)"
   ]
  },
  {
   "cell_type": "markdown",
   "metadata": {},
   "source": [
    "## Munge List of Lists to List of Dataframes"
   ]
  },
  {
   "cell_type": "code",
   "execution_count": 141,
   "metadata": {},
   "outputs": [],
   "source": [
    "test_funct <- function(list_elem){\n",
    "    df <- bind_cols(list_elem)\n",
    "    if (ncol(df)>6) {\n",
    "        df <- df[c(1,2,4,6,8,10,12)]\n",
    "        names(df) <- c(\"actual\",names(list_elem))\n",
    "    } else {\n",
    "        df <- df\n",
    "        df$actual <- NA\n",
    "        df <- df %>% select(actual, everything())\n",
    "    }\n",
    "        \n",
    "\n",
    "    return(df)\n",
    "}"
   ]
  },
  {
   "cell_type": "code",
   "execution_count": 142,
   "metadata": {},
   "outputs": [],
   "source": [
    "suppress_messages(compare_df_list_0001_0817 <- lapply(tld_reseller_compare_list_0001_0817, test_funct))"
   ]
  },
  {
   "cell_type": "code",
   "execution_count": 143,
   "metadata": {},
   "outputs": [],
   "source": [
    "for (i in 1:length(tld_reseller_compare_list_0001_0817)){\n",
    "    compare_df_list_0001_0817[[i]] <- cbind(compare_df_list_0001_0817[[i]], tld_reseller_compare_list_0001_0817_seg_rf[[i]])\n",
    "    compare_df_list_0001_0817[[i]] <- compare_df_list_0001_0817[[i]][c(1:5,7,9)]\n",
    "    names(compare_df_list_0001_0817[[i]]) <- c('actual','pred_df_seg2_glm','pred_df_seg_glm','pred_df_agg_glm','pred_df_seg2_rf',\n",
    "                                          'pred_df_agg_rf','pred_df_seg_rf')\n",
    "    compare_df_list_0001_0817[[i]] <- compare_df_list_0001_0817[[i]][c('actual',\n",
    "                                                             'pred_df_seg2_glm','pred_df_seg_glm','pred_df_agg_glm',\n",
    "                                                             'pred_df_seg2_rf','pred_df_seg_rf','pred_df_agg_rf')]\n",
    "}"
   ]
  },
  {
   "cell_type": "code",
   "execution_count": 144,
   "metadata": {},
   "outputs": [],
   "source": [
    "suppress_messages(compare_df_list_0818_1723 <- lapply(tld_reseller_compare_list_0818_1723.RData, test_funct))"
   ]
  },
  {
   "cell_type": "code",
   "execution_count": 149,
   "metadata": {},
   "outputs": [
    {
     "data": {
      "text/html": [
       "817"
      ],
      "text/latex": [
       "817"
      ],
      "text/markdown": [
       "817"
      ],
      "text/plain": [
       "[1] 817"
      ]
     },
     "metadata": {},
     "output_type": "display_data"
    },
    {
     "data": {
      "text/html": [
       "906"
      ],
      "text/latex": [
       "906"
      ],
      "text/markdown": [
       "906"
      ],
      "text/plain": [
       "[1] 906"
      ]
     },
     "metadata": {},
     "output_type": "display_data"
    },
    {
     "data": {
      "text/html": [
       "1723"
      ],
      "text/latex": [
       "1723"
      ],
      "text/markdown": [
       "1723"
      ],
      "text/plain": [
       "[1] 1723"
      ]
     },
     "metadata": {},
     "output_type": "display_data"
    }
   ],
   "source": [
    "length(compare_df_list_0001_0817)\n",
    "length(compare_df_list_0818_1723)\n",
    "\n",
    "compare_df_list_0001_1723 <- append(compare_df_list_0001_0817,compare_df_list_0818_1723)\n",
    "length(compare_df_list_0001_1723)\n"
   ]
  },
  {
   "cell_type": "code",
   "execution_count": null,
   "metadata": {},
   "outputs": [],
   "source": []
  }
 ],
 "metadata": {
  "environment": {
   "name": "r-cpu.3-6.m48",
   "type": "gcloud",
   "uri": "gcr.io/deeplearning-platform-release/r-cpu.3-6:m48"
  },
  "kernelspec": {
   "display_name": "R",
   "language": "R",
   "name": "ir"
  },
  "language_info": {
   "codemirror_mode": "r",
   "file_extension": ".r",
   "mimetype": "text/x-r-source",
   "name": "R",
   "pygments_lexer": "r",
   "version": "3.6.3"
  }
 },
 "nbformat": 4,
 "nbformat_minor": 4
}
