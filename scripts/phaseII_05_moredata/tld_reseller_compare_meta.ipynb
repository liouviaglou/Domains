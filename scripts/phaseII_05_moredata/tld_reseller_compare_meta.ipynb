{
 "cells": [
  {
   "cell_type": "code",
   "execution_count": null,
   "metadata": {},
   "outputs": [],
   "source": []
  },
  {
   "cell_type": "markdown",
   "metadata": {},
   "source": [
    "# Load & Analyze tld_reseller model performance comparison"
   ]
  },
  {
   "cell_type": "code",
   "execution_count": 3,
   "metadata": {},
   "outputs": [],
   "source": [
    "options(repr.matrix.max.cols=50, repr.matrix.max.rows=100)"
   ]
  },
  {
   "cell_type": "code",
   "execution_count": 4,
   "metadata": {},
   "outputs": [],
   "source": [
    "# install.packages(\"pkgcond\")"
   ]
  },
  {
   "cell_type": "code",
   "execution_count": 5,
   "metadata": {},
   "outputs": [
    {
     "name": "stderr",
     "output_type": "stream",
     "text": [
      "\n",
      "Attaching package: ‘dplyr’\n",
      "\n",
      "\n",
      "The following objects are masked from ‘package:stats’:\n",
      "\n",
      "    filter, lag\n",
      "\n",
      "\n",
      "The following objects are masked from ‘package:base’:\n",
      "\n",
      "    intersect, setdiff, setequal, union\n",
      "\n",
      "\n",
      "\n",
      "Attaching package: ‘data.table’\n",
      "\n",
      "\n",
      "The following objects are masked from ‘package:dplyr’:\n",
      "\n",
      "    between, first, last\n",
      "\n",
      "\n",
      "Loading required package: grid\n",
      "\n",
      "Loading required package: libcoin\n",
      "\n",
      "Loading required package: mvtnorm\n",
      "\n",
      "Loading required package: lattice\n",
      "\n",
      "Loading required package: ggplot2\n",
      "\n",
      "randomForest 4.6-14\n",
      "\n",
      "Type rfNews() to see new features/changes/bug fixes.\n",
      "\n",
      "\n",
      "Attaching package: ‘randomForest’\n",
      "\n",
      "\n",
      "The following object is masked from ‘package:ggplot2’:\n",
      "\n",
      "    margin\n",
      "\n",
      "\n",
      "The following object is masked from ‘package:dplyr’:\n",
      "\n",
      "    combine\n",
      "\n",
      "\n",
      "\n",
      "Attaching package: ‘ranger’\n",
      "\n",
      "\n",
      "The following object is masked from ‘package:randomForest’:\n",
      "\n",
      "    importance\n",
      "\n",
      "\n",
      "\n",
      "Attaching package: ‘plotly’\n",
      "\n",
      "\n",
      "The following object is masked from ‘package:ggplot2’:\n",
      "\n",
      "    last_plot\n",
      "\n",
      "\n",
      "The following object is masked from ‘package:stats’:\n",
      "\n",
      "    filter\n",
      "\n",
      "\n",
      "The following object is masked from ‘package:graphics’:\n",
      "\n",
      "    layout\n",
      "\n",
      "\n",
      "Loading required package: RJSONIO\n",
      "\n",
      "\n",
      "Attaching package: ‘pkgcond’\n",
      "\n",
      "\n",
      "The following object is masked from ‘package:dplyr’:\n",
      "\n",
      "    collapse\n",
      "\n",
      "\n"
     ]
    },
    {
     "data": {
      "text/html": [
       "'/home/jupyter/local/Domains_202003/scripts/phaseII_05_moredata'"
      ],
      "text/latex": [
       "'/home/jupyter/local/Domains\\_202003/scripts/phaseII\\_05\\_moredata'"
      ],
      "text/markdown": [
       "'/home/jupyter/local/Domains_202003/scripts/phaseII_05_moredata'"
      ],
      "text/plain": [
       "[1] \"/home/jupyter/local/Domains_202003/scripts/phaseII_05_moredata\""
      ]
     },
     "metadata": {},
     "output_type": "display_data"
    }
   ],
   "source": [
    "library(dplyr)\n",
    "library(data.table)\n",
    "library(partykit)\n",
    "library(tictoc)\n",
    "library(caret)\n",
    "library(e1071)\n",
    "library(randomForest)\n",
    "library(ranger)\n",
    "\n",
    "#for 3d plotting\n",
    "library(akima)\n",
    "library(plotly)\n",
    "\n",
    "# for prep data\n",
    "library(rPython)\n",
    "library(stringr)\n",
    "library(pbapply)\n",
    "library(stringdist)\n",
    "library(data.table)\n",
    "library(dominanceanalysis)\n",
    "\n",
    "library(pkgcond)\n",
    "\n",
    "getwd()"
   ]
  },
  {
   "cell_type": "code",
   "execution_count": 6,
   "metadata": {},
   "outputs": [],
   "source": [
    "\n",
    "source('../orig/functions.R')\n",
    "\n",
    "source('../orig/functions_models.R')\n",
    "\n",
    "source('../phaseII_03_forest/functions_eval.R')\n",
    "\n",
    "\n",
    "source('../phaseII_03_forest/load_prep_data_expiry.R')\n",
    "\n",
    "# expiry_train_prepped_2_1 (list, less df's w/ 0 obs)\n",
    "# expiry_test_prepped_2_1  (list, less df's w/ 0 obs)\n",
    "# expiry_train_df_1 (above, rbound)\n",
    "# expiry_test_df_1 (above, rbound)\n",
    "# expiry_train_df_sub (subset vars)                                        \n",
    "# expiry_test_df_sub (subset vars)"
   ]
  },
  {
   "cell_type": "markdown",
   "metadata": {},
   "source": [
    "## List tld_reseller labels"
   ]
  },
  {
   "cell_type": "code",
   "execution_count": 7,
   "metadata": {},
   "outputs": [
    {
     "data": {
      "text/html": [
       "<table>\n",
       "<caption>A grouped_df: 6 × 3</caption>\n",
       "<thead>\n",
       "\t<tr><th scope=col>tld_registrar_index</th><th scope=col>reseller</th><th scope=col>n</th></tr>\n",
       "\t<tr><th scope=col>&lt;chr&gt;</th><th scope=col>&lt;chr&gt;</th><th scope=col>&lt;int&gt;</th></tr>\n",
       "</thead>\n",
       "<tbody>\n",
       "\t<tr><td>sitegmo       </td><td>gmo      </td><td>106569</td></tr>\n",
       "\t<tr><td>funalibaba    </td><td>alibaba  </td><td> 72690</td></tr>\n",
       "\t<tr><td>sitenamecheap </td><td>namecheap</td><td> 53536</td></tr>\n",
       "\t<tr><td>pwnamecheap   </td><td>namecheap</td><td> 50470</td></tr>\n",
       "\t<tr><td>onlinego daddy</td><td>go daddy </td><td> 42162</td></tr>\n",
       "\t<tr><td>sitegandi sas </td><td>gandi sas</td><td> 35309</td></tr>\n",
       "</tbody>\n",
       "</table>\n"
      ],
      "text/latex": [
       "A grouped\\_df: 6 × 3\n",
       "\\begin{tabular}{lll}\n",
       " tld\\_registrar\\_index & reseller & n\\\\\n",
       " <chr> & <chr> & <int>\\\\\n",
       "\\hline\n",
       "\t sitegmo        & gmo       & 106569\\\\\n",
       "\t funalibaba     & alibaba   &  72690\\\\\n",
       "\t sitenamecheap  & namecheap &  53536\\\\\n",
       "\t pwnamecheap    & namecheap &  50470\\\\\n",
       "\t onlinego daddy & go daddy  &  42162\\\\\n",
       "\t sitegandi sas  & gandi sas &  35309\\\\\n",
       "\\end{tabular}\n"
      ],
      "text/markdown": [
       "\n",
       "A grouped_df: 6 × 3\n",
       "\n",
       "| tld_registrar_index &lt;chr&gt; | reseller &lt;chr&gt; | n &lt;int&gt; |\n",
       "|---|---|---|\n",
       "| sitegmo        | gmo       | 106569 |\n",
       "| funalibaba     | alibaba   |  72690 |\n",
       "| sitenamecheap  | namecheap |  53536 |\n",
       "| pwnamecheap    | namecheap |  50470 |\n",
       "| onlinego daddy | go daddy  |  42162 |\n",
       "| sitegandi sas  | gandi sas |  35309 |\n",
       "\n"
      ],
      "text/plain": [
       "  tld_registrar_index reseller  n     \n",
       "1 sitegmo             gmo       106569\n",
       "2 funalibaba          alibaba    72690\n",
       "3 sitenamecheap       namecheap  53536\n",
       "4 pwnamecheap         namecheap  50470\n",
       "5 onlinego daddy      go daddy   42162\n",
       "6 sitegandi sas       gandi sas  35309"
      ]
     },
     "metadata": {},
     "output_type": "display_data"
    }
   ],
   "source": [
    "tld_reseller_lookup_df = expiry_train_df_1 %>% group_by(tld_registrar_index, reseller) %>% tally() %>% arrange(desc(n))\n",
    "tld_reseller_lookup_df %>% head()"
   ]
  },
  {
   "cell_type": "markdown",
   "metadata": {},
   "source": [
    "## Load script results"
   ]
  },
  {
   "cell_type": "code",
   "execution_count": 8,
   "metadata": {},
   "outputs": [
    {
     "data": {
      "text/html": [
       "<style>\n",
       ".list-inline {list-style: none; margin:0; padding: 0}\n",
       ".list-inline>li {display: inline-block}\n",
       ".list-inline>li:not(:last-child)::after {content: \"\\00b7\"; padding: 0 .5ex}\n",
       "</style>\n",
       "<ol class=list-inline><li>'apply_standard_adjustments'</li><li>'basic_prep_domain_data'</li><li>'build_model_first_renewal'</li><li>'build_model_first_renewal_agg'</li><li>'build_model_first_renewal_agg_plus'</li><li>'build_model_first_renewal_reg'</li><li>'build_model_second_renewal'</li><li>'calc_auc'</li><li>'change.colnames'</li><li>'chart_lift'</li><li>'expiry_test_df_1'</li><li>'expiry_test_df_sub'</li><li>'expiry_test_prepped_2'</li><li>'expiry_test_prepped_2_1'</li><li>'expiry_train_df_1'</li><li>'expiry_train_df_sub'</li><li>'expiry_train_prepped_2'</li><li>'expiry_train_prepped_2_1'</li><li>'get_cluster_data'</li><li>'get_cluster_large'</li><li>'get_df_npv'</li><li>'get_domain_npv'</li><li>'get_domain_type'</li><li>'get_pattern_score'</li><li>'get_renewal_status'</li><li>'intersect2'</li><li>'list_predict_first_renewal'</li><li>'list_predict_second_renewal'</li><li>'mass_build_model_first_renewal'</li><li>'mass_build_model_second_renewal'</li><li>'mass_predict_first_renewal'</li><li>'mass_predict_second_renewal'</li><li>'mass_prep_data'</li><li>'na.zero'</li><li>'newreg_data_prep'</li><li>'newreg_data_rename'</li><li>'newreg_data_select'</li><li>'plot_gains'</li><li>'plot_multigains'</li><li>'plot_multigains_file'</li><li>'plot_multigains_res'</li><li>'predict_first_renewal'</li><li>'predict_first_renewal_agg'</li><li>'predict_first_renewal_agg_plus'</li><li>'predict_first_renewal_reg'</li><li>'predict_second_renewal'</li><li>'prep_domain_data'</li><li>'save_object'</li><li>'tld_reseller_lookup_df'</li><li>'unzip.file'</li></ol>\n"
      ],
      "text/latex": [
       "\\begin{enumerate*}\n",
       "\\item 'apply\\_standard\\_adjustments'\n",
       "\\item 'basic\\_prep\\_domain\\_data'\n",
       "\\item 'build\\_model\\_first\\_renewal'\n",
       "\\item 'build\\_model\\_first\\_renewal\\_agg'\n",
       "\\item 'build\\_model\\_first\\_renewal\\_agg\\_plus'\n",
       "\\item 'build\\_model\\_first\\_renewal\\_reg'\n",
       "\\item 'build\\_model\\_second\\_renewal'\n",
       "\\item 'calc\\_auc'\n",
       "\\item 'change.colnames'\n",
       "\\item 'chart\\_lift'\n",
       "\\item 'expiry\\_test\\_df\\_1'\n",
       "\\item 'expiry\\_test\\_df\\_sub'\n",
       "\\item 'expiry\\_test\\_prepped\\_2'\n",
       "\\item 'expiry\\_test\\_prepped\\_2\\_1'\n",
       "\\item 'expiry\\_train\\_df\\_1'\n",
       "\\item 'expiry\\_train\\_df\\_sub'\n",
       "\\item 'expiry\\_train\\_prepped\\_2'\n",
       "\\item 'expiry\\_train\\_prepped\\_2\\_1'\n",
       "\\item 'get\\_cluster\\_data'\n",
       "\\item 'get\\_cluster\\_large'\n",
       "\\item 'get\\_df\\_npv'\n",
       "\\item 'get\\_domain\\_npv'\n",
       "\\item 'get\\_domain\\_type'\n",
       "\\item 'get\\_pattern\\_score'\n",
       "\\item 'get\\_renewal\\_status'\n",
       "\\item 'intersect2'\n",
       "\\item 'list\\_predict\\_first\\_renewal'\n",
       "\\item 'list\\_predict\\_second\\_renewal'\n",
       "\\item 'mass\\_build\\_model\\_first\\_renewal'\n",
       "\\item 'mass\\_build\\_model\\_second\\_renewal'\n",
       "\\item 'mass\\_predict\\_first\\_renewal'\n",
       "\\item 'mass\\_predict\\_second\\_renewal'\n",
       "\\item 'mass\\_prep\\_data'\n",
       "\\item 'na.zero'\n",
       "\\item 'newreg\\_data\\_prep'\n",
       "\\item 'newreg\\_data\\_rename'\n",
       "\\item 'newreg\\_data\\_select'\n",
       "\\item 'plot\\_gains'\n",
       "\\item 'plot\\_multigains'\n",
       "\\item 'plot\\_multigains\\_file'\n",
       "\\item 'plot\\_multigains\\_res'\n",
       "\\item 'predict\\_first\\_renewal'\n",
       "\\item 'predict\\_first\\_renewal\\_agg'\n",
       "\\item 'predict\\_first\\_renewal\\_agg\\_plus'\n",
       "\\item 'predict\\_first\\_renewal\\_reg'\n",
       "\\item 'predict\\_second\\_renewal'\n",
       "\\item 'prep\\_domain\\_data'\n",
       "\\item 'save\\_object'\n",
       "\\item 'tld\\_reseller\\_lookup\\_df'\n",
       "\\item 'unzip.file'\n",
       "\\end{enumerate*}\n"
      ],
      "text/markdown": [
       "1. 'apply_standard_adjustments'\n",
       "2. 'basic_prep_domain_data'\n",
       "3. 'build_model_first_renewal'\n",
       "4. 'build_model_first_renewal_agg'\n",
       "5. 'build_model_first_renewal_agg_plus'\n",
       "6. 'build_model_first_renewal_reg'\n",
       "7. 'build_model_second_renewal'\n",
       "8. 'calc_auc'\n",
       "9. 'change.colnames'\n",
       "10. 'chart_lift'\n",
       "11. 'expiry_test_df_1'\n",
       "12. 'expiry_test_df_sub'\n",
       "13. 'expiry_test_prepped_2'\n",
       "14. 'expiry_test_prepped_2_1'\n",
       "15. 'expiry_train_df_1'\n",
       "16. 'expiry_train_df_sub'\n",
       "17. 'expiry_train_prepped_2'\n",
       "18. 'expiry_train_prepped_2_1'\n",
       "19. 'get_cluster_data'\n",
       "20. 'get_cluster_large'\n",
       "21. 'get_df_npv'\n",
       "22. 'get_domain_npv'\n",
       "23. 'get_domain_type'\n",
       "24. 'get_pattern_score'\n",
       "25. 'get_renewal_status'\n",
       "26. 'intersect2'\n",
       "27. 'list_predict_first_renewal'\n",
       "28. 'list_predict_second_renewal'\n",
       "29. 'mass_build_model_first_renewal'\n",
       "30. 'mass_build_model_second_renewal'\n",
       "31. 'mass_predict_first_renewal'\n",
       "32. 'mass_predict_second_renewal'\n",
       "33. 'mass_prep_data'\n",
       "34. 'na.zero'\n",
       "35. 'newreg_data_prep'\n",
       "36. 'newreg_data_rename'\n",
       "37. 'newreg_data_select'\n",
       "38. 'plot_gains'\n",
       "39. 'plot_multigains'\n",
       "40. 'plot_multigains_file'\n",
       "41. 'plot_multigains_res'\n",
       "42. 'predict_first_renewal'\n",
       "43. 'predict_first_renewal_agg'\n",
       "44. 'predict_first_renewal_agg_plus'\n",
       "45. 'predict_first_renewal_reg'\n",
       "46. 'predict_second_renewal'\n",
       "47. 'prep_domain_data'\n",
       "48. 'save_object'\n",
       "49. 'tld_reseller_lookup_df'\n",
       "50. 'unzip.file'\n",
       "\n",
       "\n"
      ],
      "text/plain": [
       " [1] \"apply_standard_adjustments\"         \"basic_prep_domain_data\"            \n",
       " [3] \"build_model_first_renewal\"          \"build_model_first_renewal_agg\"     \n",
       " [5] \"build_model_first_renewal_agg_plus\" \"build_model_first_renewal_reg\"     \n",
       " [7] \"build_model_second_renewal\"         \"calc_auc\"                          \n",
       " [9] \"change.colnames\"                    \"chart_lift\"                        \n",
       "[11] \"expiry_test_df_1\"                   \"expiry_test_df_sub\"                \n",
       "[13] \"expiry_test_prepped_2\"              \"expiry_test_prepped_2_1\"           \n",
       "[15] \"expiry_train_df_1\"                  \"expiry_train_df_sub\"               \n",
       "[17] \"expiry_train_prepped_2\"             \"expiry_train_prepped_2_1\"          \n",
       "[19] \"get_cluster_data\"                   \"get_cluster_large\"                 \n",
       "[21] \"get_df_npv\"                         \"get_domain_npv\"                    \n",
       "[23] \"get_domain_type\"                    \"get_pattern_score\"                 \n",
       "[25] \"get_renewal_status\"                 \"intersect2\"                        \n",
       "[27] \"list_predict_first_renewal\"         \"list_predict_second_renewal\"       \n",
       "[29] \"mass_build_model_first_renewal\"     \"mass_build_model_second_renewal\"   \n",
       "[31] \"mass_predict_first_renewal\"         \"mass_predict_second_renewal\"       \n",
       "[33] \"mass_prep_data\"                     \"na.zero\"                           \n",
       "[35] \"newreg_data_prep\"                   \"newreg_data_rename\"                \n",
       "[37] \"newreg_data_select\"                 \"plot_gains\"                        \n",
       "[39] \"plot_multigains\"                    \"plot_multigains_file\"              \n",
       "[41] \"plot_multigains_res\"                \"predict_first_renewal\"             \n",
       "[43] \"predict_first_renewal_agg\"          \"predict_first_renewal_agg_plus\"    \n",
       "[45] \"predict_first_renewal_reg\"          \"predict_second_renewal\"            \n",
       "[47] \"prep_domain_data\"                   \"save_object\"                       \n",
       "[49] \"tld_reseller_lookup_df\"             \"unzip.file\"                        "
      ]
     },
     "metadata": {},
     "output_type": "display_data"
    }
   ],
   "source": [
    "ls()"
   ]
  },
  {
   "cell_type": "code",
   "execution_count": 9,
   "metadata": {},
   "outputs": [],
   "source": [
    "load(\"../../data/tld_reseller_compare_list_0001_0817\")\n",
    "tld_reseller_compare_list_0001_0817 <- return_list\n",
    "load(\"../../data/tld_reseller_compare_list_0001_0817_seg_rf\")\n",
    "tld_reseller_compare_list_0001_0817_seg_rf <- return_list\n",
    "load(\"../../data/tld_reseller_compare_list_0818_1723.RData\")\n",
    "tld_reseller_compare_list_0818_1723.RData <- return_list"
   ]
  },
  {
   "cell_type": "code",
   "execution_count": 10,
   "metadata": {},
   "outputs": [
    {
     "data": {
      "text/html": [
       "817"
      ],
      "text/latex": [
       "817"
      ],
      "text/markdown": [
       "817"
      ],
      "text/plain": [
       "[1] 817"
      ]
     },
     "metadata": {},
     "output_type": "display_data"
    },
    {
     "data": {
      "text/html": [
       "6"
      ],
      "text/latex": [
       "6"
      ],
      "text/markdown": [
       "6"
      ],
      "text/plain": [
       "[1] 6"
      ]
     },
     "metadata": {},
     "output_type": "display_data"
    },
    {
     "data": {
      "text/html": [
       "<style>\n",
       ".list-inline {list-style: none; margin:0; padding: 0}\n",
       ".list-inline>li {display: inline-block}\n",
       ".list-inline>li:not(:last-child)::after {content: \"\\00b7\"; padding: 0 .5ex}\n",
       "</style>\n",
       "<ol class=list-inline><li>'pred_df_seg2_glm'</li><li>'pred_df_seg_glm'</li><li>'pred_df_agg_glm'</li><li>'pred_df_seg2_rf'</li><li>'pred_df_seg_rf'</li><li>'pred_df_agg_rf'</li></ol>\n"
      ],
      "text/latex": [
       "\\begin{enumerate*}\n",
       "\\item 'pred\\_df\\_seg2\\_glm'\n",
       "\\item 'pred\\_df\\_seg\\_glm'\n",
       "\\item 'pred\\_df\\_agg\\_glm'\n",
       "\\item 'pred\\_df\\_seg2\\_rf'\n",
       "\\item 'pred\\_df\\_seg\\_rf'\n",
       "\\item 'pred\\_df\\_agg\\_rf'\n",
       "\\end{enumerate*}\n"
      ],
      "text/markdown": [
       "1. 'pred_df_seg2_glm'\n",
       "2. 'pred_df_seg_glm'\n",
       "3. 'pred_df_agg_glm'\n",
       "4. 'pred_df_seg2_rf'\n",
       "5. 'pred_df_seg_rf'\n",
       "6. 'pred_df_agg_rf'\n",
       "\n",
       "\n"
      ],
      "text/plain": [
       "[1] \"pred_df_seg2_glm\" \"pred_df_seg_glm\"  \"pred_df_agg_glm\"  \"pred_df_seg2_rf\" \n",
       "[5] \"pred_df_seg_rf\"   \"pred_df_agg_rf\"  "
      ]
     },
     "metadata": {},
     "output_type": "display_data"
    }
   ],
   "source": [
    "length(tld_reseller_compare_list_0001_0817)\n",
    "length(tld_reseller_compare_list_0001_0817[[1]])\n",
    "names(tld_reseller_compare_list_0001_0817[[1]])"
   ]
  },
  {
   "cell_type": "code",
   "execution_count": 11,
   "metadata": {},
   "outputs": [
    {
     "data": {
      "text/html": [
       "817"
      ],
      "text/latex": [
       "817"
      ],
      "text/markdown": [
       "817"
      ],
      "text/plain": [
       "[1] 817"
      ]
     },
     "metadata": {},
     "output_type": "display_data"
    },
    {
     "data": {
      "text/html": [
       "1"
      ],
      "text/latex": [
       "1"
      ],
      "text/markdown": [
       "1"
      ],
      "text/plain": [
       "[1] 1"
      ]
     },
     "metadata": {},
     "output_type": "display_data"
    },
    {
     "data": {
      "text/html": [
       "'pred_df_seg_rf'"
      ],
      "text/latex": [
       "'pred\\_df\\_seg\\_rf'"
      ],
      "text/markdown": [
       "'pred_df_seg_rf'"
      ],
      "text/plain": [
       "[1] \"pred_df_seg_rf\""
      ]
     },
     "metadata": {},
     "output_type": "display_data"
    }
   ],
   "source": [
    "length(tld_reseller_compare_list_0001_0817_seg_rf)\n",
    "length(tld_reseller_compare_list_0001_0817_seg_rf[[1]])\n",
    "names(tld_reseller_compare_list_0001_0817_seg_rf[[1]])"
   ]
  },
  {
   "cell_type": "code",
   "execution_count": 12,
   "metadata": {},
   "outputs": [
    {
     "data": {
      "text/html": [
       "906"
      ],
      "text/latex": [
       "906"
      ],
      "text/markdown": [
       "906"
      ],
      "text/plain": [
       "[1] 906"
      ]
     },
     "metadata": {},
     "output_type": "display_data"
    }
   ],
   "source": [
    "length(tld_reseller_compare_list_0818_1723.RData)"
   ]
  },
  {
   "cell_type": "markdown",
   "metadata": {},
   "source": [
    "## Munge List of Lists to List of Dataframes"
   ]
  },
  {
   "cell_type": "code",
   "execution_count": 13,
   "metadata": {},
   "outputs": [],
   "source": [
    "test_funct <- function(list_elem){\n",
    "    df <- bind_cols(list_elem)\n",
    "    if (ncol(df)>6) {\n",
    "        df <- df[c(1,2,4,6,8,10,12)]\n",
    "        names(df) <- c(\"actual\",names(list_elem))\n",
    "    } else {\n",
    "        df <- df\n",
    "        df$actual <- NA\n",
    "        df <- df %>% select(actual, everything())\n",
    "    }\n",
    "        \n",
    "\n",
    "    return(df)\n",
    "}"
   ]
  },
  {
   "cell_type": "code",
   "execution_count": 14,
   "metadata": {},
   "outputs": [],
   "source": [
    "suppress_messages(compare_df_list_0001_0817 <- lapply(tld_reseller_compare_list_0001_0817, test_funct))"
   ]
  },
  {
   "cell_type": "code",
   "execution_count": 15,
   "metadata": {},
   "outputs": [],
   "source": [
    "for (i in 1:length(tld_reseller_compare_list_0001_0817)){\n",
    "    compare_df_list_0001_0817[[i]] <- cbind(compare_df_list_0001_0817[[i]], tld_reseller_compare_list_0001_0817_seg_rf[[i]])\n",
    "    compare_df_list_0001_0817[[i]] <- compare_df_list_0001_0817[[i]][c(1:5,7,9)]\n",
    "    names(compare_df_list_0001_0817[[i]]) <- c('actual','pred_df_seg2_glm','pred_df_seg_glm','pred_df_agg_glm','pred_df_seg2_rf',\n",
    "                                          'pred_df_agg_rf','pred_df_seg_rf')\n",
    "    compare_df_list_0001_0817[[i]] <- compare_df_list_0001_0817[[i]][c('actual',\n",
    "                                                             'pred_df_seg2_glm','pred_df_seg_glm','pred_df_agg_glm',\n",
    "                                                             'pred_df_seg2_rf','pred_df_seg_rf','pred_df_agg_rf')]\n",
    "}"
   ]
  },
  {
   "cell_type": "code",
   "execution_count": 16,
   "metadata": {},
   "outputs": [],
   "source": [
    "suppress_messages(compare_df_list_0818_1723 <- lapply(tld_reseller_compare_list_0818_1723.RData, test_funct))"
   ]
  },
  {
   "cell_type": "code",
   "execution_count": 17,
   "metadata": {},
   "outputs": [
    {
     "data": {
      "text/html": [
       "817"
      ],
      "text/latex": [
       "817"
      ],
      "text/markdown": [
       "817"
      ],
      "text/plain": [
       "[1] 817"
      ]
     },
     "metadata": {},
     "output_type": "display_data"
    },
    {
     "data": {
      "text/html": [
       "906"
      ],
      "text/latex": [
       "906"
      ],
      "text/markdown": [
       "906"
      ],
      "text/plain": [
       "[1] 906"
      ]
     },
     "metadata": {},
     "output_type": "display_data"
    },
    {
     "data": {
      "text/html": [
       "1723"
      ],
      "text/latex": [
       "1723"
      ],
      "text/markdown": [
       "1723"
      ],
      "text/plain": [
       "[1] 1723"
      ]
     },
     "metadata": {},
     "output_type": "display_data"
    }
   ],
   "source": [
    "length(compare_df_list_0001_0817)\n",
    "length(compare_df_list_0818_1723)\n",
    "\n",
    "compare_df_list_0001_1723 <- append(compare_df_list_0001_0817,compare_df_list_0818_1723)\n",
    "length(compare_df_list_0001_1723)\n"
   ]
  },
  {
   "cell_type": "markdown",
   "metadata": {},
   "source": [
    "## Mange List of Dataframes to a single Dataframe"
   ]
  },
  {
   "cell_type": "markdown",
   "metadata": {},
   "source": [
    "### Add lookup values to each dataframe in list"
   ]
  },
  {
   "cell_type": "code",
   "execution_count": 27,
   "metadata": {},
   "outputs": [],
   "source": [
    "for (i in 1:length(compare_df_list_0001_1723)){\n",
    "    compare_df_list_0001_1723[[i]]$tld_registrar_index <- tld_reseller_lookup_df[[i,\"tld_registrar_index\"]]\n",
    "    compare_df_list_0001_1723[[i]]$reseller <- tld_reseller_lookup_df[[i,\"reseller\"]]\n",
    "    compare_df_list_0001_1723[[i]]$n <- tld_reseller_lookup_df[[i,\"n\"]]\n",
    "}"
   ]
  },
  {
   "cell_type": "code",
   "execution_count": 28,
   "metadata": {},
   "outputs": [
    {
     "data": {
      "text/html": [
       "<table>\n",
       "<caption>A data.frame: 6 × 10</caption>\n",
       "<thead>\n",
       "\t<tr><th></th><th scope=col>actual</th><th scope=col>pred_df_seg2_glm</th><th scope=col>pred_df_seg_glm</th><th scope=col>pred_df_agg_glm</th><th scope=col>pred_df_seg2_rf</th><th scope=col>pred_df_seg_rf</th><th scope=col>pred_df_agg_rf</th><th scope=col>tld_registrar_index</th><th scope=col>reseller</th><th scope=col>n</th></tr>\n",
       "\t<tr><th></th><th scope=col>&lt;fct&gt;</th><th scope=col>&lt;dbl&gt;</th><th scope=col>&lt;dbl&gt;</th><th scope=col>&lt;dbl&gt;</th><th scope=col>&lt;dbl&gt;</th><th scope=col>&lt;dbl&gt;</th><th scope=col>&lt;dbl&gt;</th><th scope=col>&lt;chr&gt;</th><th scope=col>&lt;chr&gt;</th><th scope=col>&lt;int&gt;</th></tr>\n",
       "</thead>\n",
       "<tbody>\n",
       "\t<tr><th scope=row>1</th><td>Not Renewd</td><td>0.6470992</td><td>0.558</td><td>0.419</td><td>0.4765771</td><td>0.4545657</td><td>0.5386137</td><td>sitegmo</td><td>gmo</td><td>106569</td></tr>\n",
       "\t<tr><th scope=row>2</th><td>Renewed   </td><td>0.6762222</td><td>0.567</td><td>0.397</td><td>0.5410605</td><td>0.5769973</td><td>0.6091513</td><td>sitegmo</td><td>gmo</td><td>106569</td></tr>\n",
       "\t<tr><th scope=row>3</th><td>Renewed   </td><td>0.9098495</td><td>0.835</td><td>0.410</td><td>0.7018108</td><td>0.6343404</td><td>0.6886680</td><td>sitegmo</td><td>gmo</td><td>106569</td></tr>\n",
       "\t<tr><th scope=row>4</th><td>Renewed   </td><td>0.6029350</td><td>0.515</td><td>0.402</td><td>0.2414726</td><td>0.3999603</td><td>0.3464197</td><td>sitegmo</td><td>gmo</td><td>106569</td></tr>\n",
       "\t<tr><th scope=row>5</th><td>Not Renewd</td><td>0.9311321</td><td>0.863</td><td>0.417</td><td>0.7749462</td><td>0.7039504</td><td>0.6711740</td><td>sitegmo</td><td>gmo</td><td>106569</td></tr>\n",
       "\t<tr><th scope=row>6</th><td>Renewed   </td><td>0.9347869</td><td>0.861</td><td>0.391</td><td>0.6376848</td><td>0.6566740</td><td>0.6717237</td><td>sitegmo</td><td>gmo</td><td>106569</td></tr>\n",
       "</tbody>\n",
       "</table>\n"
      ],
      "text/latex": [
       "A data.frame: 6 × 10\n",
       "\\begin{tabular}{r|llllllllll}\n",
       "  & actual & pred\\_df\\_seg2\\_glm & pred\\_df\\_seg\\_glm & pred\\_df\\_agg\\_glm & pred\\_df\\_seg2\\_rf & pred\\_df\\_seg\\_rf & pred\\_df\\_agg\\_rf & tld\\_registrar\\_index & reseller & n\\\\\n",
       "  & <fct> & <dbl> & <dbl> & <dbl> & <dbl> & <dbl> & <dbl> & <chr> & <chr> & <int>\\\\\n",
       "\\hline\n",
       "\t1 & Not Renewd & 0.6470992 & 0.558 & 0.419 & 0.4765771 & 0.4545657 & 0.5386137 & sitegmo & gmo & 106569\\\\\n",
       "\t2 & Renewed    & 0.6762222 & 0.567 & 0.397 & 0.5410605 & 0.5769973 & 0.6091513 & sitegmo & gmo & 106569\\\\\n",
       "\t3 & Renewed    & 0.9098495 & 0.835 & 0.410 & 0.7018108 & 0.6343404 & 0.6886680 & sitegmo & gmo & 106569\\\\\n",
       "\t4 & Renewed    & 0.6029350 & 0.515 & 0.402 & 0.2414726 & 0.3999603 & 0.3464197 & sitegmo & gmo & 106569\\\\\n",
       "\t5 & Not Renewd & 0.9311321 & 0.863 & 0.417 & 0.7749462 & 0.7039504 & 0.6711740 & sitegmo & gmo & 106569\\\\\n",
       "\t6 & Renewed    & 0.9347869 & 0.861 & 0.391 & 0.6376848 & 0.6566740 & 0.6717237 & sitegmo & gmo & 106569\\\\\n",
       "\\end{tabular}\n"
      ],
      "text/markdown": [
       "\n",
       "A data.frame: 6 × 10\n",
       "\n",
       "| <!--/--> | actual &lt;fct&gt; | pred_df_seg2_glm &lt;dbl&gt; | pred_df_seg_glm &lt;dbl&gt; | pred_df_agg_glm &lt;dbl&gt; | pred_df_seg2_rf &lt;dbl&gt; | pred_df_seg_rf &lt;dbl&gt; | pred_df_agg_rf &lt;dbl&gt; | tld_registrar_index &lt;chr&gt; | reseller &lt;chr&gt; | n &lt;int&gt; |\n",
       "|---|---|---|---|---|---|---|---|---|---|---|\n",
       "| 1 | Not Renewd | 0.6470992 | 0.558 | 0.419 | 0.4765771 | 0.4545657 | 0.5386137 | sitegmo | gmo | 106569 |\n",
       "| 2 | Renewed    | 0.6762222 | 0.567 | 0.397 | 0.5410605 | 0.5769973 | 0.6091513 | sitegmo | gmo | 106569 |\n",
       "| 3 | Renewed    | 0.9098495 | 0.835 | 0.410 | 0.7018108 | 0.6343404 | 0.6886680 | sitegmo | gmo | 106569 |\n",
       "| 4 | Renewed    | 0.6029350 | 0.515 | 0.402 | 0.2414726 | 0.3999603 | 0.3464197 | sitegmo | gmo | 106569 |\n",
       "| 5 | Not Renewd | 0.9311321 | 0.863 | 0.417 | 0.7749462 | 0.7039504 | 0.6711740 | sitegmo | gmo | 106569 |\n",
       "| 6 | Renewed    | 0.9347869 | 0.861 | 0.391 | 0.6376848 | 0.6566740 | 0.6717237 | sitegmo | gmo | 106569 |\n",
       "\n"
      ],
      "text/plain": [
       "  actual     pred_df_seg2_glm pred_df_seg_glm pred_df_agg_glm pred_df_seg2_rf\n",
       "1 Not Renewd 0.6470992        0.558           0.419           0.4765771      \n",
       "2 Renewed    0.6762222        0.567           0.397           0.5410605      \n",
       "3 Renewed    0.9098495        0.835           0.410           0.7018108      \n",
       "4 Renewed    0.6029350        0.515           0.402           0.2414726      \n",
       "5 Not Renewd 0.9311321        0.863           0.417           0.7749462      \n",
       "6 Renewed    0.9347869        0.861           0.391           0.6376848      \n",
       "  pred_df_seg_rf pred_df_agg_rf tld_registrar_index reseller n     \n",
       "1 0.4545657      0.5386137      sitegmo             gmo      106569\n",
       "2 0.5769973      0.6091513      sitegmo             gmo      106569\n",
       "3 0.6343404      0.6886680      sitegmo             gmo      106569\n",
       "4 0.3999603      0.3464197      sitegmo             gmo      106569\n",
       "5 0.7039504      0.6711740      sitegmo             gmo      106569\n",
       "6 0.6566740      0.6717237      sitegmo             gmo      106569"
      ]
     },
     "metadata": {},
     "output_type": "display_data"
    }
   ],
   "source": [
    "head(compare_df_list_0001_1723[[1]])"
   ]
  },
  {
   "cell_type": "markdown",
   "metadata": {},
   "source": [
    "### Add domain info"
   ]
  },
  {
   "cell_type": "code",
   "execution_count": 49,
   "metadata": {},
   "outputs": [],
   "source": [
    "for (i in 1:length(compare_df_list_0001_1723)){\n",
    "    lookup_df <- expiry_test_df_1 %>% filter(tld_registrar_index==compare_df_list_0001_1723[[i]]$tld_registrar_index[[1]]) %>% select(domain_id, domain)\n",
    "    compare_df_list_0001_1723[[i]] <- cbind(compare_df_list_0001_1723[[i]],lookup_df)\n",
    "}"
   ]
  },
  {
   "cell_type": "code",
   "execution_count": 48,
   "metadata": {},
   "outputs": [
    {
     "data": {
      "text/html": [
       "<table>\n",
       "<caption>A data.frame: 6 × 12</caption>\n",
       "<thead>\n",
       "\t<tr><th></th><th scope=col>actual</th><th scope=col>pred_df_seg2_glm</th><th scope=col>pred_df_seg_glm</th><th scope=col>pred_df_agg_glm</th><th scope=col>pred_df_seg2_rf</th><th scope=col>pred_df_seg_rf</th><th scope=col>pred_df_agg_rf</th><th scope=col>tld_registrar_index</th><th scope=col>reseller</th><th scope=col>n</th><th scope=col>domain_id</th><th scope=col>domain</th></tr>\n",
       "\t<tr><th></th><th scope=col>&lt;fct&gt;</th><th scope=col>&lt;dbl&gt;</th><th scope=col>&lt;dbl&gt;</th><th scope=col>&lt;dbl&gt;</th><th scope=col>&lt;dbl&gt;</th><th scope=col>&lt;dbl&gt;</th><th scope=col>&lt;dbl&gt;</th><th scope=col>&lt;chr&gt;</th><th scope=col>&lt;chr&gt;</th><th scope=col>&lt;int&gt;</th><th scope=col>&lt;int&gt;</th><th scope=col>&lt;chr&gt;</th></tr>\n",
       "</thead>\n",
       "<tbody>\n",
       "\t<tr><th scope=row>1</th><td>Not Renewd</td><td>0.6470992</td><td>0.558</td><td>0.419</td><td>0.4765771</td><td>0.4545657</td><td>0.5386137</td><td>sitegmo</td><td>gmo</td><td>106569</td><td>44295183</td><td>kagen.site           </td></tr>\n",
       "\t<tr><th scope=row>2</th><td>Renewed   </td><td>0.6762222</td><td>0.567</td><td>0.397</td><td>0.5410605</td><td>0.5769973</td><td>0.6091513</td><td>sitegmo</td><td>gmo</td><td>106569</td><td>44573611</td><td>designlab.site       </td></tr>\n",
       "\t<tr><th scope=row>3</th><td>Renewed   </td><td>0.9098495</td><td>0.835</td><td>0.410</td><td>0.7018108</td><td>0.6343404</td><td>0.6886680</td><td>sitegmo</td><td>gmo</td><td>106569</td><td>45304858</td><td>hokatu-blog.site     </td></tr>\n",
       "\t<tr><th scope=row>4</th><td>Renewed   </td><td>0.6029350</td><td>0.515</td><td>0.402</td><td>0.2414726</td><td>0.3999603</td><td>0.3464197</td><td>sitegmo</td><td>gmo</td><td>106569</td><td>46235129</td><td>suzuya.site          </td></tr>\n",
       "\t<tr><th scope=row>5</th><td>Not Renewd</td><td>0.9311321</td><td>0.863</td><td>0.417</td><td>0.7749462</td><td>0.7039504</td><td>0.6711740</td><td>sitegmo</td><td>gmo</td><td>106569</td><td>46276970</td><td>wins-company.site    </td></tr>\n",
       "\t<tr><th scope=row>6</th><td>Renewed   </td><td>0.9347869</td><td>0.861</td><td>0.391</td><td>0.6376848</td><td>0.6566740</td><td>0.6717237</td><td>sitegmo</td><td>gmo</td><td>106569</td><td>47809960</td><td>yamatoku-company.site</td></tr>\n",
       "</tbody>\n",
       "</table>\n"
      ],
      "text/latex": [
       "A data.frame: 6 × 12\n",
       "\\begin{tabular}{r|llllllllllll}\n",
       "  & actual & pred\\_df\\_seg2\\_glm & pred\\_df\\_seg\\_glm & pred\\_df\\_agg\\_glm & pred\\_df\\_seg2\\_rf & pred\\_df\\_seg\\_rf & pred\\_df\\_agg\\_rf & tld\\_registrar\\_index & reseller & n & domain\\_id & domain\\\\\n",
       "  & <fct> & <dbl> & <dbl> & <dbl> & <dbl> & <dbl> & <dbl> & <chr> & <chr> & <int> & <int> & <chr>\\\\\n",
       "\\hline\n",
       "\t1 & Not Renewd & 0.6470992 & 0.558 & 0.419 & 0.4765771 & 0.4545657 & 0.5386137 & sitegmo & gmo & 106569 & 44295183 & kagen.site           \\\\\n",
       "\t2 & Renewed    & 0.6762222 & 0.567 & 0.397 & 0.5410605 & 0.5769973 & 0.6091513 & sitegmo & gmo & 106569 & 44573611 & designlab.site       \\\\\n",
       "\t3 & Renewed    & 0.9098495 & 0.835 & 0.410 & 0.7018108 & 0.6343404 & 0.6886680 & sitegmo & gmo & 106569 & 45304858 & hokatu-blog.site     \\\\\n",
       "\t4 & Renewed    & 0.6029350 & 0.515 & 0.402 & 0.2414726 & 0.3999603 & 0.3464197 & sitegmo & gmo & 106569 & 46235129 & suzuya.site          \\\\\n",
       "\t5 & Not Renewd & 0.9311321 & 0.863 & 0.417 & 0.7749462 & 0.7039504 & 0.6711740 & sitegmo & gmo & 106569 & 46276970 & wins-company.site    \\\\\n",
       "\t6 & Renewed    & 0.9347869 & 0.861 & 0.391 & 0.6376848 & 0.6566740 & 0.6717237 & sitegmo & gmo & 106569 & 47809960 & yamatoku-company.site\\\\\n",
       "\\end{tabular}\n"
      ],
      "text/markdown": [
       "\n",
       "A data.frame: 6 × 12\n",
       "\n",
       "| <!--/--> | actual &lt;fct&gt; | pred_df_seg2_glm &lt;dbl&gt; | pred_df_seg_glm &lt;dbl&gt; | pred_df_agg_glm &lt;dbl&gt; | pred_df_seg2_rf &lt;dbl&gt; | pred_df_seg_rf &lt;dbl&gt; | pred_df_agg_rf &lt;dbl&gt; | tld_registrar_index &lt;chr&gt; | reseller &lt;chr&gt; | n &lt;int&gt; | domain_id &lt;int&gt; | domain &lt;chr&gt; |\n",
       "|---|---|---|---|---|---|---|---|---|---|---|---|---|\n",
       "| 1 | Not Renewd | 0.6470992 | 0.558 | 0.419 | 0.4765771 | 0.4545657 | 0.5386137 | sitegmo | gmo | 106569 | 44295183 | kagen.site            |\n",
       "| 2 | Renewed    | 0.6762222 | 0.567 | 0.397 | 0.5410605 | 0.5769973 | 0.6091513 | sitegmo | gmo | 106569 | 44573611 | designlab.site        |\n",
       "| 3 | Renewed    | 0.9098495 | 0.835 | 0.410 | 0.7018108 | 0.6343404 | 0.6886680 | sitegmo | gmo | 106569 | 45304858 | hokatu-blog.site      |\n",
       "| 4 | Renewed    | 0.6029350 | 0.515 | 0.402 | 0.2414726 | 0.3999603 | 0.3464197 | sitegmo | gmo | 106569 | 46235129 | suzuya.site           |\n",
       "| 5 | Not Renewd | 0.9311321 | 0.863 | 0.417 | 0.7749462 | 0.7039504 | 0.6711740 | sitegmo | gmo | 106569 | 46276970 | wins-company.site     |\n",
       "| 6 | Renewed    | 0.9347869 | 0.861 | 0.391 | 0.6376848 | 0.6566740 | 0.6717237 | sitegmo | gmo | 106569 | 47809960 | yamatoku-company.site |\n",
       "\n"
      ],
      "text/plain": [
       "  actual     pred_df_seg2_glm pred_df_seg_glm pred_df_agg_glm pred_df_seg2_rf\n",
       "1 Not Renewd 0.6470992        0.558           0.419           0.4765771      \n",
       "2 Renewed    0.6762222        0.567           0.397           0.5410605      \n",
       "3 Renewed    0.9098495        0.835           0.410           0.7018108      \n",
       "4 Renewed    0.6029350        0.515           0.402           0.2414726      \n",
       "5 Not Renewd 0.9311321        0.863           0.417           0.7749462      \n",
       "6 Renewed    0.9347869        0.861           0.391           0.6376848      \n",
       "  pred_df_seg_rf pred_df_agg_rf tld_registrar_index reseller n      domain_id\n",
       "1 0.4545657      0.5386137      sitegmo             gmo      106569 44295183 \n",
       "2 0.5769973      0.6091513      sitegmo             gmo      106569 44573611 \n",
       "3 0.6343404      0.6886680      sitegmo             gmo      106569 45304858 \n",
       "4 0.3999603      0.3464197      sitegmo             gmo      106569 46235129 \n",
       "5 0.7039504      0.6711740      sitegmo             gmo      106569 46276970 \n",
       "6 0.6566740      0.6717237      sitegmo             gmo      106569 47809960 \n",
       "  domain               \n",
       "1 kagen.site           \n",
       "2 designlab.site       \n",
       "3 hokatu-blog.site     \n",
       "4 suzuya.site          \n",
       "5 wins-company.site    \n",
       "6 yamatoku-company.site"
      ]
     },
     "metadata": {},
     "output_type": "display_data"
    }
   ],
   "source": [
    "head(compare_df_list_0001_1723[[1]])"
   ]
  },
  {
   "cell_type": "markdown",
   "metadata": {},
   "source": [
    "### rbindlist"
   ]
  },
  {
   "cell_type": "code",
   "execution_count": 52,
   "metadata": {},
   "outputs": [],
   "source": [
    "compare_DF <- rbindlist(compare_df_list_0001_1723)"
   ]
  },
  {
   "cell_type": "code",
   "execution_count": 59,
   "metadata": {},
   "outputs": [
    {
     "data": {
      "text/html": [
       "297100"
      ],
      "text/latex": [
       "297100"
      ],
      "text/markdown": [
       "297100"
      ],
      "text/plain": [
       "[1] 297100"
      ]
     },
     "metadata": {},
     "output_type": "display_data"
    },
    {
     "data": {
      "text/html": [
       "<style>\n",
       ".list-inline {list-style: none; margin:0; padding: 0}\n",
       ".list-inline>li {display: inline-block}\n",
       ".list-inline>li:not(:last-child)::after {content: \"\\00b7\"; padding: 0 .5ex}\n",
       "</style>\n",
       "<ol class=list-inline><li>297100</li><li>12</li></ol>\n"
      ],
      "text/latex": [
       "\\begin{enumerate*}\n",
       "\\item 297100\n",
       "\\item 12\n",
       "\\end{enumerate*}\n"
      ],
      "text/markdown": [
       "1. 297100\n",
       "2. 12\n",
       "\n",
       "\n"
      ],
      "text/plain": [
       "[1] 297100     12"
      ]
     },
     "metadata": {},
     "output_type": "display_data"
    }
   ],
   "source": [
    "sum(sapply(compare_df_list_0001_1723,nrow))\n",
    "dim(compare_DF)"
   ]
  },
  {
   "cell_type": "code",
   "execution_count": 60,
   "metadata": {},
   "outputs": [
    {
     "data": {
      "text/html": [
       "<table>\n",
       "<caption>A data.table: 6 × 12</caption>\n",
       "<thead>\n",
       "\t<tr><th scope=col>actual</th><th scope=col>pred_df_seg2_glm</th><th scope=col>pred_df_seg_glm</th><th scope=col>pred_df_agg_glm</th><th scope=col>pred_df_seg2_rf</th><th scope=col>pred_df_seg_rf</th><th scope=col>pred_df_agg_rf</th><th scope=col>tld_registrar_index</th><th scope=col>reseller</th><th scope=col>n</th><th scope=col>domain_id</th><th scope=col>domain</th></tr>\n",
       "\t<tr><th scope=col>&lt;fct&gt;</th><th scope=col>&lt;dbl&gt;</th><th scope=col>&lt;dbl&gt;</th><th scope=col>&lt;dbl&gt;</th><th scope=col>&lt;dbl&gt;</th><th scope=col>&lt;dbl&gt;</th><th scope=col>&lt;dbl&gt;</th><th scope=col>&lt;chr&gt;</th><th scope=col>&lt;chr&gt;</th><th scope=col>&lt;int&gt;</th><th scope=col>&lt;int&gt;</th><th scope=col>&lt;chr&gt;</th></tr>\n",
       "</thead>\n",
       "<tbody>\n",
       "\t<tr><td>Not Renewd</td><td>0.6470992</td><td>0.558</td><td>0.419</td><td>0.4765771</td><td>0.4545657</td><td>0.5386137</td><td>sitegmo</td><td>gmo</td><td>106569</td><td>44295183</td><td>kagen.site           </td></tr>\n",
       "\t<tr><td>Renewed   </td><td>0.6762222</td><td>0.567</td><td>0.397</td><td>0.5410605</td><td>0.5769973</td><td>0.6091513</td><td>sitegmo</td><td>gmo</td><td>106569</td><td>44573611</td><td>designlab.site       </td></tr>\n",
       "\t<tr><td>Renewed   </td><td>0.9098495</td><td>0.835</td><td>0.410</td><td>0.7018108</td><td>0.6343404</td><td>0.6886680</td><td>sitegmo</td><td>gmo</td><td>106569</td><td>45304858</td><td>hokatu-blog.site     </td></tr>\n",
       "\t<tr><td>Renewed   </td><td>0.6029350</td><td>0.515</td><td>0.402</td><td>0.2414726</td><td>0.3999603</td><td>0.3464197</td><td>sitegmo</td><td>gmo</td><td>106569</td><td>46235129</td><td>suzuya.site          </td></tr>\n",
       "\t<tr><td>Not Renewd</td><td>0.9311321</td><td>0.863</td><td>0.417</td><td>0.7749462</td><td>0.7039504</td><td>0.6711740</td><td>sitegmo</td><td>gmo</td><td>106569</td><td>46276970</td><td>wins-company.site    </td></tr>\n",
       "\t<tr><td>Renewed   </td><td>0.9347869</td><td>0.861</td><td>0.391</td><td>0.6376848</td><td>0.6566740</td><td>0.6717237</td><td>sitegmo</td><td>gmo</td><td>106569</td><td>47809960</td><td>yamatoku-company.site</td></tr>\n",
       "</tbody>\n",
       "</table>\n"
      ],
      "text/latex": [
       "A data.table: 6 × 12\n",
       "\\begin{tabular}{llllllllllll}\n",
       " actual & pred\\_df\\_seg2\\_glm & pred\\_df\\_seg\\_glm & pred\\_df\\_agg\\_glm & pred\\_df\\_seg2\\_rf & pred\\_df\\_seg\\_rf & pred\\_df\\_agg\\_rf & tld\\_registrar\\_index & reseller & n & domain\\_id & domain\\\\\n",
       " <fct> & <dbl> & <dbl> & <dbl> & <dbl> & <dbl> & <dbl> & <chr> & <chr> & <int> & <int> & <chr>\\\\\n",
       "\\hline\n",
       "\t Not Renewd & 0.6470992 & 0.558 & 0.419 & 0.4765771 & 0.4545657 & 0.5386137 & sitegmo & gmo & 106569 & 44295183 & kagen.site           \\\\\n",
       "\t Renewed    & 0.6762222 & 0.567 & 0.397 & 0.5410605 & 0.5769973 & 0.6091513 & sitegmo & gmo & 106569 & 44573611 & designlab.site       \\\\\n",
       "\t Renewed    & 0.9098495 & 0.835 & 0.410 & 0.7018108 & 0.6343404 & 0.6886680 & sitegmo & gmo & 106569 & 45304858 & hokatu-blog.site     \\\\\n",
       "\t Renewed    & 0.6029350 & 0.515 & 0.402 & 0.2414726 & 0.3999603 & 0.3464197 & sitegmo & gmo & 106569 & 46235129 & suzuya.site          \\\\\n",
       "\t Not Renewd & 0.9311321 & 0.863 & 0.417 & 0.7749462 & 0.7039504 & 0.6711740 & sitegmo & gmo & 106569 & 46276970 & wins-company.site    \\\\\n",
       "\t Renewed    & 0.9347869 & 0.861 & 0.391 & 0.6376848 & 0.6566740 & 0.6717237 & sitegmo & gmo & 106569 & 47809960 & yamatoku-company.site\\\\\n",
       "\\end{tabular}\n"
      ],
      "text/markdown": [
       "\n",
       "A data.table: 6 × 12\n",
       "\n",
       "| actual &lt;fct&gt; | pred_df_seg2_glm &lt;dbl&gt; | pred_df_seg_glm &lt;dbl&gt; | pred_df_agg_glm &lt;dbl&gt; | pred_df_seg2_rf &lt;dbl&gt; | pred_df_seg_rf &lt;dbl&gt; | pred_df_agg_rf &lt;dbl&gt; | tld_registrar_index &lt;chr&gt; | reseller &lt;chr&gt; | n &lt;int&gt; | domain_id &lt;int&gt; | domain &lt;chr&gt; |\n",
       "|---|---|---|---|---|---|---|---|---|---|---|---|\n",
       "| Not Renewd | 0.6470992 | 0.558 | 0.419 | 0.4765771 | 0.4545657 | 0.5386137 | sitegmo | gmo | 106569 | 44295183 | kagen.site            |\n",
       "| Renewed    | 0.6762222 | 0.567 | 0.397 | 0.5410605 | 0.5769973 | 0.6091513 | sitegmo | gmo | 106569 | 44573611 | designlab.site        |\n",
       "| Renewed    | 0.9098495 | 0.835 | 0.410 | 0.7018108 | 0.6343404 | 0.6886680 | sitegmo | gmo | 106569 | 45304858 | hokatu-blog.site      |\n",
       "| Renewed    | 0.6029350 | 0.515 | 0.402 | 0.2414726 | 0.3999603 | 0.3464197 | sitegmo | gmo | 106569 | 46235129 | suzuya.site           |\n",
       "| Not Renewd | 0.9311321 | 0.863 | 0.417 | 0.7749462 | 0.7039504 | 0.6711740 | sitegmo | gmo | 106569 | 46276970 | wins-company.site     |\n",
       "| Renewed    | 0.9347869 | 0.861 | 0.391 | 0.6376848 | 0.6566740 | 0.6717237 | sitegmo | gmo | 106569 | 47809960 | yamatoku-company.site |\n",
       "\n"
      ],
      "text/plain": [
       "  actual     pred_df_seg2_glm pred_df_seg_glm pred_df_agg_glm pred_df_seg2_rf\n",
       "1 Not Renewd 0.6470992        0.558           0.419           0.4765771      \n",
       "2 Renewed    0.6762222        0.567           0.397           0.5410605      \n",
       "3 Renewed    0.9098495        0.835           0.410           0.7018108      \n",
       "4 Renewed    0.6029350        0.515           0.402           0.2414726      \n",
       "5 Not Renewd 0.9311321        0.863           0.417           0.7749462      \n",
       "6 Renewed    0.9347869        0.861           0.391           0.6376848      \n",
       "  pred_df_seg_rf pred_df_agg_rf tld_registrar_index reseller n      domain_id\n",
       "1 0.4545657      0.5386137      sitegmo             gmo      106569 44295183 \n",
       "2 0.5769973      0.6091513      sitegmo             gmo      106569 44573611 \n",
       "3 0.6343404      0.6886680      sitegmo             gmo      106569 45304858 \n",
       "4 0.3999603      0.3464197      sitegmo             gmo      106569 46235129 \n",
       "5 0.7039504      0.6711740      sitegmo             gmo      106569 46276970 \n",
       "6 0.6566740      0.6717237      sitegmo             gmo      106569 47809960 \n",
       "  domain               \n",
       "1 kagen.site           \n",
       "2 designlab.site       \n",
       "3 hokatu-blog.site     \n",
       "4 suzuya.site          \n",
       "5 wins-company.site    \n",
       "6 yamatoku-company.site"
      ]
     },
     "metadata": {},
     "output_type": "display_data"
    }
   ],
   "source": [
    "head(compare_DF)"
   ]
  },
  {
   "cell_type": "code",
   "execution_count": 62,
   "metadata": {},
   "outputs": [],
   "source": [
    "write.csv(compare_DF, \"../../data/output/tld_reseller_compare_predictions.csv\", row.names=FALSE)"
   ]
  },
  {
   "cell_type": "code",
   "execution_count": 95,
   "metadata": {},
   "outputs": [
    {
     "data": {
      "text/html": [
       "<table>\n",
       "<caption>A data.table: 6 × 2</caption>\n",
       "<thead>\n",
       "\t<tr><th scope=col>tld_registrar_index</th><th scope=col>n</th></tr>\n",
       "\t<tr><th scope=col>&lt;chr&gt;</th><th scope=col>&lt;int&gt;</th></tr>\n",
       "</thead>\n",
       "<tbody>\n",
       "\t<tr><td>sitegmo       </td><td>106569</td></tr>\n",
       "\t<tr><td>funalibaba    </td><td> 72690</td></tr>\n",
       "\t<tr><td>sitenamecheap </td><td> 53536</td></tr>\n",
       "\t<tr><td>pwnamecheap   </td><td> 50470</td></tr>\n",
       "\t<tr><td>onlinego daddy</td><td> 42162</td></tr>\n",
       "\t<tr><td>sitegandi sas </td><td> 35309</td></tr>\n",
       "</tbody>\n",
       "</table>\n"
      ],
      "text/latex": [
       "A data.table: 6 × 2\n",
       "\\begin{tabular}{ll}\n",
       " tld\\_registrar\\_index & n\\\\\n",
       " <chr> & <int>\\\\\n",
       "\\hline\n",
       "\t sitegmo        & 106569\\\\\n",
       "\t funalibaba     &  72690\\\\\n",
       "\t sitenamecheap  &  53536\\\\\n",
       "\t pwnamecheap    &  50470\\\\\n",
       "\t onlinego daddy &  42162\\\\\n",
       "\t sitegandi sas  &  35309\\\\\n",
       "\\end{tabular}\n"
      ],
      "text/markdown": [
       "\n",
       "A data.table: 6 × 2\n",
       "\n",
       "| tld_registrar_index &lt;chr&gt; | n &lt;int&gt; |\n",
       "|---|---|\n",
       "| sitegmo        | 106569 |\n",
       "| funalibaba     |  72690 |\n",
       "| sitenamecheap  |  53536 |\n",
       "| pwnamecheap    |  50470 |\n",
       "| onlinego daddy |  42162 |\n",
       "| sitegandi sas  |  35309 |\n",
       "\n"
      ],
      "text/plain": [
       "  tld_registrar_index n     \n",
       "1 sitegmo             106569\n",
       "2 funalibaba           72690\n",
       "3 sitenamecheap        53536\n",
       "4 pwnamecheap          50470\n",
       "5 onlinego daddy       42162\n",
       "6 sitegandi sas        35309"
      ]
     },
     "metadata": {},
     "output_type": "display_data"
    }
   ],
   "source": [
    "compare_DF %>% select(tld_registrar_index,n) %>% unique() %>% head()"
   ]
  },
  {
   "cell_type": "markdown",
   "metadata": {},
   "source": [
    "## Output performance metrics\n",
    "for each model:\n",
    "- lift10\n",
    "- auc"
   ]
  },
  {
   "cell_type": "code",
   "execution_count": 117,
   "metadata": {},
   "outputs": [],
   "source": [
    "l10_seg2_glm <- unlist(lapply(lapply(compare_df_list_0001_1723, chart_lift, dep_var = \"actual\", \n",
    "                                     pred_var = \"pred_df_seg2_glm\"), function(x) x[[1,\"lift\"]]))\n",
    "l10_seg_glm <- unlist(lapply(lapply(compare_df_list_0001_1723, chart_lift, dep_var = \"actual\", \n",
    "                                     pred_var = \"pred_df_seg_glm\"), function(x) x[[1,\"lift\"]]))\n",
    "l10_agg_glm <- unlist(lapply(lapply(compare_df_list_0001_1723, chart_lift, dep_var = \"actual\", \n",
    "                                     pred_var = \"pred_df_agg_glm\"), function(x) x[[1,\"lift\"]]))\n",
    "l10_seg2_rf <- unlist(lapply(lapply(compare_df_list_0001_1723, chart_lift, dep_var = \"actual\", \n",
    "                                     pred_var = \"pred_df_seg2_rf\"), function(x) x[[1,\"lift\"]]))\n",
    "l10_seg_rf <- unlist(lapply(lapply(compare_df_list_0001_1723, chart_lift, dep_var = \"actual\", \n",
    "                                     pred_var = \"pred_df_seg_rf\"), function(x) x[[1,\"lift\"]]))\n",
    "l10_agg_rf <- unlist(lapply(lapply(compare_df_list_0001_1723, chart_lift, dep_var = \"actual\", \n",
    "                                     pred_var = \"pred_df_agg_rf\"), function(x) x[[1,\"lift\"]]))"
   ]
  },
  {
   "cell_type": "code",
   "execution_count": 120,
   "metadata": {},
   "outputs": [],
   "source": [
    "auc_seg2_glm <- unlist(lapply(lapply(compare_df_list_0001_1723, chart_lift, dep_var = \"actual\", \n",
    "                                     pred_var = \"pred_df_seg2_glm\"), calc_auc))\n",
    "auc_seg_glm <- unlist(lapply(lapply(compare_df_list_0001_1723, chart_lift, dep_var = \"actual\", \n",
    "                                     pred_var = \"pred_df_seg_glm\"), calc_auc))\n",
    "auc_agg_glm <- unlist(lapply(lapply(compare_df_list_0001_1723, chart_lift, dep_var = \"actual\", \n",
    "                                     pred_var = \"pred_df_agg_glm\"), calc_auc))\n",
    "auc_seg2_rf <- unlist(lapply(lapply(compare_df_list_0001_1723, chart_lift, dep_var = \"actual\", \n",
    "                                     pred_var = \"pred_df_seg2_rf\"), calc_auc))\n",
    "auc_seg_rf <- unlist(lapply(lapply(compare_df_list_0001_1723, chart_lift, dep_var = \"actual\", \n",
    "                                     pred_var = \"pred_df_seg_rf\"), calc_auc))\n",
    "auc_agg_rf <- unlist(lapply(lapply(compare_df_list_0001_1723, chart_lift, dep_var = \"actual\", \n",
    "                                     pred_var = \"pred_df_agg_rf\"), calc_auc))"
   ]
  },
  {
   "cell_type": "code",
   "execution_count": 136,
   "metadata": {},
   "outputs": [
    {
     "data": {
      "text/html": [
       "<style>\n",
       ".list-inline {list-style: none; margin:0; padding: 0}\n",
       ".list-inline>li {display: inline-block}\n",
       ".list-inline>li:not(:last-child)::after {content: \"\\00b7\"; padding: 0 .5ex}\n",
       "</style>\n",
       "<ol class=list-inline><li>1723</li><li>9</li></ol>\n"
      ],
      "text/latex": [
       "\\begin{enumerate*}\n",
       "\\item 1723\n",
       "\\item 9\n",
       "\\end{enumerate*}\n"
      ],
      "text/markdown": [
       "1. 1723\n",
       "2. 9\n",
       "\n",
       "\n"
      ],
      "text/plain": [
       "[1] 1723    9"
      ]
     },
     "metadata": {},
     "output_type": "display_data"
    },
    {
     "data": {
      "text/html": [
       "<table>\n",
       "<caption>A data.frame: 6 × 9</caption>\n",
       "<thead>\n",
       "\t<tr><th></th><th scope=col>tld_registrar_index</th><th scope=col>reseller</th><th scope=col>n</th><th scope=col>l10_seg2_glm</th><th scope=col>l10_seg_glm</th><th scope=col>l10_agg_glm</th><th scope=col>l10_seg2_rf</th><th scope=col>l10_seg_rf</th><th scope=col>l10_agg_rf</th></tr>\n",
       "\t<tr><th></th><th scope=col>&lt;chr&gt;</th><th scope=col>&lt;chr&gt;</th><th scope=col>&lt;int&gt;</th><th scope=col>&lt;dbl&gt;</th><th scope=col>&lt;dbl&gt;</th><th scope=col>&lt;dbl&gt;</th><th scope=col>&lt;dbl&gt;</th><th scope=col>&lt;dbl&gt;</th><th scope=col>&lt;dbl&gt;</th></tr>\n",
       "</thead>\n",
       "<tbody>\n",
       "\t<tr><th scope=row>1</th><td>sitegmo       </td><td>gmo      </td><td>106569</td><td>8.204334</td><td>8.126935</td><td>6.408669</td><td>8.777090</td><td>8.761610</td><td>8.591331</td></tr>\n",
       "\t<tr><th scope=row>2</th><td>funalibaba    </td><td>alibaba  </td><td> 72690</td><td>4.883721</td><td>5.255814</td><td>5.023256</td><td>5.813953</td><td>6.000000</td><td>6.186047</td></tr>\n",
       "\t<tr><th scope=row>3</th><td>sitenamecheap </td><td>namecheap</td><td> 53536</td><td>2.298025</td><td>1.921005</td><td>1.885099</td><td>2.280072</td><td>2.028725</td><td>2.046679</td></tr>\n",
       "\t<tr><th scope=row>4</th><td>pwnamecheap   </td><td>namecheap</td><td> 50470</td><td>3.478261</td><td>3.675889</td><td>3.675889</td><td>3.438735</td><td>4.071146</td><td>4.308300</td></tr>\n",
       "\t<tr><th scope=row>5</th><td>onlinego daddy</td><td>go daddy </td><td> 42162</td><td>2.850995</td><td>2.883271</td><td>2.474449</td><td>2.598171</td><td>2.727273</td><td>2.646584</td></tr>\n",
       "\t<tr><th scope=row>6</th><td>sitegandi sas </td><td>gandi sas</td><td> 35309</td><td>8.243243</td><td>8.445946</td><td>7.094595</td><td>4.932432</td><td>8.445946</td><td>8.581081</td></tr>\n",
       "</tbody>\n",
       "</table>\n"
      ],
      "text/latex": [
       "A data.frame: 6 × 9\n",
       "\\begin{tabular}{r|lllllllll}\n",
       "  & tld\\_registrar\\_index & reseller & n & l10\\_seg2\\_glm & l10\\_seg\\_glm & l10\\_agg\\_glm & l10\\_seg2\\_rf & l10\\_seg\\_rf & l10\\_agg\\_rf\\\\\n",
       "  & <chr> & <chr> & <int> & <dbl> & <dbl> & <dbl> & <dbl> & <dbl> & <dbl>\\\\\n",
       "\\hline\n",
       "\t1 & sitegmo        & gmo       & 106569 & 8.204334 & 8.126935 & 6.408669 & 8.777090 & 8.761610 & 8.591331\\\\\n",
       "\t2 & funalibaba     & alibaba   &  72690 & 4.883721 & 5.255814 & 5.023256 & 5.813953 & 6.000000 & 6.186047\\\\\n",
       "\t3 & sitenamecheap  & namecheap &  53536 & 2.298025 & 1.921005 & 1.885099 & 2.280072 & 2.028725 & 2.046679\\\\\n",
       "\t4 & pwnamecheap    & namecheap &  50470 & 3.478261 & 3.675889 & 3.675889 & 3.438735 & 4.071146 & 4.308300\\\\\n",
       "\t5 & onlinego daddy & go daddy  &  42162 & 2.850995 & 2.883271 & 2.474449 & 2.598171 & 2.727273 & 2.646584\\\\\n",
       "\t6 & sitegandi sas  & gandi sas &  35309 & 8.243243 & 8.445946 & 7.094595 & 4.932432 & 8.445946 & 8.581081\\\\\n",
       "\\end{tabular}\n"
      ],
      "text/markdown": [
       "\n",
       "A data.frame: 6 × 9\n",
       "\n",
       "| <!--/--> | tld_registrar_index &lt;chr&gt; | reseller &lt;chr&gt; | n &lt;int&gt; | l10_seg2_glm &lt;dbl&gt; | l10_seg_glm &lt;dbl&gt; | l10_agg_glm &lt;dbl&gt; | l10_seg2_rf &lt;dbl&gt; | l10_seg_rf &lt;dbl&gt; | l10_agg_rf &lt;dbl&gt; |\n",
       "|---|---|---|---|---|---|---|---|---|---|\n",
       "| 1 | sitegmo        | gmo       | 106569 | 8.204334 | 8.126935 | 6.408669 | 8.777090 | 8.761610 | 8.591331 |\n",
       "| 2 | funalibaba     | alibaba   |  72690 | 4.883721 | 5.255814 | 5.023256 | 5.813953 | 6.000000 | 6.186047 |\n",
       "| 3 | sitenamecheap  | namecheap |  53536 | 2.298025 | 1.921005 | 1.885099 | 2.280072 | 2.028725 | 2.046679 |\n",
       "| 4 | pwnamecheap    | namecheap |  50470 | 3.478261 | 3.675889 | 3.675889 | 3.438735 | 4.071146 | 4.308300 |\n",
       "| 5 | onlinego daddy | go daddy  |  42162 | 2.850995 | 2.883271 | 2.474449 | 2.598171 | 2.727273 | 2.646584 |\n",
       "| 6 | sitegandi sas  | gandi sas |  35309 | 8.243243 | 8.445946 | 7.094595 | 4.932432 | 8.445946 | 8.581081 |\n",
       "\n"
      ],
      "text/plain": [
       "  tld_registrar_index reseller  n      l10_seg2_glm l10_seg_glm l10_agg_glm\n",
       "1 sitegmo             gmo       106569 8.204334     8.126935    6.408669   \n",
       "2 funalibaba          alibaba    72690 4.883721     5.255814    5.023256   \n",
       "3 sitenamecheap       namecheap  53536 2.298025     1.921005    1.885099   \n",
       "4 pwnamecheap         namecheap  50470 3.478261     3.675889    3.675889   \n",
       "5 onlinego daddy      go daddy   42162 2.850995     2.883271    2.474449   \n",
       "6 sitegandi sas       gandi sas  35309 8.243243     8.445946    7.094595   \n",
       "  l10_seg2_rf l10_seg_rf l10_agg_rf\n",
       "1 8.777090    8.761610   8.591331  \n",
       "2 5.813953    6.000000   6.186047  \n",
       "3 2.280072    2.028725   2.046679  \n",
       "4 3.438735    4.071146   4.308300  \n",
       "5 2.598171    2.727273   2.646584  \n",
       "6 4.932432    8.445946   8.581081  "
      ]
     },
     "metadata": {},
     "output_type": "display_data"
    }
   ],
   "source": [
    "df1 <- data.frame(cbind(l10_seg2_glm,l10_seg_glm,l10_agg_glm,\n",
    "                       l10_seg2_rf,l10_seg_rf,l10_agg_rf))\n",
    "df1 <- cbind(data.frame(tld_reseller_lookup_df), df1)\n",
    "dim(df1)\n",
    "head(df1)"
   ]
  },
  {
   "cell_type": "code",
   "execution_count": 139,
   "metadata": {},
   "outputs": [],
   "source": [
    "write.csv(df1, \"../../data/output/tld_reseller_compare_metrics.csv\", row.names=FALSE)"
   ]
  },
  {
   "cell_type": "code",
   "execution_count": 140,
   "metadata": {},
   "outputs": [],
   "source": [
    "system(\"gsutil cp /home/jupyter/local/Domains_202003/data/output/* gs://data_outputt/output/\")\n",
    "system(\"mv /home/jupyter/local/Domains_202003/data/output/* /home/jupyter/local/Domains_202003/data/\")"
   ]
  },
  {
   "cell_type": "code",
   "execution_count": null,
   "metadata": {},
   "outputs": [],
   "source": []
  }
 ],
 "metadata": {
  "environment": {
   "name": "r-cpu.3-6.m48",
   "type": "gcloud",
   "uri": "gcr.io/deeplearning-platform-release/r-cpu.3-6:m48"
  },
  "kernelspec": {
   "display_name": "R",
   "language": "R",
   "name": "ir"
  },
  "language_info": {
   "codemirror_mode": "r",
   "file_extension": ".r",
   "mimetype": "text/x-r-source",
   "name": "R",
   "pygments_lexer": "r",
   "version": "3.6.3"
  }
 },
 "nbformat": 4,
 "nbformat_minor": 4
}
