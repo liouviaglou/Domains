{
 "cells": [
  {
   "cell_type": "markdown",
   "metadata": {},
   "source": [
    "# Experiments on single reseller segment -- 'gmo'\n",
    "1. tld-segmented glm\n",
    "2. agg glm\n",
    "3. agg rf w/ default\n",
    "4. agg rf w/ respect.unordered.factors=FALSE \n",
    "\n",
    "https://win-vector.com/2016/05/30/on-ranger-respect-unordered-factors/"
   ]
  },
  {
   "cell_type": "code",
   "execution_count": 1,
   "metadata": {},
   "outputs": [],
   "source": [
    "options(repr.matrix.max.cols=50, repr.matrix.max.rows=100)"
   ]
  },
  {
   "cell_type": "code",
   "execution_count": 2,
   "metadata": {},
   "outputs": [
    {
     "name": "stderr",
     "output_type": "stream",
     "text": [
      "\n",
      "Attaching package: ‘dplyr’\n",
      "\n",
      "\n",
      "The following objects are masked from ‘package:stats’:\n",
      "\n",
      "    filter, lag\n",
      "\n",
      "\n",
      "The following objects are masked from ‘package:base’:\n",
      "\n",
      "    intersect, setdiff, setequal, union\n",
      "\n",
      "\n",
      "\n",
      "Attaching package: ‘data.table’\n",
      "\n",
      "\n",
      "The following objects are masked from ‘package:dplyr’:\n",
      "\n",
      "    between, first, last\n",
      "\n",
      "\n",
      "Loading required package: grid\n",
      "\n",
      "Loading required package: libcoin\n",
      "\n",
      "Loading required package: mvtnorm\n",
      "\n",
      "Loading required package: lattice\n",
      "\n",
      "Loading required package: ggplot2\n",
      "\n",
      "randomForest 4.6-14\n",
      "\n",
      "Type rfNews() to see new features/changes/bug fixes.\n",
      "\n",
      "\n",
      "Attaching package: ‘randomForest’\n",
      "\n",
      "\n",
      "The following object is masked from ‘package:ggplot2’:\n",
      "\n",
      "    margin\n",
      "\n",
      "\n",
      "The following object is masked from ‘package:dplyr’:\n",
      "\n",
      "    combine\n",
      "\n",
      "\n",
      "\n",
      "Attaching package: ‘ranger’\n",
      "\n",
      "\n",
      "The following object is masked from ‘package:randomForest’:\n",
      "\n",
      "    importance\n",
      "\n",
      "\n",
      "\n",
      "Attaching package: ‘plotly’\n",
      "\n",
      "\n",
      "The following object is masked from ‘package:ggplot2’:\n",
      "\n",
      "    last_plot\n",
      "\n",
      "\n",
      "The following object is masked from ‘package:stats’:\n",
      "\n",
      "    filter\n",
      "\n",
      "\n",
      "The following object is masked from ‘package:graphics’:\n",
      "\n",
      "    layout\n",
      "\n",
      "\n",
      "Loading required package: RJSONIO\n",
      "\n"
     ]
    },
    {
     "data": {
      "text/html": [
       "'/home/jupyter/local/Domains_202003/scripts/phaseII_05_moredata'"
      ],
      "text/latex": [
       "'/home/jupyter/local/Domains\\_202003/scripts/phaseII\\_05\\_moredata'"
      ],
      "text/markdown": [
       "'/home/jupyter/local/Domains_202003/scripts/phaseII_05_moredata'"
      ],
      "text/plain": [
       "[1] \"/home/jupyter/local/Domains_202003/scripts/phaseII_05_moredata\""
      ]
     },
     "metadata": {},
     "output_type": "display_data"
    }
   ],
   "source": [
    "library(dplyr)\n",
    "library(data.table)\n",
    "library(partykit)\n",
    "library(tictoc)\n",
    "library(caret)\n",
    "library(e1071)\n",
    "library(randomForest)\n",
    "library(ranger)\n",
    "\n",
    "#for 3d plotting\n",
    "library(akima)\n",
    "library(plotly)\n",
    "\n",
    "# for prep data\n",
    "library(rPython)\n",
    "library(stringr)\n",
    "library(pbapply)\n",
    "library(stringdist)\n",
    "library(data.table)\n",
    "library(dominanceanalysis)\n",
    "\n",
    "getwd()"
   ]
  },
  {
   "cell_type": "code",
   "execution_count": 57,
   "metadata": {},
   "outputs": [],
   "source": [
    "\n",
    "source('../orig/functions.R')\n",
    "\n",
    "source('../orig/functions_models.R')\n",
    "\n",
    "source('../phaseII_03_forest/functions_eval.R')\n",
    "\n",
    "\n",
    "# source('../phaseII_03_forest/load_prep_data_expiry.R')\n",
    "\n",
    "# expiry_train_prepped_2_1 (list, less df's w/ 0 obs)\n",
    "# expiry_test_prepped_2_1  (list, less df's w/ 0 obs)\n",
    "# expiry_train_df_1 (above, rbound)\n",
    "# expiry_test_df_1 (above, rbound)\n",
    "# expiry_train_df_sub (subset vars)                                        \n",
    "# expiry_test_df_sub (subset vars)"
   ]
  },
  {
   "cell_type": "code",
   "execution_count": 6,
   "metadata": {},
   "outputs": [
    {
     "data": {
      "text/html": [
       "<table>\n",
       "<caption>A tibble: 6 × 2</caption>\n",
       "<thead>\n",
       "\t<tr><th scope=col>reseller</th><th scope=col>n</th></tr>\n",
       "\t<tr><th scope=col>&lt;chr&gt;</th><th scope=col>&lt;int&gt;</th></tr>\n",
       "</thead>\n",
       "<tbody>\n",
       "\t<tr><td>namecheap   </td><td>221470</td></tr>\n",
       "\t<tr><td>alibaba     </td><td>123060</td></tr>\n",
       "\t<tr><td>gmo         </td><td>115069</td></tr>\n",
       "\t<tr><td>go daddy    </td><td>108988</td></tr>\n",
       "\t<tr><td>reg.ru      </td><td> 61355</td></tr>\n",
       "\t<tr><td>chengdu west</td><td> 55831</td></tr>\n",
       "</tbody>\n",
       "</table>\n"
      ],
      "text/latex": [
       "A tibble: 6 × 2\n",
       "\\begin{tabular}{ll}\n",
       " reseller & n\\\\\n",
       " <chr> & <int>\\\\\n",
       "\\hline\n",
       "\t namecheap    & 221470\\\\\n",
       "\t alibaba      & 123060\\\\\n",
       "\t gmo          & 115069\\\\\n",
       "\t go daddy     & 108988\\\\\n",
       "\t reg.ru       &  61355\\\\\n",
       "\t chengdu west &  55831\\\\\n",
       "\\end{tabular}\n"
      ],
      "text/markdown": [
       "\n",
       "A tibble: 6 × 2\n",
       "\n",
       "| reseller &lt;chr&gt; | n &lt;int&gt; |\n",
       "|---|---|\n",
       "| namecheap    | 221470 |\n",
       "| alibaba      | 123060 |\n",
       "| gmo          | 115069 |\n",
       "| go daddy     | 108988 |\n",
       "| reg.ru       |  61355 |\n",
       "| chengdu west |  55831 |\n",
       "\n"
      ],
      "text/plain": [
       "  reseller     n     \n",
       "1 namecheap    221470\n",
       "2 alibaba      123060\n",
       "3 gmo          115069\n",
       "4 go daddy     108988\n",
       "5 reg.ru        61355\n",
       "6 chengdu west  55831"
      ]
     },
     "metadata": {},
     "output_type": "display_data"
    }
   ],
   "source": [
    "expiry_train_df_sub %>% group_by(reseller) %>% tally() %>% arrange(desc(n)) %>% head()"
   ]
  },
  {
   "cell_type": "markdown",
   "metadata": {},
   "source": [
    "# GMO"
   ]
  },
  {
   "cell_type": "code",
   "execution_count": 112,
   "metadata": {},
   "outputs": [
    {
     "name": "stderr",
     "output_type": "stream",
     "text": [
      "Column 37 ['pattern'] of item 8 appears in position 36 in item 7. Set use.names=TRUE to match by column name, or use.names=FALSE to ignore column names. use.names='check' (default from v1.12.2) emits this message and proceeds as if use.names=FALSE for  backwards compatibility. See news item 5 in v1.12.2 for options to control this message.\n",
      "\n"
     ]
    },
    {
     "data": {
      "text/html": [
       "<style>\n",
       ".list-inline {list-style: none; margin:0; padding: 0}\n",
       ".list-inline>li {display: inline-block}\n",
       ".list-inline>li:not(:last-child)::after {content: \"\\00b7\"; padding: 0 .5ex}\n",
       "</style>\n",
       "<ol class=list-inline><li>115069</li><li>39</li></ol>\n"
      ],
      "text/latex": [
       "\\begin{enumerate*}\n",
       "\\item 115069\n",
       "\\item 39\n",
       "\\end{enumerate*}\n"
      ],
      "text/markdown": [
       "1. 115069\n",
       "2. 39\n",
       "\n",
       "\n"
      ],
      "text/plain": [
       "[1] 115069     39"
      ]
     },
     "metadata": {},
     "output_type": "display_data"
    },
    {
     "data": {
      "text/html": [
       "<style>\n",
       ".list-inline {list-style: none; margin:0; padding: 0}\n",
       ".list-inline>li {display: inline-block}\n",
       ".list-inline>li:not(:last-child)::after {content: \"\\00b7\"; padding: 0 .5ex}\n",
       "</style>\n",
       "<ol class=list-inline><li>115069</li><li>39</li></ol>\n"
      ],
      "text/latex": [
       "\\begin{enumerate*}\n",
       "\\item 115069\n",
       "\\item 39\n",
       "\\end{enumerate*}\n"
      ],
      "text/markdown": [
       "1. 115069\n",
       "2. 39\n",
       "\n",
       "\n"
      ],
      "text/plain": [
       "[1] 115069     39"
      ]
     },
     "metadata": {},
     "output_type": "display_data"
    },
    {
     "name": "stderr",
     "output_type": "stream",
     "text": [
      "Column 37 ['pattern'] of item 2 appears in position 36 in item 1. Set use.names=TRUE to match by column name, or use.names=FALSE to ignore column names. use.names='check' (default from v1.12.2) emits this message and proceeds as if use.names=FALSE for  backwards compatibility. See news item 5 in v1.12.2 for options to control this message.\n",
      "\n"
     ]
    },
    {
     "data": {
      "text/html": [
       "<style>\n",
       ".list-inline {list-style: none; margin:0; padding: 0}\n",
       ".list-inline>li {display: inline-block}\n",
       ".list-inline>li:not(:last-child)::after {content: \"\\00b7\"; padding: 0 .5ex}\n",
       "</style>\n",
       "<ol class=list-inline><li>28576</li><li>39</li></ol>\n"
      ],
      "text/latex": [
       "\\begin{enumerate*}\n",
       "\\item 28576\n",
       "\\item 39\n",
       "\\end{enumerate*}\n"
      ],
      "text/markdown": [
       "1. 28576\n",
       "2. 39\n",
       "\n",
       "\n"
      ],
      "text/plain": [
       "[1] 28576    39"
      ]
     },
     "metadata": {},
     "output_type": "display_data"
    },
    {
     "data": {
      "text/html": [
       "<style>\n",
       ".list-inline {list-style: none; margin:0; padding: 0}\n",
       ".list-inline>li {display: inline-block}\n",
       ".list-inline>li:not(:last-child)::after {content: \"\\00b7\"; padding: 0 .5ex}\n",
       "</style>\n",
       "<ol class=list-inline><li>28576</li><li>39</li></ol>\n"
      ],
      "text/latex": [
       "\\begin{enumerate*}\n",
       "\\item 28576\n",
       "\\item 39\n",
       "\\end{enumerate*}\n"
      ],
      "text/markdown": [
       "1. 28576\n",
       "2. 39\n",
       "\n",
       "\n"
      ],
      "text/plain": [
       "[1] 28576    39"
      ]
     },
     "metadata": {},
     "output_type": "display_data"
    }
   ],
   "source": [
    "reseller_str = 'gmo'\n",
    "\n",
    "tld_registrars = names(expiry_train_prepped_2_1)[grep(reseller_str, names(expiry_train_prepped_2_1))]\n",
    "expiry_train_prepped_2_1_sub = expiry_train_prepped_2_1[tld_registrars]\n",
    "expiry_test_prepped_2_1_sub = expiry_test_prepped_2_1[tld_registrars]\n",
    "\n",
    "expiry_train_df_1_sub = expiry_train_df_1 %>% filter(reseller==reseller_str)\n",
    "expiry_test_df_1_sub = expiry_test_df_1 %>% filter(reseller==reseller_str)\n",
    "\n",
    "dim(rbindlist(expiry_train_prepped_2_1_sub))\n",
    "dim(expiry_train_df_1_sub)\n",
    "dim(rbindlist(expiry_test_prepped_2_1_sub))\n",
    "dim(expiry_test_df_1_sub)"
   ]
  },
  {
   "cell_type": "code",
   "execution_count": 113,
   "metadata": {},
   "outputs": [
    {
     "data": {
      "text/html": [
       "<style>\n",
       ".list-inline {list-style: none; margin:0; padding: 0}\n",
       ".list-inline>li {display: inline-block}\n",
       ".list-inline>li:not(:last-child)::after {content: \"\\00b7\"; padding: 0 .5ex}\n",
       "</style>\n",
       "<ol class=list-inline><li>'fungmo'</li><li>'hostgmo'</li><li>'in.netgmo'</li><li>'onlinegmo'</li><li>'pressgmo'</li><li>'pwgmo'</li><li>'sitegmo'</li><li>'spacegmo'</li><li>'storegmo'</li><li>'techgmo'</li><li>'websitegmo'</li></ol>\n"
      ],
      "text/latex": [
       "\\begin{enumerate*}\n",
       "\\item 'fungmo'\n",
       "\\item 'hostgmo'\n",
       "\\item 'in.netgmo'\n",
       "\\item 'onlinegmo'\n",
       "\\item 'pressgmo'\n",
       "\\item 'pwgmo'\n",
       "\\item 'sitegmo'\n",
       "\\item 'spacegmo'\n",
       "\\item 'storegmo'\n",
       "\\item 'techgmo'\n",
       "\\item 'websitegmo'\n",
       "\\end{enumerate*}\n"
      ],
      "text/markdown": [
       "1. 'fungmo'\n",
       "2. 'hostgmo'\n",
       "3. 'in.netgmo'\n",
       "4. 'onlinegmo'\n",
       "5. 'pressgmo'\n",
       "6. 'pwgmo'\n",
       "7. 'sitegmo'\n",
       "8. 'spacegmo'\n",
       "9. 'storegmo'\n",
       "10. 'techgmo'\n",
       "11. 'websitegmo'\n",
       "\n",
       "\n"
      ],
      "text/plain": [
       " [1] \"fungmo\"     \"hostgmo\"    \"in.netgmo\"  \"onlinegmo\"  \"pressgmo\"  \n",
       " [6] \"pwgmo\"      \"sitegmo\"    \"spacegmo\"   \"storegmo\"   \"techgmo\"   \n",
       "[11] \"websitegmo\""
      ]
     },
     "metadata": {},
     "output_type": "display_data"
    }
   ],
   "source": [
    "names(expiry_train_prepped_2_1_sub)"
   ]
  },
  {
   "cell_type": "code",
   "execution_count": 114,
   "metadata": {},
   "outputs": [
    {
     "data": {
      "text/html": [
       "<table>\n",
       "<caption>A data.table: 6 × 39</caption>\n",
       "<thead>\n",
       "\t<tr><th scope=col>renewal_type</th><th scope=col>renewed_count</th><th scope=col>expiry_date</th><th scope=col>domain_id</th><th scope=col>domain</th><th scope=col>creation_date</th><th scope=col>status</th><th scope=col>tld</th><th scope=col>registrar</th><th scope=col>reseller</th><th scope=col>reseller_country</th><th scope=col>region</th><th scope=col>reg_period</th><th scope=col>registrant_country</th><th scope=col>renewal_status</th><th scope=col>renew_mbg</th><th scope=col>renew_type</th><th scope=col>autorenew_type</th><th scope=col>renew_date</th><th scope=col>renew_registrar</th><th scope=col>renew_reseller</th><th scope=col>reg_revenue</th><th scope=col>reg_arpt</th><th scope=col>renew_period</th><th scope=col>renew_domain_revenue</th><th scope=col>renew_arpt</th><th scope=col>reg_arpt_org</th><th scope=col>tld_registrar_index</th><th scope=col>sld</th><th scope=col>sld_type</th><th scope=col>sld_length</th><th scope=col>sld_type2</th><th scope=col>day_domains</th><th scope=col>log_reg_arpt</th><th scope=col>gibb_score</th><th scope=col>pattern</th><th scope=col>cluster</th><th scope=col>pattern_score</th><th scope=col>pattern_domain_count</th></tr>\n",
       "\t<tr><th scope=col>&lt;chr&gt;</th><th scope=col>&lt;int&gt;</th><th scope=col>&lt;date&gt;</th><th scope=col>&lt;int&gt;</th><th scope=col>&lt;chr&gt;</th><th scope=col>&lt;date&gt;</th><th scope=col>&lt;chr&gt;</th><th scope=col>&lt;fct&gt;</th><th scope=col>&lt;chr&gt;</th><th scope=col>&lt;chr&gt;</th><th scope=col>&lt;chr&gt;</th><th scope=col>&lt;chr&gt;</th><th scope=col>&lt;int&gt;</th><th scope=col>&lt;chr&gt;</th><th scope=col>&lt;fct&gt;</th><th scope=col>&lt;int&gt;</th><th scope=col>&lt;chr&gt;</th><th scope=col>&lt;chr&gt;</th><th scope=col>&lt;date&gt;</th><th scope=col>&lt;chr&gt;</th><th scope=col>&lt;chr&gt;</th><th scope=col>&lt;dbl&gt;</th><th scope=col>&lt;dbl&gt;</th><th scope=col>&lt;int&gt;</th><th scope=col>&lt;dbl&gt;</th><th scope=col>&lt;dbl&gt;</th><th scope=col>&lt;dbl&gt;</th><th scope=col>&lt;chr&gt;</th><th scope=col>&lt;chr&gt;</th><th scope=col>&lt;fct&gt;</th><th scope=col>&lt;int&gt;</th><th scope=col>&lt;chr&gt;</th><th scope=col>&lt;int&gt;</th><th scope=col>&lt;dbl&gt;</th><th scope=col>&lt;dbl&gt;</th><th scope=col>&lt;chr&gt;</th><th scope=col>&lt;chr&gt;</th><th scope=col>&lt;dbl&gt;</th><th scope=col>&lt;int&gt;</th></tr>\n",
       "</thead>\n",
       "<tbody>\n",
       "\t<tr><td>FirstTime</td><td>1</td><td>2020-04-06</td><td>46580710</td><td>shirokuma.fun   </td><td>2017-04-06</td><td>Active</td><td>fun</td><td>gmo</td><td>gmo</td><td>Japan</td><td>Non China</td><td>3</td><td>NA</td><td>Renewed   </td><td>0</td><td>renewal     </td><td>NA        </td><td>2020-03-07</td><td>GMO</td><td>GMO</td><td>38</td><td>12.67</td><td>3</td><td>45</td><td>15</td><td>12.67</td><td>fungmo</td><td>shirokuma   </td><td>l       </td><td> 9</td><td>9l        </td><td>1</td><td>2.539237</td><td>  4.99</td><td>shirokuma   </td><td>1</td><td>1</td><td>1</td></tr>\n",
       "\t<tr><td>FirstTime</td><td>1</td><td>2020-04-12</td><td>46776348</td><td>ibaraki-rail.fun</td><td>2017-04-12</td><td>Active</td><td>fun</td><td>gmo</td><td>gmo</td><td>Japan</td><td>Non China</td><td>3</td><td>NA</td><td>Renewed   </td><td>0</td><td>renewal     </td><td>NA        </td><td>2020-03-27</td><td>GMO</td><td>GMO</td><td>38</td><td>12.67</td><td>1</td><td>15</td><td>15</td><td>12.67</td><td>fungmo</td><td>ibaraki-rail</td><td>hyphen-l</td><td>12</td><td>12hyphen-l</td><td>1</td><td>2.539237</td><td>  4.62</td><td>ibaraki-rail</td><td>1</td><td>1</td><td>1</td></tr>\n",
       "\t<tr><td>FirstTime</td><td>1</td><td>2020-05-02</td><td>47444005</td><td>minique.fun     </td><td>2017-05-02</td><td>Active</td><td>fun</td><td>gmo</td><td>gmo</td><td>Japan</td><td>Non China</td><td>3</td><td>NA</td><td>Renewed   </td><td>0</td><td>renewal     </td><td>NA        </td><td>2020-04-16</td><td>GMO</td><td>GMO</td><td>33</td><td>11.00</td><td>1</td><td>15</td><td>15</td><td>11.00</td><td>fungmo</td><td>minique     </td><td>l       </td><td> 7</td><td>7l        </td><td>1</td><td>2.397895</td><td>  4.75</td><td>minique     </td><td>1</td><td>1</td><td>1</td></tr>\n",
       "\t<tr><td>FirstTime</td><td>1</td><td>2020-05-05</td><td>47520909</td><td>8460.fun        </td><td>2017-05-05</td><td>Active</td><td>fun</td><td>gmo</td><td>gmo</td><td>Japan</td><td>Non China</td><td>3</td><td>NA</td><td>Not Renewd</td><td>0</td><td>auto-renewal</td><td>unrealized</td><td>2020-05-05</td><td>GMO</td><td>GMO</td><td>33</td><td>11.00</td><td>1</td><td>15</td><td>15</td><td>11.00</td><td>fungmo</td><td>8460        </td><td>n       </td><td> 4</td><td>4n        </td><td>1</td><td>2.397895</td><td>100.00</td><td>8460        </td><td>1</td><td>1</td><td>1</td></tr>\n",
       "\t<tr><td>FirstTime</td><td>1</td><td>2020-05-12</td><td>47735564</td><td>nico.fun        </td><td>2017-05-12</td><td>Active</td><td>fun</td><td>gmo</td><td>gmo</td><td>Japan</td><td>Non China</td><td>3</td><td>NA</td><td>Not Renewd</td><td>0</td><td>auto-renewal</td><td>NA        </td><td>2020-05-12</td><td>GMO</td><td>GMO</td><td>33</td><td>11.00</td><td>1</td><td>15</td><td>15</td><td>11.00</td><td>fungmo</td><td>nico        </td><td>l       </td><td> 4</td><td>4l        </td><td>1</td><td>2.397895</td><td>  7.73</td><td>nico        </td><td>1</td><td>1</td><td>1</td></tr>\n",
       "\t<tr><td>FirstTime</td><td>1</td><td>2020-05-30</td><td>48159277</td><td>rosso.fun       </td><td>2017-05-30</td><td>Active</td><td>fun</td><td>gmo</td><td>gmo</td><td>Japan</td><td>Non China</td><td>3</td><td>NA</td><td>Not Renewd</td><td>0</td><td>auto-renewal</td><td>NA        </td><td>2020-05-30</td><td>GMO</td><td>GMO</td><td>33</td><td>11.00</td><td>1</td><td>15</td><td>15</td><td>11.00</td><td>fungmo</td><td>rosso       </td><td>l       </td><td> 5</td><td>5l        </td><td>1</td><td>2.397895</td><td>  5.68</td><td>rosso       </td><td>1</td><td>1</td><td>1</td></tr>\n",
       "</tbody>\n",
       "</table>\n"
      ],
      "text/latex": [
       "A data.table: 6 × 39\n",
       "\\begin{tabular}{lllllllllllllllllllllllllllllllllllllll}\n",
       " renewal\\_type & renewed\\_count & expiry\\_date & domain\\_id & domain & creation\\_date & status & tld & registrar & reseller & reseller\\_country & region & reg\\_period & registrant\\_country & renewal\\_status & renew\\_mbg & renew\\_type & autorenew\\_type & renew\\_date & renew\\_registrar & renew\\_reseller & reg\\_revenue & reg\\_arpt & renew\\_period & renew\\_domain\\_revenue & renew\\_arpt & reg\\_arpt\\_org & tld\\_registrar\\_index & sld & sld\\_type & sld\\_length & sld\\_type2 & day\\_domains & log\\_reg\\_arpt & gibb\\_score & pattern & cluster & pattern\\_score & pattern\\_domain\\_count\\\\\n",
       " <chr> & <int> & <date> & <int> & <chr> & <date> & <chr> & <fct> & <chr> & <chr> & <chr> & <chr> & <int> & <chr> & <fct> & <int> & <chr> & <chr> & <date> & <chr> & <chr> & <dbl> & <dbl> & <int> & <dbl> & <dbl> & <dbl> & <chr> & <chr> & <fct> & <int> & <chr> & <int> & <dbl> & <dbl> & <chr> & <chr> & <dbl> & <int>\\\\\n",
       "\\hline\n",
       "\t FirstTime & 1 & 2020-04-06 & 46580710 & shirokuma.fun    & 2017-04-06 & Active & fun & gmo & gmo & Japan & Non China & 3 & NA & Renewed    & 0 & renewal      & NA         & 2020-03-07 & GMO & GMO & 38 & 12.67 & 3 & 45 & 15 & 12.67 & fungmo & shirokuma    & l        &  9 & 9l         & 1 & 2.539237 &   4.99 & shirokuma    & 1 & 1 & 1\\\\\n",
       "\t FirstTime & 1 & 2020-04-12 & 46776348 & ibaraki-rail.fun & 2017-04-12 & Active & fun & gmo & gmo & Japan & Non China & 3 & NA & Renewed    & 0 & renewal      & NA         & 2020-03-27 & GMO & GMO & 38 & 12.67 & 1 & 15 & 15 & 12.67 & fungmo & ibaraki-rail & hyphen-l & 12 & 12hyphen-l & 1 & 2.539237 &   4.62 & ibaraki-rail & 1 & 1 & 1\\\\\n",
       "\t FirstTime & 1 & 2020-05-02 & 47444005 & minique.fun      & 2017-05-02 & Active & fun & gmo & gmo & Japan & Non China & 3 & NA & Renewed    & 0 & renewal      & NA         & 2020-04-16 & GMO & GMO & 33 & 11.00 & 1 & 15 & 15 & 11.00 & fungmo & minique      & l        &  7 & 7l         & 1 & 2.397895 &   4.75 & minique      & 1 & 1 & 1\\\\\n",
       "\t FirstTime & 1 & 2020-05-05 & 47520909 & 8460.fun         & 2017-05-05 & Active & fun & gmo & gmo & Japan & Non China & 3 & NA & Not Renewd & 0 & auto-renewal & unrealized & 2020-05-05 & GMO & GMO & 33 & 11.00 & 1 & 15 & 15 & 11.00 & fungmo & 8460         & n        &  4 & 4n         & 1 & 2.397895 & 100.00 & 8460         & 1 & 1 & 1\\\\\n",
       "\t FirstTime & 1 & 2020-05-12 & 47735564 & nico.fun         & 2017-05-12 & Active & fun & gmo & gmo & Japan & Non China & 3 & NA & Not Renewd & 0 & auto-renewal & NA         & 2020-05-12 & GMO & GMO & 33 & 11.00 & 1 & 15 & 15 & 11.00 & fungmo & nico         & l        &  4 & 4l         & 1 & 2.397895 &   7.73 & nico         & 1 & 1 & 1\\\\\n",
       "\t FirstTime & 1 & 2020-05-30 & 48159277 & rosso.fun        & 2017-05-30 & Active & fun & gmo & gmo & Japan & Non China & 3 & NA & Not Renewd & 0 & auto-renewal & NA         & 2020-05-30 & GMO & GMO & 33 & 11.00 & 1 & 15 & 15 & 11.00 & fungmo & rosso        & l        &  5 & 5l         & 1 & 2.397895 &   5.68 & rosso        & 1 & 1 & 1\\\\\n",
       "\\end{tabular}\n"
      ],
      "text/markdown": [
       "\n",
       "A data.table: 6 × 39\n",
       "\n",
       "| renewal_type &lt;chr&gt; | renewed_count &lt;int&gt; | expiry_date &lt;date&gt; | domain_id &lt;int&gt; | domain &lt;chr&gt; | creation_date &lt;date&gt; | status &lt;chr&gt; | tld &lt;fct&gt; | registrar &lt;chr&gt; | reseller &lt;chr&gt; | reseller_country &lt;chr&gt; | region &lt;chr&gt; | reg_period &lt;int&gt; | registrant_country &lt;chr&gt; | renewal_status &lt;fct&gt; | renew_mbg &lt;int&gt; | renew_type &lt;chr&gt; | autorenew_type &lt;chr&gt; | renew_date &lt;date&gt; | renew_registrar &lt;chr&gt; | renew_reseller &lt;chr&gt; | reg_revenue &lt;dbl&gt; | reg_arpt &lt;dbl&gt; | renew_period &lt;int&gt; | renew_domain_revenue &lt;dbl&gt; | renew_arpt &lt;dbl&gt; | reg_arpt_org &lt;dbl&gt; | tld_registrar_index &lt;chr&gt; | sld &lt;chr&gt; | sld_type &lt;fct&gt; | sld_length &lt;int&gt; | sld_type2 &lt;chr&gt; | day_domains &lt;int&gt; | log_reg_arpt &lt;dbl&gt; | gibb_score &lt;dbl&gt; | pattern &lt;chr&gt; | cluster &lt;chr&gt; | pattern_score &lt;dbl&gt; | pattern_domain_count &lt;int&gt; |\n",
       "|---|---|---|---|---|---|---|---|---|---|---|---|---|---|---|---|---|---|---|---|---|---|---|---|---|---|---|---|---|---|---|---|---|---|---|---|---|---|---|\n",
       "| FirstTime | 1 | 2020-04-06 | 46580710 | shirokuma.fun    | 2017-04-06 | Active | fun | gmo | gmo | Japan | Non China | 3 | NA | Renewed    | 0 | renewal      | NA         | 2020-03-07 | GMO | GMO | 38 | 12.67 | 3 | 45 | 15 | 12.67 | fungmo | shirokuma    | l        |  9 | 9l         | 1 | 2.539237 |   4.99 | shirokuma    | 1 | 1 | 1 |\n",
       "| FirstTime | 1 | 2020-04-12 | 46776348 | ibaraki-rail.fun | 2017-04-12 | Active | fun | gmo | gmo | Japan | Non China | 3 | NA | Renewed    | 0 | renewal      | NA         | 2020-03-27 | GMO | GMO | 38 | 12.67 | 1 | 15 | 15 | 12.67 | fungmo | ibaraki-rail | hyphen-l | 12 | 12hyphen-l | 1 | 2.539237 |   4.62 | ibaraki-rail | 1 | 1 | 1 |\n",
       "| FirstTime | 1 | 2020-05-02 | 47444005 | minique.fun      | 2017-05-02 | Active | fun | gmo | gmo | Japan | Non China | 3 | NA | Renewed    | 0 | renewal      | NA         | 2020-04-16 | GMO | GMO | 33 | 11.00 | 1 | 15 | 15 | 11.00 | fungmo | minique      | l        |  7 | 7l         | 1 | 2.397895 |   4.75 | minique      | 1 | 1 | 1 |\n",
       "| FirstTime | 1 | 2020-05-05 | 47520909 | 8460.fun         | 2017-05-05 | Active | fun | gmo | gmo | Japan | Non China | 3 | NA | Not Renewd | 0 | auto-renewal | unrealized | 2020-05-05 | GMO | GMO | 33 | 11.00 | 1 | 15 | 15 | 11.00 | fungmo | 8460         | n        |  4 | 4n         | 1 | 2.397895 | 100.00 | 8460         | 1 | 1 | 1 |\n",
       "| FirstTime | 1 | 2020-05-12 | 47735564 | nico.fun         | 2017-05-12 | Active | fun | gmo | gmo | Japan | Non China | 3 | NA | Not Renewd | 0 | auto-renewal | NA         | 2020-05-12 | GMO | GMO | 33 | 11.00 | 1 | 15 | 15 | 11.00 | fungmo | nico         | l        |  4 | 4l         | 1 | 2.397895 |   7.73 | nico         | 1 | 1 | 1 |\n",
       "| FirstTime | 1 | 2020-05-30 | 48159277 | rosso.fun        | 2017-05-30 | Active | fun | gmo | gmo | Japan | Non China | 3 | NA | Not Renewd | 0 | auto-renewal | NA         | 2020-05-30 | GMO | GMO | 33 | 11.00 | 1 | 15 | 15 | 11.00 | fungmo | rosso        | l        |  5 | 5l         | 1 | 2.397895 |   5.68 | rosso        | 1 | 1 | 1 |\n",
       "\n"
      ],
      "text/plain": [
       "  renewal_type renewed_count expiry_date domain_id domain          \n",
       "1 FirstTime    1             2020-04-06  46580710  shirokuma.fun   \n",
       "2 FirstTime    1             2020-04-12  46776348  ibaraki-rail.fun\n",
       "3 FirstTime    1             2020-05-02  47444005  minique.fun     \n",
       "4 FirstTime    1             2020-05-05  47520909  8460.fun        \n",
       "5 FirstTime    1             2020-05-12  47735564  nico.fun        \n",
       "6 FirstTime    1             2020-05-30  48159277  rosso.fun       \n",
       "  creation_date status tld registrar reseller reseller_country region   \n",
       "1 2017-04-06    Active fun gmo       gmo      Japan            Non China\n",
       "2 2017-04-12    Active fun gmo       gmo      Japan            Non China\n",
       "3 2017-05-02    Active fun gmo       gmo      Japan            Non China\n",
       "4 2017-05-05    Active fun gmo       gmo      Japan            Non China\n",
       "5 2017-05-12    Active fun gmo       gmo      Japan            Non China\n",
       "6 2017-05-30    Active fun gmo       gmo      Japan            Non China\n",
       "  reg_period registrant_country renewal_status renew_mbg renew_type  \n",
       "1 3          NA                 Renewed        0         renewal     \n",
       "2 3          NA                 Renewed        0         renewal     \n",
       "3 3          NA                 Renewed        0         renewal     \n",
       "4 3          NA                 Not Renewd     0         auto-renewal\n",
       "5 3          NA                 Not Renewd     0         auto-renewal\n",
       "6 3          NA                 Not Renewd     0         auto-renewal\n",
       "  autorenew_type renew_date renew_registrar renew_reseller reg_revenue reg_arpt\n",
       "1 NA             2020-03-07 GMO             GMO            38          12.67   \n",
       "2 NA             2020-03-27 GMO             GMO            38          12.67   \n",
       "3 NA             2020-04-16 GMO             GMO            33          11.00   \n",
       "4 unrealized     2020-05-05 GMO             GMO            33          11.00   \n",
       "5 NA             2020-05-12 GMO             GMO            33          11.00   \n",
       "6 NA             2020-05-30 GMO             GMO            33          11.00   \n",
       "  renew_period renew_domain_revenue renew_arpt reg_arpt_org tld_registrar_index\n",
       "1 3            45                   15         12.67        fungmo             \n",
       "2 1            15                   15         12.67        fungmo             \n",
       "3 1            15                   15         11.00        fungmo             \n",
       "4 1            15                   15         11.00        fungmo             \n",
       "5 1            15                   15         11.00        fungmo             \n",
       "6 1            15                   15         11.00        fungmo             \n",
       "  sld          sld_type sld_length sld_type2  day_domains log_reg_arpt\n",
       "1 shirokuma    l         9         9l         1           2.539237    \n",
       "2 ibaraki-rail hyphen-l 12         12hyphen-l 1           2.539237    \n",
       "3 minique      l         7         7l         1           2.397895    \n",
       "4 8460         n         4         4n         1           2.397895    \n",
       "5 nico         l         4         4l         1           2.397895    \n",
       "6 rosso        l         5         5l         1           2.397895    \n",
       "  gibb_score pattern      cluster pattern_score pattern_domain_count\n",
       "1   4.99     shirokuma    1       1             1                   \n",
       "2   4.62     ibaraki-rail 1       1             1                   \n",
       "3   4.75     minique      1       1             1                   \n",
       "4 100.00     8460         1       1             1                   \n",
       "5   7.73     nico         1       1             1                   \n",
       "6   5.68     rosso        1       1             1                   "
      ]
     },
     "metadata": {},
     "output_type": "display_data"
    }
   ],
   "source": [
    "expiry_train_prepped_2_1_sub[['fungmo']] %>% head()"
   ]
  },
  {
   "cell_type": "markdown",
   "metadata": {},
   "source": [
    "### 1. tld-segmented glm"
   ]
  },
  {
   "cell_type": "code",
   "execution_count": 115,
   "metadata": {},
   "outputs": [
    {
     "name": "stderr",
     "output_type": "stream",
     "text": [
      "Warning message:\n",
      "“glm.fit: fitted probabilities numerically 0 or 1 occurred”\n",
      "Warning message:\n",
      "“glm.fit: fitted probabilities numerically 0 or 1 occurred”\n",
      "Warning message:\n",
      "“glm.fit: fitted probabilities numerically 0 or 1 occurred”\n",
      "Warning message:\n",
      "“glm.fit: fitted probabilities numerically 0 or 1 occurred”\n"
     ]
    }
   ],
   "source": [
    "seg_glm_model = mass_build_model_first_renewal(expiry_train_prepped_2_1_sub)"
   ]
  },
  {
   "cell_type": "code",
   "execution_count": 116,
   "metadata": {},
   "outputs": [
    {
     "name": "stderr",
     "output_type": "stream",
     "text": [
      "Warning message in predict.lm(object, newdata, se.fit, scale = 1, type = if (type == :\n",
      "“prediction from a rank-deficient fit may be misleading”\n",
      "Warning message in predict.lm(object, newdata, se.fit, scale = 1, type = if (type == :\n",
      "“prediction from a rank-deficient fit may be misleading”\n",
      "Warning message in predict.lm(object, newdata, se.fit, scale = 1, type = if (type == :\n",
      "“prediction from a rank-deficient fit may be misleading”\n",
      "Warning message in predict.lm(object, newdata, se.fit, scale = 1, type = if (type == :\n",
      "“prediction from a rank-deficient fit may be misleading”\n"
     ]
    }
   ],
   "source": [
    "seg_glm_pred = mass_predict_first_renewal(expiry_test_prepped_2_1_sub, seg_glm_model)"
   ]
  },
  {
   "cell_type": "code",
   "execution_count": 117,
   "metadata": {},
   "outputs": [],
   "source": [
    "seg_glm_pred_df = data.frame(\"actual\" = seg_glm_pred$renewal_status,\n",
    "          \"predicted\" = seg_glm_pred$first_renewal_prediction)\n",
    "\n",
    "lift_df_seg_glm <- chart_lift(pred_df = seg_glm_pred_df,\n",
    "                        dep_var = \"actual\",\n",
    "                        pred_var = \"predicted\")\n",
    "\n",
    "gains_plot_seg_glm <- plot_gains (lift_df_seg_glm) \n",
    "\n",
    "auc_ranger_seg_glm <- calc_auc(lift_df_seg_glm)"
   ]
  },
  {
   "cell_type": "markdown",
   "metadata": {},
   "source": [
    "### 2.agg glm"
   ]
  },
  {
   "cell_type": "code",
   "execution_count": 118,
   "metadata": {},
   "outputs": [
    {
     "name": "stderr",
     "output_type": "stream",
     "text": [
      "Warning message:\n",
      "“glm.fit: fitted probabilities numerically 0 or 1 occurred”\n"
     ]
    }
   ],
   "source": [
    "agg_glm_model = build_model_first_renewal_reg(expiry_train_df_1_sub)"
   ]
  },
  {
   "cell_type": "code",
   "execution_count": 119,
   "metadata": {},
   "outputs": [],
   "source": [
    "agg_glm_pred = predict_first_renewal_reg(expiry_test_df_1_sub, agg_glm_model)"
   ]
  },
  {
   "cell_type": "code",
   "execution_count": 120,
   "metadata": {},
   "outputs": [],
   "source": [
    "agg_glm_pred_df = data.frame(\"actual\" = agg_glm_pred$renewal_status,\n",
    "          \"predicted\" = agg_glm_pred$first_renewal_prediction)\n",
    "\n",
    "lift_df_agg_glm <- chart_lift(pred_df = agg_glm_pred_df,\n",
    "                        dep_var = \"actual\",\n",
    "                        pred_var = \"predicted\")\n",
    "\n",
    "gains_plot_agg_glm <- plot_gains (lift_df_agg_glm) \n",
    "\n",
    "auc_ranger_agg_glm <- calc_auc(lift_df_agg_glm)"
   ]
  },
  {
   "cell_type": "markdown",
   "metadata": {},
   "source": [
    "### 3. agg rf w/ default"
   ]
  },
  {
   "cell_type": "code",
   "execution_count": 121,
   "metadata": {},
   "outputs": [
    {
     "data": {
      "text/html": [
       "<style>\n",
       ".list-inline {list-style: none; margin:0; padding: 0}\n",
       ".list-inline>li {display: inline-block}\n",
       ".list-inline>li:not(:last-child)::after {content: \"\\00b7\"; padding: 0 .5ex}\n",
       "</style>\n",
       "<ol class=list-inline><li>'renewal_type'</li><li>'renewed_count'</li><li>'expiry_date'</li><li>'domain_id'</li><li>'domain'</li><li>'creation_date'</li><li>'status'</li><li>'tld'</li><li>'registrar'</li><li>'reseller'</li><li>'reseller_country'</li><li>'region'</li><li>'reg_period'</li><li>'registrant_country'</li><li>'renewal_status'</li><li>'renew_mbg'</li><li>'renew_type'</li><li>'autorenew_type'</li><li>'renew_date'</li><li>'renew_registrar'</li><li>'renew_reseller'</li><li>'reg_revenue'</li><li>'reg_arpt'</li><li>'renew_period'</li><li>'renew_domain_revenue'</li><li>'renew_arpt'</li><li>'reg_arpt_org'</li><li>'tld_registrar_index'</li><li>'sld'</li><li>'sld_type'</li><li>'sld_length'</li><li>'sld_type2'</li><li>'day_domains'</li><li>'log_reg_arpt'</li><li>'gibb_score'</li><li>'pattern'</li><li>'cluster'</li><li>'pattern_score'</li><li>'pattern_domain_count'</li></ol>\n"
      ],
      "text/latex": [
       "\\begin{enumerate*}\n",
       "\\item 'renewal\\_type'\n",
       "\\item 'renewed\\_count'\n",
       "\\item 'expiry\\_date'\n",
       "\\item 'domain\\_id'\n",
       "\\item 'domain'\n",
       "\\item 'creation\\_date'\n",
       "\\item 'status'\n",
       "\\item 'tld'\n",
       "\\item 'registrar'\n",
       "\\item 'reseller'\n",
       "\\item 'reseller\\_country'\n",
       "\\item 'region'\n",
       "\\item 'reg\\_period'\n",
       "\\item 'registrant\\_country'\n",
       "\\item 'renewal\\_status'\n",
       "\\item 'renew\\_mbg'\n",
       "\\item 'renew\\_type'\n",
       "\\item 'autorenew\\_type'\n",
       "\\item 'renew\\_date'\n",
       "\\item 'renew\\_registrar'\n",
       "\\item 'renew\\_reseller'\n",
       "\\item 'reg\\_revenue'\n",
       "\\item 'reg\\_arpt'\n",
       "\\item 'renew\\_period'\n",
       "\\item 'renew\\_domain\\_revenue'\n",
       "\\item 'renew\\_arpt'\n",
       "\\item 'reg\\_arpt\\_org'\n",
       "\\item 'tld\\_registrar\\_index'\n",
       "\\item 'sld'\n",
       "\\item 'sld\\_type'\n",
       "\\item 'sld\\_length'\n",
       "\\item 'sld\\_type2'\n",
       "\\item 'day\\_domains'\n",
       "\\item 'log\\_reg\\_arpt'\n",
       "\\item 'gibb\\_score'\n",
       "\\item 'pattern'\n",
       "\\item 'cluster'\n",
       "\\item 'pattern\\_score'\n",
       "\\item 'pattern\\_domain\\_count'\n",
       "\\end{enumerate*}\n"
      ],
      "text/markdown": [
       "1. 'renewal_type'\n",
       "2. 'renewed_count'\n",
       "3. 'expiry_date'\n",
       "4. 'domain_id'\n",
       "5. 'domain'\n",
       "6. 'creation_date'\n",
       "7. 'status'\n",
       "8. 'tld'\n",
       "9. 'registrar'\n",
       "10. 'reseller'\n",
       "11. 'reseller_country'\n",
       "12. 'region'\n",
       "13. 'reg_period'\n",
       "14. 'registrant_country'\n",
       "15. 'renewal_status'\n",
       "16. 'renew_mbg'\n",
       "17. 'renew_type'\n",
       "18. 'autorenew_type'\n",
       "19. 'renew_date'\n",
       "20. 'renew_registrar'\n",
       "21. 'renew_reseller'\n",
       "22. 'reg_revenue'\n",
       "23. 'reg_arpt'\n",
       "24. 'renew_period'\n",
       "25. 'renew_domain_revenue'\n",
       "26. 'renew_arpt'\n",
       "27. 'reg_arpt_org'\n",
       "28. 'tld_registrar_index'\n",
       "29. 'sld'\n",
       "30. 'sld_type'\n",
       "31. 'sld_length'\n",
       "32. 'sld_type2'\n",
       "33. 'day_domains'\n",
       "34. 'log_reg_arpt'\n",
       "35. 'gibb_score'\n",
       "36. 'pattern'\n",
       "37. 'cluster'\n",
       "38. 'pattern_score'\n",
       "39. 'pattern_domain_count'\n",
       "\n",
       "\n"
      ],
      "text/plain": [
       " [1] \"renewal_type\"         \"renewed_count\"        \"expiry_date\"         \n",
       " [4] \"domain_id\"            \"domain\"               \"creation_date\"       \n",
       " [7] \"status\"               \"tld\"                  \"registrar\"           \n",
       "[10] \"reseller\"             \"reseller_country\"     \"region\"              \n",
       "[13] \"reg_period\"           \"registrant_country\"   \"renewal_status\"      \n",
       "[16] \"renew_mbg\"            \"renew_type\"           \"autorenew_type\"      \n",
       "[19] \"renew_date\"           \"renew_registrar\"      \"renew_reseller\"      \n",
       "[22] \"reg_revenue\"          \"reg_arpt\"             \"renew_period\"        \n",
       "[25] \"renew_domain_revenue\" \"renew_arpt\"           \"reg_arpt_org\"        \n",
       "[28] \"tld_registrar_index\"  \"sld\"                  \"sld_type\"            \n",
       "[31] \"sld_length\"           \"sld_type2\"            \"day_domains\"         \n",
       "[34] \"log_reg_arpt\"         \"gibb_score\"           \"pattern\"             \n",
       "[37] \"cluster\"              \"pattern_score\"        \"pattern_domain_count\""
      ]
     },
     "metadata": {},
     "output_type": "display_data"
    }
   ],
   "source": [
    "names(expiry_train_df_1_sub)"
   ]
  },
  {
   "cell_type": "code",
   "execution_count": 123,
   "metadata": {},
   "outputs": [
    {
     "name": "stdout",
     "output_type": "stream",
     "text": [
      "Growing trees.. Progress: 63%. Estimated remaining time: 18 seconds.\n"
     ]
    }
   ],
   "source": [
    "ranger_03_default <- ranger(\n",
    "    formula         = renewal_status ~ ., \n",
    "    data            =  subset(expiry_train_df_1_sub,\n",
    "                              select=c(renewal_status,\n",
    "                                       pattern_domain_count, \n",
    "                                       log_reg_arpt,\n",
    "                                       sld_length, \n",
    "                                       gibb_score,\n",
    "                                       sld_type, \n",
    "                                       day_domains,\n",
    "                                       reg_period, \n",
    "                                       tld)), \n",
    "    importance = 'impurity', \n",
    "    num.trees       = 1000,\n",
    "    probability = TRUE,\n",
    "    mtry            = 3,\n",
    "    min.node.size   = 10,\n",
    "    replace = FALSE,\n",
    "    sample.fraction = .8,\n",
    "    seed            = 123\n",
    ")\n",
    "\n",
    "ranger_predict_03_default <- predict(ranger_03_default, \n",
    "                          data = expiry_test_df_1_sub,\n",
    "                          type=\"response\")$predictions\n",
    "\n",
    "ranger_predict_03_default <- as.data.frame(ranger_predict_03_default)$Renewed\n",
    "\n",
    "ranger_predict_03_default = data.frame(\"actual\" = expiry_test_df_1_sub$renewal_status,\n",
    "          \"predicted\" = ranger_predict_03_default)\n",
    "\n",
    "lift_df_ranger_03_default <- chart_lift(pred_df = ranger_predict_03_default,\n",
    "                        dep_var = \"actual\",\n",
    "                        pred_var = \"predicted\")\n",
    "\n",
    "gains_plot_ranger_03_default <- plot_gains (lift_df_ranger_03_default) \n",
    "\n",
    "auc_ranger_03_default <- calc_auc(lift_df_ranger_03_default)"
   ]
  },
  {
   "cell_type": "markdown",
   "metadata": {},
   "source": [
    "### 4. agg rf w/ respect.unordered.factors=FALSE"
   ]
  },
  {
   "cell_type": "code",
   "execution_count": 124,
   "metadata": {},
   "outputs": [
    {
     "name": "stdout",
     "output_type": "stream",
     "text": [
      "Growing trees.. Progress: 65%. Estimated remaining time: 16 seconds.\n"
     ]
    }
   ],
   "source": [
    "ranger_03_fact <- ranger(\n",
    "    formula         = renewal_status ~ ., \n",
    "    data            =  subset(expiry_train_df_1_sub,\n",
    "                              select=c(renewal_status,\n",
    "                                       pattern_domain_count, \n",
    "                                       log_reg_arpt,\n",
    "                                       sld_length, \n",
    "                                       gibb_score,\n",
    "                                       sld_type, \n",
    "                                       day_domains,\n",
    "                                       reg_period, \n",
    "                                       tld)), \n",
    "    importance = 'impurity', \n",
    "    num.trees       = 1000,\n",
    "    probability = TRUE,\n",
    "    mtry            = 3,\n",
    "    min.node.size   = 10,\n",
    "    replace = FALSE,\n",
    "    sample.fraction = .8,\n",
    "    seed            = 123,\n",
    "    respect.unordered.factors=TRUE\n",
    ")\n",
    "\n",
    "ranger_predict_03_fact <- predict(ranger_03_fact, \n",
    "                          data = expiry_test_df_1_sub,\n",
    "                          type=\"response\")$predictions\n",
    "\n",
    "ranger_predict_03_fact <- as.data.frame(ranger_predict_03_fact)$Renewed\n",
    "\n",
    "ranger_predict_03_fact = data.frame(\"actual\" = expiry_test_df_1_sub$renewal_status,\n",
    "          \"predicted\" = ranger_predict_03_fact)\n",
    "\n",
    "lift_df_ranger_03_fact <- chart_lift(pred_df = ranger_predict_03_fact,\n",
    "                        dep_var = \"actual\",\n",
    "                        pred_var = \"predicted\")\n",
    "\n",
    "gains_plot_ranger_03_fact <- plot_gains (lift_df_ranger_03_fact) \n",
    "\n",
    "auc_ranger_03_fact <- calc_auc(lift_df_ranger_03_fact)"
   ]
  },
  {
   "cell_type": "markdown",
   "metadata": {},
   "source": [
    "### Compare Perf"
   ]
  },
  {
   "cell_type": "code",
   "execution_count": 125,
   "metadata": {},
   "outputs": [
    {
     "data": {
      "text/html": [
       "0.0335885425266579"
      ],
      "text/latex": [
       "0.0335885425266579"
      ],
      "text/markdown": [
       "0.0335885425266579"
      ],
      "text/plain": [
       "[1] 0.03358854"
      ]
     },
     "metadata": {},
     "output_type": "display_data"
    }
   ],
   "source": [
    "prop_positive = prop.table(table(expiry_train_df_1_sub$renewal_status))[[2]]\n",
    "prop_positive"
   ]
  },
  {
   "cell_type": "code",
   "execution_count": 126,
   "metadata": {},
   "outputs": [
    {
     "data": {
      "image/png": "[encoded data removed]",
      "text/plain": [
       "plot without title"
      ]
     },
     "metadata": {
      "image/png": {
       "height": 420,
       "width": 420
      },
      "text/plain": {
       "height": 420,
       "width": 420
      }
     },
     "output_type": "display_data"
    }
   ],
   "source": [
    "plot_multigains_reg <- plot_multigains(\n",
    "    lift_df_list=list(\n",
    "        seg_glm = lift_df_seg_glm,\n",
    "        agg_glm = lift_df_agg_glm,\n",
    "        agg_rf_d = lift_df_ranger_03_default,\n",
    "        agg_rf_f = lift_df_ranger_03_fact),\n",
    "    auc_list = list(\n",
    "        seg_glm = calc_auc(lift_df_seg_glm),\n",
    "        agg_glm = calc_auc(lift_df_agg_glm),\n",
    "        agg_rf_d = calc_auc(lift_df_ranger_03_default),\n",
    "        agg_rf_f = calc_auc(lift_df_ranger_03_fact)),\n",
    "    prop_positive = prop_positive)\n",
    "# png(file = \"../../data/output/plot_multigains_03_summ4.png\",\n",
    "#     width = 500, height = 375)\n",
    "plot(plot_multigains_reg + \n",
    "      annotate(\"text\", x = .3, y = .1, hjust = 0, label=reseller_str, size = 24))\n",
    "# dev.off()"
   ]
  },
  {
   "cell_type": "markdown",
   "metadata": {},
   "source": [
    "# Namecheap"
   ]
  },
  {
   "cell_type": "code",
   "execution_count": 94,
   "metadata": {},
   "outputs": [
    {
     "name": "stderr",
     "output_type": "stream",
     "text": [
      "Column 37 ['pattern'] of item 4 appears in position 36 in item 3. Set use.names=TRUE to match by column name, or use.names=FALSE to ignore column names. use.names='check' (default from v1.12.2) emits this message and proceeds as if use.names=FALSE for  backwards compatibility. See news item 5 in v1.12.2 for options to control this message.\n",
      "\n"
     ]
    },
    {
     "data": {
      "text/html": [
       "<style>\n",
       ".list-inline {list-style: none; margin:0; padding: 0}\n",
       ".list-inline>li {display: inline-block}\n",
       ".list-inline>li:not(:last-child)::after {content: \"\\00b7\"; padding: 0 .5ex}\n",
       "</style>\n",
       "<ol class=list-inline><li>221470</li><li>39</li></ol>\n"
      ],
      "text/latex": [
       "\\begin{enumerate*}\n",
       "\\item 221470\n",
       "\\item 39\n",
       "\\end{enumerate*}\n"
      ],
      "text/markdown": [
       "1. 221470\n",
       "2. 39\n",
       "\n",
       "\n"
      ],
      "text/plain": [
       "[1] 221470     39"
      ]
     },
     "metadata": {},
     "output_type": "display_data"
    },
    {
     "data": {
      "text/html": [
       "<style>\n",
       ".list-inline {list-style: none; margin:0; padding: 0}\n",
       ".list-inline>li {display: inline-block}\n",
       ".list-inline>li:not(:last-child)::after {content: \"\\00b7\"; padding: 0 .5ex}\n",
       "</style>\n",
       "<ol class=list-inline><li>221470</li><li>39</li></ol>\n"
      ],
      "text/latex": [
       "\\begin{enumerate*}\n",
       "\\item 221470\n",
       "\\item 39\n",
       "\\end{enumerate*}\n"
      ],
      "text/markdown": [
       "1. 221470\n",
       "2. 39\n",
       "\n",
       "\n"
      ],
      "text/plain": [
       "[1] 221470     39"
      ]
     },
     "metadata": {},
     "output_type": "display_data"
    },
    {
     "data": {
      "text/html": [
       "<style>\n",
       ".list-inline {list-style: none; margin:0; padding: 0}\n",
       ".list-inline>li {display: inline-block}\n",
       ".list-inline>li:not(:last-child)::after {content: \"\\00b7\"; padding: 0 .5ex}\n",
       "</style>\n",
       "<ol class=list-inline><li>55117</li><li>39</li></ol>\n"
      ],
      "text/latex": [
       "\\begin{enumerate*}\n",
       "\\item 55117\n",
       "\\item 39\n",
       "\\end{enumerate*}\n"
      ],
      "text/markdown": [
       "1. 55117\n",
       "2. 39\n",
       "\n",
       "\n"
      ],
      "text/plain": [
       "[1] 55117    39"
      ]
     },
     "metadata": {},
     "output_type": "display_data"
    },
    {
     "data": {
      "text/html": [
       "<style>\n",
       ".list-inline {list-style: none; margin:0; padding: 0}\n",
       ".list-inline>li {display: inline-block}\n",
       ".list-inline>li:not(:last-child)::after {content: \"\\00b7\"; padding: 0 .5ex}\n",
       "</style>\n",
       "<ol class=list-inline><li>55117</li><li>39</li></ol>\n"
      ],
      "text/latex": [
       "\\begin{enumerate*}\n",
       "\\item 55117\n",
       "\\item 39\n",
       "\\end{enumerate*}\n"
      ],
      "text/markdown": [
       "1. 55117\n",
       "2. 39\n",
       "\n",
       "\n"
      ],
      "text/plain": [
       "[1] 55117    39"
      ]
     },
     "metadata": {},
     "output_type": "display_data"
    }
   ],
   "source": [
    "reseller_str = 'namecheap'\n",
    "\n",
    "tld_registrars = names(expiry_train_prepped_2_1)[grep(reseller_str, names(expiry_train_prepped_2_1))]\n",
    "expiry_train_prepped_2_1_sub = expiry_train_prepped_2_1[tld_registrars]\n",
    "expiry_test_prepped_2_1_sub = expiry_test_prepped_2_1[tld_registrars]\n",
    "\n",
    "expiry_train_df_1_sub = expiry_train_df_1 %>% filter(reseller==reseller_str)\n",
    "expiry_test_df_1_sub = expiry_test_df_1 %>% filter(reseller==reseller_str)\n",
    "\n",
    "dim(rbindlist(expiry_train_prepped_2_1_sub))\n",
    "dim(expiry_train_df_1_sub)\n",
    "dim(rbindlist(expiry_test_prepped_2_1_sub))\n",
    "dim(expiry_test_df_1_sub)"
   ]
  },
  {
   "cell_type": "code",
   "execution_count": 95,
   "metadata": {},
   "outputs": [
    {
     "data": {
      "text/html": [
       "<style>\n",
       ".list-inline {list-style: none; margin:0; padding: 0}\n",
       ".list-inline>li {display: inline-block}\n",
       ".list-inline>li:not(:last-child)::after {content: \"\\00b7\"; padding: 0 .5ex}\n",
       "</style>\n",
       "<ol class=list-inline><li>'funnamecheap'</li><li>'hostnamecheap'</li><li>'in.netnamecheap'</li><li>'onlinenamecheap'</li><li>'pressnamecheap'</li><li>'pwnamecheap'</li><li>'sitenamecheap'</li><li>'spacenamecheap'</li><li>'storenamecheap'</li><li>'technamecheap'</li><li>'websitenamecheap'</li></ol>\n"
      ],
      "text/latex": [
       "\\begin{enumerate*}\n",
       "\\item 'funnamecheap'\n",
       "\\item 'hostnamecheap'\n",
       "\\item 'in.netnamecheap'\n",
       "\\item 'onlinenamecheap'\n",
       "\\item 'pressnamecheap'\n",
       "\\item 'pwnamecheap'\n",
       "\\item 'sitenamecheap'\n",
       "\\item 'spacenamecheap'\n",
       "\\item 'storenamecheap'\n",
       "\\item 'technamecheap'\n",
       "\\item 'websitenamecheap'\n",
       "\\end{enumerate*}\n"
      ],
      "text/markdown": [
       "1. 'funnamecheap'\n",
       "2. 'hostnamecheap'\n",
       "3. 'in.netnamecheap'\n",
       "4. 'onlinenamecheap'\n",
       "5. 'pressnamecheap'\n",
       "6. 'pwnamecheap'\n",
       "7. 'sitenamecheap'\n",
       "8. 'spacenamecheap'\n",
       "9. 'storenamecheap'\n",
       "10. 'technamecheap'\n",
       "11. 'websitenamecheap'\n",
       "\n",
       "\n"
      ],
      "text/plain": [
       " [1] \"funnamecheap\"     \"hostnamecheap\"    \"in.netnamecheap\"  \"onlinenamecheap\" \n",
       " [5] \"pressnamecheap\"   \"pwnamecheap\"      \"sitenamecheap\"    \"spacenamecheap\"  \n",
       " [9] \"storenamecheap\"   \"technamecheap\"    \"websitenamecheap\""
      ]
     },
     "metadata": {},
     "output_type": "display_data"
    }
   ],
   "source": [
    "names(expiry_train_prepped_2_1_sub)"
   ]
  },
  {
   "cell_type": "code",
   "execution_count": 97,
   "metadata": {},
   "outputs": [
    {
     "data": {
      "text/html": [
       "<table>\n",
       "<caption>A data.table: 6 × 39</caption>\n",
       "<thead>\n",
       "\t<tr><th scope=col>renewal_type</th><th scope=col>renewed_count</th><th scope=col>expiry_date</th><th scope=col>domain_id</th><th scope=col>domain</th><th scope=col>creation_date</th><th scope=col>status</th><th scope=col>tld</th><th scope=col>registrar</th><th scope=col>reseller</th><th scope=col>reseller_country</th><th scope=col>region</th><th scope=col>reg_period</th><th scope=col>registrant_country</th><th scope=col>renewal_status</th><th scope=col>renew_mbg</th><th scope=col>renew_type</th><th scope=col>autorenew_type</th><th scope=col>renew_date</th><th scope=col>renew_registrar</th><th scope=col>renew_reseller</th><th scope=col>reg_revenue</th><th scope=col>reg_arpt</th><th scope=col>renew_period</th><th scope=col>renew_domain_revenue</th><th scope=col>renew_arpt</th><th scope=col>reg_arpt_org</th><th scope=col>tld_registrar_index</th><th scope=col>sld</th><th scope=col>sld_type</th><th scope=col>sld_length</th><th scope=col>sld_type2</th><th scope=col>day_domains</th><th scope=col>log_reg_arpt</th><th scope=col>gibb_score</th><th scope=col>pattern</th><th scope=col>cluster</th><th scope=col>pattern_score</th><th scope=col>pattern_domain_count</th></tr>\n",
       "\t<tr><th scope=col>&lt;chr&gt;</th><th scope=col>&lt;int&gt;</th><th scope=col>&lt;date&gt;</th><th scope=col>&lt;int&gt;</th><th scope=col>&lt;chr&gt;</th><th scope=col>&lt;date&gt;</th><th scope=col>&lt;chr&gt;</th><th scope=col>&lt;fct&gt;</th><th scope=col>&lt;chr&gt;</th><th scope=col>&lt;chr&gt;</th><th scope=col>&lt;chr&gt;</th><th scope=col>&lt;chr&gt;</th><th scope=col>&lt;int&gt;</th><th scope=col>&lt;chr&gt;</th><th scope=col>&lt;fct&gt;</th><th scope=col>&lt;int&gt;</th><th scope=col>&lt;chr&gt;</th><th scope=col>&lt;chr&gt;</th><th scope=col>&lt;date&gt;</th><th scope=col>&lt;chr&gt;</th><th scope=col>&lt;chr&gt;</th><th scope=col>&lt;dbl&gt;</th><th scope=col>&lt;dbl&gt;</th><th scope=col>&lt;int&gt;</th><th scope=col>&lt;dbl&gt;</th><th scope=col>&lt;dbl&gt;</th><th scope=col>&lt;dbl&gt;</th><th scope=col>&lt;chr&gt;</th><th scope=col>&lt;chr&gt;</th><th scope=col>&lt;fct&gt;</th><th scope=col>&lt;int&gt;</th><th scope=col>&lt;chr&gt;</th><th scope=col>&lt;int&gt;</th><th scope=col>&lt;dbl&gt;</th><th scope=col>&lt;dbl&gt;</th><th scope=col>&lt;chr&gt;</th><th scope=col>&lt;chr&gt;</th><th scope=col>&lt;dbl&gt;</th><th scope=col>&lt;int&gt;</th></tr>\n",
       "</thead>\n",
       "<tbody>\n",
       "\t<tr><td>FirstTime</td><td>1</td><td>2020-05-18</td><td>47892616</td><td>gco.fun             </td><td>2017-05-18</td><td>Active</td><td>fun</td><td>namecheap</td><td>namecheap</td><td>United States</td><td>Non China</td><td>3</td><td>NA</td><td>Not Renewd</td><td>0</td><td>auto-renewal</td><td>NA        </td><td>2020-05-18</td><td>Namecheap</td><td>Namecheap</td><td>34</td><td>11.33</td><td>1</td><td>11.5</td><td>11.5</td><td>11.33</td><td>funnamecheap</td><td>gco             </td><td>l</td><td> 3</td><td>3l </td><td>1</td><td>2.427454</td><td>0.79</td><td>gco             </td><td>1</td><td>1</td><td>1</td></tr>\n",
       "\t<tr><td>FirstTime</td><td>1</td><td>2020-01-04</td><td>58979993</td><td>actiongamesarena.fun</td><td>2018-01-04</td><td>Active</td><td>fun</td><td>namecheap</td><td>namecheap</td><td>United States</td><td>Non China</td><td>2</td><td>NA</td><td>Not Renewd</td><td>0</td><td>auto-renewal</td><td>unrealized</td><td>2020-01-04</td><td>Namecheap</td><td>Namecheap</td><td>17</td><td> 8.50</td><td>1</td><td>12.0</td><td>12.0</td><td> 8.50</td><td>funnamecheap</td><td>actiongamesarena</td><td>l</td><td>16</td><td>16l</td><td>1</td><td>2.140066</td><td>8.23</td><td>actiongamesarena</td><td>1</td><td>1</td><td>1</td></tr>\n",
       "\t<tr><td>FirstTime</td><td>1</td><td>2020-02-03</td><td>60554708</td><td>errias.fun          </td><td>2018-02-03</td><td>Active</td><td>fun</td><td>namecheap</td><td>namecheap</td><td>United States</td><td>Non China</td><td>2</td><td>NA</td><td>Not Renewd</td><td>0</td><td>auto-renewal</td><td>unrealized</td><td>2020-02-03</td><td>Namecheap</td><td>Namecheap</td><td>14</td><td> 7.00</td><td>1</td><td>12.0</td><td>12.0</td><td> 7.00</td><td>funnamecheap</td><td>errias          </td><td>l</td><td> 6</td><td>6l </td><td>1</td><td>1.945910</td><td>6.03</td><td>errias          </td><td>1</td><td>1</td><td>1</td></tr>\n",
       "\t<tr><td>FirstTime</td><td>1</td><td>2020-02-07</td><td>60734363</td><td>thrivestory.fun     </td><td>2018-02-07</td><td>Active</td><td>fun</td><td>namecheap</td><td>namecheap</td><td>United States</td><td>Non China</td><td>2</td><td>NA</td><td>Renewed   </td><td>0</td><td>renewal     </td><td>NA        </td><td>2020-02-03</td><td>Namecheap</td><td>Namecheap</td><td>14</td><td> 7.00</td><td>1</td><td>12.0</td><td>12.0</td><td> 7.00</td><td>funnamecheap</td><td>thrivestory     </td><td>l</td><td>11</td><td>11l</td><td>1</td><td>1.945910</td><td>8.39</td><td>thrivestory     </td><td>1</td><td>1</td><td>1</td></tr>\n",
       "\t<tr><td>FirstTime</td><td>1</td><td>2020-02-15</td><td>61109827</td><td>waterskippers.fun   </td><td>2018-02-15</td><td>Active</td><td>fun</td><td>namecheap</td><td>namecheap</td><td>United States</td><td>Non China</td><td>2</td><td>NA</td><td>Not Renewd</td><td>0</td><td>auto-renewal</td><td>unrealized</td><td>2020-02-15</td><td>Namecheap</td><td>Namecheap</td><td>14</td><td> 7.00</td><td>1</td><td>12.0</td><td>12.0</td><td> 7.00</td><td>funnamecheap</td><td>waterskippers   </td><td>l</td><td>13</td><td>13l</td><td>1</td><td>1.945910</td><td>7.29</td><td>waterskippers   </td><td>1</td><td>1</td><td>1</td></tr>\n",
       "\t<tr><td>FirstTime</td><td>1</td><td>2020-03-29</td><td>64775569</td><td>comus.fun           </td><td>2018-03-29</td><td>Active</td><td>fun</td><td>namecheap</td><td>namecheap</td><td>United States</td><td>Non China</td><td>2</td><td>NA</td><td>Not Renewd</td><td>0</td><td>auto-renewal</td><td>unrealized</td><td>2020-03-29</td><td>Namecheap</td><td>Namecheap</td><td>14</td><td> 7.00</td><td>1</td><td>12.0</td><td>12.0</td><td> 7.00</td><td>funnamecheap</td><td>comus           </td><td>l</td><td> 5</td><td>5l </td><td>1</td><td>1.945910</td><td>8.50</td><td>comus           </td><td>1</td><td>1</td><td>1</td></tr>\n",
       "</tbody>\n",
       "</table>\n"
      ],
      "text/latex": [
       "A data.table: 6 × 39\n",
       "\\begin{tabular}{lllllllllllllllllllllllllllllllllllllll}\n",
       " renewal\\_type & renewed\\_count & expiry\\_date & domain\\_id & domain & creation\\_date & status & tld & registrar & reseller & reseller\\_country & region & reg\\_period & registrant\\_country & renewal\\_status & renew\\_mbg & renew\\_type & autorenew\\_type & renew\\_date & renew\\_registrar & renew\\_reseller & reg\\_revenue & reg\\_arpt & renew\\_period & renew\\_domain\\_revenue & renew\\_arpt & reg\\_arpt\\_org & tld\\_registrar\\_index & sld & sld\\_type & sld\\_length & sld\\_type2 & day\\_domains & log\\_reg\\_arpt & gibb\\_score & pattern & cluster & pattern\\_score & pattern\\_domain\\_count\\\\\n",
       " <chr> & <int> & <date> & <int> & <chr> & <date> & <chr> & <fct> & <chr> & <chr> & <chr> & <chr> & <int> & <chr> & <fct> & <int> & <chr> & <chr> & <date> & <chr> & <chr> & <dbl> & <dbl> & <int> & <dbl> & <dbl> & <dbl> & <chr> & <chr> & <fct> & <int> & <chr> & <int> & <dbl> & <dbl> & <chr> & <chr> & <dbl> & <int>\\\\\n",
       "\\hline\n",
       "\t FirstTime & 1 & 2020-05-18 & 47892616 & gco.fun              & 2017-05-18 & Active & fun & namecheap & namecheap & United States & Non China & 3 & NA & Not Renewd & 0 & auto-renewal & NA         & 2020-05-18 & Namecheap & Namecheap & 34 & 11.33 & 1 & 11.5 & 11.5 & 11.33 & funnamecheap & gco              & l &  3 & 3l  & 1 & 2.427454 & 0.79 & gco              & 1 & 1 & 1\\\\\n",
       "\t FirstTime & 1 & 2020-01-04 & 58979993 & actiongamesarena.fun & 2018-01-04 & Active & fun & namecheap & namecheap & United States & Non China & 2 & NA & Not Renewd & 0 & auto-renewal & unrealized & 2020-01-04 & Namecheap & Namecheap & 17 &  8.50 & 1 & 12.0 & 12.0 &  8.50 & funnamecheap & actiongamesarena & l & 16 & 16l & 1 & 2.140066 & 8.23 & actiongamesarena & 1 & 1 & 1\\\\\n",
       "\t FirstTime & 1 & 2020-02-03 & 60554708 & errias.fun           & 2018-02-03 & Active & fun & namecheap & namecheap & United States & Non China & 2 & NA & Not Renewd & 0 & auto-renewal & unrealized & 2020-02-03 & Namecheap & Namecheap & 14 &  7.00 & 1 & 12.0 & 12.0 &  7.00 & funnamecheap & errias           & l &  6 & 6l  & 1 & 1.945910 & 6.03 & errias           & 1 & 1 & 1\\\\\n",
       "\t FirstTime & 1 & 2020-02-07 & 60734363 & thrivestory.fun      & 2018-02-07 & Active & fun & namecheap & namecheap & United States & Non China & 2 & NA & Renewed    & 0 & renewal      & NA         & 2020-02-03 & Namecheap & Namecheap & 14 &  7.00 & 1 & 12.0 & 12.0 &  7.00 & funnamecheap & thrivestory      & l & 11 & 11l & 1 & 1.945910 & 8.39 & thrivestory      & 1 & 1 & 1\\\\\n",
       "\t FirstTime & 1 & 2020-02-15 & 61109827 & waterskippers.fun    & 2018-02-15 & Active & fun & namecheap & namecheap & United States & Non China & 2 & NA & Not Renewd & 0 & auto-renewal & unrealized & 2020-02-15 & Namecheap & Namecheap & 14 &  7.00 & 1 & 12.0 & 12.0 &  7.00 & funnamecheap & waterskippers    & l & 13 & 13l & 1 & 1.945910 & 7.29 & waterskippers    & 1 & 1 & 1\\\\\n",
       "\t FirstTime & 1 & 2020-03-29 & 64775569 & comus.fun            & 2018-03-29 & Active & fun & namecheap & namecheap & United States & Non China & 2 & NA & Not Renewd & 0 & auto-renewal & unrealized & 2020-03-29 & Namecheap & Namecheap & 14 &  7.00 & 1 & 12.0 & 12.0 &  7.00 & funnamecheap & comus            & l &  5 & 5l  & 1 & 1.945910 & 8.50 & comus            & 1 & 1 & 1\\\\\n",
       "\\end{tabular}\n"
      ],
      "text/markdown": [
       "\n",
       "A data.table: 6 × 39\n",
       "\n",
       "| renewal_type &lt;chr&gt; | renewed_count &lt;int&gt; | expiry_date &lt;date&gt; | domain_id &lt;int&gt; | domain &lt;chr&gt; | creation_date &lt;date&gt; | status &lt;chr&gt; | tld &lt;fct&gt; | registrar &lt;chr&gt; | reseller &lt;chr&gt; | reseller_country &lt;chr&gt; | region &lt;chr&gt; | reg_period &lt;int&gt; | registrant_country &lt;chr&gt; | renewal_status &lt;fct&gt; | renew_mbg &lt;int&gt; | renew_type &lt;chr&gt; | autorenew_type &lt;chr&gt; | renew_date &lt;date&gt; | renew_registrar &lt;chr&gt; | renew_reseller &lt;chr&gt; | reg_revenue &lt;dbl&gt; | reg_arpt &lt;dbl&gt; | renew_period &lt;int&gt; | renew_domain_revenue &lt;dbl&gt; | renew_arpt &lt;dbl&gt; | reg_arpt_org &lt;dbl&gt; | tld_registrar_index &lt;chr&gt; | sld &lt;chr&gt; | sld_type &lt;fct&gt; | sld_length &lt;int&gt; | sld_type2 &lt;chr&gt; | day_domains &lt;int&gt; | log_reg_arpt &lt;dbl&gt; | gibb_score &lt;dbl&gt; | pattern &lt;chr&gt; | cluster &lt;chr&gt; | pattern_score &lt;dbl&gt; | pattern_domain_count &lt;int&gt; |\n",
       "|---|---|---|---|---|---|---|---|---|---|---|---|---|---|---|---|---|---|---|---|---|---|---|---|---|---|---|---|---|---|---|---|---|---|---|---|---|---|---|\n",
       "| FirstTime | 1 | 2020-05-18 | 47892616 | gco.fun              | 2017-05-18 | Active | fun | namecheap | namecheap | United States | Non China | 3 | NA | Not Renewd | 0 | auto-renewal | NA         | 2020-05-18 | Namecheap | Namecheap | 34 | 11.33 | 1 | 11.5 | 11.5 | 11.33 | funnamecheap | gco              | l |  3 | 3l  | 1 | 2.427454 | 0.79 | gco              | 1 | 1 | 1 |\n",
       "| FirstTime | 1 | 2020-01-04 | 58979993 | actiongamesarena.fun | 2018-01-04 | Active | fun | namecheap | namecheap | United States | Non China | 2 | NA | Not Renewd | 0 | auto-renewal | unrealized | 2020-01-04 | Namecheap | Namecheap | 17 |  8.50 | 1 | 12.0 | 12.0 |  8.50 | funnamecheap | actiongamesarena | l | 16 | 16l | 1 | 2.140066 | 8.23 | actiongamesarena | 1 | 1 | 1 |\n",
       "| FirstTime | 1 | 2020-02-03 | 60554708 | errias.fun           | 2018-02-03 | Active | fun | namecheap | namecheap | United States | Non China | 2 | NA | Not Renewd | 0 | auto-renewal | unrealized | 2020-02-03 | Namecheap | Namecheap | 14 |  7.00 | 1 | 12.0 | 12.0 |  7.00 | funnamecheap | errias           | l |  6 | 6l  | 1 | 1.945910 | 6.03 | errias           | 1 | 1 | 1 |\n",
       "| FirstTime | 1 | 2020-02-07 | 60734363 | thrivestory.fun      | 2018-02-07 | Active | fun | namecheap | namecheap | United States | Non China | 2 | NA | Renewed    | 0 | renewal      | NA         | 2020-02-03 | Namecheap | Namecheap | 14 |  7.00 | 1 | 12.0 | 12.0 |  7.00 | funnamecheap | thrivestory      | l | 11 | 11l | 1 | 1.945910 | 8.39 | thrivestory      | 1 | 1 | 1 |\n",
       "| FirstTime | 1 | 2020-02-15 | 61109827 | waterskippers.fun    | 2018-02-15 | Active | fun | namecheap | namecheap | United States | Non China | 2 | NA | Not Renewd | 0 | auto-renewal | unrealized | 2020-02-15 | Namecheap | Namecheap | 14 |  7.00 | 1 | 12.0 | 12.0 |  7.00 | funnamecheap | waterskippers    | l | 13 | 13l | 1 | 1.945910 | 7.29 | waterskippers    | 1 | 1 | 1 |\n",
       "| FirstTime | 1 | 2020-03-29 | 64775569 | comus.fun            | 2018-03-29 | Active | fun | namecheap | namecheap | United States | Non China | 2 | NA | Not Renewd | 0 | auto-renewal | unrealized | 2020-03-29 | Namecheap | Namecheap | 14 |  7.00 | 1 | 12.0 | 12.0 |  7.00 | funnamecheap | comus            | l |  5 | 5l  | 1 | 1.945910 | 8.50 | comus            | 1 | 1 | 1 |\n",
       "\n"
      ],
      "text/plain": [
       "  renewal_type renewed_count expiry_date domain_id domain              \n",
       "1 FirstTime    1             2020-05-18  47892616  gco.fun             \n",
       "2 FirstTime    1             2020-01-04  58979993  actiongamesarena.fun\n",
       "3 FirstTime    1             2020-02-03  60554708  errias.fun          \n",
       "4 FirstTime    1             2020-02-07  60734363  thrivestory.fun     \n",
       "5 FirstTime    1             2020-02-15  61109827  waterskippers.fun   \n",
       "6 FirstTime    1             2020-03-29  64775569  comus.fun           \n",
       "  creation_date status tld registrar reseller  reseller_country region   \n",
       "1 2017-05-18    Active fun namecheap namecheap United States    Non China\n",
       "2 2018-01-04    Active fun namecheap namecheap United States    Non China\n",
       "3 2018-02-03    Active fun namecheap namecheap United States    Non China\n",
       "4 2018-02-07    Active fun namecheap namecheap United States    Non China\n",
       "5 2018-02-15    Active fun namecheap namecheap United States    Non China\n",
       "6 2018-03-29    Active fun namecheap namecheap United States    Non China\n",
       "  reg_period registrant_country renewal_status renew_mbg renew_type  \n",
       "1 3          NA                 Not Renewd     0         auto-renewal\n",
       "2 2          NA                 Not Renewd     0         auto-renewal\n",
       "3 2          NA                 Not Renewd     0         auto-renewal\n",
       "4 2          NA                 Renewed        0         renewal     \n",
       "5 2          NA                 Not Renewd     0         auto-renewal\n",
       "6 2          NA                 Not Renewd     0         auto-renewal\n",
       "  autorenew_type renew_date renew_registrar renew_reseller reg_revenue reg_arpt\n",
       "1 NA             2020-05-18 Namecheap       Namecheap      34          11.33   \n",
       "2 unrealized     2020-01-04 Namecheap       Namecheap      17           8.50   \n",
       "3 unrealized     2020-02-03 Namecheap       Namecheap      14           7.00   \n",
       "4 NA             2020-02-03 Namecheap       Namecheap      14           7.00   \n",
       "5 unrealized     2020-02-15 Namecheap       Namecheap      14           7.00   \n",
       "6 unrealized     2020-03-29 Namecheap       Namecheap      14           7.00   \n",
       "  renew_period renew_domain_revenue renew_arpt reg_arpt_org tld_registrar_index\n",
       "1 1            11.5                 11.5       11.33        funnamecheap       \n",
       "2 1            12.0                 12.0        8.50        funnamecheap       \n",
       "3 1            12.0                 12.0        7.00        funnamecheap       \n",
       "4 1            12.0                 12.0        7.00        funnamecheap       \n",
       "5 1            12.0                 12.0        7.00        funnamecheap       \n",
       "6 1            12.0                 12.0        7.00        funnamecheap       \n",
       "  sld              sld_type sld_length sld_type2 day_domains log_reg_arpt\n",
       "1 gco              l         3         3l        1           2.427454    \n",
       "2 actiongamesarena l        16         16l       1           2.140066    \n",
       "3 errias           l         6         6l        1           1.945910    \n",
       "4 thrivestory      l        11         11l       1           1.945910    \n",
       "5 waterskippers    l        13         13l       1           1.945910    \n",
       "6 comus            l         5         5l        1           1.945910    \n",
       "  gibb_score pattern          cluster pattern_score pattern_domain_count\n",
       "1 0.79       gco              1       1             1                   \n",
       "2 8.23       actiongamesarena 1       1             1                   \n",
       "3 6.03       errias           1       1             1                   \n",
       "4 8.39       thrivestory      1       1             1                   \n",
       "5 7.29       waterskippers    1       1             1                   \n",
       "6 8.50       comus            1       1             1                   "
      ]
     },
     "metadata": {},
     "output_type": "display_data"
    }
   ],
   "source": [
    "expiry_train_prepped_2_1_sub[['funnamecheap']] %>% head()"
   ]
  },
  {
   "cell_type": "markdown",
   "metadata": {},
   "source": [
    "### 1. tld-segmented glm"
   ]
  },
  {
   "cell_type": "code",
   "execution_count": 98,
   "metadata": {},
   "outputs": [
    {
     "name": "stderr",
     "output_type": "stream",
     "text": [
      "Warning message:\n",
      "“glm.fit: fitted probabilities numerically 0 or 1 occurred”\n"
     ]
    }
   ],
   "source": [
    "seg_glm_model = mass_build_model_first_renewal(expiry_train_prepped_2_1_sub)"
   ]
  },
  {
   "cell_type": "code",
   "execution_count": 99,
   "metadata": {},
   "outputs": [
    {
     "name": "stderr",
     "output_type": "stream",
     "text": [
      "Warning message in predict.lm(object, newdata, se.fit, scale = 1, type = if (type == :\n",
      "“prediction from a rank-deficient fit may be misleading”\n"
     ]
    }
   ],
   "source": [
    "seg_glm_pred = mass_predict_first_renewal(expiry_test_prepped_2_1_sub, seg_glm_model)"
   ]
  },
  {
   "cell_type": "code",
   "execution_count": 100,
   "metadata": {},
   "outputs": [],
   "source": [
    "seg_glm_pred_df = data.frame(\"actual\" = seg_glm_pred$renewal_status,\n",
    "          \"predicted\" = seg_glm_pred$first_renewal_prediction)\n",
    "\n",
    "lift_df_seg_glm <- chart_lift(pred_df = seg_glm_pred_df,\n",
    "                        dep_var = \"actual\",\n",
    "                        pred_var = \"predicted\")\n",
    "\n",
    "gains_plot_seg_glm <- plot_gains (lift_df_seg_glm) \n",
    "\n",
    "auc_ranger_seg_glm <- calc_auc(lift_df_seg_glm)"
   ]
  },
  {
   "cell_type": "markdown",
   "metadata": {},
   "source": [
    "### 2.agg glm"
   ]
  },
  {
   "cell_type": "code",
   "execution_count": 101,
   "metadata": {},
   "outputs": [],
   "source": [
    "agg_glm_model = build_model_first_renewal_reg(expiry_train_df_1_sub)"
   ]
  },
  {
   "cell_type": "code",
   "execution_count": 102,
   "metadata": {},
   "outputs": [],
   "source": [
    "agg_glm_pred = predict_first_renewal_reg(expiry_test_df_1_sub, agg_glm_model)"
   ]
  },
  {
   "cell_type": "code",
   "execution_count": 103,
   "metadata": {},
   "outputs": [],
   "source": [
    "agg_glm_pred_df = data.frame(\"actual\" = agg_glm_pred$renewal_status,\n",
    "          \"predicted\" = agg_glm_pred$first_renewal_prediction)\n",
    "\n",
    "lift_df_agg_glm <- chart_lift(pred_df = agg_glm_pred_df,\n",
    "                        dep_var = \"actual\",\n",
    "                        pred_var = \"predicted\")\n",
    "\n",
    "gains_plot_agg_glm <- plot_gains (lift_df_agg_glm) \n",
    "\n",
    "auc_ranger_agg_glm <- calc_auc(lift_df_agg_glm)"
   ]
  },
  {
   "cell_type": "markdown",
   "metadata": {},
   "source": [
    "### 3. agg rf w/ default"
   ]
  },
  {
   "cell_type": "code",
   "execution_count": 104,
   "metadata": {},
   "outputs": [
    {
     "data": {
      "text/html": [
       "<style>\n",
       ".list-inline {list-style: none; margin:0; padding: 0}\n",
       ".list-inline>li {display: inline-block}\n",
       ".list-inline>li:not(:last-child)::after {content: \"\\00b7\"; padding: 0 .5ex}\n",
       "</style>\n",
       "<ol class=list-inline><li>'renewal_type'</li><li>'renewed_count'</li><li>'expiry_date'</li><li>'domain_id'</li><li>'domain'</li><li>'creation_date'</li><li>'status'</li><li>'tld'</li><li>'registrar'</li><li>'reseller'</li><li>'reseller_country'</li><li>'region'</li><li>'reg_period'</li><li>'registrant_country'</li><li>'renewal_status'</li><li>'renew_mbg'</li><li>'renew_type'</li><li>'autorenew_type'</li><li>'renew_date'</li><li>'renew_registrar'</li><li>'renew_reseller'</li><li>'reg_revenue'</li><li>'reg_arpt'</li><li>'renew_period'</li><li>'renew_domain_revenue'</li><li>'renew_arpt'</li><li>'reg_arpt_org'</li><li>'tld_registrar_index'</li><li>'sld'</li><li>'sld_type'</li><li>'sld_length'</li><li>'sld_type2'</li><li>'day_domains'</li><li>'log_reg_arpt'</li><li>'gibb_score'</li><li>'pattern'</li><li>'cluster'</li><li>'pattern_score'</li><li>'pattern_domain_count'</li></ol>\n"
      ],
      "text/latex": [
       "\\begin{enumerate*}\n",
       "\\item 'renewal\\_type'\n",
       "\\item 'renewed\\_count'\n",
       "\\item 'expiry\\_date'\n",
       "\\item 'domain\\_id'\n",
       "\\item 'domain'\n",
       "\\item 'creation\\_date'\n",
       "\\item 'status'\n",
       "\\item 'tld'\n",
       "\\item 'registrar'\n",
       "\\item 'reseller'\n",
       "\\item 'reseller\\_country'\n",
       "\\item 'region'\n",
       "\\item 'reg\\_period'\n",
       "\\item 'registrant\\_country'\n",
       "\\item 'renewal\\_status'\n",
       "\\item 'renew\\_mbg'\n",
       "\\item 'renew\\_type'\n",
       "\\item 'autorenew\\_type'\n",
       "\\item 'renew\\_date'\n",
       "\\item 'renew\\_registrar'\n",
       "\\item 'renew\\_reseller'\n",
       "\\item 'reg\\_revenue'\n",
       "\\item 'reg\\_arpt'\n",
       "\\item 'renew\\_period'\n",
       "\\item 'renew\\_domain\\_revenue'\n",
       "\\item 'renew\\_arpt'\n",
       "\\item 'reg\\_arpt\\_org'\n",
       "\\item 'tld\\_registrar\\_index'\n",
       "\\item 'sld'\n",
       "\\item 'sld\\_type'\n",
       "\\item 'sld\\_length'\n",
       "\\item 'sld\\_type2'\n",
       "\\item 'day\\_domains'\n",
       "\\item 'log\\_reg\\_arpt'\n",
       "\\item 'gibb\\_score'\n",
       "\\item 'pattern'\n",
       "\\item 'cluster'\n",
       "\\item 'pattern\\_score'\n",
       "\\item 'pattern\\_domain\\_count'\n",
       "\\end{enumerate*}\n"
      ],
      "text/markdown": [
       "1. 'renewal_type'\n",
       "2. 'renewed_count'\n",
       "3. 'expiry_date'\n",
       "4. 'domain_id'\n",
       "5. 'domain'\n",
       "6. 'creation_date'\n",
       "7. 'status'\n",
       "8. 'tld'\n",
       "9. 'registrar'\n",
       "10. 'reseller'\n",
       "11. 'reseller_country'\n",
       "12. 'region'\n",
       "13. 'reg_period'\n",
       "14. 'registrant_country'\n",
       "15. 'renewal_status'\n",
       "16. 'renew_mbg'\n",
       "17. 'renew_type'\n",
       "18. 'autorenew_type'\n",
       "19. 'renew_date'\n",
       "20. 'renew_registrar'\n",
       "21. 'renew_reseller'\n",
       "22. 'reg_revenue'\n",
       "23. 'reg_arpt'\n",
       "24. 'renew_period'\n",
       "25. 'renew_domain_revenue'\n",
       "26. 'renew_arpt'\n",
       "27. 'reg_arpt_org'\n",
       "28. 'tld_registrar_index'\n",
       "29. 'sld'\n",
       "30. 'sld_type'\n",
       "31. 'sld_length'\n",
       "32. 'sld_type2'\n",
       "33. 'day_domains'\n",
       "34. 'log_reg_arpt'\n",
       "35. 'gibb_score'\n",
       "36. 'pattern'\n",
       "37. 'cluster'\n",
       "38. 'pattern_score'\n",
       "39. 'pattern_domain_count'\n",
       "\n",
       "\n"
      ],
      "text/plain": [
       " [1] \"renewal_type\"         \"renewed_count\"        \"expiry_date\"         \n",
       " [4] \"domain_id\"            \"domain\"               \"creation_date\"       \n",
       " [7] \"status\"               \"tld\"                  \"registrar\"           \n",
       "[10] \"reseller\"             \"reseller_country\"     \"region\"              \n",
       "[13] \"reg_period\"           \"registrant_country\"   \"renewal_status\"      \n",
       "[16] \"renew_mbg\"            \"renew_type\"           \"autorenew_type\"      \n",
       "[19] \"renew_date\"           \"renew_registrar\"      \"renew_reseller\"      \n",
       "[22] \"reg_revenue\"          \"reg_arpt\"             \"renew_period\"        \n",
       "[25] \"renew_domain_revenue\" \"renew_arpt\"           \"reg_arpt_org\"        \n",
       "[28] \"tld_registrar_index\"  \"sld\"                  \"sld_type\"            \n",
       "[31] \"sld_length\"           \"sld_type2\"            \"day_domains\"         \n",
       "[34] \"log_reg_arpt\"         \"gibb_score\"           \"pattern\"             \n",
       "[37] \"cluster\"              \"pattern_score\"        \"pattern_domain_count\""
      ]
     },
     "metadata": {},
     "output_type": "display_data"
    }
   ],
   "source": [
    "names(expiry_train_df_1_sub)"
   ]
  },
  {
   "cell_type": "code",
   "execution_count": 106,
   "metadata": {},
   "outputs": [
    {
     "name": "stdout",
     "output_type": "stream",
     "text": [
      "Growing trees.. Progress: 29%. Estimated remaining time: 1 minute, 17 seconds.\n",
      "Growing trees.. Progress: 63%. Estimated remaining time: 35 seconds.\n",
      "Growing trees.. Progress: 94%. Estimated remaining time: 5 seconds.\n"
     ]
    }
   ],
   "source": [
    "ranger_03_default <- ranger(\n",
    "    formula         = renewal_status ~ ., \n",
    "    data            =  subset(expiry_train_df_1_sub,\n",
    "                              select=c(renewal_status,\n",
    "                                       pattern_domain_count, \n",
    "                                       log_reg_arpt,\n",
    "                                       sld_length, \n",
    "                                       gibb_score,\n",
    "                                       sld_type, \n",
    "                                       day_domains,\n",
    "                                       reg_period, \n",
    "                                       tld)), \n",
    "    importance = 'impurity', \n",
    "    num.trees       = 1000,\n",
    "    probability = TRUE,\n",
    "    mtry            = 3,\n",
    "    min.node.size   = 10,\n",
    "    replace = FALSE,\n",
    "    sample.fraction = .8,\n",
    "    seed            = 123\n",
    ")\n",
    "\n",
    "ranger_predict_03_default <- predict(ranger_03_default, \n",
    "                          data = expiry_test_df_1_sub,\n",
    "                          type=\"response\")$predictions\n",
    "\n",
    "ranger_predict_03_default <- as.data.frame(ranger_predict_03_default)$Renewed\n",
    "\n",
    "ranger_predict_03_default = data.frame(\"actual\" = expiry_test_df_1_sub$renewal_status,\n",
    "          \"predicted\" = ranger_predict_03_default)\n",
    "\n",
    "lift_df_ranger_03_default <- chart_lift(pred_df = ranger_predict_03_default,\n",
    "                        dep_var = \"actual\",\n",
    "                        pred_var = \"predicted\")\n",
    "\n",
    "gains_plot_ranger_03_default <- plot_gains (lift_df_ranger_03_default) \n",
    "\n",
    "auc_ranger_03_default <- calc_auc(lift_df_ranger_03_default)"
   ]
  },
  {
   "cell_type": "markdown",
   "metadata": {},
   "source": [
    "### 4. agg rf w/ respect.unordered.factors=FALSE"
   ]
  },
  {
   "cell_type": "code",
   "execution_count": 107,
   "metadata": {},
   "outputs": [
    {
     "name": "stdout",
     "output_type": "stream",
     "text": [
      "Growing trees.. Progress: 28%. Estimated remaining time: 1 minute, 18 seconds.\n",
      "Growing trees.. Progress: 56%. Estimated remaining time: 48 seconds.\n",
      "Growing trees.. Progress: 84%. Estimated remaining time: 17 seconds.\n"
     ]
    }
   ],
   "source": [
    "ranger_03_fact <- ranger(\n",
    "    formula         = renewal_status ~ ., \n",
    "    data            =  subset(expiry_train_df_1_sub,\n",
    "                              select=c(renewal_status,\n",
    "                                       pattern_domain_count, \n",
    "                                       log_reg_arpt,\n",
    "                                       sld_length, \n",
    "                                       gibb_score,\n",
    "                                       sld_type, \n",
    "                                       day_domains,\n",
    "                                       reg_period, \n",
    "                                       tld)), \n",
    "    importance = 'impurity', \n",
    "    num.trees       = 1000,\n",
    "    probability = TRUE,\n",
    "    mtry            = 3,\n",
    "    min.node.size   = 10,\n",
    "    replace = FALSE,\n",
    "    sample.fraction = .8,\n",
    "    seed            = 123,\n",
    "    respect.unordered.factors=TRUE\n",
    ")\n",
    "\n",
    "ranger_predict_03_fact <- predict(ranger_03_fact, \n",
    "                          data = expiry_test_df_1_sub,\n",
    "                          type=\"response\")$predictions\n",
    "\n",
    "ranger_predict_03_fact <- as.data.frame(ranger_predict_03_fact)$Renewed\n",
    "\n",
    "ranger_predict_03_fact = data.frame(\"actual\" = expiry_test_df_1_sub$renewal_status,\n",
    "          \"predicted\" = ranger_predict_03_fact)\n",
    "\n",
    "lift_df_ranger_03_fact <- chart_lift(pred_df = ranger_predict_03_fact,\n",
    "                        dep_var = \"actual\",\n",
    "                        pred_var = \"predicted\")\n",
    "\n",
    "gains_plot_ranger_03_fact <- plot_gains (lift_df_ranger_03_fact) \n",
    "\n",
    "auc_ranger_03_fact <- calc_auc(lift_df_ranger_03_fact)"
   ]
  },
  {
   "cell_type": "markdown",
   "metadata": {},
   "source": [
    "### Compare Perf"
   ]
  },
  {
   "cell_type": "code",
   "execution_count": 108,
   "metadata": {},
   "outputs": [
    {
     "data": {
      "text/html": [
       "0.059285682033684"
      ],
      "text/latex": [
       "0.059285682033684"
      ],
      "text/markdown": [
       "0.059285682033684"
      ],
      "text/plain": [
       "[1] 0.05928568"
      ]
     },
     "metadata": {},
     "output_type": "display_data"
    }
   ],
   "source": [
    "prop_positive = prop.table(table(expiry_train_df_1_sub$renewal_status))[[2]]\n",
    "prop_positive"
   ]
  },
  {
   "cell_type": "code",
   "execution_count": 110,
   "metadata": {},
   "outputs": [
    {
     "data": {
      "image/png": "[encoded data removed]",
      "text/plain": [
       "plot without title"
      ]
     },
     "metadata": {
      "image/png": {
       "height": 420,
       "width": 420
      },
      "text/plain": {
       "height": 420,
       "width": 420
      }
     },
     "output_type": "display_data"
    }
   ],
   "source": [
    "plot_multigains_reg <- plot_multigains(\n",
    "    lift_df_list=list(\n",
    "        seg_glm = lift_df_seg_glm,\n",
    "        agg_glm = lift_df_agg_glm,\n",
    "        agg_rf_d = lift_df_ranger_03_default,\n",
    "        agg_rf_f = lift_df_ranger_03_fact),\n",
    "    auc_list = list(\n",
    "        seg_glm = calc_auc(lift_df_seg_glm),\n",
    "        agg_glm = calc_auc(lift_df_agg_glm),\n",
    "        agg_rf_d = calc_auc(lift_df_ranger_03_default),\n",
    "        agg_rf_f = calc_auc(lift_df_ranger_03_fact)),\n",
    "    prop_positive = prop_positive)\n",
    "# png(file = \"../../data/output/plot_multigains_03_summ4.png\",\n",
    "#     width = 500, height = 375)\n",
    "plot(plot_multigains_reg + \n",
    "      annotate(\"text\", x = .3, y = .1, hjust = 0, label=reseller_str, size = 24))\n",
    "# dev.off()"
   ]
  },
  {
   "cell_type": "code",
   "execution_count": null,
   "metadata": {},
   "outputs": [],
   "source": []
  },
  {
   "cell_type": "markdown",
   "metadata": {},
   "source": [
    "# Prorotype Script"
   ]
  },
  {
   "cell_type": "code",
   "execution_count": 7,
   "metadata": {},
   "outputs": [
    {
     "data": {
      "text/html": [
       "<style>\n",
       ".list-inline {list-style: none; margin:0; padding: 0}\n",
       ".list-inline>li {display: inline-block}\n",
       ".list-inline>li:not(:last-child)::after {content: \"\\00b7\"; padding: 0 .5ex}\n",
       "</style>\n",
       "<ol class=list-inline><li>'namecheap'</li><li>'alibaba'</li><li>'gmo'</li><li>'go daddy'</li><li>'reg.ru'</li><li>'chengdu west'</li><li>'gandi sas'</li><li>'hostinger'</li><li>'uniregistrar'</li><li>'zhengzhou century connect'</li></ol>\n"
      ],
      "text/latex": [
       "\\begin{enumerate*}\n",
       "\\item 'namecheap'\n",
       "\\item 'alibaba'\n",
       "\\item 'gmo'\n",
       "\\item 'go daddy'\n",
       "\\item 'reg.ru'\n",
       "\\item 'chengdu west'\n",
       "\\item 'gandi sas'\n",
       "\\item 'hostinger'\n",
       "\\item 'uniregistrar'\n",
       "\\item 'zhengzhou century connect'\n",
       "\\end{enumerate*}\n"
      ],
      "text/markdown": [
       "1. 'namecheap'\n",
       "2. 'alibaba'\n",
       "3. 'gmo'\n",
       "4. 'go daddy'\n",
       "5. 'reg.ru'\n",
       "6. 'chengdu west'\n",
       "7. 'gandi sas'\n",
       "8. 'hostinger'\n",
       "9. 'uniregistrar'\n",
       "10. 'zhengzhou century connect'\n",
       "\n",
       "\n"
      ],
      "text/plain": [
       " [1] \"namecheap\"                 \"alibaba\"                  \n",
       " [3] \"gmo\"                       \"go daddy\"                 \n",
       " [5] \"reg.ru\"                    \"chengdu west\"             \n",
       " [7] \"gandi sas\"                 \"hostinger\"                \n",
       " [9] \"uniregistrar\"              \"zhengzhou century connect\""
      ]
     },
     "metadata": {},
     "output_type": "display_data"
    }
   ],
   "source": [
    "expiry_train_df_sub %>% group_by(reseller) %>% tally() %>% arrange(desc(n)) %>% head(10) %>% pull(reseller)"
   ]
  },
  {
   "cell_type": "code",
   "execution_count": 8,
   "metadata": {},
   "outputs": [
    {
     "data": {
      "text/html": [
       "<style>\n",
       ".list-inline {list-style: none; margin:0; padding: 0}\n",
       ".list-inline>li {display: inline-block}\n",
       ".list-inline>li:not(:last-child)::after {content: \"\\00b7\"; padding: 0 .5ex}\n",
       "</style>\n",
       "<ol class=list-inline><li>'namecheap'</li><li>'alibaba'</li><li>'gmo'</li><li>'go daddy'</li><li>'reg.ru'</li><li>'chengdu west'</li><li>'gandi sas'</li><li>'hostinger'</li><li>'uniregistrar'</li><li>'zhengzhou century connect'</li></ol>\n"
      ],
      "text/latex": [
       "\\begin{enumerate*}\n",
       "\\item 'namecheap'\n",
       "\\item 'alibaba'\n",
       "\\item 'gmo'\n",
       "\\item 'go daddy'\n",
       "\\item 'reg.ru'\n",
       "\\item 'chengdu west'\n",
       "\\item 'gandi sas'\n",
       "\\item 'hostinger'\n",
       "\\item 'uniregistrar'\n",
       "\\item 'zhengzhou century connect'\n",
       "\\end{enumerate*}\n"
      ],
      "text/markdown": [
       "1. 'namecheap'\n",
       "2. 'alibaba'\n",
       "3. 'gmo'\n",
       "4. 'go daddy'\n",
       "5. 'reg.ru'\n",
       "6. 'chengdu west'\n",
       "7. 'gandi sas'\n",
       "8. 'hostinger'\n",
       "9. 'uniregistrar'\n",
       "10. 'zhengzhou century connect'\n",
       "\n",
       "\n"
      ],
      "text/plain": [
       " [1] \"namecheap\"                 \"alibaba\"                  \n",
       " [3] \"gmo\"                       \"go daddy\"                 \n",
       " [5] \"reg.ru\"                    \"chengdu west\"             \n",
       " [7] \"gandi sas\"                 \"hostinger\"                \n",
       " [9] \"uniregistrar\"              \"zhengzhou century connect\""
      ]
     },
     "metadata": {},
     "output_type": "display_data"
    }
   ],
   "source": [
    "reseller_list = expiry_train_df_sub %>% group_by(reseller) %>% tally() %>% arrange(desc(n)) %>% head(10) %>% pull(reseller)\n",
    "reseller_list"
   ]
  },
  {
   "cell_type": "code",
   "execution_count": 13,
   "metadata": {},
   "outputs": [],
   "source": [
    "reseller_compare <- function (reseller_str,\n",
    "                             train_list = expiry_train_prepped_2_1,\n",
    "                             test_list = expiry_test_prepped_2_1){\n",
    "    \n",
    "    print(reseller_str)\n",
    "    \n",
    "    # subset data\n",
    "    tld_registrars = names(train_list)[grep(reseller_str, names(train_list))]\n",
    "    train_list = train_list[tld_registrars]\n",
    "    test_list = test_list[tld_registrars]\n",
    "    train_df =  rbindlist(train_list)\n",
    "    test_df =  rbindlist(test_list)\n",
    "    \n",
    "    # tld-segmented glm\n",
    "    seg_glm_model = mass_build_model_first_renewal(train_list)\n",
    "    seg_glm_pred = mass_predict_first_renewal(test_list, seg_glm_model)\n",
    "    seg_glm_pred_df = data.frame(\"actual\" = seg_glm_pred$renewal_status,\n",
    "                                 \"predicted\" = seg_glm_pred$first_renewal_prediction)\n",
    "    lift_df_seg_glm <- chart_lift(pred_df = seg_glm_pred_df,\n",
    "                                  dep_var = \"actual\",\n",
    "                                  pred_var = \"predicted\")\n",
    "    \n",
    "    # agg glm\n",
    "    agg_glm_model = build_model_first_renewal_reg(train_df)\n",
    "    agg_glm_pred = predict_first_renewal_reg(test_df, agg_glm_model)\n",
    "    agg_glm_pred_df = data.frame(\"actual\" = agg_glm_pred$renewal_status,\n",
    "                                 \"predicted\" = agg_glm_pred$first_renewal_prediction)\n",
    "    lift_df_agg_glm <- chart_lift(pred_df = agg_glm_pred_df,\n",
    "                                  dep_var = \"actual\",\n",
    "                                  pred_var = \"predicted\")\n",
    "    \n",
    "    # agg rf_f\n",
    "    ranger_03_fact <- ranger(\n",
    "    formula         = renewal_status ~ pattern_domain_count+log_reg_arpt+sld_length+gibb_score+sld_type+day_domains+reg_period+tld, \n",
    "    data            = train_df, \n",
    "    importance = 'impurity', \n",
    "    num.trees       = 5,\n",
    "    probability = TRUE,\n",
    "    mtry            = 3,\n",
    "    min.node.size   = 10,\n",
    "    replace = FALSE,\n",
    "    sample.fraction = .8,\n",
    "    seed            = 123,\n",
    "    respect.unordered.factors=TRUE)\n",
    "    ranger_predict_03_fact <- predict(ranger_03_fact, \n",
    "                              data = test_df,\n",
    "                              type=\"response\")$predictions\n",
    "    ranger_predict_03_fact <- as.data.frame(ranger_predict_03_fact)$Renewed\n",
    "    ranger_predict_03_fact = data.frame(\"actual\" = test_df$renewal_status,\n",
    "              \"predicted\" = ranger_predict_03_fact)\n",
    "    lift_df_ranger_03_fact <- chart_lift(pred_df = ranger_predict_03_fact,\n",
    "                            dep_var = \"actual\",\n",
    "                            pred_var = \"predicted\")\n",
    "    \n",
    "    return(list(lift_df_seg_glm = lift_df_seg_glm, \n",
    "                lift_df_agg_glm = lift_df_agg_glm, \n",
    "                lift_df_ranger_03_fact = lift_df_ranger_03_fact))\n",
    "    \n",
    "    \n",
    "\n",
    "}\n",
    "\n",
    "reseller_compare_list <- function (reseller_list=reseller_list,\n",
    "                             train_list = expiry_train_prepped_2_1,\n",
    "                             test_list = expiry_test_prepped_2_1){\n",
    "    \n",
    "    \n",
    "    x <- lapply(reseller_list, \n",
    "                function(reseller_str) reseller_compare(reseller_str,\n",
    "                                                       train_list,\n",
    "                                                       test_list))\n",
    "                        \n",
    "    return(x)\n",
    "    \n",
    "}"
   ]
  },
  {
   "cell_type": "code",
   "execution_count": 19,
   "metadata": {},
   "outputs": [],
   "source": [
    "# x = reseller_compare_list(reseller_list=reseller_list,\n",
    "#                              train_list = expiry_train_prepped_2_1,\n",
    "#                              test_list = expiry_test_prepped_2_1)"
   ]
  },
  {
   "cell_type": "markdown",
   "metadata": {},
   "source": [
    "# Load Script Results & Analyze"
   ]
  },
  {
   "cell_type": "code",
   "execution_count": 15,
   "metadata": {},
   "outputs": [],
   "source": [
    "load(\"../../data/output/reseller_compare_list_01_10\")"
   ]
  },
  {
   "cell_type": "code",
   "execution_count": 16,
   "metadata": {},
   "outputs": [
    {
     "data": {
      "text/html": [
       "10"
      ],
      "text/latex": [
       "10"
      ],
      "text/markdown": [
       "10"
      ],
      "text/plain": [
       "[1] 10"
      ]
     },
     "metadata": {},
     "output_type": "display_data"
    }
   ],
   "source": [
    "length(reseller_compare_list_01_10)"
   ]
  },
  {
   "cell_type": "code",
   "execution_count": 18,
   "metadata": {},
   "outputs": [
    {
     "data": {
      "text/html": [
       "<ol>\n",
       "\t<li><dl>\n",
       "\t<dt>$lift_df_seg_glm</dt>\n",
       "\t\t<dd><table>\n",
       "<caption>A data.frame: 10 × 4</caption>\n",
       "<thead>\n",
       "\t<tr><th scope=col>P</th><th scope=col>actu_renwd2</th><th scope=col>gain</th><th scope=col>lift</th></tr>\n",
       "\t<tr><th scope=col>&lt;dbl&gt;</th><th scope=col>&lt;int&gt;</th><th scope=col>&lt;dbl&gt;</th><th scope=col>&lt;dbl&gt;</th></tr>\n",
       "</thead>\n",
       "<tbody>\n",
       "\t<tr><td>0.1</td><td>1191</td><td>0.3578726</td><td>3.578726</td></tr>\n",
       "\t<tr><td>0.2</td><td>1740</td><td>0.5228365</td><td>2.614183</td></tr>\n",
       "\t<tr><td>0.3</td><td>2183</td><td>0.6559495</td><td>2.186498</td></tr>\n",
       "\t<tr><td>0.4</td><td>2518</td><td>0.7566106</td><td>1.891526</td></tr>\n",
       "\t<tr><td>0.5</td><td>2797</td><td>0.8404447</td><td>1.680889</td></tr>\n",
       "\t<tr><td>0.6</td><td>3029</td><td>0.9101562</td><td>1.516927</td></tr>\n",
       "\t<tr><td>0.7</td><td>3180</td><td>0.9555288</td><td>1.365041</td></tr>\n",
       "\t<tr><td>0.8</td><td>3252</td><td>0.9771635</td><td>1.221454</td></tr>\n",
       "\t<tr><td>0.9</td><td>3295</td><td>0.9900841</td><td>1.100093</td></tr>\n",
       "\t<tr><td>1.0</td><td>3328</td><td>1.0000000</td><td>1.000000</td></tr>\n",
       "</tbody>\n",
       "</table>\n",
       "</dd>\n",
       "\t<dt>$lift_df_agg_glm</dt>\n",
       "\t\t<dd><table>\n",
       "<caption>A data.frame: 10 × 4</caption>\n",
       "<thead>\n",
       "\t<tr><th scope=col>P</th><th scope=col>actu_renwd2</th><th scope=col>gain</th><th scope=col>lift</th></tr>\n",
       "\t<tr><th scope=col>&lt;dbl&gt;</th><th scope=col>&lt;int&gt;</th><th scope=col>&lt;dbl&gt;</th><th scope=col>&lt;dbl&gt;</th></tr>\n",
       "</thead>\n",
       "<tbody>\n",
       "\t<tr><td>0.1</td><td>1018</td><td>0.3058894</td><td>3.058894</td></tr>\n",
       "\t<tr><td>0.2</td><td>1670</td><td>0.5018029</td><td>2.509014</td></tr>\n",
       "\t<tr><td>0.3</td><td>2066</td><td>0.6207933</td><td>2.069311</td></tr>\n",
       "\t<tr><td>0.4</td><td>2413</td><td>0.7250601</td><td>1.812650</td></tr>\n",
       "\t<tr><td>0.5</td><td>2731</td><td>0.8206130</td><td>1.641226</td></tr>\n",
       "\t<tr><td>0.6</td><td>2934</td><td>0.8816106</td><td>1.469351</td></tr>\n",
       "\t<tr><td>0.7</td><td>3094</td><td>0.9296875</td><td>1.328125</td></tr>\n",
       "\t<tr><td>0.8</td><td>3205</td><td>0.9630409</td><td>1.203801</td></tr>\n",
       "\t<tr><td>0.9</td><td>3294</td><td>0.9897837</td><td>1.099760</td></tr>\n",
       "\t<tr><td>1.0</td><td>3328</td><td>1.0000000</td><td>1.000000</td></tr>\n",
       "</tbody>\n",
       "</table>\n",
       "</dd>\n",
       "\t<dt>$lift_df_ranger_03_fact</dt>\n",
       "\t\t<dd><table>\n",
       "<caption>A data.frame: 10 × 4</caption>\n",
       "<thead>\n",
       "\t<tr><th scope=col>P</th><th scope=col>actu_renwd2</th><th scope=col>gain</th><th scope=col>lift</th></tr>\n",
       "\t<tr><th scope=col>&lt;dbl&gt;</th><th scope=col>&lt;int&gt;</th><th scope=col>&lt;dbl&gt;</th><th scope=col>&lt;dbl&gt;</th></tr>\n",
       "</thead>\n",
       "<tbody>\n",
       "\t<tr><td>0.1</td><td> 940</td><td>0.2824519</td><td>2.824519</td></tr>\n",
       "\t<tr><td>0.2</td><td>1563</td><td>0.4696514</td><td>2.348257</td></tr>\n",
       "\t<tr><td>0.3</td><td>2015</td><td>0.6054688</td><td>2.018229</td></tr>\n",
       "\t<tr><td>0.4</td><td>2402</td><td>0.7217548</td><td>1.804387</td></tr>\n",
       "\t<tr><td>0.5</td><td>2736</td><td>0.8221154</td><td>1.644231</td></tr>\n",
       "\t<tr><td>0.6</td><td>2996</td><td>0.9002404</td><td>1.500401</td></tr>\n",
       "\t<tr><td>0.7</td><td>3179</td><td>0.9552284</td><td>1.364612</td></tr>\n",
       "\t<tr><td>0.8</td><td>3274</td><td>0.9837740</td><td>1.229718</td></tr>\n",
       "\t<tr><td>0.9</td><td>3313</td><td>0.9954928</td><td>1.106103</td></tr>\n",
       "\t<tr><td>1.0</td><td>3328</td><td>1.0000000</td><td>1.000000</td></tr>\n",
       "</tbody>\n",
       "</table>\n",
       "</dd>\n",
       "</dl>\n",
       "</li>\n",
       "</ol>\n"
      ],
      "text/latex": [
       "\\begin{enumerate}\n",
       "\\item \\begin{description}\n",
       "\\item[\\$lift\\_df\\_seg\\_glm] A data.frame: 10 × 4\n",
       "\\begin{tabular}{llll}\n",
       " P & actu\\_renwd2 & gain & lift\\\\\n",
       " <dbl> & <int> & <dbl> & <dbl>\\\\\n",
       "\\hline\n",
       "\t 0.1 & 1191 & 0.3578726 & 3.578726\\\\\n",
       "\t 0.2 & 1740 & 0.5228365 & 2.614183\\\\\n",
       "\t 0.3 & 2183 & 0.6559495 & 2.186498\\\\\n",
       "\t 0.4 & 2518 & 0.7566106 & 1.891526\\\\\n",
       "\t 0.5 & 2797 & 0.8404447 & 1.680889\\\\\n",
       "\t 0.6 & 3029 & 0.9101562 & 1.516927\\\\\n",
       "\t 0.7 & 3180 & 0.9555288 & 1.365041\\\\\n",
       "\t 0.8 & 3252 & 0.9771635 & 1.221454\\\\\n",
       "\t 0.9 & 3295 & 0.9900841 & 1.100093\\\\\n",
       "\t 1.0 & 3328 & 1.0000000 & 1.000000\\\\\n",
       "\\end{tabular}\n",
       "\n",
       "\\item[\\$lift\\_df\\_agg\\_glm] A data.frame: 10 × 4\n",
       "\\begin{tabular}{llll}\n",
       " P & actu\\_renwd2 & gain & lift\\\\\n",
       " <dbl> & <int> & <dbl> & <dbl>\\\\\n",
       "\\hline\n",
       "\t 0.1 & 1018 & 0.3058894 & 3.058894\\\\\n",
       "\t 0.2 & 1670 & 0.5018029 & 2.509014\\\\\n",
       "\t 0.3 & 2066 & 0.6207933 & 2.069311\\\\\n",
       "\t 0.4 & 2413 & 0.7250601 & 1.812650\\\\\n",
       "\t 0.5 & 2731 & 0.8206130 & 1.641226\\\\\n",
       "\t 0.6 & 2934 & 0.8816106 & 1.469351\\\\\n",
       "\t 0.7 & 3094 & 0.9296875 & 1.328125\\\\\n",
       "\t 0.8 & 3205 & 0.9630409 & 1.203801\\\\\n",
       "\t 0.9 & 3294 & 0.9897837 & 1.099760\\\\\n",
       "\t 1.0 & 3328 & 1.0000000 & 1.000000\\\\\n",
       "\\end{tabular}\n",
       "\n",
       "\\item[\\$lift\\_df\\_ranger\\_03\\_fact] A data.frame: 10 × 4\n",
       "\\begin{tabular}{llll}\n",
       " P & actu\\_renwd2 & gain & lift\\\\\n",
       " <dbl> & <int> & <dbl> & <dbl>\\\\\n",
       "\\hline\n",
       "\t 0.1 &  940 & 0.2824519 & 2.824519\\\\\n",
       "\t 0.2 & 1563 & 0.4696514 & 2.348257\\\\\n",
       "\t 0.3 & 2015 & 0.6054688 & 2.018229\\\\\n",
       "\t 0.4 & 2402 & 0.7217548 & 1.804387\\\\\n",
       "\t 0.5 & 2736 & 0.8221154 & 1.644231\\\\\n",
       "\t 0.6 & 2996 & 0.9002404 & 1.500401\\\\\n",
       "\t 0.7 & 3179 & 0.9552284 & 1.364612\\\\\n",
       "\t 0.8 & 3274 & 0.9837740 & 1.229718\\\\\n",
       "\t 0.9 & 3313 & 0.9954928 & 1.106103\\\\\n",
       "\t 1.0 & 3328 & 1.0000000 & 1.000000\\\\\n",
       "\\end{tabular}\n",
       "\n",
       "\\end{description}\n",
       "\n",
       "\\end{enumerate}\n"
      ],
      "text/markdown": [
       "1. $lift_df_seg_glm\n",
       ":   \n",
       "A data.frame: 10 × 4\n",
       "\n",
       "| P &lt;dbl&gt; | actu_renwd2 &lt;int&gt; | gain &lt;dbl&gt; | lift &lt;dbl&gt; |\n",
       "|---|---|---|---|\n",
       "| 0.1 | 1191 | 0.3578726 | 3.578726 |\n",
       "| 0.2 | 1740 | 0.5228365 | 2.614183 |\n",
       "| 0.3 | 2183 | 0.6559495 | 2.186498 |\n",
       "| 0.4 | 2518 | 0.7566106 | 1.891526 |\n",
       "| 0.5 | 2797 | 0.8404447 | 1.680889 |\n",
       "| 0.6 | 3029 | 0.9101562 | 1.516927 |\n",
       "| 0.7 | 3180 | 0.9555288 | 1.365041 |\n",
       "| 0.8 | 3252 | 0.9771635 | 1.221454 |\n",
       "| 0.9 | 3295 | 0.9900841 | 1.100093 |\n",
       "| 1.0 | 3328 | 1.0000000 | 1.000000 |\n",
       "\n",
       "\n",
       "$lift_df_agg_glm\n",
       ":   \n",
       "A data.frame: 10 × 4\n",
       "\n",
       "| P &lt;dbl&gt; | actu_renwd2 &lt;int&gt; | gain &lt;dbl&gt; | lift &lt;dbl&gt; |\n",
       "|---|---|---|---|\n",
       "| 0.1 | 1018 | 0.3058894 | 3.058894 |\n",
       "| 0.2 | 1670 | 0.5018029 | 2.509014 |\n",
       "| 0.3 | 2066 | 0.6207933 | 2.069311 |\n",
       "| 0.4 | 2413 | 0.7250601 | 1.812650 |\n",
       "| 0.5 | 2731 | 0.8206130 | 1.641226 |\n",
       "| 0.6 | 2934 | 0.8816106 | 1.469351 |\n",
       "| 0.7 | 3094 | 0.9296875 | 1.328125 |\n",
       "| 0.8 | 3205 | 0.9630409 | 1.203801 |\n",
       "| 0.9 | 3294 | 0.9897837 | 1.099760 |\n",
       "| 1.0 | 3328 | 1.0000000 | 1.000000 |\n",
       "\n",
       "\n",
       "$lift_df_ranger_03_fact\n",
       ":   \n",
       "A data.frame: 10 × 4\n",
       "\n",
       "| P &lt;dbl&gt; | actu_renwd2 &lt;int&gt; | gain &lt;dbl&gt; | lift &lt;dbl&gt; |\n",
       "|---|---|---|---|\n",
       "| 0.1 |  940 | 0.2824519 | 2.824519 |\n",
       "| 0.2 | 1563 | 0.4696514 | 2.348257 |\n",
       "| 0.3 | 2015 | 0.6054688 | 2.018229 |\n",
       "| 0.4 | 2402 | 0.7217548 | 1.804387 |\n",
       "| 0.5 | 2736 | 0.8221154 | 1.644231 |\n",
       "| 0.6 | 2996 | 0.9002404 | 1.500401 |\n",
       "| 0.7 | 3179 | 0.9552284 | 1.364612 |\n",
       "| 0.8 | 3274 | 0.9837740 | 1.229718 |\n",
       "| 0.9 | 3313 | 0.9954928 | 1.106103 |\n",
       "| 1.0 | 3328 | 1.0000000 | 1.000000 |\n",
       "\n",
       "\n",
       "\n",
       "\n",
       "\n",
       "\n",
       "\n"
      ],
      "text/plain": [
       "[[1]]\n",
       "[[1]]$lift_df_seg_glm\n",
       "     P actu_renwd2      gain     lift\n",
       "1  0.1        1191 0.3578726 3.578726\n",
       "2  0.2        1740 0.5228365 2.614183\n",
       "3  0.3        2183 0.6559495 2.186498\n",
       "4  0.4        2518 0.7566106 1.891526\n",
       "5  0.5        2797 0.8404447 1.680889\n",
       "6  0.6        3029 0.9101562 1.516927\n",
       "7  0.7        3180 0.9555288 1.365041\n",
       "8  0.8        3252 0.9771635 1.221454\n",
       "9  0.9        3295 0.9900841 1.100093\n",
       "10 1.0        3328 1.0000000 1.000000\n",
       "\n",
       "[[1]]$lift_df_agg_glm\n",
       "     P actu_renwd2      gain     lift\n",
       "1  0.1        1018 0.3058894 3.058894\n",
       "2  0.2        1670 0.5018029 2.509014\n",
       "3  0.3        2066 0.6207933 2.069311\n",
       "4  0.4        2413 0.7250601 1.812650\n",
       "5  0.5        2731 0.8206130 1.641226\n",
       "6  0.6        2934 0.8816106 1.469351\n",
       "7  0.7        3094 0.9296875 1.328125\n",
       "8  0.8        3205 0.9630409 1.203801\n",
       "9  0.9        3294 0.9897837 1.099760\n",
       "10 1.0        3328 1.0000000 1.000000\n",
       "\n",
       "[[1]]$lift_df_ranger_03_fact\n",
       "     P actu_renwd2      gain     lift\n",
       "1  0.1         940 0.2824519 2.824519\n",
       "2  0.2        1563 0.4696514 2.348257\n",
       "3  0.3        2015 0.6054688 2.018229\n",
       "4  0.4        2402 0.7217548 1.804387\n",
       "5  0.5        2736 0.8221154 1.644231\n",
       "6  0.6        2996 0.9002404 1.500401\n",
       "7  0.7        3179 0.9552284 1.364612\n",
       "8  0.8        3274 0.9837740 1.229718\n",
       "9  0.9        3313 0.9954928 1.106103\n",
       "10 1.0        3328 1.0000000 1.000000\n",
       "\n"
      ]
     },
     "metadata": {},
     "output_type": "display_data"
    }
   ],
   "source": [
    "reseller_compare_list_01_10[1]"
   ]
  },
  {
   "cell_type": "code",
   "execution_count": 21,
   "metadata": {},
   "outputs": [
    {
     "data": {
      "text/html": [
       "<style>\n",
       ".list-inline {list-style: none; margin:0; padding: 0}\n",
       ".list-inline>li {display: inline-block}\n",
       ".list-inline>li:not(:last-child)::after {content: \"\\00b7\"; padding: 0 .5ex}\n",
       "</style>\n",
       "<ol class=list-inline><li>'lift_df_seg_glm'</li><li>'lift_df_agg_glm'</li><li>'lift_df_ranger_03_fact'</li></ol>\n"
      ],
      "text/latex": [
       "\\begin{enumerate*}\n",
       "\\item 'lift\\_df\\_seg\\_glm'\n",
       "\\item 'lift\\_df\\_agg\\_glm'\n",
       "\\item 'lift\\_df\\_ranger\\_03\\_fact'\n",
       "\\end{enumerate*}\n"
      ],
      "text/markdown": [
       "1. 'lift_df_seg_glm'\n",
       "2. 'lift_df_agg_glm'\n",
       "3. 'lift_df_ranger_03_fact'\n",
       "\n",
       "\n"
      ],
      "text/plain": [
       "[1] \"lift_df_seg_glm\"        \"lift_df_agg_glm\"        \"lift_df_ranger_03_fact\""
      ]
     },
     "metadata": {},
     "output_type": "display_data"
    }
   ],
   "source": [
    "names(reseller_compare_list_01_10[[1]])"
   ]
  },
  {
   "cell_type": "code",
   "execution_count": 25,
   "metadata": {},
   "outputs": [
    {
     "data": {
      "text/html": [
       "<table>\n",
       "<caption>A data.frame: 10 × 4</caption>\n",
       "<thead>\n",
       "\t<tr><th scope=col>P</th><th scope=col>actu_renwd2</th><th scope=col>gain</th><th scope=col>lift</th></tr>\n",
       "\t<tr><th scope=col>&lt;dbl&gt;</th><th scope=col>&lt;int&gt;</th><th scope=col>&lt;dbl&gt;</th><th scope=col>&lt;dbl&gt;</th></tr>\n",
       "</thead>\n",
       "<tbody>\n",
       "\t<tr><td>0.1</td><td>1191</td><td>0.3578726</td><td>3.578726</td></tr>\n",
       "\t<tr><td>0.2</td><td>1740</td><td>0.5228365</td><td>2.614183</td></tr>\n",
       "\t<tr><td>0.3</td><td>2183</td><td>0.6559495</td><td>2.186498</td></tr>\n",
       "\t<tr><td>0.4</td><td>2518</td><td>0.7566106</td><td>1.891526</td></tr>\n",
       "\t<tr><td>0.5</td><td>2797</td><td>0.8404447</td><td>1.680889</td></tr>\n",
       "\t<tr><td>0.6</td><td>3029</td><td>0.9101562</td><td>1.516927</td></tr>\n",
       "\t<tr><td>0.7</td><td>3180</td><td>0.9555288</td><td>1.365041</td></tr>\n",
       "\t<tr><td>0.8</td><td>3252</td><td>0.9771635</td><td>1.221454</td></tr>\n",
       "\t<tr><td>0.9</td><td>3295</td><td>0.9900841</td><td>1.100093</td></tr>\n",
       "\t<tr><td>1.0</td><td>3328</td><td>1.0000000</td><td>1.000000</td></tr>\n",
       "</tbody>\n",
       "</table>\n"
      ],
      "text/latex": [
       "A data.frame: 10 × 4\n",
       "\\begin{tabular}{llll}\n",
       " P & actu\\_renwd2 & gain & lift\\\\\n",
       " <dbl> & <int> & <dbl> & <dbl>\\\\\n",
       "\\hline\n",
       "\t 0.1 & 1191 & 0.3578726 & 3.578726\\\\\n",
       "\t 0.2 & 1740 & 0.5228365 & 2.614183\\\\\n",
       "\t 0.3 & 2183 & 0.6559495 & 2.186498\\\\\n",
       "\t 0.4 & 2518 & 0.7566106 & 1.891526\\\\\n",
       "\t 0.5 & 2797 & 0.8404447 & 1.680889\\\\\n",
       "\t 0.6 & 3029 & 0.9101562 & 1.516927\\\\\n",
       "\t 0.7 & 3180 & 0.9555288 & 1.365041\\\\\n",
       "\t 0.8 & 3252 & 0.9771635 & 1.221454\\\\\n",
       "\t 0.9 & 3295 & 0.9900841 & 1.100093\\\\\n",
       "\t 1.0 & 3328 & 1.0000000 & 1.000000\\\\\n",
       "\\end{tabular}\n"
      ],
      "text/markdown": [
       "\n",
       "A data.frame: 10 × 4\n",
       "\n",
       "| P &lt;dbl&gt; | actu_renwd2 &lt;int&gt; | gain &lt;dbl&gt; | lift &lt;dbl&gt; |\n",
       "|---|---|---|---|\n",
       "| 0.1 | 1191 | 0.3578726 | 3.578726 |\n",
       "| 0.2 | 1740 | 0.5228365 | 2.614183 |\n",
       "| 0.3 | 2183 | 0.6559495 | 2.186498 |\n",
       "| 0.4 | 2518 | 0.7566106 | 1.891526 |\n",
       "| 0.5 | 2797 | 0.8404447 | 1.680889 |\n",
       "| 0.6 | 3029 | 0.9101562 | 1.516927 |\n",
       "| 0.7 | 3180 | 0.9555288 | 1.365041 |\n",
       "| 0.8 | 3252 | 0.9771635 | 1.221454 |\n",
       "| 0.9 | 3295 | 0.9900841 | 1.100093 |\n",
       "| 1.0 | 3328 | 1.0000000 | 1.000000 |\n",
       "\n"
      ],
      "text/plain": [
       "   P   actu_renwd2 gain      lift    \n",
       "1  0.1 1191        0.3578726 3.578726\n",
       "2  0.2 1740        0.5228365 2.614183\n",
       "3  0.3 2183        0.6559495 2.186498\n",
       "4  0.4 2518        0.7566106 1.891526\n",
       "5  0.5 2797        0.8404447 1.680889\n",
       "6  0.6 3029        0.9101562 1.516927\n",
       "7  0.7 3180        0.9555288 1.365041\n",
       "8  0.8 3252        0.9771635 1.221454\n",
       "9  0.9 3295        0.9900841 1.100093\n",
       "10 1.0 3328        1.0000000 1.000000"
      ]
     },
     "metadata": {},
     "output_type": "display_data"
    }
   ],
   "source": [
    "i=1\n",
    "reseller_compare_list_01_10[[i]][['lift_df_seg_glm']]"
   ]
  },
  {
   "cell_type": "code",
   "execution_count": 79,
   "metadata": {},
   "outputs": [],
   "source": [
    "load(\"../../data/output/reseller_compare_list_11_50\")"
   ]
  },
  {
   "cell_type": "code",
   "execution_count": 81,
   "metadata": {},
   "outputs": [],
   "source": [
    "reseller_list = expiry_train_df_sub %>% group_by(reseller) %>% tally() %>% arrange(desc(n)) %>% slice(11:50) %>% pull(reseller)"
   ]
  },
  {
   "cell_type": "code",
   "execution_count": 91,
   "metadata": {},
   "outputs": [
    {
     "name": "stderr",
     "output_type": "stream",
     "text": [
      "Saving 6.67 x 6.67 in image\n",
      "\n"
     ]
    }
   ],
   "source": [
    "i=10\n",
    "reseller_str = reseller_list[i]\n",
    "expiry_train_df_1_sub = expiry_train_df_1 %>% filter(reseller==reseller_str)\n",
    "prop_positive = prop.table(table(expiry_train_df_1_sub$renewal_status))[[2]]\n",
    "\n",
    "plot_multigains_file(\n",
    "lift_df_list=list(\n",
    "    seg_glm = reseller_compare_list_01_10[[i]][['lift_df_seg_glm']],\n",
    "    agg_glm = reseller_compare_list_01_10[[i]][['lift_df_agg_glm']],\n",
    "    agg_rf_f = reseller_compare_list_01_10[[i]][['lift_df_ranger_03_fact']]),\n",
    "auc_list = list(\n",
    "    seg_glm = calc_auc(reseller_compare_list_01_10[[i]][['lift_df_seg_glm']]),\n",
    "    agg_glm = calc_auc(reseller_compare_list_01_10[[i]][['lift_df_agg_glm']]),\n",
    "    agg_rf_f = calc_auc(reseller_compare_list_01_10[[i]][['lift_df_ranger_03_fact']])),\n",
    "prop_positive = prop_positive,\n",
    "filename = paste0(\"../../data/output/plot_multigains_03_res_\", sprintf(\"%03d\", i+10),\".png\"),\n",
    "reseller_str = reseller_str) \n"
   ]
  },
  {
   "cell_type": "code",
   "execution_count": 92,
   "metadata": {},
   "outputs": [],
   "source": [
    "system(\"gsutil cp /home/jupyter/local/Domains_202003/data/output/* gs://data_outputt/output/\")\n",
    "system(\"mv /home/jupyter/local/Domains_202003/data/output/* /home/jupyter/local/Domains_202003/data/\")"
   ]
  },
  {
   "cell_type": "code",
   "execution_count": null,
   "metadata": {},
   "outputs": [],
   "source": []
  }
 ],
 "metadata": {
  "environment": {
   "name": "r-cpu.3-6.m48",
   "type": "gcloud",
   "uri": "gcr.io/deeplearning-platform-release/r-cpu.3-6:m48"
  },
  "kernelspec": {
   "display_name": "R",
   "language": "R",
   "name": "ir"
  },
  "language_info": {
   "codemirror_mode": "r",
   "file_extension": ".r",
   "mimetype": "text/x-r-source",
   "name": "R",
   "pygments_lexer": "r",
   "version": "3.6.3"
  }
 },
 "nbformat": 4,
 "nbformat_minor": 4
}
