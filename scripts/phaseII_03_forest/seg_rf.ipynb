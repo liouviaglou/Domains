{
 "cells": [
  {
   "cell_type": "markdown",
   "metadata": {},
   "source": [
    "# Segmented RF"
   ]
  },
  {
   "cell_type": "code",
   "execution_count": null,
   "metadata": {},
   "outputs": [],
   "source": [
    "library(dplyr)\n",
    "library(data.table)\n",
    "library(partykit)\n",
    "library(tictoc)\n",
    "library(caret)\n",
    "library(e1071)\n",
    "library(randomForest)\n",
    "library(ranger)\n",
    "\n",
    "#for 3d plotting\n",
    "library(akima)\n",
    "library(plotly)\n",
    "\n",
    "# for prep data\n",
    "library(rPython)\n",
    "library(stringr)\n",
    "library(pbapply)\n",
    "library(stringdist)\n",
    "library(data.table)\n",
    "\n",
    "getwd()"
   ]
  },
  {
   "cell_type": "code",
   "execution_count": null,
   "metadata": {},
   "outputs": [],
   "source": [
    "\n",
    "source('../orig/functions.R')\n",
    "\n",
    "source('../orig/functions_models.R')\n",
    "\n",
    "source('functions_eval.R')\n",
    "# \n",
    "# source('load_prep_data_expiry.R')\n"
   ]
  },
  {
   "cell_type": "markdown",
   "metadata": {},
   "source": [
    "# Identify major registrar with poor performance for head to head"
   ]
  },
  {
   "cell_type": "code",
   "execution_count": 3,
   "metadata": {},
   "outputs": [
    {
     "data": {
      "text/html": [
       "<table>\n",
       "<caption>A data.frame: 6 × 29</caption>\n",
       "<thead>\n",
       "\t<tr><th></th><th scope=col>reg</th><th scope=col>obs_count_s</th><th scope=col>na_count_s</th><th scope=col>TP_s</th><th scope=col>TN_s</th><th scope=col>P_s</th><th scope=col>N_s</th><th scope=col>acc_0.5_s</th><th scope=col>tpr_0.5_s</th><th scope=col>tnr_0.5_s</th><th scope=col>⋯</th><th scope=col>N_r</th><th scope=col>acc_0.5_r</th><th scope=col>tpr_0.5_r</th><th scope=col>tnr_0.5_r</th><th scope=col>fpr_0.5_r</th><th scope=col>fnr_0.5_r</th><th scope=col>auc_r</th><th scope=col>aucpr_r</th><th scope=col>aucpr_srrat</th><th scope=col>acc_srrat</th></tr>\n",
       "\t<tr><th></th><th scope=col>&lt;fct&gt;</th><th scope=col>&lt;int&gt;</th><th scope=col>&lt;int&gt;</th><th scope=col>&lt;int&gt;</th><th scope=col>&lt;int&gt;</th><th scope=col>&lt;int&gt;</th><th scope=col>&lt;int&gt;</th><th scope=col>&lt;dbl&gt;</th><th scope=col>&lt;dbl&gt;</th><th scope=col>&lt;dbl&gt;</th><th scope=col>⋯</th><th scope=col>&lt;int&gt;</th><th scope=col>&lt;dbl&gt;</th><th scope=col>&lt;dbl&gt;</th><th scope=col>&lt;dbl&gt;</th><th scope=col>&lt;dbl&gt;</th><th scope=col>&lt;dbl&gt;</th><th scope=col>&lt;dbl&gt;</th><th scope=col>&lt;dbl&gt;</th><th scope=col>&lt;dbl&gt;</th><th scope=col>&lt;dbl&gt;</th></tr>\n",
       "</thead>\n",
       "<tbody>\n",
       "\t<tr><th scope=row>1</th><td><span style=white-space:pre-wrap>1&amp;1 internet    </span></td><td>2321</td><td>6</td><td>460</td><td>863</td><td>1000</td><td>1315</td><td>0.5714903</td><td>0.46000000</td><td>0.6562738</td><td>⋯</td><td>1318</td><td>0.5691512</td><td>0.23030907</td><td>0.8270106</td><td>0.17298938</td><td>0.7696909</td><td>0.5654244</td><td>0.4847203</td><td>1.0043963</td><td>1.0041097</td></tr>\n",
       "\t<tr><th scope=row>2</th><td>101 domain      </td><td>  32</td><td>6</td><td> 14</td><td>  6</td><td>  16</td><td>  10</td><td>0.7692308</td><td>0.87500000</td><td>0.6000000</td><td>⋯</td><td>  13</td><td>0.6562500</td><td>1.00000000</td><td>0.1538462</td><td>0.84615385</td><td>0.0000000</td><td>0.6923077</td><td>0.8021654</td><td>0.8717474</td><td>1.1721612</td></tr>\n",
       "\t<tr><th scope=row>3</th><td>10dencehispahard</td><td> 165</td><td>2</td><td>  2</td><td>128</td><td>  31</td><td> 132</td><td>0.7975460</td><td>0.06451613</td><td>0.9696970</td><td>⋯</td><td> 134</td><td>0.8060606</td><td>0.03225806</td><td>0.9850746</td><td>0.01492537</td><td>0.9677419</td><td>0.7087145</td><td>0.3286169</td><td>1.0619508</td><td>0.9894368</td></tr>\n",
       "\t<tr><th scope=row>4</th><td>1api            </td><td> 190</td><td>8</td><td> 56</td><td> 45</td><td>  79</td><td> 103</td><td>0.5549451</td><td>0.70886076</td><td>0.4368932</td><td>⋯</td><td> 106</td><td>0.4789474</td><td>0.25000000</td><td>0.6603774</td><td>0.33962264</td><td>0.7500000</td><td>0.4977538</td><td>0.4620861</td><td>1.0168691</td><td>1.1586765</td></tr>\n",
       "\t<tr><th scope=row>5</th><td>22net inc       </td><td>  51</td><td>0</td><td>  2</td><td> 49</td><td>   2</td><td>  49</td><td>1.0000000</td><td>1.00000000</td><td>1.0000000</td><td>⋯</td><td>  49</td><td>1.0000000</td><td>1.00000000</td><td>1.0000000</td><td>0.00000000</td><td>0.0000000</td><td>1.0000000</td><td>1.0000000</td><td>1.0000000</td><td>1.0000000</td></tr>\n",
       "\t<tr><th scope=row>6</th><td>ab name isp     </td><td>  15</td><td>3</td><td>  7</td><td>  0</td><td>   7</td><td>   5</td><td>0.5833333</td><td>1.00000000</td><td>0.0000000</td><td>⋯</td><td>   6</td><td>0.5333333</td><td>0.77777778</td><td>0.1666667</td><td>0.83333333</td><td>0.2222222</td><td>0.3888889</td><td>0.5754147</td><td>1.2661675</td><td>1.0937500</td></tr>\n",
       "</tbody>\n",
       "</table>\n"
      ],
      "text/latex": [
       "A data.frame: 6 × 29\n",
       "\\begin{tabular}{r|lllllllllllllllllllll}\n",
       "  & reg & obs\\_count\\_s & na\\_count\\_s & TP\\_s & TN\\_s & P\\_s & N\\_s & acc\\_0.5\\_s & tpr\\_0.5\\_s & tnr\\_0.5\\_s & ⋯ & N\\_r & acc\\_0.5\\_r & tpr\\_0.5\\_r & tnr\\_0.5\\_r & fpr\\_0.5\\_r & fnr\\_0.5\\_r & auc\\_r & aucpr\\_r & aucpr\\_srrat & acc\\_srrat\\\\\n",
       "  & <fct> & <int> & <int> & <int> & <int> & <int> & <int> & <dbl> & <dbl> & <dbl> & ⋯ & <int> & <dbl> & <dbl> & <dbl> & <dbl> & <dbl> & <dbl> & <dbl> & <dbl> & <dbl>\\\\\n",
       "\\hline\n",
       "\t1 & 1\\&1 internet     & 2321 & 6 & 460 & 863 & 1000 & 1315 & 0.5714903 & 0.46000000 & 0.6562738 & ⋯ & 1318 & 0.5691512 & 0.23030907 & 0.8270106 & 0.17298938 & 0.7696909 & 0.5654244 & 0.4847203 & 1.0043963 & 1.0041097\\\\\n",
       "\t2 & 101 domain       &   32 & 6 &  14 &   6 &   16 &   10 & 0.7692308 & 0.87500000 & 0.6000000 & ⋯ &   13 & 0.6562500 & 1.00000000 & 0.1538462 & 0.84615385 & 0.0000000 & 0.6923077 & 0.8021654 & 0.8717474 & 1.1721612\\\\\n",
       "\t3 & 10dencehispahard &  165 & 2 &   2 & 128 &   31 &  132 & 0.7975460 & 0.06451613 & 0.9696970 & ⋯ &  134 & 0.8060606 & 0.03225806 & 0.9850746 & 0.01492537 & 0.9677419 & 0.7087145 & 0.3286169 & 1.0619508 & 0.9894368\\\\\n",
       "\t4 & 1api             &  190 & 8 &  56 &  45 &   79 &  103 & 0.5549451 & 0.70886076 & 0.4368932 & ⋯ &  106 & 0.4789474 & 0.25000000 & 0.6603774 & 0.33962264 & 0.7500000 & 0.4977538 & 0.4620861 & 1.0168691 & 1.1586765\\\\\n",
       "\t5 & 22net inc        &   51 & 0 &   2 &  49 &    2 &   49 & 1.0000000 & 1.00000000 & 1.0000000 & ⋯ &   49 & 1.0000000 & 1.00000000 & 1.0000000 & 0.00000000 & 0.0000000 & 1.0000000 & 1.0000000 & 1.0000000 & 1.0000000\\\\\n",
       "\t6 & ab name isp      &   15 & 3 &   7 &   0 &    7 &    5 & 0.5833333 & 1.00000000 & 0.0000000 & ⋯ &    6 & 0.5333333 & 0.77777778 & 0.1666667 & 0.83333333 & 0.2222222 & 0.3888889 & 0.5754147 & 1.2661675 & 1.0937500\\\\\n",
       "\\end{tabular}\n"
      ],
      "text/markdown": [
       "\n",
       "A data.frame: 6 × 29\n",
       "\n",
       "| <!--/--> | reg &lt;fct&gt; | obs_count_s &lt;int&gt; | na_count_s &lt;int&gt; | TP_s &lt;int&gt; | TN_s &lt;int&gt; | P_s &lt;int&gt; | N_s &lt;int&gt; | acc_0.5_s &lt;dbl&gt; | tpr_0.5_s &lt;dbl&gt; | tnr_0.5_s &lt;dbl&gt; | ⋯ ⋯ | N_r &lt;int&gt; | acc_0.5_r &lt;dbl&gt; | tpr_0.5_r &lt;dbl&gt; | tnr_0.5_r &lt;dbl&gt; | fpr_0.5_r &lt;dbl&gt; | fnr_0.5_r &lt;dbl&gt; | auc_r &lt;dbl&gt; | aucpr_r &lt;dbl&gt; | aucpr_srrat &lt;dbl&gt; | acc_srrat &lt;dbl&gt; |\n",
       "|---|---|---|---|---|---|---|---|---|---|---|---|---|---|---|---|---|---|---|---|---|---|\n",
       "| 1 | 1&amp;1 internet     | 2321 | 6 | 460 | 863 | 1000 | 1315 | 0.5714903 | 0.46000000 | 0.6562738 | ⋯ | 1318 | 0.5691512 | 0.23030907 | 0.8270106 | 0.17298938 | 0.7696909 | 0.5654244 | 0.4847203 | 1.0043963 | 1.0041097 |\n",
       "| 2 | 101 domain       |   32 | 6 |  14 |   6 |   16 |   10 | 0.7692308 | 0.87500000 | 0.6000000 | ⋯ |   13 | 0.6562500 | 1.00000000 | 0.1538462 | 0.84615385 | 0.0000000 | 0.6923077 | 0.8021654 | 0.8717474 | 1.1721612 |\n",
       "| 3 | 10dencehispahard |  165 | 2 |   2 | 128 |   31 |  132 | 0.7975460 | 0.06451613 | 0.9696970 | ⋯ |  134 | 0.8060606 | 0.03225806 | 0.9850746 | 0.01492537 | 0.9677419 | 0.7087145 | 0.3286169 | 1.0619508 | 0.9894368 |\n",
       "| 4 | 1api             |  190 | 8 |  56 |  45 |   79 |  103 | 0.5549451 | 0.70886076 | 0.4368932 | ⋯ |  106 | 0.4789474 | 0.25000000 | 0.6603774 | 0.33962264 | 0.7500000 | 0.4977538 | 0.4620861 | 1.0168691 | 1.1586765 |\n",
       "| 5 | 22net inc        |   51 | 0 |   2 |  49 |    2 |   49 | 1.0000000 | 1.00000000 | 1.0000000 | ⋯ |   49 | 1.0000000 | 1.00000000 | 1.0000000 | 0.00000000 | 0.0000000 | 1.0000000 | 1.0000000 | 1.0000000 | 1.0000000 |\n",
       "| 6 | ab name isp      |   15 | 3 |   7 |   0 |    7 |    5 | 0.5833333 | 1.00000000 | 0.0000000 | ⋯ |    6 | 0.5333333 | 0.77777778 | 0.1666667 | 0.83333333 | 0.2222222 | 0.3888889 | 0.5754147 | 1.2661675 | 1.0937500 |\n",
       "\n"
      ],
      "text/plain": [
       "  reg              obs_count_s na_count_s TP_s TN_s P_s  N_s  acc_0.5_s\n",
       "1 1&1 internet     2321        6          460  863  1000 1315 0.5714903\n",
       "2 101 domain         32        6           14    6    16   10 0.7692308\n",
       "3 10dencehispahard  165        2            2  128    31  132 0.7975460\n",
       "4 1api              190        8           56   45    79  103 0.5549451\n",
       "5 22net inc          51        0            2   49     2   49 1.0000000\n",
       "6 ab name isp        15        3            7    0     7    5 0.5833333\n",
       "  tpr_0.5_s  tnr_0.5_s ⋯ N_r  acc_0.5_r tpr_0.5_r  tnr_0.5_r fpr_0.5_r \n",
       "1 0.46000000 0.6562738 ⋯ 1318 0.5691512 0.23030907 0.8270106 0.17298938\n",
       "2 0.87500000 0.6000000 ⋯   13 0.6562500 1.00000000 0.1538462 0.84615385\n",
       "3 0.06451613 0.9696970 ⋯  134 0.8060606 0.03225806 0.9850746 0.01492537\n",
       "4 0.70886076 0.4368932 ⋯  106 0.4789474 0.25000000 0.6603774 0.33962264\n",
       "5 1.00000000 1.0000000 ⋯   49 1.0000000 1.00000000 1.0000000 0.00000000\n",
       "6 1.00000000 0.0000000 ⋯    6 0.5333333 0.77777778 0.1666667 0.83333333\n",
       "  fnr_0.5_r auc_r     aucpr_r   aucpr_srrat acc_srrat\n",
       "1 0.7696909 0.5654244 0.4847203 1.0043963   1.0041097\n",
       "2 0.0000000 0.6923077 0.8021654 0.8717474   1.1721612\n",
       "3 0.9677419 0.7087145 0.3286169 1.0619508   0.9894368\n",
       "4 0.7500000 0.4977538 0.4620861 1.0168691   1.1586765\n",
       "5 0.0000000 1.0000000 1.0000000 1.0000000   1.0000000\n",
       "6 0.2222222 0.3888889 0.5754147 1.2661675   1.0937500"
      ]
     },
     "metadata": {},
     "output_type": "display_data"
    }
   ],
   "source": [
    "joint_pred_df <- read.csv(\"../../data/joint_pred_df.csv\")\n",
    "head(joint_pred_df)"
   ]
  },
  {
   "cell_type": "code",
   "execution_count": 5,
   "metadata": {},
   "outputs": [
    {
     "data": {
      "text/html": [
       "<table>\n",
       "<caption>A data.frame: 155 × 6</caption>\n",
       "<thead>\n",
       "\t<tr><th scope=col>reg</th><th scope=col>obs_count_s</th><th scope=col>na_count_s</th><th scope=col>acc_0.5_s</th><th scope=col>acc_0.5_r</th><th scope=col>acc_srrat</th></tr>\n",
       "\t<tr><th scope=col>&lt;fct&gt;</th><th scope=col>&lt;int&gt;</th><th scope=col>&lt;int&gt;</th><th scope=col>&lt;dbl&gt;</th><th scope=col>&lt;dbl&gt;</th><th scope=col>&lt;dbl&gt;</th></tr>\n",
       "</thead>\n",
       "<tbody>\n",
       "\t<tr><td>namecheap                </td><td>55117</td><td>  0</td><td>0.9392746</td><td>0.9386578</td><td>1.0006572</td></tr>\n",
       "\t<tr><td>gmo                      </td><td>31494</td><td>  8</td><td>0.9569015</td><td>0.9577380</td><td>0.9991266</td></tr>\n",
       "\t<tr><td>alibaba                  </td><td>30567</td><td>  1</td><td>0.9654191</td><td>0.9656492</td><td>0.9997617</td></tr>\n",
       "\t<tr><td>go daddy                 </td><td>27537</td><td>  0</td><td>0.8560482</td><td>0.8553946</td><td>1.0007642</td></tr>\n",
       "\t<tr><td>pdr ltd                  </td><td>16402</td><td>473</td><td>0.8698600</td><td>0.8735520</td><td>0.9957736</td></tr>\n",
       "\t<tr><td>reg.ru                   </td><td>15373</td><td>  1</td><td>0.9514702</td><td>0.9514083</td><td>1.0000651</td></tr>\n",
       "\t<tr><td>chengdu west             </td><td>14040</td><td>  1</td><td>0.9749270</td><td>0.9745726</td><td>1.0003636</td></tr>\n",
       "\t<tr><td>gandi sas                </td><td>11686</td><td>  2</td><td>0.9649093</td><td>0.9655143</td><td>0.9993734</td></tr>\n",
       "\t<tr><td>hostinger                </td><td>11140</td><td>  0</td><td>0.9300718</td><td>0.9300718</td><td>1.0000000</td></tr>\n",
       "\t<tr><td>zhengzhou century connect</td><td> 7043</td><td> 24</td><td>0.9978629</td><td>0.9998580</td><td>0.9980046</td></tr>\n",
       "\t<tr><td>uniregistrar             </td><td> 6992</td><td>  0</td><td>0.9829805</td><td>0.9831236</td><td>0.9998545</td></tr>\n",
       "\t<tr><td>onlinenic                </td><td> 6429</td><td>  0</td><td>0.9959558</td><td>0.9984445</td><td>0.9975074</td></tr>\n",
       "\t<tr><td>tucows                   </td><td> 5727</td><td> 42</td><td>0.7405453</td><td>0.6949537</td><td>1.0656037</td></tr>\n",
       "\t<tr><td>fbs                      </td><td> 5675</td><td> 17</td><td>0.9807352</td><td>0.9806167</td><td>1.0001208</td></tr>\n",
       "\t<tr><td>dynadot                  </td><td> 4481</td><td>  2</td><td>0.9689663</td><td>0.9703191</td><td>0.9986058</td></tr>\n",
       "\t<tr><td>network solutions        </td><td> 4222</td><td>  3</td><td>0.7072766</td><td>0.7051161</td><td>1.0030641</td></tr>\n",
       "\t<tr><td>url solutions            </td><td> 3967</td><td>  0</td><td>0.9609277</td><td>0.9616839</td><td>0.9992136</td></tr>\n",
       "\t<tr><td>enom                     </td><td> 3348</td><td> 18</td><td>0.7417417</td><td>0.7359618</td><td>1.0078536</td></tr>\n",
       "\t<tr><td><span style=white-space:pre-wrap>1&amp;1 internet             </span></td><td> 2321</td><td><span style=white-space:pre-wrap>  6</span></td><td>0.5714903</td><td>0.5691512</td><td>1.0041097</td></tr>\n",
       "\t<tr><td>ovh                      </td><td> 2177</td><td>  2</td><td>0.6565517</td><td>0.6022049</td><td>1.0902465</td></tr>\n",
       "\t<tr><td>realtime register        </td><td> 1772</td><td>  6</td><td>0.7689694</td><td>0.7550790</td><td>1.0183960</td></tr>\n",
       "\t<tr><td>key-systems              </td><td> 1591</td><td> 17</td><td>0.7808132</td><td>0.7498429</td><td>1.0413025</td></tr>\n",
       "\t<tr><td>namesilo                 </td><td> 1501</td><td>  2</td><td>0.8545697</td><td>0.7774817</td><td>1.0991509</td></tr>\n",
       "\t<tr><td>beget                    </td><td> 1373</td><td>  2</td><td>0.9175784</td><td>0.9206118</td><td>0.9967050</td></tr>\n",
       "\t<tr><td>dotserve inc             </td><td> 1350</td><td>  0</td><td>0.8555556</td><td>0.8333333</td><td>1.0266667</td></tr>\n",
       "\t<tr><td>west263 international    </td><td> 1348</td><td>  0</td><td>0.8672107</td><td>0.8679525</td><td>0.9991453</td></tr>\n",
       "\t<tr><td>hosting ukraine          </td><td> 1309</td><td>  0</td><td>0.9411765</td><td>0.9442322</td><td>0.9967638</td></tr>\n",
       "\t<tr><td>domain.com - registrar   </td><td> 1303</td><td>  2</td><td>0.5995388</td><td>0.6116654</td><td>0.9801745</td></tr>\n",
       "\t<tr><td>ru-center                </td><td> 1196</td><td>  5</td><td>0.8463476</td><td>0.8536789</td><td>0.9914121</td></tr>\n",
       "\t<tr><td>hosting concepts         </td><td> 1093</td><td> 11</td><td>0.7939002</td><td>0.7904849</td><td>1.0043205</td></tr>\n",
       "\t<tr><td>⋮</td><td>⋮</td><td>⋮</td><td>⋮</td><td>⋮</td><td>⋮</td></tr>\n",
       "\t<tr><td>safenames ltd             </td><td>3</td><td>3</td><td>1e-06</td><td>0.0000010</td><td>1e+00</td></tr>\n",
       "\t<tr><td>server plan               </td><td>3</td><td>1</td><td>1e-06</td><td>0.3333333</td><td>3e-06</td></tr>\n",
       "\t<tr><td>tecnocratica centro       </td><td>3</td><td>1</td><td>1e+00</td><td>0.3333333</td><td>3e+00</td></tr>\n",
       "\t<tr><td>beijing guoxu             </td><td>2</td><td>2</td><td>1e-06</td><td>1.0000000</td><td>1e-06</td></tr>\n",
       "\t<tr><td>dnc holdings              </td><td>2</td><td>1</td><td>1e-06</td><td>0.5000000</td><td>2e-06</td></tr>\n",
       "\t<tr><td>domain the net            </td><td>2</td><td>2</td><td>1e-06</td><td>0.5000000</td><td>2e-06</td></tr>\n",
       "\t<tr><td>ename tech                </td><td>2</td><td>2</td><td>1e-06</td><td>0.0000010</td><td>1e+00</td></tr>\n",
       "\t<tr><td>entorno digital           </td><td>2</td><td>2</td><td>1e-06</td><td>1.0000000</td><td>1e-06</td></tr>\n",
       "\t<tr><td>inames                    </td><td>2</td><td>2</td><td>1e-06</td><td>0.0000010</td><td>1e+00</td></tr>\n",
       "\t<tr><td>innovadeus                </td><td>2</td><td>2</td><td>1e-06</td><td>1.0000000</td><td>1e-06</td></tr>\n",
       "\t<tr><td>mailclub                  </td><td>2</td><td>2</td><td>1e-06</td><td>0.5000000</td><td>2e-06</td></tr>\n",
       "\t<tr><td>nameweb                   </td><td>2</td><td>1</td><td>1e+00</td><td>1.0000000</td><td>1e+00</td></tr>\n",
       "\t<tr><td>ownregistrar              </td><td>2</td><td>1</td><td>1e+00</td><td>0.5000000</td><td>2e+00</td></tr>\n",
       "\t<tr><td>regtime ltd               </td><td>2</td><td>0</td><td>5e-01</td><td>0.0000010</td><td>5e+05</td></tr>\n",
       "\t<tr><td>sibername                 </td><td>2</td><td>1</td><td>1e+00</td><td>0.5000000</td><td>2e+00</td></tr>\n",
       "\t<tr><td>the registrar company b.v.</td><td>2</td><td>1</td><td>1e+00</td><td>1.0000000</td><td>1e+00</td></tr>\n",
       "\t<tr><td>boltn                     </td><td>1</td><td>1</td><td>1e-06</td><td>1.0000000</td><td>1e-06</td></tr>\n",
       "\t<tr><td>brandsight                </td><td>1</td><td>1</td><td>1e-06</td><td>1.0000000</td><td>1e-06</td></tr>\n",
       "\t<tr><td>cci reg s.a.              </td><td>1</td><td>1</td><td>1e-06</td><td>1.0000000</td><td>1e-06</td></tr>\n",
       "\t<tr><td>domain-it                 </td><td>1</td><td>1</td><td>1e-06</td><td>1.0000000</td><td>1e-06</td></tr>\n",
       "\t<tr><td>eims                      </td><td>1</td><td>0</td><td>1e+00</td><td>1.0000000</td><td>1e+00</td></tr>\n",
       "\t<tr><td>eu technology             </td><td>1</td><td>1</td><td>1e-06</td><td>1.0000000</td><td>1e-06</td></tr>\n",
       "\t<tr><td>french connexion          </td><td>1</td><td>1</td><td>1e-06</td><td>1.0000000</td><td>1e-06</td></tr>\n",
       "\t<tr><td>global village            </td><td>1</td><td>1</td><td>1e-06</td><td>1.0000000</td><td>1e-06</td></tr>\n",
       "\t<tr><td>jiangsu bangning          </td><td>1</td><td>1</td><td>1e-06</td><td>1.0000000</td><td>1e-06</td></tr>\n",
       "\t<tr><td>net4 india                </td><td>1</td><td>0</td><td>1e-06</td><td>0.0000010</td><td>1e+00</td></tr>\n",
       "\t<tr><td>ownregistrar, inc.        </td><td>1</td><td>0</td><td>1e+00</td><td>1.0000000</td><td>1e+00</td></tr>\n",
       "\t<tr><td>virtua drug               </td><td>1</td><td>1</td><td>1e-06</td><td>0.0000010</td><td>1e+00</td></tr>\n",
       "\t<tr><td>web werks                 </td><td>1</td><td>1</td><td>1e-06</td><td>0.0000010</td><td>1e+00</td></tr>\n",
       "\t<tr><td>whois networks            </td><td>1</td><td>0</td><td>1e+00</td><td>1.0000000</td><td>1e+00</td></tr>\n",
       "</tbody>\n",
       "</table>\n"
      ],
      "text/latex": [
       "A data.frame: 155 × 6\n",
       "\\begin{tabular}{llllll}\n",
       " reg & obs\\_count\\_s & na\\_count\\_s & acc\\_0.5\\_s & acc\\_0.5\\_r & acc\\_srrat\\\\\n",
       " <fct> & <int> & <int> & <dbl> & <dbl> & <dbl>\\\\\n",
       "\\hline\n",
       "\t namecheap                 & 55117 &   0 & 0.9392746 & 0.9386578 & 1.0006572\\\\\n",
       "\t gmo                       & 31494 &   8 & 0.9569015 & 0.9577380 & 0.9991266\\\\\n",
       "\t alibaba                   & 30567 &   1 & 0.9654191 & 0.9656492 & 0.9997617\\\\\n",
       "\t go daddy                  & 27537 &   0 & 0.8560482 & 0.8553946 & 1.0007642\\\\\n",
       "\t pdr ltd                   & 16402 & 473 & 0.8698600 & 0.8735520 & 0.9957736\\\\\n",
       "\t reg.ru                    & 15373 &   1 & 0.9514702 & 0.9514083 & 1.0000651\\\\\n",
       "\t chengdu west              & 14040 &   1 & 0.9749270 & 0.9745726 & 1.0003636\\\\\n",
       "\t gandi sas                 & 11686 &   2 & 0.9649093 & 0.9655143 & 0.9993734\\\\\n",
       "\t hostinger                 & 11140 &   0 & 0.9300718 & 0.9300718 & 1.0000000\\\\\n",
       "\t zhengzhou century connect &  7043 &  24 & 0.9978629 & 0.9998580 & 0.9980046\\\\\n",
       "\t uniregistrar              &  6992 &   0 & 0.9829805 & 0.9831236 & 0.9998545\\\\\n",
       "\t onlinenic                 &  6429 &   0 & 0.9959558 & 0.9984445 & 0.9975074\\\\\n",
       "\t tucows                    &  5727 &  42 & 0.7405453 & 0.6949537 & 1.0656037\\\\\n",
       "\t fbs                       &  5675 &  17 & 0.9807352 & 0.9806167 & 1.0001208\\\\\n",
       "\t dynadot                   &  4481 &   2 & 0.9689663 & 0.9703191 & 0.9986058\\\\\n",
       "\t network solutions         &  4222 &   3 & 0.7072766 & 0.7051161 & 1.0030641\\\\\n",
       "\t url solutions             &  3967 &   0 & 0.9609277 & 0.9616839 & 0.9992136\\\\\n",
       "\t enom                      &  3348 &  18 & 0.7417417 & 0.7359618 & 1.0078536\\\\\n",
       "\t 1\\&1 internet              &  2321 &   6 & 0.5714903 & 0.5691512 & 1.0041097\\\\\n",
       "\t ovh                       &  2177 &   2 & 0.6565517 & 0.6022049 & 1.0902465\\\\\n",
       "\t realtime register         &  1772 &   6 & 0.7689694 & 0.7550790 & 1.0183960\\\\\n",
       "\t key-systems               &  1591 &  17 & 0.7808132 & 0.7498429 & 1.0413025\\\\\n",
       "\t namesilo                  &  1501 &   2 & 0.8545697 & 0.7774817 & 1.0991509\\\\\n",
       "\t beget                     &  1373 &   2 & 0.9175784 & 0.9206118 & 0.9967050\\\\\n",
       "\t dotserve inc              &  1350 &   0 & 0.8555556 & 0.8333333 & 1.0266667\\\\\n",
       "\t west263 international     &  1348 &   0 & 0.8672107 & 0.8679525 & 0.9991453\\\\\n",
       "\t hosting ukraine           &  1309 &   0 & 0.9411765 & 0.9442322 & 0.9967638\\\\\n",
       "\t domain.com - registrar    &  1303 &   2 & 0.5995388 & 0.6116654 & 0.9801745\\\\\n",
       "\t ru-center                 &  1196 &   5 & 0.8463476 & 0.8536789 & 0.9914121\\\\\n",
       "\t hosting concepts          &  1093 &  11 & 0.7939002 & 0.7904849 & 1.0043205\\\\\n",
       "\t ⋮ & ⋮ & ⋮ & ⋮ & ⋮ & ⋮\\\\\n",
       "\t safenames ltd              & 3 & 3 & 1e-06 & 0.0000010 & 1e+00\\\\\n",
       "\t server plan                & 3 & 1 & 1e-06 & 0.3333333 & 3e-06\\\\\n",
       "\t tecnocratica centro        & 3 & 1 & 1e+00 & 0.3333333 & 3e+00\\\\\n",
       "\t beijing guoxu              & 2 & 2 & 1e-06 & 1.0000000 & 1e-06\\\\\n",
       "\t dnc holdings               & 2 & 1 & 1e-06 & 0.5000000 & 2e-06\\\\\n",
       "\t domain the net             & 2 & 2 & 1e-06 & 0.5000000 & 2e-06\\\\\n",
       "\t ename tech                 & 2 & 2 & 1e-06 & 0.0000010 & 1e+00\\\\\n",
       "\t entorno digital            & 2 & 2 & 1e-06 & 1.0000000 & 1e-06\\\\\n",
       "\t inames                     & 2 & 2 & 1e-06 & 0.0000010 & 1e+00\\\\\n",
       "\t innovadeus                 & 2 & 2 & 1e-06 & 1.0000000 & 1e-06\\\\\n",
       "\t mailclub                   & 2 & 2 & 1e-06 & 0.5000000 & 2e-06\\\\\n",
       "\t nameweb                    & 2 & 1 & 1e+00 & 1.0000000 & 1e+00\\\\\n",
       "\t ownregistrar               & 2 & 1 & 1e+00 & 0.5000000 & 2e+00\\\\\n",
       "\t regtime ltd                & 2 & 0 & 5e-01 & 0.0000010 & 5e+05\\\\\n",
       "\t sibername                  & 2 & 1 & 1e+00 & 0.5000000 & 2e+00\\\\\n",
       "\t the registrar company b.v. & 2 & 1 & 1e+00 & 1.0000000 & 1e+00\\\\\n",
       "\t boltn                      & 1 & 1 & 1e-06 & 1.0000000 & 1e-06\\\\\n",
       "\t brandsight                 & 1 & 1 & 1e-06 & 1.0000000 & 1e-06\\\\\n",
       "\t cci reg s.a.               & 1 & 1 & 1e-06 & 1.0000000 & 1e-06\\\\\n",
       "\t domain-it                  & 1 & 1 & 1e-06 & 1.0000000 & 1e-06\\\\\n",
       "\t eims                       & 1 & 0 & 1e+00 & 1.0000000 & 1e+00\\\\\n",
       "\t eu technology              & 1 & 1 & 1e-06 & 1.0000000 & 1e-06\\\\\n",
       "\t french connexion           & 1 & 1 & 1e-06 & 1.0000000 & 1e-06\\\\\n",
       "\t global village             & 1 & 1 & 1e-06 & 1.0000000 & 1e-06\\\\\n",
       "\t jiangsu bangning           & 1 & 1 & 1e-06 & 1.0000000 & 1e-06\\\\\n",
       "\t net4 india                 & 1 & 0 & 1e-06 & 0.0000010 & 1e+00\\\\\n",
       "\t ownregistrar, inc.         & 1 & 0 & 1e+00 & 1.0000000 & 1e+00\\\\\n",
       "\t virtua drug                & 1 & 1 & 1e-06 & 0.0000010 & 1e+00\\\\\n",
       "\t web werks                  & 1 & 1 & 1e-06 & 0.0000010 & 1e+00\\\\\n",
       "\t whois networks             & 1 & 0 & 1e+00 & 1.0000000 & 1e+00\\\\\n",
       "\\end{tabular}\n"
      ],
      "text/markdown": [
       "\n",
       "A data.frame: 155 × 6\n",
       "\n",
       "| reg &lt;fct&gt; | obs_count_s &lt;int&gt; | na_count_s &lt;int&gt; | acc_0.5_s &lt;dbl&gt; | acc_0.5_r &lt;dbl&gt; | acc_srrat &lt;dbl&gt; |\n",
       "|---|---|---|---|---|---|\n",
       "| namecheap                 | 55117 |   0 | 0.9392746 | 0.9386578 | 1.0006572 |\n",
       "| gmo                       | 31494 |   8 | 0.9569015 | 0.9577380 | 0.9991266 |\n",
       "| alibaba                   | 30567 |   1 | 0.9654191 | 0.9656492 | 0.9997617 |\n",
       "| go daddy                  | 27537 |   0 | 0.8560482 | 0.8553946 | 1.0007642 |\n",
       "| pdr ltd                   | 16402 | 473 | 0.8698600 | 0.8735520 | 0.9957736 |\n",
       "| reg.ru                    | 15373 |   1 | 0.9514702 | 0.9514083 | 1.0000651 |\n",
       "| chengdu west              | 14040 |   1 | 0.9749270 | 0.9745726 | 1.0003636 |\n",
       "| gandi sas                 | 11686 |   2 | 0.9649093 | 0.9655143 | 0.9993734 |\n",
       "| hostinger                 | 11140 |   0 | 0.9300718 | 0.9300718 | 1.0000000 |\n",
       "| zhengzhou century connect |  7043 |  24 | 0.9978629 | 0.9998580 | 0.9980046 |\n",
       "| uniregistrar              |  6992 |   0 | 0.9829805 | 0.9831236 | 0.9998545 |\n",
       "| onlinenic                 |  6429 |   0 | 0.9959558 | 0.9984445 | 0.9975074 |\n",
       "| tucows                    |  5727 |  42 | 0.7405453 | 0.6949537 | 1.0656037 |\n",
       "| fbs                       |  5675 |  17 | 0.9807352 | 0.9806167 | 1.0001208 |\n",
       "| dynadot                   |  4481 |   2 | 0.9689663 | 0.9703191 | 0.9986058 |\n",
       "| network solutions         |  4222 |   3 | 0.7072766 | 0.7051161 | 1.0030641 |\n",
       "| url solutions             |  3967 |   0 | 0.9609277 | 0.9616839 | 0.9992136 |\n",
       "| enom                      |  3348 |  18 | 0.7417417 | 0.7359618 | 1.0078536 |\n",
       "| 1&amp;1 internet              |  2321 |   6 | 0.5714903 | 0.5691512 | 1.0041097 |\n",
       "| ovh                       |  2177 |   2 | 0.6565517 | 0.6022049 | 1.0902465 |\n",
       "| realtime register         |  1772 |   6 | 0.7689694 | 0.7550790 | 1.0183960 |\n",
       "| key-systems               |  1591 |  17 | 0.7808132 | 0.7498429 | 1.0413025 |\n",
       "| namesilo                  |  1501 |   2 | 0.8545697 | 0.7774817 | 1.0991509 |\n",
       "| beget                     |  1373 |   2 | 0.9175784 | 0.9206118 | 0.9967050 |\n",
       "| dotserve inc              |  1350 |   0 | 0.8555556 | 0.8333333 | 1.0266667 |\n",
       "| west263 international     |  1348 |   0 | 0.8672107 | 0.8679525 | 0.9991453 |\n",
       "| hosting ukraine           |  1309 |   0 | 0.9411765 | 0.9442322 | 0.9967638 |\n",
       "| domain.com - registrar    |  1303 |   2 | 0.5995388 | 0.6116654 | 0.9801745 |\n",
       "| ru-center                 |  1196 |   5 | 0.8463476 | 0.8536789 | 0.9914121 |\n",
       "| hosting concepts          |  1093 |  11 | 0.7939002 | 0.7904849 | 1.0043205 |\n",
       "| ⋮ | ⋮ | ⋮ | ⋮ | ⋮ | ⋮ |\n",
       "| safenames ltd              | 3 | 3 | 1e-06 | 0.0000010 | 1e+00 |\n",
       "| server plan                | 3 | 1 | 1e-06 | 0.3333333 | 3e-06 |\n",
       "| tecnocratica centro        | 3 | 1 | 1e+00 | 0.3333333 | 3e+00 |\n",
       "| beijing guoxu              | 2 | 2 | 1e-06 | 1.0000000 | 1e-06 |\n",
       "| dnc holdings               | 2 | 1 | 1e-06 | 0.5000000 | 2e-06 |\n",
       "| domain the net             | 2 | 2 | 1e-06 | 0.5000000 | 2e-06 |\n",
       "| ename tech                 | 2 | 2 | 1e-06 | 0.0000010 | 1e+00 |\n",
       "| entorno digital            | 2 | 2 | 1e-06 | 1.0000000 | 1e-06 |\n",
       "| inames                     | 2 | 2 | 1e-06 | 0.0000010 | 1e+00 |\n",
       "| innovadeus                 | 2 | 2 | 1e-06 | 1.0000000 | 1e-06 |\n",
       "| mailclub                   | 2 | 2 | 1e-06 | 0.5000000 | 2e-06 |\n",
       "| nameweb                    | 2 | 1 | 1e+00 | 1.0000000 | 1e+00 |\n",
       "| ownregistrar               | 2 | 1 | 1e+00 | 0.5000000 | 2e+00 |\n",
       "| regtime ltd                | 2 | 0 | 5e-01 | 0.0000010 | 5e+05 |\n",
       "| sibername                  | 2 | 1 | 1e+00 | 0.5000000 | 2e+00 |\n",
       "| the registrar company b.v. | 2 | 1 | 1e+00 | 1.0000000 | 1e+00 |\n",
       "| boltn                      | 1 | 1 | 1e-06 | 1.0000000 | 1e-06 |\n",
       "| brandsight                 | 1 | 1 | 1e-06 | 1.0000000 | 1e-06 |\n",
       "| cci reg s.a.               | 1 | 1 | 1e-06 | 1.0000000 | 1e-06 |\n",
       "| domain-it                  | 1 | 1 | 1e-06 | 1.0000000 | 1e-06 |\n",
       "| eims                       | 1 | 0 | 1e+00 | 1.0000000 | 1e+00 |\n",
       "| eu technology              | 1 | 1 | 1e-06 | 1.0000000 | 1e-06 |\n",
       "| french connexion           | 1 | 1 | 1e-06 | 1.0000000 | 1e-06 |\n",
       "| global village             | 1 | 1 | 1e-06 | 1.0000000 | 1e-06 |\n",
       "| jiangsu bangning           | 1 | 1 | 1e-06 | 1.0000000 | 1e-06 |\n",
       "| net4 india                 | 1 | 0 | 1e-06 | 0.0000010 | 1e+00 |\n",
       "| ownregistrar, inc.         | 1 | 0 | 1e+00 | 1.0000000 | 1e+00 |\n",
       "| virtua drug                | 1 | 1 | 1e-06 | 0.0000010 | 1e+00 |\n",
       "| web werks                  | 1 | 1 | 1e-06 | 0.0000010 | 1e+00 |\n",
       "| whois networks             | 1 | 0 | 1e+00 | 1.0000000 | 1e+00 |\n",
       "\n"
      ],
      "text/plain": [
       "    reg                        obs_count_s na_count_s acc_0.5_s acc_0.5_r\n",
       "1   namecheap                  55117         0        0.9392746 0.9386578\n",
       "2   gmo                        31494         8        0.9569015 0.9577380\n",
       "3   alibaba                    30567         1        0.9654191 0.9656492\n",
       "4   go daddy                   27537         0        0.8560482 0.8553946\n",
       "5   pdr ltd                    16402       473        0.8698600 0.8735520\n",
       "6   reg.ru                     15373         1        0.9514702 0.9514083\n",
       "7   chengdu west               14040         1        0.9749270 0.9745726\n",
       "8   gandi sas                  11686         2        0.9649093 0.9655143\n",
       "9   hostinger                  11140         0        0.9300718 0.9300718\n",
       "10  zhengzhou century connect   7043        24        0.9978629 0.9998580\n",
       "11  uniregistrar                6992         0        0.9829805 0.9831236\n",
       "12  onlinenic                   6429         0        0.9959558 0.9984445\n",
       "13  tucows                      5727        42        0.7405453 0.6949537\n",
       "14  fbs                         5675        17        0.9807352 0.9806167\n",
       "15  dynadot                     4481         2        0.9689663 0.9703191\n",
       "16  network solutions           4222         3        0.7072766 0.7051161\n",
       "17  url solutions               3967         0        0.9609277 0.9616839\n",
       "18  enom                        3348        18        0.7417417 0.7359618\n",
       "19  1&1 internet                2321         6        0.5714903 0.5691512\n",
       "20  ovh                         2177         2        0.6565517 0.6022049\n",
       "21  realtime register           1772         6        0.7689694 0.7550790\n",
       "22  key-systems                 1591        17        0.7808132 0.7498429\n",
       "23  namesilo                    1501         2        0.8545697 0.7774817\n",
       "24  beget                       1373         2        0.9175784 0.9206118\n",
       "25  dotserve inc                1350         0        0.8555556 0.8333333\n",
       "26  west263 international       1348         0        0.8672107 0.8679525\n",
       "27  hosting ukraine             1309         0        0.9411765 0.9442322\n",
       "28  domain.com - registrar      1303         2        0.5995388 0.6116654\n",
       "29  ru-center                   1196         5        0.8463476 0.8536789\n",
       "30  hosting concepts            1093        11        0.7939002 0.7904849\n",
       "⋮   ⋮                          ⋮           ⋮          ⋮         ⋮        \n",
       "126 safenames ltd              3           3          1e-06     0.0000010\n",
       "127 server plan                3           1          1e-06     0.3333333\n",
       "128 tecnocratica centro        3           1          1e+00     0.3333333\n",
       "129 beijing guoxu              2           2          1e-06     1.0000000\n",
       "130 dnc holdings               2           1          1e-06     0.5000000\n",
       "131 domain the net             2           2          1e-06     0.5000000\n",
       "132 ename tech                 2           2          1e-06     0.0000010\n",
       "133 entorno digital            2           2          1e-06     1.0000000\n",
       "134 inames                     2           2          1e-06     0.0000010\n",
       "135 innovadeus                 2           2          1e-06     1.0000000\n",
       "136 mailclub                   2           2          1e-06     0.5000000\n",
       "137 nameweb                    2           1          1e+00     1.0000000\n",
       "138 ownregistrar               2           1          1e+00     0.5000000\n",
       "139 regtime ltd                2           0          5e-01     0.0000010\n",
       "140 sibername                  2           1          1e+00     0.5000000\n",
       "141 the registrar company b.v. 2           1          1e+00     1.0000000\n",
       "142 boltn                      1           1          1e-06     1.0000000\n",
       "143 brandsight                 1           1          1e-06     1.0000000\n",
       "144 cci reg s.a.               1           1          1e-06     1.0000000\n",
       "145 domain-it                  1           1          1e-06     1.0000000\n",
       "146 eims                       1           0          1e+00     1.0000000\n",
       "147 eu technology              1           1          1e-06     1.0000000\n",
       "148 french connexion           1           1          1e-06     1.0000000\n",
       "149 global village             1           1          1e-06     1.0000000\n",
       "150 jiangsu bangning           1           1          1e-06     1.0000000\n",
       "151 net4 india                 1           0          1e-06     0.0000010\n",
       "152 ownregistrar, inc.         1           0          1e+00     1.0000000\n",
       "153 virtua drug                1           1          1e-06     0.0000010\n",
       "154 web werks                  1           1          1e-06     0.0000010\n",
       "155 whois networks             1           0          1e+00     1.0000000\n",
       "    acc_srrat\n",
       "1   1.0006572\n",
       "2   0.9991266\n",
       "3   0.9997617\n",
       "4   1.0007642\n",
       "5   0.9957736\n",
       "6   1.0000651\n",
       "7   1.0003636\n",
       "8   0.9993734\n",
       "9   1.0000000\n",
       "10  0.9980046\n",
       "11  0.9998545\n",
       "12  0.9975074\n",
       "13  1.0656037\n",
       "14  1.0001208\n",
       "15  0.9986058\n",
       "16  1.0030641\n",
       "17  0.9992136\n",
       "18  1.0078536\n",
       "19  1.0041097\n",
       "20  1.0902465\n",
       "21  1.0183960\n",
       "22  1.0413025\n",
       "23  1.0991509\n",
       "24  0.9967050\n",
       "25  1.0266667\n",
       "26  0.9991453\n",
       "27  0.9967638\n",
       "28  0.9801745\n",
       "29  0.9914121\n",
       "30  1.0043205\n",
       "⋮   ⋮        \n",
       "126 1e+00    \n",
       "127 3e-06    \n",
       "128 3e+00    \n",
       "129 1e-06    \n",
       "130 2e-06    \n",
       "131 2e-06    \n",
       "132 1e+00    \n",
       "133 1e-06    \n",
       "134 1e+00    \n",
       "135 1e-06    \n",
       "136 2e-06    \n",
       "137 1e+00    \n",
       "138 2e+00    \n",
       "139 5e+05    \n",
       "140 2e+00    \n",
       "141 1e+00    \n",
       "142 1e-06    \n",
       "143 1e-06    \n",
       "144 1e-06    \n",
       "145 1e-06    \n",
       "146 1e+00    \n",
       "147 1e-06    \n",
       "148 1e-06    \n",
       "149 1e-06    \n",
       "150 1e-06    \n",
       "151 1e+00    \n",
       "152 1e+00    \n",
       "153 1e+00    \n",
       "154 1e+00    \n",
       "155 1e+00    "
      ]
     },
     "metadata": {},
     "output_type": "display_data"
    }
   ],
   "source": [
    "# by accuracy\n",
    "joint_pred_df[c(\"reg\",\"obs_count_s\",\"na_count_s\",\"acc_0.5_s\",\"acc_0.5_r\",\"acc_srrat\")] %>% arrange(desc(obs_count_s))"
   ]
  },
  {
   "cell_type": "code",
   "execution_count": 9,
   "metadata": {},
   "outputs": [
    {
     "data": {
      "text/html": [
       "<table>\n",
       "<caption>A data.frame: 155 × 8</caption>\n",
       "<thead>\n",
       "\t<tr><th scope=col>reg</th><th scope=col>obs_count_s</th><th scope=col>na_count_s</th><th scope=col>tpr_0.5_s</th><th scope=col>tpr_0.5_r</th><th scope=col>aucpr_s</th><th scope=col>aucpr_r</th><th scope=col>aucpr_srrat</th></tr>\n",
       "\t<tr><th scope=col>&lt;fct&gt;</th><th scope=col>&lt;int&gt;</th><th scope=col>&lt;int&gt;</th><th scope=col>&lt;dbl&gt;</th><th scope=col>&lt;dbl&gt;</th><th scope=col>&lt;dbl&gt;</th><th scope=col>&lt;dbl&gt;</th><th scope=col>&lt;dbl&gt;</th></tr>\n",
       "</thead>\n",
       "<tbody>\n",
       "\t<tr><td>namecheap                </td><td>55117</td><td>  0</td><td>0.006009615</td><td>0.063401442</td><td>0.20315002</td><td>0.18892813</td><td>1.0752767</td></tr>\n",
       "\t<tr><td>gmo                      </td><td>31494</td><td>  8</td><td>0.141703377</td><td>0.030036630</td><td>0.38607414</td><td>0.11609370</td><td>3.3255390</td></tr>\n",
       "\t<tr><td>alibaba                  </td><td>30567</td><td>  1</td><td>0.001913876</td><td>0.003827751</td><td>0.16570439</td><td>0.17257293</td><td>0.9601992</td></tr>\n",
       "\t<tr><td>go daddy                 </td><td>27537</td><td>  0</td><td>0.095415118</td><td>0.065923172</td><td>0.35813266</td><td>0.33671268</td><td>1.0636150</td></tr>\n",
       "\t<tr><td>pdr ltd                  </td><td>16402</td><td>473</td><td>0.153734940</td><td>0.017274472</td><td>0.40277116</td><td>0.27120713</td><td>1.4851053</td></tr>\n",
       "\t<tr><td>reg.ru                   </td><td>15373</td><td>  1</td><td>0.001340483</td><td>0.000000000</td><td>0.18745978</td><td>0.14659013</td><td>1.2788022</td></tr>\n",
       "\t<tr><td>chengdu west             </td><td>14040</td><td>  1</td><td>0.022471910</td><td>0.011204482</td><td>0.27039679</td><td>0.22024362</td><td>1.2277168</td></tr>\n",
       "\t<tr><td>gandi sas                </td><td>11686</td><td>  2</td><td>0.060975610</td><td>0.051094891</td><td>0.33287310</td><td>0.34864064</td><td>0.9547742</td></tr>\n",
       "\t<tr><td>hostinger                </td><td>11140</td><td>  0</td><td>0.000000000</td><td>0.000000000</td><td>0.10372553</td><td>0.08330299</td><td>1.2451598</td></tr>\n",
       "\t<tr><td>zhengzhou century connect</td><td> 7043</td><td> 24</td><td>0.000000000</td><td>0.000000000</td><td>0.50007124</td><td>0.60000000</td><td>0.8334521</td></tr>\n",
       "\t<tr><td>uniregistrar             </td><td> 6992</td><td>  0</td><td>0.008474576</td><td>0.000000000</td><td>0.15959594</td><td>0.14783289</td><td>1.0795699</td></tr>\n",
       "\t<tr><td>onlinenic                </td><td> 6429</td><td>  0</td><td>0.200000000</td><td>0.000000000</td><td>0.18069888</td><td>0.37017927</td><td>0.4881388</td></tr>\n",
       "\t<tr><td>tucows                   </td><td> 5727</td><td> 42</td><td>0.465063001</td><td>0.035087719</td><td>0.56048343</td><td>0.43791860</td><td>1.2798804</td></tr>\n",
       "\t<tr><td>fbs                      </td><td> 5675</td><td> 17</td><td>0.000000000</td><td>0.000000000</td><td>0.04622738</td><td>0.05204469</td><td>0.8882247</td></tr>\n",
       "\t<tr><td>dynadot                  </td><td> 4481</td><td>  2</td><td>0.030075188</td><td>0.007518797</td><td>0.16685401</td><td>0.11373646</td><td>1.4670231</td></tr>\n",
       "\t<tr><td>network solutions        </td><td> 4222</td><td>  3</td><td>0.120745543</td><td>0.042949757</td><td>0.42849446</td><td>0.40900598</td><td>1.0476484</td></tr>\n",
       "\t<tr><td>url solutions            </td><td> 3967</td><td>  0</td><td>0.006578947</td><td>0.000000000</td><td>0.06141869</td><td>0.06386818</td><td>0.9616479</td></tr>\n",
       "\t<tr><td>enom                     </td><td> 3348</td><td> 18</td><td>0.161469933</td><td>0.094609461</td><td>0.44946171</td><td>0.41852375</td><td>1.0739216</td></tr>\n",
       "\t<tr><td><span style=white-space:pre-wrap>1&amp;1 internet             </span></td><td> 2321</td><td><span style=white-space:pre-wrap>  6</span></td><td>0.460000000</td><td>0.230309073</td><td>0.48685126</td><td>0.48472030</td><td>1.0043963</td></tr>\n",
       "\t<tr><td>ovh                      </td><td> 2177</td><td>  2</td><td>0.540201005</td><td>0.378920954</td><td>0.54343301</td><td>0.45387909</td><td>1.1973079</td></tr>\n",
       "\t<tr><td>realtime register        </td><td> 1772</td><td>  6</td><td>0.233560091</td><td>0.038374718</td><td>0.41336796</td><td>0.42946833</td><td>0.9625109</td></tr>\n",
       "\t<tr><td>key-systems              </td><td> 1591</td><td> 17</td><td>0.492718447</td><td>0.127659574</td><td>0.55798024</td><td>0.57578799</td><td>0.9690724</td></tr>\n",
       "\t<tr><td>namesilo                 </td><td> 1501</td><td>  2</td><td>0.023255814</td><td>0.237209302</td><td>0.29825193</td><td>0.22113610</td><td>1.3487257</td></tr>\n",
       "\t<tr><td>beget                    </td><td> 1373</td><td>  2</td><td>0.000000000</td><td>0.000000000</td><td>0.24010601</td><td>0.20689792</td><td>1.1605047</td></tr>\n",
       "\t<tr><td>dotserve inc             </td><td> 1350</td><td>  0</td><td>0.146666667</td><td>0.000000000</td><td>0.55364041</td><td>0.28976421</td><td>1.9106584</td></tr>\n",
       "\t<tr><td>west263 international    </td><td> 1348</td><td>  0</td><td>0.011235955</td><td>0.000000000</td><td>0.25964169</td><td>0.25286265</td><td>1.0268092</td></tr>\n",
       "\t<tr><td>hosting ukraine          </td><td> 1309</td><td>  0</td><td>0.026666667</td><td>0.026666667</td><td>0.22228264</td><td>0.23312297</td><td>0.9534995</td></tr>\n",
       "\t<tr><td>domain.com - registrar   </td><td> 1303</td><td>  2</td><td>0.452830189</td><td>0.301886792</td><td>0.50266202</td><td>0.50812017</td><td>0.9892581</td></tr>\n",
       "\t<tr><td>ru-center                </td><td> 1196</td><td>  5</td><td>0.034482759</td><td>0.000000000</td><td>0.28536232</td><td>0.18659874</td><td>1.5292832</td></tr>\n",
       "\t<tr><td>hosting concepts         </td><td> 1093</td><td> 11</td><td>0.222689076</td><td>0.200819672</td><td>0.42513116</td><td>0.40390333</td><td>1.0525567</td></tr>\n",
       "\t<tr><td>⋮</td><td>⋮</td><td>⋮</td><td>⋮</td><td>⋮</td><td>⋮</td><td>⋮</td><td>⋮</td></tr>\n",
       "\t<tr><td>safenames ltd             </td><td>3</td><td>3</td><td> NA</td><td>0.0</td><td>  NA</td><td>  NA</td><td>      NA</td></tr>\n",
       "\t<tr><td>server plan               </td><td>3</td><td>1</td><td>0.0</td><td>0.0</td><td>0.75</td><td>1.00</td><td>0.750000</td></tr>\n",
       "\t<tr><td>tecnocratica centro       </td><td>3</td><td>1</td><td>1.0</td><td>0.0</td><td>1.00</td><td>0.75</td><td>1.333333</td></tr>\n",
       "\t<tr><td>beijing guoxu             </td><td>2</td><td>2</td><td> NA</td><td> NA</td><td>  NA</td><td>  NA</td><td>      NA</td></tr>\n",
       "\t<tr><td>dnc holdings              </td><td>2</td><td>1</td><td> NA</td><td>1.0</td><td>  NA</td><td>1.00</td><td>      NA</td></tr>\n",
       "\t<tr><td>domain the net            </td><td>2</td><td>2</td><td> NA</td><td>1.0</td><td>  NA</td><td>0.75</td><td>      NA</td></tr>\n",
       "\t<tr><td>ename tech                </td><td>2</td><td>2</td><td> NA</td><td>0.0</td><td>  NA</td><td>  NA</td><td>      NA</td></tr>\n",
       "\t<tr><td>entorno digital           </td><td>2</td><td>2</td><td> NA</td><td>1.0</td><td>  NA</td><td>  NA</td><td>      NA</td></tr>\n",
       "\t<tr><td>inames                    </td><td>2</td><td>2</td><td> NA</td><td>0.0</td><td>  NA</td><td>0.75</td><td>      NA</td></tr>\n",
       "\t<tr><td>innovadeus                </td><td>2</td><td>2</td><td> NA</td><td> NA</td><td>  NA</td><td>  NA</td><td>      NA</td></tr>\n",
       "\t<tr><td>mailclub                  </td><td>2</td><td>2</td><td> NA</td><td>0.5</td><td>  NA</td><td>  NA</td><td>      NA</td></tr>\n",
       "\t<tr><td>nameweb                   </td><td>2</td><td>1</td><td>1.0</td><td>1.0</td><td>  NA</td><td>  NA</td><td>      NA</td></tr>\n",
       "\t<tr><td>ownregistrar              </td><td>2</td><td>1</td><td> NA</td><td> NA</td><td>  NA</td><td>  NA</td><td>      NA</td></tr>\n",
       "\t<tr><td>regtime ltd               </td><td>2</td><td>0</td><td>0.5</td><td>0.0</td><td>  NA</td><td>  NA</td><td>      NA</td></tr>\n",
       "\t<tr><td>sibername                 </td><td>2</td><td>1</td><td> NA</td><td>0.0</td><td>  NA</td><td>1.00</td><td>      NA</td></tr>\n",
       "\t<tr><td>the registrar company b.v.</td><td>2</td><td>1</td><td>1.0</td><td>1.0</td><td>  NA</td><td>  NA</td><td>      NA</td></tr>\n",
       "\t<tr><td>boltn                     </td><td>1</td><td>1</td><td> NA</td><td>1.0</td><td>  NA</td><td>  NA</td><td>      NA</td></tr>\n",
       "\t<tr><td>brandsight                </td><td>1</td><td>1</td><td> NA</td><td>1.0</td><td>  NA</td><td>  NA</td><td>      NA</td></tr>\n",
       "\t<tr><td>cci reg s.a.              </td><td>1</td><td>1</td><td> NA</td><td>1.0</td><td>  NA</td><td>  NA</td><td>      NA</td></tr>\n",
       "\t<tr><td>domain-it                 </td><td>1</td><td>1</td><td> NA</td><td>1.0</td><td>  NA</td><td>  NA</td><td>      NA</td></tr>\n",
       "\t<tr><td>eims                      </td><td>1</td><td>0</td><td> NA</td><td> NA</td><td>  NA</td><td>  NA</td><td>      NA</td></tr>\n",
       "\t<tr><td>eu technology             </td><td>1</td><td>1</td><td> NA</td><td> NA</td><td>  NA</td><td>  NA</td><td>      NA</td></tr>\n",
       "\t<tr><td>french connexion          </td><td>1</td><td>1</td><td> NA</td><td>1.0</td><td>  NA</td><td>  NA</td><td>      NA</td></tr>\n",
       "\t<tr><td>global village            </td><td>1</td><td>1</td><td> NA</td><td> NA</td><td>  NA</td><td>  NA</td><td>      NA</td></tr>\n",
       "\t<tr><td>jiangsu bangning          </td><td>1</td><td>1</td><td> NA</td><td> NA</td><td>  NA</td><td>  NA</td><td>      NA</td></tr>\n",
       "\t<tr><td>net4 india                </td><td>1</td><td>0</td><td>0.0</td><td>0.0</td><td>  NA</td><td>  NA</td><td>      NA</td></tr>\n",
       "\t<tr><td>ownregistrar, inc.        </td><td>1</td><td>0</td><td> NA</td><td> NA</td><td>  NA</td><td>  NA</td><td>      NA</td></tr>\n",
       "\t<tr><td>virtua drug               </td><td>1</td><td>1</td><td> NA</td><td>0.0</td><td>  NA</td><td>  NA</td><td>      NA</td></tr>\n",
       "\t<tr><td>web werks                 </td><td>1</td><td>1</td><td> NA</td><td>0.0</td><td>  NA</td><td>  NA</td><td>      NA</td></tr>\n",
       "\t<tr><td>whois networks            </td><td>1</td><td>0</td><td> NA</td><td> NA</td><td>  NA</td><td>  NA</td><td>      NA</td></tr>\n",
       "</tbody>\n",
       "</table>\n"
      ],
      "text/latex": [
       "A data.frame: 155 × 8\n",
       "\\begin{tabular}{llllllll}\n",
       " reg & obs\\_count\\_s & na\\_count\\_s & tpr\\_0.5\\_s & tpr\\_0.5\\_r & aucpr\\_s & aucpr\\_r & aucpr\\_srrat\\\\\n",
       " <fct> & <int> & <int> & <dbl> & <dbl> & <dbl> & <dbl> & <dbl>\\\\\n",
       "\\hline\n",
       "\t namecheap                 & 55117 &   0 & 0.006009615 & 0.063401442 & 0.20315002 & 0.18892813 & 1.0752767\\\\\n",
       "\t gmo                       & 31494 &   8 & 0.141703377 & 0.030036630 & 0.38607414 & 0.11609370 & 3.3255390\\\\\n",
       "\t alibaba                   & 30567 &   1 & 0.001913876 & 0.003827751 & 0.16570439 & 0.17257293 & 0.9601992\\\\\n",
       "\t go daddy                  & 27537 &   0 & 0.095415118 & 0.065923172 & 0.35813266 & 0.33671268 & 1.0636150\\\\\n",
       "\t pdr ltd                   & 16402 & 473 & 0.153734940 & 0.017274472 & 0.40277116 & 0.27120713 & 1.4851053\\\\\n",
       "\t reg.ru                    & 15373 &   1 & 0.001340483 & 0.000000000 & 0.18745978 & 0.14659013 & 1.2788022\\\\\n",
       "\t chengdu west              & 14040 &   1 & 0.022471910 & 0.011204482 & 0.27039679 & 0.22024362 & 1.2277168\\\\\n",
       "\t gandi sas                 & 11686 &   2 & 0.060975610 & 0.051094891 & 0.33287310 & 0.34864064 & 0.9547742\\\\\n",
       "\t hostinger                 & 11140 &   0 & 0.000000000 & 0.000000000 & 0.10372553 & 0.08330299 & 1.2451598\\\\\n",
       "\t zhengzhou century connect &  7043 &  24 & 0.000000000 & 0.000000000 & 0.50007124 & 0.60000000 & 0.8334521\\\\\n",
       "\t uniregistrar              &  6992 &   0 & 0.008474576 & 0.000000000 & 0.15959594 & 0.14783289 & 1.0795699\\\\\n",
       "\t onlinenic                 &  6429 &   0 & 0.200000000 & 0.000000000 & 0.18069888 & 0.37017927 & 0.4881388\\\\\n",
       "\t tucows                    &  5727 &  42 & 0.465063001 & 0.035087719 & 0.56048343 & 0.43791860 & 1.2798804\\\\\n",
       "\t fbs                       &  5675 &  17 & 0.000000000 & 0.000000000 & 0.04622738 & 0.05204469 & 0.8882247\\\\\n",
       "\t dynadot                   &  4481 &   2 & 0.030075188 & 0.007518797 & 0.16685401 & 0.11373646 & 1.4670231\\\\\n",
       "\t network solutions         &  4222 &   3 & 0.120745543 & 0.042949757 & 0.42849446 & 0.40900598 & 1.0476484\\\\\n",
       "\t url solutions             &  3967 &   0 & 0.006578947 & 0.000000000 & 0.06141869 & 0.06386818 & 0.9616479\\\\\n",
       "\t enom                      &  3348 &  18 & 0.161469933 & 0.094609461 & 0.44946171 & 0.41852375 & 1.0739216\\\\\n",
       "\t 1\\&1 internet              &  2321 &   6 & 0.460000000 & 0.230309073 & 0.48685126 & 0.48472030 & 1.0043963\\\\\n",
       "\t ovh                       &  2177 &   2 & 0.540201005 & 0.378920954 & 0.54343301 & 0.45387909 & 1.1973079\\\\\n",
       "\t realtime register         &  1772 &   6 & 0.233560091 & 0.038374718 & 0.41336796 & 0.42946833 & 0.9625109\\\\\n",
       "\t key-systems               &  1591 &  17 & 0.492718447 & 0.127659574 & 0.55798024 & 0.57578799 & 0.9690724\\\\\n",
       "\t namesilo                  &  1501 &   2 & 0.023255814 & 0.237209302 & 0.29825193 & 0.22113610 & 1.3487257\\\\\n",
       "\t beget                     &  1373 &   2 & 0.000000000 & 0.000000000 & 0.24010601 & 0.20689792 & 1.1605047\\\\\n",
       "\t dotserve inc              &  1350 &   0 & 0.146666667 & 0.000000000 & 0.55364041 & 0.28976421 & 1.9106584\\\\\n",
       "\t west263 international     &  1348 &   0 & 0.011235955 & 0.000000000 & 0.25964169 & 0.25286265 & 1.0268092\\\\\n",
       "\t hosting ukraine           &  1309 &   0 & 0.026666667 & 0.026666667 & 0.22228264 & 0.23312297 & 0.9534995\\\\\n",
       "\t domain.com - registrar    &  1303 &   2 & 0.452830189 & 0.301886792 & 0.50266202 & 0.50812017 & 0.9892581\\\\\n",
       "\t ru-center                 &  1196 &   5 & 0.034482759 & 0.000000000 & 0.28536232 & 0.18659874 & 1.5292832\\\\\n",
       "\t hosting concepts          &  1093 &  11 & 0.222689076 & 0.200819672 & 0.42513116 & 0.40390333 & 1.0525567\\\\\n",
       "\t ⋮ & ⋮ & ⋮ & ⋮ & ⋮ & ⋮ & ⋮ & ⋮\\\\\n",
       "\t safenames ltd              & 3 & 3 &  NA & 0.0 &   NA &   NA &       NA\\\\\n",
       "\t server plan                & 3 & 1 & 0.0 & 0.0 & 0.75 & 1.00 & 0.750000\\\\\n",
       "\t tecnocratica centro        & 3 & 1 & 1.0 & 0.0 & 1.00 & 0.75 & 1.333333\\\\\n",
       "\t beijing guoxu              & 2 & 2 &  NA &  NA &   NA &   NA &       NA\\\\\n",
       "\t dnc holdings               & 2 & 1 &  NA & 1.0 &   NA & 1.00 &       NA\\\\\n",
       "\t domain the net             & 2 & 2 &  NA & 1.0 &   NA & 0.75 &       NA\\\\\n",
       "\t ename tech                 & 2 & 2 &  NA & 0.0 &   NA &   NA &       NA\\\\\n",
       "\t entorno digital            & 2 & 2 &  NA & 1.0 &   NA &   NA &       NA\\\\\n",
       "\t inames                     & 2 & 2 &  NA & 0.0 &   NA & 0.75 &       NA\\\\\n",
       "\t innovadeus                 & 2 & 2 &  NA &  NA &   NA &   NA &       NA\\\\\n",
       "\t mailclub                   & 2 & 2 &  NA & 0.5 &   NA &   NA &       NA\\\\\n",
       "\t nameweb                    & 2 & 1 & 1.0 & 1.0 &   NA &   NA &       NA\\\\\n",
       "\t ownregistrar               & 2 & 1 &  NA &  NA &   NA &   NA &       NA\\\\\n",
       "\t regtime ltd                & 2 & 0 & 0.5 & 0.0 &   NA &   NA &       NA\\\\\n",
       "\t sibername                  & 2 & 1 &  NA & 0.0 &   NA & 1.00 &       NA\\\\\n",
       "\t the registrar company b.v. & 2 & 1 & 1.0 & 1.0 &   NA &   NA &       NA\\\\\n",
       "\t boltn                      & 1 & 1 &  NA & 1.0 &   NA &   NA &       NA\\\\\n",
       "\t brandsight                 & 1 & 1 &  NA & 1.0 &   NA &   NA &       NA\\\\\n",
       "\t cci reg s.a.               & 1 & 1 &  NA & 1.0 &   NA &   NA &       NA\\\\\n",
       "\t domain-it                  & 1 & 1 &  NA & 1.0 &   NA &   NA &       NA\\\\\n",
       "\t eims                       & 1 & 0 &  NA &  NA &   NA &   NA &       NA\\\\\n",
       "\t eu technology              & 1 & 1 &  NA &  NA &   NA &   NA &       NA\\\\\n",
       "\t french connexion           & 1 & 1 &  NA & 1.0 &   NA &   NA &       NA\\\\\n",
       "\t global village             & 1 & 1 &  NA &  NA &   NA &   NA &       NA\\\\\n",
       "\t jiangsu bangning           & 1 & 1 &  NA &  NA &   NA &   NA &       NA\\\\\n",
       "\t net4 india                 & 1 & 0 & 0.0 & 0.0 &   NA &   NA &       NA\\\\\n",
       "\t ownregistrar, inc.         & 1 & 0 &  NA &  NA &   NA &   NA &       NA\\\\\n",
       "\t virtua drug                & 1 & 1 &  NA & 0.0 &   NA &   NA &       NA\\\\\n",
       "\t web werks                  & 1 & 1 &  NA & 0.0 &   NA &   NA &       NA\\\\\n",
       "\t whois networks             & 1 & 0 &  NA &  NA &   NA &   NA &       NA\\\\\n",
       "\\end{tabular}\n"
      ],
      "text/markdown": [
       "\n",
       "A data.frame: 155 × 8\n",
       "\n",
       "| reg &lt;fct&gt; | obs_count_s &lt;int&gt; | na_count_s &lt;int&gt; | tpr_0.5_s &lt;dbl&gt; | tpr_0.5_r &lt;dbl&gt; | aucpr_s &lt;dbl&gt; | aucpr_r &lt;dbl&gt; | aucpr_srrat &lt;dbl&gt; |\n",
       "|---|---|---|---|---|---|---|---|\n",
       "| namecheap                 | 55117 |   0 | 0.006009615 | 0.063401442 | 0.20315002 | 0.18892813 | 1.0752767 |\n",
       "| gmo                       | 31494 |   8 | 0.141703377 | 0.030036630 | 0.38607414 | 0.11609370 | 3.3255390 |\n",
       "| alibaba                   | 30567 |   1 | 0.001913876 | 0.003827751 | 0.16570439 | 0.17257293 | 0.9601992 |\n",
       "| go daddy                  | 27537 |   0 | 0.095415118 | 0.065923172 | 0.35813266 | 0.33671268 | 1.0636150 |\n",
       "| pdr ltd                   | 16402 | 473 | 0.153734940 | 0.017274472 | 0.40277116 | 0.27120713 | 1.4851053 |\n",
       "| reg.ru                    | 15373 |   1 | 0.001340483 | 0.000000000 | 0.18745978 | 0.14659013 | 1.2788022 |\n",
       "| chengdu west              | 14040 |   1 | 0.022471910 | 0.011204482 | 0.27039679 | 0.22024362 | 1.2277168 |\n",
       "| gandi sas                 | 11686 |   2 | 0.060975610 | 0.051094891 | 0.33287310 | 0.34864064 | 0.9547742 |\n",
       "| hostinger                 | 11140 |   0 | 0.000000000 | 0.000000000 | 0.10372553 | 0.08330299 | 1.2451598 |\n",
       "| zhengzhou century connect |  7043 |  24 | 0.000000000 | 0.000000000 | 0.50007124 | 0.60000000 | 0.8334521 |\n",
       "| uniregistrar              |  6992 |   0 | 0.008474576 | 0.000000000 | 0.15959594 | 0.14783289 | 1.0795699 |\n",
       "| onlinenic                 |  6429 |   0 | 0.200000000 | 0.000000000 | 0.18069888 | 0.37017927 | 0.4881388 |\n",
       "| tucows                    |  5727 |  42 | 0.465063001 | 0.035087719 | 0.56048343 | 0.43791860 | 1.2798804 |\n",
       "| fbs                       |  5675 |  17 | 0.000000000 | 0.000000000 | 0.04622738 | 0.05204469 | 0.8882247 |\n",
       "| dynadot                   |  4481 |   2 | 0.030075188 | 0.007518797 | 0.16685401 | 0.11373646 | 1.4670231 |\n",
       "| network solutions         |  4222 |   3 | 0.120745543 | 0.042949757 | 0.42849446 | 0.40900598 | 1.0476484 |\n",
       "| url solutions             |  3967 |   0 | 0.006578947 | 0.000000000 | 0.06141869 | 0.06386818 | 0.9616479 |\n",
       "| enom                      |  3348 |  18 | 0.161469933 | 0.094609461 | 0.44946171 | 0.41852375 | 1.0739216 |\n",
       "| 1&amp;1 internet              |  2321 |   6 | 0.460000000 | 0.230309073 | 0.48685126 | 0.48472030 | 1.0043963 |\n",
       "| ovh                       |  2177 |   2 | 0.540201005 | 0.378920954 | 0.54343301 | 0.45387909 | 1.1973079 |\n",
       "| realtime register         |  1772 |   6 | 0.233560091 | 0.038374718 | 0.41336796 | 0.42946833 | 0.9625109 |\n",
       "| key-systems               |  1591 |  17 | 0.492718447 | 0.127659574 | 0.55798024 | 0.57578799 | 0.9690724 |\n",
       "| namesilo                  |  1501 |   2 | 0.023255814 | 0.237209302 | 0.29825193 | 0.22113610 | 1.3487257 |\n",
       "| beget                     |  1373 |   2 | 0.000000000 | 0.000000000 | 0.24010601 | 0.20689792 | 1.1605047 |\n",
       "| dotserve inc              |  1350 |   0 | 0.146666667 | 0.000000000 | 0.55364041 | 0.28976421 | 1.9106584 |\n",
       "| west263 international     |  1348 |   0 | 0.011235955 | 0.000000000 | 0.25964169 | 0.25286265 | 1.0268092 |\n",
       "| hosting ukraine           |  1309 |   0 | 0.026666667 | 0.026666667 | 0.22228264 | 0.23312297 | 0.9534995 |\n",
       "| domain.com - registrar    |  1303 |   2 | 0.452830189 | 0.301886792 | 0.50266202 | 0.50812017 | 0.9892581 |\n",
       "| ru-center                 |  1196 |   5 | 0.034482759 | 0.000000000 | 0.28536232 | 0.18659874 | 1.5292832 |\n",
       "| hosting concepts          |  1093 |  11 | 0.222689076 | 0.200819672 | 0.42513116 | 0.40390333 | 1.0525567 |\n",
       "| ⋮ | ⋮ | ⋮ | ⋮ | ⋮ | ⋮ | ⋮ | ⋮ |\n",
       "| safenames ltd              | 3 | 3 |  NA | 0.0 |   NA |   NA |       NA |\n",
       "| server plan                | 3 | 1 | 0.0 | 0.0 | 0.75 | 1.00 | 0.750000 |\n",
       "| tecnocratica centro        | 3 | 1 | 1.0 | 0.0 | 1.00 | 0.75 | 1.333333 |\n",
       "| beijing guoxu              | 2 | 2 |  NA |  NA |   NA |   NA |       NA |\n",
       "| dnc holdings               | 2 | 1 |  NA | 1.0 |   NA | 1.00 |       NA |\n",
       "| domain the net             | 2 | 2 |  NA | 1.0 |   NA | 0.75 |       NA |\n",
       "| ename tech                 | 2 | 2 |  NA | 0.0 |   NA |   NA |       NA |\n",
       "| entorno digital            | 2 | 2 |  NA | 1.0 |   NA |   NA |       NA |\n",
       "| inames                     | 2 | 2 |  NA | 0.0 |   NA | 0.75 |       NA |\n",
       "| innovadeus                 | 2 | 2 |  NA |  NA |   NA |   NA |       NA |\n",
       "| mailclub                   | 2 | 2 |  NA | 0.5 |   NA |   NA |       NA |\n",
       "| nameweb                    | 2 | 1 | 1.0 | 1.0 |   NA |   NA |       NA |\n",
       "| ownregistrar               | 2 | 1 |  NA |  NA |   NA |   NA |       NA |\n",
       "| regtime ltd                | 2 | 0 | 0.5 | 0.0 |   NA |   NA |       NA |\n",
       "| sibername                  | 2 | 1 |  NA | 0.0 |   NA | 1.00 |       NA |\n",
       "| the registrar company b.v. | 2 | 1 | 1.0 | 1.0 |   NA |   NA |       NA |\n",
       "| boltn                      | 1 | 1 |  NA | 1.0 |   NA |   NA |       NA |\n",
       "| brandsight                 | 1 | 1 |  NA | 1.0 |   NA |   NA |       NA |\n",
       "| cci reg s.a.               | 1 | 1 |  NA | 1.0 |   NA |   NA |       NA |\n",
       "| domain-it                  | 1 | 1 |  NA | 1.0 |   NA |   NA |       NA |\n",
       "| eims                       | 1 | 0 |  NA |  NA |   NA |   NA |       NA |\n",
       "| eu technology              | 1 | 1 |  NA |  NA |   NA |   NA |       NA |\n",
       "| french connexion           | 1 | 1 |  NA | 1.0 |   NA |   NA |       NA |\n",
       "| global village             | 1 | 1 |  NA |  NA |   NA |   NA |       NA |\n",
       "| jiangsu bangning           | 1 | 1 |  NA |  NA |   NA |   NA |       NA |\n",
       "| net4 india                 | 1 | 0 | 0.0 | 0.0 |   NA |   NA |       NA |\n",
       "| ownregistrar, inc.         | 1 | 0 |  NA |  NA |   NA |   NA |       NA |\n",
       "| virtua drug                | 1 | 1 |  NA | 0.0 |   NA |   NA |       NA |\n",
       "| web werks                  | 1 | 1 |  NA | 0.0 |   NA |   NA |       NA |\n",
       "| whois networks             | 1 | 0 |  NA |  NA |   NA |   NA |       NA |\n",
       "\n"
      ],
      "text/plain": [
       "    reg                        obs_count_s na_count_s tpr_0.5_s   tpr_0.5_r  \n",
       "1   namecheap                  55117         0        0.006009615 0.063401442\n",
       "2   gmo                        31494         8        0.141703377 0.030036630\n",
       "3   alibaba                    30567         1        0.001913876 0.003827751\n",
       "4   go daddy                   27537         0        0.095415118 0.065923172\n",
       "5   pdr ltd                    16402       473        0.153734940 0.017274472\n",
       "6   reg.ru                     15373         1        0.001340483 0.000000000\n",
       "7   chengdu west               14040         1        0.022471910 0.011204482\n",
       "8   gandi sas                  11686         2        0.060975610 0.051094891\n",
       "9   hostinger                  11140         0        0.000000000 0.000000000\n",
       "10  zhengzhou century connect   7043        24        0.000000000 0.000000000\n",
       "11  uniregistrar                6992         0        0.008474576 0.000000000\n",
       "12  onlinenic                   6429         0        0.200000000 0.000000000\n",
       "13  tucows                      5727        42        0.465063001 0.035087719\n",
       "14  fbs                         5675        17        0.000000000 0.000000000\n",
       "15  dynadot                     4481         2        0.030075188 0.007518797\n",
       "16  network solutions           4222         3        0.120745543 0.042949757\n",
       "17  url solutions               3967         0        0.006578947 0.000000000\n",
       "18  enom                        3348        18        0.161469933 0.094609461\n",
       "19  1&1 internet                2321         6        0.460000000 0.230309073\n",
       "20  ovh                         2177         2        0.540201005 0.378920954\n",
       "21  realtime register           1772         6        0.233560091 0.038374718\n",
       "22  key-systems                 1591        17        0.492718447 0.127659574\n",
       "23  namesilo                    1501         2        0.023255814 0.237209302\n",
       "24  beget                       1373         2        0.000000000 0.000000000\n",
       "25  dotserve inc                1350         0        0.146666667 0.000000000\n",
       "26  west263 international       1348         0        0.011235955 0.000000000\n",
       "27  hosting ukraine             1309         0        0.026666667 0.026666667\n",
       "28  domain.com - registrar      1303         2        0.452830189 0.301886792\n",
       "29  ru-center                   1196         5        0.034482759 0.000000000\n",
       "30  hosting concepts            1093        11        0.222689076 0.200819672\n",
       "⋮   ⋮                          ⋮           ⋮          ⋮           ⋮          \n",
       "126 safenames ltd              3           3           NA         0.0        \n",
       "127 server plan                3           1          0.0         0.0        \n",
       "128 tecnocratica centro        3           1          1.0         0.0        \n",
       "129 beijing guoxu              2           2           NA          NA        \n",
       "130 dnc holdings               2           1           NA         1.0        \n",
       "131 domain the net             2           2           NA         1.0        \n",
       "132 ename tech                 2           2           NA         0.0        \n",
       "133 entorno digital            2           2           NA         1.0        \n",
       "134 inames                     2           2           NA         0.0        \n",
       "135 innovadeus                 2           2           NA          NA        \n",
       "136 mailclub                   2           2           NA         0.5        \n",
       "137 nameweb                    2           1          1.0         1.0        \n",
       "138 ownregistrar               2           1           NA          NA        \n",
       "139 regtime ltd                2           0          0.5         0.0        \n",
       "140 sibername                  2           1           NA         0.0        \n",
       "141 the registrar company b.v. 2           1          1.0         1.0        \n",
       "142 boltn                      1           1           NA         1.0        \n",
       "143 brandsight                 1           1           NA         1.0        \n",
       "144 cci reg s.a.               1           1           NA         1.0        \n",
       "145 domain-it                  1           1           NA         1.0        \n",
       "146 eims                       1           0           NA          NA        \n",
       "147 eu technology              1           1           NA          NA        \n",
       "148 french connexion           1           1           NA         1.0        \n",
       "149 global village             1           1           NA          NA        \n",
       "150 jiangsu bangning           1           1           NA          NA        \n",
       "151 net4 india                 1           0          0.0         0.0        \n",
       "152 ownregistrar, inc.         1           0           NA          NA        \n",
       "153 virtua drug                1           1           NA         0.0        \n",
       "154 web werks                  1           1           NA         0.0        \n",
       "155 whois networks             1           0           NA          NA        \n",
       "    aucpr_s    aucpr_r    aucpr_srrat\n",
       "1   0.20315002 0.18892813 1.0752767  \n",
       "2   0.38607414 0.11609370 3.3255390  \n",
       "3   0.16570439 0.17257293 0.9601992  \n",
       "4   0.35813266 0.33671268 1.0636150  \n",
       "5   0.40277116 0.27120713 1.4851053  \n",
       "6   0.18745978 0.14659013 1.2788022  \n",
       "7   0.27039679 0.22024362 1.2277168  \n",
       "8   0.33287310 0.34864064 0.9547742  \n",
       "9   0.10372553 0.08330299 1.2451598  \n",
       "10  0.50007124 0.60000000 0.8334521  \n",
       "11  0.15959594 0.14783289 1.0795699  \n",
       "12  0.18069888 0.37017927 0.4881388  \n",
       "13  0.56048343 0.43791860 1.2798804  \n",
       "14  0.04622738 0.05204469 0.8882247  \n",
       "15  0.16685401 0.11373646 1.4670231  \n",
       "16  0.42849446 0.40900598 1.0476484  \n",
       "17  0.06141869 0.06386818 0.9616479  \n",
       "18  0.44946171 0.41852375 1.0739216  \n",
       "19  0.48685126 0.48472030 1.0043963  \n",
       "20  0.54343301 0.45387909 1.1973079  \n",
       "21  0.41336796 0.42946833 0.9625109  \n",
       "22  0.55798024 0.57578799 0.9690724  \n",
       "23  0.29825193 0.22113610 1.3487257  \n",
       "24  0.24010601 0.20689792 1.1605047  \n",
       "25  0.55364041 0.28976421 1.9106584  \n",
       "26  0.25964169 0.25286265 1.0268092  \n",
       "27  0.22228264 0.23312297 0.9534995  \n",
       "28  0.50266202 0.50812017 0.9892581  \n",
       "29  0.28536232 0.18659874 1.5292832  \n",
       "30  0.42513116 0.40390333 1.0525567  \n",
       "⋮   ⋮          ⋮          ⋮          \n",
       "126   NA         NA             NA   \n",
       "127 0.75       1.00       0.750000   \n",
       "128 1.00       0.75       1.333333   \n",
       "129   NA         NA             NA   \n",
       "130   NA       1.00             NA   \n",
       "131   NA       0.75             NA   \n",
       "132   NA         NA             NA   \n",
       "133   NA         NA             NA   \n",
       "134   NA       0.75             NA   \n",
       "135   NA         NA             NA   \n",
       "136   NA         NA             NA   \n",
       "137   NA         NA             NA   \n",
       "138   NA         NA             NA   \n",
       "139   NA         NA             NA   \n",
       "140   NA       1.00             NA   \n",
       "141   NA         NA             NA   \n",
       "142   NA         NA             NA   \n",
       "143   NA         NA             NA   \n",
       "144   NA         NA             NA   \n",
       "145   NA         NA             NA   \n",
       "146   NA         NA             NA   \n",
       "147   NA         NA             NA   \n",
       "148   NA         NA             NA   \n",
       "149   NA         NA             NA   \n",
       "150   NA         NA             NA   \n",
       "151   NA         NA             NA   \n",
       "152   NA         NA             NA   \n",
       "153   NA         NA             NA   \n",
       "154   NA         NA             NA   \n",
       "155   NA         NA             NA   "
      ]
     },
     "metadata": {},
     "output_type": "display_data"
    }
   ],
   "source": [
    "# by auc\n",
    "joint_pred_df[c(\"reg\",\"obs_count_s\",\"na_count_s\",\"tpr_0.5_s\",\"tpr_0.5_r\",\"aucpr_s\",\"aucpr_r\",\"aucpr_srrat\")] %>% arrange(desc(obs_count_s))"
   ]
  },
  {
   "cell_type": "markdown",
   "metadata": {},
   "source": [
    "# Rf for one registrar of choice"
   ]
  },
  {
   "cell_type": "code",
   "execution_count": 10,
   "metadata": {},
   "outputs": [],
   "source": []
  },
  {
   "cell_type": "code",
   "execution_count": 3,
   "metadata": {},
   "outputs": [
    {
     "data": {
      "text/html": [
       "<style>\n",
       ".list-inline {list-style: none; margin:0; padding: 0}\n",
       ".list-inline>li {display: inline-block}\n",
       ".list-inline>li:not(:last-child)::after {content: \"\\00b7\"; padding: 0 .5ex}\n",
       "</style>\n",
       "<ol class=list-inline><li>1188250</li><li>12</li></ol>\n"
      ],
      "text/latex": [
       "\\begin{enumerate*}\n",
       "\\item 1188250\n",
       "\\item 12\n",
       "\\end{enumerate*}\n"
      ],
      "text/markdown": [
       "1. 1188250\n",
       "2. 12\n",
       "\n",
       "\n"
      ],
      "text/plain": [
       "[1] 1188250      12"
      ]
     },
     "metadata": {},
     "output_type": "display_data"
    },
    {
     "data": {
      "text/html": [
       "<style>\n",
       ".list-inline {list-style: none; margin:0; padding: 0}\n",
       ".list-inline>li {display: inline-block}\n",
       ".list-inline>li:not(:last-child)::after {content: \"\\00b7\"; padding: 0 .5ex}\n",
       "</style>\n",
       "<ol class=list-inline><li>296797</li><li>12</li></ol>\n"
      ],
      "text/latex": [
       "\\begin{enumerate*}\n",
       "\\item 296797\n",
       "\\item 12\n",
       "\\end{enumerate*}\n"
      ],
      "text/markdown": [
       "1. 296797\n",
       "2. 12\n",
       "\n",
       "\n"
      ],
      "text/plain": [
       "[1] 296797     12"
      ]
     },
     "metadata": {},
     "output_type": "display_data"
    },
    {
     "name": "stdout",
     "output_type": "stream",
     "text": [
      "\n"
     ]
    },
    {
     "data": {
      "text/html": [
       "<style>\n",
       ".list-inline {list-style: none; margin:0; padding: 0}\n",
       ".list-inline>li {display: inline-block}\n",
       ".list-inline>li:not(:last-child)::after {content: \"\\00b7\"; padding: 0 .5ex}\n",
       "</style>\n",
       "<ol class=list-inline><li>126254</li><li>12</li></ol>\n"
      ],
      "text/latex": [
       "\\begin{enumerate*}\n",
       "\\item 126254\n",
       "\\item 12\n",
       "\\end{enumerate*}\n"
      ],
      "text/markdown": [
       "1. 126254\n",
       "2. 12\n",
       "\n",
       "\n"
      ],
      "text/plain": [
       "[1] 126254     12"
      ]
     },
     "metadata": {},
     "output_type": "display_data"
    },
    {
     "data": {
      "text/html": [
       "<style>\n",
       ".list-inline {list-style: none; margin:0; padding: 0}\n",
       ".list-inline>li {display: inline-block}\n",
       ".list-inline>li:not(:last-child)::after {content: \"\\00b7\"; padding: 0 .5ex}\n",
       "</style>\n",
       "<ol class=list-inline><li>31494</li><li>12</li></ol>\n"
      ],
      "text/latex": [
       "\\begin{enumerate*}\n",
       "\\item 31494\n",
       "\\item 12\n",
       "\\end{enumerate*}\n"
      ],
      "text/markdown": [
       "1. 31494\n",
       "2. 12\n",
       "\n",
       "\n"
      ],
      "text/plain": [
       "[1] 31494    12"
      ]
     },
     "metadata": {},
     "output_type": "display_data"
    },
    {
     "name": "stdout",
     "output_type": "stream",
     "text": [
      "\n"
     ]
    },
    {
     "data": {
      "text/html": [
       "<style>\n",
       ".list-inline {list-style: none; margin:0; padding: 0}\n",
       ".list-inline>li {display: inline-block}\n",
       ".list-inline>li:not(:last-child)::after {content: \"\\00b7\"; padding: 0 .5ex}\n",
       "</style>\n",
       "<ol class=list-inline><li>0.106252051335998</li><li>1</li></ol>\n"
      ],
      "text/latex": [
       "\\begin{enumerate*}\n",
       "\\item 0.106252051335998\n",
       "\\item 1\n",
       "\\end{enumerate*}\n"
      ],
      "text/markdown": [
       "1. 0.106252051335998\n",
       "2. 1\n",
       "\n",
       "\n"
      ],
      "text/plain": [
       "[1] 0.1062521 1.0000000"
      ]
     },
     "metadata": {},
     "output_type": "display_data"
    },
    {
     "data": {
      "text/html": [
       "<style>\n",
       ".list-inline {list-style: none; margin:0; padding: 0}\n",
       ".list-inline>li {display: inline-block}\n",
       ".list-inline>li:not(:last-child)::after {content: \"\\00b7\"; padding: 0 .5ex}\n",
       "</style>\n",
       "<ol class=list-inline><li>0.106112932408346</li><li>1</li></ol>\n"
      ],
      "text/latex": [
       "\\begin{enumerate*}\n",
       "\\item 0.106112932408346\n",
       "\\item 1\n",
       "\\end{enumerate*}\n"
      ],
      "text/markdown": [
       "1. 0.106112932408346\n",
       "2. 1\n",
       "\n",
       "\n"
      ],
      "text/plain": [
       "[1] 0.1061129 1.0000000"
      ]
     },
     "metadata": {},
     "output_type": "display_data"
    }
   ],
   "source": [
    "reg_name = 'gmo'\n",
    "\n",
    "# subset data\n",
    "\n",
    "dim(expiry_train_df_sub)\n",
    "dim(expiry_test_df_sub)\n",
    "cat('\\n')\n",
    "\n",
    "expiry_train_df_sub_reg <- expiry_train_df_sub %>% filter(registrar==reg_name)\n",
    "expiry_test_df_sub_reg <- expiry_test_df_sub %>% filter(registrar==reg_name)\n",
    "\n",
    "\n",
    "dim(expiry_train_df_sub_reg)\n",
    "dim(expiry_test_df_sub_reg)\n",
    "cat('\\n')\n",
    "\n",
    "\n",
    "dim(expiry_train_df_sub_reg)/dim(expiry_train_df_sub)\n",
    "dim(expiry_test_df_sub_reg)/dim(expiry_test_df_sub)"
   ]
  },
  {
   "cell_type": "code",
   "execution_count": 4,
   "metadata": {},
   "outputs": [],
   "source": [
    "# train & test RF\n",
    "\n",
    "\n",
    "ranger_03_reg <- ranger(\n",
    "    formula         = renewal_status ~ ., \n",
    "    data            = expiry_train_df_sub_reg, \n",
    "    importance = 'impurity', \n",
    "    num.trees       = 1000,\n",
    "    probability = TRUE,\n",
    "    mtry            = 3,\n",
    "    min.node.size   = 10,\n",
    "    replace = FALSE,\n",
    "    sample.fraction = .8,\n",
    "    seed            = 123\n",
    ")\n",
    "\n",
    "ranger_predict_03_reg <- predict(ranger_03_reg, \n",
    "                          data = expiry_test_df_sub_reg,\n",
    "                          type=\"response\")$predictions\n",
    "\n",
    "ranger_predict_03_reg <- as.data.frame(ranger_predict_03_reg)$Renewed\n",
    "\n",
    "ranger_03_pred_df_reg = data.frame(\"actual\" = expiry_test_df_sub_reg$renewal_status,\n",
    "          \"predicted\" = ranger_predict_03_reg)\n",
    "\n",
    "lift_df_ranger_03_reg <- chart_lift(pred_df = ranger_03_pred_df_reg,\n",
    "                        dep_var = \"actual\",\n",
    "                        pred_var = \"predicted\")\n",
    "\n",
    "gains_plot_ranger_03_reg <- plot_gains (lift_df_ranger_03_reg) \n",
    "\n",
    "auc_ranger_03_reg <- calc_auc(lift_df_ranger_03_reg)\n",
    "toc()\n",
    "\n",
    "\n",
    "\n",
    "\n",
    "\n",
    "\n",
    "\n",
    "# save(ranger_03_reg, file=\"../../data/output/ranger_03_reg\")\n",
    "# save(ranger_predict_03_reg, \n",
    "#      file=\"../../data/output/ranger_predict_03_reg\")\n",
    "# saveRDS(lift_df_ranger_03_reg, file.path('../../data/output/',\"lift_df_ranger_03_reg\"))\n",
    "\n"
   ]
  },
  {
   "cell_type": "code",
   "execution_count": 5,
   "metadata": {},
   "outputs": [
    {
     "data": {
      "text/html": [
       "0.760695970695971"
      ],
      "text/latex": [
       "0.760695970695971"
      ],
      "text/markdown": [
       "0.760695970695971"
      ],
      "text/plain": [
       "[1] 0.760696"
      ]
     },
     "metadata": {},
     "output_type": "display_data"
    }
   ],
   "source": [
    "auc_ranger_03_reg"
   ]
  },
  {
   "cell_type": "markdown",
   "metadata": {},
   "source": [
    "# Seg_GLM for one registrar of choice"
   ]
  },
  {
   "cell_type": "code",
   "execution_count": 6,
   "metadata": {},
   "outputs": [],
   "source": [
    "filename = 'seg_glm_expiry_exptest'\n",
    "system(paste(sprintf(\"gsutil cp gs://data_input/%s /home/jupyter/local/Domains_202003/data/\", filename)))\n",
    "seg_glm_expiry_exptest <- readRDS(file.path(\"/home/jupyter/local/Domains_202003/data/\", filename))"
   ]
  },
  {
   "cell_type": "code",
   "execution_count": 7,
   "metadata": {},
   "outputs": [
    {
     "data": {
      "text/html": [
       "<style>\n",
       ".list-inline {list-style: none; margin:0; padding: 0}\n",
       ".list-inline>li {display: inline-block}\n",
       ".list-inline>li:not(:last-child)::after {content: \"\\00b7\"; padding: 0 .5ex}\n",
       "</style>\n",
       "<ol class=list-inline><li>296797</li><li>40</li></ol>\n"
      ],
      "text/latex": [
       "\\begin{enumerate*}\n",
       "\\item 296797\n",
       "\\item 40\n",
       "\\end{enumerate*}\n"
      ],
      "text/markdown": [
       "1. 296797\n",
       "2. 40\n",
       "\n",
       "\n"
      ],
      "text/plain": [
       "[1] 296797     40"
      ]
     },
     "metadata": {},
     "output_type": "display_data"
    },
    {
     "name": "stdout",
     "output_type": "stream",
     "text": [
      "\n"
     ]
    },
    {
     "data": {
      "text/html": [
       "<style>\n",
       ".list-inline {list-style: none; margin:0; padding: 0}\n",
       ".list-inline>li {display: inline-block}\n",
       ".list-inline>li:not(:last-child)::after {content: \"\\00b7\"; padding: 0 .5ex}\n",
       "</style>\n",
       "<ol class=list-inline><li>31494</li><li>40</li></ol>\n"
      ],
      "text/latex": [
       "\\begin{enumerate*}\n",
       "\\item 31494\n",
       "\\item 40\n",
       "\\end{enumerate*}\n"
      ],
      "text/markdown": [
       "1. 31494\n",
       "2. 40\n",
       "\n",
       "\n"
      ],
      "text/plain": [
       "[1] 31494    40"
      ]
     },
     "metadata": {},
     "output_type": "display_data"
    },
    {
     "name": "stdout",
     "output_type": "stream",
     "text": [
      "\n"
     ]
    },
    {
     "data": {
      "text/html": [
       "<style>\n",
       ".list-inline {list-style: none; margin:0; padding: 0}\n",
       ".list-inline>li {display: inline-block}\n",
       ".list-inline>li:not(:last-child)::after {content: \"\\00b7\"; padding: 0 .5ex}\n",
       "</style>\n",
       "<ol class=list-inline><li>0.106112932408346</li><li>1</li></ol>\n"
      ],
      "text/latex": [
       "\\begin{enumerate*}\n",
       "\\item 0.106112932408346\n",
       "\\item 1\n",
       "\\end{enumerate*}\n"
      ],
      "text/markdown": [
       "1. 0.106112932408346\n",
       "2. 1\n",
       "\n",
       "\n"
      ],
      "text/plain": [
       "[1] 0.1061129 1.0000000"
      ]
     },
     "metadata": {},
     "output_type": "display_data"
    }
   ],
   "source": [
    "reg_name = 'gmo'\n",
    "\n",
    "# subset data\n",
    "\n",
    "dim(seg_glm_expiry_exptest)\n",
    "cat('\\n')\n",
    "\n",
    "seg_glm_expiry_exptest_reg <-seg_glm_expiry_exptest %>% filter(registrar==reg_name)\n",
    "\n",
    "\n",
    "dim(seg_glm_expiry_exptest_reg)\n",
    "cat('\\n')\n",
    "\n",
    "\n",
    "dim(seg_glm_expiry_exptest_reg)/dim(seg_glm_expiry_exptest)\n",
    "\n"
   ]
  },
  {
   "cell_type": "code",
   "execution_count": 8,
   "metadata": {},
   "outputs": [],
   "source": [
    "seg_glm_expiry_exptest_pred_df_reg = data.frame(\"actual\" = seg_glm_expiry_exptest_reg$renewal_status,\n",
    "          \"predicted\" = seg_glm_expiry_exptest_reg$first_renewal_prediction)\n",
    "\n",
    "lift_df_seg_glm_expiry_exptest_reg <- chart_lift(pred_df = seg_glm_expiry_exptest_pred_df_reg,\n",
    "                        dep_var = \"actual\",\n",
    "                        pred_var = \"predicted\")\n",
    "\n",
    "gains_plot_seg_glm_expiry_exptest_reg <- plot_gains (lift_df_seg_glm_expiry_exptest_reg) \n",
    "\n",
    "auc_seg_glm_expiry_exptest_reg<- calc_auc(lift_df_seg_glm_expiry_exptest_reg)\n",
    "\n",
    "\n",
    "# saveRDS(lift_df_seg_glm_expiry_exptest, file.path('../../data/output/',\"lift_df_seg_glm_expiry_exptest\"))"
   ]
  },
  {
   "cell_type": "code",
   "execution_count": 9,
   "metadata": {},
   "outputs": [
    {
     "data": {
      "text/html": [
       "0.887655677655678"
      ],
      "text/latex": [
       "0.887655677655678"
      ],
      "text/markdown": [
       "0.887655677655678"
      ],
      "text/plain": [
       "[1] 0.8876557"
      ]
     },
     "metadata": {},
     "output_type": "display_data"
    }
   ],
   "source": [
    "auc_seg_glm_expiry_exptest_reg"
   ]
  },
  {
   "cell_type": "code",
   "execution_count": 10,
   "metadata": {},
   "outputs": [
    {
     "data": {
      "text/plain": [
       "\n",
       "   Renewed Not Renewd \n",
       "0.04334159 0.95665841 "
      ]
     },
     "metadata": {},
     "output_type": "display_data"
    }
   ],
   "source": [
    "prop.table(table(seg_glm_expiry_exptest_reg$renewal_status))"
   ]
  },
  {
   "cell_type": "code",
   "execution_count": 12,
   "metadata": {},
   "outputs": [
    {
     "data": {
      "image/png": "[encoded data removed]",
      "text/plain": [
       "plot without title"
      ]
     },
     "metadata": {
      "image/png": {
       "height": 420,
       "width": 420
      },
      "text/plain": {
       "height": 420,
       "width": 420
      }
     },
     "output_type": "display_data"
    }
   ],
   "source": [
    "plot_multigains_reg <- plot_multigains(\n",
    "    lift_df_list=list(\n",
    "        rf_reg = lift_df_ranger_03_reg,\n",
    "        seg_reg = lift_df_seg_glm_expiry_exptest_reg),\n",
    "    auc_list = list(\n",
    "        rf_reg= calc_auc(lift_df_ranger_03_reg),\n",
    "        seg_reg= calc_auc(lift_df_seg_glm_expiry_exptest_reg)),\n",
    "    prop_positive = 0.04334159)\n",
    "# png(file = \"../../data/output/plot_multigains_03_summ4.png\",\n",
    "#     width = 500, height = 375)\n",
    "plot(plot_multigains_reg + \n",
    "      annotate(\"text\", x = .3, y = .3, hjust = 0, label=reg_name, size = 24))\n",
    "# dev.off()"
   ]
  },
  {
   "cell_type": "markdown",
   "metadata": {},
   "source": [
    "# Train GLM from \"scratch\""
   ]
  },
  {
   "cell_type": "code",
   "execution_count": 17,
   "metadata": {},
   "outputs": [
    {
     "data": {
      "text/html": [
       "'gmo'"
      ],
      "text/latex": [
       "'gmo'"
      ],
      "text/markdown": [
       "'gmo'"
      ],
      "text/plain": [
       "[1] \"gmo\""
      ]
     },
     "metadata": {},
     "output_type": "display_data"
    }
   ],
   "source": [
    "reg_name"
   ]
  },
  {
   "cell_type": "code",
   "execution_count": 30,
   "metadata": {},
   "outputs": [
    {
     "data": {
      "text/html": [
       "<style>\n",
       ".list-inline {list-style: none; margin:0; padding: 0}\n",
       ".list-inline>li {display: inline-block}\n",
       ".list-inline>li:not(:last-child)::after {content: \"\\00b7\"; padding: 0 .5ex}\n",
       "</style>\n",
       "<ol class=list-inline><li>'fungmo'</li><li>'hostgmo'</li><li>'in.netgmo'</li><li>'onlinegmo'</li><li>'pressgmo'</li><li>'pwgmo'</li><li>'sitegmo'</li><li>'spacegmo'</li><li>'storegmo'</li><li>'techgmo'</li><li>'websitegmo'</li></ol>\n"
      ],
      "text/latex": [
       "\\begin{enumerate*}\n",
       "\\item 'fungmo'\n",
       "\\item 'hostgmo'\n",
       "\\item 'in.netgmo'\n",
       "\\item 'onlinegmo'\n",
       "\\item 'pressgmo'\n",
       "\\item 'pwgmo'\n",
       "\\item 'sitegmo'\n",
       "\\item 'spacegmo'\n",
       "\\item 'storegmo'\n",
       "\\item 'techgmo'\n",
       "\\item 'websitegmo'\n",
       "\\end{enumerate*}\n"
      ],
      "text/markdown": [
       "1. 'fungmo'\n",
       "2. 'hostgmo'\n",
       "3. 'in.netgmo'\n",
       "4. 'onlinegmo'\n",
       "5. 'pressgmo'\n",
       "6. 'pwgmo'\n",
       "7. 'sitegmo'\n",
       "8. 'spacegmo'\n",
       "9. 'storegmo'\n",
       "10. 'techgmo'\n",
       "11. 'websitegmo'\n",
       "\n",
       "\n"
      ],
      "text/plain": [
       " [1] \"fungmo\"     \"hostgmo\"    \"in.netgmo\"  \"onlinegmo\"  \"pressgmo\"  \n",
       " [6] \"pwgmo\"      \"sitegmo\"    \"spacegmo\"   \"storegmo\"   \"techgmo\"   \n",
       "[11] \"websitegmo\""
      ]
     },
     "metadata": {},
     "output_type": "display_data"
    }
   ],
   "source": [
    "grep(reg_name, names(expiry_train_prepped_2), value=TRUE)"
   ]
  },
  {
   "cell_type": "code",
   "execution_count": 34,
   "metadata": {},
   "outputs": [
    {
     "data": {
      "text/html": [
       "<style>\n",
       ".list-inline {list-style: none; margin:0; padding: 0}\n",
       ".list-inline>li {display: inline-block}\n",
       ".list-inline>li:not(:last-child)::after {content: \"\\00b7\"; padding: 0 .5ex}\n",
       "</style>\n",
       "<ol class=list-inline><li>115069</li><li>39</li></ol>\n"
      ],
      "text/latex": [
       "\\begin{enumerate*}\n",
       "\\item 115069\n",
       "\\item 39\n",
       "\\end{enumerate*}\n"
      ],
      "text/markdown": [
       "1. 115069\n",
       "2. 39\n",
       "\n",
       "\n"
      ],
      "text/plain": [
       "[1] 115069     39"
      ]
     },
     "metadata": {},
     "output_type": "display_data"
    }
   ],
   "source": [
    "train_df <- rbindlist(expiry_train_prepped_2[grep(reg_name, names(expiry_train_prepped_2), value=TRUE)],use.names=TRUE)\n",
    "dim(train_df)"
   ]
  },
  {
   "cell_type": "code",
   "execution_count": 35,
   "metadata": {},
   "outputs": [
    {
     "data": {
      "text/html": [
       "'gmo'"
      ],
      "text/latex": [
       "'gmo'"
      ],
      "text/markdown": [
       "'gmo'"
      ],
      "text/plain": [
       "[1] \"gmo\""
      ]
     },
     "metadata": {},
     "output_type": "display_data"
    }
   ],
   "source": [
    "unique(train_df$registrar)"
   ]
  },
  {
   "cell_type": "code",
   "execution_count": 37,
   "metadata": {},
   "outputs": [
    {
     "name": "stderr",
     "output_type": "stream",
     "text": [
      "Warning message:\n",
      "“glm.fit: fitted probabilities numerically 0 or 1 occurred”\n"
     ]
    }
   ],
   "source": [
    "model_reg <- build_model_first_renewal_reg(train_df)"
   ]
  },
  {
   "cell_type": "code",
   "execution_count": 38,
   "metadata": {},
   "outputs": [
    {
     "data": {
      "text/plain": [
       "\n",
       "Call:\n",
       "glm(formula = renewal_status ~ ., family = binomial(link = \"logit\"), \n",
       "    data = build_data, model = FALSE, y = FALSE)\n",
       "\n",
       "Deviance Residuals: \n",
       "    Min       1Q   Median       3Q      Max  \n",
       "-2.2880  -0.2497  -0.0914  -0.0042   5.6456  \n",
       "\n",
       "Coefficients:\n",
       "                       Estimate Std. Error z value Pr(>|z|)    \n",
       "(Intercept)          -4.158e-01  2.125e-01  -1.957 0.050346 .  \n",
       "pattern_domain_count -5.289e-01  4.001e-02 -13.219  < 2e-16 ***\n",
       "log_reg_arpt          2.293e-01  7.309e-02   3.138 0.001703 ** \n",
       "sld_length            2.055e-02  5.045e-03   4.073 4.65e-05 ***\n",
       "sld_typehyphen-ln    -2.900e+00  2.308e-01 -12.561  < 2e-16 ***\n",
       "sld_typel            -1.335e+00  5.249e-02 -25.436  < 2e-16 ***\n",
       "sld_typeln           -2.433e+00  8.296e-02 -29.324  < 2e-16 ***\n",
       "sld_typen            -5.742e+00  5.147e-01 -11.156  < 2e-16 ***\n",
       "sld_typeidn          -6.722e-01  1.134e-01  -5.930 3.03e-09 ***\n",
       "day_domains          -6.708e-04  2.315e-05 -28.970  < 2e-16 ***\n",
       "gibb_score            4.828e-02  2.608e-03  18.510  < 2e-16 ***\n",
       "reg_period            6.023e-01  1.438e-01   4.189 2.80e-05 ***\n",
       "tldhost              -2.561e+00  5.456e-01  -4.694 2.68e-06 ***\n",
       "tldin.net             5.090e-01  4.177e-01   1.218 0.223063    \n",
       "tldonline             2.425e-01  9.813e-02   2.471 0.013477 *  \n",
       "tldpress              1.280e-02  2.566e-01   0.050 0.960214    \n",
       "tldpw                -8.893e-01  1.432e-01  -6.210 5.29e-10 ***\n",
       "tldsite              -2.332e-01  1.397e-01  -1.669 0.095192 .  \n",
       "tldspace             -4.554e-01  1.213e-01  -3.756 0.000173 ***\n",
       "tldstore              1.730e+00  1.169e+00   1.479 0.139071    \n",
       "tldtech               4.135e-01  1.439e-01   2.874 0.004056 ** \n",
       "tldwebsite           -4.156e-01  1.279e-01  -3.250 0.001154 ** \n",
       "---\n",
       "Signif. codes:  0 ‘***’ 0.001 ‘**’ 0.01 ‘*’ 0.05 ‘.’ 0.1 ‘ ’ 1\n",
       "\n",
       "(Dispersion parameter for binomial family taken to be 1)\n",
       "\n",
       "    Null deviance: 33831  on 115068  degrees of freedom\n",
       "Residual deviance: 23727  on 115047  degrees of freedom\n",
       "AIC: 23771\n",
       "\n",
       "Number of Fisher Scoring iterations: 10\n"
      ]
     },
     "metadata": {},
     "output_type": "display_data"
    }
   ],
   "source": [
    "summary(model_reg)"
   ]
  },
  {
   "cell_type": "code",
   "execution_count": 40,
   "metadata": {},
   "outputs": [
    {
     "data": {
      "text/html": [
       "<style>\n",
       ".list-inline {list-style: none; margin:0; padding: 0}\n",
       ".list-inline>li {display: inline-block}\n",
       ".list-inline>li:not(:last-child)::after {content: \"\\00b7\"; padding: 0 .5ex}\n",
       "</style>\n",
       "<ol class=list-inline><li>28576</li><li>39</li></ol>\n"
      ],
      "text/latex": [
       "\\begin{enumerate*}\n",
       "\\item 28576\n",
       "\\item 39\n",
       "\\end{enumerate*}\n"
      ],
      "text/markdown": [
       "1. 28576\n",
       "2. 39\n",
       "\n",
       "\n"
      ],
      "text/plain": [
       "[1] 28576    39"
      ]
     },
     "metadata": {},
     "output_type": "display_data"
    }
   ],
   "source": [
    "test_df <- rbindlist(expiry_test_prepped_2[grep(reg_name, names(expiry_test_prepped_2), value=TRUE)],use.names=TRUE)\n",
    "dim(test_df)"
   ]
  },
  {
   "cell_type": "code",
   "execution_count": 45,
   "metadata": {},
   "outputs": [
    {
     "data": {
      "text/html": [
       "<table>\n",
       "<caption>A data.table: 6 × 39</caption>\n",
       "<thead>\n",
       "\t<tr><th scope=col>renewal_type</th><th scope=col>renewed_count</th><th scope=col>expiry_date</th><th scope=col>domain_id</th><th scope=col>domain</th><th scope=col>creation_date</th><th scope=col>status</th><th scope=col>tld</th><th scope=col>registrar</th><th scope=col>reseller</th><th scope=col>⋯</th><th scope=col>sld_type</th><th scope=col>sld_length</th><th scope=col>sld_type2</th><th scope=col>day_domains</th><th scope=col>log_reg_arpt</th><th scope=col>gibb_score</th><th scope=col>pattern</th><th scope=col>cluster</th><th scope=col>pattern_score</th><th scope=col>pattern_domain_count</th></tr>\n",
       "\t<tr><th scope=col>&lt;chr&gt;</th><th scope=col>&lt;int&gt;</th><th scope=col>&lt;date&gt;</th><th scope=col>&lt;int&gt;</th><th scope=col>&lt;chr&gt;</th><th scope=col>&lt;date&gt;</th><th scope=col>&lt;chr&gt;</th><th scope=col>&lt;fct&gt;</th><th scope=col>&lt;chr&gt;</th><th scope=col>&lt;chr&gt;</th><th scope=col>⋯</th><th scope=col>&lt;fct&gt;</th><th scope=col>&lt;int&gt;</th><th scope=col>&lt;chr&gt;</th><th scope=col>&lt;int&gt;</th><th scope=col>&lt;dbl&gt;</th><th scope=col>&lt;dbl&gt;</th><th scope=col>&lt;chr&gt;</th><th scope=col>&lt;chr&gt;</th><th scope=col>&lt;dbl&gt;</th><th scope=col>&lt;int&gt;</th></tr>\n",
       "</thead>\n",
       "<tbody>\n",
       "\t<tr><td>FirstTime</td><td>1</td><td>2020-04-25</td><td>47208612</td><td>uranai.fun     </td><td>2017-04-25</td><td>Active</td><td>fun</td><td>gmo</td><td>gmo</td><td>⋯</td><td>l       </td><td> 6</td><td>6l        </td><td>1</td><td>2.457021</td><td>7.88</td><td>uranai     </td><td>1</td><td>1</td><td>1</td></tr>\n",
       "\t<tr><td>FirstTime</td><td>1</td><td>2020-01-15</td><td>59495443</td><td>tea-time.fun   </td><td>2018-01-15</td><td>Active</td><td>fun</td><td>gmo</td><td>gmo</td><td>⋯</td><td>hyphen-l</td><td> 8</td><td>8hyphen-l </td><td>1</td><td>2.110213</td><td>9.25</td><td>tea-time   </td><td>1</td><td>1</td><td>1</td></tr>\n",
       "\t<tr><td>FirstTime</td><td>1</td><td>2020-02-12</td><td>60982952</td><td>movie-mania.fun</td><td>2018-02-12</td><td>Active</td><td>fun</td><td>gmo</td><td>gmo</td><td>⋯</td><td>hyphen-l</td><td>11</td><td>11hyphen-l</td><td>1</td><td>2.079442</td><td>6.38</td><td>movie-mania</td><td>1</td><td>1</td><td>1</td></tr>\n",
       "\t<tr><td>FirstTime</td><td>1</td><td>2020-02-24</td><td>61743467</td><td>good-luck.fun  </td><td>2018-02-24</td><td>Active</td><td>fun</td><td>gmo</td><td>gmo</td><td>⋯</td><td>hyphen-l</td><td> 9</td><td>9hyphen-l </td><td>1</td><td>2.079442</td><td>2.65</td><td>good-luck  </td><td>1</td><td>1</td><td>1</td></tr>\n",
       "\t<tr><td>FirstTime</td><td>1</td><td>2020-03-07</td><td>62380617</td><td>mojomojo.fun   </td><td>2018-03-07</td><td>Active</td><td>fun</td><td>gmo</td><td>gmo</td><td>⋯</td><td>l       </td><td> 8</td><td>8l        </td><td>1</td><td>2.079442</td><td>3.41</td><td>mojomojo   </td><td>1</td><td>1</td><td>1</td></tr>\n",
       "\t<tr><td>FirstTime</td><td>1</td><td>2020-03-10</td><td>63096237</td><td>myao.fun       </td><td>2018-03-10</td><td>Active</td><td>fun</td><td>gmo</td><td>gmo</td><td>⋯</td><td>l       </td><td> 4</td><td>4l        </td><td>1</td><td>2.079442</td><td>0.61</td><td>myao       </td><td>1</td><td>1</td><td>1</td></tr>\n",
       "</tbody>\n",
       "</table>\n"
      ],
      "text/latex": [
       "A data.table: 6 × 39\n",
       "\\begin{tabular}{lllllllllllllllllllll}\n",
       " renewal\\_type & renewed\\_count & expiry\\_date & domain\\_id & domain & creation\\_date & status & tld & registrar & reseller & ⋯ & sld\\_type & sld\\_length & sld\\_type2 & day\\_domains & log\\_reg\\_arpt & gibb\\_score & pattern & cluster & pattern\\_score & pattern\\_domain\\_count\\\\\n",
       " <chr> & <int> & <date> & <int> & <chr> & <date> & <chr> & <fct> & <chr> & <chr> & ⋯ & <fct> & <int> & <chr> & <int> & <dbl> & <dbl> & <chr> & <chr> & <dbl> & <int>\\\\\n",
       "\\hline\n",
       "\t FirstTime & 1 & 2020-04-25 & 47208612 & uranai.fun      & 2017-04-25 & Active & fun & gmo & gmo & ⋯ & l        &  6 & 6l         & 1 & 2.457021 & 7.88 & uranai      & 1 & 1 & 1\\\\\n",
       "\t FirstTime & 1 & 2020-01-15 & 59495443 & tea-time.fun    & 2018-01-15 & Active & fun & gmo & gmo & ⋯ & hyphen-l &  8 & 8hyphen-l  & 1 & 2.110213 & 9.25 & tea-time    & 1 & 1 & 1\\\\\n",
       "\t FirstTime & 1 & 2020-02-12 & 60982952 & movie-mania.fun & 2018-02-12 & Active & fun & gmo & gmo & ⋯ & hyphen-l & 11 & 11hyphen-l & 1 & 2.079442 & 6.38 & movie-mania & 1 & 1 & 1\\\\\n",
       "\t FirstTime & 1 & 2020-02-24 & 61743467 & good-luck.fun   & 2018-02-24 & Active & fun & gmo & gmo & ⋯ & hyphen-l &  9 & 9hyphen-l  & 1 & 2.079442 & 2.65 & good-luck   & 1 & 1 & 1\\\\\n",
       "\t FirstTime & 1 & 2020-03-07 & 62380617 & mojomojo.fun    & 2018-03-07 & Active & fun & gmo & gmo & ⋯ & l        &  8 & 8l         & 1 & 2.079442 & 3.41 & mojomojo    & 1 & 1 & 1\\\\\n",
       "\t FirstTime & 1 & 2020-03-10 & 63096237 & myao.fun        & 2018-03-10 & Active & fun & gmo & gmo & ⋯ & l        &  4 & 4l         & 1 & 2.079442 & 0.61 & myao        & 1 & 1 & 1\\\\\n",
       "\\end{tabular}\n"
      ],
      "text/markdown": [
       "\n",
       "A data.table: 6 × 39\n",
       "\n",
       "| renewal_type &lt;chr&gt; | renewed_count &lt;int&gt; | expiry_date &lt;date&gt; | domain_id &lt;int&gt; | domain &lt;chr&gt; | creation_date &lt;date&gt; | status &lt;chr&gt; | tld &lt;fct&gt; | registrar &lt;chr&gt; | reseller &lt;chr&gt; | ⋯ ⋯ | sld_type &lt;fct&gt; | sld_length &lt;int&gt; | sld_type2 &lt;chr&gt; | day_domains &lt;int&gt; | log_reg_arpt &lt;dbl&gt; | gibb_score &lt;dbl&gt; | pattern &lt;chr&gt; | cluster &lt;chr&gt; | pattern_score &lt;dbl&gt; | pattern_domain_count &lt;int&gt; |\n",
       "|---|---|---|---|---|---|---|---|---|---|---|---|---|---|---|---|---|---|---|---|---|\n",
       "| FirstTime | 1 | 2020-04-25 | 47208612 | uranai.fun      | 2017-04-25 | Active | fun | gmo | gmo | ⋯ | l        |  6 | 6l         | 1 | 2.457021 | 7.88 | uranai      | 1 | 1 | 1 |\n",
       "| FirstTime | 1 | 2020-01-15 | 59495443 | tea-time.fun    | 2018-01-15 | Active | fun | gmo | gmo | ⋯ | hyphen-l |  8 | 8hyphen-l  | 1 | 2.110213 | 9.25 | tea-time    | 1 | 1 | 1 |\n",
       "| FirstTime | 1 | 2020-02-12 | 60982952 | movie-mania.fun | 2018-02-12 | Active | fun | gmo | gmo | ⋯ | hyphen-l | 11 | 11hyphen-l | 1 | 2.079442 | 6.38 | movie-mania | 1 | 1 | 1 |\n",
       "| FirstTime | 1 | 2020-02-24 | 61743467 | good-luck.fun   | 2018-02-24 | Active | fun | gmo | gmo | ⋯ | hyphen-l |  9 | 9hyphen-l  | 1 | 2.079442 | 2.65 | good-luck   | 1 | 1 | 1 |\n",
       "| FirstTime | 1 | 2020-03-07 | 62380617 | mojomojo.fun    | 2018-03-07 | Active | fun | gmo | gmo | ⋯ | l        |  8 | 8l         | 1 | 2.079442 | 3.41 | mojomojo    | 1 | 1 | 1 |\n",
       "| FirstTime | 1 | 2020-03-10 | 63096237 | myao.fun        | 2018-03-10 | Active | fun | gmo | gmo | ⋯ | l        |  4 | 4l         | 1 | 2.079442 | 0.61 | myao        | 1 | 1 | 1 |\n",
       "\n"
      ],
      "text/plain": [
       "  renewal_type renewed_count expiry_date domain_id domain         \n",
       "1 FirstTime    1             2020-04-25  47208612  uranai.fun     \n",
       "2 FirstTime    1             2020-01-15  59495443  tea-time.fun   \n",
       "3 FirstTime    1             2020-02-12  60982952  movie-mania.fun\n",
       "4 FirstTime    1             2020-02-24  61743467  good-luck.fun  \n",
       "5 FirstTime    1             2020-03-07  62380617  mojomojo.fun   \n",
       "6 FirstTime    1             2020-03-10  63096237  myao.fun       \n",
       "  creation_date status tld registrar reseller ⋯ sld_type sld_length sld_type2 \n",
       "1 2017-04-25    Active fun gmo       gmo      ⋯ l         6         6l        \n",
       "2 2018-01-15    Active fun gmo       gmo      ⋯ hyphen-l  8         8hyphen-l \n",
       "3 2018-02-12    Active fun gmo       gmo      ⋯ hyphen-l 11         11hyphen-l\n",
       "4 2018-02-24    Active fun gmo       gmo      ⋯ hyphen-l  9         9hyphen-l \n",
       "5 2018-03-07    Active fun gmo       gmo      ⋯ l         8         8l        \n",
       "6 2018-03-10    Active fun gmo       gmo      ⋯ l         4         4l        \n",
       "  day_domains log_reg_arpt gibb_score pattern     cluster pattern_score\n",
       "1 1           2.457021     7.88       uranai      1       1            \n",
       "2 1           2.110213     9.25       tea-time    1       1            \n",
       "3 1           2.079442     6.38       movie-mania 1       1            \n",
       "4 1           2.079442     2.65       good-luck   1       1            \n",
       "5 1           2.079442     3.41       mojomojo    1       1            \n",
       "6 1           2.079442     0.61       myao        1       1            \n",
       "  pattern_domain_count\n",
       "1 1                   \n",
       "2 1                   \n",
       "3 1                   \n",
       "4 1                   \n",
       "5 1                   \n",
       "6 1                   "
      ]
     },
     "metadata": {},
     "output_type": "display_data"
    }
   ],
   "source": [
    "head(test_df)"
   ]
  },
  {
   "cell_type": "code",
   "execution_count": 58,
   "metadata": {},
   "outputs": [],
   "source": [
    "pred_reg <- predict_first_renewal_reg(test_df, model_reg)"
   ]
  },
  {
   "cell_type": "code",
   "execution_count": 59,
   "metadata": {},
   "outputs": [
    {
     "data": {
      "text/html": [
       "<table>\n",
       "<caption>A data.table: 6 × 41</caption>\n",
       "<thead>\n",
       "\t<tr><th scope=col>renewal_type</th><th scope=col>renewed_count</th><th scope=col>expiry_date</th><th scope=col>domain_id</th><th scope=col>domain</th><th scope=col>creation_date</th><th scope=col>status</th><th scope=col>tld</th><th scope=col>registrar</th><th scope=col>reseller</th><th scope=col>⋯</th><th scope=col>sld_type2</th><th scope=col>day_domains</th><th scope=col>log_reg_arpt</th><th scope=col>gibb_score</th><th scope=col>pattern</th><th scope=col>cluster</th><th scope=col>pattern_score</th><th scope=col>pattern_domain_count</th><th scope=col>probabilities</th><th scope=col>first_renewal_prediction</th></tr>\n",
       "\t<tr><th scope=col>&lt;chr&gt;</th><th scope=col>&lt;int&gt;</th><th scope=col>&lt;date&gt;</th><th scope=col>&lt;int&gt;</th><th scope=col>&lt;chr&gt;</th><th scope=col>&lt;date&gt;</th><th scope=col>&lt;chr&gt;</th><th scope=col>&lt;fct&gt;</th><th scope=col>&lt;chr&gt;</th><th scope=col>&lt;chr&gt;</th><th scope=col>⋯</th><th scope=col>&lt;chr&gt;</th><th scope=col>&lt;int&gt;</th><th scope=col>&lt;dbl&gt;</th><th scope=col>&lt;dbl&gt;</th><th scope=col>&lt;chr&gt;</th><th scope=col>&lt;chr&gt;</th><th scope=col>&lt;dbl&gt;</th><th scope=col>&lt;int&gt;</th><th scope=col>&lt;dbl&gt;</th><th scope=col>&lt;dbl&gt;</th></tr>\n",
       "</thead>\n",
       "<tbody>\n",
       "\t<tr><td>FirstTime</td><td>1</td><td>2020-04-25</td><td>47208612</td><td>uranai.fun     </td><td>2017-04-25</td><td>Active</td><td>fun</td><td>gmo</td><td>gmo</td><td>⋯</td><td>6l        </td><td>1</td><td>2.457021</td><td>7.88</td><td>uranai     </td><td>1</td><td>1</td><td>1</td><td>0.6442021</td><td>0.644</td></tr>\n",
       "\t<tr><td>FirstTime</td><td>1</td><td>2020-01-15</td><td>59495443</td><td>tea-time.fun   </td><td>2018-01-15</td><td>Active</td><td>fun</td><td>gmo</td><td>gmo</td><td>⋯</td><td>8hyphen-l </td><td>1</td><td>2.110213</td><td>9.25</td><td>tea-time   </td><td>1</td><td>1</td><td>1</td><td>0.7948046</td><td>0.795</td></tr>\n",
       "\t<tr><td>FirstTime</td><td>1</td><td>2020-02-12</td><td>60982952</td><td>movie-mania.fun</td><td>2018-02-12</td><td>Active</td><td>fun</td><td>gmo</td><td>gmo</td><td>⋯</td><td>11hyphen-l</td><td>1</td><td>2.079442</td><td>6.38</td><td>movie-mania</td><td>1</td><td>1</td><td>1</td><td>0.7807682</td><td>0.781</td></tr>\n",
       "\t<tr><td>FirstTime</td><td>1</td><td>2020-02-24</td><td>61743467</td><td>good-luck.fun  </td><td>2018-02-24</td><td>Active</td><td>fun</td><td>gmo</td><td>gmo</td><td>⋯</td><td>9hyphen-l </td><td>1</td><td>2.079442</td><td>2.65</td><td>good-luck  </td><td>1</td><td>1</td><td>1</td><td>0.7405752</td><td>0.741</td></tr>\n",
       "\t<tr><td>FirstTime</td><td>1</td><td>2020-03-07</td><td>62380617</td><td>mojomojo.fun   </td><td>2018-03-07</td><td>Active</td><td>fun</td><td>gmo</td><td>gmo</td><td>⋯</td><td>8l        </td><td>1</td><td>2.079442</td><td>3.41</td><td>mojomojo   </td><td>1</td><td>1</td><td>1</td><td>0.4329139</td><td>0.433</td></tr>\n",
       "\t<tr><td>FirstTime</td><td>1</td><td>2020-03-10</td><td>63096237</td><td>myao.fun       </td><td>2018-03-10</td><td>Active</td><td>fun</td><td>gmo</td><td>gmo</td><td>⋯</td><td>4l        </td><td>1</td><td>2.079442</td><td>0.61</td><td>myao       </td><td>1</td><td>1</td><td>1</td><td>0.3805173</td><td>0.381</td></tr>\n",
       "</tbody>\n",
       "</table>\n"
      ],
      "text/latex": [
       "A data.table: 6 × 41\n",
       "\\begin{tabular}{lllllllllllllllllllll}\n",
       " renewal\\_type & renewed\\_count & expiry\\_date & domain\\_id & domain & creation\\_date & status & tld & registrar & reseller & ⋯ & sld\\_type2 & day\\_domains & log\\_reg\\_arpt & gibb\\_score & pattern & cluster & pattern\\_score & pattern\\_domain\\_count & probabilities & first\\_renewal\\_prediction\\\\\n",
       " <chr> & <int> & <date> & <int> & <chr> & <date> & <chr> & <fct> & <chr> & <chr> & ⋯ & <chr> & <int> & <dbl> & <dbl> & <chr> & <chr> & <dbl> & <int> & <dbl> & <dbl>\\\\\n",
       "\\hline\n",
       "\t FirstTime & 1 & 2020-04-25 & 47208612 & uranai.fun      & 2017-04-25 & Active & fun & gmo & gmo & ⋯ & 6l         & 1 & 2.457021 & 7.88 & uranai      & 1 & 1 & 1 & 0.6442021 & 0.644\\\\\n",
       "\t FirstTime & 1 & 2020-01-15 & 59495443 & tea-time.fun    & 2018-01-15 & Active & fun & gmo & gmo & ⋯ & 8hyphen-l  & 1 & 2.110213 & 9.25 & tea-time    & 1 & 1 & 1 & 0.7948046 & 0.795\\\\\n",
       "\t FirstTime & 1 & 2020-02-12 & 60982952 & movie-mania.fun & 2018-02-12 & Active & fun & gmo & gmo & ⋯ & 11hyphen-l & 1 & 2.079442 & 6.38 & movie-mania & 1 & 1 & 1 & 0.7807682 & 0.781\\\\\n",
       "\t FirstTime & 1 & 2020-02-24 & 61743467 & good-luck.fun   & 2018-02-24 & Active & fun & gmo & gmo & ⋯ & 9hyphen-l  & 1 & 2.079442 & 2.65 & good-luck   & 1 & 1 & 1 & 0.7405752 & 0.741\\\\\n",
       "\t FirstTime & 1 & 2020-03-07 & 62380617 & mojomojo.fun    & 2018-03-07 & Active & fun & gmo & gmo & ⋯ & 8l         & 1 & 2.079442 & 3.41 & mojomojo    & 1 & 1 & 1 & 0.4329139 & 0.433\\\\\n",
       "\t FirstTime & 1 & 2020-03-10 & 63096237 & myao.fun        & 2018-03-10 & Active & fun & gmo & gmo & ⋯ & 4l         & 1 & 2.079442 & 0.61 & myao        & 1 & 1 & 1 & 0.3805173 & 0.381\\\\\n",
       "\\end{tabular}\n"
      ],
      "text/markdown": [
       "\n",
       "A data.table: 6 × 41\n",
       "\n",
       "| renewal_type &lt;chr&gt; | renewed_count &lt;int&gt; | expiry_date &lt;date&gt; | domain_id &lt;int&gt; | domain &lt;chr&gt; | creation_date &lt;date&gt; | status &lt;chr&gt; | tld &lt;fct&gt; | registrar &lt;chr&gt; | reseller &lt;chr&gt; | ⋯ ⋯ | sld_type2 &lt;chr&gt; | day_domains &lt;int&gt; | log_reg_arpt &lt;dbl&gt; | gibb_score &lt;dbl&gt; | pattern &lt;chr&gt; | cluster &lt;chr&gt; | pattern_score &lt;dbl&gt; | pattern_domain_count &lt;int&gt; | probabilities &lt;dbl&gt; | first_renewal_prediction &lt;dbl&gt; |\n",
       "|---|---|---|---|---|---|---|---|---|---|---|---|---|---|---|---|---|---|---|---|---|\n",
       "| FirstTime | 1 | 2020-04-25 | 47208612 | uranai.fun      | 2017-04-25 | Active | fun | gmo | gmo | ⋯ | 6l         | 1 | 2.457021 | 7.88 | uranai      | 1 | 1 | 1 | 0.6442021 | 0.644 |\n",
       "| FirstTime | 1 | 2020-01-15 | 59495443 | tea-time.fun    | 2018-01-15 | Active | fun | gmo | gmo | ⋯ | 8hyphen-l  | 1 | 2.110213 | 9.25 | tea-time    | 1 | 1 | 1 | 0.7948046 | 0.795 |\n",
       "| FirstTime | 1 | 2020-02-12 | 60982952 | movie-mania.fun | 2018-02-12 | Active | fun | gmo | gmo | ⋯ | 11hyphen-l | 1 | 2.079442 | 6.38 | movie-mania | 1 | 1 | 1 | 0.7807682 | 0.781 |\n",
       "| FirstTime | 1 | 2020-02-24 | 61743467 | good-luck.fun   | 2018-02-24 | Active | fun | gmo | gmo | ⋯ | 9hyphen-l  | 1 | 2.079442 | 2.65 | good-luck   | 1 | 1 | 1 | 0.7405752 | 0.741 |\n",
       "| FirstTime | 1 | 2020-03-07 | 62380617 | mojomojo.fun    | 2018-03-07 | Active | fun | gmo | gmo | ⋯ | 8l         | 1 | 2.079442 | 3.41 | mojomojo    | 1 | 1 | 1 | 0.4329139 | 0.433 |\n",
       "| FirstTime | 1 | 2020-03-10 | 63096237 | myao.fun        | 2018-03-10 | Active | fun | gmo | gmo | ⋯ | 4l         | 1 | 2.079442 | 0.61 | myao        | 1 | 1 | 1 | 0.3805173 | 0.381 |\n",
       "\n"
      ],
      "text/plain": [
       "  renewal_type renewed_count expiry_date domain_id domain         \n",
       "1 FirstTime    1             2020-04-25  47208612  uranai.fun     \n",
       "2 FirstTime    1             2020-01-15  59495443  tea-time.fun   \n",
       "3 FirstTime    1             2020-02-12  60982952  movie-mania.fun\n",
       "4 FirstTime    1             2020-02-24  61743467  good-luck.fun  \n",
       "5 FirstTime    1             2020-03-07  62380617  mojomojo.fun   \n",
       "6 FirstTime    1             2020-03-10  63096237  myao.fun       \n",
       "  creation_date status tld registrar reseller ⋯ sld_type2  day_domains\n",
       "1 2017-04-25    Active fun gmo       gmo      ⋯ 6l         1          \n",
       "2 2018-01-15    Active fun gmo       gmo      ⋯ 8hyphen-l  1          \n",
       "3 2018-02-12    Active fun gmo       gmo      ⋯ 11hyphen-l 1          \n",
       "4 2018-02-24    Active fun gmo       gmo      ⋯ 9hyphen-l  1          \n",
       "5 2018-03-07    Active fun gmo       gmo      ⋯ 8l         1          \n",
       "6 2018-03-10    Active fun gmo       gmo      ⋯ 4l         1          \n",
       "  log_reg_arpt gibb_score pattern     cluster pattern_score\n",
       "1 2.457021     7.88       uranai      1       1            \n",
       "2 2.110213     9.25       tea-time    1       1            \n",
       "3 2.079442     6.38       movie-mania 1       1            \n",
       "4 2.079442     2.65       good-luck   1       1            \n",
       "5 2.079442     3.41       mojomojo    1       1            \n",
       "6 2.079442     0.61       myao        1       1            \n",
       "  pattern_domain_count probabilities first_renewal_prediction\n",
       "1 1                    0.6442021     0.644                   \n",
       "2 1                    0.7948046     0.795                   \n",
       "3 1                    0.7807682     0.781                   \n",
       "4 1                    0.7405752     0.741                   \n",
       "5 1                    0.4329139     0.433                   \n",
       "6 1                    0.3805173     0.381                   "
      ]
     },
     "metadata": {},
     "output_type": "display_data"
    }
   ],
   "source": [
    "head(pred_reg)"
   ]
  },
  {
   "cell_type": "code",
   "execution_count": 60,
   "metadata": {},
   "outputs": [],
   "source": [
    "\n",
    "lift_temp <- chart_lift(\n",
    "    pred_df = data.frame(\"actual\" = pred_reg$renewal_status,\n",
    "                         \"predicted\" = pred_reg$first_renewal_prediction),\n",
    "                        dep_var = \"actual\",\n",
    "                        pred_var = \"predicted\")\n",
    "\n",
    "gains_temp <- plot_gains (lift_temp) \n",
    "\n",
    "auc_temp <- calc_auc(lift_temp)\n",
    "\n",
    "\n",
    "# saveRDS(lift_df_seg_glm_expiry_exptest, file.path('../../data/output/',\"lift_df_seg_glm_expiry_exptest\"))"
   ]
  },
  {
   "cell_type": "code",
   "execution_count": 61,
   "metadata": {},
   "outputs": [
    {
     "data": {
      "text/html": [
       "0.892842535787321"
      ],
      "text/latex": [
       "0.892842535787321"
      ],
      "text/markdown": [
       "0.892842535787321"
      ],
      "text/plain": [
       "[1] 0.8928425"
      ]
     },
     "metadata": {},
     "output_type": "display_data"
    }
   ],
   "source": [
    "auc_temp"
   ]
  },
  {
   "cell_type": "code",
   "execution_count": 63,
   "metadata": {},
   "outputs": [
    {
     "data": {
      "image/png": "[encoded data removed]",
      "text/plain": [
       "plot without title"
      ]
     },
     "metadata": {
      "image/png": {
       "height": 420,
       "width": 420
      },
      "text/plain": {
       "height": 420,
       "width": 420
      }
     },
     "output_type": "display_data"
    }
   ],
   "source": [
    "plot_multigains_reg <- plot_multigains(\n",
    "    lift_df_list=list(\n",
    "        rf_reg = lift_df_ranger_03_reg,\n",
    "        seg_reg = lift_df_seg_glm_expiry_exptest_reg,\n",
    "        seg_reg2 = lift_temp),\n",
    "    auc_list = list(\n",
    "        rf_reg= calc_auc(lift_df_ranger_03_reg),\n",
    "        seg_reg= calc_auc(lift_df_seg_glm_expiry_exptest_reg),\n",
    "        seg_reg2= calc_auc(lift_temp)),\n",
    "    prop_positive = 0.04334159)\n",
    "# png(file = \"../../data/output/plot_multigains_03_summ4.png\",\n",
    "#     width = 500, height = 375)\n",
    "plot(plot_multigains_reg + \n",
    "      annotate(\"text\", x = .3, y = .3, hjust = 0, label=reg_name, size = 24))\n",
    "# dev.off()"
   ]
  },
  {
   "cell_type": "markdown",
   "metadata": {},
   "source": [
    "# Another One!"
   ]
  },
  {
   "cell_type": "code",
   "execution_count": null,
   "metadata": {},
   "outputs": [],
   "source": []
  },
  {
   "cell_type": "code",
   "execution_count": 36,
   "metadata": {},
   "outputs": [],
   "source": [
    "reg_name='namecheap'"
   ]
  },
  {
   "cell_type": "code",
   "execution_count": 37,
   "metadata": {},
   "outputs": [
    {
     "data": {
      "text/html": [
       "<style>\n",
       ".list-inline {list-style: none; margin:0; padding: 0}\n",
       ".list-inline>li {display: inline-block}\n",
       ".list-inline>li:not(:last-child)::after {content: \"\\00b7\"; padding: 0 .5ex}\n",
       "</style>\n",
       "<ol class=list-inline><li>1188250</li><li>12</li></ol>\n"
      ],
      "text/latex": [
       "\\begin{enumerate*}\n",
       "\\item 1188250\n",
       "\\item 12\n",
       "\\end{enumerate*}\n"
      ],
      "text/markdown": [
       "1. 1188250\n",
       "2. 12\n",
       "\n",
       "\n"
      ],
      "text/plain": [
       "[1] 1188250      12"
      ]
     },
     "metadata": {},
     "output_type": "display_data"
    },
    {
     "data": {
      "text/html": [
       "<style>\n",
       ".list-inline {list-style: none; margin:0; padding: 0}\n",
       ".list-inline>li {display: inline-block}\n",
       ".list-inline>li:not(:last-child)::after {content: \"\\00b7\"; padding: 0 .5ex}\n",
       "</style>\n",
       "<ol class=list-inline><li>296797</li><li>12</li></ol>\n"
      ],
      "text/latex": [
       "\\begin{enumerate*}\n",
       "\\item 296797\n",
       "\\item 12\n",
       "\\end{enumerate*}\n"
      ],
      "text/markdown": [
       "1. 296797\n",
       "2. 12\n",
       "\n",
       "\n"
      ],
      "text/plain": [
       "[1] 296797     12"
      ]
     },
     "metadata": {},
     "output_type": "display_data"
    },
    {
     "name": "stdout",
     "output_type": "stream",
     "text": [
      "\n"
     ]
    },
    {
     "data": {
      "text/html": [
       "<style>\n",
       ".list-inline {list-style: none; margin:0; padding: 0}\n",
       ".list-inline>li {display: inline-block}\n",
       ".list-inline>li:not(:last-child)::after {content: \"\\00b7\"; padding: 0 .5ex}\n",
       "</style>\n",
       "<ol class=list-inline><li>221470</li><li>12</li></ol>\n"
      ],
      "text/latex": [
       "\\begin{enumerate*}\n",
       "\\item 221470\n",
       "\\item 12\n",
       "\\end{enumerate*}\n"
      ],
      "text/markdown": [
       "1. 221470\n",
       "2. 12\n",
       "\n",
       "\n"
      ],
      "text/plain": [
       "[1] 221470     12"
      ]
     },
     "metadata": {},
     "output_type": "display_data"
    },
    {
     "data": {
      "text/html": [
       "<style>\n",
       ".list-inline {list-style: none; margin:0; padding: 0}\n",
       ".list-inline>li {display: inline-block}\n",
       ".list-inline>li:not(:last-child)::after {content: \"\\00b7\"; padding: 0 .5ex}\n",
       "</style>\n",
       "<ol class=list-inline><li>55117</li><li>12</li></ol>\n"
      ],
      "text/latex": [
       "\\begin{enumerate*}\n",
       "\\item 55117\n",
       "\\item 12\n",
       "\\end{enumerate*}\n"
      ],
      "text/markdown": [
       "1. 55117\n",
       "2. 12\n",
       "\n",
       "\n"
      ],
      "text/plain": [
       "[1] 55117    12"
      ]
     },
     "metadata": {},
     "output_type": "display_data"
    },
    {
     "name": "stdout",
     "output_type": "stream",
     "text": [
      "\n"
     ]
    },
    {
     "data": {
      "text/html": [
       "<style>\n",
       ".list-inline {list-style: none; margin:0; padding: 0}\n",
       ".list-inline>li {display: inline-block}\n",
       ".list-inline>li:not(:last-child)::after {content: \"\\00b7\"; padding: 0 .5ex}\n",
       "</style>\n",
       "<ol class=list-inline><li>0.186383336839891</li><li>1</li></ol>\n"
      ],
      "text/latex": [
       "\\begin{enumerate*}\n",
       "\\item 0.186383336839891\n",
       "\\item 1\n",
       "\\end{enumerate*}\n"
      ],
      "text/markdown": [
       "1. 0.186383336839891\n",
       "2. 1\n",
       "\n",
       "\n"
      ],
      "text/plain": [
       "[1] 0.1863833 1.0000000"
      ]
     },
     "metadata": {},
     "output_type": "display_data"
    },
    {
     "data": {
      "text/html": [
       "<style>\n",
       ".list-inline {list-style: none; margin:0; padding: 0}\n",
       ".list-inline>li {display: inline-block}\n",
       ".list-inline>li:not(:last-child)::after {content: \"\\00b7\"; padding: 0 .5ex}\n",
       "</style>\n",
       "<ol class=list-inline><li>0.18570605498034</li><li>1</li></ol>\n"
      ],
      "text/latex": [
       "\\begin{enumerate*}\n",
       "\\item 0.18570605498034\n",
       "\\item 1\n",
       "\\end{enumerate*}\n"
      ],
      "text/markdown": [
       "1. 0.18570605498034\n",
       "2. 1\n",
       "\n",
       "\n"
      ],
      "text/plain": [
       "[1] 0.1857061 1.0000000"
      ]
     },
     "metadata": {},
     "output_type": "display_data"
    }
   ],
   "source": [
    "# RF \n",
    "\n",
    "# subset data\n",
    "\n",
    "dim(expiry_train_df_sub)\n",
    "dim(expiry_test_df_sub)\n",
    "cat('\\n')\n",
    "\n",
    "expiry_train_df_sub_reg <- expiry_train_df_sub %>% filter(registrar==reg_name)\n",
    "expiry_test_df_sub_reg <- expiry_test_df_sub %>% filter(registrar==reg_name)\n",
    "\n",
    "\n",
    "dim(expiry_train_df_sub_reg)\n",
    "dim(expiry_test_df_sub_reg)\n",
    "cat('\\n')\n",
    "\n",
    "\n",
    "dim(expiry_train_df_sub_reg)/dim(expiry_train_df_sub)\n",
    "dim(expiry_test_df_sub_reg)/dim(expiry_test_df_sub)\n",
    "\n",
    "# train & test RF\n",
    "ranger_03_reg <- ranger(\n",
    "    formula         = renewal_status ~ ., \n",
    "    data            = expiry_test_df_sub_reg, \n",
    "    importance = 'impurity', \n",
    "    num.trees       = 1000,\n",
    "    probability = TRUE,\n",
    "    mtry            = 3,\n",
    "    min.node.size   = 10,\n",
    "    replace = FALSE,\n",
    "    sample.fraction = .8,\n",
    "    seed            = 123\n",
    ")\n",
    "\n",
    "ranger_predict_03_reg <- predict(ranger_03_reg, \n",
    "                          data = expiry_test_df_sub_reg,\n",
    "                          type=\"response\")$predictions\n",
    "\n",
    "ranger_predict_03_reg <- as.data.frame(ranger_predict_03_reg)$Renewed\n",
    "\n",
    "ranger_03_pred_df_reg = data.frame(\"actual\" = expiry_test_df_sub_reg$renewal_status,\n",
    "          \"predicted\" = ranger_predict_03_reg)\n",
    "\n",
    "lift_df_ranger_03_reg <- chart_lift(pred_df = ranger_03_pred_df_reg,\n",
    "                        dep_var = \"actual\",\n",
    "                        pred_var = \"predicted\")\n",
    "\n",
    "gains_plot_ranger_03_reg <- plot_gains (lift_df_ranger_03_reg) \n",
    "\n",
    "auc_ranger_03_reg <- calc_auc(lift_df_ranger_03_reg)\n",
    "\n",
    "# save(ranger_03_reg, file=\"../../data/output/ranger_03_reg\")\n",
    "# save(ranger_predict_03_reg, \n",
    "#      file=\"../../data/output/ranger_predict_03_reg\")\n",
    "# saveRDS(lift_df_ranger_03_reg, file.path('../../data/output/',\"lift_df_ranger_03_reg\"))\n",
    "\n"
   ]
  },
  {
   "cell_type": "code",
   "execution_count": 38,
   "metadata": {},
   "outputs": [
    {
     "data": {
      "text/html": [
       "<style>\n",
       ".list-inline {list-style: none; margin:0; padding: 0}\n",
       ".list-inline>li {display: inline-block}\n",
       ".list-inline>li:not(:last-child)::after {content: \"\\00b7\"; padding: 0 .5ex}\n",
       "</style>\n",
       "<ol class=list-inline><li>296797</li><li>40</li></ol>\n"
      ],
      "text/latex": [
       "\\begin{enumerate*}\n",
       "\\item 296797\n",
       "\\item 40\n",
       "\\end{enumerate*}\n"
      ],
      "text/markdown": [
       "1. 296797\n",
       "2. 40\n",
       "\n",
       "\n"
      ],
      "text/plain": [
       "[1] 296797     40"
      ]
     },
     "metadata": {},
     "output_type": "display_data"
    },
    {
     "name": "stdout",
     "output_type": "stream",
     "text": [
      "\n"
     ]
    },
    {
     "data": {
      "text/html": [
       "<style>\n",
       ".list-inline {list-style: none; margin:0; padding: 0}\n",
       ".list-inline>li {display: inline-block}\n",
       ".list-inline>li:not(:last-child)::after {content: \"\\00b7\"; padding: 0 .5ex}\n",
       "</style>\n",
       "<ol class=list-inline><li>55117</li><li>40</li></ol>\n"
      ],
      "text/latex": [
       "\\begin{enumerate*}\n",
       "\\item 55117\n",
       "\\item 40\n",
       "\\end{enumerate*}\n"
      ],
      "text/markdown": [
       "1. 55117\n",
       "2. 40\n",
       "\n",
       "\n"
      ],
      "text/plain": [
       "[1] 55117    40"
      ]
     },
     "metadata": {},
     "output_type": "display_data"
    },
    {
     "name": "stdout",
     "output_type": "stream",
     "text": [
      "\n"
     ]
    },
    {
     "data": {
      "text/html": [
       "<style>\n",
       ".list-inline {list-style: none; margin:0; padding: 0}\n",
       ".list-inline>li {display: inline-block}\n",
       ".list-inline>li:not(:last-child)::after {content: \"\\00b7\"; padding: 0 .5ex}\n",
       "</style>\n",
       "<ol class=list-inline><li>0.18570605498034</li><li>1</li></ol>\n"
      ],
      "text/latex": [
       "\\begin{enumerate*}\n",
       "\\item 0.18570605498034\n",
       "\\item 1\n",
       "\\end{enumerate*}\n"
      ],
      "text/markdown": [
       "1. 0.18570605498034\n",
       "2. 1\n",
       "\n",
       "\n"
      ],
      "text/plain": [
       "[1] 0.1857061 1.0000000"
      ]
     },
     "metadata": {},
     "output_type": "display_data"
    }
   ],
   "source": [
    "# seg_glm\n",
    "\n",
    "# subset data\n",
    "\n",
    "dim(seg_glm_expiry_exptest)\n",
    "cat('\\n')\n",
    "\n",
    "seg_glm_expiry_exptest_reg <-seg_glm_expiry_exptest %>% filter(registrar==reg_name)\n",
    "\n",
    "\n",
    "dim(seg_glm_expiry_exptest_reg)\n",
    "cat('\\n')\n",
    "\n",
    "\n",
    "dim(seg_glm_expiry_exptest_reg)/dim(seg_glm_expiry_exptest)\n",
    "\n",
    "\n",
    "\n",
    "seg_glm_expiry_exptest_pred_df_reg = data.frame(\"actual\" = seg_glm_expiry_exptest_reg$renewal_status,\n",
    "          \"predicted\" = seg_glm_expiry_exptest_reg$first_renewal_prediction)\n",
    "\n",
    "lift_df_seg_glm_expiry_exptest_reg <- chart_lift(pred_df = seg_glm_expiry_exptest_pred_df_reg,\n",
    "                        dep_var = \"actual\",\n",
    "                        pred_var = \"predicted\")\n",
    "\n",
    "gains_plot_seg_glm_expiry_exptest_reg <- plot_gains (lift_df_seg_glm_expiry_exptest_reg) \n",
    "\n",
    "auc_seg_glm_expiry_exptest_reg<- calc_auc(lift_df_seg_glm_expiry_exptest_reg)\n",
    "\n",
    "\n",
    "# saveRDS(lift_df_seg_glm_expiry_exptest, file.path('../../data/output/',\"lift_df_seg_glm_expiry_exptest\"))"
   ]
  },
  {
   "cell_type": "code",
   "execution_count": 39,
   "metadata": {},
   "outputs": [
    {
     "data": {
      "text/plain": [
       "\n",
       "   Renewed Not Renewd \n",
       "0.06038064 0.93961936 "
      ]
     },
     "metadata": {},
     "output_type": "display_data"
    }
   ],
   "source": [
    "prop.table(table(seg_glm_expiry_exptest_reg$renewal_status))"
   ]
  },
  {
   "cell_type": "code",
   "execution_count": 42,
   "metadata": {},
   "outputs": [
    {
     "data": {
      "text/html": [
       "0.0603806448101312"
      ],
      "text/latex": [
       "0.0603806448101312"
      ],
      "text/markdown": [
       "0.0603806448101312"
      ],
      "text/plain": [
       "[1] 0.06038064"
      ]
     },
     "metadata": {},
     "output_type": "display_data"
    }
   ],
   "source": [
    "prop_positive = prop.table(table(seg_glm_expiry_exptest_reg$renewal_status))[[1]]\n",
    "prop_positive"
   ]
  },
  {
   "cell_type": "code",
   "execution_count": 45,
   "metadata": {},
   "outputs": [
    {
     "data": {
      "image/png": "[encoded data removed]",
      "text/plain": [
       "plot without title"
      ]
     },
     "metadata": {
      "image/png": {
       "height": 420,
       "width": 420
      },
      "text/plain": {
       "height": 420,
       "width": 420
      }
     },
     "output_type": "display_data"
    }
   ],
   "source": [
    "plot_multigains_reg <- plot_multigains(\n",
    "    lift_df_list=list(\n",
    "        rf_reg = lift_df_ranger_03_reg,\n",
    "        seg_reg = lift_df_seg_glm_expiry_exptest_reg),\n",
    "    auc_list = list(\n",
    "        rf_reg= calc_auc(lift_df_ranger_03_reg),\n",
    "        seg_reg= calc_auc(lift_df_seg_glm_expiry_exptest_reg)),\n",
    "    prop_positive = prop_positive)\n",
    "# png(file = \"../../data/output/plot_multigains_03_summ4.png\",\n",
    "#     width = 500, height = 375)\n",
    "plot(plot_multigains_reg + \n",
    "      annotate(\"text\", x = .15, y = .3, hjust = 0, label=reg_name, size = 24))\n",
    "# dev.off()"
   ]
  },
  {
   "cell_type": "markdown",
   "metadata": {},
   "source": [
    "# Uno Mas!"
   ]
  },
  {
   "cell_type": "code",
   "execution_count": 46,
   "metadata": {},
   "outputs": [],
   "source": [
    "reg_name='alibaba'"
   ]
  },
  {
   "cell_type": "code",
   "execution_count": 47,
   "metadata": {},
   "outputs": [
    {
     "data": {
      "text/html": [
       "<style>\n",
       ".list-inline {list-style: none; margin:0; padding: 0}\n",
       ".list-inline>li {display: inline-block}\n",
       ".list-inline>li:not(:last-child)::after {content: \"\\00b7\"; padding: 0 .5ex}\n",
       "</style>\n",
       "<ol class=list-inline><li>1188250</li><li>12</li></ol>\n"
      ],
      "text/latex": [
       "\\begin{enumerate*}\n",
       "\\item 1188250\n",
       "\\item 12\n",
       "\\end{enumerate*}\n"
      ],
      "text/markdown": [
       "1. 1188250\n",
       "2. 12\n",
       "\n",
       "\n"
      ],
      "text/plain": [
       "[1] 1188250      12"
      ]
     },
     "metadata": {},
     "output_type": "display_data"
    },
    {
     "data": {
      "text/html": [
       "<style>\n",
       ".list-inline {list-style: none; margin:0; padding: 0}\n",
       ".list-inline>li {display: inline-block}\n",
       ".list-inline>li:not(:last-child)::after {content: \"\\00b7\"; padding: 0 .5ex}\n",
       "</style>\n",
       "<ol class=list-inline><li>296797</li><li>12</li></ol>\n"
      ],
      "text/latex": [
       "\\begin{enumerate*}\n",
       "\\item 296797\n",
       "\\item 12\n",
       "\\end{enumerate*}\n"
      ],
      "text/markdown": [
       "1. 296797\n",
       "2. 12\n",
       "\n",
       "\n"
      ],
      "text/plain": [
       "[1] 296797     12"
      ]
     },
     "metadata": {},
     "output_type": "display_data"
    },
    {
     "name": "stdout",
     "output_type": "stream",
     "text": [
      "\n"
     ]
    },
    {
     "data": {
      "text/html": [
       "<style>\n",
       ".list-inline {list-style: none; margin:0; padding: 0}\n",
       ".list-inline>li {display: inline-block}\n",
       ".list-inline>li:not(:last-child)::after {content: \"\\00b7\"; padding: 0 .5ex}\n",
       "</style>\n",
       "<ol class=list-inline><li>123060</li><li>12</li></ol>\n"
      ],
      "text/latex": [
       "\\begin{enumerate*}\n",
       "\\item 123060\n",
       "\\item 12\n",
       "\\end{enumerate*}\n"
      ],
      "text/markdown": [
       "1. 123060\n",
       "2. 12\n",
       "\n",
       "\n"
      ],
      "text/plain": [
       "[1] 123060     12"
      ]
     },
     "metadata": {},
     "output_type": "display_data"
    },
    {
     "data": {
      "text/html": [
       "<style>\n",
       ".list-inline {list-style: none; margin:0; padding: 0}\n",
       ".list-inline>li {display: inline-block}\n",
       ".list-inline>li:not(:last-child)::after {content: \"\\00b7\"; padding: 0 .5ex}\n",
       "</style>\n",
       "<ol class=list-inline><li>30567</li><li>12</li></ol>\n"
      ],
      "text/latex": [
       "\\begin{enumerate*}\n",
       "\\item 30567\n",
       "\\item 12\n",
       "\\end{enumerate*}\n"
      ],
      "text/markdown": [
       "1. 30567\n",
       "2. 12\n",
       "\n",
       "\n"
      ],
      "text/plain": [
       "[1] 30567    12"
      ]
     },
     "metadata": {},
     "output_type": "display_data"
    },
    {
     "name": "stdout",
     "output_type": "stream",
     "text": [
      "\n"
     ]
    },
    {
     "data": {
      "text/html": [
       "<style>\n",
       ".list-inline {list-style: none; margin:0; padding: 0}\n",
       ".list-inline>li {display: inline-block}\n",
       ".list-inline>li:not(:last-child)::after {content: \"\\00b7\"; padding: 0 .5ex}\n",
       "</style>\n",
       "<ol class=list-inline><li>0.103564064801178</li><li>1</li></ol>\n"
      ],
      "text/latex": [
       "\\begin{enumerate*}\n",
       "\\item 0.103564064801178\n",
       "\\item 1\n",
       "\\end{enumerate*}\n"
      ],
      "text/markdown": [
       "1. 0.103564064801178\n",
       "2. 1\n",
       "\n",
       "\n"
      ],
      "text/plain": [
       "[1] 0.1035641 1.0000000"
      ]
     },
     "metadata": {},
     "output_type": "display_data"
    },
    {
     "data": {
      "text/html": [
       "<style>\n",
       ".list-inline {list-style: none; margin:0; padding: 0}\n",
       ".list-inline>li {display: inline-block}\n",
       ".list-inline>li:not(:last-child)::after {content: \"\\00b7\"; padding: 0 .5ex}\n",
       "</style>\n",
       "<ol class=list-inline><li>0.102989585474247</li><li>1</li></ol>\n"
      ],
      "text/latex": [
       "\\begin{enumerate*}\n",
       "\\item 0.102989585474247\n",
       "\\item 1\n",
       "\\end{enumerate*}\n"
      ],
      "text/markdown": [
       "1. 0.102989585474247\n",
       "2. 1\n",
       "\n",
       "\n"
      ],
      "text/plain": [
       "[1] 0.1029896 1.0000000"
      ]
     },
     "metadata": {},
     "output_type": "display_data"
    }
   ],
   "source": [
    "# RF \n",
    "\n",
    "# subset data\n",
    "\n",
    "dim(expiry_train_df_sub)\n",
    "dim(expiry_test_df_sub)\n",
    "cat('\\n')\n",
    "\n",
    "expiry_train_df_sub_reg <- expiry_train_df_sub %>% filter(registrar==reg_name)\n",
    "expiry_test_df_sub_reg <- expiry_test_df_sub %>% filter(registrar==reg_name)\n",
    "\n",
    "\n",
    "dim(expiry_train_df_sub_reg)\n",
    "dim(expiry_test_df_sub_reg)\n",
    "cat('\\n')\n",
    "\n",
    "\n",
    "dim(expiry_train_df_sub_reg)/dim(expiry_train_df_sub)\n",
    "dim(expiry_test_df_sub_reg)/dim(expiry_test_df_sub)\n",
    "\n",
    "# train & test RF\n",
    "ranger_03_reg <- ranger(\n",
    "    formula         = renewal_status ~ ., \n",
    "    data            = expiry_test_df_sub_reg, \n",
    "    importance = 'impurity', \n",
    "    num.trees       = 1000,\n",
    "    probability = TRUE,\n",
    "    mtry            = 3,\n",
    "    min.node.size   = 10,\n",
    "    replace = FALSE,\n",
    "    sample.fraction = .8,\n",
    "    seed            = 123\n",
    ")\n",
    "\n",
    "ranger_predict_03_reg <- predict(ranger_03_reg, \n",
    "                          data = expiry_test_df_sub_reg,\n",
    "                          type=\"response\")$predictions\n",
    "\n",
    "ranger_predict_03_reg <- as.data.frame(ranger_predict_03_reg)$Renewed\n",
    "\n",
    "ranger_03_pred_df_reg = data.frame(\"actual\" = expiry_test_df_sub_reg$renewal_status,\n",
    "          \"predicted\" = ranger_predict_03_reg)\n",
    "\n",
    "lift_df_ranger_03_reg <- chart_lift(pred_df = ranger_03_pred_df_reg,\n",
    "                        dep_var = \"actual\",\n",
    "                        pred_var = \"predicted\")\n",
    "\n",
    "gains_plot_ranger_03_reg <- plot_gains (lift_df_ranger_03_reg) \n",
    "\n",
    "auc_ranger_03_reg <- calc_auc(lift_df_ranger_03_reg)\n",
    "\n",
    "# save(ranger_03_reg, file=\"../../data/output/ranger_03_reg\")\n",
    "# save(ranger_predict_03_reg, \n",
    "#      file=\"../../data/output/ranger_predict_03_reg\")\n",
    "# saveRDS(lift_df_ranger_03_reg, file.path('../../data/output/',\"lift_df_ranger_03_reg\"))\n",
    "\n"
   ]
  },
  {
   "cell_type": "code",
   "execution_count": 48,
   "metadata": {},
   "outputs": [
    {
     "data": {
      "text/html": [
       "<style>\n",
       ".list-inline {list-style: none; margin:0; padding: 0}\n",
       ".list-inline>li {display: inline-block}\n",
       ".list-inline>li:not(:last-child)::after {content: \"\\00b7\"; padding: 0 .5ex}\n",
       "</style>\n",
       "<ol class=list-inline><li>296797</li><li>40</li></ol>\n"
      ],
      "text/latex": [
       "\\begin{enumerate*}\n",
       "\\item 296797\n",
       "\\item 40\n",
       "\\end{enumerate*}\n"
      ],
      "text/markdown": [
       "1. 296797\n",
       "2. 40\n",
       "\n",
       "\n"
      ],
      "text/plain": [
       "[1] 296797     40"
      ]
     },
     "metadata": {},
     "output_type": "display_data"
    },
    {
     "name": "stdout",
     "output_type": "stream",
     "text": [
      "\n"
     ]
    },
    {
     "data": {
      "text/html": [
       "<style>\n",
       ".list-inline {list-style: none; margin:0; padding: 0}\n",
       ".list-inline>li {display: inline-block}\n",
       ".list-inline>li:not(:last-child)::after {content: \"\\00b7\"; padding: 0 .5ex}\n",
       "</style>\n",
       "<ol class=list-inline><li>30567</li><li>40</li></ol>\n"
      ],
      "text/latex": [
       "\\begin{enumerate*}\n",
       "\\item 30567\n",
       "\\item 40\n",
       "\\end{enumerate*}\n"
      ],
      "text/markdown": [
       "1. 30567\n",
       "2. 40\n",
       "\n",
       "\n"
      ],
      "text/plain": [
       "[1] 30567    40"
      ]
     },
     "metadata": {},
     "output_type": "display_data"
    },
    {
     "name": "stdout",
     "output_type": "stream",
     "text": [
      "\n"
     ]
    },
    {
     "data": {
      "text/html": [
       "<style>\n",
       ".list-inline {list-style: none; margin:0; padding: 0}\n",
       ".list-inline>li {display: inline-block}\n",
       ".list-inline>li:not(:last-child)::after {content: \"\\00b7\"; padding: 0 .5ex}\n",
       "</style>\n",
       "<ol class=list-inline><li>0.102989585474247</li><li>1</li></ol>\n"
      ],
      "text/latex": [
       "\\begin{enumerate*}\n",
       "\\item 0.102989585474247\n",
       "\\item 1\n",
       "\\end{enumerate*}\n"
      ],
      "text/markdown": [
       "1. 0.102989585474247\n",
       "2. 1\n",
       "\n",
       "\n"
      ],
      "text/plain": [
       "[1] 0.1029896 1.0000000"
      ]
     },
     "metadata": {},
     "output_type": "display_data"
    }
   ],
   "source": [
    "# seg_glm\n",
    "\n",
    "# subset data\n",
    "\n",
    "dim(seg_glm_expiry_exptest)\n",
    "cat('\\n')\n",
    "\n",
    "seg_glm_expiry_exptest_reg <-seg_glm_expiry_exptest %>% filter(registrar==reg_name)\n",
    "\n",
    "\n",
    "dim(seg_glm_expiry_exptest_reg)\n",
    "cat('\\n')\n",
    "\n",
    "\n",
    "dim(seg_glm_expiry_exptest_reg)/dim(seg_glm_expiry_exptest)\n",
    "\n",
    "\n",
    "\n",
    "seg_glm_expiry_exptest_pred_df_reg = data.frame(\"actual\" = seg_glm_expiry_exptest_reg$renewal_status,\n",
    "          \"predicted\" = seg_glm_expiry_exptest_reg$first_renewal_prediction)\n",
    "\n",
    "lift_df_seg_glm_expiry_exptest_reg <- chart_lift(pred_df = seg_glm_expiry_exptest_pred_df_reg,\n",
    "                        dep_var = \"actual\",\n",
    "                        pred_var = \"predicted\")\n",
    "\n",
    "gains_plot_seg_glm_expiry_exptest_reg <- plot_gains (lift_df_seg_glm_expiry_exptest_reg) \n",
    "\n",
    "auc_seg_glm_expiry_exptest_reg<- calc_auc(lift_df_seg_glm_expiry_exptest_reg)\n",
    "\n",
    "\n",
    "# saveRDS(lift_df_seg_glm_expiry_exptest, file.path('../../data/output/',\"lift_df_seg_glm_expiry_exptest\"))"
   ]
  },
  {
   "cell_type": "code",
   "execution_count": 49,
   "metadata": {},
   "outputs": [
    {
     "data": {
      "text/plain": [
       "\n",
       "   Renewed Not Renewd \n",
       " 0.0341872  0.9658128 "
      ]
     },
     "metadata": {},
     "output_type": "display_data"
    }
   ],
   "source": [
    "prop.table(table(seg_glm_expiry_exptest_reg$renewal_status))"
   ]
  },
  {
   "cell_type": "code",
   "execution_count": 50,
   "metadata": {},
   "outputs": [
    {
     "data": {
      "text/html": [
       "0.0341871953413812"
      ],
      "text/latex": [
       "0.0341871953413812"
      ],
      "text/markdown": [
       "0.0341871953413812"
      ],
      "text/plain": [
       "[1] 0.0341872"
      ]
     },
     "metadata": {},
     "output_type": "display_data"
    }
   ],
   "source": [
    "prop_positive = prop.table(table(seg_glm_expiry_exptest_reg$renewal_status))[[1]]\n",
    "prop_positive"
   ]
  },
  {
   "cell_type": "code",
   "execution_count": 51,
   "metadata": {},
   "outputs": [
    {
     "data": {
      "image/png": "[encoded data removed]",
      "text/plain": [
       "plot without title"
      ]
     },
     "metadata": {
      "image/png": {
       "height": 420,
       "width": 420
      },
      "text/plain": {
       "height": 420,
       "width": 420
      }
     },
     "output_type": "display_data"
    }
   ],
   "source": [
    "plot_multigains_reg <- plot_multigains(\n",
    "    lift_df_list=list(\n",
    "        rf_reg = lift_df_ranger_03_reg,\n",
    "        seg_reg = lift_df_seg_glm_expiry_exptest_reg),\n",
    "    auc_list = list(\n",
    "        rf_reg= calc_auc(lift_df_ranger_03_reg),\n",
    "        seg_reg= calc_auc(lift_df_seg_glm_expiry_exptest_reg)),\n",
    "    prop_positive = prop_positive)\n",
    "# png(file = \"../../data/output/plot_multigains_03_summ4.png\",\n",
    "#     width = 500, height = 375)\n",
    "plot(plot_multigains_reg + \n",
    "      annotate(\"text\", x = .15, y = .3, hjust = 0, label=reg_name, size = 24))\n",
    "# dev.off()"
   ]
  },
  {
   "cell_type": "markdown",
   "metadata": {},
   "source": [
    "# And then? No and then!"
   ]
  },
  {
   "cell_type": "code",
   "execution_count": 52,
   "metadata": {},
   "outputs": [],
   "source": [
    "reg_name='go daddy'"
   ]
  },
  {
   "cell_type": "code",
   "execution_count": 53,
   "metadata": {},
   "outputs": [
    {
     "data": {
      "text/html": [
       "<style>\n",
       ".list-inline {list-style: none; margin:0; padding: 0}\n",
       ".list-inline>li {display: inline-block}\n",
       ".list-inline>li:not(:last-child)::after {content: \"\\00b7\"; padding: 0 .5ex}\n",
       "</style>\n",
       "<ol class=list-inline><li>1188250</li><li>12</li></ol>\n"
      ],
      "text/latex": [
       "\\begin{enumerate*}\n",
       "\\item 1188250\n",
       "\\item 12\n",
       "\\end{enumerate*}\n"
      ],
      "text/markdown": [
       "1. 1188250\n",
       "2. 12\n",
       "\n",
       "\n"
      ],
      "text/plain": [
       "[1] 1188250      12"
      ]
     },
     "metadata": {},
     "output_type": "display_data"
    },
    {
     "data": {
      "text/html": [
       "<style>\n",
       ".list-inline {list-style: none; margin:0; padding: 0}\n",
       ".list-inline>li {display: inline-block}\n",
       ".list-inline>li:not(:last-child)::after {content: \"\\00b7\"; padding: 0 .5ex}\n",
       "</style>\n",
       "<ol class=list-inline><li>296797</li><li>12</li></ol>\n"
      ],
      "text/latex": [
       "\\begin{enumerate*}\n",
       "\\item 296797\n",
       "\\item 12\n",
       "\\end{enumerate*}\n"
      ],
      "text/markdown": [
       "1. 296797\n",
       "2. 12\n",
       "\n",
       "\n"
      ],
      "text/plain": [
       "[1] 296797     12"
      ]
     },
     "metadata": {},
     "output_type": "display_data"
    },
    {
     "name": "stdout",
     "output_type": "stream",
     "text": [
      "\n"
     ]
    },
    {
     "data": {
      "text/html": [
       "<style>\n",
       ".list-inline {list-style: none; margin:0; padding: 0}\n",
       ".list-inline>li {display: inline-block}\n",
       ".list-inline>li:not(:last-child)::after {content: \"\\00b7\"; padding: 0 .5ex}\n",
       "</style>\n",
       "<ol class=list-inline><li>108988</li><li>12</li></ol>\n"
      ],
      "text/latex": [
       "\\begin{enumerate*}\n",
       "\\item 108988\n",
       "\\item 12\n",
       "\\end{enumerate*}\n"
      ],
      "text/markdown": [
       "1. 108988\n",
       "2. 12\n",
       "\n",
       "\n"
      ],
      "text/plain": [
       "[1] 108988     12"
      ]
     },
     "metadata": {},
     "output_type": "display_data"
    },
    {
     "data": {
      "text/html": [
       "<style>\n",
       ".list-inline {list-style: none; margin:0; padding: 0}\n",
       ".list-inline>li {display: inline-block}\n",
       ".list-inline>li:not(:last-child)::after {content: \"\\00b7\"; padding: 0 .5ex}\n",
       "</style>\n",
       "<ol class=list-inline><li>27537</li><li>12</li></ol>\n"
      ],
      "text/latex": [
       "\\begin{enumerate*}\n",
       "\\item 27537\n",
       "\\item 12\n",
       "\\end{enumerate*}\n"
      ],
      "text/markdown": [
       "1. 27537\n",
       "2. 12\n",
       "\n",
       "\n"
      ],
      "text/plain": [
       "[1] 27537    12"
      ]
     },
     "metadata": {},
     "output_type": "display_data"
    },
    {
     "name": "stdout",
     "output_type": "stream",
     "text": [
      "\n"
     ]
    },
    {
     "data": {
      "text/html": [
       "<style>\n",
       ".list-inline {list-style: none; margin:0; padding: 0}\n",
       ".list-inline>li {display: inline-block}\n",
       ".list-inline>li:not(:last-child)::after {content: \"\\00b7\"; padding: 0 .5ex}\n",
       "</style>\n",
       "<ol class=list-inline><li>0.0917214390911004</li><li>1</li></ol>\n"
      ],
      "text/latex": [
       "\\begin{enumerate*}\n",
       "\\item 0.0917214390911004\n",
       "\\item 1\n",
       "\\end{enumerate*}\n"
      ],
      "text/markdown": [
       "1. 0.0917214390911004\n",
       "2. 1\n",
       "\n",
       "\n"
      ],
      "text/plain": [
       "[1] 0.09172144 1.00000000"
      ]
     },
     "metadata": {},
     "output_type": "display_data"
    },
    {
     "data": {
      "text/html": [
       "<style>\n",
       ".list-inline {list-style: none; margin:0; padding: 0}\n",
       ".list-inline>li {display: inline-block}\n",
       ".list-inline>li:not(:last-child)::after {content: \"\\00b7\"; padding: 0 .5ex}\n",
       "</style>\n",
       "<ol class=list-inline><li>0.0927805874048592</li><li>1</li></ol>\n"
      ],
      "text/latex": [
       "\\begin{enumerate*}\n",
       "\\item 0.0927805874048592\n",
       "\\item 1\n",
       "\\end{enumerate*}\n"
      ],
      "text/markdown": [
       "1. 0.0927805874048592\n",
       "2. 1\n",
       "\n",
       "\n"
      ],
      "text/plain": [
       "[1] 0.09278059 1.00000000"
      ]
     },
     "metadata": {},
     "output_type": "display_data"
    }
   ],
   "source": [
    "# RF \n",
    "\n",
    "# subset data\n",
    "\n",
    "dim(expiry_train_df_sub)\n",
    "dim(expiry_test_df_sub)\n",
    "cat('\\n')\n",
    "\n",
    "expiry_train_df_sub_reg <- expiry_train_df_sub %>% filter(registrar==reg_name)\n",
    "expiry_test_df_sub_reg <- expiry_test_df_sub %>% filter(registrar==reg_name)\n",
    "\n",
    "\n",
    "dim(expiry_train_df_sub_reg)\n",
    "dim(expiry_test_df_sub_reg)\n",
    "cat('\\n')\n",
    "\n",
    "\n",
    "dim(expiry_train_df_sub_reg)/dim(expiry_train_df_sub)\n",
    "dim(expiry_test_df_sub_reg)/dim(expiry_test_df_sub)\n",
    "\n",
    "# train & test RF\n",
    "ranger_03_reg <- ranger(\n",
    "    formula         = renewal_status ~ ., \n",
    "    data            = expiry_test_df_sub_reg, \n",
    "    importance = 'impurity', \n",
    "    num.trees       = 1000,\n",
    "    probability = TRUE,\n",
    "    mtry            = 3,\n",
    "    min.node.size   = 10,\n",
    "    replace = FALSE,\n",
    "    sample.fraction = .8,\n",
    "    seed            = 123\n",
    ")\n",
    "\n",
    "ranger_predict_03_reg <- predict(ranger_03_reg, \n",
    "                          data = expiry_test_df_sub_reg,\n",
    "                          type=\"response\")$predictions\n",
    "\n",
    "ranger_predict_03_reg <- as.data.frame(ranger_predict_03_reg)$Renewed\n",
    "\n",
    "ranger_03_pred_df_reg = data.frame(\"actual\" = expiry_test_df_sub_reg$renewal_status,\n",
    "          \"predicted\" = ranger_predict_03_reg)\n",
    "\n",
    "lift_df_ranger_03_reg <- chart_lift(pred_df = ranger_03_pred_df_reg,\n",
    "                        dep_var = \"actual\",\n",
    "                        pred_var = \"predicted\")\n",
    "\n",
    "gains_plot_ranger_03_reg <- plot_gains (lift_df_ranger_03_reg) \n",
    "\n",
    "auc_ranger_03_reg <- calc_auc(lift_df_ranger_03_reg)\n",
    "\n",
    "# save(ranger_03_reg, file=\"../../data/output/ranger_03_reg\")\n",
    "# save(ranger_predict_03_reg, \n",
    "#      file=\"../../data/output/ranger_predict_03_reg\")\n",
    "# saveRDS(lift_df_ranger_03_reg, file.path('../../data/output/',\"lift_df_ranger_03_reg\"))\n",
    "\n"
   ]
  },
  {
   "cell_type": "code",
   "execution_count": 62,
   "metadata": {},
   "outputs": [
    {
     "data": {
      "text/html": [
       "<table>\n",
       "<caption>A data.table: 6 × 12</caption>\n",
       "<thead>\n",
       "\t<tr><th scope=col>renewal_status</th><th scope=col>tld</th><th scope=col>registrar</th><th scope=col>reseller_country</th><th scope=col>region</th><th scope=col>reg_period</th><th scope=col>sld_type</th><th scope=col>sld_length</th><th scope=col>day_domains</th><th scope=col>gibb_score</th><th scope=col>pattern_domain_count</th><th scope=col>reg_arpt</th></tr>\n",
       "\t<tr><th scope=col>&lt;fct&gt;</th><th scope=col>&lt;fct&gt;</th><th scope=col>&lt;chr&gt;</th><th scope=col>&lt;chr&gt;</th><th scope=col>&lt;chr&gt;</th><th scope=col>&lt;int&gt;</th><th scope=col>&lt;fct&gt;</th><th scope=col>&lt;int&gt;</th><th scope=col>&lt;int&gt;</th><th scope=col>&lt;dbl&gt;</th><th scope=col>&lt;int&gt;</th><th scope=col>&lt;dbl&gt;</th></tr>\n",
       "</thead>\n",
       "<tbody>\n",
       "\t<tr><td>Renewed   </td><td>fun</td><td>go daddy</td><td>United States</td><td>Non China</td><td>3</td><td>l </td><td> 7</td><td>1</td><td>7.66</td><td>1</td><td>10.83</td></tr>\n",
       "\t<tr><td>Not Renewd</td><td>fun</td><td>go daddy</td><td>United States</td><td>Non China</td><td>2</td><td>l </td><td>14</td><td>1</td><td>3.74</td><td>1</td><td> 8.75</td></tr>\n",
       "\t<tr><td>Not Renewd</td><td>fun</td><td>go daddy</td><td>United States</td><td>Non China</td><td>2</td><td>l </td><td> 8</td><td>1</td><td>7.77</td><td>1</td><td> 8.75</td></tr>\n",
       "\t<tr><td>Renewed   </td><td>fun</td><td>go daddy</td><td>United States</td><td>Non China</td><td>2</td><td>l </td><td>13</td><td>1</td><td>5.42</td><td>1</td><td> 8.00</td></tr>\n",
       "\t<tr><td>Renewed   </td><td>fun</td><td>go daddy</td><td>United States</td><td>Non China</td><td>2</td><td>l </td><td> 6</td><td>1</td><td>5.32</td><td>1</td><td> 8.00</td></tr>\n",
       "\t<tr><td>Renewed   </td><td>fun</td><td>go daddy</td><td>United States</td><td>Non China</td><td>2</td><td>ln</td><td> 7</td><td>2</td><td>2.87</td><td>1</td><td> 8.00</td></tr>\n",
       "</tbody>\n",
       "</table>\n"
      ],
      "text/latex": [
       "A data.table: 6 × 12\n",
       "\\begin{tabular}{llllllllllll}\n",
       " renewal\\_status & tld & registrar & reseller\\_country & region & reg\\_period & sld\\_type & sld\\_length & day\\_domains & gibb\\_score & pattern\\_domain\\_count & reg\\_arpt\\\\\n",
       " <fct> & <fct> & <chr> & <chr> & <chr> & <int> & <fct> & <int> & <int> & <dbl> & <int> & <dbl>\\\\\n",
       "\\hline\n",
       "\t Renewed    & fun & go daddy & United States & Non China & 3 & l  &  7 & 1 & 7.66 & 1 & 10.83\\\\\n",
       "\t Not Renewd & fun & go daddy & United States & Non China & 2 & l  & 14 & 1 & 3.74 & 1 &  8.75\\\\\n",
       "\t Not Renewd & fun & go daddy & United States & Non China & 2 & l  &  8 & 1 & 7.77 & 1 &  8.75\\\\\n",
       "\t Renewed    & fun & go daddy & United States & Non China & 2 & l  & 13 & 1 & 5.42 & 1 &  8.00\\\\\n",
       "\t Renewed    & fun & go daddy & United States & Non China & 2 & l  &  6 & 1 & 5.32 & 1 &  8.00\\\\\n",
       "\t Renewed    & fun & go daddy & United States & Non China & 2 & ln &  7 & 2 & 2.87 & 1 &  8.00\\\\\n",
       "\\end{tabular}\n"
      ],
      "text/markdown": [
       "\n",
       "A data.table: 6 × 12\n",
       "\n",
       "| renewal_status &lt;fct&gt; | tld &lt;fct&gt; | registrar &lt;chr&gt; | reseller_country &lt;chr&gt; | region &lt;chr&gt; | reg_period &lt;int&gt; | sld_type &lt;fct&gt; | sld_length &lt;int&gt; | day_domains &lt;int&gt; | gibb_score &lt;dbl&gt; | pattern_domain_count &lt;int&gt; | reg_arpt &lt;dbl&gt; |\n",
       "|---|---|---|---|---|---|---|---|---|---|---|---|\n",
       "| Renewed    | fun | go daddy | United States | Non China | 3 | l  |  7 | 1 | 7.66 | 1 | 10.83 |\n",
       "| Not Renewd | fun | go daddy | United States | Non China | 2 | l  | 14 | 1 | 3.74 | 1 |  8.75 |\n",
       "| Not Renewd | fun | go daddy | United States | Non China | 2 | l  |  8 | 1 | 7.77 | 1 |  8.75 |\n",
       "| Renewed    | fun | go daddy | United States | Non China | 2 | l  | 13 | 1 | 5.42 | 1 |  8.00 |\n",
       "| Renewed    | fun | go daddy | United States | Non China | 2 | l  |  6 | 1 | 5.32 | 1 |  8.00 |\n",
       "| Renewed    | fun | go daddy | United States | Non China | 2 | ln |  7 | 2 | 2.87 | 1 |  8.00 |\n",
       "\n"
      ],
      "text/plain": [
       "  renewal_status tld registrar reseller_country region    reg_period sld_type\n",
       "1 Renewed        fun go daddy  United States    Non China 3          l       \n",
       "2 Not Renewd     fun go daddy  United States    Non China 2          l       \n",
       "3 Not Renewd     fun go daddy  United States    Non China 2          l       \n",
       "4 Renewed        fun go daddy  United States    Non China 2          l       \n",
       "5 Renewed        fun go daddy  United States    Non China 2          l       \n",
       "6 Renewed        fun go daddy  United States    Non China 2          ln      \n",
       "  sld_length day_domains gibb_score pattern_domain_count reg_arpt\n",
       "1  7         1           7.66       1                    10.83   \n",
       "2 14         1           3.74       1                     8.75   \n",
       "3  8         1           7.77       1                     8.75   \n",
       "4 13         1           5.42       1                     8.00   \n",
       "5  6         1           5.32       1                     8.00   \n",
       "6  7         2           2.87       1                     8.00   "
      ]
     },
     "metadata": {},
     "output_type": "display_data"
    }
   ],
   "source": [
    "head(expiry_test_df_sub_reg)"
   ]
  },
  {
   "cell_type": "code",
   "execution_count": 63,
   "metadata": {},
   "outputs": [
    {
     "data": {
      "text/html": [
       "<table>\n",
       "<caption>A data.table: 6 × 13</caption>\n",
       "<thead>\n",
       "\t<tr><th scope=col>renewal_status</th><th scope=col>tld</th><th scope=col>registrar</th><th scope=col>reseller_country</th><th scope=col>region</th><th scope=col>reg_period</th><th scope=col>sld_type</th><th scope=col>sld_length</th><th scope=col>day_domains</th><th scope=col>gibb_score</th><th scope=col>pattern_domain_count</th><th scope=col>reg_arpt</th><th scope=col>renewal_prediction</th></tr>\n",
       "\t<tr><th scope=col>&lt;fct&gt;</th><th scope=col>&lt;fct&gt;</th><th scope=col>&lt;chr&gt;</th><th scope=col>&lt;chr&gt;</th><th scope=col>&lt;chr&gt;</th><th scope=col>&lt;int&gt;</th><th scope=col>&lt;fct&gt;</th><th scope=col>&lt;int&gt;</th><th scope=col>&lt;int&gt;</th><th scope=col>&lt;dbl&gt;</th><th scope=col>&lt;int&gt;</th><th scope=col>&lt;dbl&gt;</th><th scope=col>&lt;dbl&gt;</th></tr>\n",
       "</thead>\n",
       "<tbody>\n",
       "\t<tr><td>Renewed   </td><td>fun</td><td>go daddy</td><td>United States</td><td>Non China</td><td>3</td><td>l </td><td> 7</td><td>1</td><td>7.66</td><td>1</td><td>10.83</td><td>0.6977748</td></tr>\n",
       "\t<tr><td>Not Renewd</td><td>fun</td><td>go daddy</td><td>United States</td><td>Non China</td><td>2</td><td>l </td><td>14</td><td>1</td><td>3.74</td><td>1</td><td> 8.75</td><td>0.3439872</td></tr>\n",
       "\t<tr><td>Not Renewd</td><td>fun</td><td>go daddy</td><td>United States</td><td>Non China</td><td>2</td><td>l </td><td> 8</td><td>1</td><td>7.77</td><td>1</td><td> 8.75</td><td>0.4405030</td></tr>\n",
       "\t<tr><td>Renewed   </td><td>fun</td><td>go daddy</td><td>United States</td><td>Non China</td><td>2</td><td>l </td><td>13</td><td>1</td><td>5.42</td><td>1</td><td> 8.00</td><td>0.4853910</td></tr>\n",
       "\t<tr><td>Renewed   </td><td>fun</td><td>go daddy</td><td>United States</td><td>Non China</td><td>2</td><td>l </td><td> 6</td><td>1</td><td>5.32</td><td>1</td><td> 8.00</td><td>0.6288842</td></tr>\n",
       "\t<tr><td>Renewed   </td><td>fun</td><td>go daddy</td><td>United States</td><td>Non China</td><td>2</td><td>ln</td><td> 7</td><td>2</td><td>2.87</td><td>1</td><td> 8.00</td><td>0.7380156</td></tr>\n",
       "</tbody>\n",
       "</table>\n"
      ],
      "text/latex": [
       "A data.table: 6 × 13\n",
       "\\begin{tabular}{lllllllllllll}\n",
       " renewal\\_status & tld & registrar & reseller\\_country & region & reg\\_period & sld\\_type & sld\\_length & day\\_domains & gibb\\_score & pattern\\_domain\\_count & reg\\_arpt & renewal\\_prediction\\\\\n",
       " <fct> & <fct> & <chr> & <chr> & <chr> & <int> & <fct> & <int> & <int> & <dbl> & <int> & <dbl> & <dbl>\\\\\n",
       "\\hline\n",
       "\t Renewed    & fun & go daddy & United States & Non China & 3 & l  &  7 & 1 & 7.66 & 1 & 10.83 & 0.6977748\\\\\n",
       "\t Not Renewd & fun & go daddy & United States & Non China & 2 & l  & 14 & 1 & 3.74 & 1 &  8.75 & 0.3439872\\\\\n",
       "\t Not Renewd & fun & go daddy & United States & Non China & 2 & l  &  8 & 1 & 7.77 & 1 &  8.75 & 0.4405030\\\\\n",
       "\t Renewed    & fun & go daddy & United States & Non China & 2 & l  & 13 & 1 & 5.42 & 1 &  8.00 & 0.4853910\\\\\n",
       "\t Renewed    & fun & go daddy & United States & Non China & 2 & l  &  6 & 1 & 5.32 & 1 &  8.00 & 0.6288842\\\\\n",
       "\t Renewed    & fun & go daddy & United States & Non China & 2 & ln &  7 & 2 & 2.87 & 1 &  8.00 & 0.7380156\\\\\n",
       "\\end{tabular}\n"
      ],
      "text/markdown": [
       "\n",
       "A data.table: 6 × 13\n",
       "\n",
       "| renewal_status &lt;fct&gt; | tld &lt;fct&gt; | registrar &lt;chr&gt; | reseller_country &lt;chr&gt; | region &lt;chr&gt; | reg_period &lt;int&gt; | sld_type &lt;fct&gt; | sld_length &lt;int&gt; | day_domains &lt;int&gt; | gibb_score &lt;dbl&gt; | pattern_domain_count &lt;int&gt; | reg_arpt &lt;dbl&gt; | renewal_prediction &lt;dbl&gt; |\n",
       "|---|---|---|---|---|---|---|---|---|---|---|---|---|\n",
       "| Renewed    | fun | go daddy | United States | Non China | 3 | l  |  7 | 1 | 7.66 | 1 | 10.83 | 0.6977748 |\n",
       "| Not Renewd | fun | go daddy | United States | Non China | 2 | l  | 14 | 1 | 3.74 | 1 |  8.75 | 0.3439872 |\n",
       "| Not Renewd | fun | go daddy | United States | Non China | 2 | l  |  8 | 1 | 7.77 | 1 |  8.75 | 0.4405030 |\n",
       "| Renewed    | fun | go daddy | United States | Non China | 2 | l  | 13 | 1 | 5.42 | 1 |  8.00 | 0.4853910 |\n",
       "| Renewed    | fun | go daddy | United States | Non China | 2 | l  |  6 | 1 | 5.32 | 1 |  8.00 | 0.6288842 |\n",
       "| Renewed    | fun | go daddy | United States | Non China | 2 | ln |  7 | 2 | 2.87 | 1 |  8.00 | 0.7380156 |\n",
       "\n"
      ],
      "text/plain": [
       "  renewal_status tld registrar reseller_country region    reg_period sld_type\n",
       "1 Renewed        fun go daddy  United States    Non China 3          l       \n",
       "2 Not Renewd     fun go daddy  United States    Non China 2          l       \n",
       "3 Not Renewd     fun go daddy  United States    Non China 2          l       \n",
       "4 Renewed        fun go daddy  United States    Non China 2          l       \n",
       "5 Renewed        fun go daddy  United States    Non China 2          l       \n",
       "6 Renewed        fun go daddy  United States    Non China 2          ln      \n",
       "  sld_length day_domains gibb_score pattern_domain_count reg_arpt\n",
       "1  7         1           7.66       1                    10.83   \n",
       "2 14         1           3.74       1                     8.75   \n",
       "3  8         1           7.77       1                     8.75   \n",
       "4 13         1           5.42       1                     8.00   \n",
       "5  6         1           5.32       1                     8.00   \n",
       "6  7         2           2.87       1                     8.00   \n",
       "  renewal_prediction\n",
       "1 0.6977748         \n",
       "2 0.3439872         \n",
       "3 0.4405030         \n",
       "4 0.4853910         \n",
       "5 0.6288842         \n",
       "6 0.7380156         "
      ]
     },
     "metadata": {},
     "output_type": "display_data"
    }
   ],
   "source": [
    "expiry_test_df_sub_reg$renewal_prediction <- ranger_predict_03_reg\n",
    "head(expiry_test_df_sub_reg)"
   ]
  },
  {
   "cell_type": "code",
   "execution_count": 54,
   "metadata": {},
   "outputs": [
    {
     "data": {
      "text/html": [
       "<style>\n",
       ".list-inline {list-style: none; margin:0; padding: 0}\n",
       ".list-inline>li {display: inline-block}\n",
       ".list-inline>li:not(:last-child)::after {content: \"\\00b7\"; padding: 0 .5ex}\n",
       "</style>\n",
       "<ol class=list-inline><li>296797</li><li>40</li></ol>\n"
      ],
      "text/latex": [
       "\\begin{enumerate*}\n",
       "\\item 296797\n",
       "\\item 40\n",
       "\\end{enumerate*}\n"
      ],
      "text/markdown": [
       "1. 296797\n",
       "2. 40\n",
       "\n",
       "\n"
      ],
      "text/plain": [
       "[1] 296797     40"
      ]
     },
     "metadata": {},
     "output_type": "display_data"
    },
    {
     "name": "stdout",
     "output_type": "stream",
     "text": [
      "\n"
     ]
    },
    {
     "data": {
      "text/html": [
       "<style>\n",
       ".list-inline {list-style: none; margin:0; padding: 0}\n",
       ".list-inline>li {display: inline-block}\n",
       ".list-inline>li:not(:last-child)::after {content: \"\\00b7\"; padding: 0 .5ex}\n",
       "</style>\n",
       "<ol class=list-inline><li>27537</li><li>40</li></ol>\n"
      ],
      "text/latex": [
       "\\begin{enumerate*}\n",
       "\\item 27537\n",
       "\\item 40\n",
       "\\end{enumerate*}\n"
      ],
      "text/markdown": [
       "1. 27537\n",
       "2. 40\n",
       "\n",
       "\n"
      ],
      "text/plain": [
       "[1] 27537    40"
      ]
     },
     "metadata": {},
     "output_type": "display_data"
    },
    {
     "name": "stdout",
     "output_type": "stream",
     "text": [
      "\n"
     ]
    },
    {
     "data": {
      "text/html": [
       "<style>\n",
       ".list-inline {list-style: none; margin:0; padding: 0}\n",
       ".list-inline>li {display: inline-block}\n",
       ".list-inline>li:not(:last-child)::after {content: \"\\00b7\"; padding: 0 .5ex}\n",
       "</style>\n",
       "<ol class=list-inline><li>0.0927805874048592</li><li>1</li></ol>\n"
      ],
      "text/latex": [
       "\\begin{enumerate*}\n",
       "\\item 0.0927805874048592\n",
       "\\item 1\n",
       "\\end{enumerate*}\n"
      ],
      "text/markdown": [
       "1. 0.0927805874048592\n",
       "2. 1\n",
       "\n",
       "\n"
      ],
      "text/plain": [
       "[1] 0.09278059 1.00000000"
      ]
     },
     "metadata": {},
     "output_type": "display_data"
    }
   ],
   "source": [
    "# seg_glm\n",
    "\n",
    "# subset data\n",
    "\n",
    "dim(seg_glm_expiry_exptest)\n",
    "cat('\\n')\n",
    "\n",
    "seg_glm_expiry_exptest_reg <-seg_glm_expiry_exptest %>% filter(registrar==reg_name)\n",
    "\n",
    "\n",
    "dim(seg_glm_expiry_exptest_reg)\n",
    "cat('\\n')\n",
    "\n",
    "\n",
    "dim(seg_glm_expiry_exptest_reg)/dim(seg_glm_expiry_exptest)\n",
    "\n",
    "\n",
    "\n",
    "seg_glm_expiry_exptest_pred_df_reg = data.frame(\"actual\" = seg_glm_expiry_exptest_reg$renewal_status,\n",
    "          \"predicted\" = seg_glm_expiry_exptest_reg$first_renewal_prediction)\n",
    "\n",
    "lift_df_seg_glm_expiry_exptest_reg <- chart_lift(pred_df = seg_glm_expiry_exptest_pred_df_reg,\n",
    "                        dep_var = \"actual\",\n",
    "                        pred_var = \"predicted\")\n",
    "\n",
    "gains_plot_seg_glm_expiry_exptest_reg <- plot_gains (lift_df_seg_glm_expiry_exptest_reg) \n",
    "\n",
    "auc_seg_glm_expiry_exptest_reg<- calc_auc(lift_df_seg_glm_expiry_exptest_reg)\n",
    "\n",
    "\n",
    "# saveRDS(lift_df_seg_glm_expiry_exptest, file.path('../../data/output/',\"lift_df_seg_glm_expiry_exptest\"))"
   ]
  },
  {
   "cell_type": "code",
   "execution_count": 55,
   "metadata": {},
   "outputs": [
    {
     "data": {
      "text/plain": [
       "\n",
       "   Renewed Not Renewd \n",
       " 0.1465301  0.8534699 "
      ]
     },
     "metadata": {},
     "output_type": "display_data"
    }
   ],
   "source": [
    "prop.table(table(seg_glm_expiry_exptest_reg$renewal_status))"
   ]
  },
  {
   "cell_type": "code",
   "execution_count": 56,
   "metadata": {},
   "outputs": [
    {
     "data": {
      "text/html": [
       "0.146530123107092"
      ],
      "text/latex": [
       "0.146530123107092"
      ],
      "text/markdown": [
       "0.146530123107092"
      ],
      "text/plain": [
       "[1] 0.1465301"
      ]
     },
     "metadata": {},
     "output_type": "display_data"
    }
   ],
   "source": [
    "prop_positive = prop.table(table(seg_glm_expiry_exptest_reg$renewal_status))[[1]]\n",
    "prop_positive"
   ]
  },
  {
   "cell_type": "code",
   "execution_count": 57,
   "metadata": {},
   "outputs": [
    {
     "data": {
      "image/png": "[encoded data removed]",
      "text/plain": [
       "plot without title"
      ]
     },
     "metadata": {
      "image/png": {
       "height": 420,
       "width": 420
      },
      "text/plain": {
       "height": 420,
       "width": 420
      }
     },
     "output_type": "display_data"
    }
   ],
   "source": [
    "plot_multigains_reg <- plot_multigains(\n",
    "    lift_df_list=list(\n",
    "        rf_reg = lift_df_ranger_03_reg,\n",
    "        seg_reg = lift_df_seg_glm_expiry_exptest_reg),\n",
    "    auc_list = list(\n",
    "        rf_reg= calc_auc(lift_df_ranger_03_reg),\n",
    "        seg_reg= calc_auc(lift_df_seg_glm_expiry_exptest_reg)),\n",
    "    prop_positive = prop_positive)\n",
    "# png(file = \"../../data/output/plot_multigains_03_summ4.png\",\n",
    "#     width = 500, height = 375)\n",
    "plot(plot_multigains_reg + \n",
    "      annotate(\"text\", x = .15, y = .3, hjust = 0, label=reg_name, size = 24))\n",
    "# dev.off()"
   ]
  },
  {
   "cell_type": "markdown",
   "metadata": {},
   "source": [
    "# Prototype Aggregate Segmented RF script\n",
    "inputs: list of registrar segments, number of trees, parameters, train, test\n",
    "script will train & test separate forest for each registrar in list and one aggregate forest for the rest of the data"
   ]
  },
  {
   "cell_type": "code",
   "execution_count": 60,
   "metadata": {},
   "outputs": [
    {
     "data": {
      "text/html": [
       "<style>\n",
       ".list-inline {list-style: none; margin:0; padding: 0}\n",
       ".list-inline>li {display: inline-block}\n",
       ".list-inline>li:not(:last-child)::after {content: \"\\00b7\"; padding: 0 .5ex}\n",
       "</style>\n",
       "<ol class=list-inline><li>namecheap</li><li>gmo</li><li>alibaba</li><li>go daddy</li><li>pdr ltd</li><li>reg.ru</li><li>chengdu west</li><li>gandi sas</li><li>hostinger</li><li>zhengzhou century connect</li><li>uniregistrar</li><li>onlinenic</li><li>tucows</li><li>fbs</li><li>dynadot</li><li>network solutions</li><li>url solutions</li><li>enom</li><li>1&amp;1 internet</li><li>ovh</li><li>realtime register</li><li>key-systems</li><li>namesilo</li><li>beget</li><li>dotserve inc</li><li>west263 international</li><li>hosting ukraine</li><li>domain.com - registrar</li><li>ru-center</li><li>hosting concepts</li><li>nics telekom</li><li>cronon ag</li><li>google</li><li>name.com</li><li>soluciones corporativas</li><li>shanghai meicheng</li><li>xin net</li><li>eranet</li><li>ascio</li><li>gabia</li><li>united domains</li><li>global domains</li><li>web commerce comm</li><li>porkbun</li><li>mesh digital</li><li>tld registrar solns</li><li>automattic</li><li>jogjacamp</li><li>rumahweb</li><li>mat bao</li><li>alibaba sg</li><li>ligne web services</li><li>p.a viet nam</li><li>euro dns</li><li>bizcn</li><li>metaregistrar</li><li>csl</li><li>instra corporation</li><li>crazy domains</li><li>1api</li><li>gransy</li><li>10dencehispahard</li><li>internetx</li><li>diamatrix</li><li>shanghai best oray</li><li>xiamen chinasource</li><li>dotname korea</li><li>liquidnet</li><li>nicenic</li><li>nhan hoa software</li><li>register.com</li><li>wild west</li><li>chengdu fly</li><li>ledl.net</li><li>promo people</li><li>netowl</li><li>domeneshop</li><li>netim</li><li>registrator domenov</li><li>epik llc</li><li>22net inc</li><li>paragon internet</li><li>zhengzhou zitian</li><li>epag</li><li>markmonitor</li><li>dinahosting</li><li>101 domain</li><li>atak</li><li>xiamen nawang</li><li>vautron</li><li>web4africa</li><li>csc corporate</li><li>internetworx ltd</li><li>registrygate</li><li>webnames</li><li>ab name isp</li><li>online sas</li><li>marcaria.com</li><li>melbourne it</li><li>super registry</li><li>corehub</li><li>synergy wholesale</li><li>nameshield</li><li>com laude</li><li>ejee group</li><li>domaininfo</li><li>foshan yidong</li><li>opentld b.v.</li><li>xiamen 35.com</li><li>freeparking</li><li>todaynic</li><li>brandma</li><li>c-soft oy</li><li>evoplus ltd</li><li>planet hoster</li><li>blacknight</li><li>domaindiscover.com</li><li>internet gmbh</li><li>variomedia</li><li>alpnames</li><li>bb online</li><li>cps-datensysteme</li><li>mijn internet</li><li>netearth one</li><li>netistrar</li><li>safenames ltd</li><li>server plan</li><li>tecnocratica centro</li><li>beijing guoxu</li><li>dnc holdings</li><li>domain the net</li><li>ename tech</li><li>entorno digital</li><li>inames</li><li>innovadeus</li><li>mailclub</li><li>nameweb</li><li>ownregistrar</li><li>regtime ltd</li><li>sibername</li><li>the registrar company b.v.</li><li>boltn</li><li>brandsight</li><li>cci reg s.a.</li><li>domain-it</li><li>eims</li><li>eu technology</li><li>french connexion</li><li>global village</li><li>jiangsu bangning</li><li>net4 india</li><li>ownregistrar, inc.</li><li>virtua drug</li><li>web werks</li><li>whois networks</li></ol>\n",
       "\n",
       "<details>\n",
       "\t<summary style=display:list-item;cursor:pointer>\n",
       "\t\t<strong>Levels</strong>:\n",
       "\t</summary>\n",
       "\t<style>\n",
       "\t.list-inline {list-style: none; margin:0; padding: 0}\n",
       "\t.list-inline>li {display: inline-block}\n",
       "\t.list-inline>li:not(:last-child)::after {content: \"\\00b7\"; padding: 0 .5ex}\n",
       "\t</style>\n",
       "\t<ol class=list-inline><li>'1&amp;1 internet'</li><li>'101 domain'</li><li>'10dencehispahard'</li><li>'1api'</li><li>'22net inc'</li><li>'ab name isp'</li><li>'alibaba'</li><li>'alibaba sg'</li><li>'alpnames'</li><li>'ascio'</li><li>'atak'</li><li>'automattic'</li><li>'bb online'</li><li>'beget'</li><li>'beijing guoxu'</li><li>'bizcn'</li><li>'blacknight'</li><li>'boltn'</li><li>'brandma'</li><li>'brandsight'</li><li>'c-soft oy'</li><li>'cci reg s.a.'</li><li>'chengdu fly'</li><li>'chengdu west'</li><li>'com laude'</li><li>'corehub'</li><li>'cps-datensysteme'</li><li>'crazy domains'</li><li>'cronon ag'</li><li>'csc corporate'</li><li>'csl'</li><li>'diamatrix'</li><li>'dinahosting'</li><li>'dnc holdings'</li><li>'domain the net'</li><li>'domain-it'</li><li>'domain.com - registrar'</li><li>'domaindiscover.com'</li><li>'domaininfo'</li><li>'domeneshop'</li><li>'dotname korea'</li><li>'dotserve inc'</li><li>'dynadot'</li><li>'eims'</li><li>'ejee group'</li><li>'ename tech'</li><li>'enom'</li><li>'entorno digital'</li><li>'epag'</li><li>'epik llc'</li><li>'eranet'</li><li>'eu technology'</li><li>'euro dns'</li><li>'evoplus ltd'</li><li>'fbs'</li><li>'foshan yidong'</li><li>'freeparking'</li><li>'french connexion'</li><li>'gabia'</li><li>'gandi sas'</li><li>'global domains'</li><li>'global village'</li><li>'gmo'</li><li>'go daddy'</li><li>'google'</li><li>'gransy'</li><li>'hosting concepts'</li><li>'hosting ukraine'</li><li>'hostinger'</li><li>'inames'</li><li>'innovadeus'</li><li>'instra corporation'</li><li>'internet gmbh'</li><li>'internetworx ltd'</li><li>'internetx'</li><li>'jiangsu bangning'</li><li>'jogjacamp'</li><li>'key-systems'</li><li>'ledl.net'</li><li>'ligne web services'</li><li>'liquidnet'</li><li>'mailclub'</li><li>'marcaria.com'</li><li>'markmonitor'</li><li>'mat bao'</li><li>'melbourne it'</li><li>'mesh digital'</li><li>'metaregistrar'</li><li>'mijn internet'</li><li>'name.com'</li><li>'namecheap'</li><li>'nameshield'</li><li>'namesilo'</li><li>'nameweb'</li><li>'net4 india'</li><li>'netearth one'</li><li>'netim'</li><li>'netistrar'</li><li>'netowl'</li><li>'network solutions'</li><li>'nhan hoa software'</li><li>'nicenic'</li><li>'nics telekom'</li><li>'online sas'</li><li>'onlinenic'</li><li>'opentld b.v.'</li><li>'ovh'</li><li>'ownregistrar'</li><li>'ownregistrar, inc.'</li><li>'p.a viet nam'</li><li>'paragon internet'</li><li>'pdr ltd'</li><li>'planet hoster'</li><li>'porkbun'</li><li>'promo people'</li><li>'realtime register'</li><li>'reg.ru'</li><li>'register.com'</li><li>'registrator domenov'</li><li>'registrygate'</li><li>'regtime ltd'</li><li>'ru-center'</li><li>'rumahweb'</li><li>'safenames ltd'</li><li>'server plan'</li><li>'shanghai best oray'</li><li>'shanghai meicheng'</li><li>'sibername'</li><li>'soluciones corporativas'</li><li>'super registry'</li><li>'synergy wholesale'</li><li>'tecnocratica centro'</li><li>'the registrar company b.v.'</li><li>'tld registrar solns'</li><li>'todaynic'</li><li>'tucows'</li><li>'uniregistrar'</li><li>'united domains'</li><li>'url solutions'</li><li>'variomedia'</li><li>'vautron'</li><li>'virtua drug'</li><li>'web commerce comm'</li><li>'web werks'</li><li>'web4africa'</li><li>'webnames'</li><li>'west263 international'</li><li>'whois networks'</li><li>'wild west'</li><li>'xiamen 35.com'</li><li>'xiamen chinasource'</li><li>'xiamen nawang'</li><li>'xin net'</li><li>'zhengzhou century connect'</li><li>'zhengzhou zitian'</li></ol>\n",
       "</details>"
      ],
      "text/latex": [
       "\\begin{enumerate*}\n",
       "\\item namecheap\n",
       "\\item gmo\n",
       "\\item alibaba\n",
       "\\item go daddy\n",
       "\\item pdr ltd\n",
       "\\item reg.ru\n",
       "\\item chengdu west\n",
       "\\item gandi sas\n",
       "\\item hostinger\n",
       "\\item zhengzhou century connect\n",
       "\\item uniregistrar\n",
       "\\item onlinenic\n",
       "\\item tucows\n",
       "\\item fbs\n",
       "\\item dynadot\n",
       "\\item network solutions\n",
       "\\item url solutions\n",
       "\\item enom\n",
       "\\item 1\\&1 internet\n",
       "\\item ovh\n",
       "\\item realtime register\n",
       "\\item key-systems\n",
       "\\item namesilo\n",
       "\\item beget\n",
       "\\item dotserve inc\n",
       "\\item west263 international\n",
       "\\item hosting ukraine\n",
       "\\item domain.com - registrar\n",
       "\\item ru-center\n",
       "\\item hosting concepts\n",
       "\\item nics telekom\n",
       "\\item cronon ag\n",
       "\\item google\n",
       "\\item name.com\n",
       "\\item soluciones corporativas\n",
       "\\item shanghai meicheng\n",
       "\\item xin net\n",
       "\\item eranet\n",
       "\\item ascio\n",
       "\\item gabia\n",
       "\\item united domains\n",
       "\\item global domains\n",
       "\\item web commerce comm\n",
       "\\item porkbun\n",
       "\\item mesh digital\n",
       "\\item tld registrar solns\n",
       "\\item automattic\n",
       "\\item jogjacamp\n",
       "\\item rumahweb\n",
       "\\item mat bao\n",
       "\\item alibaba sg\n",
       "\\item ligne web services\n",
       "\\item p.a viet nam\n",
       "\\item euro dns\n",
       "\\item bizcn\n",
       "\\item metaregistrar\n",
       "\\item csl\n",
       "\\item instra corporation\n",
       "\\item crazy domains\n",
       "\\item 1api\n",
       "\\item gransy\n",
       "\\item 10dencehispahard\n",
       "\\item internetx\n",
       "\\item diamatrix\n",
       "\\item shanghai best oray\n",
       "\\item xiamen chinasource\n",
       "\\item dotname korea\n",
       "\\item liquidnet\n",
       "\\item nicenic\n",
       "\\item nhan hoa software\n",
       "\\item register.com\n",
       "\\item wild west\n",
       "\\item chengdu fly\n",
       "\\item ledl.net\n",
       "\\item promo people\n",
       "\\item netowl\n",
       "\\item domeneshop\n",
       "\\item netim\n",
       "\\item registrator domenov\n",
       "\\item epik llc\n",
       "\\item 22net inc\n",
       "\\item paragon internet\n",
       "\\item zhengzhou zitian\n",
       "\\item epag\n",
       "\\item markmonitor\n",
       "\\item dinahosting\n",
       "\\item 101 domain\n",
       "\\item atak\n",
       "\\item xiamen nawang\n",
       "\\item vautron\n",
       "\\item web4africa\n",
       "\\item csc corporate\n",
       "\\item internetworx ltd\n",
       "\\item registrygate\n",
       "\\item webnames\n",
       "\\item ab name isp\n",
       "\\item online sas\n",
       "\\item marcaria.com\n",
       "\\item melbourne it\n",
       "\\item super registry\n",
       "\\item corehub\n",
       "\\item synergy wholesale\n",
       "\\item nameshield\n",
       "\\item com laude\n",
       "\\item ejee group\n",
       "\\item domaininfo\n",
       "\\item foshan yidong\n",
       "\\item opentld b.v.\n",
       "\\item xiamen 35.com\n",
       "\\item freeparking\n",
       "\\item todaynic\n",
       "\\item brandma\n",
       "\\item c-soft oy\n",
       "\\item evoplus ltd\n",
       "\\item planet hoster\n",
       "\\item blacknight\n",
       "\\item domaindiscover.com\n",
       "\\item internet gmbh\n",
       "\\item variomedia\n",
       "\\item alpnames\n",
       "\\item bb online\n",
       "\\item cps-datensysteme\n",
       "\\item mijn internet\n",
       "\\item netearth one\n",
       "\\item netistrar\n",
       "\\item safenames ltd\n",
       "\\item server plan\n",
       "\\item tecnocratica centro\n",
       "\\item beijing guoxu\n",
       "\\item dnc holdings\n",
       "\\item domain the net\n",
       "\\item ename tech\n",
       "\\item entorno digital\n",
       "\\item inames\n",
       "\\item innovadeus\n",
       "\\item mailclub\n",
       "\\item nameweb\n",
       "\\item ownregistrar\n",
       "\\item regtime ltd\n",
       "\\item sibername\n",
       "\\item the registrar company b.v.\n",
       "\\item boltn\n",
       "\\item brandsight\n",
       "\\item cci reg s.a.\n",
       "\\item domain-it\n",
       "\\item eims\n",
       "\\item eu technology\n",
       "\\item french connexion\n",
       "\\item global village\n",
       "\\item jiangsu bangning\n",
       "\\item net4 india\n",
       "\\item ownregistrar, inc.\n",
       "\\item virtua drug\n",
       "\\item web werks\n",
       "\\item whois networks\n",
       "\\end{enumerate*}\n",
       "\n",
       "\\emph{Levels}: \\begin{enumerate*}\n",
       "\\item '1\\&1 internet'\n",
       "\\item '101 domain'\n",
       "\\item '10dencehispahard'\n",
       "\\item '1api'\n",
       "\\item '22net inc'\n",
       "\\item 'ab name isp'\n",
       "\\item 'alibaba'\n",
       "\\item 'alibaba sg'\n",
       "\\item 'alpnames'\n",
       "\\item 'ascio'\n",
       "\\item 'atak'\n",
       "\\item 'automattic'\n",
       "\\item 'bb online'\n",
       "\\item 'beget'\n",
       "\\item 'beijing guoxu'\n",
       "\\item 'bizcn'\n",
       "\\item 'blacknight'\n",
       "\\item 'boltn'\n",
       "\\item 'brandma'\n",
       "\\item 'brandsight'\n",
       "\\item 'c-soft oy'\n",
       "\\item 'cci reg s.a.'\n",
       "\\item 'chengdu fly'\n",
       "\\item 'chengdu west'\n",
       "\\item 'com laude'\n",
       "\\item 'corehub'\n",
       "\\item 'cps-datensysteme'\n",
       "\\item 'crazy domains'\n",
       "\\item 'cronon ag'\n",
       "\\item 'csc corporate'\n",
       "\\item 'csl'\n",
       "\\item 'diamatrix'\n",
       "\\item 'dinahosting'\n",
       "\\item 'dnc holdings'\n",
       "\\item 'domain the net'\n",
       "\\item 'domain-it'\n",
       "\\item 'domain.com - registrar'\n",
       "\\item 'domaindiscover.com'\n",
       "\\item 'domaininfo'\n",
       "\\item 'domeneshop'\n",
       "\\item 'dotname korea'\n",
       "\\item 'dotserve inc'\n",
       "\\item 'dynadot'\n",
       "\\item 'eims'\n",
       "\\item 'ejee group'\n",
       "\\item 'ename tech'\n",
       "\\item 'enom'\n",
       "\\item 'entorno digital'\n",
       "\\item 'epag'\n",
       "\\item 'epik llc'\n",
       "\\item 'eranet'\n",
       "\\item 'eu technology'\n",
       "\\item 'euro dns'\n",
       "\\item 'evoplus ltd'\n",
       "\\item 'fbs'\n",
       "\\item 'foshan yidong'\n",
       "\\item 'freeparking'\n",
       "\\item 'french connexion'\n",
       "\\item 'gabia'\n",
       "\\item 'gandi sas'\n",
       "\\item 'global domains'\n",
       "\\item 'global village'\n",
       "\\item 'gmo'\n",
       "\\item 'go daddy'\n",
       "\\item 'google'\n",
       "\\item 'gransy'\n",
       "\\item 'hosting concepts'\n",
       "\\item 'hosting ukraine'\n",
       "\\item 'hostinger'\n",
       "\\item 'inames'\n",
       "\\item 'innovadeus'\n",
       "\\item 'instra corporation'\n",
       "\\item 'internet gmbh'\n",
       "\\item 'internetworx ltd'\n",
       "\\item 'internetx'\n",
       "\\item 'jiangsu bangning'\n",
       "\\item 'jogjacamp'\n",
       "\\item 'key-systems'\n",
       "\\item 'ledl.net'\n",
       "\\item 'ligne web services'\n",
       "\\item 'liquidnet'\n",
       "\\item 'mailclub'\n",
       "\\item 'marcaria.com'\n",
       "\\item 'markmonitor'\n",
       "\\item 'mat bao'\n",
       "\\item 'melbourne it'\n",
       "\\item 'mesh digital'\n",
       "\\item 'metaregistrar'\n",
       "\\item 'mijn internet'\n",
       "\\item 'name.com'\n",
       "\\item 'namecheap'\n",
       "\\item 'nameshield'\n",
       "\\item 'namesilo'\n",
       "\\item 'nameweb'\n",
       "\\item 'net4 india'\n",
       "\\item 'netearth one'\n",
       "\\item 'netim'\n",
       "\\item 'netistrar'\n",
       "\\item 'netowl'\n",
       "\\item 'network solutions'\n",
       "\\item 'nhan hoa software'\n",
       "\\item 'nicenic'\n",
       "\\item 'nics telekom'\n",
       "\\item 'online sas'\n",
       "\\item 'onlinenic'\n",
       "\\item 'opentld b.v.'\n",
       "\\item 'ovh'\n",
       "\\item 'ownregistrar'\n",
       "\\item 'ownregistrar, inc.'\n",
       "\\item 'p.a viet nam'\n",
       "\\item 'paragon internet'\n",
       "\\item 'pdr ltd'\n",
       "\\item 'planet hoster'\n",
       "\\item 'porkbun'\n",
       "\\item 'promo people'\n",
       "\\item 'realtime register'\n",
       "\\item 'reg.ru'\n",
       "\\item 'register.com'\n",
       "\\item 'registrator domenov'\n",
       "\\item 'registrygate'\n",
       "\\item 'regtime ltd'\n",
       "\\item 'ru-center'\n",
       "\\item 'rumahweb'\n",
       "\\item 'safenames ltd'\n",
       "\\item 'server plan'\n",
       "\\item 'shanghai best oray'\n",
       "\\item 'shanghai meicheng'\n",
       "\\item 'sibername'\n",
       "\\item 'soluciones corporativas'\n",
       "\\item 'super registry'\n",
       "\\item 'synergy wholesale'\n",
       "\\item 'tecnocratica centro'\n",
       "\\item 'the registrar company b.v.'\n",
       "\\item 'tld registrar solns'\n",
       "\\item 'todaynic'\n",
       "\\item 'tucows'\n",
       "\\item 'uniregistrar'\n",
       "\\item 'united domains'\n",
       "\\item 'url solutions'\n",
       "\\item 'variomedia'\n",
       "\\item 'vautron'\n",
       "\\item 'virtua drug'\n",
       "\\item 'web commerce comm'\n",
       "\\item 'web werks'\n",
       "\\item 'web4africa'\n",
       "\\item 'webnames'\n",
       "\\item 'west263 international'\n",
       "\\item 'whois networks'\n",
       "\\item 'wild west'\n",
       "\\item 'xiamen 35.com'\n",
       "\\item 'xiamen chinasource'\n",
       "\\item 'xiamen nawang'\n",
       "\\item 'xin net'\n",
       "\\item 'zhengzhou century connect'\n",
       "\\item 'zhengzhou zitian'\n",
       "\\end{enumerate*}\n"
      ],
      "text/markdown": [
       "1. namecheap\n",
       "2. gmo\n",
       "3. alibaba\n",
       "4. go daddy\n",
       "5. pdr ltd\n",
       "6. reg.ru\n",
       "7. chengdu west\n",
       "8. gandi sas\n",
       "9. hostinger\n",
       "10. zhengzhou century connect\n",
       "11. uniregistrar\n",
       "12. onlinenic\n",
       "13. tucows\n",
       "14. fbs\n",
       "15. dynadot\n",
       "16. network solutions\n",
       "17. url solutions\n",
       "18. enom\n",
       "19. 1&amp;1 internet\n",
       "20. ovh\n",
       "21. realtime register\n",
       "22. key-systems\n",
       "23. namesilo\n",
       "24. beget\n",
       "25. dotserve inc\n",
       "26. west263 international\n",
       "27. hosting ukraine\n",
       "28. domain.com - registrar\n",
       "29. ru-center\n",
       "30. hosting concepts\n",
       "31. nics telekom\n",
       "32. cronon ag\n",
       "33. google\n",
       "34. name.com\n",
       "35. soluciones corporativas\n",
       "36. shanghai meicheng\n",
       "37. xin net\n",
       "38. eranet\n",
       "39. ascio\n",
       "40. gabia\n",
       "41. united domains\n",
       "42. global domains\n",
       "43. web commerce comm\n",
       "44. porkbun\n",
       "45. mesh digital\n",
       "46. tld registrar solns\n",
       "47. automattic\n",
       "48. jogjacamp\n",
       "49. rumahweb\n",
       "50. mat bao\n",
       "51. alibaba sg\n",
       "52. ligne web services\n",
       "53. p.a viet nam\n",
       "54. euro dns\n",
       "55. bizcn\n",
       "56. metaregistrar\n",
       "57. csl\n",
       "58. instra corporation\n",
       "59. crazy domains\n",
       "60. 1api\n",
       "61. gransy\n",
       "62. 10dencehispahard\n",
       "63. internetx\n",
       "64. diamatrix\n",
       "65. shanghai best oray\n",
       "66. xiamen chinasource\n",
       "67. dotname korea\n",
       "68. liquidnet\n",
       "69. nicenic\n",
       "70. nhan hoa software\n",
       "71. register.com\n",
       "72. wild west\n",
       "73. chengdu fly\n",
       "74. ledl.net\n",
       "75. promo people\n",
       "76. netowl\n",
       "77. domeneshop\n",
       "78. netim\n",
       "79. registrator domenov\n",
       "80. epik llc\n",
       "81. 22net inc\n",
       "82. paragon internet\n",
       "83. zhengzhou zitian\n",
       "84. epag\n",
       "85. markmonitor\n",
       "86. dinahosting\n",
       "87. 101 domain\n",
       "88. atak\n",
       "89. xiamen nawang\n",
       "90. vautron\n",
       "91. web4africa\n",
       "92. csc corporate\n",
       "93. internetworx ltd\n",
       "94. registrygate\n",
       "95. webnames\n",
       "96. ab name isp\n",
       "97. online sas\n",
       "98. marcaria.com\n",
       "99. melbourne it\n",
       "100. super registry\n",
       "101. corehub\n",
       "102. synergy wholesale\n",
       "103. nameshield\n",
       "104. com laude\n",
       "105. ejee group\n",
       "106. domaininfo\n",
       "107. foshan yidong\n",
       "108. opentld b.v.\n",
       "109. xiamen 35.com\n",
       "110. freeparking\n",
       "111. todaynic\n",
       "112. brandma\n",
       "113. c-soft oy\n",
       "114. evoplus ltd\n",
       "115. planet hoster\n",
       "116. blacknight\n",
       "117. domaindiscover.com\n",
       "118. internet gmbh\n",
       "119. variomedia\n",
       "120. alpnames\n",
       "121. bb online\n",
       "122. cps-datensysteme\n",
       "123. mijn internet\n",
       "124. netearth one\n",
       "125. netistrar\n",
       "126. safenames ltd\n",
       "127. server plan\n",
       "128. tecnocratica centro\n",
       "129. beijing guoxu\n",
       "130. dnc holdings\n",
       "131. domain the net\n",
       "132. ename tech\n",
       "133. entorno digital\n",
       "134. inames\n",
       "135. innovadeus\n",
       "136. mailclub\n",
       "137. nameweb\n",
       "138. ownregistrar\n",
       "139. regtime ltd\n",
       "140. sibername\n",
       "141. the registrar company b.v.\n",
       "142. boltn\n",
       "143. brandsight\n",
       "144. cci reg s.a.\n",
       "145. domain-it\n",
       "146. eims\n",
       "147. eu technology\n",
       "148. french connexion\n",
       "149. global village\n",
       "150. jiangsu bangning\n",
       "151. net4 india\n",
       "152. ownregistrar, inc.\n",
       "153. virtua drug\n",
       "154. web werks\n",
       "155. whois networks\n",
       "\n",
       "\n",
       "\n",
       "**Levels**: 1. '1&amp;1 internet'\n",
       "2. '101 domain'\n",
       "3. '10dencehispahard'\n",
       "4. '1api'\n",
       "5. '22net inc'\n",
       "6. 'ab name isp'\n",
       "7. 'alibaba'\n",
       "8. 'alibaba sg'\n",
       "9. 'alpnames'\n",
       "10. 'ascio'\n",
       "11. 'atak'\n",
       "12. 'automattic'\n",
       "13. 'bb online'\n",
       "14. 'beget'\n",
       "15. 'beijing guoxu'\n",
       "16. 'bizcn'\n",
       "17. 'blacknight'\n",
       "18. 'boltn'\n",
       "19. 'brandma'\n",
       "20. 'brandsight'\n",
       "21. 'c-soft oy'\n",
       "22. 'cci reg s.a.'\n",
       "23. 'chengdu fly'\n",
       "24. 'chengdu west'\n",
       "25. 'com laude'\n",
       "26. 'corehub'\n",
       "27. 'cps-datensysteme'\n",
       "28. 'crazy domains'\n",
       "29. 'cronon ag'\n",
       "30. 'csc corporate'\n",
       "31. 'csl'\n",
       "32. 'diamatrix'\n",
       "33. 'dinahosting'\n",
       "34. 'dnc holdings'\n",
       "35. 'domain the net'\n",
       "36. 'domain-it'\n",
       "37. 'domain.com - registrar'\n",
       "38. 'domaindiscover.com'\n",
       "39. 'domaininfo'\n",
       "40. 'domeneshop'\n",
       "41. 'dotname korea'\n",
       "42. 'dotserve inc'\n",
       "43. 'dynadot'\n",
       "44. 'eims'\n",
       "45. 'ejee group'\n",
       "46. 'ename tech'\n",
       "47. 'enom'\n",
       "48. 'entorno digital'\n",
       "49. 'epag'\n",
       "50. 'epik llc'\n",
       "51. 'eranet'\n",
       "52. 'eu technology'\n",
       "53. 'euro dns'\n",
       "54. 'evoplus ltd'\n",
       "55. 'fbs'\n",
       "56. 'foshan yidong'\n",
       "57. 'freeparking'\n",
       "58. 'french connexion'\n",
       "59. 'gabia'\n",
       "60. 'gandi sas'\n",
       "61. 'global domains'\n",
       "62. 'global village'\n",
       "63. 'gmo'\n",
       "64. 'go daddy'\n",
       "65. 'google'\n",
       "66. 'gransy'\n",
       "67. 'hosting concepts'\n",
       "68. 'hosting ukraine'\n",
       "69. 'hostinger'\n",
       "70. 'inames'\n",
       "71. 'innovadeus'\n",
       "72. 'instra corporation'\n",
       "73. 'internet gmbh'\n",
       "74. 'internetworx ltd'\n",
       "75. 'internetx'\n",
       "76. 'jiangsu bangning'\n",
       "77. 'jogjacamp'\n",
       "78. 'key-systems'\n",
       "79. 'ledl.net'\n",
       "80. 'ligne web services'\n",
       "81. 'liquidnet'\n",
       "82. 'mailclub'\n",
       "83. 'marcaria.com'\n",
       "84. 'markmonitor'\n",
       "85. 'mat bao'\n",
       "86. 'melbourne it'\n",
       "87. 'mesh digital'\n",
       "88. 'metaregistrar'\n",
       "89. 'mijn internet'\n",
       "90. 'name.com'\n",
       "91. 'namecheap'\n",
       "92. 'nameshield'\n",
       "93. 'namesilo'\n",
       "94. 'nameweb'\n",
       "95. 'net4 india'\n",
       "96. 'netearth one'\n",
       "97. 'netim'\n",
       "98. 'netistrar'\n",
       "99. 'netowl'\n",
       "100. 'network solutions'\n",
       "101. 'nhan hoa software'\n",
       "102. 'nicenic'\n",
       "103. 'nics telekom'\n",
       "104. 'online sas'\n",
       "105. 'onlinenic'\n",
       "106. 'opentld b.v.'\n",
       "107. 'ovh'\n",
       "108. 'ownregistrar'\n",
       "109. 'ownregistrar, inc.'\n",
       "110. 'p.a viet nam'\n",
       "111. 'paragon internet'\n",
       "112. 'pdr ltd'\n",
       "113. 'planet hoster'\n",
       "114. 'porkbun'\n",
       "115. 'promo people'\n",
       "116. 'realtime register'\n",
       "117. 'reg.ru'\n",
       "118. 'register.com'\n",
       "119. 'registrator domenov'\n",
       "120. 'registrygate'\n",
       "121. 'regtime ltd'\n",
       "122. 'ru-center'\n",
       "123. 'rumahweb'\n",
       "124. 'safenames ltd'\n",
       "125. 'server plan'\n",
       "126. 'shanghai best oray'\n",
       "127. 'shanghai meicheng'\n",
       "128. 'sibername'\n",
       "129. 'soluciones corporativas'\n",
       "130. 'super registry'\n",
       "131. 'synergy wholesale'\n",
       "132. 'tecnocratica centro'\n",
       "133. 'the registrar company b.v.'\n",
       "134. 'tld registrar solns'\n",
       "135. 'todaynic'\n",
       "136. 'tucows'\n",
       "137. 'uniregistrar'\n",
       "138. 'united domains'\n",
       "139. 'url solutions'\n",
       "140. 'variomedia'\n",
       "141. 'vautron'\n",
       "142. 'virtua drug'\n",
       "143. 'web commerce comm'\n",
       "144. 'web werks'\n",
       "145. 'web4africa'\n",
       "146. 'webnames'\n",
       "147. 'west263 international'\n",
       "148. 'whois networks'\n",
       "149. 'wild west'\n",
       "150. 'xiamen 35.com'\n",
       "151. 'xiamen chinasource'\n",
       "152. 'xiamen nawang'\n",
       "153. 'xin net'\n",
       "154. 'zhengzhou century connect'\n",
       "155. 'zhengzhou zitian'\n",
       "\n",
       "\n"
      ],
      "text/plain": [
       "  [1] namecheap                  gmo                       \n",
       "  [3] alibaba                    go daddy                  \n",
       "  [5] pdr ltd                    reg.ru                    \n",
       "  [7] chengdu west               gandi sas                 \n",
       "  [9] hostinger                  zhengzhou century connect \n",
       " [11] uniregistrar               onlinenic                 \n",
       " [13] tucows                     fbs                       \n",
       " [15] dynadot                    network solutions         \n",
       " [17] url solutions              enom                      \n",
       " [19] 1&1 internet               ovh                       \n",
       " [21] realtime register          key-systems               \n",
       " [23] namesilo                   beget                     \n",
       " [25] dotserve inc               west263 international     \n",
       " [27] hosting ukraine            domain.com - registrar    \n",
       " [29] ru-center                  hosting concepts          \n",
       " [31] nics telekom               cronon ag                 \n",
       " [33] google                     name.com                  \n",
       " [35] soluciones corporativas    shanghai meicheng         \n",
       " [37] xin net                    eranet                    \n",
       " [39] ascio                      gabia                     \n",
       " [41] united domains             global domains            \n",
       " [43] web commerce comm          porkbun                   \n",
       " [45] mesh digital               tld registrar solns       \n",
       " [47] automattic                 jogjacamp                 \n",
       " [49] rumahweb                   mat bao                   \n",
       " [51] alibaba sg                 ligne web services        \n",
       " [53] p.a viet nam               euro dns                  \n",
       " [55] bizcn                      metaregistrar             \n",
       " [57] csl                        instra corporation        \n",
       " [59] crazy domains              1api                      \n",
       " [61] gransy                     10dencehispahard          \n",
       " [63] internetx                  diamatrix                 \n",
       " [65] shanghai best oray         xiamen chinasource        \n",
       " [67] dotname korea              liquidnet                 \n",
       " [69] nicenic                    nhan hoa software         \n",
       " [71] register.com               wild west                 \n",
       " [73] chengdu fly                ledl.net                  \n",
       " [75] promo people               netowl                    \n",
       " [77] domeneshop                 netim                     \n",
       " [79] registrator domenov        epik llc                  \n",
       " [81] 22net inc                  paragon internet          \n",
       " [83] zhengzhou zitian           epag                      \n",
       " [85] markmonitor                dinahosting               \n",
       " [87] 101 domain                 atak                      \n",
       " [89] xiamen nawang              vautron                   \n",
       " [91] web4africa                 csc corporate             \n",
       " [93] internetworx ltd           registrygate              \n",
       " [95] webnames                   ab name isp               \n",
       " [97] online sas                 marcaria.com              \n",
       " [99] melbourne it               super registry            \n",
       "[101] corehub                    synergy wholesale         \n",
       "[103] nameshield                 com laude                 \n",
       "[105] ejee group                 domaininfo                \n",
       "[107] foshan yidong              opentld b.v.              \n",
       "[109] xiamen 35.com              freeparking               \n",
       "[111] todaynic                   brandma                   \n",
       "[113] c-soft oy                  evoplus ltd               \n",
       "[115] planet hoster              blacknight                \n",
       "[117] domaindiscover.com         internet gmbh             \n",
       "[119] variomedia                 alpnames                  \n",
       "[121] bb online                  cps-datensysteme          \n",
       "[123] mijn internet              netearth one              \n",
       "[125] netistrar                  safenames ltd             \n",
       "[127] server plan                tecnocratica centro       \n",
       "[129] beijing guoxu              dnc holdings              \n",
       "[131] domain the net             ename tech                \n",
       "[133] entorno digital            inames                    \n",
       "[135] innovadeus                 mailclub                  \n",
       "[137] nameweb                    ownregistrar              \n",
       "[139] regtime ltd                sibername                 \n",
       "[141] the registrar company b.v. boltn                     \n",
       "[143] brandsight                 cci reg s.a.              \n",
       "[145] domain-it                  eims                      \n",
       "[147] eu technology              french connexion          \n",
       "[149] global village             jiangsu bangning          \n",
       "[151] net4 india                 ownregistrar, inc.        \n",
       "[153] virtua drug                web werks                 \n",
       "[155] whois networks            \n",
       "155 Levels: 1&1 internet 101 domain 10dencehispahard 1api ... zhengzhou zitian"
      ]
     },
     "metadata": {},
     "output_type": "display_data"
    }
   ],
   "source": [
    "temp <- joint_pred_df[c(\"reg\",\"obs_count_s\",\"na_count_s\",\"tpr_0.5_s\",\"tpr_0.5_r\",\"aucpr_s\",\"aucpr_r\",\"aucpr_srrat\")] %>% arrange(desc(obs_count_s))\n",
    "temp$reg"
   ]
  },
  {
   "cell_type": "code",
   "execution_count": 72,
   "metadata": {},
   "outputs": [
    {
     "name": "stdout",
     "output_type": "stream",
     "text": [
      "Training & Testing  namecheap  forest.Training & Testing  gmo  forest.Training & Testing  alibaba  forest.Training & Testing  go daddy  forest.Training & Testing remaining aggregate forest."
     ]
    }
   ],
   "source": [
    "\n",
    "seg_rf <- function (reg_list = c('namecheap', 'gmo', 'alibaba', 'go daddy'),\n",
    "                    num_trees = 5,\n",
    "                    train = expiry_train_df_sub,\n",
    "                    test = expiry_test_df_sub) { \n",
    "    \n",
    "\n",
    "\n",
    "    li = list() \n",
    "    for (reg_name in reg_list){\n",
    "        cat(\"Training & Testing \",reg_name,\" forest.\\n\\n\")\n",
    "        train_reg <- train %>% filter(registrar==reg_name)\n",
    "        test_reg <- test %>% filter(registrar==reg_name)\n",
    "\n",
    "        ranger_03_reg <- ranger(\n",
    "        formula         = renewal_status ~ ., \n",
    "        data            = train_reg, \n",
    "        importance      = 'impurity', \n",
    "        num.trees       = num_trees,\n",
    "        probability     = TRUE,\n",
    "        mtry            = 3,\n",
    "        min.node.size   = 10,\n",
    "        replace         = FALSE,\n",
    "        sample.fraction = .8,\n",
    "        seed            = 123\n",
    "        )\n",
    "\n",
    "        ranger_predict_03_reg <- predict(ranger_03_reg, \n",
    "                                         data = test_reg,\n",
    "                                         type=\"response\")$predictions\n",
    "        ranger_predict_03_reg <- as.data.frame(ranger_predict_03_reg)$Renewed\n",
    "\n",
    "        test_reg$renewal_prediction <- ranger_predict_03_reg\n",
    "\n",
    "        li[[reg_name]] = test_reg\n",
    "    }\n",
    "\n",
    "    cat(\"Training & Testing remaining aggregate forest.\")\n",
    "    train_reg <- train %>% filter(!(registrar %in% reg_list))\n",
    "    test_reg <- test %>% filter(!(registrar %in% reg_list))\n",
    "\n",
    "    ranger_03_reg <- ranger(\n",
    "    formula         = renewal_status ~ ., \n",
    "    data            = train_reg, \n",
    "    importance      = 'impurity', \n",
    "    num.trees       = num_trees,\n",
    "    probability     = TRUE,\n",
    "    mtry            = 3,\n",
    "    min.node.size   = 10,\n",
    "    replace         = FALSE,\n",
    "    sample.fraction = .8,\n",
    "    seed            = 123\n",
    "    )\n",
    "\n",
    "    ranger_predict_03_reg <- predict(ranger_03_reg, \n",
    "                                     data = test_reg,\n",
    "                                     type=\"response\")$predictions\n",
    "\n",
    "    ranger_predict_03_reg <- as.data.frame(ranger_predict_03_reg)$Renewed\n",
    "\n",
    "    test_reg$renewal_prediction <- ranger_predict_03_reg\n",
    "\n",
    "    li[['Other']] = test_reg\n",
    "    \n",
    "    test_results = rbindlist(li)\n",
    "    \n",
    "    return(test_results)\n",
    "    }\n",
    "\n",
    "write.csv(\"../../data/output/seg_rf_results.csv\")\n",
    "\n",
    "\n",
    "\n",
    "# save(ranger_03_reg, file=\"../../data/output/ranger_03_reg\")\n",
    "# save(ranger_predict_03_reg, \n",
    "#      file=\"../../data/output/ranger_predict_03_reg\")\n",
    "# saveRDS(lift_df_ranger_03_reg, file.path('../../data/output/',\"lift_df_ranger_03_reg\"))\n",
    "\n"
   ]
  },
  {
   "cell_type": "code",
   "execution_count": 73,
   "metadata": {},
   "outputs": [],
   "source": [
    "test_results = rbindlist(li)\n"
   ]
  },
  {
   "cell_type": "code",
   "execution_count": 74,
   "metadata": {},
   "outputs": [
    {
     "data": {
      "text/html": [
       "<style>\n",
       ".list-inline {list-style: none; margin:0; padding: 0}\n",
       ".list-inline>li {display: inline-block}\n",
       ".list-inline>li:not(:last-child)::after {content: \"\\00b7\"; padding: 0 .5ex}\n",
       "</style>\n",
       "<ol class=list-inline><li>296797</li><li>13</li></ol>\n"
      ],
      "text/latex": [
       "\\begin{enumerate*}\n",
       "\\item 296797\n",
       "\\item 13\n",
       "\\end{enumerate*}\n"
      ],
      "text/markdown": [
       "1. 296797\n",
       "2. 13\n",
       "\n",
       "\n"
      ],
      "text/plain": [
       "[1] 296797     13"
      ]
     },
     "metadata": {},
     "output_type": "display_data"
    }
   ],
   "source": [
    "dim(test_results)"
   ]
  },
  {
   "cell_type": "code",
   "execution_count": 75,
   "metadata": {},
   "outputs": [
    {
     "data": {
      "text/html": [
       "<style>\n",
       ".list-inline {list-style: none; margin:0; padding: 0}\n",
       ".list-inline>li {display: inline-block}\n",
       ".list-inline>li:not(:last-child)::after {content: \"\\00b7\"; padding: 0 .5ex}\n",
       "</style>\n",
       "<ol class=list-inline><li>296797</li><li>12</li></ol>\n"
      ],
      "text/latex": [
       "\\begin{enumerate*}\n",
       "\\item 296797\n",
       "\\item 12\n",
       "\\end{enumerate*}\n"
      ],
      "text/markdown": [
       "1. 296797\n",
       "2. 12\n",
       "\n",
       "\n"
      ],
      "text/plain": [
       "[1] 296797     12"
      ]
     },
     "metadata": {},
     "output_type": "display_data"
    }
   ],
   "source": [
    "dim(expiry_test_df_sub)"
   ]
  },
  {
   "cell_type": "markdown",
   "metadata": {},
   "source": [
    "# Running full scope"
   ]
  },
  {
   "cell_type": "code",
   "execution_count": 4,
   "metadata": {},
   "outputs": [],
   "source": [
    "reg_list = c('namecheap', 'gmo', 'alibaba', 'go daddy') \n",
    "num_trees = 1000\n",
    "train = expiry_train_df_sub\n",
    "test = expiry_test_df_sub"
   ]
  },
  {
   "cell_type": "code",
   "execution_count": 5,
   "metadata": {},
   "outputs": [
    {
     "name": "stdout",
     "output_type": "stream",
     "text": [
      "\n",
      "Training & Testing  namecheap  forest.\n",
      "Growing trees.. Progress: 69%. Estimated remaining time: 13 seconds.\n",
      "\n",
      "Training & Testing  gmo  forest.\n",
      "\n",
      "Training & Testing  alibaba  forest.\n",
      "\n",
      "Training & Testing  go daddy  forest.\n"
     ]
    }
   ],
   "source": [
    "li = list() \n",
    "for (reg_name in reg_list){\n",
    "    cat(\"\\nTraining & Testing \",reg_name,\" forest.\\n\")\n",
    "    train_reg <- train %>% filter(registrar==reg_name)\n",
    "    test_reg <- test %>% filter(registrar==reg_name)\n",
    "\n",
    "    ranger_03_reg <- ranger(\n",
    "    formula         = renewal_status ~ ., \n",
    "    data            = train_reg, \n",
    "    importance      = 'impurity', \n",
    "    num.trees       = num_trees,\n",
    "    probability     = TRUE,\n",
    "#         mtry            = 3,\n",
    "#         min.node.size   = 10,\n",
    "#         replace         = FALSE,\n",
    "#         sample.fraction = .8,\n",
    "    seed            = 123\n",
    "    )\n",
    "\n",
    "    ranger_predict_03_reg <- predict(ranger_03_reg, \n",
    "                                     data = test_reg,\n",
    "                                     type=\"response\")$predictions\n",
    "    ranger_predict_03_reg <- as.data.frame(ranger_predict_03_reg)$Renewed\n",
    "\n",
    "    test_reg$renewal_prediction <- ranger_predict_03_reg\n",
    "\n",
    "    li[[reg_name]] = test_reg\n",
    "}"
   ]
  },
  {
   "cell_type": "code",
   "execution_count": 6,
   "metadata": {},
   "outputs": [
    {
     "data": {
      "text/html": [
       "4"
      ],
      "text/latex": [
       "4"
      ],
      "text/markdown": [
       "4"
      ],
      "text/plain": [
       "[1] 4"
      ]
     },
     "metadata": {},
     "output_type": "display_data"
    }
   ],
   "source": [
    "length(li)"
   ]
  },
  {
   "cell_type": "code",
   "execution_count": 8,
   "metadata": {},
   "outputs": [
    {
     "data": {
      "text/html": [
       "<table>\n",
       "<caption>A matrix: 2 × 4 of type int</caption>\n",
       "<thead>\n",
       "\t<tr><th scope=col>namecheap</th><th scope=col>gmo</th><th scope=col>alibaba</th><th scope=col>go daddy</th></tr>\n",
       "</thead>\n",
       "<tbody>\n",
       "\t<tr><td>55117</td><td>31494</td><td>30567</td><td>27537</td></tr>\n",
       "\t<tr><td>   13</td><td>   13</td><td>   13</td><td>   13</td></tr>\n",
       "</tbody>\n",
       "</table>\n"
      ],
      "text/latex": [
       "A matrix: 2 × 4 of type int\n",
       "\\begin{tabular}{llll}\n",
       " namecheap & gmo & alibaba & go daddy\\\\\n",
       "\\hline\n",
       "\t 55117 & 31494 & 30567 & 27537\\\\\n",
       "\t    13 &    13 &    13 &    13\\\\\n",
       "\\end{tabular}\n"
      ],
      "text/markdown": [
       "\n",
       "A matrix: 2 × 4 of type int\n",
       "\n",
       "| namecheap | gmo | alibaba | go daddy |\n",
       "|---|---|---|---|\n",
       "| 55117 | 31494 | 30567 | 27537 |\n",
       "|    13 |    13 |    13 |    13 |\n",
       "\n"
      ],
      "text/plain": [
       "     namecheap gmo   alibaba go daddy\n",
       "[1,] 55117     31494 30567   27537   \n",
       "[2,]    13        13    13      13   "
      ]
     },
     "metadata": {},
     "output_type": "display_data"
    }
   ],
   "source": [
    "sapply(li, dim)"
   ]
  },
  {
   "cell_type": "code",
   "execution_count": 17,
   "metadata": {},
   "outputs": [
    {
     "name": "stdout",
     "output_type": "stream",
     "text": [
      "\n",
      "Training & Testing remaining aggregate forest.\n",
      "Growing trees.. Progress: 16%. Estimated remaining time: 2 minutes, 40 seconds.\n",
      "Growing trees.. Progress: 33%. Estimated remaining time: 2 minutes, 4 seconds.\n",
      "Growing trees.. Progress: 51%. Estimated remaining time: 1 minute, 29 seconds.\n",
      "Growing trees.. Progress: 68%. Estimated remaining time: 57 seconds.\n",
      "Growing trees.. Progress: 85%. Estimated remaining time: 26 seconds.\n"
     ]
    }
   ],
   "source": [
    "cat(\"\\nTraining & Testing remaining aggregate forest.\\n\")\n",
    "train_reg <- train %>% filter(!(registrar %in% reg_list))\n",
    "test_reg <- test %>% filter(!(registrar %in% reg_list))\n",
    "\n",
    "ranger_03_reg <- ranger(\n",
    "formula         = renewal_status ~ ., \n",
    "data            = train_reg, \n",
    "importance      = 'impurity', \n",
    "num.trees       = num_trees,\n",
    "    probability     = TRUE,\n",
    "#     mtry            = 3,\n",
    "#     min.node.size   = 10,\n",
    "#     replace         = FALSE,\n",
    "#     sample.fraction = .8,\n",
    "seed            = 123\n",
    ")\n",
    "\n",
    "ranger_predict_03_reg <- predict(ranger_03_reg, \n",
    "                                 data = test_reg,\n",
    "                                 type=\"response\")$predictions\n",
    "\n",
    "ranger_predict_03_reg <- as.data.frame(ranger_predict_03_reg)$Renewed"
   ]
  },
  {
   "cell_type": "code",
   "execution_count": 19,
   "metadata": {},
   "outputs": [],
   "source": [
    "test_reg$renewal_prediction <- ranger_predict_03_reg"
   ]
  },
  {
   "cell_type": "code",
   "execution_count": 20,
   "metadata": {},
   "outputs": [],
   "source": [
    "li[['Other']] = test_reg"
   ]
  },
  {
   "cell_type": "code",
   "execution_count": 21,
   "metadata": {},
   "outputs": [],
   "source": [
    "test_results = rbindlist(li, fill=TRUE)\n"
   ]
  },
  {
   "cell_type": "code",
   "execution_count": 30,
   "metadata": {},
   "outputs": [
    {
     "data": {
      "text/html": [
       "<style>\n",
       ".list-inline {list-style: none; margin:0; padding: 0}\n",
       ".list-inline>li {display: inline-block}\n",
       ".list-inline>li:not(:last-child)::after {content: \"\\00b7\"; padding: 0 .5ex}\n",
       "</style>\n",
       "<ol class=list-inline><li>'namecheap'</li><li>'gmo'</li><li>'alibaba'</li><li>'go daddy'</li><li>'Other'</li></ol>\n"
      ],
      "text/latex": [
       "\\begin{enumerate*}\n",
       "\\item 'namecheap'\n",
       "\\item 'gmo'\n",
       "\\item 'alibaba'\n",
       "\\item 'go daddy'\n",
       "\\item 'Other'\n",
       "\\end{enumerate*}\n"
      ],
      "text/markdown": [
       "1. 'namecheap'\n",
       "2. 'gmo'\n",
       "3. 'alibaba'\n",
       "4. 'go daddy'\n",
       "5. 'Other'\n",
       "\n",
       "\n"
      ],
      "text/plain": [
       "[1] \"namecheap\" \"gmo\"       \"alibaba\"   \"go daddy\"  \"Other\"    "
      ]
     },
     "metadata": {},
     "output_type": "display_data"
    }
   ],
   "source": [
    "names(li)"
   ]
  },
  {
   "cell_type": "markdown",
   "metadata": {},
   "source": [
    "# Evaluate Aggregate Seg_RF"
   ]
  },
  {
   "cell_type": "code",
   "execution_count": 22,
   "metadata": {},
   "outputs": [],
   "source": [
    "\n",
    "seg_rf_pred_df_reg = data.frame(\"actual\" = test_results$renewal_status,\n",
    "          \"predicted\" = test_results$renewal_prediction)\n",
    "\n",
    "lift_df_seg_rf <- chart_lift(pred_df = seg_rf_pred_df_reg,\n",
    "                        dep_var = \"actual\",\n",
    "                        pred_var = \"predicted\")\n",
    "\n",
    "gains_plot_seg_rf <- plot_gains (lift_df_seg_rf) \n",
    "\n",
    "auc_seg_rf <- calc_auc(lift_df_seg_rf)\n"
   ]
  },
  {
   "cell_type": "code",
   "execution_count": 28,
   "metadata": {},
   "outputs": [
    {
     "data": {
      "text/html": [
       "0.774080279874793"
      ],
      "text/latex": [
       "0.774080279874793"
      ],
      "text/markdown": [
       "0.774080279874793"
      ],
      "text/plain": [
       "[1] 0.7740803"
      ]
     },
     "metadata": {},
     "output_type": "display_data"
    }
   ],
   "source": [
    "auc_seg_rf"
   ]
  },
  {
   "cell_type": "code",
   "execution_count": 29,
   "metadata": {},
   "outputs": [
    {
     "data": {
      "text/html": [
       "<table>\n",
       "<caption>A data.frame: 10 × 4</caption>\n",
       "<thead>\n",
       "\t<tr><th scope=col>P</th><th scope=col>actu_renwd2</th><th scope=col>gain</th><th scope=col>lift</th></tr>\n",
       "\t<tr><th scope=col>&lt;dbl&gt;</th><th scope=col>&lt;int&gt;</th><th scope=col>&lt;dbl&gt;</th><th scope=col>&lt;dbl&gt;</th></tr>\n",
       "</thead>\n",
       "<tbody>\n",
       "\t<tr><td>0.1</td><td>10689</td><td>0.3936292</td><td>3.936292</td></tr>\n",
       "\t<tr><td>0.2</td><td>15622</td><td>0.5752900</td><td>2.876450</td></tr>\n",
       "\t<tr><td>0.3</td><td>18936</td><td>0.6973301</td><td>2.324434</td></tr>\n",
       "\t<tr><td>0.4</td><td>21644</td><td>0.7970539</td><td>1.992635</td></tr>\n",
       "\t<tr><td>0.5</td><td>23733</td><td>0.8739827</td><td>1.747965</td></tr>\n",
       "\t<tr><td>0.6</td><td>25423</td><td>0.9362180</td><td>1.560363</td></tr>\n",
       "\t<tr><td>0.7</td><td>26493</td><td>0.9756214</td><td>1.393745</td></tr>\n",
       "\t<tr><td>0.8</td><td>26956</td><td>0.9926717</td><td>1.240840</td></tr>\n",
       "\t<tr><td>0.9</td><td>27128</td><td>0.9990057</td><td>1.110006</td></tr>\n",
       "\t<tr><td>1.0</td><td>27155</td><td>1.0000000</td><td>1.000000</td></tr>\n",
       "</tbody>\n",
       "</table>\n"
      ],
      "text/latex": [
       "A data.frame: 10 × 4\n",
       "\\begin{tabular}{llll}\n",
       " P & actu\\_renwd2 & gain & lift\\\\\n",
       " <dbl> & <int> & <dbl> & <dbl>\\\\\n",
       "\\hline\n",
       "\t 0.1 & 10689 & 0.3936292 & 3.936292\\\\\n",
       "\t 0.2 & 15622 & 0.5752900 & 2.876450\\\\\n",
       "\t 0.3 & 18936 & 0.6973301 & 2.324434\\\\\n",
       "\t 0.4 & 21644 & 0.7970539 & 1.992635\\\\\n",
       "\t 0.5 & 23733 & 0.8739827 & 1.747965\\\\\n",
       "\t 0.6 & 25423 & 0.9362180 & 1.560363\\\\\n",
       "\t 0.7 & 26493 & 0.9756214 & 1.393745\\\\\n",
       "\t 0.8 & 26956 & 0.9926717 & 1.240840\\\\\n",
       "\t 0.9 & 27128 & 0.9990057 & 1.110006\\\\\n",
       "\t 1.0 & 27155 & 1.0000000 & 1.000000\\\\\n",
       "\\end{tabular}\n"
      ],
      "text/markdown": [
       "\n",
       "A data.frame: 10 × 4\n",
       "\n",
       "| P &lt;dbl&gt; | actu_renwd2 &lt;int&gt; | gain &lt;dbl&gt; | lift &lt;dbl&gt; |\n",
       "|---|---|---|---|\n",
       "| 0.1 | 10689 | 0.3936292 | 3.936292 |\n",
       "| 0.2 | 15622 | 0.5752900 | 2.876450 |\n",
       "| 0.3 | 18936 | 0.6973301 | 2.324434 |\n",
       "| 0.4 | 21644 | 0.7970539 | 1.992635 |\n",
       "| 0.5 | 23733 | 0.8739827 | 1.747965 |\n",
       "| 0.6 | 25423 | 0.9362180 | 1.560363 |\n",
       "| 0.7 | 26493 | 0.9756214 | 1.393745 |\n",
       "| 0.8 | 26956 | 0.9926717 | 1.240840 |\n",
       "| 0.9 | 27128 | 0.9990057 | 1.110006 |\n",
       "| 1.0 | 27155 | 1.0000000 | 1.000000 |\n",
       "\n"
      ],
      "text/plain": [
       "   P   actu_renwd2 gain      lift    \n",
       "1  0.1 10689       0.3936292 3.936292\n",
       "2  0.2 15622       0.5752900 2.876450\n",
       "3  0.3 18936       0.6973301 2.324434\n",
       "4  0.4 21644       0.7970539 1.992635\n",
       "5  0.5 23733       0.8739827 1.747965\n",
       "6  0.6 25423       0.9362180 1.560363\n",
       "7  0.7 26493       0.9756214 1.393745\n",
       "8  0.8 26956       0.9926717 1.240840\n",
       "9  0.9 27128       0.9990057 1.110006\n",
       "10 1.0 27155       1.0000000 1.000000"
      ]
     },
     "metadata": {},
     "output_type": "display_data"
    }
   ],
   "source": [
    "lift_df_seg_rf"
   ]
  },
  {
   "cell_type": "code",
   "execution_count": 39,
   "metadata": {},
   "outputs": [
    {
     "name": "stdout",
     "output_type": "stream",
     "text": [
      "namecheap\n",
      "     P actu_renwd2      gain     lift\n",
      "1  0.1        1120 0.3365385 3.365385\n",
      "2  0.2        1619 0.4864784 2.432392\n",
      "3  0.3        2003 0.6018630 2.006210\n",
      "4  0.4        2334 0.7013221 1.753305\n",
      "5  0.5        2628 0.7896635 1.579327\n",
      "6  0.6        2866 0.8611779 1.435296\n",
      "7  0.7        3050 0.9164663 1.309238\n",
      "8  0.8        3190 0.9585337 1.198167\n",
      "9  0.9        3285 0.9870793 1.096755\n",
      "10 1.0        3328 1.0000000 1.000000\n",
      "\n",
      "gmo\n",
      "     P actu_renwd2      gain     lift\n",
      "1  0.1         567 0.4153846 4.153846\n",
      "2  0.2         891 0.6527473 3.263736\n",
      "3  0.3        1023 0.7494505 2.498168\n",
      "4  0.4        1095 0.8021978 2.005495\n",
      "5  0.5        1159 0.8490842 1.698168\n",
      "6  0.6        1239 0.9076923 1.512821\n",
      "7  0.7        1296 0.9494505 1.356358\n",
      "8  0.8        1347 0.9868132 1.233516\n",
      "9  0.9        1362 0.9978022 1.108669\n",
      "10 1.0        1365 1.0000000 1.000000\n",
      "\n",
      "alibaba\n",
      "     P actu_renwd2      gain     lift\n",
      "1  0.1         533 0.5100478 5.100478\n",
      "2  0.2         803 0.7684211 3.842105\n",
      "3  0.3         930 0.8899522 2.966507\n",
      "4  0.4         988 0.9454545 2.363636\n",
      "5  0.5        1023 0.9789474 1.957895\n",
      "6  0.6        1033 0.9885167 1.647528\n",
      "7  0.7        1036 0.9913876 1.416268\n",
      "8  0.8        1038 0.9933014 1.241627\n",
      "9  0.9        1045 1.0000000 1.111111\n",
      "10 1.0        1045 1.0000000 1.000000\n",
      "\n",
      "go daddy\n",
      "     P actu_renwd2      gain     lift\n",
      "1  0.1        1237 0.3065675 3.065675\n",
      "2  0.2        1988 0.4926890 2.463445\n",
      "3  0.3        2393 0.5930607 1.976869\n",
      "4  0.4        2857 0.7080545 1.770136\n",
      "5  0.5        3241 0.8032218 1.606444\n",
      "6  0.6        3571 0.8850062 1.475010\n",
      "7  0.7        3773 0.9350682 1.335812\n",
      "8  0.8        3921 0.9717472 1.214684\n",
      "9  0.9        3999 0.9910781 1.101198\n",
      "10 1.0        4035 1.0000000 1.000000\n",
      "\n",
      "Other\n",
      "     P actu_renwd2      gain     lift\n",
      "1  0.1        6793 0.3908066 3.908066\n",
      "2  0.2       10611 0.6104591 3.052295\n",
      "3  0.3       12896 0.7419169 2.473056\n",
      "4  0.4       14378 0.8271775 2.067944\n",
      "5  0.5       15460 0.8894258 1.778852\n",
      "6  0.6       16457 0.9467840 1.577973\n",
      "7  0.7       17143 0.9862501 1.408929\n",
      "8  0.8       17355 0.9984467 1.248058\n",
      "9  0.9       17380 0.9998849 1.110983\n",
      "10 1.0       17382 1.0000000 1.000000\n",
      "\n"
     ]
    }
   ],
   "source": [
    "for (list_element in names(li)){\n",
    "    cat(list_element)\n",
    "    cat('\\n')\n",
    "    print(chart_lift(pred_df =  data.frame(\"actual\" = li[[list_element]]$renewal_status,\n",
    "          \"predicted\" = li[[list_element]]$renewal_prediction),\n",
    "                        dep_var = \"actual\",\n",
    "                        pred_var = \"predicted\"))\n",
    "    cat('\\n')\n",
    "}\n"
   ]
  },
  {
   "cell_type": "code",
   "execution_count": 25,
   "metadata": {},
   "outputs": [],
   "source": [
    "# seg_glm_expiry_exptest <- readRDS(\"../../data/seg_glm_expiry_exptest\")\n",
    "\n",
    "seg_glm_expiry_exptest_pred_df = data.frame(\"actual\" = expiry_test_df_sub$renewal_status,\n",
    "          \"predicted\" = seg_glm_expiry_exptest$first_renewal_prediction)\n",
    "\n",
    "lift_df_seg_glm_expiry_exptest <- chart_lift(pred_df = seg_glm_expiry_exptest_pred_df,\n",
    "                        dep_var = \"actual\",\n",
    "                        pred_var = \"predicted\")\n",
    "\n",
    "gains_plot_seg_glm_expiry_exptest <- plot_gains (lift_df_seg_glm_expiry_exptest) \n",
    "\n",
    "auc_seg_glm_expiry_exptest<- calc_auc(lift_df_seg_glm_expiry_exptest)"
   ]
  },
  {
   "cell_type": "code",
   "execution_count": 26,
   "metadata": {},
   "outputs": [
    {
     "data": {
      "text/html": [
       "<strong>png:</strong> 2"
      ],
      "text/latex": [
       "\\textbf{png:} 2"
      ],
      "text/markdown": [
       "**png:** 2"
      ],
      "text/plain": [
       "png \n",
       "  2 "
      ]
     },
     "metadata": {},
     "output_type": "display_data"
    }
   ],
   "source": [
    "plot_multigains_03_summ5 <- plot_multigains(\n",
    "    lift_df_list=list(\n",
    "        seg_rf = lift_df_seg_rf,\n",
    "        seg_lm = lift_df_seg_glm_expiry_exptest),\n",
    "    auc_list = list(\n",
    "        seg_rf= calc_auc(lift_df_seg_rf),\n",
    "        seg_lm= calc_auc(lift_df_seg_glm_expiry_exptest)))\n",
    "png(file = \"../../data/output/plot_multigains_03_summ5.png\",\n",
    "    width = 500, height = 375)\n",
    "plot(plot_multigains_03_summ5)\n",
    "dev.off()"
   ]
  },
  {
   "cell_type": "code",
   "execution_count": 27,
   "metadata": {},
   "outputs": [
    {
     "data": {
      "image/png": "[encoded data removed]",
      "text/plain": [
       "plot without title"
      ]
     },
     "metadata": {
      "image/png": {
       "height": 420,
       "width": 420
      },
      "text/plain": {
       "height": 420,
       "width": 420
      }
     },
     "output_type": "display_data"
    }
   ],
   "source": [
    "plot_multigains_03_summ5"
   ]
  },
  {
   "cell_type": "code",
   "execution_count": 42,
   "metadata": {},
   "outputs": [],
   "source": [
    "write.csv(test_results, \"../../data/output/seg_rf_results.csv\")\n",
    "save(li, file=\"../../data/output/li\")\n",
    "\n",
    "system(\"gsutil cp /home/jupyter/local/Domains_202003/data/output/* gs://data_outputt/output/ \")\n",
    "system(\"mv /home/jupyter/local/Domains_202003/data/output/* /home/jupyter/local/Domains_202003/data/\")\n"
   ]
  },
  {
   "cell_type": "code",
   "execution_count": null,
   "metadata": {},
   "outputs": [],
   "source": []
  }
 ],
 "metadata": {
  "environment": {
   "name": "r-cpu.3-6.m48",
   "type": "gcloud",
   "uri": "gcr.io/deeplearning-platform-release/r-cpu.3-6:m48"
  },
  "kernelspec": {
   "display_name": "R",
   "language": "R",
   "name": "ir"
  },
  "language_info": {
   "codemirror_mode": "r",
   "file_extension": ".r",
   "mimetype": "text/x-r-source",
   "name": "R",
   "pygments_lexer": "r",
   "version": "3.6.3"
  }
 },
 "nbformat": 4,
 "nbformat_minor": 4
}
