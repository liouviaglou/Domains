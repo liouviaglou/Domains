{
 "cells": [
  {
   "cell_type": "markdown",
   "metadata": {},
   "source": [
    "# Fallback Table Metalearning ANALYSIS FOR DELIVERABLE\n",
    "0. domain level predicitons for all models\n",
    "\n",
    "Metrics:\n",
    "\n",
    "1. Agg number of of domains at tld-registrar level. At a day level or month level. Side by side — sum of prob and count of actual\n",
    "\n",
    "2. Lift @ 10%\n",
    "\n",
    "3. Inverse of the lift metric . How convincingly we can mark our not-renewal (higher threshold — 30%)\n",
    "\n",
    "4.  Domain level, confusion matrix. Top ted-reseller combinations . Top 5-7 tld reseller combinations and also at a aggregate level. Determining thresholds — top thresholds go daddy, google, . Compare to (1)\n"
   ]
  },
  {
   "cell_type": "code",
   "execution_count": 1,
   "metadata": {},
   "outputs": [],
   "source": [
    "options(repr.matrix.max.cols=50, repr.matrix.max.rows=100)"
   ]
  },
  {
   "cell_type": "code",
   "execution_count": 2,
   "metadata": {},
   "outputs": [],
   "source": [
    "# install.packages(\"pkgcond\")\n",
    "# install.packages('compare')"
   ]
  },
  {
   "cell_type": "code",
   "execution_count": 3,
   "metadata": {},
   "outputs": [
    {
     "name": "stderr",
     "output_type": "stream",
     "text": [
      "\n",
      "Attaching package: ‘dplyr’\n",
      "\n",
      "\n",
      "The following objects are masked from ‘package:stats’:\n",
      "\n",
      "    filter, lag\n",
      "\n",
      "\n",
      "The following objects are masked from ‘package:base’:\n",
      "\n",
      "    intersect, setdiff, setequal, union\n",
      "\n",
      "\n",
      "\n",
      "Attaching package: ‘data.table’\n",
      "\n",
      "\n",
      "The following objects are masked from ‘package:dplyr’:\n",
      "\n",
      "    between, first, last\n",
      "\n",
      "\n",
      "Loading required package: grid\n",
      "\n",
      "Loading required package: libcoin\n",
      "\n",
      "Loading required package: mvtnorm\n",
      "\n",
      "Loading required package: lattice\n",
      "\n",
      "Loading required package: ggplot2\n",
      "\n",
      "randomForest 4.6-14\n",
      "\n",
      "Type rfNews() to see new features/changes/bug fixes.\n",
      "\n",
      "\n",
      "Attaching package: ‘randomForest’\n",
      "\n",
      "\n",
      "The following object is masked from ‘package:ggplot2’:\n",
      "\n",
      "    margin\n",
      "\n",
      "\n",
      "The following object is masked from ‘package:dplyr’:\n",
      "\n",
      "    combine\n",
      "\n",
      "\n",
      "\n",
      "Attaching package: ‘ranger’\n",
      "\n",
      "\n",
      "The following object is masked from ‘package:randomForest’:\n",
      "\n",
      "    importance\n",
      "\n",
      "\n",
      "\n",
      "Attaching package: ‘plotly’\n",
      "\n",
      "\n",
      "The following object is masked from ‘package:ggplot2’:\n",
      "\n",
      "    last_plot\n",
      "\n",
      "\n",
      "The following object is masked from ‘package:stats’:\n",
      "\n",
      "    filter\n",
      "\n",
      "\n",
      "The following object is masked from ‘package:graphics’:\n",
      "\n",
      "    layout\n",
      "\n",
      "\n",
      "\n",
      "Attaching package: ‘compare’\n",
      "\n",
      "\n",
      "The following object is masked from ‘package:base’:\n",
      "\n",
      "    isTRUE\n",
      "\n",
      "\n"
     ]
    },
    {
     "data": {
      "text/html": [
       "'/home/jupyter/Domains_202003/scripts/phaseII_06_fallbacksupp'"
      ],
      "text/latex": [
       "'/home/jupyter/Domains\\_202003/scripts/phaseII\\_06\\_fallbacksupp'"
      ],
      "text/markdown": [
       "'/home/jupyter/Domains_202003/scripts/phaseII_06_fallbacksupp'"
      ],
      "text/plain": [
       "[1] \"/home/jupyter/Domains_202003/scripts/phaseII_06_fallbacksupp\""
      ]
     },
     "metadata": {},
     "output_type": "display_data"
    }
   ],
   "source": [
    "library(dplyr)\n",
    "library(data.table)\n",
    "library(partykit)\n",
    "library(tictoc)\n",
    "library(caret)\n",
    "library(e1071)\n",
    "library(randomForest)\n",
    "library(ranger)\n",
    "\n",
    "#for 3d plotting\n",
    "library(akima)\n",
    "library(plotly)\n",
    "\n",
    "# for prep data\n",
    "library(stringr)\n",
    "library(pbapply)\n",
    "library(stringdist)\n",
    "library(data.table)\n",
    "library(dominanceanalysis)\n",
    "library(compare)\n",
    "\n",
    "\n",
    "getwd()"
   ]
  },
  {
   "cell_type": "code",
   "execution_count": 4,
   "metadata": {},
   "outputs": [
    {
     "name": "stderr",
     "output_type": "stream",
     "text": [
      "\n",
      "Attaching package: ‘tidyr’\n",
      "\n",
      "\n",
      "The following object is masked from ‘package:stringdist’:\n",
      "\n",
      "    extract\n",
      "\n",
      "\n"
     ]
    }
   ],
   "source": [
    "\n",
    "source('../orig/functions.R')\n",
    "\n",
    "source('../orig/functions_models.R')\n",
    "\n",
    "source('../phaseII_03_forest/functions_eval.R')\n"
   ]
  },
  {
   "cell_type": "code",
   "execution_count": 5,
   "metadata": {},
   "outputs": [],
   "source": [
    "source('functions_metalearning.R')"
   ]
  },
  {
   "cell_type": "code",
   "execution_count": 6,
   "metadata": {},
   "outputs": [],
   "source": [
    "source('functions_fallback.R')"
   ]
  },
  {
   "cell_type": "code",
   "execution_count": 7,
   "metadata": {},
   "outputs": [],
   "source": [
    "# source('load_prep_data_expiry_2.R') #read in train test and predictions manually instead\n",
    "\n",
    "# READ CSV's\n",
    "# expiry_df_test_preds <- read.csv(\"../../data/output/datapull_20201116/expiry_df_test_preds_fb.csv\")\n",
    "# expiry_df_train <- read.csv(\"../../data/output/datapull_20201116/expiry_df_train.csv\")\n",
    "# expiry_df_test <- read.csv(\"../../data/output/datapull_20201116/expiry_df_test.csv\")\n",
    "# metametrics_df <- read.csv(\"../../data/output/datapull_20201116/expiry_metametrics_df.csv\")\n",
    "# expiry_df\n",
    "# expiry_train_df \n",
    "# expiry_test_df \n",
    "# expiry_list\n",
    "# expiry_train_list\n",
    "# expiry_test_list"
   ]
  },
  {
   "cell_type": "code",
   "execution_count": 8,
   "metadata": {},
   "outputs": [],
   "source": [
    "dataDir='/home/jupyter/Domains_202003/data/output/datapull_20201116'\n",
    "\n",
    "modelDir='/home/jupyter/Domains_202003/data/output/models_20201104'\n",
    "\n",
    "outputDir='/home/jupyter/Domains_202003/data/output/datapull_20201127'"
   ]
  },
  {
   "cell_type": "markdown",
   "metadata": {},
   "source": [
    "# Load meta-based predictions on new datapull"
   ]
  },
  {
   "cell_type": "code",
   "execution_count": 9,
   "metadata": {},
   "outputs": [
    {
     "name": "stdout",
     "output_type": "stream",
     "text": [
      "Expiry data originally has 430867 rows and 430867 missing geo's.\n",
      "... after intial merge on reseller & _country, expiry has 430867 rows and 430736 missing geo's.\n",
      "... after secondary fill with _country, expiry has 430867 rows and 432 missing geo's.\n",
      "... after manual tweaks with _country, expiry has 430867 rows and 7 missing geo's.\n"
     ]
    },
    {
     "data": {
      "text/html": [
       "<style>\n",
       ".list-inline {list-style: none; margin:0; padding: 0}\n",
       ".list-inline>li {display: inline-block}\n",
       ".list-inline>li:not(:last-child)::after {content: \"\\00b7\"; padding: 0 .5ex}\n",
       "</style>\n",
       "<ol class=list-inline><li>430867</li><li>33</li></ol>\n"
      ],
      "text/latex": [
       "\\begin{enumerate*}\n",
       "\\item 430867\n",
       "\\item 33\n",
       "\\end{enumerate*}\n"
      ],
      "text/markdown": [
       "1. 430867\n",
       "2. 33\n",
       "\n",
       "\n"
      ],
      "text/plain": [
       "[1] 430867     33"
      ]
     },
     "metadata": {},
     "output_type": "display_data"
    },
    {
     "data": {
      "text/html": [
       "<table>\n",
       "<caption>A data.frame: 6 × 33</caption>\n",
       "<thead>\n",
       "\t<tr><th></th><th scope=col>reseller</th><th scope=col>reseller_country</th><th scope=col>renewal_type</th><th scope=col>renewed_count</th><th scope=col>expiry_date</th><th scope=col>creation_date</th><th scope=col>status</th><th scope=col>domain_id</th><th scope=col>domain</th><th scope=col>registrar</th><th scope=col>registrant_country</th><th scope=col>reg_period</th><th scope=col>reg_revenue</th><th scope=col>reg_arpt</th><th scope=col>renew_mbg</th><th scope=col>renewal_item_id</th><th scope=col>renew_type</th><th scope=col>autorenew_type</th><th scope=col>renewal_status</th><th scope=col>renew_date</th><th scope=col>renew_arpt</th><th scope=col>gibb_score</th><th scope=col>pattern</th><th scope=col>pattern_domain_count</th><th scope=col>day_domains</th><th scope=col>sld_length</th><th scope=col>sld_type</th><th scope=col>sld_type2</th><th scope=col>tld</th><th scope=col>region</th><th scope=col>log_reg_arpt</th><th scope=col>tld_registrar_index</th><th scope=col>reseller_geo</th></tr>\n",
       "\t<tr><th></th><th scope=col>&lt;fct&gt;</th><th scope=col>&lt;fct&gt;</th><th scope=col>&lt;chr&gt;</th><th scope=col>&lt;int&gt;</th><th scope=col>&lt;date&gt;</th><th scope=col>&lt;date&gt;</th><th scope=col>&lt;chr&gt;</th><th scope=col>&lt;int&gt;</th><th scope=col>&lt;chr&gt;</th><th scope=col>&lt;chr&gt;</th><th scope=col>&lt;chr&gt;</th><th scope=col>&lt;int&gt;</th><th scope=col>&lt;dbl&gt;</th><th scope=col>&lt;dbl&gt;</th><th scope=col>&lt;int&gt;</th><th scope=col>&lt;int&gt;</th><th scope=col>&lt;chr&gt;</th><th scope=col>&lt;chr&gt;</th><th scope=col>&lt;chr&gt;</th><th scope=col>&lt;date&gt;</th><th scope=col>&lt;dbl&gt;</th><th scope=col>&lt;dbl&gt;</th><th scope=col>&lt;chr&gt;</th><th scope=col>&lt;int&gt;</th><th scope=col>&lt;int&gt;</th><th scope=col>&lt;int&gt;</th><th scope=col>&lt;chr&gt;</th><th scope=col>&lt;chr&gt;</th><th scope=col>&lt;chr&gt;</th><th scope=col>&lt;chr&gt;</th><th scope=col>&lt;dbl&gt;</th><th scope=col>&lt;chr&gt;</th><th scope=col>&lt;fct&gt;</th></tr>\n",
       "</thead>\n",
       "<tbody>\n",
       "\t<tr><th scope=row>1</th><td>1&amp;1 Internet</td><td>Germany</td><td>FirstTime</td><td>1</td><td>2020-09-17</td><td>2019-09-17</td><td>Active</td><td>129547106</td><td><span style=white-space:pre-wrap>preciodeloro.online             </span></td><td>1&amp;1 Internet</td><td>NA</td><td>1</td><td> 5</td><td> 5</td><td>0</td><td>279480871</td><td>transfer</td><td>NA</td><td>Renewed</td><td>2020-01-14</td><td>25</td><td>7.19</td><td><span style=white-space:pre-wrap>preciodeloro             </span></td><td>1</td><td>66</td><td>12</td><td><span style=white-space:pre-wrap>l       </span></td><td><span style=white-space:pre-wrap>12l       </span></td><td>online</td><td>Non China</td><td>1.609438</td><td>online1&amp;1 internet</td><td>EU</td></tr>\n",
       "\t<tr><th scope=row>2</th><td>1&amp;1 Internet</td><td>Germany</td><td>FirstTime</td><td>1</td><td>2020-09-10</td><td>2018-09-10</td><td>Active</td><td> 76285079</td><td><span style=white-space:pre-wrap>advance7.online                 </span></td><td>1&amp;1 Internet</td><td>NA</td><td>2</td><td>30</td><td>15</td><td>0</td><td>225404981</td><td>transfer</td><td>NA</td><td>Renewed</td><td>2019-08-27</td><td>25</td><td>5.42</td><td><span style=white-space:pre-wrap>advance7                 </span></td><td>1</td><td>73</td><td> 8</td><td><span style=white-space:pre-wrap>ln      </span></td><td><span style=white-space:pre-wrap>8ln       </span></td><td>online</td><td>Non China</td><td>2.708050</td><td>online1&amp;1 internet</td><td>EU</td></tr>\n",
       "\t<tr><th scope=row>3</th><td>1&amp;1 Internet</td><td>Germany</td><td>FirstTime</td><td>1</td><td>2020-10-02</td><td>2019-10-02</td><td>Active</td><td>132626216</td><td>stellenanzeigen-on-demand.online</td><td>1&amp;1 Internet</td><td>NA</td><td>1</td><td> 5</td><td> 5</td><td>0</td><td>323941649</td><td>renewal </td><td>NA</td><td>Renewed</td><td>2020-06-22</td><td>25</td><td>6.99</td><td>stellenanzeigen-on-demand</td><td>1</td><td>61</td><td>25</td><td>hyphen-l</td><td>25hyphen-l</td><td>online</td><td>Non China</td><td>1.609438</td><td>online1&amp;1 internet</td><td>EU</td></tr>\n",
       "\t<tr><th scope=row>4</th><td>1&amp;1 Internet</td><td>Germany</td><td>FirstTime</td><td>1</td><td>2020-09-07</td><td>2019-09-07</td><td>Active</td><td>127423021</td><td><span style=white-space:pre-wrap>colmex.online                   </span></td><td>1&amp;1 Internet</td><td>NA</td><td>1</td><td> 5</td><td> 5</td><td>0</td><td>244331895</td><td>renewal </td><td>NA</td><td>Renewed</td><td>2019-10-28</td><td>25</td><td>4.32</td><td><span style=white-space:pre-wrap>colmex                   </span></td><td>1</td><td>82</td><td> 6</td><td><span style=white-space:pre-wrap>l       </span></td><td><span style=white-space:pre-wrap>6l        </span></td><td>online</td><td>Non China</td><td>1.609438</td><td>online1&amp;1 internet</td><td>EU</td></tr>\n",
       "\t<tr><th scope=row>5</th><td>1&amp;1 Internet</td><td>Germany</td><td>FirstTime</td><td>1</td><td>2020-09-08</td><td>2019-09-08</td><td>Active</td><td>127588571</td><td><span style=white-space:pre-wrap>chattaboxforum.online           </span></td><td>1&amp;1 Internet</td><td>NA</td><td>1</td><td> 5</td><td> 5</td><td>0</td><td>229331376</td><td>renewal </td><td>NA</td><td>Renewed</td><td>2019-09-09</td><td>25</td><td>3.66</td><td><span style=white-space:pre-wrap>chattaboxforum           </span></td><td>1</td><td>65</td><td>14</td><td><span style=white-space:pre-wrap>l       </span></td><td><span style=white-space:pre-wrap>14l       </span></td><td>online</td><td>Non China</td><td>1.609438</td><td>online1&amp;1 internet</td><td>EU</td></tr>\n",
       "\t<tr><th scope=row>6</th><td>1&amp;1 Internet</td><td>Germany</td><td>FirstTime</td><td>1</td><td>2020-10-02</td><td>2019-10-02</td><td>Active</td><td>132629291</td><td><span style=white-space:pre-wrap>jobpodcast.online               </span></td><td>1&amp;1 Internet</td><td>NA</td><td>1</td><td> 5</td><td> 5</td><td>0</td><td>323938864</td><td>renewal </td><td>NA</td><td>Renewed</td><td>2020-06-22</td><td>25</td><td>1.96</td><td><span style=white-space:pre-wrap>jobpodcast               </span></td><td>1</td><td>61</td><td>10</td><td><span style=white-space:pre-wrap>l       </span></td><td><span style=white-space:pre-wrap>10l       </span></td><td>online</td><td>Non China</td><td>1.609438</td><td>online1&amp;1 internet</td><td>EU</td></tr>\n",
       "</tbody>\n",
       "</table>\n"
      ],
      "text/latex": [
       "A data.frame: 6 × 33\n",
       "\\begin{tabular}{r|lllllllllllllllllllllllllllllllll}\n",
       "  & reseller & reseller\\_country & renewal\\_type & renewed\\_count & expiry\\_date & creation\\_date & status & domain\\_id & domain & registrar & registrant\\_country & reg\\_period & reg\\_revenue & reg\\_arpt & renew\\_mbg & renewal\\_item\\_id & renew\\_type & autorenew\\_type & renewal\\_status & renew\\_date & renew\\_arpt & gibb\\_score & pattern & pattern\\_domain\\_count & day\\_domains & sld\\_length & sld\\_type & sld\\_type2 & tld & region & log\\_reg\\_arpt & tld\\_registrar\\_index & reseller\\_geo\\\\\n",
       "  & <fct> & <fct> & <chr> & <int> & <date> & <date> & <chr> & <int> & <chr> & <chr> & <chr> & <int> & <dbl> & <dbl> & <int> & <int> & <chr> & <chr> & <chr> & <date> & <dbl> & <dbl> & <chr> & <int> & <int> & <int> & <chr> & <chr> & <chr> & <chr> & <dbl> & <chr> & <fct>\\\\\n",
       "\\hline\n",
       "\t1 & 1\\&1 Internet & Germany & FirstTime & 1 & 2020-09-17 & 2019-09-17 & Active & 129547106 & preciodeloro.online              & 1\\&1 Internet & NA & 1 &  5 &  5 & 0 & 279480871 & transfer & NA & Renewed & 2020-01-14 & 25 & 7.19 & preciodeloro              & 1 & 66 & 12 & l        & 12l        & online & Non China & 1.609438 & online1\\&1 internet & EU\\\\\n",
       "\t2 & 1\\&1 Internet & Germany & FirstTime & 1 & 2020-09-10 & 2018-09-10 & Active &  76285079 & advance7.online                  & 1\\&1 Internet & NA & 2 & 30 & 15 & 0 & 225404981 & transfer & NA & Renewed & 2019-08-27 & 25 & 5.42 & advance7                  & 1 & 73 &  8 & ln       & 8ln        & online & Non China & 2.708050 & online1\\&1 internet & EU\\\\\n",
       "\t3 & 1\\&1 Internet & Germany & FirstTime & 1 & 2020-10-02 & 2019-10-02 & Active & 132626216 & stellenanzeigen-on-demand.online & 1\\&1 Internet & NA & 1 &  5 &  5 & 0 & 323941649 & renewal  & NA & Renewed & 2020-06-22 & 25 & 6.99 & stellenanzeigen-on-demand & 1 & 61 & 25 & hyphen-l & 25hyphen-l & online & Non China & 1.609438 & online1\\&1 internet & EU\\\\\n",
       "\t4 & 1\\&1 Internet & Germany & FirstTime & 1 & 2020-09-07 & 2019-09-07 & Active & 127423021 & colmex.online                    & 1\\&1 Internet & NA & 1 &  5 &  5 & 0 & 244331895 & renewal  & NA & Renewed & 2019-10-28 & 25 & 4.32 & colmex                    & 1 & 82 &  6 & l        & 6l         & online & Non China & 1.609438 & online1\\&1 internet & EU\\\\\n",
       "\t5 & 1\\&1 Internet & Germany & FirstTime & 1 & 2020-09-08 & 2019-09-08 & Active & 127588571 & chattaboxforum.online            & 1\\&1 Internet & NA & 1 &  5 &  5 & 0 & 229331376 & renewal  & NA & Renewed & 2019-09-09 & 25 & 3.66 & chattaboxforum            & 1 & 65 & 14 & l        & 14l        & online & Non China & 1.609438 & online1\\&1 internet & EU\\\\\n",
       "\t6 & 1\\&1 Internet & Germany & FirstTime & 1 & 2020-10-02 & 2019-10-02 & Active & 132629291 & jobpodcast.online                & 1\\&1 Internet & NA & 1 &  5 &  5 & 0 & 323938864 & renewal  & NA & Renewed & 2020-06-22 & 25 & 1.96 & jobpodcast                & 1 & 61 & 10 & l        & 10l        & online & Non China & 1.609438 & online1\\&1 internet & EU\\\\\n",
       "\\end{tabular}\n"
      ],
      "text/markdown": [
       "\n",
       "A data.frame: 6 × 33\n",
       "\n",
       "| <!--/--> | reseller &lt;fct&gt; | reseller_country &lt;fct&gt; | renewal_type &lt;chr&gt; | renewed_count &lt;int&gt; | expiry_date &lt;date&gt; | creation_date &lt;date&gt; | status &lt;chr&gt; | domain_id &lt;int&gt; | domain &lt;chr&gt; | registrar &lt;chr&gt; | registrant_country &lt;chr&gt; | reg_period &lt;int&gt; | reg_revenue &lt;dbl&gt; | reg_arpt &lt;dbl&gt; | renew_mbg &lt;int&gt; | renewal_item_id &lt;int&gt; | renew_type &lt;chr&gt; | autorenew_type &lt;chr&gt; | renewal_status &lt;chr&gt; | renew_date &lt;date&gt; | renew_arpt &lt;dbl&gt; | gibb_score &lt;dbl&gt; | pattern &lt;chr&gt; | pattern_domain_count &lt;int&gt; | day_domains &lt;int&gt; | sld_length &lt;int&gt; | sld_type &lt;chr&gt; | sld_type2 &lt;chr&gt; | tld &lt;chr&gt; | region &lt;chr&gt; | log_reg_arpt &lt;dbl&gt; | tld_registrar_index &lt;chr&gt; | reseller_geo &lt;fct&gt; |\n",
       "|---|---|---|---|---|---|---|---|---|---|---|---|---|---|---|---|---|---|---|---|---|---|---|---|---|---|---|---|---|---|---|---|---|---|\n",
       "| 1 | 1&amp;1 Internet | Germany | FirstTime | 1 | 2020-09-17 | 2019-09-17 | Active | 129547106 | preciodeloro.online              | 1&amp;1 Internet | NA | 1 |  5 |  5 | 0 | 279480871 | transfer | NA | Renewed | 2020-01-14 | 25 | 7.19 | preciodeloro              | 1 | 66 | 12 | l        | 12l        | online | Non China | 1.609438 | online1&amp;1 internet | EU |\n",
       "| 2 | 1&amp;1 Internet | Germany | FirstTime | 1 | 2020-09-10 | 2018-09-10 | Active |  76285079 | advance7.online                  | 1&amp;1 Internet | NA | 2 | 30 | 15 | 0 | 225404981 | transfer | NA | Renewed | 2019-08-27 | 25 | 5.42 | advance7                  | 1 | 73 |  8 | ln       | 8ln        | online | Non China | 2.708050 | online1&amp;1 internet | EU |\n",
       "| 3 | 1&amp;1 Internet | Germany | FirstTime | 1 | 2020-10-02 | 2019-10-02 | Active | 132626216 | stellenanzeigen-on-demand.online | 1&amp;1 Internet | NA | 1 |  5 |  5 | 0 | 323941649 | renewal  | NA | Renewed | 2020-06-22 | 25 | 6.99 | stellenanzeigen-on-demand | 1 | 61 | 25 | hyphen-l | 25hyphen-l | online | Non China | 1.609438 | online1&amp;1 internet | EU |\n",
       "| 4 | 1&amp;1 Internet | Germany | FirstTime | 1 | 2020-09-07 | 2019-09-07 | Active | 127423021 | colmex.online                    | 1&amp;1 Internet | NA | 1 |  5 |  5 | 0 | 244331895 | renewal  | NA | Renewed | 2019-10-28 | 25 | 4.32 | colmex                    | 1 | 82 |  6 | l        | 6l         | online | Non China | 1.609438 | online1&amp;1 internet | EU |\n",
       "| 5 | 1&amp;1 Internet | Germany | FirstTime | 1 | 2020-09-08 | 2019-09-08 | Active | 127588571 | chattaboxforum.online            | 1&amp;1 Internet | NA | 1 |  5 |  5 | 0 | 229331376 | renewal  | NA | Renewed | 2019-09-09 | 25 | 3.66 | chattaboxforum            | 1 | 65 | 14 | l        | 14l        | online | Non China | 1.609438 | online1&amp;1 internet | EU |\n",
       "| 6 | 1&amp;1 Internet | Germany | FirstTime | 1 | 2020-10-02 | 2019-10-02 | Active | 132629291 | jobpodcast.online                | 1&amp;1 Internet | NA | 1 |  5 |  5 | 0 | 323938864 | renewal  | NA | Renewed | 2020-06-22 | 25 | 1.96 | jobpodcast                | 1 | 61 | 10 | l        | 10l        | online | Non China | 1.609438 | online1&amp;1 internet | EU |\n",
       "\n"
      ],
      "text/plain": [
       "  reseller     reseller_country renewal_type renewed_count expiry_date\n",
       "1 1&1 Internet Germany          FirstTime    1             2020-09-17 \n",
       "2 1&1 Internet Germany          FirstTime    1             2020-09-10 \n",
       "3 1&1 Internet Germany          FirstTime    1             2020-10-02 \n",
       "4 1&1 Internet Germany          FirstTime    1             2020-09-07 \n",
       "5 1&1 Internet Germany          FirstTime    1             2020-09-08 \n",
       "6 1&1 Internet Germany          FirstTime    1             2020-10-02 \n",
       "  creation_date status domain_id domain                           registrar   \n",
       "1 2019-09-17    Active 129547106 preciodeloro.online              1&1 Internet\n",
       "2 2018-09-10    Active  76285079 advance7.online                  1&1 Internet\n",
       "3 2019-10-02    Active 132626216 stellenanzeigen-on-demand.online 1&1 Internet\n",
       "4 2019-09-07    Active 127423021 colmex.online                    1&1 Internet\n",
       "5 2019-09-08    Active 127588571 chattaboxforum.online            1&1 Internet\n",
       "6 2019-10-02    Active 132629291 jobpodcast.online                1&1 Internet\n",
       "  registrant_country reg_period reg_revenue reg_arpt renew_mbg renewal_item_id\n",
       "1 NA                 1           5           5       0         279480871      \n",
       "2 NA                 2          30          15       0         225404981      \n",
       "3 NA                 1           5           5       0         323941649      \n",
       "4 NA                 1           5           5       0         244331895      \n",
       "5 NA                 1           5           5       0         229331376      \n",
       "6 NA                 1           5           5       0         323938864      \n",
       "  renew_type autorenew_type renewal_status renew_date renew_arpt gibb_score\n",
       "1 transfer   NA             Renewed        2020-01-14 25         7.19      \n",
       "2 transfer   NA             Renewed        2019-08-27 25         5.42      \n",
       "3 renewal    NA             Renewed        2020-06-22 25         6.99      \n",
       "4 renewal    NA             Renewed        2019-10-28 25         4.32      \n",
       "5 renewal    NA             Renewed        2019-09-09 25         3.66      \n",
       "6 renewal    NA             Renewed        2020-06-22 25         1.96      \n",
       "  pattern                   pattern_domain_count day_domains sld_length\n",
       "1 preciodeloro              1                    66          12        \n",
       "2 advance7                  1                    73           8        \n",
       "3 stellenanzeigen-on-demand 1                    61          25        \n",
       "4 colmex                    1                    82           6        \n",
       "5 chattaboxforum            1                    65          14        \n",
       "6 jobpodcast                1                    61          10        \n",
       "  sld_type sld_type2  tld    region    log_reg_arpt tld_registrar_index\n",
       "1 l        12l        online Non China 1.609438     online1&1 internet \n",
       "2 ln       8ln        online Non China 2.708050     online1&1 internet \n",
       "3 hyphen-l 25hyphen-l online Non China 1.609438     online1&1 internet \n",
       "4 l        6l         online Non China 1.609438     online1&1 internet \n",
       "5 l        14l        online Non China 1.609438     online1&1 internet \n",
       "6 l        10l        online Non China 1.609438     online1&1 internet \n",
       "  reseller_geo\n",
       "1 EU          \n",
       "2 EU          \n",
       "3 EU          \n",
       "4 EU          \n",
       "5 EU          \n",
       "6 EU          "
      ]
     },
     "metadata": {},
     "output_type": "display_data"
    }
   ],
   "source": [
    "# LOAD ORGINAL NEW TEST DATA\n",
    "expiry_new_df <- readRDS(file.path(outputDir,\"expiry_20200902_20201102_20201127\"))\n",
    "geoLookupDF <- read.csv(\"/home/jupyter/Domains_202003/data/input/PredictiveModelAnalysis_ResellerGeoMap.csv\")\n",
    "\n",
    "expiry_new_df <- expiry_new_df %>% filter(expiry_date < \"2020-10-08\")\n",
    "expiry_new_df <- expiry_new_df %>% filter(!is.na(gibb_score))\n",
    "expiry_new_df <- expiry_new_df %>% filter(renewal_type=='FirstTime')\n",
    "expiry_new_df <- expiry_new_df %>% mutate (reg_arpt = ifelse(reg_arpt <= 0, 0.0001,reg_arpt),\n",
    "                                   log_reg_arpt = log(reg_arpt),\n",
    "                                   tld_registrar_index = tolower(paste(tld, reseller,sep=\"\")))\n",
    "\n",
    "\n",
    "expiry_new_df <- geo_suppl(expiry_new_df, geoLookupDF = geoLookupDF)\n",
    "\n",
    "dim(expiry_new_df)\n",
    "head(expiry_new_df)"
   ]
  },
  {
   "cell_type": "code",
   "execution_count": 10,
   "metadata": {},
   "outputs": [
    {
     "data": {
      "text/html": [
       "<table>\n",
       "<caption>A tibble: 1 × 2</caption>\n",
       "<thead>\n",
       "\t<tr><th scope=col>renewal_type</th><th scope=col>n</th></tr>\n",
       "\t<tr><th scope=col>&lt;chr&gt;</th><th scope=col>&lt;int&gt;</th></tr>\n",
       "</thead>\n",
       "<tbody>\n",
       "\t<tr><td>FirstTime</td><td>430867</td></tr>\n",
       "</tbody>\n",
       "</table>\n"
      ],
      "text/latex": [
       "A tibble: 1 × 2\n",
       "\\begin{tabular}{ll}\n",
       " renewal\\_type & n\\\\\n",
       " <chr> & <int>\\\\\n",
       "\\hline\n",
       "\t FirstTime & 430867\\\\\n",
       "\\end{tabular}\n"
      ],
      "text/markdown": [
       "\n",
       "A tibble: 1 × 2\n",
       "\n",
       "| renewal_type &lt;chr&gt; | n &lt;int&gt; |\n",
       "|---|---|\n",
       "| FirstTime | 430867 |\n",
       "\n"
      ],
      "text/plain": [
       "  renewal_type n     \n",
       "1 FirstTime    430867"
      ]
     },
     "metadata": {},
     "output_type": "display_data"
    }
   ],
   "source": [
    "expiry_new_df %>% group_by(renewal_type) %>% tally()"
   ]
  },
  {
   "cell_type": "code",
   "execution_count": 11,
   "metadata": {},
   "outputs": [
    {
     "data": {
      "text/html": [
       "1340"
      ],
      "text/latex": [
       "1340"
      ],
      "text/markdown": [
       "1340"
      ],
      "text/plain": [
       "[1] 1340"
      ]
     },
     "metadata": {},
     "output_type": "display_data"
    }
   ],
   "source": [
    "expiry_new_df %>% distinct((tld_registrar_index)) %>% nrow()"
   ]
  },
  {
   "cell_type": "code",
   "execution_count": 12,
   "metadata": {},
   "outputs": [
    {
     "data": {
      "text/html": [
       "<style>\n",
       ".list-inline {list-style: none; margin:0; padding: 0}\n",
       ".list-inline>li {display: inline-block}\n",
       ".list-inline>li:not(:last-child)::after {content: \"\\00b7\"; padding: 0 .5ex}\n",
       "</style>\n",
       "<ol class=list-inline><li>491777</li><li>37</li></ol>\n"
      ],
      "text/latex": [
       "\\begin{enumerate*}\n",
       "\\item 491777\n",
       "\\item 37\n",
       "\\end{enumerate*}\n"
      ],
      "text/markdown": [
       "1. 491777\n",
       "2. 37\n",
       "\n",
       "\n"
      ],
      "text/plain": [
       "[1] 491777     37"
      ]
     },
     "metadata": {},
     "output_type": "display_data"
    },
    {
     "data": {
      "text/html": [
       "<table>\n",
       "<caption>A data.frame: 6 × 37</caption>\n",
       "<thead>\n",
       "\t<tr><th></th><th scope=col>X</th><th scope=col>reseller</th><th scope=col>reseller_country</th><th scope=col>renewal_type</th><th scope=col>renewed_count</th><th scope=col>expiry_date</th><th scope=col>creation_date</th><th scope=col>status</th><th scope=col>domain_id</th><th scope=col>domain</th><th scope=col>registrar</th><th scope=col>registrant_country</th><th scope=col>reg_period</th><th scope=col>reg_revenue</th><th scope=col>reg_arpt</th><th scope=col>renew_mbg</th><th scope=col>renewal_item_id</th><th scope=col>renew_type</th><th scope=col>autorenew_type</th><th scope=col>renewal_status</th><th scope=col>renew_date</th><th scope=col>renew_arpt</th><th scope=col>gibb_score</th><th scope=col>pattern</th><th scope=col>pattern_domain_count</th><th scope=col>day_domains</th><th scope=col>sld_length</th><th scope=col>sld_type</th><th scope=col>sld_type2</th><th scope=col>tld</th><th scope=col>region</th><th scope=col>log_reg_arpt</th><th scope=col>tld_registrar_index</th><th scope=col>reseller_geo</th><th scope=col>actual</th><th scope=col>predicted</th><th scope=col>model</th></tr>\n",
       "\t<tr><th></th><th scope=col>&lt;int&gt;</th><th scope=col>&lt;fct&gt;</th><th scope=col>&lt;fct&gt;</th><th scope=col>&lt;fct&gt;</th><th scope=col>&lt;int&gt;</th><th scope=col>&lt;fct&gt;</th><th scope=col>&lt;fct&gt;</th><th scope=col>&lt;fct&gt;</th><th scope=col>&lt;int&gt;</th><th scope=col>&lt;fct&gt;</th><th scope=col>&lt;fct&gt;</th><th scope=col>&lt;lgl&gt;</th><th scope=col>&lt;int&gt;</th><th scope=col>&lt;dbl&gt;</th><th scope=col>&lt;dbl&gt;</th><th scope=col>&lt;int&gt;</th><th scope=col>&lt;int&gt;</th><th scope=col>&lt;fct&gt;</th><th scope=col>&lt;fct&gt;</th><th scope=col>&lt;fct&gt;</th><th scope=col>&lt;fct&gt;</th><th scope=col>&lt;dbl&gt;</th><th scope=col>&lt;dbl&gt;</th><th scope=col>&lt;fct&gt;</th><th scope=col>&lt;int&gt;</th><th scope=col>&lt;int&gt;</th><th scope=col>&lt;int&gt;</th><th scope=col>&lt;fct&gt;</th><th scope=col>&lt;fct&gt;</th><th scope=col>&lt;fct&gt;</th><th scope=col>&lt;fct&gt;</th><th scope=col>&lt;dbl&gt;</th><th scope=col>&lt;fct&gt;</th><th scope=col>&lt;fct&gt;</th><th scope=col>&lt;fct&gt;</th><th scope=col>&lt;dbl&gt;</th><th scope=col>&lt;fct&gt;</th></tr>\n",
       "</thead>\n",
       "<tbody>\n",
       "\t<tr><th scope=row>1</th><td>1</td><td>Alibaba</td><td>China</td><td>FirstTime</td><td>1</td><td>2020-09-07</td><td>2019-09-07</td><td>Active</td><td>127394801</td><td>smzdm.fun       </td><td>Alibaba</td><td>NA</td><td>1</td><td>0.75</td><td>0.75</td><td>0</td><td>338904759</td><td>renewal</td><td>NA</td><td>Renewed</td><td>2020-08-21</td><td>6</td><td>0.23</td><td>smzdm       </td><td>1</td><td> 273</td><td> 5</td><td>l</td><td>5l </td><td>fun</td><td>China</td><td>-0.2876821</td><td>funalibaba</td><td>China</td><td>Renewed</td><td>0.02477651</td><td>preds_agg_rf_ALL</td></tr>\n",
       "\t<tr><th scope=row>2</th><td>2</td><td>Alibaba</td><td>China</td><td>FirstTime</td><td>1</td><td>2020-09-26</td><td>2019-09-26</td><td>Active</td><td>131294091</td><td>hhxx.fun        </td><td>Alibaba</td><td>NA</td><td>1</td><td>0.75</td><td>0.75</td><td>0</td><td>301715129</td><td>renewal</td><td>NA</td><td>Renewed</td><td>2020-03-22</td><td>6</td><td>0.04</td><td>hhxx        </td><td>1</td><td>1261</td><td> 4</td><td>l</td><td>4l </td><td>fun</td><td>China</td><td>-0.2876821</td><td>funalibaba</td><td>China</td><td>Renewed</td><td>0.02245831</td><td>preds_agg_rf_ALL</td></tr>\n",
       "\t<tr><th scope=row>3</th><td>3</td><td>Alibaba</td><td>China</td><td>FirstTime</td><td>1</td><td>2020-09-12</td><td>2019-09-12</td><td>Active</td><td>128437981</td><td>songofwar.fun   </td><td>Alibaba</td><td>NA</td><td>1</td><td>0.75</td><td>0.75</td><td>0</td><td>338293409</td><td>renewal</td><td>NA</td><td>Renewed</td><td>2020-08-18</td><td>6</td><td>5.26</td><td>songofwar   </td><td>1</td><td>2379</td><td> 9</td><td>l</td><td>9l </td><td>fun</td><td>China</td><td>-0.2876821</td><td>funalibaba</td><td>China</td><td>Renewed</td><td>0.13746011</td><td>preds_agg_rf_ALL</td></tr>\n",
       "\t<tr><th scope=row>4</th><td>4</td><td>Alibaba</td><td>China</td><td>FirstTime</td><td>1</td><td>2020-09-09</td><td>2019-09-09</td><td>Active</td><td>127774491</td><td>loongemperor.fun</td><td>Alibaba</td><td>NA</td><td>1</td><td>0.75</td><td>0.75</td><td>0</td><td>317670779</td><td>renewal</td><td>NA</td><td>Renewed</td><td>2020-05-26</td><td>6</td><td>9.03</td><td>loongemperor</td><td>1</td><td>1167</td><td>12</td><td>l</td><td>12l</td><td>fun</td><td>China</td><td>-0.2876821</td><td>funalibaba</td><td>China</td><td>Renewed</td><td>0.04351218</td><td>preds_agg_rf_ALL</td></tr>\n",
       "\t<tr><th scope=row>5</th><td>5</td><td>Alibaba</td><td>China</td><td>FirstTime</td><td>1</td><td>2020-09-12</td><td>2019-09-12</td><td>Active</td><td>128437976</td><td>wantornot.fun   </td><td>Alibaba</td><td>NA</td><td>1</td><td>0.75</td><td>0.75</td><td>0</td><td>338293424</td><td>renewal</td><td>NA</td><td>Renewed</td><td>2020-08-18</td><td>6</td><td>8.36</td><td>waroton     </td><td>2</td><td>2379</td><td> 9</td><td>l</td><td>9l </td><td>fun</td><td>China</td><td>-0.2876821</td><td>funalibaba</td><td>China</td><td>Renewed</td><td>0.07477368</td><td>preds_agg_rf_ALL</td></tr>\n",
       "\t<tr><th scope=row>6</th><td>6</td><td>Alibaba</td><td>China</td><td>FirstTime</td><td>1</td><td>2020-09-05</td><td>2019-09-05</td><td>Active</td><td>126781821</td><td>mafengwo.fun    </td><td>Alibaba</td><td>NA</td><td>1</td><td>0.75</td><td>0.75</td><td>0</td><td>340001059</td><td>renewal</td><td>NA</td><td>Renewed</td><td>2020-08-26</td><td>6</td><td>3.48</td><td>mafengwo    </td><td>1</td><td>1276</td><td> 8</td><td>l</td><td>8l </td><td>fun</td><td>China</td><td>-0.2876821</td><td>funalibaba</td><td>China</td><td>Renewed</td><td>0.05303114</td><td>preds_agg_rf_ALL</td></tr>\n",
       "</tbody>\n",
       "</table>\n"
      ],
      "text/latex": [
       "A data.frame: 6 × 37\n",
       "\\begin{tabular}{r|lllllllllllllllllllllllllllllllllllll}\n",
       "  & X & reseller & reseller\\_country & renewal\\_type & renewed\\_count & expiry\\_date & creation\\_date & status & domain\\_id & domain & registrar & registrant\\_country & reg\\_period & reg\\_revenue & reg\\_arpt & renew\\_mbg & renewal\\_item\\_id & renew\\_type & autorenew\\_type & renewal\\_status & renew\\_date & renew\\_arpt & gibb\\_score & pattern & pattern\\_domain\\_count & day\\_domains & sld\\_length & sld\\_type & sld\\_type2 & tld & region & log\\_reg\\_arpt & tld\\_registrar\\_index & reseller\\_geo & actual & predicted & model\\\\\n",
       "  & <int> & <fct> & <fct> & <fct> & <int> & <fct> & <fct> & <fct> & <int> & <fct> & <fct> & <lgl> & <int> & <dbl> & <dbl> & <int> & <int> & <fct> & <fct> & <fct> & <fct> & <dbl> & <dbl> & <fct> & <int> & <int> & <int> & <fct> & <fct> & <fct> & <fct> & <dbl> & <fct> & <fct> & <fct> & <dbl> & <fct>\\\\\n",
       "\\hline\n",
       "\t1 & 1 & Alibaba & China & FirstTime & 1 & 2020-09-07 & 2019-09-07 & Active & 127394801 & smzdm.fun        & Alibaba & NA & 1 & 0.75 & 0.75 & 0 & 338904759 & renewal & NA & Renewed & 2020-08-21 & 6 & 0.23 & smzdm        & 1 &  273 &  5 & l & 5l  & fun & China & -0.2876821 & funalibaba & China & Renewed & 0.02477651 & preds\\_agg\\_rf\\_ALL\\\\\n",
       "\t2 & 2 & Alibaba & China & FirstTime & 1 & 2020-09-26 & 2019-09-26 & Active & 131294091 & hhxx.fun         & Alibaba & NA & 1 & 0.75 & 0.75 & 0 & 301715129 & renewal & NA & Renewed & 2020-03-22 & 6 & 0.04 & hhxx         & 1 & 1261 &  4 & l & 4l  & fun & China & -0.2876821 & funalibaba & China & Renewed & 0.02245831 & preds\\_agg\\_rf\\_ALL\\\\\n",
       "\t3 & 3 & Alibaba & China & FirstTime & 1 & 2020-09-12 & 2019-09-12 & Active & 128437981 & songofwar.fun    & Alibaba & NA & 1 & 0.75 & 0.75 & 0 & 338293409 & renewal & NA & Renewed & 2020-08-18 & 6 & 5.26 & songofwar    & 1 & 2379 &  9 & l & 9l  & fun & China & -0.2876821 & funalibaba & China & Renewed & 0.13746011 & preds\\_agg\\_rf\\_ALL\\\\\n",
       "\t4 & 4 & Alibaba & China & FirstTime & 1 & 2020-09-09 & 2019-09-09 & Active & 127774491 & loongemperor.fun & Alibaba & NA & 1 & 0.75 & 0.75 & 0 & 317670779 & renewal & NA & Renewed & 2020-05-26 & 6 & 9.03 & loongemperor & 1 & 1167 & 12 & l & 12l & fun & China & -0.2876821 & funalibaba & China & Renewed & 0.04351218 & preds\\_agg\\_rf\\_ALL\\\\\n",
       "\t5 & 5 & Alibaba & China & FirstTime & 1 & 2020-09-12 & 2019-09-12 & Active & 128437976 & wantornot.fun    & Alibaba & NA & 1 & 0.75 & 0.75 & 0 & 338293424 & renewal & NA & Renewed & 2020-08-18 & 6 & 8.36 & waroton      & 2 & 2379 &  9 & l & 9l  & fun & China & -0.2876821 & funalibaba & China & Renewed & 0.07477368 & preds\\_agg\\_rf\\_ALL\\\\\n",
       "\t6 & 6 & Alibaba & China & FirstTime & 1 & 2020-09-05 & 2019-09-05 & Active & 126781821 & mafengwo.fun     & Alibaba & NA & 1 & 0.75 & 0.75 & 0 & 340001059 & renewal & NA & Renewed & 2020-08-26 & 6 & 3.48 & mafengwo     & 1 & 1276 &  8 & l & 8l  & fun & China & -0.2876821 & funalibaba & China & Renewed & 0.05303114 & preds\\_agg\\_rf\\_ALL\\\\\n",
       "\\end{tabular}\n"
      ],
      "text/markdown": [
       "\n",
       "A data.frame: 6 × 37\n",
       "\n",
       "| <!--/--> | X &lt;int&gt; | reseller &lt;fct&gt; | reseller_country &lt;fct&gt; | renewal_type &lt;fct&gt; | renewed_count &lt;int&gt; | expiry_date &lt;fct&gt; | creation_date &lt;fct&gt; | status &lt;fct&gt; | domain_id &lt;int&gt; | domain &lt;fct&gt; | registrar &lt;fct&gt; | registrant_country &lt;lgl&gt; | reg_period &lt;int&gt; | reg_revenue &lt;dbl&gt; | reg_arpt &lt;dbl&gt; | renew_mbg &lt;int&gt; | renewal_item_id &lt;int&gt; | renew_type &lt;fct&gt; | autorenew_type &lt;fct&gt; | renewal_status &lt;fct&gt; | renew_date &lt;fct&gt; | renew_arpt &lt;dbl&gt; | gibb_score &lt;dbl&gt; | pattern &lt;fct&gt; | pattern_domain_count &lt;int&gt; | day_domains &lt;int&gt; | sld_length &lt;int&gt; | sld_type &lt;fct&gt; | sld_type2 &lt;fct&gt; | tld &lt;fct&gt; | region &lt;fct&gt; | log_reg_arpt &lt;dbl&gt; | tld_registrar_index &lt;fct&gt; | reseller_geo &lt;fct&gt; | actual &lt;fct&gt; | predicted &lt;dbl&gt; | model &lt;fct&gt; |\n",
       "|---|---|---|---|---|---|---|---|---|---|---|---|---|---|---|---|---|---|---|---|---|---|---|---|---|---|---|---|---|---|---|---|---|---|---|---|---|---|\n",
       "| 1 | 1 | Alibaba | China | FirstTime | 1 | 2020-09-07 | 2019-09-07 | Active | 127394801 | smzdm.fun        | Alibaba | NA | 1 | 0.75 | 0.75 | 0 | 338904759 | renewal | NA | Renewed | 2020-08-21 | 6 | 0.23 | smzdm        | 1 |  273 |  5 | l | 5l  | fun | China | -0.2876821 | funalibaba | China | Renewed | 0.02477651 | preds_agg_rf_ALL |\n",
       "| 2 | 2 | Alibaba | China | FirstTime | 1 | 2020-09-26 | 2019-09-26 | Active | 131294091 | hhxx.fun         | Alibaba | NA | 1 | 0.75 | 0.75 | 0 | 301715129 | renewal | NA | Renewed | 2020-03-22 | 6 | 0.04 | hhxx         | 1 | 1261 |  4 | l | 4l  | fun | China | -0.2876821 | funalibaba | China | Renewed | 0.02245831 | preds_agg_rf_ALL |\n",
       "| 3 | 3 | Alibaba | China | FirstTime | 1 | 2020-09-12 | 2019-09-12 | Active | 128437981 | songofwar.fun    | Alibaba | NA | 1 | 0.75 | 0.75 | 0 | 338293409 | renewal | NA | Renewed | 2020-08-18 | 6 | 5.26 | songofwar    | 1 | 2379 |  9 | l | 9l  | fun | China | -0.2876821 | funalibaba | China | Renewed | 0.13746011 | preds_agg_rf_ALL |\n",
       "| 4 | 4 | Alibaba | China | FirstTime | 1 | 2020-09-09 | 2019-09-09 | Active | 127774491 | loongemperor.fun | Alibaba | NA | 1 | 0.75 | 0.75 | 0 | 317670779 | renewal | NA | Renewed | 2020-05-26 | 6 | 9.03 | loongemperor | 1 | 1167 | 12 | l | 12l | fun | China | -0.2876821 | funalibaba | China | Renewed | 0.04351218 | preds_agg_rf_ALL |\n",
       "| 5 | 5 | Alibaba | China | FirstTime | 1 | 2020-09-12 | 2019-09-12 | Active | 128437976 | wantornot.fun    | Alibaba | NA | 1 | 0.75 | 0.75 | 0 | 338293424 | renewal | NA | Renewed | 2020-08-18 | 6 | 8.36 | waroton      | 2 | 2379 |  9 | l | 9l  | fun | China | -0.2876821 | funalibaba | China | Renewed | 0.07477368 | preds_agg_rf_ALL |\n",
       "| 6 | 6 | Alibaba | China | FirstTime | 1 | 2020-09-05 | 2019-09-05 | Active | 126781821 | mafengwo.fun     | Alibaba | NA | 1 | 0.75 | 0.75 | 0 | 340001059 | renewal | NA | Renewed | 2020-08-26 | 6 | 3.48 | mafengwo     | 1 | 1276 |  8 | l | 8l  | fun | China | -0.2876821 | funalibaba | China | Renewed | 0.05303114 | preds_agg_rf_ALL |\n",
       "\n"
      ],
      "text/plain": [
       "  X reseller reseller_country renewal_type renewed_count expiry_date\n",
       "1 1 Alibaba  China            FirstTime    1             2020-09-07 \n",
       "2 2 Alibaba  China            FirstTime    1             2020-09-26 \n",
       "3 3 Alibaba  China            FirstTime    1             2020-09-12 \n",
       "4 4 Alibaba  China            FirstTime    1             2020-09-09 \n",
       "5 5 Alibaba  China            FirstTime    1             2020-09-12 \n",
       "6 6 Alibaba  China            FirstTime    1             2020-09-05 \n",
       "  creation_date status domain_id domain           registrar registrant_country\n",
       "1 2019-09-07    Active 127394801 smzdm.fun        Alibaba   NA                \n",
       "2 2019-09-26    Active 131294091 hhxx.fun         Alibaba   NA                \n",
       "3 2019-09-12    Active 128437981 songofwar.fun    Alibaba   NA                \n",
       "4 2019-09-09    Active 127774491 loongemperor.fun Alibaba   NA                \n",
       "5 2019-09-12    Active 128437976 wantornot.fun    Alibaba   NA                \n",
       "6 2019-09-05    Active 126781821 mafengwo.fun     Alibaba   NA                \n",
       "  reg_period reg_revenue reg_arpt renew_mbg renewal_item_id renew_type\n",
       "1 1          0.75        0.75     0         338904759       renewal   \n",
       "2 1          0.75        0.75     0         301715129       renewal   \n",
       "3 1          0.75        0.75     0         338293409       renewal   \n",
       "4 1          0.75        0.75     0         317670779       renewal   \n",
       "5 1          0.75        0.75     0         338293424       renewal   \n",
       "6 1          0.75        0.75     0         340001059       renewal   \n",
       "  autorenew_type renewal_status renew_date renew_arpt gibb_score pattern     \n",
       "1 NA             Renewed        2020-08-21 6          0.23       smzdm       \n",
       "2 NA             Renewed        2020-03-22 6          0.04       hhxx        \n",
       "3 NA             Renewed        2020-08-18 6          5.26       songofwar   \n",
       "4 NA             Renewed        2020-05-26 6          9.03       loongemperor\n",
       "5 NA             Renewed        2020-08-18 6          8.36       waroton     \n",
       "6 NA             Renewed        2020-08-26 6          3.48       mafengwo    \n",
       "  pattern_domain_count day_domains sld_length sld_type sld_type2 tld region\n",
       "1 1                     273         5         l        5l        fun China \n",
       "2 1                    1261         4         l        4l        fun China \n",
       "3 1                    2379         9         l        9l        fun China \n",
       "4 1                    1167        12         l        12l       fun China \n",
       "5 2                    2379         9         l        9l        fun China \n",
       "6 1                    1276         8         l        8l        fun China \n",
       "  log_reg_arpt tld_registrar_index reseller_geo actual  predicted \n",
       "1 -0.2876821   funalibaba          China        Renewed 0.02477651\n",
       "2 -0.2876821   funalibaba          China        Renewed 0.02245831\n",
       "3 -0.2876821   funalibaba          China        Renewed 0.13746011\n",
       "4 -0.2876821   funalibaba          China        Renewed 0.04351218\n",
       "5 -0.2876821   funalibaba          China        Renewed 0.07477368\n",
       "6 -0.2876821   funalibaba          China        Renewed 0.05303114\n",
       "  model           \n",
       "1 preds_agg_rf_ALL\n",
       "2 preds_agg_rf_ALL\n",
       "3 preds_agg_rf_ALL\n",
       "4 preds_agg_rf_ALL\n",
       "5 preds_agg_rf_ALL\n",
       "6 preds_agg_rf_ALL"
      ]
     },
     "metadata": {},
     "output_type": "display_data"
    }
   ],
   "source": [
    "# LOAD PREDICTIONS ON NEW TEST DATA\n",
    "meta_preds <- read.csv(file.path(outputDir, 'meta_preds', 'meta_preds.csv'))\n",
    "\n",
    "dim(meta_preds)\n",
    "head(meta_preds)"
   ]
  },
  {
   "cell_type": "code",
   "execution_count": 13,
   "metadata": {},
   "outputs": [
    {
     "data": {
      "text/html": [
       "1340"
      ],
      "text/latex": [
       "1340"
      ],
      "text/markdown": [
       "1340"
      ],
      "text/plain": [
       "[1] 1340"
      ]
     },
     "metadata": {},
     "output_type": "display_data"
    }
   ],
   "source": [
    "meta_preds %>% distinct((tld_registrar_index)) %>% nrow()"
   ]
  },
  {
   "cell_type": "code",
   "execution_count": 14,
   "metadata": {},
   "outputs": [
    {
     "data": {
      "text/html": [
       "'new_metametrics_imp_pred_df'"
      ],
      "text/latex": [
       "'new\\_metametrics\\_imp\\_pred\\_df'"
      ],
      "text/markdown": [
       "'new_metametrics_imp_pred_df'"
      ],
      "text/plain": [
       "[1] \"new_metametrics_imp_pred_df\""
      ]
     },
     "metadata": {},
     "output_type": "display_data"
    },
    {
     "data": {
      "text/html": [
       "48"
      ],
      "text/latex": [
       "48"
      ],
      "text/markdown": [
       "48"
      ],
      "text/plain": [
       "[1] 48"
      ]
     },
     "metadata": {},
     "output_type": "display_data"
    },
    {
     "data": {
      "text/html": [
       "<style>\n",
       ".list-inline {list-style: none; margin:0; padding: 0}\n",
       ".list-inline>li {display: inline-block}\n",
       ".list-inline>li:not(:last-child)::after {content: \"\\00b7\"; padding: 0 .5ex}\n",
       "</style>\n",
       "<ol class=list-inline><li>1340</li><li>48</li></ol>\n"
      ],
      "text/latex": [
       "\\begin{enumerate*}\n",
       "\\item 1340\n",
       "\\item 48\n",
       "\\end{enumerate*}\n"
      ],
      "text/markdown": [
       "1. 1340\n",
       "2. 48\n",
       "\n",
       "\n"
      ],
      "text/plain": [
       "[1] 1340   48"
      ]
     },
     "metadata": {},
     "output_type": "display_data"
    },
    {
     "data": {
      "text/html": [
       "<table>\n",
       "<caption>A data.frame: 3 × 1</caption>\n",
       "<thead>\n",
       "\t<tr><th scope=col>model</th></tr>\n",
       "\t<tr><th scope=col>&lt;chr&gt;</th></tr>\n",
       "</thead>\n",
       "<tbody>\n",
       "\t<tr><td>seg2_glm_ALL</td></tr>\n",
       "\t<tr><td>agg_rf_ALL  </td></tr>\n",
       "\t<tr><td>seg2_glm_fb </td></tr>\n",
       "</tbody>\n",
       "</table>\n"
      ],
      "text/latex": [
       "A data.frame: 3 × 1\n",
       "\\begin{tabular}{l}\n",
       " model\\\\\n",
       " <chr>\\\\\n",
       "\\hline\n",
       "\t seg2\\_glm\\_ALL\\\\\n",
       "\t agg\\_rf\\_ALL  \\\\\n",
       "\t seg2\\_glm\\_fb \\\\\n",
       "\\end{tabular}\n"
      ],
      "text/markdown": [
       "\n",
       "A data.frame: 3 × 1\n",
       "\n",
       "| model &lt;chr&gt; |\n",
       "|---|\n",
       "| seg2_glm_ALL |\n",
       "| agg_rf_ALL   |\n",
       "| seg2_glm_fb  |\n",
       "\n"
      ],
      "text/plain": [
       "  model       \n",
       "1 seg2_glm_ALL\n",
       "2 agg_rf_ALL  \n",
       "3 seg2_glm_fb "
      ]
     },
     "metadata": {},
     "output_type": "display_data"
    },
    {
     "data": {
      "text/html": [
       "<table>\n",
       "<caption>A data.frame: 20 × 3</caption>\n",
       "<thead>\n",
       "\t<tr><th></th><th scope=col>tld_registrar_index</th><th scope=col>metric</th><th scope=col>model</th></tr>\n",
       "\t<tr><th></th><th scope=col>&lt;chr&gt;</th><th scope=col>&lt;chr&gt;</th><th scope=col>&lt;chr&gt;</th></tr>\n",
       "</thead>\n",
       "<tbody>\n",
       "\t<tr><th scope=row>1</th><td>fun1&amp;1 internet</td><td>l10</td><td>seg2_glm_ALL</td></tr>\n",
       "\t<tr><th scope=row>2</th><td>fun1&amp;1 internet</td><td>auc</td><td>seg2_glm_ALL</td></tr>\n",
       "\t<tr><th scope=row>3</th><td>funafrihost    </td><td>l10</td><td>seg2_glm_ALL</td></tr>\n",
       "\t<tr><th scope=row>4</th><td>funafrihost    </td><td>auc</td><td>seg2_glm_ALL</td></tr>\n",
       "\t<tr><th scope=row>5</th><td>funalfahosting </td><td>l10</td><td>seg2_glm_ALL</td></tr>\n",
       "\t<tr><th scope=row>6</th><td>funalfahosting </td><td>auc</td><td>seg2_glm_ALL</td></tr>\n",
       "\t<tr><th scope=row>7</th><td>funalibaba     </td><td>l10</td><td>agg_rf_ALL  </td></tr>\n",
       "\t<tr><th scope=row>8</th><td>funalibaba     </td><td>auc</td><td>agg_rf_ALL  </td></tr>\n",
       "\t<tr><th scope=row>9</th><td>funalibaba sg  </td><td>l10</td><td>seg2_glm_ALL</td></tr>\n",
       "\t<tr><th scope=row>10</th><td>funalibaba sg  </td><td>auc</td><td>seg2_glm_ALL</td></tr>\n",
       "\t<tr><th scope=row>11</th><td>funascio       </td><td>l10</td><td>seg2_glm_ALL</td></tr>\n",
       "\t<tr><th scope=row>12</th><td>funascio       </td><td>auc</td><td>seg2_glm_fb </td></tr>\n",
       "\t<tr><th scope=row>13</th><td>funatak        </td><td>l10</td><td>seg2_glm_ALL</td></tr>\n",
       "\t<tr><th scope=row>14</th><td>funatak        </td><td>auc</td><td>agg_rf_ALL  </td></tr>\n",
       "\t<tr><th scope=row>15</th><td>funautomattic  </td><td>l10</td><td>seg2_glm_ALL</td></tr>\n",
       "\t<tr><th scope=row>16</th><td>funautomattic  </td><td>auc</td><td>seg2_glm_ALL</td></tr>\n",
       "\t<tr><th scope=row>17</th><td>funbaidu       </td><td>l10</td><td>seg2_glm_ALL</td></tr>\n",
       "\t<tr><th scope=row>18</th><td>funbaidu       </td><td>auc</td><td>seg2_glm_ALL</td></tr>\n",
       "\t<tr><th scope=row>19</th><td>funbeget       </td><td>l10</td><td>seg2_glm_ALL</td></tr>\n",
       "\t<tr><th scope=row>20</th><td>funbeget       </td><td>auc</td><td>seg2_glm_ALL</td></tr>\n",
       "</tbody>\n",
       "</table>\n"
      ],
      "text/latex": [
       "A data.frame: 20 × 3\n",
       "\\begin{tabular}{r|lll}\n",
       "  & tld\\_registrar\\_index & metric & model\\\\\n",
       "  & <chr> & <chr> & <chr>\\\\\n",
       "\\hline\n",
       "\t1 & fun1\\&1 internet & l10 & seg2\\_glm\\_ALL\\\\\n",
       "\t2 & fun1\\&1 internet & auc & seg2\\_glm\\_ALL\\\\\n",
       "\t3 & funafrihost     & l10 & seg2\\_glm\\_ALL\\\\\n",
       "\t4 & funafrihost     & auc & seg2\\_glm\\_ALL\\\\\n",
       "\t5 & funalfahosting  & l10 & seg2\\_glm\\_ALL\\\\\n",
       "\t6 & funalfahosting  & auc & seg2\\_glm\\_ALL\\\\\n",
       "\t7 & funalibaba      & l10 & agg\\_rf\\_ALL  \\\\\n",
       "\t8 & funalibaba      & auc & agg\\_rf\\_ALL  \\\\\n",
       "\t9 & funalibaba sg   & l10 & seg2\\_glm\\_ALL\\\\\n",
       "\t10 & funalibaba sg   & auc & seg2\\_glm\\_ALL\\\\\n",
       "\t11 & funascio        & l10 & seg2\\_glm\\_ALL\\\\\n",
       "\t12 & funascio        & auc & seg2\\_glm\\_fb \\\\\n",
       "\t13 & funatak         & l10 & seg2\\_glm\\_ALL\\\\\n",
       "\t14 & funatak         & auc & agg\\_rf\\_ALL  \\\\\n",
       "\t15 & funautomattic   & l10 & seg2\\_glm\\_ALL\\\\\n",
       "\t16 & funautomattic   & auc & seg2\\_glm\\_ALL\\\\\n",
       "\t17 & funbaidu        & l10 & seg2\\_glm\\_ALL\\\\\n",
       "\t18 & funbaidu        & auc & seg2\\_glm\\_ALL\\\\\n",
       "\t19 & funbeget        & l10 & seg2\\_glm\\_ALL\\\\\n",
       "\t20 & funbeget        & auc & seg2\\_glm\\_ALL\\\\\n",
       "\\end{tabular}\n"
      ],
      "text/markdown": [
       "\n",
       "A data.frame: 20 × 3\n",
       "\n",
       "| <!--/--> | tld_registrar_index &lt;chr&gt; | metric &lt;chr&gt; | model &lt;chr&gt; |\n",
       "|---|---|---|---|\n",
       "| 1 | fun1&amp;1 internet | l10 | seg2_glm_ALL |\n",
       "| 2 | fun1&amp;1 internet | auc | seg2_glm_ALL |\n",
       "| 3 | funafrihost     | l10 | seg2_glm_ALL |\n",
       "| 4 | funafrihost     | auc | seg2_glm_ALL |\n",
       "| 5 | funalfahosting  | l10 | seg2_glm_ALL |\n",
       "| 6 | funalfahosting  | auc | seg2_glm_ALL |\n",
       "| 7 | funalibaba      | l10 | agg_rf_ALL   |\n",
       "| 8 | funalibaba      | auc | agg_rf_ALL   |\n",
       "| 9 | funalibaba sg   | l10 | seg2_glm_ALL |\n",
       "| 10 | funalibaba sg   | auc | seg2_glm_ALL |\n",
       "| 11 | funascio        | l10 | seg2_glm_ALL |\n",
       "| 12 | funascio        | auc | seg2_glm_fb  |\n",
       "| 13 | funatak         | l10 | seg2_glm_ALL |\n",
       "| 14 | funatak         | auc | agg_rf_ALL   |\n",
       "| 15 | funautomattic   | l10 | seg2_glm_ALL |\n",
       "| 16 | funautomattic   | auc | seg2_glm_ALL |\n",
       "| 17 | funbaidu        | l10 | seg2_glm_ALL |\n",
       "| 18 | funbaidu        | auc | seg2_glm_ALL |\n",
       "| 19 | funbeget        | l10 | seg2_glm_ALL |\n",
       "| 20 | funbeget        | auc | seg2_glm_ALL |\n",
       "\n"
      ],
      "text/plain": [
       "   tld_registrar_index metric model       \n",
       "1  fun1&1 internet     l10    seg2_glm_ALL\n",
       "2  fun1&1 internet     auc    seg2_glm_ALL\n",
       "3  funafrihost         l10    seg2_glm_ALL\n",
       "4  funafrihost         auc    seg2_glm_ALL\n",
       "5  funalfahosting      l10    seg2_glm_ALL\n",
       "6  funalfahosting      auc    seg2_glm_ALL\n",
       "7  funalibaba          l10    agg_rf_ALL  \n",
       "8  funalibaba          auc    agg_rf_ALL  \n",
       "9  funalibaba sg       l10    seg2_glm_ALL\n",
       "10 funalibaba sg       auc    seg2_glm_ALL\n",
       "11 funascio            l10    seg2_glm_ALL\n",
       "12 funascio            auc    seg2_glm_fb \n",
       "13 funatak             l10    seg2_glm_ALL\n",
       "14 funatak             auc    agg_rf_ALL  \n",
       "15 funautomattic       l10    seg2_glm_ALL\n",
       "16 funautomattic       auc    seg2_glm_ALL\n",
       "17 funbaidu            l10    seg2_glm_ALL\n",
       "18 funbaidu            auc    seg2_glm_ALL\n",
       "19 funbeget            l10    seg2_glm_ALL\n",
       "20 funbeget            auc    seg2_glm_ALL"
      ]
     },
     "metadata": {},
     "output_type": "display_data"
    }
   ],
   "source": [
    "# LOAD META-BASED MODEL ASSIGNMENT \n",
    "filename <- load(file=file.path(outputDir, 'meta_preds','new_metametrics_imp_pred_df.RData'))\n",
    "filename\n",
    "length(new_metametrics_imp_pred_df)\n",
    "dim(new_metametrics_imp_pred_df)\n",
    "new_metametrics_assign_df <- new_metametrics_imp_pred_df %>% \n",
    "   select(tld_registrar_index,l10_win_04_pred_model,auc_win_04_pred_model) %>% \n",
    "   gather(metric, model, c('l10_win_04_pred_model','auc_win_04_pred_model')) %>%\n",
    "   mutate(metric = str_remove(metric,'_win_04_pred_model')) %>%\n",
    "   arrange(tld_registrar_index) %>% \n",
    "   mutate(model = ifelse(model=='seg2_glm',paste0(model,'_ALL',sep=\"\"),model))\n",
    "new_metametrics_assign_df %>% select(model) %>% distinct()\n",
    "new_metametrics_assign_df %>% head(20)"
   ]
  },
  {
   "cell_type": "code",
   "execution_count": 15,
   "metadata": {},
   "outputs": [
    {
     "data": {
      "text/html": [
       "<style>\n",
       ".list-inline {list-style: none; margin:0; padding: 0}\n",
       ".list-inline>li {display: inline-block}\n",
       ".list-inline>li:not(:last-child)::after {content: \"\\00b7\"; padding: 0 .5ex}\n",
       "</style>\n",
       "<ol class=list-inline><li>861734</li><li>38</li></ol>\n"
      ],
      "text/latex": [
       "\\begin{enumerate*}\n",
       "\\item 861734\n",
       "\\item 38\n",
       "\\end{enumerate*}\n"
      ],
      "text/markdown": [
       "1. 861734\n",
       "2. 38\n",
       "\n",
       "\n"
      ],
      "text/plain": [
       "[1] 861734     38"
      ]
     },
     "metadata": {},
     "output_type": "display_data"
    },
    {
     "data": {
      "text/html": [
       "1340"
      ],
      "text/latex": [
       "1340"
      ],
      "text/markdown": [
       "1340"
      ],
      "text/plain": [
       "[1] 1340"
      ]
     },
     "metadata": {},
     "output_type": "display_data"
    },
    {
     "data": {
      "text/html": [
       "<table>\n",
       "<caption>A data.frame: 6 × 6</caption>\n",
       "<thead>\n",
       "\t<tr><th></th><th scope=col>domain_id</th><th scope=col>tld_registrar_index</th><th scope=col>metric</th><th scope=col>model</th><th scope=col>actual</th><th scope=col>predicted</th></tr>\n",
       "\t<tr><th></th><th scope=col>&lt;int&gt;</th><th scope=col>&lt;chr&gt;</th><th scope=col>&lt;chr&gt;</th><th scope=col>&lt;chr&gt;</th><th scope=col>&lt;fct&gt;</th><th scope=col>&lt;dbl&gt;</th></tr>\n",
       "</thead>\n",
       "<tbody>\n",
       "\t<tr><th scope=row>1</th><td>127394801</td><td>funalibaba</td><td>l10</td><td>agg_rf_ALL</td><td>Renewed</td><td>0.02477651</td></tr>\n",
       "\t<tr><th scope=row>2</th><td>127394801</td><td>funalibaba</td><td>auc</td><td>agg_rf_ALL</td><td>Renewed</td><td>0.02477651</td></tr>\n",
       "\t<tr><th scope=row>3</th><td>131294091</td><td>funalibaba</td><td>l10</td><td>agg_rf_ALL</td><td>Renewed</td><td>0.02245831</td></tr>\n",
       "\t<tr><th scope=row>4</th><td>131294091</td><td>funalibaba</td><td>auc</td><td>agg_rf_ALL</td><td>Renewed</td><td>0.02245831</td></tr>\n",
       "\t<tr><th scope=row>5</th><td>128437981</td><td>funalibaba</td><td>l10</td><td>agg_rf_ALL</td><td>Renewed</td><td>0.13746011</td></tr>\n",
       "\t<tr><th scope=row>6</th><td>128437981</td><td>funalibaba</td><td>auc</td><td>agg_rf_ALL</td><td>Renewed</td><td>0.13746011</td></tr>\n",
       "</tbody>\n",
       "</table>\n"
      ],
      "text/latex": [
       "A data.frame: 6 × 6\n",
       "\\begin{tabular}{r|llllll}\n",
       "  & domain\\_id & tld\\_registrar\\_index & metric & model & actual & predicted\\\\\n",
       "  & <int> & <chr> & <chr> & <chr> & <fct> & <dbl>\\\\\n",
       "\\hline\n",
       "\t1 & 127394801 & funalibaba & l10 & agg\\_rf\\_ALL & Renewed & 0.02477651\\\\\n",
       "\t2 & 127394801 & funalibaba & auc & agg\\_rf\\_ALL & Renewed & 0.02477651\\\\\n",
       "\t3 & 131294091 & funalibaba & l10 & agg\\_rf\\_ALL & Renewed & 0.02245831\\\\\n",
       "\t4 & 131294091 & funalibaba & auc & agg\\_rf\\_ALL & Renewed & 0.02245831\\\\\n",
       "\t5 & 128437981 & funalibaba & l10 & agg\\_rf\\_ALL & Renewed & 0.13746011\\\\\n",
       "\t6 & 128437981 & funalibaba & auc & agg\\_rf\\_ALL & Renewed & 0.13746011\\\\\n",
       "\\end{tabular}\n"
      ],
      "text/markdown": [
       "\n",
       "A data.frame: 6 × 6\n",
       "\n",
       "| <!--/--> | domain_id &lt;int&gt; | tld_registrar_index &lt;chr&gt; | metric &lt;chr&gt; | model &lt;chr&gt; | actual &lt;fct&gt; | predicted &lt;dbl&gt; |\n",
       "|---|---|---|---|---|---|---|\n",
       "| 1 | 127394801 | funalibaba | l10 | agg_rf_ALL | Renewed | 0.02477651 |\n",
       "| 2 | 127394801 | funalibaba | auc | agg_rf_ALL | Renewed | 0.02477651 |\n",
       "| 3 | 131294091 | funalibaba | l10 | agg_rf_ALL | Renewed | 0.02245831 |\n",
       "| 4 | 131294091 | funalibaba | auc | agg_rf_ALL | Renewed | 0.02245831 |\n",
       "| 5 | 128437981 | funalibaba | l10 | agg_rf_ALL | Renewed | 0.13746011 |\n",
       "| 6 | 128437981 | funalibaba | auc | agg_rf_ALL | Renewed | 0.13746011 |\n",
       "\n"
      ],
      "text/plain": [
       "  domain_id tld_registrar_index metric model      actual  predicted \n",
       "1 127394801 funalibaba          l10    agg_rf_ALL Renewed 0.02477651\n",
       "2 127394801 funalibaba          auc    agg_rf_ALL Renewed 0.02477651\n",
       "3 131294091 funalibaba          l10    agg_rf_ALL Renewed 0.02245831\n",
       "4 131294091 funalibaba          auc    agg_rf_ALL Renewed 0.02245831\n",
       "5 128437981 funalibaba          l10    agg_rf_ALL Renewed 0.13746011\n",
       "6 128437981 funalibaba          auc    agg_rf_ALL Renewed 0.13746011"
      ]
     },
     "metadata": {},
     "output_type": "display_data"
    }
   ],
   "source": [
    "meta_preds_assign <- left_join(meta_preds %>% mutate(model = str_remove(model,'preds_')),\n",
    "                             new_metametrics_assign_df,\n",
    "                             by = c(\"tld_registrar_index\",\"model\"))\n",
    "dim(meta_preds_assign)\n",
    "meta_preds_assign %>% distinct((tld_registrar_index)) %>% nrow()\n",
    "meta_preds_assign %>% select(domain_id, tld_registrar_index, metric, model,actual,predicted) %>% head()"
   ]
  },
  {
   "cell_type": "code",
   "execution_count": 16,
   "metadata": {},
   "outputs": [
    {
     "data": {
      "text/html": [
       "<style>\n",
       ".list-inline {list-style: none; margin:0; padding: 0}\n",
       ".list-inline>li {display: inline-block}\n",
       ".list-inline>li:not(:last-child)::after {content: \"\\00b7\"; padding: 0 .5ex}\n",
       "</style>\n",
       "<ol class=list-inline><li>430867</li><li>38</li></ol>\n"
      ],
      "text/latex": [
       "\\begin{enumerate*}\n",
       "\\item 430867\n",
       "\\item 38\n",
       "\\end{enumerate*}\n"
      ],
      "text/markdown": [
       "1. 430867\n",
       "2. 38\n",
       "\n",
       "\n"
      ],
      "text/plain": [
       "[1] 430867     38"
      ]
     },
     "metadata": {},
     "output_type": "display_data"
    },
    {
     "data": {
      "text/html": [
       "1340"
      ],
      "text/latex": [
       "1340"
      ],
      "text/markdown": [
       "1340"
      ],
      "text/plain": [
       "[1] 1340"
      ]
     },
     "metadata": {},
     "output_type": "display_data"
    },
    {
     "data": {
      "text/html": [
       "<style>\n",
       ".list-inline {list-style: none; margin:0; padding: 0}\n",
       ".list-inline>li {display: inline-block}\n",
       ".list-inline>li:not(:last-child)::after {content: \"\\00b7\"; padding: 0 .5ex}\n",
       "</style>\n",
       "<ol class=list-inline><li>430867</li><li>38</li></ol>\n"
      ],
      "text/latex": [
       "\\begin{enumerate*}\n",
       "\\item 430867\n",
       "\\item 38\n",
       "\\end{enumerate*}\n"
      ],
      "text/markdown": [
       "1. 430867\n",
       "2. 38\n",
       "\n",
       "\n"
      ],
      "text/plain": [
       "[1] 430867     38"
      ]
     },
     "metadata": {},
     "output_type": "display_data"
    },
    {
     "data": {
      "text/html": [
       "1340"
      ],
      "text/latex": [
       "1340"
      ],
      "text/markdown": [
       "1340"
      ],
      "text/plain": [
       "[1] 1340"
      ]
     },
     "metadata": {},
     "output_type": "display_data"
    }
   ],
   "source": [
    "meta_preds_assign_l10 <- meta_preds_assign %>% filter(metric=='l10')\n",
    "dim(meta_preds_assign_l10)\n",
    "meta_preds_assign_l10 %>% distinct((tld_registrar_index)) %>% nrow()\n",
    "\n",
    "meta_preds_assign_auc <- meta_preds_assign %>% filter(metric=='auc')\n",
    "dim(meta_preds_assign_auc)\n",
    "meta_preds_assign_auc %>% distinct((tld_registrar_index)) %>% nrow()\n"
   ]
  },
  {
   "cell_type": "code",
   "execution_count": 17,
   "metadata": {},
   "outputs": [
    {
     "data": {
      "text/html": [
       "<style>\n",
       ".list-inline {list-style: none; margin:0; padding: 0}\n",
       ".list-inline>li {display: inline-block}\n",
       ".list-inline>li:not(:last-child)::after {content: \"\\00b7\"; padding: 0 .5ex}\n",
       "</style>\n",
       "<ol class=list-inline><li>430867</li><li>39</li></ol>\n"
      ],
      "text/latex": [
       "\\begin{enumerate*}\n",
       "\\item 430867\n",
       "\\item 39\n",
       "\\end{enumerate*}\n"
      ],
      "text/markdown": [
       "1. 430867\n",
       "2. 39\n",
       "\n",
       "\n"
      ],
      "text/plain": [
       "[1] 430867     39"
      ]
     },
     "metadata": {},
     "output_type": "display_data"
    },
    {
     "data": {
      "text/html": [
       "<style>\n",
       ".list-inline {list-style: none; margin:0; padding: 0}\n",
       ".list-inline>li {display: inline-block}\n",
       ".list-inline>li:not(:last-child)::after {content: \"\\00b7\"; padding: 0 .5ex}\n",
       "</style>\n",
       "<ol class=list-inline><li>'X'</li><li>'reseller'</li><li>'reseller_country'</li><li>'renewal_type'</li><li>'renewed_count'</li><li>'expiry_date'</li><li>'creation_date'</li><li>'status'</li><li>'domain_id'</li><li>'domain'</li><li>'registrar'</li><li>'registrant_country'</li><li>'reg_period'</li><li>'reg_revenue'</li><li>'reg_arpt'</li><li>'renew_mbg'</li><li>'renewal_item_id'</li><li>'renew_type'</li><li>'autorenew_type'</li><li>'renewal_status'</li><li>'renew_date'</li><li>'renew_arpt'</li><li>'gibb_score'</li><li>'pattern'</li><li>'pattern_domain_count'</li><li>'day_domains'</li><li>'sld_length'</li><li>'sld_type'</li><li>'sld_type2'</li><li>'tld'</li><li>'region'</li><li>'log_reg_arpt'</li><li>'tld_registrar_index'</li><li>'reseller_geo'</li><li>'actual'</li><li>'pred_l10'</li><li>'model_l10'</li><li>'pred_auc'</li><li>'model_auc'</li></ol>\n"
      ],
      "text/latex": [
       "\\begin{enumerate*}\n",
       "\\item 'X'\n",
       "\\item 'reseller'\n",
       "\\item 'reseller\\_country'\n",
       "\\item 'renewal\\_type'\n",
       "\\item 'renewed\\_count'\n",
       "\\item 'expiry\\_date'\n",
       "\\item 'creation\\_date'\n",
       "\\item 'status'\n",
       "\\item 'domain\\_id'\n",
       "\\item 'domain'\n",
       "\\item 'registrar'\n",
       "\\item 'registrant\\_country'\n",
       "\\item 'reg\\_period'\n",
       "\\item 'reg\\_revenue'\n",
       "\\item 'reg\\_arpt'\n",
       "\\item 'renew\\_mbg'\n",
       "\\item 'renewal\\_item\\_id'\n",
       "\\item 'renew\\_type'\n",
       "\\item 'autorenew\\_type'\n",
       "\\item 'renewal\\_status'\n",
       "\\item 'renew\\_date'\n",
       "\\item 'renew\\_arpt'\n",
       "\\item 'gibb\\_score'\n",
       "\\item 'pattern'\n",
       "\\item 'pattern\\_domain\\_count'\n",
       "\\item 'day\\_domains'\n",
       "\\item 'sld\\_length'\n",
       "\\item 'sld\\_type'\n",
       "\\item 'sld\\_type2'\n",
       "\\item 'tld'\n",
       "\\item 'region'\n",
       "\\item 'log\\_reg\\_arpt'\n",
       "\\item 'tld\\_registrar\\_index'\n",
       "\\item 'reseller\\_geo'\n",
       "\\item 'actual'\n",
       "\\item 'pred\\_l10'\n",
       "\\item 'model\\_l10'\n",
       "\\item 'pred\\_auc'\n",
       "\\item 'model\\_auc'\n",
       "\\end{enumerate*}\n"
      ],
      "text/markdown": [
       "1. 'X'\n",
       "2. 'reseller'\n",
       "3. 'reseller_country'\n",
       "4. 'renewal_type'\n",
       "5. 'renewed_count'\n",
       "6. 'expiry_date'\n",
       "7. 'creation_date'\n",
       "8. 'status'\n",
       "9. 'domain_id'\n",
       "10. 'domain'\n",
       "11. 'registrar'\n",
       "12. 'registrant_country'\n",
       "13. 'reg_period'\n",
       "14. 'reg_revenue'\n",
       "15. 'reg_arpt'\n",
       "16. 'renew_mbg'\n",
       "17. 'renewal_item_id'\n",
       "18. 'renew_type'\n",
       "19. 'autorenew_type'\n",
       "20. 'renewal_status'\n",
       "21. 'renew_date'\n",
       "22. 'renew_arpt'\n",
       "23. 'gibb_score'\n",
       "24. 'pattern'\n",
       "25. 'pattern_domain_count'\n",
       "26. 'day_domains'\n",
       "27. 'sld_length'\n",
       "28. 'sld_type'\n",
       "29. 'sld_type2'\n",
       "30. 'tld'\n",
       "31. 'region'\n",
       "32. 'log_reg_arpt'\n",
       "33. 'tld_registrar_index'\n",
       "34. 'reseller_geo'\n",
       "35. 'actual'\n",
       "36. 'pred_l10'\n",
       "37. 'model_l10'\n",
       "38. 'pred_auc'\n",
       "39. 'model_auc'\n",
       "\n",
       "\n"
      ],
      "text/plain": [
       " [1] \"X\"                    \"reseller\"             \"reseller_country\"    \n",
       " [4] \"renewal_type\"         \"renewed_count\"        \"expiry_date\"         \n",
       " [7] \"creation_date\"        \"status\"               \"domain_id\"           \n",
       "[10] \"domain\"               \"registrar\"            \"registrant_country\"  \n",
       "[13] \"reg_period\"           \"reg_revenue\"          \"reg_arpt\"            \n",
       "[16] \"renew_mbg\"            \"renewal_item_id\"      \"renew_type\"          \n",
       "[19] \"autorenew_type\"       \"renewal_status\"       \"renew_date\"          \n",
       "[22] \"renew_arpt\"           \"gibb_score\"           \"pattern\"             \n",
       "[25] \"pattern_domain_count\" \"day_domains\"          \"sld_length\"          \n",
       "[28] \"sld_type\"             \"sld_type2\"            \"tld\"                 \n",
       "[31] \"region\"               \"log_reg_arpt\"         \"tld_registrar_index\" \n",
       "[34] \"reseller_geo\"         \"actual\"               \"pred_l10\"            \n",
       "[37] \"model_l10\"            \"pred_auc\"             \"model_auc\"           "
      ]
     },
     "metadata": {},
     "output_type": "display_data"
    },
    {
     "data": {
      "text/html": [
       "<table>\n",
       "<caption>A data.frame: 6 × 39</caption>\n",
       "<thead>\n",
       "\t<tr><th></th><th scope=col>X</th><th scope=col>reseller</th><th scope=col>reseller_country</th><th scope=col>renewal_type</th><th scope=col>renewed_count</th><th scope=col>expiry_date</th><th scope=col>creation_date</th><th scope=col>status</th><th scope=col>domain_id</th><th scope=col>domain</th><th scope=col>registrar</th><th scope=col>registrant_country</th><th scope=col>reg_period</th><th scope=col>reg_revenue</th><th scope=col>reg_arpt</th><th scope=col>renew_mbg</th><th scope=col>renewal_item_id</th><th scope=col>renew_type</th><th scope=col>autorenew_type</th><th scope=col>renewal_status</th><th scope=col>renew_date</th><th scope=col>renew_arpt</th><th scope=col>gibb_score</th><th scope=col>pattern</th><th scope=col>pattern_domain_count</th><th scope=col>day_domains</th><th scope=col>sld_length</th><th scope=col>sld_type</th><th scope=col>sld_type2</th><th scope=col>tld</th><th scope=col>region</th><th scope=col>log_reg_arpt</th><th scope=col>tld_registrar_index</th><th scope=col>reseller_geo</th><th scope=col>actual</th><th scope=col>pred_l10</th><th scope=col>model_l10</th><th scope=col>pred_auc</th><th scope=col>model_auc</th></tr>\n",
       "\t<tr><th></th><th scope=col>&lt;int&gt;</th><th scope=col>&lt;fct&gt;</th><th scope=col>&lt;fct&gt;</th><th scope=col>&lt;fct&gt;</th><th scope=col>&lt;int&gt;</th><th scope=col>&lt;fct&gt;</th><th scope=col>&lt;fct&gt;</th><th scope=col>&lt;fct&gt;</th><th scope=col>&lt;int&gt;</th><th scope=col>&lt;fct&gt;</th><th scope=col>&lt;fct&gt;</th><th scope=col>&lt;lgl&gt;</th><th scope=col>&lt;int&gt;</th><th scope=col>&lt;dbl&gt;</th><th scope=col>&lt;dbl&gt;</th><th scope=col>&lt;int&gt;</th><th scope=col>&lt;int&gt;</th><th scope=col>&lt;fct&gt;</th><th scope=col>&lt;fct&gt;</th><th scope=col>&lt;fct&gt;</th><th scope=col>&lt;fct&gt;</th><th scope=col>&lt;dbl&gt;</th><th scope=col>&lt;dbl&gt;</th><th scope=col>&lt;fct&gt;</th><th scope=col>&lt;int&gt;</th><th scope=col>&lt;int&gt;</th><th scope=col>&lt;int&gt;</th><th scope=col>&lt;fct&gt;</th><th scope=col>&lt;fct&gt;</th><th scope=col>&lt;fct&gt;</th><th scope=col>&lt;fct&gt;</th><th scope=col>&lt;dbl&gt;</th><th scope=col>&lt;chr&gt;</th><th scope=col>&lt;fct&gt;</th><th scope=col>&lt;fct&gt;</th><th scope=col>&lt;dbl&gt;</th><th scope=col>&lt;chr&gt;</th><th scope=col>&lt;dbl&gt;</th><th scope=col>&lt;chr&gt;</th></tr>\n",
       "</thead>\n",
       "<tbody>\n",
       "\t<tr><th scope=row>1</th><td>1</td><td>Alibaba</td><td>China</td><td>FirstTime</td><td>1</td><td>2020-09-07</td><td>2019-09-07</td><td>Active</td><td>127394801</td><td>smzdm.fun       </td><td>Alibaba</td><td>NA</td><td>1</td><td>0.75</td><td>0.75</td><td>0</td><td>338904759</td><td>renewal</td><td>NA</td><td>Renewed</td><td>2020-08-21</td><td>6</td><td>0.23</td><td>smzdm       </td><td>1</td><td> 273</td><td> 5</td><td>l</td><td>5l </td><td>fun</td><td>China</td><td>-0.2876821</td><td>funalibaba</td><td>China</td><td>Renewed</td><td>0.02477651</td><td>agg_rf_ALL</td><td>0.02477651</td><td>agg_rf_ALL</td></tr>\n",
       "\t<tr><th scope=row>2</th><td>2</td><td>Alibaba</td><td>China</td><td>FirstTime</td><td>1</td><td>2020-09-26</td><td>2019-09-26</td><td>Active</td><td>131294091</td><td>hhxx.fun        </td><td>Alibaba</td><td>NA</td><td>1</td><td>0.75</td><td>0.75</td><td>0</td><td>301715129</td><td>renewal</td><td>NA</td><td>Renewed</td><td>2020-03-22</td><td>6</td><td>0.04</td><td>hhxx        </td><td>1</td><td>1261</td><td> 4</td><td>l</td><td>4l </td><td>fun</td><td>China</td><td>-0.2876821</td><td>funalibaba</td><td>China</td><td>Renewed</td><td>0.02245831</td><td>agg_rf_ALL</td><td>0.02245831</td><td>agg_rf_ALL</td></tr>\n",
       "\t<tr><th scope=row>3</th><td>3</td><td>Alibaba</td><td>China</td><td>FirstTime</td><td>1</td><td>2020-09-12</td><td>2019-09-12</td><td>Active</td><td>128437981</td><td>songofwar.fun   </td><td>Alibaba</td><td>NA</td><td>1</td><td>0.75</td><td>0.75</td><td>0</td><td>338293409</td><td>renewal</td><td>NA</td><td>Renewed</td><td>2020-08-18</td><td>6</td><td>5.26</td><td>songofwar   </td><td>1</td><td>2379</td><td> 9</td><td>l</td><td>9l </td><td>fun</td><td>China</td><td>-0.2876821</td><td>funalibaba</td><td>China</td><td>Renewed</td><td>0.13746011</td><td>agg_rf_ALL</td><td>0.13746011</td><td>agg_rf_ALL</td></tr>\n",
       "\t<tr><th scope=row>4</th><td>4</td><td>Alibaba</td><td>China</td><td>FirstTime</td><td>1</td><td>2020-09-09</td><td>2019-09-09</td><td>Active</td><td>127774491</td><td>loongemperor.fun</td><td>Alibaba</td><td>NA</td><td>1</td><td>0.75</td><td>0.75</td><td>0</td><td>317670779</td><td>renewal</td><td>NA</td><td>Renewed</td><td>2020-05-26</td><td>6</td><td>9.03</td><td>loongemperor</td><td>1</td><td>1167</td><td>12</td><td>l</td><td>12l</td><td>fun</td><td>China</td><td>-0.2876821</td><td>funalibaba</td><td>China</td><td>Renewed</td><td>0.04351218</td><td>agg_rf_ALL</td><td>0.04351218</td><td>agg_rf_ALL</td></tr>\n",
       "\t<tr><th scope=row>5</th><td>5</td><td>Alibaba</td><td>China</td><td>FirstTime</td><td>1</td><td>2020-09-12</td><td>2019-09-12</td><td>Active</td><td>128437976</td><td>wantornot.fun   </td><td>Alibaba</td><td>NA</td><td>1</td><td>0.75</td><td>0.75</td><td>0</td><td>338293424</td><td>renewal</td><td>NA</td><td>Renewed</td><td>2020-08-18</td><td>6</td><td>8.36</td><td>waroton     </td><td>2</td><td>2379</td><td> 9</td><td>l</td><td>9l </td><td>fun</td><td>China</td><td>-0.2876821</td><td>funalibaba</td><td>China</td><td>Renewed</td><td>0.07477368</td><td>agg_rf_ALL</td><td>0.07477368</td><td>agg_rf_ALL</td></tr>\n",
       "\t<tr><th scope=row>6</th><td>6</td><td>Alibaba</td><td>China</td><td>FirstTime</td><td>1</td><td>2020-09-05</td><td>2019-09-05</td><td>Active</td><td>126781821</td><td>mafengwo.fun    </td><td>Alibaba</td><td>NA</td><td>1</td><td>0.75</td><td>0.75</td><td>0</td><td>340001059</td><td>renewal</td><td>NA</td><td>Renewed</td><td>2020-08-26</td><td>6</td><td>3.48</td><td>mafengwo    </td><td>1</td><td>1276</td><td> 8</td><td>l</td><td>8l </td><td>fun</td><td>China</td><td>-0.2876821</td><td>funalibaba</td><td>China</td><td>Renewed</td><td>0.05303114</td><td>agg_rf_ALL</td><td>0.05303114</td><td>agg_rf_ALL</td></tr>\n",
       "</tbody>\n",
       "</table>\n"
      ],
      "text/latex": [
       "A data.frame: 6 × 39\n",
       "\\begin{tabular}{r|lllllllllllllllllllllllllllllllllllllll}\n",
       "  & X & reseller & reseller\\_country & renewal\\_type & renewed\\_count & expiry\\_date & creation\\_date & status & domain\\_id & domain & registrar & registrant\\_country & reg\\_period & reg\\_revenue & reg\\_arpt & renew\\_mbg & renewal\\_item\\_id & renew\\_type & autorenew\\_type & renewal\\_status & renew\\_date & renew\\_arpt & gibb\\_score & pattern & pattern\\_domain\\_count & day\\_domains & sld\\_length & sld\\_type & sld\\_type2 & tld & region & log\\_reg\\_arpt & tld\\_registrar\\_index & reseller\\_geo & actual & pred\\_l10 & model\\_l10 & pred\\_auc & model\\_auc\\\\\n",
       "  & <int> & <fct> & <fct> & <fct> & <int> & <fct> & <fct> & <fct> & <int> & <fct> & <fct> & <lgl> & <int> & <dbl> & <dbl> & <int> & <int> & <fct> & <fct> & <fct> & <fct> & <dbl> & <dbl> & <fct> & <int> & <int> & <int> & <fct> & <fct> & <fct> & <fct> & <dbl> & <chr> & <fct> & <fct> & <dbl> & <chr> & <dbl> & <chr>\\\\\n",
       "\\hline\n",
       "\t1 & 1 & Alibaba & China & FirstTime & 1 & 2020-09-07 & 2019-09-07 & Active & 127394801 & smzdm.fun        & Alibaba & NA & 1 & 0.75 & 0.75 & 0 & 338904759 & renewal & NA & Renewed & 2020-08-21 & 6 & 0.23 & smzdm        & 1 &  273 &  5 & l & 5l  & fun & China & -0.2876821 & funalibaba & China & Renewed & 0.02477651 & agg\\_rf\\_ALL & 0.02477651 & agg\\_rf\\_ALL\\\\\n",
       "\t2 & 2 & Alibaba & China & FirstTime & 1 & 2020-09-26 & 2019-09-26 & Active & 131294091 & hhxx.fun         & Alibaba & NA & 1 & 0.75 & 0.75 & 0 & 301715129 & renewal & NA & Renewed & 2020-03-22 & 6 & 0.04 & hhxx         & 1 & 1261 &  4 & l & 4l  & fun & China & -0.2876821 & funalibaba & China & Renewed & 0.02245831 & agg\\_rf\\_ALL & 0.02245831 & agg\\_rf\\_ALL\\\\\n",
       "\t3 & 3 & Alibaba & China & FirstTime & 1 & 2020-09-12 & 2019-09-12 & Active & 128437981 & songofwar.fun    & Alibaba & NA & 1 & 0.75 & 0.75 & 0 & 338293409 & renewal & NA & Renewed & 2020-08-18 & 6 & 5.26 & songofwar    & 1 & 2379 &  9 & l & 9l  & fun & China & -0.2876821 & funalibaba & China & Renewed & 0.13746011 & agg\\_rf\\_ALL & 0.13746011 & agg\\_rf\\_ALL\\\\\n",
       "\t4 & 4 & Alibaba & China & FirstTime & 1 & 2020-09-09 & 2019-09-09 & Active & 127774491 & loongemperor.fun & Alibaba & NA & 1 & 0.75 & 0.75 & 0 & 317670779 & renewal & NA & Renewed & 2020-05-26 & 6 & 9.03 & loongemperor & 1 & 1167 & 12 & l & 12l & fun & China & -0.2876821 & funalibaba & China & Renewed & 0.04351218 & agg\\_rf\\_ALL & 0.04351218 & agg\\_rf\\_ALL\\\\\n",
       "\t5 & 5 & Alibaba & China & FirstTime & 1 & 2020-09-12 & 2019-09-12 & Active & 128437976 & wantornot.fun    & Alibaba & NA & 1 & 0.75 & 0.75 & 0 & 338293424 & renewal & NA & Renewed & 2020-08-18 & 6 & 8.36 & waroton      & 2 & 2379 &  9 & l & 9l  & fun & China & -0.2876821 & funalibaba & China & Renewed & 0.07477368 & agg\\_rf\\_ALL & 0.07477368 & agg\\_rf\\_ALL\\\\\n",
       "\t6 & 6 & Alibaba & China & FirstTime & 1 & 2020-09-05 & 2019-09-05 & Active & 126781821 & mafengwo.fun     & Alibaba & NA & 1 & 0.75 & 0.75 & 0 & 340001059 & renewal & NA & Renewed & 2020-08-26 & 6 & 3.48 & mafengwo     & 1 & 1276 &  8 & l & 8l  & fun & China & -0.2876821 & funalibaba & China & Renewed & 0.05303114 & agg\\_rf\\_ALL & 0.05303114 & agg\\_rf\\_ALL\\\\\n",
       "\\end{tabular}\n"
      ],
      "text/markdown": [
       "\n",
       "A data.frame: 6 × 39\n",
       "\n",
       "| <!--/--> | X &lt;int&gt; | reseller &lt;fct&gt; | reseller_country &lt;fct&gt; | renewal_type &lt;fct&gt; | renewed_count &lt;int&gt; | expiry_date &lt;fct&gt; | creation_date &lt;fct&gt; | status &lt;fct&gt; | domain_id &lt;int&gt; | domain &lt;fct&gt; | registrar &lt;fct&gt; | registrant_country &lt;lgl&gt; | reg_period &lt;int&gt; | reg_revenue &lt;dbl&gt; | reg_arpt &lt;dbl&gt; | renew_mbg &lt;int&gt; | renewal_item_id &lt;int&gt; | renew_type &lt;fct&gt; | autorenew_type &lt;fct&gt; | renewal_status &lt;fct&gt; | renew_date &lt;fct&gt; | renew_arpt &lt;dbl&gt; | gibb_score &lt;dbl&gt; | pattern &lt;fct&gt; | pattern_domain_count &lt;int&gt; | day_domains &lt;int&gt; | sld_length &lt;int&gt; | sld_type &lt;fct&gt; | sld_type2 &lt;fct&gt; | tld &lt;fct&gt; | region &lt;fct&gt; | log_reg_arpt &lt;dbl&gt; | tld_registrar_index &lt;chr&gt; | reseller_geo &lt;fct&gt; | actual &lt;fct&gt; | pred_l10 &lt;dbl&gt; | model_l10 &lt;chr&gt; | pred_auc &lt;dbl&gt; | model_auc &lt;chr&gt; |\n",
       "|---|---|---|---|---|---|---|---|---|---|---|---|---|---|---|---|---|---|---|---|---|---|---|---|---|---|---|---|---|---|---|---|---|---|---|---|---|---|---|---|\n",
       "| 1 | 1 | Alibaba | China | FirstTime | 1 | 2020-09-07 | 2019-09-07 | Active | 127394801 | smzdm.fun        | Alibaba | NA | 1 | 0.75 | 0.75 | 0 | 338904759 | renewal | NA | Renewed | 2020-08-21 | 6 | 0.23 | smzdm        | 1 |  273 |  5 | l | 5l  | fun | China | -0.2876821 | funalibaba | China | Renewed | 0.02477651 | agg_rf_ALL | 0.02477651 | agg_rf_ALL |\n",
       "| 2 | 2 | Alibaba | China | FirstTime | 1 | 2020-09-26 | 2019-09-26 | Active | 131294091 | hhxx.fun         | Alibaba | NA | 1 | 0.75 | 0.75 | 0 | 301715129 | renewal | NA | Renewed | 2020-03-22 | 6 | 0.04 | hhxx         | 1 | 1261 |  4 | l | 4l  | fun | China | -0.2876821 | funalibaba | China | Renewed | 0.02245831 | agg_rf_ALL | 0.02245831 | agg_rf_ALL |\n",
       "| 3 | 3 | Alibaba | China | FirstTime | 1 | 2020-09-12 | 2019-09-12 | Active | 128437981 | songofwar.fun    | Alibaba | NA | 1 | 0.75 | 0.75 | 0 | 338293409 | renewal | NA | Renewed | 2020-08-18 | 6 | 5.26 | songofwar    | 1 | 2379 |  9 | l | 9l  | fun | China | -0.2876821 | funalibaba | China | Renewed | 0.13746011 | agg_rf_ALL | 0.13746011 | agg_rf_ALL |\n",
       "| 4 | 4 | Alibaba | China | FirstTime | 1 | 2020-09-09 | 2019-09-09 | Active | 127774491 | loongemperor.fun | Alibaba | NA | 1 | 0.75 | 0.75 | 0 | 317670779 | renewal | NA | Renewed | 2020-05-26 | 6 | 9.03 | loongemperor | 1 | 1167 | 12 | l | 12l | fun | China | -0.2876821 | funalibaba | China | Renewed | 0.04351218 | agg_rf_ALL | 0.04351218 | agg_rf_ALL |\n",
       "| 5 | 5 | Alibaba | China | FirstTime | 1 | 2020-09-12 | 2019-09-12 | Active | 128437976 | wantornot.fun    | Alibaba | NA | 1 | 0.75 | 0.75 | 0 | 338293424 | renewal | NA | Renewed | 2020-08-18 | 6 | 8.36 | waroton      | 2 | 2379 |  9 | l | 9l  | fun | China | -0.2876821 | funalibaba | China | Renewed | 0.07477368 | agg_rf_ALL | 0.07477368 | agg_rf_ALL |\n",
       "| 6 | 6 | Alibaba | China | FirstTime | 1 | 2020-09-05 | 2019-09-05 | Active | 126781821 | mafengwo.fun     | Alibaba | NA | 1 | 0.75 | 0.75 | 0 | 340001059 | renewal | NA | Renewed | 2020-08-26 | 6 | 3.48 | mafengwo     | 1 | 1276 |  8 | l | 8l  | fun | China | -0.2876821 | funalibaba | China | Renewed | 0.05303114 | agg_rf_ALL | 0.05303114 | agg_rf_ALL |\n",
       "\n"
      ],
      "text/plain": [
       "  X reseller reseller_country renewal_type renewed_count expiry_date\n",
       "1 1 Alibaba  China            FirstTime    1             2020-09-07 \n",
       "2 2 Alibaba  China            FirstTime    1             2020-09-26 \n",
       "3 3 Alibaba  China            FirstTime    1             2020-09-12 \n",
       "4 4 Alibaba  China            FirstTime    1             2020-09-09 \n",
       "5 5 Alibaba  China            FirstTime    1             2020-09-12 \n",
       "6 6 Alibaba  China            FirstTime    1             2020-09-05 \n",
       "  creation_date status domain_id domain           registrar registrant_country\n",
       "1 2019-09-07    Active 127394801 smzdm.fun        Alibaba   NA                \n",
       "2 2019-09-26    Active 131294091 hhxx.fun         Alibaba   NA                \n",
       "3 2019-09-12    Active 128437981 songofwar.fun    Alibaba   NA                \n",
       "4 2019-09-09    Active 127774491 loongemperor.fun Alibaba   NA                \n",
       "5 2019-09-12    Active 128437976 wantornot.fun    Alibaba   NA                \n",
       "6 2019-09-05    Active 126781821 mafengwo.fun     Alibaba   NA                \n",
       "  reg_period reg_revenue reg_arpt renew_mbg renewal_item_id renew_type\n",
       "1 1          0.75        0.75     0         338904759       renewal   \n",
       "2 1          0.75        0.75     0         301715129       renewal   \n",
       "3 1          0.75        0.75     0         338293409       renewal   \n",
       "4 1          0.75        0.75     0         317670779       renewal   \n",
       "5 1          0.75        0.75     0         338293424       renewal   \n",
       "6 1          0.75        0.75     0         340001059       renewal   \n",
       "  autorenew_type renewal_status renew_date renew_arpt gibb_score pattern     \n",
       "1 NA             Renewed        2020-08-21 6          0.23       smzdm       \n",
       "2 NA             Renewed        2020-03-22 6          0.04       hhxx        \n",
       "3 NA             Renewed        2020-08-18 6          5.26       songofwar   \n",
       "4 NA             Renewed        2020-05-26 6          9.03       loongemperor\n",
       "5 NA             Renewed        2020-08-18 6          8.36       waroton     \n",
       "6 NA             Renewed        2020-08-26 6          3.48       mafengwo    \n",
       "  pattern_domain_count day_domains sld_length sld_type sld_type2 tld region\n",
       "1 1                     273         5         l        5l        fun China \n",
       "2 1                    1261         4         l        4l        fun China \n",
       "3 1                    2379         9         l        9l        fun China \n",
       "4 1                    1167        12         l        12l       fun China \n",
       "5 2                    2379         9         l        9l        fun China \n",
       "6 1                    1276         8         l        8l        fun China \n",
       "  log_reg_arpt tld_registrar_index reseller_geo actual  pred_l10   model_l10 \n",
       "1 -0.2876821   funalibaba          China        Renewed 0.02477651 agg_rf_ALL\n",
       "2 -0.2876821   funalibaba          China        Renewed 0.02245831 agg_rf_ALL\n",
       "3 -0.2876821   funalibaba          China        Renewed 0.13746011 agg_rf_ALL\n",
       "4 -0.2876821   funalibaba          China        Renewed 0.04351218 agg_rf_ALL\n",
       "5 -0.2876821   funalibaba          China        Renewed 0.07477368 agg_rf_ALL\n",
       "6 -0.2876821   funalibaba          China        Renewed 0.05303114 agg_rf_ALL\n",
       "  pred_auc   model_auc \n",
       "1 0.02477651 agg_rf_ALL\n",
       "2 0.02245831 agg_rf_ALL\n",
       "3 0.13746011 agg_rf_ALL\n",
       "4 0.04351218 agg_rf_ALL\n",
       "5 0.07477368 agg_rf_ALL\n",
       "6 0.05303114 agg_rf_ALL"
      ]
     },
     "metadata": {},
     "output_type": "display_data"
    }
   ],
   "source": [
    "meta_preds_assign_l10 <- meta_preds_assign_l10 %>% rename(pred_l10=predicted, model_l10=model) %>% select(-metric)\n",
    "meta_preds_assign_auc <- meta_preds_assign_auc %>% rename(pred_auc=predicted, model_auc=model) %>% select(-metric)\n",
    "\n",
    "meta_preds_assign_all <- inner_join(meta_preds_assign_l10,\n",
    "                                    meta_preds_assign_auc %>% select('domain_id', 'pred_auc', 'model_auc'),\n",
    "                                   by = 'domain_id')\n",
    "dim(meta_preds_assign_all)\n",
    "names(meta_preds_assign_all)\n",
    "head(meta_preds_assign_all)"
   ]
  },
  {
   "cell_type": "markdown",
   "metadata": {},
   "source": [
    "# Load all model predictions on new data pull, join with meta preds"
   ]
  },
  {
   "cell_type": "code",
   "execution_count": 18,
   "metadata": {},
   "outputs": [
    {
     "data": {
      "text/html": [
       "<style>\n",
       ".list-inline {list-style: none; margin:0; padding: 0}\n",
       ".list-inline>li {display: inline-block}\n",
       ".list-inline>li:not(:last-child)::after {content: \"\\00b7\"; padding: 0 .5ex}\n",
       "</style>\n",
       "<ol class=list-inline><li>430867</li><li>41</li></ol>\n"
      ],
      "text/latex": [
       "\\begin{enumerate*}\n",
       "\\item 430867\n",
       "\\item 41\n",
       "\\end{enumerate*}\n"
      ],
      "text/markdown": [
       "1. 430867\n",
       "2. 41\n",
       "\n",
       "\n"
      ],
      "text/plain": [
       "[1] 430867     41"
      ]
     },
     "metadata": {},
     "output_type": "display_data"
    },
    {
     "data": {
      "text/html": [
       "<table>\n",
       "<caption>A data.frame: 6 × 41</caption>\n",
       "<thead>\n",
       "\t<tr><th></th><th scope=col>reseller</th><th scope=col>reseller_country</th><th scope=col>renewal_type</th><th scope=col>renewed_count</th><th scope=col>expiry_date</th><th scope=col>creation_date</th><th scope=col>status</th><th scope=col>domain_id</th><th scope=col>domain</th><th scope=col>registrar</th><th scope=col>registrant_country</th><th scope=col>reg_period</th><th scope=col>reg_revenue</th><th scope=col>reg_arpt</th><th scope=col>renew_mbg</th><th scope=col>renewal_item_id</th><th scope=col>renew_type</th><th scope=col>autorenew_type</th><th scope=col>renewal_status</th><th scope=col>renew_date</th><th scope=col>renew_arpt</th><th scope=col>gibb_score</th><th scope=col>pattern</th><th scope=col>pattern_domain_count</th><th scope=col>day_domains</th><th scope=col>sld_length</th><th scope=col>sld_type</th><th scope=col>sld_type2</th><th scope=col>tld</th><th scope=col>region</th><th scope=col>log_reg_arpt</th><th scope=col>tld_registrar_index</th><th scope=col>reseller_geo</th><th scope=col>pred_agg_glm_ALL</th><th scope=col>pred_agg_rf_ALL</th><th scope=col>pred_agg_glm</th><th scope=col>pred_agg_rf</th><th scope=col>pred_seg_glm_ALL</th><th scope=col>pred_seg_rf_ALL</th><th scope=col>pred_seg2_glm_ALL</th><th scope=col>pred_seg2_rf_ALL</th></tr>\n",
       "\t<tr><th></th><th scope=col>&lt;fct&gt;</th><th scope=col>&lt;fct&gt;</th><th scope=col>&lt;fct&gt;</th><th scope=col>&lt;int&gt;</th><th scope=col>&lt;fct&gt;</th><th scope=col>&lt;fct&gt;</th><th scope=col>&lt;fct&gt;</th><th scope=col>&lt;int&gt;</th><th scope=col>&lt;fct&gt;</th><th scope=col>&lt;fct&gt;</th><th scope=col>&lt;lgl&gt;</th><th scope=col>&lt;int&gt;</th><th scope=col>&lt;dbl&gt;</th><th scope=col>&lt;dbl&gt;</th><th scope=col>&lt;int&gt;</th><th scope=col>&lt;int&gt;</th><th scope=col>&lt;fct&gt;</th><th scope=col>&lt;fct&gt;</th><th scope=col>&lt;fct&gt;</th><th scope=col>&lt;fct&gt;</th><th scope=col>&lt;dbl&gt;</th><th scope=col>&lt;dbl&gt;</th><th scope=col>&lt;fct&gt;</th><th scope=col>&lt;int&gt;</th><th scope=col>&lt;int&gt;</th><th scope=col>&lt;int&gt;</th><th scope=col>&lt;fct&gt;</th><th scope=col>&lt;fct&gt;</th><th scope=col>&lt;fct&gt;</th><th scope=col>&lt;fct&gt;</th><th scope=col>&lt;dbl&gt;</th><th scope=col>&lt;fct&gt;</th><th scope=col>&lt;fct&gt;</th><th scope=col>&lt;dbl&gt;</th><th scope=col>&lt;dbl&gt;</th><th scope=col>&lt;dbl&gt;</th><th scope=col>&lt;dbl&gt;</th><th scope=col>&lt;dbl&gt;</th><th scope=col>&lt;dbl&gt;</th><th scope=col>&lt;dbl&gt;</th><th scope=col>&lt;dbl&gt;</th></tr>\n",
       "</thead>\n",
       "<tbody>\n",
       "\t<tr><th scope=row>1</th><td>1&amp;1 Internet</td><td>Germany</td><td>FirstTime</td><td>1</td><td>2020-09-17</td><td>2019-09-17</td><td>Active</td><td>129547106</td><td><span style=white-space:pre-wrap>preciodeloro.online             </span></td><td>1&amp;1 Internet</td><td>NA</td><td>1</td><td> 5</td><td> 5</td><td>0</td><td>279480871</td><td>transfer</td><td>NA</td><td>Renewed</td><td>2020-01-14</td><td>25</td><td>7.19</td><td><span style=white-space:pre-wrap>preciodeloro             </span></td><td>1</td><td>66</td><td>12</td><td><span style=white-space:pre-wrap>l       </span></td><td><span style=white-space:pre-wrap>12l       </span></td><td>online</td><td>Non China</td><td>1.609438</td><td>online1&amp;1 internet</td><td>EU</td><td>0.588</td><td>0.5921809</td><td>0.574</td><td>0.5846861</td><td>0.554</td><td>0.5702239</td><td>0.5438008</td><td>0.5917278</td></tr>\n",
       "\t<tr><th scope=row>2</th><td>1&amp;1 Internet</td><td>Germany</td><td>FirstTime</td><td>1</td><td>2020-09-10</td><td>2018-09-10</td><td>Active</td><td> 76285079</td><td><span style=white-space:pre-wrap>advance7.online                 </span></td><td>1&amp;1 Internet</td><td>NA</td><td>2</td><td>30</td><td>15</td><td>0</td><td>225404981</td><td>transfer</td><td>NA</td><td>Renewed</td><td>2019-08-27</td><td>25</td><td>5.42</td><td><span style=white-space:pre-wrap>advance7                 </span></td><td>1</td><td>73</td><td> 8</td><td><span style=white-space:pre-wrap>ln      </span></td><td><span style=white-space:pre-wrap>8ln       </span></td><td>online</td><td>Non China</td><td>2.708050</td><td>online1&amp;1 internet</td><td>EU</td><td>0.572</td><td>0.6141844</td><td>0.562</td><td>0.6244877</td><td>0.484</td><td>0.6159490</td><td>0.4851443</td><td>0.6179782</td></tr>\n",
       "\t<tr><th scope=row>3</th><td>1&amp;1 Internet</td><td>Germany</td><td>FirstTime</td><td>1</td><td>2020-10-02</td><td>2019-10-02</td><td>Active</td><td>132626216</td><td>stellenanzeigen-on-demand.online</td><td>1&amp;1 Internet</td><td>NA</td><td>1</td><td> 5</td><td> 5</td><td>0</td><td>323941649</td><td>renewal </td><td>NA</td><td>Renewed</td><td>2020-06-22</td><td>25</td><td>6.99</td><td>stellenanzeigen-on-demand</td><td>1</td><td>61</td><td>25</td><td>hyphen-l</td><td>25hyphen-l</td><td>online</td><td>Non China</td><td>1.609438</td><td>online1&amp;1 internet</td><td>EU</td><td>0.552</td><td>0.5986996</td><td>0.545</td><td>0.5923937</td><td>0.586</td><td>0.6187455</td><td>0.5799558</td><td>0.6340684</td></tr>\n",
       "\t<tr><th scope=row>4</th><td>1&amp;1 Internet</td><td>Germany</td><td>FirstTime</td><td>1</td><td>2020-09-07</td><td>2019-09-07</td><td>Active</td><td>127423021</td><td><span style=white-space:pre-wrap>colmex.online                   </span></td><td>1&amp;1 Internet</td><td>NA</td><td>1</td><td> 5</td><td> 5</td><td>0</td><td>244331895</td><td>renewal </td><td>NA</td><td>Renewed</td><td>2019-10-28</td><td>25</td><td>4.32</td><td><span style=white-space:pre-wrap>colmex                   </span></td><td>1</td><td>82</td><td> 6</td><td><span style=white-space:pre-wrap>l       </span></td><td><span style=white-space:pre-wrap>6l        </span></td><td>online</td><td>Non China</td><td>1.609438</td><td>online1&amp;1 internet</td><td>EU</td><td>0.602</td><td>0.4743705</td><td>0.586</td><td>0.4799012</td><td>0.578</td><td>0.4853137</td><td>0.5700971</td><td>0.4702835</td></tr>\n",
       "\t<tr><th scope=row>5</th><td>1&amp;1 Internet</td><td>Germany</td><td>FirstTime</td><td>1</td><td>2020-09-08</td><td>2019-09-08</td><td>Active</td><td>127588571</td><td><span style=white-space:pre-wrap>chattaboxforum.online           </span></td><td>1&amp;1 Internet</td><td>NA</td><td>1</td><td> 5</td><td> 5</td><td>0</td><td>229331376</td><td>renewal </td><td>NA</td><td>Renewed</td><td>2019-09-09</td><td>25</td><td>3.66</td><td><span style=white-space:pre-wrap>chattaboxforum           </span></td><td>1</td><td>65</td><td>14</td><td><span style=white-space:pre-wrap>l       </span></td><td><span style=white-space:pre-wrap>14l       </span></td><td>online</td><td>Non China</td><td>1.609438</td><td>online1&amp;1 internet</td><td>EU</td><td>0.568</td><td>0.4919164</td><td>0.553</td><td>0.4825344</td><td>0.554</td><td>0.4803202</td><td>0.5428917</td><td>0.4597726</td></tr>\n",
       "\t<tr><th scope=row>6</th><td>1&amp;1 Internet</td><td>Germany</td><td>FirstTime</td><td>1</td><td>2020-10-02</td><td>2019-10-02</td><td>Active</td><td>132629291</td><td><span style=white-space:pre-wrap>jobpodcast.online               </span></td><td>1&amp;1 Internet</td><td>NA</td><td>1</td><td> 5</td><td> 5</td><td>0</td><td>323938864</td><td>renewal </td><td>NA</td><td>Renewed</td><td>2020-06-22</td><td>25</td><td>1.96</td><td><span style=white-space:pre-wrap>jobpodcast               </span></td><td>1</td><td>61</td><td>10</td><td><span style=white-space:pre-wrap>l       </span></td><td><span style=white-space:pre-wrap>10l       </span></td><td>online</td><td>Non China</td><td>1.609438</td><td>online1&amp;1 internet</td><td>EU</td><td>0.582</td><td>0.6497964</td><td>0.566</td><td>0.6369012</td><td>0.571</td><td>0.5675839</td><td>0.5590710</td><td>0.6092187</td></tr>\n",
       "</tbody>\n",
       "</table>\n"
      ],
      "text/latex": [
       "A data.frame: 6 × 41\n",
       "\\begin{tabular}{r|lllllllllllllllllllllllllllllllllllllllll}\n",
       "  & reseller & reseller\\_country & renewal\\_type & renewed\\_count & expiry\\_date & creation\\_date & status & domain\\_id & domain & registrar & registrant\\_country & reg\\_period & reg\\_revenue & reg\\_arpt & renew\\_mbg & renewal\\_item\\_id & renew\\_type & autorenew\\_type & renewal\\_status & renew\\_date & renew\\_arpt & gibb\\_score & pattern & pattern\\_domain\\_count & day\\_domains & sld\\_length & sld\\_type & sld\\_type2 & tld & region & log\\_reg\\_arpt & tld\\_registrar\\_index & reseller\\_geo & pred\\_agg\\_glm\\_ALL & pred\\_agg\\_rf\\_ALL & pred\\_agg\\_glm & pred\\_agg\\_rf & pred\\_seg\\_glm\\_ALL & pred\\_seg\\_rf\\_ALL & pred\\_seg2\\_glm\\_ALL & pred\\_seg2\\_rf\\_ALL\\\\\n",
       "  & <fct> & <fct> & <fct> & <int> & <fct> & <fct> & <fct> & <int> & <fct> & <fct> & <lgl> & <int> & <dbl> & <dbl> & <int> & <int> & <fct> & <fct> & <fct> & <fct> & <dbl> & <dbl> & <fct> & <int> & <int> & <int> & <fct> & <fct> & <fct> & <fct> & <dbl> & <fct> & <fct> & <dbl> & <dbl> & <dbl> & <dbl> & <dbl> & <dbl> & <dbl> & <dbl>\\\\\n",
       "\\hline\n",
       "\t1 & 1\\&1 Internet & Germany & FirstTime & 1 & 2020-09-17 & 2019-09-17 & Active & 129547106 & preciodeloro.online              & 1\\&1 Internet & NA & 1 &  5 &  5 & 0 & 279480871 & transfer & NA & Renewed & 2020-01-14 & 25 & 7.19 & preciodeloro              & 1 & 66 & 12 & l        & 12l        & online & Non China & 1.609438 & online1\\&1 internet & EU & 0.588 & 0.5921809 & 0.574 & 0.5846861 & 0.554 & 0.5702239 & 0.5438008 & 0.5917278\\\\\n",
       "\t2 & 1\\&1 Internet & Germany & FirstTime & 1 & 2020-09-10 & 2018-09-10 & Active &  76285079 & advance7.online                  & 1\\&1 Internet & NA & 2 & 30 & 15 & 0 & 225404981 & transfer & NA & Renewed & 2019-08-27 & 25 & 5.42 & advance7                  & 1 & 73 &  8 & ln       & 8ln        & online & Non China & 2.708050 & online1\\&1 internet & EU & 0.572 & 0.6141844 & 0.562 & 0.6244877 & 0.484 & 0.6159490 & 0.4851443 & 0.6179782\\\\\n",
       "\t3 & 1\\&1 Internet & Germany & FirstTime & 1 & 2020-10-02 & 2019-10-02 & Active & 132626216 & stellenanzeigen-on-demand.online & 1\\&1 Internet & NA & 1 &  5 &  5 & 0 & 323941649 & renewal  & NA & Renewed & 2020-06-22 & 25 & 6.99 & stellenanzeigen-on-demand & 1 & 61 & 25 & hyphen-l & 25hyphen-l & online & Non China & 1.609438 & online1\\&1 internet & EU & 0.552 & 0.5986996 & 0.545 & 0.5923937 & 0.586 & 0.6187455 & 0.5799558 & 0.6340684\\\\\n",
       "\t4 & 1\\&1 Internet & Germany & FirstTime & 1 & 2020-09-07 & 2019-09-07 & Active & 127423021 & colmex.online                    & 1\\&1 Internet & NA & 1 &  5 &  5 & 0 & 244331895 & renewal  & NA & Renewed & 2019-10-28 & 25 & 4.32 & colmex                    & 1 & 82 &  6 & l        & 6l         & online & Non China & 1.609438 & online1\\&1 internet & EU & 0.602 & 0.4743705 & 0.586 & 0.4799012 & 0.578 & 0.4853137 & 0.5700971 & 0.4702835\\\\\n",
       "\t5 & 1\\&1 Internet & Germany & FirstTime & 1 & 2020-09-08 & 2019-09-08 & Active & 127588571 & chattaboxforum.online            & 1\\&1 Internet & NA & 1 &  5 &  5 & 0 & 229331376 & renewal  & NA & Renewed & 2019-09-09 & 25 & 3.66 & chattaboxforum            & 1 & 65 & 14 & l        & 14l        & online & Non China & 1.609438 & online1\\&1 internet & EU & 0.568 & 0.4919164 & 0.553 & 0.4825344 & 0.554 & 0.4803202 & 0.5428917 & 0.4597726\\\\\n",
       "\t6 & 1\\&1 Internet & Germany & FirstTime & 1 & 2020-10-02 & 2019-10-02 & Active & 132629291 & jobpodcast.online                & 1\\&1 Internet & NA & 1 &  5 &  5 & 0 & 323938864 & renewal  & NA & Renewed & 2020-06-22 & 25 & 1.96 & jobpodcast                & 1 & 61 & 10 & l        & 10l        & online & Non China & 1.609438 & online1\\&1 internet & EU & 0.582 & 0.6497964 & 0.566 & 0.6369012 & 0.571 & 0.5675839 & 0.5590710 & 0.6092187\\\\\n",
       "\\end{tabular}\n"
      ],
      "text/markdown": [
       "\n",
       "A data.frame: 6 × 41\n",
       "\n",
       "| <!--/--> | reseller &lt;fct&gt; | reseller_country &lt;fct&gt; | renewal_type &lt;fct&gt; | renewed_count &lt;int&gt; | expiry_date &lt;fct&gt; | creation_date &lt;fct&gt; | status &lt;fct&gt; | domain_id &lt;int&gt; | domain &lt;fct&gt; | registrar &lt;fct&gt; | registrant_country &lt;lgl&gt; | reg_period &lt;int&gt; | reg_revenue &lt;dbl&gt; | reg_arpt &lt;dbl&gt; | renew_mbg &lt;int&gt; | renewal_item_id &lt;int&gt; | renew_type &lt;fct&gt; | autorenew_type &lt;fct&gt; | renewal_status &lt;fct&gt; | renew_date &lt;fct&gt; | renew_arpt &lt;dbl&gt; | gibb_score &lt;dbl&gt; | pattern &lt;fct&gt; | pattern_domain_count &lt;int&gt; | day_domains &lt;int&gt; | sld_length &lt;int&gt; | sld_type &lt;fct&gt; | sld_type2 &lt;fct&gt; | tld &lt;fct&gt; | region &lt;fct&gt; | log_reg_arpt &lt;dbl&gt; | tld_registrar_index &lt;fct&gt; | reseller_geo &lt;fct&gt; | pred_agg_glm_ALL &lt;dbl&gt; | pred_agg_rf_ALL &lt;dbl&gt; | pred_agg_glm &lt;dbl&gt; | pred_agg_rf &lt;dbl&gt; | pred_seg_glm_ALL &lt;dbl&gt; | pred_seg_rf_ALL &lt;dbl&gt; | pred_seg2_glm_ALL &lt;dbl&gt; | pred_seg2_rf_ALL &lt;dbl&gt; |\n",
       "|---|---|---|---|---|---|---|---|---|---|---|---|---|---|---|---|---|---|---|---|---|---|---|---|---|---|---|---|---|---|---|---|---|---|---|---|---|---|---|---|---|---|\n",
       "| 1 | 1&amp;1 Internet | Germany | FirstTime | 1 | 2020-09-17 | 2019-09-17 | Active | 129547106 | preciodeloro.online              | 1&amp;1 Internet | NA | 1 |  5 |  5 | 0 | 279480871 | transfer | NA | Renewed | 2020-01-14 | 25 | 7.19 | preciodeloro              | 1 | 66 | 12 | l        | 12l        | online | Non China | 1.609438 | online1&amp;1 internet | EU | 0.588 | 0.5921809 | 0.574 | 0.5846861 | 0.554 | 0.5702239 | 0.5438008 | 0.5917278 |\n",
       "| 2 | 1&amp;1 Internet | Germany | FirstTime | 1 | 2020-09-10 | 2018-09-10 | Active |  76285079 | advance7.online                  | 1&amp;1 Internet | NA | 2 | 30 | 15 | 0 | 225404981 | transfer | NA | Renewed | 2019-08-27 | 25 | 5.42 | advance7                  | 1 | 73 |  8 | ln       | 8ln        | online | Non China | 2.708050 | online1&amp;1 internet | EU | 0.572 | 0.6141844 | 0.562 | 0.6244877 | 0.484 | 0.6159490 | 0.4851443 | 0.6179782 |\n",
       "| 3 | 1&amp;1 Internet | Germany | FirstTime | 1 | 2020-10-02 | 2019-10-02 | Active | 132626216 | stellenanzeigen-on-demand.online | 1&amp;1 Internet | NA | 1 |  5 |  5 | 0 | 323941649 | renewal  | NA | Renewed | 2020-06-22 | 25 | 6.99 | stellenanzeigen-on-demand | 1 | 61 | 25 | hyphen-l | 25hyphen-l | online | Non China | 1.609438 | online1&amp;1 internet | EU | 0.552 | 0.5986996 | 0.545 | 0.5923937 | 0.586 | 0.6187455 | 0.5799558 | 0.6340684 |\n",
       "| 4 | 1&amp;1 Internet | Germany | FirstTime | 1 | 2020-09-07 | 2019-09-07 | Active | 127423021 | colmex.online                    | 1&amp;1 Internet | NA | 1 |  5 |  5 | 0 | 244331895 | renewal  | NA | Renewed | 2019-10-28 | 25 | 4.32 | colmex                    | 1 | 82 |  6 | l        | 6l         | online | Non China | 1.609438 | online1&amp;1 internet | EU | 0.602 | 0.4743705 | 0.586 | 0.4799012 | 0.578 | 0.4853137 | 0.5700971 | 0.4702835 |\n",
       "| 5 | 1&amp;1 Internet | Germany | FirstTime | 1 | 2020-09-08 | 2019-09-08 | Active | 127588571 | chattaboxforum.online            | 1&amp;1 Internet | NA | 1 |  5 |  5 | 0 | 229331376 | renewal  | NA | Renewed | 2019-09-09 | 25 | 3.66 | chattaboxforum            | 1 | 65 | 14 | l        | 14l        | online | Non China | 1.609438 | online1&amp;1 internet | EU | 0.568 | 0.4919164 | 0.553 | 0.4825344 | 0.554 | 0.4803202 | 0.5428917 | 0.4597726 |\n",
       "| 6 | 1&amp;1 Internet | Germany | FirstTime | 1 | 2020-10-02 | 2019-10-02 | Active | 132629291 | jobpodcast.online                | 1&amp;1 Internet | NA | 1 |  5 |  5 | 0 | 323938864 | renewal  | NA | Renewed | 2020-06-22 | 25 | 1.96 | jobpodcast                | 1 | 61 | 10 | l        | 10l        | online | Non China | 1.609438 | online1&amp;1 internet | EU | 0.582 | 0.6497964 | 0.566 | 0.6369012 | 0.571 | 0.5675839 | 0.5590710 | 0.6092187 |\n",
       "\n"
      ],
      "text/plain": [
       "  reseller     reseller_country renewal_type renewed_count expiry_date\n",
       "1 1&1 Internet Germany          FirstTime    1             2020-09-17 \n",
       "2 1&1 Internet Germany          FirstTime    1             2020-09-10 \n",
       "3 1&1 Internet Germany          FirstTime    1             2020-10-02 \n",
       "4 1&1 Internet Germany          FirstTime    1             2020-09-07 \n",
       "5 1&1 Internet Germany          FirstTime    1             2020-09-08 \n",
       "6 1&1 Internet Germany          FirstTime    1             2020-10-02 \n",
       "  creation_date status domain_id domain                           registrar   \n",
       "1 2019-09-17    Active 129547106 preciodeloro.online              1&1 Internet\n",
       "2 2018-09-10    Active  76285079 advance7.online                  1&1 Internet\n",
       "3 2019-10-02    Active 132626216 stellenanzeigen-on-demand.online 1&1 Internet\n",
       "4 2019-09-07    Active 127423021 colmex.online                    1&1 Internet\n",
       "5 2019-09-08    Active 127588571 chattaboxforum.online            1&1 Internet\n",
       "6 2019-10-02    Active 132629291 jobpodcast.online                1&1 Internet\n",
       "  registrant_country reg_period reg_revenue reg_arpt renew_mbg renewal_item_id\n",
       "1 NA                 1           5           5       0         279480871      \n",
       "2 NA                 2          30          15       0         225404981      \n",
       "3 NA                 1           5           5       0         323941649      \n",
       "4 NA                 1           5           5       0         244331895      \n",
       "5 NA                 1           5           5       0         229331376      \n",
       "6 NA                 1           5           5       0         323938864      \n",
       "  renew_type autorenew_type renewal_status renew_date renew_arpt gibb_score\n",
       "1 transfer   NA             Renewed        2020-01-14 25         7.19      \n",
       "2 transfer   NA             Renewed        2019-08-27 25         5.42      \n",
       "3 renewal    NA             Renewed        2020-06-22 25         6.99      \n",
       "4 renewal    NA             Renewed        2019-10-28 25         4.32      \n",
       "5 renewal    NA             Renewed        2019-09-09 25         3.66      \n",
       "6 renewal    NA             Renewed        2020-06-22 25         1.96      \n",
       "  pattern                   pattern_domain_count day_domains sld_length\n",
       "1 preciodeloro              1                    66          12        \n",
       "2 advance7                  1                    73           8        \n",
       "3 stellenanzeigen-on-demand 1                    61          25        \n",
       "4 colmex                    1                    82           6        \n",
       "5 chattaboxforum            1                    65          14        \n",
       "6 jobpodcast                1                    61          10        \n",
       "  sld_type sld_type2  tld    region    log_reg_arpt tld_registrar_index\n",
       "1 l        12l        online Non China 1.609438     online1&1 internet \n",
       "2 ln       8ln        online Non China 2.708050     online1&1 internet \n",
       "3 hyphen-l 25hyphen-l online Non China 1.609438     online1&1 internet \n",
       "4 l        6l         online Non China 1.609438     online1&1 internet \n",
       "5 l        14l        online Non China 1.609438     online1&1 internet \n",
       "6 l        10l        online Non China 1.609438     online1&1 internet \n",
       "  reseller_geo pred_agg_glm_ALL pred_agg_rf_ALL pred_agg_glm pred_agg_rf\n",
       "1 EU           0.588            0.5921809       0.574        0.5846861  \n",
       "2 EU           0.572            0.6141844       0.562        0.6244877  \n",
       "3 EU           0.552            0.5986996       0.545        0.5923937  \n",
       "4 EU           0.602            0.4743705       0.586        0.4799012  \n",
       "5 EU           0.568            0.4919164       0.553        0.4825344  \n",
       "6 EU           0.582            0.6497964       0.566        0.6369012  \n",
       "  pred_seg_glm_ALL pred_seg_rf_ALL pred_seg2_glm_ALL pred_seg2_rf_ALL\n",
       "1 0.554            0.5702239       0.5438008         0.5917278       \n",
       "2 0.484            0.6159490       0.4851443         0.6179782       \n",
       "3 0.586            0.6187455       0.5799558         0.6340684       \n",
       "4 0.578            0.4853137       0.5700971         0.4702835       \n",
       "5 0.554            0.4803202       0.5428917         0.4597726       \n",
       "6 0.571            0.5675839       0.5590710         0.6092187       "
      ]
     },
     "metadata": {},
     "output_type": "display_data"
    }
   ],
   "source": [
    "fullDir=outputDir\n",
    "predDir = file.path(fullDir, 'preds')\n",
    "model_preds = read.csv(file.path(predDir, 'preds.csv'))\n",
    "model_preds <- model_preds %>% filter(renewal_type=='FirstTime')\n",
    "dim(model_preds)\n",
    "model_preds %>% head()"
   ]
  },
  {
   "cell_type": "code",
   "execution_count": 19,
   "metadata": {},
   "outputs": [
    {
     "data": {
      "text/html": [
       "1340"
      ],
      "text/latex": [
       "1340"
      ],
      "text/markdown": [
       "1340"
      ],
      "text/plain": [
       "[1] 1340"
      ]
     },
     "metadata": {},
     "output_type": "display_data"
    }
   ],
   "source": [
    "model_preds %>% distinct((tld_registrar_index)) %>% nrow()"
   ]
  },
  {
   "cell_type": "code",
   "execution_count": 20,
   "metadata": {},
   "outputs": [
    {
     "data": {
      "text/html": [
       "<style>\n",
       ".list-inline {list-style: none; margin:0; padding: 0}\n",
       ".list-inline>li {display: inline-block}\n",
       ".list-inline>li:not(:last-child)::after {content: \"\\00b7\"; padding: 0 .5ex}\n",
       "</style>\n",
       "<ol class=list-inline><li>491777</li><li>37</li></ol>\n"
      ],
      "text/latex": [
       "\\begin{enumerate*}\n",
       "\\item 491777\n",
       "\\item 37\n",
       "\\end{enumerate*}\n"
      ],
      "text/markdown": [
       "1. 491777\n",
       "2. 37\n",
       "\n",
       "\n"
      ],
      "text/plain": [
       "[1] 491777     37"
      ]
     },
     "metadata": {},
     "output_type": "display_data"
    },
    {
     "data": {
      "text/html": [
       "<style>\n",
       ".list-inline {list-style: none; margin:0; padding: 0}\n",
       ".list-inline>li {display: inline-block}\n",
       ".list-inline>li:not(:last-child)::after {content: \"\\00b7\"; padding: 0 .5ex}\n",
       "</style>\n",
       "<ol class=list-inline><li>430867</li><li>41</li></ol>\n"
      ],
      "text/latex": [
       "\\begin{enumerate*}\n",
       "\\item 430867\n",
       "\\item 41\n",
       "\\end{enumerate*}\n"
      ],
      "text/markdown": [
       "1. 430867\n",
       "2. 41\n",
       "\n",
       "\n"
      ],
      "text/plain": [
       "[1] 430867     41"
      ]
     },
     "metadata": {},
     "output_type": "display_data"
    },
    {
     "data": {
      "text/html": [
       "<style>\n",
       ".list-inline {list-style: none; margin:0; padding: 0}\n",
       ".list-inline>li {display: inline-block}\n",
       ".list-inline>li:not(:last-child)::after {content: \"\\00b7\"; padding: 0 .5ex}\n",
       "</style>\n",
       "<ol class=list-inline><li>430867</li><li>45</li></ol>\n"
      ],
      "text/latex": [
       "\\begin{enumerate*}\n",
       "\\item 430867\n",
       "\\item 45\n",
       "\\end{enumerate*}\n"
      ],
      "text/markdown": [
       "1. 430867\n",
       "2. 45\n",
       "\n",
       "\n"
      ],
      "text/plain": [
       "[1] 430867     45"
      ]
     },
     "metadata": {},
     "output_type": "display_data"
    }
   ],
   "source": [
    "preds_all <- inner_join(meta_preds_assign_all %>% select('domain_id', 'pred_l10','model_l10','pred_auc','model_auc'), \n",
    "                        model_preds,\n",
    "                        by='domain_id')\n",
    "dim(meta_preds)\n",
    "dim(model_preds)\n",
    "dim(preds_all)"
   ]
  },
  {
   "cell_type": "markdown",
   "metadata": {},
   "source": [
    "# Output for Parag 01/08/2020"
   ]
  },
  {
   "cell_type": "code",
   "execution_count": 21,
   "metadata": {},
   "outputs": [
    {
     "data": {
      "text/html": [
       "<table>\n",
       "<caption>A data.frame: 6 × 45</caption>\n",
       "<thead>\n",
       "\t<tr><th></th><th scope=col>domain_id</th><th scope=col>pred_l10</th><th scope=col>model_l10</th><th scope=col>pred_auc</th><th scope=col>model_auc</th><th scope=col>reseller</th><th scope=col>reseller_country</th><th scope=col>renewal_type</th><th scope=col>renewed_count</th><th scope=col>expiry_date</th><th scope=col>creation_date</th><th scope=col>status</th><th scope=col>domain</th><th scope=col>registrar</th><th scope=col>registrant_country</th><th scope=col>reg_period</th><th scope=col>reg_revenue</th><th scope=col>reg_arpt</th><th scope=col>renew_mbg</th><th scope=col>renewal_item_id</th><th scope=col>renew_type</th><th scope=col>autorenew_type</th><th scope=col>renewal_status</th><th scope=col>renew_date</th><th scope=col>renew_arpt</th><th scope=col>gibb_score</th><th scope=col>pattern</th><th scope=col>pattern_domain_count</th><th scope=col>day_domains</th><th scope=col>sld_length</th><th scope=col>sld_type</th><th scope=col>sld_type2</th><th scope=col>tld</th><th scope=col>region</th><th scope=col>log_reg_arpt</th><th scope=col>tld_registrar_index</th><th scope=col>reseller_geo</th><th scope=col>pred_agg_glm_ALL</th><th scope=col>pred_agg_rf_ALL</th><th scope=col>pred_agg_glm</th><th scope=col>pred_agg_rf</th><th scope=col>pred_seg_glm_ALL</th><th scope=col>pred_seg_rf_ALL</th><th scope=col>pred_seg2_glm_ALL</th><th scope=col>pred_seg2_rf_ALL</th></tr>\n",
       "\t<tr><th></th><th scope=col>&lt;int&gt;</th><th scope=col>&lt;dbl&gt;</th><th scope=col>&lt;chr&gt;</th><th scope=col>&lt;dbl&gt;</th><th scope=col>&lt;chr&gt;</th><th scope=col>&lt;fct&gt;</th><th scope=col>&lt;fct&gt;</th><th scope=col>&lt;fct&gt;</th><th scope=col>&lt;int&gt;</th><th scope=col>&lt;fct&gt;</th><th scope=col>&lt;fct&gt;</th><th scope=col>&lt;fct&gt;</th><th scope=col>&lt;fct&gt;</th><th scope=col>&lt;fct&gt;</th><th scope=col>&lt;lgl&gt;</th><th scope=col>&lt;int&gt;</th><th scope=col>&lt;dbl&gt;</th><th scope=col>&lt;dbl&gt;</th><th scope=col>&lt;int&gt;</th><th scope=col>&lt;int&gt;</th><th scope=col>&lt;fct&gt;</th><th scope=col>&lt;fct&gt;</th><th scope=col>&lt;fct&gt;</th><th scope=col>&lt;fct&gt;</th><th scope=col>&lt;dbl&gt;</th><th scope=col>&lt;dbl&gt;</th><th scope=col>&lt;fct&gt;</th><th scope=col>&lt;int&gt;</th><th scope=col>&lt;int&gt;</th><th scope=col>&lt;int&gt;</th><th scope=col>&lt;fct&gt;</th><th scope=col>&lt;fct&gt;</th><th scope=col>&lt;fct&gt;</th><th scope=col>&lt;fct&gt;</th><th scope=col>&lt;dbl&gt;</th><th scope=col>&lt;fct&gt;</th><th scope=col>&lt;fct&gt;</th><th scope=col>&lt;dbl&gt;</th><th scope=col>&lt;dbl&gt;</th><th scope=col>&lt;dbl&gt;</th><th scope=col>&lt;dbl&gt;</th><th scope=col>&lt;dbl&gt;</th><th scope=col>&lt;dbl&gt;</th><th scope=col>&lt;dbl&gt;</th><th scope=col>&lt;dbl&gt;</th></tr>\n",
       "</thead>\n",
       "<tbody>\n",
       "\t<tr><th scope=row>1</th><td>127394801</td><td>0.02477651</td><td>agg_rf_ALL</td><td>0.02477651</td><td>agg_rf_ALL</td><td>Alibaba</td><td>China</td><td>FirstTime</td><td>1</td><td>2020-09-07</td><td>2019-09-07</td><td>Active</td><td>smzdm.fun       </td><td>Alibaba</td><td>NA</td><td>1</td><td>0.75</td><td>0.75</td><td>0</td><td>338904759</td><td>renewal</td><td>NA</td><td>Renewed</td><td>2020-08-21</td><td>6</td><td>0.23</td><td>smzdm       </td><td>1</td><td> 273</td><td> 5</td><td>l</td><td>5l </td><td>fun</td><td>China</td><td>-0.2876821</td><td>funalibaba</td><td>China</td><td>0.057</td><td>0.02477651</td><td>0.051</td><td>0.02399424</td><td>0.107</td><td>0.03376228</td><td>0.075906650</td><td>0.02512222</td></tr>\n",
       "\t<tr><th scope=row>2</th><td>131294091</td><td>0.02245831</td><td>agg_rf_ALL</td><td>0.02245831</td><td>agg_rf_ALL</td><td>Alibaba</td><td>China</td><td>FirstTime</td><td>1</td><td>2020-09-26</td><td>2019-09-26</td><td>Active</td><td>hhxx.fun        </td><td>Alibaba</td><td>NA</td><td>1</td><td>0.75</td><td>0.75</td><td>0</td><td>301715129</td><td>renewal</td><td>NA</td><td>Renewed</td><td>2020-03-22</td><td>6</td><td>0.04</td><td>hhxx        </td><td>1</td><td>1261</td><td> 4</td><td>l</td><td>4l </td><td>fun</td><td>China</td><td>-0.2876821</td><td>funalibaba</td><td>China</td><td>0.022</td><td>0.02245831</td><td>0.020</td><td>0.02437213</td><td>0.044</td><td>0.02327520</td><td>0.021503494</td><td>0.02376224</td></tr>\n",
       "\t<tr><th scope=row>3</th><td>128437981</td><td>0.13746011</td><td>agg_rf_ALL</td><td>0.13746011</td><td>agg_rf_ALL</td><td>Alibaba</td><td>China</td><td>FirstTime</td><td>1</td><td>2020-09-12</td><td>2019-09-12</td><td>Active</td><td>songofwar.fun   </td><td>Alibaba</td><td>NA</td><td>1</td><td>0.75</td><td>0.75</td><td>0</td><td>338293409</td><td>renewal</td><td>NA</td><td>Renewed</td><td>2020-08-18</td><td>6</td><td>5.26</td><td>songofwar   </td><td>1</td><td>2379</td><td> 9</td><td>l</td><td>9l </td><td>fun</td><td>China</td><td>-0.2876821</td><td>funalibaba</td><td>China</td><td>0.007</td><td>0.13746011</td><td>0.007</td><td>0.12208318</td><td>0.012</td><td>0.08330054</td><td>0.003070249</td><td>0.07448229</td></tr>\n",
       "\t<tr><th scope=row>4</th><td>127774491</td><td>0.04351218</td><td>agg_rf_ALL</td><td>0.04351218</td><td>agg_rf_ALL</td><td>Alibaba</td><td>China</td><td>FirstTime</td><td>1</td><td>2020-09-09</td><td>2019-09-09</td><td>Active</td><td>loongemperor.fun</td><td>Alibaba</td><td>NA</td><td>1</td><td>0.75</td><td>0.75</td><td>0</td><td>317670779</td><td>renewal</td><td>NA</td><td>Renewed</td><td>2020-05-26</td><td>6</td><td>9.03</td><td>loongemperor</td><td>1</td><td>1167</td><td>12</td><td>l</td><td>12l</td><td>fun</td><td>China</td><td>-0.2876821</td><td>funalibaba</td><td>China</td><td>0.023</td><td>0.04351218</td><td>0.022</td><td>0.04256136</td><td>0.036</td><td>0.05493192</td><td>0.014099110</td><td>0.04392435</td></tr>\n",
       "\t<tr><th scope=row>5</th><td>128437976</td><td>0.07477368</td><td>agg_rf_ALL</td><td>0.07477368</td><td>agg_rf_ALL</td><td>Alibaba</td><td>China</td><td>FirstTime</td><td>1</td><td>2020-09-12</td><td>2019-09-12</td><td>Active</td><td>wantornot.fun   </td><td>Alibaba</td><td>NA</td><td>1</td><td>0.75</td><td>0.75</td><td>0</td><td>338293424</td><td>renewal</td><td>NA</td><td>Renewed</td><td>2020-08-18</td><td>6</td><td>8.36</td><td>waroton     </td><td>2</td><td>2379</td><td> 9</td><td>l</td><td>9l </td><td>fun</td><td>China</td><td>-0.2876821</td><td>funalibaba</td><td>China</td><td>0.007</td><td>0.07477368</td><td>0.006</td><td>0.06829075</td><td>0.012</td><td>0.05258968</td><td>0.003135144</td><td>0.04629859</td></tr>\n",
       "\t<tr><th scope=row>6</th><td>126781821</td><td>0.05303114</td><td>agg_rf_ALL</td><td>0.05303114</td><td>agg_rf_ALL</td><td>Alibaba</td><td>China</td><td>FirstTime</td><td>1</td><td>2020-09-05</td><td>2019-09-05</td><td>Active</td><td>mafengwo.fun    </td><td>Alibaba</td><td>NA</td><td>1</td><td>0.75</td><td>0.75</td><td>0</td><td>340001059</td><td>renewal</td><td>NA</td><td>Renewed</td><td>2020-08-26</td><td>6</td><td>3.48</td><td>mafengwo    </td><td>1</td><td>1276</td><td> 8</td><td>l</td><td>8l </td><td>fun</td><td>China</td><td>-0.2876821</td><td>funalibaba</td><td>China</td><td>0.021</td><td>0.05303114</td><td>0.019</td><td>0.05376797</td><td>0.037</td><td>0.06301462</td><td>0.015506106</td><td>0.05744108</td></tr>\n",
       "</tbody>\n",
       "</table>\n"
      ],
      "text/latex": [
       "A data.frame: 6 × 45\n",
       "\\begin{tabular}{r|lllllllllllllllllllllllllllllllllllllllllllll}\n",
       "  & domain\\_id & pred\\_l10 & model\\_l10 & pred\\_auc & model\\_auc & reseller & reseller\\_country & renewal\\_type & renewed\\_count & expiry\\_date & creation\\_date & status & domain & registrar & registrant\\_country & reg\\_period & reg\\_revenue & reg\\_arpt & renew\\_mbg & renewal\\_item\\_id & renew\\_type & autorenew\\_type & renewal\\_status & renew\\_date & renew\\_arpt & gibb\\_score & pattern & pattern\\_domain\\_count & day\\_domains & sld\\_length & sld\\_type & sld\\_type2 & tld & region & log\\_reg\\_arpt & tld\\_registrar\\_index & reseller\\_geo & pred\\_agg\\_glm\\_ALL & pred\\_agg\\_rf\\_ALL & pred\\_agg\\_glm & pred\\_agg\\_rf & pred\\_seg\\_glm\\_ALL & pred\\_seg\\_rf\\_ALL & pred\\_seg2\\_glm\\_ALL & pred\\_seg2\\_rf\\_ALL\\\\\n",
       "  & <int> & <dbl> & <chr> & <dbl> & <chr> & <fct> & <fct> & <fct> & <int> & <fct> & <fct> & <fct> & <fct> & <fct> & <lgl> & <int> & <dbl> & <dbl> & <int> & <int> & <fct> & <fct> & <fct> & <fct> & <dbl> & <dbl> & <fct> & <int> & <int> & <int> & <fct> & <fct> & <fct> & <fct> & <dbl> & <fct> & <fct> & <dbl> & <dbl> & <dbl> & <dbl> & <dbl> & <dbl> & <dbl> & <dbl>\\\\\n",
       "\\hline\n",
       "\t1 & 127394801 & 0.02477651 & agg\\_rf\\_ALL & 0.02477651 & agg\\_rf\\_ALL & Alibaba & China & FirstTime & 1 & 2020-09-07 & 2019-09-07 & Active & smzdm.fun        & Alibaba & NA & 1 & 0.75 & 0.75 & 0 & 338904759 & renewal & NA & Renewed & 2020-08-21 & 6 & 0.23 & smzdm        & 1 &  273 &  5 & l & 5l  & fun & China & -0.2876821 & funalibaba & China & 0.057 & 0.02477651 & 0.051 & 0.02399424 & 0.107 & 0.03376228 & 0.075906650 & 0.02512222\\\\\n",
       "\t2 & 131294091 & 0.02245831 & agg\\_rf\\_ALL & 0.02245831 & agg\\_rf\\_ALL & Alibaba & China & FirstTime & 1 & 2020-09-26 & 2019-09-26 & Active & hhxx.fun         & Alibaba & NA & 1 & 0.75 & 0.75 & 0 & 301715129 & renewal & NA & Renewed & 2020-03-22 & 6 & 0.04 & hhxx         & 1 & 1261 &  4 & l & 4l  & fun & China & -0.2876821 & funalibaba & China & 0.022 & 0.02245831 & 0.020 & 0.02437213 & 0.044 & 0.02327520 & 0.021503494 & 0.02376224\\\\\n",
       "\t3 & 128437981 & 0.13746011 & agg\\_rf\\_ALL & 0.13746011 & agg\\_rf\\_ALL & Alibaba & China & FirstTime & 1 & 2020-09-12 & 2019-09-12 & Active & songofwar.fun    & Alibaba & NA & 1 & 0.75 & 0.75 & 0 & 338293409 & renewal & NA & Renewed & 2020-08-18 & 6 & 5.26 & songofwar    & 1 & 2379 &  9 & l & 9l  & fun & China & -0.2876821 & funalibaba & China & 0.007 & 0.13746011 & 0.007 & 0.12208318 & 0.012 & 0.08330054 & 0.003070249 & 0.07448229\\\\\n",
       "\t4 & 127774491 & 0.04351218 & agg\\_rf\\_ALL & 0.04351218 & agg\\_rf\\_ALL & Alibaba & China & FirstTime & 1 & 2020-09-09 & 2019-09-09 & Active & loongemperor.fun & Alibaba & NA & 1 & 0.75 & 0.75 & 0 & 317670779 & renewal & NA & Renewed & 2020-05-26 & 6 & 9.03 & loongemperor & 1 & 1167 & 12 & l & 12l & fun & China & -0.2876821 & funalibaba & China & 0.023 & 0.04351218 & 0.022 & 0.04256136 & 0.036 & 0.05493192 & 0.014099110 & 0.04392435\\\\\n",
       "\t5 & 128437976 & 0.07477368 & agg\\_rf\\_ALL & 0.07477368 & agg\\_rf\\_ALL & Alibaba & China & FirstTime & 1 & 2020-09-12 & 2019-09-12 & Active & wantornot.fun    & Alibaba & NA & 1 & 0.75 & 0.75 & 0 & 338293424 & renewal & NA & Renewed & 2020-08-18 & 6 & 8.36 & waroton      & 2 & 2379 &  9 & l & 9l  & fun & China & -0.2876821 & funalibaba & China & 0.007 & 0.07477368 & 0.006 & 0.06829075 & 0.012 & 0.05258968 & 0.003135144 & 0.04629859\\\\\n",
       "\t6 & 126781821 & 0.05303114 & agg\\_rf\\_ALL & 0.05303114 & agg\\_rf\\_ALL & Alibaba & China & FirstTime & 1 & 2020-09-05 & 2019-09-05 & Active & mafengwo.fun     & Alibaba & NA & 1 & 0.75 & 0.75 & 0 & 340001059 & renewal & NA & Renewed & 2020-08-26 & 6 & 3.48 & mafengwo     & 1 & 1276 &  8 & l & 8l  & fun & China & -0.2876821 & funalibaba & China & 0.021 & 0.05303114 & 0.019 & 0.05376797 & 0.037 & 0.06301462 & 0.015506106 & 0.05744108\\\\\n",
       "\\end{tabular}\n"
      ],
      "text/markdown": [
       "\n",
       "A data.frame: 6 × 45\n",
       "\n",
       "| <!--/--> | domain_id &lt;int&gt; | pred_l10 &lt;dbl&gt; | model_l10 &lt;chr&gt; | pred_auc &lt;dbl&gt; | model_auc &lt;chr&gt; | reseller &lt;fct&gt; | reseller_country &lt;fct&gt; | renewal_type &lt;fct&gt; | renewed_count &lt;int&gt; | expiry_date &lt;fct&gt; | creation_date &lt;fct&gt; | status &lt;fct&gt; | domain &lt;fct&gt; | registrar &lt;fct&gt; | registrant_country &lt;lgl&gt; | reg_period &lt;int&gt; | reg_revenue &lt;dbl&gt; | reg_arpt &lt;dbl&gt; | renew_mbg &lt;int&gt; | renewal_item_id &lt;int&gt; | renew_type &lt;fct&gt; | autorenew_type &lt;fct&gt; | renewal_status &lt;fct&gt; | renew_date &lt;fct&gt; | renew_arpt &lt;dbl&gt; | gibb_score &lt;dbl&gt; | pattern &lt;fct&gt; | pattern_domain_count &lt;int&gt; | day_domains &lt;int&gt; | sld_length &lt;int&gt; | sld_type &lt;fct&gt; | sld_type2 &lt;fct&gt; | tld &lt;fct&gt; | region &lt;fct&gt; | log_reg_arpt &lt;dbl&gt; | tld_registrar_index &lt;fct&gt; | reseller_geo &lt;fct&gt; | pred_agg_glm_ALL &lt;dbl&gt; | pred_agg_rf_ALL &lt;dbl&gt; | pred_agg_glm &lt;dbl&gt; | pred_agg_rf &lt;dbl&gt; | pred_seg_glm_ALL &lt;dbl&gt; | pred_seg_rf_ALL &lt;dbl&gt; | pred_seg2_glm_ALL &lt;dbl&gt; | pred_seg2_rf_ALL &lt;dbl&gt; |\n",
       "|---|---|---|---|---|---|---|---|---|---|---|---|---|---|---|---|---|---|---|---|---|---|---|---|---|---|---|---|---|---|---|---|---|---|---|---|---|---|---|---|---|---|---|---|---|---|\n",
       "| 1 | 127394801 | 0.02477651 | agg_rf_ALL | 0.02477651 | agg_rf_ALL | Alibaba | China | FirstTime | 1 | 2020-09-07 | 2019-09-07 | Active | smzdm.fun        | Alibaba | NA | 1 | 0.75 | 0.75 | 0 | 338904759 | renewal | NA | Renewed | 2020-08-21 | 6 | 0.23 | smzdm        | 1 |  273 |  5 | l | 5l  | fun | China | -0.2876821 | funalibaba | China | 0.057 | 0.02477651 | 0.051 | 0.02399424 | 0.107 | 0.03376228 | 0.075906650 | 0.02512222 |\n",
       "| 2 | 131294091 | 0.02245831 | agg_rf_ALL | 0.02245831 | agg_rf_ALL | Alibaba | China | FirstTime | 1 | 2020-09-26 | 2019-09-26 | Active | hhxx.fun         | Alibaba | NA | 1 | 0.75 | 0.75 | 0 | 301715129 | renewal | NA | Renewed | 2020-03-22 | 6 | 0.04 | hhxx         | 1 | 1261 |  4 | l | 4l  | fun | China | -0.2876821 | funalibaba | China | 0.022 | 0.02245831 | 0.020 | 0.02437213 | 0.044 | 0.02327520 | 0.021503494 | 0.02376224 |\n",
       "| 3 | 128437981 | 0.13746011 | agg_rf_ALL | 0.13746011 | agg_rf_ALL | Alibaba | China | FirstTime | 1 | 2020-09-12 | 2019-09-12 | Active | songofwar.fun    | Alibaba | NA | 1 | 0.75 | 0.75 | 0 | 338293409 | renewal | NA | Renewed | 2020-08-18 | 6 | 5.26 | songofwar    | 1 | 2379 |  9 | l | 9l  | fun | China | -0.2876821 | funalibaba | China | 0.007 | 0.13746011 | 0.007 | 0.12208318 | 0.012 | 0.08330054 | 0.003070249 | 0.07448229 |\n",
       "| 4 | 127774491 | 0.04351218 | agg_rf_ALL | 0.04351218 | agg_rf_ALL | Alibaba | China | FirstTime | 1 | 2020-09-09 | 2019-09-09 | Active | loongemperor.fun | Alibaba | NA | 1 | 0.75 | 0.75 | 0 | 317670779 | renewal | NA | Renewed | 2020-05-26 | 6 | 9.03 | loongemperor | 1 | 1167 | 12 | l | 12l | fun | China | -0.2876821 | funalibaba | China | 0.023 | 0.04351218 | 0.022 | 0.04256136 | 0.036 | 0.05493192 | 0.014099110 | 0.04392435 |\n",
       "| 5 | 128437976 | 0.07477368 | agg_rf_ALL | 0.07477368 | agg_rf_ALL | Alibaba | China | FirstTime | 1 | 2020-09-12 | 2019-09-12 | Active | wantornot.fun    | Alibaba | NA | 1 | 0.75 | 0.75 | 0 | 338293424 | renewal | NA | Renewed | 2020-08-18 | 6 | 8.36 | waroton      | 2 | 2379 |  9 | l | 9l  | fun | China | -0.2876821 | funalibaba | China | 0.007 | 0.07477368 | 0.006 | 0.06829075 | 0.012 | 0.05258968 | 0.003135144 | 0.04629859 |\n",
       "| 6 | 126781821 | 0.05303114 | agg_rf_ALL | 0.05303114 | agg_rf_ALL | Alibaba | China | FirstTime | 1 | 2020-09-05 | 2019-09-05 | Active | mafengwo.fun     | Alibaba | NA | 1 | 0.75 | 0.75 | 0 | 340001059 | renewal | NA | Renewed | 2020-08-26 | 6 | 3.48 | mafengwo     | 1 | 1276 |  8 | l | 8l  | fun | China | -0.2876821 | funalibaba | China | 0.021 | 0.05303114 | 0.019 | 0.05376797 | 0.037 | 0.06301462 | 0.015506106 | 0.05744108 |\n",
       "\n"
      ],
      "text/plain": [
       "  domain_id pred_l10   model_l10  pred_auc   model_auc  reseller\n",
       "1 127394801 0.02477651 agg_rf_ALL 0.02477651 agg_rf_ALL Alibaba \n",
       "2 131294091 0.02245831 agg_rf_ALL 0.02245831 agg_rf_ALL Alibaba \n",
       "3 128437981 0.13746011 agg_rf_ALL 0.13746011 agg_rf_ALL Alibaba \n",
       "4 127774491 0.04351218 agg_rf_ALL 0.04351218 agg_rf_ALL Alibaba \n",
       "5 128437976 0.07477368 agg_rf_ALL 0.07477368 agg_rf_ALL Alibaba \n",
       "6 126781821 0.05303114 agg_rf_ALL 0.05303114 agg_rf_ALL Alibaba \n",
       "  reseller_country renewal_type renewed_count expiry_date creation_date status\n",
       "1 China            FirstTime    1             2020-09-07  2019-09-07    Active\n",
       "2 China            FirstTime    1             2020-09-26  2019-09-26    Active\n",
       "3 China            FirstTime    1             2020-09-12  2019-09-12    Active\n",
       "4 China            FirstTime    1             2020-09-09  2019-09-09    Active\n",
       "5 China            FirstTime    1             2020-09-12  2019-09-12    Active\n",
       "6 China            FirstTime    1             2020-09-05  2019-09-05    Active\n",
       "  domain           registrar registrant_country reg_period reg_revenue reg_arpt\n",
       "1 smzdm.fun        Alibaba   NA                 1          0.75        0.75    \n",
       "2 hhxx.fun         Alibaba   NA                 1          0.75        0.75    \n",
       "3 songofwar.fun    Alibaba   NA                 1          0.75        0.75    \n",
       "4 loongemperor.fun Alibaba   NA                 1          0.75        0.75    \n",
       "5 wantornot.fun    Alibaba   NA                 1          0.75        0.75    \n",
       "6 mafengwo.fun     Alibaba   NA                 1          0.75        0.75    \n",
       "  renew_mbg renewal_item_id renew_type autorenew_type renewal_status renew_date\n",
       "1 0         338904759       renewal    NA             Renewed        2020-08-21\n",
       "2 0         301715129       renewal    NA             Renewed        2020-03-22\n",
       "3 0         338293409       renewal    NA             Renewed        2020-08-18\n",
       "4 0         317670779       renewal    NA             Renewed        2020-05-26\n",
       "5 0         338293424       renewal    NA             Renewed        2020-08-18\n",
       "6 0         340001059       renewal    NA             Renewed        2020-08-26\n",
       "  renew_arpt gibb_score pattern      pattern_domain_count day_domains\n",
       "1 6          0.23       smzdm        1                     273       \n",
       "2 6          0.04       hhxx         1                    1261       \n",
       "3 6          5.26       songofwar    1                    2379       \n",
       "4 6          9.03       loongemperor 1                    1167       \n",
       "5 6          8.36       waroton      2                    2379       \n",
       "6 6          3.48       mafengwo     1                    1276       \n",
       "  sld_length sld_type sld_type2 tld region log_reg_arpt tld_registrar_index\n",
       "1  5         l        5l        fun China  -0.2876821   funalibaba         \n",
       "2  4         l        4l        fun China  -0.2876821   funalibaba         \n",
       "3  9         l        9l        fun China  -0.2876821   funalibaba         \n",
       "4 12         l        12l       fun China  -0.2876821   funalibaba         \n",
       "5  9         l        9l        fun China  -0.2876821   funalibaba         \n",
       "6  8         l        8l        fun China  -0.2876821   funalibaba         \n",
       "  reseller_geo pred_agg_glm_ALL pred_agg_rf_ALL pred_agg_glm pred_agg_rf\n",
       "1 China        0.057            0.02477651      0.051        0.02399424 \n",
       "2 China        0.022            0.02245831      0.020        0.02437213 \n",
       "3 China        0.007            0.13746011      0.007        0.12208318 \n",
       "4 China        0.023            0.04351218      0.022        0.04256136 \n",
       "5 China        0.007            0.07477368      0.006        0.06829075 \n",
       "6 China        0.021            0.05303114      0.019        0.05376797 \n",
       "  pred_seg_glm_ALL pred_seg_rf_ALL pred_seg2_glm_ALL pred_seg2_rf_ALL\n",
       "1 0.107            0.03376228      0.075906650       0.02512222      \n",
       "2 0.044            0.02327520      0.021503494       0.02376224      \n",
       "3 0.012            0.08330054      0.003070249       0.07448229      \n",
       "4 0.036            0.05493192      0.014099110       0.04392435      \n",
       "5 0.012            0.05258968      0.003135144       0.04629859      \n",
       "6 0.037            0.06301462      0.015506106       0.05744108      "
      ]
     },
     "metadata": {},
     "output_type": "display_data"
    }
   ],
   "source": [
    "head(preds_all)"
   ]
  },
  {
   "cell_type": "code",
   "execution_count": 25,
   "metadata": {},
   "outputs": [
    {
     "data": {
      "text/html": [
       "<style>\n",
       ".list-inline {list-style: none; margin:0; padding: 0}\n",
       ".list-inline>li {display: inline-block}\n",
       ".list-inline>li:not(:last-child)::after {content: \"\\00b7\"; padding: 0 .5ex}\n",
       "</style>\n",
       "<ol class=list-inline><li>'pred_l10'</li><li>'pred_auc'</li><li>'pred_agg_glm_ALL'</li><li>'pred_agg_rf_ALL'</li><li>'pred_agg_glm'</li><li>'pred_agg_rf'</li><li>'pred_seg_glm_ALL'</li><li>'pred_seg_rf_ALL'</li><li>'pred_seg2_glm_ALL'</li><li>'pred_seg2_rf_ALL'</li></ol>\n"
      ],
      "text/latex": [
       "\\begin{enumerate*}\n",
       "\\item 'pred\\_l10'\n",
       "\\item 'pred\\_auc'\n",
       "\\item 'pred\\_agg\\_glm\\_ALL'\n",
       "\\item 'pred\\_agg\\_rf\\_ALL'\n",
       "\\item 'pred\\_agg\\_glm'\n",
       "\\item 'pred\\_agg\\_rf'\n",
       "\\item 'pred\\_seg\\_glm\\_ALL'\n",
       "\\item 'pred\\_seg\\_rf\\_ALL'\n",
       "\\item 'pred\\_seg2\\_glm\\_ALL'\n",
       "\\item 'pred\\_seg2\\_rf\\_ALL'\n",
       "\\end{enumerate*}\n"
      ],
      "text/markdown": [
       "1. 'pred_l10'\n",
       "2. 'pred_auc'\n",
       "3. 'pred_agg_glm_ALL'\n",
       "4. 'pred_agg_rf_ALL'\n",
       "5. 'pred_agg_glm'\n",
       "6. 'pred_agg_rf'\n",
       "7. 'pred_seg_glm_ALL'\n",
       "8. 'pred_seg_rf_ALL'\n",
       "9. 'pred_seg2_glm_ALL'\n",
       "10. 'pred_seg2_rf_ALL'\n",
       "\n",
       "\n"
      ],
      "text/plain": [
       " [1] \"pred_l10\"          \"pred_auc\"          \"pred_agg_glm_ALL\" \n",
       " [4] \"pred_agg_rf_ALL\"   \"pred_agg_glm\"      \"pred_agg_rf\"      \n",
       " [7] \"pred_seg_glm_ALL\"  \"pred_seg_rf_ALL\"   \"pred_seg2_glm_ALL\"\n",
       "[10] \"pred_seg2_rf_ALL\" "
      ]
     },
     "metadata": {},
     "output_type": "display_data"
    }
   ],
   "source": [
    "cols_long <- preds_all %>% select(contains('pred_')) %>% names()\n",
    "cols_long"
   ]
  },
  {
   "cell_type": "code",
   "execution_count": 32,
   "metadata": {},
   "outputs": [
    {
     "data": {
      "text/html": [
       "<table>\n",
       "<caption>A tibble: 6 × 37</caption>\n",
       "<thead>\n",
       "\t<tr><th scope=col>domain_id</th><th scope=col>model_l10</th><th scope=col>model_auc</th><th scope=col>reseller</th><th scope=col>reseller_country</th><th scope=col>renewal_type</th><th scope=col>renewed_count</th><th scope=col>expiry_date</th><th scope=col>creation_date</th><th scope=col>status</th><th scope=col>domain</th><th scope=col>registrar</th><th scope=col>registrant_country</th><th scope=col>reg_period</th><th scope=col>reg_revenue</th><th scope=col>reg_arpt</th><th scope=col>renew_mbg</th><th scope=col>renewal_item_id</th><th scope=col>renew_type</th><th scope=col>autorenew_type</th><th scope=col>renewal_status</th><th scope=col>renew_date</th><th scope=col>renew_arpt</th><th scope=col>gibb_score</th><th scope=col>pattern</th><th scope=col>pattern_domain_count</th><th scope=col>day_domains</th><th scope=col>sld_length</th><th scope=col>sld_type</th><th scope=col>sld_type2</th><th scope=col>tld</th><th scope=col>region</th><th scope=col>log_reg_arpt</th><th scope=col>tld_registrar_index</th><th scope=col>reseller_geo</th><th scope=col>model</th><th scope=col>predicted</th></tr>\n",
       "\t<tr><th scope=col>&lt;int&gt;</th><th scope=col>&lt;chr&gt;</th><th scope=col>&lt;chr&gt;</th><th scope=col>&lt;fct&gt;</th><th scope=col>&lt;fct&gt;</th><th scope=col>&lt;fct&gt;</th><th scope=col>&lt;int&gt;</th><th scope=col>&lt;fct&gt;</th><th scope=col>&lt;fct&gt;</th><th scope=col>&lt;fct&gt;</th><th scope=col>&lt;fct&gt;</th><th scope=col>&lt;fct&gt;</th><th scope=col>&lt;lgl&gt;</th><th scope=col>&lt;int&gt;</th><th scope=col>&lt;dbl&gt;</th><th scope=col>&lt;dbl&gt;</th><th scope=col>&lt;int&gt;</th><th scope=col>&lt;int&gt;</th><th scope=col>&lt;fct&gt;</th><th scope=col>&lt;fct&gt;</th><th scope=col>&lt;fct&gt;</th><th scope=col>&lt;fct&gt;</th><th scope=col>&lt;dbl&gt;</th><th scope=col>&lt;dbl&gt;</th><th scope=col>&lt;fct&gt;</th><th scope=col>&lt;int&gt;</th><th scope=col>&lt;int&gt;</th><th scope=col>&lt;int&gt;</th><th scope=col>&lt;fct&gt;</th><th scope=col>&lt;fct&gt;</th><th scope=col>&lt;fct&gt;</th><th scope=col>&lt;fct&gt;</th><th scope=col>&lt;dbl&gt;</th><th scope=col>&lt;fct&gt;</th><th scope=col>&lt;fct&gt;</th><th scope=col>&lt;chr&gt;</th><th scope=col>&lt;dbl&gt;</th></tr>\n",
       "</thead>\n",
       "<tbody>\n",
       "\t<tr><td>127394801</td><td>agg_rf_ALL</td><td>agg_rf_ALL</td><td>Alibaba</td><td>China</td><td>FirstTime</td><td>1</td><td>2020-09-07</td><td>2019-09-07</td><td>Active</td><td>smzdm.fun</td><td>Alibaba</td><td>NA</td><td>1</td><td>0.75</td><td>0.75</td><td>0</td><td>338904759</td><td>renewal</td><td>NA</td><td>Renewed</td><td>2020-08-21</td><td>6</td><td>0.23</td><td>smzdm</td><td>1</td><td>273</td><td>5</td><td>l</td><td>5l</td><td>fun</td><td>China</td><td>-0.2876821</td><td>funalibaba</td><td>China</td><td>meta_l10   </td><td>0.02477651</td></tr>\n",
       "\t<tr><td>127394801</td><td>agg_rf_ALL</td><td>agg_rf_ALL</td><td>Alibaba</td><td>China</td><td>FirstTime</td><td>1</td><td>2020-09-07</td><td>2019-09-07</td><td>Active</td><td>smzdm.fun</td><td>Alibaba</td><td>NA</td><td>1</td><td>0.75</td><td>0.75</td><td>0</td><td>338904759</td><td>renewal</td><td>NA</td><td>Renewed</td><td>2020-08-21</td><td>6</td><td>0.23</td><td>smzdm</td><td>1</td><td>273</td><td>5</td><td>l</td><td>5l</td><td>fun</td><td>China</td><td>-0.2876821</td><td>funalibaba</td><td>China</td><td>meta_auc   </td><td>0.02477651</td></tr>\n",
       "\t<tr><td>127394801</td><td>agg_rf_ALL</td><td>agg_rf_ALL</td><td>Alibaba</td><td>China</td><td>FirstTime</td><td>1</td><td>2020-09-07</td><td>2019-09-07</td><td>Active</td><td>smzdm.fun</td><td>Alibaba</td><td>NA</td><td>1</td><td>0.75</td><td>0.75</td><td>0</td><td>338904759</td><td>renewal</td><td>NA</td><td>Renewed</td><td>2020-08-21</td><td>6</td><td>0.23</td><td>smzdm</td><td>1</td><td>273</td><td>5</td><td>l</td><td>5l</td><td>fun</td><td>China</td><td>-0.2876821</td><td>funalibaba</td><td>China</td><td>agg_glm_ALL</td><td>0.05700000</td></tr>\n",
       "\t<tr><td>127394801</td><td>agg_rf_ALL</td><td>agg_rf_ALL</td><td>Alibaba</td><td>China</td><td>FirstTime</td><td>1</td><td>2020-09-07</td><td>2019-09-07</td><td>Active</td><td>smzdm.fun</td><td>Alibaba</td><td>NA</td><td>1</td><td>0.75</td><td>0.75</td><td>0</td><td>338904759</td><td>renewal</td><td>NA</td><td>Renewed</td><td>2020-08-21</td><td>6</td><td>0.23</td><td>smzdm</td><td>1</td><td>273</td><td>5</td><td>l</td><td>5l</td><td>fun</td><td>China</td><td>-0.2876821</td><td>funalibaba</td><td>China</td><td>agg_rf_ALL </td><td>0.02477651</td></tr>\n",
       "\t<tr><td>127394801</td><td>agg_rf_ALL</td><td>agg_rf_ALL</td><td>Alibaba</td><td>China</td><td>FirstTime</td><td>1</td><td>2020-09-07</td><td>2019-09-07</td><td>Active</td><td>smzdm.fun</td><td>Alibaba</td><td>NA</td><td>1</td><td>0.75</td><td>0.75</td><td>0</td><td>338904759</td><td>renewal</td><td>NA</td><td>Renewed</td><td>2020-08-21</td><td>6</td><td>0.23</td><td>smzdm</td><td>1</td><td>273</td><td>5</td><td>l</td><td>5l</td><td>fun</td><td>China</td><td>-0.2876821</td><td>funalibaba</td><td>China</td><td>agg_glm    </td><td>0.05100000</td></tr>\n",
       "\t<tr><td>127394801</td><td>agg_rf_ALL</td><td>agg_rf_ALL</td><td>Alibaba</td><td>China</td><td>FirstTime</td><td>1</td><td>2020-09-07</td><td>2019-09-07</td><td>Active</td><td>smzdm.fun</td><td>Alibaba</td><td>NA</td><td>1</td><td>0.75</td><td>0.75</td><td>0</td><td>338904759</td><td>renewal</td><td>NA</td><td>Renewed</td><td>2020-08-21</td><td>6</td><td>0.23</td><td>smzdm</td><td>1</td><td>273</td><td>5</td><td>l</td><td>5l</td><td>fun</td><td>China</td><td>-0.2876821</td><td>funalibaba</td><td>China</td><td>agg_rf     </td><td>0.02399424</td></tr>\n",
       "</tbody>\n",
       "</table>\n"
      ],
      "text/latex": [
       "A tibble: 6 × 37\n",
       "\\begin{tabular}{lllllllllllllllllllllllllllllllllllll}\n",
       " domain\\_id & model\\_l10 & model\\_auc & reseller & reseller\\_country & renewal\\_type & renewed\\_count & expiry\\_date & creation\\_date & status & domain & registrar & registrant\\_country & reg\\_period & reg\\_revenue & reg\\_arpt & renew\\_mbg & renewal\\_item\\_id & renew\\_type & autorenew\\_type & renewal\\_status & renew\\_date & renew\\_arpt & gibb\\_score & pattern & pattern\\_domain\\_count & day\\_domains & sld\\_length & sld\\_type & sld\\_type2 & tld & region & log\\_reg\\_arpt & tld\\_registrar\\_index & reseller\\_geo & model & predicted\\\\\n",
       " <int> & <chr> & <chr> & <fct> & <fct> & <fct> & <int> & <fct> & <fct> & <fct> & <fct> & <fct> & <lgl> & <int> & <dbl> & <dbl> & <int> & <int> & <fct> & <fct> & <fct> & <fct> & <dbl> & <dbl> & <fct> & <int> & <int> & <int> & <fct> & <fct> & <fct> & <fct> & <dbl> & <fct> & <fct> & <chr> & <dbl>\\\\\n",
       "\\hline\n",
       "\t 127394801 & agg\\_rf\\_ALL & agg\\_rf\\_ALL & Alibaba & China & FirstTime & 1 & 2020-09-07 & 2019-09-07 & Active & smzdm.fun & Alibaba & NA & 1 & 0.75 & 0.75 & 0 & 338904759 & renewal & NA & Renewed & 2020-08-21 & 6 & 0.23 & smzdm & 1 & 273 & 5 & l & 5l & fun & China & -0.2876821 & funalibaba & China & meta\\_l10    & 0.02477651\\\\\n",
       "\t 127394801 & agg\\_rf\\_ALL & agg\\_rf\\_ALL & Alibaba & China & FirstTime & 1 & 2020-09-07 & 2019-09-07 & Active & smzdm.fun & Alibaba & NA & 1 & 0.75 & 0.75 & 0 & 338904759 & renewal & NA & Renewed & 2020-08-21 & 6 & 0.23 & smzdm & 1 & 273 & 5 & l & 5l & fun & China & -0.2876821 & funalibaba & China & meta\\_auc    & 0.02477651\\\\\n",
       "\t 127394801 & agg\\_rf\\_ALL & agg\\_rf\\_ALL & Alibaba & China & FirstTime & 1 & 2020-09-07 & 2019-09-07 & Active & smzdm.fun & Alibaba & NA & 1 & 0.75 & 0.75 & 0 & 338904759 & renewal & NA & Renewed & 2020-08-21 & 6 & 0.23 & smzdm & 1 & 273 & 5 & l & 5l & fun & China & -0.2876821 & funalibaba & China & agg\\_glm\\_ALL & 0.05700000\\\\\n",
       "\t 127394801 & agg\\_rf\\_ALL & agg\\_rf\\_ALL & Alibaba & China & FirstTime & 1 & 2020-09-07 & 2019-09-07 & Active & smzdm.fun & Alibaba & NA & 1 & 0.75 & 0.75 & 0 & 338904759 & renewal & NA & Renewed & 2020-08-21 & 6 & 0.23 & smzdm & 1 & 273 & 5 & l & 5l & fun & China & -0.2876821 & funalibaba & China & agg\\_rf\\_ALL  & 0.02477651\\\\\n",
       "\t 127394801 & agg\\_rf\\_ALL & agg\\_rf\\_ALL & Alibaba & China & FirstTime & 1 & 2020-09-07 & 2019-09-07 & Active & smzdm.fun & Alibaba & NA & 1 & 0.75 & 0.75 & 0 & 338904759 & renewal & NA & Renewed & 2020-08-21 & 6 & 0.23 & smzdm & 1 & 273 & 5 & l & 5l & fun & China & -0.2876821 & funalibaba & China & agg\\_glm     & 0.05100000\\\\\n",
       "\t 127394801 & agg\\_rf\\_ALL & agg\\_rf\\_ALL & Alibaba & China & FirstTime & 1 & 2020-09-07 & 2019-09-07 & Active & smzdm.fun & Alibaba & NA & 1 & 0.75 & 0.75 & 0 & 338904759 & renewal & NA & Renewed & 2020-08-21 & 6 & 0.23 & smzdm & 1 & 273 & 5 & l & 5l & fun & China & -0.2876821 & funalibaba & China & agg\\_rf      & 0.02399424\\\\\n",
       "\\end{tabular}\n"
      ],
      "text/markdown": [
       "\n",
       "A tibble: 6 × 37\n",
       "\n",
       "| domain_id &lt;int&gt; | model_l10 &lt;chr&gt; | model_auc &lt;chr&gt; | reseller &lt;fct&gt; | reseller_country &lt;fct&gt; | renewal_type &lt;fct&gt; | renewed_count &lt;int&gt; | expiry_date &lt;fct&gt; | creation_date &lt;fct&gt; | status &lt;fct&gt; | domain &lt;fct&gt; | registrar &lt;fct&gt; | registrant_country &lt;lgl&gt; | reg_period &lt;int&gt; | reg_revenue &lt;dbl&gt; | reg_arpt &lt;dbl&gt; | renew_mbg &lt;int&gt; | renewal_item_id &lt;int&gt; | renew_type &lt;fct&gt; | autorenew_type &lt;fct&gt; | renewal_status &lt;fct&gt; | renew_date &lt;fct&gt; | renew_arpt &lt;dbl&gt; | gibb_score &lt;dbl&gt; | pattern &lt;fct&gt; | pattern_domain_count &lt;int&gt; | day_domains &lt;int&gt; | sld_length &lt;int&gt; | sld_type &lt;fct&gt; | sld_type2 &lt;fct&gt; | tld &lt;fct&gt; | region &lt;fct&gt; | log_reg_arpt &lt;dbl&gt; | tld_registrar_index &lt;fct&gt; | reseller_geo &lt;fct&gt; | model &lt;chr&gt; | predicted &lt;dbl&gt; |\n",
       "|---|---|---|---|---|---|---|---|---|---|---|---|---|---|---|---|---|---|---|---|---|---|---|---|---|---|---|---|---|---|---|---|---|---|---|---|---|\n",
       "| 127394801 | agg_rf_ALL | agg_rf_ALL | Alibaba | China | FirstTime | 1 | 2020-09-07 | 2019-09-07 | Active | smzdm.fun | Alibaba | NA | 1 | 0.75 | 0.75 | 0 | 338904759 | renewal | NA | Renewed | 2020-08-21 | 6 | 0.23 | smzdm | 1 | 273 | 5 | l | 5l | fun | China | -0.2876821 | funalibaba | China | meta_l10    | 0.02477651 |\n",
       "| 127394801 | agg_rf_ALL | agg_rf_ALL | Alibaba | China | FirstTime | 1 | 2020-09-07 | 2019-09-07 | Active | smzdm.fun | Alibaba | NA | 1 | 0.75 | 0.75 | 0 | 338904759 | renewal | NA | Renewed | 2020-08-21 | 6 | 0.23 | smzdm | 1 | 273 | 5 | l | 5l | fun | China | -0.2876821 | funalibaba | China | meta_auc    | 0.02477651 |\n",
       "| 127394801 | agg_rf_ALL | agg_rf_ALL | Alibaba | China | FirstTime | 1 | 2020-09-07 | 2019-09-07 | Active | smzdm.fun | Alibaba | NA | 1 | 0.75 | 0.75 | 0 | 338904759 | renewal | NA | Renewed | 2020-08-21 | 6 | 0.23 | smzdm | 1 | 273 | 5 | l | 5l | fun | China | -0.2876821 | funalibaba | China | agg_glm_ALL | 0.05700000 |\n",
       "| 127394801 | agg_rf_ALL | agg_rf_ALL | Alibaba | China | FirstTime | 1 | 2020-09-07 | 2019-09-07 | Active | smzdm.fun | Alibaba | NA | 1 | 0.75 | 0.75 | 0 | 338904759 | renewal | NA | Renewed | 2020-08-21 | 6 | 0.23 | smzdm | 1 | 273 | 5 | l | 5l | fun | China | -0.2876821 | funalibaba | China | agg_rf_ALL  | 0.02477651 |\n",
       "| 127394801 | agg_rf_ALL | agg_rf_ALL | Alibaba | China | FirstTime | 1 | 2020-09-07 | 2019-09-07 | Active | smzdm.fun | Alibaba | NA | 1 | 0.75 | 0.75 | 0 | 338904759 | renewal | NA | Renewed | 2020-08-21 | 6 | 0.23 | smzdm | 1 | 273 | 5 | l | 5l | fun | China | -0.2876821 | funalibaba | China | agg_glm     | 0.05100000 |\n",
       "| 127394801 | agg_rf_ALL | agg_rf_ALL | Alibaba | China | FirstTime | 1 | 2020-09-07 | 2019-09-07 | Active | smzdm.fun | Alibaba | NA | 1 | 0.75 | 0.75 | 0 | 338904759 | renewal | NA | Renewed | 2020-08-21 | 6 | 0.23 | smzdm | 1 | 273 | 5 | l | 5l | fun | China | -0.2876821 | funalibaba | China | agg_rf      | 0.02399424 |\n",
       "\n"
      ],
      "text/plain": [
       "  domain_id model_l10  model_auc  reseller reseller_country renewal_type\n",
       "1 127394801 agg_rf_ALL agg_rf_ALL Alibaba  China            FirstTime   \n",
       "2 127394801 agg_rf_ALL agg_rf_ALL Alibaba  China            FirstTime   \n",
       "3 127394801 agg_rf_ALL agg_rf_ALL Alibaba  China            FirstTime   \n",
       "4 127394801 agg_rf_ALL agg_rf_ALL Alibaba  China            FirstTime   \n",
       "5 127394801 agg_rf_ALL agg_rf_ALL Alibaba  China            FirstTime   \n",
       "6 127394801 agg_rf_ALL agg_rf_ALL Alibaba  China            FirstTime   \n",
       "  renewed_count expiry_date creation_date status domain    registrar\n",
       "1 1             2020-09-07  2019-09-07    Active smzdm.fun Alibaba  \n",
       "2 1             2020-09-07  2019-09-07    Active smzdm.fun Alibaba  \n",
       "3 1             2020-09-07  2019-09-07    Active smzdm.fun Alibaba  \n",
       "4 1             2020-09-07  2019-09-07    Active smzdm.fun Alibaba  \n",
       "5 1             2020-09-07  2019-09-07    Active smzdm.fun Alibaba  \n",
       "6 1             2020-09-07  2019-09-07    Active smzdm.fun Alibaba  \n",
       "  registrant_country reg_period reg_revenue reg_arpt renew_mbg renewal_item_id\n",
       "1 NA                 1          0.75        0.75     0         338904759      \n",
       "2 NA                 1          0.75        0.75     0         338904759      \n",
       "3 NA                 1          0.75        0.75     0         338904759      \n",
       "4 NA                 1          0.75        0.75     0         338904759      \n",
       "5 NA                 1          0.75        0.75     0         338904759      \n",
       "6 NA                 1          0.75        0.75     0         338904759      \n",
       "  renew_type autorenew_type renewal_status renew_date renew_arpt gibb_score\n",
       "1 renewal    NA             Renewed        2020-08-21 6          0.23      \n",
       "2 renewal    NA             Renewed        2020-08-21 6          0.23      \n",
       "3 renewal    NA             Renewed        2020-08-21 6          0.23      \n",
       "4 renewal    NA             Renewed        2020-08-21 6          0.23      \n",
       "5 renewal    NA             Renewed        2020-08-21 6          0.23      \n",
       "6 renewal    NA             Renewed        2020-08-21 6          0.23      \n",
       "  pattern pattern_domain_count day_domains sld_length sld_type sld_type2 tld\n",
       "1 smzdm   1                    273         5          l        5l        fun\n",
       "2 smzdm   1                    273         5          l        5l        fun\n",
       "3 smzdm   1                    273         5          l        5l        fun\n",
       "4 smzdm   1                    273         5          l        5l        fun\n",
       "5 smzdm   1                    273         5          l        5l        fun\n",
       "6 smzdm   1                    273         5          l        5l        fun\n",
       "  region log_reg_arpt tld_registrar_index reseller_geo model       predicted \n",
       "1 China  -0.2876821   funalibaba          China        meta_l10    0.02477651\n",
       "2 China  -0.2876821   funalibaba          China        meta_auc    0.02477651\n",
       "3 China  -0.2876821   funalibaba          China        agg_glm_ALL 0.05700000\n",
       "4 China  -0.2876821   funalibaba          China        agg_rf_ALL  0.02477651\n",
       "5 China  -0.2876821   funalibaba          China        agg_glm     0.05100000\n",
       "6 China  -0.2876821   funalibaba          China        agg_rf      0.02399424"
      ]
     },
     "metadata": {},
     "output_type": "display_data"
    }
   ],
   "source": [
    "preds_all_long <- preds_all %>% \n",
    "   pivot_longer(all_of(cols_long), names_to = \"model\", values_to = \"predicted\") %>% \n",
    "   mutate(model = gsub(\"pred_l10\", \"meta_l10\", model)) %>% \n",
    "   mutate(model = gsub(\"pred_auc\", \"meta_auc\", model)) %>% \n",
    "   mutate(model = gsub(\"pred_\", \"\", model)) \n",
    "head(preds_all_long)"
   ]
  },
  {
   "cell_type": "code",
   "execution_count": 33,
   "metadata": {},
   "outputs": [
    {
     "data": {
      "text/html": [
       "<style>\n",
       ".list-inline {list-style: none; margin:0; padding: 0}\n",
       ".list-inline>li {display: inline-block}\n",
       ".list-inline>li:not(:last-child)::after {content: \"\\00b7\"; padding: 0 .5ex}\n",
       "</style>\n",
       "<ol class=list-inline><li>4308670</li><li>37</li></ol>\n"
      ],
      "text/latex": [
       "\\begin{enumerate*}\n",
       "\\item 4308670\n",
       "\\item 37\n",
       "\\end{enumerate*}\n"
      ],
      "text/markdown": [
       "1. 4308670\n",
       "2. 37\n",
       "\n",
       "\n"
      ],
      "text/plain": [
       "[1] 4308670      37"
      ]
     },
     "metadata": {},
     "output_type": "display_data"
    }
   ],
   "source": [
    "dim(preds_all_long)"
   ]
  },
  {
   "cell_type": "code",
   "execution_count": null,
   "metadata": {},
   "outputs": [],
   "source": [
    "write.csv(preds_all_long ,'../../data/output/deliv_20201218/20200902_20201008_preds_all_long.csv', row.names=FALSE)\n",
    "system(\"gsutil cp -r /home/jupyter/Domains_202003/data/output/deliv_20201218/ gs://output_shared/\")"
   ]
  },
  {
   "cell_type": "markdown",
   "metadata": {},
   "source": [
    "# Verify data integrity"
   ]
  },
  {
   "cell_type": "code",
   "execution_count": 23,
   "metadata": {},
   "outputs": [
    {
     "name": "stderr",
     "output_type": "stream",
     "text": [
      "Warning message:\n",
      "“`funs()` is deprecated as of dplyr 0.8.0.\n",
      "Please use a list of either functions or lambdas: \n",
      "\n",
      "  # Simple named list: \n",
      "  list(mean = mean, median = median)\n",
      "\n",
      "  # Auto named with `tibble::lst()`: \n",
      "  tibble::lst(mean, median)\n",
      "\n",
      "  # Using lambdas\n",
      "  list(~ mean(., trim = .2), ~ median(., na.rm = TRUE))\n",
      "\u001b[90mThis warning is displayed once every 8 hours.\u001b[39m\n",
      "\u001b[90mCall `lifecycle::last_warnings()` to see where this warning was generated.\u001b[39m”\n"
     ]
    },
    {
     "data": {
      "text/html": [
       "<table>\n",
       "<caption>A matrix: 45 × 1 of type int</caption>\n",
       "<tbody>\n",
       "\t<tr><th scope=row>domain_id</th><td>     0</td></tr>\n",
       "\t<tr><th scope=row>pred_l10</th><td>   717</td></tr>\n",
       "\t<tr><th scope=row>model_l10</th><td>     0</td></tr>\n",
       "\t<tr><th scope=row>pred_auc</th><td>   627</td></tr>\n",
       "\t<tr><th scope=row>model_auc</th><td>     0</td></tr>\n",
       "\t<tr><th scope=row>reseller</th><td>     0</td></tr>\n",
       "\t<tr><th scope=row>reseller_country</th><td>     0</td></tr>\n",
       "\t<tr><th scope=row>renewal_type</th><td>     0</td></tr>\n",
       "\t<tr><th scope=row>renewed_count</th><td>     0</td></tr>\n",
       "\t<tr><th scope=row>expiry_date</th><td>     0</td></tr>\n",
       "\t<tr><th scope=row>creation_date</th><td>     0</td></tr>\n",
       "\t<tr><th scope=row>status</th><td>     0</td></tr>\n",
       "\t<tr><th scope=row>domain</th><td>     0</td></tr>\n",
       "\t<tr><th scope=row>registrar</th><td>     0</td></tr>\n",
       "\t<tr><th scope=row>registrant_country</th><td>430867</td></tr>\n",
       "\t<tr><th scope=row>reg_period</th><td>     0</td></tr>\n",
       "\t<tr><th scope=row>reg_revenue</th><td>     0</td></tr>\n",
       "\t<tr><th scope=row>reg_arpt</th><td>     0</td></tr>\n",
       "\t<tr><th scope=row>renew_mbg</th><td>     0</td></tr>\n",
       "\t<tr><th scope=row>renewal_item_id</th><td>     0</td></tr>\n",
       "\t<tr><th scope=row>renew_type</th><td> 13565</td></tr>\n",
       "\t<tr><th scope=row>autorenew_type</th><td> 35733</td></tr>\n",
       "\t<tr><th scope=row>renewal_status</th><td>     0</td></tr>\n",
       "\t<tr><th scope=row>renew_date</th><td> 13565</td></tr>\n",
       "\t<tr><th scope=row>renew_arpt</th><td> 13566</td></tr>\n",
       "\t<tr><th scope=row>gibb_score</th><td>     0</td></tr>\n",
       "\t<tr><th scope=row>pattern</th><td>     0</td></tr>\n",
       "\t<tr><th scope=row>pattern_domain_count</th><td>     0</td></tr>\n",
       "\t<tr><th scope=row>day_domains</th><td>     0</td></tr>\n",
       "\t<tr><th scope=row>sld_length</th><td>     0</td></tr>\n",
       "\t<tr><th scope=row>sld_type</th><td>     0</td></tr>\n",
       "\t<tr><th scope=row>sld_type2</th><td>     0</td></tr>\n",
       "\t<tr><th scope=row>tld</th><td>     0</td></tr>\n",
       "\t<tr><th scope=row>region</th><td>     0</td></tr>\n",
       "\t<tr><th scope=row>log_reg_arpt</th><td>     0</td></tr>\n",
       "\t<tr><th scope=row>tld_registrar_index</th><td>     0</td></tr>\n",
       "\t<tr><th scope=row>reseller_geo</th><td>     7</td></tr>\n",
       "\t<tr><th scope=row>pred_agg_glm_ALL</th><td>     2</td></tr>\n",
       "\t<tr><th scope=row>pred_agg_rf_ALL</th><td>     0</td></tr>\n",
       "\t<tr><th scope=row>pred_agg_glm</th><td>  5593</td></tr>\n",
       "\t<tr><th scope=row>pred_agg_rf</th><td>     0</td></tr>\n",
       "\t<tr><th scope=row>pred_seg_glm_ALL</th><td>    65</td></tr>\n",
       "\t<tr><th scope=row>pred_seg_rf_ALL</th><td>    14</td></tr>\n",
       "\t<tr><th scope=row>pred_seg2_glm_ALL</th><td>   743</td></tr>\n",
       "\t<tr><th scope=row>pred_seg2_rf_ALL</th><td>    60</td></tr>\n",
       "</tbody>\n",
       "</table>\n"
      ],
      "text/latex": [
       "A matrix: 45 × 1 of type int\n",
       "\\begin{tabular}{r|l}\n",
       "\tdomain\\_id &      0\\\\\n",
       "\tpred\\_l10 &    717\\\\\n",
       "\tmodel\\_l10 &      0\\\\\n",
       "\tpred\\_auc &    627\\\\\n",
       "\tmodel\\_auc &      0\\\\\n",
       "\treseller &      0\\\\\n",
       "\treseller\\_country &      0\\\\\n",
       "\trenewal\\_type &      0\\\\\n",
       "\trenewed\\_count &      0\\\\\n",
       "\texpiry\\_date &      0\\\\\n",
       "\tcreation\\_date &      0\\\\\n",
       "\tstatus &      0\\\\\n",
       "\tdomain &      0\\\\\n",
       "\tregistrar &      0\\\\\n",
       "\tregistrant\\_country & 430867\\\\\n",
       "\treg\\_period &      0\\\\\n",
       "\treg\\_revenue &      0\\\\\n",
       "\treg\\_arpt &      0\\\\\n",
       "\trenew\\_mbg &      0\\\\\n",
       "\trenewal\\_item\\_id &      0\\\\\n",
       "\trenew\\_type &  13565\\\\\n",
       "\tautorenew\\_type &  35733\\\\\n",
       "\trenewal\\_status &      0\\\\\n",
       "\trenew\\_date &  13565\\\\\n",
       "\trenew\\_arpt &  13566\\\\\n",
       "\tgibb\\_score &      0\\\\\n",
       "\tpattern &      0\\\\\n",
       "\tpattern\\_domain\\_count &      0\\\\\n",
       "\tday\\_domains &      0\\\\\n",
       "\tsld\\_length &      0\\\\\n",
       "\tsld\\_type &      0\\\\\n",
       "\tsld\\_type2 &      0\\\\\n",
       "\ttld &      0\\\\\n",
       "\tregion &      0\\\\\n",
       "\tlog\\_reg\\_arpt &      0\\\\\n",
       "\ttld\\_registrar\\_index &      0\\\\\n",
       "\treseller\\_geo &      7\\\\\n",
       "\tpred\\_agg\\_glm\\_ALL &      2\\\\\n",
       "\tpred\\_agg\\_rf\\_ALL &      0\\\\\n",
       "\tpred\\_agg\\_glm &   5593\\\\\n",
       "\tpred\\_agg\\_rf &      0\\\\\n",
       "\tpred\\_seg\\_glm\\_ALL &     65\\\\\n",
       "\tpred\\_seg\\_rf\\_ALL &     14\\\\\n",
       "\tpred\\_seg2\\_glm\\_ALL &    743\\\\\n",
       "\tpred\\_seg2\\_rf\\_ALL &     60\\\\\n",
       "\\end{tabular}\n"
      ],
      "text/markdown": [
       "\n",
       "A matrix: 45 × 1 of type int\n",
       "\n",
       "| domain_id |      0 |\n",
       "| pred_l10 |    717 |\n",
       "| model_l10 |      0 |\n",
       "| pred_auc |    627 |\n",
       "| model_auc |      0 |\n",
       "| reseller |      0 |\n",
       "| reseller_country |      0 |\n",
       "| renewal_type |      0 |\n",
       "| renewed_count |      0 |\n",
       "| expiry_date |      0 |\n",
       "| creation_date |      0 |\n",
       "| status |      0 |\n",
       "| domain |      0 |\n",
       "| registrar |      0 |\n",
       "| registrant_country | 430867 |\n",
       "| reg_period |      0 |\n",
       "| reg_revenue |      0 |\n",
       "| reg_arpt |      0 |\n",
       "| renew_mbg |      0 |\n",
       "| renewal_item_id |      0 |\n",
       "| renew_type |  13565 |\n",
       "| autorenew_type |  35733 |\n",
       "| renewal_status |      0 |\n",
       "| renew_date |  13565 |\n",
       "| renew_arpt |  13566 |\n",
       "| gibb_score |      0 |\n",
       "| pattern |      0 |\n",
       "| pattern_domain_count |      0 |\n",
       "| day_domains |      0 |\n",
       "| sld_length |      0 |\n",
       "| sld_type |      0 |\n",
       "| sld_type2 |      0 |\n",
       "| tld |      0 |\n",
       "| region |      0 |\n",
       "| log_reg_arpt |      0 |\n",
       "| tld_registrar_index |      0 |\n",
       "| reseller_geo |      7 |\n",
       "| pred_agg_glm_ALL |      2 |\n",
       "| pred_agg_rf_ALL |      0 |\n",
       "| pred_agg_glm |   5593 |\n",
       "| pred_agg_rf |      0 |\n",
       "| pred_seg_glm_ALL |     65 |\n",
       "| pred_seg_rf_ALL |     14 |\n",
       "| pred_seg2_glm_ALL |    743 |\n",
       "| pred_seg2_rf_ALL |     60 |\n",
       "\n"
      ],
      "text/plain": [
       "                     [,1]  \n",
       "domain_id                 0\n",
       "pred_l10                717\n",
       "model_l10                 0\n",
       "pred_auc                627\n",
       "model_auc                 0\n",
       "reseller                  0\n",
       "reseller_country          0\n",
       "renewal_type              0\n",
       "renewed_count             0\n",
       "expiry_date               0\n",
       "creation_date             0\n",
       "status                    0\n",
       "domain                    0\n",
       "registrar                 0\n",
       "registrant_country   430867\n",
       "reg_period                0\n",
       "reg_revenue               0\n",
       "reg_arpt                  0\n",
       "renew_mbg                 0\n",
       "renewal_item_id           0\n",
       "renew_type            13565\n",
       "autorenew_type        35733\n",
       "renewal_status            0\n",
       "renew_date            13565\n",
       "renew_arpt            13566\n",
       "gibb_score                0\n",
       "pattern                   0\n",
       "pattern_domain_count      0\n",
       "day_domains               0\n",
       "sld_length                0\n",
       "sld_type                  0\n",
       "sld_type2                 0\n",
       "tld                       0\n",
       "region                    0\n",
       "log_reg_arpt              0\n",
       "tld_registrar_index       0\n",
       "reseller_geo              7\n",
       "pred_agg_glm_ALL          2\n",
       "pred_agg_rf_ALL           0\n",
       "pred_agg_glm           5593\n",
       "pred_agg_rf               0\n",
       "pred_seg_glm_ALL         65\n",
       "pred_seg_rf_ALL          14\n",
       "pred_seg2_glm_ALL       743\n",
       "pred_seg2_rf_ALL         60"
      ]
     },
     "metadata": {},
     "output_type": "display_data"
    }
   ],
   "source": [
    "preds_all %>%\n",
    "  select(everything()) %>%  # replace to your needs\n",
    "  summarise_all(funs(sum(is.na(.)))) %>%\n",
    "  t()"
   ]
  },
  {
   "cell_type": "markdown",
   "metadata": {},
   "source": [
    "# Backfill pred_meta with available model preds"
   ]
  },
  {
   "cell_type": "code",
   "execution_count": 24,
   "metadata": {},
   "outputs": [
    {
     "data": {
      "text/plain": [
       ".\n",
       "seg2_glm_ALL \n",
       "         717 "
      ]
     },
     "metadata": {},
     "output_type": "display_data"
    },
    {
     "data": {
      "text/plain": [
       ".\n",
       "seg2_glm_ALL \n",
       "         627 "
      ]
     },
     "metadata": {},
     "output_type": "display_data"
    },
    {
     "data": {
      "text/html": [
       "<table>\n",
       "<caption>A data.frame: 1 × 10</caption>\n",
       "<thead>\n",
       "\t<tr><th scope=col>pred_l10</th><th scope=col>pred_auc</th><th scope=col>pred_agg_glm_ALL</th><th scope=col>pred_agg_rf_ALL</th><th scope=col>pred_agg_glm</th><th scope=col>pred_agg_rf</th><th scope=col>pred_seg_glm_ALL</th><th scope=col>pred_seg_rf_ALL</th><th scope=col>pred_seg2_glm_ALL</th><th scope=col>pred_seg2_rf_ALL</th></tr>\n",
       "\t<tr><th scope=col>&lt;int&gt;</th><th scope=col>&lt;int&gt;</th><th scope=col>&lt;int&gt;</th><th scope=col>&lt;int&gt;</th><th scope=col>&lt;int&gt;</th><th scope=col>&lt;int&gt;</th><th scope=col>&lt;int&gt;</th><th scope=col>&lt;int&gt;</th><th scope=col>&lt;int&gt;</th><th scope=col>&lt;int&gt;</th></tr>\n",
       "</thead>\n",
       "<tbody>\n",
       "\t<tr><td>717</td><td>623</td><td>2</td><td>0</td><td>345</td><td>0</td><td>61</td><td>14</td><td>717</td><td>60</td></tr>\n",
       "</tbody>\n",
       "</table>\n"
      ],
      "text/latex": [
       "A data.frame: 1 × 10\n",
       "\\begin{tabular}{llllllllll}\n",
       " pred\\_l10 & pred\\_auc & pred\\_agg\\_glm\\_ALL & pred\\_agg\\_rf\\_ALL & pred\\_agg\\_glm & pred\\_agg\\_rf & pred\\_seg\\_glm\\_ALL & pred\\_seg\\_rf\\_ALL & pred\\_seg2\\_glm\\_ALL & pred\\_seg2\\_rf\\_ALL\\\\\n",
       " <int> & <int> & <int> & <int> & <int> & <int> & <int> & <int> & <int> & <int>\\\\\n",
       "\\hline\n",
       "\t 717 & 623 & 2 & 0 & 345 & 0 & 61 & 14 & 717 & 60\\\\\n",
       "\\end{tabular}\n"
      ],
      "text/markdown": [
       "\n",
       "A data.frame: 1 × 10\n",
       "\n",
       "| pred_l10 &lt;int&gt; | pred_auc &lt;int&gt; | pred_agg_glm_ALL &lt;int&gt; | pred_agg_rf_ALL &lt;int&gt; | pred_agg_glm &lt;int&gt; | pred_agg_rf &lt;int&gt; | pred_seg_glm_ALL &lt;int&gt; | pred_seg_rf_ALL &lt;int&gt; | pred_seg2_glm_ALL &lt;int&gt; | pred_seg2_rf_ALL &lt;int&gt; |\n",
       "|---|---|---|---|---|---|---|---|---|---|\n",
       "| 717 | 623 | 2 | 0 | 345 | 0 | 61 | 14 | 717 | 60 |\n",
       "\n"
      ],
      "text/plain": [
       "  pred_l10 pred_auc pred_agg_glm_ALL pred_agg_rf_ALL pred_agg_glm pred_agg_rf\n",
       "1 717      623      2                0               345          0          \n",
       "  pred_seg_glm_ALL pred_seg_rf_ALL pred_seg2_glm_ALL pred_seg2_rf_ALL\n",
       "1 61               14              717               60              "
      ]
     },
     "metadata": {},
     "output_type": "display_data"
    },
    {
     "data": {
      "text/html": [
       "<table>\n",
       "<caption>A data.frame: 1 × 10</caption>\n",
       "<thead>\n",
       "\t<tr><th scope=col>pred_l10</th><th scope=col>pred_auc</th><th scope=col>pred_agg_glm_ALL</th><th scope=col>pred_agg_rf_ALL</th><th scope=col>pred_agg_glm</th><th scope=col>pred_agg_rf</th><th scope=col>pred_seg_glm_ALL</th><th scope=col>pred_seg_rf_ALL</th><th scope=col>pred_seg2_glm_ALL</th><th scope=col>pred_seg2_rf_ALL</th></tr>\n",
       "\t<tr><th scope=col>&lt;int&gt;</th><th scope=col>&lt;int&gt;</th><th scope=col>&lt;int&gt;</th><th scope=col>&lt;int&gt;</th><th scope=col>&lt;int&gt;</th><th scope=col>&lt;int&gt;</th><th scope=col>&lt;int&gt;</th><th scope=col>&lt;int&gt;</th><th scope=col>&lt;int&gt;</th><th scope=col>&lt;int&gt;</th></tr>\n",
       "</thead>\n",
       "<tbody>\n",
       "\t<tr><td>623</td><td>627</td><td>2</td><td>0</td><td>298</td><td>0</td><td>52</td><td>14</td><td>627</td><td>32</td></tr>\n",
       "</tbody>\n",
       "</table>\n"
      ],
      "text/latex": [
       "A data.frame: 1 × 10\n",
       "\\begin{tabular}{llllllllll}\n",
       " pred\\_l10 & pred\\_auc & pred\\_agg\\_glm\\_ALL & pred\\_agg\\_rf\\_ALL & pred\\_agg\\_glm & pred\\_agg\\_rf & pred\\_seg\\_glm\\_ALL & pred\\_seg\\_rf\\_ALL & pred\\_seg2\\_glm\\_ALL & pred\\_seg2\\_rf\\_ALL\\\\\n",
       " <int> & <int> & <int> & <int> & <int> & <int> & <int> & <int> & <int> & <int>\\\\\n",
       "\\hline\n",
       "\t 623 & 627 & 2 & 0 & 298 & 0 & 52 & 14 & 627 & 32\\\\\n",
       "\\end{tabular}\n"
      ],
      "text/markdown": [
       "\n",
       "A data.frame: 1 × 10\n",
       "\n",
       "| pred_l10 &lt;int&gt; | pred_auc &lt;int&gt; | pred_agg_glm_ALL &lt;int&gt; | pred_agg_rf_ALL &lt;int&gt; | pred_agg_glm &lt;int&gt; | pred_agg_rf &lt;int&gt; | pred_seg_glm_ALL &lt;int&gt; | pred_seg_rf_ALL &lt;int&gt; | pred_seg2_glm_ALL &lt;int&gt; | pred_seg2_rf_ALL &lt;int&gt; |\n",
       "|---|---|---|---|---|---|---|---|---|---|\n",
       "| 623 | 627 | 2 | 0 | 298 | 0 | 52 | 14 | 627 | 32 |\n",
       "\n"
      ],
      "text/plain": [
       "  pred_l10 pred_auc pred_agg_glm_ALL pred_agg_rf_ALL pred_agg_glm pred_agg_rf\n",
       "1 623      627      2                0               298          0          \n",
       "  pred_seg_glm_ALL pred_seg_rf_ALL pred_seg2_glm_ALL pred_seg2_rf_ALL\n",
       "1 52               14              627               32              "
      ]
     },
     "metadata": {},
     "output_type": "display_data"
    }
   ],
   "source": [
    "# all missing obs ... pertain to seg2_glm\n",
    "preds_all %>% filter(is.na(pred_l10)) %>% select(model_l10) %>% table()\n",
    "preds_all %>% filter(is.na(pred_auc)) %>% select(model_auc) %>% table()\n",
    "# all missing obs ... have agg_rf predictions availale\n",
    "preds_all %>% filter(is.na(pred_l10)) %>% select(contains('pred')) %>% summarise_all(funs(sum(is.na(.))))\n",
    "preds_all %>% filter(is.na(pred_auc)) %>% select(contains('pred')) %>% summarise_all(funs(sum(is.na(.))))\n",
    "# ... so backfill with agg_rf predictions"
   ]
  },
  {
   "cell_type": "code",
   "execution_count": 25,
   "metadata": {},
   "outputs": [],
   "source": [
    "# backfill missing obs from l10 and auc meta-based with agg_rf\n",
    "preds_all <- preds_all %>% mutate(pred_l10_bf = ifelse(is.na(pred_l10), pred_agg_rf_ALL, pred_l10))\n",
    "preds_all <- preds_all %>% mutate(pred_auc_bf = ifelse(is.na(pred_auc), pred_agg_rf_ALL, pred_auc))"
   ]
  },
  {
   "cell_type": "code",
   "execution_count": 26,
   "metadata": {},
   "outputs": [
    {
     "data": {
      "text/html": [
       "<table>\n",
       "<caption>A data.frame: 6 × 3</caption>\n",
       "<thead>\n",
       "\t<tr><th></th><th scope=col>pred_l10</th><th scope=col>pred_l10_bf</th><th scope=col>pred_agg_rf_ALL</th></tr>\n",
       "\t<tr><th></th><th scope=col>&lt;dbl&gt;</th><th scope=col>&lt;dbl&gt;</th><th scope=col>&lt;dbl&gt;</th></tr>\n",
       "</thead>\n",
       "<tbody>\n",
       "\t<tr><th scope=row>1</th><td>NA</td><td>0.5336472</td><td>0.5336472</td></tr>\n",
       "\t<tr><th scope=row>2</th><td>NA</td><td>0.8064000</td><td>0.8064000</td></tr>\n",
       "\t<tr><th scope=row>3</th><td>NA</td><td>0.5055587</td><td>0.5055587</td></tr>\n",
       "\t<tr><th scope=row>4</th><td>NA</td><td>0.1598732</td><td>0.1598732</td></tr>\n",
       "\t<tr><th scope=row>5</th><td>NA</td><td>0.1678168</td><td>0.1678168</td></tr>\n",
       "\t<tr><th scope=row>6</th><td>NA</td><td>0.1005532</td><td>0.1005532</td></tr>\n",
       "</tbody>\n",
       "</table>\n"
      ],
      "text/latex": [
       "A data.frame: 6 × 3\n",
       "\\begin{tabular}{r|lll}\n",
       "  & pred\\_l10 & pred\\_l10\\_bf & pred\\_agg\\_rf\\_ALL\\\\\n",
       "  & <dbl> & <dbl> & <dbl>\\\\\n",
       "\\hline\n",
       "\t1 & NA & 0.5336472 & 0.5336472\\\\\n",
       "\t2 & NA & 0.8064000 & 0.8064000\\\\\n",
       "\t3 & NA & 0.5055587 & 0.5055587\\\\\n",
       "\t4 & NA & 0.1598732 & 0.1598732\\\\\n",
       "\t5 & NA & 0.1678168 & 0.1678168\\\\\n",
       "\t6 & NA & 0.1005532 & 0.1005532\\\\\n",
       "\\end{tabular}\n"
      ],
      "text/markdown": [
       "\n",
       "A data.frame: 6 × 3\n",
       "\n",
       "| <!--/--> | pred_l10 &lt;dbl&gt; | pred_l10_bf &lt;dbl&gt; | pred_agg_rf_ALL &lt;dbl&gt; |\n",
       "|---|---|---|---|\n",
       "| 1 | NA | 0.5336472 | 0.5336472 |\n",
       "| 2 | NA | 0.8064000 | 0.8064000 |\n",
       "| 3 | NA | 0.5055587 | 0.5055587 |\n",
       "| 4 | NA | 0.1598732 | 0.1598732 |\n",
       "| 5 | NA | 0.1678168 | 0.1678168 |\n",
       "| 6 | NA | 0.1005532 | 0.1005532 |\n",
       "\n"
      ],
      "text/plain": [
       "  pred_l10 pred_l10_bf pred_agg_rf_ALL\n",
       "1 NA       0.5336472   0.5336472      \n",
       "2 NA       0.8064000   0.8064000      \n",
       "3 NA       0.5055587   0.5055587      \n",
       "4 NA       0.1598732   0.1598732      \n",
       "5 NA       0.1678168   0.1678168      \n",
       "6 NA       0.1005532   0.1005532      "
      ]
     },
     "metadata": {},
     "output_type": "display_data"
    },
    {
     "data": {
      "text/html": [
       "<table>\n",
       "<caption>A data.frame: 6 × 3</caption>\n",
       "<thead>\n",
       "\t<tr><th></th><th scope=col>pred_auc</th><th scope=col>pred_auc_bf</th><th scope=col>pred_agg_rf_ALL</th></tr>\n",
       "\t<tr><th></th><th scope=col>&lt;dbl&gt;</th><th scope=col>&lt;dbl&gt;</th><th scope=col>&lt;dbl&gt;</th></tr>\n",
       "</thead>\n",
       "<tbody>\n",
       "\t<tr><th scope=row>1</th><td>NA</td><td>0.2908386</td><td>0.2908386</td></tr>\n",
       "\t<tr><th scope=row>2</th><td>NA</td><td>0.1431680</td><td>0.1431680</td></tr>\n",
       "\t<tr><th scope=row>3</th><td>NA</td><td>0.4944094</td><td>0.4944094</td></tr>\n",
       "\t<tr><th scope=row>4</th><td>NA</td><td>0.4756328</td><td>0.4756328</td></tr>\n",
       "\t<tr><th scope=row>5</th><td>NA</td><td>0.5336472</td><td>0.5336472</td></tr>\n",
       "\t<tr><th scope=row>6</th><td>NA</td><td>0.8064000</td><td>0.8064000</td></tr>\n",
       "</tbody>\n",
       "</table>\n"
      ],
      "text/latex": [
       "A data.frame: 6 × 3\n",
       "\\begin{tabular}{r|lll}\n",
       "  & pred\\_auc & pred\\_auc\\_bf & pred\\_agg\\_rf\\_ALL\\\\\n",
       "  & <dbl> & <dbl> & <dbl>\\\\\n",
       "\\hline\n",
       "\t1 & NA & 0.2908386 & 0.2908386\\\\\n",
       "\t2 & NA & 0.1431680 & 0.1431680\\\\\n",
       "\t3 & NA & 0.4944094 & 0.4944094\\\\\n",
       "\t4 & NA & 0.4756328 & 0.4756328\\\\\n",
       "\t5 & NA & 0.5336472 & 0.5336472\\\\\n",
       "\t6 & NA & 0.8064000 & 0.8064000\\\\\n",
       "\\end{tabular}\n"
      ],
      "text/markdown": [
       "\n",
       "A data.frame: 6 × 3\n",
       "\n",
       "| <!--/--> | pred_auc &lt;dbl&gt; | pred_auc_bf &lt;dbl&gt; | pred_agg_rf_ALL &lt;dbl&gt; |\n",
       "|---|---|---|---|\n",
       "| 1 | NA | 0.2908386 | 0.2908386 |\n",
       "| 2 | NA | 0.1431680 | 0.1431680 |\n",
       "| 3 | NA | 0.4944094 | 0.4944094 |\n",
       "| 4 | NA | 0.4756328 | 0.4756328 |\n",
       "| 5 | NA | 0.5336472 | 0.5336472 |\n",
       "| 6 | NA | 0.8064000 | 0.8064000 |\n",
       "\n"
      ],
      "text/plain": [
       "  pred_auc pred_auc_bf pred_agg_rf_ALL\n",
       "1 NA       0.2908386   0.2908386      \n",
       "2 NA       0.1431680   0.1431680      \n",
       "3 NA       0.4944094   0.4944094      \n",
       "4 NA       0.4756328   0.4756328      \n",
       "5 NA       0.5336472   0.5336472      \n",
       "6 NA       0.8064000   0.8064000      "
      ]
     },
     "metadata": {},
     "output_type": "display_data"
    }
   ],
   "source": [
    "preds_all %>% filter(is.na(pred_l10)) %>% select(pred_l10, pred_l10_bf, pred_agg_rf_ALL) %>% head()\n",
    "preds_all %>% filter(is.na(pred_auc)) %>% select(pred_auc, pred_auc_bf, pred_agg_rf_ALL) %>% head()"
   ]
  },
  {
   "cell_type": "code",
   "execution_count": 27,
   "metadata": {},
   "outputs": [
    {
     "data": {
      "text/html": [
       "<table>\n",
       "<caption>A data.frame: 1 × 1</caption>\n",
       "<thead>\n",
       "\t<tr><th scope=col>sum(pred_l10_bf != pred_agg_rf_ALL)</th></tr>\n",
       "\t<tr><th scope=col>&lt;int&gt;</th></tr>\n",
       "</thead>\n",
       "<tbody>\n",
       "\t<tr><td>0</td></tr>\n",
       "</tbody>\n",
       "</table>\n"
      ],
      "text/latex": [
       "A data.frame: 1 × 1\n",
       "\\begin{tabular}{l}\n",
       " sum(pred\\_l10\\_bf != pred\\_agg\\_rf\\_ALL)\\\\\n",
       " <int>\\\\\n",
       "\\hline\n",
       "\t 0\\\\\n",
       "\\end{tabular}\n"
      ],
      "text/markdown": [
       "\n",
       "A data.frame: 1 × 1\n",
       "\n",
       "| sum(pred_l10_bf != pred_agg_rf_ALL) &lt;int&gt; |\n",
       "|---|\n",
       "| 0 |\n",
       "\n"
      ],
      "text/plain": [
       "  sum(pred_l10_bf != pred_agg_rf_ALL)\n",
       "1 0                                  "
      ]
     },
     "metadata": {},
     "output_type": "display_data"
    },
    {
     "data": {
      "text/html": [
       "<table>\n",
       "<caption>A data.frame: 1 × 1</caption>\n",
       "<thead>\n",
       "\t<tr><th scope=col>sum(pred_auc_bf != pred_agg_rf_ALL)</th></tr>\n",
       "\t<tr><th scope=col>&lt;int&gt;</th></tr>\n",
       "</thead>\n",
       "<tbody>\n",
       "\t<tr><td>0</td></tr>\n",
       "</tbody>\n",
       "</table>\n"
      ],
      "text/latex": [
       "A data.frame: 1 × 1\n",
       "\\begin{tabular}{l}\n",
       " sum(pred\\_auc\\_bf != pred\\_agg\\_rf\\_ALL)\\\\\n",
       " <int>\\\\\n",
       "\\hline\n",
       "\t 0\\\\\n",
       "\\end{tabular}\n"
      ],
      "text/markdown": [
       "\n",
       "A data.frame: 1 × 1\n",
       "\n",
       "| sum(pred_auc_bf != pred_agg_rf_ALL) &lt;int&gt; |\n",
       "|---|\n",
       "| 0 |\n",
       "\n"
      ],
      "text/plain": [
       "  sum(pred_auc_bf != pred_agg_rf_ALL)\n",
       "1 0                                  "
      ]
     },
     "metadata": {},
     "output_type": "display_data"
    }
   ],
   "source": [
    "# for all obs where pred_mate is na, are any pred_meta_bf != pred_agg_rf_ALL NOPE\n",
    "preds_all %>% filter(is.na(pred_l10)) %>% summarize(sum(pred_l10_bf!=pred_agg_rf_ALL))\n",
    "preds_all %>% filter(is.na(pred_auc)) %>% summarize(sum(pred_auc_bf!=pred_agg_rf_ALL))"
   ]
  },
  {
   "cell_type": "markdown",
   "metadata": {},
   "source": [
    "# Apply fallback to MODEL preds"
   ]
  },
  {
   "cell_type": "code",
   "execution_count": 28,
   "metadata": {},
   "outputs": [
    {
     "name": "stdout",
     "output_type": "stream",
     "text": [
      "Expiry data originally has 3729384 rows and 3729384 missing geo's.\n",
      "... after intial merge on reseller & _country, expiry has 3729384 rows and 3726455 missing geo's.\n",
      "... after secondary fill with _country, expiry has 3729384 rows and 6983 missing geo's.\n",
      "... after manual tweaks with _country, expiry has 3729384 rows and 29 missing geo's.\n"
     ]
    },
    {
     "name": "stderr",
     "output_type": "stream",
     "text": [
      "`summarise()` regrouping output by 'tld', 'reseller_geo' (override with `.groups` argument)\n",
      "\n",
      "`summarise()` regrouping output by 'reseller_geo' (override with `.groups` argument)\n",
      "\n",
      "`summarise()` regrouping output by 'tld' (override with `.groups` argument)\n",
      "\n",
      "`summarise()` regrouping output by 'tld' (override with `.groups` argument)\n",
      "\n",
      "`summarise()` ungrouping output (override with `.groups` argument)\n",
      "\n",
      "`summarise()` regrouping output by 'tld' (override with `.groups` argument)\n",
      "\n",
      "`summarise()` ungrouping output (override with `.groups` argument)\n",
      "\n",
      "`summarise()` regrouping output by 'region' (override with `.groups` argument)\n",
      "\n",
      "`summarise()` ungrouping output (override with `.groups` argument)\n",
      "\n",
      "`summarise()` ungrouping output (override with `.groups` argument)\n",
      "\n"
     ]
    },
    {
     "data": {
      "text/html": [
       "<style>\n",
       ".list-inline {list-style: none; margin:0; padding: 0}\n",
       ".list-inline>li {display: inline-block}\n",
       ".list-inline>li:not(:last-child)::after {content: \"\\00b7\"; padding: 0 .5ex}\n",
       "</style>\n",
       "<ol class=list-inline><li>'npv_fallback_first_geo_arpt_tld'</li><li>'npv_fallback_first_geo_arpt'</li><li>'npv_fallback_first_tld_arpt'</li><li>'npv_fallback_second_tld_geo'</li><li>'npv_fallback_second_geo'</li><li>'npv_fallback_third_tld_geo'</li><li>'npv_fallback_third_geo'</li><li>'npv_fallback_first_final'</li><li>'npv_fallback_second_final'</li><li>'npv_fallback_third_final'</li></ol>\n"
      ],
      "text/latex": [
       "\\begin{enumerate*}\n",
       "\\item 'npv\\_fallback\\_first\\_geo\\_arpt\\_tld'\n",
       "\\item 'npv\\_fallback\\_first\\_geo\\_arpt'\n",
       "\\item 'npv\\_fallback\\_first\\_tld\\_arpt'\n",
       "\\item 'npv\\_fallback\\_second\\_tld\\_geo'\n",
       "\\item 'npv\\_fallback\\_second\\_geo'\n",
       "\\item 'npv\\_fallback\\_third\\_tld\\_geo'\n",
       "\\item 'npv\\_fallback\\_third\\_geo'\n",
       "\\item 'npv\\_fallback\\_first\\_final'\n",
       "\\item 'npv\\_fallback\\_second\\_final'\n",
       "\\item 'npv\\_fallback\\_third\\_final'\n",
       "\\end{enumerate*}\n"
      ],
      "text/markdown": [
       "1. 'npv_fallback_first_geo_arpt_tld'\n",
       "2. 'npv_fallback_first_geo_arpt'\n",
       "3. 'npv_fallback_first_tld_arpt'\n",
       "4. 'npv_fallback_second_tld_geo'\n",
       "5. 'npv_fallback_second_geo'\n",
       "6. 'npv_fallback_third_tld_geo'\n",
       "7. 'npv_fallback_third_geo'\n",
       "8. 'npv_fallback_first_final'\n",
       "9. 'npv_fallback_second_final'\n",
       "10. 'npv_fallback_third_final'\n",
       "\n",
       "\n"
      ],
      "text/plain": [
       " [1] \"npv_fallback_first_geo_arpt_tld\" \"npv_fallback_first_geo_arpt\"    \n",
       " [3] \"npv_fallback_first_tld_arpt\"     \"npv_fallback_second_tld_geo\"    \n",
       " [5] \"npv_fallback_second_geo\"         \"npv_fallback_third_tld_geo\"     \n",
       " [7] \"npv_fallback_third_geo\"          \"npv_fallback_first_final\"       \n",
       " [9] \"npv_fallback_second_final\"       \"npv_fallback_third_final\"       "
      ]
     },
     "metadata": {},
     "output_type": "display_data"
    }
   ],
   "source": [
    "# read in training data\n",
    "expiry_df_train <- read.csv(\"../../data/output/datapull_20201116/expiry_df_train.csv\")\n",
    "expiry_df_train_g <- geo_suppl(expiry_df_train, geoLookupDF = geoLookupDF)\n",
    "# generate list of fallback tables\n",
    "npv_fallback_list = fallback_gen( npv_historic_renewal_data = expiry_df_train_g, \n",
    "                                 reseller_am_geo_map = geoLookupDF)\n",
    "names(npv_fallback_list)\n",
    "for(i in 1:length(npv_fallback_list)) assign(names(npv_fallback_list)[i], npv_fallback_list[[i]])"
   ]
  },
  {
   "cell_type": "code",
   "execution_count": 29,
   "metadata": {},
   "outputs": [
    {
     "name": "stdout",
     "output_type": "stream",
     "text": [
      "Excluding 1706 tld-re's (80.89%), due to volume < 500 \n",
      "Excluding 157 tld-re's (7.44%) associated with tld's 'pw' and 'in.net' \n"
     ]
    }
   ],
   "source": [
    "# generate list of low-volume tld-re's from training data\n",
    "tld_registrar_excl_list = tld_registrar_excl_df(expiry_df_train_g)\n",
    "# generate placeholder columns in preds df for fall backapp\n",
    "# ... where predictions for low-volume tld-registrars are NA\n",
    "preds_all <- preds_all %>%\n",
    "     mutate( across(contains('pred_'), \n",
    "                    .fns = list(fb = ~ifelse(tld_registrar_index %in% tld_registrar_excl_list, NA, . )) ))"
   ]
  },
  {
   "cell_type": "code",
   "execution_count": 30,
   "metadata": {},
   "outputs": [
    {
     "data": {
      "text/html": [
       "<table>\n",
       "<caption>A data.frame: 6 × 24</caption>\n",
       "<thead>\n",
       "\t<tr><th></th><th scope=col>pred_l10</th><th scope=col>pred_auc</th><th scope=col>pred_agg_glm_ALL</th><th scope=col>pred_agg_rf_ALL</th><th scope=col>pred_agg_glm</th><th scope=col>pred_agg_rf</th><th scope=col>pred_seg_glm_ALL</th><th scope=col>pred_seg_rf_ALL</th><th scope=col>pred_seg2_glm_ALL</th><th scope=col>pred_seg2_rf_ALL</th><th scope=col>pred_l10_bf</th><th scope=col>pred_auc_bf</th><th scope=col>pred_l10_fb</th><th scope=col>pred_auc_fb</th><th scope=col>pred_agg_glm_ALL_fb</th><th scope=col>pred_agg_rf_ALL_fb</th><th scope=col>pred_agg_glm_fb</th><th scope=col>pred_agg_rf_fb</th><th scope=col>pred_seg_glm_ALL_fb</th><th scope=col>pred_seg_rf_ALL_fb</th><th scope=col>pred_seg2_glm_ALL_fb</th><th scope=col>pred_seg2_rf_ALL_fb</th><th scope=col>pred_l10_bf_fb</th><th scope=col>pred_auc_bf_fb</th></tr>\n",
       "\t<tr><th></th><th scope=col>&lt;dbl&gt;</th><th scope=col>&lt;dbl&gt;</th><th scope=col>&lt;dbl&gt;</th><th scope=col>&lt;dbl&gt;</th><th scope=col>&lt;dbl&gt;</th><th scope=col>&lt;dbl&gt;</th><th scope=col>&lt;dbl&gt;</th><th scope=col>&lt;dbl&gt;</th><th scope=col>&lt;dbl&gt;</th><th scope=col>&lt;dbl&gt;</th><th scope=col>&lt;dbl&gt;</th><th scope=col>&lt;dbl&gt;</th><th scope=col>&lt;dbl&gt;</th><th scope=col>&lt;dbl&gt;</th><th scope=col>&lt;dbl&gt;</th><th scope=col>&lt;dbl&gt;</th><th scope=col>&lt;dbl&gt;</th><th scope=col>&lt;dbl&gt;</th><th scope=col>&lt;dbl&gt;</th><th scope=col>&lt;dbl&gt;</th><th scope=col>&lt;dbl&gt;</th><th scope=col>&lt;dbl&gt;</th><th scope=col>&lt;dbl&gt;</th><th scope=col>&lt;dbl&gt;</th></tr>\n",
       "</thead>\n",
       "<tbody>\n",
       "\t<tr><th scope=row>1</th><td>0.02477651</td><td>0.02477651</td><td>0.057</td><td>0.02477651</td><td>0.051</td><td>0.02399424</td><td>0.107</td><td>0.03376228</td><td>0.075906650</td><td>0.02512222</td><td>0.02477651</td><td>0.02477651</td><td>0.02477651</td><td>0.02477651</td><td>0.057</td><td>0.02477651</td><td>0.051</td><td>0.02399424</td><td>0.107</td><td>0.03376228</td><td>0.075906650</td><td>0.02512222</td><td>0.02477651</td><td>0.02477651</td></tr>\n",
       "\t<tr><th scope=row>2</th><td>0.02245831</td><td>0.02245831</td><td>0.022</td><td>0.02245831</td><td>0.020</td><td>0.02437213</td><td>0.044</td><td>0.02327520</td><td>0.021503494</td><td>0.02376224</td><td>0.02245831</td><td>0.02245831</td><td>0.02245831</td><td>0.02245831</td><td>0.022</td><td>0.02245831</td><td>0.020</td><td>0.02437213</td><td>0.044</td><td>0.02327520</td><td>0.021503494</td><td>0.02376224</td><td>0.02245831</td><td>0.02245831</td></tr>\n",
       "\t<tr><th scope=row>3</th><td>0.13746011</td><td>0.13746011</td><td>0.007</td><td>0.13746011</td><td>0.007</td><td>0.12208318</td><td>0.012</td><td>0.08330054</td><td>0.003070249</td><td>0.07448229</td><td>0.13746011</td><td>0.13746011</td><td>0.13746011</td><td>0.13746011</td><td>0.007</td><td>0.13746011</td><td>0.007</td><td>0.12208318</td><td>0.012</td><td>0.08330054</td><td>0.003070249</td><td>0.07448229</td><td>0.13746011</td><td>0.13746011</td></tr>\n",
       "\t<tr><th scope=row>4</th><td>0.04351218</td><td>0.04351218</td><td>0.023</td><td>0.04351218</td><td>0.022</td><td>0.04256136</td><td>0.036</td><td>0.05493192</td><td>0.014099110</td><td>0.04392435</td><td>0.04351218</td><td>0.04351218</td><td>0.04351218</td><td>0.04351218</td><td>0.023</td><td>0.04351218</td><td>0.022</td><td>0.04256136</td><td>0.036</td><td>0.05493192</td><td>0.014099110</td><td>0.04392435</td><td>0.04351218</td><td>0.04351218</td></tr>\n",
       "\t<tr><th scope=row>5</th><td>0.07477368</td><td>0.07477368</td><td>0.007</td><td>0.07477368</td><td>0.006</td><td>0.06829075</td><td>0.012</td><td>0.05258968</td><td>0.003135144</td><td>0.04629859</td><td>0.07477368</td><td>0.07477368</td><td>0.07477368</td><td>0.07477368</td><td>0.007</td><td>0.07477368</td><td>0.006</td><td>0.06829075</td><td>0.012</td><td>0.05258968</td><td>0.003135144</td><td>0.04629859</td><td>0.07477368</td><td>0.07477368</td></tr>\n",
       "\t<tr><th scope=row>6</th><td>0.05303114</td><td>0.05303114</td><td>0.021</td><td>0.05303114</td><td>0.019</td><td>0.05376797</td><td>0.037</td><td>0.06301462</td><td>0.015506106</td><td>0.05744108</td><td>0.05303114</td><td>0.05303114</td><td>0.05303114</td><td>0.05303114</td><td>0.021</td><td>0.05303114</td><td>0.019</td><td>0.05376797</td><td>0.037</td><td>0.06301462</td><td>0.015506106</td><td>0.05744108</td><td>0.05303114</td><td>0.05303114</td></tr>\n",
       "</tbody>\n",
       "</table>\n"
      ],
      "text/latex": [
       "A data.frame: 6 × 24\n",
       "\\begin{tabular}{r|llllllllllllllllllllllll}\n",
       "  & pred\\_l10 & pred\\_auc & pred\\_agg\\_glm\\_ALL & pred\\_agg\\_rf\\_ALL & pred\\_agg\\_glm & pred\\_agg\\_rf & pred\\_seg\\_glm\\_ALL & pred\\_seg\\_rf\\_ALL & pred\\_seg2\\_glm\\_ALL & pred\\_seg2\\_rf\\_ALL & pred\\_l10\\_bf & pred\\_auc\\_bf & pred\\_l10\\_fb & pred\\_auc\\_fb & pred\\_agg\\_glm\\_ALL\\_fb & pred\\_agg\\_rf\\_ALL\\_fb & pred\\_agg\\_glm\\_fb & pred\\_agg\\_rf\\_fb & pred\\_seg\\_glm\\_ALL\\_fb & pred\\_seg\\_rf\\_ALL\\_fb & pred\\_seg2\\_glm\\_ALL\\_fb & pred\\_seg2\\_rf\\_ALL\\_fb & pred\\_l10\\_bf\\_fb & pred\\_auc\\_bf\\_fb\\\\\n",
       "  & <dbl> & <dbl> & <dbl> & <dbl> & <dbl> & <dbl> & <dbl> & <dbl> & <dbl> & <dbl> & <dbl> & <dbl> & <dbl> & <dbl> & <dbl> & <dbl> & <dbl> & <dbl> & <dbl> & <dbl> & <dbl> & <dbl> & <dbl> & <dbl>\\\\\n",
       "\\hline\n",
       "\t1 & 0.02477651 & 0.02477651 & 0.057 & 0.02477651 & 0.051 & 0.02399424 & 0.107 & 0.03376228 & 0.075906650 & 0.02512222 & 0.02477651 & 0.02477651 & 0.02477651 & 0.02477651 & 0.057 & 0.02477651 & 0.051 & 0.02399424 & 0.107 & 0.03376228 & 0.075906650 & 0.02512222 & 0.02477651 & 0.02477651\\\\\n",
       "\t2 & 0.02245831 & 0.02245831 & 0.022 & 0.02245831 & 0.020 & 0.02437213 & 0.044 & 0.02327520 & 0.021503494 & 0.02376224 & 0.02245831 & 0.02245831 & 0.02245831 & 0.02245831 & 0.022 & 0.02245831 & 0.020 & 0.02437213 & 0.044 & 0.02327520 & 0.021503494 & 0.02376224 & 0.02245831 & 0.02245831\\\\\n",
       "\t3 & 0.13746011 & 0.13746011 & 0.007 & 0.13746011 & 0.007 & 0.12208318 & 0.012 & 0.08330054 & 0.003070249 & 0.07448229 & 0.13746011 & 0.13746011 & 0.13746011 & 0.13746011 & 0.007 & 0.13746011 & 0.007 & 0.12208318 & 0.012 & 0.08330054 & 0.003070249 & 0.07448229 & 0.13746011 & 0.13746011\\\\\n",
       "\t4 & 0.04351218 & 0.04351218 & 0.023 & 0.04351218 & 0.022 & 0.04256136 & 0.036 & 0.05493192 & 0.014099110 & 0.04392435 & 0.04351218 & 0.04351218 & 0.04351218 & 0.04351218 & 0.023 & 0.04351218 & 0.022 & 0.04256136 & 0.036 & 0.05493192 & 0.014099110 & 0.04392435 & 0.04351218 & 0.04351218\\\\\n",
       "\t5 & 0.07477368 & 0.07477368 & 0.007 & 0.07477368 & 0.006 & 0.06829075 & 0.012 & 0.05258968 & 0.003135144 & 0.04629859 & 0.07477368 & 0.07477368 & 0.07477368 & 0.07477368 & 0.007 & 0.07477368 & 0.006 & 0.06829075 & 0.012 & 0.05258968 & 0.003135144 & 0.04629859 & 0.07477368 & 0.07477368\\\\\n",
       "\t6 & 0.05303114 & 0.05303114 & 0.021 & 0.05303114 & 0.019 & 0.05376797 & 0.037 & 0.06301462 & 0.015506106 & 0.05744108 & 0.05303114 & 0.05303114 & 0.05303114 & 0.05303114 & 0.021 & 0.05303114 & 0.019 & 0.05376797 & 0.037 & 0.06301462 & 0.015506106 & 0.05744108 & 0.05303114 & 0.05303114\\\\\n",
       "\\end{tabular}\n"
      ],
      "text/markdown": [
       "\n",
       "A data.frame: 6 × 24\n",
       "\n",
       "| <!--/--> | pred_l10 &lt;dbl&gt; | pred_auc &lt;dbl&gt; | pred_agg_glm_ALL &lt;dbl&gt; | pred_agg_rf_ALL &lt;dbl&gt; | pred_agg_glm &lt;dbl&gt; | pred_agg_rf &lt;dbl&gt; | pred_seg_glm_ALL &lt;dbl&gt; | pred_seg_rf_ALL &lt;dbl&gt; | pred_seg2_glm_ALL &lt;dbl&gt; | pred_seg2_rf_ALL &lt;dbl&gt; | pred_l10_bf &lt;dbl&gt; | pred_auc_bf &lt;dbl&gt; | pred_l10_fb &lt;dbl&gt; | pred_auc_fb &lt;dbl&gt; | pred_agg_glm_ALL_fb &lt;dbl&gt; | pred_agg_rf_ALL_fb &lt;dbl&gt; | pred_agg_glm_fb &lt;dbl&gt; | pred_agg_rf_fb &lt;dbl&gt; | pred_seg_glm_ALL_fb &lt;dbl&gt; | pred_seg_rf_ALL_fb &lt;dbl&gt; | pred_seg2_glm_ALL_fb &lt;dbl&gt; | pred_seg2_rf_ALL_fb &lt;dbl&gt; | pred_l10_bf_fb &lt;dbl&gt; | pred_auc_bf_fb &lt;dbl&gt; |\n",
       "|---|---|---|---|---|---|---|---|---|---|---|---|---|---|---|---|---|---|---|---|---|---|---|---|---|\n",
       "| 1 | 0.02477651 | 0.02477651 | 0.057 | 0.02477651 | 0.051 | 0.02399424 | 0.107 | 0.03376228 | 0.075906650 | 0.02512222 | 0.02477651 | 0.02477651 | 0.02477651 | 0.02477651 | 0.057 | 0.02477651 | 0.051 | 0.02399424 | 0.107 | 0.03376228 | 0.075906650 | 0.02512222 | 0.02477651 | 0.02477651 |\n",
       "| 2 | 0.02245831 | 0.02245831 | 0.022 | 0.02245831 | 0.020 | 0.02437213 | 0.044 | 0.02327520 | 0.021503494 | 0.02376224 | 0.02245831 | 0.02245831 | 0.02245831 | 0.02245831 | 0.022 | 0.02245831 | 0.020 | 0.02437213 | 0.044 | 0.02327520 | 0.021503494 | 0.02376224 | 0.02245831 | 0.02245831 |\n",
       "| 3 | 0.13746011 | 0.13746011 | 0.007 | 0.13746011 | 0.007 | 0.12208318 | 0.012 | 0.08330054 | 0.003070249 | 0.07448229 | 0.13746011 | 0.13746011 | 0.13746011 | 0.13746011 | 0.007 | 0.13746011 | 0.007 | 0.12208318 | 0.012 | 0.08330054 | 0.003070249 | 0.07448229 | 0.13746011 | 0.13746011 |\n",
       "| 4 | 0.04351218 | 0.04351218 | 0.023 | 0.04351218 | 0.022 | 0.04256136 | 0.036 | 0.05493192 | 0.014099110 | 0.04392435 | 0.04351218 | 0.04351218 | 0.04351218 | 0.04351218 | 0.023 | 0.04351218 | 0.022 | 0.04256136 | 0.036 | 0.05493192 | 0.014099110 | 0.04392435 | 0.04351218 | 0.04351218 |\n",
       "| 5 | 0.07477368 | 0.07477368 | 0.007 | 0.07477368 | 0.006 | 0.06829075 | 0.012 | 0.05258968 | 0.003135144 | 0.04629859 | 0.07477368 | 0.07477368 | 0.07477368 | 0.07477368 | 0.007 | 0.07477368 | 0.006 | 0.06829075 | 0.012 | 0.05258968 | 0.003135144 | 0.04629859 | 0.07477368 | 0.07477368 |\n",
       "| 6 | 0.05303114 | 0.05303114 | 0.021 | 0.05303114 | 0.019 | 0.05376797 | 0.037 | 0.06301462 | 0.015506106 | 0.05744108 | 0.05303114 | 0.05303114 | 0.05303114 | 0.05303114 | 0.021 | 0.05303114 | 0.019 | 0.05376797 | 0.037 | 0.06301462 | 0.015506106 | 0.05744108 | 0.05303114 | 0.05303114 |\n",
       "\n"
      ],
      "text/plain": [
       "  pred_l10   pred_auc   pred_agg_glm_ALL pred_agg_rf_ALL pred_agg_glm\n",
       "1 0.02477651 0.02477651 0.057            0.02477651      0.051       \n",
       "2 0.02245831 0.02245831 0.022            0.02245831      0.020       \n",
       "3 0.13746011 0.13746011 0.007            0.13746011      0.007       \n",
       "4 0.04351218 0.04351218 0.023            0.04351218      0.022       \n",
       "5 0.07477368 0.07477368 0.007            0.07477368      0.006       \n",
       "6 0.05303114 0.05303114 0.021            0.05303114      0.019       \n",
       "  pred_agg_rf pred_seg_glm_ALL pred_seg_rf_ALL pred_seg2_glm_ALL\n",
       "1 0.02399424  0.107            0.03376228      0.075906650      \n",
       "2 0.02437213  0.044            0.02327520      0.021503494      \n",
       "3 0.12208318  0.012            0.08330054      0.003070249      \n",
       "4 0.04256136  0.036            0.05493192      0.014099110      \n",
       "5 0.06829075  0.012            0.05258968      0.003135144      \n",
       "6 0.05376797  0.037            0.06301462      0.015506106      \n",
       "  pred_seg2_rf_ALL pred_l10_bf pred_auc_bf pred_l10_fb pred_auc_fb\n",
       "1 0.02512222       0.02477651  0.02477651  0.02477651  0.02477651 \n",
       "2 0.02376224       0.02245831  0.02245831  0.02245831  0.02245831 \n",
       "3 0.07448229       0.13746011  0.13746011  0.13746011  0.13746011 \n",
       "4 0.04392435       0.04351218  0.04351218  0.04351218  0.04351218 \n",
       "5 0.04629859       0.07477368  0.07477368  0.07477368  0.07477368 \n",
       "6 0.05744108       0.05303114  0.05303114  0.05303114  0.05303114 \n",
       "  pred_agg_glm_ALL_fb pred_agg_rf_ALL_fb pred_agg_glm_fb pred_agg_rf_fb\n",
       "1 0.057               0.02477651         0.051           0.02399424    \n",
       "2 0.022               0.02245831         0.020           0.02437213    \n",
       "3 0.007               0.13746011         0.007           0.12208318    \n",
       "4 0.023               0.04351218         0.022           0.04256136    \n",
       "5 0.007               0.07477368         0.006           0.06829075    \n",
       "6 0.021               0.05303114         0.019           0.05376797    \n",
       "  pred_seg_glm_ALL_fb pred_seg_rf_ALL_fb pred_seg2_glm_ALL_fb\n",
       "1 0.107               0.03376228         0.075906650         \n",
       "2 0.044               0.02327520         0.021503494         \n",
       "3 0.012               0.08330054         0.003070249         \n",
       "4 0.036               0.05493192         0.014099110         \n",
       "5 0.012               0.05258968         0.003135144         \n",
       "6 0.037               0.06301462         0.015506106         \n",
       "  pred_seg2_rf_ALL_fb pred_l10_bf_fb pred_auc_bf_fb\n",
       "1 0.02512222          0.02477651     0.02477651    \n",
       "2 0.02376224          0.02245831     0.02245831    \n",
       "3 0.07448229          0.13746011     0.13746011    \n",
       "4 0.04392435          0.04351218     0.04351218    \n",
       "5 0.04629859          0.07477368     0.07477368    \n",
       "6 0.05744108          0.05303114     0.05303114    "
      ]
     },
     "metadata": {},
     "output_type": "display_data"
    }
   ],
   "source": [
    "preds_all %>% select(contains('pred_')) %>% head()"
   ]
  },
  {
   "cell_type": "code",
   "execution_count": 31,
   "metadata": {},
   "outputs": [
    {
     "name": "stdout",
     "output_type": "stream",
     "text": [
      "Expiry data originally has 430867 rows and 430867 missing geo's.\n",
      "... after intial merge on reseller & _country, expiry has 430867 rows and 7 missing geo's.\n",
      "... after secondary fill with _country, expiry has 430867 rows and 7 missing geo's.\n",
      "... after manual tweaks with _country, expiry has 430867 rows and 7 missing geo's.\n"
     ]
    }
   ],
   "source": [
    "# apply fallback tables TST\n",
    "preds_all <- geo_suppl(preds_all, geoLookupDF = geoLookupDF)\n",
    "    \n",
    "preds_all <- fallback_app_1(test_data_op=preds_all,\n",
    "               in_col='pred_seg2_rf_ALL_fb',\n",
    "               out_col='pred_seg2_rf_ALL_fb')\n",
    "preds_all <- fallback_app_1(test_data_op=preds_all,\n",
    "               in_col='pred_seg2_glm_ALL_fb',\n",
    "               out_col='pred_seg2_glm_ALL_fb')\n",
    "\n",
    "preds_all <- fallback_app_1(test_data_op=preds_all,\n",
    "               in_col='pred_seg_rf_ALL_fb',\n",
    "               out_col='pred_seg_rf_ALL_fb')\n",
    "preds_all <- fallback_app_1(test_data_op=preds_all,\n",
    "               in_col='pred_seg_glm_ALL_fb',\n",
    "               out_col='pred_seg_glm_ALL_fb')\n",
    "\n",
    "preds_all <- fallback_app_1(test_data_op=preds_all,\n",
    "               in_col='pred_agg_rf_fb',\n",
    "               out_col='pred_agg_rf_fb')\n",
    "preds_all <- fallback_app_1(test_data_op=preds_all,\n",
    "               in_col='pred_agg_glm_fb',\n",
    "               out_col='pred_agg_glm_fb')\n",
    "\n",
    "preds_all <- fallback_app_1(test_data_op=preds_all,\n",
    "               in_col='pred_agg_rf_ALL_fb',\n",
    "               out_col='pred_agg_rf_ALL_fb')\n",
    "preds_all <- fallback_app_1(test_data_op=preds_all,\n",
    "               in_col='pred_agg_glm_ALL_fb',\n",
    "               out_col='pred_agg_glm_ALL_fb')\n",
    "\n",
    "# performance if we backfill all NAs and LOW-VOLUME meta-based NAs with fallback values (no agg_rf used)\n",
    "preds_all <- fallback_app_1(test_data_op=preds_all,\n",
    "               in_col='pred_l10_fb',\n",
    "               out_col='pred_l10_fb2')\n",
    "preds_all <- fallback_app_1(test_data_op=preds_all,\n",
    "               in_col='pred_auc_fb',\n",
    "               out_col='pred_auc_fb2')\n",
    "\n",
    "# performance if we backfill meta-based NAs with fallback values (no agg_rf used)\n",
    "preds_all <- fallback_app_1(test_data_op=preds_all,\n",
    "               in_col='pred_l10',\n",
    "               out_col='pred_l10_fb1')\n",
    "preds_all <- fallback_app_1(test_data_op=preds_all,\n",
    "               in_col='pred_auc',\n",
    "               out_col='pred_auc_fb1')\n",
    "\n",
    "\n"
   ]
  },
  {
   "cell_type": "code",
   "execution_count": 32,
   "metadata": {},
   "outputs": [
    {
     "data": {
      "text/html": [
       "<table>\n",
       "<caption>A matrix: 28 × 1 of type int</caption>\n",
       "<tbody>\n",
       "\t<tr><th scope=row>pred_l10</th><td>  717</td></tr>\n",
       "\t<tr><th scope=row>pred_auc</th><td>  627</td></tr>\n",
       "\t<tr><th scope=row>pred_agg_glm_ALL</th><td>    2</td></tr>\n",
       "\t<tr><th scope=row>pred_agg_rf_ALL</th><td>    0</td></tr>\n",
       "\t<tr><th scope=row>pred_agg_glm</th><td> 5593</td></tr>\n",
       "\t<tr><th scope=row>pred_agg_rf</th><td>    0</td></tr>\n",
       "\t<tr><th scope=row>pred_seg_glm_ALL</th><td>   65</td></tr>\n",
       "\t<tr><th scope=row>pred_seg_rf_ALL</th><td>   14</td></tr>\n",
       "\t<tr><th scope=row>pred_seg2_glm_ALL</th><td>  743</td></tr>\n",
       "\t<tr><th scope=row>pred_seg2_rf_ALL</th><td>   60</td></tr>\n",
       "\t<tr><th scope=row>pred_l10_bf</th><td>    0</td></tr>\n",
       "\t<tr><th scope=row>pred_auc_bf</th><td>    0</td></tr>\n",
       "\t<tr><th scope=row>pred_l10_fb</th><td>28940</td></tr>\n",
       "\t<tr><th scope=row>pred_auc_fb</th><td>28905</td></tr>\n",
       "\t<tr><th scope=row>pred_agg_glm_ALL_fb</th><td>    0</td></tr>\n",
       "\t<tr><th scope=row>pred_agg_rf_ALL_fb</th><td>    0</td></tr>\n",
       "\t<tr><th scope=row>pred_agg_glm_fb</th><td>    0</td></tr>\n",
       "\t<tr><th scope=row>pred_agg_rf_fb</th><td>    0</td></tr>\n",
       "\t<tr><th scope=row>pred_seg_glm_ALL_fb</th><td>    0</td></tr>\n",
       "\t<tr><th scope=row>pred_seg_rf_ALL_fb</th><td>    0</td></tr>\n",
       "\t<tr><th scope=row>pred_seg2_glm_ALL_fb</th><td>    0</td></tr>\n",
       "\t<tr><th scope=row>pred_seg2_rf_ALL_fb</th><td>    0</td></tr>\n",
       "\t<tr><th scope=row>pred_l10_bf_fb</th><td>28755</td></tr>\n",
       "\t<tr><th scope=row>pred_auc_bf_fb</th><td>28755</td></tr>\n",
       "\t<tr><th scope=row>pred_l10_fb2</th><td>    0</td></tr>\n",
       "\t<tr><th scope=row>pred_auc_fb2</th><td>    0</td></tr>\n",
       "\t<tr><th scope=row>pred_l10_fb1</th><td>    0</td></tr>\n",
       "\t<tr><th scope=row>pred_auc_fb1</th><td>    0</td></tr>\n",
       "</tbody>\n",
       "</table>\n"
      ],
      "text/latex": [
       "A matrix: 28 × 1 of type int\n",
       "\\begin{tabular}{r|l}\n",
       "\tpred\\_l10 &   717\\\\\n",
       "\tpred\\_auc &   627\\\\\n",
       "\tpred\\_agg\\_glm\\_ALL &     2\\\\\n",
       "\tpred\\_agg\\_rf\\_ALL &     0\\\\\n",
       "\tpred\\_agg\\_glm &  5593\\\\\n",
       "\tpred\\_agg\\_rf &     0\\\\\n",
       "\tpred\\_seg\\_glm\\_ALL &    65\\\\\n",
       "\tpred\\_seg\\_rf\\_ALL &    14\\\\\n",
       "\tpred\\_seg2\\_glm\\_ALL &   743\\\\\n",
       "\tpred\\_seg2\\_rf\\_ALL &    60\\\\\n",
       "\tpred\\_l10\\_bf &     0\\\\\n",
       "\tpred\\_auc\\_bf &     0\\\\\n",
       "\tpred\\_l10\\_fb & 28940\\\\\n",
       "\tpred\\_auc\\_fb & 28905\\\\\n",
       "\tpred\\_agg\\_glm\\_ALL\\_fb &     0\\\\\n",
       "\tpred\\_agg\\_rf\\_ALL\\_fb &     0\\\\\n",
       "\tpred\\_agg\\_glm\\_fb &     0\\\\\n",
       "\tpred\\_agg\\_rf\\_fb &     0\\\\\n",
       "\tpred\\_seg\\_glm\\_ALL\\_fb &     0\\\\\n",
       "\tpred\\_seg\\_rf\\_ALL\\_fb &     0\\\\\n",
       "\tpred\\_seg2\\_glm\\_ALL\\_fb &     0\\\\\n",
       "\tpred\\_seg2\\_rf\\_ALL\\_fb &     0\\\\\n",
       "\tpred\\_l10\\_bf\\_fb & 28755\\\\\n",
       "\tpred\\_auc\\_bf\\_fb & 28755\\\\\n",
       "\tpred\\_l10\\_fb2 &     0\\\\\n",
       "\tpred\\_auc\\_fb2 &     0\\\\\n",
       "\tpred\\_l10\\_fb1 &     0\\\\\n",
       "\tpred\\_auc\\_fb1 &     0\\\\\n",
       "\\end{tabular}\n"
      ],
      "text/markdown": [
       "\n",
       "A matrix: 28 × 1 of type int\n",
       "\n",
       "| pred_l10 |   717 |\n",
       "| pred_auc |   627 |\n",
       "| pred_agg_glm_ALL |     2 |\n",
       "| pred_agg_rf_ALL |     0 |\n",
       "| pred_agg_glm |  5593 |\n",
       "| pred_agg_rf |     0 |\n",
       "| pred_seg_glm_ALL |    65 |\n",
       "| pred_seg_rf_ALL |    14 |\n",
       "| pred_seg2_glm_ALL |   743 |\n",
       "| pred_seg2_rf_ALL |    60 |\n",
       "| pred_l10_bf |     0 |\n",
       "| pred_auc_bf |     0 |\n",
       "| pred_l10_fb | 28940 |\n",
       "| pred_auc_fb | 28905 |\n",
       "| pred_agg_glm_ALL_fb |     0 |\n",
       "| pred_agg_rf_ALL_fb |     0 |\n",
       "| pred_agg_glm_fb |     0 |\n",
       "| pred_agg_rf_fb |     0 |\n",
       "| pred_seg_glm_ALL_fb |     0 |\n",
       "| pred_seg_rf_ALL_fb |     0 |\n",
       "| pred_seg2_glm_ALL_fb |     0 |\n",
       "| pred_seg2_rf_ALL_fb |     0 |\n",
       "| pred_l10_bf_fb | 28755 |\n",
       "| pred_auc_bf_fb | 28755 |\n",
       "| pred_l10_fb2 |     0 |\n",
       "| pred_auc_fb2 |     0 |\n",
       "| pred_l10_fb1 |     0 |\n",
       "| pred_auc_fb1 |     0 |\n",
       "\n"
      ],
      "text/plain": [
       "                     [,1] \n",
       "pred_l10               717\n",
       "pred_auc               627\n",
       "pred_agg_glm_ALL         2\n",
       "pred_agg_rf_ALL          0\n",
       "pred_agg_glm          5593\n",
       "pred_agg_rf              0\n",
       "pred_seg_glm_ALL        65\n",
       "pred_seg_rf_ALL         14\n",
       "pred_seg2_glm_ALL      743\n",
       "pred_seg2_rf_ALL        60\n",
       "pred_l10_bf              0\n",
       "pred_auc_bf              0\n",
       "pred_l10_fb          28940\n",
       "pred_auc_fb          28905\n",
       "pred_agg_glm_ALL_fb      0\n",
       "pred_agg_rf_ALL_fb       0\n",
       "pred_agg_glm_fb          0\n",
       "pred_agg_rf_fb           0\n",
       "pred_seg_glm_ALL_fb      0\n",
       "pred_seg_rf_ALL_fb       0\n",
       "pred_seg2_glm_ALL_fb     0\n",
       "pred_seg2_rf_ALL_fb      0\n",
       "pred_l10_bf_fb       28755\n",
       "pred_auc_bf_fb       28755\n",
       "pred_l10_fb2             0\n",
       "pred_auc_fb2             0\n",
       "pred_l10_fb1             0\n",
       "pred_auc_fb1             0"
      ]
     },
     "metadata": {},
     "output_type": "display_data"
    }
   ],
   "source": [
    "preds_all %>%\n",
    "  select(contains('pred')) %>% \n",
    "  summarise_all(funs(sum(is.na(.)))) %>% t()"
   ]
  },
  {
   "cell_type": "code",
   "execution_count": 33,
   "metadata": {},
   "outputs": [
    {
     "data": {
      "text/html": [
       "<style>\n",
       ".list-inline {list-style: none; margin:0; padding: 0}\n",
       ".list-inline>li {display: inline-block}\n",
       ".list-inline>li:not(:last-child)::after {content: \"\\00b7\"; padding: 0 .5ex}\n",
       "</style>\n",
       "<ol class=list-inline><li>'pred_l10'</li><li>'pred_auc'</li><li>'pred_agg_glm_ALL'</li><li>'pred_agg_rf_ALL'</li><li>'pred_agg_glm'</li><li>'pred_agg_rf'</li><li>'pred_seg_glm_ALL'</li><li>'pred_seg_rf_ALL'</li><li>'pred_seg2_glm_ALL'</li><li>'pred_seg2_rf_ALL'</li><li>'pred_l10_bf'</li><li>'pred_auc_bf'</li><li>'pred_l10_fb'</li><li>'pred_auc_fb'</li><li>'pred_agg_glm_ALL_fb'</li><li>'pred_agg_rf_ALL_fb'</li><li>'pred_agg_glm_fb'</li><li>'pred_agg_rf_fb'</li><li>'pred_seg_glm_ALL_fb'</li><li>'pred_seg_rf_ALL_fb'</li><li>'pred_seg2_glm_ALL_fb'</li><li>'pred_seg2_rf_ALL_fb'</li><li>'pred_l10_bf_fb'</li><li>'pred_auc_bf_fb'</li><li>'pred_l10_fb2'</li><li>'pred_auc_fb2'</li><li>'pred_l10_fb1'</li><li>'pred_auc_fb1'</li></ol>\n"
      ],
      "text/latex": [
       "\\begin{enumerate*}\n",
       "\\item 'pred\\_l10'\n",
       "\\item 'pred\\_auc'\n",
       "\\item 'pred\\_agg\\_glm\\_ALL'\n",
       "\\item 'pred\\_agg\\_rf\\_ALL'\n",
       "\\item 'pred\\_agg\\_glm'\n",
       "\\item 'pred\\_agg\\_rf'\n",
       "\\item 'pred\\_seg\\_glm\\_ALL'\n",
       "\\item 'pred\\_seg\\_rf\\_ALL'\n",
       "\\item 'pred\\_seg2\\_glm\\_ALL'\n",
       "\\item 'pred\\_seg2\\_rf\\_ALL'\n",
       "\\item 'pred\\_l10\\_bf'\n",
       "\\item 'pred\\_auc\\_bf'\n",
       "\\item 'pred\\_l10\\_fb'\n",
       "\\item 'pred\\_auc\\_fb'\n",
       "\\item 'pred\\_agg\\_glm\\_ALL\\_fb'\n",
       "\\item 'pred\\_agg\\_rf\\_ALL\\_fb'\n",
       "\\item 'pred\\_agg\\_glm\\_fb'\n",
       "\\item 'pred\\_agg\\_rf\\_fb'\n",
       "\\item 'pred\\_seg\\_glm\\_ALL\\_fb'\n",
       "\\item 'pred\\_seg\\_rf\\_ALL\\_fb'\n",
       "\\item 'pred\\_seg2\\_glm\\_ALL\\_fb'\n",
       "\\item 'pred\\_seg2\\_rf\\_ALL\\_fb'\n",
       "\\item 'pred\\_l10\\_bf\\_fb'\n",
       "\\item 'pred\\_auc\\_bf\\_fb'\n",
       "\\item 'pred\\_l10\\_fb2'\n",
       "\\item 'pred\\_auc\\_fb2'\n",
       "\\item 'pred\\_l10\\_fb1'\n",
       "\\item 'pred\\_auc\\_fb1'\n",
       "\\end{enumerate*}\n"
      ],
      "text/markdown": [
       "1. 'pred_l10'\n",
       "2. 'pred_auc'\n",
       "3. 'pred_agg_glm_ALL'\n",
       "4. 'pred_agg_rf_ALL'\n",
       "5. 'pred_agg_glm'\n",
       "6. 'pred_agg_rf'\n",
       "7. 'pred_seg_glm_ALL'\n",
       "8. 'pred_seg_rf_ALL'\n",
       "9. 'pred_seg2_glm_ALL'\n",
       "10. 'pred_seg2_rf_ALL'\n",
       "11. 'pred_l10_bf'\n",
       "12. 'pred_auc_bf'\n",
       "13. 'pred_l10_fb'\n",
       "14. 'pred_auc_fb'\n",
       "15. 'pred_agg_glm_ALL_fb'\n",
       "16. 'pred_agg_rf_ALL_fb'\n",
       "17. 'pred_agg_glm_fb'\n",
       "18. 'pred_agg_rf_fb'\n",
       "19. 'pred_seg_glm_ALL_fb'\n",
       "20. 'pred_seg_rf_ALL_fb'\n",
       "21. 'pred_seg2_glm_ALL_fb'\n",
       "22. 'pred_seg2_rf_ALL_fb'\n",
       "23. 'pred_l10_bf_fb'\n",
       "24. 'pred_auc_bf_fb'\n",
       "25. 'pred_l10_fb2'\n",
       "26. 'pred_auc_fb2'\n",
       "27. 'pred_l10_fb1'\n",
       "28. 'pred_auc_fb1'\n",
       "\n",
       "\n"
      ],
      "text/plain": [
       " [1] \"pred_l10\"             \"pred_auc\"             \"pred_agg_glm_ALL\"    \n",
       " [4] \"pred_agg_rf_ALL\"      \"pred_agg_glm\"         \"pred_agg_rf\"         \n",
       " [7] \"pred_seg_glm_ALL\"     \"pred_seg_rf_ALL\"      \"pred_seg2_glm_ALL\"   \n",
       "[10] \"pred_seg2_rf_ALL\"     \"pred_l10_bf\"          \"pred_auc_bf\"         \n",
       "[13] \"pred_l10_fb\"          \"pred_auc_fb\"          \"pred_agg_glm_ALL_fb\" \n",
       "[16] \"pred_agg_rf_ALL_fb\"   \"pred_agg_glm_fb\"      \"pred_agg_rf_fb\"      \n",
       "[19] \"pred_seg_glm_ALL_fb\"  \"pred_seg_rf_ALL_fb\"   \"pred_seg2_glm_ALL_fb\"\n",
       "[22] \"pred_seg2_rf_ALL_fb\"  \"pred_l10_bf_fb\"       \"pred_auc_bf_fb\"      \n",
       "[25] \"pred_l10_fb2\"         \"pred_auc_fb2\"         \"pred_l10_fb1\"        \n",
       "[28] \"pred_auc_fb1\"        "
      ]
     },
     "metadata": {},
     "output_type": "display_data"
    }
   ],
   "source": [
    "preds_all %>%\n",
    "  select(contains('pred')) %>% \n",
    "  names()"
   ]
  },
  {
   "cell_type": "code",
   "execution_count": 34,
   "metadata": {},
   "outputs": [
    {
     "data": {
      "text/html": [
       "<style>\n",
       ".list-inline {list-style: none; margin:0; padding: 0}\n",
       ".list-inline>li {display: inline-block}\n",
       ".list-inline>li:not(:last-child)::after {content: \"\\00b7\"; padding: 0 .5ex}\n",
       "</style>\n",
       "<ol class=list-inline><li>430867</li><li>65</li></ol>\n"
      ],
      "text/latex": [
       "\\begin{enumerate*}\n",
       "\\item 430867\n",
       "\\item 65\n",
       "\\end{enumerate*}\n"
      ],
      "text/markdown": [
       "1. 430867\n",
       "2. 65\n",
       "\n",
       "\n"
      ],
      "text/plain": [
       "[1] 430867     65"
      ]
     },
     "metadata": {},
     "output_type": "display_data"
    },
    {
     "data": {
      "text/html": [
       "<table>\n",
       "<caption>A data.frame: 65 × 1</caption>\n",
       "<thead>\n",
       "\t<tr><th scope=col>names(preds_all)</th></tr>\n",
       "\t<tr><th scope=col>&lt;fct&gt;</th></tr>\n",
       "</thead>\n",
       "<tbody>\n",
       "\t<tr><td>reseller            </td></tr>\n",
       "\t<tr><td>reseller_country    </td></tr>\n",
       "\t<tr><td>reseller_geo        </td></tr>\n",
       "\t<tr><td>domain_id           </td></tr>\n",
       "\t<tr><td>pred_l10            </td></tr>\n",
       "\t<tr><td>model_l10           </td></tr>\n",
       "\t<tr><td>pred_auc            </td></tr>\n",
       "\t<tr><td>model_auc           </td></tr>\n",
       "\t<tr><td>renewal_type        </td></tr>\n",
       "\t<tr><td>renewed_count       </td></tr>\n",
       "\t<tr><td>expiry_date         </td></tr>\n",
       "\t<tr><td>creation_date       </td></tr>\n",
       "\t<tr><td>status              </td></tr>\n",
       "\t<tr><td>domain              </td></tr>\n",
       "\t<tr><td>registrar           </td></tr>\n",
       "\t<tr><td>registrant_country  </td></tr>\n",
       "\t<tr><td>reg_period          </td></tr>\n",
       "\t<tr><td>reg_revenue         </td></tr>\n",
       "\t<tr><td>reg_arpt            </td></tr>\n",
       "\t<tr><td>renew_mbg           </td></tr>\n",
       "\t<tr><td>renewal_item_id     </td></tr>\n",
       "\t<tr><td>renew_type          </td></tr>\n",
       "\t<tr><td>autorenew_type      </td></tr>\n",
       "\t<tr><td>renewal_status      </td></tr>\n",
       "\t<tr><td>renew_date          </td></tr>\n",
       "\t<tr><td>renew_arpt          </td></tr>\n",
       "\t<tr><td>gibb_score          </td></tr>\n",
       "\t<tr><td>pattern             </td></tr>\n",
       "\t<tr><td>pattern_domain_count</td></tr>\n",
       "\t<tr><td>day_domains         </td></tr>\n",
       "\t<tr><td>sld_length          </td></tr>\n",
       "\t<tr><td>sld_type            </td></tr>\n",
       "\t<tr><td>sld_type2           </td></tr>\n",
       "\t<tr><td>tld                 </td></tr>\n",
       "\t<tr><td>region              </td></tr>\n",
       "\t<tr><td>log_reg_arpt        </td></tr>\n",
       "\t<tr><td>tld_registrar_index </td></tr>\n",
       "\t<tr><td>pred_agg_glm_ALL    </td></tr>\n",
       "\t<tr><td>pred_agg_rf_ALL     </td></tr>\n",
       "\t<tr><td>pred_agg_glm        </td></tr>\n",
       "\t<tr><td>pred_agg_rf         </td></tr>\n",
       "\t<tr><td>pred_seg_glm_ALL    </td></tr>\n",
       "\t<tr><td>pred_seg_rf_ALL     </td></tr>\n",
       "\t<tr><td>pred_seg2_glm_ALL   </td></tr>\n",
       "\t<tr><td>pred_seg2_rf_ALL    </td></tr>\n",
       "\t<tr><td>pred_l10_bf         </td></tr>\n",
       "\t<tr><td>pred_auc_bf         </td></tr>\n",
       "\t<tr><td>pred_l10_fb         </td></tr>\n",
       "\t<tr><td>pred_auc_fb         </td></tr>\n",
       "\t<tr><td>pred_agg_glm_ALL_fb </td></tr>\n",
       "\t<tr><td>pred_agg_rf_ALL_fb  </td></tr>\n",
       "\t<tr><td>pred_agg_glm_fb     </td></tr>\n",
       "\t<tr><td>pred_agg_rf_fb      </td></tr>\n",
       "\t<tr><td>pred_seg_glm_ALL_fb </td></tr>\n",
       "\t<tr><td>pred_seg_rf_ALL_fb  </td></tr>\n",
       "\t<tr><td>pred_seg2_glm_ALL_fb</td></tr>\n",
       "\t<tr><td>pred_seg2_rf_ALL_fb </td></tr>\n",
       "\t<tr><td>pred_l10_bf_fb      </td></tr>\n",
       "\t<tr><td>pred_auc_bf_fb      </td></tr>\n",
       "\t<tr><td>reg_arpt_org        </td></tr>\n",
       "\t<tr><td>reg_arpt_slab       </td></tr>\n",
       "\t<tr><td>pred_l10_fb2        </td></tr>\n",
       "\t<tr><td>pred_auc_fb2        </td></tr>\n",
       "\t<tr><td>pred_l10_fb1        </td></tr>\n",
       "\t<tr><td>pred_auc_fb1        </td></tr>\n",
       "</tbody>\n",
       "</table>\n"
      ],
      "text/latex": [
       "A data.frame: 65 × 1\n",
       "\\begin{tabular}{l}\n",
       " names(preds\\_all)\\\\\n",
       " <fct>\\\\\n",
       "\\hline\n",
       "\t reseller            \\\\\n",
       "\t reseller\\_country    \\\\\n",
       "\t reseller\\_geo        \\\\\n",
       "\t domain\\_id           \\\\\n",
       "\t pred\\_l10            \\\\\n",
       "\t model\\_l10           \\\\\n",
       "\t pred\\_auc            \\\\\n",
       "\t model\\_auc           \\\\\n",
       "\t renewal\\_type        \\\\\n",
       "\t renewed\\_count       \\\\\n",
       "\t expiry\\_date         \\\\\n",
       "\t creation\\_date       \\\\\n",
       "\t status              \\\\\n",
       "\t domain              \\\\\n",
       "\t registrar           \\\\\n",
       "\t registrant\\_country  \\\\\n",
       "\t reg\\_period          \\\\\n",
       "\t reg\\_revenue         \\\\\n",
       "\t reg\\_arpt            \\\\\n",
       "\t renew\\_mbg           \\\\\n",
       "\t renewal\\_item\\_id     \\\\\n",
       "\t renew\\_type          \\\\\n",
       "\t autorenew\\_type      \\\\\n",
       "\t renewal\\_status      \\\\\n",
       "\t renew\\_date          \\\\\n",
       "\t renew\\_arpt          \\\\\n",
       "\t gibb\\_score          \\\\\n",
       "\t pattern             \\\\\n",
       "\t pattern\\_domain\\_count\\\\\n",
       "\t day\\_domains         \\\\\n",
       "\t sld\\_length          \\\\\n",
       "\t sld\\_type            \\\\\n",
       "\t sld\\_type2           \\\\\n",
       "\t tld                 \\\\\n",
       "\t region              \\\\\n",
       "\t log\\_reg\\_arpt        \\\\\n",
       "\t tld\\_registrar\\_index \\\\\n",
       "\t pred\\_agg\\_glm\\_ALL    \\\\\n",
       "\t pred\\_agg\\_rf\\_ALL     \\\\\n",
       "\t pred\\_agg\\_glm        \\\\\n",
       "\t pred\\_agg\\_rf         \\\\\n",
       "\t pred\\_seg\\_glm\\_ALL    \\\\\n",
       "\t pred\\_seg\\_rf\\_ALL     \\\\\n",
       "\t pred\\_seg2\\_glm\\_ALL   \\\\\n",
       "\t pred\\_seg2\\_rf\\_ALL    \\\\\n",
       "\t pred\\_l10\\_bf         \\\\\n",
       "\t pred\\_auc\\_bf         \\\\\n",
       "\t pred\\_l10\\_fb         \\\\\n",
       "\t pred\\_auc\\_fb         \\\\\n",
       "\t pred\\_agg\\_glm\\_ALL\\_fb \\\\\n",
       "\t pred\\_agg\\_rf\\_ALL\\_fb  \\\\\n",
       "\t pred\\_agg\\_glm\\_fb     \\\\\n",
       "\t pred\\_agg\\_rf\\_fb      \\\\\n",
       "\t pred\\_seg\\_glm\\_ALL\\_fb \\\\\n",
       "\t pred\\_seg\\_rf\\_ALL\\_fb  \\\\\n",
       "\t pred\\_seg2\\_glm\\_ALL\\_fb\\\\\n",
       "\t pred\\_seg2\\_rf\\_ALL\\_fb \\\\\n",
       "\t pred\\_l10\\_bf\\_fb      \\\\\n",
       "\t pred\\_auc\\_bf\\_fb      \\\\\n",
       "\t reg\\_arpt\\_org        \\\\\n",
       "\t reg\\_arpt\\_slab       \\\\\n",
       "\t pred\\_l10\\_fb2        \\\\\n",
       "\t pred\\_auc\\_fb2        \\\\\n",
       "\t pred\\_l10\\_fb1        \\\\\n",
       "\t pred\\_auc\\_fb1        \\\\\n",
       "\\end{tabular}\n"
      ],
      "text/markdown": [
       "\n",
       "A data.frame: 65 × 1\n",
       "\n",
       "| names(preds_all) &lt;fct&gt; |\n",
       "|---|\n",
       "| reseller             |\n",
       "| reseller_country     |\n",
       "| reseller_geo         |\n",
       "| domain_id            |\n",
       "| pred_l10             |\n",
       "| model_l10            |\n",
       "| pred_auc             |\n",
       "| model_auc            |\n",
       "| renewal_type         |\n",
       "| renewed_count        |\n",
       "| expiry_date          |\n",
       "| creation_date        |\n",
       "| status               |\n",
       "| domain               |\n",
       "| registrar            |\n",
       "| registrant_country   |\n",
       "| reg_period           |\n",
       "| reg_revenue          |\n",
       "| reg_arpt             |\n",
       "| renew_mbg            |\n",
       "| renewal_item_id      |\n",
       "| renew_type           |\n",
       "| autorenew_type       |\n",
       "| renewal_status       |\n",
       "| renew_date           |\n",
       "| renew_arpt           |\n",
       "| gibb_score           |\n",
       "| pattern              |\n",
       "| pattern_domain_count |\n",
       "| day_domains          |\n",
       "| sld_length           |\n",
       "| sld_type             |\n",
       "| sld_type2            |\n",
       "| tld                  |\n",
       "| region               |\n",
       "| log_reg_arpt         |\n",
       "| tld_registrar_index  |\n",
       "| pred_agg_glm_ALL     |\n",
       "| pred_agg_rf_ALL      |\n",
       "| pred_agg_glm         |\n",
       "| pred_agg_rf          |\n",
       "| pred_seg_glm_ALL     |\n",
       "| pred_seg_rf_ALL      |\n",
       "| pred_seg2_glm_ALL    |\n",
       "| pred_seg2_rf_ALL     |\n",
       "| pred_l10_bf          |\n",
       "| pred_auc_bf          |\n",
       "| pred_l10_fb          |\n",
       "| pred_auc_fb          |\n",
       "| pred_agg_glm_ALL_fb  |\n",
       "| pred_agg_rf_ALL_fb   |\n",
       "| pred_agg_glm_fb      |\n",
       "| pred_agg_rf_fb       |\n",
       "| pred_seg_glm_ALL_fb  |\n",
       "| pred_seg_rf_ALL_fb   |\n",
       "| pred_seg2_glm_ALL_fb |\n",
       "| pred_seg2_rf_ALL_fb  |\n",
       "| pred_l10_bf_fb       |\n",
       "| pred_auc_bf_fb       |\n",
       "| reg_arpt_org         |\n",
       "| reg_arpt_slab        |\n",
       "| pred_l10_fb2         |\n",
       "| pred_auc_fb2         |\n",
       "| pred_l10_fb1         |\n",
       "| pred_auc_fb1         |\n",
       "\n"
      ],
      "text/plain": [
       "   names(preds_all)    \n",
       "1  reseller            \n",
       "2  reseller_country    \n",
       "3  reseller_geo        \n",
       "4  domain_id           \n",
       "5  pred_l10            \n",
       "6  model_l10           \n",
       "7  pred_auc            \n",
       "8  model_auc           \n",
       "9  renewal_type        \n",
       "10 renewed_count       \n",
       "11 expiry_date         \n",
       "12 creation_date       \n",
       "13 status              \n",
       "14 domain              \n",
       "15 registrar           \n",
       "16 registrant_country  \n",
       "17 reg_period          \n",
       "18 reg_revenue         \n",
       "19 reg_arpt            \n",
       "20 renew_mbg           \n",
       "21 renewal_item_id     \n",
       "22 renew_type          \n",
       "23 autorenew_type      \n",
       "24 renewal_status      \n",
       "25 renew_date          \n",
       "26 renew_arpt          \n",
       "27 gibb_score          \n",
       "28 pattern             \n",
       "29 pattern_domain_count\n",
       "30 day_domains         \n",
       "31 sld_length          \n",
       "32 sld_type            \n",
       "33 sld_type2           \n",
       "34 tld                 \n",
       "35 region              \n",
       "36 log_reg_arpt        \n",
       "37 tld_registrar_index \n",
       "38 pred_agg_glm_ALL    \n",
       "39 pred_agg_rf_ALL     \n",
       "40 pred_agg_glm        \n",
       "41 pred_agg_rf         \n",
       "42 pred_seg_glm_ALL    \n",
       "43 pred_seg_rf_ALL     \n",
       "44 pred_seg2_glm_ALL   \n",
       "45 pred_seg2_rf_ALL    \n",
       "46 pred_l10_bf         \n",
       "47 pred_auc_bf         \n",
       "48 pred_l10_fb         \n",
       "49 pred_auc_fb         \n",
       "50 pred_agg_glm_ALL_fb \n",
       "51 pred_agg_rf_ALL_fb  \n",
       "52 pred_agg_glm_fb     \n",
       "53 pred_agg_rf_fb      \n",
       "54 pred_seg_glm_ALL_fb \n",
       "55 pred_seg_rf_ALL_fb  \n",
       "56 pred_seg2_glm_ALL_fb\n",
       "57 pred_seg2_rf_ALL_fb \n",
       "58 pred_l10_bf_fb      \n",
       "59 pred_auc_bf_fb      \n",
       "60 reg_arpt_org        \n",
       "61 reg_arpt_slab       \n",
       "62 pred_l10_fb2        \n",
       "63 pred_auc_fb2        \n",
       "64 pred_l10_fb1        \n",
       "65 pred_auc_fb1        "
      ]
     },
     "metadata": {},
     "output_type": "display_data"
    },
    {
     "data": {
      "text/html": [
       "<table>\n",
       "<caption>A data.frame: 6 × 65</caption>\n",
       "<thead>\n",
       "\t<tr><th></th><th scope=col>reseller</th><th scope=col>reseller_country</th><th scope=col>reseller_geo</th><th scope=col>domain_id</th><th scope=col>pred_l10</th><th scope=col>model_l10</th><th scope=col>pred_auc</th><th scope=col>model_auc</th><th scope=col>renewal_type</th><th scope=col>renewed_count</th><th scope=col>expiry_date</th><th scope=col>creation_date</th><th scope=col>status</th><th scope=col>domain</th><th scope=col>registrar</th><th scope=col>registrant_country</th><th scope=col>reg_period</th><th scope=col>reg_revenue</th><th scope=col>reg_arpt</th><th scope=col>renew_mbg</th><th scope=col>renewal_item_id</th><th scope=col>renew_type</th><th scope=col>autorenew_type</th><th scope=col>renewal_status</th><th scope=col>renew_date</th><th scope=col>⋯</th><th scope=col>pred_agg_rf</th><th scope=col>pred_seg_glm_ALL</th><th scope=col>pred_seg_rf_ALL</th><th scope=col>pred_seg2_glm_ALL</th><th scope=col>pred_seg2_rf_ALL</th><th scope=col>pred_l10_bf</th><th scope=col>pred_auc_bf</th><th scope=col>pred_l10_fb</th><th scope=col>pred_auc_fb</th><th scope=col>pred_agg_glm_ALL_fb</th><th scope=col>pred_agg_rf_ALL_fb</th><th scope=col>pred_agg_glm_fb</th><th scope=col>pred_agg_rf_fb</th><th scope=col>pred_seg_glm_ALL_fb</th><th scope=col>pred_seg_rf_ALL_fb</th><th scope=col>pred_seg2_glm_ALL_fb</th><th scope=col>pred_seg2_rf_ALL_fb</th><th scope=col>pred_l10_bf_fb</th><th scope=col>pred_auc_bf_fb</th><th scope=col>reg_arpt_org</th><th scope=col>reg_arpt_slab</th><th scope=col>pred_l10_fb2</th><th scope=col>pred_auc_fb2</th><th scope=col>pred_l10_fb1</th><th scope=col>pred_auc_fb1</th></tr>\n",
       "\t<tr><th></th><th scope=col>&lt;fct&gt;</th><th scope=col>&lt;fct&gt;</th><th scope=col>&lt;fct&gt;</th><th scope=col>&lt;int&gt;</th><th scope=col>&lt;dbl&gt;</th><th scope=col>&lt;chr&gt;</th><th scope=col>&lt;dbl&gt;</th><th scope=col>&lt;chr&gt;</th><th scope=col>&lt;fct&gt;</th><th scope=col>&lt;int&gt;</th><th scope=col>&lt;fct&gt;</th><th scope=col>&lt;fct&gt;</th><th scope=col>&lt;fct&gt;</th><th scope=col>&lt;fct&gt;</th><th scope=col>&lt;fct&gt;</th><th scope=col>&lt;lgl&gt;</th><th scope=col>&lt;int&gt;</th><th scope=col>&lt;dbl&gt;</th><th scope=col>&lt;dbl&gt;</th><th scope=col>&lt;int&gt;</th><th scope=col>&lt;int&gt;</th><th scope=col>&lt;fct&gt;</th><th scope=col>&lt;fct&gt;</th><th scope=col>&lt;fct&gt;</th><th scope=col>&lt;fct&gt;</th><th scope=col>⋯</th><th scope=col>&lt;dbl&gt;</th><th scope=col>&lt;dbl&gt;</th><th scope=col>&lt;dbl&gt;</th><th scope=col>&lt;dbl&gt;</th><th scope=col>&lt;dbl&gt;</th><th scope=col>&lt;dbl&gt;</th><th scope=col>&lt;dbl&gt;</th><th scope=col>&lt;dbl&gt;</th><th scope=col>&lt;dbl&gt;</th><th scope=col>&lt;dbl&gt;</th><th scope=col>&lt;dbl&gt;</th><th scope=col>&lt;dbl&gt;</th><th scope=col>&lt;dbl&gt;</th><th scope=col>&lt;dbl&gt;</th><th scope=col>&lt;dbl&gt;</th><th scope=col>&lt;dbl&gt;</th><th scope=col>&lt;dbl&gt;</th><th scope=col>&lt;dbl&gt;</th><th scope=col>&lt;dbl&gt;</th><th scope=col>&lt;dbl&gt;</th><th scope=col>&lt;fct&gt;</th><th scope=col>&lt;dbl&gt;</th><th scope=col>&lt;dbl&gt;</th><th scope=col>&lt;dbl&gt;</th><th scope=col>&lt;dbl&gt;</th></tr>\n",
       "</thead>\n",
       "<tbody>\n",
       "\t<tr><th scope=row>1</th><td>1&amp;1 Internet</td><td>Germany</td><td>EU</td><td>129547106</td><td>0.5921809</td><td>agg_rf_ALL</td><td>0.5921809</td><td>agg_rf_ALL</td><td>FirstTime</td><td>1</td><td>2020-09-17</td><td>2019-09-17</td><td>Active</td><td><span style=white-space:pre-wrap>preciodeloro.online             </span></td><td>1&amp;1 Internet</td><td>NA</td><td>1</td><td> 5</td><td> 5</td><td>0</td><td>279480871</td><td>transfer</td><td>NA</td><td>Renewed</td><td>2020-01-14</td><td>⋯</td><td>0.5846861</td><td>0.554</td><td>0.5702239</td><td>0.5438008</td><td>0.5917278</td><td>0.5921809</td><td>0.5921809</td><td>0.5921809</td><td>0.5921809</td><td>0.588</td><td>0.5921809</td><td>0.574</td><td>0.5846861</td><td>0.554</td><td>0.5702239</td><td>0.5438008</td><td>0.5917278</td><td>0.5921809</td><td>0.5921809</td><td> 5</td><td><span style=white-space:pre-wrap>(3,5]  </span></td><td>0.5921809</td><td>0.5921809</td><td>0.5921809</td><td>0.5921809</td></tr>\n",
       "\t<tr><th scope=row>2</th><td>1&amp;1 Internet</td><td>Germany</td><td>EU</td><td> 76285079</td><td>0.6141844</td><td>agg_rf_ALL</td><td>0.6141844</td><td>agg_rf_ALL</td><td>FirstTime</td><td>1</td><td>2020-09-10</td><td>2018-09-10</td><td>Active</td><td><span style=white-space:pre-wrap>advance7.online                 </span></td><td>1&amp;1 Internet</td><td>NA</td><td>2</td><td>30</td><td>15</td><td>0</td><td>225404981</td><td>transfer</td><td>NA</td><td>Renewed</td><td>2019-08-27</td><td>⋯</td><td>0.6244877</td><td>0.484</td><td>0.6159490</td><td>0.4851443</td><td>0.6179782</td><td>0.6141844</td><td>0.6141844</td><td>0.6141844</td><td>0.6141844</td><td>0.572</td><td>0.6141844</td><td>0.562</td><td>0.6244877</td><td>0.484</td><td>0.6159490</td><td>0.4851443</td><td>0.6179782</td><td>0.6141844</td><td>0.6141844</td><td>15</td><td>(10,15]</td><td>0.6141844</td><td>0.6141844</td><td>0.6141844</td><td>0.6141844</td></tr>\n",
       "\t<tr><th scope=row>3</th><td>1&amp;1 Internet</td><td>Germany</td><td>EU</td><td>132626216</td><td>0.5986996</td><td>agg_rf_ALL</td><td>0.5986996</td><td>agg_rf_ALL</td><td>FirstTime</td><td>1</td><td>2020-10-02</td><td>2019-10-02</td><td>Active</td><td>stellenanzeigen-on-demand.online</td><td>1&amp;1 Internet</td><td>NA</td><td>1</td><td> 5</td><td> 5</td><td>0</td><td>323941649</td><td>renewal </td><td>NA</td><td>Renewed</td><td>2020-06-22</td><td>⋯</td><td>0.5923937</td><td>0.586</td><td>0.6187455</td><td>0.5799558</td><td>0.6340684</td><td>0.5986996</td><td>0.5986996</td><td>0.5986996</td><td>0.5986996</td><td>0.552</td><td>0.5986996</td><td>0.545</td><td>0.5923937</td><td>0.586</td><td>0.6187455</td><td>0.5799558</td><td>0.6340684</td><td>0.5986996</td><td>0.5986996</td><td> 5</td><td><span style=white-space:pre-wrap>(3,5]  </span></td><td>0.5986996</td><td>0.5986996</td><td>0.5986996</td><td>0.5986996</td></tr>\n",
       "\t<tr><th scope=row>4</th><td>1&amp;1 Internet</td><td>Germany</td><td>EU</td><td>127423021</td><td>0.4743705</td><td>agg_rf_ALL</td><td>0.4743705</td><td>agg_rf_ALL</td><td>FirstTime</td><td>1</td><td>2020-09-07</td><td>2019-09-07</td><td>Active</td><td><span style=white-space:pre-wrap>colmex.online                   </span></td><td>1&amp;1 Internet</td><td>NA</td><td>1</td><td> 5</td><td> 5</td><td>0</td><td>244331895</td><td>renewal </td><td>NA</td><td>Renewed</td><td>2019-10-28</td><td>⋯</td><td>0.4799012</td><td>0.578</td><td>0.4853137</td><td>0.5700971</td><td>0.4702835</td><td>0.4743705</td><td>0.4743705</td><td>0.4743705</td><td>0.4743705</td><td>0.602</td><td>0.4743705</td><td>0.586</td><td>0.4799012</td><td>0.578</td><td>0.4853137</td><td>0.5700971</td><td>0.4702835</td><td>0.4743705</td><td>0.4743705</td><td> 5</td><td><span style=white-space:pre-wrap>(3,5]  </span></td><td>0.4743705</td><td>0.4743705</td><td>0.4743705</td><td>0.4743705</td></tr>\n",
       "\t<tr><th scope=row>5</th><td>1&amp;1 Internet</td><td>Germany</td><td>EU</td><td>127588571</td><td>0.4919164</td><td>agg_rf_ALL</td><td>0.4919164</td><td>agg_rf_ALL</td><td>FirstTime</td><td>1</td><td>2020-09-08</td><td>2019-09-08</td><td>Active</td><td><span style=white-space:pre-wrap>chattaboxforum.online           </span></td><td>1&amp;1 Internet</td><td>NA</td><td>1</td><td> 5</td><td> 5</td><td>0</td><td>229331376</td><td>renewal </td><td>NA</td><td>Renewed</td><td>2019-09-09</td><td>⋯</td><td>0.4825344</td><td>0.554</td><td>0.4803202</td><td>0.5428917</td><td>0.4597726</td><td>0.4919164</td><td>0.4919164</td><td>0.4919164</td><td>0.4919164</td><td>0.568</td><td>0.4919164</td><td>0.553</td><td>0.4825344</td><td>0.554</td><td>0.4803202</td><td>0.5428917</td><td>0.4597726</td><td>0.4919164</td><td>0.4919164</td><td> 5</td><td><span style=white-space:pre-wrap>(3,5]  </span></td><td>0.4919164</td><td>0.4919164</td><td>0.4919164</td><td>0.4919164</td></tr>\n",
       "\t<tr><th scope=row>6</th><td>1&amp;1 Internet</td><td>Germany</td><td>EU</td><td>132629291</td><td>0.6497964</td><td>agg_rf_ALL</td><td>0.6497964</td><td>agg_rf_ALL</td><td>FirstTime</td><td>1</td><td>2020-10-02</td><td>2019-10-02</td><td>Active</td><td><span style=white-space:pre-wrap>jobpodcast.online               </span></td><td>1&amp;1 Internet</td><td>NA</td><td>1</td><td> 5</td><td> 5</td><td>0</td><td>323938864</td><td>renewal </td><td>NA</td><td>Renewed</td><td>2020-06-22</td><td>⋯</td><td>0.6369012</td><td>0.571</td><td>0.5675839</td><td>0.5590710</td><td>0.6092187</td><td>0.6497964</td><td>0.6497964</td><td>0.6497964</td><td>0.6497964</td><td>0.582</td><td>0.6497964</td><td>0.566</td><td>0.6369012</td><td>0.571</td><td>0.5675839</td><td>0.5590710</td><td>0.6092187</td><td>0.6497964</td><td>0.6497964</td><td> 5</td><td><span style=white-space:pre-wrap>(3,5]  </span></td><td>0.6497964</td><td>0.6497964</td><td>0.6497964</td><td>0.6497964</td></tr>\n",
       "</tbody>\n",
       "</table>\n"
      ],
      "text/latex": [
       "A data.frame: 6 × 65\n",
       "\\begin{tabular}{r|lllllllllllllllllllllllllllllllllllllllllllllllllll}\n",
       "  & reseller & reseller\\_country & reseller\\_geo & domain\\_id & pred\\_l10 & model\\_l10 & pred\\_auc & model\\_auc & renewal\\_type & renewed\\_count & expiry\\_date & creation\\_date & status & domain & registrar & registrant\\_country & reg\\_period & reg\\_revenue & reg\\_arpt & renew\\_mbg & renewal\\_item\\_id & renew\\_type & autorenew\\_type & renewal\\_status & renew\\_date & ⋯ & pred\\_agg\\_rf & pred\\_seg\\_glm\\_ALL & pred\\_seg\\_rf\\_ALL & pred\\_seg2\\_glm\\_ALL & pred\\_seg2\\_rf\\_ALL & pred\\_l10\\_bf & pred\\_auc\\_bf & pred\\_l10\\_fb & pred\\_auc\\_fb & pred\\_agg\\_glm\\_ALL\\_fb & pred\\_agg\\_rf\\_ALL\\_fb & pred\\_agg\\_glm\\_fb & pred\\_agg\\_rf\\_fb & pred\\_seg\\_glm\\_ALL\\_fb & pred\\_seg\\_rf\\_ALL\\_fb & pred\\_seg2\\_glm\\_ALL\\_fb & pred\\_seg2\\_rf\\_ALL\\_fb & pred\\_l10\\_bf\\_fb & pred\\_auc\\_bf\\_fb & reg\\_arpt\\_org & reg\\_arpt\\_slab & pred\\_l10\\_fb2 & pred\\_auc\\_fb2 & pred\\_l10\\_fb1 & pred\\_auc\\_fb1\\\\\n",
       "  & <fct> & <fct> & <fct> & <int> & <dbl> & <chr> & <dbl> & <chr> & <fct> & <int> & <fct> & <fct> & <fct> & <fct> & <fct> & <lgl> & <int> & <dbl> & <dbl> & <int> & <int> & <fct> & <fct> & <fct> & <fct> & ⋯ & <dbl> & <dbl> & <dbl> & <dbl> & <dbl> & <dbl> & <dbl> & <dbl> & <dbl> & <dbl> & <dbl> & <dbl> & <dbl> & <dbl> & <dbl> & <dbl> & <dbl> & <dbl> & <dbl> & <dbl> & <fct> & <dbl> & <dbl> & <dbl> & <dbl>\\\\\n",
       "\\hline\n",
       "\t1 & 1\\&1 Internet & Germany & EU & 129547106 & 0.5921809 & agg\\_rf\\_ALL & 0.5921809 & agg\\_rf\\_ALL & FirstTime & 1 & 2020-09-17 & 2019-09-17 & Active & preciodeloro.online              & 1\\&1 Internet & NA & 1 &  5 &  5 & 0 & 279480871 & transfer & NA & Renewed & 2020-01-14 & ⋯ & 0.5846861 & 0.554 & 0.5702239 & 0.5438008 & 0.5917278 & 0.5921809 & 0.5921809 & 0.5921809 & 0.5921809 & 0.588 & 0.5921809 & 0.574 & 0.5846861 & 0.554 & 0.5702239 & 0.5438008 & 0.5917278 & 0.5921809 & 0.5921809 &  5 & (3,5{]}   & 0.5921809 & 0.5921809 & 0.5921809 & 0.5921809\\\\\n",
       "\t2 & 1\\&1 Internet & Germany & EU &  76285079 & 0.6141844 & agg\\_rf\\_ALL & 0.6141844 & agg\\_rf\\_ALL & FirstTime & 1 & 2020-09-10 & 2018-09-10 & Active & advance7.online                  & 1\\&1 Internet & NA & 2 & 30 & 15 & 0 & 225404981 & transfer & NA & Renewed & 2019-08-27 & ⋯ & 0.6244877 & 0.484 & 0.6159490 & 0.4851443 & 0.6179782 & 0.6141844 & 0.6141844 & 0.6141844 & 0.6141844 & 0.572 & 0.6141844 & 0.562 & 0.6244877 & 0.484 & 0.6159490 & 0.4851443 & 0.6179782 & 0.6141844 & 0.6141844 & 15 & (10,15{]} & 0.6141844 & 0.6141844 & 0.6141844 & 0.6141844\\\\\n",
       "\t3 & 1\\&1 Internet & Germany & EU & 132626216 & 0.5986996 & agg\\_rf\\_ALL & 0.5986996 & agg\\_rf\\_ALL & FirstTime & 1 & 2020-10-02 & 2019-10-02 & Active & stellenanzeigen-on-demand.online & 1\\&1 Internet & NA & 1 &  5 &  5 & 0 & 323941649 & renewal  & NA & Renewed & 2020-06-22 & ⋯ & 0.5923937 & 0.586 & 0.6187455 & 0.5799558 & 0.6340684 & 0.5986996 & 0.5986996 & 0.5986996 & 0.5986996 & 0.552 & 0.5986996 & 0.545 & 0.5923937 & 0.586 & 0.6187455 & 0.5799558 & 0.6340684 & 0.5986996 & 0.5986996 &  5 & (3,5{]}   & 0.5986996 & 0.5986996 & 0.5986996 & 0.5986996\\\\\n",
       "\t4 & 1\\&1 Internet & Germany & EU & 127423021 & 0.4743705 & agg\\_rf\\_ALL & 0.4743705 & agg\\_rf\\_ALL & FirstTime & 1 & 2020-09-07 & 2019-09-07 & Active & colmex.online                    & 1\\&1 Internet & NA & 1 &  5 &  5 & 0 & 244331895 & renewal  & NA & Renewed & 2019-10-28 & ⋯ & 0.4799012 & 0.578 & 0.4853137 & 0.5700971 & 0.4702835 & 0.4743705 & 0.4743705 & 0.4743705 & 0.4743705 & 0.602 & 0.4743705 & 0.586 & 0.4799012 & 0.578 & 0.4853137 & 0.5700971 & 0.4702835 & 0.4743705 & 0.4743705 &  5 & (3,5{]}   & 0.4743705 & 0.4743705 & 0.4743705 & 0.4743705\\\\\n",
       "\t5 & 1\\&1 Internet & Germany & EU & 127588571 & 0.4919164 & agg\\_rf\\_ALL & 0.4919164 & agg\\_rf\\_ALL & FirstTime & 1 & 2020-09-08 & 2019-09-08 & Active & chattaboxforum.online            & 1\\&1 Internet & NA & 1 &  5 &  5 & 0 & 229331376 & renewal  & NA & Renewed & 2019-09-09 & ⋯ & 0.4825344 & 0.554 & 0.4803202 & 0.5428917 & 0.4597726 & 0.4919164 & 0.4919164 & 0.4919164 & 0.4919164 & 0.568 & 0.4919164 & 0.553 & 0.4825344 & 0.554 & 0.4803202 & 0.5428917 & 0.4597726 & 0.4919164 & 0.4919164 &  5 & (3,5{]}   & 0.4919164 & 0.4919164 & 0.4919164 & 0.4919164\\\\\n",
       "\t6 & 1\\&1 Internet & Germany & EU & 132629291 & 0.6497964 & agg\\_rf\\_ALL & 0.6497964 & agg\\_rf\\_ALL & FirstTime & 1 & 2020-10-02 & 2019-10-02 & Active & jobpodcast.online                & 1\\&1 Internet & NA & 1 &  5 &  5 & 0 & 323938864 & renewal  & NA & Renewed & 2020-06-22 & ⋯ & 0.6369012 & 0.571 & 0.5675839 & 0.5590710 & 0.6092187 & 0.6497964 & 0.6497964 & 0.6497964 & 0.6497964 & 0.582 & 0.6497964 & 0.566 & 0.6369012 & 0.571 & 0.5675839 & 0.5590710 & 0.6092187 & 0.6497964 & 0.6497964 &  5 & (3,5{]}   & 0.6497964 & 0.6497964 & 0.6497964 & 0.6497964\\\\\n",
       "\\end{tabular}\n"
      ],
      "text/markdown": [
       "\n",
       "A data.frame: 6 × 65\n",
       "\n",
       "| <!--/--> | reseller &lt;fct&gt; | reseller_country &lt;fct&gt; | reseller_geo &lt;fct&gt; | domain_id &lt;int&gt; | pred_l10 &lt;dbl&gt; | model_l10 &lt;chr&gt; | pred_auc &lt;dbl&gt; | model_auc &lt;chr&gt; | renewal_type &lt;fct&gt; | renewed_count &lt;int&gt; | expiry_date &lt;fct&gt; | creation_date &lt;fct&gt; | status &lt;fct&gt; | domain &lt;fct&gt; | registrar &lt;fct&gt; | registrant_country &lt;lgl&gt; | reg_period &lt;int&gt; | reg_revenue &lt;dbl&gt; | reg_arpt &lt;dbl&gt; | renew_mbg &lt;int&gt; | renewal_item_id &lt;int&gt; | renew_type &lt;fct&gt; | autorenew_type &lt;fct&gt; | renewal_status &lt;fct&gt; | renew_date &lt;fct&gt; | ⋯ ⋯ | pred_agg_rf &lt;dbl&gt; | pred_seg_glm_ALL &lt;dbl&gt; | pred_seg_rf_ALL &lt;dbl&gt; | pred_seg2_glm_ALL &lt;dbl&gt; | pred_seg2_rf_ALL &lt;dbl&gt; | pred_l10_bf &lt;dbl&gt; | pred_auc_bf &lt;dbl&gt; | pred_l10_fb &lt;dbl&gt; | pred_auc_fb &lt;dbl&gt; | pred_agg_glm_ALL_fb &lt;dbl&gt; | pred_agg_rf_ALL_fb &lt;dbl&gt; | pred_agg_glm_fb &lt;dbl&gt; | pred_agg_rf_fb &lt;dbl&gt; | pred_seg_glm_ALL_fb &lt;dbl&gt; | pred_seg_rf_ALL_fb &lt;dbl&gt; | pred_seg2_glm_ALL_fb &lt;dbl&gt; | pred_seg2_rf_ALL_fb &lt;dbl&gt; | pred_l10_bf_fb &lt;dbl&gt; | pred_auc_bf_fb &lt;dbl&gt; | reg_arpt_org &lt;dbl&gt; | reg_arpt_slab &lt;fct&gt; | pred_l10_fb2 &lt;dbl&gt; | pred_auc_fb2 &lt;dbl&gt; | pred_l10_fb1 &lt;dbl&gt; | pred_auc_fb1 &lt;dbl&gt; |\n",
       "|---|---|---|---|---|---|---|---|---|---|---|---|---|---|---|---|---|---|---|---|---|---|---|---|---|---|---|---|---|---|---|---|---|---|---|---|---|---|---|---|---|---|---|---|---|---|---|---|---|---|---|---|\n",
       "| 1 | 1&amp;1 Internet | Germany | EU | 129547106 | 0.5921809 | agg_rf_ALL | 0.5921809 | agg_rf_ALL | FirstTime | 1 | 2020-09-17 | 2019-09-17 | Active | preciodeloro.online              | 1&amp;1 Internet | NA | 1 |  5 |  5 | 0 | 279480871 | transfer | NA | Renewed | 2020-01-14 | ⋯ | 0.5846861 | 0.554 | 0.5702239 | 0.5438008 | 0.5917278 | 0.5921809 | 0.5921809 | 0.5921809 | 0.5921809 | 0.588 | 0.5921809 | 0.574 | 0.5846861 | 0.554 | 0.5702239 | 0.5438008 | 0.5917278 | 0.5921809 | 0.5921809 |  5 | (3,5]   | 0.5921809 | 0.5921809 | 0.5921809 | 0.5921809 |\n",
       "| 2 | 1&amp;1 Internet | Germany | EU |  76285079 | 0.6141844 | agg_rf_ALL | 0.6141844 | agg_rf_ALL | FirstTime | 1 | 2020-09-10 | 2018-09-10 | Active | advance7.online                  | 1&amp;1 Internet | NA | 2 | 30 | 15 | 0 | 225404981 | transfer | NA | Renewed | 2019-08-27 | ⋯ | 0.6244877 | 0.484 | 0.6159490 | 0.4851443 | 0.6179782 | 0.6141844 | 0.6141844 | 0.6141844 | 0.6141844 | 0.572 | 0.6141844 | 0.562 | 0.6244877 | 0.484 | 0.6159490 | 0.4851443 | 0.6179782 | 0.6141844 | 0.6141844 | 15 | (10,15] | 0.6141844 | 0.6141844 | 0.6141844 | 0.6141844 |\n",
       "| 3 | 1&amp;1 Internet | Germany | EU | 132626216 | 0.5986996 | agg_rf_ALL | 0.5986996 | agg_rf_ALL | FirstTime | 1 | 2020-10-02 | 2019-10-02 | Active | stellenanzeigen-on-demand.online | 1&amp;1 Internet | NA | 1 |  5 |  5 | 0 | 323941649 | renewal  | NA | Renewed | 2020-06-22 | ⋯ | 0.5923937 | 0.586 | 0.6187455 | 0.5799558 | 0.6340684 | 0.5986996 | 0.5986996 | 0.5986996 | 0.5986996 | 0.552 | 0.5986996 | 0.545 | 0.5923937 | 0.586 | 0.6187455 | 0.5799558 | 0.6340684 | 0.5986996 | 0.5986996 |  5 | (3,5]   | 0.5986996 | 0.5986996 | 0.5986996 | 0.5986996 |\n",
       "| 4 | 1&amp;1 Internet | Germany | EU | 127423021 | 0.4743705 | agg_rf_ALL | 0.4743705 | agg_rf_ALL | FirstTime | 1 | 2020-09-07 | 2019-09-07 | Active | colmex.online                    | 1&amp;1 Internet | NA | 1 |  5 |  5 | 0 | 244331895 | renewal  | NA | Renewed | 2019-10-28 | ⋯ | 0.4799012 | 0.578 | 0.4853137 | 0.5700971 | 0.4702835 | 0.4743705 | 0.4743705 | 0.4743705 | 0.4743705 | 0.602 | 0.4743705 | 0.586 | 0.4799012 | 0.578 | 0.4853137 | 0.5700971 | 0.4702835 | 0.4743705 | 0.4743705 |  5 | (3,5]   | 0.4743705 | 0.4743705 | 0.4743705 | 0.4743705 |\n",
       "| 5 | 1&amp;1 Internet | Germany | EU | 127588571 | 0.4919164 | agg_rf_ALL | 0.4919164 | agg_rf_ALL | FirstTime | 1 | 2020-09-08 | 2019-09-08 | Active | chattaboxforum.online            | 1&amp;1 Internet | NA | 1 |  5 |  5 | 0 | 229331376 | renewal  | NA | Renewed | 2019-09-09 | ⋯ | 0.4825344 | 0.554 | 0.4803202 | 0.5428917 | 0.4597726 | 0.4919164 | 0.4919164 | 0.4919164 | 0.4919164 | 0.568 | 0.4919164 | 0.553 | 0.4825344 | 0.554 | 0.4803202 | 0.5428917 | 0.4597726 | 0.4919164 | 0.4919164 |  5 | (3,5]   | 0.4919164 | 0.4919164 | 0.4919164 | 0.4919164 |\n",
       "| 6 | 1&amp;1 Internet | Germany | EU | 132629291 | 0.6497964 | agg_rf_ALL | 0.6497964 | agg_rf_ALL | FirstTime | 1 | 2020-10-02 | 2019-10-02 | Active | jobpodcast.online                | 1&amp;1 Internet | NA | 1 |  5 |  5 | 0 | 323938864 | renewal  | NA | Renewed | 2020-06-22 | ⋯ | 0.6369012 | 0.571 | 0.5675839 | 0.5590710 | 0.6092187 | 0.6497964 | 0.6497964 | 0.6497964 | 0.6497964 | 0.582 | 0.6497964 | 0.566 | 0.6369012 | 0.571 | 0.5675839 | 0.5590710 | 0.6092187 | 0.6497964 | 0.6497964 |  5 | (3,5]   | 0.6497964 | 0.6497964 | 0.6497964 | 0.6497964 |\n",
       "\n"
      ],
      "text/plain": [
       "  reseller     reseller_country reseller_geo domain_id pred_l10  model_l10 \n",
       "1 1&1 Internet Germany          EU           129547106 0.5921809 agg_rf_ALL\n",
       "2 1&1 Internet Germany          EU            76285079 0.6141844 agg_rf_ALL\n",
       "3 1&1 Internet Germany          EU           132626216 0.5986996 agg_rf_ALL\n",
       "4 1&1 Internet Germany          EU           127423021 0.4743705 agg_rf_ALL\n",
       "5 1&1 Internet Germany          EU           127588571 0.4919164 agg_rf_ALL\n",
       "6 1&1 Internet Germany          EU           132629291 0.6497964 agg_rf_ALL\n",
       "  pred_auc  model_auc  renewal_type renewed_count expiry_date creation_date\n",
       "1 0.5921809 agg_rf_ALL FirstTime    1             2020-09-17  2019-09-17   \n",
       "2 0.6141844 agg_rf_ALL FirstTime    1             2020-09-10  2018-09-10   \n",
       "3 0.5986996 agg_rf_ALL FirstTime    1             2020-10-02  2019-10-02   \n",
       "4 0.4743705 agg_rf_ALL FirstTime    1             2020-09-07  2019-09-07   \n",
       "5 0.4919164 agg_rf_ALL FirstTime    1             2020-09-08  2019-09-08   \n",
       "6 0.6497964 agg_rf_ALL FirstTime    1             2020-10-02  2019-10-02   \n",
       "  status domain                           registrar    registrant_country\n",
       "1 Active preciodeloro.online              1&1 Internet NA                \n",
       "2 Active advance7.online                  1&1 Internet NA                \n",
       "3 Active stellenanzeigen-on-demand.online 1&1 Internet NA                \n",
       "4 Active colmex.online                    1&1 Internet NA                \n",
       "5 Active chattaboxforum.online            1&1 Internet NA                \n",
       "6 Active jobpodcast.online                1&1 Internet NA                \n",
       "  reg_period reg_revenue reg_arpt renew_mbg renewal_item_id renew_type\n",
       "1 1           5           5       0         279480871       transfer  \n",
       "2 2          30          15       0         225404981       transfer  \n",
       "3 1           5           5       0         323941649       renewal   \n",
       "4 1           5           5       0         244331895       renewal   \n",
       "5 1           5           5       0         229331376       renewal   \n",
       "6 1           5           5       0         323938864       renewal   \n",
       "  autorenew_type renewal_status renew_date ⋯ pred_agg_rf pred_seg_glm_ALL\n",
       "1 NA             Renewed        2020-01-14 ⋯ 0.5846861   0.554           \n",
       "2 NA             Renewed        2019-08-27 ⋯ 0.6244877   0.484           \n",
       "3 NA             Renewed        2020-06-22 ⋯ 0.5923937   0.586           \n",
       "4 NA             Renewed        2019-10-28 ⋯ 0.4799012   0.578           \n",
       "5 NA             Renewed        2019-09-09 ⋯ 0.4825344   0.554           \n",
       "6 NA             Renewed        2020-06-22 ⋯ 0.6369012   0.571           \n",
       "  pred_seg_rf_ALL pred_seg2_glm_ALL pred_seg2_rf_ALL pred_l10_bf pred_auc_bf\n",
       "1 0.5702239       0.5438008         0.5917278        0.5921809   0.5921809  \n",
       "2 0.6159490       0.4851443         0.6179782        0.6141844   0.6141844  \n",
       "3 0.6187455       0.5799558         0.6340684        0.5986996   0.5986996  \n",
       "4 0.4853137       0.5700971         0.4702835        0.4743705   0.4743705  \n",
       "5 0.4803202       0.5428917         0.4597726        0.4919164   0.4919164  \n",
       "6 0.5675839       0.5590710         0.6092187        0.6497964   0.6497964  \n",
       "  pred_l10_fb pred_auc_fb pred_agg_glm_ALL_fb pred_agg_rf_ALL_fb\n",
       "1 0.5921809   0.5921809   0.588               0.5921809         \n",
       "2 0.6141844   0.6141844   0.572               0.6141844         \n",
       "3 0.5986996   0.5986996   0.552               0.5986996         \n",
       "4 0.4743705   0.4743705   0.602               0.4743705         \n",
       "5 0.4919164   0.4919164   0.568               0.4919164         \n",
       "6 0.6497964   0.6497964   0.582               0.6497964         \n",
       "  pred_agg_glm_fb pred_agg_rf_fb pred_seg_glm_ALL_fb pred_seg_rf_ALL_fb\n",
       "1 0.574           0.5846861      0.554               0.5702239         \n",
       "2 0.562           0.6244877      0.484               0.6159490         \n",
       "3 0.545           0.5923937      0.586               0.6187455         \n",
       "4 0.586           0.4799012      0.578               0.4853137         \n",
       "5 0.553           0.4825344      0.554               0.4803202         \n",
       "6 0.566           0.6369012      0.571               0.5675839         \n",
       "  pred_seg2_glm_ALL_fb pred_seg2_rf_ALL_fb pred_l10_bf_fb pred_auc_bf_fb\n",
       "1 0.5438008            0.5917278           0.5921809      0.5921809     \n",
       "2 0.4851443            0.6179782           0.6141844      0.6141844     \n",
       "3 0.5799558            0.6340684           0.5986996      0.5986996     \n",
       "4 0.5700971            0.4702835           0.4743705      0.4743705     \n",
       "5 0.5428917            0.4597726           0.4919164      0.4919164     \n",
       "6 0.5590710            0.6092187           0.6497964      0.6497964     \n",
       "  reg_arpt_org reg_arpt_slab pred_l10_fb2 pred_auc_fb2 pred_l10_fb1\n",
       "1  5           (3,5]         0.5921809    0.5921809    0.5921809   \n",
       "2 15           (10,15]       0.6141844    0.6141844    0.6141844   \n",
       "3  5           (3,5]         0.5986996    0.5986996    0.5986996   \n",
       "4  5           (3,5]         0.4743705    0.4743705    0.4743705   \n",
       "5  5           (3,5]         0.4919164    0.4919164    0.4919164   \n",
       "6  5           (3,5]         0.6497964    0.6497964    0.6497964   \n",
       "  pred_auc_fb1\n",
       "1 0.5921809   \n",
       "2 0.6141844   \n",
       "3 0.5986996   \n",
       "4 0.4743705   \n",
       "5 0.4919164   \n",
       "6 0.6497964   "
      ]
     },
     "metadata": {},
     "output_type": "display_data"
    }
   ],
   "source": [
    "dim(preds_all)\n",
    "as.data.frame(names(preds_all))\n",
    "head(preds_all)"
   ]
  },
  {
   "cell_type": "markdown",
   "metadata": {},
   "source": [
    "# Output predictions"
   ]
  },
  {
   "cell_type": "code",
   "execution_count": 35,
   "metadata": {},
   "outputs": [],
   "source": [
    "write.csv(preds_all %>% select(-c(pred_l10_fb, pred_auc_fb, pred_l10_bf_fb, pred_auc_bf_fb)), \n",
    "          '../../data/output/deliv_20201218/20200902_20201008_preds_all.csv', row.names=FALSE)\n",
    "system(\"gsutil cp -r /home/jupyter/Domains_202003/data/output/deliv_20201218/ gs://output_shared/\")"
   ]
  },
  {
   "cell_type": "markdown",
   "metadata": {},
   "source": [
    "# Radix metric:\n",
    "## aggregate probabilities at the tld-reseller level... over day or month\n",
    "Agg number of of domains at tld-registrar level. At a day level or month level. Side by side — sum of prob and count of actual"
   ]
  },
  {
   "cell_type": "code",
   "execution_count": 37,
   "metadata": {},
   "outputs": [],
   "source": [
    "# preds_all <- read.csv('../../data/output/deliv_20201218/20200902_20201008_preds_all.csv')"
   ]
  },
  {
   "cell_type": "code",
   "execution_count": 36,
   "metadata": {},
   "outputs": [
    {
     "data": {
      "text/html": [
       "<style>\n",
       ".list-inline {list-style: none; margin:0; padding: 0}\n",
       ".list-inline>li {display: inline-block}\n",
       ".list-inline>li:not(:last-child)::after {content: \"\\00b7\"; padding: 0 .5ex}\n",
       "</style>\n",
       "<ol class=list-inline><li>430867</li><li>65</li></ol>\n"
      ],
      "text/latex": [
       "\\begin{enumerate*}\n",
       "\\item 430867\n",
       "\\item 65\n",
       "\\end{enumerate*}\n"
      ],
      "text/markdown": [
       "1. 430867\n",
       "2. 65\n",
       "\n",
       "\n"
      ],
      "text/plain": [
       "[1] 430867     65"
      ]
     },
     "metadata": {},
     "output_type": "display_data"
    },
    {
     "data": {
      "text/html": [
       "<table>\n",
       "<caption>A data.frame: 6 × 65</caption>\n",
       "<thead>\n",
       "\t<tr><th></th><th scope=col>reseller</th><th scope=col>reseller_country</th><th scope=col>reseller_geo</th><th scope=col>domain_id</th><th scope=col>pred_l10</th><th scope=col>model_l10</th><th scope=col>pred_auc</th><th scope=col>model_auc</th><th scope=col>renewal_type</th><th scope=col>renewed_count</th><th scope=col>expiry_date</th><th scope=col>creation_date</th><th scope=col>status</th><th scope=col>domain</th><th scope=col>registrar</th><th scope=col>registrant_country</th><th scope=col>reg_period</th><th scope=col>reg_revenue</th><th scope=col>reg_arpt</th><th scope=col>renew_mbg</th><th scope=col>renewal_item_id</th><th scope=col>renew_type</th><th scope=col>autorenew_type</th><th scope=col>renewal_status</th><th scope=col>renew_date</th><th scope=col>⋯</th><th scope=col>pred_agg_rf</th><th scope=col>pred_seg_glm_ALL</th><th scope=col>pred_seg_rf_ALL</th><th scope=col>pred_seg2_glm_ALL</th><th scope=col>pred_seg2_rf_ALL</th><th scope=col>pred_l10_bf</th><th scope=col>pred_auc_bf</th><th scope=col>pred_l10_fb</th><th scope=col>pred_auc_fb</th><th scope=col>pred_agg_glm_ALL_fb</th><th scope=col>pred_agg_rf_ALL_fb</th><th scope=col>pred_agg_glm_fb</th><th scope=col>pred_agg_rf_fb</th><th scope=col>pred_seg_glm_ALL_fb</th><th scope=col>pred_seg_rf_ALL_fb</th><th scope=col>pred_seg2_glm_ALL_fb</th><th scope=col>pred_seg2_rf_ALL_fb</th><th scope=col>pred_l10_bf_fb</th><th scope=col>pred_auc_bf_fb</th><th scope=col>reg_arpt_org</th><th scope=col>reg_arpt_slab</th><th scope=col>pred_l10_fb2</th><th scope=col>pred_auc_fb2</th><th scope=col>pred_l10_fb1</th><th scope=col>pred_auc_fb1</th></tr>\n",
       "\t<tr><th></th><th scope=col>&lt;fct&gt;</th><th scope=col>&lt;fct&gt;</th><th scope=col>&lt;fct&gt;</th><th scope=col>&lt;int&gt;</th><th scope=col>&lt;dbl&gt;</th><th scope=col>&lt;chr&gt;</th><th scope=col>&lt;dbl&gt;</th><th scope=col>&lt;chr&gt;</th><th scope=col>&lt;fct&gt;</th><th scope=col>&lt;int&gt;</th><th scope=col>&lt;fct&gt;</th><th scope=col>&lt;fct&gt;</th><th scope=col>&lt;fct&gt;</th><th scope=col>&lt;fct&gt;</th><th scope=col>&lt;fct&gt;</th><th scope=col>&lt;lgl&gt;</th><th scope=col>&lt;int&gt;</th><th scope=col>&lt;dbl&gt;</th><th scope=col>&lt;dbl&gt;</th><th scope=col>&lt;int&gt;</th><th scope=col>&lt;int&gt;</th><th scope=col>&lt;fct&gt;</th><th scope=col>&lt;fct&gt;</th><th scope=col>&lt;fct&gt;</th><th scope=col>&lt;fct&gt;</th><th scope=col>⋯</th><th scope=col>&lt;dbl&gt;</th><th scope=col>&lt;dbl&gt;</th><th scope=col>&lt;dbl&gt;</th><th scope=col>&lt;dbl&gt;</th><th scope=col>&lt;dbl&gt;</th><th scope=col>&lt;dbl&gt;</th><th scope=col>&lt;dbl&gt;</th><th scope=col>&lt;dbl&gt;</th><th scope=col>&lt;dbl&gt;</th><th scope=col>&lt;dbl&gt;</th><th scope=col>&lt;dbl&gt;</th><th scope=col>&lt;dbl&gt;</th><th scope=col>&lt;dbl&gt;</th><th scope=col>&lt;dbl&gt;</th><th scope=col>&lt;dbl&gt;</th><th scope=col>&lt;dbl&gt;</th><th scope=col>&lt;dbl&gt;</th><th scope=col>&lt;dbl&gt;</th><th scope=col>&lt;dbl&gt;</th><th scope=col>&lt;dbl&gt;</th><th scope=col>&lt;fct&gt;</th><th scope=col>&lt;dbl&gt;</th><th scope=col>&lt;dbl&gt;</th><th scope=col>&lt;dbl&gt;</th><th scope=col>&lt;dbl&gt;</th></tr>\n",
       "</thead>\n",
       "<tbody>\n",
       "\t<tr><th scope=row>1</th><td>1&amp;1 Internet</td><td>Germany</td><td>EU</td><td>129547106</td><td>0.5921809</td><td>agg_rf_ALL</td><td>0.5921809</td><td>agg_rf_ALL</td><td>FirstTime</td><td>1</td><td>2020-09-17</td><td>2019-09-17</td><td>Active</td><td><span style=white-space:pre-wrap>preciodeloro.online             </span></td><td>1&amp;1 Internet</td><td>NA</td><td>1</td><td> 5</td><td> 5</td><td>0</td><td>279480871</td><td>transfer</td><td>NA</td><td>Renewed</td><td>2020-01-14</td><td>⋯</td><td>0.5846861</td><td>0.554</td><td>0.5702239</td><td>0.5438008</td><td>0.5917278</td><td>0.5921809</td><td>0.5921809</td><td>0.5921809</td><td>0.5921809</td><td>0.588</td><td>0.5921809</td><td>0.574</td><td>0.5846861</td><td>0.554</td><td>0.5702239</td><td>0.5438008</td><td>0.5917278</td><td>0.5921809</td><td>0.5921809</td><td> 5</td><td><span style=white-space:pre-wrap>(3,5]  </span></td><td>0.5921809</td><td>0.5921809</td><td>0.5921809</td><td>0.5921809</td></tr>\n",
       "\t<tr><th scope=row>2</th><td>1&amp;1 Internet</td><td>Germany</td><td>EU</td><td> 76285079</td><td>0.6141844</td><td>agg_rf_ALL</td><td>0.6141844</td><td>agg_rf_ALL</td><td>FirstTime</td><td>1</td><td>2020-09-10</td><td>2018-09-10</td><td>Active</td><td><span style=white-space:pre-wrap>advance7.online                 </span></td><td>1&amp;1 Internet</td><td>NA</td><td>2</td><td>30</td><td>15</td><td>0</td><td>225404981</td><td>transfer</td><td>NA</td><td>Renewed</td><td>2019-08-27</td><td>⋯</td><td>0.6244877</td><td>0.484</td><td>0.6159490</td><td>0.4851443</td><td>0.6179782</td><td>0.6141844</td><td>0.6141844</td><td>0.6141844</td><td>0.6141844</td><td>0.572</td><td>0.6141844</td><td>0.562</td><td>0.6244877</td><td>0.484</td><td>0.6159490</td><td>0.4851443</td><td>0.6179782</td><td>0.6141844</td><td>0.6141844</td><td>15</td><td>(10,15]</td><td>0.6141844</td><td>0.6141844</td><td>0.6141844</td><td>0.6141844</td></tr>\n",
       "\t<tr><th scope=row>3</th><td>1&amp;1 Internet</td><td>Germany</td><td>EU</td><td>132626216</td><td>0.5986996</td><td>agg_rf_ALL</td><td>0.5986996</td><td>agg_rf_ALL</td><td>FirstTime</td><td>1</td><td>2020-10-02</td><td>2019-10-02</td><td>Active</td><td>stellenanzeigen-on-demand.online</td><td>1&amp;1 Internet</td><td>NA</td><td>1</td><td> 5</td><td> 5</td><td>0</td><td>323941649</td><td>renewal </td><td>NA</td><td>Renewed</td><td>2020-06-22</td><td>⋯</td><td>0.5923937</td><td>0.586</td><td>0.6187455</td><td>0.5799558</td><td>0.6340684</td><td>0.5986996</td><td>0.5986996</td><td>0.5986996</td><td>0.5986996</td><td>0.552</td><td>0.5986996</td><td>0.545</td><td>0.5923937</td><td>0.586</td><td>0.6187455</td><td>0.5799558</td><td>0.6340684</td><td>0.5986996</td><td>0.5986996</td><td> 5</td><td><span style=white-space:pre-wrap>(3,5]  </span></td><td>0.5986996</td><td>0.5986996</td><td>0.5986996</td><td>0.5986996</td></tr>\n",
       "\t<tr><th scope=row>4</th><td>1&amp;1 Internet</td><td>Germany</td><td>EU</td><td>127423021</td><td>0.4743705</td><td>agg_rf_ALL</td><td>0.4743705</td><td>agg_rf_ALL</td><td>FirstTime</td><td>1</td><td>2020-09-07</td><td>2019-09-07</td><td>Active</td><td><span style=white-space:pre-wrap>colmex.online                   </span></td><td>1&amp;1 Internet</td><td>NA</td><td>1</td><td> 5</td><td> 5</td><td>0</td><td>244331895</td><td>renewal </td><td>NA</td><td>Renewed</td><td>2019-10-28</td><td>⋯</td><td>0.4799012</td><td>0.578</td><td>0.4853137</td><td>0.5700971</td><td>0.4702835</td><td>0.4743705</td><td>0.4743705</td><td>0.4743705</td><td>0.4743705</td><td>0.602</td><td>0.4743705</td><td>0.586</td><td>0.4799012</td><td>0.578</td><td>0.4853137</td><td>0.5700971</td><td>0.4702835</td><td>0.4743705</td><td>0.4743705</td><td> 5</td><td><span style=white-space:pre-wrap>(3,5]  </span></td><td>0.4743705</td><td>0.4743705</td><td>0.4743705</td><td>0.4743705</td></tr>\n",
       "\t<tr><th scope=row>5</th><td>1&amp;1 Internet</td><td>Germany</td><td>EU</td><td>127588571</td><td>0.4919164</td><td>agg_rf_ALL</td><td>0.4919164</td><td>agg_rf_ALL</td><td>FirstTime</td><td>1</td><td>2020-09-08</td><td>2019-09-08</td><td>Active</td><td><span style=white-space:pre-wrap>chattaboxforum.online           </span></td><td>1&amp;1 Internet</td><td>NA</td><td>1</td><td> 5</td><td> 5</td><td>0</td><td>229331376</td><td>renewal </td><td>NA</td><td>Renewed</td><td>2019-09-09</td><td>⋯</td><td>0.4825344</td><td>0.554</td><td>0.4803202</td><td>0.5428917</td><td>0.4597726</td><td>0.4919164</td><td>0.4919164</td><td>0.4919164</td><td>0.4919164</td><td>0.568</td><td>0.4919164</td><td>0.553</td><td>0.4825344</td><td>0.554</td><td>0.4803202</td><td>0.5428917</td><td>0.4597726</td><td>0.4919164</td><td>0.4919164</td><td> 5</td><td><span style=white-space:pre-wrap>(3,5]  </span></td><td>0.4919164</td><td>0.4919164</td><td>0.4919164</td><td>0.4919164</td></tr>\n",
       "\t<tr><th scope=row>6</th><td>1&amp;1 Internet</td><td>Germany</td><td>EU</td><td>132629291</td><td>0.6497964</td><td>agg_rf_ALL</td><td>0.6497964</td><td>agg_rf_ALL</td><td>FirstTime</td><td>1</td><td>2020-10-02</td><td>2019-10-02</td><td>Active</td><td><span style=white-space:pre-wrap>jobpodcast.online               </span></td><td>1&amp;1 Internet</td><td>NA</td><td>1</td><td> 5</td><td> 5</td><td>0</td><td>323938864</td><td>renewal </td><td>NA</td><td>Renewed</td><td>2020-06-22</td><td>⋯</td><td>0.6369012</td><td>0.571</td><td>0.5675839</td><td>0.5590710</td><td>0.6092187</td><td>0.6497964</td><td>0.6497964</td><td>0.6497964</td><td>0.6497964</td><td>0.582</td><td>0.6497964</td><td>0.566</td><td>0.6369012</td><td>0.571</td><td>0.5675839</td><td>0.5590710</td><td>0.6092187</td><td>0.6497964</td><td>0.6497964</td><td> 5</td><td><span style=white-space:pre-wrap>(3,5]  </span></td><td>0.6497964</td><td>0.6497964</td><td>0.6497964</td><td>0.6497964</td></tr>\n",
       "</tbody>\n",
       "</table>\n"
      ],
      "text/latex": [
       "A data.frame: 6 × 65\n",
       "\\begin{tabular}{r|lllllllllllllllllllllllllllllllllllllllllllllllllll}\n",
       "  & reseller & reseller\\_country & reseller\\_geo & domain\\_id & pred\\_l10 & model\\_l10 & pred\\_auc & model\\_auc & renewal\\_type & renewed\\_count & expiry\\_date & creation\\_date & status & domain & registrar & registrant\\_country & reg\\_period & reg\\_revenue & reg\\_arpt & renew\\_mbg & renewal\\_item\\_id & renew\\_type & autorenew\\_type & renewal\\_status & renew\\_date & ⋯ & pred\\_agg\\_rf & pred\\_seg\\_glm\\_ALL & pred\\_seg\\_rf\\_ALL & pred\\_seg2\\_glm\\_ALL & pred\\_seg2\\_rf\\_ALL & pred\\_l10\\_bf & pred\\_auc\\_bf & pred\\_l10\\_fb & pred\\_auc\\_fb & pred\\_agg\\_glm\\_ALL\\_fb & pred\\_agg\\_rf\\_ALL\\_fb & pred\\_agg\\_glm\\_fb & pred\\_agg\\_rf\\_fb & pred\\_seg\\_glm\\_ALL\\_fb & pred\\_seg\\_rf\\_ALL\\_fb & pred\\_seg2\\_glm\\_ALL\\_fb & pred\\_seg2\\_rf\\_ALL\\_fb & pred\\_l10\\_bf\\_fb & pred\\_auc\\_bf\\_fb & reg\\_arpt\\_org & reg\\_arpt\\_slab & pred\\_l10\\_fb2 & pred\\_auc\\_fb2 & pred\\_l10\\_fb1 & pred\\_auc\\_fb1\\\\\n",
       "  & <fct> & <fct> & <fct> & <int> & <dbl> & <chr> & <dbl> & <chr> & <fct> & <int> & <fct> & <fct> & <fct> & <fct> & <fct> & <lgl> & <int> & <dbl> & <dbl> & <int> & <int> & <fct> & <fct> & <fct> & <fct> & ⋯ & <dbl> & <dbl> & <dbl> & <dbl> & <dbl> & <dbl> & <dbl> & <dbl> & <dbl> & <dbl> & <dbl> & <dbl> & <dbl> & <dbl> & <dbl> & <dbl> & <dbl> & <dbl> & <dbl> & <dbl> & <fct> & <dbl> & <dbl> & <dbl> & <dbl>\\\\\n",
       "\\hline\n",
       "\t1 & 1\\&1 Internet & Germany & EU & 129547106 & 0.5921809 & agg\\_rf\\_ALL & 0.5921809 & agg\\_rf\\_ALL & FirstTime & 1 & 2020-09-17 & 2019-09-17 & Active & preciodeloro.online              & 1\\&1 Internet & NA & 1 &  5 &  5 & 0 & 279480871 & transfer & NA & Renewed & 2020-01-14 & ⋯ & 0.5846861 & 0.554 & 0.5702239 & 0.5438008 & 0.5917278 & 0.5921809 & 0.5921809 & 0.5921809 & 0.5921809 & 0.588 & 0.5921809 & 0.574 & 0.5846861 & 0.554 & 0.5702239 & 0.5438008 & 0.5917278 & 0.5921809 & 0.5921809 &  5 & (3,5{]}   & 0.5921809 & 0.5921809 & 0.5921809 & 0.5921809\\\\\n",
       "\t2 & 1\\&1 Internet & Germany & EU &  76285079 & 0.6141844 & agg\\_rf\\_ALL & 0.6141844 & agg\\_rf\\_ALL & FirstTime & 1 & 2020-09-10 & 2018-09-10 & Active & advance7.online                  & 1\\&1 Internet & NA & 2 & 30 & 15 & 0 & 225404981 & transfer & NA & Renewed & 2019-08-27 & ⋯ & 0.6244877 & 0.484 & 0.6159490 & 0.4851443 & 0.6179782 & 0.6141844 & 0.6141844 & 0.6141844 & 0.6141844 & 0.572 & 0.6141844 & 0.562 & 0.6244877 & 0.484 & 0.6159490 & 0.4851443 & 0.6179782 & 0.6141844 & 0.6141844 & 15 & (10,15{]} & 0.6141844 & 0.6141844 & 0.6141844 & 0.6141844\\\\\n",
       "\t3 & 1\\&1 Internet & Germany & EU & 132626216 & 0.5986996 & agg\\_rf\\_ALL & 0.5986996 & agg\\_rf\\_ALL & FirstTime & 1 & 2020-10-02 & 2019-10-02 & Active & stellenanzeigen-on-demand.online & 1\\&1 Internet & NA & 1 &  5 &  5 & 0 & 323941649 & renewal  & NA & Renewed & 2020-06-22 & ⋯ & 0.5923937 & 0.586 & 0.6187455 & 0.5799558 & 0.6340684 & 0.5986996 & 0.5986996 & 0.5986996 & 0.5986996 & 0.552 & 0.5986996 & 0.545 & 0.5923937 & 0.586 & 0.6187455 & 0.5799558 & 0.6340684 & 0.5986996 & 0.5986996 &  5 & (3,5{]}   & 0.5986996 & 0.5986996 & 0.5986996 & 0.5986996\\\\\n",
       "\t4 & 1\\&1 Internet & Germany & EU & 127423021 & 0.4743705 & agg\\_rf\\_ALL & 0.4743705 & agg\\_rf\\_ALL & FirstTime & 1 & 2020-09-07 & 2019-09-07 & Active & colmex.online                    & 1\\&1 Internet & NA & 1 &  5 &  5 & 0 & 244331895 & renewal  & NA & Renewed & 2019-10-28 & ⋯ & 0.4799012 & 0.578 & 0.4853137 & 0.5700971 & 0.4702835 & 0.4743705 & 0.4743705 & 0.4743705 & 0.4743705 & 0.602 & 0.4743705 & 0.586 & 0.4799012 & 0.578 & 0.4853137 & 0.5700971 & 0.4702835 & 0.4743705 & 0.4743705 &  5 & (3,5{]}   & 0.4743705 & 0.4743705 & 0.4743705 & 0.4743705\\\\\n",
       "\t5 & 1\\&1 Internet & Germany & EU & 127588571 & 0.4919164 & agg\\_rf\\_ALL & 0.4919164 & agg\\_rf\\_ALL & FirstTime & 1 & 2020-09-08 & 2019-09-08 & Active & chattaboxforum.online            & 1\\&1 Internet & NA & 1 &  5 &  5 & 0 & 229331376 & renewal  & NA & Renewed & 2019-09-09 & ⋯ & 0.4825344 & 0.554 & 0.4803202 & 0.5428917 & 0.4597726 & 0.4919164 & 0.4919164 & 0.4919164 & 0.4919164 & 0.568 & 0.4919164 & 0.553 & 0.4825344 & 0.554 & 0.4803202 & 0.5428917 & 0.4597726 & 0.4919164 & 0.4919164 &  5 & (3,5{]}   & 0.4919164 & 0.4919164 & 0.4919164 & 0.4919164\\\\\n",
       "\t6 & 1\\&1 Internet & Germany & EU & 132629291 & 0.6497964 & agg\\_rf\\_ALL & 0.6497964 & agg\\_rf\\_ALL & FirstTime & 1 & 2020-10-02 & 2019-10-02 & Active & jobpodcast.online                & 1\\&1 Internet & NA & 1 &  5 &  5 & 0 & 323938864 & renewal  & NA & Renewed & 2020-06-22 & ⋯ & 0.6369012 & 0.571 & 0.5675839 & 0.5590710 & 0.6092187 & 0.6497964 & 0.6497964 & 0.6497964 & 0.6497964 & 0.582 & 0.6497964 & 0.566 & 0.6369012 & 0.571 & 0.5675839 & 0.5590710 & 0.6092187 & 0.6497964 & 0.6497964 &  5 & (3,5{]}   & 0.6497964 & 0.6497964 & 0.6497964 & 0.6497964\\\\\n",
       "\\end{tabular}\n"
      ],
      "text/markdown": [
       "\n",
       "A data.frame: 6 × 65\n",
       "\n",
       "| <!--/--> | reseller &lt;fct&gt; | reseller_country &lt;fct&gt; | reseller_geo &lt;fct&gt; | domain_id &lt;int&gt; | pred_l10 &lt;dbl&gt; | model_l10 &lt;chr&gt; | pred_auc &lt;dbl&gt; | model_auc &lt;chr&gt; | renewal_type &lt;fct&gt; | renewed_count &lt;int&gt; | expiry_date &lt;fct&gt; | creation_date &lt;fct&gt; | status &lt;fct&gt; | domain &lt;fct&gt; | registrar &lt;fct&gt; | registrant_country &lt;lgl&gt; | reg_period &lt;int&gt; | reg_revenue &lt;dbl&gt; | reg_arpt &lt;dbl&gt; | renew_mbg &lt;int&gt; | renewal_item_id &lt;int&gt; | renew_type &lt;fct&gt; | autorenew_type &lt;fct&gt; | renewal_status &lt;fct&gt; | renew_date &lt;fct&gt; | ⋯ ⋯ | pred_agg_rf &lt;dbl&gt; | pred_seg_glm_ALL &lt;dbl&gt; | pred_seg_rf_ALL &lt;dbl&gt; | pred_seg2_glm_ALL &lt;dbl&gt; | pred_seg2_rf_ALL &lt;dbl&gt; | pred_l10_bf &lt;dbl&gt; | pred_auc_bf &lt;dbl&gt; | pred_l10_fb &lt;dbl&gt; | pred_auc_fb &lt;dbl&gt; | pred_agg_glm_ALL_fb &lt;dbl&gt; | pred_agg_rf_ALL_fb &lt;dbl&gt; | pred_agg_glm_fb &lt;dbl&gt; | pred_agg_rf_fb &lt;dbl&gt; | pred_seg_glm_ALL_fb &lt;dbl&gt; | pred_seg_rf_ALL_fb &lt;dbl&gt; | pred_seg2_glm_ALL_fb &lt;dbl&gt; | pred_seg2_rf_ALL_fb &lt;dbl&gt; | pred_l10_bf_fb &lt;dbl&gt; | pred_auc_bf_fb &lt;dbl&gt; | reg_arpt_org &lt;dbl&gt; | reg_arpt_slab &lt;fct&gt; | pred_l10_fb2 &lt;dbl&gt; | pred_auc_fb2 &lt;dbl&gt; | pred_l10_fb1 &lt;dbl&gt; | pred_auc_fb1 &lt;dbl&gt; |\n",
       "|---|---|---|---|---|---|---|---|---|---|---|---|---|---|---|---|---|---|---|---|---|---|---|---|---|---|---|---|---|---|---|---|---|---|---|---|---|---|---|---|---|---|---|---|---|---|---|---|---|---|---|---|\n",
       "| 1 | 1&amp;1 Internet | Germany | EU | 129547106 | 0.5921809 | agg_rf_ALL | 0.5921809 | agg_rf_ALL | FirstTime | 1 | 2020-09-17 | 2019-09-17 | Active | preciodeloro.online              | 1&amp;1 Internet | NA | 1 |  5 |  5 | 0 | 279480871 | transfer | NA | Renewed | 2020-01-14 | ⋯ | 0.5846861 | 0.554 | 0.5702239 | 0.5438008 | 0.5917278 | 0.5921809 | 0.5921809 | 0.5921809 | 0.5921809 | 0.588 | 0.5921809 | 0.574 | 0.5846861 | 0.554 | 0.5702239 | 0.5438008 | 0.5917278 | 0.5921809 | 0.5921809 |  5 | (3,5]   | 0.5921809 | 0.5921809 | 0.5921809 | 0.5921809 |\n",
       "| 2 | 1&amp;1 Internet | Germany | EU |  76285079 | 0.6141844 | agg_rf_ALL | 0.6141844 | agg_rf_ALL | FirstTime | 1 | 2020-09-10 | 2018-09-10 | Active | advance7.online                  | 1&amp;1 Internet | NA | 2 | 30 | 15 | 0 | 225404981 | transfer | NA | Renewed | 2019-08-27 | ⋯ | 0.6244877 | 0.484 | 0.6159490 | 0.4851443 | 0.6179782 | 0.6141844 | 0.6141844 | 0.6141844 | 0.6141844 | 0.572 | 0.6141844 | 0.562 | 0.6244877 | 0.484 | 0.6159490 | 0.4851443 | 0.6179782 | 0.6141844 | 0.6141844 | 15 | (10,15] | 0.6141844 | 0.6141844 | 0.6141844 | 0.6141844 |\n",
       "| 3 | 1&amp;1 Internet | Germany | EU | 132626216 | 0.5986996 | agg_rf_ALL | 0.5986996 | agg_rf_ALL | FirstTime | 1 | 2020-10-02 | 2019-10-02 | Active | stellenanzeigen-on-demand.online | 1&amp;1 Internet | NA | 1 |  5 |  5 | 0 | 323941649 | renewal  | NA | Renewed | 2020-06-22 | ⋯ | 0.5923937 | 0.586 | 0.6187455 | 0.5799558 | 0.6340684 | 0.5986996 | 0.5986996 | 0.5986996 | 0.5986996 | 0.552 | 0.5986996 | 0.545 | 0.5923937 | 0.586 | 0.6187455 | 0.5799558 | 0.6340684 | 0.5986996 | 0.5986996 |  5 | (3,5]   | 0.5986996 | 0.5986996 | 0.5986996 | 0.5986996 |\n",
       "| 4 | 1&amp;1 Internet | Germany | EU | 127423021 | 0.4743705 | agg_rf_ALL | 0.4743705 | agg_rf_ALL | FirstTime | 1 | 2020-09-07 | 2019-09-07 | Active | colmex.online                    | 1&amp;1 Internet | NA | 1 |  5 |  5 | 0 | 244331895 | renewal  | NA | Renewed | 2019-10-28 | ⋯ | 0.4799012 | 0.578 | 0.4853137 | 0.5700971 | 0.4702835 | 0.4743705 | 0.4743705 | 0.4743705 | 0.4743705 | 0.602 | 0.4743705 | 0.586 | 0.4799012 | 0.578 | 0.4853137 | 0.5700971 | 0.4702835 | 0.4743705 | 0.4743705 |  5 | (3,5]   | 0.4743705 | 0.4743705 | 0.4743705 | 0.4743705 |\n",
       "| 5 | 1&amp;1 Internet | Germany | EU | 127588571 | 0.4919164 | agg_rf_ALL | 0.4919164 | agg_rf_ALL | FirstTime | 1 | 2020-09-08 | 2019-09-08 | Active | chattaboxforum.online            | 1&amp;1 Internet | NA | 1 |  5 |  5 | 0 | 229331376 | renewal  | NA | Renewed | 2019-09-09 | ⋯ | 0.4825344 | 0.554 | 0.4803202 | 0.5428917 | 0.4597726 | 0.4919164 | 0.4919164 | 0.4919164 | 0.4919164 | 0.568 | 0.4919164 | 0.553 | 0.4825344 | 0.554 | 0.4803202 | 0.5428917 | 0.4597726 | 0.4919164 | 0.4919164 |  5 | (3,5]   | 0.4919164 | 0.4919164 | 0.4919164 | 0.4919164 |\n",
       "| 6 | 1&amp;1 Internet | Germany | EU | 132629291 | 0.6497964 | agg_rf_ALL | 0.6497964 | agg_rf_ALL | FirstTime | 1 | 2020-10-02 | 2019-10-02 | Active | jobpodcast.online                | 1&amp;1 Internet | NA | 1 |  5 |  5 | 0 | 323938864 | renewal  | NA | Renewed | 2020-06-22 | ⋯ | 0.6369012 | 0.571 | 0.5675839 | 0.5590710 | 0.6092187 | 0.6497964 | 0.6497964 | 0.6497964 | 0.6497964 | 0.582 | 0.6497964 | 0.566 | 0.6369012 | 0.571 | 0.5675839 | 0.5590710 | 0.6092187 | 0.6497964 | 0.6497964 |  5 | (3,5]   | 0.6497964 | 0.6497964 | 0.6497964 | 0.6497964 |\n",
       "\n"
      ],
      "text/plain": [
       "  reseller     reseller_country reseller_geo domain_id pred_l10  model_l10 \n",
       "1 1&1 Internet Germany          EU           129547106 0.5921809 agg_rf_ALL\n",
       "2 1&1 Internet Germany          EU            76285079 0.6141844 agg_rf_ALL\n",
       "3 1&1 Internet Germany          EU           132626216 0.5986996 agg_rf_ALL\n",
       "4 1&1 Internet Germany          EU           127423021 0.4743705 agg_rf_ALL\n",
       "5 1&1 Internet Germany          EU           127588571 0.4919164 agg_rf_ALL\n",
       "6 1&1 Internet Germany          EU           132629291 0.6497964 agg_rf_ALL\n",
       "  pred_auc  model_auc  renewal_type renewed_count expiry_date creation_date\n",
       "1 0.5921809 agg_rf_ALL FirstTime    1             2020-09-17  2019-09-17   \n",
       "2 0.6141844 agg_rf_ALL FirstTime    1             2020-09-10  2018-09-10   \n",
       "3 0.5986996 agg_rf_ALL FirstTime    1             2020-10-02  2019-10-02   \n",
       "4 0.4743705 agg_rf_ALL FirstTime    1             2020-09-07  2019-09-07   \n",
       "5 0.4919164 agg_rf_ALL FirstTime    1             2020-09-08  2019-09-08   \n",
       "6 0.6497964 agg_rf_ALL FirstTime    1             2020-10-02  2019-10-02   \n",
       "  status domain                           registrar    registrant_country\n",
       "1 Active preciodeloro.online              1&1 Internet NA                \n",
       "2 Active advance7.online                  1&1 Internet NA                \n",
       "3 Active stellenanzeigen-on-demand.online 1&1 Internet NA                \n",
       "4 Active colmex.online                    1&1 Internet NA                \n",
       "5 Active chattaboxforum.online            1&1 Internet NA                \n",
       "6 Active jobpodcast.online                1&1 Internet NA                \n",
       "  reg_period reg_revenue reg_arpt renew_mbg renewal_item_id renew_type\n",
       "1 1           5           5       0         279480871       transfer  \n",
       "2 2          30          15       0         225404981       transfer  \n",
       "3 1           5           5       0         323941649       renewal   \n",
       "4 1           5           5       0         244331895       renewal   \n",
       "5 1           5           5       0         229331376       renewal   \n",
       "6 1           5           5       0         323938864       renewal   \n",
       "  autorenew_type renewal_status renew_date ⋯ pred_agg_rf pred_seg_glm_ALL\n",
       "1 NA             Renewed        2020-01-14 ⋯ 0.5846861   0.554           \n",
       "2 NA             Renewed        2019-08-27 ⋯ 0.6244877   0.484           \n",
       "3 NA             Renewed        2020-06-22 ⋯ 0.5923937   0.586           \n",
       "4 NA             Renewed        2019-10-28 ⋯ 0.4799012   0.578           \n",
       "5 NA             Renewed        2019-09-09 ⋯ 0.4825344   0.554           \n",
       "6 NA             Renewed        2020-06-22 ⋯ 0.6369012   0.571           \n",
       "  pred_seg_rf_ALL pred_seg2_glm_ALL pred_seg2_rf_ALL pred_l10_bf pred_auc_bf\n",
       "1 0.5702239       0.5438008         0.5917278        0.5921809   0.5921809  \n",
       "2 0.6159490       0.4851443         0.6179782        0.6141844   0.6141844  \n",
       "3 0.6187455       0.5799558         0.6340684        0.5986996   0.5986996  \n",
       "4 0.4853137       0.5700971         0.4702835        0.4743705   0.4743705  \n",
       "5 0.4803202       0.5428917         0.4597726        0.4919164   0.4919164  \n",
       "6 0.5675839       0.5590710         0.6092187        0.6497964   0.6497964  \n",
       "  pred_l10_fb pred_auc_fb pred_agg_glm_ALL_fb pred_agg_rf_ALL_fb\n",
       "1 0.5921809   0.5921809   0.588               0.5921809         \n",
       "2 0.6141844   0.6141844   0.572               0.6141844         \n",
       "3 0.5986996   0.5986996   0.552               0.5986996         \n",
       "4 0.4743705   0.4743705   0.602               0.4743705         \n",
       "5 0.4919164   0.4919164   0.568               0.4919164         \n",
       "6 0.6497964   0.6497964   0.582               0.6497964         \n",
       "  pred_agg_glm_fb pred_agg_rf_fb pred_seg_glm_ALL_fb pred_seg_rf_ALL_fb\n",
       "1 0.574           0.5846861      0.554               0.5702239         \n",
       "2 0.562           0.6244877      0.484               0.6159490         \n",
       "3 0.545           0.5923937      0.586               0.6187455         \n",
       "4 0.586           0.4799012      0.578               0.4853137         \n",
       "5 0.553           0.4825344      0.554               0.4803202         \n",
       "6 0.566           0.6369012      0.571               0.5675839         \n",
       "  pred_seg2_glm_ALL_fb pred_seg2_rf_ALL_fb pred_l10_bf_fb pred_auc_bf_fb\n",
       "1 0.5438008            0.5917278           0.5921809      0.5921809     \n",
       "2 0.4851443            0.6179782           0.6141844      0.6141844     \n",
       "3 0.5799558            0.6340684           0.5986996      0.5986996     \n",
       "4 0.5700971            0.4702835           0.4743705      0.4743705     \n",
       "5 0.5428917            0.4597726           0.4919164      0.4919164     \n",
       "6 0.5590710            0.6092187           0.6497964      0.6497964     \n",
       "  reg_arpt_org reg_arpt_slab pred_l10_fb2 pred_auc_fb2 pred_l10_fb1\n",
       "1  5           (3,5]         0.5921809    0.5921809    0.5921809   \n",
       "2 15           (10,15]       0.6141844    0.6141844    0.6141844   \n",
       "3  5           (3,5]         0.5986996    0.5986996    0.5986996   \n",
       "4  5           (3,5]         0.4743705    0.4743705    0.4743705   \n",
       "5  5           (3,5]         0.4919164    0.4919164    0.4919164   \n",
       "6  5           (3,5]         0.6497964    0.6497964    0.6497964   \n",
       "  pred_auc_fb1\n",
       "1 0.5921809   \n",
       "2 0.6141844   \n",
       "3 0.5986996   \n",
       "4 0.4743705   \n",
       "5 0.4919164   \n",
       "6 0.6497964   "
      ]
     },
     "metadata": {},
     "output_type": "display_data"
    }
   ],
   "source": [
    "dim(preds_all)\n",
    "head(preds_all)"
   ]
  },
  {
   "cell_type": "code",
   "execution_count": 37,
   "metadata": {},
   "outputs": [
    {
     "name": "stdout",
     "output_type": "stream",
     "text": [
      " Date[1:430867], format: \"2020-09-17\" \"2020-09-10\" \"2020-10-02\" \"2020-09-07\" \"2020-09-08\" ...\n"
     ]
    },
    {
     "data": {
      "text/html": [
       "<table>\n",
       "<caption>A data.frame: 6 × 65</caption>\n",
       "<thead>\n",
       "\t<tr><th></th><th scope=col>reseller</th><th scope=col>reseller_country</th><th scope=col>reseller_geo</th><th scope=col>domain_id</th><th scope=col>pred_l10</th><th scope=col>model_l10</th><th scope=col>pred_auc</th><th scope=col>model_auc</th><th scope=col>renewal_type</th><th scope=col>renewed_count</th><th scope=col>expiry_date</th><th scope=col>creation_date</th><th scope=col>status</th><th scope=col>domain</th><th scope=col>registrar</th><th scope=col>registrant_country</th><th scope=col>reg_period</th><th scope=col>reg_revenue</th><th scope=col>reg_arpt</th><th scope=col>renew_mbg</th><th scope=col>renewal_item_id</th><th scope=col>renew_type</th><th scope=col>autorenew_type</th><th scope=col>renewal_status</th><th scope=col>renew_date</th><th scope=col>⋯</th><th scope=col>pred_agg_rf</th><th scope=col>pred_seg_glm_ALL</th><th scope=col>pred_seg_rf_ALL</th><th scope=col>pred_seg2_glm_ALL</th><th scope=col>pred_seg2_rf_ALL</th><th scope=col>pred_l10_bf</th><th scope=col>pred_auc_bf</th><th scope=col>pred_l10_fb</th><th scope=col>pred_auc_fb</th><th scope=col>pred_agg_glm_ALL_fb</th><th scope=col>pred_agg_rf_ALL_fb</th><th scope=col>pred_agg_glm_fb</th><th scope=col>pred_agg_rf_fb</th><th scope=col>pred_seg_glm_ALL_fb</th><th scope=col>pred_seg_rf_ALL_fb</th><th scope=col>pred_seg2_glm_ALL_fb</th><th scope=col>pred_seg2_rf_ALL_fb</th><th scope=col>pred_l10_bf_fb</th><th scope=col>pred_auc_bf_fb</th><th scope=col>reg_arpt_org</th><th scope=col>reg_arpt_slab</th><th scope=col>pred_l10_fb2</th><th scope=col>pred_auc_fb2</th><th scope=col>pred_l10_fb1</th><th scope=col>pred_auc_fb1</th></tr>\n",
       "\t<tr><th></th><th scope=col>&lt;fct&gt;</th><th scope=col>&lt;fct&gt;</th><th scope=col>&lt;fct&gt;</th><th scope=col>&lt;int&gt;</th><th scope=col>&lt;dbl&gt;</th><th scope=col>&lt;chr&gt;</th><th scope=col>&lt;dbl&gt;</th><th scope=col>&lt;chr&gt;</th><th scope=col>&lt;fct&gt;</th><th scope=col>&lt;int&gt;</th><th scope=col>&lt;date&gt;</th><th scope=col>&lt;fct&gt;</th><th scope=col>&lt;fct&gt;</th><th scope=col>&lt;fct&gt;</th><th scope=col>&lt;fct&gt;</th><th scope=col>&lt;lgl&gt;</th><th scope=col>&lt;int&gt;</th><th scope=col>&lt;dbl&gt;</th><th scope=col>&lt;dbl&gt;</th><th scope=col>&lt;int&gt;</th><th scope=col>&lt;int&gt;</th><th scope=col>&lt;fct&gt;</th><th scope=col>&lt;fct&gt;</th><th scope=col>&lt;fct&gt;</th><th scope=col>&lt;fct&gt;</th><th scope=col>⋯</th><th scope=col>&lt;dbl&gt;</th><th scope=col>&lt;dbl&gt;</th><th scope=col>&lt;dbl&gt;</th><th scope=col>&lt;dbl&gt;</th><th scope=col>&lt;dbl&gt;</th><th scope=col>&lt;dbl&gt;</th><th scope=col>&lt;dbl&gt;</th><th scope=col>&lt;dbl&gt;</th><th scope=col>&lt;dbl&gt;</th><th scope=col>&lt;dbl&gt;</th><th scope=col>&lt;dbl&gt;</th><th scope=col>&lt;dbl&gt;</th><th scope=col>&lt;dbl&gt;</th><th scope=col>&lt;dbl&gt;</th><th scope=col>&lt;dbl&gt;</th><th scope=col>&lt;dbl&gt;</th><th scope=col>&lt;dbl&gt;</th><th scope=col>&lt;dbl&gt;</th><th scope=col>&lt;dbl&gt;</th><th scope=col>&lt;dbl&gt;</th><th scope=col>&lt;fct&gt;</th><th scope=col>&lt;dbl&gt;</th><th scope=col>&lt;dbl&gt;</th><th scope=col>&lt;dbl&gt;</th><th scope=col>&lt;dbl&gt;</th></tr>\n",
       "</thead>\n",
       "<tbody>\n",
       "\t<tr><th scope=row>1</th><td>1&amp;1 Internet</td><td>Germany</td><td>EU</td><td>129547106</td><td>0.5921809</td><td>agg_rf_ALL</td><td>0.5921809</td><td>agg_rf_ALL</td><td>FirstTime</td><td>1</td><td>2020-09-17</td><td>2019-09-17</td><td>Active</td><td><span style=white-space:pre-wrap>preciodeloro.online             </span></td><td>1&amp;1 Internet</td><td>NA</td><td>1</td><td> 5</td><td> 5</td><td>0</td><td>279480871</td><td>transfer</td><td>NA</td><td>Renewed</td><td>2020-01-14</td><td>⋯</td><td>0.5846861</td><td>0.554</td><td>0.5702239</td><td>0.5438008</td><td>0.5917278</td><td>0.5921809</td><td>0.5921809</td><td>0.5921809</td><td>0.5921809</td><td>0.588</td><td>0.5921809</td><td>0.574</td><td>0.5846861</td><td>0.554</td><td>0.5702239</td><td>0.5438008</td><td>0.5917278</td><td>0.5921809</td><td>0.5921809</td><td> 5</td><td><span style=white-space:pre-wrap>(3,5]  </span></td><td>0.5921809</td><td>0.5921809</td><td>0.5921809</td><td>0.5921809</td></tr>\n",
       "\t<tr><th scope=row>2</th><td>1&amp;1 Internet</td><td>Germany</td><td>EU</td><td> 76285079</td><td>0.6141844</td><td>agg_rf_ALL</td><td>0.6141844</td><td>agg_rf_ALL</td><td>FirstTime</td><td>1</td><td>2020-09-10</td><td>2018-09-10</td><td>Active</td><td><span style=white-space:pre-wrap>advance7.online                 </span></td><td>1&amp;1 Internet</td><td>NA</td><td>2</td><td>30</td><td>15</td><td>0</td><td>225404981</td><td>transfer</td><td>NA</td><td>Renewed</td><td>2019-08-27</td><td>⋯</td><td>0.6244877</td><td>0.484</td><td>0.6159490</td><td>0.4851443</td><td>0.6179782</td><td>0.6141844</td><td>0.6141844</td><td>0.6141844</td><td>0.6141844</td><td>0.572</td><td>0.6141844</td><td>0.562</td><td>0.6244877</td><td>0.484</td><td>0.6159490</td><td>0.4851443</td><td>0.6179782</td><td>0.6141844</td><td>0.6141844</td><td>15</td><td>(10,15]</td><td>0.6141844</td><td>0.6141844</td><td>0.6141844</td><td>0.6141844</td></tr>\n",
       "\t<tr><th scope=row>3</th><td>1&amp;1 Internet</td><td>Germany</td><td>EU</td><td>132626216</td><td>0.5986996</td><td>agg_rf_ALL</td><td>0.5986996</td><td>agg_rf_ALL</td><td>FirstTime</td><td>1</td><td>2020-10-02</td><td>2019-10-02</td><td>Active</td><td>stellenanzeigen-on-demand.online</td><td>1&amp;1 Internet</td><td>NA</td><td>1</td><td> 5</td><td> 5</td><td>0</td><td>323941649</td><td>renewal </td><td>NA</td><td>Renewed</td><td>2020-06-22</td><td>⋯</td><td>0.5923937</td><td>0.586</td><td>0.6187455</td><td>0.5799558</td><td>0.6340684</td><td>0.5986996</td><td>0.5986996</td><td>0.5986996</td><td>0.5986996</td><td>0.552</td><td>0.5986996</td><td>0.545</td><td>0.5923937</td><td>0.586</td><td>0.6187455</td><td>0.5799558</td><td>0.6340684</td><td>0.5986996</td><td>0.5986996</td><td> 5</td><td><span style=white-space:pre-wrap>(3,5]  </span></td><td>0.5986996</td><td>0.5986996</td><td>0.5986996</td><td>0.5986996</td></tr>\n",
       "\t<tr><th scope=row>4</th><td>1&amp;1 Internet</td><td>Germany</td><td>EU</td><td>127423021</td><td>0.4743705</td><td>agg_rf_ALL</td><td>0.4743705</td><td>agg_rf_ALL</td><td>FirstTime</td><td>1</td><td>2020-09-07</td><td>2019-09-07</td><td>Active</td><td><span style=white-space:pre-wrap>colmex.online                   </span></td><td>1&amp;1 Internet</td><td>NA</td><td>1</td><td> 5</td><td> 5</td><td>0</td><td>244331895</td><td>renewal </td><td>NA</td><td>Renewed</td><td>2019-10-28</td><td>⋯</td><td>0.4799012</td><td>0.578</td><td>0.4853137</td><td>0.5700971</td><td>0.4702835</td><td>0.4743705</td><td>0.4743705</td><td>0.4743705</td><td>0.4743705</td><td>0.602</td><td>0.4743705</td><td>0.586</td><td>0.4799012</td><td>0.578</td><td>0.4853137</td><td>0.5700971</td><td>0.4702835</td><td>0.4743705</td><td>0.4743705</td><td> 5</td><td><span style=white-space:pre-wrap>(3,5]  </span></td><td>0.4743705</td><td>0.4743705</td><td>0.4743705</td><td>0.4743705</td></tr>\n",
       "\t<tr><th scope=row>5</th><td>1&amp;1 Internet</td><td>Germany</td><td>EU</td><td>127588571</td><td>0.4919164</td><td>agg_rf_ALL</td><td>0.4919164</td><td>agg_rf_ALL</td><td>FirstTime</td><td>1</td><td>2020-09-08</td><td>2019-09-08</td><td>Active</td><td><span style=white-space:pre-wrap>chattaboxforum.online           </span></td><td>1&amp;1 Internet</td><td>NA</td><td>1</td><td> 5</td><td> 5</td><td>0</td><td>229331376</td><td>renewal </td><td>NA</td><td>Renewed</td><td>2019-09-09</td><td>⋯</td><td>0.4825344</td><td>0.554</td><td>0.4803202</td><td>0.5428917</td><td>0.4597726</td><td>0.4919164</td><td>0.4919164</td><td>0.4919164</td><td>0.4919164</td><td>0.568</td><td>0.4919164</td><td>0.553</td><td>0.4825344</td><td>0.554</td><td>0.4803202</td><td>0.5428917</td><td>0.4597726</td><td>0.4919164</td><td>0.4919164</td><td> 5</td><td><span style=white-space:pre-wrap>(3,5]  </span></td><td>0.4919164</td><td>0.4919164</td><td>0.4919164</td><td>0.4919164</td></tr>\n",
       "\t<tr><th scope=row>6</th><td>1&amp;1 Internet</td><td>Germany</td><td>EU</td><td>132629291</td><td>0.6497964</td><td>agg_rf_ALL</td><td>0.6497964</td><td>agg_rf_ALL</td><td>FirstTime</td><td>1</td><td>2020-10-02</td><td>2019-10-02</td><td>Active</td><td><span style=white-space:pre-wrap>jobpodcast.online               </span></td><td>1&amp;1 Internet</td><td>NA</td><td>1</td><td> 5</td><td> 5</td><td>0</td><td>323938864</td><td>renewal </td><td>NA</td><td>Renewed</td><td>2020-06-22</td><td>⋯</td><td>0.6369012</td><td>0.571</td><td>0.5675839</td><td>0.5590710</td><td>0.6092187</td><td>0.6497964</td><td>0.6497964</td><td>0.6497964</td><td>0.6497964</td><td>0.582</td><td>0.6497964</td><td>0.566</td><td>0.6369012</td><td>0.571</td><td>0.5675839</td><td>0.5590710</td><td>0.6092187</td><td>0.6497964</td><td>0.6497964</td><td> 5</td><td><span style=white-space:pre-wrap>(3,5]  </span></td><td>0.6497964</td><td>0.6497964</td><td>0.6497964</td><td>0.6497964</td></tr>\n",
       "</tbody>\n",
       "</table>\n"
      ],
      "text/latex": [
       "A data.frame: 6 × 65\n",
       "\\begin{tabular}{r|lllllllllllllllllllllllllllllllllllllllllllllllllll}\n",
       "  & reseller & reseller\\_country & reseller\\_geo & domain\\_id & pred\\_l10 & model\\_l10 & pred\\_auc & model\\_auc & renewal\\_type & renewed\\_count & expiry\\_date & creation\\_date & status & domain & registrar & registrant\\_country & reg\\_period & reg\\_revenue & reg\\_arpt & renew\\_mbg & renewal\\_item\\_id & renew\\_type & autorenew\\_type & renewal\\_status & renew\\_date & ⋯ & pred\\_agg\\_rf & pred\\_seg\\_glm\\_ALL & pred\\_seg\\_rf\\_ALL & pred\\_seg2\\_glm\\_ALL & pred\\_seg2\\_rf\\_ALL & pred\\_l10\\_bf & pred\\_auc\\_bf & pred\\_l10\\_fb & pred\\_auc\\_fb & pred\\_agg\\_glm\\_ALL\\_fb & pred\\_agg\\_rf\\_ALL\\_fb & pred\\_agg\\_glm\\_fb & pred\\_agg\\_rf\\_fb & pred\\_seg\\_glm\\_ALL\\_fb & pred\\_seg\\_rf\\_ALL\\_fb & pred\\_seg2\\_glm\\_ALL\\_fb & pred\\_seg2\\_rf\\_ALL\\_fb & pred\\_l10\\_bf\\_fb & pred\\_auc\\_bf\\_fb & reg\\_arpt\\_org & reg\\_arpt\\_slab & pred\\_l10\\_fb2 & pred\\_auc\\_fb2 & pred\\_l10\\_fb1 & pred\\_auc\\_fb1\\\\\n",
       "  & <fct> & <fct> & <fct> & <int> & <dbl> & <chr> & <dbl> & <chr> & <fct> & <int> & <date> & <fct> & <fct> & <fct> & <fct> & <lgl> & <int> & <dbl> & <dbl> & <int> & <int> & <fct> & <fct> & <fct> & <fct> & ⋯ & <dbl> & <dbl> & <dbl> & <dbl> & <dbl> & <dbl> & <dbl> & <dbl> & <dbl> & <dbl> & <dbl> & <dbl> & <dbl> & <dbl> & <dbl> & <dbl> & <dbl> & <dbl> & <dbl> & <dbl> & <fct> & <dbl> & <dbl> & <dbl> & <dbl>\\\\\n",
       "\\hline\n",
       "\t1 & 1\\&1 Internet & Germany & EU & 129547106 & 0.5921809 & agg\\_rf\\_ALL & 0.5921809 & agg\\_rf\\_ALL & FirstTime & 1 & 2020-09-17 & 2019-09-17 & Active & preciodeloro.online              & 1\\&1 Internet & NA & 1 &  5 &  5 & 0 & 279480871 & transfer & NA & Renewed & 2020-01-14 & ⋯ & 0.5846861 & 0.554 & 0.5702239 & 0.5438008 & 0.5917278 & 0.5921809 & 0.5921809 & 0.5921809 & 0.5921809 & 0.588 & 0.5921809 & 0.574 & 0.5846861 & 0.554 & 0.5702239 & 0.5438008 & 0.5917278 & 0.5921809 & 0.5921809 &  5 & (3,5{]}   & 0.5921809 & 0.5921809 & 0.5921809 & 0.5921809\\\\\n",
       "\t2 & 1\\&1 Internet & Germany & EU &  76285079 & 0.6141844 & agg\\_rf\\_ALL & 0.6141844 & agg\\_rf\\_ALL & FirstTime & 1 & 2020-09-10 & 2018-09-10 & Active & advance7.online                  & 1\\&1 Internet & NA & 2 & 30 & 15 & 0 & 225404981 & transfer & NA & Renewed & 2019-08-27 & ⋯ & 0.6244877 & 0.484 & 0.6159490 & 0.4851443 & 0.6179782 & 0.6141844 & 0.6141844 & 0.6141844 & 0.6141844 & 0.572 & 0.6141844 & 0.562 & 0.6244877 & 0.484 & 0.6159490 & 0.4851443 & 0.6179782 & 0.6141844 & 0.6141844 & 15 & (10,15{]} & 0.6141844 & 0.6141844 & 0.6141844 & 0.6141844\\\\\n",
       "\t3 & 1\\&1 Internet & Germany & EU & 132626216 & 0.5986996 & agg\\_rf\\_ALL & 0.5986996 & agg\\_rf\\_ALL & FirstTime & 1 & 2020-10-02 & 2019-10-02 & Active & stellenanzeigen-on-demand.online & 1\\&1 Internet & NA & 1 &  5 &  5 & 0 & 323941649 & renewal  & NA & Renewed & 2020-06-22 & ⋯ & 0.5923937 & 0.586 & 0.6187455 & 0.5799558 & 0.6340684 & 0.5986996 & 0.5986996 & 0.5986996 & 0.5986996 & 0.552 & 0.5986996 & 0.545 & 0.5923937 & 0.586 & 0.6187455 & 0.5799558 & 0.6340684 & 0.5986996 & 0.5986996 &  5 & (3,5{]}   & 0.5986996 & 0.5986996 & 0.5986996 & 0.5986996\\\\\n",
       "\t4 & 1\\&1 Internet & Germany & EU & 127423021 & 0.4743705 & agg\\_rf\\_ALL & 0.4743705 & agg\\_rf\\_ALL & FirstTime & 1 & 2020-09-07 & 2019-09-07 & Active & colmex.online                    & 1\\&1 Internet & NA & 1 &  5 &  5 & 0 & 244331895 & renewal  & NA & Renewed & 2019-10-28 & ⋯ & 0.4799012 & 0.578 & 0.4853137 & 0.5700971 & 0.4702835 & 0.4743705 & 0.4743705 & 0.4743705 & 0.4743705 & 0.602 & 0.4743705 & 0.586 & 0.4799012 & 0.578 & 0.4853137 & 0.5700971 & 0.4702835 & 0.4743705 & 0.4743705 &  5 & (3,5{]}   & 0.4743705 & 0.4743705 & 0.4743705 & 0.4743705\\\\\n",
       "\t5 & 1\\&1 Internet & Germany & EU & 127588571 & 0.4919164 & agg\\_rf\\_ALL & 0.4919164 & agg\\_rf\\_ALL & FirstTime & 1 & 2020-09-08 & 2019-09-08 & Active & chattaboxforum.online            & 1\\&1 Internet & NA & 1 &  5 &  5 & 0 & 229331376 & renewal  & NA & Renewed & 2019-09-09 & ⋯ & 0.4825344 & 0.554 & 0.4803202 & 0.5428917 & 0.4597726 & 0.4919164 & 0.4919164 & 0.4919164 & 0.4919164 & 0.568 & 0.4919164 & 0.553 & 0.4825344 & 0.554 & 0.4803202 & 0.5428917 & 0.4597726 & 0.4919164 & 0.4919164 &  5 & (3,5{]}   & 0.4919164 & 0.4919164 & 0.4919164 & 0.4919164\\\\\n",
       "\t6 & 1\\&1 Internet & Germany & EU & 132629291 & 0.6497964 & agg\\_rf\\_ALL & 0.6497964 & agg\\_rf\\_ALL & FirstTime & 1 & 2020-10-02 & 2019-10-02 & Active & jobpodcast.online                & 1\\&1 Internet & NA & 1 &  5 &  5 & 0 & 323938864 & renewal  & NA & Renewed & 2020-06-22 & ⋯ & 0.6369012 & 0.571 & 0.5675839 & 0.5590710 & 0.6092187 & 0.6497964 & 0.6497964 & 0.6497964 & 0.6497964 & 0.582 & 0.6497964 & 0.566 & 0.6369012 & 0.571 & 0.5675839 & 0.5590710 & 0.6092187 & 0.6497964 & 0.6497964 &  5 & (3,5{]}   & 0.6497964 & 0.6497964 & 0.6497964 & 0.6497964\\\\\n",
       "\\end{tabular}\n"
      ],
      "text/markdown": [
       "\n",
       "A data.frame: 6 × 65\n",
       "\n",
       "| <!--/--> | reseller &lt;fct&gt; | reseller_country &lt;fct&gt; | reseller_geo &lt;fct&gt; | domain_id &lt;int&gt; | pred_l10 &lt;dbl&gt; | model_l10 &lt;chr&gt; | pred_auc &lt;dbl&gt; | model_auc &lt;chr&gt; | renewal_type &lt;fct&gt; | renewed_count &lt;int&gt; | expiry_date &lt;date&gt; | creation_date &lt;fct&gt; | status &lt;fct&gt; | domain &lt;fct&gt; | registrar &lt;fct&gt; | registrant_country &lt;lgl&gt; | reg_period &lt;int&gt; | reg_revenue &lt;dbl&gt; | reg_arpt &lt;dbl&gt; | renew_mbg &lt;int&gt; | renewal_item_id &lt;int&gt; | renew_type &lt;fct&gt; | autorenew_type &lt;fct&gt; | renewal_status &lt;fct&gt; | renew_date &lt;fct&gt; | ⋯ ⋯ | pred_agg_rf &lt;dbl&gt; | pred_seg_glm_ALL &lt;dbl&gt; | pred_seg_rf_ALL &lt;dbl&gt; | pred_seg2_glm_ALL &lt;dbl&gt; | pred_seg2_rf_ALL &lt;dbl&gt; | pred_l10_bf &lt;dbl&gt; | pred_auc_bf &lt;dbl&gt; | pred_l10_fb &lt;dbl&gt; | pred_auc_fb &lt;dbl&gt; | pred_agg_glm_ALL_fb &lt;dbl&gt; | pred_agg_rf_ALL_fb &lt;dbl&gt; | pred_agg_glm_fb &lt;dbl&gt; | pred_agg_rf_fb &lt;dbl&gt; | pred_seg_glm_ALL_fb &lt;dbl&gt; | pred_seg_rf_ALL_fb &lt;dbl&gt; | pred_seg2_glm_ALL_fb &lt;dbl&gt; | pred_seg2_rf_ALL_fb &lt;dbl&gt; | pred_l10_bf_fb &lt;dbl&gt; | pred_auc_bf_fb &lt;dbl&gt; | reg_arpt_org &lt;dbl&gt; | reg_arpt_slab &lt;fct&gt; | pred_l10_fb2 &lt;dbl&gt; | pred_auc_fb2 &lt;dbl&gt; | pred_l10_fb1 &lt;dbl&gt; | pred_auc_fb1 &lt;dbl&gt; |\n",
       "|---|---|---|---|---|---|---|---|---|---|---|---|---|---|---|---|---|---|---|---|---|---|---|---|---|---|---|---|---|---|---|---|---|---|---|---|---|---|---|---|---|---|---|---|---|---|---|---|---|---|---|---|\n",
       "| 1 | 1&amp;1 Internet | Germany | EU | 129547106 | 0.5921809 | agg_rf_ALL | 0.5921809 | agg_rf_ALL | FirstTime | 1 | 2020-09-17 | 2019-09-17 | Active | preciodeloro.online              | 1&amp;1 Internet | NA | 1 |  5 |  5 | 0 | 279480871 | transfer | NA | Renewed | 2020-01-14 | ⋯ | 0.5846861 | 0.554 | 0.5702239 | 0.5438008 | 0.5917278 | 0.5921809 | 0.5921809 | 0.5921809 | 0.5921809 | 0.588 | 0.5921809 | 0.574 | 0.5846861 | 0.554 | 0.5702239 | 0.5438008 | 0.5917278 | 0.5921809 | 0.5921809 |  5 | (3,5]   | 0.5921809 | 0.5921809 | 0.5921809 | 0.5921809 |\n",
       "| 2 | 1&amp;1 Internet | Germany | EU |  76285079 | 0.6141844 | agg_rf_ALL | 0.6141844 | agg_rf_ALL | FirstTime | 1 | 2020-09-10 | 2018-09-10 | Active | advance7.online                  | 1&amp;1 Internet | NA | 2 | 30 | 15 | 0 | 225404981 | transfer | NA | Renewed | 2019-08-27 | ⋯ | 0.6244877 | 0.484 | 0.6159490 | 0.4851443 | 0.6179782 | 0.6141844 | 0.6141844 | 0.6141844 | 0.6141844 | 0.572 | 0.6141844 | 0.562 | 0.6244877 | 0.484 | 0.6159490 | 0.4851443 | 0.6179782 | 0.6141844 | 0.6141844 | 15 | (10,15] | 0.6141844 | 0.6141844 | 0.6141844 | 0.6141844 |\n",
       "| 3 | 1&amp;1 Internet | Germany | EU | 132626216 | 0.5986996 | agg_rf_ALL | 0.5986996 | agg_rf_ALL | FirstTime | 1 | 2020-10-02 | 2019-10-02 | Active | stellenanzeigen-on-demand.online | 1&amp;1 Internet | NA | 1 |  5 |  5 | 0 | 323941649 | renewal  | NA | Renewed | 2020-06-22 | ⋯ | 0.5923937 | 0.586 | 0.6187455 | 0.5799558 | 0.6340684 | 0.5986996 | 0.5986996 | 0.5986996 | 0.5986996 | 0.552 | 0.5986996 | 0.545 | 0.5923937 | 0.586 | 0.6187455 | 0.5799558 | 0.6340684 | 0.5986996 | 0.5986996 |  5 | (3,5]   | 0.5986996 | 0.5986996 | 0.5986996 | 0.5986996 |\n",
       "| 4 | 1&amp;1 Internet | Germany | EU | 127423021 | 0.4743705 | agg_rf_ALL | 0.4743705 | agg_rf_ALL | FirstTime | 1 | 2020-09-07 | 2019-09-07 | Active | colmex.online                    | 1&amp;1 Internet | NA | 1 |  5 |  5 | 0 | 244331895 | renewal  | NA | Renewed | 2019-10-28 | ⋯ | 0.4799012 | 0.578 | 0.4853137 | 0.5700971 | 0.4702835 | 0.4743705 | 0.4743705 | 0.4743705 | 0.4743705 | 0.602 | 0.4743705 | 0.586 | 0.4799012 | 0.578 | 0.4853137 | 0.5700971 | 0.4702835 | 0.4743705 | 0.4743705 |  5 | (3,5]   | 0.4743705 | 0.4743705 | 0.4743705 | 0.4743705 |\n",
       "| 5 | 1&amp;1 Internet | Germany | EU | 127588571 | 0.4919164 | agg_rf_ALL | 0.4919164 | agg_rf_ALL | FirstTime | 1 | 2020-09-08 | 2019-09-08 | Active | chattaboxforum.online            | 1&amp;1 Internet | NA | 1 |  5 |  5 | 0 | 229331376 | renewal  | NA | Renewed | 2019-09-09 | ⋯ | 0.4825344 | 0.554 | 0.4803202 | 0.5428917 | 0.4597726 | 0.4919164 | 0.4919164 | 0.4919164 | 0.4919164 | 0.568 | 0.4919164 | 0.553 | 0.4825344 | 0.554 | 0.4803202 | 0.5428917 | 0.4597726 | 0.4919164 | 0.4919164 |  5 | (3,5]   | 0.4919164 | 0.4919164 | 0.4919164 | 0.4919164 |\n",
       "| 6 | 1&amp;1 Internet | Germany | EU | 132629291 | 0.6497964 | agg_rf_ALL | 0.6497964 | agg_rf_ALL | FirstTime | 1 | 2020-10-02 | 2019-10-02 | Active | jobpodcast.online                | 1&amp;1 Internet | NA | 1 |  5 |  5 | 0 | 323938864 | renewal  | NA | Renewed | 2020-06-22 | ⋯ | 0.6369012 | 0.571 | 0.5675839 | 0.5590710 | 0.6092187 | 0.6497964 | 0.6497964 | 0.6497964 | 0.6497964 | 0.582 | 0.6497964 | 0.566 | 0.6369012 | 0.571 | 0.5675839 | 0.5590710 | 0.6092187 | 0.6497964 | 0.6497964 |  5 | (3,5]   | 0.6497964 | 0.6497964 | 0.6497964 | 0.6497964 |\n",
       "\n"
      ],
      "text/plain": [
       "  reseller     reseller_country reseller_geo domain_id pred_l10  model_l10 \n",
       "1 1&1 Internet Germany          EU           129547106 0.5921809 agg_rf_ALL\n",
       "2 1&1 Internet Germany          EU            76285079 0.6141844 agg_rf_ALL\n",
       "3 1&1 Internet Germany          EU           132626216 0.5986996 agg_rf_ALL\n",
       "4 1&1 Internet Germany          EU           127423021 0.4743705 agg_rf_ALL\n",
       "5 1&1 Internet Germany          EU           127588571 0.4919164 agg_rf_ALL\n",
       "6 1&1 Internet Germany          EU           132629291 0.6497964 agg_rf_ALL\n",
       "  pred_auc  model_auc  renewal_type renewed_count expiry_date creation_date\n",
       "1 0.5921809 agg_rf_ALL FirstTime    1             2020-09-17  2019-09-17   \n",
       "2 0.6141844 agg_rf_ALL FirstTime    1             2020-09-10  2018-09-10   \n",
       "3 0.5986996 agg_rf_ALL FirstTime    1             2020-10-02  2019-10-02   \n",
       "4 0.4743705 agg_rf_ALL FirstTime    1             2020-09-07  2019-09-07   \n",
       "5 0.4919164 agg_rf_ALL FirstTime    1             2020-09-08  2019-09-08   \n",
       "6 0.6497964 agg_rf_ALL FirstTime    1             2020-10-02  2019-10-02   \n",
       "  status domain                           registrar    registrant_country\n",
       "1 Active preciodeloro.online              1&1 Internet NA                \n",
       "2 Active advance7.online                  1&1 Internet NA                \n",
       "3 Active stellenanzeigen-on-demand.online 1&1 Internet NA                \n",
       "4 Active colmex.online                    1&1 Internet NA                \n",
       "5 Active chattaboxforum.online            1&1 Internet NA                \n",
       "6 Active jobpodcast.online                1&1 Internet NA                \n",
       "  reg_period reg_revenue reg_arpt renew_mbg renewal_item_id renew_type\n",
       "1 1           5           5       0         279480871       transfer  \n",
       "2 2          30          15       0         225404981       transfer  \n",
       "3 1           5           5       0         323941649       renewal   \n",
       "4 1           5           5       0         244331895       renewal   \n",
       "5 1           5           5       0         229331376       renewal   \n",
       "6 1           5           5       0         323938864       renewal   \n",
       "  autorenew_type renewal_status renew_date ⋯ pred_agg_rf pred_seg_glm_ALL\n",
       "1 NA             Renewed        2020-01-14 ⋯ 0.5846861   0.554           \n",
       "2 NA             Renewed        2019-08-27 ⋯ 0.6244877   0.484           \n",
       "3 NA             Renewed        2020-06-22 ⋯ 0.5923937   0.586           \n",
       "4 NA             Renewed        2019-10-28 ⋯ 0.4799012   0.578           \n",
       "5 NA             Renewed        2019-09-09 ⋯ 0.4825344   0.554           \n",
       "6 NA             Renewed        2020-06-22 ⋯ 0.6369012   0.571           \n",
       "  pred_seg_rf_ALL pred_seg2_glm_ALL pred_seg2_rf_ALL pred_l10_bf pred_auc_bf\n",
       "1 0.5702239       0.5438008         0.5917278        0.5921809   0.5921809  \n",
       "2 0.6159490       0.4851443         0.6179782        0.6141844   0.6141844  \n",
       "3 0.6187455       0.5799558         0.6340684        0.5986996   0.5986996  \n",
       "4 0.4853137       0.5700971         0.4702835        0.4743705   0.4743705  \n",
       "5 0.4803202       0.5428917         0.4597726        0.4919164   0.4919164  \n",
       "6 0.5675839       0.5590710         0.6092187        0.6497964   0.6497964  \n",
       "  pred_l10_fb pred_auc_fb pred_agg_glm_ALL_fb pred_agg_rf_ALL_fb\n",
       "1 0.5921809   0.5921809   0.588               0.5921809         \n",
       "2 0.6141844   0.6141844   0.572               0.6141844         \n",
       "3 0.5986996   0.5986996   0.552               0.5986996         \n",
       "4 0.4743705   0.4743705   0.602               0.4743705         \n",
       "5 0.4919164   0.4919164   0.568               0.4919164         \n",
       "6 0.6497964   0.6497964   0.582               0.6497964         \n",
       "  pred_agg_glm_fb pred_agg_rf_fb pred_seg_glm_ALL_fb pred_seg_rf_ALL_fb\n",
       "1 0.574           0.5846861      0.554               0.5702239         \n",
       "2 0.562           0.6244877      0.484               0.6159490         \n",
       "3 0.545           0.5923937      0.586               0.6187455         \n",
       "4 0.586           0.4799012      0.578               0.4853137         \n",
       "5 0.553           0.4825344      0.554               0.4803202         \n",
       "6 0.566           0.6369012      0.571               0.5675839         \n",
       "  pred_seg2_glm_ALL_fb pred_seg2_rf_ALL_fb pred_l10_bf_fb pred_auc_bf_fb\n",
       "1 0.5438008            0.5917278           0.5921809      0.5921809     \n",
       "2 0.4851443            0.6179782           0.6141844      0.6141844     \n",
       "3 0.5799558            0.6340684           0.5986996      0.5986996     \n",
       "4 0.5700971            0.4702835           0.4743705      0.4743705     \n",
       "5 0.5428917            0.4597726           0.4919164      0.4919164     \n",
       "6 0.5590710            0.6092187           0.6497964      0.6497964     \n",
       "  reg_arpt_org reg_arpt_slab pred_l10_fb2 pred_auc_fb2 pred_l10_fb1\n",
       "1  5           (3,5]         0.5921809    0.5921809    0.5921809   \n",
       "2 15           (10,15]       0.6141844    0.6141844    0.6141844   \n",
       "3  5           (3,5]         0.5986996    0.5986996    0.5986996   \n",
       "4  5           (3,5]         0.4743705    0.4743705    0.4743705   \n",
       "5  5           (3,5]         0.4919164    0.4919164    0.4919164   \n",
       "6  5           (3,5]         0.6497964    0.6497964    0.6497964   \n",
       "  pred_auc_fb1\n",
       "1 0.5921809   \n",
       "2 0.6141844   \n",
       "3 0.5986996   \n",
       "4 0.4743705   \n",
       "5 0.4919164   \n",
       "6 0.6497964   "
      ]
     },
     "metadata": {},
     "output_type": "display_data"
    }
   ],
   "source": [
    "preds_all$expiry_date <- as.Date(preds_all$expiry_date)\n",
    "str(preds_all$expiry_date)\n",
    "head(preds_all)"
   ]
  },
  {
   "cell_type": "code",
   "execution_count": 38,
   "metadata": {},
   "outputs": [
    {
     "name": "stderr",
     "output_type": "stream",
     "text": [
      "\n",
      "Attaching package: ‘lubridate’\n",
      "\n",
      "\n",
      "The following objects are masked from ‘package:data.table’:\n",
      "\n",
      "    hour, isoweek, mday, minute, month, quarter, second, wday, week,\n",
      "    yday, year\n",
      "\n",
      "\n",
      "The following objects are masked from ‘package:base’:\n",
      "\n",
      "    date, intersect, setdiff, union\n",
      "\n",
      "\n",
      "`summarise()` ungrouping output (override with `.groups` argument)\n",
      "\n",
      "`summarise()` regrouping output by 'tld_registrar_index' (override with `.groups` argument)\n",
      "\n",
      "`summarise()` regrouping output by 'tld_registrar_index' (override with `.groups` argument)\n",
      "\n"
     ]
    }
   ],
   "source": [
    "options(scipen=999)\n",
    "library(lubridate)\n",
    "\n",
    "agg_prob <- preds_all %>% \n",
    "   group_by(tld_registrar_index) %>% \n",
    "   summarize(sum_pred_l10_bf = round(sum(pred_l10_bf, na.rm=TRUE),4), \n",
    "             sum_pred_auc_bf = round(sum(pred_auc_bf, na.rm=TRUE),4), \n",
    "             sum_pred_agg_rf_ALL = round(sum(pred_agg_rf_ALL, na.rm=TRUE),4), \n",
    "             sum_pred_seg2_glm_ALL_fb = round(sum(pred_seg2_glm_ALL_fb, na.rm=TRUE),4), \n",
    "             sum_actl = sum(renewal_status=='Renewed', na.rm=TRUE), \n",
    "             count = length(renewal_status))  %>% \n",
    "   arrange(desc(count))\n",
    "\n",
    "agg_prob_day <- preds_all %>% \n",
    "   group_by(tld_registrar_index, expiry_date) %>% \n",
    "   summarize(sum_pred_l10_bf = round(sum(pred_l10_bf, na.rm=TRUE),4), \n",
    "             sum_pred_auc_bf = round(sum(pred_auc_bf, na.rm=TRUE),4), \n",
    "             sum_pred_agg_rf_ALL = round(sum(pred_agg_rf_ALL, na.rm=TRUE),4), \n",
    "             sum_pred_seg2_glm_ALL_fb = round(sum(pred_seg2_glm_ALL_fb, na.rm=TRUE),4), \n",
    "             sum_actl = sum(renewal_status=='Renewed', na.rm=TRUE), \n",
    "             count = length(renewal_status))  %>% \n",
    "   arrange(desc(count))\n",
    "\n",
    "agg_prob_month <- preds_all %>% \n",
    "   group_by(tld_registrar_index, month=floor_date(as.Date(expiry_date), \"month\") ) %>% \n",
    "   summarize(sum_pred_l10_bf = round(sum(pred_l10_bf, na.rm=TRUE),4), \n",
    "             sum_pred_auc_bf = round(sum(pred_auc_bf, na.rm=TRUE),4), \n",
    "             sum_pred_agg_rf_ALL = round(sum(pred_agg_rf_ALL, na.rm=TRUE),4), \n",
    "             sum_pred_seg2_glm_ALL_fb = round(sum(pred_seg2_glm_ALL_fb, na.rm=TRUE),4), \n",
    "             sum_actl = sum(renewal_status=='Renewed', na.rm=TRUE), \n",
    "             count = length(renewal_status))  %>% \n",
    "   arrange(desc(count))\n"
   ]
  },
  {
   "cell_type": "code",
   "execution_count": 39,
   "metadata": {},
   "outputs": [],
   "source": [
    "write.csv(agg_prob ,'../../data/output/deliv_20201218/20200902_20201008_agg_prob.csv', row.names=FALSE)\n",
    "write.csv(agg_prob_day ,'../../data/output/deliv_20201218/20200902_20201008_agg_prob_day.csv', row.names=FALSE)\n",
    "write.csv(agg_prob_month ,'../../data/output/deliv_20201218/20200902_20201008_agg_prob_month.csv', row.names=FALSE)"
   ]
  },
  {
   "cell_type": "code",
   "execution_count": 40,
   "metadata": {},
   "outputs": [],
   "source": [
    "system(\"gsutil cp -r /home/jupyter/Domains_202003/data/output/deliv_20201218/ gs://output_shared/\")"
   ]
  },
  {
   "cell_type": "markdown",
   "metadata": {},
   "source": [
    "### aside: visual of Aggregate probabilities by priority"
   ]
  },
  {
   "cell_type": "code",
   "execution_count": 41,
   "metadata": {},
   "outputs": [],
   "source": [
    "vis_df <- preds_all\n",
    "# add reseller priority columns to metalearning predictions\n",
    "priorityLookup_df <- read.csv(\"/home/jupyter/Domains_202003/data/data_input/PredictiveModelAnalysis_ResellerPriorityList.csv\")\n",
    "names(priorityLookup_df) <- c(\"market\",\"reseller\",\"npv2020\",\"priority\")\n",
    "priorityLookup_df$reseller <- tolower(priorityLookup_df$reseller)\n",
    "vis_df$reseller <- tolower(vis_df$reseller)\n",
    "vis_df <- merge(vis_df, priorityLookup_df, by=\"reseller\", all.x=TRUE)\n"
   ]
  },
  {
   "cell_type": "code",
   "execution_count": 42,
   "metadata": {},
   "outputs": [
    {
     "name": "stderr",
     "output_type": "stream",
     "text": [
      "`summarise()` ungrouping output (override with `.groups` argument)\n",
      "\n"
     ]
    },
    {
     "data": {
      "text/html": [
       "<table>\n",
       "<caption>A tibble: 5 × 7</caption>\n",
       "<thead>\n",
       "\t<tr><th scope=col>priority</th><th scope=col>sum_pred_l10_bf</th><th scope=col>sum_pred_auc_bf</th><th scope=col>sum_pred_agg_rf_ALL</th><th scope=col>sum_pred_seg2_glm_ALL_fb</th><th scope=col>sum_actl</th><th scope=col>count</th></tr>\n",
       "\t<tr><th scope=col>&lt;int&gt;</th><th scope=col>&lt;dbl&gt;</th><th scope=col>&lt;dbl&gt;</th><th scope=col>&lt;dbl&gt;</th><th scope=col>&lt;dbl&gt;</th><th scope=col>&lt;int&gt;</th><th scope=col>&lt;int&gt;</th></tr>\n",
       "</thead>\n",
       "<tbody>\n",
       "\t<tr><td> 1</td><td>27486.1368</td><td>27740.4800</td><td>27587.4308</td><td>26396.164</td><td>23340</td><td>317998</td></tr>\n",
       "\t<tr><td> 2</td><td> 6335.6203</td><td> 6206.7984</td><td> 6289.1868</td><td> 6106.593</td><td> 5536</td><td> 39684</td></tr>\n",
       "\t<tr><td> 3</td><td> 3635.1455</td><td> 3589.7470</td><td> 3669.2143</td><td> 3020.204</td><td> 3011</td><td> 38575</td></tr>\n",
       "\t<tr><td> 4</td><td> 2456.1624</td><td> 2445.4203</td><td> 2658.1945</td><td> 2074.868</td><td> 2140</td><td> 34519</td></tr>\n",
       "\t<tr><td>NA</td><td>   14.6967</td><td>   18.0375</td><td>   17.7764</td><td>   16.596</td><td>   14</td><td>    91</td></tr>\n",
       "</tbody>\n",
       "</table>\n"
      ],
      "text/latex": [
       "A tibble: 5 × 7\n",
       "\\begin{tabular}{lllllll}\n",
       " priority & sum\\_pred\\_l10\\_bf & sum\\_pred\\_auc\\_bf & sum\\_pred\\_agg\\_rf\\_ALL & sum\\_pred\\_seg2\\_glm\\_ALL\\_fb & sum\\_actl & count\\\\\n",
       " <int> & <dbl> & <dbl> & <dbl> & <dbl> & <int> & <int>\\\\\n",
       "\\hline\n",
       "\t  1 & 27486.1368 & 27740.4800 & 27587.4308 & 26396.164 & 23340 & 317998\\\\\n",
       "\t  2 &  6335.6203 &  6206.7984 &  6289.1868 &  6106.593 &  5536 &  39684\\\\\n",
       "\t  3 &  3635.1455 &  3589.7470 &  3669.2143 &  3020.204 &  3011 &  38575\\\\\n",
       "\t  4 &  2456.1624 &  2445.4203 &  2658.1945 &  2074.868 &  2140 &  34519\\\\\n",
       "\t NA &    14.6967 &    18.0375 &    17.7764 &    16.596 &    14 &     91\\\\\n",
       "\\end{tabular}\n"
      ],
      "text/markdown": [
       "\n",
       "A tibble: 5 × 7\n",
       "\n",
       "| priority &lt;int&gt; | sum_pred_l10_bf &lt;dbl&gt; | sum_pred_auc_bf &lt;dbl&gt; | sum_pred_agg_rf_ALL &lt;dbl&gt; | sum_pred_seg2_glm_ALL_fb &lt;dbl&gt; | sum_actl &lt;int&gt; | count &lt;int&gt; |\n",
       "|---|---|---|---|---|---|---|\n",
       "|  1 | 27486.1368 | 27740.4800 | 27587.4308 | 26396.164 | 23340 | 317998 |\n",
       "|  2 |  6335.6203 |  6206.7984 |  6289.1868 |  6106.593 |  5536 |  39684 |\n",
       "|  3 |  3635.1455 |  3589.7470 |  3669.2143 |  3020.204 |  3011 |  38575 |\n",
       "|  4 |  2456.1624 |  2445.4203 |  2658.1945 |  2074.868 |  2140 |  34519 |\n",
       "| NA |    14.6967 |    18.0375 |    17.7764 |    16.596 |    14 |     91 |\n",
       "\n"
      ],
      "text/plain": [
       "  priority sum_pred_l10_bf sum_pred_auc_bf sum_pred_agg_rf_ALL\n",
       "1  1       27486.1368      27740.4800      27587.4308         \n",
       "2  2        6335.6203       6206.7984       6289.1868         \n",
       "3  3        3635.1455       3589.7470       3669.2143         \n",
       "4  4        2456.1624       2445.4203       2658.1945         \n",
       "5 NA          14.6967         18.0375         17.7764         \n",
       "  sum_pred_seg2_glm_ALL_fb sum_actl count \n",
       "1 26396.164                23340    317998\n",
       "2  6106.593                 5536     39684\n",
       "3  3020.204                 3011     38575\n",
       "4  2074.868                 2140     34519\n",
       "5    16.596                   14        91"
      ]
     },
     "metadata": {},
     "output_type": "display_data"
    }
   ],
   "source": [
    "agg_prob_prio <- vis_df %>% \n",
    "   group_by(priority) %>% \n",
    "   summarize(sum_pred_l10_bf = round(sum(pred_l10_bf, na.rm=TRUE),4), \n",
    "             sum_pred_auc_bf = round(sum(pred_auc_bf, na.rm=TRUE),4), \n",
    "             sum_pred_agg_rf_ALL = round(sum(pred_agg_rf_ALL, na.rm=TRUE),4), \n",
    "             sum_pred_seg2_glm_ALL_fb = round(sum(pred_seg2_glm_ALL_fb, na.rm=TRUE),4), \n",
    "             sum_actl = sum(renewal_status=='Renewed', na.rm=TRUE), \n",
    "             count = length(renewal_status))  %>% \n",
    "   arrange(desc(count))\n",
    "agg_prob_prio"
   ]
  },
  {
   "cell_type": "markdown",
   "metadata": {},
   "source": [
    "# lift metric. by tld-reseller"
   ]
  },
  {
   "cell_type": "code",
   "execution_count": 43,
   "metadata": {},
   "outputs": [],
   "source": [
    "calc_lift <- function (pred_df,\n",
    "                       P=0.1,\n",
    "                        dep_var = \"renewal_status\",\n",
    "                        pred_var = \"first_renewal_prediction\"){\n",
    "    actu_renwd <- sum(pred_df[[dep_var]]=='Renewed', na.rm=TRUE)\n",
    "    ttmp_df <- pred_df[order(pred_df[pred_var],decreasing = TRUE),][1:round(dim(pred_df)[1]*P),]\n",
    "    actu_renwd2 <-  sum(ttmp_df[[dep_var]] == 'Renewed', na.rm=TRUE)\n",
    "    gain = actu_renwd2/actu_renwd\n",
    "    lift = gain/(P)\n",
    "    return(lift)\n",
    "}"
   ]
  },
  {
   "cell_type": "code",
   "execution_count": 44,
   "metadata": {},
   "outputs": [
    {
     "name": "stderr",
     "output_type": "stream",
     "text": [
      "Joining, by = \"tld_registrar_index\"\n",
      "\n"
     ]
    },
    {
     "data": {
      "text/html": [
       "<table>\n",
       "<caption>A data.frame: 6 × 6</caption>\n",
       "<thead>\n",
       "\t<tr><th></th><th scope=col>lift_l10_bf</th><th scope=col>lift_auc_bf</th><th scope=col>lift_agg_rf_ALL</th><th scope=col>lift_seg2_glm_ALL_fb</th><th scope=col>tld_registrar_index</th><th scope=col>n</th></tr>\n",
       "\t<tr><th></th><th scope=col>&lt;dbl&gt;</th><th scope=col>&lt;dbl&gt;</th><th scope=col>&lt;dbl&gt;</th><th scope=col>&lt;dbl&gt;</th><th scope=col>&lt;chr&gt;</th><th scope=col>&lt;int&gt;</th></tr>\n",
       "</thead>\n",
       "<tbody>\n",
       "\t<tr><th scope=row>1</th><td>7.8354978</td><td>7.8354978</td><td>7.8354978</td><td>6.796537</td><td>funalibaba    </td><td>53104</td></tr>\n",
       "\t<tr><th scope=row>2</th><td>9.5276873</td><td>9.5276873</td><td>9.5276873</td><td>8.485342</td><td>sitegmo       </td><td>33517</td></tr>\n",
       "\t<tr><th scope=row>3</th><td>9.1666667</td><td>4.4444444</td><td>9.1666667</td><td>4.444444</td><td>spacealibaba  </td><td>19358</td></tr>\n",
       "\t<tr><th scope=row>4</th><td>0.9318996</td><td>0.9318996</td><td>0.9318996</td><td>1.433692</td><td>sitenamecheap </td><td>19072</td></tr>\n",
       "\t<tr><th scope=row>5</th><td>1.2052117</td><td>1.2052117</td><td>1.2052117</td><td>2.052117</td><td>sitereg.ru    </td><td>13108</td></tr>\n",
       "\t<tr><th scope=row>6</th><td>8.7500000</td><td>5.4166667</td><td>8.7500000</td><td>7.916667</td><td>websitealibaba</td><td>12505</td></tr>\n",
       "</tbody>\n",
       "</table>\n"
      ],
      "text/latex": [
       "A data.frame: 6 × 6\n",
       "\\begin{tabular}{r|llllll}\n",
       "  & lift\\_l10\\_bf & lift\\_auc\\_bf & lift\\_agg\\_rf\\_ALL & lift\\_seg2\\_glm\\_ALL\\_fb & tld\\_registrar\\_index & n\\\\\n",
       "  & <dbl> & <dbl> & <dbl> & <dbl> & <chr> & <int>\\\\\n",
       "\\hline\n",
       "\t1 & 7.8354978 & 7.8354978 & 7.8354978 & 6.796537 & funalibaba     & 53104\\\\\n",
       "\t2 & 9.5276873 & 9.5276873 & 9.5276873 & 8.485342 & sitegmo        & 33517\\\\\n",
       "\t3 & 9.1666667 & 4.4444444 & 9.1666667 & 4.444444 & spacealibaba   & 19358\\\\\n",
       "\t4 & 0.9318996 & 0.9318996 & 0.9318996 & 1.433692 & sitenamecheap  & 19072\\\\\n",
       "\t5 & 1.2052117 & 1.2052117 & 1.2052117 & 2.052117 & sitereg.ru     & 13108\\\\\n",
       "\t6 & 8.7500000 & 5.4166667 & 8.7500000 & 7.916667 & websitealibaba & 12505\\\\\n",
       "\\end{tabular}\n"
      ],
      "text/markdown": [
       "\n",
       "A data.frame: 6 × 6\n",
       "\n",
       "| <!--/--> | lift_l10_bf &lt;dbl&gt; | lift_auc_bf &lt;dbl&gt; | lift_agg_rf_ALL &lt;dbl&gt; | lift_seg2_glm_ALL_fb &lt;dbl&gt; | tld_registrar_index &lt;chr&gt; | n &lt;int&gt; |\n",
       "|---|---|---|---|---|---|---|\n",
       "| 1 | 7.8354978 | 7.8354978 | 7.8354978 | 6.796537 | funalibaba     | 53104 |\n",
       "| 2 | 9.5276873 | 9.5276873 | 9.5276873 | 8.485342 | sitegmo        | 33517 |\n",
       "| 3 | 9.1666667 | 4.4444444 | 9.1666667 | 4.444444 | spacealibaba   | 19358 |\n",
       "| 4 | 0.9318996 | 0.9318996 | 0.9318996 | 1.433692 | sitenamecheap  | 19072 |\n",
       "| 5 | 1.2052117 | 1.2052117 | 1.2052117 | 2.052117 | sitereg.ru     | 13108 |\n",
       "| 6 | 8.7500000 | 5.4166667 | 8.7500000 | 7.916667 | websitealibaba | 12505 |\n",
       "\n"
      ],
      "text/plain": [
       "  lift_l10_bf lift_auc_bf lift_agg_rf_ALL lift_seg2_glm_ALL_fb\n",
       "1 7.8354978   7.8354978   7.8354978       6.796537            \n",
       "2 9.5276873   9.5276873   9.5276873       8.485342            \n",
       "3 9.1666667   4.4444444   9.1666667       4.444444            \n",
       "4 0.9318996   0.9318996   0.9318996       1.433692            \n",
       "5 1.2052117   1.2052117   1.2052117       2.052117            \n",
       "6 8.7500000   5.4166667   8.7500000       7.916667            \n",
       "  tld_registrar_index n    \n",
       "1 funalibaba          53104\n",
       "2 sitegmo             33517\n",
       "3 spacealibaba        19358\n",
       "4 sitenamecheap       19072\n",
       "5 sitereg.ru          13108\n",
       "6 websitealibaba      12505"
      ]
     },
     "metadata": {},
     "output_type": "display_data"
    }
   ],
   "source": [
    "preds_all_tldre_list <- split(preds_all, preds_all$tld_registrar_index)\n",
    "\n",
    "models <- c('pred_l10_bf', 'pred_auc_bf', 'pred_agg_rf_ALL', 'pred_seg2_glm_ALL_fb' )\n",
    "lift_tldre_list = list()\n",
    "for (model in models){\n",
    "    lift_tldre_list[[model]] <- lapply(preds_all_tldre_list,\n",
    "                                    calc_lift, \n",
    "                                    dep_var = \"renewal_status\", \n",
    "                                    pred_var = model)\n",
    "}\n",
    "\n",
    "lift_tldre_df <- rbindlist(lift_tldre_list)\n",
    "lift_tldre_df <- as.data.frame(t(lift_tldre_df))\n",
    "names(lift_tldre_df) <- str_replace(models, \"pred_\", \"lift_\")\n",
    "lift_tldre_df$tld_registrar_index <- row.names(lift_tldre_df)\n",
    "lift_tldre_df <- left_join(lift_tldre_df, \n",
    "                           preds_all %>% \n",
    "                           group_by(tld_registrar_index) %>% tally(),\n",
    "                           on='tld_registrar_index') %>% arrange (desc(n))\n",
    "head(lift_tldre_df)"
   ]
  },
  {
   "cell_type": "code",
   "execution_count": 45,
   "metadata": {},
   "outputs": [],
   "source": [
    "write.csv(lift_tldre_df ,'../../data/output/deliv_20201218/20200902_20201008_lift_tldre.csv', row.names=FALSE)\n",
    "system(\"gsutil cp -r /home/jupyter/Domains_202003/data/output/deliv_20201218/ gs://output_shared/\")"
   ]
  },
  {
   "cell_type": "markdown",
   "metadata": {},
   "source": [
    "## inverse of the lift. \n",
    "below which probability level can we be sure that these domains be dropped (not renewed) the other end of the lift. from the bottom up. will help formulate retention strategy"
   ]
  },
  {
   "cell_type": "code",
   "execution_count": 46,
   "metadata": {},
   "outputs": [
    {
     "name": "stdout",
     "output_type": "stream",
     "text": [
      " Factor w/ 2 levels \"Not Renewd\",\"Renewed\": 2 2 2 2 2 2 2 2 2 2 ...\n"
     ]
    }
   ],
   "source": [
    "str(preds_all$renewal_status)"
   ]
  },
  {
   "cell_type": "code",
   "execution_count": 47,
   "metadata": {},
   "outputs": [],
   "source": [
    "calc_ilift <- function (pred_df,\n",
    "                       P=0.3,\n",
    "                        dep_var = \"renewal_status\",\n",
    "                        pred_var = \"first_renewal_prediction\"){\n",
    "    actu_renwd <- sum(pred_df[[dep_var]]==\"Not Renewd\")\n",
    "    ttmp_df <- pred_df[order(pred_df[pred_var],decreasing = FALSE),][1:round(dim(pred_df)[1]*P),]\n",
    "    actu_renwd2 <-  sum(ttmp_df[[dep_var]] == \"Not Renewd\")\n",
    "    gain = actu_renwd2/actu_renwd\n",
    "    lift = gain/(P)\n",
    "    return(lift)\n",
    "}"
   ]
  },
  {
   "cell_type": "code",
   "execution_count": 48,
   "metadata": {},
   "outputs": [
    {
     "name": "stderr",
     "output_type": "stream",
     "text": [
      "Joining, by = \"tld_registrar_index\"\n",
      "\n"
     ]
    },
    {
     "data": {
      "text/html": [
       "<table>\n",
       "<caption>A data.frame: 6 × 6</caption>\n",
       "<thead>\n",
       "\t<tr><th></th><th scope=col>ilift_l10_bf</th><th scope=col>ilift_auc_bf</th><th scope=col>ilift_agg_rf_ALL</th><th scope=col>ilift_seg2_glm_ALL_fb</th><th scope=col>tld_registrar_index</th><th scope=col>n</th></tr>\n",
       "\t<tr><th></th><th scope=col>&lt;dbl&gt;</th><th scope=col>&lt;dbl&gt;</th><th scope=col>&lt;dbl&gt;</th><th scope=col>&lt;dbl&gt;</th><th scope=col>&lt;chr&gt;</th><th scope=col>&lt;int&gt;</th></tr>\n",
       "</thead>\n",
       "<tbody>\n",
       "\t<tr><th scope=row>1</th><td>1.003915</td><td>1.003915</td><td>1.003915</td><td>1.0038520</td><td>funalibaba    </td><td>53104</td></tr>\n",
       "\t<tr><th scope=row>2</th><td>1.018651</td><td>1.018651</td><td>1.018651</td><td>1.0177390</td><td>sitegmo       </td><td>33517</td></tr>\n",
       "\t<tr><th scope=row>3</th><td>1.001794</td><td>1.000242</td><td>1.001794</td><td>1.0002415</td><td>spacealibaba  </td><td>19358</td></tr>\n",
       "\t<tr><th scope=row>4</th><td>1.013647</td><td>1.013647</td><td>1.013647</td><td>1.0159879</td><td>sitenamecheap </td><td>19072</td></tr>\n",
       "\t<tr><th scope=row>5</th><td>1.014764</td><td>1.014764</td><td>1.014764</td><td>1.0132021</td><td>sitereg.ru    </td><td>13108</td></tr>\n",
       "\t<tr><th scope=row>6</th><td>1.002056</td><td>1.000454</td><td>1.002056</td><td>0.9972492</td><td>websitealibaba</td><td>12505</td></tr>\n",
       "</tbody>\n",
       "</table>\n"
      ],
      "text/latex": [
       "A data.frame: 6 × 6\n",
       "\\begin{tabular}{r|llllll}\n",
       "  & ilift\\_l10\\_bf & ilift\\_auc\\_bf & ilift\\_agg\\_rf\\_ALL & ilift\\_seg2\\_glm\\_ALL\\_fb & tld\\_registrar\\_index & n\\\\\n",
       "  & <dbl> & <dbl> & <dbl> & <dbl> & <chr> & <int>\\\\\n",
       "\\hline\n",
       "\t1 & 1.003915 & 1.003915 & 1.003915 & 1.0038520 & funalibaba     & 53104\\\\\n",
       "\t2 & 1.018651 & 1.018651 & 1.018651 & 1.0177390 & sitegmo        & 33517\\\\\n",
       "\t3 & 1.001794 & 1.000242 & 1.001794 & 1.0002415 & spacealibaba   & 19358\\\\\n",
       "\t4 & 1.013647 & 1.013647 & 1.013647 & 1.0159879 & sitenamecheap  & 19072\\\\\n",
       "\t5 & 1.014764 & 1.014764 & 1.014764 & 1.0132021 & sitereg.ru     & 13108\\\\\n",
       "\t6 & 1.002056 & 1.000454 & 1.002056 & 0.9972492 & websitealibaba & 12505\\\\\n",
       "\\end{tabular}\n"
      ],
      "text/markdown": [
       "\n",
       "A data.frame: 6 × 6\n",
       "\n",
       "| <!--/--> | ilift_l10_bf &lt;dbl&gt; | ilift_auc_bf &lt;dbl&gt; | ilift_agg_rf_ALL &lt;dbl&gt; | ilift_seg2_glm_ALL_fb &lt;dbl&gt; | tld_registrar_index &lt;chr&gt; | n &lt;int&gt; |\n",
       "|---|---|---|---|---|---|---|\n",
       "| 1 | 1.003915 | 1.003915 | 1.003915 | 1.0038520 | funalibaba     | 53104 |\n",
       "| 2 | 1.018651 | 1.018651 | 1.018651 | 1.0177390 | sitegmo        | 33517 |\n",
       "| 3 | 1.001794 | 1.000242 | 1.001794 | 1.0002415 | spacealibaba   | 19358 |\n",
       "| 4 | 1.013647 | 1.013647 | 1.013647 | 1.0159879 | sitenamecheap  | 19072 |\n",
       "| 5 | 1.014764 | 1.014764 | 1.014764 | 1.0132021 | sitereg.ru     | 13108 |\n",
       "| 6 | 1.002056 | 1.000454 | 1.002056 | 0.9972492 | websitealibaba | 12505 |\n",
       "\n"
      ],
      "text/plain": [
       "  ilift_l10_bf ilift_auc_bf ilift_agg_rf_ALL ilift_seg2_glm_ALL_fb\n",
       "1 1.003915     1.003915     1.003915         1.0038520            \n",
       "2 1.018651     1.018651     1.018651         1.0177390            \n",
       "3 1.001794     1.000242     1.001794         1.0002415            \n",
       "4 1.013647     1.013647     1.013647         1.0159879            \n",
       "5 1.014764     1.014764     1.014764         1.0132021            \n",
       "6 1.002056     1.000454     1.002056         0.9972492            \n",
       "  tld_registrar_index n    \n",
       "1 funalibaba          53104\n",
       "2 sitegmo             33517\n",
       "3 spacealibaba        19358\n",
       "4 sitenamecheap       19072\n",
       "5 sitereg.ru          13108\n",
       "6 websitealibaba      12505"
      ]
     },
     "metadata": {},
     "output_type": "display_data"
    }
   ],
   "source": [
    "# preds_all_tldre_list <- split(preds_all, preds_all$tld_registrar_index)\n",
    "\n",
    "models <- c('pred_l10_bf', 'pred_auc_bf', 'pred_agg_rf_ALL', 'pred_seg2_glm_ALL_fb' )\n",
    "ilift_tldre_list = list()\n",
    "for (model in models){\n",
    "    ilift_tldre_list[[model]] <- lapply(preds_all_tldre_list,\n",
    "                                    calc_ilift, \n",
    "                                    dep_var = \"renewal_status\", \n",
    "                                    pred_var = model)\n",
    "}\n",
    "\n",
    "ilift_tldre_df <- rbindlist(ilift_tldre_list)\n",
    "ilift_tldre_df <- as.data.frame(t(ilift_tldre_df))\n",
    "names(ilift_tldre_df) <- str_replace(models, \"pred_\", \"ilift_\")\n",
    "ilift_tldre_df$tld_registrar_index <- row.names(ilift_tldre_df)\n",
    "ilift_tldre_df <- left_join(ilift_tldre_df, \n",
    "                           preds_all %>% \n",
    "                           group_by(tld_registrar_index) %>% tally(),\n",
    "                           on='tld_registrar_index') %>% arrange (desc(n))\n",
    "head(ilift_tldre_df)"
   ]
  },
  {
   "cell_type": "code",
   "execution_count": 49,
   "metadata": {},
   "outputs": [],
   "source": [
    "write.csv(ilift_tldre_df ,'../../data/output/deliv_20201218/20200902_20201008_ilift_tldre.csv', row.names=FALSE)\n",
    "system(\"gsutil cp -r /home/jupyter/Domains_202003/data/output/deliv_20201218/ gs://output_shared/\")"
   ]
  },
  {
   "cell_type": "code",
   "execution_count": 50,
   "metadata": {},
   "outputs": [
    {
     "data": {
      "text/html": [
       "<table>\n",
       "<caption>A data.frame: 9 × 6</caption>\n",
       "<thead>\n",
       "\t<tr><th scope=col>ilift_l10_bf</th><th scope=col>ilift_auc_bf</th><th scope=col>ilift_agg_rf_ALL</th><th scope=col>ilift_seg2_glm_ALL_fb</th><th scope=col>tld_registrar_index</th><th scope=col>n</th></tr>\n",
       "\t<tr><th scope=col>&lt;dbl&gt;</th><th scope=col>&lt;dbl&gt;</th><th scope=col>&lt;dbl&gt;</th><th scope=col>&lt;dbl&gt;</th><th scope=col>&lt;chr&gt;</th><th scope=col>&lt;int&gt;</th></tr>\n",
       "</thead>\n",
       "<tbody>\n",
       "\t<tr><td>0.9961686</td><td>0.9961686</td><td>0.9961686</td><td>1.047254</td><td>sitedotserve inc</td><td>298</td></tr>\n",
       "\t<tr><td>1.1711712</td><td>1.1711712</td><td>1.1711712</td><td>1.216216</td><td>websitehostgator</td><td>289</td></tr>\n",
       "\t<tr><td>1.0181818</td><td>1.0181818</td><td>1.0181818</td><td>1.018182</td><td>pwwhois         </td><td>280</td></tr>\n",
       "\t<tr><td>1.1064426</td><td>1.1624650</td><td>1.1624650</td><td>1.106443</td><td>fungmo          </td><td>278</td></tr>\n",
       "\t<tr><td>1.0050891</td><td>1.0050891</td><td>1.0178117</td><td>1.005089</td><td>sitebaidu       </td><td>272</td></tr>\n",
       "\t<tr><td>1.0242086</td><td>1.0242086</td><td>1.0242086</td><td>1.135940</td><td>storewix        </td><td>268</td></tr>\n",
       "\t<tr><td>1.0606061</td><td>1.0606061</td><td>1.0606061</td><td>1.015152</td><td>spaceregister.it</td><td>257</td></tr>\n",
       "\t<tr><td>1.0365854</td><td>1.0162602</td><td>1.0162602</td><td>1.036585</td><td>storeetsy.com   </td><td>254</td></tr>\n",
       "\t<tr><td>1.0092961</td><td>1.0092961</td><td>1.0092961</td><td>1.009296</td><td>sitedomainesia  </td><td>253</td></tr>\n",
       "</tbody>\n",
       "</table>\n"
      ],
      "text/latex": [
       "A data.frame: 9 × 6\n",
       "\\begin{tabular}{llllll}\n",
       " ilift\\_l10\\_bf & ilift\\_auc\\_bf & ilift\\_agg\\_rf\\_ALL & ilift\\_seg2\\_glm\\_ALL\\_fb & tld\\_registrar\\_index & n\\\\\n",
       " <dbl> & <dbl> & <dbl> & <dbl> & <chr> & <int>\\\\\n",
       "\\hline\n",
       "\t 0.9961686 & 0.9961686 & 0.9961686 & 1.047254 & sitedotserve inc & 298\\\\\n",
       "\t 1.1711712 & 1.1711712 & 1.1711712 & 1.216216 & websitehostgator & 289\\\\\n",
       "\t 1.0181818 & 1.0181818 & 1.0181818 & 1.018182 & pwwhois          & 280\\\\\n",
       "\t 1.1064426 & 1.1624650 & 1.1624650 & 1.106443 & fungmo           & 278\\\\\n",
       "\t 1.0050891 & 1.0050891 & 1.0178117 & 1.005089 & sitebaidu        & 272\\\\\n",
       "\t 1.0242086 & 1.0242086 & 1.0242086 & 1.135940 & storewix         & 268\\\\\n",
       "\t 1.0606061 & 1.0606061 & 1.0606061 & 1.015152 & spaceregister.it & 257\\\\\n",
       "\t 1.0365854 & 1.0162602 & 1.0162602 & 1.036585 & storeetsy.com    & 254\\\\\n",
       "\t 1.0092961 & 1.0092961 & 1.0092961 & 1.009296 & sitedomainesia   & 253\\\\\n",
       "\\end{tabular}\n"
      ],
      "text/markdown": [
       "\n",
       "A data.frame: 9 × 6\n",
       "\n",
       "| ilift_l10_bf &lt;dbl&gt; | ilift_auc_bf &lt;dbl&gt; | ilift_agg_rf_ALL &lt;dbl&gt; | ilift_seg2_glm_ALL_fb &lt;dbl&gt; | tld_registrar_index &lt;chr&gt; | n &lt;int&gt; |\n",
       "|---|---|---|---|---|---|\n",
       "| 0.9961686 | 0.9961686 | 0.9961686 | 1.047254 | sitedotserve inc | 298 |\n",
       "| 1.1711712 | 1.1711712 | 1.1711712 | 1.216216 | websitehostgator | 289 |\n",
       "| 1.0181818 | 1.0181818 | 1.0181818 | 1.018182 | pwwhois          | 280 |\n",
       "| 1.1064426 | 1.1624650 | 1.1624650 | 1.106443 | fungmo           | 278 |\n",
       "| 1.0050891 | 1.0050891 | 1.0178117 | 1.005089 | sitebaidu        | 272 |\n",
       "| 1.0242086 | 1.0242086 | 1.0242086 | 1.135940 | storewix         | 268 |\n",
       "| 1.0606061 | 1.0606061 | 1.0606061 | 1.015152 | spaceregister.it | 257 |\n",
       "| 1.0365854 | 1.0162602 | 1.0162602 | 1.036585 | storeetsy.com    | 254 |\n",
       "| 1.0092961 | 1.0092961 | 1.0092961 | 1.009296 | sitedomainesia   | 253 |\n",
       "\n"
      ],
      "text/plain": [
       "  ilift_l10_bf ilift_auc_bf ilift_agg_rf_ALL ilift_seg2_glm_ALL_fb\n",
       "1 0.9961686    0.9961686    0.9961686        1.047254             \n",
       "2 1.1711712    1.1711712    1.1711712        1.216216             \n",
       "3 1.0181818    1.0181818    1.0181818        1.018182             \n",
       "4 1.1064426    1.1624650    1.1624650        1.106443             \n",
       "5 1.0050891    1.0050891    1.0178117        1.005089             \n",
       "6 1.0242086    1.0242086    1.0242086        1.135940             \n",
       "7 1.0606061    1.0606061    1.0606061        1.015152             \n",
       "8 1.0365854    1.0162602    1.0162602        1.036585             \n",
       "9 1.0092961    1.0092961    1.0092961        1.009296             \n",
       "  tld_registrar_index n  \n",
       "1 sitedotserve inc    298\n",
       "2 websitehostgator    289\n",
       "3 pwwhois             280\n",
       "4 fungmo              278\n",
       "5 sitebaidu           272\n",
       "6 storewix            268\n",
       "7 spaceregister.it    257\n",
       "8 storeetsy.com       254\n",
       "9 sitedomainesia      253"
      ]
     },
     "metadata": {},
     "output_type": "display_data"
    }
   ],
   "source": [
    "ilift_tldre_df %>% filter((n>251)&(n<300))"
   ]
  },
  {
   "cell_type": "code",
   "execution_count": null,
   "metadata": {},
   "outputs": [],
   "source": []
  },
  {
   "cell_type": "code",
   "execution_count": null,
   "metadata": {},
   "outputs": [],
   "source": []
  },
  {
   "cell_type": "code",
   "execution_count": null,
   "metadata": {},
   "outputs": [],
   "source": []
  },
  {
   "cell_type": "markdown",
   "metadata": {},
   "source": [
    "## accuracy metrics -- split by priority... by tld. tld priority 2x2 matrix"
   ]
  },
  {
   "cell_type": "code",
   "execution_count": null,
   "metadata": {},
   "outputs": [],
   "source": [
    "head(vis_df)"
   ]
  },
  {
   "cell_type": "code",
   "execution_count": null,
   "metadata": {},
   "outputs": [],
   "source": [
    "vis_df %>% filter((tld=='site') & (priority==1))"
   ]
  },
  {
   "cell_type": "code",
   "execution_count": null,
   "metadata": {},
   "outputs": [],
   "source": [
    "vis_temp <- vis_df %>% group_by(tld,priority) %>% summarize(sum_pred = round(sum(predicted, na.rm=TRUE),4), \n",
    "                                                sum_actl = sum(actual=='Renewed', na.rm=TRUE), \n",
    "                                                error_pa = round((sum_pred)/(sum_actl+0.0000001),2),\n",
    "                                                count = length(actual),\n",
    "                                               )  %>% \n",
    "    arrange(desc(count))\n",
    "head(vis_temp)\n",
    "tail(vis_temp)"
   ]
  },
  {
   "cell_type": "code",
   "execution_count": null,
   "metadata": {},
   "outputs": [],
   "source": [
    "wide_vis_temp <- vis_temp %>% select(tld, priority, error_pa) %>% spread(priority, error_pa)\n",
    "head(wide_vis_temp, 24)"
   ]
  },
  {
   "cell_type": "code",
   "execution_count": null,
   "metadata": {},
   "outputs": [],
   "source": [
    "write.csv(wide_vis_temp ,'../../data/output/deliv_20201210/perf_metrics/20200902_20201008_errorrate_bytldprio_matrix.csv', row.names=FALSE)"
   ]
  },
  {
   "cell_type": "code",
   "execution_count": null,
   "metadata": {},
   "outputs": [],
   "source": [
    "system(\"gsutil cp -r /home/jupyter/Domains_202003/data/output/deliv_20201210/ gs://output_shared/\")"
   ]
  },
  {
   "cell_type": "code",
   "execution_count": null,
   "metadata": {},
   "outputs": [],
   "source": []
  },
  {
   "cell_type": "code",
   "execution_count": null,
   "metadata": {},
   "outputs": [],
   "source": [
    "str(vis_temp$priority)\n",
    "vis_temp$priority <- factor(vis_temp$priority, levels=c(1,2,3,4))\n",
    "str(vis_temp$priority)"
   ]
  },
  {
   "cell_type": "code",
   "execution_count": null,
   "metadata": {},
   "outputs": [],
   "source": [
    "summary(vis_temp$error_pa)\n",
    "summary(vis_temp$error_pa[vis_temp$error_pa<5])\n",
    "min(vis_temp$error_pa)\n",
    "max(vis_temp$error_pa)"
   ]
  },
  {
   "cell_type": "code",
   "execution_count": null,
   "metadata": {},
   "outputs": [],
   "source": [
    "\n",
    "options(repr.plot.width=10, repr.plot.height=10)\n",
    "ggplot(vis_temp[vis_temp$error_pa<5,] , \n",
    "       aes(tld, priority, fill=error_pa)) + geom_raster() +geom_text(aes(label=error_pa), size=5)+ \n",
    "  theme(legend.position = \"none\",\n",
    "       axis.text=element_text(size=15),\n",
    "        axis.title=element_text(size=20),\n",
    "       plot.title = element_text(hjust = 0.5, size=20)) + ggtitle('Error Rate (pred/actual) by TLD x Reseller_Priority, excluding tail')\n"
   ]
  },
  {
   "cell_type": "code",
   "execution_count": null,
   "metadata": {},
   "outputs": [],
   "source": [
    "ggsave('../../data/output/deliv_20201210/20200902_20201008_errorrate_bytldprio_plot.pdf', width=10, height= 10) \n",
    "system(\"gsutil cp -r /home/jupyter/Domains_202003/data/output/deliv_20201203/ gs://output_shared/\")"
   ]
  },
  {
   "cell_type": "code",
   "execution_count": null,
   "metadata": {},
   "outputs": [],
   "source": []
  },
  {
   "cell_type": "code",
   "execution_count": null,
   "metadata": {},
   "outputs": [],
   "source": []
  },
  {
   "cell_type": "code",
   "execution_count": null,
   "metadata": {},
   "outputs": [],
   "source": []
  },
  {
   "cell_type": "code",
   "execution_count": null,
   "metadata": {},
   "outputs": [],
   "source": []
  },
  {
   "cell_type": "code",
   "execution_count": null,
   "metadata": {},
   "outputs": [],
   "source": []
  },
  {
   "cell_type": "markdown",
   "metadata": {},
   "source": [
    "# Evaluate perfromance"
   ]
  },
  {
   "cell_type": "code",
   "execution_count": 51,
   "metadata": {},
   "outputs": [],
   "source": [
    "\n",
    "lift_list <- list()\n",
    "auc_list <- list()\n",
    "\n",
    "fallback_lift <- chart_lift(pred_df=preds_all,\n",
    "                        dep_var = \"renewal_status\",\n",
    "                        pred_var = \"pred_l10_bf\") \n",
    "\n",
    "lift_list[[\"pred_l10_bf\"]] <- fallback_lift\n",
    "auc_list[[\"pred_l10_bf\"]] <- calc_auc(lift_df=fallback_lift)\n",
    "\n",
    "models <- c('pred_agg_glm_ALL','pred_agg_rf_ALL','pred_agg_glm','pred_agg_rf',\n",
    "            'pred_seg_glm_ALL','pred_seg_rf_ALL','pred_seg2_glm_ALL','pred_seg2_rf_ALL',\n",
    "            \n",
    "            'pred_l10_bf','pred_auc_bf', # meta-based preds, NA's backfilled with agg_rf values\n",
    "            \n",
    "            'pred_agg_glm_ALL_fb','pred_agg_rf_ALL_fb','pred_agg_glm_fb','pred_agg_rf_fb',\n",
    "            'pred_seg_glm_ALL_fb','pred_seg_rf_ALL_fb','pred_seg2_glm_ALL_fb','pred_seg2_rf_ALL_fb',\n",
    "            \n",
    "            'pred_l10_fb1','pred_auc_fb1',  # meta-based preds, NA's backfilled with fallback values\n",
    "            'pred_l10_fb2','pred_auc_fb2' # meta-based preds, NAs and low-volume backfilled with fallback values\n",
    "           )\n",
    "\n",
    "\n",
    "for (model in models){\n",
    "    model_lift <- chart_lift(pred_df=preds_all,\n",
    "                        dep_var = \"renewal_status\",\n",
    "                        pred_var = model) \n",
    "    \n",
    "    fallback_lift <- merge(fallback_lift, model_lift, by=c(\"P\"),all= TRUE, \n",
    "                           suffixes = c(\"\",\n",
    "                                        paste(\"_\",gsub(\"pred_df_\", \"\", model)) ))\n",
    "    \n",
    "    lift_list[[model]] <- model_lift\n",
    "    auc_list[[model]] <- calc_auc(lift_df=model_lift)\n",
    "}\n",
    "\n",
    "lift_df <- fallback_lift\n"
   ]
  },
  {
   "cell_type": "code",
   "execution_count": 52,
   "metadata": {},
   "outputs": [
    {
     "data": {
      "text/plain": [
       "\n",
       "Not Renewd    Renewed \n",
       "0.92099418 0.07900582 "
      ]
     },
     "metadata": {},
     "output_type": "display_data"
    }
   ],
   "source": [
    "prop.table(table(preds_all$renewal_status))"
   ]
  },
  {
   "cell_type": "code",
   "execution_count": 53,
   "metadata": {},
   "outputs": [],
   "source": [
    "plot_multigains <- function (lift_df_list=list(metamodel = fallback_lift),\n",
    "                             auc_list = list(metamodel = calc_auc(lift_df=fallback_lift)),\n",
    "                             prop_positive = 0.08231877 ) {\n",
    "  \n",
    "  optimal_df <- data.frame( \"P\"=c(0,prop_positive,1.0),\n",
    "                            \"actu_renwd2\"=c(NA,NA,NA),\n",
    "                            \"gain\"=c(0,1.0,1.0),\n",
    "                            \"lift\"=c(NA,NA,NA))\n",
    "  \n",
    "  lift_df_list <- lapply(lift_df_list, function(df) {\n",
    "    df <- df %>%\n",
    "      add_row(P = 0, gain =0) %>%\n",
    "      arrange(P)\n",
    "  })\n",
    "\n",
    "  auc_lift_list = paste(lapply(auc_list, round, 3),sapply(lift_df_list, function(x) round(x[2,\"lift\"],2)), sep=\", \")\n",
    "  \n",
    "  auc_map = paste(names(lift_df_list),auc_lift_list, sep=\" = \")[1:length(lift_df_list)]\n",
    "  \n",
    "  \n",
    "  gains_plot <- ggplot(NULL, aes(P,  gain)) +\n",
    "    geom_line(data = lift_df_list[[1]] %>% slice(1, n())) +\n",
    "    \n",
    "    list(geom_line(data=optimal_df), geom_point(data=optimal_df)) +\n",
    "    \n",
    "    scale_y_continuous(breaks = seq(0, 1, by = .1), limits = c(0,1)) +\n",
    "    scale_x_continuous(breaks = seq(0, 1, by = .1)) +\n",
    "    labs(title = \"Cumulative Gains Plot\",\n",
    "         y = \"Cumulative Gain\",\n",
    "         x = \"Percentile\")+\n",
    "    theme(text = element_text(size=20))\n",
    "  \n",
    "  for(i in seq(length(lift_df_list))){\n",
    "    name = names(lift_df_list)[[i]]\n",
    "    df = lift_df_list[[i]]\n",
    "    auc = auc_list[[i]]\n",
    "    gains_plot <- gains_plot + list(geom_line(data=df), \n",
    "                                    geom_point(data=df))+ \n",
    "      annotate(\"text\", x = .4, y = .9-i*.075, hjust = 0, label = auc_map[[i]], size = 5)\n",
    "  }\n",
    "  \n",
    "  \n",
    "  return(gains_plot)\n",
    "}\n"
   ]
  },
  {
   "cell_type": "code",
   "execution_count": 54,
   "metadata": {},
   "outputs": [
    {
     "name": "stderr",
     "output_type": "stream",
     "text": [
      "Warning message:\n",
      "“Removed 1 rows containing missing values (geom_text).”\n",
      "Warning message:\n",
      "“Removed 1 rows containing missing values (geom_text).”\n",
      "Warning message:\n",
      "“Removed 1 rows containing missing values (geom_text).”\n",
      "Warning message:\n",
      "“Removed 1 rows containing missing values (geom_text).”\n",
      "Warning message:\n",
      "“Removed 1 rows containing missing values (geom_text).”\n",
      "Warning message:\n",
      "“Removed 1 rows containing missing values (geom_text).”\n",
      "Warning message:\n",
      "“Removed 1 rows containing missing values (geom_text).”\n",
      "Warning message:\n",
      "“Removed 1 rows containing missing values (geom_text).”\n",
      "Warning message:\n",
      "“Removed 1 rows containing missing values (geom_text).”\n",
      "Warning message:\n",
      "“Removed 1 rows containing missing values (geom_text).”\n"
     ]
    },
    {
     "data": {
      "image/png": "[encoded data removed]",
      "text/plain": [
       "plot without title"
      ]
     },
     "metadata": {
      "image/png": {
       "height": 420,
       "width": 420
      },
      "text/plain": {
       "height": 420,
       "width": 420
      }
     },
     "output_type": "display_data"
    }
   ],
   "source": [
    "plot_multigains(            lift_df_list=lift_list,\n",
    "                             auc_list = auc_list,\n",
    "                             prop_positive = 0.08231877 ) "
   ]
  },
  {
   "cell_type": "code",
   "execution_count": 55,
   "metadata": {},
   "outputs": [
    {
     "data": {
      "text/html": [
       "<table>\n",
       "<caption>A data.frame: 22 × 1</caption>\n",
       "<thead>\n",
       "\t<tr><th></th><th scope=col>V1</th></tr>\n",
       "\t<tr><th></th><th scope=col>&lt;dbl&gt;</th></tr>\n",
       "</thead>\n",
       "<tbody>\n",
       "\t<tr><th scope=row>lift_ pred_seg_rf_ALL</th><td>4.866778</td></tr>\n",
       "\t<tr><th scope=row>lift_ pred_agg_rf_ALL</th><td>4.798331</td></tr>\n",
       "\t<tr><th scope=row>lift_ pred_l10_bf</th><td>4.763961</td></tr>\n",
       "\t<tr><th scope=row>lift_ pred_l10_fb1</th><td>4.759261</td></tr>\n",
       "\t<tr><th scope=row>lift_ pred_auc_bf</th><td>4.724597</td></tr>\n",
       "\t<tr><th scope=row>lift_ pred_auc_fb1</th><td>4.721365</td></tr>\n",
       "\t<tr><th scope=row>lift_ pred_seg2_rf_ALL</th><td>4.709321</td></tr>\n",
       "\t<tr><th scope=row>lift_ pred_seg2_glm_ALL</th><td>4.704033</td></tr>\n",
       "\t<tr><th scope=row>lift_ pred_agg_rf</th><td>4.697277</td></tr>\n",
       "\t<tr><th scope=row>lift_ pred_seg_glm_ALL</th><td>4.677595</td></tr>\n",
       "\t<tr><th scope=row>lift_ pred_agg_glm_ALL</th><td>4.675832</td></tr>\n",
       "\t<tr><th scope=row>lift_ pred_seg_rf_ALL_fb</th><td>4.652331</td></tr>\n",
       "\t<tr><th scope=row>lift_ pred_l10_fb2</th><td>4.569196</td></tr>\n",
       "\t<tr><th scope=row>lift_ pred_agg_rf_ALL_fb</th><td>4.568315</td></tr>\n",
       "\t<tr><th scope=row>lift_ pred_agg_rf_fb</th><td>4.568021</td></tr>\n",
       "\t<tr><th scope=row>lift_ pred_auc_fb2</th><td>4.545107</td></tr>\n",
       "\t<tr><th scope=row>lift_ pred_seg_glm_ALL_fb</th><td>4.543932</td></tr>\n",
       "\t<tr><th scope=row>lift_ pred_seg2_glm_ALL_fb</th><td>4.533651</td></tr>\n",
       "\t<tr><th scope=row>lift_ pred_seg2_rf_ALL_fb</th><td>4.510150</td></tr>\n",
       "\t<tr><th scope=row>lift_ pred_agg_glm_fb</th><td>4.500162</td></tr>\n",
       "\t<tr><th scope=row>lift_ pred_agg_glm_ALL_fb</th><td>4.476073</td></tr>\n",
       "\t<tr><th scope=row>lift_ pred_agg_glm</th><td>4.426721</td></tr>\n",
       "</tbody>\n",
       "</table>\n"
      ],
      "text/latex": [
       "A data.frame: 22 × 1\n",
       "\\begin{tabular}{r|l}\n",
       "  & V1\\\\\n",
       "  & <dbl>\\\\\n",
       "\\hline\n",
       "\tlift\\_ pred\\_seg\\_rf\\_ALL & 4.866778\\\\\n",
       "\tlift\\_ pred\\_agg\\_rf\\_ALL & 4.798331\\\\\n",
       "\tlift\\_ pred\\_l10\\_bf & 4.763961\\\\\n",
       "\tlift\\_ pred\\_l10\\_fb1 & 4.759261\\\\\n",
       "\tlift\\_ pred\\_auc\\_bf & 4.724597\\\\\n",
       "\tlift\\_ pred\\_auc\\_fb1 & 4.721365\\\\\n",
       "\tlift\\_ pred\\_seg2\\_rf\\_ALL & 4.709321\\\\\n",
       "\tlift\\_ pred\\_seg2\\_glm\\_ALL & 4.704033\\\\\n",
       "\tlift\\_ pred\\_agg\\_rf & 4.697277\\\\\n",
       "\tlift\\_ pred\\_seg\\_glm\\_ALL & 4.677595\\\\\n",
       "\tlift\\_ pred\\_agg\\_glm\\_ALL & 4.675832\\\\\n",
       "\tlift\\_ pred\\_seg\\_rf\\_ALL\\_fb & 4.652331\\\\\n",
       "\tlift\\_ pred\\_l10\\_fb2 & 4.569196\\\\\n",
       "\tlift\\_ pred\\_agg\\_rf\\_ALL\\_fb & 4.568315\\\\\n",
       "\tlift\\_ pred\\_agg\\_rf\\_fb & 4.568021\\\\\n",
       "\tlift\\_ pred\\_auc\\_fb2 & 4.545107\\\\\n",
       "\tlift\\_ pred\\_seg\\_glm\\_ALL\\_fb & 4.543932\\\\\n",
       "\tlift\\_ pred\\_seg2\\_glm\\_ALL\\_fb & 4.533651\\\\\n",
       "\tlift\\_ pred\\_seg2\\_rf\\_ALL\\_fb & 4.510150\\\\\n",
       "\tlift\\_ pred\\_agg\\_glm\\_fb & 4.500162\\\\\n",
       "\tlift\\_ pred\\_agg\\_glm\\_ALL\\_fb & 4.476073\\\\\n",
       "\tlift\\_ pred\\_agg\\_glm & 4.426721\\\\\n",
       "\\end{tabular}\n"
      ],
      "text/markdown": [
       "\n",
       "A data.frame: 22 × 1\n",
       "\n",
       "| <!--/--> | V1 &lt;dbl&gt; |\n",
       "|---|---|\n",
       "| lift_ pred_seg_rf_ALL | 4.866778 |\n",
       "| lift_ pred_agg_rf_ALL | 4.798331 |\n",
       "| lift_ pred_l10_bf | 4.763961 |\n",
       "| lift_ pred_l10_fb1 | 4.759261 |\n",
       "| lift_ pred_auc_bf | 4.724597 |\n",
       "| lift_ pred_auc_fb1 | 4.721365 |\n",
       "| lift_ pred_seg2_rf_ALL | 4.709321 |\n",
       "| lift_ pred_seg2_glm_ALL | 4.704033 |\n",
       "| lift_ pred_agg_rf | 4.697277 |\n",
       "| lift_ pred_seg_glm_ALL | 4.677595 |\n",
       "| lift_ pred_agg_glm_ALL | 4.675832 |\n",
       "| lift_ pred_seg_rf_ALL_fb | 4.652331 |\n",
       "| lift_ pred_l10_fb2 | 4.569196 |\n",
       "| lift_ pred_agg_rf_ALL_fb | 4.568315 |\n",
       "| lift_ pred_agg_rf_fb | 4.568021 |\n",
       "| lift_ pred_auc_fb2 | 4.545107 |\n",
       "| lift_ pred_seg_glm_ALL_fb | 4.543932 |\n",
       "| lift_ pred_seg2_glm_ALL_fb | 4.533651 |\n",
       "| lift_ pred_seg2_rf_ALL_fb | 4.510150 |\n",
       "| lift_ pred_agg_glm_fb | 4.500162 |\n",
       "| lift_ pred_agg_glm_ALL_fb | 4.476073 |\n",
       "| lift_ pred_agg_glm | 4.426721 |\n",
       "\n"
      ],
      "text/plain": [
       "                           V1      \n",
       "lift_ pred_seg_rf_ALL      4.866778\n",
       "lift_ pred_agg_rf_ALL      4.798331\n",
       "lift_ pred_l10_bf          4.763961\n",
       "lift_ pred_l10_fb1         4.759261\n",
       "lift_ pred_auc_bf          4.724597\n",
       "lift_ pred_auc_fb1         4.721365\n",
       "lift_ pred_seg2_rf_ALL     4.709321\n",
       "lift_ pred_seg2_glm_ALL    4.704033\n",
       "lift_ pred_agg_rf          4.697277\n",
       "lift_ pred_seg_glm_ALL     4.677595\n",
       "lift_ pred_agg_glm_ALL     4.675832\n",
       "lift_ pred_seg_rf_ALL_fb   4.652331\n",
       "lift_ pred_l10_fb2         4.569196\n",
       "lift_ pred_agg_rf_ALL_fb   4.568315\n",
       "lift_ pred_agg_rf_fb       4.568021\n",
       "lift_ pred_auc_fb2         4.545107\n",
       "lift_ pred_seg_glm_ALL_fb  4.543932\n",
       "lift_ pred_seg2_glm_ALL_fb 4.533651\n",
       "lift_ pred_seg2_rf_ALL_fb  4.510150\n",
       "lift_ pred_agg_glm_fb      4.500162\n",
       "lift_ pred_agg_glm_ALL_fb  4.476073\n",
       "lift_ pred_agg_glm         4.426721"
      ]
     },
     "metadata": {},
     "output_type": "display_data"
    }
   ],
   "source": [
    "lift_df_10 <- lift_df %>% filter(P==0.1) %>% select(contains(\"lift_\")) %>% t\n",
    "df <- as.data.frame(as.data.frame(lift_df_10))\n",
    "df %>% arrange(desc(V1))"
   ]
  },
  {
   "cell_type": "code",
   "execution_count": 60,
   "metadata": {},
   "outputs": [
    {
     "data": {
      "text/html": [
       "<strong>lift_ pred_agg_rf_ALL:</strong> 0.0583813905267931"
      ],
      "text/latex": [
       "\\textbf{lift\\textbackslash{}\\_ pred\\textbackslash{}\\_agg\\textbackslash{}\\_rf\\textbackslash{}\\_ALL:} 0.0583813905267931"
      ],
      "text/markdown": [
       "**lift_ pred_agg_rf_ALL:** 0.0583813905267931"
      ],
      "text/plain": [
       "lift_ pred_agg_rf_ALL \n",
       "           0.05838139 "
      ]
     },
     "metadata": {},
     "output_type": "display_data"
    }
   ],
   "source": [
    "# 6% improvement in performance of  agg_rf over backfilled seg2_glm\n",
    "(lift_df_10['lift_ pred_agg_rf_ALL',]-lift_df_10['lift_ pred_seg2_glm_ALL_fb',])/lift_df_10['lift_ pred_seg2_glm_ALL_fb',]"
   ]
  },
  {
   "cell_type": "code",
   "execution_count": 56,
   "metadata": {},
   "outputs": [
    {
     "data": {
      "text/html": [
       "<strong>lift_ pred_l10_bf:</strong> 0.0508002332663773"
      ],
      "text/latex": [
       "\\textbf{lift\\textbackslash{}\\_ pred\\textbackslash{}\\_l10\\textbackslash{}\\_bf:} 0.0508002332663773"
      ],
      "text/markdown": [
       "**lift_ pred_l10_bf:** 0.0508002332663773"
      ],
      "text/plain": [
       "lift_ pred_l10_bf \n",
       "       0.05080023 "
      ]
     },
     "metadata": {},
     "output_type": "display_data"
    },
    {
     "data": {
      "text/html": [
       "<strong>lift_ pred_auc_bf:</strong> 0.0421175403356443"
      ],
      "text/latex": [
       "\\textbf{lift\\textbackslash{}\\_ pred\\textbackslash{}\\_auc\\textbackslash{}\\_bf:} 0.0421175403356443"
      ],
      "text/markdown": [
       "**lift_ pred_auc_bf:** 0.0421175403356443"
      ],
      "text/plain": [
       "lift_ pred_auc_bf \n",
       "       0.04211754 "
      ]
     },
     "metadata": {},
     "output_type": "display_data"
    }
   ],
   "source": [
    "# 5% improvement in performance of meta based predictions NAs backfilled with agg_rf over backfilled seg2_glm\n",
    "(lift_df_10['lift_ pred_l10_bf',]-lift_df_10['lift_ pred_seg2_glm_ALL_fb',])/lift_df_10['lift_ pred_seg2_glm_ALL_fb',]\n",
    "(lift_df_10['lift_ pred_auc_bf',]-lift_df_10['lift_ pred_seg2_glm_ALL_fb',])/lift_df_10['lift_ pred_seg2_glm_ALL_fb',]"
   ]
  },
  {
   "cell_type": "code",
   "execution_count": 57,
   "metadata": {},
   "outputs": [
    {
     "data": {
      "text/html": [
       "<strong>lift_ pred_seg2_glm_ALL:</strong> 0.0375818052225749"
      ],
      "text/latex": [
       "\\textbf{lift\\textbackslash{}\\_ pred\\textbackslash{}\\_seg2\\textbackslash{}\\_glm\\textbackslash{}\\_ALL:} 0.0375818052225749"
      ],
      "text/markdown": [
       "**lift_ pred_seg2_glm_ALL:** 0.0375818052225749"
      ],
      "text/plain": [
       "lift_ pred_seg2_glm_ALL \n",
       "             0.03758181 "
      ]
     },
     "metadata": {},
     "output_type": "display_data"
    }
   ],
   "source": [
    "# 4% improvement in performance of agg_rf over backfilled seg2_glm\n",
    "(lift_df_10['lift_ pred_seg2_glm_ALL',]-lift_df_10['lift_ pred_seg2_glm_ALL_fb',])/lift_df_10['lift_ pred_seg2_glm_ALL_fb',]"
   ]
  },
  {
   "cell_type": "code",
   "execution_count": 58,
   "metadata": {},
   "outputs": [
    {
     "data": {
      "text/html": [
       "<strong>lift_ pred_l10_bf:</strong> 0.0508002332663773"
      ],
      "text/latex": [
       "\\textbf{lift\\textbackslash{}\\_ pred\\textbackslash{}\\_l10\\textbackslash{}\\_bf:} 0.0508002332663773"
      ],
      "text/markdown": [
       "**lift_ pred_l10_bf:** 0.0508002332663773"
      ],
      "text/plain": [
       "lift_ pred_l10_bf \n",
       "       0.05080023 "
      ]
     },
     "metadata": {},
     "output_type": "display_data"
    }
   ],
   "source": [
    "(lift_df_10['lift_ pred_l10_bf',]-lift_df_10['lift_ pred_seg2_glm_ALL_fb',])/lift_df_10['lift_ pred_seg2_glm_ALL_fb',]"
   ]
  },
  {
   "cell_type": "code",
   "execution_count": 59,
   "metadata": {},
   "outputs": [
    {
     "data": {
      "text/html": [
       "<table>\n",
       "<caption>A data.frame: 22 × 1</caption>\n",
       "<thead>\n",
       "\t<tr><th></th><th scope=col>V1</th></tr>\n",
       "\t<tr><th></th><th scope=col>&lt;dbl&gt;</th></tr>\n",
       "</thead>\n",
       "<tbody>\n",
       "\t<tr><th scope=row>pred_seg_rf_ALL</th><td>0.8340898</td></tr>\n",
       "\t<tr><th scope=row>pred_agg_rf_ALL</th><td>0.8320481</td></tr>\n",
       "\t<tr><th scope=row>pred_agg_rf</th><td>0.8304882</td></tr>\n",
       "\t<tr><th scope=row>pred_seg_glm_ALL</th><td>0.8291252</td></tr>\n",
       "\t<tr><th scope=row>pred_seg_rf_ALL_fb</th><td>0.8290077</td></tr>\n",
       "\t<tr><th scope=row>pred_l10_bf</th><td>0.8282556</td></tr>\n",
       "\t<tr><th scope=row>pred_l10_fb1</th><td>0.8281234</td></tr>\n",
       "\t<tr><th scope=row>pred_agg_glm_ALL</th><td>0.8272363</td></tr>\n",
       "\t<tr><th scope=row>pred_auc_bf</th><td>0.8268749</td></tr>\n",
       "\t<tr><th scope=row>pred_auc_fb1</th><td>0.8267428</td></tr>\n",
       "\t<tr><th scope=row>pred_agg_rf_fb</th><td>0.8250477</td></tr>\n",
       "\t<tr><th scope=row>pred_agg_rf_ALL_fb</th><td>0.8250184</td></tr>\n",
       "\t<tr><th scope=row>pred_l10_fb2</th><td>0.8246600</td></tr>\n",
       "\t<tr><th scope=row>pred_seg_glm_ALL_fb</th><td>0.8245660</td></tr>\n",
       "\t<tr><th scope=row>pred_seg2_glm_ALL_fb</th><td>0.8228210</td></tr>\n",
       "\t<tr><th scope=row>pred_seg2_glm_ALL</th><td>0.8219485</td></tr>\n",
       "\t<tr><th scope=row>pred_auc_fb2</th><td>0.8218604</td></tr>\n",
       "\t<tr><th scope=row>pred_agg_glm_fb</th><td>0.8204357</td></tr>\n",
       "\t<tr><th scope=row>pred_agg_glm_ALL_fb</th><td>0.8201243</td></tr>\n",
       "\t<tr><th scope=row>pred_seg2_rf_ALL_fb</th><td>0.8174540</td></tr>\n",
       "\t<tr><th scope=row>pred_seg2_rf_ALL</th><td>0.8166344</td></tr>\n",
       "\t<tr><th scope=row>pred_agg_glm</th><td>0.7875283</td></tr>\n",
       "</tbody>\n",
       "</table>\n"
      ],
      "text/latex": [
       "A data.frame: 22 × 1\n",
       "\\begin{tabular}{r|l}\n",
       "  & V1\\\\\n",
       "  & <dbl>\\\\\n",
       "\\hline\n",
       "\tpred\\_seg\\_rf\\_ALL & 0.8340898\\\\\n",
       "\tpred\\_agg\\_rf\\_ALL & 0.8320481\\\\\n",
       "\tpred\\_agg\\_rf & 0.8304882\\\\\n",
       "\tpred\\_seg\\_glm\\_ALL & 0.8291252\\\\\n",
       "\tpred\\_seg\\_rf\\_ALL\\_fb & 0.8290077\\\\\n",
       "\tpred\\_l10\\_bf & 0.8282556\\\\\n",
       "\tpred\\_l10\\_fb1 & 0.8281234\\\\\n",
       "\tpred\\_agg\\_glm\\_ALL & 0.8272363\\\\\n",
       "\tpred\\_auc\\_bf & 0.8268749\\\\\n",
       "\tpred\\_auc\\_fb1 & 0.8267428\\\\\n",
       "\tpred\\_agg\\_rf\\_fb & 0.8250477\\\\\n",
       "\tpred\\_agg\\_rf\\_ALL\\_fb & 0.8250184\\\\\n",
       "\tpred\\_l10\\_fb2 & 0.8246600\\\\\n",
       "\tpred\\_seg\\_glm\\_ALL\\_fb & 0.8245660\\\\\n",
       "\tpred\\_seg2\\_glm\\_ALL\\_fb & 0.8228210\\\\\n",
       "\tpred\\_seg2\\_glm\\_ALL & 0.8219485\\\\\n",
       "\tpred\\_auc\\_fb2 & 0.8218604\\\\\n",
       "\tpred\\_agg\\_glm\\_fb & 0.8204357\\\\\n",
       "\tpred\\_agg\\_glm\\_ALL\\_fb & 0.8201243\\\\\n",
       "\tpred\\_seg2\\_rf\\_ALL\\_fb & 0.8174540\\\\\n",
       "\tpred\\_seg2\\_rf\\_ALL & 0.8166344\\\\\n",
       "\tpred\\_agg\\_glm & 0.7875283\\\\\n",
       "\\end{tabular}\n"
      ],
      "text/markdown": [
       "\n",
       "A data.frame: 22 × 1\n",
       "\n",
       "| <!--/--> | V1 &lt;dbl&gt; |\n",
       "|---|---|\n",
       "| pred_seg_rf_ALL | 0.8340898 |\n",
       "| pred_agg_rf_ALL | 0.8320481 |\n",
       "| pred_agg_rf | 0.8304882 |\n",
       "| pred_seg_glm_ALL | 0.8291252 |\n",
       "| pred_seg_rf_ALL_fb | 0.8290077 |\n",
       "| pred_l10_bf | 0.8282556 |\n",
       "| pred_l10_fb1 | 0.8281234 |\n",
       "| pred_agg_glm_ALL | 0.8272363 |\n",
       "| pred_auc_bf | 0.8268749 |\n",
       "| pred_auc_fb1 | 0.8267428 |\n",
       "| pred_agg_rf_fb | 0.8250477 |\n",
       "| pred_agg_rf_ALL_fb | 0.8250184 |\n",
       "| pred_l10_fb2 | 0.8246600 |\n",
       "| pred_seg_glm_ALL_fb | 0.8245660 |\n",
       "| pred_seg2_glm_ALL_fb | 0.8228210 |\n",
       "| pred_seg2_glm_ALL | 0.8219485 |\n",
       "| pred_auc_fb2 | 0.8218604 |\n",
       "| pred_agg_glm_fb | 0.8204357 |\n",
       "| pred_agg_glm_ALL_fb | 0.8201243 |\n",
       "| pred_seg2_rf_ALL_fb | 0.8174540 |\n",
       "| pred_seg2_rf_ALL | 0.8166344 |\n",
       "| pred_agg_glm | 0.7875283 |\n",
       "\n"
      ],
      "text/plain": [
       "                     V1       \n",
       "pred_seg_rf_ALL      0.8340898\n",
       "pred_agg_rf_ALL      0.8320481\n",
       "pred_agg_rf          0.8304882\n",
       "pred_seg_glm_ALL     0.8291252\n",
       "pred_seg_rf_ALL_fb   0.8290077\n",
       "pred_l10_bf          0.8282556\n",
       "pred_l10_fb1         0.8281234\n",
       "pred_agg_glm_ALL     0.8272363\n",
       "pred_auc_bf          0.8268749\n",
       "pred_auc_fb1         0.8267428\n",
       "pred_agg_rf_fb       0.8250477\n",
       "pred_agg_rf_ALL_fb   0.8250184\n",
       "pred_l10_fb2         0.8246600\n",
       "pred_seg_glm_ALL_fb  0.8245660\n",
       "pred_seg2_glm_ALL_fb 0.8228210\n",
       "pred_seg2_glm_ALL    0.8219485\n",
       "pred_auc_fb2         0.8218604\n",
       "pred_agg_glm_fb      0.8204357\n",
       "pred_agg_glm_ALL_fb  0.8201243\n",
       "pred_seg2_rf_ALL_fb  0.8174540\n",
       "pred_seg2_rf_ALL     0.8166344\n",
       "pred_agg_glm         0.7875283"
      ]
     },
     "metadata": {},
     "output_type": "display_data"
    }
   ],
   "source": [
    "df <- as.data.frame(as.data.frame(as.data.frame(auc_list)) %>% t())\n",
    "df %>% arrange(desc(V1))"
   ]
  },
  {
   "cell_type": "code",
   "execution_count": 61,
   "metadata": {},
   "outputs": [
    {
     "data": {
      "text/html": [
       "0.828255632913252"
      ],
      "text/latex": [
       "0.828255632913252"
      ],
      "text/markdown": [
       "0.828255632913252"
      ],
      "text/plain": [
       "[1] 0.8282556"
      ]
     },
     "metadata": {},
     "output_type": "display_data"
    },
    {
     "data": {
      "text/html": [
       "0.826874944919362"
      ],
      "text/latex": [
       "0.826874944919362"
      ],
      "text/markdown": [
       "0.826874944919362"
      ],
      "text/plain": [
       "[1] 0.8268749"
      ]
     },
     "metadata": {},
     "output_type": "display_data"
    },
    {
     "data": {
      "text/html": [
       "0.822821009958579"
      ],
      "text/latex": [
       "0.822821009958579"
      ],
      "text/markdown": [
       "0.822821009958579"
      ],
      "text/plain": [
       "[1] 0.822821"
      ]
     },
     "metadata": {},
     "output_type": "display_data"
    },
    {
     "data": {
      "text/html": [
       "0.0112139923205039"
      ],
      "text/latex": [
       "0.0112139923205039"
      ],
      "text/markdown": [
       "0.0112139923205039"
      ],
      "text/plain": [
       "[1] 0.01121399"
      ]
     },
     "metadata": {},
     "output_type": "display_data"
    },
    {
     "data": {
      "text/html": [
       "0.00660486653706852"
      ],
      "text/latex": [
       "0.00660486653706852"
      ],
      "text/markdown": [
       "0.00660486653706852"
      ],
      "text/plain": [
       "[1] 0.006604867"
      ]
     },
     "metadata": {},
     "output_type": "display_data"
    },
    {
     "data": {
      "text/html": [
       "0.00492687341684035"
      ],
      "text/latex": [
       "0.00492687341684035"
      ],
      "text/markdown": [
       "0.00492687341684035"
      ],
      "text/plain": [
       "[1] 0.004926873"
      ]
     },
     "metadata": {},
     "output_type": "display_data"
    }
   ],
   "source": [
    "# 0.5-0.7% improvement in performance of meta_bf over seg2_glm_fb - auc\n",
    "auc_list$pred_l10_bf\n",
    "auc_list$pred_auc_bf\n",
    "auc_list$pred_seg2_glm_ALL_fb\n",
    "(auc_list$pred_agg_rf_ALL-auc_list$pred_seg2_glm_ALL_fb)/(auc_list$pred_seg2_glm_ALL_fb)\n",
    "(auc_list$pred_l10_bf-auc_list$pred_seg2_glm_ALL_fb)/(auc_list$pred_seg2_glm_ALL_fb)\n",
    "(auc_list$pred_auc_bf-auc_list$pred_seg2_glm_ALL_fb)/(auc_list$pred_seg2_glm_ALL_fb)"
   ]
  },
  {
   "cell_type": "code",
   "execution_count": 62,
   "metadata": {},
   "outputs": [
    {
     "data": {
      "text/html": [
       "0.832048118445404"
      ],
      "text/latex": [
       "0.832048118445404"
      ],
      "text/markdown": [
       "0.832048118445404"
      ],
      "text/plain": [
       "[1] 0.8320481"
      ]
     },
     "metadata": {},
     "output_type": "display_data"
    },
    {
     "data": {
      "text/html": [
       "0.822821009958579"
      ],
      "text/latex": [
       "0.822821009958579"
      ],
      "text/markdown": [
       "0.822821009958579"
      ],
      "text/plain": [
       "[1] 0.822821"
      ]
     },
     "metadata": {},
     "output_type": "display_data"
    },
    {
     "data": {
      "text/html": [
       "0.0112139923205039"
      ],
      "text/latex": [
       "0.0112139923205039"
      ],
      "text/markdown": [
       "0.0112139923205039"
      ],
      "text/plain": [
       "[1] 0.01121399"
      ]
     },
     "metadata": {},
     "output_type": "display_data"
    }
   ],
   "source": [
    "# 1.1% improvement in performance of agg_rf over seg2_glm_fb - auc\n",
    "auc_list$pred_agg_rf_ALL\n",
    "auc_list$pred_seg2_glm_ALL_fb\n",
    "(auc_list$pred_agg_rf_ALL-auc_list$pred_seg2_glm_ALL_fb)/(auc_list$pred_seg2_glm_ALL_fb)"
   ]
  }
 ],
 "metadata": {
  "environment": {
   "name": "r-cpu.3-6.m48",
   "type": "gcloud",
   "uri": "gcr.io/deeplearning-platform-release/r-cpu.3-6:m48"
  },
  "kernelspec": {
   "display_name": "R",
   "language": "R",
   "name": "ir"
  },
  "language_info": {
   "codemirror_mode": "r",
   "file_extension": ".r",
   "mimetype": "text/x-r-source",
   "name": "R",
   "pygments_lexer": "r",
   "version": "3.6.3"
  }
 },
 "nbformat": 4,
 "nbformat_minor": 4
}
