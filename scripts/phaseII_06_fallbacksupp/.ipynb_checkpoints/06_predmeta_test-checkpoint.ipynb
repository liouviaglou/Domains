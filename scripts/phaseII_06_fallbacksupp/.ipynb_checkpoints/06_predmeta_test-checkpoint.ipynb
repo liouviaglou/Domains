{
 "cells": [
  {
   "cell_type": "markdown",
   "metadata": {},
   "source": [
    "# Testing Metalearning Predictions script"
   ]
  },
  {
   "cell_type": "code",
   "execution_count": 1,
   "metadata": {},
   "outputs": [],
   "source": [
    "options(repr.matrix.max.cols=50, repr.matrix.max.rows=100)"
   ]
  },
  {
   "cell_type": "code",
   "execution_count": 2,
   "metadata": {},
   "outputs": [],
   "source": [
    "# install.packages(\"pkgcond\")"
   ]
  },
  {
   "cell_type": "code",
   "execution_count": 3,
   "metadata": {},
   "outputs": [
    {
     "name": "stderr",
     "output_type": "stream",
     "text": [
      "\n",
      "Attaching package: ‘dplyr’\n",
      "\n",
      "\n",
      "The following objects are masked from ‘package:stats’:\n",
      "\n",
      "    filter, lag\n",
      "\n",
      "\n",
      "The following objects are masked from ‘package:base’:\n",
      "\n",
      "    intersect, setdiff, setequal, union\n",
      "\n",
      "\n",
      "\n",
      "Attaching package: ‘data.table’\n",
      "\n",
      "\n",
      "The following objects are masked from ‘package:dplyr’:\n",
      "\n",
      "    between, first, last\n",
      "\n",
      "\n",
      "Loading required package: grid\n",
      "\n",
      "Loading required package: libcoin\n",
      "\n",
      "Loading required package: mvtnorm\n",
      "\n",
      "Loading required package: lattice\n",
      "\n",
      "Loading required package: ggplot2\n",
      "\n",
      "randomForest 4.6-14\n",
      "\n",
      "Type rfNews() to see new features/changes/bug fixes.\n",
      "\n",
      "\n",
      "Attaching package: ‘randomForest’\n",
      "\n",
      "\n",
      "The following object is masked from ‘package:ggplot2’:\n",
      "\n",
      "    margin\n",
      "\n",
      "\n",
      "The following object is masked from ‘package:dplyr’:\n",
      "\n",
      "    combine\n",
      "\n",
      "\n",
      "\n",
      "Attaching package: ‘ranger’\n",
      "\n",
      "\n",
      "The following object is masked from ‘package:randomForest’:\n",
      "\n",
      "    importance\n",
      "\n",
      "\n",
      "\n",
      "Attaching package: ‘plotly’\n",
      "\n",
      "\n",
      "The following object is masked from ‘package:ggplot2’:\n",
      "\n",
      "    last_plot\n",
      "\n",
      "\n",
      "The following object is masked from ‘package:stats’:\n",
      "\n",
      "    filter\n",
      "\n",
      "\n",
      "The following object is masked from ‘package:graphics’:\n",
      "\n",
      "    layout\n",
      "\n",
      "\n"
     ]
    },
    {
     "ename": "ERROR",
     "evalue": "Error in library(rPython): there is no package called ‘rPython’\n",
     "output_type": "error",
     "traceback": [
      "Error in library(rPython): there is no package called ‘rPython’\nTraceback:\n",
      "1. library(rPython)"
     ]
    }
   ],
   "source": [
    "library(dplyr)\n",
    "library(data.table)\n",
    "library(partykit)\n",
    "library(tictoc)\n",
    "library(caret)\n",
    "library(e1071)\n",
    "library(randomForest)\n",
    "library(ranger)\n",
    "\n",
    "#for 3d plotting\n",
    "library(akima)\n",
    "library(plotly)\n",
    "\n",
    "# for prep data\n",
    "library(rPython)\n",
    "library(stringr)\n",
    "library(pbapply)\n",
    "library(stringdist)\n",
    "library(data.table)\n",
    "library(dominanceanalysis)\n",
    "library(zoo)\n",
    "\n",
    "\n",
    "getwd()"
   ]
  },
  {
   "cell_type": "code",
   "execution_count": 4,
   "metadata": {},
   "outputs": [],
   "source": [
    "\n",
    "source('../orig/functions.R')\n",
    "\n",
    "source('../orig/functions_models.R')\n",
    "\n",
    "source('../phaseII_03_forest/functions_eval.R')\n",
    "\n",
    "\n",
    "# source('../phaseII_03_forest/load_prep_data_expiry.R')\n",
    "\n",
    "\n",
    "\n",
    "# expiry_train_prepped_2_1 (list, less df's w/ 0 obs)\n",
    "# expiry_test_prepped_2_1  (list, less df's w/ 0 obs)\n",
    "# expiry_train_df_1 (above, rbound)\n",
    "# expiry_test_df_1 (above, rbound)\n",
    "# expiry_train_df_sub (subset vars)                                        \n",
    "# expiry_test_df_sub (subset vars)"
   ]
  },
  {
   "cell_type": "code",
   "execution_count": 5,
   "metadata": {},
   "outputs": [],
   "source": [
    "source('functions_metalearning.R')"
   ]
  },
  {
   "cell_type": "code",
   "execution_count": 6,
   "metadata": {},
   "outputs": [
    {
     "name": "stdout",
     "output_type": "stream",
     "text": [
      "Loading data...Loaded 5427633 rows\n",
      "Removing 0 rows due to expiry_date constraints\n",
      "Removing 758186 rows due to renewed_count constraints\n",
      "Removing 7716 rows due to missing gibb_score\n",
      "... now dataset min(creation_date) is  2017-01-01 .\n"
     ]
    }
   ],
   "source": [
    "source('load_prep_data_expiry_2.R')"
   ]
  },
  {
   "cell_type": "code",
   "execution_count": 112,
   "metadata": {},
   "outputs": [
    {
     "data": {
      "text/html": [
       "1"
      ],
      "text/latex": [
       "1"
      ],
      "text/markdown": [
       "1"
      ],
      "text/plain": [
       "[1] 1"
      ]
     },
     "metadata": {},
     "output_type": "display_data"
    }
   ],
   "source": [
    "1"
   ]
  },
  {
   "cell_type": "markdown",
   "metadata": {},
   "source": [
    "# DEFINE limited global objects"
   ]
  },
  {
   "cell_type": "code",
   "execution_count": 61,
   "metadata": {},
   "outputs": [
    {
     "data": {
      "text/html": [
       "1723"
      ],
      "text/latex": [
       "1723"
      ],
      "text/markdown": [
       "1723"
      ],
      "text/plain": [
       "[1] 1723"
      ]
     },
     "metadata": {},
     "output_type": "display_data"
    }
   ],
   "source": [
    "# tld_reseller_list = expiry_train_df_1 %>% distinct(tld_registrar_index) %>% \n",
    "#   pull(tld_registrar_index) \n",
    "# length(tld_reseller_list)\n",
    "# tld_reseller_list = c('storenetwork solutions','storeru-center','storebigrock','onlinewhois','websiteregister.it')\n",
    "#tld_reseller_list"
   ]
  },
  {
   "cell_type": "markdown",
   "metadata": {},
   "source": [
    "# Exclude low-vol tld-re's"
   ]
  },
  {
   "cell_type": "code",
   "execution_count": 6,
   "metadata": {},
   "outputs": [
    {
     "name": "stdout",
     "output_type": "stream",
     "text": [
      "Exluding 1239 tld-re's (71.91%), due to volume < 100 \n"
     ]
    }
   ],
   "source": [
    "tld_registrar_excl_list = tld_registrar_excl(train_list = expiry_train_prepped_2_1)"
   ]
  },
  {
   "cell_type": "code",
   "execution_count": 90,
   "metadata": {},
   "outputs": [
    {
     "data": {
      "text/html": [
       "5"
      ],
      "text/latex": [
       "5"
      ],
      "text/markdown": [
       "5"
      ],
      "text/plain": [
       "[1] 5"
      ]
     },
     "metadata": {},
     "output_type": "display_data"
    }
   ],
   "source": [
    "# tld_reseller_list = tld_reseller_list[!(tld_reseller_list %in% tld_registrar_exl_list)]\n",
    "# length(tld_reseller_list)"
   ]
  },
  {
   "cell_type": "code",
   "execution_count": 7,
   "metadata": {},
   "outputs": [],
   "source": [
    "tld_reseller_list = c('websitenamecheap','storeuol','storemat bao','onlinedonweb','onlinecrazy domains')"
   ]
  },
  {
   "cell_type": "code",
   "execution_count": 8,
   "metadata": {},
   "outputs": [],
   "source": [
    "train_list = expiry_train_prepped_2_1[tld_reseller_list]"
   ]
  },
  {
   "cell_type": "code",
   "execution_count": 9,
   "metadata": {},
   "outputs": [
    {
     "data": {
      "text/html": [
       "5"
      ],
      "text/latex": [
       "5"
      ],
      "text/markdown": [
       "5"
      ],
      "text/plain": [
       "[1] 5"
      ]
     },
     "metadata": {},
     "output_type": "display_data"
    }
   ],
   "source": [
    "length(train_list)"
   ]
  },
  {
   "cell_type": "markdown",
   "metadata": {},
   "source": [
    "# TEST train_all in functions*.R"
   ]
  },
  {
   "cell_type": "code",
   "execution_count": 10,
   "metadata": {},
   "outputs": [],
   "source": [
    "\n",
    "source('functions_metalearning.R')"
   ]
  },
  {
   "cell_type": "code",
   "execution_count": null,
   "metadata": {},
   "outputs": [],
   "source": [
    "# subDir = paste(\"models\", format(Sys.Date(), format=\"%Y%m%d\") , sep = \"_\")\n",
    "# fullDir = file.path('../../data/output', subDir)\n",
    "# dir.create(fullDir, showWarnings = FALSE)"
   ]
  },
  {
   "cell_type": "code",
   "execution_count": 11,
   "metadata": {},
   "outputs": [
    {
     "name": "stdout",
     "output_type": "stream",
     "text": [
      "[1] \"model_seg_glm_crazydomains\"\n",
      "[1] \"model_seg_rf_crazydomains\"\n",
      "[1] \"model_seg_glm_donweb\"\n",
      "[1] \"model_seg_rf_donweb\"\n",
      "[1] \"model_seg_glm_matbao\"\n",
      "[1] \"model_seg_rf_matbao\"\n",
      "[1] \"model_seg_glm_uol\"\n",
      "[1] \"model_seg_rf_uol\"\n",
      "[1] \"model_seg_glm_namecheap\"\n",
      "[1] \"model_seg_rf_namecheap\"\n",
      "Growing trees.. Progress: 42%. Estimated remaining time: 43 seconds.\n",
      "Growing trees.. Progress: 84%. Estimated remaining time: 11 seconds.\n",
      "[1] \"model_seg2_glm_websitenamecheap\"\n",
      "[1] \"model_seg2_rf_websitenamecheap\"\n",
      "[1] \"model_seg2_glm_storeuol\"\n",
      "[1] \"model_seg2_rf_storeuol\"\n",
      "[1] \"model_seg2_glm_onlinedonweb\"\n",
      "[1] \"model_seg2_rf_onlinedonweb\"\n",
      "[1] \"model_seg2_glm_onlinecrazydomains\"\n",
      "[1] \"model_seg2_rf_onlinecrazydomains\"\n",
      "[1] \"model_seg2_glm_storematbao\"\n",
      "[1] \"model_seg2_rf_storematbao\"\n"
     ]
    }
   ],
   "source": [
    "tld_reseller_list = train_all(tld_reseller_list,\n",
    "                              tld_registrar_excl_list,\n",
    "                       train_list = expiry_train_prepped_2_1,\n",
    "                       test_list = expiry_test_prepped_2_1,\n",
    "                       model_agg_glm = NULL, \n",
    "                       model_agg_rf = NULL,\n",
    "         fullDir='../../data/output/models_20201020')   "
   ]
  },
  {
   "cell_type": "code",
   "execution_count": 12,
   "metadata": {},
   "outputs": [
    {
     "data": {
      "text/html": [
       "<style>\n",
       ".list-inline {list-style: none; margin:0; padding: 0}\n",
       ".list-inline>li {display: inline-block}\n",
       ".list-inline>li:not(:last-child)::after {content: \"\\00b7\"; padding: 0 .5ex}\n",
       "</style>\n",
       "<ol class=list-inline><li>'websitenamecheap'</li><li>'storeuol'</li><li>'onlinedonweb'</li><li>'onlinecrazy domains'</li><li>'storemat bao'</li></ol>\n"
      ],
      "text/latex": [
       "\\begin{enumerate*}\n",
       "\\item 'websitenamecheap'\n",
       "\\item 'storeuol'\n",
       "\\item 'onlinedonweb'\n",
       "\\item 'onlinecrazy domains'\n",
       "\\item 'storemat bao'\n",
       "\\end{enumerate*}\n"
      ],
      "text/markdown": [
       "1. 'websitenamecheap'\n",
       "2. 'storeuol'\n",
       "3. 'onlinedonweb'\n",
       "4. 'onlinecrazy domains'\n",
       "5. 'storemat bao'\n",
       "\n",
       "\n"
      ],
      "text/plain": [
       "[1] \"websitenamecheap\"    \"storeuol\"            \"onlinedonweb\"       \n",
       "[4] \"onlinecrazy domains\" \"storemat bao\"       "
      ]
     },
     "metadata": {},
     "output_type": "display_data"
    }
   ],
   "source": [
    "tld_reseller_list"
   ]
  },
  {
   "cell_type": "markdown",
   "metadata": {},
   "source": [
    "# TEST pred_all in functions*.R"
   ]
  },
  {
   "cell_type": "code",
   "execution_count": 13,
   "metadata": {},
   "outputs": [],
   "source": [
    "source('functions_metalearning.R')"
   ]
  },
  {
   "cell_type": "code",
   "execution_count": 15,
   "metadata": {},
   "outputs": [
    {
     "name": "stdout",
     "output_type": "stream",
     "text": [
      "\n",
      "\n",
      "Predicting model_agg_glm\n",
      "[1] \"websitenamecheap\"\n"
     ]
    },
    {
     "name": "stderr",
     "output_type": "stream",
     "text": [
      "Warning message in predict.lm(object, newdata, se.fit, scale = 1, type = if (type == :\n",
      "“prediction from a rank-deficient fit may be misleading”\n"
     ]
    },
    {
     "name": "stdout",
     "output_type": "stream",
     "text": [
      "[1] \"storeuol\"\n"
     ]
    },
    {
     "name": "stderr",
     "output_type": "stream",
     "text": [
      "Warning message in predict.lm(object, newdata, se.fit, scale = 1, type = if (type == :\n",
      "“prediction from a rank-deficient fit may be misleading”\n"
     ]
    },
    {
     "name": "stdout",
     "output_type": "stream",
     "text": [
      "[1] \"onlinedonweb\"\n"
     ]
    },
    {
     "name": "stderr",
     "output_type": "stream",
     "text": [
      "Warning message in predict.lm(object, newdata, se.fit, scale = 1, type = if (type == :\n",
      "“prediction from a rank-deficient fit may be misleading”\n"
     ]
    },
    {
     "name": "stdout",
     "output_type": "stream",
     "text": [
      "[1] \"onlinecrazy domains\"\n"
     ]
    },
    {
     "name": "stderr",
     "output_type": "stream",
     "text": [
      "Warning message in predict.lm(object, newdata, se.fit, scale = 1, type = if (type == :\n",
      "“prediction from a rank-deficient fit may be misleading”\n"
     ]
    },
    {
     "name": "stdout",
     "output_type": "stream",
     "text": [
      "[1] \"storemat bao\"\n"
     ]
    },
    {
     "name": "stderr",
     "output_type": "stream",
     "text": [
      "Warning message in predict.lm(object, newdata, se.fit, scale = 1, type = if (type == :\n",
      "“prediction from a rank-deficient fit may be misleading”\n"
     ]
    },
    {
     "name": "stdout",
     "output_type": "stream",
     "text": [
      "\n",
      "\n",
      "Predicting model_agg_rf\n",
      "[1] \"websitenamecheap\"\n",
      "[1] \"storeuol\"\n",
      "[1] \"onlinedonweb\"\n",
      "[1] \"onlinecrazy domains\"\n",
      "[1] \"storemat bao\"\n",
      "\n",
      "\n",
      "Predicting model_seg_glm\n",
      "[1] \"websitenamecheap\"\n"
     ]
    },
    {
     "name": "stderr",
     "output_type": "stream",
     "text": [
      "Warning message in if (is.na(model) | is.null(test_data)) {:\n",
      "“the condition has length > 1 and only the first element will be used”\n"
     ]
    },
    {
     "name": "stdout",
     "output_type": "stream",
     "text": [
      "[1] \"storeuol\"\n"
     ]
    },
    {
     "name": "stderr",
     "output_type": "stream",
     "text": [
      "Warning message in if (is.na(model) | is.null(test_data)) {:\n",
      "“the condition has length > 1 and only the first element will be used”\n"
     ]
    },
    {
     "name": "stdout",
     "output_type": "stream",
     "text": [
      "[1] \"onlinedonweb\"\n"
     ]
    },
    {
     "name": "stderr",
     "output_type": "stream",
     "text": [
      "Warning message in if (is.na(model) | is.null(test_data)) {:\n",
      "“the condition has length > 1 and only the first element will be used”\n"
     ]
    },
    {
     "name": "stdout",
     "output_type": "stream",
     "text": [
      "[1] \"onlinecrazy domains\"\n"
     ]
    },
    {
     "name": "stderr",
     "output_type": "stream",
     "text": [
      "Warning message in if (is.na(model) | is.null(test_data)) {:\n",
      "“the condition has length > 1 and only the first element will be used”\n"
     ]
    },
    {
     "name": "stdout",
     "output_type": "stream",
     "text": [
      "[1] \"storemat bao\"\n"
     ]
    },
    {
     "name": "stderr",
     "output_type": "stream",
     "text": [
      "Warning message in if (is.na(model) | is.null(test_data)) {:\n",
      "“the condition has length > 1 and only the first element will be used”\n"
     ]
    },
    {
     "name": "stdout",
     "output_type": "stream",
     "text": [
      "\n",
      "\n",
      "Predicting model_seg_rf\n",
      "[1] \"websitenamecheap\"\n",
      "[1] \"storeuol\"\n",
      "[1] \"onlinedonweb\"\n",
      "[1] \"onlinecrazy domains\"\n",
      "[1] \"storemat bao\"\n",
      "\n",
      "\n",
      "Predicting model_seg2_glm\n",
      "[1] \"websitenamecheap\"\n"
     ]
    },
    {
     "name": "stderr",
     "output_type": "stream",
     "text": [
      "Warning message in if (is.na(model) | is.null(test_data)) {:\n",
      "“the condition has length > 1 and only the first element will be used”\n"
     ]
    },
    {
     "name": "stdout",
     "output_type": "stream",
     "text": [
      "[1] \"storeuol\"\n"
     ]
    },
    {
     "name": "stderr",
     "output_type": "stream",
     "text": [
      "Warning message in if (is.na(model) | is.null(test_data)) {:\n",
      "“the condition has length > 1 and only the first element will be used”\n"
     ]
    },
    {
     "name": "stdout",
     "output_type": "stream",
     "text": [
      "[1] \"onlinedonweb\"\n"
     ]
    },
    {
     "name": "stderr",
     "output_type": "stream",
     "text": [
      "Warning message in if (is.na(model) | is.null(test_data)) {:\n",
      "“the condition has length > 1 and only the first element will be used”\n"
     ]
    },
    {
     "name": "stdout",
     "output_type": "stream",
     "text": [
      "[1] \"onlinecrazy domains\"\n"
     ]
    },
    {
     "name": "stderr",
     "output_type": "stream",
     "text": [
      "Warning message in if (is.na(model) | is.null(test_data)) {:\n",
      "“the condition has length > 1 and only the first element will be used”\n"
     ]
    },
    {
     "name": "stdout",
     "output_type": "stream",
     "text": [
      "[1] \"storemat bao\"\n"
     ]
    },
    {
     "name": "stderr",
     "output_type": "stream",
     "text": [
      "Warning message in if (is.na(model) | is.null(test_data)) {:\n",
      "“the condition has length > 1 and only the first element will be used”\n",
      "Warning message in predict.lm(object, newdata, se.fit, scale = 1, type = if (type == :\n",
      "“prediction from a rank-deficient fit may be misleading”\n"
     ]
    },
    {
     "name": "stdout",
     "output_type": "stream",
     "text": [
      "\n",
      "\n",
      "Predicting model_seg2_rf\n",
      "[1] \"websitenamecheap\"\n",
      "[1] \"storeuol\"\n",
      "[1] \"onlinedonweb\"\n",
      "[1] \"onlinecrazy domains\"\n",
      "[1] \"storemat bao\"\n"
     ]
    },
    {
     "name": "stderr",
     "output_type": "stream",
     "text": [
      "Warning message in if (is.na(preds_seg_glm[[i]])) {:\n",
      "“the condition has length > 1 and only the first element will be used”\n",
      "Warning message in if (is.na(preds_seg_glm[[i]])) {:\n",
      "“the condition has length > 1 and only the first element will be used”\n",
      "Warning message in if (is.na(preds_seg_glm[[i]])) {:\n",
      "“the condition has length > 1 and only the first element will be used”\n",
      "Warning message in if (is.na(preds_seg_glm[[i]])) {:\n",
      "“the condition has length > 1 and only the first element will be used”\n",
      "Warning message in if (is.na(preds_seg_glm[[i]])) {:\n",
      "“the condition has length > 1 and only the first element will be used”\n"
     ]
    }
   ],
   "source": [
    "preds_df <- pred_all(tld_reseller_list, tld_registrar_excl_list,\n",
    "                      test_list = expiry_test_prepped_2_1,\n",
    "                  fullDir='../../data/output/models_20201020' # dir of models\n",
    "                      )"
   ]
  },
  {
   "cell_type": "code",
   "execution_count": 16,
   "metadata": {},
   "outputs": [
    {
     "data": {
      "text/html": [
       "<table>\n",
       "<caption>A data.table: 6 × 7</caption>\n",
       "<thead>\n",
       "\t<tr><th scope=col>renewal_status</th><th scope=col>pred_agg_glm</th><th scope=col>pred_agg_rf</th><th scope=col>pred_seg_glm</th><th scope=col>pred_seg_rf</th><th scope=col>pred_seg2_glm</th><th scope=col>pred_seg2_rf</th></tr>\n",
       "\t<tr><th scope=col>&lt;fct&gt;</th><th scope=col>&lt;dbl&gt;</th><th scope=col>&lt;dbl&gt;</th><th scope=col>&lt;dbl&gt;</th><th scope=col>&lt;dbl&gt;</th><th scope=col>&lt;dbl&gt;</th><th scope=col>&lt;dbl&gt;</th></tr>\n",
       "</thead>\n",
       "<tbody>\n",
       "\t<tr><td>Renewed   </td><td>0.193</td><td>0.4870859</td><td>0.719</td><td>0.4438893</td><td>0.3787142</td><td>0.5009564</td></tr>\n",
       "\t<tr><td>Not Renewd</td><td>0.191</td><td>0.3272803</td><td>0.716</td><td>0.3856979</td><td>0.3737353</td><td>0.4038157</td></tr>\n",
       "\t<tr><td>Not Renewd</td><td>0.201</td><td>0.4503606</td><td>0.732</td><td>0.4557063</td><td>0.3911853</td><td>0.4264446</td></tr>\n",
       "\t<tr><td>Not Renewd</td><td>0.188</td><td>0.4750480</td><td>0.712</td><td>0.5444202</td><td>0.3685513</td><td>0.4542695</td></tr>\n",
       "\t<tr><td>Not Renewd</td><td>0.188</td><td>0.3215509</td><td>0.711</td><td>0.4049546</td><td>0.3692081</td><td>0.4116593</td></tr>\n",
       "\t<tr><td>Not Renewd</td><td>0.183</td><td>0.3699182</td><td>0.701</td><td>0.4838001</td><td>0.3612048</td><td>0.4254576</td></tr>\n",
       "</tbody>\n",
       "</table>\n"
      ],
      "text/latex": [
       "A data.table: 6 × 7\n",
       "\\begin{tabular}{lllllll}\n",
       " renewal\\_status & pred\\_agg\\_glm & pred\\_agg\\_rf & pred\\_seg\\_glm & pred\\_seg\\_rf & pred\\_seg2\\_glm & pred\\_seg2\\_rf\\\\\n",
       " <fct> & <dbl> & <dbl> & <dbl> & <dbl> & <dbl> & <dbl>\\\\\n",
       "\\hline\n",
       "\t Renewed    & 0.193 & 0.4870859 & 0.719 & 0.4438893 & 0.3787142 & 0.5009564\\\\\n",
       "\t Not Renewd & 0.191 & 0.3272803 & 0.716 & 0.3856979 & 0.3737353 & 0.4038157\\\\\n",
       "\t Not Renewd & 0.201 & 0.4503606 & 0.732 & 0.4557063 & 0.3911853 & 0.4264446\\\\\n",
       "\t Not Renewd & 0.188 & 0.4750480 & 0.712 & 0.5444202 & 0.3685513 & 0.4542695\\\\\n",
       "\t Not Renewd & 0.188 & 0.3215509 & 0.711 & 0.4049546 & 0.3692081 & 0.4116593\\\\\n",
       "\t Not Renewd & 0.183 & 0.3699182 & 0.701 & 0.4838001 & 0.3612048 & 0.4254576\\\\\n",
       "\\end{tabular}\n"
      ],
      "text/markdown": [
       "\n",
       "A data.table: 6 × 7\n",
       "\n",
       "| renewal_status &lt;fct&gt; | pred_agg_glm &lt;dbl&gt; | pred_agg_rf &lt;dbl&gt; | pred_seg_glm &lt;dbl&gt; | pred_seg_rf &lt;dbl&gt; | pred_seg2_glm &lt;dbl&gt; | pred_seg2_rf &lt;dbl&gt; |\n",
       "|---|---|---|---|---|---|---|\n",
       "| Renewed    | 0.193 | 0.4870859 | 0.719 | 0.4438893 | 0.3787142 | 0.5009564 |\n",
       "| Not Renewd | 0.191 | 0.3272803 | 0.716 | 0.3856979 | 0.3737353 | 0.4038157 |\n",
       "| Not Renewd | 0.201 | 0.4503606 | 0.732 | 0.4557063 | 0.3911853 | 0.4264446 |\n",
       "| Not Renewd | 0.188 | 0.4750480 | 0.712 | 0.5444202 | 0.3685513 | 0.4542695 |\n",
       "| Not Renewd | 0.188 | 0.3215509 | 0.711 | 0.4049546 | 0.3692081 | 0.4116593 |\n",
       "| Not Renewd | 0.183 | 0.3699182 | 0.701 | 0.4838001 | 0.3612048 | 0.4254576 |\n",
       "\n"
      ],
      "text/plain": [
       "  renewal_status pred_agg_glm pred_agg_rf pred_seg_glm pred_seg_rf\n",
       "1 Renewed        0.193        0.4870859   0.719        0.4438893  \n",
       "2 Not Renewd     0.191        0.3272803   0.716        0.3856979  \n",
       "3 Not Renewd     0.201        0.4503606   0.732        0.4557063  \n",
       "4 Not Renewd     0.188        0.4750480   0.712        0.5444202  \n",
       "5 Not Renewd     0.188        0.3215509   0.711        0.4049546  \n",
       "6 Not Renewd     0.183        0.3699182   0.701        0.4838001  \n",
       "  pred_seg2_glm pred_seg2_rf\n",
       "1 0.3787142     0.5009564   \n",
       "2 0.3737353     0.4038157   \n",
       "3 0.3911853     0.4264446   \n",
       "4 0.3685513     0.4542695   \n",
       "5 0.3692081     0.4116593   \n",
       "6 0.3612048     0.4254576   "
      ]
     },
     "metadata": {},
     "output_type": "display_data"
    }
   ],
   "source": [
    "preds_df %>% select(renewal_status,contains(\"pred\")) %>% head()"
   ]
  },
  {
   "cell_type": "code",
   "execution_count": 17,
   "metadata": {},
   "outputs": [
    {
     "data": {
      "text/html": [
       "<table>\n",
       "<caption>A data.table: 6 × 7</caption>\n",
       "<thead>\n",
       "\t<tr><th scope=col>renewal_status</th><th scope=col>pred_agg_glm</th><th scope=col>pred_agg_rf</th><th scope=col>pred_seg_glm</th><th scope=col>pred_seg_rf</th><th scope=col>pred_seg2_glm</th><th scope=col>pred_seg2_rf</th></tr>\n",
       "\t<tr><th scope=col>&lt;fct&gt;</th><th scope=col>&lt;dbl&gt;</th><th scope=col>&lt;dbl&gt;</th><th scope=col>&lt;dbl&gt;</th><th scope=col>&lt;dbl&gt;</th><th scope=col>&lt;dbl&gt;</th><th scope=col>&lt;dbl&gt;</th></tr>\n",
       "</thead>\n",
       "<tbody>\n",
       "\t<tr><td>Not Renewd</td><td>NA</td><td>NA</td><td>NA</td><td>NA</td><td>NA</td><td>NA</td></tr>\n",
       "\t<tr><td>Not Renewd</td><td>NA</td><td>NA</td><td>NA</td><td>NA</td><td>NA</td><td>NA</td></tr>\n",
       "\t<tr><td>Not Renewd</td><td>NA</td><td>NA</td><td>NA</td><td>NA</td><td>NA</td><td>NA</td></tr>\n",
       "\t<tr><td>Not Renewd</td><td>NA</td><td>NA</td><td>NA</td><td>NA</td><td>NA</td><td>NA</td></tr>\n",
       "\t<tr><td>Not Renewd</td><td>NA</td><td>NA</td><td>NA</td><td>NA</td><td>NA</td><td>NA</td></tr>\n",
       "\t<tr><td>Not Renewd</td><td>NA</td><td>NA</td><td>NA</td><td>NA</td><td>NA</td><td>NA</td></tr>\n",
       "</tbody>\n",
       "</table>\n"
      ],
      "text/latex": [
       "A data.table: 6 × 7\n",
       "\\begin{tabular}{lllllll}\n",
       " renewal\\_status & pred\\_agg\\_glm & pred\\_agg\\_rf & pred\\_seg\\_glm & pred\\_seg\\_rf & pred\\_seg2\\_glm & pred\\_seg2\\_rf\\\\\n",
       " <fct> & <dbl> & <dbl> & <dbl> & <dbl> & <dbl> & <dbl>\\\\\n",
       "\\hline\n",
       "\t Not Renewd & NA & NA & NA & NA & NA & NA\\\\\n",
       "\t Not Renewd & NA & NA & NA & NA & NA & NA\\\\\n",
       "\t Not Renewd & NA & NA & NA & NA & NA & NA\\\\\n",
       "\t Not Renewd & NA & NA & NA & NA & NA & NA\\\\\n",
       "\t Not Renewd & NA & NA & NA & NA & NA & NA\\\\\n",
       "\t Not Renewd & NA & NA & NA & NA & NA & NA\\\\\n",
       "\\end{tabular}\n"
      ],
      "text/markdown": [
       "\n",
       "A data.table: 6 × 7\n",
       "\n",
       "| renewal_status &lt;fct&gt; | pred_agg_glm &lt;dbl&gt; | pred_agg_rf &lt;dbl&gt; | pred_seg_glm &lt;dbl&gt; | pred_seg_rf &lt;dbl&gt; | pred_seg2_glm &lt;dbl&gt; | pred_seg2_rf &lt;dbl&gt; |\n",
       "|---|---|---|---|---|---|---|\n",
       "| Not Renewd | NA | NA | NA | NA | NA | NA |\n",
       "| Not Renewd | NA | NA | NA | NA | NA | NA |\n",
       "| Not Renewd | NA | NA | NA | NA | NA | NA |\n",
       "| Not Renewd | NA | NA | NA | NA | NA | NA |\n",
       "| Not Renewd | NA | NA | NA | NA | NA | NA |\n",
       "| Not Renewd | NA | NA | NA | NA | NA | NA |\n",
       "\n"
      ],
      "text/plain": [
       "  renewal_status pred_agg_glm pred_agg_rf pred_seg_glm pred_seg_rf\n",
       "1 Not Renewd     NA           NA          NA           NA         \n",
       "2 Not Renewd     NA           NA          NA           NA         \n",
       "3 Not Renewd     NA           NA          NA           NA         \n",
       "4 Not Renewd     NA           NA          NA           NA         \n",
       "5 Not Renewd     NA           NA          NA           NA         \n",
       "6 Not Renewd     NA           NA          NA           NA         \n",
       "  pred_seg2_glm pred_seg2_rf\n",
       "1 NA            NA          \n",
       "2 NA            NA          \n",
       "3 NA            NA          \n",
       "4 NA            NA          \n",
       "5 NA            NA          \n",
       "6 NA            NA          "
      ]
     },
     "metadata": {},
     "output_type": "display_data"
    }
   ],
   "source": [
    "preds_df %>% select(renewal_status,contains(\"pred\")) %>% tail()"
   ]
  },
  {
   "cell_type": "markdown",
   "metadata": {},
   "source": [
    "# Fallback \n",
    "Since low volume tld-re's were excluded from training and testing, their predictions will be NA, so we just fill all NAs with fallback values."
   ]
  },
  {
   "cell_type": "code",
   "execution_count": 135,
   "metadata": {},
   "outputs": [],
   "source": [
    "source('functions_fallback.R')"
   ]
  },
  {
   "cell_type": "code",
   "execution_count": 35,
   "metadata": {},
   "outputs": [],
   "source": [
    "# THIS IS NO LONGER NEEDED (SEE ABOVE)\n",
    "# # define binary indicator for fallback use\n",
    "# preds_df <- preds_df %>% mutate(pred_agg_glm_fb = ifelse((tld_registrar_index %in% tld_registrar_fb_list) | \n",
    "#                                              is.na(pred_agg_glm), 1,0),\n",
    "#                                pred_agg_rf_fb = ifelse((tld_registrar_index %in% tld_registrar_fb_list) | \n",
    "#                                              is.na(pred_agg_rf), 1,0),\n",
    "#                                pred_seg_glm_fb = ifelse((tld_registrar_index %in% tld_registrar_fb_list) | \n",
    "#                                              is.na(pred_seg_glm), 1,0),\n",
    "#                                pred_seg_rf_fb = ifelse((tld_registrar_index %in% tld_registrar_fb_list) | \n",
    "#                                              is.na(pred_seg_rf), 1,0),\n",
    "#                                pred_seg2_glm_fb = ifelse((tld_registrar_index %in% tld_registrar_fb_list) | \n",
    "#                                              is.na(pred_seg2_glm), 1,0),\n",
    "#                                pred_seg2_rf_fb = ifelse((tld_registrar_index %in% tld_registrar_fb_list) | \n",
    "#                                              is.na(pred_seg2_rf), 1,0),\n",
    "#                                )\n",
    "   \n",
    "# # preds_df %>% group_by(tld_registrar_index, pred_agg_glm_fb) %>% tally()\n",
    "# # preds_df %>% group_by(tld_registrar_index, pred_agg_rf_fb) %>% tally()\n",
    "# # preds_df %>% group_by(tld_registrar_index, pred_seg_glm_fb) %>% tally()\n",
    "# # preds_df %>% group_by(tld_registrar_index, pred_seg_rf_fb) %>% tally()\n",
    "# # preds_df %>% group_by(tld_registrar_index, pred_seg2_glm_fb) %>% tally() \n",
    "# # preds_df %>% group_by(tld_registrar_index, pred_seg2_rf_fb) %>% tally()"
   ]
  },
  {
   "cell_type": "code",
   "execution_count": 111,
   "metadata": {},
   "outputs": [],
   "source": [
    "# system(\"gsutil cp gs://data_input/PredictiveModelAnalysis_ResellerGeoMap.csv /home/jupyter/local/Domains_202003/data/PredictiveModelAnalysis_ResellerGeoMap.csv\")\n",
    "geoLookupDF <- read.csv(\"/home/jupyter/local/Domains_202003/data/PredictiveModelAnalysis_ResellerGeoMap.csv\")\n",
    "# need to remove final row with all NAs\n",
    "geoLookupDF <- geoLookupDF %>% filter_all(any_vars(!is.na(.)))\n"
   ]
  },
  {
   "cell_type": "code",
   "execution_count": 133,
   "metadata": {},
   "outputs": [],
   "source": [
    "geo_lookup <- function(geoLookupDF,\n",
    "                         preds_df) {\n",
    "        \n",
    "    # 1. use geo lookup with duplicate rows removed\n",
    "    #    remove duplicate rows in geo_lookup due to registrar level segmentation\n",
    "    #    results in dims matching for expiry_test\n",
    "\n",
    "    geoLookupDF <- geoLookupDF %>% distinct(reseller,reseller_country, reseller_geo)\n",
    "\n",
    "    preds_df$reseller <- factor(preds_df$reseller)\n",
    "    preds_df$reseller_country <- factor(preds_df$reseller_country)\n",
    "    preds_df <- as.data.frame(preds_df)\n",
    "\n",
    "    preds_df <- merge(preds_df,\n",
    "                      geoLookupDF,\n",
    "                      on=c('reseller','reseller_country'), \n",
    "                      all.x = TRUE)\n",
    "    \n",
    "    \n",
    "    \n",
    "    # 2. create a new lookup where we drop everything except for \n",
    "    #    reseller_country and _geo and have NA map to Others\n",
    "    \n",
    "    geoLookupDF <- geoLookupDF %>% distinct(reseller_country, reseller_geo) %>% \n",
    "                    mutate(reseller_geo = as.character(reseller_geo)) %>%\n",
    "                    mutate(eseller_geo = if_else(is.na(reseller_country), 'Others', reseller_geo) ) %>% \n",
    "                    distinct(reseller_country, reseller_geo) %>% \n",
    "                    mutate(reseller_geo = as.factor(reseller_geo))\n",
    "\n",
    "    # use new lookup to fill reseller_geo based just on reseller_country\n",
    "    preds_df[['reseller_geo']][is.na(preds_df[['reseller_geo']])]<-\n",
    "                    geoLookupDF$reseller_geo[match(\n",
    "                        preds_df$reseller_country[is.na(preds_df[['reseller_geo']])],\n",
    "                        geoLookupDF$reseller_country)]\n",
    "\n",
    "    # manual fix for reseller geo \n",
    "    preds_df[['reseller_geo']][preds_df[['reseller_country']]=='Southafrica']<-'South Africa'\n",
    "\n",
    "    # Print remaining NA reseller_geos\n",
    "    rem_res <- preds_df %>% filter(is.na(reseller_geo)) %>% \n",
    "          distinct(reseller,reseller_country, reseller_geo) %>% pull(reseller)\n",
    "    cat(\"Resellers with unmatched reseller_geo's: \",paste0(rem_res, sep=\", \"))\n",
    "    \n",
    "    return(preds_df)\n",
    "}"
   ]
  },
  {
   "cell_type": "code",
   "execution_count": null,
   "metadata": {},
   "outputs": [],
   "source": []
  },
  {
   "cell_type": "code",
   "execution_count": 134,
   "metadata": {},
   "outputs": [
    {
     "name": "stdout",
     "output_type": "stream",
     "text": [
      "Resellers with unmatched reseller_geo's:  net4 india,  virtua drug, "
     ]
    }
   ],
   "source": [
    "preds_df_2 = geo_lookup(geoLookupDF,preds_df)\n"
   ]
  },
  {
   "cell_type": "code",
   "execution_count": 138,
   "metadata": {},
   "outputs": [
    {
     "name": "stderr",
     "output_type": "stream",
     "text": [
      "Warning message:\n",
      "“`funs()` is deprecated as of dplyr 0.8.0.\n",
      "Please use a list of either functions or lambdas: \n",
      "\n",
      "  # Simple named list: \n",
      "  list(mean = mean, median = median)\n",
      "\n",
      "  # Auto named with `tibble::lst()`: \n",
      "  tibble::lst(mean, median)\n",
      "\n",
      "  # Using lambdas\n",
      "  list(~ mean(., trim = .2), ~ median(., na.rm = TRUE))\n",
      "\u001b[90mThis warning is displayed once every 8 hours.\u001b[39m\n",
      "\u001b[90mCall `lifecycle::last_warnings()` to see where this warning was generated.\u001b[39m”\n"
     ]
    },
    {
     "data": {
      "text/html": [
       "<table>\n",
       "<caption>A matrix: 46 × 1 of type int</caption>\n",
       "<tbody>\n",
       "\t<tr><th scope=row>reseller</th><td>    0</td></tr>\n",
       "\t<tr><th scope=row>reseller_country</th><td>    0</td></tr>\n",
       "\t<tr><th scope=row>renewal_type</th><td>    0</td></tr>\n",
       "\t<tr><th scope=row>renewed_count</th><td>    0</td></tr>\n",
       "\t<tr><th scope=row>expiry_date</th><td>    0</td></tr>\n",
       "\t<tr><th scope=row>domain_id</th><td>    0</td></tr>\n",
       "\t<tr><th scope=row>domain</th><td>    0</td></tr>\n",
       "\t<tr><th scope=row>creation_date</th><td>    0</td></tr>\n",
       "\t<tr><th scope=row>status</th><td>    0</td></tr>\n",
       "\t<tr><th scope=row>tld</th><td>    0</td></tr>\n",
       "\t<tr><th scope=row>registrar</th><td>    0</td></tr>\n",
       "\t<tr><th scope=row>region</th><td>    0</td></tr>\n",
       "\t<tr><th scope=row>reg_period</th><td>    0</td></tr>\n",
       "\t<tr><th scope=row>registrant_country</th><td>11345</td></tr>\n",
       "\t<tr><th scope=row>renewal_status</th><td>    0</td></tr>\n",
       "\t<tr><th scope=row>renew_mbg</th><td>    0</td></tr>\n",
       "\t<tr><th scope=row>renew_type</th><td>  211</td></tr>\n",
       "\t<tr><th scope=row>autorenew_type</th><td> 3381</td></tr>\n",
       "\t<tr><th scope=row>renew_date</th><td>  213</td></tr>\n",
       "\t<tr><th scope=row>renew_registrar</th><td>    0</td></tr>\n",
       "\t<tr><th scope=row>renew_reseller</th><td>    0</td></tr>\n",
       "\t<tr><th scope=row>reg_revenue</th><td>    0</td></tr>\n",
       "\t<tr><th scope=row>reg_arpt</th><td>    0</td></tr>\n",
       "\t<tr><th scope=row>renew_period</th><td>  213</td></tr>\n",
       "\t<tr><th scope=row>renew_domain_revenue</th><td>    0</td></tr>\n",
       "\t<tr><th scope=row>renew_arpt</th><td>  213</td></tr>\n",
       "\t<tr><th scope=row>reg_arpt_org</th><td>    0</td></tr>\n",
       "\t<tr><th scope=row>tld_registrar_index</th><td>    0</td></tr>\n",
       "\t<tr><th scope=row>sld</th><td>    0</td></tr>\n",
       "\t<tr><th scope=row>sld_type</th><td>    0</td></tr>\n",
       "\t<tr><th scope=row>sld_length</th><td>    0</td></tr>\n",
       "\t<tr><th scope=row>sld_type2</th><td>    0</td></tr>\n",
       "\t<tr><th scope=row>day_domains</th><td>    0</td></tr>\n",
       "\t<tr><th scope=row>log_reg_arpt</th><td>    0</td></tr>\n",
       "\t<tr><th scope=row>gibb_score</th><td>    0</td></tr>\n",
       "\t<tr><th scope=row>pattern</th><td>    0</td></tr>\n",
       "\t<tr><th scope=row>cluster</th><td>    0</td></tr>\n",
       "\t<tr><th scope=row>pattern_score</th><td>    0</td></tr>\n",
       "\t<tr><th scope=row>pattern_domain_count</th><td>    0</td></tr>\n",
       "\t<tr><th scope=row>pred_agg_glm</th><td> 5845</td></tr>\n",
       "\t<tr><th scope=row>pred_agg_rf</th><td> 5845</td></tr>\n",
       "\t<tr><th scope=row>pred_seg_glm</th><td> 5845</td></tr>\n",
       "\t<tr><th scope=row>pred_seg_rf</th><td> 5845</td></tr>\n",
       "\t<tr><th scope=row>pred_seg2_glm</th><td> 5846</td></tr>\n",
       "\t<tr><th scope=row>pred_seg2_rf</th><td> 5845</td></tr>\n",
       "\t<tr><th scope=row>reseller_geo</th><td>    2</td></tr>\n",
       "</tbody>\n",
       "</table>\n"
      ],
      "text/latex": [
       "A matrix: 46 × 1 of type int\n",
       "\\begin{tabular}{r|l}\n",
       "\treseller &     0\\\\\n",
       "\treseller\\_country &     0\\\\\n",
       "\trenewal\\_type &     0\\\\\n",
       "\trenewed\\_count &     0\\\\\n",
       "\texpiry\\_date &     0\\\\\n",
       "\tdomain\\_id &     0\\\\\n",
       "\tdomain &     0\\\\\n",
       "\tcreation\\_date &     0\\\\\n",
       "\tstatus &     0\\\\\n",
       "\ttld &     0\\\\\n",
       "\tregistrar &     0\\\\\n",
       "\tregion &     0\\\\\n",
       "\treg\\_period &     0\\\\\n",
       "\tregistrant\\_country & 11345\\\\\n",
       "\trenewal\\_status &     0\\\\\n",
       "\trenew\\_mbg &     0\\\\\n",
       "\trenew\\_type &   211\\\\\n",
       "\tautorenew\\_type &  3381\\\\\n",
       "\trenew\\_date &   213\\\\\n",
       "\trenew\\_registrar &     0\\\\\n",
       "\trenew\\_reseller &     0\\\\\n",
       "\treg\\_revenue &     0\\\\\n",
       "\treg\\_arpt &     0\\\\\n",
       "\trenew\\_period &   213\\\\\n",
       "\trenew\\_domain\\_revenue &     0\\\\\n",
       "\trenew\\_arpt &   213\\\\\n",
       "\treg\\_arpt\\_org &     0\\\\\n",
       "\ttld\\_registrar\\_index &     0\\\\\n",
       "\tsld &     0\\\\\n",
       "\tsld\\_type &     0\\\\\n",
       "\tsld\\_length &     0\\\\\n",
       "\tsld\\_type2 &     0\\\\\n",
       "\tday\\_domains &     0\\\\\n",
       "\tlog\\_reg\\_arpt &     0\\\\\n",
       "\tgibb\\_score &     0\\\\\n",
       "\tpattern &     0\\\\\n",
       "\tcluster &     0\\\\\n",
       "\tpattern\\_score &     0\\\\\n",
       "\tpattern\\_domain\\_count &     0\\\\\n",
       "\tpred\\_agg\\_glm &  5845\\\\\n",
       "\tpred\\_agg\\_rf &  5845\\\\\n",
       "\tpred\\_seg\\_glm &  5845\\\\\n",
       "\tpred\\_seg\\_rf &  5845\\\\\n",
       "\tpred\\_seg2\\_glm &  5846\\\\\n",
       "\tpred\\_seg2\\_rf &  5845\\\\\n",
       "\treseller\\_geo &     2\\\\\n",
       "\\end{tabular}\n"
      ],
      "text/markdown": [
       "\n",
       "A matrix: 46 × 1 of type int\n",
       "\n",
       "| reseller |     0 |\n",
       "| reseller_country |     0 |\n",
       "| renewal_type |     0 |\n",
       "| renewed_count |     0 |\n",
       "| expiry_date |     0 |\n",
       "| domain_id |     0 |\n",
       "| domain |     0 |\n",
       "| creation_date |     0 |\n",
       "| status |     0 |\n",
       "| tld |     0 |\n",
       "| registrar |     0 |\n",
       "| region |     0 |\n",
       "| reg_period |     0 |\n",
       "| registrant_country | 11345 |\n",
       "| renewal_status |     0 |\n",
       "| renew_mbg |     0 |\n",
       "| renew_type |   211 |\n",
       "| autorenew_type |  3381 |\n",
       "| renew_date |   213 |\n",
       "| renew_registrar |     0 |\n",
       "| renew_reseller |     0 |\n",
       "| reg_revenue |     0 |\n",
       "| reg_arpt |     0 |\n",
       "| renew_period |   213 |\n",
       "| renew_domain_revenue |     0 |\n",
       "| renew_arpt |   213 |\n",
       "| reg_arpt_org |     0 |\n",
       "| tld_registrar_index |     0 |\n",
       "| sld |     0 |\n",
       "| sld_type |     0 |\n",
       "| sld_length |     0 |\n",
       "| sld_type2 |     0 |\n",
       "| day_domains |     0 |\n",
       "| log_reg_arpt |     0 |\n",
       "| gibb_score |     0 |\n",
       "| pattern |     0 |\n",
       "| cluster |     0 |\n",
       "| pattern_score |     0 |\n",
       "| pattern_domain_count |     0 |\n",
       "| pred_agg_glm |  5845 |\n",
       "| pred_agg_rf |  5845 |\n",
       "| pred_seg_glm |  5845 |\n",
       "| pred_seg_rf |  5845 |\n",
       "| pred_seg2_glm |  5846 |\n",
       "| pred_seg2_rf |  5845 |\n",
       "| reseller_geo |     2 |\n",
       "\n"
      ],
      "text/plain": [
       "                     [,1] \n",
       "reseller                 0\n",
       "reseller_country         0\n",
       "renewal_type             0\n",
       "renewed_count            0\n",
       "expiry_date              0\n",
       "domain_id                0\n",
       "domain                   0\n",
       "creation_date            0\n",
       "status                   0\n",
       "tld                      0\n",
       "registrar                0\n",
       "region                   0\n",
       "reg_period               0\n",
       "registrant_country   11345\n",
       "renewal_status           0\n",
       "renew_mbg                0\n",
       "renew_type             211\n",
       "autorenew_type        3381\n",
       "renew_date             213\n",
       "renew_registrar          0\n",
       "renew_reseller           0\n",
       "reg_revenue              0\n",
       "reg_arpt                 0\n",
       "renew_period           213\n",
       "renew_domain_revenue     0\n",
       "renew_arpt             213\n",
       "reg_arpt_org             0\n",
       "tld_registrar_index      0\n",
       "sld                      0\n",
       "sld_type                 0\n",
       "sld_length               0\n",
       "sld_type2                0\n",
       "day_domains              0\n",
       "log_reg_arpt             0\n",
       "gibb_score               0\n",
       "pattern                  0\n",
       "cluster                  0\n",
       "pattern_score            0\n",
       "pattern_domain_count     0\n",
       "pred_agg_glm          5845\n",
       "pred_agg_rf           5845\n",
       "pred_seg_glm          5845\n",
       "pred_seg_rf           5845\n",
       "pred_seg2_glm         5846\n",
       "pred_seg2_rf          5845\n",
       "reseller_geo             2"
      ]
     },
     "metadata": {},
     "output_type": "display_data"
    }
   ],
   "source": [
    "preds_df_2 %>%\n",
    "  select(everything()) %>%  # replace to your needs\n",
    "  summarise_all(funs(sum(is.na(.)))) %>% t()"
   ]
  },
  {
   "cell_type": "code",
   "execution_count": 136,
   "metadata": {},
   "outputs": [
    {
     "name": "stderr",
     "output_type": "stream",
     "text": [
      "`summarise()` regrouping output by 'tld', 'reseller_geo' (override with `.groups` argument)\n",
      "\n",
      "`summarise()` regrouping output by 'reseller_geo' (override with `.groups` argument)\n",
      "\n",
      "`summarise()` regrouping output by 'tld' (override with `.groups` argument)\n",
      "\n",
      "`summarise()` regrouping output by 'tld' (override with `.groups` argument)\n",
      "\n",
      "`summarise()` ungrouping output (override with `.groups` argument)\n",
      "\n",
      "`summarise()` regrouping output by 'tld' (override with `.groups` argument)\n",
      "\n",
      "`summarise()` ungrouping output (override with `.groups` argument)\n",
      "\n",
      "`summarise()` regrouping output by 'region' (override with `.groups` argument)\n",
      "\n",
      "`summarise()` ungrouping output (override with `.groups` argument)\n",
      "\n",
      "`summarise()` ungrouping output (override with `.groups` argument)\n",
      "\n"
     ]
    }
   ],
   "source": [
    "npv_fallback_list = fallback_gen( npv_historic_renewal_data = expiry_train_df_1, reseller_am_geo_map = geoLookupDF)"
   ]
  },
  {
   "cell_type": "code",
   "execution_count": 137,
   "metadata": {},
   "outputs": [
    {
     "data": {
      "text/html": [
       "<style>\n",
       ".list-inline {list-style: none; margin:0; padding: 0}\n",
       ".list-inline>li {display: inline-block}\n",
       ".list-inline>li:not(:last-child)::after {content: \"\\00b7\"; padding: 0 .5ex}\n",
       "</style>\n",
       "<ol class=list-inline><li>'npv_fallback_first_geo_arpt_tld'</li><li>'npv_fallback_first_geo_arpt'</li><li>'npv_fallback_first_tld_arpt'</li><li>'npv_fallback_second_tld_geo'</li><li>'npv_fallback_second_geo'</li><li>'npv_fallback_third_tld_geo'</li><li>'npv_fallback_third_geo'</li><li>'npv_fallback_first_final'</li><li>'npv_fallback_second_final'</li><li>'npv_fallback_third_final'</li></ol>\n"
      ],
      "text/latex": [
       "\\begin{enumerate*}\n",
       "\\item 'npv\\_fallback\\_first\\_geo\\_arpt\\_tld'\n",
       "\\item 'npv\\_fallback\\_first\\_geo\\_arpt'\n",
       "\\item 'npv\\_fallback\\_first\\_tld\\_arpt'\n",
       "\\item 'npv\\_fallback\\_second\\_tld\\_geo'\n",
       "\\item 'npv\\_fallback\\_second\\_geo'\n",
       "\\item 'npv\\_fallback\\_third\\_tld\\_geo'\n",
       "\\item 'npv\\_fallback\\_third\\_geo'\n",
       "\\item 'npv\\_fallback\\_first\\_final'\n",
       "\\item 'npv\\_fallback\\_second\\_final'\n",
       "\\item 'npv\\_fallback\\_third\\_final'\n",
       "\\end{enumerate*}\n"
      ],
      "text/markdown": [
       "1. 'npv_fallback_first_geo_arpt_tld'\n",
       "2. 'npv_fallback_first_geo_arpt'\n",
       "3. 'npv_fallback_first_tld_arpt'\n",
       "4. 'npv_fallback_second_tld_geo'\n",
       "5. 'npv_fallback_second_geo'\n",
       "6. 'npv_fallback_third_tld_geo'\n",
       "7. 'npv_fallback_third_geo'\n",
       "8. 'npv_fallback_first_final'\n",
       "9. 'npv_fallback_second_final'\n",
       "10. 'npv_fallback_third_final'\n",
       "\n",
       "\n"
      ],
      "text/plain": [
       " [1] \"npv_fallback_first_geo_arpt_tld\" \"npv_fallback_first_geo_arpt\"    \n",
       " [3] \"npv_fallback_first_tld_arpt\"     \"npv_fallback_second_tld_geo\"    \n",
       " [5] \"npv_fallback_second_geo\"         \"npv_fallback_third_tld_geo\"     \n",
       " [7] \"npv_fallback_third_geo\"          \"npv_fallback_first_final\"       \n",
       " [9] \"npv_fallback_second_final\"       \"npv_fallback_third_final\"       "
      ]
     },
     "metadata": {},
     "output_type": "display_data"
    }
   ],
   "source": [
    "# return list members to objects\n",
    "names(npv_fallback_list)\n",
    "for(i in 1:length(npv_fallback_list)) assign(names(npv_fallback_list)[i], npv_fallback_list[[i]])"
   ]
  },
  {
   "cell_type": "code",
   "execution_count": 143,
   "metadata": {},
   "outputs": [],
   "source": [
    "cols <- preds_df %>% select(contains(\"pred\")) %>% names()"
   ]
  },
  {
   "cell_type": "code",
   "execution_count": 145,
   "metadata": {},
   "outputs": [
    {
     "data": {
      "text/html": [
       "<style>\n",
       ".list-inline {list-style: none; margin:0; padding: 0}\n",
       ".list-inline>li {display: inline-block}\n",
       ".list-inline>li:not(:last-child)::after {content: \"\\00b7\"; padding: 0 .5ex}\n",
       "</style>\n",
       "<ol class=list-inline><li>11370</li><li>46</li></ol>\n"
      ],
      "text/latex": [
       "\\begin{enumerate*}\n",
       "\\item 11370\n",
       "\\item 46\n",
       "\\end{enumerate*}\n"
      ],
      "text/markdown": [
       "1. 11370\n",
       "2. 46\n",
       "\n",
       "\n"
      ],
      "text/plain": [
       "[1] 11370    46"
      ]
     },
     "metadata": {},
     "output_type": "display_data"
    },
    {
     "data": {
      "text/html": [
       "<style>\n",
       ".list-inline {list-style: none; margin:0; padding: 0}\n",
       ".list-inline>li {display: inline-block}\n",
       ".list-inline>li:not(:last-child)::after {content: \"\\00b7\"; padding: 0 .5ex}\n",
       "</style>\n",
       "<ol class=list-inline><li>11370</li><li>53</li></ol>\n"
      ],
      "text/latex": [
       "\\begin{enumerate*}\n",
       "\\item 11370\n",
       "\\item 53\n",
       "\\end{enumerate*}\n"
      ],
      "text/markdown": [
       "1. 11370\n",
       "2. 53\n",
       "\n",
       "\n"
      ],
      "text/plain": [
       "[1] 11370    53"
      ]
     },
     "metadata": {},
     "output_type": "display_data"
    }
   ],
   "source": [
    "preds_df_3 <- preds_df_2\n",
    "\n",
    "for (col in cols) {\n",
    "    preds_df_3 <- fallback_app_1(\n",
    "                test_data_op=preds_df_3,\n",
    "                in_col=col,\n",
    "                out_col=paste0(col,'_fb'))\n",
    "}\n",
    "\n",
    "\n",
    "dim(preds_df_2)\n",
    "dim(preds_df_3)"
   ]
  },
  {
   "cell_type": "code",
   "execution_count": 146,
   "metadata": {},
   "outputs": [
    {
     "data": {
      "text/html": [
       "<table>\n",
       "<caption>A matrix: 53 × 1 of type int</caption>\n",
       "<tbody>\n",
       "\t<tr><th scope=row>reseller</th><td>    0</td></tr>\n",
       "\t<tr><th scope=row>reseller_country</th><td>    0</td></tr>\n",
       "\t<tr><th scope=row>renewal_type</th><td>    0</td></tr>\n",
       "\t<tr><th scope=row>renewed_count</th><td>    0</td></tr>\n",
       "\t<tr><th scope=row>expiry_date</th><td>    0</td></tr>\n",
       "\t<tr><th scope=row>domain_id</th><td>    0</td></tr>\n",
       "\t<tr><th scope=row>domain</th><td>    0</td></tr>\n",
       "\t<tr><th scope=row>creation_date</th><td>    0</td></tr>\n",
       "\t<tr><th scope=row>status</th><td>    0</td></tr>\n",
       "\t<tr><th scope=row>tld</th><td>    0</td></tr>\n",
       "\t<tr><th scope=row>registrar</th><td>    0</td></tr>\n",
       "\t<tr><th scope=row>region</th><td>    0</td></tr>\n",
       "\t<tr><th scope=row>reg_period</th><td>    0</td></tr>\n",
       "\t<tr><th scope=row>registrant_country</th><td>11345</td></tr>\n",
       "\t<tr><th scope=row>renewal_status</th><td>    0</td></tr>\n",
       "\t<tr><th scope=row>renew_mbg</th><td>    0</td></tr>\n",
       "\t<tr><th scope=row>renew_type</th><td>  211</td></tr>\n",
       "\t<tr><th scope=row>autorenew_type</th><td> 3381</td></tr>\n",
       "\t<tr><th scope=row>renew_date</th><td>  213</td></tr>\n",
       "\t<tr><th scope=row>renew_registrar</th><td>    0</td></tr>\n",
       "\t<tr><th scope=row>renew_reseller</th><td>    0</td></tr>\n",
       "\t<tr><th scope=row>reg_revenue</th><td>    0</td></tr>\n",
       "\t<tr><th scope=row>reg_arpt</th><td>    0</td></tr>\n",
       "\t<tr><th scope=row>renew_period</th><td>  213</td></tr>\n",
       "\t<tr><th scope=row>renew_domain_revenue</th><td>    0</td></tr>\n",
       "\t<tr><th scope=row>renew_arpt</th><td>  213</td></tr>\n",
       "\t<tr><th scope=row>reg_arpt_org</th><td>    0</td></tr>\n",
       "\t<tr><th scope=row>tld_registrar_index</th><td>    0</td></tr>\n",
       "\t<tr><th scope=row>sld</th><td>    0</td></tr>\n",
       "\t<tr><th scope=row>sld_type</th><td>    0</td></tr>\n",
       "\t<tr><th scope=row>sld_length</th><td>    0</td></tr>\n",
       "\t<tr><th scope=row>sld_type2</th><td>    0</td></tr>\n",
       "\t<tr><th scope=row>day_domains</th><td>    0</td></tr>\n",
       "\t<tr><th scope=row>log_reg_arpt</th><td>    0</td></tr>\n",
       "\t<tr><th scope=row>gibb_score</th><td>    0</td></tr>\n",
       "\t<tr><th scope=row>pattern</th><td>    0</td></tr>\n",
       "\t<tr><th scope=row>cluster</th><td>    0</td></tr>\n",
       "\t<tr><th scope=row>pattern_score</th><td>    0</td></tr>\n",
       "\t<tr><th scope=row>pattern_domain_count</th><td>    0</td></tr>\n",
       "\t<tr><th scope=row>pred_agg_glm</th><td> 5845</td></tr>\n",
       "\t<tr><th scope=row>pred_agg_rf</th><td> 5845</td></tr>\n",
       "\t<tr><th scope=row>pred_seg_glm</th><td> 5845</td></tr>\n",
       "\t<tr><th scope=row>pred_seg_rf</th><td> 5845</td></tr>\n",
       "\t<tr><th scope=row>pred_seg2_glm</th><td> 5846</td></tr>\n",
       "\t<tr><th scope=row>pred_seg2_rf</th><td> 5845</td></tr>\n",
       "\t<tr><th scope=row>reseller_geo</th><td>    2</td></tr>\n",
       "\t<tr><th scope=row>reg_arpt_slab</th><td>    0</td></tr>\n",
       "\t<tr><th scope=row>pred_agg_glm_fb</th><td>    0</td></tr>\n",
       "\t<tr><th scope=row>pred_agg_rf_fb</th><td>    0</td></tr>\n",
       "\t<tr><th scope=row>pred_seg_glm_fb</th><td>    0</td></tr>\n",
       "\t<tr><th scope=row>pred_seg_rf_fb</th><td>    0</td></tr>\n",
       "\t<tr><th scope=row>pred_seg2_glm_fb</th><td>    0</td></tr>\n",
       "\t<tr><th scope=row>pred_seg2_rf_fb</th><td>    0</td></tr>\n",
       "</tbody>\n",
       "</table>\n"
      ],
      "text/latex": [
       "A matrix: 53 × 1 of type int\n",
       "\\begin{tabular}{r|l}\n",
       "\treseller &     0\\\\\n",
       "\treseller\\_country &     0\\\\\n",
       "\trenewal\\_type &     0\\\\\n",
       "\trenewed\\_count &     0\\\\\n",
       "\texpiry\\_date &     0\\\\\n",
       "\tdomain\\_id &     0\\\\\n",
       "\tdomain &     0\\\\\n",
       "\tcreation\\_date &     0\\\\\n",
       "\tstatus &     0\\\\\n",
       "\ttld &     0\\\\\n",
       "\tregistrar &     0\\\\\n",
       "\tregion &     0\\\\\n",
       "\treg\\_period &     0\\\\\n",
       "\tregistrant\\_country & 11345\\\\\n",
       "\trenewal\\_status &     0\\\\\n",
       "\trenew\\_mbg &     0\\\\\n",
       "\trenew\\_type &   211\\\\\n",
       "\tautorenew\\_type &  3381\\\\\n",
       "\trenew\\_date &   213\\\\\n",
       "\trenew\\_registrar &     0\\\\\n",
       "\trenew\\_reseller &     0\\\\\n",
       "\treg\\_revenue &     0\\\\\n",
       "\treg\\_arpt &     0\\\\\n",
       "\trenew\\_period &   213\\\\\n",
       "\trenew\\_domain\\_revenue &     0\\\\\n",
       "\trenew\\_arpt &   213\\\\\n",
       "\treg\\_arpt\\_org &     0\\\\\n",
       "\ttld\\_registrar\\_index &     0\\\\\n",
       "\tsld &     0\\\\\n",
       "\tsld\\_type &     0\\\\\n",
       "\tsld\\_length &     0\\\\\n",
       "\tsld\\_type2 &     0\\\\\n",
       "\tday\\_domains &     0\\\\\n",
       "\tlog\\_reg\\_arpt &     0\\\\\n",
       "\tgibb\\_score &     0\\\\\n",
       "\tpattern &     0\\\\\n",
       "\tcluster &     0\\\\\n",
       "\tpattern\\_score &     0\\\\\n",
       "\tpattern\\_domain\\_count &     0\\\\\n",
       "\tpred\\_agg\\_glm &  5845\\\\\n",
       "\tpred\\_agg\\_rf &  5845\\\\\n",
       "\tpred\\_seg\\_glm &  5845\\\\\n",
       "\tpred\\_seg\\_rf &  5845\\\\\n",
       "\tpred\\_seg2\\_glm &  5846\\\\\n",
       "\tpred\\_seg2\\_rf &  5845\\\\\n",
       "\treseller\\_geo &     2\\\\\n",
       "\treg\\_arpt\\_slab &     0\\\\\n",
       "\tpred\\_agg\\_glm\\_fb &     0\\\\\n",
       "\tpred\\_agg\\_rf\\_fb &     0\\\\\n",
       "\tpred\\_seg\\_glm\\_fb &     0\\\\\n",
       "\tpred\\_seg\\_rf\\_fb &     0\\\\\n",
       "\tpred\\_seg2\\_glm\\_fb &     0\\\\\n",
       "\tpred\\_seg2\\_rf\\_fb &     0\\\\\n",
       "\\end{tabular}\n"
      ],
      "text/markdown": [
       "\n",
       "A matrix: 53 × 1 of type int\n",
       "\n",
       "| reseller |     0 |\n",
       "| reseller_country |     0 |\n",
       "| renewal_type |     0 |\n",
       "| renewed_count |     0 |\n",
       "| expiry_date |     0 |\n",
       "| domain_id |     0 |\n",
       "| domain |     0 |\n",
       "| creation_date |     0 |\n",
       "| status |     0 |\n",
       "| tld |     0 |\n",
       "| registrar |     0 |\n",
       "| region |     0 |\n",
       "| reg_period |     0 |\n",
       "| registrant_country | 11345 |\n",
       "| renewal_status |     0 |\n",
       "| renew_mbg |     0 |\n",
       "| renew_type |   211 |\n",
       "| autorenew_type |  3381 |\n",
       "| renew_date |   213 |\n",
       "| renew_registrar |     0 |\n",
       "| renew_reseller |     0 |\n",
       "| reg_revenue |     0 |\n",
       "| reg_arpt |     0 |\n",
       "| renew_period |   213 |\n",
       "| renew_domain_revenue |     0 |\n",
       "| renew_arpt |   213 |\n",
       "| reg_arpt_org |     0 |\n",
       "| tld_registrar_index |     0 |\n",
       "| sld |     0 |\n",
       "| sld_type |     0 |\n",
       "| sld_length |     0 |\n",
       "| sld_type2 |     0 |\n",
       "| day_domains |     0 |\n",
       "| log_reg_arpt |     0 |\n",
       "| gibb_score |     0 |\n",
       "| pattern |     0 |\n",
       "| cluster |     0 |\n",
       "| pattern_score |     0 |\n",
       "| pattern_domain_count |     0 |\n",
       "| pred_agg_glm |  5845 |\n",
       "| pred_agg_rf |  5845 |\n",
       "| pred_seg_glm |  5845 |\n",
       "| pred_seg_rf |  5845 |\n",
       "| pred_seg2_glm |  5846 |\n",
       "| pred_seg2_rf |  5845 |\n",
       "| reseller_geo |     2 |\n",
       "| reg_arpt_slab |     0 |\n",
       "| pred_agg_glm_fb |     0 |\n",
       "| pred_agg_rf_fb |     0 |\n",
       "| pred_seg_glm_fb |     0 |\n",
       "| pred_seg_rf_fb |     0 |\n",
       "| pred_seg2_glm_fb |     0 |\n",
       "| pred_seg2_rf_fb |     0 |\n",
       "\n"
      ],
      "text/plain": [
       "                     [,1] \n",
       "reseller                 0\n",
       "reseller_country         0\n",
       "renewal_type             0\n",
       "renewed_count            0\n",
       "expiry_date              0\n",
       "domain_id                0\n",
       "domain                   0\n",
       "creation_date            0\n",
       "status                   0\n",
       "tld                      0\n",
       "registrar                0\n",
       "region                   0\n",
       "reg_period               0\n",
       "registrant_country   11345\n",
       "renewal_status           0\n",
       "renew_mbg                0\n",
       "renew_type             211\n",
       "autorenew_type        3381\n",
       "renew_date             213\n",
       "renew_registrar          0\n",
       "renew_reseller           0\n",
       "reg_revenue              0\n",
       "reg_arpt                 0\n",
       "renew_period           213\n",
       "renew_domain_revenue     0\n",
       "renew_arpt             213\n",
       "reg_arpt_org             0\n",
       "tld_registrar_index      0\n",
       "sld                      0\n",
       "sld_type                 0\n",
       "sld_length               0\n",
       "sld_type2                0\n",
       "day_domains              0\n",
       "log_reg_arpt             0\n",
       "gibb_score               0\n",
       "pattern                  0\n",
       "cluster                  0\n",
       "pattern_score            0\n",
       "pattern_domain_count     0\n",
       "pred_agg_glm          5845\n",
       "pred_agg_rf           5845\n",
       "pred_seg_glm          5845\n",
       "pred_seg_rf           5845\n",
       "pred_seg2_glm         5846\n",
       "pred_seg2_rf          5845\n",
       "reseller_geo             2\n",
       "reg_arpt_slab            0\n",
       "pred_agg_glm_fb          0\n",
       "pred_agg_rf_fb           0\n",
       "pred_seg_glm_fb          0\n",
       "pred_seg_rf_fb           0\n",
       "pred_seg2_glm_fb         0\n",
       "pred_seg2_rf_fb          0"
      ]
     },
     "metadata": {},
     "output_type": "display_data"
    }
   ],
   "source": [
    "preds_df_3 %>%\n",
    "  select(everything()) %>%  # replace to your needs\n",
    "  summarise_all(funs(sum(is.na(.)))) %>% t()"
   ]
  },
  {
   "cell_type": "markdown",
   "metadata": {},
   "source": [
    "# Scope out load_prep functions"
   ]
  },
  {
   "cell_type": "code",
   "execution_count": 15,
   "metadata": {},
   "outputs": [
    {
     "data": {
      "text/html": [
       "<style>\n",
       ".list-inline {list-style: none; margin:0; padding: 0}\n",
       ".list-inline>li {display: inline-block}\n",
       ".list-inline>li:not(:last-child)::after {content: \"\\00b7\"; padding: 0 .5ex}\n",
       "</style>\n",
       "<ol class=list-inline><li>1452307</li><li>27</li></ol>\n"
      ],
      "text/latex": [
       "\\begin{enumerate*}\n",
       "\\item 1452307\n",
       "\\item 27\n",
       "\\end{enumerate*}\n"
      ],
      "text/markdown": [
       "1. 1452307\n",
       "2. 27\n",
       "\n",
       "\n"
      ],
      "text/plain": [
       "[1] 1452307      27"
      ]
     },
     "metadata": {},
     "output_type": "display_data"
    },
    {
     "name": "stdout",
     "output_type": "stream",
     "text": [
      "tibble [1,452,307 × 27] (S3: tbl_df/tbl/data.frame)\n",
      " $ renewal_type        : chr [1:1452307] \"Second\" \"FirstTime\" \"FirstTime\" \"Second\" ...\n",
      " $ renewed_count       : int [1:1452307] 2 1 1 2 1 3 2 1 1 1 ...\n",
      " $ expiry_date         : Date[1:1452307], format: \"2020-08-28\" \"2020-08-28\" ...\n",
      " $ creation_date       : Date[1:1452307], format: \"2018-08-28\" \"2018-08-28\" ...\n",
      " $ domain_id           : int [1:1452307] 75268249 75227889 119902346 75269329 119873126 51570563 75278149 119958381 119912246 119832541 ...\n",
      " $ domain              : chr [1:1452307] \"grafenhaus.online\" \"pultech.tech\" \"lebedeva-olga.space\" \"rvparts.site\" ...\n",
      " $ registrar           : chr [1:1452307] \"United Domains\" \"Domain.com - Registrar\" \"PDR Ltd\" \"Namecheap\" ...\n",
      " $ reseller            : chr [1:1452307] \"United Domains\" \"Domain.com - Registrar\" \"Timeweb\" \"Namecheap\" ...\n",
      " $ reseller_country    : chr [1:1452307] \"Germany\" \"United States\" \"Russia\" \"United States\" ...\n",
      " $ registrant_country  : chr [1:1452307] NA NA NA NA ...\n",
      " $ reg_period          : int [1:1452307] 1 2 1 1 1 1 1 1 1 1 ...\n",
      " $ reg_revenue         : num [1:1452307] 10 23 0.2 12.5 50 12.5 16 -0.4 4.25 2.08 ...\n",
      " $ reg_arpt            : num [1:1452307] 10 11.5 0.2 12.5 50 12.5 16 -0.4 4.25 2.08 ...\n",
      " $ renew_mbg           : int [1:1452307] 0 0 0 0 0 0 0 0 0 0 ...\n",
      " $ renewal_item_id     : int [1:1452307] 0 0 340772378 222805996 340804723 332931424 0 340774508 340754198 340789238 ...\n",
      " $ renew_type          : chr [1:1452307] NA NA \"auto-renewal\" \"renewal\" ...\n",
      " $ autorenew_type      : chr [1:1452307] NA NA \"unrealized\" NA ...\n",
      " $ renewal_status      : chr [1:1452307] \"Not Renewd\" \"Not Renewd\" \"Not Renewd\" \"Renewed\" ...\n",
      " $ renew_date          : Date[1:1452307], format: NA NA ...\n",
      " $ renew_arpt          : num [1:1452307] NA NA 15 12.5 100 15.5 NA 15 25 21 ...\n",
      " $ gibb_score          : num [1:1452307] 3.62 5.61 2.41 1.6 6 5.5 8.7 1.58 3.12 7.64 ...\n",
      " $ pattern             : chr [1:1452307] \"grafenhaus\" \"pultech\" \"lebedeva-olga\" \"rvparts\" ...\n",
      " $ pattern_domain_count: int [1:1452307] 1 2 1 1 2 1 1 1 1 1 ...\n",
      " $ day_domains         : int [1:1452307] 15 7 4 847 2 71 43 264 9 34 ...\n",
      " $ sld_length          : int [1:1452307] 10 7 13 7 5 4 7 7 9 18 ...\n",
      " $ sld_type            : chr [1:1452307] \"l\" \"l\" \"hyphen-l\" \"l\" ...\n",
      " $ sld_type2           : chr [1:1452307] \"10l\" \"7l\" \"13hyphen-l\" \"7l\" ...\n"
     ]
    }
   ],
   "source": [
    "# load data\n",
    "expiry_df <- readRDS(\"/home/jupyter/local/Domains_202003/data/output/expiry_20200701_20201015\")\n",
    "dim(expiry_df)\n",
    "str(expiry_df)"
   ]
  },
  {
   "cell_type": "code",
   "execution_count": 17,
   "metadata": {},
   "outputs": [
    {
     "data": {
      "text/html": [
       "<table>\n",
       "<caption>A tibble: 6 × 8</caption>\n",
       "<thead>\n",
       "\t<tr><th scope=col>pattern_domain_count</th><th scope=col>reg_arpt</th><th scope=col>sld_length</th><th scope=col>gibb_score</th><th scope=col>sld_type</th><th scope=col>day_domains</th><th scope=col>reg_period</th><th scope=col>reseller</th></tr>\n",
       "\t<tr><th scope=col>&lt;int&gt;</th><th scope=col>&lt;dbl&gt;</th><th scope=col>&lt;int&gt;</th><th scope=col>&lt;dbl&gt;</th><th scope=col>&lt;chr&gt;</th><th scope=col>&lt;int&gt;</th><th scope=col>&lt;int&gt;</th><th scope=col>&lt;chr&gt;</th></tr>\n",
       "</thead>\n",
       "<tbody>\n",
       "\t<tr><td>1</td><td>10.0</td><td>10</td><td>3.62</td><td>l       </td><td> 15</td><td>1</td><td>United Domains        </td></tr>\n",
       "\t<tr><td>2</td><td>11.5</td><td> 7</td><td>5.61</td><td>l       </td><td>  7</td><td>2</td><td>Domain.com - Registrar</td></tr>\n",
       "\t<tr><td>1</td><td> 0.2</td><td>13</td><td>2.41</td><td>hyphen-l</td><td>  4</td><td>1</td><td>Timeweb               </td></tr>\n",
       "\t<tr><td>1</td><td>12.5</td><td> 7</td><td>1.60</td><td>l       </td><td>847</td><td>1</td><td>Namecheap             </td></tr>\n",
       "\t<tr><td>2</td><td>50.0</td><td> 5</td><td>6.00</td><td>l       </td><td>  2</td><td>1</td><td>United Domains        </td></tr>\n",
       "\t<tr><td>1</td><td>12.5</td><td> 4</td><td>5.50</td><td>l       </td><td> 71</td><td>1</td><td>Namecheap             </td></tr>\n",
       "</tbody>\n",
       "</table>\n"
      ],
      "text/latex": [
       "A tibble: 6 × 8\n",
       "\\begin{tabular}{llllllll}\n",
       " pattern\\_domain\\_count & reg\\_arpt & sld\\_length & gibb\\_score & sld\\_type & day\\_domains & reg\\_period & reseller\\\\\n",
       " <int> & <dbl> & <int> & <dbl> & <chr> & <int> & <int> & <chr>\\\\\n",
       "\\hline\n",
       "\t 1 & 10.0 & 10 & 3.62 & l        &  15 & 1 & United Domains        \\\\\n",
       "\t 2 & 11.5 &  7 & 5.61 & l        &   7 & 2 & Domain.com - Registrar\\\\\n",
       "\t 1 &  0.2 & 13 & 2.41 & hyphen-l &   4 & 1 & Timeweb               \\\\\n",
       "\t 1 & 12.5 &  7 & 1.60 & l        & 847 & 1 & Namecheap             \\\\\n",
       "\t 2 & 50.0 &  5 & 6.00 & l        &   2 & 1 & United Domains        \\\\\n",
       "\t 1 & 12.5 &  4 & 5.50 & l        &  71 & 1 & Namecheap             \\\\\n",
       "\\end{tabular}\n"
      ],
      "text/markdown": [
       "\n",
       "A tibble: 6 × 8\n",
       "\n",
       "| pattern_domain_count &lt;int&gt; | reg_arpt &lt;dbl&gt; | sld_length &lt;int&gt; | gibb_score &lt;dbl&gt; | sld_type &lt;chr&gt; | day_domains &lt;int&gt; | reg_period &lt;int&gt; | reseller &lt;chr&gt; |\n",
       "|---|---|---|---|---|---|---|---|\n",
       "| 1 | 10.0 | 10 | 3.62 | l        |  15 | 1 | United Domains         |\n",
       "| 2 | 11.5 |  7 | 5.61 | l        |   7 | 2 | Domain.com - Registrar |\n",
       "| 1 |  0.2 | 13 | 2.41 | hyphen-l |   4 | 1 | Timeweb                |\n",
       "| 1 | 12.5 |  7 | 1.60 | l        | 847 | 1 | Namecheap              |\n",
       "| 2 | 50.0 |  5 | 6.00 | l        |   2 | 1 | United Domains         |\n",
       "| 1 | 12.5 |  4 | 5.50 | l        |  71 | 1 | Namecheap              |\n",
       "\n"
      ],
      "text/plain": [
       "  pattern_domain_count reg_arpt sld_length gibb_score sld_type day_domains\n",
       "1 1                    10.0     10         3.62       l         15        \n",
       "2 2                    11.5      7         5.61       l          7        \n",
       "3 1                     0.2     13         2.41       hyphen-l   4        \n",
       "4 1                    12.5      7         1.60       l        847        \n",
       "5 2                    50.0      5         6.00       l          2        \n",
       "6 1                    12.5      4         5.50       l         71        \n",
       "  reg_period reseller              \n",
       "1 1          United Domains        \n",
       "2 2          Domain.com - Registrar\n",
       "3 1          Timeweb               \n",
       "4 1          Namecheap             \n",
       "5 1          United Domains        \n",
       "6 1          Namecheap             "
      ]
     },
     "metadata": {},
     "output_type": "display_data"
    }
   ],
   "source": [
    "necessary_cols <- c('pattern_domain_count','reg_arpt','sld_length','gibb_score',\n",
    "                    'sld_type','day_domains','reg_period','reseller')\n",
    "expiry_df %>% select(all_of(necessary_cols)) %>% head()"
   ]
  },
  {
   "cell_type": "code",
   "execution_count": 18,
   "metadata": {},
   "outputs": [
    {
     "ename": "ERROR",
     "evalue": "Error: Problem with `mutate()` input `tld_registrar_index`.\n\u001b[31m✖\u001b[39m object 'tld' not found\n\u001b[34mℹ\u001b[39m Input `tld_registrar_index` is `tolower(paste(tld, reseller, sep = \"\"))`.\n",
     "output_type": "error",
     "traceback": [
      "Error: Problem with `mutate()` input `tld_registrar_index`.\n\u001b[31m✖\u001b[39m object 'tld' not found\n\u001b[34mℹ\u001b[39m Input `tld_registrar_index` is `tolower(paste(tld, reseller, sep = \"\"))`.\nTraceback:\n",
      "1. expiry_df %>% mutate(reg_arpt = ifelse(reg_arpt <= 0, 1e-04, \n .     reg_arpt), log_reg_arpt = log(reg_arpt), tld_registrar_index = tolower(paste(tld, \n .     reseller, sep = \"\")))",
      "2. withVisible(eval(quote(`_fseq`(`_lhs`)), env, env))",
      "3. eval(quote(`_fseq`(`_lhs`)), env, env)",
      "4. eval(quote(`_fseq`(`_lhs`)), env, env)",
      "5. `_fseq`(`_lhs`)",
      "6. freduce(value, `_function_list`)",
      "7. withVisible(function_list[[k]](value))",
      "8. function_list[[k]](value)",
      "9. mutate(., reg_arpt = ifelse(reg_arpt <= 0, 1e-04, reg_arpt), \n .     log_reg_arpt = log(reg_arpt), tld_registrar_index = tolower(paste(tld, \n .         reseller, sep = \"\")))",
      "10. mutate.data.frame(., reg_arpt = ifelse(reg_arpt <= 0, 1e-04, \n  .     reg_arpt), log_reg_arpt = log(reg_arpt), tld_registrar_index = tolower(paste(tld, \n  .     reseller, sep = \"\")))",
      "11. mutate_cols(.data, ...)",
      "12. tryCatch({\n  .     for (i in seq_along(dots)) {\n  .         not_named <- (is.null(dots_names) || dots_names[i] == \n  .             \"\")\n  .         chunks <- NULL\n  .         result <- NULL\n  .         if (quo_is_symbol(dots[[i]])) {\n  .             name <- as_string(quo_get_expr(dots[[i]]))\n  .             if (name %in% names(new_columns)) {\n  .                 result <- new_columns[[name]]\n  .                 chunks <- mask$get_resolved(name)\n  .             }\n  .             else if (name %in% names(.data)) {\n  .                 result <- .data[[name]]\n  .                 chunks <- mask$resolve(name)\n  .             }\n  .             if (inherits(.data, \"rowwise_df\") && vec_is_list(result)) {\n  .                 sizes <- list_sizes(result)\n  .                 wrong <- which(sizes != 1)\n  .                 if (length(wrong)) {\n  .                   group <- wrong[1L]\n  .                   mask$set_current_group(group)\n  .                   stop_mutate_recycle_incompatible_size(sizes[group])\n  .                 }\n  .             }\n  .         }\n  .         if (is.null(chunks)) {\n  .             chunks <- mask$eval_all_mutate(dots[[i]])\n  .         }\n  .         mask$across_cache_reset()\n  .         if (is.null(chunks)) {\n  .             if (!is.null(dots_names) && dots_names[i] != \"\") {\n  .                 new_columns[[dots_names[i]]] <- zap()\n  .                 suppressWarnings(mask$remove(dots_names[i]))\n  .             }\n  .             next\n  .         }\n  .         if (is.null(result)) {\n  .             result <- tryCatch(vec_unchop(chunks, rows), vctrs_error_incompatible_type = function(cnd) {\n  .                 abort(class = \"dplyr:::error_mutate_incompatible_combine\", \n  .                   parent = cnd)\n  .             })\n  .         }\n  .         if (not_named && is.data.frame(result)) {\n  .             new_columns[names(result)] <- result\n  .             map2(seq_along(result), names(result), function(i, \n  .                 nm) {\n  .                 mask$add(nm, pluck(chunks, i))\n  .             })\n  .         }\n  .         else {\n  .             name <- if (not_named) \n  .                 auto_named_dots[i]\n  .             else dots_names[i]\n  .             new_columns[[name]] <- result\n  .             mask$add(name, chunks)\n  .         }\n  .     }\n  . }, error = function(e) {\n  .     if (inherits(e, \"rlang_error_data_pronoun_not_found\")) {\n  .         stop_error_data_pronoun_not_found(conditionMessage(e), \n  .             index = i, dots = dots, fn = \"mutate\")\n  .     }\n  .     else if (inherits(e, \"dplyr:::mutate_incompatible_size\")) {\n  .         e$size <- vec_size(rows[[i]])\n  .         stop_mutate_recycle_incompatible_size(e, index = i, dots = dots)\n  .     }\n  .     else if (inherits(e, \"dplyr:::mutate_mixed_null\")) {\n  .         stop_mutate_mixed_null(index = i, dots = dots)\n  .     }\n  .     else if (inherits(e, \"dplyr:::mutate_not_vector\")) {\n  .         stop_mutate_not_vector(index = i, dots = dots, result = e$result)\n  .     }\n  .     else if (inherits(e, \"dplyr:::error_mutate_incompatible_combine\")) {\n  .         stop_combine(e$parent, index = i, dots = dots, fn = \"mutate\")\n  .     }\n  .     else {\n  .         stop_dplyr(i, dots, fn = \"mutate\", problem = conditionMessage(e), \n  .             parent = e)\n  .     }\n  . })",
      "13. tryCatchList(expr, classes, parentenv, handlers)",
      "14. tryCatchOne(expr, names, parentenv, handlers[[1L]])",
      "15. value[[3L]](cond)",
      "16. stop_dplyr(i, dots, fn = \"mutate\", problem = conditionMessage(e), \n  .     parent = e)",
      "17. abort(bullets, class = \"dplyr_error\", error_name = error_name, \n  .     error_expression = error_expression, index = .index, dots = dots, \n  .     fn = fn, parent = parent)",
      "18. signal_abort(cnd)"
     ]
    }
   ],
   "source": [
    "# expiry_df <- expiry_df %>% mutate (reg_arpt = ifelse(reg_arpt <= 0, 0.0001,reg_arpt),\n",
    "#                                    log_reg_arpt = log(reg_arpt),\n",
    "#                                    tld_registrar_index = tolower(paste(tld, reseller,sep=\"\")))\n",
    "# str(expiry_df)\n",
    "# head(expiry_df)"
   ]
  },
  {
   "cell_type": "code",
   "execution_count": 6,
   "metadata": {},
   "outputs": [
    {
     "data": {
      "text/plain": [
       "   Min. 1st Qu.  Median    Mean 3rd Qu.    Max. \n",
       "-9.2103 -0.9163 -0.5276 -0.8236  0.4055  4.1744 "
      ]
     },
     "metadata": {},
     "output_type": "display_data"
    },
    {
     "data": {
      "text/html": [
       "0"
      ],
      "text/latex": [
       "0"
      ],
      "text/markdown": [
       "0"
      ],
      "text/plain": [
       "[1] 0"
      ]
     },
     "metadata": {},
     "output_type": "display_data"
    }
   ],
   "source": [
    "summary(expiry_df$log_reg_arpt)\n",
    "sum(is.na(expiry_df$log_reg_arpt))"
   ]
  },
  {
   "cell_type": "markdown",
   "metadata": {},
   "source": [
    "## missing data\n",
    "Training model_agg_rf_ALL\n",
    "Error: Missing data in columns: pattern_domain_count, sld_length, gibb_score, sld_type, day_domains."
   ]
  },
  {
   "cell_type": "code",
   "execution_count": 19,
   "metadata": {},
   "outputs": [
    {
     "data": {
      "text/html": [
       "<table>\n",
       "<caption>A matrix: 27 × 1 of type int</caption>\n",
       "<tbody>\n",
       "\t<tr><th scope=row>renewal_type</th><td>      0</td></tr>\n",
       "\t<tr><th scope=row>renewed_count</th><td>      0</td></tr>\n",
       "\t<tr><th scope=row>expiry_date</th><td>      0</td></tr>\n",
       "\t<tr><th scope=row>creation_date</th><td>   3084</td></tr>\n",
       "\t<tr><th scope=row>domain_id</th><td>      0</td></tr>\n",
       "\t<tr><th scope=row>domain</th><td>      0</td></tr>\n",
       "\t<tr><th scope=row>registrar</th><td>      0</td></tr>\n",
       "\t<tr><th scope=row>reseller</th><td>      0</td></tr>\n",
       "\t<tr><th scope=row>reseller_country</th><td>      0</td></tr>\n",
       "\t<tr><th scope=row>registrant_country</th><td>1451243</td></tr>\n",
       "\t<tr><th scope=row>reg_period</th><td>      0</td></tr>\n",
       "\t<tr><th scope=row>reg_revenue</th><td>      0</td></tr>\n",
       "\t<tr><th scope=row>reg_arpt</th><td>      0</td></tr>\n",
       "\t<tr><th scope=row>renew_mbg</th><td>      1</td></tr>\n",
       "\t<tr><th scope=row>renewal_item_id</th><td>      0</td></tr>\n",
       "\t<tr><th scope=row>renew_type</th><td> 150143</td></tr>\n",
       "\t<tr><th scope=row>autorenew_type</th><td> 778787</td></tr>\n",
       "\t<tr><th scope=row>renewal_status</th><td>      0</td></tr>\n",
       "\t<tr><th scope=row>renew_date</th><td> 150590</td></tr>\n",
       "\t<tr><th scope=row>renew_arpt</th><td> 150591</td></tr>\n",
       "\t<tr><th scope=row>gibb_score</th><td>  80084</td></tr>\n",
       "\t<tr><th scope=row>pattern</th><td>  80084</td></tr>\n",
       "\t<tr><th scope=row>pattern_domain_count</th><td>  80084</td></tr>\n",
       "\t<tr><th scope=row>day_domains</th><td>  80084</td></tr>\n",
       "\t<tr><th scope=row>sld_length</th><td>  80084</td></tr>\n",
       "\t<tr><th scope=row>sld_type</th><td>  80084</td></tr>\n",
       "\t<tr><th scope=row>sld_type2</th><td>  80084</td></tr>\n",
       "</tbody>\n",
       "</table>\n"
      ],
      "text/latex": [
       "A matrix: 27 × 1 of type int\n",
       "\\begin{tabular}{r|l}\n",
       "\trenewal\\_type &       0\\\\\n",
       "\trenewed\\_count &       0\\\\\n",
       "\texpiry\\_date &       0\\\\\n",
       "\tcreation\\_date &    3084\\\\\n",
       "\tdomain\\_id &       0\\\\\n",
       "\tdomain &       0\\\\\n",
       "\tregistrar &       0\\\\\n",
       "\treseller &       0\\\\\n",
       "\treseller\\_country &       0\\\\\n",
       "\tregistrant\\_country & 1451243\\\\\n",
       "\treg\\_period &       0\\\\\n",
       "\treg\\_revenue &       0\\\\\n",
       "\treg\\_arpt &       0\\\\\n",
       "\trenew\\_mbg &       1\\\\\n",
       "\trenewal\\_item\\_id &       0\\\\\n",
       "\trenew\\_type &  150143\\\\\n",
       "\tautorenew\\_type &  778787\\\\\n",
       "\trenewal\\_status &       0\\\\\n",
       "\trenew\\_date &  150590\\\\\n",
       "\trenew\\_arpt &  150591\\\\\n",
       "\tgibb\\_score &   80084\\\\\n",
       "\tpattern &   80084\\\\\n",
       "\tpattern\\_domain\\_count &   80084\\\\\n",
       "\tday\\_domains &   80084\\\\\n",
       "\tsld\\_length &   80084\\\\\n",
       "\tsld\\_type &   80084\\\\\n",
       "\tsld\\_type2 &   80084\\\\\n",
       "\\end{tabular}\n"
      ],
      "text/markdown": [
       "\n",
       "A matrix: 27 × 1 of type int\n",
       "\n",
       "| renewal_type |       0 |\n",
       "| renewed_count |       0 |\n",
       "| expiry_date |       0 |\n",
       "| creation_date |    3084 |\n",
       "| domain_id |       0 |\n",
       "| domain |       0 |\n",
       "| registrar |       0 |\n",
       "| reseller |       0 |\n",
       "| reseller_country |       0 |\n",
       "| registrant_country | 1451243 |\n",
       "| reg_period |       0 |\n",
       "| reg_revenue |       0 |\n",
       "| reg_arpt |       0 |\n",
       "| renew_mbg |       1 |\n",
       "| renewal_item_id |       0 |\n",
       "| renew_type |  150143 |\n",
       "| autorenew_type |  778787 |\n",
       "| renewal_status |       0 |\n",
       "| renew_date |  150590 |\n",
       "| renew_arpt |  150591 |\n",
       "| gibb_score |   80084 |\n",
       "| pattern |   80084 |\n",
       "| pattern_domain_count |   80084 |\n",
       "| day_domains |   80084 |\n",
       "| sld_length |   80084 |\n",
       "| sld_type |   80084 |\n",
       "| sld_type2 |   80084 |\n",
       "\n"
      ],
      "text/plain": [
       "                     [,1]   \n",
       "renewal_type               0\n",
       "renewed_count              0\n",
       "expiry_date                0\n",
       "creation_date           3084\n",
       "domain_id                  0\n",
       "domain                     0\n",
       "registrar                  0\n",
       "reseller                   0\n",
       "reseller_country           0\n",
       "registrant_country   1451243\n",
       "reg_period                 0\n",
       "reg_revenue                0\n",
       "reg_arpt                   0\n",
       "renew_mbg                  1\n",
       "renewal_item_id            0\n",
       "renew_type            150143\n",
       "autorenew_type        778787\n",
       "renewal_status             0\n",
       "renew_date            150590\n",
       "renew_arpt            150591\n",
       "gibb_score             80084\n",
       "pattern                80084\n",
       "pattern_domain_count   80084\n",
       "day_domains            80084\n",
       "sld_length             80084\n",
       "sld_type               80084\n",
       "sld_type2              80084"
      ]
     },
     "metadata": {},
     "output_type": "display_data"
    }
   ],
   "source": [
    "expiry_df %>%\n",
    "  select(everything()) %>% \n",
    "  summarise_all(funs(sum(is.na(.)))) %>% t()"
   ]
  },
  {
   "cell_type": "code",
   "execution_count": 34,
   "metadata": {},
   "outputs": [
    {
     "data": {
      "text/html": [
       "<table>\n",
       "<caption>A matrix: 5 × 1 of type int</caption>\n",
       "<tbody>\n",
       "\t<tr><th scope=row>pattern_domain_count</th><td>593</td></tr>\n",
       "\t<tr><th scope=row>sld_length</th><td>593</td></tr>\n",
       "\t<tr><th scope=row>gibb_score</th><td>593</td></tr>\n",
       "\t<tr><th scope=row>sld_type</th><td>593</td></tr>\n",
       "\t<tr><th scope=row>day_domains</th><td>593</td></tr>\n",
       "</tbody>\n",
       "</table>\n"
      ],
      "text/latex": [
       "A matrix: 5 × 1 of type int\n",
       "\\begin{tabular}{r|l}\n",
       "\tpattern\\_domain\\_count & 593\\\\\n",
       "\tsld\\_length & 593\\\\\n",
       "\tgibb\\_score & 593\\\\\n",
       "\tsld\\_type & 593\\\\\n",
       "\tday\\_domains & 593\\\\\n",
       "\\end{tabular}\n"
      ],
      "text/markdown": [
       "\n",
       "A matrix: 5 × 1 of type int\n",
       "\n",
       "| pattern_domain_count | 593 |\n",
       "| sld_length | 593 |\n",
       "| gibb_score | 593 |\n",
       "| sld_type | 593 |\n",
       "| day_domains | 593 |\n",
       "\n"
      ],
      "text/plain": [
       "                     [,1]\n",
       "pattern_domain_count 593 \n",
       "sld_length           593 \n",
       "gibb_score           593 \n",
       "sld_type             593 \n",
       "day_domains          593 "
      ]
     },
     "metadata": {},
     "output_type": "display_data"
    }
   ],
   "source": [
    "expiry_df %>% filter(is.na(gibb_score)) %>% filter(renewed_count==1) %>% select(pattern_domain_count, sld_length, gibb_score, sld_type, day_domains) %>% \n",
    "  summarise_all(funs(sum(is.na(.)))) %>% t()"
   ]
  },
  {
   "cell_type": "code",
   "execution_count": 22,
   "metadata": {},
   "outputs": [
    {
     "data": {
      "text/html": [
       "<table>\n",
       "<caption>A tibble: 1 × 2</caption>\n",
       "<thead>\n",
       "\t<tr><th scope=col>min(expiry_date)</th><th scope=col>max(expiry_date)</th></tr>\n",
       "\t<tr><th scope=col>&lt;date&gt;</th><th scope=col>&lt;date&gt;</th></tr>\n",
       "</thead>\n",
       "<tbody>\n",
       "\t<tr><td>2020-07-01</td><td>2020-10-15</td></tr>\n",
       "</tbody>\n",
       "</table>\n"
      ],
      "text/latex": [
       "A tibble: 1 × 2\n",
       "\\begin{tabular}{ll}\n",
       " min(expiry\\_date) & max(expiry\\_date)\\\\\n",
       " <date> & <date>\\\\\n",
       "\\hline\n",
       "\t 2020-07-01 & 2020-10-15\\\\\n",
       "\\end{tabular}\n"
      ],
      "text/markdown": [
       "\n",
       "A tibble: 1 × 2\n",
       "\n",
       "| min(expiry_date) &lt;date&gt; | max(expiry_date) &lt;date&gt; |\n",
       "|---|---|\n",
       "| 2020-07-01 | 2020-10-15 |\n",
       "\n"
      ],
      "text/plain": [
       "  min(expiry_date) max(expiry_date)\n",
       "1 2020-07-01       2020-10-15      "
      ]
     },
     "metadata": {},
     "output_type": "display_data"
    }
   ],
   "source": [
    "expiry_df %>% filter(is.na(gibb_score)) %>% summarise(min(expiry_date), max(expiry_date))"
   ]
  },
  {
   "cell_type": "code",
   "execution_count": 33,
   "metadata": {},
   "outputs": [
    {
     "name": "stderr",
     "output_type": "stream",
     "text": [
      "`summarise()` ungrouping output (override with `.groups` argument)\n",
      "\n"
     ]
    },
    {
     "data": {
      "text/html": [
       "<table>\n",
       "<caption>A tibble: 4 × 2</caption>\n",
       "<thead>\n",
       "\t<tr><th scope=col>month</th><th scope=col>count</th></tr>\n",
       "\t<tr><th scope=col>&lt;date&gt;</th><th scope=col>&lt;int&gt;</th></tr>\n",
       "</thead>\n",
       "<tbody>\n",
       "\t<tr><td>2020-07-01</td><td>107</td></tr>\n",
       "\t<tr><td>2020-08-01</td><td>174</td></tr>\n",
       "\t<tr><td>2020-09-01</td><td>222</td></tr>\n",
       "\t<tr><td>2020-10-01</td><td> 90</td></tr>\n",
       "</tbody>\n",
       "</table>\n"
      ],
      "text/latex": [
       "A tibble: 4 × 2\n",
       "\\begin{tabular}{ll}\n",
       " month & count\\\\\n",
       " <date> & <int>\\\\\n",
       "\\hline\n",
       "\t 2020-07-01 & 107\\\\\n",
       "\t 2020-08-01 & 174\\\\\n",
       "\t 2020-09-01 & 222\\\\\n",
       "\t 2020-10-01 &  90\\\\\n",
       "\\end{tabular}\n"
      ],
      "text/markdown": [
       "\n",
       "A tibble: 4 × 2\n",
       "\n",
       "| month &lt;date&gt; | count &lt;int&gt; |\n",
       "|---|---|\n",
       "| 2020-07-01 | 107 |\n",
       "| 2020-08-01 | 174 |\n",
       "| 2020-09-01 | 222 |\n",
       "| 2020-10-01 |  90 |\n",
       "\n"
      ],
      "text/plain": [
       "  month      count\n",
       "1 2020-07-01 107  \n",
       "2 2020-08-01 174  \n",
       "3 2020-09-01 222  \n",
       "4 2020-10-01  90  "
      ]
     },
     "metadata": {},
     "output_type": "display_data"
    }
   ],
   "source": [
    "\n",
    "library(lubridate)\n",
    "expiry_df %>% filter(is.na(gibb_score)) %>% filter(renewed_count==1) %>% group_by(month=floor_date(expiry_date, \"month\")) %>%\n",
    "   summarize(count=n())"
   ]
  },
  {
   "cell_type": "code",
   "execution_count": 25,
   "metadata": {},
   "outputs": [
    {
     "data": {
      "text/html": [
       "<table>\n",
       "<caption>A matrix: 5 × 1 of type int</caption>\n",
       "<tbody>\n",
       "\t<tr><th scope=row>pattern_domain_count</th><td>0</td></tr>\n",
       "\t<tr><th scope=row>sld_length</th><td>0</td></tr>\n",
       "\t<tr><th scope=row>gibb_score</th><td>0</td></tr>\n",
       "\t<tr><th scope=row>sld_type</th><td>0</td></tr>\n",
       "\t<tr><th scope=row>day_domains</th><td>0</td></tr>\n",
       "</tbody>\n",
       "</table>\n"
      ],
      "text/latex": [
       "A matrix: 5 × 1 of type int\n",
       "\\begin{tabular}{r|l}\n",
       "\tpattern\\_domain\\_count & 0\\\\\n",
       "\tsld\\_length & 0\\\\\n",
       "\tgibb\\_score & 0\\\\\n",
       "\tsld\\_type & 0\\\\\n",
       "\tday\\_domains & 0\\\\\n",
       "\\end{tabular}\n"
      ],
      "text/markdown": [
       "\n",
       "A matrix: 5 × 1 of type int\n",
       "\n",
       "| pattern_domain_count | 0 |\n",
       "| sld_length | 0 |\n",
       "| gibb_score | 0 |\n",
       "| sld_type | 0 |\n",
       "| day_domains | 0 |\n",
       "\n"
      ],
      "text/plain": [
       "                     [,1]\n",
       "pattern_domain_count 0   \n",
       "sld_length           0   \n",
       "gibb_score           0   \n",
       "sld_type             0   \n",
       "day_domains          0   "
      ]
     },
     "metadata": {},
     "output_type": "display_data"
    }
   ],
   "source": [
    "expiry_train_df_1  %>%  filter(is.na(gibb_score)) %>% select(pattern_domain_count, sld_length, gibb_score, sld_type, day_domains) %>% \n",
    "  summarise_all(funs(sum(is.na(.)))) %>% t()"
   ]
  },
  {
   "cell_type": "code",
   "execution_count": 27,
   "metadata": {},
   "outputs": [
    {
     "data": {
      "text/html": [
       "<style>\n",
       ".list-inline {list-style: none; margin:0; padding: 0}\n",
       ".list-inline>li {display: inline-block}\n",
       ".list-inline>li:not(:last-child)::after {content: \"\\00b7\"; padding: 0 .5ex}\n",
       "</style>\n",
       "<ol class=list-inline><li>'renewal_type'</li><li>'renewed_count'</li><li>'expiry_date'</li><li>'creation_date'</li><li>'domain_id'</li><li>'domain'</li><li>'registrar'</li><li>'reseller'</li><li>'reseller_country'</li><li>'registrant_country'</li><li>'reg_period'</li><li>'reg_revenue'</li><li>'reg_arpt'</li><li>'renew_mbg'</li><li>'renewal_item_id'</li><li>'renew_type'</li><li>'autorenew_type'</li><li>'renewal_status'</li><li>'renew_date'</li><li>'renew_arpt'</li><li>'gibb_score'</li><li>'pattern'</li><li>'pattern_domain_count'</li><li>'day_domains'</li><li>'sld_length'</li><li>'sld_type'</li><li>'sld_type2'</li></ol>\n"
      ],
      "text/latex": [
       "\\begin{enumerate*}\n",
       "\\item 'renewal\\_type'\n",
       "\\item 'renewed\\_count'\n",
       "\\item 'expiry\\_date'\n",
       "\\item 'creation\\_date'\n",
       "\\item 'domain\\_id'\n",
       "\\item 'domain'\n",
       "\\item 'registrar'\n",
       "\\item 'reseller'\n",
       "\\item 'reseller\\_country'\n",
       "\\item 'registrant\\_country'\n",
       "\\item 'reg\\_period'\n",
       "\\item 'reg\\_revenue'\n",
       "\\item 'reg\\_arpt'\n",
       "\\item 'renew\\_mbg'\n",
       "\\item 'renewal\\_item\\_id'\n",
       "\\item 'renew\\_type'\n",
       "\\item 'autorenew\\_type'\n",
       "\\item 'renewal\\_status'\n",
       "\\item 'renew\\_date'\n",
       "\\item 'renew\\_arpt'\n",
       "\\item 'gibb\\_score'\n",
       "\\item 'pattern'\n",
       "\\item 'pattern\\_domain\\_count'\n",
       "\\item 'day\\_domains'\n",
       "\\item 'sld\\_length'\n",
       "\\item 'sld\\_type'\n",
       "\\item 'sld\\_type2'\n",
       "\\end{enumerate*}\n"
      ],
      "text/markdown": [
       "1. 'renewal_type'\n",
       "2. 'renewed_count'\n",
       "3. 'expiry_date'\n",
       "4. 'creation_date'\n",
       "5. 'domain_id'\n",
       "6. 'domain'\n",
       "7. 'registrar'\n",
       "8. 'reseller'\n",
       "9. 'reseller_country'\n",
       "10. 'registrant_country'\n",
       "11. 'reg_period'\n",
       "12. 'reg_revenue'\n",
       "13. 'reg_arpt'\n",
       "14. 'renew_mbg'\n",
       "15. 'renewal_item_id'\n",
       "16. 'renew_type'\n",
       "17. 'autorenew_type'\n",
       "18. 'renewal_status'\n",
       "19. 'renew_date'\n",
       "20. 'renew_arpt'\n",
       "21. 'gibb_score'\n",
       "22. 'pattern'\n",
       "23. 'pattern_domain_count'\n",
       "24. 'day_domains'\n",
       "25. 'sld_length'\n",
       "26. 'sld_type'\n",
       "27. 'sld_type2'\n",
       "\n",
       "\n"
      ],
      "text/plain": [
       " [1] \"renewal_type\"         \"renewed_count\"        \"expiry_date\"         \n",
       " [4] \"creation_date\"        \"domain_id\"            \"domain\"              \n",
       " [7] \"registrar\"            \"reseller\"             \"reseller_country\"    \n",
       "[10] \"registrant_country\"   \"reg_period\"           \"reg_revenue\"         \n",
       "[13] \"reg_arpt\"             \"renew_mbg\"            \"renewal_item_id\"     \n",
       "[16] \"renew_type\"           \"autorenew_type\"       \"renewal_status\"      \n",
       "[19] \"renew_date\"           \"renew_arpt\"           \"gibb_score\"          \n",
       "[22] \"pattern\"              \"pattern_domain_count\" \"day_domains\"         \n",
       "[25] \"sld_length\"           \"sld_type\"             \"sld_type2\"           "
      ]
     },
     "metadata": {},
     "output_type": "display_data"
    }
   ],
   "source": [
    "names(expiry_df)"
   ]
  },
  {
   "cell_type": "code",
   "execution_count": 28,
   "metadata": {},
   "outputs": [
    {
     "data": {
      "text/html": [
       "<table>\n",
       "<caption>A tibble: 7 × 2</caption>\n",
       "<thead>\n",
       "\t<tr><th scope=col>renewed_count</th><th scope=col>n</th></tr>\n",
       "\t<tr><th scope=col>&lt;int&gt;</th><th scope=col>&lt;int&gt;</th></tr>\n",
       "</thead>\n",
       "<tbody>\n",
       "\t<tr><td>1</td><td>  90</td></tr>\n",
       "\t<tr><td>2</td><td> 275</td></tr>\n",
       "\t<tr><td>3</td><td> 497</td></tr>\n",
       "\t<tr><td>4</td><td>3968</td></tr>\n",
       "\t<tr><td>5</td><td>2941</td></tr>\n",
       "\t<tr><td>6</td><td> 649</td></tr>\n",
       "\t<tr><td>7</td><td> 252</td></tr>\n",
       "</tbody>\n",
       "</table>\n"
      ],
      "text/latex": [
       "A tibble: 7 × 2\n",
       "\\begin{tabular}{ll}\n",
       " renewed\\_count & n\\\\\n",
       " <int> & <int>\\\\\n",
       "\\hline\n",
       "\t 1 &   90\\\\\n",
       "\t 2 &  275\\\\\n",
       "\t 3 &  497\\\\\n",
       "\t 4 & 3968\\\\\n",
       "\t 5 & 2941\\\\\n",
       "\t 6 &  649\\\\\n",
       "\t 7 &  252\\\\\n",
       "\\end{tabular}\n"
      ],
      "text/markdown": [
       "\n",
       "A tibble: 7 × 2\n",
       "\n",
       "| renewed_count &lt;int&gt; | n &lt;int&gt; |\n",
       "|---|---|\n",
       "| 1 |   90 |\n",
       "| 2 |  275 |\n",
       "| 3 |  497 |\n",
       "| 4 | 3968 |\n",
       "| 5 | 2941 |\n",
       "| 6 |  649 |\n",
       "| 7 |  252 |\n",
       "\n"
      ],
      "text/plain": [
       "  renewed_count n   \n",
       "1 1               90\n",
       "2 2              275\n",
       "3 3              497\n",
       "4 4             3968\n",
       "5 5             2941\n",
       "6 6              649\n",
       "7 7              252"
      ]
     },
     "metadata": {},
     "output_type": "display_data"
    }
   ],
   "source": [
    "expiry_df %>% filter(is.na(gibb_score)) %>% filter(floor_date(expiry_date, \"month\")=='2020-10-01') %>% group_by(renewed_count) %>% tally()"
   ]
  },
  {
   "cell_type": "code",
   "execution_count": 32,
   "metadata": {},
   "outputs": [
    {
     "data": {
      "text/html": [
       "<table>\n",
       "<caption>A tibble: 5 × 2</caption>\n",
       "<thead>\n",
       "\t<tr><th scope=col>floor_date(creation_date, \"month\")</th><th scope=col>n</th></tr>\n",
       "\t<tr><th scope=col>&lt;date&gt;</th><th scope=col>&lt;int&gt;</th></tr>\n",
       "</thead>\n",
       "<tbody>\n",
       "\t<tr><td>2013-10-01</td><td> 271</td></tr>\n",
       "\t<tr><td>2014-10-01</td><td> 756</td></tr>\n",
       "\t<tr><td>2015-10-01</td><td>3364</td></tr>\n",
       "\t<tr><td>2016-10-01</td><td>4253</td></tr>\n",
       "\t<tr><td>NA</td><td>  28</td></tr>\n",
       "</tbody>\n",
       "</table>\n"
      ],
      "text/latex": [
       "A tibble: 5 × 2\n",
       "\\begin{tabular}{ll}\n",
       " floor\\_date(creation\\_date, \"month\") & n\\\\\n",
       " <date> & <int>\\\\\n",
       "\\hline\n",
       "\t 2013-10-01 &  271\\\\\n",
       "\t 2014-10-01 &  756\\\\\n",
       "\t 2015-10-01 & 3364\\\\\n",
       "\t 2016-10-01 & 4253\\\\\n",
       "\t NA &   28\\\\\n",
       "\\end{tabular}\n"
      ],
      "text/markdown": [
       "\n",
       "A tibble: 5 × 2\n",
       "\n",
       "| floor_date(creation_date, \"month\") &lt;date&gt; | n &lt;int&gt; |\n",
       "|---|---|\n",
       "| 2013-10-01 |  271 |\n",
       "| 2014-10-01 |  756 |\n",
       "| 2015-10-01 | 3364 |\n",
       "| 2016-10-01 | 4253 |\n",
       "| NA |   28 |\n",
       "\n"
      ],
      "text/plain": [
       "  floor_date(creation_date, \"month\") n   \n",
       "1 2013-10-01                          271\n",
       "2 2014-10-01                          756\n",
       "3 2015-10-01                         3364\n",
       "4 2016-10-01                         4253\n",
       "5 <NA>                                 28"
      ]
     },
     "metadata": {},
     "output_type": "display_data"
    }
   ],
   "source": [
    "expiry_df %>% filter(is.na(gibb_score)) %>% filter(floor_date(expiry_date, \"month\")=='2020-10-01') %>% \n",
    "    group_by(floor_date(creation_date, \"month\") ) %>% tally()"
   ]
  },
  {
   "cell_type": "markdown",
   "metadata": {},
   "source": [
    "# Check -- did we exclude renewed_count>1 from previous analyses?"
   ]
  },
  {
   "cell_type": "code",
   "execution_count": 6,
   "metadata": {},
   "outputs": [
    {
     "data": {
      "text/html": [
       "<style>\n",
       ".list-inline {list-style: none; margin:0; padding: 0}\n",
       ".list-inline>li {display: inline-block}\n",
       ".list-inline>li:not(:last-child)::after {content: \"\\00b7\"; padding: 0 .5ex}\n",
       "</style>\n",
       "<ol class=list-inline><li>'renewal_type'</li><li>'renewed_count'</li><li>'expiry_date'</li><li>'domain_id'</li><li>'domain'</li><li>'creation_date'</li><li>'status'</li><li>'tld'</li><li>'registrar'</li><li>'reseller'</li><li>'reseller_country'</li><li>'region'</li><li>'reg_period'</li><li>'registrant_country'</li><li>'renewal_status'</li><li>'renew_mbg'</li><li>'renew_type'</li><li>'autorenew_type'</li><li>'renew_date'</li><li>'renew_registrar'</li><li>'renew_reseller'</li><li>'reg_revenue'</li><li>'reg_arpt'</li><li>'renew_period'</li><li>'renew_domain_revenue'</li><li>'renew_arpt'</li><li>'reg_arpt_org'</li><li>'tld_registrar_index'</li><li>'sld'</li><li>'sld_type'</li><li>'sld_length'</li><li>'sld_type2'</li><li>'day_domains'</li><li>'log_reg_arpt'</li><li>'gibb_score'</li><li>'pattern'</li><li>'cluster'</li><li>'pattern_score'</li><li>'pattern_domain_count'</li></ol>\n"
      ],
      "text/latex": [
       "\\begin{enumerate*}\n",
       "\\item 'renewal\\_type'\n",
       "\\item 'renewed\\_count'\n",
       "\\item 'expiry\\_date'\n",
       "\\item 'domain\\_id'\n",
       "\\item 'domain'\n",
       "\\item 'creation\\_date'\n",
       "\\item 'status'\n",
       "\\item 'tld'\n",
       "\\item 'registrar'\n",
       "\\item 'reseller'\n",
       "\\item 'reseller\\_country'\n",
       "\\item 'region'\n",
       "\\item 'reg\\_period'\n",
       "\\item 'registrant\\_country'\n",
       "\\item 'renewal\\_status'\n",
       "\\item 'renew\\_mbg'\n",
       "\\item 'renew\\_type'\n",
       "\\item 'autorenew\\_type'\n",
       "\\item 'renew\\_date'\n",
       "\\item 'renew\\_registrar'\n",
       "\\item 'renew\\_reseller'\n",
       "\\item 'reg\\_revenue'\n",
       "\\item 'reg\\_arpt'\n",
       "\\item 'renew\\_period'\n",
       "\\item 'renew\\_domain\\_revenue'\n",
       "\\item 'renew\\_arpt'\n",
       "\\item 'reg\\_arpt\\_org'\n",
       "\\item 'tld\\_registrar\\_index'\n",
       "\\item 'sld'\n",
       "\\item 'sld\\_type'\n",
       "\\item 'sld\\_length'\n",
       "\\item 'sld\\_type2'\n",
       "\\item 'day\\_domains'\n",
       "\\item 'log\\_reg\\_arpt'\n",
       "\\item 'gibb\\_score'\n",
       "\\item 'pattern'\n",
       "\\item 'cluster'\n",
       "\\item 'pattern\\_score'\n",
       "\\item 'pattern\\_domain\\_count'\n",
       "\\end{enumerate*}\n"
      ],
      "text/markdown": [
       "1. 'renewal_type'\n",
       "2. 'renewed_count'\n",
       "3. 'expiry_date'\n",
       "4. 'domain_id'\n",
       "5. 'domain'\n",
       "6. 'creation_date'\n",
       "7. 'status'\n",
       "8. 'tld'\n",
       "9. 'registrar'\n",
       "10. 'reseller'\n",
       "11. 'reseller_country'\n",
       "12. 'region'\n",
       "13. 'reg_period'\n",
       "14. 'registrant_country'\n",
       "15. 'renewal_status'\n",
       "16. 'renew_mbg'\n",
       "17. 'renew_type'\n",
       "18. 'autorenew_type'\n",
       "19. 'renew_date'\n",
       "20. 'renew_registrar'\n",
       "21. 'renew_reseller'\n",
       "22. 'reg_revenue'\n",
       "23. 'reg_arpt'\n",
       "24. 'renew_period'\n",
       "25. 'renew_domain_revenue'\n",
       "26. 'renew_arpt'\n",
       "27. 'reg_arpt_org'\n",
       "28. 'tld_registrar_index'\n",
       "29. 'sld'\n",
       "30. 'sld_type'\n",
       "31. 'sld_length'\n",
       "32. 'sld_type2'\n",
       "33. 'day_domains'\n",
       "34. 'log_reg_arpt'\n",
       "35. 'gibb_score'\n",
       "36. 'pattern'\n",
       "37. 'cluster'\n",
       "38. 'pattern_score'\n",
       "39. 'pattern_domain_count'\n",
       "\n",
       "\n"
      ],
      "text/plain": [
       " [1] \"renewal_type\"         \"renewed_count\"        \"expiry_date\"         \n",
       " [4] \"domain_id\"            \"domain\"               \"creation_date\"       \n",
       " [7] \"status\"               \"tld\"                  \"registrar\"           \n",
       "[10] \"reseller\"             \"reseller_country\"     \"region\"              \n",
       "[13] \"reg_period\"           \"registrant_country\"   \"renewal_status\"      \n",
       "[16] \"renew_mbg\"            \"renew_type\"           \"autorenew_type\"      \n",
       "[19] \"renew_date\"           \"renew_registrar\"      \"renew_reseller\"      \n",
       "[22] \"reg_revenue\"          \"reg_arpt\"             \"renew_period\"        \n",
       "[25] \"renew_domain_revenue\" \"renew_arpt\"           \"reg_arpt_org\"        \n",
       "[28] \"tld_registrar_index\"  \"sld\"                  \"sld_type\"            \n",
       "[31] \"sld_length\"           \"sld_type2\"            \"day_domains\"         \n",
       "[34] \"log_reg_arpt\"         \"gibb_score\"           \"pattern\"             \n",
       "[37] \"cluster\"              \"pattern_score\"        \"pattern_domain_count\""
      ]
     },
     "metadata": {},
     "output_type": "display_data"
    }
   ],
   "source": [
    "names(expiry_train_df_1)"
   ]
  },
  {
   "cell_type": "code",
   "execution_count": 7,
   "metadata": {},
   "outputs": [
    {
     "data": {
      "text/html": [
       "<table>\n",
       "<caption>A tibble: 1 × 2</caption>\n",
       "<thead>\n",
       "\t<tr><th scope=col>renewed_count</th><th scope=col>n</th></tr>\n",
       "\t<tr><th scope=col>&lt;int&gt;</th><th scope=col>&lt;int&gt;</th></tr>\n",
       "</thead>\n",
       "<tbody>\n",
       "\t<tr><td>1</td><td>1188250</td></tr>\n",
       "</tbody>\n",
       "</table>\n"
      ],
      "text/latex": [
       "A tibble: 1 × 2\n",
       "\\begin{tabular}{ll}\n",
       " renewed\\_count & n\\\\\n",
       " <int> & <int>\\\\\n",
       "\\hline\n",
       "\t 1 & 1188250\\\\\n",
       "\\end{tabular}\n"
      ],
      "text/markdown": [
       "\n",
       "A tibble: 1 × 2\n",
       "\n",
       "| renewed_count &lt;int&gt; | n &lt;int&gt; |\n",
       "|---|---|\n",
       "| 1 | 1188250 |\n",
       "\n"
      ],
      "text/plain": [
       "  renewed_count n      \n",
       "1 1             1188250"
      ]
     },
     "metadata": {},
     "output_type": "display_data"
    }
   ],
   "source": [
    "expiry_train_df_1 %>% group_by(renewed_count) %>% tally()"
   ]
  },
  {
   "cell_type": "markdown",
   "metadata": {},
   "source": [
    "# Last check in before script run 20201028"
   ]
  },
  {
   "cell_type": "code",
   "execution_count": 4,
   "metadata": {},
   "outputs": [],
   "source": [
    "library(dplyr)"
   ]
  },
  {
   "cell_type": "code",
   "execution_count": 27,
   "metadata": {},
   "outputs": [],
   "source": [
    "expiry_df <- readRDS(\"/home/jupyter/local/Domains_202003/data/output/expiry_20190601_20200901\")"
   ]
  },
  {
   "cell_type": "code",
   "execution_count": 28,
   "metadata": {},
   "outputs": [
    {
     "data": {
      "text/html": [
       "<style>\n",
       ".list-inline {list-style: none; margin:0; padding: 0}\n",
       ".list-inline>li {display: inline-block}\n",
       ".list-inline>li:not(:last-child)::after {content: \"\\00b7\"; padding: 0 .5ex}\n",
       "</style>\n",
       "<ol class=list-inline><li>5455386</li><li>28</li></ol>\n"
      ],
      "text/latex": [
       "\\begin{enumerate*}\n",
       "\\item 5455386\n",
       "\\item 28\n",
       "\\end{enumerate*}\n"
      ],
      "text/markdown": [
       "1. 5455386\n",
       "2. 28\n",
       "\n",
       "\n"
      ],
      "text/plain": [
       "[1] 5455386      28"
      ]
     },
     "metadata": {},
     "output_type": "display_data"
    },
    {
     "data": {
      "text/html": [
       "<table>\n",
       "<caption>A tibble: 1 × 2</caption>\n",
       "<thead>\n",
       "\t<tr><th scope=col>max(expiry_date)</th><th scope=col>min(expiry_date)</th></tr>\n",
       "\t<tr><th scope=col>&lt;date&gt;</th><th scope=col>&lt;date&gt;</th></tr>\n",
       "</thead>\n",
       "<tbody>\n",
       "\t<tr><td>2020-09-01</td><td>2019-06-01</td></tr>\n",
       "</tbody>\n",
       "</table>\n"
      ],
      "text/latex": [
       "A tibble: 1 × 2\n",
       "\\begin{tabular}{ll}\n",
       " max(expiry\\_date) & min(expiry\\_date)\\\\\n",
       " <date> & <date>\\\\\n",
       "\\hline\n",
       "\t 2020-09-01 & 2019-06-01\\\\\n",
       "\\end{tabular}\n"
      ],
      "text/markdown": [
       "\n",
       "A tibble: 1 × 2\n",
       "\n",
       "| max(expiry_date) &lt;date&gt; | min(expiry_date) &lt;date&gt; |\n",
       "|---|---|\n",
       "| 2020-09-01 | 2019-06-01 |\n",
       "\n"
      ],
      "text/plain": [
       "  max(expiry_date) min(expiry_date)\n",
       "1 2020-09-01       2019-06-01      "
      ]
     },
     "metadata": {},
     "output_type": "display_data"
    }
   ],
   "source": [
    "dim(expiry_df)\n",
    "expiry_df %>% summarise(max(expiry_date), min(expiry_date))"
   ]
  },
  {
   "cell_type": "code",
   "execution_count": 29,
   "metadata": {},
   "outputs": [
    {
     "data": {
      "text/html": [
       "<style>\n",
       ".list-inline {list-style: none; margin:0; padding: 0}\n",
       ".list-inline>li {display: inline-block}\n",
       ".list-inline>li:not(:last-child)::after {content: \"\\00b7\"; padding: 0 .5ex}\n",
       "</style>\n",
       "<ol class=list-inline><li>5455386</li><li>28</li></ol>\n"
      ],
      "text/latex": [
       "\\begin{enumerate*}\n",
       "\\item 5455386\n",
       "\\item 28\n",
       "\\end{enumerate*}\n"
      ],
      "text/markdown": [
       "1. 5455386\n",
       "2. 28\n",
       "\n",
       "\n"
      ],
      "text/plain": [
       "[1] 5455386      28"
      ]
     },
     "metadata": {},
     "output_type": "display_data"
    },
    {
     "data": {
      "text/html": [
       "<table>\n",
       "<caption>A tibble: 1 × 2</caption>\n",
       "<thead>\n",
       "\t<tr><th scope=col>max(expiry_date)</th><th scope=col>min(expiry_date)</th></tr>\n",
       "\t<tr><th scope=col>&lt;date&gt;</th><th scope=col>&lt;date&gt;</th></tr>\n",
       "</thead>\n",
       "<tbody>\n",
       "\t<tr><td>2020-09-01</td><td>2019-06-01</td></tr>\n",
       "</tbody>\n",
       "</table>\n"
      ],
      "text/latex": [
       "A tibble: 1 × 2\n",
       "\\begin{tabular}{ll}\n",
       " max(expiry\\_date) & min(expiry\\_date)\\\\\n",
       " <date> & <date>\\\\\n",
       "\\hline\n",
       "\t 2020-09-01 & 2019-06-01\\\\\n",
       "\\end{tabular}\n"
      ],
      "text/markdown": [
       "\n",
       "A tibble: 1 × 2\n",
       "\n",
       "| max(expiry_date) &lt;date&gt; | min(expiry_date) &lt;date&gt; |\n",
       "|---|---|\n",
       "| 2020-09-01 | 2019-06-01 |\n",
       "\n"
      ],
      "text/plain": [
       "  max(expiry_date) min(expiry_date)\n",
       "1 2020-09-01       2019-06-01      "
      ]
     },
     "metadata": {},
     "output_type": "display_data"
    }
   ],
   "source": [
    "expiry_df <- expiry_df %>% filter(expiry_date >= as.Date(\"2019-06-01\") & expiry_date <= as.Date(\"2020-09-01\"))\n",
    "dim(expiry_df)\n",
    "expiry_df %>% summarise(max(expiry_date), min(expiry_date))"
   ]
  },
  {
   "cell_type": "code",
   "execution_count": 30,
   "metadata": {},
   "outputs": [
    {
     "data": {
      "text/html": [
       "<table>\n",
       "<caption>A tibble: 8 × 2</caption>\n",
       "<thead>\n",
       "\t<tr><th scope=col>renewed_count</th><th scope=col>n</th></tr>\n",
       "\t<tr><th scope=col>&lt;int&gt;</th><th scope=col>&lt;int&gt;</th></tr>\n",
       "</thead>\n",
       "<tbody>\n",
       "\t<tr><td>1</td><td>4688060</td></tr>\n",
       "\t<tr><td>2</td><td> 366856</td></tr>\n",
       "\t<tr><td>3</td><td> 200646</td></tr>\n",
       "\t<tr><td>4</td><td> 137897</td></tr>\n",
       "\t<tr><td>5</td><td>  50449</td></tr>\n",
       "\t<tr><td>6</td><td>   7628</td></tr>\n",
       "\t<tr><td>7</td><td>   3662</td></tr>\n",
       "\t<tr><td>8</td><td>    188</td></tr>\n",
       "</tbody>\n",
       "</table>\n"
      ],
      "text/latex": [
       "A tibble: 8 × 2\n",
       "\\begin{tabular}{ll}\n",
       " renewed\\_count & n\\\\\n",
       " <int> & <int>\\\\\n",
       "\\hline\n",
       "\t 1 & 4688060\\\\\n",
       "\t 2 &  366856\\\\\n",
       "\t 3 &  200646\\\\\n",
       "\t 4 &  137897\\\\\n",
       "\t 5 &   50449\\\\\n",
       "\t 6 &    7628\\\\\n",
       "\t 7 &    3662\\\\\n",
       "\t 8 &     188\\\\\n",
       "\\end{tabular}\n"
      ],
      "text/markdown": [
       "\n",
       "A tibble: 8 × 2\n",
       "\n",
       "| renewed_count &lt;int&gt; | n &lt;int&gt; |\n",
       "|---|---|\n",
       "| 1 | 4688060 |\n",
       "| 2 |  366856 |\n",
       "| 3 |  200646 |\n",
       "| 4 |  137897 |\n",
       "| 5 |   50449 |\n",
       "| 6 |    7628 |\n",
       "| 7 |    3662 |\n",
       "| 8 |     188 |\n",
       "\n"
      ],
      "text/plain": [
       "  renewed_count n      \n",
       "1 1             4688060\n",
       "2 2              366856\n",
       "3 3              200646\n",
       "4 4              137897\n",
       "5 5               50449\n",
       "6 6                7628\n",
       "7 7                3662\n",
       "8 8                 188"
      ]
     },
     "metadata": {},
     "output_type": "display_data"
    }
   ],
   "source": [
    "expiry_df %>% group_by(renewed_count) %>% tally()"
   ]
  },
  {
   "cell_type": "code",
   "execution_count": 31,
   "metadata": {},
   "outputs": [
    {
     "data": {
      "text/html": [
       "<style>\n",
       ".list-inline {list-style: none; margin:0; padding: 0}\n",
       ".list-inline>li {display: inline-block}\n",
       ".list-inline>li:not(:last-child)::after {content: \"\\00b7\"; padding: 0 .5ex}\n",
       "</style>\n",
       "<ol class=list-inline><li>4688060</li><li>28</li></ol>\n"
      ],
      "text/latex": [
       "\\begin{enumerate*}\n",
       "\\item 4688060\n",
       "\\item 28\n",
       "\\end{enumerate*}\n"
      ],
      "text/markdown": [
       "1. 4688060\n",
       "2. 28\n",
       "\n",
       "\n"
      ],
      "text/plain": [
       "[1] 4688060      28"
      ]
     },
     "metadata": {},
     "output_type": "display_data"
    },
    {
     "data": {
      "text/html": [
       "<table>\n",
       "<caption>A tibble: 1 × 2</caption>\n",
       "<thead>\n",
       "\t<tr><th scope=col>max(expiry_date)</th><th scope=col>min(expiry_date)</th></tr>\n",
       "\t<tr><th scope=col>&lt;date&gt;</th><th scope=col>&lt;date&gt;</th></tr>\n",
       "</thead>\n",
       "<tbody>\n",
       "\t<tr><td>2020-09-01</td><td>2019-06-01</td></tr>\n",
       "</tbody>\n",
       "</table>\n"
      ],
      "text/latex": [
       "A tibble: 1 × 2\n",
       "\\begin{tabular}{ll}\n",
       " max(expiry\\_date) & min(expiry\\_date)\\\\\n",
       " <date> & <date>\\\\\n",
       "\\hline\n",
       "\t 2020-09-01 & 2019-06-01\\\\\n",
       "\\end{tabular}\n"
      ],
      "text/markdown": [
       "\n",
       "A tibble: 1 × 2\n",
       "\n",
       "| max(expiry_date) &lt;date&gt; | min(expiry_date) &lt;date&gt; |\n",
       "|---|---|\n",
       "| 2020-09-01 | 2019-06-01 |\n",
       "\n"
      ],
      "text/plain": [
       "  max(expiry_date) min(expiry_date)\n",
       "1 2020-09-01       2019-06-01      "
      ]
     },
     "metadata": {},
     "output_type": "display_data"
    },
    {
     "data": {
      "text/html": [
       "<table>\n",
       "<caption>A tibble: 1 × 2</caption>\n",
       "<thead>\n",
       "\t<tr><th scope=col>renewed_count</th><th scope=col>n</th></tr>\n",
       "\t<tr><th scope=col>&lt;int&gt;</th><th scope=col>&lt;int&gt;</th></tr>\n",
       "</thead>\n",
       "<tbody>\n",
       "\t<tr><td>1</td><td>4688060</td></tr>\n",
       "</tbody>\n",
       "</table>\n"
      ],
      "text/latex": [
       "A tibble: 1 × 2\n",
       "\\begin{tabular}{ll}\n",
       " renewed\\_count & n\\\\\n",
       " <int> & <int>\\\\\n",
       "\\hline\n",
       "\t 1 & 4688060\\\\\n",
       "\\end{tabular}\n"
      ],
      "text/markdown": [
       "\n",
       "A tibble: 1 × 2\n",
       "\n",
       "| renewed_count &lt;int&gt; | n &lt;int&gt; |\n",
       "|---|---|\n",
       "| 1 | 4688060 |\n",
       "\n"
      ],
      "text/plain": [
       "  renewed_count n      \n",
       "1 1             4688060"
      ]
     },
     "metadata": {},
     "output_type": "display_data"
    }
   ],
   "source": [
    "expiry_df <- expiry_df %>% filter(renewed_count==1)\n",
    "dim(expiry_df)\n",
    "expiry_df %>% summarise(max(expiry_date), min(expiry_date))\n",
    "expiry_df %>% group_by(renewed_count) %>% tally()"
   ]
  },
  {
   "cell_type": "code",
   "execution_count": 32,
   "metadata": {},
   "outputs": [
    {
     "data": {
      "text/html": [
       "<table>\n",
       "<caption>A matrix: 28 × 1 of type int</caption>\n",
       "<tbody>\n",
       "\t<tr><th scope=row>renewal_type</th><td>      0</td></tr>\n",
       "\t<tr><th scope=row>renewed_count</th><td>      0</td></tr>\n",
       "\t<tr><th scope=row>expiry_date</th><td>      0</td></tr>\n",
       "\t<tr><th scope=row>creation_date</th><td>      0</td></tr>\n",
       "\t<tr><th scope=row>domain_id</th><td>      0</td></tr>\n",
       "\t<tr><th scope=row>domain</th><td>      0</td></tr>\n",
       "\t<tr><th scope=row>registrar</th><td>      0</td></tr>\n",
       "\t<tr><th scope=row>reseller</th><td>      0</td></tr>\n",
       "\t<tr><th scope=row>reseller_country</th><td>      0</td></tr>\n",
       "\t<tr><th scope=row>registrant_country</th><td>4680297</td></tr>\n",
       "\t<tr><th scope=row>reg_period</th><td>      0</td></tr>\n",
       "\t<tr><th scope=row>reg_revenue</th><td>      0</td></tr>\n",
       "\t<tr><th scope=row>reg_arpt</th><td>      0</td></tr>\n",
       "\t<tr><th scope=row>renew_mbg</th><td>      0</td></tr>\n",
       "\t<tr><th scope=row>renewal_item_id</th><td>      0</td></tr>\n",
       "\t<tr><th scope=row>renew_type</th><td> 138755</td></tr>\n",
       "\t<tr><th scope=row>autorenew_type</th><td> 412170</td></tr>\n",
       "\t<tr><th scope=row>renewal_status</th><td>      0</td></tr>\n",
       "\t<tr><th scope=row>renew_date</th><td> 139091</td></tr>\n",
       "\t<tr><th scope=row>renew_arpt</th><td> 139095</td></tr>\n",
       "\t<tr><th scope=row>gibb_score</th><td>   7748</td></tr>\n",
       "\t<tr><th scope=row>pattern</th><td>   7748</td></tr>\n",
       "\t<tr><th scope=row>pattern_domain_count</th><td>   7748</td></tr>\n",
       "\t<tr><th scope=row>day_domains</th><td>   7748</td></tr>\n",
       "\t<tr><th scope=row>sld_length</th><td>   7748</td></tr>\n",
       "\t<tr><th scope=row>sld_type</th><td>   7748</td></tr>\n",
       "\t<tr><th scope=row>sld_type2</th><td>   7748</td></tr>\n",
       "\t<tr><th scope=row>tld</th><td>      0</td></tr>\n",
       "</tbody>\n",
       "</table>\n"
      ],
      "text/latex": [
       "A matrix: 28 × 1 of type int\n",
       "\\begin{tabular}{r|l}\n",
       "\trenewal\\_type &       0\\\\\n",
       "\trenewed\\_count &       0\\\\\n",
       "\texpiry\\_date &       0\\\\\n",
       "\tcreation\\_date &       0\\\\\n",
       "\tdomain\\_id &       0\\\\\n",
       "\tdomain &       0\\\\\n",
       "\tregistrar &       0\\\\\n",
       "\treseller &       0\\\\\n",
       "\treseller\\_country &       0\\\\\n",
       "\tregistrant\\_country & 4680297\\\\\n",
       "\treg\\_period &       0\\\\\n",
       "\treg\\_revenue &       0\\\\\n",
       "\treg\\_arpt &       0\\\\\n",
       "\trenew\\_mbg &       0\\\\\n",
       "\trenewal\\_item\\_id &       0\\\\\n",
       "\trenew\\_type &  138755\\\\\n",
       "\tautorenew\\_type &  412170\\\\\n",
       "\trenewal\\_status &       0\\\\\n",
       "\trenew\\_date &  139091\\\\\n",
       "\trenew\\_arpt &  139095\\\\\n",
       "\tgibb\\_score &    7748\\\\\n",
       "\tpattern &    7748\\\\\n",
       "\tpattern\\_domain\\_count &    7748\\\\\n",
       "\tday\\_domains &    7748\\\\\n",
       "\tsld\\_length &    7748\\\\\n",
       "\tsld\\_type &    7748\\\\\n",
       "\tsld\\_type2 &    7748\\\\\n",
       "\ttld &       0\\\\\n",
       "\\end{tabular}\n"
      ],
      "text/markdown": [
       "\n",
       "A matrix: 28 × 1 of type int\n",
       "\n",
       "| renewal_type |       0 |\n",
       "| renewed_count |       0 |\n",
       "| expiry_date |       0 |\n",
       "| creation_date |       0 |\n",
       "| domain_id |       0 |\n",
       "| domain |       0 |\n",
       "| registrar |       0 |\n",
       "| reseller |       0 |\n",
       "| reseller_country |       0 |\n",
       "| registrant_country | 4680297 |\n",
       "| reg_period |       0 |\n",
       "| reg_revenue |       0 |\n",
       "| reg_arpt |       0 |\n",
       "| renew_mbg |       0 |\n",
       "| renewal_item_id |       0 |\n",
       "| renew_type |  138755 |\n",
       "| autorenew_type |  412170 |\n",
       "| renewal_status |       0 |\n",
       "| renew_date |  139091 |\n",
       "| renew_arpt |  139095 |\n",
       "| gibb_score |    7748 |\n",
       "| pattern |    7748 |\n",
       "| pattern_domain_count |    7748 |\n",
       "| day_domains |    7748 |\n",
       "| sld_length |    7748 |\n",
       "| sld_type |    7748 |\n",
       "| sld_type2 |    7748 |\n",
       "| tld |       0 |\n",
       "\n"
      ],
      "text/plain": [
       "                     [,1]   \n",
       "renewal_type               0\n",
       "renewed_count              0\n",
       "expiry_date                0\n",
       "creation_date              0\n",
       "domain_id                  0\n",
       "domain                     0\n",
       "registrar                  0\n",
       "reseller                   0\n",
       "reseller_country           0\n",
       "registrant_country   4680297\n",
       "reg_period                 0\n",
       "reg_revenue                0\n",
       "reg_arpt                   0\n",
       "renew_mbg                  0\n",
       "renewal_item_id            0\n",
       "renew_type            138755\n",
       "autorenew_type        412170\n",
       "renewal_status             0\n",
       "renew_date            139091\n",
       "renew_arpt            139095\n",
       "gibb_score              7748\n",
       "pattern                 7748\n",
       "pattern_domain_count    7748\n",
       "day_domains             7748\n",
       "sld_length              7748\n",
       "sld_type                7748\n",
       "sld_type2               7748\n",
       "tld                        0"
      ]
     },
     "metadata": {},
     "output_type": "display_data"
    }
   ],
   "source": [
    "expiry_df %>%\n",
    "  select(everything()) %>% \n",
    "  summarise_all(funs(sum(is.na(.)))) %>% t()"
   ]
  },
  {
   "cell_type": "code",
   "execution_count": 33,
   "metadata": {},
   "outputs": [
    {
     "data": {
      "text/html": [
       "<table>\n",
       "<caption>A tibble: 1 × 1</caption>\n",
       "<thead>\n",
       "\t<tr><th scope=col>max(creation_date)</th></tr>\n",
       "\t<tr><th scope=col>&lt;date&gt;</th></tr>\n",
       "</thead>\n",
       "<tbody>\n",
       "\t<tr><td>2016-12-31</td></tr>\n",
       "</tbody>\n",
       "</table>\n"
      ],
      "text/latex": [
       "A tibble: 1 × 1\n",
       "\\begin{tabular}{l}\n",
       " max(creation\\_date)\\\\\n",
       " <date>\\\\\n",
       "\\hline\n",
       "\t 2016-12-31\\\\\n",
       "\\end{tabular}\n"
      ],
      "text/markdown": [
       "\n",
       "A tibble: 1 × 1\n",
       "\n",
       "| max(creation_date) &lt;date&gt; |\n",
       "|---|\n",
       "| 2016-12-31 |\n",
       "\n"
      ],
      "text/plain": [
       "  max(creation_date)\n",
       "1 2016-12-31        "
      ]
     },
     "metadata": {},
     "output_type": "display_data"
    }
   ],
   "source": [
    "library(lubridate)\n",
    "expiry_df %>% filter(is.na(gibb_score)) %>% \n",
    "    summarise(max(creation_date))"
   ]
  },
  {
   "cell_type": "code",
   "execution_count": 34,
   "metadata": {},
   "outputs": [
    {
     "data": {
      "text/html": [
       "<style>\n",
       ".list-inline {list-style: none; margin:0; padding: 0}\n",
       ".list-inline>li {display: inline-block}\n",
       ".list-inline>li:not(:last-child)::after {content: \"\\00b7\"; padding: 0 .5ex}\n",
       "</style>\n",
       "<ol class=list-inline><li>'renewal_type'</li><li>'renewed_count'</li><li>'expiry_date'</li><li>'creation_date'</li><li>'domain_id'</li><li>'domain'</li><li>'registrar'</li><li>'reseller'</li><li>'reseller_country'</li><li>'registrant_country'</li><li>'reg_period'</li><li>'reg_revenue'</li><li>'reg_arpt'</li><li>'renew_mbg'</li><li>'renewal_item_id'</li><li>'renew_type'</li><li>'autorenew_type'</li><li>'renewal_status'</li><li>'renew_date'</li><li>'renew_arpt'</li><li>'gibb_score'</li><li>'pattern'</li><li>'pattern_domain_count'</li><li>'day_domains'</li><li>'sld_length'</li><li>'sld_type'</li><li>'sld_type2'</li><li>'tld'</li></ol>\n"
      ],
      "text/latex": [
       "\\begin{enumerate*}\n",
       "\\item 'renewal\\_type'\n",
       "\\item 'renewed\\_count'\n",
       "\\item 'expiry\\_date'\n",
       "\\item 'creation\\_date'\n",
       "\\item 'domain\\_id'\n",
       "\\item 'domain'\n",
       "\\item 'registrar'\n",
       "\\item 'reseller'\n",
       "\\item 'reseller\\_country'\n",
       "\\item 'registrant\\_country'\n",
       "\\item 'reg\\_period'\n",
       "\\item 'reg\\_revenue'\n",
       "\\item 'reg\\_arpt'\n",
       "\\item 'renew\\_mbg'\n",
       "\\item 'renewal\\_item\\_id'\n",
       "\\item 'renew\\_type'\n",
       "\\item 'autorenew\\_type'\n",
       "\\item 'renewal\\_status'\n",
       "\\item 'renew\\_date'\n",
       "\\item 'renew\\_arpt'\n",
       "\\item 'gibb\\_score'\n",
       "\\item 'pattern'\n",
       "\\item 'pattern\\_domain\\_count'\n",
       "\\item 'day\\_domains'\n",
       "\\item 'sld\\_length'\n",
       "\\item 'sld\\_type'\n",
       "\\item 'sld\\_type2'\n",
       "\\item 'tld'\n",
       "\\end{enumerate*}\n"
      ],
      "text/markdown": [
       "1. 'renewal_type'\n",
       "2. 'renewed_count'\n",
       "3. 'expiry_date'\n",
       "4. 'creation_date'\n",
       "5. 'domain_id'\n",
       "6. 'domain'\n",
       "7. 'registrar'\n",
       "8. 'reseller'\n",
       "9. 'reseller_country'\n",
       "10. 'registrant_country'\n",
       "11. 'reg_period'\n",
       "12. 'reg_revenue'\n",
       "13. 'reg_arpt'\n",
       "14. 'renew_mbg'\n",
       "15. 'renewal_item_id'\n",
       "16. 'renew_type'\n",
       "17. 'autorenew_type'\n",
       "18. 'renewal_status'\n",
       "19. 'renew_date'\n",
       "20. 'renew_arpt'\n",
       "21. 'gibb_score'\n",
       "22. 'pattern'\n",
       "23. 'pattern_domain_count'\n",
       "24. 'day_domains'\n",
       "25. 'sld_length'\n",
       "26. 'sld_type'\n",
       "27. 'sld_type2'\n",
       "28. 'tld'\n",
       "\n",
       "\n"
      ],
      "text/plain": [
       " [1] \"renewal_type\"         \"renewed_count\"        \"expiry_date\"         \n",
       " [4] \"creation_date\"        \"domain_id\"            \"domain\"              \n",
       " [7] \"registrar\"            \"reseller\"             \"reseller_country\"    \n",
       "[10] \"registrant_country\"   \"reg_period\"           \"reg_revenue\"         \n",
       "[13] \"reg_arpt\"             \"renew_mbg\"            \"renewal_item_id\"     \n",
       "[16] \"renew_type\"           \"autorenew_type\"       \"renewal_status\"      \n",
       "[19] \"renew_date\"           \"renew_arpt\"           \"gibb_score\"          \n",
       "[22] \"pattern\"              \"pattern_domain_count\" \"day_domains\"         \n",
       "[25] \"sld_length\"           \"sld_type\"             \"sld_type2\"           \n",
       "[28] \"tld\"                 "
      ]
     },
     "metadata": {},
     "output_type": "display_data"
    }
   ],
   "source": [
    "names(expiry_df)"
   ]
  },
  {
   "cell_type": "code",
   "execution_count": 35,
   "metadata": {},
   "outputs": [
    {
     "data": {
      "text/html": [
       "7748"
      ],
      "text/latex": [
       "7748"
      ],
      "text/markdown": [
       "7748"
      ],
      "text/plain": [
       "[1] 7748"
      ]
     },
     "metadata": {},
     "output_type": "display_data"
    }
   ],
   "source": [
    "expiry_df %>% filter(is.na(gibb_score)) %>% tally() %>% pull(n)"
   ]
  },
  {
   "cell_type": "code",
   "execution_count": 36,
   "metadata": {},
   "outputs": [
    {
     "name": "stdout",
     "output_type": "stream",
     "text": [
      "Removed 7748 rows due to missing gibb_score... now dataset min(creation_date) is  2017-01-01 ."
     ]
    },
    {
     "data": {
      "text/html": [
       "<style>\n",
       ".list-inline {list-style: none; margin:0; padding: 0}\n",
       ".list-inline>li {display: inline-block}\n",
       ".list-inline>li:not(:last-child)::after {content: \"\\00b7\"; padding: 0 .5ex}\n",
       "</style>\n",
       "<ol class=list-inline><li>4680312</li><li>28</li></ol>\n"
      ],
      "text/latex": [
       "\\begin{enumerate*}\n",
       "\\item 4680312\n",
       "\\item 28\n",
       "\\end{enumerate*}\n"
      ],
      "text/markdown": [
       "1. 4680312\n",
       "2. 28\n",
       "\n",
       "\n"
      ],
      "text/plain": [
       "[1] 4680312      28"
      ]
     },
     "metadata": {},
     "output_type": "display_data"
    }
   ],
   "source": [
    "library(lubridate)\n",
    "cat(\"Removed\", expiry_df %>% filter(is.na(gibb_score)) %>% tally() %>% pull(n) ,\"rows due to missing gibb_score\")\n",
    "expiry_df <- expiry_df %>% filter(!is.na(gibb_score))\n",
    "cat(\"... now dataset min(creation_date) is \", expiry_df %>% summarise(min(creation_date)) %>% pull(1) %>% as.character(),\".\")\n",
    "dim(expiry_df)"
   ]
  },
  {
   "cell_type": "code",
   "execution_count": 37,
   "metadata": {},
   "outputs": [
    {
     "data": {
      "text/html": [
       "4680312"
      ],
      "text/latex": [
       "4680312"
      ],
      "text/markdown": [
       "4680312"
      ],
      "text/plain": [
       "[1] 4680312"
      ]
     },
     "metadata": {},
     "output_type": "display_data"
    }
   ],
   "source": [
    "4688060-7748"
   ]
  },
  {
   "cell_type": "code",
   "execution_count": 38,
   "metadata": {},
   "outputs": [
    {
     "data": {
      "text/html": [
       "<table>\n",
       "<caption>A matrix: 28 × 1 of type int</caption>\n",
       "<tbody>\n",
       "\t<tr><th scope=row>renewal_type</th><td>      0</td></tr>\n",
       "\t<tr><th scope=row>renewed_count</th><td>      0</td></tr>\n",
       "\t<tr><th scope=row>expiry_date</th><td>      0</td></tr>\n",
       "\t<tr><th scope=row>creation_date</th><td>      0</td></tr>\n",
       "\t<tr><th scope=row>domain_id</th><td>      0</td></tr>\n",
       "\t<tr><th scope=row>domain</th><td>      0</td></tr>\n",
       "\t<tr><th scope=row>registrar</th><td>      0</td></tr>\n",
       "\t<tr><th scope=row>reseller</th><td>      0</td></tr>\n",
       "\t<tr><th scope=row>reseller_country</th><td>      0</td></tr>\n",
       "\t<tr><th scope=row>registrant_country</th><td>4680294</td></tr>\n",
       "\t<tr><th scope=row>reg_period</th><td>      0</td></tr>\n",
       "\t<tr><th scope=row>reg_revenue</th><td>      0</td></tr>\n",
       "\t<tr><th scope=row>reg_arpt</th><td>      0</td></tr>\n",
       "\t<tr><th scope=row>renew_mbg</th><td>      0</td></tr>\n",
       "\t<tr><th scope=row>renewal_item_id</th><td>      0</td></tr>\n",
       "\t<tr><th scope=row>renew_type</th><td> 138677</td></tr>\n",
       "\t<tr><th scope=row>autorenew_type</th><td> 410817</td></tr>\n",
       "\t<tr><th scope=row>renewal_status</th><td>      0</td></tr>\n",
       "\t<tr><th scope=row>renew_date</th><td> 138677</td></tr>\n",
       "\t<tr><th scope=row>renew_arpt</th><td> 138681</td></tr>\n",
       "\t<tr><th scope=row>gibb_score</th><td>      0</td></tr>\n",
       "\t<tr><th scope=row>pattern</th><td>      0</td></tr>\n",
       "\t<tr><th scope=row>pattern_domain_count</th><td>      0</td></tr>\n",
       "\t<tr><th scope=row>day_domains</th><td>      0</td></tr>\n",
       "\t<tr><th scope=row>sld_length</th><td>      0</td></tr>\n",
       "\t<tr><th scope=row>sld_type</th><td>      0</td></tr>\n",
       "\t<tr><th scope=row>sld_type2</th><td>      0</td></tr>\n",
       "\t<tr><th scope=row>tld</th><td>      0</td></tr>\n",
       "</tbody>\n",
       "</table>\n"
      ],
      "text/latex": [
       "A matrix: 28 × 1 of type int\n",
       "\\begin{tabular}{r|l}\n",
       "\trenewal\\_type &       0\\\\\n",
       "\trenewed\\_count &       0\\\\\n",
       "\texpiry\\_date &       0\\\\\n",
       "\tcreation\\_date &       0\\\\\n",
       "\tdomain\\_id &       0\\\\\n",
       "\tdomain &       0\\\\\n",
       "\tregistrar &       0\\\\\n",
       "\treseller &       0\\\\\n",
       "\treseller\\_country &       0\\\\\n",
       "\tregistrant\\_country & 4680294\\\\\n",
       "\treg\\_period &       0\\\\\n",
       "\treg\\_revenue &       0\\\\\n",
       "\treg\\_arpt &       0\\\\\n",
       "\trenew\\_mbg &       0\\\\\n",
       "\trenewal\\_item\\_id &       0\\\\\n",
       "\trenew\\_type &  138677\\\\\n",
       "\tautorenew\\_type &  410817\\\\\n",
       "\trenewal\\_status &       0\\\\\n",
       "\trenew\\_date &  138677\\\\\n",
       "\trenew\\_arpt &  138681\\\\\n",
       "\tgibb\\_score &       0\\\\\n",
       "\tpattern &       0\\\\\n",
       "\tpattern\\_domain\\_count &       0\\\\\n",
       "\tday\\_domains &       0\\\\\n",
       "\tsld\\_length &       0\\\\\n",
       "\tsld\\_type &       0\\\\\n",
       "\tsld\\_type2 &       0\\\\\n",
       "\ttld &       0\\\\\n",
       "\\end{tabular}\n"
      ],
      "text/markdown": [
       "\n",
       "A matrix: 28 × 1 of type int\n",
       "\n",
       "| renewal_type |       0 |\n",
       "| renewed_count |       0 |\n",
       "| expiry_date |       0 |\n",
       "| creation_date |       0 |\n",
       "| domain_id |       0 |\n",
       "| domain |       0 |\n",
       "| registrar |       0 |\n",
       "| reseller |       0 |\n",
       "| reseller_country |       0 |\n",
       "| registrant_country | 4680294 |\n",
       "| reg_period |       0 |\n",
       "| reg_revenue |       0 |\n",
       "| reg_arpt |       0 |\n",
       "| renew_mbg |       0 |\n",
       "| renewal_item_id |       0 |\n",
       "| renew_type |  138677 |\n",
       "| autorenew_type |  410817 |\n",
       "| renewal_status |       0 |\n",
       "| renew_date |  138677 |\n",
       "| renew_arpt |  138681 |\n",
       "| gibb_score |       0 |\n",
       "| pattern |       0 |\n",
       "| pattern_domain_count |       0 |\n",
       "| day_domains |       0 |\n",
       "| sld_length |       0 |\n",
       "| sld_type |       0 |\n",
       "| sld_type2 |       0 |\n",
       "| tld |       0 |\n",
       "\n"
      ],
      "text/plain": [
       "                     [,1]   \n",
       "renewal_type               0\n",
       "renewed_count              0\n",
       "expiry_date                0\n",
       "creation_date              0\n",
       "domain_id                  0\n",
       "domain                     0\n",
       "registrar                  0\n",
       "reseller                   0\n",
       "reseller_country           0\n",
       "registrant_country   4680294\n",
       "reg_period                 0\n",
       "reg_revenue                0\n",
       "reg_arpt                   0\n",
       "renew_mbg                  0\n",
       "renewal_item_id            0\n",
       "renew_type            138677\n",
       "autorenew_type        410817\n",
       "renewal_status             0\n",
       "renew_date            138677\n",
       "renew_arpt            138681\n",
       "gibb_score                 0\n",
       "pattern                    0\n",
       "pattern_domain_count       0\n",
       "day_domains                0\n",
       "sld_length                 0\n",
       "sld_type                   0\n",
       "sld_type2                  0\n",
       "tld                        0"
      ]
     },
     "metadata": {},
     "output_type": "display_data"
    }
   ],
   "source": [
    "expiry_df %>%\n",
    "  select(everything()) %>% \n",
    "  summarise_all(funs(sum(is.na(.)))) %>% t()"
   ]
  },
  {
   "cell_type": "code",
   "execution_count": 39,
   "metadata": {},
   "outputs": [],
   "source": [
    "expiry_df <- expiry_df %>% mutate (reg_arpt = ifelse(reg_arpt <= 0, 0.0001,reg_arpt),\n",
    "                                   log_reg_arpt = log(reg_arpt),\n",
    "                                   tld_registrar_index = tolower(paste(tld, reseller,sep=\"\")))"
   ]
  },
  {
   "cell_type": "code",
   "execution_count": 40,
   "metadata": {},
   "outputs": [
    {
     "data": {
      "text/html": [
       "<table>\n",
       "<caption>A matrix: 30 × 1 of type int</caption>\n",
       "<tbody>\n",
       "\t<tr><th scope=row>renewal_type</th><td>      0</td></tr>\n",
       "\t<tr><th scope=row>renewed_count</th><td>      0</td></tr>\n",
       "\t<tr><th scope=row>expiry_date</th><td>      0</td></tr>\n",
       "\t<tr><th scope=row>creation_date</th><td>      0</td></tr>\n",
       "\t<tr><th scope=row>domain_id</th><td>      0</td></tr>\n",
       "\t<tr><th scope=row>domain</th><td>      0</td></tr>\n",
       "\t<tr><th scope=row>registrar</th><td>      0</td></tr>\n",
       "\t<tr><th scope=row>reseller</th><td>      0</td></tr>\n",
       "\t<tr><th scope=row>reseller_country</th><td>      0</td></tr>\n",
       "\t<tr><th scope=row>registrant_country</th><td>4680294</td></tr>\n",
       "\t<tr><th scope=row>reg_period</th><td>      0</td></tr>\n",
       "\t<tr><th scope=row>reg_revenue</th><td>      0</td></tr>\n",
       "\t<tr><th scope=row>reg_arpt</th><td>      0</td></tr>\n",
       "\t<tr><th scope=row>renew_mbg</th><td>      0</td></tr>\n",
       "\t<tr><th scope=row>renewal_item_id</th><td>      0</td></tr>\n",
       "\t<tr><th scope=row>renew_type</th><td> 138677</td></tr>\n",
       "\t<tr><th scope=row>autorenew_type</th><td> 410817</td></tr>\n",
       "\t<tr><th scope=row>renewal_status</th><td>      0</td></tr>\n",
       "\t<tr><th scope=row>renew_date</th><td> 138677</td></tr>\n",
       "\t<tr><th scope=row>renew_arpt</th><td> 138681</td></tr>\n",
       "\t<tr><th scope=row>gibb_score</th><td>      0</td></tr>\n",
       "\t<tr><th scope=row>pattern</th><td>      0</td></tr>\n",
       "\t<tr><th scope=row>pattern_domain_count</th><td>      0</td></tr>\n",
       "\t<tr><th scope=row>day_domains</th><td>      0</td></tr>\n",
       "\t<tr><th scope=row>sld_length</th><td>      0</td></tr>\n",
       "\t<tr><th scope=row>sld_type</th><td>      0</td></tr>\n",
       "\t<tr><th scope=row>sld_type2</th><td>      0</td></tr>\n",
       "\t<tr><th scope=row>tld</th><td>      0</td></tr>\n",
       "\t<tr><th scope=row>log_reg_arpt</th><td>      0</td></tr>\n",
       "\t<tr><th scope=row>tld_registrar_index</th><td>      0</td></tr>\n",
       "</tbody>\n",
       "</table>\n"
      ],
      "text/latex": [
       "A matrix: 30 × 1 of type int\n",
       "\\begin{tabular}{r|l}\n",
       "\trenewal\\_type &       0\\\\\n",
       "\trenewed\\_count &       0\\\\\n",
       "\texpiry\\_date &       0\\\\\n",
       "\tcreation\\_date &       0\\\\\n",
       "\tdomain\\_id &       0\\\\\n",
       "\tdomain &       0\\\\\n",
       "\tregistrar &       0\\\\\n",
       "\treseller &       0\\\\\n",
       "\treseller\\_country &       0\\\\\n",
       "\tregistrant\\_country & 4680294\\\\\n",
       "\treg\\_period &       0\\\\\n",
       "\treg\\_revenue &       0\\\\\n",
       "\treg\\_arpt &       0\\\\\n",
       "\trenew\\_mbg &       0\\\\\n",
       "\trenewal\\_item\\_id &       0\\\\\n",
       "\trenew\\_type &  138677\\\\\n",
       "\tautorenew\\_type &  410817\\\\\n",
       "\trenewal\\_status &       0\\\\\n",
       "\trenew\\_date &  138677\\\\\n",
       "\trenew\\_arpt &  138681\\\\\n",
       "\tgibb\\_score &       0\\\\\n",
       "\tpattern &       0\\\\\n",
       "\tpattern\\_domain\\_count &       0\\\\\n",
       "\tday\\_domains &       0\\\\\n",
       "\tsld\\_length &       0\\\\\n",
       "\tsld\\_type &       0\\\\\n",
       "\tsld\\_type2 &       0\\\\\n",
       "\ttld &       0\\\\\n",
       "\tlog\\_reg\\_arpt &       0\\\\\n",
       "\ttld\\_registrar\\_index &       0\\\\\n",
       "\\end{tabular}\n"
      ],
      "text/markdown": [
       "\n",
       "A matrix: 30 × 1 of type int\n",
       "\n",
       "| renewal_type |       0 |\n",
       "| renewed_count |       0 |\n",
       "| expiry_date |       0 |\n",
       "| creation_date |       0 |\n",
       "| domain_id |       0 |\n",
       "| domain |       0 |\n",
       "| registrar |       0 |\n",
       "| reseller |       0 |\n",
       "| reseller_country |       0 |\n",
       "| registrant_country | 4680294 |\n",
       "| reg_period |       0 |\n",
       "| reg_revenue |       0 |\n",
       "| reg_arpt |       0 |\n",
       "| renew_mbg |       0 |\n",
       "| renewal_item_id |       0 |\n",
       "| renew_type |  138677 |\n",
       "| autorenew_type |  410817 |\n",
       "| renewal_status |       0 |\n",
       "| renew_date |  138677 |\n",
       "| renew_arpt |  138681 |\n",
       "| gibb_score |       0 |\n",
       "| pattern |       0 |\n",
       "| pattern_domain_count |       0 |\n",
       "| day_domains |       0 |\n",
       "| sld_length |       0 |\n",
       "| sld_type |       0 |\n",
       "| sld_type2 |       0 |\n",
       "| tld |       0 |\n",
       "| log_reg_arpt |       0 |\n",
       "| tld_registrar_index |       0 |\n",
       "\n"
      ],
      "text/plain": [
       "                     [,1]   \n",
       "renewal_type               0\n",
       "renewed_count              0\n",
       "expiry_date                0\n",
       "creation_date              0\n",
       "domain_id                  0\n",
       "domain                     0\n",
       "registrar                  0\n",
       "reseller                   0\n",
       "reseller_country           0\n",
       "registrant_country   4680294\n",
       "reg_period                 0\n",
       "reg_revenue                0\n",
       "reg_arpt                   0\n",
       "renew_mbg                  0\n",
       "renewal_item_id            0\n",
       "renew_type            138677\n",
       "autorenew_type        410817\n",
       "renewal_status             0\n",
       "renew_date            138677\n",
       "renew_arpt            138681\n",
       "gibb_score                 0\n",
       "pattern                    0\n",
       "pattern_domain_count       0\n",
       "day_domains                0\n",
       "sld_length                 0\n",
       "sld_type                   0\n",
       "sld_type2                  0\n",
       "tld                        0\n",
       "log_reg_arpt               0\n",
       "tld_registrar_index        0"
      ]
     },
     "metadata": {},
     "output_type": "display_data"
    }
   ],
   "source": [
    "expiry_df %>%\n",
    "  select(everything()) %>% \n",
    "  summarise_all(funs(sum(is.na(.)))) %>% t()"
   ]
  },
  {
   "cell_type": "code",
   "execution_count": 41,
   "metadata": {},
   "outputs": [
    {
     "data": {
      "text/html": [],
      "text/latex": [],
      "text/markdown": [],
      "text/plain": [
       "numeric(0)"
      ]
     },
     "metadata": {},
     "output_type": "display_data"
    }
   ],
   "source": [
    "expiry_df %>% filter(is.na(reg_arpt)) %>% pull(log_reg_arpt)"
   ]
  },
  {
   "cell_type": "code",
   "execution_count": 45,
   "metadata": {},
   "outputs": [
    {
     "name": "stdout",
     "output_type": "stream",
     "text": [
      "hi, bye,"
     ]
    }
   ],
   "source": [
    "cat(paste0(c(\"hi\",\"bye\"), sep=\",\"))"
   ]
  },
  {
   "cell_type": "markdown",
   "metadata": {},
   "source": [
    "# QA script fails"
   ]
  },
  {
   "cell_type": "markdown",
   "metadata": {},
   "source": [
    "## check: predictions for model_agg_glm_ALL != model_agg_glm for a given tld_registrar"
   ]
  },
  {
   "cell_type": "code",
   "execution_count": 175,
   "metadata": {},
   "outputs": [],
   "source": [
    "fullDir <- '/home/jupyter/local/Domains_202003/data/output/models_20201028'\n",
    "preds <- read.csv(file.path(fullDir,'preds.csv'))"
   ]
  },
  {
   "cell_type": "code",
   "execution_count": 176,
   "metadata": {},
   "outputs": [
    {
     "data": {
      "text/html": [
       "<table>\n",
       "<caption>A data.frame: 6 × 38</caption>\n",
       "<thead>\n",
       "\t<tr><th></th><th scope=col>renewal_type</th><th scope=col>renewed_count</th><th scope=col>expiry_date</th><th scope=col>creation_date</th><th scope=col>domain_id</th><th scope=col>domain</th><th scope=col>registrar</th><th scope=col>reseller</th><th scope=col>reseller_country</th><th scope=col>registrant_country</th><th scope=col>reg_period</th><th scope=col>reg_revenue</th><th scope=col>reg_arpt</th><th scope=col>renew_mbg</th><th scope=col>renewal_item_id</th><th scope=col>renew_type</th><th scope=col>autorenew_type</th><th scope=col>renewal_status</th><th scope=col>renew_date</th><th scope=col>renew_arpt</th><th scope=col>gibb_score</th><th scope=col>pattern</th><th scope=col>pattern_domain_count</th><th scope=col>day_domains</th><th scope=col>sld_length</th><th scope=col>sld_type</th><th scope=col>sld_type2</th><th scope=col>tld</th><th scope=col>log_reg_arpt</th><th scope=col>tld_registrar_index</th><th scope=col>pred_agg_glm_ALL</th><th scope=col>pred_agg_rf_ALL</th><th scope=col>pred_agg_glm</th><th scope=col>pred_agg_rf</th><th scope=col>pred_seg_glm_ALL</th><th scope=col>pred_seg_rf_ALL</th><th scope=col>pred_seg2_glm_ALL</th><th scope=col>pred_seg2_rf_ALL</th></tr>\n",
       "\t<tr><th></th><th scope=col>&lt;fct&gt;</th><th scope=col>&lt;int&gt;</th><th scope=col>&lt;fct&gt;</th><th scope=col>&lt;fct&gt;</th><th scope=col>&lt;int&gt;</th><th scope=col>&lt;fct&gt;</th><th scope=col>&lt;fct&gt;</th><th scope=col>&lt;fct&gt;</th><th scope=col>&lt;fct&gt;</th><th scope=col>&lt;fct&gt;</th><th scope=col>&lt;int&gt;</th><th scope=col>&lt;dbl&gt;</th><th scope=col>&lt;dbl&gt;</th><th scope=col>&lt;int&gt;</th><th scope=col>&lt;int&gt;</th><th scope=col>&lt;fct&gt;</th><th scope=col>&lt;fct&gt;</th><th scope=col>&lt;fct&gt;</th><th scope=col>&lt;fct&gt;</th><th scope=col>&lt;dbl&gt;</th><th scope=col>&lt;dbl&gt;</th><th scope=col>&lt;fct&gt;</th><th scope=col>&lt;int&gt;</th><th scope=col>&lt;int&gt;</th><th scope=col>&lt;int&gt;</th><th scope=col>&lt;fct&gt;</th><th scope=col>&lt;fct&gt;</th><th scope=col>&lt;fct&gt;</th><th scope=col>&lt;dbl&gt;</th><th scope=col>&lt;fct&gt;</th><th scope=col>&lt;dbl&gt;</th><th scope=col>&lt;dbl&gt;</th><th scope=col>&lt;dbl&gt;</th><th scope=col>&lt;dbl&gt;</th><th scope=col>&lt;dbl&gt;</th><th scope=col>&lt;dbl&gt;</th><th scope=col>&lt;dbl&gt;</th><th scope=col>&lt;dbl&gt;</th></tr>\n",
       "</thead>\n",
       "<tbody>\n",
       "\t<tr><th scope=row>1</th><td>FirstTime</td><td>1</td><td>2020-06-30</td><td>2019-06-30</td><td>110777246</td><td>entai.space     </td><td>OVH</td><td>OVH</td><td>France</td><td>NA</td><td>1</td><td>0.5</td><td>0.5</td><td>0</td><td>326051494</td><td>auto-renewal</td><td>unrealized</td><td>Not Renewd</td><td>2020-06-30</td><td>15</td><td>6.29</td><td>entai     </td><td>1</td><td> 3</td><td> 5</td><td>l</td><td>5l </td><td>space</td><td>-0.6931472</td><td>spaceovh</td><td>0.382</td><td>0.27858307</td><td>0.382</td><td>0.27858307</td><td>0.386</td><td>0.28259150</td><td>0.4064797</td><td>0.29621531</td></tr>\n",
       "\t<tr><th scope=row>2</th><td>FirstTime</td><td>1</td><td>2020-05-13</td><td>2019-05-13</td><td>103425809</td><td>bxpgdkx.space   </td><td>OVH</td><td>OVH</td><td>France</td><td>NA</td><td>1</td><td>0.5</td><td>0.5</td><td>0</td><td>314864189</td><td>auto-renewal</td><td>unrealized</td><td>Not Renewd</td><td>2020-05-13</td><td>15</td><td>0.11</td><td>bxpgdkx   </td><td>1</td><td>33</td><td> 7</td><td>l</td><td>7l </td><td>space</td><td>-0.6931472</td><td>spaceovh</td><td>0.238</td><td>0.04722732</td><td>0.238</td><td>0.04722732</td><td>0.266</td><td>0.03662617</td><td>0.1304821</td><td>0.04210570</td></tr>\n",
       "\t<tr><th scope=row>3</th><td>FirstTime</td><td>1</td><td>2020-05-13</td><td>2019-05-13</td><td>103426079</td><td>pirzkla.space   </td><td>OVH</td><td>OVH</td><td>France</td><td>NA</td><td>1</td><td>0.5</td><td>0.5</td><td>0</td><td>314864309</td><td>auto-renewal</td><td>unrealized</td><td>Not Renewd</td><td>2020-05-13</td><td>15</td><td>1.32</td><td>pirzkla   </td><td>1</td><td>33</td><td> 7</td><td>l</td><td>7l </td><td>space</td><td>-0.6931472</td><td>spaceovh</td><td>0.241</td><td>0.04389334</td><td>0.241</td><td>0.04389334</td><td>0.270</td><td>0.05025404</td><td>0.1334309</td><td>0.04561117</td></tr>\n",
       "\t<tr><th scope=row>4</th><td>FirstTime</td><td>1</td><td>2020-05-13</td><td>2019-05-13</td><td>103450484</td><td>maboutique.space</td><td>OVH</td><td>OVH</td><td>France</td><td>NA</td><td>1</td><td>0.5</td><td>0.5</td><td>0</td><td>314864449</td><td>auto-renewal</td><td>unrealized</td><td>Not Renewd</td><td>2020-05-13</td><td>15</td><td>5.81</td><td>maboutique</td><td>1</td><td>33</td><td>10</td><td>l</td><td>10l</td><td>space</td><td>-0.6931472</td><td>spaceovh</td><td>0.251</td><td>0.22431104</td><td>0.251</td><td>0.22431104</td><td>0.288</td><td>0.23679877</td><td>0.1479498</td><td>0.22100320</td></tr>\n",
       "\t<tr><th scope=row>5</th><td>FirstTime</td><td>1</td><td>2020-05-13</td><td>2019-05-13</td><td>103406354</td><td>bassguitar.space</td><td>OVH</td><td>OVH</td><td>France</td><td>NA</td><td>1</td><td>0.5</td><td>0.5</td><td>0</td><td>314864074</td><td>auto-renewal</td><td>unrealized</td><td>Not Renewd</td><td>2020-05-13</td><td>15</td><td>3.43</td><td>bassguitar</td><td>1</td><td>33</td><td>10</td><td>l</td><td>10l</td><td>space</td><td>-0.6931472</td><td>spaceovh</td><td>0.245</td><td>0.21018523</td><td>0.245</td><td>0.21018523</td><td>0.281</td><td>0.20246193</td><td>0.1416794</td><td>0.20269325</td></tr>\n",
       "\t<tr><th scope=row>6</th><td>FirstTime</td><td>1</td><td>2020-07-03</td><td>2019-07-03</td><td>111402996</td><td>flunkerei.space </td><td>OVH</td><td>OVH</td><td>France</td><td>NA</td><td>1</td><td>0.5</td><td>0.5</td><td>0</td><td>312912559</td><td>renewal     </td><td>NA        </td><td>Renewed   </td><td>2020-05-04</td><td>15</td><td>5.20</td><td>flunkerei </td><td>1</td><td> 8</td><td> 9</td><td>l</td><td>9l </td><td>space</td><td>-0.6931472</td><td>spaceovh</td><td>0.354</td><td>0.42977486</td><td>0.354</td><td>0.42977486</td><td>0.371</td><td>0.43582715</td><td>0.3537241</td><td>0.41850528</td></tr>\n",
       "</tbody>\n",
       "</table>\n"
      ],
      "text/latex": [
       "A data.frame: 6 × 38\n",
       "\\begin{tabular}{r|llllllllllllllllllllllllllllllllllllll}\n",
       "  & renewal\\_type & renewed\\_count & expiry\\_date & creation\\_date & domain\\_id & domain & registrar & reseller & reseller\\_country & registrant\\_country & reg\\_period & reg\\_revenue & reg\\_arpt & renew\\_mbg & renewal\\_item\\_id & renew\\_type & autorenew\\_type & renewal\\_status & renew\\_date & renew\\_arpt & gibb\\_score & pattern & pattern\\_domain\\_count & day\\_domains & sld\\_length & sld\\_type & sld\\_type2 & tld & log\\_reg\\_arpt & tld\\_registrar\\_index & pred\\_agg\\_glm\\_ALL & pred\\_agg\\_rf\\_ALL & pred\\_agg\\_glm & pred\\_agg\\_rf & pred\\_seg\\_glm\\_ALL & pred\\_seg\\_rf\\_ALL & pred\\_seg2\\_glm\\_ALL & pred\\_seg2\\_rf\\_ALL\\\\\n",
       "  & <fct> & <int> & <fct> & <fct> & <int> & <fct> & <fct> & <fct> & <fct> & <fct> & <int> & <dbl> & <dbl> & <int> & <int> & <fct> & <fct> & <fct> & <fct> & <dbl> & <dbl> & <fct> & <int> & <int> & <int> & <fct> & <fct> & <fct> & <dbl> & <fct> & <dbl> & <dbl> & <dbl> & <dbl> & <dbl> & <dbl> & <dbl> & <dbl>\\\\\n",
       "\\hline\n",
       "\t1 & FirstTime & 1 & 2020-06-30 & 2019-06-30 & 110777246 & entai.space      & OVH & OVH & France & NA & 1 & 0.5 & 0.5 & 0 & 326051494 & auto-renewal & unrealized & Not Renewd & 2020-06-30 & 15 & 6.29 & entai      & 1 &  3 &  5 & l & 5l  & space & -0.6931472 & spaceovh & 0.382 & 0.27858307 & 0.382 & 0.27858307 & 0.386 & 0.28259150 & 0.4064797 & 0.29621531\\\\\n",
       "\t2 & FirstTime & 1 & 2020-05-13 & 2019-05-13 & 103425809 & bxpgdkx.space    & OVH & OVH & France & NA & 1 & 0.5 & 0.5 & 0 & 314864189 & auto-renewal & unrealized & Not Renewd & 2020-05-13 & 15 & 0.11 & bxpgdkx    & 1 & 33 &  7 & l & 7l  & space & -0.6931472 & spaceovh & 0.238 & 0.04722732 & 0.238 & 0.04722732 & 0.266 & 0.03662617 & 0.1304821 & 0.04210570\\\\\n",
       "\t3 & FirstTime & 1 & 2020-05-13 & 2019-05-13 & 103426079 & pirzkla.space    & OVH & OVH & France & NA & 1 & 0.5 & 0.5 & 0 & 314864309 & auto-renewal & unrealized & Not Renewd & 2020-05-13 & 15 & 1.32 & pirzkla    & 1 & 33 &  7 & l & 7l  & space & -0.6931472 & spaceovh & 0.241 & 0.04389334 & 0.241 & 0.04389334 & 0.270 & 0.05025404 & 0.1334309 & 0.04561117\\\\\n",
       "\t4 & FirstTime & 1 & 2020-05-13 & 2019-05-13 & 103450484 & maboutique.space & OVH & OVH & France & NA & 1 & 0.5 & 0.5 & 0 & 314864449 & auto-renewal & unrealized & Not Renewd & 2020-05-13 & 15 & 5.81 & maboutique & 1 & 33 & 10 & l & 10l & space & -0.6931472 & spaceovh & 0.251 & 0.22431104 & 0.251 & 0.22431104 & 0.288 & 0.23679877 & 0.1479498 & 0.22100320\\\\\n",
       "\t5 & FirstTime & 1 & 2020-05-13 & 2019-05-13 & 103406354 & bassguitar.space & OVH & OVH & France & NA & 1 & 0.5 & 0.5 & 0 & 314864074 & auto-renewal & unrealized & Not Renewd & 2020-05-13 & 15 & 3.43 & bassguitar & 1 & 33 & 10 & l & 10l & space & -0.6931472 & spaceovh & 0.245 & 0.21018523 & 0.245 & 0.21018523 & 0.281 & 0.20246193 & 0.1416794 & 0.20269325\\\\\n",
       "\t6 & FirstTime & 1 & 2020-07-03 & 2019-07-03 & 111402996 & flunkerei.space  & OVH & OVH & France & NA & 1 & 0.5 & 0.5 & 0 & 312912559 & renewal      & NA         & Renewed    & 2020-05-04 & 15 & 5.20 & flunkerei  & 1 &  8 &  9 & l & 9l  & space & -0.6931472 & spaceovh & 0.354 & 0.42977486 & 0.354 & 0.42977486 & 0.371 & 0.43582715 & 0.3537241 & 0.41850528\\\\\n",
       "\\end{tabular}\n"
      ],
      "text/markdown": [
       "\n",
       "A data.frame: 6 × 38\n",
       "\n",
       "| <!--/--> | renewal_type &lt;fct&gt; | renewed_count &lt;int&gt; | expiry_date &lt;fct&gt; | creation_date &lt;fct&gt; | domain_id &lt;int&gt; | domain &lt;fct&gt; | registrar &lt;fct&gt; | reseller &lt;fct&gt; | reseller_country &lt;fct&gt; | registrant_country &lt;fct&gt; | reg_period &lt;int&gt; | reg_revenue &lt;dbl&gt; | reg_arpt &lt;dbl&gt; | renew_mbg &lt;int&gt; | renewal_item_id &lt;int&gt; | renew_type &lt;fct&gt; | autorenew_type &lt;fct&gt; | renewal_status &lt;fct&gt; | renew_date &lt;fct&gt; | renew_arpt &lt;dbl&gt; | gibb_score &lt;dbl&gt; | pattern &lt;fct&gt; | pattern_domain_count &lt;int&gt; | day_domains &lt;int&gt; | sld_length &lt;int&gt; | sld_type &lt;fct&gt; | sld_type2 &lt;fct&gt; | tld &lt;fct&gt; | log_reg_arpt &lt;dbl&gt; | tld_registrar_index &lt;fct&gt; | pred_agg_glm_ALL &lt;dbl&gt; | pred_agg_rf_ALL &lt;dbl&gt; | pred_agg_glm &lt;dbl&gt; | pred_agg_rf &lt;dbl&gt; | pred_seg_glm_ALL &lt;dbl&gt; | pred_seg_rf_ALL &lt;dbl&gt; | pred_seg2_glm_ALL &lt;dbl&gt; | pred_seg2_rf_ALL &lt;dbl&gt; |\n",
       "|---|---|---|---|---|---|---|---|---|---|---|---|---|---|---|---|---|---|---|---|---|---|---|---|---|---|---|---|---|---|---|---|---|---|---|---|---|---|---|\n",
       "| 1 | FirstTime | 1 | 2020-06-30 | 2019-06-30 | 110777246 | entai.space      | OVH | OVH | France | NA | 1 | 0.5 | 0.5 | 0 | 326051494 | auto-renewal | unrealized | Not Renewd | 2020-06-30 | 15 | 6.29 | entai      | 1 |  3 |  5 | l | 5l  | space | -0.6931472 | spaceovh | 0.382 | 0.27858307 | 0.382 | 0.27858307 | 0.386 | 0.28259150 | 0.4064797 | 0.29621531 |\n",
       "| 2 | FirstTime | 1 | 2020-05-13 | 2019-05-13 | 103425809 | bxpgdkx.space    | OVH | OVH | France | NA | 1 | 0.5 | 0.5 | 0 | 314864189 | auto-renewal | unrealized | Not Renewd | 2020-05-13 | 15 | 0.11 | bxpgdkx    | 1 | 33 |  7 | l | 7l  | space | -0.6931472 | spaceovh | 0.238 | 0.04722732 | 0.238 | 0.04722732 | 0.266 | 0.03662617 | 0.1304821 | 0.04210570 |\n",
       "| 3 | FirstTime | 1 | 2020-05-13 | 2019-05-13 | 103426079 | pirzkla.space    | OVH | OVH | France | NA | 1 | 0.5 | 0.5 | 0 | 314864309 | auto-renewal | unrealized | Not Renewd | 2020-05-13 | 15 | 1.32 | pirzkla    | 1 | 33 |  7 | l | 7l  | space | -0.6931472 | spaceovh | 0.241 | 0.04389334 | 0.241 | 0.04389334 | 0.270 | 0.05025404 | 0.1334309 | 0.04561117 |\n",
       "| 4 | FirstTime | 1 | 2020-05-13 | 2019-05-13 | 103450484 | maboutique.space | OVH | OVH | France | NA | 1 | 0.5 | 0.5 | 0 | 314864449 | auto-renewal | unrealized | Not Renewd | 2020-05-13 | 15 | 5.81 | maboutique | 1 | 33 | 10 | l | 10l | space | -0.6931472 | spaceovh | 0.251 | 0.22431104 | 0.251 | 0.22431104 | 0.288 | 0.23679877 | 0.1479498 | 0.22100320 |\n",
       "| 5 | FirstTime | 1 | 2020-05-13 | 2019-05-13 | 103406354 | bassguitar.space | OVH | OVH | France | NA | 1 | 0.5 | 0.5 | 0 | 314864074 | auto-renewal | unrealized | Not Renewd | 2020-05-13 | 15 | 3.43 | bassguitar | 1 | 33 | 10 | l | 10l | space | -0.6931472 | spaceovh | 0.245 | 0.21018523 | 0.245 | 0.21018523 | 0.281 | 0.20246193 | 0.1416794 | 0.20269325 |\n",
       "| 6 | FirstTime | 1 | 2020-07-03 | 2019-07-03 | 111402996 | flunkerei.space  | OVH | OVH | France | NA | 1 | 0.5 | 0.5 | 0 | 312912559 | renewal      | NA         | Renewed    | 2020-05-04 | 15 | 5.20 | flunkerei  | 1 |  8 |  9 | l | 9l  | space | -0.6931472 | spaceovh | 0.354 | 0.42977486 | 0.354 | 0.42977486 | 0.371 | 0.43582715 | 0.3537241 | 0.41850528 |\n",
       "\n"
      ],
      "text/plain": [
       "  renewal_type renewed_count expiry_date creation_date domain_id\n",
       "1 FirstTime    1             2020-06-30  2019-06-30    110777246\n",
       "2 FirstTime    1             2020-05-13  2019-05-13    103425809\n",
       "3 FirstTime    1             2020-05-13  2019-05-13    103426079\n",
       "4 FirstTime    1             2020-05-13  2019-05-13    103450484\n",
       "5 FirstTime    1             2020-05-13  2019-05-13    103406354\n",
       "6 FirstTime    1             2020-07-03  2019-07-03    111402996\n",
       "  domain           registrar reseller reseller_country registrant_country\n",
       "1 entai.space      OVH       OVH      France           NA                \n",
       "2 bxpgdkx.space    OVH       OVH      France           NA                \n",
       "3 pirzkla.space    OVH       OVH      France           NA                \n",
       "4 maboutique.space OVH       OVH      France           NA                \n",
       "5 bassguitar.space OVH       OVH      France           NA                \n",
       "6 flunkerei.space  OVH       OVH      France           NA                \n",
       "  reg_period reg_revenue reg_arpt renew_mbg renewal_item_id renew_type  \n",
       "1 1          0.5         0.5      0         326051494       auto-renewal\n",
       "2 1          0.5         0.5      0         314864189       auto-renewal\n",
       "3 1          0.5         0.5      0         314864309       auto-renewal\n",
       "4 1          0.5         0.5      0         314864449       auto-renewal\n",
       "5 1          0.5         0.5      0         314864074       auto-renewal\n",
       "6 1          0.5         0.5      0         312912559       renewal     \n",
       "  autorenew_type renewal_status renew_date renew_arpt gibb_score pattern   \n",
       "1 unrealized     Not Renewd     2020-06-30 15         6.29       entai     \n",
       "2 unrealized     Not Renewd     2020-05-13 15         0.11       bxpgdkx   \n",
       "3 unrealized     Not Renewd     2020-05-13 15         1.32       pirzkla   \n",
       "4 unrealized     Not Renewd     2020-05-13 15         5.81       maboutique\n",
       "5 unrealized     Not Renewd     2020-05-13 15         3.43       bassguitar\n",
       "6 NA             Renewed        2020-05-04 15         5.20       flunkerei \n",
       "  pattern_domain_count day_domains sld_length sld_type sld_type2 tld  \n",
       "1 1                     3           5         l        5l        space\n",
       "2 1                    33           7         l        7l        space\n",
       "3 1                    33           7         l        7l        space\n",
       "4 1                    33          10         l        10l       space\n",
       "5 1                    33          10         l        10l       space\n",
       "6 1                     8           9         l        9l        space\n",
       "  log_reg_arpt tld_registrar_index pred_agg_glm_ALL pred_agg_rf_ALL\n",
       "1 -0.6931472   spaceovh            0.382            0.27858307     \n",
       "2 -0.6931472   spaceovh            0.238            0.04722732     \n",
       "3 -0.6931472   spaceovh            0.241            0.04389334     \n",
       "4 -0.6931472   spaceovh            0.251            0.22431104     \n",
       "5 -0.6931472   spaceovh            0.245            0.21018523     \n",
       "6 -0.6931472   spaceovh            0.354            0.42977486     \n",
       "  pred_agg_glm pred_agg_rf pred_seg_glm_ALL pred_seg_rf_ALL pred_seg2_glm_ALL\n",
       "1 0.382        0.27858307  0.386            0.28259150      0.4064797        \n",
       "2 0.238        0.04722732  0.266            0.03662617      0.1304821        \n",
       "3 0.241        0.04389334  0.270            0.05025404      0.1334309        \n",
       "4 0.251        0.22431104  0.288            0.23679877      0.1479498        \n",
       "5 0.245        0.21018523  0.281            0.20246193      0.1416794        \n",
       "6 0.354        0.42977486  0.371            0.43582715      0.3537241        \n",
       "  pred_seg2_rf_ALL\n",
       "1 0.29621531      \n",
       "2 0.04210570      \n",
       "3 0.04561117      \n",
       "4 0.22100320      \n",
       "5 0.20269325      \n",
       "6 0.41850528      "
      ]
     },
     "metadata": {},
     "output_type": "display_data"
    }
   ],
   "source": [
    "head(preds)"
   ]
  },
  {
   "cell_type": "code",
   "execution_count": 177,
   "metadata": {},
   "outputs": [
    {
     "data": {
      "text/html": [
       "<style>\n",
       ".list-inline {list-style: none; margin:0; padding: 0}\n",
       ".list-inline>li {display: inline-block}\n",
       ".list-inline>li:not(:last-child)::after {content: \"\\00b7\"; padding: 0 .5ex}\n",
       "</style>\n",
       "<ol class=list-inline><li>'renewal_type'</li><li>'renewed_count'</li><li>'expiry_date'</li><li>'creation_date'</li><li>'domain_id'</li><li>'domain'</li><li>'registrar'</li><li>'reseller'</li><li>'reseller_country'</li><li>'registrant_country'</li><li>'reg_period'</li><li>'reg_revenue'</li><li>'reg_arpt'</li><li>'renew_mbg'</li><li>'renewal_item_id'</li><li>'renew_type'</li><li>'autorenew_type'</li><li>'renewal_status'</li><li>'renew_date'</li><li>'renew_arpt'</li><li>'gibb_score'</li><li>'pattern'</li><li>'pattern_domain_count'</li><li>'day_domains'</li><li>'sld_length'</li><li>'sld_type'</li><li>'sld_type2'</li><li>'tld'</li><li>'log_reg_arpt'</li><li>'tld_registrar_index'</li><li>'pred_agg_glm_ALL'</li><li>'pred_agg_rf_ALL'</li><li>'pred_agg_glm'</li><li>'pred_agg_rf'</li><li>'pred_seg_glm_ALL'</li><li>'pred_seg_rf_ALL'</li><li>'pred_seg2_glm_ALL'</li><li>'pred_seg2_rf_ALL'</li></ol>\n"
      ],
      "text/latex": [
       "\\begin{enumerate*}\n",
       "\\item 'renewal\\_type'\n",
       "\\item 'renewed\\_count'\n",
       "\\item 'expiry\\_date'\n",
       "\\item 'creation\\_date'\n",
       "\\item 'domain\\_id'\n",
       "\\item 'domain'\n",
       "\\item 'registrar'\n",
       "\\item 'reseller'\n",
       "\\item 'reseller\\_country'\n",
       "\\item 'registrant\\_country'\n",
       "\\item 'reg\\_period'\n",
       "\\item 'reg\\_revenue'\n",
       "\\item 'reg\\_arpt'\n",
       "\\item 'renew\\_mbg'\n",
       "\\item 'renewal\\_item\\_id'\n",
       "\\item 'renew\\_type'\n",
       "\\item 'autorenew\\_type'\n",
       "\\item 'renewal\\_status'\n",
       "\\item 'renew\\_date'\n",
       "\\item 'renew\\_arpt'\n",
       "\\item 'gibb\\_score'\n",
       "\\item 'pattern'\n",
       "\\item 'pattern\\_domain\\_count'\n",
       "\\item 'day\\_domains'\n",
       "\\item 'sld\\_length'\n",
       "\\item 'sld\\_type'\n",
       "\\item 'sld\\_type2'\n",
       "\\item 'tld'\n",
       "\\item 'log\\_reg\\_arpt'\n",
       "\\item 'tld\\_registrar\\_index'\n",
       "\\item 'pred\\_agg\\_glm\\_ALL'\n",
       "\\item 'pred\\_agg\\_rf\\_ALL'\n",
       "\\item 'pred\\_agg\\_glm'\n",
       "\\item 'pred\\_agg\\_rf'\n",
       "\\item 'pred\\_seg\\_glm\\_ALL'\n",
       "\\item 'pred\\_seg\\_rf\\_ALL'\n",
       "\\item 'pred\\_seg2\\_glm\\_ALL'\n",
       "\\item 'pred\\_seg2\\_rf\\_ALL'\n",
       "\\end{enumerate*}\n"
      ],
      "text/markdown": [
       "1. 'renewal_type'\n",
       "2. 'renewed_count'\n",
       "3. 'expiry_date'\n",
       "4. 'creation_date'\n",
       "5. 'domain_id'\n",
       "6. 'domain'\n",
       "7. 'registrar'\n",
       "8. 'reseller'\n",
       "9. 'reseller_country'\n",
       "10. 'registrant_country'\n",
       "11. 'reg_period'\n",
       "12. 'reg_revenue'\n",
       "13. 'reg_arpt'\n",
       "14. 'renew_mbg'\n",
       "15. 'renewal_item_id'\n",
       "16. 'renew_type'\n",
       "17. 'autorenew_type'\n",
       "18. 'renewal_status'\n",
       "19. 'renew_date'\n",
       "20. 'renew_arpt'\n",
       "21. 'gibb_score'\n",
       "22. 'pattern'\n",
       "23. 'pattern_domain_count'\n",
       "24. 'day_domains'\n",
       "25. 'sld_length'\n",
       "26. 'sld_type'\n",
       "27. 'sld_type2'\n",
       "28. 'tld'\n",
       "29. 'log_reg_arpt'\n",
       "30. 'tld_registrar_index'\n",
       "31. 'pred_agg_glm_ALL'\n",
       "32. 'pred_agg_rf_ALL'\n",
       "33. 'pred_agg_glm'\n",
       "34. 'pred_agg_rf'\n",
       "35. 'pred_seg_glm_ALL'\n",
       "36. 'pred_seg_rf_ALL'\n",
       "37. 'pred_seg2_glm_ALL'\n",
       "38. 'pred_seg2_rf_ALL'\n",
       "\n",
       "\n"
      ],
      "text/plain": [
       " [1] \"renewal_type\"         \"renewed_count\"        \"expiry_date\"         \n",
       " [4] \"creation_date\"        \"domain_id\"            \"domain\"              \n",
       " [7] \"registrar\"            \"reseller\"             \"reseller_country\"    \n",
       "[10] \"registrant_country\"   \"reg_period\"           \"reg_revenue\"         \n",
       "[13] \"reg_arpt\"             \"renew_mbg\"            \"renewal_item_id\"     \n",
       "[16] \"renew_type\"           \"autorenew_type\"       \"renewal_status\"      \n",
       "[19] \"renew_date\"           \"renew_arpt\"           \"gibb_score\"          \n",
       "[22] \"pattern\"              \"pattern_domain_count\" \"day_domains\"         \n",
       "[25] \"sld_length\"           \"sld_type\"             \"sld_type2\"           \n",
       "[28] \"tld\"                  \"log_reg_arpt\"         \"tld_registrar_index\" \n",
       "[31] \"pred_agg_glm_ALL\"     \"pred_agg_rf_ALL\"      \"pred_agg_glm\"        \n",
       "[34] \"pred_agg_rf\"          \"pred_seg_glm_ALL\"     \"pred_seg_rf_ALL\"     \n",
       "[37] \"pred_seg2_glm_ALL\"    \"pred_seg2_rf_ALL\"    "
      ]
     },
     "metadata": {},
     "output_type": "display_data"
    }
   ],
   "source": [
    "names(preds)"
   ]
  },
  {
   "cell_type": "code",
   "execution_count": 180,
   "metadata": {},
   "outputs": [
    {
     "data": {
      "text/plain": [
       " preds$pred_agg_rf == preds$pred_agg_rf_ALL\n",
       " Mode:logical                              \n",
       " TRUE:3498                                 \n",
       " NA's:29695                                "
      ]
     },
     "metadata": {},
     "output_type": "display_data"
    }
   ],
   "source": [
    "summary(as.data.frame(preds$pred_agg_rf == preds$pred_agg_rf_ALL ))"
   ]
  },
  {
   "cell_type": "code",
   "execution_count": 181,
   "metadata": {},
   "outputs": [
    {
     "data": {
      "text/plain": [
       " preds$pred_agg_glm == preds$pred_agg_glm_ALL\n",
       " Mode:logical                                \n",
       " TRUE:3498                                   \n",
       " NA's:29695                                  "
      ]
     },
     "metadata": {},
     "output_type": "display_data"
    }
   ],
   "source": [
    "summary(as.data.frame(preds$pred_agg_glm == preds$pred_agg_glm_ALL ))"
   ]
  },
  {
   "cell_type": "code",
   "execution_count": 165,
   "metadata": {},
   "outputs": [
    {
     "name": "stderr",
     "output_type": "stream",
     "text": [
      "Warning message in if (is.na(model) | is.null(test_data)) {:\n",
      "“the condition has length > 1 and only the first element will be used”\n",
      "Warning message in predict.lm(object, newdata, se.fit, scale = 1, type = if (type == :\n",
      "“prediction from a rank-deficient fit may be misleading”\n",
      "Warning message:\n",
      "“Unknown or uninitialised column: `first_renewal_prediction`.”\n",
      "Warning message:\n",
      "“Unknown or uninitialised column: `Status`.”\n"
     ]
    },
    {
     "ename": "ERROR",
     "evalue": "Error: Assigned data `*vtmp*` must be compatible with existing data.\n\u001b[31m✖\u001b[39m Existing data has 503 rows.\n\u001b[31m✖\u001b[39m Assigned data has 0 rows.\n\u001b[34mℹ\u001b[39m Only vectors of size 1 are recycled.\n",
     "output_type": "error",
     "traceback": [
      "Error: Assigned data `*vtmp*` must be compatible with existing data.\n\u001b[31m✖\u001b[39m Existing data has 503 rows.\n\u001b[31m✖\u001b[39m Assigned data has 0 rows.\n\u001b[34mℹ\u001b[39m Only vectors of size 1 are recycled.\nTraceback:\n",
      "1. pblapply(tld_registrar_list, function(i) list_predict_first_renewal(i, \n .     test_data, data_models))",
      "2. lapply(X, FUN, ...)",
      "3. FUN(X[[i]], ...)",
      "4. list_predict_first_renewal(i, test_data, data_models)   # at line 6 of file <text>",
      "5. predict_first_renewal(tld_registrar_data, model)",
      "6. `$<-`(`*tmp*`, \"first_renewal_prediction\", value = numeric(0))",
      "7. `$<-.tbl_df`(`*tmp*`, \"first_renewal_prediction\", value = numeric(0))",
      "8. tbl_subassign(x, i = NULL, as_string(name), list(value), i_arg = NULL, \n .     j_arg = name, value_arg = substitute(value))",
      "9. vectbl_recycle_rhs(value, fast_nrow(x), length(j), i_arg = NULL, \n .     value_arg)",
      "10. withCallingHandlers(for (j in seq_along(value)) {\n  .     if (!is.null(value[[j]])) {\n  .         value[[j]] <- vec_recycle(value[[j]], nrow)\n  .     }\n  . }, vctrs_error_recycle_incompatible_size = function(cnd) {\n  .     cnd_signal(error_assign_incompatible_size(nrow, value, j, \n  .         i_arg, value_arg))\n  . })",
      "11. vec_recycle(value[[j]], nrow)",
      "12. stop_recycle_incompatible_size(x_size = 0L, size = 503L, x_arg = \"\")",
      "13. stop_vctrs(x_size = x_size, y_size = size, x_arg = x_arg, class = c(\"vctrs_error_incompatible_size\", \n  .     \"vctrs_error_recycle_incompatible_size\"))",
      "14. abort(message, class = c(class, \"vctrs_error\"), ...)",
      "15. signal_abort(cnd)",
      "16. signalCondition(cnd)",
      "17. (function (cnd) \n  . {\n  .     cnd_signal(error_assign_incompatible_size(nrow, value, j, \n  .         i_arg, value_arg))\n  . })(structure(list(message = \"\", trace = structure(list(calls = list(\n  .     IRkernel::main(), kernel$run(), IRkernel:::handle_shell(), \n  .     executor$execute(msg), base::tryCatch(evaluate(request$content$code, \n  .         envir = .GlobalEnv, output_handler = oh, stop_on_error = 1L), \n  .         interrupt = function(cond) interrupted <<- TRUE, error = .self$handle_error), \n  .     base:::tryCatchList(expr, classes, parentenv, handlers), \n  .     base:::tryCatchOne(tryCatchList(expr, names[-nh], parentenv, \n  .         handlers[-nh]), names[nh], parentenv, handlers[[nh]]), \n  .     base:::doTryCatch(return(expr), name, parentenv, handler), \n  .     base:::tryCatchList(expr, names[-nh], parentenv, handlers[-nh]), \n  .     base:::tryCatchOne(expr, names, parentenv, handlers[[1L]]), \n  .     base:::doTryCatch(return(expr), name, parentenv, handler), \n  .     evaluate::evaluate(request$content$code, envir = .GlobalEnv, \n  .         output_handler = oh, stop_on_error = 1L), evaluate:::evaluate_call(expr, \n  .         parsed$src[[i]], envir = envir, enclos = enclos, debug = debug, \n  .         last = i == length(out), use_try = stop_on_error != 2L, \n  .         keep_warning = keep_warning, keep_message = keep_message, \n  .         output_handler = output_handler, include_timing = include_timing), \n  .     evaluate:::timing_fn(handle(ev <- withCallingHandlers(withVisible(eval(expr, \n  .         envir, enclos)), warning = wHandler, error = eHandler, \n  .         message = mHandler))), evaluate:::handle(ev <- withCallingHandlers(withVisible(eval(expr, \n  .         envir, enclos)), warning = wHandler, error = eHandler, \n  .         message = mHandler)), base::try(f, silent = TRUE), base::tryCatch(expr, \n  .         error = function(e) {\n  .             call <- conditionCall(e)\n  .             if (!is.null(call)) {\n  .                 if (identical(call[[1L]], quote(doTryCatch))) \n  .                   call <- sys.call(-4L)\n  .                 dcall <- deparse(call)[1L]\n  .                 prefix <- paste(\"Error in\", dcall, \": \")\n  .                 LONG <- 75L\n  .                 sm <- strsplit(conditionMessage(e), \"\\n\")[[1L]]\n  .                 w <- 14L + nchar(dcall, type = \"w\") + nchar(sm[1L], \n  .                   type = \"w\")\n  .                 if (is.na(w)) \n  .                   w <- 14L + nchar(dcall, type = \"b\") + nchar(sm[1L], \n  .                     type = \"b\")\n  .                 if (w > LONG) \n  .                   prefix <- paste0(prefix, \"\\n  \")\n  .             }\n  .             else prefix <- \"Error : \"\n  .             msg <- paste0(prefix, conditionMessage(e), \"\\n\")\n  .             .Internal(seterrmessage(msg[1L]))\n  .             if (!silent && isTRUE(getOption(\"show.error.messages\"))) {\n  .                 cat(msg, file = outFile)\n  .                 .Internal(printDeferredWarnings())\n  .             }\n  .             invisible(structure(msg, class = \"try-error\", condition = e))\n  .         }), base:::tryCatchList(expr, classes, parentenv, handlers), \n  .     base:::tryCatchOne(expr, names, parentenv, handlers[[1L]]), \n  .     base:::doTryCatch(return(expr), name, parentenv, handler), \n  .     base::withCallingHandlers(withVisible(eval(expr, envir, enclos)), \n  .         warning = wHandler, error = eHandler, message = mHandler), \n  .     base::withVisible(eval(expr, envir, enclos)), base::eval(expr, \n  .         envir, enclos), base::eval(expr, envir, enclos), pbapply::pblapply(tld_registrar_list, \n  .         function(i) list_predict_first_renewal(i, test_data, \n  .             data_models)), base::lapply(X, FUN, ...), global::FUN(X[[i]], \n  .         ...), global::list_predict_first_renewal(i, test_data, \n  .         data_models), global::predict_first_renewal(tld_registrar_data, \n  .         model), base::`$<-`(`*tmp*`, \"first_renewal_prediction\", \n  .         value = numeric(0)), tibble:::`$<-.tbl_df`(`*tmp*`, \"first_renewal_prediction\", \n  .         value = numeric(0)), tibble:::tbl_subassign(x, i = NULL, \n  .         as_string(name), list(value), i_arg = NULL, j_arg = name, \n  .         value_arg = substitute(value)), tibble:::vectbl_recycle_rhs(value, \n  .         fast_nrow(x), length(j), i_arg = NULL, value_arg), base::withCallingHandlers(for (j in seq_along(value)) {\n  .         if (!is.null(value[[j]])) {\n  .             value[[j]] <- vec_recycle(value[[j]], nrow)\n  .         }\n  .     }, vctrs_error_recycle_incompatible_size = function(cnd) {\n  .         cnd_signal(error_assign_incompatible_size(nrow, value, \n  .             j, i_arg, value_arg))\n  .     }), vctrs::vec_recycle(value[[j]], nrow), vctrs:::stop_recycle_incompatible_size(x_size = 0L, \n  .         size = 503L, x_arg = \"\"), vctrs:::stop_vctrs(x_size = x_size, \n  .         y_size = size, x_arg = x_arg, class = c(\"vctrs_error_incompatible_size\", \n  .             \"vctrs_error_recycle_incompatible_size\"))), parents = c(0L, \n  . 1L, 2L, 3L, 4L, 5L, 6L, 7L, 6L, 9L, 10L, 4L, 12L, 13L, 13L, 15L, \n  . 16L, 17L, 18L, 19L, 13L, 13L, 13L, 23L, 0L, 25L, 26L, 27L, 28L, \n  . 29L, 29L, 31L, 32L, 33L, 33L, 0L, 36L), indices = 1:37), class = \"rlang_trace\", version = 1L), \n  .     parent = NULL, x_size = 0L, y_size = 503L, x_arg = \"\"), class = c(\"vctrs_error_incompatible_size\", \n  . \"vctrs_error_recycle_incompatible_size\", \"vctrs_error\", \"rlang_error\", \n  . \"error\", \"condition\")))",
      "18. cnd_signal(error_assign_incompatible_size(nrow, value, j, i_arg, \n  .     value_arg))",
      "19. signal_abort(cnd)"
     ]
    }
   ],
   "source": [
    "# pred = mass_predict_first_renewal(test_list_tld_reseller, model)\n",
    "test_data = test_list_tld_reseller\n",
    "\n",
    "  tld_registrar_list<-names(test_data)\n",
    "  tld_registrar_list <- tld_registrar_list[!is.na(tld_registrar_list)]\n",
    "  prediction_list<-pblapply(tld_registrar_list, function(i) list_predict_first_renewal(i, test_data, data_models))\n",
    "  prediction_list<-prediction_list[!is.na(prediction_list)]\n",
    "  prediction_op<-rbindlist(prediction_list,use.names=TRUE, fill=TRUE) \n",
    "  test_data<-rbindlist(test_data,  use.names=TRUE, fill=TRUE) # modified as per error on 20200715 (see README)\n",
    "  test_data$first_renewal_prediction<-prediction_op$probabilities[match(test_data$domain_id,\n",
    "                                                                        prediction_op$domain_id)]"
   ]
  },
  {
   "cell_type": "markdown",
   "metadata": {},
   "source": [
    "# CHeck output"
   ]
  },
  {
   "cell_type": "code",
   "execution_count": 4,
   "metadata": {},
   "outputs": [],
   "source": [
    "preds <- read.csv('../../data/output/models_20201102/preds.csv')"
   ]
  },
  {
   "cell_type": "code",
   "execution_count": 5,
   "metadata": {},
   "outputs": [
    {
     "data": {
      "text/html": [
       "<style>\n",
       ".list-inline {list-style: none; margin:0; padding: 0}\n",
       ".list-inline>li {display: inline-block}\n",
       ".list-inline>li:not(:last-child)::after {content: \"\\00b7\"; padding: 0 .5ex}\n",
       "</style>\n",
       "<ol class=list-inline><li>932289</li><li>39</li></ol>\n"
      ],
      "text/latex": [
       "\\begin{enumerate*}\n",
       "\\item 932289\n",
       "\\item 39\n",
       "\\end{enumerate*}\n"
      ],
      "text/markdown": [
       "1. 932289\n",
       "2. 39\n",
       "\n",
       "\n"
      ],
      "text/plain": [
       "[1] 932289     39"
      ]
     },
     "metadata": {},
     "output_type": "display_data"
    }
   ],
   "source": [
    "dim(preds)"
   ]
  },
  {
   "cell_type": "code",
   "execution_count": 6,
   "metadata": {},
   "outputs": [
    {
     "data": {
      "text/html": [
       "<table>\n",
       "<caption>A data.frame: 6 × 39</caption>\n",
       "<thead>\n",
       "\t<tr><th></th><th scope=col>renewal_type</th><th scope=col>renewed_count</th><th scope=col>expiry_date</th><th scope=col>creation_date</th><th scope=col>status</th><th scope=col>domain_id</th><th scope=col>domain</th><th scope=col>registrar</th><th scope=col>reseller</th><th scope=col>reseller_country</th><th scope=col>registrant_country</th><th scope=col>reg_period</th><th scope=col>reg_revenue</th><th scope=col>reg_arpt</th><th scope=col>renew_mbg</th><th scope=col>renewal_item_id</th><th scope=col>renew_type</th><th scope=col>autorenew_type</th><th scope=col>renewal_status</th><th scope=col>renew_date</th><th scope=col>renew_arpt</th><th scope=col>gibb_score</th><th scope=col>pattern</th><th scope=col>pattern_domain_count</th><th scope=col>day_domains</th><th scope=col>sld_length</th><th scope=col>sld_type</th><th scope=col>sld_type2</th><th scope=col>tld</th><th scope=col>log_reg_arpt</th><th scope=col>tld_registrar_index</th><th scope=col>pred_agg_glm_ALL</th><th scope=col>pred_agg_rf_ALL</th><th scope=col>pred_agg_glm</th><th scope=col>pred_agg_rf</th><th scope=col>pred_seg_glm_ALL</th><th scope=col>pred_seg_rf_ALL</th><th scope=col>pred_seg2_glm_ALL</th><th scope=col>pred_seg2_rf_ALL</th></tr>\n",
       "\t<tr><th></th><th scope=col>&lt;fct&gt;</th><th scope=col>&lt;int&gt;</th><th scope=col>&lt;fct&gt;</th><th scope=col>&lt;fct&gt;</th><th scope=col>&lt;fct&gt;</th><th scope=col>&lt;int&gt;</th><th scope=col>&lt;fct&gt;</th><th scope=col>&lt;fct&gt;</th><th scope=col>&lt;fct&gt;</th><th scope=col>&lt;fct&gt;</th><th scope=col>&lt;fct&gt;</th><th scope=col>&lt;int&gt;</th><th scope=col>&lt;dbl&gt;</th><th scope=col>&lt;dbl&gt;</th><th scope=col>&lt;int&gt;</th><th scope=col>&lt;int&gt;</th><th scope=col>&lt;fct&gt;</th><th scope=col>&lt;fct&gt;</th><th scope=col>&lt;fct&gt;</th><th scope=col>&lt;fct&gt;</th><th scope=col>&lt;dbl&gt;</th><th scope=col>&lt;dbl&gt;</th><th scope=col>&lt;fct&gt;</th><th scope=col>&lt;int&gt;</th><th scope=col>&lt;int&gt;</th><th scope=col>&lt;int&gt;</th><th scope=col>&lt;fct&gt;</th><th scope=col>&lt;fct&gt;</th><th scope=col>&lt;fct&gt;</th><th scope=col>&lt;dbl&gt;</th><th scope=col>&lt;fct&gt;</th><th scope=col>&lt;dbl&gt;</th><th scope=col>&lt;dbl&gt;</th><th scope=col>&lt;dbl&gt;</th><th scope=col>&lt;dbl&gt;</th><th scope=col>&lt;dbl&gt;</th><th scope=col>&lt;dbl&gt;</th><th scope=col>&lt;dbl&gt;</th><th scope=col>&lt;dbl&gt;</th></tr>\n",
       "</thead>\n",
       "<tbody>\n",
       "\t<tr><th scope=row>1</th><td>FirstTime</td><td>1</td><td>2019-11-08</td><td>2018-11-08</td><td>Active</td><td>82167309</td><td>viralherbs.pw</td><td>Namecheap</td><td>Namecheap</td><td>United States</td><td>NA</td><td>1</td><td>0.48</td><td>0.48</td><td>0</td><td>248714055</td><td>auto-renewal</td><td>realized  </td><td>Renewed   </td><td>2019-11-08</td><td>7.5</td><td>3.39</td><td>viralhealh</td><td>2</td><td> 576</td><td>10</td><td>l       </td><td>10l       </td><td>pw</td><td>-0.7339692</td><td>pwnamecheap</td><td>0.030</td><td>0.027366883</td><td>0.030</td><td>0.027366883</td><td>0.049</td><td>0.02752752</td><td>0.02812901</td><td>0.024447474</td></tr>\n",
       "\t<tr><th scope=row>2</th><td>FirstTime</td><td>1</td><td>2019-08-05</td><td>2018-08-05</td><td>Active</td><td>73624034</td><td>ww3n.pw      </td><td>Namecheap</td><td>Namecheap</td><td>United States</td><td>NA</td><td>1</td><td>0.48</td><td>0.48</td><td>0</td><td>219523016</td><td>auto-renewal</td><td>unrealized</td><td>Not Renewd</td><td>2019-08-05</td><td>0.0</td><td>0.52</td><td>ww3n      </td><td>1</td><td> 257</td><td> 4</td><td>ln      </td><td>4ln       </td><td>pw</td><td>-0.7339692</td><td>pwnamecheap</td><td>0.024</td><td>0.026322543</td><td>0.024</td><td>0.026322543</td><td>0.062</td><td>0.02930435</td><td>0.07347816</td><td>0.025803420</td></tr>\n",
       "\t<tr><th scope=row>3</th><td>FirstTime</td><td>1</td><td>2019-08-11</td><td>2018-08-11</td><td>Active</td><td>74035654</td><td>dpasseresp.pw</td><td>Namecheap</td><td>Namecheap</td><td>United States</td><td>NA</td><td>1</td><td>0.48</td><td>0.48</td><td>0</td><td>221379481</td><td>auto-renewal</td><td>unrealized</td><td>Not Renewd</td><td>2019-08-11</td><td>7.0</td><td>4.65</td><td>pssders   </td><td>3</td><td> 353</td><td>10</td><td>l       </td><td>10l       </td><td>pw</td><td>-0.7339692</td><td>pwnamecheap</td><td>0.035</td><td>0.006085356</td><td>0.035</td><td>0.006085356</td><td>0.066</td><td>0.01232116</td><td>0.03516253</td><td>0.006186874</td></tr>\n",
       "\t<tr><th scope=row>4</th><td>FirstTime</td><td>1</td><td>2019-07-22</td><td>2018-07-22</td><td>Active</td><td>72660399</td><td>sexgirls.pw  </td><td>Namecheap</td><td>Namecheap</td><td>United States</td><td>NA</td><td>1</td><td>0.48</td><td>0.48</td><td>0</td><td>216639126</td><td>auto-renewal</td><td>unrealized</td><td>Not Renewd</td><td>2019-07-22</td><td>7.0</td><td>1.75</td><td>xgirl     </td><td>2</td><td>  80</td><td> 8</td><td>l       </td><td>8l        </td><td>pw</td><td>-0.7339692</td><td>pwnamecheap</td><td>0.048</td><td>0.080058013</td><td>0.048</td><td>0.080058013</td><td>0.098</td><td>0.06522605</td><td>0.06273875</td><td>0.059190735</td></tr>\n",
       "\t<tr><th scope=row>5</th><td>FirstTime</td><td>1</td><td>2019-07-07</td><td>2018-07-07</td><td>Active</td><td>71566430</td><td>yucief.pw    </td><td>Namecheap</td><td>Namecheap</td><td>United States</td><td>NA</td><td>1</td><td>0.48</td><td>0.48</td><td>0</td><td>213669206</td><td>auto-renewal</td><td>unrealized</td><td>Not Renewd</td><td>2019-07-07</td><td>7.0</td><td>1.52</td><td>cief      </td><td>3</td><td>1147</td><td> 6</td><td>l       </td><td>6l        </td><td>pw</td><td>-0.7339692</td><td>pwnamecheap</td><td>0.017</td><td>0.016695967</td><td>0.017</td><td>0.016695967</td><td>0.023</td><td>0.01608117</td><td>0.02273527</td><td>0.016375413</td></tr>\n",
       "\t<tr><th scope=row>6</th><td>FirstTime</td><td>1</td><td>2019-11-11</td><td>2018-11-11</td><td>Active</td><td>82528489</td><td>bio-x-keto.pw</td><td>Namecheap</td><td>Namecheap</td><td>United States</td><td>NA</td><td>1</td><td>0.48</td><td>0.48</td><td>0</td><td>250798210</td><td>auto-renewal</td><td>unrealized</td><td>Not Renewd</td><td>2019-11-11</td><td>7.5</td><td>2.16</td><td>bio-x-keto</td><td>1</td><td> 687</td><td>10</td><td>hyphen-l</td><td>10hyphen-l</td><td>pw</td><td>-0.7339692</td><td>pwnamecheap</td><td>0.031</td><td>0.009853222</td><td>0.031</td><td>0.009853222</td><td>0.038</td><td>0.01404684</td><td>0.02211356</td><td>0.009443069</td></tr>\n",
       "</tbody>\n",
       "</table>\n"
      ],
      "text/latex": [
       "A data.frame: 6 × 39\n",
       "\\begin{tabular}{r|lllllllllllllllllllllllllllllllllllllll}\n",
       "  & renewal\\_type & renewed\\_count & expiry\\_date & creation\\_date & status & domain\\_id & domain & registrar & reseller & reseller\\_country & registrant\\_country & reg\\_period & reg\\_revenue & reg\\_arpt & renew\\_mbg & renewal\\_item\\_id & renew\\_type & autorenew\\_type & renewal\\_status & renew\\_date & renew\\_arpt & gibb\\_score & pattern & pattern\\_domain\\_count & day\\_domains & sld\\_length & sld\\_type & sld\\_type2 & tld & log\\_reg\\_arpt & tld\\_registrar\\_index & pred\\_agg\\_glm\\_ALL & pred\\_agg\\_rf\\_ALL & pred\\_agg\\_glm & pred\\_agg\\_rf & pred\\_seg\\_glm\\_ALL & pred\\_seg\\_rf\\_ALL & pred\\_seg2\\_glm\\_ALL & pred\\_seg2\\_rf\\_ALL\\\\\n",
       "  & <fct> & <int> & <fct> & <fct> & <fct> & <int> & <fct> & <fct> & <fct> & <fct> & <fct> & <int> & <dbl> & <dbl> & <int> & <int> & <fct> & <fct> & <fct> & <fct> & <dbl> & <dbl> & <fct> & <int> & <int> & <int> & <fct> & <fct> & <fct> & <dbl> & <fct> & <dbl> & <dbl> & <dbl> & <dbl> & <dbl> & <dbl> & <dbl> & <dbl>\\\\\n",
       "\\hline\n",
       "\t1 & FirstTime & 1 & 2019-11-08 & 2018-11-08 & Active & 82167309 & viralherbs.pw & Namecheap & Namecheap & United States & NA & 1 & 0.48 & 0.48 & 0 & 248714055 & auto-renewal & realized   & Renewed    & 2019-11-08 & 7.5 & 3.39 & viralhealh & 2 &  576 & 10 & l        & 10l        & pw & -0.7339692 & pwnamecheap & 0.030 & 0.027366883 & 0.030 & 0.027366883 & 0.049 & 0.02752752 & 0.02812901 & 0.024447474\\\\\n",
       "\t2 & FirstTime & 1 & 2019-08-05 & 2018-08-05 & Active & 73624034 & ww3n.pw       & Namecheap & Namecheap & United States & NA & 1 & 0.48 & 0.48 & 0 & 219523016 & auto-renewal & unrealized & Not Renewd & 2019-08-05 & 0.0 & 0.52 & ww3n       & 1 &  257 &  4 & ln       & 4ln        & pw & -0.7339692 & pwnamecheap & 0.024 & 0.026322543 & 0.024 & 0.026322543 & 0.062 & 0.02930435 & 0.07347816 & 0.025803420\\\\\n",
       "\t3 & FirstTime & 1 & 2019-08-11 & 2018-08-11 & Active & 74035654 & dpasseresp.pw & Namecheap & Namecheap & United States & NA & 1 & 0.48 & 0.48 & 0 & 221379481 & auto-renewal & unrealized & Not Renewd & 2019-08-11 & 7.0 & 4.65 & pssders    & 3 &  353 & 10 & l        & 10l        & pw & -0.7339692 & pwnamecheap & 0.035 & 0.006085356 & 0.035 & 0.006085356 & 0.066 & 0.01232116 & 0.03516253 & 0.006186874\\\\\n",
       "\t4 & FirstTime & 1 & 2019-07-22 & 2018-07-22 & Active & 72660399 & sexgirls.pw   & Namecheap & Namecheap & United States & NA & 1 & 0.48 & 0.48 & 0 & 216639126 & auto-renewal & unrealized & Not Renewd & 2019-07-22 & 7.0 & 1.75 & xgirl      & 2 &   80 &  8 & l        & 8l         & pw & -0.7339692 & pwnamecheap & 0.048 & 0.080058013 & 0.048 & 0.080058013 & 0.098 & 0.06522605 & 0.06273875 & 0.059190735\\\\\n",
       "\t5 & FirstTime & 1 & 2019-07-07 & 2018-07-07 & Active & 71566430 & yucief.pw     & Namecheap & Namecheap & United States & NA & 1 & 0.48 & 0.48 & 0 & 213669206 & auto-renewal & unrealized & Not Renewd & 2019-07-07 & 7.0 & 1.52 & cief       & 3 & 1147 &  6 & l        & 6l         & pw & -0.7339692 & pwnamecheap & 0.017 & 0.016695967 & 0.017 & 0.016695967 & 0.023 & 0.01608117 & 0.02273527 & 0.016375413\\\\\n",
       "\t6 & FirstTime & 1 & 2019-11-11 & 2018-11-11 & Active & 82528489 & bio-x-keto.pw & Namecheap & Namecheap & United States & NA & 1 & 0.48 & 0.48 & 0 & 250798210 & auto-renewal & unrealized & Not Renewd & 2019-11-11 & 7.5 & 2.16 & bio-x-keto & 1 &  687 & 10 & hyphen-l & 10hyphen-l & pw & -0.7339692 & pwnamecheap & 0.031 & 0.009853222 & 0.031 & 0.009853222 & 0.038 & 0.01404684 & 0.02211356 & 0.009443069\\\\\n",
       "\\end{tabular}\n"
      ],
      "text/markdown": [
       "\n",
       "A data.frame: 6 × 39\n",
       "\n",
       "| <!--/--> | renewal_type &lt;fct&gt; | renewed_count &lt;int&gt; | expiry_date &lt;fct&gt; | creation_date &lt;fct&gt; | status &lt;fct&gt; | domain_id &lt;int&gt; | domain &lt;fct&gt; | registrar &lt;fct&gt; | reseller &lt;fct&gt; | reseller_country &lt;fct&gt; | registrant_country &lt;fct&gt; | reg_period &lt;int&gt; | reg_revenue &lt;dbl&gt; | reg_arpt &lt;dbl&gt; | renew_mbg &lt;int&gt; | renewal_item_id &lt;int&gt; | renew_type &lt;fct&gt; | autorenew_type &lt;fct&gt; | renewal_status &lt;fct&gt; | renew_date &lt;fct&gt; | renew_arpt &lt;dbl&gt; | gibb_score &lt;dbl&gt; | pattern &lt;fct&gt; | pattern_domain_count &lt;int&gt; | day_domains &lt;int&gt; | sld_length &lt;int&gt; | sld_type &lt;fct&gt; | sld_type2 &lt;fct&gt; | tld &lt;fct&gt; | log_reg_arpt &lt;dbl&gt; | tld_registrar_index &lt;fct&gt; | pred_agg_glm_ALL &lt;dbl&gt; | pred_agg_rf_ALL &lt;dbl&gt; | pred_agg_glm &lt;dbl&gt; | pred_agg_rf &lt;dbl&gt; | pred_seg_glm_ALL &lt;dbl&gt; | pred_seg_rf_ALL &lt;dbl&gt; | pred_seg2_glm_ALL &lt;dbl&gt; | pred_seg2_rf_ALL &lt;dbl&gt; |\n",
       "|---|---|---|---|---|---|---|---|---|---|---|---|---|---|---|---|---|---|---|---|---|---|---|---|---|---|---|---|---|---|---|---|---|---|---|---|---|---|---|---|\n",
       "| 1 | FirstTime | 1 | 2019-11-08 | 2018-11-08 | Active | 82167309 | viralherbs.pw | Namecheap | Namecheap | United States | NA | 1 | 0.48 | 0.48 | 0 | 248714055 | auto-renewal | realized   | Renewed    | 2019-11-08 | 7.5 | 3.39 | viralhealh | 2 |  576 | 10 | l        | 10l        | pw | -0.7339692 | pwnamecheap | 0.030 | 0.027366883 | 0.030 | 0.027366883 | 0.049 | 0.02752752 | 0.02812901 | 0.024447474 |\n",
       "| 2 | FirstTime | 1 | 2019-08-05 | 2018-08-05 | Active | 73624034 | ww3n.pw       | Namecheap | Namecheap | United States | NA | 1 | 0.48 | 0.48 | 0 | 219523016 | auto-renewal | unrealized | Not Renewd | 2019-08-05 | 0.0 | 0.52 | ww3n       | 1 |  257 |  4 | ln       | 4ln        | pw | -0.7339692 | pwnamecheap | 0.024 | 0.026322543 | 0.024 | 0.026322543 | 0.062 | 0.02930435 | 0.07347816 | 0.025803420 |\n",
       "| 3 | FirstTime | 1 | 2019-08-11 | 2018-08-11 | Active | 74035654 | dpasseresp.pw | Namecheap | Namecheap | United States | NA | 1 | 0.48 | 0.48 | 0 | 221379481 | auto-renewal | unrealized | Not Renewd | 2019-08-11 | 7.0 | 4.65 | pssders    | 3 |  353 | 10 | l        | 10l        | pw | -0.7339692 | pwnamecheap | 0.035 | 0.006085356 | 0.035 | 0.006085356 | 0.066 | 0.01232116 | 0.03516253 | 0.006186874 |\n",
       "| 4 | FirstTime | 1 | 2019-07-22 | 2018-07-22 | Active | 72660399 | sexgirls.pw   | Namecheap | Namecheap | United States | NA | 1 | 0.48 | 0.48 | 0 | 216639126 | auto-renewal | unrealized | Not Renewd | 2019-07-22 | 7.0 | 1.75 | xgirl      | 2 |   80 |  8 | l        | 8l         | pw | -0.7339692 | pwnamecheap | 0.048 | 0.080058013 | 0.048 | 0.080058013 | 0.098 | 0.06522605 | 0.06273875 | 0.059190735 |\n",
       "| 5 | FirstTime | 1 | 2019-07-07 | 2018-07-07 | Active | 71566430 | yucief.pw     | Namecheap | Namecheap | United States | NA | 1 | 0.48 | 0.48 | 0 | 213669206 | auto-renewal | unrealized | Not Renewd | 2019-07-07 | 7.0 | 1.52 | cief       | 3 | 1147 |  6 | l        | 6l         | pw | -0.7339692 | pwnamecheap | 0.017 | 0.016695967 | 0.017 | 0.016695967 | 0.023 | 0.01608117 | 0.02273527 | 0.016375413 |\n",
       "| 6 | FirstTime | 1 | 2019-11-11 | 2018-11-11 | Active | 82528489 | bio-x-keto.pw | Namecheap | Namecheap | United States | NA | 1 | 0.48 | 0.48 | 0 | 250798210 | auto-renewal | unrealized | Not Renewd | 2019-11-11 | 7.5 | 2.16 | bio-x-keto | 1 |  687 | 10 | hyphen-l | 10hyphen-l | pw | -0.7339692 | pwnamecheap | 0.031 | 0.009853222 | 0.031 | 0.009853222 | 0.038 | 0.01404684 | 0.02211356 | 0.009443069 |\n",
       "\n"
      ],
      "text/plain": [
       "  renewal_type renewed_count expiry_date creation_date status domain_id\n",
       "1 FirstTime    1             2019-11-08  2018-11-08    Active 82167309 \n",
       "2 FirstTime    1             2019-08-05  2018-08-05    Active 73624034 \n",
       "3 FirstTime    1             2019-08-11  2018-08-11    Active 74035654 \n",
       "4 FirstTime    1             2019-07-22  2018-07-22    Active 72660399 \n",
       "5 FirstTime    1             2019-07-07  2018-07-07    Active 71566430 \n",
       "6 FirstTime    1             2019-11-11  2018-11-11    Active 82528489 \n",
       "  domain        registrar reseller  reseller_country registrant_country\n",
       "1 viralherbs.pw Namecheap Namecheap United States    NA                \n",
       "2 ww3n.pw       Namecheap Namecheap United States    NA                \n",
       "3 dpasseresp.pw Namecheap Namecheap United States    NA                \n",
       "4 sexgirls.pw   Namecheap Namecheap United States    NA                \n",
       "5 yucief.pw     Namecheap Namecheap United States    NA                \n",
       "6 bio-x-keto.pw Namecheap Namecheap United States    NA                \n",
       "  reg_period reg_revenue reg_arpt renew_mbg renewal_item_id renew_type  \n",
       "1 1          0.48        0.48     0         248714055       auto-renewal\n",
       "2 1          0.48        0.48     0         219523016       auto-renewal\n",
       "3 1          0.48        0.48     0         221379481       auto-renewal\n",
       "4 1          0.48        0.48     0         216639126       auto-renewal\n",
       "5 1          0.48        0.48     0         213669206       auto-renewal\n",
       "6 1          0.48        0.48     0         250798210       auto-renewal\n",
       "  autorenew_type renewal_status renew_date renew_arpt gibb_score pattern   \n",
       "1 realized       Renewed        2019-11-08 7.5        3.39       viralhealh\n",
       "2 unrealized     Not Renewd     2019-08-05 0.0        0.52       ww3n      \n",
       "3 unrealized     Not Renewd     2019-08-11 7.0        4.65       pssders   \n",
       "4 unrealized     Not Renewd     2019-07-22 7.0        1.75       xgirl     \n",
       "5 unrealized     Not Renewd     2019-07-07 7.0        1.52       cief      \n",
       "6 unrealized     Not Renewd     2019-11-11 7.5        2.16       bio-x-keto\n",
       "  pattern_domain_count day_domains sld_length sld_type sld_type2  tld\n",
       "1 2                     576        10         l        10l        pw \n",
       "2 1                     257         4         ln       4ln        pw \n",
       "3 3                     353        10         l        10l        pw \n",
       "4 2                      80         8         l        8l         pw \n",
       "5 3                    1147         6         l        6l         pw \n",
       "6 1                     687        10         hyphen-l 10hyphen-l pw \n",
       "  log_reg_arpt tld_registrar_index pred_agg_glm_ALL pred_agg_rf_ALL\n",
       "1 -0.7339692   pwnamecheap         0.030            0.027366883    \n",
       "2 -0.7339692   pwnamecheap         0.024            0.026322543    \n",
       "3 -0.7339692   pwnamecheap         0.035            0.006085356    \n",
       "4 -0.7339692   pwnamecheap         0.048            0.080058013    \n",
       "5 -0.7339692   pwnamecheap         0.017            0.016695967    \n",
       "6 -0.7339692   pwnamecheap         0.031            0.009853222    \n",
       "  pred_agg_glm pred_agg_rf pred_seg_glm_ALL pred_seg_rf_ALL pred_seg2_glm_ALL\n",
       "1 0.030        0.027366883 0.049            0.02752752      0.02812901       \n",
       "2 0.024        0.026322543 0.062            0.02930435      0.07347816       \n",
       "3 0.035        0.006085356 0.066            0.01232116      0.03516253       \n",
       "4 0.048        0.080058013 0.098            0.06522605      0.06273875       \n",
       "5 0.017        0.016695967 0.023            0.01608117      0.02273527       \n",
       "6 0.031        0.009853222 0.038            0.01404684      0.02211356       \n",
       "  pred_seg2_rf_ALL\n",
       "1 0.024447474     \n",
       "2 0.025803420     \n",
       "3 0.006186874     \n",
       "4 0.059190735     \n",
       "5 0.016375413     \n",
       "6 0.009443069     "
      ]
     },
     "metadata": {},
     "output_type": "display_data"
    }
   ],
   "source": [
    "head(preds)"
   ]
  },
  {
   "cell_type": "markdown",
   "metadata": {},
   "source": [
    "# QA script fails"
   ]
  },
  {
   "cell_type": "code",
   "execution_count": 38,
   "metadata": {},
   "outputs": [],
   "source": [
    "# model_seg2_glm_ALL\n",
    "# tld_registrar_str = \"siteregistrator domenov\"\n",
    "tld_registrar_str = \"onlinenominalia\""
   ]
  },
  {
   "cell_type": "code",
   "execution_count": 40,
   "metadata": {},
   "outputs": [
    {
     "data": {
      "text/html": [
       "<table>\n",
       "<caption>A tibble: 6 × 31</caption>\n",
       "<thead>\n",
       "\t<tr><th scope=col>renewal_type</th><th scope=col>renewed_count</th><th scope=col>expiry_date</th><th scope=col>creation_date</th><th scope=col>status</th><th scope=col>domain_id</th><th scope=col>domain</th><th scope=col>registrar</th><th scope=col>reseller</th><th scope=col>reseller_country</th><th scope=col>registrant_country</th><th scope=col>reg_period</th><th scope=col>reg_revenue</th><th scope=col>reg_arpt</th><th scope=col>renew_mbg</th><th scope=col>renewal_item_id</th><th scope=col>renew_type</th><th scope=col>autorenew_type</th><th scope=col>renewal_status</th><th scope=col>renew_date</th><th scope=col>renew_arpt</th><th scope=col>gibb_score</th><th scope=col>pattern</th><th scope=col>pattern_domain_count</th><th scope=col>day_domains</th><th scope=col>sld_length</th><th scope=col>sld_type</th><th scope=col>sld_type2</th><th scope=col>tld</th><th scope=col>log_reg_arpt</th><th scope=col>tld_registrar_index</th></tr>\n",
       "\t<tr><th scope=col>&lt;chr&gt;</th><th scope=col>&lt;int&gt;</th><th scope=col>&lt;date&gt;</th><th scope=col>&lt;date&gt;</th><th scope=col>&lt;chr&gt;</th><th scope=col>&lt;int&gt;</th><th scope=col>&lt;chr&gt;</th><th scope=col>&lt;chr&gt;</th><th scope=col>&lt;chr&gt;</th><th scope=col>&lt;chr&gt;</th><th scope=col>&lt;chr&gt;</th><th scope=col>&lt;int&gt;</th><th scope=col>&lt;dbl&gt;</th><th scope=col>&lt;dbl&gt;</th><th scope=col>&lt;int&gt;</th><th scope=col>&lt;int&gt;</th><th scope=col>&lt;chr&gt;</th><th scope=col>&lt;chr&gt;</th><th scope=col>&lt;chr&gt;</th><th scope=col>&lt;date&gt;</th><th scope=col>&lt;dbl&gt;</th><th scope=col>&lt;dbl&gt;</th><th scope=col>&lt;chr&gt;</th><th scope=col>&lt;int&gt;</th><th scope=col>&lt;int&gt;</th><th scope=col>&lt;int&gt;</th><th scope=col>&lt;chr&gt;</th><th scope=col>&lt;chr&gt;</th><th scope=col>&lt;chr&gt;</th><th scope=col>&lt;dbl&gt;</th><th scope=col>&lt;chr&gt;</th></tr>\n",
       "</thead>\n",
       "<tbody>\n",
       "\t<tr><td>FirstTime</td><td>1</td><td>2020-05-27</td><td>2019-05-27</td><td>Active</td><td>105061141</td><td>franckneon.online</td><td>eNom</td><td>Nominalia</td><td>Spain</td><td>NA</td><td>1</td><td>-0.68</td><td>0.0001</td><td>0</td><td>317953164</td><td>renewal     </td><td>NA        </td><td>Renewed   </td><td>2020-05-27</td><td>25</td><td>6.33</td><td>franckneon</td><td>1</td><td>20</td><td>10</td><td>l</td><td>10l</td><td>online</td><td>-9.2103404</td><td>onlinenominalia</td></tr>\n",
       "\t<tr><td>FirstTime</td><td>1</td><td>2020-05-23</td><td>2019-05-23</td><td>Active</td><td>104435711</td><td>colorazul.online </td><td>eNom</td><td>Nominalia</td><td>Spain</td><td>NA</td><td>1</td><td>-0.68</td><td>0.0001</td><td>0</td><td>316910279</td><td>auto-renewal</td><td>unrealized</td><td>Not Renewd</td><td>2020-05-23</td><td>25</td><td>4.96</td><td>colorazul </td><td>1</td><td>28</td><td> 9</td><td>l</td><td>9l </td><td>online</td><td>-9.2103404</td><td>onlinenominalia</td></tr>\n",
       "\t<tr><td>FirstTime</td><td>1</td><td>2020-05-07</td><td>2019-05-07</td><td>Active</td><td>102996654</td><td>conartes.online  </td><td>eNom</td><td>Nominalia</td><td>Spain</td><td>NA</td><td>1</td><td>-0.68</td><td>0.0001</td><td>0</td><td>313607004</td><td>auto-renewal</td><td>unrealized</td><td>Not Renewd</td><td>2020-05-07</td><td>25</td><td>8.60</td><td>castest   </td><td>2</td><td>11</td><td> 8</td><td>l</td><td>8l </td><td>online</td><td>-9.2103404</td><td>onlinenominalia</td></tr>\n",
       "\t<tr><td>FirstTime</td><td>1</td><td>2019-07-05</td><td>2018-07-05</td><td>Active</td><td> 71442585</td><td>dwit.online      </td><td>eNom</td><td>Nominalia</td><td>Spain</td><td>NA</td><td>1</td><td> 2.50</td><td>2.5000</td><td>0</td><td>208606286</td><td>renewal     </td><td>NA        </td><td>Renewed   </td><td>2019-06-15</td><td>25</td><td>2.61</td><td>dwit      </td><td>1</td><td> 1</td><td> 4</td><td>l</td><td>4l </td><td>online</td><td> 0.9162907</td><td>onlinenominalia</td></tr>\n",
       "\t<tr><td>FirstTime</td><td>1</td><td>2020-05-18</td><td>2019-05-18</td><td>Active</td><td>103921211</td><td>amercar.online   </td><td>eNom</td><td>Nominalia</td><td>Spain</td><td>NA</td><td>1</td><td>-0.68</td><td>0.0001</td><td>0</td><td>315854654</td><td>auto-renewal</td><td>unrealized</td><td>Not Renewd</td><td>2020-05-18</td><td>25</td><td>7.31</td><td>amercar   </td><td>1</td><td> 8</td><td> 7</td><td>l</td><td>7l </td><td>online</td><td>-9.2103404</td><td>onlinenominalia</td></tr>\n",
       "\t<tr><td>FirstTime</td><td>1</td><td>2020-05-24</td><td>2019-05-24</td><td>Active</td><td>104676781</td><td>nutsana.online   </td><td>eNom</td><td>Nominalia</td><td>Spain</td><td>NA</td><td>1</td><td>-0.68</td><td>0.0001</td><td>0</td><td>317210254</td><td>auto-renewal</td><td>unrealized</td><td>Not Renewd</td><td>2020-05-24</td><td>25</td><td>4.40</td><td>nutsana   </td><td>1</td><td>21</td><td> 7</td><td>l</td><td>7l </td><td>online</td><td>-9.2103404</td><td>onlinenominalia</td></tr>\n",
       "</tbody>\n",
       "</table>\n"
      ],
      "text/latex": [
       "A tibble: 6 × 31\n",
       "\\begin{tabular}{lllllllllllllllllllllllllllllll}\n",
       " renewal\\_type & renewed\\_count & expiry\\_date & creation\\_date & status & domain\\_id & domain & registrar & reseller & reseller\\_country & registrant\\_country & reg\\_period & reg\\_revenue & reg\\_arpt & renew\\_mbg & renewal\\_item\\_id & renew\\_type & autorenew\\_type & renewal\\_status & renew\\_date & renew\\_arpt & gibb\\_score & pattern & pattern\\_domain\\_count & day\\_domains & sld\\_length & sld\\_type & sld\\_type2 & tld & log\\_reg\\_arpt & tld\\_registrar\\_index\\\\\n",
       " <chr> & <int> & <date> & <date> & <chr> & <int> & <chr> & <chr> & <chr> & <chr> & <chr> & <int> & <dbl> & <dbl> & <int> & <int> & <chr> & <chr> & <chr> & <date> & <dbl> & <dbl> & <chr> & <int> & <int> & <int> & <chr> & <chr> & <chr> & <dbl> & <chr>\\\\\n",
       "\\hline\n",
       "\t FirstTime & 1 & 2020-05-27 & 2019-05-27 & Active & 105061141 & franckneon.online & eNom & Nominalia & Spain & NA & 1 & -0.68 & 0.0001 & 0 & 317953164 & renewal      & NA         & Renewed    & 2020-05-27 & 25 & 6.33 & franckneon & 1 & 20 & 10 & l & 10l & online & -9.2103404 & onlinenominalia\\\\\n",
       "\t FirstTime & 1 & 2020-05-23 & 2019-05-23 & Active & 104435711 & colorazul.online  & eNom & Nominalia & Spain & NA & 1 & -0.68 & 0.0001 & 0 & 316910279 & auto-renewal & unrealized & Not Renewd & 2020-05-23 & 25 & 4.96 & colorazul  & 1 & 28 &  9 & l & 9l  & online & -9.2103404 & onlinenominalia\\\\\n",
       "\t FirstTime & 1 & 2020-05-07 & 2019-05-07 & Active & 102996654 & conartes.online   & eNom & Nominalia & Spain & NA & 1 & -0.68 & 0.0001 & 0 & 313607004 & auto-renewal & unrealized & Not Renewd & 2020-05-07 & 25 & 8.60 & castest    & 2 & 11 &  8 & l & 8l  & online & -9.2103404 & onlinenominalia\\\\\n",
       "\t FirstTime & 1 & 2019-07-05 & 2018-07-05 & Active &  71442585 & dwit.online       & eNom & Nominalia & Spain & NA & 1 &  2.50 & 2.5000 & 0 & 208606286 & renewal      & NA         & Renewed    & 2019-06-15 & 25 & 2.61 & dwit       & 1 &  1 &  4 & l & 4l  & online &  0.9162907 & onlinenominalia\\\\\n",
       "\t FirstTime & 1 & 2020-05-18 & 2019-05-18 & Active & 103921211 & amercar.online    & eNom & Nominalia & Spain & NA & 1 & -0.68 & 0.0001 & 0 & 315854654 & auto-renewal & unrealized & Not Renewd & 2020-05-18 & 25 & 7.31 & amercar    & 1 &  8 &  7 & l & 7l  & online & -9.2103404 & onlinenominalia\\\\\n",
       "\t FirstTime & 1 & 2020-05-24 & 2019-05-24 & Active & 104676781 & nutsana.online    & eNom & Nominalia & Spain & NA & 1 & -0.68 & 0.0001 & 0 & 317210254 & auto-renewal & unrealized & Not Renewd & 2020-05-24 & 25 & 4.40 & nutsana    & 1 & 21 &  7 & l & 7l  & online & -9.2103404 & onlinenominalia\\\\\n",
       "\\end{tabular}\n"
      ],
      "text/markdown": [
       "\n",
       "A tibble: 6 × 31\n",
       "\n",
       "| renewal_type &lt;chr&gt; | renewed_count &lt;int&gt; | expiry_date &lt;date&gt; | creation_date &lt;date&gt; | status &lt;chr&gt; | domain_id &lt;int&gt; | domain &lt;chr&gt; | registrar &lt;chr&gt; | reseller &lt;chr&gt; | reseller_country &lt;chr&gt; | registrant_country &lt;chr&gt; | reg_period &lt;int&gt; | reg_revenue &lt;dbl&gt; | reg_arpt &lt;dbl&gt; | renew_mbg &lt;int&gt; | renewal_item_id &lt;int&gt; | renew_type &lt;chr&gt; | autorenew_type &lt;chr&gt; | renewal_status &lt;chr&gt; | renew_date &lt;date&gt; | renew_arpt &lt;dbl&gt; | gibb_score &lt;dbl&gt; | pattern &lt;chr&gt; | pattern_domain_count &lt;int&gt; | day_domains &lt;int&gt; | sld_length &lt;int&gt; | sld_type &lt;chr&gt; | sld_type2 &lt;chr&gt; | tld &lt;chr&gt; | log_reg_arpt &lt;dbl&gt; | tld_registrar_index &lt;chr&gt; |\n",
       "|---|---|---|---|---|---|---|---|---|---|---|---|---|---|---|---|---|---|---|---|---|---|---|---|---|---|---|---|---|---|---|\n",
       "| FirstTime | 1 | 2020-05-27 | 2019-05-27 | Active | 105061141 | franckneon.online | eNom | Nominalia | Spain | NA | 1 | -0.68 | 0.0001 | 0 | 317953164 | renewal      | NA         | Renewed    | 2020-05-27 | 25 | 6.33 | franckneon | 1 | 20 | 10 | l | 10l | online | -9.2103404 | onlinenominalia |\n",
       "| FirstTime | 1 | 2020-05-23 | 2019-05-23 | Active | 104435711 | colorazul.online  | eNom | Nominalia | Spain | NA | 1 | -0.68 | 0.0001 | 0 | 316910279 | auto-renewal | unrealized | Not Renewd | 2020-05-23 | 25 | 4.96 | colorazul  | 1 | 28 |  9 | l | 9l  | online | -9.2103404 | onlinenominalia |\n",
       "| FirstTime | 1 | 2020-05-07 | 2019-05-07 | Active | 102996654 | conartes.online   | eNom | Nominalia | Spain | NA | 1 | -0.68 | 0.0001 | 0 | 313607004 | auto-renewal | unrealized | Not Renewd | 2020-05-07 | 25 | 8.60 | castest    | 2 | 11 |  8 | l | 8l  | online | -9.2103404 | onlinenominalia |\n",
       "| FirstTime | 1 | 2019-07-05 | 2018-07-05 | Active |  71442585 | dwit.online       | eNom | Nominalia | Spain | NA | 1 |  2.50 | 2.5000 | 0 | 208606286 | renewal      | NA         | Renewed    | 2019-06-15 | 25 | 2.61 | dwit       | 1 |  1 |  4 | l | 4l  | online |  0.9162907 | onlinenominalia |\n",
       "| FirstTime | 1 | 2020-05-18 | 2019-05-18 | Active | 103921211 | amercar.online    | eNom | Nominalia | Spain | NA | 1 | -0.68 | 0.0001 | 0 | 315854654 | auto-renewal | unrealized | Not Renewd | 2020-05-18 | 25 | 7.31 | amercar    | 1 |  8 |  7 | l | 7l  | online | -9.2103404 | onlinenominalia |\n",
       "| FirstTime | 1 | 2020-05-24 | 2019-05-24 | Active | 104676781 | nutsana.online    | eNom | Nominalia | Spain | NA | 1 | -0.68 | 0.0001 | 0 | 317210254 | auto-renewal | unrealized | Not Renewd | 2020-05-24 | 25 | 4.40 | nutsana    | 1 | 21 |  7 | l | 7l  | online | -9.2103404 | onlinenominalia |\n",
       "\n"
      ],
      "text/plain": [
       "  renewal_type renewed_count expiry_date creation_date status domain_id\n",
       "1 FirstTime    1             2020-05-27  2019-05-27    Active 105061141\n",
       "2 FirstTime    1             2020-05-23  2019-05-23    Active 104435711\n",
       "3 FirstTime    1             2020-05-07  2019-05-07    Active 102996654\n",
       "4 FirstTime    1             2019-07-05  2018-07-05    Active  71442585\n",
       "5 FirstTime    1             2020-05-18  2019-05-18    Active 103921211\n",
       "6 FirstTime    1             2020-05-24  2019-05-24    Active 104676781\n",
       "  domain            registrar reseller  reseller_country registrant_country\n",
       "1 franckneon.online eNom      Nominalia Spain            NA                \n",
       "2 colorazul.online  eNom      Nominalia Spain            NA                \n",
       "3 conartes.online   eNom      Nominalia Spain            NA                \n",
       "4 dwit.online       eNom      Nominalia Spain            NA                \n",
       "5 amercar.online    eNom      Nominalia Spain            NA                \n",
       "6 nutsana.online    eNom      Nominalia Spain            NA                \n",
       "  reg_period reg_revenue reg_arpt renew_mbg renewal_item_id renew_type  \n",
       "1 1          -0.68       0.0001   0         317953164       renewal     \n",
       "2 1          -0.68       0.0001   0         316910279       auto-renewal\n",
       "3 1          -0.68       0.0001   0         313607004       auto-renewal\n",
       "4 1           2.50       2.5000   0         208606286       renewal     \n",
       "5 1          -0.68       0.0001   0         315854654       auto-renewal\n",
       "6 1          -0.68       0.0001   0         317210254       auto-renewal\n",
       "  autorenew_type renewal_status renew_date renew_arpt gibb_score pattern   \n",
       "1 NA             Renewed        2020-05-27 25         6.33       franckneon\n",
       "2 unrealized     Not Renewd     2020-05-23 25         4.96       colorazul \n",
       "3 unrealized     Not Renewd     2020-05-07 25         8.60       castest   \n",
       "4 NA             Renewed        2019-06-15 25         2.61       dwit      \n",
       "5 unrealized     Not Renewd     2020-05-18 25         7.31       amercar   \n",
       "6 unrealized     Not Renewd     2020-05-24 25         4.40       nutsana   \n",
       "  pattern_domain_count day_domains sld_length sld_type sld_type2 tld   \n",
       "1 1                    20          10         l        10l       online\n",
       "2 1                    28           9         l        9l        online\n",
       "3 2                    11           8         l        8l        online\n",
       "4 1                     1           4         l        4l        online\n",
       "5 1                     8           7         l        7l        online\n",
       "6 1                    21           7         l        7l        online\n",
       "  log_reg_arpt tld_registrar_index\n",
       "1 -9.2103404   onlinenominalia    \n",
       "2 -9.2103404   onlinenominalia    \n",
       "3 -9.2103404   onlinenominalia    \n",
       "4  0.9162907   onlinenominalia    \n",
       "5 -9.2103404   onlinenominalia    \n",
       "6 -9.2103404   onlinenominalia    "
      ]
     },
     "metadata": {},
     "output_type": "display_data"
    }
   ],
   "source": [
    "expiry_test_df %>% filter(tld_registrar_index==tld_registrar_str) %>% head()"
   ]
  },
  {
   "cell_type": "code",
   "execution_count": 41,
   "metadata": {},
   "outputs": [],
   "source": [
    "model = load(\"../../data/output/models_20201104/model_seg2_glm_onlinenominalia.Rdata\")"
   ]
  },
  {
   "cell_type": "code",
   "execution_count": 42,
   "metadata": {},
   "outputs": [
    {
     "data": {
      "text/html": [
       "'model_seg2_glm_onlinenominalia'"
      ],
      "text/latex": [
       "'model\\_seg2\\_glm\\_onlinenominalia'"
      ],
      "text/markdown": [
       "'model_seg2_glm_onlinenominalia'"
      ],
      "text/plain": [
       "[1] \"model_seg2_glm_onlinenominalia\""
      ]
     },
     "metadata": {},
     "output_type": "display_data"
    }
   ],
   "source": [
    "model"
   ]
  },
  {
   "cell_type": "code",
   "execution_count": 43,
   "metadata": {},
   "outputs": [
    {
     "data": {
      "text/plain": [
       "$onlinenominalia\n",
       "\n",
       "Call:  glm(formula = renewal_status ~ ., family = binomial(link = \"logit\"), \n",
       "    data = build_data, model = FALSE, y = FALSE)\n",
       "\n",
       "Coefficients:\n",
       "         (Intercept)  pattern_domain_count          log_reg_arpt  \n",
       "            -0.51143               0.12091               0.06141  \n",
       "          sld_length     sld_typehyphen-ln             sld_typel  \n",
       "            -0.01685               0.20799               0.03283  \n",
       "          sld_typeln             sld_typen           day_domains  \n",
       "            -0.36180              -7.36347              -0.02013  \n",
       "          gibb_score            reg_period  \n",
       "            -0.04673                    NA  \n",
       "\n",
       "Degrees of Freedom: 1175 Total (i.e. Null);  1166 Residual\n",
       "Null Deviance:\t    1255 \n",
       "Residual Deviance: 1203 \tAIC: 1223\n"
      ]
     },
     "metadata": {},
     "output_type": "display_data"
    }
   ],
   "source": [
    "model_seg2_glm_onlinenominalia"
   ]
  },
  {
   "cell_type": "code",
   "execution_count": 44,
   "metadata": {},
   "outputs": [],
   "source": [
    "model <- model_seg2_glm_onlinenominalia"
   ]
  },
  {
   "cell_type": "code",
   "execution_count": 45,
   "metadata": {},
   "outputs": [
    {
     "data": {
      "text/plain": [
       "$onlinenominalia\n",
       "\n",
       "Call:  glm(formula = renewal_status ~ ., family = binomial(link = \"logit\"), \n",
       "    data = build_data, model = FALSE, y = FALSE)\n",
       "\n",
       "Coefficients:\n",
       "         (Intercept)  pattern_domain_count          log_reg_arpt  \n",
       "            -0.51143               0.12091               0.06141  \n",
       "          sld_length     sld_typehyphen-ln             sld_typel  \n",
       "            -0.01685               0.20799               0.03283  \n",
       "          sld_typeln             sld_typen           day_domains  \n",
       "            -0.36180              -7.36347              -0.02013  \n",
       "          gibb_score            reg_period  \n",
       "            -0.04673                    NA  \n",
       "\n",
       "Degrees of Freedom: 1175 Total (i.e. Null);  1166 Residual\n",
       "Null Deviance:\t    1255 \n",
       "Residual Deviance: 1203 \tAIC: 1223\n"
      ]
     },
     "metadata": {},
     "output_type": "display_data"
    }
   ],
   "source": [
    "model"
   ]
  },
  {
   "cell_type": "code",
   "execution_count": 46,
   "metadata": {},
   "outputs": [],
   "source": [
    "tld_reseller_str = tld_registrar_str\n",
    "test_list = expiry_test_list\n",
    "test_list_tld_reseller = test_list[tld_reseller_str]\n",
    "test_df_tld_reseller =  rbindlist(test_list_tld_reseller,use.names=TRUE)"
   ]
  },
  {
   "cell_type": "code",
   "execution_count": 47,
   "metadata": {},
   "outputs": [
    {
     "data": {
      "text/html": [
       "1"
      ],
      "text/latex": [
       "1"
      ],
      "text/markdown": [
       "1"
      ],
      "text/plain": [
       "[1] 1"
      ]
     },
     "metadata": {},
     "output_type": "display_data"
    }
   ],
   "source": [
    "length(test_list_tld_reseller)"
   ]
  },
  {
   "cell_type": "code",
   "execution_count": 48,
   "metadata": {},
   "outputs": [
    {
     "data": {
      "text/html": [
       "<strong>$onlinenominalia</strong> = <table>\n",
       "<caption>A tibble: 303 × 31</caption>\n",
       "<thead>\n",
       "\t<tr><th scope=col>renewal_type</th><th scope=col>renewed_count</th><th scope=col>expiry_date</th><th scope=col>creation_date</th><th scope=col>status</th><th scope=col>domain_id</th><th scope=col>domain</th><th scope=col>registrar</th><th scope=col>reseller</th><th scope=col>reseller_country</th><th scope=col>registrant_country</th><th scope=col>reg_period</th><th scope=col>reg_revenue</th><th scope=col>reg_arpt</th><th scope=col>renew_mbg</th><th scope=col>renewal_item_id</th><th scope=col>renew_type</th><th scope=col>autorenew_type</th><th scope=col>renewal_status</th><th scope=col>renew_date</th><th scope=col>renew_arpt</th><th scope=col>gibb_score</th><th scope=col>pattern</th><th scope=col>pattern_domain_count</th><th scope=col>day_domains</th><th scope=col>sld_length</th><th scope=col>sld_type</th><th scope=col>sld_type2</th><th scope=col>tld</th><th scope=col>log_reg_arpt</th><th scope=col>tld_registrar_index</th></tr>\n",
       "\t<tr><th scope=col>&lt;chr&gt;</th><th scope=col>&lt;int&gt;</th><th scope=col>&lt;date&gt;</th><th scope=col>&lt;date&gt;</th><th scope=col>&lt;chr&gt;</th><th scope=col>&lt;int&gt;</th><th scope=col>&lt;chr&gt;</th><th scope=col>&lt;chr&gt;</th><th scope=col>&lt;chr&gt;</th><th scope=col>&lt;chr&gt;</th><th scope=col>&lt;chr&gt;</th><th scope=col>&lt;int&gt;</th><th scope=col>&lt;dbl&gt;</th><th scope=col>&lt;dbl&gt;</th><th scope=col>&lt;int&gt;</th><th scope=col>&lt;int&gt;</th><th scope=col>&lt;chr&gt;</th><th scope=col>&lt;chr&gt;</th><th scope=col>&lt;chr&gt;</th><th scope=col>&lt;date&gt;</th><th scope=col>&lt;dbl&gt;</th><th scope=col>&lt;dbl&gt;</th><th scope=col>&lt;chr&gt;</th><th scope=col>&lt;int&gt;</th><th scope=col>&lt;int&gt;</th><th scope=col>&lt;int&gt;</th><th scope=col>&lt;chr&gt;</th><th scope=col>&lt;chr&gt;</th><th scope=col>&lt;chr&gt;</th><th scope=col>&lt;dbl&gt;</th><th scope=col>&lt;chr&gt;</th></tr>\n",
       "</thead>\n",
       "<tbody>\n",
       "\t<tr><td>FirstTime</td><td>1</td><td>2020-05-27</td><td>2019-05-27</td><td>Active</td><td>105061141</td><td>franckneon.online            </td><td>eNom</td><td>Nominalia</td><td>Spain</td><td>NA</td><td>1</td><td>-0.68</td><td>0.0001</td><td>0</td><td>317953164</td><td>renewal     </td><td>NA        </td><td>Renewed   </td><td>2020-05-27</td><td>25</td><td>6.33</td><td>franckneon            </td><td>1</td><td>20</td><td>10</td><td>l       </td><td>10l       </td><td>online</td><td>-9.2103404</td><td>onlinenominalia</td></tr>\n",
       "\t<tr><td>FirstTime</td><td>1</td><td>2020-05-23</td><td>2019-05-23</td><td>Active</td><td>104435711</td><td>colorazul.online             </td><td>eNom</td><td>Nominalia</td><td>Spain</td><td>NA</td><td>1</td><td>-0.68</td><td>0.0001</td><td>0</td><td>316910279</td><td>auto-renewal</td><td>unrealized</td><td>Not Renewd</td><td>2020-05-23</td><td>25</td><td>4.96</td><td>colorazul             </td><td>1</td><td>28</td><td> 9</td><td>l       </td><td>9l        </td><td>online</td><td>-9.2103404</td><td>onlinenominalia</td></tr>\n",
       "\t<tr><td>FirstTime</td><td>1</td><td>2020-05-07</td><td>2019-05-07</td><td>Active</td><td>102996654</td><td>conartes.online              </td><td>eNom</td><td>Nominalia</td><td>Spain</td><td>NA</td><td>1</td><td>-0.68</td><td>0.0001</td><td>0</td><td>313607004</td><td>auto-renewal</td><td>unrealized</td><td>Not Renewd</td><td>2020-05-07</td><td>25</td><td>8.60</td><td>castest               </td><td>2</td><td>11</td><td> 8</td><td>l       </td><td>8l        </td><td>online</td><td>-9.2103404</td><td>onlinenominalia</td></tr>\n",
       "\t<tr><td>FirstTime</td><td>1</td><td>2019-07-05</td><td>2018-07-05</td><td>Active</td><td> 71442585</td><td>dwit.online                  </td><td>eNom</td><td>Nominalia</td><td>Spain</td><td>NA</td><td>1</td><td> 2.50</td><td>2.5000</td><td>0</td><td>208606286</td><td>renewal     </td><td>NA        </td><td>Renewed   </td><td>2019-06-15</td><td>25</td><td>2.61</td><td>dwit                  </td><td>1</td><td> 1</td><td> 4</td><td>l       </td><td>4l        </td><td>online</td><td> 0.9162907</td><td>onlinenominalia</td></tr>\n",
       "\t<tr><td>FirstTime</td><td>1</td><td>2020-05-18</td><td>2019-05-18</td><td>Active</td><td>103921211</td><td>amercar.online               </td><td>eNom</td><td>Nominalia</td><td>Spain</td><td>NA</td><td>1</td><td>-0.68</td><td>0.0001</td><td>0</td><td>315854654</td><td>auto-renewal</td><td>unrealized</td><td>Not Renewd</td><td>2020-05-18</td><td>25</td><td>7.31</td><td>amercar               </td><td>1</td><td> 8</td><td> 7</td><td>l       </td><td>7l        </td><td>online</td><td>-9.2103404</td><td>onlinenominalia</td></tr>\n",
       "\t<tr><td>FirstTime</td><td>1</td><td>2020-05-24</td><td>2019-05-24</td><td>Active</td><td>104676781</td><td>nutsana.online               </td><td>eNom</td><td>Nominalia</td><td>Spain</td><td>NA</td><td>1</td><td>-0.68</td><td>0.0001</td><td>0</td><td>317210254</td><td>auto-renewal</td><td>unrealized</td><td>Not Renewd</td><td>2020-05-24</td><td>25</td><td>4.40</td><td>nutsana               </td><td>1</td><td>21</td><td> 7</td><td>l       </td><td>7l        </td><td>online</td><td>-9.2103404</td><td>onlinenominalia</td></tr>\n",
       "\t<tr><td>FirstTime</td><td>1</td><td>2020-08-20</td><td>2019-08-20</td><td>Active</td><td>118702881</td><td>promosalus.online            </td><td>eNom</td><td>Nominalia</td><td>Spain</td><td>NA</td><td>1</td><td>-0.68</td><td>0.0001</td><td>0</td><td>337346304</td><td>renewal     </td><td>NA        </td><td>Renewed   </td><td>2020-08-14</td><td>25</td><td>6.92</td><td>promosalus            </td><td>1</td><td> 7</td><td>10</td><td>l       </td><td>10l       </td><td>online</td><td>-9.2103404</td><td>onlinenominalia</td></tr>\n",
       "\t<tr><td>FirstTime</td><td>1</td><td>2019-11-08</td><td>2018-11-08</td><td>Active</td><td> 82199594</td><td>dfcvalencia2019.online       </td><td>eNom</td><td>Nominalia</td><td>Spain</td><td>NA</td><td>1</td><td> 2.50</td><td>2.5000</td><td>0</td><td>248747315</td><td>auto-renewal</td><td>unrealized</td><td>Not Renewd</td><td>2019-11-08</td><td>25</td><td>1.40</td><td>dfcvalencia           </td><td>2</td><td> 2</td><td>15</td><td>ln      </td><td>15ln      </td><td>online</td><td> 0.9162907</td><td>onlinenominalia</td></tr>\n",
       "\t<tr><td>FirstTime</td><td>1</td><td>2020-05-08</td><td>2019-05-08</td><td>Active</td><td>103070494</td><td>dawnofthekingdoms.online     </td><td>eNom</td><td>Nominalia</td><td>Spain</td><td>NA</td><td>1</td><td>-0.68</td><td>0.0001</td><td>0</td><td>313804159</td><td>auto-renewal</td><td>unrealized</td><td>Not Renewd</td><td>2020-05-08</td><td>25</td><td>4.28</td><td>dawnofthekingdoms     </td><td>1</td><td> 8</td><td>17</td><td>l       </td><td>17l       </td><td>online</td><td>-9.2103404</td><td>onlinenominalia</td></tr>\n",
       "\t<tr><td>FirstTime</td><td>1</td><td>2020-04-11</td><td>2019-04-11</td><td>Active</td><td> 99640159</td><td>marcosescorche.online        </td><td>eNom</td><td>Nominalia</td><td>Spain</td><td>NA</td><td>1</td><td>-0.68</td><td>0.0001</td><td>0</td><td>306735029</td><td>auto-renewal</td><td>unrealized</td><td>Not Renewd</td><td>2020-04-11</td><td>25</td><td>8.00</td><td>marcosescorche        </td><td>1</td><td> 4</td><td>14</td><td>l       </td><td>14l       </td><td>online</td><td>-9.2103404</td><td>onlinenominalia</td></tr>\n",
       "\t<tr><td>FirstTime</td><td>1</td><td>2020-03-01</td><td>2019-03-01</td><td>Active</td><td> 95126414</td><td>emuladorandroid.online       </td><td>eNom</td><td>Nominalia</td><td>Spain</td><td>NA</td><td>1</td><td> 0.25</td><td>0.2500</td><td>0</td><td>296232384</td><td>auto-renewal</td><td>unrealized</td><td>Not Renewd</td><td>2020-03-01</td><td>25</td><td>5.91</td><td>emuladorandroid       </td><td>1</td><td> 2</td><td>15</td><td>l       </td><td>15l       </td><td>online</td><td>-1.3862944</td><td>onlinenominalia</td></tr>\n",
       "\t<tr><td>FirstTime</td><td>1</td><td>2020-05-21</td><td>2019-05-21</td><td>Active</td><td>104220191</td><td>veteadosdeextremadura.online </td><td>eNom</td><td>Nominalia</td><td>Spain</td><td>NA</td><td>1</td><td>-0.68</td><td>0.0001</td><td>0</td><td>316487689</td><td>auto-renewal</td><td>unrealized</td><td>Not Renewd</td><td>2020-05-21</td><td>25</td><td>4.80</td><td>veteadosdeextremadura </td><td>1</td><td>87</td><td>21</td><td>l       </td><td>21l       </td><td>online</td><td>-9.2103404</td><td>onlinenominalia</td></tr>\n",
       "\t<tr><td>FirstTime</td><td>1</td><td>2020-05-02</td><td>2019-05-02</td><td>Active</td><td>102632144</td><td>encomupodemlh.online         </td><td>eNom</td><td>Nominalia</td><td>Spain</td><td>NA</td><td>1</td><td>-0.68</td><td>0.0001</td><td>0</td><td>312653694</td><td>auto-renewal</td><td>unrealized</td><td>Not Renewd</td><td>2020-05-02</td><td>25</td><td>2.94</td><td>encomupodemlh         </td><td>1</td><td> 9</td><td>13</td><td>l       </td><td>13l       </td><td>online</td><td>-9.2103404</td><td>onlinenominalia</td></tr>\n",
       "\t<tr><td>FirstTime</td><td>1</td><td>2020-05-08</td><td>2019-05-08</td><td>Active</td><td>103103139</td><td>teatroaragon.online          </td><td>eNom</td><td>Nominalia</td><td>Spain</td><td>NA</td><td>1</td><td>-0.68</td><td>0.0001</td><td>0</td><td>308787419</td><td>renewal     </td><td>NA        </td><td>Renewed   </td><td>2020-04-18</td><td>25</td><td>5.60</td><td>teatroaragon          </td><td>1</td><td> 8</td><td>12</td><td>l       </td><td>12l       </td><td>online</td><td>-9.2103404</td><td>onlinenominalia</td></tr>\n",
       "\t<tr><td>FirstTime</td><td>1</td><td>2020-07-17</td><td>2019-07-17</td><td>Active</td><td>112914811</td><td>hifismarthome.online         </td><td>eNom</td><td>Nominalia</td><td>Spain</td><td>NA</td><td>1</td><td> 1.00</td><td>1.0000</td><td>0</td><td>330008719</td><td>auto-renewal</td><td>unrealized</td><td>Not Renewd</td><td>2020-07-17</td><td>25</td><td>8.12</td><td>hifismarthome         </td><td>1</td><td> 3</td><td>13</td><td>l       </td><td>13l       </td><td>online</td><td> 0.0000000</td><td>onlinenominalia</td></tr>\n",
       "\t<tr><td>FirstTime</td><td>1</td><td>2020-01-15</td><td>2019-01-15</td><td>Active</td><td> 91030438</td><td>marypoppins.online           </td><td>eNom</td><td>Nominalia</td><td>Spain</td><td>NA</td><td>1</td><td> 1.00</td><td>1.0000</td><td>0</td><td>280123696</td><td>auto-renewal</td><td>unrealized</td><td>Not Renewd</td><td>2020-01-15</td><td>25</td><td>6.12</td><td>marypoppins           </td><td>1</td><td> 4</td><td>11</td><td>l       </td><td>11l       </td><td>online</td><td> 0.0000000</td><td>onlinenominalia</td></tr>\n",
       "\t<tr><td>FirstTime</td><td>1</td><td>2020-01-14</td><td>2019-01-14</td><td>Active</td><td> 90881663</td><td>ritmicasasaki.online         </td><td>eNom</td><td>Nominalia</td><td>Spain</td><td>NA</td><td>1</td><td> 1.00</td><td>1.0000</td><td>0</td><td>279637106</td><td>auto-renewal</td><td>unrealized</td><td>Not Renewd</td><td>2020-01-14</td><td>25</td><td>5.31</td><td>ritmicasasaki         </td><td>1</td><td> 5</td><td>13</td><td>l       </td><td>13l       </td><td>online</td><td> 0.0000000</td><td>onlinenominalia</td></tr>\n",
       "\t<tr><td>FirstTime</td><td>1</td><td>2019-11-19</td><td>2018-11-19</td><td>Active</td><td> 83946634</td><td>tucuidasalud.online          </td><td>eNom</td><td>Nominalia</td><td>Spain</td><td>NA</td><td>1</td><td> 1.00</td><td>1.0000</td><td>0</td><td>256235410</td><td>auto-renewal</td><td>unrealized</td><td>Not Renewd</td><td>2019-11-19</td><td>25</td><td>3.48</td><td>tucuidasalud          </td><td>1</td><td> 5</td><td>12</td><td>l       </td><td>12l       </td><td>online</td><td> 0.0000000</td><td>onlinenominalia</td></tr>\n",
       "\t<tr><td>FirstTime</td><td>1</td><td>2020-06-15</td><td>2019-06-15</td><td>Active</td><td>107941071</td><td>rockmanticstore.online       </td><td>eNom</td><td>Nominalia</td><td>Spain</td><td>NA</td><td>1</td><td> 1.00</td><td>1.0000</td><td>0</td><td>322376329</td><td>auto-renewal</td><td>unrealized</td><td>Not Renewd</td><td>2020-06-15</td><td>25</td><td>5.50</td><td>rockmanticstore       </td><td>1</td><td> 5</td><td>15</td><td>l       </td><td>15l       </td><td>online</td><td> 0.0000000</td><td>onlinenominalia</td></tr>\n",
       "\t<tr><td>FirstTime</td><td>1</td><td>2020-01-02</td><td>2019-01-02</td><td>Active</td><td> 89423367</td><td>clanes.online                </td><td>eNom</td><td>Nominalia</td><td>Spain</td><td>NA</td><td>1</td><td> 1.00</td><td>1.0000</td><td>0</td><td>274143721</td><td>auto-renewal</td><td>unrealized</td><td>Not Renewd</td><td>2020-01-02</td><td>25</td><td>8.83</td><td>clanes                </td><td>1</td><td> 1</td><td> 6</td><td>l       </td><td>6l        </td><td>online</td><td> 0.0000000</td><td>onlinenominalia</td></tr>\n",
       "\t<tr><td>FirstTime</td><td>1</td><td>2020-01-10</td><td>2019-01-10</td><td>Active</td><td> 90600158</td><td>gestioncolectiva.online      </td><td>eNom</td><td>Nominalia</td><td>Spain</td><td>NA</td><td>1</td><td> 1.00</td><td>1.0000</td><td>0</td><td>278177616</td><td>auto-renewal</td><td>unrealized</td><td>Not Renewd</td><td>2020-01-10</td><td>25</td><td>8.02</td><td>gestioncolectiva      </td><td>1</td><td> 3</td><td>16</td><td>l       </td><td>16l       </td><td>online</td><td> 0.0000000</td><td>onlinenominalia</td></tr>\n",
       "\t<tr><td>FirstTime</td><td>1</td><td>2020-08-02</td><td>2019-08-02</td><td>Active</td><td>115264341</td><td>cupra.online                 </td><td>eNom</td><td>Nominalia</td><td>Spain</td><td>NA</td><td>1</td><td> 1.00</td><td>1.0000</td><td>0</td><td>329377659</td><td>renewal     </td><td>NA        </td><td>Renewed   </td><td>2020-07-15</td><td>25</td><td>6.93</td><td>cuprar                </td><td>3</td><td> 5</td><td> 5</td><td>l       </td><td>5l        </td><td>online</td><td> 0.0000000</td><td>onlinenominalia</td></tr>\n",
       "\t<tr><td>FirstTime</td><td>1</td><td>2020-08-12</td><td>2019-08-12</td><td>Active</td><td>117135601</td><td>lovintrip.online             </td><td>eNom</td><td>Nominalia</td><td>Spain</td><td>NA</td><td>1</td><td> 1.00</td><td>1.0000</td><td>0</td><td>336881724</td><td>auto-renewal</td><td>unrealized</td><td>Not Renewd</td><td>2020-08-12</td><td>25</td><td>6.34</td><td>lovintrip             </td><td>1</td><td> 4</td><td> 9</td><td>l       </td><td>9l        </td><td>online</td><td> 0.0000000</td><td>onlinenominalia</td></tr>\n",
       "\t<tr><td>FirstTime</td><td>1</td><td>2020-04-16</td><td>2019-04-16</td><td>Active</td><td>100589079</td><td>ponunmedico.online           </td><td>eNom</td><td>Nominalia</td><td>Spain</td><td>NA</td><td>1</td><td> 1.00</td><td>1.0000</td><td>0</td><td>302886099</td><td>renewal     </td><td>NA        </td><td>Renewed   </td><td>2020-03-27</td><td>25</td><td>6.40</td><td>ponunine              </td><td>2</td><td> 3</td><td>11</td><td>l       </td><td>11l       </td><td>online</td><td> 0.0000000</td><td>onlinenominalia</td></tr>\n",
       "\t<tr><td>FirstTime</td><td>1</td><td>2020-07-10</td><td>2019-07-10</td><td>Active</td><td>112118701</td><td>xdweb.online                 </td><td>eNom</td><td>Nominalia</td><td>Spain</td><td>NA</td><td>1</td><td>-0.68</td><td>0.0001</td><td>0</td><td>328383264</td><td>auto-renewal</td><td>realized  </td><td>Renewed   </td><td>2020-07-10</td><td>25</td><td>0.43</td><td>xdweb                 </td><td>1</td><td> 9</td><td> 5</td><td>l       </td><td>5l        </td><td>online</td><td>-9.2103404</td><td>onlinenominalia</td></tr>\n",
       "\t<tr><td>FirstTime</td><td>1</td><td>2020-05-27</td><td>2019-05-27</td><td>Active</td><td>105080546</td><td>instrumentosdeviento.online  </td><td>eNom</td><td>Nominalia</td><td>Spain</td><td>NA</td><td>1</td><td>-0.68</td><td>0.0001</td><td>0</td><td>316671924</td><td>transfer    </td><td>NA        </td><td>Renewed   </td><td>2020-05-22</td><td>25</td><td>5.64</td><td>instrumentosdeviento  </td><td>1</td><td>20</td><td>20</td><td>l       </td><td>20l       </td><td>online</td><td>-9.2103404</td><td>onlinenominalia</td></tr>\n",
       "\t<tr><td>FirstTime</td><td>1</td><td>2020-07-05</td><td>2019-07-05</td><td>Active</td><td>111580786</td><td>juancmmora.online            </td><td>eNom</td><td>Nominalia</td><td>Spain</td><td>NA</td><td>1</td><td>-0.68</td><td>0.0001</td><td>0</td><td>327263619</td><td>auto-renewal</td><td>unrealized</td><td>Not Renewd</td><td>2020-07-05</td><td>25</td><td>4.18</td><td>juancmmora            </td><td>1</td><td> 7</td><td>10</td><td>l       </td><td>10l       </td><td>online</td><td>-9.2103404</td><td>onlinenominalia</td></tr>\n",
       "\t<tr><td>FirstTime</td><td>1</td><td>2020-08-27</td><td>2019-08-27</td><td>Active</td><td>119714356</td><td>side-automatizacion.online   </td><td>eNom</td><td>Nominalia</td><td>Spain</td><td>NA</td><td>1</td><td>-0.68</td><td>0.0001</td><td>0</td><td>340445143</td><td>auto-renewal</td><td>unrealized</td><td>Not Renewd</td><td>2020-08-27</td><td>25</td><td>6.15</td><td>side-automatizacion   </td><td>1</td><td> 6</td><td>19</td><td>hyphen-l</td><td>19hyphen-l</td><td>online</td><td>-9.2103404</td><td>onlinenominalia</td></tr>\n",
       "\t<tr><td>FirstTime</td><td>1</td><td>2020-07-08</td><td>2019-07-08</td><td>Active</td><td>111754906</td><td>aritmos.online               </td><td>eNom</td><td>Nominalia</td><td>Spain</td><td>NA</td><td>1</td><td>-0.68</td><td>0.0001</td><td>0</td><td>322860949</td><td>renewal     </td><td>NA        </td><td>Renewed   </td><td>2020-06-18</td><td>25</td><td>4.66</td><td>aritmos               </td><td>1</td><td> 5</td><td> 7</td><td>l       </td><td>7l        </td><td>online</td><td>-9.2103404</td><td>onlinenominalia</td></tr>\n",
       "\t<tr><td>FirstTime</td><td>1</td><td>2020-05-08</td><td>2019-05-08</td><td>Active</td><td>103071709</td><td>farmazone.online             </td><td>eNom</td><td>Nominalia</td><td>Spain</td><td>NA</td><td>1</td><td>-0.68</td><td>0.0001</td><td>0</td><td>313804174</td><td>auto-renewal</td><td>unrealized</td><td>Not Renewd</td><td>2020-05-08</td><td>25</td><td>5.49</td><td>farmazone             </td><td>1</td><td> 8</td><td> 9</td><td>l       </td><td>9l        </td><td>online</td><td>-9.2103404</td><td>onlinenominalia</td></tr>\n",
       "\t<tr><td>FirstTime</td><td>1</td><td>2020-05-21</td><td>2019-05-21</td><td>Active</td><td>104220526</td><td>matiaskupfer.online          </td><td>eNom</td><td>Nominalia</td><td>Spain</td><td>NA</td><td>1</td><td>-0.68</td><td>0.0001</td><td>0</td><td>316487704</td><td>auto-renewal</td><td>unrealized</td><td>Not Renewd</td><td>2020-05-21</td><td>25</td><td>4.37</td><td>matiaskupfer          </td><td>1</td><td>87</td><td>12</td><td>l       </td><td>12l       </td><td>online</td><td>-9.2103404</td><td>onlinenominalia</td></tr>\n",
       "\t<tr><td>FirstTime</td><td>1</td><td>2020-05-16</td><td>2019-05-16</td><td>Active</td><td>103725456</td><td>bentofood.online             </td><td>eNom</td><td>Nominalia</td><td>Spain</td><td>NA</td><td>1</td><td>-0.68</td><td>0.0001</td><td>0</td><td>315415179</td><td>auto-renewal</td><td>unrealized</td><td>Not Renewd</td><td>2020-05-16</td><td>25</td><td>8.37</td><td>bentofood             </td><td>1</td><td>13</td><td> 9</td><td>l       </td><td>9l        </td><td>online</td><td>-9.2103404</td><td>onlinenominalia</td></tr>\n",
       "\t<tr><td>FirstTime</td><td>1</td><td>2020-05-22</td><td>2019-05-22</td><td>Active</td><td>104320961</td><td>softweber.online             </td><td>eNom</td><td>Nominalia</td><td>Spain</td><td>NA</td><td>1</td><td>-0.68</td><td>0.0001</td><td>0</td><td>316697459</td><td>auto-renewal</td><td>unrealized</td><td>Not Renewd</td><td>2020-05-22</td><td>25</td><td>4.39</td><td>sotebe                </td><td>2</td><td>61</td><td> 9</td><td>l       </td><td>9l        </td><td>online</td><td>-9.2103404</td><td>onlinenominalia</td></tr>\n",
       "\t<tr><td>FirstTime</td><td>1</td><td>2020-05-23</td><td>2019-05-23</td><td>Active</td><td>104438026</td><td>construfi.online             </td><td>eNom</td><td>Nominalia</td><td>Spain</td><td>NA</td><td>1</td><td>-0.68</td><td>0.0001</td><td>0</td><td>316910294</td><td>auto-renewal</td><td>unrealized</td><td>Not Renewd</td><td>2020-05-23</td><td>25</td><td>5.33</td><td>construfi             </td><td>1</td><td>28</td><td> 9</td><td>l       </td><td>9l        </td><td>online</td><td>-9.2103404</td><td>onlinenominalia</td></tr>\n",
       "\t<tr><td>FirstTime</td><td>1</td><td>2019-06-29</td><td>2018-06-29</td><td>Active</td><td> 71141555</td><td>libardodiazmorelo.online     </td><td>eNom</td><td>Nominalia</td><td>Spain</td><td>NA</td><td>1</td><td> 2.50</td><td>2.5000</td><td>0</td><td>212185631</td><td>auto-renewal</td><td>unrealized</td><td>Not Renewd</td><td>2019-06-29</td><td>25</td><td>4.08</td><td>libardodiazmorelo     </td><td>1</td><td> 1</td><td>17</td><td>l       </td><td>17l       </td><td>online</td><td> 0.9162907</td><td>onlinenominalia</td></tr>\n",
       "\t<tr><td>FirstTime</td><td>1</td><td>2020-05-22</td><td>2019-05-22</td><td>Active</td><td>104366476</td><td>artedelguadalquivir.online   </td><td>eNom</td><td>Nominalia</td><td>Spain</td><td>NA</td><td>1</td><td>-0.68</td><td>0.0001</td><td>0</td><td>316697954</td><td>auto-renewal</td><td>unrealized</td><td>Not Renewd</td><td>2020-05-22</td><td>25</td><td>3.29</td><td>artedelguadalquivir   </td><td>1</td><td>61</td><td>19</td><td>l       </td><td>19l       </td><td>online</td><td>-9.2103404</td><td>onlinenominalia</td></tr>\n",
       "\t<tr><td>FirstTime</td><td>1</td><td>2019-10-24</td><td>2018-10-24</td><td>Active</td><td> 80257249</td><td>silosenoemprendo.online      </td><td>eNom</td><td>Nominalia</td><td>Spain</td><td>NA</td><td>1</td><td> 2.50</td><td>2.5000</td><td>0</td><td>243535245</td><td>auto-renewal</td><td>unrealized</td><td>Not Renewd</td><td>2019-10-24</td><td>25</td><td>6.18</td><td>silosenoemprendo      </td><td>1</td><td>14</td><td>16</td><td>l       </td><td>16l       </td><td>online</td><td> 0.9162907</td><td>onlinenominalia</td></tr>\n",
       "\t<tr><td>FirstTime</td><td>1</td><td>2020-05-21</td><td>2019-05-21</td><td>Active</td><td>104232716</td><td>eurovia.online               </td><td>eNom</td><td>Nominalia</td><td>Spain</td><td>NA</td><td>1</td><td>-0.68</td><td>0.0001</td><td>0</td><td>316488109</td><td>auto-renewal</td><td>unrealized</td><td>Not Renewd</td><td>2020-05-21</td><td>25</td><td>4.02</td><td>euoa                  </td><td>2</td><td>87</td><td> 7</td><td>l       </td><td>7l        </td><td>online</td><td>-9.2103404</td><td>onlinenominalia</td></tr>\n",
       "\t<tr><td>FirstTime</td><td>1</td><td>2019-07-25</td><td>2018-07-25</td><td>Active</td><td> 72826649</td><td>genomica.online              </td><td>eNom</td><td>Nominalia</td><td>Spain</td><td>NA</td><td>1</td><td> 2.50</td><td>2.5000</td><td>0</td><td>213354461</td><td>renewal     </td><td>NA        </td><td>Renewed   </td><td>2019-07-05</td><td>25</td><td>8.37</td><td>genomica              </td><td>1</td><td> 2</td><td> 8</td><td>l       </td><td>8l        </td><td>online</td><td> 0.9162907</td><td>onlinenominalia</td></tr>\n",
       "\t<tr><td>FirstTime</td><td>1</td><td>2020-02-21</td><td>2019-02-21</td><td>Active</td><td> 94417764</td><td>locafm.online                </td><td>eNom</td><td>Nominalia</td><td>Spain</td><td>NA</td><td>1</td><td> 0.25</td><td>0.2500</td><td>0</td><td>293845649</td><td>auto-renewal</td><td>unrealized</td><td>Not Renewd</td><td>2020-02-21</td><td>25</td><td>1.14</td><td>locafm                </td><td>1</td><td> 4</td><td> 6</td><td>l       </td><td>6l        </td><td>online</td><td>-1.3862944</td><td>onlinenominalia</td></tr>\n",
       "\t<tr><td>FirstTime</td><td>1</td><td>2020-05-21</td><td>2019-05-21</td><td>Active</td><td>104241501</td><td>equilibriocorporal.online    </td><td>eNom</td><td>Nominalia</td><td>Spain</td><td>NA</td><td>1</td><td>-0.68</td><td>0.0001</td><td>0</td><td>316488294</td><td>auto-renewal</td><td>unrealized</td><td>Not Renewd</td><td>2020-05-21</td><td>25</td><td>5.10</td><td>equilibriocorporal    </td><td>1</td><td>87</td><td>18</td><td>l       </td><td>18l       </td><td>online</td><td>-9.2103404</td><td>onlinenominalia</td></tr>\n",
       "\t<tr><td>FirstTime</td><td>1</td><td>2020-05-15</td><td>2019-05-15</td><td>Active</td><td>103688431</td><td>buildupweb.online            </td><td>eNom</td><td>Nominalia</td><td>Spain</td><td>NA</td><td>1</td><td>-0.68</td><td>0.0001</td><td>0</td><td>315209334</td><td>auto-renewal</td><td>unrealized</td><td>Not Renewd</td><td>2020-05-15</td><td>25</td><td>2.24</td><td>buildupweb            </td><td>1</td><td>10</td><td>10</td><td>l       </td><td>10l       </td><td>online</td><td>-9.2103404</td><td>onlinenominalia</td></tr>\n",
       "\t<tr><td>FirstTime</td><td>1</td><td>2020-05-23</td><td>2019-05-23</td><td>Active</td><td>104473681</td><td>estilosdevidasaludable.online</td><td>eNom</td><td>Nominalia</td><td>Spain</td><td>NA</td><td>1</td><td>-0.68</td><td>0.0001</td><td>0</td><td>312728404</td><td>renewal     </td><td>NA        </td><td>Renewed   </td><td>2020-05-03</td><td>25</td><td>4.37</td><td>estilosdevidasaludable</td><td>1</td><td>28</td><td>22</td><td>l       </td><td>22l       </td><td>online</td><td>-9.2103404</td><td>onlinenominalia</td></tr>\n",
       "\t<tr><td>FirstTime</td><td>1</td><td>2020-07-11</td><td>2019-07-11</td><td>Active</td><td>112245396</td><td>wordshop.online              </td><td>eNom</td><td>Nominalia</td><td>Spain</td><td>NA</td><td>1</td><td> 1.00</td><td>1.0000</td><td>0</td><td>328704629</td><td>auto-renewal</td><td>unrealized</td><td>Not Renewd</td><td>2020-07-11</td><td>25</td><td>4.62</td><td>wordshop              </td><td>1</td><td> 7</td><td> 8</td><td>l       </td><td>8l        </td><td>online</td><td> 0.0000000</td><td>onlinenominalia</td></tr>\n",
       "\t<tr><td>FirstTime</td><td>1</td><td>2020-01-25</td><td>2019-01-25</td><td>Active</td><td> 91918973</td><td>180creativa.online           </td><td>eNom</td><td>Nominalia</td><td>Spain</td><td>NA</td><td>1</td><td> 1.00</td><td>1.0000</td><td>0</td><td>284636951</td><td>auto-renewal</td><td>unrealized</td><td>Not Renewd</td><td>2020-01-25</td><td>25</td><td>7.12</td><td>180creativa           </td><td>1</td><td> 5</td><td>11</td><td>ln      </td><td>11ln      </td><td>online</td><td> 0.0000000</td><td>onlinenominalia</td></tr>\n",
       "\t<tr><td>FirstTime</td><td>1</td><td>2020-06-20</td><td>2019-06-20</td><td>Active</td><td>109061971</td><td>carolleclinic.online         </td><td>eNom</td><td>Nominalia</td><td>Spain</td><td>NA</td><td>1</td><td> 1.00</td><td>1.0000</td><td>0</td><td>323431814</td><td>auto-renewal</td><td>unrealized</td><td>Not Renewd</td><td>2020-06-20</td><td>25</td><td>7.97</td><td>carolleclinic         </td><td>1</td><td> 5</td><td>13</td><td>l       </td><td>13l       </td><td>online</td><td> 0.0000000</td><td>onlinenominalia</td></tr>\n",
       "\t<tr><td>FirstTime</td><td>1</td><td>2020-01-26</td><td>2019-01-26</td><td>Active</td><td> 91980368</td><td>iluminaled.online            </td><td>eNom</td><td>Nominalia</td><td>Spain</td><td>NA</td><td>1</td><td> 1.00</td><td>1.0000</td><td>0</td><td>275401326</td><td>renewal     </td><td>NA        </td><td>Renewed   </td><td>2020-01-06</td><td>25</td><td>6.82</td><td>iluminaled            </td><td>1</td><td> 3</td><td>10</td><td>l       </td><td>10l       </td><td>online</td><td> 0.0000000</td><td>onlinenominalia</td></tr>\n",
       "\t<tr><td>FirstTime</td><td>1</td><td>2020-07-26</td><td>2019-07-26</td><td>Active</td><td>114255696</td><td>hipicanarias.online          </td><td>eNom</td><td>Nominalia</td><td>Spain</td><td>NA</td><td>1</td><td> 1.00</td><td>1.0000</td><td>0</td><td>332294459</td><td>auto-renewal</td><td>unrealized</td><td>Not Renewd</td><td>2020-07-26</td><td>25</td><td>6.45</td><td>hipicanarias          </td><td>1</td><td> 3</td><td>12</td><td>l       </td><td>12l       </td><td>online</td><td> 0.0000000</td><td>onlinenominalia</td></tr>\n",
       "\t<tr><td>FirstTime</td><td>1</td><td>2020-08-22</td><td>2019-08-22</td><td>Active</td><td>118987766</td><td>accespoint.online            </td><td>eNom</td><td>Nominalia</td><td>Spain</td><td>NA</td><td>1</td><td> 1.00</td><td>1.0000</td><td>0</td><td>339261374</td><td>auto-renewal</td><td>unrealized</td><td>Not Renewd</td><td>2020-08-22</td><td>25</td><td>5.98</td><td>accespoint            </td><td>1</td><td> 5</td><td>10</td><td>l       </td><td>10l       </td><td>online</td><td> 0.0000000</td><td>onlinenominalia</td></tr>\n",
       "\t<tr><td>FirstTime</td><td>1</td><td>2020-01-11</td><td>2019-01-11</td><td>Active</td><td> 90632548</td><td>asmfilm.online               </td><td>eNom</td><td>Nominalia</td><td>Spain</td><td>NA</td><td>1</td><td> 1.00</td><td>1.0000</td><td>0</td><td>242854040</td><td>transfer    </td><td>NA        </td><td>Renewed   </td><td>2019-10-23</td><td>25</td><td>1.85</td><td>asmfilm               </td><td>1</td><td> 6</td><td> 7</td><td>l       </td><td>7l        </td><td>online</td><td> 0.0000000</td><td>onlinenominalia</td></tr>\n",
       "\t<tr><td>⋮</td><td>⋮</td><td>⋮</td><td>⋮</td><td>⋮</td><td>⋮</td><td>⋮</td><td>⋮</td><td>⋮</td><td>⋮</td><td>⋮</td><td>⋮</td><td>⋮</td><td>⋮</td><td>⋮</td><td>⋮</td><td>⋮</td><td>⋮</td><td>⋮</td><td>⋮</td><td>⋮</td><td>⋮</td><td>⋮</td><td>⋮</td><td>⋮</td><td>⋮</td><td>⋮</td><td>⋮</td><td>⋮</td><td>⋮</td><td>⋮</td></tr>\n",
       "\t<tr><td>FirstTime</td><td>1</td><td>2020-07-28</td><td>2019-07-28</td><td>Active</td><td>114379086</td><td>tuslentillas.online              </td><td>eNom</td><td>Nominalia</td><td>Spain</td><td>NA</td><td>1</td><td>-0.68</td><td>0.0001</td><td>0</td><td>332814984</td><td>auto-renewal</td><td>unrealized</td><td>Not Renewd</td><td>2020-07-28</td><td>25</td><td> 7.07</td><td>tuslentillas              </td><td>1</td><td> 1</td><td>12</td><td>l       </td><td>12l       </td><td>online</td><td>-9.2103404</td><td>onlinenominalia</td></tr>\n",
       "\t<tr><td>FirstTime</td><td>1</td><td>2019-08-01</td><td>2018-08-01</td><td>Active</td><td> 73398884</td><td>migestorsalud.online             </td><td>eNom</td><td>Nominalia</td><td>Spain</td><td>NA</td><td>1</td><td> 2.50</td><td>2.5000</td><td>0</td><td>218804251</td><td>auto-renewal</td><td>unrealized</td><td>Not Renewd</td><td>2019-08-01</td><td>25</td><td> 6.04</td><td>migessalud                </td><td>2</td><td> 4</td><td>13</td><td>l       </td><td>13l       </td><td>online</td><td> 0.9162907</td><td>onlinenominalia</td></tr>\n",
       "\t<tr><td>FirstTime</td><td>1</td><td>2019-09-05</td><td>2018-09-05</td><td>Active</td><td> 75891404</td><td>kanangaviaggi.online             </td><td>eNom</td><td>Nominalia</td><td>Spain</td><td>NA</td><td>1</td><td> 2.50</td><td>2.5000</td><td>0</td><td>222905706</td><td>renewal     </td><td>NA        </td><td>Renewed   </td><td>2019-08-16</td><td>25</td><td> 5.08</td><td>kanangaviaggi             </td><td>1</td><td> 4</td><td>13</td><td>l       </td><td>13l       </td><td>online</td><td> 0.9162907</td><td>onlinenominalia</td></tr>\n",
       "\t<tr><td>FirstTime</td><td>1</td><td>2020-05-21</td><td>2019-05-21</td><td>Active</td><td>104241506</td><td>airsoftalgemesi.online           </td><td>eNom</td><td>Nominalia</td><td>Spain</td><td>NA</td><td>1</td><td>-0.68</td><td>0.0001</td><td>0</td><td>316488299</td><td>auto-renewal</td><td>unrealized</td><td>Not Renewd</td><td>2020-05-21</td><td>25</td><td> 4.67</td><td>saigomaretig              </td><td>2</td><td>87</td><td>15</td><td>l       </td><td>15l       </td><td>online</td><td>-9.2103404</td><td>onlinenominalia</td></tr>\n",
       "\t<tr><td>FirstTime</td><td>1</td><td>2019-10-26</td><td>2018-10-26</td><td>Active</td><td> 80423814</td><td>perrichicos.online               </td><td>eNom</td><td>Nominalia</td><td>Spain</td><td>NA</td><td>1</td><td> 2.50</td><td>2.5000</td><td>0</td><td>244016045</td><td>auto-renewal</td><td>unrealized</td><td>Not Renewd</td><td>2019-10-26</td><td>25</td><td> 8.93</td><td>perrichicos               </td><td>1</td><td>13</td><td>11</td><td>l       </td><td>11l       </td><td>online</td><td> 0.9162907</td><td>onlinenominalia</td></tr>\n",
       "\t<tr><td>FirstTime</td><td>1</td><td>2020-03-07</td><td>2019-03-07</td><td>Active</td><td> 95807459</td><td>cosmeticanatural.online          </td><td>eNom</td><td>Nominalia</td><td>Spain</td><td>NA</td><td>1</td><td> 0.25</td><td>0.2500</td><td>0</td><td>297970509</td><td>auto-renewal</td><td>unrealized</td><td>Not Renewd</td><td>2020-03-07</td><td>25</td><td> 7.09</td><td>cosmeticanatural          </td><td>1</td><td> 9</td><td>16</td><td>l       </td><td>16l       </td><td>online</td><td>-1.3862944</td><td>onlinenominalia</td></tr>\n",
       "\t<tr><td>FirstTime</td><td>1</td><td>2019-10-22</td><td>2018-10-22</td><td>Active</td><td> 79967054</td><td>alanlash.online                  </td><td>eNom</td><td>Nominalia</td><td>Spain</td><td>NA</td><td>1</td><td> 2.50</td><td>2.5000</td><td>0</td><td>242689470</td><td>auto-renewal</td><td>unrealized</td><td>Not Renewd</td><td>2019-10-22</td><td>25</td><td> 7.11</td><td>alanlash                  </td><td>1</td><td> 9</td><td> 8</td><td>l       </td><td>8l        </td><td>online</td><td> 0.9162907</td><td>onlinenominalia</td></tr>\n",
       "\t<tr><td>FirstTime</td><td>1</td><td>2020-03-25</td><td>2019-03-25</td><td>Active</td><td> 97793974</td><td>escuelablockchain.online         </td><td>eNom</td><td>Nominalia</td><td>Spain</td><td>NA</td><td>1</td><td> 0.25</td><td>0.2500</td><td>0</td><td>302477404</td><td>auto-renewal</td><td>unrealized</td><td>Not Renewd</td><td>2020-03-25</td><td>25</td><td> 4.56</td><td>clablockchain             </td><td>3</td><td> 7</td><td>17</td><td>l       </td><td>17l       </td><td>online</td><td>-1.3862944</td><td>onlinenominalia</td></tr>\n",
       "\t<tr><td>FirstTime</td><td>1</td><td>2019-11-26</td><td>2018-11-26</td><td>Active</td><td> 84756232</td><td>facetv.online                    </td><td>eNom</td><td>Nominalia</td><td>Spain</td><td>NA</td><td>1</td><td> 2.50</td><td>2.5000</td><td>0</td><td>258811916</td><td>auto-renewal</td><td>unrealized</td><td>Not Renewd</td><td>2019-11-26</td><td>25</td><td> 1.50</td><td>aetv                      </td><td>2</td><td> 5</td><td> 6</td><td>l       </td><td>6l        </td><td>online</td><td> 0.9162907</td><td>onlinenominalia</td></tr>\n",
       "\t<tr><td>FirstTime</td><td>1</td><td>2019-08-30</td><td>2018-08-30</td><td>Active</td><td> 75476079</td><td>cocinas24.online                 </td><td>eNom</td><td>Nominalia</td><td>Spain</td><td>NA</td><td>1</td><td> 2.50</td><td>2.5000</td><td>0</td><td>226583316</td><td>auto-renewal</td><td>unrealized</td><td>Not Renewd</td><td>2019-08-30</td><td>25</td><td> 7.09</td><td>cocinas24                 </td><td>1</td><td> 2</td><td> 9</td><td>ln      </td><td>9ln       </td><td>online</td><td> 0.9162907</td><td>onlinenominalia</td></tr>\n",
       "\t<tr><td>FirstTime</td><td>1</td><td>2019-10-11</td><td>2018-10-11</td><td>Active</td><td> 78899169</td><td>cosmusfitsports.online           </td><td>eNom</td><td>Nominalia</td><td>Spain</td><td>NA</td><td>1</td><td> 2.50</td><td>2.5000</td><td>0</td><td>239261670</td><td>auto-renewal</td><td>unrealized</td><td>Not Renewd</td><td>2019-10-11</td><td>25</td><td> 4.17</td><td>cosmusfitsports           </td><td>1</td><td> 2</td><td>15</td><td>l       </td><td>15l       </td><td>online</td><td> 0.9162907</td><td>onlinenominalia</td></tr>\n",
       "\t<tr><td>FirstTime</td><td>1</td><td>2020-05-21</td><td>2019-05-21</td><td>Active</td><td>104248621</td><td>relojesdemoda.online             </td><td>eNom</td><td>Nominalia</td><td>Spain</td><td>NA</td><td>1</td><td>-0.68</td><td>0.0001</td><td>0</td><td>316488384</td><td>auto-renewal</td><td>unrealized</td><td>Not Renewd</td><td>2020-05-21</td><td>25</td><td> 3.15</td><td>relojesdemoda             </td><td>1</td><td>87</td><td>13</td><td>l       </td><td>13l       </td><td>online</td><td>-9.2103404</td><td>onlinenominalia</td></tr>\n",
       "\t<tr><td>FirstTime</td><td>1</td><td>2019-09-25</td><td>2018-09-25</td><td>Active</td><td> 77349134</td><td>barcelonashopping.online         </td><td>eNom</td><td>Nominalia</td><td>Spain</td><td>NA</td><td>1</td><td> 2.50</td><td>2.5000</td><td>0</td><td>234137576</td><td>auto-renewal</td><td>unrealized</td><td>Not Renewd</td><td>2019-09-25</td><td>25</td><td> 6.96</td><td>barcelonashopping         </td><td>1</td><td> 4</td><td>17</td><td>l       </td><td>17l       </td><td>online</td><td> 0.9162907</td><td>onlinenominalia</td></tr>\n",
       "\t<tr><td>FirstTime</td><td>1</td><td>2020-08-19</td><td>2019-08-19</td><td>Active</td><td>118579151</td><td>bravoplayacampingresort.online   </td><td>eNom</td><td>Nominalia</td><td>Spain</td><td>NA</td><td>1</td><td> 1.00</td><td>1.0000</td><td>0</td><td>333242904</td><td>renewal     </td><td>NA        </td><td>Renewed   </td><td>2020-07-30</td><td>25</td><td> 6.34</td><td>bravoplayaror             </td><td>3</td><td> 6</td><td>23</td><td>l       </td><td>23l       </td><td>online</td><td> 0.0000000</td><td>onlinenominalia</td></tr>\n",
       "\t<tr><td>FirstTime</td><td>1</td><td>2020-04-28</td><td>2019-04-28</td><td>Active</td><td>102227759</td><td>product-reviews.online           </td><td>eNom</td><td>Nominalia</td><td>Spain</td><td>NA</td><td>1</td><td> 1.00</td><td>1.0000</td><td>0</td><td>311840404</td><td>auto-renewal</td><td>unrealized</td><td>Not Renewd</td><td>2020-04-28</td><td>25</td><td> 4.37</td><td>product-reviews           </td><td>1</td><td>25</td><td>15</td><td>hyphen-l</td><td>15hyphen-l</td><td>online</td><td> 0.0000000</td><td>onlinenominalia</td></tr>\n",
       "\t<tr><td>FirstTime</td><td>1</td><td>2020-07-19</td><td>2019-07-19</td><td>Active</td><td>113219786</td><td>cowit.online                     </td><td>eNom</td><td>Nominalia</td><td>Spain</td><td>NA</td><td>1</td><td> 1.00</td><td>1.0000</td><td>0</td><td>330507704</td><td>auto-renewal</td><td>unrealized</td><td>Not Renewd</td><td>2020-07-19</td><td>25</td><td>11.64</td><td>cowit                     </td><td>1</td><td> 3</td><td> 5</td><td>l       </td><td>5l        </td><td>online</td><td> 0.0000000</td><td>onlinenominalia</td></tr>\n",
       "\t<tr><td>FirstTime</td><td>1</td><td>2020-04-08</td><td>2019-04-08</td><td>Active</td><td> 99182784</td><td>orgullogaystores.online          </td><td>eNom</td><td>Nominalia</td><td>Spain</td><td>NA</td><td>1</td><td> 1.00</td><td>1.0000</td><td>0</td><td>305981529</td><td>auto-renewal</td><td>unrealized</td><td>Not Renewd</td><td>2020-04-08</td><td>25</td><td> 6.05</td><td>orgullogaystores          </td><td>1</td><td> 3</td><td>16</td><td>l       </td><td>16l       </td><td>online</td><td> 0.0000000</td><td>onlinenominalia</td></tr>\n",
       "\t<tr><td>FirstTime</td><td>1</td><td>2020-01-18</td><td>2019-01-18</td><td>Active</td><td> 91311218</td><td>sagradafamiliatickets.online     </td><td>eNom</td><td>Nominalia</td><td>Spain</td><td>NA</td><td>1</td><td> 1.00</td><td>1.0000</td><td>0</td><td>266892821</td><td>renewal     </td><td>NA        </td><td>Renewed   </td><td>2019-12-16</td><td>25</td><td> 4.81</td><td>sagradafamiliatickets     </td><td>1</td><td> 2</td><td>21</td><td>l       </td><td>21l       </td><td>online</td><td> 0.0000000</td><td>onlinenominalia</td></tr>\n",
       "\t<tr><td>FirstTime</td><td>1</td><td>2019-11-14</td><td>2018-11-14</td><td>Active</td><td> 83358664</td><td>cajaherramientas.online          </td><td>eNom</td><td>Nominalia</td><td>Spain</td><td>NA</td><td>1</td><td> 1.00</td><td>1.0000</td><td>0</td><td>254346505</td><td>auto-renewal</td><td>unrealized</td><td>Not Renewd</td><td>2019-11-14</td><td>25</td><td> 4.49</td><td>cajaherramientas          </td><td>1</td><td> 2</td><td>16</td><td>l       </td><td>16l       </td><td>online</td><td> 0.0000000</td><td>onlinenominalia</td></tr>\n",
       "\t<tr><td>FirstTime</td><td>1</td><td>2019-11-15</td><td>2018-11-15</td><td>Active</td><td> 83427159</td><td>amuletospara.online              </td><td>eNom</td><td>Nominalia</td><td>Spain</td><td>NA</td><td>1</td><td> 1.00</td><td>1.0000</td><td>0</td><td>243890760</td><td>renewal     </td><td>NA        </td><td>Renewed   </td><td>2019-10-26</td><td>25</td><td> 5.73</td><td>amuletospara              </td><td>1</td><td> 7</td><td>12</td><td>l       </td><td>12l       </td><td>online</td><td> 0.0000000</td><td>onlinenominalia</td></tr>\n",
       "\t<tr><td>FirstTime</td><td>1</td><td>2020-05-30</td><td>2019-05-30</td><td>Active</td><td>105596476</td><td>havanalaw.online                 </td><td>eNom</td><td>Nominalia</td><td>Spain</td><td>NA</td><td>1</td><td>-0.68</td><td>0.0001</td><td>0</td><td>317077424</td><td>renewal     </td><td>NA        </td><td>Renewed   </td><td>2020-05-24</td><td>25</td><td> 5.86</td><td>havanalaw                 </td><td>1</td><td>15</td><td> 9</td><td>l       </td><td>9l        </td><td>online</td><td>-9.2103404</td><td>onlinenominalia</td></tr>\n",
       "\t<tr><td>FirstTime</td><td>1</td><td>2020-02-27</td><td>2019-02-27</td><td>Active</td><td> 94959309</td><td>gamecracker.online               </td><td>eNom</td><td>Nominalia</td><td>Spain</td><td>NA</td><td>1</td><td> 0.25</td><td>0.2500</td><td>0</td><td>295536509</td><td>auto-renewal</td><td>unrealized</td><td>Not Renewd</td><td>2020-02-27</td><td>25</td><td> 6.65</td><td>gamecracker               </td><td>1</td><td> 5</td><td>11</td><td>l       </td><td>11l       </td><td>online</td><td>-1.3862944</td><td>onlinenominalia</td></tr>\n",
       "\t<tr><td>FirstTime</td><td>1</td><td>2020-05-27</td><td>2019-05-27</td><td>Active</td><td>105090646</td><td>revisteria.online                </td><td>eNom</td><td>Nominalia</td><td>Spain</td><td>NA</td><td>1</td><td>-0.68</td><td>0.0001</td><td>0</td><td>317987274</td><td>auto-renewal</td><td>unrealized</td><td>Not Renewd</td><td>2020-05-27</td><td>25</td><td> 8.83</td><td>revisteria                </td><td>1</td><td>20</td><td>10</td><td>l       </td><td>10l       </td><td>online</td><td>-9.2103404</td><td>onlinenominalia</td></tr>\n",
       "\t<tr><td>FirstTime</td><td>1</td><td>2020-05-14</td><td>2019-05-14</td><td>Active</td><td>103564191</td><td>propietatsluxury.online          </td><td>eNom</td><td>Nominalia</td><td>Spain</td><td>NA</td><td>1</td><td>-0.68</td><td>0.0001</td><td>0</td><td>315002559</td><td>auto-renewal</td><td>unrealized</td><td>Not Renewd</td><td>2020-05-14</td><td>25</td><td> 3.17</td><td>propietatsluxury          </td><td>1</td><td>10</td><td>16</td><td>l       </td><td>16l       </td><td>online</td><td>-9.2103404</td><td>onlinenominalia</td></tr>\n",
       "\t<tr><td>FirstTime</td><td>1</td><td>2020-04-23</td><td>2019-04-23</td><td>Active</td><td>101406444</td><td>thebestoportunity.online         </td><td>eNom</td><td>Nominalia</td><td>Spain</td><td>NA</td><td>1</td><td>-0.68</td><td>0.0001</td><td>0</td><td>310222574</td><td>auto-renewal</td><td>unrealized</td><td>Not Renewd</td><td>2020-04-23</td><td>25</td><td> 6.65</td><td>thebestoportunity         </td><td>1</td><td> 6</td><td>17</td><td>l       </td><td>17l       </td><td>online</td><td>-9.2103404</td><td>onlinenominalia</td></tr>\n",
       "\t<tr><td>FirstTime</td><td>1</td><td>2020-06-28</td><td>2019-06-28</td><td>Active</td><td>110432516</td><td>ingdesign.online                 </td><td>eNom</td><td>Nominalia</td><td>Spain</td><td>NA</td><td>1</td><td>-0.68</td><td>0.0001</td><td>0</td><td>325495544</td><td>auto-renewal</td><td>realized  </td><td>Renewed   </td><td>2020-06-28</td><td>25</td><td> 4.40</td><td>ingdesign                 </td><td>1</td><td> 5</td><td> 9</td><td>l       </td><td>9l        </td><td>online</td><td>-9.2103404</td><td>onlinenominalia</td></tr>\n",
       "\t<tr><td>FirstTime</td><td>1</td><td>2020-05-15</td><td>2019-05-15</td><td>Active</td><td>103680276</td><td>cmdradio.online                  </td><td>eNom</td><td>Nominalia</td><td>Spain</td><td>NA</td><td>1</td><td>-0.68</td><td>0.0001</td><td>0</td><td>315209189</td><td>auto-renewal</td><td>unrealized</td><td>Not Renewd</td><td>2020-05-15</td><td>25</td><td> 1.14</td><td>cmdradio                  </td><td>1</td><td>10</td><td> 8</td><td>l       </td><td>8l        </td><td>online</td><td>-9.2103404</td><td>onlinenominalia</td></tr>\n",
       "\t<tr><td>FirstTime</td><td>1</td><td>2019-06-04</td><td>2018-06-04</td><td>Active</td><td> 69159330</td><td>sintagma.online                  </td><td>eNom</td><td>Nominalia</td><td>Spain</td><td>NA</td><td>1</td><td> 2.50</td><td>2.5000</td><td>0</td><td>205806591</td><td>auto-renewal</td><td>unrealized</td><td>Not Renewd</td><td>2019-06-04</td><td>25</td><td> 4.74</td><td>sintagma                  </td><td>1</td><td> 1</td><td> 8</td><td>l       </td><td>8l        </td><td>online</td><td> 0.9162907</td><td>onlinenominalia</td></tr>\n",
       "\t<tr><td>FirstTime</td><td>1</td><td>2020-08-09</td><td>2019-08-09</td><td>Active</td><td>116582866</td><td>topcavalls.online                </td><td>eNom</td><td>Nominalia</td><td>Spain</td><td>NA</td><td>1</td><td>-0.68</td><td>0.0001</td><td>0</td><td>334755484</td><td>renewal     </td><td>NA        </td><td>Renewed   </td><td>2020-08-05</td><td>25</td><td> 3.69</td><td>topcavalls                </td><td>1</td><td> 6</td><td>10</td><td>l       </td><td>10l       </td><td>online</td><td>-9.2103404</td><td>onlinenominalia</td></tr>\n",
       "\t<tr><td>FirstTime</td><td>1</td><td>2020-06-28</td><td>2019-06-28</td><td>Active</td><td>110438031</td><td>avantio.online                   </td><td>eNom</td><td>Nominalia</td><td>Spain</td><td>NA</td><td>1</td><td>-0.68</td><td>0.0001</td><td>0</td><td>324748044</td><td>renewal     </td><td>NA        </td><td>Renewed   </td><td>2020-06-25</td><td>25</td><td> 7.93</td><td>avantio                   </td><td>1</td><td> 5</td><td> 7</td><td>l       </td><td>7l        </td><td>online</td><td>-9.2103404</td><td>onlinenominalia</td></tr>\n",
       "\t<tr><td>FirstTime</td><td>1</td><td>2020-03-15</td><td>2019-03-15</td><td>Active</td><td> 96800624</td><td>barcelona-eventos.online         </td><td>eNom</td><td>Nominalia</td><td>Spain</td><td>NA</td><td>1</td><td> 0.25</td><td>0.2500</td><td>0</td><td>300179904</td><td>auto-renewal</td><td>unrealized</td><td>Not Renewd</td><td>2020-03-15</td><td>25</td><td> 5.68</td><td>barcelona-eventos         </td><td>1</td><td> 7</td><td>17</td><td>hyphen-l</td><td>17hyphen-l</td><td>online</td><td>-1.3862944</td><td>onlinenominalia</td></tr>\n",
       "\t<tr><td>FirstTime</td><td>1</td><td>2020-05-06</td><td>2019-05-06</td><td>Active</td><td>102878384</td><td>femsantamariademartorelles.online</td><td>eNom</td><td>Nominalia</td><td>Spain</td><td>NA</td><td>1</td><td>-0.68</td><td>0.0001</td><td>0</td><td>313393419</td><td>auto-renewal</td><td>unrealized</td><td>Not Renewd</td><td>2020-05-06</td><td>25</td><td> 7.27</td><td>femsantamariademartorelles</td><td>1</td><td>10</td><td>26</td><td>l       </td><td>26l       </td><td>online</td><td>-9.2103404</td><td>onlinenominalia</td></tr>\n",
       "\t<tr><td>FirstTime</td><td>1</td><td>2019-10-14</td><td>2018-10-14</td><td>Active</td><td> 79060779</td><td>latiendadelrodapie.online        </td><td>eNom</td><td>Nominalia</td><td>Spain</td><td>NA</td><td>1</td><td> 2.50</td><td>2.5000</td><td>0</td><td>240374025</td><td>auto-renewal</td><td>unrealized</td><td>Not Renewd</td><td>2019-10-14</td><td> 0</td><td> 4.82</td><td>latiendadelrodapie        </td><td>1</td><td> 1</td><td>18</td><td>l       </td><td>18l       </td><td>online</td><td> 0.9162907</td><td>onlinenominalia</td></tr>\n",
       "\t<tr><td>FirstTime</td><td>1</td><td>2019-10-26</td><td>2018-10-26</td><td>Active</td><td> 80473269</td><td>bancoin.online                   </td><td>eNom</td><td>Nominalia</td><td>Spain</td><td>NA</td><td>1</td><td> 2.50</td><td>2.5000</td><td>0</td><td>244065605</td><td>auto-renewal</td><td>unrealized</td><td>Not Renewd</td><td>2019-10-26</td><td>25</td><td> 8.78</td><td>bancoin                   </td><td>1</td><td>13</td><td> 7</td><td>l       </td><td>7l        </td><td>online</td><td> 0.9162907</td><td>onlinenominalia</td></tr>\n",
       "\t<tr><td>FirstTime</td><td>1</td><td>2020-05-22</td><td>2019-05-22</td><td>Active</td><td>104341036</td><td>myappis.online                   </td><td>eNom</td><td>Nominalia</td><td>Spain</td><td>NA</td><td>1</td><td>-0.68</td><td>0.0001</td><td>0</td><td>316697729</td><td>auto-renewal</td><td>unrealized</td><td>Not Renewd</td><td>2020-05-22</td><td>25</td><td> 4.44</td><td>myappis                   </td><td>1</td><td>61</td><td> 7</td><td>l       </td><td>7l        </td><td>online</td><td>-9.2103404</td><td>onlinenominalia</td></tr>\n",
       "\t<tr><td>FirstTime</td><td>1</td><td>2020-02-28</td><td>2019-02-28</td><td>Active</td><td> 95021079</td><td>distecno.online                  </td><td>eNom</td><td>Nominalia</td><td>Spain</td><td>NA</td><td>1</td><td> 0.25</td><td>0.2500</td><td>0</td><td>289792646</td><td>renewal     </td><td>NA        </td><td>Renewed   </td><td>2020-02-08</td><td>25</td><td> 3.06</td><td>distecno                  </td><td>1</td><td> 5</td><td> 8</td><td>l       </td><td>8l        </td><td>online</td><td>-1.3862944</td><td>onlinenominalia</td></tr>\n",
       "\t<tr><td>FirstTime</td><td>1</td><td>2020-03-13</td><td>2019-03-13</td><td>Active</td><td> 96549209</td><td>soloseviveunavez.online          </td><td>eNom</td><td>Nominalia</td><td>Spain</td><td>NA</td><td>1</td><td> 0.25</td><td>0.2500</td><td>0</td><td>299777124</td><td>auto-renewal</td><td>unrealized</td><td>Not Renewd</td><td>2020-03-13</td><td>25</td><td> 4.06</td><td>soloseviveunavez          </td><td>1</td><td> 5</td><td>16</td><td>l       </td><td>16l       </td><td>online</td><td>-1.3862944</td><td>onlinenominalia</td></tr>\n",
       "\t<tr><td>FirstTime</td><td>1</td><td>2020-03-26</td><td>2019-03-26</td><td>Active</td><td> 98054384</td><td>dropshippingexclusive.online     </td><td>eNom</td><td>Nominalia</td><td>Spain</td><td>NA</td><td>1</td><td> 0.25</td><td>0.2500</td><td>0</td><td>302763644</td><td>auto-renewal</td><td>unrealized</td><td>Not Renewd</td><td>2020-03-26</td><td>25</td><td> 5.76</td><td>dropshippingexclusive     </td><td>1</td><td> 5</td><td>21</td><td>l       </td><td>21l       </td><td>online</td><td>-1.3862944</td><td>onlinenominalia</td></tr>\n",
       "\t<tr><td>FirstTime</td><td>1</td><td>2019-10-24</td><td>2018-10-24</td><td>Active</td><td> 80257554</td><td>pelisdvd.online                  </td><td>eNom</td><td>Nominalia</td><td>Spain</td><td>NA</td><td>1</td><td> 2.50</td><td>2.5000</td><td>0</td><td>243535535</td><td>auto-renewal</td><td>unrealized</td><td>Not Renewd</td><td>2019-10-24</td><td>25</td><td> 1.29</td><td>pelisdvd                  </td><td>1</td><td>14</td><td> 8</td><td>l       </td><td>8l        </td><td>online</td><td> 0.9162907</td><td>onlinenominalia</td></tr>\n",
       "\t<tr><td>FirstTime</td><td>1</td><td>2020-05-05</td><td>2019-05-05</td><td>Active</td><td>102831659</td><td>barcelonacheap.online            </td><td>eNom</td><td>Nominalia</td><td>Spain</td><td>NA</td><td>1</td><td>-0.68</td><td>0.0001</td><td>0</td><td>313193869</td><td>auto-renewal</td><td>unrealized</td><td>Not Renewd</td><td>2020-05-05</td><td>25</td><td> 6.86</td><td>barcelonacheap            </td><td>1</td><td> 6</td><td>14</td><td>l       </td><td>14l       </td><td>online</td><td>-9.2103404</td><td>onlinenominalia</td></tr>\n",
       "\t<tr><td>FirstTime</td><td>1</td><td>2020-06-17</td><td>2019-06-17</td><td>Active</td><td>108096576</td><td>gerardnicasi.online              </td><td>eNom</td><td>Nominalia</td><td>Spain</td><td>NA</td><td>1</td><td>-0.68</td><td>0.0001</td><td>0</td><td>322747139</td><td>auto-renewal</td><td>unrealized</td><td>Not Renewd</td><td>2020-06-17</td><td>25</td><td> 5.56</td><td>gerardnicasi              </td><td>1</td><td> 8</td><td>12</td><td>l       </td><td>12l       </td><td>online</td><td>-9.2103404</td><td>onlinenominalia</td></tr>\n",
       "\t<tr><td>FirstTime</td><td>1</td><td>2020-06-12</td><td>2019-06-12</td><td>Active</td><td>107632876</td><td>traumatologiaveterinaria.online  </td><td>eNom</td><td>Nominalia</td><td>Spain</td><td>NA</td><td>1</td><td> 1.00</td><td>1.0000</td><td>0</td><td>321700364</td><td>auto-renewal</td><td>unrealized</td><td>Not Renewd</td><td>2020-06-12</td><td>25</td><td> 5.80</td><td>traumatologiaveterinaria  </td><td>1</td><td> 5</td><td>24</td><td>l       </td><td>24l       </td><td>online</td><td> 0.0000000</td><td>onlinenominalia</td></tr>\n",
       "\t<tr><td>FirstTime</td><td>1</td><td>2020-08-14</td><td>2019-08-14</td><td>Active</td><td>117531731</td><td>cambiodenombre.online            </td><td>eNom</td><td>Nominalia</td><td>Spain</td><td>NA</td><td>1</td><td> 1.00</td><td>1.0000</td><td>0</td><td>332013704</td><td>renewal     </td><td>NA        </td><td>Renewed   </td><td>2020-07-25</td><td>25</td><td> 5.64</td><td>cambiodenombre            </td><td>1</td><td> 2</td><td>14</td><td>l       </td><td>14l       </td><td>online</td><td> 0.0000000</td><td>onlinenominalia</td></tr>\n",
       "\t<tr><td>FirstTime</td><td>1</td><td>2020-04-19</td><td>2019-04-19</td><td>Active</td><td>100879829</td><td>carepik.online                   </td><td>eNom</td><td>Nominalia</td><td>Spain</td><td>NA</td><td>1</td><td> 1.00</td><td>1.0000</td><td>0</td><td>309050504</td><td>auto-renewal</td><td>unrealized</td><td>Not Renewd</td><td>2020-04-19</td><td>25</td><td> 4.87</td><td>carepik                   </td><td>1</td><td> 1</td><td> 7</td><td>l       </td><td>7l        </td><td>online</td><td> 0.0000000</td><td>onlinenominalia</td></tr>\n",
       "\t<tr><td>FirstTime</td><td>1</td><td>2020-06-17</td><td>2019-06-17</td><td>Active</td><td>108067056</td><td>irestaurant.online               </td><td>eNom</td><td>Nominalia</td><td>Spain</td><td>NA</td><td>1</td><td> 1.00</td><td>1.0000</td><td>0</td><td>322747044</td><td>auto-renewal</td><td>unrealized</td><td>Not Renewd</td><td>2020-06-17</td><td>25</td><td> 7.82</td><td>irestaurant               </td><td>1</td><td> 8</td><td>11</td><td>l       </td><td>11l       </td><td>online</td><td> 0.0000000</td><td>onlinenominalia</td></tr>\n",
       "\t<tr><td>FirstTime</td><td>1</td><td>2020-07-03</td><td>2019-07-03</td><td>Active</td><td>111375526</td><td>appsom.online                    </td><td>eNom</td><td>Nominalia</td><td>Spain</td><td>NA</td><td>1</td><td> 1.00</td><td>1.0000</td><td>0</td><td>326913624</td><td>auto-renewal</td><td>realized  </td><td>Renewed   </td><td>2020-07-03</td><td>25</td><td> 3.82</td><td>appsom                    </td><td>2</td><td> 5</td><td> 6</td><td>l       </td><td>6l        </td><td>online</td><td> 0.0000000</td><td>onlinenominalia</td></tr>\n",
       "\t<tr><td>FirstTime</td><td>1</td><td>2020-06-11</td><td>2019-06-11</td><td>Active</td><td>107479791</td><td>rockmantic.online                </td><td>eNom</td><td>Nominalia</td><td>Spain</td><td>NA</td><td>1</td><td> 1.00</td><td>1.0000</td><td>0</td><td>321441669</td><td>auto-renewal</td><td>unrealized</td><td>Not Renewd</td><td>2020-06-11</td><td>25</td><td> 5.14</td><td>rockmantic                </td><td>1</td><td> 4</td><td>10</td><td>l       </td><td>10l       </td><td>online</td><td> 0.0000000</td><td>onlinenominalia</td></tr>\n",
       "\t<tr><td>FirstTime</td><td>1</td><td>2020-08-18</td><td>2019-08-18</td><td>Active</td><td>118468706</td><td>cintadecorrer.online             </td><td>eNom</td><td>Nominalia</td><td>Spain</td><td>NA</td><td>1</td><td> 1.00</td><td>1.0000</td><td>0</td><td>338356969</td><td>auto-renewal</td><td>unrealized</td><td>Not Renewd</td><td>2020-08-18</td><td>25</td><td> 8.77</td><td>cintadecorrer             </td><td>1</td><td> 3</td><td>13</td><td>l       </td><td>13l       </td><td>online</td><td> 0.0000000</td><td>onlinenominalia</td></tr>\n",
       "\t<tr><td>FirstTime</td><td>1</td><td>2020-01-04</td><td>2019-01-04</td><td>Active</td><td> 89679837</td><td>hostics.online                   </td><td>eNom</td><td>Nominalia</td><td>Spain</td><td>NA</td><td>1</td><td> 1.00</td><td>1.0000</td><td>0</td><td>264874796</td><td>renewal     </td><td>NA        </td><td>Renewed   </td><td>2019-12-11</td><td>25</td><td> 4.19</td><td>hostics                   </td><td>1</td><td> 6</td><td> 7</td><td>l       </td><td>7l        </td><td>online</td><td> 0.0000000</td><td>onlinenominalia</td></tr>\n",
       "\t<tr><td>FirstTime</td><td>1</td><td>2020-06-29</td><td>2019-06-29</td><td>Active</td><td>110714316</td><td>tu-recarga.online                </td><td>eNom</td><td>Nominalia</td><td>Spain</td><td>NA</td><td>1</td><td> 1.00</td><td>1.0000</td><td>0</td><td>320905874</td><td>renewal     </td><td>NA        </td><td>Renewed   </td><td>2020-06-09</td><td>25</td><td> 6.12</td><td>recarg                    </td><td>2</td><td> 2</td><td>10</td><td>hyphen-l</td><td>10hyphen-l</td><td>online</td><td> 0.0000000</td><td>onlinenominalia</td></tr>\n",
       "</tbody>\n",
       "</table>\n"
      ],
      "text/latex": [
       "\\textbf{\\$onlinenominalia} = A tibble: 303 × 31\n",
       "\\begin{tabular}{lllllllllllllllllllllllllllllll}\n",
       " renewal\\_type & renewed\\_count & expiry\\_date & creation\\_date & status & domain\\_id & domain & registrar & reseller & reseller\\_country & registrant\\_country & reg\\_period & reg\\_revenue & reg\\_arpt & renew\\_mbg & renewal\\_item\\_id & renew\\_type & autorenew\\_type & renewal\\_status & renew\\_date & renew\\_arpt & gibb\\_score & pattern & pattern\\_domain\\_count & day\\_domains & sld\\_length & sld\\_type & sld\\_type2 & tld & log\\_reg\\_arpt & tld\\_registrar\\_index\\\\\n",
       " <chr> & <int> & <date> & <date> & <chr> & <int> & <chr> & <chr> & <chr> & <chr> & <chr> & <int> & <dbl> & <dbl> & <int> & <int> & <chr> & <chr> & <chr> & <date> & <dbl> & <dbl> & <chr> & <int> & <int> & <int> & <chr> & <chr> & <chr> & <dbl> & <chr>\\\\\n",
       "\\hline\n",
       "\t FirstTime & 1 & 2020-05-27 & 2019-05-27 & Active & 105061141 & franckneon.online             & eNom & Nominalia & Spain & NA & 1 & -0.68 & 0.0001 & 0 & 317953164 & renewal      & NA         & Renewed    & 2020-05-27 & 25 & 6.33 & franckneon             & 1 & 20 & 10 & l        & 10l        & online & -9.2103404 & onlinenominalia\\\\\n",
       "\t FirstTime & 1 & 2020-05-23 & 2019-05-23 & Active & 104435711 & colorazul.online              & eNom & Nominalia & Spain & NA & 1 & -0.68 & 0.0001 & 0 & 316910279 & auto-renewal & unrealized & Not Renewd & 2020-05-23 & 25 & 4.96 & colorazul              & 1 & 28 &  9 & l        & 9l         & online & -9.2103404 & onlinenominalia\\\\\n",
       "\t FirstTime & 1 & 2020-05-07 & 2019-05-07 & Active & 102996654 & conartes.online               & eNom & Nominalia & Spain & NA & 1 & -0.68 & 0.0001 & 0 & 313607004 & auto-renewal & unrealized & Not Renewd & 2020-05-07 & 25 & 8.60 & castest                & 2 & 11 &  8 & l        & 8l         & online & -9.2103404 & onlinenominalia\\\\\n",
       "\t FirstTime & 1 & 2019-07-05 & 2018-07-05 & Active &  71442585 & dwit.online                   & eNom & Nominalia & Spain & NA & 1 &  2.50 & 2.5000 & 0 & 208606286 & renewal      & NA         & Renewed    & 2019-06-15 & 25 & 2.61 & dwit                   & 1 &  1 &  4 & l        & 4l         & online &  0.9162907 & onlinenominalia\\\\\n",
       "\t FirstTime & 1 & 2020-05-18 & 2019-05-18 & Active & 103921211 & amercar.online                & eNom & Nominalia & Spain & NA & 1 & -0.68 & 0.0001 & 0 & 315854654 & auto-renewal & unrealized & Not Renewd & 2020-05-18 & 25 & 7.31 & amercar                & 1 &  8 &  7 & l        & 7l         & online & -9.2103404 & onlinenominalia\\\\\n",
       "\t FirstTime & 1 & 2020-05-24 & 2019-05-24 & Active & 104676781 & nutsana.online                & eNom & Nominalia & Spain & NA & 1 & -0.68 & 0.0001 & 0 & 317210254 & auto-renewal & unrealized & Not Renewd & 2020-05-24 & 25 & 4.40 & nutsana                & 1 & 21 &  7 & l        & 7l         & online & -9.2103404 & onlinenominalia\\\\\n",
       "\t FirstTime & 1 & 2020-08-20 & 2019-08-20 & Active & 118702881 & promosalus.online             & eNom & Nominalia & Spain & NA & 1 & -0.68 & 0.0001 & 0 & 337346304 & renewal      & NA         & Renewed    & 2020-08-14 & 25 & 6.92 & promosalus             & 1 &  7 & 10 & l        & 10l        & online & -9.2103404 & onlinenominalia\\\\\n",
       "\t FirstTime & 1 & 2019-11-08 & 2018-11-08 & Active &  82199594 & dfcvalencia2019.online        & eNom & Nominalia & Spain & NA & 1 &  2.50 & 2.5000 & 0 & 248747315 & auto-renewal & unrealized & Not Renewd & 2019-11-08 & 25 & 1.40 & dfcvalencia            & 2 &  2 & 15 & ln       & 15ln       & online &  0.9162907 & onlinenominalia\\\\\n",
       "\t FirstTime & 1 & 2020-05-08 & 2019-05-08 & Active & 103070494 & dawnofthekingdoms.online      & eNom & Nominalia & Spain & NA & 1 & -0.68 & 0.0001 & 0 & 313804159 & auto-renewal & unrealized & Not Renewd & 2020-05-08 & 25 & 4.28 & dawnofthekingdoms      & 1 &  8 & 17 & l        & 17l        & online & -9.2103404 & onlinenominalia\\\\\n",
       "\t FirstTime & 1 & 2020-04-11 & 2019-04-11 & Active &  99640159 & marcosescorche.online         & eNom & Nominalia & Spain & NA & 1 & -0.68 & 0.0001 & 0 & 306735029 & auto-renewal & unrealized & Not Renewd & 2020-04-11 & 25 & 8.00 & marcosescorche         & 1 &  4 & 14 & l        & 14l        & online & -9.2103404 & onlinenominalia\\\\\n",
       "\t FirstTime & 1 & 2020-03-01 & 2019-03-01 & Active &  95126414 & emuladorandroid.online        & eNom & Nominalia & Spain & NA & 1 &  0.25 & 0.2500 & 0 & 296232384 & auto-renewal & unrealized & Not Renewd & 2020-03-01 & 25 & 5.91 & emuladorandroid        & 1 &  2 & 15 & l        & 15l        & online & -1.3862944 & onlinenominalia\\\\\n",
       "\t FirstTime & 1 & 2020-05-21 & 2019-05-21 & Active & 104220191 & veteadosdeextremadura.online  & eNom & Nominalia & Spain & NA & 1 & -0.68 & 0.0001 & 0 & 316487689 & auto-renewal & unrealized & Not Renewd & 2020-05-21 & 25 & 4.80 & veteadosdeextremadura  & 1 & 87 & 21 & l        & 21l        & online & -9.2103404 & onlinenominalia\\\\\n",
       "\t FirstTime & 1 & 2020-05-02 & 2019-05-02 & Active & 102632144 & encomupodemlh.online          & eNom & Nominalia & Spain & NA & 1 & -0.68 & 0.0001 & 0 & 312653694 & auto-renewal & unrealized & Not Renewd & 2020-05-02 & 25 & 2.94 & encomupodemlh          & 1 &  9 & 13 & l        & 13l        & online & -9.2103404 & onlinenominalia\\\\\n",
       "\t FirstTime & 1 & 2020-05-08 & 2019-05-08 & Active & 103103139 & teatroaragon.online           & eNom & Nominalia & Spain & NA & 1 & -0.68 & 0.0001 & 0 & 308787419 & renewal      & NA         & Renewed    & 2020-04-18 & 25 & 5.60 & teatroaragon           & 1 &  8 & 12 & l        & 12l        & online & -9.2103404 & onlinenominalia\\\\\n",
       "\t FirstTime & 1 & 2020-07-17 & 2019-07-17 & Active & 112914811 & hifismarthome.online          & eNom & Nominalia & Spain & NA & 1 &  1.00 & 1.0000 & 0 & 330008719 & auto-renewal & unrealized & Not Renewd & 2020-07-17 & 25 & 8.12 & hifismarthome          & 1 &  3 & 13 & l        & 13l        & online &  0.0000000 & onlinenominalia\\\\\n",
       "\t FirstTime & 1 & 2020-01-15 & 2019-01-15 & Active &  91030438 & marypoppins.online            & eNom & Nominalia & Spain & NA & 1 &  1.00 & 1.0000 & 0 & 280123696 & auto-renewal & unrealized & Not Renewd & 2020-01-15 & 25 & 6.12 & marypoppins            & 1 &  4 & 11 & l        & 11l        & online &  0.0000000 & onlinenominalia\\\\\n",
       "\t FirstTime & 1 & 2020-01-14 & 2019-01-14 & Active &  90881663 & ritmicasasaki.online          & eNom & Nominalia & Spain & NA & 1 &  1.00 & 1.0000 & 0 & 279637106 & auto-renewal & unrealized & Not Renewd & 2020-01-14 & 25 & 5.31 & ritmicasasaki          & 1 &  5 & 13 & l        & 13l        & online &  0.0000000 & onlinenominalia\\\\\n",
       "\t FirstTime & 1 & 2019-11-19 & 2018-11-19 & Active &  83946634 & tucuidasalud.online           & eNom & Nominalia & Spain & NA & 1 &  1.00 & 1.0000 & 0 & 256235410 & auto-renewal & unrealized & Not Renewd & 2019-11-19 & 25 & 3.48 & tucuidasalud           & 1 &  5 & 12 & l        & 12l        & online &  0.0000000 & onlinenominalia\\\\\n",
       "\t FirstTime & 1 & 2020-06-15 & 2019-06-15 & Active & 107941071 & rockmanticstore.online        & eNom & Nominalia & Spain & NA & 1 &  1.00 & 1.0000 & 0 & 322376329 & auto-renewal & unrealized & Not Renewd & 2020-06-15 & 25 & 5.50 & rockmanticstore        & 1 &  5 & 15 & l        & 15l        & online &  0.0000000 & onlinenominalia\\\\\n",
       "\t FirstTime & 1 & 2020-01-02 & 2019-01-02 & Active &  89423367 & clanes.online                 & eNom & Nominalia & Spain & NA & 1 &  1.00 & 1.0000 & 0 & 274143721 & auto-renewal & unrealized & Not Renewd & 2020-01-02 & 25 & 8.83 & clanes                 & 1 &  1 &  6 & l        & 6l         & online &  0.0000000 & onlinenominalia\\\\\n",
       "\t FirstTime & 1 & 2020-01-10 & 2019-01-10 & Active &  90600158 & gestioncolectiva.online       & eNom & Nominalia & Spain & NA & 1 &  1.00 & 1.0000 & 0 & 278177616 & auto-renewal & unrealized & Not Renewd & 2020-01-10 & 25 & 8.02 & gestioncolectiva       & 1 &  3 & 16 & l        & 16l        & online &  0.0000000 & onlinenominalia\\\\\n",
       "\t FirstTime & 1 & 2020-08-02 & 2019-08-02 & Active & 115264341 & cupra.online                  & eNom & Nominalia & Spain & NA & 1 &  1.00 & 1.0000 & 0 & 329377659 & renewal      & NA         & Renewed    & 2020-07-15 & 25 & 6.93 & cuprar                 & 3 &  5 &  5 & l        & 5l         & online &  0.0000000 & onlinenominalia\\\\\n",
       "\t FirstTime & 1 & 2020-08-12 & 2019-08-12 & Active & 117135601 & lovintrip.online              & eNom & Nominalia & Spain & NA & 1 &  1.00 & 1.0000 & 0 & 336881724 & auto-renewal & unrealized & Not Renewd & 2020-08-12 & 25 & 6.34 & lovintrip              & 1 &  4 &  9 & l        & 9l         & online &  0.0000000 & onlinenominalia\\\\\n",
       "\t FirstTime & 1 & 2020-04-16 & 2019-04-16 & Active & 100589079 & ponunmedico.online            & eNom & Nominalia & Spain & NA & 1 &  1.00 & 1.0000 & 0 & 302886099 & renewal      & NA         & Renewed    & 2020-03-27 & 25 & 6.40 & ponunine               & 2 &  3 & 11 & l        & 11l        & online &  0.0000000 & onlinenominalia\\\\\n",
       "\t FirstTime & 1 & 2020-07-10 & 2019-07-10 & Active & 112118701 & xdweb.online                  & eNom & Nominalia & Spain & NA & 1 & -0.68 & 0.0001 & 0 & 328383264 & auto-renewal & realized   & Renewed    & 2020-07-10 & 25 & 0.43 & xdweb                  & 1 &  9 &  5 & l        & 5l         & online & -9.2103404 & onlinenominalia\\\\\n",
       "\t FirstTime & 1 & 2020-05-27 & 2019-05-27 & Active & 105080546 & instrumentosdeviento.online   & eNom & Nominalia & Spain & NA & 1 & -0.68 & 0.0001 & 0 & 316671924 & transfer     & NA         & Renewed    & 2020-05-22 & 25 & 5.64 & instrumentosdeviento   & 1 & 20 & 20 & l        & 20l        & online & -9.2103404 & onlinenominalia\\\\\n",
       "\t FirstTime & 1 & 2020-07-05 & 2019-07-05 & Active & 111580786 & juancmmora.online             & eNom & Nominalia & Spain & NA & 1 & -0.68 & 0.0001 & 0 & 327263619 & auto-renewal & unrealized & Not Renewd & 2020-07-05 & 25 & 4.18 & juancmmora             & 1 &  7 & 10 & l        & 10l        & online & -9.2103404 & onlinenominalia\\\\\n",
       "\t FirstTime & 1 & 2020-08-27 & 2019-08-27 & Active & 119714356 & side-automatizacion.online    & eNom & Nominalia & Spain & NA & 1 & -0.68 & 0.0001 & 0 & 340445143 & auto-renewal & unrealized & Not Renewd & 2020-08-27 & 25 & 6.15 & side-automatizacion    & 1 &  6 & 19 & hyphen-l & 19hyphen-l & online & -9.2103404 & onlinenominalia\\\\\n",
       "\t FirstTime & 1 & 2020-07-08 & 2019-07-08 & Active & 111754906 & aritmos.online                & eNom & Nominalia & Spain & NA & 1 & -0.68 & 0.0001 & 0 & 322860949 & renewal      & NA         & Renewed    & 2020-06-18 & 25 & 4.66 & aritmos                & 1 &  5 &  7 & l        & 7l         & online & -9.2103404 & onlinenominalia\\\\\n",
       "\t FirstTime & 1 & 2020-05-08 & 2019-05-08 & Active & 103071709 & farmazone.online              & eNom & Nominalia & Spain & NA & 1 & -0.68 & 0.0001 & 0 & 313804174 & auto-renewal & unrealized & Not Renewd & 2020-05-08 & 25 & 5.49 & farmazone              & 1 &  8 &  9 & l        & 9l         & online & -9.2103404 & onlinenominalia\\\\\n",
       "\t FirstTime & 1 & 2020-05-21 & 2019-05-21 & Active & 104220526 & matiaskupfer.online           & eNom & Nominalia & Spain & NA & 1 & -0.68 & 0.0001 & 0 & 316487704 & auto-renewal & unrealized & Not Renewd & 2020-05-21 & 25 & 4.37 & matiaskupfer           & 1 & 87 & 12 & l        & 12l        & online & -9.2103404 & onlinenominalia\\\\\n",
       "\t FirstTime & 1 & 2020-05-16 & 2019-05-16 & Active & 103725456 & bentofood.online              & eNom & Nominalia & Spain & NA & 1 & -0.68 & 0.0001 & 0 & 315415179 & auto-renewal & unrealized & Not Renewd & 2020-05-16 & 25 & 8.37 & bentofood              & 1 & 13 &  9 & l        & 9l         & online & -9.2103404 & onlinenominalia\\\\\n",
       "\t FirstTime & 1 & 2020-05-22 & 2019-05-22 & Active & 104320961 & softweber.online              & eNom & Nominalia & Spain & NA & 1 & -0.68 & 0.0001 & 0 & 316697459 & auto-renewal & unrealized & Not Renewd & 2020-05-22 & 25 & 4.39 & sotebe                 & 2 & 61 &  9 & l        & 9l         & online & -9.2103404 & onlinenominalia\\\\\n",
       "\t FirstTime & 1 & 2020-05-23 & 2019-05-23 & Active & 104438026 & construfi.online              & eNom & Nominalia & Spain & NA & 1 & -0.68 & 0.0001 & 0 & 316910294 & auto-renewal & unrealized & Not Renewd & 2020-05-23 & 25 & 5.33 & construfi              & 1 & 28 &  9 & l        & 9l         & online & -9.2103404 & onlinenominalia\\\\\n",
       "\t FirstTime & 1 & 2019-06-29 & 2018-06-29 & Active &  71141555 & libardodiazmorelo.online      & eNom & Nominalia & Spain & NA & 1 &  2.50 & 2.5000 & 0 & 212185631 & auto-renewal & unrealized & Not Renewd & 2019-06-29 & 25 & 4.08 & libardodiazmorelo      & 1 &  1 & 17 & l        & 17l        & online &  0.9162907 & onlinenominalia\\\\\n",
       "\t FirstTime & 1 & 2020-05-22 & 2019-05-22 & Active & 104366476 & artedelguadalquivir.online    & eNom & Nominalia & Spain & NA & 1 & -0.68 & 0.0001 & 0 & 316697954 & auto-renewal & unrealized & Not Renewd & 2020-05-22 & 25 & 3.29 & artedelguadalquivir    & 1 & 61 & 19 & l        & 19l        & online & -9.2103404 & onlinenominalia\\\\\n",
       "\t FirstTime & 1 & 2019-10-24 & 2018-10-24 & Active &  80257249 & silosenoemprendo.online       & eNom & Nominalia & Spain & NA & 1 &  2.50 & 2.5000 & 0 & 243535245 & auto-renewal & unrealized & Not Renewd & 2019-10-24 & 25 & 6.18 & silosenoemprendo       & 1 & 14 & 16 & l        & 16l        & online &  0.9162907 & onlinenominalia\\\\\n",
       "\t FirstTime & 1 & 2020-05-21 & 2019-05-21 & Active & 104232716 & eurovia.online                & eNom & Nominalia & Spain & NA & 1 & -0.68 & 0.0001 & 0 & 316488109 & auto-renewal & unrealized & Not Renewd & 2020-05-21 & 25 & 4.02 & euoa                   & 2 & 87 &  7 & l        & 7l         & online & -9.2103404 & onlinenominalia\\\\\n",
       "\t FirstTime & 1 & 2019-07-25 & 2018-07-25 & Active &  72826649 & genomica.online               & eNom & Nominalia & Spain & NA & 1 &  2.50 & 2.5000 & 0 & 213354461 & renewal      & NA         & Renewed    & 2019-07-05 & 25 & 8.37 & genomica               & 1 &  2 &  8 & l        & 8l         & online &  0.9162907 & onlinenominalia\\\\\n",
       "\t FirstTime & 1 & 2020-02-21 & 2019-02-21 & Active &  94417764 & locafm.online                 & eNom & Nominalia & Spain & NA & 1 &  0.25 & 0.2500 & 0 & 293845649 & auto-renewal & unrealized & Not Renewd & 2020-02-21 & 25 & 1.14 & locafm                 & 1 &  4 &  6 & l        & 6l         & online & -1.3862944 & onlinenominalia\\\\\n",
       "\t FirstTime & 1 & 2020-05-21 & 2019-05-21 & Active & 104241501 & equilibriocorporal.online     & eNom & Nominalia & Spain & NA & 1 & -0.68 & 0.0001 & 0 & 316488294 & auto-renewal & unrealized & Not Renewd & 2020-05-21 & 25 & 5.10 & equilibriocorporal     & 1 & 87 & 18 & l        & 18l        & online & -9.2103404 & onlinenominalia\\\\\n",
       "\t FirstTime & 1 & 2020-05-15 & 2019-05-15 & Active & 103688431 & buildupweb.online             & eNom & Nominalia & Spain & NA & 1 & -0.68 & 0.0001 & 0 & 315209334 & auto-renewal & unrealized & Not Renewd & 2020-05-15 & 25 & 2.24 & buildupweb             & 1 & 10 & 10 & l        & 10l        & online & -9.2103404 & onlinenominalia\\\\\n",
       "\t FirstTime & 1 & 2020-05-23 & 2019-05-23 & Active & 104473681 & estilosdevidasaludable.online & eNom & Nominalia & Spain & NA & 1 & -0.68 & 0.0001 & 0 & 312728404 & renewal      & NA         & Renewed    & 2020-05-03 & 25 & 4.37 & estilosdevidasaludable & 1 & 28 & 22 & l        & 22l        & online & -9.2103404 & onlinenominalia\\\\\n",
       "\t FirstTime & 1 & 2020-07-11 & 2019-07-11 & Active & 112245396 & wordshop.online               & eNom & Nominalia & Spain & NA & 1 &  1.00 & 1.0000 & 0 & 328704629 & auto-renewal & unrealized & Not Renewd & 2020-07-11 & 25 & 4.62 & wordshop               & 1 &  7 &  8 & l        & 8l         & online &  0.0000000 & onlinenominalia\\\\\n",
       "\t FirstTime & 1 & 2020-01-25 & 2019-01-25 & Active &  91918973 & 180creativa.online            & eNom & Nominalia & Spain & NA & 1 &  1.00 & 1.0000 & 0 & 284636951 & auto-renewal & unrealized & Not Renewd & 2020-01-25 & 25 & 7.12 & 180creativa            & 1 &  5 & 11 & ln       & 11ln       & online &  0.0000000 & onlinenominalia\\\\\n",
       "\t FirstTime & 1 & 2020-06-20 & 2019-06-20 & Active & 109061971 & carolleclinic.online          & eNom & Nominalia & Spain & NA & 1 &  1.00 & 1.0000 & 0 & 323431814 & auto-renewal & unrealized & Not Renewd & 2020-06-20 & 25 & 7.97 & carolleclinic          & 1 &  5 & 13 & l        & 13l        & online &  0.0000000 & onlinenominalia\\\\\n",
       "\t FirstTime & 1 & 2020-01-26 & 2019-01-26 & Active &  91980368 & iluminaled.online             & eNom & Nominalia & Spain & NA & 1 &  1.00 & 1.0000 & 0 & 275401326 & renewal      & NA         & Renewed    & 2020-01-06 & 25 & 6.82 & iluminaled             & 1 &  3 & 10 & l        & 10l        & online &  0.0000000 & onlinenominalia\\\\\n",
       "\t FirstTime & 1 & 2020-07-26 & 2019-07-26 & Active & 114255696 & hipicanarias.online           & eNom & Nominalia & Spain & NA & 1 &  1.00 & 1.0000 & 0 & 332294459 & auto-renewal & unrealized & Not Renewd & 2020-07-26 & 25 & 6.45 & hipicanarias           & 1 &  3 & 12 & l        & 12l        & online &  0.0000000 & onlinenominalia\\\\\n",
       "\t FirstTime & 1 & 2020-08-22 & 2019-08-22 & Active & 118987766 & accespoint.online             & eNom & Nominalia & Spain & NA & 1 &  1.00 & 1.0000 & 0 & 339261374 & auto-renewal & unrealized & Not Renewd & 2020-08-22 & 25 & 5.98 & accespoint             & 1 &  5 & 10 & l        & 10l        & online &  0.0000000 & onlinenominalia\\\\\n",
       "\t FirstTime & 1 & 2020-01-11 & 2019-01-11 & Active &  90632548 & asmfilm.online                & eNom & Nominalia & Spain & NA & 1 &  1.00 & 1.0000 & 0 & 242854040 & transfer     & NA         & Renewed    & 2019-10-23 & 25 & 1.85 & asmfilm                & 1 &  6 &  7 & l        & 7l         & online &  0.0000000 & onlinenominalia\\\\\n",
       "\t ⋮ & ⋮ & ⋮ & ⋮ & ⋮ & ⋮ & ⋮ & ⋮ & ⋮ & ⋮ & ⋮ & ⋮ & ⋮ & ⋮ & ⋮ & ⋮ & ⋮ & ⋮ & ⋮ & ⋮ & ⋮ & ⋮ & ⋮ & ⋮ & ⋮ & ⋮ & ⋮ & ⋮ & ⋮ & ⋮ & ⋮\\\\\n",
       "\t FirstTime & 1 & 2020-07-28 & 2019-07-28 & Active & 114379086 & tuslentillas.online               & eNom & Nominalia & Spain & NA & 1 & -0.68 & 0.0001 & 0 & 332814984 & auto-renewal & unrealized & Not Renewd & 2020-07-28 & 25 &  7.07 & tuslentillas               & 1 &  1 & 12 & l        & 12l        & online & -9.2103404 & onlinenominalia\\\\\n",
       "\t FirstTime & 1 & 2019-08-01 & 2018-08-01 & Active &  73398884 & migestorsalud.online              & eNom & Nominalia & Spain & NA & 1 &  2.50 & 2.5000 & 0 & 218804251 & auto-renewal & unrealized & Not Renewd & 2019-08-01 & 25 &  6.04 & migessalud                 & 2 &  4 & 13 & l        & 13l        & online &  0.9162907 & onlinenominalia\\\\\n",
       "\t FirstTime & 1 & 2019-09-05 & 2018-09-05 & Active &  75891404 & kanangaviaggi.online              & eNom & Nominalia & Spain & NA & 1 &  2.50 & 2.5000 & 0 & 222905706 & renewal      & NA         & Renewed    & 2019-08-16 & 25 &  5.08 & kanangaviaggi              & 1 &  4 & 13 & l        & 13l        & online &  0.9162907 & onlinenominalia\\\\\n",
       "\t FirstTime & 1 & 2020-05-21 & 2019-05-21 & Active & 104241506 & airsoftalgemesi.online            & eNom & Nominalia & Spain & NA & 1 & -0.68 & 0.0001 & 0 & 316488299 & auto-renewal & unrealized & Not Renewd & 2020-05-21 & 25 &  4.67 & saigomaretig               & 2 & 87 & 15 & l        & 15l        & online & -9.2103404 & onlinenominalia\\\\\n",
       "\t FirstTime & 1 & 2019-10-26 & 2018-10-26 & Active &  80423814 & perrichicos.online                & eNom & Nominalia & Spain & NA & 1 &  2.50 & 2.5000 & 0 & 244016045 & auto-renewal & unrealized & Not Renewd & 2019-10-26 & 25 &  8.93 & perrichicos                & 1 & 13 & 11 & l        & 11l        & online &  0.9162907 & onlinenominalia\\\\\n",
       "\t FirstTime & 1 & 2020-03-07 & 2019-03-07 & Active &  95807459 & cosmeticanatural.online           & eNom & Nominalia & Spain & NA & 1 &  0.25 & 0.2500 & 0 & 297970509 & auto-renewal & unrealized & Not Renewd & 2020-03-07 & 25 &  7.09 & cosmeticanatural           & 1 &  9 & 16 & l        & 16l        & online & -1.3862944 & onlinenominalia\\\\\n",
       "\t FirstTime & 1 & 2019-10-22 & 2018-10-22 & Active &  79967054 & alanlash.online                   & eNom & Nominalia & Spain & NA & 1 &  2.50 & 2.5000 & 0 & 242689470 & auto-renewal & unrealized & Not Renewd & 2019-10-22 & 25 &  7.11 & alanlash                   & 1 &  9 &  8 & l        & 8l         & online &  0.9162907 & onlinenominalia\\\\\n",
       "\t FirstTime & 1 & 2020-03-25 & 2019-03-25 & Active &  97793974 & escuelablockchain.online          & eNom & Nominalia & Spain & NA & 1 &  0.25 & 0.2500 & 0 & 302477404 & auto-renewal & unrealized & Not Renewd & 2020-03-25 & 25 &  4.56 & clablockchain              & 3 &  7 & 17 & l        & 17l        & online & -1.3862944 & onlinenominalia\\\\\n",
       "\t FirstTime & 1 & 2019-11-26 & 2018-11-26 & Active &  84756232 & facetv.online                     & eNom & Nominalia & Spain & NA & 1 &  2.50 & 2.5000 & 0 & 258811916 & auto-renewal & unrealized & Not Renewd & 2019-11-26 & 25 &  1.50 & aetv                       & 2 &  5 &  6 & l        & 6l         & online &  0.9162907 & onlinenominalia\\\\\n",
       "\t FirstTime & 1 & 2019-08-30 & 2018-08-30 & Active &  75476079 & cocinas24.online                  & eNom & Nominalia & Spain & NA & 1 &  2.50 & 2.5000 & 0 & 226583316 & auto-renewal & unrealized & Not Renewd & 2019-08-30 & 25 &  7.09 & cocinas24                  & 1 &  2 &  9 & ln       & 9ln        & online &  0.9162907 & onlinenominalia\\\\\n",
       "\t FirstTime & 1 & 2019-10-11 & 2018-10-11 & Active &  78899169 & cosmusfitsports.online            & eNom & Nominalia & Spain & NA & 1 &  2.50 & 2.5000 & 0 & 239261670 & auto-renewal & unrealized & Not Renewd & 2019-10-11 & 25 &  4.17 & cosmusfitsports            & 1 &  2 & 15 & l        & 15l        & online &  0.9162907 & onlinenominalia\\\\\n",
       "\t FirstTime & 1 & 2020-05-21 & 2019-05-21 & Active & 104248621 & relojesdemoda.online              & eNom & Nominalia & Spain & NA & 1 & -0.68 & 0.0001 & 0 & 316488384 & auto-renewal & unrealized & Not Renewd & 2020-05-21 & 25 &  3.15 & relojesdemoda              & 1 & 87 & 13 & l        & 13l        & online & -9.2103404 & onlinenominalia\\\\\n",
       "\t FirstTime & 1 & 2019-09-25 & 2018-09-25 & Active &  77349134 & barcelonashopping.online          & eNom & Nominalia & Spain & NA & 1 &  2.50 & 2.5000 & 0 & 234137576 & auto-renewal & unrealized & Not Renewd & 2019-09-25 & 25 &  6.96 & barcelonashopping          & 1 &  4 & 17 & l        & 17l        & online &  0.9162907 & onlinenominalia\\\\\n",
       "\t FirstTime & 1 & 2020-08-19 & 2019-08-19 & Active & 118579151 & bravoplayacampingresort.online    & eNom & Nominalia & Spain & NA & 1 &  1.00 & 1.0000 & 0 & 333242904 & renewal      & NA         & Renewed    & 2020-07-30 & 25 &  6.34 & bravoplayaror              & 3 &  6 & 23 & l        & 23l        & online &  0.0000000 & onlinenominalia\\\\\n",
       "\t FirstTime & 1 & 2020-04-28 & 2019-04-28 & Active & 102227759 & product-reviews.online            & eNom & Nominalia & Spain & NA & 1 &  1.00 & 1.0000 & 0 & 311840404 & auto-renewal & unrealized & Not Renewd & 2020-04-28 & 25 &  4.37 & product-reviews            & 1 & 25 & 15 & hyphen-l & 15hyphen-l & online &  0.0000000 & onlinenominalia\\\\\n",
       "\t FirstTime & 1 & 2020-07-19 & 2019-07-19 & Active & 113219786 & cowit.online                      & eNom & Nominalia & Spain & NA & 1 &  1.00 & 1.0000 & 0 & 330507704 & auto-renewal & unrealized & Not Renewd & 2020-07-19 & 25 & 11.64 & cowit                      & 1 &  3 &  5 & l        & 5l         & online &  0.0000000 & onlinenominalia\\\\\n",
       "\t FirstTime & 1 & 2020-04-08 & 2019-04-08 & Active &  99182784 & orgullogaystores.online           & eNom & Nominalia & Spain & NA & 1 &  1.00 & 1.0000 & 0 & 305981529 & auto-renewal & unrealized & Not Renewd & 2020-04-08 & 25 &  6.05 & orgullogaystores           & 1 &  3 & 16 & l        & 16l        & online &  0.0000000 & onlinenominalia\\\\\n",
       "\t FirstTime & 1 & 2020-01-18 & 2019-01-18 & Active &  91311218 & sagradafamiliatickets.online      & eNom & Nominalia & Spain & NA & 1 &  1.00 & 1.0000 & 0 & 266892821 & renewal      & NA         & Renewed    & 2019-12-16 & 25 &  4.81 & sagradafamiliatickets      & 1 &  2 & 21 & l        & 21l        & online &  0.0000000 & onlinenominalia\\\\\n",
       "\t FirstTime & 1 & 2019-11-14 & 2018-11-14 & Active &  83358664 & cajaherramientas.online           & eNom & Nominalia & Spain & NA & 1 &  1.00 & 1.0000 & 0 & 254346505 & auto-renewal & unrealized & Not Renewd & 2019-11-14 & 25 &  4.49 & cajaherramientas           & 1 &  2 & 16 & l        & 16l        & online &  0.0000000 & onlinenominalia\\\\\n",
       "\t FirstTime & 1 & 2019-11-15 & 2018-11-15 & Active &  83427159 & amuletospara.online               & eNom & Nominalia & Spain & NA & 1 &  1.00 & 1.0000 & 0 & 243890760 & renewal      & NA         & Renewed    & 2019-10-26 & 25 &  5.73 & amuletospara               & 1 &  7 & 12 & l        & 12l        & online &  0.0000000 & onlinenominalia\\\\\n",
       "\t FirstTime & 1 & 2020-05-30 & 2019-05-30 & Active & 105596476 & havanalaw.online                  & eNom & Nominalia & Spain & NA & 1 & -0.68 & 0.0001 & 0 & 317077424 & renewal      & NA         & Renewed    & 2020-05-24 & 25 &  5.86 & havanalaw                  & 1 & 15 &  9 & l        & 9l         & online & -9.2103404 & onlinenominalia\\\\\n",
       "\t FirstTime & 1 & 2020-02-27 & 2019-02-27 & Active &  94959309 & gamecracker.online                & eNom & Nominalia & Spain & NA & 1 &  0.25 & 0.2500 & 0 & 295536509 & auto-renewal & unrealized & Not Renewd & 2020-02-27 & 25 &  6.65 & gamecracker                & 1 &  5 & 11 & l        & 11l        & online & -1.3862944 & onlinenominalia\\\\\n",
       "\t FirstTime & 1 & 2020-05-27 & 2019-05-27 & Active & 105090646 & revisteria.online                 & eNom & Nominalia & Spain & NA & 1 & -0.68 & 0.0001 & 0 & 317987274 & auto-renewal & unrealized & Not Renewd & 2020-05-27 & 25 &  8.83 & revisteria                 & 1 & 20 & 10 & l        & 10l        & online & -9.2103404 & onlinenominalia\\\\\n",
       "\t FirstTime & 1 & 2020-05-14 & 2019-05-14 & Active & 103564191 & propietatsluxury.online           & eNom & Nominalia & Spain & NA & 1 & -0.68 & 0.0001 & 0 & 315002559 & auto-renewal & unrealized & Not Renewd & 2020-05-14 & 25 &  3.17 & propietatsluxury           & 1 & 10 & 16 & l        & 16l        & online & -9.2103404 & onlinenominalia\\\\\n",
       "\t FirstTime & 1 & 2020-04-23 & 2019-04-23 & Active & 101406444 & thebestoportunity.online          & eNom & Nominalia & Spain & NA & 1 & -0.68 & 0.0001 & 0 & 310222574 & auto-renewal & unrealized & Not Renewd & 2020-04-23 & 25 &  6.65 & thebestoportunity          & 1 &  6 & 17 & l        & 17l        & online & -9.2103404 & onlinenominalia\\\\\n",
       "\t FirstTime & 1 & 2020-06-28 & 2019-06-28 & Active & 110432516 & ingdesign.online                  & eNom & Nominalia & Spain & NA & 1 & -0.68 & 0.0001 & 0 & 325495544 & auto-renewal & realized   & Renewed    & 2020-06-28 & 25 &  4.40 & ingdesign                  & 1 &  5 &  9 & l        & 9l         & online & -9.2103404 & onlinenominalia\\\\\n",
       "\t FirstTime & 1 & 2020-05-15 & 2019-05-15 & Active & 103680276 & cmdradio.online                   & eNom & Nominalia & Spain & NA & 1 & -0.68 & 0.0001 & 0 & 315209189 & auto-renewal & unrealized & Not Renewd & 2020-05-15 & 25 &  1.14 & cmdradio                   & 1 & 10 &  8 & l        & 8l         & online & -9.2103404 & onlinenominalia\\\\\n",
       "\t FirstTime & 1 & 2019-06-04 & 2018-06-04 & Active &  69159330 & sintagma.online                   & eNom & Nominalia & Spain & NA & 1 &  2.50 & 2.5000 & 0 & 205806591 & auto-renewal & unrealized & Not Renewd & 2019-06-04 & 25 &  4.74 & sintagma                   & 1 &  1 &  8 & l        & 8l         & online &  0.9162907 & onlinenominalia\\\\\n",
       "\t FirstTime & 1 & 2020-08-09 & 2019-08-09 & Active & 116582866 & topcavalls.online                 & eNom & Nominalia & Spain & NA & 1 & -0.68 & 0.0001 & 0 & 334755484 & renewal      & NA         & Renewed    & 2020-08-05 & 25 &  3.69 & topcavalls                 & 1 &  6 & 10 & l        & 10l        & online & -9.2103404 & onlinenominalia\\\\\n",
       "\t FirstTime & 1 & 2020-06-28 & 2019-06-28 & Active & 110438031 & avantio.online                    & eNom & Nominalia & Spain & NA & 1 & -0.68 & 0.0001 & 0 & 324748044 & renewal      & NA         & Renewed    & 2020-06-25 & 25 &  7.93 & avantio                    & 1 &  5 &  7 & l        & 7l         & online & -9.2103404 & onlinenominalia\\\\\n",
       "\t FirstTime & 1 & 2020-03-15 & 2019-03-15 & Active &  96800624 & barcelona-eventos.online          & eNom & Nominalia & Spain & NA & 1 &  0.25 & 0.2500 & 0 & 300179904 & auto-renewal & unrealized & Not Renewd & 2020-03-15 & 25 &  5.68 & barcelona-eventos          & 1 &  7 & 17 & hyphen-l & 17hyphen-l & online & -1.3862944 & onlinenominalia\\\\\n",
       "\t FirstTime & 1 & 2020-05-06 & 2019-05-06 & Active & 102878384 & femsantamariademartorelles.online & eNom & Nominalia & Spain & NA & 1 & -0.68 & 0.0001 & 0 & 313393419 & auto-renewal & unrealized & Not Renewd & 2020-05-06 & 25 &  7.27 & femsantamariademartorelles & 1 & 10 & 26 & l        & 26l        & online & -9.2103404 & onlinenominalia\\\\\n",
       "\t FirstTime & 1 & 2019-10-14 & 2018-10-14 & Active &  79060779 & latiendadelrodapie.online         & eNom & Nominalia & Spain & NA & 1 &  2.50 & 2.5000 & 0 & 240374025 & auto-renewal & unrealized & Not Renewd & 2019-10-14 &  0 &  4.82 & latiendadelrodapie         & 1 &  1 & 18 & l        & 18l        & online &  0.9162907 & onlinenominalia\\\\\n",
       "\t FirstTime & 1 & 2019-10-26 & 2018-10-26 & Active &  80473269 & bancoin.online                    & eNom & Nominalia & Spain & NA & 1 &  2.50 & 2.5000 & 0 & 244065605 & auto-renewal & unrealized & Not Renewd & 2019-10-26 & 25 &  8.78 & bancoin                    & 1 & 13 &  7 & l        & 7l         & online &  0.9162907 & onlinenominalia\\\\\n",
       "\t FirstTime & 1 & 2020-05-22 & 2019-05-22 & Active & 104341036 & myappis.online                    & eNom & Nominalia & Spain & NA & 1 & -0.68 & 0.0001 & 0 & 316697729 & auto-renewal & unrealized & Not Renewd & 2020-05-22 & 25 &  4.44 & myappis                    & 1 & 61 &  7 & l        & 7l         & online & -9.2103404 & onlinenominalia\\\\\n",
       "\t FirstTime & 1 & 2020-02-28 & 2019-02-28 & Active &  95021079 & distecno.online                   & eNom & Nominalia & Spain & NA & 1 &  0.25 & 0.2500 & 0 & 289792646 & renewal      & NA         & Renewed    & 2020-02-08 & 25 &  3.06 & distecno                   & 1 &  5 &  8 & l        & 8l         & online & -1.3862944 & onlinenominalia\\\\\n",
       "\t FirstTime & 1 & 2020-03-13 & 2019-03-13 & Active &  96549209 & soloseviveunavez.online           & eNom & Nominalia & Spain & NA & 1 &  0.25 & 0.2500 & 0 & 299777124 & auto-renewal & unrealized & Not Renewd & 2020-03-13 & 25 &  4.06 & soloseviveunavez           & 1 &  5 & 16 & l        & 16l        & online & -1.3862944 & onlinenominalia\\\\\n",
       "\t FirstTime & 1 & 2020-03-26 & 2019-03-26 & Active &  98054384 & dropshippingexclusive.online      & eNom & Nominalia & Spain & NA & 1 &  0.25 & 0.2500 & 0 & 302763644 & auto-renewal & unrealized & Not Renewd & 2020-03-26 & 25 &  5.76 & dropshippingexclusive      & 1 &  5 & 21 & l        & 21l        & online & -1.3862944 & onlinenominalia\\\\\n",
       "\t FirstTime & 1 & 2019-10-24 & 2018-10-24 & Active &  80257554 & pelisdvd.online                   & eNom & Nominalia & Spain & NA & 1 &  2.50 & 2.5000 & 0 & 243535535 & auto-renewal & unrealized & Not Renewd & 2019-10-24 & 25 &  1.29 & pelisdvd                   & 1 & 14 &  8 & l        & 8l         & online &  0.9162907 & onlinenominalia\\\\\n",
       "\t FirstTime & 1 & 2020-05-05 & 2019-05-05 & Active & 102831659 & barcelonacheap.online             & eNom & Nominalia & Spain & NA & 1 & -0.68 & 0.0001 & 0 & 313193869 & auto-renewal & unrealized & Not Renewd & 2020-05-05 & 25 &  6.86 & barcelonacheap             & 1 &  6 & 14 & l        & 14l        & online & -9.2103404 & onlinenominalia\\\\\n",
       "\t FirstTime & 1 & 2020-06-17 & 2019-06-17 & Active & 108096576 & gerardnicasi.online               & eNom & Nominalia & Spain & NA & 1 & -0.68 & 0.0001 & 0 & 322747139 & auto-renewal & unrealized & Not Renewd & 2020-06-17 & 25 &  5.56 & gerardnicasi               & 1 &  8 & 12 & l        & 12l        & online & -9.2103404 & onlinenominalia\\\\\n",
       "\t FirstTime & 1 & 2020-06-12 & 2019-06-12 & Active & 107632876 & traumatologiaveterinaria.online   & eNom & Nominalia & Spain & NA & 1 &  1.00 & 1.0000 & 0 & 321700364 & auto-renewal & unrealized & Not Renewd & 2020-06-12 & 25 &  5.80 & traumatologiaveterinaria   & 1 &  5 & 24 & l        & 24l        & online &  0.0000000 & onlinenominalia\\\\\n",
       "\t FirstTime & 1 & 2020-08-14 & 2019-08-14 & Active & 117531731 & cambiodenombre.online             & eNom & Nominalia & Spain & NA & 1 &  1.00 & 1.0000 & 0 & 332013704 & renewal      & NA         & Renewed    & 2020-07-25 & 25 &  5.64 & cambiodenombre             & 1 &  2 & 14 & l        & 14l        & online &  0.0000000 & onlinenominalia\\\\\n",
       "\t FirstTime & 1 & 2020-04-19 & 2019-04-19 & Active & 100879829 & carepik.online                    & eNom & Nominalia & Spain & NA & 1 &  1.00 & 1.0000 & 0 & 309050504 & auto-renewal & unrealized & Not Renewd & 2020-04-19 & 25 &  4.87 & carepik                    & 1 &  1 &  7 & l        & 7l         & online &  0.0000000 & onlinenominalia\\\\\n",
       "\t FirstTime & 1 & 2020-06-17 & 2019-06-17 & Active & 108067056 & irestaurant.online                & eNom & Nominalia & Spain & NA & 1 &  1.00 & 1.0000 & 0 & 322747044 & auto-renewal & unrealized & Not Renewd & 2020-06-17 & 25 &  7.82 & irestaurant                & 1 &  8 & 11 & l        & 11l        & online &  0.0000000 & onlinenominalia\\\\\n",
       "\t FirstTime & 1 & 2020-07-03 & 2019-07-03 & Active & 111375526 & appsom.online                     & eNom & Nominalia & Spain & NA & 1 &  1.00 & 1.0000 & 0 & 326913624 & auto-renewal & realized   & Renewed    & 2020-07-03 & 25 &  3.82 & appsom                     & 2 &  5 &  6 & l        & 6l         & online &  0.0000000 & onlinenominalia\\\\\n",
       "\t FirstTime & 1 & 2020-06-11 & 2019-06-11 & Active & 107479791 & rockmantic.online                 & eNom & Nominalia & Spain & NA & 1 &  1.00 & 1.0000 & 0 & 321441669 & auto-renewal & unrealized & Not Renewd & 2020-06-11 & 25 &  5.14 & rockmantic                 & 1 &  4 & 10 & l        & 10l        & online &  0.0000000 & onlinenominalia\\\\\n",
       "\t FirstTime & 1 & 2020-08-18 & 2019-08-18 & Active & 118468706 & cintadecorrer.online              & eNom & Nominalia & Spain & NA & 1 &  1.00 & 1.0000 & 0 & 338356969 & auto-renewal & unrealized & Not Renewd & 2020-08-18 & 25 &  8.77 & cintadecorrer              & 1 &  3 & 13 & l        & 13l        & online &  0.0000000 & onlinenominalia\\\\\n",
       "\t FirstTime & 1 & 2020-01-04 & 2019-01-04 & Active &  89679837 & hostics.online                    & eNom & Nominalia & Spain & NA & 1 &  1.00 & 1.0000 & 0 & 264874796 & renewal      & NA         & Renewed    & 2019-12-11 & 25 &  4.19 & hostics                    & 1 &  6 &  7 & l        & 7l         & online &  0.0000000 & onlinenominalia\\\\\n",
       "\t FirstTime & 1 & 2020-06-29 & 2019-06-29 & Active & 110714316 & tu-recarga.online                 & eNom & Nominalia & Spain & NA & 1 &  1.00 & 1.0000 & 0 & 320905874 & renewal      & NA         & Renewed    & 2020-06-09 & 25 &  6.12 & recarg                     & 2 &  2 & 10 & hyphen-l & 10hyphen-l & online &  0.0000000 & onlinenominalia\\\\\n",
       "\\end{tabular}\n"
      ],
      "text/markdown": [
       "**$onlinenominalia** = \n",
       "A tibble: 303 × 31\n",
       "\n",
       "| renewal_type &lt;chr&gt; | renewed_count &lt;int&gt; | expiry_date &lt;date&gt; | creation_date &lt;date&gt; | status &lt;chr&gt; | domain_id &lt;int&gt; | domain &lt;chr&gt; | registrar &lt;chr&gt; | reseller &lt;chr&gt; | reseller_country &lt;chr&gt; | registrant_country &lt;chr&gt; | reg_period &lt;int&gt; | reg_revenue &lt;dbl&gt; | reg_arpt &lt;dbl&gt; | renew_mbg &lt;int&gt; | renewal_item_id &lt;int&gt; | renew_type &lt;chr&gt; | autorenew_type &lt;chr&gt; | renewal_status &lt;chr&gt; | renew_date &lt;date&gt; | renew_arpt &lt;dbl&gt; | gibb_score &lt;dbl&gt; | pattern &lt;chr&gt; | pattern_domain_count &lt;int&gt; | day_domains &lt;int&gt; | sld_length &lt;int&gt; | sld_type &lt;chr&gt; | sld_type2 &lt;chr&gt; | tld &lt;chr&gt; | log_reg_arpt &lt;dbl&gt; | tld_registrar_index &lt;chr&gt; |\n",
       "|---|---|---|---|---|---|---|---|---|---|---|---|---|---|---|---|---|---|---|---|---|---|---|---|---|---|---|---|---|---|---|\n",
       "| FirstTime | 1 | 2020-05-27 | 2019-05-27 | Active | 105061141 | franckneon.online             | eNom | Nominalia | Spain | NA | 1 | -0.68 | 0.0001 | 0 | 317953164 | renewal      | NA         | Renewed    | 2020-05-27 | 25 | 6.33 | franckneon             | 1 | 20 | 10 | l        | 10l        | online | -9.2103404 | onlinenominalia |\n",
       "| FirstTime | 1 | 2020-05-23 | 2019-05-23 | Active | 104435711 | colorazul.online              | eNom | Nominalia | Spain | NA | 1 | -0.68 | 0.0001 | 0 | 316910279 | auto-renewal | unrealized | Not Renewd | 2020-05-23 | 25 | 4.96 | colorazul              | 1 | 28 |  9 | l        | 9l         | online | -9.2103404 | onlinenominalia |\n",
       "| FirstTime | 1 | 2020-05-07 | 2019-05-07 | Active | 102996654 | conartes.online               | eNom | Nominalia | Spain | NA | 1 | -0.68 | 0.0001 | 0 | 313607004 | auto-renewal | unrealized | Not Renewd | 2020-05-07 | 25 | 8.60 | castest                | 2 | 11 |  8 | l        | 8l         | online | -9.2103404 | onlinenominalia |\n",
       "| FirstTime | 1 | 2019-07-05 | 2018-07-05 | Active |  71442585 | dwit.online                   | eNom | Nominalia | Spain | NA | 1 |  2.50 | 2.5000 | 0 | 208606286 | renewal      | NA         | Renewed    | 2019-06-15 | 25 | 2.61 | dwit                   | 1 |  1 |  4 | l        | 4l         | online |  0.9162907 | onlinenominalia |\n",
       "| FirstTime | 1 | 2020-05-18 | 2019-05-18 | Active | 103921211 | amercar.online                | eNom | Nominalia | Spain | NA | 1 | -0.68 | 0.0001 | 0 | 315854654 | auto-renewal | unrealized | Not Renewd | 2020-05-18 | 25 | 7.31 | amercar                | 1 |  8 |  7 | l        | 7l         | online | -9.2103404 | onlinenominalia |\n",
       "| FirstTime | 1 | 2020-05-24 | 2019-05-24 | Active | 104676781 | nutsana.online                | eNom | Nominalia | Spain | NA | 1 | -0.68 | 0.0001 | 0 | 317210254 | auto-renewal | unrealized | Not Renewd | 2020-05-24 | 25 | 4.40 | nutsana                | 1 | 21 |  7 | l        | 7l         | online | -9.2103404 | onlinenominalia |\n",
       "| FirstTime | 1 | 2020-08-20 | 2019-08-20 | Active | 118702881 | promosalus.online             | eNom | Nominalia | Spain | NA | 1 | -0.68 | 0.0001 | 0 | 337346304 | renewal      | NA         | Renewed    | 2020-08-14 | 25 | 6.92 | promosalus             | 1 |  7 | 10 | l        | 10l        | online | -9.2103404 | onlinenominalia |\n",
       "| FirstTime | 1 | 2019-11-08 | 2018-11-08 | Active |  82199594 | dfcvalencia2019.online        | eNom | Nominalia | Spain | NA | 1 |  2.50 | 2.5000 | 0 | 248747315 | auto-renewal | unrealized | Not Renewd | 2019-11-08 | 25 | 1.40 | dfcvalencia            | 2 |  2 | 15 | ln       | 15ln       | online |  0.9162907 | onlinenominalia |\n",
       "| FirstTime | 1 | 2020-05-08 | 2019-05-08 | Active | 103070494 | dawnofthekingdoms.online      | eNom | Nominalia | Spain | NA | 1 | -0.68 | 0.0001 | 0 | 313804159 | auto-renewal | unrealized | Not Renewd | 2020-05-08 | 25 | 4.28 | dawnofthekingdoms      | 1 |  8 | 17 | l        | 17l        | online | -9.2103404 | onlinenominalia |\n",
       "| FirstTime | 1 | 2020-04-11 | 2019-04-11 | Active |  99640159 | marcosescorche.online         | eNom | Nominalia | Spain | NA | 1 | -0.68 | 0.0001 | 0 | 306735029 | auto-renewal | unrealized | Not Renewd | 2020-04-11 | 25 | 8.00 | marcosescorche         | 1 |  4 | 14 | l        | 14l        | online | -9.2103404 | onlinenominalia |\n",
       "| FirstTime | 1 | 2020-03-01 | 2019-03-01 | Active |  95126414 | emuladorandroid.online        | eNom | Nominalia | Spain | NA | 1 |  0.25 | 0.2500 | 0 | 296232384 | auto-renewal | unrealized | Not Renewd | 2020-03-01 | 25 | 5.91 | emuladorandroid        | 1 |  2 | 15 | l        | 15l        | online | -1.3862944 | onlinenominalia |\n",
       "| FirstTime | 1 | 2020-05-21 | 2019-05-21 | Active | 104220191 | veteadosdeextremadura.online  | eNom | Nominalia | Spain | NA | 1 | -0.68 | 0.0001 | 0 | 316487689 | auto-renewal | unrealized | Not Renewd | 2020-05-21 | 25 | 4.80 | veteadosdeextremadura  | 1 | 87 | 21 | l        | 21l        | online | -9.2103404 | onlinenominalia |\n",
       "| FirstTime | 1 | 2020-05-02 | 2019-05-02 | Active | 102632144 | encomupodemlh.online          | eNom | Nominalia | Spain | NA | 1 | -0.68 | 0.0001 | 0 | 312653694 | auto-renewal | unrealized | Not Renewd | 2020-05-02 | 25 | 2.94 | encomupodemlh          | 1 |  9 | 13 | l        | 13l        | online | -9.2103404 | onlinenominalia |\n",
       "| FirstTime | 1 | 2020-05-08 | 2019-05-08 | Active | 103103139 | teatroaragon.online           | eNom | Nominalia | Spain | NA | 1 | -0.68 | 0.0001 | 0 | 308787419 | renewal      | NA         | Renewed    | 2020-04-18 | 25 | 5.60 | teatroaragon           | 1 |  8 | 12 | l        | 12l        | online | -9.2103404 | onlinenominalia |\n",
       "| FirstTime | 1 | 2020-07-17 | 2019-07-17 | Active | 112914811 | hifismarthome.online          | eNom | Nominalia | Spain | NA | 1 |  1.00 | 1.0000 | 0 | 330008719 | auto-renewal | unrealized | Not Renewd | 2020-07-17 | 25 | 8.12 | hifismarthome          | 1 |  3 | 13 | l        | 13l        | online |  0.0000000 | onlinenominalia |\n",
       "| FirstTime | 1 | 2020-01-15 | 2019-01-15 | Active |  91030438 | marypoppins.online            | eNom | Nominalia | Spain | NA | 1 |  1.00 | 1.0000 | 0 | 280123696 | auto-renewal | unrealized | Not Renewd | 2020-01-15 | 25 | 6.12 | marypoppins            | 1 |  4 | 11 | l        | 11l        | online |  0.0000000 | onlinenominalia |\n",
       "| FirstTime | 1 | 2020-01-14 | 2019-01-14 | Active |  90881663 | ritmicasasaki.online          | eNom | Nominalia | Spain | NA | 1 |  1.00 | 1.0000 | 0 | 279637106 | auto-renewal | unrealized | Not Renewd | 2020-01-14 | 25 | 5.31 | ritmicasasaki          | 1 |  5 | 13 | l        | 13l        | online |  0.0000000 | onlinenominalia |\n",
       "| FirstTime | 1 | 2019-11-19 | 2018-11-19 | Active |  83946634 | tucuidasalud.online           | eNom | Nominalia | Spain | NA | 1 |  1.00 | 1.0000 | 0 | 256235410 | auto-renewal | unrealized | Not Renewd | 2019-11-19 | 25 | 3.48 | tucuidasalud           | 1 |  5 | 12 | l        | 12l        | online |  0.0000000 | onlinenominalia |\n",
       "| FirstTime | 1 | 2020-06-15 | 2019-06-15 | Active | 107941071 | rockmanticstore.online        | eNom | Nominalia | Spain | NA | 1 |  1.00 | 1.0000 | 0 | 322376329 | auto-renewal | unrealized | Not Renewd | 2020-06-15 | 25 | 5.50 | rockmanticstore        | 1 |  5 | 15 | l        | 15l        | online |  0.0000000 | onlinenominalia |\n",
       "| FirstTime | 1 | 2020-01-02 | 2019-01-02 | Active |  89423367 | clanes.online                 | eNom | Nominalia | Spain | NA | 1 |  1.00 | 1.0000 | 0 | 274143721 | auto-renewal | unrealized | Not Renewd | 2020-01-02 | 25 | 8.83 | clanes                 | 1 |  1 |  6 | l        | 6l         | online |  0.0000000 | onlinenominalia |\n",
       "| FirstTime | 1 | 2020-01-10 | 2019-01-10 | Active |  90600158 | gestioncolectiva.online       | eNom | Nominalia | Spain | NA | 1 |  1.00 | 1.0000 | 0 | 278177616 | auto-renewal | unrealized | Not Renewd | 2020-01-10 | 25 | 8.02 | gestioncolectiva       | 1 |  3 | 16 | l        | 16l        | online |  0.0000000 | onlinenominalia |\n",
       "| FirstTime | 1 | 2020-08-02 | 2019-08-02 | Active | 115264341 | cupra.online                  | eNom | Nominalia | Spain | NA | 1 |  1.00 | 1.0000 | 0 | 329377659 | renewal      | NA         | Renewed    | 2020-07-15 | 25 | 6.93 | cuprar                 | 3 |  5 |  5 | l        | 5l         | online |  0.0000000 | onlinenominalia |\n",
       "| FirstTime | 1 | 2020-08-12 | 2019-08-12 | Active | 117135601 | lovintrip.online              | eNom | Nominalia | Spain | NA | 1 |  1.00 | 1.0000 | 0 | 336881724 | auto-renewal | unrealized | Not Renewd | 2020-08-12 | 25 | 6.34 | lovintrip              | 1 |  4 |  9 | l        | 9l         | online |  0.0000000 | onlinenominalia |\n",
       "| FirstTime | 1 | 2020-04-16 | 2019-04-16 | Active | 100589079 | ponunmedico.online            | eNom | Nominalia | Spain | NA | 1 |  1.00 | 1.0000 | 0 | 302886099 | renewal      | NA         | Renewed    | 2020-03-27 | 25 | 6.40 | ponunine               | 2 |  3 | 11 | l        | 11l        | online |  0.0000000 | onlinenominalia |\n",
       "| FirstTime | 1 | 2020-07-10 | 2019-07-10 | Active | 112118701 | xdweb.online                  | eNom | Nominalia | Spain | NA | 1 | -0.68 | 0.0001 | 0 | 328383264 | auto-renewal | realized   | Renewed    | 2020-07-10 | 25 | 0.43 | xdweb                  | 1 |  9 |  5 | l        | 5l         | online | -9.2103404 | onlinenominalia |\n",
       "| FirstTime | 1 | 2020-05-27 | 2019-05-27 | Active | 105080546 | instrumentosdeviento.online   | eNom | Nominalia | Spain | NA | 1 | -0.68 | 0.0001 | 0 | 316671924 | transfer     | NA         | Renewed    | 2020-05-22 | 25 | 5.64 | instrumentosdeviento   | 1 | 20 | 20 | l        | 20l        | online | -9.2103404 | onlinenominalia |\n",
       "| FirstTime | 1 | 2020-07-05 | 2019-07-05 | Active | 111580786 | juancmmora.online             | eNom | Nominalia | Spain | NA | 1 | -0.68 | 0.0001 | 0 | 327263619 | auto-renewal | unrealized | Not Renewd | 2020-07-05 | 25 | 4.18 | juancmmora             | 1 |  7 | 10 | l        | 10l        | online | -9.2103404 | onlinenominalia |\n",
       "| FirstTime | 1 | 2020-08-27 | 2019-08-27 | Active | 119714356 | side-automatizacion.online    | eNom | Nominalia | Spain | NA | 1 | -0.68 | 0.0001 | 0 | 340445143 | auto-renewal | unrealized | Not Renewd | 2020-08-27 | 25 | 6.15 | side-automatizacion    | 1 |  6 | 19 | hyphen-l | 19hyphen-l | online | -9.2103404 | onlinenominalia |\n",
       "| FirstTime | 1 | 2020-07-08 | 2019-07-08 | Active | 111754906 | aritmos.online                | eNom | Nominalia | Spain | NA | 1 | -0.68 | 0.0001 | 0 | 322860949 | renewal      | NA         | Renewed    | 2020-06-18 | 25 | 4.66 | aritmos                | 1 |  5 |  7 | l        | 7l         | online | -9.2103404 | onlinenominalia |\n",
       "| FirstTime | 1 | 2020-05-08 | 2019-05-08 | Active | 103071709 | farmazone.online              | eNom | Nominalia | Spain | NA | 1 | -0.68 | 0.0001 | 0 | 313804174 | auto-renewal | unrealized | Not Renewd | 2020-05-08 | 25 | 5.49 | farmazone              | 1 |  8 |  9 | l        | 9l         | online | -9.2103404 | onlinenominalia |\n",
       "| FirstTime | 1 | 2020-05-21 | 2019-05-21 | Active | 104220526 | matiaskupfer.online           | eNom | Nominalia | Spain | NA | 1 | -0.68 | 0.0001 | 0 | 316487704 | auto-renewal | unrealized | Not Renewd | 2020-05-21 | 25 | 4.37 | matiaskupfer           | 1 | 87 | 12 | l        | 12l        | online | -9.2103404 | onlinenominalia |\n",
       "| FirstTime | 1 | 2020-05-16 | 2019-05-16 | Active | 103725456 | bentofood.online              | eNom | Nominalia | Spain | NA | 1 | -0.68 | 0.0001 | 0 | 315415179 | auto-renewal | unrealized | Not Renewd | 2020-05-16 | 25 | 8.37 | bentofood              | 1 | 13 |  9 | l        | 9l         | online | -9.2103404 | onlinenominalia |\n",
       "| FirstTime | 1 | 2020-05-22 | 2019-05-22 | Active | 104320961 | softweber.online              | eNom | Nominalia | Spain | NA | 1 | -0.68 | 0.0001 | 0 | 316697459 | auto-renewal | unrealized | Not Renewd | 2020-05-22 | 25 | 4.39 | sotebe                 | 2 | 61 |  9 | l        | 9l         | online | -9.2103404 | onlinenominalia |\n",
       "| FirstTime | 1 | 2020-05-23 | 2019-05-23 | Active | 104438026 | construfi.online              | eNom | Nominalia | Spain | NA | 1 | -0.68 | 0.0001 | 0 | 316910294 | auto-renewal | unrealized | Not Renewd | 2020-05-23 | 25 | 5.33 | construfi              | 1 | 28 |  9 | l        | 9l         | online | -9.2103404 | onlinenominalia |\n",
       "| FirstTime | 1 | 2019-06-29 | 2018-06-29 | Active |  71141555 | libardodiazmorelo.online      | eNom | Nominalia | Spain | NA | 1 |  2.50 | 2.5000 | 0 | 212185631 | auto-renewal | unrealized | Not Renewd | 2019-06-29 | 25 | 4.08 | libardodiazmorelo      | 1 |  1 | 17 | l        | 17l        | online |  0.9162907 | onlinenominalia |\n",
       "| FirstTime | 1 | 2020-05-22 | 2019-05-22 | Active | 104366476 | artedelguadalquivir.online    | eNom | Nominalia | Spain | NA | 1 | -0.68 | 0.0001 | 0 | 316697954 | auto-renewal | unrealized | Not Renewd | 2020-05-22 | 25 | 3.29 | artedelguadalquivir    | 1 | 61 | 19 | l        | 19l        | online | -9.2103404 | onlinenominalia |\n",
       "| FirstTime | 1 | 2019-10-24 | 2018-10-24 | Active |  80257249 | silosenoemprendo.online       | eNom | Nominalia | Spain | NA | 1 |  2.50 | 2.5000 | 0 | 243535245 | auto-renewal | unrealized | Not Renewd | 2019-10-24 | 25 | 6.18 | silosenoemprendo       | 1 | 14 | 16 | l        | 16l        | online |  0.9162907 | onlinenominalia |\n",
       "| FirstTime | 1 | 2020-05-21 | 2019-05-21 | Active | 104232716 | eurovia.online                | eNom | Nominalia | Spain | NA | 1 | -0.68 | 0.0001 | 0 | 316488109 | auto-renewal | unrealized | Not Renewd | 2020-05-21 | 25 | 4.02 | euoa                   | 2 | 87 |  7 | l        | 7l         | online | -9.2103404 | onlinenominalia |\n",
       "| FirstTime | 1 | 2019-07-25 | 2018-07-25 | Active |  72826649 | genomica.online               | eNom | Nominalia | Spain | NA | 1 |  2.50 | 2.5000 | 0 | 213354461 | renewal      | NA         | Renewed    | 2019-07-05 | 25 | 8.37 | genomica               | 1 |  2 |  8 | l        | 8l         | online |  0.9162907 | onlinenominalia |\n",
       "| FirstTime | 1 | 2020-02-21 | 2019-02-21 | Active |  94417764 | locafm.online                 | eNom | Nominalia | Spain | NA | 1 |  0.25 | 0.2500 | 0 | 293845649 | auto-renewal | unrealized | Not Renewd | 2020-02-21 | 25 | 1.14 | locafm                 | 1 |  4 |  6 | l        | 6l         | online | -1.3862944 | onlinenominalia |\n",
       "| FirstTime | 1 | 2020-05-21 | 2019-05-21 | Active | 104241501 | equilibriocorporal.online     | eNom | Nominalia | Spain | NA | 1 | -0.68 | 0.0001 | 0 | 316488294 | auto-renewal | unrealized | Not Renewd | 2020-05-21 | 25 | 5.10 | equilibriocorporal     | 1 | 87 | 18 | l        | 18l        | online | -9.2103404 | onlinenominalia |\n",
       "| FirstTime | 1 | 2020-05-15 | 2019-05-15 | Active | 103688431 | buildupweb.online             | eNom | Nominalia | Spain | NA | 1 | -0.68 | 0.0001 | 0 | 315209334 | auto-renewal | unrealized | Not Renewd | 2020-05-15 | 25 | 2.24 | buildupweb             | 1 | 10 | 10 | l        | 10l        | online | -9.2103404 | onlinenominalia |\n",
       "| FirstTime | 1 | 2020-05-23 | 2019-05-23 | Active | 104473681 | estilosdevidasaludable.online | eNom | Nominalia | Spain | NA | 1 | -0.68 | 0.0001 | 0 | 312728404 | renewal      | NA         | Renewed    | 2020-05-03 | 25 | 4.37 | estilosdevidasaludable | 1 | 28 | 22 | l        | 22l        | online | -9.2103404 | onlinenominalia |\n",
       "| FirstTime | 1 | 2020-07-11 | 2019-07-11 | Active | 112245396 | wordshop.online               | eNom | Nominalia | Spain | NA | 1 |  1.00 | 1.0000 | 0 | 328704629 | auto-renewal | unrealized | Not Renewd | 2020-07-11 | 25 | 4.62 | wordshop               | 1 |  7 |  8 | l        | 8l         | online |  0.0000000 | onlinenominalia |\n",
       "| FirstTime | 1 | 2020-01-25 | 2019-01-25 | Active |  91918973 | 180creativa.online            | eNom | Nominalia | Spain | NA | 1 |  1.00 | 1.0000 | 0 | 284636951 | auto-renewal | unrealized | Not Renewd | 2020-01-25 | 25 | 7.12 | 180creativa            | 1 |  5 | 11 | ln       | 11ln       | online |  0.0000000 | onlinenominalia |\n",
       "| FirstTime | 1 | 2020-06-20 | 2019-06-20 | Active | 109061971 | carolleclinic.online          | eNom | Nominalia | Spain | NA | 1 |  1.00 | 1.0000 | 0 | 323431814 | auto-renewal | unrealized | Not Renewd | 2020-06-20 | 25 | 7.97 | carolleclinic          | 1 |  5 | 13 | l        | 13l        | online |  0.0000000 | onlinenominalia |\n",
       "| FirstTime | 1 | 2020-01-26 | 2019-01-26 | Active |  91980368 | iluminaled.online             | eNom | Nominalia | Spain | NA | 1 |  1.00 | 1.0000 | 0 | 275401326 | renewal      | NA         | Renewed    | 2020-01-06 | 25 | 6.82 | iluminaled             | 1 |  3 | 10 | l        | 10l        | online |  0.0000000 | onlinenominalia |\n",
       "| FirstTime | 1 | 2020-07-26 | 2019-07-26 | Active | 114255696 | hipicanarias.online           | eNom | Nominalia | Spain | NA | 1 |  1.00 | 1.0000 | 0 | 332294459 | auto-renewal | unrealized | Not Renewd | 2020-07-26 | 25 | 6.45 | hipicanarias           | 1 |  3 | 12 | l        | 12l        | online |  0.0000000 | onlinenominalia |\n",
       "| FirstTime | 1 | 2020-08-22 | 2019-08-22 | Active | 118987766 | accespoint.online             | eNom | Nominalia | Spain | NA | 1 |  1.00 | 1.0000 | 0 | 339261374 | auto-renewal | unrealized | Not Renewd | 2020-08-22 | 25 | 5.98 | accespoint             | 1 |  5 | 10 | l        | 10l        | online |  0.0000000 | onlinenominalia |\n",
       "| FirstTime | 1 | 2020-01-11 | 2019-01-11 | Active |  90632548 | asmfilm.online                | eNom | Nominalia | Spain | NA | 1 |  1.00 | 1.0000 | 0 | 242854040 | transfer     | NA         | Renewed    | 2019-10-23 | 25 | 1.85 | asmfilm                | 1 |  6 |  7 | l        | 7l         | online |  0.0000000 | onlinenominalia |\n",
       "| ⋮ | ⋮ | ⋮ | ⋮ | ⋮ | ⋮ | ⋮ | ⋮ | ⋮ | ⋮ | ⋮ | ⋮ | ⋮ | ⋮ | ⋮ | ⋮ | ⋮ | ⋮ | ⋮ | ⋮ | ⋮ | ⋮ | ⋮ | ⋮ | ⋮ | ⋮ | ⋮ | ⋮ | ⋮ | ⋮ | ⋮ |\n",
       "| FirstTime | 1 | 2020-07-28 | 2019-07-28 | Active | 114379086 | tuslentillas.online               | eNom | Nominalia | Spain | NA | 1 | -0.68 | 0.0001 | 0 | 332814984 | auto-renewal | unrealized | Not Renewd | 2020-07-28 | 25 |  7.07 | tuslentillas               | 1 |  1 | 12 | l        | 12l        | online | -9.2103404 | onlinenominalia |\n",
       "| FirstTime | 1 | 2019-08-01 | 2018-08-01 | Active |  73398884 | migestorsalud.online              | eNom | Nominalia | Spain | NA | 1 |  2.50 | 2.5000 | 0 | 218804251 | auto-renewal | unrealized | Not Renewd | 2019-08-01 | 25 |  6.04 | migessalud                 | 2 |  4 | 13 | l        | 13l        | online |  0.9162907 | onlinenominalia |\n",
       "| FirstTime | 1 | 2019-09-05 | 2018-09-05 | Active |  75891404 | kanangaviaggi.online              | eNom | Nominalia | Spain | NA | 1 |  2.50 | 2.5000 | 0 | 222905706 | renewal      | NA         | Renewed    | 2019-08-16 | 25 |  5.08 | kanangaviaggi              | 1 |  4 | 13 | l        | 13l        | online |  0.9162907 | onlinenominalia |\n",
       "| FirstTime | 1 | 2020-05-21 | 2019-05-21 | Active | 104241506 | airsoftalgemesi.online            | eNom | Nominalia | Spain | NA | 1 | -0.68 | 0.0001 | 0 | 316488299 | auto-renewal | unrealized | Not Renewd | 2020-05-21 | 25 |  4.67 | saigomaretig               | 2 | 87 | 15 | l        | 15l        | online | -9.2103404 | onlinenominalia |\n",
       "| FirstTime | 1 | 2019-10-26 | 2018-10-26 | Active |  80423814 | perrichicos.online                | eNom | Nominalia | Spain | NA | 1 |  2.50 | 2.5000 | 0 | 244016045 | auto-renewal | unrealized | Not Renewd | 2019-10-26 | 25 |  8.93 | perrichicos                | 1 | 13 | 11 | l        | 11l        | online |  0.9162907 | onlinenominalia |\n",
       "| FirstTime | 1 | 2020-03-07 | 2019-03-07 | Active |  95807459 | cosmeticanatural.online           | eNom | Nominalia | Spain | NA | 1 |  0.25 | 0.2500 | 0 | 297970509 | auto-renewal | unrealized | Not Renewd | 2020-03-07 | 25 |  7.09 | cosmeticanatural           | 1 |  9 | 16 | l        | 16l        | online | -1.3862944 | onlinenominalia |\n",
       "| FirstTime | 1 | 2019-10-22 | 2018-10-22 | Active |  79967054 | alanlash.online                   | eNom | Nominalia | Spain | NA | 1 |  2.50 | 2.5000 | 0 | 242689470 | auto-renewal | unrealized | Not Renewd | 2019-10-22 | 25 |  7.11 | alanlash                   | 1 |  9 |  8 | l        | 8l         | online |  0.9162907 | onlinenominalia |\n",
       "| FirstTime | 1 | 2020-03-25 | 2019-03-25 | Active |  97793974 | escuelablockchain.online          | eNom | Nominalia | Spain | NA | 1 |  0.25 | 0.2500 | 0 | 302477404 | auto-renewal | unrealized | Not Renewd | 2020-03-25 | 25 |  4.56 | clablockchain              | 3 |  7 | 17 | l        | 17l        | online | -1.3862944 | onlinenominalia |\n",
       "| FirstTime | 1 | 2019-11-26 | 2018-11-26 | Active |  84756232 | facetv.online                     | eNom | Nominalia | Spain | NA | 1 |  2.50 | 2.5000 | 0 | 258811916 | auto-renewal | unrealized | Not Renewd | 2019-11-26 | 25 |  1.50 | aetv                       | 2 |  5 |  6 | l        | 6l         | online |  0.9162907 | onlinenominalia |\n",
       "| FirstTime | 1 | 2019-08-30 | 2018-08-30 | Active |  75476079 | cocinas24.online                  | eNom | Nominalia | Spain | NA | 1 |  2.50 | 2.5000 | 0 | 226583316 | auto-renewal | unrealized | Not Renewd | 2019-08-30 | 25 |  7.09 | cocinas24                  | 1 |  2 |  9 | ln       | 9ln        | online |  0.9162907 | onlinenominalia |\n",
       "| FirstTime | 1 | 2019-10-11 | 2018-10-11 | Active |  78899169 | cosmusfitsports.online            | eNom | Nominalia | Spain | NA | 1 |  2.50 | 2.5000 | 0 | 239261670 | auto-renewal | unrealized | Not Renewd | 2019-10-11 | 25 |  4.17 | cosmusfitsports            | 1 |  2 | 15 | l        | 15l        | online |  0.9162907 | onlinenominalia |\n",
       "| FirstTime | 1 | 2020-05-21 | 2019-05-21 | Active | 104248621 | relojesdemoda.online              | eNom | Nominalia | Spain | NA | 1 | -0.68 | 0.0001 | 0 | 316488384 | auto-renewal | unrealized | Not Renewd | 2020-05-21 | 25 |  3.15 | relojesdemoda              | 1 | 87 | 13 | l        | 13l        | online | -9.2103404 | onlinenominalia |\n",
       "| FirstTime | 1 | 2019-09-25 | 2018-09-25 | Active |  77349134 | barcelonashopping.online          | eNom | Nominalia | Spain | NA | 1 |  2.50 | 2.5000 | 0 | 234137576 | auto-renewal | unrealized | Not Renewd | 2019-09-25 | 25 |  6.96 | barcelonashopping          | 1 |  4 | 17 | l        | 17l        | online |  0.9162907 | onlinenominalia |\n",
       "| FirstTime | 1 | 2020-08-19 | 2019-08-19 | Active | 118579151 | bravoplayacampingresort.online    | eNom | Nominalia | Spain | NA | 1 |  1.00 | 1.0000 | 0 | 333242904 | renewal      | NA         | Renewed    | 2020-07-30 | 25 |  6.34 | bravoplayaror              | 3 |  6 | 23 | l        | 23l        | online |  0.0000000 | onlinenominalia |\n",
       "| FirstTime | 1 | 2020-04-28 | 2019-04-28 | Active | 102227759 | product-reviews.online            | eNom | Nominalia | Spain | NA | 1 |  1.00 | 1.0000 | 0 | 311840404 | auto-renewal | unrealized | Not Renewd | 2020-04-28 | 25 |  4.37 | product-reviews            | 1 | 25 | 15 | hyphen-l | 15hyphen-l | online |  0.0000000 | onlinenominalia |\n",
       "| FirstTime | 1 | 2020-07-19 | 2019-07-19 | Active | 113219786 | cowit.online                      | eNom | Nominalia | Spain | NA | 1 |  1.00 | 1.0000 | 0 | 330507704 | auto-renewal | unrealized | Not Renewd | 2020-07-19 | 25 | 11.64 | cowit                      | 1 |  3 |  5 | l        | 5l         | online |  0.0000000 | onlinenominalia |\n",
       "| FirstTime | 1 | 2020-04-08 | 2019-04-08 | Active |  99182784 | orgullogaystores.online           | eNom | Nominalia | Spain | NA | 1 |  1.00 | 1.0000 | 0 | 305981529 | auto-renewal | unrealized | Not Renewd | 2020-04-08 | 25 |  6.05 | orgullogaystores           | 1 |  3 | 16 | l        | 16l        | online |  0.0000000 | onlinenominalia |\n",
       "| FirstTime | 1 | 2020-01-18 | 2019-01-18 | Active |  91311218 | sagradafamiliatickets.online      | eNom | Nominalia | Spain | NA | 1 |  1.00 | 1.0000 | 0 | 266892821 | renewal      | NA         | Renewed    | 2019-12-16 | 25 |  4.81 | sagradafamiliatickets      | 1 |  2 | 21 | l        | 21l        | online |  0.0000000 | onlinenominalia |\n",
       "| FirstTime | 1 | 2019-11-14 | 2018-11-14 | Active |  83358664 | cajaherramientas.online           | eNom | Nominalia | Spain | NA | 1 |  1.00 | 1.0000 | 0 | 254346505 | auto-renewal | unrealized | Not Renewd | 2019-11-14 | 25 |  4.49 | cajaherramientas           | 1 |  2 | 16 | l        | 16l        | online |  0.0000000 | onlinenominalia |\n",
       "| FirstTime | 1 | 2019-11-15 | 2018-11-15 | Active |  83427159 | amuletospara.online               | eNom | Nominalia | Spain | NA | 1 |  1.00 | 1.0000 | 0 | 243890760 | renewal      | NA         | Renewed    | 2019-10-26 | 25 |  5.73 | amuletospara               | 1 |  7 | 12 | l        | 12l        | online |  0.0000000 | onlinenominalia |\n",
       "| FirstTime | 1 | 2020-05-30 | 2019-05-30 | Active | 105596476 | havanalaw.online                  | eNom | Nominalia | Spain | NA | 1 | -0.68 | 0.0001 | 0 | 317077424 | renewal      | NA         | Renewed    | 2020-05-24 | 25 |  5.86 | havanalaw                  | 1 | 15 |  9 | l        | 9l         | online | -9.2103404 | onlinenominalia |\n",
       "| FirstTime | 1 | 2020-02-27 | 2019-02-27 | Active |  94959309 | gamecracker.online                | eNom | Nominalia | Spain | NA | 1 |  0.25 | 0.2500 | 0 | 295536509 | auto-renewal | unrealized | Not Renewd | 2020-02-27 | 25 |  6.65 | gamecracker                | 1 |  5 | 11 | l        | 11l        | online | -1.3862944 | onlinenominalia |\n",
       "| FirstTime | 1 | 2020-05-27 | 2019-05-27 | Active | 105090646 | revisteria.online                 | eNom | Nominalia | Spain | NA | 1 | -0.68 | 0.0001 | 0 | 317987274 | auto-renewal | unrealized | Not Renewd | 2020-05-27 | 25 |  8.83 | revisteria                 | 1 | 20 | 10 | l        | 10l        | online | -9.2103404 | onlinenominalia |\n",
       "| FirstTime | 1 | 2020-05-14 | 2019-05-14 | Active | 103564191 | propietatsluxury.online           | eNom | Nominalia | Spain | NA | 1 | -0.68 | 0.0001 | 0 | 315002559 | auto-renewal | unrealized | Not Renewd | 2020-05-14 | 25 |  3.17 | propietatsluxury           | 1 | 10 | 16 | l        | 16l        | online | -9.2103404 | onlinenominalia |\n",
       "| FirstTime | 1 | 2020-04-23 | 2019-04-23 | Active | 101406444 | thebestoportunity.online          | eNom | Nominalia | Spain | NA | 1 | -0.68 | 0.0001 | 0 | 310222574 | auto-renewal | unrealized | Not Renewd | 2020-04-23 | 25 |  6.65 | thebestoportunity          | 1 |  6 | 17 | l        | 17l        | online | -9.2103404 | onlinenominalia |\n",
       "| FirstTime | 1 | 2020-06-28 | 2019-06-28 | Active | 110432516 | ingdesign.online                  | eNom | Nominalia | Spain | NA | 1 | -0.68 | 0.0001 | 0 | 325495544 | auto-renewal | realized   | Renewed    | 2020-06-28 | 25 |  4.40 | ingdesign                  | 1 |  5 |  9 | l        | 9l         | online | -9.2103404 | onlinenominalia |\n",
       "| FirstTime | 1 | 2020-05-15 | 2019-05-15 | Active | 103680276 | cmdradio.online                   | eNom | Nominalia | Spain | NA | 1 | -0.68 | 0.0001 | 0 | 315209189 | auto-renewal | unrealized | Not Renewd | 2020-05-15 | 25 |  1.14 | cmdradio                   | 1 | 10 |  8 | l        | 8l         | online | -9.2103404 | onlinenominalia |\n",
       "| FirstTime | 1 | 2019-06-04 | 2018-06-04 | Active |  69159330 | sintagma.online                   | eNom | Nominalia | Spain | NA | 1 |  2.50 | 2.5000 | 0 | 205806591 | auto-renewal | unrealized | Not Renewd | 2019-06-04 | 25 |  4.74 | sintagma                   | 1 |  1 |  8 | l        | 8l         | online |  0.9162907 | onlinenominalia |\n",
       "| FirstTime | 1 | 2020-08-09 | 2019-08-09 | Active | 116582866 | topcavalls.online                 | eNom | Nominalia | Spain | NA | 1 | -0.68 | 0.0001 | 0 | 334755484 | renewal      | NA         | Renewed    | 2020-08-05 | 25 |  3.69 | topcavalls                 | 1 |  6 | 10 | l        | 10l        | online | -9.2103404 | onlinenominalia |\n",
       "| FirstTime | 1 | 2020-06-28 | 2019-06-28 | Active | 110438031 | avantio.online                    | eNom | Nominalia | Spain | NA | 1 | -0.68 | 0.0001 | 0 | 324748044 | renewal      | NA         | Renewed    | 2020-06-25 | 25 |  7.93 | avantio                    | 1 |  5 |  7 | l        | 7l         | online | -9.2103404 | onlinenominalia |\n",
       "| FirstTime | 1 | 2020-03-15 | 2019-03-15 | Active |  96800624 | barcelona-eventos.online          | eNom | Nominalia | Spain | NA | 1 |  0.25 | 0.2500 | 0 | 300179904 | auto-renewal | unrealized | Not Renewd | 2020-03-15 | 25 |  5.68 | barcelona-eventos          | 1 |  7 | 17 | hyphen-l | 17hyphen-l | online | -1.3862944 | onlinenominalia |\n",
       "| FirstTime | 1 | 2020-05-06 | 2019-05-06 | Active | 102878384 | femsantamariademartorelles.online | eNom | Nominalia | Spain | NA | 1 | -0.68 | 0.0001 | 0 | 313393419 | auto-renewal | unrealized | Not Renewd | 2020-05-06 | 25 |  7.27 | femsantamariademartorelles | 1 | 10 | 26 | l        | 26l        | online | -9.2103404 | onlinenominalia |\n",
       "| FirstTime | 1 | 2019-10-14 | 2018-10-14 | Active |  79060779 | latiendadelrodapie.online         | eNom | Nominalia | Spain | NA | 1 |  2.50 | 2.5000 | 0 | 240374025 | auto-renewal | unrealized | Not Renewd | 2019-10-14 |  0 |  4.82 | latiendadelrodapie         | 1 |  1 | 18 | l        | 18l        | online |  0.9162907 | onlinenominalia |\n",
       "| FirstTime | 1 | 2019-10-26 | 2018-10-26 | Active |  80473269 | bancoin.online                    | eNom | Nominalia | Spain | NA | 1 |  2.50 | 2.5000 | 0 | 244065605 | auto-renewal | unrealized | Not Renewd | 2019-10-26 | 25 |  8.78 | bancoin                    | 1 | 13 |  7 | l        | 7l         | online |  0.9162907 | onlinenominalia |\n",
       "| FirstTime | 1 | 2020-05-22 | 2019-05-22 | Active | 104341036 | myappis.online                    | eNom | Nominalia | Spain | NA | 1 | -0.68 | 0.0001 | 0 | 316697729 | auto-renewal | unrealized | Not Renewd | 2020-05-22 | 25 |  4.44 | myappis                    | 1 | 61 |  7 | l        | 7l         | online | -9.2103404 | onlinenominalia |\n",
       "| FirstTime | 1 | 2020-02-28 | 2019-02-28 | Active |  95021079 | distecno.online                   | eNom | Nominalia | Spain | NA | 1 |  0.25 | 0.2500 | 0 | 289792646 | renewal      | NA         | Renewed    | 2020-02-08 | 25 |  3.06 | distecno                   | 1 |  5 |  8 | l        | 8l         | online | -1.3862944 | onlinenominalia |\n",
       "| FirstTime | 1 | 2020-03-13 | 2019-03-13 | Active |  96549209 | soloseviveunavez.online           | eNom | Nominalia | Spain | NA | 1 |  0.25 | 0.2500 | 0 | 299777124 | auto-renewal | unrealized | Not Renewd | 2020-03-13 | 25 |  4.06 | soloseviveunavez           | 1 |  5 | 16 | l        | 16l        | online | -1.3862944 | onlinenominalia |\n",
       "| FirstTime | 1 | 2020-03-26 | 2019-03-26 | Active |  98054384 | dropshippingexclusive.online      | eNom | Nominalia | Spain | NA | 1 |  0.25 | 0.2500 | 0 | 302763644 | auto-renewal | unrealized | Not Renewd | 2020-03-26 | 25 |  5.76 | dropshippingexclusive      | 1 |  5 | 21 | l        | 21l        | online | -1.3862944 | onlinenominalia |\n",
       "| FirstTime | 1 | 2019-10-24 | 2018-10-24 | Active |  80257554 | pelisdvd.online                   | eNom | Nominalia | Spain | NA | 1 |  2.50 | 2.5000 | 0 | 243535535 | auto-renewal | unrealized | Not Renewd | 2019-10-24 | 25 |  1.29 | pelisdvd                   | 1 | 14 |  8 | l        | 8l         | online |  0.9162907 | onlinenominalia |\n",
       "| FirstTime | 1 | 2020-05-05 | 2019-05-05 | Active | 102831659 | barcelonacheap.online             | eNom | Nominalia | Spain | NA | 1 | -0.68 | 0.0001 | 0 | 313193869 | auto-renewal | unrealized | Not Renewd | 2020-05-05 | 25 |  6.86 | barcelonacheap             | 1 |  6 | 14 | l        | 14l        | online | -9.2103404 | onlinenominalia |\n",
       "| FirstTime | 1 | 2020-06-17 | 2019-06-17 | Active | 108096576 | gerardnicasi.online               | eNom | Nominalia | Spain | NA | 1 | -0.68 | 0.0001 | 0 | 322747139 | auto-renewal | unrealized | Not Renewd | 2020-06-17 | 25 |  5.56 | gerardnicasi               | 1 |  8 | 12 | l        | 12l        | online | -9.2103404 | onlinenominalia |\n",
       "| FirstTime | 1 | 2020-06-12 | 2019-06-12 | Active | 107632876 | traumatologiaveterinaria.online   | eNom | Nominalia | Spain | NA | 1 |  1.00 | 1.0000 | 0 | 321700364 | auto-renewal | unrealized | Not Renewd | 2020-06-12 | 25 |  5.80 | traumatologiaveterinaria   | 1 |  5 | 24 | l        | 24l        | online |  0.0000000 | onlinenominalia |\n",
       "| FirstTime | 1 | 2020-08-14 | 2019-08-14 | Active | 117531731 | cambiodenombre.online             | eNom | Nominalia | Spain | NA | 1 |  1.00 | 1.0000 | 0 | 332013704 | renewal      | NA         | Renewed    | 2020-07-25 | 25 |  5.64 | cambiodenombre             | 1 |  2 | 14 | l        | 14l        | online |  0.0000000 | onlinenominalia |\n",
       "| FirstTime | 1 | 2020-04-19 | 2019-04-19 | Active | 100879829 | carepik.online                    | eNom | Nominalia | Spain | NA | 1 |  1.00 | 1.0000 | 0 | 309050504 | auto-renewal | unrealized | Not Renewd | 2020-04-19 | 25 |  4.87 | carepik                    | 1 |  1 |  7 | l        | 7l         | online |  0.0000000 | onlinenominalia |\n",
       "| FirstTime | 1 | 2020-06-17 | 2019-06-17 | Active | 108067056 | irestaurant.online                | eNom | Nominalia | Spain | NA | 1 |  1.00 | 1.0000 | 0 | 322747044 | auto-renewal | unrealized | Not Renewd | 2020-06-17 | 25 |  7.82 | irestaurant                | 1 |  8 | 11 | l        | 11l        | online |  0.0000000 | onlinenominalia |\n",
       "| FirstTime | 1 | 2020-07-03 | 2019-07-03 | Active | 111375526 | appsom.online                     | eNom | Nominalia | Spain | NA | 1 |  1.00 | 1.0000 | 0 | 326913624 | auto-renewal | realized   | Renewed    | 2020-07-03 | 25 |  3.82 | appsom                     | 2 |  5 |  6 | l        | 6l         | online |  0.0000000 | onlinenominalia |\n",
       "| FirstTime | 1 | 2020-06-11 | 2019-06-11 | Active | 107479791 | rockmantic.online                 | eNom | Nominalia | Spain | NA | 1 |  1.00 | 1.0000 | 0 | 321441669 | auto-renewal | unrealized | Not Renewd | 2020-06-11 | 25 |  5.14 | rockmantic                 | 1 |  4 | 10 | l        | 10l        | online |  0.0000000 | onlinenominalia |\n",
       "| FirstTime | 1 | 2020-08-18 | 2019-08-18 | Active | 118468706 | cintadecorrer.online              | eNom | Nominalia | Spain | NA | 1 |  1.00 | 1.0000 | 0 | 338356969 | auto-renewal | unrealized | Not Renewd | 2020-08-18 | 25 |  8.77 | cintadecorrer              | 1 |  3 | 13 | l        | 13l        | online |  0.0000000 | onlinenominalia |\n",
       "| FirstTime | 1 | 2020-01-04 | 2019-01-04 | Active |  89679837 | hostics.online                    | eNom | Nominalia | Spain | NA | 1 |  1.00 | 1.0000 | 0 | 264874796 | renewal      | NA         | Renewed    | 2019-12-11 | 25 |  4.19 | hostics                    | 1 |  6 |  7 | l        | 7l         | online |  0.0000000 | onlinenominalia |\n",
       "| FirstTime | 1 | 2020-06-29 | 2019-06-29 | Active | 110714316 | tu-recarga.online                 | eNom | Nominalia | Spain | NA | 1 |  1.00 | 1.0000 | 0 | 320905874 | renewal      | NA         | Renewed    | 2020-06-09 | 25 |  6.12 | recarg                     | 2 |  2 | 10 | hyphen-l | 10hyphen-l | online |  0.0000000 | onlinenominalia |\n",
       "\n"
      ],
      "text/plain": [
       "$onlinenominalia\n",
       "\u001b[90m# A tibble: 303 x 31\u001b[39m\n",
       "   renewal_type renewed_count expiry_date creation_date status domain_id domain\n",
       "   \u001b[3m\u001b[90m<chr>\u001b[39m\u001b[23m                \u001b[3m\u001b[90m<int>\u001b[39m\u001b[23m \u001b[3m\u001b[90m<date>\u001b[39m\u001b[23m      \u001b[3m\u001b[90m<date>\u001b[39m\u001b[23m        \u001b[3m\u001b[90m<chr>\u001b[39m\u001b[23m      \u001b[3m\u001b[90m<int>\u001b[39m\u001b[23m \u001b[3m\u001b[90m<chr>\u001b[39m\u001b[23m \n",
       "\u001b[90m 1\u001b[39m FirstTime                1 2020-05-27  2019-05-27    Active 105\u001b[4m0\u001b[24m\u001b[4m6\u001b[24m\u001b[4m1\u001b[24m141 franc…\n",
       "\u001b[90m 2\u001b[39m FirstTime                1 2020-05-23  2019-05-23    Active 104\u001b[4m4\u001b[24m\u001b[4m3\u001b[24m\u001b[4m5\u001b[24m711 color…\n",
       "\u001b[90m 3\u001b[39m FirstTime                1 2020-05-07  2019-05-07    Active 102\u001b[4m9\u001b[24m\u001b[4m9\u001b[24m\u001b[4m6\u001b[24m654 conar…\n",
       "\u001b[90m 4\u001b[39m FirstTime                1 2019-07-05  2018-07-05    Active  71\u001b[4m4\u001b[24m\u001b[4m4\u001b[24m\u001b[4m2\u001b[24m585 dwit.…\n",
       "\u001b[90m 5\u001b[39m FirstTime                1 2020-05-18  2019-05-18    Active 103\u001b[4m9\u001b[24m\u001b[4m2\u001b[24m\u001b[4m1\u001b[24m211 amerc…\n",
       "\u001b[90m 6\u001b[39m FirstTime                1 2020-05-24  2019-05-24    Active 104\u001b[4m6\u001b[24m\u001b[4m7\u001b[24m\u001b[4m6\u001b[24m781 nutsa…\n",
       "\u001b[90m 7\u001b[39m FirstTime                1 2020-08-20  2019-08-20    Active 118\u001b[4m7\u001b[24m\u001b[4m0\u001b[24m\u001b[4m2\u001b[24m881 promo…\n",
       "\u001b[90m 8\u001b[39m FirstTime                1 2019-11-08  2018-11-08    Active  82\u001b[4m1\u001b[24m\u001b[4m9\u001b[24m\u001b[4m9\u001b[24m594 dfcva…\n",
       "\u001b[90m 9\u001b[39m FirstTime                1 2020-05-08  2019-05-08    Active 103\u001b[4m0\u001b[24m\u001b[4m7\u001b[24m\u001b[4m0\u001b[24m494 dawno…\n",
       "\u001b[90m10\u001b[39m FirstTime                1 2020-04-11  2019-04-11    Active  99\u001b[4m6\u001b[24m\u001b[4m4\u001b[24m\u001b[4m0\u001b[24m159 marco…\n",
       "\u001b[90m# … with 293 more rows, and 24 more variables: registrar \u001b[3m\u001b[90m<chr>\u001b[90m\u001b[23m, reseller \u001b[3m\u001b[90m<chr>\u001b[90m\u001b[23m,\u001b[39m\n",
       "\u001b[90m#   reseller_country \u001b[3m\u001b[90m<chr>\u001b[90m\u001b[23m, registrant_country \u001b[3m\u001b[90m<chr>\u001b[90m\u001b[23m, reg_period \u001b[3m\u001b[90m<int>\u001b[90m\u001b[23m,\u001b[39m\n",
       "\u001b[90m#   reg_revenue \u001b[3m\u001b[90m<dbl>\u001b[90m\u001b[23m, reg_arpt \u001b[3m\u001b[90m<dbl>\u001b[90m\u001b[23m, renew_mbg \u001b[3m\u001b[90m<int>\u001b[90m\u001b[23m, renewal_item_id \u001b[3m\u001b[90m<int>\u001b[90m\u001b[23m,\u001b[39m\n",
       "\u001b[90m#   renew_type \u001b[3m\u001b[90m<chr>\u001b[90m\u001b[23m, autorenew_type \u001b[3m\u001b[90m<chr>\u001b[90m\u001b[23m, renewal_status \u001b[3m\u001b[90m<chr>\u001b[90m\u001b[23m,\u001b[39m\n",
       "\u001b[90m#   renew_date \u001b[3m\u001b[90m<date>\u001b[90m\u001b[23m, renew_arpt \u001b[3m\u001b[90m<dbl>\u001b[90m\u001b[23m, gibb_score \u001b[3m\u001b[90m<dbl>\u001b[90m\u001b[23m, pattern \u001b[3m\u001b[90m<chr>\u001b[90m\u001b[23m,\u001b[39m\n",
       "\u001b[90m#   pattern_domain_count \u001b[3m\u001b[90m<int>\u001b[90m\u001b[23m, day_domains \u001b[3m\u001b[90m<int>\u001b[90m\u001b[23m, sld_length \u001b[3m\u001b[90m<int>\u001b[90m\u001b[23m,\u001b[39m\n",
       "\u001b[90m#   sld_type \u001b[3m\u001b[90m<chr>\u001b[90m\u001b[23m, sld_type2 \u001b[3m\u001b[90m<chr>\u001b[90m\u001b[23m, tld \u001b[3m\u001b[90m<chr>\u001b[90m\u001b[23m, log_reg_arpt \u001b[3m\u001b[90m<dbl>\u001b[90m\u001b[23m,\u001b[39m\n",
       "\u001b[90m#   tld_registrar_index \u001b[3m\u001b[90m<chr>\u001b[90m\u001b[23m\u001b[39m\n"
      ]
     },
     "metadata": {},
     "output_type": "display_data"
    }
   ],
   "source": [
    "test_list_tld_reseller"
   ]
  },
  {
   "cell_type": "code",
   "execution_count": 49,
   "metadata": {},
   "outputs": [
    {
     "name": "stderr",
     "output_type": "stream",
     "text": [
      "Warning message in if (is.na(model) | is.null(test_data)) {:\n",
      "“the condition has length > 1 and only the first element will be used”\n",
      "Warning message in predict.lm(object, newdata, se.fit, scale = 1, type = if (type == :\n",
      "“prediction from a rank-deficient fit may be misleading”\n"
     ]
    }
   ],
   "source": [
    "pred = mass_predict_first_renewal(test_list_tld_reseller, model)"
   ]
  },
  {
   "cell_type": "code",
   "execution_count": 53,
   "metadata": {},
   "outputs": [
    {
     "data": {
      "text/plain": [
       "\n",
       "Call:  glm(formula = renewal_status ~ ., family = binomial(link = \"logit\"), \n",
       "    data = build_data, model = FALSE, y = FALSE)\n",
       "\n",
       "Coefficients:\n",
       "         (Intercept)  pattern_domain_count          log_reg_arpt  \n",
       "            -0.51143               0.12091               0.06141  \n",
       "          sld_length     sld_typehyphen-ln             sld_typel  \n",
       "            -0.01685               0.20799               0.03283  \n",
       "          sld_typeln             sld_typen           day_domains  \n",
       "            -0.36180              -7.36347              -0.02013  \n",
       "          gibb_score            reg_period  \n",
       "            -0.04673                    NA  \n",
       "\n",
       "Degrees of Freedom: 1175 Total (i.e. Null);  1166 Residual\n",
       "Null Deviance:\t    1255 \n",
       "Residual Deviance: 1203 \tAIC: 1223"
      ]
     },
     "metadata": {},
     "output_type": "display_data"
    }
   ],
   "source": [
    "str = \"onlinenominalia\"\n",
    "model[[str]]"
   ]
  },
  {
   "cell_type": "code",
   "execution_count": 20,
   "metadata": {},
   "outputs": [],
   "source": [
    "# pred = mass_predict_first_renewal(test_list_tld_reseller, model)\n",
    "\n",
    "test_data = test_list_tld_reseller\n",
    "data_models = model\n",
    "\n",
    "# mass_predict_first_renewal<-function(test_data, data_models) {\n",
    "\n",
    "  tld_registrar_list<-names(test_data)\n",
    "  tld_registrar_list <- tld_registrar_list[!is.na(tld_registrar_list)]\n",
    "#   prediction_list<-pblapply(tld_registrar_list, function(i) list_predict_first_renewal(i, test_data, data_models))\n",
    "#   prediction_list<-prediction_list[!is.na(prediction_list)]\n",
    "#   prediction_op<-rbindlist(prediction_list,use.names=TRUE, fill=TRUE) \n",
    "#   test_data<-rbindlist(test_data,  use.names=TRUE, fill=TRUE) # modified as per error on 20200715 (see README)\n",
    "#   test_data$first_renewal_prediction<-prediction_op$probabilities[match(test_data$domain_id,\n",
    "#                                                                         prediction_op$domain_id)]\n",
    "#   return(test_data)\n",
    "# }"
   ]
  },
  {
   "cell_type": "code",
   "execution_count": 21,
   "metadata": {},
   "outputs": [
    {
     "data": {
      "text/html": [
       "'siteregistrator domenov'"
      ],
      "text/latex": [
       "'siteregistrator domenov'"
      ],
      "text/markdown": [
       "'siteregistrator domenov'"
      ],
      "text/plain": [
       "[1] \"siteregistrator domenov\""
      ]
     },
     "metadata": {},
     "output_type": "display_data"
    }
   ],
   "source": [
    "tld_registrar_list"
   ]
  },
  {
   "cell_type": "code",
   "execution_count": 22,
   "metadata": {},
   "outputs": [
    {
     "data": {
      "text/html": [
       "'siteregistrator domenov'"
      ],
      "text/latex": [
       "'siteregistrator domenov'"
      ],
      "text/markdown": [
       "'siteregistrator domenov'"
      ],
      "text/plain": [
       "[1] \"siteregistrator domenov\""
      ]
     },
     "metadata": {},
     "output_type": "display_data"
    }
   ],
   "source": [
    "tld_registrar_list"
   ]
  },
  {
   "cell_type": "code",
   "execution_count": 24,
   "metadata": {},
   "outputs": [],
   "source": [
    "tld_registrar = tld_registrar_list[[1]]"
   ]
  },
  {
   "cell_type": "code",
   "execution_count": 25,
   "metadata": {},
   "outputs": [],
   "source": [
    "# list_predict_first_renewal<-function(tld_registrar,test_data, data_models) {\n",
    "#   cat(tld_registrar)\n",
    "  ########BEGIN:for substitute TLD#######################\n",
    "  #registrar.name<-test.data[[tld.registrar]]$`Client Shortname`[1]\n",
    "  #new.tld.registrar<-paste(\"site_\",registrar.name,sep=\"\")\n",
    "  #new.tld.registrar<-gsub(\"\\\\s+\",\"_\",new.tld.registrar)\n",
    "  #model<-data.models[[new.tld.registrar]]\n",
    "#   print(tld_registrar)\n",
    "  ########END:for substitute TLD#######################\n",
    "  tld_registrar_data<-test_data[[tld_registrar]]\n",
    "  model<-data_models[[tld_registrar]]\n",
    " "
   ]
  },
  {
   "cell_type": "code",
   "execution_count": 33,
   "metadata": {},
   "outputs": [
    {
     "data": {
      "text/html": [
       "'siteregistrator domenov '"
      ],
      "text/latex": [
       "'siteregistrator domenov '"
      ],
      "text/markdown": [
       "'siteregistrator domenov '"
      ],
      "text/plain": [
       "[1] \"siteregistrator domenov \""
      ]
     },
     "metadata": {},
     "output_type": "display_data"
    },
    {
     "data": {
      "text/html": [
       "'siteregistrator domenov'"
      ],
      "text/latex": [
       "'siteregistrator domenov'"
      ],
      "text/markdown": [
       "'siteregistrator domenov'"
      ],
      "text/plain": [
       "[1] \"siteregistrator domenov\""
      ]
     },
     "metadata": {},
     "output_type": "display_data"
    }
   ],
   "source": [
    "names(data_models)\n",
    "tld_registrar"
   ]
  },
  {
   "cell_type": "code",
   "execution_count": 37,
   "metadata": {},
   "outputs": [
    {
     "data": {
      "text/plain": [
       "\n",
       "Call:  glm(formula = renewal_status ~ ., family = binomial(link = \"logit\"), \n",
       "    data = build_data, model = FALSE, y = FALSE)\n",
       "\n",
       "Coefficients:\n",
       "         (Intercept)  pattern_domain_count          log_reg_arpt  \n",
       "              1161.3                    NA                 492.0  \n",
       "          sld_length           sld_typeidn             sld_typel  \n",
       "              -258.4                6220.1                -543.4  \n",
       "          sld_typeln           day_domains            gibb_score  \n",
       "              2746.5                -413.6                 266.5  \n",
       "          reg_period  \n",
       "                  NA  \n",
       "\n",
       "Degrees of Freedom: 15 Total (i.e. Null);  8 Residual\n",
       "Null Deviance:\t    12.06 \n",
       "Residual Deviance: 4.55e-08 \tAIC: 16"
      ]
     },
     "metadata": {},
     "output_type": "display_data"
    }
   ],
   "source": [
    "data_models[[1]]"
   ]
  },
  {
   "cell_type": "code",
   "execution_count": null,
   "metadata": {},
   "outputs": [],
   "source": [
    "   \n",
    "    # LVG removed the following and replaced with NA-fill in predict_first_renewal()\n",
    "#   if(is.null(tld_registrar_data) | is.null(model) | is.logical(tld_registrar_data) | is.logical(model)) { return(NA)}\n",
    "    \n",
    "    \n",
    "  # tld.registrar.data$SLD.Type[tld.registrar.data$SLD.Type == \"IDN\"]<-NA\n",
    "  \n",
    "  tld_registrar_data<-predict_first_renewal(tld_registrar_data,model)\n",
    "  return(tld_registrar_data)\n",
    "}"
   ]
  }
 ],
 "metadata": {
  "environment": {
   "name": "r-cpu.3-6.m48",
   "type": "gcloud",
   "uri": "gcr.io/deeplearning-platform-release/r-cpu.3-6:m48"
  },
  "kernelspec": {
   "display_name": "R",
   "language": "R",
   "name": "ir"
  },
  "language_info": {
   "codemirror_mode": "r",
   "file_extension": ".r",
   "mimetype": "text/x-r-source",
   "name": "R",
   "pygments_lexer": "r",
   "version": "3.6.3"
  }
 },
 "nbformat": 4,
 "nbformat_minor": 4
}
