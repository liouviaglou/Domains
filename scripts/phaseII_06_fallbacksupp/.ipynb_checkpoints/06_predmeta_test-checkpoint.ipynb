{
 "cells": [
  {
   "cell_type": "markdown",
   "metadata": {},
   "source": [
    "# Testing Metalearning Predictions script"
   ]
  },
  {
   "cell_type": "code",
   "execution_count": 1,
   "metadata": {},
   "outputs": [],
   "source": [
    "options(repr.matrix.max.cols=50, repr.matrix.max.rows=100)"
   ]
  },
  {
   "cell_type": "code",
   "execution_count": 2,
   "metadata": {},
   "outputs": [],
   "source": [
    "# install.packages(\"pkgcond\")"
   ]
  },
  {
   "cell_type": "code",
   "execution_count": 3,
   "metadata": {},
   "outputs": [
    {
     "name": "stderr",
     "output_type": "stream",
     "text": [
      "Warning message:\n",
      "“replacing previous import ‘vctrs::data_frame’ by ‘tibble::data_frame’ when loading ‘dplyr’”\n",
      "\n",
      "Attaching package: ‘dplyr’\n",
      "\n",
      "\n",
      "The following objects are masked from ‘package:stats’:\n",
      "\n",
      "    filter, lag\n",
      "\n",
      "\n",
      "The following objects are masked from ‘package:base’:\n",
      "\n",
      "    intersect, setdiff, setequal, union\n",
      "\n",
      "\n",
      "\n",
      "Attaching package: ‘data.table’\n",
      "\n",
      "\n",
      "The following objects are masked from ‘package:dplyr’:\n",
      "\n",
      "    between, first, last\n",
      "\n",
      "\n",
      "Loading required package: grid\n",
      "\n",
      "Loading required package: libcoin\n",
      "\n",
      "Loading required package: mvtnorm\n",
      "\n",
      "Loading required package: lattice\n",
      "\n",
      "Loading required package: ggplot2\n",
      "\n",
      "randomForest 4.6-14\n",
      "\n",
      "Type rfNews() to see new features/changes/bug fixes.\n",
      "\n",
      "\n",
      "Attaching package: ‘randomForest’\n",
      "\n",
      "\n",
      "The following object is masked from ‘package:ggplot2’:\n",
      "\n",
      "    margin\n",
      "\n",
      "\n",
      "The following object is masked from ‘package:dplyr’:\n",
      "\n",
      "    combine\n",
      "\n",
      "\n",
      "\n",
      "Attaching package: ‘ranger’\n",
      "\n",
      "\n",
      "The following object is masked from ‘package:randomForest’:\n",
      "\n",
      "    importance\n",
      "\n",
      "\n",
      "\n",
      "Attaching package: ‘plotly’\n",
      "\n",
      "\n",
      "The following object is masked from ‘package:ggplot2’:\n",
      "\n",
      "    last_plot\n",
      "\n",
      "\n",
      "The following object is masked from ‘package:stats’:\n",
      "\n",
      "    filter\n",
      "\n",
      "\n",
      "The following object is masked from ‘package:graphics’:\n",
      "\n",
      "    layout\n",
      "\n",
      "\n",
      "Loading required package: RJSONIO\n",
      "\n",
      "\n",
      "Attaching package: ‘zoo’\n",
      "\n",
      "\n",
      "The following objects are masked from ‘package:base’:\n",
      "\n",
      "    as.Date, as.Date.numeric\n",
      "\n",
      "\n"
     ]
    },
    {
     "data": {
      "text/html": [
       "'/home/jupyter/local/Domains_202003/scripts/phaseII_06_fallbacksupp'"
      ],
      "text/latex": [
       "'/home/jupyter/local/Domains\\_202003/scripts/phaseII\\_06\\_fallbacksupp'"
      ],
      "text/markdown": [
       "'/home/jupyter/local/Domains_202003/scripts/phaseII_06_fallbacksupp'"
      ],
      "text/plain": [
       "[1] \"/home/jupyter/local/Domains_202003/scripts/phaseII_06_fallbacksupp\""
      ]
     },
     "metadata": {},
     "output_type": "display_data"
    }
   ],
   "source": [
    "library(dplyr)\n",
    "library(data.table)\n",
    "library(partykit)\n",
    "library(tictoc)\n",
    "library(caret)\n",
    "library(e1071)\n",
    "library(randomForest)\n",
    "library(ranger)\n",
    "\n",
    "#for 3d plotting\n",
    "library(akima)\n",
    "library(plotly)\n",
    "\n",
    "# for prep data\n",
    "library(rPython)\n",
    "library(stringr)\n",
    "library(pbapply)\n",
    "library(stringdist)\n",
    "library(data.table)\n",
    "library(dominanceanalysis)\n",
    "library(zoo)\n",
    "\n",
    "\n",
    "getwd()"
   ]
  },
  {
   "cell_type": "code",
   "execution_count": 4,
   "metadata": {},
   "outputs": [],
   "source": [
    "\n",
    "source('../orig/functions.R')\n",
    "\n",
    "source('../orig/functions_models.R')\n",
    "\n",
    "source('../phaseII_03_forest/functions_eval.R')\n",
    "\n",
    "\n",
    "source('../phaseII_03_forest/load_prep_data_expiry.R')\n",
    "\n",
    "\n",
    "\n",
    "# expiry_train_prepped_2_1 (list, less df's w/ 0 obs)\n",
    "# expiry_test_prepped_2_1  (list, less df's w/ 0 obs)\n",
    "# expiry_train_df_1 (above, rbound)\n",
    "# expiry_test_df_1 (above, rbound)\n",
    "# expiry_train_df_sub (subset vars)                                        \n",
    "# expiry_test_df_sub (subset vars)"
   ]
  },
  {
   "cell_type": "code",
   "execution_count": 22,
   "metadata": {},
   "outputs": [
    {
     "name": "stderr",
     "output_type": "stream",
     "text": [
      "Warning message in file(filename, \"r\", encoding = encoding):\n",
      "“cannot open file 'load_prep_data_expiry_2er1234w.R': No such file or directory”\n"
     ]
    },
    {
     "ename": "ERROR",
     "evalue": "Error in file(filename, \"r\", encoding = encoding): cannot open the connection\n",
     "output_type": "error",
     "traceback": [
      "Error in file(filename, \"r\", encoding = encoding): cannot open the connection\nTraceback:\n",
      "1. source(\"load_prep_data_expiry_2er1234w.R\")",
      "2. file(filename, \"r\", encoding = encoding)"
     ]
    }
   ],
   "source": [
    "\n",
    "source('functions_metalearning.R')\n",
    "source('load_prep_data_expiry_2.R')"
   ]
  },
  {
   "cell_type": "markdown",
   "metadata": {},
   "source": [
    "# DEFINE limited global objects"
   ]
  },
  {
   "cell_type": "code",
   "execution_count": 61,
   "metadata": {},
   "outputs": [
    {
     "data": {
      "text/html": [
       "1723"
      ],
      "text/latex": [
       "1723"
      ],
      "text/markdown": [
       "1723"
      ],
      "text/plain": [
       "[1] 1723"
      ]
     },
     "metadata": {},
     "output_type": "display_data"
    }
   ],
   "source": [
    "# tld_reseller_list = expiry_train_df_1 %>% distinct(tld_registrar_index) %>% \n",
    "#   pull(tld_registrar_index) \n",
    "# length(tld_reseller_list)\n",
    "# tld_reseller_list = c('storenetwork solutions','storeru-center','storebigrock','onlinewhois','websiteregister.it')\n",
    "#tld_reseller_list"
   ]
  },
  {
   "cell_type": "markdown",
   "metadata": {},
   "source": [
    "# Exclude low-vol tld-re's"
   ]
  },
  {
   "cell_type": "code",
   "execution_count": 6,
   "metadata": {},
   "outputs": [
    {
     "name": "stdout",
     "output_type": "stream",
     "text": [
      "Exluding 1239 tld-re's (71.91%), due to volume < 100 \n"
     ]
    }
   ],
   "source": [
    "tld_registrar_excl_list = tld_registrar_excl(train_list = expiry_train_prepped_2_1)"
   ]
  },
  {
   "cell_type": "code",
   "execution_count": 90,
   "metadata": {},
   "outputs": [
    {
     "data": {
      "text/html": [
       "5"
      ],
      "text/latex": [
       "5"
      ],
      "text/markdown": [
       "5"
      ],
      "text/plain": [
       "[1] 5"
      ]
     },
     "metadata": {},
     "output_type": "display_data"
    }
   ],
   "source": [
    "# tld_reseller_list = tld_reseller_list[!(tld_reseller_list %in% tld_registrar_exl_list)]\n",
    "# length(tld_reseller_list)"
   ]
  },
  {
   "cell_type": "code",
   "execution_count": 7,
   "metadata": {},
   "outputs": [],
   "source": [
    "tld_reseller_list = c('websitenamecheap','storeuol','storemat bao','onlinedonweb','onlinecrazy domains')"
   ]
  },
  {
   "cell_type": "code",
   "execution_count": 8,
   "metadata": {},
   "outputs": [],
   "source": [
    "train_list = expiry_train_prepped_2_1[tld_reseller_list]"
   ]
  },
  {
   "cell_type": "code",
   "execution_count": 9,
   "metadata": {},
   "outputs": [
    {
     "data": {
      "text/html": [
       "5"
      ],
      "text/latex": [
       "5"
      ],
      "text/markdown": [
       "5"
      ],
      "text/plain": [
       "[1] 5"
      ]
     },
     "metadata": {},
     "output_type": "display_data"
    }
   ],
   "source": [
    "length(train_list)"
   ]
  },
  {
   "cell_type": "markdown",
   "metadata": {},
   "source": [
    "# TEST train_all in functions*.R"
   ]
  },
  {
   "cell_type": "code",
   "execution_count": 10,
   "metadata": {},
   "outputs": [],
   "source": [
    "\n",
    "source('functions_metalearning.R')"
   ]
  },
  {
   "cell_type": "code",
   "execution_count": null,
   "metadata": {},
   "outputs": [],
   "source": [
    "# subDir = paste(\"models\", format(Sys.Date(), format=\"%Y%m%d\") , sep = \"_\")\n",
    "# fullDir = file.path('../../data/output', subDir)\n",
    "# dir.create(fullDir, showWarnings = FALSE)"
   ]
  },
  {
   "cell_type": "code",
   "execution_count": 11,
   "metadata": {},
   "outputs": [
    {
     "name": "stdout",
     "output_type": "stream",
     "text": [
      "[1] \"model_seg_glm_crazydomains\"\n",
      "[1] \"model_seg_rf_crazydomains\"\n",
      "[1] \"model_seg_glm_donweb\"\n",
      "[1] \"model_seg_rf_donweb\"\n",
      "[1] \"model_seg_glm_matbao\"\n",
      "[1] \"model_seg_rf_matbao\"\n",
      "[1] \"model_seg_glm_uol\"\n",
      "[1] \"model_seg_rf_uol\"\n",
      "[1] \"model_seg_glm_namecheap\"\n",
      "[1] \"model_seg_rf_namecheap\"\n",
      "Growing trees.. Progress: 42%. Estimated remaining time: 43 seconds.\n",
      "Growing trees.. Progress: 84%. Estimated remaining time: 11 seconds.\n",
      "[1] \"model_seg2_glm_websitenamecheap\"\n",
      "[1] \"model_seg2_rf_websitenamecheap\"\n",
      "[1] \"model_seg2_glm_storeuol\"\n",
      "[1] \"model_seg2_rf_storeuol\"\n",
      "[1] \"model_seg2_glm_onlinedonweb\"\n",
      "[1] \"model_seg2_rf_onlinedonweb\"\n",
      "[1] \"model_seg2_glm_onlinecrazydomains\"\n",
      "[1] \"model_seg2_rf_onlinecrazydomains\"\n",
      "[1] \"model_seg2_glm_storematbao\"\n",
      "[1] \"model_seg2_rf_storematbao\"\n"
     ]
    }
   ],
   "source": [
    "tld_reseller_list = train_all(tld_reseller_list,\n",
    "                              tld_registrar_excl_list,\n",
    "                       train_list = expiry_train_prepped_2_1,\n",
    "                       test_list = expiry_test_prepped_2_1,\n",
    "                       model_agg_glm = NULL, \n",
    "                       model_agg_rf = NULL,\n",
    "         fullDir='../../data/output/models_20201020')   "
   ]
  },
  {
   "cell_type": "code",
   "execution_count": 12,
   "metadata": {},
   "outputs": [
    {
     "data": {
      "text/html": [
       "<style>\n",
       ".list-inline {list-style: none; margin:0; padding: 0}\n",
       ".list-inline>li {display: inline-block}\n",
       ".list-inline>li:not(:last-child)::after {content: \"\\00b7\"; padding: 0 .5ex}\n",
       "</style>\n",
       "<ol class=list-inline><li>'websitenamecheap'</li><li>'storeuol'</li><li>'onlinedonweb'</li><li>'onlinecrazy domains'</li><li>'storemat bao'</li></ol>\n"
      ],
      "text/latex": [
       "\\begin{enumerate*}\n",
       "\\item 'websitenamecheap'\n",
       "\\item 'storeuol'\n",
       "\\item 'onlinedonweb'\n",
       "\\item 'onlinecrazy domains'\n",
       "\\item 'storemat bao'\n",
       "\\end{enumerate*}\n"
      ],
      "text/markdown": [
       "1. 'websitenamecheap'\n",
       "2. 'storeuol'\n",
       "3. 'onlinedonweb'\n",
       "4. 'onlinecrazy domains'\n",
       "5. 'storemat bao'\n",
       "\n",
       "\n"
      ],
      "text/plain": [
       "[1] \"websitenamecheap\"    \"storeuol\"            \"onlinedonweb\"       \n",
       "[4] \"onlinecrazy domains\" \"storemat bao\"       "
      ]
     },
     "metadata": {},
     "output_type": "display_data"
    }
   ],
   "source": [
    "tld_reseller_list"
   ]
  },
  {
   "cell_type": "markdown",
   "metadata": {},
   "source": [
    "# TEST pred_all in functions*.R"
   ]
  },
  {
   "cell_type": "code",
   "execution_count": 13,
   "metadata": {},
   "outputs": [],
   "source": [
    "source('functions_metalearning.R')"
   ]
  },
  {
   "cell_type": "code",
   "execution_count": 15,
   "metadata": {},
   "outputs": [
    {
     "name": "stdout",
     "output_type": "stream",
     "text": [
      "\n",
      "\n",
      "Predicting model_agg_glm\n",
      "[1] \"websitenamecheap\"\n"
     ]
    },
    {
     "name": "stderr",
     "output_type": "stream",
     "text": [
      "Warning message in predict.lm(object, newdata, se.fit, scale = 1, type = if (type == :\n",
      "“prediction from a rank-deficient fit may be misleading”\n"
     ]
    },
    {
     "name": "stdout",
     "output_type": "stream",
     "text": [
      "[1] \"storeuol\"\n"
     ]
    },
    {
     "name": "stderr",
     "output_type": "stream",
     "text": [
      "Warning message in predict.lm(object, newdata, se.fit, scale = 1, type = if (type == :\n",
      "“prediction from a rank-deficient fit may be misleading”\n"
     ]
    },
    {
     "name": "stdout",
     "output_type": "stream",
     "text": [
      "[1] \"onlinedonweb\"\n"
     ]
    },
    {
     "name": "stderr",
     "output_type": "stream",
     "text": [
      "Warning message in predict.lm(object, newdata, se.fit, scale = 1, type = if (type == :\n",
      "“prediction from a rank-deficient fit may be misleading”\n"
     ]
    },
    {
     "name": "stdout",
     "output_type": "stream",
     "text": [
      "[1] \"onlinecrazy domains\"\n"
     ]
    },
    {
     "name": "stderr",
     "output_type": "stream",
     "text": [
      "Warning message in predict.lm(object, newdata, se.fit, scale = 1, type = if (type == :\n",
      "“prediction from a rank-deficient fit may be misleading”\n"
     ]
    },
    {
     "name": "stdout",
     "output_type": "stream",
     "text": [
      "[1] \"storemat bao\"\n"
     ]
    },
    {
     "name": "stderr",
     "output_type": "stream",
     "text": [
      "Warning message in predict.lm(object, newdata, se.fit, scale = 1, type = if (type == :\n",
      "“prediction from a rank-deficient fit may be misleading”\n"
     ]
    },
    {
     "name": "stdout",
     "output_type": "stream",
     "text": [
      "\n",
      "\n",
      "Predicting model_agg_rf\n",
      "[1] \"websitenamecheap\"\n",
      "[1] \"storeuol\"\n",
      "[1] \"onlinedonweb\"\n",
      "[1] \"onlinecrazy domains\"\n",
      "[1] \"storemat bao\"\n",
      "\n",
      "\n",
      "Predicting model_seg_glm\n",
      "[1] \"websitenamecheap\"\n"
     ]
    },
    {
     "name": "stderr",
     "output_type": "stream",
     "text": [
      "Warning message in if (is.na(model) | is.null(test_data)) {:\n",
      "“the condition has length > 1 and only the first element will be used”\n"
     ]
    },
    {
     "name": "stdout",
     "output_type": "stream",
     "text": [
      "[1] \"storeuol\"\n"
     ]
    },
    {
     "name": "stderr",
     "output_type": "stream",
     "text": [
      "Warning message in if (is.na(model) | is.null(test_data)) {:\n",
      "“the condition has length > 1 and only the first element will be used”\n"
     ]
    },
    {
     "name": "stdout",
     "output_type": "stream",
     "text": [
      "[1] \"onlinedonweb\"\n"
     ]
    },
    {
     "name": "stderr",
     "output_type": "stream",
     "text": [
      "Warning message in if (is.na(model) | is.null(test_data)) {:\n",
      "“the condition has length > 1 and only the first element will be used”\n"
     ]
    },
    {
     "name": "stdout",
     "output_type": "stream",
     "text": [
      "[1] \"onlinecrazy domains\"\n"
     ]
    },
    {
     "name": "stderr",
     "output_type": "stream",
     "text": [
      "Warning message in if (is.na(model) | is.null(test_data)) {:\n",
      "“the condition has length > 1 and only the first element will be used”\n"
     ]
    },
    {
     "name": "stdout",
     "output_type": "stream",
     "text": [
      "[1] \"storemat bao\"\n"
     ]
    },
    {
     "name": "stderr",
     "output_type": "stream",
     "text": [
      "Warning message in if (is.na(model) | is.null(test_data)) {:\n",
      "“the condition has length > 1 and only the first element will be used”\n"
     ]
    },
    {
     "name": "stdout",
     "output_type": "stream",
     "text": [
      "\n",
      "\n",
      "Predicting model_seg_rf\n",
      "[1] \"websitenamecheap\"\n",
      "[1] \"storeuol\"\n",
      "[1] \"onlinedonweb\"\n",
      "[1] \"onlinecrazy domains\"\n",
      "[1] \"storemat bao\"\n",
      "\n",
      "\n",
      "Predicting model_seg2_glm\n",
      "[1] \"websitenamecheap\"\n"
     ]
    },
    {
     "name": "stderr",
     "output_type": "stream",
     "text": [
      "Warning message in if (is.na(model) | is.null(test_data)) {:\n",
      "“the condition has length > 1 and only the first element will be used”\n"
     ]
    },
    {
     "name": "stdout",
     "output_type": "stream",
     "text": [
      "[1] \"storeuol\"\n"
     ]
    },
    {
     "name": "stderr",
     "output_type": "stream",
     "text": [
      "Warning message in if (is.na(model) | is.null(test_data)) {:\n",
      "“the condition has length > 1 and only the first element will be used”\n"
     ]
    },
    {
     "name": "stdout",
     "output_type": "stream",
     "text": [
      "[1] \"onlinedonweb\"\n"
     ]
    },
    {
     "name": "stderr",
     "output_type": "stream",
     "text": [
      "Warning message in if (is.na(model) | is.null(test_data)) {:\n",
      "“the condition has length > 1 and only the first element will be used”\n"
     ]
    },
    {
     "name": "stdout",
     "output_type": "stream",
     "text": [
      "[1] \"onlinecrazy domains\"\n"
     ]
    },
    {
     "name": "stderr",
     "output_type": "stream",
     "text": [
      "Warning message in if (is.na(model) | is.null(test_data)) {:\n",
      "“the condition has length > 1 and only the first element will be used”\n"
     ]
    },
    {
     "name": "stdout",
     "output_type": "stream",
     "text": [
      "[1] \"storemat bao\"\n"
     ]
    },
    {
     "name": "stderr",
     "output_type": "stream",
     "text": [
      "Warning message in if (is.na(model) | is.null(test_data)) {:\n",
      "“the condition has length > 1 and only the first element will be used”\n",
      "Warning message in predict.lm(object, newdata, se.fit, scale = 1, type = if (type == :\n",
      "“prediction from a rank-deficient fit may be misleading”\n"
     ]
    },
    {
     "name": "stdout",
     "output_type": "stream",
     "text": [
      "\n",
      "\n",
      "Predicting model_seg2_rf\n",
      "[1] \"websitenamecheap\"\n",
      "[1] \"storeuol\"\n",
      "[1] \"onlinedonweb\"\n",
      "[1] \"onlinecrazy domains\"\n",
      "[1] \"storemat bao\"\n"
     ]
    },
    {
     "name": "stderr",
     "output_type": "stream",
     "text": [
      "Warning message in if (is.na(preds_seg_glm[[i]])) {:\n",
      "“the condition has length > 1 and only the first element will be used”\n",
      "Warning message in if (is.na(preds_seg_glm[[i]])) {:\n",
      "“the condition has length > 1 and only the first element will be used”\n",
      "Warning message in if (is.na(preds_seg_glm[[i]])) {:\n",
      "“the condition has length > 1 and only the first element will be used”\n",
      "Warning message in if (is.na(preds_seg_glm[[i]])) {:\n",
      "“the condition has length > 1 and only the first element will be used”\n",
      "Warning message in if (is.na(preds_seg_glm[[i]])) {:\n",
      "“the condition has length > 1 and only the first element will be used”\n"
     ]
    }
   ],
   "source": [
    "preds_df <- pred_all(tld_reseller_list, tld_registrar_excl_list,\n",
    "                      test_list = expiry_test_prepped_2_1,\n",
    "                  fullDir='../../data/output/models_20201020' # dir of models\n",
    "                      )"
   ]
  },
  {
   "cell_type": "code",
   "execution_count": 16,
   "metadata": {},
   "outputs": [
    {
     "data": {
      "text/html": [
       "<table>\n",
       "<caption>A data.table: 6 × 7</caption>\n",
       "<thead>\n",
       "\t<tr><th scope=col>renewal_status</th><th scope=col>pred_agg_glm</th><th scope=col>pred_agg_rf</th><th scope=col>pred_seg_glm</th><th scope=col>pred_seg_rf</th><th scope=col>pred_seg2_glm</th><th scope=col>pred_seg2_rf</th></tr>\n",
       "\t<tr><th scope=col>&lt;fct&gt;</th><th scope=col>&lt;dbl&gt;</th><th scope=col>&lt;dbl&gt;</th><th scope=col>&lt;dbl&gt;</th><th scope=col>&lt;dbl&gt;</th><th scope=col>&lt;dbl&gt;</th><th scope=col>&lt;dbl&gt;</th></tr>\n",
       "</thead>\n",
       "<tbody>\n",
       "\t<tr><td>Renewed   </td><td>0.193</td><td>0.4870859</td><td>0.719</td><td>0.4438893</td><td>0.3787142</td><td>0.5009564</td></tr>\n",
       "\t<tr><td>Not Renewd</td><td>0.191</td><td>0.3272803</td><td>0.716</td><td>0.3856979</td><td>0.3737353</td><td>0.4038157</td></tr>\n",
       "\t<tr><td>Not Renewd</td><td>0.201</td><td>0.4503606</td><td>0.732</td><td>0.4557063</td><td>0.3911853</td><td>0.4264446</td></tr>\n",
       "\t<tr><td>Not Renewd</td><td>0.188</td><td>0.4750480</td><td>0.712</td><td>0.5444202</td><td>0.3685513</td><td>0.4542695</td></tr>\n",
       "\t<tr><td>Not Renewd</td><td>0.188</td><td>0.3215509</td><td>0.711</td><td>0.4049546</td><td>0.3692081</td><td>0.4116593</td></tr>\n",
       "\t<tr><td>Not Renewd</td><td>0.183</td><td>0.3699182</td><td>0.701</td><td>0.4838001</td><td>0.3612048</td><td>0.4254576</td></tr>\n",
       "</tbody>\n",
       "</table>\n"
      ],
      "text/latex": [
       "A data.table: 6 × 7\n",
       "\\begin{tabular}{lllllll}\n",
       " renewal\\_status & pred\\_agg\\_glm & pred\\_agg\\_rf & pred\\_seg\\_glm & pred\\_seg\\_rf & pred\\_seg2\\_glm & pred\\_seg2\\_rf\\\\\n",
       " <fct> & <dbl> & <dbl> & <dbl> & <dbl> & <dbl> & <dbl>\\\\\n",
       "\\hline\n",
       "\t Renewed    & 0.193 & 0.4870859 & 0.719 & 0.4438893 & 0.3787142 & 0.5009564\\\\\n",
       "\t Not Renewd & 0.191 & 0.3272803 & 0.716 & 0.3856979 & 0.3737353 & 0.4038157\\\\\n",
       "\t Not Renewd & 0.201 & 0.4503606 & 0.732 & 0.4557063 & 0.3911853 & 0.4264446\\\\\n",
       "\t Not Renewd & 0.188 & 0.4750480 & 0.712 & 0.5444202 & 0.3685513 & 0.4542695\\\\\n",
       "\t Not Renewd & 0.188 & 0.3215509 & 0.711 & 0.4049546 & 0.3692081 & 0.4116593\\\\\n",
       "\t Not Renewd & 0.183 & 0.3699182 & 0.701 & 0.4838001 & 0.3612048 & 0.4254576\\\\\n",
       "\\end{tabular}\n"
      ],
      "text/markdown": [
       "\n",
       "A data.table: 6 × 7\n",
       "\n",
       "| renewal_status &lt;fct&gt; | pred_agg_glm &lt;dbl&gt; | pred_agg_rf &lt;dbl&gt; | pred_seg_glm &lt;dbl&gt; | pred_seg_rf &lt;dbl&gt; | pred_seg2_glm &lt;dbl&gt; | pred_seg2_rf &lt;dbl&gt; |\n",
       "|---|---|---|---|---|---|---|\n",
       "| Renewed    | 0.193 | 0.4870859 | 0.719 | 0.4438893 | 0.3787142 | 0.5009564 |\n",
       "| Not Renewd | 0.191 | 0.3272803 | 0.716 | 0.3856979 | 0.3737353 | 0.4038157 |\n",
       "| Not Renewd | 0.201 | 0.4503606 | 0.732 | 0.4557063 | 0.3911853 | 0.4264446 |\n",
       "| Not Renewd | 0.188 | 0.4750480 | 0.712 | 0.5444202 | 0.3685513 | 0.4542695 |\n",
       "| Not Renewd | 0.188 | 0.3215509 | 0.711 | 0.4049546 | 0.3692081 | 0.4116593 |\n",
       "| Not Renewd | 0.183 | 0.3699182 | 0.701 | 0.4838001 | 0.3612048 | 0.4254576 |\n",
       "\n"
      ],
      "text/plain": [
       "  renewal_status pred_agg_glm pred_agg_rf pred_seg_glm pred_seg_rf\n",
       "1 Renewed        0.193        0.4870859   0.719        0.4438893  \n",
       "2 Not Renewd     0.191        0.3272803   0.716        0.3856979  \n",
       "3 Not Renewd     0.201        0.4503606   0.732        0.4557063  \n",
       "4 Not Renewd     0.188        0.4750480   0.712        0.5444202  \n",
       "5 Not Renewd     0.188        0.3215509   0.711        0.4049546  \n",
       "6 Not Renewd     0.183        0.3699182   0.701        0.4838001  \n",
       "  pred_seg2_glm pred_seg2_rf\n",
       "1 0.3787142     0.5009564   \n",
       "2 0.3737353     0.4038157   \n",
       "3 0.3911853     0.4264446   \n",
       "4 0.3685513     0.4542695   \n",
       "5 0.3692081     0.4116593   \n",
       "6 0.3612048     0.4254576   "
      ]
     },
     "metadata": {},
     "output_type": "display_data"
    }
   ],
   "source": [
    "preds_df %>% select(renewal_status,contains(\"pred\")) %>% head()"
   ]
  },
  {
   "cell_type": "code",
   "execution_count": 17,
   "metadata": {},
   "outputs": [
    {
     "data": {
      "text/html": [
       "<table>\n",
       "<caption>A data.table: 6 × 7</caption>\n",
       "<thead>\n",
       "\t<tr><th scope=col>renewal_status</th><th scope=col>pred_agg_glm</th><th scope=col>pred_agg_rf</th><th scope=col>pred_seg_glm</th><th scope=col>pred_seg_rf</th><th scope=col>pred_seg2_glm</th><th scope=col>pred_seg2_rf</th></tr>\n",
       "\t<tr><th scope=col>&lt;fct&gt;</th><th scope=col>&lt;dbl&gt;</th><th scope=col>&lt;dbl&gt;</th><th scope=col>&lt;dbl&gt;</th><th scope=col>&lt;dbl&gt;</th><th scope=col>&lt;dbl&gt;</th><th scope=col>&lt;dbl&gt;</th></tr>\n",
       "</thead>\n",
       "<tbody>\n",
       "\t<tr><td>Not Renewd</td><td>NA</td><td>NA</td><td>NA</td><td>NA</td><td>NA</td><td>NA</td></tr>\n",
       "\t<tr><td>Not Renewd</td><td>NA</td><td>NA</td><td>NA</td><td>NA</td><td>NA</td><td>NA</td></tr>\n",
       "\t<tr><td>Not Renewd</td><td>NA</td><td>NA</td><td>NA</td><td>NA</td><td>NA</td><td>NA</td></tr>\n",
       "\t<tr><td>Not Renewd</td><td>NA</td><td>NA</td><td>NA</td><td>NA</td><td>NA</td><td>NA</td></tr>\n",
       "\t<tr><td>Not Renewd</td><td>NA</td><td>NA</td><td>NA</td><td>NA</td><td>NA</td><td>NA</td></tr>\n",
       "\t<tr><td>Not Renewd</td><td>NA</td><td>NA</td><td>NA</td><td>NA</td><td>NA</td><td>NA</td></tr>\n",
       "</tbody>\n",
       "</table>\n"
      ],
      "text/latex": [
       "A data.table: 6 × 7\n",
       "\\begin{tabular}{lllllll}\n",
       " renewal\\_status & pred\\_agg\\_glm & pred\\_agg\\_rf & pred\\_seg\\_glm & pred\\_seg\\_rf & pred\\_seg2\\_glm & pred\\_seg2\\_rf\\\\\n",
       " <fct> & <dbl> & <dbl> & <dbl> & <dbl> & <dbl> & <dbl>\\\\\n",
       "\\hline\n",
       "\t Not Renewd & NA & NA & NA & NA & NA & NA\\\\\n",
       "\t Not Renewd & NA & NA & NA & NA & NA & NA\\\\\n",
       "\t Not Renewd & NA & NA & NA & NA & NA & NA\\\\\n",
       "\t Not Renewd & NA & NA & NA & NA & NA & NA\\\\\n",
       "\t Not Renewd & NA & NA & NA & NA & NA & NA\\\\\n",
       "\t Not Renewd & NA & NA & NA & NA & NA & NA\\\\\n",
       "\\end{tabular}\n"
      ],
      "text/markdown": [
       "\n",
       "A data.table: 6 × 7\n",
       "\n",
       "| renewal_status &lt;fct&gt; | pred_agg_glm &lt;dbl&gt; | pred_agg_rf &lt;dbl&gt; | pred_seg_glm &lt;dbl&gt; | pred_seg_rf &lt;dbl&gt; | pred_seg2_glm &lt;dbl&gt; | pred_seg2_rf &lt;dbl&gt; |\n",
       "|---|---|---|---|---|---|---|\n",
       "| Not Renewd | NA | NA | NA | NA | NA | NA |\n",
       "| Not Renewd | NA | NA | NA | NA | NA | NA |\n",
       "| Not Renewd | NA | NA | NA | NA | NA | NA |\n",
       "| Not Renewd | NA | NA | NA | NA | NA | NA |\n",
       "| Not Renewd | NA | NA | NA | NA | NA | NA |\n",
       "| Not Renewd | NA | NA | NA | NA | NA | NA |\n",
       "\n"
      ],
      "text/plain": [
       "  renewal_status pred_agg_glm pred_agg_rf pred_seg_glm pred_seg_rf\n",
       "1 Not Renewd     NA           NA          NA           NA         \n",
       "2 Not Renewd     NA           NA          NA           NA         \n",
       "3 Not Renewd     NA           NA          NA           NA         \n",
       "4 Not Renewd     NA           NA          NA           NA         \n",
       "5 Not Renewd     NA           NA          NA           NA         \n",
       "6 Not Renewd     NA           NA          NA           NA         \n",
       "  pred_seg2_glm pred_seg2_rf\n",
       "1 NA            NA          \n",
       "2 NA            NA          \n",
       "3 NA            NA          \n",
       "4 NA            NA          \n",
       "5 NA            NA          \n",
       "6 NA            NA          "
      ]
     },
     "metadata": {},
     "output_type": "display_data"
    }
   ],
   "source": [
    "preds_df %>% select(renewal_status,contains(\"pred\")) %>% tail()"
   ]
  },
  {
   "cell_type": "markdown",
   "metadata": {},
   "source": [
    "# Fallback \n",
    "Since low volume tld-re's were excluded from training and testing, their predictions will be NA, so we just fill all NAs with fallback values."
   ]
  },
  {
   "cell_type": "code",
   "execution_count": 135,
   "metadata": {},
   "outputs": [],
   "source": [
    "source('functions_fallback.R')"
   ]
  },
  {
   "cell_type": "code",
   "execution_count": 35,
   "metadata": {},
   "outputs": [],
   "source": [
    "# THIS IS NO LONGER NEEDED (SEE ABOVE)\n",
    "# # define binary indicator for fallback use\n",
    "# preds_df <- preds_df %>% mutate(pred_agg_glm_fb = ifelse((tld_registrar_index %in% tld_registrar_fb_list) | \n",
    "#                                              is.na(pred_agg_glm), 1,0),\n",
    "#                                pred_agg_rf_fb = ifelse((tld_registrar_index %in% tld_registrar_fb_list) | \n",
    "#                                              is.na(pred_agg_rf), 1,0),\n",
    "#                                pred_seg_glm_fb = ifelse((tld_registrar_index %in% tld_registrar_fb_list) | \n",
    "#                                              is.na(pred_seg_glm), 1,0),\n",
    "#                                pred_seg_rf_fb = ifelse((tld_registrar_index %in% tld_registrar_fb_list) | \n",
    "#                                              is.na(pred_seg_rf), 1,0),\n",
    "#                                pred_seg2_glm_fb = ifelse((tld_registrar_index %in% tld_registrar_fb_list) | \n",
    "#                                              is.na(pred_seg2_glm), 1,0),\n",
    "#                                pred_seg2_rf_fb = ifelse((tld_registrar_index %in% tld_registrar_fb_list) | \n",
    "#                                              is.na(pred_seg2_rf), 1,0),\n",
    "#                                )\n",
    "   \n",
    "# # preds_df %>% group_by(tld_registrar_index, pred_agg_glm_fb) %>% tally()\n",
    "# # preds_df %>% group_by(tld_registrar_index, pred_agg_rf_fb) %>% tally()\n",
    "# # preds_df %>% group_by(tld_registrar_index, pred_seg_glm_fb) %>% tally()\n",
    "# # preds_df %>% group_by(tld_registrar_index, pred_seg_rf_fb) %>% tally()\n",
    "# # preds_df %>% group_by(tld_registrar_index, pred_seg2_glm_fb) %>% tally() \n",
    "# # preds_df %>% group_by(tld_registrar_index, pred_seg2_rf_fb) %>% tally()"
   ]
  },
  {
   "cell_type": "code",
   "execution_count": 111,
   "metadata": {},
   "outputs": [],
   "source": [
    "# system(\"gsutil cp gs://data_input/PredictiveModelAnalysis_ResellerGeoMap.csv /home/jupyter/local/Domains_202003/data/PredictiveModelAnalysis_ResellerGeoMap.csv\")\n",
    "geoLookupDF <- read.csv(\"/home/jupyter/local/Domains_202003/data/PredictiveModelAnalysis_ResellerGeoMap.csv\")\n",
    "# need to remove final row with all NAs\n",
    "geoLookupDF <- geoLookupDF %>% filter_all(any_vars(!is.na(.)))\n"
   ]
  },
  {
   "cell_type": "code",
   "execution_count": 133,
   "metadata": {},
   "outputs": [],
   "source": [
    "geo_lookup <- function(geoLookupDF,\n",
    "                         preds_df) {\n",
    "        \n",
    "    # 1. use geo lookup with duplicate rows removed\n",
    "    #    remove duplicate rows in geo_lookup due to registrar level segmentation\n",
    "    #    results in dims matching for expiry_test\n",
    "\n",
    "    geoLookupDF <- geoLookupDF %>% distinct(reseller,reseller_country, reseller_geo)\n",
    "\n",
    "    preds_df$reseller <- factor(preds_df$reseller)\n",
    "    preds_df$reseller_country <- factor(preds_df$reseller_country)\n",
    "    preds_df <- as.data.frame(preds_df)\n",
    "\n",
    "    preds_df <- merge(preds_df,\n",
    "                      geoLookupDF,\n",
    "                      on=c('reseller','reseller_country'), \n",
    "                      all.x = TRUE)\n",
    "    \n",
    "    \n",
    "    \n",
    "    # 2. create a new lookup where we drop everything except for \n",
    "    #    reseller_country and _geo and have NA map to Others\n",
    "    \n",
    "    geoLookupDF <- geoLookupDF %>% distinct(reseller_country, reseller_geo) %>% \n",
    "                    mutate(reseller_geo = as.character(reseller_geo)) %>%\n",
    "                    mutate(eseller_geo = if_else(is.na(reseller_country), 'Others', reseller_geo) ) %>% \n",
    "                    distinct(reseller_country, reseller_geo) %>% \n",
    "                    mutate(reseller_geo = as.factor(reseller_geo))\n",
    "\n",
    "    # use new lookup to fill reseller_geo based just on reseller_country\n",
    "    preds_df[['reseller_geo']][is.na(preds_df[['reseller_geo']])]<-\n",
    "                    geoLookupDF$reseller_geo[match(\n",
    "                        preds_df$reseller_country[is.na(preds_df[['reseller_geo']])],\n",
    "                        geoLookupDF$reseller_country)]\n",
    "\n",
    "    # manual fix for reseller geo \n",
    "    preds_df[['reseller_geo']][preds_df[['reseller_country']]=='Southafrica']<-'South Africa'\n",
    "\n",
    "    # Print remaining NA reseller_geos\n",
    "    rem_res <- preds_df %>% filter(is.na(reseller_geo)) %>% \n",
    "          distinct(reseller,reseller_country, reseller_geo) %>% pull(reseller)\n",
    "    cat(\"Resellers with unmatched reseller_geo's: \",paste0(rem_res, sep=\", \"))\n",
    "    \n",
    "    return(preds_df)\n",
    "}"
   ]
  },
  {
   "cell_type": "code",
   "execution_count": null,
   "metadata": {},
   "outputs": [],
   "source": []
  },
  {
   "cell_type": "code",
   "execution_count": 134,
   "metadata": {},
   "outputs": [
    {
     "name": "stdout",
     "output_type": "stream",
     "text": [
      "Resellers with unmatched reseller_geo's:  net4 india,  virtua drug, "
     ]
    }
   ],
   "source": [
    "preds_df_2 = geo_lookup(geoLookupDF,preds_df)\n"
   ]
  },
  {
   "cell_type": "code",
   "execution_count": 138,
   "metadata": {},
   "outputs": [
    {
     "name": "stderr",
     "output_type": "stream",
     "text": [
      "Warning message:\n",
      "“`funs()` is deprecated as of dplyr 0.8.0.\n",
      "Please use a list of either functions or lambdas: \n",
      "\n",
      "  # Simple named list: \n",
      "  list(mean = mean, median = median)\n",
      "\n",
      "  # Auto named with `tibble::lst()`: \n",
      "  tibble::lst(mean, median)\n",
      "\n",
      "  # Using lambdas\n",
      "  list(~ mean(., trim = .2), ~ median(., na.rm = TRUE))\n",
      "\u001b[90mThis warning is displayed once every 8 hours.\u001b[39m\n",
      "\u001b[90mCall `lifecycle::last_warnings()` to see where this warning was generated.\u001b[39m”\n"
     ]
    },
    {
     "data": {
      "text/html": [
       "<table>\n",
       "<caption>A matrix: 46 × 1 of type int</caption>\n",
       "<tbody>\n",
       "\t<tr><th scope=row>reseller</th><td>    0</td></tr>\n",
       "\t<tr><th scope=row>reseller_country</th><td>    0</td></tr>\n",
       "\t<tr><th scope=row>renewal_type</th><td>    0</td></tr>\n",
       "\t<tr><th scope=row>renewed_count</th><td>    0</td></tr>\n",
       "\t<tr><th scope=row>expiry_date</th><td>    0</td></tr>\n",
       "\t<tr><th scope=row>domain_id</th><td>    0</td></tr>\n",
       "\t<tr><th scope=row>domain</th><td>    0</td></tr>\n",
       "\t<tr><th scope=row>creation_date</th><td>    0</td></tr>\n",
       "\t<tr><th scope=row>status</th><td>    0</td></tr>\n",
       "\t<tr><th scope=row>tld</th><td>    0</td></tr>\n",
       "\t<tr><th scope=row>registrar</th><td>    0</td></tr>\n",
       "\t<tr><th scope=row>region</th><td>    0</td></tr>\n",
       "\t<tr><th scope=row>reg_period</th><td>    0</td></tr>\n",
       "\t<tr><th scope=row>registrant_country</th><td>11345</td></tr>\n",
       "\t<tr><th scope=row>renewal_status</th><td>    0</td></tr>\n",
       "\t<tr><th scope=row>renew_mbg</th><td>    0</td></tr>\n",
       "\t<tr><th scope=row>renew_type</th><td>  211</td></tr>\n",
       "\t<tr><th scope=row>autorenew_type</th><td> 3381</td></tr>\n",
       "\t<tr><th scope=row>renew_date</th><td>  213</td></tr>\n",
       "\t<tr><th scope=row>renew_registrar</th><td>    0</td></tr>\n",
       "\t<tr><th scope=row>renew_reseller</th><td>    0</td></tr>\n",
       "\t<tr><th scope=row>reg_revenue</th><td>    0</td></tr>\n",
       "\t<tr><th scope=row>reg_arpt</th><td>    0</td></tr>\n",
       "\t<tr><th scope=row>renew_period</th><td>  213</td></tr>\n",
       "\t<tr><th scope=row>renew_domain_revenue</th><td>    0</td></tr>\n",
       "\t<tr><th scope=row>renew_arpt</th><td>  213</td></tr>\n",
       "\t<tr><th scope=row>reg_arpt_org</th><td>    0</td></tr>\n",
       "\t<tr><th scope=row>tld_registrar_index</th><td>    0</td></tr>\n",
       "\t<tr><th scope=row>sld</th><td>    0</td></tr>\n",
       "\t<tr><th scope=row>sld_type</th><td>    0</td></tr>\n",
       "\t<tr><th scope=row>sld_length</th><td>    0</td></tr>\n",
       "\t<tr><th scope=row>sld_type2</th><td>    0</td></tr>\n",
       "\t<tr><th scope=row>day_domains</th><td>    0</td></tr>\n",
       "\t<tr><th scope=row>log_reg_arpt</th><td>    0</td></tr>\n",
       "\t<tr><th scope=row>gibb_score</th><td>    0</td></tr>\n",
       "\t<tr><th scope=row>pattern</th><td>    0</td></tr>\n",
       "\t<tr><th scope=row>cluster</th><td>    0</td></tr>\n",
       "\t<tr><th scope=row>pattern_score</th><td>    0</td></tr>\n",
       "\t<tr><th scope=row>pattern_domain_count</th><td>    0</td></tr>\n",
       "\t<tr><th scope=row>pred_agg_glm</th><td> 5845</td></tr>\n",
       "\t<tr><th scope=row>pred_agg_rf</th><td> 5845</td></tr>\n",
       "\t<tr><th scope=row>pred_seg_glm</th><td> 5845</td></tr>\n",
       "\t<tr><th scope=row>pred_seg_rf</th><td> 5845</td></tr>\n",
       "\t<tr><th scope=row>pred_seg2_glm</th><td> 5846</td></tr>\n",
       "\t<tr><th scope=row>pred_seg2_rf</th><td> 5845</td></tr>\n",
       "\t<tr><th scope=row>reseller_geo</th><td>    2</td></tr>\n",
       "</tbody>\n",
       "</table>\n"
      ],
      "text/latex": [
       "A matrix: 46 × 1 of type int\n",
       "\\begin{tabular}{r|l}\n",
       "\treseller &     0\\\\\n",
       "\treseller\\_country &     0\\\\\n",
       "\trenewal\\_type &     0\\\\\n",
       "\trenewed\\_count &     0\\\\\n",
       "\texpiry\\_date &     0\\\\\n",
       "\tdomain\\_id &     0\\\\\n",
       "\tdomain &     0\\\\\n",
       "\tcreation\\_date &     0\\\\\n",
       "\tstatus &     0\\\\\n",
       "\ttld &     0\\\\\n",
       "\tregistrar &     0\\\\\n",
       "\tregion &     0\\\\\n",
       "\treg\\_period &     0\\\\\n",
       "\tregistrant\\_country & 11345\\\\\n",
       "\trenewal\\_status &     0\\\\\n",
       "\trenew\\_mbg &     0\\\\\n",
       "\trenew\\_type &   211\\\\\n",
       "\tautorenew\\_type &  3381\\\\\n",
       "\trenew\\_date &   213\\\\\n",
       "\trenew\\_registrar &     0\\\\\n",
       "\trenew\\_reseller &     0\\\\\n",
       "\treg\\_revenue &     0\\\\\n",
       "\treg\\_arpt &     0\\\\\n",
       "\trenew\\_period &   213\\\\\n",
       "\trenew\\_domain\\_revenue &     0\\\\\n",
       "\trenew\\_arpt &   213\\\\\n",
       "\treg\\_arpt\\_org &     0\\\\\n",
       "\ttld\\_registrar\\_index &     0\\\\\n",
       "\tsld &     0\\\\\n",
       "\tsld\\_type &     0\\\\\n",
       "\tsld\\_length &     0\\\\\n",
       "\tsld\\_type2 &     0\\\\\n",
       "\tday\\_domains &     0\\\\\n",
       "\tlog\\_reg\\_arpt &     0\\\\\n",
       "\tgibb\\_score &     0\\\\\n",
       "\tpattern &     0\\\\\n",
       "\tcluster &     0\\\\\n",
       "\tpattern\\_score &     0\\\\\n",
       "\tpattern\\_domain\\_count &     0\\\\\n",
       "\tpred\\_agg\\_glm &  5845\\\\\n",
       "\tpred\\_agg\\_rf &  5845\\\\\n",
       "\tpred\\_seg\\_glm &  5845\\\\\n",
       "\tpred\\_seg\\_rf &  5845\\\\\n",
       "\tpred\\_seg2\\_glm &  5846\\\\\n",
       "\tpred\\_seg2\\_rf &  5845\\\\\n",
       "\treseller\\_geo &     2\\\\\n",
       "\\end{tabular}\n"
      ],
      "text/markdown": [
       "\n",
       "A matrix: 46 × 1 of type int\n",
       "\n",
       "| reseller |     0 |\n",
       "| reseller_country |     0 |\n",
       "| renewal_type |     0 |\n",
       "| renewed_count |     0 |\n",
       "| expiry_date |     0 |\n",
       "| domain_id |     0 |\n",
       "| domain |     0 |\n",
       "| creation_date |     0 |\n",
       "| status |     0 |\n",
       "| tld |     0 |\n",
       "| registrar |     0 |\n",
       "| region |     0 |\n",
       "| reg_period |     0 |\n",
       "| registrant_country | 11345 |\n",
       "| renewal_status |     0 |\n",
       "| renew_mbg |     0 |\n",
       "| renew_type |   211 |\n",
       "| autorenew_type |  3381 |\n",
       "| renew_date |   213 |\n",
       "| renew_registrar |     0 |\n",
       "| renew_reseller |     0 |\n",
       "| reg_revenue |     0 |\n",
       "| reg_arpt |     0 |\n",
       "| renew_period |   213 |\n",
       "| renew_domain_revenue |     0 |\n",
       "| renew_arpt |   213 |\n",
       "| reg_arpt_org |     0 |\n",
       "| tld_registrar_index |     0 |\n",
       "| sld |     0 |\n",
       "| sld_type |     0 |\n",
       "| sld_length |     0 |\n",
       "| sld_type2 |     0 |\n",
       "| day_domains |     0 |\n",
       "| log_reg_arpt |     0 |\n",
       "| gibb_score |     0 |\n",
       "| pattern |     0 |\n",
       "| cluster |     0 |\n",
       "| pattern_score |     0 |\n",
       "| pattern_domain_count |     0 |\n",
       "| pred_agg_glm |  5845 |\n",
       "| pred_agg_rf |  5845 |\n",
       "| pred_seg_glm |  5845 |\n",
       "| pred_seg_rf |  5845 |\n",
       "| pred_seg2_glm |  5846 |\n",
       "| pred_seg2_rf |  5845 |\n",
       "| reseller_geo |     2 |\n",
       "\n"
      ],
      "text/plain": [
       "                     [,1] \n",
       "reseller                 0\n",
       "reseller_country         0\n",
       "renewal_type             0\n",
       "renewed_count            0\n",
       "expiry_date              0\n",
       "domain_id                0\n",
       "domain                   0\n",
       "creation_date            0\n",
       "status                   0\n",
       "tld                      0\n",
       "registrar                0\n",
       "region                   0\n",
       "reg_period               0\n",
       "registrant_country   11345\n",
       "renewal_status           0\n",
       "renew_mbg                0\n",
       "renew_type             211\n",
       "autorenew_type        3381\n",
       "renew_date             213\n",
       "renew_registrar          0\n",
       "renew_reseller           0\n",
       "reg_revenue              0\n",
       "reg_arpt                 0\n",
       "renew_period           213\n",
       "renew_domain_revenue     0\n",
       "renew_arpt             213\n",
       "reg_arpt_org             0\n",
       "tld_registrar_index      0\n",
       "sld                      0\n",
       "sld_type                 0\n",
       "sld_length               0\n",
       "sld_type2                0\n",
       "day_domains              0\n",
       "log_reg_arpt             0\n",
       "gibb_score               0\n",
       "pattern                  0\n",
       "cluster                  0\n",
       "pattern_score            0\n",
       "pattern_domain_count     0\n",
       "pred_agg_glm          5845\n",
       "pred_agg_rf           5845\n",
       "pred_seg_glm          5845\n",
       "pred_seg_rf           5845\n",
       "pred_seg2_glm         5846\n",
       "pred_seg2_rf          5845\n",
       "reseller_geo             2"
      ]
     },
     "metadata": {},
     "output_type": "display_data"
    }
   ],
   "source": [
    "preds_df_2 %>%\n",
    "  select(everything()) %>%  # replace to your needs\n",
    "  summarise_all(funs(sum(is.na(.)))) %>% t()"
   ]
  },
  {
   "cell_type": "code",
   "execution_count": 136,
   "metadata": {},
   "outputs": [
    {
     "name": "stderr",
     "output_type": "stream",
     "text": [
      "`summarise()` regrouping output by 'tld', 'reseller_geo' (override with `.groups` argument)\n",
      "\n",
      "`summarise()` regrouping output by 'reseller_geo' (override with `.groups` argument)\n",
      "\n",
      "`summarise()` regrouping output by 'tld' (override with `.groups` argument)\n",
      "\n",
      "`summarise()` regrouping output by 'tld' (override with `.groups` argument)\n",
      "\n",
      "`summarise()` ungrouping output (override with `.groups` argument)\n",
      "\n",
      "`summarise()` regrouping output by 'tld' (override with `.groups` argument)\n",
      "\n",
      "`summarise()` ungrouping output (override with `.groups` argument)\n",
      "\n",
      "`summarise()` regrouping output by 'region' (override with `.groups` argument)\n",
      "\n",
      "`summarise()` ungrouping output (override with `.groups` argument)\n",
      "\n",
      "`summarise()` ungrouping output (override with `.groups` argument)\n",
      "\n"
     ]
    }
   ],
   "source": [
    "npv_fallback_list = fallback_gen( npv_historic_renewal_data = expiry_train_df_1, reseller_am_geo_map = geoLookupDF)"
   ]
  },
  {
   "cell_type": "code",
   "execution_count": 137,
   "metadata": {},
   "outputs": [
    {
     "data": {
      "text/html": [
       "<style>\n",
       ".list-inline {list-style: none; margin:0; padding: 0}\n",
       ".list-inline>li {display: inline-block}\n",
       ".list-inline>li:not(:last-child)::after {content: \"\\00b7\"; padding: 0 .5ex}\n",
       "</style>\n",
       "<ol class=list-inline><li>'npv_fallback_first_geo_arpt_tld'</li><li>'npv_fallback_first_geo_arpt'</li><li>'npv_fallback_first_tld_arpt'</li><li>'npv_fallback_second_tld_geo'</li><li>'npv_fallback_second_geo'</li><li>'npv_fallback_third_tld_geo'</li><li>'npv_fallback_third_geo'</li><li>'npv_fallback_first_final'</li><li>'npv_fallback_second_final'</li><li>'npv_fallback_third_final'</li></ol>\n"
      ],
      "text/latex": [
       "\\begin{enumerate*}\n",
       "\\item 'npv\\_fallback\\_first\\_geo\\_arpt\\_tld'\n",
       "\\item 'npv\\_fallback\\_first\\_geo\\_arpt'\n",
       "\\item 'npv\\_fallback\\_first\\_tld\\_arpt'\n",
       "\\item 'npv\\_fallback\\_second\\_tld\\_geo'\n",
       "\\item 'npv\\_fallback\\_second\\_geo'\n",
       "\\item 'npv\\_fallback\\_third\\_tld\\_geo'\n",
       "\\item 'npv\\_fallback\\_third\\_geo'\n",
       "\\item 'npv\\_fallback\\_first\\_final'\n",
       "\\item 'npv\\_fallback\\_second\\_final'\n",
       "\\item 'npv\\_fallback\\_third\\_final'\n",
       "\\end{enumerate*}\n"
      ],
      "text/markdown": [
       "1. 'npv_fallback_first_geo_arpt_tld'\n",
       "2. 'npv_fallback_first_geo_arpt'\n",
       "3. 'npv_fallback_first_tld_arpt'\n",
       "4. 'npv_fallback_second_tld_geo'\n",
       "5. 'npv_fallback_second_geo'\n",
       "6. 'npv_fallback_third_tld_geo'\n",
       "7. 'npv_fallback_third_geo'\n",
       "8. 'npv_fallback_first_final'\n",
       "9. 'npv_fallback_second_final'\n",
       "10. 'npv_fallback_third_final'\n",
       "\n",
       "\n"
      ],
      "text/plain": [
       " [1] \"npv_fallback_first_geo_arpt_tld\" \"npv_fallback_first_geo_arpt\"    \n",
       " [3] \"npv_fallback_first_tld_arpt\"     \"npv_fallback_second_tld_geo\"    \n",
       " [5] \"npv_fallback_second_geo\"         \"npv_fallback_third_tld_geo\"     \n",
       " [7] \"npv_fallback_third_geo\"          \"npv_fallback_first_final\"       \n",
       " [9] \"npv_fallback_second_final\"       \"npv_fallback_third_final\"       "
      ]
     },
     "metadata": {},
     "output_type": "display_data"
    }
   ],
   "source": [
    "# return list members to objects\n",
    "names(npv_fallback_list)\n",
    "for(i in 1:length(npv_fallback_list)) assign(names(npv_fallback_list)[i], npv_fallback_list[[i]])"
   ]
  },
  {
   "cell_type": "code",
   "execution_count": 143,
   "metadata": {},
   "outputs": [],
   "source": [
    "cols <- preds_df %>% select(contains(\"pred\")) %>% names()"
   ]
  },
  {
   "cell_type": "code",
   "execution_count": 145,
   "metadata": {},
   "outputs": [
    {
     "data": {
      "text/html": [
       "<style>\n",
       ".list-inline {list-style: none; margin:0; padding: 0}\n",
       ".list-inline>li {display: inline-block}\n",
       ".list-inline>li:not(:last-child)::after {content: \"\\00b7\"; padding: 0 .5ex}\n",
       "</style>\n",
       "<ol class=list-inline><li>11370</li><li>46</li></ol>\n"
      ],
      "text/latex": [
       "\\begin{enumerate*}\n",
       "\\item 11370\n",
       "\\item 46\n",
       "\\end{enumerate*}\n"
      ],
      "text/markdown": [
       "1. 11370\n",
       "2. 46\n",
       "\n",
       "\n"
      ],
      "text/plain": [
       "[1] 11370    46"
      ]
     },
     "metadata": {},
     "output_type": "display_data"
    },
    {
     "data": {
      "text/html": [
       "<style>\n",
       ".list-inline {list-style: none; margin:0; padding: 0}\n",
       ".list-inline>li {display: inline-block}\n",
       ".list-inline>li:not(:last-child)::after {content: \"\\00b7\"; padding: 0 .5ex}\n",
       "</style>\n",
       "<ol class=list-inline><li>11370</li><li>53</li></ol>\n"
      ],
      "text/latex": [
       "\\begin{enumerate*}\n",
       "\\item 11370\n",
       "\\item 53\n",
       "\\end{enumerate*}\n"
      ],
      "text/markdown": [
       "1. 11370\n",
       "2. 53\n",
       "\n",
       "\n"
      ],
      "text/plain": [
       "[1] 11370    53"
      ]
     },
     "metadata": {},
     "output_type": "display_data"
    }
   ],
   "source": [
    "preds_df_3 <- preds_df_2\n",
    "\n",
    "for (col in cols) {\n",
    "    preds_df_3 <- fallback_app_1(\n",
    "                test_data_op=preds_df_3,\n",
    "                in_col=col,\n",
    "                out_col=paste0(col,'_fb'))\n",
    "}\n",
    "\n",
    "\n",
    "dim(preds_df_2)\n",
    "dim(preds_df_3)"
   ]
  },
  {
   "cell_type": "code",
   "execution_count": 146,
   "metadata": {},
   "outputs": [
    {
     "data": {
      "text/html": [
       "<table>\n",
       "<caption>A matrix: 53 × 1 of type int</caption>\n",
       "<tbody>\n",
       "\t<tr><th scope=row>reseller</th><td>    0</td></tr>\n",
       "\t<tr><th scope=row>reseller_country</th><td>    0</td></tr>\n",
       "\t<tr><th scope=row>renewal_type</th><td>    0</td></tr>\n",
       "\t<tr><th scope=row>renewed_count</th><td>    0</td></tr>\n",
       "\t<tr><th scope=row>expiry_date</th><td>    0</td></tr>\n",
       "\t<tr><th scope=row>domain_id</th><td>    0</td></tr>\n",
       "\t<tr><th scope=row>domain</th><td>    0</td></tr>\n",
       "\t<tr><th scope=row>creation_date</th><td>    0</td></tr>\n",
       "\t<tr><th scope=row>status</th><td>    0</td></tr>\n",
       "\t<tr><th scope=row>tld</th><td>    0</td></tr>\n",
       "\t<tr><th scope=row>registrar</th><td>    0</td></tr>\n",
       "\t<tr><th scope=row>region</th><td>    0</td></tr>\n",
       "\t<tr><th scope=row>reg_period</th><td>    0</td></tr>\n",
       "\t<tr><th scope=row>registrant_country</th><td>11345</td></tr>\n",
       "\t<tr><th scope=row>renewal_status</th><td>    0</td></tr>\n",
       "\t<tr><th scope=row>renew_mbg</th><td>    0</td></tr>\n",
       "\t<tr><th scope=row>renew_type</th><td>  211</td></tr>\n",
       "\t<tr><th scope=row>autorenew_type</th><td> 3381</td></tr>\n",
       "\t<tr><th scope=row>renew_date</th><td>  213</td></tr>\n",
       "\t<tr><th scope=row>renew_registrar</th><td>    0</td></tr>\n",
       "\t<tr><th scope=row>renew_reseller</th><td>    0</td></tr>\n",
       "\t<tr><th scope=row>reg_revenue</th><td>    0</td></tr>\n",
       "\t<tr><th scope=row>reg_arpt</th><td>    0</td></tr>\n",
       "\t<tr><th scope=row>renew_period</th><td>  213</td></tr>\n",
       "\t<tr><th scope=row>renew_domain_revenue</th><td>    0</td></tr>\n",
       "\t<tr><th scope=row>renew_arpt</th><td>  213</td></tr>\n",
       "\t<tr><th scope=row>reg_arpt_org</th><td>    0</td></tr>\n",
       "\t<tr><th scope=row>tld_registrar_index</th><td>    0</td></tr>\n",
       "\t<tr><th scope=row>sld</th><td>    0</td></tr>\n",
       "\t<tr><th scope=row>sld_type</th><td>    0</td></tr>\n",
       "\t<tr><th scope=row>sld_length</th><td>    0</td></tr>\n",
       "\t<tr><th scope=row>sld_type2</th><td>    0</td></tr>\n",
       "\t<tr><th scope=row>day_domains</th><td>    0</td></tr>\n",
       "\t<tr><th scope=row>log_reg_arpt</th><td>    0</td></tr>\n",
       "\t<tr><th scope=row>gibb_score</th><td>    0</td></tr>\n",
       "\t<tr><th scope=row>pattern</th><td>    0</td></tr>\n",
       "\t<tr><th scope=row>cluster</th><td>    0</td></tr>\n",
       "\t<tr><th scope=row>pattern_score</th><td>    0</td></tr>\n",
       "\t<tr><th scope=row>pattern_domain_count</th><td>    0</td></tr>\n",
       "\t<tr><th scope=row>pred_agg_glm</th><td> 5845</td></tr>\n",
       "\t<tr><th scope=row>pred_agg_rf</th><td> 5845</td></tr>\n",
       "\t<tr><th scope=row>pred_seg_glm</th><td> 5845</td></tr>\n",
       "\t<tr><th scope=row>pred_seg_rf</th><td> 5845</td></tr>\n",
       "\t<tr><th scope=row>pred_seg2_glm</th><td> 5846</td></tr>\n",
       "\t<tr><th scope=row>pred_seg2_rf</th><td> 5845</td></tr>\n",
       "\t<tr><th scope=row>reseller_geo</th><td>    2</td></tr>\n",
       "\t<tr><th scope=row>reg_arpt_slab</th><td>    0</td></tr>\n",
       "\t<tr><th scope=row>pred_agg_glm_fb</th><td>    0</td></tr>\n",
       "\t<tr><th scope=row>pred_agg_rf_fb</th><td>    0</td></tr>\n",
       "\t<tr><th scope=row>pred_seg_glm_fb</th><td>    0</td></tr>\n",
       "\t<tr><th scope=row>pred_seg_rf_fb</th><td>    0</td></tr>\n",
       "\t<tr><th scope=row>pred_seg2_glm_fb</th><td>    0</td></tr>\n",
       "\t<tr><th scope=row>pred_seg2_rf_fb</th><td>    0</td></tr>\n",
       "</tbody>\n",
       "</table>\n"
      ],
      "text/latex": [
       "A matrix: 53 × 1 of type int\n",
       "\\begin{tabular}{r|l}\n",
       "\treseller &     0\\\\\n",
       "\treseller\\_country &     0\\\\\n",
       "\trenewal\\_type &     0\\\\\n",
       "\trenewed\\_count &     0\\\\\n",
       "\texpiry\\_date &     0\\\\\n",
       "\tdomain\\_id &     0\\\\\n",
       "\tdomain &     0\\\\\n",
       "\tcreation\\_date &     0\\\\\n",
       "\tstatus &     0\\\\\n",
       "\ttld &     0\\\\\n",
       "\tregistrar &     0\\\\\n",
       "\tregion &     0\\\\\n",
       "\treg\\_period &     0\\\\\n",
       "\tregistrant\\_country & 11345\\\\\n",
       "\trenewal\\_status &     0\\\\\n",
       "\trenew\\_mbg &     0\\\\\n",
       "\trenew\\_type &   211\\\\\n",
       "\tautorenew\\_type &  3381\\\\\n",
       "\trenew\\_date &   213\\\\\n",
       "\trenew\\_registrar &     0\\\\\n",
       "\trenew\\_reseller &     0\\\\\n",
       "\treg\\_revenue &     0\\\\\n",
       "\treg\\_arpt &     0\\\\\n",
       "\trenew\\_period &   213\\\\\n",
       "\trenew\\_domain\\_revenue &     0\\\\\n",
       "\trenew\\_arpt &   213\\\\\n",
       "\treg\\_arpt\\_org &     0\\\\\n",
       "\ttld\\_registrar\\_index &     0\\\\\n",
       "\tsld &     0\\\\\n",
       "\tsld\\_type &     0\\\\\n",
       "\tsld\\_length &     0\\\\\n",
       "\tsld\\_type2 &     0\\\\\n",
       "\tday\\_domains &     0\\\\\n",
       "\tlog\\_reg\\_arpt &     0\\\\\n",
       "\tgibb\\_score &     0\\\\\n",
       "\tpattern &     0\\\\\n",
       "\tcluster &     0\\\\\n",
       "\tpattern\\_score &     0\\\\\n",
       "\tpattern\\_domain\\_count &     0\\\\\n",
       "\tpred\\_agg\\_glm &  5845\\\\\n",
       "\tpred\\_agg\\_rf &  5845\\\\\n",
       "\tpred\\_seg\\_glm &  5845\\\\\n",
       "\tpred\\_seg\\_rf &  5845\\\\\n",
       "\tpred\\_seg2\\_glm &  5846\\\\\n",
       "\tpred\\_seg2\\_rf &  5845\\\\\n",
       "\treseller\\_geo &     2\\\\\n",
       "\treg\\_arpt\\_slab &     0\\\\\n",
       "\tpred\\_agg\\_glm\\_fb &     0\\\\\n",
       "\tpred\\_agg\\_rf\\_fb &     0\\\\\n",
       "\tpred\\_seg\\_glm\\_fb &     0\\\\\n",
       "\tpred\\_seg\\_rf\\_fb &     0\\\\\n",
       "\tpred\\_seg2\\_glm\\_fb &     0\\\\\n",
       "\tpred\\_seg2\\_rf\\_fb &     0\\\\\n",
       "\\end{tabular}\n"
      ],
      "text/markdown": [
       "\n",
       "A matrix: 53 × 1 of type int\n",
       "\n",
       "| reseller |     0 |\n",
       "| reseller_country |     0 |\n",
       "| renewal_type |     0 |\n",
       "| renewed_count |     0 |\n",
       "| expiry_date |     0 |\n",
       "| domain_id |     0 |\n",
       "| domain |     0 |\n",
       "| creation_date |     0 |\n",
       "| status |     0 |\n",
       "| tld |     0 |\n",
       "| registrar |     0 |\n",
       "| region |     0 |\n",
       "| reg_period |     0 |\n",
       "| registrant_country | 11345 |\n",
       "| renewal_status |     0 |\n",
       "| renew_mbg |     0 |\n",
       "| renew_type |   211 |\n",
       "| autorenew_type |  3381 |\n",
       "| renew_date |   213 |\n",
       "| renew_registrar |     0 |\n",
       "| renew_reseller |     0 |\n",
       "| reg_revenue |     0 |\n",
       "| reg_arpt |     0 |\n",
       "| renew_period |   213 |\n",
       "| renew_domain_revenue |     0 |\n",
       "| renew_arpt |   213 |\n",
       "| reg_arpt_org |     0 |\n",
       "| tld_registrar_index |     0 |\n",
       "| sld |     0 |\n",
       "| sld_type |     0 |\n",
       "| sld_length |     0 |\n",
       "| sld_type2 |     0 |\n",
       "| day_domains |     0 |\n",
       "| log_reg_arpt |     0 |\n",
       "| gibb_score |     0 |\n",
       "| pattern |     0 |\n",
       "| cluster |     0 |\n",
       "| pattern_score |     0 |\n",
       "| pattern_domain_count |     0 |\n",
       "| pred_agg_glm |  5845 |\n",
       "| pred_agg_rf |  5845 |\n",
       "| pred_seg_glm |  5845 |\n",
       "| pred_seg_rf |  5845 |\n",
       "| pred_seg2_glm |  5846 |\n",
       "| pred_seg2_rf |  5845 |\n",
       "| reseller_geo |     2 |\n",
       "| reg_arpt_slab |     0 |\n",
       "| pred_agg_glm_fb |     0 |\n",
       "| pred_agg_rf_fb |     0 |\n",
       "| pred_seg_glm_fb |     0 |\n",
       "| pred_seg_rf_fb |     0 |\n",
       "| pred_seg2_glm_fb |     0 |\n",
       "| pred_seg2_rf_fb |     0 |\n",
       "\n"
      ],
      "text/plain": [
       "                     [,1] \n",
       "reseller                 0\n",
       "reseller_country         0\n",
       "renewal_type             0\n",
       "renewed_count            0\n",
       "expiry_date              0\n",
       "domain_id                0\n",
       "domain                   0\n",
       "creation_date            0\n",
       "status                   0\n",
       "tld                      0\n",
       "registrar                0\n",
       "region                   0\n",
       "reg_period               0\n",
       "registrant_country   11345\n",
       "renewal_status           0\n",
       "renew_mbg                0\n",
       "renew_type             211\n",
       "autorenew_type        3381\n",
       "renew_date             213\n",
       "renew_registrar          0\n",
       "renew_reseller           0\n",
       "reg_revenue              0\n",
       "reg_arpt                 0\n",
       "renew_period           213\n",
       "renew_domain_revenue     0\n",
       "renew_arpt             213\n",
       "reg_arpt_org             0\n",
       "tld_registrar_index      0\n",
       "sld                      0\n",
       "sld_type                 0\n",
       "sld_length               0\n",
       "sld_type2                0\n",
       "day_domains              0\n",
       "log_reg_arpt             0\n",
       "gibb_score               0\n",
       "pattern                  0\n",
       "cluster                  0\n",
       "pattern_score            0\n",
       "pattern_domain_count     0\n",
       "pred_agg_glm          5845\n",
       "pred_agg_rf           5845\n",
       "pred_seg_glm          5845\n",
       "pred_seg_rf           5845\n",
       "pred_seg2_glm         5846\n",
       "pred_seg2_rf          5845\n",
       "reseller_geo             2\n",
       "reg_arpt_slab            0\n",
       "pred_agg_glm_fb          0\n",
       "pred_agg_rf_fb           0\n",
       "pred_seg_glm_fb          0\n",
       "pred_seg_rf_fb           0\n",
       "pred_seg2_glm_fb         0\n",
       "pred_seg2_rf_fb          0"
      ]
     },
     "metadata": {},
     "output_type": "display_data"
    }
   ],
   "source": [
    "preds_df_3 %>%\n",
    "  select(everything()) %>%  # replace to your needs\n",
    "  summarise_all(funs(sum(is.na(.)))) %>% t()"
   ]
  },
  {
   "cell_type": "markdown",
   "metadata": {},
   "source": [
    "# Scope out load_prep functions"
   ]
  },
  {
   "cell_type": "code",
   "execution_count": 10,
   "metadata": {},
   "outputs": [
    {
     "data": {
      "text/html": [
       "<style>\n",
       ".list-inline {list-style: none; margin:0; padding: 0}\n",
       ".list-inline>li {display: inline-block}\n",
       ".list-inline>li:not(:last-child)::after {content: \"\\00b7\"; padding: 0 .5ex}\n",
       "</style>\n",
       "<ol class=list-inline><li>3010584</li><li>28</li></ol>\n"
      ],
      "text/latex": [
       "\\begin{enumerate*}\n",
       "\\item 3010584\n",
       "\\item 28\n",
       "\\end{enumerate*}\n"
      ],
      "text/markdown": [
       "1. 3010584\n",
       "2. 28\n",
       "\n",
       "\n"
      ],
      "text/plain": [
       "[1] 3010584      28"
      ]
     },
     "metadata": {},
     "output_type": "display_data"
    },
    {
     "name": "stdout",
     "output_type": "stream",
     "text": [
      "tibble [3,010,584 × 28] (S3: tbl_df/tbl/data.frame)\n",
      " $ renewal_type        : chr [1:3010584] \"FirstTime\" \"FirstTime\" \"FirstTime\" \"FirstTime\" ...\n",
      " $ renewed_count       : int [1:3010584] 1 1 1 1 1 1 1 1 1 1 ...\n",
      " $ expiry_date         : Date[1:3010584], format: \"2018-12-20\" \"2018-12-20\" ...\n",
      " $ creation_date       : Date[1:3010584], format: \"2017-12-20\" \"2017-12-20\" ...\n",
      " $ domain_id           : int [1:3010584] 58288473 58303658 58267038 58284473 58265138 58267598 58272138 58320003 58317773 58321593 ...\n",
      " $ domain              : chr [1:3010584] \"plum.website\" \"0456.online\" \"trainenquiry.online\" \"finassistant.tech\" ...\n",
      " $ registrar           : chr [1:3010584] \"West263 International\" \"West263 International\" \"Name.com\" \"Namecheap\" ...\n",
      " $ reseller            : chr [1:3010584] \"West263 International\" \"West263 International\" \"Name.com\" \"Namecheap\" ...\n",
      " $ reseller_country    : chr [1:3010584] \"China\" \"China\" \"United States\" \"United States\" ...\n",
      " $ registrant_country  : chr [1:3010584] NA NA NA NA ...\n",
      " $ reg_period          : int [1:3010584] 1 1 1 1 1 1 1 1 1 1 ...\n",
      " $ reg_revenue         : num [1:3010584] 0.9 1.25 6.8 4.15 0.67 0.47 0.47 0.47 1.25 1.25 ...\n",
      " $ reg_arpt            : num [1:3010584] 0.9 1.25 6.8 4.15 0.67 0.47 0.47 0.47 1.25 1.25 ...\n",
      " $ renew_mbg           : int [1:3010584] 0 0 0 0 0 0 0 0 0 0 ...\n",
      " $ renewal_item_id     : int [1:3010584] 177116407 177125387 177096602 177113042 177094822 177097147 172075267 177134657 177132682 177136132 ...\n",
      " $ renew_type          : chr [1:3010584] \"auto-renewal\" \"auto-renewal\" \"auto-renewal\" \"auto-renewal\" ...\n",
      " $ autorenew_type      : chr [1:3010584] \"unrealized\" \"unrealized\" \"unrealized\" \"unrealized\" ...\n",
      " $ renewal_status      : chr [1:3010584] \"Not Renewd\" \"Not Renewd\" \"Not Renewd\" \"Not Renewd\" ...\n",
      " $ renew_date          : Date[1:3010584], format: \"2018-12-20\" \"2018-12-20\" ...\n",
      " $ renew_arpt          : num [1:3010584] 3 6 25 21.5 7 6 6 6 6 6 ...\n",
      " $ gibb_score          : num [1:3010584] 4.05 100 5.07 9.17 2.87 1.83 0.25 100 8.59 100 ...\n",
      " $ pattern             : chr [1:3010584] \"plum\" \"056\" \"trainenquiry\" \"finassistant\" ...\n",
      " $ pattern_domain_count: int [1:3010584] 1 2 1 1 1 2 1 4 1 1 ...\n",
      " $ day_domains         : int [1:3010584] 4 229 9 25 124 92 92 151 229 229 ...\n",
      " $ sld_length          : int [1:3010584] 4 4 12 12 3 11 4 4 6 4 ...\n",
      " $ sld_type            : chr [1:3010584] \"l\" \"n\" \"l\" \"l\" ...\n",
      " $ sld_type2           : chr [1:3010584] \"4l\" \"4n\" \"12l\" \"12l\" ...\n",
      " $ tld                 : chr [1:3010584] \"website\" \"online\" \"online\" \"tech\" ...\n"
     ]
    }
   ],
   "source": [
    "# load data\n",
    "expiry_df <- readRDS(\"/home/jupyter/local/Domains_202003/data/output/expiry_20180101_20190331\")\n",
    "dim(expiry_df)\n",
    "str(expiry_df)"
   ]
  },
  {
   "cell_type": "code",
   "execution_count": 11,
   "metadata": {},
   "outputs": [
    {
     "data": {
      "text/html": [
       "<table>\n",
       "<caption>A tibble: 6 × 9</caption>\n",
       "<thead>\n",
       "\t<tr><th scope=col>pattern_domain_count</th><th scope=col>reg_arpt</th><th scope=col>sld_length</th><th scope=col>gibb_score</th><th scope=col>sld_type</th><th scope=col>day_domains</th><th scope=col>reg_period</th><th scope=col>reseller</th><th scope=col>tld</th></tr>\n",
       "\t<tr><th scope=col>&lt;int&gt;</th><th scope=col>&lt;dbl&gt;</th><th scope=col>&lt;int&gt;</th><th scope=col>&lt;dbl&gt;</th><th scope=col>&lt;chr&gt;</th><th scope=col>&lt;int&gt;</th><th scope=col>&lt;int&gt;</th><th scope=col>&lt;chr&gt;</th><th scope=col>&lt;chr&gt;</th></tr>\n",
       "</thead>\n",
       "<tbody>\n",
       "\t<tr><td>1</td><td>0.90</td><td> 4</td><td>  4.05</td><td>l</td><td>  4</td><td>1</td><td>West263 International</td><td>website</td></tr>\n",
       "\t<tr><td>2</td><td>1.25</td><td> 4</td><td>100.00</td><td>n</td><td>229</td><td>1</td><td>West263 International</td><td>online </td></tr>\n",
       "\t<tr><td>1</td><td>6.80</td><td>12</td><td>  5.07</td><td>l</td><td>  9</td><td>1</td><td>Name.com             </td><td>online </td></tr>\n",
       "\t<tr><td>1</td><td>4.15</td><td>12</td><td>  9.17</td><td>l</td><td> 25</td><td>1</td><td>Namecheap            </td><td>tech   </td></tr>\n",
       "\t<tr><td>1</td><td>0.67</td><td> 3</td><td>  2.87</td><td>l</td><td>124</td><td>1</td><td>Alibaba              </td><td>store  </td></tr>\n",
       "\t<tr><td>2</td><td>0.47</td><td>11</td><td>  1.83</td><td>l</td><td> 92</td><td>1</td><td>Alibaba              </td><td>tech   </td></tr>\n",
       "</tbody>\n",
       "</table>\n"
      ],
      "text/latex": [
       "A tibble: 6 × 9\n",
       "\\begin{tabular}{lllllllll}\n",
       " pattern\\_domain\\_count & reg\\_arpt & sld\\_length & gibb\\_score & sld\\_type & day\\_domains & reg\\_period & reseller & tld\\\\\n",
       " <int> & <dbl> & <int> & <dbl> & <chr> & <int> & <int> & <chr> & <chr>\\\\\n",
       "\\hline\n",
       "\t 1 & 0.90 &  4 &   4.05 & l &   4 & 1 & West263 International & website\\\\\n",
       "\t 2 & 1.25 &  4 & 100.00 & n & 229 & 1 & West263 International & online \\\\\n",
       "\t 1 & 6.80 & 12 &   5.07 & l &   9 & 1 & Name.com              & online \\\\\n",
       "\t 1 & 4.15 & 12 &   9.17 & l &  25 & 1 & Namecheap             & tech   \\\\\n",
       "\t 1 & 0.67 &  3 &   2.87 & l & 124 & 1 & Alibaba               & store  \\\\\n",
       "\t 2 & 0.47 & 11 &   1.83 & l &  92 & 1 & Alibaba               & tech   \\\\\n",
       "\\end{tabular}\n"
      ],
      "text/markdown": [
       "\n",
       "A tibble: 6 × 9\n",
       "\n",
       "| pattern_domain_count &lt;int&gt; | reg_arpt &lt;dbl&gt; | sld_length &lt;int&gt; | gibb_score &lt;dbl&gt; | sld_type &lt;chr&gt; | day_domains &lt;int&gt; | reg_period &lt;int&gt; | reseller &lt;chr&gt; | tld &lt;chr&gt; |\n",
       "|---|---|---|---|---|---|---|---|---|\n",
       "| 1 | 0.90 |  4 |   4.05 | l |   4 | 1 | West263 International | website |\n",
       "| 2 | 1.25 |  4 | 100.00 | n | 229 | 1 | West263 International | online  |\n",
       "| 1 | 6.80 | 12 |   5.07 | l |   9 | 1 | Name.com              | online  |\n",
       "| 1 | 4.15 | 12 |   9.17 | l |  25 | 1 | Namecheap             | tech    |\n",
       "| 1 | 0.67 |  3 |   2.87 | l | 124 | 1 | Alibaba               | store   |\n",
       "| 2 | 0.47 | 11 |   1.83 | l |  92 | 1 | Alibaba               | tech    |\n",
       "\n"
      ],
      "text/plain": [
       "  pattern_domain_count reg_arpt sld_length gibb_score sld_type day_domains\n",
       "1 1                    0.90      4           4.05     l          4        \n",
       "2 2                    1.25      4         100.00     n        229        \n",
       "3 1                    6.80     12           5.07     l          9        \n",
       "4 1                    4.15     12           9.17     l         25        \n",
       "5 1                    0.67      3           2.87     l        124        \n",
       "6 2                    0.47     11           1.83     l         92        \n",
       "  reg_period reseller              tld    \n",
       "1 1          West263 International website\n",
       "2 1          West263 International online \n",
       "3 1          Name.com              online \n",
       "4 1          Namecheap             tech   \n",
       "5 1          Alibaba               store  \n",
       "6 1          Alibaba               tech   "
      ]
     },
     "metadata": {},
     "output_type": "display_data"
    }
   ],
   "source": [
    "necessary_cols <- c('pattern_domain_count','reg_arpt','sld_length','gibb_score',\n",
    "                    'sld_type','day_domains','reg_period','reseller','tld')\n",
    "expiry_df %>% select(all_of(necessary_cols)) %>% head()"
   ]
  },
  {
   "cell_type": "code",
   "execution_count": 14,
   "metadata": {},
   "outputs": [
    {
     "name": "stdout",
     "output_type": "stream",
     "text": [
      "tibble [3,010,584 × 30] (S3: tbl_df/tbl/data.frame)\n",
      " $ renewal_type        : chr [1:3010584] \"FirstTime\" \"FirstTime\" \"FirstTime\" \"FirstTime\" ...\n",
      " $ renewed_count       : int [1:3010584] 1 1 1 1 1 1 1 1 1 1 ...\n",
      " $ expiry_date         : Date[1:3010584], format: \"2018-12-20\" \"2018-12-20\" ...\n",
      " $ creation_date       : Date[1:3010584], format: \"2017-12-20\" \"2017-12-20\" ...\n",
      " $ domain_id           : int [1:3010584] 58288473 58303658 58267038 58284473 58265138 58267598 58272138 58320003 58317773 58321593 ...\n",
      " $ domain              : chr [1:3010584] \"plum.website\" \"0456.online\" \"trainenquiry.online\" \"finassistant.tech\" ...\n",
      " $ registrar           : chr [1:3010584] \"West263 International\" \"West263 International\" \"Name.com\" \"Namecheap\" ...\n",
      " $ reseller            : chr [1:3010584] \"West263 International\" \"West263 International\" \"Name.com\" \"Namecheap\" ...\n",
      " $ reseller_country    : chr [1:3010584] \"China\" \"China\" \"United States\" \"United States\" ...\n",
      " $ registrant_country  : chr [1:3010584] NA NA NA NA ...\n",
      " $ reg_period          : int [1:3010584] 1 1 1 1 1 1 1 1 1 1 ...\n",
      " $ reg_revenue         : num [1:3010584] 0.9 1.25 6.8 4.15 0.67 0.47 0.47 0.47 1.25 1.25 ...\n",
      " $ reg_arpt            : num [1:3010584] 0.9 1.25 6.8 4.15 0.67 0.47 0.47 0.47 1.25 1.25 ...\n",
      " $ renew_mbg           : int [1:3010584] 0 0 0 0 0 0 0 0 0 0 ...\n",
      " $ renewal_item_id     : int [1:3010584] 177116407 177125387 177096602 177113042 177094822 177097147 172075267 177134657 177132682 177136132 ...\n",
      " $ renew_type          : chr [1:3010584] \"auto-renewal\" \"auto-renewal\" \"auto-renewal\" \"auto-renewal\" ...\n",
      " $ autorenew_type      : chr [1:3010584] \"unrealized\" \"unrealized\" \"unrealized\" \"unrealized\" ...\n",
      " $ renewal_status      : chr [1:3010584] \"Not Renewd\" \"Not Renewd\" \"Not Renewd\" \"Not Renewd\" ...\n",
      " $ renew_date          : Date[1:3010584], format: \"2018-12-20\" \"2018-12-20\" ...\n",
      " $ renew_arpt          : num [1:3010584] 3 6 25 21.5 7 6 6 6 6 6 ...\n",
      " $ gibb_score          : num [1:3010584] 4.05 100 5.07 9.17 2.87 1.83 0.25 100 8.59 100 ...\n",
      " $ pattern             : chr [1:3010584] \"plum\" \"056\" \"trainenquiry\" \"finassistant\" ...\n",
      " $ pattern_domain_count: int [1:3010584] 1 2 1 1 1 2 1 4 1 1 ...\n",
      " $ day_domains         : int [1:3010584] 4 229 9 25 124 92 92 151 229 229 ...\n",
      " $ sld_length          : int [1:3010584] 4 4 12 12 3 11 4 4 6 4 ...\n",
      " $ sld_type            : chr [1:3010584] \"l\" \"n\" \"l\" \"l\" ...\n",
      " $ sld_type2           : chr [1:3010584] \"4l\" \"4n\" \"12l\" \"12l\" ...\n",
      " $ tld                 : chr [1:3010584] \"website\" \"online\" \"online\" \"tech\" ...\n",
      " $ log_reg_arpt        : num [1:3010584] -0.105 0.223 1.917 1.423 -0.4 ...\n",
      " $ tld_registrar_index : chr [1:3010584] \"websitewest263 international\" \"onlinewest263 international\" \"onlinename.com\" \"technamecheap\" ...\n"
     ]
    },
    {
     "data": {
      "text/html": [
       "<table>\n",
       "<caption>A tibble: 6 × 30</caption>\n",
       "<thead>\n",
       "\t<tr><th scope=col>renewal_type</th><th scope=col>renewed_count</th><th scope=col>expiry_date</th><th scope=col>creation_date</th><th scope=col>domain_id</th><th scope=col>domain</th><th scope=col>registrar</th><th scope=col>reseller</th><th scope=col>reseller_country</th><th scope=col>registrant_country</th><th scope=col>reg_period</th><th scope=col>reg_revenue</th><th scope=col>reg_arpt</th><th scope=col>renew_mbg</th><th scope=col>renewal_item_id</th><th scope=col>renew_type</th><th scope=col>autorenew_type</th><th scope=col>renewal_status</th><th scope=col>renew_date</th><th scope=col>renew_arpt</th><th scope=col>gibb_score</th><th scope=col>pattern</th><th scope=col>pattern_domain_count</th><th scope=col>day_domains</th><th scope=col>sld_length</th><th scope=col>sld_type</th><th scope=col>sld_type2</th><th scope=col>tld</th><th scope=col>log_reg_arpt</th><th scope=col>tld_registrar_index</th></tr>\n",
       "\t<tr><th scope=col>&lt;chr&gt;</th><th scope=col>&lt;int&gt;</th><th scope=col>&lt;date&gt;</th><th scope=col>&lt;date&gt;</th><th scope=col>&lt;int&gt;</th><th scope=col>&lt;chr&gt;</th><th scope=col>&lt;chr&gt;</th><th scope=col>&lt;chr&gt;</th><th scope=col>&lt;chr&gt;</th><th scope=col>&lt;chr&gt;</th><th scope=col>&lt;int&gt;</th><th scope=col>&lt;dbl&gt;</th><th scope=col>&lt;dbl&gt;</th><th scope=col>&lt;int&gt;</th><th scope=col>&lt;int&gt;</th><th scope=col>&lt;chr&gt;</th><th scope=col>&lt;chr&gt;</th><th scope=col>&lt;chr&gt;</th><th scope=col>&lt;date&gt;</th><th scope=col>&lt;dbl&gt;</th><th scope=col>&lt;dbl&gt;</th><th scope=col>&lt;chr&gt;</th><th scope=col>&lt;int&gt;</th><th scope=col>&lt;int&gt;</th><th scope=col>&lt;int&gt;</th><th scope=col>&lt;chr&gt;</th><th scope=col>&lt;chr&gt;</th><th scope=col>&lt;chr&gt;</th><th scope=col>&lt;dbl&gt;</th><th scope=col>&lt;chr&gt;</th></tr>\n",
       "</thead>\n",
       "<tbody>\n",
       "\t<tr><td>FirstTime</td><td>1</td><td>2018-12-20</td><td>2017-12-20</td><td>58288473</td><td>plum.website       </td><td>West263 International</td><td>West263 International</td><td>China        </td><td>NA</td><td>1</td><td>0.90</td><td>0.90</td><td>0</td><td>177116407</td><td>auto-renewal</td><td>unrealized</td><td>Not Renewd</td><td>2018-12-20</td><td> 3.0</td><td>  4.05</td><td>plum        </td><td>1</td><td>  4</td><td> 4</td><td>l</td><td>4l </td><td>website</td><td>-0.1053605</td><td>websitewest263 international</td></tr>\n",
       "\t<tr><td>FirstTime</td><td>1</td><td>2018-12-20</td><td>2017-12-20</td><td>58303658</td><td>0456.online        </td><td>West263 International</td><td>West263 International</td><td>China        </td><td>NA</td><td>1</td><td>1.25</td><td>1.25</td><td>0</td><td>177125387</td><td>auto-renewal</td><td>unrealized</td><td>Not Renewd</td><td>2018-12-20</td><td> 6.0</td><td>100.00</td><td>056         </td><td>2</td><td>229</td><td> 4</td><td>n</td><td>4n </td><td>online </td><td> 0.2231436</td><td>onlinewest263 international </td></tr>\n",
       "\t<tr><td>FirstTime</td><td>1</td><td>2018-12-20</td><td>2017-12-20</td><td>58267038</td><td>trainenquiry.online</td><td>Name.com             </td><td>Name.com             </td><td>United States</td><td>NA</td><td>1</td><td>6.80</td><td>6.80</td><td>0</td><td>177096602</td><td>auto-renewal</td><td>unrealized</td><td>Not Renewd</td><td>2018-12-20</td><td>25.0</td><td>  5.07</td><td>trainenquiry</td><td>1</td><td>  9</td><td>12</td><td>l</td><td>12l</td><td>online </td><td> 1.9169226</td><td>onlinename.com              </td></tr>\n",
       "\t<tr><td>FirstTime</td><td>1</td><td>2018-12-20</td><td>2017-12-20</td><td>58284473</td><td>finassistant.tech  </td><td>Namecheap            </td><td>Namecheap            </td><td>United States</td><td>NA</td><td>1</td><td>4.15</td><td>4.15</td><td>0</td><td>177113042</td><td>auto-renewal</td><td>unrealized</td><td>Not Renewd</td><td>2018-12-20</td><td>21.5</td><td>  9.17</td><td>finassistant</td><td>1</td><td> 25</td><td>12</td><td>l</td><td>12l</td><td>tech   </td><td> 1.4231083</td><td>technamecheap               </td></tr>\n",
       "\t<tr><td>FirstTime</td><td>1</td><td>2018-12-20</td><td>2017-12-20</td><td>58265138</td><td>byp.store          </td><td>Alibaba              </td><td>Alibaba              </td><td>China        </td><td>NA</td><td>1</td><td>0.67</td><td>0.67</td><td>0</td><td>177094822</td><td>auto-renewal</td><td>realized  </td><td>Renewed   </td><td>2018-12-20</td><td> 7.0</td><td>  2.87</td><td>byp         </td><td>1</td><td>124</td><td> 3</td><td>l</td><td>3l </td><td>store  </td><td>-0.4004776</td><td>storealibaba                </td></tr>\n",
       "\t<tr><td>FirstTime</td><td>1</td><td>2018-12-20</td><td>2017-12-20</td><td>58267598</td><td>wanwuhulian.tech   </td><td>Alibaba              </td><td>Alibaba              </td><td>China        </td><td>NA</td><td>1</td><td>0.47</td><td>0.47</td><td>0</td><td>177097147</td><td>auto-renewal</td><td>unrealized</td><td>Not Renewd</td><td>2018-12-20</td><td> 6.0</td><td>  1.83</td><td>anuulian    </td><td>2</td><td> 92</td><td>11</td><td>l</td><td>11l</td><td>tech   </td><td>-0.7550226</td><td>techalibaba                 </td></tr>\n",
       "</tbody>\n",
       "</table>\n"
      ],
      "text/latex": [
       "A tibble: 6 × 30\n",
       "\\begin{tabular}{llllllllllllllllllllllllllllll}\n",
       " renewal\\_type & renewed\\_count & expiry\\_date & creation\\_date & domain\\_id & domain & registrar & reseller & reseller\\_country & registrant\\_country & reg\\_period & reg\\_revenue & reg\\_arpt & renew\\_mbg & renewal\\_item\\_id & renew\\_type & autorenew\\_type & renewal\\_status & renew\\_date & renew\\_arpt & gibb\\_score & pattern & pattern\\_domain\\_count & day\\_domains & sld\\_length & sld\\_type & sld\\_type2 & tld & log\\_reg\\_arpt & tld\\_registrar\\_index\\\\\n",
       " <chr> & <int> & <date> & <date> & <int> & <chr> & <chr> & <chr> & <chr> & <chr> & <int> & <dbl> & <dbl> & <int> & <int> & <chr> & <chr> & <chr> & <date> & <dbl> & <dbl> & <chr> & <int> & <int> & <int> & <chr> & <chr> & <chr> & <dbl> & <chr>\\\\\n",
       "\\hline\n",
       "\t FirstTime & 1 & 2018-12-20 & 2017-12-20 & 58288473 & plum.website        & West263 International & West263 International & China         & NA & 1 & 0.90 & 0.90 & 0 & 177116407 & auto-renewal & unrealized & Not Renewd & 2018-12-20 &  3.0 &   4.05 & plum         & 1 &   4 &  4 & l & 4l  & website & -0.1053605 & websitewest263 international\\\\\n",
       "\t FirstTime & 1 & 2018-12-20 & 2017-12-20 & 58303658 & 0456.online         & West263 International & West263 International & China         & NA & 1 & 1.25 & 1.25 & 0 & 177125387 & auto-renewal & unrealized & Not Renewd & 2018-12-20 &  6.0 & 100.00 & 056          & 2 & 229 &  4 & n & 4n  & online  &  0.2231436 & onlinewest263 international \\\\\n",
       "\t FirstTime & 1 & 2018-12-20 & 2017-12-20 & 58267038 & trainenquiry.online & Name.com              & Name.com              & United States & NA & 1 & 6.80 & 6.80 & 0 & 177096602 & auto-renewal & unrealized & Not Renewd & 2018-12-20 & 25.0 &   5.07 & trainenquiry & 1 &   9 & 12 & l & 12l & online  &  1.9169226 & onlinename.com              \\\\\n",
       "\t FirstTime & 1 & 2018-12-20 & 2017-12-20 & 58284473 & finassistant.tech   & Namecheap             & Namecheap             & United States & NA & 1 & 4.15 & 4.15 & 0 & 177113042 & auto-renewal & unrealized & Not Renewd & 2018-12-20 & 21.5 &   9.17 & finassistant & 1 &  25 & 12 & l & 12l & tech    &  1.4231083 & technamecheap               \\\\\n",
       "\t FirstTime & 1 & 2018-12-20 & 2017-12-20 & 58265138 & byp.store           & Alibaba               & Alibaba               & China         & NA & 1 & 0.67 & 0.67 & 0 & 177094822 & auto-renewal & realized   & Renewed    & 2018-12-20 &  7.0 &   2.87 & byp          & 1 & 124 &  3 & l & 3l  & store   & -0.4004776 & storealibaba                \\\\\n",
       "\t FirstTime & 1 & 2018-12-20 & 2017-12-20 & 58267598 & wanwuhulian.tech    & Alibaba               & Alibaba               & China         & NA & 1 & 0.47 & 0.47 & 0 & 177097147 & auto-renewal & unrealized & Not Renewd & 2018-12-20 &  6.0 &   1.83 & anuulian     & 2 &  92 & 11 & l & 11l & tech    & -0.7550226 & techalibaba                 \\\\\n",
       "\\end{tabular}\n"
      ],
      "text/markdown": [
       "\n",
       "A tibble: 6 × 30\n",
       "\n",
       "| renewal_type &lt;chr&gt; | renewed_count &lt;int&gt; | expiry_date &lt;date&gt; | creation_date &lt;date&gt; | domain_id &lt;int&gt; | domain &lt;chr&gt; | registrar &lt;chr&gt; | reseller &lt;chr&gt; | reseller_country &lt;chr&gt; | registrant_country &lt;chr&gt; | reg_period &lt;int&gt; | reg_revenue &lt;dbl&gt; | reg_arpt &lt;dbl&gt; | renew_mbg &lt;int&gt; | renewal_item_id &lt;int&gt; | renew_type &lt;chr&gt; | autorenew_type &lt;chr&gt; | renewal_status &lt;chr&gt; | renew_date &lt;date&gt; | renew_arpt &lt;dbl&gt; | gibb_score &lt;dbl&gt; | pattern &lt;chr&gt; | pattern_domain_count &lt;int&gt; | day_domains &lt;int&gt; | sld_length &lt;int&gt; | sld_type &lt;chr&gt; | sld_type2 &lt;chr&gt; | tld &lt;chr&gt; | log_reg_arpt &lt;dbl&gt; | tld_registrar_index &lt;chr&gt; |\n",
       "|---|---|---|---|---|---|---|---|---|---|---|---|---|---|---|---|---|---|---|---|---|---|---|---|---|---|---|---|---|---|\n",
       "| FirstTime | 1 | 2018-12-20 | 2017-12-20 | 58288473 | plum.website        | West263 International | West263 International | China         | NA | 1 | 0.90 | 0.90 | 0 | 177116407 | auto-renewal | unrealized | Not Renewd | 2018-12-20 |  3.0 |   4.05 | plum         | 1 |   4 |  4 | l | 4l  | website | -0.1053605 | websitewest263 international |\n",
       "| FirstTime | 1 | 2018-12-20 | 2017-12-20 | 58303658 | 0456.online         | West263 International | West263 International | China         | NA | 1 | 1.25 | 1.25 | 0 | 177125387 | auto-renewal | unrealized | Not Renewd | 2018-12-20 |  6.0 | 100.00 | 056          | 2 | 229 |  4 | n | 4n  | online  |  0.2231436 | onlinewest263 international  |\n",
       "| FirstTime | 1 | 2018-12-20 | 2017-12-20 | 58267038 | trainenquiry.online | Name.com              | Name.com              | United States | NA | 1 | 6.80 | 6.80 | 0 | 177096602 | auto-renewal | unrealized | Not Renewd | 2018-12-20 | 25.0 |   5.07 | trainenquiry | 1 |   9 | 12 | l | 12l | online  |  1.9169226 | onlinename.com               |\n",
       "| FirstTime | 1 | 2018-12-20 | 2017-12-20 | 58284473 | finassistant.tech   | Namecheap             | Namecheap             | United States | NA | 1 | 4.15 | 4.15 | 0 | 177113042 | auto-renewal | unrealized | Not Renewd | 2018-12-20 | 21.5 |   9.17 | finassistant | 1 |  25 | 12 | l | 12l | tech    |  1.4231083 | technamecheap                |\n",
       "| FirstTime | 1 | 2018-12-20 | 2017-12-20 | 58265138 | byp.store           | Alibaba               | Alibaba               | China         | NA | 1 | 0.67 | 0.67 | 0 | 177094822 | auto-renewal | realized   | Renewed    | 2018-12-20 |  7.0 |   2.87 | byp          | 1 | 124 |  3 | l | 3l  | store   | -0.4004776 | storealibaba                 |\n",
       "| FirstTime | 1 | 2018-12-20 | 2017-12-20 | 58267598 | wanwuhulian.tech    | Alibaba               | Alibaba               | China         | NA | 1 | 0.47 | 0.47 | 0 | 177097147 | auto-renewal | unrealized | Not Renewd | 2018-12-20 |  6.0 |   1.83 | anuulian     | 2 |  92 | 11 | l | 11l | tech    | -0.7550226 | techalibaba                  |\n",
       "\n"
      ],
      "text/plain": [
       "  renewal_type renewed_count expiry_date creation_date domain_id\n",
       "1 FirstTime    1             2018-12-20  2017-12-20    58288473 \n",
       "2 FirstTime    1             2018-12-20  2017-12-20    58303658 \n",
       "3 FirstTime    1             2018-12-20  2017-12-20    58267038 \n",
       "4 FirstTime    1             2018-12-20  2017-12-20    58284473 \n",
       "5 FirstTime    1             2018-12-20  2017-12-20    58265138 \n",
       "6 FirstTime    1             2018-12-20  2017-12-20    58267598 \n",
       "  domain              registrar             reseller             \n",
       "1 plum.website        West263 International West263 International\n",
       "2 0456.online         West263 International West263 International\n",
       "3 trainenquiry.online Name.com              Name.com             \n",
       "4 finassistant.tech   Namecheap             Namecheap            \n",
       "5 byp.store           Alibaba               Alibaba              \n",
       "6 wanwuhulian.tech    Alibaba               Alibaba              \n",
       "  reseller_country registrant_country reg_period reg_revenue reg_arpt renew_mbg\n",
       "1 China            NA                 1          0.90        0.90     0        \n",
       "2 China            NA                 1          1.25        1.25     0        \n",
       "3 United States    NA                 1          6.80        6.80     0        \n",
       "4 United States    NA                 1          4.15        4.15     0        \n",
       "5 China            NA                 1          0.67        0.67     0        \n",
       "6 China            NA                 1          0.47        0.47     0        \n",
       "  renewal_item_id renew_type   autorenew_type renewal_status renew_date\n",
       "1 177116407       auto-renewal unrealized     Not Renewd     2018-12-20\n",
       "2 177125387       auto-renewal unrealized     Not Renewd     2018-12-20\n",
       "3 177096602       auto-renewal unrealized     Not Renewd     2018-12-20\n",
       "4 177113042       auto-renewal unrealized     Not Renewd     2018-12-20\n",
       "5 177094822       auto-renewal realized       Renewed        2018-12-20\n",
       "6 177097147       auto-renewal unrealized     Not Renewd     2018-12-20\n",
       "  renew_arpt gibb_score pattern      pattern_domain_count day_domains\n",
       "1  3.0         4.05     plum         1                      4        \n",
       "2  6.0       100.00     056          2                    229        \n",
       "3 25.0         5.07     trainenquiry 1                      9        \n",
       "4 21.5         9.17     finassistant 1                     25        \n",
       "5  7.0         2.87     byp          1                    124        \n",
       "6  6.0         1.83     anuulian     2                     92        \n",
       "  sld_length sld_type sld_type2 tld     log_reg_arpt\n",
       "1  4         l        4l        website -0.1053605  \n",
       "2  4         n        4n        online   0.2231436  \n",
       "3 12         l        12l       online   1.9169226  \n",
       "4 12         l        12l       tech     1.4231083  \n",
       "5  3         l        3l        store   -0.4004776  \n",
       "6 11         l        11l       tech    -0.7550226  \n",
       "  tld_registrar_index         \n",
       "1 websitewest263 international\n",
       "2 onlinewest263 international \n",
       "3 onlinename.com              \n",
       "4 technamecheap               \n",
       "5 storealibaba                \n",
       "6 techalibaba                 "
      ]
     },
     "metadata": {},
     "output_type": "display_data"
    }
   ],
   "source": [
    "expiry_df <- expiry_df %>% mutate (reg_arpt = ifelse(reg_arpt <= 0, 0.0001,reg_arpt),\n",
    "                                   log_reg_arpt = log(reg_arpt),\n",
    "                                   tld_registrar_index = tolower(paste(tld, reseller,sep=\"\")))\n",
    "str(expiry_df)\n",
    "head(expiry_df)"
   ]
  },
  {
   "cell_type": "code",
   "execution_count": 16,
   "metadata": {},
   "outputs": [
    {
     "data": {
      "text/plain": [
       "   Min. 1st Qu.  Median    Mean 3rd Qu.    Max. \n",
       "-9.2103 -0.8210 -0.6931 -0.3103  1.0986  4.1744 "
      ]
     },
     "metadata": {},
     "output_type": "display_data"
    },
    {
     "data": {
      "text/html": [
       "0"
      ],
      "text/latex": [
       "0"
      ],
      "text/markdown": [
       "0"
      ],
      "text/plain": [
       "[1] 0"
      ]
     },
     "metadata": {},
     "output_type": "display_data"
    }
   ],
   "source": [
    "summary(expiry_df$log_reg_arpt)\n",
    "sum(is.na(expiry_df$log_reg_arpt))"
   ]
  },
  {
   "cell_type": "markdown",
   "metadata": {},
   "source": [
    "## missing data\n",
    "Training model_agg_rf_ALL\n",
    "Error: Missing data in columns: pattern_domain_count, sld_length, gibb_score, sld_type, day_domains."
   ]
  },
  {
   "cell_type": "code",
   "execution_count": 19,
   "metadata": {},
   "outputs": [
    {
     "name": "stderr",
     "output_type": "stream",
     "text": [
      "Warning message:\n",
      "“`funs()` is deprecated as of dplyr 0.8.0.\n",
      "Please use a list of either functions or lambdas: \n",
      "\n",
      "  # Simple named list: \n",
      "  list(mean = mean, median = median)\n",
      "\n",
      "  # Auto named with `tibble::lst()`: \n",
      "  tibble::lst(mean, median)\n",
      "\n",
      "  # Using lambdas\n",
      "  list(~ mean(., trim = .2), ~ median(., na.rm = TRUE))\n",
      "\u001b[90mThis warning is displayed once every 8 hours.\u001b[39m\n",
      "\u001b[90mCall `lifecycle::last_warnings()` to see where this warning was generated.\u001b[39m”\n"
     ]
    },
    {
     "data": {
      "text/html": [
       "<table>\n",
       "<caption>A matrix: 30 × 1 of type int</caption>\n",
       "<tbody>\n",
       "\t<tr><th scope=row>renewal_type</th><td>      0</td></tr>\n",
       "\t<tr><th scope=row>renewed_count</th><td>      0</td></tr>\n",
       "\t<tr><th scope=row>expiry_date</th><td>      0</td></tr>\n",
       "\t<tr><th scope=row>creation_date</th><td>   5050</td></tr>\n",
       "\t<tr><th scope=row>domain_id</th><td>      0</td></tr>\n",
       "\t<tr><th scope=row>domain</th><td>      0</td></tr>\n",
       "\t<tr><th scope=row>registrar</th><td>      2</td></tr>\n",
       "\t<tr><th scope=row>reseller</th><td>      1</td></tr>\n",
       "\t<tr><th scope=row>reseller_country</th><td>      0</td></tr>\n",
       "\t<tr><th scope=row>registrant_country</th><td>2951010</td></tr>\n",
       "\t<tr><th scope=row>reg_period</th><td>      0</td></tr>\n",
       "\t<tr><th scope=row>reg_revenue</th><td>      0</td></tr>\n",
       "\t<tr><th scope=row>reg_arpt</th><td>      0</td></tr>\n",
       "\t<tr><th scope=row>renew_mbg</th><td>     71</td></tr>\n",
       "\t<tr><th scope=row>renewal_item_id</th><td>      0</td></tr>\n",
       "\t<tr><th scope=row>renew_type</th><td>  90499</td></tr>\n",
       "\t<tr><th scope=row>autorenew_type</th><td> 497705</td></tr>\n",
       "\t<tr><th scope=row>renewal_status</th><td>      0</td></tr>\n",
       "\t<tr><th scope=row>renew_date</th><td>  90724</td></tr>\n",
       "\t<tr><th scope=row>renew_arpt</th><td>  90725</td></tr>\n",
       "\t<tr><th scope=row>gibb_score</th><td> 497455</td></tr>\n",
       "\t<tr><th scope=row>pattern</th><td> 497455</td></tr>\n",
       "\t<tr><th scope=row>pattern_domain_count</th><td> 497455</td></tr>\n",
       "\t<tr><th scope=row>day_domains</th><td> 497455</td></tr>\n",
       "\t<tr><th scope=row>sld_length</th><td> 497455</td></tr>\n",
       "\t<tr><th scope=row>sld_type</th><td> 497455</td></tr>\n",
       "\t<tr><th scope=row>sld_type2</th><td> 497455</td></tr>\n",
       "\t<tr><th scope=row>tld</th><td>      0</td></tr>\n",
       "\t<tr><th scope=row>log_reg_arpt</th><td>      0</td></tr>\n",
       "\t<tr><th scope=row>tld_registrar_index</th><td>      0</td></tr>\n",
       "</tbody>\n",
       "</table>\n"
      ],
      "text/latex": [
       "A matrix: 30 × 1 of type int\n",
       "\\begin{tabular}{r|l}\n",
       "\trenewal\\_type &       0\\\\\n",
       "\trenewed\\_count &       0\\\\\n",
       "\texpiry\\_date &       0\\\\\n",
       "\tcreation\\_date &    5050\\\\\n",
       "\tdomain\\_id &       0\\\\\n",
       "\tdomain &       0\\\\\n",
       "\tregistrar &       2\\\\\n",
       "\treseller &       1\\\\\n",
       "\treseller\\_country &       0\\\\\n",
       "\tregistrant\\_country & 2951010\\\\\n",
       "\treg\\_period &       0\\\\\n",
       "\treg\\_revenue &       0\\\\\n",
       "\treg\\_arpt &       0\\\\\n",
       "\trenew\\_mbg &      71\\\\\n",
       "\trenewal\\_item\\_id &       0\\\\\n",
       "\trenew\\_type &   90499\\\\\n",
       "\tautorenew\\_type &  497705\\\\\n",
       "\trenewal\\_status &       0\\\\\n",
       "\trenew\\_date &   90724\\\\\n",
       "\trenew\\_arpt &   90725\\\\\n",
       "\tgibb\\_score &  497455\\\\\n",
       "\tpattern &  497455\\\\\n",
       "\tpattern\\_domain\\_count &  497455\\\\\n",
       "\tday\\_domains &  497455\\\\\n",
       "\tsld\\_length &  497455\\\\\n",
       "\tsld\\_type &  497455\\\\\n",
       "\tsld\\_type2 &  497455\\\\\n",
       "\ttld &       0\\\\\n",
       "\tlog\\_reg\\_arpt &       0\\\\\n",
       "\ttld\\_registrar\\_index &       0\\\\\n",
       "\\end{tabular}\n"
      ],
      "text/markdown": [
       "\n",
       "A matrix: 30 × 1 of type int\n",
       "\n",
       "| renewal_type |       0 |\n",
       "| renewed_count |       0 |\n",
       "| expiry_date |       0 |\n",
       "| creation_date |    5050 |\n",
       "| domain_id |       0 |\n",
       "| domain |       0 |\n",
       "| registrar |       2 |\n",
       "| reseller |       1 |\n",
       "| reseller_country |       0 |\n",
       "| registrant_country | 2951010 |\n",
       "| reg_period |       0 |\n",
       "| reg_revenue |       0 |\n",
       "| reg_arpt |       0 |\n",
       "| renew_mbg |      71 |\n",
       "| renewal_item_id |       0 |\n",
       "| renew_type |   90499 |\n",
       "| autorenew_type |  497705 |\n",
       "| renewal_status |       0 |\n",
       "| renew_date |   90724 |\n",
       "| renew_arpt |   90725 |\n",
       "| gibb_score |  497455 |\n",
       "| pattern |  497455 |\n",
       "| pattern_domain_count |  497455 |\n",
       "| day_domains |  497455 |\n",
       "| sld_length |  497455 |\n",
       "| sld_type |  497455 |\n",
       "| sld_type2 |  497455 |\n",
       "| tld |       0 |\n",
       "| log_reg_arpt |       0 |\n",
       "| tld_registrar_index |       0 |\n",
       "\n"
      ],
      "text/plain": [
       "                     [,1]   \n",
       "renewal_type               0\n",
       "renewed_count              0\n",
       "expiry_date                0\n",
       "creation_date           5050\n",
       "domain_id                  0\n",
       "domain                     0\n",
       "registrar                  2\n",
       "reseller                   1\n",
       "reseller_country           0\n",
       "registrant_country   2951010\n",
       "reg_period                 0\n",
       "reg_revenue                0\n",
       "reg_arpt                   0\n",
       "renew_mbg                 71\n",
       "renewal_item_id            0\n",
       "renew_type             90499\n",
       "autorenew_type        497705\n",
       "renewal_status             0\n",
       "renew_date             90724\n",
       "renew_arpt             90725\n",
       "gibb_score            497455\n",
       "pattern               497455\n",
       "pattern_domain_count  497455\n",
       "day_domains           497455\n",
       "sld_length            497455\n",
       "sld_type              497455\n",
       "sld_type2             497455\n",
       "tld                        0\n",
       "log_reg_arpt               0\n",
       "tld_registrar_index        0"
      ]
     },
     "metadata": {},
     "output_type": "display_data"
    }
   ],
   "source": [
    "expiry_df %>%\n",
    "  select(everything()) %>% \n",
    "  summarise_all(funs(sum(is.na(.)))) %>% t()"
   ]
  },
  {
   "cell_type": "code",
   "execution_count": 21,
   "metadata": {},
   "outputs": [
    {
     "data": {
      "text/html": [
       "<table>\n",
       "<caption>A matrix: 5 × 1 of type int</caption>\n",
       "<tbody>\n",
       "\t<tr><th scope=row>pattern_domain_count</th><td>497455</td></tr>\n",
       "\t<tr><th scope=row>sld_length</th><td>497455</td></tr>\n",
       "\t<tr><th scope=row>gibb_score</th><td>497455</td></tr>\n",
       "\t<tr><th scope=row>sld_type</th><td>497455</td></tr>\n",
       "\t<tr><th scope=row>day_domains</th><td>497455</td></tr>\n",
       "</tbody>\n",
       "</table>\n"
      ],
      "text/latex": [
       "A matrix: 5 × 1 of type int\n",
       "\\begin{tabular}{r|l}\n",
       "\tpattern\\_domain\\_count & 497455\\\\\n",
       "\tsld\\_length & 497455\\\\\n",
       "\tgibb\\_score & 497455\\\\\n",
       "\tsld\\_type & 497455\\\\\n",
       "\tday\\_domains & 497455\\\\\n",
       "\\end{tabular}\n"
      ],
      "text/markdown": [
       "\n",
       "A matrix: 5 × 1 of type int\n",
       "\n",
       "| pattern_domain_count | 497455 |\n",
       "| sld_length | 497455 |\n",
       "| gibb_score | 497455 |\n",
       "| sld_type | 497455 |\n",
       "| day_domains | 497455 |\n",
       "\n"
      ],
      "text/plain": [
       "                     [,1]  \n",
       "pattern_domain_count 497455\n",
       "sld_length           497455\n",
       "gibb_score           497455\n",
       "sld_type             497455\n",
       "day_domains          497455"
      ]
     },
     "metadata": {},
     "output_type": "display_data"
    }
   ],
   "source": [
    "expiry_df %>% filter(is.na(gibb_score)) %>% select(pattern_domain_count, sld_length, gibb_score, sld_type, day_domains) %>% \n",
    "  summarise_all(funs(sum(is.na(.)))) %>% t()"
   ]
  },
  {
   "cell_type": "code",
   "execution_count": 23,
   "metadata": {},
   "outputs": [
    {
     "data": {
      "text/html": [
       "<table>\n",
       "<caption>A tibble: 1 × 2</caption>\n",
       "<thead>\n",
       "\t<tr><th scope=col>min(expiry_date)</th><th scope=col>max(expiry_date)</th></tr>\n",
       "\t<tr><th scope=col>&lt;date&gt;</th><th scope=col>&lt;date&gt;</th></tr>\n",
       "</thead>\n",
       "<tbody>\n",
       "\t<tr><td>2018-01-01</td><td>2019-03-31</td></tr>\n",
       "</tbody>\n",
       "</table>\n"
      ],
      "text/latex": [
       "A tibble: 1 × 2\n",
       "\\begin{tabular}{ll}\n",
       " min(expiry\\_date) & max(expiry\\_date)\\\\\n",
       " <date> & <date>\\\\\n",
       "\\hline\n",
       "\t 2018-01-01 & 2019-03-31\\\\\n",
       "\\end{tabular}\n"
      ],
      "text/markdown": [
       "\n",
       "A tibble: 1 × 2\n",
       "\n",
       "| min(expiry_date) &lt;date&gt; | max(expiry_date) &lt;date&gt; |\n",
       "|---|---|\n",
       "| 2018-01-01 | 2019-03-31 |\n",
       "\n"
      ],
      "text/plain": [
       "  min(expiry_date) max(expiry_date)\n",
       "1 2018-01-01       2019-03-31      "
      ]
     },
     "metadata": {},
     "output_type": "display_data"
    }
   ],
   "source": [
    "expiry_df %>% filter(is.na(gibb_score)) %>% summarise(min(expiry_date), max(expiry_date))"
   ]
  },
  {
   "cell_type": "code",
   "execution_count": 25,
   "metadata": {},
   "outputs": [
    {
     "data": {
      "text/html": [
       "<table>\n",
       "<caption>A matrix: 5 × 1 of type int</caption>\n",
       "<tbody>\n",
       "\t<tr><th scope=row>pattern_domain_count</th><td>0</td></tr>\n",
       "\t<tr><th scope=row>sld_length</th><td>0</td></tr>\n",
       "\t<tr><th scope=row>gibb_score</th><td>0</td></tr>\n",
       "\t<tr><th scope=row>sld_type</th><td>0</td></tr>\n",
       "\t<tr><th scope=row>day_domains</th><td>0</td></tr>\n",
       "</tbody>\n",
       "</table>\n"
      ],
      "text/latex": [
       "A matrix: 5 × 1 of type int\n",
       "\\begin{tabular}{r|l}\n",
       "\tpattern\\_domain\\_count & 0\\\\\n",
       "\tsld\\_length & 0\\\\\n",
       "\tgibb\\_score & 0\\\\\n",
       "\tsld\\_type & 0\\\\\n",
       "\tday\\_domains & 0\\\\\n",
       "\\end{tabular}\n"
      ],
      "text/markdown": [
       "\n",
       "A matrix: 5 × 1 of type int\n",
       "\n",
       "| pattern_domain_count | 0 |\n",
       "| sld_length | 0 |\n",
       "| gibb_score | 0 |\n",
       "| sld_type | 0 |\n",
       "| day_domains | 0 |\n",
       "\n"
      ],
      "text/plain": [
       "                     [,1]\n",
       "pattern_domain_count 0   \n",
       "sld_length           0   \n",
       "gibb_score           0   \n",
       "sld_type             0   \n",
       "day_domains          0   "
      ]
     },
     "metadata": {},
     "output_type": "display_data"
    }
   ],
   "source": [
    "expiry_train_df_1  %>%  filter(is.na(gibb_score)) %>% select(pattern_domain_count, sld_length, gibb_score, sld_type, day_domains) %>% \n",
    "  summarise_all(funs(sum(is.na(.)))) %>% t()"
   ]
  },
  {
   "cell_type": "code",
   "execution_count": null,
   "metadata": {},
   "outputs": [],
   "source": []
  }
 ],
 "metadata": {
  "environment": {
   "name": "r-cpu.3-6.m48",
   "type": "gcloud",
   "uri": "gcr.io/deeplearning-platform-release/r-cpu.3-6:m48"
  },
  "kernelspec": {
   "display_name": "R",
   "language": "R",
   "name": "ir"
  },
  "language_info": {
   "codemirror_mode": "r",
   "file_extension": ".r",
   "mimetype": "text/x-r-source",
   "name": "R",
   "pygments_lexer": "r",
   "version": "3.6.3"
  }
 },
 "nbformat": 4,
 "nbformat_minor": 4
}
