{
 "cells": [
  {
   "cell_type": "markdown",
   "metadata": {},
   "source": [
    "# Fallback Table Metalearning ASSIGNMENT\n"
   ]
  },
  {
   "cell_type": "code",
   "execution_count": 1,
   "metadata": {},
   "outputs": [],
   "source": [
    "options(repr.matrix.max.cols=50, repr.matrix.max.rows=100)"
   ]
  },
  {
   "cell_type": "code",
   "execution_count": 2,
   "metadata": {},
   "outputs": [],
   "source": [
    "# install.packages(\"pkgcond\")"
   ]
  },
  {
   "cell_type": "code",
   "execution_count": 3,
   "metadata": {},
   "outputs": [
    {
     "name": "stderr",
     "output_type": "stream",
     "text": [
      "\n",
      "Attaching package: ‘dplyr’\n",
      "\n",
      "\n",
      "The following objects are masked from ‘package:stats’:\n",
      "\n",
      "    filter, lag\n",
      "\n",
      "\n",
      "The following objects are masked from ‘package:base’:\n",
      "\n",
      "    intersect, setdiff, setequal, union\n",
      "\n",
      "\n",
      "\n",
      "Attaching package: ‘data.table’\n",
      "\n",
      "\n",
      "The following objects are masked from ‘package:dplyr’:\n",
      "\n",
      "    between, first, last\n",
      "\n",
      "\n",
      "Loading required package: grid\n",
      "\n",
      "Loading required package: libcoin\n",
      "\n",
      "Loading required package: mvtnorm\n",
      "\n",
      "Loading required package: lattice\n",
      "\n",
      "Loading required package: ggplot2\n",
      "\n",
      "randomForest 4.6-14\n",
      "\n",
      "Type rfNews() to see new features/changes/bug fixes.\n",
      "\n",
      "\n",
      "Attaching package: ‘randomForest’\n",
      "\n",
      "\n",
      "The following object is masked from ‘package:ggplot2’:\n",
      "\n",
      "    margin\n",
      "\n",
      "\n",
      "The following object is masked from ‘package:dplyr’:\n",
      "\n",
      "    combine\n",
      "\n",
      "\n",
      "\n",
      "Attaching package: ‘ranger’\n",
      "\n",
      "\n",
      "The following object is masked from ‘package:randomForest’:\n",
      "\n",
      "    importance\n",
      "\n",
      "\n",
      "\n",
      "Attaching package: ‘plotly’\n",
      "\n",
      "\n",
      "The following object is masked from ‘package:ggplot2’:\n",
      "\n",
      "    last_plot\n",
      "\n",
      "\n",
      "The following object is masked from ‘package:stats’:\n",
      "\n",
      "    filter\n",
      "\n",
      "\n",
      "The following object is masked from ‘package:graphics’:\n",
      "\n",
      "    layout\n",
      "\n",
      "\n"
     ]
    },
    {
     "data": {
      "text/html": [
       "'/home/jupyter/Domains_202003/scripts/phaseII_06_fallbacksupp'"
      ],
      "text/latex": [
       "'/home/jupyter/Domains\\_202003/scripts/phaseII\\_06\\_fallbacksupp'"
      ],
      "text/markdown": [
       "'/home/jupyter/Domains_202003/scripts/phaseII_06_fallbacksupp'"
      ],
      "text/plain": [
       "[1] \"/home/jupyter/Domains_202003/scripts/phaseII_06_fallbacksupp\""
      ]
     },
     "metadata": {},
     "output_type": "display_data"
    }
   ],
   "source": [
    "library(dplyr)\n",
    "library(data.table)\n",
    "library(partykit)\n",
    "library(tictoc)\n",
    "library(caret)\n",
    "library(e1071)\n",
    "library(randomForest)\n",
    "library(ranger)\n",
    "\n",
    "#for 3d plotting\n",
    "library(akima)\n",
    "library(plotly)\n",
    "\n",
    "# for prep data\n",
    "library(stringr)\n",
    "library(pbapply)\n",
    "library(stringdist)\n",
    "library(data.table)\n",
    "library(dominanceanalysis)\n",
    "\n",
    "\n",
    "getwd()"
   ]
  },
  {
   "cell_type": "code",
   "execution_count": 4,
   "metadata": {},
   "outputs": [
    {
     "name": "stderr",
     "output_type": "stream",
     "text": [
      "\n",
      "Attaching package: ‘tidyr’\n",
      "\n",
      "\n",
      "The following object is masked from ‘package:stringdist’:\n",
      "\n",
      "    extract\n",
      "\n",
      "\n"
     ]
    }
   ],
   "source": [
    "\n",
    "source('../orig/functions.R')\n",
    "\n",
    "source('../orig/functions_models.R')\n",
    "\n",
    "source('../phaseII_03_forest/functions_eval.R')\n"
   ]
  },
  {
   "cell_type": "code",
   "execution_count": 5,
   "metadata": {},
   "outputs": [],
   "source": [
    "source('functions_metalearning.R')"
   ]
  },
  {
   "cell_type": "code",
   "execution_count": 6,
   "metadata": {},
   "outputs": [],
   "source": [
    "source('functions_fallback.R')"
   ]
  },
  {
   "cell_type": "code",
   "execution_count": 7,
   "metadata": {},
   "outputs": [],
   "source": [
    "# source('load_prep_data_expiry_2.R') #read in train test and predictions manually instead\n",
    "\n",
    "# READ CSV's\n",
    "# expiry_df_test_preds <- read.csv(\"../../data/output/datapull_20201116/expiry_df_test_preds.csv\")\n",
    "expiry_df_train <- read.csv(\"../../data/output/datapull_20201116/expiry_df_train.csv\")\n",
    "# expiry_df_test <- read.csv(\"../../data/output/datapull_20201116/expiry_df_test.csv\")\n",
    "metametrics_df <- read.csv(\"../../data/output/datapull_20201116/expiry_metametrics_df.csv\")\n",
    "# expiry_df\n",
    "# expiry_train_df \n",
    "# expiry_test_df \n",
    "# expiry_list\n",
    "# expiry_train_list\n",
    "# expiry_test_list"
   ]
  },
  {
   "cell_type": "markdown",
   "metadata": {},
   "source": [
    "# Chosen models and metrics:"
   ]
  },
  {
   "cell_type": "markdown",
   "metadata": {},
   "source": [
    "3 models: agg_rf_ALL, seg2_glm and seg_glm_fb\n",
    "metric: l10 lift\n",
    "model: random forest rebalanced"
   ]
  },
  {
   "cell_type": "markdown",
   "metadata": {},
   "source": [
    "# PREP data"
   ]
  },
  {
   "cell_type": "markdown",
   "metadata": {},
   "source": [
    "## Add win flags"
   ]
  },
  {
   "cell_type": "code",
   "execution_count": 9,
   "metadata": {},
   "outputs": [
    {
     "data": {
      "text/html": [
       "<style>\n",
       ".list-inline {list-style: none; margin:0; padding: 0}\n",
       ".list-inline>li {display: inline-block}\n",
       ".list-inline>li:not(:last-child)::after {content: \"\\00b7\"; padding: 0 .5ex}\n",
       "</style>\n",
       "<ol class=list-inline><li>'auc_seg2_glm'</li><li>'auc_agg_rf_ALL'</li><li>'auc_seg2_glm_fb'</li></ol>\n"
      ],
      "text/latex": [
       "\\begin{enumerate*}\n",
       "\\item 'auc\\_seg2\\_glm'\n",
       "\\item 'auc\\_agg\\_rf\\_ALL'\n",
       "\\item 'auc\\_seg2\\_glm\\_fb'\n",
       "\\end{enumerate*}\n"
      ],
      "text/markdown": [
       "1. 'auc_seg2_glm'\n",
       "2. 'auc_agg_rf_ALL'\n",
       "3. 'auc_seg2_glm_fb'\n",
       "\n",
       "\n"
      ],
      "text/plain": [
       "[1] \"auc_seg2_glm\"    \"auc_agg_rf_ALL\"  \"auc_seg2_glm_fb\""
      ]
     },
     "metadata": {},
     "output_type": "display_data"
    },
    {
     "data": {
      "text/html": [
       "<style>\n",
       ".list-inline {list-style: none; margin:0; padding: 0}\n",
       ".list-inline>li {display: inline-block}\n",
       ".list-inline>li:not(:last-child)::after {content: \"\\00b7\"; padding: 0 .5ex}\n",
       "</style>\n",
       "<ol class=list-inline><li>'l10_seg2_glm'</li><li>'l10_agg_rf_ALL'</li><li>'l10_seg2_glm_fb'</li></ol>\n"
      ],
      "text/latex": [
       "\\begin{enumerate*}\n",
       "\\item 'l10\\_seg2\\_glm'\n",
       "\\item 'l10\\_agg\\_rf\\_ALL'\n",
       "\\item 'l10\\_seg2\\_glm\\_fb'\n",
       "\\end{enumerate*}\n"
      ],
      "text/markdown": [
       "1. 'l10_seg2_glm'\n",
       "2. 'l10_agg_rf_ALL'\n",
       "3. 'l10_seg2_glm_fb'\n",
       "\n",
       "\n"
      ],
      "text/plain": [
       "[1] \"l10_seg2_glm\"    \"l10_agg_rf_ALL\"  \"l10_seg2_glm_fb\""
      ]
     },
     "metadata": {},
     "output_type": "display_data"
    }
   ],
   "source": [
    "(auc_vars = c('auc_seg2_glm','auc_agg_rf_ALL','auc_seg2_glm_fb'))\n",
    "(l10_vars = c('l10_seg2_glm','l10_agg_rf_ALL','l10_seg2_glm_fb'))\n",
    "\n",
    "metametrics_df <- metametrics_df %>%\n",
    "    mutate (auc_win_04=sapply(apply(.[,c(auc_vars)], \n",
    "                          1, function(x) names(x)[which.max(x)]) , function(s) if (length(s) == 0) NA else paste(s, collapse = \" \")) ,\n",
    "            l10_win_04=sapply(apply(.[,c(l10_vars)], \n",
    "                          1, function(x) names(x)[which.max(x)]), function(s) if (length(s) == 0) NA else paste(s, collapse = \" \")) \n",
    "            ) "
   ]
  },
  {
   "cell_type": "code",
   "execution_count": 12,
   "metadata": {},
   "outputs": [
    {
     "data": {
      "text/html": [
       "<table>\n",
       "<caption>A data.frame: 3 × 2</caption>\n",
       "<thead>\n",
       "\t<tr><th scope=col>Var1</th><th scope=col>Freq</th></tr>\n",
       "\t<tr><th scope=col>&lt;fct&gt;</th><th scope=col>&lt;int&gt;</th></tr>\n",
       "</thead>\n",
       "<tbody>\n",
       "\t<tr><td>auc_seg2_glm   </td><td>715</td></tr>\n",
       "\t<tr><td>auc_agg_rf_ALL </td><td>609</td></tr>\n",
       "\t<tr><td>auc_seg2_glm_fb</td><td>158</td></tr>\n",
       "</tbody>\n",
       "</table>\n"
      ],
      "text/latex": [
       "A data.frame: 3 × 2\n",
       "\\begin{tabular}{ll}\n",
       " Var1 & Freq\\\\\n",
       " <fct> & <int>\\\\\n",
       "\\hline\n",
       "\t auc\\_seg2\\_glm    & 715\\\\\n",
       "\t auc\\_agg\\_rf\\_ALL  & 609\\\\\n",
       "\t auc\\_seg2\\_glm\\_fb & 158\\\\\n",
       "\\end{tabular}\n"
      ],
      "text/markdown": [
       "\n",
       "A data.frame: 3 × 2\n",
       "\n",
       "| Var1 &lt;fct&gt; | Freq &lt;int&gt; |\n",
       "|---|---|\n",
       "| auc_seg2_glm    | 715 |\n",
       "| auc_agg_rf_ALL  | 609 |\n",
       "| auc_seg2_glm_fb | 158 |\n",
       "\n"
      ],
      "text/plain": [
       "  Var1            Freq\n",
       "1 auc_seg2_glm    715 \n",
       "2 auc_agg_rf_ALL  609 \n",
       "3 auc_seg2_glm_fb 158 "
      ]
     },
     "metadata": {},
     "output_type": "display_data"
    },
    {
     "data": {
      "text/html": [
       "<table>\n",
       "<caption>A data.frame: 3 × 2</caption>\n",
       "<thead>\n",
       "\t<tr><th scope=col>Var1</th><th scope=col>Freq</th></tr>\n",
       "\t<tr><th scope=col>&lt;fct&gt;</th><th scope=col>&lt;int&gt;</th></tr>\n",
       "</thead>\n",
       "<tbody>\n",
       "\t<tr><td>l10_seg2_glm   </td><td>939</td></tr>\n",
       "\t<tr><td>l10_agg_rf_ALL </td><td>457</td></tr>\n",
       "\t<tr><td>l10_seg2_glm_fb</td><td> 86</td></tr>\n",
       "</tbody>\n",
       "</table>\n"
      ],
      "text/latex": [
       "A data.frame: 3 × 2\n",
       "\\begin{tabular}{ll}\n",
       " Var1 & Freq\\\\\n",
       " <fct> & <int>\\\\\n",
       "\\hline\n",
       "\t l10\\_seg2\\_glm    & 939\\\\\n",
       "\t l10\\_agg\\_rf\\_ALL  & 457\\\\\n",
       "\t l10\\_seg2\\_glm\\_fb &  86\\\\\n",
       "\\end{tabular}\n"
      ],
      "text/markdown": [
       "\n",
       "A data.frame: 3 × 2\n",
       "\n",
       "| Var1 &lt;fct&gt; | Freq &lt;int&gt; |\n",
       "|---|---|\n",
       "| l10_seg2_glm    | 939 |\n",
       "| l10_agg_rf_ALL  | 457 |\n",
       "| l10_seg2_glm_fb |  86 |\n",
       "\n"
      ],
      "text/plain": [
       "  Var1            Freq\n",
       "1 l10_seg2_glm    939 \n",
       "2 l10_agg_rf_ALL  457 \n",
       "3 l10_seg2_glm_fb  86 "
      ]
     },
     "metadata": {},
     "output_type": "display_data"
    },
    {
     "data": {
      "text/html": [
       "<table>\n",
       "<caption>A data.frame: 3 × 2</caption>\n",
       "<thead>\n",
       "\t<tr><th scope=col>Var1</th><th scope=col>Freq</th></tr>\n",
       "\t<tr><th scope=col>&lt;fct&gt;</th><th scope=col>&lt;dbl&gt;</th></tr>\n",
       "</thead>\n",
       "<tbody>\n",
       "\t<tr><td>auc_seg2_glm   </td><td>0.4824561</td></tr>\n",
       "\t<tr><td>auc_agg_rf_ALL </td><td>0.4109312</td></tr>\n",
       "\t<tr><td>auc_seg2_glm_fb</td><td>0.1066127</td></tr>\n",
       "</tbody>\n",
       "</table>\n"
      ],
      "text/latex": [
       "A data.frame: 3 × 2\n",
       "\\begin{tabular}{ll}\n",
       " Var1 & Freq\\\\\n",
       " <fct> & <dbl>\\\\\n",
       "\\hline\n",
       "\t auc\\_seg2\\_glm    & 0.4824561\\\\\n",
       "\t auc\\_agg\\_rf\\_ALL  & 0.4109312\\\\\n",
       "\t auc\\_seg2\\_glm\\_fb & 0.1066127\\\\\n",
       "\\end{tabular}\n"
      ],
      "text/markdown": [
       "\n",
       "A data.frame: 3 × 2\n",
       "\n",
       "| Var1 &lt;fct&gt; | Freq &lt;dbl&gt; |\n",
       "|---|---|\n",
       "| auc_seg2_glm    | 0.4824561 |\n",
       "| auc_agg_rf_ALL  | 0.4109312 |\n",
       "| auc_seg2_glm_fb | 0.1066127 |\n",
       "\n"
      ],
      "text/plain": [
       "  Var1            Freq     \n",
       "1 auc_seg2_glm    0.4824561\n",
       "2 auc_agg_rf_ALL  0.4109312\n",
       "3 auc_seg2_glm_fb 0.1066127"
      ]
     },
     "metadata": {},
     "output_type": "display_data"
    },
    {
     "data": {
      "text/html": [
       "<table>\n",
       "<caption>A data.frame: 3 × 2</caption>\n",
       "<thead>\n",
       "\t<tr><th scope=col>Var1</th><th scope=col>Freq</th></tr>\n",
       "\t<tr><th scope=col>&lt;fct&gt;</th><th scope=col>&lt;dbl&gt;</th></tr>\n",
       "</thead>\n",
       "<tbody>\n",
       "\t<tr><td>l10_seg2_glm   </td><td>0.63360324</td></tr>\n",
       "\t<tr><td>l10_agg_rf_ALL </td><td>0.30836707</td></tr>\n",
       "\t<tr><td>l10_seg2_glm_fb</td><td>0.05802969</td></tr>\n",
       "</tbody>\n",
       "</table>\n"
      ],
      "text/latex": [
       "A data.frame: 3 × 2\n",
       "\\begin{tabular}{ll}\n",
       " Var1 & Freq\\\\\n",
       " <fct> & <dbl>\\\\\n",
       "\\hline\n",
       "\t l10\\_seg2\\_glm    & 0.63360324\\\\\n",
       "\t l10\\_agg\\_rf\\_ALL  & 0.30836707\\\\\n",
       "\t l10\\_seg2\\_glm\\_fb & 0.05802969\\\\\n",
       "\\end{tabular}\n"
      ],
      "text/markdown": [
       "\n",
       "A data.frame: 3 × 2\n",
       "\n",
       "| Var1 &lt;fct&gt; | Freq &lt;dbl&gt; |\n",
       "|---|---|\n",
       "| l10_seg2_glm    | 0.63360324 |\n",
       "| l10_agg_rf_ALL  | 0.30836707 |\n",
       "| l10_seg2_glm_fb | 0.05802969 |\n",
       "\n"
      ],
      "text/plain": [
       "  Var1            Freq      \n",
       "1 l10_seg2_glm    0.63360324\n",
       "2 l10_agg_rf_ALL  0.30836707\n",
       "3 l10_seg2_glm_fb 0.05802969"
      ]
     },
     "metadata": {},
     "output_type": "display_data"
    }
   ],
   "source": [
    "as.data.frame(sort(table(metametrics_df$auc_win_04), decreasing=TRUE))\n",
    "as.data.frame(sort(table(metametrics_df$l10_win_04), decreasing=TRUE))\n",
    "as.data.frame(sort(prop.table(table(metametrics_df$auc_win_04)), decreasing=TRUE))\n",
    "as.data.frame(sort(prop.table(table(metametrics_df$l10_win_04)), decreasing=TRUE))"
   ]
  },
  {
   "cell_type": "markdown",
   "metadata": {},
   "source": [
    "## missing value imputation"
   ]
  },
  {
   "cell_type": "code",
   "execution_count": 13,
   "metadata": {},
   "outputs": [],
   "source": [
    "# install.packages(\"missRanger\")\n",
    "library(missRanger)"
   ]
  },
  {
   "cell_type": "code",
   "execution_count": 14,
   "metadata": {},
   "outputs": [
    {
     "name": "stdout",
     "output_type": "stream",
     "text": [
      "\n",
      "Missing value imputation by random forests\n",
      "\n",
      "  Variables to impute:\t\tgeo_maj, daydom_std, daydom_skew, daydom_kurt, sldlen_std, sldlen_skew, sldlen_kurt, gibbs_std, gibbs_skew, gibbs_kurt, pdcnt_std, pdcnt_skew, pdcnt_kurt, regarpt_std, regarpt_skew, regarpt_kurt, l10_seg2_glm, l10_seg_glm, l10_agg_glm_ALL, l10_agg_glm, l10_seg2_rf, l10_seg_rf, l10_agg_rf, l10_agg_rf_ALL, auc_seg2_glm, auc_seg_glm, auc_agg_glm_ALL, auc_agg_glm, auc_seg2_rf, auc_seg_rf, auc_agg_rf_ALL, auc_agg_rf, l10_seg2_glm_fb, l10_seg_glm_fb, l10_agg_glm_fb, l10_agg_glm_ALL_fb, l10_seg2_rf_fb, l10_seg_rf_fb, l10_agg_rf_fb, l10_agg_rf_ALL_fb, auc_seg2_glm_fb, auc_seg_glm_fb, auc_agg_glm_fb, auc_agg_glm_ALL_fb, auc_seg2_rf_fb, auc_seg_rf_fb, auc_agg_rf_fb, auc_agg_rf_ALL_fb, auc_win_04, l10_win_04\n",
      "  Variables used to impute:\ttld_registrar_index, geo_maj, geo_cnt, n, ren_prp, tld_cnt, tld_rat, daydom_min, daydom_max, daydom_mean, daydom_rng, daydom_std, daydom_skew, daydom_kurt, sldlen_min, sldlen_max, sldlen_mean, sldlen_rng, sldlen_std, sldlen_skew, sldlen_kurt, gibbs_min, gibbs_max, gibbs_mean, gibbs_rng, gibbs_std, gibbs_skew, gibbs_kurt, pdcnt_min, pdcnt_max, pdcnt_mean, pdcnt_rng, pdcnt_std, pdcnt_skew, pdcnt_kurt, regarpt_min, regarpt_max, regarpt_mean, regarpt_rng, regarpt_std, regarpt_skew, regarpt_kurt, country_maj, region_maj, country_cnt, region_cnt, l10_seg2_glm, l10_seg_glm, l10_agg_glm_ALL, l10_agg_glm, l10_seg2_rf, l10_seg_rf, l10_agg_rf, l10_agg_rf_ALL, auc_seg2_glm, auc_seg_glm, auc_agg_glm_ALL, auc_agg_glm, auc_seg2_rf, auc_seg_rf, auc_agg_rf_ALL, auc_agg_rf, l10_seg2_glm_fb, l10_seg_glm_fb, l10_agg_glm_fb, l10_agg_glm_ALL_fb, l10_seg2_rf_fb, l10_seg_rf_fb, l10_agg_rf_fb, l10_agg_rf_ALL_fb, auc_seg2_glm_fb, auc_seg_glm_fb, auc_agg_glm_fb, auc_agg_glm_ALL_fb, auc_seg2_rf_fb, auc_seg_rf_fb, auc_agg_rf_fb, auc_agg_rf_ALL_fb, auc_win_04, l10_win_04\n",
      "iter 1:\t..................................................\n",
      "iter 2:\t..................................................\n",
      "iter 3:\t..................................................\n",
      "iter 4:\t..................................................\n"
     ]
    }
   ],
   "source": [
    "metametrics_imp_df <- missRanger(metametrics_df, num.trees = 100)"
   ]
  },
  {
   "cell_type": "markdown",
   "metadata": {},
   "source": [
    "## train/test split"
   ]
  },
  {
   "cell_type": "code",
   "execution_count": 15,
   "metadata": {},
   "outputs": [],
   "source": [
    "set.seed(123) \n",
    "smp_siz = floor(0.8*nrow(metametrics_imp_df))\n",
    "train_ind = sample(seq_len(nrow(metametrics_imp_df)),size = smp_siz) \n",
    "train = metametrics_imp_df[train_ind,] \n",
    "test = metametrics_imp_df[-train_ind,]  "
   ]
  },
  {
   "cell_type": "code",
   "execution_count": 16,
   "metadata": {},
   "outputs": [
    {
     "data": {
      "text/html": [
       "<style>\n",
       ".list-inline {list-style: none; margin:0; padding: 0}\n",
       ".list-inline>li {display: inline-block}\n",
       ".list-inline>li:not(:last-child)::after {content: \"\\00b7\"; padding: 0 .5ex}\n",
       "</style>\n",
       "<ol class=list-inline><li>1406</li><li>80</li></ol>\n"
      ],
      "text/latex": [
       "\\begin{enumerate*}\n",
       "\\item 1406\n",
       "\\item 80\n",
       "\\end{enumerate*}\n"
      ],
      "text/markdown": [
       "1. 1406\n",
       "2. 80\n",
       "\n",
       "\n"
      ],
      "text/plain": [
       "[1] 1406   80"
      ]
     },
     "metadata": {},
     "output_type": "display_data"
    },
    {
     "data": {
      "text/html": [
       "<style>\n",
       ".list-inline {list-style: none; margin:0; padding: 0}\n",
       ".list-inline>li {display: inline-block}\n",
       ".list-inline>li:not(:last-child)::after {content: \"\\00b7\"; padding: 0 .5ex}\n",
       "</style>\n",
       "<ol class=list-inline><li>352</li><li>80</li></ol>\n"
      ],
      "text/latex": [
       "\\begin{enumerate*}\n",
       "\\item 352\n",
       "\\item 80\n",
       "\\end{enumerate*}\n"
      ],
      "text/markdown": [
       "1. 352\n",
       "2. 80\n",
       "\n",
       "\n"
      ],
      "text/plain": [
       "[1] 352  80"
      ]
     },
     "metadata": {},
     "output_type": "display_data"
    }
   ],
   "source": [
    "dim(train)\n",
    "dim(test)"
   ]
  },
  {
   "cell_type": "markdown",
   "metadata": {},
   "source": [
    "# Train Model & Obtain Predictions"
   ]
  },
  {
   "cell_type": "code",
   "execution_count": 17,
   "metadata": {},
   "outputs": [
    {
     "data": {
      "text/plain": [
       "      Y\n",
       "       l10_agg_rf_ALL l10_seg2_glm l10_seg2_glm_fb\n",
       "  0.06              0          958               0\n",
       "  0.14            382            0               0\n",
       "  0.81              0            0              66"
      ]
     },
     "metadata": {},
     "output_type": "display_data"
    }
   ],
   "source": [
    "#Compute weights to balance the RF\n",
    "Y = train$l10_win_04\n",
    "w <- 1/table(Y)\n",
    "w <- w/sum(w)\n",
    "\n",
    "weights <- rep(0, length(Y))\n",
    "\n",
    "for (model in unique(Y)){\n",
    "    weights[Y==model] <- w[model]\n",
    "}\n",
    "table(round(weights,2), Y)"
   ]
  },
  {
   "cell_type": "code",
   "execution_count": 18,
   "metadata": {},
   "outputs": [],
   "source": [
    "model <- ranger(formula         = l10_win_04 ~ ., \n",
    "                data            = train %>% \n",
    "                                    select('l10_win_04') %>% \n",
    "                                    bind_cols(\n",
    "                                        train %>% \n",
    "                                        select(-contains('auc'),-contains('l10'),-'tld_registrar_index', -'tld_rat')), \n",
    "                importance = 'impurity', \n",
    "                num.trees       = 500,\n",
    "                probability = TRUE,\n",
    "                replace = FALSE,\n",
    "                sample.fraction = .8,\n",
    "                seed            = 123,\n",
    "                respect.unordered.factors=TRUE,\n",
    "               case.weights=weights)"
   ]
  },
  {
   "cell_type": "code",
   "execution_count": 20,
   "metadata": {},
   "outputs": [
    {
     "data": {
      "text/html": [
       "<table>\n",
       "<caption>A data.frame: 6 × 4</caption>\n",
       "<thead>\n",
       "\t<tr><th></th><th scope=col>l10_agg_rf_ALL</th><th scope=col>l10_seg2_glm</th><th scope=col>l10_seg2_glm_fb</th><th scope=col>l10_win_04_pred_model</th></tr>\n",
       "\t<tr><th></th><th scope=col>&lt;dbl&gt;</th><th scope=col>&lt;dbl&gt;</th><th scope=col>&lt;dbl&gt;</th><th scope=col>&lt;chr&gt;</th></tr>\n",
       "</thead>\n",
       "<tbody>\n",
       "\t<tr><th scope=row>1</th><td>0.12453175</td><td>0.7948603</td><td>0.08060794</td><td>l10_seg2_glm  </td></tr>\n",
       "\t<tr><th scope=row>2</th><td>0.59587778</td><td>0.3835714</td><td>0.02055079</td><td>l10_agg_rf_ALL</td></tr>\n",
       "\t<tr><th scope=row>3</th><td>0.04091587</td><td>0.9441548</td><td>0.01492937</td><td>l10_seg2_glm  </td></tr>\n",
       "\t<tr><th scope=row>4</th><td>0.27020000</td><td>0.6241619</td><td>0.10563810</td><td>l10_seg2_glm  </td></tr>\n",
       "\t<tr><th scope=row>5</th><td>0.10518095</td><td>0.8871190</td><td>0.00770000</td><td>l10_seg2_glm  </td></tr>\n",
       "\t<tr><th scope=row>6</th><td>0.50862937</td><td>0.4681635</td><td>0.02320714</td><td>l10_agg_rf_ALL</td></tr>\n",
       "</tbody>\n",
       "</table>\n"
      ],
      "text/latex": [
       "A data.frame: 6 × 4\n",
       "\\begin{tabular}{r|llll}\n",
       "  & l10\\_agg\\_rf\\_ALL & l10\\_seg2\\_glm & l10\\_seg2\\_glm\\_fb & l10\\_win\\_04\\_pred\\_model\\\\\n",
       "  & <dbl> & <dbl> & <dbl> & <chr>\\\\\n",
       "\\hline\n",
       "\t1 & 0.12453175 & 0.7948603 & 0.08060794 & l10\\_seg2\\_glm  \\\\\n",
       "\t2 & 0.59587778 & 0.3835714 & 0.02055079 & l10\\_agg\\_rf\\_ALL\\\\\n",
       "\t3 & 0.04091587 & 0.9441548 & 0.01492937 & l10\\_seg2\\_glm  \\\\\n",
       "\t4 & 0.27020000 & 0.6241619 & 0.10563810 & l10\\_seg2\\_glm  \\\\\n",
       "\t5 & 0.10518095 & 0.8871190 & 0.00770000 & l10\\_seg2\\_glm  \\\\\n",
       "\t6 & 0.50862937 & 0.4681635 & 0.02320714 & l10\\_agg\\_rf\\_ALL\\\\\n",
       "\\end{tabular}\n"
      ],
      "text/markdown": [
       "\n",
       "A data.frame: 6 × 4\n",
       "\n",
       "| <!--/--> | l10_agg_rf_ALL &lt;dbl&gt; | l10_seg2_glm &lt;dbl&gt; | l10_seg2_glm_fb &lt;dbl&gt; | l10_win_04_pred_model &lt;chr&gt; |\n",
       "|---|---|---|---|---|\n",
       "| 1 | 0.12453175 | 0.7948603 | 0.08060794 | l10_seg2_glm   |\n",
       "| 2 | 0.59587778 | 0.3835714 | 0.02055079 | l10_agg_rf_ALL |\n",
       "| 3 | 0.04091587 | 0.9441548 | 0.01492937 | l10_seg2_glm   |\n",
       "| 4 | 0.27020000 | 0.6241619 | 0.10563810 | l10_seg2_glm   |\n",
       "| 5 | 0.10518095 | 0.8871190 | 0.00770000 | l10_seg2_glm   |\n",
       "| 6 | 0.50862937 | 0.4681635 | 0.02320714 | l10_agg_rf_ALL |\n",
       "\n"
      ],
      "text/plain": [
       "  l10_agg_rf_ALL l10_seg2_glm l10_seg2_glm_fb l10_win_04_pred_model\n",
       "1 0.12453175     0.7948603    0.08060794      l10_seg2_glm         \n",
       "2 0.59587778     0.3835714    0.02055079      l10_agg_rf_ALL       \n",
       "3 0.04091587     0.9441548    0.01492937      l10_seg2_glm         \n",
       "4 0.27020000     0.6241619    0.10563810      l10_seg2_glm         \n",
       "5 0.10518095     0.8871190    0.00770000      l10_seg2_glm         \n",
       "6 0.50862937     0.4681635    0.02320714      l10_agg_rf_ALL       "
      ]
     },
     "metadata": {},
     "output_type": "display_data"
    }
   ],
   "source": [
    "pred <- predict(model, \n",
    "                data = test,\n",
    "                type=\"response\")$predictions\n",
    "\n",
    "pred <- as.data.frame(pred)\n",
    "auc_vars <- names(pred)\n",
    "pred <- pred %>%\n",
    "    mutate (l10_win_04=sapply(apply(.[,c(auc_vars)], \n",
    "                          1, function(x) names(x)[which.max(x)]) , \n",
    "                                    function(s) if (length(s) == 0) NA else paste(s, collapse = \" \")) \n",
    "            ) \n",
    "                                        \n",
    "names(pred) <- c('l10_agg_rf_ALL',\t'l10_seg2_glm',\t'l10_seg2_glm_fb',\t'l10_win_04_pred_model')\n",
    "head(pred)"
   ]
  },
  {
   "cell_type": "code",
   "execution_count": 200,
   "metadata": {},
   "outputs": [
    {
     "data": {
      "text/html": [
       "<style>\n",
       ".list-inline {list-style: none; margin:0; padding: 0}\n",
       ".list-inline>li {display: inline-block}\n",
       ".list-inline>li:not(:last-child)::after {content: \"\\00b7\"; padding: 0 .5ex}\n",
       "</style>\n",
       "<ol class=list-inline><li>352</li><li>86</li></ol>\n"
      ],
      "text/latex": [
       "\\begin{enumerate*}\n",
       "\\item 352\n",
       "\\item 86\n",
       "\\end{enumerate*}\n"
      ],
      "text/markdown": [
       "1. 352\n",
       "2. 86\n",
       "\n",
       "\n"
      ],
      "text/plain": [
       "[1] 352  86"
      ]
     },
     "metadata": {},
     "output_type": "display_data"
    },
    {
     "data": {
      "text/html": [
       "<style>\n",
       ".list-inline {list-style: none; margin:0; padding: 0}\n",
       ".list-inline>li {display: inline-block}\n",
       ".list-inline>li:not(:last-child)::after {content: \"\\00b7\"; padding: 0 .5ex}\n",
       "</style>\n",
       "<ol class=list-inline><li>352</li><li>4</li></ol>\n"
      ],
      "text/latex": [
       "\\begin{enumerate*}\n",
       "\\item 352\n",
       "\\item 4\n",
       "\\end{enumerate*}\n"
      ],
      "text/markdown": [
       "1. 352\n",
       "2. 4\n",
       "\n",
       "\n"
      ],
      "text/plain": [
       "[1] 352   4"
      ]
     },
     "metadata": {},
     "output_type": "display_data"
    },
    {
     "data": {
      "text/html": [
       "<style>\n",
       ".list-inline {list-style: none; margin:0; padding: 0}\n",
       ".list-inline>li {display: inline-block}\n",
       ".list-inline>li:not(:last-child)::after {content: \"\\00b7\"; padding: 0 .5ex}\n",
       "</style>\n",
       "<ol class=list-inline><li>352</li><li>90</li></ol>\n"
      ],
      "text/latex": [
       "\\begin{enumerate*}\n",
       "\\item 352\n",
       "\\item 90\n",
       "\\end{enumerate*}\n"
      ],
      "text/markdown": [
       "1. 352\n",
       "2. 90\n",
       "\n",
       "\n"
      ],
      "text/plain": [
       "[1] 352  90"
      ]
     },
     "metadata": {},
     "output_type": "display_data"
    },
    {
     "data": {
      "text/html": [
       "<table>\n",
       "<caption>A data.frame: 6 × 90</caption>\n",
       "<thead>\n",
       "\t<tr><th></th><th scope=col>tld_registrar_index</th><th scope=col>geo_maj</th><th scope=col>geo_cnt</th><th scope=col>n</th><th scope=col>ren_prp</th><th scope=col>tld_cnt</th><th scope=col>tld_rat</th><th scope=col>daydom_min</th><th scope=col>daydom_max</th><th scope=col>daydom_mean</th><th scope=col>daydom_rng</th><th scope=col>daydom_std</th><th scope=col>daydom_skew</th><th scope=col>daydom_kurt</th><th scope=col>sldlen_min</th><th scope=col>sldlen_max</th><th scope=col>sldlen_mean</th><th scope=col>sldlen_rng</th><th scope=col>sldlen_std</th><th scope=col>sldlen_skew</th><th scope=col>sldlen_kurt</th><th scope=col>gibbs_min</th><th scope=col>gibbs_max</th><th scope=col>gibbs_mean</th><th scope=col>gibbs_rng</th><th scope=col>⋯</th><th scope=col>l10_agg_glm_ALL_fb</th><th scope=col>l10_seg2_rf_fb</th><th scope=col>l10_seg_rf_fb</th><th scope=col>l10_agg_rf_fb</th><th scope=col>l10_agg_rf_ALL_fb</th><th scope=col>auc_seg2_glm_fb</th><th scope=col>auc_seg_glm_fb</th><th scope=col>auc_agg_glm_fb</th><th scope=col>auc_agg_glm_ALL_fb</th><th scope=col>auc_seg2_rf_fb</th><th scope=col>auc_seg_rf_fb</th><th scope=col>auc_agg_rf_fb</th><th scope=col>auc_agg_rf_ALL_fb</th><th scope=col>auc_win_01</th><th scope=col>l10_win_01</th><th scope=col>auc_win_02</th><th scope=col>l10_win_02</th><th scope=col>auc_win_03</th><th scope=col>l10_win_03</th><th scope=col>auc_win_04</th><th scope=col>l10_win_04</th><th scope=col>l10_agg_rf_ALL</th><th scope=col>l10_seg2_glm</th><th scope=col>l10_seg2_glm_fb</th><th scope=col>l10_win_04.1</th></tr>\n",
       "\t<tr><th></th><th scope=col>&lt;fct&gt;</th><th scope=col>&lt;fct&gt;</th><th scope=col>&lt;int&gt;</th><th scope=col>&lt;int&gt;</th><th scope=col>&lt;dbl&gt;</th><th scope=col>&lt;int&gt;</th><th scope=col>&lt;dbl&gt;</th><th scope=col>&lt;int&gt;</th><th scope=col>&lt;int&gt;</th><th scope=col>&lt;dbl&gt;</th><th scope=col>&lt;int&gt;</th><th scope=col>&lt;dbl&gt;</th><th scope=col>&lt;dbl&gt;</th><th scope=col>&lt;dbl&gt;</th><th scope=col>&lt;int&gt;</th><th scope=col>&lt;int&gt;</th><th scope=col>&lt;dbl&gt;</th><th scope=col>&lt;int&gt;</th><th scope=col>&lt;dbl&gt;</th><th scope=col>&lt;dbl&gt;</th><th scope=col>&lt;dbl&gt;</th><th scope=col>&lt;dbl&gt;</th><th scope=col>&lt;dbl&gt;</th><th scope=col>&lt;dbl&gt;</th><th scope=col>&lt;dbl&gt;</th><th scope=col>⋯</th><th scope=col>&lt;dbl&gt;</th><th scope=col>&lt;dbl&gt;</th><th scope=col>&lt;dbl&gt;</th><th scope=col>&lt;dbl&gt;</th><th scope=col>&lt;dbl&gt;</th><th scope=col>&lt;dbl&gt;</th><th scope=col>&lt;dbl&gt;</th><th scope=col>&lt;dbl&gt;</th><th scope=col>&lt;dbl&gt;</th><th scope=col>&lt;dbl&gt;</th><th scope=col>&lt;dbl&gt;</th><th scope=col>&lt;dbl&gt;</th><th scope=col>&lt;dbl&gt;</th><th scope=col>&lt;chr&gt;</th><th scope=col>&lt;chr&gt;</th><th scope=col>&lt;chr&gt;</th><th scope=col>&lt;chr&gt;</th><th scope=col>&lt;chr&gt;</th><th scope=col>&lt;chr&gt;</th><th scope=col>&lt;chr&gt;</th><th scope=col>&lt;chr&gt;</th><th scope=col>&lt;dbl&gt;</th><th scope=col>&lt;dbl&gt;</th><th scope=col>&lt;dbl&gt;</th><th scope=col>&lt;chr&gt;</th></tr>\n",
       "</thead>\n",
       "<tbody>\n",
       "\t<tr><th scope=row>3</th><td>fun1api          </td><td>EU                        </td><td>1</td><td>  8</td><td>0.50000000</td><td>1</td><td>0.125000000</td><td>1</td><td>  1</td><td>  1.000000</td><td>  0</td><td>  0.0000000</td><td> 1.4225354</td><td> 0.5279077</td><td> 4</td><td>15</td><td> 8.875000</td><td>11</td><td>3.5228844</td><td> 0.4848693</td><td>-1.143452</td><td>2.00</td><td>  6.09</td><td> 4.396250</td><td> 4.09</td><td>⋯</td><td>2.500000</td><td>2.500000</td><td>2.500000</td><td>2.500000</td><td>2.500000</td><td>0.4250000</td><td>0.4250000</td><td>0.4250000</td><td>0.4250000</td><td>0.4250000</td><td>0.4250000</td><td>0.4250000</td><td>0.4250000</td><td>auc_seg2_glm_fb</td><td>l10_seg2_glm_fb</td><td>auc_agg_glm_ALL</td><td>l10_agg_glm_ALL</td><td>auc_seg2_glm_fb</td><td>l10_seg2_glm_fb</td><td>auc_seg2_glm_fb</td><td>l10_seg2_glm_fb</td><td>0.11233333</td><td>0.8247794</td><td>0.06288730</td><td>l10_seg2_glm  </td></tr>\n",
       "\t<tr><th scope=row>7</th><td>funalibaba sg    </td><td>China                     </td><td>1</td><td>195</td><td>0.04102564</td><td>1</td><td>0.005128205</td><td>1</td><td>490</td><td>296.728205</td><td>489</td><td>228.3117623</td><td>-0.3415584</td><td>-1.8644672</td><td> 4</td><td>15</td><td> 6.794872</td><td>11</td><td>2.3106598</td><td> 1.4636429</td><td> 1.315210</td><td>0.12</td><td> 16.72</td><td> 4.425128</td><td>16.60</td><td>⋯</td><td>6.250000</td><td>3.750000</td><td>2.500000</td><td>3.750000</td><td>3.750000</td><td>0.9250000</td><td>0.9000000</td><td>0.8625000</td><td>0.8500000</td><td>0.8875000</td><td>0.8750000</td><td>0.8750000</td><td>0.8750000</td><td>auc_seg2_glm_fb</td><td>l10_seg2_glm_fb</td><td>auc_seg2_glm   </td><td>l10_seg2_glm   </td><td>auc_seg2_glm   </td><td>l10_seg2_glm   </td><td>auc_seg2_glm   </td><td>l10_seg2_glm   </td><td>0.63067540</td><td>0.3484683</td><td>0.02085635</td><td>l10_agg_rf_ALL</td></tr>\n",
       "\t<tr><th scope=row>15</th><td><span style=white-space:pre-wrap>funcafe24        </span></td><td>Vietnam, Korea &amp; Indonesia</td><td>1</td><td><span style=white-space:pre-wrap>  3</span></td><td>0.00000000</td><td>1</td><td>0.333333333</td><td>1</td><td><span style=white-space:pre-wrap>  2</span></td><td><span style=white-space:pre-wrap>  1.333333</span></td><td><span style=white-space:pre-wrap>  1</span></td><td><span style=white-space:pre-wrap>  0.5773503</span></td><td> 0.3849002</td><td>-2.3333333</td><td> 5</td><td> 6</td><td> 5.666667</td><td> 1</td><td>0.5773503</td><td>-0.3849002</td><td>-2.333333</td><td>0.48</td><td><span style=white-space:pre-wrap>  5.80</span></td><td> 2.926667</td><td> 5.32</td><td>⋯</td><td>4.496472</td><td>4.835949</td><td>5.037083</td><td>4.906566</td><td>4.967418</td><td>0.6155464</td><td>0.6229222</td><td>0.6200974</td><td>0.6214951</td><td>0.6244871</td><td>0.6283436</td><td>0.6165488</td><td>0.6180376</td><td>auc_seg2_glm_fb</td><td>l10_seg2_glm_fb</td><td><span style=white-space:pre-wrap>auc_seg2_glm   </span></td><td><span style=white-space:pre-wrap>l10_seg2_glm   </span></td><td><span style=white-space:pre-wrap>auc_seg2_glm   </span></td><td><span style=white-space:pre-wrap>l10_seg2_glm   </span></td><td><span style=white-space:pre-wrap>auc_seg2_glm   </span></td><td><span style=white-space:pre-wrap>l10_seg2_glm   </span></td><td>0.10844127</td><td>0.8685635</td><td>0.02299524</td><td><span style=white-space:pre-wrap>l10_seg2_glm  </span></td></tr>\n",
       "\t<tr><th scope=row>21</th><td>funcronon ag     </td><td>EU                        </td><td>1</td><td> 10</td><td>0.70000000</td><td>1</td><td>0.100000000</td><td>1</td><td>  3</td><td>  1.400000</td><td>  2</td><td>  0.6992059</td><td> 1.1935618</td><td>-0.0746281</td><td> 3</td><td>24</td><td>11.400000</td><td>21</td><td>7.3966960</td><td> 0.7355118</td><td>-1.053701</td><td>1.05</td><td>100.00</td><td>13.731000</td><td>98.95</td><td>⋯</td><td>1.428571</td><td>1.428571</td><td>1.428571</td><td>1.428571</td><td>1.428571</td><td>0.5071429</td><td>0.5071429</td><td>0.5071429</td><td>0.5071429</td><td>0.5071429</td><td>0.5071429</td><td>0.5071429</td><td>0.5071429</td><td>auc_agg_rf_ALL </td><td>l10_seg2_glm_fb</td><td>auc_seg2_glm   </td><td>l10_seg2_glm   </td><td>auc_seg2_glm   </td><td>l10_seg2_glm   </td><td>auc_seg2_glm   </td><td>l10_seg2_glm   </td><td>0.27805000</td><td>0.6116524</td><td>0.11029762</td><td>l10_seg2_glm  </td></tr>\n",
       "\t<tr><th scope=row>22</th><td>funcsc corporate </td><td>United States             </td><td>1</td><td>  3</td><td>1.00000000</td><td>1</td><td>0.333333333</td><td>1</td><td>  4</td><td>  3.000000</td><td>  3</td><td>  1.7320508</td><td>-0.3849002</td><td>-2.3333333</td><td>11</td><td>16</td><td>14.000000</td><td> 5</td><td>2.6457513</td><td>-0.3239695</td><td>-2.333333</td><td>4.71</td><td>  6.28</td><td> 5.233333</td><td> 1.57</td><td>⋯</td><td>3.333333</td><td>3.333333</td><td>3.333333</td><td>3.333333</td><td>3.333333</td><td>0.5500000</td><td>0.5500000</td><td>0.5500000</td><td>0.5500000</td><td>0.5500000</td><td>0.5500000</td><td>0.5500000</td><td>0.5500000</td><td>auc_seg2_glm_fb</td><td>l10_seg2_glm_fb</td><td>auc_seg2_glm   </td><td>l10_seg2_glm   </td><td>auc_seg2_glm   </td><td>l10_seg2_glm   </td><td>auc_seg2_glm   </td><td>l10_seg2_glm   </td><td>0.08450476</td><td>0.9033619</td><td>0.01213333</td><td>l10_seg2_glm  </td></tr>\n",
       "\t<tr><th scope=row>43</th><td>funglobal domains</td><td>United States             </td><td>1</td><td>271</td><td>0.00000000</td><td>1</td><td>0.003690037</td><td>1</td><td> 71</td><td> 32.129151</td><td> 70</td><td> 20.7593334</td><td> 0.4921998</td><td>-0.8367946</td><td> 4</td><td>23</td><td>11.025830</td><td>19</td><td>3.6223684</td><td> 1.0939010</td><td> 1.296427</td><td>0.52</td><td> 12.22</td><td> 5.511661</td><td>11.70</td><td>⋯</td><td>3.864173</td><td>5.305446</td><td>5.745042</td><td>5.403383</td><td>5.574690</td><td>0.7858179</td><td>0.7826850</td><td>0.7172216</td><td>0.7263366</td><td>0.8335841</td><td>0.8438961</td><td>0.8380293</td><td>0.8384827</td><td>auc_agg_rf_ALL </td><td>l10_agg_rf_ALL </td><td>auc_seg_rf     </td><td>l10_seg_rf     </td><td>auc_seg2_glm   </td><td>l10_seg2_glm   </td><td>auc_agg_rf_ALL </td><td>l10_agg_rf_ALL </td><td>0.43938095</td><td>0.5387873</td><td>0.02183175</td><td>l10_seg2_glm  </td></tr>\n",
       "</tbody>\n",
       "</table>\n"
      ],
      "text/latex": [
       "A data.frame: 6 × 90\n",
       "\\begin{tabular}{r|lllllllllllllllllllllllllllllllllllllllllllllllllll}\n",
       "  & tld\\_registrar\\_index & geo\\_maj & geo\\_cnt & n & ren\\_prp & tld\\_cnt & tld\\_rat & daydom\\_min & daydom\\_max & daydom\\_mean & daydom\\_rng & daydom\\_std & daydom\\_skew & daydom\\_kurt & sldlen\\_min & sldlen\\_max & sldlen\\_mean & sldlen\\_rng & sldlen\\_std & sldlen\\_skew & sldlen\\_kurt & gibbs\\_min & gibbs\\_max & gibbs\\_mean & gibbs\\_rng & ⋯ & l10\\_agg\\_glm\\_ALL\\_fb & l10\\_seg2\\_rf\\_fb & l10\\_seg\\_rf\\_fb & l10\\_agg\\_rf\\_fb & l10\\_agg\\_rf\\_ALL\\_fb & auc\\_seg2\\_glm\\_fb & auc\\_seg\\_glm\\_fb & auc\\_agg\\_glm\\_fb & auc\\_agg\\_glm\\_ALL\\_fb & auc\\_seg2\\_rf\\_fb & auc\\_seg\\_rf\\_fb & auc\\_agg\\_rf\\_fb & auc\\_agg\\_rf\\_ALL\\_fb & auc\\_win\\_01 & l10\\_win\\_01 & auc\\_win\\_02 & l10\\_win\\_02 & auc\\_win\\_03 & l10\\_win\\_03 & auc\\_win\\_04 & l10\\_win\\_04 & l10\\_agg\\_rf\\_ALL & l10\\_seg2\\_glm & l10\\_seg2\\_glm\\_fb & l10\\_win\\_04.1\\\\\n",
       "  & <fct> & <fct> & <int> & <int> & <dbl> & <int> & <dbl> & <int> & <int> & <dbl> & <int> & <dbl> & <dbl> & <dbl> & <int> & <int> & <dbl> & <int> & <dbl> & <dbl> & <dbl> & <dbl> & <dbl> & <dbl> & <dbl> & ⋯ & <dbl> & <dbl> & <dbl> & <dbl> & <dbl> & <dbl> & <dbl> & <dbl> & <dbl> & <dbl> & <dbl> & <dbl> & <dbl> & <chr> & <chr> & <chr> & <chr> & <chr> & <chr> & <chr> & <chr> & <dbl> & <dbl> & <dbl> & <chr>\\\\\n",
       "\\hline\n",
       "\t3 & fun1api           & EU                         & 1 &   8 & 0.50000000 & 1 & 0.125000000 & 1 &   1 &   1.000000 &   0 &   0.0000000 &  1.4225354 &  0.5279077 &  4 & 15 &  8.875000 & 11 & 3.5228844 &  0.4848693 & -1.143452 & 2.00 &   6.09 &  4.396250 &  4.09 & ⋯ & 2.500000 & 2.500000 & 2.500000 & 2.500000 & 2.500000 & 0.4250000 & 0.4250000 & 0.4250000 & 0.4250000 & 0.4250000 & 0.4250000 & 0.4250000 & 0.4250000 & auc\\_seg2\\_glm\\_fb & l10\\_seg2\\_glm\\_fb & auc\\_agg\\_glm\\_ALL & l10\\_agg\\_glm\\_ALL & auc\\_seg2\\_glm\\_fb & l10\\_seg2\\_glm\\_fb & auc\\_seg2\\_glm\\_fb & l10\\_seg2\\_glm\\_fb & 0.11233333 & 0.8247794 & 0.06288730 & l10\\_seg2\\_glm  \\\\\n",
       "\t7 & funalibaba sg     & China                      & 1 & 195 & 0.04102564 & 1 & 0.005128205 & 1 & 490 & 296.728205 & 489 & 228.3117623 & -0.3415584 & -1.8644672 &  4 & 15 &  6.794872 & 11 & 2.3106598 &  1.4636429 &  1.315210 & 0.12 &  16.72 &  4.425128 & 16.60 & ⋯ & 6.250000 & 3.750000 & 2.500000 & 3.750000 & 3.750000 & 0.9250000 & 0.9000000 & 0.8625000 & 0.8500000 & 0.8875000 & 0.8750000 & 0.8750000 & 0.8750000 & auc\\_seg2\\_glm\\_fb & l10\\_seg2\\_glm\\_fb & auc\\_seg2\\_glm    & l10\\_seg2\\_glm    & auc\\_seg2\\_glm    & l10\\_seg2\\_glm    & auc\\_seg2\\_glm    & l10\\_seg2\\_glm    & 0.63067540 & 0.3484683 & 0.02085635 & l10\\_agg\\_rf\\_ALL\\\\\n",
       "\t15 & funcafe24         & Vietnam, Korea \\& Indonesia & 1 &   3 & 0.00000000 & 1 & 0.333333333 & 1 &   2 &   1.333333 &   1 &   0.5773503 &  0.3849002 & -2.3333333 &  5 &  6 &  5.666667 &  1 & 0.5773503 & -0.3849002 & -2.333333 & 0.48 &   5.80 &  2.926667 &  5.32 & ⋯ & 4.496472 & 4.835949 & 5.037083 & 4.906566 & 4.967418 & 0.6155464 & 0.6229222 & 0.6200974 & 0.6214951 & 0.6244871 & 0.6283436 & 0.6165488 & 0.6180376 & auc\\_seg2\\_glm\\_fb & l10\\_seg2\\_glm\\_fb & auc\\_seg2\\_glm    & l10\\_seg2\\_glm    & auc\\_seg2\\_glm    & l10\\_seg2\\_glm    & auc\\_seg2\\_glm    & l10\\_seg2\\_glm    & 0.10844127 & 0.8685635 & 0.02299524 & l10\\_seg2\\_glm  \\\\\n",
       "\t21 & funcronon ag      & EU                         & 1 &  10 & 0.70000000 & 1 & 0.100000000 & 1 &   3 &   1.400000 &   2 &   0.6992059 &  1.1935618 & -0.0746281 &  3 & 24 & 11.400000 & 21 & 7.3966960 &  0.7355118 & -1.053701 & 1.05 & 100.00 & 13.731000 & 98.95 & ⋯ & 1.428571 & 1.428571 & 1.428571 & 1.428571 & 1.428571 & 0.5071429 & 0.5071429 & 0.5071429 & 0.5071429 & 0.5071429 & 0.5071429 & 0.5071429 & 0.5071429 & auc\\_agg\\_rf\\_ALL  & l10\\_seg2\\_glm\\_fb & auc\\_seg2\\_glm    & l10\\_seg2\\_glm    & auc\\_seg2\\_glm    & l10\\_seg2\\_glm    & auc\\_seg2\\_glm    & l10\\_seg2\\_glm    & 0.27805000 & 0.6116524 & 0.11029762 & l10\\_seg2\\_glm  \\\\\n",
       "\t22 & funcsc corporate  & United States              & 1 &   3 & 1.00000000 & 1 & 0.333333333 & 1 &   4 &   3.000000 &   3 &   1.7320508 & -0.3849002 & -2.3333333 & 11 & 16 & 14.000000 &  5 & 2.6457513 & -0.3239695 & -2.333333 & 4.71 &   6.28 &  5.233333 &  1.57 & ⋯ & 3.333333 & 3.333333 & 3.333333 & 3.333333 & 3.333333 & 0.5500000 & 0.5500000 & 0.5500000 & 0.5500000 & 0.5500000 & 0.5500000 & 0.5500000 & 0.5500000 & auc\\_seg2\\_glm\\_fb & l10\\_seg2\\_glm\\_fb & auc\\_seg2\\_glm    & l10\\_seg2\\_glm    & auc\\_seg2\\_glm    & l10\\_seg2\\_glm    & auc\\_seg2\\_glm    & l10\\_seg2\\_glm    & 0.08450476 & 0.9033619 & 0.01213333 & l10\\_seg2\\_glm  \\\\\n",
       "\t43 & funglobal domains & United States              & 1 & 271 & 0.00000000 & 1 & 0.003690037 & 1 &  71 &  32.129151 &  70 &  20.7593334 &  0.4921998 & -0.8367946 &  4 & 23 & 11.025830 & 19 & 3.6223684 &  1.0939010 &  1.296427 & 0.52 &  12.22 &  5.511661 & 11.70 & ⋯ & 3.864173 & 5.305446 & 5.745042 & 5.403383 & 5.574690 & 0.7858179 & 0.7826850 & 0.7172216 & 0.7263366 & 0.8335841 & 0.8438961 & 0.8380293 & 0.8384827 & auc\\_agg\\_rf\\_ALL  & l10\\_agg\\_rf\\_ALL  & auc\\_seg\\_rf      & l10\\_seg\\_rf      & auc\\_seg2\\_glm    & l10\\_seg2\\_glm    & auc\\_agg\\_rf\\_ALL  & l10\\_agg\\_rf\\_ALL  & 0.43938095 & 0.5387873 & 0.02183175 & l10\\_seg2\\_glm  \\\\\n",
       "\\end{tabular}\n"
      ],
      "text/markdown": [
       "\n",
       "A data.frame: 6 × 90\n",
       "\n",
       "| <!--/--> | tld_registrar_index &lt;fct&gt; | geo_maj &lt;fct&gt; | geo_cnt &lt;int&gt; | n &lt;int&gt; | ren_prp &lt;dbl&gt; | tld_cnt &lt;int&gt; | tld_rat &lt;dbl&gt; | daydom_min &lt;int&gt; | daydom_max &lt;int&gt; | daydom_mean &lt;dbl&gt; | daydom_rng &lt;int&gt; | daydom_std &lt;dbl&gt; | daydom_skew &lt;dbl&gt; | daydom_kurt &lt;dbl&gt; | sldlen_min &lt;int&gt; | sldlen_max &lt;int&gt; | sldlen_mean &lt;dbl&gt; | sldlen_rng &lt;int&gt; | sldlen_std &lt;dbl&gt; | sldlen_skew &lt;dbl&gt; | sldlen_kurt &lt;dbl&gt; | gibbs_min &lt;dbl&gt; | gibbs_max &lt;dbl&gt; | gibbs_mean &lt;dbl&gt; | gibbs_rng &lt;dbl&gt; | ⋯ ⋯ | l10_agg_glm_ALL_fb &lt;dbl&gt; | l10_seg2_rf_fb &lt;dbl&gt; | l10_seg_rf_fb &lt;dbl&gt; | l10_agg_rf_fb &lt;dbl&gt; | l10_agg_rf_ALL_fb &lt;dbl&gt; | auc_seg2_glm_fb &lt;dbl&gt; | auc_seg_glm_fb &lt;dbl&gt; | auc_agg_glm_fb &lt;dbl&gt; | auc_agg_glm_ALL_fb &lt;dbl&gt; | auc_seg2_rf_fb &lt;dbl&gt; | auc_seg_rf_fb &lt;dbl&gt; | auc_agg_rf_fb &lt;dbl&gt; | auc_agg_rf_ALL_fb &lt;dbl&gt; | auc_win_01 &lt;chr&gt; | l10_win_01 &lt;chr&gt; | auc_win_02 &lt;chr&gt; | l10_win_02 &lt;chr&gt; | auc_win_03 &lt;chr&gt; | l10_win_03 &lt;chr&gt; | auc_win_04 &lt;chr&gt; | l10_win_04 &lt;chr&gt; | l10_agg_rf_ALL &lt;dbl&gt; | l10_seg2_glm &lt;dbl&gt; | l10_seg2_glm_fb &lt;dbl&gt; | l10_win_04.1 &lt;chr&gt; |\n",
       "|---|---|---|---|---|---|---|---|---|---|---|---|---|---|---|---|---|---|---|---|---|---|---|---|---|---|---|---|---|---|---|---|---|---|---|---|---|---|---|---|---|---|---|---|---|---|---|---|---|---|---|---|\n",
       "| 3 | fun1api           | EU                         | 1 |   8 | 0.50000000 | 1 | 0.125000000 | 1 |   1 |   1.000000 |   0 |   0.0000000 |  1.4225354 |  0.5279077 |  4 | 15 |  8.875000 | 11 | 3.5228844 |  0.4848693 | -1.143452 | 2.00 |   6.09 |  4.396250 |  4.09 | ⋯ | 2.500000 | 2.500000 | 2.500000 | 2.500000 | 2.500000 | 0.4250000 | 0.4250000 | 0.4250000 | 0.4250000 | 0.4250000 | 0.4250000 | 0.4250000 | 0.4250000 | auc_seg2_glm_fb | l10_seg2_glm_fb | auc_agg_glm_ALL | l10_agg_glm_ALL | auc_seg2_glm_fb | l10_seg2_glm_fb | auc_seg2_glm_fb | l10_seg2_glm_fb | 0.11233333 | 0.8247794 | 0.06288730 | l10_seg2_glm   |\n",
       "| 7 | funalibaba sg     | China                      | 1 | 195 | 0.04102564 | 1 | 0.005128205 | 1 | 490 | 296.728205 | 489 | 228.3117623 | -0.3415584 | -1.8644672 |  4 | 15 |  6.794872 | 11 | 2.3106598 |  1.4636429 |  1.315210 | 0.12 |  16.72 |  4.425128 | 16.60 | ⋯ | 6.250000 | 3.750000 | 2.500000 | 3.750000 | 3.750000 | 0.9250000 | 0.9000000 | 0.8625000 | 0.8500000 | 0.8875000 | 0.8750000 | 0.8750000 | 0.8750000 | auc_seg2_glm_fb | l10_seg2_glm_fb | auc_seg2_glm    | l10_seg2_glm    | auc_seg2_glm    | l10_seg2_glm    | auc_seg2_glm    | l10_seg2_glm    | 0.63067540 | 0.3484683 | 0.02085635 | l10_agg_rf_ALL |\n",
       "| 15 | funcafe24         | Vietnam, Korea &amp; Indonesia | 1 |   3 | 0.00000000 | 1 | 0.333333333 | 1 |   2 |   1.333333 |   1 |   0.5773503 |  0.3849002 | -2.3333333 |  5 |  6 |  5.666667 |  1 | 0.5773503 | -0.3849002 | -2.333333 | 0.48 |   5.80 |  2.926667 |  5.32 | ⋯ | 4.496472 | 4.835949 | 5.037083 | 4.906566 | 4.967418 | 0.6155464 | 0.6229222 | 0.6200974 | 0.6214951 | 0.6244871 | 0.6283436 | 0.6165488 | 0.6180376 | auc_seg2_glm_fb | l10_seg2_glm_fb | auc_seg2_glm    | l10_seg2_glm    | auc_seg2_glm    | l10_seg2_glm    | auc_seg2_glm    | l10_seg2_glm    | 0.10844127 | 0.8685635 | 0.02299524 | l10_seg2_glm   |\n",
       "| 21 | funcronon ag      | EU                         | 1 |  10 | 0.70000000 | 1 | 0.100000000 | 1 |   3 |   1.400000 |   2 |   0.6992059 |  1.1935618 | -0.0746281 |  3 | 24 | 11.400000 | 21 | 7.3966960 |  0.7355118 | -1.053701 | 1.05 | 100.00 | 13.731000 | 98.95 | ⋯ | 1.428571 | 1.428571 | 1.428571 | 1.428571 | 1.428571 | 0.5071429 | 0.5071429 | 0.5071429 | 0.5071429 | 0.5071429 | 0.5071429 | 0.5071429 | 0.5071429 | auc_agg_rf_ALL  | l10_seg2_glm_fb | auc_seg2_glm    | l10_seg2_glm    | auc_seg2_glm    | l10_seg2_glm    | auc_seg2_glm    | l10_seg2_glm    | 0.27805000 | 0.6116524 | 0.11029762 | l10_seg2_glm   |\n",
       "| 22 | funcsc corporate  | United States              | 1 |   3 | 1.00000000 | 1 | 0.333333333 | 1 |   4 |   3.000000 |   3 |   1.7320508 | -0.3849002 | -2.3333333 | 11 | 16 | 14.000000 |  5 | 2.6457513 | -0.3239695 | -2.333333 | 4.71 |   6.28 |  5.233333 |  1.57 | ⋯ | 3.333333 | 3.333333 | 3.333333 | 3.333333 | 3.333333 | 0.5500000 | 0.5500000 | 0.5500000 | 0.5500000 | 0.5500000 | 0.5500000 | 0.5500000 | 0.5500000 | auc_seg2_glm_fb | l10_seg2_glm_fb | auc_seg2_glm    | l10_seg2_glm    | auc_seg2_glm    | l10_seg2_glm    | auc_seg2_glm    | l10_seg2_glm    | 0.08450476 | 0.9033619 | 0.01213333 | l10_seg2_glm   |\n",
       "| 43 | funglobal domains | United States              | 1 | 271 | 0.00000000 | 1 | 0.003690037 | 1 |  71 |  32.129151 |  70 |  20.7593334 |  0.4921998 | -0.8367946 |  4 | 23 | 11.025830 | 19 | 3.6223684 |  1.0939010 |  1.296427 | 0.52 |  12.22 |  5.511661 | 11.70 | ⋯ | 3.864173 | 5.305446 | 5.745042 | 5.403383 | 5.574690 | 0.7858179 | 0.7826850 | 0.7172216 | 0.7263366 | 0.8335841 | 0.8438961 | 0.8380293 | 0.8384827 | auc_agg_rf_ALL  | l10_agg_rf_ALL  | auc_seg_rf      | l10_seg_rf      | auc_seg2_glm    | l10_seg2_glm    | auc_agg_rf_ALL  | l10_agg_rf_ALL  | 0.43938095 | 0.5387873 | 0.02183175 | l10_seg2_glm   |\n",
       "\n"
      ],
      "text/plain": [
       "   tld_registrar_index geo_maj                    geo_cnt n   ren_prp   \n",
       "3  fun1api             EU                         1         8 0.50000000\n",
       "7  funalibaba sg       China                      1       195 0.04102564\n",
       "15 funcafe24           Vietnam, Korea & Indonesia 1         3 0.00000000\n",
       "21 funcronon ag        EU                         1        10 0.70000000\n",
       "22 funcsc corporate    United States              1         3 1.00000000\n",
       "43 funglobal domains   United States              1       271 0.00000000\n",
       "   tld_cnt tld_rat     daydom_min daydom_max daydom_mean daydom_rng daydom_std \n",
       "3  1       0.125000000 1            1          1.000000    0          0.0000000\n",
       "7  1       0.005128205 1          490        296.728205  489        228.3117623\n",
       "15 1       0.333333333 1            2          1.333333    1          0.5773503\n",
       "21 1       0.100000000 1            3          1.400000    2          0.6992059\n",
       "22 1       0.333333333 1            4          3.000000    3          1.7320508\n",
       "43 1       0.003690037 1           71         32.129151   70         20.7593334\n",
       "   daydom_skew daydom_kurt sldlen_min sldlen_max sldlen_mean sldlen_rng\n",
       "3   1.4225354   0.5279077   4         15          8.875000   11        \n",
       "7  -0.3415584  -1.8644672   4         15          6.794872   11        \n",
       "15  0.3849002  -2.3333333   5          6          5.666667    1        \n",
       "21  1.1935618  -0.0746281   3         24         11.400000   21        \n",
       "22 -0.3849002  -2.3333333  11         16         14.000000    5        \n",
       "43  0.4921998  -0.8367946   4         23         11.025830   19        \n",
       "   sldlen_std sldlen_skew sldlen_kurt gibbs_min gibbs_max gibbs_mean gibbs_rng\n",
       "3  3.5228844   0.4848693  -1.143452   2.00        6.09     4.396250   4.09    \n",
       "7  2.3106598   1.4636429   1.315210   0.12       16.72     4.425128  16.60    \n",
       "15 0.5773503  -0.3849002  -2.333333   0.48        5.80     2.926667   5.32    \n",
       "21 7.3966960   0.7355118  -1.053701   1.05      100.00    13.731000  98.95    \n",
       "22 2.6457513  -0.3239695  -2.333333   4.71        6.28     5.233333   1.57    \n",
       "43 3.6223684   1.0939010   1.296427   0.52       12.22     5.511661  11.70    \n",
       "   ⋯ l10_agg_glm_ALL_fb l10_seg2_rf_fb l10_seg_rf_fb l10_agg_rf_fb\n",
       "3  ⋯ 2.500000           2.500000       2.500000      2.500000     \n",
       "7  ⋯ 6.250000           3.750000       2.500000      3.750000     \n",
       "15 ⋯ 4.496472           4.835949       5.037083      4.906566     \n",
       "21 ⋯ 1.428571           1.428571       1.428571      1.428571     \n",
       "22 ⋯ 3.333333           3.333333       3.333333      3.333333     \n",
       "43 ⋯ 3.864173           5.305446       5.745042      5.403383     \n",
       "   l10_agg_rf_ALL_fb auc_seg2_glm_fb auc_seg_glm_fb auc_agg_glm_fb\n",
       "3  2.500000          0.4250000       0.4250000      0.4250000     \n",
       "7  3.750000          0.9250000       0.9000000      0.8625000     \n",
       "15 4.967418          0.6155464       0.6229222      0.6200974     \n",
       "21 1.428571          0.5071429       0.5071429      0.5071429     \n",
       "22 3.333333          0.5500000       0.5500000      0.5500000     \n",
       "43 5.574690          0.7858179       0.7826850      0.7172216     \n",
       "   auc_agg_glm_ALL_fb auc_seg2_rf_fb auc_seg_rf_fb auc_agg_rf_fb\n",
       "3  0.4250000          0.4250000      0.4250000     0.4250000    \n",
       "7  0.8500000          0.8875000      0.8750000     0.8750000    \n",
       "15 0.6214951          0.6244871      0.6283436     0.6165488    \n",
       "21 0.5071429          0.5071429      0.5071429     0.5071429    \n",
       "22 0.5500000          0.5500000      0.5500000     0.5500000    \n",
       "43 0.7263366          0.8335841      0.8438961     0.8380293    \n",
       "   auc_agg_rf_ALL_fb auc_win_01      l10_win_01      auc_win_02     \n",
       "3  0.4250000         auc_seg2_glm_fb l10_seg2_glm_fb auc_agg_glm_ALL\n",
       "7  0.8750000         auc_seg2_glm_fb l10_seg2_glm_fb auc_seg2_glm   \n",
       "15 0.6180376         auc_seg2_glm_fb l10_seg2_glm_fb auc_seg2_glm   \n",
       "21 0.5071429         auc_agg_rf_ALL  l10_seg2_glm_fb auc_seg2_glm   \n",
       "22 0.5500000         auc_seg2_glm_fb l10_seg2_glm_fb auc_seg2_glm   \n",
       "43 0.8384827         auc_agg_rf_ALL  l10_agg_rf_ALL  auc_seg_rf     \n",
       "   l10_win_02      auc_win_03      l10_win_03      auc_win_04     \n",
       "3  l10_agg_glm_ALL auc_seg2_glm_fb l10_seg2_glm_fb auc_seg2_glm_fb\n",
       "7  l10_seg2_glm    auc_seg2_glm    l10_seg2_glm    auc_seg2_glm   \n",
       "15 l10_seg2_glm    auc_seg2_glm    l10_seg2_glm    auc_seg2_glm   \n",
       "21 l10_seg2_glm    auc_seg2_glm    l10_seg2_glm    auc_seg2_glm   \n",
       "22 l10_seg2_glm    auc_seg2_glm    l10_seg2_glm    auc_seg2_glm   \n",
       "43 l10_seg_rf      auc_seg2_glm    l10_seg2_glm    auc_agg_rf_ALL \n",
       "   l10_win_04      l10_agg_rf_ALL l10_seg2_glm l10_seg2_glm_fb l10_win_04.1  \n",
       "3  l10_seg2_glm_fb 0.11233333     0.8247794    0.06288730      l10_seg2_glm  \n",
       "7  l10_seg2_glm    0.63067540     0.3484683    0.02085635      l10_agg_rf_ALL\n",
       "15 l10_seg2_glm    0.10844127     0.8685635    0.02299524      l10_seg2_glm  \n",
       "21 l10_seg2_glm    0.27805000     0.6116524    0.11029762      l10_seg2_glm  \n",
       "22 l10_seg2_glm    0.08450476     0.9033619    0.01213333      l10_seg2_glm  \n",
       "43 l10_agg_rf_ALL  0.43938095     0.5387873    0.02183175      l10_seg2_glm  "
      ]
     },
     "metadata": {},
     "output_type": "display_data"
    }
   ],
   "source": [
    "test_pred <- cbind(test,pred)\n",
    "# test_pred <- test_pred %>% select()\n",
    "dim(test)\n",
    "dim(pred)\n",
    "dim(test_pred)\n",
    "head(test_pred)\n",
    "# 04.1 is the prediction result"
   ]
  },
  {
   "cell_type": "markdown",
   "metadata": {},
   "source": [
    "# Calc metrics"
   ]
  },
  {
   "cell_type": "code",
   "execution_count": 211,
   "metadata": {},
   "outputs": [
    {
     "data": {
      "text/html": [
       "<style>\n",
       ".list-inline {list-style: none; margin:0; padding: 0}\n",
       ".list-inline>li {display: inline-block}\n",
       ".list-inline>li:not(:last-child)::after {content: \"\\00b7\"; padding: 0 .5ex}\n",
       "</style>\n",
       "<ol class=list-inline><li>352</li><li>2</li></ol>\n"
      ],
      "text/latex": [
       "\\begin{enumerate*}\n",
       "\\item 352\n",
       "\\item 2\n",
       "\\end{enumerate*}\n"
      ],
      "text/markdown": [
       "1. 352\n",
       "2. 2\n",
       "\n",
       "\n"
      ],
      "text/plain": [
       "[1] 352   2"
      ]
     },
     "metadata": {},
     "output_type": "display_data"
    },
    {
     "data": {
      "text/html": [
       "<table>\n",
       "<caption>A data.frame: 6 × 2</caption>\n",
       "<thead>\n",
       "\t<tr><th></th><th scope=col>tld_registrar_index</th><th scope=col>l10_win_04</th></tr>\n",
       "\t<tr><th></th><th scope=col>&lt;fct&gt;</th><th scope=col>&lt;chr&gt;</th></tr>\n",
       "</thead>\n",
       "<tbody>\n",
       "\t<tr><th scope=row>3</th><td>fun1api          </td><td>l10_seg2_glm  </td></tr>\n",
       "\t<tr><th scope=row>7</th><td>funalibaba sg    </td><td>l10_agg_rf_ALL</td></tr>\n",
       "\t<tr><th scope=row>15</th><td>funcafe24        </td><td>l10_seg2_glm  </td></tr>\n",
       "\t<tr><th scope=row>21</th><td>funcronon ag     </td><td>l10_seg2_glm  </td></tr>\n",
       "\t<tr><th scope=row>22</th><td>funcsc corporate </td><td>l10_seg2_glm  </td></tr>\n",
       "\t<tr><th scope=row>43</th><td>funglobal domains</td><td>l10_seg2_glm  </td></tr>\n",
       "</tbody>\n",
       "</table>\n"
      ],
      "text/latex": [
       "A data.frame: 6 × 2\n",
       "\\begin{tabular}{r|ll}\n",
       "  & tld\\_registrar\\_index & l10\\_win\\_04\\\\\n",
       "  & <fct> & <chr>\\\\\n",
       "\\hline\n",
       "\t3 & fun1api           & l10\\_seg2\\_glm  \\\\\n",
       "\t7 & funalibaba sg     & l10\\_agg\\_rf\\_ALL\\\\\n",
       "\t15 & funcafe24         & l10\\_seg2\\_glm  \\\\\n",
       "\t21 & funcronon ag      & l10\\_seg2\\_glm  \\\\\n",
       "\t22 & funcsc corporate  & l10\\_seg2\\_glm  \\\\\n",
       "\t43 & funglobal domains & l10\\_seg2\\_glm  \\\\\n",
       "\\end{tabular}\n"
      ],
      "text/markdown": [
       "\n",
       "A data.frame: 6 × 2\n",
       "\n",
       "| <!--/--> | tld_registrar_index &lt;fct&gt; | l10_win_04 &lt;chr&gt; |\n",
       "|---|---|---|\n",
       "| 3 | fun1api           | l10_seg2_glm   |\n",
       "| 7 | funalibaba sg     | l10_agg_rf_ALL |\n",
       "| 15 | funcafe24         | l10_seg2_glm   |\n",
       "| 21 | funcronon ag      | l10_seg2_glm   |\n",
       "| 22 | funcsc corporate  | l10_seg2_glm   |\n",
       "| 43 | funglobal domains | l10_seg2_glm   |\n",
       "\n"
      ],
      "text/plain": [
       "   tld_registrar_index l10_win_04    \n",
       "3  fun1api             l10_seg2_glm  \n",
       "7  funalibaba sg       l10_agg_rf_ALL\n",
       "15 funcafe24           l10_seg2_glm  \n",
       "21 funcronon ag        l10_seg2_glm  \n",
       "22 funcsc corporate    l10_seg2_glm  \n",
       "43 funglobal domains   l10_seg2_glm  "
      ]
     },
     "metadata": {},
     "output_type": "display_data"
    }
   ],
   "source": [
    "# generate lookup, use last column which contains predictions\n",
    "lookup <- test_pred %>% select(tld_registrar_index, length(test_pred))\n",
    "dim(lookup)\n",
    "lookup %>% head()"
   ]
  },
  {
   "cell_type": "code",
   "execution_count": 215,
   "metadata": {},
   "outputs": [
    {
     "data": {
      "text/html": [
       "<table>\n",
       "<caption>A data.frame: 352 × 2</caption>\n",
       "<thead>\n",
       "\t<tr><th></th><th scope=col>tld_registrar_index</th><th scope=col>l10_win_04</th></tr>\n",
       "\t<tr><th></th><th scope=col>&lt;fct&gt;</th><th scope=col>&lt;chr&gt;</th></tr>\n",
       "</thead>\n",
       "<tbody>\n",
       "\t<tr><th scope=row>3</th><td>fun1api                     </td><td>l10_seg2_glm  </td></tr>\n",
       "\t<tr><th scope=row>7</th><td>funalibaba sg               </td><td>l10_agg_rf_ALL</td></tr>\n",
       "\t<tr><th scope=row>15</th><td>funcafe24                   </td><td>l10_seg2_glm  </td></tr>\n",
       "\t<tr><th scope=row>21</th><td>funcronon ag                </td><td>l10_seg2_glm  </td></tr>\n",
       "\t<tr><th scope=row>22</th><td>funcsc corporate            </td><td>l10_seg2_glm  </td></tr>\n",
       "\t<tr><th scope=row>43</th><td>funglobal domains           </td><td>l10_seg2_glm  </td></tr>\n",
       "\t<tr><th scope=row>47</th><td>funguzel hosting            </td><td>l10_seg2_glm  </td></tr>\n",
       "\t<tr><th scope=row>50</th><td>funhosting ukraine          </td><td>l10_agg_rf_ALL</td></tr>\n",
       "\t<tr><th scope=row>53</th><td>funhover                    </td><td>l10_seg2_glm  </td></tr>\n",
       "\t<tr><th scope=row>57</th><td>funinternetx                </td><td>l10_seg2_glm  </td></tr>\n",
       "\t<tr><th scope=row>62</th><td>funledl.net                 </td><td>l10_seg2_glm  </td></tr>\n",
       "\t<tr><th scope=row>66</th><td>funmarcaria.com             </td><td>l10_seg2_glm  </td></tr>\n",
       "\t<tr><th scope=row>85</th><td>funopentld b.v.             </td><td>l10_seg2_glm  </td></tr>\n",
       "\t<tr><th scope=row>97</th><td>funrumahweb                 </td><td>l10_seg2_glm  </td></tr>\n",
       "\t<tr><th scope=row>99</th><td>funsered                    </td><td>l10_seg2_glm  </td></tr>\n",
       "\t<tr><th scope=row>101</th><td>funshanghai meicheng        </td><td>l10_agg_rf_ALL</td></tr>\n",
       "\t<tr><th scope=row>107</th><td>funtecnocratica centro      </td><td>l10_seg2_glm  </td></tr>\n",
       "\t<tr><th scope=row>109</th><td>funtodaynic                 </td><td>l10_seg2_glm  </td></tr>\n",
       "\t<tr><th scope=row>110</th><td>funtucows                   </td><td>l10_seg2_glm  </td></tr>\n",
       "\t<tr><th scope=row>111</th><td>fununiregistrar             </td><td>l10_agg_rf_ALL</td></tr>\n",
       "\t<tr><th scope=row>122</th><td>funxiamen chinasource       </td><td>l10_seg2_glm  </td></tr>\n",
       "\t<tr><th scope=row>123</th><td>funxiamen nawang            </td><td>l10_seg2_glm  </td></tr>\n",
       "\t<tr><th scope=row>125</th><td>funzhengzhou century connect</td><td>l10_agg_rf_ALL</td></tr>\n",
       "\t<tr><th scope=row>128</th><td>hosta small orange          </td><td>l10_seg2_glm  </td></tr>\n",
       "\t<tr><th scope=row>129</th><td>hostaruba                   </td><td>l10_seg2_glm  </td></tr>\n",
       "\t<tr><th scope=row>131</th><td>hostbaidu                   </td><td>l10_seg2_glm  </td></tr>\n",
       "\t<tr><th scope=row>133</th><td>hostbigrock                 </td><td>l10_seg2_glm  </td></tr>\n",
       "\t<tr><th scope=row>140</th><td>hostcrazy domains           </td><td>l10_seg2_glm  </td></tr>\n",
       "\t<tr><th scope=row>146</th><td>hostdomains4bitcoins        </td><td>l10_agg_rf_ALL</td></tr>\n",
       "\t<tr><th scope=row>147</th><td>hostdomeneshop              </td><td>l10_seg2_glm  </td></tr>\n",
       "\t<tr><th scope=row>169</th><td>hostkey-systems             </td><td>l10_seg2_glm  </td></tr>\n",
       "\t<tr><th scope=row>173</th><td>hostmetaregistrar           </td><td>l10_seg2_glm  </td></tr>\n",
       "\t<tr><th scope=row>176</th><td>hostname.com                </td><td>l10_seg2_glm  </td></tr>\n",
       "\t<tr><th scope=row>181</th><td>hostonline sas              </td><td>l10_seg2_glm  </td></tr>\n",
       "\t<tr><th scope=row>182</th><td>hostonlinenic               </td><td>l10_seg2_glm  </td></tr>\n",
       "\t<tr><th scope=row>183</th><td>hostovh                     </td><td>l10_seg2_glm  </td></tr>\n",
       "\t<tr><th scope=row>188</th><td>hostqualispace              </td><td>l10_seg2_glm  </td></tr>\n",
       "\t<tr><th scope=row>192</th><td>hostreg.ru                  </td><td>l10_agg_rf_ALL</td></tr>\n",
       "\t<tr><th scope=row>219</th><td>in.netcsl                   </td><td>l10_seg2_glm  </td></tr>\n",
       "\t<tr><th scope=row>220</th><td>in.netdomains4bitcoins      </td><td>l10_seg2_glm  </td></tr>\n",
       "\t<tr><th scope=row>222</th><td>in.netgmo                   </td><td>l10_seg2_glm  </td></tr>\n",
       "\t<tr><th scope=row>226</th><td>in.nethostinger 2           </td><td>l10_seg2_glm  </td></tr>\n",
       "\t<tr><th scope=row>233</th><td>in.netporkbun               </td><td>l10_seg2_glm  </td></tr>\n",
       "\t<tr><th scope=row>244</th><td>online1blu                  </td><td>l10_seg2_glm  </td></tr>\n",
       "\t<tr><th scope=row>245</th><td>online1stdomains            </td><td>l10_seg2_glm  </td></tr>\n",
       "\t<tr><th scope=row>247</th><td>onlinea2hosting             </td><td>l10_seg2_glm  </td></tr>\n",
       "\t<tr><th scope=row>260</th><td>onlineargeweb               </td><td>l10_seg2_glm  </td></tr>\n",
       "\t<tr><th scope=row>263</th><td>onlineascio                 </td><td>l10_agg_rf_ALL</td></tr>\n",
       "\t<tr><th scope=row>268</th><td>onlinebb online             </td><td>l10_seg2_glm  </td></tr>\n",
       "\t<tr><th scope=row>273</th><td>onlinebizcn                 </td><td>l10_seg2_glm  </td></tr>\n",
       "\t<tr><th scope=row>⋮</th><td>⋮</td><td>⋮</td></tr>\n",
       "\t<tr><th scope=row>1532</th><td>techtransip                   </td><td>l10_seg2_glm  </td></tr>\n",
       "\t<tr><th scope=row>1536</th><td>techuol                       </td><td>l10_seg2_glm  </td></tr>\n",
       "\t<tr><th scope=row>1549</th><td>techwhogohost                 </td><td>l10_seg2_glm  </td></tr>\n",
       "\t<tr><th scope=row>1554</th><td>techworld4you                 </td><td>l10_seg2_glm  </td></tr>\n",
       "\t<tr><th scope=row>1558</th><td>techyahoo                     </td><td>l10_seg2_glm  </td></tr>\n",
       "\t<tr><th scope=row>1563</th><td><span style=white-space:pre-wrap>website1&amp;1 internet           </span></td><td>l10_agg_rf_ALL</td></tr>\n",
       "\t<tr><th scope=row>1566</th><td>website1api                   </td><td>l10_seg2_glm  </td></tr>\n",
       "\t<tr><th scope=row>1568</th><td>websiteab name isp            </td><td>l10_seg2_glm  </td></tr>\n",
       "\t<tr><th scope=row>1573</th><td>websitealibaba                </td><td>l10_agg_rf_ALL</td></tr>\n",
       "\t<tr><th scope=row>1577</th><td>websiteargeweb                </td><td>l10_seg2_glm  </td></tr>\n",
       "\t<tr><th scope=row>1582</th><td>websitebaidu                  </td><td>l10_seg2_glm  </td></tr>\n",
       "\t<tr><th scope=row>1585</th><td>websitebeon intermedia        </td><td>l10_seg2_glm  </td></tr>\n",
       "\t<tr><th scope=row>1588</th><td>websiteblacknight             </td><td>l10_seg2_glm  </td></tr>\n",
       "\t<tr><th scope=row>1589</th><td>websitebluehost               </td><td>l10_agg_rf_ALL</td></tr>\n",
       "\t<tr><th scope=row>1592</th><td>websitecheck domain           </td><td>l10_seg2_glm  </td></tr>\n",
       "\t<tr><th scope=row>1597</th><td>websitecsc corporate          </td><td>l10_seg2_glm  </td></tr>\n",
       "\t<tr><th scope=row>1601</th><td>websitedomain discount        </td><td>l10_seg2_glm  </td></tr>\n",
       "\t<tr><th scope=row>1604</th><td>websitedomain.com - registrar </td><td>l10_agg_rf_ALL</td></tr>\n",
       "\t<tr><th scope=row>1610</th><td>websitedominios.pt            </td><td>l10_seg2_glm  </td></tr>\n",
       "\t<tr><th scope=row>1612</th><td>websitedotserve inc           </td><td>l10_seg2_glm  </td></tr>\n",
       "\t<tr><th scope=row>1618</th><td>websiteeuro dns               </td><td>l10_seg2_glm  </td></tr>\n",
       "\t<tr><th scope=row>1625</th><td>websiteglobal domains         </td><td>l10_seg2_glm  </td></tr>\n",
       "\t<tr><th scope=row>1629</th><td>websitegransy                 </td><td>l10_seg2_glm  </td></tr>\n",
       "\t<tr><th scope=row>1635</th><td>websitehostgator              </td><td>l10_agg_rf_ALL</td></tr>\n",
       "\t<tr><th scope=row>1643</th><td>websitehoststar               </td><td>l10_seg2_glm  </td></tr>\n",
       "\t<tr><th scope=row>1647</th><td>websiteimpreza                </td><td>l10_seg2_glm  </td></tr>\n",
       "\t<tr><th scope=row>1654</th><td>websiteipage domain.com       </td><td>l10_agg_rf_ALL</td></tr>\n",
       "\t<tr><th scope=row>1662</th><td>websiteligne web services     </td><td>l10_seg2_glm  </td></tr>\n",
       "\t<tr><th scope=row>1663</th><td>websiteliquidnet              </td><td>l10_seg2_glm  </td></tr>\n",
       "\t<tr><th scope=row>1666</th><td>websitemarkmonitor            </td><td>l10_seg2_glm  </td></tr>\n",
       "\t<tr><th scope=row>1670</th><td>websitemetaregistrar          </td><td>l10_seg2_glm  </td></tr>\n",
       "\t<tr><th scope=row>1672</th><td>websitemuumuu                 </td><td>l10_seg2_glm  </td></tr>\n",
       "\t<tr><th scope=row>1678</th><td>websiteneostrada              </td><td>l10_seg2_glm  </td></tr>\n",
       "\t<tr><th scope=row>1683</th><td>websitenetwork solutions      </td><td>l10_seg2_glm  </td></tr>\n",
       "\t<tr><th scope=row>1693</th><td>websitep.a viet nam           </td><td>l10_seg2_glm  </td></tr>\n",
       "\t<tr><th scope=row>1694</th><td>websitepapaki                 </td><td>l10_seg2_glm  </td></tr>\n",
       "\t<tr><th scope=row>1696</th><td>websitepdr china              </td><td>l10_seg2_glm  </td></tr>\n",
       "\t<tr><th scope=row>1702</th><td>websiterebrandly              </td><td>l10_seg2_glm  </td></tr>\n",
       "\t<tr><th scope=row>1703</th><td>websiteredehost               </td><td>l10_seg2_glm  </td></tr>\n",
       "\t<tr><th scope=row>1705</th><td>websiteregister.com           </td><td>l10_seg2_glm  </td></tr>\n",
       "\t<tr><th scope=row>1706</th><td>websiteregister.it            </td><td>l10_agg_rf_ALL</td></tr>\n",
       "\t<tr><th scope=row>1712</th><td>websiteregway                 </td><td>l10_seg2_glm  </td></tr>\n",
       "\t<tr><th scope=row>1721</th><td>websitesiteground             </td><td>l10_seg2_glm  </td></tr>\n",
       "\t<tr><th scope=row>1723</th><td>websitesoluciones corporativas</td><td>l10_seg2_glm  </td></tr>\n",
       "\t<tr><th scope=row>1726</th><td>websitesuper registry         </td><td>l10_seg2_glm  </td></tr>\n",
       "\t<tr><th scope=row>1732</th><td>websitetld registrar solns    </td><td>l10_seg2_glm  </td></tr>\n",
       "\t<tr><th scope=row>1735</th><td>websiteuk2                    </td><td>l10_seg2_glm  </td></tr>\n",
       "\t<tr><th scope=row>1741</th><td>websitevalue domain           </td><td>l10_seg2_glm  </td></tr>\n",
       "\t<tr><th scope=row>1747</th><td>websitewest263 international  </td><td>l10_agg_rf_ALL</td></tr>\n",
       "\t<tr><th scope=row>1755</th><td>websiteyahoo                  </td><td>l10_seg2_glm  </td></tr>\n",
       "</tbody>\n",
       "</table>\n"
      ],
      "text/latex": [
       "A data.frame: 352 × 2\n",
       "\\begin{tabular}{r|ll}\n",
       "  & tld\\_registrar\\_index & l10\\_win\\_04\\\\\n",
       "  & <fct> & <chr>\\\\\n",
       "\\hline\n",
       "\t3 & fun1api                      & l10\\_seg2\\_glm  \\\\\n",
       "\t7 & funalibaba sg                & l10\\_agg\\_rf\\_ALL\\\\\n",
       "\t15 & funcafe24                    & l10\\_seg2\\_glm  \\\\\n",
       "\t21 & funcronon ag                 & l10\\_seg2\\_glm  \\\\\n",
       "\t22 & funcsc corporate             & l10\\_seg2\\_glm  \\\\\n",
       "\t43 & funglobal domains            & l10\\_seg2\\_glm  \\\\\n",
       "\t47 & funguzel hosting             & l10\\_seg2\\_glm  \\\\\n",
       "\t50 & funhosting ukraine           & l10\\_agg\\_rf\\_ALL\\\\\n",
       "\t53 & funhover                     & l10\\_seg2\\_glm  \\\\\n",
       "\t57 & funinternetx                 & l10\\_seg2\\_glm  \\\\\n",
       "\t62 & funledl.net                  & l10\\_seg2\\_glm  \\\\\n",
       "\t66 & funmarcaria.com              & l10\\_seg2\\_glm  \\\\\n",
       "\t85 & funopentld b.v.              & l10\\_seg2\\_glm  \\\\\n",
       "\t97 & funrumahweb                  & l10\\_seg2\\_glm  \\\\\n",
       "\t99 & funsered                     & l10\\_seg2\\_glm  \\\\\n",
       "\t101 & funshanghai meicheng         & l10\\_agg\\_rf\\_ALL\\\\\n",
       "\t107 & funtecnocratica centro       & l10\\_seg2\\_glm  \\\\\n",
       "\t109 & funtodaynic                  & l10\\_seg2\\_glm  \\\\\n",
       "\t110 & funtucows                    & l10\\_seg2\\_glm  \\\\\n",
       "\t111 & fununiregistrar              & l10\\_agg\\_rf\\_ALL\\\\\n",
       "\t122 & funxiamen chinasource        & l10\\_seg2\\_glm  \\\\\n",
       "\t123 & funxiamen nawang             & l10\\_seg2\\_glm  \\\\\n",
       "\t125 & funzhengzhou century connect & l10\\_agg\\_rf\\_ALL\\\\\n",
       "\t128 & hosta small orange           & l10\\_seg2\\_glm  \\\\\n",
       "\t129 & hostaruba                    & l10\\_seg2\\_glm  \\\\\n",
       "\t131 & hostbaidu                    & l10\\_seg2\\_glm  \\\\\n",
       "\t133 & hostbigrock                  & l10\\_seg2\\_glm  \\\\\n",
       "\t140 & hostcrazy domains            & l10\\_seg2\\_glm  \\\\\n",
       "\t146 & hostdomains4bitcoins         & l10\\_agg\\_rf\\_ALL\\\\\n",
       "\t147 & hostdomeneshop               & l10\\_seg2\\_glm  \\\\\n",
       "\t169 & hostkey-systems              & l10\\_seg2\\_glm  \\\\\n",
       "\t173 & hostmetaregistrar            & l10\\_seg2\\_glm  \\\\\n",
       "\t176 & hostname.com                 & l10\\_seg2\\_glm  \\\\\n",
       "\t181 & hostonline sas               & l10\\_seg2\\_glm  \\\\\n",
       "\t182 & hostonlinenic                & l10\\_seg2\\_glm  \\\\\n",
       "\t183 & hostovh                      & l10\\_seg2\\_glm  \\\\\n",
       "\t188 & hostqualispace               & l10\\_seg2\\_glm  \\\\\n",
       "\t192 & hostreg.ru                   & l10\\_agg\\_rf\\_ALL\\\\\n",
       "\t219 & in.netcsl                    & l10\\_seg2\\_glm  \\\\\n",
       "\t220 & in.netdomains4bitcoins       & l10\\_seg2\\_glm  \\\\\n",
       "\t222 & in.netgmo                    & l10\\_seg2\\_glm  \\\\\n",
       "\t226 & in.nethostinger 2            & l10\\_seg2\\_glm  \\\\\n",
       "\t233 & in.netporkbun                & l10\\_seg2\\_glm  \\\\\n",
       "\t244 & online1blu                   & l10\\_seg2\\_glm  \\\\\n",
       "\t245 & online1stdomains             & l10\\_seg2\\_glm  \\\\\n",
       "\t247 & onlinea2hosting              & l10\\_seg2\\_glm  \\\\\n",
       "\t260 & onlineargeweb                & l10\\_seg2\\_glm  \\\\\n",
       "\t263 & onlineascio                  & l10\\_agg\\_rf\\_ALL\\\\\n",
       "\t268 & onlinebb online              & l10\\_seg2\\_glm  \\\\\n",
       "\t273 & onlinebizcn                  & l10\\_seg2\\_glm  \\\\\n",
       "\t⋮ & ⋮ & ⋮\\\\\n",
       "\t1532 & techtransip                    & l10\\_seg2\\_glm  \\\\\n",
       "\t1536 & techuol                        & l10\\_seg2\\_glm  \\\\\n",
       "\t1549 & techwhogohost                  & l10\\_seg2\\_glm  \\\\\n",
       "\t1554 & techworld4you                  & l10\\_seg2\\_glm  \\\\\n",
       "\t1558 & techyahoo                      & l10\\_seg2\\_glm  \\\\\n",
       "\t1563 & website1\\&1 internet            & l10\\_agg\\_rf\\_ALL\\\\\n",
       "\t1566 & website1api                    & l10\\_seg2\\_glm  \\\\\n",
       "\t1568 & websiteab name isp             & l10\\_seg2\\_glm  \\\\\n",
       "\t1573 & websitealibaba                 & l10\\_agg\\_rf\\_ALL\\\\\n",
       "\t1577 & websiteargeweb                 & l10\\_seg2\\_glm  \\\\\n",
       "\t1582 & websitebaidu                   & l10\\_seg2\\_glm  \\\\\n",
       "\t1585 & websitebeon intermedia         & l10\\_seg2\\_glm  \\\\\n",
       "\t1588 & websiteblacknight              & l10\\_seg2\\_glm  \\\\\n",
       "\t1589 & websitebluehost                & l10\\_agg\\_rf\\_ALL\\\\\n",
       "\t1592 & websitecheck domain            & l10\\_seg2\\_glm  \\\\\n",
       "\t1597 & websitecsc corporate           & l10\\_seg2\\_glm  \\\\\n",
       "\t1601 & websitedomain discount         & l10\\_seg2\\_glm  \\\\\n",
       "\t1604 & websitedomain.com - registrar  & l10\\_agg\\_rf\\_ALL\\\\\n",
       "\t1610 & websitedominios.pt             & l10\\_seg2\\_glm  \\\\\n",
       "\t1612 & websitedotserve inc            & l10\\_seg2\\_glm  \\\\\n",
       "\t1618 & websiteeuro dns                & l10\\_seg2\\_glm  \\\\\n",
       "\t1625 & websiteglobal domains          & l10\\_seg2\\_glm  \\\\\n",
       "\t1629 & websitegransy                  & l10\\_seg2\\_glm  \\\\\n",
       "\t1635 & websitehostgator               & l10\\_agg\\_rf\\_ALL\\\\\n",
       "\t1643 & websitehoststar                & l10\\_seg2\\_glm  \\\\\n",
       "\t1647 & websiteimpreza                 & l10\\_seg2\\_glm  \\\\\n",
       "\t1654 & websiteipage domain.com        & l10\\_agg\\_rf\\_ALL\\\\\n",
       "\t1662 & websiteligne web services      & l10\\_seg2\\_glm  \\\\\n",
       "\t1663 & websiteliquidnet               & l10\\_seg2\\_glm  \\\\\n",
       "\t1666 & websitemarkmonitor             & l10\\_seg2\\_glm  \\\\\n",
       "\t1670 & websitemetaregistrar           & l10\\_seg2\\_glm  \\\\\n",
       "\t1672 & websitemuumuu                  & l10\\_seg2\\_glm  \\\\\n",
       "\t1678 & websiteneostrada               & l10\\_seg2\\_glm  \\\\\n",
       "\t1683 & websitenetwork solutions       & l10\\_seg2\\_glm  \\\\\n",
       "\t1693 & websitep.a viet nam            & l10\\_seg2\\_glm  \\\\\n",
       "\t1694 & websitepapaki                  & l10\\_seg2\\_glm  \\\\\n",
       "\t1696 & websitepdr china               & l10\\_seg2\\_glm  \\\\\n",
       "\t1702 & websiterebrandly               & l10\\_seg2\\_glm  \\\\\n",
       "\t1703 & websiteredehost                & l10\\_seg2\\_glm  \\\\\n",
       "\t1705 & websiteregister.com            & l10\\_seg2\\_glm  \\\\\n",
       "\t1706 & websiteregister.it             & l10\\_agg\\_rf\\_ALL\\\\\n",
       "\t1712 & websiteregway                  & l10\\_seg2\\_glm  \\\\\n",
       "\t1721 & websitesiteground              & l10\\_seg2\\_glm  \\\\\n",
       "\t1723 & websitesoluciones corporativas & l10\\_seg2\\_glm  \\\\\n",
       "\t1726 & websitesuper registry          & l10\\_seg2\\_glm  \\\\\n",
       "\t1732 & websitetld registrar solns     & l10\\_seg2\\_glm  \\\\\n",
       "\t1735 & websiteuk2                     & l10\\_seg2\\_glm  \\\\\n",
       "\t1741 & websitevalue domain            & l10\\_seg2\\_glm  \\\\\n",
       "\t1747 & websitewest263 international   & l10\\_agg\\_rf\\_ALL\\\\\n",
       "\t1755 & websiteyahoo                   & l10\\_seg2\\_glm  \\\\\n",
       "\\end{tabular}\n"
      ],
      "text/markdown": [
       "\n",
       "A data.frame: 352 × 2\n",
       "\n",
       "| <!--/--> | tld_registrar_index &lt;fct&gt; | l10_win_04 &lt;chr&gt; |\n",
       "|---|---|---|\n",
       "| 3 | fun1api                      | l10_seg2_glm   |\n",
       "| 7 | funalibaba sg                | l10_agg_rf_ALL |\n",
       "| 15 | funcafe24                    | l10_seg2_glm   |\n",
       "| 21 | funcronon ag                 | l10_seg2_glm   |\n",
       "| 22 | funcsc corporate             | l10_seg2_glm   |\n",
       "| 43 | funglobal domains            | l10_seg2_glm   |\n",
       "| 47 | funguzel hosting             | l10_seg2_glm   |\n",
       "| 50 | funhosting ukraine           | l10_agg_rf_ALL |\n",
       "| 53 | funhover                     | l10_seg2_glm   |\n",
       "| 57 | funinternetx                 | l10_seg2_glm   |\n",
       "| 62 | funledl.net                  | l10_seg2_glm   |\n",
       "| 66 | funmarcaria.com              | l10_seg2_glm   |\n",
       "| 85 | funopentld b.v.              | l10_seg2_glm   |\n",
       "| 97 | funrumahweb                  | l10_seg2_glm   |\n",
       "| 99 | funsered                     | l10_seg2_glm   |\n",
       "| 101 | funshanghai meicheng         | l10_agg_rf_ALL |\n",
       "| 107 | funtecnocratica centro       | l10_seg2_glm   |\n",
       "| 109 | funtodaynic                  | l10_seg2_glm   |\n",
       "| 110 | funtucows                    | l10_seg2_glm   |\n",
       "| 111 | fununiregistrar              | l10_agg_rf_ALL |\n",
       "| 122 | funxiamen chinasource        | l10_seg2_glm   |\n",
       "| 123 | funxiamen nawang             | l10_seg2_glm   |\n",
       "| 125 | funzhengzhou century connect | l10_agg_rf_ALL |\n",
       "| 128 | hosta small orange           | l10_seg2_glm   |\n",
       "| 129 | hostaruba                    | l10_seg2_glm   |\n",
       "| 131 | hostbaidu                    | l10_seg2_glm   |\n",
       "| 133 | hostbigrock                  | l10_seg2_glm   |\n",
       "| 140 | hostcrazy domains            | l10_seg2_glm   |\n",
       "| 146 | hostdomains4bitcoins         | l10_agg_rf_ALL |\n",
       "| 147 | hostdomeneshop               | l10_seg2_glm   |\n",
       "| 169 | hostkey-systems              | l10_seg2_glm   |\n",
       "| 173 | hostmetaregistrar            | l10_seg2_glm   |\n",
       "| 176 | hostname.com                 | l10_seg2_glm   |\n",
       "| 181 | hostonline sas               | l10_seg2_glm   |\n",
       "| 182 | hostonlinenic                | l10_seg2_glm   |\n",
       "| 183 | hostovh                      | l10_seg2_glm   |\n",
       "| 188 | hostqualispace               | l10_seg2_glm   |\n",
       "| 192 | hostreg.ru                   | l10_agg_rf_ALL |\n",
       "| 219 | in.netcsl                    | l10_seg2_glm   |\n",
       "| 220 | in.netdomains4bitcoins       | l10_seg2_glm   |\n",
       "| 222 | in.netgmo                    | l10_seg2_glm   |\n",
       "| 226 | in.nethostinger 2            | l10_seg2_glm   |\n",
       "| 233 | in.netporkbun                | l10_seg2_glm   |\n",
       "| 244 | online1blu                   | l10_seg2_glm   |\n",
       "| 245 | online1stdomains             | l10_seg2_glm   |\n",
       "| 247 | onlinea2hosting              | l10_seg2_glm   |\n",
       "| 260 | onlineargeweb                | l10_seg2_glm   |\n",
       "| 263 | onlineascio                  | l10_agg_rf_ALL |\n",
       "| 268 | onlinebb online              | l10_seg2_glm   |\n",
       "| 273 | onlinebizcn                  | l10_seg2_glm   |\n",
       "| ⋮ | ⋮ | ⋮ |\n",
       "| 1532 | techtransip                    | l10_seg2_glm   |\n",
       "| 1536 | techuol                        | l10_seg2_glm   |\n",
       "| 1549 | techwhogohost                  | l10_seg2_glm   |\n",
       "| 1554 | techworld4you                  | l10_seg2_glm   |\n",
       "| 1558 | techyahoo                      | l10_seg2_glm   |\n",
       "| 1563 | website1&amp;1 internet            | l10_agg_rf_ALL |\n",
       "| 1566 | website1api                    | l10_seg2_glm   |\n",
       "| 1568 | websiteab name isp             | l10_seg2_glm   |\n",
       "| 1573 | websitealibaba                 | l10_agg_rf_ALL |\n",
       "| 1577 | websiteargeweb                 | l10_seg2_glm   |\n",
       "| 1582 | websitebaidu                   | l10_seg2_glm   |\n",
       "| 1585 | websitebeon intermedia         | l10_seg2_glm   |\n",
       "| 1588 | websiteblacknight              | l10_seg2_glm   |\n",
       "| 1589 | websitebluehost                | l10_agg_rf_ALL |\n",
       "| 1592 | websitecheck domain            | l10_seg2_glm   |\n",
       "| 1597 | websitecsc corporate           | l10_seg2_glm   |\n",
       "| 1601 | websitedomain discount         | l10_seg2_glm   |\n",
       "| 1604 | websitedomain.com - registrar  | l10_agg_rf_ALL |\n",
       "| 1610 | websitedominios.pt             | l10_seg2_glm   |\n",
       "| 1612 | websitedotserve inc            | l10_seg2_glm   |\n",
       "| 1618 | websiteeuro dns                | l10_seg2_glm   |\n",
       "| 1625 | websiteglobal domains          | l10_seg2_glm   |\n",
       "| 1629 | websitegransy                  | l10_seg2_glm   |\n",
       "| 1635 | websitehostgator               | l10_agg_rf_ALL |\n",
       "| 1643 | websitehoststar                | l10_seg2_glm   |\n",
       "| 1647 | websiteimpreza                 | l10_seg2_glm   |\n",
       "| 1654 | websiteipage domain.com        | l10_agg_rf_ALL |\n",
       "| 1662 | websiteligne web services      | l10_seg2_glm   |\n",
       "| 1663 | websiteliquidnet               | l10_seg2_glm   |\n",
       "| 1666 | websitemarkmonitor             | l10_seg2_glm   |\n",
       "| 1670 | websitemetaregistrar           | l10_seg2_glm   |\n",
       "| 1672 | websitemuumuu                  | l10_seg2_glm   |\n",
       "| 1678 | websiteneostrada               | l10_seg2_glm   |\n",
       "| 1683 | websitenetwork solutions       | l10_seg2_glm   |\n",
       "| 1693 | websitep.a viet nam            | l10_seg2_glm   |\n",
       "| 1694 | websitepapaki                  | l10_seg2_glm   |\n",
       "| 1696 | websitepdr china               | l10_seg2_glm   |\n",
       "| 1702 | websiterebrandly               | l10_seg2_glm   |\n",
       "| 1703 | websiteredehost                | l10_seg2_glm   |\n",
       "| 1705 | websiteregister.com            | l10_seg2_glm   |\n",
       "| 1706 | websiteregister.it             | l10_agg_rf_ALL |\n",
       "| 1712 | websiteregway                  | l10_seg2_glm   |\n",
       "| 1721 | websitesiteground              | l10_seg2_glm   |\n",
       "| 1723 | websitesoluciones corporativas | l10_seg2_glm   |\n",
       "| 1726 | websitesuper registry          | l10_seg2_glm   |\n",
       "| 1732 | websitetld registrar solns     | l10_seg2_glm   |\n",
       "| 1735 | websiteuk2                     | l10_seg2_glm   |\n",
       "| 1741 | websitevalue domain            | l10_seg2_glm   |\n",
       "| 1747 | websitewest263 international   | l10_agg_rf_ALL |\n",
       "| 1755 | websiteyahoo                   | l10_seg2_glm   |\n",
       "\n"
      ],
      "text/plain": [
       "     tld_registrar_index            l10_win_04    \n",
       "3    fun1api                        l10_seg2_glm  \n",
       "7    funalibaba sg                  l10_agg_rf_ALL\n",
       "15   funcafe24                      l10_seg2_glm  \n",
       "21   funcronon ag                   l10_seg2_glm  \n",
       "22   funcsc corporate               l10_seg2_glm  \n",
       "43   funglobal domains              l10_seg2_glm  \n",
       "47   funguzel hosting               l10_seg2_glm  \n",
       "50   funhosting ukraine             l10_agg_rf_ALL\n",
       "53   funhover                       l10_seg2_glm  \n",
       "57   funinternetx                   l10_seg2_glm  \n",
       "62   funledl.net                    l10_seg2_glm  \n",
       "66   funmarcaria.com                l10_seg2_glm  \n",
       "85   funopentld b.v.                l10_seg2_glm  \n",
       "97   funrumahweb                    l10_seg2_glm  \n",
       "99   funsered                       l10_seg2_glm  \n",
       "101  funshanghai meicheng           l10_agg_rf_ALL\n",
       "107  funtecnocratica centro         l10_seg2_glm  \n",
       "109  funtodaynic                    l10_seg2_glm  \n",
       "110  funtucows                      l10_seg2_glm  \n",
       "111  fununiregistrar                l10_agg_rf_ALL\n",
       "122  funxiamen chinasource          l10_seg2_glm  \n",
       "123  funxiamen nawang               l10_seg2_glm  \n",
       "125  funzhengzhou century connect   l10_agg_rf_ALL\n",
       "128  hosta small orange             l10_seg2_glm  \n",
       "129  hostaruba                      l10_seg2_glm  \n",
       "131  hostbaidu                      l10_seg2_glm  \n",
       "133  hostbigrock                    l10_seg2_glm  \n",
       "140  hostcrazy domains              l10_seg2_glm  \n",
       "146  hostdomains4bitcoins           l10_agg_rf_ALL\n",
       "147  hostdomeneshop                 l10_seg2_glm  \n",
       "169  hostkey-systems                l10_seg2_glm  \n",
       "173  hostmetaregistrar              l10_seg2_glm  \n",
       "176  hostname.com                   l10_seg2_glm  \n",
       "181  hostonline sas                 l10_seg2_glm  \n",
       "182  hostonlinenic                  l10_seg2_glm  \n",
       "183  hostovh                        l10_seg2_glm  \n",
       "188  hostqualispace                 l10_seg2_glm  \n",
       "192  hostreg.ru                     l10_agg_rf_ALL\n",
       "219  in.netcsl                      l10_seg2_glm  \n",
       "220  in.netdomains4bitcoins         l10_seg2_glm  \n",
       "222  in.netgmo                      l10_seg2_glm  \n",
       "226  in.nethostinger 2              l10_seg2_glm  \n",
       "233  in.netporkbun                  l10_seg2_glm  \n",
       "244  online1blu                     l10_seg2_glm  \n",
       "245  online1stdomains               l10_seg2_glm  \n",
       "247  onlinea2hosting                l10_seg2_glm  \n",
       "260  onlineargeweb                  l10_seg2_glm  \n",
       "263  onlineascio                    l10_agg_rf_ALL\n",
       "268  onlinebb online                l10_seg2_glm  \n",
       "273  onlinebizcn                    l10_seg2_glm  \n",
       "⋮    ⋮                              ⋮             \n",
       "1532 techtransip                    l10_seg2_glm  \n",
       "1536 techuol                        l10_seg2_glm  \n",
       "1549 techwhogohost                  l10_seg2_glm  \n",
       "1554 techworld4you                  l10_seg2_glm  \n",
       "1558 techyahoo                      l10_seg2_glm  \n",
       "1563 website1&1 internet            l10_agg_rf_ALL\n",
       "1566 website1api                    l10_seg2_glm  \n",
       "1568 websiteab name isp             l10_seg2_glm  \n",
       "1573 websitealibaba                 l10_agg_rf_ALL\n",
       "1577 websiteargeweb                 l10_seg2_glm  \n",
       "1582 websitebaidu                   l10_seg2_glm  \n",
       "1585 websitebeon intermedia         l10_seg2_glm  \n",
       "1588 websiteblacknight              l10_seg2_glm  \n",
       "1589 websitebluehost                l10_agg_rf_ALL\n",
       "1592 websitecheck domain            l10_seg2_glm  \n",
       "1597 websitecsc corporate           l10_seg2_glm  \n",
       "1601 websitedomain discount         l10_seg2_glm  \n",
       "1604 websitedomain.com - registrar  l10_agg_rf_ALL\n",
       "1610 websitedominios.pt             l10_seg2_glm  \n",
       "1612 websitedotserve inc            l10_seg2_glm  \n",
       "1618 websiteeuro dns                l10_seg2_glm  \n",
       "1625 websiteglobal domains          l10_seg2_glm  \n",
       "1629 websitegransy                  l10_seg2_glm  \n",
       "1635 websitehostgator               l10_agg_rf_ALL\n",
       "1643 websitehoststar                l10_seg2_glm  \n",
       "1647 websiteimpreza                 l10_seg2_glm  \n",
       "1654 websiteipage domain.com        l10_agg_rf_ALL\n",
       "1662 websiteligne web services      l10_seg2_glm  \n",
       "1663 websiteliquidnet               l10_seg2_glm  \n",
       "1666 websitemarkmonitor             l10_seg2_glm  \n",
       "1670 websitemetaregistrar           l10_seg2_glm  \n",
       "1672 websitemuumuu                  l10_seg2_glm  \n",
       "1678 websiteneostrada               l10_seg2_glm  \n",
       "1683 websitenetwork solutions       l10_seg2_glm  \n",
       "1693 websitep.a viet nam            l10_seg2_glm  \n",
       "1694 websitepapaki                  l10_seg2_glm  \n",
       "1696 websitepdr china               l10_seg2_glm  \n",
       "1702 websiterebrandly               l10_seg2_glm  \n",
       "1703 websiteredehost                l10_seg2_glm  \n",
       "1705 websiteregister.com            l10_seg2_glm  \n",
       "1706 websiteregister.it             l10_agg_rf_ALL\n",
       "1712 websiteregway                  l10_seg2_glm  \n",
       "1721 websitesiteground              l10_seg2_glm  \n",
       "1723 websitesoluciones corporativas l10_seg2_glm  \n",
       "1726 websitesuper registry          l10_seg2_glm  \n",
       "1732 websitetld registrar solns     l10_seg2_glm  \n",
       "1735 websiteuk2                     l10_seg2_glm  \n",
       "1741 websitevalue domain            l10_seg2_glm  \n",
       "1747 websitewest263 international   l10_agg_rf_ALL\n",
       "1755 websiteyahoo                   l10_seg2_glm  "
      ]
     },
     "metadata": {},
     "output_type": "display_data"
    }
   ],
   "source": [
    "lookup"
   ]
  },
  {
   "cell_type": "code",
   "execution_count": 212,
   "metadata": {},
   "outputs": [
    {
     "data": {
      "text/html": [
       "<style>\n",
       ".list-inline {list-style: none; margin:0; padding: 0}\n",
       ".list-inline>li {display: inline-block}\n",
       ".list-inline>li:not(:last-child)::after {content: \"\\00b7\"; padding: 0 .5ex}\n",
       "</style>\n",
       "<ol class=list-inline><li>932347</li><li>41</li></ol>\n"
      ],
      "text/latex": [
       "\\begin{enumerate*}\n",
       "\\item 932347\n",
       "\\item 41\n",
       "\\end{enumerate*}\n"
      ],
      "text/markdown": [
       "1. 932347\n",
       "2. 41\n",
       "\n",
       "\n"
      ],
      "text/plain": [
       "[1] 932347     41"
      ]
     },
     "metadata": {},
     "output_type": "display_data"
    },
    {
     "data": {
      "text/html": [
       "<table>\n",
       "<caption>A data.frame: 6 × 41</caption>\n",
       "<thead>\n",
       "\t<tr><th></th><th scope=col>tld_registrar_index</th><th scope=col>domain_id</th><th scope=col>renewal_type</th><th scope=col>renewed_count</th><th scope=col>expiry_date</th><th scope=col>creation_date</th><th scope=col>status</th><th scope=col>domain</th><th scope=col>registrar</th><th scope=col>reseller</th><th scope=col>reseller_country</th><th scope=col>registrant_country</th><th scope=col>reg_period</th><th scope=col>reg_revenue</th><th scope=col>reg_arpt</th><th scope=col>renew_mbg</th><th scope=col>renewal_item_id</th><th scope=col>renew_type</th><th scope=col>autorenew_type</th><th scope=col>renewal_status</th><th scope=col>renew_date</th><th scope=col>renew_arpt</th><th scope=col>gibb_score</th><th scope=col>pattern</th><th scope=col>pattern_domain_count</th><th scope=col>day_domains</th><th scope=col>sld_length</th><th scope=col>sld_type</th><th scope=col>sld_type2</th><th scope=col>tld</th><th scope=col>region</th><th scope=col>log_reg_arpt</th><th scope=col>pred_agg_glm_ALL</th><th scope=col>pred_agg_rf_ALL</th><th scope=col>pred_agg_glm</th><th scope=col>pred_agg_rf</th><th scope=col>pred_seg_glm_ALL</th><th scope=col>pred_seg_rf_ALL</th><th scope=col>pred_seg2_glm_ALL</th><th scope=col>pred_seg2_rf_ALL</th><th scope=col>l10_win_04</th></tr>\n",
       "\t<tr><th></th><th scope=col>&lt;fct&gt;</th><th scope=col>&lt;int&gt;</th><th scope=col>&lt;fct&gt;</th><th scope=col>&lt;int&gt;</th><th scope=col>&lt;fct&gt;</th><th scope=col>&lt;fct&gt;</th><th scope=col>&lt;fct&gt;</th><th scope=col>&lt;fct&gt;</th><th scope=col>&lt;fct&gt;</th><th scope=col>&lt;fct&gt;</th><th scope=col>&lt;fct&gt;</th><th scope=col>&lt;fct&gt;</th><th scope=col>&lt;int&gt;</th><th scope=col>&lt;dbl&gt;</th><th scope=col>&lt;dbl&gt;</th><th scope=col>&lt;int&gt;</th><th scope=col>&lt;int&gt;</th><th scope=col>&lt;fct&gt;</th><th scope=col>&lt;fct&gt;</th><th scope=col>&lt;fct&gt;</th><th scope=col>&lt;fct&gt;</th><th scope=col>&lt;dbl&gt;</th><th scope=col>&lt;dbl&gt;</th><th scope=col>&lt;fct&gt;</th><th scope=col>&lt;int&gt;</th><th scope=col>&lt;int&gt;</th><th scope=col>&lt;int&gt;</th><th scope=col>&lt;fct&gt;</th><th scope=col>&lt;fct&gt;</th><th scope=col>&lt;fct&gt;</th><th scope=col>&lt;fct&gt;</th><th scope=col>&lt;dbl&gt;</th><th scope=col>&lt;dbl&gt;</th><th scope=col>&lt;dbl&gt;</th><th scope=col>&lt;dbl&gt;</th><th scope=col>&lt;dbl&gt;</th><th scope=col>&lt;dbl&gt;</th><th scope=col>&lt;dbl&gt;</th><th scope=col>&lt;dbl&gt;</th><th scope=col>&lt;dbl&gt;</th><th scope=col>&lt;chr&gt;</th></tr>\n",
       "</thead>\n",
       "<tbody>\n",
       "\t<tr><th scope=row>1</th><td>fun1&amp;1 internet</td><td> 72539234</td><td>FirstTime</td><td>1</td><td>2019-07-19</td><td>2018-07-19</td><td>Active</td><td>bechstedt.fun</td><td>1&amp;1 Internet</td><td>1&amp;1 Internet</td><td>Germany</td><td>NA</td><td>1</td><td>15</td><td>15</td><td>0</td><td>215994151</td><td>auto-renewal</td><td><span style=white-space:pre-wrap>realized  </span></td><td><span style=white-space:pre-wrap>Renewed   </span></td><td>2019-07-19</td><td>15</td><td>3.39</td><td>bechstedt</td><td>1</td><td>1</td><td>9</td><td>l</td><td>9l</td><td>fun</td><td>Non China</td><td>2.70805</td><td>0.460</td><td>0.8297922</td><td>0.417</td><td>0.4474406</td><td>0.583</td><td>0.7796984</td><td>0.7762980215</td><td>0.7634674</td><td>NA</td></tr>\n",
       "\t<tr><th scope=row>2</th><td>fun1&amp;1 internet</td><td> 77947069</td><td>FirstTime</td><td>1</td><td>2019-10-02</td><td>2018-10-02</td><td>Active</td><td><span style=white-space:pre-wrap>titom.fun    </span></td><td>1&amp;1 Internet</td><td>1&amp;1 Internet</td><td>Germany</td><td>NA</td><td>1</td><td>15</td><td>15</td><td>0</td><td>236376841</td><td>auto-renewal</td><td>unrealized</td><td>Not Renewd</td><td>2019-10-02</td><td>15</td><td>9.01</td><td><span style=white-space:pre-wrap>titom    </span></td><td>1</td><td>1</td><td>5</td><td>l</td><td>5l</td><td>fun</td><td>Non China</td><td>2.70805</td><td>0.498</td><td>0.7723665</td><td>0.454</td><td>0.5320517</td><td>0.587</td><td>0.7517838</td><td>0.7948791657</td><td>0.7620216</td><td>NA</td></tr>\n",
       "\t<tr><th scope=row>3</th><td>fun1&amp;1 internet</td><td> 79309099</td><td>FirstTime</td><td>1</td><td>2019-10-16</td><td>2018-10-16</td><td>Active</td><td><span style=white-space:pre-wrap>bishkek.fun  </span></td><td>1&amp;1 Internet</td><td>1&amp;1 Internet</td><td>Germany</td><td>NA</td><td>1</td><td>15</td><td>15</td><td>0</td><td>223040506</td><td><span style=white-space:pre-wrap>transfer    </span></td><td><span style=white-space:pre-wrap>NA        </span></td><td><span style=white-space:pre-wrap>Renewed   </span></td><td>2019-08-16</td><td>15</td><td>1.71</td><td><span style=white-space:pre-wrap>bishkek  </span></td><td>1</td><td>3</td><td>7</td><td>l</td><td>7l</td><td>fun</td><td>Non China</td><td>2.70805</td><td>0.464</td><td>0.6305379</td><td>0.420</td><td>0.5496369</td><td>0.593</td><td>0.5729471</td><td>0.5285377442</td><td>0.4418808</td><td>NA</td></tr>\n",
       "\t<tr><th scope=row>4</th><td>fun1&amp;1 internet</td><td> 98387914</td><td>FirstTime</td><td>1</td><td>2020-03-30</td><td>2019-03-30</td><td>Active</td><td>prequeue.fun </td><td>1&amp;1 Internet</td><td>1&amp;1 Internet</td><td>Germany</td><td>NA</td><td>1</td><td>15</td><td>15</td><td>0</td><td>303739619</td><td>auto-renewal</td><td><span style=white-space:pre-wrap>realized  </span></td><td><span style=white-space:pre-wrap>Renewed   </span></td><td>2020-03-30</td><td>15</td><td>4.23</td><td><span style=white-space:pre-wrap>preqee   </span></td><td>2</td><td>2</td><td>8</td><td>l</td><td>8l</td><td>fun</td><td>Non China</td><td>2.70805</td><td>0.453</td><td>0.6626378</td><td>0.410</td><td>0.5286843</td><td>0.583</td><td>0.7447747</td><td>0.0009671371</td><td>0.6886353</td><td>NA</td></tr>\n",
       "\t<tr><th scope=row>5</th><td>fun1&amp;1 internet</td><td> 91639803</td><td>FirstTime</td><td>1</td><td>2020-01-22</td><td>2019-01-22</td><td>Active</td><td><span style=white-space:pre-wrap>segeln.fun   </span></td><td>1&amp;1 Internet</td><td>1&amp;1 Internet</td><td>Germany</td><td>NA</td><td>1</td><td>15</td><td>15</td><td>0</td><td>283861656</td><td>auto-renewal</td><td><span style=white-space:pre-wrap>realized  </span></td><td><span style=white-space:pre-wrap>Renewed   </span></td><td>2020-01-22</td><td>15</td><td>2.23</td><td><span style=white-space:pre-wrap>segeln   </span></td><td>1</td><td>1</td><td>6</td><td>l</td><td>6l</td><td>fun</td><td>Non China</td><td>2.70805</td><td>0.470</td><td>0.6923911</td><td>0.426</td><td>0.4957660</td><td>0.596</td><td>0.7196796</td><td>0.7441245136</td><td>0.7408064</td><td>NA</td></tr>\n",
       "\t<tr><th scope=row>6</th><td>fun1&amp;1 internet</td><td>100167214</td><td>FirstTime</td><td>1</td><td>2020-04-14</td><td>2019-04-14</td><td>Active</td><td><span style=white-space:pre-wrap>moerk.fun    </span></td><td>1&amp;1 Internet</td><td>1&amp;1 Internet</td><td>Germany</td><td>NA</td><td>1</td><td>15</td><td>15</td><td>0</td><td>307842879</td><td>auto-renewal</td><td><span style=white-space:pre-wrap>realized  </span></td><td><span style=white-space:pre-wrap>Renewed   </span></td><td>2020-04-14</td><td>15</td><td>2.46</td><td><span style=white-space:pre-wrap>moerk    </span></td><td>1</td><td>1</td><td>5</td><td>l</td><td>5l</td><td>fun</td><td>Non China</td><td>2.70805</td><td>0.476</td><td>0.7261436</td><td>0.432</td><td>0.5039878</td><td>0.599</td><td>0.7412048</td><td>0.7385384473</td><td>0.7089843</td><td>NA</td></tr>\n",
       "</tbody>\n",
       "</table>\n"
      ],
      "text/latex": [
       "A data.frame: 6 × 41\n",
       "\\begin{tabular}{r|lllllllllllllllllllllllllllllllllllllllll}\n",
       "  & tld\\_registrar\\_index & domain\\_id & renewal\\_type & renewed\\_count & expiry\\_date & creation\\_date & status & domain & registrar & reseller & reseller\\_country & registrant\\_country & reg\\_period & reg\\_revenue & reg\\_arpt & renew\\_mbg & renewal\\_item\\_id & renew\\_type & autorenew\\_type & renewal\\_status & renew\\_date & renew\\_arpt & gibb\\_score & pattern & pattern\\_domain\\_count & day\\_domains & sld\\_length & sld\\_type & sld\\_type2 & tld & region & log\\_reg\\_arpt & pred\\_agg\\_glm\\_ALL & pred\\_agg\\_rf\\_ALL & pred\\_agg\\_glm & pred\\_agg\\_rf & pred\\_seg\\_glm\\_ALL & pred\\_seg\\_rf\\_ALL & pred\\_seg2\\_glm\\_ALL & pred\\_seg2\\_rf\\_ALL & l10\\_win\\_04\\\\\n",
       "  & <fct> & <int> & <fct> & <int> & <fct> & <fct> & <fct> & <fct> & <fct> & <fct> & <fct> & <fct> & <int> & <dbl> & <dbl> & <int> & <int> & <fct> & <fct> & <fct> & <fct> & <dbl> & <dbl> & <fct> & <int> & <int> & <int> & <fct> & <fct> & <fct> & <fct> & <dbl> & <dbl> & <dbl> & <dbl> & <dbl> & <dbl> & <dbl> & <dbl> & <dbl> & <chr>\\\\\n",
       "\\hline\n",
       "\t1 & fun1\\&1 internet &  72539234 & FirstTime & 1 & 2019-07-19 & 2018-07-19 & Active & bechstedt.fun & 1\\&1 Internet & 1\\&1 Internet & Germany & NA & 1 & 15 & 15 & 0 & 215994151 & auto-renewal & realized   & Renewed    & 2019-07-19 & 15 & 3.39 & bechstedt & 1 & 1 & 9 & l & 9l & fun & Non China & 2.70805 & 0.460 & 0.8297922 & 0.417 & 0.4474406 & 0.583 & 0.7796984 & 0.7762980215 & 0.7634674 & NA\\\\\n",
       "\t2 & fun1\\&1 internet &  77947069 & FirstTime & 1 & 2019-10-02 & 2018-10-02 & Active & titom.fun     & 1\\&1 Internet & 1\\&1 Internet & Germany & NA & 1 & 15 & 15 & 0 & 236376841 & auto-renewal & unrealized & Not Renewd & 2019-10-02 & 15 & 9.01 & titom     & 1 & 1 & 5 & l & 5l & fun & Non China & 2.70805 & 0.498 & 0.7723665 & 0.454 & 0.5320517 & 0.587 & 0.7517838 & 0.7948791657 & 0.7620216 & NA\\\\\n",
       "\t3 & fun1\\&1 internet &  79309099 & FirstTime & 1 & 2019-10-16 & 2018-10-16 & Active & bishkek.fun   & 1\\&1 Internet & 1\\&1 Internet & Germany & NA & 1 & 15 & 15 & 0 & 223040506 & transfer     & NA         & Renewed    & 2019-08-16 & 15 & 1.71 & bishkek   & 1 & 3 & 7 & l & 7l & fun & Non China & 2.70805 & 0.464 & 0.6305379 & 0.420 & 0.5496369 & 0.593 & 0.5729471 & 0.5285377442 & 0.4418808 & NA\\\\\n",
       "\t4 & fun1\\&1 internet &  98387914 & FirstTime & 1 & 2020-03-30 & 2019-03-30 & Active & prequeue.fun  & 1\\&1 Internet & 1\\&1 Internet & Germany & NA & 1 & 15 & 15 & 0 & 303739619 & auto-renewal & realized   & Renewed    & 2020-03-30 & 15 & 4.23 & preqee    & 2 & 2 & 8 & l & 8l & fun & Non China & 2.70805 & 0.453 & 0.6626378 & 0.410 & 0.5286843 & 0.583 & 0.7447747 & 0.0009671371 & 0.6886353 & NA\\\\\n",
       "\t5 & fun1\\&1 internet &  91639803 & FirstTime & 1 & 2020-01-22 & 2019-01-22 & Active & segeln.fun    & 1\\&1 Internet & 1\\&1 Internet & Germany & NA & 1 & 15 & 15 & 0 & 283861656 & auto-renewal & realized   & Renewed    & 2020-01-22 & 15 & 2.23 & segeln    & 1 & 1 & 6 & l & 6l & fun & Non China & 2.70805 & 0.470 & 0.6923911 & 0.426 & 0.4957660 & 0.596 & 0.7196796 & 0.7441245136 & 0.7408064 & NA\\\\\n",
       "\t6 & fun1\\&1 internet & 100167214 & FirstTime & 1 & 2020-04-14 & 2019-04-14 & Active & moerk.fun     & 1\\&1 Internet & 1\\&1 Internet & Germany & NA & 1 & 15 & 15 & 0 & 307842879 & auto-renewal & realized   & Renewed    & 2020-04-14 & 15 & 2.46 & moerk     & 1 & 1 & 5 & l & 5l & fun & Non China & 2.70805 & 0.476 & 0.7261436 & 0.432 & 0.5039878 & 0.599 & 0.7412048 & 0.7385384473 & 0.7089843 & NA\\\\\n",
       "\\end{tabular}\n"
      ],
      "text/markdown": [
       "\n",
       "A data.frame: 6 × 41\n",
       "\n",
       "| <!--/--> | tld_registrar_index &lt;fct&gt; | domain_id &lt;int&gt; | renewal_type &lt;fct&gt; | renewed_count &lt;int&gt; | expiry_date &lt;fct&gt; | creation_date &lt;fct&gt; | status &lt;fct&gt; | domain &lt;fct&gt; | registrar &lt;fct&gt; | reseller &lt;fct&gt; | reseller_country &lt;fct&gt; | registrant_country &lt;fct&gt; | reg_period &lt;int&gt; | reg_revenue &lt;dbl&gt; | reg_arpt &lt;dbl&gt; | renew_mbg &lt;int&gt; | renewal_item_id &lt;int&gt; | renew_type &lt;fct&gt; | autorenew_type &lt;fct&gt; | renewal_status &lt;fct&gt; | renew_date &lt;fct&gt; | renew_arpt &lt;dbl&gt; | gibb_score &lt;dbl&gt; | pattern &lt;fct&gt; | pattern_domain_count &lt;int&gt; | day_domains &lt;int&gt; | sld_length &lt;int&gt; | sld_type &lt;fct&gt; | sld_type2 &lt;fct&gt; | tld &lt;fct&gt; | region &lt;fct&gt; | log_reg_arpt &lt;dbl&gt; | pred_agg_glm_ALL &lt;dbl&gt; | pred_agg_rf_ALL &lt;dbl&gt; | pred_agg_glm &lt;dbl&gt; | pred_agg_rf &lt;dbl&gt; | pred_seg_glm_ALL &lt;dbl&gt; | pred_seg_rf_ALL &lt;dbl&gt; | pred_seg2_glm_ALL &lt;dbl&gt; | pred_seg2_rf_ALL &lt;dbl&gt; | l10_win_04 &lt;chr&gt; |\n",
       "|---|---|---|---|---|---|---|---|---|---|---|---|---|---|---|---|---|---|---|---|---|---|---|---|---|---|---|---|---|---|---|---|---|---|---|---|---|---|---|---|---|---|\n",
       "| 1 | fun1&amp;1 internet |  72539234 | FirstTime | 1 | 2019-07-19 | 2018-07-19 | Active | bechstedt.fun | 1&amp;1 Internet | 1&amp;1 Internet | Germany | NA | 1 | 15 | 15 | 0 | 215994151 | auto-renewal | realized   | Renewed    | 2019-07-19 | 15 | 3.39 | bechstedt | 1 | 1 | 9 | l | 9l | fun | Non China | 2.70805 | 0.460 | 0.8297922 | 0.417 | 0.4474406 | 0.583 | 0.7796984 | 0.7762980215 | 0.7634674 | NA |\n",
       "| 2 | fun1&amp;1 internet |  77947069 | FirstTime | 1 | 2019-10-02 | 2018-10-02 | Active | titom.fun     | 1&amp;1 Internet | 1&amp;1 Internet | Germany | NA | 1 | 15 | 15 | 0 | 236376841 | auto-renewal | unrealized | Not Renewd | 2019-10-02 | 15 | 9.01 | titom     | 1 | 1 | 5 | l | 5l | fun | Non China | 2.70805 | 0.498 | 0.7723665 | 0.454 | 0.5320517 | 0.587 | 0.7517838 | 0.7948791657 | 0.7620216 | NA |\n",
       "| 3 | fun1&amp;1 internet |  79309099 | FirstTime | 1 | 2019-10-16 | 2018-10-16 | Active | bishkek.fun   | 1&amp;1 Internet | 1&amp;1 Internet | Germany | NA | 1 | 15 | 15 | 0 | 223040506 | transfer     | NA         | Renewed    | 2019-08-16 | 15 | 1.71 | bishkek   | 1 | 3 | 7 | l | 7l | fun | Non China | 2.70805 | 0.464 | 0.6305379 | 0.420 | 0.5496369 | 0.593 | 0.5729471 | 0.5285377442 | 0.4418808 | NA |\n",
       "| 4 | fun1&amp;1 internet |  98387914 | FirstTime | 1 | 2020-03-30 | 2019-03-30 | Active | prequeue.fun  | 1&amp;1 Internet | 1&amp;1 Internet | Germany | NA | 1 | 15 | 15 | 0 | 303739619 | auto-renewal | realized   | Renewed    | 2020-03-30 | 15 | 4.23 | preqee    | 2 | 2 | 8 | l | 8l | fun | Non China | 2.70805 | 0.453 | 0.6626378 | 0.410 | 0.5286843 | 0.583 | 0.7447747 | 0.0009671371 | 0.6886353 | NA |\n",
       "| 5 | fun1&amp;1 internet |  91639803 | FirstTime | 1 | 2020-01-22 | 2019-01-22 | Active | segeln.fun    | 1&amp;1 Internet | 1&amp;1 Internet | Germany | NA | 1 | 15 | 15 | 0 | 283861656 | auto-renewal | realized   | Renewed    | 2020-01-22 | 15 | 2.23 | segeln    | 1 | 1 | 6 | l | 6l | fun | Non China | 2.70805 | 0.470 | 0.6923911 | 0.426 | 0.4957660 | 0.596 | 0.7196796 | 0.7441245136 | 0.7408064 | NA |\n",
       "| 6 | fun1&amp;1 internet | 100167214 | FirstTime | 1 | 2020-04-14 | 2019-04-14 | Active | moerk.fun     | 1&amp;1 Internet | 1&amp;1 Internet | Germany | NA | 1 | 15 | 15 | 0 | 307842879 | auto-renewal | realized   | Renewed    | 2020-04-14 | 15 | 2.46 | moerk     | 1 | 1 | 5 | l | 5l | fun | Non China | 2.70805 | 0.476 | 0.7261436 | 0.432 | 0.5039878 | 0.599 | 0.7412048 | 0.7385384473 | 0.7089843 | NA |\n",
       "\n"
      ],
      "text/plain": [
       "  tld_registrar_index domain_id renewal_type renewed_count expiry_date\n",
       "1 fun1&1 internet      72539234 FirstTime    1             2019-07-19 \n",
       "2 fun1&1 internet      77947069 FirstTime    1             2019-10-02 \n",
       "3 fun1&1 internet      79309099 FirstTime    1             2019-10-16 \n",
       "4 fun1&1 internet      98387914 FirstTime    1             2020-03-30 \n",
       "5 fun1&1 internet      91639803 FirstTime    1             2020-01-22 \n",
       "6 fun1&1 internet     100167214 FirstTime    1             2020-04-14 \n",
       "  creation_date status domain        registrar    reseller     reseller_country\n",
       "1 2018-07-19    Active bechstedt.fun 1&1 Internet 1&1 Internet Germany         \n",
       "2 2018-10-02    Active titom.fun     1&1 Internet 1&1 Internet Germany         \n",
       "3 2018-10-16    Active bishkek.fun   1&1 Internet 1&1 Internet Germany         \n",
       "4 2019-03-30    Active prequeue.fun  1&1 Internet 1&1 Internet Germany         \n",
       "5 2019-01-22    Active segeln.fun    1&1 Internet 1&1 Internet Germany         \n",
       "6 2019-04-14    Active moerk.fun     1&1 Internet 1&1 Internet Germany         \n",
       "  registrant_country reg_period reg_revenue reg_arpt renew_mbg renewal_item_id\n",
       "1 NA                 1          15          15       0         215994151      \n",
       "2 NA                 1          15          15       0         236376841      \n",
       "3 NA                 1          15          15       0         223040506      \n",
       "4 NA                 1          15          15       0         303739619      \n",
       "5 NA                 1          15          15       0         283861656      \n",
       "6 NA                 1          15          15       0         307842879      \n",
       "  renew_type   autorenew_type renewal_status renew_date renew_arpt gibb_score\n",
       "1 auto-renewal realized       Renewed        2019-07-19 15         3.39      \n",
       "2 auto-renewal unrealized     Not Renewd     2019-10-02 15         9.01      \n",
       "3 transfer     NA             Renewed        2019-08-16 15         1.71      \n",
       "4 auto-renewal realized       Renewed        2020-03-30 15         4.23      \n",
       "5 auto-renewal realized       Renewed        2020-01-22 15         2.23      \n",
       "6 auto-renewal realized       Renewed        2020-04-14 15         2.46      \n",
       "  pattern   pattern_domain_count day_domains sld_length sld_type sld_type2 tld\n",
       "1 bechstedt 1                    1           9          l        9l        fun\n",
       "2 titom     1                    1           5          l        5l        fun\n",
       "3 bishkek   1                    3           7          l        7l        fun\n",
       "4 preqee    2                    2           8          l        8l        fun\n",
       "5 segeln    1                    1           6          l        6l        fun\n",
       "6 moerk     1                    1           5          l        5l        fun\n",
       "  region    log_reg_arpt pred_agg_glm_ALL pred_agg_rf_ALL pred_agg_glm\n",
       "1 Non China 2.70805      0.460            0.8297922       0.417       \n",
       "2 Non China 2.70805      0.498            0.7723665       0.454       \n",
       "3 Non China 2.70805      0.464            0.6305379       0.420       \n",
       "4 Non China 2.70805      0.453            0.6626378       0.410       \n",
       "5 Non China 2.70805      0.470            0.6923911       0.426       \n",
       "6 Non China 2.70805      0.476            0.7261436       0.432       \n",
       "  pred_agg_rf pred_seg_glm_ALL pred_seg_rf_ALL pred_seg2_glm_ALL\n",
       "1 0.4474406   0.583            0.7796984       0.7762980215     \n",
       "2 0.5320517   0.587            0.7517838       0.7948791657     \n",
       "3 0.5496369   0.593            0.5729471       0.5285377442     \n",
       "4 0.5286843   0.583            0.7447747       0.0009671371     \n",
       "5 0.4957660   0.596            0.7196796       0.7441245136     \n",
       "6 0.5039878   0.599            0.7412048       0.7385384473     \n",
       "  pred_seg2_rf_ALL l10_win_04\n",
       "1 0.7634674        NA        \n",
       "2 0.7620216        NA        \n",
       "3 0.4418808        NA        \n",
       "4 0.6886353        NA        \n",
       "5 0.7408064        NA        \n",
       "6 0.7089843        NA        "
      ]
     },
     "metadata": {},
     "output_type": "display_data"
    }
   ],
   "source": [
    "# merge with test dataset containing predictions\n",
    "# expiry_df_test_preds <- read.csv(\"../../data/output/datapull_20201116/expiry_df_test_preds.csv\")\n",
    "expiry_df_test_preds_assign <- merge(expiry_df_test_preds, lookup, by=\"tld_registrar_index\", all.x=TRUE)\n",
    "dim(expiry_df_test_preds_assign)\n",
    "head(expiry_df_test_preds_assign)"
   ]
  },
  {
   "cell_type": "code",
   "execution_count": 214,
   "metadata": {},
   "outputs": [
    {
     "data": {
      "text/html": [
       "833160"
      ],
      "text/latex": [
       "833160"
      ],
      "text/markdown": [
       "833160"
      ],
      "text/plain": [
       "[1] 833160"
      ]
     },
     "metadata": {},
     "output_type": "display_data"
    },
    {
     "data": {
      "text/html": [
       "<table>\n",
       "<caption>A data.frame: 1406 × 1</caption>\n",
       "<thead>\n",
       "\t<tr><th scope=col>tld_registrar_index</th></tr>\n",
       "\t<tr><th scope=col>&lt;fct&gt;</th></tr>\n",
       "</thead>\n",
       "<tbody>\n",
       "\t<tr><td><span style=white-space:pre-wrap>fun1&amp;1 internet          </span></td></tr>\n",
       "\t<tr><td>fun10dencehispahard      </td></tr>\n",
       "\t<tr><td>funab name isp           </td></tr>\n",
       "\t<tr><td>funactive 24             </td></tr>\n",
       "\t<tr><td>funalibaba               </td></tr>\n",
       "\t<tr><td>funalpnames              </td></tr>\n",
       "\t<tr><td>funascio                 </td></tr>\n",
       "\t<tr><td>funautomattic            </td></tr>\n",
       "\t<tr><td>funbaidu                 </td></tr>\n",
       "\t<tr><td>funbeget                 </td></tr>\n",
       "\t<tr><td>funbeon intermedia       </td></tr>\n",
       "\t<tr><td>funbizcn                 </td></tr>\n",
       "\t<tr><td>funcheck domain          </td></tr>\n",
       "\t<tr><td>funchengdu fly           </td></tr>\n",
       "\t<tr><td>funchengdu west          </td></tr>\n",
       "\t<tr><td>funcom laude             </td></tr>\n",
       "\t<tr><td>funcrazy domains         </td></tr>\n",
       "\t<tr><td>funcsl                   </td></tr>\n",
       "\t<tr><td>fundnc holdings          </td></tr>\n",
       "\t<tr><td>fundomain discount       </td></tr>\n",
       "\t<tr><td>fundomain.com - registrar</td></tr>\n",
       "\t<tr><td>fundomains4bitcoins      </td></tr>\n",
       "\t<tr><td>fundomeneshop            </td></tr>\n",
       "\t<tr><td>fundotname korea         </td></tr>\n",
       "\t<tr><td>fundotserve inc          </td></tr>\n",
       "\t<tr><td>fundreamhost             </td></tr>\n",
       "\t<tr><td>fundynadot               </td></tr>\n",
       "\t<tr><td>funejee group            </td></tr>\n",
       "\t<tr><td>funenom                  </td></tr>\n",
       "\t<tr><td>funepik llc              </td></tr>\n",
       "\t<tr><td>funeranet                </td></tr>\n",
       "\t<tr><td>funeu technology         </td></tr>\n",
       "\t<tr><td>funfbs                   </td></tr>\n",
       "\t<tr><td>funforpsi                </td></tr>\n",
       "\t<tr><td>funfoshan yidong         </td></tr>\n",
       "\t<tr><td>fungabia                 </td></tr>\n",
       "\t<tr><td>fungandi sas             </td></tr>\n",
       "\t<tr><td>fungmo                   </td></tr>\n",
       "\t<tr><td>fungo daddy              </td></tr>\n",
       "\t<tr><td>fungoogle                </td></tr>\n",
       "\t<tr><td>funhostgator brazil      </td></tr>\n",
       "\t<tr><td>funhosting concepts      </td></tr>\n",
       "\t<tr><td>funhostnet.nl            </td></tr>\n",
       "\t<tr><td>funhostpoint             </td></tr>\n",
       "\t<tr><td>funinfomaniak.ch         </td></tr>\n",
       "\t<tr><td>funinstra corporation    </td></tr>\n",
       "\t<tr><td>funinternetworx ltd      </td></tr>\n",
       "\t<tr><td>funinterserver           </td></tr>\n",
       "\t<tr><td>funiwantmyname           </td></tr>\n",
       "\t<tr><td>funkey-systems           </td></tr>\n",
       "\t<tr><td>⋮</td></tr>\n",
       "\t<tr><td>websiteparagon internet         </td></tr>\n",
       "\t<tr><td>websitepdr ltd                  </td></tr>\n",
       "\t<tr><td>websiteplanet hoster            </td></tr>\n",
       "\t<tr><td>websiteporkbun                  </td></tr>\n",
       "\t<tr><td>websitepromo people             </td></tr>\n",
       "\t<tr><td>websiterealtime register        </td></tr>\n",
       "\t<tr><td>websitereg.ru                   </td></tr>\n",
       "\t<tr><td>websiteregistrarsec             </td></tr>\n",
       "\t<tr><td>websiteregistrator domenov      </td></tr>\n",
       "\t<tr><td>websiteregistrator domenov      </td></tr>\n",
       "\t<tr><td>websiteregistrygate             </td></tr>\n",
       "\t<tr><td>websiteregtime ltd              </td></tr>\n",
       "\t<tr><td>websiteru-center                </td></tr>\n",
       "\t<tr><td>websiterumahweb                 </td></tr>\n",
       "\t<tr><td>websitesafenames ltd            </td></tr>\n",
       "\t<tr><td>websitesered                    </td></tr>\n",
       "\t<tr><td>websiteserver plan              </td></tr>\n",
       "\t<tr><td>websiteshanghai best oray       </td></tr>\n",
       "\t<tr><td>websiteshanghai meicheng        </td></tr>\n",
       "\t<tr><td>websiteshopify                  </td></tr>\n",
       "\t<tr><td>websitesmartweb                 </td></tr>\n",
       "\t<tr><td>websitespaceweb                 </td></tr>\n",
       "\t<tr><td>websitesquarespace              </td></tr>\n",
       "\t<tr><td>websitesuperdominios            </td></tr>\n",
       "\t<tr><td>websitesuperhosting             </td></tr>\n",
       "\t<tr><td>websitesynergy wholesale        </td></tr>\n",
       "\t<tr><td>websitetenten                   </td></tr>\n",
       "\t<tr><td>websitetimeweb                  </td></tr>\n",
       "\t<tr><td>websitetradeindia               </td></tr>\n",
       "\t<tr><td>websitetucows                   </td></tr>\n",
       "\t<tr><td>websiteuniregistrar             </td></tr>\n",
       "\t<tr><td>websiteunited domains           </td></tr>\n",
       "\t<tr><td>websiteunoeuro                  </td></tr>\n",
       "\t<tr><td>websiteuol                      </td></tr>\n",
       "\t<tr><td>websiteurl solutions            </td></tr>\n",
       "\t<tr><td>websiteversio                   </td></tr>\n",
       "\t<tr><td>websitevimexx trc               </td></tr>\n",
       "\t<tr><td>websiteweb commerce comm        </td></tr>\n",
       "\t<tr><td>websiteweb4africa               </td></tr>\n",
       "\t<tr><td>websiteweebly                   </td></tr>\n",
       "\t<tr><td>websitewhogohost                </td></tr>\n",
       "\t<tr><td>websitewhois                    </td></tr>\n",
       "\t<tr><td>websitewild west                </td></tr>\n",
       "\t<tr><td>websitewix                      </td></tr>\n",
       "\t<tr><td>websiteworld4you                </td></tr>\n",
       "\t<tr><td>websitexin net                  </td></tr>\n",
       "\t<tr><td>websitexpress                   </td></tr>\n",
       "\t<tr><td>websiteyour hosting             </td></tr>\n",
       "\t<tr><td>websitezeit                     </td></tr>\n",
       "\t<tr><td>websitezhengzhou century connect</td></tr>\n",
       "</tbody>\n",
       "</table>\n"
      ],
      "text/latex": [
       "A data.frame: 1406 × 1\n",
       "\\begin{tabular}{l}\n",
       " tld\\_registrar\\_index\\\\\n",
       " <fct>\\\\\n",
       "\\hline\n",
       "\t fun1\\&1 internet          \\\\\n",
       "\t fun10dencehispahard      \\\\\n",
       "\t funab name isp           \\\\\n",
       "\t funactive 24             \\\\\n",
       "\t funalibaba               \\\\\n",
       "\t funalpnames              \\\\\n",
       "\t funascio                 \\\\\n",
       "\t funautomattic            \\\\\n",
       "\t funbaidu                 \\\\\n",
       "\t funbeget                 \\\\\n",
       "\t funbeon intermedia       \\\\\n",
       "\t funbizcn                 \\\\\n",
       "\t funcheck domain          \\\\\n",
       "\t funchengdu fly           \\\\\n",
       "\t funchengdu west          \\\\\n",
       "\t funcom laude             \\\\\n",
       "\t funcrazy domains         \\\\\n",
       "\t funcsl                   \\\\\n",
       "\t fundnc holdings          \\\\\n",
       "\t fundomain discount       \\\\\n",
       "\t fundomain.com - registrar\\\\\n",
       "\t fundomains4bitcoins      \\\\\n",
       "\t fundomeneshop            \\\\\n",
       "\t fundotname korea         \\\\\n",
       "\t fundotserve inc          \\\\\n",
       "\t fundreamhost             \\\\\n",
       "\t fundynadot               \\\\\n",
       "\t funejee group            \\\\\n",
       "\t funenom                  \\\\\n",
       "\t funepik llc              \\\\\n",
       "\t funeranet                \\\\\n",
       "\t funeu technology         \\\\\n",
       "\t funfbs                   \\\\\n",
       "\t funforpsi                \\\\\n",
       "\t funfoshan yidong         \\\\\n",
       "\t fungabia                 \\\\\n",
       "\t fungandi sas             \\\\\n",
       "\t fungmo                   \\\\\n",
       "\t fungo daddy              \\\\\n",
       "\t fungoogle                \\\\\n",
       "\t funhostgator brazil      \\\\\n",
       "\t funhosting concepts      \\\\\n",
       "\t funhostnet.nl            \\\\\n",
       "\t funhostpoint             \\\\\n",
       "\t funinfomaniak.ch         \\\\\n",
       "\t funinstra corporation    \\\\\n",
       "\t funinternetworx ltd      \\\\\n",
       "\t funinterserver           \\\\\n",
       "\t funiwantmyname           \\\\\n",
       "\t funkey-systems           \\\\\n",
       "\t ⋮\\\\\n",
       "\t websiteparagon internet         \\\\\n",
       "\t websitepdr ltd                  \\\\\n",
       "\t websiteplanet hoster            \\\\\n",
       "\t websiteporkbun                  \\\\\n",
       "\t websitepromo people             \\\\\n",
       "\t websiterealtime register        \\\\\n",
       "\t websitereg.ru                   \\\\\n",
       "\t websiteregistrarsec             \\\\\n",
       "\t websiteregistrator domenov      \\\\\n",
       "\t websiteregistrator domenov      \\\\\n",
       "\t websiteregistrygate             \\\\\n",
       "\t websiteregtime ltd              \\\\\n",
       "\t websiteru-center                \\\\\n",
       "\t websiterumahweb                 \\\\\n",
       "\t websitesafenames ltd            \\\\\n",
       "\t websitesered                    \\\\\n",
       "\t websiteserver plan              \\\\\n",
       "\t websiteshanghai best oray       \\\\\n",
       "\t websiteshanghai meicheng        \\\\\n",
       "\t websiteshopify                  \\\\\n",
       "\t websitesmartweb                 \\\\\n",
       "\t websitespaceweb                 \\\\\n",
       "\t websitesquarespace              \\\\\n",
       "\t websitesuperdominios            \\\\\n",
       "\t websitesuperhosting             \\\\\n",
       "\t websitesynergy wholesale        \\\\\n",
       "\t websitetenten                   \\\\\n",
       "\t websitetimeweb                  \\\\\n",
       "\t websitetradeindia               \\\\\n",
       "\t websitetucows                   \\\\\n",
       "\t websiteuniregistrar             \\\\\n",
       "\t websiteunited domains           \\\\\n",
       "\t websiteunoeuro                  \\\\\n",
       "\t websiteuol                      \\\\\n",
       "\t websiteurl solutions            \\\\\n",
       "\t websiteversio                   \\\\\n",
       "\t websitevimexx trc               \\\\\n",
       "\t websiteweb commerce comm        \\\\\n",
       "\t websiteweb4africa               \\\\\n",
       "\t websiteweebly                   \\\\\n",
       "\t websitewhogohost                \\\\\n",
       "\t websitewhois                    \\\\\n",
       "\t websitewild west                \\\\\n",
       "\t websitewix                      \\\\\n",
       "\t websiteworld4you                \\\\\n",
       "\t websitexin net                  \\\\\n",
       "\t websitexpress                   \\\\\n",
       "\t websiteyour hosting             \\\\\n",
       "\t websitezeit                     \\\\\n",
       "\t websitezhengzhou century connect\\\\\n",
       "\\end{tabular}\n"
      ],
      "text/markdown": [
       "\n",
       "A data.frame: 1406 × 1\n",
       "\n",
       "| tld_registrar_index &lt;fct&gt; |\n",
       "|---|\n",
       "| fun1&amp;1 internet           |\n",
       "| fun10dencehispahard       |\n",
       "| funab name isp            |\n",
       "| funactive 24              |\n",
       "| funalibaba                |\n",
       "| funalpnames               |\n",
       "| funascio                  |\n",
       "| funautomattic             |\n",
       "| funbaidu                  |\n",
       "| funbeget                  |\n",
       "| funbeon intermedia        |\n",
       "| funbizcn                  |\n",
       "| funcheck domain           |\n",
       "| funchengdu fly            |\n",
       "| funchengdu west           |\n",
       "| funcom laude              |\n",
       "| funcrazy domains          |\n",
       "| funcsl                    |\n",
       "| fundnc holdings           |\n",
       "| fundomain discount        |\n",
       "| fundomain.com - registrar |\n",
       "| fundomains4bitcoins       |\n",
       "| fundomeneshop             |\n",
       "| fundotname korea          |\n",
       "| fundotserve inc           |\n",
       "| fundreamhost              |\n",
       "| fundynadot                |\n",
       "| funejee group             |\n",
       "| funenom                   |\n",
       "| funepik llc               |\n",
       "| funeranet                 |\n",
       "| funeu technology          |\n",
       "| funfbs                    |\n",
       "| funforpsi                 |\n",
       "| funfoshan yidong          |\n",
       "| fungabia                  |\n",
       "| fungandi sas              |\n",
       "| fungmo                    |\n",
       "| fungo daddy               |\n",
       "| fungoogle                 |\n",
       "| funhostgator brazil       |\n",
       "| funhosting concepts       |\n",
       "| funhostnet.nl             |\n",
       "| funhostpoint              |\n",
       "| funinfomaniak.ch          |\n",
       "| funinstra corporation     |\n",
       "| funinternetworx ltd       |\n",
       "| funinterserver            |\n",
       "| funiwantmyname            |\n",
       "| funkey-systems            |\n",
       "| ⋮ |\n",
       "| websiteparagon internet          |\n",
       "| websitepdr ltd                   |\n",
       "| websiteplanet hoster             |\n",
       "| websiteporkbun                   |\n",
       "| websitepromo people              |\n",
       "| websiterealtime register         |\n",
       "| websitereg.ru                    |\n",
       "| websiteregistrarsec              |\n",
       "| websiteregistrator domenov       |\n",
       "| websiteregistrator domenov       |\n",
       "| websiteregistrygate              |\n",
       "| websiteregtime ltd               |\n",
       "| websiteru-center                 |\n",
       "| websiterumahweb                  |\n",
       "| websitesafenames ltd             |\n",
       "| websitesered                     |\n",
       "| websiteserver plan               |\n",
       "| websiteshanghai best oray        |\n",
       "| websiteshanghai meicheng         |\n",
       "| websiteshopify                   |\n",
       "| websitesmartweb                  |\n",
       "| websitespaceweb                  |\n",
       "| websitesquarespace               |\n",
       "| websitesuperdominios             |\n",
       "| websitesuperhosting              |\n",
       "| websitesynergy wholesale         |\n",
       "| websitetenten                    |\n",
       "| websitetimeweb                   |\n",
       "| websitetradeindia                |\n",
       "| websitetucows                    |\n",
       "| websiteuniregistrar              |\n",
       "| websiteunited domains            |\n",
       "| websiteunoeuro                   |\n",
       "| websiteuol                       |\n",
       "| websiteurl solutions             |\n",
       "| websiteversio                    |\n",
       "| websitevimexx trc                |\n",
       "| websiteweb commerce comm         |\n",
       "| websiteweb4africa                |\n",
       "| websiteweebly                    |\n",
       "| websitewhogohost                 |\n",
       "| websitewhois                     |\n",
       "| websitewild west                 |\n",
       "| websitewix                       |\n",
       "| websiteworld4you                 |\n",
       "| websitexin net                   |\n",
       "| websitexpress                    |\n",
       "| websiteyour hosting              |\n",
       "| websitezeit                      |\n",
       "| websitezhengzhou century connect |\n",
       "\n"
      ],
      "text/plain": [
       "     tld_registrar_index             \n",
       "1    fun1&1 internet                 \n",
       "2    fun10dencehispahard             \n",
       "3    funab name isp                  \n",
       "4    funactive 24                    \n",
       "5    funalibaba                      \n",
       "6    funalpnames                     \n",
       "7    funascio                        \n",
       "8    funautomattic                   \n",
       "9    funbaidu                        \n",
       "10   funbeget                        \n",
       "11   funbeon intermedia              \n",
       "12   funbizcn                        \n",
       "13   funcheck domain                 \n",
       "14   funchengdu fly                  \n",
       "15   funchengdu west                 \n",
       "16   funcom laude                    \n",
       "17   funcrazy domains                \n",
       "18   funcsl                          \n",
       "19   fundnc holdings                 \n",
       "20   fundomain discount              \n",
       "21   fundomain.com - registrar       \n",
       "22   fundomains4bitcoins             \n",
       "23   fundomeneshop                   \n",
       "24   fundotname korea                \n",
       "25   fundotserve inc                 \n",
       "26   fundreamhost                    \n",
       "27   fundynadot                      \n",
       "28   funejee group                   \n",
       "29   funenom                         \n",
       "30   funepik llc                     \n",
       "31   funeranet                       \n",
       "32   funeu technology                \n",
       "33   funfbs                          \n",
       "34   funforpsi                       \n",
       "35   funfoshan yidong                \n",
       "36   fungabia                        \n",
       "37   fungandi sas                    \n",
       "38   fungmo                          \n",
       "39   fungo daddy                     \n",
       "40   fungoogle                       \n",
       "41   funhostgator brazil             \n",
       "42   funhosting concepts             \n",
       "43   funhostnet.nl                   \n",
       "44   funhostpoint                    \n",
       "45   funinfomaniak.ch                \n",
       "46   funinstra corporation           \n",
       "47   funinternetworx ltd             \n",
       "48   funinterserver                  \n",
       "49   funiwantmyname                  \n",
       "50   funkey-systems                  \n",
       "⋮    ⋮                               \n",
       "1357 websiteparagon internet         \n",
       "1358 websitepdr ltd                  \n",
       "1359 websiteplanet hoster            \n",
       "1360 websiteporkbun                  \n",
       "1361 websitepromo people             \n",
       "1362 websiterealtime register        \n",
       "1363 websitereg.ru                   \n",
       "1364 websiteregistrarsec             \n",
       "1365 websiteregistrator domenov      \n",
       "1366 websiteregistrator domenov      \n",
       "1367 websiteregistrygate             \n",
       "1368 websiteregtime ltd              \n",
       "1369 websiteru-center                \n",
       "1370 websiterumahweb                 \n",
       "1371 websitesafenames ltd            \n",
       "1372 websitesered                    \n",
       "1373 websiteserver plan              \n",
       "1374 websiteshanghai best oray       \n",
       "1375 websiteshanghai meicheng        \n",
       "1376 websiteshopify                  \n",
       "1377 websitesmartweb                 \n",
       "1378 websitespaceweb                 \n",
       "1379 websitesquarespace              \n",
       "1380 websitesuperdominios            \n",
       "1381 websitesuperhosting             \n",
       "1382 websitesynergy wholesale        \n",
       "1383 websitetenten                   \n",
       "1384 websitetimeweb                  \n",
       "1385 websitetradeindia               \n",
       "1386 websitetucows                   \n",
       "1387 websiteuniregistrar             \n",
       "1388 websiteunited domains           \n",
       "1389 websiteunoeuro                  \n",
       "1390 websiteuol                      \n",
       "1391 websiteurl solutions            \n",
       "1392 websiteversio                   \n",
       "1393 websitevimexx trc               \n",
       "1394 websiteweb commerce comm        \n",
       "1395 websiteweb4africa               \n",
       "1396 websiteweebly                   \n",
       "1397 websitewhogohost                \n",
       "1398 websitewhois                    \n",
       "1399 websitewild west                \n",
       "1400 websitewix                      \n",
       "1401 websiteworld4you                \n",
       "1402 websitexin net                  \n",
       "1403 websitexpress                   \n",
       "1404 websiteyour hosting             \n",
       "1405 websitezeit                     \n",
       "1406 websitezhengzhou century connect"
      ]
     },
     "metadata": {},
     "output_type": "display_data"
    }
   ],
   "source": [
    "expiry_df_test_preds_assign %>% filter(is.na(l10_win_04)) %>% nrow()\n",
    "expiry_df_test_preds_assign %>% filter(is.na(l10_win_04)) %>% select(tld_registrar_index) %>% distinct(tld_registrar_index)"
   ]
  },
  {
   "cell_type": "markdown",
   "metadata": {},
   "source": [
    "## assign prediction based on prediction results"
   ]
  },
  {
   "cell_type": "code",
   "execution_count": null,
   "metadata": {},
   "outputs": [],
   "source": [
    "# 04.1 is the prediction result\n",
    "expiry_test_predictions_assign$l10_win_04_pred <- \n",
    "    (expiry_test_predictions_assign$l10_win_04.1=='l10_seg2_glm_fb')*expiry_test_predictions_assign$pred_df_seg2_glm_fb+\n",
    "    (expiry_test_predictions_assign$l10_win_04.1=='l10_agg_rf_ALL')*expiry_test_predictions_assign$pred_df_agg_rf\n",
    "\n",
    "head(expiry_test_predictions_assign %>% select(pred_df_seg2_glm_fb,pred_df_agg_rf_fb,auc_win_01,auc_win_pred))"
   ]
  },
  {
   "cell_type": "code",
   "execution_count": null,
   "metadata": {},
   "outputs": [],
   "source": [
    "\n",
    "lift_list <- list()\n",
    "auc_list <- list()\n",
    "\n",
    "fallback_lift <- chart_lift(pred_df=expiry_test_predictions_assign,\n",
    "                        dep_var = \"renewal_status\",\n",
    "                        pred_var = \"auc_win_pred\") \n",
    "\n",
    "lift_list[[\"auc_win_pred\"]] <- fallback_lift\n",
    "auc_list[[\"auc_win_pred\"]] <- calc_auc(lift_df=fallback_lift)\n",
    "\n",
    "models <- c('pred_df_seg2_glm_fb','pred_df_agg_rf_fb')\n",
    "\n",
    "\n",
    "for (model in models){\n",
    "    model_lift <- chart_lift(pred_df=expiry_test_predictions_assign,\n",
    "                        dep_var = \"renewal_status\",\n",
    "                        pred_var = model) \n",
    "    \n",
    "    fallback_lift <- merge(fallback_lift, model_lift, by=c(\"P\"),all= TRUE, \n",
    "                           suffixes = c(\"\",\n",
    "                                        paste(\"_\",gsub(\"pred_df_\", \"\", model)) ))\n",
    "    \n",
    "    lift_list[[model]] <- model_lift\n",
    "    auc_list[[model]] <- calc_auc(lift_df=model_lift)\n",
    "}\n",
    "\n",
    "lift_df <- fallback_lift"
   ]
  },
  {
   "cell_type": "code",
   "execution_count": null,
   "metadata": {},
   "outputs": [],
   "source": [
    "length(lift_list)\n",
    "names(lift_list)\n",
    "sapply(lift_list, dim)\n",
    "lift_list[\"auc_win_pred\"]"
   ]
  },
  {
   "cell_type": "code",
   "execution_count": null,
   "metadata": {},
   "outputs": [],
   "source": [
    "prop.table(table(expiry_test_predictions_assign$renewal_status))"
   ]
  },
  {
   "cell_type": "code",
   "execution_count": null,
   "metadata": {},
   "outputs": [],
   "source": [
    "plot_multigains <- function (lift_df_list=list(seg_glm = lift_df, \n",
    "                                               ben_dtr = lift_df_2),\n",
    "                             auc_list = list(seg_glm = auc, \n",
    "                                             ben_dtr=auc_2),\n",
    "                             prop_positive = 0.1194494) {\n",
    "  \n",
    "  optimal_df <- data.frame( \"P\"=c(0,prop_positive,1.0),\n",
    "                            \"actu_renwd2\"=c(NA,NA,NA),\n",
    "                            \"gain\"=c(0,1.0,1.0),\n",
    "                            \"lift\"=c(NA,NA,NA))\n",
    "  \n",
    "  lift_df_list <- lapply(lift_df_list, function(df) {\n",
    "    df <- df %>%\n",
    "      add_row(P = 0, gain =0) %>%\n",
    "      arrange(P)\n",
    "  })\n",
    "\n",
    "  auc_lift_list = paste(lapply(auc_list, round, 3),sapply(lift_df_list, function(x) round(x[2,\"lift\"],2)), sep=\", \")\n",
    "  \n",
    "  auc_map = paste(names(lift_df_list),auc_lift_list, sep=\" = \")[1:length(lift_df_list)]\n",
    "  \n",
    "  \n",
    "  gains_plot <- ggplot(NULL, aes(P,  gain)) +\n",
    "    geom_line(data = lift_df_list[[1]] %>% slice(1, n())) +\n",
    "    \n",
    "    list(geom_line(data=optimal_df), geom_point(data=optimal_df)) +\n",
    "    \n",
    "    scale_y_continuous(breaks = seq(0, 1, by = .1), limits = c(0,1)) +\n",
    "    scale_x_continuous(breaks = seq(0, 1, by = .1)) +\n",
    "    labs(title = \"Cumulative Gains Plot\",\n",
    "         y = \"Cumulative Gain\",\n",
    "         x = \"Percentile\")+\n",
    "    theme(text = element_text(size=20))\n",
    "  \n",
    "  for(i in seq(length(lift_df_list))){\n",
    "    name = names(lift_df_list)[[i]]\n",
    "    df = lift_df_list[[i]]\n",
    "    auc = auc_list[[i]]\n",
    "    gains_plot <- gains_plot + list(geom_line(data=df), \n",
    "                                    geom_point(data=df))+ \n",
    "      annotate(\"text\", x = .4, y = .9-i*.075, hjust = 0, label = auc_map[[i]], size = 5)\n",
    "  }\n",
    "  \n",
    "  \n",
    "  return(gains_plot)\n",
    "}\n"
   ]
  },
  {
   "cell_type": "code",
   "execution_count": null,
   "metadata": {},
   "outputs": [],
   "source": [
    "plot_multigains(            lift_df_list=lift_list,\n",
    "                             auc_list = auc_list,\n",
    "                             prop_positive = 0.1194494) "
   ]
  },
  {
   "cell_type": "code",
   "execution_count": null,
   "metadata": {},
   "outputs": [],
   "source": [
    "dim(expiry_test_predictions_assign)"
   ]
  },
  {
   "cell_type": "code",
   "execution_count": null,
   "metadata": {},
   "outputs": [],
   "source": [
    "lift_df"
   ]
  },
  {
   "cell_type": "code",
   "execution_count": null,
   "metadata": {},
   "outputs": [],
   "source": [
    "as.data.frame(auc_list)"
   ]
  },
  {
   "cell_type": "code",
   "execution_count": null,
   "metadata": {},
   "outputs": [],
   "source": []
  },
  {
   "cell_type": "markdown",
   "metadata": {},
   "source": [
    "# Assign Model based on Binary prediction for L10"
   ]
  },
  {
   "cell_type": "code",
   "execution_count": null,
   "metadata": {},
   "outputs": [],
   "source": [
    "model <- ranger(formula         = l10_win_01 ~ ., \n",
    "                data            = subset(train, select = -c(auc_win_01) ), \n",
    "                importance = 'impurity', \n",
    "                num.trees       = 500,\n",
    "                probability = TRUE,\n",
    "                replace = FALSE,\n",
    "                sample.fraction = .8,\n",
    "                seed            = 123,\n",
    "                respect.unordered.factors=TRUE)"
   ]
  },
  {
   "cell_type": "code",
   "execution_count": null,
   "metadata": {},
   "outputs": [],
   "source": [
    "pred <- predict(model, \n",
    "                data = test,\n",
    "                type=\"response\")$predictions\n",
    "head(pred)"
   ]
  },
  {
   "cell_type": "code",
   "execution_count": null,
   "metadata": {},
   "outputs": [],
   "source": [
    "pred <- as.data.frame(pred)\n",
    "(auc_vars <- names(pred))\n",
    "pred <- pred %>%\n",
    "    mutate (l10_win_01=sapply(apply(.[,c(auc_vars)], \n",
    "                          1, function(x) names(x)[which.max(x)]) , \n",
    "                                    function(s) if (length(s) == 0) NA else paste(s, collapse = \" \")) \n",
    "            ) \n",
    "head(pred)"
   ]
  },
  {
   "cell_type": "code",
   "execution_count": null,
   "metadata": {},
   "outputs": [],
   "source": [
    "test_pred <- cbind(test,pred)\n",
    "# test_pred <- test_pred %>% select()\n",
    "dim(test)\n",
    "dim(pred)\n",
    "dim(test_pred)\n",
    "head(test_pred)"
   ]
  },
  {
   "cell_type": "markdown",
   "metadata": {},
   "source": [
    "# Calc metrics"
   ]
  },
  {
   "cell_type": "markdown",
   "metadata": {},
   "source": [
    "## generate lookup for tld-reg model"
   ]
  },
  {
   "cell_type": "code",
   "execution_count": null,
   "metadata": {},
   "outputs": [],
   "source": [
    "head(expiry_test_meta)"
   ]
  },
  {
   "cell_type": "code",
   "execution_count": null,
   "metadata": {},
   "outputs": [],
   "source": [
    "expiry_test_meta_test <- expiry_test_meta[-train_ind,]\n",
    "\n",
    "dim(pred)\n",
    "dim(expiry_test_meta_test)\n",
    "\n",
    "expiry_test_meta_test <- cbind(expiry_test_meta_test, pred)\n",
    "expiry_test_meta_test <- expiry_test_meta_test %>% select(tld_registrar_index, l10_win_01)\n",
    "\n",
    "expiry_test_meta_test %>% head()"
   ]
  },
  {
   "cell_type": "markdown",
   "metadata": {},
   "source": [
    "## assign prediction based on lookup"
   ]
  },
  {
   "cell_type": "code",
   "execution_count": null,
   "metadata": {},
   "outputs": [],
   "source": [
    "expiry_test_predictions_assign <- merge(expiry_test_predictions, \n",
    "                                       expiry_test_meta_test, \n",
    "                                       on='tld_registrar_index',\n",
    "                                       all=TRUE)\n",
    "dim(expiry_test_predictions_assign)\n",
    "dim(expiry_test_predictions)\n",
    "head(expiry_test_predictions_assign)"
   ]
  },
  {
   "cell_type": "code",
   "execution_count": null,
   "metadata": {},
   "outputs": [],
   "source": [
    "# metalearning trained on 80% subset of 20% subset of expiry\n",
    "# tested on 20% subset of 20% of expiry\n",
    "\n",
    "table(expiry_test_predictions_assign$l10_win_01)/nrow(expiry_test_predictions_assign)\n",
    "sum(is.na(expiry_test_predictions_assign$l10_win_01))/nrow(expiry_test_predictions_assign)"
   ]
  },
  {
   "cell_type": "code",
   "execution_count": null,
   "metadata": {},
   "outputs": [],
   "source": [
    "# remove all NAs\n",
    "# ie elements of test which were used to train the model\n",
    "expiry_test_predictions_assign <- expiry_test_predictions_assign %>% filter(!is.na(l10_win_01))\n",
    "dim(expiry_test_predictions_assign)\n",
    "sum(is.na(expiry_test_predictions_assign$l10_win_01))/nrow(expiry_test_predictions_assign)\n",
    "head(expiry_test_predictions_assign)"
   ]
  },
  {
   "cell_type": "code",
   "execution_count": null,
   "metadata": {},
   "outputs": [],
   "source": [
    "expiry_test_predictions_assign$l10_win_pred <- \n",
    "    (expiry_test_predictions_assign$l10_win_01=='l10_seg2_glm_fb')*expiry_test_predictions_assign$pred_df_seg2_glm_fb+\n",
    "    (expiry_test_predictions_assign$l10_win_01=='l10_agg_rf_fb')*expiry_test_predictions_assign$pred_df_agg_rf_fb\n",
    "\n",
    "head(expiry_test_predictions_assign %>% select(pred_df_seg2_glm_fb,pred_df_agg_rf_fb,l10_win_01,l10_win_pred))"
   ]
  },
  {
   "cell_type": "code",
   "execution_count": null,
   "metadata": {},
   "outputs": [],
   "source": [
    "\n",
    "lift_list <- list()\n",
    "auc_list <- list()\n",
    "\n",
    "fallback_lift <- chart_lift(pred_df=expiry_test_predictions_assign,\n",
    "                        dep_var = \"renewal_status\",\n",
    "                        pred_var = \"l10_win_pred\") \n",
    "\n",
    "lift_list[[\"l10_win_pred\"]] <- fallback_lift\n",
    "auc_list[[\"l10_win_pred\"]] <- calc_auc(lift_df=fallback_lift)\n",
    "\n",
    "models <- c('pred_df_seg2_glm_fb','pred_df_agg_rf_fb')\n",
    "\n",
    "\n",
    "for (model in models){\n",
    "    model_lift <- chart_lift(pred_df=expiry_test_predictions_assign,\n",
    "                        dep_var = \"renewal_status\",\n",
    "                        pred_var = model) \n",
    "    \n",
    "    fallback_lift <- merge(fallback_lift, model_lift, by=c(\"P\"),all= TRUE, \n",
    "                           suffixes = c(\"\",\n",
    "                                        paste(\"_\",gsub(\"pred_df_\", \"\", model)) ))\n",
    "    \n",
    "    lift_list[[model]] <- model_lift\n",
    "    auc_list[[model]] <- calc_auc(lift_df=model_lift)\n",
    "}\n",
    "\n",
    "lift_df <- fallback_lift"
   ]
  },
  {
   "cell_type": "code",
   "execution_count": null,
   "metadata": {},
   "outputs": [],
   "source": [
    "length(lift_list)\n",
    "names(lift_list)\n",
    "sapply(lift_list, dim)\n",
    "lift_list[\"auc_win_pred\"]"
   ]
  },
  {
   "cell_type": "code",
   "execution_count": null,
   "metadata": {},
   "outputs": [],
   "source": [
    "prop.table(table(expiry_test_predictions_assign$renewal_status))"
   ]
  },
  {
   "cell_type": "code",
   "execution_count": null,
   "metadata": {},
   "outputs": [],
   "source": [
    "plot_multigains <- function (lift_df_list=list(seg_glm = lift_df, \n",
    "                                               ben_dtr = lift_df_2),\n",
    "                             auc_list = list(seg_glm = auc, \n",
    "                                             ben_dtr=auc_2),\n",
    "                             prop_positive = 0.1194494) {\n",
    "  \n",
    "  optimal_df <- data.frame( \"P\"=c(0,prop_positive,1.0),\n",
    "                            \"actu_renwd2\"=c(NA,NA,NA),\n",
    "                            \"gain\"=c(0,1.0,1.0),\n",
    "                            \"lift\"=c(NA,NA,NA))\n",
    "  \n",
    "  lift_df_list <- lapply(lift_df_list, function(df) {\n",
    "    df <- df %>%\n",
    "      add_row(P = 0, gain =0) %>%\n",
    "      arrange(P)\n",
    "  })\n",
    "\n",
    "  auc_lift_list = paste(lapply(auc_list, round, 3),sapply(lift_df_list, function(x) round(x[2,\"lift\"],2)), sep=\", \")\n",
    "  \n",
    "  auc_map = paste(names(lift_df_list),auc_lift_list, sep=\" = \")[1:length(lift_df_list)]\n",
    "  \n",
    "  \n",
    "  gains_plot <- ggplot(NULL, aes(P,  gain)) +\n",
    "    geom_line(data = lift_df_list[[1]] %>% slice(1, n())) +\n",
    "    \n",
    "    list(geom_line(data=optimal_df), geom_point(data=optimal_df)) +\n",
    "    \n",
    "    scale_y_continuous(breaks = seq(0, 1, by = .1), limits = c(0,1)) +\n",
    "    scale_x_continuous(breaks = seq(0, 1, by = .1)) +\n",
    "    labs(title = \"Cumulative Gains Plot\",\n",
    "         y = \"Cumulative Gain\",\n",
    "         x = \"Percentile\")+\n",
    "    theme(text = element_text(size=20))\n",
    "  \n",
    "  for(i in seq(length(lift_df_list))){\n",
    "    name = names(lift_df_list)[[i]]\n",
    "    df = lift_df_list[[i]]\n",
    "    auc = auc_list[[i]]\n",
    "    gains_plot <- gains_plot + list(geom_line(data=df), \n",
    "                                    geom_point(data=df))+ \n",
    "      annotate(\"text\", x = .4, y = .9-i*.075, hjust = 0, label = auc_map[[i]], size = 5)\n",
    "  }\n",
    "  \n",
    "  \n",
    "  return(gains_plot)\n",
    "}\n"
   ]
  },
  {
   "cell_type": "code",
   "execution_count": null,
   "metadata": {},
   "outputs": [],
   "source": [
    "plot_multigains(            lift_df_list=lift_list,\n",
    "                             auc_list = auc_list,\n",
    "                             prop_positive = 0.1194494) "
   ]
  },
  {
   "cell_type": "code",
   "execution_count": null,
   "metadata": {},
   "outputs": [],
   "source": [
    "dim(expiry_test_predictions_assign)"
   ]
  },
  {
   "cell_type": "code",
   "execution_count": null,
   "metadata": {},
   "outputs": [],
   "source": [
    "lift_df"
   ]
  },
  {
   "cell_type": "code",
   "execution_count": null,
   "metadata": {},
   "outputs": [],
   "source": [
    "as.data.frame(auc_list)"
   ]
  },
  {
   "cell_type": "markdown",
   "metadata": {},
   "source": [
    "# Examining how variables of high importance differ between classes in training & test data"
   ]
  },
  {
   "cell_type": "code",
   "execution_count": null,
   "metadata": {},
   "outputs": [],
   "source": [
    "model <- ranger(formula         = auc_win_01 ~ ., \n",
    "                data            = subset(train, select = -c(l10_win_01) ), \n",
    "                importance = 'impurity', \n",
    "                num.trees       = 500,\n",
    "                probability = TRUE,\n",
    "                replace = FALSE,\n",
    "                sample.fraction = .8,\n",
    "                seed            = 123,\n",
    "                respect.unordered.factors=TRUE)\n",
    "var_imp <- as.data.frame(importance(model))\n",
    "names(var_imp) <- 'imp'\n",
    "var_imp$var <- row.names(var_imp)\n",
    "row.names(var_imp) <- NULL\n",
    "var_imp <- var_imp %>% arrange(desc(imp))\n",
    "head(var_imp,10)"
   ]
  },
  {
   "cell_type": "code",
   "execution_count": null,
   "metadata": {},
   "outputs": [],
   "source": [
    "train %>% \n",
    "  group_by(auc_win_01) %>%\n",
    "  summarize(mean_tld_rat = mean(tld_rat),\n",
    "           mean_sldlen_kurt = mean(sldlen_kurt),\n",
    "           mean_gibbs_kurt = mean(gibbs_kurt),\n",
    "           mean_sldlen_skew = mean(sldlen_skew),\n",
    "           mean_gibbs_rng = mean(gibbs_rng),\n",
    "           mean_ren_prp = mean(ren_prp),\n",
    "           mean_sldlen_rng = mean(sldlen_rng),\n",
    "           mean_pdcnt_skew = mean(pdcnt_skew),\n",
    "           mean_regarpt_skew = mean(regarpt_skew)\n",
    "           )\n",
    "\n",
    "train %>% \n",
    "  group_by(auc_win_01, country_maj) %>%\n",
    "  tally() %>%\n",
    "  arrange(auc_win_01, desc(n)) %>% spread(country_maj, n)  %>% t()"
   ]
  },
  {
   "cell_type": "code",
   "execution_count": null,
   "metadata": {},
   "outputs": [],
   "source": []
  }
 ],
 "metadata": {
  "environment": {
   "name": "r-cpu.3-6.m48",
   "type": "gcloud",
   "uri": "gcr.io/deeplearning-platform-release/r-cpu.3-6:m48"
  },
  "kernelspec": {
   "display_name": "R",
   "language": "R",
   "name": "ir"
  },
  "language_info": {
   "codemirror_mode": "r",
   "file_extension": ".r",
   "mimetype": "text/x-r-source",
   "name": "R",
   "pygments_lexer": "r",
   "version": "3.6.3"
  }
 },
 "nbformat": 4,
 "nbformat_minor": 4
}
