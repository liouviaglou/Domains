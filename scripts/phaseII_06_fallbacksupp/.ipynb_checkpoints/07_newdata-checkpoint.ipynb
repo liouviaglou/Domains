{
 "cells": [
  {
   "cell_type": "markdown",
   "metadata": {},
   "source": [
    "# Analyzing Results of Metalearning Predictions script"
   ]
  },
  {
   "cell_type": "code",
   "execution_count": 1,
   "metadata": {},
   "outputs": [],
   "source": [
    "options(repr.matrix.max.cols=50, repr.matrix.max.rows=100)"
   ]
  },
  {
   "cell_type": "code",
   "execution_count": 2,
   "metadata": {},
   "outputs": [],
   "source": [
    "# install.packages(\"pkgcond\")"
   ]
  },
  {
   "cell_type": "code",
   "execution_count": 3,
   "metadata": {},
   "outputs": [
    {
     "name": "stderr",
     "output_type": "stream",
     "text": [
      "\n",
      "Attaching package: ‘dplyr’\n",
      "\n",
      "\n",
      "The following objects are masked from ‘package:stats’:\n",
      "\n",
      "    filter, lag\n",
      "\n",
      "\n",
      "The following objects are masked from ‘package:base’:\n",
      "\n",
      "    intersect, setdiff, setequal, union\n",
      "\n",
      "\n",
      "\n",
      "Attaching package: ‘data.table’\n",
      "\n",
      "\n",
      "The following objects are masked from ‘package:dplyr’:\n",
      "\n",
      "    between, first, last\n",
      "\n",
      "\n",
      "Loading required package: grid\n",
      "\n",
      "Loading required package: libcoin\n",
      "\n",
      "Loading required package: mvtnorm\n",
      "\n",
      "Loading required package: lattice\n",
      "\n",
      "Loading required package: ggplot2\n",
      "\n",
      "randomForest 4.6-14\n",
      "\n",
      "Type rfNews() to see new features/changes/bug fixes.\n",
      "\n",
      "\n",
      "Attaching package: ‘randomForest’\n",
      "\n",
      "\n",
      "The following object is masked from ‘package:ggplot2’:\n",
      "\n",
      "    margin\n",
      "\n",
      "\n",
      "The following object is masked from ‘package:dplyr’:\n",
      "\n",
      "    combine\n",
      "\n",
      "\n",
      "\n",
      "Attaching package: ‘ranger’\n",
      "\n",
      "\n",
      "The following object is masked from ‘package:randomForest’:\n",
      "\n",
      "    importance\n",
      "\n",
      "\n",
      "\n",
      "Attaching package: ‘plotly’\n",
      "\n",
      "\n",
      "The following object is masked from ‘package:ggplot2’:\n",
      "\n",
      "    last_plot\n",
      "\n",
      "\n",
      "The following object is masked from ‘package:stats’:\n",
      "\n",
      "    filter\n",
      "\n",
      "\n",
      "The following object is masked from ‘package:graphics’:\n",
      "\n",
      "    layout\n",
      "\n",
      "\n",
      "\n",
      "Attaching package: ‘zoo’\n",
      "\n",
      "\n",
      "The following objects are masked from ‘package:base’:\n",
      "\n",
      "    as.Date, as.Date.numeric\n",
      "\n",
      "\n"
     ]
    },
    {
     "data": {
      "text/html": [
       "'/home/jupyter/Domains_202003/scripts/phaseII_06_fallbacksupp'"
      ],
      "text/latex": [
       "'/home/jupyter/Domains\\_202003/scripts/phaseII\\_06\\_fallbacksupp'"
      ],
      "text/markdown": [
       "'/home/jupyter/Domains_202003/scripts/phaseII_06_fallbacksupp'"
      ],
      "text/plain": [
       "[1] \"/home/jupyter/Domains_202003/scripts/phaseII_06_fallbacksupp\""
      ]
     },
     "metadata": {},
     "output_type": "display_data"
    }
   ],
   "source": [
    "library(dplyr)\n",
    "library(data.table)\n",
    "library(partykit)\n",
    "library(tictoc)\n",
    "library(caret)\n",
    "library(e1071)\n",
    "library(randomForest)\n",
    "library(ranger)\n",
    "\n",
    "#for 3d plotting\n",
    "library(akima)\n",
    "library(plotly)\n",
    "\n",
    "# for prep data\n",
    "# library(rPython)\n",
    "library(stringr)\n",
    "library(pbapply)\n",
    "library(stringdist)\n",
    "library(data.table)\n",
    "library(dominanceanalysis)\n",
    "library(zoo)\n",
    "\n",
    "\n",
    "getwd()"
   ]
  },
  {
   "cell_type": "code",
   "execution_count": 4,
   "metadata": {},
   "outputs": [],
   "source": [
    "# install.packages(c(\"zoo\"))"
   ]
  },
  {
   "cell_type": "code",
   "execution_count": 5,
   "metadata": {},
   "outputs": [
    {
     "name": "stderr",
     "output_type": "stream",
     "text": [
      "\n",
      "Attaching package: ‘tidyr’\n",
      "\n",
      "\n",
      "The following object is masked from ‘package:stringdist’:\n",
      "\n",
      "    extract\n",
      "\n",
      "\n"
     ]
    }
   ],
   "source": [
    "\n",
    "source('../orig/functions.R')\n",
    "\n",
    "source('../orig/functions_models.R')\n",
    "\n",
    "source('../phaseII_03_forest/functions_eval.R')\n"
   ]
  },
  {
   "cell_type": "code",
   "execution_count": 6,
   "metadata": {},
   "outputs": [],
   "source": [
    "source('functions_metalearning.R')"
   ]
  },
  {
   "cell_type": "code",
   "execution_count": 7,
   "metadata": {},
   "outputs": [
    {
     "name": "stdout",
     "output_type": "stream",
     "text": [
      "Loading data...Loaded 5427633 rows\n",
      "Removing 0 rows due to expiry_date constraints\n",
      "Removing 758186 rows due to renewed_count constraints\n",
      "Removing 7716 rows due to missing gibb_score\n",
      "... now dataset min(creation_date) is  2017-01-01 .\n"
     ]
    }
   ],
   "source": [
    "source('load_prep_data_expiry_2.R')\n",
    "\n",
    "# expiry_df\n",
    "# expiry_train_df \n",
    "# expiry_test_df \n",
    "# expiry_list\n",
    "# expiry_train_list\n",
    "# expiry_test_list"
   ]
  },
  {
   "cell_type": "markdown",
   "metadata": {},
   "source": [
    "# LOAD output"
   ]
  },
  {
   "cell_type": "code",
   "execution_count": 8,
   "metadata": {},
   "outputs": [
    {
     "data": {
      "text/html": [
       "<style>\n",
       ".list-inline {list-style: none; margin:0; padding: 0}\n",
       ".list-inline>li {display: inline-block}\n",
       ".list-inline>li:not(:last-child)::after {content: \"\\00b7\"; padding: 0 .5ex}\n",
       "</style>\n",
       "<ol class=list-inline><li>932347</li><li>39</li></ol>\n"
      ],
      "text/latex": [
       "\\begin{enumerate*}\n",
       "\\item 932347\n",
       "\\item 39\n",
       "\\end{enumerate*}\n"
      ],
      "text/markdown": [
       "1. 932347\n",
       "2. 39\n",
       "\n",
       "\n"
      ],
      "text/plain": [
       "[1] 932347     39"
      ]
     },
     "metadata": {},
     "output_type": "display_data"
    },
    {
     "data": {
      "text/html": [
       "<table>\n",
       "<caption>A data.frame: 6 × 39</caption>\n",
       "<thead>\n",
       "\t<tr><th></th><th scope=col>renewal_type</th><th scope=col>renewed_count</th><th scope=col>expiry_date</th><th scope=col>creation_date</th><th scope=col>status</th><th scope=col>domain_id</th><th scope=col>domain</th><th scope=col>registrar</th><th scope=col>reseller</th><th scope=col>reseller_country</th><th scope=col>registrant_country</th><th scope=col>reg_period</th><th scope=col>reg_revenue</th><th scope=col>reg_arpt</th><th scope=col>renew_mbg</th><th scope=col>renewal_item_id</th><th scope=col>renew_type</th><th scope=col>autorenew_type</th><th scope=col>renewal_status</th><th scope=col>renew_date</th><th scope=col>renew_arpt</th><th scope=col>gibb_score</th><th scope=col>pattern</th><th scope=col>pattern_domain_count</th><th scope=col>day_domains</th><th scope=col>sld_length</th><th scope=col>sld_type</th><th scope=col>sld_type2</th><th scope=col>tld</th><th scope=col>log_reg_arpt</th><th scope=col>tld_registrar_index</th><th scope=col>pred_agg_glm_ALL</th><th scope=col>pred_agg_rf_ALL</th><th scope=col>pred_agg_glm</th><th scope=col>pred_agg_rf</th><th scope=col>pred_seg_glm_ALL</th><th scope=col>pred_seg_rf_ALL</th><th scope=col>pred_seg2_glm_ALL</th><th scope=col>pred_seg2_rf_ALL</th></tr>\n",
       "\t<tr><th></th><th scope=col>&lt;fct&gt;</th><th scope=col>&lt;int&gt;</th><th scope=col>&lt;fct&gt;</th><th scope=col>&lt;fct&gt;</th><th scope=col>&lt;fct&gt;</th><th scope=col>&lt;int&gt;</th><th scope=col>&lt;fct&gt;</th><th scope=col>&lt;fct&gt;</th><th scope=col>&lt;fct&gt;</th><th scope=col>&lt;fct&gt;</th><th scope=col>&lt;fct&gt;</th><th scope=col>&lt;int&gt;</th><th scope=col>&lt;dbl&gt;</th><th scope=col>&lt;dbl&gt;</th><th scope=col>&lt;int&gt;</th><th scope=col>&lt;int&gt;</th><th scope=col>&lt;fct&gt;</th><th scope=col>&lt;fct&gt;</th><th scope=col>&lt;fct&gt;</th><th scope=col>&lt;fct&gt;</th><th scope=col>&lt;dbl&gt;</th><th scope=col>&lt;dbl&gt;</th><th scope=col>&lt;fct&gt;</th><th scope=col>&lt;int&gt;</th><th scope=col>&lt;int&gt;</th><th scope=col>&lt;int&gt;</th><th scope=col>&lt;fct&gt;</th><th scope=col>&lt;fct&gt;</th><th scope=col>&lt;fct&gt;</th><th scope=col>&lt;dbl&gt;</th><th scope=col>&lt;fct&gt;</th><th scope=col>&lt;dbl&gt;</th><th scope=col>&lt;dbl&gt;</th><th scope=col>&lt;dbl&gt;</th><th scope=col>&lt;dbl&gt;</th><th scope=col>&lt;dbl&gt;</th><th scope=col>&lt;dbl&gt;</th><th scope=col>&lt;dbl&gt;</th><th scope=col>&lt;dbl&gt;</th></tr>\n",
       "</thead>\n",
       "<tbody>\n",
       "\t<tr><th scope=row>1</th><td>FirstTime</td><td>1</td><td>2019-11-08</td><td>2018-11-08</td><td>Active</td><td>82167309</td><td>viralherbs.pw</td><td>Namecheap</td><td>Namecheap</td><td>United States</td><td>NA</td><td>1</td><td>0.48</td><td>0.48</td><td>0</td><td>248714055</td><td>auto-renewal</td><td>realized  </td><td>Renewed   </td><td>2019-11-08</td><td>7.5</td><td>3.39</td><td>viralhealh</td><td>2</td><td> 576</td><td>10</td><td>l       </td><td>10l       </td><td>pw</td><td>-0.7339692</td><td>pwnamecheap</td><td>0.029</td><td>0.026318534</td><td>0.030</td><td>0.027366883</td><td>0.049</td><td>0.02752752</td><td>0.02812901</td><td>0.024447474</td></tr>\n",
       "\t<tr><th scope=row>2</th><td>FirstTime</td><td>1</td><td>2019-08-05</td><td>2018-08-05</td><td>Active</td><td>73624034</td><td>ww3n.pw      </td><td>Namecheap</td><td>Namecheap</td><td>United States</td><td>NA</td><td>1</td><td>0.48</td><td>0.48</td><td>0</td><td>219523016</td><td>auto-renewal</td><td>unrealized</td><td>Not Renewd</td><td>2019-08-05</td><td>0.0</td><td>0.52</td><td>ww3n      </td><td>1</td><td> 257</td><td> 4</td><td>ln      </td><td>4ln       </td><td>pw</td><td>-0.7339692</td><td>pwnamecheap</td><td>0.024</td><td>0.023279615</td><td>0.024</td><td>0.026322543</td><td>0.062</td><td>0.02930435</td><td>0.07347816</td><td>0.025803420</td></tr>\n",
       "\t<tr><th scope=row>3</th><td>FirstTime</td><td>1</td><td>2019-08-11</td><td>2018-08-11</td><td>Active</td><td>74035654</td><td>dpasseresp.pw</td><td>Namecheap</td><td>Namecheap</td><td>United States</td><td>NA</td><td>1</td><td>0.48</td><td>0.48</td><td>0</td><td>221379481</td><td>auto-renewal</td><td>unrealized</td><td>Not Renewd</td><td>2019-08-11</td><td>7.0</td><td>4.65</td><td>pssders   </td><td>3</td><td> 353</td><td>10</td><td>l       </td><td>10l       </td><td>pw</td><td>-0.7339692</td><td>pwnamecheap</td><td>0.035</td><td>0.006462295</td><td>0.035</td><td>0.006085356</td><td>0.066</td><td>0.01232116</td><td>0.03516253</td><td>0.006186874</td></tr>\n",
       "\t<tr><th scope=row>4</th><td>FirstTime</td><td>1</td><td>2019-07-22</td><td>2018-07-22</td><td>Active</td><td>72660399</td><td>sexgirls.pw  </td><td>Namecheap</td><td>Namecheap</td><td>United States</td><td>NA</td><td>1</td><td>0.48</td><td>0.48</td><td>0</td><td>216639126</td><td>auto-renewal</td><td>unrealized</td><td>Not Renewd</td><td>2019-07-22</td><td>7.0</td><td>1.75</td><td>xgirl     </td><td>2</td><td>  80</td><td> 8</td><td>l       </td><td>8l        </td><td>pw</td><td>-0.7339692</td><td>pwnamecheap</td><td>0.048</td><td>0.075690545</td><td>0.048</td><td>0.080058013</td><td>0.098</td><td>0.06522605</td><td>0.06273875</td><td>0.059190735</td></tr>\n",
       "\t<tr><th scope=row>5</th><td>FirstTime</td><td>1</td><td>2019-07-07</td><td>2018-07-07</td><td>Active</td><td>71566430</td><td>yucief.pw    </td><td>Namecheap</td><td>Namecheap</td><td>United States</td><td>NA</td><td>1</td><td>0.48</td><td>0.48</td><td>0</td><td>213669206</td><td>auto-renewal</td><td>unrealized</td><td>Not Renewd</td><td>2019-07-07</td><td>7.0</td><td>1.52</td><td>cief      </td><td>3</td><td>1147</td><td> 6</td><td>l       </td><td>6l        </td><td>pw</td><td>-0.7339692</td><td>pwnamecheap</td><td>0.016</td><td>0.011064910</td><td>0.017</td><td>0.016695967</td><td>0.023</td><td>0.01608117</td><td>0.02273527</td><td>0.016375413</td></tr>\n",
       "\t<tr><th scope=row>6</th><td>FirstTime</td><td>1</td><td>2019-11-11</td><td>2018-11-11</td><td>Active</td><td>82528489</td><td>bio-x-keto.pw</td><td>Namecheap</td><td>Namecheap</td><td>United States</td><td>NA</td><td>1</td><td>0.48</td><td>0.48</td><td>0</td><td>250798210</td><td>auto-renewal</td><td>unrealized</td><td>Not Renewd</td><td>2019-11-11</td><td>7.5</td><td>2.16</td><td>bio-x-keto</td><td>1</td><td> 687</td><td>10</td><td>hyphen-l</td><td>10hyphen-l</td><td>pw</td><td>-0.7339692</td><td>pwnamecheap</td><td>0.030</td><td>0.009262425</td><td>0.031</td><td>0.009853222</td><td>0.038</td><td>0.01404684</td><td>0.02211356</td><td>0.009443069</td></tr>\n",
       "</tbody>\n",
       "</table>\n"
      ],
      "text/latex": [
       "A data.frame: 6 × 39\n",
       "\\begin{tabular}{r|lllllllllllllllllllllllllllllllllllllll}\n",
       "  & renewal\\_type & renewed\\_count & expiry\\_date & creation\\_date & status & domain\\_id & domain & registrar & reseller & reseller\\_country & registrant\\_country & reg\\_period & reg\\_revenue & reg\\_arpt & renew\\_mbg & renewal\\_item\\_id & renew\\_type & autorenew\\_type & renewal\\_status & renew\\_date & renew\\_arpt & gibb\\_score & pattern & pattern\\_domain\\_count & day\\_domains & sld\\_length & sld\\_type & sld\\_type2 & tld & log\\_reg\\_arpt & tld\\_registrar\\_index & pred\\_agg\\_glm\\_ALL & pred\\_agg\\_rf\\_ALL & pred\\_agg\\_glm & pred\\_agg\\_rf & pred\\_seg\\_glm\\_ALL & pred\\_seg\\_rf\\_ALL & pred\\_seg2\\_glm\\_ALL & pred\\_seg2\\_rf\\_ALL\\\\\n",
       "  & <fct> & <int> & <fct> & <fct> & <fct> & <int> & <fct> & <fct> & <fct> & <fct> & <fct> & <int> & <dbl> & <dbl> & <int> & <int> & <fct> & <fct> & <fct> & <fct> & <dbl> & <dbl> & <fct> & <int> & <int> & <int> & <fct> & <fct> & <fct> & <dbl> & <fct> & <dbl> & <dbl> & <dbl> & <dbl> & <dbl> & <dbl> & <dbl> & <dbl>\\\\\n",
       "\\hline\n",
       "\t1 & FirstTime & 1 & 2019-11-08 & 2018-11-08 & Active & 82167309 & viralherbs.pw & Namecheap & Namecheap & United States & NA & 1 & 0.48 & 0.48 & 0 & 248714055 & auto-renewal & realized   & Renewed    & 2019-11-08 & 7.5 & 3.39 & viralhealh & 2 &  576 & 10 & l        & 10l        & pw & -0.7339692 & pwnamecheap & 0.029 & 0.026318534 & 0.030 & 0.027366883 & 0.049 & 0.02752752 & 0.02812901 & 0.024447474\\\\\n",
       "\t2 & FirstTime & 1 & 2019-08-05 & 2018-08-05 & Active & 73624034 & ww3n.pw       & Namecheap & Namecheap & United States & NA & 1 & 0.48 & 0.48 & 0 & 219523016 & auto-renewal & unrealized & Not Renewd & 2019-08-05 & 0.0 & 0.52 & ww3n       & 1 &  257 &  4 & ln       & 4ln        & pw & -0.7339692 & pwnamecheap & 0.024 & 0.023279615 & 0.024 & 0.026322543 & 0.062 & 0.02930435 & 0.07347816 & 0.025803420\\\\\n",
       "\t3 & FirstTime & 1 & 2019-08-11 & 2018-08-11 & Active & 74035654 & dpasseresp.pw & Namecheap & Namecheap & United States & NA & 1 & 0.48 & 0.48 & 0 & 221379481 & auto-renewal & unrealized & Not Renewd & 2019-08-11 & 7.0 & 4.65 & pssders    & 3 &  353 & 10 & l        & 10l        & pw & -0.7339692 & pwnamecheap & 0.035 & 0.006462295 & 0.035 & 0.006085356 & 0.066 & 0.01232116 & 0.03516253 & 0.006186874\\\\\n",
       "\t4 & FirstTime & 1 & 2019-07-22 & 2018-07-22 & Active & 72660399 & sexgirls.pw   & Namecheap & Namecheap & United States & NA & 1 & 0.48 & 0.48 & 0 & 216639126 & auto-renewal & unrealized & Not Renewd & 2019-07-22 & 7.0 & 1.75 & xgirl      & 2 &   80 &  8 & l        & 8l         & pw & -0.7339692 & pwnamecheap & 0.048 & 0.075690545 & 0.048 & 0.080058013 & 0.098 & 0.06522605 & 0.06273875 & 0.059190735\\\\\n",
       "\t5 & FirstTime & 1 & 2019-07-07 & 2018-07-07 & Active & 71566430 & yucief.pw     & Namecheap & Namecheap & United States & NA & 1 & 0.48 & 0.48 & 0 & 213669206 & auto-renewal & unrealized & Not Renewd & 2019-07-07 & 7.0 & 1.52 & cief       & 3 & 1147 &  6 & l        & 6l         & pw & -0.7339692 & pwnamecheap & 0.016 & 0.011064910 & 0.017 & 0.016695967 & 0.023 & 0.01608117 & 0.02273527 & 0.016375413\\\\\n",
       "\t6 & FirstTime & 1 & 2019-11-11 & 2018-11-11 & Active & 82528489 & bio-x-keto.pw & Namecheap & Namecheap & United States & NA & 1 & 0.48 & 0.48 & 0 & 250798210 & auto-renewal & unrealized & Not Renewd & 2019-11-11 & 7.5 & 2.16 & bio-x-keto & 1 &  687 & 10 & hyphen-l & 10hyphen-l & pw & -0.7339692 & pwnamecheap & 0.030 & 0.009262425 & 0.031 & 0.009853222 & 0.038 & 0.01404684 & 0.02211356 & 0.009443069\\\\\n",
       "\\end{tabular}\n"
      ],
      "text/markdown": [
       "\n",
       "A data.frame: 6 × 39\n",
       "\n",
       "| <!--/--> | renewal_type &lt;fct&gt; | renewed_count &lt;int&gt; | expiry_date &lt;fct&gt; | creation_date &lt;fct&gt; | status &lt;fct&gt; | domain_id &lt;int&gt; | domain &lt;fct&gt; | registrar &lt;fct&gt; | reseller &lt;fct&gt; | reseller_country &lt;fct&gt; | registrant_country &lt;fct&gt; | reg_period &lt;int&gt; | reg_revenue &lt;dbl&gt; | reg_arpt &lt;dbl&gt; | renew_mbg &lt;int&gt; | renewal_item_id &lt;int&gt; | renew_type &lt;fct&gt; | autorenew_type &lt;fct&gt; | renewal_status &lt;fct&gt; | renew_date &lt;fct&gt; | renew_arpt &lt;dbl&gt; | gibb_score &lt;dbl&gt; | pattern &lt;fct&gt; | pattern_domain_count &lt;int&gt; | day_domains &lt;int&gt; | sld_length &lt;int&gt; | sld_type &lt;fct&gt; | sld_type2 &lt;fct&gt; | tld &lt;fct&gt; | log_reg_arpt &lt;dbl&gt; | tld_registrar_index &lt;fct&gt; | pred_agg_glm_ALL &lt;dbl&gt; | pred_agg_rf_ALL &lt;dbl&gt; | pred_agg_glm &lt;dbl&gt; | pred_agg_rf &lt;dbl&gt; | pred_seg_glm_ALL &lt;dbl&gt; | pred_seg_rf_ALL &lt;dbl&gt; | pred_seg2_glm_ALL &lt;dbl&gt; | pred_seg2_rf_ALL &lt;dbl&gt; |\n",
       "|---|---|---|---|---|---|---|---|---|---|---|---|---|---|---|---|---|---|---|---|---|---|---|---|---|---|---|---|---|---|---|---|---|---|---|---|---|---|---|---|\n",
       "| 1 | FirstTime | 1 | 2019-11-08 | 2018-11-08 | Active | 82167309 | viralherbs.pw | Namecheap | Namecheap | United States | NA | 1 | 0.48 | 0.48 | 0 | 248714055 | auto-renewal | realized   | Renewed    | 2019-11-08 | 7.5 | 3.39 | viralhealh | 2 |  576 | 10 | l        | 10l        | pw | -0.7339692 | pwnamecheap | 0.029 | 0.026318534 | 0.030 | 0.027366883 | 0.049 | 0.02752752 | 0.02812901 | 0.024447474 |\n",
       "| 2 | FirstTime | 1 | 2019-08-05 | 2018-08-05 | Active | 73624034 | ww3n.pw       | Namecheap | Namecheap | United States | NA | 1 | 0.48 | 0.48 | 0 | 219523016 | auto-renewal | unrealized | Not Renewd | 2019-08-05 | 0.0 | 0.52 | ww3n       | 1 |  257 |  4 | ln       | 4ln        | pw | -0.7339692 | pwnamecheap | 0.024 | 0.023279615 | 0.024 | 0.026322543 | 0.062 | 0.02930435 | 0.07347816 | 0.025803420 |\n",
       "| 3 | FirstTime | 1 | 2019-08-11 | 2018-08-11 | Active | 74035654 | dpasseresp.pw | Namecheap | Namecheap | United States | NA | 1 | 0.48 | 0.48 | 0 | 221379481 | auto-renewal | unrealized | Not Renewd | 2019-08-11 | 7.0 | 4.65 | pssders    | 3 |  353 | 10 | l        | 10l        | pw | -0.7339692 | pwnamecheap | 0.035 | 0.006462295 | 0.035 | 0.006085356 | 0.066 | 0.01232116 | 0.03516253 | 0.006186874 |\n",
       "| 4 | FirstTime | 1 | 2019-07-22 | 2018-07-22 | Active | 72660399 | sexgirls.pw   | Namecheap | Namecheap | United States | NA | 1 | 0.48 | 0.48 | 0 | 216639126 | auto-renewal | unrealized | Not Renewd | 2019-07-22 | 7.0 | 1.75 | xgirl      | 2 |   80 |  8 | l        | 8l         | pw | -0.7339692 | pwnamecheap | 0.048 | 0.075690545 | 0.048 | 0.080058013 | 0.098 | 0.06522605 | 0.06273875 | 0.059190735 |\n",
       "| 5 | FirstTime | 1 | 2019-07-07 | 2018-07-07 | Active | 71566430 | yucief.pw     | Namecheap | Namecheap | United States | NA | 1 | 0.48 | 0.48 | 0 | 213669206 | auto-renewal | unrealized | Not Renewd | 2019-07-07 | 7.0 | 1.52 | cief       | 3 | 1147 |  6 | l        | 6l         | pw | -0.7339692 | pwnamecheap | 0.016 | 0.011064910 | 0.017 | 0.016695967 | 0.023 | 0.01608117 | 0.02273527 | 0.016375413 |\n",
       "| 6 | FirstTime | 1 | 2019-11-11 | 2018-11-11 | Active | 82528489 | bio-x-keto.pw | Namecheap | Namecheap | United States | NA | 1 | 0.48 | 0.48 | 0 | 250798210 | auto-renewal | unrealized | Not Renewd | 2019-11-11 | 7.5 | 2.16 | bio-x-keto | 1 |  687 | 10 | hyphen-l | 10hyphen-l | pw | -0.7339692 | pwnamecheap | 0.030 | 0.009262425 | 0.031 | 0.009853222 | 0.038 | 0.01404684 | 0.02211356 | 0.009443069 |\n",
       "\n"
      ],
      "text/plain": [
       "  renewal_type renewed_count expiry_date creation_date status domain_id\n",
       "1 FirstTime    1             2019-11-08  2018-11-08    Active 82167309 \n",
       "2 FirstTime    1             2019-08-05  2018-08-05    Active 73624034 \n",
       "3 FirstTime    1             2019-08-11  2018-08-11    Active 74035654 \n",
       "4 FirstTime    1             2019-07-22  2018-07-22    Active 72660399 \n",
       "5 FirstTime    1             2019-07-07  2018-07-07    Active 71566430 \n",
       "6 FirstTime    1             2019-11-11  2018-11-11    Active 82528489 \n",
       "  domain        registrar reseller  reseller_country registrant_country\n",
       "1 viralherbs.pw Namecheap Namecheap United States    NA                \n",
       "2 ww3n.pw       Namecheap Namecheap United States    NA                \n",
       "3 dpasseresp.pw Namecheap Namecheap United States    NA                \n",
       "4 sexgirls.pw   Namecheap Namecheap United States    NA                \n",
       "5 yucief.pw     Namecheap Namecheap United States    NA                \n",
       "6 bio-x-keto.pw Namecheap Namecheap United States    NA                \n",
       "  reg_period reg_revenue reg_arpt renew_mbg renewal_item_id renew_type  \n",
       "1 1          0.48        0.48     0         248714055       auto-renewal\n",
       "2 1          0.48        0.48     0         219523016       auto-renewal\n",
       "3 1          0.48        0.48     0         221379481       auto-renewal\n",
       "4 1          0.48        0.48     0         216639126       auto-renewal\n",
       "5 1          0.48        0.48     0         213669206       auto-renewal\n",
       "6 1          0.48        0.48     0         250798210       auto-renewal\n",
       "  autorenew_type renewal_status renew_date renew_arpt gibb_score pattern   \n",
       "1 realized       Renewed        2019-11-08 7.5        3.39       viralhealh\n",
       "2 unrealized     Not Renewd     2019-08-05 0.0        0.52       ww3n      \n",
       "3 unrealized     Not Renewd     2019-08-11 7.0        4.65       pssders   \n",
       "4 unrealized     Not Renewd     2019-07-22 7.0        1.75       xgirl     \n",
       "5 unrealized     Not Renewd     2019-07-07 7.0        1.52       cief      \n",
       "6 unrealized     Not Renewd     2019-11-11 7.5        2.16       bio-x-keto\n",
       "  pattern_domain_count day_domains sld_length sld_type sld_type2  tld\n",
       "1 2                     576        10         l        10l        pw \n",
       "2 1                     257         4         ln       4ln        pw \n",
       "3 3                     353        10         l        10l        pw \n",
       "4 2                      80         8         l        8l         pw \n",
       "5 3                    1147         6         l        6l         pw \n",
       "6 1                     687        10         hyphen-l 10hyphen-l pw \n",
       "  log_reg_arpt tld_registrar_index pred_agg_glm_ALL pred_agg_rf_ALL\n",
       "1 -0.7339692   pwnamecheap         0.029            0.026318534    \n",
       "2 -0.7339692   pwnamecheap         0.024            0.023279615    \n",
       "3 -0.7339692   pwnamecheap         0.035            0.006462295    \n",
       "4 -0.7339692   pwnamecheap         0.048            0.075690545    \n",
       "5 -0.7339692   pwnamecheap         0.016            0.011064910    \n",
       "6 -0.7339692   pwnamecheap         0.030            0.009262425    \n",
       "  pred_agg_glm pred_agg_rf pred_seg_glm_ALL pred_seg_rf_ALL pred_seg2_glm_ALL\n",
       "1 0.030        0.027366883 0.049            0.02752752      0.02812901       \n",
       "2 0.024        0.026322543 0.062            0.02930435      0.07347816       \n",
       "3 0.035        0.006085356 0.066            0.01232116      0.03516253       \n",
       "4 0.048        0.080058013 0.098            0.06522605      0.06273875       \n",
       "5 0.017        0.016695967 0.023            0.01608117      0.02273527       \n",
       "6 0.031        0.009853222 0.038            0.01404684      0.02211356       \n",
       "  pred_seg2_rf_ALL\n",
       "1 0.024447474     \n",
       "2 0.025803420     \n",
       "3 0.006186874     \n",
       "4 0.059190735     \n",
       "5 0.016375413     \n",
       "6 0.009443069     "
      ]
     },
     "metadata": {},
     "output_type": "display_data"
    }
   ],
   "source": [
    "preds_df1 <- read.csv('../../data/output/models_20201104/preds.csv')\n",
    "preds_df2 <- read.csv('../../data/output/models_20201104/preds/preds.csv')\n",
    "preds_df <- rbind(preds_df1,preds_df2)\n",
    "dim(preds_df)\n",
    "head(preds_df)"
   ]
  },
  {
   "cell_type": "markdown",
   "metadata": {},
   "source": [
    "## ensure correct nrow()"
   ]
  },
  {
   "cell_type": "code",
   "execution_count": 9,
   "metadata": {},
   "outputs": [
    {
     "data": {
      "text/html": [
       "<style>\n",
       ".list-inline {list-style: none; margin:0; padding: 0}\n",
       ".list-inline>li {display: inline-block}\n",
       ".list-inline>li:not(:last-child)::after {content: \"\\00b7\"; padding: 0 .5ex}\n",
       "</style>\n",
       "<ol class=list-inline><li>932347</li><li>31</li></ol>\n"
      ],
      "text/latex": [
       "\\begin{enumerate*}\n",
       "\\item 932347\n",
       "\\item 31\n",
       "\\end{enumerate*}\n"
      ],
      "text/markdown": [
       "1. 932347\n",
       "2. 31\n",
       "\n",
       "\n"
      ],
      "text/plain": [
       "[1] 932347     31"
      ]
     },
     "metadata": {},
     "output_type": "display_data"
    }
   ],
   "source": [
    "expiry_test_df %>% dim()"
   ]
  },
  {
   "cell_type": "markdown",
   "metadata": {},
   "source": [
    "# ASSESS overall model performance\n",
    "original code in 02_*"
   ]
  },
  {
   "cell_type": "code",
   "execution_count": 10,
   "metadata": {},
   "outputs": [
    {
     "data": {
      "text/html": [
       "<table>\n",
       "<caption>A data.frame: 6 × 39</caption>\n",
       "<thead>\n",
       "\t<tr><th></th><th scope=col>renewal_type</th><th scope=col>renewed_count</th><th scope=col>expiry_date</th><th scope=col>creation_date</th><th scope=col>status</th><th scope=col>domain_id</th><th scope=col>domain</th><th scope=col>registrar</th><th scope=col>reseller</th><th scope=col>reseller_country</th><th scope=col>registrant_country</th><th scope=col>reg_period</th><th scope=col>reg_revenue</th><th scope=col>reg_arpt</th><th scope=col>renew_mbg</th><th scope=col>renewal_item_id</th><th scope=col>renew_type</th><th scope=col>autorenew_type</th><th scope=col>renewal_status</th><th scope=col>renew_date</th><th scope=col>renew_arpt</th><th scope=col>gibb_score</th><th scope=col>pattern</th><th scope=col>pattern_domain_count</th><th scope=col>day_domains</th><th scope=col>sld_length</th><th scope=col>sld_type</th><th scope=col>sld_type2</th><th scope=col>tld</th><th scope=col>log_reg_arpt</th><th scope=col>tld_registrar_index</th><th scope=col>pred_agg_glm_ALL</th><th scope=col>pred_agg_rf_ALL</th><th scope=col>pred_agg_glm</th><th scope=col>pred_agg_rf</th><th scope=col>pred_seg_glm_ALL</th><th scope=col>pred_seg_rf_ALL</th><th scope=col>pred_seg2_glm_ALL</th><th scope=col>pred_seg2_rf_ALL</th></tr>\n",
       "\t<tr><th></th><th scope=col>&lt;fct&gt;</th><th scope=col>&lt;int&gt;</th><th scope=col>&lt;fct&gt;</th><th scope=col>&lt;fct&gt;</th><th scope=col>&lt;fct&gt;</th><th scope=col>&lt;int&gt;</th><th scope=col>&lt;fct&gt;</th><th scope=col>&lt;fct&gt;</th><th scope=col>&lt;fct&gt;</th><th scope=col>&lt;fct&gt;</th><th scope=col>&lt;fct&gt;</th><th scope=col>&lt;int&gt;</th><th scope=col>&lt;dbl&gt;</th><th scope=col>&lt;dbl&gt;</th><th scope=col>&lt;int&gt;</th><th scope=col>&lt;int&gt;</th><th scope=col>&lt;fct&gt;</th><th scope=col>&lt;fct&gt;</th><th scope=col>&lt;fct&gt;</th><th scope=col>&lt;fct&gt;</th><th scope=col>&lt;dbl&gt;</th><th scope=col>&lt;dbl&gt;</th><th scope=col>&lt;fct&gt;</th><th scope=col>&lt;int&gt;</th><th scope=col>&lt;int&gt;</th><th scope=col>&lt;int&gt;</th><th scope=col>&lt;fct&gt;</th><th scope=col>&lt;fct&gt;</th><th scope=col>&lt;fct&gt;</th><th scope=col>&lt;dbl&gt;</th><th scope=col>&lt;fct&gt;</th><th scope=col>&lt;dbl&gt;</th><th scope=col>&lt;dbl&gt;</th><th scope=col>&lt;dbl&gt;</th><th scope=col>&lt;dbl&gt;</th><th scope=col>&lt;dbl&gt;</th><th scope=col>&lt;dbl&gt;</th><th scope=col>&lt;dbl&gt;</th><th scope=col>&lt;dbl&gt;</th></tr>\n",
       "</thead>\n",
       "<tbody>\n",
       "\t<tr><th scope=row>1</th><td>FirstTime</td><td>1</td><td>2019-11-08</td><td>2018-11-08</td><td>Active</td><td>82167309</td><td>viralherbs.pw</td><td>Namecheap</td><td>Namecheap</td><td>United States</td><td>NA</td><td>1</td><td>0.48</td><td>0.48</td><td>0</td><td>248714055</td><td>auto-renewal</td><td>realized  </td><td>Renewed   </td><td>2019-11-08</td><td>7.5</td><td>3.39</td><td>viralhealh</td><td>2</td><td> 576</td><td>10</td><td>l       </td><td>10l       </td><td>pw</td><td>-0.7339692</td><td>pwnamecheap</td><td>0.029</td><td>0.026318534</td><td>0.030</td><td>0.027366883</td><td>0.049</td><td>0.02752752</td><td>0.02812901</td><td>0.024447474</td></tr>\n",
       "\t<tr><th scope=row>2</th><td>FirstTime</td><td>1</td><td>2019-08-05</td><td>2018-08-05</td><td>Active</td><td>73624034</td><td>ww3n.pw      </td><td>Namecheap</td><td>Namecheap</td><td>United States</td><td>NA</td><td>1</td><td>0.48</td><td>0.48</td><td>0</td><td>219523016</td><td>auto-renewal</td><td>unrealized</td><td>Not Renewd</td><td>2019-08-05</td><td>0.0</td><td>0.52</td><td>ww3n      </td><td>1</td><td> 257</td><td> 4</td><td>ln      </td><td>4ln       </td><td>pw</td><td>-0.7339692</td><td>pwnamecheap</td><td>0.024</td><td>0.023279615</td><td>0.024</td><td>0.026322543</td><td>0.062</td><td>0.02930435</td><td>0.07347816</td><td>0.025803420</td></tr>\n",
       "\t<tr><th scope=row>3</th><td>FirstTime</td><td>1</td><td>2019-08-11</td><td>2018-08-11</td><td>Active</td><td>74035654</td><td>dpasseresp.pw</td><td>Namecheap</td><td>Namecheap</td><td>United States</td><td>NA</td><td>1</td><td>0.48</td><td>0.48</td><td>0</td><td>221379481</td><td>auto-renewal</td><td>unrealized</td><td>Not Renewd</td><td>2019-08-11</td><td>7.0</td><td>4.65</td><td>pssders   </td><td>3</td><td> 353</td><td>10</td><td>l       </td><td>10l       </td><td>pw</td><td>-0.7339692</td><td>pwnamecheap</td><td>0.035</td><td>0.006462295</td><td>0.035</td><td>0.006085356</td><td>0.066</td><td>0.01232116</td><td>0.03516253</td><td>0.006186874</td></tr>\n",
       "\t<tr><th scope=row>4</th><td>FirstTime</td><td>1</td><td>2019-07-22</td><td>2018-07-22</td><td>Active</td><td>72660399</td><td>sexgirls.pw  </td><td>Namecheap</td><td>Namecheap</td><td>United States</td><td>NA</td><td>1</td><td>0.48</td><td>0.48</td><td>0</td><td>216639126</td><td>auto-renewal</td><td>unrealized</td><td>Not Renewd</td><td>2019-07-22</td><td>7.0</td><td>1.75</td><td>xgirl     </td><td>2</td><td>  80</td><td> 8</td><td>l       </td><td>8l        </td><td>pw</td><td>-0.7339692</td><td>pwnamecheap</td><td>0.048</td><td>0.075690545</td><td>0.048</td><td>0.080058013</td><td>0.098</td><td>0.06522605</td><td>0.06273875</td><td>0.059190735</td></tr>\n",
       "\t<tr><th scope=row>5</th><td>FirstTime</td><td>1</td><td>2019-07-07</td><td>2018-07-07</td><td>Active</td><td>71566430</td><td>yucief.pw    </td><td>Namecheap</td><td>Namecheap</td><td>United States</td><td>NA</td><td>1</td><td>0.48</td><td>0.48</td><td>0</td><td>213669206</td><td>auto-renewal</td><td>unrealized</td><td>Not Renewd</td><td>2019-07-07</td><td>7.0</td><td>1.52</td><td>cief      </td><td>3</td><td>1147</td><td> 6</td><td>l       </td><td>6l        </td><td>pw</td><td>-0.7339692</td><td>pwnamecheap</td><td>0.016</td><td>0.011064910</td><td>0.017</td><td>0.016695967</td><td>0.023</td><td>0.01608117</td><td>0.02273527</td><td>0.016375413</td></tr>\n",
       "\t<tr><th scope=row>6</th><td>FirstTime</td><td>1</td><td>2019-11-11</td><td>2018-11-11</td><td>Active</td><td>82528489</td><td>bio-x-keto.pw</td><td>Namecheap</td><td>Namecheap</td><td>United States</td><td>NA</td><td>1</td><td>0.48</td><td>0.48</td><td>0</td><td>250798210</td><td>auto-renewal</td><td>unrealized</td><td>Not Renewd</td><td>2019-11-11</td><td>7.5</td><td>2.16</td><td>bio-x-keto</td><td>1</td><td> 687</td><td>10</td><td>hyphen-l</td><td>10hyphen-l</td><td>pw</td><td>-0.7339692</td><td>pwnamecheap</td><td>0.030</td><td>0.009262425</td><td>0.031</td><td>0.009853222</td><td>0.038</td><td>0.01404684</td><td>0.02211356</td><td>0.009443069</td></tr>\n",
       "</tbody>\n",
       "</table>\n"
      ],
      "text/latex": [
       "A data.frame: 6 × 39\n",
       "\\begin{tabular}{r|lllllllllllllllllllllllllllllllllllllll}\n",
       "  & renewal\\_type & renewed\\_count & expiry\\_date & creation\\_date & status & domain\\_id & domain & registrar & reseller & reseller\\_country & registrant\\_country & reg\\_period & reg\\_revenue & reg\\_arpt & renew\\_mbg & renewal\\_item\\_id & renew\\_type & autorenew\\_type & renewal\\_status & renew\\_date & renew\\_arpt & gibb\\_score & pattern & pattern\\_domain\\_count & day\\_domains & sld\\_length & sld\\_type & sld\\_type2 & tld & log\\_reg\\_arpt & tld\\_registrar\\_index & pred\\_agg\\_glm\\_ALL & pred\\_agg\\_rf\\_ALL & pred\\_agg\\_glm & pred\\_agg\\_rf & pred\\_seg\\_glm\\_ALL & pred\\_seg\\_rf\\_ALL & pred\\_seg2\\_glm\\_ALL & pred\\_seg2\\_rf\\_ALL\\\\\n",
       "  & <fct> & <int> & <fct> & <fct> & <fct> & <int> & <fct> & <fct> & <fct> & <fct> & <fct> & <int> & <dbl> & <dbl> & <int> & <int> & <fct> & <fct> & <fct> & <fct> & <dbl> & <dbl> & <fct> & <int> & <int> & <int> & <fct> & <fct> & <fct> & <dbl> & <fct> & <dbl> & <dbl> & <dbl> & <dbl> & <dbl> & <dbl> & <dbl> & <dbl>\\\\\n",
       "\\hline\n",
       "\t1 & FirstTime & 1 & 2019-11-08 & 2018-11-08 & Active & 82167309 & viralherbs.pw & Namecheap & Namecheap & United States & NA & 1 & 0.48 & 0.48 & 0 & 248714055 & auto-renewal & realized   & Renewed    & 2019-11-08 & 7.5 & 3.39 & viralhealh & 2 &  576 & 10 & l        & 10l        & pw & -0.7339692 & pwnamecheap & 0.029 & 0.026318534 & 0.030 & 0.027366883 & 0.049 & 0.02752752 & 0.02812901 & 0.024447474\\\\\n",
       "\t2 & FirstTime & 1 & 2019-08-05 & 2018-08-05 & Active & 73624034 & ww3n.pw       & Namecheap & Namecheap & United States & NA & 1 & 0.48 & 0.48 & 0 & 219523016 & auto-renewal & unrealized & Not Renewd & 2019-08-05 & 0.0 & 0.52 & ww3n       & 1 &  257 &  4 & ln       & 4ln        & pw & -0.7339692 & pwnamecheap & 0.024 & 0.023279615 & 0.024 & 0.026322543 & 0.062 & 0.02930435 & 0.07347816 & 0.025803420\\\\\n",
       "\t3 & FirstTime & 1 & 2019-08-11 & 2018-08-11 & Active & 74035654 & dpasseresp.pw & Namecheap & Namecheap & United States & NA & 1 & 0.48 & 0.48 & 0 & 221379481 & auto-renewal & unrealized & Not Renewd & 2019-08-11 & 7.0 & 4.65 & pssders    & 3 &  353 & 10 & l        & 10l        & pw & -0.7339692 & pwnamecheap & 0.035 & 0.006462295 & 0.035 & 0.006085356 & 0.066 & 0.01232116 & 0.03516253 & 0.006186874\\\\\n",
       "\t4 & FirstTime & 1 & 2019-07-22 & 2018-07-22 & Active & 72660399 & sexgirls.pw   & Namecheap & Namecheap & United States & NA & 1 & 0.48 & 0.48 & 0 & 216639126 & auto-renewal & unrealized & Not Renewd & 2019-07-22 & 7.0 & 1.75 & xgirl      & 2 &   80 &  8 & l        & 8l         & pw & -0.7339692 & pwnamecheap & 0.048 & 0.075690545 & 0.048 & 0.080058013 & 0.098 & 0.06522605 & 0.06273875 & 0.059190735\\\\\n",
       "\t5 & FirstTime & 1 & 2019-07-07 & 2018-07-07 & Active & 71566430 & yucief.pw     & Namecheap & Namecheap & United States & NA & 1 & 0.48 & 0.48 & 0 & 213669206 & auto-renewal & unrealized & Not Renewd & 2019-07-07 & 7.0 & 1.52 & cief       & 3 & 1147 &  6 & l        & 6l         & pw & -0.7339692 & pwnamecheap & 0.016 & 0.011064910 & 0.017 & 0.016695967 & 0.023 & 0.01608117 & 0.02273527 & 0.016375413\\\\\n",
       "\t6 & FirstTime & 1 & 2019-11-11 & 2018-11-11 & Active & 82528489 & bio-x-keto.pw & Namecheap & Namecheap & United States & NA & 1 & 0.48 & 0.48 & 0 & 250798210 & auto-renewal & unrealized & Not Renewd & 2019-11-11 & 7.5 & 2.16 & bio-x-keto & 1 &  687 & 10 & hyphen-l & 10hyphen-l & pw & -0.7339692 & pwnamecheap & 0.030 & 0.009262425 & 0.031 & 0.009853222 & 0.038 & 0.01404684 & 0.02211356 & 0.009443069\\\\\n",
       "\\end{tabular}\n"
      ],
      "text/markdown": [
       "\n",
       "A data.frame: 6 × 39\n",
       "\n",
       "| <!--/--> | renewal_type &lt;fct&gt; | renewed_count &lt;int&gt; | expiry_date &lt;fct&gt; | creation_date &lt;fct&gt; | status &lt;fct&gt; | domain_id &lt;int&gt; | domain &lt;fct&gt; | registrar &lt;fct&gt; | reseller &lt;fct&gt; | reseller_country &lt;fct&gt; | registrant_country &lt;fct&gt; | reg_period &lt;int&gt; | reg_revenue &lt;dbl&gt; | reg_arpt &lt;dbl&gt; | renew_mbg &lt;int&gt; | renewal_item_id &lt;int&gt; | renew_type &lt;fct&gt; | autorenew_type &lt;fct&gt; | renewal_status &lt;fct&gt; | renew_date &lt;fct&gt; | renew_arpt &lt;dbl&gt; | gibb_score &lt;dbl&gt; | pattern &lt;fct&gt; | pattern_domain_count &lt;int&gt; | day_domains &lt;int&gt; | sld_length &lt;int&gt; | sld_type &lt;fct&gt; | sld_type2 &lt;fct&gt; | tld &lt;fct&gt; | log_reg_arpt &lt;dbl&gt; | tld_registrar_index &lt;fct&gt; | pred_agg_glm_ALL &lt;dbl&gt; | pred_agg_rf_ALL &lt;dbl&gt; | pred_agg_glm &lt;dbl&gt; | pred_agg_rf &lt;dbl&gt; | pred_seg_glm_ALL &lt;dbl&gt; | pred_seg_rf_ALL &lt;dbl&gt; | pred_seg2_glm_ALL &lt;dbl&gt; | pred_seg2_rf_ALL &lt;dbl&gt; |\n",
       "|---|---|---|---|---|---|---|---|---|---|---|---|---|---|---|---|---|---|---|---|---|---|---|---|---|---|---|---|---|---|---|---|---|---|---|---|---|---|---|---|\n",
       "| 1 | FirstTime | 1 | 2019-11-08 | 2018-11-08 | Active | 82167309 | viralherbs.pw | Namecheap | Namecheap | United States | NA | 1 | 0.48 | 0.48 | 0 | 248714055 | auto-renewal | realized   | Renewed    | 2019-11-08 | 7.5 | 3.39 | viralhealh | 2 |  576 | 10 | l        | 10l        | pw | -0.7339692 | pwnamecheap | 0.029 | 0.026318534 | 0.030 | 0.027366883 | 0.049 | 0.02752752 | 0.02812901 | 0.024447474 |\n",
       "| 2 | FirstTime | 1 | 2019-08-05 | 2018-08-05 | Active | 73624034 | ww3n.pw       | Namecheap | Namecheap | United States | NA | 1 | 0.48 | 0.48 | 0 | 219523016 | auto-renewal | unrealized | Not Renewd | 2019-08-05 | 0.0 | 0.52 | ww3n       | 1 |  257 |  4 | ln       | 4ln        | pw | -0.7339692 | pwnamecheap | 0.024 | 0.023279615 | 0.024 | 0.026322543 | 0.062 | 0.02930435 | 0.07347816 | 0.025803420 |\n",
       "| 3 | FirstTime | 1 | 2019-08-11 | 2018-08-11 | Active | 74035654 | dpasseresp.pw | Namecheap | Namecheap | United States | NA | 1 | 0.48 | 0.48 | 0 | 221379481 | auto-renewal | unrealized | Not Renewd | 2019-08-11 | 7.0 | 4.65 | pssders    | 3 |  353 | 10 | l        | 10l        | pw | -0.7339692 | pwnamecheap | 0.035 | 0.006462295 | 0.035 | 0.006085356 | 0.066 | 0.01232116 | 0.03516253 | 0.006186874 |\n",
       "| 4 | FirstTime | 1 | 2019-07-22 | 2018-07-22 | Active | 72660399 | sexgirls.pw   | Namecheap | Namecheap | United States | NA | 1 | 0.48 | 0.48 | 0 | 216639126 | auto-renewal | unrealized | Not Renewd | 2019-07-22 | 7.0 | 1.75 | xgirl      | 2 |   80 |  8 | l        | 8l         | pw | -0.7339692 | pwnamecheap | 0.048 | 0.075690545 | 0.048 | 0.080058013 | 0.098 | 0.06522605 | 0.06273875 | 0.059190735 |\n",
       "| 5 | FirstTime | 1 | 2019-07-07 | 2018-07-07 | Active | 71566430 | yucief.pw     | Namecheap | Namecheap | United States | NA | 1 | 0.48 | 0.48 | 0 | 213669206 | auto-renewal | unrealized | Not Renewd | 2019-07-07 | 7.0 | 1.52 | cief       | 3 | 1147 |  6 | l        | 6l         | pw | -0.7339692 | pwnamecheap | 0.016 | 0.011064910 | 0.017 | 0.016695967 | 0.023 | 0.01608117 | 0.02273527 | 0.016375413 |\n",
       "| 6 | FirstTime | 1 | 2019-11-11 | 2018-11-11 | Active | 82528489 | bio-x-keto.pw | Namecheap | Namecheap | United States | NA | 1 | 0.48 | 0.48 | 0 | 250798210 | auto-renewal | unrealized | Not Renewd | 2019-11-11 | 7.5 | 2.16 | bio-x-keto | 1 |  687 | 10 | hyphen-l | 10hyphen-l | pw | -0.7339692 | pwnamecheap | 0.030 | 0.009262425 | 0.031 | 0.009853222 | 0.038 | 0.01404684 | 0.02211356 | 0.009443069 |\n",
       "\n"
      ],
      "text/plain": [
       "  renewal_type renewed_count expiry_date creation_date status domain_id\n",
       "1 FirstTime    1             2019-11-08  2018-11-08    Active 82167309 \n",
       "2 FirstTime    1             2019-08-05  2018-08-05    Active 73624034 \n",
       "3 FirstTime    1             2019-08-11  2018-08-11    Active 74035654 \n",
       "4 FirstTime    1             2019-07-22  2018-07-22    Active 72660399 \n",
       "5 FirstTime    1             2019-07-07  2018-07-07    Active 71566430 \n",
       "6 FirstTime    1             2019-11-11  2018-11-11    Active 82528489 \n",
       "  domain        registrar reseller  reseller_country registrant_country\n",
       "1 viralherbs.pw Namecheap Namecheap United States    NA                \n",
       "2 ww3n.pw       Namecheap Namecheap United States    NA                \n",
       "3 dpasseresp.pw Namecheap Namecheap United States    NA                \n",
       "4 sexgirls.pw   Namecheap Namecheap United States    NA                \n",
       "5 yucief.pw     Namecheap Namecheap United States    NA                \n",
       "6 bio-x-keto.pw Namecheap Namecheap United States    NA                \n",
       "  reg_period reg_revenue reg_arpt renew_mbg renewal_item_id renew_type  \n",
       "1 1          0.48        0.48     0         248714055       auto-renewal\n",
       "2 1          0.48        0.48     0         219523016       auto-renewal\n",
       "3 1          0.48        0.48     0         221379481       auto-renewal\n",
       "4 1          0.48        0.48     0         216639126       auto-renewal\n",
       "5 1          0.48        0.48     0         213669206       auto-renewal\n",
       "6 1          0.48        0.48     0         250798210       auto-renewal\n",
       "  autorenew_type renewal_status renew_date renew_arpt gibb_score pattern   \n",
       "1 realized       Renewed        2019-11-08 7.5        3.39       viralhealh\n",
       "2 unrealized     Not Renewd     2019-08-05 0.0        0.52       ww3n      \n",
       "3 unrealized     Not Renewd     2019-08-11 7.0        4.65       pssders   \n",
       "4 unrealized     Not Renewd     2019-07-22 7.0        1.75       xgirl     \n",
       "5 unrealized     Not Renewd     2019-07-07 7.0        1.52       cief      \n",
       "6 unrealized     Not Renewd     2019-11-11 7.5        2.16       bio-x-keto\n",
       "  pattern_domain_count day_domains sld_length sld_type sld_type2  tld\n",
       "1 2                     576        10         l        10l        pw \n",
       "2 1                     257         4         ln       4ln        pw \n",
       "3 3                     353        10         l        10l        pw \n",
       "4 2                      80         8         l        8l         pw \n",
       "5 3                    1147         6         l        6l         pw \n",
       "6 1                     687        10         hyphen-l 10hyphen-l pw \n",
       "  log_reg_arpt tld_registrar_index pred_agg_glm_ALL pred_agg_rf_ALL\n",
       "1 -0.7339692   pwnamecheap         0.029            0.026318534    \n",
       "2 -0.7339692   pwnamecheap         0.024            0.023279615    \n",
       "3 -0.7339692   pwnamecheap         0.035            0.006462295    \n",
       "4 -0.7339692   pwnamecheap         0.048            0.075690545    \n",
       "5 -0.7339692   pwnamecheap         0.016            0.011064910    \n",
       "6 -0.7339692   pwnamecheap         0.030            0.009262425    \n",
       "  pred_agg_glm pred_agg_rf pred_seg_glm_ALL pred_seg_rf_ALL pred_seg2_glm_ALL\n",
       "1 0.030        0.027366883 0.049            0.02752752      0.02812901       \n",
       "2 0.024        0.026322543 0.062            0.02930435      0.07347816       \n",
       "3 0.035        0.006085356 0.066            0.01232116      0.03516253       \n",
       "4 0.048        0.080058013 0.098            0.06522605      0.06273875       \n",
       "5 0.017        0.016695967 0.023            0.01608117      0.02273527       \n",
       "6 0.031        0.009853222 0.038            0.01404684      0.02211356       \n",
       "  pred_seg2_rf_ALL\n",
       "1 0.024447474     \n",
       "2 0.025803420     \n",
       "3 0.006186874     \n",
       "4 0.059190735     \n",
       "5 0.016375413     \n",
       "6 0.009443069     "
      ]
     },
     "metadata": {},
     "output_type": "display_data"
    }
   ],
   "source": [
    "head(preds_df)"
   ]
  },
  {
   "cell_type": "code",
   "execution_count": 11,
   "metadata": {},
   "outputs": [
    {
     "data": {
      "text/html": [
       "<table>\n",
       "<caption>A data.frame: 6 × 39</caption>\n",
       "<thead>\n",
       "\t<tr><th></th><th scope=col>renewal_type</th><th scope=col>renewed_count</th><th scope=col>expiry_date</th><th scope=col>creation_date</th><th scope=col>status</th><th scope=col>domain_id</th><th scope=col>domain</th><th scope=col>registrar</th><th scope=col>reseller</th><th scope=col>reseller_country</th><th scope=col>registrant_country</th><th scope=col>reg_period</th><th scope=col>reg_revenue</th><th scope=col>reg_arpt</th><th scope=col>renew_mbg</th><th scope=col>renewal_item_id</th><th scope=col>renew_type</th><th scope=col>autorenew_type</th><th scope=col>renewal_status</th><th scope=col>renew_date</th><th scope=col>renew_arpt</th><th scope=col>gibb_score</th><th scope=col>pattern</th><th scope=col>pattern_domain_count</th><th scope=col>day_domains</th><th scope=col>sld_length</th><th scope=col>sld_type</th><th scope=col>sld_type2</th><th scope=col>tld</th><th scope=col>log_reg_arpt</th><th scope=col>tld_registrar_index</th><th scope=col>pred_agg_glm_ALL</th><th scope=col>pred_agg_rf_ALL</th><th scope=col>pred_agg_glm</th><th scope=col>pred_agg_rf</th><th scope=col>pred_seg_glm_ALL</th><th scope=col>pred_seg_rf_ALL</th><th scope=col>pred_seg2_glm_ALL</th><th scope=col>pred_seg2_rf_ALL</th></tr>\n",
       "\t<tr><th></th><th scope=col>&lt;fct&gt;</th><th scope=col>&lt;int&gt;</th><th scope=col>&lt;fct&gt;</th><th scope=col>&lt;fct&gt;</th><th scope=col>&lt;fct&gt;</th><th scope=col>&lt;int&gt;</th><th scope=col>&lt;fct&gt;</th><th scope=col>&lt;fct&gt;</th><th scope=col>&lt;fct&gt;</th><th scope=col>&lt;fct&gt;</th><th scope=col>&lt;fct&gt;</th><th scope=col>&lt;int&gt;</th><th scope=col>&lt;dbl&gt;</th><th scope=col>&lt;dbl&gt;</th><th scope=col>&lt;int&gt;</th><th scope=col>&lt;int&gt;</th><th scope=col>&lt;fct&gt;</th><th scope=col>&lt;fct&gt;</th><th scope=col>&lt;fct&gt;</th><th scope=col>&lt;fct&gt;</th><th scope=col>&lt;dbl&gt;</th><th scope=col>&lt;dbl&gt;</th><th scope=col>&lt;fct&gt;</th><th scope=col>&lt;int&gt;</th><th scope=col>&lt;int&gt;</th><th scope=col>&lt;int&gt;</th><th scope=col>&lt;fct&gt;</th><th scope=col>&lt;fct&gt;</th><th scope=col>&lt;fct&gt;</th><th scope=col>&lt;dbl&gt;</th><th scope=col>&lt;fct&gt;</th><th scope=col>&lt;dbl&gt;</th><th scope=col>&lt;dbl&gt;</th><th scope=col>&lt;dbl&gt;</th><th scope=col>&lt;dbl&gt;</th><th scope=col>&lt;dbl&gt;</th><th scope=col>&lt;dbl&gt;</th><th scope=col>&lt;dbl&gt;</th><th scope=col>&lt;dbl&gt;</th></tr>\n",
       "</thead>\n",
       "<tbody>\n",
       "\t<tr><th scope=row>932342</th><td>FirstTime</td><td>1</td><td>2020-02-11</td><td>2019-02-11</td><td>Active</td><td>93333378</td><td>dyham.press          </td><td>Webnames      </td><td>Webnames      </td><td>Canada </td><td>NA</td><td>1</td><td>49</td><td>49</td><td>0</td><td>290654076</td><td>auto-renewal</td><td>unrealized</td><td>Not Renewd</td><td>2020-02-11</td><td>49</td><td> 1.27</td><td>dyham          </td><td>1</td><td>1</td><td> 5</td><td>l</td><td>5l </td><td>press</td><td>3.891820</td><td>presswebnames      </td><td>0.265</td><td>0.3899154</td><td>   NA</td><td>0.7706898</td><td>0.440</td><td>0.3502572</td><td>NA</td><td>NA</td></tr>\n",
       "\t<tr><th scope=row>932343</th><td>FirstTime</td><td>1</td><td>2019-07-05</td><td>2018-07-05</td><td>Active</td><td>71440360</td><td>mellanox.store       </td><td>Domain The Net</td><td>Domain The Net</td><td>Israel </td><td>NA</td><td>1</td><td>40</td><td>40</td><td>0</td><td>200279144</td><td>renewal     </td><td>NA        </td><td>Renewed   </td><td>2019-05-06</td><td>40</td><td> 5.54</td><td>mellanox       </td><td>1</td><td>1</td><td> 8</td><td>l</td><td>8l </td><td>store</td><td>3.688879</td><td>storedomain the net</td><td>0.766</td><td>0.4828190</td><td>   NA</td><td>0.8681941</td><td>0.977</td><td>0.8906595</td><td>NA</td><td>NA</td></tr>\n",
       "\t<tr><th scope=row>932344</th><td>FirstTime</td><td>1</td><td>2019-11-07</td><td>2018-11-07</td><td>Active</td><td>82102184</td><td><span style=white-space:pre-wrap>ceat.press           </span></td><td><span style=white-space:pre-wrap>1&amp;1 Internet  </span></td><td><span style=white-space:pre-wrap>Arsys         </span></td><td><span style=white-space:pre-wrap>Spain  </span></td><td>NA</td><td>1</td><td>49</td><td>49</td><td>0</td><td>248366815</td><td>auto-renewal</td><td><span style=white-space:pre-wrap>realized  </span></td><td><span style=white-space:pre-wrap>Renewed   </span></td><td>2019-11-07</td><td>49</td><td>10.44</td><td><span style=white-space:pre-wrap>ceat           </span></td><td>1</td><td>1</td><td> 4</td><td>l</td><td>4l </td><td>press</td><td>3.891820</td><td><span style=white-space:pre-wrap>pressarsys         </span></td><td>0.489</td><td>0.6627434</td><td><span style=white-space:pre-wrap>   NA</span></td><td>0.8305129</td><td>0.541</td><td>0.7518784</td><td>NA</td><td>NA</td></tr>\n",
       "\t<tr><th scope=row>932345</th><td>FirstTime</td><td>1</td><td>2019-07-05</td><td>2018-07-05</td><td>Active</td><td>71455605</td><td>crt.host             </td><td>PDR Ltd       </td><td>Redehost      </td><td>Brazil </td><td>NA</td><td>1</td><td> 3</td><td> 3</td><td>0</td><td>213418891</td><td>auto-renewal</td><td>unrealized</td><td>Not Renewd</td><td>2019-07-05</td><td>65</td><td> 3.67</td><td>crt            </td><td>1</td><td>1</td><td> 3</td><td>l</td><td>3l </td><td>host </td><td>1.098612</td><td>hostredehost       </td><td>0.091</td><td>0.3858803</td><td>   NA</td><td>0.6396910</td><td>0.217</td><td>0.4518804</td><td>NA</td><td>NA</td></tr>\n",
       "\t<tr><th scope=row>932346</th><td>FirstTime</td><td>1</td><td>2019-07-01</td><td>2018-07-01</td><td>Active</td><td>71238585</td><td>musictechnology.press</td><td>Key-Systems   </td><td>Home.pl       </td><td>Poland </td><td>NA</td><td>1</td><td>49</td><td>49</td><td>0</td><td>211150046</td><td>renewal     </td><td>NA        </td><td>Renewed   </td><td>2019-06-24</td><td>49</td><td> 3.29</td><td>musictechnology</td><td>1</td><td>1</td><td>15</td><td>l</td><td>15l</td><td>press</td><td>3.891820</td><td>presshome.pl       </td><td>0.072</td><td>0.5678307</td><td>0.047</td><td>0.2043780</td><td>0.363</td><td>0.7713502</td><td>NA</td><td>NA</td></tr>\n",
       "\t<tr><th scope=row>932347</th><td>FirstTime</td><td>1</td><td>2019-08-28</td><td>2018-08-28</td><td>Active</td><td>75267554</td><td>machineseeker.site   </td><td>Gransy        </td><td>Webonic       </td><td>Hungary</td><td>NA</td><td>1</td><td>20</td><td>20</td><td>0</td><td>222082036</td><td>renewal     </td><td>NA        </td><td>Renewed   </td><td>2019-08-14</td><td>20</td><td> 7.37</td><td>machineseeker  </td><td>1</td><td>1</td><td>13</td><td>l</td><td>13l</td><td>site </td><td>2.995732</td><td>sitewebonic        </td><td>0.634</td><td>0.8043772</td><td>   NA</td><td>0.5871087</td><td>1.000</td><td>0.7610000</td><td>NA</td><td>NA</td></tr>\n",
       "</tbody>\n",
       "</table>\n"
      ],
      "text/latex": [
       "A data.frame: 6 × 39\n",
       "\\begin{tabular}{r|lllllllllllllllllllllllllllllllllllllll}\n",
       "  & renewal\\_type & renewed\\_count & expiry\\_date & creation\\_date & status & domain\\_id & domain & registrar & reseller & reseller\\_country & registrant\\_country & reg\\_period & reg\\_revenue & reg\\_arpt & renew\\_mbg & renewal\\_item\\_id & renew\\_type & autorenew\\_type & renewal\\_status & renew\\_date & renew\\_arpt & gibb\\_score & pattern & pattern\\_domain\\_count & day\\_domains & sld\\_length & sld\\_type & sld\\_type2 & tld & log\\_reg\\_arpt & tld\\_registrar\\_index & pred\\_agg\\_glm\\_ALL & pred\\_agg\\_rf\\_ALL & pred\\_agg\\_glm & pred\\_agg\\_rf & pred\\_seg\\_glm\\_ALL & pred\\_seg\\_rf\\_ALL & pred\\_seg2\\_glm\\_ALL & pred\\_seg2\\_rf\\_ALL\\\\\n",
       "  & <fct> & <int> & <fct> & <fct> & <fct> & <int> & <fct> & <fct> & <fct> & <fct> & <fct> & <int> & <dbl> & <dbl> & <int> & <int> & <fct> & <fct> & <fct> & <fct> & <dbl> & <dbl> & <fct> & <int> & <int> & <int> & <fct> & <fct> & <fct> & <dbl> & <fct> & <dbl> & <dbl> & <dbl> & <dbl> & <dbl> & <dbl> & <dbl> & <dbl>\\\\\n",
       "\\hline\n",
       "\t932342 & FirstTime & 1 & 2020-02-11 & 2019-02-11 & Active & 93333378 & dyham.press           & Webnames       & Webnames       & Canada  & NA & 1 & 49 & 49 & 0 & 290654076 & auto-renewal & unrealized & Not Renewd & 2020-02-11 & 49 &  1.27 & dyham           & 1 & 1 &  5 & l & 5l  & press & 3.891820 & presswebnames       & 0.265 & 0.3899154 &    NA & 0.7706898 & 0.440 & 0.3502572 & NA & NA\\\\\n",
       "\t932343 & FirstTime & 1 & 2019-07-05 & 2018-07-05 & Active & 71440360 & mellanox.store        & Domain The Net & Domain The Net & Israel  & NA & 1 & 40 & 40 & 0 & 200279144 & renewal      & NA         & Renewed    & 2019-05-06 & 40 &  5.54 & mellanox        & 1 & 1 &  8 & l & 8l  & store & 3.688879 & storedomain the net & 0.766 & 0.4828190 &    NA & 0.8681941 & 0.977 & 0.8906595 & NA & NA\\\\\n",
       "\t932344 & FirstTime & 1 & 2019-11-07 & 2018-11-07 & Active & 82102184 & ceat.press            & 1\\&1 Internet   & Arsys          & Spain   & NA & 1 & 49 & 49 & 0 & 248366815 & auto-renewal & realized   & Renewed    & 2019-11-07 & 49 & 10.44 & ceat            & 1 & 1 &  4 & l & 4l  & press & 3.891820 & pressarsys          & 0.489 & 0.6627434 &    NA & 0.8305129 & 0.541 & 0.7518784 & NA & NA\\\\\n",
       "\t932345 & FirstTime & 1 & 2019-07-05 & 2018-07-05 & Active & 71455605 & crt.host              & PDR Ltd        & Redehost       & Brazil  & NA & 1 &  3 &  3 & 0 & 213418891 & auto-renewal & unrealized & Not Renewd & 2019-07-05 & 65 &  3.67 & crt             & 1 & 1 &  3 & l & 3l  & host  & 1.098612 & hostredehost        & 0.091 & 0.3858803 &    NA & 0.6396910 & 0.217 & 0.4518804 & NA & NA\\\\\n",
       "\t932346 & FirstTime & 1 & 2019-07-01 & 2018-07-01 & Active & 71238585 & musictechnology.press & Key-Systems    & Home.pl        & Poland  & NA & 1 & 49 & 49 & 0 & 211150046 & renewal      & NA         & Renewed    & 2019-06-24 & 49 &  3.29 & musictechnology & 1 & 1 & 15 & l & 15l & press & 3.891820 & presshome.pl        & 0.072 & 0.5678307 & 0.047 & 0.2043780 & 0.363 & 0.7713502 & NA & NA\\\\\n",
       "\t932347 & FirstTime & 1 & 2019-08-28 & 2018-08-28 & Active & 75267554 & machineseeker.site    & Gransy         & Webonic        & Hungary & NA & 1 & 20 & 20 & 0 & 222082036 & renewal      & NA         & Renewed    & 2019-08-14 & 20 &  7.37 & machineseeker   & 1 & 1 & 13 & l & 13l & site  & 2.995732 & sitewebonic         & 0.634 & 0.8043772 &    NA & 0.5871087 & 1.000 & 0.7610000 & NA & NA\\\\\n",
       "\\end{tabular}\n"
      ],
      "text/markdown": [
       "\n",
       "A data.frame: 6 × 39\n",
       "\n",
       "| <!--/--> | renewal_type &lt;fct&gt; | renewed_count &lt;int&gt; | expiry_date &lt;fct&gt; | creation_date &lt;fct&gt; | status &lt;fct&gt; | domain_id &lt;int&gt; | domain &lt;fct&gt; | registrar &lt;fct&gt; | reseller &lt;fct&gt; | reseller_country &lt;fct&gt; | registrant_country &lt;fct&gt; | reg_period &lt;int&gt; | reg_revenue &lt;dbl&gt; | reg_arpt &lt;dbl&gt; | renew_mbg &lt;int&gt; | renewal_item_id &lt;int&gt; | renew_type &lt;fct&gt; | autorenew_type &lt;fct&gt; | renewal_status &lt;fct&gt; | renew_date &lt;fct&gt; | renew_arpt &lt;dbl&gt; | gibb_score &lt;dbl&gt; | pattern &lt;fct&gt; | pattern_domain_count &lt;int&gt; | day_domains &lt;int&gt; | sld_length &lt;int&gt; | sld_type &lt;fct&gt; | sld_type2 &lt;fct&gt; | tld &lt;fct&gt; | log_reg_arpt &lt;dbl&gt; | tld_registrar_index &lt;fct&gt; | pred_agg_glm_ALL &lt;dbl&gt; | pred_agg_rf_ALL &lt;dbl&gt; | pred_agg_glm &lt;dbl&gt; | pred_agg_rf &lt;dbl&gt; | pred_seg_glm_ALL &lt;dbl&gt; | pred_seg_rf_ALL &lt;dbl&gt; | pred_seg2_glm_ALL &lt;dbl&gt; | pred_seg2_rf_ALL &lt;dbl&gt; |\n",
       "|---|---|---|---|---|---|---|---|---|---|---|---|---|---|---|---|---|---|---|---|---|---|---|---|---|---|---|---|---|---|---|---|---|---|---|---|---|---|---|---|\n",
       "| 932342 | FirstTime | 1 | 2020-02-11 | 2019-02-11 | Active | 93333378 | dyham.press           | Webnames       | Webnames       | Canada  | NA | 1 | 49 | 49 | 0 | 290654076 | auto-renewal | unrealized | Not Renewd | 2020-02-11 | 49 |  1.27 | dyham           | 1 | 1 |  5 | l | 5l  | press | 3.891820 | presswebnames       | 0.265 | 0.3899154 |    NA | 0.7706898 | 0.440 | 0.3502572 | NA | NA |\n",
       "| 932343 | FirstTime | 1 | 2019-07-05 | 2018-07-05 | Active | 71440360 | mellanox.store        | Domain The Net | Domain The Net | Israel  | NA | 1 | 40 | 40 | 0 | 200279144 | renewal      | NA         | Renewed    | 2019-05-06 | 40 |  5.54 | mellanox        | 1 | 1 |  8 | l | 8l  | store | 3.688879 | storedomain the net | 0.766 | 0.4828190 |    NA | 0.8681941 | 0.977 | 0.8906595 | NA | NA |\n",
       "| 932344 | FirstTime | 1 | 2019-11-07 | 2018-11-07 | Active | 82102184 | ceat.press            | 1&amp;1 Internet   | Arsys          | Spain   | NA | 1 | 49 | 49 | 0 | 248366815 | auto-renewal | realized   | Renewed    | 2019-11-07 | 49 | 10.44 | ceat            | 1 | 1 |  4 | l | 4l  | press | 3.891820 | pressarsys          | 0.489 | 0.6627434 |    NA | 0.8305129 | 0.541 | 0.7518784 | NA | NA |\n",
       "| 932345 | FirstTime | 1 | 2019-07-05 | 2018-07-05 | Active | 71455605 | crt.host              | PDR Ltd        | Redehost       | Brazil  | NA | 1 |  3 |  3 | 0 | 213418891 | auto-renewal | unrealized | Not Renewd | 2019-07-05 | 65 |  3.67 | crt             | 1 | 1 |  3 | l | 3l  | host  | 1.098612 | hostredehost        | 0.091 | 0.3858803 |    NA | 0.6396910 | 0.217 | 0.4518804 | NA | NA |\n",
       "| 932346 | FirstTime | 1 | 2019-07-01 | 2018-07-01 | Active | 71238585 | musictechnology.press | Key-Systems    | Home.pl        | Poland  | NA | 1 | 49 | 49 | 0 | 211150046 | renewal      | NA         | Renewed    | 2019-06-24 | 49 |  3.29 | musictechnology | 1 | 1 | 15 | l | 15l | press | 3.891820 | presshome.pl        | 0.072 | 0.5678307 | 0.047 | 0.2043780 | 0.363 | 0.7713502 | NA | NA |\n",
       "| 932347 | FirstTime | 1 | 2019-08-28 | 2018-08-28 | Active | 75267554 | machineseeker.site    | Gransy         | Webonic        | Hungary | NA | 1 | 20 | 20 | 0 | 222082036 | renewal      | NA         | Renewed    | 2019-08-14 | 20 |  7.37 | machineseeker   | 1 | 1 | 13 | l | 13l | site  | 2.995732 | sitewebonic         | 0.634 | 0.8043772 |    NA | 0.5871087 | 1.000 | 0.7610000 | NA | NA |\n",
       "\n"
      ],
      "text/plain": [
       "       renewal_type renewed_count expiry_date creation_date status domain_id\n",
       "932342 FirstTime    1             2020-02-11  2019-02-11    Active 93333378 \n",
       "932343 FirstTime    1             2019-07-05  2018-07-05    Active 71440360 \n",
       "932344 FirstTime    1             2019-11-07  2018-11-07    Active 82102184 \n",
       "932345 FirstTime    1             2019-07-05  2018-07-05    Active 71455605 \n",
       "932346 FirstTime    1             2019-07-01  2018-07-01    Active 71238585 \n",
       "932347 FirstTime    1             2019-08-28  2018-08-28    Active 75267554 \n",
       "       domain                registrar      reseller       reseller_country\n",
       "932342 dyham.press           Webnames       Webnames       Canada          \n",
       "932343 mellanox.store        Domain The Net Domain The Net Israel          \n",
       "932344 ceat.press            1&1 Internet   Arsys          Spain           \n",
       "932345 crt.host              PDR Ltd        Redehost       Brazil          \n",
       "932346 musictechnology.press Key-Systems    Home.pl        Poland          \n",
       "932347 machineseeker.site    Gransy         Webonic        Hungary         \n",
       "       registrant_country reg_period reg_revenue reg_arpt renew_mbg\n",
       "932342 NA                 1          49          49       0        \n",
       "932343 NA                 1          40          40       0        \n",
       "932344 NA                 1          49          49       0        \n",
       "932345 NA                 1           3           3       0        \n",
       "932346 NA                 1          49          49       0        \n",
       "932347 NA                 1          20          20       0        \n",
       "       renewal_item_id renew_type   autorenew_type renewal_status renew_date\n",
       "932342 290654076       auto-renewal unrealized     Not Renewd     2020-02-11\n",
       "932343 200279144       renewal      NA             Renewed        2019-05-06\n",
       "932344 248366815       auto-renewal realized       Renewed        2019-11-07\n",
       "932345 213418891       auto-renewal unrealized     Not Renewd     2019-07-05\n",
       "932346 211150046       renewal      NA             Renewed        2019-06-24\n",
       "932347 222082036       renewal      NA             Renewed        2019-08-14\n",
       "       renew_arpt gibb_score pattern         pattern_domain_count day_domains\n",
       "932342 49          1.27      dyham           1                    1          \n",
       "932343 40          5.54      mellanox        1                    1          \n",
       "932344 49         10.44      ceat            1                    1          \n",
       "932345 65          3.67      crt             1                    1          \n",
       "932346 49          3.29      musictechnology 1                    1          \n",
       "932347 20          7.37      machineseeker   1                    1          \n",
       "       sld_length sld_type sld_type2 tld   log_reg_arpt tld_registrar_index\n",
       "932342  5         l        5l        press 3.891820     presswebnames      \n",
       "932343  8         l        8l        store 3.688879     storedomain the net\n",
       "932344  4         l        4l        press 3.891820     pressarsys         \n",
       "932345  3         l        3l        host  1.098612     hostredehost       \n",
       "932346 15         l        15l       press 3.891820     presshome.pl       \n",
       "932347 13         l        13l       site  2.995732     sitewebonic        \n",
       "       pred_agg_glm_ALL pred_agg_rf_ALL pred_agg_glm pred_agg_rf\n",
       "932342 0.265            0.3899154          NA        0.7706898  \n",
       "932343 0.766            0.4828190          NA        0.8681941  \n",
       "932344 0.489            0.6627434          NA        0.8305129  \n",
       "932345 0.091            0.3858803          NA        0.6396910  \n",
       "932346 0.072            0.5678307       0.047        0.2043780  \n",
       "932347 0.634            0.8043772          NA        0.5871087  \n",
       "       pred_seg_glm_ALL pred_seg_rf_ALL pred_seg2_glm_ALL pred_seg2_rf_ALL\n",
       "932342 0.440            0.3502572       NA                NA              \n",
       "932343 0.977            0.8906595       NA                NA              \n",
       "932344 0.541            0.7518784       NA                NA              \n",
       "932345 0.217            0.4518804       NA                NA              \n",
       "932346 0.363            0.7713502       NA                NA              \n",
       "932347 1.000            0.7610000       NA                NA              "
      ]
     },
     "metadata": {},
     "output_type": "display_data"
    }
   ],
   "source": [
    "tail(preds_df)"
   ]
  },
  {
   "cell_type": "code",
   "execution_count": 14,
   "metadata": {},
   "outputs": [
    {
     "data": {
      "text/html": [
       "4"
      ],
      "text/latex": [
       "4"
      ],
      "text/markdown": [
       "4"
      ],
      "text/plain": [
       "[1] 4"
      ]
     },
     "metadata": {},
     "output_type": "display_data"
    },
    {
     "data": {
      "text/html": [
       "<table>\n",
       "<caption>A data.frame: 4 × 39</caption>\n",
       "<thead>\n",
       "\t<tr><th scope=col>renewal_type</th><th scope=col>renewed_count</th><th scope=col>expiry_date</th><th scope=col>creation_date</th><th scope=col>status</th><th scope=col>domain_id</th><th scope=col>domain</th><th scope=col>registrar</th><th scope=col>reseller</th><th scope=col>reseller_country</th><th scope=col>registrant_country</th><th scope=col>reg_period</th><th scope=col>reg_revenue</th><th scope=col>reg_arpt</th><th scope=col>renew_mbg</th><th scope=col>renewal_item_id</th><th scope=col>renew_type</th><th scope=col>autorenew_type</th><th scope=col>renewal_status</th><th scope=col>renew_date</th><th scope=col>renew_arpt</th><th scope=col>gibb_score</th><th scope=col>pattern</th><th scope=col>pattern_domain_count</th><th scope=col>day_domains</th><th scope=col>sld_length</th><th scope=col>sld_type</th><th scope=col>sld_type2</th><th scope=col>tld</th><th scope=col>log_reg_arpt</th><th scope=col>tld_registrar_index</th><th scope=col>pred_agg_glm_ALL</th><th scope=col>pred_agg_rf_ALL</th><th scope=col>pred_agg_glm</th><th scope=col>pred_agg_rf</th><th scope=col>pred_seg_glm_ALL</th><th scope=col>pred_seg_rf_ALL</th><th scope=col>pred_seg2_glm_ALL</th><th scope=col>pred_seg2_rf_ALL</th></tr>\n",
       "\t<tr><th scope=col>&lt;fct&gt;</th><th scope=col>&lt;int&gt;</th><th scope=col>&lt;fct&gt;</th><th scope=col>&lt;fct&gt;</th><th scope=col>&lt;fct&gt;</th><th scope=col>&lt;int&gt;</th><th scope=col>&lt;fct&gt;</th><th scope=col>&lt;fct&gt;</th><th scope=col>&lt;fct&gt;</th><th scope=col>&lt;fct&gt;</th><th scope=col>&lt;fct&gt;</th><th scope=col>&lt;int&gt;</th><th scope=col>&lt;dbl&gt;</th><th scope=col>&lt;dbl&gt;</th><th scope=col>&lt;int&gt;</th><th scope=col>&lt;int&gt;</th><th scope=col>&lt;fct&gt;</th><th scope=col>&lt;fct&gt;</th><th scope=col>&lt;fct&gt;</th><th scope=col>&lt;fct&gt;</th><th scope=col>&lt;dbl&gt;</th><th scope=col>&lt;dbl&gt;</th><th scope=col>&lt;fct&gt;</th><th scope=col>&lt;int&gt;</th><th scope=col>&lt;int&gt;</th><th scope=col>&lt;int&gt;</th><th scope=col>&lt;fct&gt;</th><th scope=col>&lt;fct&gt;</th><th scope=col>&lt;fct&gt;</th><th scope=col>&lt;dbl&gt;</th><th scope=col>&lt;fct&gt;</th><th scope=col>&lt;dbl&gt;</th><th scope=col>&lt;dbl&gt;</th><th scope=col>&lt;dbl&gt;</th><th scope=col>&lt;dbl&gt;</th><th scope=col>&lt;dbl&gt;</th><th scope=col>&lt;dbl&gt;</th><th scope=col>&lt;dbl&gt;</th><th scope=col>&lt;dbl&gt;</th></tr>\n",
       "</thead>\n",
       "<tbody>\n",
       "\t<tr><td>FirstTime</td><td>1</td><td>2020-08-30</td><td>2019-08-30</td><td>Active</td><td>122049036</td><td>qianxiyun.online  </td><td>                      </td><td>                      </td><td>             </td><td>NA</td><td>1</td><td>25</td><td>25</td><td>0</td><td>341703158</td><td>auto-renewal</td><td>unrealized</td><td>Not Renewd</td><td>2020-08-30</td><td> 6</td><td>0.63</td><td>qianxiyun  </td><td>1</td><td>1</td><td> 9</td><td>l</td><td>9l </td><td>online</td><td>3.218876</td><td>online                      </td><td>NA</td><td>0.9550391</td><td>NA</td><td>0.7713468</td><td>NA</td><td>NA</td><td>NA</td><td>NA</td></tr>\n",
       "\t<tr><td>FirstTime</td><td>1</td><td>2019-08-15</td><td>2018-08-15</td><td>Active</td><td> 74267354</td><td>ontarioart.space  </td><td>Register.ca           </td><td>Register.ca           </td><td>Canada       </td><td>NA</td><td>1</td><td> 6</td><td> 6</td><td>0</td><td>222880706</td><td>auto-renewal</td><td>unrealized</td><td>Not Renewd</td><td>2019-08-15</td><td>15</td><td>6.11</td><td>ontarioart </td><td>1</td><td>1</td><td>10</td><td>l</td><td>10l</td><td>space </td><td>1.791759</td><td>spaceregister.ca            </td><td>NA</td><td>0.9855667</td><td>NA</td><td>0.7286549</td><td>NA</td><td>NA</td><td>NA</td><td>NA</td></tr>\n",
       "\t<tr><td>FirstTime</td><td>1</td><td>2019-11-19</td><td>2018-11-19</td><td>Active</td><td> 83956614</td><td>frogjuggler.online</td><td>Imperial Registrations</td><td>Imperial Registrations</td><td>United States</td><td>NA</td><td>1</td><td>25</td><td>25</td><td>0</td><td>256244725</td><td>auto-renewal</td><td>unrealized</td><td>Not Renewd</td><td>2019-11-19</td><td>25</td><td>2.98</td><td>frogjuggler</td><td>1</td><td>1</td><td>11</td><td>l</td><td>11l</td><td>online</td><td>3.218876</td><td>onlineimperial registrations</td><td>NA</td><td>0.9948964</td><td>NA</td><td>0.8257238</td><td>NA</td><td>NA</td><td>NA</td><td>NA</td></tr>\n",
       "\t<tr><td>FirstTime</td><td>1</td><td>2019-11-19</td><td>2018-11-19</td><td>Active</td><td> 83956624</td><td>frogjuggler.site  </td><td>Imperial Registrations</td><td>Imperial Registrations</td><td>United States</td><td>NA</td><td>1</td><td>20</td><td>20</td><td>0</td><td>256244735</td><td>auto-renewal</td><td>unrealized</td><td>Not Renewd</td><td>2019-11-19</td><td>20</td><td>2.98</td><td>frogjuggler</td><td>1</td><td>1</td><td>11</td><td>l</td><td>11l</td><td>site  </td><td>2.995732</td><td>siteimperial registrations  </td><td>NA</td><td>0.9880768</td><td>NA</td><td>0.5626476</td><td>NA</td><td>NA</td><td>NA</td><td>NA</td></tr>\n",
       "</tbody>\n",
       "</table>\n"
      ],
      "text/latex": [
       "A data.frame: 4 × 39\n",
       "\\begin{tabular}{lllllllllllllllllllllllllllllllllllllll}\n",
       " renewal\\_type & renewed\\_count & expiry\\_date & creation\\_date & status & domain\\_id & domain & registrar & reseller & reseller\\_country & registrant\\_country & reg\\_period & reg\\_revenue & reg\\_arpt & renew\\_mbg & renewal\\_item\\_id & renew\\_type & autorenew\\_type & renewal\\_status & renew\\_date & renew\\_arpt & gibb\\_score & pattern & pattern\\_domain\\_count & day\\_domains & sld\\_length & sld\\_type & sld\\_type2 & tld & log\\_reg\\_arpt & tld\\_registrar\\_index & pred\\_agg\\_glm\\_ALL & pred\\_agg\\_rf\\_ALL & pred\\_agg\\_glm & pred\\_agg\\_rf & pred\\_seg\\_glm\\_ALL & pred\\_seg\\_rf\\_ALL & pred\\_seg2\\_glm\\_ALL & pred\\_seg2\\_rf\\_ALL\\\\\n",
       " <fct> & <int> & <fct> & <fct> & <fct> & <int> & <fct> & <fct> & <fct> & <fct> & <fct> & <int> & <dbl> & <dbl> & <int> & <int> & <fct> & <fct> & <fct> & <fct> & <dbl> & <dbl> & <fct> & <int> & <int> & <int> & <fct> & <fct> & <fct> & <dbl> & <fct> & <dbl> & <dbl> & <dbl> & <dbl> & <dbl> & <dbl> & <dbl> & <dbl>\\\\\n",
       "\\hline\n",
       "\t FirstTime & 1 & 2020-08-30 & 2019-08-30 & Active & 122049036 & qianxiyun.online   &                        &                        &               & NA & 1 & 25 & 25 & 0 & 341703158 & auto-renewal & unrealized & Not Renewd & 2020-08-30 &  6 & 0.63 & qianxiyun   & 1 & 1 &  9 & l & 9l  & online & 3.218876 & online                       & NA & 0.9550391 & NA & 0.7713468 & NA & NA & NA & NA\\\\\n",
       "\t FirstTime & 1 & 2019-08-15 & 2018-08-15 & Active &  74267354 & ontarioart.space   & Register.ca            & Register.ca            & Canada        & NA & 1 &  6 &  6 & 0 & 222880706 & auto-renewal & unrealized & Not Renewd & 2019-08-15 & 15 & 6.11 & ontarioart  & 1 & 1 & 10 & l & 10l & space  & 1.791759 & spaceregister.ca             & NA & 0.9855667 & NA & 0.7286549 & NA & NA & NA & NA\\\\\n",
       "\t FirstTime & 1 & 2019-11-19 & 2018-11-19 & Active &  83956614 & frogjuggler.online & Imperial Registrations & Imperial Registrations & United States & NA & 1 & 25 & 25 & 0 & 256244725 & auto-renewal & unrealized & Not Renewd & 2019-11-19 & 25 & 2.98 & frogjuggler & 1 & 1 & 11 & l & 11l & online & 3.218876 & onlineimperial registrations & NA & 0.9948964 & NA & 0.8257238 & NA & NA & NA & NA\\\\\n",
       "\t FirstTime & 1 & 2019-11-19 & 2018-11-19 & Active &  83956624 & frogjuggler.site   & Imperial Registrations & Imperial Registrations & United States & NA & 1 & 20 & 20 & 0 & 256244735 & auto-renewal & unrealized & Not Renewd & 2019-11-19 & 20 & 2.98 & frogjuggler & 1 & 1 & 11 & l & 11l & site   & 2.995732 & siteimperial registrations   & NA & 0.9880768 & NA & 0.5626476 & NA & NA & NA & NA\\\\\n",
       "\\end{tabular}\n"
      ],
      "text/markdown": [
       "\n",
       "A data.frame: 4 × 39\n",
       "\n",
       "| renewal_type &lt;fct&gt; | renewed_count &lt;int&gt; | expiry_date &lt;fct&gt; | creation_date &lt;fct&gt; | status &lt;fct&gt; | domain_id &lt;int&gt; | domain &lt;fct&gt; | registrar &lt;fct&gt; | reseller &lt;fct&gt; | reseller_country &lt;fct&gt; | registrant_country &lt;fct&gt; | reg_period &lt;int&gt; | reg_revenue &lt;dbl&gt; | reg_arpt &lt;dbl&gt; | renew_mbg &lt;int&gt; | renewal_item_id &lt;int&gt; | renew_type &lt;fct&gt; | autorenew_type &lt;fct&gt; | renewal_status &lt;fct&gt; | renew_date &lt;fct&gt; | renew_arpt &lt;dbl&gt; | gibb_score &lt;dbl&gt; | pattern &lt;fct&gt; | pattern_domain_count &lt;int&gt; | day_domains &lt;int&gt; | sld_length &lt;int&gt; | sld_type &lt;fct&gt; | sld_type2 &lt;fct&gt; | tld &lt;fct&gt; | log_reg_arpt &lt;dbl&gt; | tld_registrar_index &lt;fct&gt; | pred_agg_glm_ALL &lt;dbl&gt; | pred_agg_rf_ALL &lt;dbl&gt; | pred_agg_glm &lt;dbl&gt; | pred_agg_rf &lt;dbl&gt; | pred_seg_glm_ALL &lt;dbl&gt; | pred_seg_rf_ALL &lt;dbl&gt; | pred_seg2_glm_ALL &lt;dbl&gt; | pred_seg2_rf_ALL &lt;dbl&gt; |\n",
       "|---|---|---|---|---|---|---|---|---|---|---|---|---|---|---|---|---|---|---|---|---|---|---|---|---|---|---|---|---|---|---|---|---|---|---|---|---|---|---|\n",
       "| FirstTime | 1 | 2020-08-30 | 2019-08-30 | Active | 122049036 | qianxiyun.online   | <!----> | <!----> | <!----> | NA | 1 | 25 | 25 | 0 | 341703158 | auto-renewal | unrealized | Not Renewd | 2020-08-30 |  6 | 0.63 | qianxiyun   | 1 | 1 |  9 | l | 9l  | online | 3.218876 | online                       | NA | 0.9550391 | NA | 0.7713468 | NA | NA | NA | NA |\n",
       "| FirstTime | 1 | 2019-08-15 | 2018-08-15 | Active |  74267354 | ontarioart.space   | Register.ca            | Register.ca            | Canada        | NA | 1 |  6 |  6 | 0 | 222880706 | auto-renewal | unrealized | Not Renewd | 2019-08-15 | 15 | 6.11 | ontarioart  | 1 | 1 | 10 | l | 10l | space  | 1.791759 | spaceregister.ca             | NA | 0.9855667 | NA | 0.7286549 | NA | NA | NA | NA |\n",
       "| FirstTime | 1 | 2019-11-19 | 2018-11-19 | Active |  83956614 | frogjuggler.online | Imperial Registrations | Imperial Registrations | United States | NA | 1 | 25 | 25 | 0 | 256244725 | auto-renewal | unrealized | Not Renewd | 2019-11-19 | 25 | 2.98 | frogjuggler | 1 | 1 | 11 | l | 11l | online | 3.218876 | onlineimperial registrations | NA | 0.9948964 | NA | 0.8257238 | NA | NA | NA | NA |\n",
       "| FirstTime | 1 | 2019-11-19 | 2018-11-19 | Active |  83956624 | frogjuggler.site   | Imperial Registrations | Imperial Registrations | United States | NA | 1 | 20 | 20 | 0 | 256244735 | auto-renewal | unrealized | Not Renewd | 2019-11-19 | 20 | 2.98 | frogjuggler | 1 | 1 | 11 | l | 11l | site   | 2.995732 | siteimperial registrations   | NA | 0.9880768 | NA | 0.5626476 | NA | NA | NA | NA |\n",
       "\n"
      ],
      "text/plain": [
       "  renewal_type renewed_count expiry_date creation_date status domain_id\n",
       "1 FirstTime    1             2020-08-30  2019-08-30    Active 122049036\n",
       "2 FirstTime    1             2019-08-15  2018-08-15    Active  74267354\n",
       "3 FirstTime    1             2019-11-19  2018-11-19    Active  83956614\n",
       "4 FirstTime    1             2019-11-19  2018-11-19    Active  83956624\n",
       "  domain             registrar              reseller              \n",
       "1 qianxiyun.online                                                \n",
       "2 ontarioart.space   Register.ca            Register.ca           \n",
       "3 frogjuggler.online Imperial Registrations Imperial Registrations\n",
       "4 frogjuggler.site   Imperial Registrations Imperial Registrations\n",
       "  reseller_country registrant_country reg_period reg_revenue reg_arpt renew_mbg\n",
       "1                  NA                 1          25          25       0        \n",
       "2 Canada           NA                 1           6           6       0        \n",
       "3 United States    NA                 1          25          25       0        \n",
       "4 United States    NA                 1          20          20       0        \n",
       "  renewal_item_id renew_type   autorenew_type renewal_status renew_date\n",
       "1 341703158       auto-renewal unrealized     Not Renewd     2020-08-30\n",
       "2 222880706       auto-renewal unrealized     Not Renewd     2019-08-15\n",
       "3 256244725       auto-renewal unrealized     Not Renewd     2019-11-19\n",
       "4 256244735       auto-renewal unrealized     Not Renewd     2019-11-19\n",
       "  renew_arpt gibb_score pattern     pattern_domain_count day_domains sld_length\n",
       "1  6         0.63       qianxiyun   1                    1            9        \n",
       "2 15         6.11       ontarioart  1                    1           10        \n",
       "3 25         2.98       frogjuggler 1                    1           11        \n",
       "4 20         2.98       frogjuggler 1                    1           11        \n",
       "  sld_type sld_type2 tld    log_reg_arpt tld_registrar_index         \n",
       "1 l        9l        online 3.218876     online                      \n",
       "2 l        10l       space  1.791759     spaceregister.ca            \n",
       "3 l        11l       online 3.218876     onlineimperial registrations\n",
       "4 l        11l       site   2.995732     siteimperial registrations  \n",
       "  pred_agg_glm_ALL pred_agg_rf_ALL pred_agg_glm pred_agg_rf pred_seg_glm_ALL\n",
       "1 NA               0.9550391       NA           0.7713468   NA              \n",
       "2 NA               0.9855667       NA           0.7286549   NA              \n",
       "3 NA               0.9948964       NA           0.8257238   NA              \n",
       "4 NA               0.9880768       NA           0.5626476   NA              \n",
       "  pred_seg_rf_ALL pred_seg2_glm_ALL pred_seg2_rf_ALL\n",
       "1 NA              NA                NA              \n",
       "2 NA              NA                NA              \n",
       "3 NA              NA                NA              \n",
       "4 NA              NA                NA              "
      ]
     },
     "metadata": {},
     "output_type": "display_data"
    }
   ],
   "source": [
    "preds_df %>% filter(is.na(pred_agg_glm_ALL)) %>% nrow()\n",
    "preds_df %>% filter(is.na(pred_agg_glm_ALL)) "
   ]
  },
  {
   "cell_type": "code",
   "execution_count": 15,
   "metadata": {},
   "outputs": [],
   "source": [
    "\n",
    "lift_list <- list()\n",
    "auc_list <- list()\n",
    "\n",
    "fallback_lift <- chart_lift(pred_df=preds_df,\n",
    "                        dep_var = \"renewal_status\",\n",
    "                        pred_var = \"pred_agg_glm_ALL\") \n",
    "\n",
    "lift_list[[\"fallback\"]] <- fallback_lift\n",
    "auc_list[[\"fallback\"]] <- calc_auc(lift_df=fallback_lift)\n",
    "\n",
    "models <- c('pred_agg_glm_ALL','pred_agg_rf_ALL','pred_agg_glm','pred_agg_rf',\n",
    "            'pred_seg_glm_ALL', 'pred_seg_rf_ALL','pred_seg2_glm_ALL','pred_seg2_rf_ALL')\n",
    "\n",
    "\n",
    "for (model in models){\n",
    "    model_lift <- chart_lift(pred_df=preds_df,\n",
    "                        dep_var = \"renewal_status\",\n",
    "                        pred_var = model) \n",
    "    \n",
    "    fallback_lift <- merge(fallback_lift, model_lift, by=c(\"P\"),all= TRUE, \n",
    "                           suffixes = c(\"\",\n",
    "                                        paste(\"_\",gsub(\"pred_df_\", \"\", model)) ))\n",
    "    \n",
    "    lift_list[[model]] <- model_lift\n",
    "    auc_list[[model]] <- calc_auc(lift_df=model_lift)\n",
    "}\n",
    "\n",
    "lift_df <- fallback_lift"
   ]
  },
  {
   "cell_type": "code",
   "execution_count": 16,
   "metadata": {},
   "outputs": [
    {
     "data": {
      "text/html": [
       "9"
      ],
      "text/latex": [
       "9"
      ],
      "text/markdown": [
       "9"
      ],
      "text/plain": [
       "[1] 9"
      ]
     },
     "metadata": {},
     "output_type": "display_data"
    },
    {
     "data": {
      "text/html": [
       "<style>\n",
       ".list-inline {list-style: none; margin:0; padding: 0}\n",
       ".list-inline>li {display: inline-block}\n",
       ".list-inline>li:not(:last-child)::after {content: \"\\00b7\"; padding: 0 .5ex}\n",
       "</style>\n",
       "<ol class=list-inline><li>'fallback'</li><li>'pred_agg_glm_ALL'</li><li>'pred_agg_rf_ALL'</li><li>'pred_agg_glm'</li><li>'pred_agg_rf'</li><li>'pred_seg_glm_ALL'</li><li>'pred_seg_rf_ALL'</li><li>'pred_seg2_glm_ALL'</li><li>'pred_seg2_rf_ALL'</li></ol>\n"
      ],
      "text/latex": [
       "\\begin{enumerate*}\n",
       "\\item 'fallback'\n",
       "\\item 'pred\\_agg\\_glm\\_ALL'\n",
       "\\item 'pred\\_agg\\_rf\\_ALL'\n",
       "\\item 'pred\\_agg\\_glm'\n",
       "\\item 'pred\\_agg\\_rf'\n",
       "\\item 'pred\\_seg\\_glm\\_ALL'\n",
       "\\item 'pred\\_seg\\_rf\\_ALL'\n",
       "\\item 'pred\\_seg2\\_glm\\_ALL'\n",
       "\\item 'pred\\_seg2\\_rf\\_ALL'\n",
       "\\end{enumerate*}\n"
      ],
      "text/markdown": [
       "1. 'fallback'\n",
       "2. 'pred_agg_glm_ALL'\n",
       "3. 'pred_agg_rf_ALL'\n",
       "4. 'pred_agg_glm'\n",
       "5. 'pred_agg_rf'\n",
       "6. 'pred_seg_glm_ALL'\n",
       "7. 'pred_seg_rf_ALL'\n",
       "8. 'pred_seg2_glm_ALL'\n",
       "9. 'pred_seg2_rf_ALL'\n",
       "\n",
       "\n"
      ],
      "text/plain": [
       "[1] \"fallback\"          \"pred_agg_glm_ALL\"  \"pred_agg_rf_ALL\"  \n",
       "[4] \"pred_agg_glm\"      \"pred_agg_rf\"       \"pred_seg_glm_ALL\" \n",
       "[7] \"pred_seg_rf_ALL\"   \"pred_seg2_glm_ALL\" \"pred_seg2_rf_ALL\" "
      ]
     },
     "metadata": {},
     "output_type": "display_data"
    },
    {
     "data": {
      "text/html": [
       "<table>\n",
       "<caption>A matrix: 2 × 9 of type int</caption>\n",
       "<thead>\n",
       "\t<tr><th scope=col>fallback</th><th scope=col>pred_agg_glm_ALL</th><th scope=col>pred_agg_rf_ALL</th><th scope=col>pred_agg_glm</th><th scope=col>pred_agg_rf</th><th scope=col>pred_seg_glm_ALL</th><th scope=col>pred_seg_rf_ALL</th><th scope=col>pred_seg2_glm_ALL</th><th scope=col>pred_seg2_rf_ALL</th></tr>\n",
       "</thead>\n",
       "<tbody>\n",
       "\t<tr><td>10</td><td>10</td><td>10</td><td>10</td><td>10</td><td>10</td><td>10</td><td>10</td><td>10</td></tr>\n",
       "\t<tr><td> 4</td><td> 4</td><td> 4</td><td> 4</td><td> 4</td><td> 4</td><td> 4</td><td> 4</td><td> 4</td></tr>\n",
       "</tbody>\n",
       "</table>\n"
      ],
      "text/latex": [
       "A matrix: 2 × 9 of type int\n",
       "\\begin{tabular}{lllllllll}\n",
       " fallback & pred\\_agg\\_glm\\_ALL & pred\\_agg\\_rf\\_ALL & pred\\_agg\\_glm & pred\\_agg\\_rf & pred\\_seg\\_glm\\_ALL & pred\\_seg\\_rf\\_ALL & pred\\_seg2\\_glm\\_ALL & pred\\_seg2\\_rf\\_ALL\\\\\n",
       "\\hline\n",
       "\t 10 & 10 & 10 & 10 & 10 & 10 & 10 & 10 & 10\\\\\n",
       "\t  4 &  4 &  4 &  4 &  4 &  4 &  4 &  4 &  4\\\\\n",
       "\\end{tabular}\n"
      ],
      "text/markdown": [
       "\n",
       "A matrix: 2 × 9 of type int\n",
       "\n",
       "| fallback | pred_agg_glm_ALL | pred_agg_rf_ALL | pred_agg_glm | pred_agg_rf | pred_seg_glm_ALL | pred_seg_rf_ALL | pred_seg2_glm_ALL | pred_seg2_rf_ALL |\n",
       "|---|---|---|---|---|---|---|---|---|\n",
       "| 10 | 10 | 10 | 10 | 10 | 10 | 10 | 10 | 10 |\n",
       "|  4 |  4 |  4 |  4 |  4 |  4 |  4 |  4 |  4 |\n",
       "\n"
      ],
      "text/plain": [
       "     fallback pred_agg_glm_ALL pred_agg_rf_ALL pred_agg_glm pred_agg_rf\n",
       "[1,] 10       10               10              10           10         \n",
       "[2,]  4        4                4               4            4         \n",
       "     pred_seg_glm_ALL pred_seg_rf_ALL pred_seg2_glm_ALL pred_seg2_rf_ALL\n",
       "[1,] 10               10              10                10              \n",
       "[2,]  4                4               4                 4              "
      ]
     },
     "metadata": {},
     "output_type": "display_data"
    },
    {
     "data": {
      "text/html": [
       "<strong>$pred_agg_glm_ALL</strong> = <table>\n",
       "<caption>A data.frame: 10 × 4</caption>\n",
       "<thead>\n",
       "\t<tr><th scope=col>P</th><th scope=col>actu_renwd2</th><th scope=col>gain</th><th scope=col>lift</th></tr>\n",
       "\t<tr><th scope=col>&lt;dbl&gt;</th><th scope=col>&lt;int&gt;</th><th scope=col>&lt;dbl&gt;</th><th scope=col>&lt;dbl&gt;</th></tr>\n",
       "</thead>\n",
       "<tbody>\n",
       "\t<tr><td>0.1</td><td>38761</td><td>0.4651841</td><td>4.651841</td></tr>\n",
       "\t<tr><td>0.2</td><td>55745</td><td>0.6690149</td><td>3.345075</td></tr>\n",
       "\t<tr><td>0.3</td><td>66669</td><td>0.8001176</td><td>2.667059</td></tr>\n",
       "\t<tr><td>0.4</td><td>72939</td><td>0.8753660</td><td>2.188415</td></tr>\n",
       "\t<tr><td>0.5</td><td>77206</td><td>0.9265758</td><td>1.853152</td></tr>\n",
       "\t<tr><td>0.6</td><td>80335</td><td>0.9641280</td><td>1.606880</td></tr>\n",
       "\t<tr><td>0.7</td><td>82061</td><td>0.9848423</td><td>1.406918</td></tr>\n",
       "\t<tr><td>0.8</td><td>82939</td><td>0.9953795</td><td>1.244224</td></tr>\n",
       "\t<tr><td>0.9</td><td>83193</td><td>0.9984278</td><td>1.109364</td></tr>\n",
       "\t<tr><td>1.0</td><td>83324</td><td>1.0000000</td><td>1.000000</td></tr>\n",
       "</tbody>\n",
       "</table>\n"
      ],
      "text/latex": [
       "\\textbf{\\$pred\\_agg\\_glm\\_ALL} = A data.frame: 10 × 4\n",
       "\\begin{tabular}{llll}\n",
       " P & actu\\_renwd2 & gain & lift\\\\\n",
       " <dbl> & <int> & <dbl> & <dbl>\\\\\n",
       "\\hline\n",
       "\t 0.1 & 38761 & 0.4651841 & 4.651841\\\\\n",
       "\t 0.2 & 55745 & 0.6690149 & 3.345075\\\\\n",
       "\t 0.3 & 66669 & 0.8001176 & 2.667059\\\\\n",
       "\t 0.4 & 72939 & 0.8753660 & 2.188415\\\\\n",
       "\t 0.5 & 77206 & 0.9265758 & 1.853152\\\\\n",
       "\t 0.6 & 80335 & 0.9641280 & 1.606880\\\\\n",
       "\t 0.7 & 82061 & 0.9848423 & 1.406918\\\\\n",
       "\t 0.8 & 82939 & 0.9953795 & 1.244224\\\\\n",
       "\t 0.9 & 83193 & 0.9984278 & 1.109364\\\\\n",
       "\t 1.0 & 83324 & 1.0000000 & 1.000000\\\\\n",
       "\\end{tabular}\n"
      ],
      "text/markdown": [
       "**$pred_agg_glm_ALL** = \n",
       "A data.frame: 10 × 4\n",
       "\n",
       "| P &lt;dbl&gt; | actu_renwd2 &lt;int&gt; | gain &lt;dbl&gt; | lift &lt;dbl&gt; |\n",
       "|---|---|---|---|\n",
       "| 0.1 | 38761 | 0.4651841 | 4.651841 |\n",
       "| 0.2 | 55745 | 0.6690149 | 3.345075 |\n",
       "| 0.3 | 66669 | 0.8001176 | 2.667059 |\n",
       "| 0.4 | 72939 | 0.8753660 | 2.188415 |\n",
       "| 0.5 | 77206 | 0.9265758 | 1.853152 |\n",
       "| 0.6 | 80335 | 0.9641280 | 1.606880 |\n",
       "| 0.7 | 82061 | 0.9848423 | 1.406918 |\n",
       "| 0.8 | 82939 | 0.9953795 | 1.244224 |\n",
       "| 0.9 | 83193 | 0.9984278 | 1.109364 |\n",
       "| 1.0 | 83324 | 1.0000000 | 1.000000 |\n",
       "\n"
      ],
      "text/plain": [
       "$pred_agg_glm_ALL\n",
       "     P actu_renwd2      gain     lift\n",
       "1  0.1       38761 0.4651841 4.651841\n",
       "2  0.2       55745 0.6690149 3.345075\n",
       "3  0.3       66669 0.8001176 2.667059\n",
       "4  0.4       72939 0.8753660 2.188415\n",
       "5  0.5       77206 0.9265758 1.853152\n",
       "6  0.6       80335 0.9641280 1.606880\n",
       "7  0.7       82061 0.9848423 1.406918\n",
       "8  0.8       82939 0.9953795 1.244224\n",
       "9  0.9       83193 0.9984278 1.109364\n",
       "10 1.0       83324 1.0000000 1.000000\n"
      ]
     },
     "metadata": {},
     "output_type": "display_data"
    }
   ],
   "source": [
    "length(lift_list)\n",
    "names(lift_list)\n",
    "sapply(lift_list, dim)\n",
    "lift_list[\"pred_agg_glm_ALL\"]"
   ]
  },
  {
   "cell_type": "code",
   "execution_count": 17,
   "metadata": {},
   "outputs": [],
   "source": [
    "lift_list[[1]] <- NULL\n",
    "auc_list[[1]] <- NULL"
   ]
  },
  {
   "cell_type": "code",
   "execution_count": 18,
   "metadata": {},
   "outputs": [
    {
     "data": {
      "text/plain": [
       "\n",
       "Not Renewd    Renewed \n",
       "0.91062984 0.08937016 "
      ]
     },
     "metadata": {},
     "output_type": "display_data"
    }
   ],
   "source": [
    "prop.table(table(expiry_test_df$renewal_status))"
   ]
  },
  {
   "cell_type": "code",
   "execution_count": 19,
   "metadata": {},
   "outputs": [],
   "source": [
    "plot_multigains <- function (lift_df_list=list(seg_glm = lift_df, \n",
    "                                               ben_dtr = lift_df_2),\n",
    "                             auc_list = list(seg_glm = auc, \n",
    "                                             ben_dtr=auc_2),\n",
    "                             prop_positive = 0.1121167) {\n",
    "  \n",
    "  optimal_df <- data.frame( \"P\"=c(0,prop_positive,1.0),\n",
    "                            \"actu_renwd2\"=c(NA,NA,NA),\n",
    "                            \"gain\"=c(0,1.0,1.0),\n",
    "                            \"lift\"=c(NA,NA,NA))\n",
    "  \n",
    "  lift_df_list <- lapply(lift_df_list, function(df) {\n",
    "    df <- df %>%\n",
    "      add_row(P = 0, gain =0) %>%\n",
    "      arrange(P)\n",
    "  })\n",
    "\n",
    "  auc_lift_list = paste(lapply(auc_list, round, 3),sapply(lift_df_list, function(x) round(x[2,\"lift\"],2)), sep=\", \")\n",
    "  \n",
    "  auc_map = paste(names(lift_df_list),auc_lift_list, sep=\" = \")[1:length(lift_df_list)]\n",
    "  \n",
    "  \n",
    "  gains_plot <- ggplot(NULL, aes(P,  gain)) +\n",
    "    geom_line(data = lift_df_list[[1]] %>% slice(1, n())) +\n",
    "    \n",
    "    list(geom_line(data=optimal_df), geom_point(data=optimal_df)) +\n",
    "    \n",
    "    scale_y_continuous(breaks = seq(0, 1, by = .1), limits = c(0,1)) +\n",
    "    scale_x_continuous(breaks = seq(0, 1, by = .1)) +\n",
    "    labs(title = \"Cumulative Gains Plot\",\n",
    "         y = \"Cumulative Gain\",\n",
    "         x = \"Percentile\")+\n",
    "    theme(text = element_text(size=20))\n",
    "  \n",
    "  for(i in seq(length(lift_df_list))){\n",
    "    name = names(lift_df_list)[[i]]\n",
    "    df = lift_df_list[[i]]\n",
    "    auc = auc_list[[i]]\n",
    "    gains_plot <- gains_plot + list(geom_line(data=df), \n",
    "                                    geom_point(data=df))+ \n",
    "      annotate(\"text\", x = .35, y = .75-i*.075, hjust = 0, label = auc_map[[i]], size = 6)\n",
    "  }\n",
    "  \n",
    "  \n",
    "  return(gains_plot)\n",
    "}\n"
   ]
  },
  {
   "cell_type": "code",
   "execution_count": 20,
   "metadata": {},
   "outputs": [
    {
     "data": {
      "image/png": "[encoded data removed]",
      "text/plain": [
       "plot without title"
      ]
     },
     "metadata": {
      "image/png": {
       "height": 420,
       "width": 420
      },
      "text/plain": {
       "height": 420,
       "width": 420
      }
     },
     "output_type": "display_data"
    }
   ],
   "source": [
    "plot_multigains(            lift_df_list=lift_list,\n",
    "                             auc_list = auc_list,\n",
    "                             prop_positive = 0.08937016) "
   ]
  },
  {
   "cell_type": "code",
   "execution_count": 22,
   "metadata": {},
   "outputs": [
    {
     "data": {
      "text/html": [
       "<table>\n",
       "<caption>A matrix: 8 × 1 of type dbl</caption>\n",
       "<tbody>\n",
       "\t<tr><th scope=row>lift_ pred_agg_glm_ALL</th><td>4.651841</td></tr>\n",
       "\t<tr><th scope=row>lift_ pred_agg_rf_ALL</th><td>5.245187</td></tr>\n",
       "\t<tr><th scope=row>lift_ pred_agg_glm</th><td>4.396332</td></tr>\n",
       "\t<tr><th scope=row>lift_ pred_agg_rf</th><td>5.116893</td></tr>\n",
       "\t<tr><th scope=row>lift_ pred_seg_glm_ALL</th><td>4.730450</td></tr>\n",
       "\t<tr><th scope=row>lift_ pred_seg_rf_ALL</th><td>5.259589</td></tr>\n",
       "\t<tr><th scope=row>lift_ pred_seg2_glm_ALL</th><td>4.913470</td></tr>\n",
       "\t<tr><th scope=row>lift_ pred_seg2_rf_ALL</th><td>5.241827</td></tr>\n",
       "</tbody>\n",
       "</table>\n"
      ],
      "text/latex": [
       "A matrix: 8 × 1 of type dbl\n",
       "\\begin{tabular}{r|l}\n",
       "\tlift\\_ pred\\_agg\\_glm\\_ALL & 4.651841\\\\\n",
       "\tlift\\_ pred\\_agg\\_rf\\_ALL & 5.245187\\\\\n",
       "\tlift\\_ pred\\_agg\\_glm & 4.396332\\\\\n",
       "\tlift\\_ pred\\_agg\\_rf & 5.116893\\\\\n",
       "\tlift\\_ pred\\_seg\\_glm\\_ALL & 4.730450\\\\\n",
       "\tlift\\_ pred\\_seg\\_rf\\_ALL & 5.259589\\\\\n",
       "\tlift\\_ pred\\_seg2\\_glm\\_ALL & 4.913470\\\\\n",
       "\tlift\\_ pred\\_seg2\\_rf\\_ALL & 5.241827\\\\\n",
       "\\end{tabular}\n"
      ],
      "text/markdown": [
       "\n",
       "A matrix: 8 × 1 of type dbl\n",
       "\n",
       "| lift_ pred_agg_glm_ALL | 4.651841 |\n",
       "| lift_ pred_agg_rf_ALL | 5.245187 |\n",
       "| lift_ pred_agg_glm | 4.396332 |\n",
       "| lift_ pred_agg_rf | 5.116893 |\n",
       "| lift_ pred_seg_glm_ALL | 4.730450 |\n",
       "| lift_ pred_seg_rf_ALL | 5.259589 |\n",
       "| lift_ pred_seg2_glm_ALL | 4.913470 |\n",
       "| lift_ pred_seg2_rf_ALL | 5.241827 |\n",
       "\n"
      ],
      "text/plain": [
       "                        [,1]    \n",
       "lift_ pred_agg_glm_ALL  4.651841\n",
       "lift_ pred_agg_rf_ALL   5.245187\n",
       "lift_ pred_agg_glm      4.396332\n",
       "lift_ pred_agg_rf       5.116893\n",
       "lift_ pred_seg_glm_ALL  4.730450\n",
       "lift_ pred_seg_rf_ALL   5.259589\n",
       "lift_ pred_seg2_glm_ALL 4.913470\n",
       "lift_ pred_seg2_rf_ALL  5.241827"
      ]
     },
     "metadata": {},
     "output_type": "display_data"
    }
   ],
   "source": [
    "lift_df_10 <- lift_df %>% filter(P==0.1) %>% select(contains(\"lift_\")) %>% t()\n",
    "lift_df_10"
   ]
  },
  {
   "cell_type": "code",
   "execution_count": 24,
   "metadata": {},
   "outputs": [
    {
     "data": {
      "text/html": [
       "<strong>lift_ pred_agg_rf_ALL:</strong> 0.0675117852519479"
      ],
      "text/latex": [
       "\\textbf{lift\\textbackslash{}\\_ pred\\textbackslash{}\\_agg\\textbackslash{}\\_rf\\textbackslash{}\\_ALL:} 0.0675117852519479"
      ],
      "text/markdown": [
       "**lift_ pred_agg_rf_ALL:** 0.0675117852519479"
      ],
      "text/plain": [
       "lift_ pred_agg_rf_ALL \n",
       "           0.06751179 "
      ]
     },
     "metadata": {},
     "output_type": "display_data"
    }
   ],
   "source": [
    "# improvement in performance of agg_rf over seg2_glm - lift@10%\n",
    "(lift_df_10['lift_ pred_agg_rf_ALL',]-lift_df_10['lift_ pred_seg2_glm_ALL',])/lift_df_10['lift_ pred_seg2_glm_ALL',]"
   ]
  },
  {
   "cell_type": "code",
   "execution_count": 49,
   "metadata": {},
   "outputs": [
    {
     "data": {
      "text/html": [
       "<dl>\n",
       "\t<dt>$pred_agg_glm_ALL</dt>\n",
       "\t\t<dd>0.817903605203783</dd>\n",
       "\t<dt>$pred_agg_rf_ALL</dt>\n",
       "\t\t<dd>0.857929288080265</dd>\n",
       "\t<dt>$pred_agg_glm</dt>\n",
       "\t\t<dd>0.782203206759157</dd>\n",
       "\t<dt>$pred_agg_rf</dt>\n",
       "\t\t<dd>0.855487014545629</dd>\n",
       "\t<dt>$pred_seg_glm_ALL</dt>\n",
       "\t\t<dd>0.82301257740867</dd>\n",
       "\t<dt>$pred_seg_rf_ALL</dt>\n",
       "\t\t<dd>0.858651768998128</dd>\n",
       "\t<dt>$pred_seg2_glm_ALL</dt>\n",
       "\t\t<dd>0.832215208103308</dd>\n",
       "\t<dt>$pred_seg2_rf_ALL</dt>\n",
       "\t\t<dd>0.857451634583073</dd>\n",
       "</dl>\n"
      ],
      "text/latex": [
       "\\begin{description}\n",
       "\\item[\\$pred\\_agg\\_glm\\_ALL] 0.817903605203783\n",
       "\\item[\\$pred\\_agg\\_rf\\_ALL] 0.857929288080265\n",
       "\\item[\\$pred\\_agg\\_glm] 0.782203206759157\n",
       "\\item[\\$pred\\_agg\\_rf] 0.855487014545629\n",
       "\\item[\\$pred\\_seg\\_glm\\_ALL] 0.82301257740867\n",
       "\\item[\\$pred\\_seg\\_rf\\_ALL] 0.858651768998128\n",
       "\\item[\\$pred\\_seg2\\_glm\\_ALL] 0.832215208103308\n",
       "\\item[\\$pred\\_seg2\\_rf\\_ALL] 0.857451634583073\n",
       "\\end{description}\n"
      ],
      "text/markdown": [
       "$pred_agg_glm_ALL\n",
       ":   0.817903605203783\n",
       "$pred_agg_rf_ALL\n",
       ":   0.857929288080265\n",
       "$pred_agg_glm\n",
       ":   0.782203206759157\n",
       "$pred_agg_rf\n",
       ":   0.855487014545629\n",
       "$pred_seg_glm_ALL\n",
       ":   0.82301257740867\n",
       "$pred_seg_rf_ALL\n",
       ":   0.858651768998128\n",
       "$pred_seg2_glm_ALL\n",
       ":   0.832215208103308\n",
       "$pred_seg2_rf_ALL\n",
       ":   0.857451634583073\n",
       "\n",
       "\n"
      ],
      "text/plain": [
       "$pred_agg_glm_ALL\n",
       "[1] 0.8179036\n",
       "\n",
       "$pred_agg_rf_ALL\n",
       "[1] 0.8579293\n",
       "\n",
       "$pred_agg_glm\n",
       "[1] 0.7822032\n",
       "\n",
       "$pred_agg_rf\n",
       "[1] 0.855487\n",
       "\n",
       "$pred_seg_glm_ALL\n",
       "[1] 0.8230126\n",
       "\n",
       "$pred_seg_rf_ALL\n",
       "[1] 0.8586518\n",
       "\n",
       "$pred_seg2_glm_ALL\n",
       "[1] 0.8322152\n",
       "\n",
       "$pred_seg2_rf_ALL\n",
       "[1] 0.8574516\n"
      ]
     },
     "metadata": {},
     "output_type": "display_data"
    }
   ],
   "source": [
    "auc_list"
   ]
  },
  {
   "cell_type": "code",
   "execution_count": 25,
   "metadata": {},
   "outputs": [
    {
     "data": {
      "text/html": [
       "0.0308983538471523"
      ],
      "text/latex": [
       "0.0308983538471523"
      ],
      "text/markdown": [
       "0.0308983538471523"
      ],
      "text/plain": [
       "[1] 0.03089835"
      ]
     },
     "metadata": {},
     "output_type": "display_data"
    }
   ],
   "source": [
    "# improvement in performance of agg_rf over seg2_glm - auc\n",
    "(auc_list$pred_agg_rf_ALL-auc_list$pred_seg2_glm_ALL)/(auc_list$pred_seg2_glm_ALL)"
   ]
  },
  {
   "cell_type": "code",
   "execution_count": 39,
   "metadata": {},
   "outputs": [
    {
     "data": {
      "text/html": [
       "<table>\n",
       "<caption>A data.frame: 11 × 4</caption>\n",
       "<thead>\n",
       "\t<tr><th></th><th scope=col>agg_rf_0.089</th><th scope=col>seg2_glm_0.089</th><th scope=col>agg_rf_0.500</th><th scope=col>seg2_glm_0.500</th></tr>\n",
       "\t<tr><th></th><th scope=col>&lt;dbl&gt;</th><th scope=col>&lt;dbl&gt;</th><th scope=col>&lt;dbl&gt;</th><th scope=col>&lt;dbl&gt;</th></tr>\n",
       "</thead>\n",
       "<tbody>\n",
       "\t<tr><th scope=row>Sensitivity</th><td>0.86437281</td><td>0.81053482</td><td>0.25372042</td><td>0.21371046</td></tr>\n",
       "\t<tr><th scope=row>Specificity</th><td>0.76965877</td><td>0.77791626</td><td>0.98544562</td><td>0.98634740</td></tr>\n",
       "\t<tr><th scope=row>Pos Pred Value</th><td>0.26915631</td><td>0.26322714</td><td>0.63111231</td><td>0.60510685</td></tr>\n",
       "\t<tr><th scope=row>Neg Pred Value</th><td>0.98299985</td><td>0.97671341</td><td>0.93081930</td><td>0.92761285</td></tr>\n",
       "\t<tr><th scope=row>Precision</th><td>0.26915631</td><td>0.26322714</td><td>0.63111231</td><td>0.60510685</td></tr>\n",
       "\t<tr><th scope=row>Recall</th><td>0.86437281</td><td>0.81053482</td><td>0.25372042</td><td>0.21371046</td></tr>\n",
       "\t<tr><th scope=row>F1</th><td>0.41049038</td><td>0.39739676</td><td>0.36193525</td><td>0.31586450</td></tr>\n",
       "\t<tr><th scope=row>Prevalence</th><td>0.08937016</td><td>0.08916265</td><td>0.08937016</td><td>0.08916265</td></tr>\n",
       "\t<tr><th scope=row>Detection Rate</th><td>0.07724914</td><td>0.07226943</td><td>0.02267503</td><td>0.01905499</td></tr>\n",
       "\t<tr><th scope=row>Detection Prevalence</th><td>0.28700473</td><td>0.27455160</td><td>0.03592868</td><td>0.03149029</td></tr>\n",
       "\t<tr><th scope=row>Balanced Accuracy</th><td>0.81701579</td><td>0.79422554</td><td>0.61958302</td><td>0.60002893</td></tr>\n",
       "</tbody>\n",
       "</table>\n"
      ],
      "text/latex": [
       "A data.frame: 11 × 4\n",
       "\\begin{tabular}{r|llll}\n",
       "  & agg\\_rf\\_0.089 & seg2\\_glm\\_0.089 & agg\\_rf\\_0.500 & seg2\\_glm\\_0.500\\\\\n",
       "  & <dbl> & <dbl> & <dbl> & <dbl>\\\\\n",
       "\\hline\n",
       "\tSensitivity & 0.86437281 & 0.81053482 & 0.25372042 & 0.21371046\\\\\n",
       "\tSpecificity & 0.76965877 & 0.77791626 & 0.98544562 & 0.98634740\\\\\n",
       "\tPos Pred Value & 0.26915631 & 0.26322714 & 0.63111231 & 0.60510685\\\\\n",
       "\tNeg Pred Value & 0.98299985 & 0.97671341 & 0.93081930 & 0.92761285\\\\\n",
       "\tPrecision & 0.26915631 & 0.26322714 & 0.63111231 & 0.60510685\\\\\n",
       "\tRecall & 0.86437281 & 0.81053482 & 0.25372042 & 0.21371046\\\\\n",
       "\tF1 & 0.41049038 & 0.39739676 & 0.36193525 & 0.31586450\\\\\n",
       "\tPrevalence & 0.08937016 & 0.08916265 & 0.08937016 & 0.08916265\\\\\n",
       "\tDetection Rate & 0.07724914 & 0.07226943 & 0.02267503 & 0.01905499\\\\\n",
       "\tDetection Prevalence & 0.28700473 & 0.27455160 & 0.03592868 & 0.03149029\\\\\n",
       "\tBalanced Accuracy & 0.81701579 & 0.79422554 & 0.61958302 & 0.60002893\\\\\n",
       "\\end{tabular}\n"
      ],
      "text/markdown": [
       "\n",
       "A data.frame: 11 × 4\n",
       "\n",
       "| <!--/--> | agg_rf_0.089 &lt;dbl&gt; | seg2_glm_0.089 &lt;dbl&gt; | agg_rf_0.500 &lt;dbl&gt; | seg2_glm_0.500 &lt;dbl&gt; |\n",
       "|---|---|---|---|---|\n",
       "| Sensitivity | 0.86437281 | 0.81053482 | 0.25372042 | 0.21371046 |\n",
       "| Specificity | 0.76965877 | 0.77791626 | 0.98544562 | 0.98634740 |\n",
       "| Pos Pred Value | 0.26915631 | 0.26322714 | 0.63111231 | 0.60510685 |\n",
       "| Neg Pred Value | 0.98299985 | 0.97671341 | 0.93081930 | 0.92761285 |\n",
       "| Precision | 0.26915631 | 0.26322714 | 0.63111231 | 0.60510685 |\n",
       "| Recall | 0.86437281 | 0.81053482 | 0.25372042 | 0.21371046 |\n",
       "| F1 | 0.41049038 | 0.39739676 | 0.36193525 | 0.31586450 |\n",
       "| Prevalence | 0.08937016 | 0.08916265 | 0.08937016 | 0.08916265 |\n",
       "| Detection Rate | 0.07724914 | 0.07226943 | 0.02267503 | 0.01905499 |\n",
       "| Detection Prevalence | 0.28700473 | 0.27455160 | 0.03592868 | 0.03149029 |\n",
       "| Balanced Accuracy | 0.81701579 | 0.79422554 | 0.61958302 | 0.60002893 |\n",
       "\n"
      ],
      "text/plain": [
       "                     agg_rf_0.089 seg2_glm_0.089 agg_rf_0.500 seg2_glm_0.500\n",
       "Sensitivity          0.86437281   0.81053482     0.25372042   0.21371046    \n",
       "Specificity          0.76965877   0.77791626     0.98544562   0.98634740    \n",
       "Pos Pred Value       0.26915631   0.26322714     0.63111231   0.60510685    \n",
       "Neg Pred Value       0.98299985   0.97671341     0.93081930   0.92761285    \n",
       "Precision            0.26915631   0.26322714     0.63111231   0.60510685    \n",
       "Recall               0.86437281   0.81053482     0.25372042   0.21371046    \n",
       "F1                   0.41049038   0.39739676     0.36193525   0.31586450    \n",
       "Prevalence           0.08937016   0.08916265     0.08937016   0.08916265    \n",
       "Detection Rate       0.07724914   0.07226943     0.02267503   0.01905499    \n",
       "Detection Prevalence 0.28700473   0.27455160     0.03592868   0.03149029    \n",
       "Balanced Accuracy    0.81701579   0.79422554     0.61958302   0.60002893    "
      ]
     },
     "metadata": {},
     "output_type": "display_data"
    }
   ],
   "source": [
    "# agg_rf vs. seg2_glm Sensitivity & Specificity at cutoff of .5 and =proppos\n",
    "compare_df = as.data.frame(list('agg_rf_0.089'=confusionMatrix(as.factor(ifelse(preds_df$pred_agg_rf_ALL > 0.08937016, \"Renewed\", \"Not Renewd\")), \n",
    "                preds_df$renewal_status, positive=\"Renewed\")$byClass,\n",
    "                  'seg2_glm_0.089'=confusionMatrix(as.factor(ifelse(preds_df$pred_seg2_glm_ALL > 0.08937016, \"Renewed\", \"Not Renewd\")), \n",
    "                preds_df$renewal_status, positive=\"Renewed\")$byClass,\n",
    "              'agg_rf_0.500'=confusionMatrix(as.factor(ifelse(preds_df$pred_agg_rf_ALL > 0.5, \"Renewed\", \"Not Renewd\")), \n",
    "                preds_df$renewal_status, positive=\"Renewed\")$byClass,\n",
    "                  'seg2_glm_0.500'=confusionMatrix(as.factor(ifelse(preds_df$pred_seg2_glm_ALL > 0.5, \"Renewed\", \"Not Renewd\")), \n",
    "                preds_df$renewal_status, positive=\"Renewed\")$byClass))\n",
    "compare_df"
   ]
  },
  {
   "cell_type": "code",
   "execution_count": 42,
   "metadata": {},
   "outputs": [
    {
     "data": {
      "text/html": [
       "0.0664227986775531"
      ],
      "text/latex": [
       "0.0664227986775531"
      ],
      "text/markdown": [
       "0.0664227986775531"
      ],
      "text/plain": [
       "[1] 0.0664228"
      ]
     },
     "metadata": {},
     "output_type": "display_data"
    },
    {
     "data": {
      "text/html": [
       "0.187215741941728"
      ],
      "text/latex": [
       "0.187215741941728"
      ],
      "text/markdown": [
       "0.187215741941728"
      ],
      "text/plain": [
       "[1] 0.1872157"
      ]
     },
     "metadata": {},
     "output_type": "display_data"
    }
   ],
   "source": [
    "# improvement in sensitivity for agg_rf vs. seg2_glm\n",
    "(compare_df['Sensitivity','agg_rf_0.089']-compare_df['Sensitivity','seg2_glm_0.089'])/compare_df['Sensitivity','seg2_glm_0.089']\n",
    "(compare_df['Sensitivity','agg_rf_0.500']-compare_df['Sensitivity','seg2_glm_0.500'])/compare_df['Sensitivity','seg2_glm_0.500']"
   ]
  },
  {
   "cell_type": "code",
   "execution_count": null,
   "metadata": {},
   "outputs": [],
   "source": []
  }
 ],
 "metadata": {
  "environment": {
   "name": "r-cpu.3-6.m48",
   "type": "gcloud",
   "uri": "gcr.io/deeplearning-platform-release/r-cpu.3-6:m48"
  },
  "kernelspec": {
   "display_name": "R",
   "language": "R",
   "name": "ir"
  },
  "language_info": {
   "codemirror_mode": "r",
   "file_extension": ".r",
   "mimetype": "text/x-r-source",
   "name": "R",
   "pygments_lexer": "r",
   "version": "3.6.3"
  }
 },
 "nbformat": 4,
 "nbformat_minor": 4
}
