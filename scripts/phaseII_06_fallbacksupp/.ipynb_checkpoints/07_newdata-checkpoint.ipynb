{
 "cells": [
  {
   "cell_type": "markdown",
   "metadata": {},
   "source": [
    "# Analyzing Results of Metalearning Predictions script"
   ]
  },
  {
   "cell_type": "code",
   "execution_count": 1,
   "metadata": {},
   "outputs": [],
   "source": [
    "options(repr.matrix.max.cols=50, repr.matrix.max.rows=100)"
   ]
  },
  {
   "cell_type": "code",
   "execution_count": 2,
   "metadata": {},
   "outputs": [],
   "source": [
    "# install.packages(\"pkgcond\")"
   ]
  },
  {
   "cell_type": "code",
   "execution_count": 3,
   "metadata": {},
   "outputs": [
    {
     "name": "stderr",
     "output_type": "stream",
     "text": [
      "\n",
      "Attaching package: ‘dplyr’\n",
      "\n",
      "\n",
      "The following objects are masked from ‘package:stats’:\n",
      "\n",
      "    filter, lag\n",
      "\n",
      "\n",
      "The following objects are masked from ‘package:base’:\n",
      "\n",
      "    intersect, setdiff, setequal, union\n",
      "\n",
      "\n",
      "\n",
      "Attaching package: ‘data.table’\n",
      "\n",
      "\n",
      "The following objects are masked from ‘package:dplyr’:\n",
      "\n",
      "    between, first, last\n",
      "\n",
      "\n",
      "Loading required package: grid\n",
      "\n",
      "Loading required package: libcoin\n",
      "\n",
      "Loading required package: mvtnorm\n",
      "\n",
      "Loading required package: lattice\n",
      "\n",
      "Loading required package: ggplot2\n",
      "\n",
      "randomForest 4.6-14\n",
      "\n",
      "Type rfNews() to see new features/changes/bug fixes.\n",
      "\n",
      "\n",
      "Attaching package: ‘randomForest’\n",
      "\n",
      "\n",
      "The following object is masked from ‘package:ggplot2’:\n",
      "\n",
      "    margin\n",
      "\n",
      "\n",
      "The following object is masked from ‘package:dplyr’:\n",
      "\n",
      "    combine\n",
      "\n",
      "\n",
      "\n",
      "Attaching package: ‘ranger’\n",
      "\n",
      "\n",
      "The following object is masked from ‘package:randomForest’:\n",
      "\n",
      "    importance\n",
      "\n",
      "\n",
      "\n",
      "Attaching package: ‘plotly’\n",
      "\n",
      "\n",
      "The following object is masked from ‘package:ggplot2’:\n",
      "\n",
      "    last_plot\n",
      "\n",
      "\n",
      "The following object is masked from ‘package:stats’:\n",
      "\n",
      "    filter\n",
      "\n",
      "\n",
      "The following object is masked from ‘package:graphics’:\n",
      "\n",
      "    layout\n",
      "\n",
      "\n",
      "\n",
      "Attaching package: ‘zoo’\n",
      "\n",
      "\n",
      "The following objects are masked from ‘package:base’:\n",
      "\n",
      "    as.Date, as.Date.numeric\n",
      "\n",
      "\n"
     ]
    },
    {
     "data": {
      "text/html": [
       "'/home/jupyter/Domains_202003/scripts/phaseII_06_fallbacksupp'"
      ],
      "text/latex": [
       "'/home/jupyter/Domains\\_202003/scripts/phaseII\\_06\\_fallbacksupp'"
      ],
      "text/markdown": [
       "'/home/jupyter/Domains_202003/scripts/phaseII_06_fallbacksupp'"
      ],
      "text/plain": [
       "[1] \"/home/jupyter/Domains_202003/scripts/phaseII_06_fallbacksupp\""
      ]
     },
     "metadata": {},
     "output_type": "display_data"
    }
   ],
   "source": [
    "library(dplyr)\n",
    "library(data.table)\n",
    "library(partykit)\n",
    "library(tictoc)\n",
    "library(caret)\n",
    "library(e1071)\n",
    "library(randomForest)\n",
    "library(ranger)\n",
    "\n",
    "#for 3d plotting\n",
    "library(akima)\n",
    "library(plotly)\n",
    "\n",
    "# for prep data\n",
    "# library(rPython)\n",
    "library(stringr)\n",
    "library(pbapply)\n",
    "library(stringdist)\n",
    "library(data.table)\n",
    "library(dominanceanalysis)\n",
    "library(zoo)\n",
    "\n",
    "\n",
    "getwd()"
   ]
  },
  {
   "cell_type": "code",
   "execution_count": 5,
   "metadata": {},
   "outputs": [],
   "source": [
    "# install.packages(c(\"zoo\"))"
   ]
  },
  {
   "cell_type": "code",
   "execution_count": 6,
   "metadata": {},
   "outputs": [
    {
     "name": "stderr",
     "output_type": "stream",
     "text": [
      "\n",
      "Attaching package: ‘tidyr’\n",
      "\n",
      "\n",
      "The following object is masked from ‘package:stringdist’:\n",
      "\n",
      "    extract\n",
      "\n",
      "\n"
     ]
    }
   ],
   "source": [
    "\n",
    "source('../orig/functions.R')\n",
    "\n",
    "source('../orig/functions_models.R')\n",
    "\n",
    "source('../phaseII_03_forest/functions_eval.R')\n"
   ]
  },
  {
   "cell_type": "code",
   "execution_count": 7,
   "metadata": {},
   "outputs": [],
   "source": [
    "source('functions_metalearning.R')"
   ]
  },
  {
   "cell_type": "code",
   "execution_count": 8,
   "metadata": {},
   "outputs": [
    {
     "name": "stdout",
     "output_type": "stream",
     "text": [
      "Loading data...Loaded 5427633 rows\n",
      "Removing 0 rows due to expiry_date constraints\n",
      "Removing 758186 rows due to renewed_count constraints\n",
      "Removing 7716 rows due to missing gibb_score\n",
      "... now dataset min(creation_date) is  2017-01-01 .\n"
     ]
    }
   ],
   "source": [
    "source('load_prep_data_expiry_2.R')\n",
    "\n",
    "# expiry_df\n",
    "# expiry_train_df \n",
    "# expiry_test_df \n",
    "# expiry_list\n",
    "# expiry_train_list\n",
    "# expiry_test_list"
   ]
  },
  {
   "cell_type": "markdown",
   "metadata": {},
   "source": [
    "# Fix preds processing into df"
   ]
  },
  {
   "cell_type": "code",
   "execution_count": 10,
   "metadata": {},
   "outputs": [],
   "source": [
    "fullDir='/home/jupyter/Domains_202003/data/output/models_20201104'\n",
    "load(file.path(fullDir, 'preds/preds_seg2_rf_ALL.RData'))\n",
    "load(file.path(fullDir, 'preds/preds_seg2_glm_ALL.RData'))\n",
    "load(file.path(fullDir, 'preds/preds_seg_rf_ALL.RData'))\n",
    "load(file.path(fullDir, 'preds/preds_seg_glm_ALL.RData'))\n",
    "load(file.path(fullDir, 'preds/preds_agg_rf.RData'))\n",
    "load(file.path(fullDir, 'preds/preds_agg_rf_ALL.RData'))\n",
    "load(file.path(fullDir, 'preds/preds_agg_glm.RData'))\n",
    "load(file.path(fullDir, 'preds/preds_agg_glm_ALL.Rdata'))\n",
    "    "
   ]
  },
  {
   "cell_type": "code",
   "execution_count": 11,
   "metadata": {},
   "outputs": [],
   "source": [
    "tld_reseller_list1 = expiry_train_df %>%  distinct(tld_registrar_index) %>% pull(tld_registrar_index)\n",
    "tld_reseller_list2 = expiry_test_df %>%  distinct(tld_registrar_index) %>% pull(tld_registrar_index)\n",
    "tld_reseller_list = setdiff(tld_reseller_list2,tld_reseller_list1)\n",
    "tld_reseller_list_ALL = tld_reseller_list\n",
    "\n",
    "test_list = expiry_test_list"
   ]
  },
  {
   "cell_type": "code",
   "execution_count": 30,
   "metadata": {},
   "outputs": [],
   "source": [
    "preds_list = list()\n",
    "i=1\n",
    "for (tld_reseller_str in tld_reseller_list_ALL) {\n",
    "    \n",
    "        preds_list[[tld_reseller_str]] = cbind(\n",
    "              test_list[[tld_reseller_str]],\n",
    "              'pred_agg_glm_ALL'=ifelse(is.na(preds_agg_glm_ALL[[i]]), NA , preds_agg_glm_ALL[[i]]$predicted) ,\n",
    "              'pred_agg_rf_ALL'= ifelse(is.na(preds_agg_rf_ALL[[i]]), NA , preds_agg_rf_ALL[[i]]$predicted),\n",
    "              'pred_agg_glm'=ifelse(is.na(preds_agg_glm[[i]]), NA , preds_agg_glm[[i]]$predicted),\n",
    "              'pred_agg_rf'=ifelse(is.na(preds_agg_rf[[i]]), NA , preds_agg_rf[[i]]$predicted),\n",
    "              'pred_seg_glm_ALL'=ifelse(is.na(preds_seg_glm_ALL[[i]]), NA , preds_seg_glm_ALL[[i]]$predicted),\n",
    "              'pred_seg_rf_ALL' = ifelse(is.na(preds_seg_rf_ALL[[i]]), NA , preds_seg_rf_ALL[[i]]$predicted),\n",
    "              'pred_seg2_glm_ALL'=ifelse(is.na(preds_seg2_glm_ALL[[i]]), NA , preds_seg2_glm_ALL[[i]]$predicted),\n",
    "              'pred_seg2_rf_ALL'=ifelse(is.na(preds_seg2_rf_ALL[[i]]), NA , preds_seg2_rf_ALL[[i]]$predicted))\n",
    "    \n",
    "        preds_list[[tld_reseller_str]] <- preds_list[[tld_reseller_str]] %>% select(-contains(\".actual\"))\n",
    "        names(preds_list[[tld_reseller_str]]) <- c(names(test_list[[tld_reseller_str]]),\n",
    "                                                   c('pred_agg_glm_ALL', 'pred_agg_rf_ALL', \n",
    "                                                   'pred_agg_glm','pred_agg_rf',\n",
    "                                                   'pred_seg_glm_ALL', 'pred_seg_rf_ALL',\n",
    "                                                   'pred_seg2_glm_ALL','pred_seg2_rf_ALL'))\n",
    "    i=i+1\n",
    "}"
   ]
  },
  {
   "cell_type": "code",
   "execution_count": 32,
   "metadata": {},
   "outputs": [],
   "source": [
    "na.omit.list <- function(y) { return(y[!sapply(y, function(x) all(is.na(x)))]) }\n",
    "preds_list <- na.omit.list(preds_list)\n",
    "preds_df <- rbindlist(preds_list,use.names=TRUE)"
   ]
  },
  {
   "cell_type": "code",
   "execution_count": 33,
   "metadata": {},
   "outputs": [
    {
     "data": {
      "text/html": [
       "<table>\n",
       "<caption>A data.table: 58 × 39</caption>\n",
       "<thead>\n",
       "\t<tr><th scope=col>renewal_type</th><th scope=col>renewed_count</th><th scope=col>expiry_date</th><th scope=col>creation_date</th><th scope=col>status</th><th scope=col>domain_id</th><th scope=col>domain</th><th scope=col>registrar</th><th scope=col>reseller</th><th scope=col>reseller_country</th><th scope=col>registrant_country</th><th scope=col>reg_period</th><th scope=col>reg_revenue</th><th scope=col>reg_arpt</th><th scope=col>renew_mbg</th><th scope=col>renewal_item_id</th><th scope=col>renew_type</th><th scope=col>autorenew_type</th><th scope=col>renewal_status</th><th scope=col>renew_date</th><th scope=col>renew_arpt</th><th scope=col>gibb_score</th><th scope=col>pattern</th><th scope=col>pattern_domain_count</th><th scope=col>day_domains</th><th scope=col>sld_length</th><th scope=col>sld_type</th><th scope=col>sld_type2</th><th scope=col>tld</th><th scope=col>log_reg_arpt</th><th scope=col>tld_registrar_index</th><th scope=col>pred_agg_glm_ALL</th><th scope=col>pred_agg_rf_ALL</th><th scope=col>pred_agg_glm</th><th scope=col>pred_agg_rf</th><th scope=col>pred_seg_glm_ALL</th><th scope=col>pred_seg_rf_ALL</th><th scope=col>pred_seg2_glm_ALL</th><th scope=col>pred_seg2_rf_ALL</th></tr>\n",
       "\t<tr><th scope=col>&lt;chr&gt;</th><th scope=col>&lt;int&gt;</th><th scope=col>&lt;date&gt;</th><th scope=col>&lt;date&gt;</th><th scope=col>&lt;chr&gt;</th><th scope=col>&lt;int&gt;</th><th scope=col>&lt;chr&gt;</th><th scope=col>&lt;chr&gt;</th><th scope=col>&lt;chr&gt;</th><th scope=col>&lt;chr&gt;</th><th scope=col>&lt;chr&gt;</th><th scope=col>&lt;int&gt;</th><th scope=col>&lt;dbl&gt;</th><th scope=col>&lt;dbl&gt;</th><th scope=col>&lt;int&gt;</th><th scope=col>&lt;int&gt;</th><th scope=col>&lt;chr&gt;</th><th scope=col>&lt;chr&gt;</th><th scope=col>&lt;chr&gt;</th><th scope=col>&lt;date&gt;</th><th scope=col>&lt;dbl&gt;</th><th scope=col>&lt;dbl&gt;</th><th scope=col>&lt;chr&gt;</th><th scope=col>&lt;int&gt;</th><th scope=col>&lt;int&gt;</th><th scope=col>&lt;int&gt;</th><th scope=col>&lt;chr&gt;</th><th scope=col>&lt;chr&gt;</th><th scope=col>&lt;chr&gt;</th><th scope=col>&lt;dbl&gt;</th><th scope=col>&lt;chr&gt;</th><th scope=col>&lt;dbl&gt;</th><th scope=col>&lt;dbl&gt;</th><th scope=col>&lt;dbl&gt;</th><th scope=col>&lt;dbl&gt;</th><th scope=col>&lt;dbl&gt;</th><th scope=col>&lt;dbl&gt;</th><th scope=col>&lt;lgl&gt;</th><th scope=col>&lt;lgl&gt;</th></tr>\n",
       "</thead>\n",
       "<tbody>\n",
       "\t<tr><td>FirstTime</td><td>1</td><td>2019-06-14</td><td>2018-06-14</td><td>Active</td><td> 70181780</td><td>steibei.space              </td><td>Internet GmbH          </td><td>Internet GmbH          </td><td>Germany       </td><td>NA</td><td>1</td><td> 6.00</td><td> 6.0000</td><td>0</td><td>208493821</td><td>auto-renewal</td><td>realized  </td><td>Renewed   </td><td>2019-06-14</td><td>15.0</td><td> 4.02</td><td>steibei              </td><td>1</td><td> 1</td><td> 7</td><td>l       </td><td>7l        </td><td>space  </td><td> 1.79175947</td><td>spaceinternet gmbh          </td><td>0.920</td><td>0.9713886</td><td>   NA</td><td>0.7251219</td><td>0.975</td><td>0.98133698</td><td>NA</td><td>NA</td></tr>\n",
       "\t<tr><td>FirstTime</td><td>1</td><td>2020-05-17</td><td>2019-05-17</td><td>Active</td><td>103906916</td><td>wingtsun.space             </td><td>Internet GmbH          </td><td>Internet GmbH          </td><td>Germany       </td><td>NA</td><td>1</td><td>15.00</td><td>15.0000</td><td>0</td><td>315625244</td><td>auto-renewal</td><td>realized  </td><td>Renewed   </td><td>2020-05-17</td><td>15.0</td><td> 6.48</td><td>wingtsun             </td><td>1</td><td> 1</td><td> 8</td><td>l       </td><td>8l        </td><td>space  </td><td> 2.70805020</td><td>spaceinternet gmbh          </td><td>0.924</td><td>0.9685702</td><td>   NA</td><td>0.6956184</td><td>0.993</td><td>0.97838698</td><td>NA</td><td>NA</td></tr>\n",
       "\t<tr><td>FirstTime</td><td>1</td><td>2019-10-05</td><td>2018-10-05</td><td>Active</td><td> 78360794</td><td>sfmart.store               </td><td>PDR Ltd                </td><td>Arvixe                 </td><td>United States </td><td>NA</td><td>1</td><td> 6.50</td><td> 6.5000</td><td>0</td><td>235884471</td><td>renewal     </td><td>NA        </td><td>Renewed   </td><td>2019-10-01</td><td>26.5</td><td> 1.15</td><td>sfmart               </td><td>1</td><td> 1</td><td> 6</td><td>l       </td><td>6l        </td><td>store  </td><td> 1.87180218</td><td>storearvixe                 </td><td>0.000</td><td>0.2597214</td><td>   NA</td><td>0.7862930</td><td>   NA</td><td>        NA</td><td>NA</td><td>NA</td></tr>\n",
       "\t<tr><td>FirstTime</td><td>1</td><td>2020-08-30</td><td>2019-08-30</td><td>Active</td><td>122049036</td><td>qianxiyun.online           </td><td>                       </td><td>                       </td><td>              </td><td>NA</td><td>1</td><td>25.00</td><td>25.0000</td><td>0</td><td>341703158</td><td>auto-renewal</td><td>unrealized</td><td>Not Renewd</td><td>2020-08-30</td><td> 6.0</td><td> 0.63</td><td>qianxiyun            </td><td>1</td><td> 1</td><td> 9</td><td>l       </td><td>9l        </td><td>online </td><td> 3.21887582</td><td>online                      </td><td>   NA</td><td>0.9550391</td><td>   NA</td><td>0.7713468</td><td>   NA</td><td>        NA</td><td>NA</td><td>NA</td></tr>\n",
       "\t<tr><td>FirstTime</td><td>1</td><td>2019-08-15</td><td>2018-08-15</td><td>Active</td><td> 74267354</td><td>ontarioart.space           </td><td>Register.ca            </td><td>Register.ca            </td><td>Canada        </td><td>NA</td><td>1</td><td> 6.00</td><td> 6.0000</td><td>0</td><td>222880706</td><td>auto-renewal</td><td>unrealized</td><td>Not Renewd</td><td>2019-08-15</td><td>15.0</td><td> 6.11</td><td>ontarioart           </td><td>1</td><td> 1</td><td>10</td><td>l       </td><td>10l       </td><td>space  </td><td> 1.79175947</td><td>spaceregister.ca            </td><td>   NA</td><td>0.9855667</td><td>   NA</td><td>0.7286549</td><td>   NA</td><td>        NA</td><td>NA</td><td>NA</td></tr>\n",
       "\t<tr><td>FirstTime</td><td>1</td><td>2020-04-22</td><td>2019-04-22</td><td>Active</td><td>101141084</td><td>ziprecruiter.press         </td><td>NICENIC                </td><td>NICENIC                </td><td>Hong Kong     </td><td>NA</td><td>1</td><td> 1.08</td><td> 1.0800</td><td>0</td><td>295236384</td><td>transfer    </td><td>NA        </td><td>Renewed   </td><td>2020-02-26</td><td>49.0</td><td> 5.61</td><td>ziprecruiter         </td><td>1</td><td> 1</td><td>12</td><td>l       </td><td>12l       </td><td>press  </td><td> 0.07696104</td><td>pressnicenic                </td><td>0.022</td><td>0.2796425</td><td>   NA</td><td>0.5721173</td><td>0.093</td><td>0.30130160</td><td>NA</td><td>NA</td></tr>\n",
       "\t<tr><td>FirstTime</td><td>1</td><td>2019-06-27</td><td>2018-06-27</td><td>Active</td><td> 71066905</td><td><span style=white-space:pre-wrap>allmaker.space             </span></td><td><span style=white-space:pre-wrap>1&amp;1 Internet           </span></td><td><span style=white-space:pre-wrap>Arsys                  </span></td><td><span style=white-space:pre-wrap>Spain         </span></td><td>NA</td><td>1</td><td> 1.00</td><td> 1.0000</td><td>0</td><td>211876061</td><td>auto-renewal</td><td>unrealized</td><td>Not Renewd</td><td>2019-06-27</td><td> 6.0</td><td> 6.55</td><td><span style=white-space:pre-wrap>allmaker             </span></td><td>1</td><td> 1</td><td> 8</td><td><span style=white-space:pre-wrap>l       </span></td><td><span style=white-space:pre-wrap>8l        </span></td><td><span style=white-space:pre-wrap>space  </span></td><td> 0.00000000</td><td><span style=white-space:pre-wrap>spacearsys                  </span></td><td>0.487</td><td>0.5107410</td><td><span style=white-space:pre-wrap>   NA</span></td><td>0.5963515</td><td>0.544</td><td>0.83162583</td><td>NA</td><td>NA</td></tr>\n",
       "\t<tr><td>FirstTime</td><td>1</td><td>2019-11-19</td><td>2018-11-19</td><td>Active</td><td> 83956614</td><td>frogjuggler.online         </td><td>Imperial Registrations </td><td>Imperial Registrations </td><td>United States </td><td>NA</td><td>1</td><td>25.00</td><td>25.0000</td><td>0</td><td>256244725</td><td>auto-renewal</td><td>unrealized</td><td>Not Renewd</td><td>2019-11-19</td><td>25.0</td><td> 2.98</td><td>frogjuggler          </td><td>1</td><td> 1</td><td>11</td><td>l       </td><td>11l       </td><td>online </td><td> 3.21887582</td><td>onlineimperial registrations</td><td>   NA</td><td>0.9948964</td><td>   NA</td><td>0.8257238</td><td>   NA</td><td>        NA</td><td>NA</td><td>NA</td></tr>\n",
       "\t<tr><td>FirstTime</td><td>1</td><td>2020-08-07</td><td>2019-08-07</td><td>Active</td><td>116039006</td><td>fh1.site                   </td><td>NetClues               </td><td>NetClues               </td><td>              </td><td>NA</td><td>1</td><td> 0.00</td><td> 0.0001</td><td>0</td><td>335679829</td><td>auto-renewal</td><td>realized  </td><td>Renewed   </td><td>2020-08-07</td><td>20.0</td><td> 0.02</td><td>fh1                  </td><td>1</td><td> 1</td><td> 3</td><td>ln      </td><td>3ln       </td><td>site   </td><td>-9.21034037</td><td>sitenetclues                </td><td>0.000</td><td>0.1291702</td><td>   NA</td><td>0.5810059</td><td>   NA</td><td>        NA</td><td>NA</td><td>NA</td></tr>\n",
       "\t<tr><td>FirstTime</td><td>1</td><td>2019-11-09</td><td>2018-11-09</td><td>Active</td><td> 82321649</td><td>antispamgw.host            </td><td>Realtime Register      </td><td>Realtime Register      </td><td>Netherlands   </td><td>NA</td><td>1</td><td>65.00</td><td>65.0000</td><td>0</td><td>238730925</td><td>renewal     </td><td>NA        </td><td>Renewed   </td><td>2019-10-10</td><td>65.0</td><td> 2.09</td><td>antispamgw           </td><td>1</td><td> 1</td><td>10</td><td>l       </td><td>10l       </td><td>host   </td><td> 4.17438727</td><td>hostrealtime register       </td><td>0.252</td><td>0.4590399</td><td>0.253</td><td>0.5696194</td><td>0.904</td><td>0.64286641</td><td>NA</td><td>NA</td></tr>\n",
       "\t<tr><td>FirstTime</td><td>1</td><td>2019-10-04</td><td>2018-10-04</td><td>Active</td><td> 78253334</td><td>lokal.host                 </td><td>Realtime Register      </td><td>Realtime Register      </td><td>Netherlands   </td><td>NA</td><td>1</td><td>65.00</td><td>65.0000</td><td>0</td><td>236006436</td><td>renewal     </td><td>NA        </td><td>Renewed   </td><td>2019-10-01</td><td>65.0</td><td> 3.87</td><td>lokal                </td><td>1</td><td> 1</td><td> 5</td><td>l       </td><td>5l        </td><td>host   </td><td> 4.17438727</td><td>hostrealtime register       </td><td>0.275</td><td>0.5426539</td><td>0.275</td><td>0.5710536</td><td>0.899</td><td>0.68472740</td><td>NA</td><td>NA</td></tr>\n",
       "\t<tr><td>FirstTime</td><td>1</td><td>2019-08-07</td><td>2018-08-07</td><td>Active</td><td> 73736289</td><td>firstdesign.website        </td><td>Mesh Digital           </td><td>Heart Internet         </td><td>United Kingdom</td><td>NA</td><td>1</td><td> 0.80</td><td> 0.8000</td><td>0</td><td>218843026</td><td>renewal     </td><td>NA        </td><td>Renewed   </td><td>2019-08-02</td><td>15.0</td><td> 2.99</td><td>firstdesign          </td><td>1</td><td> 1</td><td>11</td><td>l       </td><td>11l       </td><td>website</td><td>-0.22314355</td><td>websiteheart internet       </td><td>1.000</td><td>0.9309190</td><td>   NA</td><td>0.5801021</td><td>   NA</td><td>        NA</td><td>NA</td><td>NA</td></tr>\n",
       "\t<tr><td>FirstTime</td><td>1</td><td>2020-01-25</td><td>2019-01-25</td><td>Active</td><td> 91900703</td><td>sems.site                  </td><td>Whois Networks         </td><td>Whois Networks         </td><td>Korea         </td><td>NA</td><td>1</td><td>20.00</td><td>20.0000</td><td>0</td><td>283009471</td><td>renewal     </td><td>NA        </td><td>Renewed   </td><td>2020-01-21</td><td>20.0</td><td> 4.29</td><td>sems                 </td><td>1</td><td> 1</td><td> 4</td><td>l       </td><td>4l        </td><td>site   </td><td> 2.99573227</td><td>sitewhois networks          </td><td>0.293</td><td>0.7015172</td><td>   NA</td><td>0.6847056</td><td>0.756</td><td>0.74919041</td><td>NA</td><td>NA</td></tr>\n",
       "\t<tr><td>FirstTime</td><td>1</td><td>2020-03-27</td><td>2019-03-27</td><td>Active</td><td> 98114119</td><td>tevec.store                </td><td>Global Village         </td><td>Global Village         </td><td>Germany       </td><td>NA</td><td>1</td><td>40.00</td><td>40.0000</td><td>0</td><td>        0</td><td>NA          </td><td>NA        </td><td>Not Renewd</td><td>NA</td><td>  NA</td><td> 6.92</td><td>tevec                </td><td>1</td><td> 1</td><td> 5</td><td>l       </td><td>5l        </td><td>store  </td><td> 3.68887945</td><td>storeglobal village         </td><td>1.000</td><td>0.9311672</td><td>   NA</td><td>0.8359576</td><td>   NA</td><td>        NA</td><td>NA</td><td>NA</td></tr>\n",
       "\t<tr><td>FirstTime</td><td>1</td><td>2020-05-19</td><td>2019-05-19</td><td>Active</td><td>104026606</td><td>sevensins.fun              </td><td>DNC Holdings           </td><td>DNC Holdings           </td><td>United States </td><td>NA</td><td>1</td><td>15.00</td><td>15.0000</td><td>0</td><td>316084664</td><td>auto-renewal</td><td>unrealized</td><td>Not Renewd</td><td>2020-05-19</td><td>15.0</td><td> 8.88</td><td>sevensins            </td><td>1</td><td> 1</td><td> 9</td><td>l       </td><td>9l        </td><td>fun    </td><td> 2.70805020</td><td>fundnc holdings             </td><td>0.453</td><td>0.7781161</td><td>   NA</td><td>0.6297827</td><td>0.364</td><td>0.70470105</td><td>NA</td><td>NA</td></tr>\n",
       "\t<tr><td>FirstTime</td><td>1</td><td>2020-04-22</td><td>2019-04-22</td><td>Active</td><td>101088999</td><td>eska.store                 </td><td>Jogjacamp              </td><td>Jogjacamp              </td><td>Indonesia     </td><td>NA</td><td>1</td><td> 2.50</td><td> 2.5000</td><td>0</td><td>309859364</td><td>auto-renewal</td><td>unrealized</td><td>Not Renewd</td><td>2020-04-22</td><td>40.0</td><td> 2.83</td><td>eska                 </td><td>1</td><td> 1</td><td> 4</td><td>l       </td><td>4l        </td><td>store  </td><td> 0.91629073</td><td>storejogjacamp              </td><td>0.052</td><td>0.3624642</td><td>   NA</td><td>0.7672393</td><td>0.046</td><td>0.45361957</td><td>NA</td><td>NA</td></tr>\n",
       "\t<tr><td>FirstTime</td><td>1</td><td>2020-02-05</td><td>2019-02-05</td><td>Active</td><td> 92905248</td><td>compra.store               </td><td>Key-Systems            </td><td>Compra                 </td><td>Netherlands   </td><td>NA</td><td>1</td><td> 3.00</td><td> 3.0000</td><td>0</td><td>289269716</td><td>auto-renewal</td><td>realized  </td><td>Renewed   </td><td>2020-02-05</td><td>40.0</td><td>10.07</td><td>compra               </td><td>1</td><td> 1</td><td> 6</td><td>l       </td><td>6l        </td><td>store  </td><td> 1.09861229</td><td>storecompra                 </td><td>0.000</td><td>0.1588105</td><td>   NA</td><td>0.6993082</td><td>   NA</td><td>0.00000000</td><td>NA</td><td>NA</td></tr>\n",
       "\t<tr><td>FirstTime</td><td>1</td><td>2020-05-26</td><td>2019-05-26</td><td>Active</td><td>104968651</td><td>sysadmins.fun              </td><td>Tecnocratica Centro    </td><td>Tecnocratica Centro    </td><td>Spain         </td><td>NA</td><td>1</td><td>15.00</td><td>15.0000</td><td>0</td><td>315829289</td><td>renewal     </td><td>NA        </td><td>Renewed   </td><td>2020-05-18</td><td>15.0</td><td> 3.46</td><td>sysadmins            </td><td>1</td><td> 1</td><td> 9</td><td>l       </td><td>9l        </td><td>fun    </td><td> 2.70805020</td><td>funtecnocratica centro      </td><td>0.666</td><td>0.6468300</td><td>   NA</td><td>0.5789864</td><td>0.931</td><td>0.81458920</td><td>NA</td><td>NA</td></tr>\n",
       "\t<tr><td>FirstTime</td><td>1</td><td>2019-06-12</td><td>2018-06-12</td><td>Active</td><td> 69902250</td><td>bohemechic.store           </td><td>Planet Hoster          </td><td>Planet Hoster          </td><td>Canada        </td><td>NA</td><td>1</td><td>40.00</td><td>40.0000</td><td>0</td><td>207608691</td><td>renewal     </td><td>NA        </td><td>Renewed   </td><td>2019-06-11</td><td>40.0</td><td> 6.59</td><td>bohemechic           </td><td>1</td><td> 1</td><td>10</td><td>l       </td><td>10l       </td><td>store  </td><td> 3.68887945</td><td>storeplanet hoster          </td><td>0.931</td><td>0.9259644</td><td>   NA</td><td>0.7534841</td><td>1.000</td><td>0.82794164</td><td>NA</td><td>NA</td></tr>\n",
       "\t<tr><td>FirstTime</td><td>1</td><td>2019-09-29</td><td>2018-09-29</td><td>Active</td><td> 77731294</td><td>filetmignon.store          </td><td>Planet Hoster          </td><td>Planet Hoster          </td><td>Canada        </td><td>NA</td><td>1</td><td>40.00</td><td>40.0000</td><td>0</td><td>235473511</td><td>auto-renewal</td><td>realized  </td><td>Renewed   </td><td>2019-09-29</td><td>40.0</td><td> 4.25</td><td>filetmignon          </td><td>1</td><td> 1</td><td>11</td><td>l       </td><td>11l       </td><td>store  </td><td> 3.68887945</td><td>storeplanet hoster          </td><td>0.927</td><td>0.9356569</td><td>   NA</td><td>0.8306447</td><td>1.000</td><td>0.88134164</td><td>NA</td><td>NA</td></tr>\n",
       "\t<tr><td>FirstTime</td><td>1</td><td>2019-10-09</td><td>2018-10-09</td><td>Active</td><td> 78686599</td><td>whiteley.tech              </td><td>Freeparking            </td><td>Freeparking            </td><td>United Kingdom</td><td>NA</td><td>1</td><td>35.00</td><td>35.0000</td><td>0</td><td>224135771</td><td>renewal     </td><td>NA        </td><td>Renewed   </td><td>2019-08-22</td><td>35.0</td><td> 7.84</td><td>whiteley             </td><td>1</td><td> 1</td><td> 8</td><td>l       </td><td>8l        </td><td>tech   </td><td> 3.55534806</td><td>techfreeparking             </td><td>0.671</td><td>0.6450379</td><td>   NA</td><td>0.8157455</td><td>0.382</td><td>0.66875220</td><td>NA</td><td>NA</td></tr>\n",
       "\t<tr><td>FirstTime</td><td>1</td><td>2019-08-04</td><td>2018-08-04</td><td>Active</td><td> 73576899</td><td>altenen.pw                 </td><td>Web4Africa             </td><td>Web4Africa             </td><td>South Africa  </td><td>NA</td><td>1</td><td> 6.00</td><td> 6.0000</td><td>0</td><td>219276076</td><td>auto-renewal</td><td>unrealized</td><td>Not Renewd</td><td>2019-08-04</td><td> 0.0</td><td> 6.97</td><td>altenen              </td><td>1</td><td> 1</td><td> 7</td><td>l       </td><td>7l        </td><td>pw     </td><td> 1.79175947</td><td>pwweb4africa                </td><td>0.035</td><td>0.3189241</td><td>   NA</td><td>0.6318866</td><td>0.101</td><td>0.20175308</td><td>NA</td><td>NA</td></tr>\n",
       "\t<tr><td>FirstTime</td><td>1</td><td>2020-05-24</td><td>2017-05-24</td><td>Active</td><td> 48026450</td><td>cicada.pw                  </td><td>PDR Ltd                </td><td>Bluehost               </td><td>United States </td><td>NA</td><td>3</td><td>12.50</td><td> 4.1700</td><td>0</td><td>317208689</td><td>auto-renewal</td><td>NA        </td><td>Not Renewd</td><td>2020-05-24</td><td> 6.0</td><td> 5.42</td><td>cicada               </td><td>1</td><td> 1</td><td> 6</td><td>l       </td><td>6l        </td><td>pw     </td><td> 1.42791604</td><td>pwbluehost                  </td><td>0.475</td><td>0.5378698</td><td>0.489</td><td>0.6305815</td><td>1.000</td><td>0.56918952</td><td>NA</td><td>NA</td></tr>\n",
       "\t<tr><td>FirstTime</td><td>1</td><td>2019-12-19</td><td>2018-12-19</td><td>Active</td><td> 88054102</td><td>baodou.pw                  </td><td>PDR Ltd                </td><td>Bluehost               </td><td>United States </td><td>NA</td><td>1</td><td> 0.50</td><td> 0.5000</td><td>0</td><td>265555511</td><td>renewal     </td><td>NA        </td><td>Renewed   </td><td>2019-12-12</td><td>15.0</td><td> 1.85</td><td>baodou               </td><td>2</td><td>25</td><td> 6</td><td>l       </td><td>6l        </td><td>pw     </td><td>-0.69314718</td><td>pwbluehost                  </td><td>0.216</td><td>0.1154223</td><td>0.215</td><td>0.1802359</td><td>0.303</td><td>0.69303276</td><td>NA</td><td>NA</td></tr>\n",
       "\t<tr><td>FirstTime</td><td>1</td><td>2020-06-17</td><td>2019-06-17</td><td>Active</td><td>108131151</td><td>marketingshop.space        </td><td>OwnRegistrar           </td><td>OwnRegistrar           </td><td>              </td><td>NA</td><td>1</td><td> 3.00</td><td> 3.0000</td><td>0</td><td>322847614</td><td>auto-renewal</td><td>unrealized</td><td>Not Renewd</td><td>2020-06-17</td><td>15.0</td><td> 6.32</td><td>marketingshop        </td><td>1</td><td> 1</td><td>13</td><td>l       </td><td>13l       </td><td>space  </td><td> 1.09861229</td><td>spaceownregistrar           </td><td>0.325</td><td>0.8397940</td><td>   NA</td><td>0.7007593</td><td>0.017</td><td>0.40453092</td><td>NA</td><td>NA</td></tr>\n",
       "\t<tr><td>FirstTime</td><td>1</td><td>2019-09-17</td><td>2018-09-17</td><td>Active</td><td> 76806449</td><td>gamingwithprose.fun        </td><td>Lexsynergy             </td><td>Lexsynergy             </td><td>United Kingdom</td><td>NA</td><td>1</td><td>15.00</td><td>15.0000</td><td>0</td><td>231821101</td><td>auto-renewal</td><td>unrealized</td><td>Not Renewd</td><td>2019-09-17</td><td>15.0</td><td> 4.43</td><td>gamingwithprose      </td><td>1</td><td> 1</td><td>15</td><td>l       </td><td>15l       </td><td>fun    </td><td> 2.70805020</td><td>funlexsynergy               </td><td>0.810</td><td>0.9250064</td><td>   NA</td><td>0.6166981</td><td>1.000</td><td>0.89775000</td><td>NA</td><td>NA</td></tr>\n",
       "\t<tr><td>FirstTime</td><td>1</td><td>2019-11-19</td><td>2018-11-19</td><td>Active</td><td> 83956624</td><td>frogjuggler.site           </td><td>Imperial Registrations </td><td>Imperial Registrations </td><td>United States </td><td>NA</td><td>1</td><td>20.00</td><td>20.0000</td><td>0</td><td>256244735</td><td>auto-renewal</td><td>unrealized</td><td>Not Renewd</td><td>2019-11-19</td><td>20.0</td><td> 2.98</td><td>frogjuggler          </td><td>1</td><td> 1</td><td>11</td><td>l       </td><td>11l       </td><td>site   </td><td> 2.99573227</td><td>siteimperial registrations  </td><td>   NA</td><td>0.9880768</td><td>   NA</td><td>0.5626476</td><td>   NA</td><td>        NA</td><td>NA</td><td>NA</td></tr>\n",
       "\t<tr><td>FirstTime</td><td>1</td><td>2019-07-31</td><td>2018-07-31</td><td>Active</td><td> 73141264</td><td>youhen.tech                </td><td>Zhengzhou Zitian       </td><td>Zhengzhou Zitian       </td><td>China         </td><td>NA</td><td>1</td><td> 2.25</td><td> 2.2500</td><td>0</td><td>218382716</td><td>auto-renewal</td><td>unrealized</td><td>Not Renewd</td><td>2019-07-31</td><td> 6.0</td><td> 4.64</td><td>youhen               </td><td>1</td><td> 1</td><td> 6</td><td>l       </td><td>6l        </td><td>tech   </td><td> 0.81093022</td><td>techzhengzhou zitian        </td><td>0.957</td><td>0.7270511</td><td>   NA</td><td>0.6360283</td><td>0.540</td><td>0.79759728</td><td>NA</td><td>NA</td></tr>\n",
       "\t<tr><td>FirstTime</td><td>1</td><td>2019-07-20</td><td>2018-07-20</td><td>Active</td><td> 72570834</td><td>merino.pw                  </td><td>Mesh Digital           </td><td>HostEurope             </td><td>Germany       </td><td>NA</td><td>1</td><td> 6.00</td><td> 6.0000</td><td>0</td><td>210057756</td><td>renewal     </td><td>NA        </td><td>Renewed   </td><td>2019-06-20</td><td>15.0</td><td>13.82</td><td>merino               </td><td>1</td><td> 1</td><td> 6</td><td>l       </td><td>6l        </td><td>pw     </td><td> 1.79175947</td><td>pwhosteurope                </td><td>0.708</td><td>0.6851074</td><td>   NA</td><td>0.6368430</td><td>0.974</td><td>0.91915490</td><td>NA</td><td>NA</td></tr>\n",
       "\t<tr><td>FirstTime</td><td>1</td><td>2020-08-15</td><td>2019-08-15</td><td>Active</td><td>118048911</td><td>unitednet-design.website   </td><td>United Domains         </td><td>Alfahosting            </td><td>Germany       </td><td>NA</td><td>1</td><td>15.00</td><td>15.0000</td><td>0</td><td>337655644</td><td>auto-renewal</td><td>realized  </td><td>Renewed   </td><td>2020-08-15</td><td>15.0</td><td> 3.10</td><td>unitednet-design     </td><td>1</td><td> 1</td><td>16</td><td>hyphen-l</td><td>16hyphen-l</td><td>website</td><td> 2.70805020</td><td>websitealfahosting          </td><td>0.688</td><td>0.8366708</td><td>   NA</td><td>0.5640029</td><td>0.756</td><td>0.94420956</td><td>NA</td><td>NA</td></tr>\n",
       "\t<tr><td>FirstTime</td><td>1</td><td>2019-09-26</td><td>2018-09-26</td><td>Active</td><td> 77531224</td><td>kosten.site                </td><td>Key-Systems            </td><td>Compra                 </td><td>Netherlands   </td><td>NA</td><td>1</td><td> 5.00</td><td> 5.0000</td><td>0</td><td>234417531</td><td>auto-renewal</td><td>unrealized</td><td>Not Renewd</td><td>2019-09-26</td><td>20.0</td><td> 6.01</td><td>kosten               </td><td>1</td><td> 1</td><td> 6</td><td>l       </td><td>6l        </td><td>site   </td><td> 1.60943791</td><td>sitecompra                  </td><td>0.000</td><td>0.1650235</td><td>   NA</td><td>0.5973271</td><td>   NA</td><td>0.00000000</td><td>NA</td><td>NA</td></tr>\n",
       "\t<tr><td>FirstTime</td><td>1</td><td>2020-04-05</td><td>2019-04-05</td><td>Active</td><td> 99009174</td><td>webplaneta.press           </td><td>Registrator Domenov    </td><td>Registrator Domenov    </td><td>Russia        </td><td>NA</td><td>1</td><td>49.00</td><td>49.0000</td><td>0</td><td>289165811</td><td>renewal     </td><td>NA        </td><td>Renewed   </td><td>2020-02-05</td><td>49.0</td><td> 2.81</td><td>webplaneta           </td><td>1</td><td> 1</td><td>10</td><td>l       </td><td>10l       </td><td>press  </td><td> 3.89182030</td><td>pressregistrator domenov    </td><td>0.155</td><td>0.4753756</td><td>   NA</td><td>0.7275313</td><td>0.414</td><td>0.46489889</td><td>NA</td><td>NA</td></tr>\n",
       "\t<tr><td>FirstTime</td><td>1</td><td>2019-12-06</td><td>2018-12-06</td><td>Active</td><td> 86079062</td><td>futureclient.website       </td><td>Tucows                 </td><td>Siteground             </td><td>Bulgaria      </td><td>NA</td><td>1</td><td> 5.00</td><td> 5.0000</td><td>0</td><td>262682376</td><td>renewal     </td><td>NA        </td><td>Renewed   </td><td>2019-12-06</td><td>15.0</td><td> 6.73</td><td>futureclient         </td><td>1</td><td> 1</td><td>12</td><td>l       </td><td>12l       </td><td>website</td><td> 1.60943791</td><td>websitesiteground           </td><td>0.470</td><td>0.6328508</td><td>   NA</td><td>0.6251516</td><td>0.591</td><td>0.74349849</td><td>NA</td><td>NA</td></tr>\n",
       "\t<tr><td>FirstTime</td><td>1</td><td>2020-04-29</td><td>2019-04-29</td><td>Active</td><td>102386359</td><td>ahlatlibel.site            </td><td>Tucows                 </td><td>Markum                 </td><td>Indonesia     </td><td>NA</td><td>1</td><td> 6.00</td><td> 6.0000</td><td>0</td><td>311399469</td><td>renewal     </td><td>NA        </td><td>Renewed   </td><td>2020-04-27</td><td>20.0</td><td> 2.42</td><td>ahlatlibel           </td><td>1</td><td> 1</td><td>10</td><td>l       </td><td>10l       </td><td>site   </td><td> 1.79175947</td><td>sitemarkum                  </td><td>0.729</td><td>0.6593500</td><td>   NA</td><td>0.6145744</td><td>   NA</td><td>        NA</td><td>NA</td><td>NA</td></tr>\n",
       "\t<tr><td>FirstTime</td><td>1</td><td>2019-07-31</td><td>2018-07-31</td><td>Active</td><td> 73230044</td><td>rcawireless.tech           </td><td>eNom                   </td><td>EUKHost                </td><td>United Kingdom</td><td>NA</td><td>1</td><td>12.00</td><td>12.0000</td><td>0</td><td>218471321</td><td>auto-renewal</td><td>unrealized</td><td>Not Renewd</td><td>2019-07-31</td><td>35.0</td><td> 5.92</td><td>rcawireless          </td><td>1</td><td> 1</td><td>11</td><td>l       </td><td>11l       </td><td>tech   </td><td> 2.48490665</td><td>techeukhost                 </td><td>0.518</td><td>0.5672919</td><td>   NA</td><td>0.7812017</td><td>0.147</td><td>0.29662500</td><td>NA</td><td>NA</td></tr>\n",
       "\t<tr><td>FirstTime</td><td>1</td><td>2019-08-07</td><td>2018-08-07</td><td>Active</td><td> 73786199</td><td>talktalkplc.press          </td><td>Ascio                  </td><td>Ascio                  </td><td>Denmark       </td><td>NA</td><td>1</td><td> 7.00</td><td> 7.0000</td><td>0</td><td>213695661</td><td>renewal     </td><td>NA        </td><td>Renewed   </td><td>2019-07-08</td><td>49.0</td><td> 1.28</td><td>talktalkplc          </td><td>1</td><td> 1</td><td>11</td><td>l       </td><td>11l       </td><td>press  </td><td> 1.94591015</td><td>pressascio                  </td><td>0.396</td><td>0.6822090</td><td>   NA</td><td>0.7433086</td><td>0.605</td><td>0.93365079</td><td>NA</td><td>NA</td></tr>\n",
       "\t<tr><td>FirstTime</td><td>1</td><td>2020-04-08</td><td>2019-04-08</td><td>Active</td><td> 99243829</td><td>heterodox.press            </td><td>Tucows                 </td><td>EasyDNS                </td><td>Canada        </td><td>NA</td><td>1</td><td>49.00</td><td>49.0000</td><td>0</td><td>304376229</td><td>renewal     </td><td>NA        </td><td>Renewed   </td><td>2020-04-02</td><td>49.0</td><td> 4.41</td><td>heterodox            </td><td>1</td><td> 1</td><td> 9</td><td>l       </td><td>9l        </td><td>press  </td><td> 3.89182030</td><td>presseasydns                </td><td>0.332</td><td>0.4480044</td><td>   NA</td><td>0.5961707</td><td>0.203</td><td>0.71439422</td><td>NA</td><td>NA</td></tr>\n",
       "\t<tr><td>FirstTime</td><td>1</td><td>2020-06-18</td><td>2019-06-18</td><td>Active</td><td>108660061</td><td>creations2020.pw           </td><td>PDR Ltd                </td><td>Impreza                </td><td>Nigeria       </td><td>NA</td><td>1</td><td> 0.50</td><td> 0.5000</td><td>0</td><td>322982304</td><td>auto-renewal</td><td>unrealized</td><td>Not Renewd</td><td>2020-06-18</td><td>15.0</td><td> 8.53</td><td>creations2020        </td><td>1</td><td> 1</td><td>13</td><td>ln      </td><td>13ln      </td><td>pw     </td><td>-0.69314718</td><td>pwimpreza                   </td><td>0.006</td><td>0.1491183</td><td>   NA</td><td>0.5753531</td><td>0.000</td><td>0.15961663</td><td>NA</td><td>NA</td></tr>\n",
       "\t<tr><td>FirstTime</td><td>1</td><td>2019-06-11</td><td>2018-06-11</td><td>Active</td><td> 69834100</td><td>chillfest.fun              </td><td>Webnames               </td><td>Webnames               </td><td>Canada        </td><td>NA</td><td>1</td><td>15.00</td><td>15.0000</td><td>0</td><td>207730351</td><td>auto-renewal</td><td>unrealized</td><td>Not Renewd</td><td>2019-06-11</td><td>15.0</td><td> 7.92</td><td>chillfest            </td><td>1</td><td> 1</td><td> 9</td><td>l       </td><td>9l        </td><td>fun    </td><td> 2.70805020</td><td>funwebnames                 </td><td>0.271</td><td>0.5920338</td><td>   NA</td><td>0.6103056</td><td>0.446</td><td>0.47993068</td><td>NA</td><td>NA</td></tr>\n",
       "\t<tr><td>FirstTime</td><td>1</td><td>2020-05-31</td><td>2019-05-31</td><td>Active</td><td>105762741</td><td>nijmegen.website           </td><td>Key-Systems            </td><td>Neostrada              </td><td>Netherlands   </td><td>NA</td><td>1</td><td>10.00</td><td>10.0000</td><td>0</td><td>319090934</td><td>auto-renewal</td><td>realized  </td><td>Renewed   </td><td>2020-05-31</td><td>15.0</td><td> 1.26</td><td>nijmegen             </td><td>1</td><td> 1</td><td> 8</td><td>l       </td><td>8l        </td><td>website</td><td> 2.30258509</td><td>websiteneostrada            </td><td>0.552</td><td>0.6894393</td><td>   NA</td><td>0.6001310</td><td>0.514</td><td>0.55410756</td><td>NA</td><td>NA</td></tr>\n",
       "\t<tr><td>FirstTime</td><td>1</td><td>2019-07-15</td><td>2018-07-15</td><td>Active</td><td> 72123374</td><td>bosberaad.website          </td><td>Key-Systems            </td><td>Neostrada              </td><td>Netherlands   </td><td>NA</td><td>1</td><td> 4.00</td><td> 4.0000</td><td>0</td><td>215156396</td><td>auto-renewal</td><td>realized  </td><td>Renewed   </td><td>2019-07-15</td><td>15.0</td><td> 2.60</td><td>bosberaad            </td><td>1</td><td> 1</td><td> 9</td><td>l       </td><td>9l        </td><td>website</td><td> 1.38629436</td><td>websiteneostrada            </td><td>0.543</td><td>0.6123546</td><td>   NA</td><td>0.6112665</td><td>0.567</td><td>0.76329629</td><td>NA</td><td>NA</td></tr>\n",
       "\t<tr><td>FirstTime</td><td>1</td><td>2019-10-30</td><td>2018-10-30</td><td>Active</td><td> 80956989</td><td>printxpress.in.net         </td><td>OwnRegistrar           </td><td>OwnRegistrar           </td><td>India         </td><td>NA</td><td>1</td><td> 6.00</td><td> 6.0000</td><td>0</td><td>245484370</td><td>auto-renewal</td><td>unrealized</td><td>Not Renewd</td><td>2019-10-30</td><td> 6.0</td><td> 6.15</td><td>printxpress          </td><td>1</td><td> 1</td><td>11</td><td>l       </td><td>11l       </td><td>in.net </td><td> 1.79175947</td><td>in.netownregistrar          </td><td>0.366</td><td>0.5997195</td><td>   NA</td><td>0.5927023</td><td>0.864</td><td>0.51476187</td><td>NA</td><td>NA</td></tr>\n",
       "\t<tr><td>FirstTime</td><td>1</td><td>2020-07-24</td><td>2019-07-24</td><td>Active</td><td>113944656</td><td>littlelion.space           </td><td>PDR Ltd                </td><td>Guzel Hosting          </td><td>Turkey        </td><td>NA</td><td>1</td><td> 0.50</td><td> 0.5000</td><td>0</td><td>331882189</td><td>auto-renewal</td><td>unrealized</td><td>Not Renewd</td><td>2020-07-24</td><td>15.0</td><td> 6.54</td><td>littlelion           </td><td>1</td><td> 1</td><td>10</td><td>l       </td><td>10l       </td><td>space  </td><td>-0.69314718</td><td>spaceguzel hosting          </td><td>0.038</td><td>0.1223125</td><td>   NA</td><td>0.5811143</td><td>0.058</td><td>0.04018261</td><td>NA</td><td>NA</td></tr>\n",
       "\t<tr><td>FirstTime</td><td>1</td><td>2020-02-06</td><td>2019-02-06</td><td>Active</td><td> 93010773</td><td>parliamentary.press        </td><td>PDR Ltd                </td><td>BigRock                </td><td>India         </td><td>NA</td><td>1</td><td> 6.00</td><td> 6.0000</td><td>0</td><td>289439061</td><td>auto-renewal</td><td>unrealized</td><td>Not Renewd</td><td>2020-02-06</td><td>49.0</td><td> 6.19</td><td>parliamentary        </td><td>1</td><td> 1</td><td>13</td><td>l       </td><td>13l       </td><td>press  </td><td> 1.79175947</td><td>pressbigrock                </td><td>0.049</td><td>0.2166930</td><td>0.038</td><td>0.3034804</td><td>0.122</td><td>0.24535632</td><td>NA</td><td>NA</td></tr>\n",
       "\t<tr><td>FirstTime</td><td>1</td><td>2020-08-18</td><td>2019-08-18</td><td>Active</td><td>118462681</td><td>indoamericanpressclub.press</td><td>PDR Ltd                </td><td>BigRock                </td><td>India         </td><td>NA</td><td>1</td><td> 6.00</td><td> 6.0000</td><td>0</td><td>338353614</td><td>auto-renewal</td><td>unrealized</td><td>Not Renewd</td><td>2020-08-18</td><td>49.0</td><td> 5.47</td><td>indoamericanpressclub</td><td>1</td><td> 1</td><td>21</td><td>l       </td><td>21l       </td><td>press  </td><td> 1.79175947</td><td>pressbigrock                </td><td>0.043</td><td>0.2379831</td><td>0.033</td><td>0.2704060</td><td>0.089</td><td>0.26639695</td><td>NA</td><td>NA</td></tr>\n",
       "\t<tr><td>FirstTime</td><td>1</td><td>2019-07-23</td><td>2018-07-23</td><td>Active</td><td> 72691074</td><td>daton.tech                 </td><td>Inames                 </td><td>Inames                 </td><td>Korea         </td><td>NA</td><td>1</td><td>35.00</td><td>35.0000</td><td>0</td><td>216782261</td><td>auto-renewal</td><td>unrealized</td><td>Not Renewd</td><td>2019-07-23</td><td>35.0</td><td> 8.69</td><td>daton                </td><td>1</td><td> 1</td><td> 5</td><td>l       </td><td>5l        </td><td>tech   </td><td> 3.55534806</td><td>techinames                  </td><td>0.000</td><td>0.2164483</td><td>   NA</td><td>0.8468427</td><td>   NA</td><td>0.00000000</td><td>NA</td><td>NA</td></tr>\n",
       "\t<tr><td>FirstTime</td><td>1</td><td>2020-06-11</td><td>2019-06-11</td><td>Active</td><td>107426936</td><td>webix-dev.host             </td><td>Tucows                 </td><td>Check Domain           </td><td>Germany       </td><td>NA</td><td>1</td><td>65.00</td><td>65.0000</td><td>0</td><td>321311914</td><td>renewal     </td><td>NA        </td><td>Renewed   </td><td>2020-06-11</td><td>65.0</td><td> 1.32</td><td>webix-dev            </td><td>1</td><td> 1</td><td> 9</td><td>hyphen-l</td><td>9hyphen-l </td><td>host   </td><td> 4.17438727</td><td>hostcheck domain            </td><td>0.354</td><td>0.4555586</td><td>   NA</td><td>0.5685879</td><td>0.788</td><td>0.88573523</td><td>NA</td><td>NA</td></tr>\n",
       "\t<tr><td>FirstTime</td><td>1</td><td>2020-01-23</td><td>2019-01-23</td><td>Active</td><td> 91704323</td><td>skateworld.store           </td><td>Tecnocratica Centro    </td><td>Tecnocratica Centro    </td><td>Spain         </td><td>NA</td><td>1</td><td> 6.00</td><td> 6.0000</td><td>0</td><td>284086486</td><td>auto-renewal</td><td>unrealized</td><td>Not Renewd</td><td>2020-01-23</td><td>40.0</td><td> 3.81</td><td>skateworld           </td><td>1</td><td> 1</td><td>10</td><td>l       </td><td>10l       </td><td>store  </td><td> 1.79175947</td><td>storetecnocratica centro    </td><td>0.801</td><td>0.7428275</td><td>   NA</td><td>0.7708989</td><td>0.769</td><td>0.76734804</td><td>NA</td><td>NA</td></tr>\n",
       "\t<tr><td>FirstTime</td><td>1</td><td>2019-06-27</td><td>2018-06-27</td><td>Active</td><td> 71082385</td><td>mondonauts.space           </td><td>COREhub                </td><td>COREhub                </td><td>Spain         </td><td>NA</td><td>1</td><td> 6.00</td><td> 6.0000</td><td>0</td><td>211891596</td><td>auto-renewal</td><td>realized  </td><td>Renewed   </td><td>2019-06-27</td><td>15.0</td><td> 6.78</td><td>mondonauts           </td><td>1</td><td> 1</td><td>10</td><td>l       </td><td>10l       </td><td>space  </td><td> 1.79175947</td><td>spacecorehub                </td><td>0.958</td><td>0.9664041</td><td>   NA</td><td>0.7293035</td><td>0.951</td><td>0.97395632</td><td>NA</td><td>NA</td></tr>\n",
       "\t<tr><td>FirstTime</td><td>1</td><td>2019-06-30</td><td>2017-06-30</td><td>Active</td><td> 49087574</td><td>geovis.store               </td><td>ShenZhen HuLianXianFeng</td><td>ShenZhen HuLianXianFeng</td><td>China         </td><td>NA</td><td>2</td><td> 7.50</td><td> 3.7500</td><td>0</td><td>192437064</td><td>transfer    </td><td>NA        </td><td>Renewed   </td><td>2019-03-25</td><td> 7.0</td><td> 5.41</td><td>geovis               </td><td>1</td><td> 1</td><td> 6</td><td>l       </td><td>6l        </td><td>store  </td><td> 1.32175584</td><td>storeshenzhen hulianxianfeng</td><td>0.105</td><td>0.3228792</td><td>   NA</td><td>0.7141210</td><td>1.000</td><td>0.30977381</td><td>NA</td><td>NA</td></tr>\n",
       "\t<tr><td>FirstTime</td><td>1</td><td>2019-07-08</td><td>2018-07-08</td><td>Active</td><td> 71594045</td><td>acmest.online              </td><td>Whois Networks         </td><td>Whois Networks         </td><td>Korea         </td><td>NA</td><td>1</td><td>25.00</td><td>25.0000</td><td>0</td><td>213832106</td><td>auto-renewal</td><td>unrealized</td><td>Not Renewd</td><td>2019-07-08</td><td>25.0</td><td> 2.88</td><td>acmest               </td><td>1</td><td> 1</td><td> 6</td><td>l       </td><td>6l        </td><td>online </td><td> 3.21887582</td><td>onlinewhois networks        </td><td>0.408</td><td>0.5699284</td><td>   NA</td><td>0.9276133</td><td>0.444</td><td>0.58723209</td><td>NA</td><td>NA</td></tr>\n",
       "\t<tr><td>FirstTime</td><td>1</td><td>2020-05-07</td><td>2019-05-07</td><td>Active</td><td>102955459</td><td>konvini.store              </td><td>Inames                 </td><td>Inames                 </td><td>Korea         </td><td>NA</td><td>1</td><td>40.00</td><td>40.0000</td><td>0</td><td>313667909</td><td>auto-renewal</td><td>unrealized</td><td>Not Renewd</td><td>2020-05-07</td><td>40.0</td><td> 5.59</td><td>konvini              </td><td>1</td><td> 1</td><td> 7</td><td>l       </td><td>7l        </td><td>store  </td><td> 3.68887945</td><td>storeinames                 </td><td>0.000</td><td>0.2070983</td><td>   NA</td><td>0.8658228</td><td>   NA</td><td>0.00000000</td><td>NA</td><td>NA</td></tr>\n",
       "\t<tr><td>FirstTime</td><td>1</td><td>2020-02-11</td><td>2019-02-11</td><td>Active</td><td> 93333378</td><td>dyham.press                </td><td>Webnames               </td><td>Webnames               </td><td>Canada        </td><td>NA</td><td>1</td><td>49.00</td><td>49.0000</td><td>0</td><td>290654076</td><td>auto-renewal</td><td>unrealized</td><td>Not Renewd</td><td>2020-02-11</td><td>49.0</td><td> 1.27</td><td>dyham                </td><td>1</td><td> 1</td><td> 5</td><td>l       </td><td>5l        </td><td>press  </td><td> 3.89182030</td><td>presswebnames               </td><td>0.265</td><td>0.3899154</td><td>   NA</td><td>0.7706898</td><td>0.440</td><td>0.35025719</td><td>NA</td><td>NA</td></tr>\n",
       "\t<tr><td>FirstTime</td><td>1</td><td>2019-07-05</td><td>2018-07-05</td><td>Active</td><td> 71440360</td><td>mellanox.store             </td><td>Domain The Net         </td><td>Domain The Net         </td><td>Israel        </td><td>NA</td><td>1</td><td>40.00</td><td>40.0000</td><td>0</td><td>200279144</td><td>renewal     </td><td>NA        </td><td>Renewed   </td><td>2019-05-06</td><td>40.0</td><td> 5.54</td><td>mellanox             </td><td>1</td><td> 1</td><td> 8</td><td>l       </td><td>8l        </td><td>store  </td><td> 3.68887945</td><td>storedomain the net         </td><td>0.766</td><td>0.4828190</td><td>   NA</td><td>0.8681941</td><td>0.977</td><td>0.89065952</td><td>NA</td><td>NA</td></tr>\n",
       "\t<tr><td>FirstTime</td><td>1</td><td>2019-11-07</td><td>2018-11-07</td><td>Active</td><td> 82102184</td><td><span style=white-space:pre-wrap>ceat.press                 </span></td><td><span style=white-space:pre-wrap>1&amp;1 Internet           </span></td><td><span style=white-space:pre-wrap>Arsys                  </span></td><td><span style=white-space:pre-wrap>Spain         </span></td><td>NA</td><td>1</td><td>49.00</td><td>49.0000</td><td>0</td><td>248366815</td><td>auto-renewal</td><td><span style=white-space:pre-wrap>realized  </span></td><td><span style=white-space:pre-wrap>Renewed   </span></td><td>2019-11-07</td><td>49.0</td><td>10.44</td><td><span style=white-space:pre-wrap>ceat                 </span></td><td>1</td><td> 1</td><td> 4</td><td><span style=white-space:pre-wrap>l       </span></td><td><span style=white-space:pre-wrap>4l        </span></td><td><span style=white-space:pre-wrap>press  </span></td><td> 3.89182030</td><td><span style=white-space:pre-wrap>pressarsys                  </span></td><td>0.489</td><td>0.6627434</td><td><span style=white-space:pre-wrap>   NA</span></td><td>0.8305129</td><td>0.541</td><td>0.75187841</td><td>NA</td><td>NA</td></tr>\n",
       "\t<tr><td>FirstTime</td><td>1</td><td>2019-07-05</td><td>2018-07-05</td><td>Active</td><td> 71455605</td><td>crt.host                   </td><td>PDR Ltd                </td><td>Redehost               </td><td>Brazil        </td><td>NA</td><td>1</td><td> 3.00</td><td> 3.0000</td><td>0</td><td>213418891</td><td>auto-renewal</td><td>unrealized</td><td>Not Renewd</td><td>2019-07-05</td><td>65.0</td><td> 3.67</td><td>crt                  </td><td>1</td><td> 1</td><td> 3</td><td>l       </td><td>3l        </td><td>host   </td><td> 1.09861229</td><td>hostredehost                </td><td>0.091</td><td>0.3858803</td><td>   NA</td><td>0.6396910</td><td>0.217</td><td>0.45188043</td><td>NA</td><td>NA</td></tr>\n",
       "\t<tr><td>FirstTime</td><td>1</td><td>2019-07-01</td><td>2018-07-01</td><td>Active</td><td> 71238585</td><td>musictechnology.press      </td><td>Key-Systems            </td><td>Home.pl                </td><td>Poland        </td><td>NA</td><td>1</td><td>49.00</td><td>49.0000</td><td>0</td><td>211150046</td><td>renewal     </td><td>NA        </td><td>Renewed   </td><td>2019-06-24</td><td>49.0</td><td> 3.29</td><td>musictechnology      </td><td>1</td><td> 1</td><td>15</td><td>l       </td><td>15l       </td><td>press  </td><td> 3.89182030</td><td>presshome.pl                </td><td>0.072</td><td>0.5678307</td><td>0.047</td><td>0.2043780</td><td>0.363</td><td>0.77135019</td><td>NA</td><td>NA</td></tr>\n",
       "\t<tr><td>FirstTime</td><td>1</td><td>2019-08-28</td><td>2018-08-28</td><td>Active</td><td> 75267554</td><td>machineseeker.site         </td><td>Gransy                 </td><td>Webonic                </td><td>Hungary       </td><td>NA</td><td>1</td><td>20.00</td><td>20.0000</td><td>0</td><td>222082036</td><td>renewal     </td><td>NA        </td><td>Renewed   </td><td>2019-08-14</td><td>20.0</td><td> 7.37</td><td>machineseeker        </td><td>1</td><td> 1</td><td>13</td><td>l       </td><td>13l       </td><td>site   </td><td> 2.99573227</td><td>sitewebonic                 </td><td>0.634</td><td>0.8043772</td><td>   NA</td><td>0.5871087</td><td>1.000</td><td>0.76100000</td><td>NA</td><td>NA</td></tr>\n",
       "</tbody>\n",
       "</table>\n"
      ],
      "text/latex": [
       "A data.table: 58 × 39\n",
       "\\begin{tabular}{lllllllllllllllllllllllllllllllllllllll}\n",
       " renewal\\_type & renewed\\_count & expiry\\_date & creation\\_date & status & domain\\_id & domain & registrar & reseller & reseller\\_country & registrant\\_country & reg\\_period & reg\\_revenue & reg\\_arpt & renew\\_mbg & renewal\\_item\\_id & renew\\_type & autorenew\\_type & renewal\\_status & renew\\_date & renew\\_arpt & gibb\\_score & pattern & pattern\\_domain\\_count & day\\_domains & sld\\_length & sld\\_type & sld\\_type2 & tld & log\\_reg\\_arpt & tld\\_registrar\\_index & pred\\_agg\\_glm\\_ALL & pred\\_agg\\_rf\\_ALL & pred\\_agg\\_glm & pred\\_agg\\_rf & pred\\_seg\\_glm\\_ALL & pred\\_seg\\_rf\\_ALL & pred\\_seg2\\_glm\\_ALL & pred\\_seg2\\_rf\\_ALL\\\\\n",
       " <chr> & <int> & <date> & <date> & <chr> & <int> & <chr> & <chr> & <chr> & <chr> & <chr> & <int> & <dbl> & <dbl> & <int> & <int> & <chr> & <chr> & <chr> & <date> & <dbl> & <dbl> & <chr> & <int> & <int> & <int> & <chr> & <chr> & <chr> & <dbl> & <chr> & <dbl> & <dbl> & <dbl> & <dbl> & <dbl> & <dbl> & <lgl> & <lgl>\\\\\n",
       "\\hline\n",
       "\t FirstTime & 1 & 2019-06-14 & 2018-06-14 & Active &  70181780 & steibei.space               & Internet GmbH           & Internet GmbH           & Germany        & NA & 1 &  6.00 &  6.0000 & 0 & 208493821 & auto-renewal & realized   & Renewed    & 2019-06-14 & 15.0 &  4.02 & steibei               & 1 &  1 &  7 & l        & 7l         & space   &  1.79175947 & spaceinternet gmbh           & 0.920 & 0.9713886 &    NA & 0.7251219 & 0.975 & 0.98133698 & NA & NA\\\\\n",
       "\t FirstTime & 1 & 2020-05-17 & 2019-05-17 & Active & 103906916 & wingtsun.space              & Internet GmbH           & Internet GmbH           & Germany        & NA & 1 & 15.00 & 15.0000 & 0 & 315625244 & auto-renewal & realized   & Renewed    & 2020-05-17 & 15.0 &  6.48 & wingtsun              & 1 &  1 &  8 & l        & 8l         & space   &  2.70805020 & spaceinternet gmbh           & 0.924 & 0.9685702 &    NA & 0.6956184 & 0.993 & 0.97838698 & NA & NA\\\\\n",
       "\t FirstTime & 1 & 2019-10-05 & 2018-10-05 & Active &  78360794 & sfmart.store                & PDR Ltd                 & Arvixe                  & United States  & NA & 1 &  6.50 &  6.5000 & 0 & 235884471 & renewal      & NA         & Renewed    & 2019-10-01 & 26.5 &  1.15 & sfmart                & 1 &  1 &  6 & l        & 6l         & store   &  1.87180218 & storearvixe                  & 0.000 & 0.2597214 &    NA & 0.7862930 &    NA &         NA & NA & NA\\\\\n",
       "\t FirstTime & 1 & 2020-08-30 & 2019-08-30 & Active & 122049036 & qianxiyun.online            &                         &                         &                & NA & 1 & 25.00 & 25.0000 & 0 & 341703158 & auto-renewal & unrealized & Not Renewd & 2020-08-30 &  6.0 &  0.63 & qianxiyun             & 1 &  1 &  9 & l        & 9l         & online  &  3.21887582 & online                       &    NA & 0.9550391 &    NA & 0.7713468 &    NA &         NA & NA & NA\\\\\n",
       "\t FirstTime & 1 & 2019-08-15 & 2018-08-15 & Active &  74267354 & ontarioart.space            & Register.ca             & Register.ca             & Canada         & NA & 1 &  6.00 &  6.0000 & 0 & 222880706 & auto-renewal & unrealized & Not Renewd & 2019-08-15 & 15.0 &  6.11 & ontarioart            & 1 &  1 & 10 & l        & 10l        & space   &  1.79175947 & spaceregister.ca             &    NA & 0.9855667 &    NA & 0.7286549 &    NA &         NA & NA & NA\\\\\n",
       "\t FirstTime & 1 & 2020-04-22 & 2019-04-22 & Active & 101141084 & ziprecruiter.press          & NICENIC                 & NICENIC                 & Hong Kong      & NA & 1 &  1.08 &  1.0800 & 0 & 295236384 & transfer     & NA         & Renewed    & 2020-02-26 & 49.0 &  5.61 & ziprecruiter          & 1 &  1 & 12 & l        & 12l        & press   &  0.07696104 & pressnicenic                 & 0.022 & 0.2796425 &    NA & 0.5721173 & 0.093 & 0.30130160 & NA & NA\\\\\n",
       "\t FirstTime & 1 & 2019-06-27 & 2018-06-27 & Active &  71066905 & allmaker.space              & 1\\&1 Internet            & Arsys                   & Spain          & NA & 1 &  1.00 &  1.0000 & 0 & 211876061 & auto-renewal & unrealized & Not Renewd & 2019-06-27 &  6.0 &  6.55 & allmaker              & 1 &  1 &  8 & l        & 8l         & space   &  0.00000000 & spacearsys                   & 0.487 & 0.5107410 &    NA & 0.5963515 & 0.544 & 0.83162583 & NA & NA\\\\\n",
       "\t FirstTime & 1 & 2019-11-19 & 2018-11-19 & Active &  83956614 & frogjuggler.online          & Imperial Registrations  & Imperial Registrations  & United States  & NA & 1 & 25.00 & 25.0000 & 0 & 256244725 & auto-renewal & unrealized & Not Renewd & 2019-11-19 & 25.0 &  2.98 & frogjuggler           & 1 &  1 & 11 & l        & 11l        & online  &  3.21887582 & onlineimperial registrations &    NA & 0.9948964 &    NA & 0.8257238 &    NA &         NA & NA & NA\\\\\n",
       "\t FirstTime & 1 & 2020-08-07 & 2019-08-07 & Active & 116039006 & fh1.site                    & NetClues                & NetClues                &                & NA & 1 &  0.00 &  0.0001 & 0 & 335679829 & auto-renewal & realized   & Renewed    & 2020-08-07 & 20.0 &  0.02 & fh1                   & 1 &  1 &  3 & ln       & 3ln        & site    & -9.21034037 & sitenetclues                 & 0.000 & 0.1291702 &    NA & 0.5810059 &    NA &         NA & NA & NA\\\\\n",
       "\t FirstTime & 1 & 2019-11-09 & 2018-11-09 & Active &  82321649 & antispamgw.host             & Realtime Register       & Realtime Register       & Netherlands    & NA & 1 & 65.00 & 65.0000 & 0 & 238730925 & renewal      & NA         & Renewed    & 2019-10-10 & 65.0 &  2.09 & antispamgw            & 1 &  1 & 10 & l        & 10l        & host    &  4.17438727 & hostrealtime register        & 0.252 & 0.4590399 & 0.253 & 0.5696194 & 0.904 & 0.64286641 & NA & NA\\\\\n",
       "\t FirstTime & 1 & 2019-10-04 & 2018-10-04 & Active &  78253334 & lokal.host                  & Realtime Register       & Realtime Register       & Netherlands    & NA & 1 & 65.00 & 65.0000 & 0 & 236006436 & renewal      & NA         & Renewed    & 2019-10-01 & 65.0 &  3.87 & lokal                 & 1 &  1 &  5 & l        & 5l         & host    &  4.17438727 & hostrealtime register        & 0.275 & 0.5426539 & 0.275 & 0.5710536 & 0.899 & 0.68472740 & NA & NA\\\\\n",
       "\t FirstTime & 1 & 2019-08-07 & 2018-08-07 & Active &  73736289 & firstdesign.website         & Mesh Digital            & Heart Internet          & United Kingdom & NA & 1 &  0.80 &  0.8000 & 0 & 218843026 & renewal      & NA         & Renewed    & 2019-08-02 & 15.0 &  2.99 & firstdesign           & 1 &  1 & 11 & l        & 11l        & website & -0.22314355 & websiteheart internet        & 1.000 & 0.9309190 &    NA & 0.5801021 &    NA &         NA & NA & NA\\\\\n",
       "\t FirstTime & 1 & 2020-01-25 & 2019-01-25 & Active &  91900703 & sems.site                   & Whois Networks          & Whois Networks          & Korea          & NA & 1 & 20.00 & 20.0000 & 0 & 283009471 & renewal      & NA         & Renewed    & 2020-01-21 & 20.0 &  4.29 & sems                  & 1 &  1 &  4 & l        & 4l         & site    &  2.99573227 & sitewhois networks           & 0.293 & 0.7015172 &    NA & 0.6847056 & 0.756 & 0.74919041 & NA & NA\\\\\n",
       "\t FirstTime & 1 & 2020-03-27 & 2019-03-27 & Active &  98114119 & tevec.store                 & Global Village          & Global Village          & Germany        & NA & 1 & 40.00 & 40.0000 & 0 &         0 & NA           & NA         & Not Renewd & NA &   NA &  6.92 & tevec                 & 1 &  1 &  5 & l        & 5l         & store   &  3.68887945 & storeglobal village          & 1.000 & 0.9311672 &    NA & 0.8359576 &    NA &         NA & NA & NA\\\\\n",
       "\t FirstTime & 1 & 2020-05-19 & 2019-05-19 & Active & 104026606 & sevensins.fun               & DNC Holdings            & DNC Holdings            & United States  & NA & 1 & 15.00 & 15.0000 & 0 & 316084664 & auto-renewal & unrealized & Not Renewd & 2020-05-19 & 15.0 &  8.88 & sevensins             & 1 &  1 &  9 & l        & 9l         & fun     &  2.70805020 & fundnc holdings              & 0.453 & 0.7781161 &    NA & 0.6297827 & 0.364 & 0.70470105 & NA & NA\\\\\n",
       "\t FirstTime & 1 & 2020-04-22 & 2019-04-22 & Active & 101088999 & eska.store                  & Jogjacamp               & Jogjacamp               & Indonesia      & NA & 1 &  2.50 &  2.5000 & 0 & 309859364 & auto-renewal & unrealized & Not Renewd & 2020-04-22 & 40.0 &  2.83 & eska                  & 1 &  1 &  4 & l        & 4l         & store   &  0.91629073 & storejogjacamp               & 0.052 & 0.3624642 &    NA & 0.7672393 & 0.046 & 0.45361957 & NA & NA\\\\\n",
       "\t FirstTime & 1 & 2020-02-05 & 2019-02-05 & Active &  92905248 & compra.store                & Key-Systems             & Compra                  & Netherlands    & NA & 1 &  3.00 &  3.0000 & 0 & 289269716 & auto-renewal & realized   & Renewed    & 2020-02-05 & 40.0 & 10.07 & compra                & 1 &  1 &  6 & l        & 6l         & store   &  1.09861229 & storecompra                  & 0.000 & 0.1588105 &    NA & 0.6993082 &    NA & 0.00000000 & NA & NA\\\\\n",
       "\t FirstTime & 1 & 2020-05-26 & 2019-05-26 & Active & 104968651 & sysadmins.fun               & Tecnocratica Centro     & Tecnocratica Centro     & Spain          & NA & 1 & 15.00 & 15.0000 & 0 & 315829289 & renewal      & NA         & Renewed    & 2020-05-18 & 15.0 &  3.46 & sysadmins             & 1 &  1 &  9 & l        & 9l         & fun     &  2.70805020 & funtecnocratica centro       & 0.666 & 0.6468300 &    NA & 0.5789864 & 0.931 & 0.81458920 & NA & NA\\\\\n",
       "\t FirstTime & 1 & 2019-06-12 & 2018-06-12 & Active &  69902250 & bohemechic.store            & Planet Hoster           & Planet Hoster           & Canada         & NA & 1 & 40.00 & 40.0000 & 0 & 207608691 & renewal      & NA         & Renewed    & 2019-06-11 & 40.0 &  6.59 & bohemechic            & 1 &  1 & 10 & l        & 10l        & store   &  3.68887945 & storeplanet hoster           & 0.931 & 0.9259644 &    NA & 0.7534841 & 1.000 & 0.82794164 & NA & NA\\\\\n",
       "\t FirstTime & 1 & 2019-09-29 & 2018-09-29 & Active &  77731294 & filetmignon.store           & Planet Hoster           & Planet Hoster           & Canada         & NA & 1 & 40.00 & 40.0000 & 0 & 235473511 & auto-renewal & realized   & Renewed    & 2019-09-29 & 40.0 &  4.25 & filetmignon           & 1 &  1 & 11 & l        & 11l        & store   &  3.68887945 & storeplanet hoster           & 0.927 & 0.9356569 &    NA & 0.8306447 & 1.000 & 0.88134164 & NA & NA\\\\\n",
       "\t FirstTime & 1 & 2019-10-09 & 2018-10-09 & Active &  78686599 & whiteley.tech               & Freeparking             & Freeparking             & United Kingdom & NA & 1 & 35.00 & 35.0000 & 0 & 224135771 & renewal      & NA         & Renewed    & 2019-08-22 & 35.0 &  7.84 & whiteley              & 1 &  1 &  8 & l        & 8l         & tech    &  3.55534806 & techfreeparking              & 0.671 & 0.6450379 &    NA & 0.8157455 & 0.382 & 0.66875220 & NA & NA\\\\\n",
       "\t FirstTime & 1 & 2019-08-04 & 2018-08-04 & Active &  73576899 & altenen.pw                  & Web4Africa              & Web4Africa              & South Africa   & NA & 1 &  6.00 &  6.0000 & 0 & 219276076 & auto-renewal & unrealized & Not Renewd & 2019-08-04 &  0.0 &  6.97 & altenen               & 1 &  1 &  7 & l        & 7l         & pw      &  1.79175947 & pwweb4africa                 & 0.035 & 0.3189241 &    NA & 0.6318866 & 0.101 & 0.20175308 & NA & NA\\\\\n",
       "\t FirstTime & 1 & 2020-05-24 & 2017-05-24 & Active &  48026450 & cicada.pw                   & PDR Ltd                 & Bluehost                & United States  & NA & 3 & 12.50 &  4.1700 & 0 & 317208689 & auto-renewal & NA         & Not Renewd & 2020-05-24 &  6.0 &  5.42 & cicada                & 1 &  1 &  6 & l        & 6l         & pw      &  1.42791604 & pwbluehost                   & 0.475 & 0.5378698 & 0.489 & 0.6305815 & 1.000 & 0.56918952 & NA & NA\\\\\n",
       "\t FirstTime & 1 & 2019-12-19 & 2018-12-19 & Active &  88054102 & baodou.pw                   & PDR Ltd                 & Bluehost                & United States  & NA & 1 &  0.50 &  0.5000 & 0 & 265555511 & renewal      & NA         & Renewed    & 2019-12-12 & 15.0 &  1.85 & baodou                & 2 & 25 &  6 & l        & 6l         & pw      & -0.69314718 & pwbluehost                   & 0.216 & 0.1154223 & 0.215 & 0.1802359 & 0.303 & 0.69303276 & NA & NA\\\\\n",
       "\t FirstTime & 1 & 2020-06-17 & 2019-06-17 & Active & 108131151 & marketingshop.space         & OwnRegistrar            & OwnRegistrar            &                & NA & 1 &  3.00 &  3.0000 & 0 & 322847614 & auto-renewal & unrealized & Not Renewd & 2020-06-17 & 15.0 &  6.32 & marketingshop         & 1 &  1 & 13 & l        & 13l        & space   &  1.09861229 & spaceownregistrar            & 0.325 & 0.8397940 &    NA & 0.7007593 & 0.017 & 0.40453092 & NA & NA\\\\\n",
       "\t FirstTime & 1 & 2019-09-17 & 2018-09-17 & Active &  76806449 & gamingwithprose.fun         & Lexsynergy              & Lexsynergy              & United Kingdom & NA & 1 & 15.00 & 15.0000 & 0 & 231821101 & auto-renewal & unrealized & Not Renewd & 2019-09-17 & 15.0 &  4.43 & gamingwithprose       & 1 &  1 & 15 & l        & 15l        & fun     &  2.70805020 & funlexsynergy                & 0.810 & 0.9250064 &    NA & 0.6166981 & 1.000 & 0.89775000 & NA & NA\\\\\n",
       "\t FirstTime & 1 & 2019-11-19 & 2018-11-19 & Active &  83956624 & frogjuggler.site            & Imperial Registrations  & Imperial Registrations  & United States  & NA & 1 & 20.00 & 20.0000 & 0 & 256244735 & auto-renewal & unrealized & Not Renewd & 2019-11-19 & 20.0 &  2.98 & frogjuggler           & 1 &  1 & 11 & l        & 11l        & site    &  2.99573227 & siteimperial registrations   &    NA & 0.9880768 &    NA & 0.5626476 &    NA &         NA & NA & NA\\\\\n",
       "\t FirstTime & 1 & 2019-07-31 & 2018-07-31 & Active &  73141264 & youhen.tech                 & Zhengzhou Zitian        & Zhengzhou Zitian        & China          & NA & 1 &  2.25 &  2.2500 & 0 & 218382716 & auto-renewal & unrealized & Not Renewd & 2019-07-31 &  6.0 &  4.64 & youhen                & 1 &  1 &  6 & l        & 6l         & tech    &  0.81093022 & techzhengzhou zitian         & 0.957 & 0.7270511 &    NA & 0.6360283 & 0.540 & 0.79759728 & NA & NA\\\\\n",
       "\t FirstTime & 1 & 2019-07-20 & 2018-07-20 & Active &  72570834 & merino.pw                   & Mesh Digital            & HostEurope              & Germany        & NA & 1 &  6.00 &  6.0000 & 0 & 210057756 & renewal      & NA         & Renewed    & 2019-06-20 & 15.0 & 13.82 & merino                & 1 &  1 &  6 & l        & 6l         & pw      &  1.79175947 & pwhosteurope                 & 0.708 & 0.6851074 &    NA & 0.6368430 & 0.974 & 0.91915490 & NA & NA\\\\\n",
       "\t FirstTime & 1 & 2020-08-15 & 2019-08-15 & Active & 118048911 & unitednet-design.website    & United Domains          & Alfahosting             & Germany        & NA & 1 & 15.00 & 15.0000 & 0 & 337655644 & auto-renewal & realized   & Renewed    & 2020-08-15 & 15.0 &  3.10 & unitednet-design      & 1 &  1 & 16 & hyphen-l & 16hyphen-l & website &  2.70805020 & websitealfahosting           & 0.688 & 0.8366708 &    NA & 0.5640029 & 0.756 & 0.94420956 & NA & NA\\\\\n",
       "\t FirstTime & 1 & 2019-09-26 & 2018-09-26 & Active &  77531224 & kosten.site                 & Key-Systems             & Compra                  & Netherlands    & NA & 1 &  5.00 &  5.0000 & 0 & 234417531 & auto-renewal & unrealized & Not Renewd & 2019-09-26 & 20.0 &  6.01 & kosten                & 1 &  1 &  6 & l        & 6l         & site    &  1.60943791 & sitecompra                   & 0.000 & 0.1650235 &    NA & 0.5973271 &    NA & 0.00000000 & NA & NA\\\\\n",
       "\t FirstTime & 1 & 2020-04-05 & 2019-04-05 & Active &  99009174 & webplaneta.press            & Registrator Domenov     & Registrator Domenov     & Russia         & NA & 1 & 49.00 & 49.0000 & 0 & 289165811 & renewal      & NA         & Renewed    & 2020-02-05 & 49.0 &  2.81 & webplaneta            & 1 &  1 & 10 & l        & 10l        & press   &  3.89182030 & pressregistrator domenov     & 0.155 & 0.4753756 &    NA & 0.7275313 & 0.414 & 0.46489889 & NA & NA\\\\\n",
       "\t FirstTime & 1 & 2019-12-06 & 2018-12-06 & Active &  86079062 & futureclient.website        & Tucows                  & Siteground              & Bulgaria       & NA & 1 &  5.00 &  5.0000 & 0 & 262682376 & renewal      & NA         & Renewed    & 2019-12-06 & 15.0 &  6.73 & futureclient          & 1 &  1 & 12 & l        & 12l        & website &  1.60943791 & websitesiteground            & 0.470 & 0.6328508 &    NA & 0.6251516 & 0.591 & 0.74349849 & NA & NA\\\\\n",
       "\t FirstTime & 1 & 2020-04-29 & 2019-04-29 & Active & 102386359 & ahlatlibel.site             & Tucows                  & Markum                  & Indonesia      & NA & 1 &  6.00 &  6.0000 & 0 & 311399469 & renewal      & NA         & Renewed    & 2020-04-27 & 20.0 &  2.42 & ahlatlibel            & 1 &  1 & 10 & l        & 10l        & site    &  1.79175947 & sitemarkum                   & 0.729 & 0.6593500 &    NA & 0.6145744 &    NA &         NA & NA & NA\\\\\n",
       "\t FirstTime & 1 & 2019-07-31 & 2018-07-31 & Active &  73230044 & rcawireless.tech            & eNom                    & EUKHost                 & United Kingdom & NA & 1 & 12.00 & 12.0000 & 0 & 218471321 & auto-renewal & unrealized & Not Renewd & 2019-07-31 & 35.0 &  5.92 & rcawireless           & 1 &  1 & 11 & l        & 11l        & tech    &  2.48490665 & techeukhost                  & 0.518 & 0.5672919 &    NA & 0.7812017 & 0.147 & 0.29662500 & NA & NA\\\\\n",
       "\t FirstTime & 1 & 2019-08-07 & 2018-08-07 & Active &  73786199 & talktalkplc.press           & Ascio                   & Ascio                   & Denmark        & NA & 1 &  7.00 &  7.0000 & 0 & 213695661 & renewal      & NA         & Renewed    & 2019-07-08 & 49.0 &  1.28 & talktalkplc           & 1 &  1 & 11 & l        & 11l        & press   &  1.94591015 & pressascio                   & 0.396 & 0.6822090 &    NA & 0.7433086 & 0.605 & 0.93365079 & NA & NA\\\\\n",
       "\t FirstTime & 1 & 2020-04-08 & 2019-04-08 & Active &  99243829 & heterodox.press             & Tucows                  & EasyDNS                 & Canada         & NA & 1 & 49.00 & 49.0000 & 0 & 304376229 & renewal      & NA         & Renewed    & 2020-04-02 & 49.0 &  4.41 & heterodox             & 1 &  1 &  9 & l        & 9l         & press   &  3.89182030 & presseasydns                 & 0.332 & 0.4480044 &    NA & 0.5961707 & 0.203 & 0.71439422 & NA & NA\\\\\n",
       "\t FirstTime & 1 & 2020-06-18 & 2019-06-18 & Active & 108660061 & creations2020.pw            & PDR Ltd                 & Impreza                 & Nigeria        & NA & 1 &  0.50 &  0.5000 & 0 & 322982304 & auto-renewal & unrealized & Not Renewd & 2020-06-18 & 15.0 &  8.53 & creations2020         & 1 &  1 & 13 & ln       & 13ln       & pw      & -0.69314718 & pwimpreza                    & 0.006 & 0.1491183 &    NA & 0.5753531 & 0.000 & 0.15961663 & NA & NA\\\\\n",
       "\t FirstTime & 1 & 2019-06-11 & 2018-06-11 & Active &  69834100 & chillfest.fun               & Webnames                & Webnames                & Canada         & NA & 1 & 15.00 & 15.0000 & 0 & 207730351 & auto-renewal & unrealized & Not Renewd & 2019-06-11 & 15.0 &  7.92 & chillfest             & 1 &  1 &  9 & l        & 9l         & fun     &  2.70805020 & funwebnames                  & 0.271 & 0.5920338 &    NA & 0.6103056 & 0.446 & 0.47993068 & NA & NA\\\\\n",
       "\t FirstTime & 1 & 2020-05-31 & 2019-05-31 & Active & 105762741 & nijmegen.website            & Key-Systems             & Neostrada               & Netherlands    & NA & 1 & 10.00 & 10.0000 & 0 & 319090934 & auto-renewal & realized   & Renewed    & 2020-05-31 & 15.0 &  1.26 & nijmegen              & 1 &  1 &  8 & l        & 8l         & website &  2.30258509 & websiteneostrada             & 0.552 & 0.6894393 &    NA & 0.6001310 & 0.514 & 0.55410756 & NA & NA\\\\\n",
       "\t FirstTime & 1 & 2019-07-15 & 2018-07-15 & Active &  72123374 & bosberaad.website           & Key-Systems             & Neostrada               & Netherlands    & NA & 1 &  4.00 &  4.0000 & 0 & 215156396 & auto-renewal & realized   & Renewed    & 2019-07-15 & 15.0 &  2.60 & bosberaad             & 1 &  1 &  9 & l        & 9l         & website &  1.38629436 & websiteneostrada             & 0.543 & 0.6123546 &    NA & 0.6112665 & 0.567 & 0.76329629 & NA & NA\\\\\n",
       "\t FirstTime & 1 & 2019-10-30 & 2018-10-30 & Active &  80956989 & printxpress.in.net          & OwnRegistrar            & OwnRegistrar            & India          & NA & 1 &  6.00 &  6.0000 & 0 & 245484370 & auto-renewal & unrealized & Not Renewd & 2019-10-30 &  6.0 &  6.15 & printxpress           & 1 &  1 & 11 & l        & 11l        & in.net  &  1.79175947 & in.netownregistrar           & 0.366 & 0.5997195 &    NA & 0.5927023 & 0.864 & 0.51476187 & NA & NA\\\\\n",
       "\t FirstTime & 1 & 2020-07-24 & 2019-07-24 & Active & 113944656 & littlelion.space            & PDR Ltd                 & Guzel Hosting           & Turkey         & NA & 1 &  0.50 &  0.5000 & 0 & 331882189 & auto-renewal & unrealized & Not Renewd & 2020-07-24 & 15.0 &  6.54 & littlelion            & 1 &  1 & 10 & l        & 10l        & space   & -0.69314718 & spaceguzel hosting           & 0.038 & 0.1223125 &    NA & 0.5811143 & 0.058 & 0.04018261 & NA & NA\\\\\n",
       "\t FirstTime & 1 & 2020-02-06 & 2019-02-06 & Active &  93010773 & parliamentary.press         & PDR Ltd                 & BigRock                 & India          & NA & 1 &  6.00 &  6.0000 & 0 & 289439061 & auto-renewal & unrealized & Not Renewd & 2020-02-06 & 49.0 &  6.19 & parliamentary         & 1 &  1 & 13 & l        & 13l        & press   &  1.79175947 & pressbigrock                 & 0.049 & 0.2166930 & 0.038 & 0.3034804 & 0.122 & 0.24535632 & NA & NA\\\\\n",
       "\t FirstTime & 1 & 2020-08-18 & 2019-08-18 & Active & 118462681 & indoamericanpressclub.press & PDR Ltd                 & BigRock                 & India          & NA & 1 &  6.00 &  6.0000 & 0 & 338353614 & auto-renewal & unrealized & Not Renewd & 2020-08-18 & 49.0 &  5.47 & indoamericanpressclub & 1 &  1 & 21 & l        & 21l        & press   &  1.79175947 & pressbigrock                 & 0.043 & 0.2379831 & 0.033 & 0.2704060 & 0.089 & 0.26639695 & NA & NA\\\\\n",
       "\t FirstTime & 1 & 2019-07-23 & 2018-07-23 & Active &  72691074 & daton.tech                  & Inames                  & Inames                  & Korea          & NA & 1 & 35.00 & 35.0000 & 0 & 216782261 & auto-renewal & unrealized & Not Renewd & 2019-07-23 & 35.0 &  8.69 & daton                 & 1 &  1 &  5 & l        & 5l         & tech    &  3.55534806 & techinames                   & 0.000 & 0.2164483 &    NA & 0.8468427 &    NA & 0.00000000 & NA & NA\\\\\n",
       "\t FirstTime & 1 & 2020-06-11 & 2019-06-11 & Active & 107426936 & webix-dev.host              & Tucows                  & Check Domain            & Germany        & NA & 1 & 65.00 & 65.0000 & 0 & 321311914 & renewal      & NA         & Renewed    & 2020-06-11 & 65.0 &  1.32 & webix-dev             & 1 &  1 &  9 & hyphen-l & 9hyphen-l  & host    &  4.17438727 & hostcheck domain             & 0.354 & 0.4555586 &    NA & 0.5685879 & 0.788 & 0.88573523 & NA & NA\\\\\n",
       "\t FirstTime & 1 & 2020-01-23 & 2019-01-23 & Active &  91704323 & skateworld.store            & Tecnocratica Centro     & Tecnocratica Centro     & Spain          & NA & 1 &  6.00 &  6.0000 & 0 & 284086486 & auto-renewal & unrealized & Not Renewd & 2020-01-23 & 40.0 &  3.81 & skateworld            & 1 &  1 & 10 & l        & 10l        & store   &  1.79175947 & storetecnocratica centro     & 0.801 & 0.7428275 &    NA & 0.7708989 & 0.769 & 0.76734804 & NA & NA\\\\\n",
       "\t FirstTime & 1 & 2019-06-27 & 2018-06-27 & Active &  71082385 & mondonauts.space            & COREhub                 & COREhub                 & Spain          & NA & 1 &  6.00 &  6.0000 & 0 & 211891596 & auto-renewal & realized   & Renewed    & 2019-06-27 & 15.0 &  6.78 & mondonauts            & 1 &  1 & 10 & l        & 10l        & space   &  1.79175947 & spacecorehub                 & 0.958 & 0.9664041 &    NA & 0.7293035 & 0.951 & 0.97395632 & NA & NA\\\\\n",
       "\t FirstTime & 1 & 2019-06-30 & 2017-06-30 & Active &  49087574 & geovis.store                & ShenZhen HuLianXianFeng & ShenZhen HuLianXianFeng & China          & NA & 2 &  7.50 &  3.7500 & 0 & 192437064 & transfer     & NA         & Renewed    & 2019-03-25 &  7.0 &  5.41 & geovis                & 1 &  1 &  6 & l        & 6l         & store   &  1.32175584 & storeshenzhen hulianxianfeng & 0.105 & 0.3228792 &    NA & 0.7141210 & 1.000 & 0.30977381 & NA & NA\\\\\n",
       "\t FirstTime & 1 & 2019-07-08 & 2018-07-08 & Active &  71594045 & acmest.online               & Whois Networks          & Whois Networks          & Korea          & NA & 1 & 25.00 & 25.0000 & 0 & 213832106 & auto-renewal & unrealized & Not Renewd & 2019-07-08 & 25.0 &  2.88 & acmest                & 1 &  1 &  6 & l        & 6l         & online  &  3.21887582 & onlinewhois networks         & 0.408 & 0.5699284 &    NA & 0.9276133 & 0.444 & 0.58723209 & NA & NA\\\\\n",
       "\t FirstTime & 1 & 2020-05-07 & 2019-05-07 & Active & 102955459 & konvini.store               & Inames                  & Inames                  & Korea          & NA & 1 & 40.00 & 40.0000 & 0 & 313667909 & auto-renewal & unrealized & Not Renewd & 2020-05-07 & 40.0 &  5.59 & konvini               & 1 &  1 &  7 & l        & 7l         & store   &  3.68887945 & storeinames                  & 0.000 & 0.2070983 &    NA & 0.8658228 &    NA & 0.00000000 & NA & NA\\\\\n",
       "\t FirstTime & 1 & 2020-02-11 & 2019-02-11 & Active &  93333378 & dyham.press                 & Webnames                & Webnames                & Canada         & NA & 1 & 49.00 & 49.0000 & 0 & 290654076 & auto-renewal & unrealized & Not Renewd & 2020-02-11 & 49.0 &  1.27 & dyham                 & 1 &  1 &  5 & l        & 5l         & press   &  3.89182030 & presswebnames                & 0.265 & 0.3899154 &    NA & 0.7706898 & 0.440 & 0.35025719 & NA & NA\\\\\n",
       "\t FirstTime & 1 & 2019-07-05 & 2018-07-05 & Active &  71440360 & mellanox.store              & Domain The Net          & Domain The Net          & Israel         & NA & 1 & 40.00 & 40.0000 & 0 & 200279144 & renewal      & NA         & Renewed    & 2019-05-06 & 40.0 &  5.54 & mellanox              & 1 &  1 &  8 & l        & 8l         & store   &  3.68887945 & storedomain the net          & 0.766 & 0.4828190 &    NA & 0.8681941 & 0.977 & 0.89065952 & NA & NA\\\\\n",
       "\t FirstTime & 1 & 2019-11-07 & 2018-11-07 & Active &  82102184 & ceat.press                  & 1\\&1 Internet            & Arsys                   & Spain          & NA & 1 & 49.00 & 49.0000 & 0 & 248366815 & auto-renewal & realized   & Renewed    & 2019-11-07 & 49.0 & 10.44 & ceat                  & 1 &  1 &  4 & l        & 4l         & press   &  3.89182030 & pressarsys                   & 0.489 & 0.6627434 &    NA & 0.8305129 & 0.541 & 0.75187841 & NA & NA\\\\\n",
       "\t FirstTime & 1 & 2019-07-05 & 2018-07-05 & Active &  71455605 & crt.host                    & PDR Ltd                 & Redehost                & Brazil         & NA & 1 &  3.00 &  3.0000 & 0 & 213418891 & auto-renewal & unrealized & Not Renewd & 2019-07-05 & 65.0 &  3.67 & crt                   & 1 &  1 &  3 & l        & 3l         & host    &  1.09861229 & hostredehost                 & 0.091 & 0.3858803 &    NA & 0.6396910 & 0.217 & 0.45188043 & NA & NA\\\\\n",
       "\t FirstTime & 1 & 2019-07-01 & 2018-07-01 & Active &  71238585 & musictechnology.press       & Key-Systems             & Home.pl                 & Poland         & NA & 1 & 49.00 & 49.0000 & 0 & 211150046 & renewal      & NA         & Renewed    & 2019-06-24 & 49.0 &  3.29 & musictechnology       & 1 &  1 & 15 & l        & 15l        & press   &  3.89182030 & presshome.pl                 & 0.072 & 0.5678307 & 0.047 & 0.2043780 & 0.363 & 0.77135019 & NA & NA\\\\\n",
       "\t FirstTime & 1 & 2019-08-28 & 2018-08-28 & Active &  75267554 & machineseeker.site          & Gransy                  & Webonic                 & Hungary        & NA & 1 & 20.00 & 20.0000 & 0 & 222082036 & renewal      & NA         & Renewed    & 2019-08-14 & 20.0 &  7.37 & machineseeker         & 1 &  1 & 13 & l        & 13l        & site    &  2.99573227 & sitewebonic                  & 0.634 & 0.8043772 &    NA & 0.5871087 & 1.000 & 0.76100000 & NA & NA\\\\\n",
       "\\end{tabular}\n"
      ],
      "text/markdown": [
       "\n",
       "A data.table: 58 × 39\n",
       "\n",
       "| renewal_type &lt;chr&gt; | renewed_count &lt;int&gt; | expiry_date &lt;date&gt; | creation_date &lt;date&gt; | status &lt;chr&gt; | domain_id &lt;int&gt; | domain &lt;chr&gt; | registrar &lt;chr&gt; | reseller &lt;chr&gt; | reseller_country &lt;chr&gt; | registrant_country &lt;chr&gt; | reg_period &lt;int&gt; | reg_revenue &lt;dbl&gt; | reg_arpt &lt;dbl&gt; | renew_mbg &lt;int&gt; | renewal_item_id &lt;int&gt; | renew_type &lt;chr&gt; | autorenew_type &lt;chr&gt; | renewal_status &lt;chr&gt; | renew_date &lt;date&gt; | renew_arpt &lt;dbl&gt; | gibb_score &lt;dbl&gt; | pattern &lt;chr&gt; | pattern_domain_count &lt;int&gt; | day_domains &lt;int&gt; | sld_length &lt;int&gt; | sld_type &lt;chr&gt; | sld_type2 &lt;chr&gt; | tld &lt;chr&gt; | log_reg_arpt &lt;dbl&gt; | tld_registrar_index &lt;chr&gt; | pred_agg_glm_ALL &lt;dbl&gt; | pred_agg_rf_ALL &lt;dbl&gt; | pred_agg_glm &lt;dbl&gt; | pred_agg_rf &lt;dbl&gt; | pred_seg_glm_ALL &lt;dbl&gt; | pred_seg_rf_ALL &lt;dbl&gt; | pred_seg2_glm_ALL &lt;lgl&gt; | pred_seg2_rf_ALL &lt;lgl&gt; |\n",
       "|---|---|---|---|---|---|---|---|---|---|---|---|---|---|---|---|---|---|---|---|---|---|---|---|---|---|---|---|---|---|---|---|---|---|---|---|---|---|---|\n",
       "| FirstTime | 1 | 2019-06-14 | 2018-06-14 | Active |  70181780 | steibei.space               | Internet GmbH           | Internet GmbH           | Germany        | NA | 1 |  6.00 |  6.0000 | 0 | 208493821 | auto-renewal | realized   | Renewed    | 2019-06-14 | 15.0 |  4.02 | steibei               | 1 |  1 |  7 | l        | 7l         | space   |  1.79175947 | spaceinternet gmbh           | 0.920 | 0.9713886 |    NA | 0.7251219 | 0.975 | 0.98133698 | NA | NA |\n",
       "| FirstTime | 1 | 2020-05-17 | 2019-05-17 | Active | 103906916 | wingtsun.space              | Internet GmbH           | Internet GmbH           | Germany        | NA | 1 | 15.00 | 15.0000 | 0 | 315625244 | auto-renewal | realized   | Renewed    | 2020-05-17 | 15.0 |  6.48 | wingtsun              | 1 |  1 |  8 | l        | 8l         | space   |  2.70805020 | spaceinternet gmbh           | 0.924 | 0.9685702 |    NA | 0.6956184 | 0.993 | 0.97838698 | NA | NA |\n",
       "| FirstTime | 1 | 2019-10-05 | 2018-10-05 | Active |  78360794 | sfmart.store                | PDR Ltd                 | Arvixe                  | United States  | NA | 1 |  6.50 |  6.5000 | 0 | 235884471 | renewal      | NA         | Renewed    | 2019-10-01 | 26.5 |  1.15 | sfmart                | 1 |  1 |  6 | l        | 6l         | store   |  1.87180218 | storearvixe                  | 0.000 | 0.2597214 |    NA | 0.7862930 |    NA |         NA | NA | NA |\n",
       "| FirstTime | 1 | 2020-08-30 | 2019-08-30 | Active | 122049036 | qianxiyun.online            | <!----> | <!----> | <!----> | NA | 1 | 25.00 | 25.0000 | 0 | 341703158 | auto-renewal | unrealized | Not Renewd | 2020-08-30 |  6.0 |  0.63 | qianxiyun             | 1 |  1 |  9 | l        | 9l         | online  |  3.21887582 | online                       |    NA | 0.9550391 |    NA | 0.7713468 |    NA |         NA | NA | NA |\n",
       "| FirstTime | 1 | 2019-08-15 | 2018-08-15 | Active |  74267354 | ontarioart.space            | Register.ca             | Register.ca             | Canada         | NA | 1 |  6.00 |  6.0000 | 0 | 222880706 | auto-renewal | unrealized | Not Renewd | 2019-08-15 | 15.0 |  6.11 | ontarioart            | 1 |  1 | 10 | l        | 10l        | space   |  1.79175947 | spaceregister.ca             |    NA | 0.9855667 |    NA | 0.7286549 |    NA |         NA | NA | NA |\n",
       "| FirstTime | 1 | 2020-04-22 | 2019-04-22 | Active | 101141084 | ziprecruiter.press          | NICENIC                 | NICENIC                 | Hong Kong      | NA | 1 |  1.08 |  1.0800 | 0 | 295236384 | transfer     | NA         | Renewed    | 2020-02-26 | 49.0 |  5.61 | ziprecruiter          | 1 |  1 | 12 | l        | 12l        | press   |  0.07696104 | pressnicenic                 | 0.022 | 0.2796425 |    NA | 0.5721173 | 0.093 | 0.30130160 | NA | NA |\n",
       "| FirstTime | 1 | 2019-06-27 | 2018-06-27 | Active |  71066905 | allmaker.space              | 1&amp;1 Internet            | Arsys                   | Spain          | NA | 1 |  1.00 |  1.0000 | 0 | 211876061 | auto-renewal | unrealized | Not Renewd | 2019-06-27 |  6.0 |  6.55 | allmaker              | 1 |  1 |  8 | l        | 8l         | space   |  0.00000000 | spacearsys                   | 0.487 | 0.5107410 |    NA | 0.5963515 | 0.544 | 0.83162583 | NA | NA |\n",
       "| FirstTime | 1 | 2019-11-19 | 2018-11-19 | Active |  83956614 | frogjuggler.online          | Imperial Registrations  | Imperial Registrations  | United States  | NA | 1 | 25.00 | 25.0000 | 0 | 256244725 | auto-renewal | unrealized | Not Renewd | 2019-11-19 | 25.0 |  2.98 | frogjuggler           | 1 |  1 | 11 | l        | 11l        | online  |  3.21887582 | onlineimperial registrations |    NA | 0.9948964 |    NA | 0.8257238 |    NA |         NA | NA | NA |\n",
       "| FirstTime | 1 | 2020-08-07 | 2019-08-07 | Active | 116039006 | fh1.site                    | NetClues                | NetClues                | <!----> | NA | 1 |  0.00 |  0.0001 | 0 | 335679829 | auto-renewal | realized   | Renewed    | 2020-08-07 | 20.0 |  0.02 | fh1                   | 1 |  1 |  3 | ln       | 3ln        | site    | -9.21034037 | sitenetclues                 | 0.000 | 0.1291702 |    NA | 0.5810059 |    NA |         NA | NA | NA |\n",
       "| FirstTime | 1 | 2019-11-09 | 2018-11-09 | Active |  82321649 | antispamgw.host             | Realtime Register       | Realtime Register       | Netherlands    | NA | 1 | 65.00 | 65.0000 | 0 | 238730925 | renewal      | NA         | Renewed    | 2019-10-10 | 65.0 |  2.09 | antispamgw            | 1 |  1 | 10 | l        | 10l        | host    |  4.17438727 | hostrealtime register        | 0.252 | 0.4590399 | 0.253 | 0.5696194 | 0.904 | 0.64286641 | NA | NA |\n",
       "| FirstTime | 1 | 2019-10-04 | 2018-10-04 | Active |  78253334 | lokal.host                  | Realtime Register       | Realtime Register       | Netherlands    | NA | 1 | 65.00 | 65.0000 | 0 | 236006436 | renewal      | NA         | Renewed    | 2019-10-01 | 65.0 |  3.87 | lokal                 | 1 |  1 |  5 | l        | 5l         | host    |  4.17438727 | hostrealtime register        | 0.275 | 0.5426539 | 0.275 | 0.5710536 | 0.899 | 0.68472740 | NA | NA |\n",
       "| FirstTime | 1 | 2019-08-07 | 2018-08-07 | Active |  73736289 | firstdesign.website         | Mesh Digital            | Heart Internet          | United Kingdom | NA | 1 |  0.80 |  0.8000 | 0 | 218843026 | renewal      | NA         | Renewed    | 2019-08-02 | 15.0 |  2.99 | firstdesign           | 1 |  1 | 11 | l        | 11l        | website | -0.22314355 | websiteheart internet        | 1.000 | 0.9309190 |    NA | 0.5801021 |    NA |         NA | NA | NA |\n",
       "| FirstTime | 1 | 2020-01-25 | 2019-01-25 | Active |  91900703 | sems.site                   | Whois Networks          | Whois Networks          | Korea          | NA | 1 | 20.00 | 20.0000 | 0 | 283009471 | renewal      | NA         | Renewed    | 2020-01-21 | 20.0 |  4.29 | sems                  | 1 |  1 |  4 | l        | 4l         | site    |  2.99573227 | sitewhois networks           | 0.293 | 0.7015172 |    NA | 0.6847056 | 0.756 | 0.74919041 | NA | NA |\n",
       "| FirstTime | 1 | 2020-03-27 | 2019-03-27 | Active |  98114119 | tevec.store                 | Global Village          | Global Village          | Germany        | NA | 1 | 40.00 | 40.0000 | 0 |         0 | NA           | NA         | Not Renewd | NA |   NA |  6.92 | tevec                 | 1 |  1 |  5 | l        | 5l         | store   |  3.68887945 | storeglobal village          | 1.000 | 0.9311672 |    NA | 0.8359576 |    NA |         NA | NA | NA |\n",
       "| FirstTime | 1 | 2020-05-19 | 2019-05-19 | Active | 104026606 | sevensins.fun               | DNC Holdings            | DNC Holdings            | United States  | NA | 1 | 15.00 | 15.0000 | 0 | 316084664 | auto-renewal | unrealized | Not Renewd | 2020-05-19 | 15.0 |  8.88 | sevensins             | 1 |  1 |  9 | l        | 9l         | fun     |  2.70805020 | fundnc holdings              | 0.453 | 0.7781161 |    NA | 0.6297827 | 0.364 | 0.70470105 | NA | NA |\n",
       "| FirstTime | 1 | 2020-04-22 | 2019-04-22 | Active | 101088999 | eska.store                  | Jogjacamp               | Jogjacamp               | Indonesia      | NA | 1 |  2.50 |  2.5000 | 0 | 309859364 | auto-renewal | unrealized | Not Renewd | 2020-04-22 | 40.0 |  2.83 | eska                  | 1 |  1 |  4 | l        | 4l         | store   |  0.91629073 | storejogjacamp               | 0.052 | 0.3624642 |    NA | 0.7672393 | 0.046 | 0.45361957 | NA | NA |\n",
       "| FirstTime | 1 | 2020-02-05 | 2019-02-05 | Active |  92905248 | compra.store                | Key-Systems             | Compra                  | Netherlands    | NA | 1 |  3.00 |  3.0000 | 0 | 289269716 | auto-renewal | realized   | Renewed    | 2020-02-05 | 40.0 | 10.07 | compra                | 1 |  1 |  6 | l        | 6l         | store   |  1.09861229 | storecompra                  | 0.000 | 0.1588105 |    NA | 0.6993082 |    NA | 0.00000000 | NA | NA |\n",
       "| FirstTime | 1 | 2020-05-26 | 2019-05-26 | Active | 104968651 | sysadmins.fun               | Tecnocratica Centro     | Tecnocratica Centro     | Spain          | NA | 1 | 15.00 | 15.0000 | 0 | 315829289 | renewal      | NA         | Renewed    | 2020-05-18 | 15.0 |  3.46 | sysadmins             | 1 |  1 |  9 | l        | 9l         | fun     |  2.70805020 | funtecnocratica centro       | 0.666 | 0.6468300 |    NA | 0.5789864 | 0.931 | 0.81458920 | NA | NA |\n",
       "| FirstTime | 1 | 2019-06-12 | 2018-06-12 | Active |  69902250 | bohemechic.store            | Planet Hoster           | Planet Hoster           | Canada         | NA | 1 | 40.00 | 40.0000 | 0 | 207608691 | renewal      | NA         | Renewed    | 2019-06-11 | 40.0 |  6.59 | bohemechic            | 1 |  1 | 10 | l        | 10l        | store   |  3.68887945 | storeplanet hoster           | 0.931 | 0.9259644 |    NA | 0.7534841 | 1.000 | 0.82794164 | NA | NA |\n",
       "| FirstTime | 1 | 2019-09-29 | 2018-09-29 | Active |  77731294 | filetmignon.store           | Planet Hoster           | Planet Hoster           | Canada         | NA | 1 | 40.00 | 40.0000 | 0 | 235473511 | auto-renewal | realized   | Renewed    | 2019-09-29 | 40.0 |  4.25 | filetmignon           | 1 |  1 | 11 | l        | 11l        | store   |  3.68887945 | storeplanet hoster           | 0.927 | 0.9356569 |    NA | 0.8306447 | 1.000 | 0.88134164 | NA | NA |\n",
       "| FirstTime | 1 | 2019-10-09 | 2018-10-09 | Active |  78686599 | whiteley.tech               | Freeparking             | Freeparking             | United Kingdom | NA | 1 | 35.00 | 35.0000 | 0 | 224135771 | renewal      | NA         | Renewed    | 2019-08-22 | 35.0 |  7.84 | whiteley              | 1 |  1 |  8 | l        | 8l         | tech    |  3.55534806 | techfreeparking              | 0.671 | 0.6450379 |    NA | 0.8157455 | 0.382 | 0.66875220 | NA | NA |\n",
       "| FirstTime | 1 | 2019-08-04 | 2018-08-04 | Active |  73576899 | altenen.pw                  | Web4Africa              | Web4Africa              | South Africa   | NA | 1 |  6.00 |  6.0000 | 0 | 219276076 | auto-renewal | unrealized | Not Renewd | 2019-08-04 |  0.0 |  6.97 | altenen               | 1 |  1 |  7 | l        | 7l         | pw      |  1.79175947 | pwweb4africa                 | 0.035 | 0.3189241 |    NA | 0.6318866 | 0.101 | 0.20175308 | NA | NA |\n",
       "| FirstTime | 1 | 2020-05-24 | 2017-05-24 | Active |  48026450 | cicada.pw                   | PDR Ltd                 | Bluehost                | United States  | NA | 3 | 12.50 |  4.1700 | 0 | 317208689 | auto-renewal | NA         | Not Renewd | 2020-05-24 |  6.0 |  5.42 | cicada                | 1 |  1 |  6 | l        | 6l         | pw      |  1.42791604 | pwbluehost                   | 0.475 | 0.5378698 | 0.489 | 0.6305815 | 1.000 | 0.56918952 | NA | NA |\n",
       "| FirstTime | 1 | 2019-12-19 | 2018-12-19 | Active |  88054102 | baodou.pw                   | PDR Ltd                 | Bluehost                | United States  | NA | 1 |  0.50 |  0.5000 | 0 | 265555511 | renewal      | NA         | Renewed    | 2019-12-12 | 15.0 |  1.85 | baodou                | 2 | 25 |  6 | l        | 6l         | pw      | -0.69314718 | pwbluehost                   | 0.216 | 0.1154223 | 0.215 | 0.1802359 | 0.303 | 0.69303276 | NA | NA |\n",
       "| FirstTime | 1 | 2020-06-17 | 2019-06-17 | Active | 108131151 | marketingshop.space         | OwnRegistrar            | OwnRegistrar            | <!----> | NA | 1 |  3.00 |  3.0000 | 0 | 322847614 | auto-renewal | unrealized | Not Renewd | 2020-06-17 | 15.0 |  6.32 | marketingshop         | 1 |  1 | 13 | l        | 13l        | space   |  1.09861229 | spaceownregistrar            | 0.325 | 0.8397940 |    NA | 0.7007593 | 0.017 | 0.40453092 | NA | NA |\n",
       "| FirstTime | 1 | 2019-09-17 | 2018-09-17 | Active |  76806449 | gamingwithprose.fun         | Lexsynergy              | Lexsynergy              | United Kingdom | NA | 1 | 15.00 | 15.0000 | 0 | 231821101 | auto-renewal | unrealized | Not Renewd | 2019-09-17 | 15.0 |  4.43 | gamingwithprose       | 1 |  1 | 15 | l        | 15l        | fun     |  2.70805020 | funlexsynergy                | 0.810 | 0.9250064 |    NA | 0.6166981 | 1.000 | 0.89775000 | NA | NA |\n",
       "| FirstTime | 1 | 2019-11-19 | 2018-11-19 | Active |  83956624 | frogjuggler.site            | Imperial Registrations  | Imperial Registrations  | United States  | NA | 1 | 20.00 | 20.0000 | 0 | 256244735 | auto-renewal | unrealized | Not Renewd | 2019-11-19 | 20.0 |  2.98 | frogjuggler           | 1 |  1 | 11 | l        | 11l        | site    |  2.99573227 | siteimperial registrations   |    NA | 0.9880768 |    NA | 0.5626476 |    NA |         NA | NA | NA |\n",
       "| FirstTime | 1 | 2019-07-31 | 2018-07-31 | Active |  73141264 | youhen.tech                 | Zhengzhou Zitian        | Zhengzhou Zitian        | China          | NA | 1 |  2.25 |  2.2500 | 0 | 218382716 | auto-renewal | unrealized | Not Renewd | 2019-07-31 |  6.0 |  4.64 | youhen                | 1 |  1 |  6 | l        | 6l         | tech    |  0.81093022 | techzhengzhou zitian         | 0.957 | 0.7270511 |    NA | 0.6360283 | 0.540 | 0.79759728 | NA | NA |\n",
       "| FirstTime | 1 | 2019-07-20 | 2018-07-20 | Active |  72570834 | merino.pw                   | Mesh Digital            | HostEurope              | Germany        | NA | 1 |  6.00 |  6.0000 | 0 | 210057756 | renewal      | NA         | Renewed    | 2019-06-20 | 15.0 | 13.82 | merino                | 1 |  1 |  6 | l        | 6l         | pw      |  1.79175947 | pwhosteurope                 | 0.708 | 0.6851074 |    NA | 0.6368430 | 0.974 | 0.91915490 | NA | NA |\n",
       "| FirstTime | 1 | 2020-08-15 | 2019-08-15 | Active | 118048911 | unitednet-design.website    | United Domains          | Alfahosting             | Germany        | NA | 1 | 15.00 | 15.0000 | 0 | 337655644 | auto-renewal | realized   | Renewed    | 2020-08-15 | 15.0 |  3.10 | unitednet-design      | 1 |  1 | 16 | hyphen-l | 16hyphen-l | website |  2.70805020 | websitealfahosting           | 0.688 | 0.8366708 |    NA | 0.5640029 | 0.756 | 0.94420956 | NA | NA |\n",
       "| FirstTime | 1 | 2019-09-26 | 2018-09-26 | Active |  77531224 | kosten.site                 | Key-Systems             | Compra                  | Netherlands    | NA | 1 |  5.00 |  5.0000 | 0 | 234417531 | auto-renewal | unrealized | Not Renewd | 2019-09-26 | 20.0 |  6.01 | kosten                | 1 |  1 |  6 | l        | 6l         | site    |  1.60943791 | sitecompra                   | 0.000 | 0.1650235 |    NA | 0.5973271 |    NA | 0.00000000 | NA | NA |\n",
       "| FirstTime | 1 | 2020-04-05 | 2019-04-05 | Active |  99009174 | webplaneta.press            | Registrator Domenov     | Registrator Domenov     | Russia         | NA | 1 | 49.00 | 49.0000 | 0 | 289165811 | renewal      | NA         | Renewed    | 2020-02-05 | 49.0 |  2.81 | webplaneta            | 1 |  1 | 10 | l        | 10l        | press   |  3.89182030 | pressregistrator domenov     | 0.155 | 0.4753756 |    NA | 0.7275313 | 0.414 | 0.46489889 | NA | NA |\n",
       "| FirstTime | 1 | 2019-12-06 | 2018-12-06 | Active |  86079062 | futureclient.website        | Tucows                  | Siteground              | Bulgaria       | NA | 1 |  5.00 |  5.0000 | 0 | 262682376 | renewal      | NA         | Renewed    | 2019-12-06 | 15.0 |  6.73 | futureclient          | 1 |  1 | 12 | l        | 12l        | website |  1.60943791 | websitesiteground            | 0.470 | 0.6328508 |    NA | 0.6251516 | 0.591 | 0.74349849 | NA | NA |\n",
       "| FirstTime | 1 | 2020-04-29 | 2019-04-29 | Active | 102386359 | ahlatlibel.site             | Tucows                  | Markum                  | Indonesia      | NA | 1 |  6.00 |  6.0000 | 0 | 311399469 | renewal      | NA         | Renewed    | 2020-04-27 | 20.0 |  2.42 | ahlatlibel            | 1 |  1 | 10 | l        | 10l        | site    |  1.79175947 | sitemarkum                   | 0.729 | 0.6593500 |    NA | 0.6145744 |    NA |         NA | NA | NA |\n",
       "| FirstTime | 1 | 2019-07-31 | 2018-07-31 | Active |  73230044 | rcawireless.tech            | eNom                    | EUKHost                 | United Kingdom | NA | 1 | 12.00 | 12.0000 | 0 | 218471321 | auto-renewal | unrealized | Not Renewd | 2019-07-31 | 35.0 |  5.92 | rcawireless           | 1 |  1 | 11 | l        | 11l        | tech    |  2.48490665 | techeukhost                  | 0.518 | 0.5672919 |    NA | 0.7812017 | 0.147 | 0.29662500 | NA | NA |\n",
       "| FirstTime | 1 | 2019-08-07 | 2018-08-07 | Active |  73786199 | talktalkplc.press           | Ascio                   | Ascio                   | Denmark        | NA | 1 |  7.00 |  7.0000 | 0 | 213695661 | renewal      | NA         | Renewed    | 2019-07-08 | 49.0 |  1.28 | talktalkplc           | 1 |  1 | 11 | l        | 11l        | press   |  1.94591015 | pressascio                   | 0.396 | 0.6822090 |    NA | 0.7433086 | 0.605 | 0.93365079 | NA | NA |\n",
       "| FirstTime | 1 | 2020-04-08 | 2019-04-08 | Active |  99243829 | heterodox.press             | Tucows                  | EasyDNS                 | Canada         | NA | 1 | 49.00 | 49.0000 | 0 | 304376229 | renewal      | NA         | Renewed    | 2020-04-02 | 49.0 |  4.41 | heterodox             | 1 |  1 |  9 | l        | 9l         | press   |  3.89182030 | presseasydns                 | 0.332 | 0.4480044 |    NA | 0.5961707 | 0.203 | 0.71439422 | NA | NA |\n",
       "| FirstTime | 1 | 2020-06-18 | 2019-06-18 | Active | 108660061 | creations2020.pw            | PDR Ltd                 | Impreza                 | Nigeria        | NA | 1 |  0.50 |  0.5000 | 0 | 322982304 | auto-renewal | unrealized | Not Renewd | 2020-06-18 | 15.0 |  8.53 | creations2020         | 1 |  1 | 13 | ln       | 13ln       | pw      | -0.69314718 | pwimpreza                    | 0.006 | 0.1491183 |    NA | 0.5753531 | 0.000 | 0.15961663 | NA | NA |\n",
       "| FirstTime | 1 | 2019-06-11 | 2018-06-11 | Active |  69834100 | chillfest.fun               | Webnames                | Webnames                | Canada         | NA | 1 | 15.00 | 15.0000 | 0 | 207730351 | auto-renewal | unrealized | Not Renewd | 2019-06-11 | 15.0 |  7.92 | chillfest             | 1 |  1 |  9 | l        | 9l         | fun     |  2.70805020 | funwebnames                  | 0.271 | 0.5920338 |    NA | 0.6103056 | 0.446 | 0.47993068 | NA | NA |\n",
       "| FirstTime | 1 | 2020-05-31 | 2019-05-31 | Active | 105762741 | nijmegen.website            | Key-Systems             | Neostrada               | Netherlands    | NA | 1 | 10.00 | 10.0000 | 0 | 319090934 | auto-renewal | realized   | Renewed    | 2020-05-31 | 15.0 |  1.26 | nijmegen              | 1 |  1 |  8 | l        | 8l         | website |  2.30258509 | websiteneostrada             | 0.552 | 0.6894393 |    NA | 0.6001310 | 0.514 | 0.55410756 | NA | NA |\n",
       "| FirstTime | 1 | 2019-07-15 | 2018-07-15 | Active |  72123374 | bosberaad.website           | Key-Systems             | Neostrada               | Netherlands    | NA | 1 |  4.00 |  4.0000 | 0 | 215156396 | auto-renewal | realized   | Renewed    | 2019-07-15 | 15.0 |  2.60 | bosberaad             | 1 |  1 |  9 | l        | 9l         | website |  1.38629436 | websiteneostrada             | 0.543 | 0.6123546 |    NA | 0.6112665 | 0.567 | 0.76329629 | NA | NA |\n",
       "| FirstTime | 1 | 2019-10-30 | 2018-10-30 | Active |  80956989 | printxpress.in.net          | OwnRegistrar            | OwnRegistrar            | India          | NA | 1 |  6.00 |  6.0000 | 0 | 245484370 | auto-renewal | unrealized | Not Renewd | 2019-10-30 |  6.0 |  6.15 | printxpress           | 1 |  1 | 11 | l        | 11l        | in.net  |  1.79175947 | in.netownregistrar           | 0.366 | 0.5997195 |    NA | 0.5927023 | 0.864 | 0.51476187 | NA | NA |\n",
       "| FirstTime | 1 | 2020-07-24 | 2019-07-24 | Active | 113944656 | littlelion.space            | PDR Ltd                 | Guzel Hosting           | Turkey         | NA | 1 |  0.50 |  0.5000 | 0 | 331882189 | auto-renewal | unrealized | Not Renewd | 2020-07-24 | 15.0 |  6.54 | littlelion            | 1 |  1 | 10 | l        | 10l        | space   | -0.69314718 | spaceguzel hosting           | 0.038 | 0.1223125 |    NA | 0.5811143 | 0.058 | 0.04018261 | NA | NA |\n",
       "| FirstTime | 1 | 2020-02-06 | 2019-02-06 | Active |  93010773 | parliamentary.press         | PDR Ltd                 | BigRock                 | India          | NA | 1 |  6.00 |  6.0000 | 0 | 289439061 | auto-renewal | unrealized | Not Renewd | 2020-02-06 | 49.0 |  6.19 | parliamentary         | 1 |  1 | 13 | l        | 13l        | press   |  1.79175947 | pressbigrock                 | 0.049 | 0.2166930 | 0.038 | 0.3034804 | 0.122 | 0.24535632 | NA | NA |\n",
       "| FirstTime | 1 | 2020-08-18 | 2019-08-18 | Active | 118462681 | indoamericanpressclub.press | PDR Ltd                 | BigRock                 | India          | NA | 1 |  6.00 |  6.0000 | 0 | 338353614 | auto-renewal | unrealized | Not Renewd | 2020-08-18 | 49.0 |  5.47 | indoamericanpressclub | 1 |  1 | 21 | l        | 21l        | press   |  1.79175947 | pressbigrock                 | 0.043 | 0.2379831 | 0.033 | 0.2704060 | 0.089 | 0.26639695 | NA | NA |\n",
       "| FirstTime | 1 | 2019-07-23 | 2018-07-23 | Active |  72691074 | daton.tech                  | Inames                  | Inames                  | Korea          | NA | 1 | 35.00 | 35.0000 | 0 | 216782261 | auto-renewal | unrealized | Not Renewd | 2019-07-23 | 35.0 |  8.69 | daton                 | 1 |  1 |  5 | l        | 5l         | tech    |  3.55534806 | techinames                   | 0.000 | 0.2164483 |    NA | 0.8468427 |    NA | 0.00000000 | NA | NA |\n",
       "| FirstTime | 1 | 2020-06-11 | 2019-06-11 | Active | 107426936 | webix-dev.host              | Tucows                  | Check Domain            | Germany        | NA | 1 | 65.00 | 65.0000 | 0 | 321311914 | renewal      | NA         | Renewed    | 2020-06-11 | 65.0 |  1.32 | webix-dev             | 1 |  1 |  9 | hyphen-l | 9hyphen-l  | host    |  4.17438727 | hostcheck domain             | 0.354 | 0.4555586 |    NA | 0.5685879 | 0.788 | 0.88573523 | NA | NA |\n",
       "| FirstTime | 1 | 2020-01-23 | 2019-01-23 | Active |  91704323 | skateworld.store            | Tecnocratica Centro     | Tecnocratica Centro     | Spain          | NA | 1 |  6.00 |  6.0000 | 0 | 284086486 | auto-renewal | unrealized | Not Renewd | 2020-01-23 | 40.0 |  3.81 | skateworld            | 1 |  1 | 10 | l        | 10l        | store   |  1.79175947 | storetecnocratica centro     | 0.801 | 0.7428275 |    NA | 0.7708989 | 0.769 | 0.76734804 | NA | NA |\n",
       "| FirstTime | 1 | 2019-06-27 | 2018-06-27 | Active |  71082385 | mondonauts.space            | COREhub                 | COREhub                 | Spain          | NA | 1 |  6.00 |  6.0000 | 0 | 211891596 | auto-renewal | realized   | Renewed    | 2019-06-27 | 15.0 |  6.78 | mondonauts            | 1 |  1 | 10 | l        | 10l        | space   |  1.79175947 | spacecorehub                 | 0.958 | 0.9664041 |    NA | 0.7293035 | 0.951 | 0.97395632 | NA | NA |\n",
       "| FirstTime | 1 | 2019-06-30 | 2017-06-30 | Active |  49087574 | geovis.store                | ShenZhen HuLianXianFeng | ShenZhen HuLianXianFeng | China          | NA | 2 |  7.50 |  3.7500 | 0 | 192437064 | transfer     | NA         | Renewed    | 2019-03-25 |  7.0 |  5.41 | geovis                | 1 |  1 |  6 | l        | 6l         | store   |  1.32175584 | storeshenzhen hulianxianfeng | 0.105 | 0.3228792 |    NA | 0.7141210 | 1.000 | 0.30977381 | NA | NA |\n",
       "| FirstTime | 1 | 2019-07-08 | 2018-07-08 | Active |  71594045 | acmest.online               | Whois Networks          | Whois Networks          | Korea          | NA | 1 | 25.00 | 25.0000 | 0 | 213832106 | auto-renewal | unrealized | Not Renewd | 2019-07-08 | 25.0 |  2.88 | acmest                | 1 |  1 |  6 | l        | 6l         | online  |  3.21887582 | onlinewhois networks         | 0.408 | 0.5699284 |    NA | 0.9276133 | 0.444 | 0.58723209 | NA | NA |\n",
       "| FirstTime | 1 | 2020-05-07 | 2019-05-07 | Active | 102955459 | konvini.store               | Inames                  | Inames                  | Korea          | NA | 1 | 40.00 | 40.0000 | 0 | 313667909 | auto-renewal | unrealized | Not Renewd | 2020-05-07 | 40.0 |  5.59 | konvini               | 1 |  1 |  7 | l        | 7l         | store   |  3.68887945 | storeinames                  | 0.000 | 0.2070983 |    NA | 0.8658228 |    NA | 0.00000000 | NA | NA |\n",
       "| FirstTime | 1 | 2020-02-11 | 2019-02-11 | Active |  93333378 | dyham.press                 | Webnames                | Webnames                | Canada         | NA | 1 | 49.00 | 49.0000 | 0 | 290654076 | auto-renewal | unrealized | Not Renewd | 2020-02-11 | 49.0 |  1.27 | dyham                 | 1 |  1 |  5 | l        | 5l         | press   |  3.89182030 | presswebnames                | 0.265 | 0.3899154 |    NA | 0.7706898 | 0.440 | 0.35025719 | NA | NA |\n",
       "| FirstTime | 1 | 2019-07-05 | 2018-07-05 | Active |  71440360 | mellanox.store              | Domain The Net          | Domain The Net          | Israel         | NA | 1 | 40.00 | 40.0000 | 0 | 200279144 | renewal      | NA         | Renewed    | 2019-05-06 | 40.0 |  5.54 | mellanox              | 1 |  1 |  8 | l        | 8l         | store   |  3.68887945 | storedomain the net          | 0.766 | 0.4828190 |    NA | 0.8681941 | 0.977 | 0.89065952 | NA | NA |\n",
       "| FirstTime | 1 | 2019-11-07 | 2018-11-07 | Active |  82102184 | ceat.press                  | 1&amp;1 Internet            | Arsys                   | Spain          | NA | 1 | 49.00 | 49.0000 | 0 | 248366815 | auto-renewal | realized   | Renewed    | 2019-11-07 | 49.0 | 10.44 | ceat                  | 1 |  1 |  4 | l        | 4l         | press   |  3.89182030 | pressarsys                   | 0.489 | 0.6627434 |    NA | 0.8305129 | 0.541 | 0.75187841 | NA | NA |\n",
       "| FirstTime | 1 | 2019-07-05 | 2018-07-05 | Active |  71455605 | crt.host                    | PDR Ltd                 | Redehost                | Brazil         | NA | 1 |  3.00 |  3.0000 | 0 | 213418891 | auto-renewal | unrealized | Not Renewd | 2019-07-05 | 65.0 |  3.67 | crt                   | 1 |  1 |  3 | l        | 3l         | host    |  1.09861229 | hostredehost                 | 0.091 | 0.3858803 |    NA | 0.6396910 | 0.217 | 0.45188043 | NA | NA |\n",
       "| FirstTime | 1 | 2019-07-01 | 2018-07-01 | Active |  71238585 | musictechnology.press       | Key-Systems             | Home.pl                 | Poland         | NA | 1 | 49.00 | 49.0000 | 0 | 211150046 | renewal      | NA         | Renewed    | 2019-06-24 | 49.0 |  3.29 | musictechnology       | 1 |  1 | 15 | l        | 15l        | press   |  3.89182030 | presshome.pl                 | 0.072 | 0.5678307 | 0.047 | 0.2043780 | 0.363 | 0.77135019 | NA | NA |\n",
       "| FirstTime | 1 | 2019-08-28 | 2018-08-28 | Active |  75267554 | machineseeker.site          | Gransy                  | Webonic                 | Hungary        | NA | 1 | 20.00 | 20.0000 | 0 | 222082036 | renewal      | NA         | Renewed    | 2019-08-14 | 20.0 |  7.37 | machineseeker         | 1 |  1 | 13 | l        | 13l        | site    |  2.99573227 | sitewebonic                  | 0.634 | 0.8043772 |    NA | 0.5871087 | 1.000 | 0.76100000 | NA | NA |\n",
       "\n"
      ],
      "text/plain": [
       "   renewal_type renewed_count expiry_date creation_date status domain_id\n",
       "1  FirstTime    1             2019-06-14  2018-06-14    Active  70181780\n",
       "2  FirstTime    1             2020-05-17  2019-05-17    Active 103906916\n",
       "3  FirstTime    1             2019-10-05  2018-10-05    Active  78360794\n",
       "4  FirstTime    1             2020-08-30  2019-08-30    Active 122049036\n",
       "5  FirstTime    1             2019-08-15  2018-08-15    Active  74267354\n",
       "6  FirstTime    1             2020-04-22  2019-04-22    Active 101141084\n",
       "7  FirstTime    1             2019-06-27  2018-06-27    Active  71066905\n",
       "8  FirstTime    1             2019-11-19  2018-11-19    Active  83956614\n",
       "9  FirstTime    1             2020-08-07  2019-08-07    Active 116039006\n",
       "10 FirstTime    1             2019-11-09  2018-11-09    Active  82321649\n",
       "11 FirstTime    1             2019-10-04  2018-10-04    Active  78253334\n",
       "12 FirstTime    1             2019-08-07  2018-08-07    Active  73736289\n",
       "13 FirstTime    1             2020-01-25  2019-01-25    Active  91900703\n",
       "14 FirstTime    1             2020-03-27  2019-03-27    Active  98114119\n",
       "15 FirstTime    1             2020-05-19  2019-05-19    Active 104026606\n",
       "16 FirstTime    1             2020-04-22  2019-04-22    Active 101088999\n",
       "17 FirstTime    1             2020-02-05  2019-02-05    Active  92905248\n",
       "18 FirstTime    1             2020-05-26  2019-05-26    Active 104968651\n",
       "19 FirstTime    1             2019-06-12  2018-06-12    Active  69902250\n",
       "20 FirstTime    1             2019-09-29  2018-09-29    Active  77731294\n",
       "21 FirstTime    1             2019-10-09  2018-10-09    Active  78686599\n",
       "22 FirstTime    1             2019-08-04  2018-08-04    Active  73576899\n",
       "23 FirstTime    1             2020-05-24  2017-05-24    Active  48026450\n",
       "24 FirstTime    1             2019-12-19  2018-12-19    Active  88054102\n",
       "25 FirstTime    1             2020-06-17  2019-06-17    Active 108131151\n",
       "26 FirstTime    1             2019-09-17  2018-09-17    Active  76806449\n",
       "27 FirstTime    1             2019-11-19  2018-11-19    Active  83956624\n",
       "28 FirstTime    1             2019-07-31  2018-07-31    Active  73141264\n",
       "29 FirstTime    1             2019-07-20  2018-07-20    Active  72570834\n",
       "30 FirstTime    1             2020-08-15  2019-08-15    Active 118048911\n",
       "31 FirstTime    1             2019-09-26  2018-09-26    Active  77531224\n",
       "32 FirstTime    1             2020-04-05  2019-04-05    Active  99009174\n",
       "33 FirstTime    1             2019-12-06  2018-12-06    Active  86079062\n",
       "34 FirstTime    1             2020-04-29  2019-04-29    Active 102386359\n",
       "35 FirstTime    1             2019-07-31  2018-07-31    Active  73230044\n",
       "36 FirstTime    1             2019-08-07  2018-08-07    Active  73786199\n",
       "37 FirstTime    1             2020-04-08  2019-04-08    Active  99243829\n",
       "38 FirstTime    1             2020-06-18  2019-06-18    Active 108660061\n",
       "39 FirstTime    1             2019-06-11  2018-06-11    Active  69834100\n",
       "40 FirstTime    1             2020-05-31  2019-05-31    Active 105762741\n",
       "41 FirstTime    1             2019-07-15  2018-07-15    Active  72123374\n",
       "42 FirstTime    1             2019-10-30  2018-10-30    Active  80956989\n",
       "43 FirstTime    1             2020-07-24  2019-07-24    Active 113944656\n",
       "44 FirstTime    1             2020-02-06  2019-02-06    Active  93010773\n",
       "45 FirstTime    1             2020-08-18  2019-08-18    Active 118462681\n",
       "46 FirstTime    1             2019-07-23  2018-07-23    Active  72691074\n",
       "47 FirstTime    1             2020-06-11  2019-06-11    Active 107426936\n",
       "48 FirstTime    1             2020-01-23  2019-01-23    Active  91704323\n",
       "49 FirstTime    1             2019-06-27  2018-06-27    Active  71082385\n",
       "50 FirstTime    1             2019-06-30  2017-06-30    Active  49087574\n",
       "51 FirstTime    1             2019-07-08  2018-07-08    Active  71594045\n",
       "52 FirstTime    1             2020-05-07  2019-05-07    Active 102955459\n",
       "53 FirstTime    1             2020-02-11  2019-02-11    Active  93333378\n",
       "54 FirstTime    1             2019-07-05  2018-07-05    Active  71440360\n",
       "55 FirstTime    1             2019-11-07  2018-11-07    Active  82102184\n",
       "56 FirstTime    1             2019-07-05  2018-07-05    Active  71455605\n",
       "57 FirstTime    1             2019-07-01  2018-07-01    Active  71238585\n",
       "58 FirstTime    1             2019-08-28  2018-08-28    Active  75267554\n",
       "   domain                      registrar               reseller               \n",
       "1  steibei.space               Internet GmbH           Internet GmbH          \n",
       "2  wingtsun.space              Internet GmbH           Internet GmbH          \n",
       "3  sfmart.store                PDR Ltd                 Arvixe                 \n",
       "4  qianxiyun.online                                                           \n",
       "5  ontarioart.space            Register.ca             Register.ca            \n",
       "6  ziprecruiter.press          NICENIC                 NICENIC                \n",
       "7  allmaker.space              1&1 Internet            Arsys                  \n",
       "8  frogjuggler.online          Imperial Registrations  Imperial Registrations \n",
       "9  fh1.site                    NetClues                NetClues               \n",
       "10 antispamgw.host             Realtime Register       Realtime Register      \n",
       "11 lokal.host                  Realtime Register       Realtime Register      \n",
       "12 firstdesign.website         Mesh Digital            Heart Internet         \n",
       "13 sems.site                   Whois Networks          Whois Networks         \n",
       "14 tevec.store                 Global Village          Global Village         \n",
       "15 sevensins.fun               DNC Holdings            DNC Holdings           \n",
       "16 eska.store                  Jogjacamp               Jogjacamp              \n",
       "17 compra.store                Key-Systems             Compra                 \n",
       "18 sysadmins.fun               Tecnocratica Centro     Tecnocratica Centro    \n",
       "19 bohemechic.store            Planet Hoster           Planet Hoster          \n",
       "20 filetmignon.store           Planet Hoster           Planet Hoster          \n",
       "21 whiteley.tech               Freeparking             Freeparking            \n",
       "22 altenen.pw                  Web4Africa              Web4Africa             \n",
       "23 cicada.pw                   PDR Ltd                 Bluehost               \n",
       "24 baodou.pw                   PDR Ltd                 Bluehost               \n",
       "25 marketingshop.space         OwnRegistrar            OwnRegistrar           \n",
       "26 gamingwithprose.fun         Lexsynergy              Lexsynergy             \n",
       "27 frogjuggler.site            Imperial Registrations  Imperial Registrations \n",
       "28 youhen.tech                 Zhengzhou Zitian        Zhengzhou Zitian       \n",
       "29 merino.pw                   Mesh Digital            HostEurope             \n",
       "30 unitednet-design.website    United Domains          Alfahosting            \n",
       "31 kosten.site                 Key-Systems             Compra                 \n",
       "32 webplaneta.press            Registrator Domenov     Registrator Domenov    \n",
       "33 futureclient.website        Tucows                  Siteground             \n",
       "34 ahlatlibel.site             Tucows                  Markum                 \n",
       "35 rcawireless.tech            eNom                    EUKHost                \n",
       "36 talktalkplc.press           Ascio                   Ascio                  \n",
       "37 heterodox.press             Tucows                  EasyDNS                \n",
       "38 creations2020.pw            PDR Ltd                 Impreza                \n",
       "39 chillfest.fun               Webnames                Webnames               \n",
       "40 nijmegen.website            Key-Systems             Neostrada              \n",
       "41 bosberaad.website           Key-Systems             Neostrada              \n",
       "42 printxpress.in.net          OwnRegistrar            OwnRegistrar           \n",
       "43 littlelion.space            PDR Ltd                 Guzel Hosting          \n",
       "44 parliamentary.press         PDR Ltd                 BigRock                \n",
       "45 indoamericanpressclub.press PDR Ltd                 BigRock                \n",
       "46 daton.tech                  Inames                  Inames                 \n",
       "47 webix-dev.host              Tucows                  Check Domain           \n",
       "48 skateworld.store            Tecnocratica Centro     Tecnocratica Centro    \n",
       "49 mondonauts.space            COREhub                 COREhub                \n",
       "50 geovis.store                ShenZhen HuLianXianFeng ShenZhen HuLianXianFeng\n",
       "51 acmest.online               Whois Networks          Whois Networks         \n",
       "52 konvini.store               Inames                  Inames                 \n",
       "53 dyham.press                 Webnames                Webnames               \n",
       "54 mellanox.store              Domain The Net          Domain The Net         \n",
       "55 ceat.press                  1&1 Internet            Arsys                  \n",
       "56 crt.host                    PDR Ltd                 Redehost               \n",
       "57 musictechnology.press       Key-Systems             Home.pl                \n",
       "58 machineseeker.site          Gransy                  Webonic                \n",
       "   reseller_country registrant_country reg_period reg_revenue reg_arpt\n",
       "1  Germany          NA                 1           6.00        6.0000 \n",
       "2  Germany          NA                 1          15.00       15.0000 \n",
       "3  United States    NA                 1           6.50        6.5000 \n",
       "4                   NA                 1          25.00       25.0000 \n",
       "5  Canada           NA                 1           6.00        6.0000 \n",
       "6  Hong Kong        NA                 1           1.08        1.0800 \n",
       "7  Spain            NA                 1           1.00        1.0000 \n",
       "8  United States    NA                 1          25.00       25.0000 \n",
       "9                   NA                 1           0.00        0.0001 \n",
       "10 Netherlands      NA                 1          65.00       65.0000 \n",
       "11 Netherlands      NA                 1          65.00       65.0000 \n",
       "12 United Kingdom   NA                 1           0.80        0.8000 \n",
       "13 Korea            NA                 1          20.00       20.0000 \n",
       "14 Germany          NA                 1          40.00       40.0000 \n",
       "15 United States    NA                 1          15.00       15.0000 \n",
       "16 Indonesia        NA                 1           2.50        2.5000 \n",
       "17 Netherlands      NA                 1           3.00        3.0000 \n",
       "18 Spain            NA                 1          15.00       15.0000 \n",
       "19 Canada           NA                 1          40.00       40.0000 \n",
       "20 Canada           NA                 1          40.00       40.0000 \n",
       "21 United Kingdom   NA                 1          35.00       35.0000 \n",
       "22 South Africa     NA                 1           6.00        6.0000 \n",
       "23 United States    NA                 3          12.50        4.1700 \n",
       "24 United States    NA                 1           0.50        0.5000 \n",
       "25                  NA                 1           3.00        3.0000 \n",
       "26 United Kingdom   NA                 1          15.00       15.0000 \n",
       "27 United States    NA                 1          20.00       20.0000 \n",
       "28 China            NA                 1           2.25        2.2500 \n",
       "29 Germany          NA                 1           6.00        6.0000 \n",
       "30 Germany          NA                 1          15.00       15.0000 \n",
       "31 Netherlands      NA                 1           5.00        5.0000 \n",
       "32 Russia           NA                 1          49.00       49.0000 \n",
       "33 Bulgaria         NA                 1           5.00        5.0000 \n",
       "34 Indonesia        NA                 1           6.00        6.0000 \n",
       "35 United Kingdom   NA                 1          12.00       12.0000 \n",
       "36 Denmark          NA                 1           7.00        7.0000 \n",
       "37 Canada           NA                 1          49.00       49.0000 \n",
       "38 Nigeria          NA                 1           0.50        0.5000 \n",
       "39 Canada           NA                 1          15.00       15.0000 \n",
       "40 Netherlands      NA                 1          10.00       10.0000 \n",
       "41 Netherlands      NA                 1           4.00        4.0000 \n",
       "42 India            NA                 1           6.00        6.0000 \n",
       "43 Turkey           NA                 1           0.50        0.5000 \n",
       "44 India            NA                 1           6.00        6.0000 \n",
       "45 India            NA                 1           6.00        6.0000 \n",
       "46 Korea            NA                 1          35.00       35.0000 \n",
       "47 Germany          NA                 1          65.00       65.0000 \n",
       "48 Spain            NA                 1           6.00        6.0000 \n",
       "49 Spain            NA                 1           6.00        6.0000 \n",
       "50 China            NA                 2           7.50        3.7500 \n",
       "51 Korea            NA                 1          25.00       25.0000 \n",
       "52 Korea            NA                 1          40.00       40.0000 \n",
       "53 Canada           NA                 1          49.00       49.0000 \n",
       "54 Israel           NA                 1          40.00       40.0000 \n",
       "55 Spain            NA                 1          49.00       49.0000 \n",
       "56 Brazil           NA                 1           3.00        3.0000 \n",
       "57 Poland           NA                 1          49.00       49.0000 \n",
       "58 Hungary          NA                 1          20.00       20.0000 \n",
       "   renew_mbg renewal_item_id renew_type   autorenew_type renewal_status\n",
       "1  0         208493821       auto-renewal realized       Renewed       \n",
       "2  0         315625244       auto-renewal realized       Renewed       \n",
       "3  0         235884471       renewal      NA             Renewed       \n",
       "4  0         341703158       auto-renewal unrealized     Not Renewd    \n",
       "5  0         222880706       auto-renewal unrealized     Not Renewd    \n",
       "6  0         295236384       transfer     NA             Renewed       \n",
       "7  0         211876061       auto-renewal unrealized     Not Renewd    \n",
       "8  0         256244725       auto-renewal unrealized     Not Renewd    \n",
       "9  0         335679829       auto-renewal realized       Renewed       \n",
       "10 0         238730925       renewal      NA             Renewed       \n",
       "11 0         236006436       renewal      NA             Renewed       \n",
       "12 0         218843026       renewal      NA             Renewed       \n",
       "13 0         283009471       renewal      NA             Renewed       \n",
       "14 0                 0       NA           NA             Not Renewd    \n",
       "15 0         316084664       auto-renewal unrealized     Not Renewd    \n",
       "16 0         309859364       auto-renewal unrealized     Not Renewd    \n",
       "17 0         289269716       auto-renewal realized       Renewed       \n",
       "18 0         315829289       renewal      NA             Renewed       \n",
       "19 0         207608691       renewal      NA             Renewed       \n",
       "20 0         235473511       auto-renewal realized       Renewed       \n",
       "21 0         224135771       renewal      NA             Renewed       \n",
       "22 0         219276076       auto-renewal unrealized     Not Renewd    \n",
       "23 0         317208689       auto-renewal NA             Not Renewd    \n",
       "24 0         265555511       renewal      NA             Renewed       \n",
       "25 0         322847614       auto-renewal unrealized     Not Renewd    \n",
       "26 0         231821101       auto-renewal unrealized     Not Renewd    \n",
       "27 0         256244735       auto-renewal unrealized     Not Renewd    \n",
       "28 0         218382716       auto-renewal unrealized     Not Renewd    \n",
       "29 0         210057756       renewal      NA             Renewed       \n",
       "30 0         337655644       auto-renewal realized       Renewed       \n",
       "31 0         234417531       auto-renewal unrealized     Not Renewd    \n",
       "32 0         289165811       renewal      NA             Renewed       \n",
       "33 0         262682376       renewal      NA             Renewed       \n",
       "34 0         311399469       renewal      NA             Renewed       \n",
       "35 0         218471321       auto-renewal unrealized     Not Renewd    \n",
       "36 0         213695661       renewal      NA             Renewed       \n",
       "37 0         304376229       renewal      NA             Renewed       \n",
       "38 0         322982304       auto-renewal unrealized     Not Renewd    \n",
       "39 0         207730351       auto-renewal unrealized     Not Renewd    \n",
       "40 0         319090934       auto-renewal realized       Renewed       \n",
       "41 0         215156396       auto-renewal realized       Renewed       \n",
       "42 0         245484370       auto-renewal unrealized     Not Renewd    \n",
       "43 0         331882189       auto-renewal unrealized     Not Renewd    \n",
       "44 0         289439061       auto-renewal unrealized     Not Renewd    \n",
       "45 0         338353614       auto-renewal unrealized     Not Renewd    \n",
       "46 0         216782261       auto-renewal unrealized     Not Renewd    \n",
       "47 0         321311914       renewal      NA             Renewed       \n",
       "48 0         284086486       auto-renewal unrealized     Not Renewd    \n",
       "49 0         211891596       auto-renewal realized       Renewed       \n",
       "50 0         192437064       transfer     NA             Renewed       \n",
       "51 0         213832106       auto-renewal unrealized     Not Renewd    \n",
       "52 0         313667909       auto-renewal unrealized     Not Renewd    \n",
       "53 0         290654076       auto-renewal unrealized     Not Renewd    \n",
       "54 0         200279144       renewal      NA             Renewed       \n",
       "55 0         248366815       auto-renewal realized       Renewed       \n",
       "56 0         213418891       auto-renewal unrealized     Not Renewd    \n",
       "57 0         211150046       renewal      NA             Renewed       \n",
       "58 0         222082036       renewal      NA             Renewed       \n",
       "   renew_date renew_arpt gibb_score pattern               pattern_domain_count\n",
       "1  2019-06-14 15.0        4.02      steibei               1                   \n",
       "2  2020-05-17 15.0        6.48      wingtsun              1                   \n",
       "3  2019-10-01 26.5        1.15      sfmart                1                   \n",
       "4  2020-08-30  6.0        0.63      qianxiyun             1                   \n",
       "5  2019-08-15 15.0        6.11      ontarioart            1                   \n",
       "6  2020-02-26 49.0        5.61      ziprecruiter          1                   \n",
       "7  2019-06-27  6.0        6.55      allmaker              1                   \n",
       "8  2019-11-19 25.0        2.98      frogjuggler           1                   \n",
       "9  2020-08-07 20.0        0.02      fh1                   1                   \n",
       "10 2019-10-10 65.0        2.09      antispamgw            1                   \n",
       "11 2019-10-01 65.0        3.87      lokal                 1                   \n",
       "12 2019-08-02 15.0        2.99      firstdesign           1                   \n",
       "13 2020-01-21 20.0        4.29      sems                  1                   \n",
       "14 <NA>         NA        6.92      tevec                 1                   \n",
       "15 2020-05-19 15.0        8.88      sevensins             1                   \n",
       "16 2020-04-22 40.0        2.83      eska                  1                   \n",
       "17 2020-02-05 40.0       10.07      compra                1                   \n",
       "18 2020-05-18 15.0        3.46      sysadmins             1                   \n",
       "19 2019-06-11 40.0        6.59      bohemechic            1                   \n",
       "20 2019-09-29 40.0        4.25      filetmignon           1                   \n",
       "21 2019-08-22 35.0        7.84      whiteley              1                   \n",
       "22 2019-08-04  0.0        6.97      altenen               1                   \n",
       "23 2020-05-24  6.0        5.42      cicada                1                   \n",
       "24 2019-12-12 15.0        1.85      baodou                2                   \n",
       "25 2020-06-17 15.0        6.32      marketingshop         1                   \n",
       "26 2019-09-17 15.0        4.43      gamingwithprose       1                   \n",
       "27 2019-11-19 20.0        2.98      frogjuggler           1                   \n",
       "28 2019-07-31  6.0        4.64      youhen                1                   \n",
       "29 2019-06-20 15.0       13.82      merino                1                   \n",
       "30 2020-08-15 15.0        3.10      unitednet-design      1                   \n",
       "31 2019-09-26 20.0        6.01      kosten                1                   \n",
       "32 2020-02-05 49.0        2.81      webplaneta            1                   \n",
       "33 2019-12-06 15.0        6.73      futureclient          1                   \n",
       "34 2020-04-27 20.0        2.42      ahlatlibel            1                   \n",
       "35 2019-07-31 35.0        5.92      rcawireless           1                   \n",
       "36 2019-07-08 49.0        1.28      talktalkplc           1                   \n",
       "37 2020-04-02 49.0        4.41      heterodox             1                   \n",
       "38 2020-06-18 15.0        8.53      creations2020         1                   \n",
       "39 2019-06-11 15.0        7.92      chillfest             1                   \n",
       "40 2020-05-31 15.0        1.26      nijmegen              1                   \n",
       "41 2019-07-15 15.0        2.60      bosberaad             1                   \n",
       "42 2019-10-30  6.0        6.15      printxpress           1                   \n",
       "43 2020-07-24 15.0        6.54      littlelion            1                   \n",
       "44 2020-02-06 49.0        6.19      parliamentary         1                   \n",
       "45 2020-08-18 49.0        5.47      indoamericanpressclub 1                   \n",
       "46 2019-07-23 35.0        8.69      daton                 1                   \n",
       "47 2020-06-11 65.0        1.32      webix-dev             1                   \n",
       "48 2020-01-23 40.0        3.81      skateworld            1                   \n",
       "49 2019-06-27 15.0        6.78      mondonauts            1                   \n",
       "50 2019-03-25  7.0        5.41      geovis                1                   \n",
       "51 2019-07-08 25.0        2.88      acmest                1                   \n",
       "52 2020-05-07 40.0        5.59      konvini               1                   \n",
       "53 2020-02-11 49.0        1.27      dyham                 1                   \n",
       "54 2019-05-06 40.0        5.54      mellanox              1                   \n",
       "55 2019-11-07 49.0       10.44      ceat                  1                   \n",
       "56 2019-07-05 65.0        3.67      crt                   1                   \n",
       "57 2019-06-24 49.0        3.29      musictechnology       1                   \n",
       "58 2019-08-14 20.0        7.37      machineseeker         1                   \n",
       "   day_domains sld_length sld_type sld_type2  tld     log_reg_arpt\n",
       "1   1           7         l        7l         space    1.79175947 \n",
       "2   1           8         l        8l         space    2.70805020 \n",
       "3   1           6         l        6l         store    1.87180218 \n",
       "4   1           9         l        9l         online   3.21887582 \n",
       "5   1          10         l        10l        space    1.79175947 \n",
       "6   1          12         l        12l        press    0.07696104 \n",
       "7   1           8         l        8l         space    0.00000000 \n",
       "8   1          11         l        11l        online   3.21887582 \n",
       "9   1           3         ln       3ln        site    -9.21034037 \n",
       "10  1          10         l        10l        host     4.17438727 \n",
       "11  1           5         l        5l         host     4.17438727 \n",
       "12  1          11         l        11l        website -0.22314355 \n",
       "13  1           4         l        4l         site     2.99573227 \n",
       "14  1           5         l        5l         store    3.68887945 \n",
       "15  1           9         l        9l         fun      2.70805020 \n",
       "16  1           4         l        4l         store    0.91629073 \n",
       "17  1           6         l        6l         store    1.09861229 \n",
       "18  1           9         l        9l         fun      2.70805020 \n",
       "19  1          10         l        10l        store    3.68887945 \n",
       "20  1          11         l        11l        store    3.68887945 \n",
       "21  1           8         l        8l         tech     3.55534806 \n",
       "22  1           7         l        7l         pw       1.79175947 \n",
       "23  1           6         l        6l         pw       1.42791604 \n",
       "24 25           6         l        6l         pw      -0.69314718 \n",
       "25  1          13         l        13l        space    1.09861229 \n",
       "26  1          15         l        15l        fun      2.70805020 \n",
       "27  1          11         l        11l        site     2.99573227 \n",
       "28  1           6         l        6l         tech     0.81093022 \n",
       "29  1           6         l        6l         pw       1.79175947 \n",
       "30  1          16         hyphen-l 16hyphen-l website  2.70805020 \n",
       "31  1           6         l        6l         site     1.60943791 \n",
       "32  1          10         l        10l        press    3.89182030 \n",
       "33  1          12         l        12l        website  1.60943791 \n",
       "34  1          10         l        10l        site     1.79175947 \n",
       "35  1          11         l        11l        tech     2.48490665 \n",
       "36  1          11         l        11l        press    1.94591015 \n",
       "37  1           9         l        9l         press    3.89182030 \n",
       "38  1          13         ln       13ln       pw      -0.69314718 \n",
       "39  1           9         l        9l         fun      2.70805020 \n",
       "40  1           8         l        8l         website  2.30258509 \n",
       "41  1           9         l        9l         website  1.38629436 \n",
       "42  1          11         l        11l        in.net   1.79175947 \n",
       "43  1          10         l        10l        space   -0.69314718 \n",
       "44  1          13         l        13l        press    1.79175947 \n",
       "45  1          21         l        21l        press    1.79175947 \n",
       "46  1           5         l        5l         tech     3.55534806 \n",
       "47  1           9         hyphen-l 9hyphen-l  host     4.17438727 \n",
       "48  1          10         l        10l        store    1.79175947 \n",
       "49  1          10         l        10l        space    1.79175947 \n",
       "50  1           6         l        6l         store    1.32175584 \n",
       "51  1           6         l        6l         online   3.21887582 \n",
       "52  1           7         l        7l         store    3.68887945 \n",
       "53  1           5         l        5l         press    3.89182030 \n",
       "54  1           8         l        8l         store    3.68887945 \n",
       "55  1           4         l        4l         press    3.89182030 \n",
       "56  1           3         l        3l         host     1.09861229 \n",
       "57  1          15         l        15l        press    3.89182030 \n",
       "58  1          13         l        13l        site     2.99573227 \n",
       "   tld_registrar_index          pred_agg_glm_ALL pred_agg_rf_ALL pred_agg_glm\n",
       "1  spaceinternet gmbh           0.920            0.9713886          NA       \n",
       "2  spaceinternet gmbh           0.924            0.9685702          NA       \n",
       "3  storearvixe                  0.000            0.2597214          NA       \n",
       "4  online                          NA            0.9550391          NA       \n",
       "5  spaceregister.ca                NA            0.9855667          NA       \n",
       "6  pressnicenic                 0.022            0.2796425          NA       \n",
       "7  spacearsys                   0.487            0.5107410          NA       \n",
       "8  onlineimperial registrations    NA            0.9948964          NA       \n",
       "9  sitenetclues                 0.000            0.1291702          NA       \n",
       "10 hostrealtime register        0.252            0.4590399       0.253       \n",
       "11 hostrealtime register        0.275            0.5426539       0.275       \n",
       "12 websiteheart internet        1.000            0.9309190          NA       \n",
       "13 sitewhois networks           0.293            0.7015172          NA       \n",
       "14 storeglobal village          1.000            0.9311672          NA       \n",
       "15 fundnc holdings              0.453            0.7781161          NA       \n",
       "16 storejogjacamp               0.052            0.3624642          NA       \n",
       "17 storecompra                  0.000            0.1588105          NA       \n",
       "18 funtecnocratica centro       0.666            0.6468300          NA       \n",
       "19 storeplanet hoster           0.931            0.9259644          NA       \n",
       "20 storeplanet hoster           0.927            0.9356569          NA       \n",
       "21 techfreeparking              0.671            0.6450379          NA       \n",
       "22 pwweb4africa                 0.035            0.3189241          NA       \n",
       "23 pwbluehost                   0.475            0.5378698       0.489       \n",
       "24 pwbluehost                   0.216            0.1154223       0.215       \n",
       "25 spaceownregistrar            0.325            0.8397940          NA       \n",
       "26 funlexsynergy                0.810            0.9250064          NA       \n",
       "27 siteimperial registrations      NA            0.9880768          NA       \n",
       "28 techzhengzhou zitian         0.957            0.7270511          NA       \n",
       "29 pwhosteurope                 0.708            0.6851074          NA       \n",
       "30 websitealfahosting           0.688            0.8366708          NA       \n",
       "31 sitecompra                   0.000            0.1650235          NA       \n",
       "32 pressregistrator domenov     0.155            0.4753756          NA       \n",
       "33 websitesiteground            0.470            0.6328508          NA       \n",
       "34 sitemarkum                   0.729            0.6593500          NA       \n",
       "35 techeukhost                  0.518            0.5672919          NA       \n",
       "36 pressascio                   0.396            0.6822090          NA       \n",
       "37 presseasydns                 0.332            0.4480044          NA       \n",
       "38 pwimpreza                    0.006            0.1491183          NA       \n",
       "39 funwebnames                  0.271            0.5920338          NA       \n",
       "40 websiteneostrada             0.552            0.6894393          NA       \n",
       "41 websiteneostrada             0.543            0.6123546          NA       \n",
       "42 in.netownregistrar           0.366            0.5997195          NA       \n",
       "43 spaceguzel hosting           0.038            0.1223125          NA       \n",
       "44 pressbigrock                 0.049            0.2166930       0.038       \n",
       "45 pressbigrock                 0.043            0.2379831       0.033       \n",
       "46 techinames                   0.000            0.2164483          NA       \n",
       "47 hostcheck domain             0.354            0.4555586          NA       \n",
       "48 storetecnocratica centro     0.801            0.7428275          NA       \n",
       "49 spacecorehub                 0.958            0.9664041          NA       \n",
       "50 storeshenzhen hulianxianfeng 0.105            0.3228792          NA       \n",
       "51 onlinewhois networks         0.408            0.5699284          NA       \n",
       "52 storeinames                  0.000            0.2070983          NA       \n",
       "53 presswebnames                0.265            0.3899154          NA       \n",
       "54 storedomain the net          0.766            0.4828190          NA       \n",
       "55 pressarsys                   0.489            0.6627434          NA       \n",
       "56 hostredehost                 0.091            0.3858803          NA       \n",
       "57 presshome.pl                 0.072            0.5678307       0.047       \n",
       "58 sitewebonic                  0.634            0.8043772          NA       \n",
       "   pred_agg_rf pred_seg_glm_ALL pred_seg_rf_ALL pred_seg2_glm_ALL\n",
       "1  0.7251219   0.975            0.98133698      NA               \n",
       "2  0.6956184   0.993            0.97838698      NA               \n",
       "3  0.7862930      NA                    NA      NA               \n",
       "4  0.7713468      NA                    NA      NA               \n",
       "5  0.7286549      NA                    NA      NA               \n",
       "6  0.5721173   0.093            0.30130160      NA               \n",
       "7  0.5963515   0.544            0.83162583      NA               \n",
       "8  0.8257238      NA                    NA      NA               \n",
       "9  0.5810059      NA                    NA      NA               \n",
       "10 0.5696194   0.904            0.64286641      NA               \n",
       "11 0.5710536   0.899            0.68472740      NA               \n",
       "12 0.5801021      NA                    NA      NA               \n",
       "13 0.6847056   0.756            0.74919041      NA               \n",
       "14 0.8359576      NA                    NA      NA               \n",
       "15 0.6297827   0.364            0.70470105      NA               \n",
       "16 0.7672393   0.046            0.45361957      NA               \n",
       "17 0.6993082      NA            0.00000000      NA               \n",
       "18 0.5789864   0.931            0.81458920      NA               \n",
       "19 0.7534841   1.000            0.82794164      NA               \n",
       "20 0.8306447   1.000            0.88134164      NA               \n",
       "21 0.8157455   0.382            0.66875220      NA               \n",
       "22 0.6318866   0.101            0.20175308      NA               \n",
       "23 0.6305815   1.000            0.56918952      NA               \n",
       "24 0.1802359   0.303            0.69303276      NA               \n",
       "25 0.7007593   0.017            0.40453092      NA               \n",
       "26 0.6166981   1.000            0.89775000      NA               \n",
       "27 0.5626476      NA                    NA      NA               \n",
       "28 0.6360283   0.540            0.79759728      NA               \n",
       "29 0.6368430   0.974            0.91915490      NA               \n",
       "30 0.5640029   0.756            0.94420956      NA               \n",
       "31 0.5973271      NA            0.00000000      NA               \n",
       "32 0.7275313   0.414            0.46489889      NA               \n",
       "33 0.6251516   0.591            0.74349849      NA               \n",
       "34 0.6145744      NA                    NA      NA               \n",
       "35 0.7812017   0.147            0.29662500      NA               \n",
       "36 0.7433086   0.605            0.93365079      NA               \n",
       "37 0.5961707   0.203            0.71439422      NA               \n",
       "38 0.5753531   0.000            0.15961663      NA               \n",
       "39 0.6103056   0.446            0.47993068      NA               \n",
       "40 0.6001310   0.514            0.55410756      NA               \n",
       "41 0.6112665   0.567            0.76329629      NA               \n",
       "42 0.5927023   0.864            0.51476187      NA               \n",
       "43 0.5811143   0.058            0.04018261      NA               \n",
       "44 0.3034804   0.122            0.24535632      NA               \n",
       "45 0.2704060   0.089            0.26639695      NA               \n",
       "46 0.8468427      NA            0.00000000      NA               \n",
       "47 0.5685879   0.788            0.88573523      NA               \n",
       "48 0.7708989   0.769            0.76734804      NA               \n",
       "49 0.7293035   0.951            0.97395632      NA               \n",
       "50 0.7141210   1.000            0.30977381      NA               \n",
       "51 0.9276133   0.444            0.58723209      NA               \n",
       "52 0.8658228      NA            0.00000000      NA               \n",
       "53 0.7706898   0.440            0.35025719      NA               \n",
       "54 0.8681941   0.977            0.89065952      NA               \n",
       "55 0.8305129   0.541            0.75187841      NA               \n",
       "56 0.6396910   0.217            0.45188043      NA               \n",
       "57 0.2043780   0.363            0.77135019      NA               \n",
       "58 0.5871087   1.000            0.76100000      NA               \n",
       "   pred_seg2_rf_ALL\n",
       "1  NA              \n",
       "2  NA              \n",
       "3  NA              \n",
       "4  NA              \n",
       "5  NA              \n",
       "6  NA              \n",
       "7  NA              \n",
       "8  NA              \n",
       "9  NA              \n",
       "10 NA              \n",
       "11 NA              \n",
       "12 NA              \n",
       "13 NA              \n",
       "14 NA              \n",
       "15 NA              \n",
       "16 NA              \n",
       "17 NA              \n",
       "18 NA              \n",
       "19 NA              \n",
       "20 NA              \n",
       "21 NA              \n",
       "22 NA              \n",
       "23 NA              \n",
       "24 NA              \n",
       "25 NA              \n",
       "26 NA              \n",
       "27 NA              \n",
       "28 NA              \n",
       "29 NA              \n",
       "30 NA              \n",
       "31 NA              \n",
       "32 NA              \n",
       "33 NA              \n",
       "34 NA              \n",
       "35 NA              \n",
       "36 NA              \n",
       "37 NA              \n",
       "38 NA              \n",
       "39 NA              \n",
       "40 NA              \n",
       "41 NA              \n",
       "42 NA              \n",
       "43 NA              \n",
       "44 NA              \n",
       "45 NA              \n",
       "46 NA              \n",
       "47 NA              \n",
       "48 NA              \n",
       "49 NA              \n",
       "50 NA              \n",
       "51 NA              \n",
       "52 NA              \n",
       "53 NA              \n",
       "54 NA              \n",
       "55 NA              \n",
       "56 NA              \n",
       "57 NA              \n",
       "58 NA              "
      ]
     },
     "metadata": {},
     "output_type": "display_data"
    }
   ],
   "source": [
    "preds_df"
   ]
  },
  {
   "cell_type": "code",
   "execution_count": 34,
   "metadata": {},
   "outputs": [],
   "source": [
    "write.csv(preds_df, file=file.path(fullDir,'preds','preds.csv'),row.names = FALSE)"
   ]
  },
  {
   "cell_type": "markdown",
   "metadata": {},
   "source": [
    "# LOAD output"
   ]
  },
  {
   "cell_type": "code",
   "execution_count": 36,
   "metadata": {},
   "outputs": [
    {
     "data": {
      "text/html": [
       "<style>\n",
       ".list-inline {list-style: none; margin:0; padding: 0}\n",
       ".list-inline>li {display: inline-block}\n",
       ".list-inline>li:not(:last-child)::after {content: \"\\00b7\"; padding: 0 .5ex}\n",
       "</style>\n",
       "<ol class=list-inline><li>932347</li><li>39</li></ol>\n"
      ],
      "text/latex": [
       "\\begin{enumerate*}\n",
       "\\item 932347\n",
       "\\item 39\n",
       "\\end{enumerate*}\n"
      ],
      "text/markdown": [
       "1. 932347\n",
       "2. 39\n",
       "\n",
       "\n"
      ],
      "text/plain": [
       "[1] 932347     39"
      ]
     },
     "metadata": {},
     "output_type": "display_data"
    },
    {
     "data": {
      "text/html": [
       "<table>\n",
       "<caption>A data.frame: 6 × 39</caption>\n",
       "<thead>\n",
       "\t<tr><th></th><th scope=col>renewal_type</th><th scope=col>renewed_count</th><th scope=col>expiry_date</th><th scope=col>creation_date</th><th scope=col>status</th><th scope=col>domain_id</th><th scope=col>domain</th><th scope=col>registrar</th><th scope=col>reseller</th><th scope=col>reseller_country</th><th scope=col>registrant_country</th><th scope=col>reg_period</th><th scope=col>reg_revenue</th><th scope=col>reg_arpt</th><th scope=col>renew_mbg</th><th scope=col>renewal_item_id</th><th scope=col>renew_type</th><th scope=col>autorenew_type</th><th scope=col>renewal_status</th><th scope=col>renew_date</th><th scope=col>renew_arpt</th><th scope=col>gibb_score</th><th scope=col>pattern</th><th scope=col>pattern_domain_count</th><th scope=col>day_domains</th><th scope=col>sld_length</th><th scope=col>sld_type</th><th scope=col>sld_type2</th><th scope=col>tld</th><th scope=col>log_reg_arpt</th><th scope=col>tld_registrar_index</th><th scope=col>pred_agg_glm_ALL</th><th scope=col>pred_agg_rf_ALL</th><th scope=col>pred_agg_glm</th><th scope=col>pred_agg_rf</th><th scope=col>pred_seg_glm_ALL</th><th scope=col>pred_seg_rf_ALL</th><th scope=col>pred_seg2_glm_ALL</th><th scope=col>pred_seg2_rf_ALL</th></tr>\n",
       "\t<tr><th></th><th scope=col>&lt;fct&gt;</th><th scope=col>&lt;int&gt;</th><th scope=col>&lt;fct&gt;</th><th scope=col>&lt;fct&gt;</th><th scope=col>&lt;fct&gt;</th><th scope=col>&lt;int&gt;</th><th scope=col>&lt;fct&gt;</th><th scope=col>&lt;fct&gt;</th><th scope=col>&lt;fct&gt;</th><th scope=col>&lt;fct&gt;</th><th scope=col>&lt;fct&gt;</th><th scope=col>&lt;int&gt;</th><th scope=col>&lt;dbl&gt;</th><th scope=col>&lt;dbl&gt;</th><th scope=col>&lt;int&gt;</th><th scope=col>&lt;int&gt;</th><th scope=col>&lt;fct&gt;</th><th scope=col>&lt;fct&gt;</th><th scope=col>&lt;fct&gt;</th><th scope=col>&lt;fct&gt;</th><th scope=col>&lt;dbl&gt;</th><th scope=col>&lt;dbl&gt;</th><th scope=col>&lt;fct&gt;</th><th scope=col>&lt;int&gt;</th><th scope=col>&lt;int&gt;</th><th scope=col>&lt;int&gt;</th><th scope=col>&lt;fct&gt;</th><th scope=col>&lt;fct&gt;</th><th scope=col>&lt;fct&gt;</th><th scope=col>&lt;dbl&gt;</th><th scope=col>&lt;fct&gt;</th><th scope=col>&lt;dbl&gt;</th><th scope=col>&lt;dbl&gt;</th><th scope=col>&lt;dbl&gt;</th><th scope=col>&lt;dbl&gt;</th><th scope=col>&lt;dbl&gt;</th><th scope=col>&lt;dbl&gt;</th><th scope=col>&lt;dbl&gt;</th><th scope=col>&lt;dbl&gt;</th></tr>\n",
       "</thead>\n",
       "<tbody>\n",
       "\t<tr><th scope=row>1</th><td>FirstTime</td><td>1</td><td>2019-11-08</td><td>2018-11-08</td><td>Active</td><td>82167309</td><td>viralherbs.pw</td><td>Namecheap</td><td>Namecheap</td><td>United States</td><td>NA</td><td>1</td><td>0.48</td><td>0.48</td><td>0</td><td>248714055</td><td>auto-renewal</td><td>realized  </td><td>Renewed   </td><td>2019-11-08</td><td>7.5</td><td>3.39</td><td>viralhealh</td><td>2</td><td> 576</td><td>10</td><td>l       </td><td>10l       </td><td>pw</td><td>-0.7339692</td><td>pwnamecheap</td><td>0.029</td><td>0.026318534</td><td>0.030</td><td>0.027366883</td><td>0.049</td><td>0.02752752</td><td>0.02812901</td><td>0.024447474</td></tr>\n",
       "\t<tr><th scope=row>2</th><td>FirstTime</td><td>1</td><td>2019-08-05</td><td>2018-08-05</td><td>Active</td><td>73624034</td><td>ww3n.pw      </td><td>Namecheap</td><td>Namecheap</td><td>United States</td><td>NA</td><td>1</td><td>0.48</td><td>0.48</td><td>0</td><td>219523016</td><td>auto-renewal</td><td>unrealized</td><td>Not Renewd</td><td>2019-08-05</td><td>0.0</td><td>0.52</td><td>ww3n      </td><td>1</td><td> 257</td><td> 4</td><td>ln      </td><td>4ln       </td><td>pw</td><td>-0.7339692</td><td>pwnamecheap</td><td>0.024</td><td>0.023279615</td><td>0.024</td><td>0.026322543</td><td>0.062</td><td>0.02930435</td><td>0.07347816</td><td>0.025803420</td></tr>\n",
       "\t<tr><th scope=row>3</th><td>FirstTime</td><td>1</td><td>2019-08-11</td><td>2018-08-11</td><td>Active</td><td>74035654</td><td>dpasseresp.pw</td><td>Namecheap</td><td>Namecheap</td><td>United States</td><td>NA</td><td>1</td><td>0.48</td><td>0.48</td><td>0</td><td>221379481</td><td>auto-renewal</td><td>unrealized</td><td>Not Renewd</td><td>2019-08-11</td><td>7.0</td><td>4.65</td><td>pssders   </td><td>3</td><td> 353</td><td>10</td><td>l       </td><td>10l       </td><td>pw</td><td>-0.7339692</td><td>pwnamecheap</td><td>0.035</td><td>0.006462295</td><td>0.035</td><td>0.006085356</td><td>0.066</td><td>0.01232116</td><td>0.03516253</td><td>0.006186874</td></tr>\n",
       "\t<tr><th scope=row>4</th><td>FirstTime</td><td>1</td><td>2019-07-22</td><td>2018-07-22</td><td>Active</td><td>72660399</td><td>sexgirls.pw  </td><td>Namecheap</td><td>Namecheap</td><td>United States</td><td>NA</td><td>1</td><td>0.48</td><td>0.48</td><td>0</td><td>216639126</td><td>auto-renewal</td><td>unrealized</td><td>Not Renewd</td><td>2019-07-22</td><td>7.0</td><td>1.75</td><td>xgirl     </td><td>2</td><td>  80</td><td> 8</td><td>l       </td><td>8l        </td><td>pw</td><td>-0.7339692</td><td>pwnamecheap</td><td>0.048</td><td>0.075690545</td><td>0.048</td><td>0.080058013</td><td>0.098</td><td>0.06522605</td><td>0.06273875</td><td>0.059190735</td></tr>\n",
       "\t<tr><th scope=row>5</th><td>FirstTime</td><td>1</td><td>2019-07-07</td><td>2018-07-07</td><td>Active</td><td>71566430</td><td>yucief.pw    </td><td>Namecheap</td><td>Namecheap</td><td>United States</td><td>NA</td><td>1</td><td>0.48</td><td>0.48</td><td>0</td><td>213669206</td><td>auto-renewal</td><td>unrealized</td><td>Not Renewd</td><td>2019-07-07</td><td>7.0</td><td>1.52</td><td>cief      </td><td>3</td><td>1147</td><td> 6</td><td>l       </td><td>6l        </td><td>pw</td><td>-0.7339692</td><td>pwnamecheap</td><td>0.016</td><td>0.011064910</td><td>0.017</td><td>0.016695967</td><td>0.023</td><td>0.01608117</td><td>0.02273527</td><td>0.016375413</td></tr>\n",
       "\t<tr><th scope=row>6</th><td>FirstTime</td><td>1</td><td>2019-11-11</td><td>2018-11-11</td><td>Active</td><td>82528489</td><td>bio-x-keto.pw</td><td>Namecheap</td><td>Namecheap</td><td>United States</td><td>NA</td><td>1</td><td>0.48</td><td>0.48</td><td>0</td><td>250798210</td><td>auto-renewal</td><td>unrealized</td><td>Not Renewd</td><td>2019-11-11</td><td>7.5</td><td>2.16</td><td>bio-x-keto</td><td>1</td><td> 687</td><td>10</td><td>hyphen-l</td><td>10hyphen-l</td><td>pw</td><td>-0.7339692</td><td>pwnamecheap</td><td>0.030</td><td>0.009262425</td><td>0.031</td><td>0.009853222</td><td>0.038</td><td>0.01404684</td><td>0.02211356</td><td>0.009443069</td></tr>\n",
       "</tbody>\n",
       "</table>\n"
      ],
      "text/latex": [
       "A data.frame: 6 × 39\n",
       "\\begin{tabular}{r|lllllllllllllllllllllllllllllllllllllll}\n",
       "  & renewal\\_type & renewed\\_count & expiry\\_date & creation\\_date & status & domain\\_id & domain & registrar & reseller & reseller\\_country & registrant\\_country & reg\\_period & reg\\_revenue & reg\\_arpt & renew\\_mbg & renewal\\_item\\_id & renew\\_type & autorenew\\_type & renewal\\_status & renew\\_date & renew\\_arpt & gibb\\_score & pattern & pattern\\_domain\\_count & day\\_domains & sld\\_length & sld\\_type & sld\\_type2 & tld & log\\_reg\\_arpt & tld\\_registrar\\_index & pred\\_agg\\_glm\\_ALL & pred\\_agg\\_rf\\_ALL & pred\\_agg\\_glm & pred\\_agg\\_rf & pred\\_seg\\_glm\\_ALL & pred\\_seg\\_rf\\_ALL & pred\\_seg2\\_glm\\_ALL & pred\\_seg2\\_rf\\_ALL\\\\\n",
       "  & <fct> & <int> & <fct> & <fct> & <fct> & <int> & <fct> & <fct> & <fct> & <fct> & <fct> & <int> & <dbl> & <dbl> & <int> & <int> & <fct> & <fct> & <fct> & <fct> & <dbl> & <dbl> & <fct> & <int> & <int> & <int> & <fct> & <fct> & <fct> & <dbl> & <fct> & <dbl> & <dbl> & <dbl> & <dbl> & <dbl> & <dbl> & <dbl> & <dbl>\\\\\n",
       "\\hline\n",
       "\t1 & FirstTime & 1 & 2019-11-08 & 2018-11-08 & Active & 82167309 & viralherbs.pw & Namecheap & Namecheap & United States & NA & 1 & 0.48 & 0.48 & 0 & 248714055 & auto-renewal & realized   & Renewed    & 2019-11-08 & 7.5 & 3.39 & viralhealh & 2 &  576 & 10 & l        & 10l        & pw & -0.7339692 & pwnamecheap & 0.029 & 0.026318534 & 0.030 & 0.027366883 & 0.049 & 0.02752752 & 0.02812901 & 0.024447474\\\\\n",
       "\t2 & FirstTime & 1 & 2019-08-05 & 2018-08-05 & Active & 73624034 & ww3n.pw       & Namecheap & Namecheap & United States & NA & 1 & 0.48 & 0.48 & 0 & 219523016 & auto-renewal & unrealized & Not Renewd & 2019-08-05 & 0.0 & 0.52 & ww3n       & 1 &  257 &  4 & ln       & 4ln        & pw & -0.7339692 & pwnamecheap & 0.024 & 0.023279615 & 0.024 & 0.026322543 & 0.062 & 0.02930435 & 0.07347816 & 0.025803420\\\\\n",
       "\t3 & FirstTime & 1 & 2019-08-11 & 2018-08-11 & Active & 74035654 & dpasseresp.pw & Namecheap & Namecheap & United States & NA & 1 & 0.48 & 0.48 & 0 & 221379481 & auto-renewal & unrealized & Not Renewd & 2019-08-11 & 7.0 & 4.65 & pssders    & 3 &  353 & 10 & l        & 10l        & pw & -0.7339692 & pwnamecheap & 0.035 & 0.006462295 & 0.035 & 0.006085356 & 0.066 & 0.01232116 & 0.03516253 & 0.006186874\\\\\n",
       "\t4 & FirstTime & 1 & 2019-07-22 & 2018-07-22 & Active & 72660399 & sexgirls.pw   & Namecheap & Namecheap & United States & NA & 1 & 0.48 & 0.48 & 0 & 216639126 & auto-renewal & unrealized & Not Renewd & 2019-07-22 & 7.0 & 1.75 & xgirl      & 2 &   80 &  8 & l        & 8l         & pw & -0.7339692 & pwnamecheap & 0.048 & 0.075690545 & 0.048 & 0.080058013 & 0.098 & 0.06522605 & 0.06273875 & 0.059190735\\\\\n",
       "\t5 & FirstTime & 1 & 2019-07-07 & 2018-07-07 & Active & 71566430 & yucief.pw     & Namecheap & Namecheap & United States & NA & 1 & 0.48 & 0.48 & 0 & 213669206 & auto-renewal & unrealized & Not Renewd & 2019-07-07 & 7.0 & 1.52 & cief       & 3 & 1147 &  6 & l        & 6l         & pw & -0.7339692 & pwnamecheap & 0.016 & 0.011064910 & 0.017 & 0.016695967 & 0.023 & 0.01608117 & 0.02273527 & 0.016375413\\\\\n",
       "\t6 & FirstTime & 1 & 2019-11-11 & 2018-11-11 & Active & 82528489 & bio-x-keto.pw & Namecheap & Namecheap & United States & NA & 1 & 0.48 & 0.48 & 0 & 250798210 & auto-renewal & unrealized & Not Renewd & 2019-11-11 & 7.5 & 2.16 & bio-x-keto & 1 &  687 & 10 & hyphen-l & 10hyphen-l & pw & -0.7339692 & pwnamecheap & 0.030 & 0.009262425 & 0.031 & 0.009853222 & 0.038 & 0.01404684 & 0.02211356 & 0.009443069\\\\\n",
       "\\end{tabular}\n"
      ],
      "text/markdown": [
       "\n",
       "A data.frame: 6 × 39\n",
       "\n",
       "| <!--/--> | renewal_type &lt;fct&gt; | renewed_count &lt;int&gt; | expiry_date &lt;fct&gt; | creation_date &lt;fct&gt; | status &lt;fct&gt; | domain_id &lt;int&gt; | domain &lt;fct&gt; | registrar &lt;fct&gt; | reseller &lt;fct&gt; | reseller_country &lt;fct&gt; | registrant_country &lt;fct&gt; | reg_period &lt;int&gt; | reg_revenue &lt;dbl&gt; | reg_arpt &lt;dbl&gt; | renew_mbg &lt;int&gt; | renewal_item_id &lt;int&gt; | renew_type &lt;fct&gt; | autorenew_type &lt;fct&gt; | renewal_status &lt;fct&gt; | renew_date &lt;fct&gt; | renew_arpt &lt;dbl&gt; | gibb_score &lt;dbl&gt; | pattern &lt;fct&gt; | pattern_domain_count &lt;int&gt; | day_domains &lt;int&gt; | sld_length &lt;int&gt; | sld_type &lt;fct&gt; | sld_type2 &lt;fct&gt; | tld &lt;fct&gt; | log_reg_arpt &lt;dbl&gt; | tld_registrar_index &lt;fct&gt; | pred_agg_glm_ALL &lt;dbl&gt; | pred_agg_rf_ALL &lt;dbl&gt; | pred_agg_glm &lt;dbl&gt; | pred_agg_rf &lt;dbl&gt; | pred_seg_glm_ALL &lt;dbl&gt; | pred_seg_rf_ALL &lt;dbl&gt; | pred_seg2_glm_ALL &lt;dbl&gt; | pred_seg2_rf_ALL &lt;dbl&gt; |\n",
       "|---|---|---|---|---|---|---|---|---|---|---|---|---|---|---|---|---|---|---|---|---|---|---|---|---|---|---|---|---|---|---|---|---|---|---|---|---|---|---|---|\n",
       "| 1 | FirstTime | 1 | 2019-11-08 | 2018-11-08 | Active | 82167309 | viralherbs.pw | Namecheap | Namecheap | United States | NA | 1 | 0.48 | 0.48 | 0 | 248714055 | auto-renewal | realized   | Renewed    | 2019-11-08 | 7.5 | 3.39 | viralhealh | 2 |  576 | 10 | l        | 10l        | pw | -0.7339692 | pwnamecheap | 0.029 | 0.026318534 | 0.030 | 0.027366883 | 0.049 | 0.02752752 | 0.02812901 | 0.024447474 |\n",
       "| 2 | FirstTime | 1 | 2019-08-05 | 2018-08-05 | Active | 73624034 | ww3n.pw       | Namecheap | Namecheap | United States | NA | 1 | 0.48 | 0.48 | 0 | 219523016 | auto-renewal | unrealized | Not Renewd | 2019-08-05 | 0.0 | 0.52 | ww3n       | 1 |  257 |  4 | ln       | 4ln        | pw | -0.7339692 | pwnamecheap | 0.024 | 0.023279615 | 0.024 | 0.026322543 | 0.062 | 0.02930435 | 0.07347816 | 0.025803420 |\n",
       "| 3 | FirstTime | 1 | 2019-08-11 | 2018-08-11 | Active | 74035654 | dpasseresp.pw | Namecheap | Namecheap | United States | NA | 1 | 0.48 | 0.48 | 0 | 221379481 | auto-renewal | unrealized | Not Renewd | 2019-08-11 | 7.0 | 4.65 | pssders    | 3 |  353 | 10 | l        | 10l        | pw | -0.7339692 | pwnamecheap | 0.035 | 0.006462295 | 0.035 | 0.006085356 | 0.066 | 0.01232116 | 0.03516253 | 0.006186874 |\n",
       "| 4 | FirstTime | 1 | 2019-07-22 | 2018-07-22 | Active | 72660399 | sexgirls.pw   | Namecheap | Namecheap | United States | NA | 1 | 0.48 | 0.48 | 0 | 216639126 | auto-renewal | unrealized | Not Renewd | 2019-07-22 | 7.0 | 1.75 | xgirl      | 2 |   80 |  8 | l        | 8l         | pw | -0.7339692 | pwnamecheap | 0.048 | 0.075690545 | 0.048 | 0.080058013 | 0.098 | 0.06522605 | 0.06273875 | 0.059190735 |\n",
       "| 5 | FirstTime | 1 | 2019-07-07 | 2018-07-07 | Active | 71566430 | yucief.pw     | Namecheap | Namecheap | United States | NA | 1 | 0.48 | 0.48 | 0 | 213669206 | auto-renewal | unrealized | Not Renewd | 2019-07-07 | 7.0 | 1.52 | cief       | 3 | 1147 |  6 | l        | 6l         | pw | -0.7339692 | pwnamecheap | 0.016 | 0.011064910 | 0.017 | 0.016695967 | 0.023 | 0.01608117 | 0.02273527 | 0.016375413 |\n",
       "| 6 | FirstTime | 1 | 2019-11-11 | 2018-11-11 | Active | 82528489 | bio-x-keto.pw | Namecheap | Namecheap | United States | NA | 1 | 0.48 | 0.48 | 0 | 250798210 | auto-renewal | unrealized | Not Renewd | 2019-11-11 | 7.5 | 2.16 | bio-x-keto | 1 |  687 | 10 | hyphen-l | 10hyphen-l | pw | -0.7339692 | pwnamecheap | 0.030 | 0.009262425 | 0.031 | 0.009853222 | 0.038 | 0.01404684 | 0.02211356 | 0.009443069 |\n",
       "\n"
      ],
      "text/plain": [
       "  renewal_type renewed_count expiry_date creation_date status domain_id\n",
       "1 FirstTime    1             2019-11-08  2018-11-08    Active 82167309 \n",
       "2 FirstTime    1             2019-08-05  2018-08-05    Active 73624034 \n",
       "3 FirstTime    1             2019-08-11  2018-08-11    Active 74035654 \n",
       "4 FirstTime    1             2019-07-22  2018-07-22    Active 72660399 \n",
       "5 FirstTime    1             2019-07-07  2018-07-07    Active 71566430 \n",
       "6 FirstTime    1             2019-11-11  2018-11-11    Active 82528489 \n",
       "  domain        registrar reseller  reseller_country registrant_country\n",
       "1 viralherbs.pw Namecheap Namecheap United States    NA                \n",
       "2 ww3n.pw       Namecheap Namecheap United States    NA                \n",
       "3 dpasseresp.pw Namecheap Namecheap United States    NA                \n",
       "4 sexgirls.pw   Namecheap Namecheap United States    NA                \n",
       "5 yucief.pw     Namecheap Namecheap United States    NA                \n",
       "6 bio-x-keto.pw Namecheap Namecheap United States    NA                \n",
       "  reg_period reg_revenue reg_arpt renew_mbg renewal_item_id renew_type  \n",
       "1 1          0.48        0.48     0         248714055       auto-renewal\n",
       "2 1          0.48        0.48     0         219523016       auto-renewal\n",
       "3 1          0.48        0.48     0         221379481       auto-renewal\n",
       "4 1          0.48        0.48     0         216639126       auto-renewal\n",
       "5 1          0.48        0.48     0         213669206       auto-renewal\n",
       "6 1          0.48        0.48     0         250798210       auto-renewal\n",
       "  autorenew_type renewal_status renew_date renew_arpt gibb_score pattern   \n",
       "1 realized       Renewed        2019-11-08 7.5        3.39       viralhealh\n",
       "2 unrealized     Not Renewd     2019-08-05 0.0        0.52       ww3n      \n",
       "3 unrealized     Not Renewd     2019-08-11 7.0        4.65       pssders   \n",
       "4 unrealized     Not Renewd     2019-07-22 7.0        1.75       xgirl     \n",
       "5 unrealized     Not Renewd     2019-07-07 7.0        1.52       cief      \n",
       "6 unrealized     Not Renewd     2019-11-11 7.5        2.16       bio-x-keto\n",
       "  pattern_domain_count day_domains sld_length sld_type sld_type2  tld\n",
       "1 2                     576        10         l        10l        pw \n",
       "2 1                     257         4         ln       4ln        pw \n",
       "3 3                     353        10         l        10l        pw \n",
       "4 2                      80         8         l        8l         pw \n",
       "5 3                    1147         6         l        6l         pw \n",
       "6 1                     687        10         hyphen-l 10hyphen-l pw \n",
       "  log_reg_arpt tld_registrar_index pred_agg_glm_ALL pred_agg_rf_ALL\n",
       "1 -0.7339692   pwnamecheap         0.029            0.026318534    \n",
       "2 -0.7339692   pwnamecheap         0.024            0.023279615    \n",
       "3 -0.7339692   pwnamecheap         0.035            0.006462295    \n",
       "4 -0.7339692   pwnamecheap         0.048            0.075690545    \n",
       "5 -0.7339692   pwnamecheap         0.016            0.011064910    \n",
       "6 -0.7339692   pwnamecheap         0.030            0.009262425    \n",
       "  pred_agg_glm pred_agg_rf pred_seg_glm_ALL pred_seg_rf_ALL pred_seg2_glm_ALL\n",
       "1 0.030        0.027366883 0.049            0.02752752      0.02812901       \n",
       "2 0.024        0.026322543 0.062            0.02930435      0.07347816       \n",
       "3 0.035        0.006085356 0.066            0.01232116      0.03516253       \n",
       "4 0.048        0.080058013 0.098            0.06522605      0.06273875       \n",
       "5 0.017        0.016695967 0.023            0.01608117      0.02273527       \n",
       "6 0.031        0.009853222 0.038            0.01404684      0.02211356       \n",
       "  pred_seg2_rf_ALL\n",
       "1 0.024447474     \n",
       "2 0.025803420     \n",
       "3 0.006186874     \n",
       "4 0.059190735     \n",
       "5 0.016375413     \n",
       "6 0.009443069     "
      ]
     },
     "metadata": {},
     "output_type": "display_data"
    }
   ],
   "source": [
    "# preds_df1 <- read.csv('../../data/output/models_20201104/preds.csv')\n",
    "# preds_df2 <- read.csv('../../data/output/models_20201104/preds/preds.csv')\n",
    "preds_df <- rbind(preds_df1,preds_df2)\n",
    "dim(preds_df)\n",
    "head(preds_df)"
   ]
  },
  {
   "cell_type": "markdown",
   "metadata": {},
   "source": [
    "## ensure correct nrow()"
   ]
  },
  {
   "cell_type": "code",
   "execution_count": 37,
   "metadata": {},
   "outputs": [
    {
     "data": {
      "text/html": [
       "<style>\n",
       ".list-inline {list-style: none; margin:0; padding: 0}\n",
       ".list-inline>li {display: inline-block}\n",
       ".list-inline>li:not(:last-child)::after {content: \"\\00b7\"; padding: 0 .5ex}\n",
       "</style>\n",
       "<ol class=list-inline><li>932347</li><li>31</li></ol>\n"
      ],
      "text/latex": [
       "\\begin{enumerate*}\n",
       "\\item 932347\n",
       "\\item 31\n",
       "\\end{enumerate*}\n"
      ],
      "text/markdown": [
       "1. 932347\n",
       "2. 31\n",
       "\n",
       "\n"
      ],
      "text/plain": [
       "[1] 932347     31"
      ]
     },
     "metadata": {},
     "output_type": "display_data"
    }
   ],
   "source": [
    "expiry_test_df %>% dim()"
   ]
  },
  {
   "cell_type": "markdown",
   "metadata": {},
   "source": [
    "# ASSESS overall model performance\n",
    "original code in 02_*"
   ]
  },
  {
   "cell_type": "code",
   "execution_count": 38,
   "metadata": {},
   "outputs": [
    {
     "data": {
      "text/html": [
       "<table>\n",
       "<caption>A data.frame: 6 × 39</caption>\n",
       "<thead>\n",
       "\t<tr><th></th><th scope=col>renewal_type</th><th scope=col>renewed_count</th><th scope=col>expiry_date</th><th scope=col>creation_date</th><th scope=col>status</th><th scope=col>domain_id</th><th scope=col>domain</th><th scope=col>registrar</th><th scope=col>reseller</th><th scope=col>reseller_country</th><th scope=col>registrant_country</th><th scope=col>reg_period</th><th scope=col>reg_revenue</th><th scope=col>reg_arpt</th><th scope=col>renew_mbg</th><th scope=col>renewal_item_id</th><th scope=col>renew_type</th><th scope=col>autorenew_type</th><th scope=col>renewal_status</th><th scope=col>renew_date</th><th scope=col>renew_arpt</th><th scope=col>gibb_score</th><th scope=col>pattern</th><th scope=col>pattern_domain_count</th><th scope=col>day_domains</th><th scope=col>sld_length</th><th scope=col>sld_type</th><th scope=col>sld_type2</th><th scope=col>tld</th><th scope=col>log_reg_arpt</th><th scope=col>tld_registrar_index</th><th scope=col>pred_agg_glm_ALL</th><th scope=col>pred_agg_rf_ALL</th><th scope=col>pred_agg_glm</th><th scope=col>pred_agg_rf</th><th scope=col>pred_seg_glm_ALL</th><th scope=col>pred_seg_rf_ALL</th><th scope=col>pred_seg2_glm_ALL</th><th scope=col>pred_seg2_rf_ALL</th></tr>\n",
       "\t<tr><th></th><th scope=col>&lt;fct&gt;</th><th scope=col>&lt;int&gt;</th><th scope=col>&lt;fct&gt;</th><th scope=col>&lt;fct&gt;</th><th scope=col>&lt;fct&gt;</th><th scope=col>&lt;int&gt;</th><th scope=col>&lt;fct&gt;</th><th scope=col>&lt;fct&gt;</th><th scope=col>&lt;fct&gt;</th><th scope=col>&lt;fct&gt;</th><th scope=col>&lt;fct&gt;</th><th scope=col>&lt;int&gt;</th><th scope=col>&lt;dbl&gt;</th><th scope=col>&lt;dbl&gt;</th><th scope=col>&lt;int&gt;</th><th scope=col>&lt;int&gt;</th><th scope=col>&lt;fct&gt;</th><th scope=col>&lt;fct&gt;</th><th scope=col>&lt;fct&gt;</th><th scope=col>&lt;fct&gt;</th><th scope=col>&lt;dbl&gt;</th><th scope=col>&lt;dbl&gt;</th><th scope=col>&lt;fct&gt;</th><th scope=col>&lt;int&gt;</th><th scope=col>&lt;int&gt;</th><th scope=col>&lt;int&gt;</th><th scope=col>&lt;fct&gt;</th><th scope=col>&lt;fct&gt;</th><th scope=col>&lt;fct&gt;</th><th scope=col>&lt;dbl&gt;</th><th scope=col>&lt;fct&gt;</th><th scope=col>&lt;dbl&gt;</th><th scope=col>&lt;dbl&gt;</th><th scope=col>&lt;dbl&gt;</th><th scope=col>&lt;dbl&gt;</th><th scope=col>&lt;dbl&gt;</th><th scope=col>&lt;dbl&gt;</th><th scope=col>&lt;dbl&gt;</th><th scope=col>&lt;dbl&gt;</th></tr>\n",
       "</thead>\n",
       "<tbody>\n",
       "\t<tr><th scope=row>1</th><td>FirstTime</td><td>1</td><td>2019-11-08</td><td>2018-11-08</td><td>Active</td><td>82167309</td><td>viralherbs.pw</td><td>Namecheap</td><td>Namecheap</td><td>United States</td><td>NA</td><td>1</td><td>0.48</td><td>0.48</td><td>0</td><td>248714055</td><td>auto-renewal</td><td>realized  </td><td>Renewed   </td><td>2019-11-08</td><td>7.5</td><td>3.39</td><td>viralhealh</td><td>2</td><td> 576</td><td>10</td><td>l       </td><td>10l       </td><td>pw</td><td>-0.7339692</td><td>pwnamecheap</td><td>0.029</td><td>0.026318534</td><td>0.030</td><td>0.027366883</td><td>0.049</td><td>0.02752752</td><td>0.02812901</td><td>0.024447474</td></tr>\n",
       "\t<tr><th scope=row>2</th><td>FirstTime</td><td>1</td><td>2019-08-05</td><td>2018-08-05</td><td>Active</td><td>73624034</td><td>ww3n.pw      </td><td>Namecheap</td><td>Namecheap</td><td>United States</td><td>NA</td><td>1</td><td>0.48</td><td>0.48</td><td>0</td><td>219523016</td><td>auto-renewal</td><td>unrealized</td><td>Not Renewd</td><td>2019-08-05</td><td>0.0</td><td>0.52</td><td>ww3n      </td><td>1</td><td> 257</td><td> 4</td><td>ln      </td><td>4ln       </td><td>pw</td><td>-0.7339692</td><td>pwnamecheap</td><td>0.024</td><td>0.023279615</td><td>0.024</td><td>0.026322543</td><td>0.062</td><td>0.02930435</td><td>0.07347816</td><td>0.025803420</td></tr>\n",
       "\t<tr><th scope=row>3</th><td>FirstTime</td><td>1</td><td>2019-08-11</td><td>2018-08-11</td><td>Active</td><td>74035654</td><td>dpasseresp.pw</td><td>Namecheap</td><td>Namecheap</td><td>United States</td><td>NA</td><td>1</td><td>0.48</td><td>0.48</td><td>0</td><td>221379481</td><td>auto-renewal</td><td>unrealized</td><td>Not Renewd</td><td>2019-08-11</td><td>7.0</td><td>4.65</td><td>pssders   </td><td>3</td><td> 353</td><td>10</td><td>l       </td><td>10l       </td><td>pw</td><td>-0.7339692</td><td>pwnamecheap</td><td>0.035</td><td>0.006462295</td><td>0.035</td><td>0.006085356</td><td>0.066</td><td>0.01232116</td><td>0.03516253</td><td>0.006186874</td></tr>\n",
       "\t<tr><th scope=row>4</th><td>FirstTime</td><td>1</td><td>2019-07-22</td><td>2018-07-22</td><td>Active</td><td>72660399</td><td>sexgirls.pw  </td><td>Namecheap</td><td>Namecheap</td><td>United States</td><td>NA</td><td>1</td><td>0.48</td><td>0.48</td><td>0</td><td>216639126</td><td>auto-renewal</td><td>unrealized</td><td>Not Renewd</td><td>2019-07-22</td><td>7.0</td><td>1.75</td><td>xgirl     </td><td>2</td><td>  80</td><td> 8</td><td>l       </td><td>8l        </td><td>pw</td><td>-0.7339692</td><td>pwnamecheap</td><td>0.048</td><td>0.075690545</td><td>0.048</td><td>0.080058013</td><td>0.098</td><td>0.06522605</td><td>0.06273875</td><td>0.059190735</td></tr>\n",
       "\t<tr><th scope=row>5</th><td>FirstTime</td><td>1</td><td>2019-07-07</td><td>2018-07-07</td><td>Active</td><td>71566430</td><td>yucief.pw    </td><td>Namecheap</td><td>Namecheap</td><td>United States</td><td>NA</td><td>1</td><td>0.48</td><td>0.48</td><td>0</td><td>213669206</td><td>auto-renewal</td><td>unrealized</td><td>Not Renewd</td><td>2019-07-07</td><td>7.0</td><td>1.52</td><td>cief      </td><td>3</td><td>1147</td><td> 6</td><td>l       </td><td>6l        </td><td>pw</td><td>-0.7339692</td><td>pwnamecheap</td><td>0.016</td><td>0.011064910</td><td>0.017</td><td>0.016695967</td><td>0.023</td><td>0.01608117</td><td>0.02273527</td><td>0.016375413</td></tr>\n",
       "\t<tr><th scope=row>6</th><td>FirstTime</td><td>1</td><td>2019-11-11</td><td>2018-11-11</td><td>Active</td><td>82528489</td><td>bio-x-keto.pw</td><td>Namecheap</td><td>Namecheap</td><td>United States</td><td>NA</td><td>1</td><td>0.48</td><td>0.48</td><td>0</td><td>250798210</td><td>auto-renewal</td><td>unrealized</td><td>Not Renewd</td><td>2019-11-11</td><td>7.5</td><td>2.16</td><td>bio-x-keto</td><td>1</td><td> 687</td><td>10</td><td>hyphen-l</td><td>10hyphen-l</td><td>pw</td><td>-0.7339692</td><td>pwnamecheap</td><td>0.030</td><td>0.009262425</td><td>0.031</td><td>0.009853222</td><td>0.038</td><td>0.01404684</td><td>0.02211356</td><td>0.009443069</td></tr>\n",
       "</tbody>\n",
       "</table>\n"
      ],
      "text/latex": [
       "A data.frame: 6 × 39\n",
       "\\begin{tabular}{r|lllllllllllllllllllllllllllllllllllllll}\n",
       "  & renewal\\_type & renewed\\_count & expiry\\_date & creation\\_date & status & domain\\_id & domain & registrar & reseller & reseller\\_country & registrant\\_country & reg\\_period & reg\\_revenue & reg\\_arpt & renew\\_mbg & renewal\\_item\\_id & renew\\_type & autorenew\\_type & renewal\\_status & renew\\_date & renew\\_arpt & gibb\\_score & pattern & pattern\\_domain\\_count & day\\_domains & sld\\_length & sld\\_type & sld\\_type2 & tld & log\\_reg\\_arpt & tld\\_registrar\\_index & pred\\_agg\\_glm\\_ALL & pred\\_agg\\_rf\\_ALL & pred\\_agg\\_glm & pred\\_agg\\_rf & pred\\_seg\\_glm\\_ALL & pred\\_seg\\_rf\\_ALL & pred\\_seg2\\_glm\\_ALL & pred\\_seg2\\_rf\\_ALL\\\\\n",
       "  & <fct> & <int> & <fct> & <fct> & <fct> & <int> & <fct> & <fct> & <fct> & <fct> & <fct> & <int> & <dbl> & <dbl> & <int> & <int> & <fct> & <fct> & <fct> & <fct> & <dbl> & <dbl> & <fct> & <int> & <int> & <int> & <fct> & <fct> & <fct> & <dbl> & <fct> & <dbl> & <dbl> & <dbl> & <dbl> & <dbl> & <dbl> & <dbl> & <dbl>\\\\\n",
       "\\hline\n",
       "\t1 & FirstTime & 1 & 2019-11-08 & 2018-11-08 & Active & 82167309 & viralherbs.pw & Namecheap & Namecheap & United States & NA & 1 & 0.48 & 0.48 & 0 & 248714055 & auto-renewal & realized   & Renewed    & 2019-11-08 & 7.5 & 3.39 & viralhealh & 2 &  576 & 10 & l        & 10l        & pw & -0.7339692 & pwnamecheap & 0.029 & 0.026318534 & 0.030 & 0.027366883 & 0.049 & 0.02752752 & 0.02812901 & 0.024447474\\\\\n",
       "\t2 & FirstTime & 1 & 2019-08-05 & 2018-08-05 & Active & 73624034 & ww3n.pw       & Namecheap & Namecheap & United States & NA & 1 & 0.48 & 0.48 & 0 & 219523016 & auto-renewal & unrealized & Not Renewd & 2019-08-05 & 0.0 & 0.52 & ww3n       & 1 &  257 &  4 & ln       & 4ln        & pw & -0.7339692 & pwnamecheap & 0.024 & 0.023279615 & 0.024 & 0.026322543 & 0.062 & 0.02930435 & 0.07347816 & 0.025803420\\\\\n",
       "\t3 & FirstTime & 1 & 2019-08-11 & 2018-08-11 & Active & 74035654 & dpasseresp.pw & Namecheap & Namecheap & United States & NA & 1 & 0.48 & 0.48 & 0 & 221379481 & auto-renewal & unrealized & Not Renewd & 2019-08-11 & 7.0 & 4.65 & pssders    & 3 &  353 & 10 & l        & 10l        & pw & -0.7339692 & pwnamecheap & 0.035 & 0.006462295 & 0.035 & 0.006085356 & 0.066 & 0.01232116 & 0.03516253 & 0.006186874\\\\\n",
       "\t4 & FirstTime & 1 & 2019-07-22 & 2018-07-22 & Active & 72660399 & sexgirls.pw   & Namecheap & Namecheap & United States & NA & 1 & 0.48 & 0.48 & 0 & 216639126 & auto-renewal & unrealized & Not Renewd & 2019-07-22 & 7.0 & 1.75 & xgirl      & 2 &   80 &  8 & l        & 8l         & pw & -0.7339692 & pwnamecheap & 0.048 & 0.075690545 & 0.048 & 0.080058013 & 0.098 & 0.06522605 & 0.06273875 & 0.059190735\\\\\n",
       "\t5 & FirstTime & 1 & 2019-07-07 & 2018-07-07 & Active & 71566430 & yucief.pw     & Namecheap & Namecheap & United States & NA & 1 & 0.48 & 0.48 & 0 & 213669206 & auto-renewal & unrealized & Not Renewd & 2019-07-07 & 7.0 & 1.52 & cief       & 3 & 1147 &  6 & l        & 6l         & pw & -0.7339692 & pwnamecheap & 0.016 & 0.011064910 & 0.017 & 0.016695967 & 0.023 & 0.01608117 & 0.02273527 & 0.016375413\\\\\n",
       "\t6 & FirstTime & 1 & 2019-11-11 & 2018-11-11 & Active & 82528489 & bio-x-keto.pw & Namecheap & Namecheap & United States & NA & 1 & 0.48 & 0.48 & 0 & 250798210 & auto-renewal & unrealized & Not Renewd & 2019-11-11 & 7.5 & 2.16 & bio-x-keto & 1 &  687 & 10 & hyphen-l & 10hyphen-l & pw & -0.7339692 & pwnamecheap & 0.030 & 0.009262425 & 0.031 & 0.009853222 & 0.038 & 0.01404684 & 0.02211356 & 0.009443069\\\\\n",
       "\\end{tabular}\n"
      ],
      "text/markdown": [
       "\n",
       "A data.frame: 6 × 39\n",
       "\n",
       "| <!--/--> | renewal_type &lt;fct&gt; | renewed_count &lt;int&gt; | expiry_date &lt;fct&gt; | creation_date &lt;fct&gt; | status &lt;fct&gt; | domain_id &lt;int&gt; | domain &lt;fct&gt; | registrar &lt;fct&gt; | reseller &lt;fct&gt; | reseller_country &lt;fct&gt; | registrant_country &lt;fct&gt; | reg_period &lt;int&gt; | reg_revenue &lt;dbl&gt; | reg_arpt &lt;dbl&gt; | renew_mbg &lt;int&gt; | renewal_item_id &lt;int&gt; | renew_type &lt;fct&gt; | autorenew_type &lt;fct&gt; | renewal_status &lt;fct&gt; | renew_date &lt;fct&gt; | renew_arpt &lt;dbl&gt; | gibb_score &lt;dbl&gt; | pattern &lt;fct&gt; | pattern_domain_count &lt;int&gt; | day_domains &lt;int&gt; | sld_length &lt;int&gt; | sld_type &lt;fct&gt; | sld_type2 &lt;fct&gt; | tld &lt;fct&gt; | log_reg_arpt &lt;dbl&gt; | tld_registrar_index &lt;fct&gt; | pred_agg_glm_ALL &lt;dbl&gt; | pred_agg_rf_ALL &lt;dbl&gt; | pred_agg_glm &lt;dbl&gt; | pred_agg_rf &lt;dbl&gt; | pred_seg_glm_ALL &lt;dbl&gt; | pred_seg_rf_ALL &lt;dbl&gt; | pred_seg2_glm_ALL &lt;dbl&gt; | pred_seg2_rf_ALL &lt;dbl&gt; |\n",
       "|---|---|---|---|---|---|---|---|---|---|---|---|---|---|---|---|---|---|---|---|---|---|---|---|---|---|---|---|---|---|---|---|---|---|---|---|---|---|---|---|\n",
       "| 1 | FirstTime | 1 | 2019-11-08 | 2018-11-08 | Active | 82167309 | viralherbs.pw | Namecheap | Namecheap | United States | NA | 1 | 0.48 | 0.48 | 0 | 248714055 | auto-renewal | realized   | Renewed    | 2019-11-08 | 7.5 | 3.39 | viralhealh | 2 |  576 | 10 | l        | 10l        | pw | -0.7339692 | pwnamecheap | 0.029 | 0.026318534 | 0.030 | 0.027366883 | 0.049 | 0.02752752 | 0.02812901 | 0.024447474 |\n",
       "| 2 | FirstTime | 1 | 2019-08-05 | 2018-08-05 | Active | 73624034 | ww3n.pw       | Namecheap | Namecheap | United States | NA | 1 | 0.48 | 0.48 | 0 | 219523016 | auto-renewal | unrealized | Not Renewd | 2019-08-05 | 0.0 | 0.52 | ww3n       | 1 |  257 |  4 | ln       | 4ln        | pw | -0.7339692 | pwnamecheap | 0.024 | 0.023279615 | 0.024 | 0.026322543 | 0.062 | 0.02930435 | 0.07347816 | 0.025803420 |\n",
       "| 3 | FirstTime | 1 | 2019-08-11 | 2018-08-11 | Active | 74035654 | dpasseresp.pw | Namecheap | Namecheap | United States | NA | 1 | 0.48 | 0.48 | 0 | 221379481 | auto-renewal | unrealized | Not Renewd | 2019-08-11 | 7.0 | 4.65 | pssders    | 3 |  353 | 10 | l        | 10l        | pw | -0.7339692 | pwnamecheap | 0.035 | 0.006462295 | 0.035 | 0.006085356 | 0.066 | 0.01232116 | 0.03516253 | 0.006186874 |\n",
       "| 4 | FirstTime | 1 | 2019-07-22 | 2018-07-22 | Active | 72660399 | sexgirls.pw   | Namecheap | Namecheap | United States | NA | 1 | 0.48 | 0.48 | 0 | 216639126 | auto-renewal | unrealized | Not Renewd | 2019-07-22 | 7.0 | 1.75 | xgirl      | 2 |   80 |  8 | l        | 8l         | pw | -0.7339692 | pwnamecheap | 0.048 | 0.075690545 | 0.048 | 0.080058013 | 0.098 | 0.06522605 | 0.06273875 | 0.059190735 |\n",
       "| 5 | FirstTime | 1 | 2019-07-07 | 2018-07-07 | Active | 71566430 | yucief.pw     | Namecheap | Namecheap | United States | NA | 1 | 0.48 | 0.48 | 0 | 213669206 | auto-renewal | unrealized | Not Renewd | 2019-07-07 | 7.0 | 1.52 | cief       | 3 | 1147 |  6 | l        | 6l         | pw | -0.7339692 | pwnamecheap | 0.016 | 0.011064910 | 0.017 | 0.016695967 | 0.023 | 0.01608117 | 0.02273527 | 0.016375413 |\n",
       "| 6 | FirstTime | 1 | 2019-11-11 | 2018-11-11 | Active | 82528489 | bio-x-keto.pw | Namecheap | Namecheap | United States | NA | 1 | 0.48 | 0.48 | 0 | 250798210 | auto-renewal | unrealized | Not Renewd | 2019-11-11 | 7.5 | 2.16 | bio-x-keto | 1 |  687 | 10 | hyphen-l | 10hyphen-l | pw | -0.7339692 | pwnamecheap | 0.030 | 0.009262425 | 0.031 | 0.009853222 | 0.038 | 0.01404684 | 0.02211356 | 0.009443069 |\n",
       "\n"
      ],
      "text/plain": [
       "  renewal_type renewed_count expiry_date creation_date status domain_id\n",
       "1 FirstTime    1             2019-11-08  2018-11-08    Active 82167309 \n",
       "2 FirstTime    1             2019-08-05  2018-08-05    Active 73624034 \n",
       "3 FirstTime    1             2019-08-11  2018-08-11    Active 74035654 \n",
       "4 FirstTime    1             2019-07-22  2018-07-22    Active 72660399 \n",
       "5 FirstTime    1             2019-07-07  2018-07-07    Active 71566430 \n",
       "6 FirstTime    1             2019-11-11  2018-11-11    Active 82528489 \n",
       "  domain        registrar reseller  reseller_country registrant_country\n",
       "1 viralherbs.pw Namecheap Namecheap United States    NA                \n",
       "2 ww3n.pw       Namecheap Namecheap United States    NA                \n",
       "3 dpasseresp.pw Namecheap Namecheap United States    NA                \n",
       "4 sexgirls.pw   Namecheap Namecheap United States    NA                \n",
       "5 yucief.pw     Namecheap Namecheap United States    NA                \n",
       "6 bio-x-keto.pw Namecheap Namecheap United States    NA                \n",
       "  reg_period reg_revenue reg_arpt renew_mbg renewal_item_id renew_type  \n",
       "1 1          0.48        0.48     0         248714055       auto-renewal\n",
       "2 1          0.48        0.48     0         219523016       auto-renewal\n",
       "3 1          0.48        0.48     0         221379481       auto-renewal\n",
       "4 1          0.48        0.48     0         216639126       auto-renewal\n",
       "5 1          0.48        0.48     0         213669206       auto-renewal\n",
       "6 1          0.48        0.48     0         250798210       auto-renewal\n",
       "  autorenew_type renewal_status renew_date renew_arpt gibb_score pattern   \n",
       "1 realized       Renewed        2019-11-08 7.5        3.39       viralhealh\n",
       "2 unrealized     Not Renewd     2019-08-05 0.0        0.52       ww3n      \n",
       "3 unrealized     Not Renewd     2019-08-11 7.0        4.65       pssders   \n",
       "4 unrealized     Not Renewd     2019-07-22 7.0        1.75       xgirl     \n",
       "5 unrealized     Not Renewd     2019-07-07 7.0        1.52       cief      \n",
       "6 unrealized     Not Renewd     2019-11-11 7.5        2.16       bio-x-keto\n",
       "  pattern_domain_count day_domains sld_length sld_type sld_type2  tld\n",
       "1 2                     576        10         l        10l        pw \n",
       "2 1                     257         4         ln       4ln        pw \n",
       "3 3                     353        10         l        10l        pw \n",
       "4 2                      80         8         l        8l         pw \n",
       "5 3                    1147         6         l        6l         pw \n",
       "6 1                     687        10         hyphen-l 10hyphen-l pw \n",
       "  log_reg_arpt tld_registrar_index pred_agg_glm_ALL pred_agg_rf_ALL\n",
       "1 -0.7339692   pwnamecheap         0.029            0.026318534    \n",
       "2 -0.7339692   pwnamecheap         0.024            0.023279615    \n",
       "3 -0.7339692   pwnamecheap         0.035            0.006462295    \n",
       "4 -0.7339692   pwnamecheap         0.048            0.075690545    \n",
       "5 -0.7339692   pwnamecheap         0.016            0.011064910    \n",
       "6 -0.7339692   pwnamecheap         0.030            0.009262425    \n",
       "  pred_agg_glm pred_agg_rf pred_seg_glm_ALL pred_seg_rf_ALL pred_seg2_glm_ALL\n",
       "1 0.030        0.027366883 0.049            0.02752752      0.02812901       \n",
       "2 0.024        0.026322543 0.062            0.02930435      0.07347816       \n",
       "3 0.035        0.006085356 0.066            0.01232116      0.03516253       \n",
       "4 0.048        0.080058013 0.098            0.06522605      0.06273875       \n",
       "5 0.017        0.016695967 0.023            0.01608117      0.02273527       \n",
       "6 0.031        0.009853222 0.038            0.01404684      0.02211356       \n",
       "  pred_seg2_rf_ALL\n",
       "1 0.024447474     \n",
       "2 0.025803420     \n",
       "3 0.006186874     \n",
       "4 0.059190735     \n",
       "5 0.016375413     \n",
       "6 0.009443069     "
      ]
     },
     "metadata": {},
     "output_type": "display_data"
    }
   ],
   "source": [
    "head(preds_df)"
   ]
  },
  {
   "cell_type": "code",
   "execution_count": 39,
   "metadata": {},
   "outputs": [
    {
     "data": {
      "text/html": [
       "<table>\n",
       "<caption>A data.frame: 6 × 39</caption>\n",
       "<thead>\n",
       "\t<tr><th></th><th scope=col>renewal_type</th><th scope=col>renewed_count</th><th scope=col>expiry_date</th><th scope=col>creation_date</th><th scope=col>status</th><th scope=col>domain_id</th><th scope=col>domain</th><th scope=col>registrar</th><th scope=col>reseller</th><th scope=col>reseller_country</th><th scope=col>registrant_country</th><th scope=col>reg_period</th><th scope=col>reg_revenue</th><th scope=col>reg_arpt</th><th scope=col>renew_mbg</th><th scope=col>renewal_item_id</th><th scope=col>renew_type</th><th scope=col>autorenew_type</th><th scope=col>renewal_status</th><th scope=col>renew_date</th><th scope=col>renew_arpt</th><th scope=col>gibb_score</th><th scope=col>pattern</th><th scope=col>pattern_domain_count</th><th scope=col>day_domains</th><th scope=col>sld_length</th><th scope=col>sld_type</th><th scope=col>sld_type2</th><th scope=col>tld</th><th scope=col>log_reg_arpt</th><th scope=col>tld_registrar_index</th><th scope=col>pred_agg_glm_ALL</th><th scope=col>pred_agg_rf_ALL</th><th scope=col>pred_agg_glm</th><th scope=col>pred_agg_rf</th><th scope=col>pred_seg_glm_ALL</th><th scope=col>pred_seg_rf_ALL</th><th scope=col>pred_seg2_glm_ALL</th><th scope=col>pred_seg2_rf_ALL</th></tr>\n",
       "\t<tr><th></th><th scope=col>&lt;fct&gt;</th><th scope=col>&lt;int&gt;</th><th scope=col>&lt;fct&gt;</th><th scope=col>&lt;fct&gt;</th><th scope=col>&lt;fct&gt;</th><th scope=col>&lt;int&gt;</th><th scope=col>&lt;fct&gt;</th><th scope=col>&lt;fct&gt;</th><th scope=col>&lt;fct&gt;</th><th scope=col>&lt;fct&gt;</th><th scope=col>&lt;fct&gt;</th><th scope=col>&lt;int&gt;</th><th scope=col>&lt;dbl&gt;</th><th scope=col>&lt;dbl&gt;</th><th scope=col>&lt;int&gt;</th><th scope=col>&lt;int&gt;</th><th scope=col>&lt;fct&gt;</th><th scope=col>&lt;fct&gt;</th><th scope=col>&lt;fct&gt;</th><th scope=col>&lt;fct&gt;</th><th scope=col>&lt;dbl&gt;</th><th scope=col>&lt;dbl&gt;</th><th scope=col>&lt;fct&gt;</th><th scope=col>&lt;int&gt;</th><th scope=col>&lt;int&gt;</th><th scope=col>&lt;int&gt;</th><th scope=col>&lt;fct&gt;</th><th scope=col>&lt;fct&gt;</th><th scope=col>&lt;fct&gt;</th><th scope=col>&lt;dbl&gt;</th><th scope=col>&lt;fct&gt;</th><th scope=col>&lt;dbl&gt;</th><th scope=col>&lt;dbl&gt;</th><th scope=col>&lt;dbl&gt;</th><th scope=col>&lt;dbl&gt;</th><th scope=col>&lt;dbl&gt;</th><th scope=col>&lt;dbl&gt;</th><th scope=col>&lt;dbl&gt;</th><th scope=col>&lt;dbl&gt;</th></tr>\n",
       "</thead>\n",
       "<tbody>\n",
       "\t<tr><th scope=row>932342</th><td>FirstTime</td><td>1</td><td>2020-02-11</td><td>2019-02-11</td><td>Active</td><td>93333378</td><td>dyham.press          </td><td>Webnames      </td><td>Webnames      </td><td>Canada </td><td>NA</td><td>1</td><td>49</td><td>49</td><td>0</td><td>290654076</td><td>auto-renewal</td><td>unrealized</td><td>Not Renewd</td><td>2020-02-11</td><td>49</td><td> 1.27</td><td>dyham          </td><td>1</td><td>1</td><td> 5</td><td>l</td><td>5l </td><td>press</td><td>3.891820</td><td>presswebnames      </td><td>0.265</td><td>0.3899154</td><td>   NA</td><td>0.7706898</td><td>0.440</td><td>0.3502572</td><td>NA</td><td>NA</td></tr>\n",
       "\t<tr><th scope=row>932343</th><td>FirstTime</td><td>1</td><td>2019-07-05</td><td>2018-07-05</td><td>Active</td><td>71440360</td><td>mellanox.store       </td><td>Domain The Net</td><td>Domain The Net</td><td>Israel </td><td>NA</td><td>1</td><td>40</td><td>40</td><td>0</td><td>200279144</td><td>renewal     </td><td>NA        </td><td>Renewed   </td><td>2019-05-06</td><td>40</td><td> 5.54</td><td>mellanox       </td><td>1</td><td>1</td><td> 8</td><td>l</td><td>8l </td><td>store</td><td>3.688879</td><td>storedomain the net</td><td>0.766</td><td>0.4828190</td><td>   NA</td><td>0.8681941</td><td>0.977</td><td>0.8906595</td><td>NA</td><td>NA</td></tr>\n",
       "\t<tr><th scope=row>932344</th><td>FirstTime</td><td>1</td><td>2019-11-07</td><td>2018-11-07</td><td>Active</td><td>82102184</td><td><span style=white-space:pre-wrap>ceat.press           </span></td><td><span style=white-space:pre-wrap>1&amp;1 Internet  </span></td><td><span style=white-space:pre-wrap>Arsys         </span></td><td><span style=white-space:pre-wrap>Spain  </span></td><td>NA</td><td>1</td><td>49</td><td>49</td><td>0</td><td>248366815</td><td>auto-renewal</td><td><span style=white-space:pre-wrap>realized  </span></td><td><span style=white-space:pre-wrap>Renewed   </span></td><td>2019-11-07</td><td>49</td><td>10.44</td><td><span style=white-space:pre-wrap>ceat           </span></td><td>1</td><td>1</td><td> 4</td><td>l</td><td>4l </td><td>press</td><td>3.891820</td><td><span style=white-space:pre-wrap>pressarsys         </span></td><td>0.489</td><td>0.6627434</td><td><span style=white-space:pre-wrap>   NA</span></td><td>0.8305129</td><td>0.541</td><td>0.7518784</td><td>NA</td><td>NA</td></tr>\n",
       "\t<tr><th scope=row>932345</th><td>FirstTime</td><td>1</td><td>2019-07-05</td><td>2018-07-05</td><td>Active</td><td>71455605</td><td>crt.host             </td><td>PDR Ltd       </td><td>Redehost      </td><td>Brazil </td><td>NA</td><td>1</td><td> 3</td><td> 3</td><td>0</td><td>213418891</td><td>auto-renewal</td><td>unrealized</td><td>Not Renewd</td><td>2019-07-05</td><td>65</td><td> 3.67</td><td>crt            </td><td>1</td><td>1</td><td> 3</td><td>l</td><td>3l </td><td>host </td><td>1.098612</td><td>hostredehost       </td><td>0.091</td><td>0.3858803</td><td>   NA</td><td>0.6396910</td><td>0.217</td><td>0.4518804</td><td>NA</td><td>NA</td></tr>\n",
       "\t<tr><th scope=row>932346</th><td>FirstTime</td><td>1</td><td>2019-07-01</td><td>2018-07-01</td><td>Active</td><td>71238585</td><td>musictechnology.press</td><td>Key-Systems   </td><td>Home.pl       </td><td>Poland </td><td>NA</td><td>1</td><td>49</td><td>49</td><td>0</td><td>211150046</td><td>renewal     </td><td>NA        </td><td>Renewed   </td><td>2019-06-24</td><td>49</td><td> 3.29</td><td>musictechnology</td><td>1</td><td>1</td><td>15</td><td>l</td><td>15l</td><td>press</td><td>3.891820</td><td>presshome.pl       </td><td>0.072</td><td>0.5678307</td><td>0.047</td><td>0.2043780</td><td>0.363</td><td>0.7713502</td><td>NA</td><td>NA</td></tr>\n",
       "\t<tr><th scope=row>932347</th><td>FirstTime</td><td>1</td><td>2019-08-28</td><td>2018-08-28</td><td>Active</td><td>75267554</td><td>machineseeker.site   </td><td>Gransy        </td><td>Webonic       </td><td>Hungary</td><td>NA</td><td>1</td><td>20</td><td>20</td><td>0</td><td>222082036</td><td>renewal     </td><td>NA        </td><td>Renewed   </td><td>2019-08-14</td><td>20</td><td> 7.37</td><td>machineseeker  </td><td>1</td><td>1</td><td>13</td><td>l</td><td>13l</td><td>site </td><td>2.995732</td><td>sitewebonic        </td><td>0.634</td><td>0.8043772</td><td>   NA</td><td>0.5871087</td><td>1.000</td><td>0.7610000</td><td>NA</td><td>NA</td></tr>\n",
       "</tbody>\n",
       "</table>\n"
      ],
      "text/latex": [
       "A data.frame: 6 × 39\n",
       "\\begin{tabular}{r|lllllllllllllllllllllllllllllllllllllll}\n",
       "  & renewal\\_type & renewed\\_count & expiry\\_date & creation\\_date & status & domain\\_id & domain & registrar & reseller & reseller\\_country & registrant\\_country & reg\\_period & reg\\_revenue & reg\\_arpt & renew\\_mbg & renewal\\_item\\_id & renew\\_type & autorenew\\_type & renewal\\_status & renew\\_date & renew\\_arpt & gibb\\_score & pattern & pattern\\_domain\\_count & day\\_domains & sld\\_length & sld\\_type & sld\\_type2 & tld & log\\_reg\\_arpt & tld\\_registrar\\_index & pred\\_agg\\_glm\\_ALL & pred\\_agg\\_rf\\_ALL & pred\\_agg\\_glm & pred\\_agg\\_rf & pred\\_seg\\_glm\\_ALL & pred\\_seg\\_rf\\_ALL & pred\\_seg2\\_glm\\_ALL & pred\\_seg2\\_rf\\_ALL\\\\\n",
       "  & <fct> & <int> & <fct> & <fct> & <fct> & <int> & <fct> & <fct> & <fct> & <fct> & <fct> & <int> & <dbl> & <dbl> & <int> & <int> & <fct> & <fct> & <fct> & <fct> & <dbl> & <dbl> & <fct> & <int> & <int> & <int> & <fct> & <fct> & <fct> & <dbl> & <fct> & <dbl> & <dbl> & <dbl> & <dbl> & <dbl> & <dbl> & <dbl> & <dbl>\\\\\n",
       "\\hline\n",
       "\t932342 & FirstTime & 1 & 2020-02-11 & 2019-02-11 & Active & 93333378 & dyham.press           & Webnames       & Webnames       & Canada  & NA & 1 & 49 & 49 & 0 & 290654076 & auto-renewal & unrealized & Not Renewd & 2020-02-11 & 49 &  1.27 & dyham           & 1 & 1 &  5 & l & 5l  & press & 3.891820 & presswebnames       & 0.265 & 0.3899154 &    NA & 0.7706898 & 0.440 & 0.3502572 & NA & NA\\\\\n",
       "\t932343 & FirstTime & 1 & 2019-07-05 & 2018-07-05 & Active & 71440360 & mellanox.store        & Domain The Net & Domain The Net & Israel  & NA & 1 & 40 & 40 & 0 & 200279144 & renewal      & NA         & Renewed    & 2019-05-06 & 40 &  5.54 & mellanox        & 1 & 1 &  8 & l & 8l  & store & 3.688879 & storedomain the net & 0.766 & 0.4828190 &    NA & 0.8681941 & 0.977 & 0.8906595 & NA & NA\\\\\n",
       "\t932344 & FirstTime & 1 & 2019-11-07 & 2018-11-07 & Active & 82102184 & ceat.press            & 1\\&1 Internet   & Arsys          & Spain   & NA & 1 & 49 & 49 & 0 & 248366815 & auto-renewal & realized   & Renewed    & 2019-11-07 & 49 & 10.44 & ceat            & 1 & 1 &  4 & l & 4l  & press & 3.891820 & pressarsys          & 0.489 & 0.6627434 &    NA & 0.8305129 & 0.541 & 0.7518784 & NA & NA\\\\\n",
       "\t932345 & FirstTime & 1 & 2019-07-05 & 2018-07-05 & Active & 71455605 & crt.host              & PDR Ltd        & Redehost       & Brazil  & NA & 1 &  3 &  3 & 0 & 213418891 & auto-renewal & unrealized & Not Renewd & 2019-07-05 & 65 &  3.67 & crt             & 1 & 1 &  3 & l & 3l  & host  & 1.098612 & hostredehost        & 0.091 & 0.3858803 &    NA & 0.6396910 & 0.217 & 0.4518804 & NA & NA\\\\\n",
       "\t932346 & FirstTime & 1 & 2019-07-01 & 2018-07-01 & Active & 71238585 & musictechnology.press & Key-Systems    & Home.pl        & Poland  & NA & 1 & 49 & 49 & 0 & 211150046 & renewal      & NA         & Renewed    & 2019-06-24 & 49 &  3.29 & musictechnology & 1 & 1 & 15 & l & 15l & press & 3.891820 & presshome.pl        & 0.072 & 0.5678307 & 0.047 & 0.2043780 & 0.363 & 0.7713502 & NA & NA\\\\\n",
       "\t932347 & FirstTime & 1 & 2019-08-28 & 2018-08-28 & Active & 75267554 & machineseeker.site    & Gransy         & Webonic        & Hungary & NA & 1 & 20 & 20 & 0 & 222082036 & renewal      & NA         & Renewed    & 2019-08-14 & 20 &  7.37 & machineseeker   & 1 & 1 & 13 & l & 13l & site  & 2.995732 & sitewebonic         & 0.634 & 0.8043772 &    NA & 0.5871087 & 1.000 & 0.7610000 & NA & NA\\\\\n",
       "\\end{tabular}\n"
      ],
      "text/markdown": [
       "\n",
       "A data.frame: 6 × 39\n",
       "\n",
       "| <!--/--> | renewal_type &lt;fct&gt; | renewed_count &lt;int&gt; | expiry_date &lt;fct&gt; | creation_date &lt;fct&gt; | status &lt;fct&gt; | domain_id &lt;int&gt; | domain &lt;fct&gt; | registrar &lt;fct&gt; | reseller &lt;fct&gt; | reseller_country &lt;fct&gt; | registrant_country &lt;fct&gt; | reg_period &lt;int&gt; | reg_revenue &lt;dbl&gt; | reg_arpt &lt;dbl&gt; | renew_mbg &lt;int&gt; | renewal_item_id &lt;int&gt; | renew_type &lt;fct&gt; | autorenew_type &lt;fct&gt; | renewal_status &lt;fct&gt; | renew_date &lt;fct&gt; | renew_arpt &lt;dbl&gt; | gibb_score &lt;dbl&gt; | pattern &lt;fct&gt; | pattern_domain_count &lt;int&gt; | day_domains &lt;int&gt; | sld_length &lt;int&gt; | sld_type &lt;fct&gt; | sld_type2 &lt;fct&gt; | tld &lt;fct&gt; | log_reg_arpt &lt;dbl&gt; | tld_registrar_index &lt;fct&gt; | pred_agg_glm_ALL &lt;dbl&gt; | pred_agg_rf_ALL &lt;dbl&gt; | pred_agg_glm &lt;dbl&gt; | pred_agg_rf &lt;dbl&gt; | pred_seg_glm_ALL &lt;dbl&gt; | pred_seg_rf_ALL &lt;dbl&gt; | pred_seg2_glm_ALL &lt;dbl&gt; | pred_seg2_rf_ALL &lt;dbl&gt; |\n",
       "|---|---|---|---|---|---|---|---|---|---|---|---|---|---|---|---|---|---|---|---|---|---|---|---|---|---|---|---|---|---|---|---|---|---|---|---|---|---|---|---|\n",
       "| 932342 | FirstTime | 1 | 2020-02-11 | 2019-02-11 | Active | 93333378 | dyham.press           | Webnames       | Webnames       | Canada  | NA | 1 | 49 | 49 | 0 | 290654076 | auto-renewal | unrealized | Not Renewd | 2020-02-11 | 49 |  1.27 | dyham           | 1 | 1 |  5 | l | 5l  | press | 3.891820 | presswebnames       | 0.265 | 0.3899154 |    NA | 0.7706898 | 0.440 | 0.3502572 | NA | NA |\n",
       "| 932343 | FirstTime | 1 | 2019-07-05 | 2018-07-05 | Active | 71440360 | mellanox.store        | Domain The Net | Domain The Net | Israel  | NA | 1 | 40 | 40 | 0 | 200279144 | renewal      | NA         | Renewed    | 2019-05-06 | 40 |  5.54 | mellanox        | 1 | 1 |  8 | l | 8l  | store | 3.688879 | storedomain the net | 0.766 | 0.4828190 |    NA | 0.8681941 | 0.977 | 0.8906595 | NA | NA |\n",
       "| 932344 | FirstTime | 1 | 2019-11-07 | 2018-11-07 | Active | 82102184 | ceat.press            | 1&amp;1 Internet   | Arsys          | Spain   | NA | 1 | 49 | 49 | 0 | 248366815 | auto-renewal | realized   | Renewed    | 2019-11-07 | 49 | 10.44 | ceat            | 1 | 1 |  4 | l | 4l  | press | 3.891820 | pressarsys          | 0.489 | 0.6627434 |    NA | 0.8305129 | 0.541 | 0.7518784 | NA | NA |\n",
       "| 932345 | FirstTime | 1 | 2019-07-05 | 2018-07-05 | Active | 71455605 | crt.host              | PDR Ltd        | Redehost       | Brazil  | NA | 1 |  3 |  3 | 0 | 213418891 | auto-renewal | unrealized | Not Renewd | 2019-07-05 | 65 |  3.67 | crt             | 1 | 1 |  3 | l | 3l  | host  | 1.098612 | hostredehost        | 0.091 | 0.3858803 |    NA | 0.6396910 | 0.217 | 0.4518804 | NA | NA |\n",
       "| 932346 | FirstTime | 1 | 2019-07-01 | 2018-07-01 | Active | 71238585 | musictechnology.press | Key-Systems    | Home.pl        | Poland  | NA | 1 | 49 | 49 | 0 | 211150046 | renewal      | NA         | Renewed    | 2019-06-24 | 49 |  3.29 | musictechnology | 1 | 1 | 15 | l | 15l | press | 3.891820 | presshome.pl        | 0.072 | 0.5678307 | 0.047 | 0.2043780 | 0.363 | 0.7713502 | NA | NA |\n",
       "| 932347 | FirstTime | 1 | 2019-08-28 | 2018-08-28 | Active | 75267554 | machineseeker.site    | Gransy         | Webonic        | Hungary | NA | 1 | 20 | 20 | 0 | 222082036 | renewal      | NA         | Renewed    | 2019-08-14 | 20 |  7.37 | machineseeker   | 1 | 1 | 13 | l | 13l | site  | 2.995732 | sitewebonic         | 0.634 | 0.8043772 |    NA | 0.5871087 | 1.000 | 0.7610000 | NA | NA |\n",
       "\n"
      ],
      "text/plain": [
       "       renewal_type renewed_count expiry_date creation_date status domain_id\n",
       "932342 FirstTime    1             2020-02-11  2019-02-11    Active 93333378 \n",
       "932343 FirstTime    1             2019-07-05  2018-07-05    Active 71440360 \n",
       "932344 FirstTime    1             2019-11-07  2018-11-07    Active 82102184 \n",
       "932345 FirstTime    1             2019-07-05  2018-07-05    Active 71455605 \n",
       "932346 FirstTime    1             2019-07-01  2018-07-01    Active 71238585 \n",
       "932347 FirstTime    1             2019-08-28  2018-08-28    Active 75267554 \n",
       "       domain                registrar      reseller       reseller_country\n",
       "932342 dyham.press           Webnames       Webnames       Canada          \n",
       "932343 mellanox.store        Domain The Net Domain The Net Israel          \n",
       "932344 ceat.press            1&1 Internet   Arsys          Spain           \n",
       "932345 crt.host              PDR Ltd        Redehost       Brazil          \n",
       "932346 musictechnology.press Key-Systems    Home.pl        Poland          \n",
       "932347 machineseeker.site    Gransy         Webonic        Hungary         \n",
       "       registrant_country reg_period reg_revenue reg_arpt renew_mbg\n",
       "932342 NA                 1          49          49       0        \n",
       "932343 NA                 1          40          40       0        \n",
       "932344 NA                 1          49          49       0        \n",
       "932345 NA                 1           3           3       0        \n",
       "932346 NA                 1          49          49       0        \n",
       "932347 NA                 1          20          20       0        \n",
       "       renewal_item_id renew_type   autorenew_type renewal_status renew_date\n",
       "932342 290654076       auto-renewal unrealized     Not Renewd     2020-02-11\n",
       "932343 200279144       renewal      NA             Renewed        2019-05-06\n",
       "932344 248366815       auto-renewal realized       Renewed        2019-11-07\n",
       "932345 213418891       auto-renewal unrealized     Not Renewd     2019-07-05\n",
       "932346 211150046       renewal      NA             Renewed        2019-06-24\n",
       "932347 222082036       renewal      NA             Renewed        2019-08-14\n",
       "       renew_arpt gibb_score pattern         pattern_domain_count day_domains\n",
       "932342 49          1.27      dyham           1                    1          \n",
       "932343 40          5.54      mellanox        1                    1          \n",
       "932344 49         10.44      ceat            1                    1          \n",
       "932345 65          3.67      crt             1                    1          \n",
       "932346 49          3.29      musictechnology 1                    1          \n",
       "932347 20          7.37      machineseeker   1                    1          \n",
       "       sld_length sld_type sld_type2 tld   log_reg_arpt tld_registrar_index\n",
       "932342  5         l        5l        press 3.891820     presswebnames      \n",
       "932343  8         l        8l        store 3.688879     storedomain the net\n",
       "932344  4         l        4l        press 3.891820     pressarsys         \n",
       "932345  3         l        3l        host  1.098612     hostredehost       \n",
       "932346 15         l        15l       press 3.891820     presshome.pl       \n",
       "932347 13         l        13l       site  2.995732     sitewebonic        \n",
       "       pred_agg_glm_ALL pred_agg_rf_ALL pred_agg_glm pred_agg_rf\n",
       "932342 0.265            0.3899154          NA        0.7706898  \n",
       "932343 0.766            0.4828190          NA        0.8681941  \n",
       "932344 0.489            0.6627434          NA        0.8305129  \n",
       "932345 0.091            0.3858803          NA        0.6396910  \n",
       "932346 0.072            0.5678307       0.047        0.2043780  \n",
       "932347 0.634            0.8043772          NA        0.5871087  \n",
       "       pred_seg_glm_ALL pred_seg_rf_ALL pred_seg2_glm_ALL pred_seg2_rf_ALL\n",
       "932342 0.440            0.3502572       NA                NA              \n",
       "932343 0.977            0.8906595       NA                NA              \n",
       "932344 0.541            0.7518784       NA                NA              \n",
       "932345 0.217            0.4518804       NA                NA              \n",
       "932346 0.363            0.7713502       NA                NA              \n",
       "932347 1.000            0.7610000       NA                NA              "
      ]
     },
     "metadata": {},
     "output_type": "display_data"
    }
   ],
   "source": [
    "tail(preds_df)"
   ]
  },
  {
   "cell_type": "code",
   "execution_count": 40,
   "metadata": {},
   "outputs": [
    {
     "data": {
      "text/html": [
       "4"
      ],
      "text/latex": [
       "4"
      ],
      "text/markdown": [
       "4"
      ],
      "text/plain": [
       "[1] 4"
      ]
     },
     "metadata": {},
     "output_type": "display_data"
    }
   ],
   "source": [
    "preds_df %>% filter(is.na(pred_agg_glm_ALL)) %>% nrow()"
   ]
  },
  {
   "cell_type": "code",
   "execution_count": 41,
   "metadata": {},
   "outputs": [],
   "source": [
    "\n",
    "lift_list <- list()\n",
    "auc_list <- list()\n",
    "\n",
    "fallback_lift <- chart_lift(pred_df=preds_df,\n",
    "                        dep_var = \"renewal_status\",\n",
    "                        pred_var = \"pred_agg_glm_ALL\") \n",
    "\n",
    "lift_list[[\"fallback\"]] <- fallback_lift\n",
    "auc_list[[\"fallback\"]] <- calc_auc(lift_df=fallback_lift)\n",
    "\n",
    "models <- c('pred_agg_glm_ALL','pred_agg_rf_ALL','pred_agg_glm','pred_agg_rf',\n",
    "            'pred_seg_glm_ALL', 'pred_seg_rf_ALL','pred_seg2_glm_ALL','pred_seg2_rf_ALL')\n",
    "\n",
    "\n",
    "for (model in models){\n",
    "    model_lift <- chart_lift(pred_df=preds_df,\n",
    "                        dep_var = \"renewal_status\",\n",
    "                        pred_var = model) \n",
    "    \n",
    "    fallback_lift <- merge(fallback_lift, model_lift, by=c(\"P\"),all= TRUE, \n",
    "                           suffixes = c(\"\",\n",
    "                                        paste(\"_\",gsub(\"pred_df_\", \"\", model)) ))\n",
    "    \n",
    "    lift_list[[model]] <- model_lift\n",
    "    auc_list[[model]] <- calc_auc(lift_df=model_lift)\n",
    "}\n",
    "\n",
    "lift_df <- fallback_lift"
   ]
  },
  {
   "cell_type": "code",
   "execution_count": 42,
   "metadata": {},
   "outputs": [
    {
     "data": {
      "text/html": [
       "9"
      ],
      "text/latex": [
       "9"
      ],
      "text/markdown": [
       "9"
      ],
      "text/plain": [
       "[1] 9"
      ]
     },
     "metadata": {},
     "output_type": "display_data"
    },
    {
     "data": {
      "text/html": [
       "<style>\n",
       ".list-inline {list-style: none; margin:0; padding: 0}\n",
       ".list-inline>li {display: inline-block}\n",
       ".list-inline>li:not(:last-child)::after {content: \"\\00b7\"; padding: 0 .5ex}\n",
       "</style>\n",
       "<ol class=list-inline><li>'fallback'</li><li>'pred_agg_glm_ALL'</li><li>'pred_agg_rf_ALL'</li><li>'pred_agg_glm'</li><li>'pred_agg_rf'</li><li>'pred_seg_glm_ALL'</li><li>'pred_seg_rf_ALL'</li><li>'pred_seg2_glm_ALL'</li><li>'pred_seg2_rf_ALL'</li></ol>\n"
      ],
      "text/latex": [
       "\\begin{enumerate*}\n",
       "\\item 'fallback'\n",
       "\\item 'pred\\_agg\\_glm\\_ALL'\n",
       "\\item 'pred\\_agg\\_rf\\_ALL'\n",
       "\\item 'pred\\_agg\\_glm'\n",
       "\\item 'pred\\_agg\\_rf'\n",
       "\\item 'pred\\_seg\\_glm\\_ALL'\n",
       "\\item 'pred\\_seg\\_rf\\_ALL'\n",
       "\\item 'pred\\_seg2\\_glm\\_ALL'\n",
       "\\item 'pred\\_seg2\\_rf\\_ALL'\n",
       "\\end{enumerate*}\n"
      ],
      "text/markdown": [
       "1. 'fallback'\n",
       "2. 'pred_agg_glm_ALL'\n",
       "3. 'pred_agg_rf_ALL'\n",
       "4. 'pred_agg_glm'\n",
       "5. 'pred_agg_rf'\n",
       "6. 'pred_seg_glm_ALL'\n",
       "7. 'pred_seg_rf_ALL'\n",
       "8. 'pred_seg2_glm_ALL'\n",
       "9. 'pred_seg2_rf_ALL'\n",
       "\n",
       "\n"
      ],
      "text/plain": [
       "[1] \"fallback\"          \"pred_agg_glm_ALL\"  \"pred_agg_rf_ALL\"  \n",
       "[4] \"pred_agg_glm\"      \"pred_agg_rf\"       \"pred_seg_glm_ALL\" \n",
       "[7] \"pred_seg_rf_ALL\"   \"pred_seg2_glm_ALL\" \"pred_seg2_rf_ALL\" "
      ]
     },
     "metadata": {},
     "output_type": "display_data"
    },
    {
     "data": {
      "text/html": [
       "<table>\n",
       "<caption>A matrix: 2 × 9 of type int</caption>\n",
       "<thead>\n",
       "\t<tr><th scope=col>fallback</th><th scope=col>pred_agg_glm_ALL</th><th scope=col>pred_agg_rf_ALL</th><th scope=col>pred_agg_glm</th><th scope=col>pred_agg_rf</th><th scope=col>pred_seg_glm_ALL</th><th scope=col>pred_seg_rf_ALL</th><th scope=col>pred_seg2_glm_ALL</th><th scope=col>pred_seg2_rf_ALL</th></tr>\n",
       "</thead>\n",
       "<tbody>\n",
       "\t<tr><td>10</td><td>10</td><td>10</td><td>10</td><td>10</td><td>10</td><td>10</td><td>10</td><td>10</td></tr>\n",
       "\t<tr><td> 4</td><td> 4</td><td> 4</td><td> 4</td><td> 4</td><td> 4</td><td> 4</td><td> 4</td><td> 4</td></tr>\n",
       "</tbody>\n",
       "</table>\n"
      ],
      "text/latex": [
       "A matrix: 2 × 9 of type int\n",
       "\\begin{tabular}{lllllllll}\n",
       " fallback & pred\\_agg\\_glm\\_ALL & pred\\_agg\\_rf\\_ALL & pred\\_agg\\_glm & pred\\_agg\\_rf & pred\\_seg\\_glm\\_ALL & pred\\_seg\\_rf\\_ALL & pred\\_seg2\\_glm\\_ALL & pred\\_seg2\\_rf\\_ALL\\\\\n",
       "\\hline\n",
       "\t 10 & 10 & 10 & 10 & 10 & 10 & 10 & 10 & 10\\\\\n",
       "\t  4 &  4 &  4 &  4 &  4 &  4 &  4 &  4 &  4\\\\\n",
       "\\end{tabular}\n"
      ],
      "text/markdown": [
       "\n",
       "A matrix: 2 × 9 of type int\n",
       "\n",
       "| fallback | pred_agg_glm_ALL | pred_agg_rf_ALL | pred_agg_glm | pred_agg_rf | pred_seg_glm_ALL | pred_seg_rf_ALL | pred_seg2_glm_ALL | pred_seg2_rf_ALL |\n",
       "|---|---|---|---|---|---|---|---|---|\n",
       "| 10 | 10 | 10 | 10 | 10 | 10 | 10 | 10 | 10 |\n",
       "|  4 |  4 |  4 |  4 |  4 |  4 |  4 |  4 |  4 |\n",
       "\n"
      ],
      "text/plain": [
       "     fallback pred_agg_glm_ALL pred_agg_rf_ALL pred_agg_glm pred_agg_rf\n",
       "[1,] 10       10               10              10           10         \n",
       "[2,]  4        4                4               4            4         \n",
       "     pred_seg_glm_ALL pred_seg_rf_ALL pred_seg2_glm_ALL pred_seg2_rf_ALL\n",
       "[1,] 10               10              10                10              \n",
       "[2,]  4                4               4                 4              "
      ]
     },
     "metadata": {},
     "output_type": "display_data"
    },
    {
     "data": {
      "text/html": [
       "<strong>$pred_agg_glm_ALL</strong> = <table>\n",
       "<caption>A data.frame: 10 × 4</caption>\n",
       "<thead>\n",
       "\t<tr><th scope=col>P</th><th scope=col>actu_renwd2</th><th scope=col>gain</th><th scope=col>lift</th></tr>\n",
       "\t<tr><th scope=col>&lt;dbl&gt;</th><th scope=col>&lt;int&gt;</th><th scope=col>&lt;dbl&gt;</th><th scope=col>&lt;dbl&gt;</th></tr>\n",
       "</thead>\n",
       "<tbody>\n",
       "\t<tr><td>0.1</td><td>38761</td><td>0.4651841</td><td>4.651841</td></tr>\n",
       "\t<tr><td>0.2</td><td>55745</td><td>0.6690149</td><td>3.345075</td></tr>\n",
       "\t<tr><td>0.3</td><td>66669</td><td>0.8001176</td><td>2.667059</td></tr>\n",
       "\t<tr><td>0.4</td><td>72939</td><td>0.8753660</td><td>2.188415</td></tr>\n",
       "\t<tr><td>0.5</td><td>77206</td><td>0.9265758</td><td>1.853152</td></tr>\n",
       "\t<tr><td>0.6</td><td>80335</td><td>0.9641280</td><td>1.606880</td></tr>\n",
       "\t<tr><td>0.7</td><td>82061</td><td>0.9848423</td><td>1.406918</td></tr>\n",
       "\t<tr><td>0.8</td><td>82939</td><td>0.9953795</td><td>1.244224</td></tr>\n",
       "\t<tr><td>0.9</td><td>83193</td><td>0.9984278</td><td>1.109364</td></tr>\n",
       "\t<tr><td>1.0</td><td>83324</td><td>1.0000000</td><td>1.000000</td></tr>\n",
       "</tbody>\n",
       "</table>\n"
      ],
      "text/latex": [
       "\\textbf{\\$pred\\_agg\\_glm\\_ALL} = A data.frame: 10 × 4\n",
       "\\begin{tabular}{llll}\n",
       " P & actu\\_renwd2 & gain & lift\\\\\n",
       " <dbl> & <int> & <dbl> & <dbl>\\\\\n",
       "\\hline\n",
       "\t 0.1 & 38761 & 0.4651841 & 4.651841\\\\\n",
       "\t 0.2 & 55745 & 0.6690149 & 3.345075\\\\\n",
       "\t 0.3 & 66669 & 0.8001176 & 2.667059\\\\\n",
       "\t 0.4 & 72939 & 0.8753660 & 2.188415\\\\\n",
       "\t 0.5 & 77206 & 0.9265758 & 1.853152\\\\\n",
       "\t 0.6 & 80335 & 0.9641280 & 1.606880\\\\\n",
       "\t 0.7 & 82061 & 0.9848423 & 1.406918\\\\\n",
       "\t 0.8 & 82939 & 0.9953795 & 1.244224\\\\\n",
       "\t 0.9 & 83193 & 0.9984278 & 1.109364\\\\\n",
       "\t 1.0 & 83324 & 1.0000000 & 1.000000\\\\\n",
       "\\end{tabular}\n"
      ],
      "text/markdown": [
       "**$pred_agg_glm_ALL** = \n",
       "A data.frame: 10 × 4\n",
       "\n",
       "| P &lt;dbl&gt; | actu_renwd2 &lt;int&gt; | gain &lt;dbl&gt; | lift &lt;dbl&gt; |\n",
       "|---|---|---|---|\n",
       "| 0.1 | 38761 | 0.4651841 | 4.651841 |\n",
       "| 0.2 | 55745 | 0.6690149 | 3.345075 |\n",
       "| 0.3 | 66669 | 0.8001176 | 2.667059 |\n",
       "| 0.4 | 72939 | 0.8753660 | 2.188415 |\n",
       "| 0.5 | 77206 | 0.9265758 | 1.853152 |\n",
       "| 0.6 | 80335 | 0.9641280 | 1.606880 |\n",
       "| 0.7 | 82061 | 0.9848423 | 1.406918 |\n",
       "| 0.8 | 82939 | 0.9953795 | 1.244224 |\n",
       "| 0.9 | 83193 | 0.9984278 | 1.109364 |\n",
       "| 1.0 | 83324 | 1.0000000 | 1.000000 |\n",
       "\n"
      ],
      "text/plain": [
       "$pred_agg_glm_ALL\n",
       "     P actu_renwd2      gain     lift\n",
       "1  0.1       38761 0.4651841 4.651841\n",
       "2  0.2       55745 0.6690149 3.345075\n",
       "3  0.3       66669 0.8001176 2.667059\n",
       "4  0.4       72939 0.8753660 2.188415\n",
       "5  0.5       77206 0.9265758 1.853152\n",
       "6  0.6       80335 0.9641280 1.606880\n",
       "7  0.7       82061 0.9848423 1.406918\n",
       "8  0.8       82939 0.9953795 1.244224\n",
       "9  0.9       83193 0.9984278 1.109364\n",
       "10 1.0       83324 1.0000000 1.000000\n"
      ]
     },
     "metadata": {},
     "output_type": "display_data"
    }
   ],
   "source": [
    "length(lift_list)\n",
    "names(lift_list)\n",
    "sapply(lift_list, dim)\n",
    "lift_list[\"pred_agg_glm_ALL\"]"
   ]
  },
  {
   "cell_type": "code",
   "execution_count": 43,
   "metadata": {},
   "outputs": [],
   "source": [
    "lift_list[[1]] <- NULL\n",
    "auc_list[[1]] <- NULL"
   ]
  },
  {
   "cell_type": "code",
   "execution_count": 44,
   "metadata": {},
   "outputs": [
    {
     "data": {
      "text/plain": [
       "\n",
       "Not Renewd    Renewed \n",
       "0.91062984 0.08937016 "
      ]
     },
     "metadata": {},
     "output_type": "display_data"
    }
   ],
   "source": [
    "prop.table(table(expiry_test_df$renewal_status))"
   ]
  },
  {
   "cell_type": "code",
   "execution_count": 45,
   "metadata": {},
   "outputs": [],
   "source": [
    "plot_multigains <- function (lift_df_list=list(seg_glm = lift_df, \n",
    "                                               ben_dtr = lift_df_2),\n",
    "                             auc_list = list(seg_glm = auc, \n",
    "                                             ben_dtr=auc_2),\n",
    "                             prop_positive = 0.1121167) {\n",
    "  \n",
    "  optimal_df <- data.frame( \"P\"=c(0,prop_positive,1.0),\n",
    "                            \"actu_renwd2\"=c(NA,NA,NA),\n",
    "                            \"gain\"=c(0,1.0,1.0),\n",
    "                            \"lift\"=c(NA,NA,NA))\n",
    "  \n",
    "  lift_df_list <- lapply(lift_df_list, function(df) {\n",
    "    df <- df %>%\n",
    "      add_row(P = 0, gain =0) %>%\n",
    "      arrange(P)\n",
    "  })\n",
    "\n",
    "  auc_lift_list = paste(lapply(auc_list, round, 3),sapply(lift_df_list, function(x) round(x[2,\"lift\"],2)), sep=\", \")\n",
    "  \n",
    "  auc_map = paste(names(lift_df_list),auc_lift_list, sep=\" = \")[1:length(lift_df_list)]\n",
    "  \n",
    "  \n",
    "  gains_plot <- ggplot(NULL, aes(P,  gain)) +\n",
    "    geom_line(data = lift_df_list[[1]] %>% slice(1, n())) +\n",
    "    \n",
    "    list(geom_line(data=optimal_df), geom_point(data=optimal_df)) +\n",
    "    \n",
    "    scale_y_continuous(breaks = seq(0, 1, by = .1), limits = c(0,1)) +\n",
    "    scale_x_continuous(breaks = seq(0, 1, by = .1)) +\n",
    "    labs(title = \"Cumulative Gains Plot\",\n",
    "         y = \"Cumulative Gain\",\n",
    "         x = \"Percentile\")+\n",
    "    theme(text = element_text(size=20))\n",
    "  \n",
    "  for(i in seq(length(lift_df_list))){\n",
    "    name = names(lift_df_list)[[i]]\n",
    "    df = lift_df_list[[i]]\n",
    "    auc = auc_list[[i]]\n",
    "    gains_plot <- gains_plot + list(geom_line(data=df), \n",
    "                                    geom_point(data=df))+ \n",
    "      annotate(\"text\", x = .35, y = .75-i*.075, hjust = 0, label = auc_map[[i]], size = 6)\n",
    "  }\n",
    "  \n",
    "  \n",
    "  return(gains_plot)\n",
    "}\n"
   ]
  },
  {
   "cell_type": "code",
   "execution_count": 46,
   "metadata": {},
   "outputs": [
    {
     "data": {
      "image/png": "[encoded data removed]",
      "text/plain": [
       "plot without title"
      ]
     },
     "metadata": {
      "image/png": {
       "height": 420,
       "width": 420
      },
      "text/plain": {
       "height": 420,
       "width": 420
      }
     },
     "output_type": "display_data"
    }
   ],
   "source": [
    "plot_multigains(            lift_df_list=lift_list,\n",
    "                             auc_list = auc_list,\n",
    "                             prop_positive = 0.08937016) "
   ]
  },
  {
   "cell_type": "code",
   "execution_count": 47,
   "metadata": {},
   "outputs": [
    {
     "data": {
      "text/html": [
       "<table>\n",
       "<caption>A matrix: 8 × 1 of type dbl</caption>\n",
       "<tbody>\n",
       "\t<tr><th scope=row>lift_ pred_agg_glm_ALL</th><td>4.651841</td></tr>\n",
       "\t<tr><th scope=row>lift_ pred_agg_rf_ALL</th><td>5.245187</td></tr>\n",
       "\t<tr><th scope=row>lift_ pred_agg_glm</th><td>4.396332</td></tr>\n",
       "\t<tr><th scope=row>lift_ pred_agg_rf</th><td>5.116893</td></tr>\n",
       "\t<tr><th scope=row>lift_ pred_seg_glm_ALL</th><td>4.730450</td></tr>\n",
       "\t<tr><th scope=row>lift_ pred_seg_rf_ALL</th><td>5.259589</td></tr>\n",
       "\t<tr><th scope=row>lift_ pred_seg2_glm_ALL</th><td>4.913470</td></tr>\n",
       "\t<tr><th scope=row>lift_ pred_seg2_rf_ALL</th><td>5.241827</td></tr>\n",
       "</tbody>\n",
       "</table>\n"
      ],
      "text/latex": [
       "A matrix: 8 × 1 of type dbl\n",
       "\\begin{tabular}{r|l}\n",
       "\tlift\\_ pred\\_agg\\_glm\\_ALL & 4.651841\\\\\n",
       "\tlift\\_ pred\\_agg\\_rf\\_ALL & 5.245187\\\\\n",
       "\tlift\\_ pred\\_agg\\_glm & 4.396332\\\\\n",
       "\tlift\\_ pred\\_agg\\_rf & 5.116893\\\\\n",
       "\tlift\\_ pred\\_seg\\_glm\\_ALL & 4.730450\\\\\n",
       "\tlift\\_ pred\\_seg\\_rf\\_ALL & 5.259589\\\\\n",
       "\tlift\\_ pred\\_seg2\\_glm\\_ALL & 4.913470\\\\\n",
       "\tlift\\_ pred\\_seg2\\_rf\\_ALL & 5.241827\\\\\n",
       "\\end{tabular}\n"
      ],
      "text/markdown": [
       "\n",
       "A matrix: 8 × 1 of type dbl\n",
       "\n",
       "| lift_ pred_agg_glm_ALL | 4.651841 |\n",
       "| lift_ pred_agg_rf_ALL | 5.245187 |\n",
       "| lift_ pred_agg_glm | 4.396332 |\n",
       "| lift_ pred_agg_rf | 5.116893 |\n",
       "| lift_ pred_seg_glm_ALL | 4.730450 |\n",
       "| lift_ pred_seg_rf_ALL | 5.259589 |\n",
       "| lift_ pred_seg2_glm_ALL | 4.913470 |\n",
       "| lift_ pred_seg2_rf_ALL | 5.241827 |\n",
       "\n"
      ],
      "text/plain": [
       "                        [,1]    \n",
       "lift_ pred_agg_glm_ALL  4.651841\n",
       "lift_ pred_agg_rf_ALL   5.245187\n",
       "lift_ pred_agg_glm      4.396332\n",
       "lift_ pred_agg_rf       5.116893\n",
       "lift_ pred_seg_glm_ALL  4.730450\n",
       "lift_ pred_seg_rf_ALL   5.259589\n",
       "lift_ pred_seg2_glm_ALL 4.913470\n",
       "lift_ pred_seg2_rf_ALL  5.241827"
      ]
     },
     "metadata": {},
     "output_type": "display_data"
    }
   ],
   "source": [
    "lift_df_10 <- lift_df %>% filter(P==0.1) %>% select(contains(\"lift_\")) %>% t()\n",
    "lift_df_10"
   ]
  },
  {
   "cell_type": "code",
   "execution_count": 51,
   "metadata": {},
   "outputs": [
    {
     "data": {
      "text/html": [
       "0.0675117584924706"
      ],
      "text/latex": [
       "0.0675117584924706"
      ],
      "text/markdown": [
       "0.0675117584924706"
      ],
      "text/plain": [
       "[1] 0.06751176"
      ]
     },
     "metadata": {},
     "output_type": "display_data"
    }
   ],
   "source": [
    "(5.245187-4.913470)/4.913470"
   ]
  },
  {
   "cell_type": "code",
   "execution_count": 49,
   "metadata": {},
   "outputs": [
    {
     "data": {
      "text/html": [
       "<dl>\n",
       "\t<dt>$pred_agg_glm_ALL</dt>\n",
       "\t\t<dd>0.817903605203783</dd>\n",
       "\t<dt>$pred_agg_rf_ALL</dt>\n",
       "\t\t<dd>0.857929288080265</dd>\n",
       "\t<dt>$pred_agg_glm</dt>\n",
       "\t\t<dd>0.782203206759157</dd>\n",
       "\t<dt>$pred_agg_rf</dt>\n",
       "\t\t<dd>0.855487014545629</dd>\n",
       "\t<dt>$pred_seg_glm_ALL</dt>\n",
       "\t\t<dd>0.82301257740867</dd>\n",
       "\t<dt>$pred_seg_rf_ALL</dt>\n",
       "\t\t<dd>0.858651768998128</dd>\n",
       "\t<dt>$pred_seg2_glm_ALL</dt>\n",
       "\t\t<dd>0.832215208103308</dd>\n",
       "\t<dt>$pred_seg2_rf_ALL</dt>\n",
       "\t\t<dd>0.857451634583073</dd>\n",
       "</dl>\n"
      ],
      "text/latex": [
       "\\begin{description}\n",
       "\\item[\\$pred\\_agg\\_glm\\_ALL] 0.817903605203783\n",
       "\\item[\\$pred\\_agg\\_rf\\_ALL] 0.857929288080265\n",
       "\\item[\\$pred\\_agg\\_glm] 0.782203206759157\n",
       "\\item[\\$pred\\_agg\\_rf] 0.855487014545629\n",
       "\\item[\\$pred\\_seg\\_glm\\_ALL] 0.82301257740867\n",
       "\\item[\\$pred\\_seg\\_rf\\_ALL] 0.858651768998128\n",
       "\\item[\\$pred\\_seg2\\_glm\\_ALL] 0.832215208103308\n",
       "\\item[\\$pred\\_seg2\\_rf\\_ALL] 0.857451634583073\n",
       "\\end{description}\n"
      ],
      "text/markdown": [
       "$pred_agg_glm_ALL\n",
       ":   0.817903605203783\n",
       "$pred_agg_rf_ALL\n",
       ":   0.857929288080265\n",
       "$pred_agg_glm\n",
       ":   0.782203206759157\n",
       "$pred_agg_rf\n",
       ":   0.855487014545629\n",
       "$pred_seg_glm_ALL\n",
       ":   0.82301257740867\n",
       "$pred_seg_rf_ALL\n",
       ":   0.858651768998128\n",
       "$pred_seg2_glm_ALL\n",
       ":   0.832215208103308\n",
       "$pred_seg2_rf_ALL\n",
       ":   0.857451634583073\n",
       "\n",
       "\n"
      ],
      "text/plain": [
       "$pred_agg_glm_ALL\n",
       "[1] 0.8179036\n",
       "\n",
       "$pred_agg_rf_ALL\n",
       "[1] 0.8579293\n",
       "\n",
       "$pred_agg_glm\n",
       "[1] 0.7822032\n",
       "\n",
       "$pred_agg_rf\n",
       "[1] 0.855487\n",
       "\n",
       "$pred_seg_glm_ALL\n",
       "[1] 0.8230126\n",
       "\n",
       "$pred_seg_rf_ALL\n",
       "[1] 0.8586518\n",
       "\n",
       "$pred_seg2_glm_ALL\n",
       "[1] 0.8322152\n",
       "\n",
       "$pred_seg2_rf_ALL\n",
       "[1] 0.8574516\n"
      ]
     },
     "metadata": {},
     "output_type": "display_data"
    }
   ],
   "source": [
    "auc_list"
   ]
  },
  {
   "cell_type": "code",
   "execution_count": 52,
   "metadata": {},
   "outputs": [
    {
     "data": {
      "text/html": [
       "0.0308983538471523"
      ],
      "text/latex": [
       "0.0308983538471523"
      ],
      "text/markdown": [
       "0.0308983538471523"
      ],
      "text/plain": [
       "[1] 0.03089835"
      ]
     },
     "metadata": {},
     "output_type": "display_data"
    }
   ],
   "source": [
    "(auc_list$pred_agg_rf_ALL-auc_list$pred_seg2_glm_ALL)/(auc_list$pred_seg2_glm_ALL)"
   ]
  },
  {
   "cell_type": "code",
   "execution_count": 53,
   "metadata": {},
   "outputs": [
    {
     "data": {
      "text/plain": [
       "Confusion Matrix and Statistics\n",
       "\n",
       "            Reference\n",
       "Prediction   Not Renewd Renewed\n",
       "  Not Renewd     653458   11301\n",
       "  Renewed        195565   72023\n",
       "                                         \n",
       "               Accuracy : 0.7781         \n",
       "                 95% CI : (0.7773, 0.779)\n",
       "    No Information Rate : 0.9106         \n",
       "    P-Value [Acc > NIR] : 1              \n",
       "                                         \n",
       "                  Kappa : 0.3175         \n",
       "                                         \n",
       " Mcnemar's Test P-Value : <2e-16         \n",
       "                                         \n",
       "            Sensitivity : 0.86437        \n",
       "            Specificity : 0.76966        \n",
       "         Pos Pred Value : 0.26916        \n",
       "         Neg Pred Value : 0.98300        \n",
       "             Prevalence : 0.08937        \n",
       "         Detection Rate : 0.07725        \n",
       "   Detection Prevalence : 0.28700        \n",
       "      Balanced Accuracy : 0.81702        \n",
       "                                         \n",
       "       'Positive' Class : Renewed        \n",
       "                                         "
      ]
     },
     "metadata": {},
     "output_type": "display_data"
    }
   ],
   "source": [
    "confusionMatrix(as.factor(ifelse(preds_df$pred_agg_rf_ALL > 0.08937016, \"Renewed\", \"Not Renewd\")), \n",
    "                preds_df$renewal_status, positive=\"Renewed\")"
   ]
  },
  {
   "cell_type": "code",
   "execution_count": 54,
   "metadata": {},
   "outputs": [
    {
     "data": {
      "text/plain": [
       "Confusion Matrix and Statistics\n",
       "\n",
       "            Reference\n",
       "Prediction   Not Renewd Renewed\n",
       "  Not Renewd     659137   15715\n",
       "  Renewed        188174   67229\n",
       "                                        \n",
       "               Accuracy : 0.7808        \n",
       "                 95% CI : (0.78, 0.7817)\n",
       "    No Information Rate : 0.9108        \n",
       "    P-Value [Acc > NIR] : 1             \n",
       "                                        \n",
       "                  Kappa : 0.3037        \n",
       "                                        \n",
       " Mcnemar's Test P-Value : <2e-16        \n",
       "                                        \n",
       "            Sensitivity : 0.81053       \n",
       "            Specificity : 0.77792       \n",
       "         Pos Pred Value : 0.26323       \n",
       "         Neg Pred Value : 0.97671       \n",
       "             Prevalence : 0.08916       \n",
       "         Detection Rate : 0.07227       \n",
       "   Detection Prevalence : 0.27455       \n",
       "      Balanced Accuracy : 0.79423       \n",
       "                                        \n",
       "       'Positive' Class : Renewed       \n",
       "                                        "
      ]
     },
     "metadata": {},
     "output_type": "display_data"
    }
   ],
   "source": [
    "confusionMatrix(as.factor(ifelse(preds_df$pred_seg2_glm_ALL > 0.08937016, \"Renewed\", \"Not Renewd\")), \n",
    "                preds_df$renewal_status, positive=\"Renewed\")"
   ]
  },
  {
   "cell_type": "code",
   "execution_count": 21,
   "metadata": {},
   "outputs": [
    {
     "name": "stdout",
     "output_type": "stream",
     "text": [
      " num [1:932289] 0.02632 0.02328 0.00646 0.07569 0.01106 ...\n"
     ]
    }
   ],
   "source": [
    "str(preds_df$pred_agg_rf_ALL)"
   ]
  },
  {
   "cell_type": "markdown",
   "metadata": {},
   "source": [
    "# Why 58 missing domain_ids in preds_df.. is it a merge issue?\n",
    "No... individual preds have the same number of rows as the final, merged df"
   ]
  },
  {
   "cell_type": "code",
   "execution_count": 34,
   "metadata": {},
   "outputs": [],
   "source": [
    "fullDir='/home/jupyter/Domains_202003/data/output/models_20201104'"
   ]
  },
  {
   "cell_type": "code",
   "execution_count": 35,
   "metadata": {},
   "outputs": [],
   "source": [
    "load(file.path(fullDir, 'preds_seg_rf_ALL.RData'))\n",
    "load(file.path(fullDir, 'preds_seg_glm_ALL.RData'))\n",
    "load(file.path(fullDir, 'preds_agg_rf.RData'))\n",
    "load(file.path(fullDir, 'preds_agg_rf_ALL.RData'))\n",
    "load(file.path(fullDir, 'preds_agg_glm.RData'))\n",
    "load(file.path(fullDir, 'preds_agg_glm_ALL.Rdata'))\n",
    "load(file.path(fullDir, 'preds_seg2_rf_ALL.RData'))\n",
    "load(file.path(fullDir, 'preds_seg2_glm_ALL.RData'))\n"
   ]
  },
  {
   "cell_type": "code",
   "execution_count": 38,
   "metadata": {},
   "outputs": [
    {
     "data": {
      "text/html": [
       "2109"
      ],
      "text/latex": [
       "2109"
      ],
      "text/markdown": [
       "2109"
      ],
      "text/plain": [
       "[1] 2109"
      ]
     },
     "metadata": {},
     "output_type": "display_data"
    },
    {
     "data": {
      "text/html": [
       "2109"
      ],
      "text/latex": [
       "2109"
      ],
      "text/markdown": [
       "2109"
      ],
      "text/plain": [
       "[1] 2109"
      ]
     },
     "metadata": {},
     "output_type": "display_data"
    },
    {
     "data": {
      "text/html": [
       "2109"
      ],
      "text/latex": [
       "2109"
      ],
      "text/markdown": [
       "2109"
      ],
      "text/plain": [
       "[1] 2109"
      ]
     },
     "metadata": {},
     "output_type": "display_data"
    },
    {
     "data": {
      "text/html": [
       "2109"
      ],
      "text/latex": [
       "2109"
      ],
      "text/markdown": [
       "2109"
      ],
      "text/plain": [
       "[1] 2109"
      ]
     },
     "metadata": {},
     "output_type": "display_data"
    },
    {
     "data": {
      "text/html": [
       "2109"
      ],
      "text/latex": [
       "2109"
      ],
      "text/markdown": [
       "2109"
      ],
      "text/plain": [
       "[1] 2109"
      ]
     },
     "metadata": {},
     "output_type": "display_data"
    },
    {
     "data": {
      "text/html": [
       "2109"
      ],
      "text/latex": [
       "2109"
      ],
      "text/markdown": [
       "2109"
      ],
      "text/plain": [
       "[1] 2109"
      ]
     },
     "metadata": {},
     "output_type": "display_data"
    },
    {
     "data": {
      "text/html": [
       "2109"
      ],
      "text/latex": [
       "2109"
      ],
      "text/markdown": [
       "2109"
      ],
      "text/plain": [
       "[1] 2109"
      ]
     },
     "metadata": {},
     "output_type": "display_data"
    },
    {
     "data": {
      "text/html": [
       "2109"
      ],
      "text/latex": [
       "2109"
      ],
      "text/markdown": [
       "2109"
      ],
      "text/plain": [
       "[1] 2109"
      ]
     },
     "metadata": {},
     "output_type": "display_data"
    }
   ],
   "source": [
    "length(preds_seg2_rf_ALL)\n",
    "length(preds_seg2_glm_ALL)\n",
    "length(preds_seg_rf_ALL)\n",
    "length(preds_seg_glm_ALL)\n",
    "length(preds_agg_rf_ALL)\n",
    "length(preds_agg_glm_ALL)\n",
    "length(preds_agg_rf)\n",
    "length(preds_agg_glm)"
   ]
  },
  {
   "cell_type": "code",
   "execution_count": 44,
   "metadata": {},
   "outputs": [
    {
     "data": {
      "text/html": [
       "2109"
      ],
      "text/latex": [
       "2109"
      ],
      "text/markdown": [
       "2109"
      ],
      "text/plain": [
       "[1] 2109"
      ]
     },
     "metadata": {},
     "output_type": "display_data"
    },
    {
     "data": {
      "text/html": [
       "1706"
      ],
      "text/latex": [
       "1706"
      ],
      "text/markdown": [
       "1706"
      ],
      "text/plain": [
       "[1] 1706"
      ]
     },
     "metadata": {},
     "output_type": "display_data"
    }
   ],
   "source": [
    "length(na.omit(preds_seg2_rf_ALL))\n",
    "length(preds_seg2_rf_ALL[!is.na(preds_seg2_rf_ALL)])"
   ]
  },
  {
   "cell_type": "code",
   "execution_count": 42,
   "metadata": {},
   "outputs": [
    {
     "data": {
      "text/html": [
       "&lt;NA&gt;"
      ],
      "text/latex": [
       "<NA>"
      ],
      "text/markdown": [
       "&lt;NA&gt;"
      ],
      "text/plain": [
       "[1] NA"
      ]
     },
     "metadata": {},
     "output_type": "display_data"
    }
   ],
   "source": [
    "preds_seg2_rf_ALL[[323]]"
   ]
  },
  {
   "cell_type": "code",
   "execution_count": 47,
   "metadata": {},
   "outputs": [
    {
     "data": {
      "text/html": [
       "932289"
      ],
      "text/latex": [
       "932289"
      ],
      "text/markdown": [
       "932289"
      ],
      "text/plain": [
       "[1] 932289"
      ]
     },
     "metadata": {},
     "output_type": "display_data"
    },
    {
     "data": {
      "text/html": [
       "932289"
      ],
      "text/latex": [
       "932289"
      ],
      "text/markdown": [
       "932289"
      ],
      "text/plain": [
       "[1] 932289"
      ]
     },
     "metadata": {},
     "output_type": "display_data"
    },
    {
     "data": {
      "text/html": [
       "932289"
      ],
      "text/latex": [
       "932289"
      ],
      "text/markdown": [
       "932289"
      ],
      "text/plain": [
       "[1] 932289"
      ]
     },
     "metadata": {},
     "output_type": "display_data"
    },
    {
     "data": {
      "text/html": [
       "932289"
      ],
      "text/latex": [
       "932289"
      ],
      "text/markdown": [
       "932289"
      ],
      "text/plain": [
       "[1] 932289"
      ]
     },
     "metadata": {},
     "output_type": "display_data"
    },
    {
     "data": {
      "text/html": [
       "932289"
      ],
      "text/latex": [
       "932289"
      ],
      "text/markdown": [
       "932289"
      ],
      "text/plain": [
       "[1] 932289"
      ]
     },
     "metadata": {},
     "output_type": "display_data"
    },
    {
     "data": {
      "text/html": [
       "932289"
      ],
      "text/latex": [
       "932289"
      ],
      "text/markdown": [
       "932289"
      ],
      "text/plain": [
       "[1] 932289"
      ]
     },
     "metadata": {},
     "output_type": "display_data"
    },
    {
     "data": {
      "text/html": [
       "932289"
      ],
      "text/latex": [
       "932289"
      ],
      "text/markdown": [
       "932289"
      ],
      "text/plain": [
       "[1] 932289"
      ]
     },
     "metadata": {},
     "output_type": "display_data"
    },
    {
     "data": {
      "text/html": [
       "932289"
      ],
      "text/latex": [
       "932289"
      ],
      "text/markdown": [
       "932289"
      ],
      "text/plain": [
       "[1] 932289"
      ]
     },
     "metadata": {},
     "output_type": "display_data"
    }
   ],
   "source": [
    "nrow(rbindlist(preds_seg2_rf_ALL[!is.na(preds_seg2_rf_ALL)]))\n",
    "nrow(rbindlist(preds_seg_rf_ALL[!is.na(preds_seg_rf_ALL)]))\n",
    "nrow(rbindlist(preds_agg_rf_ALL[!is.na(preds_agg_rf_ALL)]))\n",
    "nrow(rbindlist(preds_agg_rf[!is.na(preds_agg_rf)]))\n",
    "\n",
    "nrow(rbindlist(preds_seg2_glm_ALL[!is.na(preds_seg2_glm_ALL)]))\n",
    "nrow(rbindlist(preds_seg_glm_ALL[!is.na(preds_seg_glm_ALL)]))\n",
    "nrow(rbindlist(preds_agg_glm_ALL[!is.na(preds_agg_glm_ALL)]))\n",
    "nrow(rbindlist(preds_agg_glm[!is.na(preds_agg_glm)]))"
   ]
  },
  {
   "cell_type": "code",
   "execution_count": 48,
   "metadata": {},
   "outputs": [
    {
     "name": "stdout",
     "output_type": "stream",
     "text": [
      "'data.frame':\t932289 obs. of  39 variables:\n",
      " $ renewal_type        : Factor w/ 1 level \"FirstTime\": 1 1 1 1 1 1 1 1 1 1 ...\n",
      " $ renewed_count       : int  1 1 1 1 1 1 1 1 1 1 ...\n",
      " $ expiry_date         : Factor w/ 458 levels \"2019-06-01\",\"2019-06-02\",..: 161 66 72 52 37 164 38 66 426 440 ...\n",
      " $ creation_date       : Factor w/ 971 levels \"2017-01-01\",\"2017-01-02\",..: 674 579 585 565 550 677 551 579 939 953 ...\n",
      " $ status              : Factor w/ 1 level \"Active\": 1 1 1 1 1 1 1 1 1 1 ...\n",
      " $ domain_id           : int  82167309 73624034 74035654 72660399 71566430 82528489 71611449 73625689 114900256 117910336 ...\n",
      " $ domain              : Factor w/ 932172 levels \"0-0.website\",..: 837672 876376 232903 708671 912501 120268 778383 313500 106165 860143 ...\n",
      " $ registrar           : Factor w/ 159 levels \"1&1 Internet\",..: 91 91 91 91 91 91 91 91 91 91 ...\n",
      " $ reseller            : Factor w/ 315 levels \"1&1 Internet\",..: 184 184 184 184 184 184 184 184 184 184 ...\n",
      " $ reseller_country    : Factor w/ 53 levels \"\",\"Argentina\",..: 52 52 52 52 52 52 52 52 52 52 ...\n",
      " $ registrant_country  : Factor w/ 1 level \"China\": NA NA NA NA NA NA NA NA NA NA ...\n",
      " $ reg_period          : int  1 1 1 1 1 1 1 1 1 1 ...\n",
      " $ reg_revenue         : num  0.48 0.48 0.48 0.48 0.48 0.48 0.48 0.48 0.48 0.48 ...\n",
      " $ reg_arpt            : num  0.48 0.48 0.48 0.48 0.48 0.48 0.48 0.48 0.48 0.48 ...\n",
      " $ renew_mbg           : int  0 0 0 0 0 0 0 0 0 0 ...\n",
      " $ renewal_item_id     : int  248714055 219523016 221379481 216639126 213669206 250798210 213851121 219524836 333676289 337438414 ...\n",
      " $ renew_type          : Factor w/ 3 levels \"auto-renewal\",..: 1 1 1 1 1 1 1 1 1 1 ...\n",
      " $ autorenew_type      : Factor w/ 3 levels \"presumed-realized\",..: 2 3 3 3 3 3 3 3 3 3 ...\n",
      " $ renewal_status      : Factor w/ 2 levels \"Not Renewd\",\"Renewed\": 2 1 1 1 1 1 1 1 1 1 ...\n",
      " $ renew_date          : Factor w/ 816 levels \"2014-03-27\",\"2017-03-14\",..: 518 423 429 409 394 521 395 423 784 798 ...\n",
      " $ renew_arpt          : num  7.5 0 7 7 7 7.5 7 0 7 7 ...\n",
      " $ gibb_score          : num  3.39 0.52 4.65 1.75 1.52 2.16 6.82 2.38 2.54 3.69 ...\n",
      " $ pattern             : Factor w/ 750808 levels \"\",\"---18012019\",..: 678425 707984 515043 713010 132756 94755 628365 249752 83957 695076 ...\n",
      " $ pattern_domain_count: int  2 1 3 2 3 1 1 2 2 50 ...\n",
      " $ day_domains         : int  576 257 353 80 1147 687 109 257 187 215 ...\n",
      " $ sld_length          : int  10 4 10 8 6 10 11 4 6 15 ...\n",
      " $ sld_type            : Factor w/ 6 levels \"hyphen-l\",\"hyphen-ln\",..: 4 5 4 4 4 1 4 5 4 2 ...\n",
      " $ sld_type2           : Factor w/ 307 levels \"10hyphen-l\",\"10hyphen-ln\",..: 4 222 4 299 287 1 10 222 287 32 ...\n",
      " $ tld                 : Factor w/ 11 levels \"fun\",\"host\",\"in.net\",..: 6 6 6 6 6 6 6 6 6 6 ...\n",
      " $ log_reg_arpt        : num  -0.734 -0.734 -0.734 -0.734 -0.734 ...\n",
      " $ tld_registrar_index : Factor w/ 1706 levels \"fun1&1 internet\",..: 625 625 625 625 625 625 625 625 625 625 ...\n",
      " $ pred_agg_glm_ALL    : num  0.029 0.024 0.035 0.048 0.016 0.03 0.05 0.023 0.045 0.001 ...\n",
      " $ pred_agg_rf_ALL     : num  0.02632 0.02328 0.00646 0.07569 0.01106 ...\n",
      " $ pred_agg_glm        : num  0.03 0.024 0.035 0.048 0.017 0.031 0.05 0.024 0.046 0.001 ...\n",
      " $ pred_agg_rf         : num  0.02737 0.02632 0.00609 0.08006 0.0167 ...\n",
      " $ pred_seg_glm_ALL    : num  0.049 0.062 0.066 0.098 0.023 0.038 0.095 0.062 0.09 0.027 ...\n",
      " $ pred_seg_rf_ALL     : num  0.0275 0.0293 0.0123 0.0652 0.0161 ...\n",
      " $ pred_seg2_glm_ALL   : num  0.0281 0.0735 0.0352 0.0627 0.0227 ...\n",
      " $ pred_seg2_rf_ALL    : num  0.02445 0.0258 0.00619 0.05919 0.01638 ...\n"
     ]
    }
   ],
   "source": [
    "str(preds_df)"
   ]
  },
  {
   "cell_type": "code",
   "execution_count": null,
   "metadata": {},
   "outputs": [],
   "source": []
  }
 ],
 "metadata": {
  "environment": {
   "name": "r-cpu.3-6.m48",
   "type": "gcloud",
   "uri": "gcr.io/deeplearning-platform-release/r-cpu.3-6:m48"
  },
  "kernelspec": {
   "display_name": "R",
   "language": "R",
   "name": "ir"
  },
  "language_info": {
   "codemirror_mode": "r",
   "file_extension": ".r",
   "mimetype": "text/x-r-source",
   "name": "R",
   "pygments_lexer": "r",
   "version": "3.6.3"
  }
 },
 "nbformat": 4,
 "nbformat_minor": 4
}
