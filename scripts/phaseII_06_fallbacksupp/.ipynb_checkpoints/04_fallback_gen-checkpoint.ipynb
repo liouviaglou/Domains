{
 "cells": [
  {
   "cell_type": "markdown",
   "metadata": {},
   "source": [
    "# Follow up 10/08 meeting\n",
    "## Fallback Table generation\n",
    "#### based on fallback_scripts.R\n",
    "\n"
   ]
  },
  {
   "cell_type": "code",
   "execution_count": 1,
   "metadata": {},
   "outputs": [],
   "source": [
    "options(repr.matrix.max.cols=50, repr.matrix.max.rows=100)"
   ]
  },
  {
   "cell_type": "code",
   "execution_count": 2,
   "metadata": {},
   "outputs": [],
   "source": [
    "# install.packages(\"pkgcond\")"
   ]
  },
  {
   "cell_type": "code",
   "execution_count": 3,
   "metadata": {},
   "outputs": [
    {
     "name": "stderr",
     "output_type": "stream",
     "text": [
      "\n",
      "Attaching package: ‘dplyr’\n",
      "\n",
      "\n",
      "The following objects are masked from ‘package:stats’:\n",
      "\n",
      "    filter, lag\n",
      "\n",
      "\n",
      "The following objects are masked from ‘package:base’:\n",
      "\n",
      "    intersect, setdiff, setequal, union\n",
      "\n",
      "\n",
      "\n",
      "Attaching package: ‘data.table’\n",
      "\n",
      "\n",
      "The following objects are masked from ‘package:dplyr’:\n",
      "\n",
      "    between, first, last\n",
      "\n",
      "\n",
      "Loading required package: grid\n",
      "\n",
      "Loading required package: libcoin\n",
      "\n",
      "Loading required package: mvtnorm\n",
      "\n",
      "Loading required package: lattice\n",
      "\n",
      "Loading required package: ggplot2\n",
      "\n",
      "randomForest 4.6-14\n",
      "\n",
      "Type rfNews() to see new features/changes/bug fixes.\n",
      "\n",
      "\n",
      "Attaching package: ‘randomForest’\n",
      "\n",
      "\n",
      "The following object is masked from ‘package:ggplot2’:\n",
      "\n",
      "    margin\n",
      "\n",
      "\n",
      "The following object is masked from ‘package:dplyr’:\n",
      "\n",
      "    combine\n",
      "\n",
      "\n",
      "\n",
      "Attaching package: ‘ranger’\n",
      "\n",
      "\n",
      "The following object is masked from ‘package:randomForest’:\n",
      "\n",
      "    importance\n",
      "\n",
      "\n",
      "\n",
      "Attaching package: ‘plotly’\n",
      "\n",
      "\n",
      "The following object is masked from ‘package:ggplot2’:\n",
      "\n",
      "    last_plot\n",
      "\n",
      "\n",
      "The following object is masked from ‘package:stats’:\n",
      "\n",
      "    filter\n",
      "\n",
      "\n",
      "The following object is masked from ‘package:graphics’:\n",
      "\n",
      "    layout\n",
      "\n",
      "\n",
      "Loading required package: RJSONIO\n",
      "\n"
     ]
    },
    {
     "data": {
      "text/html": [
       "'/home/jupyter/local/Domains_202003/scripts/phaseII_06'"
      ],
      "text/latex": [
       "'/home/jupyter/local/Domains\\_202003/scripts/phaseII\\_06'"
      ],
      "text/markdown": [
       "'/home/jupyter/local/Domains_202003/scripts/phaseII_06'"
      ],
      "text/plain": [
       "[1] \"/home/jupyter/local/Domains_202003/scripts/phaseII_06\""
      ]
     },
     "metadata": {},
     "output_type": "display_data"
    }
   ],
   "source": [
    "library(dplyr)\n",
    "library(data.table)\n",
    "library(partykit)\n",
    "library(tictoc)\n",
    "library(caret)\n",
    "library(e1071)\n",
    "library(randomForest)\n",
    "library(ranger)\n",
    "\n",
    "#for 3d plotting\n",
    "library(akima)\n",
    "library(plotly)\n",
    "\n",
    "# for prep data\n",
    "library(rPython)\n",
    "library(stringr)\n",
    "library(pbapply)\n",
    "library(stringdist)\n",
    "library(data.table)\n",
    "library(dominanceanalysis)\n",
    "\n",
    "\n",
    "getwd()"
   ]
  },
  {
   "cell_type": "code",
   "execution_count": 4,
   "metadata": {},
   "outputs": [],
   "source": [
    "\n",
    "source('../orig/functions.R')\n",
    "\n",
    "source('../orig/functions_models.R')\n",
    "\n",
    "source('../phaseII_03_forest/functions_eval.R')\n",
    "\n",
    "\n",
    "source('../phaseII_03_forest/load_prep_data_expiry.R')\n",
    "\n",
    "# expiry_train_prepped_2_1 (list, less df's w/ 0 obs)\n",
    "# expiry_test_prepped_2_1  (list, less df's w/ 0 obs)\n",
    "# expiry_train_df_1 (above, rbound)\n",
    "# expiry_test_df_1 (above, rbound)\n",
    "# expiry_train_df_sub (subset vars)                                        \n",
    "# expiry_test_df_sub (subset vars)"
   ]
  },
  {
   "cell_type": "markdown",
   "metadata": {},
   "source": [
    "# Load model predctions"
   ]
  },
  {
   "cell_type": "code",
   "execution_count": 5,
   "metadata": {},
   "outputs": [
    {
     "data": {
      "text/html": [
       "<style>\n",
       ".list-inline {list-style: none; margin:0; padding: 0}\n",
       ".list-inline>li {display: inline-block}\n",
       ".list-inline>li:not(:last-child)::after {content: \"\\00b7\"; padding: 0 .5ex}\n",
       "</style>\n",
       "<ol class=list-inline><li>297100</li><li>12</li></ol>\n"
      ],
      "text/latex": [
       "\\begin{enumerate*}\n",
       "\\item 297100\n",
       "\\item 12\n",
       "\\end{enumerate*}\n"
      ],
      "text/markdown": [
       "1. 297100\n",
       "2. 12\n",
       "\n",
       "\n"
      ],
      "text/plain": [
       "[1] 297100     12"
      ]
     },
     "metadata": {},
     "output_type": "display_data"
    },
    {
     "data": {
      "text/html": [
       "<table>\n",
       "<caption>A data.frame: 6 × 12</caption>\n",
       "<thead>\n",
       "\t<tr><th></th><th scope=col>actual</th><th scope=col>pred_df_seg2_glm</th><th scope=col>pred_df_seg_glm</th><th scope=col>pred_df_agg_glm</th><th scope=col>pred_df_seg2_rf</th><th scope=col>pred_df_seg_rf</th><th scope=col>pred_df_agg_rf</th><th scope=col>tld_registrar_index</th><th scope=col>reseller</th><th scope=col>n</th><th scope=col>domain_id</th><th scope=col>domain</th></tr>\n",
       "\t<tr><th></th><th scope=col>&lt;fct&gt;</th><th scope=col>&lt;dbl&gt;</th><th scope=col>&lt;dbl&gt;</th><th scope=col>&lt;dbl&gt;</th><th scope=col>&lt;dbl&gt;</th><th scope=col>&lt;dbl&gt;</th><th scope=col>&lt;dbl&gt;</th><th scope=col>&lt;fct&gt;</th><th scope=col>&lt;fct&gt;</th><th scope=col>&lt;int&gt;</th><th scope=col>&lt;int&gt;</th><th scope=col>&lt;fct&gt;</th></tr>\n",
       "</thead>\n",
       "<tbody>\n",
       "\t<tr><th scope=row>1</th><td>Not Renewd</td><td>0.6470992</td><td>0.558</td><td>0.419</td><td>0.4765771</td><td>0.4545657</td><td>0.5386137</td><td>sitegmo</td><td>gmo</td><td>106569</td><td>44295183</td><td>kagen.site           </td></tr>\n",
       "\t<tr><th scope=row>2</th><td>Renewed   </td><td>0.6762222</td><td>0.567</td><td>0.397</td><td>0.5410605</td><td>0.5769973</td><td>0.6091513</td><td>sitegmo</td><td>gmo</td><td>106569</td><td>44573611</td><td>designlab.site       </td></tr>\n",
       "\t<tr><th scope=row>3</th><td>Renewed   </td><td>0.9098495</td><td>0.835</td><td>0.410</td><td>0.7018108</td><td>0.6343404</td><td>0.6886680</td><td>sitegmo</td><td>gmo</td><td>106569</td><td>45304858</td><td>hokatu-blog.site     </td></tr>\n",
       "\t<tr><th scope=row>4</th><td>Renewed   </td><td>0.6029350</td><td>0.515</td><td>0.402</td><td>0.2414726</td><td>0.3999603</td><td>0.3464197</td><td>sitegmo</td><td>gmo</td><td>106569</td><td>46235129</td><td>suzuya.site          </td></tr>\n",
       "\t<tr><th scope=row>5</th><td>Not Renewd</td><td>0.9311321</td><td>0.863</td><td>0.417</td><td>0.7749462</td><td>0.7039504</td><td>0.6711740</td><td>sitegmo</td><td>gmo</td><td>106569</td><td>46276970</td><td>wins-company.site    </td></tr>\n",
       "\t<tr><th scope=row>6</th><td>Renewed   </td><td>0.9347869</td><td>0.861</td><td>0.391</td><td>0.6376848</td><td>0.6566740</td><td>0.6717237</td><td>sitegmo</td><td>gmo</td><td>106569</td><td>47809960</td><td>yamatoku-company.site</td></tr>\n",
       "</tbody>\n",
       "</table>\n"
      ],
      "text/latex": [
       "A data.frame: 6 × 12\n",
       "\\begin{tabular}{r|llllllllllll}\n",
       "  & actual & pred\\_df\\_seg2\\_glm & pred\\_df\\_seg\\_glm & pred\\_df\\_agg\\_glm & pred\\_df\\_seg2\\_rf & pred\\_df\\_seg\\_rf & pred\\_df\\_agg\\_rf & tld\\_registrar\\_index & reseller & n & domain\\_id & domain\\\\\n",
       "  & <fct> & <dbl> & <dbl> & <dbl> & <dbl> & <dbl> & <dbl> & <fct> & <fct> & <int> & <int> & <fct>\\\\\n",
       "\\hline\n",
       "\t1 & Not Renewd & 0.6470992 & 0.558 & 0.419 & 0.4765771 & 0.4545657 & 0.5386137 & sitegmo & gmo & 106569 & 44295183 & kagen.site           \\\\\n",
       "\t2 & Renewed    & 0.6762222 & 0.567 & 0.397 & 0.5410605 & 0.5769973 & 0.6091513 & sitegmo & gmo & 106569 & 44573611 & designlab.site       \\\\\n",
       "\t3 & Renewed    & 0.9098495 & 0.835 & 0.410 & 0.7018108 & 0.6343404 & 0.6886680 & sitegmo & gmo & 106569 & 45304858 & hokatu-blog.site     \\\\\n",
       "\t4 & Renewed    & 0.6029350 & 0.515 & 0.402 & 0.2414726 & 0.3999603 & 0.3464197 & sitegmo & gmo & 106569 & 46235129 & suzuya.site          \\\\\n",
       "\t5 & Not Renewd & 0.9311321 & 0.863 & 0.417 & 0.7749462 & 0.7039504 & 0.6711740 & sitegmo & gmo & 106569 & 46276970 & wins-company.site    \\\\\n",
       "\t6 & Renewed    & 0.9347869 & 0.861 & 0.391 & 0.6376848 & 0.6566740 & 0.6717237 & sitegmo & gmo & 106569 & 47809960 & yamatoku-company.site\\\\\n",
       "\\end{tabular}\n"
      ],
      "text/markdown": [
       "\n",
       "A data.frame: 6 × 12\n",
       "\n",
       "| <!--/--> | actual &lt;fct&gt; | pred_df_seg2_glm &lt;dbl&gt; | pred_df_seg_glm &lt;dbl&gt; | pred_df_agg_glm &lt;dbl&gt; | pred_df_seg2_rf &lt;dbl&gt; | pred_df_seg_rf &lt;dbl&gt; | pred_df_agg_rf &lt;dbl&gt; | tld_registrar_index &lt;fct&gt; | reseller &lt;fct&gt; | n &lt;int&gt; | domain_id &lt;int&gt; | domain &lt;fct&gt; |\n",
       "|---|---|---|---|---|---|---|---|---|---|---|---|---|\n",
       "| 1 | Not Renewd | 0.6470992 | 0.558 | 0.419 | 0.4765771 | 0.4545657 | 0.5386137 | sitegmo | gmo | 106569 | 44295183 | kagen.site            |\n",
       "| 2 | Renewed    | 0.6762222 | 0.567 | 0.397 | 0.5410605 | 0.5769973 | 0.6091513 | sitegmo | gmo | 106569 | 44573611 | designlab.site        |\n",
       "| 3 | Renewed    | 0.9098495 | 0.835 | 0.410 | 0.7018108 | 0.6343404 | 0.6886680 | sitegmo | gmo | 106569 | 45304858 | hokatu-blog.site      |\n",
       "| 4 | Renewed    | 0.6029350 | 0.515 | 0.402 | 0.2414726 | 0.3999603 | 0.3464197 | sitegmo | gmo | 106569 | 46235129 | suzuya.site           |\n",
       "| 5 | Not Renewd | 0.9311321 | 0.863 | 0.417 | 0.7749462 | 0.7039504 | 0.6711740 | sitegmo | gmo | 106569 | 46276970 | wins-company.site     |\n",
       "| 6 | Renewed    | 0.9347869 | 0.861 | 0.391 | 0.6376848 | 0.6566740 | 0.6717237 | sitegmo | gmo | 106569 | 47809960 | yamatoku-company.site |\n",
       "\n"
      ],
      "text/plain": [
       "  actual     pred_df_seg2_glm pred_df_seg_glm pred_df_agg_glm pred_df_seg2_rf\n",
       "1 Not Renewd 0.6470992        0.558           0.419           0.4765771      \n",
       "2 Renewed    0.6762222        0.567           0.397           0.5410605      \n",
       "3 Renewed    0.9098495        0.835           0.410           0.7018108      \n",
       "4 Renewed    0.6029350        0.515           0.402           0.2414726      \n",
       "5 Not Renewd 0.9311321        0.863           0.417           0.7749462      \n",
       "6 Renewed    0.9347869        0.861           0.391           0.6376848      \n",
       "  pred_df_seg_rf pred_df_agg_rf tld_registrar_index reseller n      domain_id\n",
       "1 0.4545657      0.5386137      sitegmo             gmo      106569 44295183 \n",
       "2 0.5769973      0.6091513      sitegmo             gmo      106569 44573611 \n",
       "3 0.6343404      0.6886680      sitegmo             gmo      106569 45304858 \n",
       "4 0.3999603      0.3464197      sitegmo             gmo      106569 46235129 \n",
       "5 0.7039504      0.6711740      sitegmo             gmo      106569 46276970 \n",
       "6 0.6566740      0.6717237      sitegmo             gmo      106569 47809960 \n",
       "  domain               \n",
       "1 kagen.site           \n",
       "2 designlab.site       \n",
       "3 hokatu-blog.site     \n",
       "4 suzuya.site          \n",
       "5 wins-company.site    \n",
       "6 yamatoku-company.site"
      ]
     },
     "metadata": {},
     "output_type": "display_data"
    }
   ],
   "source": [
    "predictions_df <- read.csv(\"../../data/tld_reseller_compare_predictions.csv\")\n",
    "\n",
    "dim(predictions_df)\n",
    "head(predictions_df)"
   ]
  },
  {
   "cell_type": "code",
   "execution_count": 6,
   "metadata": {},
   "outputs": [
    {
     "data": {
      "text/html": [
       "<table>\n",
       "<caption>A grouped_df: 6 × 2</caption>\n",
       "<thead>\n",
       "\t<tr><th scope=col>domain_id</th><th scope=col>n</th></tr>\n",
       "\t<tr><th scope=col>&lt;int&gt;</th><th scope=col>&lt;dbl&gt;</th></tr>\n",
       "</thead>\n",
       "<tbody>\n",
       "\t<tr><td>105791781</td><td>1</td></tr>\n",
       "\t<tr><td>105791786</td><td>1</td></tr>\n",
       "\t<tr><td>105791806</td><td>1</td></tr>\n",
       "\t<tr><td>105791851</td><td>1</td></tr>\n",
       "\t<tr><td>105791871</td><td>1</td></tr>\n",
       "\t<tr><td>       NA</td><td>1</td></tr>\n",
       "</tbody>\n",
       "</table>\n"
      ],
      "text/latex": [
       "A grouped\\_df: 6 × 2\n",
       "\\begin{tabular}{ll}\n",
       " domain\\_id & n\\\\\n",
       " <int> & <dbl>\\\\\n",
       "\\hline\n",
       "\t 105791781 & 1\\\\\n",
       "\t 105791786 & 1\\\\\n",
       "\t 105791806 & 1\\\\\n",
       "\t 105791851 & 1\\\\\n",
       "\t 105791871 & 1\\\\\n",
       "\t        NA & 1\\\\\n",
       "\\end{tabular}\n"
      ],
      "text/markdown": [
       "\n",
       "A grouped_df: 6 × 2\n",
       "\n",
       "| domain_id &lt;int&gt; | n &lt;dbl&gt; |\n",
       "|---|---|\n",
       "| 105791781 | 1 |\n",
       "| 105791786 | 1 |\n",
       "| 105791806 | 1 |\n",
       "| 105791851 | 1 |\n",
       "| 105791871 | 1 |\n",
       "|        NA | 1 |\n",
       "\n"
      ],
      "text/plain": [
       "  domain_id n\n",
       "1 105791781 1\n",
       "2 105791786 1\n",
       "3 105791806 1\n",
       "4 105791851 1\n",
       "5 105791871 1\n",
       "6        NA 1"
      ]
     },
     "metadata": {},
     "output_type": "display_data"
    }
   ],
   "source": [
    "predictions_df %>% group_by(domain_id) %>% count(wt = 1) %>% arrange(n) %>% tail()"
   ]
  },
  {
   "cell_type": "code",
   "execution_count": 7,
   "metadata": {},
   "outputs": [
    {
     "data": {
      "text/html": [
       "<style>\n",
       ".list-inline {list-style: none; margin:0; padding: 0}\n",
       ".list-inline>li {display: inline-block}\n",
       ".list-inline>li:not(:last-child)::after {content: \"\\00b7\"; padding: 0 .5ex}\n",
       "</style>\n",
       "<ol class=list-inline><li>296709</li><li>12</li></ol>\n"
      ],
      "text/latex": [
       "\\begin{enumerate*}\n",
       "\\item 296709\n",
       "\\item 12\n",
       "\\end{enumerate*}\n"
      ],
      "text/markdown": [
       "1. 296709\n",
       "2. 12\n",
       "\n",
       "\n"
      ],
      "text/plain": [
       "[1] 296709     12"
      ]
     },
     "metadata": {},
     "output_type": "display_data"
    }
   ],
   "source": [
    "predictions_df <- predictions_df %>% filter(!is.na(domain_id))\n",
    "dim(predictions_df)"
   ]
  },
  {
   "cell_type": "markdown",
   "metadata": {},
   "source": [
    "# Generate test_data_op"
   ]
  },
  {
   "cell_type": "code",
   "execution_count": 8,
   "metadata": {},
   "outputs": [
    {
     "data": {
      "text/html": [
       "<style>\n",
       ".list-inline {list-style: none; margin:0; padding: 0}\n",
       ".list-inline>li {display: inline-block}\n",
       ".list-inline>li:not(:last-child)::after {content: \"\\00b7\"; padding: 0 .5ex}\n",
       "</style>\n",
       "<ol class=list-inline><li>296797</li><li>39</li></ol>\n"
      ],
      "text/latex": [
       "\\begin{enumerate*}\n",
       "\\item 296797\n",
       "\\item 39\n",
       "\\end{enumerate*}\n"
      ],
      "text/markdown": [
       "1. 296797\n",
       "2. 39\n",
       "\n",
       "\n"
      ],
      "text/plain": [
       "[1] 296797     39"
      ]
     },
     "metadata": {},
     "output_type": "display_data"
    },
    {
     "data": {
      "text/html": [
       "<table>\n",
       "<caption>A data.table: 6 × 39</caption>\n",
       "<thead>\n",
       "\t<tr><th scope=col>renewal_type</th><th scope=col>renewed_count</th><th scope=col>expiry_date</th><th scope=col>domain_id</th><th scope=col>domain</th><th scope=col>creation_date</th><th scope=col>status</th><th scope=col>tld</th><th scope=col>registrar</th><th scope=col>reseller</th><th scope=col>reseller_country</th><th scope=col>region</th><th scope=col>reg_period</th><th scope=col>registrant_country</th><th scope=col>renewal_status</th><th scope=col>renew_mbg</th><th scope=col>renew_type</th><th scope=col>autorenew_type</th><th scope=col>renew_date</th><th scope=col>renew_registrar</th><th scope=col>renew_reseller</th><th scope=col>reg_revenue</th><th scope=col>reg_arpt</th><th scope=col>renew_period</th><th scope=col>renew_domain_revenue</th><th scope=col>renew_arpt</th><th scope=col>reg_arpt_org</th><th scope=col>tld_registrar_index</th><th scope=col>sld</th><th scope=col>sld_type</th><th scope=col>sld_length</th><th scope=col>sld_type2</th><th scope=col>day_domains</th><th scope=col>log_reg_arpt</th><th scope=col>gibb_score</th><th scope=col>pattern</th><th scope=col>cluster</th><th scope=col>pattern_score</th><th scope=col>pattern_domain_count</th></tr>\n",
       "\t<tr><th scope=col>&lt;chr&gt;</th><th scope=col>&lt;int&gt;</th><th scope=col>&lt;date&gt;</th><th scope=col>&lt;int&gt;</th><th scope=col>&lt;chr&gt;</th><th scope=col>&lt;date&gt;</th><th scope=col>&lt;chr&gt;</th><th scope=col>&lt;fct&gt;</th><th scope=col>&lt;chr&gt;</th><th scope=col>&lt;chr&gt;</th><th scope=col>&lt;chr&gt;</th><th scope=col>&lt;chr&gt;</th><th scope=col>&lt;int&gt;</th><th scope=col>&lt;chr&gt;</th><th scope=col>&lt;fct&gt;</th><th scope=col>&lt;int&gt;</th><th scope=col>&lt;chr&gt;</th><th scope=col>&lt;chr&gt;</th><th scope=col>&lt;date&gt;</th><th scope=col>&lt;chr&gt;</th><th scope=col>&lt;chr&gt;</th><th scope=col>&lt;dbl&gt;</th><th scope=col>&lt;dbl&gt;</th><th scope=col>&lt;int&gt;</th><th scope=col>&lt;dbl&gt;</th><th scope=col>&lt;dbl&gt;</th><th scope=col>&lt;dbl&gt;</th><th scope=col>&lt;chr&gt;</th><th scope=col>&lt;chr&gt;</th><th scope=col>&lt;fct&gt;</th><th scope=col>&lt;int&gt;</th><th scope=col>&lt;chr&gt;</th><th scope=col>&lt;int&gt;</th><th scope=col>&lt;dbl&gt;</th><th scope=col>&lt;dbl&gt;</th><th scope=col>&lt;chr&gt;</th><th scope=col>&lt;chr&gt;</th><th scope=col>&lt;dbl&gt;</th><th scope=col>&lt;int&gt;</th></tr>\n",
       "</thead>\n",
       "<tbody>\n",
       "\t<tr><td>FirstTime</td><td>1</td><td>2020-01-22</td><td> 91639803</td><td><span style=white-space:pre-wrap>segeln.fun   </span></td><td>2019-01-22</td><td>Active</td><td>fun</td><td><span style=white-space:pre-wrap>1&amp;1 internet    </span></td><td><span style=white-space:pre-wrap>1&amp;1 internet    </span></td><td>Germany</td><td>Non China</td><td>1</td><td>NA</td><td><span style=white-space:pre-wrap>Renewed   </span></td><td>0</td><td>auto-renewal</td><td><span style=white-space:pre-wrap>realized  </span></td><td>2020-01-22</td><td><span style=white-space:pre-wrap>1&amp;1 Internet    </span></td><td><span style=white-space:pre-wrap>1&amp;1 Internet    </span></td><td>15</td><td>15</td><td>1</td><td>15</td><td>15</td><td>15</td><td><span style=white-space:pre-wrap>fun1&amp;1 internet    </span></td><td><span style=white-space:pre-wrap>segeln   </span></td><td>l</td><td>6</td><td>6l</td><td>1</td><td>2.708050</td><td>2.23</td><td><span style=white-space:pre-wrap>segeln   </span></td><td>1</td><td>1</td><td>1</td></tr>\n",
       "\t<tr><td>FirstTime</td><td>1</td><td>2020-03-07</td><td> 95819759</td><td>harzhotel.fun</td><td>2019-03-07</td><td>Active</td><td>fun</td><td><span style=white-space:pre-wrap>1&amp;1 internet    </span></td><td><span style=white-space:pre-wrap>1&amp;1 internet    </span></td><td>Germany</td><td>Non China</td><td>1</td><td>NA</td><td><span style=white-space:pre-wrap>Renewed   </span></td><td>0</td><td>auto-renewal</td><td><span style=white-space:pre-wrap>realized  </span></td><td>2020-03-07</td><td><span style=white-space:pre-wrap>1&amp;1 Internet    </span></td><td><span style=white-space:pre-wrap>1&amp;1 Internet    </span></td><td>15</td><td>15</td><td>1</td><td>15</td><td>15</td><td>15</td><td><span style=white-space:pre-wrap>fun1&amp;1 internet    </span></td><td>harzhotel</td><td>l</td><td>9</td><td>9l</td><td>1</td><td>2.708050</td><td>3.45</td><td>harzhotel</td><td>1</td><td>1</td><td>1</td></tr>\n",
       "\t<tr><td>FirstTime</td><td>1</td><td>2020-01-15</td><td> 91044973</td><td>movistar.fun </td><td>2019-01-15</td><td>Active</td><td>fun</td><td>10dencehispahard</td><td>10dencehispahard</td><td>Spain  </td><td>Non China</td><td>1</td><td>NA</td><td>Not Renewd</td><td>0</td><td>auto-renewal</td><td>unrealized</td><td>2020-01-15</td><td>10dencehispahard</td><td>10dencehispahard</td><td>15</td><td>15</td><td>1</td><td>15</td><td>15</td><td>15</td><td>fun10dencehispahard</td><td>movistar </td><td>l</td><td>8</td><td>8l</td><td>1</td><td>2.708050</td><td>8.62</td><td>movistar </td><td>1</td><td>1</td><td>1</td></tr>\n",
       "\t<tr><td>FirstTime</td><td>1</td><td>2020-02-01</td><td> 92472913</td><td>kuinik.fun   </td><td>2019-02-01</td><td>Active</td><td>fun</td><td>10dencehispahard</td><td>10dencehispahard</td><td>Spain  </td><td>Non China</td><td>1</td><td>NA</td><td>Not Renewd</td><td>0</td><td>auto-renewal</td><td>unrealized</td><td>2020-02-01</td><td>10dencehispahard</td><td>10dencehispahard</td><td>15</td><td>15</td><td>1</td><td>15</td><td>15</td><td>15</td><td>fun10dencehispahard</td><td>kuinik   </td><td>l</td><td>6</td><td>6l</td><td>1</td><td>2.708050</td><td>3.13</td><td>kuinik   </td><td>1</td><td>1</td><td>1</td></tr>\n",
       "\t<tr><td>FirstTime</td><td>1</td><td>2020-01-21</td><td> 91532433</td><td>bulgari.fun  </td><td>2019-01-21</td><td>Active</td><td>fun</td><td>1api            </td><td>1api            </td><td>Germany</td><td>Non China</td><td>1</td><td>NA</td><td>Renewed   </td><td>0</td><td>auto-renewal</td><td>realized  </td><td>2020-01-21</td><td>1API            </td><td>1API            </td><td> 5</td><td> 5</td><td>1</td><td>15</td><td>15</td><td> 5</td><td>fun1api            </td><td>bulgari  </td><td>l</td><td>7</td><td>7l</td><td>1</td><td>1.609438</td><td>4.51</td><td>bulgari  </td><td>1</td><td>1</td><td>1</td></tr>\n",
       "\t<tr><td>FirstTime</td><td>1</td><td>2020-04-24</td><td>101717674</td><td>gotsome.fun  </td><td>2019-04-24</td><td>Active</td><td>fun</td><td>1api            </td><td>1api            </td><td>Germany</td><td>Non China</td><td>1</td><td>NA</td><td>Not Renewd</td><td>0</td><td>auto-renewal</td><td>unrealized</td><td>2020-04-24</td><td>1API            </td><td>1API            </td><td> 5</td><td> 5</td><td>1</td><td>15</td><td>15</td><td> 5</td><td>fun1api            </td><td>gotsome  </td><td>l</td><td>7</td><td>7l</td><td>1</td><td>1.609438</td><td>6.09</td><td>gotsome  </td><td>1</td><td>1</td><td>1</td></tr>\n",
       "</tbody>\n",
       "</table>\n"
      ],
      "text/latex": [
       "A data.table: 6 × 39\n",
       "\\begin{tabular}{lllllllllllllllllllllllllllllllllllllll}\n",
       " renewal\\_type & renewed\\_count & expiry\\_date & domain\\_id & domain & creation\\_date & status & tld & registrar & reseller & reseller\\_country & region & reg\\_period & registrant\\_country & renewal\\_status & renew\\_mbg & renew\\_type & autorenew\\_type & renew\\_date & renew\\_registrar & renew\\_reseller & reg\\_revenue & reg\\_arpt & renew\\_period & renew\\_domain\\_revenue & renew\\_arpt & reg\\_arpt\\_org & tld\\_registrar\\_index & sld & sld\\_type & sld\\_length & sld\\_type2 & day\\_domains & log\\_reg\\_arpt & gibb\\_score & pattern & cluster & pattern\\_score & pattern\\_domain\\_count\\\\\n",
       " <chr> & <int> & <date> & <int> & <chr> & <date> & <chr> & <fct> & <chr> & <chr> & <chr> & <chr> & <int> & <chr> & <fct> & <int> & <chr> & <chr> & <date> & <chr> & <chr> & <dbl> & <dbl> & <int> & <dbl> & <dbl> & <dbl> & <chr> & <chr> & <fct> & <int> & <chr> & <int> & <dbl> & <dbl> & <chr> & <chr> & <dbl> & <int>\\\\\n",
       "\\hline\n",
       "\t FirstTime & 1 & 2020-01-22 &  91639803 & segeln.fun    & 2019-01-22 & Active & fun & 1\\&1 internet     & 1\\&1 internet     & Germany & Non China & 1 & NA & Renewed    & 0 & auto-renewal & realized   & 2020-01-22 & 1\\&1 Internet     & 1\\&1 Internet     & 15 & 15 & 1 & 15 & 15 & 15 & fun1\\&1 internet     & segeln    & l & 6 & 6l & 1 & 2.708050 & 2.23 & segeln    & 1 & 1 & 1\\\\\n",
       "\t FirstTime & 1 & 2020-03-07 &  95819759 & harzhotel.fun & 2019-03-07 & Active & fun & 1\\&1 internet     & 1\\&1 internet     & Germany & Non China & 1 & NA & Renewed    & 0 & auto-renewal & realized   & 2020-03-07 & 1\\&1 Internet     & 1\\&1 Internet     & 15 & 15 & 1 & 15 & 15 & 15 & fun1\\&1 internet     & harzhotel & l & 9 & 9l & 1 & 2.708050 & 3.45 & harzhotel & 1 & 1 & 1\\\\\n",
       "\t FirstTime & 1 & 2020-01-15 &  91044973 & movistar.fun  & 2019-01-15 & Active & fun & 10dencehispahard & 10dencehispahard & Spain   & Non China & 1 & NA & Not Renewd & 0 & auto-renewal & unrealized & 2020-01-15 & 10dencehispahard & 10dencehispahard & 15 & 15 & 1 & 15 & 15 & 15 & fun10dencehispahard & movistar  & l & 8 & 8l & 1 & 2.708050 & 8.62 & movistar  & 1 & 1 & 1\\\\\n",
       "\t FirstTime & 1 & 2020-02-01 &  92472913 & kuinik.fun    & 2019-02-01 & Active & fun & 10dencehispahard & 10dencehispahard & Spain   & Non China & 1 & NA & Not Renewd & 0 & auto-renewal & unrealized & 2020-02-01 & 10dencehispahard & 10dencehispahard & 15 & 15 & 1 & 15 & 15 & 15 & fun10dencehispahard & kuinik    & l & 6 & 6l & 1 & 2.708050 & 3.13 & kuinik    & 1 & 1 & 1\\\\\n",
       "\t FirstTime & 1 & 2020-01-21 &  91532433 & bulgari.fun   & 2019-01-21 & Active & fun & 1api             & 1api             & Germany & Non China & 1 & NA & Renewed    & 0 & auto-renewal & realized   & 2020-01-21 & 1API             & 1API             &  5 &  5 & 1 & 15 & 15 &  5 & fun1api             & bulgari   & l & 7 & 7l & 1 & 1.609438 & 4.51 & bulgari   & 1 & 1 & 1\\\\\n",
       "\t FirstTime & 1 & 2020-04-24 & 101717674 & gotsome.fun   & 2019-04-24 & Active & fun & 1api             & 1api             & Germany & Non China & 1 & NA & Not Renewd & 0 & auto-renewal & unrealized & 2020-04-24 & 1API             & 1API             &  5 &  5 & 1 & 15 & 15 &  5 & fun1api             & gotsome   & l & 7 & 7l & 1 & 1.609438 & 6.09 & gotsome   & 1 & 1 & 1\\\\\n",
       "\\end{tabular}\n"
      ],
      "text/markdown": [
       "\n",
       "A data.table: 6 × 39\n",
       "\n",
       "| renewal_type &lt;chr&gt; | renewed_count &lt;int&gt; | expiry_date &lt;date&gt; | domain_id &lt;int&gt; | domain &lt;chr&gt; | creation_date &lt;date&gt; | status &lt;chr&gt; | tld &lt;fct&gt; | registrar &lt;chr&gt; | reseller &lt;chr&gt; | reseller_country &lt;chr&gt; | region &lt;chr&gt; | reg_period &lt;int&gt; | registrant_country &lt;chr&gt; | renewal_status &lt;fct&gt; | renew_mbg &lt;int&gt; | renew_type &lt;chr&gt; | autorenew_type &lt;chr&gt; | renew_date &lt;date&gt; | renew_registrar &lt;chr&gt; | renew_reseller &lt;chr&gt; | reg_revenue &lt;dbl&gt; | reg_arpt &lt;dbl&gt; | renew_period &lt;int&gt; | renew_domain_revenue &lt;dbl&gt; | renew_arpt &lt;dbl&gt; | reg_arpt_org &lt;dbl&gt; | tld_registrar_index &lt;chr&gt; | sld &lt;chr&gt; | sld_type &lt;fct&gt; | sld_length &lt;int&gt; | sld_type2 &lt;chr&gt; | day_domains &lt;int&gt; | log_reg_arpt &lt;dbl&gt; | gibb_score &lt;dbl&gt; | pattern &lt;chr&gt; | cluster &lt;chr&gt; | pattern_score &lt;dbl&gt; | pattern_domain_count &lt;int&gt; |\n",
       "|---|---|---|---|---|---|---|---|---|---|---|---|---|---|---|---|---|---|---|---|---|---|---|---|---|---|---|---|---|---|---|---|---|---|---|---|---|---|---|\n",
       "| FirstTime | 1 | 2020-01-22 |  91639803 | segeln.fun    | 2019-01-22 | Active | fun | 1&amp;1 internet     | 1&amp;1 internet     | Germany | Non China | 1 | NA | Renewed    | 0 | auto-renewal | realized   | 2020-01-22 | 1&amp;1 Internet     | 1&amp;1 Internet     | 15 | 15 | 1 | 15 | 15 | 15 | fun1&amp;1 internet     | segeln    | l | 6 | 6l | 1 | 2.708050 | 2.23 | segeln    | 1 | 1 | 1 |\n",
       "| FirstTime | 1 | 2020-03-07 |  95819759 | harzhotel.fun | 2019-03-07 | Active | fun | 1&amp;1 internet     | 1&amp;1 internet     | Germany | Non China | 1 | NA | Renewed    | 0 | auto-renewal | realized   | 2020-03-07 | 1&amp;1 Internet     | 1&amp;1 Internet     | 15 | 15 | 1 | 15 | 15 | 15 | fun1&amp;1 internet     | harzhotel | l | 9 | 9l | 1 | 2.708050 | 3.45 | harzhotel | 1 | 1 | 1 |\n",
       "| FirstTime | 1 | 2020-01-15 |  91044973 | movistar.fun  | 2019-01-15 | Active | fun | 10dencehispahard | 10dencehispahard | Spain   | Non China | 1 | NA | Not Renewd | 0 | auto-renewal | unrealized | 2020-01-15 | 10dencehispahard | 10dencehispahard | 15 | 15 | 1 | 15 | 15 | 15 | fun10dencehispahard | movistar  | l | 8 | 8l | 1 | 2.708050 | 8.62 | movistar  | 1 | 1 | 1 |\n",
       "| FirstTime | 1 | 2020-02-01 |  92472913 | kuinik.fun    | 2019-02-01 | Active | fun | 10dencehispahard | 10dencehispahard | Spain   | Non China | 1 | NA | Not Renewd | 0 | auto-renewal | unrealized | 2020-02-01 | 10dencehispahard | 10dencehispahard | 15 | 15 | 1 | 15 | 15 | 15 | fun10dencehispahard | kuinik    | l | 6 | 6l | 1 | 2.708050 | 3.13 | kuinik    | 1 | 1 | 1 |\n",
       "| FirstTime | 1 | 2020-01-21 |  91532433 | bulgari.fun   | 2019-01-21 | Active | fun | 1api             | 1api             | Germany | Non China | 1 | NA | Renewed    | 0 | auto-renewal | realized   | 2020-01-21 | 1API             | 1API             |  5 |  5 | 1 | 15 | 15 |  5 | fun1api             | bulgari   | l | 7 | 7l | 1 | 1.609438 | 4.51 | bulgari   | 1 | 1 | 1 |\n",
       "| FirstTime | 1 | 2020-04-24 | 101717674 | gotsome.fun   | 2019-04-24 | Active | fun | 1api             | 1api             | Germany | Non China | 1 | NA | Not Renewd | 0 | auto-renewal | unrealized | 2020-04-24 | 1API             | 1API             |  5 |  5 | 1 | 15 | 15 |  5 | fun1api             | gotsome   | l | 7 | 7l | 1 | 1.609438 | 6.09 | gotsome   | 1 | 1 | 1 |\n",
       "\n"
      ],
      "text/plain": [
       "  renewal_type renewed_count expiry_date domain_id domain        creation_date\n",
       "1 FirstTime    1             2020-01-22   91639803 segeln.fun    2019-01-22   \n",
       "2 FirstTime    1             2020-03-07   95819759 harzhotel.fun 2019-03-07   \n",
       "3 FirstTime    1             2020-01-15   91044973 movistar.fun  2019-01-15   \n",
       "4 FirstTime    1             2020-02-01   92472913 kuinik.fun    2019-02-01   \n",
       "5 FirstTime    1             2020-01-21   91532433 bulgari.fun   2019-01-21   \n",
       "6 FirstTime    1             2020-04-24  101717674 gotsome.fun   2019-04-24   \n",
       "  status tld registrar        reseller         reseller_country region   \n",
       "1 Active fun 1&1 internet     1&1 internet     Germany          Non China\n",
       "2 Active fun 1&1 internet     1&1 internet     Germany          Non China\n",
       "3 Active fun 10dencehispahard 10dencehispahard Spain            Non China\n",
       "4 Active fun 10dencehispahard 10dencehispahard Spain            Non China\n",
       "5 Active fun 1api             1api             Germany          Non China\n",
       "6 Active fun 1api             1api             Germany          Non China\n",
       "  reg_period registrant_country renewal_status renew_mbg renew_type  \n",
       "1 1          NA                 Renewed        0         auto-renewal\n",
       "2 1          NA                 Renewed        0         auto-renewal\n",
       "3 1          NA                 Not Renewd     0         auto-renewal\n",
       "4 1          NA                 Not Renewd     0         auto-renewal\n",
       "5 1          NA                 Renewed        0         auto-renewal\n",
       "6 1          NA                 Not Renewd     0         auto-renewal\n",
       "  autorenew_type renew_date renew_registrar  renew_reseller   reg_revenue\n",
       "1 realized       2020-01-22 1&1 Internet     1&1 Internet     15         \n",
       "2 realized       2020-03-07 1&1 Internet     1&1 Internet     15         \n",
       "3 unrealized     2020-01-15 10dencehispahard 10dencehispahard 15         \n",
       "4 unrealized     2020-02-01 10dencehispahard 10dencehispahard 15         \n",
       "5 realized       2020-01-21 1API             1API              5         \n",
       "6 unrealized     2020-04-24 1API             1API              5         \n",
       "  reg_arpt renew_period renew_domain_revenue renew_arpt reg_arpt_org\n",
       "1 15       1            15                   15         15          \n",
       "2 15       1            15                   15         15          \n",
       "3 15       1            15                   15         15          \n",
       "4 15       1            15                   15         15          \n",
       "5  5       1            15                   15          5          \n",
       "6  5       1            15                   15          5          \n",
       "  tld_registrar_index sld       sld_type sld_length sld_type2 day_domains\n",
       "1 fun1&1 internet     segeln    l        6          6l        1          \n",
       "2 fun1&1 internet     harzhotel l        9          9l        1          \n",
       "3 fun10dencehispahard movistar  l        8          8l        1          \n",
       "4 fun10dencehispahard kuinik    l        6          6l        1          \n",
       "5 fun1api             bulgari   l        7          7l        1          \n",
       "6 fun1api             gotsome   l        7          7l        1          \n",
       "  log_reg_arpt gibb_score pattern   cluster pattern_score pattern_domain_count\n",
       "1 2.708050     2.23       segeln    1       1             1                   \n",
       "2 2.708050     3.45       harzhotel 1       1             1                   \n",
       "3 2.708050     8.62       movistar  1       1             1                   \n",
       "4 2.708050     3.13       kuinik    1       1             1                   \n",
       "5 1.609438     4.51       bulgari   1       1             1                   \n",
       "6 1.609438     6.09       gotsome   1       1             1                   "
      ]
     },
     "metadata": {},
     "output_type": "display_data"
    }
   ],
   "source": [
    "dim(expiry_test_df_1)\n",
    "head(expiry_test_df_1)"
   ]
  },
  {
   "cell_type": "code",
   "execution_count": 9,
   "metadata": {},
   "outputs": [
    {
     "data": {
      "text/html": [
       "<table>\n",
       "<caption>A tibble: 6 × 2</caption>\n",
       "<thead>\n",
       "\t<tr><th scope=col>domain_id</th><th scope=col>n</th></tr>\n",
       "\t<tr><th scope=col>&lt;int&gt;</th><th scope=col>&lt;int&gt;</th></tr>\n",
       "</thead>\n",
       "<tbody>\n",
       "\t<tr><td>1018925</td><td>1</td></tr>\n",
       "\t<tr><td>1837805</td><td>1</td></tr>\n",
       "\t<tr><td>2294288</td><td>1</td></tr>\n",
       "\t<tr><td>6752374</td><td>1</td></tr>\n",
       "\t<tr><td>6758279</td><td>1</td></tr>\n",
       "\t<tr><td>6758512</td><td>1</td></tr>\n",
       "</tbody>\n",
       "</table>\n"
      ],
      "text/latex": [
       "A tibble: 6 × 2\n",
       "\\begin{tabular}{ll}\n",
       " domain\\_id & n\\\\\n",
       " <int> & <int>\\\\\n",
       "\\hline\n",
       "\t 1018925 & 1\\\\\n",
       "\t 1837805 & 1\\\\\n",
       "\t 2294288 & 1\\\\\n",
       "\t 6752374 & 1\\\\\n",
       "\t 6758279 & 1\\\\\n",
       "\t 6758512 & 1\\\\\n",
       "\\end{tabular}\n"
      ],
      "text/markdown": [
       "\n",
       "A tibble: 6 × 2\n",
       "\n",
       "| domain_id &lt;int&gt; | n &lt;int&gt; |\n",
       "|---|---|\n",
       "| 1018925 | 1 |\n",
       "| 1837805 | 1 |\n",
       "| 2294288 | 1 |\n",
       "| 6752374 | 1 |\n",
       "| 6758279 | 1 |\n",
       "| 6758512 | 1 |\n",
       "\n"
      ],
      "text/plain": [
       "  domain_id n\n",
       "1 1018925   1\n",
       "2 1837805   1\n",
       "3 2294288   1\n",
       "4 6752374   1\n",
       "5 6758279   1\n",
       "6 6758512   1"
      ]
     },
     "metadata": {},
     "output_type": "display_data"
    }
   ],
   "source": [
    "expiry_test_df_1 %>% group_by(domain_id) %>% tally() %>% arrange(n) %>% head()"
   ]
  },
  {
   "cell_type": "code",
   "execution_count": 10,
   "metadata": {},
   "outputs": [
    {
     "data": {
      "text/html": [
       "<style>\n",
       ".list-inline {list-style: none; margin:0; padding: 0}\n",
       ".list-inline>li {display: inline-block}\n",
       ".list-inline>li:not(:last-child)::after {content: \"\\00b7\"; padding: 0 .5ex}\n",
       "</style>\n",
       "<ol class=list-inline><li>296797</li><li>47</li></ol>\n"
      ],
      "text/latex": [
       "\\begin{enumerate*}\n",
       "\\item 296797\n",
       "\\item 47\n",
       "\\end{enumerate*}\n"
      ],
      "text/markdown": [
       "1. 296797\n",
       "2. 47\n",
       "\n",
       "\n"
      ],
      "text/plain": [
       "[1] 296797     47"
      ]
     },
     "metadata": {},
     "output_type": "display_data"
    }
   ],
   "source": [
    "expiry_test_predictions <- merge(expiry_test_df_1, \n",
    "      predictions_df,\n",
    "     on = 'domain_id', all=TRUE)\n",
    "dim(expiry_test_predictions)"
   ]
  },
  {
   "cell_type": "code",
   "execution_count": 11,
   "metadata": {},
   "outputs": [
    {
     "data": {
      "text/html": [
       "<style>\n",
       ".list-inline {list-style: none; margin:0; padding: 0}\n",
       ".list-inline>li {display: inline-block}\n",
       ".list-inline>li:not(:last-child)::after {content: \"\\00b7\"; padding: 0 .5ex}\n",
       "</style>\n",
       "<ol class=list-inline><li>88</li><li>47</li></ol>\n"
      ],
      "text/latex": [
       "\\begin{enumerate*}\n",
       "\\item 88\n",
       "\\item 47\n",
       "\\end{enumerate*}\n"
      ],
      "text/markdown": [
       "1. 88\n",
       "2. 47\n",
       "\n",
       "\n"
      ],
      "text/plain": [
       "[1] 88 47"
      ]
     },
     "metadata": {},
     "output_type": "display_data"
    }
   ],
   "source": [
    "expiry_test_predictions %>% filter(is.na(n)) %>% dim()"
   ]
  },
  {
   "cell_type": "markdown",
   "metadata": {},
   "source": [
    "# Pull up reseller_geo"
   ]
  },
  {
   "cell_type": "code",
   "execution_count": 12,
   "metadata": {},
   "outputs": [
    {
     "data": {
      "text/html": [
       "<table>\n",
       "<caption>A data.frame: 6 × 7</caption>\n",
       "<thead>\n",
       "\t<tr><th></th><th scope=col>start_date</th><th scope=col>end_date</th><th scope=col>reseller</th><th scope=col>reseller_am</th><th scope=col>reseller_country</th><th scope=col>registrar</th><th scope=col>reseller_geo</th></tr>\n",
       "\t<tr><th></th><th scope=col>&lt;fct&gt;</th><th scope=col>&lt;fct&gt;</th><th scope=col>&lt;fct&gt;</th><th scope=col>&lt;fct&gt;</th><th scope=col>&lt;fct&gt;</th><th scope=col>&lt;fct&gt;</th><th scope=col>&lt;fct&gt;</th></tr>\n",
       "</thead>\n",
       "<tbody>\n",
       "\t<tr><th scope=row>1</th><td>2013-01-01T00:00:00Z</td><td>2019-12-31T00:00:00Z</td><td>NA                 </td><td>Not Assigned</td><td>NA           </td><td>NA                 </td><td>Others       </td></tr>\n",
       "\t<tr><th scope=row>2</th><td>2013-01-01T00:00:00Z</td><td>2019-12-31T00:00:00Z</td><td>007names           </td><td>Varun       </td><td>United States</td><td>007names           </td><td>United States</td></tr>\n",
       "\t<tr><th scope=row>3</th><td>2013-01-01T00:00:00Z</td><td>2019-12-31T00:00:00Z</td><td>0101 internet      </td><td>Not Assigned</td><td>Hong Kong    </td><td>0101 internet      </td><td>China        </td></tr>\n",
       "\t<tr><th scope=row>4</th><td>2013-01-01T00:00:00Z</td><td>2019-12-31T00:00:00Z</td><td><span style=white-space:pre-wrap>1&amp;1 internet       </span></td><td><span style=white-space:pre-wrap>Neha        </span></td><td><span style=white-space:pre-wrap>Germany      </span></td><td><span style=white-space:pre-wrap>1&amp;1 internet       </span></td><td><span style=white-space:pre-wrap>EU           </span></td></tr>\n",
       "\t<tr><th scope=row>5</th><td>2018-01-01T00:00:00Z</td><td>2019-12-31T00:00:00Z</td><td>101 domain         </td><td>Divya-Brands</td><td>United States</td><td>101 domain         </td><td>United States</td></tr>\n",
       "\t<tr><th scope=row>6</th><td>2013-01-01T00:00:00Z</td><td>2019-12-31T00:00:00Z</td><td>101domain discovery</td><td>Not Assigned</td><td>Germany      </td><td>101domain discovery</td><td>EU           </td></tr>\n",
       "</tbody>\n",
       "</table>\n"
      ],
      "text/latex": [
       "A data.frame: 6 × 7\n",
       "\\begin{tabular}{r|lllllll}\n",
       "  & start\\_date & end\\_date & reseller & reseller\\_am & reseller\\_country & registrar & reseller\\_geo\\\\\n",
       "  & <fct> & <fct> & <fct> & <fct> & <fct> & <fct> & <fct>\\\\\n",
       "\\hline\n",
       "\t1 & 2013-01-01T00:00:00Z & 2019-12-31T00:00:00Z & NA                  & Not Assigned & NA            & NA                  & Others       \\\\\n",
       "\t2 & 2013-01-01T00:00:00Z & 2019-12-31T00:00:00Z & 007names            & Varun        & United States & 007names            & United States\\\\\n",
       "\t3 & 2013-01-01T00:00:00Z & 2019-12-31T00:00:00Z & 0101 internet       & Not Assigned & Hong Kong     & 0101 internet       & China        \\\\\n",
       "\t4 & 2013-01-01T00:00:00Z & 2019-12-31T00:00:00Z & 1\\&1 internet        & Neha         & Germany       & 1\\&1 internet        & EU           \\\\\n",
       "\t5 & 2018-01-01T00:00:00Z & 2019-12-31T00:00:00Z & 101 domain          & Divya-Brands & United States & 101 domain          & United States\\\\\n",
       "\t6 & 2013-01-01T00:00:00Z & 2019-12-31T00:00:00Z & 101domain discovery & Not Assigned & Germany       & 101domain discovery & EU           \\\\\n",
       "\\end{tabular}\n"
      ],
      "text/markdown": [
       "\n",
       "A data.frame: 6 × 7\n",
       "\n",
       "| <!--/--> | start_date &lt;fct&gt; | end_date &lt;fct&gt; | reseller &lt;fct&gt; | reseller_am &lt;fct&gt; | reseller_country &lt;fct&gt; | registrar &lt;fct&gt; | reseller_geo &lt;fct&gt; |\n",
       "|---|---|---|---|---|---|---|---|\n",
       "| 1 | 2013-01-01T00:00:00Z | 2019-12-31T00:00:00Z | NA                  | Not Assigned | NA            | NA                  | Others        |\n",
       "| 2 | 2013-01-01T00:00:00Z | 2019-12-31T00:00:00Z | 007names            | Varun        | United States | 007names            | United States |\n",
       "| 3 | 2013-01-01T00:00:00Z | 2019-12-31T00:00:00Z | 0101 internet       | Not Assigned | Hong Kong     | 0101 internet       | China         |\n",
       "| 4 | 2013-01-01T00:00:00Z | 2019-12-31T00:00:00Z | 1&amp;1 internet        | Neha         | Germany       | 1&amp;1 internet        | EU            |\n",
       "| 5 | 2018-01-01T00:00:00Z | 2019-12-31T00:00:00Z | 101 domain          | Divya-Brands | United States | 101 domain          | United States |\n",
       "| 6 | 2013-01-01T00:00:00Z | 2019-12-31T00:00:00Z | 101domain discovery | Not Assigned | Germany       | 101domain discovery | EU            |\n",
       "\n"
      ],
      "text/plain": [
       "  start_date           end_date             reseller            reseller_am \n",
       "1 2013-01-01T00:00:00Z 2019-12-31T00:00:00Z NA                  Not Assigned\n",
       "2 2013-01-01T00:00:00Z 2019-12-31T00:00:00Z 007names            Varun       \n",
       "3 2013-01-01T00:00:00Z 2019-12-31T00:00:00Z 0101 internet       Not Assigned\n",
       "4 2013-01-01T00:00:00Z 2019-12-31T00:00:00Z 1&1 internet        Neha        \n",
       "5 2018-01-01T00:00:00Z 2019-12-31T00:00:00Z 101 domain          Divya-Brands\n",
       "6 2013-01-01T00:00:00Z 2019-12-31T00:00:00Z 101domain discovery Not Assigned\n",
       "  reseller_country registrar           reseller_geo \n",
       "1 NA               NA                  Others       \n",
       "2 United States    007names            United States\n",
       "3 Hong Kong        0101 internet       China        \n",
       "4 Germany          1&1 internet        EU           \n",
       "5 United States    101 domain          United States\n",
       "6 Germany          101domain discovery EU           "
      ]
     },
     "metadata": {},
     "output_type": "display_data"
    }
   ],
   "source": [
    "system(\"gsutil cp gs://data_input/PredictiveModelAnalysis_ResellerGeoMap.csv /home/jupyter/local/Domains_202003/data/PredictiveModelAnalysis_ResellerGeoMap.csv\")\n",
    "geoLookupDF <- read.csv(\"/home/jupyter/local/Domains_202003/data/PredictiveModelAnalysis_ResellerGeoMap.csv\")\n",
    "# geoLookupDF <- unique(geoLookupDF[,c('reseller','reseller_country','reseller_geo')])\n",
    "head(geoLookupDF)"
   ]
  },
  {
   "cell_type": "code",
   "execution_count": 13,
   "metadata": {},
   "outputs": [
    {
     "data": {
      "text/html": [
       "<table>\n",
       "<caption>A data.frame: 6 × 7</caption>\n",
       "<thead>\n",
       "\t<tr><th></th><th scope=col>start_date</th><th scope=col>end_date</th><th scope=col>reseller</th><th scope=col>reseller_am</th><th scope=col>reseller_country</th><th scope=col>registrar</th><th scope=col>reseller_geo</th></tr>\n",
       "\t<tr><th></th><th scope=col>&lt;fct&gt;</th><th scope=col>&lt;fct&gt;</th><th scope=col>&lt;fct&gt;</th><th scope=col>&lt;fct&gt;</th><th scope=col>&lt;fct&gt;</th><th scope=col>&lt;fct&gt;</th><th scope=col>&lt;fct&gt;</th></tr>\n",
       "</thead>\n",
       "<tbody>\n",
       "\t<tr><th scope=row>1494</th><td>2013-01-01T00:00:00Z</td><td>2019-12-31T00:00:00Z</td><td>stablehost </td><td>Not Assigned</td><td>NA</td><td>ab name isp</td><td>Others</td></tr>\n",
       "\t<tr><th scope=row>1495</th><td>2013-01-01T00:00:00Z</td><td>2019-12-31T00:00:00Z</td><td>hostinger 2</td><td>Varun       </td><td>NA</td><td>pdr ltd    </td><td>Others</td></tr>\n",
       "\t<tr><th scope=row>1496</th><td>2013-01-01T00:00:00Z</td><td>2019-12-31T00:00:00Z</td><td>top.host   </td><td>Varun       </td><td>NA</td><td>enartia    </td><td>Others</td></tr>\n",
       "\t<tr><th scope=row>1497</th><td>2013-01-01T00:00:00Z</td><td>2019-12-31T00:00:00Z</td><td>fs data    </td><td>Varun       </td><td>NA</td><td>ab name isp</td><td>Others</td></tr>\n",
       "\t<tr><th scope=row>1498</th><td>2013-01-01T00:00:00Z</td><td>2019-12-31T00:00:00Z</td><td>nic.ua     </td><td>Varun       </td><td>NA</td><td>pdr ltd    </td><td>Others</td></tr>\n",
       "\t<tr><th scope=row>1499</th><td>NA                  </td><td>NA                  </td><td>NA         </td><td>NA          </td><td>NA</td><td>NA         </td><td>NA    </td></tr>\n",
       "</tbody>\n",
       "</table>\n"
      ],
      "text/latex": [
       "A data.frame: 6 × 7\n",
       "\\begin{tabular}{r|lllllll}\n",
       "  & start\\_date & end\\_date & reseller & reseller\\_am & reseller\\_country & registrar & reseller\\_geo\\\\\n",
       "  & <fct> & <fct> & <fct> & <fct> & <fct> & <fct> & <fct>\\\\\n",
       "\\hline\n",
       "\t1494 & 2013-01-01T00:00:00Z & 2019-12-31T00:00:00Z & stablehost  & Not Assigned & NA & ab name isp & Others\\\\\n",
       "\t1495 & 2013-01-01T00:00:00Z & 2019-12-31T00:00:00Z & hostinger 2 & Varun        & NA & pdr ltd     & Others\\\\\n",
       "\t1496 & 2013-01-01T00:00:00Z & 2019-12-31T00:00:00Z & top.host    & Varun        & NA & enartia     & Others\\\\\n",
       "\t1497 & 2013-01-01T00:00:00Z & 2019-12-31T00:00:00Z & fs data     & Varun        & NA & ab name isp & Others\\\\\n",
       "\t1498 & 2013-01-01T00:00:00Z & 2019-12-31T00:00:00Z & nic.ua      & Varun        & NA & pdr ltd     & Others\\\\\n",
       "\t1499 & NA                   & NA                   & NA          & NA           & NA & NA          & NA    \\\\\n",
       "\\end{tabular}\n"
      ],
      "text/markdown": [
       "\n",
       "A data.frame: 6 × 7\n",
       "\n",
       "| <!--/--> | start_date &lt;fct&gt; | end_date &lt;fct&gt; | reseller &lt;fct&gt; | reseller_am &lt;fct&gt; | reseller_country &lt;fct&gt; | registrar &lt;fct&gt; | reseller_geo &lt;fct&gt; |\n",
       "|---|---|---|---|---|---|---|---|\n",
       "| 1494 | 2013-01-01T00:00:00Z | 2019-12-31T00:00:00Z | stablehost  | Not Assigned | NA | ab name isp | Others |\n",
       "| 1495 | 2013-01-01T00:00:00Z | 2019-12-31T00:00:00Z | hostinger 2 | Varun        | NA | pdr ltd     | Others |\n",
       "| 1496 | 2013-01-01T00:00:00Z | 2019-12-31T00:00:00Z | top.host    | Varun        | NA | enartia     | Others |\n",
       "| 1497 | 2013-01-01T00:00:00Z | 2019-12-31T00:00:00Z | fs data     | Varun        | NA | ab name isp | Others |\n",
       "| 1498 | 2013-01-01T00:00:00Z | 2019-12-31T00:00:00Z | nic.ua      | Varun        | NA | pdr ltd     | Others |\n",
       "| 1499 | NA                   | NA                   | NA          | NA           | NA | NA          | NA     |\n",
       "\n"
      ],
      "text/plain": [
       "     start_date           end_date             reseller    reseller_am \n",
       "1494 2013-01-01T00:00:00Z 2019-12-31T00:00:00Z stablehost  Not Assigned\n",
       "1495 2013-01-01T00:00:00Z 2019-12-31T00:00:00Z hostinger 2 Varun       \n",
       "1496 2013-01-01T00:00:00Z 2019-12-31T00:00:00Z top.host    Varun       \n",
       "1497 2013-01-01T00:00:00Z 2019-12-31T00:00:00Z fs data     Varun       \n",
       "1498 2013-01-01T00:00:00Z 2019-12-31T00:00:00Z nic.ua      Varun       \n",
       "1499 NA                   NA                   NA          NA          \n",
       "     reseller_country registrar   reseller_geo\n",
       "1494 NA               ab name isp Others      \n",
       "1495 NA               pdr ltd     Others      \n",
       "1496 NA               enartia     Others      \n",
       "1497 NA               ab name isp Others      \n",
       "1498 NA               pdr ltd     Others      \n",
       "1499 NA               NA          NA          "
      ]
     },
     "metadata": {},
     "output_type": "display_data"
    }
   ],
   "source": [
    "tail(geoLookupDF)"
   ]
  },
  {
   "cell_type": "code",
   "execution_count": 14,
   "metadata": {},
   "outputs": [
    {
     "data": {
      "text/html": [
       "<style>\n",
       ".list-inline {list-style: none; margin:0; padding: 0}\n",
       ".list-inline>li {display: inline-block}\n",
       ".list-inline>li:not(:last-child)::after {content: \"\\00b7\"; padding: 0 .5ex}\n",
       "</style>\n",
       "<ol class=list-inline><li>1499</li><li>7</li></ol>\n"
      ],
      "text/latex": [
       "\\begin{enumerate*}\n",
       "\\item 1499\n",
       "\\item 7\n",
       "\\end{enumerate*}\n"
      ],
      "text/markdown": [
       "1. 1499\n",
       "2. 7\n",
       "\n",
       "\n"
      ],
      "text/plain": [
       "[1] 1499    7"
      ]
     },
     "metadata": {},
     "output_type": "display_data"
    },
    {
     "data": {
      "text/html": [
       "<style>\n",
       ".list-inline {list-style: none; margin:0; padding: 0}\n",
       ".list-inline>li {display: inline-block}\n",
       ".list-inline>li:not(:last-child)::after {content: \"\\00b7\"; padding: 0 .5ex}\n",
       "</style>\n",
       "<ol class=list-inline><li>1498</li><li>7</li></ol>\n"
      ],
      "text/latex": [
       "\\begin{enumerate*}\n",
       "\\item 1498\n",
       "\\item 7\n",
       "\\end{enumerate*}\n"
      ],
      "text/markdown": [
       "1. 1498\n",
       "2. 7\n",
       "\n",
       "\n"
      ],
      "text/plain": [
       "[1] 1498    7"
      ]
     },
     "metadata": {},
     "output_type": "display_data"
    }
   ],
   "source": [
    "# need to remove final row with all NAs\n",
    "dim(geoLookupDF)\n",
    "geoLookupDF <- geoLookupDF %>% filter_all(any_vars(!is.na(.)))\n",
    "dim(geoLookupDF)"
   ]
  },
  {
   "cell_type": "markdown",
   "metadata": {},
   "source": [
    "# Add reseller_geo to expiry_test_predictions"
   ]
  },
  {
   "cell_type": "code",
   "execution_count": 15,
   "metadata": {},
   "outputs": [
    {
     "name": "stdout",
     "output_type": "stream",
     "text": [
      "Classes ‘data.table’ and 'data.frame':\t296797 obs. of  2 variables:\n",
      " $ reseller        : chr  \"name.com\" \"gmo\" \"gmo\" \"namecheap\" ...\n",
      " $ reseller_country: chr  \"United States\" \"Japan\" \"Japan\" \"United States\" ...\n",
      " - attr(*, \".internal.selfref\")=<externalptr> \n",
      "'data.frame':\t1498 obs. of  2 variables:\n",
      " $ reseller        : Factor w/ 1473 levels \"007names\",\"0101 internet\",..: NA 1 2 3 4 5 7 6 8 9 ...\n",
      " $ reseller_country: Factor w/ 80 levels \"Africa\",\"Argentina\",..: NA 76 30 24 76 24 13 66 75 53 ...\n"
     ]
    }
   ],
   "source": [
    "expiry_test_predictions %>% select('reseller','reseller_country') %>% str()\n",
    "geoLookupDF %>% select('reseller','reseller_country') %>% str()"
   ]
  },
  {
   "cell_type": "code",
   "execution_count": 16,
   "metadata": {},
   "outputs": [],
   "source": [
    "expiry_test_predictions$reseller <- factor(expiry_test_predictions$reseller)\n",
    "expiry_test_predictions$reseller_country <- factor(expiry_test_predictions$reseller_country)\n",
    "expiry_test_predictions <- as.data.frame(expiry_test_predictions)"
   ]
  },
  {
   "cell_type": "code",
   "execution_count": 17,
   "metadata": {},
   "outputs": [
    {
     "name": "stdout",
     "output_type": "stream",
     "text": [
      "'data.frame':\t296797 obs. of  2 variables:\n",
      " $ reseller        : Factor w/ 280 levels \"1&1 internet\",..: 166 106 106 167 84 180 180 84 84 84 ...\n",
      " $ reseller_country: Factor w/ 53 levels \"\",\"Argentina\",..: 51 25 25 51 51 51 51 51 51 51 ...\n",
      "'data.frame':\t1498 obs. of  2 variables:\n",
      " $ reseller        : Factor w/ 1473 levels \"007names\",\"0101 internet\",..: NA 1 2 3 4 5 7 6 8 9 ...\n",
      " $ reseller_country: Factor w/ 80 levels \"Africa\",\"Argentina\",..: NA 76 30 24 76 24 13 66 75 53 ...\n"
     ]
    }
   ],
   "source": [
    "expiry_test_predictions %>% select('reseller','reseller_country') %>% str()\n",
    "geoLookupDF %>% select('reseller','reseller_country') %>% str()"
   ]
  },
  {
   "cell_type": "code",
   "execution_count": 18,
   "metadata": {},
   "outputs": [
    {
     "data": {
      "text/html": [
       "<style>\n",
       ".list-inline {list-style: none; margin:0; padding: 0}\n",
       ".list-inline>li {display: inline-block}\n",
       ".list-inline>li:not(:last-child)::after {content: \"\\00b7\"; padding: 0 .5ex}\n",
       "</style>\n",
       "<ol class=list-inline><li>296797</li><li>47</li></ol>\n"
      ],
      "text/latex": [
       "\\begin{enumerate*}\n",
       "\\item 296797\n",
       "\\item 47\n",
       "\\end{enumerate*}\n"
      ],
      "text/markdown": [
       "1. 296797\n",
       "2. 47\n",
       "\n",
       "\n"
      ],
      "text/plain": [
       "[1] 296797     47"
      ]
     },
     "metadata": {},
     "output_type": "display_data"
    },
    {
     "data": {
      "text/html": [
       "<style>\n",
       ".list-inline {list-style: none; margin:0; padding: 0}\n",
       ".list-inline>li {display: inline-block}\n",
       ".list-inline>li:not(:last-child)::after {content: \"\\00b7\"; padding: 0 .5ex}\n",
       "</style>\n",
       "<ol class=list-inline><li>297261</li><li>51</li></ol>\n"
      ],
      "text/latex": [
       "\\begin{enumerate*}\n",
       "\\item 297261\n",
       "\\item 51\n",
       "\\end{enumerate*}\n"
      ],
      "text/markdown": [
       "1. 297261\n",
       "2. 51\n",
       "\n",
       "\n"
      ],
      "text/plain": [
       "[1] 297261     51"
      ]
     },
     "metadata": {},
     "output_type": "display_data"
    },
    {
     "data": {
      "text/html": [
       "<table>\n",
       "<caption>A data.frame: 6 × 51</caption>\n",
       "<thead>\n",
       "\t<tr><th></th><th scope=col>reseller</th><th scope=col>registrar</th><th scope=col>reseller_country</th><th scope=col>domain_id</th><th scope=col>domain</th><th scope=col>tld_registrar_index</th><th scope=col>renewal_type</th><th scope=col>renewed_count</th><th scope=col>expiry_date</th><th scope=col>creation_date</th><th scope=col>status</th><th scope=col>tld</th><th scope=col>region</th><th scope=col>reg_period</th><th scope=col>registrant_country</th><th scope=col>renewal_status</th><th scope=col>renew_mbg</th><th scope=col>renew_type</th><th scope=col>autorenew_type</th><th scope=col>renew_date</th><th scope=col>renew_registrar</th><th scope=col>renew_reseller</th><th scope=col>reg_revenue</th><th scope=col>reg_arpt</th><th scope=col>renew_period</th><th scope=col>⋯</th><th scope=col>renew_arpt</th><th scope=col>reg_arpt_org</th><th scope=col>sld</th><th scope=col>sld_type</th><th scope=col>sld_length</th><th scope=col>sld_type2</th><th scope=col>day_domains</th><th scope=col>log_reg_arpt</th><th scope=col>gibb_score</th><th scope=col>pattern</th><th scope=col>cluster</th><th scope=col>pattern_score</th><th scope=col>pattern_domain_count</th><th scope=col>actual</th><th scope=col>pred_df_seg2_glm</th><th scope=col>pred_df_seg_glm</th><th scope=col>pred_df_agg_glm</th><th scope=col>pred_df_seg2_rf</th><th scope=col>pred_df_seg_rf</th><th scope=col>pred_df_agg_rf</th><th scope=col>n</th><th scope=col>start_date</th><th scope=col>end_date</th><th scope=col>reseller_am</th><th scope=col>reseller_geo</th></tr>\n",
       "\t<tr><th></th><th scope=col>&lt;fct&gt;</th><th scope=col>&lt;chr&gt;</th><th scope=col>&lt;fct&gt;</th><th scope=col>&lt;int&gt;</th><th scope=col>&lt;chr&gt;</th><th scope=col>&lt;chr&gt;</th><th scope=col>&lt;chr&gt;</th><th scope=col>&lt;int&gt;</th><th scope=col>&lt;date&gt;</th><th scope=col>&lt;date&gt;</th><th scope=col>&lt;chr&gt;</th><th scope=col>&lt;fct&gt;</th><th scope=col>&lt;chr&gt;</th><th scope=col>&lt;int&gt;</th><th scope=col>&lt;chr&gt;</th><th scope=col>&lt;fct&gt;</th><th scope=col>&lt;int&gt;</th><th scope=col>&lt;chr&gt;</th><th scope=col>&lt;chr&gt;</th><th scope=col>&lt;date&gt;</th><th scope=col>&lt;chr&gt;</th><th scope=col>&lt;chr&gt;</th><th scope=col>&lt;dbl&gt;</th><th scope=col>&lt;dbl&gt;</th><th scope=col>&lt;int&gt;</th><th scope=col>⋯</th><th scope=col>&lt;dbl&gt;</th><th scope=col>&lt;dbl&gt;</th><th scope=col>&lt;chr&gt;</th><th scope=col>&lt;fct&gt;</th><th scope=col>&lt;int&gt;</th><th scope=col>&lt;chr&gt;</th><th scope=col>&lt;int&gt;</th><th scope=col>&lt;dbl&gt;</th><th scope=col>&lt;dbl&gt;</th><th scope=col>&lt;chr&gt;</th><th scope=col>&lt;chr&gt;</th><th scope=col>&lt;dbl&gt;</th><th scope=col>&lt;int&gt;</th><th scope=col>&lt;fct&gt;</th><th scope=col>&lt;dbl&gt;</th><th scope=col>&lt;dbl&gt;</th><th scope=col>&lt;dbl&gt;</th><th scope=col>&lt;dbl&gt;</th><th scope=col>&lt;dbl&gt;</th><th scope=col>&lt;dbl&gt;</th><th scope=col>&lt;int&gt;</th><th scope=col>&lt;fct&gt;</th><th scope=col>&lt;fct&gt;</th><th scope=col>&lt;fct&gt;</th><th scope=col>&lt;fct&gt;</th></tr>\n",
       "</thead>\n",
       "<tbody>\n",
       "\t<tr><th scope=row>1</th><td>1&amp;1 internet</td><td>1&amp;1 internet</td><td>Germany</td><td>92459593</td><td><span style=white-space:pre-wrap>penrosetile.store    </span></td><td>store1&amp;1 internet </td><td>FirstTime</td><td>1</td><td>2020-02-01</td><td>2019-02-01</td><td>Active </td><td>store </td><td>Non China</td><td>1</td><td>NA</td><td><span style=white-space:pre-wrap>Renewed   </span></td><td>0</td><td>auto-renewal</td><td><span style=white-space:pre-wrap>realized  </span></td><td>2020-02-01</td><td>1&amp;1 Internet</td><td>1&amp;1 Internet</td><td>15</td><td>15.0000</td><td> 1</td><td>⋯</td><td>40</td><td>15</td><td><span style=white-space:pre-wrap>penrosetile   </span></td><td><span style=white-space:pre-wrap>l        </span></td><td>11</td><td><span style=white-space:pre-wrap>11l       </span></td><td> 4</td><td> 2.70805</td><td>4.92</td><td>2 </td><td><span style=white-space:pre-wrap>penrosetile   </span></td><td>0.062500000</td><td>1</td><td><span style=white-space:pre-wrap>Renewed   </span></td><td>0.5069604</td><td>0.534</td><td>0.558</td><td>0.4878033</td><td>0.4981100</td><td>0.4763754</td><td> 765</td><td>2013-01-01T00:00:00Z</td><td>2019-12-31T00:00:00Z</td><td>Neha</td><td>EU</td></tr>\n",
       "\t<tr><th scope=row>2</th><td>1&amp;1 internet</td><td>1&amp;1 internet</td><td>Germany</td><td>91070293</td><td>alcantarapalma.online</td><td>online1&amp;1 internet</td><td>FirstTime</td><td>1</td><td>2020-01-15</td><td>2019-01-15</td><td>Active </td><td>online</td><td>Non China</td><td>1</td><td>NA</td><td>Not Renewd</td><td>0</td><td>auto-renewal</td><td>unrealized</td><td>2020-01-15</td><td>1&amp;1 Internet</td><td>1&amp;1 Internet</td><td> 0</td><td> 0.0001</td><td> 1</td><td>⋯</td><td>25</td><td> 0</td><td>alcantarapalma</td><td><span style=white-space:pre-wrap>l        </span></td><td>14</td><td><span style=white-space:pre-wrap>14l       </span></td><td>25</td><td>-9.21034</td><td>5.56</td><td>19</td><td>alcantarapalma</td><td>0.001600000</td><td>1</td><td>Not Renewd</td><td>0.4234759</td><td>0.425</td><td>0.374</td><td>0.5154490</td><td>0.5268478</td><td>0.5192867</td><td>8041</td><td>2013-01-01T00:00:00Z</td><td>2019-12-31T00:00:00Z</td><td>Neha</td><td>EU</td></tr>\n",
       "\t<tr><th scope=row>3</th><td>1&amp;1 internet</td><td>1&amp;1 internet</td><td>Germany</td><td>92243793</td><td><span style=white-space:pre-wrap>layerfarms.online    </span></td><td>online1&amp;1 internet</td><td>FirstTime</td><td>1</td><td>2020-01-30</td><td>2019-01-30</td><td>Active </td><td>online</td><td>Non China</td><td>1</td><td>NA</td><td><span style=white-space:pre-wrap>Renewed   </span></td><td>0</td><td><span style=white-space:pre-wrap>renewal     </span></td><td><span style=white-space:pre-wrap>NA        </span></td><td>2019-05-19</td><td>1&amp;1 Internet</td><td>1&amp;1 Internet</td><td> 1</td><td> 1.0000</td><td> 1</td><td>⋯</td><td>25</td><td> 1</td><td><span style=white-space:pre-wrap>layerfarms    </span></td><td><span style=white-space:pre-wrap>l        </span></td><td>10</td><td><span style=white-space:pre-wrap>10l       </span></td><td> 8</td><td> 0.00000</td><td>4.21</td><td>2 </td><td><span style=white-space:pre-wrap>lryfarms      </span></td><td>0.031250000</td><td>2</td><td><span style=white-space:pre-wrap>Renewed   </span></td><td>0.4671778</td><td>0.485</td><td>0.475</td><td>0.3369761</td><td>0.3348900</td><td>0.3264582</td><td>8041</td><td>2013-01-01T00:00:00Z</td><td>2019-12-31T00:00:00Z</td><td>Neha</td><td>EU</td></tr>\n",
       "\t<tr><th scope=row>4</th><td>1&amp;1 internet</td><td>1&amp;1 internet</td><td>Germany</td><td>92382343</td><td><span style=white-space:pre-wrap>koiunyq.online       </span></td><td>online1&amp;1 internet</td><td>FirstTime</td><td>1</td><td>2020-01-31</td><td>2019-01-31</td><td>Deleted</td><td>online</td><td>Non China</td><td>1</td><td>NA</td><td>Not Renewd</td><td>0</td><td><span style=white-space:pre-wrap>NA          </span></td><td><span style=white-space:pre-wrap>NA        </span></td><td>NA</td><td>Not Assigned</td><td>Not Assigned</td><td> 1</td><td> 1.0000</td><td>NA</td><td>⋯</td><td>NA</td><td> 1</td><td><span style=white-space:pre-wrap>koiunyq       </span></td><td><span style=white-space:pre-wrap>l        </span></td><td> 7</td><td><span style=white-space:pre-wrap>7l        </span></td><td> 9</td><td> 0.00000</td><td>0.62</td><td>1 </td><td><span style=white-space:pre-wrap>koiunyq       </span></td><td>0.012345679</td><td>1</td><td>Not Renewd</td><td>0.5380713</td><td>0.547</td><td>0.508</td><td>0.3168814</td><td>0.3273583</td><td>0.4140139</td><td>8041</td><td>2013-01-01T00:00:00Z</td><td>2019-12-31T00:00:00Z</td><td>Neha</td><td>EU</td></tr>\n",
       "\t<tr><th scope=row>5</th><td>1&amp;1 internet</td><td>1&amp;1 internet</td><td>Germany</td><td>89480877</td><td><span style=white-space:pre-wrap>e-move24.online      </span></td><td>online1&amp;1 internet</td><td>FirstTime</td><td>1</td><td>2020-01-02</td><td>2019-01-02</td><td>Active </td><td>online</td><td>Non China</td><td>1</td><td>NA</td><td><span style=white-space:pre-wrap>Renewed   </span></td><td>0</td><td>auto-renewal</td><td><span style=white-space:pre-wrap>realized  </span></td><td>2020-01-02</td><td>1&amp;1 Internet</td><td>1&amp;1 Internet</td><td> 0</td><td> 0.0001</td><td> 1</td><td>⋯</td><td>25</td><td> 0</td><td><span style=white-space:pre-wrap>e-move24      </span></td><td>hyphen-ln</td><td> 8</td><td>8hyphen-ln</td><td>18</td><td>-9.21034</td><td>8.12</td><td>1 </td><td><span style=white-space:pre-wrap>e-move24      </span></td><td>0.003086420</td><td>1</td><td><span style=white-space:pre-wrap>Renewed   </span></td><td>0.4357224</td><td>0.450</td><td>0.292</td><td>0.5910136</td><td>0.5345685</td><td>0.5278744</td><td>8041</td><td>2013-01-01T00:00:00Z</td><td>2019-12-31T00:00:00Z</td><td>Neha</td><td>EU</td></tr>\n",
       "\t<tr><th scope=row>6</th><td>1&amp;1 internet</td><td>1&amp;1 internet</td><td>Germany</td><td>90751138</td><td>votenigeriang.online </td><td>online1&amp;1 internet</td><td>FirstTime</td><td>1</td><td>2020-01-12</td><td>2019-01-12</td><td>Active </td><td>online</td><td>Non China</td><td>1</td><td>NA</td><td><span style=white-space:pre-wrap>Renewed   </span></td><td>0</td><td>auto-renewal</td><td><span style=white-space:pre-wrap>realized  </span></td><td>2020-01-12</td><td>1&amp;1 Internet</td><td>1&amp;1 Internet</td><td> 0</td><td> 0.0001</td><td> 1</td><td>⋯</td><td>25</td><td> 0</td><td>votenigeriang </td><td><span style=white-space:pre-wrap>l        </span></td><td>13</td><td><span style=white-space:pre-wrap>13l       </span></td><td>22</td><td>-9.21034</td><td>7.36</td><td>4 </td><td>votenigeriang </td><td>0.002066116</td><td>1</td><td><span style=white-space:pre-wrap>Renewed   </span></td><td>0.4415465</td><td>0.444</td><td>0.385</td><td>0.4651246</td><td>0.4706303</td><td>0.4768728</td><td>8041</td><td>2013-01-01T00:00:00Z</td><td>2019-12-31T00:00:00Z</td><td>Neha</td><td>EU</td></tr>\n",
       "</tbody>\n",
       "</table>\n"
      ],
      "text/latex": [
       "A data.frame: 6 × 51\n",
       "\\begin{tabular}{r|lllllllllllllllllllllllllllllllllllllllllllllllllll}\n",
       "  & reseller & registrar & reseller\\_country & domain\\_id & domain & tld\\_registrar\\_index & renewal\\_type & renewed\\_count & expiry\\_date & creation\\_date & status & tld & region & reg\\_period & registrant\\_country & renewal\\_status & renew\\_mbg & renew\\_type & autorenew\\_type & renew\\_date & renew\\_registrar & renew\\_reseller & reg\\_revenue & reg\\_arpt & renew\\_period & ⋯ & renew\\_arpt & reg\\_arpt\\_org & sld & sld\\_type & sld\\_length & sld\\_type2 & day\\_domains & log\\_reg\\_arpt & gibb\\_score & pattern & cluster & pattern\\_score & pattern\\_domain\\_count & actual & pred\\_df\\_seg2\\_glm & pred\\_df\\_seg\\_glm & pred\\_df\\_agg\\_glm & pred\\_df\\_seg2\\_rf & pred\\_df\\_seg\\_rf & pred\\_df\\_agg\\_rf & n & start\\_date & end\\_date & reseller\\_am & reseller\\_geo\\\\\n",
       "  & <fct> & <chr> & <fct> & <int> & <chr> & <chr> & <chr> & <int> & <date> & <date> & <chr> & <fct> & <chr> & <int> & <chr> & <fct> & <int> & <chr> & <chr> & <date> & <chr> & <chr> & <dbl> & <dbl> & <int> & ⋯ & <dbl> & <dbl> & <chr> & <fct> & <int> & <chr> & <int> & <dbl> & <dbl> & <chr> & <chr> & <dbl> & <int> & <fct> & <dbl> & <dbl> & <dbl> & <dbl> & <dbl> & <dbl> & <int> & <fct> & <fct> & <fct> & <fct>\\\\\n",
       "\\hline\n",
       "\t1 & 1\\&1 internet & 1\\&1 internet & Germany & 92459593 & penrosetile.store     & store1\\&1 internet  & FirstTime & 1 & 2020-02-01 & 2019-02-01 & Active  & store  & Non China & 1 & NA & Renewed    & 0 & auto-renewal & realized   & 2020-02-01 & 1\\&1 Internet & 1\\&1 Internet & 15 & 15.0000 &  1 & ⋯ & 40 & 15 & penrosetile    & l         & 11 & 11l        &  4 &  2.70805 & 4.92 & 2  & penrosetile    & 0.062500000 & 1 & Renewed    & 0.5069604 & 0.534 & 0.558 & 0.4878033 & 0.4981100 & 0.4763754 &  765 & 2013-01-01T00:00:00Z & 2019-12-31T00:00:00Z & Neha & EU\\\\\n",
       "\t2 & 1\\&1 internet & 1\\&1 internet & Germany & 91070293 & alcantarapalma.online & online1\\&1 internet & FirstTime & 1 & 2020-01-15 & 2019-01-15 & Active  & online & Non China & 1 & NA & Not Renewd & 0 & auto-renewal & unrealized & 2020-01-15 & 1\\&1 Internet & 1\\&1 Internet &  0 &  0.0001 &  1 & ⋯ & 25 &  0 & alcantarapalma & l         & 14 & 14l        & 25 & -9.21034 & 5.56 & 19 & alcantarapalma & 0.001600000 & 1 & Not Renewd & 0.4234759 & 0.425 & 0.374 & 0.5154490 & 0.5268478 & 0.5192867 & 8041 & 2013-01-01T00:00:00Z & 2019-12-31T00:00:00Z & Neha & EU\\\\\n",
       "\t3 & 1\\&1 internet & 1\\&1 internet & Germany & 92243793 & layerfarms.online     & online1\\&1 internet & FirstTime & 1 & 2020-01-30 & 2019-01-30 & Active  & online & Non China & 1 & NA & Renewed    & 0 & renewal      & NA         & 2019-05-19 & 1\\&1 Internet & 1\\&1 Internet &  1 &  1.0000 &  1 & ⋯ & 25 &  1 & layerfarms     & l         & 10 & 10l        &  8 &  0.00000 & 4.21 & 2  & lryfarms       & 0.031250000 & 2 & Renewed    & 0.4671778 & 0.485 & 0.475 & 0.3369761 & 0.3348900 & 0.3264582 & 8041 & 2013-01-01T00:00:00Z & 2019-12-31T00:00:00Z & Neha & EU\\\\\n",
       "\t4 & 1\\&1 internet & 1\\&1 internet & Germany & 92382343 & koiunyq.online        & online1\\&1 internet & FirstTime & 1 & 2020-01-31 & 2019-01-31 & Deleted & online & Non China & 1 & NA & Not Renewd & 0 & NA           & NA         & NA & Not Assigned & Not Assigned &  1 &  1.0000 & NA & ⋯ & NA &  1 & koiunyq        & l         &  7 & 7l         &  9 &  0.00000 & 0.62 & 1  & koiunyq        & 0.012345679 & 1 & Not Renewd & 0.5380713 & 0.547 & 0.508 & 0.3168814 & 0.3273583 & 0.4140139 & 8041 & 2013-01-01T00:00:00Z & 2019-12-31T00:00:00Z & Neha & EU\\\\\n",
       "\t5 & 1\\&1 internet & 1\\&1 internet & Germany & 89480877 & e-move24.online       & online1\\&1 internet & FirstTime & 1 & 2020-01-02 & 2019-01-02 & Active  & online & Non China & 1 & NA & Renewed    & 0 & auto-renewal & realized   & 2020-01-02 & 1\\&1 Internet & 1\\&1 Internet &  0 &  0.0001 &  1 & ⋯ & 25 &  0 & e-move24       & hyphen-ln &  8 & 8hyphen-ln & 18 & -9.21034 & 8.12 & 1  & e-move24       & 0.003086420 & 1 & Renewed    & 0.4357224 & 0.450 & 0.292 & 0.5910136 & 0.5345685 & 0.5278744 & 8041 & 2013-01-01T00:00:00Z & 2019-12-31T00:00:00Z & Neha & EU\\\\\n",
       "\t6 & 1\\&1 internet & 1\\&1 internet & Germany & 90751138 & votenigeriang.online  & online1\\&1 internet & FirstTime & 1 & 2020-01-12 & 2019-01-12 & Active  & online & Non China & 1 & NA & Renewed    & 0 & auto-renewal & realized   & 2020-01-12 & 1\\&1 Internet & 1\\&1 Internet &  0 &  0.0001 &  1 & ⋯ & 25 &  0 & votenigeriang  & l         & 13 & 13l        & 22 & -9.21034 & 7.36 & 4  & votenigeriang  & 0.002066116 & 1 & Renewed    & 0.4415465 & 0.444 & 0.385 & 0.4651246 & 0.4706303 & 0.4768728 & 8041 & 2013-01-01T00:00:00Z & 2019-12-31T00:00:00Z & Neha & EU\\\\\n",
       "\\end{tabular}\n"
      ],
      "text/markdown": [
       "\n",
       "A data.frame: 6 × 51\n",
       "\n",
       "| <!--/--> | reseller &lt;fct&gt; | registrar &lt;chr&gt; | reseller_country &lt;fct&gt; | domain_id &lt;int&gt; | domain &lt;chr&gt; | tld_registrar_index &lt;chr&gt; | renewal_type &lt;chr&gt; | renewed_count &lt;int&gt; | expiry_date &lt;date&gt; | creation_date &lt;date&gt; | status &lt;chr&gt; | tld &lt;fct&gt; | region &lt;chr&gt; | reg_period &lt;int&gt; | registrant_country &lt;chr&gt; | renewal_status &lt;fct&gt; | renew_mbg &lt;int&gt; | renew_type &lt;chr&gt; | autorenew_type &lt;chr&gt; | renew_date &lt;date&gt; | renew_registrar &lt;chr&gt; | renew_reseller &lt;chr&gt; | reg_revenue &lt;dbl&gt; | reg_arpt &lt;dbl&gt; | renew_period &lt;int&gt; | ⋯ ⋯ | renew_arpt &lt;dbl&gt; | reg_arpt_org &lt;dbl&gt; | sld &lt;chr&gt; | sld_type &lt;fct&gt; | sld_length &lt;int&gt; | sld_type2 &lt;chr&gt; | day_domains &lt;int&gt; | log_reg_arpt &lt;dbl&gt; | gibb_score &lt;dbl&gt; | pattern &lt;chr&gt; | cluster &lt;chr&gt; | pattern_score &lt;dbl&gt; | pattern_domain_count &lt;int&gt; | actual &lt;fct&gt; | pred_df_seg2_glm &lt;dbl&gt; | pred_df_seg_glm &lt;dbl&gt; | pred_df_agg_glm &lt;dbl&gt; | pred_df_seg2_rf &lt;dbl&gt; | pred_df_seg_rf &lt;dbl&gt; | pred_df_agg_rf &lt;dbl&gt; | n &lt;int&gt; | start_date &lt;fct&gt; | end_date &lt;fct&gt; | reseller_am &lt;fct&gt; | reseller_geo &lt;fct&gt; |\n",
       "|---|---|---|---|---|---|---|---|---|---|---|---|---|---|---|---|---|---|---|---|---|---|---|---|---|---|---|---|---|---|---|---|---|---|---|---|---|---|---|---|---|---|---|---|---|---|---|---|---|---|---|---|\n",
       "| 1 | 1&amp;1 internet | 1&amp;1 internet | Germany | 92459593 | penrosetile.store     | store1&amp;1 internet  | FirstTime | 1 | 2020-02-01 | 2019-02-01 | Active  | store  | Non China | 1 | NA | Renewed    | 0 | auto-renewal | realized   | 2020-02-01 | 1&amp;1 Internet | 1&amp;1 Internet | 15 | 15.0000 |  1 | ⋯ | 40 | 15 | penrosetile    | l         | 11 | 11l        |  4 |  2.70805 | 4.92 | 2  | penrosetile    | 0.062500000 | 1 | Renewed    | 0.5069604 | 0.534 | 0.558 | 0.4878033 | 0.4981100 | 0.4763754 |  765 | 2013-01-01T00:00:00Z | 2019-12-31T00:00:00Z | Neha | EU |\n",
       "| 2 | 1&amp;1 internet | 1&amp;1 internet | Germany | 91070293 | alcantarapalma.online | online1&amp;1 internet | FirstTime | 1 | 2020-01-15 | 2019-01-15 | Active  | online | Non China | 1 | NA | Not Renewd | 0 | auto-renewal | unrealized | 2020-01-15 | 1&amp;1 Internet | 1&amp;1 Internet |  0 |  0.0001 |  1 | ⋯ | 25 |  0 | alcantarapalma | l         | 14 | 14l        | 25 | -9.21034 | 5.56 | 19 | alcantarapalma | 0.001600000 | 1 | Not Renewd | 0.4234759 | 0.425 | 0.374 | 0.5154490 | 0.5268478 | 0.5192867 | 8041 | 2013-01-01T00:00:00Z | 2019-12-31T00:00:00Z | Neha | EU |\n",
       "| 3 | 1&amp;1 internet | 1&amp;1 internet | Germany | 92243793 | layerfarms.online     | online1&amp;1 internet | FirstTime | 1 | 2020-01-30 | 2019-01-30 | Active  | online | Non China | 1 | NA | Renewed    | 0 | renewal      | NA         | 2019-05-19 | 1&amp;1 Internet | 1&amp;1 Internet |  1 |  1.0000 |  1 | ⋯ | 25 |  1 | layerfarms     | l         | 10 | 10l        |  8 |  0.00000 | 4.21 | 2  | lryfarms       | 0.031250000 | 2 | Renewed    | 0.4671778 | 0.485 | 0.475 | 0.3369761 | 0.3348900 | 0.3264582 | 8041 | 2013-01-01T00:00:00Z | 2019-12-31T00:00:00Z | Neha | EU |\n",
       "| 4 | 1&amp;1 internet | 1&amp;1 internet | Germany | 92382343 | koiunyq.online        | online1&amp;1 internet | FirstTime | 1 | 2020-01-31 | 2019-01-31 | Deleted | online | Non China | 1 | NA | Not Renewd | 0 | NA           | NA         | NA | Not Assigned | Not Assigned |  1 |  1.0000 | NA | ⋯ | NA |  1 | koiunyq        | l         |  7 | 7l         |  9 |  0.00000 | 0.62 | 1  | koiunyq        | 0.012345679 | 1 | Not Renewd | 0.5380713 | 0.547 | 0.508 | 0.3168814 | 0.3273583 | 0.4140139 | 8041 | 2013-01-01T00:00:00Z | 2019-12-31T00:00:00Z | Neha | EU |\n",
       "| 5 | 1&amp;1 internet | 1&amp;1 internet | Germany | 89480877 | e-move24.online       | online1&amp;1 internet | FirstTime | 1 | 2020-01-02 | 2019-01-02 | Active  | online | Non China | 1 | NA | Renewed    | 0 | auto-renewal | realized   | 2020-01-02 | 1&amp;1 Internet | 1&amp;1 Internet |  0 |  0.0001 |  1 | ⋯ | 25 |  0 | e-move24       | hyphen-ln |  8 | 8hyphen-ln | 18 | -9.21034 | 8.12 | 1  | e-move24       | 0.003086420 | 1 | Renewed    | 0.4357224 | 0.450 | 0.292 | 0.5910136 | 0.5345685 | 0.5278744 | 8041 | 2013-01-01T00:00:00Z | 2019-12-31T00:00:00Z | Neha | EU |\n",
       "| 6 | 1&amp;1 internet | 1&amp;1 internet | Germany | 90751138 | votenigeriang.online  | online1&amp;1 internet | FirstTime | 1 | 2020-01-12 | 2019-01-12 | Active  | online | Non China | 1 | NA | Renewed    | 0 | auto-renewal | realized   | 2020-01-12 | 1&amp;1 Internet | 1&amp;1 Internet |  0 |  0.0001 |  1 | ⋯ | 25 |  0 | votenigeriang  | l         | 13 | 13l        | 22 | -9.21034 | 7.36 | 4  | votenigeriang  | 0.002066116 | 1 | Renewed    | 0.4415465 | 0.444 | 0.385 | 0.4651246 | 0.4706303 | 0.4768728 | 8041 | 2013-01-01T00:00:00Z | 2019-12-31T00:00:00Z | Neha | EU |\n",
       "\n"
      ],
      "text/plain": [
       "  reseller     registrar    reseller_country domain_id domain               \n",
       "1 1&1 internet 1&1 internet Germany          92459593  penrosetile.store    \n",
       "2 1&1 internet 1&1 internet Germany          91070293  alcantarapalma.online\n",
       "3 1&1 internet 1&1 internet Germany          92243793  layerfarms.online    \n",
       "4 1&1 internet 1&1 internet Germany          92382343  koiunyq.online       \n",
       "5 1&1 internet 1&1 internet Germany          89480877  e-move24.online      \n",
       "6 1&1 internet 1&1 internet Germany          90751138  votenigeriang.online \n",
       "  tld_registrar_index renewal_type renewed_count expiry_date creation_date\n",
       "1 store1&1 internet   FirstTime    1             2020-02-01  2019-02-01   \n",
       "2 online1&1 internet  FirstTime    1             2020-01-15  2019-01-15   \n",
       "3 online1&1 internet  FirstTime    1             2020-01-30  2019-01-30   \n",
       "4 online1&1 internet  FirstTime    1             2020-01-31  2019-01-31   \n",
       "5 online1&1 internet  FirstTime    1             2020-01-02  2019-01-02   \n",
       "6 online1&1 internet  FirstTime    1             2020-01-12  2019-01-12   \n",
       "  status  tld    region    reg_period registrant_country renewal_status\n",
       "1 Active  store  Non China 1          NA                 Renewed       \n",
       "2 Active  online Non China 1          NA                 Not Renewd    \n",
       "3 Active  online Non China 1          NA                 Renewed       \n",
       "4 Deleted online Non China 1          NA                 Not Renewd    \n",
       "5 Active  online Non China 1          NA                 Renewed       \n",
       "6 Active  online Non China 1          NA                 Renewed       \n",
       "  renew_mbg renew_type   autorenew_type renew_date renew_registrar\n",
       "1 0         auto-renewal realized       2020-02-01 1&1 Internet   \n",
       "2 0         auto-renewal unrealized     2020-01-15 1&1 Internet   \n",
       "3 0         renewal      NA             2019-05-19 1&1 Internet   \n",
       "4 0         NA           NA             <NA>       Not Assigned   \n",
       "5 0         auto-renewal realized       2020-01-02 1&1 Internet   \n",
       "6 0         auto-renewal realized       2020-01-12 1&1 Internet   \n",
       "  renew_reseller reg_revenue reg_arpt renew_period ⋯ renew_arpt reg_arpt_org\n",
       "1 1&1 Internet   15          15.0000   1           ⋯ 40         15          \n",
       "2 1&1 Internet    0           0.0001   1           ⋯ 25          0          \n",
       "3 1&1 Internet    1           1.0000   1           ⋯ 25          1          \n",
       "4 Not Assigned    1           1.0000  NA           ⋯ NA          1          \n",
       "5 1&1 Internet    0           0.0001   1           ⋯ 25          0          \n",
       "6 1&1 Internet    0           0.0001   1           ⋯ 25          0          \n",
       "  sld            sld_type  sld_length sld_type2  day_domains log_reg_arpt\n",
       "1 penrosetile    l         11         11l         4           2.70805    \n",
       "2 alcantarapalma l         14         14l        25          -9.21034    \n",
       "3 layerfarms     l         10         10l         8           0.00000    \n",
       "4 koiunyq        l          7         7l          9           0.00000    \n",
       "5 e-move24       hyphen-ln  8         8hyphen-ln 18          -9.21034    \n",
       "6 votenigeriang  l         13         13l        22          -9.21034    \n",
       "  gibb_score pattern cluster        pattern_score pattern_domain_count\n",
       "1 4.92       2       penrosetile    0.062500000   1                   \n",
       "2 5.56       19      alcantarapalma 0.001600000   1                   \n",
       "3 4.21       2       lryfarms       0.031250000   2                   \n",
       "4 0.62       1       koiunyq        0.012345679   1                   \n",
       "5 8.12       1       e-move24       0.003086420   1                   \n",
       "6 7.36       4       votenigeriang  0.002066116   1                   \n",
       "  actual     pred_df_seg2_glm pred_df_seg_glm pred_df_agg_glm pred_df_seg2_rf\n",
       "1 Renewed    0.5069604        0.534           0.558           0.4878033      \n",
       "2 Not Renewd 0.4234759        0.425           0.374           0.5154490      \n",
       "3 Renewed    0.4671778        0.485           0.475           0.3369761      \n",
       "4 Not Renewd 0.5380713        0.547           0.508           0.3168814      \n",
       "5 Renewed    0.4357224        0.450           0.292           0.5910136      \n",
       "6 Renewed    0.4415465        0.444           0.385           0.4651246      \n",
       "  pred_df_seg_rf pred_df_agg_rf n    start_date           end_date            \n",
       "1 0.4981100      0.4763754       765 2013-01-01T00:00:00Z 2019-12-31T00:00:00Z\n",
       "2 0.5268478      0.5192867      8041 2013-01-01T00:00:00Z 2019-12-31T00:00:00Z\n",
       "3 0.3348900      0.3264582      8041 2013-01-01T00:00:00Z 2019-12-31T00:00:00Z\n",
       "4 0.3273583      0.4140139      8041 2013-01-01T00:00:00Z 2019-12-31T00:00:00Z\n",
       "5 0.5345685      0.5278744      8041 2013-01-01T00:00:00Z 2019-12-31T00:00:00Z\n",
       "6 0.4706303      0.4768728      8041 2013-01-01T00:00:00Z 2019-12-31T00:00:00Z\n",
       "  reseller_am reseller_geo\n",
       "1 Neha        EU          \n",
       "2 Neha        EU          \n",
       "3 Neha        EU          \n",
       "4 Neha        EU          \n",
       "5 Neha        EU          \n",
       "6 Neha        EU          "
      ]
     },
     "metadata": {},
     "output_type": "display_data"
    }
   ],
   "source": [
    "# ewnsure correct number of dimm DONE!\n",
    "dim(expiry_test_predictions)\n",
    "expiry_test_predictions <- merge(expiry_test_predictions,\n",
    "                                 geoLookupDF,\n",
    "                                 on=c('reseller','reseller_country'), \n",
    "                                 all.x = TRUE)\n",
    "dim(expiry_test_predictions)\n",
    "head(expiry_test_predictions)\n"
   ]
  },
  {
   "cell_type": "markdown",
   "metadata": {},
   "source": [
    "# Generate fallback tables"
   ]
  },
  {
   "cell_type": "code",
   "execution_count": 19,
   "metadata": {},
   "outputs": [],
   "source": [
    "############Build Fallback Tables#######################"
   ]
  },
  {
   "cell_type": "code",
   "execution_count": 20,
   "metadata": {},
   "outputs": [],
   "source": [
    "npv_historic_renewal_data<-expiry_train_df_1\n",
    "reseller_am_geo_map<-geoLookupDF"
   ]
  },
  {
   "cell_type": "code",
   "execution_count": 21,
   "metadata": {},
   "outputs": [
    {
     "data": {
      "text/plain": [
       "\n",
       "      1 \n",
       "1188250 "
      ]
     },
     "metadata": {},
     "output_type": "display_data"
    }
   ],
   "source": [
    "table(npv_historic_renewal_data$renewed_count)"
   ]
  },
  {
   "cell_type": "code",
   "execution_count": 22,
   "metadata": {},
   "outputs": [],
   "source": [
    "npv_historic_renewal_data$reseller_am<-\n",
    "   reseller_am_geo_map$reseller_am[match(npv_historic_renewal_data$reseller,\n",
    "                                         reseller_am_geo_map$reseller)]\n",
    "                                      \n",
    "npv_historic_renewal_data$reseller_geo<-\n",
    "  reseller_am_geo_map$reseller_geo[match(npv_historic_renewal_data$reseller,\n",
    "                                         reseller_am_geo_map$reseller)]\n",
    "npv_historic_renewal_data$reseller_geo[is.na(npv_historic_renewal_data$reseller_geo)]<-\"Others\"\n",
    "npv_historic_renewal_data$reg_arpt_slab<-cut(npv_historic_renewal_data$reg_arpt_org, \n",
    "                                             breaks = c(-Inf,0,0.3,1,3,5,10,15,25,35,Inf),\n",
    "                                             right = TRUE)\n",
    "\n",
    "npv_historic_renewal_data$renewed_count[npv_historic_renewal_data$renewed_count >= 3]<-\"3+\""
   ]
  },
  {
   "cell_type": "code",
   "execution_count": 23,
   "metadata": {},
   "outputs": [
    {
     "name": "stderr",
     "output_type": "stream",
     "text": [
      "`summarise()` regrouping output by 'tld', 'renewed_count', 'registrar', 'reseller', 'reseller_geo' (override with `.groups` argument)\n",
      "\n",
      "`summarise()` regrouping output by 'tld', 'renewed_count', 'reseller_geo' (override with `.groups` argument)\n",
      "\n",
      "`summarise()` regrouping output by 'renewed_count', 'tld' (override with `.groups` argument)\n",
      "\n",
      "`summarise()` regrouping output by 'renewed_count' (override with `.groups` argument)\n",
      "\n"
     ]
    }
   ],
   "source": [
    "my_summary<-npv_historic_renewal_data %>% \n",
    "  filter(reg_period > 1) %>% \n",
    "  group_by(tld, renewed_count, registrar, reseller, reseller_geo, region) %>% \n",
    "  summarise(expiring_domains = n_distinct(domain),\n",
    "            renewed_domains = n_distinct(domain[renewal_status %in% c(\"Renewed\", \"Transfered\")])) %>%\n",
    "  mutate(renewal_rate = round(renewed_domains/expiring_domains,3))\n",
    "\n",
    "my_summary<-my_summary %>% \n",
    "  group_by(tld, renewed_count, reseller_geo, region) %>% \n",
    "  summarise(expiring_domains = sum(expiring_domains),\n",
    "            renewed_domains = sum(renewed_domains)) %>%\n",
    "  mutate(renewal_rate = round(renewed_domains/expiring_domains,3))\n",
    "\n",
    "my_summary<-my_summary %>% filter(expiring_domains >= 10) %>%\n",
    "  mutate(my_index = paste(tld, reseller_geo, sep = \"\"))\n",
    "\n",
    "\n",
    "my_fallback_1<-my_summary %>% \n",
    "  group_by(renewed_count, tld, region) %>% \n",
    "  summarise(expiring_domains = sum(expiring_domains),\n",
    "            renewed_domains = sum(renewed_domains)) %>%\n",
    "  mutate(renewal_rate = round(renewed_domains/expiring_domains,3),\n",
    "         my_fallback_index = paste(tld, region, sep = \"\"))\n",
    "\n",
    "\n",
    "my_fallback_2<-my_summary %>%\n",
    "  group_by(renewed_count, region) %>%\n",
    "  summarise(expiring_domains = sum(expiring_domains),\n",
    "            renewed_domains = sum(renewed_domains)) %>%\n",
    "  mutate(renewal_rate = round(renewed_domains/expiring_domains,3),\n",
    "         my_fallback_index = paste(region, sep = \"\"))\n"
   ]
  },
  {
   "cell_type": "code",
   "execution_count": 24,
   "metadata": {},
   "outputs": [],
   "source": [
    "# save(list = ls()[grepl(\"my_\", ls())], file = \"./my_model_tables.rdata\")"
   ]
  },
  {
   "cell_type": "code",
   "execution_count": 25,
   "metadata": {},
   "outputs": [],
   "source": [
    "############################multi year renewal defaults######################"
   ]
  },
  {
   "cell_type": "code",
   "execution_count": 26,
   "metadata": {},
   "outputs": [
    {
     "name": "stderr",
     "output_type": "stream",
     "text": [
      "`summarise()` regrouping output by 'tld', 'reseller_geo' (override with `.groups` argument)\n",
      "\n",
      "`summarise()` regrouping output by 'reseller_geo' (override with `.groups` argument)\n",
      "\n",
      "`summarise()` regrouping output by 'tld' (override with `.groups` argument)\n",
      "\n",
      "`summarise()` regrouping output by 'tld' (override with `.groups` argument)\n",
      "\n",
      "`summarise()` ungrouping output (override with `.groups` argument)\n",
      "\n",
      "`summarise()` regrouping output by 'tld' (override with `.groups` argument)\n",
      "\n",
      "`summarise()` ungrouping output (override with `.groups` argument)\n",
      "\n",
      "`summarise()` regrouping output by 'region' (override with `.groups` argument)\n",
      "\n",
      "`summarise()` ungrouping output (override with `.groups` argument)\n",
      "\n",
      "`summarise()` ungrouping output (override with `.groups` argument)\n",
      "\n"
     ]
    }
   ],
   "source": [
    "npv_fallback_first_geo_arpt_tld<-npv_historic_renewal_data %>%\n",
    "  filter(renewed_count == 1) %>%\n",
    "  group_by(tld, reseller_geo, reg_arpt_slab) %>%\n",
    "  summarise(expiring_domains = length(domain),\n",
    "            renewed_domains = length(domain[renewal_status %in% c(\"Renewed\", \"Transfered\")])) %>%\n",
    "  mutate(renewal_rate = round(renewed_domains/expiring_domains,3),\n",
    "         index = paste(tld, reseller_geo, reg_arpt_slab, sep = \"\")) %>%\n",
    "  filter(expiring_domains >= 500)\n",
    "\n",
    "\n",
    "\n",
    "\n",
    "npv_fallback_first_geo_arpt<-npv_historic_renewal_data %>%\n",
    "  filter(renewed_count == 1) %>%\n",
    "  group_by(reseller_geo, reg_arpt_slab) %>%\n",
    "  summarise(expiring_domains = length(domain),\n",
    "            renewed_domains = length(domain[renewal_status %in% c(\"Renewed\", \"Transfered\")])) %>%\n",
    "  mutate(renewal_rate = round(renewed_domains/expiring_domains,3),\n",
    "         index = paste(reseller_geo, reg_arpt_slab, sep = \"\")) %>%\n",
    "  filter(expiring_domains >= 500)\n",
    "\n",
    "\n",
    "\n",
    "npv_fallback_first_tld_arpt<-npv_historic_renewal_data %>%\n",
    "  filter(renewed_count == 1) %>%\n",
    "  group_by(tld, reg_arpt_slab) %>%\n",
    "  summarise(expiring_domains = length(domain),\n",
    "            renewed_domains = length(domain[renewal_status %in% c(\"Renewed\", \"Transfered\")])) %>%\n",
    "  mutate(renewal_rate = round(renewed_domains/expiring_domains,3),\n",
    "         index = paste(tld, reg_arpt_slab, sep = \"\")) %>%\n",
    "  filter(expiring_domains >= 0)\n",
    "\n",
    "\n",
    "npv_fallback_second_tld_geo<-npv_historic_renewal_data %>%\n",
    "  filter(renewed_count == 2) %>%\n",
    "  group_by(tld, reseller_geo) %>%\n",
    "  summarise(expiring_domains = length(domain),\n",
    "            renewed_domains = length(domain[renewal_status %in% c(\"Renewed\", \"Transfered\")])) %>%\n",
    "  mutate(renewal_rate = round(renewed_domains/expiring_domains,3),\n",
    "         index = paste(tld, reseller_geo, sep = \"\")) %>%\n",
    "  filter(expiring_domains >= 50)\n",
    "\n",
    "npv_fallback_second_geo<-npv_historic_renewal_data %>%\n",
    "  filter(renewed_count == 2) %>%\n",
    "  group_by(reseller_geo) %>%\n",
    "  summarise(expiring_domains = length(domain),\n",
    "            renewed_domains = length(domain[renewal_status %in% c(\"Renewed\", \"Transfered\")])) %>%\n",
    "  mutate(renewal_rate = round(renewed_domains/expiring_domains,3)) %>%\n",
    "  filter(expiring_domains >= 200)\n",
    "\n",
    "\n",
    "npv_fallback_third_tld_geo<-npv_historic_renewal_data %>%\n",
    "  filter(renewed_count == \"3+\" & \n",
    "           !(tld %in% c(\"online\", \"tech\") & \n",
    "               creation_date >= \"2015-06-01\" & \n",
    "               creation_date <= \"2015-09-30\") &\n",
    "           !(tld == \"site\" &              \n",
    "               creation_date >= \"2015-06-01\" &\n",
    "               creation_date <= \"2015-10-31\")) %>%\n",
    "  group_by(tld, reseller_geo) %>%\n",
    "  summarise(expiring_domains = length(domain),\n",
    "            renewed_domains = length(domain[renewal_status %in% c(\"Renewed\", \"Transfered\")])) %>%\n",
    "  mutate(renewal_rate = round(renewed_domains/expiring_domains,3),\n",
    "         index = paste(tld, reseller_geo, sep = \"\")) %>%\n",
    "  filter(expiring_domains >= 50)\n",
    "\n",
    "\n",
    "npv_fallback_third_geo<-npv_historic_renewal_data %>%\n",
    "  filter(renewed_count == \"3+\" & \n",
    "           !(tld %in% c(\"online\", \"tech\") & \n",
    "               creation_date >= \"2015-06-01\" & \n",
    "               creation_date <= \"2015-09-30\") &\n",
    "           !(tld == \"site\" &              \n",
    "               creation_date >= \"2015-06-01\" &\n",
    "               creation_date <= \"2015-10-31\")) %>%\n",
    "  group_by(reseller_geo) %>%\n",
    "  summarise(expiring_domains = length(domain),\n",
    "            renewed_domains = length(domain[renewal_status %in% c(\"Renewed\", \"Transfered\")])) %>%\n",
    "  mutate(renewal_rate = round(renewed_domains/expiring_domains,3)) %>%\n",
    "  filter(expiring_domains >= 50)\n",
    "\n",
    "\n",
    "npv_fallback_first_final<-npv_historic_renewal_data %>%\n",
    "  filter(renewed_count == 1) %>%\n",
    "  group_by(region, reg_arpt_slab) %>%\n",
    "  summarise(expiring_domains = length(domain),\n",
    "            renewed_domains = length(domain[renewal_status %in% c(\"Renewed\", \"Transfered\")])) %>%\n",
    "  mutate(renewal_rate = round(renewed_domains/expiring_domains,3),\n",
    "         index = paste(region, reg_arpt_slab, sep = \"\"))\n",
    "\n",
    "\n",
    "npv_fallback_second_final<-npv_historic_renewal_data %>%\n",
    "  filter(renewed_count == 2) %>%\n",
    "  group_by(region) %>%\n",
    "  summarise(expiring_domains = length(domain),\n",
    "            renewed_domains = length(domain[renewal_status %in% c(\"Renewed\", \"Transfered\")])) %>%\n",
    "  mutate(renewal_rate = round(renewed_domains/expiring_domains,3))\n",
    "\n",
    "\n",
    "npv_fallback_third_final<-npv_historic_renewal_data %>%\n",
    "  filter(renewed_count == \"3+\") %>%\n",
    "  group_by(region) %>%\n",
    "  summarise(expiring_domains = length(domain),\n",
    "            renewed_domains = length(domain[renewal_status %in% c(\"Renewed\", \"Transfered\")])) %>%\n",
    "  mutate(renewal_rate = round(renewed_domains/expiring_domains,3))"
   ]
  },
  {
   "cell_type": "code",
   "execution_count": 27,
   "metadata": {},
   "outputs": [],
   "source": [
    "# save(list = ls()[grepl(\"npv_fallback_\", ls())], file = \"./npv_fallback_tables.rdata\")"
   ]
  },
  {
   "cell_type": "markdown",
   "metadata": {},
   "source": [
    "# Apply fallback tables"
   ]
  },
  {
   "cell_type": "code",
   "execution_count": 28,
   "metadata": {},
   "outputs": [],
   "source": [
    "#################Applying fallback tables#####################"
   ]
  },
  {
   "cell_type": "code",
   "execution_count": 29,
   "metadata": {},
   "outputs": [],
   "source": [
    "# load(file = \"./npv_fallback_tables.rdata\")"
   ]
  },
  {
   "cell_type": "code",
   "execution_count": 30,
   "metadata": {},
   "outputs": [],
   "source": [
    "test_data_op <- expiry_test_predictions\n",
    "\n",
    "# LVG 10/08/20: add in reg_arpt_slab\n",
    "test_data_op$reg_arpt_slab<-cut(test_data_op$reg_arpt_org, \n",
    "                                             breaks = c(-Inf,0,0.3,1,3,5,10,15,25,35,Inf),\n",
    "                                             right = TRUE)\n",
    "# LVG 10/08/20: add in first_renewal_prediction as pred_df_seg2_glm\n",
    "test_data_op$first_renewal_prediction <- test_data_op$pred_df_seg2_glm"
   ]
  },
  {
   "cell_type": "code",
   "execution_count": 31,
   "metadata": {},
   "outputs": [
    {
     "data": {
      "text/html": [
       "<style>\n",
       ".list-inline {list-style: none; margin:0; padding: 0}\n",
       ".list-inline>li {display: inline-block}\n",
       ".list-inline>li:not(:last-child)::after {content: \"\\00b7\"; padding: 0 .5ex}\n",
       "</style>\n",
       "<ol class=list-inline><li>1356</li><li>53</li></ol>\n"
      ],
      "text/latex": [
       "\\begin{enumerate*}\n",
       "\\item 1356\n",
       "\\item 53\n",
       "\\end{enumerate*}\n"
      ],
      "text/markdown": [
       "1. 1356\n",
       "2. 53\n",
       "\n",
       "\n"
      ],
      "text/plain": [
       "[1] 1356   53"
      ]
     },
     "metadata": {},
     "output_type": "display_data"
    },
    {
     "data": {
      "text/html": [
       "<style>\n",
       ".list-inline {list-style: none; margin:0; padding: 0}\n",
       ".list-inline>li {display: inline-block}\n",
       ".list-inline>li:not(:last-child)::after {content: \"\\00b7\"; padding: 0 .5ex}\n",
       "</style>\n",
       "<ol class=list-inline><li>1356</li><li>53</li></ol>\n"
      ],
      "text/latex": [
       "\\begin{enumerate*}\n",
       "\\item 1356\n",
       "\\item 53\n",
       "\\end{enumerate*}\n"
      ],
      "text/markdown": [
       "1. 1356\n",
       "2. 53\n",
       "\n",
       "\n"
      ],
      "text/plain": [
       "[1] 1356   53"
      ]
     },
     "metadata": {},
     "output_type": "display_data"
    }
   ],
   "source": [
    "test_data_op %>% filter(is.na(pred_df_seg2_glm)) %>% dim()\n",
    "test_data_op %>% filter(is.na(first_renewal_prediction)) %>% dim()"
   ]
  },
  {
   "cell_type": "code",
   "execution_count": 32,
   "metadata": {},
   "outputs": [],
   "source": [
    "test_data_op<-test_data_op %>%\n",
    "  mutate(temp_index = paste(tld, reseller_geo, reg_arpt_slab, sep = \"\"))\n",
    "\n",
    "test_data_op$first_renewal_prediction[is.na(test_data_op$first_renewal_prediction)]<-\n",
    "  npv_fallback_first_geo_arpt_tld$renewal_rate[match(test_data_op$temp_index[is.na(test_data_op$first_renewal_prediction)],\n",
    "                                                     npv_fallback_first_geo_arpt_tld$index)]"
   ]
  },
  {
   "cell_type": "code",
   "execution_count": 33,
   "metadata": {},
   "outputs": [
    {
     "data": {
      "text/html": [
       "<style>\n",
       ".list-inline {list-style: none; margin:0; padding: 0}\n",
       ".list-inline>li {display: inline-block}\n",
       ".list-inline>li:not(:last-child)::after {content: \"\\00b7\"; padding: 0 .5ex}\n",
       "</style>\n",
       "<ol class=list-inline><li>1356</li><li>54</li></ol>\n"
      ],
      "text/latex": [
       "\\begin{enumerate*}\n",
       "\\item 1356\n",
       "\\item 54\n",
       "\\end{enumerate*}\n"
      ],
      "text/markdown": [
       "1. 1356\n",
       "2. 54\n",
       "\n",
       "\n"
      ],
      "text/plain": [
       "[1] 1356   54"
      ]
     },
     "metadata": {},
     "output_type": "display_data"
    },
    {
     "data": {
      "text/html": [
       "<style>\n",
       ".list-inline {list-style: none; margin:0; padding: 0}\n",
       ".list-inline>li {display: inline-block}\n",
       ".list-inline>li:not(:last-child)::after {content: \"\\00b7\"; padding: 0 .5ex}\n",
       "</style>\n",
       "<ol class=list-inline><li>426</li><li>54</li></ol>\n"
      ],
      "text/latex": [
       "\\begin{enumerate*}\n",
       "\\item 426\n",
       "\\item 54\n",
       "\\end{enumerate*}\n"
      ],
      "text/markdown": [
       "1. 426\n",
       "2. 54\n",
       "\n",
       "\n"
      ],
      "text/plain": [
       "[1] 426  54"
      ]
     },
     "metadata": {},
     "output_type": "display_data"
    }
   ],
   "source": [
    "test_data_op %>% filter(is.na(pred_df_seg2_glm)) %>% dim()\n",
    "test_data_op %>% filter(is.na(first_renewal_prediction)) %>% dim()"
   ]
  },
  {
   "cell_type": "code",
   "execution_count": 34,
   "metadata": {},
   "outputs": [],
   "source": [
    "test_data_op<-test_data_op %>%\n",
    "  mutate(temp_index = paste(reseller_geo, reg_arpt_slab, sep = \"\"))\n",
    "\n",
    "test_data_op$first_renewal_prediction[is.na(test_data_op$first_renewal_prediction)]<-\n",
    "  npv_fallback_first_geo_arpt$renewal_rate[match(test_data_op$temp_index[is.na(test_data_op$first_renewal_prediction)],\n",
    "                                                 npv_fallback_first_geo_arpt$index)]"
   ]
  },
  {
   "cell_type": "code",
   "execution_count": 35,
   "metadata": {},
   "outputs": [
    {
     "data": {
      "text/html": [
       "<style>\n",
       ".list-inline {list-style: none; margin:0; padding: 0}\n",
       ".list-inline>li {display: inline-block}\n",
       ".list-inline>li:not(:last-child)::after {content: \"\\00b7\"; padding: 0 .5ex}\n",
       "</style>\n",
       "<ol class=list-inline><li>1356</li><li>54</li></ol>\n"
      ],
      "text/latex": [
       "\\begin{enumerate*}\n",
       "\\item 1356\n",
       "\\item 54\n",
       "\\end{enumerate*}\n"
      ],
      "text/markdown": [
       "1. 1356\n",
       "2. 54\n",
       "\n",
       "\n"
      ],
      "text/plain": [
       "[1] 1356   54"
      ]
     },
     "metadata": {},
     "output_type": "display_data"
    },
    {
     "data": {
      "text/html": [
       "<style>\n",
       ".list-inline {list-style: none; margin:0; padding: 0}\n",
       ".list-inline>li {display: inline-block}\n",
       ".list-inline>li:not(:last-child)::after {content: \"\\00b7\"; padding: 0 .5ex}\n",
       "</style>\n",
       "<ol class=list-inline><li>129</li><li>54</li></ol>\n"
      ],
      "text/latex": [
       "\\begin{enumerate*}\n",
       "\\item 129\n",
       "\\item 54\n",
       "\\end{enumerate*}\n"
      ],
      "text/markdown": [
       "1. 129\n",
       "2. 54\n",
       "\n",
       "\n"
      ],
      "text/plain": [
       "[1] 129  54"
      ]
     },
     "metadata": {},
     "output_type": "display_data"
    }
   ],
   "source": [
    "test_data_op %>% filter(is.na(pred_df_seg2_glm)) %>% dim()\n",
    "test_data_op %>% filter(is.na(first_renewal_prediction)) %>% dim()"
   ]
  },
  {
   "cell_type": "code",
   "execution_count": 36,
   "metadata": {},
   "outputs": [],
   "source": [
    "test_data_op<-test_data_op %>%\n",
    "  mutate(temp_index = paste(tld, reg_arpt_slab, sep = \"\"))\n",
    "\n",
    "test_data_op$first_renewal_prediction[is.na(test_data_op$first_renewal_prediction)]<-\n",
    "  npv_fallback_first_tld_arpt$renewal_rate[match(test_data_op$temp_index[is.na(test_data_op$first_renewal_prediction)],\n",
    "                                                 npv_fallback_first_tld_arpt$index)]"
   ]
  },
  {
   "cell_type": "code",
   "execution_count": 37,
   "metadata": {},
   "outputs": [
    {
     "data": {
      "text/html": [
       "<style>\n",
       ".list-inline {list-style: none; margin:0; padding: 0}\n",
       ".list-inline>li {display: inline-block}\n",
       ".list-inline>li:not(:last-child)::after {content: \"\\00b7\"; padding: 0 .5ex}\n",
       "</style>\n",
       "<ol class=list-inline><li>1356</li><li>54</li></ol>\n"
      ],
      "text/latex": [
       "\\begin{enumerate*}\n",
       "\\item 1356\n",
       "\\item 54\n",
       "\\end{enumerate*}\n"
      ],
      "text/markdown": [
       "1. 1356\n",
       "2. 54\n",
       "\n",
       "\n"
      ],
      "text/plain": [
       "[1] 1356   54"
      ]
     },
     "metadata": {},
     "output_type": "display_data"
    },
    {
     "data": {
      "text/html": [
       "<style>\n",
       ".list-inline {list-style: none; margin:0; padding: 0}\n",
       ".list-inline>li {display: inline-block}\n",
       ".list-inline>li:not(:last-child)::after {content: \"\\00b7\"; padding: 0 .5ex}\n",
       "</style>\n",
       "<ol class=list-inline><li>0</li><li>54</li></ol>\n"
      ],
      "text/latex": [
       "\\begin{enumerate*}\n",
       "\\item 0\n",
       "\\item 54\n",
       "\\end{enumerate*}\n"
      ],
      "text/markdown": [
       "1. 0\n",
       "2. 54\n",
       "\n",
       "\n"
      ],
      "text/plain": [
       "[1]  0 54"
      ]
     },
     "metadata": {},
     "output_type": "display_data"
    }
   ],
   "source": [
    "test_data_op %>% filter(is.na(pred_df_seg2_glm)) %>% dim()\n",
    "test_data_op %>% filter(is.na(first_renewal_prediction)) %>% dim()"
   ]
  },
  {
   "cell_type": "code",
   "execution_count": 38,
   "metadata": {},
   "outputs": [
    {
     "data": {
      "text/html": [
       "<style>\n",
       ".list-inline {list-style: none; margin:0; padding: 0}\n",
       ".list-inline>li {display: inline-block}\n",
       ".list-inline>li:not(:last-child)::after {content: \"\\00b7\"; padding: 0 .5ex}\n",
       "</style>\n",
       "<ol class=list-inline><li>0</li><li>2</li></ol>\n"
      ],
      "text/latex": [
       "\\begin{enumerate*}\n",
       "\\item 0\n",
       "\\item 2\n",
       "\\end{enumerate*}\n"
      ],
      "text/markdown": [
       "1. 0\n",
       "2. 2\n",
       "\n",
       "\n"
      ],
      "text/plain": [
       "[1] 0 2"
      ]
     },
     "metadata": {},
     "output_type": "display_data"
    }
   ],
   "source": [
    "test_data_op %>% filter(pred_df_seg2_glm != first_renewal_prediction) %>%\n",
    "  select(pred_df_seg2_glm,first_renewal_prediction) %>% dim()"
   ]
  },
  {
   "cell_type": "code",
   "execution_count": 39,
   "metadata": {},
   "outputs": [],
   "source": [
    "test_data_op<-test_data_op %>%\n",
    "  mutate(temp_index = paste(tld, reseller_geo, sep = \"\"))\n",
    "\n",
    "test_data_op$second_renewal_prediction[is.na(test_data_op$second_renewal_prediction)]<-\n",
    "  npv_fallback_second_tld_geo$renewal_rate[match(test_data_op$temp_index[is.na(test_data_op$second_renewal_prediction)],\n",
    "                                                 npv_fallback_second_tld_geo$index)]"
   ]
  },
  {
   "cell_type": "code",
   "execution_count": 40,
   "metadata": {},
   "outputs": [
    {
     "data": {
      "text/html": [
       "<style>\n",
       ".list-inline {list-style: none; margin:0; padding: 0}\n",
       ".list-inline>li {display: inline-block}\n",
       ".list-inline>li:not(:last-child)::after {content: \"\\00b7\"; padding: 0 .5ex}\n",
       "</style>\n",
       "<ol class=list-inline><li>0</li><li>2</li></ol>\n"
      ],
      "text/latex": [
       "\\begin{enumerate*}\n",
       "\\item 0\n",
       "\\item 2\n",
       "\\end{enumerate*}\n"
      ],
      "text/markdown": [
       "1. 0\n",
       "2. 2\n",
       "\n",
       "\n"
      ],
      "text/plain": [
       "[1] 0 2"
      ]
     },
     "metadata": {},
     "output_type": "display_data"
    }
   ],
   "source": [
    "test_data_op %>% filter(pred_df_seg2_glm != first_renewal_prediction) %>%\n",
    "  select(pred_df_seg2_glm,first_renewal_prediction) %>% dim()"
   ]
  },
  {
   "cell_type": "code",
   "execution_count": 41,
   "metadata": {},
   "outputs": [],
   "source": [
    "test_data_op$second_renewal_prediction[is.na(test_data_op$second_renewal_prediction)]<-\n",
    "  npv_fallback_second_geo$renewal_rate[match(test_data_op$reseller_geo[is.na(test_data_op$second_renewal_prediction)],\n",
    "                                             npv_fallback_second_geo$reseller_geo)]\n",
    "\n",
    "\n",
    "\n",
    "test_data_op<-test_data_op %>%\n",
    "  mutate(temp_index = paste(tld, reseller_geo, sep = \"\"))\n",
    "\n",
    "test_data_op$third_renewal_prediction[is.na(test_data_op$third_renewal_prediction)]<-\n",
    "  npv_fallback_third_tld_geo$renewal_rate[match(test_data_op$temp_index[is.na(test_data_op$third_renewal_prediction)],\n",
    "                                                npv_fallback_third_tld_geo$index)]\n",
    "\n",
    "\n",
    "test_data_op$third_renewal_prediction[is.na(test_data_op$third_renewal_prediction)]<-\n",
    "  npv_fallback_third_geo$renewal_rate[match(test_data_op$reseller_geo[is.na(test_data_op$third_renewal_prediction)],\n",
    "                                            npv_fallback_third_geo$reseller_geo)]"
   ]
  },
  {
   "cell_type": "code",
   "execution_count": 42,
   "metadata": {},
   "outputs": [
    {
     "data": {
      "text/html": [
       "<style>\n",
       ".list-inline {list-style: none; margin:0; padding: 0}\n",
       ".list-inline>li {display: inline-block}\n",
       ".list-inline>li:not(:last-child)::after {content: \"\\00b7\"; padding: 0 .5ex}\n",
       "</style>\n",
       "<ol class=list-inline><li>0</li><li>2</li></ol>\n"
      ],
      "text/latex": [
       "\\begin{enumerate*}\n",
       "\\item 0\n",
       "\\item 2\n",
       "\\end{enumerate*}\n"
      ],
      "text/markdown": [
       "1. 0\n",
       "2. 2\n",
       "\n",
       "\n"
      ],
      "text/plain": [
       "[1] 0 2"
      ]
     },
     "metadata": {},
     "output_type": "display_data"
    }
   ],
   "source": [
    "test_data_op %>% filter(pred_df_seg2_glm != first_renewal_prediction) %>%\n",
    "  select(pred_df_seg2_glm,first_renewal_prediction) %>% dim()"
   ]
  },
  {
   "cell_type": "code",
   "execution_count": 43,
   "metadata": {},
   "outputs": [],
   "source": [
    "test_data_op<-test_data_op %>%\n",
    "  mutate(temp_index = paste(region, reg_arpt_slab, sep = \"\"))\n",
    "\n",
    "test_data_op$first_renewal_prediction[is.na(test_data_op$first_renewal_prediction)]<-\n",
    "  npv_fallback_first_final$renewal_rate[match(test_data_op$temp_index[is.na(test_data_op$first_renewal_prediction)],\n",
    "                                              npv_fallback_first_final$index)]\n",
    "\n",
    "\n",
    "\n",
    "test_data_op$second_renewal_prediction[is.na(test_data_op$second_renewal_prediction)]<-\n",
    "  npv_fallback_second_final$renewal_rate[match(test_data_op$region[is.na(test_data_op$second_renewal_prediction)],\n",
    "                                               npv_fallback_second_final$region)]\n",
    "\n",
    "\n",
    "\n",
    "test_data_op$third_renewal_prediction[is.na(test_data_op$third_renewal_prediction)]<-\n",
    "  npv_fallback_third_final$renewal_rate[match(test_data_op$region[is.na(test_data_op$third_renewal_prediction)],\n",
    "                                              npv_fallback_third_final$region)]\n",
    "\n",
    "test_data_op<-test_data_op %>%\n",
    "  select(-temp_index)"
   ]
  },
  {
   "cell_type": "code",
   "execution_count": 44,
   "metadata": {},
   "outputs": [
    {
     "data": {
      "text/html": [
       "<style>\n",
       ".list-inline {list-style: none; margin:0; padding: 0}\n",
       ".list-inline>li {display: inline-block}\n",
       ".list-inline>li:not(:last-child)::after {content: \"\\00b7\"; padding: 0 .5ex}\n",
       "</style>\n",
       "<ol class=list-inline><li>0</li><li>2</li></ol>\n"
      ],
      "text/latex": [
       "\\begin{enumerate*}\n",
       "\\item 0\n",
       "\\item 2\n",
       "\\end{enumerate*}\n"
      ],
      "text/markdown": [
       "1. 0\n",
       "2. 2\n",
       "\n",
       "\n"
      ],
      "text/plain": [
       "[1] 0 2"
      ]
     },
     "metadata": {},
     "output_type": "display_data"
    }
   ],
   "source": [
    "test_data_op %>% filter(pred_df_seg2_glm != first_renewal_prediction) %>%\n",
    "  select(pred_df_seg2_glm,first_renewal_prediction) %>% dim()"
   ]
  },
  {
   "cell_type": "code",
   "execution_count": 107,
   "metadata": {},
   "outputs": [],
   "source": [
    "# #############MY Calculations######\n",
    "\n",
    "# # load(file = \"./my_model_tables.rdata\")\n",
    "\n",
    "# test_data_op<-test_data_op %>%\n",
    "#   mutate(my_index = paste(tld, reseller_geo, sep = \"\"))\n",
    "\n",
    "# my_summary_1<-my_summary %>%\n",
    "#   filter(renewed_count == 1)\n",
    "\n",
    "# test_data_op %>% filter(pred_df_seg2_glm != first_renewal_prediction) %>%\n",
    "#   select(pred_df_seg2_glm,first_renewal_prediction) %>% dim()\n",
    "\n",
    "# test_data_op$first_renewal_prediction[test_data_op$reg_period > 1]<-\n",
    "#   my_summary_1$renewal_rate[match(test_data_op$my_index[test_data_op$reg_period > 1], \n",
    "#                                   my_summary_1$my_index)] \n",
    "# rm(my_summary_1)\n",
    "\n",
    "# my_summary_2<-my_summary %>%\n",
    "#   filter(renewed_count == 2)\n",
    "\n",
    "# test_data_op$second_renewal_prediction[test_data_op$reg_period > 1]<-\n",
    "#   my_summary_2$renewal_rate[match(test_data_op$my_index[test_data_op$reg_period > 1], \n",
    "#                                   my_summary_2$my_index)] \n",
    "# rm(my_summary_2)\n",
    "\n",
    "\n",
    "# my_summary_3<-my_summary %>%\n",
    "#   filter(renewed_count == \"3+\")\n",
    "\n",
    "# test_data_op$third_renewal_prediction[test_data_op$reg_period > 1]<-\n",
    "#   my_summary_3$renewal_rate[match(test_data_op$my_index[test_data_op$reg_period > 1], \n",
    "#                                   my_summary_3$my_index)] \n",
    "# rm(my_summary_3)\n",
    "\n",
    "# test_data_op<-test_data_op %>%\n",
    "#   select(-my_index)\n",
    "\n",
    "# test_data_op %>% filter(pred_df_seg2_glm != first_renewal_prediction) %>%\n",
    "#   select(pred_df_seg2_glm,first_renewal_prediction) %>% dim()\n",
    "\n",
    "# #######my fallback##########\n",
    "\n",
    "\n",
    "# ########## test_data_op is the output from the prediction script##############\n",
    "\n",
    "\n",
    "# test_data_op<-test_data_op %>%\n",
    "#   mutate(my_fallback_index = paste(tld, region, sep = \"\"))\n",
    "\n",
    "\n",
    "\n",
    "# my_fallback_1_1<-my_fallback_1 %>%\n",
    "#   filter(renewed_count == 1)\n",
    "\n",
    "# test_data_op$first_renewal_prediction[is.na(test_data_op$first_renewal_prediction) & \n",
    "#                                         test_data_op$reg_period > 1]<-\n",
    "#   my_fallback_1_1$renewal_rate[match(test_data_op$my_fallback_index[is.na(test_data_op$first_renewal_prediction) & \n",
    "#                                                                       test_data_op$reg_period > 1],\n",
    "#                                      my_fallback_1_1$my_fallback_index)]\n",
    "\n",
    "# rm(my_fallback_1_1)\n",
    "\n",
    "\n",
    "# my_fallback_1_2<-my_fallback_1 %>%\n",
    "#   filter(renewed_count == 2)\n",
    "\n",
    "\n",
    "# test_data_op$second_renewal_prediction[is.na(test_data_op$second_renewal_prediction) & \n",
    "#                                          test_data_op$reg_period > 1]<-\n",
    "#   my_fallback_1_2$renewal_rate[match(test_data_op$my_fallback_index[is.na(test_data_op$second_renewal_prediction) & \n",
    "#                                                                       test_data_op$reg_period > 1],\n",
    "#                                      my_fallback_1_2$my_fallback_index)]\n",
    "\n",
    "# rm(my_fallback_1_2)\n",
    "\n",
    "\n",
    "\n",
    "\n",
    "\n",
    "# my_fallback_1_3<-my_fallback_1 %>%\n",
    "#   filter(renewed_count == \"3+\")\n",
    "\n",
    "# test_data_op$third_renewal_prediction[is.na(test_data_op$third_renewal_prediction) & \n",
    "#                                         test_data_op$reg_period > 1]<-\n",
    "#   my_fallback_1_3$renewal_rate[match(test_data_op$my_fallback_index[is.na(test_data_op$third_renewal_prediction) & \n",
    "#                                                                       test_data_op$reg_period > 1],\n",
    "#                                      my_fallback_1_3$my_fallback_index)]\n",
    "\n",
    "# rm(my_fallback_1_3)\n",
    "\n",
    "\n",
    "# test_data_op<-test_data_op %>%\n",
    "#   select(-my_fallback_index)\n",
    "\n",
    "\n",
    "# ############final fallback for multi-year###################\n",
    "\n",
    "# my_fallback_2_1<-my_fallback_2 %>%\n",
    "#   filter(renewed_count == 1)\n",
    "\n",
    "# test_data_op$first_renewal_prediction[is.na(test_data_op$first_renewal_prediction) & \n",
    "#                                         test_data_op$reg_period > 1]<-\n",
    "#   my_fallback_2_1$renewal_rate[match(test_data_op$region[is.na(test_data_op$first_renewal_prediction) & \n",
    "#                                                            test_data_op$reg_period > 1],\n",
    "#                                      my_fallback_2_1$region)]\n",
    "\n",
    "# rm(my_fallback_2_1)\n",
    "\n",
    "\n",
    "# my_fallback_2_2<-my_fallback_2 %>%\n",
    "#   filter(renewed_count == 2)\n",
    "\n",
    "\n",
    "# test_data_op$second_renewal_prediction[is.na(test_data_op$second_renewal_prediction) & \n",
    "#                                          test_data_op$reg_period > 1]<-\n",
    "#   my_fallback_2_2$renewal_rate[match(test_data_op$region[is.na(test_data_op$second_renewal_prediction) & \n",
    "#                                                            test_data_op$reg_period > 1],\n",
    "#                                      my_fallback_2_2$region)]\n",
    "\n",
    "# rm(my_fallback_2_2)\n",
    "\n",
    "\n",
    "\n",
    "# my_fallback_2_3<-my_fallback_2 %>%\n",
    "#   filter(renewed_count == \"3+\")\n",
    "\n",
    "# test_data_op$third_renewal_prediction[is.na(test_data_op$third_renewal_prediction) & \n",
    "#                                         test_data_op$reg_period > 1]<-\n",
    "#   my_fallback_2_3$renewal_rate[match(test_data_op$region[is.na(test_data_op$third_renewal_prediction) & \n",
    "#                                                            test_data_op$reg_period > 1],\n",
    "#                                      my_fallback_2_3$region)]\n",
    "\n",
    "# rm(my_fallback_2_3)\n",
    "\n",
    "# head(test_data_op)\n",
    "\n",
    "# test_data_op %>% filter(is.na(pred_df_seg2_glm)) %>% dim()\n",
    "\n",
    "# test_data_op %>% filter(pred_df_seg2_glm != first_renewal_prediction) %>%\n",
    "#   select(pred_df_seg2_glm,first_renewal_prediction) %>% dim()"
   ]
  },
  {
   "cell_type": "code",
   "execution_count": null,
   "metadata": {},
   "outputs": [],
   "source": []
  },
  {
   "cell_type": "code",
   "execution_count": null,
   "metadata": {},
   "outputs": [],
   "source": []
  },
  {
   "cell_type": "code",
   "execution_count": null,
   "metadata": {},
   "outputs": [],
   "source": []
  },
  {
   "cell_type": "code",
   "execution_count": null,
   "metadata": {},
   "outputs": [],
   "source": []
  },
  {
   "cell_type": "code",
   "execution_count": null,
   "metadata": {},
   "outputs": [],
   "source": []
  }
 ],
 "metadata": {
  "environment": {
   "name": "r-cpu.3-6.m48",
   "type": "gcloud",
   "uri": "gcr.io/deeplearning-platform-release/r-cpu.3-6:m48"
  },
  "kernelspec": {
   "display_name": "R",
   "language": "R",
   "name": "ir"
  },
  "language_info": {
   "codemirror_mode": "r",
   "file_extension": ".r",
   "mimetype": "text/x-r-source",
   "name": "R",
   "pygments_lexer": "r",
   "version": "3.6.3"
  }
 },
 "nbformat": 4,
 "nbformat_minor": 4
}
