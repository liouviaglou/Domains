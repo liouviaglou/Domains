{
 "cells": [
  {
   "cell_type": "markdown",
   "metadata": {},
   "source": [
    "# Fallback Table Metalearning Prep\n",
    "\n"
   ]
  },
  {
   "cell_type": "code",
   "execution_count": 1,
   "metadata": {},
   "outputs": [],
   "source": [
    "options(repr.matrix.max.cols=50, repr.matrix.max.rows=100)"
   ]
  },
  {
   "cell_type": "code",
   "execution_count": 2,
   "metadata": {},
   "outputs": [],
   "source": [
    "# install.packages(\"pkgcond\")"
   ]
  },
  {
   "cell_type": "code",
   "execution_count": 4,
   "metadata": {},
   "outputs": [
    {
     "data": {
      "text/html": [
       "'/home/jupyter/Domains_202003/scripts/phaseII_06_fallbacksupp'"
      ],
      "text/latex": [
       "'/home/jupyter/Domains\\_202003/scripts/phaseII\\_06\\_fallbacksupp'"
      ],
      "text/markdown": [
       "'/home/jupyter/Domains_202003/scripts/phaseII_06_fallbacksupp'"
      ],
      "text/plain": [
       "[1] \"/home/jupyter/Domains_202003/scripts/phaseII_06_fallbacksupp\""
      ]
     },
     "metadata": {},
     "output_type": "display_data"
    }
   ],
   "source": [
    "library(dplyr)\n",
    "library(data.table)\n",
    "library(partykit)\n",
    "library(tictoc)\n",
    "library(caret)\n",
    "library(e1071)\n",
    "library(randomForest)\n",
    "library(ranger)\n",
    "\n",
    "#for 3d plotting\n",
    "library(akima)\n",
    "library(plotly)\n",
    "\n",
    "# for prep data\n",
    "library(stringr)\n",
    "library(pbapply)\n",
    "library(stringdist)\n",
    "library(data.table)\n",
    "library(dominanceanalysis)\n",
    "\n",
    "\n",
    "getwd()"
   ]
  },
  {
   "cell_type": "code",
   "execution_count": 5,
   "metadata": {},
   "outputs": [
    {
     "name": "stderr",
     "output_type": "stream",
     "text": [
      "\n",
      "Attaching package: ‘tidyr’\n",
      "\n",
      "\n",
      "The following object is masked from ‘package:stringdist’:\n",
      "\n",
      "    extract\n",
      "\n",
      "\n"
     ]
    }
   ],
   "source": [
    "\n",
    "source('../orig/functions.R')\n",
    "\n",
    "source('../orig/functions_models.R')\n",
    "\n",
    "source('../phaseII_03_forest/functions_eval.R')\n"
   ]
  },
  {
   "cell_type": "code",
   "execution_count": 6,
   "metadata": {},
   "outputs": [],
   "source": [
    "source('functions_metalearning.R')"
   ]
  },
  {
   "cell_type": "code",
   "execution_count": 7,
   "metadata": {},
   "outputs": [],
   "source": [
    "source('functions_fallback.R')"
   ]
  },
  {
   "cell_type": "code",
   "execution_count": 8,
   "metadata": {},
   "outputs": [],
   "source": [
    "# source('load_prep_data_expiry_2.R') #read in train test and predictions manually instead\n",
    "\n",
    "# READ CSV's\n",
    "# expiry_df_test_preds <- read.csv(\"../../data/output/datapull_20201116/expiry_df_test_preds.csv\")\n",
    "# expiry_df_train <- read.csv(\"../../data/output/datapull_20201116/expiry_df_train.csv\")\n",
    "# expiry_df_test <- read.csv(\"../../data/output/datapull_20201116/expiry_df_test.csv\")\n",
    "\n",
    "# expiry_df\n",
    "# expiry_train_df \n",
    "# expiry_test_df \n",
    "# expiry_list\n",
    "# expiry_train_list\n",
    "# expiry_test_list"
   ]
  },
  {
   "cell_type": "markdown",
   "metadata": {},
   "source": [
    "# LOAD fallbacksupp'ed preds"
   ]
  },
  {
   "cell_type": "code",
   "execution_count": 9,
   "metadata": {},
   "outputs": [
    {
     "data": {
      "text/html": [
       "<table>\n",
       "<caption>A data.frame: 6 × 59</caption>\n",
       "<thead>\n",
       "\t<tr><th></th><th scope=col>reseller</th><th scope=col>reseller_country</th><th scope=col>domain_id</th><th scope=col>renewal_type</th><th scope=col>renewed_count</th><th scope=col>expiry_date</th><th scope=col>creation_date</th><th scope=col>status</th><th scope=col>domain</th><th scope=col>registrar</th><th scope=col>registrant_country</th><th scope=col>reg_period</th><th scope=col>reg_revenue</th><th scope=col>reg_arpt</th><th scope=col>renew_mbg</th><th scope=col>renewal_item_id</th><th scope=col>renew_type</th><th scope=col>autorenew_type</th><th scope=col>renewal_status</th><th scope=col>renew_date</th><th scope=col>renew_arpt</th><th scope=col>gibb_score</th><th scope=col>pattern</th><th scope=col>pattern_domain_count</th><th scope=col>day_domains</th><th scope=col>⋯</th><th scope=col>pred_agg_glm</th><th scope=col>pred_agg_rf</th><th scope=col>pred_seg_glm_ALL</th><th scope=col>pred_seg_rf_ALL</th><th scope=col>pred_seg2_glm_ALL</th><th scope=col>pred_seg2_rf_ALL</th><th scope=col>reseller_geo</th><th scope=col>pred_agg_glm_ALL_fb</th><th scope=col>pred_agg_rf_ALL_fb</th><th scope=col>pred_agg_glm_fb</th><th scope=col>pred_agg_rf_fb</th><th scope=col>pred_seg_glm_ALL_fb</th><th scope=col>pred_seg_rf_ALL_fb</th><th scope=col>pred_seg2_glm_ALL_fb</th><th scope=col>pred_seg2_rf_ALL_fb</th><th scope=col>reg_arpt_org</th><th scope=col>reg_arpt_slab</th><th scope=col>pred_seg2_rf_ALL_fb2</th><th scope=col>pred_seg2_glm_ALL_fb2</th><th scope=col>pred_seg_rf_ALL_fb2</th><th scope=col>pred_seg_glm_ALL_fb2</th><th scope=col>pred_agg_rf_fb2</th><th scope=col>pred_agg_glm_fb2</th><th scope=col>pred_agg_rf_ALL_fb2</th><th scope=col>pred_agg_glm_ALL_fb2</th></tr>\n",
       "\t<tr><th></th><th scope=col>&lt;fct&gt;</th><th scope=col>&lt;fct&gt;</th><th scope=col>&lt;int&gt;</th><th scope=col>&lt;fct&gt;</th><th scope=col>&lt;int&gt;</th><th scope=col>&lt;fct&gt;</th><th scope=col>&lt;fct&gt;</th><th scope=col>&lt;fct&gt;</th><th scope=col>&lt;fct&gt;</th><th scope=col>&lt;fct&gt;</th><th scope=col>&lt;fct&gt;</th><th scope=col>&lt;int&gt;</th><th scope=col>&lt;dbl&gt;</th><th scope=col>&lt;dbl&gt;</th><th scope=col>&lt;int&gt;</th><th scope=col>&lt;int&gt;</th><th scope=col>&lt;fct&gt;</th><th scope=col>&lt;fct&gt;</th><th scope=col>&lt;fct&gt;</th><th scope=col>&lt;fct&gt;</th><th scope=col>&lt;dbl&gt;</th><th scope=col>&lt;dbl&gt;</th><th scope=col>&lt;fct&gt;</th><th scope=col>&lt;int&gt;</th><th scope=col>&lt;int&gt;</th><th scope=col>⋯</th><th scope=col>&lt;dbl&gt;</th><th scope=col>&lt;dbl&gt;</th><th scope=col>&lt;dbl&gt;</th><th scope=col>&lt;dbl&gt;</th><th scope=col>&lt;dbl&gt;</th><th scope=col>&lt;dbl&gt;</th><th scope=col>&lt;fct&gt;</th><th scope=col>&lt;dbl&gt;</th><th scope=col>&lt;dbl&gt;</th><th scope=col>&lt;dbl&gt;</th><th scope=col>&lt;dbl&gt;</th><th scope=col>&lt;dbl&gt;</th><th scope=col>&lt;dbl&gt;</th><th scope=col>&lt;dbl&gt;</th><th scope=col>&lt;dbl&gt;</th><th scope=col>&lt;dbl&gt;</th><th scope=col>&lt;fct&gt;</th><th scope=col>&lt;dbl&gt;</th><th scope=col>&lt;dbl&gt;</th><th scope=col>&lt;dbl&gt;</th><th scope=col>&lt;dbl&gt;</th><th scope=col>&lt;dbl&gt;</th><th scope=col>&lt;dbl&gt;</th><th scope=col>&lt;dbl&gt;</th><th scope=col>&lt;dbl&gt;</th></tr>\n",
       "</thead>\n",
       "<tbody>\n",
       "\t<tr><th scope=row>1</th><td>            </td><td>       </td><td>122049036</td><td>FirstTime</td><td>1</td><td>2020-08-30</td><td>2019-08-30</td><td>Active</td><td>qianxiyun.online            </td><td>            </td><td>NA</td><td>1</td><td>25</td><td>25.00</td><td>0</td><td>341703158</td><td>auto-renewal</td><td>unrealized</td><td>Not Renewd</td><td>2020-08-30</td><td> 6</td><td>0.63</td><td>qianxiyun            </td><td>1</td><td> 1</td><td>⋯</td><td>   NA</td><td>0.7713468</td><td>   NA</td><td>       NA</td><td>       NA</td><td>       NA</td><td>NA</td><td>   NA</td><td>0.9550391</td><td>   NA</td><td>0.7713468</td><td>   NA</td><td>       NA</td><td>       NA</td><td>       NA</td><td>25.00</td><td>(15,25]</td><td>0.5510000</td><td>0.5510000</td><td>0.5510000</td><td>0.551</td><td>0.7713468</td><td>0.551</td><td>0.9550391</td><td>0.551</td></tr>\n",
       "\t<tr><th scope=row>2</th><td>1&amp;1 Internet</td><td>Germany</td><td> 43450963</td><td>FirstTime</td><td>1</td><td>2020-01-27</td><td>2017-01-27</td><td>Active</td><td><span style=white-space:pre-wrap>ncyc.online                 </span></td><td>1&amp;1 Internet</td><td>NA</td><td>3</td><td>55</td><td>18.33</td><td>0</td><td>239731665</td><td><span style=white-space:pre-wrap>transfer    </span></td><td><span style=white-space:pre-wrap>NA        </span></td><td><span style=white-space:pre-wrap>Renewed   </span></td><td>2019-10-13</td><td>25</td><td>1.18</td><td><span style=white-space:pre-wrap>ncyc                 </span></td><td>1</td><td>23</td><td>⋯</td><td>0.817</td><td>0.6676114</td><td>0.543</td><td>0.7268116</td><td>0.5644593</td><td>0.7075837</td><td>EU</td><td>0.817</td><td>0.6088277</td><td>0.817</td><td>0.6676114</td><td>0.543</td><td>0.7268116</td><td>0.5644593</td><td>0.7075837</td><td>18.33</td><td>(15,25]</td><td>0.7075837</td><td>0.5644593</td><td>0.7268116</td><td>0.543</td><td>0.6676114</td><td>0.817</td><td>0.6088277</td><td>0.817</td></tr>\n",
       "\t<tr><th scope=row>3</th><td>1&amp;1 Internet</td><td>Germany</td><td> 43576888</td><td>FirstTime</td><td>1</td><td>2020-01-31</td><td>2017-01-31</td><td>Active</td><td><span style=white-space:pre-wrap>audev.online                </span></td><td>1&amp;1 Internet</td><td>NA</td><td>3</td><td>55</td><td>18.33</td><td>0</td><td>287997921</td><td>auto-renewal</td><td><span style=white-space:pre-wrap>realized  </span></td><td><span style=white-space:pre-wrap>Renewed   </span></td><td>2020-01-31</td><td>25</td><td>2.57</td><td><span style=white-space:pre-wrap>audev                </span></td><td>1</td><td>43</td><td>⋯</td><td>0.814</td><td>0.6877335</td><td>0.536</td><td>0.7155560</td><td>0.5601541</td><td>0.7314602</td><td>EU</td><td>0.814</td><td>0.6477227</td><td>0.814</td><td>0.6877335</td><td>0.536</td><td>0.7155560</td><td>0.5601541</td><td>0.7314602</td><td>18.33</td><td>(15,25]</td><td>0.7314602</td><td>0.5601541</td><td>0.7155560</td><td>0.536</td><td>0.6877335</td><td>0.814</td><td>0.6477227</td><td>0.814</td></tr>\n",
       "\t<tr><th scope=row>4</th><td>1&amp;1 Internet</td><td>Germany</td><td> 43727452</td><td>FirstTime</td><td>1</td><td>2020-02-03</td><td>2017-02-03</td><td>Active</td><td><span style=white-space:pre-wrap>pinkpanther.store           </span></td><td>1&amp;1 Internet</td><td>NA</td><td>3</td><td>88</td><td>29.33</td><td>0</td><td>288786056</td><td>auto-renewal</td><td>unrealized</td><td>Not Renewd</td><td>2020-02-03</td><td>40</td><td>7.27</td><td><span style=white-space:pre-wrap>pinkpanther          </span></td><td>1</td><td> 3</td><td>⋯</td><td>0.838</td><td>0.2588170</td><td>0.513</td><td>0.2754756</td><td>0.1642908</td><td>0.1535971</td><td>EU</td><td>0.833</td><td>0.2384536</td><td>0.838</td><td>0.2588170</td><td>0.513</td><td>0.2754756</td><td>0.1642908</td><td>0.1535971</td><td>29.33</td><td>(25,35]</td><td>0.1535971</td><td>0.1642908</td><td>0.2754756</td><td>0.513</td><td>0.2588170</td><td>0.838</td><td>0.2384536</td><td>0.833</td></tr>\n",
       "\t<tr><th scope=row>5</th><td>1&amp;1 Internet</td><td>Germany</td><td> 46911148</td><td>FirstTime</td><td>1</td><td>2020-04-17</td><td>2017-04-17</td><td>Active</td><td>lmengineeringservices.online</td><td>1&amp;1 Internet</td><td>NA</td><td>3</td><td>50</td><td>16.67</td><td>0</td><td>308749164</td><td>auto-renewal</td><td><span style=white-space:pre-wrap>realized  </span></td><td><span style=white-space:pre-wrap>Renewed   </span></td><td>2020-04-17</td><td>25</td><td>7.81</td><td>lmengineeringservices</td><td>1</td><td>69</td><td>⋯</td><td>0.775</td><td>0.3878439</td><td>0.468</td><td>0.3962124</td><td>0.4979086</td><td>0.3769304</td><td>EU</td><td>0.772</td><td>0.3972606</td><td>0.775</td><td>0.3878439</td><td>0.468</td><td>0.3962124</td><td>0.4979086</td><td>0.3769304</td><td>16.67</td><td>(15,25]</td><td>0.3769304</td><td>0.4979086</td><td>0.3962124</td><td>0.468</td><td>0.3878439</td><td>0.775</td><td>0.3972606</td><td>0.772</td></tr>\n",
       "\t<tr><th scope=row>6</th><td>1&amp;1 Internet</td><td>Germany</td><td> 47605334</td><td>FirstTime</td><td>1</td><td>2020-05-08</td><td>2017-05-08</td><td>Active</td><td><span style=white-space:pre-wrap>eagleeyeview.store          </span></td><td>1&amp;1 Internet</td><td>NA</td><td>3</td><td>90</td><td>30.00</td><td>0</td><td>313867134</td><td>auto-renewal</td><td>unrealized</td><td>Not Renewd</td><td>2020-05-08</td><td>40</td><td>3.41</td><td><span style=white-space:pre-wrap>eagleeyeview         </span></td><td>1</td><td> 4</td><td>⋯</td><td>0.829</td><td>0.1730035</td><td>0.516</td><td>0.1675698</td><td>0.1723292</td><td>0.1027711</td><td>EU</td><td>0.823</td><td>0.1925156</td><td>0.829</td><td>0.1730035</td><td>0.516</td><td>0.1675698</td><td>0.1723292</td><td>0.1027711</td><td>30.00</td><td>(25,35]</td><td>0.1027711</td><td>0.1723292</td><td>0.1675698</td><td>0.516</td><td>0.1730035</td><td>0.829</td><td>0.1925156</td><td>0.823</td></tr>\n",
       "</tbody>\n",
       "</table>\n"
      ],
      "text/latex": [
       "A data.frame: 6 × 59\n",
       "\\begin{tabular}{r|lllllllllllllllllllllllllllllllllllllllllllllllllll}\n",
       "  & reseller & reseller\\_country & domain\\_id & renewal\\_type & renewed\\_count & expiry\\_date & creation\\_date & status & domain & registrar & registrant\\_country & reg\\_period & reg\\_revenue & reg\\_arpt & renew\\_mbg & renewal\\_item\\_id & renew\\_type & autorenew\\_type & renewal\\_status & renew\\_date & renew\\_arpt & gibb\\_score & pattern & pattern\\_domain\\_count & day\\_domains & ⋯ & pred\\_agg\\_glm & pred\\_agg\\_rf & pred\\_seg\\_glm\\_ALL & pred\\_seg\\_rf\\_ALL & pred\\_seg2\\_glm\\_ALL & pred\\_seg2\\_rf\\_ALL & reseller\\_geo & pred\\_agg\\_glm\\_ALL\\_fb & pred\\_agg\\_rf\\_ALL\\_fb & pred\\_agg\\_glm\\_fb & pred\\_agg\\_rf\\_fb & pred\\_seg\\_glm\\_ALL\\_fb & pred\\_seg\\_rf\\_ALL\\_fb & pred\\_seg2\\_glm\\_ALL\\_fb & pred\\_seg2\\_rf\\_ALL\\_fb & reg\\_arpt\\_org & reg\\_arpt\\_slab & pred\\_seg2\\_rf\\_ALL\\_fb2 & pred\\_seg2\\_glm\\_ALL\\_fb2 & pred\\_seg\\_rf\\_ALL\\_fb2 & pred\\_seg\\_glm\\_ALL\\_fb2 & pred\\_agg\\_rf\\_fb2 & pred\\_agg\\_glm\\_fb2 & pred\\_agg\\_rf\\_ALL\\_fb2 & pred\\_agg\\_glm\\_ALL\\_fb2\\\\\n",
       "  & <fct> & <fct> & <int> & <fct> & <int> & <fct> & <fct> & <fct> & <fct> & <fct> & <fct> & <int> & <dbl> & <dbl> & <int> & <int> & <fct> & <fct> & <fct> & <fct> & <dbl> & <dbl> & <fct> & <int> & <int> & ⋯ & <dbl> & <dbl> & <dbl> & <dbl> & <dbl> & <dbl> & <fct> & <dbl> & <dbl> & <dbl> & <dbl> & <dbl> & <dbl> & <dbl> & <dbl> & <dbl> & <fct> & <dbl> & <dbl> & <dbl> & <dbl> & <dbl> & <dbl> & <dbl> & <dbl>\\\\\n",
       "\\hline\n",
       "\t1 &              &         & 122049036 & FirstTime & 1 & 2020-08-30 & 2019-08-30 & Active & qianxiyun.online             &              & NA & 1 & 25 & 25.00 & 0 & 341703158 & auto-renewal & unrealized & Not Renewd & 2020-08-30 &  6 & 0.63 & qianxiyun             & 1 &  1 & ⋯ &    NA & 0.7713468 &    NA &        NA &        NA &        NA & NA &    NA & 0.9550391 &    NA & 0.7713468 &    NA &        NA &        NA &        NA & 25.00 & (15,25{]} & 0.5510000 & 0.5510000 & 0.5510000 & 0.551 & 0.7713468 & 0.551 & 0.9550391 & 0.551\\\\\n",
       "\t2 & 1\\&1 Internet & Germany &  43450963 & FirstTime & 1 & 2020-01-27 & 2017-01-27 & Active & ncyc.online                  & 1\\&1 Internet & NA & 3 & 55 & 18.33 & 0 & 239731665 & transfer     & NA         & Renewed    & 2019-10-13 & 25 & 1.18 & ncyc                  & 1 & 23 & ⋯ & 0.817 & 0.6676114 & 0.543 & 0.7268116 & 0.5644593 & 0.7075837 & EU & 0.817 & 0.6088277 & 0.817 & 0.6676114 & 0.543 & 0.7268116 & 0.5644593 & 0.7075837 & 18.33 & (15,25{]} & 0.7075837 & 0.5644593 & 0.7268116 & 0.543 & 0.6676114 & 0.817 & 0.6088277 & 0.817\\\\\n",
       "\t3 & 1\\&1 Internet & Germany &  43576888 & FirstTime & 1 & 2020-01-31 & 2017-01-31 & Active & audev.online                 & 1\\&1 Internet & NA & 3 & 55 & 18.33 & 0 & 287997921 & auto-renewal & realized   & Renewed    & 2020-01-31 & 25 & 2.57 & audev                 & 1 & 43 & ⋯ & 0.814 & 0.6877335 & 0.536 & 0.7155560 & 0.5601541 & 0.7314602 & EU & 0.814 & 0.6477227 & 0.814 & 0.6877335 & 0.536 & 0.7155560 & 0.5601541 & 0.7314602 & 18.33 & (15,25{]} & 0.7314602 & 0.5601541 & 0.7155560 & 0.536 & 0.6877335 & 0.814 & 0.6477227 & 0.814\\\\\n",
       "\t4 & 1\\&1 Internet & Germany &  43727452 & FirstTime & 1 & 2020-02-03 & 2017-02-03 & Active & pinkpanther.store            & 1\\&1 Internet & NA & 3 & 88 & 29.33 & 0 & 288786056 & auto-renewal & unrealized & Not Renewd & 2020-02-03 & 40 & 7.27 & pinkpanther           & 1 &  3 & ⋯ & 0.838 & 0.2588170 & 0.513 & 0.2754756 & 0.1642908 & 0.1535971 & EU & 0.833 & 0.2384536 & 0.838 & 0.2588170 & 0.513 & 0.2754756 & 0.1642908 & 0.1535971 & 29.33 & (25,35{]} & 0.1535971 & 0.1642908 & 0.2754756 & 0.513 & 0.2588170 & 0.838 & 0.2384536 & 0.833\\\\\n",
       "\t5 & 1\\&1 Internet & Germany &  46911148 & FirstTime & 1 & 2020-04-17 & 2017-04-17 & Active & lmengineeringservices.online & 1\\&1 Internet & NA & 3 & 50 & 16.67 & 0 & 308749164 & auto-renewal & realized   & Renewed    & 2020-04-17 & 25 & 7.81 & lmengineeringservices & 1 & 69 & ⋯ & 0.775 & 0.3878439 & 0.468 & 0.3962124 & 0.4979086 & 0.3769304 & EU & 0.772 & 0.3972606 & 0.775 & 0.3878439 & 0.468 & 0.3962124 & 0.4979086 & 0.3769304 & 16.67 & (15,25{]} & 0.3769304 & 0.4979086 & 0.3962124 & 0.468 & 0.3878439 & 0.775 & 0.3972606 & 0.772\\\\\n",
       "\t6 & 1\\&1 Internet & Germany &  47605334 & FirstTime & 1 & 2020-05-08 & 2017-05-08 & Active & eagleeyeview.store           & 1\\&1 Internet & NA & 3 & 90 & 30.00 & 0 & 313867134 & auto-renewal & unrealized & Not Renewd & 2020-05-08 & 40 & 3.41 & eagleeyeview          & 1 &  4 & ⋯ & 0.829 & 0.1730035 & 0.516 & 0.1675698 & 0.1723292 & 0.1027711 & EU & 0.823 & 0.1925156 & 0.829 & 0.1730035 & 0.516 & 0.1675698 & 0.1723292 & 0.1027711 & 30.00 & (25,35{]} & 0.1027711 & 0.1723292 & 0.1675698 & 0.516 & 0.1730035 & 0.829 & 0.1925156 & 0.823\\\\\n",
       "\\end{tabular}\n"
      ],
      "text/markdown": [
       "\n",
       "A data.frame: 6 × 59\n",
       "\n",
       "| <!--/--> | reseller &lt;fct&gt; | reseller_country &lt;fct&gt; | domain_id &lt;int&gt; | renewal_type &lt;fct&gt; | renewed_count &lt;int&gt; | expiry_date &lt;fct&gt; | creation_date &lt;fct&gt; | status &lt;fct&gt; | domain &lt;fct&gt; | registrar &lt;fct&gt; | registrant_country &lt;fct&gt; | reg_period &lt;int&gt; | reg_revenue &lt;dbl&gt; | reg_arpt &lt;dbl&gt; | renew_mbg &lt;int&gt; | renewal_item_id &lt;int&gt; | renew_type &lt;fct&gt; | autorenew_type &lt;fct&gt; | renewal_status &lt;fct&gt; | renew_date &lt;fct&gt; | renew_arpt &lt;dbl&gt; | gibb_score &lt;dbl&gt; | pattern &lt;fct&gt; | pattern_domain_count &lt;int&gt; | day_domains &lt;int&gt; | ⋯ ⋯ | pred_agg_glm &lt;dbl&gt; | pred_agg_rf &lt;dbl&gt; | pred_seg_glm_ALL &lt;dbl&gt; | pred_seg_rf_ALL &lt;dbl&gt; | pred_seg2_glm_ALL &lt;dbl&gt; | pred_seg2_rf_ALL &lt;dbl&gt; | reseller_geo &lt;fct&gt; | pred_agg_glm_ALL_fb &lt;dbl&gt; | pred_agg_rf_ALL_fb &lt;dbl&gt; | pred_agg_glm_fb &lt;dbl&gt; | pred_agg_rf_fb &lt;dbl&gt; | pred_seg_glm_ALL_fb &lt;dbl&gt; | pred_seg_rf_ALL_fb &lt;dbl&gt; | pred_seg2_glm_ALL_fb &lt;dbl&gt; | pred_seg2_rf_ALL_fb &lt;dbl&gt; | reg_arpt_org &lt;dbl&gt; | reg_arpt_slab &lt;fct&gt; | pred_seg2_rf_ALL_fb2 &lt;dbl&gt; | pred_seg2_glm_ALL_fb2 &lt;dbl&gt; | pred_seg_rf_ALL_fb2 &lt;dbl&gt; | pred_seg_glm_ALL_fb2 &lt;dbl&gt; | pred_agg_rf_fb2 &lt;dbl&gt; | pred_agg_glm_fb2 &lt;dbl&gt; | pred_agg_rf_ALL_fb2 &lt;dbl&gt; | pred_agg_glm_ALL_fb2 &lt;dbl&gt; |\n",
       "|---|---|---|---|---|---|---|---|---|---|---|---|---|---|---|---|---|---|---|---|---|---|---|---|---|---|---|---|---|---|---|---|---|---|---|---|---|---|---|---|---|---|---|---|---|---|---|---|---|---|---|---|\n",
       "| 1 | <!----> | <!----> | 122049036 | FirstTime | 1 | 2020-08-30 | 2019-08-30 | Active | qianxiyun.online             | <!----> | NA | 1 | 25 | 25.00 | 0 | 341703158 | auto-renewal | unrealized | Not Renewd | 2020-08-30 |  6 | 0.63 | qianxiyun             | 1 |  1 | ⋯ |    NA | 0.7713468 |    NA |        NA |        NA |        NA | NA |    NA | 0.9550391 |    NA | 0.7713468 |    NA |        NA |        NA |        NA | 25.00 | (15,25] | 0.5510000 | 0.5510000 | 0.5510000 | 0.551 | 0.7713468 | 0.551 | 0.9550391 | 0.551 |\n",
       "| 2 | 1&amp;1 Internet | Germany |  43450963 | FirstTime | 1 | 2020-01-27 | 2017-01-27 | Active | ncyc.online                  | 1&amp;1 Internet | NA | 3 | 55 | 18.33 | 0 | 239731665 | transfer     | NA         | Renewed    | 2019-10-13 | 25 | 1.18 | ncyc                  | 1 | 23 | ⋯ | 0.817 | 0.6676114 | 0.543 | 0.7268116 | 0.5644593 | 0.7075837 | EU | 0.817 | 0.6088277 | 0.817 | 0.6676114 | 0.543 | 0.7268116 | 0.5644593 | 0.7075837 | 18.33 | (15,25] | 0.7075837 | 0.5644593 | 0.7268116 | 0.543 | 0.6676114 | 0.817 | 0.6088277 | 0.817 |\n",
       "| 3 | 1&amp;1 Internet | Germany |  43576888 | FirstTime | 1 | 2020-01-31 | 2017-01-31 | Active | audev.online                 | 1&amp;1 Internet | NA | 3 | 55 | 18.33 | 0 | 287997921 | auto-renewal | realized   | Renewed    | 2020-01-31 | 25 | 2.57 | audev                 | 1 | 43 | ⋯ | 0.814 | 0.6877335 | 0.536 | 0.7155560 | 0.5601541 | 0.7314602 | EU | 0.814 | 0.6477227 | 0.814 | 0.6877335 | 0.536 | 0.7155560 | 0.5601541 | 0.7314602 | 18.33 | (15,25] | 0.7314602 | 0.5601541 | 0.7155560 | 0.536 | 0.6877335 | 0.814 | 0.6477227 | 0.814 |\n",
       "| 4 | 1&amp;1 Internet | Germany |  43727452 | FirstTime | 1 | 2020-02-03 | 2017-02-03 | Active | pinkpanther.store            | 1&amp;1 Internet | NA | 3 | 88 | 29.33 | 0 | 288786056 | auto-renewal | unrealized | Not Renewd | 2020-02-03 | 40 | 7.27 | pinkpanther           | 1 |  3 | ⋯ | 0.838 | 0.2588170 | 0.513 | 0.2754756 | 0.1642908 | 0.1535971 | EU | 0.833 | 0.2384536 | 0.838 | 0.2588170 | 0.513 | 0.2754756 | 0.1642908 | 0.1535971 | 29.33 | (25,35] | 0.1535971 | 0.1642908 | 0.2754756 | 0.513 | 0.2588170 | 0.838 | 0.2384536 | 0.833 |\n",
       "| 5 | 1&amp;1 Internet | Germany |  46911148 | FirstTime | 1 | 2020-04-17 | 2017-04-17 | Active | lmengineeringservices.online | 1&amp;1 Internet | NA | 3 | 50 | 16.67 | 0 | 308749164 | auto-renewal | realized   | Renewed    | 2020-04-17 | 25 | 7.81 | lmengineeringservices | 1 | 69 | ⋯ | 0.775 | 0.3878439 | 0.468 | 0.3962124 | 0.4979086 | 0.3769304 | EU | 0.772 | 0.3972606 | 0.775 | 0.3878439 | 0.468 | 0.3962124 | 0.4979086 | 0.3769304 | 16.67 | (15,25] | 0.3769304 | 0.4979086 | 0.3962124 | 0.468 | 0.3878439 | 0.775 | 0.3972606 | 0.772 |\n",
       "| 6 | 1&amp;1 Internet | Germany |  47605334 | FirstTime | 1 | 2020-05-08 | 2017-05-08 | Active | eagleeyeview.store           | 1&amp;1 Internet | NA | 3 | 90 | 30.00 | 0 | 313867134 | auto-renewal | unrealized | Not Renewd | 2020-05-08 | 40 | 3.41 | eagleeyeview          | 1 |  4 | ⋯ | 0.829 | 0.1730035 | 0.516 | 0.1675698 | 0.1723292 | 0.1027711 | EU | 0.823 | 0.1925156 | 0.829 | 0.1730035 | 0.516 | 0.1675698 | 0.1723292 | 0.1027711 | 30.00 | (25,35] | 0.1027711 | 0.1723292 | 0.1675698 | 0.516 | 0.1730035 | 0.829 | 0.1925156 | 0.823 |\n",
       "\n"
      ],
      "text/plain": [
       "  reseller     reseller_country domain_id renewal_type renewed_count\n",
       "1                               122049036 FirstTime    1            \n",
       "2 1&1 Internet Germany           43450963 FirstTime    1            \n",
       "3 1&1 Internet Germany           43576888 FirstTime    1            \n",
       "4 1&1 Internet Germany           43727452 FirstTime    1            \n",
       "5 1&1 Internet Germany           46911148 FirstTime    1            \n",
       "6 1&1 Internet Germany           47605334 FirstTime    1            \n",
       "  expiry_date creation_date status domain                       registrar   \n",
       "1 2020-08-30  2019-08-30    Active qianxiyun.online                         \n",
       "2 2020-01-27  2017-01-27    Active ncyc.online                  1&1 Internet\n",
       "3 2020-01-31  2017-01-31    Active audev.online                 1&1 Internet\n",
       "4 2020-02-03  2017-02-03    Active pinkpanther.store            1&1 Internet\n",
       "5 2020-04-17  2017-04-17    Active lmengineeringservices.online 1&1 Internet\n",
       "6 2020-05-08  2017-05-08    Active eagleeyeview.store           1&1 Internet\n",
       "  registrant_country reg_period reg_revenue reg_arpt renew_mbg renewal_item_id\n",
       "1 NA                 1          25          25.00    0         341703158      \n",
       "2 NA                 3          55          18.33    0         239731665      \n",
       "3 NA                 3          55          18.33    0         287997921      \n",
       "4 NA                 3          88          29.33    0         288786056      \n",
       "5 NA                 3          50          16.67    0         308749164      \n",
       "6 NA                 3          90          30.00    0         313867134      \n",
       "  renew_type   autorenew_type renewal_status renew_date renew_arpt gibb_score\n",
       "1 auto-renewal unrealized     Not Renewd     2020-08-30  6         0.63      \n",
       "2 transfer     NA             Renewed        2019-10-13 25         1.18      \n",
       "3 auto-renewal realized       Renewed        2020-01-31 25         2.57      \n",
       "4 auto-renewal unrealized     Not Renewd     2020-02-03 40         7.27      \n",
       "5 auto-renewal realized       Renewed        2020-04-17 25         7.81      \n",
       "6 auto-renewal unrealized     Not Renewd     2020-05-08 40         3.41      \n",
       "  pattern               pattern_domain_count day_domains ⋯ pred_agg_glm\n",
       "1 qianxiyun             1                     1          ⋯    NA       \n",
       "2 ncyc                  1                    23          ⋯ 0.817       \n",
       "3 audev                 1                    43          ⋯ 0.814       \n",
       "4 pinkpanther           1                     3          ⋯ 0.838       \n",
       "5 lmengineeringservices 1                    69          ⋯ 0.775       \n",
       "6 eagleeyeview          1                     4          ⋯ 0.829       \n",
       "  pred_agg_rf pred_seg_glm_ALL pred_seg_rf_ALL pred_seg2_glm_ALL\n",
       "1 0.7713468      NA                   NA              NA        \n",
       "2 0.6676114   0.543            0.7268116       0.5644593        \n",
       "3 0.6877335   0.536            0.7155560       0.5601541        \n",
       "4 0.2588170   0.513            0.2754756       0.1642908        \n",
       "5 0.3878439   0.468            0.3962124       0.4979086        \n",
       "6 0.1730035   0.516            0.1675698       0.1723292        \n",
       "  pred_seg2_rf_ALL reseller_geo pred_agg_glm_ALL_fb pred_agg_rf_ALL_fb\n",
       "1        NA        NA              NA               0.9550391         \n",
       "2 0.7075837        EU           0.817               0.6088277         \n",
       "3 0.7314602        EU           0.814               0.6477227         \n",
       "4 0.1535971        EU           0.833               0.2384536         \n",
       "5 0.3769304        EU           0.772               0.3972606         \n",
       "6 0.1027711        EU           0.823               0.1925156         \n",
       "  pred_agg_glm_fb pred_agg_rf_fb pred_seg_glm_ALL_fb pred_seg_rf_ALL_fb\n",
       "1    NA           0.7713468         NA                      NA         \n",
       "2 0.817           0.6676114      0.543               0.7268116         \n",
       "3 0.814           0.6877335      0.536               0.7155560         \n",
       "4 0.838           0.2588170      0.513               0.2754756         \n",
       "5 0.775           0.3878439      0.468               0.3962124         \n",
       "6 0.829           0.1730035      0.516               0.1675698         \n",
       "  pred_seg2_glm_ALL_fb pred_seg2_rf_ALL_fb reg_arpt_org reg_arpt_slab\n",
       "1        NA                   NA           25.00        (15,25]      \n",
       "2 0.5644593            0.7075837           18.33        (15,25]      \n",
       "3 0.5601541            0.7314602           18.33        (15,25]      \n",
       "4 0.1642908            0.1535971           29.33        (25,35]      \n",
       "5 0.4979086            0.3769304           16.67        (15,25]      \n",
       "6 0.1723292            0.1027711           30.00        (25,35]      \n",
       "  pred_seg2_rf_ALL_fb2 pred_seg2_glm_ALL_fb2 pred_seg_rf_ALL_fb2\n",
       "1 0.5510000            0.5510000             0.5510000          \n",
       "2 0.7075837            0.5644593             0.7268116          \n",
       "3 0.7314602            0.5601541             0.7155560          \n",
       "4 0.1535971            0.1642908             0.2754756          \n",
       "5 0.3769304            0.4979086             0.3962124          \n",
       "6 0.1027711            0.1723292             0.1675698          \n",
       "  pred_seg_glm_ALL_fb2 pred_agg_rf_fb2 pred_agg_glm_fb2 pred_agg_rf_ALL_fb2\n",
       "1 0.551                0.7713468       0.551            0.9550391          \n",
       "2 0.543                0.6676114       0.817            0.6088277          \n",
       "3 0.536                0.6877335       0.814            0.6477227          \n",
       "4 0.513                0.2588170       0.838            0.2384536          \n",
       "5 0.468                0.3878439       0.775            0.3972606          \n",
       "6 0.516                0.1730035       0.829            0.1925156          \n",
       "  pred_agg_glm_ALL_fb2\n",
       "1 0.551               \n",
       "2 0.817               \n",
       "3 0.814               \n",
       "4 0.833               \n",
       "5 0.772               \n",
       "6 0.823               "
      ]
     },
     "metadata": {},
     "output_type": "display_data"
    }
   ],
   "source": [
    "# geo_suppl for train and test-pred data\n",
    "preds_df <- read.csv(\"../../data/output/datapull_20201116/expiry_df_test_preds_fb.csv\")\n",
    "head(preds_df)"
   ]
  },
  {
   "cell_type": "markdown",
   "metadata": {},
   "source": [
    "# Generate Metrics @ Tld-Reseller level "
   ]
  },
  {
   "cell_type": "code",
   "execution_count": 10,
   "metadata": {},
   "outputs": [],
   "source": [
    "l10_dplyr <- function (pred_df,\n",
    "                              pred_var = \"first_renewal_prediction\") {\n",
    "  N <- 10  # total number of rows to preallocate--possibly an overestimate\n",
    "  lift_df <- data.frame(P =rep(NA, N), \n",
    "                        actu_renwd2=rep(NA, N), \n",
    "                        gain=rep(NA, N), \n",
    "                        lift=rep(NA, N), \n",
    "                        stringsAsFactors=FALSE)          # you don't know levels yet\n",
    "  actu_renwd <- sum(pred_df[[\"renewal_status\"]]=='Renewed')\n",
    "  \n",
    "  i = 1\n",
    "  for(P in seq(.1,1,length=10)){\n",
    "    temp_df <- data.frame(pred_df)[c(\"renewal_status\",pred_var)]\n",
    "    ttmp_df <- temp_df[order(temp_df[pred_var],decreasing = TRUE),][1:round(dim(temp_df)[1]*P),]\n",
    "    actu_renwd2 <-  sum(ttmp_df[[\"renewal_status\"]] == 'Renewed')\n",
    "    gain = actu_renwd2/actu_renwd\n",
    "    lift = gain/(P)\n",
    "    \n",
    "    lift_df[i, ] <- list(P, actu_renwd2, gain, lift)\n",
    "    i = i+1\n",
    "  }\n",
    "  return(lift_df %>% filter(P==0.1) %>% pull(lift))\n",
    "}\n",
    "\n",
    "auc_dplyr <- function (pred_df,\n",
    "                              pred_var = \"first_renewal_prediction\") {\n",
    "  N <- 10  # total number of rows to preallocate--possibly an overestimate\n",
    "  lift_df <- data.frame(P =rep(NA, N), \n",
    "                        actu_renwd2=rep(NA, N), \n",
    "                        gain=rep(NA, N), \n",
    "                        lift=rep(NA, N), \n",
    "                        stringsAsFactors=FALSE)          # you don't know levels yet\n",
    "  actu_renwd <- sum(pred_df[[\"renewal_status\"]]=='Renewed')\n",
    "  \n",
    "  i = 1\n",
    "  for(P in seq(.1,1,length=10)){\n",
    "    temp_df <- data.frame(pred_df)[c(\"renewal_status\",pred_var)]\n",
    "    ttmp_df <- temp_df[order(temp_df[pred_var],decreasing = TRUE),][1:round(dim(temp_df)[1]*P),]\n",
    "    actu_renwd2 <-  sum(ttmp_df[[\"renewal_status\"]] == 'Renewed')\n",
    "    gain = actu_renwd2/actu_renwd\n",
    "    lift = gain/(P)\n",
    "    \n",
    "    lift_df[i, ] <- list(P, actu_renwd2, gain, lift)\n",
    "    i = i+1\n",
    "  }\n",
    "  return(calc_auc(lift_df))\n",
    "}"
   ]
  },
  {
   "cell_type": "code",
   "execution_count": 11,
   "metadata": {},
   "outputs": [
    {
     "data": {
      "text/html": [
       "<style>\n",
       ".list-inline {list-style: none; margin:0; padding: 0}\n",
       ".list-inline>li {display: inline-block}\n",
       ".list-inline>li:not(:last-child)::after {content: \"\\00b7\"; padding: 0 .5ex}\n",
       "</style>\n",
       "<ol class=list-inline><li>'pred_agg_glm_ALL'</li><li>'pred_agg_rf_ALL'</li><li>'pred_agg_glm'</li><li>'pred_agg_rf'</li><li>'pred_seg_glm_ALL'</li><li>'pred_seg_rf_ALL'</li><li>'pred_seg2_glm_ALL'</li><li>'pred_seg2_rf_ALL'</li><li>'pred_agg_glm_ALL_fb'</li><li>'pred_agg_rf_ALL_fb'</li><li>'pred_agg_glm_fb'</li><li>'pred_agg_rf_fb'</li><li>'pred_seg_glm_ALL_fb'</li><li>'pred_seg_rf_ALL_fb'</li><li>'pred_seg2_glm_ALL_fb'</li><li>'pred_seg2_rf_ALL_fb'</li><li>'pred_seg2_rf_ALL_fb2'</li><li>'pred_seg2_glm_ALL_fb2'</li><li>'pred_seg_rf_ALL_fb2'</li><li>'pred_seg_glm_ALL_fb2'</li><li>'pred_agg_rf_fb2'</li><li>'pred_agg_glm_fb2'</li><li>'pred_agg_rf_ALL_fb2'</li><li>'pred_agg_glm_ALL_fb2'</li></ol>\n"
      ],
      "text/latex": [
       "\\begin{enumerate*}\n",
       "\\item 'pred\\_agg\\_glm\\_ALL'\n",
       "\\item 'pred\\_agg\\_rf\\_ALL'\n",
       "\\item 'pred\\_agg\\_glm'\n",
       "\\item 'pred\\_agg\\_rf'\n",
       "\\item 'pred\\_seg\\_glm\\_ALL'\n",
       "\\item 'pred\\_seg\\_rf\\_ALL'\n",
       "\\item 'pred\\_seg2\\_glm\\_ALL'\n",
       "\\item 'pred\\_seg2\\_rf\\_ALL'\n",
       "\\item 'pred\\_agg\\_glm\\_ALL\\_fb'\n",
       "\\item 'pred\\_agg\\_rf\\_ALL\\_fb'\n",
       "\\item 'pred\\_agg\\_glm\\_fb'\n",
       "\\item 'pred\\_agg\\_rf\\_fb'\n",
       "\\item 'pred\\_seg\\_glm\\_ALL\\_fb'\n",
       "\\item 'pred\\_seg\\_rf\\_ALL\\_fb'\n",
       "\\item 'pred\\_seg2\\_glm\\_ALL\\_fb'\n",
       "\\item 'pred\\_seg2\\_rf\\_ALL\\_fb'\n",
       "\\item 'pred\\_seg2\\_rf\\_ALL\\_fb2'\n",
       "\\item 'pred\\_seg2\\_glm\\_ALL\\_fb2'\n",
       "\\item 'pred\\_seg\\_rf\\_ALL\\_fb2'\n",
       "\\item 'pred\\_seg\\_glm\\_ALL\\_fb2'\n",
       "\\item 'pred\\_agg\\_rf\\_fb2'\n",
       "\\item 'pred\\_agg\\_glm\\_fb2'\n",
       "\\item 'pred\\_agg\\_rf\\_ALL\\_fb2'\n",
       "\\item 'pred\\_agg\\_glm\\_ALL\\_fb2'\n",
       "\\end{enumerate*}\n"
      ],
      "text/markdown": [
       "1. 'pred_agg_glm_ALL'\n",
       "2. 'pred_agg_rf_ALL'\n",
       "3. 'pred_agg_glm'\n",
       "4. 'pred_agg_rf'\n",
       "5. 'pred_seg_glm_ALL'\n",
       "6. 'pred_seg_rf_ALL'\n",
       "7. 'pred_seg2_glm_ALL'\n",
       "8. 'pred_seg2_rf_ALL'\n",
       "9. 'pred_agg_glm_ALL_fb'\n",
       "10. 'pred_agg_rf_ALL_fb'\n",
       "11. 'pred_agg_glm_fb'\n",
       "12. 'pred_agg_rf_fb'\n",
       "13. 'pred_seg_glm_ALL_fb'\n",
       "14. 'pred_seg_rf_ALL_fb'\n",
       "15. 'pred_seg2_glm_ALL_fb'\n",
       "16. 'pred_seg2_rf_ALL_fb'\n",
       "17. 'pred_seg2_rf_ALL_fb2'\n",
       "18. 'pred_seg2_glm_ALL_fb2'\n",
       "19. 'pred_seg_rf_ALL_fb2'\n",
       "20. 'pred_seg_glm_ALL_fb2'\n",
       "21. 'pred_agg_rf_fb2'\n",
       "22. 'pred_agg_glm_fb2'\n",
       "23. 'pred_agg_rf_ALL_fb2'\n",
       "24. 'pred_agg_glm_ALL_fb2'\n",
       "\n",
       "\n"
      ],
      "text/plain": [
       " [1] \"pred_agg_glm_ALL\"      \"pred_agg_rf_ALL\"       \"pred_agg_glm\"         \n",
       " [4] \"pred_agg_rf\"           \"pred_seg_glm_ALL\"      \"pred_seg_rf_ALL\"      \n",
       " [7] \"pred_seg2_glm_ALL\"     \"pred_seg2_rf_ALL\"      \"pred_agg_glm_ALL_fb\"  \n",
       "[10] \"pred_agg_rf_ALL_fb\"    \"pred_agg_glm_fb\"       \"pred_agg_rf_fb\"       \n",
       "[13] \"pred_seg_glm_ALL_fb\"   \"pred_seg_rf_ALL_fb\"    \"pred_seg2_glm_ALL_fb\" \n",
       "[16] \"pred_seg2_rf_ALL_fb\"   \"pred_seg2_rf_ALL_fb2\"  \"pred_seg2_glm_ALL_fb2\"\n",
       "[19] \"pred_seg_rf_ALL_fb2\"   \"pred_seg_glm_ALL_fb2\"  \"pred_agg_rf_fb2\"      \n",
       "[22] \"pred_agg_glm_fb2\"      \"pred_agg_rf_ALL_fb2\"   \"pred_agg_glm_ALL_fb2\" "
      ]
     },
     "metadata": {},
     "output_type": "display_data"
    }
   ],
   "source": [
    "preds_df %>% select(contains('pred_')) %>% names()"
   ]
  },
  {
   "cell_type": "code",
   "execution_count": null,
   "metadata": {},
   "outputs": [],
   "source": [
    "metrics_df <- preds_df %>%\n",
    "  group_by(tld_registrar_index) %>%\n",
    "  do( l10_seg2_glm = l10_dplyr(., pred_var = \"pred_seg2_glm_ALL\"),\n",
    "      l10_seg_glm = l10_dplyr(., pred_var = \"pred_seg_glm_ALL\"),\n",
    "       l10_agg_glm_ALL = l10_dplyr(., pred_var = \"pred_agg_glm_ALL\"),\n",
    "       l10_agg_glm = l10_dplyr(., pred_var = \"pred_agg_glm\"),\n",
    "       l10_seg2_rf = l10_dplyr(., pred_var = \"pred_seg2_rf_ALL\"),\n",
    "       l10_seg_rf = l10_dplyr(., pred_var = \"pred_seg_rf_ALL\"),\n",
    "       l10_agg_rf = l10_dplyr(., pred_var = \"pred_agg_rf\"),\n",
    "       l10_agg_rf_ALL = l10_dplyr(., pred_var = \"pred_agg_rf_ALL\"),\n",
    "     \n",
    "      auc_seg2_glm = auc_dplyr(., pred_var = \"pred_seg2_glm_ALL\"),\n",
    "      auc_seg_glm = auc_dplyr(., pred_var = \"pred_seg_glm_ALL\"),\n",
    "       auc_agg_glm_ALL = auc_dplyr(., pred_var = \"pred_agg_glm_ALL\"),\n",
    "       auc_agg_glm = auc_dplyr(., pred_var = \"pred_agg_glm\"),\n",
    "       auc_seg2_rf = auc_dplyr(., pred_var = \"pred_seg2_rf_ALL\"),\n",
    "       auc_seg_rf = auc_dplyr(., pred_var = \"pred_seg_rf_ALL\"),\n",
    "       auc_agg_rf_ALL = auc_dplyr(., pred_var = \"pred_agg_rf_ALL\"),\n",
    "       auc_agg_rf = auc_dplyr(., pred_var = \"pred_agg_rf\"),\n",
    "      \n",
    "     l10_seg2_glm_fb = l10_dplyr(., pred_var = \"pred_seg2_glm_ALL_fb2\"),\n",
    "      l10_seg_glm_fb = l10_dplyr(., pred_var = \"pred_seg_glm_ALL_fb2\"),\n",
    "       l10_agg_glm_fb = l10_dplyr(., pred_var = \"pred_agg_glm_fb2\"),\n",
    "       l10_agg_glm_ALL_fb = l10_dplyr(., pred_var = \"pred_agg_glm_ALL_fb2\"),\n",
    "       l10_seg2_rf_fb = l10_dplyr(., pred_var = \"pred_seg2_rf_ALL_fb2\"),\n",
    "       l10_seg_rf_fb = l10_dplyr(., pred_var = \"pred_seg_rf_ALL_fb2\"),\n",
    "       l10_agg_rf_fb = l10_dplyr(., pred_var = \"pred_agg_rf_fb2\"),\n",
    "       l10_agg_rf_ALL_fb = l10_dplyr(., pred_var = \"pred_agg_rf_ALL_fb2\"),\n",
    "     \n",
    "      auc_seg2_glm_fb = auc_dplyr(., pred_var = \"pred_seg2_glm_ALL_fb2\"),\n",
    "      auc_seg_glm_fb = auc_dplyr(., pred_var = \"pred_seg_glm_ALL_fb2\"),\n",
    "       auc_agg_glm_fb = auc_dplyr(., pred_var = \"pred_agg_glm_fb2\"),\n",
    "       auc_agg_glm_ALL_fb = auc_dplyr(., pred_var = \"pred_agg_glm_ALL_fb2\"),\n",
    "       auc_seg2_rf_fb = auc_dplyr(., pred_var = \"pred_seg2_rf_ALL_fb2\"),\n",
    "       auc_seg_rf_fb = auc_dplyr(., pred_var = \"pred_seg_rf_ALL_fb2\"),\n",
    "       auc_agg_rf_fb = auc_dplyr(., pred_var = \"pred_agg_rf_fb2\"),\n",
    "       auc_agg_rf_ALL_fb = auc_dplyr(., pred_var = \"pred_agg_rf_ALL_fb2\"),\n",
    "      )"
   ]
  },
  {
   "cell_type": "code",
   "execution_count": null,
   "metadata": {},
   "outputs": [],
   "source": [
    "metrics_df2 <- metrics_df %>% mutate_if(is.list,as.numeric)"
   ]
  },
  {
   "cell_type": "code",
   "execution_count": null,
   "metadata": {},
   "outputs": [],
   "source": [
    "head(metrics_df2)"
   ]
  },
  {
   "cell_type": "code",
   "execution_count": null,
   "metadata": {},
   "outputs": [],
   "source": [
    "write.csv(metrics_df2, file=\"../../data/output/datapull_20201116/expiry_df_test_metrics.csv\", row.names=FALSE)\n",
    "system(\"gsutil cp /home/jupyter/local/Domains_202003/data/output/datapull_20201116/* gs://data_outputt/output/datapull_20201116/ \")\n",
    "# system(\"mv /home/jupyter/local/Domains_202003/data/output/* /home/jupyter/local/Domains_202003/data/\")"
   ]
  },
  {
   "cell_type": "code",
   "execution_count": null,
   "metadata": {},
   "outputs": [],
   "source": [
    "metrics_df <- metrics_df2"
   ]
  },
  {
   "cell_type": "code",
   "execution_count": null,
   "metadata": {},
   "outputs": [],
   "source": [
    "# metrics_df <- read.csv(\"../../data/../../data/output/datapull_20201116/expiry_df_test_metrics.csv\")"
   ]
  },
  {
   "cell_type": "code",
   "execution_count": null,
   "metadata": {},
   "outputs": [],
   "source": [
    "# dim(metrics_df)\n",
    "# head(metrics_df)"
   ]
  },
  {
   "cell_type": "markdown",
   "metadata": {},
   "source": [
    "# Metalearning Prep"
   ]
  },
  {
   "cell_type": "markdown",
   "metadata": {},
   "source": [
    "## add geo to training data for feature eng"
   ]
  },
  {
   "cell_type": "code",
   "execution_count": null,
   "metadata": {},
   "outputs": [],
   "source": [
    "# geo_suppl for train and test-pred data\n",
    "geoLookupDF <- read.csv(\"/home/jupyter/Domains_202003/data/input/PredictiveModelAnalysis_ResellerGeoMap.csv\")"
   ]
  },
  {
   "cell_type": "code",
   "execution_count": null,
   "metadata": {},
   "outputs": [],
   "source": [
    "preds_geo_df <- geo_suppl(preds_df, geoLookupDF = geoLookupDF)"
   ]
  },
  {
   "cell_type": "code",
   "execution_count": null,
   "metadata": {},
   "outputs": [],
   "source": [
    "# ensure same number of dims as before\n",
    "dim(preds_df)\n",
    "dim(preds_geo_df)"
   ]
  },
  {
   "cell_type": "code",
   "execution_count": null,
   "metadata": {},
   "outputs": [],
   "source": [
    "head(preds_geo_df)"
   ]
  },
  {
   "cell_type": "markdown",
   "metadata": {},
   "source": [
    "## Feature Engineering for tld-reseller level "
   ]
  },
  {
   "cell_type": "code",
   "execution_count": null,
   "metadata": {},
   "outputs": [],
   "source": [
    "# new geo level feature eng\n",
    "preds_meta_df = preds_geo_df %>%\n",
    "  add_count(tld_registrar_index, reseller_geo) %>%\n",
    "  group_by(tld_registrar_index) %>%\n",
    "  summarise(\n",
    "            geo_maj = reseller_geo[n == max(n)][1],\n",
    "            geo_cnt = n_distinct(reseller_geo),\n",
    "            n = n(),\n",
    "            ren_prp = sum(renewal_status=='Renewed')/sum(n),\n",
    "            tld_cnt = n_distinct(tld), tld_rat = tld_cnt/n,\n",
    "              \n",
    "            daydom_min = min(day_domains), \n",
    "            daydom_max = max(day_domains), \n",
    "            daydom_mean = mean(day_domains, na.rm = TRUE), \n",
    "            daydom_rng = daydom_max - daydom_min, \n",
    "            daydom_std = sd(day_domains, na.rm = TRUE), \n",
    "            daydom_skew = skewness(day_domains, na.rm = TRUE), \n",
    "            daydom_kurt = kurtosis(day_domains, na.rm = TRUE),\n",
    "\n",
    "            sldlen_min = min(sld_length), \n",
    "            sldlen_max = max(sld_length), \n",
    "            sldlen_mean = mean(sld_length, na.rm = TRUE), \n",
    "            sldlen_rng = sldlen_max - sldlen_min, \n",
    "            sldlen_std = sd(sld_length, na.rm = TRUE), \n",
    "            sldlen_skew = skewness(sld_length, na.rm = TRUE), \n",
    "            sldlen_kurt = kurtosis(sld_length, na.rm = TRUE),\n",
    "  \n",
    "            gibbs_min = min(gibb_score), \n",
    "            gibbs_max = max(gibb_score), \n",
    "            gibbs_mean = mean(gibb_score, na.rm = TRUE), \n",
    "            gibbs_rng = gibbs_max - gibbs_min, \n",
    "            gibbs_std = sd(gibb_score, na.rm = TRUE), \n",
    "            gibbs_skew = skewness(gibb_score, na.rm = TRUE), \n",
    "            gibbs_kurt = kurtosis(gibb_score, na.rm = TRUE),\n",
    "  \n",
    "            pdcnt_min = min(pattern_domain_count), \n",
    "            pdcnt_max = max(pattern_domain_count), \n",
    "            pdcnt_mean = mean(pattern_domain_count, na.rm = TRUE), \n",
    "            pdcnt_rng = pdcnt_max - pdcnt_min, \n",
    "            pdcnt_std = sd(pattern_domain_count, na.rm = TRUE), \n",
    "            pdcnt_skew = skewness(pattern_domain_count, na.rm = TRUE), \n",
    "            pdcnt_kurt = kurtosis(pattern_domain_count, na.rm = TRUE),\n",
    "  \n",
    "            regarpt_min = min(reg_arpt), \n",
    "            regarpt_max = max(reg_arpt), \n",
    "            regarpt_mean = mean(reg_arpt, na.rm = TRUE), \n",
    "            regarpt_rng = regarpt_max - regarpt_min, \n",
    "            regarpt_std = sd(reg_arpt, na.rm = TRUE), \n",
    "            regarpt_skew = skewness(reg_arpt, na.rm = TRUE), \n",
    "            regarpt_kurt = kurtosis(reg_arpt, na.rm = TRUE))\n",
    "dim(preds_meta_df)\n",
    "head(preds_meta_df)"
   ]
  },
  {
   "cell_type": "code",
   "execution_count": null,
   "metadata": {},
   "outputs": [],
   "source": [
    "# add a handful more vars \n",
    "country_maj = preds_df %>%\n",
    "  add_count(tld_registrar_index, reseller_country) %>%\n",
    "  group_by(tld_registrar_index) %>%\n",
    "  mutate(reseller_country_maj = reseller_country[n == max(n)][1]) %>%\n",
    "  select(-n) %>% \n",
    "  group_by(tld_registrar_index,reseller_country_maj) %>%\n",
    "    summarise(n = n()) %>% \n",
    "    arrange(desc(n)) %>%\n",
    "    pull(reseller_country_maj)\n",
    "\n",
    "country_cnt = preds_df %>%\n",
    "  add_count(tld_registrar_index, reseller_country) %>%\n",
    "  group_by(tld_registrar_index) %>%\n",
    "  summarise(reseller_country_cnt = n_distinct(reseller_country)) %>%\n",
    "  pull(reseller_country_cnt)  \n",
    "\n",
    "region_maj = preds_df %>%\n",
    "  add_count(tld_registrar_index, region) %>%\n",
    "  group_by(tld_registrar_index) %>%\n",
    "  mutate(region_maj = region[n == max(n)][1]) %>%\n",
    "  select(-n) %>% \n",
    "  group_by(tld_registrar_index,region_maj) %>%\n",
    "    summarise(n = n()) %>% \n",
    "    arrange(desc(n)) %>%\n",
    "    pull(region_maj)\n",
    "\n",
    "region_cnt = preds_df %>%\n",
    "  add_count(tld_registrar_index, region) %>%\n",
    "  group_by(tld_registrar_index) %>%\n",
    "  summarise(reseller_region_cnt = n_distinct(reseller_country)) %>%\n",
    "  pull(reseller_region_cnt)  \n",
    "\n",
    "preds_meta_df = preds_meta_df %>% \n",
    "    mutate(country_maj = country_maj,\n",
    "            region_maj = region_maj,\n",
    "            country_cnt = country_cnt,\n",
    "            region_cnt = region_cnt,\n",
    "            )"
   ]
  },
  {
   "cell_type": "code",
   "execution_count": null,
   "metadata": {},
   "outputs": [],
   "source": [
    "dim(preds_meta_df)\n",
    "head(preds_meta_df)"
   ]
  },
  {
   "cell_type": "markdown",
   "metadata": {},
   "source": [
    "# Join w/ Metrics"
   ]
  },
  {
   "cell_type": "code",
   "execution_count": null,
   "metadata": {},
   "outputs": [],
   "source": [
    "metametrics_df <- merge(preds_meta_df, metrics_df, on = 'tld_registrar_index', all = TRUE)\n",
    "\n",
    "dim(metametrics_df)\n",
    "head(metametrics_df)"
   ]
  },
  {
   "cell_type": "markdown",
   "metadata": {},
   "source": [
    "# Write for model building\n"
   ]
  },
  {
   "cell_type": "code",
   "execution_count": null,
   "metadata": {},
   "outputs": [],
   "source": [
    "write.csv(metametrics_df, file=\"../../data/output/datapull_20201116/expiry_metametrics_df.csv\", row.names=FALSE)\n",
    "system(\"gsutil cp /home/jupyter/local/Domains_202003/data/output/datapull_20201116/* gs://data_outputt/output/datapull_20201116/ \")\n"
   ]
  },
  {
   "cell_type": "code",
   "execution_count": null,
   "metadata": {},
   "outputs": [],
   "source": []
  }
 ],
 "metadata": {
  "environment": {
   "name": "r-cpu.3-6.m48",
   "type": "gcloud",
   "uri": "gcr.io/deeplearning-platform-release/r-cpu.3-6:m48"
  },
  "kernelspec": {
   "display_name": "R",
   "language": "R",
   "name": "ir"
  },
  "language_info": {
   "codemirror_mode": "r",
   "file_extension": ".r",
   "mimetype": "text/x-r-source",
   "name": "R",
   "pygments_lexer": "r",
   "version": "3.6.3"
  }
 },
 "nbformat": 4,
 "nbformat_minor": 4
}
