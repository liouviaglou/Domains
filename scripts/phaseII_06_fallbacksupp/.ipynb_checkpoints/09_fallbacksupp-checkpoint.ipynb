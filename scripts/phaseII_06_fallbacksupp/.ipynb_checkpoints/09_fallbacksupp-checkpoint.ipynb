{
 "cells": [
  {
   "cell_type": "markdown",
   "metadata": {},
   "source": [
    "# Supplementing predictions eith fallback tables for low vol tld-re's"
   ]
  },
  {
   "cell_type": "code",
   "execution_count": 1,
   "metadata": {},
   "outputs": [],
   "source": [
    "options(repr.matrix.max.cols=50, repr.matrix.max.rows=100)"
   ]
  },
  {
   "cell_type": "code",
   "execution_count": 2,
   "metadata": {},
   "outputs": [],
   "source": [
    "# install.packages(\"pkgcond\")"
   ]
  },
  {
   "cell_type": "code",
   "execution_count": 3,
   "metadata": {},
   "outputs": [
    {
     "name": "stderr",
     "output_type": "stream",
     "text": [
      "\n",
      "Attaching package: ‘dplyr’\n",
      "\n",
      "\n",
      "The following objects are masked from ‘package:stats’:\n",
      "\n",
      "    filter, lag\n",
      "\n",
      "\n",
      "The following objects are masked from ‘package:base’:\n",
      "\n",
      "    intersect, setdiff, setequal, union\n",
      "\n",
      "\n",
      "\n",
      "Attaching package: ‘data.table’\n",
      "\n",
      "\n",
      "The following objects are masked from ‘package:dplyr’:\n",
      "\n",
      "    between, first, last\n",
      "\n",
      "\n",
      "Loading required package: grid\n",
      "\n",
      "Loading required package: libcoin\n",
      "\n",
      "Loading required package: mvtnorm\n",
      "\n",
      "Loading required package: lattice\n",
      "\n",
      "Loading required package: ggplot2\n",
      "\n",
      "randomForest 4.6-14\n",
      "\n",
      "Type rfNews() to see new features/changes/bug fixes.\n",
      "\n",
      "\n",
      "Attaching package: ‘randomForest’\n",
      "\n",
      "\n",
      "The following object is masked from ‘package:ggplot2’:\n",
      "\n",
      "    margin\n",
      "\n",
      "\n",
      "The following object is masked from ‘package:dplyr’:\n",
      "\n",
      "    combine\n",
      "\n",
      "\n",
      "\n",
      "Attaching package: ‘ranger’\n",
      "\n",
      "\n",
      "The following object is masked from ‘package:randomForest’:\n",
      "\n",
      "    importance\n",
      "\n",
      "\n",
      "\n",
      "Attaching package: ‘plotly’\n",
      "\n",
      "\n",
      "The following object is masked from ‘package:ggplot2’:\n",
      "\n",
      "    last_plot\n",
      "\n",
      "\n",
      "The following object is masked from ‘package:stats’:\n",
      "\n",
      "    filter\n",
      "\n",
      "\n",
      "The following object is masked from ‘package:graphics’:\n",
      "\n",
      "    layout\n",
      "\n",
      "\n",
      "\n",
      "Attaching package: ‘zoo’\n",
      "\n",
      "\n",
      "The following objects are masked from ‘package:base’:\n",
      "\n",
      "    as.Date, as.Date.numeric\n",
      "\n",
      "\n"
     ]
    },
    {
     "data": {
      "text/html": [
       "'/home/jupyter/Domains_202003/scripts/phaseII_06_fallbacksupp'"
      ],
      "text/latex": [
       "'/home/jupyter/Domains\\_202003/scripts/phaseII\\_06\\_fallbacksupp'"
      ],
      "text/markdown": [
       "'/home/jupyter/Domains_202003/scripts/phaseII_06_fallbacksupp'"
      ],
      "text/plain": [
       "[1] \"/home/jupyter/Domains_202003/scripts/phaseII_06_fallbacksupp\""
      ]
     },
     "metadata": {},
     "output_type": "display_data"
    }
   ],
   "source": [
    "library(dplyr)\n",
    "library(data.table)\n",
    "library(partykit)\n",
    "library(tictoc)\n",
    "library(caret)\n",
    "library(e1071)\n",
    "library(randomForest)\n",
    "library(ranger)\n",
    "\n",
    "#for 3d plotting\n",
    "library(akima)\n",
    "library(plotly)\n",
    "\n",
    "# for prep data\n",
    "# library(rPython)\n",
    "library(stringr)\n",
    "library(pbapply)\n",
    "library(stringdist)\n",
    "library(data.table)\n",
    "library(dominanceanalysis)\n",
    "library(zoo)\n",
    "\n",
    "\n",
    "getwd()"
   ]
  },
  {
   "cell_type": "code",
   "execution_count": 4,
   "metadata": {},
   "outputs": [],
   "source": [
    "# install.packages(c(\"zoo\"))"
   ]
  },
  {
   "cell_type": "code",
   "execution_count": 5,
   "metadata": {},
   "outputs": [
    {
     "name": "stderr",
     "output_type": "stream",
     "text": [
      "\n",
      "Attaching package: ‘tidyr’\n",
      "\n",
      "\n",
      "The following object is masked from ‘package:stringdist’:\n",
      "\n",
      "    extract\n",
      "\n",
      "\n"
     ]
    }
   ],
   "source": [
    "\n",
    "source('../orig/functions.R')\n",
    "\n",
    "source('../orig/functions_models.R')\n",
    "\n",
    "source('../phaseII_03_forest/functions_eval.R')\n"
   ]
  },
  {
   "cell_type": "code",
   "execution_count": 39,
   "metadata": {},
   "outputs": [],
   "source": [
    "source('functions_metalearning.R')"
   ]
  },
  {
   "cell_type": "code",
   "execution_count": 60,
   "metadata": {},
   "outputs": [],
   "source": [
    "source('functions_fallback.R')"
   ]
  },
  {
   "cell_type": "code",
   "execution_count": 8,
   "metadata": {},
   "outputs": [],
   "source": [
    "# source('load_prep_data_expiry_2.R') #read in train test and predictions manually instead\n",
    "\n",
    "# READ CSV's\n",
    "expiry_df_test_preds <- read.csv(\"../../data/output/datapull_20201116/expiry_df_test_preds.csv\")\n",
    "expiry_df_train <- read.csv(\"../../data/output/datapull_20201116/expiry_df_train.csv\")\n",
    "expiry_df_test <- read.csv(\"../../data/output/datapull_20201116/expiry_df_test.csv\")\n",
    "\n",
    "# expiry_df\n",
    "# expiry_train_df \n",
    "# expiry_test_df \n",
    "# expiry_list\n",
    "# expiry_train_list\n",
    "# expiry_test_list"
   ]
  },
  {
   "cell_type": "code",
   "execution_count": 15,
   "metadata": {},
   "outputs": [
    {
     "data": {
      "text/html": [
       "<style>\n",
       ".list-inline {list-style: none; margin:0; padding: 0}\n",
       ".list-inline>li {display: inline-block}\n",
       ".list-inline>li:not(:last-child)::after {content: \"\\00b7\"; padding: 0 .5ex}\n",
       "</style>\n",
       "<ol class=list-inline><li>3729384</li><li>40</li></ol>\n"
      ],
      "text/latex": [
       "\\begin{enumerate*}\n",
       "\\item 3729384\n",
       "\\item 40\n",
       "\\end{enumerate*}\n"
      ],
      "text/markdown": [
       "1. 3729384\n",
       "2. 40\n",
       "\n",
       "\n"
      ],
      "text/plain": [
       "[1] 3729384      40"
      ]
     },
     "metadata": {},
     "output_type": "display_data"
    },
    {
     "data": {
      "text/html": [
       "<style>\n",
       ".list-inline {list-style: none; margin:0; padding: 0}\n",
       ".list-inline>li {display: inline-block}\n",
       ".list-inline>li:not(:last-child)::after {content: \"\\00b7\"; padding: 0 .5ex}\n",
       "</style>\n",
       "<ol class=list-inline><li>932347</li><li>40</li></ol>\n"
      ],
      "text/latex": [
       "\\begin{enumerate*}\n",
       "\\item 932347\n",
       "\\item 40\n",
       "\\end{enumerate*}\n"
      ],
      "text/markdown": [
       "1. 932347\n",
       "2. 40\n",
       "\n",
       "\n"
      ],
      "text/plain": [
       "[1] 932347     40"
      ]
     },
     "metadata": {},
     "output_type": "display_data"
    }
   ],
   "source": [
    "dim(expiry_df_train)\n",
    "dim(expiry_df_test_preds)"
   ]
  },
  {
   "cell_type": "markdown",
   "metadata": {},
   "source": [
    "# APPLY fallback functions"
   ]
  },
  {
   "cell_type": "code",
   "execution_count": 11,
   "metadata": {},
   "outputs": [],
   "source": [
    "# geo_suppl for train and test-pred data\n",
    "geoLookupDF <- read.csv(\"/home/jupyter/Domains_202003/data/input/PredictiveModelAnalysis_ResellerGeoMap.csv\")"
   ]
  },
  {
   "cell_type": "code",
   "execution_count": 13,
   "metadata": {},
   "outputs": [
    {
     "name": "stdout",
     "output_type": "stream",
     "text": [
      "Expiry data originally has 3729384 rows and 3729384 missing geo's.\n",
      "... after intial merge on reseller & _country, expiry has 3729384 rows and 3726455 missing geo's.\n",
      "... after secondary fill with _country, expiry has 3729384 rows and 6983 missing geo's.\n",
      "... after manual tweaks with _country, expiry has 3729384 rows and 29 missing geo's.\n",
      "Expiry data originally has 932347 rows and 932347 missing geo's.\n",
      "... after intial merge on reseller & _country, expiry has 932347 rows and 931606 missing geo's.\n",
      "... after secondary fill with _country, expiry has 932347 rows and 1741 missing geo's.\n",
      "... after manual tweaks with _country, expiry has 932347 rows and 8 missing geo's.\n"
     ]
    }
   ],
   "source": [
    "expiry_df_train_g <- geo_suppl(expiry_df_train, geoLookupDF = geoLookupDF)\n",
    "expiry_df_test_preds_g <- geo_suppl(expiry_df_test_preds, geoLookupDF = geoLookupDF)"
   ]
  },
  {
   "cell_type": "code",
   "execution_count": 14,
   "metadata": {},
   "outputs": [
    {
     "data": {
      "text/html": [
       "<style>\n",
       ".list-inline {list-style: none; margin:0; padding: 0}\n",
       ".list-inline>li {display: inline-block}\n",
       ".list-inline>li:not(:last-child)::after {content: \"\\00b7\"; padding: 0 .5ex}\n",
       "</style>\n",
       "<ol class=list-inline><li>3729384</li><li>41</li></ol>\n"
      ],
      "text/latex": [
       "\\begin{enumerate*}\n",
       "\\item 3729384\n",
       "\\item 41\n",
       "\\end{enumerate*}\n"
      ],
      "text/markdown": [
       "1. 3729384\n",
       "2. 41\n",
       "\n",
       "\n"
      ],
      "text/plain": [
       "[1] 3729384      41"
      ]
     },
     "metadata": {},
     "output_type": "display_data"
    },
    {
     "data": {
      "text/html": [
       "<style>\n",
       ".list-inline {list-style: none; margin:0; padding: 0}\n",
       ".list-inline>li {display: inline-block}\n",
       ".list-inline>li:not(:last-child)::after {content: \"\\00b7\"; padding: 0 .5ex}\n",
       "</style>\n",
       "<ol class=list-inline><li>932347</li><li>41</li></ol>\n"
      ],
      "text/latex": [
       "\\begin{enumerate*}\n",
       "\\item 932347\n",
       "\\item 41\n",
       "\\end{enumerate*}\n"
      ],
      "text/markdown": [
       "1. 932347\n",
       "2. 41\n",
       "\n",
       "\n"
      ],
      "text/plain": [
       "[1] 932347     41"
      ]
     },
     "metadata": {},
     "output_type": "display_data"
    }
   ],
   "source": [
    "# ensure same number of dims as before\n",
    "dim(expiry_df_train_g)\n",
    "dim(expiry_df_test_preds_g)"
   ]
  },
  {
   "cell_type": "code",
   "execution_count": 16,
   "metadata": {},
   "outputs": [
    {
     "data": {
      "text/html": [
       "<table>\n",
       "<caption>A data.frame: 7 × 3</caption>\n",
       "<thead>\n",
       "\t<tr><th scope=col>reseller</th><th scope=col>reseller_country</th><th scope=col>reseller_geo</th></tr>\n",
       "\t<tr><th scope=col>&lt;fct&gt;</th><th scope=col>&lt;fct&gt;</th><th scope=col>&lt;fct&gt;</th></tr>\n",
       "</thead>\n",
       "<tbody>\n",
       "\t<tr><td>AnyGaming      </td><td></td><td>NA</td></tr>\n",
       "\t<tr><td>Beijing Brandma</td><td></td><td>NA</td></tr>\n",
       "\t<tr><td>Innovadeus     </td><td></td><td>NA</td></tr>\n",
       "\t<tr><td>Net4 India     </td><td></td><td>NA</td></tr>\n",
       "\t<tr><td>NetClues       </td><td></td><td>NA</td></tr>\n",
       "\t<tr><td>OwnRegistrar   </td><td></td><td>NA</td></tr>\n",
       "\t<tr><td>Virtua Drug    </td><td></td><td>NA</td></tr>\n",
       "</tbody>\n",
       "</table>\n"
      ],
      "text/latex": [
       "A data.frame: 7 × 3\n",
       "\\begin{tabular}{lll}\n",
       " reseller & reseller\\_country & reseller\\_geo\\\\\n",
       " <fct> & <fct> & <fct>\\\\\n",
       "\\hline\n",
       "\t AnyGaming       &  & NA\\\\\n",
       "\t Beijing Brandma &  & NA\\\\\n",
       "\t Innovadeus      &  & NA\\\\\n",
       "\t Net4 India      &  & NA\\\\\n",
       "\t NetClues        &  & NA\\\\\n",
       "\t OwnRegistrar    &  & NA\\\\\n",
       "\t Virtua Drug     &  & NA\\\\\n",
       "\\end{tabular}\n"
      ],
      "text/markdown": [
       "\n",
       "A data.frame: 7 × 3\n",
       "\n",
       "| reseller &lt;fct&gt; | reseller_country &lt;fct&gt; | reseller_geo &lt;fct&gt; |\n",
       "|---|---|---|\n",
       "| AnyGaming       | <!----> | NA |\n",
       "| Beijing Brandma | <!----> | NA |\n",
       "| Innovadeus      | <!----> | NA |\n",
       "| Net4 India      | <!----> | NA |\n",
       "| NetClues        | <!----> | NA |\n",
       "| OwnRegistrar    | <!----> | NA |\n",
       "| Virtua Drug     | <!----> | NA |\n",
       "\n"
      ],
      "text/plain": [
       "  reseller        reseller_country reseller_geo\n",
       "1 AnyGaming                        NA          \n",
       "2 Beijing Brandma                  NA          \n",
       "3 Innovadeus                       NA          \n",
       "4 Net4 India                       NA          \n",
       "5 NetClues                         NA          \n",
       "6 OwnRegistrar                     NA          \n",
       "7 Virtua Drug                      NA          "
      ]
     },
     "metadata": {},
     "output_type": "display_data"
    },
    {
     "data": {
      "text/html": [
       "<table>\n",
       "<caption>A data.frame: 4 × 3</caption>\n",
       "<thead>\n",
       "\t<tr><th scope=col>reseller</th><th scope=col>reseller_country</th><th scope=col>reseller_geo</th></tr>\n",
       "\t<tr><th scope=col>&lt;fct&gt;</th><th scope=col>&lt;fct&gt;</th><th scope=col>&lt;fct&gt;</th></tr>\n",
       "</thead>\n",
       "<tbody>\n",
       "\t<tr><td>            </td><td></td><td>NA</td></tr>\n",
       "\t<tr><td>NetClues    </td><td></td><td>NA</td></tr>\n",
       "\t<tr><td>OwnRegistrar</td><td></td><td>NA</td></tr>\n",
       "\t<tr><td>Virtua Drug </td><td></td><td>NA</td></tr>\n",
       "</tbody>\n",
       "</table>\n"
      ],
      "text/latex": [
       "A data.frame: 4 × 3\n",
       "\\begin{tabular}{lll}\n",
       " reseller & reseller\\_country & reseller\\_geo\\\\\n",
       " <fct> & <fct> & <fct>\\\\\n",
       "\\hline\n",
       "\t              &  & NA\\\\\n",
       "\t NetClues     &  & NA\\\\\n",
       "\t OwnRegistrar &  & NA\\\\\n",
       "\t Virtua Drug  &  & NA\\\\\n",
       "\\end{tabular}\n"
      ],
      "text/markdown": [
       "\n",
       "A data.frame: 4 × 3\n",
       "\n",
       "| reseller &lt;fct&gt; | reseller_country &lt;fct&gt; | reseller_geo &lt;fct&gt; |\n",
       "|---|---|---|\n",
       "| <!----> | <!----> | NA |\n",
       "| NetClues     | <!----> | NA |\n",
       "| OwnRegistrar | <!----> | NA |\n",
       "| Virtua Drug  | <!----> | NA |\n",
       "\n"
      ],
      "text/plain": [
       "  reseller     reseller_country reseller_geo\n",
       "1                               NA          \n",
       "2 NetClues                      NA          \n",
       "3 OwnRegistrar                  NA          \n",
       "4 Virtua Drug                   NA          "
      ]
     },
     "metadata": {},
     "output_type": "display_data"
    }
   ],
   "source": [
    "# Examine remaining NA reseller_geos\n",
    "expiry_df_train_g %>% filter(is.na(reseller_geo)) %>% distinct(reseller,reseller_country, reseller_geo)\n",
    "expiry_df_test_preds_g %>% filter(is.na(reseller_geo)) %>% distinct(reseller,reseller_country, reseller_geo)"
   ]
  },
  {
   "cell_type": "code",
   "execution_count": 21,
   "metadata": {},
   "outputs": [
    {
     "name": "stdout",
     "output_type": "stream",
     "text": [
      " Factor w/ 974 levels \"2017-01-01\",\"2017-01-02\",..: 16 650 45 49 49 59 60 83 88 90 ...\n",
      " Date[1:3729384], format: \"2017-01-16\" \"2018-10-12\" \"2017-02-14\" \"2017-02-18\" \"2017-02-18\" ...\n"
     ]
    }
   ],
   "source": [
    "str(expiry_df_train_g$creation_date)\n",
    "expiry_df_train_g$creation_date <- as.Date(expiry_df_train_g$creation_date)\n",
    "str(expiry_df_train_g$creation_date)"
   ]
  },
  {
   "cell_type": "code",
   "execution_count": 22,
   "metadata": {},
   "outputs": [
    {
     "name": "stderr",
     "output_type": "stream",
     "text": [
      "`summarise()` regrouping output by 'tld', 'reseller_geo' (override with `.groups` argument)\n",
      "\n",
      "`summarise()` regrouping output by 'reseller_geo' (override with `.groups` argument)\n",
      "\n",
      "`summarise()` regrouping output by 'tld' (override with `.groups` argument)\n",
      "\n",
      "`summarise()` regrouping output by 'tld' (override with `.groups` argument)\n",
      "\n",
      "`summarise()` ungrouping output (override with `.groups` argument)\n",
      "\n",
      "`summarise()` regrouping output by 'tld' (override with `.groups` argument)\n",
      "\n",
      "`summarise()` ungrouping output (override with `.groups` argument)\n",
      "\n",
      "`summarise()` regrouping output by 'region' (override with `.groups` argument)\n",
      "\n",
      "`summarise()` ungrouping output (override with `.groups` argument)\n",
      "\n",
      "`summarise()` ungrouping output (override with `.groups` argument)\n",
      "\n"
     ]
    }
   ],
   "source": [
    "# generate list of fallback tables\n",
    "npv_fallback_list = fallback_gen( npv_historic_renewal_data = expiry_df_train_g, \n",
    "                                 reseller_am_geo_map = geoLookupDF)"
   ]
  },
  {
   "cell_type": "code",
   "execution_count": 23,
   "metadata": {},
   "outputs": [
    {
     "data": {
      "text/html": [
       "<style>\n",
       ".list-inline {list-style: none; margin:0; padding: 0}\n",
       ".list-inline>li {display: inline-block}\n",
       ".list-inline>li:not(:last-child)::after {content: \"\\00b7\"; padding: 0 .5ex}\n",
       "</style>\n",
       "<ol class=list-inline><li>'npv_fallback_first_geo_arpt_tld'</li><li>'npv_fallback_first_geo_arpt'</li><li>'npv_fallback_first_tld_arpt'</li><li>'npv_fallback_second_tld_geo'</li><li>'npv_fallback_second_geo'</li><li>'npv_fallback_third_tld_geo'</li><li>'npv_fallback_third_geo'</li><li>'npv_fallback_first_final'</li><li>'npv_fallback_second_final'</li><li>'npv_fallback_third_final'</li></ol>\n"
      ],
      "text/latex": [
       "\\begin{enumerate*}\n",
       "\\item 'npv\\_fallback\\_first\\_geo\\_arpt\\_tld'\n",
       "\\item 'npv\\_fallback\\_first\\_geo\\_arpt'\n",
       "\\item 'npv\\_fallback\\_first\\_tld\\_arpt'\n",
       "\\item 'npv\\_fallback\\_second\\_tld\\_geo'\n",
       "\\item 'npv\\_fallback\\_second\\_geo'\n",
       "\\item 'npv\\_fallback\\_third\\_tld\\_geo'\n",
       "\\item 'npv\\_fallback\\_third\\_geo'\n",
       "\\item 'npv\\_fallback\\_first\\_final'\n",
       "\\item 'npv\\_fallback\\_second\\_final'\n",
       "\\item 'npv\\_fallback\\_third\\_final'\n",
       "\\end{enumerate*}\n"
      ],
      "text/markdown": [
       "1. 'npv_fallback_first_geo_arpt_tld'\n",
       "2. 'npv_fallback_first_geo_arpt'\n",
       "3. 'npv_fallback_first_tld_arpt'\n",
       "4. 'npv_fallback_second_tld_geo'\n",
       "5. 'npv_fallback_second_geo'\n",
       "6. 'npv_fallback_third_tld_geo'\n",
       "7. 'npv_fallback_third_geo'\n",
       "8. 'npv_fallback_first_final'\n",
       "9. 'npv_fallback_second_final'\n",
       "10. 'npv_fallback_third_final'\n",
       "\n",
       "\n"
      ],
      "text/plain": [
       " [1] \"npv_fallback_first_geo_arpt_tld\" \"npv_fallback_first_geo_arpt\"    \n",
       " [3] \"npv_fallback_first_tld_arpt\"     \"npv_fallback_second_tld_geo\"    \n",
       " [5] \"npv_fallback_second_geo\"         \"npv_fallback_third_tld_geo\"     \n",
       " [7] \"npv_fallback_third_geo\"          \"npv_fallback_first_final\"       \n",
       " [9] \"npv_fallback_second_final\"       \"npv_fallback_third_final\"       "
      ]
     },
     "metadata": {},
     "output_type": "display_data"
    }
   ],
   "source": [
    "# return list members to in-memory objects of the same name\n",
    "names(npv_fallback_list)\n",
    "for(i in 1:length(npv_fallback_list)) assign(names(npv_fallback_list)[i], npv_fallback_list[[i]])"
   ]
  },
  {
   "cell_type": "code",
   "execution_count": 36,
   "metadata": {},
   "outputs": [],
   "source": [
    "# convert pred df to pred list\n",
    "expiry_list_train_g <- split(expiry_df_train_g, expiry_df_train_g$tld_registrar_index)"
   ]
  },
  {
   "cell_type": "code",
   "execution_count": 43,
   "metadata": {},
   "outputs": [
    {
     "data": {
      "text/html": [
       "2109"
      ],
      "text/latex": [
       "2109"
      ],
      "text/markdown": [
       "2109"
      ],
      "text/plain": [
       "[1] 2109"
      ]
     },
     "metadata": {},
     "output_type": "display_data"
    }
   ],
   "source": [
    "length(expiry_list_train_g)"
   ]
  },
  {
   "cell_type": "code",
   "execution_count": 41,
   "metadata": {},
   "outputs": [
    {
     "name": "stdout",
     "output_type": "stream",
     "text": [
      "Excluding 1706 tld-re's (80.89%), due to volume < 500 \n",
      "Excluding 157 tld-re's (7.44%) associated with tld's 'pw' and 'in.net' \n"
     ]
    }
   ],
   "source": [
    "# generate list of low-volume tld-re's from training data\n",
    "tld_registrar_excl_list = tld_registrar_excl(train_list = expiry_list_train_g)"
   ]
  },
  {
   "cell_type": "code",
   "execution_count": 42,
   "metadata": {},
   "outputs": [
    {
     "data": {
      "text/html": [
       "1706"
      ],
      "text/latex": [
       "1706"
      ],
      "text/markdown": [
       "1706"
      ],
      "text/plain": [
       "[1] 1706"
      ]
     },
     "metadata": {},
     "output_type": "display_data"
    }
   ],
   "source": [
    "length(tld_registrar_excl_list)"
   ]
  },
  {
   "cell_type": "code",
   "execution_count": null,
   "metadata": {},
   "outputs": [],
   "source": [
    "head(expiry_df_test_preds_g)"
   ]
  },
  {
   "cell_type": "code",
   "execution_count": 47,
   "metadata": {},
   "outputs": [],
   "source": [
    "# generate placeholder columns in preds df for fall backapp\n",
    "# ... where predictions for low-volume tld-registrars are NA\n",
    "\n",
    "expiry_df_test_preds_g2 <- expiry_df_test_preds_g %>%\n",
    "     mutate( across(contains('pred_'), \n",
    "                    .fns = list(fb = ~ifelse(tld_registrar_index %in% tld_registrar_excl_list, NA, . )) ))"
   ]
  },
  {
   "cell_type": "code",
   "execution_count": 58,
   "metadata": {},
   "outputs": [
    {
     "data": {
      "text/html": [
       "<table>\n",
       "<caption>A data.frame: 6 × 16</caption>\n",
       "<thead>\n",
       "\t<tr><th></th><th scope=col>pred_agg_glm_ALL</th><th scope=col>pred_agg_rf_ALL</th><th scope=col>pred_agg_glm</th><th scope=col>pred_agg_rf</th><th scope=col>pred_seg_glm_ALL</th><th scope=col>pred_seg_rf_ALL</th><th scope=col>pred_seg2_glm_ALL</th><th scope=col>pred_seg2_rf_ALL</th><th scope=col>pred_agg_glm_ALL_fb</th><th scope=col>pred_agg_rf_ALL_fb</th><th scope=col>pred_agg_glm_fb</th><th scope=col>pred_agg_rf_fb</th><th scope=col>pred_seg_glm_ALL_fb</th><th scope=col>pred_seg_rf_ALL_fb</th><th scope=col>pred_seg2_glm_ALL_fb</th><th scope=col>pred_seg2_rf_ALL_fb</th></tr>\n",
       "\t<tr><th></th><th scope=col>&lt;dbl&gt;</th><th scope=col>&lt;dbl&gt;</th><th scope=col>&lt;dbl&gt;</th><th scope=col>&lt;dbl&gt;</th><th scope=col>&lt;dbl&gt;</th><th scope=col>&lt;dbl&gt;</th><th scope=col>&lt;dbl&gt;</th><th scope=col>&lt;dbl&gt;</th><th scope=col>&lt;dbl&gt;</th><th scope=col>&lt;dbl&gt;</th><th scope=col>&lt;dbl&gt;</th><th scope=col>&lt;dbl&gt;</th><th scope=col>&lt;dbl&gt;</th><th scope=col>&lt;dbl&gt;</th><th scope=col>&lt;dbl&gt;</th><th scope=col>&lt;dbl&gt;</th></tr>\n",
       "</thead>\n",
       "<tbody>\n",
       "\t<tr><th scope=row>1</th><td>   NA</td><td>0.9550391</td><td>   NA</td><td>0.7713468</td><td>   NA</td><td>       NA</td><td>       NA</td><td>       NA</td><td>   NA</td><td>0.9550391</td><td>   NA</td><td>0.7713468</td><td>   NA</td><td>       NA</td><td>       NA</td><td>       NA</td></tr>\n",
       "\t<tr><th scope=row>2</th><td>0.817</td><td>0.6088277</td><td>0.817</td><td>0.6676114</td><td>0.543</td><td>0.7268116</td><td>0.5644593</td><td>0.7075837</td><td>0.817</td><td>0.6088277</td><td>0.817</td><td>0.6676114</td><td>0.543</td><td>0.7268116</td><td>0.5644593</td><td>0.7075837</td></tr>\n",
       "\t<tr><th scope=row>3</th><td>0.814</td><td>0.6477227</td><td>0.814</td><td>0.6877335</td><td>0.536</td><td>0.7155560</td><td>0.5601541</td><td>0.7314602</td><td>0.814</td><td>0.6477227</td><td>0.814</td><td>0.6877335</td><td>0.536</td><td>0.7155560</td><td>0.5601541</td><td>0.7314602</td></tr>\n",
       "\t<tr><th scope=row>4</th><td>0.833</td><td>0.2384536</td><td>0.838</td><td>0.2588170</td><td>0.513</td><td>0.2754756</td><td>0.1642908</td><td>0.1535971</td><td>0.833</td><td>0.2384536</td><td>0.838</td><td>0.2588170</td><td>0.513</td><td>0.2754756</td><td>0.1642908</td><td>0.1535971</td></tr>\n",
       "\t<tr><th scope=row>5</th><td>0.772</td><td>0.3972606</td><td>0.775</td><td>0.3878439</td><td>0.468</td><td>0.3962124</td><td>0.4979086</td><td>0.3769304</td><td>0.772</td><td>0.3972606</td><td>0.775</td><td>0.3878439</td><td>0.468</td><td>0.3962124</td><td>0.4979086</td><td>0.3769304</td></tr>\n",
       "\t<tr><th scope=row>6</th><td>0.823</td><td>0.1925156</td><td>0.829</td><td>0.1730035</td><td>0.516</td><td>0.1675698</td><td>0.1723292</td><td>0.1027711</td><td>0.823</td><td>0.1925156</td><td>0.829</td><td>0.1730035</td><td>0.516</td><td>0.1675698</td><td>0.1723292</td><td>0.1027711</td></tr>\n",
       "</tbody>\n",
       "</table>\n"
      ],
      "text/latex": [
       "A data.frame: 6 × 16\n",
       "\\begin{tabular}{r|llllllllllllllll}\n",
       "  & pred\\_agg\\_glm\\_ALL & pred\\_agg\\_rf\\_ALL & pred\\_agg\\_glm & pred\\_agg\\_rf & pred\\_seg\\_glm\\_ALL & pred\\_seg\\_rf\\_ALL & pred\\_seg2\\_glm\\_ALL & pred\\_seg2\\_rf\\_ALL & pred\\_agg\\_glm\\_ALL\\_fb & pred\\_agg\\_rf\\_ALL\\_fb & pred\\_agg\\_glm\\_fb & pred\\_agg\\_rf\\_fb & pred\\_seg\\_glm\\_ALL\\_fb & pred\\_seg\\_rf\\_ALL\\_fb & pred\\_seg2\\_glm\\_ALL\\_fb & pred\\_seg2\\_rf\\_ALL\\_fb\\\\\n",
       "  & <dbl> & <dbl> & <dbl> & <dbl> & <dbl> & <dbl> & <dbl> & <dbl> & <dbl> & <dbl> & <dbl> & <dbl> & <dbl> & <dbl> & <dbl> & <dbl>\\\\\n",
       "\\hline\n",
       "\t1 &    NA & 0.9550391 &    NA & 0.7713468 &    NA &        NA &        NA &        NA &    NA & 0.9550391 &    NA & 0.7713468 &    NA &        NA &        NA &        NA\\\\\n",
       "\t2 & 0.817 & 0.6088277 & 0.817 & 0.6676114 & 0.543 & 0.7268116 & 0.5644593 & 0.7075837 & 0.817 & 0.6088277 & 0.817 & 0.6676114 & 0.543 & 0.7268116 & 0.5644593 & 0.7075837\\\\\n",
       "\t3 & 0.814 & 0.6477227 & 0.814 & 0.6877335 & 0.536 & 0.7155560 & 0.5601541 & 0.7314602 & 0.814 & 0.6477227 & 0.814 & 0.6877335 & 0.536 & 0.7155560 & 0.5601541 & 0.7314602\\\\\n",
       "\t4 & 0.833 & 0.2384536 & 0.838 & 0.2588170 & 0.513 & 0.2754756 & 0.1642908 & 0.1535971 & 0.833 & 0.2384536 & 0.838 & 0.2588170 & 0.513 & 0.2754756 & 0.1642908 & 0.1535971\\\\\n",
       "\t5 & 0.772 & 0.3972606 & 0.775 & 0.3878439 & 0.468 & 0.3962124 & 0.4979086 & 0.3769304 & 0.772 & 0.3972606 & 0.775 & 0.3878439 & 0.468 & 0.3962124 & 0.4979086 & 0.3769304\\\\\n",
       "\t6 & 0.823 & 0.1925156 & 0.829 & 0.1730035 & 0.516 & 0.1675698 & 0.1723292 & 0.1027711 & 0.823 & 0.1925156 & 0.829 & 0.1730035 & 0.516 & 0.1675698 & 0.1723292 & 0.1027711\\\\\n",
       "\\end{tabular}\n"
      ],
      "text/markdown": [
       "\n",
       "A data.frame: 6 × 16\n",
       "\n",
       "| <!--/--> | pred_agg_glm_ALL &lt;dbl&gt; | pred_agg_rf_ALL &lt;dbl&gt; | pred_agg_glm &lt;dbl&gt; | pred_agg_rf &lt;dbl&gt; | pred_seg_glm_ALL &lt;dbl&gt; | pred_seg_rf_ALL &lt;dbl&gt; | pred_seg2_glm_ALL &lt;dbl&gt; | pred_seg2_rf_ALL &lt;dbl&gt; | pred_agg_glm_ALL_fb &lt;dbl&gt; | pred_agg_rf_ALL_fb &lt;dbl&gt; | pred_agg_glm_fb &lt;dbl&gt; | pred_agg_rf_fb &lt;dbl&gt; | pred_seg_glm_ALL_fb &lt;dbl&gt; | pred_seg_rf_ALL_fb &lt;dbl&gt; | pred_seg2_glm_ALL_fb &lt;dbl&gt; | pred_seg2_rf_ALL_fb &lt;dbl&gt; |\n",
       "|---|---|---|---|---|---|---|---|---|---|---|---|---|---|---|---|---|\n",
       "| 1 |    NA | 0.9550391 |    NA | 0.7713468 |    NA |        NA |        NA |        NA |    NA | 0.9550391 |    NA | 0.7713468 |    NA |        NA |        NA |        NA |\n",
       "| 2 | 0.817 | 0.6088277 | 0.817 | 0.6676114 | 0.543 | 0.7268116 | 0.5644593 | 0.7075837 | 0.817 | 0.6088277 | 0.817 | 0.6676114 | 0.543 | 0.7268116 | 0.5644593 | 0.7075837 |\n",
       "| 3 | 0.814 | 0.6477227 | 0.814 | 0.6877335 | 0.536 | 0.7155560 | 0.5601541 | 0.7314602 | 0.814 | 0.6477227 | 0.814 | 0.6877335 | 0.536 | 0.7155560 | 0.5601541 | 0.7314602 |\n",
       "| 4 | 0.833 | 0.2384536 | 0.838 | 0.2588170 | 0.513 | 0.2754756 | 0.1642908 | 0.1535971 | 0.833 | 0.2384536 | 0.838 | 0.2588170 | 0.513 | 0.2754756 | 0.1642908 | 0.1535971 |\n",
       "| 5 | 0.772 | 0.3972606 | 0.775 | 0.3878439 | 0.468 | 0.3962124 | 0.4979086 | 0.3769304 | 0.772 | 0.3972606 | 0.775 | 0.3878439 | 0.468 | 0.3962124 | 0.4979086 | 0.3769304 |\n",
       "| 6 | 0.823 | 0.1925156 | 0.829 | 0.1730035 | 0.516 | 0.1675698 | 0.1723292 | 0.1027711 | 0.823 | 0.1925156 | 0.829 | 0.1730035 | 0.516 | 0.1675698 | 0.1723292 | 0.1027711 |\n",
       "\n"
      ],
      "text/plain": [
       "  pred_agg_glm_ALL pred_agg_rf_ALL pred_agg_glm pred_agg_rf pred_seg_glm_ALL\n",
       "1    NA            0.9550391          NA        0.7713468      NA           \n",
       "2 0.817            0.6088277       0.817        0.6676114   0.543           \n",
       "3 0.814            0.6477227       0.814        0.6877335   0.536           \n",
       "4 0.833            0.2384536       0.838        0.2588170   0.513           \n",
       "5 0.772            0.3972606       0.775        0.3878439   0.468           \n",
       "6 0.823            0.1925156       0.829        0.1730035   0.516           \n",
       "  pred_seg_rf_ALL pred_seg2_glm_ALL pred_seg2_rf_ALL pred_agg_glm_ALL_fb\n",
       "1        NA              NA                NA           NA              \n",
       "2 0.7268116       0.5644593         0.7075837        0.817              \n",
       "3 0.7155560       0.5601541         0.7314602        0.814              \n",
       "4 0.2754756       0.1642908         0.1535971        0.833              \n",
       "5 0.3962124       0.4979086         0.3769304        0.772              \n",
       "6 0.1675698       0.1723292         0.1027711        0.823              \n",
       "  pred_agg_rf_ALL_fb pred_agg_glm_fb pred_agg_rf_fb pred_seg_glm_ALL_fb\n",
       "1 0.9550391             NA           0.7713468         NA              \n",
       "2 0.6088277          0.817           0.6676114      0.543              \n",
       "3 0.6477227          0.814           0.6877335      0.536              \n",
       "4 0.2384536          0.838           0.2588170      0.513              \n",
       "5 0.3972606          0.775           0.3878439      0.468              \n",
       "6 0.1925156          0.829           0.1730035      0.516              \n",
       "  pred_seg_rf_ALL_fb pred_seg2_glm_ALL_fb pred_seg2_rf_ALL_fb\n",
       "1        NA                 NA                   NA          \n",
       "2 0.7268116          0.5644593            0.7075837          \n",
       "3 0.7155560          0.5601541            0.7314602          \n",
       "4 0.2754756          0.1642908            0.1535971          \n",
       "5 0.3962124          0.4979086            0.3769304          \n",
       "6 0.1675698          0.1723292            0.1027711          "
      ]
     },
     "metadata": {},
     "output_type": "display_data"
    }
   ],
   "source": [
    "expiry_df_test_preds_g2 %>% select(contains('pred_')) %>% head()"
   ]
  },
  {
   "cell_type": "code",
   "execution_count": 62,
   "metadata": {},
   "outputs": [
    {
     "data": {
      "text/html": [
       "<style>\n",
       ".list-inline {list-style: none; margin:0; padding: 0}\n",
       ".list-inline>li {display: inline-block}\n",
       ".list-inline>li:not(:last-child)::after {content: \"\\00b7\"; padding: 0 .5ex}\n",
       "</style>\n",
       "<ol class=list-inline><li>932347</li><li>49</li></ol>\n"
      ],
      "text/latex": [
       "\\begin{enumerate*}\n",
       "\\item 932347\n",
       "\\item 49\n",
       "\\end{enumerate*}\n"
      ],
      "text/markdown": [
       "1. 932347\n",
       "2. 49\n",
       "\n",
       "\n"
      ],
      "text/plain": [
       "[1] 932347     49"
      ]
     },
     "metadata": {},
     "output_type": "display_data"
    },
    {
     "data": {
      "text/html": [
       "<style>\n",
       ".list-inline {list-style: none; margin:0; padding: 0}\n",
       ".list-inline>li {display: inline-block}\n",
       ".list-inline>li:not(:last-child)::after {content: \"\\00b7\"; padding: 0 .5ex}\n",
       "</style>\n",
       "<ol class=list-inline><li>932347</li><li>59</li></ol>\n"
      ],
      "text/latex": [
       "\\begin{enumerate*}\n",
       "\\item 932347\n",
       "\\item 59\n",
       "\\end{enumerate*}\n"
      ],
      "text/markdown": [
       "1. 932347\n",
       "2. 59\n",
       "\n",
       "\n"
      ],
      "text/plain": [
       "[1] 932347     59"
      ]
     },
     "metadata": {},
     "output_type": "display_data"
    },
    {
     "data": {
      "text/html": [
       "<table>\n",
       "<caption>A data.frame: 6 × 59</caption>\n",
       "<thead>\n",
       "\t<tr><th></th><th scope=col>reseller</th><th scope=col>reseller_country</th><th scope=col>domain_id</th><th scope=col>renewal_type</th><th scope=col>renewed_count</th><th scope=col>expiry_date</th><th scope=col>creation_date</th><th scope=col>status</th><th scope=col>domain</th><th scope=col>registrar</th><th scope=col>registrant_country</th><th scope=col>reg_period</th><th scope=col>reg_revenue</th><th scope=col>reg_arpt</th><th scope=col>renew_mbg</th><th scope=col>renewal_item_id</th><th scope=col>renew_type</th><th scope=col>autorenew_type</th><th scope=col>renewal_status</th><th scope=col>renew_date</th><th scope=col>renew_arpt</th><th scope=col>gibb_score</th><th scope=col>pattern</th><th scope=col>pattern_domain_count</th><th scope=col>day_domains</th><th scope=col>⋯</th><th scope=col>pred_agg_glm</th><th scope=col>pred_agg_rf</th><th scope=col>pred_seg_glm_ALL</th><th scope=col>pred_seg_rf_ALL</th><th scope=col>pred_seg2_glm_ALL</th><th scope=col>pred_seg2_rf_ALL</th><th scope=col>reseller_geo</th><th scope=col>pred_agg_glm_ALL_fb</th><th scope=col>pred_agg_rf_ALL_fb</th><th scope=col>pred_agg_glm_fb</th><th scope=col>pred_agg_rf_fb</th><th scope=col>pred_seg_glm_ALL_fb</th><th scope=col>pred_seg_rf_ALL_fb</th><th scope=col>pred_seg2_glm_ALL_fb</th><th scope=col>pred_seg2_rf_ALL_fb</th><th scope=col>reg_arpt_org</th><th scope=col>reg_arpt_slab</th><th scope=col>pred_seg2_rf_ALL_fb2</th><th scope=col>pred_seg2_glm_ALL_fb2</th><th scope=col>pred_seg_rf_ALL_fb2</th><th scope=col>pred_seg_glm_ALL_fb2</th><th scope=col>pred_agg_rf_fb2</th><th scope=col>pred_agg_glm_fb2</th><th scope=col>pred_agg_rf_ALL_fb2</th><th scope=col>pred_agg_glm_ALL_fb2</th></tr>\n",
       "\t<tr><th></th><th scope=col>&lt;fct&gt;</th><th scope=col>&lt;fct&gt;</th><th scope=col>&lt;int&gt;</th><th scope=col>&lt;fct&gt;</th><th scope=col>&lt;int&gt;</th><th scope=col>&lt;fct&gt;</th><th scope=col>&lt;fct&gt;</th><th scope=col>&lt;fct&gt;</th><th scope=col>&lt;fct&gt;</th><th scope=col>&lt;fct&gt;</th><th scope=col>&lt;fct&gt;</th><th scope=col>&lt;int&gt;</th><th scope=col>&lt;dbl&gt;</th><th scope=col>&lt;dbl&gt;</th><th scope=col>&lt;int&gt;</th><th scope=col>&lt;int&gt;</th><th scope=col>&lt;fct&gt;</th><th scope=col>&lt;fct&gt;</th><th scope=col>&lt;fct&gt;</th><th scope=col>&lt;fct&gt;</th><th scope=col>&lt;dbl&gt;</th><th scope=col>&lt;dbl&gt;</th><th scope=col>&lt;fct&gt;</th><th scope=col>&lt;int&gt;</th><th scope=col>&lt;int&gt;</th><th scope=col>⋯</th><th scope=col>&lt;dbl&gt;</th><th scope=col>&lt;dbl&gt;</th><th scope=col>&lt;dbl&gt;</th><th scope=col>&lt;dbl&gt;</th><th scope=col>&lt;dbl&gt;</th><th scope=col>&lt;dbl&gt;</th><th scope=col>&lt;fct&gt;</th><th scope=col>&lt;dbl&gt;</th><th scope=col>&lt;dbl&gt;</th><th scope=col>&lt;dbl&gt;</th><th scope=col>&lt;dbl&gt;</th><th scope=col>&lt;dbl&gt;</th><th scope=col>&lt;dbl&gt;</th><th scope=col>&lt;dbl&gt;</th><th scope=col>&lt;dbl&gt;</th><th scope=col>&lt;dbl&gt;</th><th scope=col>&lt;fct&gt;</th><th scope=col>&lt;dbl&gt;</th><th scope=col>&lt;dbl&gt;</th><th scope=col>&lt;dbl&gt;</th><th scope=col>&lt;dbl&gt;</th><th scope=col>&lt;dbl&gt;</th><th scope=col>&lt;dbl&gt;</th><th scope=col>&lt;dbl&gt;</th><th scope=col>&lt;dbl&gt;</th></tr>\n",
       "</thead>\n",
       "<tbody>\n",
       "\t<tr><th scope=row>1</th><td>            </td><td>       </td><td>122049036</td><td>FirstTime</td><td>1</td><td>2020-08-30</td><td>2019-08-30</td><td>Active</td><td>qianxiyun.online            </td><td>            </td><td>NA</td><td>1</td><td>25</td><td>25.00</td><td>0</td><td>341703158</td><td>auto-renewal</td><td>unrealized</td><td>Not Renewd</td><td>2020-08-30</td><td> 6</td><td>0.63</td><td>qianxiyun            </td><td>1</td><td> 1</td><td>⋯</td><td>   NA</td><td>0.7713468</td><td>   NA</td><td>       NA</td><td>       NA</td><td>       NA</td><td>NA</td><td>   NA</td><td>0.9550391</td><td>   NA</td><td>0.7713468</td><td>   NA</td><td>       NA</td><td>       NA</td><td>       NA</td><td>25.00</td><td>(15,25]</td><td>0.5510000</td><td>0.5510000</td><td>0.5510000</td><td>0.551</td><td>0.7713468</td><td>0.551</td><td>0.9550391</td><td>0.551</td></tr>\n",
       "\t<tr><th scope=row>2</th><td>1&amp;1 Internet</td><td>Germany</td><td> 43450963</td><td>FirstTime</td><td>1</td><td>2020-01-27</td><td>2017-01-27</td><td>Active</td><td><span style=white-space:pre-wrap>ncyc.online                 </span></td><td>1&amp;1 Internet</td><td>NA</td><td>3</td><td>55</td><td>18.33</td><td>0</td><td>239731665</td><td><span style=white-space:pre-wrap>transfer    </span></td><td><span style=white-space:pre-wrap>NA        </span></td><td><span style=white-space:pre-wrap>Renewed   </span></td><td>2019-10-13</td><td>25</td><td>1.18</td><td><span style=white-space:pre-wrap>ncyc                 </span></td><td>1</td><td>23</td><td>⋯</td><td>0.817</td><td>0.6676114</td><td>0.543</td><td>0.7268116</td><td>0.5644593</td><td>0.7075837</td><td>EU</td><td>0.817</td><td>0.6088277</td><td>0.817</td><td>0.6676114</td><td>0.543</td><td>0.7268116</td><td>0.5644593</td><td>0.7075837</td><td>18.33</td><td>(15,25]</td><td>0.7075837</td><td>0.5644593</td><td>0.7268116</td><td>0.543</td><td>0.6676114</td><td>0.817</td><td>0.6088277</td><td>0.817</td></tr>\n",
       "\t<tr><th scope=row>3</th><td>1&amp;1 Internet</td><td>Germany</td><td> 43576888</td><td>FirstTime</td><td>1</td><td>2020-01-31</td><td>2017-01-31</td><td>Active</td><td><span style=white-space:pre-wrap>audev.online                </span></td><td>1&amp;1 Internet</td><td>NA</td><td>3</td><td>55</td><td>18.33</td><td>0</td><td>287997921</td><td>auto-renewal</td><td><span style=white-space:pre-wrap>realized  </span></td><td><span style=white-space:pre-wrap>Renewed   </span></td><td>2020-01-31</td><td>25</td><td>2.57</td><td><span style=white-space:pre-wrap>audev                </span></td><td>1</td><td>43</td><td>⋯</td><td>0.814</td><td>0.6877335</td><td>0.536</td><td>0.7155560</td><td>0.5601541</td><td>0.7314602</td><td>EU</td><td>0.814</td><td>0.6477227</td><td>0.814</td><td>0.6877335</td><td>0.536</td><td>0.7155560</td><td>0.5601541</td><td>0.7314602</td><td>18.33</td><td>(15,25]</td><td>0.7314602</td><td>0.5601541</td><td>0.7155560</td><td>0.536</td><td>0.6877335</td><td>0.814</td><td>0.6477227</td><td>0.814</td></tr>\n",
       "\t<tr><th scope=row>4</th><td>1&amp;1 Internet</td><td>Germany</td><td> 43727452</td><td>FirstTime</td><td>1</td><td>2020-02-03</td><td>2017-02-03</td><td>Active</td><td><span style=white-space:pre-wrap>pinkpanther.store           </span></td><td>1&amp;1 Internet</td><td>NA</td><td>3</td><td>88</td><td>29.33</td><td>0</td><td>288786056</td><td>auto-renewal</td><td>unrealized</td><td>Not Renewd</td><td>2020-02-03</td><td>40</td><td>7.27</td><td><span style=white-space:pre-wrap>pinkpanther          </span></td><td>1</td><td> 3</td><td>⋯</td><td>0.838</td><td>0.2588170</td><td>0.513</td><td>0.2754756</td><td>0.1642908</td><td>0.1535971</td><td>EU</td><td>0.833</td><td>0.2384536</td><td>0.838</td><td>0.2588170</td><td>0.513</td><td>0.2754756</td><td>0.1642908</td><td>0.1535971</td><td>29.33</td><td>(25,35]</td><td>0.1535971</td><td>0.1642908</td><td>0.2754756</td><td>0.513</td><td>0.2588170</td><td>0.838</td><td>0.2384536</td><td>0.833</td></tr>\n",
       "\t<tr><th scope=row>5</th><td>1&amp;1 Internet</td><td>Germany</td><td> 46911148</td><td>FirstTime</td><td>1</td><td>2020-04-17</td><td>2017-04-17</td><td>Active</td><td>lmengineeringservices.online</td><td>1&amp;1 Internet</td><td>NA</td><td>3</td><td>50</td><td>16.67</td><td>0</td><td>308749164</td><td>auto-renewal</td><td><span style=white-space:pre-wrap>realized  </span></td><td><span style=white-space:pre-wrap>Renewed   </span></td><td>2020-04-17</td><td>25</td><td>7.81</td><td>lmengineeringservices</td><td>1</td><td>69</td><td>⋯</td><td>0.775</td><td>0.3878439</td><td>0.468</td><td>0.3962124</td><td>0.4979086</td><td>0.3769304</td><td>EU</td><td>0.772</td><td>0.3972606</td><td>0.775</td><td>0.3878439</td><td>0.468</td><td>0.3962124</td><td>0.4979086</td><td>0.3769304</td><td>16.67</td><td>(15,25]</td><td>0.3769304</td><td>0.4979086</td><td>0.3962124</td><td>0.468</td><td>0.3878439</td><td>0.775</td><td>0.3972606</td><td>0.772</td></tr>\n",
       "\t<tr><th scope=row>6</th><td>1&amp;1 Internet</td><td>Germany</td><td> 47605334</td><td>FirstTime</td><td>1</td><td>2020-05-08</td><td>2017-05-08</td><td>Active</td><td><span style=white-space:pre-wrap>eagleeyeview.store          </span></td><td>1&amp;1 Internet</td><td>NA</td><td>3</td><td>90</td><td>30.00</td><td>0</td><td>313867134</td><td>auto-renewal</td><td>unrealized</td><td>Not Renewd</td><td>2020-05-08</td><td>40</td><td>3.41</td><td><span style=white-space:pre-wrap>eagleeyeview         </span></td><td>1</td><td> 4</td><td>⋯</td><td>0.829</td><td>0.1730035</td><td>0.516</td><td>0.1675698</td><td>0.1723292</td><td>0.1027711</td><td>EU</td><td>0.823</td><td>0.1925156</td><td>0.829</td><td>0.1730035</td><td>0.516</td><td>0.1675698</td><td>0.1723292</td><td>0.1027711</td><td>30.00</td><td>(25,35]</td><td>0.1027711</td><td>0.1723292</td><td>0.1675698</td><td>0.516</td><td>0.1730035</td><td>0.829</td><td>0.1925156</td><td>0.823</td></tr>\n",
       "</tbody>\n",
       "</table>\n"
      ],
      "text/latex": [
       "A data.frame: 6 × 59\n",
       "\\begin{tabular}{r|lllllllllllllllllllllllllllllllllllllllllllllllllll}\n",
       "  & reseller & reseller\\_country & domain\\_id & renewal\\_type & renewed\\_count & expiry\\_date & creation\\_date & status & domain & registrar & registrant\\_country & reg\\_period & reg\\_revenue & reg\\_arpt & renew\\_mbg & renewal\\_item\\_id & renew\\_type & autorenew\\_type & renewal\\_status & renew\\_date & renew\\_arpt & gibb\\_score & pattern & pattern\\_domain\\_count & day\\_domains & ⋯ & pred\\_agg\\_glm & pred\\_agg\\_rf & pred\\_seg\\_glm\\_ALL & pred\\_seg\\_rf\\_ALL & pred\\_seg2\\_glm\\_ALL & pred\\_seg2\\_rf\\_ALL & reseller\\_geo & pred\\_agg\\_glm\\_ALL\\_fb & pred\\_agg\\_rf\\_ALL\\_fb & pred\\_agg\\_glm\\_fb & pred\\_agg\\_rf\\_fb & pred\\_seg\\_glm\\_ALL\\_fb & pred\\_seg\\_rf\\_ALL\\_fb & pred\\_seg2\\_glm\\_ALL\\_fb & pred\\_seg2\\_rf\\_ALL\\_fb & reg\\_arpt\\_org & reg\\_arpt\\_slab & pred\\_seg2\\_rf\\_ALL\\_fb2 & pred\\_seg2\\_glm\\_ALL\\_fb2 & pred\\_seg\\_rf\\_ALL\\_fb2 & pred\\_seg\\_glm\\_ALL\\_fb2 & pred\\_agg\\_rf\\_fb2 & pred\\_agg\\_glm\\_fb2 & pred\\_agg\\_rf\\_ALL\\_fb2 & pred\\_agg\\_glm\\_ALL\\_fb2\\\\\n",
       "  & <fct> & <fct> & <int> & <fct> & <int> & <fct> & <fct> & <fct> & <fct> & <fct> & <fct> & <int> & <dbl> & <dbl> & <int> & <int> & <fct> & <fct> & <fct> & <fct> & <dbl> & <dbl> & <fct> & <int> & <int> & ⋯ & <dbl> & <dbl> & <dbl> & <dbl> & <dbl> & <dbl> & <fct> & <dbl> & <dbl> & <dbl> & <dbl> & <dbl> & <dbl> & <dbl> & <dbl> & <dbl> & <fct> & <dbl> & <dbl> & <dbl> & <dbl> & <dbl> & <dbl> & <dbl> & <dbl>\\\\\n",
       "\\hline\n",
       "\t1 &              &         & 122049036 & FirstTime & 1 & 2020-08-30 & 2019-08-30 & Active & qianxiyun.online             &              & NA & 1 & 25 & 25.00 & 0 & 341703158 & auto-renewal & unrealized & Not Renewd & 2020-08-30 &  6 & 0.63 & qianxiyun             & 1 &  1 & ⋯ &    NA & 0.7713468 &    NA &        NA &        NA &        NA & NA &    NA & 0.9550391 &    NA & 0.7713468 &    NA &        NA &        NA &        NA & 25.00 & (15,25{]} & 0.5510000 & 0.5510000 & 0.5510000 & 0.551 & 0.7713468 & 0.551 & 0.9550391 & 0.551\\\\\n",
       "\t2 & 1\\&1 Internet & Germany &  43450963 & FirstTime & 1 & 2020-01-27 & 2017-01-27 & Active & ncyc.online                  & 1\\&1 Internet & NA & 3 & 55 & 18.33 & 0 & 239731665 & transfer     & NA         & Renewed    & 2019-10-13 & 25 & 1.18 & ncyc                  & 1 & 23 & ⋯ & 0.817 & 0.6676114 & 0.543 & 0.7268116 & 0.5644593 & 0.7075837 & EU & 0.817 & 0.6088277 & 0.817 & 0.6676114 & 0.543 & 0.7268116 & 0.5644593 & 0.7075837 & 18.33 & (15,25{]} & 0.7075837 & 0.5644593 & 0.7268116 & 0.543 & 0.6676114 & 0.817 & 0.6088277 & 0.817\\\\\n",
       "\t3 & 1\\&1 Internet & Germany &  43576888 & FirstTime & 1 & 2020-01-31 & 2017-01-31 & Active & audev.online                 & 1\\&1 Internet & NA & 3 & 55 & 18.33 & 0 & 287997921 & auto-renewal & realized   & Renewed    & 2020-01-31 & 25 & 2.57 & audev                 & 1 & 43 & ⋯ & 0.814 & 0.6877335 & 0.536 & 0.7155560 & 0.5601541 & 0.7314602 & EU & 0.814 & 0.6477227 & 0.814 & 0.6877335 & 0.536 & 0.7155560 & 0.5601541 & 0.7314602 & 18.33 & (15,25{]} & 0.7314602 & 0.5601541 & 0.7155560 & 0.536 & 0.6877335 & 0.814 & 0.6477227 & 0.814\\\\\n",
       "\t4 & 1\\&1 Internet & Germany &  43727452 & FirstTime & 1 & 2020-02-03 & 2017-02-03 & Active & pinkpanther.store            & 1\\&1 Internet & NA & 3 & 88 & 29.33 & 0 & 288786056 & auto-renewal & unrealized & Not Renewd & 2020-02-03 & 40 & 7.27 & pinkpanther           & 1 &  3 & ⋯ & 0.838 & 0.2588170 & 0.513 & 0.2754756 & 0.1642908 & 0.1535971 & EU & 0.833 & 0.2384536 & 0.838 & 0.2588170 & 0.513 & 0.2754756 & 0.1642908 & 0.1535971 & 29.33 & (25,35{]} & 0.1535971 & 0.1642908 & 0.2754756 & 0.513 & 0.2588170 & 0.838 & 0.2384536 & 0.833\\\\\n",
       "\t5 & 1\\&1 Internet & Germany &  46911148 & FirstTime & 1 & 2020-04-17 & 2017-04-17 & Active & lmengineeringservices.online & 1\\&1 Internet & NA & 3 & 50 & 16.67 & 0 & 308749164 & auto-renewal & realized   & Renewed    & 2020-04-17 & 25 & 7.81 & lmengineeringservices & 1 & 69 & ⋯ & 0.775 & 0.3878439 & 0.468 & 0.3962124 & 0.4979086 & 0.3769304 & EU & 0.772 & 0.3972606 & 0.775 & 0.3878439 & 0.468 & 0.3962124 & 0.4979086 & 0.3769304 & 16.67 & (15,25{]} & 0.3769304 & 0.4979086 & 0.3962124 & 0.468 & 0.3878439 & 0.775 & 0.3972606 & 0.772\\\\\n",
       "\t6 & 1\\&1 Internet & Germany &  47605334 & FirstTime & 1 & 2020-05-08 & 2017-05-08 & Active & eagleeyeview.store           & 1\\&1 Internet & NA & 3 & 90 & 30.00 & 0 & 313867134 & auto-renewal & unrealized & Not Renewd & 2020-05-08 & 40 & 3.41 & eagleeyeview          & 1 &  4 & ⋯ & 0.829 & 0.1730035 & 0.516 & 0.1675698 & 0.1723292 & 0.1027711 & EU & 0.823 & 0.1925156 & 0.829 & 0.1730035 & 0.516 & 0.1675698 & 0.1723292 & 0.1027711 & 30.00 & (25,35{]} & 0.1027711 & 0.1723292 & 0.1675698 & 0.516 & 0.1730035 & 0.829 & 0.1925156 & 0.823\\\\\n",
       "\\end{tabular}\n"
      ],
      "text/markdown": [
       "\n",
       "A data.frame: 6 × 59\n",
       "\n",
       "| <!--/--> | reseller &lt;fct&gt; | reseller_country &lt;fct&gt; | domain_id &lt;int&gt; | renewal_type &lt;fct&gt; | renewed_count &lt;int&gt; | expiry_date &lt;fct&gt; | creation_date &lt;fct&gt; | status &lt;fct&gt; | domain &lt;fct&gt; | registrar &lt;fct&gt; | registrant_country &lt;fct&gt; | reg_period &lt;int&gt; | reg_revenue &lt;dbl&gt; | reg_arpt &lt;dbl&gt; | renew_mbg &lt;int&gt; | renewal_item_id &lt;int&gt; | renew_type &lt;fct&gt; | autorenew_type &lt;fct&gt; | renewal_status &lt;fct&gt; | renew_date &lt;fct&gt; | renew_arpt &lt;dbl&gt; | gibb_score &lt;dbl&gt; | pattern &lt;fct&gt; | pattern_domain_count &lt;int&gt; | day_domains &lt;int&gt; | ⋯ ⋯ | pred_agg_glm &lt;dbl&gt; | pred_agg_rf &lt;dbl&gt; | pred_seg_glm_ALL &lt;dbl&gt; | pred_seg_rf_ALL &lt;dbl&gt; | pred_seg2_glm_ALL &lt;dbl&gt; | pred_seg2_rf_ALL &lt;dbl&gt; | reseller_geo &lt;fct&gt; | pred_agg_glm_ALL_fb &lt;dbl&gt; | pred_agg_rf_ALL_fb &lt;dbl&gt; | pred_agg_glm_fb &lt;dbl&gt; | pred_agg_rf_fb &lt;dbl&gt; | pred_seg_glm_ALL_fb &lt;dbl&gt; | pred_seg_rf_ALL_fb &lt;dbl&gt; | pred_seg2_glm_ALL_fb &lt;dbl&gt; | pred_seg2_rf_ALL_fb &lt;dbl&gt; | reg_arpt_org &lt;dbl&gt; | reg_arpt_slab &lt;fct&gt; | pred_seg2_rf_ALL_fb2 &lt;dbl&gt; | pred_seg2_glm_ALL_fb2 &lt;dbl&gt; | pred_seg_rf_ALL_fb2 &lt;dbl&gt; | pred_seg_glm_ALL_fb2 &lt;dbl&gt; | pred_agg_rf_fb2 &lt;dbl&gt; | pred_agg_glm_fb2 &lt;dbl&gt; | pred_agg_rf_ALL_fb2 &lt;dbl&gt; | pred_agg_glm_ALL_fb2 &lt;dbl&gt; |\n",
       "|---|---|---|---|---|---|---|---|---|---|---|---|---|---|---|---|---|---|---|---|---|---|---|---|---|---|---|---|---|---|---|---|---|---|---|---|---|---|---|---|---|---|---|---|---|---|---|---|---|---|---|---|\n",
       "| 1 | <!----> | <!----> | 122049036 | FirstTime | 1 | 2020-08-30 | 2019-08-30 | Active | qianxiyun.online             | <!----> | NA | 1 | 25 | 25.00 | 0 | 341703158 | auto-renewal | unrealized | Not Renewd | 2020-08-30 |  6 | 0.63 | qianxiyun             | 1 |  1 | ⋯ |    NA | 0.7713468 |    NA |        NA |        NA |        NA | NA |    NA | 0.9550391 |    NA | 0.7713468 |    NA |        NA |        NA |        NA | 25.00 | (15,25] | 0.5510000 | 0.5510000 | 0.5510000 | 0.551 | 0.7713468 | 0.551 | 0.9550391 | 0.551 |\n",
       "| 2 | 1&amp;1 Internet | Germany |  43450963 | FirstTime | 1 | 2020-01-27 | 2017-01-27 | Active | ncyc.online                  | 1&amp;1 Internet | NA | 3 | 55 | 18.33 | 0 | 239731665 | transfer     | NA         | Renewed    | 2019-10-13 | 25 | 1.18 | ncyc                  | 1 | 23 | ⋯ | 0.817 | 0.6676114 | 0.543 | 0.7268116 | 0.5644593 | 0.7075837 | EU | 0.817 | 0.6088277 | 0.817 | 0.6676114 | 0.543 | 0.7268116 | 0.5644593 | 0.7075837 | 18.33 | (15,25] | 0.7075837 | 0.5644593 | 0.7268116 | 0.543 | 0.6676114 | 0.817 | 0.6088277 | 0.817 |\n",
       "| 3 | 1&amp;1 Internet | Germany |  43576888 | FirstTime | 1 | 2020-01-31 | 2017-01-31 | Active | audev.online                 | 1&amp;1 Internet | NA | 3 | 55 | 18.33 | 0 | 287997921 | auto-renewal | realized   | Renewed    | 2020-01-31 | 25 | 2.57 | audev                 | 1 | 43 | ⋯ | 0.814 | 0.6877335 | 0.536 | 0.7155560 | 0.5601541 | 0.7314602 | EU | 0.814 | 0.6477227 | 0.814 | 0.6877335 | 0.536 | 0.7155560 | 0.5601541 | 0.7314602 | 18.33 | (15,25] | 0.7314602 | 0.5601541 | 0.7155560 | 0.536 | 0.6877335 | 0.814 | 0.6477227 | 0.814 |\n",
       "| 4 | 1&amp;1 Internet | Germany |  43727452 | FirstTime | 1 | 2020-02-03 | 2017-02-03 | Active | pinkpanther.store            | 1&amp;1 Internet | NA | 3 | 88 | 29.33 | 0 | 288786056 | auto-renewal | unrealized | Not Renewd | 2020-02-03 | 40 | 7.27 | pinkpanther           | 1 |  3 | ⋯ | 0.838 | 0.2588170 | 0.513 | 0.2754756 | 0.1642908 | 0.1535971 | EU | 0.833 | 0.2384536 | 0.838 | 0.2588170 | 0.513 | 0.2754756 | 0.1642908 | 0.1535971 | 29.33 | (25,35] | 0.1535971 | 0.1642908 | 0.2754756 | 0.513 | 0.2588170 | 0.838 | 0.2384536 | 0.833 |\n",
       "| 5 | 1&amp;1 Internet | Germany |  46911148 | FirstTime | 1 | 2020-04-17 | 2017-04-17 | Active | lmengineeringservices.online | 1&amp;1 Internet | NA | 3 | 50 | 16.67 | 0 | 308749164 | auto-renewal | realized   | Renewed    | 2020-04-17 | 25 | 7.81 | lmengineeringservices | 1 | 69 | ⋯ | 0.775 | 0.3878439 | 0.468 | 0.3962124 | 0.4979086 | 0.3769304 | EU | 0.772 | 0.3972606 | 0.775 | 0.3878439 | 0.468 | 0.3962124 | 0.4979086 | 0.3769304 | 16.67 | (15,25] | 0.3769304 | 0.4979086 | 0.3962124 | 0.468 | 0.3878439 | 0.775 | 0.3972606 | 0.772 |\n",
       "| 6 | 1&amp;1 Internet | Germany |  47605334 | FirstTime | 1 | 2020-05-08 | 2017-05-08 | Active | eagleeyeview.store           | 1&amp;1 Internet | NA | 3 | 90 | 30.00 | 0 | 313867134 | auto-renewal | unrealized | Not Renewd | 2020-05-08 | 40 | 3.41 | eagleeyeview          | 1 |  4 | ⋯ | 0.829 | 0.1730035 | 0.516 | 0.1675698 | 0.1723292 | 0.1027711 | EU | 0.823 | 0.1925156 | 0.829 | 0.1730035 | 0.516 | 0.1675698 | 0.1723292 | 0.1027711 | 30.00 | (25,35] | 0.1027711 | 0.1723292 | 0.1675698 | 0.516 | 0.1730035 | 0.829 | 0.1925156 | 0.823 |\n",
       "\n"
      ],
      "text/plain": [
       "  reseller     reseller_country domain_id renewal_type renewed_count\n",
       "1                               122049036 FirstTime    1            \n",
       "2 1&1 Internet Germany           43450963 FirstTime    1            \n",
       "3 1&1 Internet Germany           43576888 FirstTime    1            \n",
       "4 1&1 Internet Germany           43727452 FirstTime    1            \n",
       "5 1&1 Internet Germany           46911148 FirstTime    1            \n",
       "6 1&1 Internet Germany           47605334 FirstTime    1            \n",
       "  expiry_date creation_date status domain                       registrar   \n",
       "1 2020-08-30  2019-08-30    Active qianxiyun.online                         \n",
       "2 2020-01-27  2017-01-27    Active ncyc.online                  1&1 Internet\n",
       "3 2020-01-31  2017-01-31    Active audev.online                 1&1 Internet\n",
       "4 2020-02-03  2017-02-03    Active pinkpanther.store            1&1 Internet\n",
       "5 2020-04-17  2017-04-17    Active lmengineeringservices.online 1&1 Internet\n",
       "6 2020-05-08  2017-05-08    Active eagleeyeview.store           1&1 Internet\n",
       "  registrant_country reg_period reg_revenue reg_arpt renew_mbg renewal_item_id\n",
       "1 NA                 1          25          25.00    0         341703158      \n",
       "2 NA                 3          55          18.33    0         239731665      \n",
       "3 NA                 3          55          18.33    0         287997921      \n",
       "4 NA                 3          88          29.33    0         288786056      \n",
       "5 NA                 3          50          16.67    0         308749164      \n",
       "6 NA                 3          90          30.00    0         313867134      \n",
       "  renew_type   autorenew_type renewal_status renew_date renew_arpt gibb_score\n",
       "1 auto-renewal unrealized     Not Renewd     2020-08-30  6         0.63      \n",
       "2 transfer     NA             Renewed        2019-10-13 25         1.18      \n",
       "3 auto-renewal realized       Renewed        2020-01-31 25         2.57      \n",
       "4 auto-renewal unrealized     Not Renewd     2020-02-03 40         7.27      \n",
       "5 auto-renewal realized       Renewed        2020-04-17 25         7.81      \n",
       "6 auto-renewal unrealized     Not Renewd     2020-05-08 40         3.41      \n",
       "  pattern               pattern_domain_count day_domains ⋯ pred_agg_glm\n",
       "1 qianxiyun             1                     1          ⋯    NA       \n",
       "2 ncyc                  1                    23          ⋯ 0.817       \n",
       "3 audev                 1                    43          ⋯ 0.814       \n",
       "4 pinkpanther           1                     3          ⋯ 0.838       \n",
       "5 lmengineeringservices 1                    69          ⋯ 0.775       \n",
       "6 eagleeyeview          1                     4          ⋯ 0.829       \n",
       "  pred_agg_rf pred_seg_glm_ALL pred_seg_rf_ALL pred_seg2_glm_ALL\n",
       "1 0.7713468      NA                   NA              NA        \n",
       "2 0.6676114   0.543            0.7268116       0.5644593        \n",
       "3 0.6877335   0.536            0.7155560       0.5601541        \n",
       "4 0.2588170   0.513            0.2754756       0.1642908        \n",
       "5 0.3878439   0.468            0.3962124       0.4979086        \n",
       "6 0.1730035   0.516            0.1675698       0.1723292        \n",
       "  pred_seg2_rf_ALL reseller_geo pred_agg_glm_ALL_fb pred_agg_rf_ALL_fb\n",
       "1        NA        NA              NA               0.9550391         \n",
       "2 0.7075837        EU           0.817               0.6088277         \n",
       "3 0.7314602        EU           0.814               0.6477227         \n",
       "4 0.1535971        EU           0.833               0.2384536         \n",
       "5 0.3769304        EU           0.772               0.3972606         \n",
       "6 0.1027711        EU           0.823               0.1925156         \n",
       "  pred_agg_glm_fb pred_agg_rf_fb pred_seg_glm_ALL_fb pred_seg_rf_ALL_fb\n",
       "1    NA           0.7713468         NA                      NA         \n",
       "2 0.817           0.6676114      0.543               0.7268116         \n",
       "3 0.814           0.6877335      0.536               0.7155560         \n",
       "4 0.838           0.2588170      0.513               0.2754756         \n",
       "5 0.775           0.3878439      0.468               0.3962124         \n",
       "6 0.829           0.1730035      0.516               0.1675698         \n",
       "  pred_seg2_glm_ALL_fb pred_seg2_rf_ALL_fb reg_arpt_org reg_arpt_slab\n",
       "1        NA                   NA           25.00        (15,25]      \n",
       "2 0.5644593            0.7075837           18.33        (15,25]      \n",
       "3 0.5601541            0.7314602           18.33        (15,25]      \n",
       "4 0.1642908            0.1535971           29.33        (25,35]      \n",
       "5 0.4979086            0.3769304           16.67        (15,25]      \n",
       "6 0.1723292            0.1027711           30.00        (25,35]      \n",
       "  pred_seg2_rf_ALL_fb2 pred_seg2_glm_ALL_fb2 pred_seg_rf_ALL_fb2\n",
       "1 0.5510000            0.5510000             0.5510000          \n",
       "2 0.7075837            0.5644593             0.7268116          \n",
       "3 0.7314602            0.5601541             0.7155560          \n",
       "4 0.1535971            0.1642908             0.2754756          \n",
       "5 0.3769304            0.4979086             0.3962124          \n",
       "6 0.1027711            0.1723292             0.1675698          \n",
       "  pred_seg_glm_ALL_fb2 pred_agg_rf_fb2 pred_agg_glm_fb2 pred_agg_rf_ALL_fb2\n",
       "1 0.551                0.7713468       0.551            0.9550391          \n",
       "2 0.543                0.6676114       0.817            0.6088277          \n",
       "3 0.536                0.6877335       0.814            0.6477227          \n",
       "4 0.513                0.2588170       0.838            0.2384536          \n",
       "5 0.468                0.3878439       0.775            0.3972606          \n",
       "6 0.516                0.1730035       0.829            0.1925156          \n",
       "  pred_agg_glm_ALL_fb2\n",
       "1 0.551               \n",
       "2 0.817               \n",
       "3 0.814               \n",
       "4 0.833               \n",
       "5 0.772               \n",
       "6 0.823               "
      ]
     },
     "metadata": {},
     "output_type": "display_data"
    }
   ],
   "source": [
    "# apply fallback tables TST\n",
    "expiry_df_test_preds_g3 <- fallback_app_1(test_data_op=expiry_df_test_preds_g2,\n",
    "               in_col='pred_seg2_rf_ALL_fb',\n",
    "               out_col='pred_seg2_rf_ALL_fb2')\n",
    "expiry_df_test_preds_g3 <- fallback_app_1(test_data_op=expiry_df_test_preds_g3,\n",
    "               in_col='pred_seg2_glm_ALL_fb',\n",
    "               out_col='pred_seg2_glm_ALL_fb2')\n",
    "expiry_df_test_preds_g3 <- fallback_app_1(test_data_op=expiry_df_test_preds_g3,\n",
    "               in_col='pred_seg_rf_ALL_fb',\n",
    "               out_col='pred_seg_rf_ALL_fb2')\n",
    "expiry_df_test_preds_g3 <- fallback_app_1(test_data_op=expiry_df_test_preds_g3,\n",
    "               in_col='pred_seg_glm_ALL_fb',\n",
    "               out_col='pred_seg_glm_ALL_fb2')\n",
    "expiry_df_test_preds_g3 <- fallback_app_1(test_data_op=expiry_df_test_preds_g3,\n",
    "               in_col='pred_agg_rf_fb',\n",
    "               out_col='pred_agg_rf_fb2')\n",
    "expiry_df_test_preds_g3 <- fallback_app_1(test_data_op=expiry_df_test_preds_g3,\n",
    "               in_col='pred_agg_glm_fb',\n",
    "               out_col='pred_agg_glm_fb2')\n",
    "expiry_df_test_preds_g3 <- fallback_app_1(test_data_op=expiry_df_test_preds_g3,\n",
    "               in_col='pred_agg_rf_ALL_fb',\n",
    "               out_col='pred_agg_rf_ALL_fb2')\n",
    "expiry_df_test_preds_g3 <- fallback_app_1(test_data_op=expiry_df_test_preds_g3,\n",
    "               in_col='pred_agg_glm_ALL_fb',\n",
    "               out_col='pred_agg_glm_ALL_fb2')\n",
    "\n",
    "dim(expiry_df_test_preds_g2)\n",
    "dim(expiry_df_test_preds_g3)\n",
    "head(expiry_df_test_preds_g3)"
   ]
  },
  {
   "cell_type": "code",
   "execution_count": 63,
   "metadata": {},
   "outputs": [],
   "source": [
    "# WRITE to CSV\n",
    "write.csv(expiry_df_test_preds_g3, \"../../data/output/datapull_20201116/expiry_df_test_preds_fb.csv\",\n",
    "         row.names=FALSE)\n"
   ]
  },
  {
   "cell_type": "code",
   "execution_count": null,
   "metadata": {},
   "outputs": [],
   "source": [
    "system('gsutil cp -r /home/jupyter/Domains_202003/data/output/datapull_20201116 gs://output_shared/')"
   ]
  },
  {
   "cell_type": "code",
   "execution_count": null,
   "metadata": {},
   "outputs": [],
   "source": []
  },
  {
   "cell_type": "code",
   "execution_count": null,
   "metadata": {},
   "outputs": [],
   "source": []
  },
  {
   "cell_type": "code",
   "execution_count": null,
   "metadata": {},
   "outputs": [],
   "source": []
  },
  {
   "cell_type": "code",
   "execution_count": null,
   "metadata": {},
   "outputs": [],
   "source": []
  }
 ],
 "metadata": {
  "environment": {
   "name": "r-cpu.3-6.m48",
   "type": "gcloud",
   "uri": "gcr.io/deeplearning-platform-release/r-cpu.3-6:m48"
  },
  "kernelspec": {
   "display_name": "R",
   "language": "R",
   "name": "ir"
  },
  "language_info": {
   "codemirror_mode": "r",
   "file_extension": ".r",
   "mimetype": "text/x-r-source",
   "name": "R",
   "pygments_lexer": "r",
   "version": "3.6.3"
  }
 },
 "nbformat": 4,
 "nbformat_minor": 4
}
