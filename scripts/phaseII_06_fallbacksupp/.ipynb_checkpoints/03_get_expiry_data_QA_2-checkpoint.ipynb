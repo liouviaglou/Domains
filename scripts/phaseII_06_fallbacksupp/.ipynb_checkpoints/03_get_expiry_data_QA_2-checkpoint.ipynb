{
 "cells": [
  {
   "cell_type": "markdown",
   "metadata": {},
   "source": [
    "# Get More Data \n",
    "expand time horizon Jan 1 2019 - July 31, 2020 - 5 quarters. note 45 day (safe: 2 mo.) window from now (10/08/2020)"
   ]
  },
  {
   "cell_type": "code",
   "execution_count": null,
   "metadata": {},
   "outputs": [],
   "source": [
    "# install.packages(\"readr\")"
   ]
  },
  {
   "cell_type": "code",
   "execution_count": null,
   "metadata": {},
   "outputs": [],
   "source": [
    "# https://stackoverflow.com/questions/63328348/invalid-value-at-start-index-type-uint64-1e05-invalid-issue-while-down\n",
    "# remotes::install_github(\"r-dbi/bigrquery\")"
   ]
  },
  {
   "cell_type": "code",
   "execution_count": null,
   "metadata": {},
   "outputs": [],
   "source": [
    "library(bigrquery)\n",
    "library(plotly)\n",
    "library(data.table)\n",
    "library(stringr)\n",
    "library(readr)"
   ]
  },
  {
   "cell_type": "code",
   "execution_count": 2,
   "metadata": {},
   "outputs": [
    {
     "data": {
      "text/html": [],
      "text/latex": [],
      "text/markdown": [],
      "text/plain": [
       "character(0)"
      ]
     },
     "metadata": {},
     "output_type": "display_data"
    }
   ],
   "source": [
    "objects()"
   ]
  },
  {
   "cell_type": "code",
   "execution_count": 3,
   "metadata": {},
   "outputs": [],
   "source": [
    "projectid <- \"radixbi-249015\""
   ]
  },
  {
   "cell_type": "markdown",
   "metadata": {},
   "source": [
    "## count number of rows we're working with"
   ]
  },
  {
   "cell_type": "code",
   "execution_count": 4,
   "metadata": {},
   "outputs": [],
   "source": [
    "expiry_date_start='2019-06-01'\n",
    "expiry_date_end='2020-09-01'\n",
    "\n",
    "source(\"../phaseII_06_fallbacksupp/query_string_defs_2.R\")\n",
    "\n",
    "# writeLines(count_expiry_data_str)"
   ]
  },
  {
   "cell_type": "code",
   "execution_count": 5,
   "metadata": {},
   "outputs": [
    {
     "data": {
      "text/html": [
       "<table>\n",
       "<caption>A tibble: 1 × 1</caption>\n",
       "<thead>\n",
       "\t<tr><th scope=col>f0_</th></tr>\n",
       "\t<tr><th scope=col>&lt;int&gt;</th></tr>\n",
       "</thead>\n",
       "<tbody>\n",
       "\t<tr><td>6876</td></tr>\n",
       "</tbody>\n",
       "</table>\n"
      ],
      "text/latex": [
       "A tibble: 1 × 1\n",
       "\\begin{tabular}{l}\n",
       " f0\\_\\\\\n",
       " <int>\\\\\n",
       "\\hline\n",
       "\t 6876\\\\\n",
       "\\end{tabular}\n"
      ],
      "text/markdown": [
       "\n",
       "A tibble: 1 × 1\n",
       "\n",
       "| f0_ &lt;int&gt; |\n",
       "|---|\n",
       "| 6876 |\n",
       "\n"
      ],
      "text/plain": [
       "  f0_ \n",
       "1 6876"
      ]
     },
     "metadata": {},
     "output_type": "display_data"
    }
   ],
   "source": [
    "sql <- count_expiry_data_str\n",
    "\n",
    "bq_table_download(bq_project_query(projectid, sql))"
   ]
  },
  {
   "cell_type": "code",
   "execution_count": null,
   "metadata": {},
   "outputs": [],
   "source": [
    "# result is wrong -- looking at something like 5.4M rows"
   ]
  },
  {
   "cell_type": "code",
   "execution_count": null,
   "metadata": {},
   "outputs": [],
   "source": [
    "# webUI returns 5427633 rows -- WHY??"
   ]
  },
  {
   "cell_type": "markdown",
   "metadata": {},
   "source": [
    "## "
   ]
  },
  {
   "cell_type": "code",
   "execution_count": 7,
   "metadata": {},
   "outputs": [
    {
     "name": "stdout",
     "output_type": "stream",
     "text": [
      "[1] 6876   28\n",
      "2 Mb\n"
     ]
    }
   ],
   "source": [
    "projectid <- \"radixbi-249015\"\n",
    "expiry_date_start='2019-06-01'\n",
    "expiry_date_end='2020-09-01'\n",
    "\n",
    "source(\"../phaseII_06_fallbacksupp/query_string_defs_2.R\")\n",
    "\n",
    "sql <- get_expiry_data_str\n",
    "\n",
    "expiry_data <- bq_table_download(bq_project_query(projectid, sql))\n",
    "print(dim(expiry_data))\n",
    "print(object.size(expiry_data), units = \"auto\") \n",
    "\n",
    "# [1] 1743356      30\n",
    "# 475.9 Mb"
   ]
  },
  {
   "cell_type": "code",
   "execution_count": null,
   "metadata": {},
   "outputs": [],
   "source": [
    "# saveRDS(expiry_data,\"../../data/output/expiry_data\")\n",
    "# system(\"gsutil cp /home/jupyter/local/Domains_202003/data/output/* gs://data_outputt/output/\")\n"
   ]
  },
  {
   "cell_type": "markdown",
   "metadata": {},
   "source": [
    "## saved results of new query to bigquery table in project radixbi_2020\n"
   ]
  },
  {
   "cell_type": "code",
   "execution_count": 10,
   "metadata": {},
   "outputs": [
    {
     "data": {
      "text/html": [
       "<table>\n",
       "<caption>A tibble: 1 × 1</caption>\n",
       "<thead>\n",
       "\t<tr><th scope=col>f0_</th></tr>\n",
       "\t<tr><th scope=col>&lt;int&gt;</th></tr>\n",
       "</thead>\n",
       "<tbody>\n",
       "\t<tr><td>5427633</td></tr>\n",
       "</tbody>\n",
       "</table>\n"
      ],
      "text/latex": [
       "A tibble: 1 × 1\n",
       "\\begin{tabular}{l}\n",
       " f0\\_\\\\\n",
       " <int>\\\\\n",
       "\\hline\n",
       "\t 5427633\\\\\n",
       "\\end{tabular}\n"
      ],
      "text/markdown": [
       "\n",
       "A tibble: 1 × 1\n",
       "\n",
       "| f0_ &lt;int&gt; |\n",
       "|---|\n",
       "| 5427633 |\n",
       "\n"
      ],
      "text/plain": [
       "  f0_    \n",
       "1 5427633"
      ]
     },
     "metadata": {},
     "output_type": "display_data"
    }
   ],
   "source": [
    "sql <- paste(\"SELECT COUNT(*) FROM `radix2020.expiry.expiry_20190601_20200901_20201102`\")\n",
    "\n",
    "bq_table_download(bq_project_query(\"radix2020\", sql))"
   ]
  },
  {
   "cell_type": "code",
   "execution_count": null,
   "metadata": {},
   "outputs": [],
   "source": [
    "# result is correct -- right number of rows"
   ]
  },
  {
   "cell_type": "markdown",
   "metadata": {},
   "source": [
    "# New data 11/02"
   ]
  },
  {
   "cell_type": "code",
   "execution_count": 4,
   "metadata": {},
   "outputs": [],
   "source": [
    "sql <- paste(\"SELECT * FROM `radix2020.expiry.expiry_20190601_20200901_20201102`\")\n",
    "\n",
    "expiry_20190601_20200901 <- bq_table_download(bq_project_query(\"radix2020\", sql))"
   ]
  },
  {
   "cell_type": "code",
   "execution_count": 5,
   "metadata": {},
   "outputs": [
    {
     "data": {
      "text/html": [
       "<style>\n",
       ".list-inline {list-style: none; margin:0; padding: 0}\n",
       ".list-inline>li {display: inline-block}\n",
       ".list-inline>li:not(:last-child)::after {content: \"\\00b7\"; padding: 0 .5ex}\n",
       "</style>\n",
       "<ol class=list-inline><li>5427633</li><li>29</li></ol>\n"
      ],
      "text/latex": [
       "\\begin{enumerate*}\n",
       "\\item 5427633\n",
       "\\item 29\n",
       "\\end{enumerate*}\n"
      ],
      "text/markdown": [
       "1. 5427633\n",
       "2. 29\n",
       "\n",
       "\n"
      ],
      "text/plain": [
       "[1] 5427633      29"
      ]
     },
     "metadata": {},
     "output_type": "display_data"
    }
   ],
   "source": [
    "dim(expiry_20190601_20200901)"
   ]
  },
  {
   "cell_type": "code",
   "execution_count": null,
   "metadata": {},
   "outputs": [],
   "source": [
    "saveRDS(expiry_20190601_20200901,\"../../data/output/expiry_20190601_20200901\")\n",
    "system(\"gsutil cp /home/jupyter/local/Domains_202003/data/output/* gs://data_outputt/output/\")"
   ]
  },
  {
   "cell_type": "markdown",
   "metadata": {},
   "source": [
    "## load data test"
   ]
  },
  {
   "cell_type": "code",
   "execution_count": null,
   "metadata": {},
   "outputs": [],
   "source": [
    "1"
   ]
  },
  {
   "cell_type": "code",
   "execution_count": null,
   "metadata": {},
   "outputs": [],
   "source": [
    "# load data\n",
    "cat(\"Loading data...\")\n",
    "expiry_df <- readRDS(\"/home/jupyter/local/Domains_202003/data/output/expiry_20190601_20200901\")\n",
    "\n",
    "# select most recent 5Q [1 quarter = 90 days, 5 quarters = 450 days ]\n",
    "# 450 days before 20200901 is 20190609 ... round off to 20190601\n",
    "cat(\"Removing\", expiry_df %>%filter(expiry_date >= as.Date(\"2019-06-01\") & expiry_date <= as.Date(\"2020-09-01\")) %>% tally() %>% pull(n) ,\"rows due to expiry_date constraints\")\n",
    "expiry_df <- expiry_df %>% filter(expiry_date >= as.Date(\"2019-06-01\") & expiry_date <= as.Date(\"2020-09-01\"))\n",
    "\n",
    "# remove renewed_count>1\n",
    "cat(\"Removing\", expiry_df %>% filter(renewed_count==1) %>% tally() %>% pull(n) ,\"rows due to renewed_count constraints\")\n",
    "expiry_df <- expiry_df %>% filter(renewed_count==1)\n",
    "\n",
    "# remove where gibb_score, etc. are NA\n",
    "cat(\"Removing\", expiry_df %>% filter(is.na(gibb_score)) %>% tally() %>% pull(n) ,\"rows due to missing gibb_score\")\n",
    "expiry_df <- expiry_df %>% filter(!is.na(gibb_score))\n",
    "cat(\"... now dataset min(creation_date) is \", expiry_df %>% summarise(min(creation_date)) %>% pull(1) %>% as.character(),\".\")"
   ]
  },
  {
   "cell_type": "code",
   "execution_count": null,
   "metadata": {},
   "outputs": [],
   "source": [
    "# exclude resellers  .pw and .in.net \n",
    "expiry_df %>% select(distinct(reseller))"
   ]
  },
  {
   "cell_type": "code",
   "execution_count": null,
   "metadata": {},
   "outputs": [],
   "source": []
  }
 ],
 "metadata": {
  "environment": {
   "name": "r-cpu.3-6.m48",
   "type": "gcloud",
   "uri": "gcr.io/deeplearning-platform-release/r-cpu.3-6:m48"
  },
  "kernelspec": {
   "display_name": "R",
   "language": "R",
   "name": "ir"
  },
  "language_info": {
   "codemirror_mode": "r",
   "file_extension": ".r",
   "mimetype": "text/x-r-source",
   "name": "R",
   "pygments_lexer": "r",
   "version": "3.6.3"
  }
 },
 "nbformat": 4,
 "nbformat_minor": 4
}
