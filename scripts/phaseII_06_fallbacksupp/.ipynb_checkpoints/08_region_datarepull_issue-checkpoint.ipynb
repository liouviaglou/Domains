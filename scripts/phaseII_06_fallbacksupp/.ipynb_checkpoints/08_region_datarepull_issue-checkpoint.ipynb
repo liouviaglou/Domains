{
 "cells": [
  {
   "cell_type": "markdown",
   "metadata": {},
   "source": [
    "# Prototyping fallback gen & use script in functions_fallback.R"
   ]
  },
  {
   "cell_type": "code",
   "execution_count": 1,
   "metadata": {},
   "outputs": [],
   "source": [
    "options(repr.matrix.max.cols=50, repr.matrix.max.rows=100)"
   ]
  },
  {
   "cell_type": "code",
   "execution_count": 2,
   "metadata": {},
   "outputs": [],
   "source": [
    "# install.packages(\"pkgcond\")"
   ]
  },
  {
   "cell_type": "code",
   "execution_count": 3,
   "metadata": {},
   "outputs": [
    {
     "name": "stderr",
     "output_type": "stream",
     "text": [
      "\n",
      "Attaching package: ‘dplyr’\n",
      "\n",
      "\n",
      "The following objects are masked from ‘package:stats’:\n",
      "\n",
      "    filter, lag\n",
      "\n",
      "\n",
      "The following objects are masked from ‘package:base’:\n",
      "\n",
      "    intersect, setdiff, setequal, union\n",
      "\n",
      "\n",
      "\n",
      "Attaching package: ‘data.table’\n",
      "\n",
      "\n",
      "The following objects are masked from ‘package:dplyr’:\n",
      "\n",
      "    between, first, last\n",
      "\n",
      "\n",
      "Loading required package: grid\n",
      "\n",
      "Loading required package: libcoin\n",
      "\n",
      "Loading required package: mvtnorm\n",
      "\n",
      "Loading required package: lattice\n",
      "\n",
      "Loading required package: ggplot2\n",
      "\n",
      "randomForest 4.6-14\n",
      "\n",
      "Type rfNews() to see new features/changes/bug fixes.\n",
      "\n",
      "\n",
      "Attaching package: ‘randomForest’\n",
      "\n",
      "\n",
      "The following object is masked from ‘package:ggplot2’:\n",
      "\n",
      "    margin\n",
      "\n",
      "\n",
      "The following object is masked from ‘package:dplyr’:\n",
      "\n",
      "    combine\n",
      "\n",
      "\n",
      "\n",
      "Attaching package: ‘ranger’\n",
      "\n",
      "\n",
      "The following object is masked from ‘package:randomForest’:\n",
      "\n",
      "    importance\n",
      "\n",
      "\n",
      "\n",
      "Attaching package: ‘plotly’\n",
      "\n",
      "\n",
      "The following object is masked from ‘package:ggplot2’:\n",
      "\n",
      "    last_plot\n",
      "\n",
      "\n",
      "The following object is masked from ‘package:stats’:\n",
      "\n",
      "    filter\n",
      "\n",
      "\n",
      "The following object is masked from ‘package:graphics’:\n",
      "\n",
      "    layout\n",
      "\n",
      "\n",
      "\n",
      "Attaching package: ‘zoo’\n",
      "\n",
      "\n",
      "The following objects are masked from ‘package:base’:\n",
      "\n",
      "    as.Date, as.Date.numeric\n",
      "\n",
      "\n"
     ]
    },
    {
     "data": {
      "text/html": [
       "'/home/jupyter/Domains_202003/scripts/phaseII_06_fallbacksupp'"
      ],
      "text/latex": [
       "'/home/jupyter/Domains\\_202003/scripts/phaseII\\_06\\_fallbacksupp'"
      ],
      "text/markdown": [
       "'/home/jupyter/Domains_202003/scripts/phaseII_06_fallbacksupp'"
      ],
      "text/plain": [
       "[1] \"/home/jupyter/Domains_202003/scripts/phaseII_06_fallbacksupp\""
      ]
     },
     "metadata": {},
     "output_type": "display_data"
    }
   ],
   "source": [
    "library(dplyr)\n",
    "library(data.table)\n",
    "library(partykit)\n",
    "library(tictoc)\n",
    "library(caret)\n",
    "library(e1071)\n",
    "library(randomForest)\n",
    "library(ranger)\n",
    "\n",
    "#for 3d plotting\n",
    "library(akima)\n",
    "library(plotly)\n",
    "\n",
    "# for prep data\n",
    "# library(rPython)\n",
    "library(stringr)\n",
    "library(pbapply)\n",
    "library(stringdist)\n",
    "library(data.table)\n",
    "library(dominanceanalysis)\n",
    "library(zoo)\n",
    "\n",
    "\n",
    "getwd()"
   ]
  },
  {
   "cell_type": "code",
   "execution_count": 4,
   "metadata": {},
   "outputs": [],
   "source": [
    "# install.packages(c(\"zoo\"))"
   ]
  },
  {
   "cell_type": "code",
   "execution_count": 5,
   "metadata": {},
   "outputs": [
    {
     "name": "stderr",
     "output_type": "stream",
     "text": [
      "\n",
      "Attaching package: ‘tidyr’\n",
      "\n",
      "\n",
      "The following object is masked from ‘package:stringdist’:\n",
      "\n",
      "    extract\n",
      "\n",
      "\n"
     ]
    }
   ],
   "source": [
    "\n",
    "source('../orig/functions.R')\n",
    "\n",
    "source('../orig/functions_models.R')\n",
    "\n",
    "source('../phaseII_03_forest/functions_eval.R')\n"
   ]
  },
  {
   "cell_type": "code",
   "execution_count": 6,
   "metadata": {},
   "outputs": [],
   "source": [
    "source('functions_metalearning.R')"
   ]
  },
  {
   "cell_type": "code",
   "execution_count": 7,
   "metadata": {},
   "outputs": [],
   "source": [
    "source('functions_fallback.R')"
   ]
  },
  {
   "cell_type": "markdown",
   "metadata": {},
   "source": [
    "# Load old & New expiry data"
   ]
  },
  {
   "cell_type": "code",
   "execution_count": 8,
   "metadata": {},
   "outputs": [
    {
     "data": {
      "text/html": [
       "<style>\n",
       ".list-inline {list-style: none; margin:0; padding: 0}\n",
       ".list-inline>li {display: inline-block}\n",
       ".list-inline>li:not(:last-child)::after {content: \"\\00b7\"; padding: 0 .5ex}\n",
       "</style>\n",
       "<ol class=list-inline><li>5427633</li><li>29</li></ol>\n"
      ],
      "text/latex": [
       "\\begin{enumerate*}\n",
       "\\item 5427633\n",
       "\\item 29\n",
       "\\end{enumerate*}\n"
      ],
      "text/markdown": [
       "1. 5427633\n",
       "2. 29\n",
       "\n",
       "\n"
      ],
      "text/plain": [
       "[1] 5427633      29"
      ]
     },
     "metadata": {},
     "output_type": "display_data"
    },
    {
     "data": {
      "text/html": [
       "<style>\n",
       ".list-inline {list-style: none; margin:0; padding: 0}\n",
       ".list-inline>li {display: inline-block}\n",
       ".list-inline>li:not(:last-child)::after {content: \"\\00b7\"; padding: 0 .5ex}\n",
       "</style>\n",
       "<ol class=list-inline><li>5427638</li><li>30</li></ol>\n"
      ],
      "text/latex": [
       "\\begin{enumerate*}\n",
       "\\item 5427638\n",
       "\\item 30\n",
       "\\end{enumerate*}\n"
      ],
      "text/markdown": [
       "1. 5427638\n",
       "2. 30\n",
       "\n",
       "\n"
      ],
      "text/plain": [
       "[1] 5427638      30"
      ]
     },
     "metadata": {},
     "output_type": "display_data"
    }
   ],
   "source": [
    "# 5 extra observations... perhaps due to new flags?\n",
    "expiry_df_old <- readRDS(\"/home/jupyter/Domains_202003/data/output/expiry_20190601_20200901\")\n",
    "expiry_df_new <- readRDS(\"/home/jupyter/Domains_202003/data/output/expiry_20190601_20200901_20201116\")\n",
    "\n",
    "dim(expiry_df_old)\n",
    "dim(expiry_df_new)"
   ]
  },
  {
   "cell_type": "code",
   "execution_count": 9,
   "metadata": {},
   "outputs": [
    {
     "data": {
      "text/html": [
       "<style>\n",
       ".list-inline {list-style: none; margin:0; padding: 0}\n",
       ".list-inline>li {display: inline-block}\n",
       ".list-inline>li:not(:last-child)::after {content: \"\\00b7\"; padding: 0 .5ex}\n",
       "</style>\n",
       "<ol class=list-inline><li>4661731</li><li>29</li></ol>\n"
      ],
      "text/latex": [
       "\\begin{enumerate*}\n",
       "\\item 4661731\n",
       "\\item 29\n",
       "\\end{enumerate*}\n"
      ],
      "text/markdown": [
       "1. 4661731\n",
       "2. 29\n",
       "\n",
       "\n"
      ],
      "text/plain": [
       "[1] 4661731      29"
      ]
     },
     "metadata": {},
     "output_type": "display_data"
    },
    {
     "data": {
      "text/html": [
       "<style>\n",
       ".list-inline {list-style: none; margin:0; padding: 0}\n",
       ".list-inline>li {display: inline-block}\n",
       ".list-inline>li:not(:last-child)::after {content: \"\\00b7\"; padding: 0 .5ex}\n",
       "</style>\n",
       "<ol class=list-inline><li>4661731</li><li>30</li></ol>\n"
      ],
      "text/latex": [
       "\\begin{enumerate*}\n",
       "\\item 4661731\n",
       "\\item 30\n",
       "\\end{enumerate*}\n"
      ],
      "text/markdown": [
       "1. 4661731\n",
       "2. 30\n",
       "\n",
       "\n"
      ],
      "text/plain": [
       "[1] 4661731      30"
      ]
     },
     "metadata": {},
     "output_type": "display_data"
    }
   ],
   "source": [
    "# after preprocessing data...\n",
    "expiry_df_old2 <- expiry_df_old %>% \n",
    "   filter(expiry_date >= as.Date(\"2019-06-01\") & expiry_date <= as.Date(\"2020-09-01\"))  %>% \n",
    "   filter(renewed_count==1) %>% \n",
    "   filter(!is.na(gibb_score))\n",
    "\n",
    "expiry_df_new2 <- expiry_df_new %>% \n",
    "   filter(expiry_date >= as.Date(\"2019-06-01\") & expiry_date <= as.Date(\"2020-09-01\"))  %>% \n",
    "   filter(renewed_count==1) %>% \n",
    "   filter(!is.na(gibb_score))\n",
    "\n",
    "\n",
    "dim(expiry_df_old2)\n",
    "dim(expiry_df_new2)"
   ]
  },
  {
   "cell_type": "code",
   "execution_count": 10,
   "metadata": {},
   "outputs": [
    {
     "data": {
      "text/html": [
       "4661731"
      ],
      "text/latex": [
       "4661731"
      ],
      "text/markdown": [
       "4661731"
      ],
      "text/plain": [
       "[1] 4661731"
      ]
     },
     "metadata": {},
     "output_type": "display_data"
    },
    {
     "data": {
      "text/html": [
       "4661731"
      ],
      "text/latex": [
       "4661731"
      ],
      "text/markdown": [
       "4661731"
      ],
      "text/plain": [
       "[1] 4661731"
      ]
     },
     "metadata": {},
     "output_type": "display_data"
    }
   ],
   "source": [
    "domain_id_old2 <- expiry_df_old2 %>% distinct(domain_id) %>% pull(domain_id)\n",
    "domain_id_new2 <- expiry_df_new2 %>% distinct(domain_id) %>% pull(domain_id)\n",
    "\n",
    "length(domain_id_old2)\n",
    "length(domain_id_new2)"
   ]
  },
  {
   "cell_type": "code",
   "execution_count": 11,
   "metadata": {},
   "outputs": [
    {
     "data": {
      "text/html": [],
      "text/latex": [],
      "text/markdown": [],
      "text/plain": [
       "integer(0)"
      ]
     },
     "metadata": {},
     "output_type": "display_data"
    },
    {
     "data": {
      "text/html": [],
      "text/latex": [],
      "text/markdown": [],
      "text/plain": [
       "integer(0)"
      ]
     },
     "metadata": {},
     "output_type": "display_data"
    }
   ],
   "source": [
    "setdiff(domain_id_new2,domain_id_old2)\n",
    "setdiff(domain_id_old2,domain_id_new2)"
   ]
  },
  {
   "cell_type": "markdown",
   "metadata": {},
   "source": [
    "# ADD vars to expiry_df_new2"
   ]
  },
  {
   "cell_type": "code",
   "execution_count": 13,
   "metadata": {},
   "outputs": [],
   "source": [
    "expiry_df_new2 <- expiry_df_new2 %>% mutate (reg_arpt = ifelse(reg_arpt <= 0, 0.0001,reg_arpt),\n",
    "                                   log_reg_arpt = log(reg_arpt),\n",
    "                                   tld_registrar_index = tolower(paste(tld, reseller,sep=\"\")))"
   ]
  },
  {
   "cell_type": "markdown",
   "metadata": {},
   "source": [
    "# CREATE new train & test & preds dataframes <br>based on new data w/ region variable"
   ]
  },
  {
   "cell_type": "code",
   "execution_count": 12,
   "metadata": {},
   "outputs": [
    {
     "data": {
      "text/html": [
       "<style>\n",
       ".list-inline {list-style: none; margin:0; padding: 0}\n",
       ".list-inline>li {display: inline-block}\n",
       ".list-inline>li:not(:last-child)::after {content: \"\\00b7\"; padding: 0 .5ex}\n",
       "</style>\n",
       "<ol class=list-inline><li>932347</li><li>39</li></ol>\n"
      ],
      "text/latex": [
       "\\begin{enumerate*}\n",
       "\\item 932347\n",
       "\\item 39\n",
       "\\end{enumerate*}\n"
      ],
      "text/markdown": [
       "1. 932347\n",
       "2. 39\n",
       "\n",
       "\n"
      ],
      "text/plain": [
       "[1] 932347     39"
      ]
     },
     "metadata": {},
     "output_type": "display_data"
    }
   ],
   "source": [
    "# load old preds\n",
    "preds_df1 <- read.csv('../../data/output/models_20201104/preds.csv')\n",
    "preds_df2 <- read.csv('../../data/output/models_20201104/preds/preds.csv')\n",
    "preds_df <- rbind(preds_df1,preds_df2)\n",
    "dim(preds_df)"
   ]
  },
  {
   "cell_type": "code",
   "execution_count": 18,
   "metadata": {},
   "outputs": [
    {
     "data": {
      "text/html": [
       "<table>\n",
       "<caption>A data.frame: 0 × 39</caption>\n",
       "<thead>\n",
       "\t<tr><th scope=col>renewal_type</th><th scope=col>renewed_count</th><th scope=col>expiry_date</th><th scope=col>creation_date</th><th scope=col>status</th><th scope=col>domain_id</th><th scope=col>domain</th><th scope=col>registrar</th><th scope=col>reseller</th><th scope=col>reseller_country</th><th scope=col>registrant_country</th><th scope=col>reg_period</th><th scope=col>reg_revenue</th><th scope=col>reg_arpt</th><th scope=col>renew_mbg</th><th scope=col>renewal_item_id</th><th scope=col>renew_type</th><th scope=col>autorenew_type</th><th scope=col>renewal_status</th><th scope=col>renew_date</th><th scope=col>renew_arpt</th><th scope=col>gibb_score</th><th scope=col>pattern</th><th scope=col>pattern_domain_count</th><th scope=col>day_domains</th><th scope=col>sld_length</th><th scope=col>sld_type</th><th scope=col>sld_type2</th><th scope=col>tld</th><th scope=col>log_reg_arpt</th><th scope=col>tld_registrar_index</th><th scope=col>pred_agg_glm_ALL</th><th scope=col>pred_agg_rf_ALL</th><th scope=col>pred_agg_glm</th><th scope=col>pred_agg_rf</th><th scope=col>pred_seg_glm_ALL</th><th scope=col>pred_seg_rf_ALL</th><th scope=col>pred_seg2_glm_ALL</th><th scope=col>pred_seg2_rf_ALL</th></tr>\n",
       "\t<tr><th scope=col>&lt;fct&gt;</th><th scope=col>&lt;int&gt;</th><th scope=col>&lt;fct&gt;</th><th scope=col>&lt;fct&gt;</th><th scope=col>&lt;fct&gt;</th><th scope=col>&lt;int&gt;</th><th scope=col>&lt;fct&gt;</th><th scope=col>&lt;fct&gt;</th><th scope=col>&lt;fct&gt;</th><th scope=col>&lt;fct&gt;</th><th scope=col>&lt;fct&gt;</th><th scope=col>&lt;int&gt;</th><th scope=col>&lt;dbl&gt;</th><th scope=col>&lt;dbl&gt;</th><th scope=col>&lt;int&gt;</th><th scope=col>&lt;int&gt;</th><th scope=col>&lt;fct&gt;</th><th scope=col>&lt;fct&gt;</th><th scope=col>&lt;fct&gt;</th><th scope=col>&lt;fct&gt;</th><th scope=col>&lt;dbl&gt;</th><th scope=col>&lt;dbl&gt;</th><th scope=col>&lt;fct&gt;</th><th scope=col>&lt;int&gt;</th><th scope=col>&lt;int&gt;</th><th scope=col>&lt;int&gt;</th><th scope=col>&lt;fct&gt;</th><th scope=col>&lt;fct&gt;</th><th scope=col>&lt;fct&gt;</th><th scope=col>&lt;dbl&gt;</th><th scope=col>&lt;fct&gt;</th><th scope=col>&lt;dbl&gt;</th><th scope=col>&lt;dbl&gt;</th><th scope=col>&lt;dbl&gt;</th><th scope=col>&lt;dbl&gt;</th><th scope=col>&lt;dbl&gt;</th><th scope=col>&lt;dbl&gt;</th><th scope=col>&lt;dbl&gt;</th><th scope=col>&lt;dbl&gt;</th></tr>\n",
       "</thead>\n",
       "<tbody>\n",
       "</tbody>\n",
       "</table>\n"
      ],
      "text/latex": [
       "A data.frame: 0 × 39\n",
       "\\begin{tabular}{lllllllllllllllllllllllllllllllllllllll}\n",
       " renewal\\_type & renewed\\_count & expiry\\_date & creation\\_date & status & domain\\_id & domain & registrar & reseller & reseller\\_country & registrant\\_country & reg\\_period & reg\\_revenue & reg\\_arpt & renew\\_mbg & renewal\\_item\\_id & renew\\_type & autorenew\\_type & renewal\\_status & renew\\_date & renew\\_arpt & gibb\\_score & pattern & pattern\\_domain\\_count & day\\_domains & sld\\_length & sld\\_type & sld\\_type2 & tld & log\\_reg\\_arpt & tld\\_registrar\\_index & pred\\_agg\\_glm\\_ALL & pred\\_agg\\_rf\\_ALL & pred\\_agg\\_glm & pred\\_agg\\_rf & pred\\_seg\\_glm\\_ALL & pred\\_seg\\_rf\\_ALL & pred\\_seg2\\_glm\\_ALL & pred\\_seg2\\_rf\\_ALL\\\\\n",
       " <fct> & <int> & <fct> & <fct> & <fct> & <int> & <fct> & <fct> & <fct> & <fct> & <fct> & <int> & <dbl> & <dbl> & <int> & <int> & <fct> & <fct> & <fct> & <fct> & <dbl> & <dbl> & <fct> & <int> & <int> & <int> & <fct> & <fct> & <fct> & <dbl> & <fct> & <dbl> & <dbl> & <dbl> & <dbl> & <dbl> & <dbl> & <dbl> & <dbl>\\\\\n",
       "\\hline\n",
       "\\end{tabular}\n"
      ],
      "text/markdown": [
       "\n",
       "A data.frame: 0 × 39\n",
       "\n",
       "| renewal_type &lt;fct&gt; | renewed_count &lt;int&gt; | expiry_date &lt;fct&gt; | creation_date &lt;fct&gt; | status &lt;fct&gt; | domain_id &lt;int&gt; | domain &lt;fct&gt; | registrar &lt;fct&gt; | reseller &lt;fct&gt; | reseller_country &lt;fct&gt; | registrant_country &lt;fct&gt; | reg_period &lt;int&gt; | reg_revenue &lt;dbl&gt; | reg_arpt &lt;dbl&gt; | renew_mbg &lt;int&gt; | renewal_item_id &lt;int&gt; | renew_type &lt;fct&gt; | autorenew_type &lt;fct&gt; | renewal_status &lt;fct&gt; | renew_date &lt;fct&gt; | renew_arpt &lt;dbl&gt; | gibb_score &lt;dbl&gt; | pattern &lt;fct&gt; | pattern_domain_count &lt;int&gt; | day_domains &lt;int&gt; | sld_length &lt;int&gt; | sld_type &lt;fct&gt; | sld_type2 &lt;fct&gt; | tld &lt;fct&gt; | log_reg_arpt &lt;dbl&gt; | tld_registrar_index &lt;fct&gt; | pred_agg_glm_ALL &lt;dbl&gt; | pred_agg_rf_ALL &lt;dbl&gt; | pred_agg_glm &lt;dbl&gt; | pred_agg_rf &lt;dbl&gt; | pred_seg_glm_ALL &lt;dbl&gt; | pred_seg_rf_ALL &lt;dbl&gt; | pred_seg2_glm_ALL &lt;dbl&gt; | pred_seg2_rf_ALL &lt;dbl&gt; |\n",
       "|---|---|---|---|---|---|---|---|---|---|---|---|---|---|---|---|---|---|---|---|---|---|---|---|---|---|---|---|---|---|---|---|---|---|---|---|---|---|---|\n",
       "\n"
      ],
      "text/plain": [
       "     renewal_type renewed_count expiry_date creation_date status domain_id\n",
       "     domain registrar reseller reseller_country registrant_country reg_period\n",
       "     reg_revenue reg_arpt renew_mbg renewal_item_id renew_type autorenew_type\n",
       "     renewal_status renew_date renew_arpt gibb_score pattern\n",
       "     pattern_domain_count day_domains sld_length sld_type sld_type2 tld\n",
       "     log_reg_arpt tld_registrar_index pred_agg_glm_ALL pred_agg_rf_ALL\n",
       "     pred_agg_glm pred_agg_rf pred_seg_glm_ALL pred_seg_rf_ALL\n",
       "     pred_seg2_glm_ALL pred_seg2_rf_ALL"
      ]
     },
     "metadata": {},
     "output_type": "display_data"
    }
   ],
   "source": [
    "# no missing preds for agg_rf_ALL so use that to identify test data\n",
    "preds_df %>% filter(is.na(pred_agg_rf_ALL))"
   ]
  },
  {
   "cell_type": "code",
   "execution_count": 16,
   "metadata": {},
   "outputs": [
    {
     "data": {
      "text/html": [
       "<style>\n",
       ".list-inline {list-style: none; margin:0; padding: 0}\n",
       ".list-inline>li {display: inline-block}\n",
       ".list-inline>li:not(:last-child)::after {content: \"\\00b7\"; padding: 0 .5ex}\n",
       "</style>\n",
       "<ol class=list-inline><li>4661731</li><li>32</li></ol>\n"
      ],
      "text/latex": [
       "\\begin{enumerate*}\n",
       "\\item 4661731\n",
       "\\item 32\n",
       "\\end{enumerate*}\n"
      ],
      "text/markdown": [
       "1. 4661731\n",
       "2. 32\n",
       "\n",
       "\n"
      ],
      "text/plain": [
       "[1] 4661731      32"
      ]
     },
     "metadata": {},
     "output_type": "display_data"
    },
    {
     "data": {
      "text/html": [
       "<style>\n",
       ".list-inline {list-style: none; margin:0; padding: 0}\n",
       ".list-inline>li {display: inline-block}\n",
       ".list-inline>li:not(:last-child)::after {content: \"\\00b7\"; padding: 0 .5ex}\n",
       "</style>\n",
       "<ol class=list-inline><li>4661731</li><li>40</li></ol>\n"
      ],
      "text/latex": [
       "\\begin{enumerate*}\n",
       "\\item 4661731\n",
       "\\item 40\n",
       "\\end{enumerate*}\n"
      ],
      "text/markdown": [
       "1. 4661731\n",
       "2. 40\n",
       "\n",
       "\n"
      ],
      "text/plain": [
       "[1] 4661731      40"
      ]
     },
     "metadata": {},
     "output_type": "display_data"
    }
   ],
   "source": [
    "expiry_df_new3 <- merge(expiry_df_new2, \n",
    "                        preds_df %>% select(domain_id, contains('pred_')),\n",
    "                       by='domain_id', all.x=TRUE)\n",
    "dim(expiry_df_new2)\n",
    "dim(expiry_df_new3)"
   ]
  },
  {
   "cell_type": "code",
   "execution_count": 21,
   "metadata": {},
   "outputs": [
    {
     "data": {
      "text/html": [
       "<table>\n",
       "<caption>A data.frame: 6 × 40</caption>\n",
       "<thead>\n",
       "\t<tr><th></th><th scope=col>domain_id</th><th scope=col>renewal_type</th><th scope=col>renewed_count</th><th scope=col>expiry_date</th><th scope=col>creation_date</th><th scope=col>status</th><th scope=col>domain</th><th scope=col>registrar</th><th scope=col>reseller</th><th scope=col>reseller_country</th><th scope=col>registrant_country</th><th scope=col>reg_period</th><th scope=col>reg_revenue</th><th scope=col>reg_arpt</th><th scope=col>renew_mbg</th><th scope=col>renewal_item_id</th><th scope=col>renew_type</th><th scope=col>autorenew_type</th><th scope=col>renewal_status</th><th scope=col>renew_date</th><th scope=col>renew_arpt</th><th scope=col>gibb_score</th><th scope=col>pattern</th><th scope=col>pattern_domain_count</th><th scope=col>day_domains</th><th scope=col>sld_length</th><th scope=col>sld_type</th><th scope=col>sld_type2</th><th scope=col>tld</th><th scope=col>region</th><th scope=col>log_reg_arpt</th><th scope=col>tld_registrar_index</th><th scope=col>pred_agg_glm_ALL</th><th scope=col>pred_agg_rf_ALL</th><th scope=col>pred_agg_glm</th><th scope=col>pred_agg_rf</th><th scope=col>pred_seg_glm_ALL</th><th scope=col>pred_seg_rf_ALL</th><th scope=col>pred_seg2_glm_ALL</th><th scope=col>pred_seg2_rf_ALL</th></tr>\n",
       "\t<tr><th></th><th scope=col>&lt;int&gt;</th><th scope=col>&lt;chr&gt;</th><th scope=col>&lt;int&gt;</th><th scope=col>&lt;date&gt;</th><th scope=col>&lt;date&gt;</th><th scope=col>&lt;chr&gt;</th><th scope=col>&lt;chr&gt;</th><th scope=col>&lt;chr&gt;</th><th scope=col>&lt;chr&gt;</th><th scope=col>&lt;chr&gt;</th><th scope=col>&lt;chr&gt;</th><th scope=col>&lt;int&gt;</th><th scope=col>&lt;dbl&gt;</th><th scope=col>&lt;dbl&gt;</th><th scope=col>&lt;int&gt;</th><th scope=col>&lt;int&gt;</th><th scope=col>&lt;chr&gt;</th><th scope=col>&lt;chr&gt;</th><th scope=col>&lt;chr&gt;</th><th scope=col>&lt;date&gt;</th><th scope=col>&lt;dbl&gt;</th><th scope=col>&lt;dbl&gt;</th><th scope=col>&lt;chr&gt;</th><th scope=col>&lt;int&gt;</th><th scope=col>&lt;int&gt;</th><th scope=col>&lt;int&gt;</th><th scope=col>&lt;chr&gt;</th><th scope=col>&lt;chr&gt;</th><th scope=col>&lt;chr&gt;</th><th scope=col>&lt;chr&gt;</th><th scope=col>&lt;dbl&gt;</th><th scope=col>&lt;chr&gt;</th><th scope=col>&lt;dbl&gt;</th><th scope=col>&lt;dbl&gt;</th><th scope=col>&lt;dbl&gt;</th><th scope=col>&lt;dbl&gt;</th><th scope=col>&lt;dbl&gt;</th><th scope=col>&lt;dbl&gt;</th><th scope=col>&lt;dbl&gt;</th><th scope=col>&lt;dbl&gt;</th></tr>\n",
       "</thead>\n",
       "<tbody>\n",
       "\t<tr><th scope=row>1</th><td>41612421</td><td>FirstTime</td><td>1</td><td>2020-01-01</td><td>2017-01-01</td><td>Active</td><td>bluebyebye.store    </td><td>Go Daddy         </td><td>Go Daddy         </td><td>United States</td><td>China </td><td>3</td><td>83.00</td><td>27.67</td><td>0</td><td>273918686</td><td>auto-renewal</td><td>unrealized</td><td>Not Renewd</td><td>2020-01-01</td><td>40</td><td>2.72</td><td>bluebyebye    </td><td>1</td><td>16</td><td>10</td><td>l</td><td>10l</td><td>store</td><td>Non China</td><td>3.32034879</td><td>storego daddy         </td><td>  NA</td><td>       NA</td><td>   NA</td><td>       NA</td><td>   NA</td><td>       NA</td><td>        NA</td><td>       NA</td></tr>\n",
       "\t<tr><th scope=row>2</th><td>41613156</td><td>FirstTime</td><td>1</td><td>2020-01-01</td><td>2017-01-01</td><td>Active</td><td>rxmjqj.pw           </td><td>Shanghai Meicheng</td><td>Shanghai Meicheng</td><td>China        </td><td>China </td><td>3</td><td> 3.25</td><td> 1.08</td><td>0</td><td>273918431</td><td>auto-renewal</td><td>unrealized</td><td>Not Renewd</td><td>2020-01-01</td><td> 3</td><td>0.04</td><td>rxmjqj        </td><td>1</td><td>42</td><td> 6</td><td>l</td><td>6l </td><td>pw   </td><td>China    </td><td>0.07696104</td><td>pwshanghai meicheng   </td><td>  NA</td><td>       NA</td><td>   NA</td><td>       NA</td><td>   NA</td><td>       NA</td><td>        NA</td><td>       NA</td></tr>\n",
       "\t<tr><th scope=row>3</th><td>41613923</td><td>FirstTime</td><td>1</td><td>2020-01-01</td><td>2017-01-01</td><td>Active</td><td>wastecase.space     </td><td>PDR Ltd          </td><td>Domain.com       </td><td>United States</td><td>Canada</td><td>3</td><td>13.00</td><td> 4.33</td><td>0</td><td>269044961</td><td>renewal     </td><td>NA        </td><td>Renewed   </td><td>2019-12-21</td><td> 6</td><td>9.65</td><td>wastecase     </td><td>1</td><td> 3</td><td> 9</td><td>l</td><td>9l </td><td>space</td><td>Non China</td><td>1.46556754</td><td>spacedomain.com       </td><td>  NA</td><td>       NA</td><td>   NA</td><td>       NA</td><td>   NA</td><td>       NA</td><td>        NA</td><td>       NA</td></tr>\n",
       "\t<tr><th scope=row>4</th><td>41613952</td><td>FirstTime</td><td>1</td><td>2020-01-01</td><td>2017-01-01</td><td>Active</td><td>jamieandandrew.space</td><td>Go Daddy         </td><td>Go Daddy         </td><td>United States</td><td>China </td><td>3</td><td>12.50</td><td> 4.17</td><td>0</td><td>273918906</td><td>auto-renewal</td><td>unrealized</td><td>Not Renewd</td><td>2020-01-01</td><td>15</td><td>6.88</td><td>jamieandandrew</td><td>1</td><td>14</td><td>14</td><td>l</td><td>14l</td><td>space</td><td>Non China</td><td>1.42791604</td><td>spacego daddy         </td><td>  NA</td><td>       NA</td><td>   NA</td><td>       NA</td><td>   NA</td><td>       NA</td><td>        NA</td><td>       NA</td></tr>\n",
       "\t<tr><th scope=row>5</th><td>41616161</td><td>FirstTime</td><td>1</td><td>2020-01-01</td><td>2017-01-01</td><td>Active</td><td>zangshimei.space    </td><td>Shanghai Meicheng</td><td>Shanghai Meicheng</td><td>China        </td><td>China </td><td>3</td><td> 3.50</td><td> 1.17</td><td>0</td><td>273918441</td><td>auto-renewal</td><td>unrealized</td><td>Not Renewd</td><td>2020-01-01</td><td> 5</td><td>6.80</td><td>zangshimei    </td><td>1</td><td> 1</td><td>10</td><td>l</td><td>10l</td><td>space</td><td>China    </td><td>0.15700375</td><td>spaceshanghai meicheng</td><td>  NA</td><td>       NA</td><td>   NA</td><td>       NA</td><td>   NA</td><td>       NA</td><td>        NA</td><td>       NA</td></tr>\n",
       "\t<tr><th scope=row>6</th><td>41617303</td><td>FirstTime</td><td>1</td><td>2020-01-01</td><td>2017-01-01</td><td>Active</td><td>janezdm.space       </td><td>Xin Net          </td><td>Xin Net          </td><td>China        </td><td>China </td><td>3</td><td> 3.50</td><td> 1.17</td><td>0</td><td>273893916</td><td>auto-renewal</td><td>unrealized</td><td>Not Renewd</td><td>2020-01-01</td><td> 5</td><td>1.72</td><td>janezdm       </td><td>1</td><td> 3</td><td> 7</td><td>l</td><td>7l </td><td>space</td><td>China    </td><td>0.15700375</td><td>spacexin net          </td><td>0.12</td><td>0.1733994</td><td>0.115</td><td>0.1052066</td><td>0.105</td><td>0.1503908</td><td>0.08616119</td><td>0.2433018</td></tr>\n",
       "</tbody>\n",
       "</table>\n"
      ],
      "text/latex": [
       "A data.frame: 6 × 40\n",
       "\\begin{tabular}{r|llllllllllllllllllllllllllllllllllllllll}\n",
       "  & domain\\_id & renewal\\_type & renewed\\_count & expiry\\_date & creation\\_date & status & domain & registrar & reseller & reseller\\_country & registrant\\_country & reg\\_period & reg\\_revenue & reg\\_arpt & renew\\_mbg & renewal\\_item\\_id & renew\\_type & autorenew\\_type & renewal\\_status & renew\\_date & renew\\_arpt & gibb\\_score & pattern & pattern\\_domain\\_count & day\\_domains & sld\\_length & sld\\_type & sld\\_type2 & tld & region & log\\_reg\\_arpt & tld\\_registrar\\_index & pred\\_agg\\_glm\\_ALL & pred\\_agg\\_rf\\_ALL & pred\\_agg\\_glm & pred\\_agg\\_rf & pred\\_seg\\_glm\\_ALL & pred\\_seg\\_rf\\_ALL & pred\\_seg2\\_glm\\_ALL & pred\\_seg2\\_rf\\_ALL\\\\\n",
       "  & <int> & <chr> & <int> & <date> & <date> & <chr> & <chr> & <chr> & <chr> & <chr> & <chr> & <int> & <dbl> & <dbl> & <int> & <int> & <chr> & <chr> & <chr> & <date> & <dbl> & <dbl> & <chr> & <int> & <int> & <int> & <chr> & <chr> & <chr> & <chr> & <dbl> & <chr> & <dbl> & <dbl> & <dbl> & <dbl> & <dbl> & <dbl> & <dbl> & <dbl>\\\\\n",
       "\\hline\n",
       "\t1 & 41612421 & FirstTime & 1 & 2020-01-01 & 2017-01-01 & Active & bluebyebye.store     & Go Daddy          & Go Daddy          & United States & China  & 3 & 83.00 & 27.67 & 0 & 273918686 & auto-renewal & unrealized & Not Renewd & 2020-01-01 & 40 & 2.72 & bluebyebye     & 1 & 16 & 10 & l & 10l & store & Non China & 3.32034879 & storego daddy          &   NA &        NA &    NA &        NA &    NA &        NA &         NA &        NA\\\\\n",
       "\t2 & 41613156 & FirstTime & 1 & 2020-01-01 & 2017-01-01 & Active & rxmjqj.pw            & Shanghai Meicheng & Shanghai Meicheng & China         & China  & 3 &  3.25 &  1.08 & 0 & 273918431 & auto-renewal & unrealized & Not Renewd & 2020-01-01 &  3 & 0.04 & rxmjqj         & 1 & 42 &  6 & l & 6l  & pw    & China     & 0.07696104 & pwshanghai meicheng    &   NA &        NA &    NA &        NA &    NA &        NA &         NA &        NA\\\\\n",
       "\t3 & 41613923 & FirstTime & 1 & 2020-01-01 & 2017-01-01 & Active & wastecase.space      & PDR Ltd           & Domain.com        & United States & Canada & 3 & 13.00 &  4.33 & 0 & 269044961 & renewal      & NA         & Renewed    & 2019-12-21 &  6 & 9.65 & wastecase      & 1 &  3 &  9 & l & 9l  & space & Non China & 1.46556754 & spacedomain.com        &   NA &        NA &    NA &        NA &    NA &        NA &         NA &        NA\\\\\n",
       "\t4 & 41613952 & FirstTime & 1 & 2020-01-01 & 2017-01-01 & Active & jamieandandrew.space & Go Daddy          & Go Daddy          & United States & China  & 3 & 12.50 &  4.17 & 0 & 273918906 & auto-renewal & unrealized & Not Renewd & 2020-01-01 & 15 & 6.88 & jamieandandrew & 1 & 14 & 14 & l & 14l & space & Non China & 1.42791604 & spacego daddy          &   NA &        NA &    NA &        NA &    NA &        NA &         NA &        NA\\\\\n",
       "\t5 & 41616161 & FirstTime & 1 & 2020-01-01 & 2017-01-01 & Active & zangshimei.space     & Shanghai Meicheng & Shanghai Meicheng & China         & China  & 3 &  3.50 &  1.17 & 0 & 273918441 & auto-renewal & unrealized & Not Renewd & 2020-01-01 &  5 & 6.80 & zangshimei     & 1 &  1 & 10 & l & 10l & space & China     & 0.15700375 & spaceshanghai meicheng &   NA &        NA &    NA &        NA &    NA &        NA &         NA &        NA\\\\\n",
       "\t6 & 41617303 & FirstTime & 1 & 2020-01-01 & 2017-01-01 & Active & janezdm.space        & Xin Net           & Xin Net           & China         & China  & 3 &  3.50 &  1.17 & 0 & 273893916 & auto-renewal & unrealized & Not Renewd & 2020-01-01 &  5 & 1.72 & janezdm        & 1 &  3 &  7 & l & 7l  & space & China     & 0.15700375 & spacexin net           & 0.12 & 0.1733994 & 0.115 & 0.1052066 & 0.105 & 0.1503908 & 0.08616119 & 0.2433018\\\\\n",
       "\\end{tabular}\n"
      ],
      "text/markdown": [
       "\n",
       "A data.frame: 6 × 40\n",
       "\n",
       "| <!--/--> | domain_id &lt;int&gt; | renewal_type &lt;chr&gt; | renewed_count &lt;int&gt; | expiry_date &lt;date&gt; | creation_date &lt;date&gt; | status &lt;chr&gt; | domain &lt;chr&gt; | registrar &lt;chr&gt; | reseller &lt;chr&gt; | reseller_country &lt;chr&gt; | registrant_country &lt;chr&gt; | reg_period &lt;int&gt; | reg_revenue &lt;dbl&gt; | reg_arpt &lt;dbl&gt; | renew_mbg &lt;int&gt; | renewal_item_id &lt;int&gt; | renew_type &lt;chr&gt; | autorenew_type &lt;chr&gt; | renewal_status &lt;chr&gt; | renew_date &lt;date&gt; | renew_arpt &lt;dbl&gt; | gibb_score &lt;dbl&gt; | pattern &lt;chr&gt; | pattern_domain_count &lt;int&gt; | day_domains &lt;int&gt; | sld_length &lt;int&gt; | sld_type &lt;chr&gt; | sld_type2 &lt;chr&gt; | tld &lt;chr&gt; | region &lt;chr&gt; | log_reg_arpt &lt;dbl&gt; | tld_registrar_index &lt;chr&gt; | pred_agg_glm_ALL &lt;dbl&gt; | pred_agg_rf_ALL &lt;dbl&gt; | pred_agg_glm &lt;dbl&gt; | pred_agg_rf &lt;dbl&gt; | pred_seg_glm_ALL &lt;dbl&gt; | pred_seg_rf_ALL &lt;dbl&gt; | pred_seg2_glm_ALL &lt;dbl&gt; | pred_seg2_rf_ALL &lt;dbl&gt; |\n",
       "|---|---|---|---|---|---|---|---|---|---|---|---|---|---|---|---|---|---|---|---|---|---|---|---|---|---|---|---|---|---|---|---|---|---|---|---|---|---|---|---|---|\n",
       "| 1 | 41612421 | FirstTime | 1 | 2020-01-01 | 2017-01-01 | Active | bluebyebye.store     | Go Daddy          | Go Daddy          | United States | China  | 3 | 83.00 | 27.67 | 0 | 273918686 | auto-renewal | unrealized | Not Renewd | 2020-01-01 | 40 | 2.72 | bluebyebye     | 1 | 16 | 10 | l | 10l | store | Non China | 3.32034879 | storego daddy          |   NA |        NA |    NA |        NA |    NA |        NA |         NA |        NA |\n",
       "| 2 | 41613156 | FirstTime | 1 | 2020-01-01 | 2017-01-01 | Active | rxmjqj.pw            | Shanghai Meicheng | Shanghai Meicheng | China         | China  | 3 |  3.25 |  1.08 | 0 | 273918431 | auto-renewal | unrealized | Not Renewd | 2020-01-01 |  3 | 0.04 | rxmjqj         | 1 | 42 |  6 | l | 6l  | pw    | China     | 0.07696104 | pwshanghai meicheng    |   NA |        NA |    NA |        NA |    NA |        NA |         NA |        NA |\n",
       "| 3 | 41613923 | FirstTime | 1 | 2020-01-01 | 2017-01-01 | Active | wastecase.space      | PDR Ltd           | Domain.com        | United States | Canada | 3 | 13.00 |  4.33 | 0 | 269044961 | renewal      | NA         | Renewed    | 2019-12-21 |  6 | 9.65 | wastecase      | 1 |  3 |  9 | l | 9l  | space | Non China | 1.46556754 | spacedomain.com        |   NA |        NA |    NA |        NA |    NA |        NA |         NA |        NA |\n",
       "| 4 | 41613952 | FirstTime | 1 | 2020-01-01 | 2017-01-01 | Active | jamieandandrew.space | Go Daddy          | Go Daddy          | United States | China  | 3 | 12.50 |  4.17 | 0 | 273918906 | auto-renewal | unrealized | Not Renewd | 2020-01-01 | 15 | 6.88 | jamieandandrew | 1 | 14 | 14 | l | 14l | space | Non China | 1.42791604 | spacego daddy          |   NA |        NA |    NA |        NA |    NA |        NA |         NA |        NA |\n",
       "| 5 | 41616161 | FirstTime | 1 | 2020-01-01 | 2017-01-01 | Active | zangshimei.space     | Shanghai Meicheng | Shanghai Meicheng | China         | China  | 3 |  3.50 |  1.17 | 0 | 273918441 | auto-renewal | unrealized | Not Renewd | 2020-01-01 |  5 | 6.80 | zangshimei     | 1 |  1 | 10 | l | 10l | space | China     | 0.15700375 | spaceshanghai meicheng |   NA |        NA |    NA |        NA |    NA |        NA |         NA |        NA |\n",
       "| 6 | 41617303 | FirstTime | 1 | 2020-01-01 | 2017-01-01 | Active | janezdm.space        | Xin Net           | Xin Net           | China         | China  | 3 |  3.50 |  1.17 | 0 | 273893916 | auto-renewal | unrealized | Not Renewd | 2020-01-01 |  5 | 1.72 | janezdm        | 1 |  3 |  7 | l | 7l  | space | China     | 0.15700375 | spacexin net           | 0.12 | 0.1733994 | 0.115 | 0.1052066 | 0.105 | 0.1503908 | 0.08616119 | 0.2433018 |\n",
       "\n"
      ],
      "text/plain": [
       "  domain_id renewal_type renewed_count expiry_date creation_date status\n",
       "1 41612421  FirstTime    1             2020-01-01  2017-01-01    Active\n",
       "2 41613156  FirstTime    1             2020-01-01  2017-01-01    Active\n",
       "3 41613923  FirstTime    1             2020-01-01  2017-01-01    Active\n",
       "4 41613952  FirstTime    1             2020-01-01  2017-01-01    Active\n",
       "5 41616161  FirstTime    1             2020-01-01  2017-01-01    Active\n",
       "6 41617303  FirstTime    1             2020-01-01  2017-01-01    Active\n",
       "  domain               registrar         reseller          reseller_country\n",
       "1 bluebyebye.store     Go Daddy          Go Daddy          United States   \n",
       "2 rxmjqj.pw            Shanghai Meicheng Shanghai Meicheng China           \n",
       "3 wastecase.space      PDR Ltd           Domain.com        United States   \n",
       "4 jamieandandrew.space Go Daddy          Go Daddy          United States   \n",
       "5 zangshimei.space     Shanghai Meicheng Shanghai Meicheng China           \n",
       "6 janezdm.space        Xin Net           Xin Net           China           \n",
       "  registrant_country reg_period reg_revenue reg_arpt renew_mbg renewal_item_id\n",
       "1 China              3          83.00       27.67    0         273918686      \n",
       "2 China              3           3.25        1.08    0         273918431      \n",
       "3 Canada             3          13.00        4.33    0         269044961      \n",
       "4 China              3          12.50        4.17    0         273918906      \n",
       "5 China              3           3.50        1.17    0         273918441      \n",
       "6 China              3           3.50        1.17    0         273893916      \n",
       "  renew_type   autorenew_type renewal_status renew_date renew_arpt gibb_score\n",
       "1 auto-renewal unrealized     Not Renewd     2020-01-01 40         2.72      \n",
       "2 auto-renewal unrealized     Not Renewd     2020-01-01  3         0.04      \n",
       "3 renewal      NA             Renewed        2019-12-21  6         9.65      \n",
       "4 auto-renewal unrealized     Not Renewd     2020-01-01 15         6.88      \n",
       "5 auto-renewal unrealized     Not Renewd     2020-01-01  5         6.80      \n",
       "6 auto-renewal unrealized     Not Renewd     2020-01-01  5         1.72      \n",
       "  pattern        pattern_domain_count day_domains sld_length sld_type sld_type2\n",
       "1 bluebyebye     1                    16          10         l        10l      \n",
       "2 rxmjqj         1                    42           6         l        6l       \n",
       "3 wastecase      1                     3           9         l        9l       \n",
       "4 jamieandandrew 1                    14          14         l        14l      \n",
       "5 zangshimei     1                     1          10         l        10l      \n",
       "6 janezdm        1                     3           7         l        7l       \n",
       "  tld   region    log_reg_arpt tld_registrar_index    pred_agg_glm_ALL\n",
       "1 store Non China 3.32034879   storego daddy            NA            \n",
       "2 pw    China     0.07696104   pwshanghai meicheng      NA            \n",
       "3 space Non China 1.46556754   spacedomain.com          NA            \n",
       "4 space Non China 1.42791604   spacego daddy            NA            \n",
       "5 space China     0.15700375   spaceshanghai meicheng   NA            \n",
       "6 space China     0.15700375   spacexin net           0.12            \n",
       "  pred_agg_rf_ALL pred_agg_glm pred_agg_rf pred_seg_glm_ALL pred_seg_rf_ALL\n",
       "1        NA          NA               NA      NA                   NA      \n",
       "2        NA          NA               NA      NA                   NA      \n",
       "3        NA          NA               NA      NA                   NA      \n",
       "4        NA          NA               NA      NA                   NA      \n",
       "5        NA          NA               NA      NA                   NA      \n",
       "6 0.1733994       0.115        0.1052066   0.105            0.1503908      \n",
       "  pred_seg2_glm_ALL pred_seg2_rf_ALL\n",
       "1         NA               NA       \n",
       "2         NA               NA       \n",
       "3         NA               NA       \n",
       "4         NA               NA       \n",
       "5         NA               NA       \n",
       "6 0.08616119        0.2433018       "
      ]
     },
     "metadata": {},
     "output_type": "display_data"
    }
   ],
   "source": [
    "head(expiry_df_new3)"
   ]
  },
  {
   "cell_type": "code",
   "execution_count": 24,
   "metadata": {},
   "outputs": [],
   "source": [
    "expiry_df_train <- expiry_df_new3 %>% filter(is.na(pred_agg_rf_ALL))\n",
    "expiry_df_test_preds <- expiry_df_new3 %>% filter(!is.na(pred_agg_rf_ALL))\n",
    "expiry_df_test <- expiry_df_test_preds %>% select(-contains('pred_'))"
   ]
  },
  {
   "cell_type": "code",
   "execution_count": 25,
   "metadata": {},
   "outputs": [
    {
     "data": {
      "text/html": [
       "<style>\n",
       ".list-inline {list-style: none; margin:0; padding: 0}\n",
       ".list-inline>li {display: inline-block}\n",
       ".list-inline>li:not(:last-child)::after {content: \"\\00b7\"; padding: 0 .5ex}\n",
       "</style>\n",
       "<ol class=list-inline><li>0.799999828389926</li><li>1.25</li></ol>\n"
      ],
      "text/latex": [
       "\\begin{enumerate*}\n",
       "\\item 0.799999828389926\n",
       "\\item 1.25\n",
       "\\end{enumerate*}\n"
      ],
      "text/markdown": [
       "1. 0.799999828389926\n",
       "2. 1.25\n",
       "\n",
       "\n"
      ],
      "text/plain": [
       "[1] 0.7999998 1.2500000"
      ]
     },
     "metadata": {},
     "output_type": "display_data"
    },
    {
     "data": {
      "text/html": [
       "<style>\n",
       ".list-inline {list-style: none; margin:0; padding: 0}\n",
       ".list-inline>li {display: inline-block}\n",
       ".list-inline>li:not(:last-child)::after {content: \"\\00b7\"; padding: 0 .5ex}\n",
       "</style>\n",
       "<ol class=list-inline><li>0.200000171610074</li><li>1</li></ol>\n"
      ],
      "text/latex": [
       "\\begin{enumerate*}\n",
       "\\item 0.200000171610074\n",
       "\\item 1\n",
       "\\end{enumerate*}\n"
      ],
      "text/markdown": [
       "1. 0.200000171610074\n",
       "2. 1\n",
       "\n",
       "\n"
      ],
      "text/plain": [
       "[1] 0.2000002 1.0000000"
      ]
     },
     "metadata": {},
     "output_type": "display_data"
    },
    {
     "data": {
      "text/html": [
       "<style>\n",
       ".list-inline {list-style: none; margin:0; padding: 0}\n",
       ".list-inline>li {display: inline-block}\n",
       ".list-inline>li:not(:last-child)::after {content: \"\\00b7\"; padding: 0 .5ex}\n",
       "</style>\n",
       "<ol class=list-inline><li>932347</li><li>40</li></ol>\n"
      ],
      "text/latex": [
       "\\begin{enumerate*}\n",
       "\\item 932347\n",
       "\\item 40\n",
       "\\end{enumerate*}\n"
      ],
      "text/markdown": [
       "1. 932347\n",
       "2. 40\n",
       "\n",
       "\n"
      ],
      "text/plain": [
       "[1] 932347     40"
      ]
     },
     "metadata": {},
     "output_type": "display_data"
    },
    {
     "data": {
      "text/html": [
       "<style>\n",
       ".list-inline {list-style: none; margin:0; padding: 0}\n",
       ".list-inline>li {display: inline-block}\n",
       ".list-inline>li:not(:last-child)::after {content: \"\\00b7\"; padding: 0 .5ex}\n",
       "</style>\n",
       "<ol class=list-inline><li>932347</li><li>39</li></ol>\n"
      ],
      "text/latex": [
       "\\begin{enumerate*}\n",
       "\\item 932347\n",
       "\\item 39\n",
       "\\end{enumerate*}\n"
      ],
      "text/markdown": [
       "1. 932347\n",
       "2. 39\n",
       "\n",
       "\n"
      ],
      "text/plain": [
       "[1] 932347     39"
      ]
     },
     "metadata": {},
     "output_type": "display_data"
    }
   ],
   "source": [
    "dim(expiry_df_train)/dim(expiry_df_new2)\n",
    "dim(expiry_df_test)/dim(expiry_df_new2)\n",
    "dim(expiry_df_test_preds)\n",
    "dim(preds_df)"
   ]
  },
  {
   "cell_type": "code",
   "execution_count": 26,
   "metadata": {},
   "outputs": [],
   "source": [
    "# WRITE to CSV's\n",
    "write.csv(expiry_df_test_preds, \"../../data/output/datapull_20201116/expiry_df_test_preds.csv\",\n",
    "         row.names=FALSE)\n",
    "write.csv(expiry_df_train, \"../../data/output/datapull_20201116/expiry_df_train.csv\",\n",
    "         row.names=FALSE)\n",
    "write.csv(expiry_df_test, \"../../data/output/datapull_20201116/expiry_df_test.csv\",\n",
    "         row.names=FALSE)\n"
   ]
  },
  {
   "cell_type": "code",
   "execution_count": null,
   "metadata": {},
   "outputs": [],
   "source": [
    "# WRITE to GCP shared output\n",
    "\n",
    "system('gsutil cp -r /home/jupyter/Domains_202003/data/output/datapull_20201116 gs://output_shared/')"
   ]
  },
  {
   "cell_type": "code",
   "execution_count": null,
   "metadata": {},
   "outputs": [],
   "source": []
  },
  {
   "cell_type": "code",
   "execution_count": null,
   "metadata": {},
   "outputs": [],
   "source": []
  }
 ],
 "metadata": {
  "environment": {
   "name": "r-cpu.3-6.m48",
   "type": "gcloud",
   "uri": "gcr.io/deeplearning-platform-release/r-cpu.3-6:m48"
  },
  "kernelspec": {
   "display_name": "R",
   "language": "R",
   "name": "ir"
  },
  "language_info": {
   "codemirror_mode": "r",
   "file_extension": ".r",
   "mimetype": "text/x-r-source",
   "name": "R",
   "pygments_lexer": "r",
   "version": "3.6.3"
  }
 },
 "nbformat": 4,
 "nbformat_minor": 4
}
