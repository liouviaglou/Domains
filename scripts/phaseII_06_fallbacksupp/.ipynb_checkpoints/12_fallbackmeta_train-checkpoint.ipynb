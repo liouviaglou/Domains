{
 "cells": [
  {
   "cell_type": "markdown",
   "metadata": {},
   "source": [
    "# Fallback Table Metalearning Training\n"
   ]
  },
  {
   "cell_type": "code",
   "execution_count": 81,
   "metadata": {},
   "outputs": [],
   "source": [
    "options(repr.matrix.max.cols=50, repr.matrix.max.rows=100)"
   ]
  },
  {
   "cell_type": "code",
   "execution_count": 82,
   "metadata": {},
   "outputs": [],
   "source": [
    "# install.packages(\"pkgcond\")"
   ]
  },
  {
   "cell_type": "code",
   "execution_count": 83,
   "metadata": {},
   "outputs": [
    {
     "data": {
      "text/html": [
       "'/home/jupyter/Domains_202003/scripts/phaseII_06_fallbacksupp'"
      ],
      "text/latex": [
       "'/home/jupyter/Domains\\_202003/scripts/phaseII\\_06\\_fallbacksupp'"
      ],
      "text/markdown": [
       "'/home/jupyter/Domains_202003/scripts/phaseII_06_fallbacksupp'"
      ],
      "text/plain": [
       "[1] \"/home/jupyter/Domains_202003/scripts/phaseII_06_fallbacksupp\""
      ]
     },
     "metadata": {},
     "output_type": "display_data"
    }
   ],
   "source": [
    "library(dplyr)\n",
    "library(data.table)\n",
    "library(partykit)\n",
    "library(tictoc)\n",
    "library(caret)\n",
    "library(e1071)\n",
    "library(randomForest)\n",
    "library(ranger)\n",
    "\n",
    "#for 3d plotting\n",
    "library(akima)\n",
    "library(plotly)\n",
    "\n",
    "# for prep data\n",
    "library(stringr)\n",
    "library(pbapply)\n",
    "library(stringdist)\n",
    "library(data.table)\n",
    "library(dominanceanalysis)\n",
    "\n",
    "\n",
    "getwd()"
   ]
  },
  {
   "cell_type": "code",
   "execution_count": 84,
   "metadata": {},
   "outputs": [],
   "source": [
    "\n",
    "source('../orig/functions.R')\n",
    "\n",
    "source('../orig/functions_models.R')\n",
    "\n",
    "source('../phaseII_03_forest/functions_eval.R')\n"
   ]
  },
  {
   "cell_type": "code",
   "execution_count": 85,
   "metadata": {},
   "outputs": [],
   "source": [
    "source('functions_metalearning.R')"
   ]
  },
  {
   "cell_type": "code",
   "execution_count": 86,
   "metadata": {},
   "outputs": [],
   "source": [
    "source('functions_fallback.R')"
   ]
  },
  {
   "cell_type": "code",
   "execution_count": 87,
   "metadata": {},
   "outputs": [],
   "source": [
    "# source('load_prep_data_expiry_2.R') #read in train test and predictions manually instead\n",
    "\n",
    "# READ CSV's\n",
    "# expiry_df_test_preds <- read.csv(\"../../data/output/datapull_20201116/expiry_df_test_preds.csv\")\n",
    "expiry_df_train <- read.csv(\"../../data/output/datapull_20201116/expiry_df_train.csv\")\n",
    "# expiry_df_test <- read.csv(\"../../data/output/datapull_20201116/expiry_df_test.csv\")\n",
    "metametrics_df <- read.csv(\"../../data/output/datapull_20201116/expiry_metametrics_df.csv\")\n",
    "# expiry_df\n",
    "# expiry_train_df \n",
    "# expiry_test_df \n",
    "# expiry_list\n",
    "# expiry_train_list\n",
    "# expiry_test_list"
   ]
  },
  {
   "cell_type": "markdown",
   "metadata": {},
   "source": [
    "# CREATE flags, analyze splits\n",
    "## seg2_glm_fb vs agg_rf_ALL"
   ]
  },
  {
   "cell_type": "code",
   "execution_count": 88,
   "metadata": {},
   "outputs": [
    {
     "data": {
      "text/html": [
       "<style>\n",
       ".list-inline {list-style: none; margin:0; padding: 0}\n",
       ".list-inline>li {display: inline-block}\n",
       ".list-inline>li:not(:last-child)::after {content: \"\\00b7\"; padding: 0 .5ex}\n",
       "</style>\n",
       "<ol class=list-inline><li>TRUE</li><li>TRUE</li></ol>\n"
      ],
      "text/latex": [
       "\\begin{enumerate*}\n",
       "\\item TRUE\n",
       "\\item TRUE\n",
       "\\end{enumerate*}\n"
      ],
      "text/markdown": [
       "1. TRUE\n",
       "2. TRUE\n",
       "\n",
       "\n"
      ],
      "text/plain": [
       "[1] TRUE TRUE"
      ]
     },
     "metadata": {},
     "output_type": "display_data"
    },
    {
     "data": {
      "text/html": [
       "<style>\n",
       ".list-inline {list-style: none; margin:0; padding: 0}\n",
       ".list-inline>li {display: inline-block}\n",
       ".list-inline>li:not(:last-child)::after {content: \"\\00b7\"; padding: 0 .5ex}\n",
       "</style>\n",
       "<ol class=list-inline><li>TRUE</li><li>TRUE</li></ol>\n"
      ],
      "text/latex": [
       "\\begin{enumerate*}\n",
       "\\item TRUE\n",
       "\\item TRUE\n",
       "\\end{enumerate*}\n"
      ],
      "text/markdown": [
       "1. TRUE\n",
       "2. TRUE\n",
       "\n",
       "\n"
      ],
      "text/plain": [
       "[1] TRUE TRUE"
      ]
     },
     "metadata": {},
     "output_type": "display_data"
    }
   ],
   "source": [
    "# (auc_vars = grep('auc', names(metrics_df), value=TRUE))\n",
    "# (l10_vars = grep('l10', names(metrics_df), value=TRUE))\n",
    "\n",
    "auc_vars = c('auc_seg2_glm_fb','auc_agg_rf_ALL')\n",
    "l10_vars = c('l10_seg2_glm_fb','l10_agg_rf_ALL')\n",
    "\n",
    "auc_vars %in% names(metametrics_df)\n",
    "l10_vars %in% names(metametrics_df)\n",
    "\n",
    "metametrics_df <- metametrics_df %>%\n",
    "    mutate (auc_win_01=sapply(apply(.[,c(auc_vars)], \n",
    "                          1, function(x) names(x)[which.max(x)]), \n",
    "                                    function(s) if (length(s) == 0) NA else paste(s, collapse = \" \")),\n",
    "            l10_win_01=sapply(apply(.[,c(l10_vars)], \n",
    "                          1, function(x) names(x)[which.max(x)]), \n",
    "                                    function(s) if (length(s) == 0) NA else paste(s, collapse = \" \")) \n",
    "            ) \n",
    "                              "
   ]
  },
  {
   "cell_type": "code",
   "execution_count": 89,
   "metadata": {},
   "outputs": [
    {
     "data": {
      "text/plain": [
       "\n",
       " auc_agg_rf_ALL auc_seg2_glm_fb \n",
       "            762             720 "
      ]
     },
     "metadata": {},
     "output_type": "display_data"
    },
    {
     "data": {
      "text/plain": [
       "\n",
       " l10_agg_rf_ALL l10_seg2_glm_fb \n",
       "            516             966 "
      ]
     },
     "metadata": {},
     "output_type": "display_data"
    }
   ],
   "source": [
    "table(metametrics_df$auc_win_01)\n",
    "table(metametrics_df$l10_win_01)"
   ]
  },
  {
   "cell_type": "markdown",
   "metadata": {},
   "source": [
    "## multiclass"
   ]
  },
  {
   "cell_type": "code",
   "execution_count": 90,
   "metadata": {},
   "outputs": [
    {
     "data": {
      "text/html": [
       "<style>\n",
       ".list-inline {list-style: none; margin:0; padding: 0}\n",
       ".list-inline>li {display: inline-block}\n",
       ".list-inline>li:not(:last-child)::after {content: \"\\00b7\"; padding: 0 .5ex}\n",
       "</style>\n",
       "<ol class=list-inline><li>'auc_seg2_glm'</li><li>'auc_seg_glm'</li><li>'auc_agg_glm_ALL'</li><li>'auc_agg_glm'</li><li>'auc_seg2_rf'</li><li>'auc_seg_rf'</li><li>'auc_agg_rf_ALL'</li><li>'auc_agg_rf'</li><li>'auc_seg2_glm_fb'</li><li>'auc_seg_glm_fb'</li><li>'auc_agg_glm_fb'</li><li>'auc_agg_glm_ALL_fb'</li><li>'auc_seg2_rf_fb'</li><li>'auc_seg_rf_fb'</li><li>'auc_agg_rf_fb'</li><li>'auc_agg_rf_ALL_fb'</li><li>'auc_win_01'</li></ol>\n"
      ],
      "text/latex": [
       "\\begin{enumerate*}\n",
       "\\item 'auc\\_seg2\\_glm'\n",
       "\\item 'auc\\_seg\\_glm'\n",
       "\\item 'auc\\_agg\\_glm\\_ALL'\n",
       "\\item 'auc\\_agg\\_glm'\n",
       "\\item 'auc\\_seg2\\_rf'\n",
       "\\item 'auc\\_seg\\_rf'\n",
       "\\item 'auc\\_agg\\_rf\\_ALL'\n",
       "\\item 'auc\\_agg\\_rf'\n",
       "\\item 'auc\\_seg2\\_glm\\_fb'\n",
       "\\item 'auc\\_seg\\_glm\\_fb'\n",
       "\\item 'auc\\_agg\\_glm\\_fb'\n",
       "\\item 'auc\\_agg\\_glm\\_ALL\\_fb'\n",
       "\\item 'auc\\_seg2\\_rf\\_fb'\n",
       "\\item 'auc\\_seg\\_rf\\_fb'\n",
       "\\item 'auc\\_agg\\_rf\\_fb'\n",
       "\\item 'auc\\_agg\\_rf\\_ALL\\_fb'\n",
       "\\item 'auc\\_win\\_01'\n",
       "\\end{enumerate*}\n"
      ],
      "text/markdown": [
       "1. 'auc_seg2_glm'\n",
       "2. 'auc_seg_glm'\n",
       "3. 'auc_agg_glm_ALL'\n",
       "4. 'auc_agg_glm'\n",
       "5. 'auc_seg2_rf'\n",
       "6. 'auc_seg_rf'\n",
       "7. 'auc_agg_rf_ALL'\n",
       "8. 'auc_agg_rf'\n",
       "9. 'auc_seg2_glm_fb'\n",
       "10. 'auc_seg_glm_fb'\n",
       "11. 'auc_agg_glm_fb'\n",
       "12. 'auc_agg_glm_ALL_fb'\n",
       "13. 'auc_seg2_rf_fb'\n",
       "14. 'auc_seg_rf_fb'\n",
       "15. 'auc_agg_rf_fb'\n",
       "16. 'auc_agg_rf_ALL_fb'\n",
       "17. 'auc_win_01'\n",
       "\n",
       "\n"
      ],
      "text/plain": [
       " [1] \"auc_seg2_glm\"       \"auc_seg_glm\"        \"auc_agg_glm_ALL\"   \n",
       " [4] \"auc_agg_glm\"        \"auc_seg2_rf\"        \"auc_seg_rf\"        \n",
       " [7] \"auc_agg_rf_ALL\"     \"auc_agg_rf\"         \"auc_seg2_glm_fb\"   \n",
       "[10] \"auc_seg_glm_fb\"     \"auc_agg_glm_fb\"     \"auc_agg_glm_ALL_fb\"\n",
       "[13] \"auc_seg2_rf_fb\"     \"auc_seg_rf_fb\"      \"auc_agg_rf_fb\"     \n",
       "[16] \"auc_agg_rf_ALL_fb\"  \"auc_win_01\"        "
      ]
     },
     "metadata": {},
     "output_type": "display_data"
    },
    {
     "data": {
      "text/html": [
       "<style>\n",
       ".list-inline {list-style: none; margin:0; padding: 0}\n",
       ".list-inline>li {display: inline-block}\n",
       ".list-inline>li:not(:last-child)::after {content: \"\\00b7\"; padding: 0 .5ex}\n",
       "</style>\n",
       "<ol class=list-inline><li>'l10_seg2_glm'</li><li>'l10_seg_glm'</li><li>'l10_agg_glm_ALL'</li><li>'l10_agg_glm'</li><li>'l10_seg2_rf'</li><li>'l10_seg_rf'</li><li>'l10_agg_rf'</li><li>'l10_agg_rf_ALL'</li><li>'l10_seg2_glm_fb'</li><li>'l10_seg_glm_fb'</li><li>'l10_agg_glm_fb'</li><li>'l10_agg_glm_ALL_fb'</li><li>'l10_seg2_rf_fb'</li><li>'l10_seg_rf_fb'</li><li>'l10_agg_rf_fb'</li><li>'l10_agg_rf_ALL_fb'</li><li>'l10_win_01'</li></ol>\n"
      ],
      "text/latex": [
       "\\begin{enumerate*}\n",
       "\\item 'l10\\_seg2\\_glm'\n",
       "\\item 'l10\\_seg\\_glm'\n",
       "\\item 'l10\\_agg\\_glm\\_ALL'\n",
       "\\item 'l10\\_agg\\_glm'\n",
       "\\item 'l10\\_seg2\\_rf'\n",
       "\\item 'l10\\_seg\\_rf'\n",
       "\\item 'l10\\_agg\\_rf'\n",
       "\\item 'l10\\_agg\\_rf\\_ALL'\n",
       "\\item 'l10\\_seg2\\_glm\\_fb'\n",
       "\\item 'l10\\_seg\\_glm\\_fb'\n",
       "\\item 'l10\\_agg\\_glm\\_fb'\n",
       "\\item 'l10\\_agg\\_glm\\_ALL\\_fb'\n",
       "\\item 'l10\\_seg2\\_rf\\_fb'\n",
       "\\item 'l10\\_seg\\_rf\\_fb'\n",
       "\\item 'l10\\_agg\\_rf\\_fb'\n",
       "\\item 'l10\\_agg\\_rf\\_ALL\\_fb'\n",
       "\\item 'l10\\_win\\_01'\n",
       "\\end{enumerate*}\n"
      ],
      "text/markdown": [
       "1. 'l10_seg2_glm'\n",
       "2. 'l10_seg_glm'\n",
       "3. 'l10_agg_glm_ALL'\n",
       "4. 'l10_agg_glm'\n",
       "5. 'l10_seg2_rf'\n",
       "6. 'l10_seg_rf'\n",
       "7. 'l10_agg_rf'\n",
       "8. 'l10_agg_rf_ALL'\n",
       "9. 'l10_seg2_glm_fb'\n",
       "10. 'l10_seg_glm_fb'\n",
       "11. 'l10_agg_glm_fb'\n",
       "12. 'l10_agg_glm_ALL_fb'\n",
       "13. 'l10_seg2_rf_fb'\n",
       "14. 'l10_seg_rf_fb'\n",
       "15. 'l10_agg_rf_fb'\n",
       "16. 'l10_agg_rf_ALL_fb'\n",
       "17. 'l10_win_01'\n",
       "\n",
       "\n"
      ],
      "text/plain": [
       " [1] \"l10_seg2_glm\"       \"l10_seg_glm\"        \"l10_agg_glm_ALL\"   \n",
       " [4] \"l10_agg_glm\"        \"l10_seg2_rf\"        \"l10_seg_rf\"        \n",
       " [7] \"l10_agg_rf\"         \"l10_agg_rf_ALL\"     \"l10_seg2_glm_fb\"   \n",
       "[10] \"l10_seg_glm_fb\"     \"l10_agg_glm_fb\"     \"l10_agg_glm_ALL_fb\"\n",
       "[13] \"l10_seg2_rf_fb\"     \"l10_seg_rf_fb\"      \"l10_agg_rf_fb\"     \n",
       "[16] \"l10_agg_rf_ALL_fb\"  \"l10_win_01\"        "
      ]
     },
     "metadata": {},
     "output_type": "display_data"
    },
    {
     "data": {
      "text/html": [
       "<style>\n",
       ".list-inline {list-style: none; margin:0; padding: 0}\n",
       ".list-inline>li {display: inline-block}\n",
       ".list-inline>li:not(:last-child)::after {content: \"\\00b7\"; padding: 0 .5ex}\n",
       "</style>\n",
       "<ol class=list-inline><li>'auc_seg2_glm'</li><li>'auc_seg_glm'</li><li>'auc_agg_glm_ALL'</li><li>'auc_agg_glm'</li><li>'auc_seg2_rf'</li><li>'auc_seg_rf'</li><li>'auc_agg_rf_ALL'</li><li>'auc_agg_rf'</li><li>'auc_seg2_glm_fb'</li><li>'auc_seg_glm_fb'</li><li>'auc_agg_glm_fb'</li><li>'auc_agg_glm_ALL_fb'</li><li>'auc_seg2_rf_fb'</li><li>'auc_seg_rf_fb'</li><li>'auc_agg_rf_fb'</li><li>'auc_agg_rf_ALL_fb'</li></ol>\n"
      ],
      "text/latex": [
       "\\begin{enumerate*}\n",
       "\\item 'auc\\_seg2\\_glm'\n",
       "\\item 'auc\\_seg\\_glm'\n",
       "\\item 'auc\\_agg\\_glm\\_ALL'\n",
       "\\item 'auc\\_agg\\_glm'\n",
       "\\item 'auc\\_seg2\\_rf'\n",
       "\\item 'auc\\_seg\\_rf'\n",
       "\\item 'auc\\_agg\\_rf\\_ALL'\n",
       "\\item 'auc\\_agg\\_rf'\n",
       "\\item 'auc\\_seg2\\_glm\\_fb'\n",
       "\\item 'auc\\_seg\\_glm\\_fb'\n",
       "\\item 'auc\\_agg\\_glm\\_fb'\n",
       "\\item 'auc\\_agg\\_glm\\_ALL\\_fb'\n",
       "\\item 'auc\\_seg2\\_rf\\_fb'\n",
       "\\item 'auc\\_seg\\_rf\\_fb'\n",
       "\\item 'auc\\_agg\\_rf\\_fb'\n",
       "\\item 'auc\\_agg\\_rf\\_ALL\\_fb'\n",
       "\\end{enumerate*}\n"
      ],
      "text/markdown": [
       "1. 'auc_seg2_glm'\n",
       "2. 'auc_seg_glm'\n",
       "3. 'auc_agg_glm_ALL'\n",
       "4. 'auc_agg_glm'\n",
       "5. 'auc_seg2_rf'\n",
       "6. 'auc_seg_rf'\n",
       "7. 'auc_agg_rf_ALL'\n",
       "8. 'auc_agg_rf'\n",
       "9. 'auc_seg2_glm_fb'\n",
       "10. 'auc_seg_glm_fb'\n",
       "11. 'auc_agg_glm_fb'\n",
       "12. 'auc_agg_glm_ALL_fb'\n",
       "13. 'auc_seg2_rf_fb'\n",
       "14. 'auc_seg_rf_fb'\n",
       "15. 'auc_agg_rf_fb'\n",
       "16. 'auc_agg_rf_ALL_fb'\n",
       "\n",
       "\n"
      ],
      "text/plain": [
       " [1] \"auc_seg2_glm\"       \"auc_seg_glm\"        \"auc_agg_glm_ALL\"   \n",
       " [4] \"auc_agg_glm\"        \"auc_seg2_rf\"        \"auc_seg_rf\"        \n",
       " [7] \"auc_agg_rf_ALL\"     \"auc_agg_rf\"         \"auc_seg2_glm_fb\"   \n",
       "[10] \"auc_seg_glm_fb\"     \"auc_agg_glm_fb\"     \"auc_agg_glm_ALL_fb\"\n",
       "[13] \"auc_seg2_rf_fb\"     \"auc_seg_rf_fb\"      \"auc_agg_rf_fb\"     \n",
       "[16] \"auc_agg_rf_ALL_fb\" "
      ]
     },
     "metadata": {},
     "output_type": "display_data"
    },
    {
     "data": {
      "text/html": [
       "<style>\n",
       ".list-inline {list-style: none; margin:0; padding: 0}\n",
       ".list-inline>li {display: inline-block}\n",
       ".list-inline>li:not(:last-child)::after {content: \"\\00b7\"; padding: 0 .5ex}\n",
       "</style>\n",
       "<ol class=list-inline><li>'l10_seg2_glm'</li><li>'l10_seg_glm'</li><li>'l10_agg_glm_ALL'</li><li>'l10_agg_glm'</li><li>'l10_seg2_rf'</li><li>'l10_seg_rf'</li><li>'l10_agg_rf'</li><li>'l10_agg_rf_ALL'</li><li>'l10_seg2_glm_fb'</li><li>'l10_seg_glm_fb'</li><li>'l10_agg_glm_fb'</li><li>'l10_agg_glm_ALL_fb'</li><li>'l10_seg2_rf_fb'</li><li>'l10_seg_rf_fb'</li><li>'l10_agg_rf_fb'</li><li>'l10_agg_rf_ALL_fb'</li></ol>\n"
      ],
      "text/latex": [
       "\\begin{enumerate*}\n",
       "\\item 'l10\\_seg2\\_glm'\n",
       "\\item 'l10\\_seg\\_glm'\n",
       "\\item 'l10\\_agg\\_glm\\_ALL'\n",
       "\\item 'l10\\_agg\\_glm'\n",
       "\\item 'l10\\_seg2\\_rf'\n",
       "\\item 'l10\\_seg\\_rf'\n",
       "\\item 'l10\\_agg\\_rf'\n",
       "\\item 'l10\\_agg\\_rf\\_ALL'\n",
       "\\item 'l10\\_seg2\\_glm\\_fb'\n",
       "\\item 'l10\\_seg\\_glm\\_fb'\n",
       "\\item 'l10\\_agg\\_glm\\_fb'\n",
       "\\item 'l10\\_agg\\_glm\\_ALL\\_fb'\n",
       "\\item 'l10\\_seg2\\_rf\\_fb'\n",
       "\\item 'l10\\_seg\\_rf\\_fb'\n",
       "\\item 'l10\\_agg\\_rf\\_fb'\n",
       "\\item 'l10\\_agg\\_rf\\_ALL\\_fb'\n",
       "\\end{enumerate*}\n"
      ],
      "text/markdown": [
       "1. 'l10_seg2_glm'\n",
       "2. 'l10_seg_glm'\n",
       "3. 'l10_agg_glm_ALL'\n",
       "4. 'l10_agg_glm'\n",
       "5. 'l10_seg2_rf'\n",
       "6. 'l10_seg_rf'\n",
       "7. 'l10_agg_rf'\n",
       "8. 'l10_agg_rf_ALL'\n",
       "9. 'l10_seg2_glm_fb'\n",
       "10. 'l10_seg_glm_fb'\n",
       "11. 'l10_agg_glm_fb'\n",
       "12. 'l10_agg_glm_ALL_fb'\n",
       "13. 'l10_seg2_rf_fb'\n",
       "14. 'l10_seg_rf_fb'\n",
       "15. 'l10_agg_rf_fb'\n",
       "16. 'l10_agg_rf_ALL_fb'\n",
       "\n",
       "\n"
      ],
      "text/plain": [
       " [1] \"l10_seg2_glm\"       \"l10_seg_glm\"        \"l10_agg_glm_ALL\"   \n",
       " [4] \"l10_agg_glm\"        \"l10_seg2_rf\"        \"l10_seg_rf\"        \n",
       " [7] \"l10_agg_rf\"         \"l10_agg_rf_ALL\"     \"l10_seg2_glm_fb\"   \n",
       "[10] \"l10_seg_glm_fb\"     \"l10_agg_glm_fb\"     \"l10_agg_glm_ALL_fb\"\n",
       "[13] \"l10_seg2_rf_fb\"     \"l10_seg_rf_fb\"      \"l10_agg_rf_fb\"     \n",
       "[16] \"l10_agg_rf_ALL_fb\" "
      ]
     },
     "metadata": {},
     "output_type": "display_data"
    }
   ],
   "source": [
    "(auc_vars = grep('auc_', names(metametrics_df), value=TRUE))\n",
    "(l10_vars = grep('l10_', names(metametrics_df), value=TRUE))\n",
    "\n",
    "(auc_vars = auc_vars[-grep(\"win\", auc_vars)])\n",
    "(l10_vars = l10_vars[-grep(\"win\", l10_vars)])\n",
    "\n",
    "metametrics_df <- metametrics_df %>%\n",
    "    mutate (auc_win_02=sapply(apply(.[,c(auc_vars)], \n",
    "                          1, function(x) names(x)[which.max(x)]) , function(s) if (length(s) == 0) NA else paste(s, collapse = \" \")) ,\n",
    "            l10_win_02=sapply(apply(.[,c(l10_vars)], \n",
    "                          1, function(x) names(x)[which.max(x)]), function(s) if (length(s) == 0) NA else paste(s, collapse = \" \")) \n",
    "            ) "
   ]
  },
  {
   "cell_type": "code",
   "execution_count": 91,
   "metadata": {},
   "outputs": [
    {
     "data": {
      "text/html": [
       "<table>\n",
       "<caption>A data.frame: 9 × 2</caption>\n",
       "<thead>\n",
       "\t<tr><th scope=col>Var1</th><th scope=col>Freq</th></tr>\n",
       "\t<tr><th scope=col>&lt;fct&gt;</th><th scope=col>&lt;int&gt;</th></tr>\n",
       "</thead>\n",
       "<tbody>\n",
       "\t<tr><td>auc_seg2_glm   </td><td>487</td></tr>\n",
       "\t<tr><td>auc_seg_rf     </td><td>213</td></tr>\n",
       "\t<tr><td>auc_seg2_rf    </td><td>163</td></tr>\n",
       "\t<tr><td>auc_seg_glm    </td><td>157</td></tr>\n",
       "\t<tr><td>auc_agg_rf_ALL </td><td>145</td></tr>\n",
       "\t<tr><td>auc_agg_rf     </td><td>116</td></tr>\n",
       "\t<tr><td>auc_agg_glm_ALL</td><td>100</td></tr>\n",
       "\t<tr><td>auc_agg_glm    </td><td> 57</td></tr>\n",
       "\t<tr><td>auc_seg2_glm_fb</td><td> 44</td></tr>\n",
       "</tbody>\n",
       "</table>\n"
      ],
      "text/latex": [
       "A data.frame: 9 × 2\n",
       "\\begin{tabular}{ll}\n",
       " Var1 & Freq\\\\\n",
       " <fct> & <int>\\\\\n",
       "\\hline\n",
       "\t auc\\_seg2\\_glm    & 487\\\\\n",
       "\t auc\\_seg\\_rf      & 213\\\\\n",
       "\t auc\\_seg2\\_rf     & 163\\\\\n",
       "\t auc\\_seg\\_glm     & 157\\\\\n",
       "\t auc\\_agg\\_rf\\_ALL  & 145\\\\\n",
       "\t auc\\_agg\\_rf      & 116\\\\\n",
       "\t auc\\_agg\\_glm\\_ALL & 100\\\\\n",
       "\t auc\\_agg\\_glm     &  57\\\\\n",
       "\t auc\\_seg2\\_glm\\_fb &  44\\\\\n",
       "\\end{tabular}\n"
      ],
      "text/markdown": [
       "\n",
       "A data.frame: 9 × 2\n",
       "\n",
       "| Var1 &lt;fct&gt; | Freq &lt;int&gt; |\n",
       "|---|---|\n",
       "| auc_seg2_glm    | 487 |\n",
       "| auc_seg_rf      | 213 |\n",
       "| auc_seg2_rf     | 163 |\n",
       "| auc_seg_glm     | 157 |\n",
       "| auc_agg_rf_ALL  | 145 |\n",
       "| auc_agg_rf      | 116 |\n",
       "| auc_agg_glm_ALL | 100 |\n",
       "| auc_agg_glm     |  57 |\n",
       "| auc_seg2_glm_fb |  44 |\n",
       "\n"
      ],
      "text/plain": [
       "  Var1            Freq\n",
       "1 auc_seg2_glm    487 \n",
       "2 auc_seg_rf      213 \n",
       "3 auc_seg2_rf     163 \n",
       "4 auc_seg_glm     157 \n",
       "5 auc_agg_rf_ALL  145 \n",
       "6 auc_agg_rf      116 \n",
       "7 auc_agg_glm_ALL 100 \n",
       "8 auc_agg_glm      57 \n",
       "9 auc_seg2_glm_fb  44 "
      ]
     },
     "metadata": {},
     "output_type": "display_data"
    },
    {
     "data": {
      "text/html": [
       "<table>\n",
       "<caption>A data.frame: 9 × 2</caption>\n",
       "<thead>\n",
       "\t<tr><th scope=col>Var1</th><th scope=col>Freq</th></tr>\n",
       "\t<tr><th scope=col>&lt;fct&gt;</th><th scope=col>&lt;int&gt;</th></tr>\n",
       "</thead>\n",
       "<tbody>\n",
       "\t<tr><td>l10_seg2_glm   </td><td>731</td></tr>\n",
       "\t<tr><td>l10_seg_glm    </td><td>178</td></tr>\n",
       "\t<tr><td>l10_seg2_rf    </td><td>169</td></tr>\n",
       "\t<tr><td>l10_seg_rf     </td><td>132</td></tr>\n",
       "\t<tr><td>l10_agg_glm_ALL</td><td> 81</td></tr>\n",
       "\t<tr><td>l10_agg_rf     </td><td> 81</td></tr>\n",
       "\t<tr><td>l10_agg_rf_ALL </td><td> 53</td></tr>\n",
       "\t<tr><td>l10_agg_glm    </td><td> 36</td></tr>\n",
       "\t<tr><td>l10_seg2_glm_fb</td><td> 21</td></tr>\n",
       "</tbody>\n",
       "</table>\n"
      ],
      "text/latex": [
       "A data.frame: 9 × 2\n",
       "\\begin{tabular}{ll}\n",
       " Var1 & Freq\\\\\n",
       " <fct> & <int>\\\\\n",
       "\\hline\n",
       "\t l10\\_seg2\\_glm    & 731\\\\\n",
       "\t l10\\_seg\\_glm     & 178\\\\\n",
       "\t l10\\_seg2\\_rf     & 169\\\\\n",
       "\t l10\\_seg\\_rf      & 132\\\\\n",
       "\t l10\\_agg\\_glm\\_ALL &  81\\\\\n",
       "\t l10\\_agg\\_rf      &  81\\\\\n",
       "\t l10\\_agg\\_rf\\_ALL  &  53\\\\\n",
       "\t l10\\_agg\\_glm     &  36\\\\\n",
       "\t l10\\_seg2\\_glm\\_fb &  21\\\\\n",
       "\\end{tabular}\n"
      ],
      "text/markdown": [
       "\n",
       "A data.frame: 9 × 2\n",
       "\n",
       "| Var1 &lt;fct&gt; | Freq &lt;int&gt; |\n",
       "|---|---|\n",
       "| l10_seg2_glm    | 731 |\n",
       "| l10_seg_glm     | 178 |\n",
       "| l10_seg2_rf     | 169 |\n",
       "| l10_seg_rf      | 132 |\n",
       "| l10_agg_glm_ALL |  81 |\n",
       "| l10_agg_rf      |  81 |\n",
       "| l10_agg_rf_ALL  |  53 |\n",
       "| l10_agg_glm     |  36 |\n",
       "| l10_seg2_glm_fb |  21 |\n",
       "\n"
      ],
      "text/plain": [
       "  Var1            Freq\n",
       "1 l10_seg2_glm    731 \n",
       "2 l10_seg_glm     178 \n",
       "3 l10_seg2_rf     169 \n",
       "4 l10_seg_rf      132 \n",
       "5 l10_agg_glm_ALL  81 \n",
       "6 l10_agg_rf       81 \n",
       "7 l10_agg_rf_ALL   53 \n",
       "8 l10_agg_glm      36 \n",
       "9 l10_seg2_glm_fb  21 "
      ]
     },
     "metadata": {},
     "output_type": "display_data"
    }
   ],
   "source": [
    "as.data.frame(sort(table(metametrics_df$auc_win_02), decreasing=TRUE))\n",
    "as.data.frame(sort(table(metametrics_df$l10_win_02), decreasing=TRUE))"
   ]
  },
  {
   "cell_type": "markdown",
   "metadata": {},
   "source": [
    "## seg2_glm_fb vs seg2_glm"
   ]
  },
  {
   "cell_type": "code",
   "execution_count": 92,
   "metadata": {},
   "outputs": [
    {
     "data": {
      "text/html": [
       "<style>\n",
       ".list-inline {list-style: none; margin:0; padding: 0}\n",
       ".list-inline>li {display: inline-block}\n",
       ".list-inline>li:not(:last-child)::after {content: \"\\00b7\"; padding: 0 .5ex}\n",
       "</style>\n",
       "<ol class=list-inline><li>'auc_seg2_glm'</li><li>'auc_seg2_glm_fb'</li></ol>\n"
      ],
      "text/latex": [
       "\\begin{enumerate*}\n",
       "\\item 'auc\\_seg2\\_glm'\n",
       "\\item 'auc\\_seg2\\_glm\\_fb'\n",
       "\\end{enumerate*}\n"
      ],
      "text/markdown": [
       "1. 'auc_seg2_glm'\n",
       "2. 'auc_seg2_glm_fb'\n",
       "\n",
       "\n"
      ],
      "text/plain": [
       "[1] \"auc_seg2_glm\"    \"auc_seg2_glm_fb\""
      ]
     },
     "metadata": {},
     "output_type": "display_data"
    },
    {
     "data": {
      "text/html": [
       "<style>\n",
       ".list-inline {list-style: none; margin:0; padding: 0}\n",
       ".list-inline>li {display: inline-block}\n",
       ".list-inline>li:not(:last-child)::after {content: \"\\00b7\"; padding: 0 .5ex}\n",
       "</style>\n",
       "<ol class=list-inline><li>'l10_seg2_glm'</li><li>'l10_seg2_glm_fb'</li></ol>\n"
      ],
      "text/latex": [
       "\\begin{enumerate*}\n",
       "\\item 'l10\\_seg2\\_glm'\n",
       "\\item 'l10\\_seg2\\_glm\\_fb'\n",
       "\\end{enumerate*}\n"
      ],
      "text/markdown": [
       "1. 'l10_seg2_glm'\n",
       "2. 'l10_seg2_glm_fb'\n",
       "\n",
       "\n"
      ],
      "text/plain": [
       "[1] \"l10_seg2_glm\"    \"l10_seg2_glm_fb\""
      ]
     },
     "metadata": {},
     "output_type": "display_data"
    }
   ],
   "source": [
    "(auc_vars = grep('auc_seg2_glm', names(metametrics_df), value=TRUE))\n",
    "(l10_vars = grep('l10_seg2_glm', names(metametrics_df), value=TRUE))\n",
    "\n",
    "metametrics_df <- metametrics_df %>%\n",
    "    mutate (auc_win_03=sapply(apply(.[,c(auc_vars)], \n",
    "                          1, function(x) names(x)[which.max(x)]) , function(s) if (length(s) == 0) NA else paste(s, collapse = \" \")) ,\n",
    "            l10_win_03=sapply(apply(.[,c(l10_vars)], \n",
    "                          1, function(x) names(x)[which.max(x)]), function(s) if (length(s) == 0) NA else paste(s, collapse = \" \")) \n",
    "            ) \n",
    "                              \n"
   ]
  },
  {
   "cell_type": "code",
   "execution_count": 93,
   "metadata": {},
   "outputs": [
    {
     "data": {
      "text/plain": [
       "\n",
       "   auc_seg2_glm auc_seg2_glm_fb \n",
       "           1221             261 "
      ]
     },
     "metadata": {},
     "output_type": "display_data"
    },
    {
     "data": {
      "text/plain": [
       "\n",
       "   l10_seg2_glm l10_seg2_glm_fb \n",
       "           1306             176 "
      ]
     },
     "metadata": {},
     "output_type": "display_data"
    }
   ],
   "source": [
    "table(metametrics_df$auc_win_03)\n",
    "table(metametrics_df$l10_win_03)"
   ]
  },
  {
   "cell_type": "code",
   "execution_count": 94,
   "metadata": {},
   "outputs": [
    {
     "data": {
      "text/html": [
       "<style>\n",
       ".list-inline {list-style: none; margin:0; padding: 0}\n",
       ".list-inline>li {display: inline-block}\n",
       ".list-inline>li:not(:last-child)::after {content: \"\\00b7\"; padding: 0 .5ex}\n",
       "</style>\n",
       "<ol class=list-inline><li>1758</li><li>84</li></ol>\n"
      ],
      "text/latex": [
       "\\begin{enumerate*}\n",
       "\\item 1758\n",
       "\\item 84\n",
       "\\end{enumerate*}\n"
      ],
      "text/markdown": [
       "1. 1758\n",
       "2. 84\n",
       "\n",
       "\n"
      ],
      "text/plain": [
       "[1] 1758   84"
      ]
     },
     "metadata": {},
     "output_type": "display_data"
    }
   ],
   "source": [
    "dim(metametrics_df)"
   ]
  },
  {
   "cell_type": "code",
   "execution_count": 95,
   "metadata": {},
   "outputs": [
    {
     "name": "stdout",
     "output_type": "stream",
     "text": [
      "Excluding 1706 tld-re's (80.89%), due to volume < 500 \n",
      "Excluding 157 tld-re's (7.44%) associated with tld's 'pw' and 'in.net' \n"
     ]
    }
   ],
   "source": [
    "# percentage of of tld-re's replaced with FB table use\n",
    "tld_registrar_excl_list = tld_registrar_excl_df(train_df = expiry_df_train)"
   ]
  },
  {
   "cell_type": "code",
   "execution_count": 96,
   "metadata": {},
   "outputs": [
    {
     "data": {
      "text/html": [
       "0.741183162684869"
      ],
      "text/latex": [
       "0.741183162684869"
      ],
      "text/markdown": [
       "0.741183162684869"
      ],
      "text/plain": [
       "[1] 0.7411832"
      ]
     },
     "metadata": {},
     "output_type": "display_data"
    }
   ],
   "source": [
    "metametrics_df %>% filter(tld_registrar_index %in% tld_registrar_excl_list) %>% nrow() / metametrics_df %>% nrow()"
   ]
  },
  {
   "cell_type": "markdown",
   "metadata": {},
   "source": [
    "## 3-class: agg_rf vs. seg2_glm vs. seg2_glm fallback"
   ]
  },
  {
   "cell_type": "code",
   "execution_count": 164,
   "metadata": {},
   "outputs": [
    {
     "data": {
      "text/html": [
       "<style>\n",
       ".list-inline {list-style: none; margin:0; padding: 0}\n",
       ".list-inline>li {display: inline-block}\n",
       ".list-inline>li:not(:last-child)::after {content: \"\\00b7\"; padding: 0 .5ex}\n",
       "</style>\n",
       "<ol class=list-inline><li>'auc_seg2_glm'</li><li>'auc_agg_rf_ALL'</li><li>'auc_seg2_glm_fb'</li></ol>\n"
      ],
      "text/latex": [
       "\\begin{enumerate*}\n",
       "\\item 'auc\\_seg2\\_glm'\n",
       "\\item 'auc\\_agg\\_rf\\_ALL'\n",
       "\\item 'auc\\_seg2\\_glm\\_fb'\n",
       "\\end{enumerate*}\n"
      ],
      "text/markdown": [
       "1. 'auc_seg2_glm'\n",
       "2. 'auc_agg_rf_ALL'\n",
       "3. 'auc_seg2_glm_fb'\n",
       "\n",
       "\n"
      ],
      "text/plain": [
       "[1] \"auc_seg2_glm\"    \"auc_agg_rf_ALL\"  \"auc_seg2_glm_fb\""
      ]
     },
     "metadata": {},
     "output_type": "display_data"
    },
    {
     "data": {
      "text/html": [
       "<style>\n",
       ".list-inline {list-style: none; margin:0; padding: 0}\n",
       ".list-inline>li {display: inline-block}\n",
       ".list-inline>li:not(:last-child)::after {content: \"\\00b7\"; padding: 0 .5ex}\n",
       "</style>\n",
       "<ol class=list-inline><li>'l10_seg2_glm'</li><li>'l10_agg_rf_ALL'</li><li>'l10_seg2_glm_fb'</li></ol>\n"
      ],
      "text/latex": [
       "\\begin{enumerate*}\n",
       "\\item 'l10\\_seg2\\_glm'\n",
       "\\item 'l10\\_agg\\_rf\\_ALL'\n",
       "\\item 'l10\\_seg2\\_glm\\_fb'\n",
       "\\end{enumerate*}\n"
      ],
      "text/markdown": [
       "1. 'l10_seg2_glm'\n",
       "2. 'l10_agg_rf_ALL'\n",
       "3. 'l10_seg2_glm_fb'\n",
       "\n",
       "\n"
      ],
      "text/plain": [
       "[1] \"l10_seg2_glm\"    \"l10_agg_rf_ALL\"  \"l10_seg2_glm_fb\""
      ]
     },
     "metadata": {},
     "output_type": "display_data"
    }
   ],
   "source": [
    "(auc_vars = c('auc_seg2_glm','auc_agg_rf_ALL','auc_seg2_glm_fb'))\n",
    "(l10_vars = c('l10_seg2_glm','l10_agg_rf_ALL','l10_seg2_glm_fb'))\n",
    "\n",
    "metametrics_df <- metametrics_df %>%\n",
    "    mutate (auc_win_04=sapply(apply(.[,c(auc_vars)], \n",
    "                          1, function(x) names(x)[which.max(x)]) , function(s) if (length(s) == 0) NA else paste(s, collapse = \" \")) ,\n",
    "            l10_win_04=sapply(apply(.[,c(l10_vars)], \n",
    "                          1, function(x) names(x)[which.max(x)]), function(s) if (length(s) == 0) NA else paste(s, collapse = \" \")) \n",
    "            ) "
   ]
  },
  {
   "cell_type": "code",
   "execution_count": 165,
   "metadata": {},
   "outputs": [
    {
     "data": {
      "text/html": [
       "<table>\n",
       "<caption>A data.frame: 3 × 2</caption>\n",
       "<thead>\n",
       "\t<tr><th scope=col>Var1</th><th scope=col>Freq</th></tr>\n",
       "\t<tr><th scope=col>&lt;fct&gt;</th><th scope=col>&lt;int&gt;</th></tr>\n",
       "</thead>\n",
       "<tbody>\n",
       "\t<tr><td>auc_seg2_glm   </td><td>715</td></tr>\n",
       "\t<tr><td>auc_agg_rf_ALL </td><td>609</td></tr>\n",
       "\t<tr><td>auc_seg2_glm_fb</td><td>158</td></tr>\n",
       "</tbody>\n",
       "</table>\n"
      ],
      "text/latex": [
       "A data.frame: 3 × 2\n",
       "\\begin{tabular}{ll}\n",
       " Var1 & Freq\\\\\n",
       " <fct> & <int>\\\\\n",
       "\\hline\n",
       "\t auc\\_seg2\\_glm    & 715\\\\\n",
       "\t auc\\_agg\\_rf\\_ALL  & 609\\\\\n",
       "\t auc\\_seg2\\_glm\\_fb & 158\\\\\n",
       "\\end{tabular}\n"
      ],
      "text/markdown": [
       "\n",
       "A data.frame: 3 × 2\n",
       "\n",
       "| Var1 &lt;fct&gt; | Freq &lt;int&gt; |\n",
       "|---|---|\n",
       "| auc_seg2_glm    | 715 |\n",
       "| auc_agg_rf_ALL  | 609 |\n",
       "| auc_seg2_glm_fb | 158 |\n",
       "\n"
      ],
      "text/plain": [
       "  Var1            Freq\n",
       "1 auc_seg2_glm    715 \n",
       "2 auc_agg_rf_ALL  609 \n",
       "3 auc_seg2_glm_fb 158 "
      ]
     },
     "metadata": {},
     "output_type": "display_data"
    },
    {
     "data": {
      "text/html": [
       "<table>\n",
       "<caption>A data.frame: 3 × 2</caption>\n",
       "<thead>\n",
       "\t<tr><th scope=col>Var1</th><th scope=col>Freq</th></tr>\n",
       "\t<tr><th scope=col>&lt;fct&gt;</th><th scope=col>&lt;int&gt;</th></tr>\n",
       "</thead>\n",
       "<tbody>\n",
       "\t<tr><td>l10_seg2_glm   </td><td>939</td></tr>\n",
       "\t<tr><td>l10_agg_rf_ALL </td><td>457</td></tr>\n",
       "\t<tr><td>l10_seg2_glm_fb</td><td> 86</td></tr>\n",
       "</tbody>\n",
       "</table>\n"
      ],
      "text/latex": [
       "A data.frame: 3 × 2\n",
       "\\begin{tabular}{ll}\n",
       " Var1 & Freq\\\\\n",
       " <fct> & <int>\\\\\n",
       "\\hline\n",
       "\t l10\\_seg2\\_glm    & 939\\\\\n",
       "\t l10\\_agg\\_rf\\_ALL  & 457\\\\\n",
       "\t l10\\_seg2\\_glm\\_fb &  86\\\\\n",
       "\\end{tabular}\n"
      ],
      "text/markdown": [
       "\n",
       "A data.frame: 3 × 2\n",
       "\n",
       "| Var1 &lt;fct&gt; | Freq &lt;int&gt; |\n",
       "|---|---|\n",
       "| l10_seg2_glm    | 939 |\n",
       "| l10_agg_rf_ALL  | 457 |\n",
       "| l10_seg2_glm_fb |  86 |\n",
       "\n"
      ],
      "text/plain": [
       "  Var1            Freq\n",
       "1 l10_seg2_glm    939 \n",
       "2 l10_agg_rf_ALL  457 \n",
       "3 l10_seg2_glm_fb  86 "
      ]
     },
     "metadata": {},
     "output_type": "display_data"
    }
   ],
   "source": [
    "as.data.frame(sort(table(metametrics_df$auc_win_04), decreasing=TRUE))\n",
    "as.data.frame(sort(table(metametrics_df$l10_win_04), decreasing=TRUE))"
   ]
  },
  {
   "cell_type": "markdown",
   "metadata": {},
   "source": [
    "# Preprocess data - missing value impute & train/test split"
   ]
  },
  {
   "cell_type": "code",
   "execution_count": 168,
   "metadata": {},
   "outputs": [],
   "source": [
    "# install.packages(\"missRanger\")\n",
    "library(missRanger)"
   ]
  },
  {
   "cell_type": "code",
   "execution_count": 169,
   "metadata": {},
   "outputs": [
    {
     "name": "stdout",
     "output_type": "stream",
     "text": [
      "\n",
      "Missing value imputation by random forests\n",
      "\n",
      "  Variables to impute:\t\tgeo_maj, daydom_std, daydom_skew, daydom_kurt, sldlen_std, sldlen_skew, sldlen_kurt, gibbs_std, gibbs_skew, gibbs_kurt, pdcnt_std, pdcnt_skew, pdcnt_kurt, regarpt_std, regarpt_skew, regarpt_kurt, l10_seg2_glm, l10_seg_glm, l10_agg_glm_ALL, l10_agg_glm, l10_seg2_rf, l10_seg_rf, l10_agg_rf, l10_agg_rf_ALL, auc_seg2_glm, auc_seg_glm, auc_agg_glm_ALL, auc_agg_glm, auc_seg2_rf, auc_seg_rf, auc_agg_rf_ALL, auc_agg_rf, l10_seg2_glm_fb, l10_seg_glm_fb, l10_agg_glm_fb, l10_agg_glm_ALL_fb, l10_seg2_rf_fb, l10_seg_rf_fb, l10_agg_rf_fb, l10_agg_rf_ALL_fb, auc_seg2_glm_fb, auc_seg_glm_fb, auc_agg_glm_fb, auc_agg_glm_ALL_fb, auc_seg2_rf_fb, auc_seg_rf_fb, auc_agg_rf_fb, auc_agg_rf_ALL_fb, auc_win_01, l10_win_01, auc_win_02, l10_win_02, auc_win_03, l10_win_03, auc_win_04, l10_win_04\n",
      "  Variables used to impute:\ttld_registrar_index, geo_maj, geo_cnt, n, ren_prp, tld_cnt, tld_rat, daydom_min, daydom_max, daydom_mean, daydom_rng, daydom_std, daydom_skew, daydom_kurt, sldlen_min, sldlen_max, sldlen_mean, sldlen_rng, sldlen_std, sldlen_skew, sldlen_kurt, gibbs_min, gibbs_max, gibbs_mean, gibbs_rng, gibbs_std, gibbs_skew, gibbs_kurt, pdcnt_min, pdcnt_max, pdcnt_mean, pdcnt_rng, pdcnt_std, pdcnt_skew, pdcnt_kurt, regarpt_min, regarpt_max, regarpt_mean, regarpt_rng, regarpt_std, regarpt_skew, regarpt_kurt, country_maj, region_maj, country_cnt, region_cnt, l10_seg2_glm, l10_seg_glm, l10_agg_glm_ALL, l10_agg_glm, l10_seg2_rf, l10_seg_rf, l10_agg_rf, l10_agg_rf_ALL, auc_seg2_glm, auc_seg_glm, auc_agg_glm_ALL, auc_agg_glm, auc_seg2_rf, auc_seg_rf, auc_agg_rf_ALL, auc_agg_rf, l10_seg2_glm_fb, l10_seg_glm_fb, l10_agg_glm_fb, l10_agg_glm_ALL_fb, l10_seg2_rf_fb, l10_seg_rf_fb, l10_agg_rf_fb, l10_agg_rf_ALL_fb, auc_seg2_glm_fb, auc_seg_glm_fb, auc_agg_glm_fb, auc_agg_glm_ALL_fb, auc_seg2_rf_fb, auc_seg_rf_fb, auc_agg_rf_fb, auc_agg_rf_ALL_fb, auc_win_01, l10_win_01, auc_win_02, l10_win_02, auc_win_03, l10_win_03, auc_win_04, l10_win_04\n",
      "iter 1:\t........................................................\n",
      "iter 2:\t........................................................\n",
      "iter 3:\t........................................................\n",
      "iter 4:\t........................................................\n"
     ]
    }
   ],
   "source": [
    "metametrics_imp_df <- missRanger(metametrics_df, num.trees = 100)"
   ]
  },
  {
   "cell_type": "code",
   "execution_count": 170,
   "metadata": {},
   "outputs": [],
   "source": [
    "set.seed(123) \n",
    "smp_siz = floor(0.8*nrow(metametrics_imp_df))\n",
    "train_ind = sample(seq_len(nrow(metametrics_imp_df)),size = smp_siz) \n",
    "train = metametrics_imp_df[train_ind,] \n",
    "test = metametrics_imp_df[-train_ind,]  "
   ]
  },
  {
   "cell_type": "code",
   "execution_count": 171,
   "metadata": {},
   "outputs": [
    {
     "data": {
      "text/html": [
       "<style>\n",
       ".list-inline {list-style: none; margin:0; padding: 0}\n",
       ".list-inline>li {display: inline-block}\n",
       ".list-inline>li:not(:last-child)::after {content: \"\\00b7\"; padding: 0 .5ex}\n",
       "</style>\n",
       "<ol class=list-inline><li>1406</li><li>86</li></ol>\n"
      ],
      "text/latex": [
       "\\begin{enumerate*}\n",
       "\\item 1406\n",
       "\\item 86\n",
       "\\end{enumerate*}\n"
      ],
      "text/markdown": [
       "1. 1406\n",
       "2. 86\n",
       "\n",
       "\n"
      ],
      "text/plain": [
       "[1] 1406   86"
      ]
     },
     "metadata": {},
     "output_type": "display_data"
    },
    {
     "data": {
      "text/html": [
       "<style>\n",
       ".list-inline {list-style: none; margin:0; padding: 0}\n",
       ".list-inline>li {display: inline-block}\n",
       ".list-inline>li:not(:last-child)::after {content: \"\\00b7\"; padding: 0 .5ex}\n",
       "</style>\n",
       "<ol class=list-inline><li>352</li><li>86</li></ol>\n"
      ],
      "text/latex": [
       "\\begin{enumerate*}\n",
       "\\item 352\n",
       "\\item 86\n",
       "\\end{enumerate*}\n"
      ],
      "text/markdown": [
       "1. 352\n",
       "2. 86\n",
       "\n",
       "\n"
      ],
      "text/plain": [
       "[1] 352  86"
      ]
     },
     "metadata": {},
     "output_type": "display_data"
    }
   ],
   "source": [
    "dim(train)\n",
    "dim(test)"
   ]
  },
  {
   "cell_type": "markdown",
   "metadata": {},
   "source": [
    "# RF multiclass win_02"
   ]
  },
  {
   "cell_type": "code",
   "execution_count": 101,
   "metadata": {},
   "outputs": [
    {
     "data": {
      "text/html": [
       "<table>\n",
       "<caption>A data.frame: 6 × 47</caption>\n",
       "<thead>\n",
       "\t<tr><th></th><th scope=col>auc_win_02</th><th scope=col>l10_win_02</th><th scope=col>geo_maj</th><th scope=col>geo_cnt</th><th scope=col>n</th><th scope=col>ren_prp</th><th scope=col>tld_cnt</th><th scope=col>tld_rat</th><th scope=col>daydom_min</th><th scope=col>daydom_max</th><th scope=col>daydom_mean</th><th scope=col>daydom_rng</th><th scope=col>daydom_std</th><th scope=col>daydom_skew</th><th scope=col>daydom_kurt</th><th scope=col>sldlen_min</th><th scope=col>sldlen_max</th><th scope=col>sldlen_mean</th><th scope=col>sldlen_rng</th><th scope=col>sldlen_std</th><th scope=col>sldlen_skew</th><th scope=col>sldlen_kurt</th><th scope=col>gibbs_min</th><th scope=col>gibbs_max</th><th scope=col>gibbs_mean</th><th scope=col>gibbs_rng</th><th scope=col>gibbs_std</th><th scope=col>gibbs_skew</th><th scope=col>gibbs_kurt</th><th scope=col>pdcnt_min</th><th scope=col>pdcnt_max</th><th scope=col>pdcnt_mean</th><th scope=col>pdcnt_rng</th><th scope=col>pdcnt_std</th><th scope=col>pdcnt_skew</th><th scope=col>pdcnt_kurt</th><th scope=col>regarpt_min</th><th scope=col>regarpt_max</th><th scope=col>regarpt_mean</th><th scope=col>regarpt_rng</th><th scope=col>regarpt_std</th><th scope=col>regarpt_skew</th><th scope=col>regarpt_kurt</th><th scope=col>country_maj</th><th scope=col>region_maj</th><th scope=col>country_cnt</th><th scope=col>region_cnt</th></tr>\n",
       "\t<tr><th></th><th scope=col>&lt;chr&gt;</th><th scope=col>&lt;chr&gt;</th><th scope=col>&lt;fct&gt;</th><th scope=col>&lt;int&gt;</th><th scope=col>&lt;int&gt;</th><th scope=col>&lt;dbl&gt;</th><th scope=col>&lt;int&gt;</th><th scope=col>&lt;dbl&gt;</th><th scope=col>&lt;int&gt;</th><th scope=col>&lt;int&gt;</th><th scope=col>&lt;dbl&gt;</th><th scope=col>&lt;int&gt;</th><th scope=col>&lt;dbl&gt;</th><th scope=col>&lt;dbl&gt;</th><th scope=col>&lt;dbl&gt;</th><th scope=col>&lt;int&gt;</th><th scope=col>&lt;int&gt;</th><th scope=col>&lt;dbl&gt;</th><th scope=col>&lt;int&gt;</th><th scope=col>&lt;dbl&gt;</th><th scope=col>&lt;dbl&gt;</th><th scope=col>&lt;dbl&gt;</th><th scope=col>&lt;dbl&gt;</th><th scope=col>&lt;dbl&gt;</th><th scope=col>&lt;dbl&gt;</th><th scope=col>&lt;dbl&gt;</th><th scope=col>&lt;dbl&gt;</th><th scope=col>&lt;dbl&gt;</th><th scope=col>&lt;dbl&gt;</th><th scope=col>&lt;int&gt;</th><th scope=col>&lt;int&gt;</th><th scope=col>&lt;dbl&gt;</th><th scope=col>&lt;int&gt;</th><th scope=col>&lt;dbl&gt;</th><th scope=col>&lt;dbl&gt;</th><th scope=col>&lt;dbl&gt;</th><th scope=col>&lt;dbl&gt;</th><th scope=col>&lt;dbl&gt;</th><th scope=col>&lt;dbl&gt;</th><th scope=col>&lt;dbl&gt;</th><th scope=col>&lt;dbl&gt;</th><th scope=col>&lt;dbl&gt;</th><th scope=col>&lt;dbl&gt;</th><th scope=col>&lt;fct&gt;</th><th scope=col>&lt;fct&gt;</th><th scope=col>&lt;int&gt;</th><th scope=col>&lt;int&gt;</th></tr>\n",
       "</thead>\n",
       "<tbody>\n",
       "\t<tr><th scope=row>1</th><td>auc_seg2_glm_fb</td><td>l10_seg_rf     </td><td>EU   </td><td>1</td><td>   11</td><td>0.54545455</td><td>1</td><td>9.090909e-02</td><td> 1</td><td>   5</td><td>   2.181818</td><td>   4</td><td>   1.537412</td><td> 0.9266651</td><td>-0.7811140</td><td>4</td><td>14</td><td>7.636364</td><td>10</td><td>2.907670</td><td>0.7720046</td><td>-0.3922768</td><td>1.71</td><td>  9.01</td><td>4.655455</td><td>  7.30</td><td> 2.602016</td><td> 6.453797e-01</td><td>-1.217221</td><td>1</td><td>  3</td><td> 1.363636</td><td>  2</td><td> 0.6741999</td><td>1.338593</td><td> 0.3606612</td><td>15.0000</td><td>15.0</td><td>15.0000000</td><td> 0.0000</td><td>0.0000000</td><td>      NA</td><td>        NA</td><td>Japan        </td><td>Non China</td><td>1</td><td>1</td></tr>\n",
       "\t<tr><th scope=row>2</th><td>NA             </td><td>NA             </td><td>EU   </td><td>1</td><td>    2</td><td>0.00000000</td><td>1</td><td>5.000000e-01</td><td> 1</td><td>   1</td><td>   1.000000</td><td>   0</td><td>   0.000000</td><td>        NA</td><td>        NA</td><td>5</td><td> 8</td><td>6.500000</td><td> 3</td><td>2.121320</td><td>0.0000000</td><td>-2.7500000</td><td>3.28</td><td>  8.62</td><td>5.950000</td><td>  5.34</td><td> 3.775950</td><td> 9.898575e-17</td><td>-2.750000</td><td>1</td><td>  1</td><td> 1.000000</td><td>  0</td><td> 0.0000000</td><td>      NA</td><td>        NA</td><td>15.0000</td><td>15.0</td><td>15.0000000</td><td> 0.0000</td><td>0.0000000</td><td>      NA</td><td>        NA</td><td>United States</td><td>Non China</td><td>1</td><td>1</td></tr>\n",
       "\t<tr><th scope=row>3</th><td>auc_agg_glm_ALL</td><td>l10_agg_glm_ALL</td><td>EU   </td><td>1</td><td>    8</td><td>0.50000000</td><td>1</td><td>1.250000e-01</td><td> 1</td><td>   1</td><td>   1.000000</td><td>   0</td><td>   0.000000</td><td>        NA</td><td>        NA</td><td>4</td><td>15</td><td>8.875000</td><td>11</td><td>3.522884</td><td>0.4848693</td><td>-1.1434523</td><td>2.00</td><td>  6.09</td><td>4.396250</td><td>  4.09</td><td> 1.360167</td><td>-3.531195e-01</td><td>-1.301177</td><td>1</td><td>  1</td><td> 1.000000</td><td>  0</td><td> 0.0000000</td><td>      NA</td><td>        NA</td><td> 3.0000</td><td> 5.0</td><td> 4.0000000</td><td> 2.0000</td><td>1.0690450</td><td>0.000000</td><td> -2.234375</td><td>China        </td><td>China    </td><td>1</td><td>1</td></tr>\n",
       "\t<tr><th scope=row>4</th><td>auc_seg2_glm_fb</td><td>l10_seg_rf     </td><td>EU   </td><td>1</td><td>   47</td><td>0.06382979</td><td>1</td><td>2.127660e-02</td><td> 1</td><td> 119</td><td>  82.872340</td><td> 118</td><td>  46.011632</td><td>-0.8738906</td><td>-0.9645903</td><td>4</td><td>61</td><td>9.446809</td><td>57</td><td>8.334863</td><td>5.0179710</td><td>28.2025571</td><td>0.28</td><td> 17.92</td><td>4.695745</td><td> 17.64</td><td> 3.112366</td><td> 1.526987e+00</td><td> 4.826982</td><td>1</td><td>  3</td><td> 1.191489</td><td>  2</td><td> 0.4490714</td><td>2.194541</td><td> 4.1889225</td><td> 0.0001</td><td>15.0</td><td> 0.8511511</td><td>14.9999</td><td>2.6207801</td><td>3.740087</td><td> 15.752244</td><td>United States</td><td>Non China</td><td>1</td><td>1</td></tr>\n",
       "\t<tr><th scope=row>5</th><td>auc_seg2_rf    </td><td>l10_seg2_rf    </td><td>EU   </td><td>1</td><td>   25</td><td>0.20000000</td><td>1</td><td>4.000000e-02</td><td> 1</td><td>  14</td><td>   5.040000</td><td>  13</td><td>   5.020624</td><td> 1.0166170</td><td>-0.7554981</td><td>4</td><td>19</td><td>7.080000</td><td>15</td><td>3.451087</td><td>1.9087776</td><td> 3.6548313</td><td>0.59</td><td>100.00</td><td>9.743600</td><td> 99.41</td><td>19.035942</td><td> 4.242864e+00</td><td>17.222688</td><td>1</td><td> 10</td><td> 1.520000</td><td>  9</td><td> 1.8055470</td><td>4.127909</td><td>16.4692321</td><td> 0.5000</td><td> 0.5</td><td> 0.5000000</td><td> 0.0000</td><td>0.0000000</td><td>      NA</td><td>        NA</td><td>China        </td><td>China    </td><td>1</td><td>1</td></tr>\n",
       "\t<tr><th scope=row>6</th><td>auc_agg_rf_ALL </td><td>l10_agg_rf_ALL </td><td>China</td><td>1</td><td>35046</td><td>0.02014495</td><td>1</td><td>2.853393e-05</td><td>19</td><td>7163</td><td>1299.015380</td><td>7144</td><td>1600.896587</td><td> 2.5691646</td><td> 6.0230231</td><td>3</td><td>63</td><td>6.947155</td><td>60</td><td>3.018534</td><td>2.7839889</td><td>17.5227635</td><td>0.00</td><td>100.00</td><td>5.653614</td><td>100.00</td><td>19.616978</td><td> 4.525337e+00</td><td>18.821500</td><td>1</td><td>400</td><td>23.168949</td><td>399</td><td>52.1502807</td><td>3.559110</td><td>14.2005513</td><td> 0.0001</td><td> 5.0</td><td> 0.7338244</td><td> 4.9999</td><td>0.1809528</td><td>3.717292</td><td>137.140359</td><td>United States</td><td>Non China</td><td>1</td><td>1</td></tr>\n",
       "</tbody>\n",
       "</table>\n"
      ],
      "text/latex": [
       "A data.frame: 6 × 47\n",
       "\\begin{tabular}{r|lllllllllllllllllllllllllllllllllllllllllllllll}\n",
       "  & auc\\_win\\_02 & l10\\_win\\_02 & geo\\_maj & geo\\_cnt & n & ren\\_prp & tld\\_cnt & tld\\_rat & daydom\\_min & daydom\\_max & daydom\\_mean & daydom\\_rng & daydom\\_std & daydom\\_skew & daydom\\_kurt & sldlen\\_min & sldlen\\_max & sldlen\\_mean & sldlen\\_rng & sldlen\\_std & sldlen\\_skew & sldlen\\_kurt & gibbs\\_min & gibbs\\_max & gibbs\\_mean & gibbs\\_rng & gibbs\\_std & gibbs\\_skew & gibbs\\_kurt & pdcnt\\_min & pdcnt\\_max & pdcnt\\_mean & pdcnt\\_rng & pdcnt\\_std & pdcnt\\_skew & pdcnt\\_kurt & regarpt\\_min & regarpt\\_max & regarpt\\_mean & regarpt\\_rng & regarpt\\_std & regarpt\\_skew & regarpt\\_kurt & country\\_maj & region\\_maj & country\\_cnt & region\\_cnt\\\\\n",
       "  & <chr> & <chr> & <fct> & <int> & <int> & <dbl> & <int> & <dbl> & <int> & <int> & <dbl> & <int> & <dbl> & <dbl> & <dbl> & <int> & <int> & <dbl> & <int> & <dbl> & <dbl> & <dbl> & <dbl> & <dbl> & <dbl> & <dbl> & <dbl> & <dbl> & <dbl> & <int> & <int> & <dbl> & <int> & <dbl> & <dbl> & <dbl> & <dbl> & <dbl> & <dbl> & <dbl> & <dbl> & <dbl> & <dbl> & <fct> & <fct> & <int> & <int>\\\\\n",
       "\\hline\n",
       "\t1 & auc\\_seg2\\_glm\\_fb & l10\\_seg\\_rf      & EU    & 1 &    11 & 0.54545455 & 1 & 9.090909e-02 &  1 &    5 &    2.181818 &    4 &    1.537412 &  0.9266651 & -0.7811140 & 4 & 14 & 7.636364 & 10 & 2.907670 & 0.7720046 & -0.3922768 & 1.71 &   9.01 & 4.655455 &   7.30 &  2.602016 &  6.453797e-01 & -1.217221 & 1 &   3 &  1.363636 &   2 &  0.6741999 & 1.338593 &  0.3606612 & 15.0000 & 15.0 & 15.0000000 &  0.0000 & 0.0000000 &       NA &         NA & Japan         & Non China & 1 & 1\\\\\n",
       "\t2 & NA              & NA              & EU    & 1 &     2 & 0.00000000 & 1 & 5.000000e-01 &  1 &    1 &    1.000000 &    0 &    0.000000 &         NA &         NA & 5 &  8 & 6.500000 &  3 & 2.121320 & 0.0000000 & -2.7500000 & 3.28 &   8.62 & 5.950000 &   5.34 &  3.775950 &  9.898575e-17 & -2.750000 & 1 &   1 &  1.000000 &   0 &  0.0000000 &       NA &         NA & 15.0000 & 15.0 & 15.0000000 &  0.0000 & 0.0000000 &       NA &         NA & United States & Non China & 1 & 1\\\\\n",
       "\t3 & auc\\_agg\\_glm\\_ALL & l10\\_agg\\_glm\\_ALL & EU    & 1 &     8 & 0.50000000 & 1 & 1.250000e-01 &  1 &    1 &    1.000000 &    0 &    0.000000 &         NA &         NA & 4 & 15 & 8.875000 & 11 & 3.522884 & 0.4848693 & -1.1434523 & 2.00 &   6.09 & 4.396250 &   4.09 &  1.360167 & -3.531195e-01 & -1.301177 & 1 &   1 &  1.000000 &   0 &  0.0000000 &       NA &         NA &  3.0000 &  5.0 &  4.0000000 &  2.0000 & 1.0690450 & 0.000000 &  -2.234375 & China         & China     & 1 & 1\\\\\n",
       "\t4 & auc\\_seg2\\_glm\\_fb & l10\\_seg\\_rf      & EU    & 1 &    47 & 0.06382979 & 1 & 2.127660e-02 &  1 &  119 &   82.872340 &  118 &   46.011632 & -0.8738906 & -0.9645903 & 4 & 61 & 9.446809 & 57 & 8.334863 & 5.0179710 & 28.2025571 & 0.28 &  17.92 & 4.695745 &  17.64 &  3.112366 &  1.526987e+00 &  4.826982 & 1 &   3 &  1.191489 &   2 &  0.4490714 & 2.194541 &  4.1889225 &  0.0001 & 15.0 &  0.8511511 & 14.9999 & 2.6207801 & 3.740087 &  15.752244 & United States & Non China & 1 & 1\\\\\n",
       "\t5 & auc\\_seg2\\_rf     & l10\\_seg2\\_rf     & EU    & 1 &    25 & 0.20000000 & 1 & 4.000000e-02 &  1 &   14 &    5.040000 &   13 &    5.020624 &  1.0166170 & -0.7554981 & 4 & 19 & 7.080000 & 15 & 3.451087 & 1.9087776 &  3.6548313 & 0.59 & 100.00 & 9.743600 &  99.41 & 19.035942 &  4.242864e+00 & 17.222688 & 1 &  10 &  1.520000 &   9 &  1.8055470 & 4.127909 & 16.4692321 &  0.5000 &  0.5 &  0.5000000 &  0.0000 & 0.0000000 &       NA &         NA & China         & China     & 1 & 1\\\\\n",
       "\t6 & auc\\_agg\\_rf\\_ALL  & l10\\_agg\\_rf\\_ALL  & China & 1 & 35046 & 0.02014495 & 1 & 2.853393e-05 & 19 & 7163 & 1299.015380 & 7144 & 1600.896587 &  2.5691646 &  6.0230231 & 3 & 63 & 6.947155 & 60 & 3.018534 & 2.7839889 & 17.5227635 & 0.00 & 100.00 & 5.653614 & 100.00 & 19.616978 &  4.525337e+00 & 18.821500 & 1 & 400 & 23.168949 & 399 & 52.1502807 & 3.559110 & 14.2005513 &  0.0001 &  5.0 &  0.7338244 &  4.9999 & 0.1809528 & 3.717292 & 137.140359 & United States & Non China & 1 & 1\\\\\n",
       "\\end{tabular}\n"
      ],
      "text/markdown": [
       "\n",
       "A data.frame: 6 × 47\n",
       "\n",
       "| <!--/--> | auc_win_02 &lt;chr&gt; | l10_win_02 &lt;chr&gt; | geo_maj &lt;fct&gt; | geo_cnt &lt;int&gt; | n &lt;int&gt; | ren_prp &lt;dbl&gt; | tld_cnt &lt;int&gt; | tld_rat &lt;dbl&gt; | daydom_min &lt;int&gt; | daydom_max &lt;int&gt; | daydom_mean &lt;dbl&gt; | daydom_rng &lt;int&gt; | daydom_std &lt;dbl&gt; | daydom_skew &lt;dbl&gt; | daydom_kurt &lt;dbl&gt; | sldlen_min &lt;int&gt; | sldlen_max &lt;int&gt; | sldlen_mean &lt;dbl&gt; | sldlen_rng &lt;int&gt; | sldlen_std &lt;dbl&gt; | sldlen_skew &lt;dbl&gt; | sldlen_kurt &lt;dbl&gt; | gibbs_min &lt;dbl&gt; | gibbs_max &lt;dbl&gt; | gibbs_mean &lt;dbl&gt; | gibbs_rng &lt;dbl&gt; | gibbs_std &lt;dbl&gt; | gibbs_skew &lt;dbl&gt; | gibbs_kurt &lt;dbl&gt; | pdcnt_min &lt;int&gt; | pdcnt_max &lt;int&gt; | pdcnt_mean &lt;dbl&gt; | pdcnt_rng &lt;int&gt; | pdcnt_std &lt;dbl&gt; | pdcnt_skew &lt;dbl&gt; | pdcnt_kurt &lt;dbl&gt; | regarpt_min &lt;dbl&gt; | regarpt_max &lt;dbl&gt; | regarpt_mean &lt;dbl&gt; | regarpt_rng &lt;dbl&gt; | regarpt_std &lt;dbl&gt; | regarpt_skew &lt;dbl&gt; | regarpt_kurt &lt;dbl&gt; | country_maj &lt;fct&gt; | region_maj &lt;fct&gt; | country_cnt &lt;int&gt; | region_cnt &lt;int&gt; |\n",
       "|---|---|---|---|---|---|---|---|---|---|---|---|---|---|---|---|---|---|---|---|---|---|---|---|---|---|---|---|---|---|---|---|---|---|---|---|---|---|---|---|---|---|---|---|---|---|---|---|\n",
       "| 1 | auc_seg2_glm_fb | l10_seg_rf      | EU    | 1 |    11 | 0.54545455 | 1 | 9.090909e-02 |  1 |    5 |    2.181818 |    4 |    1.537412 |  0.9266651 | -0.7811140 | 4 | 14 | 7.636364 | 10 | 2.907670 | 0.7720046 | -0.3922768 | 1.71 |   9.01 | 4.655455 |   7.30 |  2.602016 |  6.453797e-01 | -1.217221 | 1 |   3 |  1.363636 |   2 |  0.6741999 | 1.338593 |  0.3606612 | 15.0000 | 15.0 | 15.0000000 |  0.0000 | 0.0000000 |       NA |         NA | Japan         | Non China | 1 | 1 |\n",
       "| 2 | NA              | NA              | EU    | 1 |     2 | 0.00000000 | 1 | 5.000000e-01 |  1 |    1 |    1.000000 |    0 |    0.000000 |         NA |         NA | 5 |  8 | 6.500000 |  3 | 2.121320 | 0.0000000 | -2.7500000 | 3.28 |   8.62 | 5.950000 |   5.34 |  3.775950 |  9.898575e-17 | -2.750000 | 1 |   1 |  1.000000 |   0 |  0.0000000 |       NA |         NA | 15.0000 | 15.0 | 15.0000000 |  0.0000 | 0.0000000 |       NA |         NA | United States | Non China | 1 | 1 |\n",
       "| 3 | auc_agg_glm_ALL | l10_agg_glm_ALL | EU    | 1 |     8 | 0.50000000 | 1 | 1.250000e-01 |  1 |    1 |    1.000000 |    0 |    0.000000 |         NA |         NA | 4 | 15 | 8.875000 | 11 | 3.522884 | 0.4848693 | -1.1434523 | 2.00 |   6.09 | 4.396250 |   4.09 |  1.360167 | -3.531195e-01 | -1.301177 | 1 |   1 |  1.000000 |   0 |  0.0000000 |       NA |         NA |  3.0000 |  5.0 |  4.0000000 |  2.0000 | 1.0690450 | 0.000000 |  -2.234375 | China         | China     | 1 | 1 |\n",
       "| 4 | auc_seg2_glm_fb | l10_seg_rf      | EU    | 1 |    47 | 0.06382979 | 1 | 2.127660e-02 |  1 |  119 |   82.872340 |  118 |   46.011632 | -0.8738906 | -0.9645903 | 4 | 61 | 9.446809 | 57 | 8.334863 | 5.0179710 | 28.2025571 | 0.28 |  17.92 | 4.695745 |  17.64 |  3.112366 |  1.526987e+00 |  4.826982 | 1 |   3 |  1.191489 |   2 |  0.4490714 | 2.194541 |  4.1889225 |  0.0001 | 15.0 |  0.8511511 | 14.9999 | 2.6207801 | 3.740087 |  15.752244 | United States | Non China | 1 | 1 |\n",
       "| 5 | auc_seg2_rf     | l10_seg2_rf     | EU    | 1 |    25 | 0.20000000 | 1 | 4.000000e-02 |  1 |   14 |    5.040000 |   13 |    5.020624 |  1.0166170 | -0.7554981 | 4 | 19 | 7.080000 | 15 | 3.451087 | 1.9087776 |  3.6548313 | 0.59 | 100.00 | 9.743600 |  99.41 | 19.035942 |  4.242864e+00 | 17.222688 | 1 |  10 |  1.520000 |   9 |  1.8055470 | 4.127909 | 16.4692321 |  0.5000 |  0.5 |  0.5000000 |  0.0000 | 0.0000000 |       NA |         NA | China         | China     | 1 | 1 |\n",
       "| 6 | auc_agg_rf_ALL  | l10_agg_rf_ALL  | China | 1 | 35046 | 0.02014495 | 1 | 2.853393e-05 | 19 | 7163 | 1299.015380 | 7144 | 1600.896587 |  2.5691646 |  6.0230231 | 3 | 63 | 6.947155 | 60 | 3.018534 | 2.7839889 | 17.5227635 | 0.00 | 100.00 | 5.653614 | 100.00 | 19.616978 |  4.525337e+00 | 18.821500 | 1 | 400 | 23.168949 | 399 | 52.1502807 | 3.559110 | 14.2005513 |  0.0001 |  5.0 |  0.7338244 |  4.9999 | 0.1809528 | 3.717292 | 137.140359 | United States | Non China | 1 | 1 |\n",
       "\n"
      ],
      "text/plain": [
       "  auc_win_02      l10_win_02      geo_maj geo_cnt n     ren_prp    tld_cnt\n",
       "1 auc_seg2_glm_fb l10_seg_rf      EU      1          11 0.54545455 1      \n",
       "2 NA              NA              EU      1           2 0.00000000 1      \n",
       "3 auc_agg_glm_ALL l10_agg_glm_ALL EU      1           8 0.50000000 1      \n",
       "4 auc_seg2_glm_fb l10_seg_rf      EU      1          47 0.06382979 1      \n",
       "5 auc_seg2_rf     l10_seg2_rf     EU      1          25 0.20000000 1      \n",
       "6 auc_agg_rf_ALL  l10_agg_rf_ALL  China   1       35046 0.02014495 1      \n",
       "  tld_rat      daydom_min daydom_max daydom_mean daydom_rng daydom_std \n",
       "1 9.090909e-02  1            5          2.181818    4          1.537412\n",
       "2 5.000000e-01  1            1          1.000000    0          0.000000\n",
       "3 1.250000e-01  1            1          1.000000    0          0.000000\n",
       "4 2.127660e-02  1          119         82.872340  118         46.011632\n",
       "5 4.000000e-02  1           14          5.040000   13          5.020624\n",
       "6 2.853393e-05 19         7163       1299.015380 7144       1600.896587\n",
       "  daydom_skew daydom_kurt sldlen_min sldlen_max sldlen_mean sldlen_rng\n",
       "1  0.9266651  -0.7811140  4          14         7.636364    10        \n",
       "2         NA          NA  5           8         6.500000     3        \n",
       "3         NA          NA  4          15         8.875000    11        \n",
       "4 -0.8738906  -0.9645903  4          61         9.446809    57        \n",
       "5  1.0166170  -0.7554981  4          19         7.080000    15        \n",
       "6  2.5691646   6.0230231  3          63         6.947155    60        \n",
       "  sldlen_std sldlen_skew sldlen_kurt gibbs_min gibbs_max gibbs_mean gibbs_rng\n",
       "1 2.907670   0.7720046   -0.3922768  1.71        9.01    4.655455     7.30   \n",
       "2 2.121320   0.0000000   -2.7500000  3.28        8.62    5.950000     5.34   \n",
       "3 3.522884   0.4848693   -1.1434523  2.00        6.09    4.396250     4.09   \n",
       "4 8.334863   5.0179710   28.2025571  0.28       17.92    4.695745    17.64   \n",
       "5 3.451087   1.9087776    3.6548313  0.59      100.00    9.743600    99.41   \n",
       "6 3.018534   2.7839889   17.5227635  0.00      100.00    5.653614   100.00   \n",
       "  gibbs_std gibbs_skew    gibbs_kurt pdcnt_min pdcnt_max pdcnt_mean pdcnt_rng\n",
       "1  2.602016  6.453797e-01 -1.217221  1           3        1.363636    2      \n",
       "2  3.775950  9.898575e-17 -2.750000  1           1        1.000000    0      \n",
       "3  1.360167 -3.531195e-01 -1.301177  1           1        1.000000    0      \n",
       "4  3.112366  1.526987e+00  4.826982  1           3        1.191489    2      \n",
       "5 19.035942  4.242864e+00 17.222688  1          10        1.520000    9      \n",
       "6 19.616978  4.525337e+00 18.821500  1         400       23.168949  399      \n",
       "  pdcnt_std  pdcnt_skew pdcnt_kurt regarpt_min regarpt_max regarpt_mean\n",
       "1  0.6741999 1.338593    0.3606612 15.0000     15.0        15.0000000  \n",
       "2  0.0000000       NA           NA 15.0000     15.0        15.0000000  \n",
       "3  0.0000000       NA           NA  3.0000      5.0         4.0000000  \n",
       "4  0.4490714 2.194541    4.1889225  0.0001     15.0         0.8511511  \n",
       "5  1.8055470 4.127909   16.4692321  0.5000      0.5         0.5000000  \n",
       "6 52.1502807 3.559110   14.2005513  0.0001      5.0         0.7338244  \n",
       "  regarpt_rng regarpt_std regarpt_skew regarpt_kurt country_maj   region_maj\n",
       "1  0.0000     0.0000000         NA             NA   Japan         Non China \n",
       "2  0.0000     0.0000000         NA             NA   United States Non China \n",
       "3  2.0000     1.0690450   0.000000      -2.234375   China         China     \n",
       "4 14.9999     2.6207801   3.740087      15.752244   United States Non China \n",
       "5  0.0000     0.0000000         NA             NA   China         China     \n",
       "6  4.9999     0.1809528   3.717292     137.140359   United States Non China \n",
       "  country_cnt region_cnt\n",
       "1 1           1         \n",
       "2 1           1         \n",
       "3 1           1         \n",
       "4 1           1         \n",
       "5 1           1         \n",
       "6 1           1         "
      ]
     },
     "metadata": {},
     "output_type": "display_data"
    }
   ],
   "source": [
    "metametrics_df %>% \n",
    "  select('auc_win_02', 'l10_win_02') %>% \n",
    "  bind_cols(\n",
    "      metametrics_df %>% \n",
    "        select(-contains('auc'),\n",
    "               -contains('l10'),\n",
    "               -contains('tld_registrar_index'))\n",
    "      ) %>% head()"
   ]
  },
  {
   "cell_type": "markdown",
   "metadata": {},
   "source": [
    "### AUC "
   ]
  },
  {
   "cell_type": "code",
   "execution_count": 102,
   "metadata": {},
   "outputs": [],
   "source": [
    "library(ranger) "
   ]
  },
  {
   "cell_type": "code",
   "execution_count": 103,
   "metadata": {},
   "outputs": [
    {
     "data": {
      "text/plain": [
       "      Y\n",
       "       auc_agg_glm auc_agg_glm_ALL auc_agg_rf auc_agg_rf_ALL auc_seg_glm\n",
       "  0.02           0               0          0              0           0\n",
       "  0.06           0               0          0              0           0\n",
       "  0.07           0               0          0              0           0\n",
       "  0.08           0               0          0              0         129\n",
       "  0.09           0               0          0            113           0\n",
       "  0.11           0               0         92              0           0\n",
       "  0.12           0              81          0              0           0\n",
       "  0.21          47               0          0              0           0\n",
       "  0.26           0               0          0              0           0\n",
       "      Y\n",
       "       auc_seg_rf auc_seg2_glm auc_seg2_glm_fb auc_seg2_rf\n",
       "  0.02          0          585               0           0\n",
       "  0.06        173            0               0           0\n",
       "  0.07          0            0               0         149\n",
       "  0.08          0            0               0           0\n",
       "  0.09          0            0               0           0\n",
       "  0.11          0            0               0           0\n",
       "  0.12          0            0               0           0\n",
       "  0.21          0            0               0           0\n",
       "  0.26          0            0              37           0"
      ]
     },
     "metadata": {},
     "output_type": "display_data"
    }
   ],
   "source": [
    "#Compute weights to balance the RF\n",
    "Y = train$auc_win_02\n",
    "w <- 1/table(Y)\n",
    "w <- w/sum(w)\n",
    "\n",
    "weights <- rep(0, length(Y))\n",
    "\n",
    "for (model in unique(Y)){\n",
    "    weights[Y==model] <- w[model]\n",
    "}\n",
    "table(round(weights,2), Y)"
   ]
  },
  {
   "cell_type": "code",
   "execution_count": 104,
   "metadata": {},
   "outputs": [],
   "source": [
    "model <- ranger(formula         = auc_win_02 ~ ., \n",
    "                data            = train %>% \n",
    "                                    select('auc_win_02') %>% \n",
    "                                    bind_cols(\n",
    "                                        train %>% \n",
    "                                        select(-contains('auc'),-contains('l10'),-'tld_registrar_index', -'tld_rat')), \n",
    "                importance = 'impurity', \n",
    "                num.trees       = 500,\n",
    "                probability = TRUE,\n",
    "                replace = FALSE,\n",
    "                sample.fraction = .8,\n",
    "                seed            = 123,\n",
    "                respect.unordered.factors=TRUE,\n",
    "               case.weights=weights)"
   ]
  },
  {
   "cell_type": "code",
   "execution_count": 105,
   "metadata": {},
   "outputs": [],
   "source": [
    "pred <- predict(model, \n",
    "                data = test,\n",
    "                type=\"response\")$predictions\n",
    "\n",
    "pred <- as.data.frame(pred)\n",
    "auc_vars <- names(pred)\n",
    "pred <- pred %>%\n",
    "    mutate (auc_win_02=sapply(apply(.[,c(auc_vars)], \n",
    "                          1, function(x) names(x)[which.max(x)]) , \n",
    "                                    function(s) if (length(s) == 0) NA else paste(s, collapse = \" \")) \n",
    "            ) "
   ]
  },
  {
   "cell_type": "code",
   "execution_count": 106,
   "metadata": {},
   "outputs": [
    {
     "data": {
      "text/html": [
       "<table>\n",
       "<caption>A data.frame: 9 × 2</caption>\n",
       "<thead>\n",
       "\t<tr><th scope=col>Var1</th><th scope=col>Freq</th></tr>\n",
       "\t<tr><th scope=col>&lt;fct&gt;</th><th scope=col>&lt;dbl&gt;</th></tr>\n",
       "</thead>\n",
       "<tbody>\n",
       "\t<tr><td>auc_seg2_glm_fb</td><td>0.01136364</td></tr>\n",
       "\t<tr><td>auc_agg_glm    </td><td>0.01420455</td></tr>\n",
       "\t<tr><td>auc_agg_glm_ALL</td><td>0.02840909</td></tr>\n",
       "\t<tr><td>auc_agg_rf     </td><td>0.04545455</td></tr>\n",
       "\t<tr><td>auc_agg_rf_ALL </td><td>0.09090909</td></tr>\n",
       "\t<tr><td>auc_seg_glm    </td><td>0.12215909</td></tr>\n",
       "\t<tr><td>auc_seg2_rf    </td><td>0.12784091</td></tr>\n",
       "\t<tr><td>auc_seg_rf     </td><td>0.16477273</td></tr>\n",
       "\t<tr><td>auc_seg2_glm   </td><td>0.39488636</td></tr>\n",
       "</tbody>\n",
       "</table>\n"
      ],
      "text/latex": [
       "A data.frame: 9 × 2\n",
       "\\begin{tabular}{ll}\n",
       " Var1 & Freq\\\\\n",
       " <fct> & <dbl>\\\\\n",
       "\\hline\n",
       "\t auc\\_seg2\\_glm\\_fb & 0.01136364\\\\\n",
       "\t auc\\_agg\\_glm     & 0.01420455\\\\\n",
       "\t auc\\_agg\\_glm\\_ALL & 0.02840909\\\\\n",
       "\t auc\\_agg\\_rf      & 0.04545455\\\\\n",
       "\t auc\\_agg\\_rf\\_ALL  & 0.09090909\\\\\n",
       "\t auc\\_seg\\_glm     & 0.12215909\\\\\n",
       "\t auc\\_seg2\\_rf     & 0.12784091\\\\\n",
       "\t auc\\_seg\\_rf      & 0.16477273\\\\\n",
       "\t auc\\_seg2\\_glm    & 0.39488636\\\\\n",
       "\\end{tabular}\n"
      ],
      "text/markdown": [
       "\n",
       "A data.frame: 9 × 2\n",
       "\n",
       "| Var1 &lt;fct&gt; | Freq &lt;dbl&gt; |\n",
       "|---|---|\n",
       "| auc_seg2_glm_fb | 0.01136364 |\n",
       "| auc_agg_glm     | 0.01420455 |\n",
       "| auc_agg_glm_ALL | 0.02840909 |\n",
       "| auc_agg_rf      | 0.04545455 |\n",
       "| auc_agg_rf_ALL  | 0.09090909 |\n",
       "| auc_seg_glm     | 0.12215909 |\n",
       "| auc_seg2_rf     | 0.12784091 |\n",
       "| auc_seg_rf      | 0.16477273 |\n",
       "| auc_seg2_glm    | 0.39488636 |\n",
       "\n"
      ],
      "text/plain": [
       "  Var1            Freq      \n",
       "1 auc_seg2_glm_fb 0.01136364\n",
       "2 auc_agg_glm     0.01420455\n",
       "3 auc_agg_glm_ALL 0.02840909\n",
       "4 auc_agg_rf      0.04545455\n",
       "5 auc_agg_rf_ALL  0.09090909\n",
       "6 auc_seg_glm     0.12215909\n",
       "7 auc_seg2_rf     0.12784091\n",
       "8 auc_seg_rf      0.16477273\n",
       "9 auc_seg2_glm    0.39488636"
      ]
     },
     "metadata": {},
     "output_type": "display_data"
    }
   ],
   "source": [
    "data.frame(sort(prop.table(table(pred$auc_win_02))))"
   ]
  },
  {
   "cell_type": "code",
   "execution_count": 107,
   "metadata": {},
   "outputs": [
    {
     "data": {
      "text/plain": [
       "                 \n",
       "                  auc_agg_glm auc_agg_glm_ALL auc_agg_rf auc_agg_rf_ALL\n",
       "  auc_agg_glm               1               0          1              1\n",
       "  auc_agg_glm_ALL           0               0          3              0\n",
       "  auc_agg_rf                1               3          5              1\n",
       "  auc_agg_rf_ALL            0               2          1              8\n",
       "  auc_seg_glm               1               0          2              2\n",
       "  auc_seg_rf                1               3          3              7\n",
       "  auc_seg2_glm              1               2          1              9\n",
       "  auc_seg2_glm_fb           0               0          0              0\n",
       "  auc_seg2_rf               0               0          0              4\n",
       "                 \n",
       "                  auc_seg_glm auc_seg_rf auc_seg2_glm auc_seg2_glm_fb\n",
       "  auc_agg_glm               2          3            1               0\n",
       "  auc_agg_glm_ALL           5          1            5               1\n",
       "  auc_agg_rf                4          1            3               1\n",
       "  auc_agg_rf_ALL            4         10            1               1\n",
       "  auc_seg_glm               8          4            8               0\n",
       "  auc_seg_rf                5         18            4               0\n",
       "  auc_seg2_glm             12         10          110               1\n",
       "  auc_seg2_glm_fb           2          1            2               0\n",
       "  auc_seg2_rf               1         10            5               0\n",
       "                 \n",
       "                  auc_seg2_rf\n",
       "  auc_agg_glm               1\n",
       "  auc_agg_glm_ALL           4\n",
       "  auc_agg_rf                6\n",
       "  auc_agg_rf_ALL            7\n",
       "  auc_seg_glm               5\n",
       "  auc_seg_rf               10\n",
       "  auc_seg2_glm              6\n",
       "  auc_seg2_glm_fb           2\n",
       "  auc_seg2_rf               4"
      ]
     },
     "metadata": {},
     "output_type": "display_data"
    }
   ],
   "source": [
    "xtab <- table(test$auc_win_02, pred$auc_win_02)\n",
    "xtab"
   ]
  },
  {
   "cell_type": "code",
   "execution_count": 108,
   "metadata": {},
   "outputs": [
    {
     "data": {
      "text/html": [
       "<style>\n",
       ".list-inline {list-style: none; margin:0; padding: 0}\n",
       ".list-inline>li {display: inline-block}\n",
       ".list-inline>li:not(:last-child)::after {content: \"\\00b7\"; padding: 0 .5ex}\n",
       "</style>\n",
       "<ol class=list-inline><li>'auc_agg_glm'</li><li>'auc_agg_glm_ALL'</li><li>'auc_agg_rf'</li><li>'auc_agg_rf_ALL'</li><li>'auc_seg_glm'</li><li>'auc_seg_rf'</li><li>'auc_seg2_glm'</li><li>'auc_seg2_glm_fb'</li><li>'auc_seg2_rf'</li></ol>\n"
      ],
      "text/latex": [
       "\\begin{enumerate*}\n",
       "\\item 'auc\\_agg\\_glm'\n",
       "\\item 'auc\\_agg\\_glm\\_ALL'\n",
       "\\item 'auc\\_agg\\_rf'\n",
       "\\item 'auc\\_agg\\_rf\\_ALL'\n",
       "\\item 'auc\\_seg\\_glm'\n",
       "\\item 'auc\\_seg\\_rf'\n",
       "\\item 'auc\\_seg2\\_glm'\n",
       "\\item 'auc\\_seg2\\_glm\\_fb'\n",
       "\\item 'auc\\_seg2\\_rf'\n",
       "\\end{enumerate*}\n"
      ],
      "text/markdown": [
       "1. 'auc_agg_glm'\n",
       "2. 'auc_agg_glm_ALL'\n",
       "3. 'auc_agg_rf'\n",
       "4. 'auc_agg_rf_ALL'\n",
       "5. 'auc_seg_glm'\n",
       "6. 'auc_seg_rf'\n",
       "7. 'auc_seg2_glm'\n",
       "8. 'auc_seg2_glm_fb'\n",
       "9. 'auc_seg2_rf'\n",
       "\n",
       "\n"
      ],
      "text/plain": [
       "[1] \"auc_agg_glm\"     \"auc_agg_glm_ALL\" \"auc_agg_rf\"      \"auc_agg_rf_ALL\" \n",
       "[5] \"auc_seg_glm\"     \"auc_seg_rf\"      \"auc_seg2_glm\"    \"auc_seg2_glm_fb\"\n",
       "[9] \"auc_seg2_rf\"    "
      ]
     },
     "metadata": {},
     "output_type": "display_data"
    },
    {
     "data": {
      "text/html": [
       "<style>\n",
       ".list-inline {list-style: none; margin:0; padding: 0}\n",
       ".list-inline>li {display: inline-block}\n",
       ".list-inline>li:not(:last-child)::after {content: \"\\00b7\"; padding: 0 .5ex}\n",
       "</style>\n",
       "<ol class=list-inline><li>'auc_agg_glm'</li><li>'auc_agg_glm_ALL'</li><li>'auc_agg_rf'</li><li>'auc_agg_rf_ALL'</li><li>'auc_seg_glm'</li><li>'auc_seg_rf'</li><li>'auc_seg2_glm'</li><li>'auc_seg2_glm_fb'</li><li>'auc_seg2_rf'</li></ol>\n"
      ],
      "text/latex": [
       "\\begin{enumerate*}\n",
       "\\item 'auc\\_agg\\_glm'\n",
       "\\item 'auc\\_agg\\_glm\\_ALL'\n",
       "\\item 'auc\\_agg\\_rf'\n",
       "\\item 'auc\\_agg\\_rf\\_ALL'\n",
       "\\item 'auc\\_seg\\_glm'\n",
       "\\item 'auc\\_seg\\_rf'\n",
       "\\item 'auc\\_seg2\\_glm'\n",
       "\\item 'auc\\_seg2\\_glm\\_fb'\n",
       "\\item 'auc\\_seg2\\_rf'\n",
       "\\end{enumerate*}\n"
      ],
      "text/markdown": [
       "1. 'auc_agg_glm'\n",
       "2. 'auc_agg_glm_ALL'\n",
       "3. 'auc_agg_rf'\n",
       "4. 'auc_agg_rf_ALL'\n",
       "5. 'auc_seg_glm'\n",
       "6. 'auc_seg_rf'\n",
       "7. 'auc_seg2_glm'\n",
       "8. 'auc_seg2_glm_fb'\n",
       "9. 'auc_seg2_rf'\n",
       "\n",
       "\n"
      ],
      "text/plain": [
       "[1] \"auc_agg_glm\"     \"auc_agg_glm_ALL\" \"auc_agg_rf\"      \"auc_agg_rf_ALL\" \n",
       "[5] \"auc_seg_glm\"     \"auc_seg_rf\"      \"auc_seg2_glm\"    \"auc_seg2_glm_fb\"\n",
       "[9] \"auc_seg2_rf\"    "
      ]
     },
     "metadata": {},
     "output_type": "display_data"
    }
   ],
   "source": [
    "levels(factor(test$auc_win_02))\n",
    "levels(factor(pred$auc_win_02))"
   ]
  },
  {
   "cell_type": "code",
   "execution_count": 109,
   "metadata": {},
   "outputs": [
    {
     "data": {
      "text/html": [
       "<style>\n",
       ".list-inline {list-style: none; margin:0; padding: 0}\n",
       ".list-inline>li {display: inline-block}\n",
       ".list-inline>li:not(:last-child)::after {content: \"\\00b7\"; padding: 0 .5ex}\n",
       "</style>\n",
       "<ol class=list-inline><li>'auc_seg_rf'</li><li>'auc_seg2_glm'</li><li>'auc_agg_glm'</li><li>'auc_agg_rf_ALL'</li><li>'auc_seg2_rf'</li><li>'auc_agg_glm_ALL'</li><li>'auc_agg_rf'</li><li>'auc_seg2_glm_fb'</li><li>'auc_seg_glm'</li></ol>\n"
      ],
      "text/latex": [
       "\\begin{enumerate*}\n",
       "\\item 'auc\\_seg\\_rf'\n",
       "\\item 'auc\\_seg2\\_glm'\n",
       "\\item 'auc\\_agg\\_glm'\n",
       "\\item 'auc\\_agg\\_rf\\_ALL'\n",
       "\\item 'auc\\_seg2\\_rf'\n",
       "\\item 'auc\\_agg\\_glm\\_ALL'\n",
       "\\item 'auc\\_agg\\_rf'\n",
       "\\item 'auc\\_seg2\\_glm\\_fb'\n",
       "\\item 'auc\\_seg\\_glm'\n",
       "\\end{enumerate*}\n"
      ],
      "text/markdown": [
       "1. 'auc_seg_rf'\n",
       "2. 'auc_seg2_glm'\n",
       "3. 'auc_agg_glm'\n",
       "4. 'auc_agg_rf_ALL'\n",
       "5. 'auc_seg2_rf'\n",
       "6. 'auc_agg_glm_ALL'\n",
       "7. 'auc_agg_rf'\n",
       "8. 'auc_seg2_glm_fb'\n",
       "9. 'auc_seg_glm'\n",
       "\n",
       "\n"
      ],
      "text/plain": [
       "[1] \"auc_seg_rf\"      \"auc_seg2_glm\"    \"auc_agg_glm\"     \"auc_agg_rf_ALL\" \n",
       "[5] \"auc_seg2_rf\"     \"auc_agg_glm_ALL\" \"auc_agg_rf\"      \"auc_seg2_glm_fb\"\n",
       "[9] \"auc_seg_glm\"    "
      ]
     },
     "metadata": {},
     "output_type": "display_data"
    },
    {
     "data": {
      "text/html": [
       "<style>\n",
       ".list-inline {list-style: none; margin:0; padding: 0}\n",
       ".list-inline>li {display: inline-block}\n",
       ".list-inline>li:not(:last-child)::after {content: \"\\00b7\"; padding: 0 .5ex}\n",
       "</style>\n",
       "<ol class=list-inline><li>'auc_agg_glm_ALL'</li><li>'auc_seg2_glm'</li><li>'auc_seg_rf'</li><li>'auc_seg_glm'</li><li>'auc_agg_rf'</li><li>'auc_seg2_rf'</li><li>'auc_seg2_glm_fb'</li><li>'auc_agg_rf_ALL'</li><li>'auc_agg_glm'</li></ol>\n"
      ],
      "text/latex": [
       "\\begin{enumerate*}\n",
       "\\item 'auc\\_agg\\_glm\\_ALL'\n",
       "\\item 'auc\\_seg2\\_glm'\n",
       "\\item 'auc\\_seg\\_rf'\n",
       "\\item 'auc\\_seg\\_glm'\n",
       "\\item 'auc\\_agg\\_rf'\n",
       "\\item 'auc\\_seg2\\_rf'\n",
       "\\item 'auc\\_seg2\\_glm\\_fb'\n",
       "\\item 'auc\\_agg\\_rf\\_ALL'\n",
       "\\item 'auc\\_agg\\_glm'\n",
       "\\end{enumerate*}\n"
      ],
      "text/markdown": [
       "1. 'auc_agg_glm_ALL'\n",
       "2. 'auc_seg2_glm'\n",
       "3. 'auc_seg_rf'\n",
       "4. 'auc_seg_glm'\n",
       "5. 'auc_agg_rf'\n",
       "6. 'auc_seg2_rf'\n",
       "7. 'auc_seg2_glm_fb'\n",
       "8. 'auc_agg_rf_ALL'\n",
       "9. 'auc_agg_glm'\n",
       "\n",
       "\n"
      ],
      "text/plain": [
       "[1] \"auc_agg_glm_ALL\" \"auc_seg2_glm\"    \"auc_seg_rf\"      \"auc_seg_glm\"    \n",
       "[5] \"auc_agg_rf\"      \"auc_seg2_rf\"     \"auc_seg2_glm_fb\" \"auc_agg_rf_ALL\" \n",
       "[9] \"auc_agg_glm\"    "
      ]
     },
     "metadata": {},
     "output_type": "display_data"
    }
   ],
   "source": [
    "unique(train$auc_win_02)\n",
    "unique(test$auc_win_02)"
   ]
  },
  {
   "cell_type": "code",
   "execution_count": 110,
   "metadata": {},
   "outputs": [
    {
     "data": {
      "text/plain": [
       "Confusion Matrix and Statistics\n",
       "\n",
       "                 Reference\n",
       "Prediction        auc_agg_glm auc_agg_glm_ALL auc_agg_rf auc_agg_rf_ALL\n",
       "  auc_agg_glm               1               0          1              1\n",
       "  auc_agg_glm_ALL           0               0          3              0\n",
       "  auc_agg_rf                1               3          5              1\n",
       "  auc_agg_rf_ALL            0               2          1              8\n",
       "  auc_seg_glm               1               0          2              2\n",
       "  auc_seg_rf                1               3          3              7\n",
       "  auc_seg2_glm              1               2          1              9\n",
       "  auc_seg2_glm_fb           0               0          0              0\n",
       "  auc_seg2_rf               0               0          0              4\n",
       "                 Reference\n",
       "Prediction        auc_seg_glm auc_seg_rf auc_seg2_glm auc_seg2_glm_fb\n",
       "  auc_agg_glm               2          3            1               0\n",
       "  auc_agg_glm_ALL           5          1            5               1\n",
       "  auc_agg_rf                4          1            3               1\n",
       "  auc_agg_rf_ALL            4         10            1               1\n",
       "  auc_seg_glm               8          4            8               0\n",
       "  auc_seg_rf                5         18            4               0\n",
       "  auc_seg2_glm             12         10          110               1\n",
       "  auc_seg2_glm_fb           2          1            2               0\n",
       "  auc_seg2_rf               1         10            5               0\n",
       "                 Reference\n",
       "Prediction        auc_seg2_rf\n",
       "  auc_agg_glm               1\n",
       "  auc_agg_glm_ALL           4\n",
       "  auc_agg_rf                6\n",
       "  auc_agg_rf_ALL            7\n",
       "  auc_seg_glm               5\n",
       "  auc_seg_rf               10\n",
       "  auc_seg2_glm              6\n",
       "  auc_seg2_glm_fb           2\n",
       "  auc_seg2_rf               4\n",
       "\n",
       "Overall Statistics\n",
       "                                         \n",
       "               Accuracy : 0.4375         \n",
       "                 95% CI : (0.385, 0.4911)\n",
       "    No Information Rate : 0.3949         \n",
       "    P-Value [Acc > NIR] : 0.05752        \n",
       "                                         \n",
       "                  Kappa : 0.2717         \n",
       "                                         \n",
       " Mcnemar's Test P-Value : NA             \n",
       "\n",
       "Statistics by Class:\n",
       "\n",
       "                     Class: auc_agg_glm Class: auc_agg_glm_ALL\n",
       "Sensitivity                    0.200000                0.00000\n",
       "Specificity                    0.974063                0.94444\n",
       "Pos Pred Value                 0.100000                0.00000\n",
       "Neg Pred Value                 0.988304                0.96997\n",
       "Prevalence                     0.014205                0.02841\n",
       "Detection Rate                 0.002841                0.00000\n",
       "Detection Prevalence           0.028409                0.05398\n",
       "Balanced Accuracy              0.587032                0.47222\n",
       "                     Class: auc_agg_rf Class: auc_agg_rf_ALL Class: auc_seg_glm\n",
       "Sensitivity                    0.31250               0.25000            0.18605\n",
       "Specificity                    0.94048               0.91875            0.92880\n",
       "Pos Pred Value                 0.20000               0.23529            0.26667\n",
       "Neg Pred Value                 0.96636               0.92453            0.89130\n",
       "Prevalence                     0.04545               0.09091            0.12216\n",
       "Detection Rate                 0.01420               0.02273            0.02273\n",
       "Detection Prevalence           0.07102               0.09659            0.08523\n",
       "Balanced Accuracy              0.62649               0.58437            0.55742\n",
       "                     Class: auc_seg_rf Class: auc_seg2_glm\n",
       "Sensitivity                    0.31034              0.7914\n",
       "Specificity                    0.88776              0.8028\n",
       "Pos Pred Value                 0.35294              0.7237\n",
       "Neg Pred Value                 0.86711              0.8550\n",
       "Prevalence                     0.16477              0.3949\n",
       "Detection Rate                 0.05114              0.3125\n",
       "Detection Prevalence           0.14489              0.4318\n",
       "Balanced Accuracy              0.59905              0.7971\n",
       "                     Class: auc_seg2_glm_fb Class: auc_seg2_rf\n",
       "Sensitivity                         0.00000            0.08889\n",
       "Specificity                         0.97989            0.93485\n",
       "Pos Pred Value                      0.00000            0.16667\n",
       "Neg Pred Value                      0.98841            0.87500\n",
       "Prevalence                          0.01136            0.12784\n",
       "Detection Rate                      0.00000            0.01136\n",
       "Detection Prevalence                0.01989            0.06818\n",
       "Balanced Accuracy                   0.48994            0.51187"
      ]
     },
     "metadata": {},
     "output_type": "display_data"
    }
   ],
   "source": [
    "confusionMatrix(data=factor(test$auc_win_02,\n",
    "                           levels=levels(factor(pred$auc_win_02))), reference=factor(pred$auc_win_02))"
   ]
  },
  {
   "cell_type": "code",
   "execution_count": 111,
   "metadata": {},
   "outputs": [
    {
     "data": {
      "text/html": [
       "<table>\n",
       "<caption>A data.frame: 15 × 1</caption>\n",
       "<thead>\n",
       "\t<tr><th></th><th scope=col>importance(model)</th></tr>\n",
       "\t<tr><th></th><th scope=col>&lt;dbl&gt;</th></tr>\n",
       "</thead>\n",
       "<tbody>\n",
       "\t<tr><th scope=row>n</th><td>32.13082</td></tr>\n",
       "\t<tr><th scope=row>daydom_kurt</th><td>27.02844</td></tr>\n",
       "\t<tr><th scope=row>ren_prp</th><td>26.81114</td></tr>\n",
       "\t<tr><th scope=row>gibbs_kurt</th><td>26.10281</td></tr>\n",
       "\t<tr><th scope=row>sldlen_kurt</th><td>25.76026</td></tr>\n",
       "\t<tr><th scope=row>gibbs_rng</th><td>21.00316</td></tr>\n",
       "\t<tr><th scope=row>daydom_skew</th><td>20.93525</td></tr>\n",
       "\t<tr><th scope=row>daydom_rng</th><td>18.72265</td></tr>\n",
       "\t<tr><th scope=row>sldlen_rng</th><td>15.32931</td></tr>\n",
       "\t<tr><th scope=row>pdcnt_skew</th><td>15.28495</td></tr>\n",
       "\t<tr><th scope=row>daydom_mean</th><td>15.21566</td></tr>\n",
       "\t<tr><th scope=row>sldlen_skew</th><td>14.76704</td></tr>\n",
       "\t<tr><th scope=row>daydom_max</th><td>14.09740</td></tr>\n",
       "\t<tr><th scope=row>daydom_std</th><td>13.52423</td></tr>\n",
       "\t<tr><th scope=row>sldlen_std</th><td>13.04798</td></tr>\n",
       "</tbody>\n",
       "</table>\n"
      ],
      "text/latex": [
       "A data.frame: 15 × 1\n",
       "\\begin{tabular}{r|l}\n",
       "  & importance(model)\\\\\n",
       "  & <dbl>\\\\\n",
       "\\hline\n",
       "\tn & 32.13082\\\\\n",
       "\tdaydom\\_kurt & 27.02844\\\\\n",
       "\tren\\_prp & 26.81114\\\\\n",
       "\tgibbs\\_kurt & 26.10281\\\\\n",
       "\tsldlen\\_kurt & 25.76026\\\\\n",
       "\tgibbs\\_rng & 21.00316\\\\\n",
       "\tdaydom\\_skew & 20.93525\\\\\n",
       "\tdaydom\\_rng & 18.72265\\\\\n",
       "\tsldlen\\_rng & 15.32931\\\\\n",
       "\tpdcnt\\_skew & 15.28495\\\\\n",
       "\tdaydom\\_mean & 15.21566\\\\\n",
       "\tsldlen\\_skew & 14.76704\\\\\n",
       "\tdaydom\\_max & 14.09740\\\\\n",
       "\tdaydom\\_std & 13.52423\\\\\n",
       "\tsldlen\\_std & 13.04798\\\\\n",
       "\\end{tabular}\n"
      ],
      "text/markdown": [
       "\n",
       "A data.frame: 15 × 1\n",
       "\n",
       "| <!--/--> | importance(model) &lt;dbl&gt; |\n",
       "|---|---|\n",
       "| n | 32.13082 |\n",
       "| daydom_kurt | 27.02844 |\n",
       "| ren_prp | 26.81114 |\n",
       "| gibbs_kurt | 26.10281 |\n",
       "| sldlen_kurt | 25.76026 |\n",
       "| gibbs_rng | 21.00316 |\n",
       "| daydom_skew | 20.93525 |\n",
       "| daydom_rng | 18.72265 |\n",
       "| sldlen_rng | 15.32931 |\n",
       "| pdcnt_skew | 15.28495 |\n",
       "| daydom_mean | 15.21566 |\n",
       "| sldlen_skew | 14.76704 |\n",
       "| daydom_max | 14.09740 |\n",
       "| daydom_std | 13.52423 |\n",
       "| sldlen_std | 13.04798 |\n",
       "\n"
      ],
      "text/plain": [
       "            importance(model)\n",
       "n           32.13082         \n",
       "daydom_kurt 27.02844         \n",
       "ren_prp     26.81114         \n",
       "gibbs_kurt  26.10281         \n",
       "sldlen_kurt 25.76026         \n",
       "gibbs_rng   21.00316         \n",
       "daydom_skew 20.93525         \n",
       "daydom_rng  18.72265         \n",
       "sldlen_rng  15.32931         \n",
       "pdcnt_skew  15.28495         \n",
       "daydom_mean 15.21566         \n",
       "sldlen_skew 14.76704         \n",
       "daydom_max  14.09740         \n",
       "daydom_std  13.52423         \n",
       "sldlen_std  13.04798         "
      ]
     },
     "metadata": {},
     "output_type": "display_data"
    }
   ],
   "source": [
    "as.data.frame(importance(model)) %>% arrange(desc(importance(model))) %>% head(15)"
   ]
  },
  {
   "cell_type": "code",
   "execution_count": 112,
   "metadata": {},
   "outputs": [
    {
     "data": {
      "text/html": [
       "<style>\n",
       ".list-inline {list-style: none; margin:0; padding: 0}\n",
       ".list-inline>li {display: inline-block}\n",
       ".list-inline>li:not(:last-child)::after {content: \"\\00b7\"; padding: 0 .5ex}\n",
       "</style>\n",
       "<ol class=list-inline><li>'n'</li><li>'daydom_kurt'</li><li>'ren_prp'</li><li>'gibbs_kurt'</li><li>'sldlen_kurt'</li><li>'gibbs_rng'</li><li>'daydom_skew'</li><li>'daydom_rng'</li><li>'sldlen_rng'</li><li>'pdcnt_skew'</li><li>'daydom_mean'</li><li>'sldlen_skew'</li><li>'daydom_max'</li><li>'daydom_std'</li><li>'sldlen_std'</li></ol>\n"
      ],
      "text/latex": [
       "\\begin{enumerate*}\n",
       "\\item 'n'\n",
       "\\item 'daydom\\_kurt'\n",
       "\\item 'ren\\_prp'\n",
       "\\item 'gibbs\\_kurt'\n",
       "\\item 'sldlen\\_kurt'\n",
       "\\item 'gibbs\\_rng'\n",
       "\\item 'daydom\\_skew'\n",
       "\\item 'daydom\\_rng'\n",
       "\\item 'sldlen\\_rng'\n",
       "\\item 'pdcnt\\_skew'\n",
       "\\item 'daydom\\_mean'\n",
       "\\item 'sldlen\\_skew'\n",
       "\\item 'daydom\\_max'\n",
       "\\item 'daydom\\_std'\n",
       "\\item 'sldlen\\_std'\n",
       "\\end{enumerate*}\n"
      ],
      "text/markdown": [
       "1. 'n'\n",
       "2. 'daydom_kurt'\n",
       "3. 'ren_prp'\n",
       "4. 'gibbs_kurt'\n",
       "5. 'sldlen_kurt'\n",
       "6. 'gibbs_rng'\n",
       "7. 'daydom_skew'\n",
       "8. 'daydom_rng'\n",
       "9. 'sldlen_rng'\n",
       "10. 'pdcnt_skew'\n",
       "11. 'daydom_mean'\n",
       "12. 'sldlen_skew'\n",
       "13. 'daydom_max'\n",
       "14. 'daydom_std'\n",
       "15. 'sldlen_std'\n",
       "\n",
       "\n"
      ],
      "text/plain": [
       " [1] \"n\"           \"daydom_kurt\" \"ren_prp\"     \"gibbs_kurt\"  \"sldlen_kurt\"\n",
       " [6] \"gibbs_rng\"   \"daydom_skew\" \"daydom_rng\"  \"sldlen_rng\"  \"pdcnt_skew\" \n",
       "[11] \"daydom_mean\" \"sldlen_skew\" \"daydom_max\"  \"daydom_std\"  \"sldlen_std\" "
      ]
     },
     "metadata": {},
     "output_type": "display_data"
    }
   ],
   "source": [
    "as.data.frame(importance(model)) %>% arrange(desc(importance(model))) %>% head(15) %>% row.names()"
   ]
  },
  {
   "cell_type": "markdown",
   "metadata": {},
   "source": [
    "### L10"
   ]
  },
  {
   "cell_type": "code",
   "execution_count": 113,
   "metadata": {},
   "outputs": [],
   "source": [
    "library(ranger) "
   ]
  },
  {
   "cell_type": "code",
   "execution_count": 114,
   "metadata": {},
   "outputs": [
    {
     "data": {
      "text/plain": [
       "      Y\n",
       "       l10_agg_glm l10_agg_glm_ALL l10_agg_rf l10_agg_rf_ALL l10_seg_glm\n",
       "  0.01           0               0          0              0           0\n",
       "  0.04           0               0          0              0         144\n",
       "  0.05           0               0          0              0           0\n",
       "  0.08           0               0         70              0           0\n",
       "  0.09           0              65          0              0           0\n",
       "  0.14           0               0          0             42           0\n",
       "  0.18          32               0          0              0           0\n",
       "  0.38           0               0          0              0           0\n",
       "      Y\n",
       "       l10_seg_rf l10_seg2_glm l10_seg2_glm_fb l10_seg2_rf\n",
       "  0.01          0          785               0           0\n",
       "  0.04          0            0               0         145\n",
       "  0.05        108            0               0           0\n",
       "  0.08          0            0               0           0\n",
       "  0.09          0            0               0           0\n",
       "  0.14          0            0               0           0\n",
       "  0.18          0            0               0           0\n",
       "  0.38          0            0              15           0"
      ]
     },
     "metadata": {},
     "output_type": "display_data"
    }
   ],
   "source": [
    "#Compute weights to balance the RF\n",
    "Y = train$l10_win_02\n",
    "w <- 1/table(Y)\n",
    "w <- w/sum(w)\n",
    "\n",
    "for (model in unique(Y)){\n",
    "    weights[Y==model] <- w[model]\n",
    "}\n",
    "table(round(weights,2), Y)"
   ]
  },
  {
   "cell_type": "code",
   "execution_count": 115,
   "metadata": {},
   "outputs": [],
   "source": [
    "model <- ranger(formula         = l10_win_02 ~ ., \n",
    "                data            = train %>% \n",
    "                                    select('l10_win_02') %>% \n",
    "                                    bind_cols(\n",
    "                                        train %>% \n",
    "                                        select(-contains('auc'),-contains('l10'),-'tld_registrar_index', -'tld_rat')), \n",
    "                importance = 'impurity', \n",
    "                num.trees       = 500,\n",
    "                probability = TRUE,\n",
    "                replace = FALSE,\n",
    "                sample.fraction = .8,\n",
    "                seed            = 123,\n",
    "                respect.unordered.factors=TRUE,\n",
    "               case.weights=weights)"
   ]
  },
  {
   "cell_type": "code",
   "execution_count": 116,
   "metadata": {},
   "outputs": [
    {
     "data": {
      "text/html": [
       "<table>\n",
       "<caption>A data.frame: 6 × 10</caption>\n",
       "<thead>\n",
       "\t<tr><th></th><th scope=col>l10_agg_glm</th><th scope=col>l10_agg_glm_ALL</th><th scope=col>l10_agg_rf</th><th scope=col>l10_agg_rf_ALL</th><th scope=col>l10_seg_glm</th><th scope=col>l10_seg_rf</th><th scope=col>l10_seg2_glm</th><th scope=col>l10_seg2_glm_fb</th><th scope=col>l10_seg2_rf</th><th scope=col>l10_win_02</th></tr>\n",
       "\t<tr><th></th><th scope=col>&lt;dbl&gt;</th><th scope=col>&lt;dbl&gt;</th><th scope=col>&lt;dbl&gt;</th><th scope=col>&lt;dbl&gt;</th><th scope=col>&lt;dbl&gt;</th><th scope=col>&lt;dbl&gt;</th><th scope=col>&lt;dbl&gt;</th><th scope=col>&lt;dbl&gt;</th><th scope=col>&lt;dbl&gt;</th><th scope=col>&lt;chr&gt;</th></tr>\n",
       "</thead>\n",
       "<tbody>\n",
       "\t<tr><th scope=row>1</th><td>0.048066667</td><td>0.09298333</td><td>0.022245238</td><td>0.021182540</td><td>0.09063333</td><td>0.046432540</td><td>0.6466413</td><td>0.0080468254</td><td>0.023768254</td><td>l10_seg2_glm</td></tr>\n",
       "\t<tr><th scope=row>2</th><td>0.009120635</td><td>0.06230397</td><td>0.061742857</td><td>0.038887302</td><td>0.08576429</td><td>0.360423810</td><td>0.1424833</td><td>0.0126714286</td><td>0.226602381</td><td>l10_seg_rf  </td></tr>\n",
       "\t<tr><th scope=row>3</th><td>0.019491270</td><td>0.02863889</td><td>0.002463492</td><td>0.000000000</td><td>0.03809048</td><td>0.009307937</td><td>0.9003000</td><td>0.0002500000</td><td>0.001457937</td><td>l10_seg2_glm</td></tr>\n",
       "\t<tr><th scope=row>4</th><td>0.020260317</td><td>0.05893413</td><td>0.029654762</td><td>0.008765079</td><td>0.15065317</td><td>0.059680159</td><td>0.5958444</td><td>0.0272539683</td><td>0.048953968</td><td>l10_seg2_glm</td></tr>\n",
       "\t<tr><th scope=row>5</th><td>0.001400000</td><td>0.05898175</td><td>0.010622222</td><td>0.000000000</td><td>0.12594048</td><td>0.005776984</td><td>0.7951563</td><td>0.0006666667</td><td>0.001455556</td><td>l10_seg2_glm</td></tr>\n",
       "\t<tr><th scope=row>6</th><td>0.011844444</td><td>0.04089444</td><td>0.045336508</td><td>0.039063492</td><td>0.07902302</td><td>0.113579365</td><td>0.4690341</td><td>0.0088396825</td><td>0.192384921</td><td>l10_seg2_glm</td></tr>\n",
       "</tbody>\n",
       "</table>\n"
      ],
      "text/latex": [
       "A data.frame: 6 × 10\n",
       "\\begin{tabular}{r|llllllllll}\n",
       "  & l10\\_agg\\_glm & l10\\_agg\\_glm\\_ALL & l10\\_agg\\_rf & l10\\_agg\\_rf\\_ALL & l10\\_seg\\_glm & l10\\_seg\\_rf & l10\\_seg2\\_glm & l10\\_seg2\\_glm\\_fb & l10\\_seg2\\_rf & l10\\_win\\_02\\\\\n",
       "  & <dbl> & <dbl> & <dbl> & <dbl> & <dbl> & <dbl> & <dbl> & <dbl> & <dbl> & <chr>\\\\\n",
       "\\hline\n",
       "\t1 & 0.048066667 & 0.09298333 & 0.022245238 & 0.021182540 & 0.09063333 & 0.046432540 & 0.6466413 & 0.0080468254 & 0.023768254 & l10\\_seg2\\_glm\\\\\n",
       "\t2 & 0.009120635 & 0.06230397 & 0.061742857 & 0.038887302 & 0.08576429 & 0.360423810 & 0.1424833 & 0.0126714286 & 0.226602381 & l10\\_seg\\_rf  \\\\\n",
       "\t3 & 0.019491270 & 0.02863889 & 0.002463492 & 0.000000000 & 0.03809048 & 0.009307937 & 0.9003000 & 0.0002500000 & 0.001457937 & l10\\_seg2\\_glm\\\\\n",
       "\t4 & 0.020260317 & 0.05893413 & 0.029654762 & 0.008765079 & 0.15065317 & 0.059680159 & 0.5958444 & 0.0272539683 & 0.048953968 & l10\\_seg2\\_glm\\\\\n",
       "\t5 & 0.001400000 & 0.05898175 & 0.010622222 & 0.000000000 & 0.12594048 & 0.005776984 & 0.7951563 & 0.0006666667 & 0.001455556 & l10\\_seg2\\_glm\\\\\n",
       "\t6 & 0.011844444 & 0.04089444 & 0.045336508 & 0.039063492 & 0.07902302 & 0.113579365 & 0.4690341 & 0.0088396825 & 0.192384921 & l10\\_seg2\\_glm\\\\\n",
       "\\end{tabular}\n"
      ],
      "text/markdown": [
       "\n",
       "A data.frame: 6 × 10\n",
       "\n",
       "| <!--/--> | l10_agg_glm &lt;dbl&gt; | l10_agg_glm_ALL &lt;dbl&gt; | l10_agg_rf &lt;dbl&gt; | l10_agg_rf_ALL &lt;dbl&gt; | l10_seg_glm &lt;dbl&gt; | l10_seg_rf &lt;dbl&gt; | l10_seg2_glm &lt;dbl&gt; | l10_seg2_glm_fb &lt;dbl&gt; | l10_seg2_rf &lt;dbl&gt; | l10_win_02 &lt;chr&gt; |\n",
       "|---|---|---|---|---|---|---|---|---|---|---|\n",
       "| 1 | 0.048066667 | 0.09298333 | 0.022245238 | 0.021182540 | 0.09063333 | 0.046432540 | 0.6466413 | 0.0080468254 | 0.023768254 | l10_seg2_glm |\n",
       "| 2 | 0.009120635 | 0.06230397 | 0.061742857 | 0.038887302 | 0.08576429 | 0.360423810 | 0.1424833 | 0.0126714286 | 0.226602381 | l10_seg_rf   |\n",
       "| 3 | 0.019491270 | 0.02863889 | 0.002463492 | 0.000000000 | 0.03809048 | 0.009307937 | 0.9003000 | 0.0002500000 | 0.001457937 | l10_seg2_glm |\n",
       "| 4 | 0.020260317 | 0.05893413 | 0.029654762 | 0.008765079 | 0.15065317 | 0.059680159 | 0.5958444 | 0.0272539683 | 0.048953968 | l10_seg2_glm |\n",
       "| 5 | 0.001400000 | 0.05898175 | 0.010622222 | 0.000000000 | 0.12594048 | 0.005776984 | 0.7951563 | 0.0006666667 | 0.001455556 | l10_seg2_glm |\n",
       "| 6 | 0.011844444 | 0.04089444 | 0.045336508 | 0.039063492 | 0.07902302 | 0.113579365 | 0.4690341 | 0.0088396825 | 0.192384921 | l10_seg2_glm |\n",
       "\n"
      ],
      "text/plain": [
       "  l10_agg_glm l10_agg_glm_ALL l10_agg_rf  l10_agg_rf_ALL l10_seg_glm\n",
       "1 0.048066667 0.09298333      0.022245238 0.021182540    0.09063333 \n",
       "2 0.009120635 0.06230397      0.061742857 0.038887302    0.08576429 \n",
       "3 0.019491270 0.02863889      0.002463492 0.000000000    0.03809048 \n",
       "4 0.020260317 0.05893413      0.029654762 0.008765079    0.15065317 \n",
       "5 0.001400000 0.05898175      0.010622222 0.000000000    0.12594048 \n",
       "6 0.011844444 0.04089444      0.045336508 0.039063492    0.07902302 \n",
       "  l10_seg_rf  l10_seg2_glm l10_seg2_glm_fb l10_seg2_rf l10_win_02  \n",
       "1 0.046432540 0.6466413    0.0080468254    0.023768254 l10_seg2_glm\n",
       "2 0.360423810 0.1424833    0.0126714286    0.226602381 l10_seg_rf  \n",
       "3 0.009307937 0.9003000    0.0002500000    0.001457937 l10_seg2_glm\n",
       "4 0.059680159 0.5958444    0.0272539683    0.048953968 l10_seg2_glm\n",
       "5 0.005776984 0.7951563    0.0006666667    0.001455556 l10_seg2_glm\n",
       "6 0.113579365 0.4690341    0.0088396825    0.192384921 l10_seg2_glm"
      ]
     },
     "metadata": {},
     "output_type": "display_data"
    }
   ],
   "source": [
    "pred <- predict(model, \n",
    "                data = test,\n",
    "                type=\"response\")$predictions\n",
    "\n",
    "pred <- as.data.frame(pred)\n",
    "vars <- names(pred)\n",
    "pred <- pred %>%\n",
    "    mutate (l10_win_02=sapply(apply(.[,c(vars)], \n",
    "                          1, function(x) names(x)[which.max(x)]) , function(s) if (length(s) == 0) NA else paste(s, collapse = \" \")) \n",
    "            ) \n",
    "head(pred)"
   ]
  },
  {
   "cell_type": "code",
   "execution_count": 117,
   "metadata": {},
   "outputs": [
    {
     "data": {
      "text/plain": [
       "                 \n",
       "                  l10_agg_rf l10_agg_rf_ALL l10_seg_glm l10_seg_rf l10_seg2_glm\n",
       "  l10_agg_glm              1              0           0          0            3\n",
       "  l10_agg_glm_ALL          1              0           4          0            7\n",
       "  l10_agg_rf               0              1           1          1            6\n",
       "  l10_agg_rf_ALL           0              0           1          2            2\n",
       "  l10_seg_glm              0              0           5          1           17\n",
       "  l10_seg_rf               1              0           5          9            5\n",
       "  l10_seg2_glm             1              0           6          5          186\n",
       "  l10_seg2_glm_fb          0              0           2          0            3\n",
       "  l10_seg2_rf              0              0           2          3            8\n",
       "                 \n",
       "                  l10_seg2_rf\n",
       "  l10_agg_glm               0\n",
       "  l10_agg_glm_ALL           4\n",
       "  l10_agg_rf                3\n",
       "  l10_agg_rf_ALL            6\n",
       "  l10_seg_glm              11\n",
       "  l10_seg_rf                7\n",
       "  l10_seg2_glm             18\n",
       "  l10_seg2_glm_fb           1\n",
       "  l10_seg2_rf              13"
      ]
     },
     "metadata": {},
     "output_type": "display_data"
    }
   ],
   "source": [
    "xtab <- table(test$l10_win_02, pred$l10_win_02)\n",
    "xtab"
   ]
  },
  {
   "cell_type": "code",
   "execution_count": 118,
   "metadata": {},
   "outputs": [
    {
     "data": {
      "text/plain": [
       "Confusion Matrix and Statistics\n",
       "\n",
       "                 Reference\n",
       "Prediction        l10_agg_glm l10_agg_glm_ALL l10_agg_rf l10_agg_rf_ALL\n",
       "  l10_agg_glm               0               0          1              0\n",
       "  l10_agg_glm_ALL           0               0          1              0\n",
       "  l10_agg_rf                0               0          0              1\n",
       "  l10_agg_rf_ALL            0               0          0              0\n",
       "  l10_seg_glm               0               0          0              0\n",
       "  l10_seg_rf                0               0          1              0\n",
       "  l10_seg2_glm              0               0          1              0\n",
       "  l10_seg2_glm_fb           0               0          0              0\n",
       "  l10_seg2_rf               0               0          0              0\n",
       "                 Reference\n",
       "Prediction        l10_seg_glm l10_seg_rf l10_seg2_glm l10_seg2_glm_fb\n",
       "  l10_agg_glm               0          0            3               0\n",
       "  l10_agg_glm_ALL           4          0            7               0\n",
       "  l10_agg_rf                1          1            6               0\n",
       "  l10_agg_rf_ALL            1          2            2               0\n",
       "  l10_seg_glm               5          1           17               0\n",
       "  l10_seg_rf                5          9            5               0\n",
       "  l10_seg2_glm              6          5          186               0\n",
       "  l10_seg2_glm_fb           2          0            3               0\n",
       "  l10_seg2_rf               2          3            8               0\n",
       "                 Reference\n",
       "Prediction        l10_seg2_rf\n",
       "  l10_agg_glm               0\n",
       "  l10_agg_glm_ALL           4\n",
       "  l10_agg_rf                3\n",
       "  l10_agg_rf_ALL            6\n",
       "  l10_seg_glm              11\n",
       "  l10_seg_rf                7\n",
       "  l10_seg2_glm             18\n",
       "  l10_seg2_glm_fb           1\n",
       "  l10_seg2_rf              13\n",
       "\n",
       "Overall Statistics\n",
       "                                          \n",
       "               Accuracy : 0.6051          \n",
       "                 95% CI : (0.5519, 0.6565)\n",
       "    No Information Rate : 0.6733          \n",
       "    P-Value [Acc > NIR] : 0.997           \n",
       "                                          \n",
       "                  Kappa : 0.2966          \n",
       "                                          \n",
       " Mcnemar's Test P-Value : NA              \n",
       "\n",
       "Statistics by Class:\n",
       "\n",
       "                     Class: l10_agg_glm Class: l10_agg_glm_ALL\n",
       "Sensitivity                          NA                     NA\n",
       "Specificity                     0.98864                0.95455\n",
       "Pos Pred Value                       NA                     NA\n",
       "Neg Pred Value                       NA                     NA\n",
       "Prevalence                      0.00000                0.00000\n",
       "Detection Rate                  0.00000                0.00000\n",
       "Detection Prevalence            0.01136                0.04545\n",
       "Balanced Accuracy                    NA                     NA\n",
       "                     Class: l10_agg_rf Class: l10_agg_rf_ALL Class: l10_seg_glm\n",
       "Sensitivity                    0.00000              0.000000            0.19231\n",
       "Specificity                    0.96552              0.968661            0.91104\n",
       "Pos Pred Value                 0.00000              0.000000            0.14706\n",
       "Neg Pred Value                 0.98824              0.997067            0.93396\n",
       "Prevalence                     0.01136              0.002841            0.07386\n",
       "Detection Rate                 0.00000              0.000000            0.01420\n",
       "Detection Prevalence           0.03409              0.031250            0.09659\n",
       "Balanced Accuracy              0.48276              0.484330            0.55168\n",
       "                     Class: l10_seg_rf Class: l10_seg2_glm\n",
       "Sensitivity                    0.42857              0.7848\n",
       "Specificity                    0.94562              0.7391\n",
       "Pos Pred Value                 0.33333              0.8611\n",
       "Neg Pred Value                 0.96308              0.6250\n",
       "Prevalence                     0.05966              0.6733\n",
       "Detection Rate                 0.02557              0.5284\n",
       "Detection Prevalence           0.07670              0.6136\n",
       "Balanced Accuracy              0.68710              0.7620\n",
       "                     Class: l10_seg2_glm_fb Class: l10_seg2_rf\n",
       "Sensitivity                              NA            0.20635\n",
       "Specificity                         0.98295            0.95502\n",
       "Pos Pred Value                           NA            0.50000\n",
       "Neg Pred Value                           NA            0.84663\n",
       "Prevalence                          0.00000            0.17898\n",
       "Detection Rate                      0.00000            0.03693\n",
       "Detection Prevalence                0.01705            0.07386\n",
       "Balanced Accuracy                        NA            0.58068"
      ]
     },
     "metadata": {},
     "output_type": "display_data"
    }
   ],
   "source": [
    "confusionMatrix(data=factor(test$l10_win_02), reference=factor(pred$l10_win_02, levels=levels(factor(test$l10_win_02))))"
   ]
  },
  {
   "cell_type": "code",
   "execution_count": 119,
   "metadata": {},
   "outputs": [
    {
     "data": {
      "text/plain": [
       "\n",
       "    l10_agg_glm l10_agg_glm_ALL      l10_agg_rf  l10_agg_rf_ALL     l10_seg_glm \n",
       "              4              16              12              11              34 \n",
       "     l10_seg_rf    l10_seg2_glm l10_seg2_glm_fb     l10_seg2_rf \n",
       "             27             216               6              26 "
      ]
     },
     "metadata": {},
     "output_type": "display_data"
    }
   ],
   "source": [
    "table(test$l10_win_02)"
   ]
  },
  {
   "cell_type": "code",
   "execution_count": 120,
   "metadata": {},
   "outputs": [
    {
     "data": {
      "text/plain": [
       "\n",
       "    l10_agg_rf l10_agg_rf_ALL    l10_seg_glm     l10_seg_rf   l10_seg2_glm \n",
       "   0.011363636    0.002840909    0.073863636    0.059659091    0.673295455 \n",
       "   l10_seg2_rf \n",
       "   0.178977273 "
      ]
     },
     "metadata": {},
     "output_type": "display_data"
    }
   ],
   "source": [
    "prop.table(table(pred$l10_win_02))"
   ]
  },
  {
   "cell_type": "code",
   "execution_count": 121,
   "metadata": {},
   "outputs": [
    {
     "data": {
      "text/html": [
       "<table>\n",
       "<caption>A data.frame: 15 × 1</caption>\n",
       "<thead>\n",
       "\t<tr><th></th><th scope=col>importance(model)</th></tr>\n",
       "\t<tr><th></th><th scope=col>&lt;dbl&gt;</th></tr>\n",
       "</thead>\n",
       "<tbody>\n",
       "\t<tr><th scope=row>n</th><td>33.01026</td></tr>\n",
       "\t<tr><th scope=row>sldlen_kurt</th><td>25.93684</td></tr>\n",
       "\t<tr><th scope=row>ren_prp</th><td>22.14545</td></tr>\n",
       "\t<tr><th scope=row>daydom_kurt</th><td>20.59656</td></tr>\n",
       "\t<tr><th scope=row>gibbs_rng</th><td>19.74348</td></tr>\n",
       "\t<tr><th scope=row>gibbs_kurt</th><td>19.27463</td></tr>\n",
       "\t<tr><th scope=row>sldlen_rng</th><td>16.47418</td></tr>\n",
       "\t<tr><th scope=row>daydom_rng</th><td>16.16639</td></tr>\n",
       "\t<tr><th scope=row>gibbs_max</th><td>16.02201</td></tr>\n",
       "\t<tr><th scope=row>pdcnt_skew</th><td>15.77719</td></tr>\n",
       "\t<tr><th scope=row>sldlen_skew</th><td>14.24254</td></tr>\n",
       "\t<tr><th scope=row>daydom_max</th><td>13.66884</td></tr>\n",
       "\t<tr><th scope=row>pdcnt_kurt</th><td>13.08381</td></tr>\n",
       "\t<tr><th scope=row>daydom_skew</th><td>13.06739</td></tr>\n",
       "\t<tr><th scope=row>gibbs_skew</th><td>12.64509</td></tr>\n",
       "</tbody>\n",
       "</table>\n"
      ],
      "text/latex": [
       "A data.frame: 15 × 1\n",
       "\\begin{tabular}{r|l}\n",
       "  & importance(model)\\\\\n",
       "  & <dbl>\\\\\n",
       "\\hline\n",
       "\tn & 33.01026\\\\\n",
       "\tsldlen\\_kurt & 25.93684\\\\\n",
       "\tren\\_prp & 22.14545\\\\\n",
       "\tdaydom\\_kurt & 20.59656\\\\\n",
       "\tgibbs\\_rng & 19.74348\\\\\n",
       "\tgibbs\\_kurt & 19.27463\\\\\n",
       "\tsldlen\\_rng & 16.47418\\\\\n",
       "\tdaydom\\_rng & 16.16639\\\\\n",
       "\tgibbs\\_max & 16.02201\\\\\n",
       "\tpdcnt\\_skew & 15.77719\\\\\n",
       "\tsldlen\\_skew & 14.24254\\\\\n",
       "\tdaydom\\_max & 13.66884\\\\\n",
       "\tpdcnt\\_kurt & 13.08381\\\\\n",
       "\tdaydom\\_skew & 13.06739\\\\\n",
       "\tgibbs\\_skew & 12.64509\\\\\n",
       "\\end{tabular}\n"
      ],
      "text/markdown": [
       "\n",
       "A data.frame: 15 × 1\n",
       "\n",
       "| <!--/--> | importance(model) &lt;dbl&gt; |\n",
       "|---|---|\n",
       "| n | 33.01026 |\n",
       "| sldlen_kurt | 25.93684 |\n",
       "| ren_prp | 22.14545 |\n",
       "| daydom_kurt | 20.59656 |\n",
       "| gibbs_rng | 19.74348 |\n",
       "| gibbs_kurt | 19.27463 |\n",
       "| sldlen_rng | 16.47418 |\n",
       "| daydom_rng | 16.16639 |\n",
       "| gibbs_max | 16.02201 |\n",
       "| pdcnt_skew | 15.77719 |\n",
       "| sldlen_skew | 14.24254 |\n",
       "| daydom_max | 13.66884 |\n",
       "| pdcnt_kurt | 13.08381 |\n",
       "| daydom_skew | 13.06739 |\n",
       "| gibbs_skew | 12.64509 |\n",
       "\n"
      ],
      "text/plain": [
       "            importance(model)\n",
       "n           33.01026         \n",
       "sldlen_kurt 25.93684         \n",
       "ren_prp     22.14545         \n",
       "daydom_kurt 20.59656         \n",
       "gibbs_rng   19.74348         \n",
       "gibbs_kurt  19.27463         \n",
       "sldlen_rng  16.47418         \n",
       "daydom_rng  16.16639         \n",
       "gibbs_max   16.02201         \n",
       "pdcnt_skew  15.77719         \n",
       "sldlen_skew 14.24254         \n",
       "daydom_max  13.66884         \n",
       "pdcnt_kurt  13.08381         \n",
       "daydom_skew 13.06739         \n",
       "gibbs_skew  12.64509         "
      ]
     },
     "metadata": {},
     "output_type": "display_data"
    }
   ],
   "source": [
    "as.data.frame(importance(model)) %>% arrange(desc(importance(model))) %>% head(15)"
   ]
  },
  {
   "cell_type": "code",
   "execution_count": 122,
   "metadata": {},
   "outputs": [
    {
     "data": {
      "text/html": [
       "<style>\n",
       ".list-inline {list-style: none; margin:0; padding: 0}\n",
       ".list-inline>li {display: inline-block}\n",
       ".list-inline>li:not(:last-child)::after {content: \"\\00b7\"; padding: 0 .5ex}\n",
       "</style>\n",
       "<ol class=list-inline><li>'n'</li><li>'sldlen_kurt'</li><li>'ren_prp'</li><li>'daydom_kurt'</li><li>'gibbs_rng'</li><li>'gibbs_kurt'</li><li>'sldlen_rng'</li><li>'daydom_rng'</li><li>'gibbs_max'</li><li>'pdcnt_skew'</li><li>'sldlen_skew'</li><li>'daydom_max'</li><li>'pdcnt_kurt'</li><li>'daydom_skew'</li><li>'gibbs_skew'</li></ol>\n"
      ],
      "text/latex": [
       "\\begin{enumerate*}\n",
       "\\item 'n'\n",
       "\\item 'sldlen\\_kurt'\n",
       "\\item 'ren\\_prp'\n",
       "\\item 'daydom\\_kurt'\n",
       "\\item 'gibbs\\_rng'\n",
       "\\item 'gibbs\\_kurt'\n",
       "\\item 'sldlen\\_rng'\n",
       "\\item 'daydom\\_rng'\n",
       "\\item 'gibbs\\_max'\n",
       "\\item 'pdcnt\\_skew'\n",
       "\\item 'sldlen\\_skew'\n",
       "\\item 'daydom\\_max'\n",
       "\\item 'pdcnt\\_kurt'\n",
       "\\item 'daydom\\_skew'\n",
       "\\item 'gibbs\\_skew'\n",
       "\\end{enumerate*}\n"
      ],
      "text/markdown": [
       "1. 'n'\n",
       "2. 'sldlen_kurt'\n",
       "3. 'ren_prp'\n",
       "4. 'daydom_kurt'\n",
       "5. 'gibbs_rng'\n",
       "6. 'gibbs_kurt'\n",
       "7. 'sldlen_rng'\n",
       "8. 'daydom_rng'\n",
       "9. 'gibbs_max'\n",
       "10. 'pdcnt_skew'\n",
       "11. 'sldlen_skew'\n",
       "12. 'daydom_max'\n",
       "13. 'pdcnt_kurt'\n",
       "14. 'daydom_skew'\n",
       "15. 'gibbs_skew'\n",
       "\n",
       "\n"
      ],
      "text/plain": [
       " [1] \"n\"           \"sldlen_kurt\" \"ren_prp\"     \"daydom_kurt\" \"gibbs_rng\"  \n",
       " [6] \"gibbs_kurt\"  \"sldlen_rng\"  \"daydom_rng\"  \"gibbs_max\"   \"pdcnt_skew\" \n",
       "[11] \"sldlen_skew\" \"daydom_max\"  \"pdcnt_kurt\"  \"daydom_skew\" \"gibbs_skew\" "
      ]
     },
     "metadata": {},
     "output_type": "display_data"
    }
   ],
   "source": [
    "as.data.frame(importance(model)) %>% arrange(desc(importance(model))) %>% head(15) %>% row.names()"
   ]
  },
  {
   "cell_type": "markdown",
   "metadata": {},
   "source": [
    "# RF BINARY w/ auc_win_03"
   ]
  },
  {
   "cell_type": "markdown",
   "metadata": {},
   "source": [
    "## RF binary auc"
   ]
  },
  {
   "cell_type": "code",
   "execution_count": 123,
   "metadata": {},
   "outputs": [],
   "source": [
    "library(ranger) "
   ]
  },
  {
   "cell_type": "code",
   "execution_count": 124,
   "metadata": {},
   "outputs": [
    {
     "data": {
      "text/plain": [
       "      Y\n",
       "       auc_seg2_glm auc_seg2_glm_fb\n",
       "  0.15         1196               0\n",
       "  0.85            0             210"
      ]
     },
     "metadata": {},
     "output_type": "display_data"
    }
   ],
   "source": [
    "#Compute weights to balance the RF\n",
    "Y = train$auc_win_03\n",
    "w <- 1/table(Y)\n",
    "w <- w/sum(w)\n",
    "\n",
    "\n",
    "weights <- rep(0, length(Y))\n",
    "\n",
    "for (model in unique(Y)){\n",
    "    weights[Y==model] <- w[model]\n",
    "}\n",
    "table(round(weights,2), Y)"
   ]
  },
  {
   "cell_type": "code",
   "execution_count": 125,
   "metadata": {},
   "outputs": [],
   "source": [
    "model <- ranger(formula         = auc_win_03 ~ ., \n",
    "                data            = train %>% \n",
    "                                    select('auc_win_03') %>% \n",
    "                                    bind_cols(\n",
    "                                        train %>% \n",
    "                                        select(-contains('auc'),-contains('l10'),-'tld_registrar_index', -'tld_rat')), \n",
    "                importance = 'impurity', \n",
    "                num.trees       = 500,\n",
    "                probability = TRUE,\n",
    "                replace = FALSE,\n",
    "                sample.fraction = .8,\n",
    "                seed            = 123,\n",
    "                respect.unordered.factors=TRUE,\n",
    "               case.weights=weights)"
   ]
  },
  {
   "cell_type": "code",
   "execution_count": 126,
   "metadata": {},
   "outputs": [
    {
     "data": {
      "text/html": [
       "<table>\n",
       "<caption>A data.frame: 6 × 3</caption>\n",
       "<thead>\n",
       "\t<tr><th></th><th scope=col>auc_seg2_glm</th><th scope=col>auc_seg2_glm_fb</th><th scope=col>auc_win_03</th></tr>\n",
       "\t<tr><th></th><th scope=col>&lt;dbl&gt;</th><th scope=col>&lt;dbl&gt;</th><th scope=col>&lt;chr&gt;</th></tr>\n",
       "</thead>\n",
       "<tbody>\n",
       "\t<tr><th scope=row>1</th><td>0.7097966</td><td>0.29020339</td><td>auc_seg2_glm   </td></tr>\n",
       "\t<tr><th scope=row>2</th><td>0.8152786</td><td>0.18472143</td><td>auc_seg2_glm   </td></tr>\n",
       "\t<tr><th scope=row>3</th><td>0.9587238</td><td>0.04127619</td><td>auc_seg2_glm   </td></tr>\n",
       "\t<tr><th scope=row>4</th><td>0.4679437</td><td>0.53205635</td><td>auc_seg2_glm_fb</td></tr>\n",
       "\t<tr><th scope=row>5</th><td>0.9332397</td><td>0.06676032</td><td>auc_seg2_glm   </td></tr>\n",
       "\t<tr><th scope=row>6</th><td>0.9632516</td><td>0.03674841</td><td>auc_seg2_glm   </td></tr>\n",
       "</tbody>\n",
       "</table>\n"
      ],
      "text/latex": [
       "A data.frame: 6 × 3\n",
       "\\begin{tabular}{r|lll}\n",
       "  & auc\\_seg2\\_glm & auc\\_seg2\\_glm\\_fb & auc\\_win\\_03\\\\\n",
       "  & <dbl> & <dbl> & <chr>\\\\\n",
       "\\hline\n",
       "\t1 & 0.7097966 & 0.29020339 & auc\\_seg2\\_glm   \\\\\n",
       "\t2 & 0.8152786 & 0.18472143 & auc\\_seg2\\_glm   \\\\\n",
       "\t3 & 0.9587238 & 0.04127619 & auc\\_seg2\\_glm   \\\\\n",
       "\t4 & 0.4679437 & 0.53205635 & auc\\_seg2\\_glm\\_fb\\\\\n",
       "\t5 & 0.9332397 & 0.06676032 & auc\\_seg2\\_glm   \\\\\n",
       "\t6 & 0.9632516 & 0.03674841 & auc\\_seg2\\_glm   \\\\\n",
       "\\end{tabular}\n"
      ],
      "text/markdown": [
       "\n",
       "A data.frame: 6 × 3\n",
       "\n",
       "| <!--/--> | auc_seg2_glm &lt;dbl&gt; | auc_seg2_glm_fb &lt;dbl&gt; | auc_win_03 &lt;chr&gt; |\n",
       "|---|---|---|---|\n",
       "| 1 | 0.7097966 | 0.29020339 | auc_seg2_glm    |\n",
       "| 2 | 0.8152786 | 0.18472143 | auc_seg2_glm    |\n",
       "| 3 | 0.9587238 | 0.04127619 | auc_seg2_glm    |\n",
       "| 4 | 0.4679437 | 0.53205635 | auc_seg2_glm_fb |\n",
       "| 5 | 0.9332397 | 0.06676032 | auc_seg2_glm    |\n",
       "| 6 | 0.9632516 | 0.03674841 | auc_seg2_glm    |\n",
       "\n"
      ],
      "text/plain": [
       "  auc_seg2_glm auc_seg2_glm_fb auc_win_03     \n",
       "1 0.7097966    0.29020339      auc_seg2_glm   \n",
       "2 0.8152786    0.18472143      auc_seg2_glm   \n",
       "3 0.9587238    0.04127619      auc_seg2_glm   \n",
       "4 0.4679437    0.53205635      auc_seg2_glm_fb\n",
       "5 0.9332397    0.06676032      auc_seg2_glm   \n",
       "6 0.9632516    0.03674841      auc_seg2_glm   "
      ]
     },
     "metadata": {},
     "output_type": "display_data"
    }
   ],
   "source": [
    "pred <- predict(model, \n",
    "                data = test,\n",
    "                type=\"response\")$predictions\n",
    "\n",
    "pred <- as.data.frame(pred)\n",
    "auc_vars <- names(pred)\n",
    "pred <- pred %>%\n",
    "    mutate (auc_win_03=sapply(apply(.[,c(auc_vars)], \n",
    "                          1, function(x) names(x)[which.max(x)]) , \n",
    "                                    function(s) if (length(s) == 0) NA else paste(s, collapse = \" \")) \n",
    "            ) \n",
    "head(pred)"
   ]
  },
  {
   "cell_type": "code",
   "execution_count": 127,
   "metadata": {},
   "outputs": [
    {
     "data": {
      "text/plain": [
       "\n",
       "   auc_seg2_glm auc_seg2_glm_fb \n",
       "     0.94886364      0.05113636 "
      ]
     },
     "metadata": {},
     "output_type": "display_data"
    }
   ],
   "source": [
    "prop.table(table(pred$auc_win_03))"
   ]
  },
  {
   "cell_type": "code",
   "execution_count": 128,
   "metadata": {},
   "outputs": [
    {
     "data": {
      "text/plain": [
       "                 \n",
       "                  auc_seg2_glm auc_seg2_glm_fb\n",
       "  auc_agg_rf_ALL           152               9\n",
       "  auc_seg2_glm_fb          182               9"
      ]
     },
     "metadata": {},
     "output_type": "display_data"
    }
   ],
   "source": [
    "xtab <- table(test$auc_win_01, pred$auc_win_03)\n",
    "xtab"
   ]
  },
  {
   "cell_type": "code",
   "execution_count": 129,
   "metadata": {},
   "outputs": [
    {
     "data": {
      "text/plain": [
       "Confusion Matrix and Statistics\n",
       "\n",
       "                 Reference\n",
       "Prediction        auc_seg2_glm auc_seg2_glm_fb\n",
       "  auc_seg2_glm             292               9\n",
       "  auc_seg2_glm_fb           42               9\n",
       "                                          \n",
       "               Accuracy : 0.8551          \n",
       "                 95% CI : (0.8139, 0.8902)\n",
       "    No Information Rate : 0.9489          \n",
       "    P-Value [Acc > NIR] : 1               \n",
       "                                          \n",
       "                  Kappa : 0.2004          \n",
       "                                          \n",
       " Mcnemar's Test P-Value : 7.433e-06       \n",
       "                                          \n",
       "            Sensitivity : 0.8743          \n",
       "            Specificity : 0.5000          \n",
       "         Pos Pred Value : 0.9701          \n",
       "         Neg Pred Value : 0.1765          \n",
       "             Prevalence : 0.9489          \n",
       "         Detection Rate : 0.8295          \n",
       "   Detection Prevalence : 0.8551          \n",
       "      Balanced Accuracy : 0.6871          \n",
       "                                          \n",
       "       'Positive' Class : auc_seg2_glm    \n",
       "                                          "
      ]
     },
     "metadata": {},
     "output_type": "display_data"
    }
   ],
   "source": [
    "confusionMatrix(data=factor(test$auc_win_03), \n",
    "                reference=factor(pred$auc_win_03, levels=levels(factor(test$auc_win_03))))"
   ]
  },
  {
   "cell_type": "code",
   "execution_count": 130,
   "metadata": {},
   "outputs": [
    {
     "data": {
      "text/html": [
       "<table>\n",
       "<caption>A data.frame: 15 × 1</caption>\n",
       "<thead>\n",
       "\t<tr><th></th><th scope=col>importance(model)</th></tr>\n",
       "\t<tr><th></th><th scope=col>&lt;dbl&gt;</th></tr>\n",
       "</thead>\n",
       "<tbody>\n",
       "\t<tr><th scope=row>ren_prp</th><td>15.867986</td></tr>\n",
       "\t<tr><th scope=row>n</th><td>14.952321</td></tr>\n",
       "\t<tr><th scope=row>country_maj</th><td>11.163850</td></tr>\n",
       "\t<tr><th scope=row>gibbs_rng</th><td> 9.143235</td></tr>\n",
       "\t<tr><th scope=row>daydom_std</th><td> 9.099992</td></tr>\n",
       "\t<tr><th scope=row>daydom_mean</th><td> 8.776538</td></tr>\n",
       "\t<tr><th scope=row>sldlen_kurt</th><td> 8.280089</td></tr>\n",
       "\t<tr><th scope=row>daydom_skew</th><td> 8.192899</td></tr>\n",
       "\t<tr><th scope=row>daydom_kurt</th><td> 8.169994</td></tr>\n",
       "\t<tr><th scope=row>gibbs_skew</th><td> 7.973472</td></tr>\n",
       "\t<tr><th scope=row>sldlen_rng</th><td> 7.849386</td></tr>\n",
       "\t<tr><th scope=row>gibbs_kurt</th><td> 7.770192</td></tr>\n",
       "\t<tr><th scope=row>regarpt_skew</th><td> 7.513477</td></tr>\n",
       "\t<tr><th scope=row>sldlen_std</th><td> 7.241314</td></tr>\n",
       "\t<tr><th scope=row>pdcnt_skew</th><td> 7.067413</td></tr>\n",
       "</tbody>\n",
       "</table>\n"
      ],
      "text/latex": [
       "A data.frame: 15 × 1\n",
       "\\begin{tabular}{r|l}\n",
       "  & importance(model)\\\\\n",
       "  & <dbl>\\\\\n",
       "\\hline\n",
       "\tren\\_prp & 15.867986\\\\\n",
       "\tn & 14.952321\\\\\n",
       "\tcountry\\_maj & 11.163850\\\\\n",
       "\tgibbs\\_rng &  9.143235\\\\\n",
       "\tdaydom\\_std &  9.099992\\\\\n",
       "\tdaydom\\_mean &  8.776538\\\\\n",
       "\tsldlen\\_kurt &  8.280089\\\\\n",
       "\tdaydom\\_skew &  8.192899\\\\\n",
       "\tdaydom\\_kurt &  8.169994\\\\\n",
       "\tgibbs\\_skew &  7.973472\\\\\n",
       "\tsldlen\\_rng &  7.849386\\\\\n",
       "\tgibbs\\_kurt &  7.770192\\\\\n",
       "\tregarpt\\_skew &  7.513477\\\\\n",
       "\tsldlen\\_std &  7.241314\\\\\n",
       "\tpdcnt\\_skew &  7.067413\\\\\n",
       "\\end{tabular}\n"
      ],
      "text/markdown": [
       "\n",
       "A data.frame: 15 × 1\n",
       "\n",
       "| <!--/--> | importance(model) &lt;dbl&gt; |\n",
       "|---|---|\n",
       "| ren_prp | 15.867986 |\n",
       "| n | 14.952321 |\n",
       "| country_maj | 11.163850 |\n",
       "| gibbs_rng |  9.143235 |\n",
       "| daydom_std |  9.099992 |\n",
       "| daydom_mean |  8.776538 |\n",
       "| sldlen_kurt |  8.280089 |\n",
       "| daydom_skew |  8.192899 |\n",
       "| daydom_kurt |  8.169994 |\n",
       "| gibbs_skew |  7.973472 |\n",
       "| sldlen_rng |  7.849386 |\n",
       "| gibbs_kurt |  7.770192 |\n",
       "| regarpt_skew |  7.513477 |\n",
       "| sldlen_std |  7.241314 |\n",
       "| pdcnt_skew |  7.067413 |\n",
       "\n"
      ],
      "text/plain": [
       "             importance(model)\n",
       "ren_prp      15.867986        \n",
       "n            14.952321        \n",
       "country_maj  11.163850        \n",
       "gibbs_rng     9.143235        \n",
       "daydom_std    9.099992        \n",
       "daydom_mean   8.776538        \n",
       "sldlen_kurt   8.280089        \n",
       "daydom_skew   8.192899        \n",
       "daydom_kurt   8.169994        \n",
       "gibbs_skew    7.973472        \n",
       "sldlen_rng    7.849386        \n",
       "gibbs_kurt    7.770192        \n",
       "regarpt_skew  7.513477        \n",
       "sldlen_std    7.241314        \n",
       "pdcnt_skew    7.067413        "
      ]
     },
     "metadata": {},
     "output_type": "display_data"
    }
   ],
   "source": [
    "as.data.frame(importance(model)) %>% arrange(desc(importance(model))) %>% head(15)"
   ]
  },
  {
   "cell_type": "code",
   "execution_count": 131,
   "metadata": {},
   "outputs": [
    {
     "data": {
      "text/html": [
       "<style>\n",
       ".list-inline {list-style: none; margin:0; padding: 0}\n",
       ".list-inline>li {display: inline-block}\n",
       ".list-inline>li:not(:last-child)::after {content: \"\\00b7\"; padding: 0 .5ex}\n",
       "</style>\n",
       "<ol class=list-inline><li>'ren_prp'</li><li>'n'</li><li>'country_maj'</li><li>'gibbs_rng'</li><li>'daydom_std'</li></ol>\n"
      ],
      "text/latex": [
       "\\begin{enumerate*}\n",
       "\\item 'ren\\_prp'\n",
       "\\item 'n'\n",
       "\\item 'country\\_maj'\n",
       "\\item 'gibbs\\_rng'\n",
       "\\item 'daydom\\_std'\n",
       "\\end{enumerate*}\n"
      ],
      "text/markdown": [
       "1. 'ren_prp'\n",
       "2. 'n'\n",
       "3. 'country_maj'\n",
       "4. 'gibbs_rng'\n",
       "5. 'daydom_std'\n",
       "\n",
       "\n"
      ],
      "text/plain": [
       "[1] \"ren_prp\"     \"n\"           \"country_maj\" \"gibbs_rng\"   \"daydom_std\" "
      ]
     },
     "metadata": {},
     "output_type": "display_data"
    }
   ],
   "source": [
    "as.data.frame(importance(model)) %>% arrange(desc(importance(model))) %>% head(5) %>% row.names"
   ]
  },
  {
   "cell_type": "markdown",
   "metadata": {},
   "source": [
    "## RF binary l10"
   ]
  },
  {
   "cell_type": "code",
   "execution_count": 132,
   "metadata": {},
   "outputs": [],
   "source": [
    "library(ranger) "
   ]
  },
  {
   "cell_type": "code",
   "execution_count": 133,
   "metadata": {},
   "outputs": [
    {
     "data": {
      "text/plain": [
       "     Y\n",
       "      l10_seg2_glm l10_seg2_glm_fb\n",
       "  0.1         1268               0\n",
       "  0.9            0             138"
      ]
     },
     "metadata": {},
     "output_type": "display_data"
    }
   ],
   "source": [
    "#Compute weights to balance the RF\n",
    "Y = train$l10_win_03\n",
    "w <- 1/table(Y)\n",
    "w <- w/sum(w)\n",
    "\n",
    "weights <- rep(0, length(Y))\n",
    "\n",
    "for (model in unique(Y)){\n",
    "    weights[Y==model] <- w[model]\n",
    "}\n",
    "table(round(weights,2), Y)"
   ]
  },
  {
   "cell_type": "code",
   "execution_count": 134,
   "metadata": {},
   "outputs": [],
   "source": [
    "model <- ranger(formula         = l10_win_03 ~ ., \n",
    "                data            = train %>% \n",
    "                                    select('l10_win_03') %>% \n",
    "                                    bind_cols(\n",
    "                                        train %>% \n",
    "                                        select(-contains('auc'),-contains('l10'),-'tld_registrar_index', -'tld_rat')), \n",
    "                importance = 'impurity', \n",
    "                num.trees       = 500,\n",
    "                probability = TRUE,\n",
    "                replace = FALSE,\n",
    "                sample.fraction = .8,\n",
    "                seed            = 123,\n",
    "                respect.unordered.factors=TRUE,\n",
    "               case.weights=weights)"
   ]
  },
  {
   "cell_type": "code",
   "execution_count": 135,
   "metadata": {},
   "outputs": [
    {
     "data": {
      "text/html": [
       "<table>\n",
       "<caption>A data.frame: 6 × 3</caption>\n",
       "<thead>\n",
       "\t<tr><th></th><th scope=col>l10_seg2_glm</th><th scope=col>l10_seg2_glm_fb</th><th scope=col>l10_win_03</th></tr>\n",
       "\t<tr><th></th><th scope=col>&lt;dbl&gt;</th><th scope=col>&lt;dbl&gt;</th><th scope=col>&lt;chr&gt;</th></tr>\n",
       "</thead>\n",
       "<tbody>\n",
       "\t<tr><th scope=row>1</th><td>0.8864532</td><td>0.11354683</td><td>l10_seg2_glm</td></tr>\n",
       "\t<tr><th scope=row>2</th><td>0.9599079</td><td>0.04009206</td><td>l10_seg2_glm</td></tr>\n",
       "\t<tr><th scope=row>3</th><td>0.9529960</td><td>0.04700397</td><td>l10_seg2_glm</td></tr>\n",
       "\t<tr><th scope=row>4</th><td>0.7308016</td><td>0.26919841</td><td>l10_seg2_glm</td></tr>\n",
       "\t<tr><th scope=row>5</th><td>0.9325913</td><td>0.06740873</td><td>l10_seg2_glm</td></tr>\n",
       "\t<tr><th scope=row>6</th><td>0.9689032</td><td>0.03109683</td><td>l10_seg2_glm</td></tr>\n",
       "</tbody>\n",
       "</table>\n"
      ],
      "text/latex": [
       "A data.frame: 6 × 3\n",
       "\\begin{tabular}{r|lll}\n",
       "  & l10\\_seg2\\_glm & l10\\_seg2\\_glm\\_fb & l10\\_win\\_03\\\\\n",
       "  & <dbl> & <dbl> & <chr>\\\\\n",
       "\\hline\n",
       "\t1 & 0.8864532 & 0.11354683 & l10\\_seg2\\_glm\\\\\n",
       "\t2 & 0.9599079 & 0.04009206 & l10\\_seg2\\_glm\\\\\n",
       "\t3 & 0.9529960 & 0.04700397 & l10\\_seg2\\_glm\\\\\n",
       "\t4 & 0.7308016 & 0.26919841 & l10\\_seg2\\_glm\\\\\n",
       "\t5 & 0.9325913 & 0.06740873 & l10\\_seg2\\_glm\\\\\n",
       "\t6 & 0.9689032 & 0.03109683 & l10\\_seg2\\_glm\\\\\n",
       "\\end{tabular}\n"
      ],
      "text/markdown": [
       "\n",
       "A data.frame: 6 × 3\n",
       "\n",
       "| <!--/--> | l10_seg2_glm &lt;dbl&gt; | l10_seg2_glm_fb &lt;dbl&gt; | l10_win_03 &lt;chr&gt; |\n",
       "|---|---|---|---|\n",
       "| 1 | 0.8864532 | 0.11354683 | l10_seg2_glm |\n",
       "| 2 | 0.9599079 | 0.04009206 | l10_seg2_glm |\n",
       "| 3 | 0.9529960 | 0.04700397 | l10_seg2_glm |\n",
       "| 4 | 0.7308016 | 0.26919841 | l10_seg2_glm |\n",
       "| 5 | 0.9325913 | 0.06740873 | l10_seg2_glm |\n",
       "| 6 | 0.9689032 | 0.03109683 | l10_seg2_glm |\n",
       "\n"
      ],
      "text/plain": [
       "  l10_seg2_glm l10_seg2_glm_fb l10_win_03  \n",
       "1 0.8864532    0.11354683      l10_seg2_glm\n",
       "2 0.9599079    0.04009206      l10_seg2_glm\n",
       "3 0.9529960    0.04700397      l10_seg2_glm\n",
       "4 0.7308016    0.26919841      l10_seg2_glm\n",
       "5 0.9325913    0.06740873      l10_seg2_glm\n",
       "6 0.9689032    0.03109683      l10_seg2_glm"
      ]
     },
     "metadata": {},
     "output_type": "display_data"
    }
   ],
   "source": [
    "pred <- predict(model, \n",
    "                data = test,\n",
    "                type=\"response\")$predictions\n",
    "\n",
    "pred <- as.data.frame(pred)\n",
    "auc_vars <- names(pred)\n",
    "pred <- pred %>%\n",
    "    mutate (l10_win_03=sapply(apply(.[,c(auc_vars)], \n",
    "                          1, function(x) names(x)[which.max(x)]) , \n",
    "                                    function(s) if (length(s) == 0) NA else paste(s, collapse = \" \")) \n",
    "            ) \n",
    "head(pred)"
   ]
  },
  {
   "cell_type": "code",
   "execution_count": 136,
   "metadata": {},
   "outputs": [
    {
     "data": {
      "text/plain": [
       "\n",
       "   l10_seg2_glm l10_seg2_glm_fb \n",
       "     0.98863636      0.01136364 "
      ]
     },
     "metadata": {},
     "output_type": "display_data"
    }
   ],
   "source": [
    "prop.table(table(pred$l10_win_03))"
   ]
  },
  {
   "cell_type": "code",
   "execution_count": 137,
   "metadata": {},
   "outputs": [
    {
     "data": {
      "text/plain": [
       "                 \n",
       "                  l10_seg2_glm l10_seg2_glm_fb\n",
       "  l10_seg2_glm             313               1\n",
       "  l10_seg2_glm_fb           35               3"
      ]
     },
     "metadata": {},
     "output_type": "display_data"
    }
   ],
   "source": [
    "xtab <- table(test$l10_win_03, pred$l10_win_03)\n",
    "xtab"
   ]
  },
  {
   "cell_type": "code",
   "execution_count": 138,
   "metadata": {},
   "outputs": [
    {
     "data": {
      "text/plain": [
       "Confusion Matrix and Statistics\n",
       "\n",
       "                 Reference\n",
       "Prediction        l10_seg2_glm l10_seg2_glm_fb\n",
       "  l10_seg2_glm             313               1\n",
       "  l10_seg2_glm_fb           35               3\n",
       "                                          \n",
       "               Accuracy : 0.8977          \n",
       "                 95% CI : (0.8612, 0.9273)\n",
       "    No Information Rate : 0.9886          \n",
       "    P-Value [Acc > NIR] : 1               \n",
       "                                          \n",
       "                  Kappa : 0.1249          \n",
       "                                          \n",
       " Mcnemar's Test P-Value : 3.798e-08       \n",
       "                                          \n",
       "            Sensitivity : 0.89943         \n",
       "            Specificity : 0.75000         \n",
       "         Pos Pred Value : 0.99682         \n",
       "         Neg Pred Value : 0.07895         \n",
       "             Prevalence : 0.98864         \n",
       "         Detection Rate : 0.88920         \n",
       "   Detection Prevalence : 0.89205         \n",
       "      Balanced Accuracy : 0.82471         \n",
       "                                          \n",
       "       'Positive' Class : l10_seg2_glm    \n",
       "                                          "
      ]
     },
     "metadata": {},
     "output_type": "display_data"
    }
   ],
   "source": [
    "confusionMatrix(data=factor(test$l10_win_03), \n",
    "                reference=factor(pred$l10_win_03, levels=levels(factor(test$l10_win_03))))"
   ]
  },
  {
   "cell_type": "code",
   "execution_count": 139,
   "metadata": {},
   "outputs": [
    {
     "data": {
      "text/html": [
       "352"
      ],
      "text/latex": [
       "352"
      ],
      "text/markdown": [
       "352"
      ],
      "text/plain": [
       "[1] 352"
      ]
     },
     "metadata": {},
     "output_type": "display_data"
    },
    {
     "data": {
      "text/html": [
       "352"
      ],
      "text/latex": [
       "352"
      ],
      "text/markdown": [
       "352"
      ],
      "text/plain": [
       "[1] 352"
      ]
     },
     "metadata": {},
     "output_type": "display_data"
    }
   ],
   "source": [
    "length((test$l10_win_03))\n",
    "length((pred$l10_win_03))"
   ]
  },
  {
   "cell_type": "code",
   "execution_count": 140,
   "metadata": {},
   "outputs": [
    {
     "data": {
      "text/plain": [
       "\n",
       "   l10_seg2_glm l10_seg2_glm_fb \n",
       "      0.8920455       0.1079545 "
      ]
     },
     "metadata": {},
     "output_type": "display_data"
    },
    {
     "data": {
      "text/plain": [
       "\n",
       "   auc_seg2_glm auc_seg2_glm_fb \n",
       "      0.8551136       0.1448864 "
      ]
     },
     "metadata": {},
     "output_type": "display_data"
    }
   ],
   "source": [
    "prop.table(table(test$l10_win_03))\n",
    "prop.table(table(test$auc_win_03))"
   ]
  },
  {
   "cell_type": "code",
   "execution_count": 141,
   "metadata": {},
   "outputs": [
    {
     "data": {
      "text/html": [
       "<table>\n",
       "<caption>A data.frame: 15 × 1</caption>\n",
       "<thead>\n",
       "\t<tr><th></th><th scope=col>importance(model)</th></tr>\n",
       "\t<tr><th></th><th scope=col>&lt;dbl&gt;</th></tr>\n",
       "</thead>\n",
       "<tbody>\n",
       "\t<tr><th scope=row>n</th><td>10.564186</td></tr>\n",
       "\t<tr><th scope=row>ren_prp</th><td>10.089141</td></tr>\n",
       "\t<tr><th scope=row>country_maj</th><td> 8.712715</td></tr>\n",
       "\t<tr><th scope=row>gibbs_rng</th><td> 5.908146</td></tr>\n",
       "\t<tr><th scope=row>sldlen_kurt</th><td> 5.886302</td></tr>\n",
       "\t<tr><th scope=row>gibbs_mean</th><td> 5.690328</td></tr>\n",
       "\t<tr><th scope=row>sldlen_std</th><td> 5.599168</td></tr>\n",
       "\t<tr><th scope=row>daydom_skew</th><td> 5.592227</td></tr>\n",
       "\t<tr><th scope=row>daydom_std</th><td> 5.059691</td></tr>\n",
       "\t<tr><th scope=row>daydom_kurt</th><td> 5.000312</td></tr>\n",
       "\t<tr><th scope=row>sldlen_skew</th><td> 4.868050</td></tr>\n",
       "\t<tr><th scope=row>daydom_mean</th><td> 4.847570</td></tr>\n",
       "\t<tr><th scope=row>pdcnt_kurt</th><td> 4.730931</td></tr>\n",
       "\t<tr><th scope=row>gibbs_max</th><td> 4.629687</td></tr>\n",
       "\t<tr><th scope=row>gibbs_std</th><td> 4.594886</td></tr>\n",
       "</tbody>\n",
       "</table>\n"
      ],
      "text/latex": [
       "A data.frame: 15 × 1\n",
       "\\begin{tabular}{r|l}\n",
       "  & importance(model)\\\\\n",
       "  & <dbl>\\\\\n",
       "\\hline\n",
       "\tn & 10.564186\\\\\n",
       "\tren\\_prp & 10.089141\\\\\n",
       "\tcountry\\_maj &  8.712715\\\\\n",
       "\tgibbs\\_rng &  5.908146\\\\\n",
       "\tsldlen\\_kurt &  5.886302\\\\\n",
       "\tgibbs\\_mean &  5.690328\\\\\n",
       "\tsldlen\\_std &  5.599168\\\\\n",
       "\tdaydom\\_skew &  5.592227\\\\\n",
       "\tdaydom\\_std &  5.059691\\\\\n",
       "\tdaydom\\_kurt &  5.000312\\\\\n",
       "\tsldlen\\_skew &  4.868050\\\\\n",
       "\tdaydom\\_mean &  4.847570\\\\\n",
       "\tpdcnt\\_kurt &  4.730931\\\\\n",
       "\tgibbs\\_max &  4.629687\\\\\n",
       "\tgibbs\\_std &  4.594886\\\\\n",
       "\\end{tabular}\n"
      ],
      "text/markdown": [
       "\n",
       "A data.frame: 15 × 1\n",
       "\n",
       "| <!--/--> | importance(model) &lt;dbl&gt; |\n",
       "|---|---|\n",
       "| n | 10.564186 |\n",
       "| ren_prp | 10.089141 |\n",
       "| country_maj |  8.712715 |\n",
       "| gibbs_rng |  5.908146 |\n",
       "| sldlen_kurt |  5.886302 |\n",
       "| gibbs_mean |  5.690328 |\n",
       "| sldlen_std |  5.599168 |\n",
       "| daydom_skew |  5.592227 |\n",
       "| daydom_std |  5.059691 |\n",
       "| daydom_kurt |  5.000312 |\n",
       "| sldlen_skew |  4.868050 |\n",
       "| daydom_mean |  4.847570 |\n",
       "| pdcnt_kurt |  4.730931 |\n",
       "| gibbs_max |  4.629687 |\n",
       "| gibbs_std |  4.594886 |\n",
       "\n"
      ],
      "text/plain": [
       "            importance(model)\n",
       "n           10.564186        \n",
       "ren_prp     10.089141        \n",
       "country_maj  8.712715        \n",
       "gibbs_rng    5.908146        \n",
       "sldlen_kurt  5.886302        \n",
       "gibbs_mean   5.690328        \n",
       "sldlen_std   5.599168        \n",
       "daydom_skew  5.592227        \n",
       "daydom_std   5.059691        \n",
       "daydom_kurt  5.000312        \n",
       "sldlen_skew  4.868050        \n",
       "daydom_mean  4.847570        \n",
       "pdcnt_kurt   4.730931        \n",
       "gibbs_max    4.629687        \n",
       "gibbs_std    4.594886        "
      ]
     },
     "metadata": {},
     "output_type": "display_data"
    }
   ],
   "source": [
    "as.data.frame(importance(model)) %>% arrange(desc(importance(model))) %>% head(15)"
   ]
  },
  {
   "cell_type": "code",
   "execution_count": 142,
   "metadata": {},
   "outputs": [
    {
     "data": {
      "text/html": [
       "<style>\n",
       ".list-inline {list-style: none; margin:0; padding: 0}\n",
       ".list-inline>li {display: inline-block}\n",
       ".list-inline>li:not(:last-child)::after {content: \"\\00b7\"; padding: 0 .5ex}\n",
       "</style>\n",
       "<ol class=list-inline><li>'n'</li><li>'ren_prp'</li><li>'country_maj'</li><li>'gibbs_rng'</li><li>'sldlen_kurt'</li></ol>\n"
      ],
      "text/latex": [
       "\\begin{enumerate*}\n",
       "\\item 'n'\n",
       "\\item 'ren\\_prp'\n",
       "\\item 'country\\_maj'\n",
       "\\item 'gibbs\\_rng'\n",
       "\\item 'sldlen\\_kurt'\n",
       "\\end{enumerate*}\n"
      ],
      "text/markdown": [
       "1. 'n'\n",
       "2. 'ren_prp'\n",
       "3. 'country_maj'\n",
       "4. 'gibbs_rng'\n",
       "5. 'sldlen_kurt'\n",
       "\n",
       "\n"
      ],
      "text/plain": [
       "[1] \"n\"           \"ren_prp\"     \"country_maj\" \"gibbs_rng\"   \"sldlen_kurt\""
      ]
     },
     "metadata": {},
     "output_type": "display_data"
    }
   ],
   "source": [
    "as.data.frame(importance(model)) %>% arrange(desc(importance(model))) %>% head(5) %>% row.names()"
   ]
  },
  {
   "cell_type": "markdown",
   "metadata": {},
   "source": [
    "# RF BINARY w/ auc_win_03"
   ]
  },
  {
   "cell_type": "markdown",
   "metadata": {},
   "source": [
    "## RF binary auc"
   ]
  },
  {
   "cell_type": "code",
   "execution_count": 143,
   "metadata": {},
   "outputs": [],
   "source": [
    "library(ranger) "
   ]
  },
  {
   "cell_type": "code",
   "execution_count": 144,
   "metadata": {},
   "outputs": [
    {
     "data": {
      "text/plain": [
       "      Y\n",
       "       auc_seg2_glm auc_seg2_glm_fb\n",
       "  0.15         1196               0\n",
       "  0.85            0             210"
      ]
     },
     "metadata": {},
     "output_type": "display_data"
    }
   ],
   "source": [
    "#Compute weights to balance the RF\n",
    "Y = train$auc_win_03\n",
    "w <- 1/table(Y)\n",
    "w <- w/sum(w)\n",
    "\n",
    "for (model in unique(Y)){\n",
    "    weights[Y==model] <- w[model]\n",
    "}\n",
    "table(round(weights,2), Y)"
   ]
  },
  {
   "cell_type": "code",
   "execution_count": 145,
   "metadata": {},
   "outputs": [],
   "source": [
    "model <- ranger(formula         = auc_win_01 ~ ., \n",
    "                data            = train %>% \n",
    "                                    select('auc_win_01') %>% \n",
    "                                    bind_cols(\n",
    "                                        train %>% \n",
    "                                        select(-contains('auc'),-contains('l10'),-'tld_registrar_index', -'tld_rat')), \n",
    "                importance = 'impurity', \n",
    "                num.trees       = 500,\n",
    "                probability = TRUE,\n",
    "                replace = FALSE,\n",
    "                sample.fraction = .8,\n",
    "                seed            = 123,\n",
    "                respect.unordered.factors=TRUE,\n",
    "               case.weights=weights)"
   ]
  },
  {
   "cell_type": "code",
   "execution_count": 146,
   "metadata": {},
   "outputs": [
    {
     "data": {
      "text/html": [
       "<table>\n",
       "<caption>A data.frame: 6 × 3</caption>\n",
       "<thead>\n",
       "\t<tr><th></th><th scope=col>auc_agg_rf_ALL</th><th scope=col>auc_seg2_glm_fb</th><th scope=col>auc_win_01</th></tr>\n",
       "\t<tr><th></th><th scope=col>&lt;dbl&gt;</th><th scope=col>&lt;dbl&gt;</th><th scope=col>&lt;chr&gt;</th></tr>\n",
       "</thead>\n",
       "<tbody>\n",
       "\t<tr><th scope=row>1</th><td>0.4775310</td><td>0.5224690</td><td>auc_seg2_glm_fb</td></tr>\n",
       "\t<tr><th scope=row>2</th><td>0.6693627</td><td>0.3306373</td><td>auc_agg_rf_ALL </td></tr>\n",
       "\t<tr><th scope=row>3</th><td>0.2001738</td><td>0.7998262</td><td>auc_seg2_glm_fb</td></tr>\n",
       "\t<tr><th scope=row>4</th><td>0.5097437</td><td>0.4902563</td><td>auc_agg_rf_ALL </td></tr>\n",
       "\t<tr><th scope=row>5</th><td>0.2235135</td><td>0.7764865</td><td>auc_seg2_glm_fb</td></tr>\n",
       "\t<tr><th scope=row>6</th><td>0.7113500</td><td>0.2886500</td><td>auc_agg_rf_ALL </td></tr>\n",
       "</tbody>\n",
       "</table>\n"
      ],
      "text/latex": [
       "A data.frame: 6 × 3\n",
       "\\begin{tabular}{r|lll}\n",
       "  & auc\\_agg\\_rf\\_ALL & auc\\_seg2\\_glm\\_fb & auc\\_win\\_01\\\\\n",
       "  & <dbl> & <dbl> & <chr>\\\\\n",
       "\\hline\n",
       "\t1 & 0.4775310 & 0.5224690 & auc\\_seg2\\_glm\\_fb\\\\\n",
       "\t2 & 0.6693627 & 0.3306373 & auc\\_agg\\_rf\\_ALL \\\\\n",
       "\t3 & 0.2001738 & 0.7998262 & auc\\_seg2\\_glm\\_fb\\\\\n",
       "\t4 & 0.5097437 & 0.4902563 & auc\\_agg\\_rf\\_ALL \\\\\n",
       "\t5 & 0.2235135 & 0.7764865 & auc\\_seg2\\_glm\\_fb\\\\\n",
       "\t6 & 0.7113500 & 0.2886500 & auc\\_agg\\_rf\\_ALL \\\\\n",
       "\\end{tabular}\n"
      ],
      "text/markdown": [
       "\n",
       "A data.frame: 6 × 3\n",
       "\n",
       "| <!--/--> | auc_agg_rf_ALL &lt;dbl&gt; | auc_seg2_glm_fb &lt;dbl&gt; | auc_win_01 &lt;chr&gt; |\n",
       "|---|---|---|---|\n",
       "| 1 | 0.4775310 | 0.5224690 | auc_seg2_glm_fb |\n",
       "| 2 | 0.6693627 | 0.3306373 | auc_agg_rf_ALL  |\n",
       "| 3 | 0.2001738 | 0.7998262 | auc_seg2_glm_fb |\n",
       "| 4 | 0.5097437 | 0.4902563 | auc_agg_rf_ALL  |\n",
       "| 5 | 0.2235135 | 0.7764865 | auc_seg2_glm_fb |\n",
       "| 6 | 0.7113500 | 0.2886500 | auc_agg_rf_ALL  |\n",
       "\n"
      ],
      "text/plain": [
       "  auc_agg_rf_ALL auc_seg2_glm_fb auc_win_01     \n",
       "1 0.4775310      0.5224690       auc_seg2_glm_fb\n",
       "2 0.6693627      0.3306373       auc_agg_rf_ALL \n",
       "3 0.2001738      0.7998262       auc_seg2_glm_fb\n",
       "4 0.5097437      0.4902563       auc_agg_rf_ALL \n",
       "5 0.2235135      0.7764865       auc_seg2_glm_fb\n",
       "6 0.7113500      0.2886500       auc_agg_rf_ALL "
      ]
     },
     "metadata": {},
     "output_type": "display_data"
    }
   ],
   "source": [
    "pred <- predict(model, \n",
    "                data = test,\n",
    "                type=\"response\")$predictions\n",
    "\n",
    "pred <- as.data.frame(pred)\n",
    "auc_vars <- names(pred)\n",
    "pred <- pred %>%\n",
    "    mutate (auc_win_01=sapply(apply(.[,c(auc_vars)], \n",
    "                          1, function(x) names(x)[which.max(x)]) , \n",
    "                                    function(s) if (length(s) == 0) NA else paste(s, collapse = \" \")) \n",
    "            ) \n",
    "head(pred)"
   ]
  },
  {
   "cell_type": "code",
   "execution_count": 147,
   "metadata": {},
   "outputs": [
    {
     "data": {
      "text/plain": [
       "\n",
       " auc_agg_rf_ALL auc_seg2_glm_fb \n",
       "      0.5397727       0.4602273 "
      ]
     },
     "metadata": {},
     "output_type": "display_data"
    }
   ],
   "source": [
    "prop.table(table(pred$auc_win_01))"
   ]
  },
  {
   "cell_type": "code",
   "execution_count": 148,
   "metadata": {},
   "outputs": [
    {
     "data": {
      "text/plain": [
       "                 \n",
       "                  auc_agg_rf_ALL auc_seg2_glm_fb\n",
       "  auc_agg_rf_ALL             128              33\n",
       "  auc_seg2_glm_fb             62             129"
      ]
     },
     "metadata": {},
     "output_type": "display_data"
    }
   ],
   "source": [
    "xtab <- table(test$auc_win_01, pred$auc_win_01)\n",
    "xtab"
   ]
  },
  {
   "cell_type": "code",
   "execution_count": 149,
   "metadata": {},
   "outputs": [
    {
     "data": {
      "text/plain": [
       "Confusion Matrix and Statistics\n",
       "\n",
       "                 Reference\n",
       "Prediction        auc_agg_rf_ALL auc_seg2_glm_fb\n",
       "  auc_agg_rf_ALL             128              33\n",
       "  auc_seg2_glm_fb             62             129\n",
       "                                          \n",
       "               Accuracy : 0.7301          \n",
       "                 95% CI : (0.6805, 0.7758)\n",
       "    No Information Rate : 0.5398          \n",
       "    P-Value [Acc > NIR] : 1.695e-13       \n",
       "                                          \n",
       "                  Kappa : 0.4639          \n",
       "                                          \n",
       " Mcnemar's Test P-Value : 0.004069        \n",
       "                                          \n",
       "            Sensitivity : 0.6737          \n",
       "            Specificity : 0.7963          \n",
       "         Pos Pred Value : 0.7950          \n",
       "         Neg Pred Value : 0.6754          \n",
       "             Prevalence : 0.5398          \n",
       "         Detection Rate : 0.3636          \n",
       "   Detection Prevalence : 0.4574          \n",
       "      Balanced Accuracy : 0.7350          \n",
       "                                          \n",
       "       'Positive' Class : auc_agg_rf_ALL  \n",
       "                                          "
      ]
     },
     "metadata": {},
     "output_type": "display_data"
    }
   ],
   "source": [
    "confusionMatrix(data=factor(test$auc_win_01), \n",
    "                reference=factor(pred$auc_win_01, levels=levels(factor(test$auc_win_01))))"
   ]
  },
  {
   "cell_type": "code",
   "execution_count": 150,
   "metadata": {},
   "outputs": [
    {
     "data": {
      "text/html": [
       "<table>\n",
       "<caption>A data.frame: 15 × 1</caption>\n",
       "<thead>\n",
       "\t<tr><th></th><th scope=col>importance(model)</th></tr>\n",
       "\t<tr><th></th><th scope=col>&lt;dbl&gt;</th></tr>\n",
       "</thead>\n",
       "<tbody>\n",
       "\t<tr><th scope=row>sldlen_kurt</th><td>31.51401</td></tr>\n",
       "\t<tr><th scope=row>n</th><td>31.17401</td></tr>\n",
       "\t<tr><th scope=row>daydom_rng</th><td>23.01323</td></tr>\n",
       "\t<tr><th scope=row>daydom_kurt</th><td>21.85847</td></tr>\n",
       "\t<tr><th scope=row>gibbs_kurt</th><td>21.00486</td></tr>\n",
       "\t<tr><th scope=row>gibbs_rng</th><td>17.27862</td></tr>\n",
       "\t<tr><th scope=row>daydom_max</th><td>15.76330</td></tr>\n",
       "\t<tr><th scope=row>ren_prp</th><td>14.51554</td></tr>\n",
       "\t<tr><th scope=row>country_maj</th><td>14.18457</td></tr>\n",
       "\t<tr><th scope=row>daydom_skew</th><td>13.88570</td></tr>\n",
       "\t<tr><th scope=row>daydom_std</th><td>12.27985</td></tr>\n",
       "\t<tr><th scope=row>daydom_mean</th><td>12.25078</td></tr>\n",
       "\t<tr><th scope=row>regarpt_skew</th><td>11.92053</td></tr>\n",
       "\t<tr><th scope=row>sldlen_rng</th><td>11.85336</td></tr>\n",
       "\t<tr><th scope=row>pdcnt_skew</th><td>11.77250</td></tr>\n",
       "</tbody>\n",
       "</table>\n"
      ],
      "text/latex": [
       "A data.frame: 15 × 1\n",
       "\\begin{tabular}{r|l}\n",
       "  & importance(model)\\\\\n",
       "  & <dbl>\\\\\n",
       "\\hline\n",
       "\tsldlen\\_kurt & 31.51401\\\\\n",
       "\tn & 31.17401\\\\\n",
       "\tdaydom\\_rng & 23.01323\\\\\n",
       "\tdaydom\\_kurt & 21.85847\\\\\n",
       "\tgibbs\\_kurt & 21.00486\\\\\n",
       "\tgibbs\\_rng & 17.27862\\\\\n",
       "\tdaydom\\_max & 15.76330\\\\\n",
       "\tren\\_prp & 14.51554\\\\\n",
       "\tcountry\\_maj & 14.18457\\\\\n",
       "\tdaydom\\_skew & 13.88570\\\\\n",
       "\tdaydom\\_std & 12.27985\\\\\n",
       "\tdaydom\\_mean & 12.25078\\\\\n",
       "\tregarpt\\_skew & 11.92053\\\\\n",
       "\tsldlen\\_rng & 11.85336\\\\\n",
       "\tpdcnt\\_skew & 11.77250\\\\\n",
       "\\end{tabular}\n"
      ],
      "text/markdown": [
       "\n",
       "A data.frame: 15 × 1\n",
       "\n",
       "| <!--/--> | importance(model) &lt;dbl&gt; |\n",
       "|---|---|\n",
       "| sldlen_kurt | 31.51401 |\n",
       "| n | 31.17401 |\n",
       "| daydom_rng | 23.01323 |\n",
       "| daydom_kurt | 21.85847 |\n",
       "| gibbs_kurt | 21.00486 |\n",
       "| gibbs_rng | 17.27862 |\n",
       "| daydom_max | 15.76330 |\n",
       "| ren_prp | 14.51554 |\n",
       "| country_maj | 14.18457 |\n",
       "| daydom_skew | 13.88570 |\n",
       "| daydom_std | 12.27985 |\n",
       "| daydom_mean | 12.25078 |\n",
       "| regarpt_skew | 11.92053 |\n",
       "| sldlen_rng | 11.85336 |\n",
       "| pdcnt_skew | 11.77250 |\n",
       "\n"
      ],
      "text/plain": [
       "             importance(model)\n",
       "sldlen_kurt  31.51401         \n",
       "n            31.17401         \n",
       "daydom_rng   23.01323         \n",
       "daydom_kurt  21.85847         \n",
       "gibbs_kurt   21.00486         \n",
       "gibbs_rng    17.27862         \n",
       "daydom_max   15.76330         \n",
       "ren_prp      14.51554         \n",
       "country_maj  14.18457         \n",
       "daydom_skew  13.88570         \n",
       "daydom_std   12.27985         \n",
       "daydom_mean  12.25078         \n",
       "regarpt_skew 11.92053         \n",
       "sldlen_rng   11.85336         \n",
       "pdcnt_skew   11.77250         "
      ]
     },
     "metadata": {},
     "output_type": "display_data"
    }
   ],
   "source": [
    "as.data.frame(importance(model)) %>% arrange(desc(importance(model))) %>% head(15)"
   ]
  },
  {
   "cell_type": "code",
   "execution_count": 151,
   "metadata": {},
   "outputs": [
    {
     "data": {
      "text/html": [
       "<style>\n",
       ".list-inline {list-style: none; margin:0; padding: 0}\n",
       ".list-inline>li {display: inline-block}\n",
       ".list-inline>li:not(:last-child)::after {content: \"\\00b7\"; padding: 0 .5ex}\n",
       "</style>\n",
       "<ol class=list-inline><li>'sldlen_kurt'</li><li>'n'</li><li>'daydom_rng'</li><li>'daydom_kurt'</li><li>'gibbs_kurt'</li></ol>\n"
      ],
      "text/latex": [
       "\\begin{enumerate*}\n",
       "\\item 'sldlen\\_kurt'\n",
       "\\item 'n'\n",
       "\\item 'daydom\\_rng'\n",
       "\\item 'daydom\\_kurt'\n",
       "\\item 'gibbs\\_kurt'\n",
       "\\end{enumerate*}\n"
      ],
      "text/markdown": [
       "1. 'sldlen_kurt'\n",
       "2. 'n'\n",
       "3. 'daydom_rng'\n",
       "4. 'daydom_kurt'\n",
       "5. 'gibbs_kurt'\n",
       "\n",
       "\n"
      ],
      "text/plain": [
       "[1] \"sldlen_kurt\" \"n\"           \"daydom_rng\"  \"daydom_kurt\" \"gibbs_kurt\" "
      ]
     },
     "metadata": {},
     "output_type": "display_data"
    }
   ],
   "source": [
    "as.data.frame(importance(model)) %>% arrange(desc(importance(model))) %>% head(5) %>% row.names"
   ]
  },
  {
   "cell_type": "markdown",
   "metadata": {},
   "source": [
    "## RF binary l10"
   ]
  },
  {
   "cell_type": "code",
   "execution_count": 152,
   "metadata": {},
   "outputs": [],
   "source": [
    "library(ranger) "
   ]
  },
  {
   "cell_type": "code",
   "execution_count": 153,
   "metadata": {},
   "outputs": [
    {
     "data": {
      "text/plain": [
       "     Y\n",
       "      l10_agg_rf_ALL l10_seg2_glm_fb\n",
       "  0.3              0             988\n",
       "  0.7            418               0"
      ]
     },
     "metadata": {},
     "output_type": "display_data"
    }
   ],
   "source": [
    "#Compute weights to balance the RF\n",
    "Y = train$l10_win_01\n",
    "w <- 1/table(Y)\n",
    "w <- w/sum(w)\n",
    "\n",
    "for (model in unique(Y)){\n",
    "    weights[Y==model] <- w[model]\n",
    "}\n",
    "table(round(weights,2), Y)"
   ]
  },
  {
   "cell_type": "code",
   "execution_count": 154,
   "metadata": {},
   "outputs": [],
   "source": [
    "model <- ranger(formula         = l10_win_01 ~ ., \n",
    "                data            = train %>% \n",
    "                                    select('l10_win_01') %>% \n",
    "                                    bind_cols(\n",
    "                                        train %>% \n",
    "                                        select(-contains('auc'),-contains('l10'),-'tld_registrar_index', -'tld_rat')), \n",
    "                importance = 'impurity', \n",
    "                num.trees       = 500,\n",
    "                probability = TRUE,\n",
    "                replace = FALSE,\n",
    "                sample.fraction = .8,\n",
    "                seed            = 123,\n",
    "                respect.unordered.factors=TRUE,\n",
    "               case.weights=weights)"
   ]
  },
  {
   "cell_type": "code",
   "execution_count": 155,
   "metadata": {},
   "outputs": [
    {
     "data": {
      "text/html": [
       "<table>\n",
       "<caption>A data.frame: 6 × 3</caption>\n",
       "<thead>\n",
       "\t<tr><th></th><th scope=col>l10_agg_rf_ALL</th><th scope=col>l10_seg2_glm_fb</th><th scope=col>l10_win_01</th></tr>\n",
       "\t<tr><th></th><th scope=col>&lt;dbl&gt;</th><th scope=col>&lt;dbl&gt;</th><th scope=col>&lt;chr&gt;</th></tr>\n",
       "</thead>\n",
       "<tbody>\n",
       "\t<tr><th scope=row>1</th><td>0.17863492</td><td>0.8213651</td><td>l10_seg2_glm_fb</td></tr>\n",
       "\t<tr><th scope=row>2</th><td>0.67192698</td><td>0.3280730</td><td>l10_agg_rf_ALL </td></tr>\n",
       "\t<tr><th scope=row>3</th><td>0.06822222</td><td>0.9317778</td><td>l10_seg2_glm_fb</td></tr>\n",
       "\t<tr><th scope=row>4</th><td>0.40451190</td><td>0.5954881</td><td>l10_seg2_glm_fb</td></tr>\n",
       "\t<tr><th scope=row>5</th><td>0.22508968</td><td>0.7749103</td><td>l10_seg2_glm_fb</td></tr>\n",
       "\t<tr><th scope=row>6</th><td>0.50397698</td><td>0.4960230</td><td>l10_agg_rf_ALL </td></tr>\n",
       "</tbody>\n",
       "</table>\n"
      ],
      "text/latex": [
       "A data.frame: 6 × 3\n",
       "\\begin{tabular}{r|lll}\n",
       "  & l10\\_agg\\_rf\\_ALL & l10\\_seg2\\_glm\\_fb & l10\\_win\\_01\\\\\n",
       "  & <dbl> & <dbl> & <chr>\\\\\n",
       "\\hline\n",
       "\t1 & 0.17863492 & 0.8213651 & l10\\_seg2\\_glm\\_fb\\\\\n",
       "\t2 & 0.67192698 & 0.3280730 & l10\\_agg\\_rf\\_ALL \\\\\n",
       "\t3 & 0.06822222 & 0.9317778 & l10\\_seg2\\_glm\\_fb\\\\\n",
       "\t4 & 0.40451190 & 0.5954881 & l10\\_seg2\\_glm\\_fb\\\\\n",
       "\t5 & 0.22508968 & 0.7749103 & l10\\_seg2\\_glm\\_fb\\\\\n",
       "\t6 & 0.50397698 & 0.4960230 & l10\\_agg\\_rf\\_ALL \\\\\n",
       "\\end{tabular}\n"
      ],
      "text/markdown": [
       "\n",
       "A data.frame: 6 × 3\n",
       "\n",
       "| <!--/--> | l10_agg_rf_ALL &lt;dbl&gt; | l10_seg2_glm_fb &lt;dbl&gt; | l10_win_01 &lt;chr&gt; |\n",
       "|---|---|---|---|\n",
       "| 1 | 0.17863492 | 0.8213651 | l10_seg2_glm_fb |\n",
       "| 2 | 0.67192698 | 0.3280730 | l10_agg_rf_ALL  |\n",
       "| 3 | 0.06822222 | 0.9317778 | l10_seg2_glm_fb |\n",
       "| 4 | 0.40451190 | 0.5954881 | l10_seg2_glm_fb |\n",
       "| 5 | 0.22508968 | 0.7749103 | l10_seg2_glm_fb |\n",
       "| 6 | 0.50397698 | 0.4960230 | l10_agg_rf_ALL  |\n",
       "\n"
      ],
      "text/plain": [
       "  l10_agg_rf_ALL l10_seg2_glm_fb l10_win_01     \n",
       "1 0.17863492     0.8213651       l10_seg2_glm_fb\n",
       "2 0.67192698     0.3280730       l10_agg_rf_ALL \n",
       "3 0.06822222     0.9317778       l10_seg2_glm_fb\n",
       "4 0.40451190     0.5954881       l10_seg2_glm_fb\n",
       "5 0.22508968     0.7749103       l10_seg2_glm_fb\n",
       "6 0.50397698     0.4960230       l10_agg_rf_ALL "
      ]
     },
     "metadata": {},
     "output_type": "display_data"
    }
   ],
   "source": [
    "pred <- predict(model, \n",
    "                data = test,\n",
    "                type=\"response\")$predictions\n",
    "\n",
    "pred <- as.data.frame(pred)\n",
    "auc_vars <- names(pred)\n",
    "pred <- pred %>%\n",
    "    mutate (l10_win_01=sapply(apply(.[,c(auc_vars)], \n",
    "                          1, function(x) names(x)[which.max(x)]) , \n",
    "                                    function(s) if (length(s) == 0) NA else paste(s, collapse = \" \")) \n",
    "            ) \n",
    "head(pred)"
   ]
  },
  {
   "cell_type": "code",
   "execution_count": 156,
   "metadata": {},
   "outputs": [
    {
     "data": {
      "text/plain": [
       "\n",
       " l10_agg_rf_ALL l10_seg2_glm_fb \n",
       "      0.3267045       0.6732955 "
      ]
     },
     "metadata": {},
     "output_type": "display_data"
    }
   ],
   "source": [
    "prop.table(table(pred$l10_win_01))"
   ]
  },
  {
   "cell_type": "code",
   "execution_count": 157,
   "metadata": {},
   "outputs": [
    {
     "data": {
      "text/plain": [
       "                 \n",
       "                  l10_agg_rf_ALL l10_seg2_glm_fb\n",
       "  l10_agg_rf_ALL              66              37\n",
       "  l10_seg2_glm_fb             49             200"
      ]
     },
     "metadata": {},
     "output_type": "display_data"
    }
   ],
   "source": [
    "xtab <- table(test$l10_win_01, pred$l10_win_01)\n",
    "xtab"
   ]
  },
  {
   "cell_type": "code",
   "execution_count": 158,
   "metadata": {},
   "outputs": [
    {
     "data": {
      "text/plain": [
       "Confusion Matrix and Statistics\n",
       "\n",
       "                 Reference\n",
       "Prediction        l10_agg_rf_ALL l10_seg2_glm_fb\n",
       "  l10_agg_rf_ALL              66              37\n",
       "  l10_seg2_glm_fb             49             200\n",
       "                                          \n",
       "               Accuracy : 0.7557          \n",
       "                 95% CI : (0.7073, 0.7997)\n",
       "    No Information Rate : 0.6733          \n",
       "    P-Value [Acc > NIR] : 0.0004607       \n",
       "                                          \n",
       "                  Kappa : 0.4293          \n",
       "                                          \n",
       " Mcnemar's Test P-Value : 0.2355589       \n",
       "                                          \n",
       "            Sensitivity : 0.5739          \n",
       "            Specificity : 0.8439          \n",
       "         Pos Pred Value : 0.6408          \n",
       "         Neg Pred Value : 0.8032          \n",
       "             Prevalence : 0.3267          \n",
       "         Detection Rate : 0.1875          \n",
       "   Detection Prevalence : 0.2926          \n",
       "      Balanced Accuracy : 0.7089          \n",
       "                                          \n",
       "       'Positive' Class : l10_agg_rf_ALL  \n",
       "                                          "
      ]
     },
     "metadata": {},
     "output_type": "display_data"
    }
   ],
   "source": [
    "confusionMatrix(data=factor(test$l10_win_01), \n",
    "                reference=factor(pred$l10_win_01, levels=levels(factor(test$l10_win_01))))"
   ]
  },
  {
   "cell_type": "code",
   "execution_count": 159,
   "metadata": {},
   "outputs": [
    {
     "data": {
      "text/html": [
       "352"
      ],
      "text/latex": [
       "352"
      ],
      "text/markdown": [
       "352"
      ],
      "text/plain": [
       "[1] 352"
      ]
     },
     "metadata": {},
     "output_type": "display_data"
    },
    {
     "data": {
      "text/html": [
       "352"
      ],
      "text/latex": [
       "352"
      ],
      "text/markdown": [
       "352"
      ],
      "text/plain": [
       "[1] 352"
      ]
     },
     "metadata": {},
     "output_type": "display_data"
    }
   ],
   "source": [
    "length((test$l10_win_01))\n",
    "length((pred$l10_win_01))"
   ]
  },
  {
   "cell_type": "code",
   "execution_count": 160,
   "metadata": {},
   "outputs": [
    {
     "data": {
      "text/plain": [
       "\n",
       " l10_agg_rf_ALL l10_seg2_glm_fb \n",
       "      0.2926136       0.7073864 "
      ]
     },
     "metadata": {},
     "output_type": "display_data"
    },
    {
     "data": {
      "text/plain": [
       "\n",
       " auc_agg_rf_ALL auc_seg2_glm_fb \n",
       "      0.4573864       0.5426136 "
      ]
     },
     "metadata": {},
     "output_type": "display_data"
    }
   ],
   "source": [
    "prop.table(table(test$l10_win_01))\n",
    "prop.table(table(test$auc_win_01))"
   ]
  },
  {
   "cell_type": "code",
   "execution_count": 161,
   "metadata": {},
   "outputs": [
    {
     "data": {
      "text/html": [
       "<table>\n",
       "<caption>A data.frame: 15 × 1</caption>\n",
       "<thead>\n",
       "\t<tr><th></th><th scope=col>importance(model)</th></tr>\n",
       "\t<tr><th></th><th scope=col>&lt;dbl&gt;</th></tr>\n",
       "</thead>\n",
       "<tbody>\n",
       "\t<tr><th scope=row>n</th><td>29.26273</td></tr>\n",
       "\t<tr><th scope=row>daydom_rng</th><td>23.86822</td></tr>\n",
       "\t<tr><th scope=row>daydom_max</th><td>19.60706</td></tr>\n",
       "\t<tr><th scope=row>sldlen_kurt</th><td>17.89995</td></tr>\n",
       "\t<tr><th scope=row>gibbs_kurt</th><td>16.42052</td></tr>\n",
       "\t<tr><th scope=row>daydom_mean</th><td>15.77812</td></tr>\n",
       "\t<tr><th scope=row>ren_prp</th><td>14.59734</td></tr>\n",
       "\t<tr><th scope=row>country_maj</th><td>13.84717</td></tr>\n",
       "\t<tr><th scope=row>gibbs_rng</th><td>13.74117</td></tr>\n",
       "\t<tr><th scope=row>sldlen_rng</th><td>13.28809</td></tr>\n",
       "\t<tr><th scope=row>daydom_kurt</th><td>11.59480</td></tr>\n",
       "\t<tr><th scope=row>daydom_std</th><td>11.13882</td></tr>\n",
       "\t<tr><th scope=row>gibbs_min</th><td>11.10211</td></tr>\n",
       "\t<tr><th scope=row>pdcnt_rng</th><td>11.06096</td></tr>\n",
       "\t<tr><th scope=row>sldlen_skew</th><td>10.85458</td></tr>\n",
       "</tbody>\n",
       "</table>\n"
      ],
      "text/latex": [
       "A data.frame: 15 × 1\n",
       "\\begin{tabular}{r|l}\n",
       "  & importance(model)\\\\\n",
       "  & <dbl>\\\\\n",
       "\\hline\n",
       "\tn & 29.26273\\\\\n",
       "\tdaydom\\_rng & 23.86822\\\\\n",
       "\tdaydom\\_max & 19.60706\\\\\n",
       "\tsldlen\\_kurt & 17.89995\\\\\n",
       "\tgibbs\\_kurt & 16.42052\\\\\n",
       "\tdaydom\\_mean & 15.77812\\\\\n",
       "\tren\\_prp & 14.59734\\\\\n",
       "\tcountry\\_maj & 13.84717\\\\\n",
       "\tgibbs\\_rng & 13.74117\\\\\n",
       "\tsldlen\\_rng & 13.28809\\\\\n",
       "\tdaydom\\_kurt & 11.59480\\\\\n",
       "\tdaydom\\_std & 11.13882\\\\\n",
       "\tgibbs\\_min & 11.10211\\\\\n",
       "\tpdcnt\\_rng & 11.06096\\\\\n",
       "\tsldlen\\_skew & 10.85458\\\\\n",
       "\\end{tabular}\n"
      ],
      "text/markdown": [
       "\n",
       "A data.frame: 15 × 1\n",
       "\n",
       "| <!--/--> | importance(model) &lt;dbl&gt; |\n",
       "|---|---|\n",
       "| n | 29.26273 |\n",
       "| daydom_rng | 23.86822 |\n",
       "| daydom_max | 19.60706 |\n",
       "| sldlen_kurt | 17.89995 |\n",
       "| gibbs_kurt | 16.42052 |\n",
       "| daydom_mean | 15.77812 |\n",
       "| ren_prp | 14.59734 |\n",
       "| country_maj | 13.84717 |\n",
       "| gibbs_rng | 13.74117 |\n",
       "| sldlen_rng | 13.28809 |\n",
       "| daydom_kurt | 11.59480 |\n",
       "| daydom_std | 11.13882 |\n",
       "| gibbs_min | 11.10211 |\n",
       "| pdcnt_rng | 11.06096 |\n",
       "| sldlen_skew | 10.85458 |\n",
       "\n"
      ],
      "text/plain": [
       "            importance(model)\n",
       "n           29.26273         \n",
       "daydom_rng  23.86822         \n",
       "daydom_max  19.60706         \n",
       "sldlen_kurt 17.89995         \n",
       "gibbs_kurt  16.42052         \n",
       "daydom_mean 15.77812         \n",
       "ren_prp     14.59734         \n",
       "country_maj 13.84717         \n",
       "gibbs_rng   13.74117         \n",
       "sldlen_rng  13.28809         \n",
       "daydom_kurt 11.59480         \n",
       "daydom_std  11.13882         \n",
       "gibbs_min   11.10211         \n",
       "pdcnt_rng   11.06096         \n",
       "sldlen_skew 10.85458         "
      ]
     },
     "metadata": {},
     "output_type": "display_data"
    }
   ],
   "source": [
    "as.data.frame(importance(model)) %>% arrange(desc(importance(model))) %>% head(15)"
   ]
  },
  {
   "cell_type": "code",
   "execution_count": 162,
   "metadata": {},
   "outputs": [
    {
     "data": {
      "text/html": [
       "<style>\n",
       ".list-inline {list-style: none; margin:0; padding: 0}\n",
       ".list-inline>li {display: inline-block}\n",
       ".list-inline>li:not(:last-child)::after {content: \"\\00b7\"; padding: 0 .5ex}\n",
       "</style>\n",
       "<ol class=list-inline><li>'n'</li><li>'daydom_rng'</li><li>'daydom_max'</li><li>'sldlen_kurt'</li><li>'gibbs_kurt'</li></ol>\n"
      ],
      "text/latex": [
       "\\begin{enumerate*}\n",
       "\\item 'n'\n",
       "\\item 'daydom\\_rng'\n",
       "\\item 'daydom\\_max'\n",
       "\\item 'sldlen\\_kurt'\n",
       "\\item 'gibbs\\_kurt'\n",
       "\\end{enumerate*}\n"
      ],
      "text/markdown": [
       "1. 'n'\n",
       "2. 'daydom_rng'\n",
       "3. 'daydom_max'\n",
       "4. 'sldlen_kurt'\n",
       "5. 'gibbs_kurt'\n",
       "\n",
       "\n"
      ],
      "text/plain": [
       "[1] \"n\"           \"daydom_rng\"  \"daydom_max\"  \"sldlen_kurt\" \"gibbs_kurt\" "
      ]
     },
     "metadata": {},
     "output_type": "display_data"
    }
   ],
   "source": [
    "as.data.frame(importance(model)) %>% arrange(desc(importance(model))) %>% head(5) %>% row.names()"
   ]
  },
  {
   "cell_type": "markdown",
   "metadata": {},
   "source": [
    "# 3-class: agg_rf vs. seg2_glm vs. seg2_glm_fb"
   ]
  },
  {
   "cell_type": "markdown",
   "metadata": {},
   "source": [
    "## RF 3-class l10"
   ]
  },
  {
   "cell_type": "code",
   "execution_count": 172,
   "metadata": {},
   "outputs": [],
   "source": [
    "library(ranger) "
   ]
  },
  {
   "cell_type": "code",
   "execution_count": 173,
   "metadata": {},
   "outputs": [
    {
     "data": {
      "text/plain": [
       "      Y\n",
       "       auc_agg_rf_ALL auc_seg2_glm auc_seg2_glm_fb\n",
       "  0.12              0          772               0\n",
       "  0.17            509            0               0\n",
       "  0.71              0            0             125"
      ]
     },
     "metadata": {},
     "output_type": "display_data"
    }
   ],
   "source": [
    "#Compute weights to balance the RF\n",
    "Y = train$auc_win_04\n",
    "w <- 1/table(Y)\n",
    "w <- w/sum(w)\n",
    "\n",
    "weights <- rep(0, length(Y))\n",
    "\n",
    "for (model in unique(Y)){\n",
    "    weights[Y==model] <- w[model]\n",
    "}\n",
    "table(round(weights,2), Y)"
   ]
  },
  {
   "cell_type": "code",
   "execution_count": 174,
   "metadata": {},
   "outputs": [],
   "source": [
    "model <- ranger(formula         = auc_win_04 ~ ., \n",
    "                data            = train %>% \n",
    "                                    select('auc_win_04') %>% \n",
    "                                    bind_cols(\n",
    "                                        train %>% \n",
    "                                        select(-contains('auc'),-contains('l10'),-'tld_registrar_index', -'tld_rat')), \n",
    "                importance = 'impurity', \n",
    "                num.trees       = 500,\n",
    "                probability = TRUE,\n",
    "                replace = FALSE,\n",
    "                sample.fraction = .8,\n",
    "                seed            = 123,\n",
    "                respect.unordered.factors=TRUE,\n",
    "               case.weights=weights)"
   ]
  },
  {
   "cell_type": "code",
   "execution_count": 175,
   "metadata": {},
   "outputs": [
    {
     "data": {
      "text/html": [
       "<table>\n",
       "<caption>A data.frame: 6 × 4</caption>\n",
       "<thead>\n",
       "\t<tr><th></th><th scope=col>auc_agg_rf_ALL</th><th scope=col>auc_seg2_glm</th><th scope=col>auc_seg2_glm_fb</th><th scope=col>auc_win_04</th></tr>\n",
       "\t<tr><th></th><th scope=col>&lt;dbl&gt;</th><th scope=col>&lt;dbl&gt;</th><th scope=col>&lt;dbl&gt;</th><th scope=col>&lt;chr&gt;</th></tr>\n",
       "</thead>\n",
       "<tbody>\n",
       "\t<tr><th scope=row>1</th><td>0.3328325</td><td>0.4320262</td><td>0.23514127</td><td>auc_seg2_glm   </td></tr>\n",
       "\t<tr><th scope=row>2</th><td>0.5450786</td><td>0.3632032</td><td>0.09171825</td><td>auc_agg_rf_ALL </td></tr>\n",
       "\t<tr><th scope=row>3</th><td>0.1040079</td><td>0.8697135</td><td>0.02627857</td><td>auc_seg2_glm   </td></tr>\n",
       "\t<tr><th scope=row>4</th><td>0.3301976</td><td>0.2817310</td><td>0.38807143</td><td>auc_seg2_glm_fb</td></tr>\n",
       "\t<tr><th scope=row>5</th><td>0.1757611</td><td>0.8060770</td><td>0.01816190</td><td>auc_seg2_glm   </td></tr>\n",
       "\t<tr><th scope=row>6</th><td>0.6805960</td><td>0.2889754</td><td>0.03042857</td><td>auc_agg_rf_ALL </td></tr>\n",
       "</tbody>\n",
       "</table>\n"
      ],
      "text/latex": [
       "A data.frame: 6 × 4\n",
       "\\begin{tabular}{r|llll}\n",
       "  & auc\\_agg\\_rf\\_ALL & auc\\_seg2\\_glm & auc\\_seg2\\_glm\\_fb & auc\\_win\\_04\\\\\n",
       "  & <dbl> & <dbl> & <dbl> & <chr>\\\\\n",
       "\\hline\n",
       "\t1 & 0.3328325 & 0.4320262 & 0.23514127 & auc\\_seg2\\_glm   \\\\\n",
       "\t2 & 0.5450786 & 0.3632032 & 0.09171825 & auc\\_agg\\_rf\\_ALL \\\\\n",
       "\t3 & 0.1040079 & 0.8697135 & 0.02627857 & auc\\_seg2\\_glm   \\\\\n",
       "\t4 & 0.3301976 & 0.2817310 & 0.38807143 & auc\\_seg2\\_glm\\_fb\\\\\n",
       "\t5 & 0.1757611 & 0.8060770 & 0.01816190 & auc\\_seg2\\_glm   \\\\\n",
       "\t6 & 0.6805960 & 0.2889754 & 0.03042857 & auc\\_agg\\_rf\\_ALL \\\\\n",
       "\\end{tabular}\n"
      ],
      "text/markdown": [
       "\n",
       "A data.frame: 6 × 4\n",
       "\n",
       "| <!--/--> | auc_agg_rf_ALL &lt;dbl&gt; | auc_seg2_glm &lt;dbl&gt; | auc_seg2_glm_fb &lt;dbl&gt; | auc_win_04 &lt;chr&gt; |\n",
       "|---|---|---|---|---|\n",
       "| 1 | 0.3328325 | 0.4320262 | 0.23514127 | auc_seg2_glm    |\n",
       "| 2 | 0.5450786 | 0.3632032 | 0.09171825 | auc_agg_rf_ALL  |\n",
       "| 3 | 0.1040079 | 0.8697135 | 0.02627857 | auc_seg2_glm    |\n",
       "| 4 | 0.3301976 | 0.2817310 | 0.38807143 | auc_seg2_glm_fb |\n",
       "| 5 | 0.1757611 | 0.8060770 | 0.01816190 | auc_seg2_glm    |\n",
       "| 6 | 0.6805960 | 0.2889754 | 0.03042857 | auc_agg_rf_ALL  |\n",
       "\n"
      ],
      "text/plain": [
       "  auc_agg_rf_ALL auc_seg2_glm auc_seg2_glm_fb auc_win_04     \n",
       "1 0.3328325      0.4320262    0.23514127      auc_seg2_glm   \n",
       "2 0.5450786      0.3632032    0.09171825      auc_agg_rf_ALL \n",
       "3 0.1040079      0.8697135    0.02627857      auc_seg2_glm   \n",
       "4 0.3301976      0.2817310    0.38807143      auc_seg2_glm_fb\n",
       "5 0.1757611      0.8060770    0.01816190      auc_seg2_glm   \n",
       "6 0.6805960      0.2889754    0.03042857      auc_agg_rf_ALL "
      ]
     },
     "metadata": {},
     "output_type": "display_data"
    }
   ],
   "source": [
    "pred <- predict(model, \n",
    "                data = test,\n",
    "                type=\"response\")$predictions\n",
    "\n",
    "pred <- as.data.frame(pred)\n",
    "auc_vars <- names(pred)\n",
    "pred <- pred %>%\n",
    "    mutate (auc_win_04=sapply(apply(.[,c(auc_vars)], \n",
    "                          1, function(x) names(x)[which.max(x)]) , \n",
    "                                    function(s) if (length(s) == 0) NA else paste(s, collapse = \" \")) \n",
    "            ) \n",
    "head(pred)"
   ]
  },
  {
   "cell_type": "code",
   "execution_count": 176,
   "metadata": {},
   "outputs": [
    {
     "data": {
      "text/plain": [
       "\n",
       " auc_agg_rf_ALL    auc_seg2_glm auc_seg2_glm_fb \n",
       "     0.46022727      0.49715909      0.04261364 "
      ]
     },
     "metadata": {},
     "output_type": "display_data"
    }
   ],
   "source": [
    "prop.table(table(pred$auc_win_04))"
   ]
  },
  {
   "cell_type": "code",
   "execution_count": 177,
   "metadata": {},
   "outputs": [
    {
     "data": {
      "text/plain": [
       "                 \n",
       "                  auc_agg_rf_ALL auc_seg2_glm auc_seg2_glm_fb\n",
       "  auc_agg_rf_ALL              93           25               3\n",
       "  auc_seg2_glm                55          137               6\n",
       "  auc_seg2_glm_fb             14           13               6"
      ]
     },
     "metadata": {},
     "output_type": "display_data"
    }
   ],
   "source": [
    "xtab <- table(test$auc_win_04, pred$auc_win_04)\n",
    "xtab"
   ]
  },
  {
   "cell_type": "code",
   "execution_count": 180,
   "metadata": {},
   "outputs": [
    {
     "data": {
      "text/plain": [
       "Confusion Matrix and Statistics\n",
       "\n",
       "                 Reference\n",
       "Prediction        auc_agg_rf_ALL auc_seg2_glm auc_seg2_glm_fb\n",
       "  auc_agg_rf_ALL              93           25               3\n",
       "  auc_seg2_glm                55          137               6\n",
       "  auc_seg2_glm_fb             14           13               6\n",
       "\n",
       "Overall Statistics\n",
       "                                          \n",
       "               Accuracy : 0.6705          \n",
       "                 95% CI : (0.6186, 0.7194)\n",
       "    No Information Rate : 0.4972          \n",
       "    P-Value [Acc > NIR] : 3.761e-11       \n",
       "                                          \n",
       "                  Kappa : 0.4096          \n",
       "                                          \n",
       " Mcnemar's Test P-Value : 0.000108        \n",
       "\n",
       "Statistics by Class:\n",
       "\n",
       "                     Class: auc_agg_rf_ALL Class: auc_seg2_glm\n",
       "Sensitivity                         0.5741              0.7829\n",
       "Specificity                         0.8526              0.6554\n",
       "Pos Pred Value                      0.7686              0.6919\n",
       "Neg Pred Value                      0.7013              0.7532\n",
       "Prevalence                          0.4602              0.4972\n",
       "Detection Rate                      0.2642              0.3892\n",
       "Detection Prevalence                0.3438              0.5625\n",
       "Balanced Accuracy                   0.7134              0.7191\n",
       "                     Class: auc_seg2_glm_fb\n",
       "Sensitivity                         0.40000\n",
       "Specificity                         0.91988\n",
       "Pos Pred Value                      0.18182\n",
       "Neg Pred Value                      0.97179\n",
       "Prevalence                          0.04261\n",
       "Detection Rate                      0.01705\n",
       "Detection Prevalence                0.09375\n",
       "Balanced Accuracy                   0.65994"
      ]
     },
     "metadata": {},
     "output_type": "display_data"
    }
   ],
   "source": [
    "confusionMatrix(data=factor(test$auc_win_04), \n",
    "                reference=factor(pred$auc_win_04, levels=levels(factor(test$auc_win_04))))"
   ]
  },
  {
   "cell_type": "code",
   "execution_count": 181,
   "metadata": {},
   "outputs": [
    {
     "data": {
      "text/html": [
       "<table>\n",
       "<caption>A data.frame: 15 × 1</caption>\n",
       "<thead>\n",
       "\t<tr><th></th><th scope=col>importance(model)</th></tr>\n",
       "\t<tr><th></th><th scope=col>&lt;dbl&gt;</th></tr>\n",
       "</thead>\n",
       "<tbody>\n",
       "\t<tr><th scope=row>n</th><td>32.12306</td></tr>\n",
       "\t<tr><th scope=row>sldlen_kurt</th><td>25.80154</td></tr>\n",
       "\t<tr><th scope=row>daydom_kurt</th><td>23.39113</td></tr>\n",
       "\t<tr><th scope=row>sldlen_rng</th><td>23.19354</td></tr>\n",
       "\t<tr><th scope=row>ren_prp</th><td>21.30104</td></tr>\n",
       "\t<tr><th scope=row>daydom_rng</th><td>21.29278</td></tr>\n",
       "\t<tr><th scope=row>daydom_skew</th><td>19.18011</td></tr>\n",
       "\t<tr><th scope=row>gibbs_rng</th><td>18.78836</td></tr>\n",
       "\t<tr><th scope=row>gibbs_kurt</th><td>16.42664</td></tr>\n",
       "\t<tr><th scope=row>daydom_mean</th><td>15.71443</td></tr>\n",
       "\t<tr><th scope=row>sldlen_skew</th><td>13.33521</td></tr>\n",
       "\t<tr><th scope=row>pdcnt_skew</th><td>13.32890</td></tr>\n",
       "\t<tr><th scope=row>daydom_max</th><td>13.28499</td></tr>\n",
       "\t<tr><th scope=row>regarpt_skew</th><td>13.19850</td></tr>\n",
       "\t<tr><th scope=row>country_maj</th><td>12.56023</td></tr>\n",
       "</tbody>\n",
       "</table>\n"
      ],
      "text/latex": [
       "A data.frame: 15 × 1\n",
       "\\begin{tabular}{r|l}\n",
       "  & importance(model)\\\\\n",
       "  & <dbl>\\\\\n",
       "\\hline\n",
       "\tn & 32.12306\\\\\n",
       "\tsldlen\\_kurt & 25.80154\\\\\n",
       "\tdaydom\\_kurt & 23.39113\\\\\n",
       "\tsldlen\\_rng & 23.19354\\\\\n",
       "\tren\\_prp & 21.30104\\\\\n",
       "\tdaydom\\_rng & 21.29278\\\\\n",
       "\tdaydom\\_skew & 19.18011\\\\\n",
       "\tgibbs\\_rng & 18.78836\\\\\n",
       "\tgibbs\\_kurt & 16.42664\\\\\n",
       "\tdaydom\\_mean & 15.71443\\\\\n",
       "\tsldlen\\_skew & 13.33521\\\\\n",
       "\tpdcnt\\_skew & 13.32890\\\\\n",
       "\tdaydom\\_max & 13.28499\\\\\n",
       "\tregarpt\\_skew & 13.19850\\\\\n",
       "\tcountry\\_maj & 12.56023\\\\\n",
       "\\end{tabular}\n"
      ],
      "text/markdown": [
       "\n",
       "A data.frame: 15 × 1\n",
       "\n",
       "| <!--/--> | importance(model) &lt;dbl&gt; |\n",
       "|---|---|\n",
       "| n | 32.12306 |\n",
       "| sldlen_kurt | 25.80154 |\n",
       "| daydom_kurt | 23.39113 |\n",
       "| sldlen_rng | 23.19354 |\n",
       "| ren_prp | 21.30104 |\n",
       "| daydom_rng | 21.29278 |\n",
       "| daydom_skew | 19.18011 |\n",
       "| gibbs_rng | 18.78836 |\n",
       "| gibbs_kurt | 16.42664 |\n",
       "| daydom_mean | 15.71443 |\n",
       "| sldlen_skew | 13.33521 |\n",
       "| pdcnt_skew | 13.32890 |\n",
       "| daydom_max | 13.28499 |\n",
       "| regarpt_skew | 13.19850 |\n",
       "| country_maj | 12.56023 |\n",
       "\n"
      ],
      "text/plain": [
       "             importance(model)\n",
       "n            32.12306         \n",
       "sldlen_kurt  25.80154         \n",
       "daydom_kurt  23.39113         \n",
       "sldlen_rng   23.19354         \n",
       "ren_prp      21.30104         \n",
       "daydom_rng   21.29278         \n",
       "daydom_skew  19.18011         \n",
       "gibbs_rng    18.78836         \n",
       "gibbs_kurt   16.42664         \n",
       "daydom_mean  15.71443         \n",
       "sldlen_skew  13.33521         \n",
       "pdcnt_skew   13.32890         \n",
       "daydom_max   13.28499         \n",
       "regarpt_skew 13.19850         \n",
       "country_maj  12.56023         "
      ]
     },
     "metadata": {},
     "output_type": "display_data"
    }
   ],
   "source": [
    "as.data.frame(importance(model)) %>% arrange(desc(importance(model))) %>% head(15)"
   ]
  },
  {
   "cell_type": "code",
   "execution_count": 182,
   "metadata": {},
   "outputs": [
    {
     "data": {
      "text/html": [
       "<style>\n",
       ".list-inline {list-style: none; margin:0; padding: 0}\n",
       ".list-inline>li {display: inline-block}\n",
       ".list-inline>li:not(:last-child)::after {content: \"\\00b7\"; padding: 0 .5ex}\n",
       "</style>\n",
       "<ol class=list-inline><li>'n'</li><li>'sldlen_kurt'</li><li>'daydom_kurt'</li><li>'sldlen_rng'</li><li>'ren_prp'</li></ol>\n"
      ],
      "text/latex": [
       "\\begin{enumerate*}\n",
       "\\item 'n'\n",
       "\\item 'sldlen\\_kurt'\n",
       "\\item 'daydom\\_kurt'\n",
       "\\item 'sldlen\\_rng'\n",
       "\\item 'ren\\_prp'\n",
       "\\end{enumerate*}\n"
      ],
      "text/markdown": [
       "1. 'n'\n",
       "2. 'sldlen_kurt'\n",
       "3. 'daydom_kurt'\n",
       "4. 'sldlen_rng'\n",
       "5. 'ren_prp'\n",
       "\n",
       "\n"
      ],
      "text/plain": [
       "[1] \"n\"           \"sldlen_kurt\" \"daydom_kurt\" \"sldlen_rng\"  \"ren_prp\"    "
      ]
     },
     "metadata": {},
     "output_type": "display_data"
    }
   ],
   "source": [
    "as.data.frame(importance(model)) %>% arrange(desc(importance(model))) %>% head(5) %>% row.names"
   ]
  },
  {
   "cell_type": "markdown",
   "metadata": {},
   "source": [
    "## RF 3-class l10"
   ]
  },
  {
   "cell_type": "code",
   "execution_count": 183,
   "metadata": {},
   "outputs": [],
   "source": [
    "library(ranger) "
   ]
  },
  {
   "cell_type": "code",
   "execution_count": 184,
   "metadata": {},
   "outputs": [
    {
     "data": {
      "text/plain": [
       "      Y\n",
       "       l10_agg_rf_ALL l10_seg2_glm l10_seg2_glm_fb\n",
       "  0.06              0          960               0\n",
       "  0.14            380            0               0\n",
       "  0.8               0            0              66"
      ]
     },
     "metadata": {},
     "output_type": "display_data"
    }
   ],
   "source": [
    "#Compute weights to balance the RF\n",
    "Y = train$l10_win_04\n",
    "w <- 1/table(Y)\n",
    "w <- w/sum(w)\n",
    "\n",
    "weights <- rep(0, length(Y))\n",
    "\n",
    "for (model in unique(Y)){\n",
    "    weights[Y==model] <- w[model]\n",
    "}\n",
    "table(round(weights,2), Y)"
   ]
  },
  {
   "cell_type": "code",
   "execution_count": 185,
   "metadata": {},
   "outputs": [],
   "source": [
    "model <- ranger(formula         = l10_win_04 ~ ., \n",
    "                data            = train %>% \n",
    "                                    select('l10_win_04') %>% \n",
    "                                    bind_cols(\n",
    "                                        train %>% \n",
    "                                        select(-contains('auc'),-contains('l10'),-'tld_registrar_index', -'tld_rat')), \n",
    "                importance = 'impurity', \n",
    "                num.trees       = 500,\n",
    "                probability = TRUE,\n",
    "                replace = FALSE,\n",
    "                sample.fraction = .8,\n",
    "                seed            = 123,\n",
    "                respect.unordered.factors=TRUE,\n",
    "               case.weights=weights)"
   ]
  },
  {
   "cell_type": "code",
   "execution_count": 186,
   "metadata": {},
   "outputs": [
    {
     "data": {
      "text/html": [
       "<table>\n",
       "<caption>A data.frame: 6 × 4</caption>\n",
       "<thead>\n",
       "\t<tr><th></th><th scope=col>l10_agg_rf_ALL</th><th scope=col>l10_seg2_glm</th><th scope=col>l10_seg2_glm_fb</th><th scope=col>l10_win_04</th></tr>\n",
       "\t<tr><th></th><th scope=col>&lt;dbl&gt;</th><th scope=col>&lt;dbl&gt;</th><th scope=col>&lt;dbl&gt;</th><th scope=col>&lt;chr&gt;</th></tr>\n",
       "</thead>\n",
       "<tbody>\n",
       "\t<tr><th scope=row>1</th><td>0.11233333</td><td>0.8247794</td><td>0.06288730</td><td>l10_seg2_glm  </td></tr>\n",
       "\t<tr><th scope=row>2</th><td>0.63067540</td><td>0.3484683</td><td>0.02085635</td><td>l10_agg_rf_ALL</td></tr>\n",
       "\t<tr><th scope=row>3</th><td>0.10844127</td><td>0.8685635</td><td>0.02299524</td><td>l10_seg2_glm  </td></tr>\n",
       "\t<tr><th scope=row>4</th><td>0.27805000</td><td>0.6116524</td><td>0.11029762</td><td>l10_seg2_glm  </td></tr>\n",
       "\t<tr><th scope=row>5</th><td>0.08450476</td><td>0.9033619</td><td>0.01213333</td><td>l10_seg2_glm  </td></tr>\n",
       "\t<tr><th scope=row>6</th><td>0.43938095</td><td>0.5387873</td><td>0.02183175</td><td>l10_seg2_glm  </td></tr>\n",
       "</tbody>\n",
       "</table>\n"
      ],
      "text/latex": [
       "A data.frame: 6 × 4\n",
       "\\begin{tabular}{r|llll}\n",
       "  & l10\\_agg\\_rf\\_ALL & l10\\_seg2\\_glm & l10\\_seg2\\_glm\\_fb & l10\\_win\\_04\\\\\n",
       "  & <dbl> & <dbl> & <dbl> & <chr>\\\\\n",
       "\\hline\n",
       "\t1 & 0.11233333 & 0.8247794 & 0.06288730 & l10\\_seg2\\_glm  \\\\\n",
       "\t2 & 0.63067540 & 0.3484683 & 0.02085635 & l10\\_agg\\_rf\\_ALL\\\\\n",
       "\t3 & 0.10844127 & 0.8685635 & 0.02299524 & l10\\_seg2\\_glm  \\\\\n",
       "\t4 & 0.27805000 & 0.6116524 & 0.11029762 & l10\\_seg2\\_glm  \\\\\n",
       "\t5 & 0.08450476 & 0.9033619 & 0.01213333 & l10\\_seg2\\_glm  \\\\\n",
       "\t6 & 0.43938095 & 0.5387873 & 0.02183175 & l10\\_seg2\\_glm  \\\\\n",
       "\\end{tabular}\n"
      ],
      "text/markdown": [
       "\n",
       "A data.frame: 6 × 4\n",
       "\n",
       "| <!--/--> | l10_agg_rf_ALL &lt;dbl&gt; | l10_seg2_glm &lt;dbl&gt; | l10_seg2_glm_fb &lt;dbl&gt; | l10_win_04 &lt;chr&gt; |\n",
       "|---|---|---|---|---|\n",
       "| 1 | 0.11233333 | 0.8247794 | 0.06288730 | l10_seg2_glm   |\n",
       "| 2 | 0.63067540 | 0.3484683 | 0.02085635 | l10_agg_rf_ALL |\n",
       "| 3 | 0.10844127 | 0.8685635 | 0.02299524 | l10_seg2_glm   |\n",
       "| 4 | 0.27805000 | 0.6116524 | 0.11029762 | l10_seg2_glm   |\n",
       "| 5 | 0.08450476 | 0.9033619 | 0.01213333 | l10_seg2_glm   |\n",
       "| 6 | 0.43938095 | 0.5387873 | 0.02183175 | l10_seg2_glm   |\n",
       "\n"
      ],
      "text/plain": [
       "  l10_agg_rf_ALL l10_seg2_glm l10_seg2_glm_fb l10_win_04    \n",
       "1 0.11233333     0.8247794    0.06288730      l10_seg2_glm  \n",
       "2 0.63067540     0.3484683    0.02085635      l10_agg_rf_ALL\n",
       "3 0.10844127     0.8685635    0.02299524      l10_seg2_glm  \n",
       "4 0.27805000     0.6116524    0.11029762      l10_seg2_glm  \n",
       "5 0.08450476     0.9033619    0.01213333      l10_seg2_glm  \n",
       "6 0.43938095     0.5387873    0.02183175      l10_seg2_glm  "
      ]
     },
     "metadata": {},
     "output_type": "display_data"
    }
   ],
   "source": [
    "pred <- predict(model, \n",
    "                data = test,\n",
    "                type=\"response\")$predictions\n",
    "\n",
    "pred <- as.data.frame(pred)\n",
    "auc_vars <- names(pred)\n",
    "pred <- pred %>%\n",
    "    mutate (l10_win_04=sapply(apply(.[,c(auc_vars)], \n",
    "                          1, function(x) names(x)[which.max(x)]) , \n",
    "                                    function(s) if (length(s) == 0) NA else paste(s, collapse = \" \")) \n",
    "            ) \n",
    "head(pred)"
   ]
  },
  {
   "cell_type": "code",
   "execution_count": 187,
   "metadata": {},
   "outputs": [
    {
     "data": {
      "text/plain": [
       "\n",
       " l10_agg_rf_ALL    l10_seg2_glm l10_seg2_glm_fb \n",
       "    0.255681818     0.738636364     0.005681818 "
      ]
     },
     "metadata": {},
     "output_type": "display_data"
    }
   ],
   "source": [
    "prop.table(table(pred$l10_win_04))"
   ]
  },
  {
   "cell_type": "code",
   "execution_count": 189,
   "metadata": {},
   "outputs": [
    {
     "data": {
      "text/plain": [
       "                 \n",
       "                  l10_agg_rf_ALL l10_seg2_glm l10_seg2_glm_fb\n",
       "  l10_agg_rf_ALL              52           29               0\n",
       "  l10_seg2_glm                37          214               0\n",
       "  l10_seg2_glm_fb              1           17               2"
      ]
     },
     "metadata": {},
     "output_type": "display_data"
    }
   ],
   "source": [
    "xtab <- table(test$l10_win_04, pred$l10_win_04)\n",
    "xtab"
   ]
  },
  {
   "cell_type": "code",
   "execution_count": 190,
   "metadata": {},
   "outputs": [
    {
     "data": {
      "text/plain": [
       "Confusion Matrix and Statistics\n",
       "\n",
       "                 Reference\n",
       "Prediction        l10_agg_rf_ALL l10_seg2_glm l10_seg2_glm_fb\n",
       "  l10_agg_rf_ALL              52           29               0\n",
       "  l10_seg2_glm                37          214               0\n",
       "  l10_seg2_glm_fb              1           17               2\n",
       "\n",
       "Overall Statistics\n",
       "                                         \n",
       "               Accuracy : 0.7614         \n",
       "                 95% CI : (0.7133, 0.805)\n",
       "    No Information Rate : 0.7386         \n",
       "    P-Value [Acc > NIR] : 0.1818882      \n",
       "                                         \n",
       "                  Kappa : 0.4238         \n",
       "                                         \n",
       " Mcnemar's Test P-Value : 0.0002774      \n",
       "\n",
       "Statistics by Class:\n",
       "\n",
       "                     Class: l10_agg_rf_ALL Class: l10_seg2_glm\n",
       "Sensitivity                         0.5778              0.8231\n",
       "Specificity                         0.8893              0.5978\n",
       "Pos Pred Value                      0.6420              0.8526\n",
       "Neg Pred Value                      0.8598              0.5446\n",
       "Prevalence                          0.2557              0.7386\n",
       "Detection Rate                      0.1477              0.6080\n",
       "Detection Prevalence                0.2301              0.7131\n",
       "Balanced Accuracy                   0.7335              0.7105\n",
       "                     Class: l10_seg2_glm_fb\n",
       "Sensitivity                        1.000000\n",
       "Specificity                        0.948571\n",
       "Pos Pred Value                     0.100000\n",
       "Neg Pred Value                     1.000000\n",
       "Prevalence                         0.005682\n",
       "Detection Rate                     0.005682\n",
       "Detection Prevalence               0.056818\n",
       "Balanced Accuracy                  0.974286"
      ]
     },
     "metadata": {},
     "output_type": "display_data"
    }
   ],
   "source": [
    "confusionMatrix(data=factor(test$l10_win_04), \n",
    "                reference=factor(pred$l10_win_04, levels=levels(factor(test$l10_win_04))))"
   ]
  },
  {
   "cell_type": "code",
   "execution_count": 193,
   "metadata": {},
   "outputs": [
    {
     "data": {
      "text/html": [
       "352"
      ],
      "text/latex": [
       "352"
      ],
      "text/markdown": [
       "352"
      ],
      "text/plain": [
       "[1] 352"
      ]
     },
     "metadata": {},
     "output_type": "display_data"
    },
    {
     "data": {
      "text/html": [
       "352"
      ],
      "text/latex": [
       "352"
      ],
      "text/markdown": [
       "352"
      ],
      "text/plain": [
       "[1] 352"
      ]
     },
     "metadata": {},
     "output_type": "display_data"
    }
   ],
   "source": [
    "length((test$l10_win_04))\n",
    "length((pred$l10_win_04))"
   ]
  },
  {
   "cell_type": "code",
   "execution_count": 194,
   "metadata": {},
   "outputs": [
    {
     "data": {
      "text/plain": [
       "\n",
       " l10_agg_rf_ALL    l10_seg2_glm l10_seg2_glm_fb \n",
       "     0.23011364      0.71306818      0.05681818 "
      ]
     },
     "metadata": {},
     "output_type": "display_data"
    },
    {
     "data": {
      "text/plain": [
       "\n",
       " auc_agg_rf_ALL    auc_seg2_glm auc_seg2_glm_fb \n",
       "        0.34375         0.56250         0.09375 "
      ]
     },
     "metadata": {},
     "output_type": "display_data"
    }
   ],
   "source": [
    "prop.table(table(test$l10_win_04))\n",
    "prop.table(table(test$auc_win_04))"
   ]
  },
  {
   "cell_type": "code",
   "execution_count": 195,
   "metadata": {},
   "outputs": [
    {
     "data": {
      "text/html": [
       "<table>\n",
       "<caption>A data.frame: 15 × 1</caption>\n",
       "<thead>\n",
       "\t<tr><th></th><th scope=col>importance(model)</th></tr>\n",
       "\t<tr><th></th><th scope=col>&lt;dbl&gt;</th></tr>\n",
       "</thead>\n",
       "<tbody>\n",
       "\t<tr><th scope=row>n</th><td>29.62180</td></tr>\n",
       "\t<tr><th scope=row>gibbs_rng</th><td>22.82431</td></tr>\n",
       "\t<tr><th scope=row>sldlen_kurt</th><td>20.14648</td></tr>\n",
       "\t<tr><th scope=row>daydom_rng</th><td>18.83426</td></tr>\n",
       "\t<tr><th scope=row>gibbs_max</th><td>18.56326</td></tr>\n",
       "\t<tr><th scope=row>ren_prp</th><td>17.06489</td></tr>\n",
       "\t<tr><th scope=row>pdcnt_rng</th><td>13.99756</td></tr>\n",
       "\t<tr><th scope=row>daydom_max</th><td>13.31989</td></tr>\n",
       "\t<tr><th scope=row>gibbs_kurt</th><td>13.24280</td></tr>\n",
       "\t<tr><th scope=row>daydom_mean</th><td>13.17442</td></tr>\n",
       "\t<tr><th scope=row>sldlen_rng</th><td>12.61851</td></tr>\n",
       "\t<tr><th scope=row>gibbs_min</th><td>11.88731</td></tr>\n",
       "\t<tr><th scope=row>daydom_kurt</th><td>10.74644</td></tr>\n",
       "\t<tr><th scope=row>daydom_skew</th><td>10.61338</td></tr>\n",
       "\t<tr><th scope=row>country_maj</th><td>10.55577</td></tr>\n",
       "</tbody>\n",
       "</table>\n"
      ],
      "text/latex": [
       "A data.frame: 15 × 1\n",
       "\\begin{tabular}{r|l}\n",
       "  & importance(model)\\\\\n",
       "  & <dbl>\\\\\n",
       "\\hline\n",
       "\tn & 29.62180\\\\\n",
       "\tgibbs\\_rng & 22.82431\\\\\n",
       "\tsldlen\\_kurt & 20.14648\\\\\n",
       "\tdaydom\\_rng & 18.83426\\\\\n",
       "\tgibbs\\_max & 18.56326\\\\\n",
       "\tren\\_prp & 17.06489\\\\\n",
       "\tpdcnt\\_rng & 13.99756\\\\\n",
       "\tdaydom\\_max & 13.31989\\\\\n",
       "\tgibbs\\_kurt & 13.24280\\\\\n",
       "\tdaydom\\_mean & 13.17442\\\\\n",
       "\tsldlen\\_rng & 12.61851\\\\\n",
       "\tgibbs\\_min & 11.88731\\\\\n",
       "\tdaydom\\_kurt & 10.74644\\\\\n",
       "\tdaydom\\_skew & 10.61338\\\\\n",
       "\tcountry\\_maj & 10.55577\\\\\n",
       "\\end{tabular}\n"
      ],
      "text/markdown": [
       "\n",
       "A data.frame: 15 × 1\n",
       "\n",
       "| <!--/--> | importance(model) &lt;dbl&gt; |\n",
       "|---|---|\n",
       "| n | 29.62180 |\n",
       "| gibbs_rng | 22.82431 |\n",
       "| sldlen_kurt | 20.14648 |\n",
       "| daydom_rng | 18.83426 |\n",
       "| gibbs_max | 18.56326 |\n",
       "| ren_prp | 17.06489 |\n",
       "| pdcnt_rng | 13.99756 |\n",
       "| daydom_max | 13.31989 |\n",
       "| gibbs_kurt | 13.24280 |\n",
       "| daydom_mean | 13.17442 |\n",
       "| sldlen_rng | 12.61851 |\n",
       "| gibbs_min | 11.88731 |\n",
       "| daydom_kurt | 10.74644 |\n",
       "| daydom_skew | 10.61338 |\n",
       "| country_maj | 10.55577 |\n",
       "\n"
      ],
      "text/plain": [
       "            importance(model)\n",
       "n           29.62180         \n",
       "gibbs_rng   22.82431         \n",
       "sldlen_kurt 20.14648         \n",
       "daydom_rng  18.83426         \n",
       "gibbs_max   18.56326         \n",
       "ren_prp     17.06489         \n",
       "pdcnt_rng   13.99756         \n",
       "daydom_max  13.31989         \n",
       "gibbs_kurt  13.24280         \n",
       "daydom_mean 13.17442         \n",
       "sldlen_rng  12.61851         \n",
       "gibbs_min   11.88731         \n",
       "daydom_kurt 10.74644         \n",
       "daydom_skew 10.61338         \n",
       "country_maj 10.55577         "
      ]
     },
     "metadata": {},
     "output_type": "display_data"
    }
   ],
   "source": [
    "as.data.frame(importance(model)) %>% arrange(desc(importance(model))) %>% head(15)"
   ]
  },
  {
   "cell_type": "code",
   "execution_count": 196,
   "metadata": {},
   "outputs": [
    {
     "data": {
      "text/html": [
       "<style>\n",
       ".list-inline {list-style: none; margin:0; padding: 0}\n",
       ".list-inline>li {display: inline-block}\n",
       ".list-inline>li:not(:last-child)::after {content: \"\\00b7\"; padding: 0 .5ex}\n",
       "</style>\n",
       "<ol class=list-inline><li>'n'</li><li>'gibbs_rng'</li><li>'sldlen_kurt'</li><li>'daydom_rng'</li><li>'gibbs_max'</li></ol>\n"
      ],
      "text/latex": [
       "\\begin{enumerate*}\n",
       "\\item 'n'\n",
       "\\item 'gibbs\\_rng'\n",
       "\\item 'sldlen\\_kurt'\n",
       "\\item 'daydom\\_rng'\n",
       "\\item 'gibbs\\_max'\n",
       "\\end{enumerate*}\n"
      ],
      "text/markdown": [
       "1. 'n'\n",
       "2. 'gibbs_rng'\n",
       "3. 'sldlen_kurt'\n",
       "4. 'daydom_rng'\n",
       "5. 'gibbs_max'\n",
       "\n",
       "\n"
      ],
      "text/plain": [
       "[1] \"n\"           \"gibbs_rng\"   \"sldlen_kurt\" \"daydom_rng\"  \"gibbs_max\"  "
      ]
     },
     "metadata": {},
     "output_type": "display_data"
    }
   ],
   "source": [
    "as.data.frame(importance(model)) %>% arrange(desc(importance(model))) %>% head(5) %>% row.names()"
   ]
  },
  {
   "cell_type": "markdown",
   "metadata": {},
   "source": [
    "# Assign Model based on 3-class prediction for l10"
   ]
  },
  {
   "cell_type": "code",
   "execution_count": 197,
   "metadata": {},
   "outputs": [
    {
     "data": {
      "text/plain": [
       "      Y\n",
       "       l10_agg_rf_ALL l10_seg2_glm l10_seg2_glm_fb\n",
       "  0.06              0          960               0\n",
       "  0.14            380            0               0\n",
       "  0.8               0            0              66"
      ]
     },
     "metadata": {},
     "output_type": "display_data"
    }
   ],
   "source": [
    "#Compute weights to balance the RF\n",
    "Y = train$l10_win_04\n",
    "w <- 1/table(Y)\n",
    "w <- w/sum(w)\n",
    "\n",
    "weights <- rep(0, length(Y))\n",
    "\n",
    "for (model in unique(Y)){\n",
    "    weights[Y==model] <- w[model]\n",
    "}\n",
    "table(round(weights,2), Y)"
   ]
  },
  {
   "cell_type": "code",
   "execution_count": 198,
   "metadata": {},
   "outputs": [],
   "source": [
    "model <- ranger(formula         = l10_win_04 ~ ., \n",
    "                data            = train %>% \n",
    "                                    select('l10_win_04') %>% \n",
    "                                    bind_cols(\n",
    "                                        train %>% \n",
    "                                        select(-contains('auc'),-contains('l10'),-'tld_registrar_index', -'tld_rat')), \n",
    "                importance = 'impurity', \n",
    "                num.trees       = 500,\n",
    "                probability = TRUE,\n",
    "                replace = FALSE,\n",
    "                sample.fraction = .8,\n",
    "                seed            = 123,\n",
    "                respect.unordered.factors=TRUE,\n",
    "               case.weights=weights)"
   ]
  },
  {
   "cell_type": "code",
   "execution_count": 199,
   "metadata": {},
   "outputs": [
    {
     "data": {
      "text/html": [
       "<table>\n",
       "<caption>A data.frame: 6 × 4</caption>\n",
       "<thead>\n",
       "\t<tr><th></th><th scope=col>l10_agg_rf_ALL</th><th scope=col>l10_seg2_glm</th><th scope=col>l10_seg2_glm_fb</th><th scope=col>l10_win_04</th></tr>\n",
       "\t<tr><th></th><th scope=col>&lt;dbl&gt;</th><th scope=col>&lt;dbl&gt;</th><th scope=col>&lt;dbl&gt;</th><th scope=col>&lt;chr&gt;</th></tr>\n",
       "</thead>\n",
       "<tbody>\n",
       "\t<tr><th scope=row>1</th><td>0.11233333</td><td>0.8247794</td><td>0.06288730</td><td>l10_seg2_glm  </td></tr>\n",
       "\t<tr><th scope=row>2</th><td>0.63067540</td><td>0.3484683</td><td>0.02085635</td><td>l10_agg_rf_ALL</td></tr>\n",
       "\t<tr><th scope=row>3</th><td>0.10844127</td><td>0.8685635</td><td>0.02299524</td><td>l10_seg2_glm  </td></tr>\n",
       "\t<tr><th scope=row>4</th><td>0.27805000</td><td>0.6116524</td><td>0.11029762</td><td>l10_seg2_glm  </td></tr>\n",
       "\t<tr><th scope=row>5</th><td>0.08450476</td><td>0.9033619</td><td>0.01213333</td><td>l10_seg2_glm  </td></tr>\n",
       "\t<tr><th scope=row>6</th><td>0.43938095</td><td>0.5387873</td><td>0.02183175</td><td>l10_seg2_glm  </td></tr>\n",
       "</tbody>\n",
       "</table>\n"
      ],
      "text/latex": [
       "A data.frame: 6 × 4\n",
       "\\begin{tabular}{r|llll}\n",
       "  & l10\\_agg\\_rf\\_ALL & l10\\_seg2\\_glm & l10\\_seg2\\_glm\\_fb & l10\\_win\\_04\\\\\n",
       "  & <dbl> & <dbl> & <dbl> & <chr>\\\\\n",
       "\\hline\n",
       "\t1 & 0.11233333 & 0.8247794 & 0.06288730 & l10\\_seg2\\_glm  \\\\\n",
       "\t2 & 0.63067540 & 0.3484683 & 0.02085635 & l10\\_agg\\_rf\\_ALL\\\\\n",
       "\t3 & 0.10844127 & 0.8685635 & 0.02299524 & l10\\_seg2\\_glm  \\\\\n",
       "\t4 & 0.27805000 & 0.6116524 & 0.11029762 & l10\\_seg2\\_glm  \\\\\n",
       "\t5 & 0.08450476 & 0.9033619 & 0.01213333 & l10\\_seg2\\_glm  \\\\\n",
       "\t6 & 0.43938095 & 0.5387873 & 0.02183175 & l10\\_seg2\\_glm  \\\\\n",
       "\\end{tabular}\n"
      ],
      "text/markdown": [
       "\n",
       "A data.frame: 6 × 4\n",
       "\n",
       "| <!--/--> | l10_agg_rf_ALL &lt;dbl&gt; | l10_seg2_glm &lt;dbl&gt; | l10_seg2_glm_fb &lt;dbl&gt; | l10_win_04 &lt;chr&gt; |\n",
       "|---|---|---|---|---|\n",
       "| 1 | 0.11233333 | 0.8247794 | 0.06288730 | l10_seg2_glm   |\n",
       "| 2 | 0.63067540 | 0.3484683 | 0.02085635 | l10_agg_rf_ALL |\n",
       "| 3 | 0.10844127 | 0.8685635 | 0.02299524 | l10_seg2_glm   |\n",
       "| 4 | 0.27805000 | 0.6116524 | 0.11029762 | l10_seg2_glm   |\n",
       "| 5 | 0.08450476 | 0.9033619 | 0.01213333 | l10_seg2_glm   |\n",
       "| 6 | 0.43938095 | 0.5387873 | 0.02183175 | l10_seg2_glm   |\n",
       "\n"
      ],
      "text/plain": [
       "  l10_agg_rf_ALL l10_seg2_glm l10_seg2_glm_fb l10_win_04    \n",
       "1 0.11233333     0.8247794    0.06288730      l10_seg2_glm  \n",
       "2 0.63067540     0.3484683    0.02085635      l10_agg_rf_ALL\n",
       "3 0.10844127     0.8685635    0.02299524      l10_seg2_glm  \n",
       "4 0.27805000     0.6116524    0.11029762      l10_seg2_glm  \n",
       "5 0.08450476     0.9033619    0.01213333      l10_seg2_glm  \n",
       "6 0.43938095     0.5387873    0.02183175      l10_seg2_glm  "
      ]
     },
     "metadata": {},
     "output_type": "display_data"
    }
   ],
   "source": [
    "pred <- predict(model, \n",
    "                data = test,\n",
    "                type=\"response\")$predictions\n",
    "\n",
    "pred <- as.data.frame(pred)\n",
    "auc_vars <- names(pred)\n",
    "pred <- pred %>%\n",
    "    mutate (l10_win_04=sapply(apply(.[,c(auc_vars)], \n",
    "                          1, function(x) names(x)[which.max(x)]) , \n",
    "                                    function(s) if (length(s) == 0) NA else paste(s, collapse = \" \")) \n",
    "            ) \n",
    "head(pred)"
   ]
  },
  {
   "cell_type": "code",
   "execution_count": 200,
   "metadata": {},
   "outputs": [
    {
     "data": {
      "text/html": [
       "<style>\n",
       ".list-inline {list-style: none; margin:0; padding: 0}\n",
       ".list-inline>li {display: inline-block}\n",
       ".list-inline>li:not(:last-child)::after {content: \"\\00b7\"; padding: 0 .5ex}\n",
       "</style>\n",
       "<ol class=list-inline><li>352</li><li>86</li></ol>\n"
      ],
      "text/latex": [
       "\\begin{enumerate*}\n",
       "\\item 352\n",
       "\\item 86\n",
       "\\end{enumerate*}\n"
      ],
      "text/markdown": [
       "1. 352\n",
       "2. 86\n",
       "\n",
       "\n"
      ],
      "text/plain": [
       "[1] 352  86"
      ]
     },
     "metadata": {},
     "output_type": "display_data"
    },
    {
     "data": {
      "text/html": [
       "<style>\n",
       ".list-inline {list-style: none; margin:0; padding: 0}\n",
       ".list-inline>li {display: inline-block}\n",
       ".list-inline>li:not(:last-child)::after {content: \"\\00b7\"; padding: 0 .5ex}\n",
       "</style>\n",
       "<ol class=list-inline><li>352</li><li>4</li></ol>\n"
      ],
      "text/latex": [
       "\\begin{enumerate*}\n",
       "\\item 352\n",
       "\\item 4\n",
       "\\end{enumerate*}\n"
      ],
      "text/markdown": [
       "1. 352\n",
       "2. 4\n",
       "\n",
       "\n"
      ],
      "text/plain": [
       "[1] 352   4"
      ]
     },
     "metadata": {},
     "output_type": "display_data"
    },
    {
     "data": {
      "text/html": [
       "<style>\n",
       ".list-inline {list-style: none; margin:0; padding: 0}\n",
       ".list-inline>li {display: inline-block}\n",
       ".list-inline>li:not(:last-child)::after {content: \"\\00b7\"; padding: 0 .5ex}\n",
       "</style>\n",
       "<ol class=list-inline><li>352</li><li>90</li></ol>\n"
      ],
      "text/latex": [
       "\\begin{enumerate*}\n",
       "\\item 352\n",
       "\\item 90\n",
       "\\end{enumerate*}\n"
      ],
      "text/markdown": [
       "1. 352\n",
       "2. 90\n",
       "\n",
       "\n"
      ],
      "text/plain": [
       "[1] 352  90"
      ]
     },
     "metadata": {},
     "output_type": "display_data"
    },
    {
     "data": {
      "text/html": [
       "<table>\n",
       "<caption>A data.frame: 6 × 90</caption>\n",
       "<thead>\n",
       "\t<tr><th></th><th scope=col>tld_registrar_index</th><th scope=col>geo_maj</th><th scope=col>geo_cnt</th><th scope=col>n</th><th scope=col>ren_prp</th><th scope=col>tld_cnt</th><th scope=col>tld_rat</th><th scope=col>daydom_min</th><th scope=col>daydom_max</th><th scope=col>daydom_mean</th><th scope=col>daydom_rng</th><th scope=col>daydom_std</th><th scope=col>daydom_skew</th><th scope=col>daydom_kurt</th><th scope=col>sldlen_min</th><th scope=col>sldlen_max</th><th scope=col>sldlen_mean</th><th scope=col>sldlen_rng</th><th scope=col>sldlen_std</th><th scope=col>sldlen_skew</th><th scope=col>sldlen_kurt</th><th scope=col>gibbs_min</th><th scope=col>gibbs_max</th><th scope=col>gibbs_mean</th><th scope=col>gibbs_rng</th><th scope=col>⋯</th><th scope=col>l10_agg_glm_ALL_fb</th><th scope=col>l10_seg2_rf_fb</th><th scope=col>l10_seg_rf_fb</th><th scope=col>l10_agg_rf_fb</th><th scope=col>l10_agg_rf_ALL_fb</th><th scope=col>auc_seg2_glm_fb</th><th scope=col>auc_seg_glm_fb</th><th scope=col>auc_agg_glm_fb</th><th scope=col>auc_agg_glm_ALL_fb</th><th scope=col>auc_seg2_rf_fb</th><th scope=col>auc_seg_rf_fb</th><th scope=col>auc_agg_rf_fb</th><th scope=col>auc_agg_rf_ALL_fb</th><th scope=col>auc_win_01</th><th scope=col>l10_win_01</th><th scope=col>auc_win_02</th><th scope=col>l10_win_02</th><th scope=col>auc_win_03</th><th scope=col>l10_win_03</th><th scope=col>auc_win_04</th><th scope=col>l10_win_04</th><th scope=col>l10_agg_rf_ALL</th><th scope=col>l10_seg2_glm</th><th scope=col>l10_seg2_glm_fb</th><th scope=col>l10_win_04.1</th></tr>\n",
       "\t<tr><th></th><th scope=col>&lt;fct&gt;</th><th scope=col>&lt;fct&gt;</th><th scope=col>&lt;int&gt;</th><th scope=col>&lt;int&gt;</th><th scope=col>&lt;dbl&gt;</th><th scope=col>&lt;int&gt;</th><th scope=col>&lt;dbl&gt;</th><th scope=col>&lt;int&gt;</th><th scope=col>&lt;int&gt;</th><th scope=col>&lt;dbl&gt;</th><th scope=col>&lt;int&gt;</th><th scope=col>&lt;dbl&gt;</th><th scope=col>&lt;dbl&gt;</th><th scope=col>&lt;dbl&gt;</th><th scope=col>&lt;int&gt;</th><th scope=col>&lt;int&gt;</th><th scope=col>&lt;dbl&gt;</th><th scope=col>&lt;int&gt;</th><th scope=col>&lt;dbl&gt;</th><th scope=col>&lt;dbl&gt;</th><th scope=col>&lt;dbl&gt;</th><th scope=col>&lt;dbl&gt;</th><th scope=col>&lt;dbl&gt;</th><th scope=col>&lt;dbl&gt;</th><th scope=col>&lt;dbl&gt;</th><th scope=col>⋯</th><th scope=col>&lt;dbl&gt;</th><th scope=col>&lt;dbl&gt;</th><th scope=col>&lt;dbl&gt;</th><th scope=col>&lt;dbl&gt;</th><th scope=col>&lt;dbl&gt;</th><th scope=col>&lt;dbl&gt;</th><th scope=col>&lt;dbl&gt;</th><th scope=col>&lt;dbl&gt;</th><th scope=col>&lt;dbl&gt;</th><th scope=col>&lt;dbl&gt;</th><th scope=col>&lt;dbl&gt;</th><th scope=col>&lt;dbl&gt;</th><th scope=col>&lt;dbl&gt;</th><th scope=col>&lt;chr&gt;</th><th scope=col>&lt;chr&gt;</th><th scope=col>&lt;chr&gt;</th><th scope=col>&lt;chr&gt;</th><th scope=col>&lt;chr&gt;</th><th scope=col>&lt;chr&gt;</th><th scope=col>&lt;chr&gt;</th><th scope=col>&lt;chr&gt;</th><th scope=col>&lt;dbl&gt;</th><th scope=col>&lt;dbl&gt;</th><th scope=col>&lt;dbl&gt;</th><th scope=col>&lt;chr&gt;</th></tr>\n",
       "</thead>\n",
       "<tbody>\n",
       "\t<tr><th scope=row>3</th><td>fun1api          </td><td>EU                        </td><td>1</td><td>  8</td><td>0.50000000</td><td>1</td><td>0.125000000</td><td>1</td><td>  1</td><td>  1.000000</td><td>  0</td><td>  0.0000000</td><td> 1.4225354</td><td> 0.5279077</td><td> 4</td><td>15</td><td> 8.875000</td><td>11</td><td>3.5228844</td><td> 0.4848693</td><td>-1.143452</td><td>2.00</td><td>  6.09</td><td> 4.396250</td><td> 4.09</td><td>⋯</td><td>2.500000</td><td>2.500000</td><td>2.500000</td><td>2.500000</td><td>2.500000</td><td>0.4250000</td><td>0.4250000</td><td>0.4250000</td><td>0.4250000</td><td>0.4250000</td><td>0.4250000</td><td>0.4250000</td><td>0.4250000</td><td>auc_seg2_glm_fb</td><td>l10_seg2_glm_fb</td><td>auc_agg_glm_ALL</td><td>l10_agg_glm_ALL</td><td>auc_seg2_glm_fb</td><td>l10_seg2_glm_fb</td><td>auc_seg2_glm_fb</td><td>l10_seg2_glm_fb</td><td>0.11233333</td><td>0.8247794</td><td>0.06288730</td><td>l10_seg2_glm  </td></tr>\n",
       "\t<tr><th scope=row>7</th><td>funalibaba sg    </td><td>China                     </td><td>1</td><td>195</td><td>0.04102564</td><td>1</td><td>0.005128205</td><td>1</td><td>490</td><td>296.728205</td><td>489</td><td>228.3117623</td><td>-0.3415584</td><td>-1.8644672</td><td> 4</td><td>15</td><td> 6.794872</td><td>11</td><td>2.3106598</td><td> 1.4636429</td><td> 1.315210</td><td>0.12</td><td> 16.72</td><td> 4.425128</td><td>16.60</td><td>⋯</td><td>6.250000</td><td>3.750000</td><td>2.500000</td><td>3.750000</td><td>3.750000</td><td>0.9250000</td><td>0.9000000</td><td>0.8625000</td><td>0.8500000</td><td>0.8875000</td><td>0.8750000</td><td>0.8750000</td><td>0.8750000</td><td>auc_seg2_glm_fb</td><td>l10_seg2_glm_fb</td><td>auc_seg2_glm   </td><td>l10_seg2_glm   </td><td>auc_seg2_glm   </td><td>l10_seg2_glm   </td><td>auc_seg2_glm   </td><td>l10_seg2_glm   </td><td>0.63067540</td><td>0.3484683</td><td>0.02085635</td><td>l10_agg_rf_ALL</td></tr>\n",
       "\t<tr><th scope=row>15</th><td><span style=white-space:pre-wrap>funcafe24        </span></td><td>Vietnam, Korea &amp; Indonesia</td><td>1</td><td><span style=white-space:pre-wrap>  3</span></td><td>0.00000000</td><td>1</td><td>0.333333333</td><td>1</td><td><span style=white-space:pre-wrap>  2</span></td><td><span style=white-space:pre-wrap>  1.333333</span></td><td><span style=white-space:pre-wrap>  1</span></td><td><span style=white-space:pre-wrap>  0.5773503</span></td><td> 0.3849002</td><td>-2.3333333</td><td> 5</td><td> 6</td><td> 5.666667</td><td> 1</td><td>0.5773503</td><td>-0.3849002</td><td>-2.333333</td><td>0.48</td><td><span style=white-space:pre-wrap>  5.80</span></td><td> 2.926667</td><td> 5.32</td><td>⋯</td><td>4.496472</td><td>4.835949</td><td>5.037083</td><td>4.906566</td><td>4.967418</td><td>0.6155464</td><td>0.6229222</td><td>0.6200974</td><td>0.6214951</td><td>0.6244871</td><td>0.6283436</td><td>0.6165488</td><td>0.6180376</td><td>auc_seg2_glm_fb</td><td>l10_seg2_glm_fb</td><td><span style=white-space:pre-wrap>auc_seg2_glm   </span></td><td><span style=white-space:pre-wrap>l10_seg2_glm   </span></td><td><span style=white-space:pre-wrap>auc_seg2_glm   </span></td><td><span style=white-space:pre-wrap>l10_seg2_glm   </span></td><td><span style=white-space:pre-wrap>auc_seg2_glm   </span></td><td><span style=white-space:pre-wrap>l10_seg2_glm   </span></td><td>0.10844127</td><td>0.8685635</td><td>0.02299524</td><td><span style=white-space:pre-wrap>l10_seg2_glm  </span></td></tr>\n",
       "\t<tr><th scope=row>21</th><td>funcronon ag     </td><td>EU                        </td><td>1</td><td> 10</td><td>0.70000000</td><td>1</td><td>0.100000000</td><td>1</td><td>  3</td><td>  1.400000</td><td>  2</td><td>  0.6992059</td><td> 1.1935618</td><td>-0.0746281</td><td> 3</td><td>24</td><td>11.400000</td><td>21</td><td>7.3966960</td><td> 0.7355118</td><td>-1.053701</td><td>1.05</td><td>100.00</td><td>13.731000</td><td>98.95</td><td>⋯</td><td>1.428571</td><td>1.428571</td><td>1.428571</td><td>1.428571</td><td>1.428571</td><td>0.5071429</td><td>0.5071429</td><td>0.5071429</td><td>0.5071429</td><td>0.5071429</td><td>0.5071429</td><td>0.5071429</td><td>0.5071429</td><td>auc_agg_rf_ALL </td><td>l10_seg2_glm_fb</td><td>auc_seg2_glm   </td><td>l10_seg2_glm   </td><td>auc_seg2_glm   </td><td>l10_seg2_glm   </td><td>auc_seg2_glm   </td><td>l10_seg2_glm   </td><td>0.27805000</td><td>0.6116524</td><td>0.11029762</td><td>l10_seg2_glm  </td></tr>\n",
       "\t<tr><th scope=row>22</th><td>funcsc corporate </td><td>United States             </td><td>1</td><td>  3</td><td>1.00000000</td><td>1</td><td>0.333333333</td><td>1</td><td>  4</td><td>  3.000000</td><td>  3</td><td>  1.7320508</td><td>-0.3849002</td><td>-2.3333333</td><td>11</td><td>16</td><td>14.000000</td><td> 5</td><td>2.6457513</td><td>-0.3239695</td><td>-2.333333</td><td>4.71</td><td>  6.28</td><td> 5.233333</td><td> 1.57</td><td>⋯</td><td>3.333333</td><td>3.333333</td><td>3.333333</td><td>3.333333</td><td>3.333333</td><td>0.5500000</td><td>0.5500000</td><td>0.5500000</td><td>0.5500000</td><td>0.5500000</td><td>0.5500000</td><td>0.5500000</td><td>0.5500000</td><td>auc_seg2_glm_fb</td><td>l10_seg2_glm_fb</td><td>auc_seg2_glm   </td><td>l10_seg2_glm   </td><td>auc_seg2_glm   </td><td>l10_seg2_glm   </td><td>auc_seg2_glm   </td><td>l10_seg2_glm   </td><td>0.08450476</td><td>0.9033619</td><td>0.01213333</td><td>l10_seg2_glm  </td></tr>\n",
       "\t<tr><th scope=row>43</th><td>funglobal domains</td><td>United States             </td><td>1</td><td>271</td><td>0.00000000</td><td>1</td><td>0.003690037</td><td>1</td><td> 71</td><td> 32.129151</td><td> 70</td><td> 20.7593334</td><td> 0.4921998</td><td>-0.8367946</td><td> 4</td><td>23</td><td>11.025830</td><td>19</td><td>3.6223684</td><td> 1.0939010</td><td> 1.296427</td><td>0.52</td><td> 12.22</td><td> 5.511661</td><td>11.70</td><td>⋯</td><td>3.864173</td><td>5.305446</td><td>5.745042</td><td>5.403383</td><td>5.574690</td><td>0.7858179</td><td>0.7826850</td><td>0.7172216</td><td>0.7263366</td><td>0.8335841</td><td>0.8438961</td><td>0.8380293</td><td>0.8384827</td><td>auc_agg_rf_ALL </td><td>l10_agg_rf_ALL </td><td>auc_seg_rf     </td><td>l10_seg_rf     </td><td>auc_seg2_glm   </td><td>l10_seg2_glm   </td><td>auc_agg_rf_ALL </td><td>l10_agg_rf_ALL </td><td>0.43938095</td><td>0.5387873</td><td>0.02183175</td><td>l10_seg2_glm  </td></tr>\n",
       "</tbody>\n",
       "</table>\n"
      ],
      "text/latex": [
       "A data.frame: 6 × 90\n",
       "\\begin{tabular}{r|lllllllllllllllllllllllllllllllllllllllllllllllllll}\n",
       "  & tld\\_registrar\\_index & geo\\_maj & geo\\_cnt & n & ren\\_prp & tld\\_cnt & tld\\_rat & daydom\\_min & daydom\\_max & daydom\\_mean & daydom\\_rng & daydom\\_std & daydom\\_skew & daydom\\_kurt & sldlen\\_min & sldlen\\_max & sldlen\\_mean & sldlen\\_rng & sldlen\\_std & sldlen\\_skew & sldlen\\_kurt & gibbs\\_min & gibbs\\_max & gibbs\\_mean & gibbs\\_rng & ⋯ & l10\\_agg\\_glm\\_ALL\\_fb & l10\\_seg2\\_rf\\_fb & l10\\_seg\\_rf\\_fb & l10\\_agg\\_rf\\_fb & l10\\_agg\\_rf\\_ALL\\_fb & auc\\_seg2\\_glm\\_fb & auc\\_seg\\_glm\\_fb & auc\\_agg\\_glm\\_fb & auc\\_agg\\_glm\\_ALL\\_fb & auc\\_seg2\\_rf\\_fb & auc\\_seg\\_rf\\_fb & auc\\_agg\\_rf\\_fb & auc\\_agg\\_rf\\_ALL\\_fb & auc\\_win\\_01 & l10\\_win\\_01 & auc\\_win\\_02 & l10\\_win\\_02 & auc\\_win\\_03 & l10\\_win\\_03 & auc\\_win\\_04 & l10\\_win\\_04 & l10\\_agg\\_rf\\_ALL & l10\\_seg2\\_glm & l10\\_seg2\\_glm\\_fb & l10\\_win\\_04.1\\\\\n",
       "  & <fct> & <fct> & <int> & <int> & <dbl> & <int> & <dbl> & <int> & <int> & <dbl> & <int> & <dbl> & <dbl> & <dbl> & <int> & <int> & <dbl> & <int> & <dbl> & <dbl> & <dbl> & <dbl> & <dbl> & <dbl> & <dbl> & ⋯ & <dbl> & <dbl> & <dbl> & <dbl> & <dbl> & <dbl> & <dbl> & <dbl> & <dbl> & <dbl> & <dbl> & <dbl> & <dbl> & <chr> & <chr> & <chr> & <chr> & <chr> & <chr> & <chr> & <chr> & <dbl> & <dbl> & <dbl> & <chr>\\\\\n",
       "\\hline\n",
       "\t3 & fun1api           & EU                         & 1 &   8 & 0.50000000 & 1 & 0.125000000 & 1 &   1 &   1.000000 &   0 &   0.0000000 &  1.4225354 &  0.5279077 &  4 & 15 &  8.875000 & 11 & 3.5228844 &  0.4848693 & -1.143452 & 2.00 &   6.09 &  4.396250 &  4.09 & ⋯ & 2.500000 & 2.500000 & 2.500000 & 2.500000 & 2.500000 & 0.4250000 & 0.4250000 & 0.4250000 & 0.4250000 & 0.4250000 & 0.4250000 & 0.4250000 & 0.4250000 & auc\\_seg2\\_glm\\_fb & l10\\_seg2\\_glm\\_fb & auc\\_agg\\_glm\\_ALL & l10\\_agg\\_glm\\_ALL & auc\\_seg2\\_glm\\_fb & l10\\_seg2\\_glm\\_fb & auc\\_seg2\\_glm\\_fb & l10\\_seg2\\_glm\\_fb & 0.11233333 & 0.8247794 & 0.06288730 & l10\\_seg2\\_glm  \\\\\n",
       "\t7 & funalibaba sg     & China                      & 1 & 195 & 0.04102564 & 1 & 0.005128205 & 1 & 490 & 296.728205 & 489 & 228.3117623 & -0.3415584 & -1.8644672 &  4 & 15 &  6.794872 & 11 & 2.3106598 &  1.4636429 &  1.315210 & 0.12 &  16.72 &  4.425128 & 16.60 & ⋯ & 6.250000 & 3.750000 & 2.500000 & 3.750000 & 3.750000 & 0.9250000 & 0.9000000 & 0.8625000 & 0.8500000 & 0.8875000 & 0.8750000 & 0.8750000 & 0.8750000 & auc\\_seg2\\_glm\\_fb & l10\\_seg2\\_glm\\_fb & auc\\_seg2\\_glm    & l10\\_seg2\\_glm    & auc\\_seg2\\_glm    & l10\\_seg2\\_glm    & auc\\_seg2\\_glm    & l10\\_seg2\\_glm    & 0.63067540 & 0.3484683 & 0.02085635 & l10\\_agg\\_rf\\_ALL\\\\\n",
       "\t15 & funcafe24         & Vietnam, Korea \\& Indonesia & 1 &   3 & 0.00000000 & 1 & 0.333333333 & 1 &   2 &   1.333333 &   1 &   0.5773503 &  0.3849002 & -2.3333333 &  5 &  6 &  5.666667 &  1 & 0.5773503 & -0.3849002 & -2.333333 & 0.48 &   5.80 &  2.926667 &  5.32 & ⋯ & 4.496472 & 4.835949 & 5.037083 & 4.906566 & 4.967418 & 0.6155464 & 0.6229222 & 0.6200974 & 0.6214951 & 0.6244871 & 0.6283436 & 0.6165488 & 0.6180376 & auc\\_seg2\\_glm\\_fb & l10\\_seg2\\_glm\\_fb & auc\\_seg2\\_glm    & l10\\_seg2\\_glm    & auc\\_seg2\\_glm    & l10\\_seg2\\_glm    & auc\\_seg2\\_glm    & l10\\_seg2\\_glm    & 0.10844127 & 0.8685635 & 0.02299524 & l10\\_seg2\\_glm  \\\\\n",
       "\t21 & funcronon ag      & EU                         & 1 &  10 & 0.70000000 & 1 & 0.100000000 & 1 &   3 &   1.400000 &   2 &   0.6992059 &  1.1935618 & -0.0746281 &  3 & 24 & 11.400000 & 21 & 7.3966960 &  0.7355118 & -1.053701 & 1.05 & 100.00 & 13.731000 & 98.95 & ⋯ & 1.428571 & 1.428571 & 1.428571 & 1.428571 & 1.428571 & 0.5071429 & 0.5071429 & 0.5071429 & 0.5071429 & 0.5071429 & 0.5071429 & 0.5071429 & 0.5071429 & auc\\_agg\\_rf\\_ALL  & l10\\_seg2\\_glm\\_fb & auc\\_seg2\\_glm    & l10\\_seg2\\_glm    & auc\\_seg2\\_glm    & l10\\_seg2\\_glm    & auc\\_seg2\\_glm    & l10\\_seg2\\_glm    & 0.27805000 & 0.6116524 & 0.11029762 & l10\\_seg2\\_glm  \\\\\n",
       "\t22 & funcsc corporate  & United States              & 1 &   3 & 1.00000000 & 1 & 0.333333333 & 1 &   4 &   3.000000 &   3 &   1.7320508 & -0.3849002 & -2.3333333 & 11 & 16 & 14.000000 &  5 & 2.6457513 & -0.3239695 & -2.333333 & 4.71 &   6.28 &  5.233333 &  1.57 & ⋯ & 3.333333 & 3.333333 & 3.333333 & 3.333333 & 3.333333 & 0.5500000 & 0.5500000 & 0.5500000 & 0.5500000 & 0.5500000 & 0.5500000 & 0.5500000 & 0.5500000 & auc\\_seg2\\_glm\\_fb & l10\\_seg2\\_glm\\_fb & auc\\_seg2\\_glm    & l10\\_seg2\\_glm    & auc\\_seg2\\_glm    & l10\\_seg2\\_glm    & auc\\_seg2\\_glm    & l10\\_seg2\\_glm    & 0.08450476 & 0.9033619 & 0.01213333 & l10\\_seg2\\_glm  \\\\\n",
       "\t43 & funglobal domains & United States              & 1 & 271 & 0.00000000 & 1 & 0.003690037 & 1 &  71 &  32.129151 &  70 &  20.7593334 &  0.4921998 & -0.8367946 &  4 & 23 & 11.025830 & 19 & 3.6223684 &  1.0939010 &  1.296427 & 0.52 &  12.22 &  5.511661 & 11.70 & ⋯ & 3.864173 & 5.305446 & 5.745042 & 5.403383 & 5.574690 & 0.7858179 & 0.7826850 & 0.7172216 & 0.7263366 & 0.8335841 & 0.8438961 & 0.8380293 & 0.8384827 & auc\\_agg\\_rf\\_ALL  & l10\\_agg\\_rf\\_ALL  & auc\\_seg\\_rf      & l10\\_seg\\_rf      & auc\\_seg2\\_glm    & l10\\_seg2\\_glm    & auc\\_agg\\_rf\\_ALL  & l10\\_agg\\_rf\\_ALL  & 0.43938095 & 0.5387873 & 0.02183175 & l10\\_seg2\\_glm  \\\\\n",
       "\\end{tabular}\n"
      ],
      "text/markdown": [
       "\n",
       "A data.frame: 6 × 90\n",
       "\n",
       "| <!--/--> | tld_registrar_index &lt;fct&gt; | geo_maj &lt;fct&gt; | geo_cnt &lt;int&gt; | n &lt;int&gt; | ren_prp &lt;dbl&gt; | tld_cnt &lt;int&gt; | tld_rat &lt;dbl&gt; | daydom_min &lt;int&gt; | daydom_max &lt;int&gt; | daydom_mean &lt;dbl&gt; | daydom_rng &lt;int&gt; | daydom_std &lt;dbl&gt; | daydom_skew &lt;dbl&gt; | daydom_kurt &lt;dbl&gt; | sldlen_min &lt;int&gt; | sldlen_max &lt;int&gt; | sldlen_mean &lt;dbl&gt; | sldlen_rng &lt;int&gt; | sldlen_std &lt;dbl&gt; | sldlen_skew &lt;dbl&gt; | sldlen_kurt &lt;dbl&gt; | gibbs_min &lt;dbl&gt; | gibbs_max &lt;dbl&gt; | gibbs_mean &lt;dbl&gt; | gibbs_rng &lt;dbl&gt; | ⋯ ⋯ | l10_agg_glm_ALL_fb &lt;dbl&gt; | l10_seg2_rf_fb &lt;dbl&gt; | l10_seg_rf_fb &lt;dbl&gt; | l10_agg_rf_fb &lt;dbl&gt; | l10_agg_rf_ALL_fb &lt;dbl&gt; | auc_seg2_glm_fb &lt;dbl&gt; | auc_seg_glm_fb &lt;dbl&gt; | auc_agg_glm_fb &lt;dbl&gt; | auc_agg_glm_ALL_fb &lt;dbl&gt; | auc_seg2_rf_fb &lt;dbl&gt; | auc_seg_rf_fb &lt;dbl&gt; | auc_agg_rf_fb &lt;dbl&gt; | auc_agg_rf_ALL_fb &lt;dbl&gt; | auc_win_01 &lt;chr&gt; | l10_win_01 &lt;chr&gt; | auc_win_02 &lt;chr&gt; | l10_win_02 &lt;chr&gt; | auc_win_03 &lt;chr&gt; | l10_win_03 &lt;chr&gt; | auc_win_04 &lt;chr&gt; | l10_win_04 &lt;chr&gt; | l10_agg_rf_ALL &lt;dbl&gt; | l10_seg2_glm &lt;dbl&gt; | l10_seg2_glm_fb &lt;dbl&gt; | l10_win_04.1 &lt;chr&gt; |\n",
       "|---|---|---|---|---|---|---|---|---|---|---|---|---|---|---|---|---|---|---|---|---|---|---|---|---|---|---|---|---|---|---|---|---|---|---|---|---|---|---|---|---|---|---|---|---|---|---|---|---|---|---|---|\n",
       "| 3 | fun1api           | EU                         | 1 |   8 | 0.50000000 | 1 | 0.125000000 | 1 |   1 |   1.000000 |   0 |   0.0000000 |  1.4225354 |  0.5279077 |  4 | 15 |  8.875000 | 11 | 3.5228844 |  0.4848693 | -1.143452 | 2.00 |   6.09 |  4.396250 |  4.09 | ⋯ | 2.500000 | 2.500000 | 2.500000 | 2.500000 | 2.500000 | 0.4250000 | 0.4250000 | 0.4250000 | 0.4250000 | 0.4250000 | 0.4250000 | 0.4250000 | 0.4250000 | auc_seg2_glm_fb | l10_seg2_glm_fb | auc_agg_glm_ALL | l10_agg_glm_ALL | auc_seg2_glm_fb | l10_seg2_glm_fb | auc_seg2_glm_fb | l10_seg2_glm_fb | 0.11233333 | 0.8247794 | 0.06288730 | l10_seg2_glm   |\n",
       "| 7 | funalibaba sg     | China                      | 1 | 195 | 0.04102564 | 1 | 0.005128205 | 1 | 490 | 296.728205 | 489 | 228.3117623 | -0.3415584 | -1.8644672 |  4 | 15 |  6.794872 | 11 | 2.3106598 |  1.4636429 |  1.315210 | 0.12 |  16.72 |  4.425128 | 16.60 | ⋯ | 6.250000 | 3.750000 | 2.500000 | 3.750000 | 3.750000 | 0.9250000 | 0.9000000 | 0.8625000 | 0.8500000 | 0.8875000 | 0.8750000 | 0.8750000 | 0.8750000 | auc_seg2_glm_fb | l10_seg2_glm_fb | auc_seg2_glm    | l10_seg2_glm    | auc_seg2_glm    | l10_seg2_glm    | auc_seg2_glm    | l10_seg2_glm    | 0.63067540 | 0.3484683 | 0.02085635 | l10_agg_rf_ALL |\n",
       "| 15 | funcafe24         | Vietnam, Korea &amp; Indonesia | 1 |   3 | 0.00000000 | 1 | 0.333333333 | 1 |   2 |   1.333333 |   1 |   0.5773503 |  0.3849002 | -2.3333333 |  5 |  6 |  5.666667 |  1 | 0.5773503 | -0.3849002 | -2.333333 | 0.48 |   5.80 |  2.926667 |  5.32 | ⋯ | 4.496472 | 4.835949 | 5.037083 | 4.906566 | 4.967418 | 0.6155464 | 0.6229222 | 0.6200974 | 0.6214951 | 0.6244871 | 0.6283436 | 0.6165488 | 0.6180376 | auc_seg2_glm_fb | l10_seg2_glm_fb | auc_seg2_glm    | l10_seg2_glm    | auc_seg2_glm    | l10_seg2_glm    | auc_seg2_glm    | l10_seg2_glm    | 0.10844127 | 0.8685635 | 0.02299524 | l10_seg2_glm   |\n",
       "| 21 | funcronon ag      | EU                         | 1 |  10 | 0.70000000 | 1 | 0.100000000 | 1 |   3 |   1.400000 |   2 |   0.6992059 |  1.1935618 | -0.0746281 |  3 | 24 | 11.400000 | 21 | 7.3966960 |  0.7355118 | -1.053701 | 1.05 | 100.00 | 13.731000 | 98.95 | ⋯ | 1.428571 | 1.428571 | 1.428571 | 1.428571 | 1.428571 | 0.5071429 | 0.5071429 | 0.5071429 | 0.5071429 | 0.5071429 | 0.5071429 | 0.5071429 | 0.5071429 | auc_agg_rf_ALL  | l10_seg2_glm_fb | auc_seg2_glm    | l10_seg2_glm    | auc_seg2_glm    | l10_seg2_glm    | auc_seg2_glm    | l10_seg2_glm    | 0.27805000 | 0.6116524 | 0.11029762 | l10_seg2_glm   |\n",
       "| 22 | funcsc corporate  | United States              | 1 |   3 | 1.00000000 | 1 | 0.333333333 | 1 |   4 |   3.000000 |   3 |   1.7320508 | -0.3849002 | -2.3333333 | 11 | 16 | 14.000000 |  5 | 2.6457513 | -0.3239695 | -2.333333 | 4.71 |   6.28 |  5.233333 |  1.57 | ⋯ | 3.333333 | 3.333333 | 3.333333 | 3.333333 | 3.333333 | 0.5500000 | 0.5500000 | 0.5500000 | 0.5500000 | 0.5500000 | 0.5500000 | 0.5500000 | 0.5500000 | auc_seg2_glm_fb | l10_seg2_glm_fb | auc_seg2_glm    | l10_seg2_glm    | auc_seg2_glm    | l10_seg2_glm    | auc_seg2_glm    | l10_seg2_glm    | 0.08450476 | 0.9033619 | 0.01213333 | l10_seg2_glm   |\n",
       "| 43 | funglobal domains | United States              | 1 | 271 | 0.00000000 | 1 | 0.003690037 | 1 |  71 |  32.129151 |  70 |  20.7593334 |  0.4921998 | -0.8367946 |  4 | 23 | 11.025830 | 19 | 3.6223684 |  1.0939010 |  1.296427 | 0.52 |  12.22 |  5.511661 | 11.70 | ⋯ | 3.864173 | 5.305446 | 5.745042 | 5.403383 | 5.574690 | 0.7858179 | 0.7826850 | 0.7172216 | 0.7263366 | 0.8335841 | 0.8438961 | 0.8380293 | 0.8384827 | auc_agg_rf_ALL  | l10_agg_rf_ALL  | auc_seg_rf      | l10_seg_rf      | auc_seg2_glm    | l10_seg2_glm    | auc_agg_rf_ALL  | l10_agg_rf_ALL  | 0.43938095 | 0.5387873 | 0.02183175 | l10_seg2_glm   |\n",
       "\n"
      ],
      "text/plain": [
       "   tld_registrar_index geo_maj                    geo_cnt n   ren_prp   \n",
       "3  fun1api             EU                         1         8 0.50000000\n",
       "7  funalibaba sg       China                      1       195 0.04102564\n",
       "15 funcafe24           Vietnam, Korea & Indonesia 1         3 0.00000000\n",
       "21 funcronon ag        EU                         1        10 0.70000000\n",
       "22 funcsc corporate    United States              1         3 1.00000000\n",
       "43 funglobal domains   United States              1       271 0.00000000\n",
       "   tld_cnt tld_rat     daydom_min daydom_max daydom_mean daydom_rng daydom_std \n",
       "3  1       0.125000000 1            1          1.000000    0          0.0000000\n",
       "7  1       0.005128205 1          490        296.728205  489        228.3117623\n",
       "15 1       0.333333333 1            2          1.333333    1          0.5773503\n",
       "21 1       0.100000000 1            3          1.400000    2          0.6992059\n",
       "22 1       0.333333333 1            4          3.000000    3          1.7320508\n",
       "43 1       0.003690037 1           71         32.129151   70         20.7593334\n",
       "   daydom_skew daydom_kurt sldlen_min sldlen_max sldlen_mean sldlen_rng\n",
       "3   1.4225354   0.5279077   4         15          8.875000   11        \n",
       "7  -0.3415584  -1.8644672   4         15          6.794872   11        \n",
       "15  0.3849002  -2.3333333   5          6          5.666667    1        \n",
       "21  1.1935618  -0.0746281   3         24         11.400000   21        \n",
       "22 -0.3849002  -2.3333333  11         16         14.000000    5        \n",
       "43  0.4921998  -0.8367946   4         23         11.025830   19        \n",
       "   sldlen_std sldlen_skew sldlen_kurt gibbs_min gibbs_max gibbs_mean gibbs_rng\n",
       "3  3.5228844   0.4848693  -1.143452   2.00        6.09     4.396250   4.09    \n",
       "7  2.3106598   1.4636429   1.315210   0.12       16.72     4.425128  16.60    \n",
       "15 0.5773503  -0.3849002  -2.333333   0.48        5.80     2.926667   5.32    \n",
       "21 7.3966960   0.7355118  -1.053701   1.05      100.00    13.731000  98.95    \n",
       "22 2.6457513  -0.3239695  -2.333333   4.71        6.28     5.233333   1.57    \n",
       "43 3.6223684   1.0939010   1.296427   0.52       12.22     5.511661  11.70    \n",
       "   ⋯ l10_agg_glm_ALL_fb l10_seg2_rf_fb l10_seg_rf_fb l10_agg_rf_fb\n",
       "3  ⋯ 2.500000           2.500000       2.500000      2.500000     \n",
       "7  ⋯ 6.250000           3.750000       2.500000      3.750000     \n",
       "15 ⋯ 4.496472           4.835949       5.037083      4.906566     \n",
       "21 ⋯ 1.428571           1.428571       1.428571      1.428571     \n",
       "22 ⋯ 3.333333           3.333333       3.333333      3.333333     \n",
       "43 ⋯ 3.864173           5.305446       5.745042      5.403383     \n",
       "   l10_agg_rf_ALL_fb auc_seg2_glm_fb auc_seg_glm_fb auc_agg_glm_fb\n",
       "3  2.500000          0.4250000       0.4250000      0.4250000     \n",
       "7  3.750000          0.9250000       0.9000000      0.8625000     \n",
       "15 4.967418          0.6155464       0.6229222      0.6200974     \n",
       "21 1.428571          0.5071429       0.5071429      0.5071429     \n",
       "22 3.333333          0.5500000       0.5500000      0.5500000     \n",
       "43 5.574690          0.7858179       0.7826850      0.7172216     \n",
       "   auc_agg_glm_ALL_fb auc_seg2_rf_fb auc_seg_rf_fb auc_agg_rf_fb\n",
       "3  0.4250000          0.4250000      0.4250000     0.4250000    \n",
       "7  0.8500000          0.8875000      0.8750000     0.8750000    \n",
       "15 0.6214951          0.6244871      0.6283436     0.6165488    \n",
       "21 0.5071429          0.5071429      0.5071429     0.5071429    \n",
       "22 0.5500000          0.5500000      0.5500000     0.5500000    \n",
       "43 0.7263366          0.8335841      0.8438961     0.8380293    \n",
       "   auc_agg_rf_ALL_fb auc_win_01      l10_win_01      auc_win_02     \n",
       "3  0.4250000         auc_seg2_glm_fb l10_seg2_glm_fb auc_agg_glm_ALL\n",
       "7  0.8750000         auc_seg2_glm_fb l10_seg2_glm_fb auc_seg2_glm   \n",
       "15 0.6180376         auc_seg2_glm_fb l10_seg2_glm_fb auc_seg2_glm   \n",
       "21 0.5071429         auc_agg_rf_ALL  l10_seg2_glm_fb auc_seg2_glm   \n",
       "22 0.5500000         auc_seg2_glm_fb l10_seg2_glm_fb auc_seg2_glm   \n",
       "43 0.8384827         auc_agg_rf_ALL  l10_agg_rf_ALL  auc_seg_rf     \n",
       "   l10_win_02      auc_win_03      l10_win_03      auc_win_04     \n",
       "3  l10_agg_glm_ALL auc_seg2_glm_fb l10_seg2_glm_fb auc_seg2_glm_fb\n",
       "7  l10_seg2_glm    auc_seg2_glm    l10_seg2_glm    auc_seg2_glm   \n",
       "15 l10_seg2_glm    auc_seg2_glm    l10_seg2_glm    auc_seg2_glm   \n",
       "21 l10_seg2_glm    auc_seg2_glm    l10_seg2_glm    auc_seg2_glm   \n",
       "22 l10_seg2_glm    auc_seg2_glm    l10_seg2_glm    auc_seg2_glm   \n",
       "43 l10_seg_rf      auc_seg2_glm    l10_seg2_glm    auc_agg_rf_ALL \n",
       "   l10_win_04      l10_agg_rf_ALL l10_seg2_glm l10_seg2_glm_fb l10_win_04.1  \n",
       "3  l10_seg2_glm_fb 0.11233333     0.8247794    0.06288730      l10_seg2_glm  \n",
       "7  l10_seg2_glm    0.63067540     0.3484683    0.02085635      l10_agg_rf_ALL\n",
       "15 l10_seg2_glm    0.10844127     0.8685635    0.02299524      l10_seg2_glm  \n",
       "21 l10_seg2_glm    0.27805000     0.6116524    0.11029762      l10_seg2_glm  \n",
       "22 l10_seg2_glm    0.08450476     0.9033619    0.01213333      l10_seg2_glm  \n",
       "43 l10_agg_rf_ALL  0.43938095     0.5387873    0.02183175      l10_seg2_glm  "
      ]
     },
     "metadata": {},
     "output_type": "display_data"
    }
   ],
   "source": [
    "test_pred <- cbind(test,pred)\n",
    "# test_pred <- test_pred %>% select()\n",
    "dim(test)\n",
    "dim(pred)\n",
    "dim(test_pred)\n",
    "head(test_pred)\n",
    "# 04.1 is the prediction result"
   ]
  },
  {
   "cell_type": "markdown",
   "metadata": {},
   "source": [
    "# Calc metrics"
   ]
  },
  {
   "cell_type": "code",
   "execution_count": 211,
   "metadata": {},
   "outputs": [
    {
     "data": {
      "text/html": [
       "<style>\n",
       ".list-inline {list-style: none; margin:0; padding: 0}\n",
       ".list-inline>li {display: inline-block}\n",
       ".list-inline>li:not(:last-child)::after {content: \"\\00b7\"; padding: 0 .5ex}\n",
       "</style>\n",
       "<ol class=list-inline><li>352</li><li>2</li></ol>\n"
      ],
      "text/latex": [
       "\\begin{enumerate*}\n",
       "\\item 352\n",
       "\\item 2\n",
       "\\end{enumerate*}\n"
      ],
      "text/markdown": [
       "1. 352\n",
       "2. 2\n",
       "\n",
       "\n"
      ],
      "text/plain": [
       "[1] 352   2"
      ]
     },
     "metadata": {},
     "output_type": "display_data"
    },
    {
     "data": {
      "text/html": [
       "<table>\n",
       "<caption>A data.frame: 6 × 2</caption>\n",
       "<thead>\n",
       "\t<tr><th></th><th scope=col>tld_registrar_index</th><th scope=col>l10_win_04</th></tr>\n",
       "\t<tr><th></th><th scope=col>&lt;fct&gt;</th><th scope=col>&lt;chr&gt;</th></tr>\n",
       "</thead>\n",
       "<tbody>\n",
       "\t<tr><th scope=row>3</th><td>fun1api          </td><td>l10_seg2_glm  </td></tr>\n",
       "\t<tr><th scope=row>7</th><td>funalibaba sg    </td><td>l10_agg_rf_ALL</td></tr>\n",
       "\t<tr><th scope=row>15</th><td>funcafe24        </td><td>l10_seg2_glm  </td></tr>\n",
       "\t<tr><th scope=row>21</th><td>funcronon ag     </td><td>l10_seg2_glm  </td></tr>\n",
       "\t<tr><th scope=row>22</th><td>funcsc corporate </td><td>l10_seg2_glm  </td></tr>\n",
       "\t<tr><th scope=row>43</th><td>funglobal domains</td><td>l10_seg2_glm  </td></tr>\n",
       "</tbody>\n",
       "</table>\n"
      ],
      "text/latex": [
       "A data.frame: 6 × 2\n",
       "\\begin{tabular}{r|ll}\n",
       "  & tld\\_registrar\\_index & l10\\_win\\_04\\\\\n",
       "  & <fct> & <chr>\\\\\n",
       "\\hline\n",
       "\t3 & fun1api           & l10\\_seg2\\_glm  \\\\\n",
       "\t7 & funalibaba sg     & l10\\_agg\\_rf\\_ALL\\\\\n",
       "\t15 & funcafe24         & l10\\_seg2\\_glm  \\\\\n",
       "\t21 & funcronon ag      & l10\\_seg2\\_glm  \\\\\n",
       "\t22 & funcsc corporate  & l10\\_seg2\\_glm  \\\\\n",
       "\t43 & funglobal domains & l10\\_seg2\\_glm  \\\\\n",
       "\\end{tabular}\n"
      ],
      "text/markdown": [
       "\n",
       "A data.frame: 6 × 2\n",
       "\n",
       "| <!--/--> | tld_registrar_index &lt;fct&gt; | l10_win_04 &lt;chr&gt; |\n",
       "|---|---|---|\n",
       "| 3 | fun1api           | l10_seg2_glm   |\n",
       "| 7 | funalibaba sg     | l10_agg_rf_ALL |\n",
       "| 15 | funcafe24         | l10_seg2_glm   |\n",
       "| 21 | funcronon ag      | l10_seg2_glm   |\n",
       "| 22 | funcsc corporate  | l10_seg2_glm   |\n",
       "| 43 | funglobal domains | l10_seg2_glm   |\n",
       "\n"
      ],
      "text/plain": [
       "   tld_registrar_index l10_win_04    \n",
       "3  fun1api             l10_seg2_glm  \n",
       "7  funalibaba sg       l10_agg_rf_ALL\n",
       "15 funcafe24           l10_seg2_glm  \n",
       "21 funcronon ag        l10_seg2_glm  \n",
       "22 funcsc corporate    l10_seg2_glm  \n",
       "43 funglobal domains   l10_seg2_glm  "
      ]
     },
     "metadata": {},
     "output_type": "display_data"
    }
   ],
   "source": [
    "# generate lookup, use last column which contains predictions\n",
    "lookup <- test_pred %>% select(tld_registrar_index, length(test_pred))\n",
    "dim(lookup)\n",
    "lookup %>% head()"
   ]
  },
  {
   "cell_type": "code",
   "execution_count": 215,
   "metadata": {},
   "outputs": [
    {
     "data": {
      "text/html": [
       "<table>\n",
       "<caption>A data.frame: 352 × 2</caption>\n",
       "<thead>\n",
       "\t<tr><th></th><th scope=col>tld_registrar_index</th><th scope=col>l10_win_04</th></tr>\n",
       "\t<tr><th></th><th scope=col>&lt;fct&gt;</th><th scope=col>&lt;chr&gt;</th></tr>\n",
       "</thead>\n",
       "<tbody>\n",
       "\t<tr><th scope=row>3</th><td>fun1api                     </td><td>l10_seg2_glm  </td></tr>\n",
       "\t<tr><th scope=row>7</th><td>funalibaba sg               </td><td>l10_agg_rf_ALL</td></tr>\n",
       "\t<tr><th scope=row>15</th><td>funcafe24                   </td><td>l10_seg2_glm  </td></tr>\n",
       "\t<tr><th scope=row>21</th><td>funcronon ag                </td><td>l10_seg2_glm  </td></tr>\n",
       "\t<tr><th scope=row>22</th><td>funcsc corporate            </td><td>l10_seg2_glm  </td></tr>\n",
       "\t<tr><th scope=row>43</th><td>funglobal domains           </td><td>l10_seg2_glm  </td></tr>\n",
       "\t<tr><th scope=row>47</th><td>funguzel hosting            </td><td>l10_seg2_glm  </td></tr>\n",
       "\t<tr><th scope=row>50</th><td>funhosting ukraine          </td><td>l10_agg_rf_ALL</td></tr>\n",
       "\t<tr><th scope=row>53</th><td>funhover                    </td><td>l10_seg2_glm  </td></tr>\n",
       "\t<tr><th scope=row>57</th><td>funinternetx                </td><td>l10_seg2_glm  </td></tr>\n",
       "\t<tr><th scope=row>62</th><td>funledl.net                 </td><td>l10_seg2_glm  </td></tr>\n",
       "\t<tr><th scope=row>66</th><td>funmarcaria.com             </td><td>l10_seg2_glm  </td></tr>\n",
       "\t<tr><th scope=row>85</th><td>funopentld b.v.             </td><td>l10_seg2_glm  </td></tr>\n",
       "\t<tr><th scope=row>97</th><td>funrumahweb                 </td><td>l10_seg2_glm  </td></tr>\n",
       "\t<tr><th scope=row>99</th><td>funsered                    </td><td>l10_seg2_glm  </td></tr>\n",
       "\t<tr><th scope=row>101</th><td>funshanghai meicheng        </td><td>l10_agg_rf_ALL</td></tr>\n",
       "\t<tr><th scope=row>107</th><td>funtecnocratica centro      </td><td>l10_seg2_glm  </td></tr>\n",
       "\t<tr><th scope=row>109</th><td>funtodaynic                 </td><td>l10_seg2_glm  </td></tr>\n",
       "\t<tr><th scope=row>110</th><td>funtucows                   </td><td>l10_seg2_glm  </td></tr>\n",
       "\t<tr><th scope=row>111</th><td>fununiregistrar             </td><td>l10_agg_rf_ALL</td></tr>\n",
       "\t<tr><th scope=row>122</th><td>funxiamen chinasource       </td><td>l10_seg2_glm  </td></tr>\n",
       "\t<tr><th scope=row>123</th><td>funxiamen nawang            </td><td>l10_seg2_glm  </td></tr>\n",
       "\t<tr><th scope=row>125</th><td>funzhengzhou century connect</td><td>l10_agg_rf_ALL</td></tr>\n",
       "\t<tr><th scope=row>128</th><td>hosta small orange          </td><td>l10_seg2_glm  </td></tr>\n",
       "\t<tr><th scope=row>129</th><td>hostaruba                   </td><td>l10_seg2_glm  </td></tr>\n",
       "\t<tr><th scope=row>131</th><td>hostbaidu                   </td><td>l10_seg2_glm  </td></tr>\n",
       "\t<tr><th scope=row>133</th><td>hostbigrock                 </td><td>l10_seg2_glm  </td></tr>\n",
       "\t<tr><th scope=row>140</th><td>hostcrazy domains           </td><td>l10_seg2_glm  </td></tr>\n",
       "\t<tr><th scope=row>146</th><td>hostdomains4bitcoins        </td><td>l10_agg_rf_ALL</td></tr>\n",
       "\t<tr><th scope=row>147</th><td>hostdomeneshop              </td><td>l10_seg2_glm  </td></tr>\n",
       "\t<tr><th scope=row>169</th><td>hostkey-systems             </td><td>l10_seg2_glm  </td></tr>\n",
       "\t<tr><th scope=row>173</th><td>hostmetaregistrar           </td><td>l10_seg2_glm  </td></tr>\n",
       "\t<tr><th scope=row>176</th><td>hostname.com                </td><td>l10_seg2_glm  </td></tr>\n",
       "\t<tr><th scope=row>181</th><td>hostonline sas              </td><td>l10_seg2_glm  </td></tr>\n",
       "\t<tr><th scope=row>182</th><td>hostonlinenic               </td><td>l10_seg2_glm  </td></tr>\n",
       "\t<tr><th scope=row>183</th><td>hostovh                     </td><td>l10_seg2_glm  </td></tr>\n",
       "\t<tr><th scope=row>188</th><td>hostqualispace              </td><td>l10_seg2_glm  </td></tr>\n",
       "\t<tr><th scope=row>192</th><td>hostreg.ru                  </td><td>l10_agg_rf_ALL</td></tr>\n",
       "\t<tr><th scope=row>219</th><td>in.netcsl                   </td><td>l10_seg2_glm  </td></tr>\n",
       "\t<tr><th scope=row>220</th><td>in.netdomains4bitcoins      </td><td>l10_seg2_glm  </td></tr>\n",
       "\t<tr><th scope=row>222</th><td>in.netgmo                   </td><td>l10_seg2_glm  </td></tr>\n",
       "\t<tr><th scope=row>226</th><td>in.nethostinger 2           </td><td>l10_seg2_glm  </td></tr>\n",
       "\t<tr><th scope=row>233</th><td>in.netporkbun               </td><td>l10_seg2_glm  </td></tr>\n",
       "\t<tr><th scope=row>244</th><td>online1blu                  </td><td>l10_seg2_glm  </td></tr>\n",
       "\t<tr><th scope=row>245</th><td>online1stdomains            </td><td>l10_seg2_glm  </td></tr>\n",
       "\t<tr><th scope=row>247</th><td>onlinea2hosting             </td><td>l10_seg2_glm  </td></tr>\n",
       "\t<tr><th scope=row>260</th><td>onlineargeweb               </td><td>l10_seg2_glm  </td></tr>\n",
       "\t<tr><th scope=row>263</th><td>onlineascio                 </td><td>l10_agg_rf_ALL</td></tr>\n",
       "\t<tr><th scope=row>268</th><td>onlinebb online             </td><td>l10_seg2_glm  </td></tr>\n",
       "\t<tr><th scope=row>273</th><td>onlinebizcn                 </td><td>l10_seg2_glm  </td></tr>\n",
       "\t<tr><th scope=row>⋮</th><td>⋮</td><td>⋮</td></tr>\n",
       "\t<tr><th scope=row>1532</th><td>techtransip                   </td><td>l10_seg2_glm  </td></tr>\n",
       "\t<tr><th scope=row>1536</th><td>techuol                       </td><td>l10_seg2_glm  </td></tr>\n",
       "\t<tr><th scope=row>1549</th><td>techwhogohost                 </td><td>l10_seg2_glm  </td></tr>\n",
       "\t<tr><th scope=row>1554</th><td>techworld4you                 </td><td>l10_seg2_glm  </td></tr>\n",
       "\t<tr><th scope=row>1558</th><td>techyahoo                     </td><td>l10_seg2_glm  </td></tr>\n",
       "\t<tr><th scope=row>1563</th><td><span style=white-space:pre-wrap>website1&amp;1 internet           </span></td><td>l10_agg_rf_ALL</td></tr>\n",
       "\t<tr><th scope=row>1566</th><td>website1api                   </td><td>l10_seg2_glm  </td></tr>\n",
       "\t<tr><th scope=row>1568</th><td>websiteab name isp            </td><td>l10_seg2_glm  </td></tr>\n",
       "\t<tr><th scope=row>1573</th><td>websitealibaba                </td><td>l10_agg_rf_ALL</td></tr>\n",
       "\t<tr><th scope=row>1577</th><td>websiteargeweb                </td><td>l10_seg2_glm  </td></tr>\n",
       "\t<tr><th scope=row>1582</th><td>websitebaidu                  </td><td>l10_seg2_glm  </td></tr>\n",
       "\t<tr><th scope=row>1585</th><td>websitebeon intermedia        </td><td>l10_seg2_glm  </td></tr>\n",
       "\t<tr><th scope=row>1588</th><td>websiteblacknight             </td><td>l10_seg2_glm  </td></tr>\n",
       "\t<tr><th scope=row>1589</th><td>websitebluehost               </td><td>l10_agg_rf_ALL</td></tr>\n",
       "\t<tr><th scope=row>1592</th><td>websitecheck domain           </td><td>l10_seg2_glm  </td></tr>\n",
       "\t<tr><th scope=row>1597</th><td>websitecsc corporate          </td><td>l10_seg2_glm  </td></tr>\n",
       "\t<tr><th scope=row>1601</th><td>websitedomain discount        </td><td>l10_seg2_glm  </td></tr>\n",
       "\t<tr><th scope=row>1604</th><td>websitedomain.com - registrar </td><td>l10_agg_rf_ALL</td></tr>\n",
       "\t<tr><th scope=row>1610</th><td>websitedominios.pt            </td><td>l10_seg2_glm  </td></tr>\n",
       "\t<tr><th scope=row>1612</th><td>websitedotserve inc           </td><td>l10_seg2_glm  </td></tr>\n",
       "\t<tr><th scope=row>1618</th><td>websiteeuro dns               </td><td>l10_seg2_glm  </td></tr>\n",
       "\t<tr><th scope=row>1625</th><td>websiteglobal domains         </td><td>l10_seg2_glm  </td></tr>\n",
       "\t<tr><th scope=row>1629</th><td>websitegransy                 </td><td>l10_seg2_glm  </td></tr>\n",
       "\t<tr><th scope=row>1635</th><td>websitehostgator              </td><td>l10_agg_rf_ALL</td></tr>\n",
       "\t<tr><th scope=row>1643</th><td>websitehoststar               </td><td>l10_seg2_glm  </td></tr>\n",
       "\t<tr><th scope=row>1647</th><td>websiteimpreza                </td><td>l10_seg2_glm  </td></tr>\n",
       "\t<tr><th scope=row>1654</th><td>websiteipage domain.com       </td><td>l10_agg_rf_ALL</td></tr>\n",
       "\t<tr><th scope=row>1662</th><td>websiteligne web services     </td><td>l10_seg2_glm  </td></tr>\n",
       "\t<tr><th scope=row>1663</th><td>websiteliquidnet              </td><td>l10_seg2_glm  </td></tr>\n",
       "\t<tr><th scope=row>1666</th><td>websitemarkmonitor            </td><td>l10_seg2_glm  </td></tr>\n",
       "\t<tr><th scope=row>1670</th><td>websitemetaregistrar          </td><td>l10_seg2_glm  </td></tr>\n",
       "\t<tr><th scope=row>1672</th><td>websitemuumuu                 </td><td>l10_seg2_glm  </td></tr>\n",
       "\t<tr><th scope=row>1678</th><td>websiteneostrada              </td><td>l10_seg2_glm  </td></tr>\n",
       "\t<tr><th scope=row>1683</th><td>websitenetwork solutions      </td><td>l10_seg2_glm  </td></tr>\n",
       "\t<tr><th scope=row>1693</th><td>websitep.a viet nam           </td><td>l10_seg2_glm  </td></tr>\n",
       "\t<tr><th scope=row>1694</th><td>websitepapaki                 </td><td>l10_seg2_glm  </td></tr>\n",
       "\t<tr><th scope=row>1696</th><td>websitepdr china              </td><td>l10_seg2_glm  </td></tr>\n",
       "\t<tr><th scope=row>1702</th><td>websiterebrandly              </td><td>l10_seg2_glm  </td></tr>\n",
       "\t<tr><th scope=row>1703</th><td>websiteredehost               </td><td>l10_seg2_glm  </td></tr>\n",
       "\t<tr><th scope=row>1705</th><td>websiteregister.com           </td><td>l10_seg2_glm  </td></tr>\n",
       "\t<tr><th scope=row>1706</th><td>websiteregister.it            </td><td>l10_agg_rf_ALL</td></tr>\n",
       "\t<tr><th scope=row>1712</th><td>websiteregway                 </td><td>l10_seg2_glm  </td></tr>\n",
       "\t<tr><th scope=row>1721</th><td>websitesiteground             </td><td>l10_seg2_glm  </td></tr>\n",
       "\t<tr><th scope=row>1723</th><td>websitesoluciones corporativas</td><td>l10_seg2_glm  </td></tr>\n",
       "\t<tr><th scope=row>1726</th><td>websitesuper registry         </td><td>l10_seg2_glm  </td></tr>\n",
       "\t<tr><th scope=row>1732</th><td>websitetld registrar solns    </td><td>l10_seg2_glm  </td></tr>\n",
       "\t<tr><th scope=row>1735</th><td>websiteuk2                    </td><td>l10_seg2_glm  </td></tr>\n",
       "\t<tr><th scope=row>1741</th><td>websitevalue domain           </td><td>l10_seg2_glm  </td></tr>\n",
       "\t<tr><th scope=row>1747</th><td>websitewest263 international  </td><td>l10_agg_rf_ALL</td></tr>\n",
       "\t<tr><th scope=row>1755</th><td>websiteyahoo                  </td><td>l10_seg2_glm  </td></tr>\n",
       "</tbody>\n",
       "</table>\n"
      ],
      "text/latex": [
       "A data.frame: 352 × 2\n",
       "\\begin{tabular}{r|ll}\n",
       "  & tld\\_registrar\\_index & l10\\_win\\_04\\\\\n",
       "  & <fct> & <chr>\\\\\n",
       "\\hline\n",
       "\t3 & fun1api                      & l10\\_seg2\\_glm  \\\\\n",
       "\t7 & funalibaba sg                & l10\\_agg\\_rf\\_ALL\\\\\n",
       "\t15 & funcafe24                    & l10\\_seg2\\_glm  \\\\\n",
       "\t21 & funcronon ag                 & l10\\_seg2\\_glm  \\\\\n",
       "\t22 & funcsc corporate             & l10\\_seg2\\_glm  \\\\\n",
       "\t43 & funglobal domains            & l10\\_seg2\\_glm  \\\\\n",
       "\t47 & funguzel hosting             & l10\\_seg2\\_glm  \\\\\n",
       "\t50 & funhosting ukraine           & l10\\_agg\\_rf\\_ALL\\\\\n",
       "\t53 & funhover                     & l10\\_seg2\\_glm  \\\\\n",
       "\t57 & funinternetx                 & l10\\_seg2\\_glm  \\\\\n",
       "\t62 & funledl.net                  & l10\\_seg2\\_glm  \\\\\n",
       "\t66 & funmarcaria.com              & l10\\_seg2\\_glm  \\\\\n",
       "\t85 & funopentld b.v.              & l10\\_seg2\\_glm  \\\\\n",
       "\t97 & funrumahweb                  & l10\\_seg2\\_glm  \\\\\n",
       "\t99 & funsered                     & l10\\_seg2\\_glm  \\\\\n",
       "\t101 & funshanghai meicheng         & l10\\_agg\\_rf\\_ALL\\\\\n",
       "\t107 & funtecnocratica centro       & l10\\_seg2\\_glm  \\\\\n",
       "\t109 & funtodaynic                  & l10\\_seg2\\_glm  \\\\\n",
       "\t110 & funtucows                    & l10\\_seg2\\_glm  \\\\\n",
       "\t111 & fununiregistrar              & l10\\_agg\\_rf\\_ALL\\\\\n",
       "\t122 & funxiamen chinasource        & l10\\_seg2\\_glm  \\\\\n",
       "\t123 & funxiamen nawang             & l10\\_seg2\\_glm  \\\\\n",
       "\t125 & funzhengzhou century connect & l10\\_agg\\_rf\\_ALL\\\\\n",
       "\t128 & hosta small orange           & l10\\_seg2\\_glm  \\\\\n",
       "\t129 & hostaruba                    & l10\\_seg2\\_glm  \\\\\n",
       "\t131 & hostbaidu                    & l10\\_seg2\\_glm  \\\\\n",
       "\t133 & hostbigrock                  & l10\\_seg2\\_glm  \\\\\n",
       "\t140 & hostcrazy domains            & l10\\_seg2\\_glm  \\\\\n",
       "\t146 & hostdomains4bitcoins         & l10\\_agg\\_rf\\_ALL\\\\\n",
       "\t147 & hostdomeneshop               & l10\\_seg2\\_glm  \\\\\n",
       "\t169 & hostkey-systems              & l10\\_seg2\\_glm  \\\\\n",
       "\t173 & hostmetaregistrar            & l10\\_seg2\\_glm  \\\\\n",
       "\t176 & hostname.com                 & l10\\_seg2\\_glm  \\\\\n",
       "\t181 & hostonline sas               & l10\\_seg2\\_glm  \\\\\n",
       "\t182 & hostonlinenic                & l10\\_seg2\\_glm  \\\\\n",
       "\t183 & hostovh                      & l10\\_seg2\\_glm  \\\\\n",
       "\t188 & hostqualispace               & l10\\_seg2\\_glm  \\\\\n",
       "\t192 & hostreg.ru                   & l10\\_agg\\_rf\\_ALL\\\\\n",
       "\t219 & in.netcsl                    & l10\\_seg2\\_glm  \\\\\n",
       "\t220 & in.netdomains4bitcoins       & l10\\_seg2\\_glm  \\\\\n",
       "\t222 & in.netgmo                    & l10\\_seg2\\_glm  \\\\\n",
       "\t226 & in.nethostinger 2            & l10\\_seg2\\_glm  \\\\\n",
       "\t233 & in.netporkbun                & l10\\_seg2\\_glm  \\\\\n",
       "\t244 & online1blu                   & l10\\_seg2\\_glm  \\\\\n",
       "\t245 & online1stdomains             & l10\\_seg2\\_glm  \\\\\n",
       "\t247 & onlinea2hosting              & l10\\_seg2\\_glm  \\\\\n",
       "\t260 & onlineargeweb                & l10\\_seg2\\_glm  \\\\\n",
       "\t263 & onlineascio                  & l10\\_agg\\_rf\\_ALL\\\\\n",
       "\t268 & onlinebb online              & l10\\_seg2\\_glm  \\\\\n",
       "\t273 & onlinebizcn                  & l10\\_seg2\\_glm  \\\\\n",
       "\t⋮ & ⋮ & ⋮\\\\\n",
       "\t1532 & techtransip                    & l10\\_seg2\\_glm  \\\\\n",
       "\t1536 & techuol                        & l10\\_seg2\\_glm  \\\\\n",
       "\t1549 & techwhogohost                  & l10\\_seg2\\_glm  \\\\\n",
       "\t1554 & techworld4you                  & l10\\_seg2\\_glm  \\\\\n",
       "\t1558 & techyahoo                      & l10\\_seg2\\_glm  \\\\\n",
       "\t1563 & website1\\&1 internet            & l10\\_agg\\_rf\\_ALL\\\\\n",
       "\t1566 & website1api                    & l10\\_seg2\\_glm  \\\\\n",
       "\t1568 & websiteab name isp             & l10\\_seg2\\_glm  \\\\\n",
       "\t1573 & websitealibaba                 & l10\\_agg\\_rf\\_ALL\\\\\n",
       "\t1577 & websiteargeweb                 & l10\\_seg2\\_glm  \\\\\n",
       "\t1582 & websitebaidu                   & l10\\_seg2\\_glm  \\\\\n",
       "\t1585 & websitebeon intermedia         & l10\\_seg2\\_glm  \\\\\n",
       "\t1588 & websiteblacknight              & l10\\_seg2\\_glm  \\\\\n",
       "\t1589 & websitebluehost                & l10\\_agg\\_rf\\_ALL\\\\\n",
       "\t1592 & websitecheck domain            & l10\\_seg2\\_glm  \\\\\n",
       "\t1597 & websitecsc corporate           & l10\\_seg2\\_glm  \\\\\n",
       "\t1601 & websitedomain discount         & l10\\_seg2\\_glm  \\\\\n",
       "\t1604 & websitedomain.com - registrar  & l10\\_agg\\_rf\\_ALL\\\\\n",
       "\t1610 & websitedominios.pt             & l10\\_seg2\\_glm  \\\\\n",
       "\t1612 & websitedotserve inc            & l10\\_seg2\\_glm  \\\\\n",
       "\t1618 & websiteeuro dns                & l10\\_seg2\\_glm  \\\\\n",
       "\t1625 & websiteglobal domains          & l10\\_seg2\\_glm  \\\\\n",
       "\t1629 & websitegransy                  & l10\\_seg2\\_glm  \\\\\n",
       "\t1635 & websitehostgator               & l10\\_agg\\_rf\\_ALL\\\\\n",
       "\t1643 & websitehoststar                & l10\\_seg2\\_glm  \\\\\n",
       "\t1647 & websiteimpreza                 & l10\\_seg2\\_glm  \\\\\n",
       "\t1654 & websiteipage domain.com        & l10\\_agg\\_rf\\_ALL\\\\\n",
       "\t1662 & websiteligne web services      & l10\\_seg2\\_glm  \\\\\n",
       "\t1663 & websiteliquidnet               & l10\\_seg2\\_glm  \\\\\n",
       "\t1666 & websitemarkmonitor             & l10\\_seg2\\_glm  \\\\\n",
       "\t1670 & websitemetaregistrar           & l10\\_seg2\\_glm  \\\\\n",
       "\t1672 & websitemuumuu                  & l10\\_seg2\\_glm  \\\\\n",
       "\t1678 & websiteneostrada               & l10\\_seg2\\_glm  \\\\\n",
       "\t1683 & websitenetwork solutions       & l10\\_seg2\\_glm  \\\\\n",
       "\t1693 & websitep.a viet nam            & l10\\_seg2\\_glm  \\\\\n",
       "\t1694 & websitepapaki                  & l10\\_seg2\\_glm  \\\\\n",
       "\t1696 & websitepdr china               & l10\\_seg2\\_glm  \\\\\n",
       "\t1702 & websiterebrandly               & l10\\_seg2\\_glm  \\\\\n",
       "\t1703 & websiteredehost                & l10\\_seg2\\_glm  \\\\\n",
       "\t1705 & websiteregister.com            & l10\\_seg2\\_glm  \\\\\n",
       "\t1706 & websiteregister.it             & l10\\_agg\\_rf\\_ALL\\\\\n",
       "\t1712 & websiteregway                  & l10\\_seg2\\_glm  \\\\\n",
       "\t1721 & websitesiteground              & l10\\_seg2\\_glm  \\\\\n",
       "\t1723 & websitesoluciones corporativas & l10\\_seg2\\_glm  \\\\\n",
       "\t1726 & websitesuper registry          & l10\\_seg2\\_glm  \\\\\n",
       "\t1732 & websitetld registrar solns     & l10\\_seg2\\_glm  \\\\\n",
       "\t1735 & websiteuk2                     & l10\\_seg2\\_glm  \\\\\n",
       "\t1741 & websitevalue domain            & l10\\_seg2\\_glm  \\\\\n",
       "\t1747 & websitewest263 international   & l10\\_agg\\_rf\\_ALL\\\\\n",
       "\t1755 & websiteyahoo                   & l10\\_seg2\\_glm  \\\\\n",
       "\\end{tabular}\n"
      ],
      "text/markdown": [
       "\n",
       "A data.frame: 352 × 2\n",
       "\n",
       "| <!--/--> | tld_registrar_index &lt;fct&gt; | l10_win_04 &lt;chr&gt; |\n",
       "|---|---|---|\n",
       "| 3 | fun1api                      | l10_seg2_glm   |\n",
       "| 7 | funalibaba sg                | l10_agg_rf_ALL |\n",
       "| 15 | funcafe24                    | l10_seg2_glm   |\n",
       "| 21 | funcronon ag                 | l10_seg2_glm   |\n",
       "| 22 | funcsc corporate             | l10_seg2_glm   |\n",
       "| 43 | funglobal domains            | l10_seg2_glm   |\n",
       "| 47 | funguzel hosting             | l10_seg2_glm   |\n",
       "| 50 | funhosting ukraine           | l10_agg_rf_ALL |\n",
       "| 53 | funhover                     | l10_seg2_glm   |\n",
       "| 57 | funinternetx                 | l10_seg2_glm   |\n",
       "| 62 | funledl.net                  | l10_seg2_glm   |\n",
       "| 66 | funmarcaria.com              | l10_seg2_glm   |\n",
       "| 85 | funopentld b.v.              | l10_seg2_glm   |\n",
       "| 97 | funrumahweb                  | l10_seg2_glm   |\n",
       "| 99 | funsered                     | l10_seg2_glm   |\n",
       "| 101 | funshanghai meicheng         | l10_agg_rf_ALL |\n",
       "| 107 | funtecnocratica centro       | l10_seg2_glm   |\n",
       "| 109 | funtodaynic                  | l10_seg2_glm   |\n",
       "| 110 | funtucows                    | l10_seg2_glm   |\n",
       "| 111 | fununiregistrar              | l10_agg_rf_ALL |\n",
       "| 122 | funxiamen chinasource        | l10_seg2_glm   |\n",
       "| 123 | funxiamen nawang             | l10_seg2_glm   |\n",
       "| 125 | funzhengzhou century connect | l10_agg_rf_ALL |\n",
       "| 128 | hosta small orange           | l10_seg2_glm   |\n",
       "| 129 | hostaruba                    | l10_seg2_glm   |\n",
       "| 131 | hostbaidu                    | l10_seg2_glm   |\n",
       "| 133 | hostbigrock                  | l10_seg2_glm   |\n",
       "| 140 | hostcrazy domains            | l10_seg2_glm   |\n",
       "| 146 | hostdomains4bitcoins         | l10_agg_rf_ALL |\n",
       "| 147 | hostdomeneshop               | l10_seg2_glm   |\n",
       "| 169 | hostkey-systems              | l10_seg2_glm   |\n",
       "| 173 | hostmetaregistrar            | l10_seg2_glm   |\n",
       "| 176 | hostname.com                 | l10_seg2_glm   |\n",
       "| 181 | hostonline sas               | l10_seg2_glm   |\n",
       "| 182 | hostonlinenic                | l10_seg2_glm   |\n",
       "| 183 | hostovh                      | l10_seg2_glm   |\n",
       "| 188 | hostqualispace               | l10_seg2_glm   |\n",
       "| 192 | hostreg.ru                   | l10_agg_rf_ALL |\n",
       "| 219 | in.netcsl                    | l10_seg2_glm   |\n",
       "| 220 | in.netdomains4bitcoins       | l10_seg2_glm   |\n",
       "| 222 | in.netgmo                    | l10_seg2_glm   |\n",
       "| 226 | in.nethostinger 2            | l10_seg2_glm   |\n",
       "| 233 | in.netporkbun                | l10_seg2_glm   |\n",
       "| 244 | online1blu                   | l10_seg2_glm   |\n",
       "| 245 | online1stdomains             | l10_seg2_glm   |\n",
       "| 247 | onlinea2hosting              | l10_seg2_glm   |\n",
       "| 260 | onlineargeweb                | l10_seg2_glm   |\n",
       "| 263 | onlineascio                  | l10_agg_rf_ALL |\n",
       "| 268 | onlinebb online              | l10_seg2_glm   |\n",
       "| 273 | onlinebizcn                  | l10_seg2_glm   |\n",
       "| ⋮ | ⋮ | ⋮ |\n",
       "| 1532 | techtransip                    | l10_seg2_glm   |\n",
       "| 1536 | techuol                        | l10_seg2_glm   |\n",
       "| 1549 | techwhogohost                  | l10_seg2_glm   |\n",
       "| 1554 | techworld4you                  | l10_seg2_glm   |\n",
       "| 1558 | techyahoo                      | l10_seg2_glm   |\n",
       "| 1563 | website1&amp;1 internet            | l10_agg_rf_ALL |\n",
       "| 1566 | website1api                    | l10_seg2_glm   |\n",
       "| 1568 | websiteab name isp             | l10_seg2_glm   |\n",
       "| 1573 | websitealibaba                 | l10_agg_rf_ALL |\n",
       "| 1577 | websiteargeweb                 | l10_seg2_glm   |\n",
       "| 1582 | websitebaidu                   | l10_seg2_glm   |\n",
       "| 1585 | websitebeon intermedia         | l10_seg2_glm   |\n",
       "| 1588 | websiteblacknight              | l10_seg2_glm   |\n",
       "| 1589 | websitebluehost                | l10_agg_rf_ALL |\n",
       "| 1592 | websitecheck domain            | l10_seg2_glm   |\n",
       "| 1597 | websitecsc corporate           | l10_seg2_glm   |\n",
       "| 1601 | websitedomain discount         | l10_seg2_glm   |\n",
       "| 1604 | websitedomain.com - registrar  | l10_agg_rf_ALL |\n",
       "| 1610 | websitedominios.pt             | l10_seg2_glm   |\n",
       "| 1612 | websitedotserve inc            | l10_seg2_glm   |\n",
       "| 1618 | websiteeuro dns                | l10_seg2_glm   |\n",
       "| 1625 | websiteglobal domains          | l10_seg2_glm   |\n",
       "| 1629 | websitegransy                  | l10_seg2_glm   |\n",
       "| 1635 | websitehostgator               | l10_agg_rf_ALL |\n",
       "| 1643 | websitehoststar                | l10_seg2_glm   |\n",
       "| 1647 | websiteimpreza                 | l10_seg2_glm   |\n",
       "| 1654 | websiteipage domain.com        | l10_agg_rf_ALL |\n",
       "| 1662 | websiteligne web services      | l10_seg2_glm   |\n",
       "| 1663 | websiteliquidnet               | l10_seg2_glm   |\n",
       "| 1666 | websitemarkmonitor             | l10_seg2_glm   |\n",
       "| 1670 | websitemetaregistrar           | l10_seg2_glm   |\n",
       "| 1672 | websitemuumuu                  | l10_seg2_glm   |\n",
       "| 1678 | websiteneostrada               | l10_seg2_glm   |\n",
       "| 1683 | websitenetwork solutions       | l10_seg2_glm   |\n",
       "| 1693 | websitep.a viet nam            | l10_seg2_glm   |\n",
       "| 1694 | websitepapaki                  | l10_seg2_glm   |\n",
       "| 1696 | websitepdr china               | l10_seg2_glm   |\n",
       "| 1702 | websiterebrandly               | l10_seg2_glm   |\n",
       "| 1703 | websiteredehost                | l10_seg2_glm   |\n",
       "| 1705 | websiteregister.com            | l10_seg2_glm   |\n",
       "| 1706 | websiteregister.it             | l10_agg_rf_ALL |\n",
       "| 1712 | websiteregway                  | l10_seg2_glm   |\n",
       "| 1721 | websitesiteground              | l10_seg2_glm   |\n",
       "| 1723 | websitesoluciones corporativas | l10_seg2_glm   |\n",
       "| 1726 | websitesuper registry          | l10_seg2_glm   |\n",
       "| 1732 | websitetld registrar solns     | l10_seg2_glm   |\n",
       "| 1735 | websiteuk2                     | l10_seg2_glm   |\n",
       "| 1741 | websitevalue domain            | l10_seg2_glm   |\n",
       "| 1747 | websitewest263 international   | l10_agg_rf_ALL |\n",
       "| 1755 | websiteyahoo                   | l10_seg2_glm   |\n",
       "\n"
      ],
      "text/plain": [
       "     tld_registrar_index            l10_win_04    \n",
       "3    fun1api                        l10_seg2_glm  \n",
       "7    funalibaba sg                  l10_agg_rf_ALL\n",
       "15   funcafe24                      l10_seg2_glm  \n",
       "21   funcronon ag                   l10_seg2_glm  \n",
       "22   funcsc corporate               l10_seg2_glm  \n",
       "43   funglobal domains              l10_seg2_glm  \n",
       "47   funguzel hosting               l10_seg2_glm  \n",
       "50   funhosting ukraine             l10_agg_rf_ALL\n",
       "53   funhover                       l10_seg2_glm  \n",
       "57   funinternetx                   l10_seg2_glm  \n",
       "62   funledl.net                    l10_seg2_glm  \n",
       "66   funmarcaria.com                l10_seg2_glm  \n",
       "85   funopentld b.v.                l10_seg2_glm  \n",
       "97   funrumahweb                    l10_seg2_glm  \n",
       "99   funsered                       l10_seg2_glm  \n",
       "101  funshanghai meicheng           l10_agg_rf_ALL\n",
       "107  funtecnocratica centro         l10_seg2_glm  \n",
       "109  funtodaynic                    l10_seg2_glm  \n",
       "110  funtucows                      l10_seg2_glm  \n",
       "111  fununiregistrar                l10_agg_rf_ALL\n",
       "122  funxiamen chinasource          l10_seg2_glm  \n",
       "123  funxiamen nawang               l10_seg2_glm  \n",
       "125  funzhengzhou century connect   l10_agg_rf_ALL\n",
       "128  hosta small orange             l10_seg2_glm  \n",
       "129  hostaruba                      l10_seg2_glm  \n",
       "131  hostbaidu                      l10_seg2_glm  \n",
       "133  hostbigrock                    l10_seg2_glm  \n",
       "140  hostcrazy domains              l10_seg2_glm  \n",
       "146  hostdomains4bitcoins           l10_agg_rf_ALL\n",
       "147  hostdomeneshop                 l10_seg2_glm  \n",
       "169  hostkey-systems                l10_seg2_glm  \n",
       "173  hostmetaregistrar              l10_seg2_glm  \n",
       "176  hostname.com                   l10_seg2_glm  \n",
       "181  hostonline sas                 l10_seg2_glm  \n",
       "182  hostonlinenic                  l10_seg2_glm  \n",
       "183  hostovh                        l10_seg2_glm  \n",
       "188  hostqualispace                 l10_seg2_glm  \n",
       "192  hostreg.ru                     l10_agg_rf_ALL\n",
       "219  in.netcsl                      l10_seg2_glm  \n",
       "220  in.netdomains4bitcoins         l10_seg2_glm  \n",
       "222  in.netgmo                      l10_seg2_glm  \n",
       "226  in.nethostinger 2              l10_seg2_glm  \n",
       "233  in.netporkbun                  l10_seg2_glm  \n",
       "244  online1blu                     l10_seg2_glm  \n",
       "245  online1stdomains               l10_seg2_glm  \n",
       "247  onlinea2hosting                l10_seg2_glm  \n",
       "260  onlineargeweb                  l10_seg2_glm  \n",
       "263  onlineascio                    l10_agg_rf_ALL\n",
       "268  onlinebb online                l10_seg2_glm  \n",
       "273  onlinebizcn                    l10_seg2_glm  \n",
       "⋮    ⋮                              ⋮             \n",
       "1532 techtransip                    l10_seg2_glm  \n",
       "1536 techuol                        l10_seg2_glm  \n",
       "1549 techwhogohost                  l10_seg2_glm  \n",
       "1554 techworld4you                  l10_seg2_glm  \n",
       "1558 techyahoo                      l10_seg2_glm  \n",
       "1563 website1&1 internet            l10_agg_rf_ALL\n",
       "1566 website1api                    l10_seg2_glm  \n",
       "1568 websiteab name isp             l10_seg2_glm  \n",
       "1573 websitealibaba                 l10_agg_rf_ALL\n",
       "1577 websiteargeweb                 l10_seg2_glm  \n",
       "1582 websitebaidu                   l10_seg2_glm  \n",
       "1585 websitebeon intermedia         l10_seg2_glm  \n",
       "1588 websiteblacknight              l10_seg2_glm  \n",
       "1589 websitebluehost                l10_agg_rf_ALL\n",
       "1592 websitecheck domain            l10_seg2_glm  \n",
       "1597 websitecsc corporate           l10_seg2_glm  \n",
       "1601 websitedomain discount         l10_seg2_glm  \n",
       "1604 websitedomain.com - registrar  l10_agg_rf_ALL\n",
       "1610 websitedominios.pt             l10_seg2_glm  \n",
       "1612 websitedotserve inc            l10_seg2_glm  \n",
       "1618 websiteeuro dns                l10_seg2_glm  \n",
       "1625 websiteglobal domains          l10_seg2_glm  \n",
       "1629 websitegransy                  l10_seg2_glm  \n",
       "1635 websitehostgator               l10_agg_rf_ALL\n",
       "1643 websitehoststar                l10_seg2_glm  \n",
       "1647 websiteimpreza                 l10_seg2_glm  \n",
       "1654 websiteipage domain.com        l10_agg_rf_ALL\n",
       "1662 websiteligne web services      l10_seg2_glm  \n",
       "1663 websiteliquidnet               l10_seg2_glm  \n",
       "1666 websitemarkmonitor             l10_seg2_glm  \n",
       "1670 websitemetaregistrar           l10_seg2_glm  \n",
       "1672 websitemuumuu                  l10_seg2_glm  \n",
       "1678 websiteneostrada               l10_seg2_glm  \n",
       "1683 websitenetwork solutions       l10_seg2_glm  \n",
       "1693 websitep.a viet nam            l10_seg2_glm  \n",
       "1694 websitepapaki                  l10_seg2_glm  \n",
       "1696 websitepdr china               l10_seg2_glm  \n",
       "1702 websiterebrandly               l10_seg2_glm  \n",
       "1703 websiteredehost                l10_seg2_glm  \n",
       "1705 websiteregister.com            l10_seg2_glm  \n",
       "1706 websiteregister.it             l10_agg_rf_ALL\n",
       "1712 websiteregway                  l10_seg2_glm  \n",
       "1721 websitesiteground              l10_seg2_glm  \n",
       "1723 websitesoluciones corporativas l10_seg2_glm  \n",
       "1726 websitesuper registry          l10_seg2_glm  \n",
       "1732 websitetld registrar solns     l10_seg2_glm  \n",
       "1735 websiteuk2                     l10_seg2_glm  \n",
       "1741 websitevalue domain            l10_seg2_glm  \n",
       "1747 websitewest263 international   l10_agg_rf_ALL\n",
       "1755 websiteyahoo                   l10_seg2_glm  "
      ]
     },
     "metadata": {},
     "output_type": "display_data"
    }
   ],
   "source": [
    "lookup"
   ]
  },
  {
   "cell_type": "code",
   "execution_count": 212,
   "metadata": {},
   "outputs": [
    {
     "data": {
      "text/html": [
       "<style>\n",
       ".list-inline {list-style: none; margin:0; padding: 0}\n",
       ".list-inline>li {display: inline-block}\n",
       ".list-inline>li:not(:last-child)::after {content: \"\\00b7\"; padding: 0 .5ex}\n",
       "</style>\n",
       "<ol class=list-inline><li>932347</li><li>41</li></ol>\n"
      ],
      "text/latex": [
       "\\begin{enumerate*}\n",
       "\\item 932347\n",
       "\\item 41\n",
       "\\end{enumerate*}\n"
      ],
      "text/markdown": [
       "1. 932347\n",
       "2. 41\n",
       "\n",
       "\n"
      ],
      "text/plain": [
       "[1] 932347     41"
      ]
     },
     "metadata": {},
     "output_type": "display_data"
    },
    {
     "data": {
      "text/html": [
       "<table>\n",
       "<caption>A data.frame: 6 × 41</caption>\n",
       "<thead>\n",
       "\t<tr><th></th><th scope=col>tld_registrar_index</th><th scope=col>domain_id</th><th scope=col>renewal_type</th><th scope=col>renewed_count</th><th scope=col>expiry_date</th><th scope=col>creation_date</th><th scope=col>status</th><th scope=col>domain</th><th scope=col>registrar</th><th scope=col>reseller</th><th scope=col>reseller_country</th><th scope=col>registrant_country</th><th scope=col>reg_period</th><th scope=col>reg_revenue</th><th scope=col>reg_arpt</th><th scope=col>renew_mbg</th><th scope=col>renewal_item_id</th><th scope=col>renew_type</th><th scope=col>autorenew_type</th><th scope=col>renewal_status</th><th scope=col>renew_date</th><th scope=col>renew_arpt</th><th scope=col>gibb_score</th><th scope=col>pattern</th><th scope=col>pattern_domain_count</th><th scope=col>day_domains</th><th scope=col>sld_length</th><th scope=col>sld_type</th><th scope=col>sld_type2</th><th scope=col>tld</th><th scope=col>region</th><th scope=col>log_reg_arpt</th><th scope=col>pred_agg_glm_ALL</th><th scope=col>pred_agg_rf_ALL</th><th scope=col>pred_agg_glm</th><th scope=col>pred_agg_rf</th><th scope=col>pred_seg_glm_ALL</th><th scope=col>pred_seg_rf_ALL</th><th scope=col>pred_seg2_glm_ALL</th><th scope=col>pred_seg2_rf_ALL</th><th scope=col>l10_win_04</th></tr>\n",
       "\t<tr><th></th><th scope=col>&lt;fct&gt;</th><th scope=col>&lt;int&gt;</th><th scope=col>&lt;fct&gt;</th><th scope=col>&lt;int&gt;</th><th scope=col>&lt;fct&gt;</th><th scope=col>&lt;fct&gt;</th><th scope=col>&lt;fct&gt;</th><th scope=col>&lt;fct&gt;</th><th scope=col>&lt;fct&gt;</th><th scope=col>&lt;fct&gt;</th><th scope=col>&lt;fct&gt;</th><th scope=col>&lt;fct&gt;</th><th scope=col>&lt;int&gt;</th><th scope=col>&lt;dbl&gt;</th><th scope=col>&lt;dbl&gt;</th><th scope=col>&lt;int&gt;</th><th scope=col>&lt;int&gt;</th><th scope=col>&lt;fct&gt;</th><th scope=col>&lt;fct&gt;</th><th scope=col>&lt;fct&gt;</th><th scope=col>&lt;fct&gt;</th><th scope=col>&lt;dbl&gt;</th><th scope=col>&lt;dbl&gt;</th><th scope=col>&lt;fct&gt;</th><th scope=col>&lt;int&gt;</th><th scope=col>&lt;int&gt;</th><th scope=col>&lt;int&gt;</th><th scope=col>&lt;fct&gt;</th><th scope=col>&lt;fct&gt;</th><th scope=col>&lt;fct&gt;</th><th scope=col>&lt;fct&gt;</th><th scope=col>&lt;dbl&gt;</th><th scope=col>&lt;dbl&gt;</th><th scope=col>&lt;dbl&gt;</th><th scope=col>&lt;dbl&gt;</th><th scope=col>&lt;dbl&gt;</th><th scope=col>&lt;dbl&gt;</th><th scope=col>&lt;dbl&gt;</th><th scope=col>&lt;dbl&gt;</th><th scope=col>&lt;dbl&gt;</th><th scope=col>&lt;chr&gt;</th></tr>\n",
       "</thead>\n",
       "<tbody>\n",
       "\t<tr><th scope=row>1</th><td>fun1&amp;1 internet</td><td> 72539234</td><td>FirstTime</td><td>1</td><td>2019-07-19</td><td>2018-07-19</td><td>Active</td><td>bechstedt.fun</td><td>1&amp;1 Internet</td><td>1&amp;1 Internet</td><td>Germany</td><td>NA</td><td>1</td><td>15</td><td>15</td><td>0</td><td>215994151</td><td>auto-renewal</td><td><span style=white-space:pre-wrap>realized  </span></td><td><span style=white-space:pre-wrap>Renewed   </span></td><td>2019-07-19</td><td>15</td><td>3.39</td><td>bechstedt</td><td>1</td><td>1</td><td>9</td><td>l</td><td>9l</td><td>fun</td><td>Non China</td><td>2.70805</td><td>0.460</td><td>0.8297922</td><td>0.417</td><td>0.4474406</td><td>0.583</td><td>0.7796984</td><td>0.7762980215</td><td>0.7634674</td><td>NA</td></tr>\n",
       "\t<tr><th scope=row>2</th><td>fun1&amp;1 internet</td><td> 77947069</td><td>FirstTime</td><td>1</td><td>2019-10-02</td><td>2018-10-02</td><td>Active</td><td><span style=white-space:pre-wrap>titom.fun    </span></td><td>1&amp;1 Internet</td><td>1&amp;1 Internet</td><td>Germany</td><td>NA</td><td>1</td><td>15</td><td>15</td><td>0</td><td>236376841</td><td>auto-renewal</td><td>unrealized</td><td>Not Renewd</td><td>2019-10-02</td><td>15</td><td>9.01</td><td><span style=white-space:pre-wrap>titom    </span></td><td>1</td><td>1</td><td>5</td><td>l</td><td>5l</td><td>fun</td><td>Non China</td><td>2.70805</td><td>0.498</td><td>0.7723665</td><td>0.454</td><td>0.5320517</td><td>0.587</td><td>0.7517838</td><td>0.7948791657</td><td>0.7620216</td><td>NA</td></tr>\n",
       "\t<tr><th scope=row>3</th><td>fun1&amp;1 internet</td><td> 79309099</td><td>FirstTime</td><td>1</td><td>2019-10-16</td><td>2018-10-16</td><td>Active</td><td><span style=white-space:pre-wrap>bishkek.fun  </span></td><td>1&amp;1 Internet</td><td>1&amp;1 Internet</td><td>Germany</td><td>NA</td><td>1</td><td>15</td><td>15</td><td>0</td><td>223040506</td><td><span style=white-space:pre-wrap>transfer    </span></td><td><span style=white-space:pre-wrap>NA        </span></td><td><span style=white-space:pre-wrap>Renewed   </span></td><td>2019-08-16</td><td>15</td><td>1.71</td><td><span style=white-space:pre-wrap>bishkek  </span></td><td>1</td><td>3</td><td>7</td><td>l</td><td>7l</td><td>fun</td><td>Non China</td><td>2.70805</td><td>0.464</td><td>0.6305379</td><td>0.420</td><td>0.5496369</td><td>0.593</td><td>0.5729471</td><td>0.5285377442</td><td>0.4418808</td><td>NA</td></tr>\n",
       "\t<tr><th scope=row>4</th><td>fun1&amp;1 internet</td><td> 98387914</td><td>FirstTime</td><td>1</td><td>2020-03-30</td><td>2019-03-30</td><td>Active</td><td>prequeue.fun </td><td>1&amp;1 Internet</td><td>1&amp;1 Internet</td><td>Germany</td><td>NA</td><td>1</td><td>15</td><td>15</td><td>0</td><td>303739619</td><td>auto-renewal</td><td><span style=white-space:pre-wrap>realized  </span></td><td><span style=white-space:pre-wrap>Renewed   </span></td><td>2020-03-30</td><td>15</td><td>4.23</td><td><span style=white-space:pre-wrap>preqee   </span></td><td>2</td><td>2</td><td>8</td><td>l</td><td>8l</td><td>fun</td><td>Non China</td><td>2.70805</td><td>0.453</td><td>0.6626378</td><td>0.410</td><td>0.5286843</td><td>0.583</td><td>0.7447747</td><td>0.0009671371</td><td>0.6886353</td><td>NA</td></tr>\n",
       "\t<tr><th scope=row>5</th><td>fun1&amp;1 internet</td><td> 91639803</td><td>FirstTime</td><td>1</td><td>2020-01-22</td><td>2019-01-22</td><td>Active</td><td><span style=white-space:pre-wrap>segeln.fun   </span></td><td>1&amp;1 Internet</td><td>1&amp;1 Internet</td><td>Germany</td><td>NA</td><td>1</td><td>15</td><td>15</td><td>0</td><td>283861656</td><td>auto-renewal</td><td><span style=white-space:pre-wrap>realized  </span></td><td><span style=white-space:pre-wrap>Renewed   </span></td><td>2020-01-22</td><td>15</td><td>2.23</td><td><span style=white-space:pre-wrap>segeln   </span></td><td>1</td><td>1</td><td>6</td><td>l</td><td>6l</td><td>fun</td><td>Non China</td><td>2.70805</td><td>0.470</td><td>0.6923911</td><td>0.426</td><td>0.4957660</td><td>0.596</td><td>0.7196796</td><td>0.7441245136</td><td>0.7408064</td><td>NA</td></tr>\n",
       "\t<tr><th scope=row>6</th><td>fun1&amp;1 internet</td><td>100167214</td><td>FirstTime</td><td>1</td><td>2020-04-14</td><td>2019-04-14</td><td>Active</td><td><span style=white-space:pre-wrap>moerk.fun    </span></td><td>1&amp;1 Internet</td><td>1&amp;1 Internet</td><td>Germany</td><td>NA</td><td>1</td><td>15</td><td>15</td><td>0</td><td>307842879</td><td>auto-renewal</td><td><span style=white-space:pre-wrap>realized  </span></td><td><span style=white-space:pre-wrap>Renewed   </span></td><td>2020-04-14</td><td>15</td><td>2.46</td><td><span style=white-space:pre-wrap>moerk    </span></td><td>1</td><td>1</td><td>5</td><td>l</td><td>5l</td><td>fun</td><td>Non China</td><td>2.70805</td><td>0.476</td><td>0.7261436</td><td>0.432</td><td>0.5039878</td><td>0.599</td><td>0.7412048</td><td>0.7385384473</td><td>0.7089843</td><td>NA</td></tr>\n",
       "</tbody>\n",
       "</table>\n"
      ],
      "text/latex": [
       "A data.frame: 6 × 41\n",
       "\\begin{tabular}{r|lllllllllllllllllllllllllllllllllllllllll}\n",
       "  & tld\\_registrar\\_index & domain\\_id & renewal\\_type & renewed\\_count & expiry\\_date & creation\\_date & status & domain & registrar & reseller & reseller\\_country & registrant\\_country & reg\\_period & reg\\_revenue & reg\\_arpt & renew\\_mbg & renewal\\_item\\_id & renew\\_type & autorenew\\_type & renewal\\_status & renew\\_date & renew\\_arpt & gibb\\_score & pattern & pattern\\_domain\\_count & day\\_domains & sld\\_length & sld\\_type & sld\\_type2 & tld & region & log\\_reg\\_arpt & pred\\_agg\\_glm\\_ALL & pred\\_agg\\_rf\\_ALL & pred\\_agg\\_glm & pred\\_agg\\_rf & pred\\_seg\\_glm\\_ALL & pred\\_seg\\_rf\\_ALL & pred\\_seg2\\_glm\\_ALL & pred\\_seg2\\_rf\\_ALL & l10\\_win\\_04\\\\\n",
       "  & <fct> & <int> & <fct> & <int> & <fct> & <fct> & <fct> & <fct> & <fct> & <fct> & <fct> & <fct> & <int> & <dbl> & <dbl> & <int> & <int> & <fct> & <fct> & <fct> & <fct> & <dbl> & <dbl> & <fct> & <int> & <int> & <int> & <fct> & <fct> & <fct> & <fct> & <dbl> & <dbl> & <dbl> & <dbl> & <dbl> & <dbl> & <dbl> & <dbl> & <dbl> & <chr>\\\\\n",
       "\\hline\n",
       "\t1 & fun1\\&1 internet &  72539234 & FirstTime & 1 & 2019-07-19 & 2018-07-19 & Active & bechstedt.fun & 1\\&1 Internet & 1\\&1 Internet & Germany & NA & 1 & 15 & 15 & 0 & 215994151 & auto-renewal & realized   & Renewed    & 2019-07-19 & 15 & 3.39 & bechstedt & 1 & 1 & 9 & l & 9l & fun & Non China & 2.70805 & 0.460 & 0.8297922 & 0.417 & 0.4474406 & 0.583 & 0.7796984 & 0.7762980215 & 0.7634674 & NA\\\\\n",
       "\t2 & fun1\\&1 internet &  77947069 & FirstTime & 1 & 2019-10-02 & 2018-10-02 & Active & titom.fun     & 1\\&1 Internet & 1\\&1 Internet & Germany & NA & 1 & 15 & 15 & 0 & 236376841 & auto-renewal & unrealized & Not Renewd & 2019-10-02 & 15 & 9.01 & titom     & 1 & 1 & 5 & l & 5l & fun & Non China & 2.70805 & 0.498 & 0.7723665 & 0.454 & 0.5320517 & 0.587 & 0.7517838 & 0.7948791657 & 0.7620216 & NA\\\\\n",
       "\t3 & fun1\\&1 internet &  79309099 & FirstTime & 1 & 2019-10-16 & 2018-10-16 & Active & bishkek.fun   & 1\\&1 Internet & 1\\&1 Internet & Germany & NA & 1 & 15 & 15 & 0 & 223040506 & transfer     & NA         & Renewed    & 2019-08-16 & 15 & 1.71 & bishkek   & 1 & 3 & 7 & l & 7l & fun & Non China & 2.70805 & 0.464 & 0.6305379 & 0.420 & 0.5496369 & 0.593 & 0.5729471 & 0.5285377442 & 0.4418808 & NA\\\\\n",
       "\t4 & fun1\\&1 internet &  98387914 & FirstTime & 1 & 2020-03-30 & 2019-03-30 & Active & prequeue.fun  & 1\\&1 Internet & 1\\&1 Internet & Germany & NA & 1 & 15 & 15 & 0 & 303739619 & auto-renewal & realized   & Renewed    & 2020-03-30 & 15 & 4.23 & preqee    & 2 & 2 & 8 & l & 8l & fun & Non China & 2.70805 & 0.453 & 0.6626378 & 0.410 & 0.5286843 & 0.583 & 0.7447747 & 0.0009671371 & 0.6886353 & NA\\\\\n",
       "\t5 & fun1\\&1 internet &  91639803 & FirstTime & 1 & 2020-01-22 & 2019-01-22 & Active & segeln.fun    & 1\\&1 Internet & 1\\&1 Internet & Germany & NA & 1 & 15 & 15 & 0 & 283861656 & auto-renewal & realized   & Renewed    & 2020-01-22 & 15 & 2.23 & segeln    & 1 & 1 & 6 & l & 6l & fun & Non China & 2.70805 & 0.470 & 0.6923911 & 0.426 & 0.4957660 & 0.596 & 0.7196796 & 0.7441245136 & 0.7408064 & NA\\\\\n",
       "\t6 & fun1\\&1 internet & 100167214 & FirstTime & 1 & 2020-04-14 & 2019-04-14 & Active & moerk.fun     & 1\\&1 Internet & 1\\&1 Internet & Germany & NA & 1 & 15 & 15 & 0 & 307842879 & auto-renewal & realized   & Renewed    & 2020-04-14 & 15 & 2.46 & moerk     & 1 & 1 & 5 & l & 5l & fun & Non China & 2.70805 & 0.476 & 0.7261436 & 0.432 & 0.5039878 & 0.599 & 0.7412048 & 0.7385384473 & 0.7089843 & NA\\\\\n",
       "\\end{tabular}\n"
      ],
      "text/markdown": [
       "\n",
       "A data.frame: 6 × 41\n",
       "\n",
       "| <!--/--> | tld_registrar_index &lt;fct&gt; | domain_id &lt;int&gt; | renewal_type &lt;fct&gt; | renewed_count &lt;int&gt; | expiry_date &lt;fct&gt; | creation_date &lt;fct&gt; | status &lt;fct&gt; | domain &lt;fct&gt; | registrar &lt;fct&gt; | reseller &lt;fct&gt; | reseller_country &lt;fct&gt; | registrant_country &lt;fct&gt; | reg_period &lt;int&gt; | reg_revenue &lt;dbl&gt; | reg_arpt &lt;dbl&gt; | renew_mbg &lt;int&gt; | renewal_item_id &lt;int&gt; | renew_type &lt;fct&gt; | autorenew_type &lt;fct&gt; | renewal_status &lt;fct&gt; | renew_date &lt;fct&gt; | renew_arpt &lt;dbl&gt; | gibb_score &lt;dbl&gt; | pattern &lt;fct&gt; | pattern_domain_count &lt;int&gt; | day_domains &lt;int&gt; | sld_length &lt;int&gt; | sld_type &lt;fct&gt; | sld_type2 &lt;fct&gt; | tld &lt;fct&gt; | region &lt;fct&gt; | log_reg_arpt &lt;dbl&gt; | pred_agg_glm_ALL &lt;dbl&gt; | pred_agg_rf_ALL &lt;dbl&gt; | pred_agg_glm &lt;dbl&gt; | pred_agg_rf &lt;dbl&gt; | pred_seg_glm_ALL &lt;dbl&gt; | pred_seg_rf_ALL &lt;dbl&gt; | pred_seg2_glm_ALL &lt;dbl&gt; | pred_seg2_rf_ALL &lt;dbl&gt; | l10_win_04 &lt;chr&gt; |\n",
       "|---|---|---|---|---|---|---|---|---|---|---|---|---|---|---|---|---|---|---|---|---|---|---|---|---|---|---|---|---|---|---|---|---|---|---|---|---|---|---|---|---|---|\n",
       "| 1 | fun1&amp;1 internet |  72539234 | FirstTime | 1 | 2019-07-19 | 2018-07-19 | Active | bechstedt.fun | 1&amp;1 Internet | 1&amp;1 Internet | Germany | NA | 1 | 15 | 15 | 0 | 215994151 | auto-renewal | realized   | Renewed    | 2019-07-19 | 15 | 3.39 | bechstedt | 1 | 1 | 9 | l | 9l | fun | Non China | 2.70805 | 0.460 | 0.8297922 | 0.417 | 0.4474406 | 0.583 | 0.7796984 | 0.7762980215 | 0.7634674 | NA |\n",
       "| 2 | fun1&amp;1 internet |  77947069 | FirstTime | 1 | 2019-10-02 | 2018-10-02 | Active | titom.fun     | 1&amp;1 Internet | 1&amp;1 Internet | Germany | NA | 1 | 15 | 15 | 0 | 236376841 | auto-renewal | unrealized | Not Renewd | 2019-10-02 | 15 | 9.01 | titom     | 1 | 1 | 5 | l | 5l | fun | Non China | 2.70805 | 0.498 | 0.7723665 | 0.454 | 0.5320517 | 0.587 | 0.7517838 | 0.7948791657 | 0.7620216 | NA |\n",
       "| 3 | fun1&amp;1 internet |  79309099 | FirstTime | 1 | 2019-10-16 | 2018-10-16 | Active | bishkek.fun   | 1&amp;1 Internet | 1&amp;1 Internet | Germany | NA | 1 | 15 | 15 | 0 | 223040506 | transfer     | NA         | Renewed    | 2019-08-16 | 15 | 1.71 | bishkek   | 1 | 3 | 7 | l | 7l | fun | Non China | 2.70805 | 0.464 | 0.6305379 | 0.420 | 0.5496369 | 0.593 | 0.5729471 | 0.5285377442 | 0.4418808 | NA |\n",
       "| 4 | fun1&amp;1 internet |  98387914 | FirstTime | 1 | 2020-03-30 | 2019-03-30 | Active | prequeue.fun  | 1&amp;1 Internet | 1&amp;1 Internet | Germany | NA | 1 | 15 | 15 | 0 | 303739619 | auto-renewal | realized   | Renewed    | 2020-03-30 | 15 | 4.23 | preqee    | 2 | 2 | 8 | l | 8l | fun | Non China | 2.70805 | 0.453 | 0.6626378 | 0.410 | 0.5286843 | 0.583 | 0.7447747 | 0.0009671371 | 0.6886353 | NA |\n",
       "| 5 | fun1&amp;1 internet |  91639803 | FirstTime | 1 | 2020-01-22 | 2019-01-22 | Active | segeln.fun    | 1&amp;1 Internet | 1&amp;1 Internet | Germany | NA | 1 | 15 | 15 | 0 | 283861656 | auto-renewal | realized   | Renewed    | 2020-01-22 | 15 | 2.23 | segeln    | 1 | 1 | 6 | l | 6l | fun | Non China | 2.70805 | 0.470 | 0.6923911 | 0.426 | 0.4957660 | 0.596 | 0.7196796 | 0.7441245136 | 0.7408064 | NA |\n",
       "| 6 | fun1&amp;1 internet | 100167214 | FirstTime | 1 | 2020-04-14 | 2019-04-14 | Active | moerk.fun     | 1&amp;1 Internet | 1&amp;1 Internet | Germany | NA | 1 | 15 | 15 | 0 | 307842879 | auto-renewal | realized   | Renewed    | 2020-04-14 | 15 | 2.46 | moerk     | 1 | 1 | 5 | l | 5l | fun | Non China | 2.70805 | 0.476 | 0.7261436 | 0.432 | 0.5039878 | 0.599 | 0.7412048 | 0.7385384473 | 0.7089843 | NA |\n",
       "\n"
      ],
      "text/plain": [
       "  tld_registrar_index domain_id renewal_type renewed_count expiry_date\n",
       "1 fun1&1 internet      72539234 FirstTime    1             2019-07-19 \n",
       "2 fun1&1 internet      77947069 FirstTime    1             2019-10-02 \n",
       "3 fun1&1 internet      79309099 FirstTime    1             2019-10-16 \n",
       "4 fun1&1 internet      98387914 FirstTime    1             2020-03-30 \n",
       "5 fun1&1 internet      91639803 FirstTime    1             2020-01-22 \n",
       "6 fun1&1 internet     100167214 FirstTime    1             2020-04-14 \n",
       "  creation_date status domain        registrar    reseller     reseller_country\n",
       "1 2018-07-19    Active bechstedt.fun 1&1 Internet 1&1 Internet Germany         \n",
       "2 2018-10-02    Active titom.fun     1&1 Internet 1&1 Internet Germany         \n",
       "3 2018-10-16    Active bishkek.fun   1&1 Internet 1&1 Internet Germany         \n",
       "4 2019-03-30    Active prequeue.fun  1&1 Internet 1&1 Internet Germany         \n",
       "5 2019-01-22    Active segeln.fun    1&1 Internet 1&1 Internet Germany         \n",
       "6 2019-04-14    Active moerk.fun     1&1 Internet 1&1 Internet Germany         \n",
       "  registrant_country reg_period reg_revenue reg_arpt renew_mbg renewal_item_id\n",
       "1 NA                 1          15          15       0         215994151      \n",
       "2 NA                 1          15          15       0         236376841      \n",
       "3 NA                 1          15          15       0         223040506      \n",
       "4 NA                 1          15          15       0         303739619      \n",
       "5 NA                 1          15          15       0         283861656      \n",
       "6 NA                 1          15          15       0         307842879      \n",
       "  renew_type   autorenew_type renewal_status renew_date renew_arpt gibb_score\n",
       "1 auto-renewal realized       Renewed        2019-07-19 15         3.39      \n",
       "2 auto-renewal unrealized     Not Renewd     2019-10-02 15         9.01      \n",
       "3 transfer     NA             Renewed        2019-08-16 15         1.71      \n",
       "4 auto-renewal realized       Renewed        2020-03-30 15         4.23      \n",
       "5 auto-renewal realized       Renewed        2020-01-22 15         2.23      \n",
       "6 auto-renewal realized       Renewed        2020-04-14 15         2.46      \n",
       "  pattern   pattern_domain_count day_domains sld_length sld_type sld_type2 tld\n",
       "1 bechstedt 1                    1           9          l        9l        fun\n",
       "2 titom     1                    1           5          l        5l        fun\n",
       "3 bishkek   1                    3           7          l        7l        fun\n",
       "4 preqee    2                    2           8          l        8l        fun\n",
       "5 segeln    1                    1           6          l        6l        fun\n",
       "6 moerk     1                    1           5          l        5l        fun\n",
       "  region    log_reg_arpt pred_agg_glm_ALL pred_agg_rf_ALL pred_agg_glm\n",
       "1 Non China 2.70805      0.460            0.8297922       0.417       \n",
       "2 Non China 2.70805      0.498            0.7723665       0.454       \n",
       "3 Non China 2.70805      0.464            0.6305379       0.420       \n",
       "4 Non China 2.70805      0.453            0.6626378       0.410       \n",
       "5 Non China 2.70805      0.470            0.6923911       0.426       \n",
       "6 Non China 2.70805      0.476            0.7261436       0.432       \n",
       "  pred_agg_rf pred_seg_glm_ALL pred_seg_rf_ALL pred_seg2_glm_ALL\n",
       "1 0.4474406   0.583            0.7796984       0.7762980215     \n",
       "2 0.5320517   0.587            0.7517838       0.7948791657     \n",
       "3 0.5496369   0.593            0.5729471       0.5285377442     \n",
       "4 0.5286843   0.583            0.7447747       0.0009671371     \n",
       "5 0.4957660   0.596            0.7196796       0.7441245136     \n",
       "6 0.5039878   0.599            0.7412048       0.7385384473     \n",
       "  pred_seg2_rf_ALL l10_win_04\n",
       "1 0.7634674        NA        \n",
       "2 0.7620216        NA        \n",
       "3 0.4418808        NA        \n",
       "4 0.6886353        NA        \n",
       "5 0.7408064        NA        \n",
       "6 0.7089843        NA        "
      ]
     },
     "metadata": {},
     "output_type": "display_data"
    }
   ],
   "source": [
    "# merge with test dataset containing predictions\n",
    "# expiry_df_test_preds <- read.csv(\"../../data/output/datapull_20201116/expiry_df_test_preds.csv\")\n",
    "expiry_df_test_preds_assign <- merge(expiry_df_test_preds, lookup, by=\"tld_registrar_index\", all.x=TRUE)\n",
    "dim(expiry_df_test_preds_assign)\n",
    "head(expiry_df_test_preds_assign)"
   ]
  },
  {
   "cell_type": "code",
   "execution_count": 214,
   "metadata": {},
   "outputs": [
    {
     "data": {
      "text/html": [
       "833160"
      ],
      "text/latex": [
       "833160"
      ],
      "text/markdown": [
       "833160"
      ],
      "text/plain": [
       "[1] 833160"
      ]
     },
     "metadata": {},
     "output_type": "display_data"
    },
    {
     "data": {
      "text/html": [
       "<table>\n",
       "<caption>A data.frame: 1406 × 1</caption>\n",
       "<thead>\n",
       "\t<tr><th scope=col>tld_registrar_index</th></tr>\n",
       "\t<tr><th scope=col>&lt;fct&gt;</th></tr>\n",
       "</thead>\n",
       "<tbody>\n",
       "\t<tr><td><span style=white-space:pre-wrap>fun1&amp;1 internet          </span></td></tr>\n",
       "\t<tr><td>fun10dencehispahard      </td></tr>\n",
       "\t<tr><td>funab name isp           </td></tr>\n",
       "\t<tr><td>funactive 24             </td></tr>\n",
       "\t<tr><td>funalibaba               </td></tr>\n",
       "\t<tr><td>funalpnames              </td></tr>\n",
       "\t<tr><td>funascio                 </td></tr>\n",
       "\t<tr><td>funautomattic            </td></tr>\n",
       "\t<tr><td>funbaidu                 </td></tr>\n",
       "\t<tr><td>funbeget                 </td></tr>\n",
       "\t<tr><td>funbeon intermedia       </td></tr>\n",
       "\t<tr><td>funbizcn                 </td></tr>\n",
       "\t<tr><td>funcheck domain          </td></tr>\n",
       "\t<tr><td>funchengdu fly           </td></tr>\n",
       "\t<tr><td>funchengdu west          </td></tr>\n",
       "\t<tr><td>funcom laude             </td></tr>\n",
       "\t<tr><td>funcrazy domains         </td></tr>\n",
       "\t<tr><td>funcsl                   </td></tr>\n",
       "\t<tr><td>fundnc holdings          </td></tr>\n",
       "\t<tr><td>fundomain discount       </td></tr>\n",
       "\t<tr><td>fundomain.com - registrar</td></tr>\n",
       "\t<tr><td>fundomains4bitcoins      </td></tr>\n",
       "\t<tr><td>fundomeneshop            </td></tr>\n",
       "\t<tr><td>fundotname korea         </td></tr>\n",
       "\t<tr><td>fundotserve inc          </td></tr>\n",
       "\t<tr><td>fundreamhost             </td></tr>\n",
       "\t<tr><td>fundynadot               </td></tr>\n",
       "\t<tr><td>funejee group            </td></tr>\n",
       "\t<tr><td>funenom                  </td></tr>\n",
       "\t<tr><td>funepik llc              </td></tr>\n",
       "\t<tr><td>funeranet                </td></tr>\n",
       "\t<tr><td>funeu technology         </td></tr>\n",
       "\t<tr><td>funfbs                   </td></tr>\n",
       "\t<tr><td>funforpsi                </td></tr>\n",
       "\t<tr><td>funfoshan yidong         </td></tr>\n",
       "\t<tr><td>fungabia                 </td></tr>\n",
       "\t<tr><td>fungandi sas             </td></tr>\n",
       "\t<tr><td>fungmo                   </td></tr>\n",
       "\t<tr><td>fungo daddy              </td></tr>\n",
       "\t<tr><td>fungoogle                </td></tr>\n",
       "\t<tr><td>funhostgator brazil      </td></tr>\n",
       "\t<tr><td>funhosting concepts      </td></tr>\n",
       "\t<tr><td>funhostnet.nl            </td></tr>\n",
       "\t<tr><td>funhostpoint             </td></tr>\n",
       "\t<tr><td>funinfomaniak.ch         </td></tr>\n",
       "\t<tr><td>funinstra corporation    </td></tr>\n",
       "\t<tr><td>funinternetworx ltd      </td></tr>\n",
       "\t<tr><td>funinterserver           </td></tr>\n",
       "\t<tr><td>funiwantmyname           </td></tr>\n",
       "\t<tr><td>funkey-systems           </td></tr>\n",
       "\t<tr><td>⋮</td></tr>\n",
       "\t<tr><td>websiteparagon internet         </td></tr>\n",
       "\t<tr><td>websitepdr ltd                  </td></tr>\n",
       "\t<tr><td>websiteplanet hoster            </td></tr>\n",
       "\t<tr><td>websiteporkbun                  </td></tr>\n",
       "\t<tr><td>websitepromo people             </td></tr>\n",
       "\t<tr><td>websiterealtime register        </td></tr>\n",
       "\t<tr><td>websitereg.ru                   </td></tr>\n",
       "\t<tr><td>websiteregistrarsec             </td></tr>\n",
       "\t<tr><td>websiteregistrator domenov      </td></tr>\n",
       "\t<tr><td>websiteregistrator domenov      </td></tr>\n",
       "\t<tr><td>websiteregistrygate             </td></tr>\n",
       "\t<tr><td>websiteregtime ltd              </td></tr>\n",
       "\t<tr><td>websiteru-center                </td></tr>\n",
       "\t<tr><td>websiterumahweb                 </td></tr>\n",
       "\t<tr><td>websitesafenames ltd            </td></tr>\n",
       "\t<tr><td>websitesered                    </td></tr>\n",
       "\t<tr><td>websiteserver plan              </td></tr>\n",
       "\t<tr><td>websiteshanghai best oray       </td></tr>\n",
       "\t<tr><td>websiteshanghai meicheng        </td></tr>\n",
       "\t<tr><td>websiteshopify                  </td></tr>\n",
       "\t<tr><td>websitesmartweb                 </td></tr>\n",
       "\t<tr><td>websitespaceweb                 </td></tr>\n",
       "\t<tr><td>websitesquarespace              </td></tr>\n",
       "\t<tr><td>websitesuperdominios            </td></tr>\n",
       "\t<tr><td>websitesuperhosting             </td></tr>\n",
       "\t<tr><td>websitesynergy wholesale        </td></tr>\n",
       "\t<tr><td>websitetenten                   </td></tr>\n",
       "\t<tr><td>websitetimeweb                  </td></tr>\n",
       "\t<tr><td>websitetradeindia               </td></tr>\n",
       "\t<tr><td>websitetucows                   </td></tr>\n",
       "\t<tr><td>websiteuniregistrar             </td></tr>\n",
       "\t<tr><td>websiteunited domains           </td></tr>\n",
       "\t<tr><td>websiteunoeuro                  </td></tr>\n",
       "\t<tr><td>websiteuol                      </td></tr>\n",
       "\t<tr><td>websiteurl solutions            </td></tr>\n",
       "\t<tr><td>websiteversio                   </td></tr>\n",
       "\t<tr><td>websitevimexx trc               </td></tr>\n",
       "\t<tr><td>websiteweb commerce comm        </td></tr>\n",
       "\t<tr><td>websiteweb4africa               </td></tr>\n",
       "\t<tr><td>websiteweebly                   </td></tr>\n",
       "\t<tr><td>websitewhogohost                </td></tr>\n",
       "\t<tr><td>websitewhois                    </td></tr>\n",
       "\t<tr><td>websitewild west                </td></tr>\n",
       "\t<tr><td>websitewix                      </td></tr>\n",
       "\t<tr><td>websiteworld4you                </td></tr>\n",
       "\t<tr><td>websitexin net                  </td></tr>\n",
       "\t<tr><td>websitexpress                   </td></tr>\n",
       "\t<tr><td>websiteyour hosting             </td></tr>\n",
       "\t<tr><td>websitezeit                     </td></tr>\n",
       "\t<tr><td>websitezhengzhou century connect</td></tr>\n",
       "</tbody>\n",
       "</table>\n"
      ],
      "text/latex": [
       "A data.frame: 1406 × 1\n",
       "\\begin{tabular}{l}\n",
       " tld\\_registrar\\_index\\\\\n",
       " <fct>\\\\\n",
       "\\hline\n",
       "\t fun1\\&1 internet          \\\\\n",
       "\t fun10dencehispahard      \\\\\n",
       "\t funab name isp           \\\\\n",
       "\t funactive 24             \\\\\n",
       "\t funalibaba               \\\\\n",
       "\t funalpnames              \\\\\n",
       "\t funascio                 \\\\\n",
       "\t funautomattic            \\\\\n",
       "\t funbaidu                 \\\\\n",
       "\t funbeget                 \\\\\n",
       "\t funbeon intermedia       \\\\\n",
       "\t funbizcn                 \\\\\n",
       "\t funcheck domain          \\\\\n",
       "\t funchengdu fly           \\\\\n",
       "\t funchengdu west          \\\\\n",
       "\t funcom laude             \\\\\n",
       "\t funcrazy domains         \\\\\n",
       "\t funcsl                   \\\\\n",
       "\t fundnc holdings          \\\\\n",
       "\t fundomain discount       \\\\\n",
       "\t fundomain.com - registrar\\\\\n",
       "\t fundomains4bitcoins      \\\\\n",
       "\t fundomeneshop            \\\\\n",
       "\t fundotname korea         \\\\\n",
       "\t fundotserve inc          \\\\\n",
       "\t fundreamhost             \\\\\n",
       "\t fundynadot               \\\\\n",
       "\t funejee group            \\\\\n",
       "\t funenom                  \\\\\n",
       "\t funepik llc              \\\\\n",
       "\t funeranet                \\\\\n",
       "\t funeu technology         \\\\\n",
       "\t funfbs                   \\\\\n",
       "\t funforpsi                \\\\\n",
       "\t funfoshan yidong         \\\\\n",
       "\t fungabia                 \\\\\n",
       "\t fungandi sas             \\\\\n",
       "\t fungmo                   \\\\\n",
       "\t fungo daddy              \\\\\n",
       "\t fungoogle                \\\\\n",
       "\t funhostgator brazil      \\\\\n",
       "\t funhosting concepts      \\\\\n",
       "\t funhostnet.nl            \\\\\n",
       "\t funhostpoint             \\\\\n",
       "\t funinfomaniak.ch         \\\\\n",
       "\t funinstra corporation    \\\\\n",
       "\t funinternetworx ltd      \\\\\n",
       "\t funinterserver           \\\\\n",
       "\t funiwantmyname           \\\\\n",
       "\t funkey-systems           \\\\\n",
       "\t ⋮\\\\\n",
       "\t websiteparagon internet         \\\\\n",
       "\t websitepdr ltd                  \\\\\n",
       "\t websiteplanet hoster            \\\\\n",
       "\t websiteporkbun                  \\\\\n",
       "\t websitepromo people             \\\\\n",
       "\t websiterealtime register        \\\\\n",
       "\t websitereg.ru                   \\\\\n",
       "\t websiteregistrarsec             \\\\\n",
       "\t websiteregistrator domenov      \\\\\n",
       "\t websiteregistrator domenov      \\\\\n",
       "\t websiteregistrygate             \\\\\n",
       "\t websiteregtime ltd              \\\\\n",
       "\t websiteru-center                \\\\\n",
       "\t websiterumahweb                 \\\\\n",
       "\t websitesafenames ltd            \\\\\n",
       "\t websitesered                    \\\\\n",
       "\t websiteserver plan              \\\\\n",
       "\t websiteshanghai best oray       \\\\\n",
       "\t websiteshanghai meicheng        \\\\\n",
       "\t websiteshopify                  \\\\\n",
       "\t websitesmartweb                 \\\\\n",
       "\t websitespaceweb                 \\\\\n",
       "\t websitesquarespace              \\\\\n",
       "\t websitesuperdominios            \\\\\n",
       "\t websitesuperhosting             \\\\\n",
       "\t websitesynergy wholesale        \\\\\n",
       "\t websitetenten                   \\\\\n",
       "\t websitetimeweb                  \\\\\n",
       "\t websitetradeindia               \\\\\n",
       "\t websitetucows                   \\\\\n",
       "\t websiteuniregistrar             \\\\\n",
       "\t websiteunited domains           \\\\\n",
       "\t websiteunoeuro                  \\\\\n",
       "\t websiteuol                      \\\\\n",
       "\t websiteurl solutions            \\\\\n",
       "\t websiteversio                   \\\\\n",
       "\t websitevimexx trc               \\\\\n",
       "\t websiteweb commerce comm        \\\\\n",
       "\t websiteweb4africa               \\\\\n",
       "\t websiteweebly                   \\\\\n",
       "\t websitewhogohost                \\\\\n",
       "\t websitewhois                    \\\\\n",
       "\t websitewild west                \\\\\n",
       "\t websitewix                      \\\\\n",
       "\t websiteworld4you                \\\\\n",
       "\t websitexin net                  \\\\\n",
       "\t websitexpress                   \\\\\n",
       "\t websiteyour hosting             \\\\\n",
       "\t websitezeit                     \\\\\n",
       "\t websitezhengzhou century connect\\\\\n",
       "\\end{tabular}\n"
      ],
      "text/markdown": [
       "\n",
       "A data.frame: 1406 × 1\n",
       "\n",
       "| tld_registrar_index &lt;fct&gt; |\n",
       "|---|\n",
       "| fun1&amp;1 internet           |\n",
       "| fun10dencehispahard       |\n",
       "| funab name isp            |\n",
       "| funactive 24              |\n",
       "| funalibaba                |\n",
       "| funalpnames               |\n",
       "| funascio                  |\n",
       "| funautomattic             |\n",
       "| funbaidu                  |\n",
       "| funbeget                  |\n",
       "| funbeon intermedia        |\n",
       "| funbizcn                  |\n",
       "| funcheck domain           |\n",
       "| funchengdu fly            |\n",
       "| funchengdu west           |\n",
       "| funcom laude              |\n",
       "| funcrazy domains          |\n",
       "| funcsl                    |\n",
       "| fundnc holdings           |\n",
       "| fundomain discount        |\n",
       "| fundomain.com - registrar |\n",
       "| fundomains4bitcoins       |\n",
       "| fundomeneshop             |\n",
       "| fundotname korea          |\n",
       "| fundotserve inc           |\n",
       "| fundreamhost              |\n",
       "| fundynadot                |\n",
       "| funejee group             |\n",
       "| funenom                   |\n",
       "| funepik llc               |\n",
       "| funeranet                 |\n",
       "| funeu technology          |\n",
       "| funfbs                    |\n",
       "| funforpsi                 |\n",
       "| funfoshan yidong          |\n",
       "| fungabia                  |\n",
       "| fungandi sas              |\n",
       "| fungmo                    |\n",
       "| fungo daddy               |\n",
       "| fungoogle                 |\n",
       "| funhostgator brazil       |\n",
       "| funhosting concepts       |\n",
       "| funhostnet.nl             |\n",
       "| funhostpoint              |\n",
       "| funinfomaniak.ch          |\n",
       "| funinstra corporation     |\n",
       "| funinternetworx ltd       |\n",
       "| funinterserver            |\n",
       "| funiwantmyname            |\n",
       "| funkey-systems            |\n",
       "| ⋮ |\n",
       "| websiteparagon internet          |\n",
       "| websitepdr ltd                   |\n",
       "| websiteplanet hoster             |\n",
       "| websiteporkbun                   |\n",
       "| websitepromo people              |\n",
       "| websiterealtime register         |\n",
       "| websitereg.ru                    |\n",
       "| websiteregistrarsec              |\n",
       "| websiteregistrator domenov       |\n",
       "| websiteregistrator domenov       |\n",
       "| websiteregistrygate              |\n",
       "| websiteregtime ltd               |\n",
       "| websiteru-center                 |\n",
       "| websiterumahweb                  |\n",
       "| websitesafenames ltd             |\n",
       "| websitesered                     |\n",
       "| websiteserver plan               |\n",
       "| websiteshanghai best oray        |\n",
       "| websiteshanghai meicheng         |\n",
       "| websiteshopify                   |\n",
       "| websitesmartweb                  |\n",
       "| websitespaceweb                  |\n",
       "| websitesquarespace               |\n",
       "| websitesuperdominios             |\n",
       "| websitesuperhosting              |\n",
       "| websitesynergy wholesale         |\n",
       "| websitetenten                    |\n",
       "| websitetimeweb                   |\n",
       "| websitetradeindia                |\n",
       "| websitetucows                    |\n",
       "| websiteuniregistrar              |\n",
       "| websiteunited domains            |\n",
       "| websiteunoeuro                   |\n",
       "| websiteuol                       |\n",
       "| websiteurl solutions             |\n",
       "| websiteversio                    |\n",
       "| websitevimexx trc                |\n",
       "| websiteweb commerce comm         |\n",
       "| websiteweb4africa                |\n",
       "| websiteweebly                    |\n",
       "| websitewhogohost                 |\n",
       "| websitewhois                     |\n",
       "| websitewild west                 |\n",
       "| websitewix                       |\n",
       "| websiteworld4you                 |\n",
       "| websitexin net                   |\n",
       "| websitexpress                    |\n",
       "| websiteyour hosting              |\n",
       "| websitezeit                      |\n",
       "| websitezhengzhou century connect |\n",
       "\n"
      ],
      "text/plain": [
       "     tld_registrar_index             \n",
       "1    fun1&1 internet                 \n",
       "2    fun10dencehispahard             \n",
       "3    funab name isp                  \n",
       "4    funactive 24                    \n",
       "5    funalibaba                      \n",
       "6    funalpnames                     \n",
       "7    funascio                        \n",
       "8    funautomattic                   \n",
       "9    funbaidu                        \n",
       "10   funbeget                        \n",
       "11   funbeon intermedia              \n",
       "12   funbizcn                        \n",
       "13   funcheck domain                 \n",
       "14   funchengdu fly                  \n",
       "15   funchengdu west                 \n",
       "16   funcom laude                    \n",
       "17   funcrazy domains                \n",
       "18   funcsl                          \n",
       "19   fundnc holdings                 \n",
       "20   fundomain discount              \n",
       "21   fundomain.com - registrar       \n",
       "22   fundomains4bitcoins             \n",
       "23   fundomeneshop                   \n",
       "24   fundotname korea                \n",
       "25   fundotserve inc                 \n",
       "26   fundreamhost                    \n",
       "27   fundynadot                      \n",
       "28   funejee group                   \n",
       "29   funenom                         \n",
       "30   funepik llc                     \n",
       "31   funeranet                       \n",
       "32   funeu technology                \n",
       "33   funfbs                          \n",
       "34   funforpsi                       \n",
       "35   funfoshan yidong                \n",
       "36   fungabia                        \n",
       "37   fungandi sas                    \n",
       "38   fungmo                          \n",
       "39   fungo daddy                     \n",
       "40   fungoogle                       \n",
       "41   funhostgator brazil             \n",
       "42   funhosting concepts             \n",
       "43   funhostnet.nl                   \n",
       "44   funhostpoint                    \n",
       "45   funinfomaniak.ch                \n",
       "46   funinstra corporation           \n",
       "47   funinternetworx ltd             \n",
       "48   funinterserver                  \n",
       "49   funiwantmyname                  \n",
       "50   funkey-systems                  \n",
       "⋮    ⋮                               \n",
       "1357 websiteparagon internet         \n",
       "1358 websitepdr ltd                  \n",
       "1359 websiteplanet hoster            \n",
       "1360 websiteporkbun                  \n",
       "1361 websitepromo people             \n",
       "1362 websiterealtime register        \n",
       "1363 websitereg.ru                   \n",
       "1364 websiteregistrarsec             \n",
       "1365 websiteregistrator domenov      \n",
       "1366 websiteregistrator domenov      \n",
       "1367 websiteregistrygate             \n",
       "1368 websiteregtime ltd              \n",
       "1369 websiteru-center                \n",
       "1370 websiterumahweb                 \n",
       "1371 websitesafenames ltd            \n",
       "1372 websitesered                    \n",
       "1373 websiteserver plan              \n",
       "1374 websiteshanghai best oray       \n",
       "1375 websiteshanghai meicheng        \n",
       "1376 websiteshopify                  \n",
       "1377 websitesmartweb                 \n",
       "1378 websitespaceweb                 \n",
       "1379 websitesquarespace              \n",
       "1380 websitesuperdominios            \n",
       "1381 websitesuperhosting             \n",
       "1382 websitesynergy wholesale        \n",
       "1383 websitetenten                   \n",
       "1384 websitetimeweb                  \n",
       "1385 websitetradeindia               \n",
       "1386 websitetucows                   \n",
       "1387 websiteuniregistrar             \n",
       "1388 websiteunited domains           \n",
       "1389 websiteunoeuro                  \n",
       "1390 websiteuol                      \n",
       "1391 websiteurl solutions            \n",
       "1392 websiteversio                   \n",
       "1393 websitevimexx trc               \n",
       "1394 websiteweb commerce comm        \n",
       "1395 websiteweb4africa               \n",
       "1396 websiteweebly                   \n",
       "1397 websitewhogohost                \n",
       "1398 websitewhois                    \n",
       "1399 websitewild west                \n",
       "1400 websitewix                      \n",
       "1401 websiteworld4you                \n",
       "1402 websitexin net                  \n",
       "1403 websitexpress                   \n",
       "1404 websiteyour hosting             \n",
       "1405 websitezeit                     \n",
       "1406 websitezhengzhou century connect"
      ]
     },
     "metadata": {},
     "output_type": "display_data"
    }
   ],
   "source": [
    "expiry_df_test_preds_assign %>% filter(is.na(l10_win_04)) %>% nrow()\n",
    "expiry_df_test_preds_assign %>% filter(is.na(l10_win_04)) %>% select(tld_registrar_index) %>% distinct(tld_registrar_index)"
   ]
  },
  {
   "cell_type": "markdown",
   "metadata": {},
   "source": [
    "## assign prediction based on prediction results"
   ]
  },
  {
   "cell_type": "code",
   "execution_count": null,
   "metadata": {},
   "outputs": [],
   "source": [
    "# 04.1 is the prediction result\n",
    "expiry_test_predictions_assign$l10_win_04_pred <- \n",
    "    (expiry_test_predictions_assign$l10_win_04.1=='l10_seg2_glm_fb')*expiry_test_predictions_assign$pred_df_seg2_glm_fb+\n",
    "    (expiry_test_predictions_assign$l10_win_04.1=='l10_agg_rf_ALL')*expiry_test_predictions_assign$pred_df_agg_rf\n",
    "\n",
    "head(expiry_test_predictions_assign %>% select(pred_df_seg2_glm_fb,pred_df_agg_rf_fb,auc_win_01,auc_win_pred))"
   ]
  },
  {
   "cell_type": "code",
   "execution_count": null,
   "metadata": {},
   "outputs": [],
   "source": [
    "\n",
    "lift_list <- list()\n",
    "auc_list <- list()\n",
    "\n",
    "fallback_lift <- chart_lift(pred_df=expiry_test_predictions_assign,\n",
    "                        dep_var = \"renewal_status\",\n",
    "                        pred_var = \"auc_win_pred\") \n",
    "\n",
    "lift_list[[\"auc_win_pred\"]] <- fallback_lift\n",
    "auc_list[[\"auc_win_pred\"]] <- calc_auc(lift_df=fallback_lift)\n",
    "\n",
    "models <- c('pred_df_seg2_glm_fb','pred_df_agg_rf_fb')\n",
    "\n",
    "\n",
    "for (model in models){\n",
    "    model_lift <- chart_lift(pred_df=expiry_test_predictions_assign,\n",
    "                        dep_var = \"renewal_status\",\n",
    "                        pred_var = model) \n",
    "    \n",
    "    fallback_lift <- merge(fallback_lift, model_lift, by=c(\"P\"),all= TRUE, \n",
    "                           suffixes = c(\"\",\n",
    "                                        paste(\"_\",gsub(\"pred_df_\", \"\", model)) ))\n",
    "    \n",
    "    lift_list[[model]] <- model_lift\n",
    "    auc_list[[model]] <- calc_auc(lift_df=model_lift)\n",
    "}\n",
    "\n",
    "lift_df <- fallback_lift"
   ]
  },
  {
   "cell_type": "code",
   "execution_count": null,
   "metadata": {},
   "outputs": [],
   "source": [
    "length(lift_list)\n",
    "names(lift_list)\n",
    "sapply(lift_list, dim)\n",
    "lift_list[\"auc_win_pred\"]"
   ]
  },
  {
   "cell_type": "code",
   "execution_count": null,
   "metadata": {},
   "outputs": [],
   "source": [
    "prop.table(table(expiry_test_predictions_assign$renewal_status))"
   ]
  },
  {
   "cell_type": "code",
   "execution_count": null,
   "metadata": {},
   "outputs": [],
   "source": [
    "plot_multigains <- function (lift_df_list=list(seg_glm = lift_df, \n",
    "                                               ben_dtr = lift_df_2),\n",
    "                             auc_list = list(seg_glm = auc, \n",
    "                                             ben_dtr=auc_2),\n",
    "                             prop_positive = 0.1194494) {\n",
    "  \n",
    "  optimal_df <- data.frame( \"P\"=c(0,prop_positive,1.0),\n",
    "                            \"actu_renwd2\"=c(NA,NA,NA),\n",
    "                            \"gain\"=c(0,1.0,1.0),\n",
    "                            \"lift\"=c(NA,NA,NA))\n",
    "  \n",
    "  lift_df_list <- lapply(lift_df_list, function(df) {\n",
    "    df <- df %>%\n",
    "      add_row(P = 0, gain =0) %>%\n",
    "      arrange(P)\n",
    "  })\n",
    "\n",
    "  auc_lift_list = paste(lapply(auc_list, round, 3),sapply(lift_df_list, function(x) round(x[2,\"lift\"],2)), sep=\", \")\n",
    "  \n",
    "  auc_map = paste(names(lift_df_list),auc_lift_list, sep=\" = \")[1:length(lift_df_list)]\n",
    "  \n",
    "  \n",
    "  gains_plot <- ggplot(NULL, aes(P,  gain)) +\n",
    "    geom_line(data = lift_df_list[[1]] %>% slice(1, n())) +\n",
    "    \n",
    "    list(geom_line(data=optimal_df), geom_point(data=optimal_df)) +\n",
    "    \n",
    "    scale_y_continuous(breaks = seq(0, 1, by = .1), limits = c(0,1)) +\n",
    "    scale_x_continuous(breaks = seq(0, 1, by = .1)) +\n",
    "    labs(title = \"Cumulative Gains Plot\",\n",
    "         y = \"Cumulative Gain\",\n",
    "         x = \"Percentile\")+\n",
    "    theme(text = element_text(size=20))\n",
    "  \n",
    "  for(i in seq(length(lift_df_list))){\n",
    "    name = names(lift_df_list)[[i]]\n",
    "    df = lift_df_list[[i]]\n",
    "    auc = auc_list[[i]]\n",
    "    gains_plot <- gains_plot + list(geom_line(data=df), \n",
    "                                    geom_point(data=df))+ \n",
    "      annotate(\"text\", x = .4, y = .9-i*.075, hjust = 0, label = auc_map[[i]], size = 5)\n",
    "  }\n",
    "  \n",
    "  \n",
    "  return(gains_plot)\n",
    "}\n"
   ]
  },
  {
   "cell_type": "code",
   "execution_count": null,
   "metadata": {},
   "outputs": [],
   "source": [
    "plot_multigains(            lift_df_list=lift_list,\n",
    "                             auc_list = auc_list,\n",
    "                             prop_positive = 0.1194494) "
   ]
  },
  {
   "cell_type": "code",
   "execution_count": null,
   "metadata": {},
   "outputs": [],
   "source": [
    "dim(expiry_test_predictions_assign)"
   ]
  },
  {
   "cell_type": "code",
   "execution_count": null,
   "metadata": {},
   "outputs": [],
   "source": [
    "lift_df"
   ]
  },
  {
   "cell_type": "code",
   "execution_count": null,
   "metadata": {},
   "outputs": [],
   "source": [
    "as.data.frame(auc_list)"
   ]
  },
  {
   "cell_type": "code",
   "execution_count": null,
   "metadata": {},
   "outputs": [],
   "source": []
  },
  {
   "cell_type": "markdown",
   "metadata": {},
   "source": [
    "# Assign Model based on Binary prediction for L10"
   ]
  },
  {
   "cell_type": "code",
   "execution_count": null,
   "metadata": {},
   "outputs": [],
   "source": [
    "model <- ranger(formula         = l10_win_01 ~ ., \n",
    "                data            = subset(train, select = -c(auc_win_01) ), \n",
    "                importance = 'impurity', \n",
    "                num.trees       = 500,\n",
    "                probability = TRUE,\n",
    "                replace = FALSE,\n",
    "                sample.fraction = .8,\n",
    "                seed            = 123,\n",
    "                respect.unordered.factors=TRUE)"
   ]
  },
  {
   "cell_type": "code",
   "execution_count": null,
   "metadata": {},
   "outputs": [],
   "source": [
    "pred <- predict(model, \n",
    "                data = test,\n",
    "                type=\"response\")$predictions\n",
    "head(pred)"
   ]
  },
  {
   "cell_type": "code",
   "execution_count": null,
   "metadata": {},
   "outputs": [],
   "source": [
    "pred <- as.data.frame(pred)\n",
    "(auc_vars <- names(pred))\n",
    "pred <- pred %>%\n",
    "    mutate (l10_win_01=sapply(apply(.[,c(auc_vars)], \n",
    "                          1, function(x) names(x)[which.max(x)]) , \n",
    "                                    function(s) if (length(s) == 0) NA else paste(s, collapse = \" \")) \n",
    "            ) \n",
    "head(pred)"
   ]
  },
  {
   "cell_type": "code",
   "execution_count": null,
   "metadata": {},
   "outputs": [],
   "source": [
    "test_pred <- cbind(test,pred)\n",
    "# test_pred <- test_pred %>% select()\n",
    "dim(test)\n",
    "dim(pred)\n",
    "dim(test_pred)\n",
    "head(test_pred)"
   ]
  },
  {
   "cell_type": "markdown",
   "metadata": {},
   "source": [
    "# Calc metrics"
   ]
  },
  {
   "cell_type": "markdown",
   "metadata": {},
   "source": [
    "## generate lookup for tld-reg model"
   ]
  },
  {
   "cell_type": "code",
   "execution_count": null,
   "metadata": {},
   "outputs": [],
   "source": [
    "head(expiry_test_meta)"
   ]
  },
  {
   "cell_type": "code",
   "execution_count": null,
   "metadata": {},
   "outputs": [],
   "source": [
    "expiry_test_meta_test <- expiry_test_meta[-train_ind,]\n",
    "\n",
    "dim(pred)\n",
    "dim(expiry_test_meta_test)\n",
    "\n",
    "expiry_test_meta_test <- cbind(expiry_test_meta_test, pred)\n",
    "expiry_test_meta_test <- expiry_test_meta_test %>% select(tld_registrar_index, l10_win_01)\n",
    "\n",
    "expiry_test_meta_test %>% head()"
   ]
  },
  {
   "cell_type": "markdown",
   "metadata": {},
   "source": [
    "## assign prediction based on lookup"
   ]
  },
  {
   "cell_type": "code",
   "execution_count": null,
   "metadata": {},
   "outputs": [],
   "source": [
    "expiry_test_predictions_assign <- merge(expiry_test_predictions, \n",
    "                                       expiry_test_meta_test, \n",
    "                                       on='tld_registrar_index',\n",
    "                                       all=TRUE)\n",
    "dim(expiry_test_predictions_assign)\n",
    "dim(expiry_test_predictions)\n",
    "head(expiry_test_predictions_assign)"
   ]
  },
  {
   "cell_type": "code",
   "execution_count": null,
   "metadata": {},
   "outputs": [],
   "source": [
    "# metalearning trained on 80% subset of 20% subset of expiry\n",
    "# tested on 20% subset of 20% of expiry\n",
    "\n",
    "table(expiry_test_predictions_assign$l10_win_01)/nrow(expiry_test_predictions_assign)\n",
    "sum(is.na(expiry_test_predictions_assign$l10_win_01))/nrow(expiry_test_predictions_assign)"
   ]
  },
  {
   "cell_type": "code",
   "execution_count": null,
   "metadata": {},
   "outputs": [],
   "source": [
    "# remove all NAs\n",
    "# ie elements of test which were used to train the model\n",
    "expiry_test_predictions_assign <- expiry_test_predictions_assign %>% filter(!is.na(l10_win_01))\n",
    "dim(expiry_test_predictions_assign)\n",
    "sum(is.na(expiry_test_predictions_assign$l10_win_01))/nrow(expiry_test_predictions_assign)\n",
    "head(expiry_test_predictions_assign)"
   ]
  },
  {
   "cell_type": "code",
   "execution_count": null,
   "metadata": {},
   "outputs": [],
   "source": [
    "expiry_test_predictions_assign$l10_win_pred <- \n",
    "    (expiry_test_predictions_assign$l10_win_01=='l10_seg2_glm_fb')*expiry_test_predictions_assign$pred_df_seg2_glm_fb+\n",
    "    (expiry_test_predictions_assign$l10_win_01=='l10_agg_rf_fb')*expiry_test_predictions_assign$pred_df_agg_rf_fb\n",
    "\n",
    "head(expiry_test_predictions_assign %>% select(pred_df_seg2_glm_fb,pred_df_agg_rf_fb,l10_win_01,l10_win_pred))"
   ]
  },
  {
   "cell_type": "code",
   "execution_count": null,
   "metadata": {},
   "outputs": [],
   "source": [
    "\n",
    "lift_list <- list()\n",
    "auc_list <- list()\n",
    "\n",
    "fallback_lift <- chart_lift(pred_df=expiry_test_predictions_assign,\n",
    "                        dep_var = \"renewal_status\",\n",
    "                        pred_var = \"l10_win_pred\") \n",
    "\n",
    "lift_list[[\"l10_win_pred\"]] <- fallback_lift\n",
    "auc_list[[\"l10_win_pred\"]] <- calc_auc(lift_df=fallback_lift)\n",
    "\n",
    "models <- c('pred_df_seg2_glm_fb','pred_df_agg_rf_fb')\n",
    "\n",
    "\n",
    "for (model in models){\n",
    "    model_lift <- chart_lift(pred_df=expiry_test_predictions_assign,\n",
    "                        dep_var = \"renewal_status\",\n",
    "                        pred_var = model) \n",
    "    \n",
    "    fallback_lift <- merge(fallback_lift, model_lift, by=c(\"P\"),all= TRUE, \n",
    "                           suffixes = c(\"\",\n",
    "                                        paste(\"_\",gsub(\"pred_df_\", \"\", model)) ))\n",
    "    \n",
    "    lift_list[[model]] <- model_lift\n",
    "    auc_list[[model]] <- calc_auc(lift_df=model_lift)\n",
    "}\n",
    "\n",
    "lift_df <- fallback_lift"
   ]
  },
  {
   "cell_type": "code",
   "execution_count": null,
   "metadata": {},
   "outputs": [],
   "source": [
    "length(lift_list)\n",
    "names(lift_list)\n",
    "sapply(lift_list, dim)\n",
    "lift_list[\"auc_win_pred\"]"
   ]
  },
  {
   "cell_type": "code",
   "execution_count": null,
   "metadata": {},
   "outputs": [],
   "source": [
    "prop.table(table(expiry_test_predictions_assign$renewal_status))"
   ]
  },
  {
   "cell_type": "code",
   "execution_count": null,
   "metadata": {},
   "outputs": [],
   "source": [
    "plot_multigains <- function (lift_df_list=list(seg_glm = lift_df, \n",
    "                                               ben_dtr = lift_df_2),\n",
    "                             auc_list = list(seg_glm = auc, \n",
    "                                             ben_dtr=auc_2),\n",
    "                             prop_positive = 0.1194494) {\n",
    "  \n",
    "  optimal_df <- data.frame( \"P\"=c(0,prop_positive,1.0),\n",
    "                            \"actu_renwd2\"=c(NA,NA,NA),\n",
    "                            \"gain\"=c(0,1.0,1.0),\n",
    "                            \"lift\"=c(NA,NA,NA))\n",
    "  \n",
    "  lift_df_list <- lapply(lift_df_list, function(df) {\n",
    "    df <- df %>%\n",
    "      add_row(P = 0, gain =0) %>%\n",
    "      arrange(P)\n",
    "  })\n",
    "\n",
    "  auc_lift_list = paste(lapply(auc_list, round, 3),sapply(lift_df_list, function(x) round(x[2,\"lift\"],2)), sep=\", \")\n",
    "  \n",
    "  auc_map = paste(names(lift_df_list),auc_lift_list, sep=\" = \")[1:length(lift_df_list)]\n",
    "  \n",
    "  \n",
    "  gains_plot <- ggplot(NULL, aes(P,  gain)) +\n",
    "    geom_line(data = lift_df_list[[1]] %>% slice(1, n())) +\n",
    "    \n",
    "    list(geom_line(data=optimal_df), geom_point(data=optimal_df)) +\n",
    "    \n",
    "    scale_y_continuous(breaks = seq(0, 1, by = .1), limits = c(0,1)) +\n",
    "    scale_x_continuous(breaks = seq(0, 1, by = .1)) +\n",
    "    labs(title = \"Cumulative Gains Plot\",\n",
    "         y = \"Cumulative Gain\",\n",
    "         x = \"Percentile\")+\n",
    "    theme(text = element_text(size=20))\n",
    "  \n",
    "  for(i in seq(length(lift_df_list))){\n",
    "    name = names(lift_df_list)[[i]]\n",
    "    df = lift_df_list[[i]]\n",
    "    auc = auc_list[[i]]\n",
    "    gains_plot <- gains_plot + list(geom_line(data=df), \n",
    "                                    geom_point(data=df))+ \n",
    "      annotate(\"text\", x = .4, y = .9-i*.075, hjust = 0, label = auc_map[[i]], size = 5)\n",
    "  }\n",
    "  \n",
    "  \n",
    "  return(gains_plot)\n",
    "}\n"
   ]
  },
  {
   "cell_type": "code",
   "execution_count": null,
   "metadata": {},
   "outputs": [],
   "source": [
    "plot_multigains(            lift_df_list=lift_list,\n",
    "                             auc_list = auc_list,\n",
    "                             prop_positive = 0.1194494) "
   ]
  },
  {
   "cell_type": "code",
   "execution_count": null,
   "metadata": {},
   "outputs": [],
   "source": [
    "dim(expiry_test_predictions_assign)"
   ]
  },
  {
   "cell_type": "code",
   "execution_count": null,
   "metadata": {},
   "outputs": [],
   "source": [
    "lift_df"
   ]
  },
  {
   "cell_type": "code",
   "execution_count": null,
   "metadata": {},
   "outputs": [],
   "source": [
    "as.data.frame(auc_list)"
   ]
  },
  {
   "cell_type": "markdown",
   "metadata": {},
   "source": [
    "# Examining how variables of high importance differ between classes in training & test data"
   ]
  },
  {
   "cell_type": "code",
   "execution_count": null,
   "metadata": {},
   "outputs": [],
   "source": [
    "model <- ranger(formula         = auc_win_01 ~ ., \n",
    "                data            = subset(train, select = -c(l10_win_01) ), \n",
    "                importance = 'impurity', \n",
    "                num.trees       = 500,\n",
    "                probability = TRUE,\n",
    "                replace = FALSE,\n",
    "                sample.fraction = .8,\n",
    "                seed            = 123,\n",
    "                respect.unordered.factors=TRUE)\n",
    "var_imp <- as.data.frame(importance(model))\n",
    "names(var_imp) <- 'imp'\n",
    "var_imp$var <- row.names(var_imp)\n",
    "row.names(var_imp) <- NULL\n",
    "var_imp <- var_imp %>% arrange(desc(imp))\n",
    "head(var_imp,10)"
   ]
  },
  {
   "cell_type": "code",
   "execution_count": null,
   "metadata": {},
   "outputs": [],
   "source": [
    "train %>% \n",
    "  group_by(auc_win_01) %>%\n",
    "  summarize(mean_tld_rat = mean(tld_rat),\n",
    "           mean_sldlen_kurt = mean(sldlen_kurt),\n",
    "           mean_gibbs_kurt = mean(gibbs_kurt),\n",
    "           mean_sldlen_skew = mean(sldlen_skew),\n",
    "           mean_gibbs_rng = mean(gibbs_rng),\n",
    "           mean_ren_prp = mean(ren_prp),\n",
    "           mean_sldlen_rng = mean(sldlen_rng),\n",
    "           mean_pdcnt_skew = mean(pdcnt_skew),\n",
    "           mean_regarpt_skew = mean(regarpt_skew)\n",
    "           )\n",
    "\n",
    "train %>% \n",
    "  group_by(auc_win_01, country_maj) %>%\n",
    "  tally() %>%\n",
    "  arrange(auc_win_01, desc(n)) %>% spread(country_maj, n)  %>% t()"
   ]
  },
  {
   "cell_type": "code",
   "execution_count": null,
   "metadata": {},
   "outputs": [],
   "source": []
  }
 ],
 "metadata": {
  "environment": {
   "name": "r-cpu.3-6.m48",
   "type": "gcloud",
   "uri": "gcr.io/deeplearning-platform-release/r-cpu.3-6:m48"
  },
  "kernelspec": {
   "display_name": "R",
   "language": "R",
   "name": "ir"
  },
  "language_info": {
   "codemirror_mode": "r",
   "file_extension": ".r",
   "mimetype": "text/x-r-source",
   "name": "R",
   "pygments_lexer": "r",
   "version": "3.6.3"
  }
 },
 "nbformat": 4,
 "nbformat_minor": 4
}
