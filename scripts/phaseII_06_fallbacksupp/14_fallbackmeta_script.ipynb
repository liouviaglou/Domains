{
 "cells": [
  {
   "cell_type": "markdown",
   "metadata": {},
   "source": [
    "# Fallback Table Metalearning Scripting\n",
    "- Takes as input preds_df output from predictions_metalearning\n",
    "- Supplements with fallback\n",
    "- Computes overall model performance\n",
    "- Engineers features at tld-reseller level\n",
    "- Trains metalearning model(s) to assign model based on features\n",
    "- Assigns model based on previous"
   ]
  },
  {
   "cell_type": "code",
   "execution_count": 1,
   "metadata": {},
   "outputs": [],
   "source": [
    "options(repr.matrix.max.cols=50, repr.matrix.max.rows=100)"
   ]
  },
  {
   "cell_type": "code",
   "execution_count": 2,
   "metadata": {},
   "outputs": [],
   "source": [
    "# install.packages(\"pkgcond\")"
   ]
  },
  {
   "cell_type": "code",
   "execution_count": 3,
   "metadata": {},
   "outputs": [
    {
     "name": "stderr",
     "output_type": "stream",
     "text": [
      "\n",
      "Attaching package: ‘dplyr’\n",
      "\n",
      "\n",
      "The following objects are masked from ‘package:stats’:\n",
      "\n",
      "    filter, lag\n",
      "\n",
      "\n",
      "The following objects are masked from ‘package:base’:\n",
      "\n",
      "    intersect, setdiff, setequal, union\n",
      "\n",
      "\n",
      "\n",
      "Attaching package: ‘data.table’\n",
      "\n",
      "\n",
      "The following objects are masked from ‘package:dplyr’:\n",
      "\n",
      "    between, first, last\n",
      "\n",
      "\n",
      "Loading required package: grid\n",
      "\n",
      "Loading required package: libcoin\n",
      "\n",
      "Loading required package: mvtnorm\n",
      "\n",
      "Loading required package: lattice\n",
      "\n",
      "Loading required package: ggplot2\n",
      "\n",
      "randomForest 4.6-14\n",
      "\n",
      "Type rfNews() to see new features/changes/bug fixes.\n",
      "\n",
      "\n",
      "Attaching package: ‘randomForest’\n",
      "\n",
      "\n",
      "The following object is masked from ‘package:ggplot2’:\n",
      "\n",
      "    margin\n",
      "\n",
      "\n",
      "The following object is masked from ‘package:dplyr’:\n",
      "\n",
      "    combine\n",
      "\n",
      "\n",
      "\n",
      "Attaching package: ‘ranger’\n",
      "\n",
      "\n",
      "The following object is masked from ‘package:randomForest’:\n",
      "\n",
      "    importance\n",
      "\n",
      "\n",
      "\n",
      "Attaching package: ‘plotly’\n",
      "\n",
      "\n",
      "The following object is masked from ‘package:ggplot2’:\n",
      "\n",
      "    last_plot\n",
      "\n",
      "\n",
      "The following object is masked from ‘package:stats’:\n",
      "\n",
      "    filter\n",
      "\n",
      "\n",
      "The following object is masked from ‘package:graphics’:\n",
      "\n",
      "    layout\n",
      "\n",
      "\n"
     ]
    },
    {
     "data": {
      "text/html": [
       "'/home/jupyter/Domains_202003/scripts/phaseII_06_fallbacksupp'"
      ],
      "text/latex": [
       "'/home/jupyter/Domains\\_202003/scripts/phaseII\\_06\\_fallbacksupp'"
      ],
      "text/markdown": [
       "'/home/jupyter/Domains_202003/scripts/phaseII_06_fallbacksupp'"
      ],
      "text/plain": [
       "[1] \"/home/jupyter/Domains_202003/scripts/phaseII_06_fallbacksupp\""
      ]
     },
     "metadata": {},
     "output_type": "display_data"
    }
   ],
   "source": [
    "library(dplyr)\n",
    "library(data.table)\n",
    "library(partykit)\n",
    "library(tictoc)\n",
    "library(caret)\n",
    "library(e1071)\n",
    "library(randomForest)\n",
    "library(ranger)\n",
    "\n",
    "#for 3d plotting\n",
    "library(akima)\n",
    "library(plotly)\n",
    "\n",
    "# for prep data\n",
    "library(stringr)\n",
    "library(pbapply)\n",
    "library(stringdist)\n",
    "library(data.table)\n",
    "library(dominanceanalysis)\n",
    "\n",
    "\n",
    "getwd()"
   ]
  },
  {
   "cell_type": "code",
   "execution_count": 4,
   "metadata": {},
   "outputs": [
    {
     "name": "stderr",
     "output_type": "stream",
     "text": [
      "\n",
      "Attaching package: ‘tidyr’\n",
      "\n",
      "\n",
      "The following object is masked from ‘package:stringdist’:\n",
      "\n",
      "    extract\n",
      "\n",
      "\n"
     ]
    }
   ],
   "source": [
    "\n",
    "source('../orig/functions.R')\n",
    "\n",
    "source('../orig/functions_models.R')\n",
    "\n",
    "source('../phaseII_03_forest/functions_eval.R')\n"
   ]
  },
  {
   "cell_type": "code",
   "execution_count": 5,
   "metadata": {},
   "outputs": [],
   "source": [
    "source('functions_metalearning.R')"
   ]
  },
  {
   "cell_type": "code",
   "execution_count": 6,
   "metadata": {},
   "outputs": [],
   "source": [
    "source('functions_fallback.R')"
   ]
  },
  {
   "cell_type": "code",
   "execution_count": 7,
   "metadata": {},
   "outputs": [],
   "source": [
    "dataDir='/home/jupyter/Domains_202003/data/output/datapull_20201116'\n",
    "\n",
    "modelDir='/home/jupyter/Domains_202003/data/output/models_20201104'\n",
    "\n",
    "outputDir='/home/jupyter/Domains_202003/data/output/datapull_20201127'"
   ]
  },
  {
   "cell_type": "code",
   "execution_count": 8,
   "metadata": {},
   "outputs": [],
   "source": [
    "# data defined in this notebook\n",
    "metametrics_df <- read.csv(\"../../data/output/metametrics_df.csv\")\n",
    "new_metametrics_imp_pred_df <- read.csv( \"../../data/output/new_metametrics_imp_pred_df.csv\")\n",
    "geoLookupDF <- read.csv(\"/home/jupyter/Domains_202003/data/input/PredictiveModelAnalysis_ResellerGeoMap.csv\")"
   ]
  },
  {
   "cell_type": "code",
   "execution_count": 9,
   "metadata": {},
   "outputs": [
    {
     "name": "stdout",
     "output_type": "stream",
     "text": [
      "Expiry data originally has 476586 rows and 476586 missing geo's.\n",
      "... after intial merge on reseller & _country, expiry has 476586 rows and 476408 missing geo's.\n",
      "... after secondary fill with _country, expiry has 476586 rows and 496 missing geo's.\n",
      "... after manual tweaks with _country, expiry has 476586 rows and 71 missing geo's.\n"
     ]
    }
   ],
   "source": [
    "# new data pull\n",
    "expiry_new_df <- readRDS(file.path(outputDir,\"expiry_20200902_20201102_20201127\"))\n",
    "expiry_new_df <- expiry_new_df %>% filter(expiry_date < \"2020-10-08\")\n",
    "expiry_new_df <- expiry_new_df %>% filter(!is.na(gibb_score))\n",
    "expiry_new_df <- expiry_new_df %>% mutate (reg_arpt = ifelse(reg_arpt <= 0, 0.0001,reg_arpt),\n",
    "                                   log_reg_arpt = log(reg_arpt),\n",
    "                                   tld_registrar_index = tolower(paste(tld, reseller,sep=\"\")))\n",
    "expiry_new_df <- geo_suppl(expiry_new_df, geoLookupDF = geoLookupDF)"
   ]
  },
  {
   "cell_type": "markdown",
   "metadata": {},
   "source": [
    "# LOAD DATA"
   ]
  },
  {
   "cell_type": "code",
   "execution_count": 10,
   "metadata": {},
   "outputs": [],
   "source": [
    "\n",
    "# Load preds output from predictions_metalearning.R\n",
    "expiry_df_test_preds <- read.csv(\"../../data/output/datapull_20201116/expiry_df_test_preds.csv\")\n",
    "\n",
    "# Load training data used for predictions_metalearning.R to assign fallback values\n",
    "expiry_df_train <- read.csv(\"../../data/output/datapull_20201116/expiry_df_train.csv\")\n",
    "\n",
    "# Load geo_suppl for train and test-pred data\n",
    "geoLookupDF <- read.csv(\"/home/jupyter/Domains_202003/data/input/PredictiveModelAnalysis_ResellerGeoMap.csv\")\n"
   ]
  },
  {
   "cell_type": "code",
   "execution_count": 11,
   "metadata": {},
   "outputs": [
    {
     "name": "stdout",
     "output_type": "stream",
     "text": [
      "Expiry data originally has 3729384 rows and 3729384 missing geo's.\n",
      "... after intial merge on reseller & _country, expiry has 3729384 rows and 3726455 missing geo's.\n",
      "... after secondary fill with _country, expiry has 3729384 rows and 6983 missing geo's.\n",
      "... after manual tweaks with _country, expiry has 3729384 rows and 29 missing geo's.\n",
      "Expiry data originally has 932347 rows and 932347 missing geo's.\n",
      "... after intial merge on reseller & _country, expiry has 932347 rows and 931606 missing geo's.\n",
      "... after secondary fill with _country, expiry has 932347 rows and 1741 missing geo's.\n",
      "... after manual tweaks with _country, expiry has 932347 rows and 8 missing geo's.\n"
     ]
    }
   ],
   "source": [
    "# Supplement both train and test_preds with geo information\n",
    "expiry_df_train_g <- geo_suppl(expiry_df_train, geoLookupDF = geoLookupDF)\n",
    "expiry_df_test_preds_g <- geo_suppl(expiry_df_test_preds, geoLookupDF = geoLookupDF)"
   ]
  },
  {
   "cell_type": "markdown",
   "metadata": {},
   "source": [
    "# SUPPL FALLBACK"
   ]
  },
  {
   "cell_type": "code",
   "execution_count": null,
   "metadata": {},
   "outputs": [],
   "source": [
    "# generate list of fallback tables\n",
    "npv_fallback_list = fallback_gen( npv_historic_renewal_data = expiry_df_train_g, \n",
    "                                 reseller_am_geo_map = geoLookupDF)\n",
    "\n",
    "# return list members to in-memory objects of the same name\n",
    "names(npv_fallback_list)\n",
    "for(i in 1:length(npv_fallback_list)) assign(names(npv_fallback_list)[i], npv_fallback_list[[i]])"
   ]
  },
  {
   "cell_type": "code",
   "execution_count": null,
   "metadata": {},
   "outputs": [],
   "source": [
    "# generate list of low-volume tld-re's from training data\n",
    "tld_registrar_excl_list = tld_registrar_excl_df(expiry_df_train_g)\n",
    "\n",
    "# generate placeholder (*_fb) columns in preds df where predictions for low-volume tld-registrars get set to NA\n",
    "expiry_df_test_preds_g <- expiry_df_test_preds_g %>%\n",
    "     mutate( across(contains('pred_'), \n",
    "                    .fns = list(fb = ~ifelse(tld_registrar_index %in% tld_registrar_excl_list, NA, . )) ))"
   ]
  },
  {
   "cell_type": "code",
   "execution_count": null,
   "metadata": {},
   "outputs": [],
   "source": [
    "# apply fallback tables TST\n",
    "expiry_df_test_preds_g <- fallback_app_1(test_data_op=expiry_df_test_preds_g,\n",
    "               in_col='pred_seg2_rf_ALL_fb',\n",
    "               out_col='pred_seg2_rf_ALL_fb2')\n",
    "expiry_df_test_preds_g <- fallback_app_1(test_data_op=expiry_df_test_preds_g,\n",
    "               in_col='pred_seg2_glm_ALL_fb',\n",
    "               out_col='pred_seg2_glm_ALL_fb2')\n",
    "expiry_df_test_preds_g <- fallback_app_1(test_data_op=expiry_df_test_preds_g,\n",
    "               in_col='pred_seg_rf_ALL_fb',\n",
    "               out_col='pred_seg_rf_ALL_fb2')\n",
    "expiry_df_test_preds_g <- fallback_app_1(test_data_op=expiry_df_test_preds_g,\n",
    "               in_col='pred_seg_glm_ALL_fb',\n",
    "               out_col='pred_seg_glm_ALL_fb2')\n",
    "expiry_df_test_preds_g <- fallback_app_1(test_data_op=expiry_df_test_preds_g,\n",
    "               in_col='pred_agg_rf_fb',\n",
    "               out_col='pred_agg_rf_fb2')\n",
    "expiry_df_test_preds_g <- fallback_app_1(test_data_op=expiry_df_test_preds_g,\n",
    "               in_col='pred_agg_glm_fb',\n",
    "               out_col='pred_agg_glm_fb2')\n",
    "expiry_df_test_preds_g <- fallback_app_1(test_data_op=expiry_df_test_preds_g,\n",
    "               in_col='pred_agg_rf_ALL_fb',\n",
    "               out_col='pred_agg_rf_ALL_fb2')\n",
    "expiry_df_test_preds_g <- fallback_app_1(test_data_op=expiry_df_test_preds_g,\n",
    "               in_col='pred_agg_glm_ALL_fb',\n",
    "               out_col='pred_agg_glm_ALL_fb2')"
   ]
  },
  {
   "cell_type": "markdown",
   "metadata": {},
   "source": [
    "# GENERATE Tld-reseller level Performance Metrics from preds DF"
   ]
  },
  {
   "cell_type": "code",
   "execution_count": null,
   "metadata": {},
   "outputs": [],
   "source": [
    "metrics_df <- expiry_df_test_preds_g %>%\n",
    "  group_by(tld_registrar_index) %>%\n",
    "  do( l10_seg2_glm = l10_dplyr(., pred_var = \"pred_seg2_glm_ALL\"),\n",
    "      l10_seg_glm = l10_dplyr(., pred_var = \"pred_seg_glm_ALL\"),\n",
    "       l10_agg_glm_ALL = l10_dplyr(., pred_var = \"pred_agg_glm_ALL\"),\n",
    "       l10_agg_glm = l10_dplyr(., pred_var = \"pred_agg_glm\"),\n",
    "       l10_seg2_rf = l10_dplyr(., pred_var = \"pred_seg2_rf_ALL\"),\n",
    "       l10_seg_rf = l10_dplyr(., pred_var = \"pred_seg_rf_ALL\"),\n",
    "       l10_agg_rf = l10_dplyr(., pred_var = \"pred_agg_rf\"),\n",
    "       l10_agg_rf_ALL = l10_dplyr(., pred_var = \"pred_agg_rf_ALL\"),\n",
    "     \n",
    "      auc_seg2_glm = auc_dplyr(., pred_var = \"pred_seg2_glm_ALL\"),\n",
    "      auc_seg_glm = auc_dplyr(., pred_var = \"pred_seg_glm_ALL\"),\n",
    "       auc_agg_glm_ALL = auc_dplyr(., pred_var = \"pred_agg_glm_ALL\"),\n",
    "       auc_agg_glm = auc_dplyr(., pred_var = \"pred_agg_glm\"),\n",
    "       auc_seg2_rf = auc_dplyr(., pred_var = \"pred_seg2_rf_ALL\"),\n",
    "       auc_seg_rf = auc_dplyr(., pred_var = \"pred_seg_rf_ALL\"),\n",
    "       auc_agg_rf_ALL = auc_dplyr(., pred_var = \"pred_agg_rf_ALL\"),\n",
    "       auc_agg_rf = auc_dplyr(., pred_var = \"pred_agg_rf\"),\n",
    "      \n",
    "     l10_seg2_glm_fb = l10_dplyr(., pred_var = \"pred_seg2_glm_ALL_fb2\"),\n",
    "      l10_seg_glm_fb = l10_dplyr(., pred_var = \"pred_seg_glm_ALL_fb2\"),\n",
    "       l10_agg_glm_fb = l10_dplyr(., pred_var = \"pred_agg_glm_fb2\"),\n",
    "       l10_agg_glm_ALL_fb = l10_dplyr(., pred_var = \"pred_agg_glm_ALL_fb2\"),\n",
    "       l10_seg2_rf_fb = l10_dplyr(., pred_var = \"pred_seg2_rf_ALL_fb2\"),\n",
    "       l10_seg_rf_fb = l10_dplyr(., pred_var = \"pred_seg_rf_ALL_fb2\"),\n",
    "       l10_agg_rf_fb = l10_dplyr(., pred_var = \"pred_agg_rf_fb2\"),\n",
    "       l10_agg_rf_ALL_fb = l10_dplyr(., pred_var = \"pred_agg_rf_ALL_fb2\"),\n",
    "     \n",
    "      auc_seg2_glm_fb = auc_dplyr(., pred_var = \"pred_seg2_glm_ALL_fb2\"),\n",
    "      auc_seg_glm_fb = auc_dplyr(., pred_var = \"pred_seg_glm_ALL_fb2\"),\n",
    "       auc_agg_glm_fb = auc_dplyr(., pred_var = \"pred_agg_glm_fb2\"),\n",
    "       auc_agg_glm_ALL_fb = auc_dplyr(., pred_var = \"pred_agg_glm_ALL_fb2\"),\n",
    "       auc_seg2_rf_fb = auc_dplyr(., pred_var = \"pred_seg2_rf_ALL_fb2\"),\n",
    "       auc_seg_rf_fb = auc_dplyr(., pred_var = \"pred_seg_rf_ALL_fb2\"),\n",
    "       auc_agg_rf_fb = auc_dplyr(., pred_var = \"pred_agg_rf_fb2\"),\n",
    "       auc_agg_rf_ALL_fb = auc_dplyr(., pred_var = \"pred_agg_rf_ALL_fb2\"),\n",
    "      )\n"
   ]
  },
  {
   "cell_type": "code",
   "execution_count": null,
   "metadata": {},
   "outputs": [],
   "source": [
    "head(metrics_df)"
   ]
  },
  {
   "cell_type": "markdown",
   "metadata": {},
   "source": [
    "# FEATURE ENGINEERING at tld-reseller level "
   ]
  },
  {
   "cell_type": "code",
   "execution_count": null,
   "metadata": {},
   "outputs": [],
   "source": [
    "meta_df = expiry_df_test_preds_g %>%\n",
    "  add_count(tld_registrar_index, reseller_geo) %>%\n",
    "  group_by(tld_registrar_index) %>%\n",
    "  summarise(\n",
    "            geo_maj = reseller_geo[n == max(n)][1],\n",
    "            geo_cnt = n_distinct(reseller_geo),\n",
    "            n = n(),\n",
    "            ren_prp = sum(renewal_status=='Renewed')/sum(n),\n",
    "            tld_cnt = n_distinct(tld), tld_rat = tld_cnt/n,\n",
    "              \n",
    "            daydom_min = min(day_domains), \n",
    "            daydom_max = max(day_domains), \n",
    "            daydom_mean = mean(day_domains, na.rm = TRUE), \n",
    "            daydom_rng = daydom_max - daydom_min, \n",
    "            daydom_std = sd(day_domains, na.rm = TRUE), \n",
    "            daydom_skew = skewness(day_domains, na.rm = TRUE), \n",
    "            daydom_kurt = kurtosis(day_domains, na.rm = TRUE),\n",
    "\n",
    "            sldlen_min = min(sld_length), \n",
    "            sldlen_max = max(sld_length), \n",
    "            sldlen_mean = mean(sld_length, na.rm = TRUE), \n",
    "            sldlen_rng = sldlen_max - sldlen_min, \n",
    "            sldlen_std = sd(sld_length, na.rm = TRUE), \n",
    "            sldlen_skew = skewness(sld_length, na.rm = TRUE), \n",
    "            sldlen_kurt = kurtosis(sld_length, na.rm = TRUE),\n",
    "  \n",
    "            gibbs_min = min(gibb_score), \n",
    "            gibbs_max = max(gibb_score), \n",
    "            gibbs_mean = mean(gibb_score, na.rm = TRUE), \n",
    "            gibbs_rng = gibbs_max - gibbs_min, \n",
    "            gibbs_std = sd(gibb_score, na.rm = TRUE), \n",
    "            gibbs_skew = skewness(gibb_score, na.rm = TRUE), \n",
    "            gibbs_kurt = kurtosis(gibb_score, na.rm = TRUE),\n",
    "  \n",
    "            pdcnt_min = min(pattern_domain_count), \n",
    "            pdcnt_max = max(pattern_domain_count), \n",
    "            pdcnt_mean = mean(pattern_domain_count, na.rm = TRUE), \n",
    "            pdcnt_rng = pdcnt_max - pdcnt_min, \n",
    "            pdcnt_std = sd(pattern_domain_count, na.rm = TRUE), \n",
    "            pdcnt_skew = skewness(pattern_domain_count, na.rm = TRUE), \n",
    "            pdcnt_kurt = kurtosis(pattern_domain_count, na.rm = TRUE),\n",
    "  \n",
    "            regarpt_min = min(reg_arpt), \n",
    "            regarpt_max = max(reg_arpt), \n",
    "            regarpt_mean = mean(reg_arpt, na.rm = TRUE), \n",
    "            regarpt_rng = regarpt_max - regarpt_min, \n",
    "            regarpt_std = sd(reg_arpt, na.rm = TRUE), \n",
    "            regarpt_skew = skewness(reg_arpt, na.rm = TRUE), \n",
    "            regarpt_kurt = kurtosis(reg_arpt, na.rm = TRUE))\n",
    "\n",
    "# add a handful more vars \n",
    "country_maj = expiry_df_test_preds_g %>%\n",
    "  add_count(tld_registrar_index, reseller_country) %>%\n",
    "  group_by(tld_registrar_index) %>%\n",
    "  mutate(reseller_country_maj = reseller_country[n == max(n)][1]) %>%\n",
    "  select(-n) %>% \n",
    "  group_by(tld_registrar_index,reseller_country_maj) %>%\n",
    "    summarise(n = n()) %>% \n",
    "    arrange(desc(n)) %>%\n",
    "    pull(reseller_country_maj)\n",
    "\n",
    "country_cnt = expiry_df_test_preds_g %>%\n",
    "  add_count(tld_registrar_index, reseller_country) %>%\n",
    "  group_by(tld_registrar_index) %>%\n",
    "  summarise(reseller_country_cnt = n_distinct(reseller_country)) %>%\n",
    "  pull(reseller_country_cnt)  \n",
    "\n",
    "region_maj = expiry_df_test_preds_g %>%\n",
    "  add_count(tld_registrar_index, region) %>%\n",
    "  group_by(tld_registrar_index) %>%\n",
    "  mutate(region_maj = region[n == max(n)][1]) %>%\n",
    "  select(-n) %>% \n",
    "  group_by(tld_registrar_index,region_maj) %>%\n",
    "    summarise(n = n()) %>% \n",
    "    arrange(desc(n)) %>%\n",
    "    pull(region_maj)\n",
    "\n",
    "region_cnt = expiry_df_test_preds_g %>%\n",
    "  add_count(tld_registrar_index, region) %>%\n",
    "  group_by(tld_registrar_index) %>%\n",
    "  summarise(reseller_region_cnt = n_distinct(reseller_country)) %>%\n",
    "  pull(reseller_region_cnt)  \n",
    "\n",
    "meta_df = meta_df %>% \n",
    "    mutate(country_maj = country_maj,\n",
    "            region_maj = region_maj,\n",
    "            country_cnt = country_cnt,\n",
    "            region_cnt = region_cnt,\n",
    "            )"
   ]
  },
  {
   "cell_type": "markdown",
   "metadata": {},
   "source": [
    "# JOIN preds metrics with pred meta"
   ]
  },
  {
   "cell_type": "code",
   "execution_count": null,
   "metadata": {},
   "outputs": [],
   "source": [
    "metametrics_df <- merge(meta_df, metrics_df, on = 'tld_registrar_index', all = TRUE)"
   ]
  },
  {
   "cell_type": "code",
   "execution_count": null,
   "metadata": {},
   "outputs": [],
   "source": [
    "dim(metametrics_df)"
   ]
  },
  {
   "cell_type": "markdown",
   "metadata": {},
   "source": [
    "\n",
    "# ADD win flags for seg2_glm vs. seg2_gm_fb vs. agg_rf_ALL\n"
   ]
  },
  {
   "cell_type": "code",
   "execution_count": null,
   "metadata": {},
   "outputs": [],
   "source": [
    "(auc_vars = c('auc_seg2_glm','auc_agg_rf_ALL','auc_seg2_glm_fb'))\n",
    "(l10_vars = c('l10_seg2_glm','l10_agg_rf_ALL','l10_seg2_glm_fb'))\n",
    "\n",
    "metametrics_df <- metametrics_df %>%\n",
    "    mutate (auc_win_04=sapply(apply(.[,c(auc_vars)], \n",
    "                          1, function(x) names(x)[which.max(x)]) , function(s) if (length(s) == 0) NA else paste(s, collapse = \" \")) ,\n",
    "            l10_win_04=sapply(apply(.[,c(l10_vars)], \n",
    "                          1, function(x) names(x)[which.max(x)]), function(s) if (length(s) == 0) NA else paste(s, collapse = \" \")) \n",
    "            ) "
   ]
  },
  {
   "cell_type": "code",
   "execution_count": null,
   "metadata": {},
   "outputs": [],
   "source": [
    "metametrics_df <- metametrics_df %>% mutate_if(is.list,as.numeric) \n",
    "dim(metametrics_df)"
   ]
  },
  {
   "cell_type": "code",
   "execution_count": null,
   "metadata": {},
   "outputs": [],
   "source": [
    "write.csv(metametrics_df, \"../../data/output/metametrics_df.csv\", row.names=FALSE)"
   ]
  },
  {
   "cell_type": "code",
   "execution_count": null,
   "metadata": {},
   "outputs": [],
   "source": [
    "metametrics_df <- read.csv(\"../../data/output/metametrics_df.csv\")"
   ]
  },
  {
   "cell_type": "markdown",
   "metadata": {},
   "source": [
    "# IMPUTE missing values"
   ]
  },
  {
   "cell_type": "code",
   "execution_count": null,
   "metadata": {},
   "outputs": [],
   "source": [
    "# remove observations with missing wins -- we don't want to impute these dependent variables \n",
    "metametrics_df <- metametrics_df %>% filter(!is.na(auc_win_04))"
   ]
  },
  {
   "cell_type": "code",
   "execution_count": null,
   "metadata": {},
   "outputs": [],
   "source": [
    "# install.packages(\"missRanger\")\n",
    "library(missRanger)"
   ]
  },
  {
   "cell_type": "code",
   "execution_count": null,
   "metadata": {},
   "outputs": [],
   "source": [
    "metametrics_imp_df <- missRanger(metametrics_df, num.trees = 100)"
   ]
  },
  {
   "cell_type": "markdown",
   "metadata": {},
   "source": [
    "# Train Models "
   ]
  },
  {
   "cell_type": "code",
   "execution_count": null,
   "metadata": {},
   "outputs": [],
   "source": [
    "# l10\n",
    "\n",
    "#Compute weights to balance the RF\n",
    "Y = metametrics_imp_df$l10_win_04\n",
    "w <- 1/table(Y)\n",
    "w <- w/sum(w)\n",
    "\n",
    "weights <- rep(0, length(Y))\n",
    "\n",
    "for (model in unique(Y)){\n",
    "    weights[Y==model] <- w[model]\n",
    "}\n",
    "\n",
    "\n",
    "model_l10 <- ranger(formula         = l10_win_04 ~ ., \n",
    "                data            = metametrics_imp_df %>% \n",
    "                                    select('l10_win_04') %>% \n",
    "                                    bind_cols(\n",
    "                                        metametrics_imp_df %>% \n",
    "                                        select(-contains('auc'),-contains('l10'),-'tld_registrar_index', -'tld_rat')), \n",
    "                importance = 'impurity', \n",
    "                num.trees       = 500,\n",
    "                probability = TRUE,\n",
    "                replace = FALSE,\n",
    "                sample.fraction = .8,\n",
    "                seed            = 123,\n",
    "                respect.unordered.factors=TRUE,\n",
    "               case.weights=weights)\n",
    "                           \n",
    "# auc\n",
    "                                        \n",
    "#Compute weights to balance the RF\n",
    "Y = metametrics_imp_df$auc_win_04\n",
    "w <- 1/table(Y)\n",
    "w <- w/sum(w)\n",
    "\n",
    "weights <- rep(0, length(Y))\n",
    "\n",
    "for (model in unique(Y)){\n",
    "    weights[Y==model] <- w[model]\n",
    "}\n",
    "\n",
    "                                               \n",
    "model_auc <- ranger(formula         = auc_win_04 ~ ., \n",
    "                data            = metametrics_imp_df %>% \n",
    "                                    select('auc_win_04') %>% \n",
    "                                    bind_cols(\n",
    "                                        metametrics_imp_df %>% \n",
    "                                        select(-contains('auc'),-contains('l10'),-'tld_registrar_index', -'tld_rat')), \n",
    "                importance = 'impurity', \n",
    "                num.trees       = 500,\n",
    "                probability = TRUE,\n",
    "                replace = FALSE,\n",
    "                sample.fraction = .8,\n",
    "                seed            = 123,\n",
    "                respect.unordered.factors=TRUE,\n",
    "               case.weights=weights)\n",
    "                              "
   ]
  },
  {
   "cell_type": "code",
   "execution_count": null,
   "metadata": {},
   "outputs": [],
   "source": []
  },
  {
   "cell_type": "markdown",
   "metadata": {},
   "source": [
    "# Load new data pull, create meta-features"
   ]
  },
  {
   "cell_type": "code",
   "execution_count": null,
   "metadata": {},
   "outputs": [],
   "source": [
    "expiry_new_df <- readRDS(\"/home/jupyter/Domains_202003/data/output/datapull_20201127/expiry_20200902_20201102_20201127\")"
   ]
  },
  {
   "cell_type": "code",
   "execution_count": null,
   "metadata": {},
   "outputs": [],
   "source": [
    "# strip out data that is within 50 days of data pull -- incomplete\n",
    "# from Parag: \"... are stil in agp so we don’t know their final renewal status \n",
    "#             So you cannot use those domains to check the actual renewal status\"\n",
    "expiry_new_df <- expiry_new_df %>% filter(expiry_date < \"2020-10-08\")\n",
    "\n",
    "#remove missing gibb_score, etc.\n",
    "expiry_new_df <- expiry_new_df %>% filter(!is.na(gibb_score))\n",
    "\n",
    "# add necessary columns\n",
    "expiry_new_df <- expiry_new_df %>% mutate (reg_arpt = ifelse(reg_arpt <= 0, 0.0001,reg_arpt),\n",
    "                                   log_reg_arpt = log(reg_arpt),\n",
    "                                   tld_registrar_index = tolower(paste(tld, reseller,sep=\"\")))\n",
    "expiry_new_df <- geo_suppl(expiry_new_df, geoLookupDF = geoLookupDF)"
   ]
  },
  {
   "cell_type": "code",
   "execution_count": null,
   "metadata": {},
   "outputs": [],
   "source": [
    "# engineer metadata\n",
    "new_meta_df = expiry_new_df %>%\n",
    "  add_count(tld_registrar_index, reseller_geo) %>%\n",
    "  group_by(tld_registrar_index) %>%\n",
    "  summarise(\n",
    "            geo_maj = reseller_geo[n == max(n)][1],\n",
    "            geo_cnt = n_distinct(reseller_geo),\n",
    "            n = n(),\n",
    "            ren_prp = sum(renewal_status=='Renewed')/sum(n),\n",
    "            tld_cnt = n_distinct(tld), tld_rat = tld_cnt/n,\n",
    "              \n",
    "            daydom_min = min(day_domains), \n",
    "            daydom_max = max(day_domains), \n",
    "            daydom_mean = mean(day_domains, na.rm = TRUE), \n",
    "            daydom_rng = daydom_max - daydom_min, \n",
    "            daydom_std = sd(day_domains, na.rm = TRUE), \n",
    "            daydom_skew = skewness(day_domains, na.rm = TRUE), \n",
    "            daydom_kurt = kurtosis(day_domains, na.rm = TRUE),\n",
    "\n",
    "            sldlen_min = min(sld_length), \n",
    "            sldlen_max = max(sld_length), \n",
    "            sldlen_mean = mean(sld_length, na.rm = TRUE), \n",
    "            sldlen_rng = sldlen_max - sldlen_min, \n",
    "            sldlen_std = sd(sld_length, na.rm = TRUE), \n",
    "            sldlen_skew = skewness(sld_length, na.rm = TRUE), \n",
    "            sldlen_kurt = kurtosis(sld_length, na.rm = TRUE),\n",
    "  \n",
    "            gibbs_min = min(gibb_score), \n",
    "            gibbs_max = max(gibb_score), \n",
    "            gibbs_mean = mean(gibb_score, na.rm = TRUE), \n",
    "            gibbs_rng = gibbs_max - gibbs_min, \n",
    "            gibbs_std = sd(gibb_score, na.rm = TRUE), \n",
    "            gibbs_skew = skewness(gibb_score, na.rm = TRUE), \n",
    "            gibbs_kurt = kurtosis(gibb_score, na.rm = TRUE),\n",
    "  \n",
    "            pdcnt_min = min(pattern_domain_count), \n",
    "            pdcnt_max = max(pattern_domain_count), \n",
    "            pdcnt_mean = mean(pattern_domain_count, na.rm = TRUE), \n",
    "            pdcnt_rng = pdcnt_max - pdcnt_min, \n",
    "            pdcnt_std = sd(pattern_domain_count, na.rm = TRUE), \n",
    "            pdcnt_skew = skewness(pattern_domain_count, na.rm = TRUE), \n",
    "            pdcnt_kurt = kurtosis(pattern_domain_count, na.rm = TRUE),\n",
    "  \n",
    "            regarpt_min = min(reg_arpt), \n",
    "            regarpt_max = max(reg_arpt), \n",
    "            regarpt_mean = mean(reg_arpt, na.rm = TRUE), \n",
    "            regarpt_rng = regarpt_max - regarpt_min, \n",
    "            regarpt_std = sd(reg_arpt, na.rm = TRUE), \n",
    "            regarpt_skew = skewness(reg_arpt, na.rm = TRUE), \n",
    "            regarpt_kurt = kurtosis(reg_arpt, na.rm = TRUE))\n",
    "\n",
    "# add a handful more vars \n",
    "country_maj = expiry_new_df %>%\n",
    "  add_count(tld_registrar_index, reseller_country) %>%\n",
    "  group_by(tld_registrar_index) %>%\n",
    "  mutate(reseller_country_maj = reseller_country[n == max(n)][1]) %>%\n",
    "  select(-n) %>% \n",
    "  group_by(tld_registrar_index,reseller_country_maj) %>%\n",
    "    summarise(n = n()) %>% \n",
    "    arrange(desc(n)) %>%\n",
    "    pull(reseller_country_maj)\n",
    "\n",
    "country_cnt = expiry_new_df %>%\n",
    "  add_count(tld_registrar_index, reseller_country) %>%\n",
    "  group_by(tld_registrar_index) %>%\n",
    "  summarise(reseller_country_cnt = n_distinct(reseller_country)) %>%\n",
    "  pull(reseller_country_cnt)  \n",
    "\n",
    "region_maj = expiry_new_df %>%\n",
    "  add_count(tld_registrar_index, region) %>%\n",
    "  group_by(tld_registrar_index) %>%\n",
    "  mutate(region_maj = region[n == max(n)][1]) %>%\n",
    "  select(-n) %>% \n",
    "  group_by(tld_registrar_index,region_maj) %>%\n",
    "    summarise(n = n()) %>% \n",
    "    arrange(desc(n)) %>%\n",
    "    pull(region_maj)\n",
    "\n",
    "region_cnt = expiry_new_df %>%\n",
    "  add_count(tld_registrar_index, region) %>%\n",
    "  group_by(tld_registrar_index) %>%\n",
    "  summarise(reseller_region_cnt = n_distinct(reseller_country)) %>%\n",
    "  pull(reseller_region_cnt)  \n",
    "\n",
    "new_meta_df = new_meta_df %>% \n",
    "    mutate(country_maj = country_maj,\n",
    "            region_maj = region_maj,\n",
    "            country_cnt = country_cnt,\n",
    "            region_cnt = region_cnt,\n",
    "            )"
   ]
  },
  {
   "cell_type": "code",
   "execution_count": null,
   "metadata": {},
   "outputs": [],
   "source": [
    "new_meta_df %>%\n",
    "  select(everything()) %>%  \n",
    "  summarise_all(funs(round(sum(is.na(.))/nrow(expiry_new_df),3))) %>% t() "
   ]
  },
  {
   "cell_type": "code",
   "execution_count": null,
   "metadata": {},
   "outputs": [],
   "source": [
    "new_meta_imp_df <- missRanger(new_meta_df, num.trees = 100)"
   ]
  },
  {
   "cell_type": "markdown",
   "metadata": {},
   "source": [
    "# Predict modeltype for new_meta_df"
   ]
  },
  {
   "cell_type": "code",
   "execution_count": null,
   "metadata": {},
   "outputs": [],
   "source": [
    "# l10\n",
    "\n",
    "new_pred_l10 <- as.data.frame(predict(model_l10, \n",
    "                data = new_meta_imp_df,\n",
    "                type=\"response\")$predictions) %>%\n",
    "    mutate (l10_win_04_pred_model=sapply(apply(., \n",
    "                          1, function(x) names(x)[which.max(x)]) , \n",
    "                                    function(s) if (length(s) == 0) NA else paste(s, collapse = \" \")) \n",
    "            ) \n",
    "                                        \n",
    "# auc\n",
    "\n",
    "\n",
    "new_pred_auc <- as.data.frame(predict(model_auc, \n",
    "                data = new_meta_imp_df,\n",
    "                type=\"response\")$predictions) %>%\n",
    "                                               \n",
    "    mutate (auc_win_04_pred_model=sapply(apply(., \n",
    "                          1, function(x) names(x)[which.max(x)]) , \n",
    "                                    function(s) if (length(s) == 0) NA else paste(s, collapse = \" \")) \n",
    "            ) \n",
    "\n",
    "    "
   ]
  },
  {
   "cell_type": "code",
   "execution_count": null,
   "metadata": {},
   "outputs": [],
   "source": [
    "new_metametrics_imp_pred_df <- cbind(new_meta_df,new_pred_l10$l10_win_04_pred_model,new_pred_auc$auc_win_04_pred_model)\n",
    "new_metametrics_imp_pred_df <- new_metametrics_imp_pred_df %>% rename(l10_win_04_pred_model = length(new_metametrics_imp_pred_df)-1,\n",
    "                                                                     auc_win_04_pred_model = length(new_metametrics_imp_pred_df))"
   ]
  },
  {
   "cell_type": "code",
   "execution_count": null,
   "metadata": {},
   "outputs": [],
   "source": [
    "new_metametrics_imp_pred_df <- new_metametrics_imp_pred_df %>% \n",
    "   mutate_at(vars(l10_win_04_pred_model), list(~(gsub(\"l10_\", \"\", .)))) %>% \n",
    "   mutate_at(vars(auc_win_04_pred_model), list(~(gsub(\"auc_\", \"\", .))))"
   ]
  },
  {
   "cell_type": "code",
   "execution_count": null,
   "metadata": {},
   "outputs": [],
   "source": [
    "dim(new_metametrics_imp_pred_df)\n",
    "head(new_metametrics_imp_pred_df)"
   ]
  },
  {
   "cell_type": "code",
   "execution_count": null,
   "metadata": {},
   "outputs": [],
   "source": [
    "table(new_metametrics_imp_pred_df$l10_win_04_pred_model)\n",
    "table(new_metametrics_imp_pred_df$auc_win_04_pred_model)"
   ]
  },
  {
   "cell_type": "code",
   "execution_count": null,
   "metadata": {},
   "outputs": [],
   "source": [
    "# write.csv(new_metametrics_imp_pred_df, \"../../data/output/new_metametrics_imp_pred_df.csv\", row.names=FALSE)\n",
    "\n",
    "new_metametrics_imp_pred_df <- read.csv( \"../../data/output/new_metametrics_imp_pred_df.csv\")"
   ]
  },
  {
   "cell_type": "markdown",
   "metadata": {},
   "source": [
    "# Compute predictions based on assignment"
   ]
  },
  {
   "cell_type": "code",
   "execution_count": null,
   "metadata": {},
   "outputs": [],
   "source": [
    "tld_re_model_lookup <- new_metametrics_imp_pred_df %>% \n",
    "   select(tld_registrar_index, l10_win_04_pred_model, auc_win_04_pred_model) %>%\n",
    "   melt(id.vars = c(\"tld_registrar_index\"), variable.name = \"model\") %>%\n",
    "   select (tld_registrar_index, value) %>% distinct() "
   ]
  },
  {
   "cell_type": "code",
   "execution_count": null,
   "metadata": {},
   "outputs": [],
   "source": [
    "dim(tld_re_model_lookup)\n",
    "head(tld_re_model_lookup)"
   ]
  },
  {
   "cell_type": "code",
   "execution_count": null,
   "metadata": {},
   "outputs": [],
   "source": [
    "head(expiry_new_df)"
   ]
  },
  {
   "cell_type": "code",
   "execution_count": null,
   "metadata": {},
   "outputs": [],
   "source": [
    "test_list = split(expiry_new_df, expiry_new_df$tld_registrar_index)\n",
    "length(test_list)\n",
    "test_list[[1]] %>% head()"
   ]
  },
  {
   "cell_type": "code",
   "execution_count": null,
   "metadata": {},
   "outputs": [],
   "source": []
  },
  {
   "cell_type": "code",
   "execution_count": null,
   "metadata": {},
   "outputs": [],
   "source": [
    "tld_re_model_lookup_sub <- tld_re_model_lookup %>% sample_n(size=20)\n",
    "tld_re_list <- tld_re_model_lookup_sub %>% pull(tld_registrar_index)\n",
    "expiry_new_df_sub <- expiry_new_df %>% filter(tld_registrar_index %in% tld_re_list )\n",
    "test_list = split(expiry_new_df_sub , expiry_new_df_sub$tld_registrar_index)\n",
    "tld_re_model_lookup_sub$tld_registrar_index <- as.character(tld_re_model_lookup_sub$tld_registrar_index)\n",
    "\n",
    "for (model in unique(tld_re_model_lookup_sub$value)){\n",
    "    tld_registrar_list <- tld_re_model_lookup_sub %>% filter(value==model) %>% pull(tld_registrar_index)\n",
    "    \n",
    "    if (model == 'agg_rf_ALL'){\n",
    "        cat(\"\\n\\nPredicting model_agg_rf_ALL for\",length(tld_registrar_list),\"tld-re's \\n\")\n",
    "        load(file.path(modelDir, 'model_agg_rf_ALL.Rdata'))\n",
    "        preds_agg_rf_ALL = lapply(tld_registrar_list, \n",
    "               function(tld_reseller_str) pred_agg_rf(model_agg_rf_ALL, \n",
    "                                                      test_list, \n",
    "                                                      tld_reseller_str)\n",
    "               )\n",
    "        rm(model_agg_rf_ALL)\n",
    "        gc() \n",
    "\n",
    "        save(preds_agg_rf_ALL, file=file.path(outputDir, 'meta_preds', 'preds_agg_rf_ALL.RData'))\n",
    "        preds_agg_rf_ALL_df <- cbind(rbindlist(test_list[tld_registrar_list], use.names=TRUE), \n",
    "                                     rbindlist(preds_agg_rf_ALL, use.names=TRUE))\n",
    "        preds_agg_rf_ALL_df$model <- 'preds_agg_rf_ALL'\n",
    "        \n",
    "        \n",
    "    }\n",
    "    \n",
    "    if (model == 'seg2_glm'){\n",
    "        cat(\"\\n\\nPredicting model_seg2_glm_ALL for\",length(tld_registrar_list),\"tld-re's\\n\")\n",
    "        lapply(Sys.glob(file.path(modelDir,'model_seg2_glm_*')),load,.GlobalEnv)\n",
    "        preds_seg2_glm_ALL = lapply(tld_registrar_list, \n",
    "               function(tld_reseller_str) pred_seg2_glm(\n",
    "                   test_list, \n",
    "                   tld_reseller_str)\n",
    "               )\n",
    "        rm(list=ls(pattern='^model_seg2_glm_'))    \n",
    "        save(preds_seg2_glm_ALL, file=file.path(outputDir, 'meta_preds', 'preds_seg2_glm_ALL.RData'))          \n",
    "        preds_seg2_glm_ALL_df <- cbind(rbindlist(test_list[tld_registrar_list], use.names=TRUE), \n",
    "                                     rbindlist(preds_seg2_glm_ALL, use.names=TRUE))\n",
    "        preds_seg2_glm_ALL_df$model <- 'preds_seg2_glm_ALL'\n",
    "    }\n",
    "    \n",
    "    if (model == 'seg2_glm_fb'){\n",
    "        cat(\"\\n\\nPredicting model_seg2_glm_fb for\",length(tld_registrar_list),\"tld-re's\\n\")\n",
    "        # generate list of fallback tables\n",
    "        npv_fallback_list = fallback_gen( npv_historic_renewal_data = expiry_df_train_g, \n",
    "                                     reseller_am_geo_map = geoLookupDF)\n",
    "\n",
    "        # return list members to in-memory objects of the same name\n",
    "        for(i in 1:length(npv_fallback_list)) assign(names(npv_fallback_list)[i], npv_fallback_list[[i]])\n",
    "\n",
    "\n",
    "        # generate placeholder (*_fb) columns in preds df where predictions for low-volume tld-registrars get set to NA       \n",
    "        tld_registrar_excl_list = tld_registrar_list\n",
    "        expiry_df_test_preds_g <- expiry_df_test_preds_g %>%\n",
    "             mutate( pred_seg2_glm_fb = NA)\n",
    "\n",
    "        # apply fallback tables (creating cols *_fb2)\n",
    "        expiry_df_test_preds_g <- fallback_app_1(test_data_op=expiry_df_test_preds_g,\n",
    "                       in_col='pred_seg2_glm_fb',\n",
    "                       out_col='pred_seg2_glm_fb2')\n",
    "\n",
    "        preds_seg2_glm_fb <- expiry_df_test_preds_g %>% \n",
    "            filter(tld_registrar_index %in% tld_registrar_excl_list) %>% \n",
    "            select(renewal_status,pred_seg2_glm_fb2) \n",
    "        names(preds_seg2_glm_fb) = c('actual','predicted')\n",
    "\n",
    "\n",
    "        save(preds_seg2_glm_fb, file=file.path(outputDir, 'meta_preds', 'preds_seg2_glm_fb.RData'))         \n",
    "        preds_seg2_glm_fb_df <- cbind(rbindlist(test_list[tld_registrar_list], use.names=TRUE), \n",
    "                                      preds_seg2_glm_fb)\n",
    "        \n",
    "        preds_seg2_glm_fb_df$model <- 'preds_seg2_glm_fb'\n",
    "    }\n",
    "    }\n",
    "\n",
    "preds_meta <- rbind(preds_agg_rf_ALL_df, preds_seg2_glm_ALL_df, preds_seg2_glm_fb_df)"
   ]
  },
  {
   "cell_type": "code",
   "execution_count": null,
   "metadata": {},
   "outputs": [],
   "source": []
  },
  {
   "cell_type": "code",
   "execution_count": null,
   "metadata": {},
   "outputs": [],
   "source": [
    "preds_meta"
   ]
  },
  {
   "cell_type": "code",
   "execution_count": null,
   "metadata": {},
   "outputs": [],
   "source": [
    "tld_registrar_list\n",
    "tld_registrar_excl_list"
   ]
  },
  {
   "cell_type": "code",
   "execution_count": null,
   "metadata": {},
   "outputs": [],
   "source": [
    "dim(preds_seg2_glm_fb)"
   ]
  },
  {
   "cell_type": "code",
   "execution_count": null,
   "metadata": {},
   "outputs": [],
   "source": [
    "cbind(rbindlist(test_list[tld_registrar_list], use.names=TRUE), \n",
    "                                      preds_seg2_glm_fb)"
   ]
  },
  {
   "cell_type": "code",
   "execution_count": null,
   "metadata": {},
   "outputs": [],
   "source": [
    "preds_meta"
   ]
  },
  {
   "cell_type": "code",
   "execution_count": null,
   "metadata": {},
   "outputs": [],
   "source": [
    "pred_seg2_glm(\n",
    "                   test_list, \n",
    "                   tld_reseller_str)\n",
    "               "
   ]
  },
  {
   "cell_type": "code",
   "execution_count": null,
   "metadata": {},
   "outputs": [],
   "source": [
    "preds_seg2_glm_ALL[[2]]"
   ]
  },
  {
   "cell_type": "code",
   "execution_count": null,
   "metadata": {},
   "outputs": [],
   "source": []
  },
  {
   "cell_type": "code",
   "execution_count": null,
   "metadata": {},
   "outputs": [],
   "source": []
  },
  {
   "cell_type": "code",
   "execution_count": null,
   "metadata": {},
   "outputs": [],
   "source": []
  },
  {
   "cell_type": "code",
   "execution_count": null,
   "metadata": {},
   "outputs": [],
   "source": []
  },
  {
   "cell_type": "code",
   "execution_count": null,
   "metadata": {},
   "outputs": [],
   "source": [
    "tld_registrar_list[[6]]"
   ]
  },
  {
   "cell_type": "code",
   "execution_count": null,
   "metadata": {},
   "outputs": [],
   "source": [
    "test_list[tld_registrar_list[[6]]]"
   ]
  },
  {
   "cell_type": "code",
   "execution_count": null,
   "metadata": {},
   "outputs": [],
   "source": [
    "test_list %>% filter(tld_registrar_index == 'spacecloudflare, inc.')"
   ]
  },
  {
   "cell_type": "code",
   "execution_count": null,
   "metadata": {},
   "outputs": [],
   "source": [
    "preds_seg2_glm_ALL[[6]]"
   ]
  },
  {
   "cell_type": "code",
   "execution_count": null,
   "metadata": {},
   "outputs": [],
   "source": [
    "# lapply(Sys.glob(file.path(modelDir,'model_seg2_glm_*')),load,.GlobalEnv)"
   ]
  },
  {
   "cell_type": "code",
   "execution_count": null,
   "metadata": {},
   "outputs": [],
   "source": [
    "# ls()"
   ]
  },
  {
   "cell_type": "code",
   "execution_count": null,
   "metadata": {},
   "outputs": [],
   "source": [
    "tld_registrar_list"
   ]
  },
  {
   "cell_type": "code",
   "execution_count": null,
   "metadata": {},
   "outputs": [],
   "source": [
    "tld_registrar_list[[6]]"
   ]
  },
  {
   "cell_type": "code",
   "execution_count": null,
   "metadata": {},
   "outputs": [],
   "source": []
  },
  {
   "cell_type": "code",
   "execution_count": null,
   "metadata": {},
   "outputs": [],
   "source": [
    "pred_seg2_glm(\n",
    "                   test_list, \n",
    "                   'spacecloudflare, inc.'\n",
    "               )"
   ]
  },
  {
   "cell_type": "code",
   "execution_count": null,
   "metadata": {},
   "outputs": [],
   "source": [
    "tld_reseller_str='spacecloudflare, inc.'"
   ]
  },
  {
   "cell_type": "code",
   "execution_count": null,
   "metadata": {},
   "outputs": [],
   "source": [
    "# pred_seg2_glm <- function(test_list, tld_reseller_str) {\n",
    "    \n",
    "    print(tld_reseller_str)\n",
    "    # seg2 glm (tld-reseller-segmented glm)\n",
    "\n",
    "    test_list_tld_reseller = test_list[tld_reseller_str]\n",
    "    test_df_tld_reseller =  rbindlist(test_list_tld_reseller,use.names=TRUE)\n",
    "    \n",
    "    # if test data contains no observations, skip!\n",
    "    if ((dim(test_df_tld_reseller)[1]==0)){\n",
    "        pred_df_seg2_glm = NA\n",
    "    } else {\n",
    "        \n",
    "        model_name <- paste0('model_seg2_glm_',str_replace_all(tld_reseller_str, \"[^[:alnum:]]\", \"\"))\n",
    "        \n",
    "        if ((!exists(model_name))){\n",
    "            pred_df_seg2_glm = data.frame(\"actual\" = rep(NA, nrow(test_df_tld_reseller)),\n",
    "                              \"predicted\" = rep(NA, nrow(test_df_tld_reseller)))\n",
    "        } else{\n",
    "            model <- get(model_name)\n",
    "            pred = mass_predict_first_renewal(test_list_tld_reseller, model)\n",
    "    \n",
    "            pred_df_seg2_glm = data.frame(\"actual\" = pred$renewal_status,\n",
    "                                      \"predicted\" = pred$first_renewal_prediction)\n",
    "        }\n",
    "\n",
    "        \n",
    "    }\n",
    "    \n",
    "#     return(pred_df_seg2_glm)\n",
    "    \n",
    "# }"
   ]
  },
  {
   "cell_type": "code",
   "execution_count": null,
   "metadata": {},
   "outputs": [],
   "source": [
    "pred_df_seg2_glm = data.frame(\"actual\" = rep(NA, nrow(test_df_tld_reseller)),\n",
    "                              \"predicted\" = rep(NA, nrow(test_df_tld_reseller)))"
   ]
  },
  {
   "cell_type": "code",
   "execution_count": null,
   "metadata": {},
   "outputs": [],
   "source": [
    "pred_df_seg2_glm"
   ]
  },
  {
   "cell_type": "code",
   "execution_count": null,
   "metadata": {},
   "outputs": [],
   "source": [
    "tld_reseller_str = 'storeonlinenic'\n",
    "test = pred_seg2_glm(\n",
    "                   test_list, \n",
    "                   tld_reseller_str)\n",
    "test"
   ]
  },
  {
   "cell_type": "code",
   "execution_count": null,
   "metadata": {},
   "outputs": [],
   "source": []
  },
  {
   "cell_type": "code",
   "execution_count": null,
   "metadata": {},
   "outputs": [],
   "source": [
    "Sys.glob(file.path(modelDir,'model_seg2_glm_*'))"
   ]
  },
  {
   "cell_type": "code",
   "execution_count": null,
   "metadata": {},
   "outputs": [],
   "source": [
    "lapply(Sys.glob(file.path(modelDir,'model_seg2_glm_*')),load,.GlobalEnv)"
   ]
  },
  {
   "cell_type": "code",
   "execution_count": null,
   "metadata": {},
   "outputs": [],
   "source": [
    "# write.csv(preds_agg_rf_ALL_df, \"../../data/output/preds_agg_rf_ALL_df.csv\", row.names=FALSE)\n",
    "# write.csv(preds_seg2_glm_ALL_df, \"../../data/output/preds_seg2_glm_ALL_df.csv\", row.names=FALSE)\n",
    "# write.csv(preds_seg2_glm_fb_df, \"../../data/output/preds_seg2_glm_fb_df.csv\", row.names=FALSE)\n",
    "# write.csv(tld_re_model_lookup_sub, \"../../data/output/tld_re_model_lookup_sub.csv\", row.names=FALSE)\n"
   ]
  },
  {
   "cell_type": "code",
   "execution_count": null,
   "metadata": {},
   "outputs": [],
   "source": [
    "# preds_agg_rf_ALL_df <- read.csv(\"../../data/output/preds_agg_rf_ALL_df.csv\")\n",
    "# preds_seg2_glm_ALL_df <- read.csv( \"../../data/output/preds_seg2_glm_ALL_df.csv\")\n",
    "# preds_seg2_glm_fb_df <- read.csv(\"../../data/output/preds_seg2_glm_fb_df.csv\")\n",
    "# tld_re_model_lookup_sub <- read.csv(\"../../data/output/tld_re_model_lookup_sub.csv\")"
   ]
  },
  {
   "cell_type": "code",
   "execution_count": null,
   "metadata": {},
   "outputs": [],
   "source": [
    "head(preds_meta)"
   ]
  },
  {
   "cell_type": "code",
   "execution_count": null,
   "metadata": {},
   "outputs": [],
   "source": []
  },
  {
   "cell_type": "markdown",
   "metadata": {},
   "source": [
    "# Troubleshoot script"
   ]
  },
  {
   "cell_type": "code",
   "execution_count": null,
   "metadata": {},
   "outputs": [],
   "source": [
    "pred_select <- function (expiry_new_df,\n",
    "                         new_metametrics_imp_pred_df,\n",
    "                         dataDir='/home/jupyter/Domains_202003/data/output/datapull_20201116',\n",
    "                         modelDir='/home/jupyter/Domains_202003/data/output/models_20201104',\n",
    "                         outputDir='/home/jupyter/Domains_202003/data/output/datapull_20201127'\n",
    "                      ){  \n",
    "    \n",
    "    test_list = split(expiry_new_df, expiry_new_df$tld_registrar_index)\n",
    "    tld_re_model_lookup <- new_metametrics_imp_pred_df %>% \n",
    "       select(tld_registrar_index, l10_win_04_pred_model, auc_win_04_pred_model) %>%\n",
    "       melt(id.vars = c(\"tld_registrar_index\"), variable.name = \"model\") %>%\n",
    "       select (tld_registrar_index, value) %>% distinct() \n",
    "    tld_re_model_lookup$tld_registrar_index <- as.character(tld_re_model_lookup$tld_registrar_index)\n",
    "    \n",
    "    for (model in unique(tld_re_model_lookup$value)){\n",
    "        tld_registrar_list <- tld_re_model_lookup %>% filter(value==model) %>% pull(tld_registrar_index)\n",
    "\n",
    "#         if (model == 'agg_rf_ALL'){\n",
    "#             cat(\"\\n\\nPredicting model_agg_rf_ALL for\",length(tld_registrar_list),\"tld-re's \\n\")\n",
    "#             load(file.path(modelDir, 'model_agg_rf_ALL.Rdata'))\n",
    "#             preds_agg_rf_ALL = lapply(tld_registrar_list, \n",
    "#                    function(tld_reseller_str) pred_agg_rf(model_agg_rf_ALL, \n",
    "#                                                           test_list, \n",
    "#                                                           tld_reseller_str)\n",
    "#                    )\n",
    "#             rm(model_agg_rf_ALL)\n",
    "#             gc() \n",
    "\n",
    "#             save(preds_agg_rf_ALL, file=file.path(outputDir, 'meta_preds', 'preds_agg_rf_ALL.RData'))\n",
    "#             preds_agg_rf_ALL_df <- cbind(rbindlist(test_list[tld_registrar_list], use.names=TRUE), \n",
    "#                                          rbindlist(preds_agg_rf_ALL, use.names=TRUE))\n",
    "#             preds_agg_rf_ALL_df$model <- 'preds_agg_rf_ALL'\n",
    "\n",
    "\n",
    "#         }\n",
    "\n",
    "#         if (model == 'seg2_glm'){\n",
    "#             cat(\"\\n\\nPredicting model_seg2_glm_ALL for\",length(tld_registrar_list),\"tld-re's\\n\")\n",
    "#             lapply(Sys.glob(file.path(modelDir,'model_seg2_glm_*')),load,.GlobalEnv)\n",
    "#             preds_seg2_glm_ALL = lapply(tld_registrar_list, \n",
    "#                    function(tld_reseller_str) pred_seg2_glm(\n",
    "#                        test_list, \n",
    "#                        tld_reseller_str)\n",
    "#                    )\n",
    "#             rm(list=ls(pattern='^model_seg2_glm_'))    \n",
    "#             save(preds_seg2_glm_ALL, file=file.path(outputDir, 'meta_preds', 'preds_seg2_glm_ALL.RData'))          \n",
    "#             preds_seg2_glm_ALL_df <- cbind(rbindlist(test_list[tld_registrar_list], use.names=TRUE), \n",
    "#                                          rbindlist(preds_seg2_glm_ALL, use.names=TRUE))\n",
    "#             preds_seg2_glm_ALL_df$model <- 'preds_seg2_glm_ALL'\n",
    "#         }\n",
    "\n",
    "        if (model == 'seg2_glm_fb'){\n",
    "\n",
    "            cat(\"\\n\\nPredicting model_seg2_glm_fb for\",length(tld_registrar_list),\"tld-re's\\n\")\n",
    "            # generate list of fallback tables\n",
    "            npv_fallback_list = fallback_gen( npv_historic_renewal_data = expiry_df_train_g, \n",
    "                                         reseller_am_geo_map = geoLookupDF)\n",
    "\n",
    "            # return list members to in-memory objects of the same name\n",
    "            #             for(i in 1:length(npv_fallback_list)) assign(names(npv_fallback_list)[i], npv_fallback_list[[i]]) # doesn't work in script\n",
    "            list2env(npv_fallback_list, envir = .GlobalEnv)\n",
    "\n",
    "            # subset expiry_new_df to only include tld-re's for fallback\n",
    "            tld_registrar_excl_list = tld_registrar_list\n",
    "            expiry_new_df_sample <- expiry_new_df %>% filter(tld_registrar_index %in% tld_registrar_excl_list)\n",
    "\n",
    "            # geo suppl for fallback app\n",
    "            preds_seg2_glm_fb <- geo_suppl(expiry_new_df_sample, geoLookupDF = geoLookupDF)\n",
    "\n",
    "            # generate placeholder (*_fb) columns in preds df where predictions for low-volume tld-registrars get set to NA\n",
    "            preds_seg2_glm_fb <- preds_seg2_glm_fb %>% mutate( pred_seg2_glm_fb = NA)\n",
    "\n",
    "            # apply fallback tables (creating cols *_fb2)\n",
    "            preds_seg2_glm_fb <- fallback_app_1(test_data_op=preds_seg2_glm_fb,\n",
    "                           in_col='pred_seg2_glm_fb',\n",
    "                           out_col='pred_seg2_glm_fb2')\n",
    "\n",
    "\n",
    "            preds_seg2_glm_fb <- preds_seg2_glm_fb %>% select(renewal_status,pred_seg2_glm_fb2) \n",
    "            names(preds_seg2_glm_fb) = c('actual','predicted')\n",
    "\n",
    "\n",
    "            # save(preds_seg2_glm_fb, file=file.path(outputDir, 'meta_preds', 'preds_seg2_glm_fb.RData'))         \n",
    "            preds_seg2_glm_fb_df <- cbind(expiry_new_df_sample, \n",
    "                                          preds_seg2_glm_fb)\n",
    "\n",
    "            preds_seg2_glm_fb_df$model <- 'preds_seg2_glm_fb'\n",
    "            \n",
    "        }\n",
    "        }\n",
    "\n",
    "#     preds_meta <- rbind(preds_agg_rf_ALL_df, preds_seg2_glm_ALL_df, preds_seg2_glm_fb_df)\n",
    "    preds_meta <- preds_seg2_glm_fb_df\n",
    "#     write.csv(preds_meta, file.path(outputDir, 'preds_select','preds.csv'))\n",
    "    return(preds_meta)\n",
    "\n",
    "}"
   ]
  },
  {
   "cell_type": "code",
   "execution_count": null,
   "metadata": {},
   "outputs": [],
   "source": [
    "# load(file.path(outputDir, 'meta_preds','expiry_new_df.RData'))\n",
    "# load(file.path(outputDir, 'meta_preds','new_metametrics_imp_pred_df.RData'))"
   ]
  },
  {
   "cell_type": "code",
   "execution_count": null,
   "metadata": {},
   "outputs": [],
   "source": [
    "\n",
    "\n",
    "preds_meta <- pred_select(expiry_new_df_sample,\n",
    "                         new_metametrics_imp_pred_df,\n",
    "                         dataDir=dataDir,\n",
    "                         modelDir=modelDir,\n",
    "                         outputDir=outputDir\n",
    "                      )"
   ]
  },
  {
   "cell_type": "code",
   "execution_count": null,
   "metadata": {},
   "outputs": [],
   "source": [
    "head(preds_meta)"
   ]
  },
  {
   "cell_type": "code",
   "execution_count": null,
   "metadata": {},
   "outputs": [],
   "source": [
    "expiry_new_df_sample <- expiry_new_df %>% sample_n(0.01*nrow(expiry_new_df))\n",
    "\n",
    "tld_re_model_lookup <- new_metametrics_imp_pred_df %>% \n",
    "  select(tld_registrar_index, l10_win_04_pred_model, auc_win_04_pred_model) %>%\n",
    "  melt(id.vars = c(\"tld_registrar_index\"), variable.name = \"model\") %>%\n",
    "  select (tld_registrar_index, value) %>% distinct() \n",
    "  tld_re_model_lookup$tld_registrar_index <- as.character(tld_re_model_lookup$tld_registrar_index)\n",
    "\n",
    "model ='seg2_glm_fb'\n",
    "tld_registrar_list <- tld_re_model_lookup %>% filter(value==model) %>% pull(tld_registrar_index)\n",
    "\n",
    "cat(\"\\n\\nPredicting model_seg2_glm_fb for\",length(tld_registrar_list),\"tld-re's\\n\")\n",
    "# generate list of fallback tables\n",
    "npv_fallback_list = fallback_gen( npv_historic_renewal_data = expiry_df_train_g, \n",
    "                             reseller_am_geo_map = geoLookupDF)\n",
    "\n",
    "# return list members to in-memory objects of the same name\n",
    "#             for(i in 1:length(npv_fallback_list)) assign(names(npv_fallback_list)[i], npv_fallback_list[[i]]) # doesn't work in script\n",
    "list2env(npv_fallback_list, envir = .GlobalEnv)\n",
    "\n",
    "# subset expiry_new_df_sample to only include tld-re's for fallback, supplement with geo for fallback app\n",
    "tld_registrar_excl_list = tld_registrar_list\n",
    "expiry_new_df_sample <- expiry_new_df_sample %>% filter(tld_registrar_index %in% tld_registrar_excl_list)\n",
    "\n",
    "# geo suppl for fallback app\n",
    "preds_seg2_glm_fb <- geo_suppl(expiry_new_df_sample, geoLookupDF = geoLookupDF)\n",
    "\n",
    "# generate placeholder (*_fb) columns in preds df where predictions for low-volume tld-registrars get set to NA\n",
    "preds_seg2_glm_fb <- preds_seg2_glm_fb %>% mutate( pred_seg2_glm_fb = NA)\n",
    "\n",
    "# apply fallback tables (creating cols *_fb2)\n",
    "preds_seg2_glm_fb <- fallback_app_1(test_data_op=preds_seg2_glm_fb,\n",
    "               in_col='pred_seg2_glm_fb',\n",
    "               out_col='pred_seg2_glm_fb2')\n",
    "\n",
    "\n",
    "preds_seg2_glm_fb <- preds_seg2_glm_fb %>% select(renewal_status,pred_seg2_glm_fb2) \n",
    "names(preds_seg2_glm_fb) = c('actual','predicted')\n",
    "\n",
    "\n",
    "# save(preds_seg2_glm_fb, file=file.path(outputDir, 'meta_preds', 'preds_seg2_glm_fb.RData'))         \n",
    "preds_seg2_glm_fb_df <- cbind(expiry_new_df_sample, \n",
    "                              preds_seg2_glm_fb)\n",
    "\n",
    "preds_seg2_glm_fb_df$model <- 'preds_seg2_glm_fb'"
   ]
  },
  {
   "cell_type": "code",
   "execution_count": null,
   "metadata": {},
   "outputs": [],
   "source": [
    "head(preds_seg2_glm_fb_df)"
   ]
  },
  {
   "cell_type": "code",
   "execution_count": null,
   "metadata": {},
   "outputs": [],
   "source": []
  },
  {
   "cell_type": "code",
   "execution_count": null,
   "metadata": {},
   "outputs": [],
   "source": []
  },
  {
   "cell_type": "code",
   "execution_count": null,
   "metadata": {},
   "outputs": [],
   "source": [
    "# tld_registrar_str = 'funafrihost'"
   ]
  },
  {
   "cell_type": "code",
   "execution_count": null,
   "metadata": {},
   "outputs": [],
   "source": [
    "objname = load(file.path(outputDir, 'meta_preds', 'preds_seg2_glm_ALL.RData'))"
   ]
  },
  {
   "cell_type": "code",
   "execution_count": null,
   "metadata": {},
   "outputs": [],
   "source": [
    "objname"
   ]
  },
  {
   "cell_type": "code",
   "execution_count": null,
   "metadata": {},
   "outputs": [],
   "source": [
    "length(preds_seg2_glm_ALL)\n",
    "sum(sapply(preds_seg2_glm_ALL, is.na))"
   ]
  },
  {
   "cell_type": "markdown",
   "metadata": {},
   "source": [
    "# Verify output"
   ]
  },
  {
   "cell_type": "code",
   "execution_count": null,
   "metadata": {},
   "outputs": [],
   "source": [
    "# meta_preds <- read.csv(file.path(outputDir, 'meta_preds', 'meta_preds.csv'))\n",
    "dim(meta_preds)\n",
    "head(meta_preds)"
   ]
  },
  {
   "cell_type": "code",
   "execution_count": null,
   "metadata": {},
   "outputs": [],
   "source": [
    "meta_preds %>% group_by(tld_registrar_index) %>% select(model) %>% distinct() %>% pull(model) %>% table()"
   ]
  },
  {
   "cell_type": "code",
   "execution_count": null,
   "metadata": {},
   "outputs": [],
   "source": [
    "tld_re_model_lookup %>% pull(value) %>% table()"
   ]
  },
  {
   "cell_type": "code",
   "execution_count": null,
   "metadata": {},
   "outputs": [],
   "source": [
    "table(meta_preds$model)"
   ]
  },
  {
   "cell_type": "code",
   "execution_count": null,
   "metadata": {},
   "outputs": [],
   "source": [
    "head(tld_re_model_lookup)"
   ]
  },
  {
   "cell_type": "markdown",
   "metadata": {},
   "source": [
    "# QA script"
   ]
  },
  {
   "cell_type": "code",
   "execution_count": 16,
   "metadata": {},
   "outputs": [
    {
     "data": {
      "text/html": [
       "'storezhuhainaisinike'"
      ],
      "text/latex": [
       "'storezhuhainaisinike'"
      ],
      "text/markdown": [
       "'storezhuhainaisinike'"
      ],
      "text/plain": [
       "[1] \"storezhuhainaisinike\""
      ]
     },
     "metadata": {},
     "output_type": "display_data"
    }
   ],
   "source": [
    "model='model_seg2_rf_ALL'\n",
    "tld_reseller_str='storezhuhai naisinike'\n",
    "tld_registrar_str2 = str_replace_all(tld_reseller_str, \"[^[:alnum:]]\", \"\")\n",
    "tld_registrar_str2"
   ]
  },
  {
   "cell_type": "code",
   "execution_count": 17,
   "metadata": {},
   "outputs": [],
   "source": [
    "# lapply(Sys.glob(file.path(modelDir,'model_seg2_rf_*')),load,.GlobalEnv)"
   ]
  },
  {
   "cell_type": "code",
   "execution_count": null,
   "metadata": {},
   "outputs": [],
   "source": [
    "test_list = "
   ]
  },
  {
   "cell_type": "code",
   "execution_count": null,
   "metadata": {},
   "outputs": [],
   "source": [
    "pred_seg2_rf(\n",
    "               test_list, \n",
    "               tld_reseller_str)\n",
    "           )"
   ]
  },
  {
   "cell_type": "code",
   "execution_count": null,
   "metadata": {},
   "outputs": [],
   "source": [
    "    rm(list=ls(pattern='^model_seg2_rf_'))"
   ]
  }
 ],
 "metadata": {
  "environment": {
   "name": "r-cpu.3-6.m48",
   "type": "gcloud",
   "uri": "gcr.io/deeplearning-platform-release/r-cpu.3-6:m48"
  },
  "kernelspec": {
   "display_name": "R",
   "language": "R",
   "name": "ir"
  },
  "language_info": {
   "codemirror_mode": "r",
   "file_extension": ".r",
   "mimetype": "text/x-r-source",
   "name": "R",
   "pygments_lexer": "r",
   "version": "3.6.3"
  }
 },
 "nbformat": 4,
 "nbformat_minor": 4
}
