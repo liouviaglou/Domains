{
 "cells": [
  {
   "cell_type": "markdown",
   "metadata": {},
   "source": [
    "# Fallback Table Metalearning Prep\n",
    "\n"
   ]
  },
  {
   "cell_type": "code",
   "execution_count": 1,
   "metadata": {},
   "outputs": [],
   "source": [
    "options(repr.matrix.max.cols=50, repr.matrix.max.rows=100)"
   ]
  },
  {
   "cell_type": "code",
   "execution_count": 2,
   "metadata": {},
   "outputs": [],
   "source": [
    "# install.packages(\"pkgcond\")"
   ]
  },
  {
   "cell_type": "code",
   "execution_count": 4,
   "metadata": {},
   "outputs": [
    {
     "data": {
      "text/html": [
       "'/home/jupyter/Domains_202003/scripts/phaseII_06_fallbacksupp'"
      ],
      "text/latex": [
       "'/home/jupyter/Domains\\_202003/scripts/phaseII\\_06\\_fallbacksupp'"
      ],
      "text/markdown": [
       "'/home/jupyter/Domains_202003/scripts/phaseII_06_fallbacksupp'"
      ],
      "text/plain": [
       "[1] \"/home/jupyter/Domains_202003/scripts/phaseII_06_fallbacksupp\""
      ]
     },
     "metadata": {},
     "output_type": "display_data"
    }
   ],
   "source": [
    "library(dplyr)\n",
    "library(data.table)\n",
    "library(partykit)\n",
    "library(tictoc)\n",
    "library(caret)\n",
    "library(e1071)\n",
    "library(randomForest)\n",
    "library(ranger)\n",
    "\n",
    "#for 3d plotting\n",
    "library(akima)\n",
    "library(plotly)\n",
    "\n",
    "# for prep data\n",
    "library(stringr)\n",
    "library(pbapply)\n",
    "library(stringdist)\n",
    "library(data.table)\n",
    "library(dominanceanalysis)\n",
    "\n",
    "\n",
    "getwd()"
   ]
  },
  {
   "cell_type": "code",
   "execution_count": 5,
   "metadata": {},
   "outputs": [
    {
     "name": "stderr",
     "output_type": "stream",
     "text": [
      "\n",
      "Attaching package: ‘tidyr’\n",
      "\n",
      "\n",
      "The following object is masked from ‘package:stringdist’:\n",
      "\n",
      "    extract\n",
      "\n",
      "\n"
     ]
    }
   ],
   "source": [
    "\n",
    "source('../orig/functions.R')\n",
    "\n",
    "source('../orig/functions_models.R')\n",
    "\n",
    "source('../phaseII_03_forest/functions_eval.R')\n"
   ]
  },
  {
   "cell_type": "code",
   "execution_count": 6,
   "metadata": {},
   "outputs": [],
   "source": [
    "source('functions_metalearning.R')"
   ]
  },
  {
   "cell_type": "code",
   "execution_count": 7,
   "metadata": {},
   "outputs": [],
   "source": [
    "source('functions_fallback.R')"
   ]
  },
  {
   "cell_type": "code",
   "execution_count": 8,
   "metadata": {},
   "outputs": [],
   "source": [
    "# source('load_prep_data_expiry_2.R') #read in train test and predictions manually instead\n",
    "\n",
    "# READ CSV's\n",
    "# expiry_df_test_preds <- read.csv(\"../../data/output/datapull_20201116/expiry_df_test_preds.csv\")\n",
    "# expiry_df_train <- read.csv(\"../../data/output/datapull_20201116/expiry_df_train.csv\")\n",
    "# expiry_df_test <- read.csv(\"../../data/output/datapull_20201116/expiry_df_test.csv\")\n",
    "\n",
    "# expiry_df\n",
    "# expiry_train_df \n",
    "# expiry_test_df \n",
    "# expiry_list\n",
    "# expiry_train_list\n",
    "# expiry_test_list"
   ]
  },
  {
   "cell_type": "markdown",
   "metadata": {},
   "source": [
    "# LOAD fallbacksupp'ed preds"
   ]
  },
  {
   "cell_type": "code",
   "execution_count": 9,
   "metadata": {},
   "outputs": [
    {
     "data": {
      "text/html": [
       "<table>\n",
       "<caption>A data.frame: 6 × 59</caption>\n",
       "<thead>\n",
       "\t<tr><th></th><th scope=col>reseller</th><th scope=col>reseller_country</th><th scope=col>domain_id</th><th scope=col>renewal_type</th><th scope=col>renewed_count</th><th scope=col>expiry_date</th><th scope=col>creation_date</th><th scope=col>status</th><th scope=col>domain</th><th scope=col>registrar</th><th scope=col>registrant_country</th><th scope=col>reg_period</th><th scope=col>reg_revenue</th><th scope=col>reg_arpt</th><th scope=col>renew_mbg</th><th scope=col>renewal_item_id</th><th scope=col>renew_type</th><th scope=col>autorenew_type</th><th scope=col>renewal_status</th><th scope=col>renew_date</th><th scope=col>renew_arpt</th><th scope=col>gibb_score</th><th scope=col>pattern</th><th scope=col>pattern_domain_count</th><th scope=col>day_domains</th><th scope=col>⋯</th><th scope=col>pred_agg_glm</th><th scope=col>pred_agg_rf</th><th scope=col>pred_seg_glm_ALL</th><th scope=col>pred_seg_rf_ALL</th><th scope=col>pred_seg2_glm_ALL</th><th scope=col>pred_seg2_rf_ALL</th><th scope=col>reseller_geo</th><th scope=col>pred_agg_glm_ALL_fb</th><th scope=col>pred_agg_rf_ALL_fb</th><th scope=col>pred_agg_glm_fb</th><th scope=col>pred_agg_rf_fb</th><th scope=col>pred_seg_glm_ALL_fb</th><th scope=col>pred_seg_rf_ALL_fb</th><th scope=col>pred_seg2_glm_ALL_fb</th><th scope=col>pred_seg2_rf_ALL_fb</th><th scope=col>reg_arpt_org</th><th scope=col>reg_arpt_slab</th><th scope=col>pred_seg2_rf_ALL_fb2</th><th scope=col>pred_seg2_glm_ALL_fb2</th><th scope=col>pred_seg_rf_ALL_fb2</th><th scope=col>pred_seg_glm_ALL_fb2</th><th scope=col>pred_agg_rf_fb2</th><th scope=col>pred_agg_glm_fb2</th><th scope=col>pred_agg_rf_ALL_fb2</th><th scope=col>pred_agg_glm_ALL_fb2</th></tr>\n",
       "\t<tr><th></th><th scope=col>&lt;fct&gt;</th><th scope=col>&lt;fct&gt;</th><th scope=col>&lt;int&gt;</th><th scope=col>&lt;fct&gt;</th><th scope=col>&lt;int&gt;</th><th scope=col>&lt;fct&gt;</th><th scope=col>&lt;fct&gt;</th><th scope=col>&lt;fct&gt;</th><th scope=col>&lt;fct&gt;</th><th scope=col>&lt;fct&gt;</th><th scope=col>&lt;fct&gt;</th><th scope=col>&lt;int&gt;</th><th scope=col>&lt;dbl&gt;</th><th scope=col>&lt;dbl&gt;</th><th scope=col>&lt;int&gt;</th><th scope=col>&lt;int&gt;</th><th scope=col>&lt;fct&gt;</th><th scope=col>&lt;fct&gt;</th><th scope=col>&lt;fct&gt;</th><th scope=col>&lt;fct&gt;</th><th scope=col>&lt;dbl&gt;</th><th scope=col>&lt;dbl&gt;</th><th scope=col>&lt;fct&gt;</th><th scope=col>&lt;int&gt;</th><th scope=col>&lt;int&gt;</th><th scope=col>⋯</th><th scope=col>&lt;dbl&gt;</th><th scope=col>&lt;dbl&gt;</th><th scope=col>&lt;dbl&gt;</th><th scope=col>&lt;dbl&gt;</th><th scope=col>&lt;dbl&gt;</th><th scope=col>&lt;dbl&gt;</th><th scope=col>&lt;fct&gt;</th><th scope=col>&lt;dbl&gt;</th><th scope=col>&lt;dbl&gt;</th><th scope=col>&lt;dbl&gt;</th><th scope=col>&lt;dbl&gt;</th><th scope=col>&lt;dbl&gt;</th><th scope=col>&lt;dbl&gt;</th><th scope=col>&lt;dbl&gt;</th><th scope=col>&lt;dbl&gt;</th><th scope=col>&lt;dbl&gt;</th><th scope=col>&lt;fct&gt;</th><th scope=col>&lt;dbl&gt;</th><th scope=col>&lt;dbl&gt;</th><th scope=col>&lt;dbl&gt;</th><th scope=col>&lt;dbl&gt;</th><th scope=col>&lt;dbl&gt;</th><th scope=col>&lt;dbl&gt;</th><th scope=col>&lt;dbl&gt;</th><th scope=col>&lt;dbl&gt;</th></tr>\n",
       "</thead>\n",
       "<tbody>\n",
       "\t<tr><th scope=row>1</th><td>            </td><td>       </td><td>122049036</td><td>FirstTime</td><td>1</td><td>2020-08-30</td><td>2019-08-30</td><td>Active</td><td>qianxiyun.online            </td><td>            </td><td>NA</td><td>1</td><td>25</td><td>25.00</td><td>0</td><td>341703158</td><td>auto-renewal</td><td>unrealized</td><td>Not Renewd</td><td>2020-08-30</td><td> 6</td><td>0.63</td><td>qianxiyun            </td><td>1</td><td> 1</td><td>⋯</td><td>   NA</td><td>0.7713468</td><td>   NA</td><td>       NA</td><td>       NA</td><td>       NA</td><td>NA</td><td>   NA</td><td>0.9550391</td><td>   NA</td><td>0.7713468</td><td>   NA</td><td>       NA</td><td>       NA</td><td>       NA</td><td>25.00</td><td>(15,25]</td><td>0.5510000</td><td>0.5510000</td><td>0.5510000</td><td>0.551</td><td>0.7713468</td><td>0.551</td><td>0.9550391</td><td>0.551</td></tr>\n",
       "\t<tr><th scope=row>2</th><td>1&amp;1 Internet</td><td>Germany</td><td> 43450963</td><td>FirstTime</td><td>1</td><td>2020-01-27</td><td>2017-01-27</td><td>Active</td><td><span style=white-space:pre-wrap>ncyc.online                 </span></td><td>1&amp;1 Internet</td><td>NA</td><td>3</td><td>55</td><td>18.33</td><td>0</td><td>239731665</td><td><span style=white-space:pre-wrap>transfer    </span></td><td><span style=white-space:pre-wrap>NA        </span></td><td><span style=white-space:pre-wrap>Renewed   </span></td><td>2019-10-13</td><td>25</td><td>1.18</td><td><span style=white-space:pre-wrap>ncyc                 </span></td><td>1</td><td>23</td><td>⋯</td><td>0.817</td><td>0.6676114</td><td>0.543</td><td>0.7268116</td><td>0.5644593</td><td>0.7075837</td><td>EU</td><td>0.817</td><td>0.6088277</td><td>0.817</td><td>0.6676114</td><td>0.543</td><td>0.7268116</td><td>0.5644593</td><td>0.7075837</td><td>18.33</td><td>(15,25]</td><td>0.7075837</td><td>0.5644593</td><td>0.7268116</td><td>0.543</td><td>0.6676114</td><td>0.817</td><td>0.6088277</td><td>0.817</td></tr>\n",
       "\t<tr><th scope=row>3</th><td>1&amp;1 Internet</td><td>Germany</td><td> 43576888</td><td>FirstTime</td><td>1</td><td>2020-01-31</td><td>2017-01-31</td><td>Active</td><td><span style=white-space:pre-wrap>audev.online                </span></td><td>1&amp;1 Internet</td><td>NA</td><td>3</td><td>55</td><td>18.33</td><td>0</td><td>287997921</td><td>auto-renewal</td><td><span style=white-space:pre-wrap>realized  </span></td><td><span style=white-space:pre-wrap>Renewed   </span></td><td>2020-01-31</td><td>25</td><td>2.57</td><td><span style=white-space:pre-wrap>audev                </span></td><td>1</td><td>43</td><td>⋯</td><td>0.814</td><td>0.6877335</td><td>0.536</td><td>0.7155560</td><td>0.5601541</td><td>0.7314602</td><td>EU</td><td>0.814</td><td>0.6477227</td><td>0.814</td><td>0.6877335</td><td>0.536</td><td>0.7155560</td><td>0.5601541</td><td>0.7314602</td><td>18.33</td><td>(15,25]</td><td>0.7314602</td><td>0.5601541</td><td>0.7155560</td><td>0.536</td><td>0.6877335</td><td>0.814</td><td>0.6477227</td><td>0.814</td></tr>\n",
       "\t<tr><th scope=row>4</th><td>1&amp;1 Internet</td><td>Germany</td><td> 43727452</td><td>FirstTime</td><td>1</td><td>2020-02-03</td><td>2017-02-03</td><td>Active</td><td><span style=white-space:pre-wrap>pinkpanther.store           </span></td><td>1&amp;1 Internet</td><td>NA</td><td>3</td><td>88</td><td>29.33</td><td>0</td><td>288786056</td><td>auto-renewal</td><td>unrealized</td><td>Not Renewd</td><td>2020-02-03</td><td>40</td><td>7.27</td><td><span style=white-space:pre-wrap>pinkpanther          </span></td><td>1</td><td> 3</td><td>⋯</td><td>0.838</td><td>0.2588170</td><td>0.513</td><td>0.2754756</td><td>0.1642908</td><td>0.1535971</td><td>EU</td><td>0.833</td><td>0.2384536</td><td>0.838</td><td>0.2588170</td><td>0.513</td><td>0.2754756</td><td>0.1642908</td><td>0.1535971</td><td>29.33</td><td>(25,35]</td><td>0.1535971</td><td>0.1642908</td><td>0.2754756</td><td>0.513</td><td>0.2588170</td><td>0.838</td><td>0.2384536</td><td>0.833</td></tr>\n",
       "\t<tr><th scope=row>5</th><td>1&amp;1 Internet</td><td>Germany</td><td> 46911148</td><td>FirstTime</td><td>1</td><td>2020-04-17</td><td>2017-04-17</td><td>Active</td><td>lmengineeringservices.online</td><td>1&amp;1 Internet</td><td>NA</td><td>3</td><td>50</td><td>16.67</td><td>0</td><td>308749164</td><td>auto-renewal</td><td><span style=white-space:pre-wrap>realized  </span></td><td><span style=white-space:pre-wrap>Renewed   </span></td><td>2020-04-17</td><td>25</td><td>7.81</td><td>lmengineeringservices</td><td>1</td><td>69</td><td>⋯</td><td>0.775</td><td>0.3878439</td><td>0.468</td><td>0.3962124</td><td>0.4979086</td><td>0.3769304</td><td>EU</td><td>0.772</td><td>0.3972606</td><td>0.775</td><td>0.3878439</td><td>0.468</td><td>0.3962124</td><td>0.4979086</td><td>0.3769304</td><td>16.67</td><td>(15,25]</td><td>0.3769304</td><td>0.4979086</td><td>0.3962124</td><td>0.468</td><td>0.3878439</td><td>0.775</td><td>0.3972606</td><td>0.772</td></tr>\n",
       "\t<tr><th scope=row>6</th><td>1&amp;1 Internet</td><td>Germany</td><td> 47605334</td><td>FirstTime</td><td>1</td><td>2020-05-08</td><td>2017-05-08</td><td>Active</td><td><span style=white-space:pre-wrap>eagleeyeview.store          </span></td><td>1&amp;1 Internet</td><td>NA</td><td>3</td><td>90</td><td>30.00</td><td>0</td><td>313867134</td><td>auto-renewal</td><td>unrealized</td><td>Not Renewd</td><td>2020-05-08</td><td>40</td><td>3.41</td><td><span style=white-space:pre-wrap>eagleeyeview         </span></td><td>1</td><td> 4</td><td>⋯</td><td>0.829</td><td>0.1730035</td><td>0.516</td><td>0.1675698</td><td>0.1723292</td><td>0.1027711</td><td>EU</td><td>0.823</td><td>0.1925156</td><td>0.829</td><td>0.1730035</td><td>0.516</td><td>0.1675698</td><td>0.1723292</td><td>0.1027711</td><td>30.00</td><td>(25,35]</td><td>0.1027711</td><td>0.1723292</td><td>0.1675698</td><td>0.516</td><td>0.1730035</td><td>0.829</td><td>0.1925156</td><td>0.823</td></tr>\n",
       "</tbody>\n",
       "</table>\n"
      ],
      "text/latex": [
       "A data.frame: 6 × 59\n",
       "\\begin{tabular}{r|lllllllllllllllllllllllllllllllllllllllllllllllllll}\n",
       "  & reseller & reseller\\_country & domain\\_id & renewal\\_type & renewed\\_count & expiry\\_date & creation\\_date & status & domain & registrar & registrant\\_country & reg\\_period & reg\\_revenue & reg\\_arpt & renew\\_mbg & renewal\\_item\\_id & renew\\_type & autorenew\\_type & renewal\\_status & renew\\_date & renew\\_arpt & gibb\\_score & pattern & pattern\\_domain\\_count & day\\_domains & ⋯ & pred\\_agg\\_glm & pred\\_agg\\_rf & pred\\_seg\\_glm\\_ALL & pred\\_seg\\_rf\\_ALL & pred\\_seg2\\_glm\\_ALL & pred\\_seg2\\_rf\\_ALL & reseller\\_geo & pred\\_agg\\_glm\\_ALL\\_fb & pred\\_agg\\_rf\\_ALL\\_fb & pred\\_agg\\_glm\\_fb & pred\\_agg\\_rf\\_fb & pred\\_seg\\_glm\\_ALL\\_fb & pred\\_seg\\_rf\\_ALL\\_fb & pred\\_seg2\\_glm\\_ALL\\_fb & pred\\_seg2\\_rf\\_ALL\\_fb & reg\\_arpt\\_org & reg\\_arpt\\_slab & pred\\_seg2\\_rf\\_ALL\\_fb2 & pred\\_seg2\\_glm\\_ALL\\_fb2 & pred\\_seg\\_rf\\_ALL\\_fb2 & pred\\_seg\\_glm\\_ALL\\_fb2 & pred\\_agg\\_rf\\_fb2 & pred\\_agg\\_glm\\_fb2 & pred\\_agg\\_rf\\_ALL\\_fb2 & pred\\_agg\\_glm\\_ALL\\_fb2\\\\\n",
       "  & <fct> & <fct> & <int> & <fct> & <int> & <fct> & <fct> & <fct> & <fct> & <fct> & <fct> & <int> & <dbl> & <dbl> & <int> & <int> & <fct> & <fct> & <fct> & <fct> & <dbl> & <dbl> & <fct> & <int> & <int> & ⋯ & <dbl> & <dbl> & <dbl> & <dbl> & <dbl> & <dbl> & <fct> & <dbl> & <dbl> & <dbl> & <dbl> & <dbl> & <dbl> & <dbl> & <dbl> & <dbl> & <fct> & <dbl> & <dbl> & <dbl> & <dbl> & <dbl> & <dbl> & <dbl> & <dbl>\\\\\n",
       "\\hline\n",
       "\t1 &              &         & 122049036 & FirstTime & 1 & 2020-08-30 & 2019-08-30 & Active & qianxiyun.online             &              & NA & 1 & 25 & 25.00 & 0 & 341703158 & auto-renewal & unrealized & Not Renewd & 2020-08-30 &  6 & 0.63 & qianxiyun             & 1 &  1 & ⋯ &    NA & 0.7713468 &    NA &        NA &        NA &        NA & NA &    NA & 0.9550391 &    NA & 0.7713468 &    NA &        NA &        NA &        NA & 25.00 & (15,25{]} & 0.5510000 & 0.5510000 & 0.5510000 & 0.551 & 0.7713468 & 0.551 & 0.9550391 & 0.551\\\\\n",
       "\t2 & 1\\&1 Internet & Germany &  43450963 & FirstTime & 1 & 2020-01-27 & 2017-01-27 & Active & ncyc.online                  & 1\\&1 Internet & NA & 3 & 55 & 18.33 & 0 & 239731665 & transfer     & NA         & Renewed    & 2019-10-13 & 25 & 1.18 & ncyc                  & 1 & 23 & ⋯ & 0.817 & 0.6676114 & 0.543 & 0.7268116 & 0.5644593 & 0.7075837 & EU & 0.817 & 0.6088277 & 0.817 & 0.6676114 & 0.543 & 0.7268116 & 0.5644593 & 0.7075837 & 18.33 & (15,25{]} & 0.7075837 & 0.5644593 & 0.7268116 & 0.543 & 0.6676114 & 0.817 & 0.6088277 & 0.817\\\\\n",
       "\t3 & 1\\&1 Internet & Germany &  43576888 & FirstTime & 1 & 2020-01-31 & 2017-01-31 & Active & audev.online                 & 1\\&1 Internet & NA & 3 & 55 & 18.33 & 0 & 287997921 & auto-renewal & realized   & Renewed    & 2020-01-31 & 25 & 2.57 & audev                 & 1 & 43 & ⋯ & 0.814 & 0.6877335 & 0.536 & 0.7155560 & 0.5601541 & 0.7314602 & EU & 0.814 & 0.6477227 & 0.814 & 0.6877335 & 0.536 & 0.7155560 & 0.5601541 & 0.7314602 & 18.33 & (15,25{]} & 0.7314602 & 0.5601541 & 0.7155560 & 0.536 & 0.6877335 & 0.814 & 0.6477227 & 0.814\\\\\n",
       "\t4 & 1\\&1 Internet & Germany &  43727452 & FirstTime & 1 & 2020-02-03 & 2017-02-03 & Active & pinkpanther.store            & 1\\&1 Internet & NA & 3 & 88 & 29.33 & 0 & 288786056 & auto-renewal & unrealized & Not Renewd & 2020-02-03 & 40 & 7.27 & pinkpanther           & 1 &  3 & ⋯ & 0.838 & 0.2588170 & 0.513 & 0.2754756 & 0.1642908 & 0.1535971 & EU & 0.833 & 0.2384536 & 0.838 & 0.2588170 & 0.513 & 0.2754756 & 0.1642908 & 0.1535971 & 29.33 & (25,35{]} & 0.1535971 & 0.1642908 & 0.2754756 & 0.513 & 0.2588170 & 0.838 & 0.2384536 & 0.833\\\\\n",
       "\t5 & 1\\&1 Internet & Germany &  46911148 & FirstTime & 1 & 2020-04-17 & 2017-04-17 & Active & lmengineeringservices.online & 1\\&1 Internet & NA & 3 & 50 & 16.67 & 0 & 308749164 & auto-renewal & realized   & Renewed    & 2020-04-17 & 25 & 7.81 & lmengineeringservices & 1 & 69 & ⋯ & 0.775 & 0.3878439 & 0.468 & 0.3962124 & 0.4979086 & 0.3769304 & EU & 0.772 & 0.3972606 & 0.775 & 0.3878439 & 0.468 & 0.3962124 & 0.4979086 & 0.3769304 & 16.67 & (15,25{]} & 0.3769304 & 0.4979086 & 0.3962124 & 0.468 & 0.3878439 & 0.775 & 0.3972606 & 0.772\\\\\n",
       "\t6 & 1\\&1 Internet & Germany &  47605334 & FirstTime & 1 & 2020-05-08 & 2017-05-08 & Active & eagleeyeview.store           & 1\\&1 Internet & NA & 3 & 90 & 30.00 & 0 & 313867134 & auto-renewal & unrealized & Not Renewd & 2020-05-08 & 40 & 3.41 & eagleeyeview          & 1 &  4 & ⋯ & 0.829 & 0.1730035 & 0.516 & 0.1675698 & 0.1723292 & 0.1027711 & EU & 0.823 & 0.1925156 & 0.829 & 0.1730035 & 0.516 & 0.1675698 & 0.1723292 & 0.1027711 & 30.00 & (25,35{]} & 0.1027711 & 0.1723292 & 0.1675698 & 0.516 & 0.1730035 & 0.829 & 0.1925156 & 0.823\\\\\n",
       "\\end{tabular}\n"
      ],
      "text/markdown": [
       "\n",
       "A data.frame: 6 × 59\n",
       "\n",
       "| <!--/--> | reseller &lt;fct&gt; | reseller_country &lt;fct&gt; | domain_id &lt;int&gt; | renewal_type &lt;fct&gt; | renewed_count &lt;int&gt; | expiry_date &lt;fct&gt; | creation_date &lt;fct&gt; | status &lt;fct&gt; | domain &lt;fct&gt; | registrar &lt;fct&gt; | registrant_country &lt;fct&gt; | reg_period &lt;int&gt; | reg_revenue &lt;dbl&gt; | reg_arpt &lt;dbl&gt; | renew_mbg &lt;int&gt; | renewal_item_id &lt;int&gt; | renew_type &lt;fct&gt; | autorenew_type &lt;fct&gt; | renewal_status &lt;fct&gt; | renew_date &lt;fct&gt; | renew_arpt &lt;dbl&gt; | gibb_score &lt;dbl&gt; | pattern &lt;fct&gt; | pattern_domain_count &lt;int&gt; | day_domains &lt;int&gt; | ⋯ ⋯ | pred_agg_glm &lt;dbl&gt; | pred_agg_rf &lt;dbl&gt; | pred_seg_glm_ALL &lt;dbl&gt; | pred_seg_rf_ALL &lt;dbl&gt; | pred_seg2_glm_ALL &lt;dbl&gt; | pred_seg2_rf_ALL &lt;dbl&gt; | reseller_geo &lt;fct&gt; | pred_agg_glm_ALL_fb &lt;dbl&gt; | pred_agg_rf_ALL_fb &lt;dbl&gt; | pred_agg_glm_fb &lt;dbl&gt; | pred_agg_rf_fb &lt;dbl&gt; | pred_seg_glm_ALL_fb &lt;dbl&gt; | pred_seg_rf_ALL_fb &lt;dbl&gt; | pred_seg2_glm_ALL_fb &lt;dbl&gt; | pred_seg2_rf_ALL_fb &lt;dbl&gt; | reg_arpt_org &lt;dbl&gt; | reg_arpt_slab &lt;fct&gt; | pred_seg2_rf_ALL_fb2 &lt;dbl&gt; | pred_seg2_glm_ALL_fb2 &lt;dbl&gt; | pred_seg_rf_ALL_fb2 &lt;dbl&gt; | pred_seg_glm_ALL_fb2 &lt;dbl&gt; | pred_agg_rf_fb2 &lt;dbl&gt; | pred_agg_glm_fb2 &lt;dbl&gt; | pred_agg_rf_ALL_fb2 &lt;dbl&gt; | pred_agg_glm_ALL_fb2 &lt;dbl&gt; |\n",
       "|---|---|---|---|---|---|---|---|---|---|---|---|---|---|---|---|---|---|---|---|---|---|---|---|---|---|---|---|---|---|---|---|---|---|---|---|---|---|---|---|---|---|---|---|---|---|---|---|---|---|---|---|\n",
       "| 1 | <!----> | <!----> | 122049036 | FirstTime | 1 | 2020-08-30 | 2019-08-30 | Active | qianxiyun.online             | <!----> | NA | 1 | 25 | 25.00 | 0 | 341703158 | auto-renewal | unrealized | Not Renewd | 2020-08-30 |  6 | 0.63 | qianxiyun             | 1 |  1 | ⋯ |    NA | 0.7713468 |    NA |        NA |        NA |        NA | NA |    NA | 0.9550391 |    NA | 0.7713468 |    NA |        NA |        NA |        NA | 25.00 | (15,25] | 0.5510000 | 0.5510000 | 0.5510000 | 0.551 | 0.7713468 | 0.551 | 0.9550391 | 0.551 |\n",
       "| 2 | 1&amp;1 Internet | Germany |  43450963 | FirstTime | 1 | 2020-01-27 | 2017-01-27 | Active | ncyc.online                  | 1&amp;1 Internet | NA | 3 | 55 | 18.33 | 0 | 239731665 | transfer     | NA         | Renewed    | 2019-10-13 | 25 | 1.18 | ncyc                  | 1 | 23 | ⋯ | 0.817 | 0.6676114 | 0.543 | 0.7268116 | 0.5644593 | 0.7075837 | EU | 0.817 | 0.6088277 | 0.817 | 0.6676114 | 0.543 | 0.7268116 | 0.5644593 | 0.7075837 | 18.33 | (15,25] | 0.7075837 | 0.5644593 | 0.7268116 | 0.543 | 0.6676114 | 0.817 | 0.6088277 | 0.817 |\n",
       "| 3 | 1&amp;1 Internet | Germany |  43576888 | FirstTime | 1 | 2020-01-31 | 2017-01-31 | Active | audev.online                 | 1&amp;1 Internet | NA | 3 | 55 | 18.33 | 0 | 287997921 | auto-renewal | realized   | Renewed    | 2020-01-31 | 25 | 2.57 | audev                 | 1 | 43 | ⋯ | 0.814 | 0.6877335 | 0.536 | 0.7155560 | 0.5601541 | 0.7314602 | EU | 0.814 | 0.6477227 | 0.814 | 0.6877335 | 0.536 | 0.7155560 | 0.5601541 | 0.7314602 | 18.33 | (15,25] | 0.7314602 | 0.5601541 | 0.7155560 | 0.536 | 0.6877335 | 0.814 | 0.6477227 | 0.814 |\n",
       "| 4 | 1&amp;1 Internet | Germany |  43727452 | FirstTime | 1 | 2020-02-03 | 2017-02-03 | Active | pinkpanther.store            | 1&amp;1 Internet | NA | 3 | 88 | 29.33 | 0 | 288786056 | auto-renewal | unrealized | Not Renewd | 2020-02-03 | 40 | 7.27 | pinkpanther           | 1 |  3 | ⋯ | 0.838 | 0.2588170 | 0.513 | 0.2754756 | 0.1642908 | 0.1535971 | EU | 0.833 | 0.2384536 | 0.838 | 0.2588170 | 0.513 | 0.2754756 | 0.1642908 | 0.1535971 | 29.33 | (25,35] | 0.1535971 | 0.1642908 | 0.2754756 | 0.513 | 0.2588170 | 0.838 | 0.2384536 | 0.833 |\n",
       "| 5 | 1&amp;1 Internet | Germany |  46911148 | FirstTime | 1 | 2020-04-17 | 2017-04-17 | Active | lmengineeringservices.online | 1&amp;1 Internet | NA | 3 | 50 | 16.67 | 0 | 308749164 | auto-renewal | realized   | Renewed    | 2020-04-17 | 25 | 7.81 | lmengineeringservices | 1 | 69 | ⋯ | 0.775 | 0.3878439 | 0.468 | 0.3962124 | 0.4979086 | 0.3769304 | EU | 0.772 | 0.3972606 | 0.775 | 0.3878439 | 0.468 | 0.3962124 | 0.4979086 | 0.3769304 | 16.67 | (15,25] | 0.3769304 | 0.4979086 | 0.3962124 | 0.468 | 0.3878439 | 0.775 | 0.3972606 | 0.772 |\n",
       "| 6 | 1&amp;1 Internet | Germany |  47605334 | FirstTime | 1 | 2020-05-08 | 2017-05-08 | Active | eagleeyeview.store           | 1&amp;1 Internet | NA | 3 | 90 | 30.00 | 0 | 313867134 | auto-renewal | unrealized | Not Renewd | 2020-05-08 | 40 | 3.41 | eagleeyeview          | 1 |  4 | ⋯ | 0.829 | 0.1730035 | 0.516 | 0.1675698 | 0.1723292 | 0.1027711 | EU | 0.823 | 0.1925156 | 0.829 | 0.1730035 | 0.516 | 0.1675698 | 0.1723292 | 0.1027711 | 30.00 | (25,35] | 0.1027711 | 0.1723292 | 0.1675698 | 0.516 | 0.1730035 | 0.829 | 0.1925156 | 0.823 |\n",
       "\n"
      ],
      "text/plain": [
       "  reseller     reseller_country domain_id renewal_type renewed_count\n",
       "1                               122049036 FirstTime    1            \n",
       "2 1&1 Internet Germany           43450963 FirstTime    1            \n",
       "3 1&1 Internet Germany           43576888 FirstTime    1            \n",
       "4 1&1 Internet Germany           43727452 FirstTime    1            \n",
       "5 1&1 Internet Germany           46911148 FirstTime    1            \n",
       "6 1&1 Internet Germany           47605334 FirstTime    1            \n",
       "  expiry_date creation_date status domain                       registrar   \n",
       "1 2020-08-30  2019-08-30    Active qianxiyun.online                         \n",
       "2 2020-01-27  2017-01-27    Active ncyc.online                  1&1 Internet\n",
       "3 2020-01-31  2017-01-31    Active audev.online                 1&1 Internet\n",
       "4 2020-02-03  2017-02-03    Active pinkpanther.store            1&1 Internet\n",
       "5 2020-04-17  2017-04-17    Active lmengineeringservices.online 1&1 Internet\n",
       "6 2020-05-08  2017-05-08    Active eagleeyeview.store           1&1 Internet\n",
       "  registrant_country reg_period reg_revenue reg_arpt renew_mbg renewal_item_id\n",
       "1 NA                 1          25          25.00    0         341703158      \n",
       "2 NA                 3          55          18.33    0         239731665      \n",
       "3 NA                 3          55          18.33    0         287997921      \n",
       "4 NA                 3          88          29.33    0         288786056      \n",
       "5 NA                 3          50          16.67    0         308749164      \n",
       "6 NA                 3          90          30.00    0         313867134      \n",
       "  renew_type   autorenew_type renewal_status renew_date renew_arpt gibb_score\n",
       "1 auto-renewal unrealized     Not Renewd     2020-08-30  6         0.63      \n",
       "2 transfer     NA             Renewed        2019-10-13 25         1.18      \n",
       "3 auto-renewal realized       Renewed        2020-01-31 25         2.57      \n",
       "4 auto-renewal unrealized     Not Renewd     2020-02-03 40         7.27      \n",
       "5 auto-renewal realized       Renewed        2020-04-17 25         7.81      \n",
       "6 auto-renewal unrealized     Not Renewd     2020-05-08 40         3.41      \n",
       "  pattern               pattern_domain_count day_domains ⋯ pred_agg_glm\n",
       "1 qianxiyun             1                     1          ⋯    NA       \n",
       "2 ncyc                  1                    23          ⋯ 0.817       \n",
       "3 audev                 1                    43          ⋯ 0.814       \n",
       "4 pinkpanther           1                     3          ⋯ 0.838       \n",
       "5 lmengineeringservices 1                    69          ⋯ 0.775       \n",
       "6 eagleeyeview          1                     4          ⋯ 0.829       \n",
       "  pred_agg_rf pred_seg_glm_ALL pred_seg_rf_ALL pred_seg2_glm_ALL\n",
       "1 0.7713468      NA                   NA              NA        \n",
       "2 0.6676114   0.543            0.7268116       0.5644593        \n",
       "3 0.6877335   0.536            0.7155560       0.5601541        \n",
       "4 0.2588170   0.513            0.2754756       0.1642908        \n",
       "5 0.3878439   0.468            0.3962124       0.4979086        \n",
       "6 0.1730035   0.516            0.1675698       0.1723292        \n",
       "  pred_seg2_rf_ALL reseller_geo pred_agg_glm_ALL_fb pred_agg_rf_ALL_fb\n",
       "1        NA        NA              NA               0.9550391         \n",
       "2 0.7075837        EU           0.817               0.6088277         \n",
       "3 0.7314602        EU           0.814               0.6477227         \n",
       "4 0.1535971        EU           0.833               0.2384536         \n",
       "5 0.3769304        EU           0.772               0.3972606         \n",
       "6 0.1027711        EU           0.823               0.1925156         \n",
       "  pred_agg_glm_fb pred_agg_rf_fb pred_seg_glm_ALL_fb pred_seg_rf_ALL_fb\n",
       "1    NA           0.7713468         NA                      NA         \n",
       "2 0.817           0.6676114      0.543               0.7268116         \n",
       "3 0.814           0.6877335      0.536               0.7155560         \n",
       "4 0.838           0.2588170      0.513               0.2754756         \n",
       "5 0.775           0.3878439      0.468               0.3962124         \n",
       "6 0.829           0.1730035      0.516               0.1675698         \n",
       "  pred_seg2_glm_ALL_fb pred_seg2_rf_ALL_fb reg_arpt_org reg_arpt_slab\n",
       "1        NA                   NA           25.00        (15,25]      \n",
       "2 0.5644593            0.7075837           18.33        (15,25]      \n",
       "3 0.5601541            0.7314602           18.33        (15,25]      \n",
       "4 0.1642908            0.1535971           29.33        (25,35]      \n",
       "5 0.4979086            0.3769304           16.67        (15,25]      \n",
       "6 0.1723292            0.1027711           30.00        (25,35]      \n",
       "  pred_seg2_rf_ALL_fb2 pred_seg2_glm_ALL_fb2 pred_seg_rf_ALL_fb2\n",
       "1 0.5510000            0.5510000             0.5510000          \n",
       "2 0.7075837            0.5644593             0.7268116          \n",
       "3 0.7314602            0.5601541             0.7155560          \n",
       "4 0.1535971            0.1642908             0.2754756          \n",
       "5 0.3769304            0.4979086             0.3962124          \n",
       "6 0.1027711            0.1723292             0.1675698          \n",
       "  pred_seg_glm_ALL_fb2 pred_agg_rf_fb2 pred_agg_glm_fb2 pred_agg_rf_ALL_fb2\n",
       "1 0.551                0.7713468       0.551            0.9550391          \n",
       "2 0.543                0.6676114       0.817            0.6088277          \n",
       "3 0.536                0.6877335       0.814            0.6477227          \n",
       "4 0.513                0.2588170       0.838            0.2384536          \n",
       "5 0.468                0.3878439       0.775            0.3972606          \n",
       "6 0.516                0.1730035       0.829            0.1925156          \n",
       "  pred_agg_glm_ALL_fb2\n",
       "1 0.551               \n",
       "2 0.817               \n",
       "3 0.814               \n",
       "4 0.833               \n",
       "5 0.772               \n",
       "6 0.823               "
      ]
     },
     "metadata": {},
     "output_type": "display_data"
    }
   ],
   "source": [
    "# geo_suppl for train and test-pred data\n",
    "preds_df <- read.csv(\"../../data/output/datapull_20201116/expiry_df_test_preds_fb.csv\")\n",
    "head(preds_df)"
   ]
  },
  {
   "cell_type": "markdown",
   "metadata": {},
   "source": [
    "# Generate Metrics @ Tld-Reseller level "
   ]
  },
  {
   "cell_type": "code",
   "execution_count": 10,
   "metadata": {},
   "outputs": [],
   "source": [
    "l10_dplyr <- function (pred_df,\n",
    "                              pred_var = \"first_renewal_prediction\") {\n",
    "  N <- 10  # total number of rows to preallocate--possibly an overestimate\n",
    "  lift_df <- data.frame(P =rep(NA, N), \n",
    "                        actu_renwd2=rep(NA, N), \n",
    "                        gain=rep(NA, N), \n",
    "                        lift=rep(NA, N), \n",
    "                        stringsAsFactors=FALSE)          # you don't know levels yet\n",
    "  actu_renwd <- sum(pred_df[[\"renewal_status\"]]=='Renewed')\n",
    "  \n",
    "  i = 1\n",
    "  for(P in seq(.1,1,length=10)){\n",
    "    temp_df <- data.frame(pred_df)[c(\"renewal_status\",pred_var)]\n",
    "    ttmp_df <- temp_df[order(temp_df[pred_var],decreasing = TRUE),][1:round(dim(temp_df)[1]*P),]\n",
    "    actu_renwd2 <-  sum(ttmp_df[[\"renewal_status\"]] == 'Renewed')\n",
    "    gain = actu_renwd2/actu_renwd\n",
    "    lift = gain/(P)\n",
    "    \n",
    "    lift_df[i, ] <- list(P, actu_renwd2, gain, lift)\n",
    "    i = i+1\n",
    "  }\n",
    "  return(lift_df %>% filter(P==0.1) %>% pull(lift))\n",
    "}\n",
    "\n",
    "auc_dplyr <- function (pred_df,\n",
    "                              pred_var = \"first_renewal_prediction\") {\n",
    "  N <- 10  # total number of rows to preallocate--possibly an overestimate\n",
    "  lift_df <- data.frame(P =rep(NA, N), \n",
    "                        actu_renwd2=rep(NA, N), \n",
    "                        gain=rep(NA, N), \n",
    "                        lift=rep(NA, N), \n",
    "                        stringsAsFactors=FALSE)          # you don't know levels yet\n",
    "  actu_renwd <- sum(pred_df[[\"renewal_status\"]]=='Renewed')\n",
    "  \n",
    "  i = 1\n",
    "  for(P in seq(.1,1,length=10)){\n",
    "    temp_df <- data.frame(pred_df)[c(\"renewal_status\",pred_var)]\n",
    "    ttmp_df <- temp_df[order(temp_df[pred_var],decreasing = TRUE),][1:round(dim(temp_df)[1]*P),]\n",
    "    actu_renwd2 <-  sum(ttmp_df[[\"renewal_status\"]] == 'Renewed')\n",
    "    gain = actu_renwd2/actu_renwd\n",
    "    lift = gain/(P)\n",
    "    \n",
    "    lift_df[i, ] <- list(P, actu_renwd2, gain, lift)\n",
    "    i = i+1\n",
    "  }\n",
    "  return(calc_auc(lift_df))\n",
    "}"
   ]
  },
  {
   "cell_type": "code",
   "execution_count": 11,
   "metadata": {},
   "outputs": [
    {
     "data": {
      "text/html": [
       "<style>\n",
       ".list-inline {list-style: none; margin:0; padding: 0}\n",
       ".list-inline>li {display: inline-block}\n",
       ".list-inline>li:not(:last-child)::after {content: \"\\00b7\"; padding: 0 .5ex}\n",
       "</style>\n",
       "<ol class=list-inline><li>'pred_agg_glm_ALL'</li><li>'pred_agg_rf_ALL'</li><li>'pred_agg_glm'</li><li>'pred_agg_rf'</li><li>'pred_seg_glm_ALL'</li><li>'pred_seg_rf_ALL'</li><li>'pred_seg2_glm_ALL'</li><li>'pred_seg2_rf_ALL'</li><li>'pred_agg_glm_ALL_fb'</li><li>'pred_agg_rf_ALL_fb'</li><li>'pred_agg_glm_fb'</li><li>'pred_agg_rf_fb'</li><li>'pred_seg_glm_ALL_fb'</li><li>'pred_seg_rf_ALL_fb'</li><li>'pred_seg2_glm_ALL_fb'</li><li>'pred_seg2_rf_ALL_fb'</li><li>'pred_seg2_rf_ALL_fb2'</li><li>'pred_seg2_glm_ALL_fb2'</li><li>'pred_seg_rf_ALL_fb2'</li><li>'pred_seg_glm_ALL_fb2'</li><li>'pred_agg_rf_fb2'</li><li>'pred_agg_glm_fb2'</li><li>'pred_agg_rf_ALL_fb2'</li><li>'pred_agg_glm_ALL_fb2'</li></ol>\n"
      ],
      "text/latex": [
       "\\begin{enumerate*}\n",
       "\\item 'pred\\_agg\\_glm\\_ALL'\n",
       "\\item 'pred\\_agg\\_rf\\_ALL'\n",
       "\\item 'pred\\_agg\\_glm'\n",
       "\\item 'pred\\_agg\\_rf'\n",
       "\\item 'pred\\_seg\\_glm\\_ALL'\n",
       "\\item 'pred\\_seg\\_rf\\_ALL'\n",
       "\\item 'pred\\_seg2\\_glm\\_ALL'\n",
       "\\item 'pred\\_seg2\\_rf\\_ALL'\n",
       "\\item 'pred\\_agg\\_glm\\_ALL\\_fb'\n",
       "\\item 'pred\\_agg\\_rf\\_ALL\\_fb'\n",
       "\\item 'pred\\_agg\\_glm\\_fb'\n",
       "\\item 'pred\\_agg\\_rf\\_fb'\n",
       "\\item 'pred\\_seg\\_glm\\_ALL\\_fb'\n",
       "\\item 'pred\\_seg\\_rf\\_ALL\\_fb'\n",
       "\\item 'pred\\_seg2\\_glm\\_ALL\\_fb'\n",
       "\\item 'pred\\_seg2\\_rf\\_ALL\\_fb'\n",
       "\\item 'pred\\_seg2\\_rf\\_ALL\\_fb2'\n",
       "\\item 'pred\\_seg2\\_glm\\_ALL\\_fb2'\n",
       "\\item 'pred\\_seg\\_rf\\_ALL\\_fb2'\n",
       "\\item 'pred\\_seg\\_glm\\_ALL\\_fb2'\n",
       "\\item 'pred\\_agg\\_rf\\_fb2'\n",
       "\\item 'pred\\_agg\\_glm\\_fb2'\n",
       "\\item 'pred\\_agg\\_rf\\_ALL\\_fb2'\n",
       "\\item 'pred\\_agg\\_glm\\_ALL\\_fb2'\n",
       "\\end{enumerate*}\n"
      ],
      "text/markdown": [
       "1. 'pred_agg_glm_ALL'\n",
       "2. 'pred_agg_rf_ALL'\n",
       "3. 'pred_agg_glm'\n",
       "4. 'pred_agg_rf'\n",
       "5. 'pred_seg_glm_ALL'\n",
       "6. 'pred_seg_rf_ALL'\n",
       "7. 'pred_seg2_glm_ALL'\n",
       "8. 'pred_seg2_rf_ALL'\n",
       "9. 'pred_agg_glm_ALL_fb'\n",
       "10. 'pred_agg_rf_ALL_fb'\n",
       "11. 'pred_agg_glm_fb'\n",
       "12. 'pred_agg_rf_fb'\n",
       "13. 'pred_seg_glm_ALL_fb'\n",
       "14. 'pred_seg_rf_ALL_fb'\n",
       "15. 'pred_seg2_glm_ALL_fb'\n",
       "16. 'pred_seg2_rf_ALL_fb'\n",
       "17. 'pred_seg2_rf_ALL_fb2'\n",
       "18. 'pred_seg2_glm_ALL_fb2'\n",
       "19. 'pred_seg_rf_ALL_fb2'\n",
       "20. 'pred_seg_glm_ALL_fb2'\n",
       "21. 'pred_agg_rf_fb2'\n",
       "22. 'pred_agg_glm_fb2'\n",
       "23. 'pred_agg_rf_ALL_fb2'\n",
       "24. 'pred_agg_glm_ALL_fb2'\n",
       "\n",
       "\n"
      ],
      "text/plain": [
       " [1] \"pred_agg_glm_ALL\"      \"pred_agg_rf_ALL\"       \"pred_agg_glm\"         \n",
       " [4] \"pred_agg_rf\"           \"pred_seg_glm_ALL\"      \"pred_seg_rf_ALL\"      \n",
       " [7] \"pred_seg2_glm_ALL\"     \"pred_seg2_rf_ALL\"      \"pred_agg_glm_ALL_fb\"  \n",
       "[10] \"pred_agg_rf_ALL_fb\"    \"pred_agg_glm_fb\"       \"pred_agg_rf_fb\"       \n",
       "[13] \"pred_seg_glm_ALL_fb\"   \"pred_seg_rf_ALL_fb\"    \"pred_seg2_glm_ALL_fb\" \n",
       "[16] \"pred_seg2_rf_ALL_fb\"   \"pred_seg2_rf_ALL_fb2\"  \"pred_seg2_glm_ALL_fb2\"\n",
       "[19] \"pred_seg_rf_ALL_fb2\"   \"pred_seg_glm_ALL_fb2\"  \"pred_agg_rf_fb2\"      \n",
       "[22] \"pred_agg_glm_fb2\"      \"pred_agg_rf_ALL_fb2\"   \"pred_agg_glm_ALL_fb2\" "
      ]
     },
     "metadata": {},
     "output_type": "display_data"
    }
   ],
   "source": [
    "preds_df %>% select(contains('pred_')) %>% names()"
   ]
  },
  {
   "cell_type": "code",
   "execution_count": 12,
   "metadata": {},
   "outputs": [],
   "source": [
    "metrics_df <- preds_df %>%\n",
    "  group_by(tld_registrar_index) %>%\n",
    "  do( l10_seg2_glm = l10_dplyr(., pred_var = \"pred_seg2_glm_ALL\"),\n",
    "      l10_seg_glm = l10_dplyr(., pred_var = \"pred_seg_glm_ALL\"),\n",
    "       l10_agg_glm_ALL = l10_dplyr(., pred_var = \"pred_agg_glm_ALL\"),\n",
    "       l10_agg_glm = l10_dplyr(., pred_var = \"pred_agg_glm\"),\n",
    "       l10_seg2_rf = l10_dplyr(., pred_var = \"pred_seg2_rf_ALL\"),\n",
    "       l10_seg_rf = l10_dplyr(., pred_var = \"pred_seg_rf_ALL\"),\n",
    "       l10_agg_rf = l10_dplyr(., pred_var = \"pred_agg_rf\"),\n",
    "       l10_agg_rf_ALL = l10_dplyr(., pred_var = \"pred_agg_rf_ALL\"),\n",
    "     \n",
    "      auc_seg2_glm = auc_dplyr(., pred_var = \"pred_seg2_glm_ALL\"),\n",
    "      auc_seg_glm = auc_dplyr(., pred_var = \"pred_seg_glm_ALL\"),\n",
    "       auc_agg_glm_ALL = auc_dplyr(., pred_var = \"pred_agg_glm_ALL\"),\n",
    "       auc_agg_glm = auc_dplyr(., pred_var = \"pred_agg_glm\"),\n",
    "       auc_seg2_rf = auc_dplyr(., pred_var = \"pred_seg2_rf_ALL\"),\n",
    "       auc_seg_rf = auc_dplyr(., pred_var = \"pred_seg_rf_ALL\"),\n",
    "       auc_agg_rf_ALL = auc_dplyr(., pred_var = \"pred_agg_rf_ALL\"),\n",
    "       auc_agg_rf = auc_dplyr(., pred_var = \"pred_agg_rf\"),\n",
    "      \n",
    "     l10_seg2_glm_fb = l10_dplyr(., pred_var = \"pred_seg2_glm_ALL_fb2\"),\n",
    "      l10_seg_glm_fb = l10_dplyr(., pred_var = \"pred_seg_glm_ALL_fb2\"),\n",
    "       l10_agg_glm_fb = l10_dplyr(., pred_var = \"pred_agg_glm_fb2\"),\n",
    "       l10_agg_glm_ALL_fb = l10_dplyr(., pred_var = \"pred_agg_glm_ALL_fb2\"),\n",
    "       l10_seg2_rf_fb = l10_dplyr(., pred_var = \"pred_seg2_rf_ALL_fb2\"),\n",
    "       l10_seg_rf_fb = l10_dplyr(., pred_var = \"pred_seg_rf_ALL_fb2\"),\n",
    "       l10_agg_rf_fb = l10_dplyr(., pred_var = \"pred_agg_rf_fb2\"),\n",
    "       l10_agg_rf_ALL_fb = l10_dplyr(., pred_var = \"pred_agg_rf_ALL_fb2\"),\n",
    "     \n",
    "      auc_seg2_glm_fb = auc_dplyr(., pred_var = \"pred_seg2_glm_ALL_fb2\"),\n",
    "      auc_seg_glm_fb = auc_dplyr(., pred_var = \"pred_seg_glm_ALL_fb2\"),\n",
    "       auc_agg_glm_fb = auc_dplyr(., pred_var = \"pred_agg_glm_fb2\"),\n",
    "       auc_agg_glm_ALL_fb = auc_dplyr(., pred_var = \"pred_agg_glm_ALL_fb2\"),\n",
    "       auc_seg2_rf_fb = auc_dplyr(., pred_var = \"pred_seg2_rf_ALL_fb2\"),\n",
    "       auc_seg_rf_fb = auc_dplyr(., pred_var = \"pred_seg_rf_ALL_fb2\"),\n",
    "       auc_agg_rf_fb = auc_dplyr(., pred_var = \"pred_agg_rf_fb2\"),\n",
    "       auc_agg_rf_ALL_fb = auc_dplyr(., pred_var = \"pred_agg_rf_ALL_fb2\"),\n",
    "      )"
   ]
  },
  {
   "cell_type": "code",
   "execution_count": 13,
   "metadata": {},
   "outputs": [],
   "source": [
    "metrics_df2 <- metrics_df %>% mutate_if(is.list,as.numeric)"
   ]
  },
  {
   "cell_type": "code",
   "execution_count": 14,
   "metadata": {},
   "outputs": [
    {
     "data": {
      "text/html": [
       "<table>\n",
       "<caption>A rowwise_df: 6 × 33</caption>\n",
       "<thead>\n",
       "\t<tr><th scope=col>tld_registrar_index</th><th scope=col>l10_seg2_glm</th><th scope=col>l10_seg_glm</th><th scope=col>l10_agg_glm_ALL</th><th scope=col>l10_agg_glm</th><th scope=col>l10_seg2_rf</th><th scope=col>l10_seg_rf</th><th scope=col>l10_agg_rf</th><th scope=col>l10_agg_rf_ALL</th><th scope=col>auc_seg2_glm</th><th scope=col>auc_seg_glm</th><th scope=col>auc_agg_glm_ALL</th><th scope=col>auc_agg_glm</th><th scope=col>auc_seg2_rf</th><th scope=col>auc_seg_rf</th><th scope=col>auc_agg_rf_ALL</th><th scope=col>auc_agg_rf</th><th scope=col>l10_seg2_glm_fb</th><th scope=col>l10_seg_glm_fb</th><th scope=col>l10_agg_glm_fb</th><th scope=col>l10_agg_glm_ALL_fb</th><th scope=col>l10_seg2_rf_fb</th><th scope=col>l10_seg_rf_fb</th><th scope=col>l10_agg_rf_fb</th><th scope=col>l10_agg_rf_ALL_fb</th><th scope=col>auc_seg2_glm_fb</th><th scope=col>auc_seg_glm_fb</th><th scope=col>auc_agg_glm_fb</th><th scope=col>auc_agg_glm_ALL_fb</th><th scope=col>auc_seg2_rf_fb</th><th scope=col>auc_seg_rf_fb</th><th scope=col>auc_agg_rf_fb</th><th scope=col>auc_agg_rf_ALL_fb</th></tr>\n",
       "\t<tr><th scope=col>&lt;fct&gt;</th><th scope=col>&lt;dbl&gt;</th><th scope=col>&lt;dbl&gt;</th><th scope=col>&lt;dbl&gt;</th><th scope=col>&lt;dbl&gt;</th><th scope=col>&lt;dbl&gt;</th><th scope=col>&lt;dbl&gt;</th><th scope=col>&lt;dbl&gt;</th><th scope=col>&lt;dbl&gt;</th><th scope=col>&lt;dbl&gt;</th><th scope=col>&lt;dbl&gt;</th><th scope=col>&lt;dbl&gt;</th><th scope=col>&lt;dbl&gt;</th><th scope=col>&lt;dbl&gt;</th><th scope=col>&lt;dbl&gt;</th><th scope=col>&lt;dbl&gt;</th><th scope=col>&lt;dbl&gt;</th><th scope=col>&lt;dbl&gt;</th><th scope=col>&lt;dbl&gt;</th><th scope=col>&lt;dbl&gt;</th><th scope=col>&lt;dbl&gt;</th><th scope=col>&lt;dbl&gt;</th><th scope=col>&lt;dbl&gt;</th><th scope=col>&lt;dbl&gt;</th><th scope=col>&lt;dbl&gt;</th><th scope=col>&lt;dbl&gt;</th><th scope=col>&lt;dbl&gt;</th><th scope=col>&lt;dbl&gt;</th><th scope=col>&lt;dbl&gt;</th><th scope=col>&lt;dbl&gt;</th><th scope=col>&lt;dbl&gt;</th><th scope=col>&lt;dbl&gt;</th><th scope=col>&lt;dbl&gt;</th></tr>\n",
       "</thead>\n",
       "<tbody>\n",
       "\t<tr><td><span style=white-space:pre-wrap>fun1&amp;1 internet    </span></td><td>0.000000</td><td>0.000000</td><td>0.000000</td><td>0.000000</td><td>0.000000</td><td>1.666667</td><td>1.666667</td><td>1.666667</td><td>0.4666667</td><td>0.4500000</td><td>0.4500000</td><td>0.4500000</td><td>0.5333333</td><td>0.5333333</td><td>0.5500000</td><td>0.6166667</td><td>1.666667</td><td>1.666667</td><td>1.666667</td><td>1.666667</td><td>1.666667</td><td>1.666667</td><td>1.666667</td><td>1.666667</td><td>0.6500000</td><td>0.6500000</td><td>0.6500000</td><td>0.6500000</td><td>0.6500000</td><td>0.6500000</td><td>0.6500000</td><td>0.6500000</td></tr>\n",
       "\t<tr><td>fun10dencehispahard</td><td>     NaN</td><td>     NaN</td><td>     NaN</td><td>     NaN</td><td>     NaN</td><td>     NaN</td><td>     NaN</td><td>     NaN</td><td>      NaN</td><td>      NaN</td><td>      NaN</td><td>      NaN</td><td>      NaN</td><td>      NaN</td><td>      NaN</td><td>      NaN</td><td>     NaN</td><td>     NaN</td><td>     NaN</td><td>     NaN</td><td>     NaN</td><td>     NaN</td><td>     NaN</td><td>     NaN</td><td>      NaN</td><td>      NaN</td><td>      NaN</td><td>      NaN</td><td>      NaN</td><td>      NaN</td><td>      NaN</td><td>      NaN</td></tr>\n",
       "\t<tr><td>fun1api            </td><td>0.000000</td><td>0.000000</td><td>2.500000</td><td>0.000000</td><td>0.000000</td><td>2.500000</td><td>0.000000</td><td>0.000000</td><td>0.4000000</td><td>0.4500000</td><td>0.5500000</td><td>0.4250000</td><td>0.3500000</td><td>0.4750000</td><td>0.3500000</td><td>0.5500000</td><td>2.500000</td><td>2.500000</td><td>2.500000</td><td>2.500000</td><td>2.500000</td><td>2.500000</td><td>2.500000</td><td>2.500000</td><td>0.4250000</td><td>0.4250000</td><td>0.4250000</td><td>0.4250000</td><td>0.4250000</td><td>0.4250000</td><td>0.4250000</td><td>0.4250000</td></tr>\n",
       "\t<tr><td>funab name isp     </td><td>3.333333</td><td>3.333333</td><td>3.333333</td><td>3.333333</td><td>3.333333</td><td>6.666667</td><td>6.666667</td><td>3.333333</td><td>0.5166667</td><td>0.7166667</td><td>0.5166667</td><td>0.4833333</td><td>0.6500000</td><td>0.6500000</td><td>0.6833333</td><td>0.7833333</td><td>6.666667</td><td>6.666667</td><td>6.666667</td><td>6.666667</td><td>6.666667</td><td>6.666667</td><td>6.666667</td><td>6.666667</td><td>0.8833333</td><td>0.8833333</td><td>0.8833333</td><td>0.8833333</td><td>0.8833333</td><td>0.8833333</td><td>0.8833333</td><td>0.8833333</td></tr>\n",
       "\t<tr><td>funactive 24       </td><td>2.000000</td><td>0.000000</td><td>2.000000</td><td>2.000000</td><td>4.000000</td><td>2.000000</td><td>0.000000</td><td>2.000000</td><td>0.6300000</td><td>0.3700000</td><td>0.4900000</td><td>0.4700000</td><td>0.6700000</td><td>0.6500000</td><td>0.6500000</td><td>0.6300000</td><td>0.000000</td><td>0.000000</td><td>0.000000</td><td>0.000000</td><td>0.000000</td><td>0.000000</td><td>0.000000</td><td>0.000000</td><td>0.5300000</td><td>0.5300000</td><td>0.5300000</td><td>0.5300000</td><td>0.5300000</td><td>0.5300000</td><td>0.5300000</td><td>0.5300000</td></tr>\n",
       "\t<tr><td>funalibaba         </td><td>5.000000</td><td>5.028329</td><td>4.773371</td><td>4.730878</td><td>7.762040</td><td>7.691218</td><td>7.790368</td><td>7.832861</td><td>0.8390935</td><td>0.8284703</td><td>0.8087819</td><td>0.8077904</td><td>0.9164306</td><td>0.9165722</td><td>0.9198300</td><td>0.9189802</td><td>5.000000</td><td>5.028329</td><td>4.730878</td><td>4.773371</td><td>7.762040</td><td>7.691218</td><td>7.790368</td><td>7.832861</td><td>0.8390935</td><td>0.8284703</td><td>0.8077904</td><td>0.8087819</td><td>0.9164306</td><td>0.9165722</td><td>0.9189802</td><td>0.9198300</td></tr>\n",
       "</tbody>\n",
       "</table>\n"
      ],
      "text/latex": [
       "A rowwise\\_df: 6 × 33\n",
       "\\begin{tabular}{lllllllllllllllllllllllllllllllll}\n",
       " tld\\_registrar\\_index & l10\\_seg2\\_glm & l10\\_seg\\_glm & l10\\_agg\\_glm\\_ALL & l10\\_agg\\_glm & l10\\_seg2\\_rf & l10\\_seg\\_rf & l10\\_agg\\_rf & l10\\_agg\\_rf\\_ALL & auc\\_seg2\\_glm & auc\\_seg\\_glm & auc\\_agg\\_glm\\_ALL & auc\\_agg\\_glm & auc\\_seg2\\_rf & auc\\_seg\\_rf & auc\\_agg\\_rf\\_ALL & auc\\_agg\\_rf & l10\\_seg2\\_glm\\_fb & l10\\_seg\\_glm\\_fb & l10\\_agg\\_glm\\_fb & l10\\_agg\\_glm\\_ALL\\_fb & l10\\_seg2\\_rf\\_fb & l10\\_seg\\_rf\\_fb & l10\\_agg\\_rf\\_fb & l10\\_agg\\_rf\\_ALL\\_fb & auc\\_seg2\\_glm\\_fb & auc\\_seg\\_glm\\_fb & auc\\_agg\\_glm\\_fb & auc\\_agg\\_glm\\_ALL\\_fb & auc\\_seg2\\_rf\\_fb & auc\\_seg\\_rf\\_fb & auc\\_agg\\_rf\\_fb & auc\\_agg\\_rf\\_ALL\\_fb\\\\\n",
       " <fct> & <dbl> & <dbl> & <dbl> & <dbl> & <dbl> & <dbl> & <dbl> & <dbl> & <dbl> & <dbl> & <dbl> & <dbl> & <dbl> & <dbl> & <dbl> & <dbl> & <dbl> & <dbl> & <dbl> & <dbl> & <dbl> & <dbl> & <dbl> & <dbl> & <dbl> & <dbl> & <dbl> & <dbl> & <dbl> & <dbl> & <dbl> & <dbl>\\\\\n",
       "\\hline\n",
       "\t fun1\\&1 internet     & 0.000000 & 0.000000 & 0.000000 & 0.000000 & 0.000000 & 1.666667 & 1.666667 & 1.666667 & 0.4666667 & 0.4500000 & 0.4500000 & 0.4500000 & 0.5333333 & 0.5333333 & 0.5500000 & 0.6166667 & 1.666667 & 1.666667 & 1.666667 & 1.666667 & 1.666667 & 1.666667 & 1.666667 & 1.666667 & 0.6500000 & 0.6500000 & 0.6500000 & 0.6500000 & 0.6500000 & 0.6500000 & 0.6500000 & 0.6500000\\\\\n",
       "\t fun10dencehispahard &      NaN &      NaN &      NaN &      NaN &      NaN &      NaN &      NaN &      NaN &       NaN &       NaN &       NaN &       NaN &       NaN &       NaN &       NaN &       NaN &      NaN &      NaN &      NaN &      NaN &      NaN &      NaN &      NaN &      NaN &       NaN &       NaN &       NaN &       NaN &       NaN &       NaN &       NaN &       NaN\\\\\n",
       "\t fun1api             & 0.000000 & 0.000000 & 2.500000 & 0.000000 & 0.000000 & 2.500000 & 0.000000 & 0.000000 & 0.4000000 & 0.4500000 & 0.5500000 & 0.4250000 & 0.3500000 & 0.4750000 & 0.3500000 & 0.5500000 & 2.500000 & 2.500000 & 2.500000 & 2.500000 & 2.500000 & 2.500000 & 2.500000 & 2.500000 & 0.4250000 & 0.4250000 & 0.4250000 & 0.4250000 & 0.4250000 & 0.4250000 & 0.4250000 & 0.4250000\\\\\n",
       "\t funab name isp      & 3.333333 & 3.333333 & 3.333333 & 3.333333 & 3.333333 & 6.666667 & 6.666667 & 3.333333 & 0.5166667 & 0.7166667 & 0.5166667 & 0.4833333 & 0.6500000 & 0.6500000 & 0.6833333 & 0.7833333 & 6.666667 & 6.666667 & 6.666667 & 6.666667 & 6.666667 & 6.666667 & 6.666667 & 6.666667 & 0.8833333 & 0.8833333 & 0.8833333 & 0.8833333 & 0.8833333 & 0.8833333 & 0.8833333 & 0.8833333\\\\\n",
       "\t funactive 24        & 2.000000 & 0.000000 & 2.000000 & 2.000000 & 4.000000 & 2.000000 & 0.000000 & 2.000000 & 0.6300000 & 0.3700000 & 0.4900000 & 0.4700000 & 0.6700000 & 0.6500000 & 0.6500000 & 0.6300000 & 0.000000 & 0.000000 & 0.000000 & 0.000000 & 0.000000 & 0.000000 & 0.000000 & 0.000000 & 0.5300000 & 0.5300000 & 0.5300000 & 0.5300000 & 0.5300000 & 0.5300000 & 0.5300000 & 0.5300000\\\\\n",
       "\t funalibaba          & 5.000000 & 5.028329 & 4.773371 & 4.730878 & 7.762040 & 7.691218 & 7.790368 & 7.832861 & 0.8390935 & 0.8284703 & 0.8087819 & 0.8077904 & 0.9164306 & 0.9165722 & 0.9198300 & 0.9189802 & 5.000000 & 5.028329 & 4.730878 & 4.773371 & 7.762040 & 7.691218 & 7.790368 & 7.832861 & 0.8390935 & 0.8284703 & 0.8077904 & 0.8087819 & 0.9164306 & 0.9165722 & 0.9189802 & 0.9198300\\\\\n",
       "\\end{tabular}\n"
      ],
      "text/markdown": [
       "\n",
       "A rowwise_df: 6 × 33\n",
       "\n",
       "| tld_registrar_index &lt;fct&gt; | l10_seg2_glm &lt;dbl&gt; | l10_seg_glm &lt;dbl&gt; | l10_agg_glm_ALL &lt;dbl&gt; | l10_agg_glm &lt;dbl&gt; | l10_seg2_rf &lt;dbl&gt; | l10_seg_rf &lt;dbl&gt; | l10_agg_rf &lt;dbl&gt; | l10_agg_rf_ALL &lt;dbl&gt; | auc_seg2_glm &lt;dbl&gt; | auc_seg_glm &lt;dbl&gt; | auc_agg_glm_ALL &lt;dbl&gt; | auc_agg_glm &lt;dbl&gt; | auc_seg2_rf &lt;dbl&gt; | auc_seg_rf &lt;dbl&gt; | auc_agg_rf_ALL &lt;dbl&gt; | auc_agg_rf &lt;dbl&gt; | l10_seg2_glm_fb &lt;dbl&gt; | l10_seg_glm_fb &lt;dbl&gt; | l10_agg_glm_fb &lt;dbl&gt; | l10_agg_glm_ALL_fb &lt;dbl&gt; | l10_seg2_rf_fb &lt;dbl&gt; | l10_seg_rf_fb &lt;dbl&gt; | l10_agg_rf_fb &lt;dbl&gt; | l10_agg_rf_ALL_fb &lt;dbl&gt; | auc_seg2_glm_fb &lt;dbl&gt; | auc_seg_glm_fb &lt;dbl&gt; | auc_agg_glm_fb &lt;dbl&gt; | auc_agg_glm_ALL_fb &lt;dbl&gt; | auc_seg2_rf_fb &lt;dbl&gt; | auc_seg_rf_fb &lt;dbl&gt; | auc_agg_rf_fb &lt;dbl&gt; | auc_agg_rf_ALL_fb &lt;dbl&gt; |\n",
       "|---|---|---|---|---|---|---|---|---|---|---|---|---|---|---|---|---|---|---|---|---|---|---|---|---|---|---|---|---|---|---|---|---|\n",
       "| fun1&amp;1 internet     | 0.000000 | 0.000000 | 0.000000 | 0.000000 | 0.000000 | 1.666667 | 1.666667 | 1.666667 | 0.4666667 | 0.4500000 | 0.4500000 | 0.4500000 | 0.5333333 | 0.5333333 | 0.5500000 | 0.6166667 | 1.666667 | 1.666667 | 1.666667 | 1.666667 | 1.666667 | 1.666667 | 1.666667 | 1.666667 | 0.6500000 | 0.6500000 | 0.6500000 | 0.6500000 | 0.6500000 | 0.6500000 | 0.6500000 | 0.6500000 |\n",
       "| fun10dencehispahard |      NaN |      NaN |      NaN |      NaN |      NaN |      NaN |      NaN |      NaN |       NaN |       NaN |       NaN |       NaN |       NaN |       NaN |       NaN |       NaN |      NaN |      NaN |      NaN |      NaN |      NaN |      NaN |      NaN |      NaN |       NaN |       NaN |       NaN |       NaN |       NaN |       NaN |       NaN |       NaN |\n",
       "| fun1api             | 0.000000 | 0.000000 | 2.500000 | 0.000000 | 0.000000 | 2.500000 | 0.000000 | 0.000000 | 0.4000000 | 0.4500000 | 0.5500000 | 0.4250000 | 0.3500000 | 0.4750000 | 0.3500000 | 0.5500000 | 2.500000 | 2.500000 | 2.500000 | 2.500000 | 2.500000 | 2.500000 | 2.500000 | 2.500000 | 0.4250000 | 0.4250000 | 0.4250000 | 0.4250000 | 0.4250000 | 0.4250000 | 0.4250000 | 0.4250000 |\n",
       "| funab name isp      | 3.333333 | 3.333333 | 3.333333 | 3.333333 | 3.333333 | 6.666667 | 6.666667 | 3.333333 | 0.5166667 | 0.7166667 | 0.5166667 | 0.4833333 | 0.6500000 | 0.6500000 | 0.6833333 | 0.7833333 | 6.666667 | 6.666667 | 6.666667 | 6.666667 | 6.666667 | 6.666667 | 6.666667 | 6.666667 | 0.8833333 | 0.8833333 | 0.8833333 | 0.8833333 | 0.8833333 | 0.8833333 | 0.8833333 | 0.8833333 |\n",
       "| funactive 24        | 2.000000 | 0.000000 | 2.000000 | 2.000000 | 4.000000 | 2.000000 | 0.000000 | 2.000000 | 0.6300000 | 0.3700000 | 0.4900000 | 0.4700000 | 0.6700000 | 0.6500000 | 0.6500000 | 0.6300000 | 0.000000 | 0.000000 | 0.000000 | 0.000000 | 0.000000 | 0.000000 | 0.000000 | 0.000000 | 0.5300000 | 0.5300000 | 0.5300000 | 0.5300000 | 0.5300000 | 0.5300000 | 0.5300000 | 0.5300000 |\n",
       "| funalibaba          | 5.000000 | 5.028329 | 4.773371 | 4.730878 | 7.762040 | 7.691218 | 7.790368 | 7.832861 | 0.8390935 | 0.8284703 | 0.8087819 | 0.8077904 | 0.9164306 | 0.9165722 | 0.9198300 | 0.9189802 | 5.000000 | 5.028329 | 4.730878 | 4.773371 | 7.762040 | 7.691218 | 7.790368 | 7.832861 | 0.8390935 | 0.8284703 | 0.8077904 | 0.8087819 | 0.9164306 | 0.9165722 | 0.9189802 | 0.9198300 |\n",
       "\n"
      ],
      "text/plain": [
       "  tld_registrar_index l10_seg2_glm l10_seg_glm l10_agg_glm_ALL l10_agg_glm\n",
       "1 fun1&1 internet     0.000000     0.000000    0.000000        0.000000   \n",
       "2 fun10dencehispahard      NaN          NaN         NaN             NaN   \n",
       "3 fun1api             0.000000     0.000000    2.500000        0.000000   \n",
       "4 funab name isp      3.333333     3.333333    3.333333        3.333333   \n",
       "5 funactive 24        2.000000     0.000000    2.000000        2.000000   \n",
       "6 funalibaba          5.000000     5.028329    4.773371        4.730878   \n",
       "  l10_seg2_rf l10_seg_rf l10_agg_rf l10_agg_rf_ALL auc_seg2_glm auc_seg_glm\n",
       "1 0.000000    1.666667   1.666667   1.666667       0.4666667    0.4500000  \n",
       "2      NaN         NaN        NaN        NaN             NaN          NaN  \n",
       "3 0.000000    2.500000   0.000000   0.000000       0.4000000    0.4500000  \n",
       "4 3.333333    6.666667   6.666667   3.333333       0.5166667    0.7166667  \n",
       "5 4.000000    2.000000   0.000000   2.000000       0.6300000    0.3700000  \n",
       "6 7.762040    7.691218   7.790368   7.832861       0.8390935    0.8284703  \n",
       "  auc_agg_glm_ALL auc_agg_glm auc_seg2_rf auc_seg_rf auc_agg_rf_ALL auc_agg_rf\n",
       "1 0.4500000       0.4500000   0.5333333   0.5333333  0.5500000      0.6166667 \n",
       "2       NaN             NaN         NaN         NaN        NaN            NaN \n",
       "3 0.5500000       0.4250000   0.3500000   0.4750000  0.3500000      0.5500000 \n",
       "4 0.5166667       0.4833333   0.6500000   0.6500000  0.6833333      0.7833333 \n",
       "5 0.4900000       0.4700000   0.6700000   0.6500000  0.6500000      0.6300000 \n",
       "6 0.8087819       0.8077904   0.9164306   0.9165722  0.9198300      0.9189802 \n",
       "  l10_seg2_glm_fb l10_seg_glm_fb l10_agg_glm_fb l10_agg_glm_ALL_fb\n",
       "1 1.666667        1.666667       1.666667       1.666667          \n",
       "2      NaN             NaN            NaN            NaN          \n",
       "3 2.500000        2.500000       2.500000       2.500000          \n",
       "4 6.666667        6.666667       6.666667       6.666667          \n",
       "5 0.000000        0.000000       0.000000       0.000000          \n",
       "6 5.000000        5.028329       4.730878       4.773371          \n",
       "  l10_seg2_rf_fb l10_seg_rf_fb l10_agg_rf_fb l10_agg_rf_ALL_fb auc_seg2_glm_fb\n",
       "1 1.666667       1.666667      1.666667      1.666667          0.6500000      \n",
       "2      NaN            NaN           NaN           NaN                NaN      \n",
       "3 2.500000       2.500000      2.500000      2.500000          0.4250000      \n",
       "4 6.666667       6.666667      6.666667      6.666667          0.8833333      \n",
       "5 0.000000       0.000000      0.000000      0.000000          0.5300000      \n",
       "6 7.762040       7.691218      7.790368      7.832861          0.8390935      \n",
       "  auc_seg_glm_fb auc_agg_glm_fb auc_agg_glm_ALL_fb auc_seg2_rf_fb auc_seg_rf_fb\n",
       "1 0.6500000      0.6500000      0.6500000          0.6500000      0.6500000    \n",
       "2       NaN            NaN            NaN                NaN            NaN    \n",
       "3 0.4250000      0.4250000      0.4250000          0.4250000      0.4250000    \n",
       "4 0.8833333      0.8833333      0.8833333          0.8833333      0.8833333    \n",
       "5 0.5300000      0.5300000      0.5300000          0.5300000      0.5300000    \n",
       "6 0.8284703      0.8077904      0.8087819          0.9164306      0.9165722    \n",
       "  auc_agg_rf_fb auc_agg_rf_ALL_fb\n",
       "1 0.6500000     0.6500000        \n",
       "2       NaN           NaN        \n",
       "3 0.4250000     0.4250000        \n",
       "4 0.8833333     0.8833333        \n",
       "5 0.5300000     0.5300000        \n",
       "6 0.9189802     0.9198300        "
      ]
     },
     "metadata": {},
     "output_type": "display_data"
    }
   ],
   "source": [
    "head(metrics_df2)"
   ]
  },
  {
   "cell_type": "code",
   "execution_count": 15,
   "metadata": {},
   "outputs": [],
   "source": [
    "write.csv(metrics_df2, file=\"../../data/output/datapull_20201116/expiry_df_test_metrics.csv\", row.names=FALSE)\n",
    "system(\"gsutil cp /home/jupyter/local/Domains_202003/data/output/datapull_20201116/* gs://data_outputt/output/datapull_20201116/ \")\n",
    "# system(\"mv /home/jupyter/local/Domains_202003/data/output/* /home/jupyter/local/Domains_202003/data/\")"
   ]
  },
  {
   "cell_type": "code",
   "execution_count": 16,
   "metadata": {},
   "outputs": [],
   "source": [
    "metrics_df <- metrics_df2"
   ]
  },
  {
   "cell_type": "code",
   "execution_count": 17,
   "metadata": {},
   "outputs": [],
   "source": [
    "# metrics_df <- read.csv(\"../../data/../../data/output/datapull_20201116/expiry_df_test_metrics.csv\")"
   ]
  },
  {
   "cell_type": "code",
   "execution_count": 18,
   "metadata": {},
   "outputs": [],
   "source": [
    "# dim(metrics_df)\n",
    "# head(metrics_df)"
   ]
  },
  {
   "cell_type": "markdown",
   "metadata": {},
   "source": [
    "# Metalearning Prep"
   ]
  },
  {
   "cell_type": "markdown",
   "metadata": {},
   "source": [
    "## add geo to training data for feature eng"
   ]
  },
  {
   "cell_type": "code",
   "execution_count": 19,
   "metadata": {},
   "outputs": [],
   "source": [
    "# geo_suppl for train and test-pred data\n",
    "geoLookupDF <- read.csv(\"/home/jupyter/Domains_202003/data/input/PredictiveModelAnalysis_ResellerGeoMap.csv\")"
   ]
  },
  {
   "cell_type": "code",
   "execution_count": 20,
   "metadata": {},
   "outputs": [
    {
     "name": "stdout",
     "output_type": "stream",
     "text": [
      "Expiry data originally has 932347 rows and 932347 missing geo's.\n",
      "... after intial merge on reseller & _country, expiry has 932347 rows and 8 missing geo's.\n",
      "... after secondary fill with _country, expiry has 932347 rows and 8 missing geo's.\n",
      "... after manual tweaks with _country, expiry has 932347 rows and 8 missing geo's.\n"
     ]
    }
   ],
   "source": [
    "preds_geo_df <- geo_suppl(preds_df, geoLookupDF = geoLookupDF)"
   ]
  },
  {
   "cell_type": "code",
   "execution_count": 21,
   "metadata": {},
   "outputs": [
    {
     "data": {
      "text/html": [
       "<style>\n",
       ".list-inline {list-style: none; margin:0; padding: 0}\n",
       ".list-inline>li {display: inline-block}\n",
       ".list-inline>li:not(:last-child)::after {content: \"\\00b7\"; padding: 0 .5ex}\n",
       "</style>\n",
       "<ol class=list-inline><li>932347</li><li>59</li></ol>\n"
      ],
      "text/latex": [
       "\\begin{enumerate*}\n",
       "\\item 932347\n",
       "\\item 59\n",
       "\\end{enumerate*}\n"
      ],
      "text/markdown": [
       "1. 932347\n",
       "2. 59\n",
       "\n",
       "\n"
      ],
      "text/plain": [
       "[1] 932347     59"
      ]
     },
     "metadata": {},
     "output_type": "display_data"
    },
    {
     "data": {
      "text/html": [
       "<style>\n",
       ".list-inline {list-style: none; margin:0; padding: 0}\n",
       ".list-inline>li {display: inline-block}\n",
       ".list-inline>li:not(:last-child)::after {content: \"\\00b7\"; padding: 0 .5ex}\n",
       "</style>\n",
       "<ol class=list-inline><li>932347</li><li>59</li></ol>\n"
      ],
      "text/latex": [
       "\\begin{enumerate*}\n",
       "\\item 932347\n",
       "\\item 59\n",
       "\\end{enumerate*}\n"
      ],
      "text/markdown": [
       "1. 932347\n",
       "2. 59\n",
       "\n",
       "\n"
      ],
      "text/plain": [
       "[1] 932347     59"
      ]
     },
     "metadata": {},
     "output_type": "display_data"
    }
   ],
   "source": [
    "# ensure same number of dims as before\n",
    "dim(preds_df)\n",
    "dim(preds_geo_df)"
   ]
  },
  {
   "cell_type": "code",
   "execution_count": 22,
   "metadata": {},
   "outputs": [
    {
     "data": {
      "text/html": [
       "<table>\n",
       "<caption>A data.frame: 6 × 59</caption>\n",
       "<thead>\n",
       "\t<tr><th></th><th scope=col>reseller</th><th scope=col>reseller_country</th><th scope=col>reseller_geo</th><th scope=col>domain_id</th><th scope=col>renewal_type</th><th scope=col>renewed_count</th><th scope=col>expiry_date</th><th scope=col>creation_date</th><th scope=col>status</th><th scope=col>domain</th><th scope=col>registrar</th><th scope=col>registrant_country</th><th scope=col>reg_period</th><th scope=col>reg_revenue</th><th scope=col>reg_arpt</th><th scope=col>renew_mbg</th><th scope=col>renewal_item_id</th><th scope=col>renew_type</th><th scope=col>autorenew_type</th><th scope=col>renewal_status</th><th scope=col>renew_date</th><th scope=col>renew_arpt</th><th scope=col>gibb_score</th><th scope=col>pattern</th><th scope=col>pattern_domain_count</th><th scope=col>⋯</th><th scope=col>pred_agg_rf_ALL</th><th scope=col>pred_agg_glm</th><th scope=col>pred_agg_rf</th><th scope=col>pred_seg_glm_ALL</th><th scope=col>pred_seg_rf_ALL</th><th scope=col>pred_seg2_glm_ALL</th><th scope=col>pred_seg2_rf_ALL</th><th scope=col>pred_agg_glm_ALL_fb</th><th scope=col>pred_agg_rf_ALL_fb</th><th scope=col>pred_agg_glm_fb</th><th scope=col>pred_agg_rf_fb</th><th scope=col>pred_seg_glm_ALL_fb</th><th scope=col>pred_seg_rf_ALL_fb</th><th scope=col>pred_seg2_glm_ALL_fb</th><th scope=col>pred_seg2_rf_ALL_fb</th><th scope=col>reg_arpt_org</th><th scope=col>reg_arpt_slab</th><th scope=col>pred_seg2_rf_ALL_fb2</th><th scope=col>pred_seg2_glm_ALL_fb2</th><th scope=col>pred_seg_rf_ALL_fb2</th><th scope=col>pred_seg_glm_ALL_fb2</th><th scope=col>pred_agg_rf_fb2</th><th scope=col>pred_agg_glm_fb2</th><th scope=col>pred_agg_rf_ALL_fb2</th><th scope=col>pred_agg_glm_ALL_fb2</th></tr>\n",
       "\t<tr><th></th><th scope=col>&lt;fct&gt;</th><th scope=col>&lt;fct&gt;</th><th scope=col>&lt;fct&gt;</th><th scope=col>&lt;int&gt;</th><th scope=col>&lt;fct&gt;</th><th scope=col>&lt;int&gt;</th><th scope=col>&lt;fct&gt;</th><th scope=col>&lt;fct&gt;</th><th scope=col>&lt;fct&gt;</th><th scope=col>&lt;fct&gt;</th><th scope=col>&lt;fct&gt;</th><th scope=col>&lt;fct&gt;</th><th scope=col>&lt;int&gt;</th><th scope=col>&lt;dbl&gt;</th><th scope=col>&lt;dbl&gt;</th><th scope=col>&lt;int&gt;</th><th scope=col>&lt;int&gt;</th><th scope=col>&lt;fct&gt;</th><th scope=col>&lt;fct&gt;</th><th scope=col>&lt;fct&gt;</th><th scope=col>&lt;fct&gt;</th><th scope=col>&lt;dbl&gt;</th><th scope=col>&lt;dbl&gt;</th><th scope=col>&lt;fct&gt;</th><th scope=col>&lt;int&gt;</th><th scope=col>⋯</th><th scope=col>&lt;dbl&gt;</th><th scope=col>&lt;dbl&gt;</th><th scope=col>&lt;dbl&gt;</th><th scope=col>&lt;dbl&gt;</th><th scope=col>&lt;dbl&gt;</th><th scope=col>&lt;dbl&gt;</th><th scope=col>&lt;dbl&gt;</th><th scope=col>&lt;dbl&gt;</th><th scope=col>&lt;dbl&gt;</th><th scope=col>&lt;dbl&gt;</th><th scope=col>&lt;dbl&gt;</th><th scope=col>&lt;dbl&gt;</th><th scope=col>&lt;dbl&gt;</th><th scope=col>&lt;dbl&gt;</th><th scope=col>&lt;dbl&gt;</th><th scope=col>&lt;dbl&gt;</th><th scope=col>&lt;fct&gt;</th><th scope=col>&lt;dbl&gt;</th><th scope=col>&lt;dbl&gt;</th><th scope=col>&lt;dbl&gt;</th><th scope=col>&lt;dbl&gt;</th><th scope=col>&lt;dbl&gt;</th><th scope=col>&lt;dbl&gt;</th><th scope=col>&lt;dbl&gt;</th><th scope=col>&lt;dbl&gt;</th></tr>\n",
       "</thead>\n",
       "<tbody>\n",
       "\t<tr><th scope=row>1</th><td>            </td><td>       </td><td>NA</td><td>122049036</td><td>FirstTime</td><td>1</td><td>2020-08-30</td><td>2019-08-30</td><td>Active</td><td>qianxiyun.online            </td><td>            </td><td>NA</td><td>1</td><td>25</td><td>25.00</td><td>0</td><td>341703158</td><td>auto-renewal</td><td>unrealized</td><td>Not Renewd</td><td>2020-08-30</td><td> 6</td><td>0.63</td><td>qianxiyun            </td><td>1</td><td>⋯</td><td>0.9550391</td><td>   NA</td><td>0.7713468</td><td>   NA</td><td>       NA</td><td>       NA</td><td>       NA</td><td>   NA</td><td>0.9550391</td><td>   NA</td><td>0.7713468</td><td>   NA</td><td>       NA</td><td>       NA</td><td>       NA</td><td>25.00</td><td>(15,25]</td><td>0.5510000</td><td>0.5510000</td><td>0.5510000</td><td>0.551</td><td>0.7713468</td><td>0.551</td><td>0.9550391</td><td>0.551</td></tr>\n",
       "\t<tr><th scope=row>2</th><td>1&amp;1 Internet</td><td>Germany</td><td>EU</td><td> 43450963</td><td>FirstTime</td><td>1</td><td>2020-01-27</td><td>2017-01-27</td><td>Active</td><td><span style=white-space:pre-wrap>ncyc.online                 </span></td><td>1&amp;1 Internet</td><td>NA</td><td>3</td><td>55</td><td>18.33</td><td>0</td><td>239731665</td><td><span style=white-space:pre-wrap>transfer    </span></td><td><span style=white-space:pre-wrap>NA        </span></td><td><span style=white-space:pre-wrap>Renewed   </span></td><td>2019-10-13</td><td>25</td><td>1.18</td><td><span style=white-space:pre-wrap>ncyc                 </span></td><td>1</td><td>⋯</td><td>0.6088277</td><td>0.817</td><td>0.6676114</td><td>0.543</td><td>0.7268116</td><td>0.5644593</td><td>0.7075837</td><td>0.817</td><td>0.6088277</td><td>0.817</td><td>0.6676114</td><td>0.543</td><td>0.7268116</td><td>0.5644593</td><td>0.7075837</td><td>18.33</td><td>(15,25]</td><td>0.7075837</td><td>0.5644593</td><td>0.7268116</td><td>0.543</td><td>0.6676114</td><td>0.817</td><td>0.6088277</td><td>0.817</td></tr>\n",
       "\t<tr><th scope=row>3</th><td>1&amp;1 Internet</td><td>Germany</td><td>EU</td><td> 43576888</td><td>FirstTime</td><td>1</td><td>2020-01-31</td><td>2017-01-31</td><td>Active</td><td><span style=white-space:pre-wrap>audev.online                </span></td><td>1&amp;1 Internet</td><td>NA</td><td>3</td><td>55</td><td>18.33</td><td>0</td><td>287997921</td><td>auto-renewal</td><td><span style=white-space:pre-wrap>realized  </span></td><td><span style=white-space:pre-wrap>Renewed   </span></td><td>2020-01-31</td><td>25</td><td>2.57</td><td><span style=white-space:pre-wrap>audev                </span></td><td>1</td><td>⋯</td><td>0.6477227</td><td>0.814</td><td>0.6877335</td><td>0.536</td><td>0.7155560</td><td>0.5601541</td><td>0.7314602</td><td>0.814</td><td>0.6477227</td><td>0.814</td><td>0.6877335</td><td>0.536</td><td>0.7155560</td><td>0.5601541</td><td>0.7314602</td><td>18.33</td><td>(15,25]</td><td>0.7314602</td><td>0.5601541</td><td>0.7155560</td><td>0.536</td><td>0.6877335</td><td>0.814</td><td>0.6477227</td><td>0.814</td></tr>\n",
       "\t<tr><th scope=row>4</th><td>1&amp;1 Internet</td><td>Germany</td><td>EU</td><td> 43727452</td><td>FirstTime</td><td>1</td><td>2020-02-03</td><td>2017-02-03</td><td>Active</td><td><span style=white-space:pre-wrap>pinkpanther.store           </span></td><td>1&amp;1 Internet</td><td>NA</td><td>3</td><td>88</td><td>29.33</td><td>0</td><td>288786056</td><td>auto-renewal</td><td>unrealized</td><td>Not Renewd</td><td>2020-02-03</td><td>40</td><td>7.27</td><td><span style=white-space:pre-wrap>pinkpanther          </span></td><td>1</td><td>⋯</td><td>0.2384536</td><td>0.838</td><td>0.2588170</td><td>0.513</td><td>0.2754756</td><td>0.1642908</td><td>0.1535971</td><td>0.833</td><td>0.2384536</td><td>0.838</td><td>0.2588170</td><td>0.513</td><td>0.2754756</td><td>0.1642908</td><td>0.1535971</td><td>29.33</td><td>(25,35]</td><td>0.1535971</td><td>0.1642908</td><td>0.2754756</td><td>0.513</td><td>0.2588170</td><td>0.838</td><td>0.2384536</td><td>0.833</td></tr>\n",
       "\t<tr><th scope=row>5</th><td>1&amp;1 Internet</td><td>Germany</td><td>EU</td><td> 46911148</td><td>FirstTime</td><td>1</td><td>2020-04-17</td><td>2017-04-17</td><td>Active</td><td>lmengineeringservices.online</td><td>1&amp;1 Internet</td><td>NA</td><td>3</td><td>50</td><td>16.67</td><td>0</td><td>308749164</td><td>auto-renewal</td><td><span style=white-space:pre-wrap>realized  </span></td><td><span style=white-space:pre-wrap>Renewed   </span></td><td>2020-04-17</td><td>25</td><td>7.81</td><td>lmengineeringservices</td><td>1</td><td>⋯</td><td>0.3972606</td><td>0.775</td><td>0.3878439</td><td>0.468</td><td>0.3962124</td><td>0.4979086</td><td>0.3769304</td><td>0.772</td><td>0.3972606</td><td>0.775</td><td>0.3878439</td><td>0.468</td><td>0.3962124</td><td>0.4979086</td><td>0.3769304</td><td>16.67</td><td>(15,25]</td><td>0.3769304</td><td>0.4979086</td><td>0.3962124</td><td>0.468</td><td>0.3878439</td><td>0.775</td><td>0.3972606</td><td>0.772</td></tr>\n",
       "\t<tr><th scope=row>6</th><td>1&amp;1 Internet</td><td>Germany</td><td>EU</td><td> 47605334</td><td>FirstTime</td><td>1</td><td>2020-05-08</td><td>2017-05-08</td><td>Active</td><td><span style=white-space:pre-wrap>eagleeyeview.store          </span></td><td>1&amp;1 Internet</td><td>NA</td><td>3</td><td>90</td><td>30.00</td><td>0</td><td>313867134</td><td>auto-renewal</td><td>unrealized</td><td>Not Renewd</td><td>2020-05-08</td><td>40</td><td>3.41</td><td><span style=white-space:pre-wrap>eagleeyeview         </span></td><td>1</td><td>⋯</td><td>0.1925156</td><td>0.829</td><td>0.1730035</td><td>0.516</td><td>0.1675698</td><td>0.1723292</td><td>0.1027711</td><td>0.823</td><td>0.1925156</td><td>0.829</td><td>0.1730035</td><td>0.516</td><td>0.1675698</td><td>0.1723292</td><td>0.1027711</td><td>30.00</td><td>(25,35]</td><td>0.1027711</td><td>0.1723292</td><td>0.1675698</td><td>0.516</td><td>0.1730035</td><td>0.829</td><td>0.1925156</td><td>0.823</td></tr>\n",
       "</tbody>\n",
       "</table>\n"
      ],
      "text/latex": [
       "A data.frame: 6 × 59\n",
       "\\begin{tabular}{r|lllllllllllllllllllllllllllllllllllllllllllllllllll}\n",
       "  & reseller & reseller\\_country & reseller\\_geo & domain\\_id & renewal\\_type & renewed\\_count & expiry\\_date & creation\\_date & status & domain & registrar & registrant\\_country & reg\\_period & reg\\_revenue & reg\\_arpt & renew\\_mbg & renewal\\_item\\_id & renew\\_type & autorenew\\_type & renewal\\_status & renew\\_date & renew\\_arpt & gibb\\_score & pattern & pattern\\_domain\\_count & ⋯ & pred\\_agg\\_rf\\_ALL & pred\\_agg\\_glm & pred\\_agg\\_rf & pred\\_seg\\_glm\\_ALL & pred\\_seg\\_rf\\_ALL & pred\\_seg2\\_glm\\_ALL & pred\\_seg2\\_rf\\_ALL & pred\\_agg\\_glm\\_ALL\\_fb & pred\\_agg\\_rf\\_ALL\\_fb & pred\\_agg\\_glm\\_fb & pred\\_agg\\_rf\\_fb & pred\\_seg\\_glm\\_ALL\\_fb & pred\\_seg\\_rf\\_ALL\\_fb & pred\\_seg2\\_glm\\_ALL\\_fb & pred\\_seg2\\_rf\\_ALL\\_fb & reg\\_arpt\\_org & reg\\_arpt\\_slab & pred\\_seg2\\_rf\\_ALL\\_fb2 & pred\\_seg2\\_glm\\_ALL\\_fb2 & pred\\_seg\\_rf\\_ALL\\_fb2 & pred\\_seg\\_glm\\_ALL\\_fb2 & pred\\_agg\\_rf\\_fb2 & pred\\_agg\\_glm\\_fb2 & pred\\_agg\\_rf\\_ALL\\_fb2 & pred\\_agg\\_glm\\_ALL\\_fb2\\\\\n",
       "  & <fct> & <fct> & <fct> & <int> & <fct> & <int> & <fct> & <fct> & <fct> & <fct> & <fct> & <fct> & <int> & <dbl> & <dbl> & <int> & <int> & <fct> & <fct> & <fct> & <fct> & <dbl> & <dbl> & <fct> & <int> & ⋯ & <dbl> & <dbl> & <dbl> & <dbl> & <dbl> & <dbl> & <dbl> & <dbl> & <dbl> & <dbl> & <dbl> & <dbl> & <dbl> & <dbl> & <dbl> & <dbl> & <fct> & <dbl> & <dbl> & <dbl> & <dbl> & <dbl> & <dbl> & <dbl> & <dbl>\\\\\n",
       "\\hline\n",
       "\t1 &              &         & NA & 122049036 & FirstTime & 1 & 2020-08-30 & 2019-08-30 & Active & qianxiyun.online             &              & NA & 1 & 25 & 25.00 & 0 & 341703158 & auto-renewal & unrealized & Not Renewd & 2020-08-30 &  6 & 0.63 & qianxiyun             & 1 & ⋯ & 0.9550391 &    NA & 0.7713468 &    NA &        NA &        NA &        NA &    NA & 0.9550391 &    NA & 0.7713468 &    NA &        NA &        NA &        NA & 25.00 & (15,25{]} & 0.5510000 & 0.5510000 & 0.5510000 & 0.551 & 0.7713468 & 0.551 & 0.9550391 & 0.551\\\\\n",
       "\t2 & 1\\&1 Internet & Germany & EU &  43450963 & FirstTime & 1 & 2020-01-27 & 2017-01-27 & Active & ncyc.online                  & 1\\&1 Internet & NA & 3 & 55 & 18.33 & 0 & 239731665 & transfer     & NA         & Renewed    & 2019-10-13 & 25 & 1.18 & ncyc                  & 1 & ⋯ & 0.6088277 & 0.817 & 0.6676114 & 0.543 & 0.7268116 & 0.5644593 & 0.7075837 & 0.817 & 0.6088277 & 0.817 & 0.6676114 & 0.543 & 0.7268116 & 0.5644593 & 0.7075837 & 18.33 & (15,25{]} & 0.7075837 & 0.5644593 & 0.7268116 & 0.543 & 0.6676114 & 0.817 & 0.6088277 & 0.817\\\\\n",
       "\t3 & 1\\&1 Internet & Germany & EU &  43576888 & FirstTime & 1 & 2020-01-31 & 2017-01-31 & Active & audev.online                 & 1\\&1 Internet & NA & 3 & 55 & 18.33 & 0 & 287997921 & auto-renewal & realized   & Renewed    & 2020-01-31 & 25 & 2.57 & audev                 & 1 & ⋯ & 0.6477227 & 0.814 & 0.6877335 & 0.536 & 0.7155560 & 0.5601541 & 0.7314602 & 0.814 & 0.6477227 & 0.814 & 0.6877335 & 0.536 & 0.7155560 & 0.5601541 & 0.7314602 & 18.33 & (15,25{]} & 0.7314602 & 0.5601541 & 0.7155560 & 0.536 & 0.6877335 & 0.814 & 0.6477227 & 0.814\\\\\n",
       "\t4 & 1\\&1 Internet & Germany & EU &  43727452 & FirstTime & 1 & 2020-02-03 & 2017-02-03 & Active & pinkpanther.store            & 1\\&1 Internet & NA & 3 & 88 & 29.33 & 0 & 288786056 & auto-renewal & unrealized & Not Renewd & 2020-02-03 & 40 & 7.27 & pinkpanther           & 1 & ⋯ & 0.2384536 & 0.838 & 0.2588170 & 0.513 & 0.2754756 & 0.1642908 & 0.1535971 & 0.833 & 0.2384536 & 0.838 & 0.2588170 & 0.513 & 0.2754756 & 0.1642908 & 0.1535971 & 29.33 & (25,35{]} & 0.1535971 & 0.1642908 & 0.2754756 & 0.513 & 0.2588170 & 0.838 & 0.2384536 & 0.833\\\\\n",
       "\t5 & 1\\&1 Internet & Germany & EU &  46911148 & FirstTime & 1 & 2020-04-17 & 2017-04-17 & Active & lmengineeringservices.online & 1\\&1 Internet & NA & 3 & 50 & 16.67 & 0 & 308749164 & auto-renewal & realized   & Renewed    & 2020-04-17 & 25 & 7.81 & lmengineeringservices & 1 & ⋯ & 0.3972606 & 0.775 & 0.3878439 & 0.468 & 0.3962124 & 0.4979086 & 0.3769304 & 0.772 & 0.3972606 & 0.775 & 0.3878439 & 0.468 & 0.3962124 & 0.4979086 & 0.3769304 & 16.67 & (15,25{]} & 0.3769304 & 0.4979086 & 0.3962124 & 0.468 & 0.3878439 & 0.775 & 0.3972606 & 0.772\\\\\n",
       "\t6 & 1\\&1 Internet & Germany & EU &  47605334 & FirstTime & 1 & 2020-05-08 & 2017-05-08 & Active & eagleeyeview.store           & 1\\&1 Internet & NA & 3 & 90 & 30.00 & 0 & 313867134 & auto-renewal & unrealized & Not Renewd & 2020-05-08 & 40 & 3.41 & eagleeyeview          & 1 & ⋯ & 0.1925156 & 0.829 & 0.1730035 & 0.516 & 0.1675698 & 0.1723292 & 0.1027711 & 0.823 & 0.1925156 & 0.829 & 0.1730035 & 0.516 & 0.1675698 & 0.1723292 & 0.1027711 & 30.00 & (25,35{]} & 0.1027711 & 0.1723292 & 0.1675698 & 0.516 & 0.1730035 & 0.829 & 0.1925156 & 0.823\\\\\n",
       "\\end{tabular}\n"
      ],
      "text/markdown": [
       "\n",
       "A data.frame: 6 × 59\n",
       "\n",
       "| <!--/--> | reseller &lt;fct&gt; | reseller_country &lt;fct&gt; | reseller_geo &lt;fct&gt; | domain_id &lt;int&gt; | renewal_type &lt;fct&gt; | renewed_count &lt;int&gt; | expiry_date &lt;fct&gt; | creation_date &lt;fct&gt; | status &lt;fct&gt; | domain &lt;fct&gt; | registrar &lt;fct&gt; | registrant_country &lt;fct&gt; | reg_period &lt;int&gt; | reg_revenue &lt;dbl&gt; | reg_arpt &lt;dbl&gt; | renew_mbg &lt;int&gt; | renewal_item_id &lt;int&gt; | renew_type &lt;fct&gt; | autorenew_type &lt;fct&gt; | renewal_status &lt;fct&gt; | renew_date &lt;fct&gt; | renew_arpt &lt;dbl&gt; | gibb_score &lt;dbl&gt; | pattern &lt;fct&gt; | pattern_domain_count &lt;int&gt; | ⋯ ⋯ | pred_agg_rf_ALL &lt;dbl&gt; | pred_agg_glm &lt;dbl&gt; | pred_agg_rf &lt;dbl&gt; | pred_seg_glm_ALL &lt;dbl&gt; | pred_seg_rf_ALL &lt;dbl&gt; | pred_seg2_glm_ALL &lt;dbl&gt; | pred_seg2_rf_ALL &lt;dbl&gt; | pred_agg_glm_ALL_fb &lt;dbl&gt; | pred_agg_rf_ALL_fb &lt;dbl&gt; | pred_agg_glm_fb &lt;dbl&gt; | pred_agg_rf_fb &lt;dbl&gt; | pred_seg_glm_ALL_fb &lt;dbl&gt; | pred_seg_rf_ALL_fb &lt;dbl&gt; | pred_seg2_glm_ALL_fb &lt;dbl&gt; | pred_seg2_rf_ALL_fb &lt;dbl&gt; | reg_arpt_org &lt;dbl&gt; | reg_arpt_slab &lt;fct&gt; | pred_seg2_rf_ALL_fb2 &lt;dbl&gt; | pred_seg2_glm_ALL_fb2 &lt;dbl&gt; | pred_seg_rf_ALL_fb2 &lt;dbl&gt; | pred_seg_glm_ALL_fb2 &lt;dbl&gt; | pred_agg_rf_fb2 &lt;dbl&gt; | pred_agg_glm_fb2 &lt;dbl&gt; | pred_agg_rf_ALL_fb2 &lt;dbl&gt; | pred_agg_glm_ALL_fb2 &lt;dbl&gt; |\n",
       "|---|---|---|---|---|---|---|---|---|---|---|---|---|---|---|---|---|---|---|---|---|---|---|---|---|---|---|---|---|---|---|---|---|---|---|---|---|---|---|---|---|---|---|---|---|---|---|---|---|---|---|---|\n",
       "| 1 | <!----> | <!----> | NA | 122049036 | FirstTime | 1 | 2020-08-30 | 2019-08-30 | Active | qianxiyun.online             | <!----> | NA | 1 | 25 | 25.00 | 0 | 341703158 | auto-renewal | unrealized | Not Renewd | 2020-08-30 |  6 | 0.63 | qianxiyun             | 1 | ⋯ | 0.9550391 |    NA | 0.7713468 |    NA |        NA |        NA |        NA |    NA | 0.9550391 |    NA | 0.7713468 |    NA |        NA |        NA |        NA | 25.00 | (15,25] | 0.5510000 | 0.5510000 | 0.5510000 | 0.551 | 0.7713468 | 0.551 | 0.9550391 | 0.551 |\n",
       "| 2 | 1&amp;1 Internet | Germany | EU |  43450963 | FirstTime | 1 | 2020-01-27 | 2017-01-27 | Active | ncyc.online                  | 1&amp;1 Internet | NA | 3 | 55 | 18.33 | 0 | 239731665 | transfer     | NA         | Renewed    | 2019-10-13 | 25 | 1.18 | ncyc                  | 1 | ⋯ | 0.6088277 | 0.817 | 0.6676114 | 0.543 | 0.7268116 | 0.5644593 | 0.7075837 | 0.817 | 0.6088277 | 0.817 | 0.6676114 | 0.543 | 0.7268116 | 0.5644593 | 0.7075837 | 18.33 | (15,25] | 0.7075837 | 0.5644593 | 0.7268116 | 0.543 | 0.6676114 | 0.817 | 0.6088277 | 0.817 |\n",
       "| 3 | 1&amp;1 Internet | Germany | EU |  43576888 | FirstTime | 1 | 2020-01-31 | 2017-01-31 | Active | audev.online                 | 1&amp;1 Internet | NA | 3 | 55 | 18.33 | 0 | 287997921 | auto-renewal | realized   | Renewed    | 2020-01-31 | 25 | 2.57 | audev                 | 1 | ⋯ | 0.6477227 | 0.814 | 0.6877335 | 0.536 | 0.7155560 | 0.5601541 | 0.7314602 | 0.814 | 0.6477227 | 0.814 | 0.6877335 | 0.536 | 0.7155560 | 0.5601541 | 0.7314602 | 18.33 | (15,25] | 0.7314602 | 0.5601541 | 0.7155560 | 0.536 | 0.6877335 | 0.814 | 0.6477227 | 0.814 |\n",
       "| 4 | 1&amp;1 Internet | Germany | EU |  43727452 | FirstTime | 1 | 2020-02-03 | 2017-02-03 | Active | pinkpanther.store            | 1&amp;1 Internet | NA | 3 | 88 | 29.33 | 0 | 288786056 | auto-renewal | unrealized | Not Renewd | 2020-02-03 | 40 | 7.27 | pinkpanther           | 1 | ⋯ | 0.2384536 | 0.838 | 0.2588170 | 0.513 | 0.2754756 | 0.1642908 | 0.1535971 | 0.833 | 0.2384536 | 0.838 | 0.2588170 | 0.513 | 0.2754756 | 0.1642908 | 0.1535971 | 29.33 | (25,35] | 0.1535971 | 0.1642908 | 0.2754756 | 0.513 | 0.2588170 | 0.838 | 0.2384536 | 0.833 |\n",
       "| 5 | 1&amp;1 Internet | Germany | EU |  46911148 | FirstTime | 1 | 2020-04-17 | 2017-04-17 | Active | lmengineeringservices.online | 1&amp;1 Internet | NA | 3 | 50 | 16.67 | 0 | 308749164 | auto-renewal | realized   | Renewed    | 2020-04-17 | 25 | 7.81 | lmengineeringservices | 1 | ⋯ | 0.3972606 | 0.775 | 0.3878439 | 0.468 | 0.3962124 | 0.4979086 | 0.3769304 | 0.772 | 0.3972606 | 0.775 | 0.3878439 | 0.468 | 0.3962124 | 0.4979086 | 0.3769304 | 16.67 | (15,25] | 0.3769304 | 0.4979086 | 0.3962124 | 0.468 | 0.3878439 | 0.775 | 0.3972606 | 0.772 |\n",
       "| 6 | 1&amp;1 Internet | Germany | EU |  47605334 | FirstTime | 1 | 2020-05-08 | 2017-05-08 | Active | eagleeyeview.store           | 1&amp;1 Internet | NA | 3 | 90 | 30.00 | 0 | 313867134 | auto-renewal | unrealized | Not Renewd | 2020-05-08 | 40 | 3.41 | eagleeyeview          | 1 | ⋯ | 0.1925156 | 0.829 | 0.1730035 | 0.516 | 0.1675698 | 0.1723292 | 0.1027711 | 0.823 | 0.1925156 | 0.829 | 0.1730035 | 0.516 | 0.1675698 | 0.1723292 | 0.1027711 | 30.00 | (25,35] | 0.1027711 | 0.1723292 | 0.1675698 | 0.516 | 0.1730035 | 0.829 | 0.1925156 | 0.823 |\n",
       "\n"
      ],
      "text/plain": [
       "  reseller     reseller_country reseller_geo domain_id renewal_type\n",
       "1                               NA           122049036 FirstTime   \n",
       "2 1&1 Internet Germany          EU            43450963 FirstTime   \n",
       "3 1&1 Internet Germany          EU            43576888 FirstTime   \n",
       "4 1&1 Internet Germany          EU            43727452 FirstTime   \n",
       "5 1&1 Internet Germany          EU            46911148 FirstTime   \n",
       "6 1&1 Internet Germany          EU            47605334 FirstTime   \n",
       "  renewed_count expiry_date creation_date status domain                      \n",
       "1 1             2020-08-30  2019-08-30    Active qianxiyun.online            \n",
       "2 1             2020-01-27  2017-01-27    Active ncyc.online                 \n",
       "3 1             2020-01-31  2017-01-31    Active audev.online                \n",
       "4 1             2020-02-03  2017-02-03    Active pinkpanther.store           \n",
       "5 1             2020-04-17  2017-04-17    Active lmengineeringservices.online\n",
       "6 1             2020-05-08  2017-05-08    Active eagleeyeview.store          \n",
       "  registrar    registrant_country reg_period reg_revenue reg_arpt renew_mbg\n",
       "1              NA                 1          25          25.00    0        \n",
       "2 1&1 Internet NA                 3          55          18.33    0        \n",
       "3 1&1 Internet NA                 3          55          18.33    0        \n",
       "4 1&1 Internet NA                 3          88          29.33    0        \n",
       "5 1&1 Internet NA                 3          50          16.67    0        \n",
       "6 1&1 Internet NA                 3          90          30.00    0        \n",
       "  renewal_item_id renew_type   autorenew_type renewal_status renew_date\n",
       "1 341703158       auto-renewal unrealized     Not Renewd     2020-08-30\n",
       "2 239731665       transfer     NA             Renewed        2019-10-13\n",
       "3 287997921       auto-renewal realized       Renewed        2020-01-31\n",
       "4 288786056       auto-renewal unrealized     Not Renewd     2020-02-03\n",
       "5 308749164       auto-renewal realized       Renewed        2020-04-17\n",
       "6 313867134       auto-renewal unrealized     Not Renewd     2020-05-08\n",
       "  renew_arpt gibb_score pattern               pattern_domain_count ⋯\n",
       "1  6         0.63       qianxiyun             1                    ⋯\n",
       "2 25         1.18       ncyc                  1                    ⋯\n",
       "3 25         2.57       audev                 1                    ⋯\n",
       "4 40         7.27       pinkpanther           1                    ⋯\n",
       "5 25         7.81       lmengineeringservices 1                    ⋯\n",
       "6 40         3.41       eagleeyeview          1                    ⋯\n",
       "  pred_agg_rf_ALL pred_agg_glm pred_agg_rf pred_seg_glm_ALL pred_seg_rf_ALL\n",
       "1 0.9550391          NA        0.7713468      NA                   NA      \n",
       "2 0.6088277       0.817        0.6676114   0.543            0.7268116      \n",
       "3 0.6477227       0.814        0.6877335   0.536            0.7155560      \n",
       "4 0.2384536       0.838        0.2588170   0.513            0.2754756      \n",
       "5 0.3972606       0.775        0.3878439   0.468            0.3962124      \n",
       "6 0.1925156       0.829        0.1730035   0.516            0.1675698      \n",
       "  pred_seg2_glm_ALL pred_seg2_rf_ALL pred_agg_glm_ALL_fb pred_agg_rf_ALL_fb\n",
       "1        NA                NA           NA               0.9550391         \n",
       "2 0.5644593         0.7075837        0.817               0.6088277         \n",
       "3 0.5601541         0.7314602        0.814               0.6477227         \n",
       "4 0.1642908         0.1535971        0.833               0.2384536         \n",
       "5 0.4979086         0.3769304        0.772               0.3972606         \n",
       "6 0.1723292         0.1027711        0.823               0.1925156         \n",
       "  pred_agg_glm_fb pred_agg_rf_fb pred_seg_glm_ALL_fb pred_seg_rf_ALL_fb\n",
       "1    NA           0.7713468         NA                      NA         \n",
       "2 0.817           0.6676114      0.543               0.7268116         \n",
       "3 0.814           0.6877335      0.536               0.7155560         \n",
       "4 0.838           0.2588170      0.513               0.2754756         \n",
       "5 0.775           0.3878439      0.468               0.3962124         \n",
       "6 0.829           0.1730035      0.516               0.1675698         \n",
       "  pred_seg2_glm_ALL_fb pred_seg2_rf_ALL_fb reg_arpt_org reg_arpt_slab\n",
       "1        NA                   NA           25.00        (15,25]      \n",
       "2 0.5644593            0.7075837           18.33        (15,25]      \n",
       "3 0.5601541            0.7314602           18.33        (15,25]      \n",
       "4 0.1642908            0.1535971           29.33        (25,35]      \n",
       "5 0.4979086            0.3769304           16.67        (15,25]      \n",
       "6 0.1723292            0.1027711           30.00        (25,35]      \n",
       "  pred_seg2_rf_ALL_fb2 pred_seg2_glm_ALL_fb2 pred_seg_rf_ALL_fb2\n",
       "1 0.5510000            0.5510000             0.5510000          \n",
       "2 0.7075837            0.5644593             0.7268116          \n",
       "3 0.7314602            0.5601541             0.7155560          \n",
       "4 0.1535971            0.1642908             0.2754756          \n",
       "5 0.3769304            0.4979086             0.3962124          \n",
       "6 0.1027711            0.1723292             0.1675698          \n",
       "  pred_seg_glm_ALL_fb2 pred_agg_rf_fb2 pred_agg_glm_fb2 pred_agg_rf_ALL_fb2\n",
       "1 0.551                0.7713468       0.551            0.9550391          \n",
       "2 0.543                0.6676114       0.817            0.6088277          \n",
       "3 0.536                0.6877335       0.814            0.6477227          \n",
       "4 0.513                0.2588170       0.838            0.2384536          \n",
       "5 0.468                0.3878439       0.775            0.3972606          \n",
       "6 0.516                0.1730035       0.829            0.1925156          \n",
       "  pred_agg_glm_ALL_fb2\n",
       "1 0.551               \n",
       "2 0.817               \n",
       "3 0.814               \n",
       "4 0.833               \n",
       "5 0.772               \n",
       "6 0.823               "
      ]
     },
     "metadata": {},
     "output_type": "display_data"
    }
   ],
   "source": [
    "head(preds_geo_df)"
   ]
  },
  {
   "cell_type": "markdown",
   "metadata": {},
   "source": [
    "## Feature Engineering for tld-reseller level "
   ]
  },
  {
   "cell_type": "code",
   "execution_count": 23,
   "metadata": {},
   "outputs": [
    {
     "name": "stderr",
     "output_type": "stream",
     "text": [
      "`summarise()` ungrouping output (override with `.groups` argument)\n",
      "\n"
     ]
    },
    {
     "data": {
      "text/html": [
       "<style>\n",
       ".list-inline {list-style: none; margin:0; padding: 0}\n",
       ".list-inline>li {display: inline-block}\n",
       ".list-inline>li:not(:last-child)::after {content: \"\\00b7\"; padding: 0 .5ex}\n",
       "</style>\n",
       "<ol class=list-inline><li>1758</li><li>42</li></ol>\n"
      ],
      "text/latex": [
       "\\begin{enumerate*}\n",
       "\\item 1758\n",
       "\\item 42\n",
       "\\end{enumerate*}\n"
      ],
      "text/markdown": [
       "1. 1758\n",
       "2. 42\n",
       "\n",
       "\n"
      ],
      "text/plain": [
       "[1] 1758   42"
      ]
     },
     "metadata": {},
     "output_type": "display_data"
    },
    {
     "data": {
      "text/html": [
       "<table>\n",
       "<caption>A tibble: 6 × 42</caption>\n",
       "<thead>\n",
       "\t<tr><th scope=col>tld_registrar_index</th><th scope=col>geo_maj</th><th scope=col>geo_cnt</th><th scope=col>n</th><th scope=col>ren_prp</th><th scope=col>tld_cnt</th><th scope=col>tld_rat</th><th scope=col>daydom_min</th><th scope=col>daydom_max</th><th scope=col>daydom_mean</th><th scope=col>daydom_rng</th><th scope=col>daydom_std</th><th scope=col>daydom_skew</th><th scope=col>daydom_kurt</th><th scope=col>sldlen_min</th><th scope=col>sldlen_max</th><th scope=col>sldlen_mean</th><th scope=col>sldlen_rng</th><th scope=col>sldlen_std</th><th scope=col>sldlen_skew</th><th scope=col>sldlen_kurt</th><th scope=col>gibbs_min</th><th scope=col>gibbs_max</th><th scope=col>gibbs_mean</th><th scope=col>gibbs_rng</th><th scope=col>gibbs_std</th><th scope=col>gibbs_skew</th><th scope=col>gibbs_kurt</th><th scope=col>pdcnt_min</th><th scope=col>pdcnt_max</th><th scope=col>pdcnt_mean</th><th scope=col>pdcnt_rng</th><th scope=col>pdcnt_std</th><th scope=col>pdcnt_skew</th><th scope=col>pdcnt_kurt</th><th scope=col>regarpt_min</th><th scope=col>regarpt_max</th><th scope=col>regarpt_mean</th><th scope=col>regarpt_rng</th><th scope=col>regarpt_std</th><th scope=col>regarpt_skew</th><th scope=col>regarpt_kurt</th></tr>\n",
       "\t<tr><th scope=col>&lt;fct&gt;</th><th scope=col>&lt;fct&gt;</th><th scope=col>&lt;int&gt;</th><th scope=col>&lt;int&gt;</th><th scope=col>&lt;dbl&gt;</th><th scope=col>&lt;int&gt;</th><th scope=col>&lt;dbl&gt;</th><th scope=col>&lt;int&gt;</th><th scope=col>&lt;int&gt;</th><th scope=col>&lt;dbl&gt;</th><th scope=col>&lt;int&gt;</th><th scope=col>&lt;dbl&gt;</th><th scope=col>&lt;dbl&gt;</th><th scope=col>&lt;dbl&gt;</th><th scope=col>&lt;int&gt;</th><th scope=col>&lt;int&gt;</th><th scope=col>&lt;dbl&gt;</th><th scope=col>&lt;int&gt;</th><th scope=col>&lt;dbl&gt;</th><th scope=col>&lt;dbl&gt;</th><th scope=col>&lt;dbl&gt;</th><th scope=col>&lt;dbl&gt;</th><th scope=col>&lt;dbl&gt;</th><th scope=col>&lt;dbl&gt;</th><th scope=col>&lt;dbl&gt;</th><th scope=col>&lt;dbl&gt;</th><th scope=col>&lt;dbl&gt;</th><th scope=col>&lt;dbl&gt;</th><th scope=col>&lt;int&gt;</th><th scope=col>&lt;int&gt;</th><th scope=col>&lt;dbl&gt;</th><th scope=col>&lt;int&gt;</th><th scope=col>&lt;dbl&gt;</th><th scope=col>&lt;dbl&gt;</th><th scope=col>&lt;dbl&gt;</th><th scope=col>&lt;dbl&gt;</th><th scope=col>&lt;dbl&gt;</th><th scope=col>&lt;dbl&gt;</th><th scope=col>&lt;dbl&gt;</th><th scope=col>&lt;dbl&gt;</th><th scope=col>&lt;dbl&gt;</th><th scope=col>&lt;dbl&gt;</th></tr>\n",
       "</thead>\n",
       "<tbody>\n",
       "\t<tr><td><span style=white-space:pre-wrap>fun1&amp;1 internet    </span></td><td><span style=white-space:pre-wrap>EU   </span></td><td>1</td><td><span style=white-space:pre-wrap>   11</span></td><td>0.54545455</td><td>1</td><td>9.090909e-02</td><td> 1</td><td><span style=white-space:pre-wrap>   5</span></td><td><span style=white-space:pre-wrap>   2.181818</span></td><td><span style=white-space:pre-wrap>   4</span></td><td><span style=white-space:pre-wrap>   1.537412</span></td><td> 0.9266651</td><td>-0.7811140</td><td>4</td><td>14</td><td>7.636364</td><td>10</td><td>2.907670</td><td>0.7720046</td><td>-0.3922768</td><td>1.71</td><td><span style=white-space:pre-wrap>  9.01</span></td><td>4.655455</td><td><span style=white-space:pre-wrap>  7.30</span></td><td> 2.602016</td><td> 6.453797e-01</td><td>-1.217221</td><td>1</td><td><span style=white-space:pre-wrap>  3</span></td><td> 1.363636</td><td><span style=white-space:pre-wrap>  2</span></td><td> 0.6741999</td><td>1.338593</td><td> 0.3606612</td><td>15.0000</td><td>15.0</td><td>15.0000000</td><td> 0.0000</td><td>0.0000000</td><td><span style=white-space:pre-wrap>     NaN</span></td><td><span style=white-space:pre-wrap>       NaN</span></td></tr>\n",
       "\t<tr><td>fun10dencehispahard</td><td>EU   </td><td>1</td><td>    2</td><td>0.00000000</td><td>1</td><td>5.000000e-01</td><td> 1</td><td>   1</td><td>   1.000000</td><td>   0</td><td>   0.000000</td><td>       NaN</td><td>       NaN</td><td>5</td><td> 8</td><td>6.500000</td><td> 3</td><td>2.121320</td><td>0.0000000</td><td>-2.7500000</td><td>3.28</td><td>  8.62</td><td>5.950000</td><td>  5.34</td><td> 3.775950</td><td> 9.898575e-17</td><td>-2.750000</td><td>1</td><td>  1</td><td> 1.000000</td><td>  0</td><td> 0.0000000</td><td>     NaN</td><td>       NaN</td><td>15.0000</td><td>15.0</td><td>15.0000000</td><td> 0.0000</td><td>0.0000000</td><td>     NaN</td><td>       NaN</td></tr>\n",
       "\t<tr><td>fun1api            </td><td>EU   </td><td>1</td><td>    8</td><td>0.50000000</td><td>1</td><td>1.250000e-01</td><td> 1</td><td>   1</td><td>   1.000000</td><td>   0</td><td>   0.000000</td><td>       NaN</td><td>       NaN</td><td>4</td><td>15</td><td>8.875000</td><td>11</td><td>3.522884</td><td>0.4848693</td><td>-1.1434523</td><td>2.00</td><td>  6.09</td><td>4.396250</td><td>  4.09</td><td> 1.360167</td><td>-3.531195e-01</td><td>-1.301177</td><td>1</td><td>  1</td><td> 1.000000</td><td>  0</td><td> 0.0000000</td><td>     NaN</td><td>       NaN</td><td> 3.0000</td><td> 5.0</td><td> 4.0000000</td><td> 2.0000</td><td>1.0690450</td><td>0.000000</td><td> -2.234375</td></tr>\n",
       "\t<tr><td>funab name isp     </td><td>EU   </td><td>1</td><td>   47</td><td>0.06382979</td><td>1</td><td>2.127660e-02</td><td> 1</td><td> 119</td><td>  82.872340</td><td> 118</td><td>  46.011632</td><td>-0.8738906</td><td>-0.9645903</td><td>4</td><td>61</td><td>9.446809</td><td>57</td><td>8.334863</td><td>5.0179710</td><td>28.2025571</td><td>0.28</td><td> 17.92</td><td>4.695745</td><td> 17.64</td><td> 3.112366</td><td> 1.526987e+00</td><td> 4.826982</td><td>1</td><td>  3</td><td> 1.191489</td><td>  2</td><td> 0.4490714</td><td>2.194541</td><td> 4.1889225</td><td> 0.0001</td><td>15.0</td><td> 0.8511511</td><td>14.9999</td><td>2.6207801</td><td>3.740087</td><td> 15.752244</td></tr>\n",
       "\t<tr><td>funactive 24       </td><td>EU   </td><td>1</td><td>   25</td><td>0.20000000</td><td>1</td><td>4.000000e-02</td><td> 1</td><td>  14</td><td>   5.040000</td><td>  13</td><td>   5.020624</td><td> 1.0166170</td><td>-0.7554981</td><td>4</td><td>19</td><td>7.080000</td><td>15</td><td>3.451087</td><td>1.9087776</td><td> 3.6548313</td><td>0.59</td><td>100.00</td><td>9.743600</td><td> 99.41</td><td>19.035942</td><td> 4.242864e+00</td><td>17.222688</td><td>1</td><td> 10</td><td> 1.520000</td><td>  9</td><td> 1.8055470</td><td>4.127909</td><td>16.4692321</td><td> 0.5000</td><td> 0.5</td><td> 0.5000000</td><td> 0.0000</td><td>0.0000000</td><td>     NaN</td><td>       NaN</td></tr>\n",
       "\t<tr><td>funalibaba         </td><td>China</td><td>1</td><td>35046</td><td>0.02014495</td><td>1</td><td>2.853393e-05</td><td>19</td><td>7163</td><td>1299.015380</td><td>7144</td><td>1600.896587</td><td> 2.5691646</td><td> 6.0230231</td><td>3</td><td>63</td><td>6.947155</td><td>60</td><td>3.018534</td><td>2.7839889</td><td>17.5227635</td><td>0.00</td><td>100.00</td><td>5.653614</td><td>100.00</td><td>19.616978</td><td> 4.525337e+00</td><td>18.821500</td><td>1</td><td>400</td><td>23.168949</td><td>399</td><td>52.1502807</td><td>3.559110</td><td>14.2005513</td><td> 0.0001</td><td> 5.0</td><td> 0.7338244</td><td> 4.9999</td><td>0.1809528</td><td>3.717292</td><td>137.140359</td></tr>\n",
       "</tbody>\n",
       "</table>\n"
      ],
      "text/latex": [
       "A tibble: 6 × 42\n",
       "\\begin{tabular}{llllllllllllllllllllllllllllllllllllllllll}\n",
       " tld\\_registrar\\_index & geo\\_maj & geo\\_cnt & n & ren\\_prp & tld\\_cnt & tld\\_rat & daydom\\_min & daydom\\_max & daydom\\_mean & daydom\\_rng & daydom\\_std & daydom\\_skew & daydom\\_kurt & sldlen\\_min & sldlen\\_max & sldlen\\_mean & sldlen\\_rng & sldlen\\_std & sldlen\\_skew & sldlen\\_kurt & gibbs\\_min & gibbs\\_max & gibbs\\_mean & gibbs\\_rng & gibbs\\_std & gibbs\\_skew & gibbs\\_kurt & pdcnt\\_min & pdcnt\\_max & pdcnt\\_mean & pdcnt\\_rng & pdcnt\\_std & pdcnt\\_skew & pdcnt\\_kurt & regarpt\\_min & regarpt\\_max & regarpt\\_mean & regarpt\\_rng & regarpt\\_std & regarpt\\_skew & regarpt\\_kurt\\\\\n",
       " <fct> & <fct> & <int> & <int> & <dbl> & <int> & <dbl> & <int> & <int> & <dbl> & <int> & <dbl> & <dbl> & <dbl> & <int> & <int> & <dbl> & <int> & <dbl> & <dbl> & <dbl> & <dbl> & <dbl> & <dbl> & <dbl> & <dbl> & <dbl> & <dbl> & <int> & <int> & <dbl> & <int> & <dbl> & <dbl> & <dbl> & <dbl> & <dbl> & <dbl> & <dbl> & <dbl> & <dbl> & <dbl>\\\\\n",
       "\\hline\n",
       "\t fun1\\&1 internet     & EU    & 1 &    11 & 0.54545455 & 1 & 9.090909e-02 &  1 &    5 &    2.181818 &    4 &    1.537412 &  0.9266651 & -0.7811140 & 4 & 14 & 7.636364 & 10 & 2.907670 & 0.7720046 & -0.3922768 & 1.71 &   9.01 & 4.655455 &   7.30 &  2.602016 &  6.453797e-01 & -1.217221 & 1 &   3 &  1.363636 &   2 &  0.6741999 & 1.338593 &  0.3606612 & 15.0000 & 15.0 & 15.0000000 &  0.0000 & 0.0000000 &      NaN &        NaN\\\\\n",
       "\t fun10dencehispahard & EU    & 1 &     2 & 0.00000000 & 1 & 5.000000e-01 &  1 &    1 &    1.000000 &    0 &    0.000000 &        NaN &        NaN & 5 &  8 & 6.500000 &  3 & 2.121320 & 0.0000000 & -2.7500000 & 3.28 &   8.62 & 5.950000 &   5.34 &  3.775950 &  9.898575e-17 & -2.750000 & 1 &   1 &  1.000000 &   0 &  0.0000000 &      NaN &        NaN & 15.0000 & 15.0 & 15.0000000 &  0.0000 & 0.0000000 &      NaN &        NaN\\\\\n",
       "\t fun1api             & EU    & 1 &     8 & 0.50000000 & 1 & 1.250000e-01 &  1 &    1 &    1.000000 &    0 &    0.000000 &        NaN &        NaN & 4 & 15 & 8.875000 & 11 & 3.522884 & 0.4848693 & -1.1434523 & 2.00 &   6.09 & 4.396250 &   4.09 &  1.360167 & -3.531195e-01 & -1.301177 & 1 &   1 &  1.000000 &   0 &  0.0000000 &      NaN &        NaN &  3.0000 &  5.0 &  4.0000000 &  2.0000 & 1.0690450 & 0.000000 &  -2.234375\\\\\n",
       "\t funab name isp      & EU    & 1 &    47 & 0.06382979 & 1 & 2.127660e-02 &  1 &  119 &   82.872340 &  118 &   46.011632 & -0.8738906 & -0.9645903 & 4 & 61 & 9.446809 & 57 & 8.334863 & 5.0179710 & 28.2025571 & 0.28 &  17.92 & 4.695745 &  17.64 &  3.112366 &  1.526987e+00 &  4.826982 & 1 &   3 &  1.191489 &   2 &  0.4490714 & 2.194541 &  4.1889225 &  0.0001 & 15.0 &  0.8511511 & 14.9999 & 2.6207801 & 3.740087 &  15.752244\\\\\n",
       "\t funactive 24        & EU    & 1 &    25 & 0.20000000 & 1 & 4.000000e-02 &  1 &   14 &    5.040000 &   13 &    5.020624 &  1.0166170 & -0.7554981 & 4 & 19 & 7.080000 & 15 & 3.451087 & 1.9087776 &  3.6548313 & 0.59 & 100.00 & 9.743600 &  99.41 & 19.035942 &  4.242864e+00 & 17.222688 & 1 &  10 &  1.520000 &   9 &  1.8055470 & 4.127909 & 16.4692321 &  0.5000 &  0.5 &  0.5000000 &  0.0000 & 0.0000000 &      NaN &        NaN\\\\\n",
       "\t funalibaba          & China & 1 & 35046 & 0.02014495 & 1 & 2.853393e-05 & 19 & 7163 & 1299.015380 & 7144 & 1600.896587 &  2.5691646 &  6.0230231 & 3 & 63 & 6.947155 & 60 & 3.018534 & 2.7839889 & 17.5227635 & 0.00 & 100.00 & 5.653614 & 100.00 & 19.616978 &  4.525337e+00 & 18.821500 & 1 & 400 & 23.168949 & 399 & 52.1502807 & 3.559110 & 14.2005513 &  0.0001 &  5.0 &  0.7338244 &  4.9999 & 0.1809528 & 3.717292 & 137.140359\\\\\n",
       "\\end{tabular}\n"
      ],
      "text/markdown": [
       "\n",
       "A tibble: 6 × 42\n",
       "\n",
       "| tld_registrar_index &lt;fct&gt; | geo_maj &lt;fct&gt; | geo_cnt &lt;int&gt; | n &lt;int&gt; | ren_prp &lt;dbl&gt; | tld_cnt &lt;int&gt; | tld_rat &lt;dbl&gt; | daydom_min &lt;int&gt; | daydom_max &lt;int&gt; | daydom_mean &lt;dbl&gt; | daydom_rng &lt;int&gt; | daydom_std &lt;dbl&gt; | daydom_skew &lt;dbl&gt; | daydom_kurt &lt;dbl&gt; | sldlen_min &lt;int&gt; | sldlen_max &lt;int&gt; | sldlen_mean &lt;dbl&gt; | sldlen_rng &lt;int&gt; | sldlen_std &lt;dbl&gt; | sldlen_skew &lt;dbl&gt; | sldlen_kurt &lt;dbl&gt; | gibbs_min &lt;dbl&gt; | gibbs_max &lt;dbl&gt; | gibbs_mean &lt;dbl&gt; | gibbs_rng &lt;dbl&gt; | gibbs_std &lt;dbl&gt; | gibbs_skew &lt;dbl&gt; | gibbs_kurt &lt;dbl&gt; | pdcnt_min &lt;int&gt; | pdcnt_max &lt;int&gt; | pdcnt_mean &lt;dbl&gt; | pdcnt_rng &lt;int&gt; | pdcnt_std &lt;dbl&gt; | pdcnt_skew &lt;dbl&gt; | pdcnt_kurt &lt;dbl&gt; | regarpt_min &lt;dbl&gt; | regarpt_max &lt;dbl&gt; | regarpt_mean &lt;dbl&gt; | regarpt_rng &lt;dbl&gt; | regarpt_std &lt;dbl&gt; | regarpt_skew &lt;dbl&gt; | regarpt_kurt &lt;dbl&gt; |\n",
       "|---|---|---|---|---|---|---|---|---|---|---|---|---|---|---|---|---|---|---|---|---|---|---|---|---|---|---|---|---|---|---|---|---|---|---|---|---|---|---|---|---|---|\n",
       "| fun1&amp;1 internet     | EU    | 1 |    11 | 0.54545455 | 1 | 9.090909e-02 |  1 |    5 |    2.181818 |    4 |    1.537412 |  0.9266651 | -0.7811140 | 4 | 14 | 7.636364 | 10 | 2.907670 | 0.7720046 | -0.3922768 | 1.71 |   9.01 | 4.655455 |   7.30 |  2.602016 |  6.453797e-01 | -1.217221 | 1 |   3 |  1.363636 |   2 |  0.6741999 | 1.338593 |  0.3606612 | 15.0000 | 15.0 | 15.0000000 |  0.0000 | 0.0000000 |      NaN |        NaN |\n",
       "| fun10dencehispahard | EU    | 1 |     2 | 0.00000000 | 1 | 5.000000e-01 |  1 |    1 |    1.000000 |    0 |    0.000000 |        NaN |        NaN | 5 |  8 | 6.500000 |  3 | 2.121320 | 0.0000000 | -2.7500000 | 3.28 |   8.62 | 5.950000 |   5.34 |  3.775950 |  9.898575e-17 | -2.750000 | 1 |   1 |  1.000000 |   0 |  0.0000000 |      NaN |        NaN | 15.0000 | 15.0 | 15.0000000 |  0.0000 | 0.0000000 |      NaN |        NaN |\n",
       "| fun1api             | EU    | 1 |     8 | 0.50000000 | 1 | 1.250000e-01 |  1 |    1 |    1.000000 |    0 |    0.000000 |        NaN |        NaN | 4 | 15 | 8.875000 | 11 | 3.522884 | 0.4848693 | -1.1434523 | 2.00 |   6.09 | 4.396250 |   4.09 |  1.360167 | -3.531195e-01 | -1.301177 | 1 |   1 |  1.000000 |   0 |  0.0000000 |      NaN |        NaN |  3.0000 |  5.0 |  4.0000000 |  2.0000 | 1.0690450 | 0.000000 |  -2.234375 |\n",
       "| funab name isp      | EU    | 1 |    47 | 0.06382979 | 1 | 2.127660e-02 |  1 |  119 |   82.872340 |  118 |   46.011632 | -0.8738906 | -0.9645903 | 4 | 61 | 9.446809 | 57 | 8.334863 | 5.0179710 | 28.2025571 | 0.28 |  17.92 | 4.695745 |  17.64 |  3.112366 |  1.526987e+00 |  4.826982 | 1 |   3 |  1.191489 |   2 |  0.4490714 | 2.194541 |  4.1889225 |  0.0001 | 15.0 |  0.8511511 | 14.9999 | 2.6207801 | 3.740087 |  15.752244 |\n",
       "| funactive 24        | EU    | 1 |    25 | 0.20000000 | 1 | 4.000000e-02 |  1 |   14 |    5.040000 |   13 |    5.020624 |  1.0166170 | -0.7554981 | 4 | 19 | 7.080000 | 15 | 3.451087 | 1.9087776 |  3.6548313 | 0.59 | 100.00 | 9.743600 |  99.41 | 19.035942 |  4.242864e+00 | 17.222688 | 1 |  10 |  1.520000 |   9 |  1.8055470 | 4.127909 | 16.4692321 |  0.5000 |  0.5 |  0.5000000 |  0.0000 | 0.0000000 |      NaN |        NaN |\n",
       "| funalibaba          | China | 1 | 35046 | 0.02014495 | 1 | 2.853393e-05 | 19 | 7163 | 1299.015380 | 7144 | 1600.896587 |  2.5691646 |  6.0230231 | 3 | 63 | 6.947155 | 60 | 3.018534 | 2.7839889 | 17.5227635 | 0.00 | 100.00 | 5.653614 | 100.00 | 19.616978 |  4.525337e+00 | 18.821500 | 1 | 400 | 23.168949 | 399 | 52.1502807 | 3.559110 | 14.2005513 |  0.0001 |  5.0 |  0.7338244 |  4.9999 | 0.1809528 | 3.717292 | 137.140359 |\n",
       "\n"
      ],
      "text/plain": [
       "  tld_registrar_index geo_maj geo_cnt n     ren_prp    tld_cnt tld_rat     \n",
       "1 fun1&1 internet     EU      1          11 0.54545455 1       9.090909e-02\n",
       "2 fun10dencehispahard EU      1           2 0.00000000 1       5.000000e-01\n",
       "3 fun1api             EU      1           8 0.50000000 1       1.250000e-01\n",
       "4 funab name isp      EU      1          47 0.06382979 1       2.127660e-02\n",
       "5 funactive 24        EU      1          25 0.20000000 1       4.000000e-02\n",
       "6 funalibaba          China   1       35046 0.02014495 1       2.853393e-05\n",
       "  daydom_min daydom_max daydom_mean daydom_rng daydom_std  daydom_skew\n",
       "1  1            5          2.181818    4          1.537412  0.9266651 \n",
       "2  1            1          1.000000    0          0.000000        NaN \n",
       "3  1            1          1.000000    0          0.000000        NaN \n",
       "4  1          119         82.872340  118         46.011632 -0.8738906 \n",
       "5  1           14          5.040000   13          5.020624  1.0166170 \n",
       "6 19         7163       1299.015380 7144       1600.896587  2.5691646 \n",
       "  daydom_kurt sldlen_min sldlen_max sldlen_mean sldlen_rng sldlen_std\n",
       "1 -0.7811140  4          14         7.636364    10         2.907670  \n",
       "2        NaN  5           8         6.500000     3         2.121320  \n",
       "3        NaN  4          15         8.875000    11         3.522884  \n",
       "4 -0.9645903  4          61         9.446809    57         8.334863  \n",
       "5 -0.7554981  4          19         7.080000    15         3.451087  \n",
       "6  6.0230231  3          63         6.947155    60         3.018534  \n",
       "  sldlen_skew sldlen_kurt gibbs_min gibbs_max gibbs_mean gibbs_rng gibbs_std\n",
       "1 0.7720046   -0.3922768  1.71        9.01    4.655455     7.30     2.602016\n",
       "2 0.0000000   -2.7500000  3.28        8.62    5.950000     5.34     3.775950\n",
       "3 0.4848693   -1.1434523  2.00        6.09    4.396250     4.09     1.360167\n",
       "4 5.0179710   28.2025571  0.28       17.92    4.695745    17.64     3.112366\n",
       "5 1.9087776    3.6548313  0.59      100.00    9.743600    99.41    19.035942\n",
       "6 2.7839889   17.5227635  0.00      100.00    5.653614   100.00    19.616978\n",
       "  gibbs_skew    gibbs_kurt pdcnt_min pdcnt_max pdcnt_mean pdcnt_rng pdcnt_std \n",
       "1  6.453797e-01 -1.217221  1           3        1.363636    2        0.6741999\n",
       "2  9.898575e-17 -2.750000  1           1        1.000000    0        0.0000000\n",
       "3 -3.531195e-01 -1.301177  1           1        1.000000    0        0.0000000\n",
       "4  1.526987e+00  4.826982  1           3        1.191489    2        0.4490714\n",
       "5  4.242864e+00 17.222688  1          10        1.520000    9        1.8055470\n",
       "6  4.525337e+00 18.821500  1         400       23.168949  399       52.1502807\n",
       "  pdcnt_skew pdcnt_kurt regarpt_min regarpt_max regarpt_mean regarpt_rng\n",
       "1 1.338593    0.3606612 15.0000     15.0        15.0000000    0.0000    \n",
       "2      NaN          NaN 15.0000     15.0        15.0000000    0.0000    \n",
       "3      NaN          NaN  3.0000      5.0         4.0000000    2.0000    \n",
       "4 2.194541    4.1889225  0.0001     15.0         0.8511511   14.9999    \n",
       "5 4.127909   16.4692321  0.5000      0.5         0.5000000    0.0000    \n",
       "6 3.559110   14.2005513  0.0001      5.0         0.7338244    4.9999    \n",
       "  regarpt_std regarpt_skew regarpt_kurt\n",
       "1 0.0000000        NaN            NaN  \n",
       "2 0.0000000        NaN            NaN  \n",
       "3 1.0690450   0.000000      -2.234375  \n",
       "4 2.6207801   3.740087      15.752244  \n",
       "5 0.0000000        NaN            NaN  \n",
       "6 0.1809528   3.717292     137.140359  "
      ]
     },
     "metadata": {},
     "output_type": "display_data"
    }
   ],
   "source": [
    "# new geo level feature eng\n",
    "preds_meta_df = preds_geo_df %>%\n",
    "  add_count(tld_registrar_index, reseller_geo) %>%\n",
    "  group_by(tld_registrar_index) %>%\n",
    "  summarise(\n",
    "            geo_maj = reseller_geo[n == max(n)][1],\n",
    "            geo_cnt = n_distinct(reseller_geo),\n",
    "            n = n(),\n",
    "            ren_prp = sum(renewal_status=='Renewed')/sum(n),\n",
    "            tld_cnt = n_distinct(tld), tld_rat = tld_cnt/n,\n",
    "              \n",
    "            daydom_min = min(day_domains), \n",
    "            daydom_max = max(day_domains), \n",
    "            daydom_mean = mean(day_domains, na.rm = TRUE), \n",
    "            daydom_rng = daydom_max - daydom_min, \n",
    "            daydom_std = sd(day_domains, na.rm = TRUE), \n",
    "            daydom_skew = skewness(day_domains, na.rm = TRUE), \n",
    "            daydom_kurt = kurtosis(day_domains, na.rm = TRUE),\n",
    "\n",
    "            sldlen_min = min(sld_length), \n",
    "            sldlen_max = max(sld_length), \n",
    "            sldlen_mean = mean(sld_length, na.rm = TRUE), \n",
    "            sldlen_rng = sldlen_max - sldlen_min, \n",
    "            sldlen_std = sd(sld_length, na.rm = TRUE), \n",
    "            sldlen_skew = skewness(sld_length, na.rm = TRUE), \n",
    "            sldlen_kurt = kurtosis(sld_length, na.rm = TRUE),\n",
    "  \n",
    "            gibbs_min = min(gibb_score), \n",
    "            gibbs_max = max(gibb_score), \n",
    "            gibbs_mean = mean(gibb_score, na.rm = TRUE), \n",
    "            gibbs_rng = gibbs_max - gibbs_min, \n",
    "            gibbs_std = sd(gibb_score, na.rm = TRUE), \n",
    "            gibbs_skew = skewness(gibb_score, na.rm = TRUE), \n",
    "            gibbs_kurt = kurtosis(gibb_score, na.rm = TRUE),\n",
    "  \n",
    "            pdcnt_min = min(pattern_domain_count), \n",
    "            pdcnt_max = max(pattern_domain_count), \n",
    "            pdcnt_mean = mean(pattern_domain_count, na.rm = TRUE), \n",
    "            pdcnt_rng = pdcnt_max - pdcnt_min, \n",
    "            pdcnt_std = sd(pattern_domain_count, na.rm = TRUE), \n",
    "            pdcnt_skew = skewness(pattern_domain_count, na.rm = TRUE), \n",
    "            pdcnt_kurt = kurtosis(pattern_domain_count, na.rm = TRUE),\n",
    "  \n",
    "            regarpt_min = min(reg_arpt), \n",
    "            regarpt_max = max(reg_arpt), \n",
    "            regarpt_mean = mean(reg_arpt, na.rm = TRUE), \n",
    "            regarpt_rng = regarpt_max - regarpt_min, \n",
    "            regarpt_std = sd(reg_arpt, na.rm = TRUE), \n",
    "            regarpt_skew = skewness(reg_arpt, na.rm = TRUE), \n",
    "            regarpt_kurt = kurtosis(reg_arpt, na.rm = TRUE))\n",
    "dim(preds_meta_df)\n",
    "head(preds_meta_df)"
   ]
  },
  {
   "cell_type": "code",
   "execution_count": 24,
   "metadata": {},
   "outputs": [
    {
     "name": "stderr",
     "output_type": "stream",
     "text": [
      "`summarise()` regrouping output by 'tld_registrar_index' (override with `.groups` argument)\n",
      "\n",
      "`summarise()` ungrouping output (override with `.groups` argument)\n",
      "\n",
      "`summarise()` regrouping output by 'tld_registrar_index' (override with `.groups` argument)\n",
      "\n",
      "`summarise()` ungrouping output (override with `.groups` argument)\n",
      "\n"
     ]
    }
   ],
   "source": [
    "# add a handful more vars \n",
    "country_maj = preds_df %>%\n",
    "  add_count(tld_registrar_index, reseller_country) %>%\n",
    "  group_by(tld_registrar_index) %>%\n",
    "  mutate(reseller_country_maj = reseller_country[n == max(n)][1]) %>%\n",
    "  select(-n) %>% \n",
    "  group_by(tld_registrar_index,reseller_country_maj) %>%\n",
    "    summarise(n = n()) %>% \n",
    "    arrange(desc(n)) %>%\n",
    "    pull(reseller_country_maj)\n",
    "\n",
    "country_cnt = preds_df %>%\n",
    "  add_count(tld_registrar_index, reseller_country) %>%\n",
    "  group_by(tld_registrar_index) %>%\n",
    "  summarise(reseller_country_cnt = n_distinct(reseller_country)) %>%\n",
    "  pull(reseller_country_cnt)  \n",
    "\n",
    "region_maj = preds_df %>%\n",
    "  add_count(tld_registrar_index, region) %>%\n",
    "  group_by(tld_registrar_index) %>%\n",
    "  mutate(region_maj = region[n == max(n)][1]) %>%\n",
    "  select(-n) %>% \n",
    "  group_by(tld_registrar_index,region_maj) %>%\n",
    "    summarise(n = n()) %>% \n",
    "    arrange(desc(n)) %>%\n",
    "    pull(region_maj)\n",
    "\n",
    "region_cnt = preds_df %>%\n",
    "  add_count(tld_registrar_index, region) %>%\n",
    "  group_by(tld_registrar_index) %>%\n",
    "  summarise(reseller_region_cnt = n_distinct(reseller_country)) %>%\n",
    "  pull(reseller_region_cnt)  \n",
    "\n",
    "preds_meta_df = preds_meta_df %>% \n",
    "    mutate(country_maj = country_maj,\n",
    "            region_maj = region_maj,\n",
    "            country_cnt = country_cnt,\n",
    "            region_cnt = region_cnt,\n",
    "            )"
   ]
  },
  {
   "cell_type": "code",
   "execution_count": 25,
   "metadata": {},
   "outputs": [
    {
     "data": {
      "text/html": [
       "<style>\n",
       ".list-inline {list-style: none; margin:0; padding: 0}\n",
       ".list-inline>li {display: inline-block}\n",
       ".list-inline>li:not(:last-child)::after {content: \"\\00b7\"; padding: 0 .5ex}\n",
       "</style>\n",
       "<ol class=list-inline><li>1758</li><li>46</li></ol>\n"
      ],
      "text/latex": [
       "\\begin{enumerate*}\n",
       "\\item 1758\n",
       "\\item 46\n",
       "\\end{enumerate*}\n"
      ],
      "text/markdown": [
       "1. 1758\n",
       "2. 46\n",
       "\n",
       "\n"
      ],
      "text/plain": [
       "[1] 1758   46"
      ]
     },
     "metadata": {},
     "output_type": "display_data"
    },
    {
     "data": {
      "text/html": [
       "<table>\n",
       "<caption>A tibble: 6 × 46</caption>\n",
       "<thead>\n",
       "\t<tr><th scope=col>tld_registrar_index</th><th scope=col>geo_maj</th><th scope=col>geo_cnt</th><th scope=col>n</th><th scope=col>ren_prp</th><th scope=col>tld_cnt</th><th scope=col>tld_rat</th><th scope=col>daydom_min</th><th scope=col>daydom_max</th><th scope=col>daydom_mean</th><th scope=col>daydom_rng</th><th scope=col>daydom_std</th><th scope=col>daydom_skew</th><th scope=col>daydom_kurt</th><th scope=col>sldlen_min</th><th scope=col>sldlen_max</th><th scope=col>sldlen_mean</th><th scope=col>sldlen_rng</th><th scope=col>sldlen_std</th><th scope=col>sldlen_skew</th><th scope=col>sldlen_kurt</th><th scope=col>gibbs_min</th><th scope=col>gibbs_max</th><th scope=col>gibbs_mean</th><th scope=col>gibbs_rng</th><th scope=col>gibbs_std</th><th scope=col>gibbs_skew</th><th scope=col>gibbs_kurt</th><th scope=col>pdcnt_min</th><th scope=col>pdcnt_max</th><th scope=col>pdcnt_mean</th><th scope=col>pdcnt_rng</th><th scope=col>pdcnt_std</th><th scope=col>pdcnt_skew</th><th scope=col>pdcnt_kurt</th><th scope=col>regarpt_min</th><th scope=col>regarpt_max</th><th scope=col>regarpt_mean</th><th scope=col>regarpt_rng</th><th scope=col>regarpt_std</th><th scope=col>regarpt_skew</th><th scope=col>regarpt_kurt</th><th scope=col>country_maj</th><th scope=col>region_maj</th><th scope=col>country_cnt</th><th scope=col>region_cnt</th></tr>\n",
       "\t<tr><th scope=col>&lt;fct&gt;</th><th scope=col>&lt;fct&gt;</th><th scope=col>&lt;int&gt;</th><th scope=col>&lt;int&gt;</th><th scope=col>&lt;dbl&gt;</th><th scope=col>&lt;int&gt;</th><th scope=col>&lt;dbl&gt;</th><th scope=col>&lt;int&gt;</th><th scope=col>&lt;int&gt;</th><th scope=col>&lt;dbl&gt;</th><th scope=col>&lt;int&gt;</th><th scope=col>&lt;dbl&gt;</th><th scope=col>&lt;dbl&gt;</th><th scope=col>&lt;dbl&gt;</th><th scope=col>&lt;int&gt;</th><th scope=col>&lt;int&gt;</th><th scope=col>&lt;dbl&gt;</th><th scope=col>&lt;int&gt;</th><th scope=col>&lt;dbl&gt;</th><th scope=col>&lt;dbl&gt;</th><th scope=col>&lt;dbl&gt;</th><th scope=col>&lt;dbl&gt;</th><th scope=col>&lt;dbl&gt;</th><th scope=col>&lt;dbl&gt;</th><th scope=col>&lt;dbl&gt;</th><th scope=col>&lt;dbl&gt;</th><th scope=col>&lt;dbl&gt;</th><th scope=col>&lt;dbl&gt;</th><th scope=col>&lt;int&gt;</th><th scope=col>&lt;int&gt;</th><th scope=col>&lt;dbl&gt;</th><th scope=col>&lt;int&gt;</th><th scope=col>&lt;dbl&gt;</th><th scope=col>&lt;dbl&gt;</th><th scope=col>&lt;dbl&gt;</th><th scope=col>&lt;dbl&gt;</th><th scope=col>&lt;dbl&gt;</th><th scope=col>&lt;dbl&gt;</th><th scope=col>&lt;dbl&gt;</th><th scope=col>&lt;dbl&gt;</th><th scope=col>&lt;dbl&gt;</th><th scope=col>&lt;dbl&gt;</th><th scope=col>&lt;fct&gt;</th><th scope=col>&lt;fct&gt;</th><th scope=col>&lt;int&gt;</th><th scope=col>&lt;int&gt;</th></tr>\n",
       "</thead>\n",
       "<tbody>\n",
       "\t<tr><td><span style=white-space:pre-wrap>fun1&amp;1 internet    </span></td><td><span style=white-space:pre-wrap>EU   </span></td><td>1</td><td><span style=white-space:pre-wrap>   11</span></td><td>0.54545455</td><td>1</td><td>9.090909e-02</td><td> 1</td><td><span style=white-space:pre-wrap>   5</span></td><td><span style=white-space:pre-wrap>   2.181818</span></td><td><span style=white-space:pre-wrap>   4</span></td><td><span style=white-space:pre-wrap>   1.537412</span></td><td> 0.9266651</td><td>-0.7811140</td><td>4</td><td>14</td><td>7.636364</td><td>10</td><td>2.907670</td><td>0.7720046</td><td>-0.3922768</td><td>1.71</td><td><span style=white-space:pre-wrap>  9.01</span></td><td>4.655455</td><td><span style=white-space:pre-wrap>  7.30</span></td><td> 2.602016</td><td> 6.453797e-01</td><td>-1.217221</td><td>1</td><td><span style=white-space:pre-wrap>  3</span></td><td> 1.363636</td><td><span style=white-space:pre-wrap>  2</span></td><td> 0.6741999</td><td>1.338593</td><td> 0.3606612</td><td>15.0000</td><td>15.0</td><td>15.0000000</td><td> 0.0000</td><td>0.0000000</td><td><span style=white-space:pre-wrap>     NaN</span></td><td><span style=white-space:pre-wrap>       NaN</span></td><td><span style=white-space:pre-wrap>Japan        </span></td><td>Non China</td><td>1</td><td>1</td></tr>\n",
       "\t<tr><td>fun10dencehispahard</td><td>EU   </td><td>1</td><td>    2</td><td>0.00000000</td><td>1</td><td>5.000000e-01</td><td> 1</td><td>   1</td><td>   1.000000</td><td>   0</td><td>   0.000000</td><td>       NaN</td><td>       NaN</td><td>5</td><td> 8</td><td>6.500000</td><td> 3</td><td>2.121320</td><td>0.0000000</td><td>-2.7500000</td><td>3.28</td><td>  8.62</td><td>5.950000</td><td>  5.34</td><td> 3.775950</td><td> 9.898575e-17</td><td>-2.750000</td><td>1</td><td>  1</td><td> 1.000000</td><td>  0</td><td> 0.0000000</td><td>     NaN</td><td>       NaN</td><td>15.0000</td><td>15.0</td><td>15.0000000</td><td> 0.0000</td><td>0.0000000</td><td>     NaN</td><td>       NaN</td><td>United States</td><td>Non China</td><td>1</td><td>1</td></tr>\n",
       "\t<tr><td>fun1api            </td><td>EU   </td><td>1</td><td>    8</td><td>0.50000000</td><td>1</td><td>1.250000e-01</td><td> 1</td><td>   1</td><td>   1.000000</td><td>   0</td><td>   0.000000</td><td>       NaN</td><td>       NaN</td><td>4</td><td>15</td><td>8.875000</td><td>11</td><td>3.522884</td><td>0.4848693</td><td>-1.1434523</td><td>2.00</td><td>  6.09</td><td>4.396250</td><td>  4.09</td><td> 1.360167</td><td>-3.531195e-01</td><td>-1.301177</td><td>1</td><td>  1</td><td> 1.000000</td><td>  0</td><td> 0.0000000</td><td>     NaN</td><td>       NaN</td><td> 3.0000</td><td> 5.0</td><td> 4.0000000</td><td> 2.0000</td><td>1.0690450</td><td>0.000000</td><td> -2.234375</td><td>China        </td><td>China    </td><td>1</td><td>1</td></tr>\n",
       "\t<tr><td>funab name isp     </td><td>EU   </td><td>1</td><td>   47</td><td>0.06382979</td><td>1</td><td>2.127660e-02</td><td> 1</td><td> 119</td><td>  82.872340</td><td> 118</td><td>  46.011632</td><td>-0.8738906</td><td>-0.9645903</td><td>4</td><td>61</td><td>9.446809</td><td>57</td><td>8.334863</td><td>5.0179710</td><td>28.2025571</td><td>0.28</td><td> 17.92</td><td>4.695745</td><td> 17.64</td><td> 3.112366</td><td> 1.526987e+00</td><td> 4.826982</td><td>1</td><td>  3</td><td> 1.191489</td><td>  2</td><td> 0.4490714</td><td>2.194541</td><td> 4.1889225</td><td> 0.0001</td><td>15.0</td><td> 0.8511511</td><td>14.9999</td><td>2.6207801</td><td>3.740087</td><td> 15.752244</td><td>United States</td><td>Non China</td><td>1</td><td>1</td></tr>\n",
       "\t<tr><td>funactive 24       </td><td>EU   </td><td>1</td><td>   25</td><td>0.20000000</td><td>1</td><td>4.000000e-02</td><td> 1</td><td>  14</td><td>   5.040000</td><td>  13</td><td>   5.020624</td><td> 1.0166170</td><td>-0.7554981</td><td>4</td><td>19</td><td>7.080000</td><td>15</td><td>3.451087</td><td>1.9087776</td><td> 3.6548313</td><td>0.59</td><td>100.00</td><td>9.743600</td><td> 99.41</td><td>19.035942</td><td> 4.242864e+00</td><td>17.222688</td><td>1</td><td> 10</td><td> 1.520000</td><td>  9</td><td> 1.8055470</td><td>4.127909</td><td>16.4692321</td><td> 0.5000</td><td> 0.5</td><td> 0.5000000</td><td> 0.0000</td><td>0.0000000</td><td>     NaN</td><td>       NaN</td><td>China        </td><td>China    </td><td>1</td><td>1</td></tr>\n",
       "\t<tr><td>funalibaba         </td><td>China</td><td>1</td><td>35046</td><td>0.02014495</td><td>1</td><td>2.853393e-05</td><td>19</td><td>7163</td><td>1299.015380</td><td>7144</td><td>1600.896587</td><td> 2.5691646</td><td> 6.0230231</td><td>3</td><td>63</td><td>6.947155</td><td>60</td><td>3.018534</td><td>2.7839889</td><td>17.5227635</td><td>0.00</td><td>100.00</td><td>5.653614</td><td>100.00</td><td>19.616978</td><td> 4.525337e+00</td><td>18.821500</td><td>1</td><td>400</td><td>23.168949</td><td>399</td><td>52.1502807</td><td>3.559110</td><td>14.2005513</td><td> 0.0001</td><td> 5.0</td><td> 0.7338244</td><td> 4.9999</td><td>0.1809528</td><td>3.717292</td><td>137.140359</td><td>United States</td><td>Non China</td><td>1</td><td>1</td></tr>\n",
       "</tbody>\n",
       "</table>\n"
      ],
      "text/latex": [
       "A tibble: 6 × 46\n",
       "\\begin{tabular}{llllllllllllllllllllllllllllllllllllllllllllll}\n",
       " tld\\_registrar\\_index & geo\\_maj & geo\\_cnt & n & ren\\_prp & tld\\_cnt & tld\\_rat & daydom\\_min & daydom\\_max & daydom\\_mean & daydom\\_rng & daydom\\_std & daydom\\_skew & daydom\\_kurt & sldlen\\_min & sldlen\\_max & sldlen\\_mean & sldlen\\_rng & sldlen\\_std & sldlen\\_skew & sldlen\\_kurt & gibbs\\_min & gibbs\\_max & gibbs\\_mean & gibbs\\_rng & gibbs\\_std & gibbs\\_skew & gibbs\\_kurt & pdcnt\\_min & pdcnt\\_max & pdcnt\\_mean & pdcnt\\_rng & pdcnt\\_std & pdcnt\\_skew & pdcnt\\_kurt & regarpt\\_min & regarpt\\_max & regarpt\\_mean & regarpt\\_rng & regarpt\\_std & regarpt\\_skew & regarpt\\_kurt & country\\_maj & region\\_maj & country\\_cnt & region\\_cnt\\\\\n",
       " <fct> & <fct> & <int> & <int> & <dbl> & <int> & <dbl> & <int> & <int> & <dbl> & <int> & <dbl> & <dbl> & <dbl> & <int> & <int> & <dbl> & <int> & <dbl> & <dbl> & <dbl> & <dbl> & <dbl> & <dbl> & <dbl> & <dbl> & <dbl> & <dbl> & <int> & <int> & <dbl> & <int> & <dbl> & <dbl> & <dbl> & <dbl> & <dbl> & <dbl> & <dbl> & <dbl> & <dbl> & <dbl> & <fct> & <fct> & <int> & <int>\\\\\n",
       "\\hline\n",
       "\t fun1\\&1 internet     & EU    & 1 &    11 & 0.54545455 & 1 & 9.090909e-02 &  1 &    5 &    2.181818 &    4 &    1.537412 &  0.9266651 & -0.7811140 & 4 & 14 & 7.636364 & 10 & 2.907670 & 0.7720046 & -0.3922768 & 1.71 &   9.01 & 4.655455 &   7.30 &  2.602016 &  6.453797e-01 & -1.217221 & 1 &   3 &  1.363636 &   2 &  0.6741999 & 1.338593 &  0.3606612 & 15.0000 & 15.0 & 15.0000000 &  0.0000 & 0.0000000 &      NaN &        NaN & Japan         & Non China & 1 & 1\\\\\n",
       "\t fun10dencehispahard & EU    & 1 &     2 & 0.00000000 & 1 & 5.000000e-01 &  1 &    1 &    1.000000 &    0 &    0.000000 &        NaN &        NaN & 5 &  8 & 6.500000 &  3 & 2.121320 & 0.0000000 & -2.7500000 & 3.28 &   8.62 & 5.950000 &   5.34 &  3.775950 &  9.898575e-17 & -2.750000 & 1 &   1 &  1.000000 &   0 &  0.0000000 &      NaN &        NaN & 15.0000 & 15.0 & 15.0000000 &  0.0000 & 0.0000000 &      NaN &        NaN & United States & Non China & 1 & 1\\\\\n",
       "\t fun1api             & EU    & 1 &     8 & 0.50000000 & 1 & 1.250000e-01 &  1 &    1 &    1.000000 &    0 &    0.000000 &        NaN &        NaN & 4 & 15 & 8.875000 & 11 & 3.522884 & 0.4848693 & -1.1434523 & 2.00 &   6.09 & 4.396250 &   4.09 &  1.360167 & -3.531195e-01 & -1.301177 & 1 &   1 &  1.000000 &   0 &  0.0000000 &      NaN &        NaN &  3.0000 &  5.0 &  4.0000000 &  2.0000 & 1.0690450 & 0.000000 &  -2.234375 & China         & China     & 1 & 1\\\\\n",
       "\t funab name isp      & EU    & 1 &    47 & 0.06382979 & 1 & 2.127660e-02 &  1 &  119 &   82.872340 &  118 &   46.011632 & -0.8738906 & -0.9645903 & 4 & 61 & 9.446809 & 57 & 8.334863 & 5.0179710 & 28.2025571 & 0.28 &  17.92 & 4.695745 &  17.64 &  3.112366 &  1.526987e+00 &  4.826982 & 1 &   3 &  1.191489 &   2 &  0.4490714 & 2.194541 &  4.1889225 &  0.0001 & 15.0 &  0.8511511 & 14.9999 & 2.6207801 & 3.740087 &  15.752244 & United States & Non China & 1 & 1\\\\\n",
       "\t funactive 24        & EU    & 1 &    25 & 0.20000000 & 1 & 4.000000e-02 &  1 &   14 &    5.040000 &   13 &    5.020624 &  1.0166170 & -0.7554981 & 4 & 19 & 7.080000 & 15 & 3.451087 & 1.9087776 &  3.6548313 & 0.59 & 100.00 & 9.743600 &  99.41 & 19.035942 &  4.242864e+00 & 17.222688 & 1 &  10 &  1.520000 &   9 &  1.8055470 & 4.127909 & 16.4692321 &  0.5000 &  0.5 &  0.5000000 &  0.0000 & 0.0000000 &      NaN &        NaN & China         & China     & 1 & 1\\\\\n",
       "\t funalibaba          & China & 1 & 35046 & 0.02014495 & 1 & 2.853393e-05 & 19 & 7163 & 1299.015380 & 7144 & 1600.896587 &  2.5691646 &  6.0230231 & 3 & 63 & 6.947155 & 60 & 3.018534 & 2.7839889 & 17.5227635 & 0.00 & 100.00 & 5.653614 & 100.00 & 19.616978 &  4.525337e+00 & 18.821500 & 1 & 400 & 23.168949 & 399 & 52.1502807 & 3.559110 & 14.2005513 &  0.0001 &  5.0 &  0.7338244 &  4.9999 & 0.1809528 & 3.717292 & 137.140359 & United States & Non China & 1 & 1\\\\\n",
       "\\end{tabular}\n"
      ],
      "text/markdown": [
       "\n",
       "A tibble: 6 × 46\n",
       "\n",
       "| tld_registrar_index &lt;fct&gt; | geo_maj &lt;fct&gt; | geo_cnt &lt;int&gt; | n &lt;int&gt; | ren_prp &lt;dbl&gt; | tld_cnt &lt;int&gt; | tld_rat &lt;dbl&gt; | daydom_min &lt;int&gt; | daydom_max &lt;int&gt; | daydom_mean &lt;dbl&gt; | daydom_rng &lt;int&gt; | daydom_std &lt;dbl&gt; | daydom_skew &lt;dbl&gt; | daydom_kurt &lt;dbl&gt; | sldlen_min &lt;int&gt; | sldlen_max &lt;int&gt; | sldlen_mean &lt;dbl&gt; | sldlen_rng &lt;int&gt; | sldlen_std &lt;dbl&gt; | sldlen_skew &lt;dbl&gt; | sldlen_kurt &lt;dbl&gt; | gibbs_min &lt;dbl&gt; | gibbs_max &lt;dbl&gt; | gibbs_mean &lt;dbl&gt; | gibbs_rng &lt;dbl&gt; | gibbs_std &lt;dbl&gt; | gibbs_skew &lt;dbl&gt; | gibbs_kurt &lt;dbl&gt; | pdcnt_min &lt;int&gt; | pdcnt_max &lt;int&gt; | pdcnt_mean &lt;dbl&gt; | pdcnt_rng &lt;int&gt; | pdcnt_std &lt;dbl&gt; | pdcnt_skew &lt;dbl&gt; | pdcnt_kurt &lt;dbl&gt; | regarpt_min &lt;dbl&gt; | regarpt_max &lt;dbl&gt; | regarpt_mean &lt;dbl&gt; | regarpt_rng &lt;dbl&gt; | regarpt_std &lt;dbl&gt; | regarpt_skew &lt;dbl&gt; | regarpt_kurt &lt;dbl&gt; | country_maj &lt;fct&gt; | region_maj &lt;fct&gt; | country_cnt &lt;int&gt; | region_cnt &lt;int&gt; |\n",
       "|---|---|---|---|---|---|---|---|---|---|---|---|---|---|---|---|---|---|---|---|---|---|---|---|---|---|---|---|---|---|---|---|---|---|---|---|---|---|---|---|---|---|---|---|---|---|\n",
       "| fun1&amp;1 internet     | EU    | 1 |    11 | 0.54545455 | 1 | 9.090909e-02 |  1 |    5 |    2.181818 |    4 |    1.537412 |  0.9266651 | -0.7811140 | 4 | 14 | 7.636364 | 10 | 2.907670 | 0.7720046 | -0.3922768 | 1.71 |   9.01 | 4.655455 |   7.30 |  2.602016 |  6.453797e-01 | -1.217221 | 1 |   3 |  1.363636 |   2 |  0.6741999 | 1.338593 |  0.3606612 | 15.0000 | 15.0 | 15.0000000 |  0.0000 | 0.0000000 |      NaN |        NaN | Japan         | Non China | 1 | 1 |\n",
       "| fun10dencehispahard | EU    | 1 |     2 | 0.00000000 | 1 | 5.000000e-01 |  1 |    1 |    1.000000 |    0 |    0.000000 |        NaN |        NaN | 5 |  8 | 6.500000 |  3 | 2.121320 | 0.0000000 | -2.7500000 | 3.28 |   8.62 | 5.950000 |   5.34 |  3.775950 |  9.898575e-17 | -2.750000 | 1 |   1 |  1.000000 |   0 |  0.0000000 |      NaN |        NaN | 15.0000 | 15.0 | 15.0000000 |  0.0000 | 0.0000000 |      NaN |        NaN | United States | Non China | 1 | 1 |\n",
       "| fun1api             | EU    | 1 |     8 | 0.50000000 | 1 | 1.250000e-01 |  1 |    1 |    1.000000 |    0 |    0.000000 |        NaN |        NaN | 4 | 15 | 8.875000 | 11 | 3.522884 | 0.4848693 | -1.1434523 | 2.00 |   6.09 | 4.396250 |   4.09 |  1.360167 | -3.531195e-01 | -1.301177 | 1 |   1 |  1.000000 |   0 |  0.0000000 |      NaN |        NaN |  3.0000 |  5.0 |  4.0000000 |  2.0000 | 1.0690450 | 0.000000 |  -2.234375 | China         | China     | 1 | 1 |\n",
       "| funab name isp      | EU    | 1 |    47 | 0.06382979 | 1 | 2.127660e-02 |  1 |  119 |   82.872340 |  118 |   46.011632 | -0.8738906 | -0.9645903 | 4 | 61 | 9.446809 | 57 | 8.334863 | 5.0179710 | 28.2025571 | 0.28 |  17.92 | 4.695745 |  17.64 |  3.112366 |  1.526987e+00 |  4.826982 | 1 |   3 |  1.191489 |   2 |  0.4490714 | 2.194541 |  4.1889225 |  0.0001 | 15.0 |  0.8511511 | 14.9999 | 2.6207801 | 3.740087 |  15.752244 | United States | Non China | 1 | 1 |\n",
       "| funactive 24        | EU    | 1 |    25 | 0.20000000 | 1 | 4.000000e-02 |  1 |   14 |    5.040000 |   13 |    5.020624 |  1.0166170 | -0.7554981 | 4 | 19 | 7.080000 | 15 | 3.451087 | 1.9087776 |  3.6548313 | 0.59 | 100.00 | 9.743600 |  99.41 | 19.035942 |  4.242864e+00 | 17.222688 | 1 |  10 |  1.520000 |   9 |  1.8055470 | 4.127909 | 16.4692321 |  0.5000 |  0.5 |  0.5000000 |  0.0000 | 0.0000000 |      NaN |        NaN | China         | China     | 1 | 1 |\n",
       "| funalibaba          | China | 1 | 35046 | 0.02014495 | 1 | 2.853393e-05 | 19 | 7163 | 1299.015380 | 7144 | 1600.896587 |  2.5691646 |  6.0230231 | 3 | 63 | 6.947155 | 60 | 3.018534 | 2.7839889 | 17.5227635 | 0.00 | 100.00 | 5.653614 | 100.00 | 19.616978 |  4.525337e+00 | 18.821500 | 1 | 400 | 23.168949 | 399 | 52.1502807 | 3.559110 | 14.2005513 |  0.0001 |  5.0 |  0.7338244 |  4.9999 | 0.1809528 | 3.717292 | 137.140359 | United States | Non China | 1 | 1 |\n",
       "\n"
      ],
      "text/plain": [
       "  tld_registrar_index geo_maj geo_cnt n     ren_prp    tld_cnt tld_rat     \n",
       "1 fun1&1 internet     EU      1          11 0.54545455 1       9.090909e-02\n",
       "2 fun10dencehispahard EU      1           2 0.00000000 1       5.000000e-01\n",
       "3 fun1api             EU      1           8 0.50000000 1       1.250000e-01\n",
       "4 funab name isp      EU      1          47 0.06382979 1       2.127660e-02\n",
       "5 funactive 24        EU      1          25 0.20000000 1       4.000000e-02\n",
       "6 funalibaba          China   1       35046 0.02014495 1       2.853393e-05\n",
       "  daydom_min daydom_max daydom_mean daydom_rng daydom_std  daydom_skew\n",
       "1  1            5          2.181818    4          1.537412  0.9266651 \n",
       "2  1            1          1.000000    0          0.000000        NaN \n",
       "3  1            1          1.000000    0          0.000000        NaN \n",
       "4  1          119         82.872340  118         46.011632 -0.8738906 \n",
       "5  1           14          5.040000   13          5.020624  1.0166170 \n",
       "6 19         7163       1299.015380 7144       1600.896587  2.5691646 \n",
       "  daydom_kurt sldlen_min sldlen_max sldlen_mean sldlen_rng sldlen_std\n",
       "1 -0.7811140  4          14         7.636364    10         2.907670  \n",
       "2        NaN  5           8         6.500000     3         2.121320  \n",
       "3        NaN  4          15         8.875000    11         3.522884  \n",
       "4 -0.9645903  4          61         9.446809    57         8.334863  \n",
       "5 -0.7554981  4          19         7.080000    15         3.451087  \n",
       "6  6.0230231  3          63         6.947155    60         3.018534  \n",
       "  sldlen_skew sldlen_kurt gibbs_min gibbs_max gibbs_mean gibbs_rng gibbs_std\n",
       "1 0.7720046   -0.3922768  1.71        9.01    4.655455     7.30     2.602016\n",
       "2 0.0000000   -2.7500000  3.28        8.62    5.950000     5.34     3.775950\n",
       "3 0.4848693   -1.1434523  2.00        6.09    4.396250     4.09     1.360167\n",
       "4 5.0179710   28.2025571  0.28       17.92    4.695745    17.64     3.112366\n",
       "5 1.9087776    3.6548313  0.59      100.00    9.743600    99.41    19.035942\n",
       "6 2.7839889   17.5227635  0.00      100.00    5.653614   100.00    19.616978\n",
       "  gibbs_skew    gibbs_kurt pdcnt_min pdcnt_max pdcnt_mean pdcnt_rng pdcnt_std \n",
       "1  6.453797e-01 -1.217221  1           3        1.363636    2        0.6741999\n",
       "2  9.898575e-17 -2.750000  1           1        1.000000    0        0.0000000\n",
       "3 -3.531195e-01 -1.301177  1           1        1.000000    0        0.0000000\n",
       "4  1.526987e+00  4.826982  1           3        1.191489    2        0.4490714\n",
       "5  4.242864e+00 17.222688  1          10        1.520000    9        1.8055470\n",
       "6  4.525337e+00 18.821500  1         400       23.168949  399       52.1502807\n",
       "  pdcnt_skew pdcnt_kurt regarpt_min regarpt_max regarpt_mean regarpt_rng\n",
       "1 1.338593    0.3606612 15.0000     15.0        15.0000000    0.0000    \n",
       "2      NaN          NaN 15.0000     15.0        15.0000000    0.0000    \n",
       "3      NaN          NaN  3.0000      5.0         4.0000000    2.0000    \n",
       "4 2.194541    4.1889225  0.0001     15.0         0.8511511   14.9999    \n",
       "5 4.127909   16.4692321  0.5000      0.5         0.5000000    0.0000    \n",
       "6 3.559110   14.2005513  0.0001      5.0         0.7338244    4.9999    \n",
       "  regarpt_std regarpt_skew regarpt_kurt country_maj   region_maj country_cnt\n",
       "1 0.0000000        NaN            NaN   Japan         Non China  1          \n",
       "2 0.0000000        NaN            NaN   United States Non China  1          \n",
       "3 1.0690450   0.000000      -2.234375   China         China      1          \n",
       "4 2.6207801   3.740087      15.752244   United States Non China  1          \n",
       "5 0.0000000        NaN            NaN   China         China      1          \n",
       "6 0.1809528   3.717292     137.140359   United States Non China  1          \n",
       "  region_cnt\n",
       "1 1         \n",
       "2 1         \n",
       "3 1         \n",
       "4 1         \n",
       "5 1         \n",
       "6 1         "
      ]
     },
     "metadata": {},
     "output_type": "display_data"
    }
   ],
   "source": [
    "dim(preds_meta_df)\n",
    "head(preds_meta_df)"
   ]
  },
  {
   "cell_type": "markdown",
   "metadata": {},
   "source": [
    "# Join w/ Metrics"
   ]
  },
  {
   "cell_type": "code",
   "execution_count": 26,
   "metadata": {},
   "outputs": [
    {
     "data": {
      "text/html": [
       "<style>\n",
       ".list-inline {list-style: none; margin:0; padding: 0}\n",
       ".list-inline>li {display: inline-block}\n",
       ".list-inline>li:not(:last-child)::after {content: \"\\00b7\"; padding: 0 .5ex}\n",
       "</style>\n",
       "<ol class=list-inline><li>1758</li><li>78</li></ol>\n"
      ],
      "text/latex": [
       "\\begin{enumerate*}\n",
       "\\item 1758\n",
       "\\item 78\n",
       "\\end{enumerate*}\n"
      ],
      "text/markdown": [
       "1. 1758\n",
       "2. 78\n",
       "\n",
       "\n"
      ],
      "text/plain": [
       "[1] 1758   78"
      ]
     },
     "metadata": {},
     "output_type": "display_data"
    },
    {
     "data": {
      "text/html": [
       "<table>\n",
       "<caption>A data.frame: 6 × 78</caption>\n",
       "<thead>\n",
       "\t<tr><th></th><th scope=col>tld_registrar_index</th><th scope=col>geo_maj</th><th scope=col>geo_cnt</th><th scope=col>n</th><th scope=col>ren_prp</th><th scope=col>tld_cnt</th><th scope=col>tld_rat</th><th scope=col>daydom_min</th><th scope=col>daydom_max</th><th scope=col>daydom_mean</th><th scope=col>daydom_rng</th><th scope=col>daydom_std</th><th scope=col>daydom_skew</th><th scope=col>daydom_kurt</th><th scope=col>sldlen_min</th><th scope=col>sldlen_max</th><th scope=col>sldlen_mean</th><th scope=col>sldlen_rng</th><th scope=col>sldlen_std</th><th scope=col>sldlen_skew</th><th scope=col>sldlen_kurt</th><th scope=col>gibbs_min</th><th scope=col>gibbs_max</th><th scope=col>gibbs_mean</th><th scope=col>gibbs_rng</th><th scope=col>⋯</th><th scope=col>l10_agg_rf_ALL</th><th scope=col>auc_seg2_glm</th><th scope=col>auc_seg_glm</th><th scope=col>auc_agg_glm_ALL</th><th scope=col>auc_agg_glm</th><th scope=col>auc_seg2_rf</th><th scope=col>auc_seg_rf</th><th scope=col>auc_agg_rf_ALL</th><th scope=col>auc_agg_rf</th><th scope=col>l10_seg2_glm_fb</th><th scope=col>l10_seg_glm_fb</th><th scope=col>l10_agg_glm_fb</th><th scope=col>l10_agg_glm_ALL_fb</th><th scope=col>l10_seg2_rf_fb</th><th scope=col>l10_seg_rf_fb</th><th scope=col>l10_agg_rf_fb</th><th scope=col>l10_agg_rf_ALL_fb</th><th scope=col>auc_seg2_glm_fb</th><th scope=col>auc_seg_glm_fb</th><th scope=col>auc_agg_glm_fb</th><th scope=col>auc_agg_glm_ALL_fb</th><th scope=col>auc_seg2_rf_fb</th><th scope=col>auc_seg_rf_fb</th><th scope=col>auc_agg_rf_fb</th><th scope=col>auc_agg_rf_ALL_fb</th></tr>\n",
       "\t<tr><th></th><th scope=col>&lt;fct&gt;</th><th scope=col>&lt;fct&gt;</th><th scope=col>&lt;int&gt;</th><th scope=col>&lt;int&gt;</th><th scope=col>&lt;dbl&gt;</th><th scope=col>&lt;int&gt;</th><th scope=col>&lt;dbl&gt;</th><th scope=col>&lt;int&gt;</th><th scope=col>&lt;int&gt;</th><th scope=col>&lt;dbl&gt;</th><th scope=col>&lt;int&gt;</th><th scope=col>&lt;dbl&gt;</th><th scope=col>&lt;dbl&gt;</th><th scope=col>&lt;dbl&gt;</th><th scope=col>&lt;int&gt;</th><th scope=col>&lt;int&gt;</th><th scope=col>&lt;dbl&gt;</th><th scope=col>&lt;int&gt;</th><th scope=col>&lt;dbl&gt;</th><th scope=col>&lt;dbl&gt;</th><th scope=col>&lt;dbl&gt;</th><th scope=col>&lt;dbl&gt;</th><th scope=col>&lt;dbl&gt;</th><th scope=col>&lt;dbl&gt;</th><th scope=col>&lt;dbl&gt;</th><th scope=col>⋯</th><th scope=col>&lt;dbl&gt;</th><th scope=col>&lt;dbl&gt;</th><th scope=col>&lt;dbl&gt;</th><th scope=col>&lt;dbl&gt;</th><th scope=col>&lt;dbl&gt;</th><th scope=col>&lt;dbl&gt;</th><th scope=col>&lt;dbl&gt;</th><th scope=col>&lt;dbl&gt;</th><th scope=col>&lt;dbl&gt;</th><th scope=col>&lt;dbl&gt;</th><th scope=col>&lt;dbl&gt;</th><th scope=col>&lt;dbl&gt;</th><th scope=col>&lt;dbl&gt;</th><th scope=col>&lt;dbl&gt;</th><th scope=col>&lt;dbl&gt;</th><th scope=col>&lt;dbl&gt;</th><th scope=col>&lt;dbl&gt;</th><th scope=col>&lt;dbl&gt;</th><th scope=col>&lt;dbl&gt;</th><th scope=col>&lt;dbl&gt;</th><th scope=col>&lt;dbl&gt;</th><th scope=col>&lt;dbl&gt;</th><th scope=col>&lt;dbl&gt;</th><th scope=col>&lt;dbl&gt;</th><th scope=col>&lt;dbl&gt;</th></tr>\n",
       "</thead>\n",
       "<tbody>\n",
       "\t<tr><th scope=row>1</th><td><span style=white-space:pre-wrap>fun1&amp;1 internet    </span></td><td><span style=white-space:pre-wrap>EU   </span></td><td>1</td><td><span style=white-space:pre-wrap>   11</span></td><td>0.54545455</td><td>1</td><td>9.090909e-02</td><td> 1</td><td><span style=white-space:pre-wrap>   5</span></td><td><span style=white-space:pre-wrap>   2.181818</span></td><td><span style=white-space:pre-wrap>   4</span></td><td><span style=white-space:pre-wrap>   1.537412</span></td><td> 0.9266651</td><td>-0.7811140</td><td>4</td><td>14</td><td>7.636364</td><td>10</td><td>2.907670</td><td>0.7720046</td><td>-0.3922768</td><td>1.71</td><td><span style=white-space:pre-wrap>  9.01</span></td><td>4.655455</td><td><span style=white-space:pre-wrap>  7.30</span></td><td>⋯</td><td>1.666667</td><td>0.4666667</td><td>0.4500000</td><td>0.4500000</td><td>0.4500000</td><td>0.5333333</td><td>0.5333333</td><td>0.5500000</td><td>0.6166667</td><td>1.666667</td><td>1.666667</td><td>1.666667</td><td>1.666667</td><td>1.666667</td><td>1.666667</td><td>1.666667</td><td>1.666667</td><td>0.6500000</td><td>0.6500000</td><td>0.6500000</td><td>0.6500000</td><td>0.6500000</td><td>0.6500000</td><td>0.6500000</td><td>0.6500000</td></tr>\n",
       "\t<tr><th scope=row>2</th><td>fun10dencehispahard</td><td>EU   </td><td>1</td><td>    2</td><td>0.00000000</td><td>1</td><td>5.000000e-01</td><td> 1</td><td>   1</td><td>   1.000000</td><td>   0</td><td>   0.000000</td><td>       NaN</td><td>       NaN</td><td>5</td><td> 8</td><td>6.500000</td><td> 3</td><td>2.121320</td><td>0.0000000</td><td>-2.7500000</td><td>3.28</td><td>  8.62</td><td>5.950000</td><td>  5.34</td><td>⋯</td><td>     NaN</td><td>      NaN</td><td>      NaN</td><td>      NaN</td><td>      NaN</td><td>      NaN</td><td>      NaN</td><td>      NaN</td><td>      NaN</td><td>     NaN</td><td>     NaN</td><td>     NaN</td><td>     NaN</td><td>     NaN</td><td>     NaN</td><td>     NaN</td><td>     NaN</td><td>      NaN</td><td>      NaN</td><td>      NaN</td><td>      NaN</td><td>      NaN</td><td>      NaN</td><td>      NaN</td><td>      NaN</td></tr>\n",
       "\t<tr><th scope=row>3</th><td>fun1api            </td><td>EU   </td><td>1</td><td>    8</td><td>0.50000000</td><td>1</td><td>1.250000e-01</td><td> 1</td><td>   1</td><td>   1.000000</td><td>   0</td><td>   0.000000</td><td>       NaN</td><td>       NaN</td><td>4</td><td>15</td><td>8.875000</td><td>11</td><td>3.522884</td><td>0.4848693</td><td>-1.1434523</td><td>2.00</td><td>  6.09</td><td>4.396250</td><td>  4.09</td><td>⋯</td><td>0.000000</td><td>0.4000000</td><td>0.4500000</td><td>0.5500000</td><td>0.4250000</td><td>0.3500000</td><td>0.4750000</td><td>0.3500000</td><td>0.5500000</td><td>2.500000</td><td>2.500000</td><td>2.500000</td><td>2.500000</td><td>2.500000</td><td>2.500000</td><td>2.500000</td><td>2.500000</td><td>0.4250000</td><td>0.4250000</td><td>0.4250000</td><td>0.4250000</td><td>0.4250000</td><td>0.4250000</td><td>0.4250000</td><td>0.4250000</td></tr>\n",
       "\t<tr><th scope=row>4</th><td>funab name isp     </td><td>EU   </td><td>1</td><td>   47</td><td>0.06382979</td><td>1</td><td>2.127660e-02</td><td> 1</td><td> 119</td><td>  82.872340</td><td> 118</td><td>  46.011632</td><td>-0.8738906</td><td>-0.9645903</td><td>4</td><td>61</td><td>9.446809</td><td>57</td><td>8.334863</td><td>5.0179710</td><td>28.2025571</td><td>0.28</td><td> 17.92</td><td>4.695745</td><td> 17.64</td><td>⋯</td><td>3.333333</td><td>0.5166667</td><td>0.7166667</td><td>0.5166667</td><td>0.4833333</td><td>0.6500000</td><td>0.6500000</td><td>0.6833333</td><td>0.7833333</td><td>6.666667</td><td>6.666667</td><td>6.666667</td><td>6.666667</td><td>6.666667</td><td>6.666667</td><td>6.666667</td><td>6.666667</td><td>0.8833333</td><td>0.8833333</td><td>0.8833333</td><td>0.8833333</td><td>0.8833333</td><td>0.8833333</td><td>0.8833333</td><td>0.8833333</td></tr>\n",
       "\t<tr><th scope=row>5</th><td>funactive 24       </td><td>EU   </td><td>1</td><td>   25</td><td>0.20000000</td><td>1</td><td>4.000000e-02</td><td> 1</td><td>  14</td><td>   5.040000</td><td>  13</td><td>   5.020624</td><td> 1.0166170</td><td>-0.7554981</td><td>4</td><td>19</td><td>7.080000</td><td>15</td><td>3.451087</td><td>1.9087776</td><td> 3.6548313</td><td>0.59</td><td>100.00</td><td>9.743600</td><td> 99.41</td><td>⋯</td><td>2.000000</td><td>0.6300000</td><td>0.3700000</td><td>0.4900000</td><td>0.4700000</td><td>0.6700000</td><td>0.6500000</td><td>0.6500000</td><td>0.6300000</td><td>0.000000</td><td>0.000000</td><td>0.000000</td><td>0.000000</td><td>0.000000</td><td>0.000000</td><td>0.000000</td><td>0.000000</td><td>0.5300000</td><td>0.5300000</td><td>0.5300000</td><td>0.5300000</td><td>0.5300000</td><td>0.5300000</td><td>0.5300000</td><td>0.5300000</td></tr>\n",
       "\t<tr><th scope=row>6</th><td>funalibaba         </td><td>China</td><td>1</td><td>35046</td><td>0.02014495</td><td>1</td><td>2.853393e-05</td><td>19</td><td>7163</td><td>1299.015380</td><td>7144</td><td>1600.896587</td><td> 2.5691646</td><td> 6.0230231</td><td>3</td><td>63</td><td>6.947155</td><td>60</td><td>3.018534</td><td>2.7839889</td><td>17.5227635</td><td>0.00</td><td>100.00</td><td>5.653614</td><td>100.00</td><td>⋯</td><td>7.832861</td><td>0.8390935</td><td>0.8284703</td><td>0.8087819</td><td>0.8077904</td><td>0.9164306</td><td>0.9165722</td><td>0.9198300</td><td>0.9189802</td><td>5.000000</td><td>5.028329</td><td>4.730878</td><td>4.773371</td><td>7.762040</td><td>7.691218</td><td>7.790368</td><td>7.832861</td><td>0.8390935</td><td>0.8284703</td><td>0.8077904</td><td>0.8087819</td><td>0.9164306</td><td>0.9165722</td><td>0.9189802</td><td>0.9198300</td></tr>\n",
       "</tbody>\n",
       "</table>\n"
      ],
      "text/latex": [
       "A data.frame: 6 × 78\n",
       "\\begin{tabular}{r|lllllllllllllllllllllllllllllllllllllllllllllllllll}\n",
       "  & tld\\_registrar\\_index & geo\\_maj & geo\\_cnt & n & ren\\_prp & tld\\_cnt & tld\\_rat & daydom\\_min & daydom\\_max & daydom\\_mean & daydom\\_rng & daydom\\_std & daydom\\_skew & daydom\\_kurt & sldlen\\_min & sldlen\\_max & sldlen\\_mean & sldlen\\_rng & sldlen\\_std & sldlen\\_skew & sldlen\\_kurt & gibbs\\_min & gibbs\\_max & gibbs\\_mean & gibbs\\_rng & ⋯ & l10\\_agg\\_rf\\_ALL & auc\\_seg2\\_glm & auc\\_seg\\_glm & auc\\_agg\\_glm\\_ALL & auc\\_agg\\_glm & auc\\_seg2\\_rf & auc\\_seg\\_rf & auc\\_agg\\_rf\\_ALL & auc\\_agg\\_rf & l10\\_seg2\\_glm\\_fb & l10\\_seg\\_glm\\_fb & l10\\_agg\\_glm\\_fb & l10\\_agg\\_glm\\_ALL\\_fb & l10\\_seg2\\_rf\\_fb & l10\\_seg\\_rf\\_fb & l10\\_agg\\_rf\\_fb & l10\\_agg\\_rf\\_ALL\\_fb & auc\\_seg2\\_glm\\_fb & auc\\_seg\\_glm\\_fb & auc\\_agg\\_glm\\_fb & auc\\_agg\\_glm\\_ALL\\_fb & auc\\_seg2\\_rf\\_fb & auc\\_seg\\_rf\\_fb & auc\\_agg\\_rf\\_fb & auc\\_agg\\_rf\\_ALL\\_fb\\\\\n",
       "  & <fct> & <fct> & <int> & <int> & <dbl> & <int> & <dbl> & <int> & <int> & <dbl> & <int> & <dbl> & <dbl> & <dbl> & <int> & <int> & <dbl> & <int> & <dbl> & <dbl> & <dbl> & <dbl> & <dbl> & <dbl> & <dbl> & ⋯ & <dbl> & <dbl> & <dbl> & <dbl> & <dbl> & <dbl> & <dbl> & <dbl> & <dbl> & <dbl> & <dbl> & <dbl> & <dbl> & <dbl> & <dbl> & <dbl> & <dbl> & <dbl> & <dbl> & <dbl> & <dbl> & <dbl> & <dbl> & <dbl> & <dbl>\\\\\n",
       "\\hline\n",
       "\t1 & fun1\\&1 internet     & EU    & 1 &    11 & 0.54545455 & 1 & 9.090909e-02 &  1 &    5 &    2.181818 &    4 &    1.537412 &  0.9266651 & -0.7811140 & 4 & 14 & 7.636364 & 10 & 2.907670 & 0.7720046 & -0.3922768 & 1.71 &   9.01 & 4.655455 &   7.30 & ⋯ & 1.666667 & 0.4666667 & 0.4500000 & 0.4500000 & 0.4500000 & 0.5333333 & 0.5333333 & 0.5500000 & 0.6166667 & 1.666667 & 1.666667 & 1.666667 & 1.666667 & 1.666667 & 1.666667 & 1.666667 & 1.666667 & 0.6500000 & 0.6500000 & 0.6500000 & 0.6500000 & 0.6500000 & 0.6500000 & 0.6500000 & 0.6500000\\\\\n",
       "\t2 & fun10dencehispahard & EU    & 1 &     2 & 0.00000000 & 1 & 5.000000e-01 &  1 &    1 &    1.000000 &    0 &    0.000000 &        NaN &        NaN & 5 &  8 & 6.500000 &  3 & 2.121320 & 0.0000000 & -2.7500000 & 3.28 &   8.62 & 5.950000 &   5.34 & ⋯ &      NaN &       NaN &       NaN &       NaN &       NaN &       NaN &       NaN &       NaN &       NaN &      NaN &      NaN &      NaN &      NaN &      NaN &      NaN &      NaN &      NaN &       NaN &       NaN &       NaN &       NaN &       NaN &       NaN &       NaN &       NaN\\\\\n",
       "\t3 & fun1api             & EU    & 1 &     8 & 0.50000000 & 1 & 1.250000e-01 &  1 &    1 &    1.000000 &    0 &    0.000000 &        NaN &        NaN & 4 & 15 & 8.875000 & 11 & 3.522884 & 0.4848693 & -1.1434523 & 2.00 &   6.09 & 4.396250 &   4.09 & ⋯ & 0.000000 & 0.4000000 & 0.4500000 & 0.5500000 & 0.4250000 & 0.3500000 & 0.4750000 & 0.3500000 & 0.5500000 & 2.500000 & 2.500000 & 2.500000 & 2.500000 & 2.500000 & 2.500000 & 2.500000 & 2.500000 & 0.4250000 & 0.4250000 & 0.4250000 & 0.4250000 & 0.4250000 & 0.4250000 & 0.4250000 & 0.4250000\\\\\n",
       "\t4 & funab name isp      & EU    & 1 &    47 & 0.06382979 & 1 & 2.127660e-02 &  1 &  119 &   82.872340 &  118 &   46.011632 & -0.8738906 & -0.9645903 & 4 & 61 & 9.446809 & 57 & 8.334863 & 5.0179710 & 28.2025571 & 0.28 &  17.92 & 4.695745 &  17.64 & ⋯ & 3.333333 & 0.5166667 & 0.7166667 & 0.5166667 & 0.4833333 & 0.6500000 & 0.6500000 & 0.6833333 & 0.7833333 & 6.666667 & 6.666667 & 6.666667 & 6.666667 & 6.666667 & 6.666667 & 6.666667 & 6.666667 & 0.8833333 & 0.8833333 & 0.8833333 & 0.8833333 & 0.8833333 & 0.8833333 & 0.8833333 & 0.8833333\\\\\n",
       "\t5 & funactive 24        & EU    & 1 &    25 & 0.20000000 & 1 & 4.000000e-02 &  1 &   14 &    5.040000 &   13 &    5.020624 &  1.0166170 & -0.7554981 & 4 & 19 & 7.080000 & 15 & 3.451087 & 1.9087776 &  3.6548313 & 0.59 & 100.00 & 9.743600 &  99.41 & ⋯ & 2.000000 & 0.6300000 & 0.3700000 & 0.4900000 & 0.4700000 & 0.6700000 & 0.6500000 & 0.6500000 & 0.6300000 & 0.000000 & 0.000000 & 0.000000 & 0.000000 & 0.000000 & 0.000000 & 0.000000 & 0.000000 & 0.5300000 & 0.5300000 & 0.5300000 & 0.5300000 & 0.5300000 & 0.5300000 & 0.5300000 & 0.5300000\\\\\n",
       "\t6 & funalibaba          & China & 1 & 35046 & 0.02014495 & 1 & 2.853393e-05 & 19 & 7163 & 1299.015380 & 7144 & 1600.896587 &  2.5691646 &  6.0230231 & 3 & 63 & 6.947155 & 60 & 3.018534 & 2.7839889 & 17.5227635 & 0.00 & 100.00 & 5.653614 & 100.00 & ⋯ & 7.832861 & 0.8390935 & 0.8284703 & 0.8087819 & 0.8077904 & 0.9164306 & 0.9165722 & 0.9198300 & 0.9189802 & 5.000000 & 5.028329 & 4.730878 & 4.773371 & 7.762040 & 7.691218 & 7.790368 & 7.832861 & 0.8390935 & 0.8284703 & 0.8077904 & 0.8087819 & 0.9164306 & 0.9165722 & 0.9189802 & 0.9198300\\\\\n",
       "\\end{tabular}\n"
      ],
      "text/markdown": [
       "\n",
       "A data.frame: 6 × 78\n",
       "\n",
       "| <!--/--> | tld_registrar_index &lt;fct&gt; | geo_maj &lt;fct&gt; | geo_cnt &lt;int&gt; | n &lt;int&gt; | ren_prp &lt;dbl&gt; | tld_cnt &lt;int&gt; | tld_rat &lt;dbl&gt; | daydom_min &lt;int&gt; | daydom_max &lt;int&gt; | daydom_mean &lt;dbl&gt; | daydom_rng &lt;int&gt; | daydom_std &lt;dbl&gt; | daydom_skew &lt;dbl&gt; | daydom_kurt &lt;dbl&gt; | sldlen_min &lt;int&gt; | sldlen_max &lt;int&gt; | sldlen_mean &lt;dbl&gt; | sldlen_rng &lt;int&gt; | sldlen_std &lt;dbl&gt; | sldlen_skew &lt;dbl&gt; | sldlen_kurt &lt;dbl&gt; | gibbs_min &lt;dbl&gt; | gibbs_max &lt;dbl&gt; | gibbs_mean &lt;dbl&gt; | gibbs_rng &lt;dbl&gt; | ⋯ ⋯ | l10_agg_rf_ALL &lt;dbl&gt; | auc_seg2_glm &lt;dbl&gt; | auc_seg_glm &lt;dbl&gt; | auc_agg_glm_ALL &lt;dbl&gt; | auc_agg_glm &lt;dbl&gt; | auc_seg2_rf &lt;dbl&gt; | auc_seg_rf &lt;dbl&gt; | auc_agg_rf_ALL &lt;dbl&gt; | auc_agg_rf &lt;dbl&gt; | l10_seg2_glm_fb &lt;dbl&gt; | l10_seg_glm_fb &lt;dbl&gt; | l10_agg_glm_fb &lt;dbl&gt; | l10_agg_glm_ALL_fb &lt;dbl&gt; | l10_seg2_rf_fb &lt;dbl&gt; | l10_seg_rf_fb &lt;dbl&gt; | l10_agg_rf_fb &lt;dbl&gt; | l10_agg_rf_ALL_fb &lt;dbl&gt; | auc_seg2_glm_fb &lt;dbl&gt; | auc_seg_glm_fb &lt;dbl&gt; | auc_agg_glm_fb &lt;dbl&gt; | auc_agg_glm_ALL_fb &lt;dbl&gt; | auc_seg2_rf_fb &lt;dbl&gt; | auc_seg_rf_fb &lt;dbl&gt; | auc_agg_rf_fb &lt;dbl&gt; | auc_agg_rf_ALL_fb &lt;dbl&gt; |\n",
       "|---|---|---|---|---|---|---|---|---|---|---|---|---|---|---|---|---|---|---|---|---|---|---|---|---|---|---|---|---|---|---|---|---|---|---|---|---|---|---|---|---|---|---|---|---|---|---|---|---|---|---|---|\n",
       "| 1 | fun1&amp;1 internet     | EU    | 1 |    11 | 0.54545455 | 1 | 9.090909e-02 |  1 |    5 |    2.181818 |    4 |    1.537412 |  0.9266651 | -0.7811140 | 4 | 14 | 7.636364 | 10 | 2.907670 | 0.7720046 | -0.3922768 | 1.71 |   9.01 | 4.655455 |   7.30 | ⋯ | 1.666667 | 0.4666667 | 0.4500000 | 0.4500000 | 0.4500000 | 0.5333333 | 0.5333333 | 0.5500000 | 0.6166667 | 1.666667 | 1.666667 | 1.666667 | 1.666667 | 1.666667 | 1.666667 | 1.666667 | 1.666667 | 0.6500000 | 0.6500000 | 0.6500000 | 0.6500000 | 0.6500000 | 0.6500000 | 0.6500000 | 0.6500000 |\n",
       "| 2 | fun10dencehispahard | EU    | 1 |     2 | 0.00000000 | 1 | 5.000000e-01 |  1 |    1 |    1.000000 |    0 |    0.000000 |        NaN |        NaN | 5 |  8 | 6.500000 |  3 | 2.121320 | 0.0000000 | -2.7500000 | 3.28 |   8.62 | 5.950000 |   5.34 | ⋯ |      NaN |       NaN |       NaN |       NaN |       NaN |       NaN |       NaN |       NaN |       NaN |      NaN |      NaN |      NaN |      NaN |      NaN |      NaN |      NaN |      NaN |       NaN |       NaN |       NaN |       NaN |       NaN |       NaN |       NaN |       NaN |\n",
       "| 3 | fun1api             | EU    | 1 |     8 | 0.50000000 | 1 | 1.250000e-01 |  1 |    1 |    1.000000 |    0 |    0.000000 |        NaN |        NaN | 4 | 15 | 8.875000 | 11 | 3.522884 | 0.4848693 | -1.1434523 | 2.00 |   6.09 | 4.396250 |   4.09 | ⋯ | 0.000000 | 0.4000000 | 0.4500000 | 0.5500000 | 0.4250000 | 0.3500000 | 0.4750000 | 0.3500000 | 0.5500000 | 2.500000 | 2.500000 | 2.500000 | 2.500000 | 2.500000 | 2.500000 | 2.500000 | 2.500000 | 0.4250000 | 0.4250000 | 0.4250000 | 0.4250000 | 0.4250000 | 0.4250000 | 0.4250000 | 0.4250000 |\n",
       "| 4 | funab name isp      | EU    | 1 |    47 | 0.06382979 | 1 | 2.127660e-02 |  1 |  119 |   82.872340 |  118 |   46.011632 | -0.8738906 | -0.9645903 | 4 | 61 | 9.446809 | 57 | 8.334863 | 5.0179710 | 28.2025571 | 0.28 |  17.92 | 4.695745 |  17.64 | ⋯ | 3.333333 | 0.5166667 | 0.7166667 | 0.5166667 | 0.4833333 | 0.6500000 | 0.6500000 | 0.6833333 | 0.7833333 | 6.666667 | 6.666667 | 6.666667 | 6.666667 | 6.666667 | 6.666667 | 6.666667 | 6.666667 | 0.8833333 | 0.8833333 | 0.8833333 | 0.8833333 | 0.8833333 | 0.8833333 | 0.8833333 | 0.8833333 |\n",
       "| 5 | funactive 24        | EU    | 1 |    25 | 0.20000000 | 1 | 4.000000e-02 |  1 |   14 |    5.040000 |   13 |    5.020624 |  1.0166170 | -0.7554981 | 4 | 19 | 7.080000 | 15 | 3.451087 | 1.9087776 |  3.6548313 | 0.59 | 100.00 | 9.743600 |  99.41 | ⋯ | 2.000000 | 0.6300000 | 0.3700000 | 0.4900000 | 0.4700000 | 0.6700000 | 0.6500000 | 0.6500000 | 0.6300000 | 0.000000 | 0.000000 | 0.000000 | 0.000000 | 0.000000 | 0.000000 | 0.000000 | 0.000000 | 0.5300000 | 0.5300000 | 0.5300000 | 0.5300000 | 0.5300000 | 0.5300000 | 0.5300000 | 0.5300000 |\n",
       "| 6 | funalibaba          | China | 1 | 35046 | 0.02014495 | 1 | 2.853393e-05 | 19 | 7163 | 1299.015380 | 7144 | 1600.896587 |  2.5691646 |  6.0230231 | 3 | 63 | 6.947155 | 60 | 3.018534 | 2.7839889 | 17.5227635 | 0.00 | 100.00 | 5.653614 | 100.00 | ⋯ | 7.832861 | 0.8390935 | 0.8284703 | 0.8087819 | 0.8077904 | 0.9164306 | 0.9165722 | 0.9198300 | 0.9189802 | 5.000000 | 5.028329 | 4.730878 | 4.773371 | 7.762040 | 7.691218 | 7.790368 | 7.832861 | 0.8390935 | 0.8284703 | 0.8077904 | 0.8087819 | 0.9164306 | 0.9165722 | 0.9189802 | 0.9198300 |\n",
       "\n"
      ],
      "text/plain": [
       "  tld_registrar_index geo_maj geo_cnt n     ren_prp    tld_cnt tld_rat     \n",
       "1 fun1&1 internet     EU      1          11 0.54545455 1       9.090909e-02\n",
       "2 fun10dencehispahard EU      1           2 0.00000000 1       5.000000e-01\n",
       "3 fun1api             EU      1           8 0.50000000 1       1.250000e-01\n",
       "4 funab name isp      EU      1          47 0.06382979 1       2.127660e-02\n",
       "5 funactive 24        EU      1          25 0.20000000 1       4.000000e-02\n",
       "6 funalibaba          China   1       35046 0.02014495 1       2.853393e-05\n",
       "  daydom_min daydom_max daydom_mean daydom_rng daydom_std  daydom_skew\n",
       "1  1            5          2.181818    4          1.537412  0.9266651 \n",
       "2  1            1          1.000000    0          0.000000        NaN \n",
       "3  1            1          1.000000    0          0.000000        NaN \n",
       "4  1          119         82.872340  118         46.011632 -0.8738906 \n",
       "5  1           14          5.040000   13          5.020624  1.0166170 \n",
       "6 19         7163       1299.015380 7144       1600.896587  2.5691646 \n",
       "  daydom_kurt sldlen_min sldlen_max sldlen_mean sldlen_rng sldlen_std\n",
       "1 -0.7811140  4          14         7.636364    10         2.907670  \n",
       "2        NaN  5           8         6.500000     3         2.121320  \n",
       "3        NaN  4          15         8.875000    11         3.522884  \n",
       "4 -0.9645903  4          61         9.446809    57         8.334863  \n",
       "5 -0.7554981  4          19         7.080000    15         3.451087  \n",
       "6  6.0230231  3          63         6.947155    60         3.018534  \n",
       "  sldlen_skew sldlen_kurt gibbs_min gibbs_max gibbs_mean gibbs_rng ⋯\n",
       "1 0.7720046   -0.3922768  1.71        9.01    4.655455     7.30    ⋯\n",
       "2 0.0000000   -2.7500000  3.28        8.62    5.950000     5.34    ⋯\n",
       "3 0.4848693   -1.1434523  2.00        6.09    4.396250     4.09    ⋯\n",
       "4 5.0179710   28.2025571  0.28       17.92    4.695745    17.64    ⋯\n",
       "5 1.9087776    3.6548313  0.59      100.00    9.743600    99.41    ⋯\n",
       "6 2.7839889   17.5227635  0.00      100.00    5.653614   100.00    ⋯\n",
       "  l10_agg_rf_ALL auc_seg2_glm auc_seg_glm auc_agg_glm_ALL auc_agg_glm\n",
       "1 1.666667       0.4666667    0.4500000   0.4500000       0.4500000  \n",
       "2      NaN             NaN          NaN         NaN             NaN  \n",
       "3 0.000000       0.4000000    0.4500000   0.5500000       0.4250000  \n",
       "4 3.333333       0.5166667    0.7166667   0.5166667       0.4833333  \n",
       "5 2.000000       0.6300000    0.3700000   0.4900000       0.4700000  \n",
       "6 7.832861       0.8390935    0.8284703   0.8087819       0.8077904  \n",
       "  auc_seg2_rf auc_seg_rf auc_agg_rf_ALL auc_agg_rf l10_seg2_glm_fb\n",
       "1 0.5333333   0.5333333  0.5500000      0.6166667  1.666667       \n",
       "2       NaN         NaN        NaN            NaN       NaN       \n",
       "3 0.3500000   0.4750000  0.3500000      0.5500000  2.500000       \n",
       "4 0.6500000   0.6500000  0.6833333      0.7833333  6.666667       \n",
       "5 0.6700000   0.6500000  0.6500000      0.6300000  0.000000       \n",
       "6 0.9164306   0.9165722  0.9198300      0.9189802  5.000000       \n",
       "  l10_seg_glm_fb l10_agg_glm_fb l10_agg_glm_ALL_fb l10_seg2_rf_fb l10_seg_rf_fb\n",
       "1 1.666667       1.666667       1.666667           1.666667       1.666667     \n",
       "2      NaN            NaN            NaN                NaN            NaN     \n",
       "3 2.500000       2.500000       2.500000           2.500000       2.500000     \n",
       "4 6.666667       6.666667       6.666667           6.666667       6.666667     \n",
       "5 0.000000       0.000000       0.000000           0.000000       0.000000     \n",
       "6 5.028329       4.730878       4.773371           7.762040       7.691218     \n",
       "  l10_agg_rf_fb l10_agg_rf_ALL_fb auc_seg2_glm_fb auc_seg_glm_fb auc_agg_glm_fb\n",
       "1 1.666667      1.666667          0.6500000       0.6500000      0.6500000     \n",
       "2      NaN           NaN                NaN             NaN            NaN     \n",
       "3 2.500000      2.500000          0.4250000       0.4250000      0.4250000     \n",
       "4 6.666667      6.666667          0.8833333       0.8833333      0.8833333     \n",
       "5 0.000000      0.000000          0.5300000       0.5300000      0.5300000     \n",
       "6 7.790368      7.832861          0.8390935       0.8284703      0.8077904     \n",
       "  auc_agg_glm_ALL_fb auc_seg2_rf_fb auc_seg_rf_fb auc_agg_rf_fb\n",
       "1 0.6500000          0.6500000      0.6500000     0.6500000    \n",
       "2       NaN                NaN            NaN           NaN    \n",
       "3 0.4250000          0.4250000      0.4250000     0.4250000    \n",
       "4 0.8833333          0.8833333      0.8833333     0.8833333    \n",
       "5 0.5300000          0.5300000      0.5300000     0.5300000    \n",
       "6 0.8087819          0.9164306      0.9165722     0.9189802    \n",
       "  auc_agg_rf_ALL_fb\n",
       "1 0.6500000        \n",
       "2       NaN        \n",
       "3 0.4250000        \n",
       "4 0.8833333        \n",
       "5 0.5300000        \n",
       "6 0.9198300        "
      ]
     },
     "metadata": {},
     "output_type": "display_data"
    }
   ],
   "source": [
    "metametrics_df <- merge(preds_meta_df, metrics_df, on = 'tld_registrar_index', all = TRUE)\n",
    "\n",
    "dim(metametrics_df)\n",
    "head(metametrics_df)"
   ]
  },
  {
   "cell_type": "markdown",
   "metadata": {},
   "source": [
    "# Write for model building\n"
   ]
  },
  {
   "cell_type": "code",
   "execution_count": 27,
   "metadata": {},
   "outputs": [],
   "source": [
    "write.csv(metametrics_df, file=\"../../data/output/datapull_20201116/expiry_metametrics_df.csv\", row.names=FALSE)\n",
    "system(\"gsutil cp /home/jupyter/local/Domains_202003/data/output/datapull_20201116/* gs://data_outputt/output/datapull_20201116/ \")\n"
   ]
  },
  {
   "cell_type": "code",
   "execution_count": null,
   "metadata": {},
   "outputs": [],
   "source": []
  }
 ],
 "metadata": {
  "environment": {
   "name": "r-cpu.3-6.m48",
   "type": "gcloud",
   "uri": "gcr.io/deeplearning-platform-release/r-cpu.3-6:m48"
  },
  "kernelspec": {
   "display_name": "R",
   "language": "R",
   "name": "ir"
  },
  "language_info": {
   "codemirror_mode": "r",
   "file_extension": ".r",
   "mimetype": "text/x-r-source",
   "name": "R",
   "pygments_lexer": "r",
   "version": "3.6.3"
  }
 },
 "nbformat": 4,
 "nbformat_minor": 4
}
