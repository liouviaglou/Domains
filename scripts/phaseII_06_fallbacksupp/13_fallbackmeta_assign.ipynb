{
 "cells": [
  {
   "cell_type": "markdown",
   "metadata": {},
   "source": [
    "# Fallback Table Metalearning ASSIGNMENT\n"
   ]
  },
  {
   "cell_type": "code",
   "execution_count": 1,
   "metadata": {},
   "outputs": [],
   "source": [
    "options(repr.matrix.max.cols=50, repr.matrix.max.rows=100)"
   ]
  },
  {
   "cell_type": "code",
   "execution_count": 2,
   "metadata": {},
   "outputs": [],
   "source": [
    "# install.packages(\"pkgcond\")"
   ]
  },
  {
   "cell_type": "code",
   "execution_count": 3,
   "metadata": {},
   "outputs": [
    {
     "name": "stderr",
     "output_type": "stream",
     "text": [
      "\n",
      "Attaching package: ‘dplyr’\n",
      "\n",
      "\n",
      "The following objects are masked from ‘package:stats’:\n",
      "\n",
      "    filter, lag\n",
      "\n",
      "\n",
      "The following objects are masked from ‘package:base’:\n",
      "\n",
      "    intersect, setdiff, setequal, union\n",
      "\n",
      "\n",
      "\n",
      "Attaching package: ‘data.table’\n",
      "\n",
      "\n",
      "The following objects are masked from ‘package:dplyr’:\n",
      "\n",
      "    between, first, last\n",
      "\n",
      "\n",
      "Loading required package: grid\n",
      "\n",
      "Loading required package: libcoin\n",
      "\n",
      "Loading required package: mvtnorm\n",
      "\n",
      "Loading required package: lattice\n",
      "\n",
      "Loading required package: ggplot2\n",
      "\n",
      "randomForest 4.6-14\n",
      "\n",
      "Type rfNews() to see new features/changes/bug fixes.\n",
      "\n",
      "\n",
      "Attaching package: ‘randomForest’\n",
      "\n",
      "\n",
      "The following object is masked from ‘package:ggplot2’:\n",
      "\n",
      "    margin\n",
      "\n",
      "\n",
      "The following object is masked from ‘package:dplyr’:\n",
      "\n",
      "    combine\n",
      "\n",
      "\n",
      "\n",
      "Attaching package: ‘ranger’\n",
      "\n",
      "\n",
      "The following object is masked from ‘package:randomForest’:\n",
      "\n",
      "    importance\n",
      "\n",
      "\n",
      "\n",
      "Attaching package: ‘plotly’\n",
      "\n",
      "\n",
      "The following object is masked from ‘package:ggplot2’:\n",
      "\n",
      "    last_plot\n",
      "\n",
      "\n",
      "The following object is masked from ‘package:stats’:\n",
      "\n",
      "    filter\n",
      "\n",
      "\n",
      "The following object is masked from ‘package:graphics’:\n",
      "\n",
      "    layout\n",
      "\n",
      "\n"
     ]
    },
    {
     "data": {
      "text/html": [
       "'/home/jupyter/Domains_202003/scripts/phaseII_06_fallbacksupp'"
      ],
      "text/latex": [
       "'/home/jupyter/Domains\\_202003/scripts/phaseII\\_06\\_fallbacksupp'"
      ],
      "text/markdown": [
       "'/home/jupyter/Domains_202003/scripts/phaseII_06_fallbacksupp'"
      ],
      "text/plain": [
       "[1] \"/home/jupyter/Domains_202003/scripts/phaseII_06_fallbacksupp\""
      ]
     },
     "metadata": {},
     "output_type": "display_data"
    }
   ],
   "source": [
    "library(dplyr)\n",
    "library(data.table)\n",
    "library(partykit)\n",
    "library(tictoc)\n",
    "library(caret)\n",
    "library(e1071)\n",
    "library(randomForest)\n",
    "library(ranger)\n",
    "\n",
    "#for 3d plotting\n",
    "library(akima)\n",
    "library(plotly)\n",
    "\n",
    "# for prep data\n",
    "library(stringr)\n",
    "library(pbapply)\n",
    "library(stringdist)\n",
    "library(data.table)\n",
    "library(dominanceanalysis)\n",
    "\n",
    "\n",
    "getwd()"
   ]
  },
  {
   "cell_type": "code",
   "execution_count": 4,
   "metadata": {},
   "outputs": [
    {
     "name": "stderr",
     "output_type": "stream",
     "text": [
      "\n",
      "Attaching package: ‘tidyr’\n",
      "\n",
      "\n",
      "The following object is masked from ‘package:stringdist’:\n",
      "\n",
      "    extract\n",
      "\n",
      "\n"
     ]
    }
   ],
   "source": [
    "\n",
    "source('../orig/functions.R')\n",
    "\n",
    "source('../orig/functions_models.R')\n",
    "\n",
    "source('../phaseII_03_forest/functions_eval.R')\n"
   ]
  },
  {
   "cell_type": "code",
   "execution_count": 5,
   "metadata": {},
   "outputs": [],
   "source": [
    "source('functions_metalearning.R')"
   ]
  },
  {
   "cell_type": "code",
   "execution_count": 6,
   "metadata": {},
   "outputs": [],
   "source": [
    "source('functions_fallback.R')"
   ]
  },
  {
   "cell_type": "code",
   "execution_count": 7,
   "metadata": {},
   "outputs": [],
   "source": [
    "# source('load_prep_data_expiry_2.R') #read in train test and predictions manually instead\n",
    "\n",
    "# READ CSV's\n",
    "# expiry_df_test_preds <- read.csv(\"../../data/output/datapull_20201116/expiry_df_test_preds.csv\")\n",
    "expiry_df_train <- read.csv(\"../../data/output/datapull_20201116/expiry_df_train.csv\")\n",
    "# expiry_df_test <- read.csv(\"../../data/output/datapull_20201116/expiry_df_test.csv\")\n",
    "metametrics_df <- read.csv(\"../../data/output/datapull_20201116/expiry_metametrics_df.csv\")\n",
    "# expiry_df\n",
    "# expiry_train_df \n",
    "# expiry_test_df \n",
    "# expiry_list\n",
    "# expiry_train_list\n",
    "# expiry_test_list"
   ]
  },
  {
   "cell_type": "markdown",
   "metadata": {},
   "source": [
    "# Chosen models and metrics:"
   ]
  },
  {
   "cell_type": "markdown",
   "metadata": {},
   "source": [
    "3 models: agg_rf_ALL, seg2_glm and seg_glm_fb\n",
    "metric: l10 lift\n",
    "model: random forest rebalanced"
   ]
  },
  {
   "cell_type": "markdown",
   "metadata": {},
   "source": [
    "# PREP data"
   ]
  },
  {
   "cell_type": "markdown",
   "metadata": {},
   "source": [
    "## Add win flags"
   ]
  },
  {
   "cell_type": "code",
   "execution_count": 8,
   "metadata": {},
   "outputs": [
    {
     "data": {
      "text/html": [
       "<style>\n",
       ".list-inline {list-style: none; margin:0; padding: 0}\n",
       ".list-inline>li {display: inline-block}\n",
       ".list-inline>li:not(:last-child)::after {content: \"\\00b7\"; padding: 0 .5ex}\n",
       "</style>\n",
       "<ol class=list-inline><li>'auc_seg2_glm'</li><li>'auc_agg_rf_ALL'</li><li>'auc_seg2_glm_fb'</li></ol>\n"
      ],
      "text/latex": [
       "\\begin{enumerate*}\n",
       "\\item 'auc\\_seg2\\_glm'\n",
       "\\item 'auc\\_agg\\_rf\\_ALL'\n",
       "\\item 'auc\\_seg2\\_glm\\_fb'\n",
       "\\end{enumerate*}\n"
      ],
      "text/markdown": [
       "1. 'auc_seg2_glm'\n",
       "2. 'auc_agg_rf_ALL'\n",
       "3. 'auc_seg2_glm_fb'\n",
       "\n",
       "\n"
      ],
      "text/plain": [
       "[1] \"auc_seg2_glm\"    \"auc_agg_rf_ALL\"  \"auc_seg2_glm_fb\""
      ]
     },
     "metadata": {},
     "output_type": "display_data"
    },
    {
     "data": {
      "text/html": [
       "<style>\n",
       ".list-inline {list-style: none; margin:0; padding: 0}\n",
       ".list-inline>li {display: inline-block}\n",
       ".list-inline>li:not(:last-child)::after {content: \"\\00b7\"; padding: 0 .5ex}\n",
       "</style>\n",
       "<ol class=list-inline><li>'l10_seg2_glm'</li><li>'l10_agg_rf_ALL'</li><li>'l10_seg2_glm_fb'</li></ol>\n"
      ],
      "text/latex": [
       "\\begin{enumerate*}\n",
       "\\item 'l10\\_seg2\\_glm'\n",
       "\\item 'l10\\_agg\\_rf\\_ALL'\n",
       "\\item 'l10\\_seg2\\_glm\\_fb'\n",
       "\\end{enumerate*}\n"
      ],
      "text/markdown": [
       "1. 'l10_seg2_glm'\n",
       "2. 'l10_agg_rf_ALL'\n",
       "3. 'l10_seg2_glm_fb'\n",
       "\n",
       "\n"
      ],
      "text/plain": [
       "[1] \"l10_seg2_glm\"    \"l10_agg_rf_ALL\"  \"l10_seg2_glm_fb\""
      ]
     },
     "metadata": {},
     "output_type": "display_data"
    }
   ],
   "source": [
    "(auc_vars = c('auc_seg2_glm','auc_agg_rf_ALL','auc_seg2_glm_fb'))\n",
    "(l10_vars = c('l10_seg2_glm','l10_agg_rf_ALL','l10_seg2_glm_fb'))\n",
    "\n",
    "metametrics_df <- metametrics_df %>%\n",
    "    mutate (auc_win_04=sapply(apply(.[,c(auc_vars)], \n",
    "                          1, function(x) names(x)[which.max(x)]) , function(s) if (length(s) == 0) NA else paste(s, collapse = \" \")) ,\n",
    "            l10_win_04=sapply(apply(.[,c(l10_vars)], \n",
    "                          1, function(x) names(x)[which.max(x)]), function(s) if (length(s) == 0) NA else paste(s, collapse = \" \")) \n",
    "            ) "
   ]
  },
  {
   "cell_type": "code",
   "execution_count": 9,
   "metadata": {},
   "outputs": [
    {
     "data": {
      "text/html": [
       "<table>\n",
       "<caption>A data.frame: 3 × 2</caption>\n",
       "<thead>\n",
       "\t<tr><th scope=col>Var1</th><th scope=col>Freq</th></tr>\n",
       "\t<tr><th scope=col>&lt;fct&gt;</th><th scope=col>&lt;int&gt;</th></tr>\n",
       "</thead>\n",
       "<tbody>\n",
       "\t<tr><td>auc_seg2_glm   </td><td>715</td></tr>\n",
       "\t<tr><td>auc_agg_rf_ALL </td><td>609</td></tr>\n",
       "\t<tr><td>auc_seg2_glm_fb</td><td>158</td></tr>\n",
       "</tbody>\n",
       "</table>\n"
      ],
      "text/latex": [
       "A data.frame: 3 × 2\n",
       "\\begin{tabular}{ll}\n",
       " Var1 & Freq\\\\\n",
       " <fct> & <int>\\\\\n",
       "\\hline\n",
       "\t auc\\_seg2\\_glm    & 715\\\\\n",
       "\t auc\\_agg\\_rf\\_ALL  & 609\\\\\n",
       "\t auc\\_seg2\\_glm\\_fb & 158\\\\\n",
       "\\end{tabular}\n"
      ],
      "text/markdown": [
       "\n",
       "A data.frame: 3 × 2\n",
       "\n",
       "| Var1 &lt;fct&gt; | Freq &lt;int&gt; |\n",
       "|---|---|\n",
       "| auc_seg2_glm    | 715 |\n",
       "| auc_agg_rf_ALL  | 609 |\n",
       "| auc_seg2_glm_fb | 158 |\n",
       "\n"
      ],
      "text/plain": [
       "  Var1            Freq\n",
       "1 auc_seg2_glm    715 \n",
       "2 auc_agg_rf_ALL  609 \n",
       "3 auc_seg2_glm_fb 158 "
      ]
     },
     "metadata": {},
     "output_type": "display_data"
    },
    {
     "data": {
      "text/html": [
       "<table>\n",
       "<caption>A data.frame: 3 × 2</caption>\n",
       "<thead>\n",
       "\t<tr><th scope=col>Var1</th><th scope=col>Freq</th></tr>\n",
       "\t<tr><th scope=col>&lt;fct&gt;</th><th scope=col>&lt;int&gt;</th></tr>\n",
       "</thead>\n",
       "<tbody>\n",
       "\t<tr><td>l10_seg2_glm   </td><td>939</td></tr>\n",
       "\t<tr><td>l10_agg_rf_ALL </td><td>457</td></tr>\n",
       "\t<tr><td>l10_seg2_glm_fb</td><td> 86</td></tr>\n",
       "</tbody>\n",
       "</table>\n"
      ],
      "text/latex": [
       "A data.frame: 3 × 2\n",
       "\\begin{tabular}{ll}\n",
       " Var1 & Freq\\\\\n",
       " <fct> & <int>\\\\\n",
       "\\hline\n",
       "\t l10\\_seg2\\_glm    & 939\\\\\n",
       "\t l10\\_agg\\_rf\\_ALL  & 457\\\\\n",
       "\t l10\\_seg2\\_glm\\_fb &  86\\\\\n",
       "\\end{tabular}\n"
      ],
      "text/markdown": [
       "\n",
       "A data.frame: 3 × 2\n",
       "\n",
       "| Var1 &lt;fct&gt; | Freq &lt;int&gt; |\n",
       "|---|---|\n",
       "| l10_seg2_glm    | 939 |\n",
       "| l10_agg_rf_ALL  | 457 |\n",
       "| l10_seg2_glm_fb |  86 |\n",
       "\n"
      ],
      "text/plain": [
       "  Var1            Freq\n",
       "1 l10_seg2_glm    939 \n",
       "2 l10_agg_rf_ALL  457 \n",
       "3 l10_seg2_glm_fb  86 "
      ]
     },
     "metadata": {},
     "output_type": "display_data"
    },
    {
     "data": {
      "text/html": [
       "<table>\n",
       "<caption>A data.frame: 3 × 2</caption>\n",
       "<thead>\n",
       "\t<tr><th scope=col>Var1</th><th scope=col>Freq</th></tr>\n",
       "\t<tr><th scope=col>&lt;fct&gt;</th><th scope=col>&lt;dbl&gt;</th></tr>\n",
       "</thead>\n",
       "<tbody>\n",
       "\t<tr><td>auc_seg2_glm   </td><td>0.4824561</td></tr>\n",
       "\t<tr><td>auc_agg_rf_ALL </td><td>0.4109312</td></tr>\n",
       "\t<tr><td>auc_seg2_glm_fb</td><td>0.1066127</td></tr>\n",
       "</tbody>\n",
       "</table>\n"
      ],
      "text/latex": [
       "A data.frame: 3 × 2\n",
       "\\begin{tabular}{ll}\n",
       " Var1 & Freq\\\\\n",
       " <fct> & <dbl>\\\\\n",
       "\\hline\n",
       "\t auc\\_seg2\\_glm    & 0.4824561\\\\\n",
       "\t auc\\_agg\\_rf\\_ALL  & 0.4109312\\\\\n",
       "\t auc\\_seg2\\_glm\\_fb & 0.1066127\\\\\n",
       "\\end{tabular}\n"
      ],
      "text/markdown": [
       "\n",
       "A data.frame: 3 × 2\n",
       "\n",
       "| Var1 &lt;fct&gt; | Freq &lt;dbl&gt; |\n",
       "|---|---|\n",
       "| auc_seg2_glm    | 0.4824561 |\n",
       "| auc_agg_rf_ALL  | 0.4109312 |\n",
       "| auc_seg2_glm_fb | 0.1066127 |\n",
       "\n"
      ],
      "text/plain": [
       "  Var1            Freq     \n",
       "1 auc_seg2_glm    0.4824561\n",
       "2 auc_agg_rf_ALL  0.4109312\n",
       "3 auc_seg2_glm_fb 0.1066127"
      ]
     },
     "metadata": {},
     "output_type": "display_data"
    },
    {
     "data": {
      "text/html": [
       "<table>\n",
       "<caption>A data.frame: 3 × 2</caption>\n",
       "<thead>\n",
       "\t<tr><th scope=col>Var1</th><th scope=col>Freq</th></tr>\n",
       "\t<tr><th scope=col>&lt;fct&gt;</th><th scope=col>&lt;dbl&gt;</th></tr>\n",
       "</thead>\n",
       "<tbody>\n",
       "\t<tr><td>l10_seg2_glm   </td><td>0.63360324</td></tr>\n",
       "\t<tr><td>l10_agg_rf_ALL </td><td>0.30836707</td></tr>\n",
       "\t<tr><td>l10_seg2_glm_fb</td><td>0.05802969</td></tr>\n",
       "</tbody>\n",
       "</table>\n"
      ],
      "text/latex": [
       "A data.frame: 3 × 2\n",
       "\\begin{tabular}{ll}\n",
       " Var1 & Freq\\\\\n",
       " <fct> & <dbl>\\\\\n",
       "\\hline\n",
       "\t l10\\_seg2\\_glm    & 0.63360324\\\\\n",
       "\t l10\\_agg\\_rf\\_ALL  & 0.30836707\\\\\n",
       "\t l10\\_seg2\\_glm\\_fb & 0.05802969\\\\\n",
       "\\end{tabular}\n"
      ],
      "text/markdown": [
       "\n",
       "A data.frame: 3 × 2\n",
       "\n",
       "| Var1 &lt;fct&gt; | Freq &lt;dbl&gt; |\n",
       "|---|---|\n",
       "| l10_seg2_glm    | 0.63360324 |\n",
       "| l10_agg_rf_ALL  | 0.30836707 |\n",
       "| l10_seg2_glm_fb | 0.05802969 |\n",
       "\n"
      ],
      "text/plain": [
       "  Var1            Freq      \n",
       "1 l10_seg2_glm    0.63360324\n",
       "2 l10_agg_rf_ALL  0.30836707\n",
       "3 l10_seg2_glm_fb 0.05802969"
      ]
     },
     "metadata": {},
     "output_type": "display_data"
    }
   ],
   "source": [
    "as.data.frame(sort(table(metametrics_df$auc_win_04), decreasing=TRUE))\n",
    "as.data.frame(sort(table(metametrics_df$l10_win_04), decreasing=TRUE))\n",
    "as.data.frame(sort(prop.table(table(metametrics_df$auc_win_04)), decreasing=TRUE))\n",
    "as.data.frame(sort(prop.table(table(metametrics_df$l10_win_04)), decreasing=TRUE))"
   ]
  },
  {
   "cell_type": "markdown",
   "metadata": {},
   "source": [
    "## missing value imputation"
   ]
  },
  {
   "cell_type": "code",
   "execution_count": 10,
   "metadata": {},
   "outputs": [],
   "source": [
    "# install.packages(\"missRanger\")\n",
    "library(missRanger)"
   ]
  },
  {
   "cell_type": "code",
   "execution_count": 11,
   "metadata": {},
   "outputs": [
    {
     "name": "stdout",
     "output_type": "stream",
     "text": [
      "\n",
      "Missing value imputation by random forests\n",
      "\n",
      "  Variables to impute:\t\tgeo_maj, daydom_std, daydom_skew, daydom_kurt, sldlen_std, sldlen_skew, sldlen_kurt, gibbs_std, gibbs_skew, gibbs_kurt, pdcnt_std, pdcnt_skew, pdcnt_kurt, regarpt_std, regarpt_skew, regarpt_kurt, l10_seg2_glm, l10_seg_glm, l10_agg_glm_ALL, l10_agg_glm, l10_seg2_rf, l10_seg_rf, l10_agg_rf, l10_agg_rf_ALL, auc_seg2_glm, auc_seg_glm, auc_agg_glm_ALL, auc_agg_glm, auc_seg2_rf, auc_seg_rf, auc_agg_rf_ALL, auc_agg_rf, l10_seg2_glm_fb, l10_seg_glm_fb, l10_agg_glm_fb, l10_agg_glm_ALL_fb, l10_seg2_rf_fb, l10_seg_rf_fb, l10_agg_rf_fb, l10_agg_rf_ALL_fb, auc_seg2_glm_fb, auc_seg_glm_fb, auc_agg_glm_fb, auc_agg_glm_ALL_fb, auc_seg2_rf_fb, auc_seg_rf_fb, auc_agg_rf_fb, auc_agg_rf_ALL_fb, auc_win_04, l10_win_04\n",
      "  Variables used to impute:\ttld_registrar_index, geo_maj, geo_cnt, n, ren_prp, tld_cnt, tld_rat, daydom_min, daydom_max, daydom_mean, daydom_rng, daydom_std, daydom_skew, daydom_kurt, sldlen_min, sldlen_max, sldlen_mean, sldlen_rng, sldlen_std, sldlen_skew, sldlen_kurt, gibbs_min, gibbs_max, gibbs_mean, gibbs_rng, gibbs_std, gibbs_skew, gibbs_kurt, pdcnt_min, pdcnt_max, pdcnt_mean, pdcnt_rng, pdcnt_std, pdcnt_skew, pdcnt_kurt, regarpt_min, regarpt_max, regarpt_mean, regarpt_rng, regarpt_std, regarpt_skew, regarpt_kurt, country_maj, region_maj, country_cnt, region_cnt, l10_seg2_glm, l10_seg_glm, l10_agg_glm_ALL, l10_agg_glm, l10_seg2_rf, l10_seg_rf, l10_agg_rf, l10_agg_rf_ALL, auc_seg2_glm, auc_seg_glm, auc_agg_glm_ALL, auc_agg_glm, auc_seg2_rf, auc_seg_rf, auc_agg_rf_ALL, auc_agg_rf, l10_seg2_glm_fb, l10_seg_glm_fb, l10_agg_glm_fb, l10_agg_glm_ALL_fb, l10_seg2_rf_fb, l10_seg_rf_fb, l10_agg_rf_fb, l10_agg_rf_ALL_fb, auc_seg2_glm_fb, auc_seg_glm_fb, auc_agg_glm_fb, auc_agg_glm_ALL_fb, auc_seg2_rf_fb, auc_seg_rf_fb, auc_agg_rf_fb, auc_agg_rf_ALL_fb, auc_win_04, l10_win_04\n",
      "iter 1:\t..................................................\n",
      "iter 2:\t..................................................\n",
      "iter 3:\t..................................................\n"
     ]
    }
   ],
   "source": [
    "metametrics_imp_df <- missRanger(metametrics_df, num.trees = 100)"
   ]
  },
  {
   "cell_type": "markdown",
   "metadata": {},
   "source": [
    "## train/test split"
   ]
  },
  {
   "cell_type": "code",
   "execution_count": 12,
   "metadata": {},
   "outputs": [],
   "source": [
    "set.seed(123) \n",
    "smp_siz = floor(0.8*nrow(metametrics_imp_df))\n",
    "train_ind = sample(seq_len(nrow(metametrics_imp_df)),size = smp_siz) \n",
    "train = metametrics_imp_df[train_ind,] \n",
    "test = metametrics_imp_df[-train_ind,]  "
   ]
  },
  {
   "cell_type": "code",
   "execution_count": 13,
   "metadata": {},
   "outputs": [
    {
     "data": {
      "text/html": [
       "<style>\n",
       ".list-inline {list-style: none; margin:0; padding: 0}\n",
       ".list-inline>li {display: inline-block}\n",
       ".list-inline>li:not(:last-child)::after {content: \"\\00b7\"; padding: 0 .5ex}\n",
       "</style>\n",
       "<ol class=list-inline><li>1406</li><li>80</li></ol>\n"
      ],
      "text/latex": [
       "\\begin{enumerate*}\n",
       "\\item 1406\n",
       "\\item 80\n",
       "\\end{enumerate*}\n"
      ],
      "text/markdown": [
       "1. 1406\n",
       "2. 80\n",
       "\n",
       "\n"
      ],
      "text/plain": [
       "[1] 1406   80"
      ]
     },
     "metadata": {},
     "output_type": "display_data"
    },
    {
     "data": {
      "text/html": [
       "<style>\n",
       ".list-inline {list-style: none; margin:0; padding: 0}\n",
       ".list-inline>li {display: inline-block}\n",
       ".list-inline>li:not(:last-child)::after {content: \"\\00b7\"; padding: 0 .5ex}\n",
       "</style>\n",
       "<ol class=list-inline><li>352</li><li>80</li></ol>\n"
      ],
      "text/latex": [
       "\\begin{enumerate*}\n",
       "\\item 352\n",
       "\\item 80\n",
       "\\end{enumerate*}\n"
      ],
      "text/markdown": [
       "1. 352\n",
       "2. 80\n",
       "\n",
       "\n"
      ],
      "text/plain": [
       "[1] 352  80"
      ]
     },
     "metadata": {},
     "output_type": "display_data"
    }
   ],
   "source": [
    "dim(train)\n",
    "dim(test)"
   ]
  },
  {
   "cell_type": "markdown",
   "metadata": {},
   "source": [
    "# Train Models & Obtain Predictions"
   ]
  },
  {
   "cell_type": "code",
   "execution_count": 14,
   "metadata": {},
   "outputs": [
    {
     "data": {
      "text/plain": [
       "      Y\n",
       "       l10_agg_rf_ALL l10_seg2_glm l10_seg2_glm_fb\n",
       "  0.06              0          954               0\n",
       "  0.14            386            0               0\n",
       "  0.81              0            0              66"
      ]
     },
     "metadata": {},
     "output_type": "display_data"
    }
   ],
   "source": [
    "#Compute weights to balance the RF\n",
    "Y = train$l10_win_04\n",
    "w <- 1/table(Y)\n",
    "w <- w/sum(w)\n",
    "\n",
    "weights <- rep(0, length(Y))\n",
    "\n",
    "for (model in unique(Y)){\n",
    "    weights[Y==model] <- w[model]\n",
    "}\n",
    "table(round(weights,2), Y)"
   ]
  },
  {
   "cell_type": "code",
   "execution_count": 67,
   "metadata": {},
   "outputs": [],
   "source": [
    "# l10\n",
    "model_l10 <- ranger(formula         = l10_win_04 ~ ., \n",
    "                data            = train %>% \n",
    "                                    select('l10_win_04') %>% \n",
    "                                    bind_cols(\n",
    "                                        train %>% \n",
    "                                        select(-contains('auc'),-contains('l10'),-'tld_registrar_index', -'tld_rat')), \n",
    "                importance = 'impurity', \n",
    "                num.trees       = 500,\n",
    "                probability = TRUE,\n",
    "                replace = FALSE,\n",
    "                sample.fraction = .8,\n",
    "                seed            = 123,\n",
    "                respect.unordered.factors=TRUE,\n",
    "               case.weights=weights)\n",
    "\n",
    "pred_l10 <- as.data.frame(predict(model_l10, \n",
    "                data = test,\n",
    "                type=\"response\")$predictions) %>%\n",
    "    mutate (l10_win_04_pred_model=sapply(apply(., \n",
    "                          1, function(x) names(x)[which.max(x)]) , \n",
    "                                    function(s) if (length(s) == 0) NA else paste(s, collapse = \" \")) \n",
    "            ) \n",
    "                                        \n",
    "# auc\n",
    "model_auc <- ranger(formula         = auc_win_04 ~ ., \n",
    "                data            = train %>% \n",
    "                                    select('auc_win_04') %>% \n",
    "                                    bind_cols(\n",
    "                                        train %>% \n",
    "                                        select(-contains('auc'),-contains('l10'),-'tld_registrar_index', -'tld_rat')), \n",
    "                importance = 'impurity', \n",
    "                num.trees       = 500,\n",
    "                probability = TRUE,\n",
    "                replace = FALSE,\n",
    "                sample.fraction = .8,\n",
    "                seed            = 123,\n",
    "                respect.unordered.factors=TRUE,\n",
    "               case.weights=weights)\n",
    "\n",
    "pred_auc <- as.data.frame(predict(model_auc, \n",
    "                data = test,\n",
    "                type=\"response\")$predictions) %>%\n",
    "                                               \n",
    "    mutate (auc_win_04_pred_model=sapply(apply(., \n",
    "                          1, function(x) names(x)[which.max(x)]) , \n",
    "                                    function(s) if (length(s) == 0) NA else paste(s, collapse = \" \")) \n",
    "            ) \n",
    "                                        "
   ]
  },
  {
   "cell_type": "code",
   "execution_count": 68,
   "metadata": {},
   "outputs": [
    {
     "data": {
      "text/html": [
       "<style>\n",
       ".list-inline {list-style: none; margin:0; padding: 0}\n",
       ".list-inline>li {display: inline-block}\n",
       ".list-inline>li:not(:last-child)::after {content: \"\\00b7\"; padding: 0 .5ex}\n",
       "</style>\n",
       "<ol class=list-inline><li>352</li><li>80</li></ol>\n"
      ],
      "text/latex": [
       "\\begin{enumerate*}\n",
       "\\item 352\n",
       "\\item 80\n",
       "\\end{enumerate*}\n"
      ],
      "text/markdown": [
       "1. 352\n",
       "2. 80\n",
       "\n",
       "\n"
      ],
      "text/plain": [
       "[1] 352  80"
      ]
     },
     "metadata": {},
     "output_type": "display_data"
    },
    {
     "data": {
      "text/html": [
       "<style>\n",
       ".list-inline {list-style: none; margin:0; padding: 0}\n",
       ".list-inline>li {display: inline-block}\n",
       ".list-inline>li:not(:last-child)::after {content: \"\\00b7\"; padding: 0 .5ex}\n",
       "</style>\n",
       "<ol class=list-inline><li>352</li><li>4</li></ol>\n"
      ],
      "text/latex": [
       "\\begin{enumerate*}\n",
       "\\item 352\n",
       "\\item 4\n",
       "\\end{enumerate*}\n"
      ],
      "text/markdown": [
       "1. 352\n",
       "2. 4\n",
       "\n",
       "\n"
      ],
      "text/plain": [
       "[1] 352   4"
      ]
     },
     "metadata": {},
     "output_type": "display_data"
    },
    {
     "data": {
      "text/html": [
       "<style>\n",
       ".list-inline {list-style: none; margin:0; padding: 0}\n",
       ".list-inline>li {display: inline-block}\n",
       ".list-inline>li:not(:last-child)::after {content: \"\\00b7\"; padding: 0 .5ex}\n",
       "</style>\n",
       "<ol class=list-inline><li>352</li><li>82</li></ol>\n"
      ],
      "text/latex": [
       "\\begin{enumerate*}\n",
       "\\item 352\n",
       "\\item 82\n",
       "\\end{enumerate*}\n"
      ],
      "text/markdown": [
       "1. 352\n",
       "2. 82\n",
       "\n",
       "\n"
      ],
      "text/plain": [
       "[1] 352  82"
      ]
     },
     "metadata": {},
     "output_type": "display_data"
    },
    {
     "data": {
      "text/html": [
       "<table>\n",
       "<caption>A data.frame: 6 × 82</caption>\n",
       "<thead>\n",
       "\t<tr><th></th><th scope=col>tld_registrar_index</th><th scope=col>geo_maj</th><th scope=col>geo_cnt</th><th scope=col>n</th><th scope=col>ren_prp</th><th scope=col>tld_cnt</th><th scope=col>tld_rat</th><th scope=col>daydom_min</th><th scope=col>daydom_max</th><th scope=col>daydom_mean</th><th scope=col>daydom_rng</th><th scope=col>daydom_std</th><th scope=col>daydom_skew</th><th scope=col>daydom_kurt</th><th scope=col>sldlen_min</th><th scope=col>sldlen_max</th><th scope=col>sldlen_mean</th><th scope=col>sldlen_rng</th><th scope=col>sldlen_std</th><th scope=col>sldlen_skew</th><th scope=col>sldlen_kurt</th><th scope=col>gibbs_min</th><th scope=col>gibbs_max</th><th scope=col>gibbs_mean</th><th scope=col>gibbs_rng</th><th scope=col>⋯</th><th scope=col>auc_agg_glm</th><th scope=col>auc_seg2_rf</th><th scope=col>auc_seg_rf</th><th scope=col>auc_agg_rf_ALL</th><th scope=col>auc_agg_rf</th><th scope=col>l10_seg2_glm_fb</th><th scope=col>l10_seg_glm_fb</th><th scope=col>l10_agg_glm_fb</th><th scope=col>l10_agg_glm_ALL_fb</th><th scope=col>l10_seg2_rf_fb</th><th scope=col>l10_seg_rf_fb</th><th scope=col>l10_agg_rf_fb</th><th scope=col>l10_agg_rf_ALL_fb</th><th scope=col>auc_seg2_glm_fb</th><th scope=col>auc_seg_glm_fb</th><th scope=col>auc_agg_glm_fb</th><th scope=col>auc_agg_glm_ALL_fb</th><th scope=col>auc_seg2_rf_fb</th><th scope=col>auc_seg_rf_fb</th><th scope=col>auc_agg_rf_fb</th><th scope=col>auc_agg_rf_ALL_fb</th><th scope=col>auc_win_04</th><th scope=col>l10_win_04</th><th scope=col>pred_l10$l10_win_04_pred_model</th><th scope=col>pred_auc$auc_win_04_pred_model</th></tr>\n",
       "\t<tr><th></th><th scope=col>&lt;fct&gt;</th><th scope=col>&lt;fct&gt;</th><th scope=col>&lt;int&gt;</th><th scope=col>&lt;int&gt;</th><th scope=col>&lt;dbl&gt;</th><th scope=col>&lt;int&gt;</th><th scope=col>&lt;dbl&gt;</th><th scope=col>&lt;int&gt;</th><th scope=col>&lt;int&gt;</th><th scope=col>&lt;dbl&gt;</th><th scope=col>&lt;int&gt;</th><th scope=col>&lt;dbl&gt;</th><th scope=col>&lt;dbl&gt;</th><th scope=col>&lt;dbl&gt;</th><th scope=col>&lt;int&gt;</th><th scope=col>&lt;int&gt;</th><th scope=col>&lt;dbl&gt;</th><th scope=col>&lt;int&gt;</th><th scope=col>&lt;dbl&gt;</th><th scope=col>&lt;dbl&gt;</th><th scope=col>&lt;dbl&gt;</th><th scope=col>&lt;dbl&gt;</th><th scope=col>&lt;dbl&gt;</th><th scope=col>&lt;dbl&gt;</th><th scope=col>&lt;dbl&gt;</th><th scope=col>⋯</th><th scope=col>&lt;dbl&gt;</th><th scope=col>&lt;dbl&gt;</th><th scope=col>&lt;dbl&gt;</th><th scope=col>&lt;dbl&gt;</th><th scope=col>&lt;dbl&gt;</th><th scope=col>&lt;dbl&gt;</th><th scope=col>&lt;dbl&gt;</th><th scope=col>&lt;dbl&gt;</th><th scope=col>&lt;dbl&gt;</th><th scope=col>&lt;dbl&gt;</th><th scope=col>&lt;dbl&gt;</th><th scope=col>&lt;dbl&gt;</th><th scope=col>&lt;dbl&gt;</th><th scope=col>&lt;dbl&gt;</th><th scope=col>&lt;dbl&gt;</th><th scope=col>&lt;dbl&gt;</th><th scope=col>&lt;dbl&gt;</th><th scope=col>&lt;dbl&gt;</th><th scope=col>&lt;dbl&gt;</th><th scope=col>&lt;dbl&gt;</th><th scope=col>&lt;dbl&gt;</th><th scope=col>&lt;chr&gt;</th><th scope=col>&lt;chr&gt;</th><th scope=col>&lt;fct&gt;</th><th scope=col>&lt;fct&gt;</th></tr>\n",
       "</thead>\n",
       "<tbody>\n",
       "\t<tr><th scope=row>3</th><td>fun1api          </td><td>EU                        </td><td>1</td><td>  8</td><td>0.50000000</td><td>1</td><td>0.125000000</td><td>1</td><td>  1</td><td>  1.000000</td><td>  0</td><td>  0.0000000</td><td> 1.3239303</td><td> 0.4253299</td><td> 4</td><td>15</td><td> 8.875000</td><td>11</td><td>3.5228844</td><td> 0.4848693</td><td>-1.143452</td><td>2.00</td><td>  6.09</td><td> 4.396250</td><td> 4.09</td><td>⋯</td><td>0.4250000</td><td>0.3500000</td><td>0.4750000</td><td>0.3500000</td><td>0.5500000</td><td>2.500000</td><td>2.500000</td><td>2.500000</td><td>2.500000</td><td>2.500000</td><td>2.500000</td><td>2.500000</td><td>2.500000</td><td>0.4250000</td><td>0.4250000</td><td>0.4250000</td><td>0.4250000</td><td>0.4250000</td><td>0.4250000</td><td>0.4250000</td><td>0.4250000</td><td>auc_seg2_glm_fb</td><td>l10_seg2_glm_fb</td><td>l10_seg2_glm  </td><td>auc_seg2_glm  </td></tr>\n",
       "\t<tr><th scope=row>7</th><td>funalibaba sg    </td><td>China                     </td><td>1</td><td>195</td><td>0.04102564</td><td>1</td><td>0.005128205</td><td>1</td><td>490</td><td>296.728205</td><td>489</td><td>228.3117623</td><td>-0.3415584</td><td>-1.8644672</td><td> 4</td><td>15</td><td> 6.794872</td><td>11</td><td>2.3106598</td><td> 1.4636429</td><td> 1.315210</td><td>0.12</td><td> 16.72</td><td> 4.425128</td><td>16.60</td><td>⋯</td><td>0.8625000</td><td>0.8875000</td><td>0.8750000</td><td>0.8750000</td><td>0.8750000</td><td>7.500000</td><td>5.000000</td><td>6.250000</td><td>6.250000</td><td>3.750000</td><td>2.500000</td><td>3.750000</td><td>3.750000</td><td>0.9250000</td><td>0.9000000</td><td>0.8625000</td><td>0.8500000</td><td>0.8875000</td><td>0.8750000</td><td>0.8750000</td><td>0.8750000</td><td>auc_seg2_glm   </td><td>l10_seg2_glm   </td><td>l10_agg_rf_ALL</td><td>auc_agg_rf_ALL</td></tr>\n",
       "\t<tr><th scope=row>15</th><td><span style=white-space:pre-wrap>funcafe24        </span></td><td>Vietnam, Korea &amp; Indonesia</td><td>1</td><td><span style=white-space:pre-wrap>  3</span></td><td>0.00000000</td><td>1</td><td>0.333333333</td><td>1</td><td><span style=white-space:pre-wrap>  2</span></td><td><span style=white-space:pre-wrap>  1.333333</span></td><td><span style=white-space:pre-wrap>  1</span></td><td><span style=white-space:pre-wrap>  0.5773503</span></td><td> 0.3849002</td><td>-2.3333333</td><td> 5</td><td> 6</td><td> 5.666667</td><td> 1</td><td>0.5773503</td><td>-0.3849002</td><td>-2.333333</td><td>0.48</td><td><span style=white-space:pre-wrap>  5.80</span></td><td> 2.926667</td><td> 5.32</td><td>⋯</td><td>0.5958416</td><td>0.6633538</td><td>0.6639699</td><td>0.6084731</td><td>0.6067653</td><td>4.536945</td><td>4.681353</td><td>4.548321</td><td>4.456419</td><td>4.999079</td><td>4.987562</td><td>4.715769</td><td>4.864245</td><td>0.5971485</td><td>0.6049431</td><td>0.6037368</td><td>0.6050447</td><td>0.6006976</td><td>0.6204039</td><td>0.6056535</td><td>0.6022798</td><td><span style=white-space:pre-wrap>auc_seg2_glm   </span></td><td><span style=white-space:pre-wrap>l10_seg2_glm   </span></td><td><span style=white-space:pre-wrap>l10_seg2_glm  </span></td><td><span style=white-space:pre-wrap>auc_seg2_glm  </span></td></tr>\n",
       "\t<tr><th scope=row>21</th><td>funcronon ag     </td><td>EU                        </td><td>1</td><td> 10</td><td>0.70000000</td><td>1</td><td>0.100000000</td><td>1</td><td>  3</td><td>  1.400000</td><td>  2</td><td>  0.6992059</td><td> 1.1935618</td><td>-0.0746281</td><td> 3</td><td>24</td><td>11.400000</td><td>21</td><td>7.3966960</td><td> 0.7355118</td><td>-1.053701</td><td>1.05</td><td>100.00</td><td>13.731000</td><td>98.95</td><td>⋯</td><td>0.6500000</td><td>0.6500000</td><td>0.6500000</td><td>0.6500000</td><td>0.5785714</td><td>1.428571</td><td>1.428571</td><td>1.428571</td><td>1.428571</td><td>1.428571</td><td>1.428571</td><td>1.428571</td><td>1.428571</td><td>0.5071429</td><td>0.5071429</td><td>0.5071429</td><td>0.5071429</td><td>0.5071429</td><td>0.5071429</td><td>0.5071429</td><td>0.5071429</td><td>auc_seg2_glm   </td><td>l10_seg2_glm   </td><td>l10_seg2_glm  </td><td>auc_seg2_glm  </td></tr>\n",
       "\t<tr><th scope=row>22</th><td>funcsc corporate </td><td>United States             </td><td>1</td><td>  3</td><td>1.00000000</td><td>1</td><td>0.333333333</td><td>1</td><td>  4</td><td>  3.000000</td><td>  3</td><td>  1.7320508</td><td>-0.3849002</td><td>-2.3333333</td><td>11</td><td>16</td><td>14.000000</td><td> 5</td><td>2.6457513</td><td>-0.3239695</td><td>-2.333333</td><td>4.71</td><td>  6.28</td><td> 5.233333</td><td> 1.57</td><td>⋯</td><td>0.5500000</td><td>0.5500000</td><td>0.5500000</td><td>0.5500000</td><td>0.5500000</td><td>3.333333</td><td>3.333333</td><td>3.333333</td><td>3.333333</td><td>3.333333</td><td>3.333333</td><td>3.333333</td><td>3.333333</td><td>0.5500000</td><td>0.5500000</td><td>0.5500000</td><td>0.5500000</td><td>0.5500000</td><td>0.5500000</td><td>0.5500000</td><td>0.5500000</td><td>auc_seg2_glm   </td><td>l10_seg2_glm   </td><td>l10_seg2_glm  </td><td>auc_seg2_glm  </td></tr>\n",
       "\t<tr><th scope=row>43</th><td>funglobal domains</td><td>United States             </td><td>1</td><td>271</td><td>0.00000000</td><td>1</td><td>0.003690037</td><td>1</td><td> 71</td><td> 32.129151</td><td> 70</td><td> 20.7593334</td><td> 0.4921998</td><td>-0.8367946</td><td> 4</td><td>23</td><td>11.025830</td><td>19</td><td>3.6223684</td><td> 1.0939010</td><td> 1.296427</td><td>0.52</td><td> 12.22</td><td> 5.511661</td><td>11.70</td><td>⋯</td><td>0.7102945</td><td>0.8481077</td><td>0.8628502</td><td>0.8689270</td><td>0.8609050</td><td>4.989811</td><td>4.857151</td><td>3.924294</td><td>4.053440</td><td>5.970871</td><td>5.881859</td><td>5.689844</td><td>5.884340</td><td>0.7839049</td><td>0.7818874</td><td>0.7192491</td><td>0.7202959</td><td>0.8423924</td><td>0.8543788</td><td>0.8469576</td><td>0.8558677</td><td>auc_agg_rf_ALL </td><td>l10_agg_rf_ALL </td><td>l10_agg_rf_ALL</td><td>auc_agg_rf_ALL</td></tr>\n",
       "</tbody>\n",
       "</table>\n"
      ],
      "text/latex": [
       "A data.frame: 6 × 82\n",
       "\\begin{tabular}{r|lllllllllllllllllllllllllllllllllllllllllllllllllll}\n",
       "  & tld\\_registrar\\_index & geo\\_maj & geo\\_cnt & n & ren\\_prp & tld\\_cnt & tld\\_rat & daydom\\_min & daydom\\_max & daydom\\_mean & daydom\\_rng & daydom\\_std & daydom\\_skew & daydom\\_kurt & sldlen\\_min & sldlen\\_max & sldlen\\_mean & sldlen\\_rng & sldlen\\_std & sldlen\\_skew & sldlen\\_kurt & gibbs\\_min & gibbs\\_max & gibbs\\_mean & gibbs\\_rng & ⋯ & auc\\_agg\\_glm & auc\\_seg2\\_rf & auc\\_seg\\_rf & auc\\_agg\\_rf\\_ALL & auc\\_agg\\_rf & l10\\_seg2\\_glm\\_fb & l10\\_seg\\_glm\\_fb & l10\\_agg\\_glm\\_fb & l10\\_agg\\_glm\\_ALL\\_fb & l10\\_seg2\\_rf\\_fb & l10\\_seg\\_rf\\_fb & l10\\_agg\\_rf\\_fb & l10\\_agg\\_rf\\_ALL\\_fb & auc\\_seg2\\_glm\\_fb & auc\\_seg\\_glm\\_fb & auc\\_agg\\_glm\\_fb & auc\\_agg\\_glm\\_ALL\\_fb & auc\\_seg2\\_rf\\_fb & auc\\_seg\\_rf\\_fb & auc\\_agg\\_rf\\_fb & auc\\_agg\\_rf\\_ALL\\_fb & auc\\_win\\_04 & l10\\_win\\_04 & pred\\_l10\\$l10\\_win\\_04\\_pred\\_model & pred\\_auc\\$auc\\_win\\_04\\_pred\\_model\\\\\n",
       "  & <fct> & <fct> & <int> & <int> & <dbl> & <int> & <dbl> & <int> & <int> & <dbl> & <int> & <dbl> & <dbl> & <dbl> & <int> & <int> & <dbl> & <int> & <dbl> & <dbl> & <dbl> & <dbl> & <dbl> & <dbl> & <dbl> & ⋯ & <dbl> & <dbl> & <dbl> & <dbl> & <dbl> & <dbl> & <dbl> & <dbl> & <dbl> & <dbl> & <dbl> & <dbl> & <dbl> & <dbl> & <dbl> & <dbl> & <dbl> & <dbl> & <dbl> & <dbl> & <dbl> & <chr> & <chr> & <fct> & <fct>\\\\\n",
       "\\hline\n",
       "\t3 & fun1api           & EU                         & 1 &   8 & 0.50000000 & 1 & 0.125000000 & 1 &   1 &   1.000000 &   0 &   0.0000000 &  1.3239303 &  0.4253299 &  4 & 15 &  8.875000 & 11 & 3.5228844 &  0.4848693 & -1.143452 & 2.00 &   6.09 &  4.396250 &  4.09 & ⋯ & 0.4250000 & 0.3500000 & 0.4750000 & 0.3500000 & 0.5500000 & 2.500000 & 2.500000 & 2.500000 & 2.500000 & 2.500000 & 2.500000 & 2.500000 & 2.500000 & 0.4250000 & 0.4250000 & 0.4250000 & 0.4250000 & 0.4250000 & 0.4250000 & 0.4250000 & 0.4250000 & auc\\_seg2\\_glm\\_fb & l10\\_seg2\\_glm\\_fb & l10\\_seg2\\_glm   & auc\\_seg2\\_glm  \\\\\n",
       "\t7 & funalibaba sg     & China                      & 1 & 195 & 0.04102564 & 1 & 0.005128205 & 1 & 490 & 296.728205 & 489 & 228.3117623 & -0.3415584 & -1.8644672 &  4 & 15 &  6.794872 & 11 & 2.3106598 &  1.4636429 &  1.315210 & 0.12 &  16.72 &  4.425128 & 16.60 & ⋯ & 0.8625000 & 0.8875000 & 0.8750000 & 0.8750000 & 0.8750000 & 7.500000 & 5.000000 & 6.250000 & 6.250000 & 3.750000 & 2.500000 & 3.750000 & 3.750000 & 0.9250000 & 0.9000000 & 0.8625000 & 0.8500000 & 0.8875000 & 0.8750000 & 0.8750000 & 0.8750000 & auc\\_seg2\\_glm    & l10\\_seg2\\_glm    & l10\\_agg\\_rf\\_ALL & auc\\_agg\\_rf\\_ALL\\\\\n",
       "\t15 & funcafe24         & Vietnam, Korea \\& Indonesia & 1 &   3 & 0.00000000 & 1 & 0.333333333 & 1 &   2 &   1.333333 &   1 &   0.5773503 &  0.3849002 & -2.3333333 &  5 &  6 &  5.666667 &  1 & 0.5773503 & -0.3849002 & -2.333333 & 0.48 &   5.80 &  2.926667 &  5.32 & ⋯ & 0.5958416 & 0.6633538 & 0.6639699 & 0.6084731 & 0.6067653 & 4.536945 & 4.681353 & 4.548321 & 4.456419 & 4.999079 & 4.987562 & 4.715769 & 4.864245 & 0.5971485 & 0.6049431 & 0.6037368 & 0.6050447 & 0.6006976 & 0.6204039 & 0.6056535 & 0.6022798 & auc\\_seg2\\_glm    & l10\\_seg2\\_glm    & l10\\_seg2\\_glm   & auc\\_seg2\\_glm  \\\\\n",
       "\t21 & funcronon ag      & EU                         & 1 &  10 & 0.70000000 & 1 & 0.100000000 & 1 &   3 &   1.400000 &   2 &   0.6992059 &  1.1935618 & -0.0746281 &  3 & 24 & 11.400000 & 21 & 7.3966960 &  0.7355118 & -1.053701 & 1.05 & 100.00 & 13.731000 & 98.95 & ⋯ & 0.6500000 & 0.6500000 & 0.6500000 & 0.6500000 & 0.5785714 & 1.428571 & 1.428571 & 1.428571 & 1.428571 & 1.428571 & 1.428571 & 1.428571 & 1.428571 & 0.5071429 & 0.5071429 & 0.5071429 & 0.5071429 & 0.5071429 & 0.5071429 & 0.5071429 & 0.5071429 & auc\\_seg2\\_glm    & l10\\_seg2\\_glm    & l10\\_seg2\\_glm   & auc\\_seg2\\_glm  \\\\\n",
       "\t22 & funcsc corporate  & United States              & 1 &   3 & 1.00000000 & 1 & 0.333333333 & 1 &   4 &   3.000000 &   3 &   1.7320508 & -0.3849002 & -2.3333333 & 11 & 16 & 14.000000 &  5 & 2.6457513 & -0.3239695 & -2.333333 & 4.71 &   6.28 &  5.233333 &  1.57 & ⋯ & 0.5500000 & 0.5500000 & 0.5500000 & 0.5500000 & 0.5500000 & 3.333333 & 3.333333 & 3.333333 & 3.333333 & 3.333333 & 3.333333 & 3.333333 & 3.333333 & 0.5500000 & 0.5500000 & 0.5500000 & 0.5500000 & 0.5500000 & 0.5500000 & 0.5500000 & 0.5500000 & auc\\_seg2\\_glm    & l10\\_seg2\\_glm    & l10\\_seg2\\_glm   & auc\\_seg2\\_glm  \\\\\n",
       "\t43 & funglobal domains & United States              & 1 & 271 & 0.00000000 & 1 & 0.003690037 & 1 &  71 &  32.129151 &  70 &  20.7593334 &  0.4921998 & -0.8367946 &  4 & 23 & 11.025830 & 19 & 3.6223684 &  1.0939010 &  1.296427 & 0.52 &  12.22 &  5.511661 & 11.70 & ⋯ & 0.7102945 & 0.8481077 & 0.8628502 & 0.8689270 & 0.8609050 & 4.989811 & 4.857151 & 3.924294 & 4.053440 & 5.970871 & 5.881859 & 5.689844 & 5.884340 & 0.7839049 & 0.7818874 & 0.7192491 & 0.7202959 & 0.8423924 & 0.8543788 & 0.8469576 & 0.8558677 & auc\\_agg\\_rf\\_ALL  & l10\\_agg\\_rf\\_ALL  & l10\\_agg\\_rf\\_ALL & auc\\_agg\\_rf\\_ALL\\\\\n",
       "\\end{tabular}\n"
      ],
      "text/markdown": [
       "\n",
       "A data.frame: 6 × 82\n",
       "\n",
       "| <!--/--> | tld_registrar_index &lt;fct&gt; | geo_maj &lt;fct&gt; | geo_cnt &lt;int&gt; | n &lt;int&gt; | ren_prp &lt;dbl&gt; | tld_cnt &lt;int&gt; | tld_rat &lt;dbl&gt; | daydom_min &lt;int&gt; | daydom_max &lt;int&gt; | daydom_mean &lt;dbl&gt; | daydom_rng &lt;int&gt; | daydom_std &lt;dbl&gt; | daydom_skew &lt;dbl&gt; | daydom_kurt &lt;dbl&gt; | sldlen_min &lt;int&gt; | sldlen_max &lt;int&gt; | sldlen_mean &lt;dbl&gt; | sldlen_rng &lt;int&gt; | sldlen_std &lt;dbl&gt; | sldlen_skew &lt;dbl&gt; | sldlen_kurt &lt;dbl&gt; | gibbs_min &lt;dbl&gt; | gibbs_max &lt;dbl&gt; | gibbs_mean &lt;dbl&gt; | gibbs_rng &lt;dbl&gt; | ⋯ ⋯ | auc_agg_glm &lt;dbl&gt; | auc_seg2_rf &lt;dbl&gt; | auc_seg_rf &lt;dbl&gt; | auc_agg_rf_ALL &lt;dbl&gt; | auc_agg_rf &lt;dbl&gt; | l10_seg2_glm_fb &lt;dbl&gt; | l10_seg_glm_fb &lt;dbl&gt; | l10_agg_glm_fb &lt;dbl&gt; | l10_agg_glm_ALL_fb &lt;dbl&gt; | l10_seg2_rf_fb &lt;dbl&gt; | l10_seg_rf_fb &lt;dbl&gt; | l10_agg_rf_fb &lt;dbl&gt; | l10_agg_rf_ALL_fb &lt;dbl&gt; | auc_seg2_glm_fb &lt;dbl&gt; | auc_seg_glm_fb &lt;dbl&gt; | auc_agg_glm_fb &lt;dbl&gt; | auc_agg_glm_ALL_fb &lt;dbl&gt; | auc_seg2_rf_fb &lt;dbl&gt; | auc_seg_rf_fb &lt;dbl&gt; | auc_agg_rf_fb &lt;dbl&gt; | auc_agg_rf_ALL_fb &lt;dbl&gt; | auc_win_04 &lt;chr&gt; | l10_win_04 &lt;chr&gt; | pred_l10$l10_win_04_pred_model &lt;fct&gt; | pred_auc$auc_win_04_pred_model &lt;fct&gt; |\n",
       "|---|---|---|---|---|---|---|---|---|---|---|---|---|---|---|---|---|---|---|---|---|---|---|---|---|---|---|---|---|---|---|---|---|---|---|---|---|---|---|---|---|---|---|---|---|---|---|---|---|---|---|---|\n",
       "| 3 | fun1api           | EU                         | 1 |   8 | 0.50000000 | 1 | 0.125000000 | 1 |   1 |   1.000000 |   0 |   0.0000000 |  1.3239303 |  0.4253299 |  4 | 15 |  8.875000 | 11 | 3.5228844 |  0.4848693 | -1.143452 | 2.00 |   6.09 |  4.396250 |  4.09 | ⋯ | 0.4250000 | 0.3500000 | 0.4750000 | 0.3500000 | 0.5500000 | 2.500000 | 2.500000 | 2.500000 | 2.500000 | 2.500000 | 2.500000 | 2.500000 | 2.500000 | 0.4250000 | 0.4250000 | 0.4250000 | 0.4250000 | 0.4250000 | 0.4250000 | 0.4250000 | 0.4250000 | auc_seg2_glm_fb | l10_seg2_glm_fb | l10_seg2_glm   | auc_seg2_glm   |\n",
       "| 7 | funalibaba sg     | China                      | 1 | 195 | 0.04102564 | 1 | 0.005128205 | 1 | 490 | 296.728205 | 489 | 228.3117623 | -0.3415584 | -1.8644672 |  4 | 15 |  6.794872 | 11 | 2.3106598 |  1.4636429 |  1.315210 | 0.12 |  16.72 |  4.425128 | 16.60 | ⋯ | 0.8625000 | 0.8875000 | 0.8750000 | 0.8750000 | 0.8750000 | 7.500000 | 5.000000 | 6.250000 | 6.250000 | 3.750000 | 2.500000 | 3.750000 | 3.750000 | 0.9250000 | 0.9000000 | 0.8625000 | 0.8500000 | 0.8875000 | 0.8750000 | 0.8750000 | 0.8750000 | auc_seg2_glm    | l10_seg2_glm    | l10_agg_rf_ALL | auc_agg_rf_ALL |\n",
       "| 15 | funcafe24         | Vietnam, Korea &amp; Indonesia | 1 |   3 | 0.00000000 | 1 | 0.333333333 | 1 |   2 |   1.333333 |   1 |   0.5773503 |  0.3849002 | -2.3333333 |  5 |  6 |  5.666667 |  1 | 0.5773503 | -0.3849002 | -2.333333 | 0.48 |   5.80 |  2.926667 |  5.32 | ⋯ | 0.5958416 | 0.6633538 | 0.6639699 | 0.6084731 | 0.6067653 | 4.536945 | 4.681353 | 4.548321 | 4.456419 | 4.999079 | 4.987562 | 4.715769 | 4.864245 | 0.5971485 | 0.6049431 | 0.6037368 | 0.6050447 | 0.6006976 | 0.6204039 | 0.6056535 | 0.6022798 | auc_seg2_glm    | l10_seg2_glm    | l10_seg2_glm   | auc_seg2_glm   |\n",
       "| 21 | funcronon ag      | EU                         | 1 |  10 | 0.70000000 | 1 | 0.100000000 | 1 |   3 |   1.400000 |   2 |   0.6992059 |  1.1935618 | -0.0746281 |  3 | 24 | 11.400000 | 21 | 7.3966960 |  0.7355118 | -1.053701 | 1.05 | 100.00 | 13.731000 | 98.95 | ⋯ | 0.6500000 | 0.6500000 | 0.6500000 | 0.6500000 | 0.5785714 | 1.428571 | 1.428571 | 1.428571 | 1.428571 | 1.428571 | 1.428571 | 1.428571 | 1.428571 | 0.5071429 | 0.5071429 | 0.5071429 | 0.5071429 | 0.5071429 | 0.5071429 | 0.5071429 | 0.5071429 | auc_seg2_glm    | l10_seg2_glm    | l10_seg2_glm   | auc_seg2_glm   |\n",
       "| 22 | funcsc corporate  | United States              | 1 |   3 | 1.00000000 | 1 | 0.333333333 | 1 |   4 |   3.000000 |   3 |   1.7320508 | -0.3849002 | -2.3333333 | 11 | 16 | 14.000000 |  5 | 2.6457513 | -0.3239695 | -2.333333 | 4.71 |   6.28 |  5.233333 |  1.57 | ⋯ | 0.5500000 | 0.5500000 | 0.5500000 | 0.5500000 | 0.5500000 | 3.333333 | 3.333333 | 3.333333 | 3.333333 | 3.333333 | 3.333333 | 3.333333 | 3.333333 | 0.5500000 | 0.5500000 | 0.5500000 | 0.5500000 | 0.5500000 | 0.5500000 | 0.5500000 | 0.5500000 | auc_seg2_glm    | l10_seg2_glm    | l10_seg2_glm   | auc_seg2_glm   |\n",
       "| 43 | funglobal domains | United States              | 1 | 271 | 0.00000000 | 1 | 0.003690037 | 1 |  71 |  32.129151 |  70 |  20.7593334 |  0.4921998 | -0.8367946 |  4 | 23 | 11.025830 | 19 | 3.6223684 |  1.0939010 |  1.296427 | 0.52 |  12.22 |  5.511661 | 11.70 | ⋯ | 0.7102945 | 0.8481077 | 0.8628502 | 0.8689270 | 0.8609050 | 4.989811 | 4.857151 | 3.924294 | 4.053440 | 5.970871 | 5.881859 | 5.689844 | 5.884340 | 0.7839049 | 0.7818874 | 0.7192491 | 0.7202959 | 0.8423924 | 0.8543788 | 0.8469576 | 0.8558677 | auc_agg_rf_ALL  | l10_agg_rf_ALL  | l10_agg_rf_ALL | auc_agg_rf_ALL |\n",
       "\n"
      ],
      "text/plain": [
       "   tld_registrar_index geo_maj                    geo_cnt n   ren_prp   \n",
       "3  fun1api             EU                         1         8 0.50000000\n",
       "7  funalibaba sg       China                      1       195 0.04102564\n",
       "15 funcafe24           Vietnam, Korea & Indonesia 1         3 0.00000000\n",
       "21 funcronon ag        EU                         1        10 0.70000000\n",
       "22 funcsc corporate    United States              1         3 1.00000000\n",
       "43 funglobal domains   United States              1       271 0.00000000\n",
       "   tld_cnt tld_rat     daydom_min daydom_max daydom_mean daydom_rng daydom_std \n",
       "3  1       0.125000000 1            1          1.000000    0          0.0000000\n",
       "7  1       0.005128205 1          490        296.728205  489        228.3117623\n",
       "15 1       0.333333333 1            2          1.333333    1          0.5773503\n",
       "21 1       0.100000000 1            3          1.400000    2          0.6992059\n",
       "22 1       0.333333333 1            4          3.000000    3          1.7320508\n",
       "43 1       0.003690037 1           71         32.129151   70         20.7593334\n",
       "   daydom_skew daydom_kurt sldlen_min sldlen_max sldlen_mean sldlen_rng\n",
       "3   1.3239303   0.4253299   4         15          8.875000   11        \n",
       "7  -0.3415584  -1.8644672   4         15          6.794872   11        \n",
       "15  0.3849002  -2.3333333   5          6          5.666667    1        \n",
       "21  1.1935618  -0.0746281   3         24         11.400000   21        \n",
       "22 -0.3849002  -2.3333333  11         16         14.000000    5        \n",
       "43  0.4921998  -0.8367946   4         23         11.025830   19        \n",
       "   sldlen_std sldlen_skew sldlen_kurt gibbs_min gibbs_max gibbs_mean gibbs_rng\n",
       "3  3.5228844   0.4848693  -1.143452   2.00        6.09     4.396250   4.09    \n",
       "7  2.3106598   1.4636429   1.315210   0.12       16.72     4.425128  16.60    \n",
       "15 0.5773503  -0.3849002  -2.333333   0.48        5.80     2.926667   5.32    \n",
       "21 7.3966960   0.7355118  -1.053701   1.05      100.00    13.731000  98.95    \n",
       "22 2.6457513  -0.3239695  -2.333333   4.71        6.28     5.233333   1.57    \n",
       "43 3.6223684   1.0939010   1.296427   0.52       12.22     5.511661  11.70    \n",
       "   ⋯ auc_agg_glm auc_seg2_rf auc_seg_rf auc_agg_rf_ALL auc_agg_rf\n",
       "3  ⋯ 0.4250000   0.3500000   0.4750000  0.3500000      0.5500000 \n",
       "7  ⋯ 0.8625000   0.8875000   0.8750000  0.8750000      0.8750000 \n",
       "15 ⋯ 0.5958416   0.6633538   0.6639699  0.6084731      0.6067653 \n",
       "21 ⋯ 0.6500000   0.6500000   0.6500000  0.6500000      0.5785714 \n",
       "22 ⋯ 0.5500000   0.5500000   0.5500000  0.5500000      0.5500000 \n",
       "43 ⋯ 0.7102945   0.8481077   0.8628502  0.8689270      0.8609050 \n",
       "   l10_seg2_glm_fb l10_seg_glm_fb l10_agg_glm_fb l10_agg_glm_ALL_fb\n",
       "3  2.500000        2.500000       2.500000       2.500000          \n",
       "7  7.500000        5.000000       6.250000       6.250000          \n",
       "15 4.536945        4.681353       4.548321       4.456419          \n",
       "21 1.428571        1.428571       1.428571       1.428571          \n",
       "22 3.333333        3.333333       3.333333       3.333333          \n",
       "43 4.989811        4.857151       3.924294       4.053440          \n",
       "   l10_seg2_rf_fb l10_seg_rf_fb l10_agg_rf_fb l10_agg_rf_ALL_fb auc_seg2_glm_fb\n",
       "3  2.500000       2.500000      2.500000      2.500000          0.4250000      \n",
       "7  3.750000       2.500000      3.750000      3.750000          0.9250000      \n",
       "15 4.999079       4.987562      4.715769      4.864245          0.5971485      \n",
       "21 1.428571       1.428571      1.428571      1.428571          0.5071429      \n",
       "22 3.333333       3.333333      3.333333      3.333333          0.5500000      \n",
       "43 5.970871       5.881859      5.689844      5.884340          0.7839049      \n",
       "   auc_seg_glm_fb auc_agg_glm_fb auc_agg_glm_ALL_fb auc_seg2_rf_fb\n",
       "3  0.4250000      0.4250000      0.4250000          0.4250000     \n",
       "7  0.9000000      0.8625000      0.8500000          0.8875000     \n",
       "15 0.6049431      0.6037368      0.6050447          0.6006976     \n",
       "21 0.5071429      0.5071429      0.5071429          0.5071429     \n",
       "22 0.5500000      0.5500000      0.5500000          0.5500000     \n",
       "43 0.7818874      0.7192491      0.7202959          0.8423924     \n",
       "   auc_seg_rf_fb auc_agg_rf_fb auc_agg_rf_ALL_fb auc_win_04     \n",
       "3  0.4250000     0.4250000     0.4250000         auc_seg2_glm_fb\n",
       "7  0.8750000     0.8750000     0.8750000         auc_seg2_glm   \n",
       "15 0.6204039     0.6056535     0.6022798         auc_seg2_glm   \n",
       "21 0.5071429     0.5071429     0.5071429         auc_seg2_glm   \n",
       "22 0.5500000     0.5500000     0.5500000         auc_seg2_glm   \n",
       "43 0.8543788     0.8469576     0.8558677         auc_agg_rf_ALL \n",
       "   l10_win_04      pred_l10$l10_win_04_pred_model\n",
       "3  l10_seg2_glm_fb l10_seg2_glm                  \n",
       "7  l10_seg2_glm    l10_agg_rf_ALL                \n",
       "15 l10_seg2_glm    l10_seg2_glm                  \n",
       "21 l10_seg2_glm    l10_seg2_glm                  \n",
       "22 l10_seg2_glm    l10_seg2_glm                  \n",
       "43 l10_agg_rf_ALL  l10_agg_rf_ALL                \n",
       "   pred_auc$auc_win_04_pred_model\n",
       "3  auc_seg2_glm                  \n",
       "7  auc_agg_rf_ALL                \n",
       "15 auc_seg2_glm                  \n",
       "21 auc_seg2_glm                  \n",
       "22 auc_seg2_glm                  \n",
       "43 auc_agg_rf_ALL                "
      ]
     },
     "metadata": {},
     "output_type": "display_data"
    }
   ],
   "source": [
    "test_pred <- cbind(test,pred_l10$l10_win_04_pred_model,pred_auc$auc_win_04_pred_model)\n",
    "# test_pred <- test_pred %>% select()\n",
    "dim(test)\n",
    "dim(pred)\n",
    "dim(test_pred)\n",
    "head(test_pred)\n",
    "# 04.1 is the prediction result"
   ]
  },
  {
   "cell_type": "markdown",
   "metadata": {},
   "source": [
    "# Assign model based on preds"
   ]
  },
  {
   "cell_type": "code",
   "execution_count": 69,
   "metadata": {},
   "outputs": [
    {
     "data": {
      "text/html": [
       "<style>\n",
       ".list-inline {list-style: none; margin:0; padding: 0}\n",
       ".list-inline>li {display: inline-block}\n",
       ".list-inline>li:not(:last-child)::after {content: \"\\00b7\"; padding: 0 .5ex}\n",
       "</style>\n",
       "<ol class=list-inline><li>932347</li><li>59</li></ol>\n"
      ],
      "text/latex": [
       "\\begin{enumerate*}\n",
       "\\item 932347\n",
       "\\item 59\n",
       "\\end{enumerate*}\n"
      ],
      "text/markdown": [
       "1. 932347\n",
       "2. 59\n",
       "\n",
       "\n"
      ],
      "text/plain": [
       "[1] 932347     59"
      ]
     },
     "metadata": {},
     "output_type": "display_data"
    },
    {
     "data": {
      "text/html": [
       "<style>\n",
       ".list-inline {list-style: none; margin:0; padding: 0}\n",
       ".list-inline>li {display: inline-block}\n",
       ".list-inline>li:not(:last-child)::after {content: \"\\00b7\"; padding: 0 .5ex}\n",
       "</style>\n",
       "<ol class=list-inline><li>99187</li><li>61</li></ol>\n"
      ],
      "text/latex": [
       "\\begin{enumerate*}\n",
       "\\item 99187\n",
       "\\item 61\n",
       "\\end{enumerate*}\n"
      ],
      "text/markdown": [
       "1. 99187\n",
       "2. 61\n",
       "\n",
       "\n"
      ],
      "text/plain": [
       "[1] 99187    61"
      ]
     },
     "metadata": {},
     "output_type": "display_data"
    },
    {
     "data": {
      "text/html": [
       "<table>\n",
       "<caption>A data.frame: 6 × 61</caption>\n",
       "<thead>\n",
       "\t<tr><th></th><th scope=col>tld_registrar_index</th><th scope=col>reseller</th><th scope=col>reseller_country</th><th scope=col>domain_id</th><th scope=col>renewal_type</th><th scope=col>renewed_count</th><th scope=col>expiry_date</th><th scope=col>creation_date</th><th scope=col>status</th><th scope=col>domain</th><th scope=col>registrar</th><th scope=col>registrant_country</th><th scope=col>reg_period</th><th scope=col>reg_revenue</th><th scope=col>reg_arpt</th><th scope=col>renew_mbg</th><th scope=col>renewal_item_id</th><th scope=col>renew_type</th><th scope=col>autorenew_type</th><th scope=col>renewal_status</th><th scope=col>renew_date</th><th scope=col>renew_arpt</th><th scope=col>gibb_score</th><th scope=col>pattern</th><th scope=col>pattern_domain_count</th><th scope=col>⋯</th><th scope=col>pred_seg_glm_ALL</th><th scope=col>pred_seg_rf_ALL</th><th scope=col>pred_seg2_glm_ALL</th><th scope=col>pred_seg2_rf_ALL</th><th scope=col>reseller_geo</th><th scope=col>pred_agg_glm_ALL_fb</th><th scope=col>pred_agg_rf_ALL_fb</th><th scope=col>pred_agg_glm_fb</th><th scope=col>pred_agg_rf_fb</th><th scope=col>pred_seg_glm_ALL_fb</th><th scope=col>pred_seg_rf_ALL_fb</th><th scope=col>pred_seg2_glm_ALL_fb</th><th scope=col>pred_seg2_rf_ALL_fb</th><th scope=col>reg_arpt_org</th><th scope=col>reg_arpt_slab</th><th scope=col>pred_seg2_rf_ALL_fb2</th><th scope=col>pred_seg2_glm_ALL_fb2</th><th scope=col>pred_seg_rf_ALL_fb2</th><th scope=col>pred_seg_glm_ALL_fb2</th><th scope=col>pred_agg_rf_fb2</th><th scope=col>pred_agg_glm_fb2</th><th scope=col>pred_agg_rf_ALL_fb2</th><th scope=col>pred_agg_glm_ALL_fb2</th><th scope=col>l10_win_04_pred_model</th><th scope=col>auc_win_04_pred_model</th></tr>\n",
       "\t<tr><th></th><th scope=col>&lt;fct&gt;</th><th scope=col>&lt;fct&gt;</th><th scope=col>&lt;fct&gt;</th><th scope=col>&lt;int&gt;</th><th scope=col>&lt;fct&gt;</th><th scope=col>&lt;int&gt;</th><th scope=col>&lt;fct&gt;</th><th scope=col>&lt;fct&gt;</th><th scope=col>&lt;fct&gt;</th><th scope=col>&lt;fct&gt;</th><th scope=col>&lt;fct&gt;</th><th scope=col>&lt;fct&gt;</th><th scope=col>&lt;int&gt;</th><th scope=col>&lt;dbl&gt;</th><th scope=col>&lt;dbl&gt;</th><th scope=col>&lt;int&gt;</th><th scope=col>&lt;int&gt;</th><th scope=col>&lt;fct&gt;</th><th scope=col>&lt;fct&gt;</th><th scope=col>&lt;fct&gt;</th><th scope=col>&lt;fct&gt;</th><th scope=col>&lt;dbl&gt;</th><th scope=col>&lt;dbl&gt;</th><th scope=col>&lt;fct&gt;</th><th scope=col>&lt;int&gt;</th><th scope=col>⋯</th><th scope=col>&lt;dbl&gt;</th><th scope=col>&lt;dbl&gt;</th><th scope=col>&lt;dbl&gt;</th><th scope=col>&lt;dbl&gt;</th><th scope=col>&lt;fct&gt;</th><th scope=col>&lt;dbl&gt;</th><th scope=col>&lt;dbl&gt;</th><th scope=col>&lt;dbl&gt;</th><th scope=col>&lt;dbl&gt;</th><th scope=col>&lt;dbl&gt;</th><th scope=col>&lt;dbl&gt;</th><th scope=col>&lt;dbl&gt;</th><th scope=col>&lt;dbl&gt;</th><th scope=col>&lt;dbl&gt;</th><th scope=col>&lt;fct&gt;</th><th scope=col>&lt;dbl&gt;</th><th scope=col>&lt;dbl&gt;</th><th scope=col>&lt;dbl&gt;</th><th scope=col>&lt;dbl&gt;</th><th scope=col>&lt;dbl&gt;</th><th scope=col>&lt;dbl&gt;</th><th scope=col>&lt;dbl&gt;</th><th scope=col>&lt;dbl&gt;</th><th scope=col>&lt;fct&gt;</th><th scope=col>&lt;fct&gt;</th></tr>\n",
       "</thead>\n",
       "<tbody>\n",
       "\t<tr><th scope=row>1</th><td>fun1api</td><td>1API</td><td>Germany</td><td> 77112544</td><td>FirstTime</td><td>1</td><td>2019-09-21</td><td>2018-09-21</td><td>Active</td><td>alparty.fun        </td><td>1API</td><td>NA</td><td>1</td><td>3</td><td>3</td><td>0</td><td>233136706</td><td>auto-renewal</td><td>unrealized</td><td>Not Renewd</td><td>2019-09-21</td><td>15</td><td>3.58</td><td>alparty        </td><td>1</td><td>⋯</td><td>0.417</td><td>0.5922474</td><td>0.4780584</td><td>0.6233142</td><td>EU</td><td>NA</td><td>NA</td><td>NA</td><td>NA</td><td>NA</td><td>NA</td><td>NA</td><td>NA</td><td>3</td><td>(1,3]</td><td>0.211</td><td>0.211</td><td>0.211</td><td>0.211</td><td>0.211</td><td>0.211</td><td>0.211</td><td>0.211</td><td>l10_seg2_glm</td><td>auc_seg2_glm</td></tr>\n",
       "\t<tr><th scope=row>2</th><td>fun1api</td><td>1API</td><td>Germany</td><td>118771316</td><td>FirstTime</td><td>1</td><td>2020-08-20</td><td>2019-08-20</td><td>Active</td><td>echt-geil.fun      </td><td>1API</td><td>NA</td><td>1</td><td>5</td><td>5</td><td>0</td><td>329057769</td><td>renewal     </td><td>NA        </td><td>Renewed   </td><td>2020-07-13</td><td>15</td><td>2.00</td><td>echt-geil      </td><td>1</td><td>⋯</td><td>0.362</td><td>0.6854120</td><td>       NA</td><td>0.4911790</td><td>EU</td><td>NA</td><td>NA</td><td>NA</td><td>NA</td><td>NA</td><td>NA</td><td>NA</td><td>NA</td><td>5</td><td>(3,5]</td><td>0.350</td><td>0.350</td><td>0.350</td><td>0.350</td><td>0.350</td><td>0.350</td><td>0.350</td><td>0.350</td><td>l10_seg2_glm</td><td>auc_seg2_glm</td></tr>\n",
       "\t<tr><th scope=row>3</th><td>fun1api</td><td>1API</td><td>Germany</td><td>101717674</td><td>FirstTime</td><td>1</td><td>2020-04-24</td><td>2019-04-24</td><td>Active</td><td>gotsome.fun        </td><td>1API</td><td>NA</td><td>1</td><td>5</td><td>5</td><td>0</td><td>310645094</td><td>auto-renewal</td><td>unrealized</td><td>Not Renewd</td><td>2020-04-24</td><td>15</td><td>6.09</td><td>gotsome        </td><td>1</td><td>⋯</td><td>0.536</td><td>0.6623480</td><td>0.6194136</td><td>0.6294112</td><td>EU</td><td>NA</td><td>NA</td><td>NA</td><td>NA</td><td>NA</td><td>NA</td><td>NA</td><td>NA</td><td>5</td><td>(3,5]</td><td>0.350</td><td>0.350</td><td>0.350</td><td>0.350</td><td>0.350</td><td>0.350</td><td>0.350</td><td>0.350</td><td>l10_seg2_glm</td><td>auc_seg2_glm</td></tr>\n",
       "\t<tr><th scope=row>4</th><td>fun1api</td><td>1API</td><td>Germany</td><td> 89153032</td><td>FirstTime</td><td>1</td><td>2019-12-29</td><td>2018-12-29</td><td>Active</td><td>noor.fun           </td><td>1API</td><td>NA</td><td>1</td><td>3</td><td>3</td><td>0</td><td>263535836</td><td>renewal     </td><td>NA        </td><td>Renewed   </td><td>2019-12-08</td><td>15</td><td>5.77</td><td>noor           </td><td>1</td><td>⋯</td><td>0.450</td><td>0.5021543</td><td>0.4426250</td><td>0.3342575</td><td>EU</td><td>NA</td><td>NA</td><td>NA</td><td>NA</td><td>NA</td><td>NA</td><td>NA</td><td>NA</td><td>3</td><td>(1,3]</td><td>0.211</td><td>0.211</td><td>0.211</td><td>0.211</td><td>0.211</td><td>0.211</td><td>0.211</td><td>0.211</td><td>l10_seg2_glm</td><td>auc_seg2_glm</td></tr>\n",
       "\t<tr><th scope=row>5</th><td>fun1api</td><td>1API</td><td>Germany</td><td>118627451</td><td>FirstTime</td><td>1</td><td>2020-08-19</td><td>2019-08-19</td><td>Active</td><td>laurendoesstuff.fun</td><td>1API</td><td>NA</td><td>1</td><td>5</td><td>5</td><td>0</td><td>338522944</td><td>auto-renewal</td><td>unrealized</td><td>Not Renewd</td><td>2020-08-19</td><td>15</td><td>4.83</td><td>laurendoesstuff</td><td>1</td><td>⋯</td><td>0.458</td><td>0.4730591</td><td>0.7268515</td><td>0.6059519</td><td>EU</td><td>NA</td><td>NA</td><td>NA</td><td>NA</td><td>NA</td><td>NA</td><td>NA</td><td>NA</td><td>5</td><td>(3,5]</td><td>0.350</td><td>0.350</td><td>0.350</td><td>0.350</td><td>0.350</td><td>0.350</td><td>0.350</td><td>0.350</td><td>l10_seg2_glm</td><td>auc_seg2_glm</td></tr>\n",
       "\t<tr><th scope=row>6</th><td>fun1api</td><td>1API</td><td>Germany</td><td> 93057463</td><td>FirstTime</td><td>1</td><td>2020-02-07</td><td>2019-02-07</td><td>Active</td><td>bottegaveneta.fun  </td><td>1API</td><td>NA</td><td>1</td><td>5</td><td>5</td><td>0</td><td>289674366</td><td>auto-renewal</td><td>realized  </td><td>Renewed   </td><td>2020-02-07</td><td>15</td><td>5.21</td><td>bottegaveneta  </td><td>1</td><td>⋯</td><td>0.478</td><td>0.5808743</td><td>0.7021113</td><td>0.6055075</td><td>EU</td><td>NA</td><td>NA</td><td>NA</td><td>NA</td><td>NA</td><td>NA</td><td>NA</td><td>NA</td><td>5</td><td>(3,5]</td><td>0.350</td><td>0.350</td><td>0.350</td><td>0.350</td><td>0.350</td><td>0.350</td><td>0.350</td><td>0.350</td><td>l10_seg2_glm</td><td>auc_seg2_glm</td></tr>\n",
       "</tbody>\n",
       "</table>\n"
      ],
      "text/latex": [
       "A data.frame: 6 × 61\n",
       "\\begin{tabular}{r|lllllllllllllllllllllllllllllllllllllllllllllllllll}\n",
       "  & tld\\_registrar\\_index & reseller & reseller\\_country & domain\\_id & renewal\\_type & renewed\\_count & expiry\\_date & creation\\_date & status & domain & registrar & registrant\\_country & reg\\_period & reg\\_revenue & reg\\_arpt & renew\\_mbg & renewal\\_item\\_id & renew\\_type & autorenew\\_type & renewal\\_status & renew\\_date & renew\\_arpt & gibb\\_score & pattern & pattern\\_domain\\_count & ⋯ & pred\\_seg\\_glm\\_ALL & pred\\_seg\\_rf\\_ALL & pred\\_seg2\\_glm\\_ALL & pred\\_seg2\\_rf\\_ALL & reseller\\_geo & pred\\_agg\\_glm\\_ALL\\_fb & pred\\_agg\\_rf\\_ALL\\_fb & pred\\_agg\\_glm\\_fb & pred\\_agg\\_rf\\_fb & pred\\_seg\\_glm\\_ALL\\_fb & pred\\_seg\\_rf\\_ALL\\_fb & pred\\_seg2\\_glm\\_ALL\\_fb & pred\\_seg2\\_rf\\_ALL\\_fb & reg\\_arpt\\_org & reg\\_arpt\\_slab & pred\\_seg2\\_rf\\_ALL\\_fb2 & pred\\_seg2\\_glm\\_ALL\\_fb2 & pred\\_seg\\_rf\\_ALL\\_fb2 & pred\\_seg\\_glm\\_ALL\\_fb2 & pred\\_agg\\_rf\\_fb2 & pred\\_agg\\_glm\\_fb2 & pred\\_agg\\_rf\\_ALL\\_fb2 & pred\\_agg\\_glm\\_ALL\\_fb2 & l10\\_win\\_04\\_pred\\_model & auc\\_win\\_04\\_pred\\_model\\\\\n",
       "  & <fct> & <fct> & <fct> & <int> & <fct> & <int> & <fct> & <fct> & <fct> & <fct> & <fct> & <fct> & <int> & <dbl> & <dbl> & <int> & <int> & <fct> & <fct> & <fct> & <fct> & <dbl> & <dbl> & <fct> & <int> & ⋯ & <dbl> & <dbl> & <dbl> & <dbl> & <fct> & <dbl> & <dbl> & <dbl> & <dbl> & <dbl> & <dbl> & <dbl> & <dbl> & <dbl> & <fct> & <dbl> & <dbl> & <dbl> & <dbl> & <dbl> & <dbl> & <dbl> & <dbl> & <fct> & <fct>\\\\\n",
       "\\hline\n",
       "\t1 & fun1api & 1API & Germany &  77112544 & FirstTime & 1 & 2019-09-21 & 2018-09-21 & Active & alparty.fun         & 1API & NA & 1 & 3 & 3 & 0 & 233136706 & auto-renewal & unrealized & Not Renewd & 2019-09-21 & 15 & 3.58 & alparty         & 1 & ⋯ & 0.417 & 0.5922474 & 0.4780584 & 0.6233142 & EU & NA & NA & NA & NA & NA & NA & NA & NA & 3 & (1,3{]} & 0.211 & 0.211 & 0.211 & 0.211 & 0.211 & 0.211 & 0.211 & 0.211 & l10\\_seg2\\_glm & auc\\_seg2\\_glm\\\\\n",
       "\t2 & fun1api & 1API & Germany & 118771316 & FirstTime & 1 & 2020-08-20 & 2019-08-20 & Active & echt-geil.fun       & 1API & NA & 1 & 5 & 5 & 0 & 329057769 & renewal      & NA         & Renewed    & 2020-07-13 & 15 & 2.00 & echt-geil       & 1 & ⋯ & 0.362 & 0.6854120 &        NA & 0.4911790 & EU & NA & NA & NA & NA & NA & NA & NA & NA & 5 & (3,5{]} & 0.350 & 0.350 & 0.350 & 0.350 & 0.350 & 0.350 & 0.350 & 0.350 & l10\\_seg2\\_glm & auc\\_seg2\\_glm\\\\\n",
       "\t3 & fun1api & 1API & Germany & 101717674 & FirstTime & 1 & 2020-04-24 & 2019-04-24 & Active & gotsome.fun         & 1API & NA & 1 & 5 & 5 & 0 & 310645094 & auto-renewal & unrealized & Not Renewd & 2020-04-24 & 15 & 6.09 & gotsome         & 1 & ⋯ & 0.536 & 0.6623480 & 0.6194136 & 0.6294112 & EU & NA & NA & NA & NA & NA & NA & NA & NA & 5 & (3,5{]} & 0.350 & 0.350 & 0.350 & 0.350 & 0.350 & 0.350 & 0.350 & 0.350 & l10\\_seg2\\_glm & auc\\_seg2\\_glm\\\\\n",
       "\t4 & fun1api & 1API & Germany &  89153032 & FirstTime & 1 & 2019-12-29 & 2018-12-29 & Active & noor.fun            & 1API & NA & 1 & 3 & 3 & 0 & 263535836 & renewal      & NA         & Renewed    & 2019-12-08 & 15 & 5.77 & noor            & 1 & ⋯ & 0.450 & 0.5021543 & 0.4426250 & 0.3342575 & EU & NA & NA & NA & NA & NA & NA & NA & NA & 3 & (1,3{]} & 0.211 & 0.211 & 0.211 & 0.211 & 0.211 & 0.211 & 0.211 & 0.211 & l10\\_seg2\\_glm & auc\\_seg2\\_glm\\\\\n",
       "\t5 & fun1api & 1API & Germany & 118627451 & FirstTime & 1 & 2020-08-19 & 2019-08-19 & Active & laurendoesstuff.fun & 1API & NA & 1 & 5 & 5 & 0 & 338522944 & auto-renewal & unrealized & Not Renewd & 2020-08-19 & 15 & 4.83 & laurendoesstuff & 1 & ⋯ & 0.458 & 0.4730591 & 0.7268515 & 0.6059519 & EU & NA & NA & NA & NA & NA & NA & NA & NA & 5 & (3,5{]} & 0.350 & 0.350 & 0.350 & 0.350 & 0.350 & 0.350 & 0.350 & 0.350 & l10\\_seg2\\_glm & auc\\_seg2\\_glm\\\\\n",
       "\t6 & fun1api & 1API & Germany &  93057463 & FirstTime & 1 & 2020-02-07 & 2019-02-07 & Active & bottegaveneta.fun   & 1API & NA & 1 & 5 & 5 & 0 & 289674366 & auto-renewal & realized   & Renewed    & 2020-02-07 & 15 & 5.21 & bottegaveneta   & 1 & ⋯ & 0.478 & 0.5808743 & 0.7021113 & 0.6055075 & EU & NA & NA & NA & NA & NA & NA & NA & NA & 5 & (3,5{]} & 0.350 & 0.350 & 0.350 & 0.350 & 0.350 & 0.350 & 0.350 & 0.350 & l10\\_seg2\\_glm & auc\\_seg2\\_glm\\\\\n",
       "\\end{tabular}\n"
      ],
      "text/markdown": [
       "\n",
       "A data.frame: 6 × 61\n",
       "\n",
       "| <!--/--> | tld_registrar_index &lt;fct&gt; | reseller &lt;fct&gt; | reseller_country &lt;fct&gt; | domain_id &lt;int&gt; | renewal_type &lt;fct&gt; | renewed_count &lt;int&gt; | expiry_date &lt;fct&gt; | creation_date &lt;fct&gt; | status &lt;fct&gt; | domain &lt;fct&gt; | registrar &lt;fct&gt; | registrant_country &lt;fct&gt; | reg_period &lt;int&gt; | reg_revenue &lt;dbl&gt; | reg_arpt &lt;dbl&gt; | renew_mbg &lt;int&gt; | renewal_item_id &lt;int&gt; | renew_type &lt;fct&gt; | autorenew_type &lt;fct&gt; | renewal_status &lt;fct&gt; | renew_date &lt;fct&gt; | renew_arpt &lt;dbl&gt; | gibb_score &lt;dbl&gt; | pattern &lt;fct&gt; | pattern_domain_count &lt;int&gt; | ⋯ ⋯ | pred_seg_glm_ALL &lt;dbl&gt; | pred_seg_rf_ALL &lt;dbl&gt; | pred_seg2_glm_ALL &lt;dbl&gt; | pred_seg2_rf_ALL &lt;dbl&gt; | reseller_geo &lt;fct&gt; | pred_agg_glm_ALL_fb &lt;dbl&gt; | pred_agg_rf_ALL_fb &lt;dbl&gt; | pred_agg_glm_fb &lt;dbl&gt; | pred_agg_rf_fb &lt;dbl&gt; | pred_seg_glm_ALL_fb &lt;dbl&gt; | pred_seg_rf_ALL_fb &lt;dbl&gt; | pred_seg2_glm_ALL_fb &lt;dbl&gt; | pred_seg2_rf_ALL_fb &lt;dbl&gt; | reg_arpt_org &lt;dbl&gt; | reg_arpt_slab &lt;fct&gt; | pred_seg2_rf_ALL_fb2 &lt;dbl&gt; | pred_seg2_glm_ALL_fb2 &lt;dbl&gt; | pred_seg_rf_ALL_fb2 &lt;dbl&gt; | pred_seg_glm_ALL_fb2 &lt;dbl&gt; | pred_agg_rf_fb2 &lt;dbl&gt; | pred_agg_glm_fb2 &lt;dbl&gt; | pred_agg_rf_ALL_fb2 &lt;dbl&gt; | pred_agg_glm_ALL_fb2 &lt;dbl&gt; | l10_win_04_pred_model &lt;fct&gt; | auc_win_04_pred_model &lt;fct&gt; |\n",
       "|---|---|---|---|---|---|---|---|---|---|---|---|---|---|---|---|---|---|---|---|---|---|---|---|---|---|---|---|---|---|---|---|---|---|---|---|---|---|---|---|---|---|---|---|---|---|---|---|---|---|---|---|\n",
       "| 1 | fun1api | 1API | Germany |  77112544 | FirstTime | 1 | 2019-09-21 | 2018-09-21 | Active | alparty.fun         | 1API | NA | 1 | 3 | 3 | 0 | 233136706 | auto-renewal | unrealized | Not Renewd | 2019-09-21 | 15 | 3.58 | alparty         | 1 | ⋯ | 0.417 | 0.5922474 | 0.4780584 | 0.6233142 | EU | NA | NA | NA | NA | NA | NA | NA | NA | 3 | (1,3] | 0.211 | 0.211 | 0.211 | 0.211 | 0.211 | 0.211 | 0.211 | 0.211 | l10_seg2_glm | auc_seg2_glm |\n",
       "| 2 | fun1api | 1API | Germany | 118771316 | FirstTime | 1 | 2020-08-20 | 2019-08-20 | Active | echt-geil.fun       | 1API | NA | 1 | 5 | 5 | 0 | 329057769 | renewal      | NA         | Renewed    | 2020-07-13 | 15 | 2.00 | echt-geil       | 1 | ⋯ | 0.362 | 0.6854120 |        NA | 0.4911790 | EU | NA | NA | NA | NA | NA | NA | NA | NA | 5 | (3,5] | 0.350 | 0.350 | 0.350 | 0.350 | 0.350 | 0.350 | 0.350 | 0.350 | l10_seg2_glm | auc_seg2_glm |\n",
       "| 3 | fun1api | 1API | Germany | 101717674 | FirstTime | 1 | 2020-04-24 | 2019-04-24 | Active | gotsome.fun         | 1API | NA | 1 | 5 | 5 | 0 | 310645094 | auto-renewal | unrealized | Not Renewd | 2020-04-24 | 15 | 6.09 | gotsome         | 1 | ⋯ | 0.536 | 0.6623480 | 0.6194136 | 0.6294112 | EU | NA | NA | NA | NA | NA | NA | NA | NA | 5 | (3,5] | 0.350 | 0.350 | 0.350 | 0.350 | 0.350 | 0.350 | 0.350 | 0.350 | l10_seg2_glm | auc_seg2_glm |\n",
       "| 4 | fun1api | 1API | Germany |  89153032 | FirstTime | 1 | 2019-12-29 | 2018-12-29 | Active | noor.fun            | 1API | NA | 1 | 3 | 3 | 0 | 263535836 | renewal      | NA         | Renewed    | 2019-12-08 | 15 | 5.77 | noor            | 1 | ⋯ | 0.450 | 0.5021543 | 0.4426250 | 0.3342575 | EU | NA | NA | NA | NA | NA | NA | NA | NA | 3 | (1,3] | 0.211 | 0.211 | 0.211 | 0.211 | 0.211 | 0.211 | 0.211 | 0.211 | l10_seg2_glm | auc_seg2_glm |\n",
       "| 5 | fun1api | 1API | Germany | 118627451 | FirstTime | 1 | 2020-08-19 | 2019-08-19 | Active | laurendoesstuff.fun | 1API | NA | 1 | 5 | 5 | 0 | 338522944 | auto-renewal | unrealized | Not Renewd | 2020-08-19 | 15 | 4.83 | laurendoesstuff | 1 | ⋯ | 0.458 | 0.4730591 | 0.7268515 | 0.6059519 | EU | NA | NA | NA | NA | NA | NA | NA | NA | 5 | (3,5] | 0.350 | 0.350 | 0.350 | 0.350 | 0.350 | 0.350 | 0.350 | 0.350 | l10_seg2_glm | auc_seg2_glm |\n",
       "| 6 | fun1api | 1API | Germany |  93057463 | FirstTime | 1 | 2020-02-07 | 2019-02-07 | Active | bottegaveneta.fun   | 1API | NA | 1 | 5 | 5 | 0 | 289674366 | auto-renewal | realized   | Renewed    | 2020-02-07 | 15 | 5.21 | bottegaveneta   | 1 | ⋯ | 0.478 | 0.5808743 | 0.7021113 | 0.6055075 | EU | NA | NA | NA | NA | NA | NA | NA | NA | 5 | (3,5] | 0.350 | 0.350 | 0.350 | 0.350 | 0.350 | 0.350 | 0.350 | 0.350 | l10_seg2_glm | auc_seg2_glm |\n",
       "\n"
      ],
      "text/plain": [
       "  tld_registrar_index reseller reseller_country domain_id renewal_type\n",
       "1 fun1api             1API     Germany           77112544 FirstTime   \n",
       "2 fun1api             1API     Germany          118771316 FirstTime   \n",
       "3 fun1api             1API     Germany          101717674 FirstTime   \n",
       "4 fun1api             1API     Germany           89153032 FirstTime   \n",
       "5 fun1api             1API     Germany          118627451 FirstTime   \n",
       "6 fun1api             1API     Germany           93057463 FirstTime   \n",
       "  renewed_count expiry_date creation_date status domain              registrar\n",
       "1 1             2019-09-21  2018-09-21    Active alparty.fun         1API     \n",
       "2 1             2020-08-20  2019-08-20    Active echt-geil.fun       1API     \n",
       "3 1             2020-04-24  2019-04-24    Active gotsome.fun         1API     \n",
       "4 1             2019-12-29  2018-12-29    Active noor.fun            1API     \n",
       "5 1             2020-08-19  2019-08-19    Active laurendoesstuff.fun 1API     \n",
       "6 1             2020-02-07  2019-02-07    Active bottegaveneta.fun   1API     \n",
       "  registrant_country reg_period reg_revenue reg_arpt renew_mbg renewal_item_id\n",
       "1 NA                 1          3           3        0         233136706      \n",
       "2 NA                 1          5           5        0         329057769      \n",
       "3 NA                 1          5           5        0         310645094      \n",
       "4 NA                 1          3           3        0         263535836      \n",
       "5 NA                 1          5           5        0         338522944      \n",
       "6 NA                 1          5           5        0         289674366      \n",
       "  renew_type   autorenew_type renewal_status renew_date renew_arpt gibb_score\n",
       "1 auto-renewal unrealized     Not Renewd     2019-09-21 15         3.58      \n",
       "2 renewal      NA             Renewed        2020-07-13 15         2.00      \n",
       "3 auto-renewal unrealized     Not Renewd     2020-04-24 15         6.09      \n",
       "4 renewal      NA             Renewed        2019-12-08 15         5.77      \n",
       "5 auto-renewal unrealized     Not Renewd     2020-08-19 15         4.83      \n",
       "6 auto-renewal realized       Renewed        2020-02-07 15         5.21      \n",
       "  pattern         pattern_domain_count ⋯ pred_seg_glm_ALL pred_seg_rf_ALL\n",
       "1 alparty         1                    ⋯ 0.417            0.5922474      \n",
       "2 echt-geil       1                    ⋯ 0.362            0.6854120      \n",
       "3 gotsome         1                    ⋯ 0.536            0.6623480      \n",
       "4 noor            1                    ⋯ 0.450            0.5021543      \n",
       "5 laurendoesstuff 1                    ⋯ 0.458            0.4730591      \n",
       "6 bottegaveneta   1                    ⋯ 0.478            0.5808743      \n",
       "  pred_seg2_glm_ALL pred_seg2_rf_ALL reseller_geo pred_agg_glm_ALL_fb\n",
       "1 0.4780584         0.6233142        EU           NA                 \n",
       "2        NA         0.4911790        EU           NA                 \n",
       "3 0.6194136         0.6294112        EU           NA                 \n",
       "4 0.4426250         0.3342575        EU           NA                 \n",
       "5 0.7268515         0.6059519        EU           NA                 \n",
       "6 0.7021113         0.6055075        EU           NA                 \n",
       "  pred_agg_rf_ALL_fb pred_agg_glm_fb pred_agg_rf_fb pred_seg_glm_ALL_fb\n",
       "1 NA                 NA              NA             NA                 \n",
       "2 NA                 NA              NA             NA                 \n",
       "3 NA                 NA              NA             NA                 \n",
       "4 NA                 NA              NA             NA                 \n",
       "5 NA                 NA              NA             NA                 \n",
       "6 NA                 NA              NA             NA                 \n",
       "  pred_seg_rf_ALL_fb pred_seg2_glm_ALL_fb pred_seg2_rf_ALL_fb reg_arpt_org\n",
       "1 NA                 NA                   NA                  3           \n",
       "2 NA                 NA                   NA                  5           \n",
       "3 NA                 NA                   NA                  5           \n",
       "4 NA                 NA                   NA                  3           \n",
       "5 NA                 NA                   NA                  5           \n",
       "6 NA                 NA                   NA                  5           \n",
       "  reg_arpt_slab pred_seg2_rf_ALL_fb2 pred_seg2_glm_ALL_fb2 pred_seg_rf_ALL_fb2\n",
       "1 (1,3]         0.211                0.211                 0.211              \n",
       "2 (3,5]         0.350                0.350                 0.350              \n",
       "3 (3,5]         0.350                0.350                 0.350              \n",
       "4 (1,3]         0.211                0.211                 0.211              \n",
       "5 (3,5]         0.350                0.350                 0.350              \n",
       "6 (3,5]         0.350                0.350                 0.350              \n",
       "  pred_seg_glm_ALL_fb2 pred_agg_rf_fb2 pred_agg_glm_fb2 pred_agg_rf_ALL_fb2\n",
       "1 0.211                0.211           0.211            0.211              \n",
       "2 0.350                0.350           0.350            0.350              \n",
       "3 0.350                0.350           0.350            0.350              \n",
       "4 0.211                0.211           0.211            0.211              \n",
       "5 0.350                0.350           0.350            0.350              \n",
       "6 0.350                0.350           0.350            0.350              \n",
       "  pred_agg_glm_ALL_fb2 l10_win_04_pred_model auc_win_04_pred_model\n",
       "1 0.211                l10_seg2_glm          auc_seg2_glm         \n",
       "2 0.350                l10_seg2_glm          auc_seg2_glm         \n",
       "3 0.350                l10_seg2_glm          auc_seg2_glm         \n",
       "4 0.211                l10_seg2_glm          auc_seg2_glm         \n",
       "5 0.350                l10_seg2_glm          auc_seg2_glm         \n",
       "6 0.350                l10_seg2_glm          auc_seg2_glm         "
      ]
     },
     "metadata": {},
     "output_type": "display_data"
    }
   ],
   "source": [
    "# load preds,\n",
    "# expiry_df_test_preds <- read.csv(\"../../data/output/datapull_20201116/expiry_df_test_preds_fb.csv\")\n",
    "\n",
    "# generate lookup, use last column which contains predictions\n",
    "\n",
    "# merge with lookup, only include those tld-re's for which predictions exist\n",
    "expiry_df_test_preds_assign <- merge(expiry_df_test_preds, \n",
    "                                     test_pred %>% select(tld_registrar_index, length(test_pred)-1, length(test_pred)), \n",
    "                                     by=\"tld_registrar_index\", all.y=TRUE) \n",
    "expiry_df_test_preds_assign <- expiry_df_test_preds_assign %>% \n",
    "                                rename(l10_win_04_pred_model = length(expiry_df_test_preds_assign)-1,\n",
    "                                      auc_win_04_pred_model = length(expiry_df_test_preds_assign))\n",
    "dim(expiry_df_test_preds)\n",
    "dim(expiry_df_test_preds_assign)\n",
    "head(expiry_df_test_preds_assign)"
   ]
  },
  {
   "cell_type": "markdown",
   "metadata": {},
   "source": [
    "## assign prediction based on prediction results"
   ]
  },
  {
   "cell_type": "code",
   "execution_count": 70,
   "metadata": {},
   "outputs": [
    {
     "data": {
      "text/html": [
       "<table>\n",
       "<caption>A data.frame: 10 × 7</caption>\n",
       "<thead>\n",
       "\t<tr><th></th><th scope=col>l10_win_04_pred_model</th><th scope=col>l10_win_04_pred_value</th><th scope=col>auc_win_04_pred_model</th><th scope=col>auc_win_04_pred_value</th><th scope=col>pred_seg2_glm_ALL_fb2</th><th scope=col>pred_agg_rf_ALL</th><th scope=col>pred_seg2_glm_ALL</th></tr>\n",
       "\t<tr><th></th><th scope=col>&lt;fct&gt;</th><th scope=col>&lt;dbl&gt;</th><th scope=col>&lt;fct&gt;</th><th scope=col>&lt;dbl&gt;</th><th scope=col>&lt;dbl&gt;</th><th scope=col>&lt;dbl&gt;</th><th scope=col>&lt;dbl&gt;</th></tr>\n",
       "</thead>\n",
       "<tbody>\n",
       "\t<tr><th scope=row>1</th><td>l10_seg2_glm  </td><td>4.780584e-01</td><td>auc_seg2_glm  </td><td>4.780584e-01</td><td>2.110000e-01</td><td>6.540974e-01</td><td>4.780584e-01</td></tr>\n",
       "\t<tr><th scope=row>2</th><td>l10_seg2_glm  </td><td>          NA</td><td>auc_seg2_glm  </td><td>          NA</td><td>3.500000e-01</td><td>5.831975e-01</td><td>          NA</td></tr>\n",
       "\t<tr><th scope=row>3</th><td>l10_seg2_glm  </td><td>6.194136e-01</td><td>auc_seg2_glm  </td><td>6.194136e-01</td><td>3.500000e-01</td><td>7.669734e-01</td><td>6.194136e-01</td></tr>\n",
       "\t<tr><th scope=row>4</th><td>l10_seg2_glm  </td><td>4.426250e-01</td><td>auc_seg2_glm  </td><td>4.426250e-01</td><td>2.110000e-01</td><td>4.622639e-01</td><td>4.426250e-01</td></tr>\n",
       "\t<tr><th scope=row>5</th><td>l10_seg2_glm  </td><td>7.268515e-01</td><td>auc_seg2_glm  </td><td>7.268515e-01</td><td>3.500000e-01</td><td>5.331766e-01</td><td>7.268515e-01</td></tr>\n",
       "\t<tr><th scope=row>6</th><td>l10_seg2_glm  </td><td>7.021113e-01</td><td>auc_seg2_glm  </td><td>7.021113e-01</td><td>3.500000e-01</td><td>5.436466e-01</td><td>7.021113e-01</td></tr>\n",
       "\t<tr><th scope=row>7</th><td>l10_seg2_glm  </td><td>4.935148e-01</td><td>auc_seg2_glm  </td><td>4.935148e-01</td><td>2.110000e-01</td><td>6.784025e-01</td><td>4.935148e-01</td></tr>\n",
       "\t<tr><th scope=row>8</th><td>l10_seg2_glm  </td><td>4.984281e-01</td><td>auc_seg2_glm  </td><td>4.984281e-01</td><td>2.110000e-01</td><td>5.891903e-01</td><td>4.984281e-01</td></tr>\n",
       "\t<tr><th scope=row>9</th><td>l10_agg_rf_ALL</td><td>2.174562e-04</td><td>auc_agg_rf_ALL</td><td>2.174562e-04</td><td>2.220446e-16</td><td>2.174562e-04</td><td>2.220446e-16</td></tr>\n",
       "\t<tr><th scope=row>10</th><td>l10_agg_rf_ALL</td><td>7.224753e-05</td><td>auc_agg_rf_ALL</td><td>7.224753e-05</td><td>2.220446e-16</td><td>7.224753e-05</td><td>2.220446e-16</td></tr>\n",
       "</tbody>\n",
       "</table>\n"
      ],
      "text/latex": [
       "A data.frame: 10 × 7\n",
       "\\begin{tabular}{r|lllllll}\n",
       "  & l10\\_win\\_04\\_pred\\_model & l10\\_win\\_04\\_pred\\_value & auc\\_win\\_04\\_pred\\_model & auc\\_win\\_04\\_pred\\_value & pred\\_seg2\\_glm\\_ALL\\_fb2 & pred\\_agg\\_rf\\_ALL & pred\\_seg2\\_glm\\_ALL\\\\\n",
       "  & <fct> & <dbl> & <fct> & <dbl> & <dbl> & <dbl> & <dbl>\\\\\n",
       "\\hline\n",
       "\t1 & l10\\_seg2\\_glm   & 4.780584e-01 & auc\\_seg2\\_glm   & 4.780584e-01 & 2.110000e-01 & 6.540974e-01 & 4.780584e-01\\\\\n",
       "\t2 & l10\\_seg2\\_glm   &           NA & auc\\_seg2\\_glm   &           NA & 3.500000e-01 & 5.831975e-01 &           NA\\\\\n",
       "\t3 & l10\\_seg2\\_glm   & 6.194136e-01 & auc\\_seg2\\_glm   & 6.194136e-01 & 3.500000e-01 & 7.669734e-01 & 6.194136e-01\\\\\n",
       "\t4 & l10\\_seg2\\_glm   & 4.426250e-01 & auc\\_seg2\\_glm   & 4.426250e-01 & 2.110000e-01 & 4.622639e-01 & 4.426250e-01\\\\\n",
       "\t5 & l10\\_seg2\\_glm   & 7.268515e-01 & auc\\_seg2\\_glm   & 7.268515e-01 & 3.500000e-01 & 5.331766e-01 & 7.268515e-01\\\\\n",
       "\t6 & l10\\_seg2\\_glm   & 7.021113e-01 & auc\\_seg2\\_glm   & 7.021113e-01 & 3.500000e-01 & 5.436466e-01 & 7.021113e-01\\\\\n",
       "\t7 & l10\\_seg2\\_glm   & 4.935148e-01 & auc\\_seg2\\_glm   & 4.935148e-01 & 2.110000e-01 & 6.784025e-01 & 4.935148e-01\\\\\n",
       "\t8 & l10\\_seg2\\_glm   & 4.984281e-01 & auc\\_seg2\\_glm   & 4.984281e-01 & 2.110000e-01 & 5.891903e-01 & 4.984281e-01\\\\\n",
       "\t9 & l10\\_agg\\_rf\\_ALL & 2.174562e-04 & auc\\_agg\\_rf\\_ALL & 2.174562e-04 & 2.220446e-16 & 2.174562e-04 & 2.220446e-16\\\\\n",
       "\t10 & l10\\_agg\\_rf\\_ALL & 7.224753e-05 & auc\\_agg\\_rf\\_ALL & 7.224753e-05 & 2.220446e-16 & 7.224753e-05 & 2.220446e-16\\\\\n",
       "\\end{tabular}\n"
      ],
      "text/markdown": [
       "\n",
       "A data.frame: 10 × 7\n",
       "\n",
       "| <!--/--> | l10_win_04_pred_model &lt;fct&gt; | l10_win_04_pred_value &lt;dbl&gt; | auc_win_04_pred_model &lt;fct&gt; | auc_win_04_pred_value &lt;dbl&gt; | pred_seg2_glm_ALL_fb2 &lt;dbl&gt; | pred_agg_rf_ALL &lt;dbl&gt; | pred_seg2_glm_ALL &lt;dbl&gt; |\n",
       "|---|---|---|---|---|---|---|---|\n",
       "| 1 | l10_seg2_glm   | 4.780584e-01 | auc_seg2_glm   | 4.780584e-01 | 2.110000e-01 | 6.540974e-01 | 4.780584e-01 |\n",
       "| 2 | l10_seg2_glm   |           NA | auc_seg2_glm   |           NA | 3.500000e-01 | 5.831975e-01 |           NA |\n",
       "| 3 | l10_seg2_glm   | 6.194136e-01 | auc_seg2_glm   | 6.194136e-01 | 3.500000e-01 | 7.669734e-01 | 6.194136e-01 |\n",
       "| 4 | l10_seg2_glm   | 4.426250e-01 | auc_seg2_glm   | 4.426250e-01 | 2.110000e-01 | 4.622639e-01 | 4.426250e-01 |\n",
       "| 5 | l10_seg2_glm   | 7.268515e-01 | auc_seg2_glm   | 7.268515e-01 | 3.500000e-01 | 5.331766e-01 | 7.268515e-01 |\n",
       "| 6 | l10_seg2_glm   | 7.021113e-01 | auc_seg2_glm   | 7.021113e-01 | 3.500000e-01 | 5.436466e-01 | 7.021113e-01 |\n",
       "| 7 | l10_seg2_glm   | 4.935148e-01 | auc_seg2_glm   | 4.935148e-01 | 2.110000e-01 | 6.784025e-01 | 4.935148e-01 |\n",
       "| 8 | l10_seg2_glm   | 4.984281e-01 | auc_seg2_glm   | 4.984281e-01 | 2.110000e-01 | 5.891903e-01 | 4.984281e-01 |\n",
       "| 9 | l10_agg_rf_ALL | 2.174562e-04 | auc_agg_rf_ALL | 2.174562e-04 | 2.220446e-16 | 2.174562e-04 | 2.220446e-16 |\n",
       "| 10 | l10_agg_rf_ALL | 7.224753e-05 | auc_agg_rf_ALL | 7.224753e-05 | 2.220446e-16 | 7.224753e-05 | 2.220446e-16 |\n",
       "\n"
      ],
      "text/plain": [
       "   l10_win_04_pred_model l10_win_04_pred_value auc_win_04_pred_model\n",
       "1  l10_seg2_glm          4.780584e-01          auc_seg2_glm         \n",
       "2  l10_seg2_glm                    NA          auc_seg2_glm         \n",
       "3  l10_seg2_glm          6.194136e-01          auc_seg2_glm         \n",
       "4  l10_seg2_glm          4.426250e-01          auc_seg2_glm         \n",
       "5  l10_seg2_glm          7.268515e-01          auc_seg2_glm         \n",
       "6  l10_seg2_glm          7.021113e-01          auc_seg2_glm         \n",
       "7  l10_seg2_glm          4.935148e-01          auc_seg2_glm         \n",
       "8  l10_seg2_glm          4.984281e-01          auc_seg2_glm         \n",
       "9  l10_agg_rf_ALL        2.174562e-04          auc_agg_rf_ALL       \n",
       "10 l10_agg_rf_ALL        7.224753e-05          auc_agg_rf_ALL       \n",
       "   auc_win_04_pred_value pred_seg2_glm_ALL_fb2 pred_agg_rf_ALL\n",
       "1  4.780584e-01          2.110000e-01          6.540974e-01   \n",
       "2            NA          3.500000e-01          5.831975e-01   \n",
       "3  6.194136e-01          3.500000e-01          7.669734e-01   \n",
       "4  4.426250e-01          2.110000e-01          4.622639e-01   \n",
       "5  7.268515e-01          3.500000e-01          5.331766e-01   \n",
       "6  7.021113e-01          3.500000e-01          5.436466e-01   \n",
       "7  4.935148e-01          2.110000e-01          6.784025e-01   \n",
       "8  4.984281e-01          2.110000e-01          5.891903e-01   \n",
       "9  2.174562e-04          2.220446e-16          2.174562e-04   \n",
       "10 7.224753e-05          2.220446e-16          7.224753e-05   \n",
       "   pred_seg2_glm_ALL\n",
       "1  4.780584e-01     \n",
       "2            NA     \n",
       "3  6.194136e-01     \n",
       "4  4.426250e-01     \n",
       "5  7.268515e-01     \n",
       "6  7.021113e-01     \n",
       "7  4.935148e-01     \n",
       "8  4.984281e-01     \n",
       "9  2.220446e-16     \n",
       "10 2.220446e-16     "
      ]
     },
     "metadata": {},
     "output_type": "display_data"
    }
   ],
   "source": [
    "# 04.1 is the prediction result\n",
    "expiry_df_test_preds_assign <- expiry_df_test_preds_assign %>%\n",
    "  mutate(\n",
    "  l10_win_04_pred_value = (l10_win_04_pred_model=='l10_seg2_glm_fb')*pred_seg2_glm_ALL_fb2+\n",
    "                          (l10_win_04_pred_model=='l10_agg_rf_ALL')*pred_agg_rf_ALL+\n",
    "                          (l10_win_04_pred_model=='l10_seg2_glm')*pred_seg2_glm_ALL,\n",
    "\n",
    "  auc_win_04_pred_value = (auc_win_04_pred_model=='auc_seg2_glm_fb')*pred_seg2_glm_ALL_fb2+\n",
    "                          (auc_win_04_pred_model=='auc_agg_rf_ALL')*pred_agg_rf_ALL+\n",
    "                          (auc_win_04_pred_model=='auc_seg2_glm')*pred_seg2_glm_ALL)\n",
    "\n",
    "# $l10_win_04_pred_value <- \n",
    "# (expiry_df_test_preds_assign$l10_win_04_pred_model=='l10_seg2_glm_fb')*expiry_df_test_preds_assign$pred_seg2_glm_fb+\n",
    "# (expiry_df_test_preds_assign$l10_win_04_pred_model=='l10_agg_rf_ALL')*expiry_df_test_preds_assign$pred_agg_rf_ALL+\n",
    "# (expiry_df_test_preds_assign$l10_win_04_pred_model=='l10_seg2_glm')*expiry_df_test_preds_assign$pred_seg2_glm+\n",
    "\n",
    "head(expiry_df_test_preds_assign %>% select(l10_win_04_pred_model, l10_win_04_pred_value, \n",
    "                                            auc_win_04_pred_model, auc_win_04_pred_value,\n",
    "                                               pred_seg2_glm_ALL_fb2,pred_agg_rf_ALL, pred_seg2_glm_ALL),10)"
   ]
  },
  {
   "cell_type": "markdown",
   "metadata": {},
   "source": [
    "# Compare overall perfromance"
   ]
  },
  {
   "cell_type": "code",
   "execution_count": 72,
   "metadata": {},
   "outputs": [],
   "source": [
    "lift_list <- list()\n",
    "auc_list <- list()\n",
    "\n",
    "fallback_lift <- chart_lift(pred_df=expiry_df_test_preds_assign,\n",
    "                        dep_var = \"renewal_status\",\n",
    "                        pred_var = \"l10_win_04_pred_value\") \n",
    "\n",
    "lift_list[[\"l10_win_04_pred\"]] <- fallback_lift\n",
    "auc_list[[\"l10_win_04_pred\"]] <- calc_auc(lift_df=fallback_lift)\n",
    "\n",
    "models <- c('auc_win_04_pred_value', 'pred_seg2_glm_ALL_fb2', 'pred_seg2_glm_ALL','pred_agg_rf_ALL')\n",
    "\n",
    "\n",
    "for (model in models){\n",
    "    model_lift <- chart_lift(pred_df=expiry_df_test_preds_assign,\n",
    "                        dep_var = \"renewal_status\",\n",
    "                        pred_var = model) \n",
    "    \n",
    "    fallback_lift <- merge(fallback_lift, model_lift, by=c(\"P\"),all= TRUE, \n",
    "                           suffixes = c(\"\",\n",
    "                                        paste(\"_\",gsub(\"pred_df_\", \"\", model)) ))\n",
    "    \n",
    "    lift_list[[model]] <- model_lift\n",
    "    auc_list[[model]] <- calc_auc(lift_df=model_lift)\n",
    "}\n",
    "\n",
    "lift_df <- fallback_lift"
   ]
  },
  {
   "cell_type": "code",
   "execution_count": 73,
   "metadata": {},
   "outputs": [
    {
     "data": {
      "text/html": [
       "5"
      ],
      "text/latex": [
       "5"
      ],
      "text/markdown": [
       "5"
      ],
      "text/plain": [
       "[1] 5"
      ]
     },
     "metadata": {},
     "output_type": "display_data"
    },
    {
     "data": {
      "text/html": [
       "<style>\n",
       ".list-inline {list-style: none; margin:0; padding: 0}\n",
       ".list-inline>li {display: inline-block}\n",
       ".list-inline>li:not(:last-child)::after {content: \"\\00b7\"; padding: 0 .5ex}\n",
       "</style>\n",
       "<ol class=list-inline><li>'l10_win_04_pred'</li><li>'auc_win_04_pred_value'</li><li>'pred_seg2_glm_ALL_fb2'</li><li>'pred_seg2_glm_ALL'</li><li>'pred_agg_rf_ALL'</li></ol>\n"
      ],
      "text/latex": [
       "\\begin{enumerate*}\n",
       "\\item 'l10\\_win\\_04\\_pred'\n",
       "\\item 'auc\\_win\\_04\\_pred\\_value'\n",
       "\\item 'pred\\_seg2\\_glm\\_ALL\\_fb2'\n",
       "\\item 'pred\\_seg2\\_glm\\_ALL'\n",
       "\\item 'pred\\_agg\\_rf\\_ALL'\n",
       "\\end{enumerate*}\n"
      ],
      "text/markdown": [
       "1. 'l10_win_04_pred'\n",
       "2. 'auc_win_04_pred_value'\n",
       "3. 'pred_seg2_glm_ALL_fb2'\n",
       "4. 'pred_seg2_glm_ALL'\n",
       "5. 'pred_agg_rf_ALL'\n",
       "\n",
       "\n"
      ],
      "text/plain": [
       "[1] \"l10_win_04_pred\"       \"auc_win_04_pred_value\" \"pred_seg2_glm_ALL_fb2\"\n",
       "[4] \"pred_seg2_glm_ALL\"     \"pred_agg_rf_ALL\"      "
      ]
     },
     "metadata": {},
     "output_type": "display_data"
    },
    {
     "data": {
      "text/html": [
       "<table>\n",
       "<caption>A matrix: 2 × 5 of type int</caption>\n",
       "<thead>\n",
       "\t<tr><th scope=col>l10_win_04_pred</th><th scope=col>auc_win_04_pred_value</th><th scope=col>pred_seg2_glm_ALL_fb2</th><th scope=col>pred_seg2_glm_ALL</th><th scope=col>pred_agg_rf_ALL</th></tr>\n",
       "</thead>\n",
       "<tbody>\n",
       "\t<tr><td>10</td><td>10</td><td>10</td><td>10</td><td>10</td></tr>\n",
       "\t<tr><td> 4</td><td> 4</td><td> 4</td><td> 4</td><td> 4</td></tr>\n",
       "</tbody>\n",
       "</table>\n"
      ],
      "text/latex": [
       "A matrix: 2 × 5 of type int\n",
       "\\begin{tabular}{lllll}\n",
       " l10\\_win\\_04\\_pred & auc\\_win\\_04\\_pred\\_value & pred\\_seg2\\_glm\\_ALL\\_fb2 & pred\\_seg2\\_glm\\_ALL & pred\\_agg\\_rf\\_ALL\\\\\n",
       "\\hline\n",
       "\t 10 & 10 & 10 & 10 & 10\\\\\n",
       "\t  4 &  4 &  4 &  4 &  4\\\\\n",
       "\\end{tabular}\n"
      ],
      "text/markdown": [
       "\n",
       "A matrix: 2 × 5 of type int\n",
       "\n",
       "| l10_win_04_pred | auc_win_04_pred_value | pred_seg2_glm_ALL_fb2 | pred_seg2_glm_ALL | pred_agg_rf_ALL |\n",
       "|---|---|---|---|---|\n",
       "| 10 | 10 | 10 | 10 | 10 |\n",
       "|  4 |  4 |  4 |  4 |  4 |\n",
       "\n"
      ],
      "text/plain": [
       "     l10_win_04_pred auc_win_04_pred_value pred_seg2_glm_ALL_fb2\n",
       "[1,] 10              10                    10                   \n",
       "[2,]  4               4                     4                   \n",
       "     pred_seg2_glm_ALL pred_agg_rf_ALL\n",
       "[1,] 10                10             \n",
       "[2,]  4                 4             "
      ]
     },
     "metadata": {},
     "output_type": "display_data"
    },
    {
     "data": {
      "text/html": [],
      "text/latex": [],
      "text/markdown": [],
      "text/plain": [
       "$<NA>\n",
       "NULL\n"
      ]
     },
     "metadata": {},
     "output_type": "display_data"
    }
   ],
   "source": [
    "length(lift_list)\n",
    "names(lift_list)\n",
    "sapply(lift_list, dim)\n",
    "lift_list[\"auc_win_04_pred\"]"
   ]
  },
  {
   "cell_type": "code",
   "execution_count": 45,
   "metadata": {},
   "outputs": [
    {
     "data": {
      "text/plain": [
       "\n",
       "Not Renewd    Renewed \n",
       " 0.8737435  0.1262565 "
      ]
     },
     "metadata": {},
     "output_type": "display_data"
    }
   ],
   "source": [
    "prop.table(table(expiry_df_test_preds_assign$renewal_status))"
   ]
  },
  {
   "cell_type": "code",
   "execution_count": 74,
   "metadata": {},
   "outputs": [],
   "source": [
    "plot_multigains <- function (lift_df_list=list(seg_glm = lift_df, \n",
    "                                               ben_dtr = lift_df_2),\n",
    "                             auc_list = list(seg_glm = auc, \n",
    "                                             ben_dtr=auc_2),\n",
    "                             prop_positive = 0.1262565) {\n",
    "  \n",
    "  optimal_df <- data.frame( \"P\"=c(0,prop_positive,1.0),\n",
    "                            \"actu_renwd2\"=c(NA,NA,NA),\n",
    "                            \"gain\"=c(0,1.0,1.0),\n",
    "                            \"lift\"=c(NA,NA,NA))\n",
    "  \n",
    "  lift_df_list <- lapply(lift_df_list, function(df) {\n",
    "    df <- df %>%\n",
    "      add_row(P = 0, gain =0) %>%\n",
    "      arrange(P)\n",
    "  })\n",
    "\n",
    "  auc_lift_list = paste(lapply(auc_list, round, 3),sapply(lift_df_list, function(x) round(x[2,\"lift\"],2)), sep=\", \")\n",
    "  \n",
    "  auc_map = paste(names(lift_df_list),auc_lift_list, sep=\" = \")[1:length(lift_df_list)]\n",
    "  \n",
    "  \n",
    "  gains_plot <- ggplot(NULL, aes(P,  gain)) +\n",
    "    geom_line(data = lift_df_list[[1]] %>% slice(1, n())) +\n",
    "    \n",
    "    list(geom_line(data=optimal_df), geom_point(data=optimal_df)) +\n",
    "    \n",
    "    scale_y_continuous(breaks = seq(0, 1, by = .1), limits = c(0,1)) +\n",
    "    scale_x_continuous(breaks = seq(0, 1, by = .1)) +\n",
    "    labs(title = \"Cumulative Gains Plot\",\n",
    "         y = \"Cumulative Gain\",\n",
    "         x = \"Percentile\")+\n",
    "    theme(text = element_text(size=20))\n",
    "  \n",
    "  for(i in seq(length(lift_df_list))){\n",
    "    name = names(lift_df_list)[[i]]\n",
    "    df = lift_df_list[[i]]\n",
    "    auc = auc_list[[i]]\n",
    "    gains_plot <- gains_plot + list(geom_line(data=df), \n",
    "                                    geom_point(data=df))+ \n",
    "      annotate(\"text\", x = .4, y = .9-i*.075, hjust = 0, label = auc_map[[i]], size = 5)\n",
    "  }\n",
    "  \n",
    "  \n",
    "  return(gains_plot)\n",
    "}\n"
   ]
  },
  {
   "cell_type": "code",
   "execution_count": 75,
   "metadata": {},
   "outputs": [
    {
     "data": {
      "image/png": "[encoded data removed]",
      "text/plain": [
       "plot without title"
      ]
     },
     "metadata": {
      "image/png": {
       "height": 420,
       "width": 420
      },
      "text/plain": {
       "height": 420,
       "width": 420
      }
     },
     "output_type": "display_data"
    }
   ],
   "source": [
    "plot_multigains(            lift_df_list=lift_list,\n",
    "                             auc_list = auc_list,\n",
    "                             prop_positive = 0.1262565) "
   ]
  },
  {
   "cell_type": "markdown",
   "metadata": {},
   "source": [
    "# Compare Metrics"
   ]
  },
  {
   "cell_type": "code",
   "execution_count": 97,
   "metadata": {},
   "outputs": [
    {
     "data": {
      "text/html": [
       "<dl>\n",
       "\t<dt>$l10_win_04_pred</dt>\n",
       "\t\t<dd>4.23700391280045</dd>\n",
       "\t<dt>$auc_win_04_pred_value</dt>\n",
       "\t\t<dd>4.23939950491096</dd>\n",
       "\t<dt>$pred_seg2_glm_ALL_fb2</dt>\n",
       "\t\t<dd>3.96071228938753</dd>\n",
       "\t<dt>$pred_seg2_glm_ALL</dt>\n",
       "\t\t<dd>4.13958316697277</dd>\n",
       "\t<dt>$pred_agg_rf_ALL</dt>\n",
       "\t\t<dd>4.33282759722111</dd>\n",
       "</dl>\n"
      ],
      "text/latex": [
       "\\begin{description}\n",
       "\\item[\\$l10\\_win\\_04\\_pred] 4.23700391280045\n",
       "\\item[\\$auc\\_win\\_04\\_pred\\_value] 4.23939950491096\n",
       "\\item[\\$pred\\_seg2\\_glm\\_ALL\\_fb2] 3.96071228938753\n",
       "\\item[\\$pred\\_seg2\\_glm\\_ALL] 4.13958316697277\n",
       "\\item[\\$pred\\_agg\\_rf\\_ALL] 4.33282759722111\n",
       "\\end{description}\n"
      ],
      "text/markdown": [
       "$l10_win_04_pred\n",
       ":   4.23700391280045\n",
       "$auc_win_04_pred_value\n",
       ":   4.23939950491096\n",
       "$pred_seg2_glm_ALL_fb2\n",
       ":   3.96071228938753\n",
       "$pred_seg2_glm_ALL\n",
       ":   4.13958316697277\n",
       "$pred_agg_rf_ALL\n",
       ":   4.33282759722111\n",
       "\n",
       "\n"
      ],
      "text/plain": [
       "$l10_win_04_pred\n",
       "[1] 4.237004\n",
       "\n",
       "$auc_win_04_pred_value\n",
       "[1] 4.2394\n",
       "\n",
       "$pred_seg2_glm_ALL_fb2\n",
       "[1] 3.960712\n",
       "\n",
       "$pred_seg2_glm_ALL\n",
       "[1] 4.139583\n",
       "\n",
       "$pred_agg_rf_ALL\n",
       "[1] 4.332828\n"
      ]
     },
     "metadata": {},
     "output_type": "display_data"
    },
    {
     "data": {
      "text/html": [
       "0.0697580645161291"
      ],
      "text/latex": [
       "0.0697580645161291"
      ],
      "text/markdown": [
       "0.0697580645161291"
      ],
      "text/plain": [
       "[1] 0.06975806"
      ]
     },
     "metadata": {},
     "output_type": "display_data"
    },
    {
     "data": {
      "text/html": [
       "0.0703629032258064"
      ],
      "text/latex": [
       "0.0703629032258064"
      ],
      "text/markdown": [
       "0.0703629032258064"
      ],
      "text/plain": [
       "[1] 0.0703629"
      ]
     },
     "metadata": {},
     "output_type": "display_data"
    }
   ],
   "source": [
    "l10_df <- lapply(lift_list, function(x) x[x$P=='0.1','lift'])\n",
    "l10_df\n",
    "(l10_df$l10_win_04_pred-l10_df$pred_seg2_glm_ALL_fb2)/l10_df$pred_seg2_glm_ALL_fb2\n",
    "(l10_df$auc_win_04_pred-l10_df$pred_seg2_glm_ALL_fb2)/l10_df$pred_seg2_glm_ALL_fb2"
   ]
  },
  {
   "cell_type": "code",
   "execution_count": 102,
   "metadata": {},
   "outputs": [
    {
     "data": {
      "text/html": [
       "<table>\n",
       "<caption>A data.frame: 1 × 5</caption>\n",
       "<thead>\n",
       "\t<tr><th scope=col>l10_win_04_pred</th><th scope=col>auc_win_04_pred_value</th><th scope=col>pred_seg2_glm_ALL_fb2</th><th scope=col>pred_seg2_glm_ALL</th><th scope=col>pred_agg_rf_ALL</th></tr>\n",
       "\t<tr><th scope=col>&lt;dbl&gt;</th><th scope=col>&lt;dbl&gt;</th><th scope=col>&lt;dbl&gt;</th><th scope=col>&lt;dbl&gt;</th><th scope=col>&lt;dbl&gt;</th></tr>\n",
       "</thead>\n",
       "<tbody>\n",
       "\t<tr><td>0.8000359</td><td>0.8008584</td><td>0.7938074</td><td>0.7937036</td><td>0.8115667</td></tr>\n",
       "</tbody>\n",
       "</table>\n"
      ],
      "text/latex": [
       "A data.frame: 1 × 5\n",
       "\\begin{tabular}{lllll}\n",
       " l10\\_win\\_04\\_pred & auc\\_win\\_04\\_pred\\_value & pred\\_seg2\\_glm\\_ALL\\_fb2 & pred\\_seg2\\_glm\\_ALL & pred\\_agg\\_rf\\_ALL\\\\\n",
       " <dbl> & <dbl> & <dbl> & <dbl> & <dbl>\\\\\n",
       "\\hline\n",
       "\t 0.8000359 & 0.8008584 & 0.7938074 & 0.7937036 & 0.8115667\\\\\n",
       "\\end{tabular}\n"
      ],
      "text/markdown": [
       "\n",
       "A data.frame: 1 × 5\n",
       "\n",
       "| l10_win_04_pred &lt;dbl&gt; | auc_win_04_pred_value &lt;dbl&gt; | pred_seg2_glm_ALL_fb2 &lt;dbl&gt; | pred_seg2_glm_ALL &lt;dbl&gt; | pred_agg_rf_ALL &lt;dbl&gt; |\n",
       "|---|---|---|---|---|\n",
       "| 0.8000359 | 0.8008584 | 0.7938074 | 0.7937036 | 0.8115667 |\n",
       "\n"
      ],
      "text/plain": [
       "  l10_win_04_pred auc_win_04_pred_value pred_seg2_glm_ALL_fb2 pred_seg2_glm_ALL\n",
       "1 0.8000359       0.8008584             0.7938074             0.7937036        \n",
       "  pred_agg_rf_ALL\n",
       "1 0.8115667      "
      ]
     },
     "metadata": {},
     "output_type": "display_data"
    },
    {
     "data": {
      "text/html": [
       "0.0078464115241654"
      ],
      "text/latex": [
       "0.0078464115241654"
      ],
      "text/markdown": [
       "0.0078464115241654"
      ],
      "text/plain": [
       "[1] 0.007846412"
      ]
     },
     "metadata": {},
     "output_type": "display_data"
    },
    {
     "data": {
      "text/html": [
       "0.00888254022543339"
      ],
      "text/latex": [
       "0.00888254022543339"
      ],
      "text/markdown": [
       "0.00888254022543339"
      ],
      "text/plain": [
       "[1] 0.00888254"
      ]
     },
     "metadata": {},
     "output_type": "display_data"
    }
   ],
   "source": [
    "data.frame(auc_list) \n",
    "\n",
    "(auc_list$l10_win_04_pred-auc_list$pred_seg2_glm_ALL_fb2)/auc_list$pred_seg2_glm_ALL_fb2\n",
    "(auc_list$auc_win_04_pred-auc_list$pred_seg2_glm_ALL_fb2)/auc_list$pred_seg2_glm_ALL_fb2"
   ]
  },
  {
   "cell_type": "code",
   "execution_count": 103,
   "metadata": {},
   "outputs": [
    {
     "data": {
      "text/html": [
       "<table>\n",
       "<caption>A data.frame: 6 × 63</caption>\n",
       "<thead>\n",
       "\t<tr><th></th><th scope=col>tld_registrar_index</th><th scope=col>reseller</th><th scope=col>reseller_country</th><th scope=col>domain_id</th><th scope=col>renewal_type</th><th scope=col>renewed_count</th><th scope=col>expiry_date</th><th scope=col>creation_date</th><th scope=col>status</th><th scope=col>domain</th><th scope=col>registrar</th><th scope=col>registrant_country</th><th scope=col>reg_period</th><th scope=col>reg_revenue</th><th scope=col>reg_arpt</th><th scope=col>renew_mbg</th><th scope=col>renewal_item_id</th><th scope=col>renew_type</th><th scope=col>autorenew_type</th><th scope=col>renewal_status</th><th scope=col>renew_date</th><th scope=col>renew_arpt</th><th scope=col>gibb_score</th><th scope=col>pattern</th><th scope=col>pattern_domain_count</th><th scope=col>⋯</th><th scope=col>pred_seg2_glm_ALL</th><th scope=col>pred_seg2_rf_ALL</th><th scope=col>reseller_geo</th><th scope=col>pred_agg_glm_ALL_fb</th><th scope=col>pred_agg_rf_ALL_fb</th><th scope=col>pred_agg_glm_fb</th><th scope=col>pred_agg_rf_fb</th><th scope=col>pred_seg_glm_ALL_fb</th><th scope=col>pred_seg_rf_ALL_fb</th><th scope=col>pred_seg2_glm_ALL_fb</th><th scope=col>pred_seg2_rf_ALL_fb</th><th scope=col>reg_arpt_org</th><th scope=col>reg_arpt_slab</th><th scope=col>pred_seg2_rf_ALL_fb2</th><th scope=col>pred_seg2_glm_ALL_fb2</th><th scope=col>pred_seg_rf_ALL_fb2</th><th scope=col>pred_seg_glm_ALL_fb2</th><th scope=col>pred_agg_rf_fb2</th><th scope=col>pred_agg_glm_fb2</th><th scope=col>pred_agg_rf_ALL_fb2</th><th scope=col>pred_agg_glm_ALL_fb2</th><th scope=col>l10_win_04_pred_model</th><th scope=col>auc_win_04_pred_model</th><th scope=col>l10_win_04_pred_value</th><th scope=col>auc_win_04_pred_value</th></tr>\n",
       "\t<tr><th></th><th scope=col>&lt;fct&gt;</th><th scope=col>&lt;fct&gt;</th><th scope=col>&lt;fct&gt;</th><th scope=col>&lt;int&gt;</th><th scope=col>&lt;fct&gt;</th><th scope=col>&lt;int&gt;</th><th scope=col>&lt;fct&gt;</th><th scope=col>&lt;fct&gt;</th><th scope=col>&lt;fct&gt;</th><th scope=col>&lt;fct&gt;</th><th scope=col>&lt;fct&gt;</th><th scope=col>&lt;fct&gt;</th><th scope=col>&lt;int&gt;</th><th scope=col>&lt;dbl&gt;</th><th scope=col>&lt;dbl&gt;</th><th scope=col>&lt;int&gt;</th><th scope=col>&lt;int&gt;</th><th scope=col>&lt;fct&gt;</th><th scope=col>&lt;fct&gt;</th><th scope=col>&lt;fct&gt;</th><th scope=col>&lt;fct&gt;</th><th scope=col>&lt;dbl&gt;</th><th scope=col>&lt;dbl&gt;</th><th scope=col>&lt;fct&gt;</th><th scope=col>&lt;int&gt;</th><th scope=col>⋯</th><th scope=col>&lt;dbl&gt;</th><th scope=col>&lt;dbl&gt;</th><th scope=col>&lt;fct&gt;</th><th scope=col>&lt;dbl&gt;</th><th scope=col>&lt;dbl&gt;</th><th scope=col>&lt;dbl&gt;</th><th scope=col>&lt;dbl&gt;</th><th scope=col>&lt;dbl&gt;</th><th scope=col>&lt;dbl&gt;</th><th scope=col>&lt;dbl&gt;</th><th scope=col>&lt;dbl&gt;</th><th scope=col>&lt;dbl&gt;</th><th scope=col>&lt;fct&gt;</th><th scope=col>&lt;dbl&gt;</th><th scope=col>&lt;dbl&gt;</th><th scope=col>&lt;dbl&gt;</th><th scope=col>&lt;dbl&gt;</th><th scope=col>&lt;dbl&gt;</th><th scope=col>&lt;dbl&gt;</th><th scope=col>&lt;dbl&gt;</th><th scope=col>&lt;dbl&gt;</th><th scope=col>&lt;fct&gt;</th><th scope=col>&lt;fct&gt;</th><th scope=col>&lt;dbl&gt;</th><th scope=col>&lt;dbl&gt;</th></tr>\n",
       "</thead>\n",
       "<tbody>\n",
       "\t<tr><th scope=row>1</th><td>fun1api</td><td>1API</td><td>Germany</td><td> 77112544</td><td>FirstTime</td><td>1</td><td>2019-09-21</td><td>2018-09-21</td><td>Active</td><td>alparty.fun        </td><td>1API</td><td>NA</td><td>1</td><td>3</td><td>3</td><td>0</td><td>233136706</td><td>auto-renewal</td><td>unrealized</td><td>Not Renewd</td><td>2019-09-21</td><td>15</td><td>3.58</td><td>alparty        </td><td>1</td><td>⋯</td><td>0.4780584</td><td>0.6233142</td><td>EU</td><td>NA</td><td>NA</td><td>NA</td><td>NA</td><td>NA</td><td>NA</td><td>NA</td><td>NA</td><td>3</td><td>(1,3]</td><td>0.211</td><td>0.211</td><td>0.211</td><td>0.211</td><td>0.211</td><td>0.211</td><td>0.211</td><td>0.211</td><td>l10_seg2_glm</td><td>auc_seg2_glm</td><td>0.4780584</td><td>0.4780584</td></tr>\n",
       "\t<tr><th scope=row>2</th><td>fun1api</td><td>1API</td><td>Germany</td><td>118771316</td><td>FirstTime</td><td>1</td><td>2020-08-20</td><td>2019-08-20</td><td>Active</td><td>echt-geil.fun      </td><td>1API</td><td>NA</td><td>1</td><td>5</td><td>5</td><td>0</td><td>329057769</td><td>renewal     </td><td>NA        </td><td>Renewed   </td><td>2020-07-13</td><td>15</td><td>2.00</td><td>echt-geil      </td><td>1</td><td>⋯</td><td>       NA</td><td>0.4911790</td><td>EU</td><td>NA</td><td>NA</td><td>NA</td><td>NA</td><td>NA</td><td>NA</td><td>NA</td><td>NA</td><td>5</td><td>(3,5]</td><td>0.350</td><td>0.350</td><td>0.350</td><td>0.350</td><td>0.350</td><td>0.350</td><td>0.350</td><td>0.350</td><td>l10_seg2_glm</td><td>auc_seg2_glm</td><td>       NA</td><td>       NA</td></tr>\n",
       "\t<tr><th scope=row>3</th><td>fun1api</td><td>1API</td><td>Germany</td><td>101717674</td><td>FirstTime</td><td>1</td><td>2020-04-24</td><td>2019-04-24</td><td>Active</td><td>gotsome.fun        </td><td>1API</td><td>NA</td><td>1</td><td>5</td><td>5</td><td>0</td><td>310645094</td><td>auto-renewal</td><td>unrealized</td><td>Not Renewd</td><td>2020-04-24</td><td>15</td><td>6.09</td><td>gotsome        </td><td>1</td><td>⋯</td><td>0.6194136</td><td>0.6294112</td><td>EU</td><td>NA</td><td>NA</td><td>NA</td><td>NA</td><td>NA</td><td>NA</td><td>NA</td><td>NA</td><td>5</td><td>(3,5]</td><td>0.350</td><td>0.350</td><td>0.350</td><td>0.350</td><td>0.350</td><td>0.350</td><td>0.350</td><td>0.350</td><td>l10_seg2_glm</td><td>auc_seg2_glm</td><td>0.6194136</td><td>0.6194136</td></tr>\n",
       "\t<tr><th scope=row>4</th><td>fun1api</td><td>1API</td><td>Germany</td><td> 89153032</td><td>FirstTime</td><td>1</td><td>2019-12-29</td><td>2018-12-29</td><td>Active</td><td>noor.fun           </td><td>1API</td><td>NA</td><td>1</td><td>3</td><td>3</td><td>0</td><td>263535836</td><td>renewal     </td><td>NA        </td><td>Renewed   </td><td>2019-12-08</td><td>15</td><td>5.77</td><td>noor           </td><td>1</td><td>⋯</td><td>0.4426250</td><td>0.3342575</td><td>EU</td><td>NA</td><td>NA</td><td>NA</td><td>NA</td><td>NA</td><td>NA</td><td>NA</td><td>NA</td><td>3</td><td>(1,3]</td><td>0.211</td><td>0.211</td><td>0.211</td><td>0.211</td><td>0.211</td><td>0.211</td><td>0.211</td><td>0.211</td><td>l10_seg2_glm</td><td>auc_seg2_glm</td><td>0.4426250</td><td>0.4426250</td></tr>\n",
       "\t<tr><th scope=row>5</th><td>fun1api</td><td>1API</td><td>Germany</td><td>118627451</td><td>FirstTime</td><td>1</td><td>2020-08-19</td><td>2019-08-19</td><td>Active</td><td>laurendoesstuff.fun</td><td>1API</td><td>NA</td><td>1</td><td>5</td><td>5</td><td>0</td><td>338522944</td><td>auto-renewal</td><td>unrealized</td><td>Not Renewd</td><td>2020-08-19</td><td>15</td><td>4.83</td><td>laurendoesstuff</td><td>1</td><td>⋯</td><td>0.7268515</td><td>0.6059519</td><td>EU</td><td>NA</td><td>NA</td><td>NA</td><td>NA</td><td>NA</td><td>NA</td><td>NA</td><td>NA</td><td>5</td><td>(3,5]</td><td>0.350</td><td>0.350</td><td>0.350</td><td>0.350</td><td>0.350</td><td>0.350</td><td>0.350</td><td>0.350</td><td>l10_seg2_glm</td><td>auc_seg2_glm</td><td>0.7268515</td><td>0.7268515</td></tr>\n",
       "\t<tr><th scope=row>6</th><td>fun1api</td><td>1API</td><td>Germany</td><td> 93057463</td><td>FirstTime</td><td>1</td><td>2020-02-07</td><td>2019-02-07</td><td>Active</td><td>bottegaveneta.fun  </td><td>1API</td><td>NA</td><td>1</td><td>5</td><td>5</td><td>0</td><td>289674366</td><td>auto-renewal</td><td>realized  </td><td>Renewed   </td><td>2020-02-07</td><td>15</td><td>5.21</td><td>bottegaveneta  </td><td>1</td><td>⋯</td><td>0.7021113</td><td>0.6055075</td><td>EU</td><td>NA</td><td>NA</td><td>NA</td><td>NA</td><td>NA</td><td>NA</td><td>NA</td><td>NA</td><td>5</td><td>(3,5]</td><td>0.350</td><td>0.350</td><td>0.350</td><td>0.350</td><td>0.350</td><td>0.350</td><td>0.350</td><td>0.350</td><td>l10_seg2_glm</td><td>auc_seg2_glm</td><td>0.7021113</td><td>0.7021113</td></tr>\n",
       "</tbody>\n",
       "</table>\n"
      ],
      "text/latex": [
       "A data.frame: 6 × 63\n",
       "\\begin{tabular}{r|lllllllllllllllllllllllllllllllllllllllllllllllllll}\n",
       "  & tld\\_registrar\\_index & reseller & reseller\\_country & domain\\_id & renewal\\_type & renewed\\_count & expiry\\_date & creation\\_date & status & domain & registrar & registrant\\_country & reg\\_period & reg\\_revenue & reg\\_arpt & renew\\_mbg & renewal\\_item\\_id & renew\\_type & autorenew\\_type & renewal\\_status & renew\\_date & renew\\_arpt & gibb\\_score & pattern & pattern\\_domain\\_count & ⋯ & pred\\_seg2\\_glm\\_ALL & pred\\_seg2\\_rf\\_ALL & reseller\\_geo & pred\\_agg\\_glm\\_ALL\\_fb & pred\\_agg\\_rf\\_ALL\\_fb & pred\\_agg\\_glm\\_fb & pred\\_agg\\_rf\\_fb & pred\\_seg\\_glm\\_ALL\\_fb & pred\\_seg\\_rf\\_ALL\\_fb & pred\\_seg2\\_glm\\_ALL\\_fb & pred\\_seg2\\_rf\\_ALL\\_fb & reg\\_arpt\\_org & reg\\_arpt\\_slab & pred\\_seg2\\_rf\\_ALL\\_fb2 & pred\\_seg2\\_glm\\_ALL\\_fb2 & pred\\_seg\\_rf\\_ALL\\_fb2 & pred\\_seg\\_glm\\_ALL\\_fb2 & pred\\_agg\\_rf\\_fb2 & pred\\_agg\\_glm\\_fb2 & pred\\_agg\\_rf\\_ALL\\_fb2 & pred\\_agg\\_glm\\_ALL\\_fb2 & l10\\_win\\_04\\_pred\\_model & auc\\_win\\_04\\_pred\\_model & l10\\_win\\_04\\_pred\\_value & auc\\_win\\_04\\_pred\\_value\\\\\n",
       "  & <fct> & <fct> & <fct> & <int> & <fct> & <int> & <fct> & <fct> & <fct> & <fct> & <fct> & <fct> & <int> & <dbl> & <dbl> & <int> & <int> & <fct> & <fct> & <fct> & <fct> & <dbl> & <dbl> & <fct> & <int> & ⋯ & <dbl> & <dbl> & <fct> & <dbl> & <dbl> & <dbl> & <dbl> & <dbl> & <dbl> & <dbl> & <dbl> & <dbl> & <fct> & <dbl> & <dbl> & <dbl> & <dbl> & <dbl> & <dbl> & <dbl> & <dbl> & <fct> & <fct> & <dbl> & <dbl>\\\\\n",
       "\\hline\n",
       "\t1 & fun1api & 1API & Germany &  77112544 & FirstTime & 1 & 2019-09-21 & 2018-09-21 & Active & alparty.fun         & 1API & NA & 1 & 3 & 3 & 0 & 233136706 & auto-renewal & unrealized & Not Renewd & 2019-09-21 & 15 & 3.58 & alparty         & 1 & ⋯ & 0.4780584 & 0.6233142 & EU & NA & NA & NA & NA & NA & NA & NA & NA & 3 & (1,3{]} & 0.211 & 0.211 & 0.211 & 0.211 & 0.211 & 0.211 & 0.211 & 0.211 & l10\\_seg2\\_glm & auc\\_seg2\\_glm & 0.4780584 & 0.4780584\\\\\n",
       "\t2 & fun1api & 1API & Germany & 118771316 & FirstTime & 1 & 2020-08-20 & 2019-08-20 & Active & echt-geil.fun       & 1API & NA & 1 & 5 & 5 & 0 & 329057769 & renewal      & NA         & Renewed    & 2020-07-13 & 15 & 2.00 & echt-geil       & 1 & ⋯ &        NA & 0.4911790 & EU & NA & NA & NA & NA & NA & NA & NA & NA & 5 & (3,5{]} & 0.350 & 0.350 & 0.350 & 0.350 & 0.350 & 0.350 & 0.350 & 0.350 & l10\\_seg2\\_glm & auc\\_seg2\\_glm &        NA &        NA\\\\\n",
       "\t3 & fun1api & 1API & Germany & 101717674 & FirstTime & 1 & 2020-04-24 & 2019-04-24 & Active & gotsome.fun         & 1API & NA & 1 & 5 & 5 & 0 & 310645094 & auto-renewal & unrealized & Not Renewd & 2020-04-24 & 15 & 6.09 & gotsome         & 1 & ⋯ & 0.6194136 & 0.6294112 & EU & NA & NA & NA & NA & NA & NA & NA & NA & 5 & (3,5{]} & 0.350 & 0.350 & 0.350 & 0.350 & 0.350 & 0.350 & 0.350 & 0.350 & l10\\_seg2\\_glm & auc\\_seg2\\_glm & 0.6194136 & 0.6194136\\\\\n",
       "\t4 & fun1api & 1API & Germany &  89153032 & FirstTime & 1 & 2019-12-29 & 2018-12-29 & Active & noor.fun            & 1API & NA & 1 & 3 & 3 & 0 & 263535836 & renewal      & NA         & Renewed    & 2019-12-08 & 15 & 5.77 & noor            & 1 & ⋯ & 0.4426250 & 0.3342575 & EU & NA & NA & NA & NA & NA & NA & NA & NA & 3 & (1,3{]} & 0.211 & 0.211 & 0.211 & 0.211 & 0.211 & 0.211 & 0.211 & 0.211 & l10\\_seg2\\_glm & auc\\_seg2\\_glm & 0.4426250 & 0.4426250\\\\\n",
       "\t5 & fun1api & 1API & Germany & 118627451 & FirstTime & 1 & 2020-08-19 & 2019-08-19 & Active & laurendoesstuff.fun & 1API & NA & 1 & 5 & 5 & 0 & 338522944 & auto-renewal & unrealized & Not Renewd & 2020-08-19 & 15 & 4.83 & laurendoesstuff & 1 & ⋯ & 0.7268515 & 0.6059519 & EU & NA & NA & NA & NA & NA & NA & NA & NA & 5 & (3,5{]} & 0.350 & 0.350 & 0.350 & 0.350 & 0.350 & 0.350 & 0.350 & 0.350 & l10\\_seg2\\_glm & auc\\_seg2\\_glm & 0.7268515 & 0.7268515\\\\\n",
       "\t6 & fun1api & 1API & Germany &  93057463 & FirstTime & 1 & 2020-02-07 & 2019-02-07 & Active & bottegaveneta.fun   & 1API & NA & 1 & 5 & 5 & 0 & 289674366 & auto-renewal & realized   & Renewed    & 2020-02-07 & 15 & 5.21 & bottegaveneta   & 1 & ⋯ & 0.7021113 & 0.6055075 & EU & NA & NA & NA & NA & NA & NA & NA & NA & 5 & (3,5{]} & 0.350 & 0.350 & 0.350 & 0.350 & 0.350 & 0.350 & 0.350 & 0.350 & l10\\_seg2\\_glm & auc\\_seg2\\_glm & 0.7021113 & 0.7021113\\\\\n",
       "\\end{tabular}\n"
      ],
      "text/markdown": [
       "\n",
       "A data.frame: 6 × 63\n",
       "\n",
       "| <!--/--> | tld_registrar_index &lt;fct&gt; | reseller &lt;fct&gt; | reseller_country &lt;fct&gt; | domain_id &lt;int&gt; | renewal_type &lt;fct&gt; | renewed_count &lt;int&gt; | expiry_date &lt;fct&gt; | creation_date &lt;fct&gt; | status &lt;fct&gt; | domain &lt;fct&gt; | registrar &lt;fct&gt; | registrant_country &lt;fct&gt; | reg_period &lt;int&gt; | reg_revenue &lt;dbl&gt; | reg_arpt &lt;dbl&gt; | renew_mbg &lt;int&gt; | renewal_item_id &lt;int&gt; | renew_type &lt;fct&gt; | autorenew_type &lt;fct&gt; | renewal_status &lt;fct&gt; | renew_date &lt;fct&gt; | renew_arpt &lt;dbl&gt; | gibb_score &lt;dbl&gt; | pattern &lt;fct&gt; | pattern_domain_count &lt;int&gt; | ⋯ ⋯ | pred_seg2_glm_ALL &lt;dbl&gt; | pred_seg2_rf_ALL &lt;dbl&gt; | reseller_geo &lt;fct&gt; | pred_agg_glm_ALL_fb &lt;dbl&gt; | pred_agg_rf_ALL_fb &lt;dbl&gt; | pred_agg_glm_fb &lt;dbl&gt; | pred_agg_rf_fb &lt;dbl&gt; | pred_seg_glm_ALL_fb &lt;dbl&gt; | pred_seg_rf_ALL_fb &lt;dbl&gt; | pred_seg2_glm_ALL_fb &lt;dbl&gt; | pred_seg2_rf_ALL_fb &lt;dbl&gt; | reg_arpt_org &lt;dbl&gt; | reg_arpt_slab &lt;fct&gt; | pred_seg2_rf_ALL_fb2 &lt;dbl&gt; | pred_seg2_glm_ALL_fb2 &lt;dbl&gt; | pred_seg_rf_ALL_fb2 &lt;dbl&gt; | pred_seg_glm_ALL_fb2 &lt;dbl&gt; | pred_agg_rf_fb2 &lt;dbl&gt; | pred_agg_glm_fb2 &lt;dbl&gt; | pred_agg_rf_ALL_fb2 &lt;dbl&gt; | pred_agg_glm_ALL_fb2 &lt;dbl&gt; | l10_win_04_pred_model &lt;fct&gt; | auc_win_04_pred_model &lt;fct&gt; | l10_win_04_pred_value &lt;dbl&gt; | auc_win_04_pred_value &lt;dbl&gt; |\n",
       "|---|---|---|---|---|---|---|---|---|---|---|---|---|---|---|---|---|---|---|---|---|---|---|---|---|---|---|---|---|---|---|---|---|---|---|---|---|---|---|---|---|---|---|---|---|---|---|---|---|---|---|---|\n",
       "| 1 | fun1api | 1API | Germany |  77112544 | FirstTime | 1 | 2019-09-21 | 2018-09-21 | Active | alparty.fun         | 1API | NA | 1 | 3 | 3 | 0 | 233136706 | auto-renewal | unrealized | Not Renewd | 2019-09-21 | 15 | 3.58 | alparty         | 1 | ⋯ | 0.4780584 | 0.6233142 | EU | NA | NA | NA | NA | NA | NA | NA | NA | 3 | (1,3] | 0.211 | 0.211 | 0.211 | 0.211 | 0.211 | 0.211 | 0.211 | 0.211 | l10_seg2_glm | auc_seg2_glm | 0.4780584 | 0.4780584 |\n",
       "| 2 | fun1api | 1API | Germany | 118771316 | FirstTime | 1 | 2020-08-20 | 2019-08-20 | Active | echt-geil.fun       | 1API | NA | 1 | 5 | 5 | 0 | 329057769 | renewal      | NA         | Renewed    | 2020-07-13 | 15 | 2.00 | echt-geil       | 1 | ⋯ |        NA | 0.4911790 | EU | NA | NA | NA | NA | NA | NA | NA | NA | 5 | (3,5] | 0.350 | 0.350 | 0.350 | 0.350 | 0.350 | 0.350 | 0.350 | 0.350 | l10_seg2_glm | auc_seg2_glm |        NA |        NA |\n",
       "| 3 | fun1api | 1API | Germany | 101717674 | FirstTime | 1 | 2020-04-24 | 2019-04-24 | Active | gotsome.fun         | 1API | NA | 1 | 5 | 5 | 0 | 310645094 | auto-renewal | unrealized | Not Renewd | 2020-04-24 | 15 | 6.09 | gotsome         | 1 | ⋯ | 0.6194136 | 0.6294112 | EU | NA | NA | NA | NA | NA | NA | NA | NA | 5 | (3,5] | 0.350 | 0.350 | 0.350 | 0.350 | 0.350 | 0.350 | 0.350 | 0.350 | l10_seg2_glm | auc_seg2_glm | 0.6194136 | 0.6194136 |\n",
       "| 4 | fun1api | 1API | Germany |  89153032 | FirstTime | 1 | 2019-12-29 | 2018-12-29 | Active | noor.fun            | 1API | NA | 1 | 3 | 3 | 0 | 263535836 | renewal      | NA         | Renewed    | 2019-12-08 | 15 | 5.77 | noor            | 1 | ⋯ | 0.4426250 | 0.3342575 | EU | NA | NA | NA | NA | NA | NA | NA | NA | 3 | (1,3] | 0.211 | 0.211 | 0.211 | 0.211 | 0.211 | 0.211 | 0.211 | 0.211 | l10_seg2_glm | auc_seg2_glm | 0.4426250 | 0.4426250 |\n",
       "| 5 | fun1api | 1API | Germany | 118627451 | FirstTime | 1 | 2020-08-19 | 2019-08-19 | Active | laurendoesstuff.fun | 1API | NA | 1 | 5 | 5 | 0 | 338522944 | auto-renewal | unrealized | Not Renewd | 2020-08-19 | 15 | 4.83 | laurendoesstuff | 1 | ⋯ | 0.7268515 | 0.6059519 | EU | NA | NA | NA | NA | NA | NA | NA | NA | 5 | (3,5] | 0.350 | 0.350 | 0.350 | 0.350 | 0.350 | 0.350 | 0.350 | 0.350 | l10_seg2_glm | auc_seg2_glm | 0.7268515 | 0.7268515 |\n",
       "| 6 | fun1api | 1API | Germany |  93057463 | FirstTime | 1 | 2020-02-07 | 2019-02-07 | Active | bottegaveneta.fun   | 1API | NA | 1 | 5 | 5 | 0 | 289674366 | auto-renewal | realized   | Renewed    | 2020-02-07 | 15 | 5.21 | bottegaveneta   | 1 | ⋯ | 0.7021113 | 0.6055075 | EU | NA | NA | NA | NA | NA | NA | NA | NA | 5 | (3,5] | 0.350 | 0.350 | 0.350 | 0.350 | 0.350 | 0.350 | 0.350 | 0.350 | l10_seg2_glm | auc_seg2_glm | 0.7021113 | 0.7021113 |\n",
       "\n"
      ],
      "text/plain": [
       "  tld_registrar_index reseller reseller_country domain_id renewal_type\n",
       "1 fun1api             1API     Germany           77112544 FirstTime   \n",
       "2 fun1api             1API     Germany          118771316 FirstTime   \n",
       "3 fun1api             1API     Germany          101717674 FirstTime   \n",
       "4 fun1api             1API     Germany           89153032 FirstTime   \n",
       "5 fun1api             1API     Germany          118627451 FirstTime   \n",
       "6 fun1api             1API     Germany           93057463 FirstTime   \n",
       "  renewed_count expiry_date creation_date status domain              registrar\n",
       "1 1             2019-09-21  2018-09-21    Active alparty.fun         1API     \n",
       "2 1             2020-08-20  2019-08-20    Active echt-geil.fun       1API     \n",
       "3 1             2020-04-24  2019-04-24    Active gotsome.fun         1API     \n",
       "4 1             2019-12-29  2018-12-29    Active noor.fun            1API     \n",
       "5 1             2020-08-19  2019-08-19    Active laurendoesstuff.fun 1API     \n",
       "6 1             2020-02-07  2019-02-07    Active bottegaveneta.fun   1API     \n",
       "  registrant_country reg_period reg_revenue reg_arpt renew_mbg renewal_item_id\n",
       "1 NA                 1          3           3        0         233136706      \n",
       "2 NA                 1          5           5        0         329057769      \n",
       "3 NA                 1          5           5        0         310645094      \n",
       "4 NA                 1          3           3        0         263535836      \n",
       "5 NA                 1          5           5        0         338522944      \n",
       "6 NA                 1          5           5        0         289674366      \n",
       "  renew_type   autorenew_type renewal_status renew_date renew_arpt gibb_score\n",
       "1 auto-renewal unrealized     Not Renewd     2019-09-21 15         3.58      \n",
       "2 renewal      NA             Renewed        2020-07-13 15         2.00      \n",
       "3 auto-renewal unrealized     Not Renewd     2020-04-24 15         6.09      \n",
       "4 renewal      NA             Renewed        2019-12-08 15         5.77      \n",
       "5 auto-renewal unrealized     Not Renewd     2020-08-19 15         4.83      \n",
       "6 auto-renewal realized       Renewed        2020-02-07 15         5.21      \n",
       "  pattern         pattern_domain_count ⋯ pred_seg2_glm_ALL pred_seg2_rf_ALL\n",
       "1 alparty         1                    ⋯ 0.4780584         0.6233142       \n",
       "2 echt-geil       1                    ⋯        NA         0.4911790       \n",
       "3 gotsome         1                    ⋯ 0.6194136         0.6294112       \n",
       "4 noor            1                    ⋯ 0.4426250         0.3342575       \n",
       "5 laurendoesstuff 1                    ⋯ 0.7268515         0.6059519       \n",
       "6 bottegaveneta   1                    ⋯ 0.7021113         0.6055075       \n",
       "  reseller_geo pred_agg_glm_ALL_fb pred_agg_rf_ALL_fb pred_agg_glm_fb\n",
       "1 EU           NA                  NA                 NA             \n",
       "2 EU           NA                  NA                 NA             \n",
       "3 EU           NA                  NA                 NA             \n",
       "4 EU           NA                  NA                 NA             \n",
       "5 EU           NA                  NA                 NA             \n",
       "6 EU           NA                  NA                 NA             \n",
       "  pred_agg_rf_fb pred_seg_glm_ALL_fb pred_seg_rf_ALL_fb pred_seg2_glm_ALL_fb\n",
       "1 NA             NA                  NA                 NA                  \n",
       "2 NA             NA                  NA                 NA                  \n",
       "3 NA             NA                  NA                 NA                  \n",
       "4 NA             NA                  NA                 NA                  \n",
       "5 NA             NA                  NA                 NA                  \n",
       "6 NA             NA                  NA                 NA                  \n",
       "  pred_seg2_rf_ALL_fb reg_arpt_org reg_arpt_slab pred_seg2_rf_ALL_fb2\n",
       "1 NA                  3            (1,3]         0.211               \n",
       "2 NA                  5            (3,5]         0.350               \n",
       "3 NA                  5            (3,5]         0.350               \n",
       "4 NA                  3            (1,3]         0.211               \n",
       "5 NA                  5            (3,5]         0.350               \n",
       "6 NA                  5            (3,5]         0.350               \n",
       "  pred_seg2_glm_ALL_fb2 pred_seg_rf_ALL_fb2 pred_seg_glm_ALL_fb2\n",
       "1 0.211                 0.211               0.211               \n",
       "2 0.350                 0.350               0.350               \n",
       "3 0.350                 0.350               0.350               \n",
       "4 0.211                 0.211               0.211               \n",
       "5 0.350                 0.350               0.350               \n",
       "6 0.350                 0.350               0.350               \n",
       "  pred_agg_rf_fb2 pred_agg_glm_fb2 pred_agg_rf_ALL_fb2 pred_agg_glm_ALL_fb2\n",
       "1 0.211           0.211            0.211               0.211               \n",
       "2 0.350           0.350            0.350               0.350               \n",
       "3 0.350           0.350            0.350               0.350               \n",
       "4 0.211           0.211            0.211               0.211               \n",
       "5 0.350           0.350            0.350               0.350               \n",
       "6 0.350           0.350            0.350               0.350               \n",
       "  l10_win_04_pred_model auc_win_04_pred_model l10_win_04_pred_value\n",
       "1 l10_seg2_glm          auc_seg2_glm          0.4780584            \n",
       "2 l10_seg2_glm          auc_seg2_glm                 NA            \n",
       "3 l10_seg2_glm          auc_seg2_glm          0.6194136            \n",
       "4 l10_seg2_glm          auc_seg2_glm          0.4426250            \n",
       "5 l10_seg2_glm          auc_seg2_glm          0.7268515            \n",
       "6 l10_seg2_glm          auc_seg2_glm          0.7021113            \n",
       "  auc_win_04_pred_value\n",
       "1 0.4780584            \n",
       "2        NA            \n",
       "3 0.6194136            \n",
       "4 0.4426250            \n",
       "5 0.7268515            \n",
       "6 0.7021113            "
      ]
     },
     "metadata": {},
     "output_type": "display_data"
    }
   ],
   "source": [
    "head(expiry_df_test_preds_assign)"
   ]
  },
  {
   "cell_type": "code",
   "execution_count": 105,
   "metadata": {},
   "outputs": [
    {
     "data": {
      "text/html": [
       "<table>\n",
       "<caption>A data.frame: 11 × 8</caption>\n",
       "<thead>\n",
       "\t<tr><th></th><th scope=col>agg_rf_0.089</th><th scope=col>seg2_glm_fb_0.089</th><th scope=col>l10_win_04_0.089</th><th scope=col>auc_win_04_0.089</th><th scope=col>agg_rf_0.500</th><th scope=col>seg2_glm_fb_0.500</th><th scope=col>l10_win_04_0.500</th><th scope=col>auc_win_04_0.500</th></tr>\n",
       "\t<tr><th></th><th scope=col>&lt;dbl&gt;</th><th scope=col>&lt;dbl&gt;</th><th scope=col>&lt;dbl&gt;</th><th scope=col>&lt;dbl&gt;</th><th scope=col>&lt;dbl&gt;</th><th scope=col>&lt;dbl&gt;</th><th scope=col>&lt;dbl&gt;</th><th scope=col>&lt;dbl&gt;</th></tr>\n",
       "</thead>\n",
       "<tbody>\n",
       "\t<tr><th scope=row>Sensitivity</th><td>0.8354228</td><td>0.8099497</td><td>0.8292447</td><td>0.8311007</td><td>0.30032740</td><td>0.21448535</td><td>0.29414138</td><td>0.28994513</td></tr>\n",
       "\t<tr><th scope=row>Specificity</th><td>0.7122796</td><td>0.7106180</td><td>0.7148401</td><td>0.7138091</td><td>0.97377227</td><td>0.97804163</td><td>0.97316960</td><td>0.97356348</td></tr>\n",
       "\t<tr><th scope=row>Pos Pred Value</th><td>0.2955618</td><td>0.2879734</td><td>0.2945172</td><td>0.2942319</td><td>0.62330129</td><td>0.58531270</td><td>0.61147458</td><td>0.61157447</td></tr>\n",
       "\t<tr><th scope=row>Neg Pred Value</th><td>0.9676909</td><td>0.9627922</td><td>0.9668448</td><td>0.9671475</td><td>0.90593969</td><td>0.89601260</td><td>0.90569374</td><td>0.90522098</td></tr>\n",
       "\t<tr><th scope=row>Precision</th><td>0.2955618</td><td>0.2879734</td><td>0.2945172</td><td>0.2942319</td><td>0.62330129</td><td>0.58531270</td><td>0.61147458</td><td>0.61157447</td></tr>\n",
       "\t<tr><th scope=row>Recall</th><td>0.8354228</td><td>0.8099497</td><td>0.8292447</td><td>0.8311007</td><td>0.30032740</td><td>0.21448535</td><td>0.29414138</td><td>0.28994513</td></tr>\n",
       "\t<tr><th scope=row>F1</th><td>0.4366444</td><td>0.4248822</td><td>0.4346594</td><td>0.4346028</td><td>0.40534569</td><td>0.31393174</td><td>0.39721027</td><td>0.39338698</td></tr>\n",
       "\t<tr><th scope=row>Prevalence</th><td>0.1262565</td><td>0.1262565</td><td>0.1255369</td><td>0.1255369</td><td>0.12625647</td><td>0.12625647</td><td>0.12553692</td><td>0.12553692</td></tr>\n",
       "\t<tr><th scope=row>Detection Rate</th><td>0.1054775</td><td>0.1022614</td><td>0.1041008</td><td>0.1043338</td><td>0.03791828</td><td>0.02708016</td><td>0.03692560</td><td>0.03639882</td></tr>\n",
       "\t<tr><th scope=row>Detection Prevalence</th><td>0.3568714</td><td>0.3551070</td><td>0.3534626</td><td>0.3545972</td><td>0.06083459</td><td>0.04626614</td><td>0.06038779</td><td>0.05951657</td></tr>\n",
       "\t<tr><th scope=row>Balanced Accuracy</th><td>0.7738512</td><td>0.7602839</td><td>0.7720424</td><td>0.7724549</td><td>0.63704983</td><td>0.59626349</td><td>0.63365549</td><td>0.63175431</td></tr>\n",
       "</tbody>\n",
       "</table>\n"
      ],
      "text/latex": [
       "A data.frame: 11 × 8\n",
       "\\begin{tabular}{r|llllllll}\n",
       "  & agg\\_rf\\_0.089 & seg2\\_glm\\_fb\\_0.089 & l10\\_win\\_04\\_0.089 & auc\\_win\\_04\\_0.089 & agg\\_rf\\_0.500 & seg2\\_glm\\_fb\\_0.500 & l10\\_win\\_04\\_0.500 & auc\\_win\\_04\\_0.500\\\\\n",
       "  & <dbl> & <dbl> & <dbl> & <dbl> & <dbl> & <dbl> & <dbl> & <dbl>\\\\\n",
       "\\hline\n",
       "\tSensitivity & 0.8354228 & 0.8099497 & 0.8292447 & 0.8311007 & 0.30032740 & 0.21448535 & 0.29414138 & 0.28994513\\\\\n",
       "\tSpecificity & 0.7122796 & 0.7106180 & 0.7148401 & 0.7138091 & 0.97377227 & 0.97804163 & 0.97316960 & 0.97356348\\\\\n",
       "\tPos Pred Value & 0.2955618 & 0.2879734 & 0.2945172 & 0.2942319 & 0.62330129 & 0.58531270 & 0.61147458 & 0.61157447\\\\\n",
       "\tNeg Pred Value & 0.9676909 & 0.9627922 & 0.9668448 & 0.9671475 & 0.90593969 & 0.89601260 & 0.90569374 & 0.90522098\\\\\n",
       "\tPrecision & 0.2955618 & 0.2879734 & 0.2945172 & 0.2942319 & 0.62330129 & 0.58531270 & 0.61147458 & 0.61157447\\\\\n",
       "\tRecall & 0.8354228 & 0.8099497 & 0.8292447 & 0.8311007 & 0.30032740 & 0.21448535 & 0.29414138 & 0.28994513\\\\\n",
       "\tF1 & 0.4366444 & 0.4248822 & 0.4346594 & 0.4346028 & 0.40534569 & 0.31393174 & 0.39721027 & 0.39338698\\\\\n",
       "\tPrevalence & 0.1262565 & 0.1262565 & 0.1255369 & 0.1255369 & 0.12625647 & 0.12625647 & 0.12553692 & 0.12553692\\\\\n",
       "\tDetection Rate & 0.1054775 & 0.1022614 & 0.1041008 & 0.1043338 & 0.03791828 & 0.02708016 & 0.03692560 & 0.03639882\\\\\n",
       "\tDetection Prevalence & 0.3568714 & 0.3551070 & 0.3534626 & 0.3545972 & 0.06083459 & 0.04626614 & 0.06038779 & 0.05951657\\\\\n",
       "\tBalanced Accuracy & 0.7738512 & 0.7602839 & 0.7720424 & 0.7724549 & 0.63704983 & 0.59626349 & 0.63365549 & 0.63175431\\\\\n",
       "\\end{tabular}\n"
      ],
      "text/markdown": [
       "\n",
       "A data.frame: 11 × 8\n",
       "\n",
       "| <!--/--> | agg_rf_0.089 &lt;dbl&gt; | seg2_glm_fb_0.089 &lt;dbl&gt; | l10_win_04_0.089 &lt;dbl&gt; | auc_win_04_0.089 &lt;dbl&gt; | agg_rf_0.500 &lt;dbl&gt; | seg2_glm_fb_0.500 &lt;dbl&gt; | l10_win_04_0.500 &lt;dbl&gt; | auc_win_04_0.500 &lt;dbl&gt; |\n",
       "|---|---|---|---|---|---|---|---|---|\n",
       "| Sensitivity | 0.8354228 | 0.8099497 | 0.8292447 | 0.8311007 | 0.30032740 | 0.21448535 | 0.29414138 | 0.28994513 |\n",
       "| Specificity | 0.7122796 | 0.7106180 | 0.7148401 | 0.7138091 | 0.97377227 | 0.97804163 | 0.97316960 | 0.97356348 |\n",
       "| Pos Pred Value | 0.2955618 | 0.2879734 | 0.2945172 | 0.2942319 | 0.62330129 | 0.58531270 | 0.61147458 | 0.61157447 |\n",
       "| Neg Pred Value | 0.9676909 | 0.9627922 | 0.9668448 | 0.9671475 | 0.90593969 | 0.89601260 | 0.90569374 | 0.90522098 |\n",
       "| Precision | 0.2955618 | 0.2879734 | 0.2945172 | 0.2942319 | 0.62330129 | 0.58531270 | 0.61147458 | 0.61157447 |\n",
       "| Recall | 0.8354228 | 0.8099497 | 0.8292447 | 0.8311007 | 0.30032740 | 0.21448535 | 0.29414138 | 0.28994513 |\n",
       "| F1 | 0.4366444 | 0.4248822 | 0.4346594 | 0.4346028 | 0.40534569 | 0.31393174 | 0.39721027 | 0.39338698 |\n",
       "| Prevalence | 0.1262565 | 0.1262565 | 0.1255369 | 0.1255369 | 0.12625647 | 0.12625647 | 0.12553692 | 0.12553692 |\n",
       "| Detection Rate | 0.1054775 | 0.1022614 | 0.1041008 | 0.1043338 | 0.03791828 | 0.02708016 | 0.03692560 | 0.03639882 |\n",
       "| Detection Prevalence | 0.3568714 | 0.3551070 | 0.3534626 | 0.3545972 | 0.06083459 | 0.04626614 | 0.06038779 | 0.05951657 |\n",
       "| Balanced Accuracy | 0.7738512 | 0.7602839 | 0.7720424 | 0.7724549 | 0.63704983 | 0.59626349 | 0.63365549 | 0.63175431 |\n",
       "\n"
      ],
      "text/plain": [
       "                     agg_rf_0.089 seg2_glm_fb_0.089 l10_win_04_0.089\n",
       "Sensitivity          0.8354228    0.8099497         0.8292447       \n",
       "Specificity          0.7122796    0.7106180         0.7148401       \n",
       "Pos Pred Value       0.2955618    0.2879734         0.2945172       \n",
       "Neg Pred Value       0.9676909    0.9627922         0.9668448       \n",
       "Precision            0.2955618    0.2879734         0.2945172       \n",
       "Recall               0.8354228    0.8099497         0.8292447       \n",
       "F1                   0.4366444    0.4248822         0.4346594       \n",
       "Prevalence           0.1262565    0.1262565         0.1255369       \n",
       "Detection Rate       0.1054775    0.1022614         0.1041008       \n",
       "Detection Prevalence 0.3568714    0.3551070         0.3534626       \n",
       "Balanced Accuracy    0.7738512    0.7602839         0.7720424       \n",
       "                     auc_win_04_0.089 agg_rf_0.500 seg2_glm_fb_0.500\n",
       "Sensitivity          0.8311007        0.30032740   0.21448535       \n",
       "Specificity          0.7138091        0.97377227   0.97804163       \n",
       "Pos Pred Value       0.2942319        0.62330129   0.58531270       \n",
       "Neg Pred Value       0.9671475        0.90593969   0.89601260       \n",
       "Precision            0.2942319        0.62330129   0.58531270       \n",
       "Recall               0.8311007        0.30032740   0.21448535       \n",
       "F1                   0.4346028        0.40534569   0.31393174       \n",
       "Prevalence           0.1255369        0.12625647   0.12625647       \n",
       "Detection Rate       0.1043338        0.03791828   0.02708016       \n",
       "Detection Prevalence 0.3545972        0.06083459   0.04626614       \n",
       "Balanced Accuracy    0.7724549        0.63704983   0.59626349       \n",
       "                     l10_win_04_0.500 auc_win_04_0.500\n",
       "Sensitivity          0.29414138       0.28994513      \n",
       "Specificity          0.97316960       0.97356348      \n",
       "Pos Pred Value       0.61147458       0.61157447      \n",
       "Neg Pred Value       0.90569374       0.90522098      \n",
       "Precision            0.61147458       0.61157447      \n",
       "Recall               0.29414138       0.28994513      \n",
       "F1                   0.39721027       0.39338698      \n",
       "Prevalence           0.12553692       0.12553692      \n",
       "Detection Rate       0.03692560       0.03639882      \n",
       "Detection Prevalence 0.06038779       0.05951657      \n",
       "Balanced Accuracy    0.63365549       0.63175431      "
      ]
     },
     "metadata": {},
     "output_type": "display_data"
    }
   ],
   "source": [
    "# agg_rf vs. seg2_glm Sensitivity & Specificity at cutoff of .5 and =proppos\n",
    "\n",
    "compare_function <- function(preds_df){\n",
    "    compare_df = as.data.frame(list(\n",
    "        'agg_rf_0.089'=confusionMatrix(as.factor(ifelse(preds_df$pred_agg_rf_ALL > 0.08937016, \"Renewed\", \"Not Renewd\")), \n",
    "                preds_df$renewal_status, positive=\"Renewed\")$byClass,\n",
    "        'seg2_glm_fb_0.089'=confusionMatrix(as.factor(ifelse(preds_df$pred_seg2_glm_ALL_fb2 > 0.08937016, \"Renewed\", \"Not Renewd\")), \n",
    "                preds_df$renewal_status, positive=\"Renewed\")$byClass,\n",
    "        'l10_win_04_0.089'=confusionMatrix(as.factor(ifelse(preds_df$l10_win_04_pred_value > 0.08937016, \"Renewed\", \"Not Renewd\")), \n",
    "                preds_df$renewal_status, positive=\"Renewed\")$byClass,\n",
    "        'auc_win_04_0.089'=confusionMatrix(as.factor(ifelse(preds_df$auc_win_04_pred_value > 0.08937016, \"Renewed\", \"Not Renewd\")), \n",
    "                preds_df$renewal_status, positive=\"Renewed\")$byClass,\n",
    "        'agg_rf_0.500'=confusionMatrix(as.factor(ifelse(preds_df$pred_agg_rf_ALL > 0.5, \"Renewed\", \"Not Renewd\")), \n",
    "                preds_df$renewal_status, positive=\"Renewed\")$byClass,\n",
    "        'seg2_glm_fb_0.500'=confusionMatrix(as.factor(ifelse(preds_df$pred_seg2_glm_ALL_fb2 > 0.5, \"Renewed\", \"Not Renewd\")), \n",
    "                preds_df$renewal_status, positive=\"Renewed\")$byClass,\n",
    "        'l10_win_04_0.500'=confusionMatrix(as.factor(ifelse(preds_df$l10_win_04_pred_value > 0.5, \"Renewed\", \"Not Renewd\")), \n",
    "                preds_df$renewal_status, positive=\"Renewed\")$byClass,\n",
    "        'auc_win_04_0.500'=confusionMatrix(as.factor(ifelse(preds_df$auc_win_04_pred_value > 0.5, \"Renewed\", \"Not Renewd\")), \n",
    "                preds_df$renewal_status, positive=\"Renewed\")$byClass))\n",
    "    return(compare_df)\n",
    "}\n",
    "\n",
    "# confres_list <- lapply(preds_prio_list,compare_function)\n",
    "compare_function(expiry_df_test_preds_assign)"
   ]
  },
  {
   "cell_type": "code",
   "execution_count": 109,
   "metadata": {},
   "outputs": [
    {
     "name": "stdout",
     "output_type": "stream",
     "text": [
      "True Positive Improvement via L10 assignment  @ 0.089 cutoff"
     ]
    },
    {
     "data": {
      "text/html": [
       "0.0238224442760328"
      ],
      "text/latex": [
       "0.0238224442760328"
      ],
      "text/markdown": [
       "0.0238224442760328"
      ],
      "text/plain": [
       "[1] 0.02382244"
      ]
     },
     "metadata": {},
     "output_type": "display_data"
    },
    {
     "name": "stdout",
     "output_type": "stream",
     "text": [
      "\n",
      "\n",
      "True Positive Improvement via L10 assignment  @ 0.500 cutoff"
     ]
    },
    {
     "data": {
      "text/html": [
       "0.0983468915489774"
      ],
      "text/latex": [
       "0.0983468915489774"
      ],
      "text/markdown": [
       "0.0983468915489774"
      ],
      "text/plain": [
       "[1] 0.09834689"
      ]
     },
     "metadata": {},
     "output_type": "display_data"
    },
    {
     "name": "stdout",
     "output_type": "stream",
     "text": [
      "\n",
      "\n",
      "True Positive Improvement via AUC assignment  @ 0.089 cutoff"
     ]
    },
    {
     "data": {
      "text/html": [
       "0.0261139892564093"
      ],
      "text/latex": [
       "0.0261139892564093"
      ],
      "text/markdown": [
       "0.0261139892564093"
      ],
      "text/plain": [
       "[1] 0.02611399"
      ]
     },
     "metadata": {},
     "output_type": "display_data"
    },
    {
     "name": "stdout",
     "output_type": "stream",
     "text": [
      "\n",
      "\n",
      "True Positive Improvement via AUC assignment  @ 0.500 cutoff"
     ]
    },
    {
     "data": {
      "text/html": [
       "0.0931660072455176"
      ],
      "text/latex": [
       "0.0931660072455176"
      ],
      "text/markdown": [
       "0.0931660072455176"
      ],
      "text/plain": [
       "[1] 0.09316601"
      ]
     },
     "metadata": {},
     "output_type": "display_data"
    }
   ],
   "source": [
    "x = compare_function(expiry_df_test_preds_assign)\n",
    "\n",
    "cat(\"True Positive Improvement via L10 assignment  @ 0.089 cutoff\")\n",
    "(x['Sensitivity','l10_win_04_0.089']-\n",
    "                                  x['Sensitivity','seg2_glm_fb_0.089'])/x['Sensitivity','seg2_glm_fb_0.089']\n",
    "\n",
    "cat(\"\\n\\nTrue Positive Improvement via L10 assignment  @ 0.500 cutoff\")\n",
    "(x['Sensitivity','l10_win_04_0.500']-\n",
    "                                  x['Sensitivity','seg2_glm_fb_0.500'])/x['Sensitivity','seg2_glm_fb_0.089']\n",
    "       \n",
    "cat(\"\\n\\nTrue Positive Improvement via AUC assignment  @ 0.089 cutoff\")\n",
    "(x['Sensitivity','auc_win_04_0.089']-\n",
    "                                  x['Sensitivity','seg2_glm_fb_0.089'])/x['Sensitivity','seg2_glm_fb_0.089']\n",
    "\n",
    "cat(\"\\n\\nTrue Positive Improvement via AUC assignment  @ 0.500 cutoff\")\n",
    "(x['Sensitivity','auc_win_04_0.500']-\n",
    "                                  x['Sensitivity','seg2_glm_fb_0.500'])/x['Sensitivity','seg2_glm_fb_0.089']\n",
    "  "
   ]
  },
  {
   "cell_type": "markdown",
   "metadata": {},
   "source": [
    "# Examining how variables of high importance differ between classes in training & test data"
   ]
  },
  {
   "cell_type": "code",
   "execution_count": 84,
   "metadata": {},
   "outputs": [
    {
     "data": {
      "text/html": [
       "<table>\n",
       "<caption>A data.frame: 10 × 2</caption>\n",
       "<thead>\n",
       "\t<tr><th></th><th scope=col>imp_l10</th><th scope=col>imp_auc</th></tr>\n",
       "\t<tr><th></th><th scope=col>&lt;dbl&gt;</th><th scope=col>&lt;dbl&gt;</th></tr>\n",
       "</thead>\n",
       "<tbody>\n",
       "\t<tr><th scope=row>n</th><td>31.75366</td><td>30.72497</td></tr>\n",
       "\t<tr><th scope=row>gibbs_rng</th><td>23.26031</td><td>19.52434</td></tr>\n",
       "\t<tr><th scope=row>sldlen_kurt</th><td>22.90408</td><td>24.48538</td></tr>\n",
       "\t<tr><th scope=row>daydom_rng</th><td>21.44615</td><td>21.87291</td></tr>\n",
       "\t<tr><th scope=row>daydom_max</th><td>16.89406</td><td>16.63842</td></tr>\n",
       "\t<tr><th scope=row>gibbs_max</th><td>15.29106</td><td>10.51729</td></tr>\n",
       "\t<tr><th scope=row>ren_prp</th><td>13.16063</td><td>20.22859</td></tr>\n",
       "\t<tr><th scope=row>daydom_kurt</th><td>12.83814</td><td>26.50903</td></tr>\n",
       "\t<tr><th scope=row>gibbs_kurt</th><td>12.79085</td><td>18.07617</td></tr>\n",
       "\t<tr><th scope=row>daydom_mean</th><td>12.72196</td><td>14.88470</td></tr>\n",
       "</tbody>\n",
       "</table>\n"
      ],
      "text/latex": [
       "A data.frame: 10 × 2\n",
       "\\begin{tabular}{r|ll}\n",
       "  & imp\\_l10 & imp\\_auc\\\\\n",
       "  & <dbl> & <dbl>\\\\\n",
       "\\hline\n",
       "\tn & 31.75366 & 30.72497\\\\\n",
       "\tgibbs\\_rng & 23.26031 & 19.52434\\\\\n",
       "\tsldlen\\_kurt & 22.90408 & 24.48538\\\\\n",
       "\tdaydom\\_rng & 21.44615 & 21.87291\\\\\n",
       "\tdaydom\\_max & 16.89406 & 16.63842\\\\\n",
       "\tgibbs\\_max & 15.29106 & 10.51729\\\\\n",
       "\tren\\_prp & 13.16063 & 20.22859\\\\\n",
       "\tdaydom\\_kurt & 12.83814 & 26.50903\\\\\n",
       "\tgibbs\\_kurt & 12.79085 & 18.07617\\\\\n",
       "\tdaydom\\_mean & 12.72196 & 14.88470\\\\\n",
       "\\end{tabular}\n"
      ],
      "text/markdown": [
       "\n",
       "A data.frame: 10 × 2\n",
       "\n",
       "| <!--/--> | imp_l10 &lt;dbl&gt; | imp_auc &lt;dbl&gt; |\n",
       "|---|---|---|\n",
       "| n | 31.75366 | 30.72497 |\n",
       "| gibbs_rng | 23.26031 | 19.52434 |\n",
       "| sldlen_kurt | 22.90408 | 24.48538 |\n",
       "| daydom_rng | 21.44615 | 21.87291 |\n",
       "| daydom_max | 16.89406 | 16.63842 |\n",
       "| gibbs_max | 15.29106 | 10.51729 |\n",
       "| ren_prp | 13.16063 | 20.22859 |\n",
       "| daydom_kurt | 12.83814 | 26.50903 |\n",
       "| gibbs_kurt | 12.79085 | 18.07617 |\n",
       "| daydom_mean | 12.72196 | 14.88470 |\n",
       "\n"
      ],
      "text/plain": [
       "            imp_l10  imp_auc \n",
       "n           31.75366 30.72497\n",
       "gibbs_rng   23.26031 19.52434\n",
       "sldlen_kurt 22.90408 24.48538\n",
       "daydom_rng  21.44615 21.87291\n",
       "daydom_max  16.89406 16.63842\n",
       "gibbs_max   15.29106 10.51729\n",
       "ren_prp     13.16063 20.22859\n",
       "daydom_kurt 12.83814 26.50903\n",
       "gibbs_kurt  12.79085 18.07617\n",
       "daydom_mean 12.72196 14.88470"
      ]
     },
     "metadata": {},
     "output_type": "display_data"
    }
   ],
   "source": [
    "var_imp <- as.data.frame(list(imp_l10=importance(model_l10), \n",
    "                              imp_auc=importance(model_auc)))  %>% arrange(desc(imp_l10))\n",
    "# var_imp$var <- row.names(var_imp)\n",
    "# row.names(var_imp) <- NULL\n",
    "# var_imp <- var_imp %>% arrange(desc(imp))\n",
    "head(var_imp,10)"
   ]
  },
  {
   "cell_type": "code",
   "execution_count": 86,
   "metadata": {},
   "outputs": [
    {
     "name": "stderr",
     "output_type": "stream",
     "text": [
      "`summarise()` ungrouping output (override with `.groups` argument)\n",
      "\n"
     ]
    },
    {
     "data": {
      "text/html": [
       "<table>\n",
       "<caption>A matrix: 11 × 3 of type chr</caption>\n",
       "<tbody>\n",
       "\t<tr><th scope=row>auc_win_04</th><td>auc_agg_rf_ALL</td><td>auc_seg2_glm</td><td>auc_seg2_glm_fb</td></tr>\n",
       "\t<tr><th scope=row>mean_n</th><td>1471.4252     </td><td> 105.9897   </td><td>  29.9680      </td></tr>\n",
       "\t<tr><th scope=row>mean_gibbs_rng</th><td>42.81494      </td><td>15.44507    </td><td>21.77784       </td></tr>\n",
       "\t<tr><th scope=row>mean_sldlen_kurt</th><td> 2.6127300    </td><td>-0.6754634  </td><td> 0.1395763     </td></tr>\n",
       "\t<tr><th scope=row>mean_daydom_rng</th><td>521.97047     </td><td> 46.65201   </td><td>  8.63200      </td></tr>\n",
       "\t<tr><th scope=row>mean_daydom_max</th><td>524.00197     </td><td> 48.10608   </td><td>  9.64000      </td></tr>\n",
       "\t<tr><th scope=row>mean_gibbs_max</th><td>43.39378      </td><td>17.80871    </td><td>22.93048       </td></tr>\n",
       "\t<tr><th scope=row>mean_ren_prp</th><td>0.2806437     </td><td>0.3946055   </td><td>0.3890438      </td></tr>\n",
       "\t<tr><th scope=row>mean_daydom_kurt</th><td> 2.0975765    </td><td>-0.5600047  </td><td> 0.2552572     </td></tr>\n",
       "\t<tr><th scope=row>mean_gibbs_kurt</th><td>56.352897     </td><td>11.363191   </td><td> 2.979369      </td></tr>\n",
       "\t<tr><th scope=row>mean_daydom_mean</th><td>190.287148    </td><td> 20.999453  </td><td>  3.707608     </td></tr>\n",
       "</tbody>\n",
       "</table>\n"
      ],
      "text/latex": [
       "A matrix: 11 × 3 of type chr\n",
       "\\begin{tabular}{r|lll}\n",
       "\tauc\\_win\\_04 & auc\\_agg\\_rf\\_ALL & auc\\_seg2\\_glm & auc\\_seg2\\_glm\\_fb\\\\\n",
       "\tmean\\_n & 1471.4252      &  105.9897    &   29.9680      \\\\\n",
       "\tmean\\_gibbs\\_rng & 42.81494       & 15.44507     & 21.77784       \\\\\n",
       "\tmean\\_sldlen\\_kurt &  2.6127300     & -0.6754634   &  0.1395763     \\\\\n",
       "\tmean\\_daydom\\_rng & 521.97047      &  46.65201    &   8.63200      \\\\\n",
       "\tmean\\_daydom\\_max & 524.00197      &  48.10608    &   9.64000      \\\\\n",
       "\tmean\\_gibbs\\_max & 43.39378       & 17.80871     & 22.93048       \\\\\n",
       "\tmean\\_ren\\_prp & 0.2806437      & 0.3946055    & 0.3890438      \\\\\n",
       "\tmean\\_daydom\\_kurt &  2.0975765     & -0.5600047   &  0.2552572     \\\\\n",
       "\tmean\\_gibbs\\_kurt & 56.352897      & 11.363191    &  2.979369      \\\\\n",
       "\tmean\\_daydom\\_mean & 190.287148     &  20.999453   &   3.707608     \\\\\n",
       "\\end{tabular}\n"
      ],
      "text/markdown": [
       "\n",
       "A matrix: 11 × 3 of type chr\n",
       "\n",
       "| auc_win_04 | auc_agg_rf_ALL | auc_seg2_glm | auc_seg2_glm_fb |\n",
       "| mean_n | 1471.4252      |  105.9897    |   29.9680       |\n",
       "| mean_gibbs_rng | 42.81494       | 15.44507     | 21.77784        |\n",
       "| mean_sldlen_kurt |  2.6127300     | -0.6754634   |  0.1395763      |\n",
       "| mean_daydom_rng | 521.97047      |  46.65201    |   8.63200       |\n",
       "| mean_daydom_max | 524.00197      |  48.10608    |   9.64000       |\n",
       "| mean_gibbs_max | 43.39378       | 17.80871     | 22.93048        |\n",
       "| mean_ren_prp | 0.2806437      | 0.3946055    | 0.3890438       |\n",
       "| mean_daydom_kurt |  2.0975765     | -0.5600047   |  0.2552572      |\n",
       "| mean_gibbs_kurt | 56.352897      | 11.363191    |  2.979369       |\n",
       "| mean_daydom_mean | 190.287148     |  20.999453   |   3.707608      |\n",
       "\n"
      ],
      "text/plain": [
       "                 [,1]           [,2]         [,3]           \n",
       "auc_win_04       auc_agg_rf_ALL auc_seg2_glm auc_seg2_glm_fb\n",
       "mean_n           1471.4252       105.9897      29.9680      \n",
       "mean_gibbs_rng   42.81494       15.44507     21.77784       \n",
       "mean_sldlen_kurt  2.6127300     -0.6754634    0.1395763     \n",
       "mean_daydom_rng  521.97047       46.65201      8.63200      \n",
       "mean_daydom_max  524.00197       48.10608      9.64000      \n",
       "mean_gibbs_max   43.39378       17.80871     22.93048       \n",
       "mean_ren_prp     0.2806437      0.3946055    0.3890438      \n",
       "mean_daydom_kurt  2.0975765     -0.5600047    0.2552572     \n",
       "mean_gibbs_kurt  56.352897      11.363191     2.979369      \n",
       "mean_daydom_mean 190.287148      20.999453     3.707608     "
      ]
     },
     "metadata": {},
     "output_type": "display_data"
    }
   ],
   "source": [
    "train %>% \n",
    "  group_by(auc_win_04) %>%\n",
    "  summarize(mean_n = mean(n), \n",
    "           mean_gibbs_rng = mean(gibbs_rng),\n",
    "           mean_sldlen_kurt = mean(sldlen_kurt),\n",
    "           mean_daydom_rng = mean(daydom_rng),\n",
    "           mean_daydom_max = mean(daydom_max),\n",
    "           mean_gibbs_max = mean(gibbs_max),\n",
    "           mean_ren_prp = mean(ren_prp),\n",
    "           mean_daydom_kurt = mean(daydom_kurt),\n",
    "           mean_gibbs_kurt = mean(gibbs_kurt),\n",
    "           mean_daydom_mean = mean(daydom_mean)\n",
    "           ) %>% t()"
   ]
  },
  {
   "cell_type": "code",
   "execution_count": 87,
   "metadata": {},
   "outputs": [
    {
     "name": "stderr",
     "output_type": "stream",
     "text": [
      "`summarise()` ungrouping output (override with `.groups` argument)\n",
      "\n"
     ]
    },
    {
     "data": {
      "text/html": [
       "<table>\n",
       "<caption>A matrix: 11 × 3 of type chr</caption>\n",
       "<tbody>\n",
       "\t<tr><th scope=row>l10_win_04</th><td>l10_agg_rf_ALL</td><td>l10_seg2_glm</td><td>l10_seg2_glm_fb</td></tr>\n",
       "\t<tr><th scope=row>mean_n</th><td>1862.91969    </td><td> 116.91719  </td><td>  38.39394     </td></tr>\n",
       "\t<tr><th scope=row>mean_gibbs_rng</th><td>49.32479      </td><td>16.72014    </td><td>21.52848       </td></tr>\n",
       "\t<tr><th scope=row>mean_sldlen_kurt</th><td> 3.5601528    </td><td>-0.6287673  </td><td> 0.7303890     </td></tr>\n",
       "\t<tr><th scope=row>mean_daydom_rng</th><td>655.96632     </td><td> 50.82285   </td><td>  9.30303      </td></tr>\n",
       "\t<tr><th scope=row>mean_daydom_max</th><td>658.21503     </td><td> 52.23585   </td><td> 10.30303      </td></tr>\n",
       "\t<tr><th scope=row>mean_gibbs_max</th><td>49.79671      </td><td>18.84135    </td><td>22.42879       </td></tr>\n",
       "\t<tr><th scope=row>mean_ren_prp</th><td>0.2574651     </td><td>0.3905533   </td><td>0.3675474      </td></tr>\n",
       "\t<tr><th scope=row>mean_daydom_kurt</th><td> 2.3917029    </td><td>-0.2916554  </td><td> 0.2974898     </td></tr>\n",
       "\t<tr><th scope=row>mean_gibbs_kurt</th><td>70.82100      </td><td>10.62390    </td><td> 4.71722       </td></tr>\n",
       "\t<tr><th scope=row>mean_daydom_mean</th><td>241.889724    </td><td> 20.670345  </td><td>  4.135719     </td></tr>\n",
       "</tbody>\n",
       "</table>\n"
      ],
      "text/latex": [
       "A matrix: 11 × 3 of type chr\n",
       "\\begin{tabular}{r|lll}\n",
       "\tl10\\_win\\_04 & l10\\_agg\\_rf\\_ALL & l10\\_seg2\\_glm & l10\\_seg2\\_glm\\_fb\\\\\n",
       "\tmean\\_n & 1862.91969     &  116.91719   &   38.39394     \\\\\n",
       "\tmean\\_gibbs\\_rng & 49.32479       & 16.72014     & 21.52848       \\\\\n",
       "\tmean\\_sldlen\\_kurt &  3.5601528     & -0.6287673   &  0.7303890     \\\\\n",
       "\tmean\\_daydom\\_rng & 655.96632      &  50.82285    &   9.30303      \\\\\n",
       "\tmean\\_daydom\\_max & 658.21503      &  52.23585    &  10.30303      \\\\\n",
       "\tmean\\_gibbs\\_max & 49.79671       & 18.84135     & 22.42879       \\\\\n",
       "\tmean\\_ren\\_prp & 0.2574651      & 0.3905533    & 0.3675474      \\\\\n",
       "\tmean\\_daydom\\_kurt &  2.3917029     & -0.2916554   &  0.2974898     \\\\\n",
       "\tmean\\_gibbs\\_kurt & 70.82100       & 10.62390     &  4.71722       \\\\\n",
       "\tmean\\_daydom\\_mean & 241.889724     &  20.670345   &   4.135719     \\\\\n",
       "\\end{tabular}\n"
      ],
      "text/markdown": [
       "\n",
       "A matrix: 11 × 3 of type chr\n",
       "\n",
       "| l10_win_04 | l10_agg_rf_ALL | l10_seg2_glm | l10_seg2_glm_fb |\n",
       "| mean_n | 1862.91969     |  116.91719   |   38.39394      |\n",
       "| mean_gibbs_rng | 49.32479       | 16.72014     | 21.52848        |\n",
       "| mean_sldlen_kurt |  3.5601528     | -0.6287673   |  0.7303890      |\n",
       "| mean_daydom_rng | 655.96632      |  50.82285    |   9.30303       |\n",
       "| mean_daydom_max | 658.21503      |  52.23585    |  10.30303       |\n",
       "| mean_gibbs_max | 49.79671       | 18.84135     | 22.42879        |\n",
       "| mean_ren_prp | 0.2574651      | 0.3905533    | 0.3675474       |\n",
       "| mean_daydom_kurt |  2.3917029     | -0.2916554   |  0.2974898      |\n",
       "| mean_gibbs_kurt | 70.82100       | 10.62390     |  4.71722        |\n",
       "| mean_daydom_mean | 241.889724     |  20.670345   |   4.135719      |\n",
       "\n"
      ],
      "text/plain": [
       "                 [,1]           [,2]         [,3]           \n",
       "l10_win_04       l10_agg_rf_ALL l10_seg2_glm l10_seg2_glm_fb\n",
       "mean_n           1862.91969      116.91719     38.39394     \n",
       "mean_gibbs_rng   49.32479       16.72014     21.52848       \n",
       "mean_sldlen_kurt  3.5601528     -0.6287673    0.7303890     \n",
       "mean_daydom_rng  655.96632       50.82285      9.30303      \n",
       "mean_daydom_max  658.21503       52.23585     10.30303      \n",
       "mean_gibbs_max   49.79671       18.84135     22.42879       \n",
       "mean_ren_prp     0.2574651      0.3905533    0.3675474      \n",
       "mean_daydom_kurt  2.3917029     -0.2916554    0.2974898     \n",
       "mean_gibbs_kurt  70.82100       10.62390      4.71722       \n",
       "mean_daydom_mean 241.889724      20.670345     4.135719     "
      ]
     },
     "metadata": {},
     "output_type": "display_data"
    }
   ],
   "source": [
    "train %>% \n",
    "  group_by(l10_win_04) %>%\n",
    "  summarize(mean_n = mean(n), \n",
    "           mean_gibbs_rng = mean(gibbs_rng),\n",
    "           mean_sldlen_kurt = mean(sldlen_kurt),\n",
    "           mean_daydom_rng = mean(daydom_rng),\n",
    "           mean_daydom_max = mean(daydom_max),\n",
    "           mean_gibbs_max = mean(gibbs_max),\n",
    "           mean_ren_prp = mean(ren_prp),\n",
    "           mean_daydom_kurt = mean(daydom_kurt),\n",
    "           mean_gibbs_kurt = mean(gibbs_kurt),\n",
    "           mean_daydom_mean = mean(daydom_mean)\n",
    "           ) %>% t()"
   ]
  },
  {
   "cell_type": "code",
   "execution_count": null,
   "metadata": {},
   "outputs": [],
   "source": []
  }
 ],
 "metadata": {
  "environment": {
   "name": "r-cpu.3-6.m48",
   "type": "gcloud",
   "uri": "gcr.io/deeplearning-platform-release/r-cpu.3-6:m48"
  },
  "kernelspec": {
   "display_name": "R",
   "language": "R",
   "name": "ir"
  },
  "language_info": {
   "codemirror_mode": "r",
   "file_extension": ".r",
   "mimetype": "text/x-r-source",
   "name": "R",
   "pygments_lexer": "r",
   "version": "3.6.3"
  }
 },
 "nbformat": 4,
 "nbformat_minor": 4
}
