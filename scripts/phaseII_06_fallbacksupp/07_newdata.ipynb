{
 "cells": [
  {
   "cell_type": "markdown",
   "metadata": {},
   "source": [
    "# Analyzing Results of Metalearning Predictions script"
   ]
  },
  {
   "cell_type": "code",
   "execution_count": 3,
   "metadata": {},
   "outputs": [
    {
     "data": {
      "text/html": [
       "'x/y/preds.csv'"
      ],
      "text/latex": [
       "'x/y/preds.csv'"
      ],
      "text/markdown": [
       "'x/y/preds.csv'"
      ],
      "text/plain": [
       "[1] \"x/y/preds.csv\""
      ]
     },
     "metadata": {},
     "output_type": "display_data"
    }
   ],
   "source": [
    "file.path('x','y','preds.csv')"
   ]
  },
  {
   "cell_type": "code",
   "execution_count": 1,
   "metadata": {},
   "outputs": [],
   "source": [
    "options(repr.matrix.max.cols=50, repr.matrix.max.rows=100)"
   ]
  },
  {
   "cell_type": "code",
   "execution_count": 2,
   "metadata": {},
   "outputs": [],
   "source": [
    "# install.packages(\"pkgcond\")"
   ]
  },
  {
   "cell_type": "code",
   "execution_count": 3,
   "metadata": {},
   "outputs": [
    {
     "name": "stderr",
     "output_type": "stream",
     "text": [
      "\n",
      "Attaching package: ‘dplyr’\n",
      "\n",
      "\n",
      "The following objects are masked from ‘package:stats’:\n",
      "\n",
      "    filter, lag\n",
      "\n",
      "\n",
      "The following objects are masked from ‘package:base’:\n",
      "\n",
      "    intersect, setdiff, setequal, union\n",
      "\n",
      "\n",
      "\n",
      "Attaching package: ‘data.table’\n",
      "\n",
      "\n",
      "The following objects are masked from ‘package:dplyr’:\n",
      "\n",
      "    between, first, last\n",
      "\n",
      "\n",
      "Loading required package: grid\n",
      "\n",
      "Loading required package: libcoin\n",
      "\n",
      "Loading required package: mvtnorm\n",
      "\n",
      "Loading required package: lattice\n",
      "\n",
      "Loading required package: ggplot2\n",
      "\n",
      "randomForest 4.6-14\n",
      "\n",
      "Type rfNews() to see new features/changes/bug fixes.\n",
      "\n",
      "\n",
      "Attaching package: ‘randomForest’\n",
      "\n",
      "\n",
      "The following object is masked from ‘package:ggplot2’:\n",
      "\n",
      "    margin\n",
      "\n",
      "\n",
      "The following object is masked from ‘package:dplyr’:\n",
      "\n",
      "    combine\n",
      "\n",
      "\n",
      "\n",
      "Attaching package: ‘ranger’\n",
      "\n",
      "\n",
      "The following object is masked from ‘package:randomForest’:\n",
      "\n",
      "    importance\n",
      "\n",
      "\n",
      "\n",
      "Attaching package: ‘plotly’\n",
      "\n",
      "\n",
      "The following object is masked from ‘package:ggplot2’:\n",
      "\n",
      "    last_plot\n",
      "\n",
      "\n",
      "The following object is masked from ‘package:stats’:\n",
      "\n",
      "    filter\n",
      "\n",
      "\n",
      "The following object is masked from ‘package:graphics’:\n",
      "\n",
      "    layout\n",
      "\n",
      "\n",
      "\n",
      "Attaching package: ‘zoo’\n",
      "\n",
      "\n",
      "The following objects are masked from ‘package:base’:\n",
      "\n",
      "    as.Date, as.Date.numeric\n",
      "\n",
      "\n"
     ]
    },
    {
     "data": {
      "text/html": [
       "'/home/jupyter/Domains_202003/scripts/phaseII_06_fallbacksupp'"
      ],
      "text/latex": [
       "'/home/jupyter/Domains\\_202003/scripts/phaseII\\_06\\_fallbacksupp'"
      ],
      "text/markdown": [
       "'/home/jupyter/Domains_202003/scripts/phaseII_06_fallbacksupp'"
      ],
      "text/plain": [
       "[1] \"/home/jupyter/Domains_202003/scripts/phaseII_06_fallbacksupp\""
      ]
     },
     "metadata": {},
     "output_type": "display_data"
    }
   ],
   "source": [
    "library(dplyr)\n",
    "library(data.table)\n",
    "library(partykit)\n",
    "library(tictoc)\n",
    "library(caret)\n",
    "library(e1071)\n",
    "library(randomForest)\n",
    "library(ranger)\n",
    "\n",
    "#for 3d plotting\n",
    "library(akima)\n",
    "library(plotly)\n",
    "\n",
    "# for prep data\n",
    "# library(rPython)\n",
    "library(stringr)\n",
    "library(pbapply)\n",
    "library(stringdist)\n",
    "library(data.table)\n",
    "library(dominanceanalysis)\n",
    "library(zoo)\n",
    "\n",
    "\n",
    "getwd()"
   ]
  },
  {
   "cell_type": "code",
   "execution_count": 4,
   "metadata": {},
   "outputs": [
    {
     "name": "stderr",
     "output_type": "stream",
     "text": [
      "Installing package into ‘/home/jupyter/.R/library’\n",
      "(as ‘lib’ is unspecified)\n",
      "\n"
     ]
    }
   ],
   "source": [
    "install.packages(c(\"zoo\"))"
   ]
  },
  {
   "cell_type": "code",
   "execution_count": 5,
   "metadata": {},
   "outputs": [
    {
     "name": "stderr",
     "output_type": "stream",
     "text": [
      "\n",
      "Attaching package: ‘tidyr’\n",
      "\n",
      "\n",
      "The following object is masked from ‘package:stringdist’:\n",
      "\n",
      "    extract\n",
      "\n",
      "\n"
     ]
    }
   ],
   "source": [
    "\n",
    "source('../orig/functions.R')\n",
    "\n",
    "source('../orig/functions_models.R')\n",
    "\n",
    "source('../phaseII_03_forest/functions_eval.R')\n"
   ]
  },
  {
   "cell_type": "code",
   "execution_count": 6,
   "metadata": {},
   "outputs": [],
   "source": [
    "source('functions_metalearning.R')"
   ]
  },
  {
   "cell_type": "code",
   "execution_count": 7,
   "metadata": {},
   "outputs": [
    {
     "name": "stdout",
     "output_type": "stream",
     "text": [
      "Loading data...Loaded 5427633 rows\n",
      "Removing 0 rows due to expiry_date constraints\n",
      "Removing 758186 rows due to renewed_count constraints\n",
      "Removing 7716 rows due to missing gibb_score\n",
      "... now dataset min(creation_date) is  2017-01-01 .\n"
     ]
    }
   ],
   "source": [
    "source('load_prep_data_expiry_2.R')\n",
    "\n",
    "# expiry_df\n",
    "# expiry_train_df \n",
    "# expiry_test_df \n",
    "# expiry_list\n",
    "# expiry_train_list\n",
    "# expiry_test_list"
   ]
  },
  {
   "cell_type": "markdown",
   "metadata": {},
   "source": [
    "# LOAD output"
   ]
  },
  {
   "cell_type": "code",
   "execution_count": 8,
   "metadata": {},
   "outputs": [
    {
     "data": {
      "text/html": [
       "<style>\n",
       ".list-inline {list-style: none; margin:0; padding: 0}\n",
       ".list-inline>li {display: inline-block}\n",
       ".list-inline>li:not(:last-child)::after {content: \"\\00b7\"; padding: 0 .5ex}\n",
       "</style>\n",
       "<ol class=list-inline><li>932289</li><li>39</li></ol>\n"
      ],
      "text/latex": [
       "\\begin{enumerate*}\n",
       "\\item 932289\n",
       "\\item 39\n",
       "\\end{enumerate*}\n"
      ],
      "text/markdown": [
       "1. 932289\n",
       "2. 39\n",
       "\n",
       "\n"
      ],
      "text/plain": [
       "[1] 932289     39"
      ]
     },
     "metadata": {},
     "output_type": "display_data"
    },
    {
     "data": {
      "text/html": [
       "<table>\n",
       "<caption>A data.frame: 6 × 39</caption>\n",
       "<thead>\n",
       "\t<tr><th></th><th scope=col>renewal_type</th><th scope=col>renewed_count</th><th scope=col>expiry_date</th><th scope=col>creation_date</th><th scope=col>status</th><th scope=col>domain_id</th><th scope=col>domain</th><th scope=col>registrar</th><th scope=col>reseller</th><th scope=col>reseller_country</th><th scope=col>registrant_country</th><th scope=col>reg_period</th><th scope=col>reg_revenue</th><th scope=col>reg_arpt</th><th scope=col>renew_mbg</th><th scope=col>renewal_item_id</th><th scope=col>renew_type</th><th scope=col>autorenew_type</th><th scope=col>renewal_status</th><th scope=col>renew_date</th><th scope=col>renew_arpt</th><th scope=col>gibb_score</th><th scope=col>pattern</th><th scope=col>pattern_domain_count</th><th scope=col>day_domains</th><th scope=col>sld_length</th><th scope=col>sld_type</th><th scope=col>sld_type2</th><th scope=col>tld</th><th scope=col>log_reg_arpt</th><th scope=col>tld_registrar_index</th><th scope=col>pred_agg_glm_ALL</th><th scope=col>pred_agg_rf_ALL</th><th scope=col>pred_agg_glm</th><th scope=col>pred_agg_rf</th><th scope=col>pred_seg_glm_ALL</th><th scope=col>pred_seg_rf_ALL</th><th scope=col>pred_seg2_glm_ALL</th><th scope=col>pred_seg2_rf_ALL</th></tr>\n",
       "\t<tr><th></th><th scope=col>&lt;fct&gt;</th><th scope=col>&lt;int&gt;</th><th scope=col>&lt;fct&gt;</th><th scope=col>&lt;fct&gt;</th><th scope=col>&lt;fct&gt;</th><th scope=col>&lt;int&gt;</th><th scope=col>&lt;fct&gt;</th><th scope=col>&lt;fct&gt;</th><th scope=col>&lt;fct&gt;</th><th scope=col>&lt;fct&gt;</th><th scope=col>&lt;fct&gt;</th><th scope=col>&lt;int&gt;</th><th scope=col>&lt;dbl&gt;</th><th scope=col>&lt;dbl&gt;</th><th scope=col>&lt;int&gt;</th><th scope=col>&lt;int&gt;</th><th scope=col>&lt;fct&gt;</th><th scope=col>&lt;fct&gt;</th><th scope=col>&lt;fct&gt;</th><th scope=col>&lt;fct&gt;</th><th scope=col>&lt;dbl&gt;</th><th scope=col>&lt;dbl&gt;</th><th scope=col>&lt;fct&gt;</th><th scope=col>&lt;int&gt;</th><th scope=col>&lt;int&gt;</th><th scope=col>&lt;int&gt;</th><th scope=col>&lt;fct&gt;</th><th scope=col>&lt;fct&gt;</th><th scope=col>&lt;fct&gt;</th><th scope=col>&lt;dbl&gt;</th><th scope=col>&lt;fct&gt;</th><th scope=col>&lt;dbl&gt;</th><th scope=col>&lt;dbl&gt;</th><th scope=col>&lt;dbl&gt;</th><th scope=col>&lt;dbl&gt;</th><th scope=col>&lt;dbl&gt;</th><th scope=col>&lt;dbl&gt;</th><th scope=col>&lt;dbl&gt;</th><th scope=col>&lt;dbl&gt;</th></tr>\n",
       "</thead>\n",
       "<tbody>\n",
       "\t<tr><th scope=row>1</th><td>FirstTime</td><td>1</td><td>2019-11-08</td><td>2018-11-08</td><td>Active</td><td>82167309</td><td>viralherbs.pw</td><td>Namecheap</td><td>Namecheap</td><td>United States</td><td>NA</td><td>1</td><td>0.48</td><td>0.48</td><td>0</td><td>248714055</td><td>auto-renewal</td><td>realized  </td><td>Renewed   </td><td>2019-11-08</td><td>7.5</td><td>3.39</td><td>viralhealh</td><td>2</td><td> 576</td><td>10</td><td>l       </td><td>10l       </td><td>pw</td><td>-0.7339692</td><td>pwnamecheap</td><td>0.029</td><td>0.026318534</td><td>0.030</td><td>0.027366883</td><td>0.049</td><td>0.02752752</td><td>0.02812901</td><td>0.024447474</td></tr>\n",
       "\t<tr><th scope=row>2</th><td>FirstTime</td><td>1</td><td>2019-08-05</td><td>2018-08-05</td><td>Active</td><td>73624034</td><td>ww3n.pw      </td><td>Namecheap</td><td>Namecheap</td><td>United States</td><td>NA</td><td>1</td><td>0.48</td><td>0.48</td><td>0</td><td>219523016</td><td>auto-renewal</td><td>unrealized</td><td>Not Renewd</td><td>2019-08-05</td><td>0.0</td><td>0.52</td><td>ww3n      </td><td>1</td><td> 257</td><td> 4</td><td>ln      </td><td>4ln       </td><td>pw</td><td>-0.7339692</td><td>pwnamecheap</td><td>0.024</td><td>0.023279615</td><td>0.024</td><td>0.026322543</td><td>0.062</td><td>0.02930435</td><td>0.07347816</td><td>0.025803420</td></tr>\n",
       "\t<tr><th scope=row>3</th><td>FirstTime</td><td>1</td><td>2019-08-11</td><td>2018-08-11</td><td>Active</td><td>74035654</td><td>dpasseresp.pw</td><td>Namecheap</td><td>Namecheap</td><td>United States</td><td>NA</td><td>1</td><td>0.48</td><td>0.48</td><td>0</td><td>221379481</td><td>auto-renewal</td><td>unrealized</td><td>Not Renewd</td><td>2019-08-11</td><td>7.0</td><td>4.65</td><td>pssders   </td><td>3</td><td> 353</td><td>10</td><td>l       </td><td>10l       </td><td>pw</td><td>-0.7339692</td><td>pwnamecheap</td><td>0.035</td><td>0.006462295</td><td>0.035</td><td>0.006085356</td><td>0.066</td><td>0.01232116</td><td>0.03516253</td><td>0.006186874</td></tr>\n",
       "\t<tr><th scope=row>4</th><td>FirstTime</td><td>1</td><td>2019-07-22</td><td>2018-07-22</td><td>Active</td><td>72660399</td><td>sexgirls.pw  </td><td>Namecheap</td><td>Namecheap</td><td>United States</td><td>NA</td><td>1</td><td>0.48</td><td>0.48</td><td>0</td><td>216639126</td><td>auto-renewal</td><td>unrealized</td><td>Not Renewd</td><td>2019-07-22</td><td>7.0</td><td>1.75</td><td>xgirl     </td><td>2</td><td>  80</td><td> 8</td><td>l       </td><td>8l        </td><td>pw</td><td>-0.7339692</td><td>pwnamecheap</td><td>0.048</td><td>0.075690545</td><td>0.048</td><td>0.080058013</td><td>0.098</td><td>0.06522605</td><td>0.06273875</td><td>0.059190735</td></tr>\n",
       "\t<tr><th scope=row>5</th><td>FirstTime</td><td>1</td><td>2019-07-07</td><td>2018-07-07</td><td>Active</td><td>71566430</td><td>yucief.pw    </td><td>Namecheap</td><td>Namecheap</td><td>United States</td><td>NA</td><td>1</td><td>0.48</td><td>0.48</td><td>0</td><td>213669206</td><td>auto-renewal</td><td>unrealized</td><td>Not Renewd</td><td>2019-07-07</td><td>7.0</td><td>1.52</td><td>cief      </td><td>3</td><td>1147</td><td> 6</td><td>l       </td><td>6l        </td><td>pw</td><td>-0.7339692</td><td>pwnamecheap</td><td>0.016</td><td>0.011064910</td><td>0.017</td><td>0.016695967</td><td>0.023</td><td>0.01608117</td><td>0.02273527</td><td>0.016375413</td></tr>\n",
       "\t<tr><th scope=row>6</th><td>FirstTime</td><td>1</td><td>2019-11-11</td><td>2018-11-11</td><td>Active</td><td>82528489</td><td>bio-x-keto.pw</td><td>Namecheap</td><td>Namecheap</td><td>United States</td><td>NA</td><td>1</td><td>0.48</td><td>0.48</td><td>0</td><td>250798210</td><td>auto-renewal</td><td>unrealized</td><td>Not Renewd</td><td>2019-11-11</td><td>7.5</td><td>2.16</td><td>bio-x-keto</td><td>1</td><td> 687</td><td>10</td><td>hyphen-l</td><td>10hyphen-l</td><td>pw</td><td>-0.7339692</td><td>pwnamecheap</td><td>0.030</td><td>0.009262425</td><td>0.031</td><td>0.009853222</td><td>0.038</td><td>0.01404684</td><td>0.02211356</td><td>0.009443069</td></tr>\n",
       "</tbody>\n",
       "</table>\n"
      ],
      "text/latex": [
       "A data.frame: 6 × 39\n",
       "\\begin{tabular}{r|lllllllllllllllllllllllllllllllllllllll}\n",
       "  & renewal\\_type & renewed\\_count & expiry\\_date & creation\\_date & status & domain\\_id & domain & registrar & reseller & reseller\\_country & registrant\\_country & reg\\_period & reg\\_revenue & reg\\_arpt & renew\\_mbg & renewal\\_item\\_id & renew\\_type & autorenew\\_type & renewal\\_status & renew\\_date & renew\\_arpt & gibb\\_score & pattern & pattern\\_domain\\_count & day\\_domains & sld\\_length & sld\\_type & sld\\_type2 & tld & log\\_reg\\_arpt & tld\\_registrar\\_index & pred\\_agg\\_glm\\_ALL & pred\\_agg\\_rf\\_ALL & pred\\_agg\\_glm & pred\\_agg\\_rf & pred\\_seg\\_glm\\_ALL & pred\\_seg\\_rf\\_ALL & pred\\_seg2\\_glm\\_ALL & pred\\_seg2\\_rf\\_ALL\\\\\n",
       "  & <fct> & <int> & <fct> & <fct> & <fct> & <int> & <fct> & <fct> & <fct> & <fct> & <fct> & <int> & <dbl> & <dbl> & <int> & <int> & <fct> & <fct> & <fct> & <fct> & <dbl> & <dbl> & <fct> & <int> & <int> & <int> & <fct> & <fct> & <fct> & <dbl> & <fct> & <dbl> & <dbl> & <dbl> & <dbl> & <dbl> & <dbl> & <dbl> & <dbl>\\\\\n",
       "\\hline\n",
       "\t1 & FirstTime & 1 & 2019-11-08 & 2018-11-08 & Active & 82167309 & viralherbs.pw & Namecheap & Namecheap & United States & NA & 1 & 0.48 & 0.48 & 0 & 248714055 & auto-renewal & realized   & Renewed    & 2019-11-08 & 7.5 & 3.39 & viralhealh & 2 &  576 & 10 & l        & 10l        & pw & -0.7339692 & pwnamecheap & 0.029 & 0.026318534 & 0.030 & 0.027366883 & 0.049 & 0.02752752 & 0.02812901 & 0.024447474\\\\\n",
       "\t2 & FirstTime & 1 & 2019-08-05 & 2018-08-05 & Active & 73624034 & ww3n.pw       & Namecheap & Namecheap & United States & NA & 1 & 0.48 & 0.48 & 0 & 219523016 & auto-renewal & unrealized & Not Renewd & 2019-08-05 & 0.0 & 0.52 & ww3n       & 1 &  257 &  4 & ln       & 4ln        & pw & -0.7339692 & pwnamecheap & 0.024 & 0.023279615 & 0.024 & 0.026322543 & 0.062 & 0.02930435 & 0.07347816 & 0.025803420\\\\\n",
       "\t3 & FirstTime & 1 & 2019-08-11 & 2018-08-11 & Active & 74035654 & dpasseresp.pw & Namecheap & Namecheap & United States & NA & 1 & 0.48 & 0.48 & 0 & 221379481 & auto-renewal & unrealized & Not Renewd & 2019-08-11 & 7.0 & 4.65 & pssders    & 3 &  353 & 10 & l        & 10l        & pw & -0.7339692 & pwnamecheap & 0.035 & 0.006462295 & 0.035 & 0.006085356 & 0.066 & 0.01232116 & 0.03516253 & 0.006186874\\\\\n",
       "\t4 & FirstTime & 1 & 2019-07-22 & 2018-07-22 & Active & 72660399 & sexgirls.pw   & Namecheap & Namecheap & United States & NA & 1 & 0.48 & 0.48 & 0 & 216639126 & auto-renewal & unrealized & Not Renewd & 2019-07-22 & 7.0 & 1.75 & xgirl      & 2 &   80 &  8 & l        & 8l         & pw & -0.7339692 & pwnamecheap & 0.048 & 0.075690545 & 0.048 & 0.080058013 & 0.098 & 0.06522605 & 0.06273875 & 0.059190735\\\\\n",
       "\t5 & FirstTime & 1 & 2019-07-07 & 2018-07-07 & Active & 71566430 & yucief.pw     & Namecheap & Namecheap & United States & NA & 1 & 0.48 & 0.48 & 0 & 213669206 & auto-renewal & unrealized & Not Renewd & 2019-07-07 & 7.0 & 1.52 & cief       & 3 & 1147 &  6 & l        & 6l         & pw & -0.7339692 & pwnamecheap & 0.016 & 0.011064910 & 0.017 & 0.016695967 & 0.023 & 0.01608117 & 0.02273527 & 0.016375413\\\\\n",
       "\t6 & FirstTime & 1 & 2019-11-11 & 2018-11-11 & Active & 82528489 & bio-x-keto.pw & Namecheap & Namecheap & United States & NA & 1 & 0.48 & 0.48 & 0 & 250798210 & auto-renewal & unrealized & Not Renewd & 2019-11-11 & 7.5 & 2.16 & bio-x-keto & 1 &  687 & 10 & hyphen-l & 10hyphen-l & pw & -0.7339692 & pwnamecheap & 0.030 & 0.009262425 & 0.031 & 0.009853222 & 0.038 & 0.01404684 & 0.02211356 & 0.009443069\\\\\n",
       "\\end{tabular}\n"
      ],
      "text/markdown": [
       "\n",
       "A data.frame: 6 × 39\n",
       "\n",
       "| <!--/--> | renewal_type &lt;fct&gt; | renewed_count &lt;int&gt; | expiry_date &lt;fct&gt; | creation_date &lt;fct&gt; | status &lt;fct&gt; | domain_id &lt;int&gt; | domain &lt;fct&gt; | registrar &lt;fct&gt; | reseller &lt;fct&gt; | reseller_country &lt;fct&gt; | registrant_country &lt;fct&gt; | reg_period &lt;int&gt; | reg_revenue &lt;dbl&gt; | reg_arpt &lt;dbl&gt; | renew_mbg &lt;int&gt; | renewal_item_id &lt;int&gt; | renew_type &lt;fct&gt; | autorenew_type &lt;fct&gt; | renewal_status &lt;fct&gt; | renew_date &lt;fct&gt; | renew_arpt &lt;dbl&gt; | gibb_score &lt;dbl&gt; | pattern &lt;fct&gt; | pattern_domain_count &lt;int&gt; | day_domains &lt;int&gt; | sld_length &lt;int&gt; | sld_type &lt;fct&gt; | sld_type2 &lt;fct&gt; | tld &lt;fct&gt; | log_reg_arpt &lt;dbl&gt; | tld_registrar_index &lt;fct&gt; | pred_agg_glm_ALL &lt;dbl&gt; | pred_agg_rf_ALL &lt;dbl&gt; | pred_agg_glm &lt;dbl&gt; | pred_agg_rf &lt;dbl&gt; | pred_seg_glm_ALL &lt;dbl&gt; | pred_seg_rf_ALL &lt;dbl&gt; | pred_seg2_glm_ALL &lt;dbl&gt; | pred_seg2_rf_ALL &lt;dbl&gt; |\n",
       "|---|---|---|---|---|---|---|---|---|---|---|---|---|---|---|---|---|---|---|---|---|---|---|---|---|---|---|---|---|---|---|---|---|---|---|---|---|---|---|---|\n",
       "| 1 | FirstTime | 1 | 2019-11-08 | 2018-11-08 | Active | 82167309 | viralherbs.pw | Namecheap | Namecheap | United States | NA | 1 | 0.48 | 0.48 | 0 | 248714055 | auto-renewal | realized   | Renewed    | 2019-11-08 | 7.5 | 3.39 | viralhealh | 2 |  576 | 10 | l        | 10l        | pw | -0.7339692 | pwnamecheap | 0.029 | 0.026318534 | 0.030 | 0.027366883 | 0.049 | 0.02752752 | 0.02812901 | 0.024447474 |\n",
       "| 2 | FirstTime | 1 | 2019-08-05 | 2018-08-05 | Active | 73624034 | ww3n.pw       | Namecheap | Namecheap | United States | NA | 1 | 0.48 | 0.48 | 0 | 219523016 | auto-renewal | unrealized | Not Renewd | 2019-08-05 | 0.0 | 0.52 | ww3n       | 1 |  257 |  4 | ln       | 4ln        | pw | -0.7339692 | pwnamecheap | 0.024 | 0.023279615 | 0.024 | 0.026322543 | 0.062 | 0.02930435 | 0.07347816 | 0.025803420 |\n",
       "| 3 | FirstTime | 1 | 2019-08-11 | 2018-08-11 | Active | 74035654 | dpasseresp.pw | Namecheap | Namecheap | United States | NA | 1 | 0.48 | 0.48 | 0 | 221379481 | auto-renewal | unrealized | Not Renewd | 2019-08-11 | 7.0 | 4.65 | pssders    | 3 |  353 | 10 | l        | 10l        | pw | -0.7339692 | pwnamecheap | 0.035 | 0.006462295 | 0.035 | 0.006085356 | 0.066 | 0.01232116 | 0.03516253 | 0.006186874 |\n",
       "| 4 | FirstTime | 1 | 2019-07-22 | 2018-07-22 | Active | 72660399 | sexgirls.pw   | Namecheap | Namecheap | United States | NA | 1 | 0.48 | 0.48 | 0 | 216639126 | auto-renewal | unrealized | Not Renewd | 2019-07-22 | 7.0 | 1.75 | xgirl      | 2 |   80 |  8 | l        | 8l         | pw | -0.7339692 | pwnamecheap | 0.048 | 0.075690545 | 0.048 | 0.080058013 | 0.098 | 0.06522605 | 0.06273875 | 0.059190735 |\n",
       "| 5 | FirstTime | 1 | 2019-07-07 | 2018-07-07 | Active | 71566430 | yucief.pw     | Namecheap | Namecheap | United States | NA | 1 | 0.48 | 0.48 | 0 | 213669206 | auto-renewal | unrealized | Not Renewd | 2019-07-07 | 7.0 | 1.52 | cief       | 3 | 1147 |  6 | l        | 6l         | pw | -0.7339692 | pwnamecheap | 0.016 | 0.011064910 | 0.017 | 0.016695967 | 0.023 | 0.01608117 | 0.02273527 | 0.016375413 |\n",
       "| 6 | FirstTime | 1 | 2019-11-11 | 2018-11-11 | Active | 82528489 | bio-x-keto.pw | Namecheap | Namecheap | United States | NA | 1 | 0.48 | 0.48 | 0 | 250798210 | auto-renewal | unrealized | Not Renewd | 2019-11-11 | 7.5 | 2.16 | bio-x-keto | 1 |  687 | 10 | hyphen-l | 10hyphen-l | pw | -0.7339692 | pwnamecheap | 0.030 | 0.009262425 | 0.031 | 0.009853222 | 0.038 | 0.01404684 | 0.02211356 | 0.009443069 |\n",
       "\n"
      ],
      "text/plain": [
       "  renewal_type renewed_count expiry_date creation_date status domain_id\n",
       "1 FirstTime    1             2019-11-08  2018-11-08    Active 82167309 \n",
       "2 FirstTime    1             2019-08-05  2018-08-05    Active 73624034 \n",
       "3 FirstTime    1             2019-08-11  2018-08-11    Active 74035654 \n",
       "4 FirstTime    1             2019-07-22  2018-07-22    Active 72660399 \n",
       "5 FirstTime    1             2019-07-07  2018-07-07    Active 71566430 \n",
       "6 FirstTime    1             2019-11-11  2018-11-11    Active 82528489 \n",
       "  domain        registrar reseller  reseller_country registrant_country\n",
       "1 viralherbs.pw Namecheap Namecheap United States    NA                \n",
       "2 ww3n.pw       Namecheap Namecheap United States    NA                \n",
       "3 dpasseresp.pw Namecheap Namecheap United States    NA                \n",
       "4 sexgirls.pw   Namecheap Namecheap United States    NA                \n",
       "5 yucief.pw     Namecheap Namecheap United States    NA                \n",
       "6 bio-x-keto.pw Namecheap Namecheap United States    NA                \n",
       "  reg_period reg_revenue reg_arpt renew_mbg renewal_item_id renew_type  \n",
       "1 1          0.48        0.48     0         248714055       auto-renewal\n",
       "2 1          0.48        0.48     0         219523016       auto-renewal\n",
       "3 1          0.48        0.48     0         221379481       auto-renewal\n",
       "4 1          0.48        0.48     0         216639126       auto-renewal\n",
       "5 1          0.48        0.48     0         213669206       auto-renewal\n",
       "6 1          0.48        0.48     0         250798210       auto-renewal\n",
       "  autorenew_type renewal_status renew_date renew_arpt gibb_score pattern   \n",
       "1 realized       Renewed        2019-11-08 7.5        3.39       viralhealh\n",
       "2 unrealized     Not Renewd     2019-08-05 0.0        0.52       ww3n      \n",
       "3 unrealized     Not Renewd     2019-08-11 7.0        4.65       pssders   \n",
       "4 unrealized     Not Renewd     2019-07-22 7.0        1.75       xgirl     \n",
       "5 unrealized     Not Renewd     2019-07-07 7.0        1.52       cief      \n",
       "6 unrealized     Not Renewd     2019-11-11 7.5        2.16       bio-x-keto\n",
       "  pattern_domain_count day_domains sld_length sld_type sld_type2  tld\n",
       "1 2                     576        10         l        10l        pw \n",
       "2 1                     257         4         ln       4ln        pw \n",
       "3 3                     353        10         l        10l        pw \n",
       "4 2                      80         8         l        8l         pw \n",
       "5 3                    1147         6         l        6l         pw \n",
       "6 1                     687        10         hyphen-l 10hyphen-l pw \n",
       "  log_reg_arpt tld_registrar_index pred_agg_glm_ALL pred_agg_rf_ALL\n",
       "1 -0.7339692   pwnamecheap         0.029            0.026318534    \n",
       "2 -0.7339692   pwnamecheap         0.024            0.023279615    \n",
       "3 -0.7339692   pwnamecheap         0.035            0.006462295    \n",
       "4 -0.7339692   pwnamecheap         0.048            0.075690545    \n",
       "5 -0.7339692   pwnamecheap         0.016            0.011064910    \n",
       "6 -0.7339692   pwnamecheap         0.030            0.009262425    \n",
       "  pred_agg_glm pred_agg_rf pred_seg_glm_ALL pred_seg_rf_ALL pred_seg2_glm_ALL\n",
       "1 0.030        0.027366883 0.049            0.02752752      0.02812901       \n",
       "2 0.024        0.026322543 0.062            0.02930435      0.07347816       \n",
       "3 0.035        0.006085356 0.066            0.01232116      0.03516253       \n",
       "4 0.048        0.080058013 0.098            0.06522605      0.06273875       \n",
       "5 0.017        0.016695967 0.023            0.01608117      0.02273527       \n",
       "6 0.031        0.009853222 0.038            0.01404684      0.02211356       \n",
       "  pred_seg2_rf_ALL\n",
       "1 0.024447474     \n",
       "2 0.025803420     \n",
       "3 0.006186874     \n",
       "4 0.059190735     \n",
       "5 0.016375413     \n",
       "6 0.009443069     "
      ]
     },
     "metadata": {},
     "output_type": "display_data"
    }
   ],
   "source": [
    "preds_df <- read.csv('../../data/output/models_20201104/preds.csv')\n",
    "dim(preds_df)\n",
    "head(preds_df)"
   ]
  },
  {
   "cell_type": "markdown",
   "metadata": {},
   "source": [
    "## ensure correct nrow()"
   ]
  },
  {
   "cell_type": "code",
   "execution_count": 9,
   "metadata": {},
   "outputs": [
    {
     "data": {
      "text/html": [
       "<style>\n",
       ".list-inline {list-style: none; margin:0; padding: 0}\n",
       ".list-inline>li {display: inline-block}\n",
       ".list-inline>li:not(:last-child)::after {content: \"\\00b7\"; padding: 0 .5ex}\n",
       "</style>\n",
       "<ol class=list-inline><li>932347</li><li>31</li></ol>\n"
      ],
      "text/latex": [
       "\\begin{enumerate*}\n",
       "\\item 932347\n",
       "\\item 31\n",
       "\\end{enumerate*}\n"
      ],
      "text/markdown": [
       "1. 932347\n",
       "2. 31\n",
       "\n",
       "\n"
      ],
      "text/plain": [
       "[1] 932347     31"
      ]
     },
     "metadata": {},
     "output_type": "display_data"
    }
   ],
   "source": [
    "expiry_test_df %>% dim()"
   ]
  },
  {
   "cell_type": "markdown",
   "metadata": {},
   "source": [
    "### why preds_df has more rows than expiry_test?"
   ]
  },
  {
   "cell_type": "code",
   "execution_count": 10,
   "metadata": {},
   "outputs": [
    {
     "data": {
      "text/html": [
       "58"
      ],
      "text/latex": [
       "58"
      ],
      "text/markdown": [
       "58"
      ],
      "text/plain": [
       "[1] 58"
      ]
     },
     "metadata": {},
     "output_type": "display_data"
    }
   ],
   "source": [
    "nrow(expiry_test_df)-nrow(preds_df)"
   ]
  },
  {
   "cell_type": "code",
   "execution_count": 11,
   "metadata": {},
   "outputs": [
    {
     "data": {
      "text/html": [
       "932289"
      ],
      "text/latex": [
       "932289"
      ],
      "text/markdown": [
       "932289"
      ],
      "text/plain": [
       "[1] 932289"
      ]
     },
     "metadata": {},
     "output_type": "display_data"
    },
    {
     "data": {
      "text/html": [
       "932347"
      ],
      "text/latex": [
       "932347"
      ],
      "text/markdown": [
       "932347"
      ],
      "text/plain": [
       "[1] 932347"
      ]
     },
     "metadata": {},
     "output_type": "display_data"
    }
   ],
   "source": [
    "# duplicate rows in preds_df? NO\n",
    "preds_domains <- preds_df %>% distinct(domain_id) %>% pull(domain_id) \n",
    "preds_domains %>% length()\n",
    "# duplicate rows in expiry_test_df (not that this would explain it but just checking)? NO\n",
    "test_domains <- expiry_test_df %>% distinct(domain_id) %>% pull(domain_id) \n",
    "test_domains %>% length()"
   ]
  },
  {
   "cell_type": "code",
   "execution_count": 12,
   "metadata": {},
   "outputs": [
    {
     "data": {
      "text/html": [
       "932347"
      ],
      "text/latex": [
       "932347"
      ],
      "text/markdown": [
       "932347"
      ],
      "text/plain": [
       "[1] 932347"
      ]
     },
     "metadata": {},
     "output_type": "display_data"
    },
    {
     "data": {
      "text/html": [
       "<style>\n",
       ".list-inline {list-style: none; margin:0; padding: 0}\n",
       ".list-inline>li {display: inline-block}\n",
       ".list-inline>li:not(:last-child)::after {content: \"\\00b7\"; padding: 0 .5ex}\n",
       "</style>\n",
       "<ol class=list-inline><li>82167309</li><li>73624034</li><li>74035654</li><li>72660399</li><li>71566430</li><li>82528489</li></ol>\n"
      ],
      "text/latex": [
       "\\begin{enumerate*}\n",
       "\\item 82167309\n",
       "\\item 73624034\n",
       "\\item 74035654\n",
       "\\item 72660399\n",
       "\\item 71566430\n",
       "\\item 82528489\n",
       "\\end{enumerate*}\n"
      ],
      "text/markdown": [
       "1. 82167309\n",
       "2. 73624034\n",
       "3. 74035654\n",
       "4. 72660399\n",
       "5. 71566430\n",
       "6. 82528489\n",
       "\n",
       "\n"
      ],
      "text/plain": [
       "[1] 82167309 73624034 74035654 72660399 71566430 82528489"
      ]
     },
     "metadata": {},
     "output_type": "display_data"
    },
    {
     "data": {
      "text/html": [
       "932289"
      ],
      "text/latex": [
       "932289"
      ],
      "text/markdown": [
       "932289"
      ],
      "text/plain": [
       "[1] 932289"
      ]
     },
     "metadata": {},
     "output_type": "display_data"
    },
    {
     "data": {
      "text/html": [
       "<style>\n",
       ".list-inline {list-style: none; margin:0; padding: 0}\n",
       ".list-inline>li {display: inline-block}\n",
       ".list-inline>li:not(:last-child)::after {content: \"\\00b7\"; padding: 0 .5ex}\n",
       "</style>\n",
       "<ol class=list-inline><li>82167309</li><li>73624034</li><li>74035654</li><li>72660399</li><li>71566430</li><li>82528489</li></ol>\n"
      ],
      "text/latex": [
       "\\begin{enumerate*}\n",
       "\\item 82167309\n",
       "\\item 73624034\n",
       "\\item 74035654\n",
       "\\item 72660399\n",
       "\\item 71566430\n",
       "\\item 82528489\n",
       "\\end{enumerate*}\n"
      ],
      "text/markdown": [
       "1. 82167309\n",
       "2. 73624034\n",
       "3. 74035654\n",
       "4. 72660399\n",
       "5. 71566430\n",
       "6. 82528489\n",
       "\n",
       "\n"
      ],
      "text/plain": [
       "[1] 82167309 73624034 74035654 72660399 71566430 82528489"
      ]
     },
     "metadata": {},
     "output_type": "display_data"
    }
   ],
   "source": [
    "# what are the non-overlapping domain_ids? expiry test_df has 58 domains for which no predictions were generated\n",
    "\n",
    "test_preds_domains_u <- preds_domains %>% union(test_domains)\n",
    "length(test_preds_domains_u)\n",
    "head(test_preds_domains_u)\n",
    "\n",
    "\n",
    "test_preds_domains_i <- preds_domains %>% intersect(test_domains)\n",
    "length(test_preds_domains_i)\n",
    "head(test_preds_domains_i)"
   ]
  },
  {
   "cell_type": "code",
   "execution_count": 13,
   "metadata": {},
   "outputs": [
    {
     "data": {
      "text/html": [],
      "text/latex": [],
      "text/markdown": [],
      "text/plain": [
       "integer(0)"
      ]
     },
     "metadata": {},
     "output_type": "display_data"
    },
    {
     "data": {
      "text/html": [
       "0"
      ],
      "text/latex": [
       "0"
      ],
      "text/markdown": [
       "0"
      ],
      "text/plain": [
       "[1] 0"
      ]
     },
     "metadata": {},
     "output_type": "display_data"
    },
    {
     "name": "stdout",
     "output_type": "stream",
     "text": [
      "\n",
      "\n",
      "\n"
     ]
    },
    {
     "data": {
      "text/html": [
       "<style>\n",
       ".list-inline {list-style: none; margin:0; padding: 0}\n",
       ".list-inline>li {display: inline-block}\n",
       ".list-inline>li:not(:last-child)::after {content: \"\\00b7\"; padding: 0 .5ex}\n",
       "</style>\n",
       "<ol class=list-inline><li>70181780</li><li>78360794</li><li>122049036</li><li>74267354</li><li>101141084</li><li>71066905</li><li>83956614</li><li>116039006</li><li>82321649</li><li>73736289</li><li>91900703</li><li>98114119</li><li>104026606</li><li>101088999</li><li>92905248</li><li>104968651</li><li>69902250</li><li>78686599</li><li>73576899</li><li>48026450</li><li>108131151</li><li>76806449</li><li>83956624</li><li>78253334</li><li>73141264</li><li>72570834</li><li>118048911</li><li>103906916</li><li>77531224</li><li>99009174</li><li>86079062</li><li>102386359</li><li>73230044</li><li>73786199</li><li>99243829</li><li>108660061</li><li>69834100</li><li>105762741</li><li>80956989</li><li>113944656</li><li>93010773</li><li>88054102</li><li>72691074</li><li>107426936</li><li>91704323</li><li>71082385</li><li>49087574</li><li>71594045</li><li>72123374</li><li>102955459</li><li>93333378</li><li>77731294</li><li>71440360</li><li>82102184</li><li>71455605</li><li>118462681</li><li>71238585</li><li>75267554</li></ol>\n"
      ],
      "text/latex": [
       "\\begin{enumerate*}\n",
       "\\item 70181780\n",
       "\\item 78360794\n",
       "\\item 122049036\n",
       "\\item 74267354\n",
       "\\item 101141084\n",
       "\\item 71066905\n",
       "\\item 83956614\n",
       "\\item 116039006\n",
       "\\item 82321649\n",
       "\\item 73736289\n",
       "\\item 91900703\n",
       "\\item 98114119\n",
       "\\item 104026606\n",
       "\\item 101088999\n",
       "\\item 92905248\n",
       "\\item 104968651\n",
       "\\item 69902250\n",
       "\\item 78686599\n",
       "\\item 73576899\n",
       "\\item 48026450\n",
       "\\item 108131151\n",
       "\\item 76806449\n",
       "\\item 83956624\n",
       "\\item 78253334\n",
       "\\item 73141264\n",
       "\\item 72570834\n",
       "\\item 118048911\n",
       "\\item 103906916\n",
       "\\item 77531224\n",
       "\\item 99009174\n",
       "\\item 86079062\n",
       "\\item 102386359\n",
       "\\item 73230044\n",
       "\\item 73786199\n",
       "\\item 99243829\n",
       "\\item 108660061\n",
       "\\item 69834100\n",
       "\\item 105762741\n",
       "\\item 80956989\n",
       "\\item 113944656\n",
       "\\item 93010773\n",
       "\\item 88054102\n",
       "\\item 72691074\n",
       "\\item 107426936\n",
       "\\item 91704323\n",
       "\\item 71082385\n",
       "\\item 49087574\n",
       "\\item 71594045\n",
       "\\item 72123374\n",
       "\\item 102955459\n",
       "\\item 93333378\n",
       "\\item 77731294\n",
       "\\item 71440360\n",
       "\\item 82102184\n",
       "\\item 71455605\n",
       "\\item 118462681\n",
       "\\item 71238585\n",
       "\\item 75267554\n",
       "\\end{enumerate*}\n"
      ],
      "text/markdown": [
       "1. 70181780\n",
       "2. 78360794\n",
       "3. 122049036\n",
       "4. 74267354\n",
       "5. 101141084\n",
       "6. 71066905\n",
       "7. 83956614\n",
       "8. 116039006\n",
       "9. 82321649\n",
       "10. 73736289\n",
       "11. 91900703\n",
       "12. 98114119\n",
       "13. 104026606\n",
       "14. 101088999\n",
       "15. 92905248\n",
       "16. 104968651\n",
       "17. 69902250\n",
       "18. 78686599\n",
       "19. 73576899\n",
       "20. 48026450\n",
       "21. 108131151\n",
       "22. 76806449\n",
       "23. 83956624\n",
       "24. 78253334\n",
       "25. 73141264\n",
       "26. 72570834\n",
       "27. 118048911\n",
       "28. 103906916\n",
       "29. 77531224\n",
       "30. 99009174\n",
       "31. 86079062\n",
       "32. 102386359\n",
       "33. 73230044\n",
       "34. 73786199\n",
       "35. 99243829\n",
       "36. 108660061\n",
       "37. 69834100\n",
       "38. 105762741\n",
       "39. 80956989\n",
       "40. 113944656\n",
       "41. 93010773\n",
       "42. 88054102\n",
       "43. 72691074\n",
       "44. 107426936\n",
       "45. 91704323\n",
       "46. 71082385\n",
       "47. 49087574\n",
       "48. 71594045\n",
       "49. 72123374\n",
       "50. 102955459\n",
       "51. 93333378\n",
       "52. 77731294\n",
       "53. 71440360\n",
       "54. 82102184\n",
       "55. 71455605\n",
       "56. 118462681\n",
       "57. 71238585\n",
       "58. 75267554\n",
       "\n",
       "\n"
      ],
      "text/plain": [
       " [1]  70181780  78360794 122049036  74267354 101141084  71066905  83956614\n",
       " [8] 116039006  82321649  73736289  91900703  98114119 104026606 101088999\n",
       "[15]  92905248 104968651  69902250  78686599  73576899  48026450 108131151\n",
       "[22]  76806449  83956624  78253334  73141264  72570834 118048911 103906916\n",
       "[29]  77531224  99009174  86079062 102386359  73230044  73786199  99243829\n",
       "[36] 108660061  69834100 105762741  80956989 113944656  93010773  88054102\n",
       "[43]  72691074 107426936  91704323  71082385  49087574  71594045  72123374\n",
       "[50] 102955459  93333378  77731294  71440360  82102184  71455605 118462681\n",
       "[57]  71238585  75267554"
      ]
     },
     "metadata": {},
     "output_type": "display_data"
    },
    {
     "data": {
      "text/html": [
       "58"
      ],
      "text/latex": [
       "58"
      ],
      "text/markdown": [
       "58"
      ],
      "text/plain": [
       "[1] 58"
      ]
     },
     "metadata": {},
     "output_type": "display_data"
    }
   ],
   "source": [
    "# identify missing preds\n",
    "\n",
    "setdiff(preds_domains,test_domains)\n",
    "length(setdiff(preds_domains,test_domains))\n",
    "cat(\"\\n\\n\\n\")\n",
    "setdiff(test_domains,preds_domains)\n",
    "length(setdiff(test_domains,preds_domains))"
   ]
  },
  {
   "cell_type": "code",
   "execution_count": 14,
   "metadata": {},
   "outputs": [
    {
     "data": {
      "text/html": [
       "<style>\n",
       ".list-inline {list-style: none; margin:0; padding: 0}\n",
       ".list-inline>li {display: inline-block}\n",
       ".list-inline>li:not(:last-child)::after {content: \"\\00b7\"; padding: 0 .5ex}\n",
       "</style>\n",
       "<ol class=list-inline><li>'spaceinternet gmbh'</li><li>'storearvixe'</li><li>'online'</li><li>'spaceregister.ca'</li><li>'pressnicenic'</li><li>'spacearsys'</li><li>'onlineimperial registrations'</li><li>'sitenetclues'</li><li>'hostrealtime register'</li><li>'websiteheart internet'</li><li>'sitewhois networks'</li><li>'storeglobal village'</li><li>'fundnc holdings'</li><li>'storejogjacamp'</li><li>'storecompra'</li><li>'funtecnocratica centro'</li><li>'storeplanet hoster'</li><li>'techfreeparking'</li><li>'pwweb4africa'</li><li>'pwbluehost'</li><li>'spaceownregistrar'</li><li>'funlexsynergy'</li><li>'siteimperial registrations'</li><li>'techzhengzhou zitian'</li><li>'pwhosteurope'</li><li>'websitealfahosting'</li><li>'sitecompra'</li><li>'pressregistrator domenov'</li><li>'websitesiteground'</li><li>'sitemarkum'</li><li>'techeukhost'</li><li>'pressascio'</li><li>'presseasydns'</li><li>'pwimpreza'</li><li>'funwebnames'</li><li>'websiteneostrada'</li><li>'in.netownregistrar'</li><li>'spaceguzel hosting'</li><li>'pressbigrock'</li><li>'techinames'</li><li>'hostcheck domain'</li><li>'storetecnocratica centro'</li><li>'spacecorehub'</li><li>'storeshenzhen hulianxianfeng'</li><li>'onlinewhois networks'</li><li>'storeinames'</li><li>'presswebnames'</li><li>'storedomain the net'</li><li>'pressarsys'</li><li>'hostredehost'</li><li>'presshome.pl'</li><li>'sitewebonic'</li></ol>\n"
      ],
      "text/latex": [
       "\\begin{enumerate*}\n",
       "\\item 'spaceinternet gmbh'\n",
       "\\item 'storearvixe'\n",
       "\\item 'online'\n",
       "\\item 'spaceregister.ca'\n",
       "\\item 'pressnicenic'\n",
       "\\item 'spacearsys'\n",
       "\\item 'onlineimperial registrations'\n",
       "\\item 'sitenetclues'\n",
       "\\item 'hostrealtime register'\n",
       "\\item 'websiteheart internet'\n",
       "\\item 'sitewhois networks'\n",
       "\\item 'storeglobal village'\n",
       "\\item 'fundnc holdings'\n",
       "\\item 'storejogjacamp'\n",
       "\\item 'storecompra'\n",
       "\\item 'funtecnocratica centro'\n",
       "\\item 'storeplanet hoster'\n",
       "\\item 'techfreeparking'\n",
       "\\item 'pwweb4africa'\n",
       "\\item 'pwbluehost'\n",
       "\\item 'spaceownregistrar'\n",
       "\\item 'funlexsynergy'\n",
       "\\item 'siteimperial registrations'\n",
       "\\item 'techzhengzhou zitian'\n",
       "\\item 'pwhosteurope'\n",
       "\\item 'websitealfahosting'\n",
       "\\item 'sitecompra'\n",
       "\\item 'pressregistrator domenov'\n",
       "\\item 'websitesiteground'\n",
       "\\item 'sitemarkum'\n",
       "\\item 'techeukhost'\n",
       "\\item 'pressascio'\n",
       "\\item 'presseasydns'\n",
       "\\item 'pwimpreza'\n",
       "\\item 'funwebnames'\n",
       "\\item 'websiteneostrada'\n",
       "\\item 'in.netownregistrar'\n",
       "\\item 'spaceguzel hosting'\n",
       "\\item 'pressbigrock'\n",
       "\\item 'techinames'\n",
       "\\item 'hostcheck domain'\n",
       "\\item 'storetecnocratica centro'\n",
       "\\item 'spacecorehub'\n",
       "\\item 'storeshenzhen hulianxianfeng'\n",
       "\\item 'onlinewhois networks'\n",
       "\\item 'storeinames'\n",
       "\\item 'presswebnames'\n",
       "\\item 'storedomain the net'\n",
       "\\item 'pressarsys'\n",
       "\\item 'hostredehost'\n",
       "\\item 'presshome.pl'\n",
       "\\item 'sitewebonic'\n",
       "\\end{enumerate*}\n"
      ],
      "text/markdown": [
       "1. 'spaceinternet gmbh'\n",
       "2. 'storearvixe'\n",
       "3. 'online'\n",
       "4. 'spaceregister.ca'\n",
       "5. 'pressnicenic'\n",
       "6. 'spacearsys'\n",
       "7. 'onlineimperial registrations'\n",
       "8. 'sitenetclues'\n",
       "9. 'hostrealtime register'\n",
       "10. 'websiteheart internet'\n",
       "11. 'sitewhois networks'\n",
       "12. 'storeglobal village'\n",
       "13. 'fundnc holdings'\n",
       "14. 'storejogjacamp'\n",
       "15. 'storecompra'\n",
       "16. 'funtecnocratica centro'\n",
       "17. 'storeplanet hoster'\n",
       "18. 'techfreeparking'\n",
       "19. 'pwweb4africa'\n",
       "20. 'pwbluehost'\n",
       "21. 'spaceownregistrar'\n",
       "22. 'funlexsynergy'\n",
       "23. 'siteimperial registrations'\n",
       "24. 'techzhengzhou zitian'\n",
       "25. 'pwhosteurope'\n",
       "26. 'websitealfahosting'\n",
       "27. 'sitecompra'\n",
       "28. 'pressregistrator domenov'\n",
       "29. 'websitesiteground'\n",
       "30. 'sitemarkum'\n",
       "31. 'techeukhost'\n",
       "32. 'pressascio'\n",
       "33. 'presseasydns'\n",
       "34. 'pwimpreza'\n",
       "35. 'funwebnames'\n",
       "36. 'websiteneostrada'\n",
       "37. 'in.netownregistrar'\n",
       "38. 'spaceguzel hosting'\n",
       "39. 'pressbigrock'\n",
       "40. 'techinames'\n",
       "41. 'hostcheck domain'\n",
       "42. 'storetecnocratica centro'\n",
       "43. 'spacecorehub'\n",
       "44. 'storeshenzhen hulianxianfeng'\n",
       "45. 'onlinewhois networks'\n",
       "46. 'storeinames'\n",
       "47. 'presswebnames'\n",
       "48. 'storedomain the net'\n",
       "49. 'pressarsys'\n",
       "50. 'hostredehost'\n",
       "51. 'presshome.pl'\n",
       "52. 'sitewebonic'\n",
       "\n",
       "\n"
      ],
      "text/plain": [
       " [1] \"spaceinternet gmbh\"           \"storearvixe\"                 \n",
       " [3] \"online\"                       \"spaceregister.ca\"            \n",
       " [5] \"pressnicenic\"                 \"spacearsys\"                  \n",
       " [7] \"onlineimperial registrations\" \"sitenetclues\"                \n",
       " [9] \"hostrealtime register\"        \"websiteheart internet\"       \n",
       "[11] \"sitewhois networks\"           \"storeglobal village\"         \n",
       "[13] \"fundnc holdings\"              \"storejogjacamp\"              \n",
       "[15] \"storecompra\"                  \"funtecnocratica centro\"      \n",
       "[17] \"storeplanet hoster\"           \"techfreeparking\"             \n",
       "[19] \"pwweb4africa\"                 \"pwbluehost\"                  \n",
       "[21] \"spaceownregistrar\"            \"funlexsynergy\"               \n",
       "[23] \"siteimperial registrations\"   \"techzhengzhou zitian\"        \n",
       "[25] \"pwhosteurope\"                 \"websitealfahosting\"          \n",
       "[27] \"sitecompra\"                   \"pressregistrator domenov\"    \n",
       "[29] \"websitesiteground\"            \"sitemarkum\"                  \n",
       "[31] \"techeukhost\"                  \"pressascio\"                  \n",
       "[33] \"presseasydns\"                 \"pwimpreza\"                   \n",
       "[35] \"funwebnames\"                  \"websiteneostrada\"            \n",
       "[37] \"in.netownregistrar\"           \"spaceguzel hosting\"          \n",
       "[39] \"pressbigrock\"                 \"techinames\"                  \n",
       "[41] \"hostcheck domain\"             \"storetecnocratica centro\"    \n",
       "[43] \"spacecorehub\"                 \"storeshenzhen hulianxianfeng\"\n",
       "[45] \"onlinewhois networks\"         \"storeinames\"                 \n",
       "[47] \"presswebnames\"                \"storedomain the net\"         \n",
       "[49] \"pressarsys\"                   \"hostredehost\"                \n",
       "[51] \"presshome.pl\"                 \"sitewebonic\"                 "
      ]
     },
     "metadata": {},
     "output_type": "display_data"
    }
   ],
   "source": [
    "missing_pred_ids <- setdiff(test_domains,preds_domains)\n",
    "missing_preds_tldreidxs <- expiry_test_df %>% filter(domain_id %in% missing_pred_ids) %>% distinct(tld_registrar_index) %>% pull(tld_registrar_index)\n",
    "missing_preds_tldreidxs"
   ]
  },
  {
   "cell_type": "code",
   "execution_count": 15,
   "metadata": {},
   "outputs": [
    {
     "data": {
      "text/html": [
       "<table>\n",
       "<caption>A tibble: 0 × 31</caption>\n",
       "<thead>\n",
       "\t<tr><th scope=col>renewal_type</th><th scope=col>renewed_count</th><th scope=col>expiry_date</th><th scope=col>creation_date</th><th scope=col>status</th><th scope=col>domain_id</th><th scope=col>domain</th><th scope=col>registrar</th><th scope=col>reseller</th><th scope=col>reseller_country</th><th scope=col>registrant_country</th><th scope=col>reg_period</th><th scope=col>reg_revenue</th><th scope=col>reg_arpt</th><th scope=col>renew_mbg</th><th scope=col>renewal_item_id</th><th scope=col>renew_type</th><th scope=col>autorenew_type</th><th scope=col>renewal_status</th><th scope=col>renew_date</th><th scope=col>renew_arpt</th><th scope=col>gibb_score</th><th scope=col>pattern</th><th scope=col>pattern_domain_count</th><th scope=col>day_domains</th><th scope=col>sld_length</th><th scope=col>sld_type</th><th scope=col>sld_type2</th><th scope=col>tld</th><th scope=col>log_reg_arpt</th><th scope=col>tld_registrar_index</th></tr>\n",
       "\t<tr><th scope=col>&lt;chr&gt;</th><th scope=col>&lt;int&gt;</th><th scope=col>&lt;date&gt;</th><th scope=col>&lt;date&gt;</th><th scope=col>&lt;chr&gt;</th><th scope=col>&lt;int&gt;</th><th scope=col>&lt;chr&gt;</th><th scope=col>&lt;chr&gt;</th><th scope=col>&lt;chr&gt;</th><th scope=col>&lt;chr&gt;</th><th scope=col>&lt;chr&gt;</th><th scope=col>&lt;int&gt;</th><th scope=col>&lt;dbl&gt;</th><th scope=col>&lt;dbl&gt;</th><th scope=col>&lt;int&gt;</th><th scope=col>&lt;int&gt;</th><th scope=col>&lt;chr&gt;</th><th scope=col>&lt;chr&gt;</th><th scope=col>&lt;chr&gt;</th><th scope=col>&lt;date&gt;</th><th scope=col>&lt;dbl&gt;</th><th scope=col>&lt;dbl&gt;</th><th scope=col>&lt;chr&gt;</th><th scope=col>&lt;int&gt;</th><th scope=col>&lt;int&gt;</th><th scope=col>&lt;int&gt;</th><th scope=col>&lt;chr&gt;</th><th scope=col>&lt;chr&gt;</th><th scope=col>&lt;chr&gt;</th><th scope=col>&lt;dbl&gt;</th><th scope=col>&lt;chr&gt;</th></tr>\n",
       "</thead>\n",
       "<tbody>\n",
       "</tbody>\n",
       "</table>\n"
      ],
      "text/latex": [
       "A tibble: 0 × 31\n",
       "\\begin{tabular}{lllllllllllllllllllllllllllllll}\n",
       " renewal\\_type & renewed\\_count & expiry\\_date & creation\\_date & status & domain\\_id & domain & registrar & reseller & reseller\\_country & registrant\\_country & reg\\_period & reg\\_revenue & reg\\_arpt & renew\\_mbg & renewal\\_item\\_id & renew\\_type & autorenew\\_type & renewal\\_status & renew\\_date & renew\\_arpt & gibb\\_score & pattern & pattern\\_domain\\_count & day\\_domains & sld\\_length & sld\\_type & sld\\_type2 & tld & log\\_reg\\_arpt & tld\\_registrar\\_index\\\\\n",
       " <chr> & <int> & <date> & <date> & <chr> & <int> & <chr> & <chr> & <chr> & <chr> & <chr> & <int> & <dbl> & <dbl> & <int> & <int> & <chr> & <chr> & <chr> & <date> & <dbl> & <dbl> & <chr> & <int> & <int> & <int> & <chr> & <chr> & <chr> & <dbl> & <chr>\\\\\n",
       "\\hline\n",
       "\\end{tabular}\n"
      ],
      "text/markdown": [
       "\n",
       "A tibble: 0 × 31\n",
       "\n",
       "| renewal_type &lt;chr&gt; | renewed_count &lt;int&gt; | expiry_date &lt;date&gt; | creation_date &lt;date&gt; | status &lt;chr&gt; | domain_id &lt;int&gt; | domain &lt;chr&gt; | registrar &lt;chr&gt; | reseller &lt;chr&gt; | reseller_country &lt;chr&gt; | registrant_country &lt;chr&gt; | reg_period &lt;int&gt; | reg_revenue &lt;dbl&gt; | reg_arpt &lt;dbl&gt; | renew_mbg &lt;int&gt; | renewal_item_id &lt;int&gt; | renew_type &lt;chr&gt; | autorenew_type &lt;chr&gt; | renewal_status &lt;chr&gt; | renew_date &lt;date&gt; | renew_arpt &lt;dbl&gt; | gibb_score &lt;dbl&gt; | pattern &lt;chr&gt; | pattern_domain_count &lt;int&gt; | day_domains &lt;int&gt; | sld_length &lt;int&gt; | sld_type &lt;chr&gt; | sld_type2 &lt;chr&gt; | tld &lt;chr&gt; | log_reg_arpt &lt;dbl&gt; | tld_registrar_index &lt;chr&gt; |\n",
       "|---|---|---|---|---|---|---|---|---|---|---|---|---|---|---|---|---|---|---|---|---|---|---|---|---|---|---|---|---|---|---|\n",
       "\n"
      ],
      "text/plain": [
       "     renewal_type renewed_count expiry_date creation_date status domain_id\n",
       "     domain registrar reseller reseller_country registrant_country reg_period\n",
       "     reg_revenue reg_arpt renew_mbg renewal_item_id renew_type autorenew_type\n",
       "     renewal_status renew_date renew_arpt gibb_score pattern\n",
       "     pattern_domain_count day_domains sld_length sld_type sld_type2 tld\n",
       "     log_reg_arpt tld_registrar_index"
      ]
     },
     "metadata": {},
     "output_type": "display_data"
    }
   ],
   "source": [
    "expiry_train_df %>% filter(tld_registrar_index %in% missing_preds_tldreidxs)"
   ]
  },
  {
   "cell_type": "code",
   "execution_count": 17,
   "metadata": {},
   "outputs": [
    {
     "data": {
      "text/html": [
       "<table>\n",
       "<caption>A tibble: 52 × 2</caption>\n",
       "<thead>\n",
       "\t<tr><th scope=col>tld_registrar_index</th><th scope=col>n</th></tr>\n",
       "\t<tr><th scope=col>&lt;chr&gt;</th><th scope=col>&lt;int&gt;</th></tr>\n",
       "</thead>\n",
       "<tbody>\n",
       "\t<tr><td>fundnc holdings             </td><td>1</td></tr>\n",
       "\t<tr><td>funlexsynergy               </td><td>1</td></tr>\n",
       "\t<tr><td>funtecnocratica centro      </td><td>1</td></tr>\n",
       "\t<tr><td>funwebnames                 </td><td>1</td></tr>\n",
       "\t<tr><td>hostcheck domain            </td><td>1</td></tr>\n",
       "\t<tr><td>hostrealtime register       </td><td>2</td></tr>\n",
       "\t<tr><td>hostredehost                </td><td>1</td></tr>\n",
       "\t<tr><td>in.netownregistrar          </td><td>1</td></tr>\n",
       "\t<tr><td>online                      </td><td>1</td></tr>\n",
       "\t<tr><td>onlineimperial registrations</td><td>1</td></tr>\n",
       "\t<tr><td>onlinewhois networks        </td><td>1</td></tr>\n",
       "\t<tr><td>pressarsys                  </td><td>1</td></tr>\n",
       "\t<tr><td>pressascio                  </td><td>1</td></tr>\n",
       "\t<tr><td>pressbigrock                </td><td>2</td></tr>\n",
       "\t<tr><td>presseasydns                </td><td>1</td></tr>\n",
       "\t<tr><td>presshome.pl                </td><td>1</td></tr>\n",
       "\t<tr><td>pressnicenic                </td><td>1</td></tr>\n",
       "\t<tr><td>pressregistrator domenov    </td><td>1</td></tr>\n",
       "\t<tr><td>presswebnames               </td><td>1</td></tr>\n",
       "\t<tr><td>pwbluehost                  </td><td>2</td></tr>\n",
       "\t<tr><td>pwhosteurope                </td><td>1</td></tr>\n",
       "\t<tr><td>pwimpreza                   </td><td>1</td></tr>\n",
       "\t<tr><td>pwweb4africa                </td><td>1</td></tr>\n",
       "\t<tr><td>sitecompra                  </td><td>1</td></tr>\n",
       "\t<tr><td>siteimperial registrations  </td><td>1</td></tr>\n",
       "\t<tr><td>sitemarkum                  </td><td>1</td></tr>\n",
       "\t<tr><td>sitenetclues                </td><td>1</td></tr>\n",
       "\t<tr><td>sitewebonic                 </td><td>1</td></tr>\n",
       "\t<tr><td>sitewhois networks          </td><td>1</td></tr>\n",
       "\t<tr><td>spacearsys                  </td><td>1</td></tr>\n",
       "\t<tr><td>spacecorehub                </td><td>1</td></tr>\n",
       "\t<tr><td>spaceguzel hosting          </td><td>1</td></tr>\n",
       "\t<tr><td>spaceinternet gmbh          </td><td>2</td></tr>\n",
       "\t<tr><td>spaceownregistrar           </td><td>1</td></tr>\n",
       "\t<tr><td>spaceregister.ca            </td><td>1</td></tr>\n",
       "\t<tr><td>storearvixe                 </td><td>1</td></tr>\n",
       "\t<tr><td>storecompra                 </td><td>1</td></tr>\n",
       "\t<tr><td>storedomain the net         </td><td>1</td></tr>\n",
       "\t<tr><td>storeglobal village         </td><td>1</td></tr>\n",
       "\t<tr><td>storeinames                 </td><td>1</td></tr>\n",
       "\t<tr><td>storejogjacamp              </td><td>1</td></tr>\n",
       "\t<tr><td>storeplanet hoster          </td><td>2</td></tr>\n",
       "\t<tr><td>storeshenzhen hulianxianfeng</td><td>1</td></tr>\n",
       "\t<tr><td>storetecnocratica centro    </td><td>1</td></tr>\n",
       "\t<tr><td>techeukhost                 </td><td>1</td></tr>\n",
       "\t<tr><td>techfreeparking             </td><td>1</td></tr>\n",
       "\t<tr><td>techinames                  </td><td>1</td></tr>\n",
       "\t<tr><td>techzhengzhou zitian        </td><td>1</td></tr>\n",
       "\t<tr><td>websitealfahosting          </td><td>1</td></tr>\n",
       "\t<tr><td>websiteheart internet       </td><td>1</td></tr>\n",
       "\t<tr><td>websiteneostrada            </td><td>2</td></tr>\n",
       "\t<tr><td>websitesiteground           </td><td>1</td></tr>\n",
       "</tbody>\n",
       "</table>\n"
      ],
      "text/latex": [
       "A tibble: 52 × 2\n",
       "\\begin{tabular}{ll}\n",
       " tld\\_registrar\\_index & n\\\\\n",
       " <chr> & <int>\\\\\n",
       "\\hline\n",
       "\t fundnc holdings              & 1\\\\\n",
       "\t funlexsynergy                & 1\\\\\n",
       "\t funtecnocratica centro       & 1\\\\\n",
       "\t funwebnames                  & 1\\\\\n",
       "\t hostcheck domain             & 1\\\\\n",
       "\t hostrealtime register        & 2\\\\\n",
       "\t hostredehost                 & 1\\\\\n",
       "\t in.netownregistrar           & 1\\\\\n",
       "\t online                       & 1\\\\\n",
       "\t onlineimperial registrations & 1\\\\\n",
       "\t onlinewhois networks         & 1\\\\\n",
       "\t pressarsys                   & 1\\\\\n",
       "\t pressascio                   & 1\\\\\n",
       "\t pressbigrock                 & 2\\\\\n",
       "\t presseasydns                 & 1\\\\\n",
       "\t presshome.pl                 & 1\\\\\n",
       "\t pressnicenic                 & 1\\\\\n",
       "\t pressregistrator domenov     & 1\\\\\n",
       "\t presswebnames                & 1\\\\\n",
       "\t pwbluehost                   & 2\\\\\n",
       "\t pwhosteurope                 & 1\\\\\n",
       "\t pwimpreza                    & 1\\\\\n",
       "\t pwweb4africa                 & 1\\\\\n",
       "\t sitecompra                   & 1\\\\\n",
       "\t siteimperial registrations   & 1\\\\\n",
       "\t sitemarkum                   & 1\\\\\n",
       "\t sitenetclues                 & 1\\\\\n",
       "\t sitewebonic                  & 1\\\\\n",
       "\t sitewhois networks           & 1\\\\\n",
       "\t spacearsys                   & 1\\\\\n",
       "\t spacecorehub                 & 1\\\\\n",
       "\t spaceguzel hosting           & 1\\\\\n",
       "\t spaceinternet gmbh           & 2\\\\\n",
       "\t spaceownregistrar            & 1\\\\\n",
       "\t spaceregister.ca             & 1\\\\\n",
       "\t storearvixe                  & 1\\\\\n",
       "\t storecompra                  & 1\\\\\n",
       "\t storedomain the net          & 1\\\\\n",
       "\t storeglobal village          & 1\\\\\n",
       "\t storeinames                  & 1\\\\\n",
       "\t storejogjacamp               & 1\\\\\n",
       "\t storeplanet hoster           & 2\\\\\n",
       "\t storeshenzhen hulianxianfeng & 1\\\\\n",
       "\t storetecnocratica centro     & 1\\\\\n",
       "\t techeukhost                  & 1\\\\\n",
       "\t techfreeparking              & 1\\\\\n",
       "\t techinames                   & 1\\\\\n",
       "\t techzhengzhou zitian         & 1\\\\\n",
       "\t websitealfahosting           & 1\\\\\n",
       "\t websiteheart internet        & 1\\\\\n",
       "\t websiteneostrada             & 2\\\\\n",
       "\t websitesiteground            & 1\\\\\n",
       "\\end{tabular}\n"
      ],
      "text/markdown": [
       "\n",
       "A tibble: 52 × 2\n",
       "\n",
       "| tld_registrar_index &lt;chr&gt; | n &lt;int&gt; |\n",
       "|---|---|\n",
       "| fundnc holdings              | 1 |\n",
       "| funlexsynergy                | 1 |\n",
       "| funtecnocratica centro       | 1 |\n",
       "| funwebnames                  | 1 |\n",
       "| hostcheck domain             | 1 |\n",
       "| hostrealtime register        | 2 |\n",
       "| hostredehost                 | 1 |\n",
       "| in.netownregistrar           | 1 |\n",
       "| online                       | 1 |\n",
       "| onlineimperial registrations | 1 |\n",
       "| onlinewhois networks         | 1 |\n",
       "| pressarsys                   | 1 |\n",
       "| pressascio                   | 1 |\n",
       "| pressbigrock                 | 2 |\n",
       "| presseasydns                 | 1 |\n",
       "| presshome.pl                 | 1 |\n",
       "| pressnicenic                 | 1 |\n",
       "| pressregistrator domenov     | 1 |\n",
       "| presswebnames                | 1 |\n",
       "| pwbluehost                   | 2 |\n",
       "| pwhosteurope                 | 1 |\n",
       "| pwimpreza                    | 1 |\n",
       "| pwweb4africa                 | 1 |\n",
       "| sitecompra                   | 1 |\n",
       "| siteimperial registrations   | 1 |\n",
       "| sitemarkum                   | 1 |\n",
       "| sitenetclues                 | 1 |\n",
       "| sitewebonic                  | 1 |\n",
       "| sitewhois networks           | 1 |\n",
       "| spacearsys                   | 1 |\n",
       "| spacecorehub                 | 1 |\n",
       "| spaceguzel hosting           | 1 |\n",
       "| spaceinternet gmbh           | 2 |\n",
       "| spaceownregistrar            | 1 |\n",
       "| spaceregister.ca             | 1 |\n",
       "| storearvixe                  | 1 |\n",
       "| storecompra                  | 1 |\n",
       "| storedomain the net          | 1 |\n",
       "| storeglobal village          | 1 |\n",
       "| storeinames                  | 1 |\n",
       "| storejogjacamp               | 1 |\n",
       "| storeplanet hoster           | 2 |\n",
       "| storeshenzhen hulianxianfeng | 1 |\n",
       "| storetecnocratica centro     | 1 |\n",
       "| techeukhost                  | 1 |\n",
       "| techfreeparking              | 1 |\n",
       "| techinames                   | 1 |\n",
       "| techzhengzhou zitian         | 1 |\n",
       "| websitealfahosting           | 1 |\n",
       "| websiteheart internet        | 1 |\n",
       "| websiteneostrada             | 2 |\n",
       "| websitesiteground            | 1 |\n",
       "\n"
      ],
      "text/plain": [
       "   tld_registrar_index          n\n",
       "1  fundnc holdings              1\n",
       "2  funlexsynergy                1\n",
       "3  funtecnocratica centro       1\n",
       "4  funwebnames                  1\n",
       "5  hostcheck domain             1\n",
       "6  hostrealtime register        2\n",
       "7  hostredehost                 1\n",
       "8  in.netownregistrar           1\n",
       "9  online                       1\n",
       "10 onlineimperial registrations 1\n",
       "11 onlinewhois networks         1\n",
       "12 pressarsys                   1\n",
       "13 pressascio                   1\n",
       "14 pressbigrock                 2\n",
       "15 presseasydns                 1\n",
       "16 presshome.pl                 1\n",
       "17 pressnicenic                 1\n",
       "18 pressregistrator domenov     1\n",
       "19 presswebnames                1\n",
       "20 pwbluehost                   2\n",
       "21 pwhosteurope                 1\n",
       "22 pwimpreza                    1\n",
       "23 pwweb4africa                 1\n",
       "24 sitecompra                   1\n",
       "25 siteimperial registrations   1\n",
       "26 sitemarkum                   1\n",
       "27 sitenetclues                 1\n",
       "28 sitewebonic                  1\n",
       "29 sitewhois networks           1\n",
       "30 spacearsys                   1\n",
       "31 spacecorehub                 1\n",
       "32 spaceguzel hosting           1\n",
       "33 spaceinternet gmbh           2\n",
       "34 spaceownregistrar            1\n",
       "35 spaceregister.ca             1\n",
       "36 storearvixe                  1\n",
       "37 storecompra                  1\n",
       "38 storedomain the net          1\n",
       "39 storeglobal village          1\n",
       "40 storeinames                  1\n",
       "41 storejogjacamp               1\n",
       "42 storeplanet hoster           2\n",
       "43 storeshenzhen hulianxianfeng 1\n",
       "44 storetecnocratica centro     1\n",
       "45 techeukhost                  1\n",
       "46 techfreeparking              1\n",
       "47 techinames                   1\n",
       "48 techzhengzhou zitian         1\n",
       "49 websitealfahosting           1\n",
       "50 websiteheart internet        1\n",
       "51 websiteneostrada             2\n",
       "52 websitesiteground            1"
      ]
     },
     "metadata": {},
     "output_type": "display_data"
    }
   ],
   "source": [
    "expiry_test_df %>% filter(tld_registrar_index %in% missing_preds_tldreidxs) %>%  group_by(tld_registrar_index) %>% tally()"
   ]
  },
  {
   "cell_type": "markdown",
   "metadata": {},
   "source": [
    "# ASSESS overall model performance\n",
    "original code in 02_*"
   ]
  },
  {
   "cell_type": "code",
   "execution_count": 21,
   "metadata": {},
   "outputs": [
    {
     "data": {
      "text/html": [
       "<table>\n",
       "<caption>A data.frame: 6 × 39</caption>\n",
       "<thead>\n",
       "\t<tr><th></th><th scope=col>renewal_type</th><th scope=col>renewed_count</th><th scope=col>expiry_date</th><th scope=col>creation_date</th><th scope=col>status</th><th scope=col>domain_id</th><th scope=col>domain</th><th scope=col>registrar</th><th scope=col>reseller</th><th scope=col>reseller_country</th><th scope=col>registrant_country</th><th scope=col>reg_period</th><th scope=col>reg_revenue</th><th scope=col>reg_arpt</th><th scope=col>renew_mbg</th><th scope=col>renewal_item_id</th><th scope=col>renew_type</th><th scope=col>autorenew_type</th><th scope=col>renewal_status</th><th scope=col>renew_date</th><th scope=col>renew_arpt</th><th scope=col>gibb_score</th><th scope=col>pattern</th><th scope=col>pattern_domain_count</th><th scope=col>day_domains</th><th scope=col>sld_length</th><th scope=col>sld_type</th><th scope=col>sld_type2</th><th scope=col>tld</th><th scope=col>log_reg_arpt</th><th scope=col>tld_registrar_index</th><th scope=col>pred_agg_glm_ALL</th><th scope=col>pred_agg_rf_ALL</th><th scope=col>pred_agg_glm</th><th scope=col>pred_agg_rf</th><th scope=col>pred_seg_glm_ALL</th><th scope=col>pred_seg_rf_ALL</th><th scope=col>pred_seg2_glm_ALL</th><th scope=col>pred_seg2_rf_ALL</th></tr>\n",
       "\t<tr><th></th><th scope=col>&lt;fct&gt;</th><th scope=col>&lt;int&gt;</th><th scope=col>&lt;fct&gt;</th><th scope=col>&lt;fct&gt;</th><th scope=col>&lt;fct&gt;</th><th scope=col>&lt;int&gt;</th><th scope=col>&lt;fct&gt;</th><th scope=col>&lt;fct&gt;</th><th scope=col>&lt;fct&gt;</th><th scope=col>&lt;fct&gt;</th><th scope=col>&lt;fct&gt;</th><th scope=col>&lt;int&gt;</th><th scope=col>&lt;dbl&gt;</th><th scope=col>&lt;dbl&gt;</th><th scope=col>&lt;int&gt;</th><th scope=col>&lt;int&gt;</th><th scope=col>&lt;fct&gt;</th><th scope=col>&lt;fct&gt;</th><th scope=col>&lt;fct&gt;</th><th scope=col>&lt;fct&gt;</th><th scope=col>&lt;dbl&gt;</th><th scope=col>&lt;dbl&gt;</th><th scope=col>&lt;fct&gt;</th><th scope=col>&lt;int&gt;</th><th scope=col>&lt;int&gt;</th><th scope=col>&lt;int&gt;</th><th scope=col>&lt;fct&gt;</th><th scope=col>&lt;fct&gt;</th><th scope=col>&lt;fct&gt;</th><th scope=col>&lt;dbl&gt;</th><th scope=col>&lt;fct&gt;</th><th scope=col>&lt;dbl&gt;</th><th scope=col>&lt;dbl&gt;</th><th scope=col>&lt;dbl&gt;</th><th scope=col>&lt;dbl&gt;</th><th scope=col>&lt;dbl&gt;</th><th scope=col>&lt;dbl&gt;</th><th scope=col>&lt;dbl&gt;</th><th scope=col>&lt;dbl&gt;</th></tr>\n",
       "</thead>\n",
       "<tbody>\n",
       "\t<tr><th scope=row>1</th><td>FirstTime</td><td>1</td><td>2019-11-08</td><td>2018-11-08</td><td>Active</td><td>82167309</td><td>viralherbs.pw</td><td>Namecheap</td><td>Namecheap</td><td>United States</td><td>NA</td><td>1</td><td>0.48</td><td>0.48</td><td>0</td><td>248714055</td><td>auto-renewal</td><td>realized  </td><td>Renewed   </td><td>2019-11-08</td><td>7.5</td><td>3.39</td><td>viralhealh</td><td>2</td><td> 576</td><td>10</td><td>l       </td><td>10l       </td><td>pw</td><td>-0.7339692</td><td>pwnamecheap</td><td>0.029</td><td>0.026318534</td><td>0.030</td><td>0.027366883</td><td>0.049</td><td>0.02752752</td><td>0.02812901</td><td>0.024447474</td></tr>\n",
       "\t<tr><th scope=row>2</th><td>FirstTime</td><td>1</td><td>2019-08-05</td><td>2018-08-05</td><td>Active</td><td>73624034</td><td>ww3n.pw      </td><td>Namecheap</td><td>Namecheap</td><td>United States</td><td>NA</td><td>1</td><td>0.48</td><td>0.48</td><td>0</td><td>219523016</td><td>auto-renewal</td><td>unrealized</td><td>Not Renewd</td><td>2019-08-05</td><td>0.0</td><td>0.52</td><td>ww3n      </td><td>1</td><td> 257</td><td> 4</td><td>ln      </td><td>4ln       </td><td>pw</td><td>-0.7339692</td><td>pwnamecheap</td><td>0.024</td><td>0.023279615</td><td>0.024</td><td>0.026322543</td><td>0.062</td><td>0.02930435</td><td>0.07347816</td><td>0.025803420</td></tr>\n",
       "\t<tr><th scope=row>3</th><td>FirstTime</td><td>1</td><td>2019-08-11</td><td>2018-08-11</td><td>Active</td><td>74035654</td><td>dpasseresp.pw</td><td>Namecheap</td><td>Namecheap</td><td>United States</td><td>NA</td><td>1</td><td>0.48</td><td>0.48</td><td>0</td><td>221379481</td><td>auto-renewal</td><td>unrealized</td><td>Not Renewd</td><td>2019-08-11</td><td>7.0</td><td>4.65</td><td>pssders   </td><td>3</td><td> 353</td><td>10</td><td>l       </td><td>10l       </td><td>pw</td><td>-0.7339692</td><td>pwnamecheap</td><td>0.035</td><td>0.006462295</td><td>0.035</td><td>0.006085356</td><td>0.066</td><td>0.01232116</td><td>0.03516253</td><td>0.006186874</td></tr>\n",
       "\t<tr><th scope=row>4</th><td>FirstTime</td><td>1</td><td>2019-07-22</td><td>2018-07-22</td><td>Active</td><td>72660399</td><td>sexgirls.pw  </td><td>Namecheap</td><td>Namecheap</td><td>United States</td><td>NA</td><td>1</td><td>0.48</td><td>0.48</td><td>0</td><td>216639126</td><td>auto-renewal</td><td>unrealized</td><td>Not Renewd</td><td>2019-07-22</td><td>7.0</td><td>1.75</td><td>xgirl     </td><td>2</td><td>  80</td><td> 8</td><td>l       </td><td>8l        </td><td>pw</td><td>-0.7339692</td><td>pwnamecheap</td><td>0.048</td><td>0.075690545</td><td>0.048</td><td>0.080058013</td><td>0.098</td><td>0.06522605</td><td>0.06273875</td><td>0.059190735</td></tr>\n",
       "\t<tr><th scope=row>5</th><td>FirstTime</td><td>1</td><td>2019-07-07</td><td>2018-07-07</td><td>Active</td><td>71566430</td><td>yucief.pw    </td><td>Namecheap</td><td>Namecheap</td><td>United States</td><td>NA</td><td>1</td><td>0.48</td><td>0.48</td><td>0</td><td>213669206</td><td>auto-renewal</td><td>unrealized</td><td>Not Renewd</td><td>2019-07-07</td><td>7.0</td><td>1.52</td><td>cief      </td><td>3</td><td>1147</td><td> 6</td><td>l       </td><td>6l        </td><td>pw</td><td>-0.7339692</td><td>pwnamecheap</td><td>0.016</td><td>0.011064910</td><td>0.017</td><td>0.016695967</td><td>0.023</td><td>0.01608117</td><td>0.02273527</td><td>0.016375413</td></tr>\n",
       "\t<tr><th scope=row>6</th><td>FirstTime</td><td>1</td><td>2019-11-11</td><td>2018-11-11</td><td>Active</td><td>82528489</td><td>bio-x-keto.pw</td><td>Namecheap</td><td>Namecheap</td><td>United States</td><td>NA</td><td>1</td><td>0.48</td><td>0.48</td><td>0</td><td>250798210</td><td>auto-renewal</td><td>unrealized</td><td>Not Renewd</td><td>2019-11-11</td><td>7.5</td><td>2.16</td><td>bio-x-keto</td><td>1</td><td> 687</td><td>10</td><td>hyphen-l</td><td>10hyphen-l</td><td>pw</td><td>-0.7339692</td><td>pwnamecheap</td><td>0.030</td><td>0.009262425</td><td>0.031</td><td>0.009853222</td><td>0.038</td><td>0.01404684</td><td>0.02211356</td><td>0.009443069</td></tr>\n",
       "</tbody>\n",
       "</table>\n"
      ],
      "text/latex": [
       "A data.frame: 6 × 39\n",
       "\\begin{tabular}{r|lllllllllllllllllllllllllllllllllllllll}\n",
       "  & renewal\\_type & renewed\\_count & expiry\\_date & creation\\_date & status & domain\\_id & domain & registrar & reseller & reseller\\_country & registrant\\_country & reg\\_period & reg\\_revenue & reg\\_arpt & renew\\_mbg & renewal\\_item\\_id & renew\\_type & autorenew\\_type & renewal\\_status & renew\\_date & renew\\_arpt & gibb\\_score & pattern & pattern\\_domain\\_count & day\\_domains & sld\\_length & sld\\_type & sld\\_type2 & tld & log\\_reg\\_arpt & tld\\_registrar\\_index & pred\\_agg\\_glm\\_ALL & pred\\_agg\\_rf\\_ALL & pred\\_agg\\_glm & pred\\_agg\\_rf & pred\\_seg\\_glm\\_ALL & pred\\_seg\\_rf\\_ALL & pred\\_seg2\\_glm\\_ALL & pred\\_seg2\\_rf\\_ALL\\\\\n",
       "  & <fct> & <int> & <fct> & <fct> & <fct> & <int> & <fct> & <fct> & <fct> & <fct> & <fct> & <int> & <dbl> & <dbl> & <int> & <int> & <fct> & <fct> & <fct> & <fct> & <dbl> & <dbl> & <fct> & <int> & <int> & <int> & <fct> & <fct> & <fct> & <dbl> & <fct> & <dbl> & <dbl> & <dbl> & <dbl> & <dbl> & <dbl> & <dbl> & <dbl>\\\\\n",
       "\\hline\n",
       "\t1 & FirstTime & 1 & 2019-11-08 & 2018-11-08 & Active & 82167309 & viralherbs.pw & Namecheap & Namecheap & United States & NA & 1 & 0.48 & 0.48 & 0 & 248714055 & auto-renewal & realized   & Renewed    & 2019-11-08 & 7.5 & 3.39 & viralhealh & 2 &  576 & 10 & l        & 10l        & pw & -0.7339692 & pwnamecheap & 0.029 & 0.026318534 & 0.030 & 0.027366883 & 0.049 & 0.02752752 & 0.02812901 & 0.024447474\\\\\n",
       "\t2 & FirstTime & 1 & 2019-08-05 & 2018-08-05 & Active & 73624034 & ww3n.pw       & Namecheap & Namecheap & United States & NA & 1 & 0.48 & 0.48 & 0 & 219523016 & auto-renewal & unrealized & Not Renewd & 2019-08-05 & 0.0 & 0.52 & ww3n       & 1 &  257 &  4 & ln       & 4ln        & pw & -0.7339692 & pwnamecheap & 0.024 & 0.023279615 & 0.024 & 0.026322543 & 0.062 & 0.02930435 & 0.07347816 & 0.025803420\\\\\n",
       "\t3 & FirstTime & 1 & 2019-08-11 & 2018-08-11 & Active & 74035654 & dpasseresp.pw & Namecheap & Namecheap & United States & NA & 1 & 0.48 & 0.48 & 0 & 221379481 & auto-renewal & unrealized & Not Renewd & 2019-08-11 & 7.0 & 4.65 & pssders    & 3 &  353 & 10 & l        & 10l        & pw & -0.7339692 & pwnamecheap & 0.035 & 0.006462295 & 0.035 & 0.006085356 & 0.066 & 0.01232116 & 0.03516253 & 0.006186874\\\\\n",
       "\t4 & FirstTime & 1 & 2019-07-22 & 2018-07-22 & Active & 72660399 & sexgirls.pw   & Namecheap & Namecheap & United States & NA & 1 & 0.48 & 0.48 & 0 & 216639126 & auto-renewal & unrealized & Not Renewd & 2019-07-22 & 7.0 & 1.75 & xgirl      & 2 &   80 &  8 & l        & 8l         & pw & -0.7339692 & pwnamecheap & 0.048 & 0.075690545 & 0.048 & 0.080058013 & 0.098 & 0.06522605 & 0.06273875 & 0.059190735\\\\\n",
       "\t5 & FirstTime & 1 & 2019-07-07 & 2018-07-07 & Active & 71566430 & yucief.pw     & Namecheap & Namecheap & United States & NA & 1 & 0.48 & 0.48 & 0 & 213669206 & auto-renewal & unrealized & Not Renewd & 2019-07-07 & 7.0 & 1.52 & cief       & 3 & 1147 &  6 & l        & 6l         & pw & -0.7339692 & pwnamecheap & 0.016 & 0.011064910 & 0.017 & 0.016695967 & 0.023 & 0.01608117 & 0.02273527 & 0.016375413\\\\\n",
       "\t6 & FirstTime & 1 & 2019-11-11 & 2018-11-11 & Active & 82528489 & bio-x-keto.pw & Namecheap & Namecheap & United States & NA & 1 & 0.48 & 0.48 & 0 & 250798210 & auto-renewal & unrealized & Not Renewd & 2019-11-11 & 7.5 & 2.16 & bio-x-keto & 1 &  687 & 10 & hyphen-l & 10hyphen-l & pw & -0.7339692 & pwnamecheap & 0.030 & 0.009262425 & 0.031 & 0.009853222 & 0.038 & 0.01404684 & 0.02211356 & 0.009443069\\\\\n",
       "\\end{tabular}\n"
      ],
      "text/markdown": [
       "\n",
       "A data.frame: 6 × 39\n",
       "\n",
       "| <!--/--> | renewal_type &lt;fct&gt; | renewed_count &lt;int&gt; | expiry_date &lt;fct&gt; | creation_date &lt;fct&gt; | status &lt;fct&gt; | domain_id &lt;int&gt; | domain &lt;fct&gt; | registrar &lt;fct&gt; | reseller &lt;fct&gt; | reseller_country &lt;fct&gt; | registrant_country &lt;fct&gt; | reg_period &lt;int&gt; | reg_revenue &lt;dbl&gt; | reg_arpt &lt;dbl&gt; | renew_mbg &lt;int&gt; | renewal_item_id &lt;int&gt; | renew_type &lt;fct&gt; | autorenew_type &lt;fct&gt; | renewal_status &lt;fct&gt; | renew_date &lt;fct&gt; | renew_arpt &lt;dbl&gt; | gibb_score &lt;dbl&gt; | pattern &lt;fct&gt; | pattern_domain_count &lt;int&gt; | day_domains &lt;int&gt; | sld_length &lt;int&gt; | sld_type &lt;fct&gt; | sld_type2 &lt;fct&gt; | tld &lt;fct&gt; | log_reg_arpt &lt;dbl&gt; | tld_registrar_index &lt;fct&gt; | pred_agg_glm_ALL &lt;dbl&gt; | pred_agg_rf_ALL &lt;dbl&gt; | pred_agg_glm &lt;dbl&gt; | pred_agg_rf &lt;dbl&gt; | pred_seg_glm_ALL &lt;dbl&gt; | pred_seg_rf_ALL &lt;dbl&gt; | pred_seg2_glm_ALL &lt;dbl&gt; | pred_seg2_rf_ALL &lt;dbl&gt; |\n",
       "|---|---|---|---|---|---|---|---|---|---|---|---|---|---|---|---|---|---|---|---|---|---|---|---|---|---|---|---|---|---|---|---|---|---|---|---|---|---|---|---|\n",
       "| 1 | FirstTime | 1 | 2019-11-08 | 2018-11-08 | Active | 82167309 | viralherbs.pw | Namecheap | Namecheap | United States | NA | 1 | 0.48 | 0.48 | 0 | 248714055 | auto-renewal | realized   | Renewed    | 2019-11-08 | 7.5 | 3.39 | viralhealh | 2 |  576 | 10 | l        | 10l        | pw | -0.7339692 | pwnamecheap | 0.029 | 0.026318534 | 0.030 | 0.027366883 | 0.049 | 0.02752752 | 0.02812901 | 0.024447474 |\n",
       "| 2 | FirstTime | 1 | 2019-08-05 | 2018-08-05 | Active | 73624034 | ww3n.pw       | Namecheap | Namecheap | United States | NA | 1 | 0.48 | 0.48 | 0 | 219523016 | auto-renewal | unrealized | Not Renewd | 2019-08-05 | 0.0 | 0.52 | ww3n       | 1 |  257 |  4 | ln       | 4ln        | pw | -0.7339692 | pwnamecheap | 0.024 | 0.023279615 | 0.024 | 0.026322543 | 0.062 | 0.02930435 | 0.07347816 | 0.025803420 |\n",
       "| 3 | FirstTime | 1 | 2019-08-11 | 2018-08-11 | Active | 74035654 | dpasseresp.pw | Namecheap | Namecheap | United States | NA | 1 | 0.48 | 0.48 | 0 | 221379481 | auto-renewal | unrealized | Not Renewd | 2019-08-11 | 7.0 | 4.65 | pssders    | 3 |  353 | 10 | l        | 10l        | pw | -0.7339692 | pwnamecheap | 0.035 | 0.006462295 | 0.035 | 0.006085356 | 0.066 | 0.01232116 | 0.03516253 | 0.006186874 |\n",
       "| 4 | FirstTime | 1 | 2019-07-22 | 2018-07-22 | Active | 72660399 | sexgirls.pw   | Namecheap | Namecheap | United States | NA | 1 | 0.48 | 0.48 | 0 | 216639126 | auto-renewal | unrealized | Not Renewd | 2019-07-22 | 7.0 | 1.75 | xgirl      | 2 |   80 |  8 | l        | 8l         | pw | -0.7339692 | pwnamecheap | 0.048 | 0.075690545 | 0.048 | 0.080058013 | 0.098 | 0.06522605 | 0.06273875 | 0.059190735 |\n",
       "| 5 | FirstTime | 1 | 2019-07-07 | 2018-07-07 | Active | 71566430 | yucief.pw     | Namecheap | Namecheap | United States | NA | 1 | 0.48 | 0.48 | 0 | 213669206 | auto-renewal | unrealized | Not Renewd | 2019-07-07 | 7.0 | 1.52 | cief       | 3 | 1147 |  6 | l        | 6l         | pw | -0.7339692 | pwnamecheap | 0.016 | 0.011064910 | 0.017 | 0.016695967 | 0.023 | 0.01608117 | 0.02273527 | 0.016375413 |\n",
       "| 6 | FirstTime | 1 | 2019-11-11 | 2018-11-11 | Active | 82528489 | bio-x-keto.pw | Namecheap | Namecheap | United States | NA | 1 | 0.48 | 0.48 | 0 | 250798210 | auto-renewal | unrealized | Not Renewd | 2019-11-11 | 7.5 | 2.16 | bio-x-keto | 1 |  687 | 10 | hyphen-l | 10hyphen-l | pw | -0.7339692 | pwnamecheap | 0.030 | 0.009262425 | 0.031 | 0.009853222 | 0.038 | 0.01404684 | 0.02211356 | 0.009443069 |\n",
       "\n"
      ],
      "text/plain": [
       "  renewal_type renewed_count expiry_date creation_date status domain_id\n",
       "1 FirstTime    1             2019-11-08  2018-11-08    Active 82167309 \n",
       "2 FirstTime    1             2019-08-05  2018-08-05    Active 73624034 \n",
       "3 FirstTime    1             2019-08-11  2018-08-11    Active 74035654 \n",
       "4 FirstTime    1             2019-07-22  2018-07-22    Active 72660399 \n",
       "5 FirstTime    1             2019-07-07  2018-07-07    Active 71566430 \n",
       "6 FirstTime    1             2019-11-11  2018-11-11    Active 82528489 \n",
       "  domain        registrar reseller  reseller_country registrant_country\n",
       "1 viralherbs.pw Namecheap Namecheap United States    NA                \n",
       "2 ww3n.pw       Namecheap Namecheap United States    NA                \n",
       "3 dpasseresp.pw Namecheap Namecheap United States    NA                \n",
       "4 sexgirls.pw   Namecheap Namecheap United States    NA                \n",
       "5 yucief.pw     Namecheap Namecheap United States    NA                \n",
       "6 bio-x-keto.pw Namecheap Namecheap United States    NA                \n",
       "  reg_period reg_revenue reg_arpt renew_mbg renewal_item_id renew_type  \n",
       "1 1          0.48        0.48     0         248714055       auto-renewal\n",
       "2 1          0.48        0.48     0         219523016       auto-renewal\n",
       "3 1          0.48        0.48     0         221379481       auto-renewal\n",
       "4 1          0.48        0.48     0         216639126       auto-renewal\n",
       "5 1          0.48        0.48     0         213669206       auto-renewal\n",
       "6 1          0.48        0.48     0         250798210       auto-renewal\n",
       "  autorenew_type renewal_status renew_date renew_arpt gibb_score pattern   \n",
       "1 realized       Renewed        2019-11-08 7.5        3.39       viralhealh\n",
       "2 unrealized     Not Renewd     2019-08-05 0.0        0.52       ww3n      \n",
       "3 unrealized     Not Renewd     2019-08-11 7.0        4.65       pssders   \n",
       "4 unrealized     Not Renewd     2019-07-22 7.0        1.75       xgirl     \n",
       "5 unrealized     Not Renewd     2019-07-07 7.0        1.52       cief      \n",
       "6 unrealized     Not Renewd     2019-11-11 7.5        2.16       bio-x-keto\n",
       "  pattern_domain_count day_domains sld_length sld_type sld_type2  tld\n",
       "1 2                     576        10         l        10l        pw \n",
       "2 1                     257         4         ln       4ln        pw \n",
       "3 3                     353        10         l        10l        pw \n",
       "4 2                      80         8         l        8l         pw \n",
       "5 3                    1147         6         l        6l         pw \n",
       "6 1                     687        10         hyphen-l 10hyphen-l pw \n",
       "  log_reg_arpt tld_registrar_index pred_agg_glm_ALL pred_agg_rf_ALL\n",
       "1 -0.7339692   pwnamecheap         0.029            0.026318534    \n",
       "2 -0.7339692   pwnamecheap         0.024            0.023279615    \n",
       "3 -0.7339692   pwnamecheap         0.035            0.006462295    \n",
       "4 -0.7339692   pwnamecheap         0.048            0.075690545    \n",
       "5 -0.7339692   pwnamecheap         0.016            0.011064910    \n",
       "6 -0.7339692   pwnamecheap         0.030            0.009262425    \n",
       "  pred_agg_glm pred_agg_rf pred_seg_glm_ALL pred_seg_rf_ALL pred_seg2_glm_ALL\n",
       "1 0.030        0.027366883 0.049            0.02752752      0.02812901       \n",
       "2 0.024        0.026322543 0.062            0.02930435      0.07347816       \n",
       "3 0.035        0.006085356 0.066            0.01232116      0.03516253       \n",
       "4 0.048        0.080058013 0.098            0.06522605      0.06273875       \n",
       "5 0.017        0.016695967 0.023            0.01608117      0.02273527       \n",
       "6 0.031        0.009853222 0.038            0.01404684      0.02211356       \n",
       "  pred_seg2_rf_ALL\n",
       "1 0.024447474     \n",
       "2 0.025803420     \n",
       "3 0.006186874     \n",
       "4 0.059190735     \n",
       "5 0.016375413     \n",
       "6 0.009443069     "
      ]
     },
     "metadata": {},
     "output_type": "display_data"
    }
   ],
   "source": [
    "head(preds_df)"
   ]
  },
  {
   "cell_type": "code",
   "execution_count": 22,
   "metadata": {},
   "outputs": [
    {
     "data": {
      "text/html": [
       "<table>\n",
       "<caption>A data.frame: 6 × 39</caption>\n",
       "<thead>\n",
       "\t<tr><th></th><th scope=col>renewal_type</th><th scope=col>renewed_count</th><th scope=col>expiry_date</th><th scope=col>creation_date</th><th scope=col>status</th><th scope=col>domain_id</th><th scope=col>domain</th><th scope=col>registrar</th><th scope=col>reseller</th><th scope=col>reseller_country</th><th scope=col>registrant_country</th><th scope=col>reg_period</th><th scope=col>reg_revenue</th><th scope=col>reg_arpt</th><th scope=col>renew_mbg</th><th scope=col>renewal_item_id</th><th scope=col>renew_type</th><th scope=col>autorenew_type</th><th scope=col>renewal_status</th><th scope=col>renew_date</th><th scope=col>renew_arpt</th><th scope=col>gibb_score</th><th scope=col>pattern</th><th scope=col>pattern_domain_count</th><th scope=col>day_domains</th><th scope=col>sld_length</th><th scope=col>sld_type</th><th scope=col>sld_type2</th><th scope=col>tld</th><th scope=col>log_reg_arpt</th><th scope=col>tld_registrar_index</th><th scope=col>pred_agg_glm_ALL</th><th scope=col>pred_agg_rf_ALL</th><th scope=col>pred_agg_glm</th><th scope=col>pred_agg_rf</th><th scope=col>pred_seg_glm_ALL</th><th scope=col>pred_seg_rf_ALL</th><th scope=col>pred_seg2_glm_ALL</th><th scope=col>pred_seg2_rf_ALL</th></tr>\n",
       "\t<tr><th></th><th scope=col>&lt;fct&gt;</th><th scope=col>&lt;int&gt;</th><th scope=col>&lt;fct&gt;</th><th scope=col>&lt;fct&gt;</th><th scope=col>&lt;fct&gt;</th><th scope=col>&lt;int&gt;</th><th scope=col>&lt;fct&gt;</th><th scope=col>&lt;fct&gt;</th><th scope=col>&lt;fct&gt;</th><th scope=col>&lt;fct&gt;</th><th scope=col>&lt;fct&gt;</th><th scope=col>&lt;int&gt;</th><th scope=col>&lt;dbl&gt;</th><th scope=col>&lt;dbl&gt;</th><th scope=col>&lt;int&gt;</th><th scope=col>&lt;int&gt;</th><th scope=col>&lt;fct&gt;</th><th scope=col>&lt;fct&gt;</th><th scope=col>&lt;fct&gt;</th><th scope=col>&lt;fct&gt;</th><th scope=col>&lt;dbl&gt;</th><th scope=col>&lt;dbl&gt;</th><th scope=col>&lt;fct&gt;</th><th scope=col>&lt;int&gt;</th><th scope=col>&lt;int&gt;</th><th scope=col>&lt;int&gt;</th><th scope=col>&lt;fct&gt;</th><th scope=col>&lt;fct&gt;</th><th scope=col>&lt;fct&gt;</th><th scope=col>&lt;dbl&gt;</th><th scope=col>&lt;fct&gt;</th><th scope=col>&lt;dbl&gt;</th><th scope=col>&lt;dbl&gt;</th><th scope=col>&lt;dbl&gt;</th><th scope=col>&lt;dbl&gt;</th><th scope=col>&lt;dbl&gt;</th><th scope=col>&lt;dbl&gt;</th><th scope=col>&lt;dbl&gt;</th><th scope=col>&lt;dbl&gt;</th></tr>\n",
       "</thead>\n",
       "<tbody>\n",
       "\t<tr><th scope=row>932284</th><td>FirstTime</td><td>1</td><td>2020-03-22</td><td>2019-03-22</td><td>Active</td><td> 97587294</td><td>ipv6v.site                  </td><td>Beijing Guoxu</td><td>Beijing Guoxu</td><td>China        </td><td>NA</td><td>1</td><td> 0.75</td><td> 0.75</td><td>0</td><td>301881409</td><td>auto-renewal</td><td>realized  </td><td>Renewed   </td><td>2020-03-22</td><td> 6</td><td>0.06</td><td>ipv6v                  </td><td>1</td><td>1</td><td> 5</td><td>ln      </td><td>5ln      </td><td>site  </td><td>-0.2876821</td><td>sitebeijing guoxu </td><td>0.126</td><td>0.2693520</td><td>   NA</td><td>0.5694559</td><td>   NA</td><td>0.3375556</td><td>NA</td><td>1</td></tr>\n",
       "\t<tr><th scope=row>932285</th><td>FirstTime</td><td>1</td><td>2020-08-26</td><td>2019-08-26</td><td>Active</td><td>119460676</td><td>xn--4oqv1lwojeqjdk1chnt.site</td><td>Beijing Guoxu</td><td>Beijing Guoxu</td><td>China        </td><td>NA</td><td>1</td><td> 0.75</td><td> 0.75</td><td>0</td><td>340135634</td><td>auto-renewal</td><td>unrealized</td><td>Not Renewd</td><td>2020-08-26</td><td> 6</td><td>0.49</td><td>xn--4oqv1lwojeqjdk1chnt</td><td>1</td><td>1</td><td>23</td><td>idn     </td><td>23idn    </td><td>site  </td><td>-0.2876821</td><td>sitebeijing guoxu </td><td>0.241</td><td>0.1628365</td><td>   NA</td><td>0.4779207</td><td>1.000</td><td>0.3375556</td><td>NA</td><td>1</td></tr>\n",
       "\t<tr><th scope=row>932286</th><td>FirstTime</td><td>1</td><td>2019-12-05</td><td>2018-12-05</td><td>Active</td><td> 85970232</td><td>t-net.in.net                </td><td>GMO          </td><td>Value Domain </td><td>Japan        </td><td>NA</td><td>1</td><td> 2.00</td><td> 2.00</td><td>0</td><td>261559291</td><td>renewal     </td><td>NA        </td><td>Renewed   </td><td>2019-12-03</td><td> 6</td><td>1.13</td><td>t-net                  </td><td>1</td><td>1</td><td> 5</td><td>hyphen-l</td><td>5hyphen-l</td><td>in.net</td><td> 0.6931472</td><td>in.netvalue domain</td><td>0.118</td><td>0.2902081</td><td>0.083</td><td>0.1642019</td><td>0.431</td><td>0.5642647</td><td>NA</td><td>1</td></tr>\n",
       "\t<tr><th scope=row>932287</th><td>FirstTime</td><td>1</td><td>2020-03-25</td><td>2019-03-25</td><td>Active</td><td> 97815334</td><td>sumeru.in.net               </td><td>GMO          </td><td>Value Domain </td><td>Japan        </td><td>NA</td><td>1</td><td> 2.00</td><td> 2.00</td><td>0</td><td>294310629</td><td>renewal     </td><td>NA        </td><td>Renewed   </td><td>2020-02-23</td><td> 6</td><td>6.09</td><td>sumeru                 </td><td>1</td><td>1</td><td> 6</td><td>l       </td><td>6l       </td><td>in.net</td><td> 0.6931472</td><td>in.netvalue domain</td><td>0.114</td><td>0.6003425</td><td>0.078</td><td>0.1805670</td><td>0.241</td><td>0.7431311</td><td>NA</td><td>1</td></tr>\n",
       "\t<tr><th scope=row>932288</th><td>FirstTime</td><td>1</td><td>2020-01-08</td><td>2019-01-08</td><td>Active</td><td> 90177257</td><td>contentking.store           </td><td>Blacknight   </td><td>Blacknight   </td><td>Ireland      </td><td>NA</td><td>1</td><td>40.00</td><td>40.00</td><td>0</td><td>267422616</td><td>renewal     </td><td>NA        </td><td>Renewed   </td><td>2019-12-18</td><td>40</td><td>6.38</td><td>contentking            </td><td>1</td><td>1</td><td>11</td><td>l       </td><td>11l      </td><td>store </td><td> 3.6888795</td><td>storeblacknight   </td><td>0.581</td><td>0.5783697</td><td>   NA</td><td>0.7555101</td><td>1.000</td><td>0.3679105</td><td>NA</td><td>0</td></tr>\n",
       "\t<tr><th scope=row>932289</th><td>FirstTime</td><td>1</td><td>2019-11-01</td><td>2018-11-01</td><td>Active</td><td> 81252319</td><td>dtiq.pw                     </td><td>DNC Holdings </td><td>DNC Holdings </td><td>United States</td><td>NA</td><td>1</td><td>15.00</td><td>15.00</td><td>0</td><td>231660756</td><td>renewal     </td><td>NA        </td><td>Renewed   </td><td>2019-09-17</td><td>15</td><td>0.30</td><td>dtiq                   </td><td>1</td><td>1</td><td> 4</td><td>l       </td><td>4l       </td><td>pw    </td><td> 2.7080502</td><td>pwdnc holdings    </td><td>0.321</td><td>0.6866667</td><td>   NA</td><td>0.6832616</td><td>0.481</td><td>0.1687236</td><td>NA</td><td>0</td></tr>\n",
       "</tbody>\n",
       "</table>\n"
      ],
      "text/latex": [
       "A data.frame: 6 × 39\n",
       "\\begin{tabular}{r|lllllllllllllllllllllllllllllllllllllll}\n",
       "  & renewal\\_type & renewed\\_count & expiry\\_date & creation\\_date & status & domain\\_id & domain & registrar & reseller & reseller\\_country & registrant\\_country & reg\\_period & reg\\_revenue & reg\\_arpt & renew\\_mbg & renewal\\_item\\_id & renew\\_type & autorenew\\_type & renewal\\_status & renew\\_date & renew\\_arpt & gibb\\_score & pattern & pattern\\_domain\\_count & day\\_domains & sld\\_length & sld\\_type & sld\\_type2 & tld & log\\_reg\\_arpt & tld\\_registrar\\_index & pred\\_agg\\_glm\\_ALL & pred\\_agg\\_rf\\_ALL & pred\\_agg\\_glm & pred\\_agg\\_rf & pred\\_seg\\_glm\\_ALL & pred\\_seg\\_rf\\_ALL & pred\\_seg2\\_glm\\_ALL & pred\\_seg2\\_rf\\_ALL\\\\\n",
       "  & <fct> & <int> & <fct> & <fct> & <fct> & <int> & <fct> & <fct> & <fct> & <fct> & <fct> & <int> & <dbl> & <dbl> & <int> & <int> & <fct> & <fct> & <fct> & <fct> & <dbl> & <dbl> & <fct> & <int> & <int> & <int> & <fct> & <fct> & <fct> & <dbl> & <fct> & <dbl> & <dbl> & <dbl> & <dbl> & <dbl> & <dbl> & <dbl> & <dbl>\\\\\n",
       "\\hline\n",
       "\t932284 & FirstTime & 1 & 2020-03-22 & 2019-03-22 & Active &  97587294 & ipv6v.site                   & Beijing Guoxu & Beijing Guoxu & China         & NA & 1 &  0.75 &  0.75 & 0 & 301881409 & auto-renewal & realized   & Renewed    & 2020-03-22 &  6 & 0.06 & ipv6v                   & 1 & 1 &  5 & ln       & 5ln       & site   & -0.2876821 & sitebeijing guoxu  & 0.126 & 0.2693520 &    NA & 0.5694559 &    NA & 0.3375556 & NA & 1\\\\\n",
       "\t932285 & FirstTime & 1 & 2020-08-26 & 2019-08-26 & Active & 119460676 & xn--4oqv1lwojeqjdk1chnt.site & Beijing Guoxu & Beijing Guoxu & China         & NA & 1 &  0.75 &  0.75 & 0 & 340135634 & auto-renewal & unrealized & Not Renewd & 2020-08-26 &  6 & 0.49 & xn--4oqv1lwojeqjdk1chnt & 1 & 1 & 23 & idn      & 23idn     & site   & -0.2876821 & sitebeijing guoxu  & 0.241 & 0.1628365 &    NA & 0.4779207 & 1.000 & 0.3375556 & NA & 1\\\\\n",
       "\t932286 & FirstTime & 1 & 2019-12-05 & 2018-12-05 & Active &  85970232 & t-net.in.net                 & GMO           & Value Domain  & Japan         & NA & 1 &  2.00 &  2.00 & 0 & 261559291 & renewal      & NA         & Renewed    & 2019-12-03 &  6 & 1.13 & t-net                   & 1 & 1 &  5 & hyphen-l & 5hyphen-l & in.net &  0.6931472 & in.netvalue domain & 0.118 & 0.2902081 & 0.083 & 0.1642019 & 0.431 & 0.5642647 & NA & 1\\\\\n",
       "\t932287 & FirstTime & 1 & 2020-03-25 & 2019-03-25 & Active &  97815334 & sumeru.in.net                & GMO           & Value Domain  & Japan         & NA & 1 &  2.00 &  2.00 & 0 & 294310629 & renewal      & NA         & Renewed    & 2020-02-23 &  6 & 6.09 & sumeru                  & 1 & 1 &  6 & l        & 6l        & in.net &  0.6931472 & in.netvalue domain & 0.114 & 0.6003425 & 0.078 & 0.1805670 & 0.241 & 0.7431311 & NA & 1\\\\\n",
       "\t932288 & FirstTime & 1 & 2020-01-08 & 2019-01-08 & Active &  90177257 & contentking.store            & Blacknight    & Blacknight    & Ireland       & NA & 1 & 40.00 & 40.00 & 0 & 267422616 & renewal      & NA         & Renewed    & 2019-12-18 & 40 & 6.38 & contentking             & 1 & 1 & 11 & l        & 11l       & store  &  3.6888795 & storeblacknight    & 0.581 & 0.5783697 &    NA & 0.7555101 & 1.000 & 0.3679105 & NA & 0\\\\\n",
       "\t932289 & FirstTime & 1 & 2019-11-01 & 2018-11-01 & Active &  81252319 & dtiq.pw                      & DNC Holdings  & DNC Holdings  & United States & NA & 1 & 15.00 & 15.00 & 0 & 231660756 & renewal      & NA         & Renewed    & 2019-09-17 & 15 & 0.30 & dtiq                    & 1 & 1 &  4 & l        & 4l        & pw     &  2.7080502 & pwdnc holdings     & 0.321 & 0.6866667 &    NA & 0.6832616 & 0.481 & 0.1687236 & NA & 0\\\\\n",
       "\\end{tabular}\n"
      ],
      "text/markdown": [
       "\n",
       "A data.frame: 6 × 39\n",
       "\n",
       "| <!--/--> | renewal_type &lt;fct&gt; | renewed_count &lt;int&gt; | expiry_date &lt;fct&gt; | creation_date &lt;fct&gt; | status &lt;fct&gt; | domain_id &lt;int&gt; | domain &lt;fct&gt; | registrar &lt;fct&gt; | reseller &lt;fct&gt; | reseller_country &lt;fct&gt; | registrant_country &lt;fct&gt; | reg_period &lt;int&gt; | reg_revenue &lt;dbl&gt; | reg_arpt &lt;dbl&gt; | renew_mbg &lt;int&gt; | renewal_item_id &lt;int&gt; | renew_type &lt;fct&gt; | autorenew_type &lt;fct&gt; | renewal_status &lt;fct&gt; | renew_date &lt;fct&gt; | renew_arpt &lt;dbl&gt; | gibb_score &lt;dbl&gt; | pattern &lt;fct&gt; | pattern_domain_count &lt;int&gt; | day_domains &lt;int&gt; | sld_length &lt;int&gt; | sld_type &lt;fct&gt; | sld_type2 &lt;fct&gt; | tld &lt;fct&gt; | log_reg_arpt &lt;dbl&gt; | tld_registrar_index &lt;fct&gt; | pred_agg_glm_ALL &lt;dbl&gt; | pred_agg_rf_ALL &lt;dbl&gt; | pred_agg_glm &lt;dbl&gt; | pred_agg_rf &lt;dbl&gt; | pred_seg_glm_ALL &lt;dbl&gt; | pred_seg_rf_ALL &lt;dbl&gt; | pred_seg2_glm_ALL &lt;dbl&gt; | pred_seg2_rf_ALL &lt;dbl&gt; |\n",
       "|---|---|---|---|---|---|---|---|---|---|---|---|---|---|---|---|---|---|---|---|---|---|---|---|---|---|---|---|---|---|---|---|---|---|---|---|---|---|---|---|\n",
       "| 932284 | FirstTime | 1 | 2020-03-22 | 2019-03-22 | Active |  97587294 | ipv6v.site                   | Beijing Guoxu | Beijing Guoxu | China         | NA | 1 |  0.75 |  0.75 | 0 | 301881409 | auto-renewal | realized   | Renewed    | 2020-03-22 |  6 | 0.06 | ipv6v                   | 1 | 1 |  5 | ln       | 5ln       | site   | -0.2876821 | sitebeijing guoxu  | 0.126 | 0.2693520 |    NA | 0.5694559 |    NA | 0.3375556 | NA | 1 |\n",
       "| 932285 | FirstTime | 1 | 2020-08-26 | 2019-08-26 | Active | 119460676 | xn--4oqv1lwojeqjdk1chnt.site | Beijing Guoxu | Beijing Guoxu | China         | NA | 1 |  0.75 |  0.75 | 0 | 340135634 | auto-renewal | unrealized | Not Renewd | 2020-08-26 |  6 | 0.49 | xn--4oqv1lwojeqjdk1chnt | 1 | 1 | 23 | idn      | 23idn     | site   | -0.2876821 | sitebeijing guoxu  | 0.241 | 0.1628365 |    NA | 0.4779207 | 1.000 | 0.3375556 | NA | 1 |\n",
       "| 932286 | FirstTime | 1 | 2019-12-05 | 2018-12-05 | Active |  85970232 | t-net.in.net                 | GMO           | Value Domain  | Japan         | NA | 1 |  2.00 |  2.00 | 0 | 261559291 | renewal      | NA         | Renewed    | 2019-12-03 |  6 | 1.13 | t-net                   | 1 | 1 |  5 | hyphen-l | 5hyphen-l | in.net |  0.6931472 | in.netvalue domain | 0.118 | 0.2902081 | 0.083 | 0.1642019 | 0.431 | 0.5642647 | NA | 1 |\n",
       "| 932287 | FirstTime | 1 | 2020-03-25 | 2019-03-25 | Active |  97815334 | sumeru.in.net                | GMO           | Value Domain  | Japan         | NA | 1 |  2.00 |  2.00 | 0 | 294310629 | renewal      | NA         | Renewed    | 2020-02-23 |  6 | 6.09 | sumeru                  | 1 | 1 |  6 | l        | 6l        | in.net |  0.6931472 | in.netvalue domain | 0.114 | 0.6003425 | 0.078 | 0.1805670 | 0.241 | 0.7431311 | NA | 1 |\n",
       "| 932288 | FirstTime | 1 | 2020-01-08 | 2019-01-08 | Active |  90177257 | contentking.store            | Blacknight    | Blacknight    | Ireland       | NA | 1 | 40.00 | 40.00 | 0 | 267422616 | renewal      | NA         | Renewed    | 2019-12-18 | 40 | 6.38 | contentking             | 1 | 1 | 11 | l        | 11l       | store  |  3.6888795 | storeblacknight    | 0.581 | 0.5783697 |    NA | 0.7555101 | 1.000 | 0.3679105 | NA | 0 |\n",
       "| 932289 | FirstTime | 1 | 2019-11-01 | 2018-11-01 | Active |  81252319 | dtiq.pw                      | DNC Holdings  | DNC Holdings  | United States | NA | 1 | 15.00 | 15.00 | 0 | 231660756 | renewal      | NA         | Renewed    | 2019-09-17 | 15 | 0.30 | dtiq                    | 1 | 1 |  4 | l        | 4l        | pw     |  2.7080502 | pwdnc holdings     | 0.321 | 0.6866667 |    NA | 0.6832616 | 0.481 | 0.1687236 | NA | 0 |\n",
       "\n"
      ],
      "text/plain": [
       "       renewal_type renewed_count expiry_date creation_date status domain_id\n",
       "932284 FirstTime    1             2020-03-22  2019-03-22    Active  97587294\n",
       "932285 FirstTime    1             2020-08-26  2019-08-26    Active 119460676\n",
       "932286 FirstTime    1             2019-12-05  2018-12-05    Active  85970232\n",
       "932287 FirstTime    1             2020-03-25  2019-03-25    Active  97815334\n",
       "932288 FirstTime    1             2020-01-08  2019-01-08    Active  90177257\n",
       "932289 FirstTime    1             2019-11-01  2018-11-01    Active  81252319\n",
       "       domain                       registrar     reseller     \n",
       "932284 ipv6v.site                   Beijing Guoxu Beijing Guoxu\n",
       "932285 xn--4oqv1lwojeqjdk1chnt.site Beijing Guoxu Beijing Guoxu\n",
       "932286 t-net.in.net                 GMO           Value Domain \n",
       "932287 sumeru.in.net                GMO           Value Domain \n",
       "932288 contentking.store            Blacknight    Blacknight   \n",
       "932289 dtiq.pw                      DNC Holdings  DNC Holdings \n",
       "       reseller_country registrant_country reg_period reg_revenue reg_arpt\n",
       "932284 China            NA                 1           0.75        0.75   \n",
       "932285 China            NA                 1           0.75        0.75   \n",
       "932286 Japan            NA                 1           2.00        2.00   \n",
       "932287 Japan            NA                 1           2.00        2.00   \n",
       "932288 Ireland          NA                 1          40.00       40.00   \n",
       "932289 United States    NA                 1          15.00       15.00   \n",
       "       renew_mbg renewal_item_id renew_type   autorenew_type renewal_status\n",
       "932284 0         301881409       auto-renewal realized       Renewed       \n",
       "932285 0         340135634       auto-renewal unrealized     Not Renewd    \n",
       "932286 0         261559291       renewal      NA             Renewed       \n",
       "932287 0         294310629       renewal      NA             Renewed       \n",
       "932288 0         267422616       renewal      NA             Renewed       \n",
       "932289 0         231660756       renewal      NA             Renewed       \n",
       "       renew_date renew_arpt gibb_score pattern                \n",
       "932284 2020-03-22  6         0.06       ipv6v                  \n",
       "932285 2020-08-26  6         0.49       xn--4oqv1lwojeqjdk1chnt\n",
       "932286 2019-12-03  6         1.13       t-net                  \n",
       "932287 2020-02-23  6         6.09       sumeru                 \n",
       "932288 2019-12-18 40         6.38       contentking            \n",
       "932289 2019-09-17 15         0.30       dtiq                   \n",
       "       pattern_domain_count day_domains sld_length sld_type sld_type2 tld   \n",
       "932284 1                    1            5         ln       5ln       site  \n",
       "932285 1                    1           23         idn      23idn     site  \n",
       "932286 1                    1            5         hyphen-l 5hyphen-l in.net\n",
       "932287 1                    1            6         l        6l        in.net\n",
       "932288 1                    1           11         l        11l       store \n",
       "932289 1                    1            4         l        4l        pw    \n",
       "       log_reg_arpt tld_registrar_index pred_agg_glm_ALL pred_agg_rf_ALL\n",
       "932284 -0.2876821   sitebeijing guoxu   0.126            0.2693520      \n",
       "932285 -0.2876821   sitebeijing guoxu   0.241            0.1628365      \n",
       "932286  0.6931472   in.netvalue domain  0.118            0.2902081      \n",
       "932287  0.6931472   in.netvalue domain  0.114            0.6003425      \n",
       "932288  3.6888795   storeblacknight     0.581            0.5783697      \n",
       "932289  2.7080502   pwdnc holdings      0.321            0.6866667      \n",
       "       pred_agg_glm pred_agg_rf pred_seg_glm_ALL pred_seg_rf_ALL\n",
       "932284    NA        0.5694559      NA            0.3375556      \n",
       "932285    NA        0.4779207   1.000            0.3375556      \n",
       "932286 0.083        0.1642019   0.431            0.5642647      \n",
       "932287 0.078        0.1805670   0.241            0.7431311      \n",
       "932288    NA        0.7555101   1.000            0.3679105      \n",
       "932289    NA        0.6832616   0.481            0.1687236      \n",
       "       pred_seg2_glm_ALL pred_seg2_rf_ALL\n",
       "932284 NA                1               \n",
       "932285 NA                1               \n",
       "932286 NA                1               \n",
       "932287 NA                1               \n",
       "932288 NA                0               \n",
       "932289 NA                0               "
      ]
     },
     "metadata": {},
     "output_type": "display_data"
    }
   ],
   "source": [
    "tail(preds_df)"
   ]
  },
  {
   "cell_type": "code",
   "execution_count": 23,
   "metadata": {},
   "outputs": [
    {
     "data": {
      "text/html": [
       "0"
      ],
      "text/latex": [
       "0"
      ],
      "text/markdown": [
       "0"
      ],
      "text/plain": [
       "[1] 0"
      ]
     },
     "metadata": {},
     "output_type": "display_data"
    }
   ],
   "source": [
    "preds_df %>% filter(is.na(pred_agg_glm_ALL)) %>% nrow()"
   ]
  },
  {
   "cell_type": "code",
   "execution_count": 24,
   "metadata": {},
   "outputs": [],
   "source": [
    "\n",
    "lift_list <- list()\n",
    "auc_list <- list()\n",
    "\n",
    "fallback_lift <- chart_lift(pred_df=preds_df,\n",
    "                        dep_var = \"renewal_status\",\n",
    "                        pred_var = \"pred_agg_glm_ALL\") \n",
    "\n",
    "lift_list[[\"fallback\"]] <- fallback_lift\n",
    "auc_list[[\"fallback\"]] <- calc_auc(lift_df=fallback_lift)\n",
    "\n",
    "models <- c('pred_agg_glm_ALL','pred_agg_rf_ALL','pred_agg_glm','pred_agg_rf',\n",
    "            'pred_seg_glm_ALL', 'pred_seg_rf_ALL','pred_seg2_glm_ALL','pred_seg2_rf_ALL')\n",
    "\n",
    "\n",
    "for (model in models){\n",
    "    model_lift <- chart_lift(pred_df=preds_df,\n",
    "                        dep_var = \"renewal_status\",\n",
    "                        pred_var = model) \n",
    "    \n",
    "    fallback_lift <- merge(fallback_lift, model_lift, by=c(\"P\"),all= TRUE, \n",
    "                           suffixes = c(\"\",\n",
    "                                        paste(\"_\",gsub(\"pred_df_\", \"\", model)) ))\n",
    "    \n",
    "    lift_list[[model]] <- model_lift\n",
    "    auc_list[[model]] <- calc_auc(lift_df=model_lift)\n",
    "}\n",
    "\n",
    "lift_df <- fallback_lift"
   ]
  },
  {
   "cell_type": "code",
   "execution_count": 25,
   "metadata": {},
   "outputs": [
    {
     "data": {
      "text/html": [
       "9"
      ],
      "text/latex": [
       "9"
      ],
      "text/markdown": [
       "9"
      ],
      "text/plain": [
       "[1] 9"
      ]
     },
     "metadata": {},
     "output_type": "display_data"
    },
    {
     "data": {
      "text/html": [
       "<style>\n",
       ".list-inline {list-style: none; margin:0; padding: 0}\n",
       ".list-inline>li {display: inline-block}\n",
       ".list-inline>li:not(:last-child)::after {content: \"\\00b7\"; padding: 0 .5ex}\n",
       "</style>\n",
       "<ol class=list-inline><li>'fallback'</li><li>'pred_agg_glm_ALL'</li><li>'pred_agg_rf_ALL'</li><li>'pred_agg_glm'</li><li>'pred_agg_rf'</li><li>'pred_seg_glm_ALL'</li><li>'pred_seg_rf_ALL'</li><li>'pred_seg2_glm_ALL'</li><li>'pred_seg2_rf_ALL'</li></ol>\n"
      ],
      "text/latex": [
       "\\begin{enumerate*}\n",
       "\\item 'fallback'\n",
       "\\item 'pred\\_agg\\_glm\\_ALL'\n",
       "\\item 'pred\\_agg\\_rf\\_ALL'\n",
       "\\item 'pred\\_agg\\_glm'\n",
       "\\item 'pred\\_agg\\_rf'\n",
       "\\item 'pred\\_seg\\_glm\\_ALL'\n",
       "\\item 'pred\\_seg\\_rf\\_ALL'\n",
       "\\item 'pred\\_seg2\\_glm\\_ALL'\n",
       "\\item 'pred\\_seg2\\_rf\\_ALL'\n",
       "\\end{enumerate*}\n"
      ],
      "text/markdown": [
       "1. 'fallback'\n",
       "2. 'pred_agg_glm_ALL'\n",
       "3. 'pred_agg_rf_ALL'\n",
       "4. 'pred_agg_glm'\n",
       "5. 'pred_agg_rf'\n",
       "6. 'pred_seg_glm_ALL'\n",
       "7. 'pred_seg_rf_ALL'\n",
       "8. 'pred_seg2_glm_ALL'\n",
       "9. 'pred_seg2_rf_ALL'\n",
       "\n",
       "\n"
      ],
      "text/plain": [
       "[1] \"fallback\"          \"pred_agg_glm_ALL\"  \"pred_agg_rf_ALL\"  \n",
       "[4] \"pred_agg_glm\"      \"pred_agg_rf\"       \"pred_seg_glm_ALL\" \n",
       "[7] \"pred_seg_rf_ALL\"   \"pred_seg2_glm_ALL\" \"pred_seg2_rf_ALL\" "
      ]
     },
     "metadata": {},
     "output_type": "display_data"
    },
    {
     "data": {
      "text/html": [
       "<table>\n",
       "<caption>A matrix: 2 × 9 of type int</caption>\n",
       "<thead>\n",
       "\t<tr><th scope=col>fallback</th><th scope=col>pred_agg_glm_ALL</th><th scope=col>pred_agg_rf_ALL</th><th scope=col>pred_agg_glm</th><th scope=col>pred_agg_rf</th><th scope=col>pred_seg_glm_ALL</th><th scope=col>pred_seg_rf_ALL</th><th scope=col>pred_seg2_glm_ALL</th><th scope=col>pred_seg2_rf_ALL</th></tr>\n",
       "</thead>\n",
       "<tbody>\n",
       "\t<tr><td>10</td><td>10</td><td>10</td><td>10</td><td>10</td><td>10</td><td>10</td><td>10</td><td>10</td></tr>\n",
       "\t<tr><td> 4</td><td> 4</td><td> 4</td><td> 4</td><td> 4</td><td> 4</td><td> 4</td><td> 4</td><td> 4</td></tr>\n",
       "</tbody>\n",
       "</table>\n"
      ],
      "text/latex": [
       "A matrix: 2 × 9 of type int\n",
       "\\begin{tabular}{lllllllll}\n",
       " fallback & pred\\_agg\\_glm\\_ALL & pred\\_agg\\_rf\\_ALL & pred\\_agg\\_glm & pred\\_agg\\_rf & pred\\_seg\\_glm\\_ALL & pred\\_seg\\_rf\\_ALL & pred\\_seg2\\_glm\\_ALL & pred\\_seg2\\_rf\\_ALL\\\\\n",
       "\\hline\n",
       "\t 10 & 10 & 10 & 10 & 10 & 10 & 10 & 10 & 10\\\\\n",
       "\t  4 &  4 &  4 &  4 &  4 &  4 &  4 &  4 &  4\\\\\n",
       "\\end{tabular}\n"
      ],
      "text/markdown": [
       "\n",
       "A matrix: 2 × 9 of type int\n",
       "\n",
       "| fallback | pred_agg_glm_ALL | pred_agg_rf_ALL | pred_agg_glm | pred_agg_rf | pred_seg_glm_ALL | pred_seg_rf_ALL | pred_seg2_glm_ALL | pred_seg2_rf_ALL |\n",
       "|---|---|---|---|---|---|---|---|---|\n",
       "| 10 | 10 | 10 | 10 | 10 | 10 | 10 | 10 | 10 |\n",
       "|  4 |  4 |  4 |  4 |  4 |  4 |  4 |  4 |  4 |\n",
       "\n"
      ],
      "text/plain": [
       "     fallback pred_agg_glm_ALL pred_agg_rf_ALL pred_agg_glm pred_agg_rf\n",
       "[1,] 10       10               10              10           10         \n",
       "[2,]  4        4                4               4            4         \n",
       "     pred_seg_glm_ALL pred_seg_rf_ALL pred_seg2_glm_ALL pred_seg2_rf_ALL\n",
       "[1,] 10               10              10                10              \n",
       "[2,]  4                4               4                 4              "
      ]
     },
     "metadata": {},
     "output_type": "display_data"
    },
    {
     "data": {
      "text/html": [
       "<strong>$pred_agg_glm_ALL</strong> = <table>\n",
       "<caption>A data.frame: 10 × 4</caption>\n",
       "<thead>\n",
       "\t<tr><th scope=col>P</th><th scope=col>actu_renwd2</th><th scope=col>gain</th><th scope=col>lift</th></tr>\n",
       "\t<tr><th scope=col>&lt;dbl&gt;</th><th scope=col>&lt;int&gt;</th><th scope=col>&lt;dbl&gt;</th><th scope=col>&lt;dbl&gt;</th></tr>\n",
       "</thead>\n",
       "<tbody>\n",
       "\t<tr><td>0.1</td><td>38743</td><td>0.4651411</td><td>4.651411</td></tr>\n",
       "\t<tr><td>0.2</td><td>55723</td><td>0.6689998</td><td>3.344999</td></tr>\n",
       "\t<tr><td>0.3</td><td>66643</td><td>0.8001032</td><td>2.667011</td></tr>\n",
       "\t<tr><td>0.4</td><td>72913</td><td>0.8753797</td><td>2.188449</td></tr>\n",
       "\t<tr><td>0.5</td><td>77180</td><td>0.9266085</td><td>1.853217</td></tr>\n",
       "\t<tr><td>0.6</td><td>80309</td><td>0.9641747</td><td>1.606958</td></tr>\n",
       "\t<tr><td>0.7</td><td>82033</td><td>0.9848727</td><td>1.406961</td></tr>\n",
       "\t<tr><td>0.8</td><td>82911</td><td>0.9954138</td><td>1.244267</td></tr>\n",
       "\t<tr><td>0.9</td><td>83165</td><td>0.9984633</td><td>1.109404</td></tr>\n",
       "\t<tr><td>1.0</td><td>83293</td><td>1.0000000</td><td>1.000000</td></tr>\n",
       "</tbody>\n",
       "</table>\n"
      ],
      "text/latex": [
       "\\textbf{\\$pred\\_agg\\_glm\\_ALL} = A data.frame: 10 × 4\n",
       "\\begin{tabular}{llll}\n",
       " P & actu\\_renwd2 & gain & lift\\\\\n",
       " <dbl> & <int> & <dbl> & <dbl>\\\\\n",
       "\\hline\n",
       "\t 0.1 & 38743 & 0.4651411 & 4.651411\\\\\n",
       "\t 0.2 & 55723 & 0.6689998 & 3.344999\\\\\n",
       "\t 0.3 & 66643 & 0.8001032 & 2.667011\\\\\n",
       "\t 0.4 & 72913 & 0.8753797 & 2.188449\\\\\n",
       "\t 0.5 & 77180 & 0.9266085 & 1.853217\\\\\n",
       "\t 0.6 & 80309 & 0.9641747 & 1.606958\\\\\n",
       "\t 0.7 & 82033 & 0.9848727 & 1.406961\\\\\n",
       "\t 0.8 & 82911 & 0.9954138 & 1.244267\\\\\n",
       "\t 0.9 & 83165 & 0.9984633 & 1.109404\\\\\n",
       "\t 1.0 & 83293 & 1.0000000 & 1.000000\\\\\n",
       "\\end{tabular}\n"
      ],
      "text/markdown": [
       "**$pred_agg_glm_ALL** = \n",
       "A data.frame: 10 × 4\n",
       "\n",
       "| P &lt;dbl&gt; | actu_renwd2 &lt;int&gt; | gain &lt;dbl&gt; | lift &lt;dbl&gt; |\n",
       "|---|---|---|---|\n",
       "| 0.1 | 38743 | 0.4651411 | 4.651411 |\n",
       "| 0.2 | 55723 | 0.6689998 | 3.344999 |\n",
       "| 0.3 | 66643 | 0.8001032 | 2.667011 |\n",
       "| 0.4 | 72913 | 0.8753797 | 2.188449 |\n",
       "| 0.5 | 77180 | 0.9266085 | 1.853217 |\n",
       "| 0.6 | 80309 | 0.9641747 | 1.606958 |\n",
       "| 0.7 | 82033 | 0.9848727 | 1.406961 |\n",
       "| 0.8 | 82911 | 0.9954138 | 1.244267 |\n",
       "| 0.9 | 83165 | 0.9984633 | 1.109404 |\n",
       "| 1.0 | 83293 | 1.0000000 | 1.000000 |\n",
       "\n"
      ],
      "text/plain": [
       "$pred_agg_glm_ALL\n",
       "     P actu_renwd2      gain     lift\n",
       "1  0.1       38743 0.4651411 4.651411\n",
       "2  0.2       55723 0.6689998 3.344999\n",
       "3  0.3       66643 0.8001032 2.667011\n",
       "4  0.4       72913 0.8753797 2.188449\n",
       "5  0.5       77180 0.9266085 1.853217\n",
       "6  0.6       80309 0.9641747 1.606958\n",
       "7  0.7       82033 0.9848727 1.406961\n",
       "8  0.8       82911 0.9954138 1.244267\n",
       "9  0.9       83165 0.9984633 1.109404\n",
       "10 1.0       83293 1.0000000 1.000000\n"
      ]
     },
     "metadata": {},
     "output_type": "display_data"
    }
   ],
   "source": [
    "length(lift_list)\n",
    "names(lift_list)\n",
    "sapply(lift_list, dim)\n",
    "lift_list[\"pred_agg_glm_ALL\"]"
   ]
  },
  {
   "cell_type": "code",
   "execution_count": 26,
   "metadata": {},
   "outputs": [],
   "source": [
    "lift_list[[1]] <- NULL\n",
    "auc_list[[1]] <- NULL"
   ]
  },
  {
   "cell_type": "code",
   "execution_count": 27,
   "metadata": {},
   "outputs": [
    {
     "data": {
      "text/plain": [
       "\n",
       "Not Renewd    Renewed \n",
       "0.91062984 0.08937016 "
      ]
     },
     "metadata": {},
     "output_type": "display_data"
    }
   ],
   "source": [
    "prop.table(table(expiry_test_df$renewal_status))"
   ]
  },
  {
   "cell_type": "code",
   "execution_count": 28,
   "metadata": {},
   "outputs": [],
   "source": [
    "plot_multigains <- function (lift_df_list=list(seg_glm = lift_df, \n",
    "                                               ben_dtr = lift_df_2),\n",
    "                             auc_list = list(seg_glm = auc, \n",
    "                                             ben_dtr=auc_2),\n",
    "                             prop_positive = 0.1121167) {\n",
    "  \n",
    "  optimal_df <- data.frame( \"P\"=c(0,prop_positive,1.0),\n",
    "                            \"actu_renwd2\"=c(NA,NA,NA),\n",
    "                            \"gain\"=c(0,1.0,1.0),\n",
    "                            \"lift\"=c(NA,NA,NA))\n",
    "  \n",
    "  lift_df_list <- lapply(lift_df_list, function(df) {\n",
    "    df <- df %>%\n",
    "      add_row(P = 0, gain =0) %>%\n",
    "      arrange(P)\n",
    "  })\n",
    "\n",
    "  auc_lift_list = paste(lapply(auc_list, round, 3),sapply(lift_df_list, function(x) round(x[2,\"lift\"],2)), sep=\", \")\n",
    "  \n",
    "  auc_map = paste(names(lift_df_list),auc_lift_list, sep=\" = \")[1:length(lift_df_list)]\n",
    "  \n",
    "  \n",
    "  gains_plot <- ggplot(NULL, aes(P,  gain)) +\n",
    "    geom_line(data = lift_df_list[[1]] %>% slice(1, n())) +\n",
    "    \n",
    "    list(geom_line(data=optimal_df), geom_point(data=optimal_df)) +\n",
    "    \n",
    "    scale_y_continuous(breaks = seq(0, 1, by = .1), limits = c(0,1)) +\n",
    "    scale_x_continuous(breaks = seq(0, 1, by = .1)) +\n",
    "    labs(title = \"Cumulative Gains Plot\",\n",
    "         y = \"Cumulative Gain\",\n",
    "         x = \"Percentile\")+\n",
    "    theme(text = element_text(size=20))\n",
    "  \n",
    "  for(i in seq(length(lift_df_list))){\n",
    "    name = names(lift_df_list)[[i]]\n",
    "    df = lift_df_list[[i]]\n",
    "    auc = auc_list[[i]]\n",
    "    gains_plot <- gains_plot + list(geom_line(data=df), \n",
    "                                    geom_point(data=df))+ \n",
    "      annotate(\"text\", x = .35, y = .75-i*.075, hjust = 0, label = auc_map[[i]], size = 6)\n",
    "  }\n",
    "  \n",
    "  \n",
    "  return(gains_plot)\n",
    "}\n"
   ]
  },
  {
   "cell_type": "code",
   "execution_count": 29,
   "metadata": {},
   "outputs": [
    {
     "data": {
      "image/png": "[encoded data removed]",
      "text/plain": [
       "plot without title"
      ]
     },
     "metadata": {
      "image/png": {
       "height": 420,
       "width": 420
      },
      "text/plain": {
       "height": 420,
       "width": 420
      }
     },
     "output_type": "display_data"
    }
   ],
   "source": [
    "plot_multigains(            lift_df_list=lift_list,\n",
    "                             auc_list = auc_list,\n",
    "                             prop_positive = 0.08937016) "
   ]
  },
  {
   "cell_type": "code",
   "execution_count": 30,
   "metadata": {},
   "outputs": [
    {
     "data": {
      "text/html": [
       "<table>\n",
       "<caption>A matrix: 8 × 1 of type dbl</caption>\n",
       "<tbody>\n",
       "\t<tr><th scope=row>lift_ pred_agg_glm_ALL</th><td>4.651411</td></tr>\n",
       "\t<tr><th scope=row>lift_ pred_agg_rf_ALL</th><td>5.244138</td></tr>\n",
       "\t<tr><th scope=row>lift_ pred_agg_glm</th><td>4.397608</td></tr>\n",
       "\t<tr><th scope=row>lift_ pred_agg_rf</th><td>5.116877</td></tr>\n",
       "\t<tr><th scope=row>lift_ pred_seg_glm_ALL</th><td>4.730289</td></tr>\n",
       "\t<tr><th scope=row>lift_ pred_seg_rf_ALL</th><td>5.259986</td></tr>\n",
       "\t<tr><th scope=row>lift_ pred_seg2_glm_ALL</th><td>4.915059</td></tr>\n",
       "\t<tr><th scope=row>lift_ pred_seg2_rf_ALL</th><td>5.243538</td></tr>\n",
       "</tbody>\n",
       "</table>\n"
      ],
      "text/latex": [
       "A matrix: 8 × 1 of type dbl\n",
       "\\begin{tabular}{r|l}\n",
       "\tlift\\_ pred\\_agg\\_glm\\_ALL & 4.651411\\\\\n",
       "\tlift\\_ pred\\_agg\\_rf\\_ALL & 5.244138\\\\\n",
       "\tlift\\_ pred\\_agg\\_glm & 4.397608\\\\\n",
       "\tlift\\_ pred\\_agg\\_rf & 5.116877\\\\\n",
       "\tlift\\_ pred\\_seg\\_glm\\_ALL & 4.730289\\\\\n",
       "\tlift\\_ pred\\_seg\\_rf\\_ALL & 5.259986\\\\\n",
       "\tlift\\_ pred\\_seg2\\_glm\\_ALL & 4.915059\\\\\n",
       "\tlift\\_ pred\\_seg2\\_rf\\_ALL & 5.243538\\\\\n",
       "\\end{tabular}\n"
      ],
      "text/markdown": [
       "\n",
       "A matrix: 8 × 1 of type dbl\n",
       "\n",
       "| lift_ pred_agg_glm_ALL | 4.651411 |\n",
       "| lift_ pred_agg_rf_ALL | 5.244138 |\n",
       "| lift_ pred_agg_glm | 4.397608 |\n",
       "| lift_ pred_agg_rf | 5.116877 |\n",
       "| lift_ pred_seg_glm_ALL | 4.730289 |\n",
       "| lift_ pred_seg_rf_ALL | 5.259986 |\n",
       "| lift_ pred_seg2_glm_ALL | 4.915059 |\n",
       "| lift_ pred_seg2_rf_ALL | 5.243538 |\n",
       "\n"
      ],
      "text/plain": [
       "                        [,1]    \n",
       "lift_ pred_agg_glm_ALL  4.651411\n",
       "lift_ pred_agg_rf_ALL   5.244138\n",
       "lift_ pred_agg_glm      4.397608\n",
       "lift_ pred_agg_rf       5.116877\n",
       "lift_ pred_seg_glm_ALL  4.730289\n",
       "lift_ pred_seg_rf_ALL   5.259986\n",
       "lift_ pred_seg2_glm_ALL 4.915059\n",
       "lift_ pred_seg2_rf_ALL  5.243538"
      ]
     },
     "metadata": {},
     "output_type": "display_data"
    }
   ],
   "source": [
    "lift_df_10 <- lift_df %>% filter(P==0.1) %>% select(contains(\"lift_\")) %>% t()\n",
    "lift_df_10"
   ]
  },
  {
   "cell_type": "code",
   "execution_count": 31,
   "metadata": {},
   "outputs": [
    {
     "data": {
      "text/html": [
       "0.0669532146002724"
      ],
      "text/latex": [
       "0.0669532146002724"
      ],
      "text/markdown": [
       "0.0669532146002724"
      ],
      "text/plain": [
       "[1] 0.06695321"
      ]
     },
     "metadata": {},
     "output_type": "display_data"
    }
   ],
   "source": [
    "(5.244138-4.915059)/4.915059"
   ]
  },
  {
   "cell_type": "code",
   "execution_count": 32,
   "metadata": {},
   "outputs": [
    {
     "data": {
      "text/html": [
       "<dl>\n",
       "\t<dt>$pred_agg_glm_ALL</dt>\n",
       "\t\t<dd>0.817915671184853</dd>\n",
       "\t<dt>$pred_agg_rf_ALL</dt>\n",
       "\t\t<dd>0.857923835136206</dd>\n",
       "\t<dt>$pred_agg_glm</dt>\n",
       "\t\t<dd>0.782431296747626</dd>\n",
       "\t<dt>$pred_agg_rf</dt>\n",
       "\t\t<dd>0.855485454960201</dd>\n",
       "\t<dt>$pred_seg_glm_ALL</dt>\n",
       "\t\t<dd>0.8230397512396</dd>\n",
       "\t<dt>$pred_seg_rf_ALL</dt>\n",
       "\t\t<dd>0.858704212839014</dd>\n",
       "\t<dt>$pred_seg2_glm_ALL</dt>\n",
       "\t\t<dd>0.832497928997635</dd>\n",
       "\t<dt>$pred_seg2_rf_ALL</dt>\n",
       "\t\t<dd>0.857741346811857</dd>\n",
       "</dl>\n"
      ],
      "text/latex": [
       "\\begin{description}\n",
       "\\item[\\$pred\\_agg\\_glm\\_ALL] 0.817915671184853\n",
       "\\item[\\$pred\\_agg\\_rf\\_ALL] 0.857923835136206\n",
       "\\item[\\$pred\\_agg\\_glm] 0.782431296747626\n",
       "\\item[\\$pred\\_agg\\_rf] 0.855485454960201\n",
       "\\item[\\$pred\\_seg\\_glm\\_ALL] 0.8230397512396\n",
       "\\item[\\$pred\\_seg\\_rf\\_ALL] 0.858704212839014\n",
       "\\item[\\$pred\\_seg2\\_glm\\_ALL] 0.832497928997635\n",
       "\\item[\\$pred\\_seg2\\_rf\\_ALL] 0.857741346811857\n",
       "\\end{description}\n"
      ],
      "text/markdown": [
       "$pred_agg_glm_ALL\n",
       ":   0.817915671184853\n",
       "$pred_agg_rf_ALL\n",
       ":   0.857923835136206\n",
       "$pred_agg_glm\n",
       ":   0.782431296747626\n",
       "$pred_agg_rf\n",
       ":   0.855485454960201\n",
       "$pred_seg_glm_ALL\n",
       ":   0.8230397512396\n",
       "$pred_seg_rf_ALL\n",
       ":   0.858704212839014\n",
       "$pred_seg2_glm_ALL\n",
       ":   0.832497928997635\n",
       "$pred_seg2_rf_ALL\n",
       ":   0.857741346811857\n",
       "\n",
       "\n"
      ],
      "text/plain": [
       "$pred_agg_glm_ALL\n",
       "[1] 0.8179157\n",
       "\n",
       "$pred_agg_rf_ALL\n",
       "[1] 0.8579238\n",
       "\n",
       "$pred_agg_glm\n",
       "[1] 0.7824313\n",
       "\n",
       "$pred_agg_rf\n",
       "[1] 0.8554855\n",
       "\n",
       "$pred_seg_glm_ALL\n",
       "[1] 0.8230398\n",
       "\n",
       "$pred_seg_rf_ALL\n",
       "[1] 0.8587042\n",
       "\n",
       "$pred_seg2_glm_ALL\n",
       "[1] 0.8324979\n",
       "\n",
       "$pred_seg2_rf_ALL\n",
       "[1] 0.8577413\n"
      ]
     },
     "metadata": {},
     "output_type": "display_data"
    }
   ],
   "source": [
    "auc_list"
   ]
  },
  {
   "cell_type": "code",
   "execution_count": 33,
   "metadata": {},
   "outputs": [
    {
     "data": {
      "text/html": [
       "0.0305417049735907"
      ],
      "text/latex": [
       "0.0305417049735907"
      ],
      "text/markdown": [
       "0.0305417049735907"
      ],
      "text/plain": [
       "[1] 0.0305417"
      ]
     },
     "metadata": {},
     "output_type": "display_data"
    }
   ],
   "source": [
    "(auc_list$pred_agg_rf_ALL-auc_list$pred_seg2_glm_ALL)/(auc_list$pred_seg2_glm_ALL)"
   ]
  },
  {
   "cell_type": "code",
   "execution_count": 28,
   "metadata": {},
   "outputs": [
    {
     "data": {
      "text/plain": [
       "Confusion Matrix and Statistics\n",
       "\n",
       "            Reference\n",
       "Prediction   Not Renewd Renewed\n",
       "  Not Renewd     653458   11301\n",
       "  Renewed        195538   71992\n",
       "                                         \n",
       "               Accuracy : 0.7781         \n",
       "                 95% CI : (0.7773, 0.779)\n",
       "    No Information Rate : 0.9107         \n",
       "    P-Value [Acc > NIR] : 1              \n",
       "                                         \n",
       "                  Kappa : 0.3174         \n",
       "                                         \n",
       " Mcnemar's Test P-Value : <2e-16         \n",
       "                                         \n",
       "            Sensitivity : 0.86432        \n",
       "            Specificity : 0.76968        \n",
       "         Pos Pred Value : 0.26910        \n",
       "         Neg Pred Value : 0.98300        \n",
       "             Prevalence : 0.08934        \n",
       "         Detection Rate : 0.07722        \n",
       "   Detection Prevalence : 0.28696        \n",
       "      Balanced Accuracy : 0.81700        \n",
       "                                         \n",
       "       'Positive' Class : Renewed        \n",
       "                                         "
      ]
     },
     "metadata": {},
     "output_type": "display_data"
    }
   ],
   "source": [
    "confusionMatrix(as.factor(ifelse(preds_df$pred_agg_rf_ALL > 0.08937016, \"Renewed\", \"Not Renewd\")), \n",
    "                preds_df$renewal_status, positive=\"Renewed\")"
   ]
  },
  {
   "cell_type": "code",
   "execution_count": 29,
   "metadata": {},
   "outputs": [
    {
     "data": {
      "text/plain": [
       "Confusion Matrix and Statistics\n",
       "\n",
       "            Reference\n",
       "Prediction   Not Renewd Renewed\n",
       "  Not Renewd     659137   15715\n",
       "  Renewed        188174   67229\n",
       "                                        \n",
       "               Accuracy : 0.7808        \n",
       "                 95% CI : (0.78, 0.7817)\n",
       "    No Information Rate : 0.9108        \n",
       "    P-Value [Acc > NIR] : 1             \n",
       "                                        \n",
       "                  Kappa : 0.3037        \n",
       "                                        \n",
       " Mcnemar's Test P-Value : <2e-16        \n",
       "                                        \n",
       "            Sensitivity : 0.81053       \n",
       "            Specificity : 0.77792       \n",
       "         Pos Pred Value : 0.26323       \n",
       "         Neg Pred Value : 0.97671       \n",
       "             Prevalence : 0.08916       \n",
       "         Detection Rate : 0.07227       \n",
       "   Detection Prevalence : 0.27455       \n",
       "      Balanced Accuracy : 0.79423       \n",
       "                                        \n",
       "       'Positive' Class : Renewed       \n",
       "                                        "
      ]
     },
     "metadata": {},
     "output_type": "display_data"
    }
   ],
   "source": [
    "confusionMatrix(as.factor(ifelse(preds_df$pred_seg2_glm_ALL > 0.08937016, \"Renewed\", \"Not Renewd\")), \n",
    "                preds_df$renewal_status, positive=\"Renewed\")"
   ]
  },
  {
   "cell_type": "code",
   "execution_count": 21,
   "metadata": {},
   "outputs": [
    {
     "name": "stdout",
     "output_type": "stream",
     "text": [
      " num [1:932289] 0.02632 0.02328 0.00646 0.07569 0.01106 ...\n"
     ]
    }
   ],
   "source": [
    "str(preds_df$pred_agg_rf_ALL)"
   ]
  },
  {
   "cell_type": "markdown",
   "metadata": {},
   "source": [
    "# Why 58 missing domain_ids in preds_df.. is it a merge issue?\n",
    "No... individual preds have the same number of rows as the final, merged df"
   ]
  },
  {
   "cell_type": "code",
   "execution_count": 34,
   "metadata": {},
   "outputs": [],
   "source": [
    "fullDir='/home/jupyter/Domains_202003/data/output/models_20201104'"
   ]
  },
  {
   "cell_type": "code",
   "execution_count": 35,
   "metadata": {},
   "outputs": [],
   "source": [
    "load(file.path(fullDir, 'preds_seg_rf_ALL.RData'))\n",
    "load(file.path(fullDir, 'preds_seg_glm_ALL.RData'))\n",
    "load(file.path(fullDir, 'preds_agg_rf.RData'))\n",
    "load(file.path(fullDir, 'preds_agg_rf_ALL.RData'))\n",
    "load(file.path(fullDir, 'preds_agg_glm.RData'))\n",
    "load(file.path(fullDir, 'preds_agg_glm_ALL.Rdata'))\n",
    "load(file.path(fullDir, 'preds_seg2_rf_ALL.RData'))\n",
    "load(file.path(fullDir, 'preds_seg2_glm_ALL.RData'))\n"
   ]
  },
  {
   "cell_type": "code",
   "execution_count": 38,
   "metadata": {},
   "outputs": [
    {
     "data": {
      "text/html": [
       "2109"
      ],
      "text/latex": [
       "2109"
      ],
      "text/markdown": [
       "2109"
      ],
      "text/plain": [
       "[1] 2109"
      ]
     },
     "metadata": {},
     "output_type": "display_data"
    },
    {
     "data": {
      "text/html": [
       "2109"
      ],
      "text/latex": [
       "2109"
      ],
      "text/markdown": [
       "2109"
      ],
      "text/plain": [
       "[1] 2109"
      ]
     },
     "metadata": {},
     "output_type": "display_data"
    },
    {
     "data": {
      "text/html": [
       "2109"
      ],
      "text/latex": [
       "2109"
      ],
      "text/markdown": [
       "2109"
      ],
      "text/plain": [
       "[1] 2109"
      ]
     },
     "metadata": {},
     "output_type": "display_data"
    },
    {
     "data": {
      "text/html": [
       "2109"
      ],
      "text/latex": [
       "2109"
      ],
      "text/markdown": [
       "2109"
      ],
      "text/plain": [
       "[1] 2109"
      ]
     },
     "metadata": {},
     "output_type": "display_data"
    },
    {
     "data": {
      "text/html": [
       "2109"
      ],
      "text/latex": [
       "2109"
      ],
      "text/markdown": [
       "2109"
      ],
      "text/plain": [
       "[1] 2109"
      ]
     },
     "metadata": {},
     "output_type": "display_data"
    },
    {
     "data": {
      "text/html": [
       "2109"
      ],
      "text/latex": [
       "2109"
      ],
      "text/markdown": [
       "2109"
      ],
      "text/plain": [
       "[1] 2109"
      ]
     },
     "metadata": {},
     "output_type": "display_data"
    },
    {
     "data": {
      "text/html": [
       "2109"
      ],
      "text/latex": [
       "2109"
      ],
      "text/markdown": [
       "2109"
      ],
      "text/plain": [
       "[1] 2109"
      ]
     },
     "metadata": {},
     "output_type": "display_data"
    },
    {
     "data": {
      "text/html": [
       "2109"
      ],
      "text/latex": [
       "2109"
      ],
      "text/markdown": [
       "2109"
      ],
      "text/plain": [
       "[1] 2109"
      ]
     },
     "metadata": {},
     "output_type": "display_data"
    }
   ],
   "source": [
    "length(preds_seg2_rf_ALL)\n",
    "length(preds_seg2_glm_ALL)\n",
    "length(preds_seg_rf_ALL)\n",
    "length(preds_seg_glm_ALL)\n",
    "length(preds_agg_rf_ALL)\n",
    "length(preds_agg_glm_ALL)\n",
    "length(preds_agg_rf)\n",
    "length(preds_agg_glm)"
   ]
  },
  {
   "cell_type": "code",
   "execution_count": 44,
   "metadata": {},
   "outputs": [
    {
     "data": {
      "text/html": [
       "2109"
      ],
      "text/latex": [
       "2109"
      ],
      "text/markdown": [
       "2109"
      ],
      "text/plain": [
       "[1] 2109"
      ]
     },
     "metadata": {},
     "output_type": "display_data"
    },
    {
     "data": {
      "text/html": [
       "1706"
      ],
      "text/latex": [
       "1706"
      ],
      "text/markdown": [
       "1706"
      ],
      "text/plain": [
       "[1] 1706"
      ]
     },
     "metadata": {},
     "output_type": "display_data"
    }
   ],
   "source": [
    "length(na.omit(preds_seg2_rf_ALL))\n",
    "length(preds_seg2_rf_ALL[!is.na(preds_seg2_rf_ALL)])"
   ]
  },
  {
   "cell_type": "code",
   "execution_count": 42,
   "metadata": {},
   "outputs": [
    {
     "data": {
      "text/html": [
       "&lt;NA&gt;"
      ],
      "text/latex": [
       "<NA>"
      ],
      "text/markdown": [
       "&lt;NA&gt;"
      ],
      "text/plain": [
       "[1] NA"
      ]
     },
     "metadata": {},
     "output_type": "display_data"
    }
   ],
   "source": [
    "preds_seg2_rf_ALL[[323]]"
   ]
  },
  {
   "cell_type": "code",
   "execution_count": 47,
   "metadata": {},
   "outputs": [
    {
     "data": {
      "text/html": [
       "932289"
      ],
      "text/latex": [
       "932289"
      ],
      "text/markdown": [
       "932289"
      ],
      "text/plain": [
       "[1] 932289"
      ]
     },
     "metadata": {},
     "output_type": "display_data"
    },
    {
     "data": {
      "text/html": [
       "932289"
      ],
      "text/latex": [
       "932289"
      ],
      "text/markdown": [
       "932289"
      ],
      "text/plain": [
       "[1] 932289"
      ]
     },
     "metadata": {},
     "output_type": "display_data"
    },
    {
     "data": {
      "text/html": [
       "932289"
      ],
      "text/latex": [
       "932289"
      ],
      "text/markdown": [
       "932289"
      ],
      "text/plain": [
       "[1] 932289"
      ]
     },
     "metadata": {},
     "output_type": "display_data"
    },
    {
     "data": {
      "text/html": [
       "932289"
      ],
      "text/latex": [
       "932289"
      ],
      "text/markdown": [
       "932289"
      ],
      "text/plain": [
       "[1] 932289"
      ]
     },
     "metadata": {},
     "output_type": "display_data"
    },
    {
     "data": {
      "text/html": [
       "932289"
      ],
      "text/latex": [
       "932289"
      ],
      "text/markdown": [
       "932289"
      ],
      "text/plain": [
       "[1] 932289"
      ]
     },
     "metadata": {},
     "output_type": "display_data"
    },
    {
     "data": {
      "text/html": [
       "932289"
      ],
      "text/latex": [
       "932289"
      ],
      "text/markdown": [
       "932289"
      ],
      "text/plain": [
       "[1] 932289"
      ]
     },
     "metadata": {},
     "output_type": "display_data"
    },
    {
     "data": {
      "text/html": [
       "932289"
      ],
      "text/latex": [
       "932289"
      ],
      "text/markdown": [
       "932289"
      ],
      "text/plain": [
       "[1] 932289"
      ]
     },
     "metadata": {},
     "output_type": "display_data"
    },
    {
     "data": {
      "text/html": [
       "932289"
      ],
      "text/latex": [
       "932289"
      ],
      "text/markdown": [
       "932289"
      ],
      "text/plain": [
       "[1] 932289"
      ]
     },
     "metadata": {},
     "output_type": "display_data"
    }
   ],
   "source": [
    "nrow(rbindlist(preds_seg2_rf_ALL[!is.na(preds_seg2_rf_ALL)]))\n",
    "nrow(rbindlist(preds_seg_rf_ALL[!is.na(preds_seg_rf_ALL)]))\n",
    "nrow(rbindlist(preds_agg_rf_ALL[!is.na(preds_agg_rf_ALL)]))\n",
    "nrow(rbindlist(preds_agg_rf[!is.na(preds_agg_rf)]))\n",
    "\n",
    "nrow(rbindlist(preds_seg2_glm_ALL[!is.na(preds_seg2_glm_ALL)]))\n",
    "nrow(rbindlist(preds_seg_glm_ALL[!is.na(preds_seg_glm_ALL)]))\n",
    "nrow(rbindlist(preds_agg_glm_ALL[!is.na(preds_agg_glm_ALL)]))\n",
    "nrow(rbindlist(preds_agg_glm[!is.na(preds_agg_glm)]))"
   ]
  },
  {
   "cell_type": "code",
   "execution_count": 48,
   "metadata": {},
   "outputs": [
    {
     "name": "stdout",
     "output_type": "stream",
     "text": [
      "'data.frame':\t932289 obs. of  39 variables:\n",
      " $ renewal_type        : Factor w/ 1 level \"FirstTime\": 1 1 1 1 1 1 1 1 1 1 ...\n",
      " $ renewed_count       : int  1 1 1 1 1 1 1 1 1 1 ...\n",
      " $ expiry_date         : Factor w/ 458 levels \"2019-06-01\",\"2019-06-02\",..: 161 66 72 52 37 164 38 66 426 440 ...\n",
      " $ creation_date       : Factor w/ 971 levels \"2017-01-01\",\"2017-01-02\",..: 674 579 585 565 550 677 551 579 939 953 ...\n",
      " $ status              : Factor w/ 1 level \"Active\": 1 1 1 1 1 1 1 1 1 1 ...\n",
      " $ domain_id           : int  82167309 73624034 74035654 72660399 71566430 82528489 71611449 73625689 114900256 117910336 ...\n",
      " $ domain              : Factor w/ 932172 levels \"0-0.website\",..: 837672 876376 232903 708671 912501 120268 778383 313500 106165 860143 ...\n",
      " $ registrar           : Factor w/ 159 levels \"1&1 Internet\",..: 91 91 91 91 91 91 91 91 91 91 ...\n",
      " $ reseller            : Factor w/ 315 levels \"1&1 Internet\",..: 184 184 184 184 184 184 184 184 184 184 ...\n",
      " $ reseller_country    : Factor w/ 53 levels \"\",\"Argentina\",..: 52 52 52 52 52 52 52 52 52 52 ...\n",
      " $ registrant_country  : Factor w/ 1 level \"China\": NA NA NA NA NA NA NA NA NA NA ...\n",
      " $ reg_period          : int  1 1 1 1 1 1 1 1 1 1 ...\n",
      " $ reg_revenue         : num  0.48 0.48 0.48 0.48 0.48 0.48 0.48 0.48 0.48 0.48 ...\n",
      " $ reg_arpt            : num  0.48 0.48 0.48 0.48 0.48 0.48 0.48 0.48 0.48 0.48 ...\n",
      " $ renew_mbg           : int  0 0 0 0 0 0 0 0 0 0 ...\n",
      " $ renewal_item_id     : int  248714055 219523016 221379481 216639126 213669206 250798210 213851121 219524836 333676289 337438414 ...\n",
      " $ renew_type          : Factor w/ 3 levels \"auto-renewal\",..: 1 1 1 1 1 1 1 1 1 1 ...\n",
      " $ autorenew_type      : Factor w/ 3 levels \"presumed-realized\",..: 2 3 3 3 3 3 3 3 3 3 ...\n",
      " $ renewal_status      : Factor w/ 2 levels \"Not Renewd\",\"Renewed\": 2 1 1 1 1 1 1 1 1 1 ...\n",
      " $ renew_date          : Factor w/ 816 levels \"2014-03-27\",\"2017-03-14\",..: 518 423 429 409 394 521 395 423 784 798 ...\n",
      " $ renew_arpt          : num  7.5 0 7 7 7 7.5 7 0 7 7 ...\n",
      " $ gibb_score          : num  3.39 0.52 4.65 1.75 1.52 2.16 6.82 2.38 2.54 3.69 ...\n",
      " $ pattern             : Factor w/ 750808 levels \"\",\"---18012019\",..: 678425 707984 515043 713010 132756 94755 628365 249752 83957 695076 ...\n",
      " $ pattern_domain_count: int  2 1 3 2 3 1 1 2 2 50 ...\n",
      " $ day_domains         : int  576 257 353 80 1147 687 109 257 187 215 ...\n",
      " $ sld_length          : int  10 4 10 8 6 10 11 4 6 15 ...\n",
      " $ sld_type            : Factor w/ 6 levels \"hyphen-l\",\"hyphen-ln\",..: 4 5 4 4 4 1 4 5 4 2 ...\n",
      " $ sld_type2           : Factor w/ 307 levels \"10hyphen-l\",\"10hyphen-ln\",..: 4 222 4 299 287 1 10 222 287 32 ...\n",
      " $ tld                 : Factor w/ 11 levels \"fun\",\"host\",\"in.net\",..: 6 6 6 6 6 6 6 6 6 6 ...\n",
      " $ log_reg_arpt        : num  -0.734 -0.734 -0.734 -0.734 -0.734 ...\n",
      " $ tld_registrar_index : Factor w/ 1706 levels \"fun1&1 internet\",..: 625 625 625 625 625 625 625 625 625 625 ...\n",
      " $ pred_agg_glm_ALL    : num  0.029 0.024 0.035 0.048 0.016 0.03 0.05 0.023 0.045 0.001 ...\n",
      " $ pred_agg_rf_ALL     : num  0.02632 0.02328 0.00646 0.07569 0.01106 ...\n",
      " $ pred_agg_glm        : num  0.03 0.024 0.035 0.048 0.017 0.031 0.05 0.024 0.046 0.001 ...\n",
      " $ pred_agg_rf         : num  0.02737 0.02632 0.00609 0.08006 0.0167 ...\n",
      " $ pred_seg_glm_ALL    : num  0.049 0.062 0.066 0.098 0.023 0.038 0.095 0.062 0.09 0.027 ...\n",
      " $ pred_seg_rf_ALL     : num  0.0275 0.0293 0.0123 0.0652 0.0161 ...\n",
      " $ pred_seg2_glm_ALL   : num  0.0281 0.0735 0.0352 0.0627 0.0227 ...\n",
      " $ pred_seg2_rf_ALL    : num  0.02445 0.0258 0.00619 0.05919 0.01638 ...\n"
     ]
    }
   ],
   "source": [
    "str(preds_df)"
   ]
  },
  {
   "cell_type": "code",
   "execution_count": null,
   "metadata": {},
   "outputs": [],
   "source": []
  }
 ],
 "metadata": {
  "environment": {
   "name": "r-cpu.3-6.m48",
   "type": "gcloud",
   "uri": "gcr.io/deeplearning-platform-release/r-cpu.3-6:m48"
  },
  "kernelspec": {
   "display_name": "R",
   "language": "R",
   "name": "ir"
  },
  "language_info": {
   "codemirror_mode": "r",
   "file_extension": ".r",
   "mimetype": "text/x-r-source",
   "name": "R",
   "pygments_lexer": "r",
   "version": "3.6.3"
  }
 },
 "nbformat": 4,
 "nbformat_minor": 4
}
