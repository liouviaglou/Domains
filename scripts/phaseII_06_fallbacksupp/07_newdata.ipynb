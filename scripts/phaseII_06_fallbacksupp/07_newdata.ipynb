{
 "cells": [
  {
   "cell_type": "markdown",
   "metadata": {},
   "source": [
    "# Analyzing Results of Metalearning Predictions script"
   ]
  },
  {
   "cell_type": "code",
   "execution_count": 1,
   "metadata": {},
   "outputs": [],
   "source": [
    "options(repr.matrix.max.cols=50, repr.matrix.max.rows=100)"
   ]
  },
  {
   "cell_type": "code",
   "execution_count": 2,
   "metadata": {},
   "outputs": [],
   "source": [
    "# install.packages(\"pkgcond\")"
   ]
  },
  {
   "cell_type": "code",
   "execution_count": 3,
   "metadata": {},
   "outputs": [
    {
     "name": "stderr",
     "output_type": "stream",
     "text": [
      "Warning message:\n",
      "“replacing previous import ‘vctrs::data_frame’ by ‘tibble::data_frame’ when loading ‘dplyr’”\n",
      "\n",
      "Attaching package: ‘dplyr’\n",
      "\n",
      "\n",
      "The following objects are masked from ‘package:stats’:\n",
      "\n",
      "    filter, lag\n",
      "\n",
      "\n",
      "The following objects are masked from ‘package:base’:\n",
      "\n",
      "    intersect, setdiff, setequal, union\n",
      "\n",
      "\n",
      "\n",
      "Attaching package: ‘data.table’\n",
      "\n",
      "\n",
      "The following objects are masked from ‘package:dplyr’:\n",
      "\n",
      "    between, first, last\n",
      "\n",
      "\n",
      "Loading required package: grid\n",
      "\n",
      "Loading required package: libcoin\n",
      "\n",
      "Loading required package: mvtnorm\n",
      "\n",
      "Loading required package: lattice\n",
      "\n",
      "Loading required package: ggplot2\n",
      "\n",
      "randomForest 4.6-14\n",
      "\n",
      "Type rfNews() to see new features/changes/bug fixes.\n",
      "\n",
      "\n",
      "Attaching package: ‘randomForest’\n",
      "\n",
      "\n",
      "The following object is masked from ‘package:ggplot2’:\n",
      "\n",
      "    margin\n",
      "\n",
      "\n",
      "The following object is masked from ‘package:dplyr’:\n",
      "\n",
      "    combine\n",
      "\n",
      "\n",
      "\n",
      "Attaching package: ‘ranger’\n",
      "\n",
      "\n",
      "The following object is masked from ‘package:randomForest’:\n",
      "\n",
      "    importance\n",
      "\n",
      "\n",
      "\n",
      "Attaching package: ‘plotly’\n",
      "\n",
      "\n",
      "The following object is masked from ‘package:ggplot2’:\n",
      "\n",
      "    last_plot\n",
      "\n",
      "\n",
      "The following object is masked from ‘package:stats’:\n",
      "\n",
      "    filter\n",
      "\n",
      "\n",
      "The following object is masked from ‘package:graphics’:\n",
      "\n",
      "    layout\n",
      "\n",
      "\n",
      "Loading required package: RJSONIO\n",
      "\n",
      "\n",
      "Attaching package: ‘zoo’\n",
      "\n",
      "\n",
      "The following objects are masked from ‘package:base’:\n",
      "\n",
      "    as.Date, as.Date.numeric\n",
      "\n",
      "\n"
     ]
    },
    {
     "data": {
      "text/html": [
       "'/home/jupyter/local/Domains_202003/scripts/phaseII_06_fallbacksupp'"
      ],
      "text/latex": [
       "'/home/jupyter/local/Domains\\_202003/scripts/phaseII\\_06\\_fallbacksupp'"
      ],
      "text/markdown": [
       "'/home/jupyter/local/Domains_202003/scripts/phaseII_06_fallbacksupp'"
      ],
      "text/plain": [
       "[1] \"/home/jupyter/local/Domains_202003/scripts/phaseII_06_fallbacksupp\""
      ]
     },
     "metadata": {},
     "output_type": "display_data"
    }
   ],
   "source": [
    "library(dplyr)\n",
    "library(data.table)\n",
    "library(partykit)\n",
    "library(tictoc)\n",
    "library(caret)\n",
    "library(e1071)\n",
    "library(randomForest)\n",
    "library(ranger)\n",
    "\n",
    "#for 3d plotting\n",
    "library(akima)\n",
    "library(plotly)\n",
    "\n",
    "# for prep data\n",
    "library(rPython)\n",
    "library(stringr)\n",
    "library(pbapply)\n",
    "library(stringdist)\n",
    "library(data.table)\n",
    "library(dominanceanalysis)\n",
    "library(zoo)\n",
    "\n",
    "\n",
    "getwd()"
   ]
  },
  {
   "cell_type": "code",
   "execution_count": 4,
   "metadata": {},
   "outputs": [],
   "source": [
    "\n",
    "source('../orig/functions.R')\n",
    "\n",
    "source('../orig/functions_models.R')\n",
    "\n",
    "source('../phaseII_03_forest/functions_eval.R')\n"
   ]
  },
  {
   "cell_type": "code",
   "execution_count": 5,
   "metadata": {},
   "outputs": [],
   "source": [
    "source('functions_metalearning.R')"
   ]
  },
  {
   "cell_type": "code",
   "execution_count": 33,
   "metadata": {},
   "outputs": [
    {
     "name": "stdout",
     "output_type": "stream",
     "text": [
      "Loading data...Loaded 5427633 rows\n",
      "Removing 0 rows due to expiry_date constraints\n",
      "Removing 4669447 rows due to renewed_count constraints\n",
      "Removing 7716 rows due to missing gibb_score\n",
      "... now dataset min(creation_date) is  2017-01-01 .\n",
      "Removing 410868 rows due to tld pw and in.net\n",
      "Remaining 4250863 rows\n"
     ]
    }
   ],
   "source": [
    "source('load_prep_data_expiry_2.R')\n",
    "\n",
    "# expiry_df\n",
    "# expiry_train_df \n",
    "# expiry_test_df \n",
    "# expiry_list\n",
    "# expiry_train_list\n",
    "# expiry_test_list"
   ]
  },
  {
   "cell_type": "markdown",
   "metadata": {},
   "source": [
    "# LOAD output"
   ]
  },
  {
   "cell_type": "code",
   "execution_count": 7,
   "metadata": {},
   "outputs": [
    {
     "data": {
      "text/html": [
       "<style>\n",
       ".list-inline {list-style: none; margin:0; padding: 0}\n",
       ".list-inline>li {display: inline-block}\n",
       ".list-inline>li:not(:last-child)::after {content: \"\\00b7\"; padding: 0 .5ex}\n",
       "</style>\n",
       "<ol class=list-inline><li>932289</li><li>39</li></ol>\n"
      ],
      "text/latex": [
       "\\begin{enumerate*}\n",
       "\\item 932289\n",
       "\\item 39\n",
       "\\end{enumerate*}\n"
      ],
      "text/markdown": [
       "1. 932289\n",
       "2. 39\n",
       "\n",
       "\n"
      ],
      "text/plain": [
       "[1] 932289     39"
      ]
     },
     "metadata": {},
     "output_type": "display_data"
    },
    {
     "data": {
      "text/html": [
       "<table>\n",
       "<caption>A data.frame: 6 × 39</caption>\n",
       "<thead>\n",
       "\t<tr><th></th><th scope=col>renewal_type</th><th scope=col>renewed_count</th><th scope=col>expiry_date</th><th scope=col>creation_date</th><th scope=col>status</th><th scope=col>domain_id</th><th scope=col>domain</th><th scope=col>registrar</th><th scope=col>reseller</th><th scope=col>reseller_country</th><th scope=col>registrant_country</th><th scope=col>reg_period</th><th scope=col>reg_revenue</th><th scope=col>reg_arpt</th><th scope=col>renew_mbg</th><th scope=col>renewal_item_id</th><th scope=col>renew_type</th><th scope=col>autorenew_type</th><th scope=col>renewal_status</th><th scope=col>renew_date</th><th scope=col>renew_arpt</th><th scope=col>gibb_score</th><th scope=col>pattern</th><th scope=col>pattern_domain_count</th><th scope=col>day_domains</th><th scope=col>sld_length</th><th scope=col>sld_type</th><th scope=col>sld_type2</th><th scope=col>tld</th><th scope=col>log_reg_arpt</th><th scope=col>tld_registrar_index</th><th scope=col>pred_agg_glm_ALL</th><th scope=col>pred_agg_rf_ALL</th><th scope=col>pred_agg_glm</th><th scope=col>pred_agg_rf</th><th scope=col>pred_seg_glm_ALL</th><th scope=col>pred_seg_rf_ALL</th><th scope=col>pred_seg2_glm_ALL</th><th scope=col>pred_seg2_rf_ALL</th></tr>\n",
       "\t<tr><th></th><th scope=col>&lt;fct&gt;</th><th scope=col>&lt;int&gt;</th><th scope=col>&lt;fct&gt;</th><th scope=col>&lt;fct&gt;</th><th scope=col>&lt;fct&gt;</th><th scope=col>&lt;int&gt;</th><th scope=col>&lt;fct&gt;</th><th scope=col>&lt;fct&gt;</th><th scope=col>&lt;fct&gt;</th><th scope=col>&lt;fct&gt;</th><th scope=col>&lt;fct&gt;</th><th scope=col>&lt;int&gt;</th><th scope=col>&lt;dbl&gt;</th><th scope=col>&lt;dbl&gt;</th><th scope=col>&lt;int&gt;</th><th scope=col>&lt;int&gt;</th><th scope=col>&lt;fct&gt;</th><th scope=col>&lt;fct&gt;</th><th scope=col>&lt;fct&gt;</th><th scope=col>&lt;fct&gt;</th><th scope=col>&lt;dbl&gt;</th><th scope=col>&lt;dbl&gt;</th><th scope=col>&lt;fct&gt;</th><th scope=col>&lt;int&gt;</th><th scope=col>&lt;int&gt;</th><th scope=col>&lt;int&gt;</th><th scope=col>&lt;fct&gt;</th><th scope=col>&lt;fct&gt;</th><th scope=col>&lt;fct&gt;</th><th scope=col>&lt;dbl&gt;</th><th scope=col>&lt;fct&gt;</th><th scope=col>&lt;dbl&gt;</th><th scope=col>&lt;dbl&gt;</th><th scope=col>&lt;dbl&gt;</th><th scope=col>&lt;dbl&gt;</th><th scope=col>&lt;dbl&gt;</th><th scope=col>&lt;dbl&gt;</th><th scope=col>&lt;dbl&gt;</th><th scope=col>&lt;dbl&gt;</th></tr>\n",
       "</thead>\n",
       "<tbody>\n",
       "\t<tr><th scope=row>1</th><td>FirstTime</td><td>1</td><td>2019-11-08</td><td>2018-11-08</td><td>Active</td><td>82167309</td><td>viralherbs.pw</td><td>Namecheap</td><td>Namecheap</td><td>United States</td><td>NA</td><td>1</td><td>0.48</td><td>0.48</td><td>0</td><td>248714055</td><td>auto-renewal</td><td>realized  </td><td>Renewed   </td><td>2019-11-08</td><td>7.5</td><td>3.39</td><td>viralhealh</td><td>2</td><td> 576</td><td>10</td><td>l       </td><td>10l       </td><td>pw</td><td>-0.7339692</td><td>pwnamecheap</td><td>0.030</td><td>0.027366883</td><td>0.030</td><td>0.027366883</td><td>0.049</td><td>0.02752752</td><td>0.02812901</td><td>0.024447474</td></tr>\n",
       "\t<tr><th scope=row>2</th><td>FirstTime</td><td>1</td><td>2019-08-05</td><td>2018-08-05</td><td>Active</td><td>73624034</td><td>ww3n.pw      </td><td>Namecheap</td><td>Namecheap</td><td>United States</td><td>NA</td><td>1</td><td>0.48</td><td>0.48</td><td>0</td><td>219523016</td><td>auto-renewal</td><td>unrealized</td><td>Not Renewd</td><td>2019-08-05</td><td>0.0</td><td>0.52</td><td>ww3n      </td><td>1</td><td> 257</td><td> 4</td><td>ln      </td><td>4ln       </td><td>pw</td><td>-0.7339692</td><td>pwnamecheap</td><td>0.024</td><td>0.026322543</td><td>0.024</td><td>0.026322543</td><td>0.062</td><td>0.02930435</td><td>0.07347816</td><td>0.025803420</td></tr>\n",
       "\t<tr><th scope=row>3</th><td>FirstTime</td><td>1</td><td>2019-08-11</td><td>2018-08-11</td><td>Active</td><td>74035654</td><td>dpasseresp.pw</td><td>Namecheap</td><td>Namecheap</td><td>United States</td><td>NA</td><td>1</td><td>0.48</td><td>0.48</td><td>0</td><td>221379481</td><td>auto-renewal</td><td>unrealized</td><td>Not Renewd</td><td>2019-08-11</td><td>7.0</td><td>4.65</td><td>pssders   </td><td>3</td><td> 353</td><td>10</td><td>l       </td><td>10l       </td><td>pw</td><td>-0.7339692</td><td>pwnamecheap</td><td>0.035</td><td>0.006085356</td><td>0.035</td><td>0.006085356</td><td>0.066</td><td>0.01232116</td><td>0.03516253</td><td>0.006186874</td></tr>\n",
       "\t<tr><th scope=row>4</th><td>FirstTime</td><td>1</td><td>2019-07-22</td><td>2018-07-22</td><td>Active</td><td>72660399</td><td>sexgirls.pw  </td><td>Namecheap</td><td>Namecheap</td><td>United States</td><td>NA</td><td>1</td><td>0.48</td><td>0.48</td><td>0</td><td>216639126</td><td>auto-renewal</td><td>unrealized</td><td>Not Renewd</td><td>2019-07-22</td><td>7.0</td><td>1.75</td><td>xgirl     </td><td>2</td><td>  80</td><td> 8</td><td>l       </td><td>8l        </td><td>pw</td><td>-0.7339692</td><td>pwnamecheap</td><td>0.048</td><td>0.080058013</td><td>0.048</td><td>0.080058013</td><td>0.098</td><td>0.06522605</td><td>0.06273875</td><td>0.059190735</td></tr>\n",
       "\t<tr><th scope=row>5</th><td>FirstTime</td><td>1</td><td>2019-07-07</td><td>2018-07-07</td><td>Active</td><td>71566430</td><td>yucief.pw    </td><td>Namecheap</td><td>Namecheap</td><td>United States</td><td>NA</td><td>1</td><td>0.48</td><td>0.48</td><td>0</td><td>213669206</td><td>auto-renewal</td><td>unrealized</td><td>Not Renewd</td><td>2019-07-07</td><td>7.0</td><td>1.52</td><td>cief      </td><td>3</td><td>1147</td><td> 6</td><td>l       </td><td>6l        </td><td>pw</td><td>-0.7339692</td><td>pwnamecheap</td><td>0.017</td><td>0.016695967</td><td>0.017</td><td>0.016695967</td><td>0.023</td><td>0.01608117</td><td>0.02273527</td><td>0.016375413</td></tr>\n",
       "\t<tr><th scope=row>6</th><td>FirstTime</td><td>1</td><td>2019-11-11</td><td>2018-11-11</td><td>Active</td><td>82528489</td><td>bio-x-keto.pw</td><td>Namecheap</td><td>Namecheap</td><td>United States</td><td>NA</td><td>1</td><td>0.48</td><td>0.48</td><td>0</td><td>250798210</td><td>auto-renewal</td><td>unrealized</td><td>Not Renewd</td><td>2019-11-11</td><td>7.5</td><td>2.16</td><td>bio-x-keto</td><td>1</td><td> 687</td><td>10</td><td>hyphen-l</td><td>10hyphen-l</td><td>pw</td><td>-0.7339692</td><td>pwnamecheap</td><td>0.031</td><td>0.009853222</td><td>0.031</td><td>0.009853222</td><td>0.038</td><td>0.01404684</td><td>0.02211356</td><td>0.009443069</td></tr>\n",
       "</tbody>\n",
       "</table>\n"
      ],
      "text/latex": [
       "A data.frame: 6 × 39\n",
       "\\begin{tabular}{r|lllllllllllllllllllllllllllllllllllllll}\n",
       "  & renewal\\_type & renewed\\_count & expiry\\_date & creation\\_date & status & domain\\_id & domain & registrar & reseller & reseller\\_country & registrant\\_country & reg\\_period & reg\\_revenue & reg\\_arpt & renew\\_mbg & renewal\\_item\\_id & renew\\_type & autorenew\\_type & renewal\\_status & renew\\_date & renew\\_arpt & gibb\\_score & pattern & pattern\\_domain\\_count & day\\_domains & sld\\_length & sld\\_type & sld\\_type2 & tld & log\\_reg\\_arpt & tld\\_registrar\\_index & pred\\_agg\\_glm\\_ALL & pred\\_agg\\_rf\\_ALL & pred\\_agg\\_glm & pred\\_agg\\_rf & pred\\_seg\\_glm\\_ALL & pred\\_seg\\_rf\\_ALL & pred\\_seg2\\_glm\\_ALL & pred\\_seg2\\_rf\\_ALL\\\\\n",
       "  & <fct> & <int> & <fct> & <fct> & <fct> & <int> & <fct> & <fct> & <fct> & <fct> & <fct> & <int> & <dbl> & <dbl> & <int> & <int> & <fct> & <fct> & <fct> & <fct> & <dbl> & <dbl> & <fct> & <int> & <int> & <int> & <fct> & <fct> & <fct> & <dbl> & <fct> & <dbl> & <dbl> & <dbl> & <dbl> & <dbl> & <dbl> & <dbl> & <dbl>\\\\\n",
       "\\hline\n",
       "\t1 & FirstTime & 1 & 2019-11-08 & 2018-11-08 & Active & 82167309 & viralherbs.pw & Namecheap & Namecheap & United States & NA & 1 & 0.48 & 0.48 & 0 & 248714055 & auto-renewal & realized   & Renewed    & 2019-11-08 & 7.5 & 3.39 & viralhealh & 2 &  576 & 10 & l        & 10l        & pw & -0.7339692 & pwnamecheap & 0.030 & 0.027366883 & 0.030 & 0.027366883 & 0.049 & 0.02752752 & 0.02812901 & 0.024447474\\\\\n",
       "\t2 & FirstTime & 1 & 2019-08-05 & 2018-08-05 & Active & 73624034 & ww3n.pw       & Namecheap & Namecheap & United States & NA & 1 & 0.48 & 0.48 & 0 & 219523016 & auto-renewal & unrealized & Not Renewd & 2019-08-05 & 0.0 & 0.52 & ww3n       & 1 &  257 &  4 & ln       & 4ln        & pw & -0.7339692 & pwnamecheap & 0.024 & 0.026322543 & 0.024 & 0.026322543 & 0.062 & 0.02930435 & 0.07347816 & 0.025803420\\\\\n",
       "\t3 & FirstTime & 1 & 2019-08-11 & 2018-08-11 & Active & 74035654 & dpasseresp.pw & Namecheap & Namecheap & United States & NA & 1 & 0.48 & 0.48 & 0 & 221379481 & auto-renewal & unrealized & Not Renewd & 2019-08-11 & 7.0 & 4.65 & pssders    & 3 &  353 & 10 & l        & 10l        & pw & -0.7339692 & pwnamecheap & 0.035 & 0.006085356 & 0.035 & 0.006085356 & 0.066 & 0.01232116 & 0.03516253 & 0.006186874\\\\\n",
       "\t4 & FirstTime & 1 & 2019-07-22 & 2018-07-22 & Active & 72660399 & sexgirls.pw   & Namecheap & Namecheap & United States & NA & 1 & 0.48 & 0.48 & 0 & 216639126 & auto-renewal & unrealized & Not Renewd & 2019-07-22 & 7.0 & 1.75 & xgirl      & 2 &   80 &  8 & l        & 8l         & pw & -0.7339692 & pwnamecheap & 0.048 & 0.080058013 & 0.048 & 0.080058013 & 0.098 & 0.06522605 & 0.06273875 & 0.059190735\\\\\n",
       "\t5 & FirstTime & 1 & 2019-07-07 & 2018-07-07 & Active & 71566430 & yucief.pw     & Namecheap & Namecheap & United States & NA & 1 & 0.48 & 0.48 & 0 & 213669206 & auto-renewal & unrealized & Not Renewd & 2019-07-07 & 7.0 & 1.52 & cief       & 3 & 1147 &  6 & l        & 6l         & pw & -0.7339692 & pwnamecheap & 0.017 & 0.016695967 & 0.017 & 0.016695967 & 0.023 & 0.01608117 & 0.02273527 & 0.016375413\\\\\n",
       "\t6 & FirstTime & 1 & 2019-11-11 & 2018-11-11 & Active & 82528489 & bio-x-keto.pw & Namecheap & Namecheap & United States & NA & 1 & 0.48 & 0.48 & 0 & 250798210 & auto-renewal & unrealized & Not Renewd & 2019-11-11 & 7.5 & 2.16 & bio-x-keto & 1 &  687 & 10 & hyphen-l & 10hyphen-l & pw & -0.7339692 & pwnamecheap & 0.031 & 0.009853222 & 0.031 & 0.009853222 & 0.038 & 0.01404684 & 0.02211356 & 0.009443069\\\\\n",
       "\\end{tabular}\n"
      ],
      "text/markdown": [
       "\n",
       "A data.frame: 6 × 39\n",
       "\n",
       "| <!--/--> | renewal_type &lt;fct&gt; | renewed_count &lt;int&gt; | expiry_date &lt;fct&gt; | creation_date &lt;fct&gt; | status &lt;fct&gt; | domain_id &lt;int&gt; | domain &lt;fct&gt; | registrar &lt;fct&gt; | reseller &lt;fct&gt; | reseller_country &lt;fct&gt; | registrant_country &lt;fct&gt; | reg_period &lt;int&gt; | reg_revenue &lt;dbl&gt; | reg_arpt &lt;dbl&gt; | renew_mbg &lt;int&gt; | renewal_item_id &lt;int&gt; | renew_type &lt;fct&gt; | autorenew_type &lt;fct&gt; | renewal_status &lt;fct&gt; | renew_date &lt;fct&gt; | renew_arpt &lt;dbl&gt; | gibb_score &lt;dbl&gt; | pattern &lt;fct&gt; | pattern_domain_count &lt;int&gt; | day_domains &lt;int&gt; | sld_length &lt;int&gt; | sld_type &lt;fct&gt; | sld_type2 &lt;fct&gt; | tld &lt;fct&gt; | log_reg_arpt &lt;dbl&gt; | tld_registrar_index &lt;fct&gt; | pred_agg_glm_ALL &lt;dbl&gt; | pred_agg_rf_ALL &lt;dbl&gt; | pred_agg_glm &lt;dbl&gt; | pred_agg_rf &lt;dbl&gt; | pred_seg_glm_ALL &lt;dbl&gt; | pred_seg_rf_ALL &lt;dbl&gt; | pred_seg2_glm_ALL &lt;dbl&gt; | pred_seg2_rf_ALL &lt;dbl&gt; |\n",
       "|---|---|---|---|---|---|---|---|---|---|---|---|---|---|---|---|---|---|---|---|---|---|---|---|---|---|---|---|---|---|---|---|---|---|---|---|---|---|---|---|\n",
       "| 1 | FirstTime | 1 | 2019-11-08 | 2018-11-08 | Active | 82167309 | viralherbs.pw | Namecheap | Namecheap | United States | NA | 1 | 0.48 | 0.48 | 0 | 248714055 | auto-renewal | realized   | Renewed    | 2019-11-08 | 7.5 | 3.39 | viralhealh | 2 |  576 | 10 | l        | 10l        | pw | -0.7339692 | pwnamecheap | 0.030 | 0.027366883 | 0.030 | 0.027366883 | 0.049 | 0.02752752 | 0.02812901 | 0.024447474 |\n",
       "| 2 | FirstTime | 1 | 2019-08-05 | 2018-08-05 | Active | 73624034 | ww3n.pw       | Namecheap | Namecheap | United States | NA | 1 | 0.48 | 0.48 | 0 | 219523016 | auto-renewal | unrealized | Not Renewd | 2019-08-05 | 0.0 | 0.52 | ww3n       | 1 |  257 |  4 | ln       | 4ln        | pw | -0.7339692 | pwnamecheap | 0.024 | 0.026322543 | 0.024 | 0.026322543 | 0.062 | 0.02930435 | 0.07347816 | 0.025803420 |\n",
       "| 3 | FirstTime | 1 | 2019-08-11 | 2018-08-11 | Active | 74035654 | dpasseresp.pw | Namecheap | Namecheap | United States | NA | 1 | 0.48 | 0.48 | 0 | 221379481 | auto-renewal | unrealized | Not Renewd | 2019-08-11 | 7.0 | 4.65 | pssders    | 3 |  353 | 10 | l        | 10l        | pw | -0.7339692 | pwnamecheap | 0.035 | 0.006085356 | 0.035 | 0.006085356 | 0.066 | 0.01232116 | 0.03516253 | 0.006186874 |\n",
       "| 4 | FirstTime | 1 | 2019-07-22 | 2018-07-22 | Active | 72660399 | sexgirls.pw   | Namecheap | Namecheap | United States | NA | 1 | 0.48 | 0.48 | 0 | 216639126 | auto-renewal | unrealized | Not Renewd | 2019-07-22 | 7.0 | 1.75 | xgirl      | 2 |   80 |  8 | l        | 8l         | pw | -0.7339692 | pwnamecheap | 0.048 | 0.080058013 | 0.048 | 0.080058013 | 0.098 | 0.06522605 | 0.06273875 | 0.059190735 |\n",
       "| 5 | FirstTime | 1 | 2019-07-07 | 2018-07-07 | Active | 71566430 | yucief.pw     | Namecheap | Namecheap | United States | NA | 1 | 0.48 | 0.48 | 0 | 213669206 | auto-renewal | unrealized | Not Renewd | 2019-07-07 | 7.0 | 1.52 | cief       | 3 | 1147 |  6 | l        | 6l         | pw | -0.7339692 | pwnamecheap | 0.017 | 0.016695967 | 0.017 | 0.016695967 | 0.023 | 0.01608117 | 0.02273527 | 0.016375413 |\n",
       "| 6 | FirstTime | 1 | 2019-11-11 | 2018-11-11 | Active | 82528489 | bio-x-keto.pw | Namecheap | Namecheap | United States | NA | 1 | 0.48 | 0.48 | 0 | 250798210 | auto-renewal | unrealized | Not Renewd | 2019-11-11 | 7.5 | 2.16 | bio-x-keto | 1 |  687 | 10 | hyphen-l | 10hyphen-l | pw | -0.7339692 | pwnamecheap | 0.031 | 0.009853222 | 0.031 | 0.009853222 | 0.038 | 0.01404684 | 0.02211356 | 0.009443069 |\n",
       "\n"
      ],
      "text/plain": [
       "  renewal_type renewed_count expiry_date creation_date status domain_id\n",
       "1 FirstTime    1             2019-11-08  2018-11-08    Active 82167309 \n",
       "2 FirstTime    1             2019-08-05  2018-08-05    Active 73624034 \n",
       "3 FirstTime    1             2019-08-11  2018-08-11    Active 74035654 \n",
       "4 FirstTime    1             2019-07-22  2018-07-22    Active 72660399 \n",
       "5 FirstTime    1             2019-07-07  2018-07-07    Active 71566430 \n",
       "6 FirstTime    1             2019-11-11  2018-11-11    Active 82528489 \n",
       "  domain        registrar reseller  reseller_country registrant_country\n",
       "1 viralherbs.pw Namecheap Namecheap United States    NA                \n",
       "2 ww3n.pw       Namecheap Namecheap United States    NA                \n",
       "3 dpasseresp.pw Namecheap Namecheap United States    NA                \n",
       "4 sexgirls.pw   Namecheap Namecheap United States    NA                \n",
       "5 yucief.pw     Namecheap Namecheap United States    NA                \n",
       "6 bio-x-keto.pw Namecheap Namecheap United States    NA                \n",
       "  reg_period reg_revenue reg_arpt renew_mbg renewal_item_id renew_type  \n",
       "1 1          0.48        0.48     0         248714055       auto-renewal\n",
       "2 1          0.48        0.48     0         219523016       auto-renewal\n",
       "3 1          0.48        0.48     0         221379481       auto-renewal\n",
       "4 1          0.48        0.48     0         216639126       auto-renewal\n",
       "5 1          0.48        0.48     0         213669206       auto-renewal\n",
       "6 1          0.48        0.48     0         250798210       auto-renewal\n",
       "  autorenew_type renewal_status renew_date renew_arpt gibb_score pattern   \n",
       "1 realized       Renewed        2019-11-08 7.5        3.39       viralhealh\n",
       "2 unrealized     Not Renewd     2019-08-05 0.0        0.52       ww3n      \n",
       "3 unrealized     Not Renewd     2019-08-11 7.0        4.65       pssders   \n",
       "4 unrealized     Not Renewd     2019-07-22 7.0        1.75       xgirl     \n",
       "5 unrealized     Not Renewd     2019-07-07 7.0        1.52       cief      \n",
       "6 unrealized     Not Renewd     2019-11-11 7.5        2.16       bio-x-keto\n",
       "  pattern_domain_count day_domains sld_length sld_type sld_type2  tld\n",
       "1 2                     576        10         l        10l        pw \n",
       "2 1                     257         4         ln       4ln        pw \n",
       "3 3                     353        10         l        10l        pw \n",
       "4 2                      80         8         l        8l         pw \n",
       "5 3                    1147         6         l        6l         pw \n",
       "6 1                     687        10         hyphen-l 10hyphen-l pw \n",
       "  log_reg_arpt tld_registrar_index pred_agg_glm_ALL pred_agg_rf_ALL\n",
       "1 -0.7339692   pwnamecheap         0.030            0.027366883    \n",
       "2 -0.7339692   pwnamecheap         0.024            0.026322543    \n",
       "3 -0.7339692   pwnamecheap         0.035            0.006085356    \n",
       "4 -0.7339692   pwnamecheap         0.048            0.080058013    \n",
       "5 -0.7339692   pwnamecheap         0.017            0.016695967    \n",
       "6 -0.7339692   pwnamecheap         0.031            0.009853222    \n",
       "  pred_agg_glm pred_agg_rf pred_seg_glm_ALL pred_seg_rf_ALL pred_seg2_glm_ALL\n",
       "1 0.030        0.027366883 0.049            0.02752752      0.02812901       \n",
       "2 0.024        0.026322543 0.062            0.02930435      0.07347816       \n",
       "3 0.035        0.006085356 0.066            0.01232116      0.03516253       \n",
       "4 0.048        0.080058013 0.098            0.06522605      0.06273875       \n",
       "5 0.017        0.016695967 0.023            0.01608117      0.02273527       \n",
       "6 0.031        0.009853222 0.038            0.01404684      0.02211356       \n",
       "  pred_seg2_rf_ALL\n",
       "1 0.024447474     \n",
       "2 0.025803420     \n",
       "3 0.006186874     \n",
       "4 0.059190735     \n",
       "5 0.016375413     \n",
       "6 0.009443069     "
      ]
     },
     "metadata": {},
     "output_type": "display_data"
    }
   ],
   "source": [
    "preds_df <- read.csv('../../data/output/models_20201102/preds.csv')\n",
    "dim(preds_df)\n",
    "head(preds_df)"
   ]
  },
  {
   "cell_type": "markdown",
   "metadata": {},
   "source": [
    "## ensure correct nrow()"
   ]
  },
  {
   "cell_type": "code",
   "execution_count": 12,
   "metadata": {},
   "outputs": [
    {
     "data": {
      "text/html": [
       "<style>\n",
       ".list-inline {list-style: none; margin:0; padding: 0}\n",
       ".list-inline>li {display: inline-block}\n",
       ".list-inline>li:not(:last-child)::after {content: \"\\00b7\"; padding: 0 .5ex}\n",
       "</style>\n",
       "<ol class=list-inline><li>850173</li><li>31</li></ol>\n"
      ],
      "text/latex": [
       "\\begin{enumerate*}\n",
       "\\item 850173\n",
       "\\item 31\n",
       "\\end{enumerate*}\n"
      ],
      "text/markdown": [
       "1. 850173\n",
       "2. 31\n",
       "\n",
       "\n"
      ],
      "text/plain": [
       "[1] 850173     31"
      ]
     },
     "metadata": {},
     "output_type": "display_data"
    }
   ],
   "source": [
    "expiry_test_df %>% dim()"
   ]
  },
  {
   "cell_type": "markdown",
   "metadata": {},
   "source": [
    "### why preds_df has more rows than expiry_test?"
   ]
  },
  {
   "cell_type": "code",
   "execution_count": 34,
   "metadata": {},
   "outputs": [
    {
     "data": {
      "text/html": [
       "932289"
      ],
      "text/latex": [
       "932289"
      ],
      "text/markdown": [
       "932289"
      ],
      "text/plain": [
       "[1] 932289"
      ]
     },
     "metadata": {},
     "output_type": "display_data"
    },
    {
     "data": {
      "text/html": [
       "850173"
      ],
      "text/latex": [
       "850173"
      ],
      "text/markdown": [
       "850173"
      ],
      "text/plain": [
       "[1] 850173"
      ]
     },
     "metadata": {},
     "output_type": "display_data"
    }
   ],
   "source": [
    "# duplicate rows in preds_df? NO\n",
    "preds_domains <- preds_df %>% distinct(domain_id) %>% pull(domain_id) \n",
    "preds_domains %>% length()\n",
    "# duplicate rows in expiry_test_df (not that this would explain it but just checking)? NO\n",
    "test_domains <- expiry_test_df %>% distinct(domain_id) %>% pull(domain_id) \n",
    "test_domains %>% length()"
   ]
  },
  {
   "cell_type": "code",
   "execution_count": 40,
   "metadata": {},
   "outputs": [
    {
     "data": {
      "text/html": [
       "1611423"
      ],
      "text/latex": [
       "1611423"
      ],
      "text/markdown": [
       "1611423"
      ],
      "text/plain": [
       "[1] 1611423"
      ]
     },
     "metadata": {},
     "output_type": "display_data"
    },
    {
     "data": {
      "text/html": [
       "<style>\n",
       ".list-inline {list-style: none; margin:0; padding: 0}\n",
       ".list-inline>li {display: inline-block}\n",
       ".list-inline>li:not(:last-child)::after {content: \"\\00b7\"; padding: 0 .5ex}\n",
       "</style>\n",
       "<ol class=list-inline><li>82167309</li><li>73624034</li><li>74035654</li><li>72660399</li><li>71566430</li><li>82528489</li></ol>\n"
      ],
      "text/latex": [
       "\\begin{enumerate*}\n",
       "\\item 82167309\n",
       "\\item 73624034\n",
       "\\item 74035654\n",
       "\\item 72660399\n",
       "\\item 71566430\n",
       "\\item 82528489\n",
       "\\end{enumerate*}\n"
      ],
      "text/markdown": [
       "1. 82167309\n",
       "2. 73624034\n",
       "3. 74035654\n",
       "4. 72660399\n",
       "5. 71566430\n",
       "6. 82528489\n",
       "\n",
       "\n"
      ],
      "text/plain": [
       "[1] 82167309 73624034 74035654 72660399 71566430 82528489"
      ]
     },
     "metadata": {},
     "output_type": "display_data"
    },
    {
     "data": {
      "text/html": [
       "171039"
      ],
      "text/latex": [
       "171039"
      ],
      "text/markdown": [
       "171039"
      ],
      "text/plain": [
       "[1] 171039"
      ]
     },
     "metadata": {},
     "output_type": "display_data"
    },
    {
     "data": {
      "text/html": [
       "<style>\n",
       ".list-inline {list-style: none; margin:0; padding: 0}\n",
       ".list-inline>li {display: inline-block}\n",
       ".list-inline>li:not(:last-child)::after {content: \"\\00b7\"; padding: 0 .5ex}\n",
       "</style>\n",
       "<ol class=list-inline><li>69863435</li><li>73475179</li><li>73862124</li><li>77368764</li><li>78505714</li><li>76599129</li></ol>\n"
      ],
      "text/latex": [
       "\\begin{enumerate*}\n",
       "\\item 69863435\n",
       "\\item 73475179\n",
       "\\item 73862124\n",
       "\\item 77368764\n",
       "\\item 78505714\n",
       "\\item 76599129\n",
       "\\end{enumerate*}\n"
      ],
      "text/markdown": [
       "1. 69863435\n",
       "2. 73475179\n",
       "3. 73862124\n",
       "4. 77368764\n",
       "5. 78505714\n",
       "6. 76599129\n",
       "\n",
       "\n"
      ],
      "text/plain": [
       "[1] 69863435 73475179 73862124 77368764 78505714 76599129"
      ]
     },
     "metadata": {},
     "output_type": "display_data"
    }
   ],
   "source": [
    "# what are the non-overlapping domain_ids?\n",
    "\n",
    "test_preds_domains_u <- preds_domains %>% union(test_domains)\n",
    "length(test_preds_domains_u)\n",
    "head(test_preds_domains_u)\n",
    "\n",
    "\n",
    "test_preds_domains_i <- preds_domains %>% intersect(test_domains)\n",
    "length(test_preds_domains_i)\n",
    "head(test_preds_domains_i)"
   ]
  },
  {
   "cell_type": "markdown",
   "metadata": {},
   "source": [
    "# ASSESS overall model performance\n",
    "original code in 02_*"
   ]
  },
  {
   "cell_type": "code",
   "execution_count": 43,
   "metadata": {},
   "outputs": [
    {
     "data": {
      "text/html": [
       "<table>\n",
       "<caption>A data.frame: 6 × 39</caption>\n",
       "<thead>\n",
       "\t<tr><th></th><th scope=col>renewal_type</th><th scope=col>renewed_count</th><th scope=col>expiry_date</th><th scope=col>creation_date</th><th scope=col>status</th><th scope=col>domain_id</th><th scope=col>domain</th><th scope=col>registrar</th><th scope=col>reseller</th><th scope=col>reseller_country</th><th scope=col>registrant_country</th><th scope=col>reg_period</th><th scope=col>reg_revenue</th><th scope=col>reg_arpt</th><th scope=col>renew_mbg</th><th scope=col>renewal_item_id</th><th scope=col>renew_type</th><th scope=col>autorenew_type</th><th scope=col>renewal_status</th><th scope=col>renew_date</th><th scope=col>renew_arpt</th><th scope=col>gibb_score</th><th scope=col>pattern</th><th scope=col>pattern_domain_count</th><th scope=col>day_domains</th><th scope=col>sld_length</th><th scope=col>sld_type</th><th scope=col>sld_type2</th><th scope=col>tld</th><th scope=col>log_reg_arpt</th><th scope=col>tld_registrar_index</th><th scope=col>pred_agg_glm_ALL</th><th scope=col>pred_agg_rf_ALL</th><th scope=col>pred_agg_glm</th><th scope=col>pred_agg_rf</th><th scope=col>pred_seg_glm_ALL</th><th scope=col>pred_seg_rf_ALL</th><th scope=col>pred_seg2_glm_ALL</th><th scope=col>pred_seg2_rf_ALL</th></tr>\n",
       "\t<tr><th></th><th scope=col>&lt;fct&gt;</th><th scope=col>&lt;int&gt;</th><th scope=col>&lt;fct&gt;</th><th scope=col>&lt;fct&gt;</th><th scope=col>&lt;fct&gt;</th><th scope=col>&lt;int&gt;</th><th scope=col>&lt;fct&gt;</th><th scope=col>&lt;fct&gt;</th><th scope=col>&lt;fct&gt;</th><th scope=col>&lt;fct&gt;</th><th scope=col>&lt;fct&gt;</th><th scope=col>&lt;int&gt;</th><th scope=col>&lt;dbl&gt;</th><th scope=col>&lt;dbl&gt;</th><th scope=col>&lt;int&gt;</th><th scope=col>&lt;int&gt;</th><th scope=col>&lt;fct&gt;</th><th scope=col>&lt;fct&gt;</th><th scope=col>&lt;fct&gt;</th><th scope=col>&lt;fct&gt;</th><th scope=col>&lt;dbl&gt;</th><th scope=col>&lt;dbl&gt;</th><th scope=col>&lt;fct&gt;</th><th scope=col>&lt;int&gt;</th><th scope=col>&lt;int&gt;</th><th scope=col>&lt;int&gt;</th><th scope=col>&lt;fct&gt;</th><th scope=col>&lt;fct&gt;</th><th scope=col>&lt;fct&gt;</th><th scope=col>&lt;dbl&gt;</th><th scope=col>&lt;fct&gt;</th><th scope=col>&lt;dbl&gt;</th><th scope=col>&lt;dbl&gt;</th><th scope=col>&lt;dbl&gt;</th><th scope=col>&lt;dbl&gt;</th><th scope=col>&lt;dbl&gt;</th><th scope=col>&lt;dbl&gt;</th><th scope=col>&lt;dbl&gt;</th><th scope=col>&lt;dbl&gt;</th></tr>\n",
       "</thead>\n",
       "<tbody>\n",
       "\t<tr><th scope=row>1</th><td>FirstTime</td><td>1</td><td>2019-11-08</td><td>2018-11-08</td><td>Active</td><td>82167309</td><td>viralherbs.pw</td><td>Namecheap</td><td>Namecheap</td><td>United States</td><td>NA</td><td>1</td><td>0.48</td><td>0.48</td><td>0</td><td>248714055</td><td>auto-renewal</td><td>realized  </td><td>Renewed   </td><td>2019-11-08</td><td>7.5</td><td>3.39</td><td>viralhealh</td><td>2</td><td> 576</td><td>10</td><td>l       </td><td>10l       </td><td>pw</td><td>-0.7339692</td><td>pwnamecheap</td><td>0.030</td><td>0.027366883</td><td>0.030</td><td>0.027366883</td><td>0.049</td><td>0.02752752</td><td>0.02812901</td><td>0.024447474</td></tr>\n",
       "\t<tr><th scope=row>2</th><td>FirstTime</td><td>1</td><td>2019-08-05</td><td>2018-08-05</td><td>Active</td><td>73624034</td><td>ww3n.pw      </td><td>Namecheap</td><td>Namecheap</td><td>United States</td><td>NA</td><td>1</td><td>0.48</td><td>0.48</td><td>0</td><td>219523016</td><td>auto-renewal</td><td>unrealized</td><td>Not Renewd</td><td>2019-08-05</td><td>0.0</td><td>0.52</td><td>ww3n      </td><td>1</td><td> 257</td><td> 4</td><td>ln      </td><td>4ln       </td><td>pw</td><td>-0.7339692</td><td>pwnamecheap</td><td>0.024</td><td>0.026322543</td><td>0.024</td><td>0.026322543</td><td>0.062</td><td>0.02930435</td><td>0.07347816</td><td>0.025803420</td></tr>\n",
       "\t<tr><th scope=row>3</th><td>FirstTime</td><td>1</td><td>2019-08-11</td><td>2018-08-11</td><td>Active</td><td>74035654</td><td>dpasseresp.pw</td><td>Namecheap</td><td>Namecheap</td><td>United States</td><td>NA</td><td>1</td><td>0.48</td><td>0.48</td><td>0</td><td>221379481</td><td>auto-renewal</td><td>unrealized</td><td>Not Renewd</td><td>2019-08-11</td><td>7.0</td><td>4.65</td><td>pssders   </td><td>3</td><td> 353</td><td>10</td><td>l       </td><td>10l       </td><td>pw</td><td>-0.7339692</td><td>pwnamecheap</td><td>0.035</td><td>0.006085356</td><td>0.035</td><td>0.006085356</td><td>0.066</td><td>0.01232116</td><td>0.03516253</td><td>0.006186874</td></tr>\n",
       "\t<tr><th scope=row>4</th><td>FirstTime</td><td>1</td><td>2019-07-22</td><td>2018-07-22</td><td>Active</td><td>72660399</td><td>sexgirls.pw  </td><td>Namecheap</td><td>Namecheap</td><td>United States</td><td>NA</td><td>1</td><td>0.48</td><td>0.48</td><td>0</td><td>216639126</td><td>auto-renewal</td><td>unrealized</td><td>Not Renewd</td><td>2019-07-22</td><td>7.0</td><td>1.75</td><td>xgirl     </td><td>2</td><td>  80</td><td> 8</td><td>l       </td><td>8l        </td><td>pw</td><td>-0.7339692</td><td>pwnamecheap</td><td>0.048</td><td>0.080058013</td><td>0.048</td><td>0.080058013</td><td>0.098</td><td>0.06522605</td><td>0.06273875</td><td>0.059190735</td></tr>\n",
       "\t<tr><th scope=row>5</th><td>FirstTime</td><td>1</td><td>2019-07-07</td><td>2018-07-07</td><td>Active</td><td>71566430</td><td>yucief.pw    </td><td>Namecheap</td><td>Namecheap</td><td>United States</td><td>NA</td><td>1</td><td>0.48</td><td>0.48</td><td>0</td><td>213669206</td><td>auto-renewal</td><td>unrealized</td><td>Not Renewd</td><td>2019-07-07</td><td>7.0</td><td>1.52</td><td>cief      </td><td>3</td><td>1147</td><td> 6</td><td>l       </td><td>6l        </td><td>pw</td><td>-0.7339692</td><td>pwnamecheap</td><td>0.017</td><td>0.016695967</td><td>0.017</td><td>0.016695967</td><td>0.023</td><td>0.01608117</td><td>0.02273527</td><td>0.016375413</td></tr>\n",
       "\t<tr><th scope=row>6</th><td>FirstTime</td><td>1</td><td>2019-11-11</td><td>2018-11-11</td><td>Active</td><td>82528489</td><td>bio-x-keto.pw</td><td>Namecheap</td><td>Namecheap</td><td>United States</td><td>NA</td><td>1</td><td>0.48</td><td>0.48</td><td>0</td><td>250798210</td><td>auto-renewal</td><td>unrealized</td><td>Not Renewd</td><td>2019-11-11</td><td>7.5</td><td>2.16</td><td>bio-x-keto</td><td>1</td><td> 687</td><td>10</td><td>hyphen-l</td><td>10hyphen-l</td><td>pw</td><td>-0.7339692</td><td>pwnamecheap</td><td>0.031</td><td>0.009853222</td><td>0.031</td><td>0.009853222</td><td>0.038</td><td>0.01404684</td><td>0.02211356</td><td>0.009443069</td></tr>\n",
       "</tbody>\n",
       "</table>\n"
      ],
      "text/latex": [
       "A data.frame: 6 × 39\n",
       "\\begin{tabular}{r|lllllllllllllllllllllllllllllllllllllll}\n",
       "  & renewal\\_type & renewed\\_count & expiry\\_date & creation\\_date & status & domain\\_id & domain & registrar & reseller & reseller\\_country & registrant\\_country & reg\\_period & reg\\_revenue & reg\\_arpt & renew\\_mbg & renewal\\_item\\_id & renew\\_type & autorenew\\_type & renewal\\_status & renew\\_date & renew\\_arpt & gibb\\_score & pattern & pattern\\_domain\\_count & day\\_domains & sld\\_length & sld\\_type & sld\\_type2 & tld & log\\_reg\\_arpt & tld\\_registrar\\_index & pred\\_agg\\_glm\\_ALL & pred\\_agg\\_rf\\_ALL & pred\\_agg\\_glm & pred\\_agg\\_rf & pred\\_seg\\_glm\\_ALL & pred\\_seg\\_rf\\_ALL & pred\\_seg2\\_glm\\_ALL & pred\\_seg2\\_rf\\_ALL\\\\\n",
       "  & <fct> & <int> & <fct> & <fct> & <fct> & <int> & <fct> & <fct> & <fct> & <fct> & <fct> & <int> & <dbl> & <dbl> & <int> & <int> & <fct> & <fct> & <fct> & <fct> & <dbl> & <dbl> & <fct> & <int> & <int> & <int> & <fct> & <fct> & <fct> & <dbl> & <fct> & <dbl> & <dbl> & <dbl> & <dbl> & <dbl> & <dbl> & <dbl> & <dbl>\\\\\n",
       "\\hline\n",
       "\t1 & FirstTime & 1 & 2019-11-08 & 2018-11-08 & Active & 82167309 & viralherbs.pw & Namecheap & Namecheap & United States & NA & 1 & 0.48 & 0.48 & 0 & 248714055 & auto-renewal & realized   & Renewed    & 2019-11-08 & 7.5 & 3.39 & viralhealh & 2 &  576 & 10 & l        & 10l        & pw & -0.7339692 & pwnamecheap & 0.030 & 0.027366883 & 0.030 & 0.027366883 & 0.049 & 0.02752752 & 0.02812901 & 0.024447474\\\\\n",
       "\t2 & FirstTime & 1 & 2019-08-05 & 2018-08-05 & Active & 73624034 & ww3n.pw       & Namecheap & Namecheap & United States & NA & 1 & 0.48 & 0.48 & 0 & 219523016 & auto-renewal & unrealized & Not Renewd & 2019-08-05 & 0.0 & 0.52 & ww3n       & 1 &  257 &  4 & ln       & 4ln        & pw & -0.7339692 & pwnamecheap & 0.024 & 0.026322543 & 0.024 & 0.026322543 & 0.062 & 0.02930435 & 0.07347816 & 0.025803420\\\\\n",
       "\t3 & FirstTime & 1 & 2019-08-11 & 2018-08-11 & Active & 74035654 & dpasseresp.pw & Namecheap & Namecheap & United States & NA & 1 & 0.48 & 0.48 & 0 & 221379481 & auto-renewal & unrealized & Not Renewd & 2019-08-11 & 7.0 & 4.65 & pssders    & 3 &  353 & 10 & l        & 10l        & pw & -0.7339692 & pwnamecheap & 0.035 & 0.006085356 & 0.035 & 0.006085356 & 0.066 & 0.01232116 & 0.03516253 & 0.006186874\\\\\n",
       "\t4 & FirstTime & 1 & 2019-07-22 & 2018-07-22 & Active & 72660399 & sexgirls.pw   & Namecheap & Namecheap & United States & NA & 1 & 0.48 & 0.48 & 0 & 216639126 & auto-renewal & unrealized & Not Renewd & 2019-07-22 & 7.0 & 1.75 & xgirl      & 2 &   80 &  8 & l        & 8l         & pw & -0.7339692 & pwnamecheap & 0.048 & 0.080058013 & 0.048 & 0.080058013 & 0.098 & 0.06522605 & 0.06273875 & 0.059190735\\\\\n",
       "\t5 & FirstTime & 1 & 2019-07-07 & 2018-07-07 & Active & 71566430 & yucief.pw     & Namecheap & Namecheap & United States & NA & 1 & 0.48 & 0.48 & 0 & 213669206 & auto-renewal & unrealized & Not Renewd & 2019-07-07 & 7.0 & 1.52 & cief       & 3 & 1147 &  6 & l        & 6l         & pw & -0.7339692 & pwnamecheap & 0.017 & 0.016695967 & 0.017 & 0.016695967 & 0.023 & 0.01608117 & 0.02273527 & 0.016375413\\\\\n",
       "\t6 & FirstTime & 1 & 2019-11-11 & 2018-11-11 & Active & 82528489 & bio-x-keto.pw & Namecheap & Namecheap & United States & NA & 1 & 0.48 & 0.48 & 0 & 250798210 & auto-renewal & unrealized & Not Renewd & 2019-11-11 & 7.5 & 2.16 & bio-x-keto & 1 &  687 & 10 & hyphen-l & 10hyphen-l & pw & -0.7339692 & pwnamecheap & 0.031 & 0.009853222 & 0.031 & 0.009853222 & 0.038 & 0.01404684 & 0.02211356 & 0.009443069\\\\\n",
       "\\end{tabular}\n"
      ],
      "text/markdown": [
       "\n",
       "A data.frame: 6 × 39\n",
       "\n",
       "| <!--/--> | renewal_type &lt;fct&gt; | renewed_count &lt;int&gt; | expiry_date &lt;fct&gt; | creation_date &lt;fct&gt; | status &lt;fct&gt; | domain_id &lt;int&gt; | domain &lt;fct&gt; | registrar &lt;fct&gt; | reseller &lt;fct&gt; | reseller_country &lt;fct&gt; | registrant_country &lt;fct&gt; | reg_period &lt;int&gt; | reg_revenue &lt;dbl&gt; | reg_arpt &lt;dbl&gt; | renew_mbg &lt;int&gt; | renewal_item_id &lt;int&gt; | renew_type &lt;fct&gt; | autorenew_type &lt;fct&gt; | renewal_status &lt;fct&gt; | renew_date &lt;fct&gt; | renew_arpt &lt;dbl&gt; | gibb_score &lt;dbl&gt; | pattern &lt;fct&gt; | pattern_domain_count &lt;int&gt; | day_domains &lt;int&gt; | sld_length &lt;int&gt; | sld_type &lt;fct&gt; | sld_type2 &lt;fct&gt; | tld &lt;fct&gt; | log_reg_arpt &lt;dbl&gt; | tld_registrar_index &lt;fct&gt; | pred_agg_glm_ALL &lt;dbl&gt; | pred_agg_rf_ALL &lt;dbl&gt; | pred_agg_glm &lt;dbl&gt; | pred_agg_rf &lt;dbl&gt; | pred_seg_glm_ALL &lt;dbl&gt; | pred_seg_rf_ALL &lt;dbl&gt; | pred_seg2_glm_ALL &lt;dbl&gt; | pred_seg2_rf_ALL &lt;dbl&gt; |\n",
       "|---|---|---|---|---|---|---|---|---|---|---|---|---|---|---|---|---|---|---|---|---|---|---|---|---|---|---|---|---|---|---|---|---|---|---|---|---|---|---|---|\n",
       "| 1 | FirstTime | 1 | 2019-11-08 | 2018-11-08 | Active | 82167309 | viralherbs.pw | Namecheap | Namecheap | United States | NA | 1 | 0.48 | 0.48 | 0 | 248714055 | auto-renewal | realized   | Renewed    | 2019-11-08 | 7.5 | 3.39 | viralhealh | 2 |  576 | 10 | l        | 10l        | pw | -0.7339692 | pwnamecheap | 0.030 | 0.027366883 | 0.030 | 0.027366883 | 0.049 | 0.02752752 | 0.02812901 | 0.024447474 |\n",
       "| 2 | FirstTime | 1 | 2019-08-05 | 2018-08-05 | Active | 73624034 | ww3n.pw       | Namecheap | Namecheap | United States | NA | 1 | 0.48 | 0.48 | 0 | 219523016 | auto-renewal | unrealized | Not Renewd | 2019-08-05 | 0.0 | 0.52 | ww3n       | 1 |  257 |  4 | ln       | 4ln        | pw | -0.7339692 | pwnamecheap | 0.024 | 0.026322543 | 0.024 | 0.026322543 | 0.062 | 0.02930435 | 0.07347816 | 0.025803420 |\n",
       "| 3 | FirstTime | 1 | 2019-08-11 | 2018-08-11 | Active | 74035654 | dpasseresp.pw | Namecheap | Namecheap | United States | NA | 1 | 0.48 | 0.48 | 0 | 221379481 | auto-renewal | unrealized | Not Renewd | 2019-08-11 | 7.0 | 4.65 | pssders    | 3 |  353 | 10 | l        | 10l        | pw | -0.7339692 | pwnamecheap | 0.035 | 0.006085356 | 0.035 | 0.006085356 | 0.066 | 0.01232116 | 0.03516253 | 0.006186874 |\n",
       "| 4 | FirstTime | 1 | 2019-07-22 | 2018-07-22 | Active | 72660399 | sexgirls.pw   | Namecheap | Namecheap | United States | NA | 1 | 0.48 | 0.48 | 0 | 216639126 | auto-renewal | unrealized | Not Renewd | 2019-07-22 | 7.0 | 1.75 | xgirl      | 2 |   80 |  8 | l        | 8l         | pw | -0.7339692 | pwnamecheap | 0.048 | 0.080058013 | 0.048 | 0.080058013 | 0.098 | 0.06522605 | 0.06273875 | 0.059190735 |\n",
       "| 5 | FirstTime | 1 | 2019-07-07 | 2018-07-07 | Active | 71566430 | yucief.pw     | Namecheap | Namecheap | United States | NA | 1 | 0.48 | 0.48 | 0 | 213669206 | auto-renewal | unrealized | Not Renewd | 2019-07-07 | 7.0 | 1.52 | cief       | 3 | 1147 |  6 | l        | 6l         | pw | -0.7339692 | pwnamecheap | 0.017 | 0.016695967 | 0.017 | 0.016695967 | 0.023 | 0.01608117 | 0.02273527 | 0.016375413 |\n",
       "| 6 | FirstTime | 1 | 2019-11-11 | 2018-11-11 | Active | 82528489 | bio-x-keto.pw | Namecheap | Namecheap | United States | NA | 1 | 0.48 | 0.48 | 0 | 250798210 | auto-renewal | unrealized | Not Renewd | 2019-11-11 | 7.5 | 2.16 | bio-x-keto | 1 |  687 | 10 | hyphen-l | 10hyphen-l | pw | -0.7339692 | pwnamecheap | 0.031 | 0.009853222 | 0.031 | 0.009853222 | 0.038 | 0.01404684 | 0.02211356 | 0.009443069 |\n",
       "\n"
      ],
      "text/plain": [
       "  renewal_type renewed_count expiry_date creation_date status domain_id\n",
       "1 FirstTime    1             2019-11-08  2018-11-08    Active 82167309 \n",
       "2 FirstTime    1             2019-08-05  2018-08-05    Active 73624034 \n",
       "3 FirstTime    1             2019-08-11  2018-08-11    Active 74035654 \n",
       "4 FirstTime    1             2019-07-22  2018-07-22    Active 72660399 \n",
       "5 FirstTime    1             2019-07-07  2018-07-07    Active 71566430 \n",
       "6 FirstTime    1             2019-11-11  2018-11-11    Active 82528489 \n",
       "  domain        registrar reseller  reseller_country registrant_country\n",
       "1 viralherbs.pw Namecheap Namecheap United States    NA                \n",
       "2 ww3n.pw       Namecheap Namecheap United States    NA                \n",
       "3 dpasseresp.pw Namecheap Namecheap United States    NA                \n",
       "4 sexgirls.pw   Namecheap Namecheap United States    NA                \n",
       "5 yucief.pw     Namecheap Namecheap United States    NA                \n",
       "6 bio-x-keto.pw Namecheap Namecheap United States    NA                \n",
       "  reg_period reg_revenue reg_arpt renew_mbg renewal_item_id renew_type  \n",
       "1 1          0.48        0.48     0         248714055       auto-renewal\n",
       "2 1          0.48        0.48     0         219523016       auto-renewal\n",
       "3 1          0.48        0.48     0         221379481       auto-renewal\n",
       "4 1          0.48        0.48     0         216639126       auto-renewal\n",
       "5 1          0.48        0.48     0         213669206       auto-renewal\n",
       "6 1          0.48        0.48     0         250798210       auto-renewal\n",
       "  autorenew_type renewal_status renew_date renew_arpt gibb_score pattern   \n",
       "1 realized       Renewed        2019-11-08 7.5        3.39       viralhealh\n",
       "2 unrealized     Not Renewd     2019-08-05 0.0        0.52       ww3n      \n",
       "3 unrealized     Not Renewd     2019-08-11 7.0        4.65       pssders   \n",
       "4 unrealized     Not Renewd     2019-07-22 7.0        1.75       xgirl     \n",
       "5 unrealized     Not Renewd     2019-07-07 7.0        1.52       cief      \n",
       "6 unrealized     Not Renewd     2019-11-11 7.5        2.16       bio-x-keto\n",
       "  pattern_domain_count day_domains sld_length sld_type sld_type2  tld\n",
       "1 2                     576        10         l        10l        pw \n",
       "2 1                     257         4         ln       4ln        pw \n",
       "3 3                     353        10         l        10l        pw \n",
       "4 2                      80         8         l        8l         pw \n",
       "5 3                    1147         6         l        6l         pw \n",
       "6 1                     687        10         hyphen-l 10hyphen-l pw \n",
       "  log_reg_arpt tld_registrar_index pred_agg_glm_ALL pred_agg_rf_ALL\n",
       "1 -0.7339692   pwnamecheap         0.030            0.027366883    \n",
       "2 -0.7339692   pwnamecheap         0.024            0.026322543    \n",
       "3 -0.7339692   pwnamecheap         0.035            0.006085356    \n",
       "4 -0.7339692   pwnamecheap         0.048            0.080058013    \n",
       "5 -0.7339692   pwnamecheap         0.017            0.016695967    \n",
       "6 -0.7339692   pwnamecheap         0.031            0.009853222    \n",
       "  pred_agg_glm pred_agg_rf pred_seg_glm_ALL pred_seg_rf_ALL pred_seg2_glm_ALL\n",
       "1 0.030        0.027366883 0.049            0.02752752      0.02812901       \n",
       "2 0.024        0.026322543 0.062            0.02930435      0.07347816       \n",
       "3 0.035        0.006085356 0.066            0.01232116      0.03516253       \n",
       "4 0.048        0.080058013 0.098            0.06522605      0.06273875       \n",
       "5 0.017        0.016695967 0.023            0.01608117      0.02273527       \n",
       "6 0.031        0.009853222 0.038            0.01404684      0.02211356       \n",
       "  pred_seg2_rf_ALL\n",
       "1 0.024447474     \n",
       "2 0.025803420     \n",
       "3 0.006186874     \n",
       "4 0.059190735     \n",
       "5 0.016375413     \n",
       "6 0.009443069     "
      ]
     },
     "metadata": {},
     "output_type": "display_data"
    }
   ],
   "source": [
    "head(preds_df)"
   ]
  },
  {
   "cell_type": "code",
   "execution_count": 44,
   "metadata": {},
   "outputs": [
    {
     "data": {
      "text/html": [
       "<table>\n",
       "<caption>A data.frame: 6 × 39</caption>\n",
       "<thead>\n",
       "\t<tr><th></th><th scope=col>renewal_type</th><th scope=col>renewed_count</th><th scope=col>expiry_date</th><th scope=col>creation_date</th><th scope=col>status</th><th scope=col>domain_id</th><th scope=col>domain</th><th scope=col>registrar</th><th scope=col>reseller</th><th scope=col>reseller_country</th><th scope=col>registrant_country</th><th scope=col>reg_period</th><th scope=col>reg_revenue</th><th scope=col>reg_arpt</th><th scope=col>renew_mbg</th><th scope=col>renewal_item_id</th><th scope=col>renew_type</th><th scope=col>autorenew_type</th><th scope=col>renewal_status</th><th scope=col>renew_date</th><th scope=col>renew_arpt</th><th scope=col>gibb_score</th><th scope=col>pattern</th><th scope=col>pattern_domain_count</th><th scope=col>day_domains</th><th scope=col>sld_length</th><th scope=col>sld_type</th><th scope=col>sld_type2</th><th scope=col>tld</th><th scope=col>log_reg_arpt</th><th scope=col>tld_registrar_index</th><th scope=col>pred_agg_glm_ALL</th><th scope=col>pred_agg_rf_ALL</th><th scope=col>pred_agg_glm</th><th scope=col>pred_agg_rf</th><th scope=col>pred_seg_glm_ALL</th><th scope=col>pred_seg_rf_ALL</th><th scope=col>pred_seg2_glm_ALL</th><th scope=col>pred_seg2_rf_ALL</th></tr>\n",
       "\t<tr><th></th><th scope=col>&lt;fct&gt;</th><th scope=col>&lt;int&gt;</th><th scope=col>&lt;fct&gt;</th><th scope=col>&lt;fct&gt;</th><th scope=col>&lt;fct&gt;</th><th scope=col>&lt;int&gt;</th><th scope=col>&lt;fct&gt;</th><th scope=col>&lt;fct&gt;</th><th scope=col>&lt;fct&gt;</th><th scope=col>&lt;fct&gt;</th><th scope=col>&lt;fct&gt;</th><th scope=col>&lt;int&gt;</th><th scope=col>&lt;dbl&gt;</th><th scope=col>&lt;dbl&gt;</th><th scope=col>&lt;int&gt;</th><th scope=col>&lt;int&gt;</th><th scope=col>&lt;fct&gt;</th><th scope=col>&lt;fct&gt;</th><th scope=col>&lt;fct&gt;</th><th scope=col>&lt;fct&gt;</th><th scope=col>&lt;dbl&gt;</th><th scope=col>&lt;dbl&gt;</th><th scope=col>&lt;fct&gt;</th><th scope=col>&lt;int&gt;</th><th scope=col>&lt;int&gt;</th><th scope=col>&lt;int&gt;</th><th scope=col>&lt;fct&gt;</th><th scope=col>&lt;fct&gt;</th><th scope=col>&lt;fct&gt;</th><th scope=col>&lt;dbl&gt;</th><th scope=col>&lt;fct&gt;</th><th scope=col>&lt;dbl&gt;</th><th scope=col>&lt;dbl&gt;</th><th scope=col>&lt;dbl&gt;</th><th scope=col>&lt;dbl&gt;</th><th scope=col>&lt;dbl&gt;</th><th scope=col>&lt;dbl&gt;</th><th scope=col>&lt;dbl&gt;</th><th scope=col>&lt;dbl&gt;</th></tr>\n",
       "</thead>\n",
       "<tbody>\n",
       "\t<tr><th scope=row>932284</th><td>FirstTime</td><td>1</td><td>2020-01-26</td><td>2019-01-26</td><td>Active</td><td>91955448</td><td>sunbet37.website</td><td>Zhengzhou Century Connect</td><td>Zhengzhou Century Connect</td><td>China</td><td>NA</td><td>1</td><td>0.75</td><td>0.75</td><td>0</td><td>285802956</td><td>auto-renewal</td><td>unrealized</td><td>Not Renewd</td><td>2020-01-26</td><td>5</td><td>3.35</td><td>sunbet</td><td>50</td><td>50</td><td>8</td><td>ln</td><td>8ln</td><td>website</td><td>-0.2876821</td><td>websitezhengzhou century connect</td><td>NA</td><td>NA</td><td>NA</td><td>NA</td><td>NA</td><td>NA</td><td>NA</td><td>NA</td></tr>\n",
       "\t<tr><th scope=row>932285</th><td>FirstTime</td><td>1</td><td>2020-01-26</td><td>2019-01-26</td><td>Active</td><td>91955298</td><td>sunbet8.website </td><td>Zhengzhou Century Connect</td><td>Zhengzhou Century Connect</td><td>China</td><td>NA</td><td>1</td><td>0.75</td><td>0.75</td><td>0</td><td>285802806</td><td>auto-renewal</td><td>unrealized</td><td>Not Renewd</td><td>2020-01-26</td><td>5</td><td>3.35</td><td>sunbet</td><td>50</td><td>50</td><td>7</td><td>ln</td><td>7ln</td><td>website</td><td>-0.2876821</td><td>websitezhengzhou century connect</td><td>NA</td><td>NA</td><td>NA</td><td>NA</td><td>NA</td><td>NA</td><td>NA</td><td>NA</td></tr>\n",
       "\t<tr><th scope=row>932286</th><td>FirstTime</td><td>1</td><td>2020-01-26</td><td>2019-01-26</td><td>Active</td><td>91955283</td><td>sunbet5.website </td><td>Zhengzhou Century Connect</td><td>Zhengzhou Century Connect</td><td>China</td><td>NA</td><td>1</td><td>0.75</td><td>0.75</td><td>0</td><td>285802796</td><td>auto-renewal</td><td>unrealized</td><td>Not Renewd</td><td>2020-01-26</td><td>5</td><td>3.35</td><td>sunbet</td><td>50</td><td>50</td><td>7</td><td>ln</td><td>7ln</td><td>website</td><td>-0.2876821</td><td>websitezhengzhou century connect</td><td>NA</td><td>NA</td><td>NA</td><td>NA</td><td>NA</td><td>NA</td><td>NA</td><td>NA</td></tr>\n",
       "\t<tr><th scope=row>932287</th><td>FirstTime</td><td>1</td><td>2020-01-26</td><td>2019-01-26</td><td>Active</td><td>91955348</td><td>sunbet17.website</td><td>Zhengzhou Century Connect</td><td>Zhengzhou Century Connect</td><td>China</td><td>NA</td><td>1</td><td>0.75</td><td>0.75</td><td>0</td><td>285802856</td><td>auto-renewal</td><td>unrealized</td><td>Not Renewd</td><td>2020-01-26</td><td>5</td><td>3.35</td><td>sunbet</td><td>50</td><td>50</td><td>8</td><td>ln</td><td>8ln</td><td>website</td><td>-0.2876821</td><td>websitezhengzhou century connect</td><td>NA</td><td>NA</td><td>NA</td><td>NA</td><td>NA</td><td>NA</td><td>NA</td><td>NA</td></tr>\n",
       "\t<tr><th scope=row>932288</th><td>FirstTime</td><td>1</td><td>2020-01-26</td><td>2019-01-26</td><td>Active</td><td>91955473</td><td>sunbet41.website</td><td>Zhengzhou Century Connect</td><td>Zhengzhou Century Connect</td><td>China</td><td>NA</td><td>1</td><td>0.75</td><td>0.75</td><td>0</td><td>285802976</td><td>auto-renewal</td><td>unrealized</td><td>Not Renewd</td><td>2020-01-26</td><td>5</td><td>3.35</td><td>sunbet</td><td>50</td><td>50</td><td>8</td><td>ln</td><td>8ln</td><td>website</td><td>-0.2876821</td><td>websitezhengzhou century connect</td><td>NA</td><td>NA</td><td>NA</td><td>NA</td><td>NA</td><td>NA</td><td>NA</td><td>NA</td></tr>\n",
       "\t<tr><th scope=row>932289</th><td>FirstTime</td><td>1</td><td>2020-01-26</td><td>2019-01-26</td><td>Active</td><td>91955273</td><td>sunbet3.website </td><td>Zhengzhou Century Connect</td><td>Zhengzhou Century Connect</td><td>China</td><td>NA</td><td>1</td><td>0.75</td><td>0.75</td><td>0</td><td>285802786</td><td>auto-renewal</td><td>unrealized</td><td>Not Renewd</td><td>2020-01-26</td><td>5</td><td>3.35</td><td>sunbet</td><td>50</td><td>50</td><td>7</td><td>ln</td><td>7ln</td><td>website</td><td>-0.2876821</td><td>websitezhengzhou century connect</td><td>NA</td><td>NA</td><td>NA</td><td>NA</td><td>NA</td><td>NA</td><td>NA</td><td>NA</td></tr>\n",
       "</tbody>\n",
       "</table>\n"
      ],
      "text/latex": [
       "A data.frame: 6 × 39\n",
       "\\begin{tabular}{r|lllllllllllllllllllllllllllllllllllllll}\n",
       "  & renewal\\_type & renewed\\_count & expiry\\_date & creation\\_date & status & domain\\_id & domain & registrar & reseller & reseller\\_country & registrant\\_country & reg\\_period & reg\\_revenue & reg\\_arpt & renew\\_mbg & renewal\\_item\\_id & renew\\_type & autorenew\\_type & renewal\\_status & renew\\_date & renew\\_arpt & gibb\\_score & pattern & pattern\\_domain\\_count & day\\_domains & sld\\_length & sld\\_type & sld\\_type2 & tld & log\\_reg\\_arpt & tld\\_registrar\\_index & pred\\_agg\\_glm\\_ALL & pred\\_agg\\_rf\\_ALL & pred\\_agg\\_glm & pred\\_agg\\_rf & pred\\_seg\\_glm\\_ALL & pred\\_seg\\_rf\\_ALL & pred\\_seg2\\_glm\\_ALL & pred\\_seg2\\_rf\\_ALL\\\\\n",
       "  & <fct> & <int> & <fct> & <fct> & <fct> & <int> & <fct> & <fct> & <fct> & <fct> & <fct> & <int> & <dbl> & <dbl> & <int> & <int> & <fct> & <fct> & <fct> & <fct> & <dbl> & <dbl> & <fct> & <int> & <int> & <int> & <fct> & <fct> & <fct> & <dbl> & <fct> & <dbl> & <dbl> & <dbl> & <dbl> & <dbl> & <dbl> & <dbl> & <dbl>\\\\\n",
       "\\hline\n",
       "\t932284 & FirstTime & 1 & 2020-01-26 & 2019-01-26 & Active & 91955448 & sunbet37.website & Zhengzhou Century Connect & Zhengzhou Century Connect & China & NA & 1 & 0.75 & 0.75 & 0 & 285802956 & auto-renewal & unrealized & Not Renewd & 2020-01-26 & 5 & 3.35 & sunbet & 50 & 50 & 8 & ln & 8ln & website & -0.2876821 & websitezhengzhou century connect & NA & NA & NA & NA & NA & NA & NA & NA\\\\\n",
       "\t932285 & FirstTime & 1 & 2020-01-26 & 2019-01-26 & Active & 91955298 & sunbet8.website  & Zhengzhou Century Connect & Zhengzhou Century Connect & China & NA & 1 & 0.75 & 0.75 & 0 & 285802806 & auto-renewal & unrealized & Not Renewd & 2020-01-26 & 5 & 3.35 & sunbet & 50 & 50 & 7 & ln & 7ln & website & -0.2876821 & websitezhengzhou century connect & NA & NA & NA & NA & NA & NA & NA & NA\\\\\n",
       "\t932286 & FirstTime & 1 & 2020-01-26 & 2019-01-26 & Active & 91955283 & sunbet5.website  & Zhengzhou Century Connect & Zhengzhou Century Connect & China & NA & 1 & 0.75 & 0.75 & 0 & 285802796 & auto-renewal & unrealized & Not Renewd & 2020-01-26 & 5 & 3.35 & sunbet & 50 & 50 & 7 & ln & 7ln & website & -0.2876821 & websitezhengzhou century connect & NA & NA & NA & NA & NA & NA & NA & NA\\\\\n",
       "\t932287 & FirstTime & 1 & 2020-01-26 & 2019-01-26 & Active & 91955348 & sunbet17.website & Zhengzhou Century Connect & Zhengzhou Century Connect & China & NA & 1 & 0.75 & 0.75 & 0 & 285802856 & auto-renewal & unrealized & Not Renewd & 2020-01-26 & 5 & 3.35 & sunbet & 50 & 50 & 8 & ln & 8ln & website & -0.2876821 & websitezhengzhou century connect & NA & NA & NA & NA & NA & NA & NA & NA\\\\\n",
       "\t932288 & FirstTime & 1 & 2020-01-26 & 2019-01-26 & Active & 91955473 & sunbet41.website & Zhengzhou Century Connect & Zhengzhou Century Connect & China & NA & 1 & 0.75 & 0.75 & 0 & 285802976 & auto-renewal & unrealized & Not Renewd & 2020-01-26 & 5 & 3.35 & sunbet & 50 & 50 & 8 & ln & 8ln & website & -0.2876821 & websitezhengzhou century connect & NA & NA & NA & NA & NA & NA & NA & NA\\\\\n",
       "\t932289 & FirstTime & 1 & 2020-01-26 & 2019-01-26 & Active & 91955273 & sunbet3.website  & Zhengzhou Century Connect & Zhengzhou Century Connect & China & NA & 1 & 0.75 & 0.75 & 0 & 285802786 & auto-renewal & unrealized & Not Renewd & 2020-01-26 & 5 & 3.35 & sunbet & 50 & 50 & 7 & ln & 7ln & website & -0.2876821 & websitezhengzhou century connect & NA & NA & NA & NA & NA & NA & NA & NA\\\\\n",
       "\\end{tabular}\n"
      ],
      "text/markdown": [
       "\n",
       "A data.frame: 6 × 39\n",
       "\n",
       "| <!--/--> | renewal_type &lt;fct&gt; | renewed_count &lt;int&gt; | expiry_date &lt;fct&gt; | creation_date &lt;fct&gt; | status &lt;fct&gt; | domain_id &lt;int&gt; | domain &lt;fct&gt; | registrar &lt;fct&gt; | reseller &lt;fct&gt; | reseller_country &lt;fct&gt; | registrant_country &lt;fct&gt; | reg_period &lt;int&gt; | reg_revenue &lt;dbl&gt; | reg_arpt &lt;dbl&gt; | renew_mbg &lt;int&gt; | renewal_item_id &lt;int&gt; | renew_type &lt;fct&gt; | autorenew_type &lt;fct&gt; | renewal_status &lt;fct&gt; | renew_date &lt;fct&gt; | renew_arpt &lt;dbl&gt; | gibb_score &lt;dbl&gt; | pattern &lt;fct&gt; | pattern_domain_count &lt;int&gt; | day_domains &lt;int&gt; | sld_length &lt;int&gt; | sld_type &lt;fct&gt; | sld_type2 &lt;fct&gt; | tld &lt;fct&gt; | log_reg_arpt &lt;dbl&gt; | tld_registrar_index &lt;fct&gt; | pred_agg_glm_ALL &lt;dbl&gt; | pred_agg_rf_ALL &lt;dbl&gt; | pred_agg_glm &lt;dbl&gt; | pred_agg_rf &lt;dbl&gt; | pred_seg_glm_ALL &lt;dbl&gt; | pred_seg_rf_ALL &lt;dbl&gt; | pred_seg2_glm_ALL &lt;dbl&gt; | pred_seg2_rf_ALL &lt;dbl&gt; |\n",
       "|---|---|---|---|---|---|---|---|---|---|---|---|---|---|---|---|---|---|---|---|---|---|---|---|---|---|---|---|---|---|---|---|---|---|---|---|---|---|---|---|\n",
       "| 932284 | FirstTime | 1 | 2020-01-26 | 2019-01-26 | Active | 91955448 | sunbet37.website | Zhengzhou Century Connect | Zhengzhou Century Connect | China | NA | 1 | 0.75 | 0.75 | 0 | 285802956 | auto-renewal | unrealized | Not Renewd | 2020-01-26 | 5 | 3.35 | sunbet | 50 | 50 | 8 | ln | 8ln | website | -0.2876821 | websitezhengzhou century connect | NA | NA | NA | NA | NA | NA | NA | NA |\n",
       "| 932285 | FirstTime | 1 | 2020-01-26 | 2019-01-26 | Active | 91955298 | sunbet8.website  | Zhengzhou Century Connect | Zhengzhou Century Connect | China | NA | 1 | 0.75 | 0.75 | 0 | 285802806 | auto-renewal | unrealized | Not Renewd | 2020-01-26 | 5 | 3.35 | sunbet | 50 | 50 | 7 | ln | 7ln | website | -0.2876821 | websitezhengzhou century connect | NA | NA | NA | NA | NA | NA | NA | NA |\n",
       "| 932286 | FirstTime | 1 | 2020-01-26 | 2019-01-26 | Active | 91955283 | sunbet5.website  | Zhengzhou Century Connect | Zhengzhou Century Connect | China | NA | 1 | 0.75 | 0.75 | 0 | 285802796 | auto-renewal | unrealized | Not Renewd | 2020-01-26 | 5 | 3.35 | sunbet | 50 | 50 | 7 | ln | 7ln | website | -0.2876821 | websitezhengzhou century connect | NA | NA | NA | NA | NA | NA | NA | NA |\n",
       "| 932287 | FirstTime | 1 | 2020-01-26 | 2019-01-26 | Active | 91955348 | sunbet17.website | Zhengzhou Century Connect | Zhengzhou Century Connect | China | NA | 1 | 0.75 | 0.75 | 0 | 285802856 | auto-renewal | unrealized | Not Renewd | 2020-01-26 | 5 | 3.35 | sunbet | 50 | 50 | 8 | ln | 8ln | website | -0.2876821 | websitezhengzhou century connect | NA | NA | NA | NA | NA | NA | NA | NA |\n",
       "| 932288 | FirstTime | 1 | 2020-01-26 | 2019-01-26 | Active | 91955473 | sunbet41.website | Zhengzhou Century Connect | Zhengzhou Century Connect | China | NA | 1 | 0.75 | 0.75 | 0 | 285802976 | auto-renewal | unrealized | Not Renewd | 2020-01-26 | 5 | 3.35 | sunbet | 50 | 50 | 8 | ln | 8ln | website | -0.2876821 | websitezhengzhou century connect | NA | NA | NA | NA | NA | NA | NA | NA |\n",
       "| 932289 | FirstTime | 1 | 2020-01-26 | 2019-01-26 | Active | 91955273 | sunbet3.website  | Zhengzhou Century Connect | Zhengzhou Century Connect | China | NA | 1 | 0.75 | 0.75 | 0 | 285802786 | auto-renewal | unrealized | Not Renewd | 2020-01-26 | 5 | 3.35 | sunbet | 50 | 50 | 7 | ln | 7ln | website | -0.2876821 | websitezhengzhou century connect | NA | NA | NA | NA | NA | NA | NA | NA |\n",
       "\n"
      ],
      "text/plain": [
       "       renewal_type renewed_count expiry_date creation_date status domain_id\n",
       "932284 FirstTime    1             2020-01-26  2019-01-26    Active 91955448 \n",
       "932285 FirstTime    1             2020-01-26  2019-01-26    Active 91955298 \n",
       "932286 FirstTime    1             2020-01-26  2019-01-26    Active 91955283 \n",
       "932287 FirstTime    1             2020-01-26  2019-01-26    Active 91955348 \n",
       "932288 FirstTime    1             2020-01-26  2019-01-26    Active 91955473 \n",
       "932289 FirstTime    1             2020-01-26  2019-01-26    Active 91955273 \n",
       "       domain           registrar                 reseller                 \n",
       "932284 sunbet37.website Zhengzhou Century Connect Zhengzhou Century Connect\n",
       "932285 sunbet8.website  Zhengzhou Century Connect Zhengzhou Century Connect\n",
       "932286 sunbet5.website  Zhengzhou Century Connect Zhengzhou Century Connect\n",
       "932287 sunbet17.website Zhengzhou Century Connect Zhengzhou Century Connect\n",
       "932288 sunbet41.website Zhengzhou Century Connect Zhengzhou Century Connect\n",
       "932289 sunbet3.website  Zhengzhou Century Connect Zhengzhou Century Connect\n",
       "       reseller_country registrant_country reg_period reg_revenue reg_arpt\n",
       "932284 China            NA                 1          0.75        0.75    \n",
       "932285 China            NA                 1          0.75        0.75    \n",
       "932286 China            NA                 1          0.75        0.75    \n",
       "932287 China            NA                 1          0.75        0.75    \n",
       "932288 China            NA                 1          0.75        0.75    \n",
       "932289 China            NA                 1          0.75        0.75    \n",
       "       renew_mbg renewal_item_id renew_type   autorenew_type renewal_status\n",
       "932284 0         285802956       auto-renewal unrealized     Not Renewd    \n",
       "932285 0         285802806       auto-renewal unrealized     Not Renewd    \n",
       "932286 0         285802796       auto-renewal unrealized     Not Renewd    \n",
       "932287 0         285802856       auto-renewal unrealized     Not Renewd    \n",
       "932288 0         285802976       auto-renewal unrealized     Not Renewd    \n",
       "932289 0         285802786       auto-renewal unrealized     Not Renewd    \n",
       "       renew_date renew_arpt gibb_score pattern pattern_domain_count\n",
       "932284 2020-01-26 5          3.35       sunbet  50                  \n",
       "932285 2020-01-26 5          3.35       sunbet  50                  \n",
       "932286 2020-01-26 5          3.35       sunbet  50                  \n",
       "932287 2020-01-26 5          3.35       sunbet  50                  \n",
       "932288 2020-01-26 5          3.35       sunbet  50                  \n",
       "932289 2020-01-26 5          3.35       sunbet  50                  \n",
       "       day_domains sld_length sld_type sld_type2 tld     log_reg_arpt\n",
       "932284 50          8          ln       8ln       website -0.2876821  \n",
       "932285 50          7          ln       7ln       website -0.2876821  \n",
       "932286 50          7          ln       7ln       website -0.2876821  \n",
       "932287 50          8          ln       8ln       website -0.2876821  \n",
       "932288 50          8          ln       8ln       website -0.2876821  \n",
       "932289 50          7          ln       7ln       website -0.2876821  \n",
       "       tld_registrar_index              pred_agg_glm_ALL pred_agg_rf_ALL\n",
       "932284 websitezhengzhou century connect NA               NA             \n",
       "932285 websitezhengzhou century connect NA               NA             \n",
       "932286 websitezhengzhou century connect NA               NA             \n",
       "932287 websitezhengzhou century connect NA               NA             \n",
       "932288 websitezhengzhou century connect NA               NA             \n",
       "932289 websitezhengzhou century connect NA               NA             \n",
       "       pred_agg_glm pred_agg_rf pred_seg_glm_ALL pred_seg_rf_ALL\n",
       "932284 NA           NA          NA               NA             \n",
       "932285 NA           NA          NA               NA             \n",
       "932286 NA           NA          NA               NA             \n",
       "932287 NA           NA          NA               NA             \n",
       "932288 NA           NA          NA               NA             \n",
       "932289 NA           NA          NA               NA             \n",
       "       pred_seg2_glm_ALL pred_seg2_rf_ALL\n",
       "932284 NA                NA              \n",
       "932285 NA                NA              \n",
       "932286 NA                NA              \n",
       "932287 NA                NA              \n",
       "932288 NA                NA              \n",
       "932289 NA                NA              "
      ]
     },
     "metadata": {},
     "output_type": "display_data"
    }
   ],
   "source": [
    "tail(preds_df)"
   ]
  },
  {
   "cell_type": "code",
   "execution_count": 46,
   "metadata": {},
   "outputs": [
    {
     "data": {
      "text/html": [
       "28991"
      ],
      "text/latex": [
       "28991"
      ],
      "text/markdown": [
       "28991"
      ],
      "text/plain": [
       "[1] 28991"
      ]
     },
     "metadata": {},
     "output_type": "display_data"
    }
   ],
   "source": [
    "preds_df %>% filter(is.na(pred_agg_glm_ALL)) %>% nrow()"
   ]
  },
  {
   "cell_type": "code",
   "execution_count": 48,
   "metadata": {},
   "outputs": [],
   "source": [
    "\n",
    "lift_list <- list()\n",
    "auc_list <- list()\n",
    "\n",
    "fallback_lift <- chart_lift(pred_df=preds_df,\n",
    "                        dep_var = \"renewal_status\",\n",
    "                        pred_var = \"pred_agg_glm_ALL\") \n",
    "\n",
    "lift_list[[\"fallback\"]] <- fallback_lift\n",
    "auc_list[[\"fallback\"]] <- calc_auc(lift_df=fallback_lift)\n",
    "\n",
    "models <- c('pred_agg_glm_ALL','pred_agg_rf_ALL','pred_agg_glm','pred_agg_rf',\n",
    "            'pred_seg_glm_ALL', 'pred_seg_rf_ALL','pred_seg2_glm_ALL','pred_seg2_rf_ALL')\n",
    "\n",
    "\n",
    "for (model in models){\n",
    "    model_lift <- chart_lift(pred_df=preds_df,\n",
    "                        dep_var = \"renewal_status\",\n",
    "                        pred_var = model) \n",
    "    \n",
    "    fallback_lift <- merge(fallback_lift, model_lift, by=c(\"P\"),all= TRUE, \n",
    "                           suffixes = c(\"\",\n",
    "                                        paste(\"_\",gsub(\"pred_df_\", \"\", model)) ))\n",
    "    \n",
    "    lift_list[[model]] <- model_lift\n",
    "    auc_list[[model]] <- calc_auc(lift_df=model_lift)\n",
    "}\n",
    "\n",
    "lift_df <- fallback_lift"
   ]
  },
  {
   "cell_type": "code",
   "execution_count": 50,
   "metadata": {},
   "outputs": [
    {
     "data": {
      "text/html": [
       "9"
      ],
      "text/latex": [
       "9"
      ],
      "text/markdown": [
       "9"
      ],
      "text/plain": [
       "[1] 9"
      ]
     },
     "metadata": {},
     "output_type": "display_data"
    },
    {
     "data": {
      "text/html": [
       "<style>\n",
       ".list-inline {list-style: none; margin:0; padding: 0}\n",
       ".list-inline>li {display: inline-block}\n",
       ".list-inline>li:not(:last-child)::after {content: \"\\00b7\"; padding: 0 .5ex}\n",
       "</style>\n",
       "<ol class=list-inline><li>'fallback'</li><li>'pred_agg_glm_ALL'</li><li>'pred_agg_rf_ALL'</li><li>'pred_agg_glm'</li><li>'pred_agg_rf'</li><li>'pred_seg_glm_ALL'</li><li>'pred_seg_rf_ALL'</li><li>'pred_seg2_glm_ALL'</li><li>'pred_seg2_rf_ALL'</li></ol>\n"
      ],
      "text/latex": [
       "\\begin{enumerate*}\n",
       "\\item 'fallback'\n",
       "\\item 'pred\\_agg\\_glm\\_ALL'\n",
       "\\item 'pred\\_agg\\_rf\\_ALL'\n",
       "\\item 'pred\\_agg\\_glm'\n",
       "\\item 'pred\\_agg\\_rf'\n",
       "\\item 'pred\\_seg\\_glm\\_ALL'\n",
       "\\item 'pred\\_seg\\_rf\\_ALL'\n",
       "\\item 'pred\\_seg2\\_glm\\_ALL'\n",
       "\\item 'pred\\_seg2\\_rf\\_ALL'\n",
       "\\end{enumerate*}\n"
      ],
      "text/markdown": [
       "1. 'fallback'\n",
       "2. 'pred_agg_glm_ALL'\n",
       "3. 'pred_agg_rf_ALL'\n",
       "4. 'pred_agg_glm'\n",
       "5. 'pred_agg_rf'\n",
       "6. 'pred_seg_glm_ALL'\n",
       "7. 'pred_seg_rf_ALL'\n",
       "8. 'pred_seg2_glm_ALL'\n",
       "9. 'pred_seg2_rf_ALL'\n",
       "\n",
       "\n"
      ],
      "text/plain": [
       "[1] \"fallback\"          \"pred_agg_glm_ALL\"  \"pred_agg_rf_ALL\"  \n",
       "[4] \"pred_agg_glm\"      \"pred_agg_rf\"       \"pred_seg_glm_ALL\" \n",
       "[7] \"pred_seg_rf_ALL\"   \"pred_seg2_glm_ALL\" \"pred_seg2_rf_ALL\" "
      ]
     },
     "metadata": {},
     "output_type": "display_data"
    },
    {
     "data": {
      "text/html": [
       "<table>\n",
       "<caption>A matrix: 2 × 9 of type int</caption>\n",
       "<thead>\n",
       "\t<tr><th scope=col>fallback</th><th scope=col>pred_agg_glm_ALL</th><th scope=col>pred_agg_rf_ALL</th><th scope=col>pred_agg_glm</th><th scope=col>pred_agg_rf</th><th scope=col>pred_seg_glm_ALL</th><th scope=col>pred_seg_rf_ALL</th><th scope=col>pred_seg2_glm_ALL</th><th scope=col>pred_seg2_rf_ALL</th></tr>\n",
       "</thead>\n",
       "<tbody>\n",
       "\t<tr><td>10</td><td>10</td><td>10</td><td>10</td><td>10</td><td>10</td><td>10</td><td>10</td><td>10</td></tr>\n",
       "\t<tr><td> 4</td><td> 4</td><td> 4</td><td> 4</td><td> 4</td><td> 4</td><td> 4</td><td> 4</td><td> 4</td></tr>\n",
       "</tbody>\n",
       "</table>\n"
      ],
      "text/latex": [
       "A matrix: 2 × 9 of type int\n",
       "\\begin{tabular}{lllllllll}\n",
       " fallback & pred\\_agg\\_glm\\_ALL & pred\\_agg\\_rf\\_ALL & pred\\_agg\\_glm & pred\\_agg\\_rf & pred\\_seg\\_glm\\_ALL & pred\\_seg\\_rf\\_ALL & pred\\_seg2\\_glm\\_ALL & pred\\_seg2\\_rf\\_ALL\\\\\n",
       "\\hline\n",
       "\t 10 & 10 & 10 & 10 & 10 & 10 & 10 & 10 & 10\\\\\n",
       "\t  4 &  4 &  4 &  4 &  4 &  4 &  4 &  4 &  4\\\\\n",
       "\\end{tabular}\n"
      ],
      "text/markdown": [
       "\n",
       "A matrix: 2 × 9 of type int\n",
       "\n",
       "| fallback | pred_agg_glm_ALL | pred_agg_rf_ALL | pred_agg_glm | pred_agg_rf | pred_seg_glm_ALL | pred_seg_rf_ALL | pred_seg2_glm_ALL | pred_seg2_rf_ALL |\n",
       "|---|---|---|---|---|---|---|---|---|\n",
       "| 10 | 10 | 10 | 10 | 10 | 10 | 10 | 10 | 10 |\n",
       "|  4 |  4 |  4 |  4 |  4 |  4 |  4 |  4 |  4 |\n",
       "\n"
      ],
      "text/plain": [
       "     fallback pred_agg_glm_ALL pred_agg_rf_ALL pred_agg_glm pred_agg_rf\n",
       "[1,] 10       10               10              10           10         \n",
       "[2,]  4        4                4               4            4         \n",
       "     pred_seg_glm_ALL pred_seg_rf_ALL pred_seg2_glm_ALL pred_seg2_rf_ALL\n",
       "[1,] 10               10              10                10              \n",
       "[2,]  4                4               4                 4              "
      ]
     },
     "metadata": {},
     "output_type": "display_data"
    },
    {
     "data": {
      "text/html": [
       "<strong>$pred_agg_glm_ALL</strong> = <table>\n",
       "<caption>A data.frame: 10 × 4</caption>\n",
       "<thead>\n",
       "\t<tr><th scope=col>P</th><th scope=col>actu_renwd2</th><th scope=col>gain</th><th scope=col>lift</th></tr>\n",
       "\t<tr><th scope=col>&lt;dbl&gt;</th><th scope=col>&lt;int&gt;</th><th scope=col>&lt;dbl&gt;</th><th scope=col>&lt;dbl&gt;</th></tr>\n",
       "</thead>\n",
       "<tbody>\n",
       "\t<tr><td>0.1</td><td>34965</td><td>0.4197832</td><td>4.1978318</td></tr>\n",
       "\t<tr><td>0.2</td><td>50334</td><td>0.6043005</td><td>3.0215024</td></tr>\n",
       "\t<tr><td>0.3</td><td>59801</td><td>0.7179595</td><td>2.3931983</td></tr>\n",
       "\t<tr><td>0.4</td><td>65559</td><td>0.7870890</td><td>1.9677224</td></tr>\n",
       "\t<tr><td>0.5</td><td>69392</td><td>0.8331072</td><td>1.6662144</td></tr>\n",
       "\t<tr><td>0.6</td><td>71948</td><td>0.8637941</td><td>1.4396568</td></tr>\n",
       "\t<tr><td>0.7</td><td>73427</td><td>0.8815507</td><td>1.2593581</td></tr>\n",
       "\t<tr><td>0.8</td><td>74038</td><td>0.8888862</td><td>1.1111078</td></tr>\n",
       "\t<tr><td>0.9</td><td>74226</td><td>0.8911433</td><td>0.9901592</td></tr>\n",
       "\t<tr><td>1.0</td><td>83293</td><td>1.0000000</td><td>1.0000000</td></tr>\n",
       "</tbody>\n",
       "</table>\n"
      ],
      "text/latex": [
       "\\textbf{\\$pred\\_agg\\_glm\\_ALL} = A data.frame: 10 × 4\n",
       "\\begin{tabular}{llll}\n",
       " P & actu\\_renwd2 & gain & lift\\\\\n",
       " <dbl> & <int> & <dbl> & <dbl>\\\\\n",
       "\\hline\n",
       "\t 0.1 & 34965 & 0.4197832 & 4.1978318\\\\\n",
       "\t 0.2 & 50334 & 0.6043005 & 3.0215024\\\\\n",
       "\t 0.3 & 59801 & 0.7179595 & 2.3931983\\\\\n",
       "\t 0.4 & 65559 & 0.7870890 & 1.9677224\\\\\n",
       "\t 0.5 & 69392 & 0.8331072 & 1.6662144\\\\\n",
       "\t 0.6 & 71948 & 0.8637941 & 1.4396568\\\\\n",
       "\t 0.7 & 73427 & 0.8815507 & 1.2593581\\\\\n",
       "\t 0.8 & 74038 & 0.8888862 & 1.1111078\\\\\n",
       "\t 0.9 & 74226 & 0.8911433 & 0.9901592\\\\\n",
       "\t 1.0 & 83293 & 1.0000000 & 1.0000000\\\\\n",
       "\\end{tabular}\n"
      ],
      "text/markdown": [
       "**$pred_agg_glm_ALL** = \n",
       "A data.frame: 10 × 4\n",
       "\n",
       "| P &lt;dbl&gt; | actu_renwd2 &lt;int&gt; | gain &lt;dbl&gt; | lift &lt;dbl&gt; |\n",
       "|---|---|---|---|\n",
       "| 0.1 | 34965 | 0.4197832 | 4.1978318 |\n",
       "| 0.2 | 50334 | 0.6043005 | 3.0215024 |\n",
       "| 0.3 | 59801 | 0.7179595 | 2.3931983 |\n",
       "| 0.4 | 65559 | 0.7870890 | 1.9677224 |\n",
       "| 0.5 | 69392 | 0.8331072 | 1.6662144 |\n",
       "| 0.6 | 71948 | 0.8637941 | 1.4396568 |\n",
       "| 0.7 | 73427 | 0.8815507 | 1.2593581 |\n",
       "| 0.8 | 74038 | 0.8888862 | 1.1111078 |\n",
       "| 0.9 | 74226 | 0.8911433 | 0.9901592 |\n",
       "| 1.0 | 83293 | 1.0000000 | 1.0000000 |\n",
       "\n"
      ],
      "text/plain": [
       "$pred_agg_glm_ALL\n",
       "     P actu_renwd2      gain      lift\n",
       "1  0.1       34965 0.4197832 4.1978318\n",
       "2  0.2       50334 0.6043005 3.0215024\n",
       "3  0.3       59801 0.7179595 2.3931983\n",
       "4  0.4       65559 0.7870890 1.9677224\n",
       "5  0.5       69392 0.8331072 1.6662144\n",
       "6  0.6       71948 0.8637941 1.4396568\n",
       "7  0.7       73427 0.8815507 1.2593581\n",
       "8  0.8       74038 0.8888862 1.1111078\n",
       "9  0.9       74226 0.8911433 0.9901592\n",
       "10 1.0       83293 1.0000000 1.0000000\n"
      ]
     },
     "metadata": {},
     "output_type": "display_data"
    }
   ],
   "source": [
    "length(lift_list)\n",
    "names(lift_list)\n",
    "sapply(lift_list, dim)\n",
    "lift_list[\"pred_agg_glm_ALL\"]"
   ]
  },
  {
   "cell_type": "code",
   "execution_count": 54,
   "metadata": {},
   "outputs": [],
   "source": [
    "lift_list[[1]] <- NULL\n",
    "auc_list[[1]] <- NULL"
   ]
  },
  {
   "cell_type": "code",
   "execution_count": 51,
   "metadata": {},
   "outputs": [
    {
     "data": {
      "text/plain": [
       "\n",
       "Not Renewd    Renewed \n",
       "0.90510755 0.09489245 "
      ]
     },
     "metadata": {},
     "output_type": "display_data"
    }
   ],
   "source": [
    "prop.table(table(expiry_test_df$renewal_status))"
   ]
  },
  {
   "cell_type": "code",
   "execution_count": 57,
   "metadata": {},
   "outputs": [],
   "source": [
    "plot_multigains <- function (lift_df_list=list(seg_glm = lift_df, \n",
    "                                               ben_dtr = lift_df_2),\n",
    "                             auc_list = list(seg_glm = auc, \n",
    "                                             ben_dtr=auc_2),\n",
    "                             prop_positive = 0.1121167) {\n",
    "  \n",
    "  optimal_df <- data.frame( \"P\"=c(0,prop_positive,1.0),\n",
    "                            \"actu_renwd2\"=c(NA,NA,NA),\n",
    "                            \"gain\"=c(0,1.0,1.0),\n",
    "                            \"lift\"=c(NA,NA,NA))\n",
    "  \n",
    "  lift_df_list <- lapply(lift_df_list, function(df) {\n",
    "    df <- df %>%\n",
    "      add_row(P = 0, gain =0) %>%\n",
    "      arrange(P)\n",
    "  })\n",
    "\n",
    "  auc_lift_list = paste(lapply(auc_list, round, 3),sapply(lift_df_list, function(x) round(x[2,\"lift\"],2)), sep=\", \")\n",
    "  \n",
    "  auc_map = paste(names(lift_df_list),auc_lift_list, sep=\" = \")[1:length(lift_df_list)]\n",
    "  \n",
    "  \n",
    "  gains_plot <- ggplot(NULL, aes(P,  gain)) +\n",
    "    geom_line(data = lift_df_list[[1]] %>% slice(1, n())) +\n",
    "    \n",
    "    list(geom_line(data=optimal_df), geom_point(data=optimal_df)) +\n",
    "    \n",
    "    scale_y_continuous(breaks = seq(0, 1, by = .1), limits = c(0,1)) +\n",
    "    scale_x_continuous(breaks = seq(0, 1, by = .1)) +\n",
    "    labs(title = \"Cumulative Gains Plot\",\n",
    "         y = \"Cumulative Gain\",\n",
    "         x = \"Percentile\")+\n",
    "    theme(text = element_text(size=20))\n",
    "  \n",
    "  for(i in seq(length(lift_df_list))){\n",
    "    name = names(lift_df_list)[[i]]\n",
    "    df = lift_df_list[[i]]\n",
    "    auc = auc_list[[i]]\n",
    "    gains_plot <- gains_plot + list(geom_line(data=df), \n",
    "                                    geom_point(data=df))+ \n",
    "      annotate(\"text\", x = .35, y = .75-i*.075, hjust = 0, label = auc_map[[i]], size = 6)\n",
    "  }\n",
    "  \n",
    "  \n",
    "  return(gains_plot)\n",
    "}\n"
   ]
  },
  {
   "cell_type": "code",
   "execution_count": 58,
   "metadata": {},
   "outputs": [
    {
     "data": {
      "image/png": "[encoded data removed]",
      "text/plain": [
       "plot without title"
      ]
     },
     "metadata": {
      "image/png": {
       "height": 420,
       "width": 420
      },
      "text/plain": {
       "height": 420,
       "width": 420
      }
     },
     "output_type": "display_data"
    }
   ],
   "source": [
    "plot_multigains(            lift_df_list=lift_list,\n",
    "                             auc_list = auc_list,\n",
    "                             prop_positive = 0.09489245) "
   ]
  },
  {
   "cell_type": "code",
   "execution_count": 63,
   "metadata": {},
   "outputs": [
    {
     "data": {
      "text/html": [
       "<table>\n",
       "<caption>A matrix: 8 × 1 of type dbl</caption>\n",
       "<tbody>\n",
       "\t<tr><th scope=row>lift_ pred_agg_glm_ALL</th><td>4.197832</td></tr>\n",
       "\t<tr><th scope=row>lift_ pred_agg_rf_ALL</th><td>4.780354</td></tr>\n",
       "\t<tr><th scope=row>lift_ pred_agg_glm</th><td>4.197832</td></tr>\n",
       "\t<tr><th scope=row>lift_ pred_agg_rf</th><td>4.780354</td></tr>\n",
       "\t<tr><th scope=row>lift_ pred_seg_glm_ALL</th><td>4.205035</td></tr>\n",
       "\t<tr><th scope=row>lift_ pred_seg_rf_ALL</th><td>4.806646</td></tr>\n",
       "\t<tr><th scope=row>lift_ pred_seg2_glm_ALL</th><td>4.456197</td></tr>\n",
       "\t<tr><th scope=row>lift_ pred_seg2_rf_ALL</th><td>4.791879</td></tr>\n",
       "</tbody>\n",
       "</table>\n"
      ],
      "text/latex": [
       "A matrix: 8 × 1 of type dbl\n",
       "\\begin{tabular}{r|l}\n",
       "\tlift\\_ pred\\_agg\\_glm\\_ALL & 4.197832\\\\\n",
       "\tlift\\_ pred\\_agg\\_rf\\_ALL & 4.780354\\\\\n",
       "\tlift\\_ pred\\_agg\\_glm & 4.197832\\\\\n",
       "\tlift\\_ pred\\_agg\\_rf & 4.780354\\\\\n",
       "\tlift\\_ pred\\_seg\\_glm\\_ALL & 4.205035\\\\\n",
       "\tlift\\_ pred\\_seg\\_rf\\_ALL & 4.806646\\\\\n",
       "\tlift\\_ pred\\_seg2\\_glm\\_ALL & 4.456197\\\\\n",
       "\tlift\\_ pred\\_seg2\\_rf\\_ALL & 4.791879\\\\\n",
       "\\end{tabular}\n"
      ],
      "text/markdown": [
       "\n",
       "A matrix: 8 × 1 of type dbl\n",
       "\n",
       "| lift_ pred_agg_glm_ALL | 4.197832 |\n",
       "| lift_ pred_agg_rf_ALL | 4.780354 |\n",
       "| lift_ pred_agg_glm | 4.197832 |\n",
       "| lift_ pred_agg_rf | 4.780354 |\n",
       "| lift_ pred_seg_glm_ALL | 4.205035 |\n",
       "| lift_ pred_seg_rf_ALL | 4.806646 |\n",
       "| lift_ pred_seg2_glm_ALL | 4.456197 |\n",
       "| lift_ pred_seg2_rf_ALL | 4.791879 |\n",
       "\n"
      ],
      "text/plain": [
       "                        [,1]    \n",
       "lift_ pred_agg_glm_ALL  4.197832\n",
       "lift_ pred_agg_rf_ALL   4.780354\n",
       "lift_ pred_agg_glm      4.197832\n",
       "lift_ pred_agg_rf       4.780354\n",
       "lift_ pred_seg_glm_ALL  4.205035\n",
       "lift_ pred_seg_rf_ALL   4.806646\n",
       "lift_ pred_seg2_glm_ALL 4.456197\n",
       "lift_ pred_seg2_rf_ALL  4.791879"
      ]
     },
     "metadata": {},
     "output_type": "display_data"
    }
   ],
   "source": [
    "lift_df_10 <- lift_df %>% filter(P==0.1) %>% select(contains(\"lift_\")) %>% t()\n",
    "lift_df_10"
   ]
  },
  {
   "cell_type": "code",
   "execution_count": 67,
   "metadata": {},
   "outputs": [
    {
     "data": {
      "text/html": [
       "0.0727429689486348"
      ],
      "text/latex": [
       "0.0727429689486348"
      ],
      "text/markdown": [
       "0.0727429689486348"
      ],
      "text/plain": [
       "[1] 0.07274297"
      ]
     },
     "metadata": {},
     "output_type": "display_data"
    }
   ],
   "source": [
    "(4.780354-4.456197)/4.456197"
   ]
  },
  {
   "cell_type": "code",
   "execution_count": null,
   "metadata": {},
   "outputs": [],
   "source": []
  }
 ],
 "metadata": {
  "environment": {
   "name": "r-cpu.3-6.m48",
   "type": "gcloud",
   "uri": "gcr.io/deeplearning-platform-release/r-cpu.3-6:m48"
  },
  "kernelspec": {
   "display_name": "R",
   "language": "R",
   "name": "ir"
  },
  "language_info": {
   "codemirror_mode": "r",
   "file_extension": ".r",
   "mimetype": "text/x-r-source",
   "name": "R",
   "pygments_lexer": "r",
   "version": "3.6.3"
  }
 },
 "nbformat": 4,
 "nbformat_minor": 4
}
