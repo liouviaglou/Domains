{
 "cells": [
  {
   "cell_type": "markdown",
   "metadata": {},
   "source": [
    "# Evaluating fallback supplemented model performance <br> overall, by reseller priorirty rank"
   ]
  },
  {
   "cell_type": "code",
   "execution_count": 1,
   "metadata": {},
   "outputs": [],
   "source": [
    "options(repr.matrix.max.cols=50, repr.matrix.max.rows=100)"
   ]
  },
  {
   "cell_type": "code",
   "execution_count": 2,
   "metadata": {},
   "outputs": [],
   "source": [
    "# install.packages(\"pkgcond\")"
   ]
  },
  {
   "cell_type": "code",
   "execution_count": 3,
   "metadata": {},
   "outputs": [
    {
     "name": "stderr",
     "output_type": "stream",
     "text": [
      "\n",
      "Attaching package: ‘dplyr’\n",
      "\n",
      "\n",
      "The following objects are masked from ‘package:stats’:\n",
      "\n",
      "    filter, lag\n",
      "\n",
      "\n",
      "The following objects are masked from ‘package:base’:\n",
      "\n",
      "    intersect, setdiff, setequal, union\n",
      "\n",
      "\n",
      "\n",
      "Attaching package: ‘data.table’\n",
      "\n",
      "\n",
      "The following objects are masked from ‘package:dplyr’:\n",
      "\n",
      "    between, first, last\n",
      "\n",
      "\n",
      "Loading required package: grid\n",
      "\n",
      "Loading required package: libcoin\n",
      "\n",
      "Loading required package: mvtnorm\n",
      "\n",
      "Loading required package: lattice\n",
      "\n",
      "Loading required package: ggplot2\n",
      "\n",
      "randomForest 4.6-14\n",
      "\n",
      "Type rfNews() to see new features/changes/bug fixes.\n",
      "\n",
      "\n",
      "Attaching package: ‘randomForest’\n",
      "\n",
      "\n",
      "The following object is masked from ‘package:ggplot2’:\n",
      "\n",
      "    margin\n",
      "\n",
      "\n",
      "The following object is masked from ‘package:dplyr’:\n",
      "\n",
      "    combine\n",
      "\n",
      "\n",
      "\n",
      "Attaching package: ‘ranger’\n",
      "\n",
      "\n",
      "The following object is masked from ‘package:randomForest’:\n",
      "\n",
      "    importance\n",
      "\n",
      "\n",
      "\n",
      "Attaching package: ‘plotly’\n",
      "\n",
      "\n",
      "The following object is masked from ‘package:ggplot2’:\n",
      "\n",
      "    last_plot\n",
      "\n",
      "\n",
      "The following object is masked from ‘package:stats’:\n",
      "\n",
      "    filter\n",
      "\n",
      "\n",
      "The following object is masked from ‘package:graphics’:\n",
      "\n",
      "    layout\n",
      "\n",
      "\n",
      "\n",
      "Attaching package: ‘zoo’\n",
      "\n",
      "\n",
      "The following objects are masked from ‘package:base’:\n",
      "\n",
      "    as.Date, as.Date.numeric\n",
      "\n",
      "\n"
     ]
    },
    {
     "data": {
      "text/html": [
       "'/home/jupyter/Domains_202003/scripts/phaseII_06_fallbacksupp'"
      ],
      "text/latex": [
       "'/home/jupyter/Domains\\_202003/scripts/phaseII\\_06\\_fallbacksupp'"
      ],
      "text/markdown": [
       "'/home/jupyter/Domains_202003/scripts/phaseII_06_fallbacksupp'"
      ],
      "text/plain": [
       "[1] \"/home/jupyter/Domains_202003/scripts/phaseII_06_fallbacksupp\""
      ]
     },
     "metadata": {},
     "output_type": "display_data"
    }
   ],
   "source": [
    "library(dplyr)\n",
    "library(data.table)\n",
    "library(partykit)\n",
    "library(tictoc)\n",
    "library(caret)\n",
    "library(e1071)\n",
    "library(randomForest)\n",
    "library(ranger)\n",
    "\n",
    "#for 3d plotting\n",
    "library(akima)\n",
    "library(plotly)\n",
    "\n",
    "# for prep data\n",
    "# library(rPython)\n",
    "library(stringr)\n",
    "library(pbapply)\n",
    "library(stringdist)\n",
    "library(data.table)\n",
    "library(dominanceanalysis)\n",
    "library(zoo)\n",
    "\n",
    "\n",
    "getwd()"
   ]
  },
  {
   "cell_type": "code",
   "execution_count": 4,
   "metadata": {},
   "outputs": [],
   "source": [
    "# install.packages(c(\"zoo\"))"
   ]
  },
  {
   "cell_type": "code",
   "execution_count": 5,
   "metadata": {},
   "outputs": [
    {
     "name": "stderr",
     "output_type": "stream",
     "text": [
      "\n",
      "Attaching package: ‘tidyr’\n",
      "\n",
      "\n",
      "The following object is masked from ‘package:stringdist’:\n",
      "\n",
      "    extract\n",
      "\n",
      "\n"
     ]
    }
   ],
   "source": [
    "\n",
    "source('../orig/functions.R')\n",
    "\n",
    "source('../orig/functions_models.R')\n",
    "\n",
    "source('../phaseII_03_forest/functions_eval.R')\n"
   ]
  },
  {
   "cell_type": "code",
   "execution_count": 6,
   "metadata": {},
   "outputs": [],
   "source": [
    "source('functions_metalearning.R')"
   ]
  },
  {
   "cell_type": "code",
   "execution_count": 7,
   "metadata": {},
   "outputs": [],
   "source": [
    "source('functions_fallback.R')"
   ]
  },
  {
   "cell_type": "code",
   "execution_count": 8,
   "metadata": {},
   "outputs": [],
   "source": [
    "# source('load_prep_data_expiry_2.R') #read in train test and predictions manually instead\n",
    "\n",
    "# READ CSV's\n",
    "# expiry_df_test_preds <- read.csv(\"../../data/output/datapull_20201116/expiry_df_test_preds.csv\")\n",
    "# expiry_df_train <- read.csv(\"../../data/output/datapull_20201116/expiry_df_train.csv\")\n",
    "# expiry_df_test <- read.csv(\"../../data/output/datapull_20201116/expiry_df_test.csv\")\n",
    "\n",
    "# expiry_df\n",
    "# expiry_train_df \n",
    "# expiry_test_df \n",
    "# expiry_list\n",
    "# expiry_train_list\n",
    "# expiry_test_list"
   ]
  },
  {
   "cell_type": "markdown",
   "metadata": {},
   "source": [
    "# LOAD fallbacksupp'ed preds"
   ]
  },
  {
   "cell_type": "code",
   "execution_count": 9,
   "metadata": {},
   "outputs": [
    {
     "data": {
      "text/html": [
       "<table>\n",
       "<caption>A data.frame: 6 × 59</caption>\n",
       "<thead>\n",
       "\t<tr><th></th><th scope=col>reseller</th><th scope=col>reseller_country</th><th scope=col>domain_id</th><th scope=col>renewal_type</th><th scope=col>renewed_count</th><th scope=col>expiry_date</th><th scope=col>creation_date</th><th scope=col>status</th><th scope=col>domain</th><th scope=col>registrar</th><th scope=col>registrant_country</th><th scope=col>reg_period</th><th scope=col>reg_revenue</th><th scope=col>reg_arpt</th><th scope=col>renew_mbg</th><th scope=col>renewal_item_id</th><th scope=col>renew_type</th><th scope=col>autorenew_type</th><th scope=col>renewal_status</th><th scope=col>renew_date</th><th scope=col>renew_arpt</th><th scope=col>gibb_score</th><th scope=col>pattern</th><th scope=col>pattern_domain_count</th><th scope=col>day_domains</th><th scope=col>⋯</th><th scope=col>pred_agg_glm</th><th scope=col>pred_agg_rf</th><th scope=col>pred_seg_glm_ALL</th><th scope=col>pred_seg_rf_ALL</th><th scope=col>pred_seg2_glm_ALL</th><th scope=col>pred_seg2_rf_ALL</th><th scope=col>reseller_geo</th><th scope=col>pred_agg_glm_ALL_fb</th><th scope=col>pred_agg_rf_ALL_fb</th><th scope=col>pred_agg_glm_fb</th><th scope=col>pred_agg_rf_fb</th><th scope=col>pred_seg_glm_ALL_fb</th><th scope=col>pred_seg_rf_ALL_fb</th><th scope=col>pred_seg2_glm_ALL_fb</th><th scope=col>pred_seg2_rf_ALL_fb</th><th scope=col>reg_arpt_org</th><th scope=col>reg_arpt_slab</th><th scope=col>pred_seg2_rf_ALL_fb2</th><th scope=col>pred_seg2_glm_ALL_fb2</th><th scope=col>pred_seg_rf_ALL_fb2</th><th scope=col>pred_seg_glm_ALL_fb2</th><th scope=col>pred_agg_rf_fb2</th><th scope=col>pred_agg_glm_fb2</th><th scope=col>pred_agg_rf_ALL_fb2</th><th scope=col>pred_agg_glm_ALL_fb2</th></tr>\n",
       "\t<tr><th></th><th scope=col>&lt;fct&gt;</th><th scope=col>&lt;fct&gt;</th><th scope=col>&lt;int&gt;</th><th scope=col>&lt;fct&gt;</th><th scope=col>&lt;int&gt;</th><th scope=col>&lt;fct&gt;</th><th scope=col>&lt;fct&gt;</th><th scope=col>&lt;fct&gt;</th><th scope=col>&lt;fct&gt;</th><th scope=col>&lt;fct&gt;</th><th scope=col>&lt;fct&gt;</th><th scope=col>&lt;int&gt;</th><th scope=col>&lt;dbl&gt;</th><th scope=col>&lt;dbl&gt;</th><th scope=col>&lt;int&gt;</th><th scope=col>&lt;int&gt;</th><th scope=col>&lt;fct&gt;</th><th scope=col>&lt;fct&gt;</th><th scope=col>&lt;fct&gt;</th><th scope=col>&lt;fct&gt;</th><th scope=col>&lt;dbl&gt;</th><th scope=col>&lt;dbl&gt;</th><th scope=col>&lt;fct&gt;</th><th scope=col>&lt;int&gt;</th><th scope=col>&lt;int&gt;</th><th scope=col>⋯</th><th scope=col>&lt;dbl&gt;</th><th scope=col>&lt;dbl&gt;</th><th scope=col>&lt;dbl&gt;</th><th scope=col>&lt;dbl&gt;</th><th scope=col>&lt;dbl&gt;</th><th scope=col>&lt;dbl&gt;</th><th scope=col>&lt;fct&gt;</th><th scope=col>&lt;dbl&gt;</th><th scope=col>&lt;dbl&gt;</th><th scope=col>&lt;dbl&gt;</th><th scope=col>&lt;dbl&gt;</th><th scope=col>&lt;dbl&gt;</th><th scope=col>&lt;dbl&gt;</th><th scope=col>&lt;dbl&gt;</th><th scope=col>&lt;dbl&gt;</th><th scope=col>&lt;dbl&gt;</th><th scope=col>&lt;fct&gt;</th><th scope=col>&lt;dbl&gt;</th><th scope=col>&lt;dbl&gt;</th><th scope=col>&lt;dbl&gt;</th><th scope=col>&lt;dbl&gt;</th><th scope=col>&lt;dbl&gt;</th><th scope=col>&lt;dbl&gt;</th><th scope=col>&lt;dbl&gt;</th><th scope=col>&lt;dbl&gt;</th></tr>\n",
       "</thead>\n",
       "<tbody>\n",
       "\t<tr><th scope=row>1</th><td>            </td><td>       </td><td>122049036</td><td>FirstTime</td><td>1</td><td>2020-08-30</td><td>2019-08-30</td><td>Active</td><td>qianxiyun.online            </td><td>            </td><td>NA</td><td>1</td><td>25</td><td>25.00</td><td>0</td><td>341703158</td><td>auto-renewal</td><td>unrealized</td><td>Not Renewd</td><td>2020-08-30</td><td> 6</td><td>0.63</td><td>qianxiyun            </td><td>1</td><td> 1</td><td>⋯</td><td>   NA</td><td>0.7713468</td><td>   NA</td><td>       NA</td><td>       NA</td><td>       NA</td><td>NA</td><td>   NA</td><td>0.9550391</td><td>   NA</td><td>0.7713468</td><td>   NA</td><td>       NA</td><td>       NA</td><td>       NA</td><td>25.00</td><td>(15,25]</td><td>0.5510000</td><td>0.5510000</td><td>0.5510000</td><td>0.551</td><td>0.7713468</td><td>0.551</td><td>0.9550391</td><td>0.551</td></tr>\n",
       "\t<tr><th scope=row>2</th><td>1&amp;1 Internet</td><td>Germany</td><td> 43450963</td><td>FirstTime</td><td>1</td><td>2020-01-27</td><td>2017-01-27</td><td>Active</td><td><span style=white-space:pre-wrap>ncyc.online                 </span></td><td>1&amp;1 Internet</td><td>NA</td><td>3</td><td>55</td><td>18.33</td><td>0</td><td>239731665</td><td><span style=white-space:pre-wrap>transfer    </span></td><td><span style=white-space:pre-wrap>NA        </span></td><td><span style=white-space:pre-wrap>Renewed   </span></td><td>2019-10-13</td><td>25</td><td>1.18</td><td><span style=white-space:pre-wrap>ncyc                 </span></td><td>1</td><td>23</td><td>⋯</td><td>0.817</td><td>0.6676114</td><td>0.543</td><td>0.7268116</td><td>0.5644593</td><td>0.7075837</td><td>EU</td><td>0.817</td><td>0.6088277</td><td>0.817</td><td>0.6676114</td><td>0.543</td><td>0.7268116</td><td>0.5644593</td><td>0.7075837</td><td>18.33</td><td>(15,25]</td><td>0.7075837</td><td>0.5644593</td><td>0.7268116</td><td>0.543</td><td>0.6676114</td><td>0.817</td><td>0.6088277</td><td>0.817</td></tr>\n",
       "\t<tr><th scope=row>3</th><td>1&amp;1 Internet</td><td>Germany</td><td> 43576888</td><td>FirstTime</td><td>1</td><td>2020-01-31</td><td>2017-01-31</td><td>Active</td><td><span style=white-space:pre-wrap>audev.online                </span></td><td>1&amp;1 Internet</td><td>NA</td><td>3</td><td>55</td><td>18.33</td><td>0</td><td>287997921</td><td>auto-renewal</td><td><span style=white-space:pre-wrap>realized  </span></td><td><span style=white-space:pre-wrap>Renewed   </span></td><td>2020-01-31</td><td>25</td><td>2.57</td><td><span style=white-space:pre-wrap>audev                </span></td><td>1</td><td>43</td><td>⋯</td><td>0.814</td><td>0.6877335</td><td>0.536</td><td>0.7155560</td><td>0.5601541</td><td>0.7314602</td><td>EU</td><td>0.814</td><td>0.6477227</td><td>0.814</td><td>0.6877335</td><td>0.536</td><td>0.7155560</td><td>0.5601541</td><td>0.7314602</td><td>18.33</td><td>(15,25]</td><td>0.7314602</td><td>0.5601541</td><td>0.7155560</td><td>0.536</td><td>0.6877335</td><td>0.814</td><td>0.6477227</td><td>0.814</td></tr>\n",
       "\t<tr><th scope=row>4</th><td>1&amp;1 Internet</td><td>Germany</td><td> 43727452</td><td>FirstTime</td><td>1</td><td>2020-02-03</td><td>2017-02-03</td><td>Active</td><td><span style=white-space:pre-wrap>pinkpanther.store           </span></td><td>1&amp;1 Internet</td><td>NA</td><td>3</td><td>88</td><td>29.33</td><td>0</td><td>288786056</td><td>auto-renewal</td><td>unrealized</td><td>Not Renewd</td><td>2020-02-03</td><td>40</td><td>7.27</td><td><span style=white-space:pre-wrap>pinkpanther          </span></td><td>1</td><td> 3</td><td>⋯</td><td>0.838</td><td>0.2588170</td><td>0.513</td><td>0.2754756</td><td>0.1642908</td><td>0.1535971</td><td>EU</td><td>0.833</td><td>0.2384536</td><td>0.838</td><td>0.2588170</td><td>0.513</td><td>0.2754756</td><td>0.1642908</td><td>0.1535971</td><td>29.33</td><td>(25,35]</td><td>0.1535971</td><td>0.1642908</td><td>0.2754756</td><td>0.513</td><td>0.2588170</td><td>0.838</td><td>0.2384536</td><td>0.833</td></tr>\n",
       "\t<tr><th scope=row>5</th><td>1&amp;1 Internet</td><td>Germany</td><td> 46911148</td><td>FirstTime</td><td>1</td><td>2020-04-17</td><td>2017-04-17</td><td>Active</td><td>lmengineeringservices.online</td><td>1&amp;1 Internet</td><td>NA</td><td>3</td><td>50</td><td>16.67</td><td>0</td><td>308749164</td><td>auto-renewal</td><td><span style=white-space:pre-wrap>realized  </span></td><td><span style=white-space:pre-wrap>Renewed   </span></td><td>2020-04-17</td><td>25</td><td>7.81</td><td>lmengineeringservices</td><td>1</td><td>69</td><td>⋯</td><td>0.775</td><td>0.3878439</td><td>0.468</td><td>0.3962124</td><td>0.4979086</td><td>0.3769304</td><td>EU</td><td>0.772</td><td>0.3972606</td><td>0.775</td><td>0.3878439</td><td>0.468</td><td>0.3962124</td><td>0.4979086</td><td>0.3769304</td><td>16.67</td><td>(15,25]</td><td>0.3769304</td><td>0.4979086</td><td>0.3962124</td><td>0.468</td><td>0.3878439</td><td>0.775</td><td>0.3972606</td><td>0.772</td></tr>\n",
       "\t<tr><th scope=row>6</th><td>1&amp;1 Internet</td><td>Germany</td><td> 47605334</td><td>FirstTime</td><td>1</td><td>2020-05-08</td><td>2017-05-08</td><td>Active</td><td><span style=white-space:pre-wrap>eagleeyeview.store          </span></td><td>1&amp;1 Internet</td><td>NA</td><td>3</td><td>90</td><td>30.00</td><td>0</td><td>313867134</td><td>auto-renewal</td><td>unrealized</td><td>Not Renewd</td><td>2020-05-08</td><td>40</td><td>3.41</td><td><span style=white-space:pre-wrap>eagleeyeview         </span></td><td>1</td><td> 4</td><td>⋯</td><td>0.829</td><td>0.1730035</td><td>0.516</td><td>0.1675698</td><td>0.1723292</td><td>0.1027711</td><td>EU</td><td>0.823</td><td>0.1925156</td><td>0.829</td><td>0.1730035</td><td>0.516</td><td>0.1675698</td><td>0.1723292</td><td>0.1027711</td><td>30.00</td><td>(25,35]</td><td>0.1027711</td><td>0.1723292</td><td>0.1675698</td><td>0.516</td><td>0.1730035</td><td>0.829</td><td>0.1925156</td><td>0.823</td></tr>\n",
       "</tbody>\n",
       "</table>\n"
      ],
      "text/latex": [
       "A data.frame: 6 × 59\n",
       "\\begin{tabular}{r|lllllllllllllllllllllllllllllllllllllllllllllllllll}\n",
       "  & reseller & reseller\\_country & domain\\_id & renewal\\_type & renewed\\_count & expiry\\_date & creation\\_date & status & domain & registrar & registrant\\_country & reg\\_period & reg\\_revenue & reg\\_arpt & renew\\_mbg & renewal\\_item\\_id & renew\\_type & autorenew\\_type & renewal\\_status & renew\\_date & renew\\_arpt & gibb\\_score & pattern & pattern\\_domain\\_count & day\\_domains & ⋯ & pred\\_agg\\_glm & pred\\_agg\\_rf & pred\\_seg\\_glm\\_ALL & pred\\_seg\\_rf\\_ALL & pred\\_seg2\\_glm\\_ALL & pred\\_seg2\\_rf\\_ALL & reseller\\_geo & pred\\_agg\\_glm\\_ALL\\_fb & pred\\_agg\\_rf\\_ALL\\_fb & pred\\_agg\\_glm\\_fb & pred\\_agg\\_rf\\_fb & pred\\_seg\\_glm\\_ALL\\_fb & pred\\_seg\\_rf\\_ALL\\_fb & pred\\_seg2\\_glm\\_ALL\\_fb & pred\\_seg2\\_rf\\_ALL\\_fb & reg\\_arpt\\_org & reg\\_arpt\\_slab & pred\\_seg2\\_rf\\_ALL\\_fb2 & pred\\_seg2\\_glm\\_ALL\\_fb2 & pred\\_seg\\_rf\\_ALL\\_fb2 & pred\\_seg\\_glm\\_ALL\\_fb2 & pred\\_agg\\_rf\\_fb2 & pred\\_agg\\_glm\\_fb2 & pred\\_agg\\_rf\\_ALL\\_fb2 & pred\\_agg\\_glm\\_ALL\\_fb2\\\\\n",
       "  & <fct> & <fct> & <int> & <fct> & <int> & <fct> & <fct> & <fct> & <fct> & <fct> & <fct> & <int> & <dbl> & <dbl> & <int> & <int> & <fct> & <fct> & <fct> & <fct> & <dbl> & <dbl> & <fct> & <int> & <int> & ⋯ & <dbl> & <dbl> & <dbl> & <dbl> & <dbl> & <dbl> & <fct> & <dbl> & <dbl> & <dbl> & <dbl> & <dbl> & <dbl> & <dbl> & <dbl> & <dbl> & <fct> & <dbl> & <dbl> & <dbl> & <dbl> & <dbl> & <dbl> & <dbl> & <dbl>\\\\\n",
       "\\hline\n",
       "\t1 &              &         & 122049036 & FirstTime & 1 & 2020-08-30 & 2019-08-30 & Active & qianxiyun.online             &              & NA & 1 & 25 & 25.00 & 0 & 341703158 & auto-renewal & unrealized & Not Renewd & 2020-08-30 &  6 & 0.63 & qianxiyun             & 1 &  1 & ⋯ &    NA & 0.7713468 &    NA &        NA &        NA &        NA & NA &    NA & 0.9550391 &    NA & 0.7713468 &    NA &        NA &        NA &        NA & 25.00 & (15,25{]} & 0.5510000 & 0.5510000 & 0.5510000 & 0.551 & 0.7713468 & 0.551 & 0.9550391 & 0.551\\\\\n",
       "\t2 & 1\\&1 Internet & Germany &  43450963 & FirstTime & 1 & 2020-01-27 & 2017-01-27 & Active & ncyc.online                  & 1\\&1 Internet & NA & 3 & 55 & 18.33 & 0 & 239731665 & transfer     & NA         & Renewed    & 2019-10-13 & 25 & 1.18 & ncyc                  & 1 & 23 & ⋯ & 0.817 & 0.6676114 & 0.543 & 0.7268116 & 0.5644593 & 0.7075837 & EU & 0.817 & 0.6088277 & 0.817 & 0.6676114 & 0.543 & 0.7268116 & 0.5644593 & 0.7075837 & 18.33 & (15,25{]} & 0.7075837 & 0.5644593 & 0.7268116 & 0.543 & 0.6676114 & 0.817 & 0.6088277 & 0.817\\\\\n",
       "\t3 & 1\\&1 Internet & Germany &  43576888 & FirstTime & 1 & 2020-01-31 & 2017-01-31 & Active & audev.online                 & 1\\&1 Internet & NA & 3 & 55 & 18.33 & 0 & 287997921 & auto-renewal & realized   & Renewed    & 2020-01-31 & 25 & 2.57 & audev                 & 1 & 43 & ⋯ & 0.814 & 0.6877335 & 0.536 & 0.7155560 & 0.5601541 & 0.7314602 & EU & 0.814 & 0.6477227 & 0.814 & 0.6877335 & 0.536 & 0.7155560 & 0.5601541 & 0.7314602 & 18.33 & (15,25{]} & 0.7314602 & 0.5601541 & 0.7155560 & 0.536 & 0.6877335 & 0.814 & 0.6477227 & 0.814\\\\\n",
       "\t4 & 1\\&1 Internet & Germany &  43727452 & FirstTime & 1 & 2020-02-03 & 2017-02-03 & Active & pinkpanther.store            & 1\\&1 Internet & NA & 3 & 88 & 29.33 & 0 & 288786056 & auto-renewal & unrealized & Not Renewd & 2020-02-03 & 40 & 7.27 & pinkpanther           & 1 &  3 & ⋯ & 0.838 & 0.2588170 & 0.513 & 0.2754756 & 0.1642908 & 0.1535971 & EU & 0.833 & 0.2384536 & 0.838 & 0.2588170 & 0.513 & 0.2754756 & 0.1642908 & 0.1535971 & 29.33 & (25,35{]} & 0.1535971 & 0.1642908 & 0.2754756 & 0.513 & 0.2588170 & 0.838 & 0.2384536 & 0.833\\\\\n",
       "\t5 & 1\\&1 Internet & Germany &  46911148 & FirstTime & 1 & 2020-04-17 & 2017-04-17 & Active & lmengineeringservices.online & 1\\&1 Internet & NA & 3 & 50 & 16.67 & 0 & 308749164 & auto-renewal & realized   & Renewed    & 2020-04-17 & 25 & 7.81 & lmengineeringservices & 1 & 69 & ⋯ & 0.775 & 0.3878439 & 0.468 & 0.3962124 & 0.4979086 & 0.3769304 & EU & 0.772 & 0.3972606 & 0.775 & 0.3878439 & 0.468 & 0.3962124 & 0.4979086 & 0.3769304 & 16.67 & (15,25{]} & 0.3769304 & 0.4979086 & 0.3962124 & 0.468 & 0.3878439 & 0.775 & 0.3972606 & 0.772\\\\\n",
       "\t6 & 1\\&1 Internet & Germany &  47605334 & FirstTime & 1 & 2020-05-08 & 2017-05-08 & Active & eagleeyeview.store           & 1\\&1 Internet & NA & 3 & 90 & 30.00 & 0 & 313867134 & auto-renewal & unrealized & Not Renewd & 2020-05-08 & 40 & 3.41 & eagleeyeview          & 1 &  4 & ⋯ & 0.829 & 0.1730035 & 0.516 & 0.1675698 & 0.1723292 & 0.1027711 & EU & 0.823 & 0.1925156 & 0.829 & 0.1730035 & 0.516 & 0.1675698 & 0.1723292 & 0.1027711 & 30.00 & (25,35{]} & 0.1027711 & 0.1723292 & 0.1675698 & 0.516 & 0.1730035 & 0.829 & 0.1925156 & 0.823\\\\\n",
       "\\end{tabular}\n"
      ],
      "text/markdown": [
       "\n",
       "A data.frame: 6 × 59\n",
       "\n",
       "| <!--/--> | reseller &lt;fct&gt; | reseller_country &lt;fct&gt; | domain_id &lt;int&gt; | renewal_type &lt;fct&gt; | renewed_count &lt;int&gt; | expiry_date &lt;fct&gt; | creation_date &lt;fct&gt; | status &lt;fct&gt; | domain &lt;fct&gt; | registrar &lt;fct&gt; | registrant_country &lt;fct&gt; | reg_period &lt;int&gt; | reg_revenue &lt;dbl&gt; | reg_arpt &lt;dbl&gt; | renew_mbg &lt;int&gt; | renewal_item_id &lt;int&gt; | renew_type &lt;fct&gt; | autorenew_type &lt;fct&gt; | renewal_status &lt;fct&gt; | renew_date &lt;fct&gt; | renew_arpt &lt;dbl&gt; | gibb_score &lt;dbl&gt; | pattern &lt;fct&gt; | pattern_domain_count &lt;int&gt; | day_domains &lt;int&gt; | ⋯ ⋯ | pred_agg_glm &lt;dbl&gt; | pred_agg_rf &lt;dbl&gt; | pred_seg_glm_ALL &lt;dbl&gt; | pred_seg_rf_ALL &lt;dbl&gt; | pred_seg2_glm_ALL &lt;dbl&gt; | pred_seg2_rf_ALL &lt;dbl&gt; | reseller_geo &lt;fct&gt; | pred_agg_glm_ALL_fb &lt;dbl&gt; | pred_agg_rf_ALL_fb &lt;dbl&gt; | pred_agg_glm_fb &lt;dbl&gt; | pred_agg_rf_fb &lt;dbl&gt; | pred_seg_glm_ALL_fb &lt;dbl&gt; | pred_seg_rf_ALL_fb &lt;dbl&gt; | pred_seg2_glm_ALL_fb &lt;dbl&gt; | pred_seg2_rf_ALL_fb &lt;dbl&gt; | reg_arpt_org &lt;dbl&gt; | reg_arpt_slab &lt;fct&gt; | pred_seg2_rf_ALL_fb2 &lt;dbl&gt; | pred_seg2_glm_ALL_fb2 &lt;dbl&gt; | pred_seg_rf_ALL_fb2 &lt;dbl&gt; | pred_seg_glm_ALL_fb2 &lt;dbl&gt; | pred_agg_rf_fb2 &lt;dbl&gt; | pred_agg_glm_fb2 &lt;dbl&gt; | pred_agg_rf_ALL_fb2 &lt;dbl&gt; | pred_agg_glm_ALL_fb2 &lt;dbl&gt; |\n",
       "|---|---|---|---|---|---|---|---|---|---|---|---|---|---|---|---|---|---|---|---|---|---|---|---|---|---|---|---|---|---|---|---|---|---|---|---|---|---|---|---|---|---|---|---|---|---|---|---|---|---|---|---|\n",
       "| 1 | <!----> | <!----> | 122049036 | FirstTime | 1 | 2020-08-30 | 2019-08-30 | Active | qianxiyun.online             | <!----> | NA | 1 | 25 | 25.00 | 0 | 341703158 | auto-renewal | unrealized | Not Renewd | 2020-08-30 |  6 | 0.63 | qianxiyun             | 1 |  1 | ⋯ |    NA | 0.7713468 |    NA |        NA |        NA |        NA | NA |    NA | 0.9550391 |    NA | 0.7713468 |    NA |        NA |        NA |        NA | 25.00 | (15,25] | 0.5510000 | 0.5510000 | 0.5510000 | 0.551 | 0.7713468 | 0.551 | 0.9550391 | 0.551 |\n",
       "| 2 | 1&amp;1 Internet | Germany |  43450963 | FirstTime | 1 | 2020-01-27 | 2017-01-27 | Active | ncyc.online                  | 1&amp;1 Internet | NA | 3 | 55 | 18.33 | 0 | 239731665 | transfer     | NA         | Renewed    | 2019-10-13 | 25 | 1.18 | ncyc                  | 1 | 23 | ⋯ | 0.817 | 0.6676114 | 0.543 | 0.7268116 | 0.5644593 | 0.7075837 | EU | 0.817 | 0.6088277 | 0.817 | 0.6676114 | 0.543 | 0.7268116 | 0.5644593 | 0.7075837 | 18.33 | (15,25] | 0.7075837 | 0.5644593 | 0.7268116 | 0.543 | 0.6676114 | 0.817 | 0.6088277 | 0.817 |\n",
       "| 3 | 1&amp;1 Internet | Germany |  43576888 | FirstTime | 1 | 2020-01-31 | 2017-01-31 | Active | audev.online                 | 1&amp;1 Internet | NA | 3 | 55 | 18.33 | 0 | 287997921 | auto-renewal | realized   | Renewed    | 2020-01-31 | 25 | 2.57 | audev                 | 1 | 43 | ⋯ | 0.814 | 0.6877335 | 0.536 | 0.7155560 | 0.5601541 | 0.7314602 | EU | 0.814 | 0.6477227 | 0.814 | 0.6877335 | 0.536 | 0.7155560 | 0.5601541 | 0.7314602 | 18.33 | (15,25] | 0.7314602 | 0.5601541 | 0.7155560 | 0.536 | 0.6877335 | 0.814 | 0.6477227 | 0.814 |\n",
       "| 4 | 1&amp;1 Internet | Germany |  43727452 | FirstTime | 1 | 2020-02-03 | 2017-02-03 | Active | pinkpanther.store            | 1&amp;1 Internet | NA | 3 | 88 | 29.33 | 0 | 288786056 | auto-renewal | unrealized | Not Renewd | 2020-02-03 | 40 | 7.27 | pinkpanther           | 1 |  3 | ⋯ | 0.838 | 0.2588170 | 0.513 | 0.2754756 | 0.1642908 | 0.1535971 | EU | 0.833 | 0.2384536 | 0.838 | 0.2588170 | 0.513 | 0.2754756 | 0.1642908 | 0.1535971 | 29.33 | (25,35] | 0.1535971 | 0.1642908 | 0.2754756 | 0.513 | 0.2588170 | 0.838 | 0.2384536 | 0.833 |\n",
       "| 5 | 1&amp;1 Internet | Germany |  46911148 | FirstTime | 1 | 2020-04-17 | 2017-04-17 | Active | lmengineeringservices.online | 1&amp;1 Internet | NA | 3 | 50 | 16.67 | 0 | 308749164 | auto-renewal | realized   | Renewed    | 2020-04-17 | 25 | 7.81 | lmengineeringservices | 1 | 69 | ⋯ | 0.775 | 0.3878439 | 0.468 | 0.3962124 | 0.4979086 | 0.3769304 | EU | 0.772 | 0.3972606 | 0.775 | 0.3878439 | 0.468 | 0.3962124 | 0.4979086 | 0.3769304 | 16.67 | (15,25] | 0.3769304 | 0.4979086 | 0.3962124 | 0.468 | 0.3878439 | 0.775 | 0.3972606 | 0.772 |\n",
       "| 6 | 1&amp;1 Internet | Germany |  47605334 | FirstTime | 1 | 2020-05-08 | 2017-05-08 | Active | eagleeyeview.store           | 1&amp;1 Internet | NA | 3 | 90 | 30.00 | 0 | 313867134 | auto-renewal | unrealized | Not Renewd | 2020-05-08 | 40 | 3.41 | eagleeyeview          | 1 |  4 | ⋯ | 0.829 | 0.1730035 | 0.516 | 0.1675698 | 0.1723292 | 0.1027711 | EU | 0.823 | 0.1925156 | 0.829 | 0.1730035 | 0.516 | 0.1675698 | 0.1723292 | 0.1027711 | 30.00 | (25,35] | 0.1027711 | 0.1723292 | 0.1675698 | 0.516 | 0.1730035 | 0.829 | 0.1925156 | 0.823 |\n",
       "\n"
      ],
      "text/plain": [
       "  reseller     reseller_country domain_id renewal_type renewed_count\n",
       "1                               122049036 FirstTime    1            \n",
       "2 1&1 Internet Germany           43450963 FirstTime    1            \n",
       "3 1&1 Internet Germany           43576888 FirstTime    1            \n",
       "4 1&1 Internet Germany           43727452 FirstTime    1            \n",
       "5 1&1 Internet Germany           46911148 FirstTime    1            \n",
       "6 1&1 Internet Germany           47605334 FirstTime    1            \n",
       "  expiry_date creation_date status domain                       registrar   \n",
       "1 2020-08-30  2019-08-30    Active qianxiyun.online                         \n",
       "2 2020-01-27  2017-01-27    Active ncyc.online                  1&1 Internet\n",
       "3 2020-01-31  2017-01-31    Active audev.online                 1&1 Internet\n",
       "4 2020-02-03  2017-02-03    Active pinkpanther.store            1&1 Internet\n",
       "5 2020-04-17  2017-04-17    Active lmengineeringservices.online 1&1 Internet\n",
       "6 2020-05-08  2017-05-08    Active eagleeyeview.store           1&1 Internet\n",
       "  registrant_country reg_period reg_revenue reg_arpt renew_mbg renewal_item_id\n",
       "1 NA                 1          25          25.00    0         341703158      \n",
       "2 NA                 3          55          18.33    0         239731665      \n",
       "3 NA                 3          55          18.33    0         287997921      \n",
       "4 NA                 3          88          29.33    0         288786056      \n",
       "5 NA                 3          50          16.67    0         308749164      \n",
       "6 NA                 3          90          30.00    0         313867134      \n",
       "  renew_type   autorenew_type renewal_status renew_date renew_arpt gibb_score\n",
       "1 auto-renewal unrealized     Not Renewd     2020-08-30  6         0.63      \n",
       "2 transfer     NA             Renewed        2019-10-13 25         1.18      \n",
       "3 auto-renewal realized       Renewed        2020-01-31 25         2.57      \n",
       "4 auto-renewal unrealized     Not Renewd     2020-02-03 40         7.27      \n",
       "5 auto-renewal realized       Renewed        2020-04-17 25         7.81      \n",
       "6 auto-renewal unrealized     Not Renewd     2020-05-08 40         3.41      \n",
       "  pattern               pattern_domain_count day_domains ⋯ pred_agg_glm\n",
       "1 qianxiyun             1                     1          ⋯    NA       \n",
       "2 ncyc                  1                    23          ⋯ 0.817       \n",
       "3 audev                 1                    43          ⋯ 0.814       \n",
       "4 pinkpanther           1                     3          ⋯ 0.838       \n",
       "5 lmengineeringservices 1                    69          ⋯ 0.775       \n",
       "6 eagleeyeview          1                     4          ⋯ 0.829       \n",
       "  pred_agg_rf pred_seg_glm_ALL pred_seg_rf_ALL pred_seg2_glm_ALL\n",
       "1 0.7713468      NA                   NA              NA        \n",
       "2 0.6676114   0.543            0.7268116       0.5644593        \n",
       "3 0.6877335   0.536            0.7155560       0.5601541        \n",
       "4 0.2588170   0.513            0.2754756       0.1642908        \n",
       "5 0.3878439   0.468            0.3962124       0.4979086        \n",
       "6 0.1730035   0.516            0.1675698       0.1723292        \n",
       "  pred_seg2_rf_ALL reseller_geo pred_agg_glm_ALL_fb pred_agg_rf_ALL_fb\n",
       "1        NA        NA              NA               0.9550391         \n",
       "2 0.7075837        EU           0.817               0.6088277         \n",
       "3 0.7314602        EU           0.814               0.6477227         \n",
       "4 0.1535971        EU           0.833               0.2384536         \n",
       "5 0.3769304        EU           0.772               0.3972606         \n",
       "6 0.1027711        EU           0.823               0.1925156         \n",
       "  pred_agg_glm_fb pred_agg_rf_fb pred_seg_glm_ALL_fb pred_seg_rf_ALL_fb\n",
       "1    NA           0.7713468         NA                      NA         \n",
       "2 0.817           0.6676114      0.543               0.7268116         \n",
       "3 0.814           0.6877335      0.536               0.7155560         \n",
       "4 0.838           0.2588170      0.513               0.2754756         \n",
       "5 0.775           0.3878439      0.468               0.3962124         \n",
       "6 0.829           0.1730035      0.516               0.1675698         \n",
       "  pred_seg2_glm_ALL_fb pred_seg2_rf_ALL_fb reg_arpt_org reg_arpt_slab\n",
       "1        NA                   NA           25.00        (15,25]      \n",
       "2 0.5644593            0.7075837           18.33        (15,25]      \n",
       "3 0.5601541            0.7314602           18.33        (15,25]      \n",
       "4 0.1642908            0.1535971           29.33        (25,35]      \n",
       "5 0.4979086            0.3769304           16.67        (15,25]      \n",
       "6 0.1723292            0.1027711           30.00        (25,35]      \n",
       "  pred_seg2_rf_ALL_fb2 pred_seg2_glm_ALL_fb2 pred_seg_rf_ALL_fb2\n",
       "1 0.5510000            0.5510000             0.5510000          \n",
       "2 0.7075837            0.5644593             0.7268116          \n",
       "3 0.7314602            0.5601541             0.7155560          \n",
       "4 0.1535971            0.1642908             0.2754756          \n",
       "5 0.3769304            0.4979086             0.3962124          \n",
       "6 0.1027711            0.1723292             0.1675698          \n",
       "  pred_seg_glm_ALL_fb2 pred_agg_rf_fb2 pred_agg_glm_fb2 pred_agg_rf_ALL_fb2\n",
       "1 0.551                0.7713468       0.551            0.9550391          \n",
       "2 0.543                0.6676114       0.817            0.6088277          \n",
       "3 0.536                0.6877335       0.814            0.6477227          \n",
       "4 0.513                0.2588170       0.838            0.2384536          \n",
       "5 0.468                0.3878439       0.775            0.3972606          \n",
       "6 0.516                0.1730035       0.829            0.1925156          \n",
       "  pred_agg_glm_ALL_fb2\n",
       "1 0.551               \n",
       "2 0.817               \n",
       "3 0.814               \n",
       "4 0.833               \n",
       "5 0.772               \n",
       "6 0.823               "
      ]
     },
     "metadata": {},
     "output_type": "display_data"
    }
   ],
   "source": [
    "# geo_suppl for train and test-pred data\n",
    "preds_df <- read.csv(\"../../data/output/datapull_20201116/expiry_df_test_preds_fb.csv\")\n",
    "head(preds_df)"
   ]
  },
  {
   "cell_type": "code",
   "execution_count": 10,
   "metadata": {},
   "outputs": [
    {
     "name": "stderr",
     "output_type": "stream",
     "text": [
      "Warning message:\n",
      "“`funs()` is deprecated as of dplyr 0.8.0.\n",
      "Please use a list of either functions or lambdas: \n",
      "\n",
      "  # Simple named list: \n",
      "  list(mean = mean, median = median)\n",
      "\n",
      "  # Auto named with `tibble::lst()`: \n",
      "  tibble::lst(mean, median)\n",
      "\n",
      "  # Using lambdas\n",
      "  list(~ mean(., trim = .2), ~ median(., na.rm = TRUE))\n",
      "\u001b[90mThis warning is displayed once every 8 hours.\u001b[39m\n",
      "\u001b[90mCall `lifecycle::last_warnings()` to see where this warning was generated.\u001b[39m”\n"
     ]
    },
    {
     "data": {
      "text/html": [
       "<table>\n",
       "<caption>A matrix: 24 × 1 of type int</caption>\n",
       "<tbody>\n",
       "\t<tr><th scope=row>pred_agg_glm_ALL</th><td>    4</td></tr>\n",
       "\t<tr><th scope=row>pred_agg_rf_ALL</th><td>    0</td></tr>\n",
       "\t<tr><th scope=row>pred_agg_glm</th><td> 9704</td></tr>\n",
       "\t<tr><th scope=row>pred_agg_rf</th><td>    0</td></tr>\n",
       "\t<tr><th scope=row>pred_seg_glm_ALL</th><td>  254</td></tr>\n",
       "\t<tr><th scope=row>pred_seg_rf_ALL</th><td>    9</td></tr>\n",
       "\t<tr><th scope=row>pred_seg2_glm_ALL</th><td> 2092</td></tr>\n",
       "\t<tr><th scope=row>pred_seg2_rf_ALL</th><td>   58</td></tr>\n",
       "\t<tr><th scope=row>pred_agg_glm_ALL_fb</th><td>28999</td></tr>\n",
       "\t<tr><th scope=row>pred_agg_rf_ALL_fb</th><td>28995</td></tr>\n",
       "\t<tr><th scope=row>pred_agg_glm_fb</th><td>29047</td></tr>\n",
       "\t<tr><th scope=row>pred_agg_rf_fb</th><td>28995</td></tr>\n",
       "\t<tr><th scope=row>pred_seg_glm_ALL_fb</th><td>29012</td></tr>\n",
       "\t<tr><th scope=row>pred_seg_rf_ALL_fb</th><td>29004</td></tr>\n",
       "\t<tr><th scope=row>pred_seg2_glm_ALL_fb</th><td>29965</td></tr>\n",
       "\t<tr><th scope=row>pred_seg2_rf_ALL_fb</th><td>29053</td></tr>\n",
       "\t<tr><th scope=row>pred_seg2_rf_ALL_fb2</th><td>    0</td></tr>\n",
       "\t<tr><th scope=row>pred_seg2_glm_ALL_fb2</th><td>    0</td></tr>\n",
       "\t<tr><th scope=row>pred_seg_rf_ALL_fb2</th><td>    0</td></tr>\n",
       "\t<tr><th scope=row>pred_seg_glm_ALL_fb2</th><td>    0</td></tr>\n",
       "\t<tr><th scope=row>pred_agg_rf_fb2</th><td>    0</td></tr>\n",
       "\t<tr><th scope=row>pred_agg_glm_fb2</th><td>    0</td></tr>\n",
       "\t<tr><th scope=row>pred_agg_rf_ALL_fb2</th><td>    0</td></tr>\n",
       "\t<tr><th scope=row>pred_agg_glm_ALL_fb2</th><td>    0</td></tr>\n",
       "</tbody>\n",
       "</table>\n"
      ],
      "text/latex": [
       "A matrix: 24 × 1 of type int\n",
       "\\begin{tabular}{r|l}\n",
       "\tpred\\_agg\\_glm\\_ALL &     4\\\\\n",
       "\tpred\\_agg\\_rf\\_ALL &     0\\\\\n",
       "\tpred\\_agg\\_glm &  9704\\\\\n",
       "\tpred\\_agg\\_rf &     0\\\\\n",
       "\tpred\\_seg\\_glm\\_ALL &   254\\\\\n",
       "\tpred\\_seg\\_rf\\_ALL &     9\\\\\n",
       "\tpred\\_seg2\\_glm\\_ALL &  2092\\\\\n",
       "\tpred\\_seg2\\_rf\\_ALL &    58\\\\\n",
       "\tpred\\_agg\\_glm\\_ALL\\_fb & 28999\\\\\n",
       "\tpred\\_agg\\_rf\\_ALL\\_fb & 28995\\\\\n",
       "\tpred\\_agg\\_glm\\_fb & 29047\\\\\n",
       "\tpred\\_agg\\_rf\\_fb & 28995\\\\\n",
       "\tpred\\_seg\\_glm\\_ALL\\_fb & 29012\\\\\n",
       "\tpred\\_seg\\_rf\\_ALL\\_fb & 29004\\\\\n",
       "\tpred\\_seg2\\_glm\\_ALL\\_fb & 29965\\\\\n",
       "\tpred\\_seg2\\_rf\\_ALL\\_fb & 29053\\\\\n",
       "\tpred\\_seg2\\_rf\\_ALL\\_fb2 &     0\\\\\n",
       "\tpred\\_seg2\\_glm\\_ALL\\_fb2 &     0\\\\\n",
       "\tpred\\_seg\\_rf\\_ALL\\_fb2 &     0\\\\\n",
       "\tpred\\_seg\\_glm\\_ALL\\_fb2 &     0\\\\\n",
       "\tpred\\_agg\\_rf\\_fb2 &     0\\\\\n",
       "\tpred\\_agg\\_glm\\_fb2 &     0\\\\\n",
       "\tpred\\_agg\\_rf\\_ALL\\_fb2 &     0\\\\\n",
       "\tpred\\_agg\\_glm\\_ALL\\_fb2 &     0\\\\\n",
       "\\end{tabular}\n"
      ],
      "text/markdown": [
       "\n",
       "A matrix: 24 × 1 of type int\n",
       "\n",
       "| pred_agg_glm_ALL |     4 |\n",
       "| pred_agg_rf_ALL |     0 |\n",
       "| pred_agg_glm |  9704 |\n",
       "| pred_agg_rf |     0 |\n",
       "| pred_seg_glm_ALL |   254 |\n",
       "| pred_seg_rf_ALL |     9 |\n",
       "| pred_seg2_glm_ALL |  2092 |\n",
       "| pred_seg2_rf_ALL |    58 |\n",
       "| pred_agg_glm_ALL_fb | 28999 |\n",
       "| pred_agg_rf_ALL_fb | 28995 |\n",
       "| pred_agg_glm_fb | 29047 |\n",
       "| pred_agg_rf_fb | 28995 |\n",
       "| pred_seg_glm_ALL_fb | 29012 |\n",
       "| pred_seg_rf_ALL_fb | 29004 |\n",
       "| pred_seg2_glm_ALL_fb | 29965 |\n",
       "| pred_seg2_rf_ALL_fb | 29053 |\n",
       "| pred_seg2_rf_ALL_fb2 |     0 |\n",
       "| pred_seg2_glm_ALL_fb2 |     0 |\n",
       "| pred_seg_rf_ALL_fb2 |     0 |\n",
       "| pred_seg_glm_ALL_fb2 |     0 |\n",
       "| pred_agg_rf_fb2 |     0 |\n",
       "| pred_agg_glm_fb2 |     0 |\n",
       "| pred_agg_rf_ALL_fb2 |     0 |\n",
       "| pred_agg_glm_ALL_fb2 |     0 |\n",
       "\n"
      ],
      "text/plain": [
       "                      [,1] \n",
       "pred_agg_glm_ALL          4\n",
       "pred_agg_rf_ALL           0\n",
       "pred_agg_glm           9704\n",
       "pred_agg_rf               0\n",
       "pred_seg_glm_ALL        254\n",
       "pred_seg_rf_ALL           9\n",
       "pred_seg2_glm_ALL      2092\n",
       "pred_seg2_rf_ALL         58\n",
       "pred_agg_glm_ALL_fb   28999\n",
       "pred_agg_rf_ALL_fb    28995\n",
       "pred_agg_glm_fb       29047\n",
       "pred_agg_rf_fb        28995\n",
       "pred_seg_glm_ALL_fb   29012\n",
       "pred_seg_rf_ALL_fb    29004\n",
       "pred_seg2_glm_ALL_fb  29965\n",
       "pred_seg2_rf_ALL_fb   29053\n",
       "pred_seg2_rf_ALL_fb2      0\n",
       "pred_seg2_glm_ALL_fb2     0\n",
       "pred_seg_rf_ALL_fb2       0\n",
       "pred_seg_glm_ALL_fb2      0\n",
       "pred_agg_rf_fb2           0\n",
       "pred_agg_glm_fb2          0\n",
       "pred_agg_rf_ALL_fb2       0\n",
       "pred_agg_glm_ALL_fb2      0"
      ]
     },
     "metadata": {},
     "output_type": "display_data"
    }
   ],
   "source": [
    "preds_df %>%\n",
    "  select(contains('pred_')) %>%  # replace to your needs\n",
    "  summarise_all(funs(sum(is.na(.)))) %>% t()"
   ]
  },
  {
   "cell_type": "markdown",
   "metadata": {},
   "source": [
    "# ASSESS overall model performance\n",
    "original code in 02_*"
   ]
  },
  {
   "cell_type": "code",
   "execution_count": 11,
   "metadata": {},
   "outputs": [
    {
     "data": {
      "text/html": [
       "<table>\n",
       "<caption>A data.frame: 6 × 59</caption>\n",
       "<thead>\n",
       "\t<tr><th></th><th scope=col>reseller</th><th scope=col>reseller_country</th><th scope=col>domain_id</th><th scope=col>renewal_type</th><th scope=col>renewed_count</th><th scope=col>expiry_date</th><th scope=col>creation_date</th><th scope=col>status</th><th scope=col>domain</th><th scope=col>registrar</th><th scope=col>registrant_country</th><th scope=col>reg_period</th><th scope=col>reg_revenue</th><th scope=col>reg_arpt</th><th scope=col>renew_mbg</th><th scope=col>renewal_item_id</th><th scope=col>renew_type</th><th scope=col>autorenew_type</th><th scope=col>renewal_status</th><th scope=col>renew_date</th><th scope=col>renew_arpt</th><th scope=col>gibb_score</th><th scope=col>pattern</th><th scope=col>pattern_domain_count</th><th scope=col>day_domains</th><th scope=col>⋯</th><th scope=col>pred_agg_glm</th><th scope=col>pred_agg_rf</th><th scope=col>pred_seg_glm_ALL</th><th scope=col>pred_seg_rf_ALL</th><th scope=col>pred_seg2_glm_ALL</th><th scope=col>pred_seg2_rf_ALL</th><th scope=col>reseller_geo</th><th scope=col>pred_agg_glm_ALL_fb</th><th scope=col>pred_agg_rf_ALL_fb</th><th scope=col>pred_agg_glm_fb</th><th scope=col>pred_agg_rf_fb</th><th scope=col>pred_seg_glm_ALL_fb</th><th scope=col>pred_seg_rf_ALL_fb</th><th scope=col>pred_seg2_glm_ALL_fb</th><th scope=col>pred_seg2_rf_ALL_fb</th><th scope=col>reg_arpt_org</th><th scope=col>reg_arpt_slab</th><th scope=col>pred_seg2_rf_ALL_fb2</th><th scope=col>pred_seg2_glm_ALL_fb2</th><th scope=col>pred_seg_rf_ALL_fb2</th><th scope=col>pred_seg_glm_ALL_fb2</th><th scope=col>pred_agg_rf_fb2</th><th scope=col>pred_agg_glm_fb2</th><th scope=col>pred_agg_rf_ALL_fb2</th><th scope=col>pred_agg_glm_ALL_fb2</th></tr>\n",
       "\t<tr><th></th><th scope=col>&lt;fct&gt;</th><th scope=col>&lt;fct&gt;</th><th scope=col>&lt;int&gt;</th><th scope=col>&lt;fct&gt;</th><th scope=col>&lt;int&gt;</th><th scope=col>&lt;fct&gt;</th><th scope=col>&lt;fct&gt;</th><th scope=col>&lt;fct&gt;</th><th scope=col>&lt;fct&gt;</th><th scope=col>&lt;fct&gt;</th><th scope=col>&lt;fct&gt;</th><th scope=col>&lt;int&gt;</th><th scope=col>&lt;dbl&gt;</th><th scope=col>&lt;dbl&gt;</th><th scope=col>&lt;int&gt;</th><th scope=col>&lt;int&gt;</th><th scope=col>&lt;fct&gt;</th><th scope=col>&lt;fct&gt;</th><th scope=col>&lt;fct&gt;</th><th scope=col>&lt;fct&gt;</th><th scope=col>&lt;dbl&gt;</th><th scope=col>&lt;dbl&gt;</th><th scope=col>&lt;fct&gt;</th><th scope=col>&lt;int&gt;</th><th scope=col>&lt;int&gt;</th><th scope=col>⋯</th><th scope=col>&lt;dbl&gt;</th><th scope=col>&lt;dbl&gt;</th><th scope=col>&lt;dbl&gt;</th><th scope=col>&lt;dbl&gt;</th><th scope=col>&lt;dbl&gt;</th><th scope=col>&lt;dbl&gt;</th><th scope=col>&lt;fct&gt;</th><th scope=col>&lt;dbl&gt;</th><th scope=col>&lt;dbl&gt;</th><th scope=col>&lt;dbl&gt;</th><th scope=col>&lt;dbl&gt;</th><th scope=col>&lt;dbl&gt;</th><th scope=col>&lt;dbl&gt;</th><th scope=col>&lt;dbl&gt;</th><th scope=col>&lt;dbl&gt;</th><th scope=col>&lt;dbl&gt;</th><th scope=col>&lt;fct&gt;</th><th scope=col>&lt;dbl&gt;</th><th scope=col>&lt;dbl&gt;</th><th scope=col>&lt;dbl&gt;</th><th scope=col>&lt;dbl&gt;</th><th scope=col>&lt;dbl&gt;</th><th scope=col>&lt;dbl&gt;</th><th scope=col>&lt;dbl&gt;</th><th scope=col>&lt;dbl&gt;</th></tr>\n",
       "</thead>\n",
       "<tbody>\n",
       "\t<tr><th scope=row>1</th><td>            </td><td>       </td><td>122049036</td><td>FirstTime</td><td>1</td><td>2020-08-30</td><td>2019-08-30</td><td>Active</td><td>qianxiyun.online            </td><td>            </td><td>NA</td><td>1</td><td>25</td><td>25.00</td><td>0</td><td>341703158</td><td>auto-renewal</td><td>unrealized</td><td>Not Renewd</td><td>2020-08-30</td><td> 6</td><td>0.63</td><td>qianxiyun            </td><td>1</td><td> 1</td><td>⋯</td><td>   NA</td><td>0.7713468</td><td>   NA</td><td>       NA</td><td>       NA</td><td>       NA</td><td>NA</td><td>   NA</td><td>0.9550391</td><td>   NA</td><td>0.7713468</td><td>   NA</td><td>       NA</td><td>       NA</td><td>       NA</td><td>25.00</td><td>(15,25]</td><td>0.5510000</td><td>0.5510000</td><td>0.5510000</td><td>0.551</td><td>0.7713468</td><td>0.551</td><td>0.9550391</td><td>0.551</td></tr>\n",
       "\t<tr><th scope=row>2</th><td>1&amp;1 Internet</td><td>Germany</td><td> 43450963</td><td>FirstTime</td><td>1</td><td>2020-01-27</td><td>2017-01-27</td><td>Active</td><td><span style=white-space:pre-wrap>ncyc.online                 </span></td><td>1&amp;1 Internet</td><td>NA</td><td>3</td><td>55</td><td>18.33</td><td>0</td><td>239731665</td><td><span style=white-space:pre-wrap>transfer    </span></td><td><span style=white-space:pre-wrap>NA        </span></td><td><span style=white-space:pre-wrap>Renewed   </span></td><td>2019-10-13</td><td>25</td><td>1.18</td><td><span style=white-space:pre-wrap>ncyc                 </span></td><td>1</td><td>23</td><td>⋯</td><td>0.817</td><td>0.6676114</td><td>0.543</td><td>0.7268116</td><td>0.5644593</td><td>0.7075837</td><td>EU</td><td>0.817</td><td>0.6088277</td><td>0.817</td><td>0.6676114</td><td>0.543</td><td>0.7268116</td><td>0.5644593</td><td>0.7075837</td><td>18.33</td><td>(15,25]</td><td>0.7075837</td><td>0.5644593</td><td>0.7268116</td><td>0.543</td><td>0.6676114</td><td>0.817</td><td>0.6088277</td><td>0.817</td></tr>\n",
       "\t<tr><th scope=row>3</th><td>1&amp;1 Internet</td><td>Germany</td><td> 43576888</td><td>FirstTime</td><td>1</td><td>2020-01-31</td><td>2017-01-31</td><td>Active</td><td><span style=white-space:pre-wrap>audev.online                </span></td><td>1&amp;1 Internet</td><td>NA</td><td>3</td><td>55</td><td>18.33</td><td>0</td><td>287997921</td><td>auto-renewal</td><td><span style=white-space:pre-wrap>realized  </span></td><td><span style=white-space:pre-wrap>Renewed   </span></td><td>2020-01-31</td><td>25</td><td>2.57</td><td><span style=white-space:pre-wrap>audev                </span></td><td>1</td><td>43</td><td>⋯</td><td>0.814</td><td>0.6877335</td><td>0.536</td><td>0.7155560</td><td>0.5601541</td><td>0.7314602</td><td>EU</td><td>0.814</td><td>0.6477227</td><td>0.814</td><td>0.6877335</td><td>0.536</td><td>0.7155560</td><td>0.5601541</td><td>0.7314602</td><td>18.33</td><td>(15,25]</td><td>0.7314602</td><td>0.5601541</td><td>0.7155560</td><td>0.536</td><td>0.6877335</td><td>0.814</td><td>0.6477227</td><td>0.814</td></tr>\n",
       "\t<tr><th scope=row>4</th><td>1&amp;1 Internet</td><td>Germany</td><td> 43727452</td><td>FirstTime</td><td>1</td><td>2020-02-03</td><td>2017-02-03</td><td>Active</td><td><span style=white-space:pre-wrap>pinkpanther.store           </span></td><td>1&amp;1 Internet</td><td>NA</td><td>3</td><td>88</td><td>29.33</td><td>0</td><td>288786056</td><td>auto-renewal</td><td>unrealized</td><td>Not Renewd</td><td>2020-02-03</td><td>40</td><td>7.27</td><td><span style=white-space:pre-wrap>pinkpanther          </span></td><td>1</td><td> 3</td><td>⋯</td><td>0.838</td><td>0.2588170</td><td>0.513</td><td>0.2754756</td><td>0.1642908</td><td>0.1535971</td><td>EU</td><td>0.833</td><td>0.2384536</td><td>0.838</td><td>0.2588170</td><td>0.513</td><td>0.2754756</td><td>0.1642908</td><td>0.1535971</td><td>29.33</td><td>(25,35]</td><td>0.1535971</td><td>0.1642908</td><td>0.2754756</td><td>0.513</td><td>0.2588170</td><td>0.838</td><td>0.2384536</td><td>0.833</td></tr>\n",
       "\t<tr><th scope=row>5</th><td>1&amp;1 Internet</td><td>Germany</td><td> 46911148</td><td>FirstTime</td><td>1</td><td>2020-04-17</td><td>2017-04-17</td><td>Active</td><td>lmengineeringservices.online</td><td>1&amp;1 Internet</td><td>NA</td><td>3</td><td>50</td><td>16.67</td><td>0</td><td>308749164</td><td>auto-renewal</td><td><span style=white-space:pre-wrap>realized  </span></td><td><span style=white-space:pre-wrap>Renewed   </span></td><td>2020-04-17</td><td>25</td><td>7.81</td><td>lmengineeringservices</td><td>1</td><td>69</td><td>⋯</td><td>0.775</td><td>0.3878439</td><td>0.468</td><td>0.3962124</td><td>0.4979086</td><td>0.3769304</td><td>EU</td><td>0.772</td><td>0.3972606</td><td>0.775</td><td>0.3878439</td><td>0.468</td><td>0.3962124</td><td>0.4979086</td><td>0.3769304</td><td>16.67</td><td>(15,25]</td><td>0.3769304</td><td>0.4979086</td><td>0.3962124</td><td>0.468</td><td>0.3878439</td><td>0.775</td><td>0.3972606</td><td>0.772</td></tr>\n",
       "\t<tr><th scope=row>6</th><td>1&amp;1 Internet</td><td>Germany</td><td> 47605334</td><td>FirstTime</td><td>1</td><td>2020-05-08</td><td>2017-05-08</td><td>Active</td><td><span style=white-space:pre-wrap>eagleeyeview.store          </span></td><td>1&amp;1 Internet</td><td>NA</td><td>3</td><td>90</td><td>30.00</td><td>0</td><td>313867134</td><td>auto-renewal</td><td>unrealized</td><td>Not Renewd</td><td>2020-05-08</td><td>40</td><td>3.41</td><td><span style=white-space:pre-wrap>eagleeyeview         </span></td><td>1</td><td> 4</td><td>⋯</td><td>0.829</td><td>0.1730035</td><td>0.516</td><td>0.1675698</td><td>0.1723292</td><td>0.1027711</td><td>EU</td><td>0.823</td><td>0.1925156</td><td>0.829</td><td>0.1730035</td><td>0.516</td><td>0.1675698</td><td>0.1723292</td><td>0.1027711</td><td>30.00</td><td>(25,35]</td><td>0.1027711</td><td>0.1723292</td><td>0.1675698</td><td>0.516</td><td>0.1730035</td><td>0.829</td><td>0.1925156</td><td>0.823</td></tr>\n",
       "</tbody>\n",
       "</table>\n"
      ],
      "text/latex": [
       "A data.frame: 6 × 59\n",
       "\\begin{tabular}{r|lllllllllllllllllllllllllllllllllllllllllllllllllll}\n",
       "  & reseller & reseller\\_country & domain\\_id & renewal\\_type & renewed\\_count & expiry\\_date & creation\\_date & status & domain & registrar & registrant\\_country & reg\\_period & reg\\_revenue & reg\\_arpt & renew\\_mbg & renewal\\_item\\_id & renew\\_type & autorenew\\_type & renewal\\_status & renew\\_date & renew\\_arpt & gibb\\_score & pattern & pattern\\_domain\\_count & day\\_domains & ⋯ & pred\\_agg\\_glm & pred\\_agg\\_rf & pred\\_seg\\_glm\\_ALL & pred\\_seg\\_rf\\_ALL & pred\\_seg2\\_glm\\_ALL & pred\\_seg2\\_rf\\_ALL & reseller\\_geo & pred\\_agg\\_glm\\_ALL\\_fb & pred\\_agg\\_rf\\_ALL\\_fb & pred\\_agg\\_glm\\_fb & pred\\_agg\\_rf\\_fb & pred\\_seg\\_glm\\_ALL\\_fb & pred\\_seg\\_rf\\_ALL\\_fb & pred\\_seg2\\_glm\\_ALL\\_fb & pred\\_seg2\\_rf\\_ALL\\_fb & reg\\_arpt\\_org & reg\\_arpt\\_slab & pred\\_seg2\\_rf\\_ALL\\_fb2 & pred\\_seg2\\_glm\\_ALL\\_fb2 & pred\\_seg\\_rf\\_ALL\\_fb2 & pred\\_seg\\_glm\\_ALL\\_fb2 & pred\\_agg\\_rf\\_fb2 & pred\\_agg\\_glm\\_fb2 & pred\\_agg\\_rf\\_ALL\\_fb2 & pred\\_agg\\_glm\\_ALL\\_fb2\\\\\n",
       "  & <fct> & <fct> & <int> & <fct> & <int> & <fct> & <fct> & <fct> & <fct> & <fct> & <fct> & <int> & <dbl> & <dbl> & <int> & <int> & <fct> & <fct> & <fct> & <fct> & <dbl> & <dbl> & <fct> & <int> & <int> & ⋯ & <dbl> & <dbl> & <dbl> & <dbl> & <dbl> & <dbl> & <fct> & <dbl> & <dbl> & <dbl> & <dbl> & <dbl> & <dbl> & <dbl> & <dbl> & <dbl> & <fct> & <dbl> & <dbl> & <dbl> & <dbl> & <dbl> & <dbl> & <dbl> & <dbl>\\\\\n",
       "\\hline\n",
       "\t1 &              &         & 122049036 & FirstTime & 1 & 2020-08-30 & 2019-08-30 & Active & qianxiyun.online             &              & NA & 1 & 25 & 25.00 & 0 & 341703158 & auto-renewal & unrealized & Not Renewd & 2020-08-30 &  6 & 0.63 & qianxiyun             & 1 &  1 & ⋯ &    NA & 0.7713468 &    NA &        NA &        NA &        NA & NA &    NA & 0.9550391 &    NA & 0.7713468 &    NA &        NA &        NA &        NA & 25.00 & (15,25{]} & 0.5510000 & 0.5510000 & 0.5510000 & 0.551 & 0.7713468 & 0.551 & 0.9550391 & 0.551\\\\\n",
       "\t2 & 1\\&1 Internet & Germany &  43450963 & FirstTime & 1 & 2020-01-27 & 2017-01-27 & Active & ncyc.online                  & 1\\&1 Internet & NA & 3 & 55 & 18.33 & 0 & 239731665 & transfer     & NA         & Renewed    & 2019-10-13 & 25 & 1.18 & ncyc                  & 1 & 23 & ⋯ & 0.817 & 0.6676114 & 0.543 & 0.7268116 & 0.5644593 & 0.7075837 & EU & 0.817 & 0.6088277 & 0.817 & 0.6676114 & 0.543 & 0.7268116 & 0.5644593 & 0.7075837 & 18.33 & (15,25{]} & 0.7075837 & 0.5644593 & 0.7268116 & 0.543 & 0.6676114 & 0.817 & 0.6088277 & 0.817\\\\\n",
       "\t3 & 1\\&1 Internet & Germany &  43576888 & FirstTime & 1 & 2020-01-31 & 2017-01-31 & Active & audev.online                 & 1\\&1 Internet & NA & 3 & 55 & 18.33 & 0 & 287997921 & auto-renewal & realized   & Renewed    & 2020-01-31 & 25 & 2.57 & audev                 & 1 & 43 & ⋯ & 0.814 & 0.6877335 & 0.536 & 0.7155560 & 0.5601541 & 0.7314602 & EU & 0.814 & 0.6477227 & 0.814 & 0.6877335 & 0.536 & 0.7155560 & 0.5601541 & 0.7314602 & 18.33 & (15,25{]} & 0.7314602 & 0.5601541 & 0.7155560 & 0.536 & 0.6877335 & 0.814 & 0.6477227 & 0.814\\\\\n",
       "\t4 & 1\\&1 Internet & Germany &  43727452 & FirstTime & 1 & 2020-02-03 & 2017-02-03 & Active & pinkpanther.store            & 1\\&1 Internet & NA & 3 & 88 & 29.33 & 0 & 288786056 & auto-renewal & unrealized & Not Renewd & 2020-02-03 & 40 & 7.27 & pinkpanther           & 1 &  3 & ⋯ & 0.838 & 0.2588170 & 0.513 & 0.2754756 & 0.1642908 & 0.1535971 & EU & 0.833 & 0.2384536 & 0.838 & 0.2588170 & 0.513 & 0.2754756 & 0.1642908 & 0.1535971 & 29.33 & (25,35{]} & 0.1535971 & 0.1642908 & 0.2754756 & 0.513 & 0.2588170 & 0.838 & 0.2384536 & 0.833\\\\\n",
       "\t5 & 1\\&1 Internet & Germany &  46911148 & FirstTime & 1 & 2020-04-17 & 2017-04-17 & Active & lmengineeringservices.online & 1\\&1 Internet & NA & 3 & 50 & 16.67 & 0 & 308749164 & auto-renewal & realized   & Renewed    & 2020-04-17 & 25 & 7.81 & lmengineeringservices & 1 & 69 & ⋯ & 0.775 & 0.3878439 & 0.468 & 0.3962124 & 0.4979086 & 0.3769304 & EU & 0.772 & 0.3972606 & 0.775 & 0.3878439 & 0.468 & 0.3962124 & 0.4979086 & 0.3769304 & 16.67 & (15,25{]} & 0.3769304 & 0.4979086 & 0.3962124 & 0.468 & 0.3878439 & 0.775 & 0.3972606 & 0.772\\\\\n",
       "\t6 & 1\\&1 Internet & Germany &  47605334 & FirstTime & 1 & 2020-05-08 & 2017-05-08 & Active & eagleeyeview.store           & 1\\&1 Internet & NA & 3 & 90 & 30.00 & 0 & 313867134 & auto-renewal & unrealized & Not Renewd & 2020-05-08 & 40 & 3.41 & eagleeyeview          & 1 &  4 & ⋯ & 0.829 & 0.1730035 & 0.516 & 0.1675698 & 0.1723292 & 0.1027711 & EU & 0.823 & 0.1925156 & 0.829 & 0.1730035 & 0.516 & 0.1675698 & 0.1723292 & 0.1027711 & 30.00 & (25,35{]} & 0.1027711 & 0.1723292 & 0.1675698 & 0.516 & 0.1730035 & 0.829 & 0.1925156 & 0.823\\\\\n",
       "\\end{tabular}\n"
      ],
      "text/markdown": [
       "\n",
       "A data.frame: 6 × 59\n",
       "\n",
       "| <!--/--> | reseller &lt;fct&gt; | reseller_country &lt;fct&gt; | domain_id &lt;int&gt; | renewal_type &lt;fct&gt; | renewed_count &lt;int&gt; | expiry_date &lt;fct&gt; | creation_date &lt;fct&gt; | status &lt;fct&gt; | domain &lt;fct&gt; | registrar &lt;fct&gt; | registrant_country &lt;fct&gt; | reg_period &lt;int&gt; | reg_revenue &lt;dbl&gt; | reg_arpt &lt;dbl&gt; | renew_mbg &lt;int&gt; | renewal_item_id &lt;int&gt; | renew_type &lt;fct&gt; | autorenew_type &lt;fct&gt; | renewal_status &lt;fct&gt; | renew_date &lt;fct&gt; | renew_arpt &lt;dbl&gt; | gibb_score &lt;dbl&gt; | pattern &lt;fct&gt; | pattern_domain_count &lt;int&gt; | day_domains &lt;int&gt; | ⋯ ⋯ | pred_agg_glm &lt;dbl&gt; | pred_agg_rf &lt;dbl&gt; | pred_seg_glm_ALL &lt;dbl&gt; | pred_seg_rf_ALL &lt;dbl&gt; | pred_seg2_glm_ALL &lt;dbl&gt; | pred_seg2_rf_ALL &lt;dbl&gt; | reseller_geo &lt;fct&gt; | pred_agg_glm_ALL_fb &lt;dbl&gt; | pred_agg_rf_ALL_fb &lt;dbl&gt; | pred_agg_glm_fb &lt;dbl&gt; | pred_agg_rf_fb &lt;dbl&gt; | pred_seg_glm_ALL_fb &lt;dbl&gt; | pred_seg_rf_ALL_fb &lt;dbl&gt; | pred_seg2_glm_ALL_fb &lt;dbl&gt; | pred_seg2_rf_ALL_fb &lt;dbl&gt; | reg_arpt_org &lt;dbl&gt; | reg_arpt_slab &lt;fct&gt; | pred_seg2_rf_ALL_fb2 &lt;dbl&gt; | pred_seg2_glm_ALL_fb2 &lt;dbl&gt; | pred_seg_rf_ALL_fb2 &lt;dbl&gt; | pred_seg_glm_ALL_fb2 &lt;dbl&gt; | pred_agg_rf_fb2 &lt;dbl&gt; | pred_agg_glm_fb2 &lt;dbl&gt; | pred_agg_rf_ALL_fb2 &lt;dbl&gt; | pred_agg_glm_ALL_fb2 &lt;dbl&gt; |\n",
       "|---|---|---|---|---|---|---|---|---|---|---|---|---|---|---|---|---|---|---|---|---|---|---|---|---|---|---|---|---|---|---|---|---|---|---|---|---|---|---|---|---|---|---|---|---|---|---|---|---|---|---|---|\n",
       "| 1 | <!----> | <!----> | 122049036 | FirstTime | 1 | 2020-08-30 | 2019-08-30 | Active | qianxiyun.online             | <!----> | NA | 1 | 25 | 25.00 | 0 | 341703158 | auto-renewal | unrealized | Not Renewd | 2020-08-30 |  6 | 0.63 | qianxiyun             | 1 |  1 | ⋯ |    NA | 0.7713468 |    NA |        NA |        NA |        NA | NA |    NA | 0.9550391 |    NA | 0.7713468 |    NA |        NA |        NA |        NA | 25.00 | (15,25] | 0.5510000 | 0.5510000 | 0.5510000 | 0.551 | 0.7713468 | 0.551 | 0.9550391 | 0.551 |\n",
       "| 2 | 1&amp;1 Internet | Germany |  43450963 | FirstTime | 1 | 2020-01-27 | 2017-01-27 | Active | ncyc.online                  | 1&amp;1 Internet | NA | 3 | 55 | 18.33 | 0 | 239731665 | transfer     | NA         | Renewed    | 2019-10-13 | 25 | 1.18 | ncyc                  | 1 | 23 | ⋯ | 0.817 | 0.6676114 | 0.543 | 0.7268116 | 0.5644593 | 0.7075837 | EU | 0.817 | 0.6088277 | 0.817 | 0.6676114 | 0.543 | 0.7268116 | 0.5644593 | 0.7075837 | 18.33 | (15,25] | 0.7075837 | 0.5644593 | 0.7268116 | 0.543 | 0.6676114 | 0.817 | 0.6088277 | 0.817 |\n",
       "| 3 | 1&amp;1 Internet | Germany |  43576888 | FirstTime | 1 | 2020-01-31 | 2017-01-31 | Active | audev.online                 | 1&amp;1 Internet | NA | 3 | 55 | 18.33 | 0 | 287997921 | auto-renewal | realized   | Renewed    | 2020-01-31 | 25 | 2.57 | audev                 | 1 | 43 | ⋯ | 0.814 | 0.6877335 | 0.536 | 0.7155560 | 0.5601541 | 0.7314602 | EU | 0.814 | 0.6477227 | 0.814 | 0.6877335 | 0.536 | 0.7155560 | 0.5601541 | 0.7314602 | 18.33 | (15,25] | 0.7314602 | 0.5601541 | 0.7155560 | 0.536 | 0.6877335 | 0.814 | 0.6477227 | 0.814 |\n",
       "| 4 | 1&amp;1 Internet | Germany |  43727452 | FirstTime | 1 | 2020-02-03 | 2017-02-03 | Active | pinkpanther.store            | 1&amp;1 Internet | NA | 3 | 88 | 29.33 | 0 | 288786056 | auto-renewal | unrealized | Not Renewd | 2020-02-03 | 40 | 7.27 | pinkpanther           | 1 |  3 | ⋯ | 0.838 | 0.2588170 | 0.513 | 0.2754756 | 0.1642908 | 0.1535971 | EU | 0.833 | 0.2384536 | 0.838 | 0.2588170 | 0.513 | 0.2754756 | 0.1642908 | 0.1535971 | 29.33 | (25,35] | 0.1535971 | 0.1642908 | 0.2754756 | 0.513 | 0.2588170 | 0.838 | 0.2384536 | 0.833 |\n",
       "| 5 | 1&amp;1 Internet | Germany |  46911148 | FirstTime | 1 | 2020-04-17 | 2017-04-17 | Active | lmengineeringservices.online | 1&amp;1 Internet | NA | 3 | 50 | 16.67 | 0 | 308749164 | auto-renewal | realized   | Renewed    | 2020-04-17 | 25 | 7.81 | lmengineeringservices | 1 | 69 | ⋯ | 0.775 | 0.3878439 | 0.468 | 0.3962124 | 0.4979086 | 0.3769304 | EU | 0.772 | 0.3972606 | 0.775 | 0.3878439 | 0.468 | 0.3962124 | 0.4979086 | 0.3769304 | 16.67 | (15,25] | 0.3769304 | 0.4979086 | 0.3962124 | 0.468 | 0.3878439 | 0.775 | 0.3972606 | 0.772 |\n",
       "| 6 | 1&amp;1 Internet | Germany |  47605334 | FirstTime | 1 | 2020-05-08 | 2017-05-08 | Active | eagleeyeview.store           | 1&amp;1 Internet | NA | 3 | 90 | 30.00 | 0 | 313867134 | auto-renewal | unrealized | Not Renewd | 2020-05-08 | 40 | 3.41 | eagleeyeview          | 1 |  4 | ⋯ | 0.829 | 0.1730035 | 0.516 | 0.1675698 | 0.1723292 | 0.1027711 | EU | 0.823 | 0.1925156 | 0.829 | 0.1730035 | 0.516 | 0.1675698 | 0.1723292 | 0.1027711 | 30.00 | (25,35] | 0.1027711 | 0.1723292 | 0.1675698 | 0.516 | 0.1730035 | 0.829 | 0.1925156 | 0.823 |\n",
       "\n"
      ],
      "text/plain": [
       "  reseller     reseller_country domain_id renewal_type renewed_count\n",
       "1                               122049036 FirstTime    1            \n",
       "2 1&1 Internet Germany           43450963 FirstTime    1            \n",
       "3 1&1 Internet Germany           43576888 FirstTime    1            \n",
       "4 1&1 Internet Germany           43727452 FirstTime    1            \n",
       "5 1&1 Internet Germany           46911148 FirstTime    1            \n",
       "6 1&1 Internet Germany           47605334 FirstTime    1            \n",
       "  expiry_date creation_date status domain                       registrar   \n",
       "1 2020-08-30  2019-08-30    Active qianxiyun.online                         \n",
       "2 2020-01-27  2017-01-27    Active ncyc.online                  1&1 Internet\n",
       "3 2020-01-31  2017-01-31    Active audev.online                 1&1 Internet\n",
       "4 2020-02-03  2017-02-03    Active pinkpanther.store            1&1 Internet\n",
       "5 2020-04-17  2017-04-17    Active lmengineeringservices.online 1&1 Internet\n",
       "6 2020-05-08  2017-05-08    Active eagleeyeview.store           1&1 Internet\n",
       "  registrant_country reg_period reg_revenue reg_arpt renew_mbg renewal_item_id\n",
       "1 NA                 1          25          25.00    0         341703158      \n",
       "2 NA                 3          55          18.33    0         239731665      \n",
       "3 NA                 3          55          18.33    0         287997921      \n",
       "4 NA                 3          88          29.33    0         288786056      \n",
       "5 NA                 3          50          16.67    0         308749164      \n",
       "6 NA                 3          90          30.00    0         313867134      \n",
       "  renew_type   autorenew_type renewal_status renew_date renew_arpt gibb_score\n",
       "1 auto-renewal unrealized     Not Renewd     2020-08-30  6         0.63      \n",
       "2 transfer     NA             Renewed        2019-10-13 25         1.18      \n",
       "3 auto-renewal realized       Renewed        2020-01-31 25         2.57      \n",
       "4 auto-renewal unrealized     Not Renewd     2020-02-03 40         7.27      \n",
       "5 auto-renewal realized       Renewed        2020-04-17 25         7.81      \n",
       "6 auto-renewal unrealized     Not Renewd     2020-05-08 40         3.41      \n",
       "  pattern               pattern_domain_count day_domains ⋯ pred_agg_glm\n",
       "1 qianxiyun             1                     1          ⋯    NA       \n",
       "2 ncyc                  1                    23          ⋯ 0.817       \n",
       "3 audev                 1                    43          ⋯ 0.814       \n",
       "4 pinkpanther           1                     3          ⋯ 0.838       \n",
       "5 lmengineeringservices 1                    69          ⋯ 0.775       \n",
       "6 eagleeyeview          1                     4          ⋯ 0.829       \n",
       "  pred_agg_rf pred_seg_glm_ALL pred_seg_rf_ALL pred_seg2_glm_ALL\n",
       "1 0.7713468      NA                   NA              NA        \n",
       "2 0.6676114   0.543            0.7268116       0.5644593        \n",
       "3 0.6877335   0.536            0.7155560       0.5601541        \n",
       "4 0.2588170   0.513            0.2754756       0.1642908        \n",
       "5 0.3878439   0.468            0.3962124       0.4979086        \n",
       "6 0.1730035   0.516            0.1675698       0.1723292        \n",
       "  pred_seg2_rf_ALL reseller_geo pred_agg_glm_ALL_fb pred_agg_rf_ALL_fb\n",
       "1        NA        NA              NA               0.9550391         \n",
       "2 0.7075837        EU           0.817               0.6088277         \n",
       "3 0.7314602        EU           0.814               0.6477227         \n",
       "4 0.1535971        EU           0.833               0.2384536         \n",
       "5 0.3769304        EU           0.772               0.3972606         \n",
       "6 0.1027711        EU           0.823               0.1925156         \n",
       "  pred_agg_glm_fb pred_agg_rf_fb pred_seg_glm_ALL_fb pred_seg_rf_ALL_fb\n",
       "1    NA           0.7713468         NA                      NA         \n",
       "2 0.817           0.6676114      0.543               0.7268116         \n",
       "3 0.814           0.6877335      0.536               0.7155560         \n",
       "4 0.838           0.2588170      0.513               0.2754756         \n",
       "5 0.775           0.3878439      0.468               0.3962124         \n",
       "6 0.829           0.1730035      0.516               0.1675698         \n",
       "  pred_seg2_glm_ALL_fb pred_seg2_rf_ALL_fb reg_arpt_org reg_arpt_slab\n",
       "1        NA                   NA           25.00        (15,25]      \n",
       "2 0.5644593            0.7075837           18.33        (15,25]      \n",
       "3 0.5601541            0.7314602           18.33        (15,25]      \n",
       "4 0.1642908            0.1535971           29.33        (25,35]      \n",
       "5 0.4979086            0.3769304           16.67        (15,25]      \n",
       "6 0.1723292            0.1027711           30.00        (25,35]      \n",
       "  pred_seg2_rf_ALL_fb2 pred_seg2_glm_ALL_fb2 pred_seg_rf_ALL_fb2\n",
       "1 0.5510000            0.5510000             0.5510000          \n",
       "2 0.7075837            0.5644593             0.7268116          \n",
       "3 0.7314602            0.5601541             0.7155560          \n",
       "4 0.1535971            0.1642908             0.2754756          \n",
       "5 0.3769304            0.4979086             0.3962124          \n",
       "6 0.1027711            0.1723292             0.1675698          \n",
       "  pred_seg_glm_ALL_fb2 pred_agg_rf_fb2 pred_agg_glm_fb2 pred_agg_rf_ALL_fb2\n",
       "1 0.551                0.7713468       0.551            0.9550391          \n",
       "2 0.543                0.6676114       0.817            0.6088277          \n",
       "3 0.536                0.6877335       0.814            0.6477227          \n",
       "4 0.513                0.2588170       0.838            0.2384536          \n",
       "5 0.468                0.3878439       0.775            0.3972606          \n",
       "6 0.516                0.1730035       0.829            0.1925156          \n",
       "  pred_agg_glm_ALL_fb2\n",
       "1 0.551               \n",
       "2 0.817               \n",
       "3 0.814               \n",
       "4 0.833               \n",
       "5 0.772               \n",
       "6 0.823               "
      ]
     },
     "metadata": {},
     "output_type": "display_data"
    }
   ],
   "source": [
    "head(preds_df)"
   ]
  },
  {
   "cell_type": "code",
   "execution_count": 12,
   "metadata": {},
   "outputs": [
    {
     "data": {
      "text/html": [
       "<table>\n",
       "<caption>A data.frame: 6 × 59</caption>\n",
       "<thead>\n",
       "\t<tr><th></th><th scope=col>reseller</th><th scope=col>reseller_country</th><th scope=col>domain_id</th><th scope=col>renewal_type</th><th scope=col>renewed_count</th><th scope=col>expiry_date</th><th scope=col>creation_date</th><th scope=col>status</th><th scope=col>domain</th><th scope=col>registrar</th><th scope=col>registrant_country</th><th scope=col>reg_period</th><th scope=col>reg_revenue</th><th scope=col>reg_arpt</th><th scope=col>renew_mbg</th><th scope=col>renewal_item_id</th><th scope=col>renew_type</th><th scope=col>autorenew_type</th><th scope=col>renewal_status</th><th scope=col>renew_date</th><th scope=col>renew_arpt</th><th scope=col>gibb_score</th><th scope=col>pattern</th><th scope=col>pattern_domain_count</th><th scope=col>day_domains</th><th scope=col>⋯</th><th scope=col>pred_agg_glm</th><th scope=col>pred_agg_rf</th><th scope=col>pred_seg_glm_ALL</th><th scope=col>pred_seg_rf_ALL</th><th scope=col>pred_seg2_glm_ALL</th><th scope=col>pred_seg2_rf_ALL</th><th scope=col>reseller_geo</th><th scope=col>pred_agg_glm_ALL_fb</th><th scope=col>pred_agg_rf_ALL_fb</th><th scope=col>pred_agg_glm_fb</th><th scope=col>pred_agg_rf_fb</th><th scope=col>pred_seg_glm_ALL_fb</th><th scope=col>pred_seg_rf_ALL_fb</th><th scope=col>pred_seg2_glm_ALL_fb</th><th scope=col>pred_seg2_rf_ALL_fb</th><th scope=col>reg_arpt_org</th><th scope=col>reg_arpt_slab</th><th scope=col>pred_seg2_rf_ALL_fb2</th><th scope=col>pred_seg2_glm_ALL_fb2</th><th scope=col>pred_seg_rf_ALL_fb2</th><th scope=col>pred_seg_glm_ALL_fb2</th><th scope=col>pred_agg_rf_fb2</th><th scope=col>pred_agg_glm_fb2</th><th scope=col>pred_agg_rf_ALL_fb2</th><th scope=col>pred_agg_glm_ALL_fb2</th></tr>\n",
       "\t<tr><th></th><th scope=col>&lt;fct&gt;</th><th scope=col>&lt;fct&gt;</th><th scope=col>&lt;int&gt;</th><th scope=col>&lt;fct&gt;</th><th scope=col>&lt;int&gt;</th><th scope=col>&lt;fct&gt;</th><th scope=col>&lt;fct&gt;</th><th scope=col>&lt;fct&gt;</th><th scope=col>&lt;fct&gt;</th><th scope=col>&lt;fct&gt;</th><th scope=col>&lt;fct&gt;</th><th scope=col>&lt;int&gt;</th><th scope=col>&lt;dbl&gt;</th><th scope=col>&lt;dbl&gt;</th><th scope=col>&lt;int&gt;</th><th scope=col>&lt;int&gt;</th><th scope=col>&lt;fct&gt;</th><th scope=col>&lt;fct&gt;</th><th scope=col>&lt;fct&gt;</th><th scope=col>&lt;fct&gt;</th><th scope=col>&lt;dbl&gt;</th><th scope=col>&lt;dbl&gt;</th><th scope=col>&lt;fct&gt;</th><th scope=col>&lt;int&gt;</th><th scope=col>&lt;int&gt;</th><th scope=col>⋯</th><th scope=col>&lt;dbl&gt;</th><th scope=col>&lt;dbl&gt;</th><th scope=col>&lt;dbl&gt;</th><th scope=col>&lt;dbl&gt;</th><th scope=col>&lt;dbl&gt;</th><th scope=col>&lt;dbl&gt;</th><th scope=col>&lt;fct&gt;</th><th scope=col>&lt;dbl&gt;</th><th scope=col>&lt;dbl&gt;</th><th scope=col>&lt;dbl&gt;</th><th scope=col>&lt;dbl&gt;</th><th scope=col>&lt;dbl&gt;</th><th scope=col>&lt;dbl&gt;</th><th scope=col>&lt;dbl&gt;</th><th scope=col>&lt;dbl&gt;</th><th scope=col>&lt;dbl&gt;</th><th scope=col>&lt;fct&gt;</th><th scope=col>&lt;dbl&gt;</th><th scope=col>&lt;dbl&gt;</th><th scope=col>&lt;dbl&gt;</th><th scope=col>&lt;dbl&gt;</th><th scope=col>&lt;dbl&gt;</th><th scope=col>&lt;dbl&gt;</th><th scope=col>&lt;dbl&gt;</th><th scope=col>&lt;dbl&gt;</th></tr>\n",
       "</thead>\n",
       "<tbody>\n",
       "\t<tr><th scope=row>932342</th><td>Zhengzhou Zitian</td><td>China</td><td>102184904</td><td>FirstTime</td><td>1</td><td>2020-04-27</td><td>2019-04-27</td><td>Active</td><td>keamu.press    </td><td>Zhengzhou Zitian</td><td>NA</td><td>1</td><td>1.08</td><td>1.08</td><td>0</td><td>311602364</td><td>transfer    </td><td>unrealized</td><td>Renewed   </td><td>2020-04-27</td><td>5</td><td>5.76</td><td>kea       </td><td>2</td><td>99</td><td>⋯</td><td>NA</td><td>0.5562021</td><td>1.000</td><td>0.9904499</td><td>1.000000e+00</td><td>0.9991572</td><td>China</td><td>NA</td><td>NA</td><td>NA</td><td>NA</td><td>NA</td><td>NA</td><td>NA</td><td>NA</td><td>1.08</td><td>(1,3]</td><td>0.081</td><td>0.081</td><td>0.081</td><td>0.081</td><td>0.081</td><td>0.081</td><td>0.081</td><td>0.081</td></tr>\n",
       "\t<tr><th scope=row>932343</th><td>Zhengzhou Zitian</td><td>China</td><td>102184919</td><td>FirstTime</td><td>1</td><td>2020-04-27</td><td>2019-04-27</td><td>Active</td><td>antsq.press    </td><td>Zhengzhou Zitian</td><td>NA</td><td>1</td><td>1.08</td><td>1.08</td><td>0</td><td>311602369</td><td>transfer    </td><td>unrealized</td><td>Renewed   </td><td>2020-04-27</td><td>5</td><td>2.65</td><td>antq      </td><td>2</td><td>99</td><td>⋯</td><td>NA</td><td>0.5151500</td><td>1.000</td><td>0.9960650</td><td>1.000000e+00</td><td>0.9991572</td><td>China</td><td>NA</td><td>NA</td><td>NA</td><td>NA</td><td>NA</td><td>NA</td><td>NA</td><td>NA</td><td>1.08</td><td>(1,3]</td><td>0.081</td><td>0.081</td><td>0.081</td><td>0.081</td><td>0.081</td><td>0.081</td><td>0.081</td><td>0.081</td></tr>\n",
       "\t<tr><th scope=row>932344</th><td>Zhengzhou Zitian</td><td>China</td><td>102184939</td><td>FirstTime</td><td>1</td><td>2020-04-27</td><td>2019-04-27</td><td>Active</td><td>oqcew.press    </td><td>Zhengzhou Zitian</td><td>NA</td><td>1</td><td>1.08</td><td>1.08</td><td>0</td><td>311602379</td><td>transfer    </td><td>unrealized</td><td>Renewed   </td><td>2020-04-27</td><td>5</td><td>0.45</td><td>oqcew     </td><td>1</td><td>99</td><td>⋯</td><td>NA</td><td>0.4796626</td><td>1.000</td><td>0.9997720</td><td>1.000000e+00</td><td>0.9995875</td><td>China</td><td>NA</td><td>NA</td><td>NA</td><td>NA</td><td>NA</td><td>NA</td><td>NA</td><td>NA</td><td>1.08</td><td>(1,3]</td><td>0.081</td><td>0.081</td><td>0.081</td><td>0.081</td><td>0.081</td><td>0.081</td><td>0.081</td><td>0.081</td></tr>\n",
       "\t<tr><th scope=row>932345</th><td>Zhengzhou Zitian</td><td>China</td><td>102184984</td><td>FirstTime</td><td>1</td><td>2020-04-27</td><td>2019-04-27</td><td>Active</td><td>wudpg.press    </td><td>Zhengzhou Zitian</td><td>NA</td><td>1</td><td>1.08</td><td>1.08</td><td>0</td><td>311602399</td><td>transfer    </td><td>unrealized</td><td>Renewed   </td><td>2020-04-27</td><td>5</td><td>0.10</td><td>wudpg     </td><td>1</td><td>99</td><td>⋯</td><td>NA</td><td>0.4671878</td><td>1.000</td><td>0.9997720</td><td>1.000000e+00</td><td>0.9995875</td><td>China</td><td>NA</td><td>NA</td><td>NA</td><td>NA</td><td>NA</td><td>NA</td><td>NA</td><td>NA</td><td>1.08</td><td>(1,3]</td><td>0.081</td><td>0.081</td><td>0.081</td><td>0.081</td><td>0.081</td><td>0.081</td><td>0.081</td><td>0.081</td></tr>\n",
       "\t<tr><th scope=row>932346</th><td>Zhengzhou Zitian</td><td>China</td><td>110175746</td><td>FirstTime</td><td>1</td><td>2020-06-26</td><td>2019-06-26</td><td>Active</td><td>xiangcheng.host</td><td>Zhengzhou Zitian</td><td>NA</td><td>1</td><td>1.08</td><td>1.08</td><td>0</td><td>325202554</td><td>auto-renewal</td><td>unrealized</td><td>Not Renewd</td><td>2020-06-26</td><td>5</td><td>6.43</td><td>xiangcheng</td><td>1</td><td> 1</td><td>⋯</td><td>NA</td><td>0.5123320</td><td>0.611</td><td>0.6226976</td><td>          NA</td><td>1.0000000</td><td>China</td><td>NA</td><td>NA</td><td>NA</td><td>NA</td><td>NA</td><td>NA</td><td>NA</td><td>NA</td><td>1.08</td><td>(1,3]</td><td>0.072</td><td>0.072</td><td>0.072</td><td>0.072</td><td>0.072</td><td>0.072</td><td>0.072</td><td>0.072</td></tr>\n",
       "\t<tr><th scope=row>932347</th><td>ZhuHai NaiSiNiKe</td><td>China</td><td> 44896107</td><td>FirstTime</td><td>1</td><td>2020-02-24</td><td>2017-02-24</td><td>Active</td><td>justgo.pw      </td><td>ZhuHai NaiSiNiKe</td><td>NA</td><td>3</td><td>3.25</td><td>1.08</td><td>0</td><td>294671419</td><td>auto-renewal</td><td>unrealized</td><td>Not Renewd</td><td>2020-02-24</td><td>3</td><td>3.69</td><td>justgo    </td><td>1</td><td> 7</td><td>⋯</td><td>NA</td><td>0.5606649</td><td>0.000</td><td>0.2526667</td><td>5.826215e-11</td><td>0.2526667</td><td>China</td><td>NA</td><td>NA</td><td>NA</td><td>NA</td><td>NA</td><td>NA</td><td>NA</td><td>NA</td><td>1.08</td><td>(1,3]</td><td>0.059</td><td>0.059</td><td>0.059</td><td>0.059</td><td>0.059</td><td>0.059</td><td>0.059</td><td>0.059</td></tr>\n",
       "</tbody>\n",
       "</table>\n"
      ],
      "text/latex": [
       "A data.frame: 6 × 59\n",
       "\\begin{tabular}{r|lllllllllllllllllllllllllllllllllllllllllllllllllll}\n",
       "  & reseller & reseller\\_country & domain\\_id & renewal\\_type & renewed\\_count & expiry\\_date & creation\\_date & status & domain & registrar & registrant\\_country & reg\\_period & reg\\_revenue & reg\\_arpt & renew\\_mbg & renewal\\_item\\_id & renew\\_type & autorenew\\_type & renewal\\_status & renew\\_date & renew\\_arpt & gibb\\_score & pattern & pattern\\_domain\\_count & day\\_domains & ⋯ & pred\\_agg\\_glm & pred\\_agg\\_rf & pred\\_seg\\_glm\\_ALL & pred\\_seg\\_rf\\_ALL & pred\\_seg2\\_glm\\_ALL & pred\\_seg2\\_rf\\_ALL & reseller\\_geo & pred\\_agg\\_glm\\_ALL\\_fb & pred\\_agg\\_rf\\_ALL\\_fb & pred\\_agg\\_glm\\_fb & pred\\_agg\\_rf\\_fb & pred\\_seg\\_glm\\_ALL\\_fb & pred\\_seg\\_rf\\_ALL\\_fb & pred\\_seg2\\_glm\\_ALL\\_fb & pred\\_seg2\\_rf\\_ALL\\_fb & reg\\_arpt\\_org & reg\\_arpt\\_slab & pred\\_seg2\\_rf\\_ALL\\_fb2 & pred\\_seg2\\_glm\\_ALL\\_fb2 & pred\\_seg\\_rf\\_ALL\\_fb2 & pred\\_seg\\_glm\\_ALL\\_fb2 & pred\\_agg\\_rf\\_fb2 & pred\\_agg\\_glm\\_fb2 & pred\\_agg\\_rf\\_ALL\\_fb2 & pred\\_agg\\_glm\\_ALL\\_fb2\\\\\n",
       "  & <fct> & <fct> & <int> & <fct> & <int> & <fct> & <fct> & <fct> & <fct> & <fct> & <fct> & <int> & <dbl> & <dbl> & <int> & <int> & <fct> & <fct> & <fct> & <fct> & <dbl> & <dbl> & <fct> & <int> & <int> & ⋯ & <dbl> & <dbl> & <dbl> & <dbl> & <dbl> & <dbl> & <fct> & <dbl> & <dbl> & <dbl> & <dbl> & <dbl> & <dbl> & <dbl> & <dbl> & <dbl> & <fct> & <dbl> & <dbl> & <dbl> & <dbl> & <dbl> & <dbl> & <dbl> & <dbl>\\\\\n",
       "\\hline\n",
       "\t932342 & Zhengzhou Zitian & China & 102184904 & FirstTime & 1 & 2020-04-27 & 2019-04-27 & Active & keamu.press     & Zhengzhou Zitian & NA & 1 & 1.08 & 1.08 & 0 & 311602364 & transfer     & unrealized & Renewed    & 2020-04-27 & 5 & 5.76 & kea        & 2 & 99 & ⋯ & NA & 0.5562021 & 1.000 & 0.9904499 & 1.000000e+00 & 0.9991572 & China & NA & NA & NA & NA & NA & NA & NA & NA & 1.08 & (1,3{]} & 0.081 & 0.081 & 0.081 & 0.081 & 0.081 & 0.081 & 0.081 & 0.081\\\\\n",
       "\t932343 & Zhengzhou Zitian & China & 102184919 & FirstTime & 1 & 2020-04-27 & 2019-04-27 & Active & antsq.press     & Zhengzhou Zitian & NA & 1 & 1.08 & 1.08 & 0 & 311602369 & transfer     & unrealized & Renewed    & 2020-04-27 & 5 & 2.65 & antq       & 2 & 99 & ⋯ & NA & 0.5151500 & 1.000 & 0.9960650 & 1.000000e+00 & 0.9991572 & China & NA & NA & NA & NA & NA & NA & NA & NA & 1.08 & (1,3{]} & 0.081 & 0.081 & 0.081 & 0.081 & 0.081 & 0.081 & 0.081 & 0.081\\\\\n",
       "\t932344 & Zhengzhou Zitian & China & 102184939 & FirstTime & 1 & 2020-04-27 & 2019-04-27 & Active & oqcew.press     & Zhengzhou Zitian & NA & 1 & 1.08 & 1.08 & 0 & 311602379 & transfer     & unrealized & Renewed    & 2020-04-27 & 5 & 0.45 & oqcew      & 1 & 99 & ⋯ & NA & 0.4796626 & 1.000 & 0.9997720 & 1.000000e+00 & 0.9995875 & China & NA & NA & NA & NA & NA & NA & NA & NA & 1.08 & (1,3{]} & 0.081 & 0.081 & 0.081 & 0.081 & 0.081 & 0.081 & 0.081 & 0.081\\\\\n",
       "\t932345 & Zhengzhou Zitian & China & 102184984 & FirstTime & 1 & 2020-04-27 & 2019-04-27 & Active & wudpg.press     & Zhengzhou Zitian & NA & 1 & 1.08 & 1.08 & 0 & 311602399 & transfer     & unrealized & Renewed    & 2020-04-27 & 5 & 0.10 & wudpg      & 1 & 99 & ⋯ & NA & 0.4671878 & 1.000 & 0.9997720 & 1.000000e+00 & 0.9995875 & China & NA & NA & NA & NA & NA & NA & NA & NA & 1.08 & (1,3{]} & 0.081 & 0.081 & 0.081 & 0.081 & 0.081 & 0.081 & 0.081 & 0.081\\\\\n",
       "\t932346 & Zhengzhou Zitian & China & 110175746 & FirstTime & 1 & 2020-06-26 & 2019-06-26 & Active & xiangcheng.host & Zhengzhou Zitian & NA & 1 & 1.08 & 1.08 & 0 & 325202554 & auto-renewal & unrealized & Not Renewd & 2020-06-26 & 5 & 6.43 & xiangcheng & 1 &  1 & ⋯ & NA & 0.5123320 & 0.611 & 0.6226976 &           NA & 1.0000000 & China & NA & NA & NA & NA & NA & NA & NA & NA & 1.08 & (1,3{]} & 0.072 & 0.072 & 0.072 & 0.072 & 0.072 & 0.072 & 0.072 & 0.072\\\\\n",
       "\t932347 & ZhuHai NaiSiNiKe & China &  44896107 & FirstTime & 1 & 2020-02-24 & 2017-02-24 & Active & justgo.pw       & ZhuHai NaiSiNiKe & NA & 3 & 3.25 & 1.08 & 0 & 294671419 & auto-renewal & unrealized & Not Renewd & 2020-02-24 & 3 & 3.69 & justgo     & 1 &  7 & ⋯ & NA & 0.5606649 & 0.000 & 0.2526667 & 5.826215e-11 & 0.2526667 & China & NA & NA & NA & NA & NA & NA & NA & NA & 1.08 & (1,3{]} & 0.059 & 0.059 & 0.059 & 0.059 & 0.059 & 0.059 & 0.059 & 0.059\\\\\n",
       "\\end{tabular}\n"
      ],
      "text/markdown": [
       "\n",
       "A data.frame: 6 × 59\n",
       "\n",
       "| <!--/--> | reseller &lt;fct&gt; | reseller_country &lt;fct&gt; | domain_id &lt;int&gt; | renewal_type &lt;fct&gt; | renewed_count &lt;int&gt; | expiry_date &lt;fct&gt; | creation_date &lt;fct&gt; | status &lt;fct&gt; | domain &lt;fct&gt; | registrar &lt;fct&gt; | registrant_country &lt;fct&gt; | reg_period &lt;int&gt; | reg_revenue &lt;dbl&gt; | reg_arpt &lt;dbl&gt; | renew_mbg &lt;int&gt; | renewal_item_id &lt;int&gt; | renew_type &lt;fct&gt; | autorenew_type &lt;fct&gt; | renewal_status &lt;fct&gt; | renew_date &lt;fct&gt; | renew_arpt &lt;dbl&gt; | gibb_score &lt;dbl&gt; | pattern &lt;fct&gt; | pattern_domain_count &lt;int&gt; | day_domains &lt;int&gt; | ⋯ ⋯ | pred_agg_glm &lt;dbl&gt; | pred_agg_rf &lt;dbl&gt; | pred_seg_glm_ALL &lt;dbl&gt; | pred_seg_rf_ALL &lt;dbl&gt; | pred_seg2_glm_ALL &lt;dbl&gt; | pred_seg2_rf_ALL &lt;dbl&gt; | reseller_geo &lt;fct&gt; | pred_agg_glm_ALL_fb &lt;dbl&gt; | pred_agg_rf_ALL_fb &lt;dbl&gt; | pred_agg_glm_fb &lt;dbl&gt; | pred_agg_rf_fb &lt;dbl&gt; | pred_seg_glm_ALL_fb &lt;dbl&gt; | pred_seg_rf_ALL_fb &lt;dbl&gt; | pred_seg2_glm_ALL_fb &lt;dbl&gt; | pred_seg2_rf_ALL_fb &lt;dbl&gt; | reg_arpt_org &lt;dbl&gt; | reg_arpt_slab &lt;fct&gt; | pred_seg2_rf_ALL_fb2 &lt;dbl&gt; | pred_seg2_glm_ALL_fb2 &lt;dbl&gt; | pred_seg_rf_ALL_fb2 &lt;dbl&gt; | pred_seg_glm_ALL_fb2 &lt;dbl&gt; | pred_agg_rf_fb2 &lt;dbl&gt; | pred_agg_glm_fb2 &lt;dbl&gt; | pred_agg_rf_ALL_fb2 &lt;dbl&gt; | pred_agg_glm_ALL_fb2 &lt;dbl&gt; |\n",
       "|---|---|---|---|---|---|---|---|---|---|---|---|---|---|---|---|---|---|---|---|---|---|---|---|---|---|---|---|---|---|---|---|---|---|---|---|---|---|---|---|---|---|---|---|---|---|---|---|---|---|---|---|\n",
       "| 932342 | Zhengzhou Zitian | China | 102184904 | FirstTime | 1 | 2020-04-27 | 2019-04-27 | Active | keamu.press     | Zhengzhou Zitian | NA | 1 | 1.08 | 1.08 | 0 | 311602364 | transfer     | unrealized | Renewed    | 2020-04-27 | 5 | 5.76 | kea        | 2 | 99 | ⋯ | NA | 0.5562021 | 1.000 | 0.9904499 | 1.000000e+00 | 0.9991572 | China | NA | NA | NA | NA | NA | NA | NA | NA | 1.08 | (1,3] | 0.081 | 0.081 | 0.081 | 0.081 | 0.081 | 0.081 | 0.081 | 0.081 |\n",
       "| 932343 | Zhengzhou Zitian | China | 102184919 | FirstTime | 1 | 2020-04-27 | 2019-04-27 | Active | antsq.press     | Zhengzhou Zitian | NA | 1 | 1.08 | 1.08 | 0 | 311602369 | transfer     | unrealized | Renewed    | 2020-04-27 | 5 | 2.65 | antq       | 2 | 99 | ⋯ | NA | 0.5151500 | 1.000 | 0.9960650 | 1.000000e+00 | 0.9991572 | China | NA | NA | NA | NA | NA | NA | NA | NA | 1.08 | (1,3] | 0.081 | 0.081 | 0.081 | 0.081 | 0.081 | 0.081 | 0.081 | 0.081 |\n",
       "| 932344 | Zhengzhou Zitian | China | 102184939 | FirstTime | 1 | 2020-04-27 | 2019-04-27 | Active | oqcew.press     | Zhengzhou Zitian | NA | 1 | 1.08 | 1.08 | 0 | 311602379 | transfer     | unrealized | Renewed    | 2020-04-27 | 5 | 0.45 | oqcew      | 1 | 99 | ⋯ | NA | 0.4796626 | 1.000 | 0.9997720 | 1.000000e+00 | 0.9995875 | China | NA | NA | NA | NA | NA | NA | NA | NA | 1.08 | (1,3] | 0.081 | 0.081 | 0.081 | 0.081 | 0.081 | 0.081 | 0.081 | 0.081 |\n",
       "| 932345 | Zhengzhou Zitian | China | 102184984 | FirstTime | 1 | 2020-04-27 | 2019-04-27 | Active | wudpg.press     | Zhengzhou Zitian | NA | 1 | 1.08 | 1.08 | 0 | 311602399 | transfer     | unrealized | Renewed    | 2020-04-27 | 5 | 0.10 | wudpg      | 1 | 99 | ⋯ | NA | 0.4671878 | 1.000 | 0.9997720 | 1.000000e+00 | 0.9995875 | China | NA | NA | NA | NA | NA | NA | NA | NA | 1.08 | (1,3] | 0.081 | 0.081 | 0.081 | 0.081 | 0.081 | 0.081 | 0.081 | 0.081 |\n",
       "| 932346 | Zhengzhou Zitian | China | 110175746 | FirstTime | 1 | 2020-06-26 | 2019-06-26 | Active | xiangcheng.host | Zhengzhou Zitian | NA | 1 | 1.08 | 1.08 | 0 | 325202554 | auto-renewal | unrealized | Not Renewd | 2020-06-26 | 5 | 6.43 | xiangcheng | 1 |  1 | ⋯ | NA | 0.5123320 | 0.611 | 0.6226976 |           NA | 1.0000000 | China | NA | NA | NA | NA | NA | NA | NA | NA | 1.08 | (1,3] | 0.072 | 0.072 | 0.072 | 0.072 | 0.072 | 0.072 | 0.072 | 0.072 |\n",
       "| 932347 | ZhuHai NaiSiNiKe | China |  44896107 | FirstTime | 1 | 2020-02-24 | 2017-02-24 | Active | justgo.pw       | ZhuHai NaiSiNiKe | NA | 3 | 3.25 | 1.08 | 0 | 294671419 | auto-renewal | unrealized | Not Renewd | 2020-02-24 | 3 | 3.69 | justgo     | 1 |  7 | ⋯ | NA | 0.5606649 | 0.000 | 0.2526667 | 5.826215e-11 | 0.2526667 | China | NA | NA | NA | NA | NA | NA | NA | NA | 1.08 | (1,3] | 0.059 | 0.059 | 0.059 | 0.059 | 0.059 | 0.059 | 0.059 | 0.059 |\n",
       "\n"
      ],
      "text/plain": [
       "       reseller         reseller_country domain_id renewal_type renewed_count\n",
       "932342 Zhengzhou Zitian China            102184904 FirstTime    1            \n",
       "932343 Zhengzhou Zitian China            102184919 FirstTime    1            \n",
       "932344 Zhengzhou Zitian China            102184939 FirstTime    1            \n",
       "932345 Zhengzhou Zitian China            102184984 FirstTime    1            \n",
       "932346 Zhengzhou Zitian China            110175746 FirstTime    1            \n",
       "932347 ZhuHai NaiSiNiKe China             44896107 FirstTime    1            \n",
       "       expiry_date creation_date status domain          registrar       \n",
       "932342 2020-04-27  2019-04-27    Active keamu.press     Zhengzhou Zitian\n",
       "932343 2020-04-27  2019-04-27    Active antsq.press     Zhengzhou Zitian\n",
       "932344 2020-04-27  2019-04-27    Active oqcew.press     Zhengzhou Zitian\n",
       "932345 2020-04-27  2019-04-27    Active wudpg.press     Zhengzhou Zitian\n",
       "932346 2020-06-26  2019-06-26    Active xiangcheng.host Zhengzhou Zitian\n",
       "932347 2020-02-24  2017-02-24    Active justgo.pw       ZhuHai NaiSiNiKe\n",
       "       registrant_country reg_period reg_revenue reg_arpt renew_mbg\n",
       "932342 NA                 1          1.08        1.08     0        \n",
       "932343 NA                 1          1.08        1.08     0        \n",
       "932344 NA                 1          1.08        1.08     0        \n",
       "932345 NA                 1          1.08        1.08     0        \n",
       "932346 NA                 1          1.08        1.08     0        \n",
       "932347 NA                 3          3.25        1.08     0        \n",
       "       renewal_item_id renew_type   autorenew_type renewal_status renew_date\n",
       "932342 311602364       transfer     unrealized     Renewed        2020-04-27\n",
       "932343 311602369       transfer     unrealized     Renewed        2020-04-27\n",
       "932344 311602379       transfer     unrealized     Renewed        2020-04-27\n",
       "932345 311602399       transfer     unrealized     Renewed        2020-04-27\n",
       "932346 325202554       auto-renewal unrealized     Not Renewd     2020-06-26\n",
       "932347 294671419       auto-renewal unrealized     Not Renewd     2020-02-24\n",
       "       renew_arpt gibb_score pattern    pattern_domain_count day_domains ⋯\n",
       "932342 5          5.76       kea        2                    99          ⋯\n",
       "932343 5          2.65       antq       2                    99          ⋯\n",
       "932344 5          0.45       oqcew      1                    99          ⋯\n",
       "932345 5          0.10       wudpg      1                    99          ⋯\n",
       "932346 5          6.43       xiangcheng 1                     1          ⋯\n",
       "932347 3          3.69       justgo     1                     7          ⋯\n",
       "       pred_agg_glm pred_agg_rf pred_seg_glm_ALL pred_seg_rf_ALL\n",
       "932342 NA           0.5562021   1.000            0.9904499      \n",
       "932343 NA           0.5151500   1.000            0.9960650      \n",
       "932344 NA           0.4796626   1.000            0.9997720      \n",
       "932345 NA           0.4671878   1.000            0.9997720      \n",
       "932346 NA           0.5123320   0.611            0.6226976      \n",
       "932347 NA           0.5606649   0.000            0.2526667      \n",
       "       pred_seg2_glm_ALL pred_seg2_rf_ALL reseller_geo pred_agg_glm_ALL_fb\n",
       "932342 1.000000e+00      0.9991572        China        NA                 \n",
       "932343 1.000000e+00      0.9991572        China        NA                 \n",
       "932344 1.000000e+00      0.9995875        China        NA                 \n",
       "932345 1.000000e+00      0.9995875        China        NA                 \n",
       "932346           NA      1.0000000        China        NA                 \n",
       "932347 5.826215e-11      0.2526667        China        NA                 \n",
       "       pred_agg_rf_ALL_fb pred_agg_glm_fb pred_agg_rf_fb pred_seg_glm_ALL_fb\n",
       "932342 NA                 NA              NA             NA                 \n",
       "932343 NA                 NA              NA             NA                 \n",
       "932344 NA                 NA              NA             NA                 \n",
       "932345 NA                 NA              NA             NA                 \n",
       "932346 NA                 NA              NA             NA                 \n",
       "932347 NA                 NA              NA             NA                 \n",
       "       pred_seg_rf_ALL_fb pred_seg2_glm_ALL_fb pred_seg2_rf_ALL_fb reg_arpt_org\n",
       "932342 NA                 NA                   NA                  1.08        \n",
       "932343 NA                 NA                   NA                  1.08        \n",
       "932344 NA                 NA                   NA                  1.08        \n",
       "932345 NA                 NA                   NA                  1.08        \n",
       "932346 NA                 NA                   NA                  1.08        \n",
       "932347 NA                 NA                   NA                  1.08        \n",
       "       reg_arpt_slab pred_seg2_rf_ALL_fb2 pred_seg2_glm_ALL_fb2\n",
       "932342 (1,3]         0.081                0.081                \n",
       "932343 (1,3]         0.081                0.081                \n",
       "932344 (1,3]         0.081                0.081                \n",
       "932345 (1,3]         0.081                0.081                \n",
       "932346 (1,3]         0.072                0.072                \n",
       "932347 (1,3]         0.059                0.059                \n",
       "       pred_seg_rf_ALL_fb2 pred_seg_glm_ALL_fb2 pred_agg_rf_fb2\n",
       "932342 0.081               0.081                0.081          \n",
       "932343 0.081               0.081                0.081          \n",
       "932344 0.081               0.081                0.081          \n",
       "932345 0.081               0.081                0.081          \n",
       "932346 0.072               0.072                0.072          \n",
       "932347 0.059               0.059                0.059          \n",
       "       pred_agg_glm_fb2 pred_agg_rf_ALL_fb2 pred_agg_glm_ALL_fb2\n",
       "932342 0.081            0.081               0.081               \n",
       "932343 0.081            0.081               0.081               \n",
       "932344 0.081            0.081               0.081               \n",
       "932345 0.081            0.081               0.081               \n",
       "932346 0.072            0.072               0.072               \n",
       "932347 0.059            0.059               0.059               "
      ]
     },
     "metadata": {},
     "output_type": "display_data"
    }
   ],
   "source": [
    "tail(preds_df)"
   ]
  },
  {
   "cell_type": "code",
   "execution_count": 13,
   "metadata": {},
   "outputs": [
    {
     "data": {
      "text/html": [
       "4"
      ],
      "text/latex": [
       "4"
      ],
      "text/markdown": [
       "4"
      ],
      "text/plain": [
       "[1] 4"
      ]
     },
     "metadata": {},
     "output_type": "display_data"
    },
    {
     "data": {
      "text/html": [
       "<table>\n",
       "<caption>A data.frame: 4 × 59</caption>\n",
       "<thead>\n",
       "\t<tr><th scope=col>reseller</th><th scope=col>reseller_country</th><th scope=col>domain_id</th><th scope=col>renewal_type</th><th scope=col>renewed_count</th><th scope=col>expiry_date</th><th scope=col>creation_date</th><th scope=col>status</th><th scope=col>domain</th><th scope=col>registrar</th><th scope=col>registrant_country</th><th scope=col>reg_period</th><th scope=col>reg_revenue</th><th scope=col>reg_arpt</th><th scope=col>renew_mbg</th><th scope=col>renewal_item_id</th><th scope=col>renew_type</th><th scope=col>autorenew_type</th><th scope=col>renewal_status</th><th scope=col>renew_date</th><th scope=col>renew_arpt</th><th scope=col>gibb_score</th><th scope=col>pattern</th><th scope=col>pattern_domain_count</th><th scope=col>day_domains</th><th scope=col>⋯</th><th scope=col>pred_agg_glm</th><th scope=col>pred_agg_rf</th><th scope=col>pred_seg_glm_ALL</th><th scope=col>pred_seg_rf_ALL</th><th scope=col>pred_seg2_glm_ALL</th><th scope=col>pred_seg2_rf_ALL</th><th scope=col>reseller_geo</th><th scope=col>pred_agg_glm_ALL_fb</th><th scope=col>pred_agg_rf_ALL_fb</th><th scope=col>pred_agg_glm_fb</th><th scope=col>pred_agg_rf_fb</th><th scope=col>pred_seg_glm_ALL_fb</th><th scope=col>pred_seg_rf_ALL_fb</th><th scope=col>pred_seg2_glm_ALL_fb</th><th scope=col>pred_seg2_rf_ALL_fb</th><th scope=col>reg_arpt_org</th><th scope=col>reg_arpt_slab</th><th scope=col>pred_seg2_rf_ALL_fb2</th><th scope=col>pred_seg2_glm_ALL_fb2</th><th scope=col>pred_seg_rf_ALL_fb2</th><th scope=col>pred_seg_glm_ALL_fb2</th><th scope=col>pred_agg_rf_fb2</th><th scope=col>pred_agg_glm_fb2</th><th scope=col>pred_agg_rf_ALL_fb2</th><th scope=col>pred_agg_glm_ALL_fb2</th></tr>\n",
       "\t<tr><th scope=col>&lt;fct&gt;</th><th scope=col>&lt;fct&gt;</th><th scope=col>&lt;int&gt;</th><th scope=col>&lt;fct&gt;</th><th scope=col>&lt;int&gt;</th><th scope=col>&lt;fct&gt;</th><th scope=col>&lt;fct&gt;</th><th scope=col>&lt;fct&gt;</th><th scope=col>&lt;fct&gt;</th><th scope=col>&lt;fct&gt;</th><th scope=col>&lt;fct&gt;</th><th scope=col>&lt;int&gt;</th><th scope=col>&lt;dbl&gt;</th><th scope=col>&lt;dbl&gt;</th><th scope=col>&lt;int&gt;</th><th scope=col>&lt;int&gt;</th><th scope=col>&lt;fct&gt;</th><th scope=col>&lt;fct&gt;</th><th scope=col>&lt;fct&gt;</th><th scope=col>&lt;fct&gt;</th><th scope=col>&lt;dbl&gt;</th><th scope=col>&lt;dbl&gt;</th><th scope=col>&lt;fct&gt;</th><th scope=col>&lt;int&gt;</th><th scope=col>&lt;int&gt;</th><th scope=col>⋯</th><th scope=col>&lt;dbl&gt;</th><th scope=col>&lt;dbl&gt;</th><th scope=col>&lt;dbl&gt;</th><th scope=col>&lt;dbl&gt;</th><th scope=col>&lt;dbl&gt;</th><th scope=col>&lt;dbl&gt;</th><th scope=col>&lt;fct&gt;</th><th scope=col>&lt;dbl&gt;</th><th scope=col>&lt;dbl&gt;</th><th scope=col>&lt;dbl&gt;</th><th scope=col>&lt;dbl&gt;</th><th scope=col>&lt;dbl&gt;</th><th scope=col>&lt;dbl&gt;</th><th scope=col>&lt;dbl&gt;</th><th scope=col>&lt;dbl&gt;</th><th scope=col>&lt;dbl&gt;</th><th scope=col>&lt;fct&gt;</th><th scope=col>&lt;dbl&gt;</th><th scope=col>&lt;dbl&gt;</th><th scope=col>&lt;dbl&gt;</th><th scope=col>&lt;dbl&gt;</th><th scope=col>&lt;dbl&gt;</th><th scope=col>&lt;dbl&gt;</th><th scope=col>&lt;dbl&gt;</th><th scope=col>&lt;dbl&gt;</th></tr>\n",
       "</thead>\n",
       "<tbody>\n",
       "\t<tr><td>                      </td><td>             </td><td>122049036</td><td>FirstTime</td><td>1</td><td>2020-08-30</td><td>2019-08-30</td><td>Active</td><td>qianxiyun.online  </td><td>                      </td><td>NA</td><td>1</td><td>25</td><td>25</td><td>0</td><td>341703158</td><td>auto-renewal</td><td>unrealized</td><td>Not Renewd</td><td>2020-08-30</td><td> 6</td><td>0.63</td><td>qianxiyun  </td><td>1</td><td>1</td><td>⋯</td><td>NA</td><td>0.7713468</td><td>NA</td><td>NA</td><td>NA</td><td>NA</td><td>NA           </td><td>NA</td><td>0.9550391</td><td>NA</td><td>0.7713468</td><td>NA</td><td>NA</td><td>NA</td><td>NA</td><td>25</td><td>(15,25]</td><td>0.551</td><td>0.551</td><td>0.551</td><td>0.551</td><td>0.7713468</td><td>0.551</td><td>0.9550391</td><td>0.551</td></tr>\n",
       "\t<tr><td>Imperial Registrations</td><td>United States</td><td> 83956614</td><td>FirstTime</td><td>1</td><td>2019-11-19</td><td>2018-11-19</td><td>Active</td><td>frogjuggler.online</td><td>Imperial Registrations</td><td>NA</td><td>1</td><td>25</td><td>25</td><td>0</td><td>256244725</td><td>auto-renewal</td><td>unrealized</td><td>Not Renewd</td><td>2019-11-19</td><td>25</td><td>2.98</td><td>frogjuggler</td><td>1</td><td>1</td><td>⋯</td><td>NA</td><td>0.8257238</td><td>NA</td><td>NA</td><td>NA</td><td>NA</td><td>United States</td><td>NA</td><td>0.9948964</td><td>NA</td><td>0.8257238</td><td>NA</td><td>NA</td><td>NA</td><td>NA</td><td>25</td><td>(15,25]</td><td>0.551</td><td>0.551</td><td>0.551</td><td>0.551</td><td>0.8257238</td><td>0.551</td><td>0.9948964</td><td>0.551</td></tr>\n",
       "\t<tr><td>Imperial Registrations</td><td>United States</td><td> 83956624</td><td>FirstTime</td><td>1</td><td>2019-11-19</td><td>2018-11-19</td><td>Active</td><td>frogjuggler.site  </td><td>Imperial Registrations</td><td>NA</td><td>1</td><td>20</td><td>20</td><td>0</td><td>256244735</td><td>auto-renewal</td><td>unrealized</td><td>Not Renewd</td><td>2019-11-19</td><td>20</td><td>2.98</td><td>frogjuggler</td><td>1</td><td>1</td><td>⋯</td><td>NA</td><td>0.5626476</td><td>NA</td><td>NA</td><td>NA</td><td>NA</td><td>United States</td><td>NA</td><td>0.9880768</td><td>NA</td><td>0.5626476</td><td>NA</td><td>NA</td><td>NA</td><td>NA</td><td>20</td><td>(15,25]</td><td>0.491</td><td>0.491</td><td>0.491</td><td>0.491</td><td>0.5626476</td><td>0.491</td><td>0.9880768</td><td>0.491</td></tr>\n",
       "\t<tr><td>Register.ca           </td><td>Canada       </td><td> 74267354</td><td>FirstTime</td><td>1</td><td>2019-08-15</td><td>2018-08-15</td><td>Active</td><td>ontarioart.space  </td><td>Register.ca           </td><td>NA</td><td>1</td><td> 6</td><td> 6</td><td>0</td><td>222880706</td><td>auto-renewal</td><td>unrealized</td><td>Not Renewd</td><td>2019-08-15</td><td>15</td><td>6.11</td><td>ontarioart </td><td>1</td><td>1</td><td>⋯</td><td>NA</td><td>0.7286549</td><td>NA</td><td>NA</td><td>NA</td><td>NA</td><td>Canada       </td><td>NA</td><td>0.9855667</td><td>NA</td><td>0.7286549</td><td>NA</td><td>NA</td><td>NA</td><td>NA</td><td> 6</td><td>(5,10] </td><td>0.337</td><td>0.337</td><td>0.337</td><td>0.337</td><td>0.7286549</td><td>0.337</td><td>0.9855667</td><td>0.337</td></tr>\n",
       "</tbody>\n",
       "</table>\n"
      ],
      "text/latex": [
       "A data.frame: 4 × 59\n",
       "\\begin{tabular}{lllllllllllllllllllllllllllllllllllllllllllllllllll}\n",
       " reseller & reseller\\_country & domain\\_id & renewal\\_type & renewed\\_count & expiry\\_date & creation\\_date & status & domain & registrar & registrant\\_country & reg\\_period & reg\\_revenue & reg\\_arpt & renew\\_mbg & renewal\\_item\\_id & renew\\_type & autorenew\\_type & renewal\\_status & renew\\_date & renew\\_arpt & gibb\\_score & pattern & pattern\\_domain\\_count & day\\_domains & ⋯ & pred\\_agg\\_glm & pred\\_agg\\_rf & pred\\_seg\\_glm\\_ALL & pred\\_seg\\_rf\\_ALL & pred\\_seg2\\_glm\\_ALL & pred\\_seg2\\_rf\\_ALL & reseller\\_geo & pred\\_agg\\_glm\\_ALL\\_fb & pred\\_agg\\_rf\\_ALL\\_fb & pred\\_agg\\_glm\\_fb & pred\\_agg\\_rf\\_fb & pred\\_seg\\_glm\\_ALL\\_fb & pred\\_seg\\_rf\\_ALL\\_fb & pred\\_seg2\\_glm\\_ALL\\_fb & pred\\_seg2\\_rf\\_ALL\\_fb & reg\\_arpt\\_org & reg\\_arpt\\_slab & pred\\_seg2\\_rf\\_ALL\\_fb2 & pred\\_seg2\\_glm\\_ALL\\_fb2 & pred\\_seg\\_rf\\_ALL\\_fb2 & pred\\_seg\\_glm\\_ALL\\_fb2 & pred\\_agg\\_rf\\_fb2 & pred\\_agg\\_glm\\_fb2 & pred\\_agg\\_rf\\_ALL\\_fb2 & pred\\_agg\\_glm\\_ALL\\_fb2\\\\\n",
       " <fct> & <fct> & <int> & <fct> & <int> & <fct> & <fct> & <fct> & <fct> & <fct> & <fct> & <int> & <dbl> & <dbl> & <int> & <int> & <fct> & <fct> & <fct> & <fct> & <dbl> & <dbl> & <fct> & <int> & <int> & ⋯ & <dbl> & <dbl> & <dbl> & <dbl> & <dbl> & <dbl> & <fct> & <dbl> & <dbl> & <dbl> & <dbl> & <dbl> & <dbl> & <dbl> & <dbl> & <dbl> & <fct> & <dbl> & <dbl> & <dbl> & <dbl> & <dbl> & <dbl> & <dbl> & <dbl>\\\\\n",
       "\\hline\n",
       "\t                        &               & 122049036 & FirstTime & 1 & 2020-08-30 & 2019-08-30 & Active & qianxiyun.online   &                        & NA & 1 & 25 & 25 & 0 & 341703158 & auto-renewal & unrealized & Not Renewd & 2020-08-30 &  6 & 0.63 & qianxiyun   & 1 & 1 & ⋯ & NA & 0.7713468 & NA & NA & NA & NA & NA            & NA & 0.9550391 & NA & 0.7713468 & NA & NA & NA & NA & 25 & (15,25{]} & 0.551 & 0.551 & 0.551 & 0.551 & 0.7713468 & 0.551 & 0.9550391 & 0.551\\\\\n",
       "\t Imperial Registrations & United States &  83956614 & FirstTime & 1 & 2019-11-19 & 2018-11-19 & Active & frogjuggler.online & Imperial Registrations & NA & 1 & 25 & 25 & 0 & 256244725 & auto-renewal & unrealized & Not Renewd & 2019-11-19 & 25 & 2.98 & frogjuggler & 1 & 1 & ⋯ & NA & 0.8257238 & NA & NA & NA & NA & United States & NA & 0.9948964 & NA & 0.8257238 & NA & NA & NA & NA & 25 & (15,25{]} & 0.551 & 0.551 & 0.551 & 0.551 & 0.8257238 & 0.551 & 0.9948964 & 0.551\\\\\n",
       "\t Imperial Registrations & United States &  83956624 & FirstTime & 1 & 2019-11-19 & 2018-11-19 & Active & frogjuggler.site   & Imperial Registrations & NA & 1 & 20 & 20 & 0 & 256244735 & auto-renewal & unrealized & Not Renewd & 2019-11-19 & 20 & 2.98 & frogjuggler & 1 & 1 & ⋯ & NA & 0.5626476 & NA & NA & NA & NA & United States & NA & 0.9880768 & NA & 0.5626476 & NA & NA & NA & NA & 20 & (15,25{]} & 0.491 & 0.491 & 0.491 & 0.491 & 0.5626476 & 0.491 & 0.9880768 & 0.491\\\\\n",
       "\t Register.ca            & Canada        &  74267354 & FirstTime & 1 & 2019-08-15 & 2018-08-15 & Active & ontarioart.space   & Register.ca            & NA & 1 &  6 &  6 & 0 & 222880706 & auto-renewal & unrealized & Not Renewd & 2019-08-15 & 15 & 6.11 & ontarioart  & 1 & 1 & ⋯ & NA & 0.7286549 & NA & NA & NA & NA & Canada        & NA & 0.9855667 & NA & 0.7286549 & NA & NA & NA & NA &  6 & (5,10{]}  & 0.337 & 0.337 & 0.337 & 0.337 & 0.7286549 & 0.337 & 0.9855667 & 0.337\\\\\n",
       "\\end{tabular}\n"
      ],
      "text/markdown": [
       "\n",
       "A data.frame: 4 × 59\n",
       "\n",
       "| reseller &lt;fct&gt; | reseller_country &lt;fct&gt; | domain_id &lt;int&gt; | renewal_type &lt;fct&gt; | renewed_count &lt;int&gt; | expiry_date &lt;fct&gt; | creation_date &lt;fct&gt; | status &lt;fct&gt; | domain &lt;fct&gt; | registrar &lt;fct&gt; | registrant_country &lt;fct&gt; | reg_period &lt;int&gt; | reg_revenue &lt;dbl&gt; | reg_arpt &lt;dbl&gt; | renew_mbg &lt;int&gt; | renewal_item_id &lt;int&gt; | renew_type &lt;fct&gt; | autorenew_type &lt;fct&gt; | renewal_status &lt;fct&gt; | renew_date &lt;fct&gt; | renew_arpt &lt;dbl&gt; | gibb_score &lt;dbl&gt; | pattern &lt;fct&gt; | pattern_domain_count &lt;int&gt; | day_domains &lt;int&gt; | ⋯ ⋯ | pred_agg_glm &lt;dbl&gt; | pred_agg_rf &lt;dbl&gt; | pred_seg_glm_ALL &lt;dbl&gt; | pred_seg_rf_ALL &lt;dbl&gt; | pred_seg2_glm_ALL &lt;dbl&gt; | pred_seg2_rf_ALL &lt;dbl&gt; | reseller_geo &lt;fct&gt; | pred_agg_glm_ALL_fb &lt;dbl&gt; | pred_agg_rf_ALL_fb &lt;dbl&gt; | pred_agg_glm_fb &lt;dbl&gt; | pred_agg_rf_fb &lt;dbl&gt; | pred_seg_glm_ALL_fb &lt;dbl&gt; | pred_seg_rf_ALL_fb &lt;dbl&gt; | pred_seg2_glm_ALL_fb &lt;dbl&gt; | pred_seg2_rf_ALL_fb &lt;dbl&gt; | reg_arpt_org &lt;dbl&gt; | reg_arpt_slab &lt;fct&gt; | pred_seg2_rf_ALL_fb2 &lt;dbl&gt; | pred_seg2_glm_ALL_fb2 &lt;dbl&gt; | pred_seg_rf_ALL_fb2 &lt;dbl&gt; | pred_seg_glm_ALL_fb2 &lt;dbl&gt; | pred_agg_rf_fb2 &lt;dbl&gt; | pred_agg_glm_fb2 &lt;dbl&gt; | pred_agg_rf_ALL_fb2 &lt;dbl&gt; | pred_agg_glm_ALL_fb2 &lt;dbl&gt; |\n",
       "|---|---|---|---|---|---|---|---|---|---|---|---|---|---|---|---|---|---|---|---|---|---|---|---|---|---|---|---|---|---|---|---|---|---|---|---|---|---|---|---|---|---|---|---|---|---|---|---|---|---|---|\n",
       "| <!----> | <!----> | 122049036 | FirstTime | 1 | 2020-08-30 | 2019-08-30 | Active | qianxiyun.online   | <!----> | NA | 1 | 25 | 25 | 0 | 341703158 | auto-renewal | unrealized | Not Renewd | 2020-08-30 |  6 | 0.63 | qianxiyun   | 1 | 1 | ⋯ | NA | 0.7713468 | NA | NA | NA | NA | NA            | NA | 0.9550391 | NA | 0.7713468 | NA | NA | NA | NA | 25 | (15,25] | 0.551 | 0.551 | 0.551 | 0.551 | 0.7713468 | 0.551 | 0.9550391 | 0.551 |\n",
       "| Imperial Registrations | United States |  83956614 | FirstTime | 1 | 2019-11-19 | 2018-11-19 | Active | frogjuggler.online | Imperial Registrations | NA | 1 | 25 | 25 | 0 | 256244725 | auto-renewal | unrealized | Not Renewd | 2019-11-19 | 25 | 2.98 | frogjuggler | 1 | 1 | ⋯ | NA | 0.8257238 | NA | NA | NA | NA | United States | NA | 0.9948964 | NA | 0.8257238 | NA | NA | NA | NA | 25 | (15,25] | 0.551 | 0.551 | 0.551 | 0.551 | 0.8257238 | 0.551 | 0.9948964 | 0.551 |\n",
       "| Imperial Registrations | United States |  83956624 | FirstTime | 1 | 2019-11-19 | 2018-11-19 | Active | frogjuggler.site   | Imperial Registrations | NA | 1 | 20 | 20 | 0 | 256244735 | auto-renewal | unrealized | Not Renewd | 2019-11-19 | 20 | 2.98 | frogjuggler | 1 | 1 | ⋯ | NA | 0.5626476 | NA | NA | NA | NA | United States | NA | 0.9880768 | NA | 0.5626476 | NA | NA | NA | NA | 20 | (15,25] | 0.491 | 0.491 | 0.491 | 0.491 | 0.5626476 | 0.491 | 0.9880768 | 0.491 |\n",
       "| Register.ca            | Canada        |  74267354 | FirstTime | 1 | 2019-08-15 | 2018-08-15 | Active | ontarioart.space   | Register.ca            | NA | 1 |  6 |  6 | 0 | 222880706 | auto-renewal | unrealized | Not Renewd | 2019-08-15 | 15 | 6.11 | ontarioart  | 1 | 1 | ⋯ | NA | 0.7286549 | NA | NA | NA | NA | Canada        | NA | 0.9855667 | NA | 0.7286549 | NA | NA | NA | NA |  6 | (5,10]  | 0.337 | 0.337 | 0.337 | 0.337 | 0.7286549 | 0.337 | 0.9855667 | 0.337 |\n",
       "\n"
      ],
      "text/plain": [
       "  reseller               reseller_country domain_id renewal_type renewed_count\n",
       "1                                         122049036 FirstTime    1            \n",
       "2 Imperial Registrations United States     83956614 FirstTime    1            \n",
       "3 Imperial Registrations United States     83956624 FirstTime    1            \n",
       "4 Register.ca            Canada            74267354 FirstTime    1            \n",
       "  expiry_date creation_date status domain             registrar             \n",
       "1 2020-08-30  2019-08-30    Active qianxiyun.online                         \n",
       "2 2019-11-19  2018-11-19    Active frogjuggler.online Imperial Registrations\n",
       "3 2019-11-19  2018-11-19    Active frogjuggler.site   Imperial Registrations\n",
       "4 2019-08-15  2018-08-15    Active ontarioart.space   Register.ca           \n",
       "  registrant_country reg_period reg_revenue reg_arpt renew_mbg renewal_item_id\n",
       "1 NA                 1          25          25       0         341703158      \n",
       "2 NA                 1          25          25       0         256244725      \n",
       "3 NA                 1          20          20       0         256244735      \n",
       "4 NA                 1           6           6       0         222880706      \n",
       "  renew_type   autorenew_type renewal_status renew_date renew_arpt gibb_score\n",
       "1 auto-renewal unrealized     Not Renewd     2020-08-30  6         0.63      \n",
       "2 auto-renewal unrealized     Not Renewd     2019-11-19 25         2.98      \n",
       "3 auto-renewal unrealized     Not Renewd     2019-11-19 20         2.98      \n",
       "4 auto-renewal unrealized     Not Renewd     2019-08-15 15         6.11      \n",
       "  pattern     pattern_domain_count day_domains ⋯ pred_agg_glm pred_agg_rf\n",
       "1 qianxiyun   1                    1           ⋯ NA           0.7713468  \n",
       "2 frogjuggler 1                    1           ⋯ NA           0.8257238  \n",
       "3 frogjuggler 1                    1           ⋯ NA           0.5626476  \n",
       "4 ontarioart  1                    1           ⋯ NA           0.7286549  \n",
       "  pred_seg_glm_ALL pred_seg_rf_ALL pred_seg2_glm_ALL pred_seg2_rf_ALL\n",
       "1 NA               NA              NA                NA              \n",
       "2 NA               NA              NA                NA              \n",
       "3 NA               NA              NA                NA              \n",
       "4 NA               NA              NA                NA              \n",
       "  reseller_geo  pred_agg_glm_ALL_fb pred_agg_rf_ALL_fb pred_agg_glm_fb\n",
       "1 NA            NA                  0.9550391          NA             \n",
       "2 United States NA                  0.9948964          NA             \n",
       "3 United States NA                  0.9880768          NA             \n",
       "4 Canada        NA                  0.9855667          NA             \n",
       "  pred_agg_rf_fb pred_seg_glm_ALL_fb pred_seg_rf_ALL_fb pred_seg2_glm_ALL_fb\n",
       "1 0.7713468      NA                  NA                 NA                  \n",
       "2 0.8257238      NA                  NA                 NA                  \n",
       "3 0.5626476      NA                  NA                 NA                  \n",
       "4 0.7286549      NA                  NA                 NA                  \n",
       "  pred_seg2_rf_ALL_fb reg_arpt_org reg_arpt_slab pred_seg2_rf_ALL_fb2\n",
       "1 NA                  25           (15,25]       0.551               \n",
       "2 NA                  25           (15,25]       0.551               \n",
       "3 NA                  20           (15,25]       0.491               \n",
       "4 NA                   6           (5,10]        0.337               \n",
       "  pred_seg2_glm_ALL_fb2 pred_seg_rf_ALL_fb2 pred_seg_glm_ALL_fb2\n",
       "1 0.551                 0.551               0.551               \n",
       "2 0.551                 0.551               0.551               \n",
       "3 0.491                 0.491               0.491               \n",
       "4 0.337                 0.337               0.337               \n",
       "  pred_agg_rf_fb2 pred_agg_glm_fb2 pred_agg_rf_ALL_fb2 pred_agg_glm_ALL_fb2\n",
       "1 0.7713468       0.551            0.9550391           0.551               \n",
       "2 0.8257238       0.551            0.9948964           0.551               \n",
       "3 0.5626476       0.491            0.9880768           0.491               \n",
       "4 0.7286549       0.337            0.9855667           0.337               "
      ]
     },
     "metadata": {},
     "output_type": "display_data"
    }
   ],
   "source": [
    "preds_df %>% filter(is.na(pred_agg_glm_ALL)) %>% nrow()\n",
    "preds_df %>% filter(is.na(pred_agg_glm_ALL)) "
   ]
  },
  {
   "cell_type": "code",
   "execution_count": 14,
   "metadata": {},
   "outputs": [
    {
     "data": {
      "text/html": [
       "<style>\n",
       ".list-inline {list-style: none; margin:0; padding: 0}\n",
       ".list-inline>li {display: inline-block}\n",
       ".list-inline>li:not(:last-child)::after {content: \"\\00b7\"; padding: 0 .5ex}\n",
       "</style>\n",
       "<ol class=list-inline><li>'pred_agg_glm_ALL'</li><li>'pred_agg_rf_ALL'</li><li>'pred_agg_glm'</li><li>'pred_agg_rf'</li><li>'pred_seg_glm_ALL'</li><li>'pred_seg_rf_ALL'</li><li>'pred_seg2_glm_ALL'</li><li>'pred_seg2_rf_ALL'</li><li>'pred_agg_glm_ALL_fb'</li><li>'pred_agg_rf_ALL_fb'</li><li>'pred_agg_glm_fb'</li><li>'pred_agg_rf_fb'</li><li>'pred_seg_glm_ALL_fb'</li><li>'pred_seg_rf_ALL_fb'</li><li>'pred_seg2_glm_ALL_fb'</li><li>'pred_seg2_rf_ALL_fb'</li><li>'pred_seg2_rf_ALL_fb2'</li><li>'pred_seg2_glm_ALL_fb2'</li><li>'pred_seg_rf_ALL_fb2'</li><li>'pred_seg_glm_ALL_fb2'</li><li>'pred_agg_rf_fb2'</li><li>'pred_agg_glm_fb2'</li><li>'pred_agg_rf_ALL_fb2'</li><li>'pred_agg_glm_ALL_fb2'</li></ol>\n"
      ],
      "text/latex": [
       "\\begin{enumerate*}\n",
       "\\item 'pred\\_agg\\_glm\\_ALL'\n",
       "\\item 'pred\\_agg\\_rf\\_ALL'\n",
       "\\item 'pred\\_agg\\_glm'\n",
       "\\item 'pred\\_agg\\_rf'\n",
       "\\item 'pred\\_seg\\_glm\\_ALL'\n",
       "\\item 'pred\\_seg\\_rf\\_ALL'\n",
       "\\item 'pred\\_seg2\\_glm\\_ALL'\n",
       "\\item 'pred\\_seg2\\_rf\\_ALL'\n",
       "\\item 'pred\\_agg\\_glm\\_ALL\\_fb'\n",
       "\\item 'pred\\_agg\\_rf\\_ALL\\_fb'\n",
       "\\item 'pred\\_agg\\_glm\\_fb'\n",
       "\\item 'pred\\_agg\\_rf\\_fb'\n",
       "\\item 'pred\\_seg\\_glm\\_ALL\\_fb'\n",
       "\\item 'pred\\_seg\\_rf\\_ALL\\_fb'\n",
       "\\item 'pred\\_seg2\\_glm\\_ALL\\_fb'\n",
       "\\item 'pred\\_seg2\\_rf\\_ALL\\_fb'\n",
       "\\item 'pred\\_seg2\\_rf\\_ALL\\_fb2'\n",
       "\\item 'pred\\_seg2\\_glm\\_ALL\\_fb2'\n",
       "\\item 'pred\\_seg\\_rf\\_ALL\\_fb2'\n",
       "\\item 'pred\\_seg\\_glm\\_ALL\\_fb2'\n",
       "\\item 'pred\\_agg\\_rf\\_fb2'\n",
       "\\item 'pred\\_agg\\_glm\\_fb2'\n",
       "\\item 'pred\\_agg\\_rf\\_ALL\\_fb2'\n",
       "\\item 'pred\\_agg\\_glm\\_ALL\\_fb2'\n",
       "\\end{enumerate*}\n"
      ],
      "text/markdown": [
       "1. 'pred_agg_glm_ALL'\n",
       "2. 'pred_agg_rf_ALL'\n",
       "3. 'pred_agg_glm'\n",
       "4. 'pred_agg_rf'\n",
       "5. 'pred_seg_glm_ALL'\n",
       "6. 'pred_seg_rf_ALL'\n",
       "7. 'pred_seg2_glm_ALL'\n",
       "8. 'pred_seg2_rf_ALL'\n",
       "9. 'pred_agg_glm_ALL_fb'\n",
       "10. 'pred_agg_rf_ALL_fb'\n",
       "11. 'pred_agg_glm_fb'\n",
       "12. 'pred_agg_rf_fb'\n",
       "13. 'pred_seg_glm_ALL_fb'\n",
       "14. 'pred_seg_rf_ALL_fb'\n",
       "15. 'pred_seg2_glm_ALL_fb'\n",
       "16. 'pred_seg2_rf_ALL_fb'\n",
       "17. 'pred_seg2_rf_ALL_fb2'\n",
       "18. 'pred_seg2_glm_ALL_fb2'\n",
       "19. 'pred_seg_rf_ALL_fb2'\n",
       "20. 'pred_seg_glm_ALL_fb2'\n",
       "21. 'pred_agg_rf_fb2'\n",
       "22. 'pred_agg_glm_fb2'\n",
       "23. 'pred_agg_rf_ALL_fb2'\n",
       "24. 'pred_agg_glm_ALL_fb2'\n",
       "\n",
       "\n"
      ],
      "text/plain": [
       " [1] \"pred_agg_glm_ALL\"      \"pred_agg_rf_ALL\"       \"pred_agg_glm\"         \n",
       " [4] \"pred_agg_rf\"           \"pred_seg_glm_ALL\"      \"pred_seg_rf_ALL\"      \n",
       " [7] \"pred_seg2_glm_ALL\"     \"pred_seg2_rf_ALL\"      \"pred_agg_glm_ALL_fb\"  \n",
       "[10] \"pred_agg_rf_ALL_fb\"    \"pred_agg_glm_fb\"       \"pred_agg_rf_fb\"       \n",
       "[13] \"pred_seg_glm_ALL_fb\"   \"pred_seg_rf_ALL_fb\"    \"pred_seg2_glm_ALL_fb\" \n",
       "[16] \"pred_seg2_rf_ALL_fb\"   \"pred_seg2_rf_ALL_fb2\"  \"pred_seg2_glm_ALL_fb2\"\n",
       "[19] \"pred_seg_rf_ALL_fb2\"   \"pred_seg_glm_ALL_fb2\"  \"pred_agg_rf_fb2\"      \n",
       "[22] \"pred_agg_glm_fb2\"      \"pred_agg_rf_ALL_fb2\"   \"pred_agg_glm_ALL_fb2\" "
      ]
     },
     "metadata": {},
     "output_type": "display_data"
    }
   ],
   "source": [
    "preds_df %>%\n",
    "  select(contains('pred_')) %>%  # replace to your needs\n",
    "  names()"
   ]
  },
  {
   "cell_type": "code",
   "execution_count": 15,
   "metadata": {},
   "outputs": [],
   "source": [
    "\n",
    "lift_list <- list()\n",
    "auc_list <- list()\n",
    "\n",
    "fallback_lift <- chart_lift(pred_df=preds_df,\n",
    "                        dep_var = \"renewal_status\",\n",
    "                        pred_var = \"pred_agg_glm_ALL\") \n",
    "\n",
    "lift_list[[\"fallback\"]] <- fallback_lift\n",
    "auc_list[[\"fallback\"]] <- calc_auc(lift_df=fallback_lift)\n",
    "\n",
    "models <- c('pred_agg_glm_ALL','pred_agg_rf_ALL','pred_agg_glm','pred_agg_rf',\n",
    "            'pred_seg_glm_ALL', 'pred_seg_rf_ALL','pred_seg2_glm_ALL','pred_seg2_rf_ALL',\n",
    "           'pred_seg2_rf_ALL_fb2', 'pred_seg2_glm_ALL_fb2', 'pred_seg_rf_ALL_fb2', \n",
    "            'pred_seg_glm_ALL_fb2', 'pred_agg_rf_fb2', 'pred_agg_glm_fb2', \n",
    "            'pred_agg_rf_ALL_fb2','pred_agg_glm_ALL_fb2')\n",
    "\n",
    "\n",
    "for (model in models){\n",
    "    model_lift <- chart_lift(pred_df=preds_df,\n",
    "                        dep_var = \"renewal_status\",\n",
    "                        pred_var = model) \n",
    "    \n",
    "    fallback_lift <- merge(fallback_lift, model_lift, by=c(\"P\"),all= TRUE, \n",
    "                           suffixes = c(\"\",\n",
    "                                        paste(\"_\",gsub(\"pred_df_\", \"\", model)) ))\n",
    "    \n",
    "    lift_list[[model]] <- model_lift\n",
    "    auc_list[[model]] <- calc_auc(lift_df=model_lift)\n",
    "}\n",
    "\n",
    "lift_df <- fallback_lift"
   ]
  },
  {
   "cell_type": "code",
   "execution_count": 16,
   "metadata": {},
   "outputs": [
    {
     "data": {
      "text/html": [
       "17"
      ],
      "text/latex": [
       "17"
      ],
      "text/markdown": [
       "17"
      ],
      "text/plain": [
       "[1] 17"
      ]
     },
     "metadata": {},
     "output_type": "display_data"
    },
    {
     "data": {
      "text/html": [
       "<style>\n",
       ".list-inline {list-style: none; margin:0; padding: 0}\n",
       ".list-inline>li {display: inline-block}\n",
       ".list-inline>li:not(:last-child)::after {content: \"\\00b7\"; padding: 0 .5ex}\n",
       "</style>\n",
       "<ol class=list-inline><li>'fallback'</li><li>'pred_agg_glm_ALL'</li><li>'pred_agg_rf_ALL'</li><li>'pred_agg_glm'</li><li>'pred_agg_rf'</li><li>'pred_seg_glm_ALL'</li><li>'pred_seg_rf_ALL'</li><li>'pred_seg2_glm_ALL'</li><li>'pred_seg2_rf_ALL'</li><li>'pred_seg2_rf_ALL_fb2'</li><li>'pred_seg2_glm_ALL_fb2'</li><li>'pred_seg_rf_ALL_fb2'</li><li>'pred_seg_glm_ALL_fb2'</li><li>'pred_agg_rf_fb2'</li><li>'pred_agg_glm_fb2'</li><li>'pred_agg_rf_ALL_fb2'</li><li>'pred_agg_glm_ALL_fb2'</li></ol>\n"
      ],
      "text/latex": [
       "\\begin{enumerate*}\n",
       "\\item 'fallback'\n",
       "\\item 'pred\\_agg\\_glm\\_ALL'\n",
       "\\item 'pred\\_agg\\_rf\\_ALL'\n",
       "\\item 'pred\\_agg\\_glm'\n",
       "\\item 'pred\\_agg\\_rf'\n",
       "\\item 'pred\\_seg\\_glm\\_ALL'\n",
       "\\item 'pred\\_seg\\_rf\\_ALL'\n",
       "\\item 'pred\\_seg2\\_glm\\_ALL'\n",
       "\\item 'pred\\_seg2\\_rf\\_ALL'\n",
       "\\item 'pred\\_seg2\\_rf\\_ALL\\_fb2'\n",
       "\\item 'pred\\_seg2\\_glm\\_ALL\\_fb2'\n",
       "\\item 'pred\\_seg\\_rf\\_ALL\\_fb2'\n",
       "\\item 'pred\\_seg\\_glm\\_ALL\\_fb2'\n",
       "\\item 'pred\\_agg\\_rf\\_fb2'\n",
       "\\item 'pred\\_agg\\_glm\\_fb2'\n",
       "\\item 'pred\\_agg\\_rf\\_ALL\\_fb2'\n",
       "\\item 'pred\\_agg\\_glm\\_ALL\\_fb2'\n",
       "\\end{enumerate*}\n"
      ],
      "text/markdown": [
       "1. 'fallback'\n",
       "2. 'pred_agg_glm_ALL'\n",
       "3. 'pred_agg_rf_ALL'\n",
       "4. 'pred_agg_glm'\n",
       "5. 'pred_agg_rf'\n",
       "6. 'pred_seg_glm_ALL'\n",
       "7. 'pred_seg_rf_ALL'\n",
       "8. 'pred_seg2_glm_ALL'\n",
       "9. 'pred_seg2_rf_ALL'\n",
       "10. 'pred_seg2_rf_ALL_fb2'\n",
       "11. 'pred_seg2_glm_ALL_fb2'\n",
       "12. 'pred_seg_rf_ALL_fb2'\n",
       "13. 'pred_seg_glm_ALL_fb2'\n",
       "14. 'pred_agg_rf_fb2'\n",
       "15. 'pred_agg_glm_fb2'\n",
       "16. 'pred_agg_rf_ALL_fb2'\n",
       "17. 'pred_agg_glm_ALL_fb2'\n",
       "\n",
       "\n"
      ],
      "text/plain": [
       " [1] \"fallback\"              \"pred_agg_glm_ALL\"      \"pred_agg_rf_ALL\"      \n",
       " [4] \"pred_agg_glm\"          \"pred_agg_rf\"           \"pred_seg_glm_ALL\"     \n",
       " [7] \"pred_seg_rf_ALL\"       \"pred_seg2_glm_ALL\"     \"pred_seg2_rf_ALL\"     \n",
       "[10] \"pred_seg2_rf_ALL_fb2\"  \"pred_seg2_glm_ALL_fb2\" \"pred_seg_rf_ALL_fb2\"  \n",
       "[13] \"pred_seg_glm_ALL_fb2\"  \"pred_agg_rf_fb2\"       \"pred_agg_glm_fb2\"     \n",
       "[16] \"pred_agg_rf_ALL_fb2\"   \"pred_agg_glm_ALL_fb2\" "
      ]
     },
     "metadata": {},
     "output_type": "display_data"
    },
    {
     "data": {
      "text/html": [
       "<table>\n",
       "<caption>A matrix: 2 × 17 of type int</caption>\n",
       "<thead>\n",
       "\t<tr><th scope=col>fallback</th><th scope=col>pred_agg_glm_ALL</th><th scope=col>pred_agg_rf_ALL</th><th scope=col>pred_agg_glm</th><th scope=col>pred_agg_rf</th><th scope=col>pred_seg_glm_ALL</th><th scope=col>pred_seg_rf_ALL</th><th scope=col>pred_seg2_glm_ALL</th><th scope=col>pred_seg2_rf_ALL</th><th scope=col>pred_seg2_rf_ALL_fb2</th><th scope=col>pred_seg2_glm_ALL_fb2</th><th scope=col>pred_seg_rf_ALL_fb2</th><th scope=col>pred_seg_glm_ALL_fb2</th><th scope=col>pred_agg_rf_fb2</th><th scope=col>pred_agg_glm_fb2</th><th scope=col>pred_agg_rf_ALL_fb2</th><th scope=col>pred_agg_glm_ALL_fb2</th></tr>\n",
       "</thead>\n",
       "<tbody>\n",
       "\t<tr><td>10</td><td>10</td><td>10</td><td>10</td><td>10</td><td>10</td><td>10</td><td>10</td><td>10</td><td>10</td><td>10</td><td>10</td><td>10</td><td>10</td><td>10</td><td>10</td><td>10</td></tr>\n",
       "\t<tr><td> 4</td><td> 4</td><td> 4</td><td> 4</td><td> 4</td><td> 4</td><td> 4</td><td> 4</td><td> 4</td><td> 4</td><td> 4</td><td> 4</td><td> 4</td><td> 4</td><td> 4</td><td> 4</td><td> 4</td></tr>\n",
       "</tbody>\n",
       "</table>\n"
      ],
      "text/latex": [
       "A matrix: 2 × 17 of type int\n",
       "\\begin{tabular}{lllllllllllllllll}\n",
       " fallback & pred\\_agg\\_glm\\_ALL & pred\\_agg\\_rf\\_ALL & pred\\_agg\\_glm & pred\\_agg\\_rf & pred\\_seg\\_glm\\_ALL & pred\\_seg\\_rf\\_ALL & pred\\_seg2\\_glm\\_ALL & pred\\_seg2\\_rf\\_ALL & pred\\_seg2\\_rf\\_ALL\\_fb2 & pred\\_seg2\\_glm\\_ALL\\_fb2 & pred\\_seg\\_rf\\_ALL\\_fb2 & pred\\_seg\\_glm\\_ALL\\_fb2 & pred\\_agg\\_rf\\_fb2 & pred\\_agg\\_glm\\_fb2 & pred\\_agg\\_rf\\_ALL\\_fb2 & pred\\_agg\\_glm\\_ALL\\_fb2\\\\\n",
       "\\hline\n",
       "\t 10 & 10 & 10 & 10 & 10 & 10 & 10 & 10 & 10 & 10 & 10 & 10 & 10 & 10 & 10 & 10 & 10\\\\\n",
       "\t  4 &  4 &  4 &  4 &  4 &  4 &  4 &  4 &  4 &  4 &  4 &  4 &  4 &  4 &  4 &  4 &  4\\\\\n",
       "\\end{tabular}\n"
      ],
      "text/markdown": [
       "\n",
       "A matrix: 2 × 17 of type int\n",
       "\n",
       "| fallback | pred_agg_glm_ALL | pred_agg_rf_ALL | pred_agg_glm | pred_agg_rf | pred_seg_glm_ALL | pred_seg_rf_ALL | pred_seg2_glm_ALL | pred_seg2_rf_ALL | pred_seg2_rf_ALL_fb2 | pred_seg2_glm_ALL_fb2 | pred_seg_rf_ALL_fb2 | pred_seg_glm_ALL_fb2 | pred_agg_rf_fb2 | pred_agg_glm_fb2 | pred_agg_rf_ALL_fb2 | pred_agg_glm_ALL_fb2 |\n",
       "|---|---|---|---|---|---|---|---|---|---|---|---|---|---|---|---|---|\n",
       "| 10 | 10 | 10 | 10 | 10 | 10 | 10 | 10 | 10 | 10 | 10 | 10 | 10 | 10 | 10 | 10 | 10 |\n",
       "|  4 |  4 |  4 |  4 |  4 |  4 |  4 |  4 |  4 |  4 |  4 |  4 |  4 |  4 |  4 |  4 |  4 |\n",
       "\n"
      ],
      "text/plain": [
       "     fallback pred_agg_glm_ALL pred_agg_rf_ALL pred_agg_glm pred_agg_rf\n",
       "[1,] 10       10               10              10           10         \n",
       "[2,]  4        4                4               4            4         \n",
       "     pred_seg_glm_ALL pred_seg_rf_ALL pred_seg2_glm_ALL pred_seg2_rf_ALL\n",
       "[1,] 10               10              10                10              \n",
       "[2,]  4                4               4                 4              \n",
       "     pred_seg2_rf_ALL_fb2 pred_seg2_glm_ALL_fb2 pred_seg_rf_ALL_fb2\n",
       "[1,] 10                   10                    10                 \n",
       "[2,]  4                    4                     4                 \n",
       "     pred_seg_glm_ALL_fb2 pred_agg_rf_fb2 pred_agg_glm_fb2 pred_agg_rf_ALL_fb2\n",
       "[1,] 10                   10              10               10                 \n",
       "[2,]  4                    4               4                4                 \n",
       "     pred_agg_glm_ALL_fb2\n",
       "[1,] 10                  \n",
       "[2,]  4                  "
      ]
     },
     "metadata": {},
     "output_type": "display_data"
    },
    {
     "data": {
      "text/html": [
       "<strong>$pred_agg_glm_ALL</strong> = <table>\n",
       "<caption>A data.frame: 10 × 4</caption>\n",
       "<thead>\n",
       "\t<tr><th scope=col>P</th><th scope=col>actu_renwd2</th><th scope=col>gain</th><th scope=col>lift</th></tr>\n",
       "\t<tr><th scope=col>&lt;dbl&gt;</th><th scope=col>&lt;int&gt;</th><th scope=col>&lt;dbl&gt;</th><th scope=col>&lt;dbl&gt;</th></tr>\n",
       "</thead>\n",
       "<tbody>\n",
       "\t<tr><td>0.1</td><td>38759</td><td>0.4651601</td><td>4.651601</td></tr>\n",
       "\t<tr><td>0.2</td><td>55749</td><td>0.6690629</td><td>3.345315</td></tr>\n",
       "\t<tr><td>0.3</td><td>66666</td><td>0.8000816</td><td>2.666939</td></tr>\n",
       "\t<tr><td>0.4</td><td>72945</td><td>0.8754380</td><td>2.188595</td></tr>\n",
       "\t<tr><td>0.5</td><td>77197</td><td>0.9264678</td><td>1.852936</td></tr>\n",
       "\t<tr><td>0.6</td><td>80315</td><td>0.9638880</td><td>1.606480</td></tr>\n",
       "\t<tr><td>0.7</td><td>82058</td><td>0.9848063</td><td>1.406866</td></tr>\n",
       "\t<tr><td>0.8</td><td>82939</td><td>0.9953795</td><td>1.244224</td></tr>\n",
       "\t<tr><td>0.9</td><td>83186</td><td>0.9983438</td><td>1.109271</td></tr>\n",
       "\t<tr><td>1.0</td><td>83324</td><td>1.0000000</td><td>1.000000</td></tr>\n",
       "</tbody>\n",
       "</table>\n"
      ],
      "text/latex": [
       "\\textbf{\\$pred\\_agg\\_glm\\_ALL} = A data.frame: 10 × 4\n",
       "\\begin{tabular}{llll}\n",
       " P & actu\\_renwd2 & gain & lift\\\\\n",
       " <dbl> & <int> & <dbl> & <dbl>\\\\\n",
       "\\hline\n",
       "\t 0.1 & 38759 & 0.4651601 & 4.651601\\\\\n",
       "\t 0.2 & 55749 & 0.6690629 & 3.345315\\\\\n",
       "\t 0.3 & 66666 & 0.8000816 & 2.666939\\\\\n",
       "\t 0.4 & 72945 & 0.8754380 & 2.188595\\\\\n",
       "\t 0.5 & 77197 & 0.9264678 & 1.852936\\\\\n",
       "\t 0.6 & 80315 & 0.9638880 & 1.606480\\\\\n",
       "\t 0.7 & 82058 & 0.9848063 & 1.406866\\\\\n",
       "\t 0.8 & 82939 & 0.9953795 & 1.244224\\\\\n",
       "\t 0.9 & 83186 & 0.9983438 & 1.109271\\\\\n",
       "\t 1.0 & 83324 & 1.0000000 & 1.000000\\\\\n",
       "\\end{tabular}\n"
      ],
      "text/markdown": [
       "**$pred_agg_glm_ALL** = \n",
       "A data.frame: 10 × 4\n",
       "\n",
       "| P &lt;dbl&gt; | actu_renwd2 &lt;int&gt; | gain &lt;dbl&gt; | lift &lt;dbl&gt; |\n",
       "|---|---|---|---|\n",
       "| 0.1 | 38759 | 0.4651601 | 4.651601 |\n",
       "| 0.2 | 55749 | 0.6690629 | 3.345315 |\n",
       "| 0.3 | 66666 | 0.8000816 | 2.666939 |\n",
       "| 0.4 | 72945 | 0.8754380 | 2.188595 |\n",
       "| 0.5 | 77197 | 0.9264678 | 1.852936 |\n",
       "| 0.6 | 80315 | 0.9638880 | 1.606480 |\n",
       "| 0.7 | 82058 | 0.9848063 | 1.406866 |\n",
       "| 0.8 | 82939 | 0.9953795 | 1.244224 |\n",
       "| 0.9 | 83186 | 0.9983438 | 1.109271 |\n",
       "| 1.0 | 83324 | 1.0000000 | 1.000000 |\n",
       "\n"
      ],
      "text/plain": [
       "$pred_agg_glm_ALL\n",
       "     P actu_renwd2      gain     lift\n",
       "1  0.1       38759 0.4651601 4.651601\n",
       "2  0.2       55749 0.6690629 3.345315\n",
       "3  0.3       66666 0.8000816 2.666939\n",
       "4  0.4       72945 0.8754380 2.188595\n",
       "5  0.5       77197 0.9264678 1.852936\n",
       "6  0.6       80315 0.9638880 1.606480\n",
       "7  0.7       82058 0.9848063 1.406866\n",
       "8  0.8       82939 0.9953795 1.244224\n",
       "9  0.9       83186 0.9983438 1.109271\n",
       "10 1.0       83324 1.0000000 1.000000\n"
      ]
     },
     "metadata": {},
     "output_type": "display_data"
    }
   ],
   "source": [
    "length(lift_list)\n",
    "names(lift_list)\n",
    "sapply(lift_list, dim)\n",
    "lift_list[\"pred_agg_glm_ALL\"]"
   ]
  },
  {
   "cell_type": "code",
   "execution_count": 17,
   "metadata": {},
   "outputs": [],
   "source": [
    "lift_list[[1]] <- NULL\n",
    "auc_list[[1]] <- NULL"
   ]
  },
  {
   "cell_type": "code",
   "execution_count": 18,
   "metadata": {},
   "outputs": [
    {
     "data": {
      "text/plain": [
       "\n",
       "Not Renewd    Renewed \n",
       "0.91062984 0.08937016 "
      ]
     },
     "metadata": {},
     "output_type": "display_data"
    }
   ],
   "source": [
    "prop.table(table(preds_df$renewal_status))"
   ]
  },
  {
   "cell_type": "code",
   "execution_count": 19,
   "metadata": {},
   "outputs": [],
   "source": [
    "plot_multigains <- function (lift_df_list=list(seg_glm = lift_df, \n",
    "                                               ben_dtr = lift_df_2),\n",
    "                             auc_list = list(seg_glm = auc, \n",
    "                                             ben_dtr=auc_2),\n",
    "                             prop_positive = 0.1121167) {\n",
    "  \n",
    "  optimal_df <- data.frame( \"P\"=c(0,prop_positive,1.0),\n",
    "                            \"actu_renwd2\"=c(NA,NA,NA),\n",
    "                            \"gain\"=c(0,1.0,1.0),\n",
    "                            \"lift\"=c(NA,NA,NA))\n",
    "  \n",
    "  lift_df_list <- lapply(lift_df_list, function(df) {\n",
    "    df <- df %>%\n",
    "      add_row(P = 0, gain =0) %>%\n",
    "      arrange(P)\n",
    "  })\n",
    "\n",
    "  auc_lift_list = paste(lapply(auc_list, round, 3),sapply(lift_df_list, function(x) round(x[2,\"lift\"],2)), sep=\", \")\n",
    "  \n",
    "  auc_map = paste(names(lift_df_list),auc_lift_list, sep=\" = \")[1:length(lift_df_list)]\n",
    "  \n",
    "  \n",
    "  gains_plot <- ggplot(NULL, aes(P,  gain)) +\n",
    "    geom_line(data = lift_df_list[[1]] %>% slice(1, n())) +\n",
    "    \n",
    "    list(geom_line(data=optimal_df), geom_point(data=optimal_df)) +\n",
    "    \n",
    "    scale_y_continuous(breaks = seq(0, 1, by = .1), limits = c(0,1)) +\n",
    "    scale_x_continuous(breaks = seq(0, 1, by = .1)) +\n",
    "    labs(title = \"Cumulative Gains Plot\",\n",
    "         y = \"Cumulative Gain\",\n",
    "         x = \"Percentile\")+\n",
    "    theme(text = element_text(size=20))\n",
    "  \n",
    "  for(i in seq(length(lift_df_list))){\n",
    "    name = names(lift_df_list)[[i]]\n",
    "    df = lift_df_list[[i]]\n",
    "    auc = auc_list[[i]]\n",
    "    gains_plot <- gains_plot + list(geom_line(data=df), \n",
    "                                    geom_point(data=df))+ \n",
    "      annotate(\"text\", x = .35, y = .75-i*.075, hjust = 0, label = auc_map[[i]], size = 6)\n",
    "  }\n",
    "  \n",
    "  \n",
    "  return(gains_plot)\n",
    "}\n"
   ]
  },
  {
   "cell_type": "code",
   "execution_count": 20,
   "metadata": {},
   "outputs": [
    {
     "name": "stderr",
     "output_type": "stream",
     "text": [
      "Warning message:\n",
      "“Removed 1 rows containing missing values (geom_text).”\n",
      "Warning message:\n",
      "“Removed 1 rows containing missing values (geom_text).”\n",
      "Warning message:\n",
      "“Removed 1 rows containing missing values (geom_text).”\n",
      "Warning message:\n",
      "“Removed 1 rows containing missing values (geom_text).”\n",
      "Warning message:\n",
      "“Removed 1 rows containing missing values (geom_text).”\n",
      "Warning message:\n",
      "“Removed 1 rows containing missing values (geom_text).”\n"
     ]
    },
    {
     "data": {
      "image/png": "[encoded data removed]",
      "text/plain": [
       "plot without title"
      ]
     },
     "metadata": {
      "image/png": {
       "height": 420,
       "width": 420
      },
      "text/plain": {
       "height": 420,
       "width": 420
      }
     },
     "output_type": "display_data"
    }
   ],
   "source": [
    "plot_multigains(            lift_df_list=lift_list,\n",
    "                             auc_list = auc_list,\n",
    "                             prop_positive = 0.08937016) "
   ]
  },
  {
   "cell_type": "code",
   "execution_count": 21,
   "metadata": {},
   "outputs": [
    {
     "data": {
      "image/png": "[encoded data removed]",
      "text/plain": [
       "plot without title"
      ]
     },
     "metadata": {
      "image/png": {
       "height": 420,
       "width": 420
      },
      "text/plain": {
       "height": 420,
       "width": 420
      }
     },
     "output_type": "display_data"
    }
   ],
   "source": [
    "# just agg_rf_ALL versus seg2_glm_fb2\n",
    "models <-  c('pred_agg_rf_ALL', 'pred_seg2_glm_ALL_fb2')\n",
    "plot_multigains(            lift_df_list=lift_list[models],\n",
    "                             auc_list = auc_list,\n",
    "                             prop_positive = 0.08937016) "
   ]
  },
  {
   "cell_type": "code",
   "execution_count": 22,
   "metadata": {},
   "outputs": [
    {
     "data": {
      "text/html": [
       "<table>\n",
       "<caption>A matrix: 16 × 1 of type dbl</caption>\n",
       "<tbody>\n",
       "\t<tr><th scope=row>lift_ pred_agg_glm_ALL</th><td>4.651601</td></tr>\n",
       "\t<tr><th scope=row>lift_ pred_agg_rf_ALL</th><td>5.245187</td></tr>\n",
       "\t<tr><th scope=row>lift_ pred_agg_glm</th><td>4.397292</td></tr>\n",
       "\t<tr><th scope=row>lift_ pred_agg_rf</th><td>5.116893</td></tr>\n",
       "\t<tr><th scope=row>lift_ pred_seg_glm_ALL</th><td>4.730450</td></tr>\n",
       "\t<tr><th scope=row>lift_ pred_seg_rf_ALL</th><td>5.259589</td></tr>\n",
       "\t<tr><th scope=row>lift_ pred_seg2_glm_ALL</th><td>4.913470</td></tr>\n",
       "\t<tr><th scope=row>lift_ pred_seg2_rf_ALL</th><td>5.241827</td></tr>\n",
       "\t<tr><th scope=row>lift_ pred_seg2_rf_ALL_fb2</th><td>5.038524</td></tr>\n",
       "\t<tr><th scope=row>lift_ pred_seg2_glm_ALL_fb2</th><td>4.742811</td></tr>\n",
       "\t<tr><th scope=row>lift_ pred_seg_rf_ALL_fb2</th><td>5.048605</td></tr>\n",
       "\t<tr><th scope=row>lift_ pred_seg_glm_ALL_fb2</th><td>4.611757</td></tr>\n",
       "\t<tr><th scope=row>lift_ pred_agg_rf_fb2</th><td>5.040445</td></tr>\n",
       "\t<tr><th scope=row>lift_ pred_agg_glm_fb2</th><td>4.518626</td></tr>\n",
       "\t<tr><th scope=row>lift_ pred_agg_rf_ALL_fb2</th><td>5.035884</td></tr>\n",
       "\t<tr><th scope=row>lift_ pred_agg_glm_ALL_fb2</th><td>4.526907</td></tr>\n",
       "</tbody>\n",
       "</table>\n"
      ],
      "text/latex": [
       "A matrix: 16 × 1 of type dbl\n",
       "\\begin{tabular}{r|l}\n",
       "\tlift\\_ pred\\_agg\\_glm\\_ALL & 4.651601\\\\\n",
       "\tlift\\_ pred\\_agg\\_rf\\_ALL & 5.245187\\\\\n",
       "\tlift\\_ pred\\_agg\\_glm & 4.397292\\\\\n",
       "\tlift\\_ pred\\_agg\\_rf & 5.116893\\\\\n",
       "\tlift\\_ pred\\_seg\\_glm\\_ALL & 4.730450\\\\\n",
       "\tlift\\_ pred\\_seg\\_rf\\_ALL & 5.259589\\\\\n",
       "\tlift\\_ pred\\_seg2\\_glm\\_ALL & 4.913470\\\\\n",
       "\tlift\\_ pred\\_seg2\\_rf\\_ALL & 5.241827\\\\\n",
       "\tlift\\_ pred\\_seg2\\_rf\\_ALL\\_fb2 & 5.038524\\\\\n",
       "\tlift\\_ pred\\_seg2\\_glm\\_ALL\\_fb2 & 4.742811\\\\\n",
       "\tlift\\_ pred\\_seg\\_rf\\_ALL\\_fb2 & 5.048605\\\\\n",
       "\tlift\\_ pred\\_seg\\_glm\\_ALL\\_fb2 & 4.611757\\\\\n",
       "\tlift\\_ pred\\_agg\\_rf\\_fb2 & 5.040445\\\\\n",
       "\tlift\\_ pred\\_agg\\_glm\\_fb2 & 4.518626\\\\\n",
       "\tlift\\_ pred\\_agg\\_rf\\_ALL\\_fb2 & 5.035884\\\\\n",
       "\tlift\\_ pred\\_agg\\_glm\\_ALL\\_fb2 & 4.526907\\\\\n",
       "\\end{tabular}\n"
      ],
      "text/markdown": [
       "\n",
       "A matrix: 16 × 1 of type dbl\n",
       "\n",
       "| lift_ pred_agg_glm_ALL | 4.651601 |\n",
       "| lift_ pred_agg_rf_ALL | 5.245187 |\n",
       "| lift_ pred_agg_glm | 4.397292 |\n",
       "| lift_ pred_agg_rf | 5.116893 |\n",
       "| lift_ pred_seg_glm_ALL | 4.730450 |\n",
       "| lift_ pred_seg_rf_ALL | 5.259589 |\n",
       "| lift_ pred_seg2_glm_ALL | 4.913470 |\n",
       "| lift_ pred_seg2_rf_ALL | 5.241827 |\n",
       "| lift_ pred_seg2_rf_ALL_fb2 | 5.038524 |\n",
       "| lift_ pred_seg2_glm_ALL_fb2 | 4.742811 |\n",
       "| lift_ pred_seg_rf_ALL_fb2 | 5.048605 |\n",
       "| lift_ pred_seg_glm_ALL_fb2 | 4.611757 |\n",
       "| lift_ pred_agg_rf_fb2 | 5.040445 |\n",
       "| lift_ pred_agg_glm_fb2 | 4.518626 |\n",
       "| lift_ pred_agg_rf_ALL_fb2 | 5.035884 |\n",
       "| lift_ pred_agg_glm_ALL_fb2 | 4.526907 |\n",
       "\n"
      ],
      "text/plain": [
       "                            [,1]    \n",
       "lift_ pred_agg_glm_ALL      4.651601\n",
       "lift_ pred_agg_rf_ALL       5.245187\n",
       "lift_ pred_agg_glm          4.397292\n",
       "lift_ pred_agg_rf           5.116893\n",
       "lift_ pred_seg_glm_ALL      4.730450\n",
       "lift_ pred_seg_rf_ALL       5.259589\n",
       "lift_ pred_seg2_glm_ALL     4.913470\n",
       "lift_ pred_seg2_rf_ALL      5.241827\n",
       "lift_ pred_seg2_rf_ALL_fb2  5.038524\n",
       "lift_ pred_seg2_glm_ALL_fb2 4.742811\n",
       "lift_ pred_seg_rf_ALL_fb2   5.048605\n",
       "lift_ pred_seg_glm_ALL_fb2  4.611757\n",
       "lift_ pred_agg_rf_fb2       5.040445\n",
       "lift_ pred_agg_glm_fb2      4.518626\n",
       "lift_ pred_agg_rf_ALL_fb2   5.035884\n",
       "lift_ pred_agg_glm_ALL_fb2  4.526907"
      ]
     },
     "metadata": {},
     "output_type": "display_data"
    }
   ],
   "source": [
    "lift_df_10 <- lift_df %>% filter(P==0.1) %>% select(contains(\"lift_\")) %>% t()\n",
    "lift_df_10"
   ]
  },
  {
   "cell_type": "code",
   "execution_count": 23,
   "metadata": {},
   "outputs": [
    {
     "data": {
      "text/html": [
       "<table>\n",
       "<caption>A data.frame: 16 × 1</caption>\n",
       "<thead>\n",
       "\t<tr><th></th><th scope=col>V1</th></tr>\n",
       "\t<tr><th></th><th scope=col>&lt;dbl&gt;</th></tr>\n",
       "</thead>\n",
       "<tbody>\n",
       "\t<tr><th scope=row>lift_ pred_agg_glm</th><td>4.397292</td></tr>\n",
       "\t<tr><th scope=row>lift_ pred_agg_glm_fb2</th><td>4.518626</td></tr>\n",
       "\t<tr><th scope=row>lift_ pred_agg_glm_ALL_fb2</th><td>4.526907</td></tr>\n",
       "\t<tr><th scope=row>lift_ pred_seg_glm_ALL_fb2</th><td>4.611757</td></tr>\n",
       "\t<tr><th scope=row>lift_ pred_agg_glm_ALL</th><td>4.651601</td></tr>\n",
       "\t<tr><th scope=row>lift_ pred_seg_glm_ALL</th><td>4.730450</td></tr>\n",
       "\t<tr><th scope=row>lift_ pred_seg2_glm_ALL_fb2</th><td>4.742811</td></tr>\n",
       "\t<tr><th scope=row>lift_ pred_seg2_glm_ALL</th><td>4.913470</td></tr>\n",
       "\t<tr><th scope=row>lift_ pred_agg_rf_ALL_fb2</th><td>5.035884</td></tr>\n",
       "\t<tr><th scope=row>lift_ pred_seg2_rf_ALL_fb2</th><td>5.038524</td></tr>\n",
       "\t<tr><th scope=row>lift_ pred_agg_rf_fb2</th><td>5.040445</td></tr>\n",
       "\t<tr><th scope=row>lift_ pred_seg_rf_ALL_fb2</th><td>5.048605</td></tr>\n",
       "\t<tr><th scope=row>lift_ pred_agg_rf</th><td>5.116893</td></tr>\n",
       "\t<tr><th scope=row>lift_ pred_seg2_rf_ALL</th><td>5.241827</td></tr>\n",
       "\t<tr><th scope=row>lift_ pred_agg_rf_ALL</th><td>5.245187</td></tr>\n",
       "\t<tr><th scope=row>lift_ pred_seg_rf_ALL</th><td>5.259589</td></tr>\n",
       "</tbody>\n",
       "</table>\n"
      ],
      "text/latex": [
       "A data.frame: 16 × 1\n",
       "\\begin{tabular}{r|l}\n",
       "  & V1\\\\\n",
       "  & <dbl>\\\\\n",
       "\\hline\n",
       "\tlift\\_ pred\\_agg\\_glm & 4.397292\\\\\n",
       "\tlift\\_ pred\\_agg\\_glm\\_fb2 & 4.518626\\\\\n",
       "\tlift\\_ pred\\_agg\\_glm\\_ALL\\_fb2 & 4.526907\\\\\n",
       "\tlift\\_ pred\\_seg\\_glm\\_ALL\\_fb2 & 4.611757\\\\\n",
       "\tlift\\_ pred\\_agg\\_glm\\_ALL & 4.651601\\\\\n",
       "\tlift\\_ pred\\_seg\\_glm\\_ALL & 4.730450\\\\\n",
       "\tlift\\_ pred\\_seg2\\_glm\\_ALL\\_fb2 & 4.742811\\\\\n",
       "\tlift\\_ pred\\_seg2\\_glm\\_ALL & 4.913470\\\\\n",
       "\tlift\\_ pred\\_agg\\_rf\\_ALL\\_fb2 & 5.035884\\\\\n",
       "\tlift\\_ pred\\_seg2\\_rf\\_ALL\\_fb2 & 5.038524\\\\\n",
       "\tlift\\_ pred\\_agg\\_rf\\_fb2 & 5.040445\\\\\n",
       "\tlift\\_ pred\\_seg\\_rf\\_ALL\\_fb2 & 5.048605\\\\\n",
       "\tlift\\_ pred\\_agg\\_rf & 5.116893\\\\\n",
       "\tlift\\_ pred\\_seg2\\_rf\\_ALL & 5.241827\\\\\n",
       "\tlift\\_ pred\\_agg\\_rf\\_ALL & 5.245187\\\\\n",
       "\tlift\\_ pred\\_seg\\_rf\\_ALL & 5.259589\\\\\n",
       "\\end{tabular}\n"
      ],
      "text/markdown": [
       "\n",
       "A data.frame: 16 × 1\n",
       "\n",
       "| <!--/--> | V1 &lt;dbl&gt; |\n",
       "|---|---|\n",
       "| lift_ pred_agg_glm | 4.397292 |\n",
       "| lift_ pred_agg_glm_fb2 | 4.518626 |\n",
       "| lift_ pred_agg_glm_ALL_fb2 | 4.526907 |\n",
       "| lift_ pred_seg_glm_ALL_fb2 | 4.611757 |\n",
       "| lift_ pred_agg_glm_ALL | 4.651601 |\n",
       "| lift_ pred_seg_glm_ALL | 4.730450 |\n",
       "| lift_ pred_seg2_glm_ALL_fb2 | 4.742811 |\n",
       "| lift_ pred_seg2_glm_ALL | 4.913470 |\n",
       "| lift_ pred_agg_rf_ALL_fb2 | 5.035884 |\n",
       "| lift_ pred_seg2_rf_ALL_fb2 | 5.038524 |\n",
       "| lift_ pred_agg_rf_fb2 | 5.040445 |\n",
       "| lift_ pred_seg_rf_ALL_fb2 | 5.048605 |\n",
       "| lift_ pred_agg_rf | 5.116893 |\n",
       "| lift_ pred_seg2_rf_ALL | 5.241827 |\n",
       "| lift_ pred_agg_rf_ALL | 5.245187 |\n",
       "| lift_ pred_seg_rf_ALL | 5.259589 |\n",
       "\n"
      ],
      "text/plain": [
       "                            V1      \n",
       "lift_ pred_agg_glm          4.397292\n",
       "lift_ pred_agg_glm_fb2      4.518626\n",
       "lift_ pred_agg_glm_ALL_fb2  4.526907\n",
       "lift_ pred_seg_glm_ALL_fb2  4.611757\n",
       "lift_ pred_agg_glm_ALL      4.651601\n",
       "lift_ pred_seg_glm_ALL      4.730450\n",
       "lift_ pred_seg2_glm_ALL_fb2 4.742811\n",
       "lift_ pred_seg2_glm_ALL     4.913470\n",
       "lift_ pred_agg_rf_ALL_fb2   5.035884\n",
       "lift_ pred_seg2_rf_ALL_fb2  5.038524\n",
       "lift_ pred_agg_rf_fb2       5.040445\n",
       "lift_ pred_seg_rf_ALL_fb2   5.048605\n",
       "lift_ pred_agg_rf           5.116893\n",
       "lift_ pred_seg2_rf_ALL      5.241827\n",
       "lift_ pred_agg_rf_ALL       5.245187\n",
       "lift_ pred_seg_rf_ALL       5.259589"
      ]
     },
     "metadata": {},
     "output_type": "display_data"
    }
   ],
   "source": [
    "df <- as.data.frame(as.data.frame(lift_df_10))\n",
    "df %>% arrange(V1)"
   ]
  },
  {
   "cell_type": "code",
   "execution_count": 24,
   "metadata": {},
   "outputs": [
    {
     "data": {
      "text/html": [
       "<strong>lift_ pred_agg_rf_ALL:</strong> 0.105923732887978"
      ],
      "text/latex": [
       "\\textbf{lift\\textbackslash{}\\_ pred\\textbackslash{}\\_agg\\textbackslash{}\\_rf\\textbackslash{}\\_ALL:} 0.105923732887978"
      ],
      "text/markdown": [
       "**lift_ pred_agg_rf_ALL:** 0.105923732887978"
      ],
      "text/plain": [
       "lift_ pred_agg_rf_ALL \n",
       "            0.1059237 "
      ]
     },
     "metadata": {},
     "output_type": "display_data"
    }
   ],
   "source": [
    "# improvement in performance of agg_rf over seg2_glm - lift@10%\n",
    "(lift_df_10['lift_ pred_agg_rf_ALL',]-lift_df_10['lift_ pred_seg2_glm_ALL_fb2',])/lift_df_10['lift_ pred_seg2_glm_ALL_fb2',]"
   ]
  },
  {
   "cell_type": "code",
   "execution_count": 25,
   "metadata": {},
   "outputs": [
    {
     "data": {
      "text/html": [
       "<table>\n",
       "<caption>A data.frame: 16 × 1</caption>\n",
       "<thead>\n",
       "\t<tr><th></th><th scope=col>df[order(df[, 1]), ]</th></tr>\n",
       "\t<tr><th></th><th scope=col>&lt;dbl&gt;</th></tr>\n",
       "</thead>\n",
       "<tbody>\n",
       "\t<tr><th scope=row>pred_agg_glm</th><td>0.7822524</td></tr>\n",
       "\t<tr><th scope=row>pred_agg_glm_ALL_fb2</th><td>0.8143224</td></tr>\n",
       "\t<tr><th scope=row>pred_agg_glm_fb2</th><td>0.8144172</td></tr>\n",
       "\t<tr><th scope=row>pred_agg_glm_ALL</th><td>0.8178628</td></tr>\n",
       "\t<tr><th scope=row>pred_seg_glm_ALL_fb2</th><td>0.8194206</td></tr>\n",
       "\t<tr><th scope=row>pred_seg_glm_ALL</th><td>0.8230858</td></tr>\n",
       "\t<tr><th scope=row>pred_seg2_glm_ALL</th><td>0.8322152</td></tr>\n",
       "\t<tr><th scope=row>pred_seg2_glm_ALL_fb2</th><td>0.8327589</td></tr>\n",
       "\t<tr><th scope=row>pred_agg_rf_ALL_fb2</th><td>0.8527195</td></tr>\n",
       "\t<tr><th scope=row>pred_agg_rf_fb2</th><td>0.8528503</td></tr>\n",
       "\t<tr><th scope=row>pred_seg2_rf_ALL_fb2</th><td>0.8529607</td></tr>\n",
       "\t<tr><th scope=row>pred_seg_rf_ALL_fb2</th><td>0.8533796</td></tr>\n",
       "\t<tr><th scope=row>pred_agg_rf</th><td>0.8554870</td></tr>\n",
       "\t<tr><th scope=row>pred_seg2_rf_ALL</th><td>0.8574516</td></tr>\n",
       "\t<tr><th scope=row>pred_agg_rf_ALL</th><td>0.8579293</td></tr>\n",
       "\t<tr><th scope=row>pred_seg_rf_ALL</th><td>0.8586518</td></tr>\n",
       "</tbody>\n",
       "</table>\n"
      ],
      "text/latex": [
       "A data.frame: 16 × 1\n",
       "\\begin{tabular}{r|l}\n",
       "  & df{[}order(df{[}, 1{]}), {]}\\\\\n",
       "  & <dbl>\\\\\n",
       "\\hline\n",
       "\tpred\\_agg\\_glm & 0.7822524\\\\\n",
       "\tpred\\_agg\\_glm\\_ALL\\_fb2 & 0.8143224\\\\\n",
       "\tpred\\_agg\\_glm\\_fb2 & 0.8144172\\\\\n",
       "\tpred\\_agg\\_glm\\_ALL & 0.8178628\\\\\n",
       "\tpred\\_seg\\_glm\\_ALL\\_fb2 & 0.8194206\\\\\n",
       "\tpred\\_seg\\_glm\\_ALL & 0.8230858\\\\\n",
       "\tpred\\_seg2\\_glm\\_ALL & 0.8322152\\\\\n",
       "\tpred\\_seg2\\_glm\\_ALL\\_fb2 & 0.8327589\\\\\n",
       "\tpred\\_agg\\_rf\\_ALL\\_fb2 & 0.8527195\\\\\n",
       "\tpred\\_agg\\_rf\\_fb2 & 0.8528503\\\\\n",
       "\tpred\\_seg2\\_rf\\_ALL\\_fb2 & 0.8529607\\\\\n",
       "\tpred\\_seg\\_rf\\_ALL\\_fb2 & 0.8533796\\\\\n",
       "\tpred\\_agg\\_rf & 0.8554870\\\\\n",
       "\tpred\\_seg2\\_rf\\_ALL & 0.8574516\\\\\n",
       "\tpred\\_agg\\_rf\\_ALL & 0.8579293\\\\\n",
       "\tpred\\_seg\\_rf\\_ALL & 0.8586518\\\\\n",
       "\\end{tabular}\n"
      ],
      "text/markdown": [
       "\n",
       "A data.frame: 16 × 1\n",
       "\n",
       "| <!--/--> | df[order(df[, 1]), ] &lt;dbl&gt; |\n",
       "|---|---|\n",
       "| pred_agg_glm | 0.7822524 |\n",
       "| pred_agg_glm_ALL_fb2 | 0.8143224 |\n",
       "| pred_agg_glm_fb2 | 0.8144172 |\n",
       "| pred_agg_glm_ALL | 0.8178628 |\n",
       "| pred_seg_glm_ALL_fb2 | 0.8194206 |\n",
       "| pred_seg_glm_ALL | 0.8230858 |\n",
       "| pred_seg2_glm_ALL | 0.8322152 |\n",
       "| pred_seg2_glm_ALL_fb2 | 0.8327589 |\n",
       "| pred_agg_rf_ALL_fb2 | 0.8527195 |\n",
       "| pred_agg_rf_fb2 | 0.8528503 |\n",
       "| pred_seg2_rf_ALL_fb2 | 0.8529607 |\n",
       "| pred_seg_rf_ALL_fb2 | 0.8533796 |\n",
       "| pred_agg_rf | 0.8554870 |\n",
       "| pred_seg2_rf_ALL | 0.8574516 |\n",
       "| pred_agg_rf_ALL | 0.8579293 |\n",
       "| pred_seg_rf_ALL | 0.8586518 |\n",
       "\n"
      ],
      "text/plain": [
       "                      df[order(df[, 1]), ]\n",
       "pred_agg_glm          0.7822524           \n",
       "pred_agg_glm_ALL_fb2  0.8143224           \n",
       "pred_agg_glm_fb2      0.8144172           \n",
       "pred_agg_glm_ALL      0.8178628           \n",
       "pred_seg_glm_ALL_fb2  0.8194206           \n",
       "pred_seg_glm_ALL      0.8230858           \n",
       "pred_seg2_glm_ALL     0.8322152           \n",
       "pred_seg2_glm_ALL_fb2 0.8327589           \n",
       "pred_agg_rf_ALL_fb2   0.8527195           \n",
       "pred_agg_rf_fb2       0.8528503           \n",
       "pred_seg2_rf_ALL_fb2  0.8529607           \n",
       "pred_seg_rf_ALL_fb2   0.8533796           \n",
       "pred_agg_rf           0.8554870           \n",
       "pred_seg2_rf_ALL      0.8574516           \n",
       "pred_agg_rf_ALL       0.8579293           \n",
       "pred_seg_rf_ALL       0.8586518           "
      ]
     },
     "metadata": {},
     "output_type": "display_data"
    }
   ],
   "source": [
    "df <- as.data.frame(as.data.frame(auc_list)) %>% t()\n",
    "as.data.frame(df[order(df[,1]),])"
   ]
  },
  {
   "cell_type": "code",
   "execution_count": 26,
   "metadata": {},
   "outputs": [
    {
     "data": {
      "text/html": [
       "0.857929288080265"
      ],
      "text/latex": [
       "0.857929288080265"
      ],
      "text/markdown": [
       "0.857929288080265"
      ],
      "text/plain": [
       "[1] 0.8579293"
      ]
     },
     "metadata": {},
     "output_type": "display_data"
    },
    {
     "data": {
      "text/html": [
       "0.832758868993327"
      ],
      "text/latex": [
       "0.832758868993327"
      ],
      "text/markdown": [
       "0.832758868993327"
      ],
      "text/plain": [
       "[1] 0.8327589"
      ]
     },
     "metadata": {},
     "output_type": "display_data"
    },
    {
     "data": {
      "text/html": [
       "0.0302253389596017"
      ],
      "text/latex": [
       "0.0302253389596017"
      ],
      "text/markdown": [
       "0.0302253389596017"
      ],
      "text/plain": [
       "[1] 0.03022534"
      ]
     },
     "metadata": {},
     "output_type": "display_data"
    }
   ],
   "source": [
    "# improvement in performance of agg_rf over seg2_glm - auc\n",
    "auc_list$pred_agg_rf_ALL\n",
    "auc_list$pred_seg2_glm_ALL_fb2\n",
    "(auc_list$pred_agg_rf_ALL-auc_list$pred_seg2_glm_ALL_fb2)/(auc_list$pred_seg2_glm_ALL_fb2)"
   ]
  },
  {
   "cell_type": "code",
   "execution_count": 27,
   "metadata": {},
   "outputs": [
    {
     "data": {
      "text/html": [
       "<table>\n",
       "<caption>A data.frame: 11 × 4</caption>\n",
       "<thead>\n",
       "\t<tr><th></th><th scope=col>agg_rf_0.089</th><th scope=col>seg2_glm_fb_0.089</th><th scope=col>agg_rf_0.500</th><th scope=col>seg2_glm_fb_0.500</th></tr>\n",
       "\t<tr><th></th><th scope=col>&lt;dbl&gt;</th><th scope=col>&lt;dbl&gt;</th><th scope=col>&lt;dbl&gt;</th><th scope=col>&lt;dbl&gt;</th></tr>\n",
       "</thead>\n",
       "<tbody>\n",
       "\t<tr><th scope=row>Sensitivity</th><td>0.86437281</td><td>0.80430608</td><td>0.25372042</td><td>0.18124430</td></tr>\n",
       "\t<tr><th scope=row>Specificity</th><td>0.76965877</td><td>0.77602845</td><td>0.98544562</td><td>0.98798619</td></tr>\n",
       "\t<tr><th scope=row>Pos Pred Value</th><td>0.26915631</td><td>0.26059298</td><td>0.63111231</td><td>0.59686981</td></tr>\n",
       "\t<tr><th scope=row>Neg Pred Value</th><td>0.98299985</td><td>0.97584912</td><td>0.93081930</td><td>0.92478653</td></tr>\n",
       "\t<tr><th scope=row>Precision</th><td>0.26915631</td><td>0.26059298</td><td>0.63111231</td><td>0.59686981</td></tr>\n",
       "\t<tr><th scope=row>Recall</th><td>0.86437281</td><td>0.80430608</td><td>0.25372042</td><td>0.18124430</td></tr>\n",
       "\t<tr><th scope=row>F1</th><td>0.41049038</td><td>0.39364580</td><td>0.36193525</td><td>0.27805498</td></tr>\n",
       "\t<tr><th scope=row>Prevalence</th><td>0.08937016</td><td>0.08937016</td><td>0.08937016</td><td>0.08937016</td></tr>\n",
       "\t<tr><th scope=row>Detection Rate</th><td>0.07724914</td><td>0.07188096</td><td>0.02267503</td><td>0.01619783</td></tr>\n",
       "\t<tr><th scope=row>Detection Prevalence</th><td>0.28700473</td><td>0.27583614</td><td>0.03592868</td><td>0.02713796</td></tr>\n",
       "\t<tr><th scope=row>Balanced Accuracy</th><td>0.81701579</td><td>0.79016726</td><td>0.61958302</td><td>0.58461525</td></tr>\n",
       "</tbody>\n",
       "</table>\n"
      ],
      "text/latex": [
       "A data.frame: 11 × 4\n",
       "\\begin{tabular}{r|llll}\n",
       "  & agg\\_rf\\_0.089 & seg2\\_glm\\_fb\\_0.089 & agg\\_rf\\_0.500 & seg2\\_glm\\_fb\\_0.500\\\\\n",
       "  & <dbl> & <dbl> & <dbl> & <dbl>\\\\\n",
       "\\hline\n",
       "\tSensitivity & 0.86437281 & 0.80430608 & 0.25372042 & 0.18124430\\\\\n",
       "\tSpecificity & 0.76965877 & 0.77602845 & 0.98544562 & 0.98798619\\\\\n",
       "\tPos Pred Value & 0.26915631 & 0.26059298 & 0.63111231 & 0.59686981\\\\\n",
       "\tNeg Pred Value & 0.98299985 & 0.97584912 & 0.93081930 & 0.92478653\\\\\n",
       "\tPrecision & 0.26915631 & 0.26059298 & 0.63111231 & 0.59686981\\\\\n",
       "\tRecall & 0.86437281 & 0.80430608 & 0.25372042 & 0.18124430\\\\\n",
       "\tF1 & 0.41049038 & 0.39364580 & 0.36193525 & 0.27805498\\\\\n",
       "\tPrevalence & 0.08937016 & 0.08937016 & 0.08937016 & 0.08937016\\\\\n",
       "\tDetection Rate & 0.07724914 & 0.07188096 & 0.02267503 & 0.01619783\\\\\n",
       "\tDetection Prevalence & 0.28700473 & 0.27583614 & 0.03592868 & 0.02713796\\\\\n",
       "\tBalanced Accuracy & 0.81701579 & 0.79016726 & 0.61958302 & 0.58461525\\\\\n",
       "\\end{tabular}\n"
      ],
      "text/markdown": [
       "\n",
       "A data.frame: 11 × 4\n",
       "\n",
       "| <!--/--> | agg_rf_0.089 &lt;dbl&gt; | seg2_glm_fb_0.089 &lt;dbl&gt; | agg_rf_0.500 &lt;dbl&gt; | seg2_glm_fb_0.500 &lt;dbl&gt; |\n",
       "|---|---|---|---|---|\n",
       "| Sensitivity | 0.86437281 | 0.80430608 | 0.25372042 | 0.18124430 |\n",
       "| Specificity | 0.76965877 | 0.77602845 | 0.98544562 | 0.98798619 |\n",
       "| Pos Pred Value | 0.26915631 | 0.26059298 | 0.63111231 | 0.59686981 |\n",
       "| Neg Pred Value | 0.98299985 | 0.97584912 | 0.93081930 | 0.92478653 |\n",
       "| Precision | 0.26915631 | 0.26059298 | 0.63111231 | 0.59686981 |\n",
       "| Recall | 0.86437281 | 0.80430608 | 0.25372042 | 0.18124430 |\n",
       "| F1 | 0.41049038 | 0.39364580 | 0.36193525 | 0.27805498 |\n",
       "| Prevalence | 0.08937016 | 0.08937016 | 0.08937016 | 0.08937016 |\n",
       "| Detection Rate | 0.07724914 | 0.07188096 | 0.02267503 | 0.01619783 |\n",
       "| Detection Prevalence | 0.28700473 | 0.27583614 | 0.03592868 | 0.02713796 |\n",
       "| Balanced Accuracy | 0.81701579 | 0.79016726 | 0.61958302 | 0.58461525 |\n",
       "\n"
      ],
      "text/plain": [
       "                     agg_rf_0.089 seg2_glm_fb_0.089 agg_rf_0.500\n",
       "Sensitivity          0.86437281   0.80430608        0.25372042  \n",
       "Specificity          0.76965877   0.77602845        0.98544562  \n",
       "Pos Pred Value       0.26915631   0.26059298        0.63111231  \n",
       "Neg Pred Value       0.98299985   0.97584912        0.93081930  \n",
       "Precision            0.26915631   0.26059298        0.63111231  \n",
       "Recall               0.86437281   0.80430608        0.25372042  \n",
       "F1                   0.41049038   0.39364580        0.36193525  \n",
       "Prevalence           0.08937016   0.08937016        0.08937016  \n",
       "Detection Rate       0.07724914   0.07188096        0.02267503  \n",
       "Detection Prevalence 0.28700473   0.27583614        0.03592868  \n",
       "Balanced Accuracy    0.81701579   0.79016726        0.61958302  \n",
       "                     seg2_glm_fb_0.500\n",
       "Sensitivity          0.18124430       \n",
       "Specificity          0.98798619       \n",
       "Pos Pred Value       0.59686981       \n",
       "Neg Pred Value       0.92478653       \n",
       "Precision            0.59686981       \n",
       "Recall               0.18124430       \n",
       "F1                   0.27805498       \n",
       "Prevalence           0.08937016       \n",
       "Detection Rate       0.01619783       \n",
       "Detection Prevalence 0.02713796       \n",
       "Balanced Accuracy    0.58461525       "
      ]
     },
     "metadata": {},
     "output_type": "display_data"
    }
   ],
   "source": [
    "# agg_rf vs. seg2_glm Sensitivity & Specificity at cutoff of .5 and =proppos\n",
    "compare_df = as.data.frame(list('agg_rf_0.089'=confusionMatrix(as.factor(ifelse(preds_df$pred_agg_rf_ALL > 0.08937016, \"Renewed\", \"Not Renewd\")), \n",
    "                preds_df$renewal_status, positive=\"Renewed\")$byClass,\n",
    "                  'seg2_glm_fb_0.089'=confusionMatrix(as.factor(ifelse(preds_df$pred_seg2_glm_ALL_fb2 > 0.08937016, \"Renewed\", \"Not Renewd\")), \n",
    "                preds_df$renewal_status, positive=\"Renewed\")$byClass,\n",
    "              'agg_rf_0.500'=confusionMatrix(as.factor(ifelse(preds_df$pred_agg_rf_ALL > 0.5, \"Renewed\", \"Not Renewd\")), \n",
    "                preds_df$renewal_status, positive=\"Renewed\")$byClass,\n",
    "                  'seg2_glm_fb_0.500'=confusionMatrix(as.factor(ifelse(preds_df$pred_seg2_glm_ALL_fb2 > 0.5, \"Renewed\", \"Not Renewd\")), \n",
    "                preds_df$renewal_status, positive=\"Renewed\")$byClass))\n",
    "compare_df"
   ]
  },
  {
   "cell_type": "code",
   "execution_count": 28,
   "metadata": {},
   "outputs": [
    {
     "data": {
      "text/html": [
       "0.0746814288698559"
      ],
      "text/latex": [
       "0.0746814288698559"
      ],
      "text/markdown": [
       "0.0746814288698559"
      ],
      "text/plain": [
       "[1] 0.07468143"
      ]
     },
     "metadata": {},
     "output_type": "display_data"
    },
    {
     "data": {
      "text/html": [
       "<table>\n",
       "<caption>A data.frame: 1 × 4</caption>\n",
       "<thead>\n",
       "\t<tr><th></th><th scope=col>agg_rf_0.089</th><th scope=col>seg2_glm_fb_0.089</th><th scope=col>agg_rf_0.500</th><th scope=col>seg2_glm_fb_0.500</th></tr>\n",
       "\t<tr><th></th><th scope=col>&lt;dbl&gt;</th><th scope=col>&lt;dbl&gt;</th><th scope=col>&lt;dbl&gt;</th><th scope=col>&lt;dbl&gt;</th></tr>\n",
       "</thead>\n",
       "<tbody>\n",
       "\t<tr><th scope=row>Accuracy</th><td>0.7781234</td><td>0.7785556</td><td>0.9200512</td><td>0.9158875</td></tr>\n",
       "</tbody>\n",
       "</table>\n"
      ],
      "text/latex": [
       "A data.frame: 1 × 4\n",
       "\\begin{tabular}{r|llll}\n",
       "  & agg\\_rf\\_0.089 & seg2\\_glm\\_fb\\_0.089 & agg\\_rf\\_0.500 & seg2\\_glm\\_fb\\_0.500\\\\\n",
       "  & <dbl> & <dbl> & <dbl> & <dbl>\\\\\n",
       "\\hline\n",
       "\tAccuracy & 0.7781234 & 0.7785556 & 0.9200512 & 0.9158875\\\\\n",
       "\\end{tabular}\n"
      ],
      "text/markdown": [
       "\n",
       "A data.frame: 1 × 4\n",
       "\n",
       "| <!--/--> | agg_rf_0.089 &lt;dbl&gt; | seg2_glm_fb_0.089 &lt;dbl&gt; | agg_rf_0.500 &lt;dbl&gt; | seg2_glm_fb_0.500 &lt;dbl&gt; |\n",
       "|---|---|---|---|---|\n",
       "| Accuracy | 0.7781234 | 0.7785556 | 0.9200512 | 0.9158875 |\n",
       "\n"
      ],
      "text/plain": [
       "         agg_rf_0.089 seg2_glm_fb_0.089 agg_rf_0.500 seg2_glm_fb_0.500\n",
       "Accuracy 0.7781234    0.7785556         0.9200512    0.9158875        "
      ]
     },
     "metadata": {},
     "output_type": "display_data"
    }
   ],
   "source": [
    "# improvement in accuracy for agg_rf vs. seg2_glm (NOT REPORTED -- not appropriate for imbal data)\n",
    "(compare_df['Sensitivity','agg_rf_0.089']-compare_df['Sensitivity','seg2_glm_fb_0.089'])/compare_df['Sensitivity','seg2_glm_fb_0.089']\n",
    "compare_df = as.data.frame(list(\n",
    "    'agg_rf_0.089'=confusionMatrix(as.factor(ifelse(preds_df$pred_agg_rf_ALL > 0.08937016, \"Renewed\", \"Not Renewd\")), \n",
    "                preds_df$renewal_status, positive=\"Renewed\")$overall['Accuracy'],\n",
    "                  'seg2_glm_fb_0.089'=confusionMatrix(as.factor(ifelse(preds_df$pred_seg2_glm_ALL_fb2 > 0.08937016, \"Renewed\", \"Not Renewd\")), \n",
    "                preds_df$renewal_status, positive=\"Renewed\")$overall['Accuracy'],\n",
    "              'agg_rf_0.500'=confusionMatrix(as.factor(ifelse(preds_df$pred_agg_rf_ALL > 0.5, \"Renewed\", \"Not Renewd\")), \n",
    "                preds_df$renewal_status, positive=\"Renewed\")$overall['Accuracy'],\n",
    "                  'seg2_glm_fb_0.500'=confusionMatrix(as.factor(ifelse(preds_df$pred_seg2_glm_ALL_fb2 > 0.5, \"Renewed\", \"Not Renewd\")), \n",
    "                preds_df$renewal_status, positive=\"Renewed\")$overall['Accuracy']))\n",
    "compare_df"
   ]
  },
  {
   "cell_type": "markdown",
   "metadata": {},
   "source": [
    "# Performance comparison by reseller prioritization"
   ]
  },
  {
   "cell_type": "code",
   "execution_count": 29,
   "metadata": {},
   "outputs": [],
   "source": [
    "system(\"gsutil cp gs://data_input/PredictiveModelAnalysis_ResellerPriorityList.csv /home/jupyter/Domains_202003/data/data_input/PredictiveModelAnalysis_ResellerPriorityList.csv\")"
   ]
  },
  {
   "cell_type": "code",
   "execution_count": 30,
   "metadata": {},
   "outputs": [
    {
     "data": {
      "text/html": [
       "<table>\n",
       "<caption>A data.frame: 6 × 4</caption>\n",
       "<thead>\n",
       "\t<tr><th></th><th scope=col>market</th><th scope=col>reseller</th><th scope=col>npv2020</th><th scope=col>priority</th></tr>\n",
       "\t<tr><th></th><th scope=col>&lt;fct&gt;</th><th scope=col>&lt;chr&gt;</th><th scope=col>&lt;int&gt;</th><th scope=col>&lt;int&gt;</th></tr>\n",
       "</thead>\n",
       "<tbody>\n",
       "\t<tr><th scope=row>1</th><td>North America</td><td>go daddy              </td><td>4464876</td><td>1</td></tr>\n",
       "\t<tr><th scope=row>2</th><td>North America</td><td>namecheap             </td><td>1446577</td><td>1</td></tr>\n",
       "\t<tr><th scope=row>3</th><td>North America</td><td>wix                   </td><td> 700969</td><td>1</td></tr>\n",
       "\t<tr><th scope=row>4</th><td>North America</td><td>google                </td><td> 544529</td><td>1</td></tr>\n",
       "\t<tr><th scope=row>5</th><td>North America</td><td>network solutions     </td><td> 506413</td><td>1</td></tr>\n",
       "\t<tr><th scope=row>6</th><td>North America</td><td>domain.com - registrar</td><td> 472428</td><td>1</td></tr>\n",
       "</tbody>\n",
       "</table>\n"
      ],
      "text/latex": [
       "A data.frame: 6 × 4\n",
       "\\begin{tabular}{r|llll}\n",
       "  & market & reseller & npv2020 & priority\\\\\n",
       "  & <fct> & <chr> & <int> & <int>\\\\\n",
       "\\hline\n",
       "\t1 & North America & go daddy               & 4464876 & 1\\\\\n",
       "\t2 & North America & namecheap              & 1446577 & 1\\\\\n",
       "\t3 & North America & wix                    &  700969 & 1\\\\\n",
       "\t4 & North America & google                 &  544529 & 1\\\\\n",
       "\t5 & North America & network solutions      &  506413 & 1\\\\\n",
       "\t6 & North America & domain.com - registrar &  472428 & 1\\\\\n",
       "\\end{tabular}\n"
      ],
      "text/markdown": [
       "\n",
       "A data.frame: 6 × 4\n",
       "\n",
       "| <!--/--> | market &lt;fct&gt; | reseller &lt;chr&gt; | npv2020 &lt;int&gt; | priority &lt;int&gt; |\n",
       "|---|---|---|---|---|\n",
       "| 1 | North America | go daddy               | 4464876 | 1 |\n",
       "| 2 | North America | namecheap              | 1446577 | 1 |\n",
       "| 3 | North America | wix                    |  700969 | 1 |\n",
       "| 4 | North America | google                 |  544529 | 1 |\n",
       "| 5 | North America | network solutions      |  506413 | 1 |\n",
       "| 6 | North America | domain.com - registrar |  472428 | 1 |\n",
       "\n"
      ],
      "text/plain": [
       "  market        reseller               npv2020 priority\n",
       "1 North America go daddy               4464876 1       \n",
       "2 North America namecheap              1446577 1       \n",
       "3 North America wix                     700969 1       \n",
       "4 North America google                  544529 1       \n",
       "5 North America network solutions       506413 1       \n",
       "6 North America domain.com - registrar  472428 1       "
      ]
     },
     "metadata": {},
     "output_type": "display_data"
    },
    {
     "data": {
      "text/html": [
       "<table>\n",
       "<caption>A data.frame: 6 × 4</caption>\n",
       "<thead>\n",
       "\t<tr><th></th><th scope=col>market</th><th scope=col>reseller</th><th scope=col>npv2020</th><th scope=col>priority</th></tr>\n",
       "\t<tr><th></th><th scope=col>&lt;fct&gt;</th><th scope=col>&lt;chr&gt;</th><th scope=col>&lt;int&gt;</th><th scope=col>&lt;int&gt;</th></tr>\n",
       "</thead>\n",
       "<tbody>\n",
       "\t<tr><th scope=row>346</th><td>       </td><td>ardetamedia                                          </td><td>  31</td><td>4</td></tr>\n",
       "\t<tr><th scope=row>347</th><td>       </td><td>indyadot                                             </td><td>  27</td><td>4</td></tr>\n",
       "\t<tr><th scope=row>348</th><td>       </td><td>hetzner                                              </td><td>  20</td><td>4</td></tr>\n",
       "\t<tr><th scope=row>349</th><td>       </td><td>internet works online international (hk) co., limited</td><td>   0</td><td>4</td></tr>\n",
       "\t<tr><th scope=row>350</th><td>Oceania</td><td>iwantmyname                                          </td><td>5399</td><td>4</td></tr>\n",
       "\t<tr><th scope=row>351</th><td>Oceania</td><td>1stdomains                                           </td><td> 609</td><td>4</td></tr>\n",
       "</tbody>\n",
       "</table>\n"
      ],
      "text/latex": [
       "A data.frame: 6 × 4\n",
       "\\begin{tabular}{r|llll}\n",
       "  & market & reseller & npv2020 & priority\\\\\n",
       "  & <fct> & <chr> & <int> & <int>\\\\\n",
       "\\hline\n",
       "\t346 &         & ardetamedia                                           &   31 & 4\\\\\n",
       "\t347 &         & indyadot                                              &   27 & 4\\\\\n",
       "\t348 &         & hetzner                                               &   20 & 4\\\\\n",
       "\t349 &         & internet works online international (hk) co., limited &    0 & 4\\\\\n",
       "\t350 & Oceania & iwantmyname                                           & 5399 & 4\\\\\n",
       "\t351 & Oceania & 1stdomains                                            &  609 & 4\\\\\n",
       "\\end{tabular}\n"
      ],
      "text/markdown": [
       "\n",
       "A data.frame: 6 × 4\n",
       "\n",
       "| <!--/--> | market &lt;fct&gt; | reseller &lt;chr&gt; | npv2020 &lt;int&gt; | priority &lt;int&gt; |\n",
       "|---|---|---|---|---|\n",
       "| 346 | <!----> | ardetamedia                                           |   31 | 4 |\n",
       "| 347 | <!----> | indyadot                                              |   27 | 4 |\n",
       "| 348 | <!----> | hetzner                                               |   20 | 4 |\n",
       "| 349 | <!----> | internet works online international (hk) co., limited |    0 | 4 |\n",
       "| 350 | Oceania | iwantmyname                                           | 5399 | 4 |\n",
       "| 351 | Oceania | 1stdomains                                            |  609 | 4 |\n",
       "\n"
      ],
      "text/plain": [
       "    market  reseller                                              npv2020\n",
       "346         ardetamedia                                             31   \n",
       "347         indyadot                                                27   \n",
       "348         hetzner                                                 20   \n",
       "349         internet works online international (hk) co., limited    0   \n",
       "350 Oceania iwantmyname                                           5399   \n",
       "351 Oceania 1stdomains                                             609   \n",
       "    priority\n",
       "346 4       \n",
       "347 4       \n",
       "348 4       \n",
       "349 4       \n",
       "350 4       \n",
       "351 4       "
      ]
     },
     "metadata": {},
     "output_type": "display_data"
    }
   ],
   "source": [
    "priorityLookup_df <- read.csv(\"/home/jupyter/Domains_202003/data/data_input/PredictiveModelAnalysis_ResellerPriorityList.csv\")\n",
    "names(priorityLookup_df) <- c(\"market\",\"reseller\",\"npv2020\",\"priority\")\n",
    "priorityLookup_df$reseller <- tolower(priorityLookup_df$reseller)\n",
    "head(priorityLookup_df)\n",
    "tail(priorityLookup_df)"
   ]
  },
  {
   "cell_type": "code",
   "execution_count": 31,
   "metadata": {},
   "outputs": [
    {
     "data": {
      "text/html": [
       "<style>\n",
       ".list-inline {list-style: none; margin:0; padding: 0}\n",
       ".list-inline>li {display: inline-block}\n",
       ".list-inline>li:not(:last-child)::after {content: \"\\00b7\"; padding: 0 .5ex}\n",
       "</style>\n",
       "<ol class=list-inline><li>932347</li><li>59</li></ol>\n"
      ],
      "text/latex": [
       "\\begin{enumerate*}\n",
       "\\item 932347\n",
       "\\item 59\n",
       "\\end{enumerate*}\n"
      ],
      "text/markdown": [
       "1. 932347\n",
       "2. 59\n",
       "\n",
       "\n"
      ],
      "text/plain": [
       "[1] 932347     59"
      ]
     },
     "metadata": {},
     "output_type": "display_data"
    },
    {
     "data": {
      "text/html": [
       "<style>\n",
       ".list-inline {list-style: none; margin:0; padding: 0}\n",
       ".list-inline>li {display: inline-block}\n",
       ".list-inline>li:not(:last-child)::after {content: \"\\00b7\"; padding: 0 .5ex}\n",
       "</style>\n",
       "<ol class=list-inline><li>932347</li><li>62</li></ol>\n"
      ],
      "text/latex": [
       "\\begin{enumerate*}\n",
       "\\item 932347\n",
       "\\item 62\n",
       "\\end{enumerate*}\n"
      ],
      "text/markdown": [
       "1. 932347\n",
       "2. 62\n",
       "\n",
       "\n"
      ],
      "text/plain": [
       "[1] 932347     62"
      ]
     },
     "metadata": {},
     "output_type": "display_data"
    },
    {
     "data": {
      "text/html": [
       "<table>\n",
       "<caption>A data.frame: 6 × 62</caption>\n",
       "<thead>\n",
       "\t<tr><th></th><th scope=col>reseller</th><th scope=col>reseller_country</th><th scope=col>domain_id</th><th scope=col>renewal_type</th><th scope=col>renewed_count</th><th scope=col>expiry_date</th><th scope=col>creation_date</th><th scope=col>status</th><th scope=col>domain</th><th scope=col>registrar</th><th scope=col>registrant_country</th><th scope=col>reg_period</th><th scope=col>reg_revenue</th><th scope=col>reg_arpt</th><th scope=col>renew_mbg</th><th scope=col>renewal_item_id</th><th scope=col>renew_type</th><th scope=col>autorenew_type</th><th scope=col>renewal_status</th><th scope=col>renew_date</th><th scope=col>renew_arpt</th><th scope=col>gibb_score</th><th scope=col>pattern</th><th scope=col>pattern_domain_count</th><th scope=col>day_domains</th><th scope=col>⋯</th><th scope=col>pred_seg_rf_ALL</th><th scope=col>pred_seg2_glm_ALL</th><th scope=col>pred_seg2_rf_ALL</th><th scope=col>reseller_geo</th><th scope=col>pred_agg_glm_ALL_fb</th><th scope=col>pred_agg_rf_ALL_fb</th><th scope=col>pred_agg_glm_fb</th><th scope=col>pred_agg_rf_fb</th><th scope=col>pred_seg_glm_ALL_fb</th><th scope=col>pred_seg_rf_ALL_fb</th><th scope=col>pred_seg2_glm_ALL_fb</th><th scope=col>pred_seg2_rf_ALL_fb</th><th scope=col>reg_arpt_org</th><th scope=col>reg_arpt_slab</th><th scope=col>pred_seg2_rf_ALL_fb2</th><th scope=col>pred_seg2_glm_ALL_fb2</th><th scope=col>pred_seg_rf_ALL_fb2</th><th scope=col>pred_seg_glm_ALL_fb2</th><th scope=col>pred_agg_rf_fb2</th><th scope=col>pred_agg_glm_fb2</th><th scope=col>pred_agg_rf_ALL_fb2</th><th scope=col>pred_agg_glm_ALL_fb2</th><th scope=col>market</th><th scope=col>npv2020</th><th scope=col>priority</th></tr>\n",
       "\t<tr><th></th><th scope=col>&lt;chr&gt;</th><th scope=col>&lt;fct&gt;</th><th scope=col>&lt;int&gt;</th><th scope=col>&lt;fct&gt;</th><th scope=col>&lt;int&gt;</th><th scope=col>&lt;fct&gt;</th><th scope=col>&lt;fct&gt;</th><th scope=col>&lt;fct&gt;</th><th scope=col>&lt;fct&gt;</th><th scope=col>&lt;fct&gt;</th><th scope=col>&lt;fct&gt;</th><th scope=col>&lt;int&gt;</th><th scope=col>&lt;dbl&gt;</th><th scope=col>&lt;dbl&gt;</th><th scope=col>&lt;int&gt;</th><th scope=col>&lt;int&gt;</th><th scope=col>&lt;fct&gt;</th><th scope=col>&lt;fct&gt;</th><th scope=col>&lt;fct&gt;</th><th scope=col>&lt;fct&gt;</th><th scope=col>&lt;dbl&gt;</th><th scope=col>&lt;dbl&gt;</th><th scope=col>&lt;fct&gt;</th><th scope=col>&lt;int&gt;</th><th scope=col>&lt;int&gt;</th><th scope=col>⋯</th><th scope=col>&lt;dbl&gt;</th><th scope=col>&lt;dbl&gt;</th><th scope=col>&lt;dbl&gt;</th><th scope=col>&lt;fct&gt;</th><th scope=col>&lt;dbl&gt;</th><th scope=col>&lt;dbl&gt;</th><th scope=col>&lt;dbl&gt;</th><th scope=col>&lt;dbl&gt;</th><th scope=col>&lt;dbl&gt;</th><th scope=col>&lt;dbl&gt;</th><th scope=col>&lt;dbl&gt;</th><th scope=col>&lt;dbl&gt;</th><th scope=col>&lt;dbl&gt;</th><th scope=col>&lt;fct&gt;</th><th scope=col>&lt;dbl&gt;</th><th scope=col>&lt;dbl&gt;</th><th scope=col>&lt;dbl&gt;</th><th scope=col>&lt;dbl&gt;</th><th scope=col>&lt;dbl&gt;</th><th scope=col>&lt;dbl&gt;</th><th scope=col>&lt;dbl&gt;</th><th scope=col>&lt;dbl&gt;</th><th scope=col>&lt;fct&gt;</th><th scope=col>&lt;int&gt;</th><th scope=col>&lt;int&gt;</th></tr>\n",
       "</thead>\n",
       "<tbody>\n",
       "\t<tr><th scope=row>1</th><td>            </td><td>       </td><td>122049036</td><td>FirstTime</td><td>1</td><td>2020-08-30</td><td>2019-08-30</td><td>Active</td><td>qianxiyun.online        </td><td>            </td><td>NA</td><td>1</td><td>25</td><td>25</td><td>0</td><td>341703158</td><td>auto-renewal</td><td>unrealized</td><td>Not Renewd</td><td>2020-08-30</td><td> 6</td><td>0.63</td><td>qianxiyun         </td><td>1</td><td> 1</td><td>⋯</td><td>       NA</td><td>       NA</td><td>       NA</td><td>NA</td><td>   NA</td><td>0.9550391</td><td>   NA</td><td>0.7713468</td><td>   NA</td><td>       NA</td><td>       NA</td><td>       NA</td><td>25</td><td>(15,25]</td><td>0.5510000</td><td>0.5510000</td><td>0.5510000</td><td>0.551</td><td>0.7713468</td><td>0.551</td><td>0.9550391</td><td>0.551</td><td>NA    </td><td>    NA</td><td>NA</td></tr>\n",
       "\t<tr><th scope=row>2</th><td>1&amp;1 internet</td><td>Germany</td><td> 94895964</td><td>FirstTime</td><td>1</td><td>2020-02-27</td><td>2019-02-27</td><td>Active</td><td><span style=white-space:pre-wrap>giftlounge.online       </span></td><td>1&amp;1 Internet</td><td>NA</td><td>1</td><td> 5</td><td> 5</td><td>0</td><td>295597014</td><td>auto-renewal</td><td>unrealized</td><td>Not Renewd</td><td>2020-02-27</td><td>25</td><td>6.00</td><td><span style=white-space:pre-wrap>giftlounge        </span></td><td>1</td><td>46</td><td>⋯</td><td>0.5124886</td><td>0.5511992</td><td>0.5153714</td><td>EU</td><td>0.598</td><td>0.4498531</td><td>0.583</td><td>0.4699006</td><td>0.565</td><td>0.5124886</td><td>0.5511992</td><td>0.5153714</td><td> 5</td><td><span style=white-space:pre-wrap>(3,5]  </span></td><td>0.5153714</td><td>0.5511992</td><td>0.5124886</td><td>0.565</td><td>0.4699006</td><td>0.583</td><td>0.4498531</td><td>0.598</td><td>Europe</td><td>770943</td><td> 1</td></tr>\n",
       "\t<tr><th scope=row>3</th><td>1&amp;1 internet</td><td>Germany</td><td> 93479293</td><td>FirstTime</td><td>1</td><td>2020-02-12</td><td>2019-02-12</td><td>Active</td><td>alaslatinaseurobox.store</td><td>1&amp;1 Internet</td><td>NA</td><td>1</td><td>10</td><td>10</td><td>0</td><td>291186846</td><td>auto-renewal</td><td><span style=white-space:pre-wrap>realized  </span></td><td><span style=white-space:pre-wrap>Renewed   </span></td><td>2020-02-12</td><td>40</td><td>4.73</td><td>alaslatinaseurobox</td><td>1</td><td> 5</td><td>⋯</td><td>0.5272619</td><td>0.5652465</td><td>0.5471357</td><td>EU</td><td>0.605</td><td>0.5380297</td><td>0.598</td><td>0.5684423</td><td>0.547</td><td>0.5272619</td><td>0.5652465</td><td>0.5471357</td><td>10</td><td>(5,10] </td><td>0.5471357</td><td>0.5652465</td><td>0.5272619</td><td>0.547</td><td>0.5684423</td><td>0.598</td><td>0.5380297</td><td>0.605</td><td>Europe</td><td>770943</td><td> 1</td></tr>\n",
       "\t<tr><th scope=row>4</th><td>1&amp;1 internet</td><td>Germany</td><td> 94409039</td><td>FirstTime</td><td>1</td><td>2020-02-21</td><td>2019-02-21</td><td>Active</td><td><span style=white-space:pre-wrap>watergen.online         </span></td><td>1&amp;1 Internet</td><td>NA</td><td>1</td><td> 5</td><td> 5</td><td>0</td><td>293911644</td><td>auto-renewal</td><td><span style=white-space:pre-wrap>realized  </span></td><td><span style=white-space:pre-wrap>Renewed   </span></td><td>2020-02-21</td><td>25</td><td>9.41</td><td><span style=white-space:pre-wrap>watergenga        </span></td><td>4</td><td>45</td><td>⋯</td><td>0.4886691</td><td>0.5465831</td><td>0.4652918</td><td>EU</td><td>0.576</td><td>0.4567632</td><td>0.562</td><td>0.4632213</td><td>0.560</td><td>0.4886691</td><td>0.5465831</td><td>0.4652918</td><td> 5</td><td><span style=white-space:pre-wrap>(3,5]  </span></td><td>0.4652918</td><td>0.5465831</td><td>0.4886691</td><td>0.560</td><td>0.4632213</td><td>0.562</td><td>0.4567632</td><td>0.576</td><td>Europe</td><td>770943</td><td> 1</td></tr>\n",
       "\t<tr><th scope=row>5</th><td>1&amp;1 internet</td><td>Germany</td><td> 94606579</td><td>FirstTime</td><td>1</td><td>2020-02-23</td><td>2019-02-23</td><td>Active</td><td><span style=white-space:pre-wrap>tubazardecocina.online  </span></td><td>1&amp;1 Internet</td><td>NA</td><td>1</td><td> 1</td><td> 1</td><td>0</td><td>294365764</td><td>auto-renewal</td><td>unrealized</td><td>Not Renewd</td><td>2020-02-23</td><td>25</td><td>4.13</td><td><span style=white-space:pre-wrap>tubazardecocina   </span></td><td>1</td><td>29</td><td>⋯</td><td>0.5614596</td><td>0.5274412</td><td>0.5995027</td><td>EU</td><td>0.557</td><td>0.6554817</td><td>0.546</td><td>0.6670280</td><td>0.542</td><td>0.5614596</td><td>0.5274412</td><td>0.5995027</td><td> 1</td><td>(0.3,1]</td><td>0.5995027</td><td>0.5274412</td><td>0.5614596</td><td>0.542</td><td>0.6670280</td><td>0.546</td><td>0.6554817</td><td>0.557</td><td>Europe</td><td>770943</td><td> 1</td></tr>\n",
       "\t<tr><th scope=row>6</th><td>1&amp;1 internet</td><td>Germany</td><td> 93457668</td><td>FirstTime</td><td>1</td><td>2020-02-12</td><td>2019-02-12</td><td>Active</td><td><span style=white-space:pre-wrap>politic.tech            </span></td><td>1&amp;1 Internet</td><td>NA</td><td>1</td><td>35</td><td>35</td><td>0</td><td>278569241</td><td><span style=white-space:pre-wrap>transfer    </span></td><td><span style=white-space:pre-wrap>NA        </span></td><td><span style=white-space:pre-wrap>Renewed   </span></td><td>2020-01-12</td><td>35</td><td>8.53</td><td><span style=white-space:pre-wrap>politic           </span></td><td>1</td><td> 2</td><td>⋯</td><td>0.7984487</td><td>0.8094992</td><td>0.7917569</td><td>EU</td><td>0.768</td><td>0.8099875</td><td>0.761</td><td>0.8392476</td><td>0.587</td><td>0.7984487</td><td>0.8094992</td><td>0.7917569</td><td>35</td><td>(25,35]</td><td>0.7917569</td><td>0.8094992</td><td>0.7984487</td><td>0.587</td><td>0.8392476</td><td>0.761</td><td>0.8099875</td><td>0.768</td><td>Europe</td><td>770943</td><td> 1</td></tr>\n",
       "</tbody>\n",
       "</table>\n"
      ],
      "text/latex": [
       "A data.frame: 6 × 62\n",
       "\\begin{tabular}{r|lllllllllllllllllllllllllllllllllllllllllllllllllll}\n",
       "  & reseller & reseller\\_country & domain\\_id & renewal\\_type & renewed\\_count & expiry\\_date & creation\\_date & status & domain & registrar & registrant\\_country & reg\\_period & reg\\_revenue & reg\\_arpt & renew\\_mbg & renewal\\_item\\_id & renew\\_type & autorenew\\_type & renewal\\_status & renew\\_date & renew\\_arpt & gibb\\_score & pattern & pattern\\_domain\\_count & day\\_domains & ⋯ & pred\\_seg\\_rf\\_ALL & pred\\_seg2\\_glm\\_ALL & pred\\_seg2\\_rf\\_ALL & reseller\\_geo & pred\\_agg\\_glm\\_ALL\\_fb & pred\\_agg\\_rf\\_ALL\\_fb & pred\\_agg\\_glm\\_fb & pred\\_agg\\_rf\\_fb & pred\\_seg\\_glm\\_ALL\\_fb & pred\\_seg\\_rf\\_ALL\\_fb & pred\\_seg2\\_glm\\_ALL\\_fb & pred\\_seg2\\_rf\\_ALL\\_fb & reg\\_arpt\\_org & reg\\_arpt\\_slab & pred\\_seg2\\_rf\\_ALL\\_fb2 & pred\\_seg2\\_glm\\_ALL\\_fb2 & pred\\_seg\\_rf\\_ALL\\_fb2 & pred\\_seg\\_glm\\_ALL\\_fb2 & pred\\_agg\\_rf\\_fb2 & pred\\_agg\\_glm\\_fb2 & pred\\_agg\\_rf\\_ALL\\_fb2 & pred\\_agg\\_glm\\_ALL\\_fb2 & market & npv2020 & priority\\\\\n",
       "  & <chr> & <fct> & <int> & <fct> & <int> & <fct> & <fct> & <fct> & <fct> & <fct> & <fct> & <int> & <dbl> & <dbl> & <int> & <int> & <fct> & <fct> & <fct> & <fct> & <dbl> & <dbl> & <fct> & <int> & <int> & ⋯ & <dbl> & <dbl> & <dbl> & <fct> & <dbl> & <dbl> & <dbl> & <dbl> & <dbl> & <dbl> & <dbl> & <dbl> & <dbl> & <fct> & <dbl> & <dbl> & <dbl> & <dbl> & <dbl> & <dbl> & <dbl> & <dbl> & <fct> & <int> & <int>\\\\\n",
       "\\hline\n",
       "\t1 &              &         & 122049036 & FirstTime & 1 & 2020-08-30 & 2019-08-30 & Active & qianxiyun.online         &              & NA & 1 & 25 & 25 & 0 & 341703158 & auto-renewal & unrealized & Not Renewd & 2020-08-30 &  6 & 0.63 & qianxiyun          & 1 &  1 & ⋯ &        NA &        NA &        NA & NA &    NA & 0.9550391 &    NA & 0.7713468 &    NA &        NA &        NA &        NA & 25 & (15,25{]} & 0.5510000 & 0.5510000 & 0.5510000 & 0.551 & 0.7713468 & 0.551 & 0.9550391 & 0.551 & NA     &     NA & NA\\\\\n",
       "\t2 & 1\\&1 internet & Germany &  94895964 & FirstTime & 1 & 2020-02-27 & 2019-02-27 & Active & giftlounge.online        & 1\\&1 Internet & NA & 1 &  5 &  5 & 0 & 295597014 & auto-renewal & unrealized & Not Renewd & 2020-02-27 & 25 & 6.00 & giftlounge         & 1 & 46 & ⋯ & 0.5124886 & 0.5511992 & 0.5153714 & EU & 0.598 & 0.4498531 & 0.583 & 0.4699006 & 0.565 & 0.5124886 & 0.5511992 & 0.5153714 &  5 & (3,5{]}   & 0.5153714 & 0.5511992 & 0.5124886 & 0.565 & 0.4699006 & 0.583 & 0.4498531 & 0.598 & Europe & 770943 &  1\\\\\n",
       "\t3 & 1\\&1 internet & Germany &  93479293 & FirstTime & 1 & 2020-02-12 & 2019-02-12 & Active & alaslatinaseurobox.store & 1\\&1 Internet & NA & 1 & 10 & 10 & 0 & 291186846 & auto-renewal & realized   & Renewed    & 2020-02-12 & 40 & 4.73 & alaslatinaseurobox & 1 &  5 & ⋯ & 0.5272619 & 0.5652465 & 0.5471357 & EU & 0.605 & 0.5380297 & 0.598 & 0.5684423 & 0.547 & 0.5272619 & 0.5652465 & 0.5471357 & 10 & (5,10{]}  & 0.5471357 & 0.5652465 & 0.5272619 & 0.547 & 0.5684423 & 0.598 & 0.5380297 & 0.605 & Europe & 770943 &  1\\\\\n",
       "\t4 & 1\\&1 internet & Germany &  94409039 & FirstTime & 1 & 2020-02-21 & 2019-02-21 & Active & watergen.online          & 1\\&1 Internet & NA & 1 &  5 &  5 & 0 & 293911644 & auto-renewal & realized   & Renewed    & 2020-02-21 & 25 & 9.41 & watergenga         & 4 & 45 & ⋯ & 0.4886691 & 0.5465831 & 0.4652918 & EU & 0.576 & 0.4567632 & 0.562 & 0.4632213 & 0.560 & 0.4886691 & 0.5465831 & 0.4652918 &  5 & (3,5{]}   & 0.4652918 & 0.5465831 & 0.4886691 & 0.560 & 0.4632213 & 0.562 & 0.4567632 & 0.576 & Europe & 770943 &  1\\\\\n",
       "\t5 & 1\\&1 internet & Germany &  94606579 & FirstTime & 1 & 2020-02-23 & 2019-02-23 & Active & tubazardecocina.online   & 1\\&1 Internet & NA & 1 &  1 &  1 & 0 & 294365764 & auto-renewal & unrealized & Not Renewd & 2020-02-23 & 25 & 4.13 & tubazardecocina    & 1 & 29 & ⋯ & 0.5614596 & 0.5274412 & 0.5995027 & EU & 0.557 & 0.6554817 & 0.546 & 0.6670280 & 0.542 & 0.5614596 & 0.5274412 & 0.5995027 &  1 & (0.3,1{]} & 0.5995027 & 0.5274412 & 0.5614596 & 0.542 & 0.6670280 & 0.546 & 0.6554817 & 0.557 & Europe & 770943 &  1\\\\\n",
       "\t6 & 1\\&1 internet & Germany &  93457668 & FirstTime & 1 & 2020-02-12 & 2019-02-12 & Active & politic.tech             & 1\\&1 Internet & NA & 1 & 35 & 35 & 0 & 278569241 & transfer     & NA         & Renewed    & 2020-01-12 & 35 & 8.53 & politic            & 1 &  2 & ⋯ & 0.7984487 & 0.8094992 & 0.7917569 & EU & 0.768 & 0.8099875 & 0.761 & 0.8392476 & 0.587 & 0.7984487 & 0.8094992 & 0.7917569 & 35 & (25,35{]} & 0.7917569 & 0.8094992 & 0.7984487 & 0.587 & 0.8392476 & 0.761 & 0.8099875 & 0.768 & Europe & 770943 &  1\\\\\n",
       "\\end{tabular}\n"
      ],
      "text/markdown": [
       "\n",
       "A data.frame: 6 × 62\n",
       "\n",
       "| <!--/--> | reseller &lt;chr&gt; | reseller_country &lt;fct&gt; | domain_id &lt;int&gt; | renewal_type &lt;fct&gt; | renewed_count &lt;int&gt; | expiry_date &lt;fct&gt; | creation_date &lt;fct&gt; | status &lt;fct&gt; | domain &lt;fct&gt; | registrar &lt;fct&gt; | registrant_country &lt;fct&gt; | reg_period &lt;int&gt; | reg_revenue &lt;dbl&gt; | reg_arpt &lt;dbl&gt; | renew_mbg &lt;int&gt; | renewal_item_id &lt;int&gt; | renew_type &lt;fct&gt; | autorenew_type &lt;fct&gt; | renewal_status &lt;fct&gt; | renew_date &lt;fct&gt; | renew_arpt &lt;dbl&gt; | gibb_score &lt;dbl&gt; | pattern &lt;fct&gt; | pattern_domain_count &lt;int&gt; | day_domains &lt;int&gt; | ⋯ ⋯ | pred_seg_rf_ALL &lt;dbl&gt; | pred_seg2_glm_ALL &lt;dbl&gt; | pred_seg2_rf_ALL &lt;dbl&gt; | reseller_geo &lt;fct&gt; | pred_agg_glm_ALL_fb &lt;dbl&gt; | pred_agg_rf_ALL_fb &lt;dbl&gt; | pred_agg_glm_fb &lt;dbl&gt; | pred_agg_rf_fb &lt;dbl&gt; | pred_seg_glm_ALL_fb &lt;dbl&gt; | pred_seg_rf_ALL_fb &lt;dbl&gt; | pred_seg2_glm_ALL_fb &lt;dbl&gt; | pred_seg2_rf_ALL_fb &lt;dbl&gt; | reg_arpt_org &lt;dbl&gt; | reg_arpt_slab &lt;fct&gt; | pred_seg2_rf_ALL_fb2 &lt;dbl&gt; | pred_seg2_glm_ALL_fb2 &lt;dbl&gt; | pred_seg_rf_ALL_fb2 &lt;dbl&gt; | pred_seg_glm_ALL_fb2 &lt;dbl&gt; | pred_agg_rf_fb2 &lt;dbl&gt; | pred_agg_glm_fb2 &lt;dbl&gt; | pred_agg_rf_ALL_fb2 &lt;dbl&gt; | pred_agg_glm_ALL_fb2 &lt;dbl&gt; | market &lt;fct&gt; | npv2020 &lt;int&gt; | priority &lt;int&gt; |\n",
       "|---|---|---|---|---|---|---|---|---|---|---|---|---|---|---|---|---|---|---|---|---|---|---|---|---|---|---|---|---|---|---|---|---|---|---|---|---|---|---|---|---|---|---|---|---|---|---|---|---|---|---|---|\n",
       "| 1 | <!----> | <!----> | 122049036 | FirstTime | 1 | 2020-08-30 | 2019-08-30 | Active | qianxiyun.online         | <!----> | NA | 1 | 25 | 25 | 0 | 341703158 | auto-renewal | unrealized | Not Renewd | 2020-08-30 |  6 | 0.63 | qianxiyun          | 1 |  1 | ⋯ |        NA |        NA |        NA | NA |    NA | 0.9550391 |    NA | 0.7713468 |    NA |        NA |        NA |        NA | 25 | (15,25] | 0.5510000 | 0.5510000 | 0.5510000 | 0.551 | 0.7713468 | 0.551 | 0.9550391 | 0.551 | NA     |     NA | NA |\n",
       "| 2 | 1&amp;1 internet | Germany |  94895964 | FirstTime | 1 | 2020-02-27 | 2019-02-27 | Active | giftlounge.online        | 1&amp;1 Internet | NA | 1 |  5 |  5 | 0 | 295597014 | auto-renewal | unrealized | Not Renewd | 2020-02-27 | 25 | 6.00 | giftlounge         | 1 | 46 | ⋯ | 0.5124886 | 0.5511992 | 0.5153714 | EU | 0.598 | 0.4498531 | 0.583 | 0.4699006 | 0.565 | 0.5124886 | 0.5511992 | 0.5153714 |  5 | (3,5]   | 0.5153714 | 0.5511992 | 0.5124886 | 0.565 | 0.4699006 | 0.583 | 0.4498531 | 0.598 | Europe | 770943 |  1 |\n",
       "| 3 | 1&amp;1 internet | Germany |  93479293 | FirstTime | 1 | 2020-02-12 | 2019-02-12 | Active | alaslatinaseurobox.store | 1&amp;1 Internet | NA | 1 | 10 | 10 | 0 | 291186846 | auto-renewal | realized   | Renewed    | 2020-02-12 | 40 | 4.73 | alaslatinaseurobox | 1 |  5 | ⋯ | 0.5272619 | 0.5652465 | 0.5471357 | EU | 0.605 | 0.5380297 | 0.598 | 0.5684423 | 0.547 | 0.5272619 | 0.5652465 | 0.5471357 | 10 | (5,10]  | 0.5471357 | 0.5652465 | 0.5272619 | 0.547 | 0.5684423 | 0.598 | 0.5380297 | 0.605 | Europe | 770943 |  1 |\n",
       "| 4 | 1&amp;1 internet | Germany |  94409039 | FirstTime | 1 | 2020-02-21 | 2019-02-21 | Active | watergen.online          | 1&amp;1 Internet | NA | 1 |  5 |  5 | 0 | 293911644 | auto-renewal | realized   | Renewed    | 2020-02-21 | 25 | 9.41 | watergenga         | 4 | 45 | ⋯ | 0.4886691 | 0.5465831 | 0.4652918 | EU | 0.576 | 0.4567632 | 0.562 | 0.4632213 | 0.560 | 0.4886691 | 0.5465831 | 0.4652918 |  5 | (3,5]   | 0.4652918 | 0.5465831 | 0.4886691 | 0.560 | 0.4632213 | 0.562 | 0.4567632 | 0.576 | Europe | 770943 |  1 |\n",
       "| 5 | 1&amp;1 internet | Germany |  94606579 | FirstTime | 1 | 2020-02-23 | 2019-02-23 | Active | tubazardecocina.online   | 1&amp;1 Internet | NA | 1 |  1 |  1 | 0 | 294365764 | auto-renewal | unrealized | Not Renewd | 2020-02-23 | 25 | 4.13 | tubazardecocina    | 1 | 29 | ⋯ | 0.5614596 | 0.5274412 | 0.5995027 | EU | 0.557 | 0.6554817 | 0.546 | 0.6670280 | 0.542 | 0.5614596 | 0.5274412 | 0.5995027 |  1 | (0.3,1] | 0.5995027 | 0.5274412 | 0.5614596 | 0.542 | 0.6670280 | 0.546 | 0.6554817 | 0.557 | Europe | 770943 |  1 |\n",
       "| 6 | 1&amp;1 internet | Germany |  93457668 | FirstTime | 1 | 2020-02-12 | 2019-02-12 | Active | politic.tech             | 1&amp;1 Internet | NA | 1 | 35 | 35 | 0 | 278569241 | transfer     | NA         | Renewed    | 2020-01-12 | 35 | 8.53 | politic            | 1 |  2 | ⋯ | 0.7984487 | 0.8094992 | 0.7917569 | EU | 0.768 | 0.8099875 | 0.761 | 0.8392476 | 0.587 | 0.7984487 | 0.8094992 | 0.7917569 | 35 | (25,35] | 0.7917569 | 0.8094992 | 0.7984487 | 0.587 | 0.8392476 | 0.761 | 0.8099875 | 0.768 | Europe | 770943 |  1 |\n",
       "\n"
      ],
      "text/plain": [
       "  reseller     reseller_country domain_id renewal_type renewed_count\n",
       "1                               122049036 FirstTime    1            \n",
       "2 1&1 internet Germany           94895964 FirstTime    1            \n",
       "3 1&1 internet Germany           93479293 FirstTime    1            \n",
       "4 1&1 internet Germany           94409039 FirstTime    1            \n",
       "5 1&1 internet Germany           94606579 FirstTime    1            \n",
       "6 1&1 internet Germany           93457668 FirstTime    1            \n",
       "  expiry_date creation_date status domain                   registrar   \n",
       "1 2020-08-30  2019-08-30    Active qianxiyun.online                     \n",
       "2 2020-02-27  2019-02-27    Active giftlounge.online        1&1 Internet\n",
       "3 2020-02-12  2019-02-12    Active alaslatinaseurobox.store 1&1 Internet\n",
       "4 2020-02-21  2019-02-21    Active watergen.online          1&1 Internet\n",
       "5 2020-02-23  2019-02-23    Active tubazardecocina.online   1&1 Internet\n",
       "6 2020-02-12  2019-02-12    Active politic.tech             1&1 Internet\n",
       "  registrant_country reg_period reg_revenue reg_arpt renew_mbg renewal_item_id\n",
       "1 NA                 1          25          25       0         341703158      \n",
       "2 NA                 1           5           5       0         295597014      \n",
       "3 NA                 1          10          10       0         291186846      \n",
       "4 NA                 1           5           5       0         293911644      \n",
       "5 NA                 1           1           1       0         294365764      \n",
       "6 NA                 1          35          35       0         278569241      \n",
       "  renew_type   autorenew_type renewal_status renew_date renew_arpt gibb_score\n",
       "1 auto-renewal unrealized     Not Renewd     2020-08-30  6         0.63      \n",
       "2 auto-renewal unrealized     Not Renewd     2020-02-27 25         6.00      \n",
       "3 auto-renewal realized       Renewed        2020-02-12 40         4.73      \n",
       "4 auto-renewal realized       Renewed        2020-02-21 25         9.41      \n",
       "5 auto-renewal unrealized     Not Renewd     2020-02-23 25         4.13      \n",
       "6 transfer     NA             Renewed        2020-01-12 35         8.53      \n",
       "  pattern            pattern_domain_count day_domains ⋯ pred_seg_rf_ALL\n",
       "1 qianxiyun          1                     1          ⋯        NA      \n",
       "2 giftlounge         1                    46          ⋯ 0.5124886      \n",
       "3 alaslatinaseurobox 1                     5          ⋯ 0.5272619      \n",
       "4 watergenga         4                    45          ⋯ 0.4886691      \n",
       "5 tubazardecocina    1                    29          ⋯ 0.5614596      \n",
       "6 politic            1                     2          ⋯ 0.7984487      \n",
       "  pred_seg2_glm_ALL pred_seg2_rf_ALL reseller_geo pred_agg_glm_ALL_fb\n",
       "1        NA                NA        NA              NA              \n",
       "2 0.5511992         0.5153714        EU           0.598              \n",
       "3 0.5652465         0.5471357        EU           0.605              \n",
       "4 0.5465831         0.4652918        EU           0.576              \n",
       "5 0.5274412         0.5995027        EU           0.557              \n",
       "6 0.8094992         0.7917569        EU           0.768              \n",
       "  pred_agg_rf_ALL_fb pred_agg_glm_fb pred_agg_rf_fb pred_seg_glm_ALL_fb\n",
       "1 0.9550391             NA           0.7713468         NA              \n",
       "2 0.4498531          0.583           0.4699006      0.565              \n",
       "3 0.5380297          0.598           0.5684423      0.547              \n",
       "4 0.4567632          0.562           0.4632213      0.560              \n",
       "5 0.6554817          0.546           0.6670280      0.542              \n",
       "6 0.8099875          0.761           0.8392476      0.587              \n",
       "  pred_seg_rf_ALL_fb pred_seg2_glm_ALL_fb pred_seg2_rf_ALL_fb reg_arpt_org\n",
       "1        NA                 NA                   NA           25          \n",
       "2 0.5124886          0.5511992            0.5153714            5          \n",
       "3 0.5272619          0.5652465            0.5471357           10          \n",
       "4 0.4886691          0.5465831            0.4652918            5          \n",
       "5 0.5614596          0.5274412            0.5995027            1          \n",
       "6 0.7984487          0.8094992            0.7917569           35          \n",
       "  reg_arpt_slab pred_seg2_rf_ALL_fb2 pred_seg2_glm_ALL_fb2 pred_seg_rf_ALL_fb2\n",
       "1 (15,25]       0.5510000            0.5510000             0.5510000          \n",
       "2 (3,5]         0.5153714            0.5511992             0.5124886          \n",
       "3 (5,10]        0.5471357            0.5652465             0.5272619          \n",
       "4 (3,5]         0.4652918            0.5465831             0.4886691          \n",
       "5 (0.3,1]       0.5995027            0.5274412             0.5614596          \n",
       "6 (25,35]       0.7917569            0.8094992             0.7984487          \n",
       "  pred_seg_glm_ALL_fb2 pred_agg_rf_fb2 pred_agg_glm_fb2 pred_agg_rf_ALL_fb2\n",
       "1 0.551                0.7713468       0.551            0.9550391          \n",
       "2 0.565                0.4699006       0.583            0.4498531          \n",
       "3 0.547                0.5684423       0.598            0.5380297          \n",
       "4 0.560                0.4632213       0.562            0.4567632          \n",
       "5 0.542                0.6670280       0.546            0.6554817          \n",
       "6 0.587                0.8392476       0.761            0.8099875          \n",
       "  pred_agg_glm_ALL_fb2 market npv2020 priority\n",
       "1 0.551                NA         NA  NA      \n",
       "2 0.598                Europe 770943   1      \n",
       "3 0.605                Europe 770943   1      \n",
       "4 0.576                Europe 770943   1      \n",
       "5 0.557                Europe 770943   1      \n",
       "6 0.768                Europe 770943   1      "
      ]
     },
     "metadata": {},
     "output_type": "display_data"
    }
   ],
   "source": [
    "dim(preds_df)\n",
    "preds_df$reseller <- tolower(preds_df$reseller)\n",
    "preds_prio_df <- merge(preds_df, priorityLookup_df, by=\"reseller\", all.x=TRUE)\n",
    "dim(preds_prio_df)\n",
    "head(preds_prio_df)"
   ]
  },
  {
   "cell_type": "code",
   "execution_count": 32,
   "metadata": {},
   "outputs": [
    {
     "data": {
      "text/html": [
       "<table>\n",
       "<caption>A matrix: 4 × 1 of type int</caption>\n",
       "<tbody>\n",
       "\t<tr><th scope=row>market</th><td>4415</td></tr>\n",
       "\t<tr><th scope=row>reseller</th><td>   0</td></tr>\n",
       "\t<tr><th scope=row>npv2020</th><td>4415</td></tr>\n",
       "\t<tr><th scope=row>priority</th><td>4415</td></tr>\n",
       "</tbody>\n",
       "</table>\n"
      ],
      "text/latex": [
       "A matrix: 4 × 1 of type int\n",
       "\\begin{tabular}{r|l}\n",
       "\tmarket & 4415\\\\\n",
       "\treseller &    0\\\\\n",
       "\tnpv2020 & 4415\\\\\n",
       "\tpriority & 4415\\\\\n",
       "\\end{tabular}\n"
      ],
      "text/markdown": [
       "\n",
       "A matrix: 4 × 1 of type int\n",
       "\n",
       "| market | 4415 |\n",
       "| reseller |    0 |\n",
       "| npv2020 | 4415 |\n",
       "| priority | 4415 |\n",
       "\n"
      ],
      "text/plain": [
       "         [,1]\n",
       "market   4415\n",
       "reseller    0\n",
       "npv2020  4415\n",
       "priority 4415"
      ]
     },
     "metadata": {},
     "output_type": "display_data"
    }
   ],
   "source": [
    "# identify unmatched number of rows (4K/932K)\n",
    "preds_prio_df %>%\n",
    "  select(names(priorityLookup_df)) %>%  # replace to your needs\n",
    "  summarise_all(funs(sum(is.na(.)))) %>% t()"
   ]
  },
  {
   "cell_type": "code",
   "execution_count": 33,
   "metadata": {},
   "outputs": [
    {
     "data": {
      "text/html": [
       "<table>\n",
       "<caption>A data.frame: 23 × 1</caption>\n",
       "<thead>\n",
       "\t<tr><th scope=col>reseller</th></tr>\n",
       "\t<tr><th scope=col>&lt;chr&gt;</th></tr>\n",
       "</thead>\n",
       "<tbody>\n",
       "\t<tr><td>                       </td></tr>\n",
       "\t<tr><td>alastry                </td></tr>\n",
       "\t<tr><td>alpnames               </td></tr>\n",
       "\t<tr><td>amen                   </td></tr>\n",
       "\t<tr><td>arvixe                 </td></tr>\n",
       "\t<tr><td>boltn                  </td></tr>\n",
       "\t<tr><td>brandma                </td></tr>\n",
       "\t<tr><td>compra                 </td></tr>\n",
       "\t<tr><td>digivity               </td></tr>\n",
       "\t<tr><td>domains4bitcoins       </td></tr>\n",
       "\t<tr><td>domena.pl              </td></tr>\n",
       "\t<tr><td>hostnine               </td></tr>\n",
       "\t<tr><td>net4 india             </td></tr>\n",
       "\t<tr><td>pt masterweb network   </td></tr>\n",
       "\t<tr><td>qwords                 </td></tr>\n",
       "\t<tr><td>register.ca            </td></tr>\n",
       "\t<tr><td>registrator domenov    </td></tr>\n",
       "\t<tr><td>shenzhen hulianxianfeng</td></tr>\n",
       "\t<tr><td>tradeindia             </td></tr>\n",
       "\t<tr><td>vimexx trc             </td></tr>\n",
       "\t<tr><td>web werks              </td></tr>\n",
       "\t<tr><td>weebly                 </td></tr>\n",
       "\t<tr><td>zeit                   </td></tr>\n",
       "</tbody>\n",
       "</table>\n"
      ],
      "text/latex": [
       "A data.frame: 23 × 1\n",
       "\\begin{tabular}{l}\n",
       " reseller\\\\\n",
       " <chr>\\\\\n",
       "\\hline\n",
       "\t                        \\\\\n",
       "\t alastry                \\\\\n",
       "\t alpnames               \\\\\n",
       "\t amen                   \\\\\n",
       "\t arvixe                 \\\\\n",
       "\t boltn                  \\\\\n",
       "\t brandma                \\\\\n",
       "\t compra                 \\\\\n",
       "\t digivity               \\\\\n",
       "\t domains4bitcoins       \\\\\n",
       "\t domena.pl              \\\\\n",
       "\t hostnine               \\\\\n",
       "\t net4 india             \\\\\n",
       "\t pt masterweb network   \\\\\n",
       "\t qwords                 \\\\\n",
       "\t register.ca            \\\\\n",
       "\t registrator domenov    \\\\\n",
       "\t shenzhen hulianxianfeng\\\\\n",
       "\t tradeindia             \\\\\n",
       "\t vimexx trc             \\\\\n",
       "\t web werks              \\\\\n",
       "\t weebly                 \\\\\n",
       "\t zeit                   \\\\\n",
       "\\end{tabular}\n"
      ],
      "text/markdown": [
       "\n",
       "A data.frame: 23 × 1\n",
       "\n",
       "| reseller &lt;chr&gt; |\n",
       "|---|\n",
       "| <!----> |\n",
       "| alastry                 |\n",
       "| alpnames                |\n",
       "| amen                    |\n",
       "| arvixe                  |\n",
       "| boltn                   |\n",
       "| brandma                 |\n",
       "| compra                  |\n",
       "| digivity                |\n",
       "| domains4bitcoins        |\n",
       "| domena.pl               |\n",
       "| hostnine                |\n",
       "| net4 india              |\n",
       "| pt masterweb network    |\n",
       "| qwords                  |\n",
       "| register.ca             |\n",
       "| registrator domenov     |\n",
       "| shenzhen hulianxianfeng |\n",
       "| tradeindia              |\n",
       "| vimexx trc              |\n",
       "| web werks               |\n",
       "| weebly                  |\n",
       "| zeit                    |\n",
       "\n"
      ],
      "text/plain": [
       "   reseller               \n",
       "1                         \n",
       "2  alastry                \n",
       "3  alpnames               \n",
       "4  amen                   \n",
       "5  arvixe                 \n",
       "6  boltn                  \n",
       "7  brandma                \n",
       "8  compra                 \n",
       "9  digivity               \n",
       "10 domains4bitcoins       \n",
       "11 domena.pl              \n",
       "12 hostnine               \n",
       "13 net4 india             \n",
       "14 pt masterweb network   \n",
       "15 qwords                 \n",
       "16 register.ca            \n",
       "17 registrator domenov    \n",
       "18 shenzhen hulianxianfeng\n",
       "19 tradeindia             \n",
       "20 vimexx trc             \n",
       "21 web werks              \n",
       "22 weebly                 \n",
       "23 zeit                   "
      ]
     },
     "metadata": {},
     "output_type": "display_data"
    }
   ],
   "source": [
    "# unmatched resellers\n",
    "preds_prio_df %>% filter(is.na(priority)) %>% select(reseller) %>% distinct()"
   ]
  },
  {
   "cell_type": "code",
   "execution_count": 34,
   "metadata": {},
   "outputs": [],
   "source": [
    "\n",
    "\n",
    "calc_lifts <- function (preds_df) {\n",
    "    lift_list <- list()\n",
    "    auc_list <- list()\n",
    "    \n",
    "    models <- c('pred_agg_glm_ALL','pred_agg_rf_ALL','pred_agg_glm','pred_agg_rf',\n",
    "            'pred_seg_glm_ALL', 'pred_seg_rf_ALL','pred_seg2_glm_ALL','pred_seg2_rf_ALL',\n",
    "           'pred_seg2_rf_ALL_fb2', 'pred_seg2_glm_ALL_fb2', 'pred_seg_rf_ALL_fb2', \n",
    "            'pred_seg_glm_ALL_fb2', 'pred_agg_rf_fb2', 'pred_agg_glm_fb2', \n",
    "            'pred_agg_rf_ALL_fb2','pred_agg_glm_ALL_fb2')\n",
    "\n",
    "    fallback_lift <- chart_lift(pred_df=preds_df,\n",
    "                            dep_var = \"renewal_status\",\n",
    "                            pred_var = \"pred_agg_glm_ALL\") \n",
    "\n",
    "    lift_list[[\"fallback\"]] <- fallback_lift\n",
    "    auc_list[[\"fallback\"]] <- calc_auc(lift_df=fallback_lift)\n",
    "\n",
    "\n",
    "\n",
    "\n",
    "    for (model in models){\n",
    "        model_lift <- chart_lift(pred_df=preds_df,\n",
    "                            dep_var = \"renewal_status\",\n",
    "                            pred_var = model) \n",
    "\n",
    "        fallback_lift <- merge(fallback_lift, model_lift, by=c(\"P\"),all= TRUE, \n",
    "                               suffixes = c(\"\",\n",
    "                                            paste(\"_\",gsub(\"pred_df_\", \"\", model)) ))\n",
    "\n",
    "        lift_list[[model]] <- model_lift\n",
    "        auc_list[[model]] <- calc_auc(lift_df=model_lift)\n",
    "    }\n",
    "\n",
    "    lift_df <- fallback_lift\n",
    "    \n",
    "    return(list(lift_list, auc_list, lift_df))\n",
    "}\n"
   ]
  },
  {
   "cell_type": "code",
   "execution_count": 35,
   "metadata": {},
   "outputs": [],
   "source": [
    "# split pred_prio_df into lists by priorirty\n",
    "# apply function above to each element of list via lapply\n",
    "preds_prio_list <- split(preds_prio_df, preds_prio_df$priority)"
   ]
  },
  {
   "cell_type": "code",
   "execution_count": 36,
   "metadata": {},
   "outputs": [],
   "source": [
    "prio_perf <- lapply(preds_prio_list, calc_lifts)"
   ]
  },
  {
   "cell_type": "code",
   "execution_count": 37,
   "metadata": {},
   "outputs": [
    {
     "data": {
      "image/png": "[encoded data removed]",
      "text/plain": [
       "plot without title"
      ]
     },
     "metadata": {
      "image/png": {
       "height": 420,
       "width": 420
      },
      "text/plain": {
       "height": 420,
       "width": 420
      }
     },
     "output_type": "display_data"
    },
    {
     "data": {
      "image/png": "[encoded data removed]",
      "text/plain": [
       "plot without title"
      ]
     },
     "metadata": {
      "image/png": {
       "height": 420,
       "width": 420
      },
      "text/plain": {
       "height": 420,
       "width": 420
      }
     },
     "output_type": "display_data"
    },
    {
     "data": {
      "image/png": "[encoded data removed]",
      "text/plain": [
       "plot without title"
      ]
     },
     "metadata": {
      "image/png": {
       "height": 420,
       "width": 420
      },
      "text/plain": {
       "height": 420,
       "width": 420
      }
     },
     "output_type": "display_data"
    },
    {
     "data": {
      "image/png": "[encoded data removed]",
      "text/plain": [
       "plot without title"
      ]
     },
     "metadata": {
      "image/png": {
       "height": 420,
       "width": 420
      },
      "text/plain": {
       "height": 420,
       "width": 420
      }
     },
     "output_type": "display_data"
    }
   ],
   "source": [
    "# PRIORITY1 just agg_rf_ALL versus seg2_glm_fb2\n",
    "models <-  c('pred_agg_rf_ALL', 'pred_seg2_glm_ALL_fb2')\n",
    "plot_multigains(            lift_df_list=prio_perf[[1]][[1]][models],\n",
    "                             auc_list = auc_list,\n",
    "                             prop_positive = 0.08937016) \n",
    "plot_multigains(            lift_df_list=prio_perf[[2]][[1]][models],\n",
    "                             auc_list = auc_list,\n",
    "                             prop_positive = 0.08937016) \n",
    "plot_multigains(            lift_df_list=prio_perf[[3]][[1]][models],\n",
    "                             auc_list = auc_list,\n",
    "                             prop_positive = 0.08937016) \n",
    "plot_multigains(            lift_df_list=prio_perf[[4]][[1]][models],\n",
    "                             auc_list = auc_list,\n",
    "                             prop_positive = 0.08937016) "
   ]
  },
  {
   "cell_type": "code",
   "execution_count": 38,
   "metadata": {},
   "outputs": [
    {
     "data": {
      "text/html": [
       "<dl>\n",
       "\t<dt>$`1`</dt>\n",
       "\t\t<dd><strong>lift_ pred_agg_rf_ALL:</strong> 0.0875077191325511</dd>\n",
       "\t<dt>$`2`</dt>\n",
       "\t\t<dd><strong>lift_ pred_agg_rf_ALL:</strong> 0.105785123966942</dd>\n",
       "\t<dt>$`3`</dt>\n",
       "\t\t<dd><strong>lift_ pred_agg_rf_ALL:</strong> 0.103559127439725</dd>\n",
       "\t<dt>$`4`</dt>\n",
       "\t\t<dd><strong>lift_ pred_agg_rf_ALL:</strong> 0.240233036326251</dd>\n",
       "</dl>\n"
      ],
      "text/latex": [
       "\\begin{description}\n",
       "\\item[\\$`1`] \\textbf{lift\\textbackslash{}\\_ pred\\textbackslash{}\\_agg\\textbackslash{}\\_rf\\textbackslash{}\\_ALL:} 0.0875077191325511\n",
       "\\item[\\$`2`] \\textbf{lift\\textbackslash{}\\_ pred\\textbackslash{}\\_agg\\textbackslash{}\\_rf\\textbackslash{}\\_ALL:} 0.105785123966942\n",
       "\\item[\\$`3`] \\textbf{lift\\textbackslash{}\\_ pred\\textbackslash{}\\_agg\\textbackslash{}\\_rf\\textbackslash{}\\_ALL:} 0.103559127439725\n",
       "\\item[\\$`4`] \\textbf{lift\\textbackslash{}\\_ pred\\textbackslash{}\\_agg\\textbackslash{}\\_rf\\textbackslash{}\\_ALL:} 0.240233036326251\n",
       "\\end{description}\n"
      ],
      "text/markdown": [
       "$`1`\n",
       ":   **lift_ pred_agg_rf_ALL:** 0.0875077191325511\n",
       "$`2`\n",
       ":   **lift_ pred_agg_rf_ALL:** 0.105785123966942\n",
       "$`3`\n",
       ":   **lift_ pred_agg_rf_ALL:** 0.103559127439725\n",
       "$`4`\n",
       ":   **lift_ pred_agg_rf_ALL:** 0.240233036326251\n",
       "\n",
       "\n"
      ],
      "text/plain": [
       "$`1`\n",
       "lift_ pred_agg_rf_ALL \n",
       "           0.08750772 \n",
       "\n",
       "$`2`\n",
       "lift_ pred_agg_rf_ALL \n",
       "            0.1057851 \n",
       "\n",
       "$`3`\n",
       "lift_ pred_agg_rf_ALL \n",
       "            0.1035591 \n",
       "\n",
       "$`4`\n",
       "lift_ pred_agg_rf_ALL \n",
       "             0.240233 \n"
      ]
     },
     "metadata": {},
     "output_type": "display_data"
    }
   ],
   "source": [
    "lift_df_10_list <- lapply(prio_perf, function(x) x[[3]] %>% filter(P==0.1) %>% select(contains(\"lift_\")) %>% t())\n",
    " \n",
    "lapply(lift_df_10_list, function(x) (x['lift_ pred_agg_rf_ALL',]-x['lift_ pred_seg2_glm_ALL_fb2',])/x['lift_ pred_seg2_glm_ALL_fb2',])\n",
    "       "
   ]
  },
  {
   "cell_type": "code",
   "execution_count": 39,
   "metadata": {},
   "outputs": [
    {
     "data": {
      "text/html": [
       "<dl>\n",
       "\t<dt>$`1`</dt>\n",
       "\t\t<dd>0.0336204443967987</dd>\n",
       "\t<dt>$`2`</dt>\n",
       "\t\t<dd>0.0282365629643229</dd>\n",
       "\t<dt>$`3`</dt>\n",
       "\t\t<dd>0.0172944910947444</dd>\n",
       "\t<dt>$`4`</dt>\n",
       "\t\t<dd>0.0340603277189555</dd>\n",
       "</dl>\n"
      ],
      "text/latex": [
       "\\begin{description}\n",
       "\\item[\\$`1`] 0.0336204443967987\n",
       "\\item[\\$`2`] 0.0282365629643229\n",
       "\\item[\\$`3`] 0.0172944910947444\n",
       "\\item[\\$`4`] 0.0340603277189555\n",
       "\\end{description}\n"
      ],
      "text/markdown": [
       "$`1`\n",
       ":   0.0336204443967987\n",
       "$`2`\n",
       ":   0.0282365629643229\n",
       "$`3`\n",
       ":   0.0172944910947444\n",
       "$`4`\n",
       ":   0.0340603277189555\n",
       "\n",
       "\n"
      ],
      "text/plain": [
       "$`1`\n",
       "[1] 0.03362044\n",
       "\n",
       "$`2`\n",
       "[1] 0.02823656\n",
       "\n",
       "$`3`\n",
       "[1] 0.01729449\n",
       "\n",
       "$`4`\n",
       "[1] 0.03406033\n"
      ]
     },
     "metadata": {},
     "output_type": "display_data"
    }
   ],
   "source": [
    "lapply(prio_perf, function(x) (x[[2]][['pred_agg_rf_ALL']]-x[[2]][['pred_seg2_glm_ALL_fb2']])/x[[2]][['pred_seg2_glm_ALL_fb2']])\n"
   ]
  },
  {
   "cell_type": "code",
   "execution_count": 40,
   "metadata": {},
   "outputs": [],
   "source": [
    "# agg_rf vs. seg2_glm Sensitivity & Specificity at cutoff of .5 and =proppos\n",
    "\n",
    "compare_function <- function(preds_df){\n",
    "    compare_df = as.data.frame(list('agg_rf_0.089'=confusionMatrix(as.factor(ifelse(preds_df$pred_agg_rf_ALL > 0.08937016, \"Renewed\", \"Not Renewd\")), \n",
    "                preds_df$renewal_status, positive=\"Renewed\")$byClass,\n",
    "                  'seg2_glm_fb_0.089'=confusionMatrix(as.factor(ifelse(preds_df$pred_seg2_glm_ALL_fb2 > 0.08937016, \"Renewed\", \"Not Renewd\")), \n",
    "                preds_df$renewal_status, positive=\"Renewed\")$byClass,\n",
    "              'agg_rf_0.500'=confusionMatrix(as.factor(ifelse(preds_df$pred_agg_rf_ALL > 0.5, \"Renewed\", \"Not Renewd\")), \n",
    "                preds_df$renewal_status, positive=\"Renewed\")$byClass,\n",
    "                  'seg2_glm_fb_0.500'=confusionMatrix(as.factor(ifelse(preds_df$pred_seg2_glm_ALL_fb2 > 0.5, \"Renewed\", \"Not Renewd\")), \n",
    "                preds_df$renewal_status, positive=\"Renewed\")$byClass))\n",
    "    return(compare_df)\n",
    "}\n",
    "\n",
    "confres_list <- lapply(preds_prio_list,compare_function)"
   ]
  },
  {
   "cell_type": "code",
   "execution_count": 41,
   "metadata": {},
   "outputs": [
    {
     "name": "stdout",
     "output_type": "stream",
     "text": [
      "True Positive Improvement @ 0.089 cutoff"
     ]
    },
    {
     "data": {
      "text/html": [
       "<dl>\n",
       "\t<dt>$`1`</dt>\n",
       "\t\t<dd>0.0788815188465664</dd>\n",
       "\t<dt>$`2`</dt>\n",
       "\t\t<dd>0.0105253176559833</dd>\n",
       "\t<dt>$`3`</dt>\n",
       "\t\t<dd>0.0714998337213169</dd>\n",
       "\t<dt>$`4`</dt>\n",
       "\t\t<dd>0.0997310159321332</dd>\n",
       "</dl>\n"
      ],
      "text/latex": [
       "\\begin{description}\n",
       "\\item[\\$`1`] 0.0788815188465664\n",
       "\\item[\\$`2`] 0.0105253176559833\n",
       "\\item[\\$`3`] 0.0714998337213169\n",
       "\\item[\\$`4`] 0.0997310159321332\n",
       "\\end{description}\n"
      ],
      "text/markdown": [
       "$`1`\n",
       ":   0.0788815188465664\n",
       "$`2`\n",
       ":   0.0105253176559833\n",
       "$`3`\n",
       ":   0.0714998337213169\n",
       "$`4`\n",
       ":   0.0997310159321332\n",
       "\n",
       "\n"
      ],
      "text/plain": [
       "$`1`\n",
       "[1] 0.07888152\n",
       "\n",
       "$`2`\n",
       "[1] 0.01052532\n",
       "\n",
       "$`3`\n",
       "[1] 0.07149983\n",
       "\n",
       "$`4`\n",
       "[1] 0.09973102\n"
      ]
     },
     "metadata": {},
     "output_type": "display_data"
    },
    {
     "name": "stdout",
     "output_type": "stream",
     "text": [
      "\n",
      "\n",
      "True Positive Improvement @ 0.500 cutoff"
     ]
    },
    {
     "data": {
      "text/html": [
       "<dl>\n",
       "\t<dt>$`1`</dt>\n",
       "\t\t<dd>0.186810746798905</dd>\n",
       "\t<dt>$`2`</dt>\n",
       "\t\t<dd>0.342144788224692</dd>\n",
       "\t<dt>$`3`</dt>\n",
       "\t\t<dd>0.474928658785161</dd>\n",
       "\t<dt>$`4`</dt>\n",
       "\t\t<dd>0.648679033164699</dd>\n",
       "</dl>\n"
      ],
      "text/latex": [
       "\\begin{description}\n",
       "\\item[\\$`1`] 0.186810746798905\n",
       "\\item[\\$`2`] 0.342144788224692\n",
       "\\item[\\$`3`] 0.474928658785161\n",
       "\\item[\\$`4`] 0.648679033164699\n",
       "\\end{description}\n"
      ],
      "text/markdown": [
       "$`1`\n",
       ":   0.186810746798905\n",
       "$`2`\n",
       ":   0.342144788224692\n",
       "$`3`\n",
       ":   0.474928658785161\n",
       "$`4`\n",
       ":   0.648679033164699\n",
       "\n",
       "\n"
      ],
      "text/plain": [
       "$`1`\n",
       "[1] 0.1868107\n",
       "\n",
       "$`2`\n",
       "[1] 0.3421448\n",
       "\n",
       "$`3`\n",
       "[1] 0.4749287\n",
       "\n",
       "$`4`\n",
       "[1] 0.648679\n"
      ]
     },
     "metadata": {},
     "output_type": "display_data"
    }
   ],
   "source": [
    "cat(\"True Positive Improvement @ 0.089 cutoff\")\n",
    "lapply(confres_list, function(x) (x['Sensitivity','agg_rf_0.089']-\n",
    "                                  x['Sensitivity','seg2_glm_fb_0.089'])/x['Sensitivity','agg_rf_0.089'])\n",
    "cat(\"\\n\\nTrue Positive Improvement @ 0.500 cutoff\")\n",
    "lapply(confres_list, function(x) (x['Sensitivity','agg_rf_0.500']-\n",
    "                                  x['Sensitivity','seg2_glm_fb_0.500'])/x['Sensitivity','agg_rf_0.500'])"
   ]
  },
  {
   "cell_type": "code",
   "execution_count": 42,
   "metadata": {},
   "outputs": [
    {
     "data": {
      "text/html": [
       "<dl>\n",
       "\t<dt>$`1`</dt>\n",
       "\t\t<dd><table>\n",
       "<caption>A data.frame: 1 × 4</caption>\n",
       "<thead>\n",
       "\t<tr><th></th><th scope=col>agg_rf_0.089</th><th scope=col>seg2_glm_fb_0.089</th><th scope=col>agg_rf_0.500</th><th scope=col>seg2_glm_fb_0.500</th></tr>\n",
       "\t<tr><th></th><th scope=col>&lt;dbl&gt;</th><th scope=col>&lt;dbl&gt;</th><th scope=col>&lt;dbl&gt;</th><th scope=col>&lt;dbl&gt;</th></tr>\n",
       "</thead>\n",
       "<tbody>\n",
       "\t<tr><th scope=row>Accuracy</th><td>0.7689669</td><td>0.7724683</td><td>0.9186583</td><td>0.9157294</td></tr>\n",
       "</tbody>\n",
       "</table>\n",
       "</dd>\n",
       "\t<dt>$`2`</dt>\n",
       "\t\t<dd><table>\n",
       "<caption>A data.frame: 1 × 4</caption>\n",
       "<thead>\n",
       "\t<tr><th></th><th scope=col>agg_rf_0.089</th><th scope=col>seg2_glm_fb_0.089</th><th scope=col>agg_rf_0.500</th><th scope=col>seg2_glm_fb_0.500</th></tr>\n",
       "\t<tr><th></th><th scope=col>&lt;dbl&gt;</th><th scope=col>&lt;dbl&gt;</th><th scope=col>&lt;dbl&gt;</th><th scope=col>&lt;dbl&gt;</th></tr>\n",
       "</thead>\n",
       "<tbody>\n",
       "\t<tr><th scope=row>Accuracy</th><td>0.6553462</td><td>0.6270079</td><td>0.8538339</td><td>0.84751</td></tr>\n",
       "</tbody>\n",
       "</table>\n",
       "</dd>\n",
       "\t<dt>$`3`</dt>\n",
       "\t\t<dd><table>\n",
       "<caption>A data.frame: 1 × 4</caption>\n",
       "<thead>\n",
       "\t<tr><th></th><th scope=col>agg_rf_0.089</th><th scope=col>seg2_glm_fb_0.089</th><th scope=col>agg_rf_0.500</th><th scope=col>seg2_glm_fb_0.500</th></tr>\n",
       "\t<tr><th></th><th scope=col>&lt;dbl&gt;</th><th scope=col>&lt;dbl&gt;</th><th scope=col>&lt;dbl&gt;</th><th scope=col>&lt;dbl&gt;</th></tr>\n",
       "</thead>\n",
       "<tbody>\n",
       "\t<tr><th scope=row>Accuracy</th><td>0.8537438</td><td>0.8639822</td><td>0.9494949</td><td>0.9429803</td></tr>\n",
       "</tbody>\n",
       "</table>\n",
       "</dd>\n",
       "\t<dt>$`4`</dt>\n",
       "\t\t<dd><table>\n",
       "<caption>A data.frame: 1 × 4</caption>\n",
       "<thead>\n",
       "\t<tr><th></th><th scope=col>agg_rf_0.089</th><th scope=col>seg2_glm_fb_0.089</th><th scope=col>agg_rf_0.500</th><th scope=col>seg2_glm_fb_0.500</th></tr>\n",
       "\t<tr><th></th><th scope=col>&lt;dbl&gt;</th><th scope=col>&lt;dbl&gt;</th><th scope=col>&lt;dbl&gt;</th><th scope=col>&lt;dbl&gt;</th></tr>\n",
       "</thead>\n",
       "<tbody>\n",
       "\t<tr><th scope=row>Accuracy</th><td>0.8420975</td><td>0.8278336</td><td>0.9428212</td><td>0.9334972</td></tr>\n",
       "</tbody>\n",
       "</table>\n",
       "</dd>\n",
       "</dl>\n"
      ],
      "text/latex": [
       "\\begin{description}\n",
       "\\item[\\$`1`] A data.frame: 1 × 4\n",
       "\\begin{tabular}{r|llll}\n",
       "  & agg\\_rf\\_0.089 & seg2\\_glm\\_fb\\_0.089 & agg\\_rf\\_0.500 & seg2\\_glm\\_fb\\_0.500\\\\\n",
       "  & <dbl> & <dbl> & <dbl> & <dbl>\\\\\n",
       "\\hline\n",
       "\tAccuracy & 0.7689669 & 0.7724683 & 0.9186583 & 0.9157294\\\\\n",
       "\\end{tabular}\n",
       "\n",
       "\\item[\\$`2`] A data.frame: 1 × 4\n",
       "\\begin{tabular}{r|llll}\n",
       "  & agg\\_rf\\_0.089 & seg2\\_glm\\_fb\\_0.089 & agg\\_rf\\_0.500 & seg2\\_glm\\_fb\\_0.500\\\\\n",
       "  & <dbl> & <dbl> & <dbl> & <dbl>\\\\\n",
       "\\hline\n",
       "\tAccuracy & 0.6553462 & 0.6270079 & 0.8538339 & 0.84751\\\\\n",
       "\\end{tabular}\n",
       "\n",
       "\\item[\\$`3`] A data.frame: 1 × 4\n",
       "\\begin{tabular}{r|llll}\n",
       "  & agg\\_rf\\_0.089 & seg2\\_glm\\_fb\\_0.089 & agg\\_rf\\_0.500 & seg2\\_glm\\_fb\\_0.500\\\\\n",
       "  & <dbl> & <dbl> & <dbl> & <dbl>\\\\\n",
       "\\hline\n",
       "\tAccuracy & 0.8537438 & 0.8639822 & 0.9494949 & 0.9429803\\\\\n",
       "\\end{tabular}\n",
       "\n",
       "\\item[\\$`4`] A data.frame: 1 × 4\n",
       "\\begin{tabular}{r|llll}\n",
       "  & agg\\_rf\\_0.089 & seg2\\_glm\\_fb\\_0.089 & agg\\_rf\\_0.500 & seg2\\_glm\\_fb\\_0.500\\\\\n",
       "  & <dbl> & <dbl> & <dbl> & <dbl>\\\\\n",
       "\\hline\n",
       "\tAccuracy & 0.8420975 & 0.8278336 & 0.9428212 & 0.9334972\\\\\n",
       "\\end{tabular}\n",
       "\n",
       "\\end{description}\n"
      ],
      "text/markdown": [
       "$`1`\n",
       ":   \n",
       "A data.frame: 1 × 4\n",
       "\n",
       "| <!--/--> | agg_rf_0.089 &lt;dbl&gt; | seg2_glm_fb_0.089 &lt;dbl&gt; | agg_rf_0.500 &lt;dbl&gt; | seg2_glm_fb_0.500 &lt;dbl&gt; |\n",
       "|---|---|---|---|---|\n",
       "| Accuracy | 0.7689669 | 0.7724683 | 0.9186583 | 0.9157294 |\n",
       "\n",
       "\n",
       "$`2`\n",
       ":   \n",
       "A data.frame: 1 × 4\n",
       "\n",
       "| <!--/--> | agg_rf_0.089 &lt;dbl&gt; | seg2_glm_fb_0.089 &lt;dbl&gt; | agg_rf_0.500 &lt;dbl&gt; | seg2_glm_fb_0.500 &lt;dbl&gt; |\n",
       "|---|---|---|---|---|\n",
       "| Accuracy | 0.6553462 | 0.6270079 | 0.8538339 | 0.84751 |\n",
       "\n",
       "\n",
       "$`3`\n",
       ":   \n",
       "A data.frame: 1 × 4\n",
       "\n",
       "| <!--/--> | agg_rf_0.089 &lt;dbl&gt; | seg2_glm_fb_0.089 &lt;dbl&gt; | agg_rf_0.500 &lt;dbl&gt; | seg2_glm_fb_0.500 &lt;dbl&gt; |\n",
       "|---|---|---|---|---|\n",
       "| Accuracy | 0.8537438 | 0.8639822 | 0.9494949 | 0.9429803 |\n",
       "\n",
       "\n",
       "$`4`\n",
       ":   \n",
       "A data.frame: 1 × 4\n",
       "\n",
       "| <!--/--> | agg_rf_0.089 &lt;dbl&gt; | seg2_glm_fb_0.089 &lt;dbl&gt; | agg_rf_0.500 &lt;dbl&gt; | seg2_glm_fb_0.500 &lt;dbl&gt; |\n",
       "|---|---|---|---|---|\n",
       "| Accuracy | 0.8420975 | 0.8278336 | 0.9428212 | 0.9334972 |\n",
       "\n",
       "\n",
       "\n",
       "\n"
      ],
      "text/plain": [
       "$`1`\n",
       "         agg_rf_0.089 seg2_glm_fb_0.089 agg_rf_0.500 seg2_glm_fb_0.500\n",
       "Accuracy    0.7689669         0.7724683    0.9186583         0.9157294\n",
       "\n",
       "$`2`\n",
       "         agg_rf_0.089 seg2_glm_fb_0.089 agg_rf_0.500 seg2_glm_fb_0.500\n",
       "Accuracy    0.6553462         0.6270079    0.8538339           0.84751\n",
       "\n",
       "$`3`\n",
       "         agg_rf_0.089 seg2_glm_fb_0.089 agg_rf_0.500 seg2_glm_fb_0.500\n",
       "Accuracy    0.8537438         0.8639822    0.9494949         0.9429803\n",
       "\n",
       "$`4`\n",
       "         agg_rf_0.089 seg2_glm_fb_0.089 agg_rf_0.500 seg2_glm_fb_0.500\n",
       "Accuracy    0.8420975         0.8278336    0.9428212         0.9334972\n"
      ]
     },
     "metadata": {},
     "output_type": "display_data"
    }
   ],
   "source": [
    "# improvement in accuracy for agg_rf vs. seg2_glm (NOT REPORTED -- not appropriate for imbal data)\n",
    "\n",
    "accuracy_function <- function(preds_df){\n",
    "    compare_df = as.data.frame(list(\n",
    "    'agg_rf_0.089'=confusionMatrix(as.factor(ifelse(preds_df$pred_agg_rf_ALL > 0.08937016, \"Renewed\", \"Not Renewd\")), \n",
    "                preds_df$renewal_status, positive=\"Renewed\")$overall['Accuracy'],\n",
    "                  'seg2_glm_fb_0.089'=confusionMatrix(as.factor(ifelse(preds_df$pred_seg2_glm_ALL_fb2 > 0.08937016, \"Renewed\", \"Not Renewd\")), \n",
    "                preds_df$renewal_status, positive=\"Renewed\")$overall['Accuracy'],\n",
    "              'agg_rf_0.500'=confusionMatrix(as.factor(ifelse(preds_df$pred_agg_rf_ALL > 0.5, \"Renewed\", \"Not Renewd\")), \n",
    "                preds_df$renewal_status, positive=\"Renewed\")$overall['Accuracy'],\n",
    "                  'seg2_glm_fb_0.500'=confusionMatrix(as.factor(ifelse(preds_df$pred_seg2_glm_ALL_fb2 > 0.5, \"Renewed\", \"Not Renewd\")), \n",
    "                preds_df$renewal_status, positive=\"Renewed\")$overall['Accuracy']))\n",
    "    return(compare_df)\n",
    "}\n",
    "\n",
    "accres_list <- lapply(preds_prio_list,accuracy_function)\n",
    "\n",
    "\n",
    "accres_list"
   ]
  },
  {
   "cell_type": "markdown",
   "metadata": {},
   "source": [
    "# in seg2_glm vs seg2_glm_fb -- \n",
    "## for which tld-re's is/isn't fallback appopriate?"
   ]
  },
  {
   "cell_type": "code",
   "execution_count": null,
   "metadata": {},
   "outputs": [],
   "source": []
  }
 ],
 "metadata": {
  "environment": {
   "name": "r-cpu.3-6.m48",
   "type": "gcloud",
   "uri": "gcr.io/deeplearning-platform-release/r-cpu.3-6:m48"
  },
  "kernelspec": {
   "display_name": "R",
   "language": "R",
   "name": "ir"
  },
  "language_info": {
   "codemirror_mode": "r",
   "file_extension": ".r",
   "mimetype": "text/x-r-source",
   "name": "R",
   "pygments_lexer": "r",
   "version": "3.6.3"
  }
 },
 "nbformat": 4,
 "nbformat_minor": 4
}
