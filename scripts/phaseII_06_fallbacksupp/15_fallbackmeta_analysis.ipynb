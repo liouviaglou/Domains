{
 "cells": [
  {
   "cell_type": "markdown",
   "metadata": {},
   "source": [
    "# Fallback Table Metalearning ANALYSIS\n"
   ]
  },
  {
   "cell_type": "code",
   "execution_count": 1,
   "metadata": {},
   "outputs": [],
   "source": [
    "options(repr.matrix.max.cols=50, repr.matrix.max.rows=100)"
   ]
  },
  {
   "cell_type": "code",
   "execution_count": 2,
   "metadata": {},
   "outputs": [],
   "source": [
    "# install.packages(\"pkgcond\")"
   ]
  },
  {
   "cell_type": "code",
   "execution_count": 3,
   "metadata": {},
   "outputs": [
    {
     "name": "stderr",
     "output_type": "stream",
     "text": [
      "\n",
      "Attaching package: ‘dplyr’\n",
      "\n",
      "\n",
      "The following objects are masked from ‘package:stats’:\n",
      "\n",
      "    filter, lag\n",
      "\n",
      "\n",
      "The following objects are masked from ‘package:base’:\n",
      "\n",
      "    intersect, setdiff, setequal, union\n",
      "\n",
      "\n",
      "\n",
      "Attaching package: ‘data.table’\n",
      "\n",
      "\n",
      "The following objects are masked from ‘package:dplyr’:\n",
      "\n",
      "    between, first, last\n",
      "\n",
      "\n",
      "Loading required package: grid\n",
      "\n",
      "Loading required package: libcoin\n",
      "\n",
      "Loading required package: mvtnorm\n",
      "\n",
      "Loading required package: lattice\n",
      "\n",
      "Loading required package: ggplot2\n",
      "\n",
      "randomForest 4.6-14\n",
      "\n",
      "Type rfNews() to see new features/changes/bug fixes.\n",
      "\n",
      "\n",
      "Attaching package: ‘randomForest’\n",
      "\n",
      "\n",
      "The following object is masked from ‘package:ggplot2’:\n",
      "\n",
      "    margin\n",
      "\n",
      "\n",
      "The following object is masked from ‘package:dplyr’:\n",
      "\n",
      "    combine\n",
      "\n",
      "\n",
      "\n",
      "Attaching package: ‘ranger’\n",
      "\n",
      "\n",
      "The following object is masked from ‘package:randomForest’:\n",
      "\n",
      "    importance\n",
      "\n",
      "\n",
      "\n",
      "Attaching package: ‘plotly’\n",
      "\n",
      "\n",
      "The following object is masked from ‘package:ggplot2’:\n",
      "\n",
      "    last_plot\n",
      "\n",
      "\n",
      "The following object is masked from ‘package:stats’:\n",
      "\n",
      "    filter\n",
      "\n",
      "\n",
      "The following object is masked from ‘package:graphics’:\n",
      "\n",
      "    layout\n",
      "\n",
      "\n"
     ]
    },
    {
     "data": {
      "text/html": [
       "'/home/jupyter/Domains_202003/scripts/phaseII_06_fallbacksupp'"
      ],
      "text/latex": [
       "'/home/jupyter/Domains\\_202003/scripts/phaseII\\_06\\_fallbacksupp'"
      ],
      "text/markdown": [
       "'/home/jupyter/Domains_202003/scripts/phaseII_06_fallbacksupp'"
      ],
      "text/plain": [
       "[1] \"/home/jupyter/Domains_202003/scripts/phaseII_06_fallbacksupp\""
      ]
     },
     "metadata": {},
     "output_type": "display_data"
    }
   ],
   "source": [
    "library(dplyr)\n",
    "library(data.table)\n",
    "library(partykit)\n",
    "library(tictoc)\n",
    "library(caret)\n",
    "library(e1071)\n",
    "library(randomForest)\n",
    "library(ranger)\n",
    "\n",
    "#for 3d plotting\n",
    "library(akima)\n",
    "library(plotly)\n",
    "\n",
    "# for prep data\n",
    "library(stringr)\n",
    "library(pbapply)\n",
    "library(stringdist)\n",
    "library(data.table)\n",
    "library(dominanceanalysis)\n",
    "\n",
    "\n",
    "getwd()"
   ]
  },
  {
   "cell_type": "code",
   "execution_count": 4,
   "metadata": {},
   "outputs": [
    {
     "name": "stderr",
     "output_type": "stream",
     "text": [
      "\n",
      "Attaching package: ‘tidyr’\n",
      "\n",
      "\n",
      "The following object is masked from ‘package:stringdist’:\n",
      "\n",
      "    extract\n",
      "\n",
      "\n"
     ]
    }
   ],
   "source": [
    "\n",
    "source('../orig/functions.R')\n",
    "\n",
    "source('../orig/functions_models.R')\n",
    "\n",
    "source('../phaseII_03_forest/functions_eval.R')\n"
   ]
  },
  {
   "cell_type": "code",
   "execution_count": 5,
   "metadata": {},
   "outputs": [],
   "source": [
    "source('functions_metalearning.R')"
   ]
  },
  {
   "cell_type": "code",
   "execution_count": 6,
   "metadata": {},
   "outputs": [],
   "source": [
    "source('functions_fallback.R')"
   ]
  },
  {
   "cell_type": "code",
   "execution_count": 7,
   "metadata": {},
   "outputs": [],
   "source": [
    "# source('load_prep_data_expiry_2.R') #read in train test and predictions manually instead\n",
    "\n",
    "# READ CSV's\n",
    "# expiry_df_test_preds <- read.csv(\"../../data/output/datapull_20201116/expiry_df_test_preds_fb.csv\")\n",
    "# expiry_df_train <- read.csv(\"../../data/output/datapull_20201116/expiry_df_train.csv\")\n",
    "# expiry_df_test <- read.csv(\"../../data/output/datapull_20201116/expiry_df_test.csv\")\n",
    "# metametrics_df <- read.csv(\"../../data/output/datapull_20201116/expiry_metametrics_df.csv\")\n",
    "# expiry_df\n",
    "# expiry_train_df \n",
    "# expiry_test_df \n",
    "# expiry_list\n",
    "# expiry_train_list\n",
    "# expiry_test_list"
   ]
  },
  {
   "cell_type": "code",
   "execution_count": 8,
   "metadata": {},
   "outputs": [],
   "source": [
    "dataDir='/home/jupyter/Domains_202003/data/output/datapull_20201116'\n",
    "\n",
    "modelDir='/home/jupyter/Domains_202003/data/output/models_20201104'\n",
    "\n",
    "outputDir='/home/jupyter/Domains_202003/data/output/datapull_20201127'"
   ]
  },
  {
   "cell_type": "markdown",
   "metadata": {},
   "source": [
    "# Load meta-based predictions on new datapull"
   ]
  },
  {
   "cell_type": "code",
   "execution_count": 9,
   "metadata": {},
   "outputs": [
    {
     "name": "stdout",
     "output_type": "stream",
     "text": [
      "Expiry data originally has 476586 rows and 476586 missing geo's.\n",
      "... after intial merge on reseller & _country, expiry has 476586 rows and 476408 missing geo's.\n",
      "... after secondary fill with _country, expiry has 476586 rows and 496 missing geo's.\n",
      "... after manual tweaks with _country, expiry has 476586 rows and 71 missing geo's.\n"
     ]
    },
    {
     "data": {
      "text/html": [
       "<style>\n",
       ".list-inline {list-style: none; margin:0; padding: 0}\n",
       ".list-inline>li {display: inline-block}\n",
       ".list-inline>li:not(:last-child)::after {content: \"\\00b7\"; padding: 0 .5ex}\n",
       "</style>\n",
       "<ol class=list-inline><li>476586</li><li>33</li></ol>\n"
      ],
      "text/latex": [
       "\\begin{enumerate*}\n",
       "\\item 476586\n",
       "\\item 33\n",
       "\\end{enumerate*}\n"
      ],
      "text/markdown": [
       "1. 476586\n",
       "2. 33\n",
       "\n",
       "\n"
      ],
      "text/plain": [
       "[1] 476586     33"
      ]
     },
     "metadata": {},
     "output_type": "display_data"
    },
    {
     "data": {
      "text/html": [
       "<table>\n",
       "<caption>A data.frame: 6 × 33</caption>\n",
       "<thead>\n",
       "\t<tr><th></th><th scope=col>reseller</th><th scope=col>reseller_country</th><th scope=col>renewal_type</th><th scope=col>renewed_count</th><th scope=col>expiry_date</th><th scope=col>creation_date</th><th scope=col>status</th><th scope=col>domain_id</th><th scope=col>domain</th><th scope=col>registrar</th><th scope=col>registrant_country</th><th scope=col>reg_period</th><th scope=col>reg_revenue</th><th scope=col>reg_arpt</th><th scope=col>renew_mbg</th><th scope=col>renewal_item_id</th><th scope=col>renew_type</th><th scope=col>autorenew_type</th><th scope=col>renewal_status</th><th scope=col>renew_date</th><th scope=col>renew_arpt</th><th scope=col>gibb_score</th><th scope=col>pattern</th><th scope=col>pattern_domain_count</th><th scope=col>day_domains</th><th scope=col>sld_length</th><th scope=col>sld_type</th><th scope=col>sld_type2</th><th scope=col>tld</th><th scope=col>region</th><th scope=col>log_reg_arpt</th><th scope=col>tld_registrar_index</th><th scope=col>reseller_geo</th></tr>\n",
       "\t<tr><th></th><th scope=col>&lt;fct&gt;</th><th scope=col>&lt;fct&gt;</th><th scope=col>&lt;chr&gt;</th><th scope=col>&lt;int&gt;</th><th scope=col>&lt;date&gt;</th><th scope=col>&lt;date&gt;</th><th scope=col>&lt;chr&gt;</th><th scope=col>&lt;int&gt;</th><th scope=col>&lt;chr&gt;</th><th scope=col>&lt;chr&gt;</th><th scope=col>&lt;chr&gt;</th><th scope=col>&lt;int&gt;</th><th scope=col>&lt;dbl&gt;</th><th scope=col>&lt;dbl&gt;</th><th scope=col>&lt;int&gt;</th><th scope=col>&lt;int&gt;</th><th scope=col>&lt;chr&gt;</th><th scope=col>&lt;chr&gt;</th><th scope=col>&lt;chr&gt;</th><th scope=col>&lt;date&gt;</th><th scope=col>&lt;dbl&gt;</th><th scope=col>&lt;dbl&gt;</th><th scope=col>&lt;chr&gt;</th><th scope=col>&lt;int&gt;</th><th scope=col>&lt;int&gt;</th><th scope=col>&lt;int&gt;</th><th scope=col>&lt;chr&gt;</th><th scope=col>&lt;chr&gt;</th><th scope=col>&lt;chr&gt;</th><th scope=col>&lt;chr&gt;</th><th scope=col>&lt;dbl&gt;</th><th scope=col>&lt;chr&gt;</th><th scope=col>&lt;fct&gt;</th></tr>\n",
       "</thead>\n",
       "<tbody>\n",
       "\t<tr><th scope=row>1</th><td>1&amp;1 Internet</td><td>Germany</td><td>FirstTime</td><td>1</td><td>2020-09-17</td><td>2019-09-17</td><td>Active</td><td>129547106</td><td><span style=white-space:pre-wrap>preciodeloro.online             </span></td><td>1&amp;1 Internet</td><td>NA</td><td>1</td><td> 5</td><td> 5</td><td>0</td><td>279480871</td><td>transfer</td><td>NA</td><td>Renewed</td><td>2020-01-14</td><td>25</td><td>7.19</td><td><span style=white-space:pre-wrap>preciodeloro             </span></td><td>1</td><td>66</td><td>12</td><td><span style=white-space:pre-wrap>l       </span></td><td><span style=white-space:pre-wrap>12l       </span></td><td>online</td><td>Non China</td><td>1.609438</td><td>online1&amp;1 internet</td><td>EU</td></tr>\n",
       "\t<tr><th scope=row>2</th><td>1&amp;1 Internet</td><td>Germany</td><td>FirstTime</td><td>1</td><td>2020-09-10</td><td>2018-09-10</td><td>Active</td><td> 76285079</td><td><span style=white-space:pre-wrap>advance7.online                 </span></td><td>1&amp;1 Internet</td><td>NA</td><td>2</td><td>30</td><td>15</td><td>0</td><td>225404981</td><td>transfer</td><td>NA</td><td>Renewed</td><td>2019-08-27</td><td>25</td><td>5.42</td><td><span style=white-space:pre-wrap>advance7                 </span></td><td>1</td><td>73</td><td> 8</td><td><span style=white-space:pre-wrap>ln      </span></td><td><span style=white-space:pre-wrap>8ln       </span></td><td>online</td><td>Non China</td><td>2.708050</td><td>online1&amp;1 internet</td><td>EU</td></tr>\n",
       "\t<tr><th scope=row>3</th><td>1&amp;1 Internet</td><td>Germany</td><td>FirstTime</td><td>1</td><td>2020-10-02</td><td>2019-10-02</td><td>Active</td><td>132626216</td><td>stellenanzeigen-on-demand.online</td><td>1&amp;1 Internet</td><td>NA</td><td>1</td><td> 5</td><td> 5</td><td>0</td><td>323941649</td><td>renewal </td><td>NA</td><td>Renewed</td><td>2020-06-22</td><td>25</td><td>6.99</td><td>stellenanzeigen-on-demand</td><td>1</td><td>61</td><td>25</td><td>hyphen-l</td><td>25hyphen-l</td><td>online</td><td>Non China</td><td>1.609438</td><td>online1&amp;1 internet</td><td>EU</td></tr>\n",
       "\t<tr><th scope=row>4</th><td>1&amp;1 Internet</td><td>Germany</td><td>FirstTime</td><td>1</td><td>2020-09-07</td><td>2019-09-07</td><td>Active</td><td>127423021</td><td><span style=white-space:pre-wrap>colmex.online                   </span></td><td>1&amp;1 Internet</td><td>NA</td><td>1</td><td> 5</td><td> 5</td><td>0</td><td>244331895</td><td>renewal </td><td>NA</td><td>Renewed</td><td>2019-10-28</td><td>25</td><td>4.32</td><td><span style=white-space:pre-wrap>colmex                   </span></td><td>1</td><td>82</td><td> 6</td><td><span style=white-space:pre-wrap>l       </span></td><td><span style=white-space:pre-wrap>6l        </span></td><td>online</td><td>Non China</td><td>1.609438</td><td>online1&amp;1 internet</td><td>EU</td></tr>\n",
       "\t<tr><th scope=row>5</th><td>1&amp;1 Internet</td><td>Germany</td><td>FirstTime</td><td>1</td><td>2020-09-08</td><td>2019-09-08</td><td>Active</td><td>127588571</td><td><span style=white-space:pre-wrap>chattaboxforum.online           </span></td><td>1&amp;1 Internet</td><td>NA</td><td>1</td><td> 5</td><td> 5</td><td>0</td><td>229331376</td><td>renewal </td><td>NA</td><td>Renewed</td><td>2019-09-09</td><td>25</td><td>3.66</td><td><span style=white-space:pre-wrap>chattaboxforum           </span></td><td>1</td><td>65</td><td>14</td><td><span style=white-space:pre-wrap>l       </span></td><td><span style=white-space:pre-wrap>14l       </span></td><td>online</td><td>Non China</td><td>1.609438</td><td>online1&amp;1 internet</td><td>EU</td></tr>\n",
       "\t<tr><th scope=row>6</th><td>1&amp;1 Internet</td><td>Germany</td><td>FirstTime</td><td>1</td><td>2020-10-02</td><td>2019-10-02</td><td>Active</td><td>132629291</td><td><span style=white-space:pre-wrap>jobpodcast.online               </span></td><td>1&amp;1 Internet</td><td>NA</td><td>1</td><td> 5</td><td> 5</td><td>0</td><td>323938864</td><td>renewal </td><td>NA</td><td>Renewed</td><td>2020-06-22</td><td>25</td><td>1.96</td><td><span style=white-space:pre-wrap>jobpodcast               </span></td><td>1</td><td>61</td><td>10</td><td><span style=white-space:pre-wrap>l       </span></td><td><span style=white-space:pre-wrap>10l       </span></td><td>online</td><td>Non China</td><td>1.609438</td><td>online1&amp;1 internet</td><td>EU</td></tr>\n",
       "</tbody>\n",
       "</table>\n"
      ],
      "text/latex": [
       "A data.frame: 6 × 33\n",
       "\\begin{tabular}{r|lllllllllllllllllllllllllllllllll}\n",
       "  & reseller & reseller\\_country & renewal\\_type & renewed\\_count & expiry\\_date & creation\\_date & status & domain\\_id & domain & registrar & registrant\\_country & reg\\_period & reg\\_revenue & reg\\_arpt & renew\\_mbg & renewal\\_item\\_id & renew\\_type & autorenew\\_type & renewal\\_status & renew\\_date & renew\\_arpt & gibb\\_score & pattern & pattern\\_domain\\_count & day\\_domains & sld\\_length & sld\\_type & sld\\_type2 & tld & region & log\\_reg\\_arpt & tld\\_registrar\\_index & reseller\\_geo\\\\\n",
       "  & <fct> & <fct> & <chr> & <int> & <date> & <date> & <chr> & <int> & <chr> & <chr> & <chr> & <int> & <dbl> & <dbl> & <int> & <int> & <chr> & <chr> & <chr> & <date> & <dbl> & <dbl> & <chr> & <int> & <int> & <int> & <chr> & <chr> & <chr> & <chr> & <dbl> & <chr> & <fct>\\\\\n",
       "\\hline\n",
       "\t1 & 1\\&1 Internet & Germany & FirstTime & 1 & 2020-09-17 & 2019-09-17 & Active & 129547106 & preciodeloro.online              & 1\\&1 Internet & NA & 1 &  5 &  5 & 0 & 279480871 & transfer & NA & Renewed & 2020-01-14 & 25 & 7.19 & preciodeloro              & 1 & 66 & 12 & l        & 12l        & online & Non China & 1.609438 & online1\\&1 internet & EU\\\\\n",
       "\t2 & 1\\&1 Internet & Germany & FirstTime & 1 & 2020-09-10 & 2018-09-10 & Active &  76285079 & advance7.online                  & 1\\&1 Internet & NA & 2 & 30 & 15 & 0 & 225404981 & transfer & NA & Renewed & 2019-08-27 & 25 & 5.42 & advance7                  & 1 & 73 &  8 & ln       & 8ln        & online & Non China & 2.708050 & online1\\&1 internet & EU\\\\\n",
       "\t3 & 1\\&1 Internet & Germany & FirstTime & 1 & 2020-10-02 & 2019-10-02 & Active & 132626216 & stellenanzeigen-on-demand.online & 1\\&1 Internet & NA & 1 &  5 &  5 & 0 & 323941649 & renewal  & NA & Renewed & 2020-06-22 & 25 & 6.99 & stellenanzeigen-on-demand & 1 & 61 & 25 & hyphen-l & 25hyphen-l & online & Non China & 1.609438 & online1\\&1 internet & EU\\\\\n",
       "\t4 & 1\\&1 Internet & Germany & FirstTime & 1 & 2020-09-07 & 2019-09-07 & Active & 127423021 & colmex.online                    & 1\\&1 Internet & NA & 1 &  5 &  5 & 0 & 244331895 & renewal  & NA & Renewed & 2019-10-28 & 25 & 4.32 & colmex                    & 1 & 82 &  6 & l        & 6l         & online & Non China & 1.609438 & online1\\&1 internet & EU\\\\\n",
       "\t5 & 1\\&1 Internet & Germany & FirstTime & 1 & 2020-09-08 & 2019-09-08 & Active & 127588571 & chattaboxforum.online            & 1\\&1 Internet & NA & 1 &  5 &  5 & 0 & 229331376 & renewal  & NA & Renewed & 2019-09-09 & 25 & 3.66 & chattaboxforum            & 1 & 65 & 14 & l        & 14l        & online & Non China & 1.609438 & online1\\&1 internet & EU\\\\\n",
       "\t6 & 1\\&1 Internet & Germany & FirstTime & 1 & 2020-10-02 & 2019-10-02 & Active & 132629291 & jobpodcast.online                & 1\\&1 Internet & NA & 1 &  5 &  5 & 0 & 323938864 & renewal  & NA & Renewed & 2020-06-22 & 25 & 1.96 & jobpodcast                & 1 & 61 & 10 & l        & 10l        & online & Non China & 1.609438 & online1\\&1 internet & EU\\\\\n",
       "\\end{tabular}\n"
      ],
      "text/markdown": [
       "\n",
       "A data.frame: 6 × 33\n",
       "\n",
       "| <!--/--> | reseller &lt;fct&gt; | reseller_country &lt;fct&gt; | renewal_type &lt;chr&gt; | renewed_count &lt;int&gt; | expiry_date &lt;date&gt; | creation_date &lt;date&gt; | status &lt;chr&gt; | domain_id &lt;int&gt; | domain &lt;chr&gt; | registrar &lt;chr&gt; | registrant_country &lt;chr&gt; | reg_period &lt;int&gt; | reg_revenue &lt;dbl&gt; | reg_arpt &lt;dbl&gt; | renew_mbg &lt;int&gt; | renewal_item_id &lt;int&gt; | renew_type &lt;chr&gt; | autorenew_type &lt;chr&gt; | renewal_status &lt;chr&gt; | renew_date &lt;date&gt; | renew_arpt &lt;dbl&gt; | gibb_score &lt;dbl&gt; | pattern &lt;chr&gt; | pattern_domain_count &lt;int&gt; | day_domains &lt;int&gt; | sld_length &lt;int&gt; | sld_type &lt;chr&gt; | sld_type2 &lt;chr&gt; | tld &lt;chr&gt; | region &lt;chr&gt; | log_reg_arpt &lt;dbl&gt; | tld_registrar_index &lt;chr&gt; | reseller_geo &lt;fct&gt; |\n",
       "|---|---|---|---|---|---|---|---|---|---|---|---|---|---|---|---|---|---|---|---|---|---|---|---|---|---|---|---|---|---|---|---|---|---|\n",
       "| 1 | 1&amp;1 Internet | Germany | FirstTime | 1 | 2020-09-17 | 2019-09-17 | Active | 129547106 | preciodeloro.online              | 1&amp;1 Internet | NA | 1 |  5 |  5 | 0 | 279480871 | transfer | NA | Renewed | 2020-01-14 | 25 | 7.19 | preciodeloro              | 1 | 66 | 12 | l        | 12l        | online | Non China | 1.609438 | online1&amp;1 internet | EU |\n",
       "| 2 | 1&amp;1 Internet | Germany | FirstTime | 1 | 2020-09-10 | 2018-09-10 | Active |  76285079 | advance7.online                  | 1&amp;1 Internet | NA | 2 | 30 | 15 | 0 | 225404981 | transfer | NA | Renewed | 2019-08-27 | 25 | 5.42 | advance7                  | 1 | 73 |  8 | ln       | 8ln        | online | Non China | 2.708050 | online1&amp;1 internet | EU |\n",
       "| 3 | 1&amp;1 Internet | Germany | FirstTime | 1 | 2020-10-02 | 2019-10-02 | Active | 132626216 | stellenanzeigen-on-demand.online | 1&amp;1 Internet | NA | 1 |  5 |  5 | 0 | 323941649 | renewal  | NA | Renewed | 2020-06-22 | 25 | 6.99 | stellenanzeigen-on-demand | 1 | 61 | 25 | hyphen-l | 25hyphen-l | online | Non China | 1.609438 | online1&amp;1 internet | EU |\n",
       "| 4 | 1&amp;1 Internet | Germany | FirstTime | 1 | 2020-09-07 | 2019-09-07 | Active | 127423021 | colmex.online                    | 1&amp;1 Internet | NA | 1 |  5 |  5 | 0 | 244331895 | renewal  | NA | Renewed | 2019-10-28 | 25 | 4.32 | colmex                    | 1 | 82 |  6 | l        | 6l         | online | Non China | 1.609438 | online1&amp;1 internet | EU |\n",
       "| 5 | 1&amp;1 Internet | Germany | FirstTime | 1 | 2020-09-08 | 2019-09-08 | Active | 127588571 | chattaboxforum.online            | 1&amp;1 Internet | NA | 1 |  5 |  5 | 0 | 229331376 | renewal  | NA | Renewed | 2019-09-09 | 25 | 3.66 | chattaboxforum            | 1 | 65 | 14 | l        | 14l        | online | Non China | 1.609438 | online1&amp;1 internet | EU |\n",
       "| 6 | 1&amp;1 Internet | Germany | FirstTime | 1 | 2020-10-02 | 2019-10-02 | Active | 132629291 | jobpodcast.online                | 1&amp;1 Internet | NA | 1 |  5 |  5 | 0 | 323938864 | renewal  | NA | Renewed | 2020-06-22 | 25 | 1.96 | jobpodcast                | 1 | 61 | 10 | l        | 10l        | online | Non China | 1.609438 | online1&amp;1 internet | EU |\n",
       "\n"
      ],
      "text/plain": [
       "  reseller     reseller_country renewal_type renewed_count expiry_date\n",
       "1 1&1 Internet Germany          FirstTime    1             2020-09-17 \n",
       "2 1&1 Internet Germany          FirstTime    1             2020-09-10 \n",
       "3 1&1 Internet Germany          FirstTime    1             2020-10-02 \n",
       "4 1&1 Internet Germany          FirstTime    1             2020-09-07 \n",
       "5 1&1 Internet Germany          FirstTime    1             2020-09-08 \n",
       "6 1&1 Internet Germany          FirstTime    1             2020-10-02 \n",
       "  creation_date status domain_id domain                           registrar   \n",
       "1 2019-09-17    Active 129547106 preciodeloro.online              1&1 Internet\n",
       "2 2018-09-10    Active  76285079 advance7.online                  1&1 Internet\n",
       "3 2019-10-02    Active 132626216 stellenanzeigen-on-demand.online 1&1 Internet\n",
       "4 2019-09-07    Active 127423021 colmex.online                    1&1 Internet\n",
       "5 2019-09-08    Active 127588571 chattaboxforum.online            1&1 Internet\n",
       "6 2019-10-02    Active 132629291 jobpodcast.online                1&1 Internet\n",
       "  registrant_country reg_period reg_revenue reg_arpt renew_mbg renewal_item_id\n",
       "1 NA                 1           5           5       0         279480871      \n",
       "2 NA                 2          30          15       0         225404981      \n",
       "3 NA                 1           5           5       0         323941649      \n",
       "4 NA                 1           5           5       0         244331895      \n",
       "5 NA                 1           5           5       0         229331376      \n",
       "6 NA                 1           5           5       0         323938864      \n",
       "  renew_type autorenew_type renewal_status renew_date renew_arpt gibb_score\n",
       "1 transfer   NA             Renewed        2020-01-14 25         7.19      \n",
       "2 transfer   NA             Renewed        2019-08-27 25         5.42      \n",
       "3 renewal    NA             Renewed        2020-06-22 25         6.99      \n",
       "4 renewal    NA             Renewed        2019-10-28 25         4.32      \n",
       "5 renewal    NA             Renewed        2019-09-09 25         3.66      \n",
       "6 renewal    NA             Renewed        2020-06-22 25         1.96      \n",
       "  pattern                   pattern_domain_count day_domains sld_length\n",
       "1 preciodeloro              1                    66          12        \n",
       "2 advance7                  1                    73           8        \n",
       "3 stellenanzeigen-on-demand 1                    61          25        \n",
       "4 colmex                    1                    82           6        \n",
       "5 chattaboxforum            1                    65          14        \n",
       "6 jobpodcast                1                    61          10        \n",
       "  sld_type sld_type2  tld    region    log_reg_arpt tld_registrar_index\n",
       "1 l        12l        online Non China 1.609438     online1&1 internet \n",
       "2 ln       8ln        online Non China 2.708050     online1&1 internet \n",
       "3 hyphen-l 25hyphen-l online Non China 1.609438     online1&1 internet \n",
       "4 l        6l         online Non China 1.609438     online1&1 internet \n",
       "5 l        14l        online Non China 1.609438     online1&1 internet \n",
       "6 l        10l        online Non China 1.609438     online1&1 internet \n",
       "  reseller_geo\n",
       "1 EU          \n",
       "2 EU          \n",
       "3 EU          \n",
       "4 EU          \n",
       "5 EU          \n",
       "6 EU          "
      ]
     },
     "metadata": {},
     "output_type": "display_data"
    }
   ],
   "source": [
    "expiry_new_df <- readRDS(file.path(outputDir,\"expiry_20200902_20201102_20201127\"))\n",
    "geoLookupDF <- read.csv(\"/home/jupyter/Domains_202003/data/input/PredictiveModelAnalysis_ResellerGeoMap.csv\")\n",
    "\n",
    "expiry_new_df <- expiry_new_df %>% filter(expiry_date < \"2020-10-08\")\n",
    "expiry_new_df <- expiry_new_df %>% filter(!is.na(gibb_score))\n",
    "expiry_new_df <- expiry_new_df %>% mutate (reg_arpt = ifelse(reg_arpt <= 0, 0.0001,reg_arpt),\n",
    "                                   log_reg_arpt = log(reg_arpt),\n",
    "                                   tld_registrar_index = tolower(paste(tld, reseller,sep=\"\")))\n",
    "expiry_new_df <- geo_suppl(expiry_new_df, geoLookupDF = geoLookupDF)\n",
    "\n",
    "dim(expiry_new_df)\n",
    "head(expiry_new_df)"
   ]
  },
  {
   "cell_type": "code",
   "execution_count": 10,
   "metadata": {},
   "outputs": [
    {
     "data": {
      "text/html": [
       "1605"
      ],
      "text/latex": [
       "1605"
      ],
      "text/markdown": [
       "1605"
      ],
      "text/plain": [
       "[1] 1605"
      ]
     },
     "metadata": {},
     "output_type": "display_data"
    }
   ],
   "source": [
    "expiry_new_df %>% distinct((tld_registrar_index)) %>% nrow()"
   ]
  },
  {
   "cell_type": "code",
   "execution_count": 11,
   "metadata": {},
   "outputs": [
    {
     "data": {
      "text/html": [
       "<style>\n",
       ".list-inline {list-style: none; margin:0; padding: 0}\n",
       ".list-inline>li {display: inline-block}\n",
       ".list-inline>li:not(:last-child)::after {content: \"\\00b7\"; padding: 0 .5ex}\n",
       "</style>\n",
       "<ol class=list-inline><li>535698</li><li>37</li></ol>\n"
      ],
      "text/latex": [
       "\\begin{enumerate*}\n",
       "\\item 535698\n",
       "\\item 37\n",
       "\\end{enumerate*}\n"
      ],
      "text/markdown": [
       "1. 535698\n",
       "2. 37\n",
       "\n",
       "\n"
      ],
      "text/plain": [
       "[1] 535698     37"
      ]
     },
     "metadata": {},
     "output_type": "display_data"
    },
    {
     "data": {
      "text/html": [
       "<table>\n",
       "<caption>A data.frame: 6 × 37</caption>\n",
       "<thead>\n",
       "\t<tr><th></th><th scope=col>X</th><th scope=col>reseller</th><th scope=col>reseller_country</th><th scope=col>renewal_type</th><th scope=col>renewed_count</th><th scope=col>expiry_date</th><th scope=col>creation_date</th><th scope=col>status</th><th scope=col>domain_id</th><th scope=col>domain</th><th scope=col>registrar</th><th scope=col>registrant_country</th><th scope=col>reg_period</th><th scope=col>reg_revenue</th><th scope=col>reg_arpt</th><th scope=col>renew_mbg</th><th scope=col>renewal_item_id</th><th scope=col>renew_type</th><th scope=col>autorenew_type</th><th scope=col>renewal_status</th><th scope=col>renew_date</th><th scope=col>renew_arpt</th><th scope=col>gibb_score</th><th scope=col>pattern</th><th scope=col>pattern_domain_count</th><th scope=col>day_domains</th><th scope=col>sld_length</th><th scope=col>sld_type</th><th scope=col>sld_type2</th><th scope=col>tld</th><th scope=col>region</th><th scope=col>log_reg_arpt</th><th scope=col>tld_registrar_index</th><th scope=col>reseller_geo</th><th scope=col>actual</th><th scope=col>predicted</th><th scope=col>model</th></tr>\n",
       "\t<tr><th></th><th scope=col>&lt;int&gt;</th><th scope=col>&lt;fct&gt;</th><th scope=col>&lt;fct&gt;</th><th scope=col>&lt;fct&gt;</th><th scope=col>&lt;int&gt;</th><th scope=col>&lt;fct&gt;</th><th scope=col>&lt;fct&gt;</th><th scope=col>&lt;fct&gt;</th><th scope=col>&lt;int&gt;</th><th scope=col>&lt;fct&gt;</th><th scope=col>&lt;fct&gt;</th><th scope=col>&lt;lgl&gt;</th><th scope=col>&lt;int&gt;</th><th scope=col>&lt;dbl&gt;</th><th scope=col>&lt;dbl&gt;</th><th scope=col>&lt;int&gt;</th><th scope=col>&lt;int&gt;</th><th scope=col>&lt;fct&gt;</th><th scope=col>&lt;fct&gt;</th><th scope=col>&lt;fct&gt;</th><th scope=col>&lt;fct&gt;</th><th scope=col>&lt;dbl&gt;</th><th scope=col>&lt;dbl&gt;</th><th scope=col>&lt;fct&gt;</th><th scope=col>&lt;int&gt;</th><th scope=col>&lt;int&gt;</th><th scope=col>&lt;int&gt;</th><th scope=col>&lt;fct&gt;</th><th scope=col>&lt;fct&gt;</th><th scope=col>&lt;fct&gt;</th><th scope=col>&lt;fct&gt;</th><th scope=col>&lt;dbl&gt;</th><th scope=col>&lt;fct&gt;</th><th scope=col>&lt;fct&gt;</th><th scope=col>&lt;fct&gt;</th><th scope=col>&lt;dbl&gt;</th><th scope=col>&lt;fct&gt;</th></tr>\n",
       "</thead>\n",
       "<tbody>\n",
       "\t<tr><th scope=row>1</th><td>1</td><td>1API   </td><td>Germany</td><td>Subsequent</td><td>3</td><td>2020-09-29</td><td>2017-09-29</td><td>Active</td><td>53188623</td><td>sla.fun    </td><td>1API   </td><td>NA</td><td>1</td><td>15</td><td>15</td><td>0</td><td>        0</td><td>NA     </td><td>NA</td><td>Not Renewd</td><td>NA        </td><td>NA</td><td>3.06</td><td>sla    </td><td>1</td><td> 1</td><td>3</td><td>l        </td><td>3l        </td><td>fun</td><td>Non China</td><td>2.708050</td><td>fun1api   </td><td>EU   </td><td>Not Renewd</td><td>0.5988058</td><td>preds_agg_rf_ALL</td></tr>\n",
       "\t<tr><th scope=row>2</th><td>2</td><td>1API   </td><td>Germany</td><td>Second    </td><td>2</td><td>2020-10-05</td><td>2018-10-05</td><td>Active</td><td>78340684</td><td>rodzina.fun</td><td>1API   </td><td>NA</td><td>1</td><td>15</td><td>15</td><td>0</td><td>        0</td><td>NA     </td><td>NA</td><td>Not Renewd</td><td>NA        </td><td>NA</td><td>2.09</td><td>rodzina</td><td>1</td><td> 1</td><td>7</td><td>l        </td><td>7l        </td><td>fun</td><td>Non China</td><td>2.708050</td><td>fun1api   </td><td>EU   </td><td>Not Renewd</td><td>0.8564813</td><td>preds_agg_rf_ALL</td></tr>\n",
       "\t<tr><th scope=row>3</th><td>3</td><td>Alibaba</td><td>China  </td><td>Second    </td><td>2</td><td>2020-09-12</td><td>2018-09-12</td><td>Active</td><td>76434689</td><td>1-zhao.fun </td><td>Alibaba</td><td>NA</td><td>1</td><td> 6</td><td> 6</td><td>0</td><td>331046579</td><td>renewal</td><td>NA</td><td>Renewed   </td><td>2020-07-21</td><td> 6</td><td>1.28</td><td>1-zhao </td><td>1</td><td>47</td><td>6</td><td>hyphen-ln</td><td>6hyphen-ln</td><td>fun</td><td>China    </td><td>1.791759</td><td>funalibaba</td><td>China</td><td>Renewed   </td><td>0.1398346</td><td>preds_agg_rf_ALL</td></tr>\n",
       "\t<tr><th scope=row>4</th><td>4</td><td>Alibaba</td><td>China  </td><td>Second    </td><td>2</td><td>2020-09-06</td><td>2018-09-06</td><td>Active</td><td>75994739</td><td>leafapp.fun</td><td>Alibaba</td><td>NA</td><td>1</td><td> 6</td><td> 6</td><td>0</td><td>331771244</td><td>renewal</td><td>NA</td><td>Renewed   </td><td>2020-07-24</td><td> 6</td><td>4.20</td><td>leafapp</td><td>1</td><td>46</td><td>7</td><td>l        </td><td>7l        </td><td>fun</td><td>China    </td><td>1.791759</td><td>funalibaba</td><td>China</td><td>Renewed   </td><td>0.1979831</td><td>preds_agg_rf_ALL</td></tr>\n",
       "\t<tr><th scope=row>5</th><td>5</td><td>Alibaba</td><td>China  </td><td>Second    </td><td>2</td><td>2020-09-24</td><td>2018-09-24</td><td>Active</td><td>77302744</td><td>icc.fun    </td><td>Alibaba</td><td>NA</td><td>1</td><td> 6</td><td> 6</td><td>0</td><td>336522899</td><td>renewal</td><td>NA</td><td>Renewed   </td><td>2020-08-11</td><td> 6</td><td>3.63</td><td>icc    </td><td>1</td><td>20</td><td>3</td><td>l        </td><td>3l        </td><td>fun</td><td>China    </td><td>1.791759</td><td>funalibaba</td><td>China</td><td>Renewed   </td><td>0.2805935</td><td>preds_agg_rf_ALL</td></tr>\n",
       "\t<tr><th scope=row>6</th><td>6</td><td>Alibaba</td><td>China  </td><td>Second    </td><td>2</td><td>2020-09-04</td><td>2018-09-04</td><td>Active</td><td>75791344</td><td>sgzx.fun   </td><td>Alibaba</td><td>NA</td><td>1</td><td> 6</td><td> 6</td><td>0</td><td>327584139</td><td>renewal</td><td>NA</td><td>Renewed   </td><td>2020-07-07</td><td> 6</td><td>0.06</td><td>sgzx   </td><td>1</td><td>85</td><td>4</td><td>l        </td><td>4l        </td><td>fun</td><td>China    </td><td>1.791759</td><td>funalibaba</td><td>China</td><td>Renewed   </td><td>0.1995516</td><td>preds_agg_rf_ALL</td></tr>\n",
       "</tbody>\n",
       "</table>\n"
      ],
      "text/latex": [
       "A data.frame: 6 × 37\n",
       "\\begin{tabular}{r|lllllllllllllllllllllllllllllllllllll}\n",
       "  & X & reseller & reseller\\_country & renewal\\_type & renewed\\_count & expiry\\_date & creation\\_date & status & domain\\_id & domain & registrar & registrant\\_country & reg\\_period & reg\\_revenue & reg\\_arpt & renew\\_mbg & renewal\\_item\\_id & renew\\_type & autorenew\\_type & renewal\\_status & renew\\_date & renew\\_arpt & gibb\\_score & pattern & pattern\\_domain\\_count & day\\_domains & sld\\_length & sld\\_type & sld\\_type2 & tld & region & log\\_reg\\_arpt & tld\\_registrar\\_index & reseller\\_geo & actual & predicted & model\\\\\n",
       "  & <int> & <fct> & <fct> & <fct> & <int> & <fct> & <fct> & <fct> & <int> & <fct> & <fct> & <lgl> & <int> & <dbl> & <dbl> & <int> & <int> & <fct> & <fct> & <fct> & <fct> & <dbl> & <dbl> & <fct> & <int> & <int> & <int> & <fct> & <fct> & <fct> & <fct> & <dbl> & <fct> & <fct> & <fct> & <dbl> & <fct>\\\\\n",
       "\\hline\n",
       "\t1 & 1 & 1API    & Germany & Subsequent & 3 & 2020-09-29 & 2017-09-29 & Active & 53188623 & sla.fun     & 1API    & NA & 1 & 15 & 15 & 0 &         0 & NA      & NA & Not Renewd & NA         & NA & 3.06 & sla     & 1 &  1 & 3 & l         & 3l         & fun & Non China & 2.708050 & fun1api    & EU    & Not Renewd & 0.5988058 & preds\\_agg\\_rf\\_ALL\\\\\n",
       "\t2 & 2 & 1API    & Germany & Second     & 2 & 2020-10-05 & 2018-10-05 & Active & 78340684 & rodzina.fun & 1API    & NA & 1 & 15 & 15 & 0 &         0 & NA      & NA & Not Renewd & NA         & NA & 2.09 & rodzina & 1 &  1 & 7 & l         & 7l         & fun & Non China & 2.708050 & fun1api    & EU    & Not Renewd & 0.8564813 & preds\\_agg\\_rf\\_ALL\\\\\n",
       "\t3 & 3 & Alibaba & China   & Second     & 2 & 2020-09-12 & 2018-09-12 & Active & 76434689 & 1-zhao.fun  & Alibaba & NA & 1 &  6 &  6 & 0 & 331046579 & renewal & NA & Renewed    & 2020-07-21 &  6 & 1.28 & 1-zhao  & 1 & 47 & 6 & hyphen-ln & 6hyphen-ln & fun & China     & 1.791759 & funalibaba & China & Renewed    & 0.1398346 & preds\\_agg\\_rf\\_ALL\\\\\n",
       "\t4 & 4 & Alibaba & China   & Second     & 2 & 2020-09-06 & 2018-09-06 & Active & 75994739 & leafapp.fun & Alibaba & NA & 1 &  6 &  6 & 0 & 331771244 & renewal & NA & Renewed    & 2020-07-24 &  6 & 4.20 & leafapp & 1 & 46 & 7 & l         & 7l         & fun & China     & 1.791759 & funalibaba & China & Renewed    & 0.1979831 & preds\\_agg\\_rf\\_ALL\\\\\n",
       "\t5 & 5 & Alibaba & China   & Second     & 2 & 2020-09-24 & 2018-09-24 & Active & 77302744 & icc.fun     & Alibaba & NA & 1 &  6 &  6 & 0 & 336522899 & renewal & NA & Renewed    & 2020-08-11 &  6 & 3.63 & icc     & 1 & 20 & 3 & l         & 3l         & fun & China     & 1.791759 & funalibaba & China & Renewed    & 0.2805935 & preds\\_agg\\_rf\\_ALL\\\\\n",
       "\t6 & 6 & Alibaba & China   & Second     & 2 & 2020-09-04 & 2018-09-04 & Active & 75791344 & sgzx.fun    & Alibaba & NA & 1 &  6 &  6 & 0 & 327584139 & renewal & NA & Renewed    & 2020-07-07 &  6 & 0.06 & sgzx    & 1 & 85 & 4 & l         & 4l         & fun & China     & 1.791759 & funalibaba & China & Renewed    & 0.1995516 & preds\\_agg\\_rf\\_ALL\\\\\n",
       "\\end{tabular}\n"
      ],
      "text/markdown": [
       "\n",
       "A data.frame: 6 × 37\n",
       "\n",
       "| <!--/--> | X &lt;int&gt; | reseller &lt;fct&gt; | reseller_country &lt;fct&gt; | renewal_type &lt;fct&gt; | renewed_count &lt;int&gt; | expiry_date &lt;fct&gt; | creation_date &lt;fct&gt; | status &lt;fct&gt; | domain_id &lt;int&gt; | domain &lt;fct&gt; | registrar &lt;fct&gt; | registrant_country &lt;lgl&gt; | reg_period &lt;int&gt; | reg_revenue &lt;dbl&gt; | reg_arpt &lt;dbl&gt; | renew_mbg &lt;int&gt; | renewal_item_id &lt;int&gt; | renew_type &lt;fct&gt; | autorenew_type &lt;fct&gt; | renewal_status &lt;fct&gt; | renew_date &lt;fct&gt; | renew_arpt &lt;dbl&gt; | gibb_score &lt;dbl&gt; | pattern &lt;fct&gt; | pattern_domain_count &lt;int&gt; | day_domains &lt;int&gt; | sld_length &lt;int&gt; | sld_type &lt;fct&gt; | sld_type2 &lt;fct&gt; | tld &lt;fct&gt; | region &lt;fct&gt; | log_reg_arpt &lt;dbl&gt; | tld_registrar_index &lt;fct&gt; | reseller_geo &lt;fct&gt; | actual &lt;fct&gt; | predicted &lt;dbl&gt; | model &lt;fct&gt; |\n",
       "|---|---|---|---|---|---|---|---|---|---|---|---|---|---|---|---|---|---|---|---|---|---|---|---|---|---|---|---|---|---|---|---|---|---|---|---|---|---|\n",
       "| 1 | 1 | 1API    | Germany | Subsequent | 3 | 2020-09-29 | 2017-09-29 | Active | 53188623 | sla.fun     | 1API    | NA | 1 | 15 | 15 | 0 |         0 | NA      | NA | Not Renewd | NA         | NA | 3.06 | sla     | 1 |  1 | 3 | l         | 3l         | fun | Non China | 2.708050 | fun1api    | EU    | Not Renewd | 0.5988058 | preds_agg_rf_ALL |\n",
       "| 2 | 2 | 1API    | Germany | Second     | 2 | 2020-10-05 | 2018-10-05 | Active | 78340684 | rodzina.fun | 1API    | NA | 1 | 15 | 15 | 0 |         0 | NA      | NA | Not Renewd | NA         | NA | 2.09 | rodzina | 1 |  1 | 7 | l         | 7l         | fun | Non China | 2.708050 | fun1api    | EU    | Not Renewd | 0.8564813 | preds_agg_rf_ALL |\n",
       "| 3 | 3 | Alibaba | China   | Second     | 2 | 2020-09-12 | 2018-09-12 | Active | 76434689 | 1-zhao.fun  | Alibaba | NA | 1 |  6 |  6 | 0 | 331046579 | renewal | NA | Renewed    | 2020-07-21 |  6 | 1.28 | 1-zhao  | 1 | 47 | 6 | hyphen-ln | 6hyphen-ln | fun | China     | 1.791759 | funalibaba | China | Renewed    | 0.1398346 | preds_agg_rf_ALL |\n",
       "| 4 | 4 | Alibaba | China   | Second     | 2 | 2020-09-06 | 2018-09-06 | Active | 75994739 | leafapp.fun | Alibaba | NA | 1 |  6 |  6 | 0 | 331771244 | renewal | NA | Renewed    | 2020-07-24 |  6 | 4.20 | leafapp | 1 | 46 | 7 | l         | 7l         | fun | China     | 1.791759 | funalibaba | China | Renewed    | 0.1979831 | preds_agg_rf_ALL |\n",
       "| 5 | 5 | Alibaba | China   | Second     | 2 | 2020-09-24 | 2018-09-24 | Active | 77302744 | icc.fun     | Alibaba | NA | 1 |  6 |  6 | 0 | 336522899 | renewal | NA | Renewed    | 2020-08-11 |  6 | 3.63 | icc     | 1 | 20 | 3 | l         | 3l         | fun | China     | 1.791759 | funalibaba | China | Renewed    | 0.2805935 | preds_agg_rf_ALL |\n",
       "| 6 | 6 | Alibaba | China   | Second     | 2 | 2020-09-04 | 2018-09-04 | Active | 75791344 | sgzx.fun    | Alibaba | NA | 1 |  6 |  6 | 0 | 327584139 | renewal | NA | Renewed    | 2020-07-07 |  6 | 0.06 | sgzx    | 1 | 85 | 4 | l         | 4l         | fun | China     | 1.791759 | funalibaba | China | Renewed    | 0.1995516 | preds_agg_rf_ALL |\n",
       "\n"
      ],
      "text/plain": [
       "  X reseller reseller_country renewal_type renewed_count expiry_date\n",
       "1 1 1API     Germany          Subsequent   3             2020-09-29 \n",
       "2 2 1API     Germany          Second       2             2020-10-05 \n",
       "3 3 Alibaba  China            Second       2             2020-09-12 \n",
       "4 4 Alibaba  China            Second       2             2020-09-06 \n",
       "5 5 Alibaba  China            Second       2             2020-09-24 \n",
       "6 6 Alibaba  China            Second       2             2020-09-04 \n",
       "  creation_date status domain_id domain      registrar registrant_country\n",
       "1 2017-09-29    Active 53188623  sla.fun     1API      NA                \n",
       "2 2018-10-05    Active 78340684  rodzina.fun 1API      NA                \n",
       "3 2018-09-12    Active 76434689  1-zhao.fun  Alibaba   NA                \n",
       "4 2018-09-06    Active 75994739  leafapp.fun Alibaba   NA                \n",
       "5 2018-09-24    Active 77302744  icc.fun     Alibaba   NA                \n",
       "6 2018-09-04    Active 75791344  sgzx.fun    Alibaba   NA                \n",
       "  reg_period reg_revenue reg_arpt renew_mbg renewal_item_id renew_type\n",
       "1 1          15          15       0                 0       NA        \n",
       "2 1          15          15       0                 0       NA        \n",
       "3 1           6           6       0         331046579       renewal   \n",
       "4 1           6           6       0         331771244       renewal   \n",
       "5 1           6           6       0         336522899       renewal   \n",
       "6 1           6           6       0         327584139       renewal   \n",
       "  autorenew_type renewal_status renew_date renew_arpt gibb_score pattern\n",
       "1 NA             Not Renewd     NA         NA         3.06       sla    \n",
       "2 NA             Not Renewd     NA         NA         2.09       rodzina\n",
       "3 NA             Renewed        2020-07-21  6         1.28       1-zhao \n",
       "4 NA             Renewed        2020-07-24  6         4.20       leafapp\n",
       "5 NA             Renewed        2020-08-11  6         3.63       icc    \n",
       "6 NA             Renewed        2020-07-07  6         0.06       sgzx   \n",
       "  pattern_domain_count day_domains sld_length sld_type  sld_type2  tld\n",
       "1 1                     1          3          l         3l         fun\n",
       "2 1                     1          7          l         7l         fun\n",
       "3 1                    47          6          hyphen-ln 6hyphen-ln fun\n",
       "4 1                    46          7          l         7l         fun\n",
       "5 1                    20          3          l         3l         fun\n",
       "6 1                    85          4          l         4l         fun\n",
       "  region    log_reg_arpt tld_registrar_index reseller_geo actual     predicted\n",
       "1 Non China 2.708050     fun1api             EU           Not Renewd 0.5988058\n",
       "2 Non China 2.708050     fun1api             EU           Not Renewd 0.8564813\n",
       "3 China     1.791759     funalibaba          China        Renewed    0.1398346\n",
       "4 China     1.791759     funalibaba          China        Renewed    0.1979831\n",
       "5 China     1.791759     funalibaba          China        Renewed    0.2805935\n",
       "6 China     1.791759     funalibaba          China        Renewed    0.1995516\n",
       "  model           \n",
       "1 preds_agg_rf_ALL\n",
       "2 preds_agg_rf_ALL\n",
       "3 preds_agg_rf_ALL\n",
       "4 preds_agg_rf_ALL\n",
       "5 preds_agg_rf_ALL\n",
       "6 preds_agg_rf_ALL"
      ]
     },
     "metadata": {},
     "output_type": "display_data"
    }
   ],
   "source": [
    "meta_preds <- read.csv(file.path(outputDir, 'meta_preds', 'meta_preds.csv'))\n",
    "dim(meta_preds)\n",
    "head(meta_preds)"
   ]
  },
  {
   "cell_type": "code",
   "execution_count": 12,
   "metadata": {},
   "outputs": [
    {
     "data": {
      "text/html": [
       "1605"
      ],
      "text/latex": [
       "1605"
      ],
      "text/markdown": [
       "1605"
      ],
      "text/plain": [
       "[1] 1605"
      ]
     },
     "metadata": {},
     "output_type": "display_data"
    }
   ],
   "source": [
    "meta_preds %>% distinct((tld_registrar_index)) %>% nrow()"
   ]
  },
  {
   "cell_type": "markdown",
   "metadata": {},
   "source": [
    "# Load model predictions on new data pull"
   ]
  },
  {
   "cell_type": "code",
   "execution_count": 13,
   "metadata": {},
   "outputs": [
    {
     "data": {
      "text/html": [
       "<table>\n",
       "<caption>A data.frame: 6 × 41</caption>\n",
       "<thead>\n",
       "\t<tr><th></th><th scope=col>reseller</th><th scope=col>reseller_country</th><th scope=col>renewal_type</th><th scope=col>renewed_count</th><th scope=col>expiry_date</th><th scope=col>creation_date</th><th scope=col>status</th><th scope=col>domain_id</th><th scope=col>domain</th><th scope=col>registrar</th><th scope=col>registrant_country</th><th scope=col>reg_period</th><th scope=col>reg_revenue</th><th scope=col>reg_arpt</th><th scope=col>renew_mbg</th><th scope=col>renewal_item_id</th><th scope=col>renew_type</th><th scope=col>autorenew_type</th><th scope=col>renewal_status</th><th scope=col>renew_date</th><th scope=col>renew_arpt</th><th scope=col>gibb_score</th><th scope=col>pattern</th><th scope=col>pattern_domain_count</th><th scope=col>day_domains</th><th scope=col>sld_length</th><th scope=col>sld_type</th><th scope=col>sld_type2</th><th scope=col>tld</th><th scope=col>region</th><th scope=col>log_reg_arpt</th><th scope=col>tld_registrar_index</th><th scope=col>reseller_geo</th><th scope=col>pred_agg_glm_ALL</th><th scope=col>pred_agg_rf_ALL</th><th scope=col>pred_agg_glm</th><th scope=col>pred_agg_rf</th><th scope=col>pred_seg_glm_ALL</th><th scope=col>pred_seg_rf_ALL</th><th scope=col>pred_seg2_glm_ALL</th><th scope=col>pred_seg2_rf_ALL</th></tr>\n",
       "\t<tr><th></th><th scope=col>&lt;fct&gt;</th><th scope=col>&lt;fct&gt;</th><th scope=col>&lt;fct&gt;</th><th scope=col>&lt;int&gt;</th><th scope=col>&lt;fct&gt;</th><th scope=col>&lt;fct&gt;</th><th scope=col>&lt;fct&gt;</th><th scope=col>&lt;int&gt;</th><th scope=col>&lt;fct&gt;</th><th scope=col>&lt;fct&gt;</th><th scope=col>&lt;lgl&gt;</th><th scope=col>&lt;int&gt;</th><th scope=col>&lt;dbl&gt;</th><th scope=col>&lt;dbl&gt;</th><th scope=col>&lt;int&gt;</th><th scope=col>&lt;int&gt;</th><th scope=col>&lt;fct&gt;</th><th scope=col>&lt;fct&gt;</th><th scope=col>&lt;fct&gt;</th><th scope=col>&lt;fct&gt;</th><th scope=col>&lt;dbl&gt;</th><th scope=col>&lt;dbl&gt;</th><th scope=col>&lt;fct&gt;</th><th scope=col>&lt;int&gt;</th><th scope=col>&lt;int&gt;</th><th scope=col>&lt;int&gt;</th><th scope=col>&lt;fct&gt;</th><th scope=col>&lt;fct&gt;</th><th scope=col>&lt;fct&gt;</th><th scope=col>&lt;fct&gt;</th><th scope=col>&lt;dbl&gt;</th><th scope=col>&lt;fct&gt;</th><th scope=col>&lt;fct&gt;</th><th scope=col>&lt;dbl&gt;</th><th scope=col>&lt;dbl&gt;</th><th scope=col>&lt;dbl&gt;</th><th scope=col>&lt;dbl&gt;</th><th scope=col>&lt;dbl&gt;</th><th scope=col>&lt;dbl&gt;</th><th scope=col>&lt;dbl&gt;</th><th scope=col>&lt;dbl&gt;</th></tr>\n",
       "</thead>\n",
       "<tbody>\n",
       "\t<tr><th scope=row>1</th><td>1&amp;1 Internet</td><td>Germany</td><td>FirstTime</td><td>1</td><td>2020-09-17</td><td>2019-09-17</td><td>Active</td><td>129547106</td><td><span style=white-space:pre-wrap>preciodeloro.online             </span></td><td>1&amp;1 Internet</td><td>NA</td><td>1</td><td> 5</td><td> 5</td><td>0</td><td>279480871</td><td>transfer</td><td>NA</td><td>Renewed</td><td>2020-01-14</td><td>25</td><td>7.19</td><td><span style=white-space:pre-wrap>preciodeloro             </span></td><td>1</td><td>66</td><td>12</td><td><span style=white-space:pre-wrap>l       </span></td><td><span style=white-space:pre-wrap>12l       </span></td><td>online</td><td>Non China</td><td>1.609438</td><td>online1&amp;1 internet</td><td>EU</td><td>0.588</td><td>0.5921809</td><td>0.574</td><td>0.5846861</td><td>0.554</td><td>0.5702239</td><td>0.5438008</td><td>0.5917278</td></tr>\n",
       "\t<tr><th scope=row>2</th><td>1&amp;1 Internet</td><td>Germany</td><td>FirstTime</td><td>1</td><td>2020-09-10</td><td>2018-09-10</td><td>Active</td><td> 76285079</td><td><span style=white-space:pre-wrap>advance7.online                 </span></td><td>1&amp;1 Internet</td><td>NA</td><td>2</td><td>30</td><td>15</td><td>0</td><td>225404981</td><td>transfer</td><td>NA</td><td>Renewed</td><td>2019-08-27</td><td>25</td><td>5.42</td><td><span style=white-space:pre-wrap>advance7                 </span></td><td>1</td><td>73</td><td> 8</td><td><span style=white-space:pre-wrap>ln      </span></td><td><span style=white-space:pre-wrap>8ln       </span></td><td>online</td><td>Non China</td><td>2.708050</td><td>online1&amp;1 internet</td><td>EU</td><td>0.572</td><td>0.6141844</td><td>0.562</td><td>0.6244877</td><td>0.484</td><td>0.6159490</td><td>0.4851443</td><td>0.6179782</td></tr>\n",
       "\t<tr><th scope=row>3</th><td>1&amp;1 Internet</td><td>Germany</td><td>FirstTime</td><td>1</td><td>2020-10-02</td><td>2019-10-02</td><td>Active</td><td>132626216</td><td>stellenanzeigen-on-demand.online</td><td>1&amp;1 Internet</td><td>NA</td><td>1</td><td> 5</td><td> 5</td><td>0</td><td>323941649</td><td>renewal </td><td>NA</td><td>Renewed</td><td>2020-06-22</td><td>25</td><td>6.99</td><td>stellenanzeigen-on-demand</td><td>1</td><td>61</td><td>25</td><td>hyphen-l</td><td>25hyphen-l</td><td>online</td><td>Non China</td><td>1.609438</td><td>online1&amp;1 internet</td><td>EU</td><td>0.552</td><td>0.5986996</td><td>0.545</td><td>0.5923937</td><td>0.586</td><td>0.6187455</td><td>0.5799558</td><td>0.6340684</td></tr>\n",
       "\t<tr><th scope=row>4</th><td>1&amp;1 Internet</td><td>Germany</td><td>FirstTime</td><td>1</td><td>2020-09-07</td><td>2019-09-07</td><td>Active</td><td>127423021</td><td><span style=white-space:pre-wrap>colmex.online                   </span></td><td>1&amp;1 Internet</td><td>NA</td><td>1</td><td> 5</td><td> 5</td><td>0</td><td>244331895</td><td>renewal </td><td>NA</td><td>Renewed</td><td>2019-10-28</td><td>25</td><td>4.32</td><td><span style=white-space:pre-wrap>colmex                   </span></td><td>1</td><td>82</td><td> 6</td><td><span style=white-space:pre-wrap>l       </span></td><td><span style=white-space:pre-wrap>6l        </span></td><td>online</td><td>Non China</td><td>1.609438</td><td>online1&amp;1 internet</td><td>EU</td><td>0.602</td><td>0.4743705</td><td>0.586</td><td>0.4799012</td><td>0.578</td><td>0.4853137</td><td>0.5700971</td><td>0.4702835</td></tr>\n",
       "\t<tr><th scope=row>5</th><td>1&amp;1 Internet</td><td>Germany</td><td>FirstTime</td><td>1</td><td>2020-09-08</td><td>2019-09-08</td><td>Active</td><td>127588571</td><td><span style=white-space:pre-wrap>chattaboxforum.online           </span></td><td>1&amp;1 Internet</td><td>NA</td><td>1</td><td> 5</td><td> 5</td><td>0</td><td>229331376</td><td>renewal </td><td>NA</td><td>Renewed</td><td>2019-09-09</td><td>25</td><td>3.66</td><td><span style=white-space:pre-wrap>chattaboxforum           </span></td><td>1</td><td>65</td><td>14</td><td><span style=white-space:pre-wrap>l       </span></td><td><span style=white-space:pre-wrap>14l       </span></td><td>online</td><td>Non China</td><td>1.609438</td><td>online1&amp;1 internet</td><td>EU</td><td>0.568</td><td>0.4919164</td><td>0.553</td><td>0.4825344</td><td>0.554</td><td>0.4803202</td><td>0.5428917</td><td>0.4597726</td></tr>\n",
       "\t<tr><th scope=row>6</th><td>1&amp;1 Internet</td><td>Germany</td><td>FirstTime</td><td>1</td><td>2020-10-02</td><td>2019-10-02</td><td>Active</td><td>132629291</td><td><span style=white-space:pre-wrap>jobpodcast.online               </span></td><td>1&amp;1 Internet</td><td>NA</td><td>1</td><td> 5</td><td> 5</td><td>0</td><td>323938864</td><td>renewal </td><td>NA</td><td>Renewed</td><td>2020-06-22</td><td>25</td><td>1.96</td><td><span style=white-space:pre-wrap>jobpodcast               </span></td><td>1</td><td>61</td><td>10</td><td><span style=white-space:pre-wrap>l       </span></td><td><span style=white-space:pre-wrap>10l       </span></td><td>online</td><td>Non China</td><td>1.609438</td><td>online1&amp;1 internet</td><td>EU</td><td>0.582</td><td>0.6497964</td><td>0.566</td><td>0.6369012</td><td>0.571</td><td>0.5675839</td><td>0.5590710</td><td>0.6092187</td></tr>\n",
       "</tbody>\n",
       "</table>\n"
      ],
      "text/latex": [
       "A data.frame: 6 × 41\n",
       "\\begin{tabular}{r|lllllllllllllllllllllllllllllllllllllllll}\n",
       "  & reseller & reseller\\_country & renewal\\_type & renewed\\_count & expiry\\_date & creation\\_date & status & domain\\_id & domain & registrar & registrant\\_country & reg\\_period & reg\\_revenue & reg\\_arpt & renew\\_mbg & renewal\\_item\\_id & renew\\_type & autorenew\\_type & renewal\\_status & renew\\_date & renew\\_arpt & gibb\\_score & pattern & pattern\\_domain\\_count & day\\_domains & sld\\_length & sld\\_type & sld\\_type2 & tld & region & log\\_reg\\_arpt & tld\\_registrar\\_index & reseller\\_geo & pred\\_agg\\_glm\\_ALL & pred\\_agg\\_rf\\_ALL & pred\\_agg\\_glm & pred\\_agg\\_rf & pred\\_seg\\_glm\\_ALL & pred\\_seg\\_rf\\_ALL & pred\\_seg2\\_glm\\_ALL & pred\\_seg2\\_rf\\_ALL\\\\\n",
       "  & <fct> & <fct> & <fct> & <int> & <fct> & <fct> & <fct> & <int> & <fct> & <fct> & <lgl> & <int> & <dbl> & <dbl> & <int> & <int> & <fct> & <fct> & <fct> & <fct> & <dbl> & <dbl> & <fct> & <int> & <int> & <int> & <fct> & <fct> & <fct> & <fct> & <dbl> & <fct> & <fct> & <dbl> & <dbl> & <dbl> & <dbl> & <dbl> & <dbl> & <dbl> & <dbl>\\\\\n",
       "\\hline\n",
       "\t1 & 1\\&1 Internet & Germany & FirstTime & 1 & 2020-09-17 & 2019-09-17 & Active & 129547106 & preciodeloro.online              & 1\\&1 Internet & NA & 1 &  5 &  5 & 0 & 279480871 & transfer & NA & Renewed & 2020-01-14 & 25 & 7.19 & preciodeloro              & 1 & 66 & 12 & l        & 12l        & online & Non China & 1.609438 & online1\\&1 internet & EU & 0.588 & 0.5921809 & 0.574 & 0.5846861 & 0.554 & 0.5702239 & 0.5438008 & 0.5917278\\\\\n",
       "\t2 & 1\\&1 Internet & Germany & FirstTime & 1 & 2020-09-10 & 2018-09-10 & Active &  76285079 & advance7.online                  & 1\\&1 Internet & NA & 2 & 30 & 15 & 0 & 225404981 & transfer & NA & Renewed & 2019-08-27 & 25 & 5.42 & advance7                  & 1 & 73 &  8 & ln       & 8ln        & online & Non China & 2.708050 & online1\\&1 internet & EU & 0.572 & 0.6141844 & 0.562 & 0.6244877 & 0.484 & 0.6159490 & 0.4851443 & 0.6179782\\\\\n",
       "\t3 & 1\\&1 Internet & Germany & FirstTime & 1 & 2020-10-02 & 2019-10-02 & Active & 132626216 & stellenanzeigen-on-demand.online & 1\\&1 Internet & NA & 1 &  5 &  5 & 0 & 323941649 & renewal  & NA & Renewed & 2020-06-22 & 25 & 6.99 & stellenanzeigen-on-demand & 1 & 61 & 25 & hyphen-l & 25hyphen-l & online & Non China & 1.609438 & online1\\&1 internet & EU & 0.552 & 0.5986996 & 0.545 & 0.5923937 & 0.586 & 0.6187455 & 0.5799558 & 0.6340684\\\\\n",
       "\t4 & 1\\&1 Internet & Germany & FirstTime & 1 & 2020-09-07 & 2019-09-07 & Active & 127423021 & colmex.online                    & 1\\&1 Internet & NA & 1 &  5 &  5 & 0 & 244331895 & renewal  & NA & Renewed & 2019-10-28 & 25 & 4.32 & colmex                    & 1 & 82 &  6 & l        & 6l         & online & Non China & 1.609438 & online1\\&1 internet & EU & 0.602 & 0.4743705 & 0.586 & 0.4799012 & 0.578 & 0.4853137 & 0.5700971 & 0.4702835\\\\\n",
       "\t5 & 1\\&1 Internet & Germany & FirstTime & 1 & 2020-09-08 & 2019-09-08 & Active & 127588571 & chattaboxforum.online            & 1\\&1 Internet & NA & 1 &  5 &  5 & 0 & 229331376 & renewal  & NA & Renewed & 2019-09-09 & 25 & 3.66 & chattaboxforum            & 1 & 65 & 14 & l        & 14l        & online & Non China & 1.609438 & online1\\&1 internet & EU & 0.568 & 0.4919164 & 0.553 & 0.4825344 & 0.554 & 0.4803202 & 0.5428917 & 0.4597726\\\\\n",
       "\t6 & 1\\&1 Internet & Germany & FirstTime & 1 & 2020-10-02 & 2019-10-02 & Active & 132629291 & jobpodcast.online                & 1\\&1 Internet & NA & 1 &  5 &  5 & 0 & 323938864 & renewal  & NA & Renewed & 2020-06-22 & 25 & 1.96 & jobpodcast                & 1 & 61 & 10 & l        & 10l        & online & Non China & 1.609438 & online1\\&1 internet & EU & 0.582 & 0.6497964 & 0.566 & 0.6369012 & 0.571 & 0.5675839 & 0.5590710 & 0.6092187\\\\\n",
       "\\end{tabular}\n"
      ],
      "text/markdown": [
       "\n",
       "A data.frame: 6 × 41\n",
       "\n",
       "| <!--/--> | reseller &lt;fct&gt; | reseller_country &lt;fct&gt; | renewal_type &lt;fct&gt; | renewed_count &lt;int&gt; | expiry_date &lt;fct&gt; | creation_date &lt;fct&gt; | status &lt;fct&gt; | domain_id &lt;int&gt; | domain &lt;fct&gt; | registrar &lt;fct&gt; | registrant_country &lt;lgl&gt; | reg_period &lt;int&gt; | reg_revenue &lt;dbl&gt; | reg_arpt &lt;dbl&gt; | renew_mbg &lt;int&gt; | renewal_item_id &lt;int&gt; | renew_type &lt;fct&gt; | autorenew_type &lt;fct&gt; | renewal_status &lt;fct&gt; | renew_date &lt;fct&gt; | renew_arpt &lt;dbl&gt; | gibb_score &lt;dbl&gt; | pattern &lt;fct&gt; | pattern_domain_count &lt;int&gt; | day_domains &lt;int&gt; | sld_length &lt;int&gt; | sld_type &lt;fct&gt; | sld_type2 &lt;fct&gt; | tld &lt;fct&gt; | region &lt;fct&gt; | log_reg_arpt &lt;dbl&gt; | tld_registrar_index &lt;fct&gt; | reseller_geo &lt;fct&gt; | pred_agg_glm_ALL &lt;dbl&gt; | pred_agg_rf_ALL &lt;dbl&gt; | pred_agg_glm &lt;dbl&gt; | pred_agg_rf &lt;dbl&gt; | pred_seg_glm_ALL &lt;dbl&gt; | pred_seg_rf_ALL &lt;dbl&gt; | pred_seg2_glm_ALL &lt;dbl&gt; | pred_seg2_rf_ALL &lt;dbl&gt; |\n",
       "|---|---|---|---|---|---|---|---|---|---|---|---|---|---|---|---|---|---|---|---|---|---|---|---|---|---|---|---|---|---|---|---|---|---|---|---|---|---|---|---|---|---|\n",
       "| 1 | 1&amp;1 Internet | Germany | FirstTime | 1 | 2020-09-17 | 2019-09-17 | Active | 129547106 | preciodeloro.online              | 1&amp;1 Internet | NA | 1 |  5 |  5 | 0 | 279480871 | transfer | NA | Renewed | 2020-01-14 | 25 | 7.19 | preciodeloro              | 1 | 66 | 12 | l        | 12l        | online | Non China | 1.609438 | online1&amp;1 internet | EU | 0.588 | 0.5921809 | 0.574 | 0.5846861 | 0.554 | 0.5702239 | 0.5438008 | 0.5917278 |\n",
       "| 2 | 1&amp;1 Internet | Germany | FirstTime | 1 | 2020-09-10 | 2018-09-10 | Active |  76285079 | advance7.online                  | 1&amp;1 Internet | NA | 2 | 30 | 15 | 0 | 225404981 | transfer | NA | Renewed | 2019-08-27 | 25 | 5.42 | advance7                  | 1 | 73 |  8 | ln       | 8ln        | online | Non China | 2.708050 | online1&amp;1 internet | EU | 0.572 | 0.6141844 | 0.562 | 0.6244877 | 0.484 | 0.6159490 | 0.4851443 | 0.6179782 |\n",
       "| 3 | 1&amp;1 Internet | Germany | FirstTime | 1 | 2020-10-02 | 2019-10-02 | Active | 132626216 | stellenanzeigen-on-demand.online | 1&amp;1 Internet | NA | 1 |  5 |  5 | 0 | 323941649 | renewal  | NA | Renewed | 2020-06-22 | 25 | 6.99 | stellenanzeigen-on-demand | 1 | 61 | 25 | hyphen-l | 25hyphen-l | online | Non China | 1.609438 | online1&amp;1 internet | EU | 0.552 | 0.5986996 | 0.545 | 0.5923937 | 0.586 | 0.6187455 | 0.5799558 | 0.6340684 |\n",
       "| 4 | 1&amp;1 Internet | Germany | FirstTime | 1 | 2020-09-07 | 2019-09-07 | Active | 127423021 | colmex.online                    | 1&amp;1 Internet | NA | 1 |  5 |  5 | 0 | 244331895 | renewal  | NA | Renewed | 2019-10-28 | 25 | 4.32 | colmex                    | 1 | 82 |  6 | l        | 6l         | online | Non China | 1.609438 | online1&amp;1 internet | EU | 0.602 | 0.4743705 | 0.586 | 0.4799012 | 0.578 | 0.4853137 | 0.5700971 | 0.4702835 |\n",
       "| 5 | 1&amp;1 Internet | Germany | FirstTime | 1 | 2020-09-08 | 2019-09-08 | Active | 127588571 | chattaboxforum.online            | 1&amp;1 Internet | NA | 1 |  5 |  5 | 0 | 229331376 | renewal  | NA | Renewed | 2019-09-09 | 25 | 3.66 | chattaboxforum            | 1 | 65 | 14 | l        | 14l        | online | Non China | 1.609438 | online1&amp;1 internet | EU | 0.568 | 0.4919164 | 0.553 | 0.4825344 | 0.554 | 0.4803202 | 0.5428917 | 0.4597726 |\n",
       "| 6 | 1&amp;1 Internet | Germany | FirstTime | 1 | 2020-10-02 | 2019-10-02 | Active | 132629291 | jobpodcast.online                | 1&amp;1 Internet | NA | 1 |  5 |  5 | 0 | 323938864 | renewal  | NA | Renewed | 2020-06-22 | 25 | 1.96 | jobpodcast                | 1 | 61 | 10 | l        | 10l        | online | Non China | 1.609438 | online1&amp;1 internet | EU | 0.582 | 0.6497964 | 0.566 | 0.6369012 | 0.571 | 0.5675839 | 0.5590710 | 0.6092187 |\n",
       "\n"
      ],
      "text/plain": [
       "  reseller     reseller_country renewal_type renewed_count expiry_date\n",
       "1 1&1 Internet Germany          FirstTime    1             2020-09-17 \n",
       "2 1&1 Internet Germany          FirstTime    1             2020-09-10 \n",
       "3 1&1 Internet Germany          FirstTime    1             2020-10-02 \n",
       "4 1&1 Internet Germany          FirstTime    1             2020-09-07 \n",
       "5 1&1 Internet Germany          FirstTime    1             2020-09-08 \n",
       "6 1&1 Internet Germany          FirstTime    1             2020-10-02 \n",
       "  creation_date status domain_id domain                           registrar   \n",
       "1 2019-09-17    Active 129547106 preciodeloro.online              1&1 Internet\n",
       "2 2018-09-10    Active  76285079 advance7.online                  1&1 Internet\n",
       "3 2019-10-02    Active 132626216 stellenanzeigen-on-demand.online 1&1 Internet\n",
       "4 2019-09-07    Active 127423021 colmex.online                    1&1 Internet\n",
       "5 2019-09-08    Active 127588571 chattaboxforum.online            1&1 Internet\n",
       "6 2019-10-02    Active 132629291 jobpodcast.online                1&1 Internet\n",
       "  registrant_country reg_period reg_revenue reg_arpt renew_mbg renewal_item_id\n",
       "1 NA                 1           5           5       0         279480871      \n",
       "2 NA                 2          30          15       0         225404981      \n",
       "3 NA                 1           5           5       0         323941649      \n",
       "4 NA                 1           5           5       0         244331895      \n",
       "5 NA                 1           5           5       0         229331376      \n",
       "6 NA                 1           5           5       0         323938864      \n",
       "  renew_type autorenew_type renewal_status renew_date renew_arpt gibb_score\n",
       "1 transfer   NA             Renewed        2020-01-14 25         7.19      \n",
       "2 transfer   NA             Renewed        2019-08-27 25         5.42      \n",
       "3 renewal    NA             Renewed        2020-06-22 25         6.99      \n",
       "4 renewal    NA             Renewed        2019-10-28 25         4.32      \n",
       "5 renewal    NA             Renewed        2019-09-09 25         3.66      \n",
       "6 renewal    NA             Renewed        2020-06-22 25         1.96      \n",
       "  pattern                   pattern_domain_count day_domains sld_length\n",
       "1 preciodeloro              1                    66          12        \n",
       "2 advance7                  1                    73           8        \n",
       "3 stellenanzeigen-on-demand 1                    61          25        \n",
       "4 colmex                    1                    82           6        \n",
       "5 chattaboxforum            1                    65          14        \n",
       "6 jobpodcast                1                    61          10        \n",
       "  sld_type sld_type2  tld    region    log_reg_arpt tld_registrar_index\n",
       "1 l        12l        online Non China 1.609438     online1&1 internet \n",
       "2 ln       8ln        online Non China 2.708050     online1&1 internet \n",
       "3 hyphen-l 25hyphen-l online Non China 1.609438     online1&1 internet \n",
       "4 l        6l         online Non China 1.609438     online1&1 internet \n",
       "5 l        14l        online Non China 1.609438     online1&1 internet \n",
       "6 l        10l        online Non China 1.609438     online1&1 internet \n",
       "  reseller_geo pred_agg_glm_ALL pred_agg_rf_ALL pred_agg_glm pred_agg_rf\n",
       "1 EU           0.588            0.5921809       0.574        0.5846861  \n",
       "2 EU           0.572            0.6141844       0.562        0.6244877  \n",
       "3 EU           0.552            0.5986996       0.545        0.5923937  \n",
       "4 EU           0.602            0.4743705       0.586        0.4799012  \n",
       "5 EU           0.568            0.4919164       0.553        0.4825344  \n",
       "6 EU           0.582            0.6497964       0.566        0.6369012  \n",
       "  pred_seg_glm_ALL pred_seg_rf_ALL pred_seg2_glm_ALL pred_seg2_rf_ALL\n",
       "1 0.554            0.5702239       0.5438008         0.5917278       \n",
       "2 0.484            0.6159490       0.4851443         0.6179782       \n",
       "3 0.586            0.6187455       0.5799558         0.6340684       \n",
       "4 0.578            0.4853137       0.5700971         0.4702835       \n",
       "5 0.554            0.4803202       0.5428917         0.4597726       \n",
       "6 0.571            0.5675839       0.5590710         0.6092187       "
      ]
     },
     "metadata": {},
     "output_type": "display_data"
    }
   ],
   "source": [
    "fullDir=outputDir\n",
    "predDir = file.path(fullDir, 'preds')\n",
    "model_preds = read.csv(file.path(predDir, 'preds.csv'))\n",
    "model_preds %>% head()"
   ]
  },
  {
   "cell_type": "code",
   "execution_count": 14,
   "metadata": {},
   "outputs": [
    {
     "data": {
      "text/html": [
       "1605"
      ],
      "text/latex": [
       "1605"
      ],
      "text/markdown": [
       "1605"
      ],
      "text/plain": [
       "[1] 1605"
      ]
     },
     "metadata": {},
     "output_type": "display_data"
    }
   ],
   "source": [
    "model_preds %>% distinct((tld_registrar_index)) %>% nrow()"
   ]
  },
  {
   "cell_type": "markdown",
   "metadata": {},
   "source": [
    "# join Preds"
   ]
  },
  {
   "cell_type": "code",
   "execution_count": 15,
   "metadata": {},
   "outputs": [
    {
     "data": {
      "text/html": [
       "<style>\n",
       ".list-inline {list-style: none; margin:0; padding: 0}\n",
       ".list-inline>li {display: inline-block}\n",
       ".list-inline>li:not(:last-child)::after {content: \"\\00b7\"; padding: 0 .5ex}\n",
       "</style>\n",
       "<ol class=list-inline><li>535698</li><li>37</li></ol>\n"
      ],
      "text/latex": [
       "\\begin{enumerate*}\n",
       "\\item 535698\n",
       "\\item 37\n",
       "\\end{enumerate*}\n"
      ],
      "text/markdown": [
       "1. 535698\n",
       "2. 37\n",
       "\n",
       "\n"
      ],
      "text/plain": [
       "[1] 535698     37"
      ]
     },
     "metadata": {},
     "output_type": "display_data"
    },
    {
     "data": {
      "text/html": [
       "<style>\n",
       ".list-inline {list-style: none; margin:0; padding: 0}\n",
       ".list-inline>li {display: inline-block}\n",
       ".list-inline>li:not(:last-child)::after {content: \"\\00b7\"; padding: 0 .5ex}\n",
       "</style>\n",
       "<ol class=list-inline><li>476586</li><li>41</li></ol>\n"
      ],
      "text/latex": [
       "\\begin{enumerate*}\n",
       "\\item 476586\n",
       "\\item 41\n",
       "\\end{enumerate*}\n"
      ],
      "text/markdown": [
       "1. 476586\n",
       "2. 41\n",
       "\n",
       "\n"
      ],
      "text/plain": [
       "[1] 476586     41"
      ]
     },
     "metadata": {},
     "output_type": "display_data"
    },
    {
     "data": {
      "text/html": [
       "<style>\n",
       ".list-inline {list-style: none; margin:0; padding: 0}\n",
       ".list-inline>li {display: inline-block}\n",
       ".list-inline>li:not(:last-child)::after {content: \"\\00b7\"; padding: 0 .5ex}\n",
       "</style>\n",
       "<ol class=list-inline><li>535698</li><li>43</li></ol>\n"
      ],
      "text/latex": [
       "\\begin{enumerate*}\n",
       "\\item 535698\n",
       "\\item 43\n",
       "\\end{enumerate*}\n"
      ],
      "text/markdown": [
       "1. 535698\n",
       "2. 43\n",
       "\n",
       "\n"
      ],
      "text/plain": [
       "[1] 535698     43"
      ]
     },
     "metadata": {},
     "output_type": "display_data"
    }
   ],
   "source": [
    "preds_all <- inner_join(meta_preds %>% select(domain_id, model, predicted) %>% rename(model_meta = model, pred_meta = predicted), \n",
    "                        model_preds,\n",
    "                        by='domain_id')\n",
    "dim(meta_preds)\n",
    "dim(model_preds)\n",
    "dim(preds_all)"
   ]
  },
  {
   "cell_type": "code",
   "execution_count": 16,
   "metadata": {},
   "outputs": [
    {
     "data": {
      "text/html": [
       "<style>\n",
       ".list-inline {list-style: none; margin:0; padding: 0}\n",
       ".list-inline>li {display: inline-block}\n",
       ".list-inline>li:not(:last-child)::after {content: \"\\00b7\"; padding: 0 .5ex}\n",
       "</style>\n",
       "<ol class=list-inline><li>59112</li><li>2</li></ol>\n"
      ],
      "text/latex": [
       "\\begin{enumerate*}\n",
       "\\item 59112\n",
       "\\item 2\n",
       "\\end{enumerate*}\n"
      ],
      "text/markdown": [
       "1. 59112\n",
       "2. 2\n",
       "\n",
       "\n"
      ],
      "text/plain": [
       "[1] 59112     2"
      ]
     },
     "metadata": {},
     "output_type": "display_data"
    }
   ],
   "source": [
    "dim(preds_all) - dim(model_preds)"
   ]
  },
  {
   "cell_type": "markdown",
   "metadata": {},
   "source": [
    "# Verify data integrity"
   ]
  },
  {
   "cell_type": "code",
   "execution_count": 17,
   "metadata": {},
   "outputs": [
    {
     "name": "stderr",
     "output_type": "stream",
     "text": [
      "Warning message:\n",
      "“`funs()` is deprecated as of dplyr 0.8.0.\n",
      "Please use a list of either functions or lambdas: \n",
      "\n",
      "  # Simple named list: \n",
      "  list(mean = mean, median = median)\n",
      "\n",
      "  # Auto named with `tibble::lst()`: \n",
      "  tibble::lst(mean, median)\n",
      "\n",
      "  # Using lambdas\n",
      "  list(~ mean(., trim = .2), ~ median(., na.rm = TRUE))\n",
      "\u001b[90mThis warning is displayed once every 8 hours.\u001b[39m\n",
      "\u001b[90mCall `lifecycle::last_warnings()` to see where this warning was generated.\u001b[39m”\n"
     ]
    },
    {
     "data": {
      "text/html": [
       "<table>\n",
       "<caption>A matrix: 43 × 1 of type int</caption>\n",
       "<tbody>\n",
       "\t<tr><th scope=row>domain_id</th><td>     0</td></tr>\n",
       "\t<tr><th scope=row>model_meta</th><td>     0</td></tr>\n",
       "\t<tr><th scope=row>pred_meta</th><td>  1126</td></tr>\n",
       "\t<tr><th scope=row>reseller</th><td>     0</td></tr>\n",
       "\t<tr><th scope=row>reseller_country</th><td>     0</td></tr>\n",
       "\t<tr><th scope=row>renewal_type</th><td>     0</td></tr>\n",
       "\t<tr><th scope=row>renewed_count</th><td>     0</td></tr>\n",
       "\t<tr><th scope=row>expiry_date</th><td>     0</td></tr>\n",
       "\t<tr><th scope=row>creation_date</th><td>     0</td></tr>\n",
       "\t<tr><th scope=row>status</th><td>     0</td></tr>\n",
       "\t<tr><th scope=row>domain</th><td>     0</td></tr>\n",
       "\t<tr><th scope=row>registrar</th><td>     0</td></tr>\n",
       "\t<tr><th scope=row>registrant_country</th><td>535698</td></tr>\n",
       "\t<tr><th scope=row>reg_period</th><td>     0</td></tr>\n",
       "\t<tr><th scope=row>reg_revenue</th><td>     0</td></tr>\n",
       "\t<tr><th scope=row>reg_arpt</th><td>     0</td></tr>\n",
       "\t<tr><th scope=row>renew_mbg</th><td>     0</td></tr>\n",
       "\t<tr><th scope=row>renewal_item_id</th><td>     0</td></tr>\n",
       "\t<tr><th scope=row>renew_type</th><td> 59689</td></tr>\n",
       "\t<tr><th scope=row>autorenew_type</th><td> 90759</td></tr>\n",
       "\t<tr><th scope=row>renewal_status</th><td>     0</td></tr>\n",
       "\t<tr><th scope=row>renew_date</th><td> 59689</td></tr>\n",
       "\t<tr><th scope=row>renew_arpt</th><td> 59691</td></tr>\n",
       "\t<tr><th scope=row>gibb_score</th><td>     0</td></tr>\n",
       "\t<tr><th scope=row>pattern</th><td>     0</td></tr>\n",
       "\t<tr><th scope=row>pattern_domain_count</th><td>     0</td></tr>\n",
       "\t<tr><th scope=row>day_domains</th><td>     0</td></tr>\n",
       "\t<tr><th scope=row>sld_length</th><td>     0</td></tr>\n",
       "\t<tr><th scope=row>sld_type</th><td>     0</td></tr>\n",
       "\t<tr><th scope=row>sld_type2</th><td>     0</td></tr>\n",
       "\t<tr><th scope=row>tld</th><td>     0</td></tr>\n",
       "\t<tr><th scope=row>region</th><td>     0</td></tr>\n",
       "\t<tr><th scope=row>log_reg_arpt</th><td>     0</td></tr>\n",
       "\t<tr><th scope=row>tld_registrar_index</th><td>     0</td></tr>\n",
       "\t<tr><th scope=row>reseller_geo</th><td>   122</td></tr>\n",
       "\t<tr><th scope=row>pred_agg_glm_ALL</th><td>   118</td></tr>\n",
       "\t<tr><th scope=row>pred_agg_rf_ALL</th><td>     0</td></tr>\n",
       "\t<tr><th scope=row>pred_agg_glm</th><td> 11830</td></tr>\n",
       "\t<tr><th scope=row>pred_agg_rf</th><td>     0</td></tr>\n",
       "\t<tr><th scope=row>pred_seg_glm_ALL</th><td>   278</td></tr>\n",
       "\t<tr><th scope=row>pred_seg_rf_ALL</th><td>   187</td></tr>\n",
       "\t<tr><th scope=row>pred_seg2_glm_ALL</th><td>  1514</td></tr>\n",
       "\t<tr><th scope=row>pred_seg2_rf_ALL</th><td>   288</td></tr>\n",
       "</tbody>\n",
       "</table>\n"
      ],
      "text/latex": [
       "A matrix: 43 × 1 of type int\n",
       "\\begin{tabular}{r|l}\n",
       "\tdomain\\_id &      0\\\\\n",
       "\tmodel\\_meta &      0\\\\\n",
       "\tpred\\_meta &   1126\\\\\n",
       "\treseller &      0\\\\\n",
       "\treseller\\_country &      0\\\\\n",
       "\trenewal\\_type &      0\\\\\n",
       "\trenewed\\_count &      0\\\\\n",
       "\texpiry\\_date &      0\\\\\n",
       "\tcreation\\_date &      0\\\\\n",
       "\tstatus &      0\\\\\n",
       "\tdomain &      0\\\\\n",
       "\tregistrar &      0\\\\\n",
       "\tregistrant\\_country & 535698\\\\\n",
       "\treg\\_period &      0\\\\\n",
       "\treg\\_revenue &      0\\\\\n",
       "\treg\\_arpt &      0\\\\\n",
       "\trenew\\_mbg &      0\\\\\n",
       "\trenewal\\_item\\_id &      0\\\\\n",
       "\trenew\\_type &  59689\\\\\n",
       "\tautorenew\\_type &  90759\\\\\n",
       "\trenewal\\_status &      0\\\\\n",
       "\trenew\\_date &  59689\\\\\n",
       "\trenew\\_arpt &  59691\\\\\n",
       "\tgibb\\_score &      0\\\\\n",
       "\tpattern &      0\\\\\n",
       "\tpattern\\_domain\\_count &      0\\\\\n",
       "\tday\\_domains &      0\\\\\n",
       "\tsld\\_length &      0\\\\\n",
       "\tsld\\_type &      0\\\\\n",
       "\tsld\\_type2 &      0\\\\\n",
       "\ttld &      0\\\\\n",
       "\tregion &      0\\\\\n",
       "\tlog\\_reg\\_arpt &      0\\\\\n",
       "\ttld\\_registrar\\_index &      0\\\\\n",
       "\treseller\\_geo &    122\\\\\n",
       "\tpred\\_agg\\_glm\\_ALL &    118\\\\\n",
       "\tpred\\_agg\\_rf\\_ALL &      0\\\\\n",
       "\tpred\\_agg\\_glm &  11830\\\\\n",
       "\tpred\\_agg\\_rf &      0\\\\\n",
       "\tpred\\_seg\\_glm\\_ALL &    278\\\\\n",
       "\tpred\\_seg\\_rf\\_ALL &    187\\\\\n",
       "\tpred\\_seg2\\_glm\\_ALL &   1514\\\\\n",
       "\tpred\\_seg2\\_rf\\_ALL &    288\\\\\n",
       "\\end{tabular}\n"
      ],
      "text/markdown": [
       "\n",
       "A matrix: 43 × 1 of type int\n",
       "\n",
       "| domain_id |      0 |\n",
       "| model_meta |      0 |\n",
       "| pred_meta |   1126 |\n",
       "| reseller |      0 |\n",
       "| reseller_country |      0 |\n",
       "| renewal_type |      0 |\n",
       "| renewed_count |      0 |\n",
       "| expiry_date |      0 |\n",
       "| creation_date |      0 |\n",
       "| status |      0 |\n",
       "| domain |      0 |\n",
       "| registrar |      0 |\n",
       "| registrant_country | 535698 |\n",
       "| reg_period |      0 |\n",
       "| reg_revenue |      0 |\n",
       "| reg_arpt |      0 |\n",
       "| renew_mbg |      0 |\n",
       "| renewal_item_id |      0 |\n",
       "| renew_type |  59689 |\n",
       "| autorenew_type |  90759 |\n",
       "| renewal_status |      0 |\n",
       "| renew_date |  59689 |\n",
       "| renew_arpt |  59691 |\n",
       "| gibb_score |      0 |\n",
       "| pattern |      0 |\n",
       "| pattern_domain_count |      0 |\n",
       "| day_domains |      0 |\n",
       "| sld_length |      0 |\n",
       "| sld_type |      0 |\n",
       "| sld_type2 |      0 |\n",
       "| tld |      0 |\n",
       "| region |      0 |\n",
       "| log_reg_arpt |      0 |\n",
       "| tld_registrar_index |      0 |\n",
       "| reseller_geo |    122 |\n",
       "| pred_agg_glm_ALL |    118 |\n",
       "| pred_agg_rf_ALL |      0 |\n",
       "| pred_agg_glm |  11830 |\n",
       "| pred_agg_rf |      0 |\n",
       "| pred_seg_glm_ALL |    278 |\n",
       "| pred_seg_rf_ALL |    187 |\n",
       "| pred_seg2_glm_ALL |   1514 |\n",
       "| pred_seg2_rf_ALL |    288 |\n",
       "\n"
      ],
      "text/plain": [
       "                     [,1]  \n",
       "domain_id                 0\n",
       "model_meta                0\n",
       "pred_meta              1126\n",
       "reseller                  0\n",
       "reseller_country          0\n",
       "renewal_type              0\n",
       "renewed_count             0\n",
       "expiry_date               0\n",
       "creation_date             0\n",
       "status                    0\n",
       "domain                    0\n",
       "registrar                 0\n",
       "registrant_country   535698\n",
       "reg_period                0\n",
       "reg_revenue               0\n",
       "reg_arpt                  0\n",
       "renew_mbg                 0\n",
       "renewal_item_id           0\n",
       "renew_type            59689\n",
       "autorenew_type        90759\n",
       "renewal_status            0\n",
       "renew_date            59689\n",
       "renew_arpt            59691\n",
       "gibb_score                0\n",
       "pattern                   0\n",
       "pattern_domain_count      0\n",
       "day_domains               0\n",
       "sld_length                0\n",
       "sld_type                  0\n",
       "sld_type2                 0\n",
       "tld                       0\n",
       "region                    0\n",
       "log_reg_arpt              0\n",
       "tld_registrar_index       0\n",
       "reseller_geo            122\n",
       "pred_agg_glm_ALL        118\n",
       "pred_agg_rf_ALL           0\n",
       "pred_agg_glm          11830\n",
       "pred_agg_rf               0\n",
       "pred_seg_glm_ALL        278\n",
       "pred_seg_rf_ALL         187\n",
       "pred_seg2_glm_ALL      1514\n",
       "pred_seg2_rf_ALL        288"
      ]
     },
     "metadata": {},
     "output_type": "display_data"
    }
   ],
   "source": [
    "preds_all %>%\n",
    "  select(everything()) %>%  # replace to your needs\n",
    "  summarise_all(funs(sum(is.na(.)))) %>%\n",
    "  t()"
   ]
  },
  {
   "cell_type": "code",
   "execution_count": 18,
   "metadata": {},
   "outputs": [
    {
     "data": {
      "text/html": [
       "<table>\n",
       "<caption>A tibble: 6 × 2</caption>\n",
       "<thead>\n",
       "\t<tr><th scope=col>tld_registrar_index</th><th scope=col>n</th></tr>\n",
       "\t<tr><th scope=col>&lt;fct&gt;</th><th scope=col>&lt;int&gt;</th></tr>\n",
       "</thead>\n",
       "<tbody>\n",
       "\t<tr><td>funalibaba    </td><td>53324</td></tr>\n",
       "\t<tr><td>spacealibaba  </td><td>38716</td></tr>\n",
       "\t<tr><td>sitegmo       </td><td>34803</td></tr>\n",
       "\t<tr><td>websitealibaba</td><td>25010</td></tr>\n",
       "\t<tr><td>sitenamecheap </td><td>20337</td></tr>\n",
       "\t<tr><td>sitereg.ru    </td><td>13284</td></tr>\n",
       "</tbody>\n",
       "</table>\n"
      ],
      "text/latex": [
       "A tibble: 6 × 2\n",
       "\\begin{tabular}{ll}\n",
       " tld\\_registrar\\_index & n\\\\\n",
       " <fct> & <int>\\\\\n",
       "\\hline\n",
       "\t funalibaba     & 53324\\\\\n",
       "\t spacealibaba   & 38716\\\\\n",
       "\t sitegmo        & 34803\\\\\n",
       "\t websitealibaba & 25010\\\\\n",
       "\t sitenamecheap  & 20337\\\\\n",
       "\t sitereg.ru     & 13284\\\\\n",
       "\\end{tabular}\n"
      ],
      "text/markdown": [
       "\n",
       "A tibble: 6 × 2\n",
       "\n",
       "| tld_registrar_index &lt;fct&gt; | n &lt;int&gt; |\n",
       "|---|---|\n",
       "| funalibaba     | 53324 |\n",
       "| spacealibaba   | 38716 |\n",
       "| sitegmo        | 34803 |\n",
       "| websitealibaba | 25010 |\n",
       "| sitenamecheap  | 20337 |\n",
       "| sitereg.ru     | 13284 |\n",
       "\n"
      ],
      "text/plain": [
       "  tld_registrar_index n    \n",
       "1 funalibaba          53324\n",
       "2 spacealibaba        38716\n",
       "3 sitegmo             34803\n",
       "4 websitealibaba      25010\n",
       "5 sitenamecheap       20337\n",
       "6 sitereg.ru          13284"
      ]
     },
     "metadata": {},
     "output_type": "display_data"
    }
   ],
   "source": [
    "meta_preds_tldre_count <- meta_preds %>% group_by(tld_registrar_index) %>% tally()\n",
    "meta_preds_tldre_count %>% arrange(desc(n)) %>% head()"
   ]
  },
  {
   "cell_type": "code",
   "execution_count": 19,
   "metadata": {},
   "outputs": [
    {
     "data": {
      "text/html": [
       "<table>\n",
       "<caption>A tibble: 6 × 2</caption>\n",
       "<thead>\n",
       "\t<tr><th scope=col>tld_registrar_index</th><th scope=col>n</th></tr>\n",
       "\t<tr><th scope=col>&lt;chr&gt;</th><th scope=col>&lt;int&gt;</th></tr>\n",
       "</thead>\n",
       "<tbody>\n",
       "\t<tr><td>funalibaba    </td><td>53324</td></tr>\n",
       "\t<tr><td>sitegmo       </td><td>34803</td></tr>\n",
       "\t<tr><td>sitenamecheap </td><td>20337</td></tr>\n",
       "\t<tr><td>spacealibaba  </td><td>19358</td></tr>\n",
       "\t<tr><td>sitereg.ru    </td><td>13284</td></tr>\n",
       "\t<tr><td>onlinego daddy</td><td>12936</td></tr>\n",
       "</tbody>\n",
       "</table>\n"
      ],
      "text/latex": [
       "A tibble: 6 × 2\n",
       "\\begin{tabular}{ll}\n",
       " tld\\_registrar\\_index & n\\\\\n",
       " <chr> & <int>\\\\\n",
       "\\hline\n",
       "\t funalibaba     & 53324\\\\\n",
       "\t sitegmo        & 34803\\\\\n",
       "\t sitenamecheap  & 20337\\\\\n",
       "\t spacealibaba   & 19358\\\\\n",
       "\t sitereg.ru     & 13284\\\\\n",
       "\t onlinego daddy & 12936\\\\\n",
       "\\end{tabular}\n"
      ],
      "text/markdown": [
       "\n",
       "A tibble: 6 × 2\n",
       "\n",
       "| tld_registrar_index &lt;chr&gt; | n &lt;int&gt; |\n",
       "|---|---|\n",
       "| funalibaba     | 53324 |\n",
       "| sitegmo        | 34803 |\n",
       "| sitenamecheap  | 20337 |\n",
       "| spacealibaba   | 19358 |\n",
       "| sitereg.ru     | 13284 |\n",
       "| onlinego daddy | 12936 |\n",
       "\n"
      ],
      "text/plain": [
       "  tld_registrar_index n    \n",
       "1 funalibaba          53324\n",
       "2 sitegmo             34803\n",
       "3 sitenamecheap       20337\n",
       "4 spacealibaba        19358\n",
       "5 sitereg.ru          13284\n",
       "6 onlinego daddy      12936"
      ]
     },
     "metadata": {},
     "output_type": "display_data"
    }
   ],
   "source": [
    "expiry_new_tldre_count <- expiry_new_df %>% group_by(tld_registrar_index) %>% tally() \n",
    "expiry_new_tldre_count$tld_registrar_index <- as.character(expiry_new_tldre_count$tld_registrar_index)\n",
    "expiry_new_tldre_count %>% arrange(desc(n)) %>% head()"
   ]
  },
  {
   "cell_type": "code",
   "execution_count": 20,
   "metadata": {},
   "outputs": [
    {
     "data": {
      "text/html": [
       "<table>\n",
       "<caption>A tibble: 6 × 3</caption>\n",
       "<thead>\n",
       "\t<tr><th scope=col>tld_registrar_index</th><th scope=col>n.x</th><th scope=col>n.y</th></tr>\n",
       "\t<tr><th scope=col>&lt;chr&gt;</th><th scope=col>&lt;int&gt;</th><th scope=col>&lt;int&gt;</th></tr>\n",
       "</thead>\n",
       "<tbody>\n",
       "\t<tr><td>funalibaba    </td><td>53324</td><td>53324</td></tr>\n",
       "\t<tr><td>spacealibaba  </td><td>38716</td><td>19358</td></tr>\n",
       "\t<tr><td>sitegmo       </td><td>34803</td><td>34803</td></tr>\n",
       "\t<tr><td>websitealibaba</td><td>25010</td><td>12505</td></tr>\n",
       "\t<tr><td>sitenamecheap </td><td>20337</td><td>20337</td></tr>\n",
       "\t<tr><td>sitereg.ru    </td><td>13284</td><td>13284</td></tr>\n",
       "</tbody>\n",
       "</table>\n"
      ],
      "text/latex": [
       "A tibble: 6 × 3\n",
       "\\begin{tabular}{lll}\n",
       " tld\\_registrar\\_index & n.x & n.y\\\\\n",
       " <chr> & <int> & <int>\\\\\n",
       "\\hline\n",
       "\t funalibaba     & 53324 & 53324\\\\\n",
       "\t spacealibaba   & 38716 & 19358\\\\\n",
       "\t sitegmo        & 34803 & 34803\\\\\n",
       "\t websitealibaba & 25010 & 12505\\\\\n",
       "\t sitenamecheap  & 20337 & 20337\\\\\n",
       "\t sitereg.ru     & 13284 & 13284\\\\\n",
       "\\end{tabular}\n"
      ],
      "text/markdown": [
       "\n",
       "A tibble: 6 × 3\n",
       "\n",
       "| tld_registrar_index &lt;chr&gt; | n.x &lt;int&gt; | n.y &lt;int&gt; |\n",
       "|---|---|---|\n",
       "| funalibaba     | 53324 | 53324 |\n",
       "| spacealibaba   | 38716 | 19358 |\n",
       "| sitegmo        | 34803 | 34803 |\n",
       "| websitealibaba | 25010 | 12505 |\n",
       "| sitenamecheap  | 20337 | 20337 |\n",
       "| sitereg.ru     | 13284 | 13284 |\n",
       "\n"
      ],
      "text/plain": [
       "  tld_registrar_index n.x   n.y  \n",
       "1 funalibaba          53324 53324\n",
       "2 spacealibaba        38716 19358\n",
       "3 sitegmo             34803 34803\n",
       "4 websitealibaba      25010 12505\n",
       "5 sitenamecheap       20337 20337\n",
       "6 sitereg.ru          13284 13284"
      ]
     },
     "metadata": {},
     "output_type": "display_data"
    }
   ],
   "source": [
    "join_tldre_count <- left_join(meta_preds_tldre_count, expiry_new_tldre_count,\n",
    "           by='tld_registrar_index') \n",
    "\n",
    "join_tldre_count %>% arrange(desc(n.x)) %>% head()"
   ]
  },
  {
   "cell_type": "code",
   "execution_count": 21,
   "metadata": {},
   "outputs": [
    {
     "data": {
      "text/html": [
       "<table>\n",
       "<caption>A tibble: 444 × 4</caption>\n",
       "<thead>\n",
       "\t<tr><th scope=col>tld_registrar_index</th><th scope=col>n.x</th><th scope=col>n.y</th><th scope=col>missing_preds</th></tr>\n",
       "\t<tr><th scope=col>&lt;chr&gt;</th><th scope=col>&lt;int&gt;</th><th scope=col>&lt;int&gt;</th><th scope=col>&lt;int&gt;</th></tr>\n",
       "</thead>\n",
       "<tbody>\n",
       "\t<tr><td>spacealibaba              </td><td>38716</td><td>19358</td><td>19358</td></tr>\n",
       "\t<tr><td>websitealibaba            </td><td>25010</td><td>12505</td><td>12505</td></tr>\n",
       "\t<tr><td>storeshopify              </td><td> 3528</td><td> 1764</td><td> 1764</td></tr>\n",
       "\t<tr><td>spacehostinger            </td><td> 1634</td><td>  817</td><td>  817</td></tr>\n",
       "\t<tr><td>techdomain.com - registrar</td><td> 1498</td><td>  749</td><td>  749</td></tr>\n",
       "\t<tr><td>pwregway                  </td><td> 1462</td><td>  731</td><td>  731</td></tr>\n",
       "\t<tr><td>onlinetimeweb             </td><td> 1440</td><td>  720</td><td>  720</td></tr>\n",
       "\t<tr><td>onlinetenten              </td><td> 1258</td><td>  629</td><td>  629</td></tr>\n",
       "\t<tr><td>onlinenics telekom        </td><td> 1104</td><td>  552</td><td>  552</td></tr>\n",
       "\t<tr><td>onlineshopify             </td><td>  988</td><td>  494</td><td>  494</td></tr>\n",
       "\t<tr><td>spacekey-systems          </td><td>  858</td><td>  429</td><td>  429</td></tr>\n",
       "\t<tr><td>onlineniaga hoster        </td><td>  830</td><td>  415</td><td>  415</td></tr>\n",
       "\t<tr><td>onlineuol                 </td><td>  758</td><td>  379</td><td>  379</td></tr>\n",
       "\t<tr><td>spacesquarespace          </td><td>  740</td><td>  370</td><td>  370</td></tr>\n",
       "\t<tr><td>sitenominalia             </td><td>  724</td><td>  362</td><td>  362</td></tr>\n",
       "\t<tr><td>pwdynadot                 </td><td>  714</td><td>  357</td><td>  357</td></tr>\n",
       "\t<tr><td>funbeget                  </td><td>  618</td><td>  309</td><td>  309</td></tr>\n",
       "\t<tr><td>websiteurl solutions      </td><td>  606</td><td>  303</td><td>  303</td></tr>\n",
       "\t<tr><td>funurl solutions          </td><td>  602</td><td>  301</td><td>  301</td></tr>\n",
       "\t<tr><td>onlinemat bao             </td><td>  538</td><td>  269</td><td>  269</td></tr>\n",
       "\t<tr><td>spaceregister.it          </td><td>  522</td><td>  261</td><td>  261</td></tr>\n",
       "\t<tr><td>storeetsy.com             </td><td>  508</td><td>  254</td><td>  254</td></tr>\n",
       "\t<tr><td>sitedomeny.pl             </td><td>  486</td><td>  243</td><td>  243</td></tr>\n",
       "\t<tr><td>sitegabia                 </td><td>  476</td><td>  238</td><td>  238</td></tr>\n",
       "\t<tr><td>siteniaga hoster          </td><td>  438</td><td>  219</td><td>  219</td></tr>\n",
       "\t<tr><td>storeuol                  </td><td>  424</td><td>  212</td><td>  212</td></tr>\n",
       "\t<tr><td>techhover                 </td><td>  392</td><td>  196</td><td>  196</td></tr>\n",
       "\t<tr><td>pwmuumuu                  </td><td>  384</td><td>  192</td><td>  192</td></tr>\n",
       "\t<tr><td>onlinenominalia           </td><td>  374</td><td>  187</td><td>  187</td></tr>\n",
       "\t<tr><td>siteguzel hosting         </td><td>  354</td><td>  177</td><td>  177</td></tr>\n",
       "\t<tr><td>onlinevalue domain        </td><td>  352</td><td>  176</td><td>  176</td></tr>\n",
       "\t<tr><td>sitep.a viet nam          </td><td>  334</td><td>  167</td><td>  167</td></tr>\n",
       "\t<tr><td>storeunited domains       </td><td>  332</td><td>  166</td><td>  166</td></tr>\n",
       "\t<tr><td>onlinedonweb              </td><td>  326</td><td>  163</td><td>  163</td></tr>\n",
       "\t<tr><td>onlineurl solutions       </td><td>  306</td><td>  153</td><td>  153</td></tr>\n",
       "\t<tr><td>storebigrock              </td><td>  306</td><td>  153</td><td>  153</td></tr>\n",
       "\t<tr><td>onlinegransy              </td><td>  302</td><td>  151</td><td>  151</td></tr>\n",
       "\t<tr><td>techloopia                </td><td>  294</td><td>  147</td><td>  147</td></tr>\n",
       "\t<tr><td>onlineweb commerce comm   </td><td>  292</td><td>  146</td><td>  146</td></tr>\n",
       "\t<tr><td>onlinenhan hoa software   </td><td>  286</td><td>  143</td><td>  143</td></tr>\n",
       "\t<tr><td><span style=white-space:pre-wrap>tech1&amp;1 internet          </span></td><td><span style=white-space:pre-wrap>  280</span></td><td><span style=white-space:pre-wrap>  140</span></td><td><span style=white-space:pre-wrap>  140</span></td></tr>\n",
       "\t<tr><td>hostdotserve inc          </td><td>  278</td><td>  139</td><td>  139</td></tr>\n",
       "\t<tr><td>storehover                </td><td>  276</td><td>  138</td><td>  138</td></tr>\n",
       "\t<tr><td>storerumahweb             </td><td>  274</td><td>  137</td><td>  137</td></tr>\n",
       "\t<tr><td>spacevimexx ks            </td><td>  266</td><td>  133</td><td>  133</td></tr>\n",
       "\t<tr><td>siterumahweb              </td><td>  264</td><td>  132</td><td>  132</td></tr>\n",
       "\t<tr><td>techcronon ag             </td><td>  262</td><td>  131</td><td>  131</td></tr>\n",
       "\t<tr><td>siteshanghai meicheng     </td><td>  258</td><td>  129</td><td>  129</td></tr>\n",
       "\t<tr><td>sitemat bao               </td><td>  252</td><td>  126</td><td>  126</td></tr>\n",
       "\t<tr><td>onlineporkbun             </td><td>  248</td><td>  124</td><td>  124</td></tr>\n",
       "\t<tr><td>⋮</td><td>⋮</td><td>⋮</td><td>⋮</td></tr>\n",
       "\t<tr><td>websitedomaindiscover.com </td><td>12</td><td>6</td><td>6</td></tr>\n",
       "\t<tr><td>websiteparagon internet   </td><td>12</td><td>6</td><td>6</td></tr>\n",
       "\t<tr><td>websiteweb commerce comm  </td><td>12</td><td>6</td><td>6</td></tr>\n",
       "\t<tr><td>funcloudflare, inc.       </td><td>10</td><td>5</td><td>5</td></tr>\n",
       "\t<tr><td>funrumahweb               </td><td>10</td><td>5</td><td>5</td></tr>\n",
       "\t<tr><td>hostpromo people          </td><td>10</td><td>5</td><td>5</td></tr>\n",
       "\t<tr><td>onlineconstant contact    </td><td>10</td><td>5</td><td>5</td></tr>\n",
       "\t<tr><td>onlinenettigritty         </td><td>10</td><td>5</td><td>5</td></tr>\n",
       "\t<tr><td>pressmuumuu               </td><td>10</td><td>5</td><td>5</td></tr>\n",
       "\t<tr><td>presspdr ltd              </td><td>10</td><td>5</td><td>5</td></tr>\n",
       "\t<tr><td>pw1api                    </td><td>10</td><td>5</td><td>5</td></tr>\n",
       "\t<tr><td>spacearuba                </td><td>10</td><td>5</td><td>5</td></tr>\n",
       "\t<tr><td>spaceyahoo                </td><td>10</td><td>5</td><td>5</td></tr>\n",
       "\t<tr><td>storedotname korea        </td><td>10</td><td>5</td><td>5</td></tr>\n",
       "\t<tr><td>storesuperdominios        </td><td>10</td><td>5</td><td>5</td></tr>\n",
       "\t<tr><td>storewhogohost            </td><td>10</td><td>5</td><td>5</td></tr>\n",
       "\t<tr><td>techonlinenic             </td><td>10</td><td>5</td><td>5</td></tr>\n",
       "\t<tr><td>websitepromo people       </td><td>10</td><td>5</td><td>5</td></tr>\n",
       "\t<tr><td>websiteyahoo              </td><td>10</td><td>5</td><td>5</td></tr>\n",
       "\t<tr><td>sitefasthosts             </td><td> 8</td><td>4</td><td>4</td></tr>\n",
       "\t<tr><td>sitewebsupport.sk         </td><td> 8</td><td>4</td><td>4</td></tr>\n",
       "\t<tr><td>storegridhost             </td><td> 8</td><td>4</td><td>4</td></tr>\n",
       "\t<tr><td>storenameshield           </td><td> 8</td><td>4</td><td>4</td></tr>\n",
       "\t<tr><td>techflexwebhosting        </td><td> 8</td><td>4</td><td>4</td></tr>\n",
       "\t<tr><td>websitesynergy wholesale  </td><td> 8</td><td>4</td><td>4</td></tr>\n",
       "\t<tr><td>funinfomaniak.ch          </td><td> 6</td><td>3</td><td>3</td></tr>\n",
       "\t<tr><td>funsoluciones corporativas</td><td> 6</td><td>3</td><td>3</td></tr>\n",
       "\t<tr><td>hostshanghai meicheng     </td><td> 6</td><td>3</td><td>3</td></tr>\n",
       "\t<tr><td>hostvalue domain          </td><td> 6</td><td>3</td><td>3</td></tr>\n",
       "\t<tr><td>pressmesh digital         </td><td> 6</td><td>3</td><td>3</td></tr>\n",
       "\t<tr><td>pressname.com             </td><td> 6</td><td>3</td><td>3</td></tr>\n",
       "\t<tr><td>sitenettigritty           </td><td> 6</td><td>3</td><td>3</td></tr>\n",
       "\t<tr><td>spacea2hosting            </td><td> 6</td><td>3</td><td>3</td></tr>\n",
       "\t<tr><td>spacemat bao              </td><td> 6</td><td>3</td><td>3</td></tr>\n",
       "\t<tr><td>spaceweb commerce comm    </td><td> 6</td><td>3</td><td>3</td></tr>\n",
       "\t<tr><td>store101 domain           </td><td> 6</td><td>3</td><td>3</td></tr>\n",
       "\t<tr><td>storeafrihost             </td><td> 6</td><td>3</td><td>3</td></tr>\n",
       "\t<tr><td>storeregistrator domenov  </td><td> 6</td><td>3</td><td>3</td></tr>\n",
       "\t<tr><td>techguzel hosting         </td><td> 6</td><td>3</td><td>3</td></tr>\n",
       "\t<tr><td>techrebrandly             </td><td> 6</td><td>3</td><td>3</td></tr>\n",
       "\t<tr><td>websitekasserver          </td><td> 6</td><td>3</td><td>3</td></tr>\n",
       "\t<tr><td>fun1api                   </td><td> 4</td><td>2</td><td>2</td></tr>\n",
       "\t<tr><td>fundomain discount        </td><td> 4</td><td>2</td><td>2</td></tr>\n",
       "\t<tr><td>fundotserve inc           </td><td> 4</td><td>2</td><td>2</td></tr>\n",
       "\t<tr><td>hostmuumuu                </td><td> 4</td><td>2</td><td>2</td></tr>\n",
       "\t<tr><td>in.nethosting ukraine     </td><td> 4</td><td>2</td><td>2</td></tr>\n",
       "\t<tr><td>pressnetowl               </td><td> 4</td><td>2</td><td>2</td></tr>\n",
       "\t<tr><td>sitekinghost              </td><td> 4</td><td>2</td><td>2</td></tr>\n",
       "\t<tr><td>techinterserver           </td><td> 4</td><td>2</td><td>2</td></tr>\n",
       "\t<tr><td>websitejogjacamp          </td><td> 4</td><td>2</td><td>2</td></tr>\n",
       "</tbody>\n",
       "</table>\n"
      ],
      "text/latex": [
       "A tibble: 444 × 4\n",
       "\\begin{tabular}{llll}\n",
       " tld\\_registrar\\_index & n.x & n.y & missing\\_preds\\\\\n",
       " <chr> & <int> & <int> & <int>\\\\\n",
       "\\hline\n",
       "\t spacealibaba               & 38716 & 19358 & 19358\\\\\n",
       "\t websitealibaba             & 25010 & 12505 & 12505\\\\\n",
       "\t storeshopify               &  3528 &  1764 &  1764\\\\\n",
       "\t spacehostinger             &  1634 &   817 &   817\\\\\n",
       "\t techdomain.com - registrar &  1498 &   749 &   749\\\\\n",
       "\t pwregway                   &  1462 &   731 &   731\\\\\n",
       "\t onlinetimeweb              &  1440 &   720 &   720\\\\\n",
       "\t onlinetenten               &  1258 &   629 &   629\\\\\n",
       "\t onlinenics telekom         &  1104 &   552 &   552\\\\\n",
       "\t onlineshopify              &   988 &   494 &   494\\\\\n",
       "\t spacekey-systems           &   858 &   429 &   429\\\\\n",
       "\t onlineniaga hoster         &   830 &   415 &   415\\\\\n",
       "\t onlineuol                  &   758 &   379 &   379\\\\\n",
       "\t spacesquarespace           &   740 &   370 &   370\\\\\n",
       "\t sitenominalia              &   724 &   362 &   362\\\\\n",
       "\t pwdynadot                  &   714 &   357 &   357\\\\\n",
       "\t funbeget                   &   618 &   309 &   309\\\\\n",
       "\t websiteurl solutions       &   606 &   303 &   303\\\\\n",
       "\t funurl solutions           &   602 &   301 &   301\\\\\n",
       "\t onlinemat bao              &   538 &   269 &   269\\\\\n",
       "\t spaceregister.it           &   522 &   261 &   261\\\\\n",
       "\t storeetsy.com              &   508 &   254 &   254\\\\\n",
       "\t sitedomeny.pl              &   486 &   243 &   243\\\\\n",
       "\t sitegabia                  &   476 &   238 &   238\\\\\n",
       "\t siteniaga hoster           &   438 &   219 &   219\\\\\n",
       "\t storeuol                   &   424 &   212 &   212\\\\\n",
       "\t techhover                  &   392 &   196 &   196\\\\\n",
       "\t pwmuumuu                   &   384 &   192 &   192\\\\\n",
       "\t onlinenominalia            &   374 &   187 &   187\\\\\n",
       "\t siteguzel hosting          &   354 &   177 &   177\\\\\n",
       "\t onlinevalue domain         &   352 &   176 &   176\\\\\n",
       "\t sitep.a viet nam           &   334 &   167 &   167\\\\\n",
       "\t storeunited domains        &   332 &   166 &   166\\\\\n",
       "\t onlinedonweb               &   326 &   163 &   163\\\\\n",
       "\t onlineurl solutions        &   306 &   153 &   153\\\\\n",
       "\t storebigrock               &   306 &   153 &   153\\\\\n",
       "\t onlinegransy               &   302 &   151 &   151\\\\\n",
       "\t techloopia                 &   294 &   147 &   147\\\\\n",
       "\t onlineweb commerce comm    &   292 &   146 &   146\\\\\n",
       "\t onlinenhan hoa software    &   286 &   143 &   143\\\\\n",
       "\t tech1\\&1 internet           &   280 &   140 &   140\\\\\n",
       "\t hostdotserve inc           &   278 &   139 &   139\\\\\n",
       "\t storehover                 &   276 &   138 &   138\\\\\n",
       "\t storerumahweb              &   274 &   137 &   137\\\\\n",
       "\t spacevimexx ks             &   266 &   133 &   133\\\\\n",
       "\t siterumahweb               &   264 &   132 &   132\\\\\n",
       "\t techcronon ag              &   262 &   131 &   131\\\\\n",
       "\t siteshanghai meicheng      &   258 &   129 &   129\\\\\n",
       "\t sitemat bao                &   252 &   126 &   126\\\\\n",
       "\t onlineporkbun              &   248 &   124 &   124\\\\\n",
       "\t ⋮ & ⋮ & ⋮ & ⋮\\\\\n",
       "\t websitedomaindiscover.com  & 12 & 6 & 6\\\\\n",
       "\t websiteparagon internet    & 12 & 6 & 6\\\\\n",
       "\t websiteweb commerce comm   & 12 & 6 & 6\\\\\n",
       "\t funcloudflare, inc.        & 10 & 5 & 5\\\\\n",
       "\t funrumahweb                & 10 & 5 & 5\\\\\n",
       "\t hostpromo people           & 10 & 5 & 5\\\\\n",
       "\t onlineconstant contact     & 10 & 5 & 5\\\\\n",
       "\t onlinenettigritty          & 10 & 5 & 5\\\\\n",
       "\t pressmuumuu                & 10 & 5 & 5\\\\\n",
       "\t presspdr ltd               & 10 & 5 & 5\\\\\n",
       "\t pw1api                     & 10 & 5 & 5\\\\\n",
       "\t spacearuba                 & 10 & 5 & 5\\\\\n",
       "\t spaceyahoo                 & 10 & 5 & 5\\\\\n",
       "\t storedotname korea         & 10 & 5 & 5\\\\\n",
       "\t storesuperdominios         & 10 & 5 & 5\\\\\n",
       "\t storewhogohost             & 10 & 5 & 5\\\\\n",
       "\t techonlinenic              & 10 & 5 & 5\\\\\n",
       "\t websitepromo people        & 10 & 5 & 5\\\\\n",
       "\t websiteyahoo               & 10 & 5 & 5\\\\\n",
       "\t sitefasthosts              &  8 & 4 & 4\\\\\n",
       "\t sitewebsupport.sk          &  8 & 4 & 4\\\\\n",
       "\t storegridhost              &  8 & 4 & 4\\\\\n",
       "\t storenameshield            &  8 & 4 & 4\\\\\n",
       "\t techflexwebhosting         &  8 & 4 & 4\\\\\n",
       "\t websitesynergy wholesale   &  8 & 4 & 4\\\\\n",
       "\t funinfomaniak.ch           &  6 & 3 & 3\\\\\n",
       "\t funsoluciones corporativas &  6 & 3 & 3\\\\\n",
       "\t hostshanghai meicheng      &  6 & 3 & 3\\\\\n",
       "\t hostvalue domain           &  6 & 3 & 3\\\\\n",
       "\t pressmesh digital          &  6 & 3 & 3\\\\\n",
       "\t pressname.com              &  6 & 3 & 3\\\\\n",
       "\t sitenettigritty            &  6 & 3 & 3\\\\\n",
       "\t spacea2hosting             &  6 & 3 & 3\\\\\n",
       "\t spacemat bao               &  6 & 3 & 3\\\\\n",
       "\t spaceweb commerce comm     &  6 & 3 & 3\\\\\n",
       "\t store101 domain            &  6 & 3 & 3\\\\\n",
       "\t storeafrihost              &  6 & 3 & 3\\\\\n",
       "\t storeregistrator domenov   &  6 & 3 & 3\\\\\n",
       "\t techguzel hosting          &  6 & 3 & 3\\\\\n",
       "\t techrebrandly              &  6 & 3 & 3\\\\\n",
       "\t websitekasserver           &  6 & 3 & 3\\\\\n",
       "\t fun1api                    &  4 & 2 & 2\\\\\n",
       "\t fundomain discount         &  4 & 2 & 2\\\\\n",
       "\t fundotserve inc            &  4 & 2 & 2\\\\\n",
       "\t hostmuumuu                 &  4 & 2 & 2\\\\\n",
       "\t in.nethosting ukraine      &  4 & 2 & 2\\\\\n",
       "\t pressnetowl                &  4 & 2 & 2\\\\\n",
       "\t sitekinghost               &  4 & 2 & 2\\\\\n",
       "\t techinterserver            &  4 & 2 & 2\\\\\n",
       "\t websitejogjacamp           &  4 & 2 & 2\\\\\n",
       "\\end{tabular}\n"
      ],
      "text/markdown": [
       "\n",
       "A tibble: 444 × 4\n",
       "\n",
       "| tld_registrar_index &lt;chr&gt; | n.x &lt;int&gt; | n.y &lt;int&gt; | missing_preds &lt;int&gt; |\n",
       "|---|---|---|---|\n",
       "| spacealibaba               | 38716 | 19358 | 19358 |\n",
       "| websitealibaba             | 25010 | 12505 | 12505 |\n",
       "| storeshopify               |  3528 |  1764 |  1764 |\n",
       "| spacehostinger             |  1634 |   817 |   817 |\n",
       "| techdomain.com - registrar |  1498 |   749 |   749 |\n",
       "| pwregway                   |  1462 |   731 |   731 |\n",
       "| onlinetimeweb              |  1440 |   720 |   720 |\n",
       "| onlinetenten               |  1258 |   629 |   629 |\n",
       "| onlinenics telekom         |  1104 |   552 |   552 |\n",
       "| onlineshopify              |   988 |   494 |   494 |\n",
       "| spacekey-systems           |   858 |   429 |   429 |\n",
       "| onlineniaga hoster         |   830 |   415 |   415 |\n",
       "| onlineuol                  |   758 |   379 |   379 |\n",
       "| spacesquarespace           |   740 |   370 |   370 |\n",
       "| sitenominalia              |   724 |   362 |   362 |\n",
       "| pwdynadot                  |   714 |   357 |   357 |\n",
       "| funbeget                   |   618 |   309 |   309 |\n",
       "| websiteurl solutions       |   606 |   303 |   303 |\n",
       "| funurl solutions           |   602 |   301 |   301 |\n",
       "| onlinemat bao              |   538 |   269 |   269 |\n",
       "| spaceregister.it           |   522 |   261 |   261 |\n",
       "| storeetsy.com              |   508 |   254 |   254 |\n",
       "| sitedomeny.pl              |   486 |   243 |   243 |\n",
       "| sitegabia                  |   476 |   238 |   238 |\n",
       "| siteniaga hoster           |   438 |   219 |   219 |\n",
       "| storeuol                   |   424 |   212 |   212 |\n",
       "| techhover                  |   392 |   196 |   196 |\n",
       "| pwmuumuu                   |   384 |   192 |   192 |\n",
       "| onlinenominalia            |   374 |   187 |   187 |\n",
       "| siteguzel hosting          |   354 |   177 |   177 |\n",
       "| onlinevalue domain         |   352 |   176 |   176 |\n",
       "| sitep.a viet nam           |   334 |   167 |   167 |\n",
       "| storeunited domains        |   332 |   166 |   166 |\n",
       "| onlinedonweb               |   326 |   163 |   163 |\n",
       "| onlineurl solutions        |   306 |   153 |   153 |\n",
       "| storebigrock               |   306 |   153 |   153 |\n",
       "| onlinegransy               |   302 |   151 |   151 |\n",
       "| techloopia                 |   294 |   147 |   147 |\n",
       "| onlineweb commerce comm    |   292 |   146 |   146 |\n",
       "| onlinenhan hoa software    |   286 |   143 |   143 |\n",
       "| tech1&amp;1 internet           |   280 |   140 |   140 |\n",
       "| hostdotserve inc           |   278 |   139 |   139 |\n",
       "| storehover                 |   276 |   138 |   138 |\n",
       "| storerumahweb              |   274 |   137 |   137 |\n",
       "| spacevimexx ks             |   266 |   133 |   133 |\n",
       "| siterumahweb               |   264 |   132 |   132 |\n",
       "| techcronon ag              |   262 |   131 |   131 |\n",
       "| siteshanghai meicheng      |   258 |   129 |   129 |\n",
       "| sitemat bao                |   252 |   126 |   126 |\n",
       "| onlineporkbun              |   248 |   124 |   124 |\n",
       "| ⋮ | ⋮ | ⋮ | ⋮ |\n",
       "| websitedomaindiscover.com  | 12 | 6 | 6 |\n",
       "| websiteparagon internet    | 12 | 6 | 6 |\n",
       "| websiteweb commerce comm   | 12 | 6 | 6 |\n",
       "| funcloudflare, inc.        | 10 | 5 | 5 |\n",
       "| funrumahweb                | 10 | 5 | 5 |\n",
       "| hostpromo people           | 10 | 5 | 5 |\n",
       "| onlineconstant contact     | 10 | 5 | 5 |\n",
       "| onlinenettigritty          | 10 | 5 | 5 |\n",
       "| pressmuumuu                | 10 | 5 | 5 |\n",
       "| presspdr ltd               | 10 | 5 | 5 |\n",
       "| pw1api                     | 10 | 5 | 5 |\n",
       "| spacearuba                 | 10 | 5 | 5 |\n",
       "| spaceyahoo                 | 10 | 5 | 5 |\n",
       "| storedotname korea         | 10 | 5 | 5 |\n",
       "| storesuperdominios         | 10 | 5 | 5 |\n",
       "| storewhogohost             | 10 | 5 | 5 |\n",
       "| techonlinenic              | 10 | 5 | 5 |\n",
       "| websitepromo people        | 10 | 5 | 5 |\n",
       "| websiteyahoo               | 10 | 5 | 5 |\n",
       "| sitefasthosts              |  8 | 4 | 4 |\n",
       "| sitewebsupport.sk          |  8 | 4 | 4 |\n",
       "| storegridhost              |  8 | 4 | 4 |\n",
       "| storenameshield            |  8 | 4 | 4 |\n",
       "| techflexwebhosting         |  8 | 4 | 4 |\n",
       "| websitesynergy wholesale   |  8 | 4 | 4 |\n",
       "| funinfomaniak.ch           |  6 | 3 | 3 |\n",
       "| funsoluciones corporativas |  6 | 3 | 3 |\n",
       "| hostshanghai meicheng      |  6 | 3 | 3 |\n",
       "| hostvalue domain           |  6 | 3 | 3 |\n",
       "| pressmesh digital          |  6 | 3 | 3 |\n",
       "| pressname.com              |  6 | 3 | 3 |\n",
       "| sitenettigritty            |  6 | 3 | 3 |\n",
       "| spacea2hosting             |  6 | 3 | 3 |\n",
       "| spacemat bao               |  6 | 3 | 3 |\n",
       "| spaceweb commerce comm     |  6 | 3 | 3 |\n",
       "| store101 domain            |  6 | 3 | 3 |\n",
       "| storeafrihost              |  6 | 3 | 3 |\n",
       "| storeregistrator domenov   |  6 | 3 | 3 |\n",
       "| techguzel hosting          |  6 | 3 | 3 |\n",
       "| techrebrandly              |  6 | 3 | 3 |\n",
       "| websitekasserver           |  6 | 3 | 3 |\n",
       "| fun1api                    |  4 | 2 | 2 |\n",
       "| fundomain discount         |  4 | 2 | 2 |\n",
       "| fundotserve inc            |  4 | 2 | 2 |\n",
       "| hostmuumuu                 |  4 | 2 | 2 |\n",
       "| in.nethosting ukraine      |  4 | 2 | 2 |\n",
       "| pressnetowl                |  4 | 2 | 2 |\n",
       "| sitekinghost               |  4 | 2 | 2 |\n",
       "| techinterserver            |  4 | 2 | 2 |\n",
       "| websitejogjacamp           |  4 | 2 | 2 |\n",
       "\n"
      ],
      "text/plain": [
       "    tld_registrar_index        n.x   n.y   missing_preds\n",
       "1   spacealibaba               38716 19358 19358        \n",
       "2   websitealibaba             25010 12505 12505        \n",
       "3   storeshopify                3528  1764  1764        \n",
       "4   spacehostinger              1634   817   817        \n",
       "5   techdomain.com - registrar  1498   749   749        \n",
       "6   pwregway                    1462   731   731        \n",
       "7   onlinetimeweb               1440   720   720        \n",
       "8   onlinetenten                1258   629   629        \n",
       "9   onlinenics telekom          1104   552   552        \n",
       "10  onlineshopify                988   494   494        \n",
       "11  spacekey-systems             858   429   429        \n",
       "12  onlineniaga hoster           830   415   415        \n",
       "13  onlineuol                    758   379   379        \n",
       "14  spacesquarespace             740   370   370        \n",
       "15  sitenominalia                724   362   362        \n",
       "16  pwdynadot                    714   357   357        \n",
       "17  funbeget                     618   309   309        \n",
       "18  websiteurl solutions         606   303   303        \n",
       "19  funurl solutions             602   301   301        \n",
       "20  onlinemat bao                538   269   269        \n",
       "21  spaceregister.it             522   261   261        \n",
       "22  storeetsy.com                508   254   254        \n",
       "23  sitedomeny.pl                486   243   243        \n",
       "24  sitegabia                    476   238   238        \n",
       "25  siteniaga hoster             438   219   219        \n",
       "26  storeuol                     424   212   212        \n",
       "27  techhover                    392   196   196        \n",
       "28  pwmuumuu                     384   192   192        \n",
       "29  onlinenominalia              374   187   187        \n",
       "30  siteguzel hosting            354   177   177        \n",
       "31  onlinevalue domain           352   176   176        \n",
       "32  sitep.a viet nam             334   167   167        \n",
       "33  storeunited domains          332   166   166        \n",
       "34  onlinedonweb                 326   163   163        \n",
       "35  onlineurl solutions          306   153   153        \n",
       "36  storebigrock                 306   153   153        \n",
       "37  onlinegransy                 302   151   151        \n",
       "38  techloopia                   294   147   147        \n",
       "39  onlineweb commerce comm      292   146   146        \n",
       "40  onlinenhan hoa software      286   143   143        \n",
       "41  tech1&1 internet             280   140   140        \n",
       "42  hostdotserve inc             278   139   139        \n",
       "43  storehover                   276   138   138        \n",
       "44  storerumahweb                274   137   137        \n",
       "45  spacevimexx ks               266   133   133        \n",
       "46  siterumahweb                 264   132   132        \n",
       "47  techcronon ag                262   131   131        \n",
       "48  siteshanghai meicheng        258   129   129        \n",
       "49  sitemat bao                  252   126   126        \n",
       "50  onlineporkbun                248   124   124        \n",
       "⋮   ⋮                          ⋮     ⋮     ⋮            \n",
       "395 websitedomaindiscover.com  12    6     6            \n",
       "396 websiteparagon internet    12    6     6            \n",
       "397 websiteweb commerce comm   12    6     6            \n",
       "398 funcloudflare, inc.        10    5     5            \n",
       "399 funrumahweb                10    5     5            \n",
       "400 hostpromo people           10    5     5            \n",
       "401 onlineconstant contact     10    5     5            \n",
       "402 onlinenettigritty          10    5     5            \n",
       "403 pressmuumuu                10    5     5            \n",
       "404 presspdr ltd               10    5     5            \n",
       "405 pw1api                     10    5     5            \n",
       "406 spacearuba                 10    5     5            \n",
       "407 spaceyahoo                 10    5     5            \n",
       "408 storedotname korea         10    5     5            \n",
       "409 storesuperdominios         10    5     5            \n",
       "410 storewhogohost             10    5     5            \n",
       "411 techonlinenic              10    5     5            \n",
       "412 websitepromo people        10    5     5            \n",
       "413 websiteyahoo               10    5     5            \n",
       "414 sitefasthosts               8    4     4            \n",
       "415 sitewebsupport.sk           8    4     4            \n",
       "416 storegridhost               8    4     4            \n",
       "417 storenameshield             8    4     4            \n",
       "418 techflexwebhosting          8    4     4            \n",
       "419 websitesynergy wholesale    8    4     4            \n",
       "420 funinfomaniak.ch            6    3     3            \n",
       "421 funsoluciones corporativas  6    3     3            \n",
       "422 hostshanghai meicheng       6    3     3            \n",
       "423 hostvalue domain            6    3     3            \n",
       "424 pressmesh digital           6    3     3            \n",
       "425 pressname.com               6    3     3            \n",
       "426 sitenettigritty             6    3     3            \n",
       "427 spacea2hosting              6    3     3            \n",
       "428 spacemat bao                6    3     3            \n",
       "429 spaceweb commerce comm      6    3     3            \n",
       "430 store101 domain             6    3     3            \n",
       "431 storeafrihost               6    3     3            \n",
       "432 storeregistrator domenov    6    3     3            \n",
       "433 techguzel hosting           6    3     3            \n",
       "434 techrebrandly               6    3     3            \n",
       "435 websitekasserver            6    3     3            \n",
       "436 fun1api                     4    2     2            \n",
       "437 fundomain discount          4    2     2            \n",
       "438 fundotserve inc             4    2     2            \n",
       "439 hostmuumuu                  4    2     2            \n",
       "440 in.nethosting ukraine       4    2     2            \n",
       "441 pressnetowl                 4    2     2            \n",
       "442 sitekinghost                4    2     2            \n",
       "443 techinterserver             4    2     2            \n",
       "444 websitejogjacamp            4    2     2            "
      ]
     },
     "metadata": {},
     "output_type": "display_data"
    }
   ],
   "source": [
    "join_tldre_count <- join_tldre_count %>% mutate(missing_preds =n.x-n.y)\n",
    "join_tldre_count %>% arrange(desc(missing_preds)) %>% filter((missing_preds)>0) "
   ]
  },
  {
   "cell_type": "code",
   "execution_count": 22,
   "metadata": {},
   "outputs": [
    {
     "data": {
      "text/html": [
       "59112"
      ],
      "text/latex": [
       "59112"
      ],
      "text/markdown": [
       "59112"
      ],
      "text/plain": [
       "[1] 59112"
      ]
     },
     "metadata": {},
     "output_type": "display_data"
    }
   ],
   "source": [
    "sum(join_tldre_count$missing_preds)"
   ]
  },
  {
   "cell_type": "code",
   "execution_count": 23,
   "metadata": {},
   "outputs": [
    {
     "data": {
      "text/html": [
       "<table>\n",
       "<caption>A data.frame: 0 × 43</caption>\n",
       "<thead>\n",
       "\t<tr><th scope=col>domain_id</th><th scope=col>model_meta</th><th scope=col>pred_meta</th><th scope=col>reseller</th><th scope=col>reseller_country</th><th scope=col>renewal_type</th><th scope=col>renewed_count</th><th scope=col>expiry_date</th><th scope=col>creation_date</th><th scope=col>status</th><th scope=col>domain</th><th scope=col>registrar</th><th scope=col>registrant_country</th><th scope=col>reg_period</th><th scope=col>reg_revenue</th><th scope=col>reg_arpt</th><th scope=col>renew_mbg</th><th scope=col>renewal_item_id</th><th scope=col>renew_type</th><th scope=col>autorenew_type</th><th scope=col>renewal_status</th><th scope=col>renew_date</th><th scope=col>renew_arpt</th><th scope=col>gibb_score</th><th scope=col>pattern</th><th scope=col>pattern_domain_count</th><th scope=col>day_domains</th><th scope=col>sld_length</th><th scope=col>sld_type</th><th scope=col>sld_type2</th><th scope=col>tld</th><th scope=col>region</th><th scope=col>log_reg_arpt</th><th scope=col>tld_registrar_index</th><th scope=col>reseller_geo</th><th scope=col>pred_agg_glm_ALL</th><th scope=col>pred_agg_rf_ALL</th><th scope=col>pred_agg_glm</th><th scope=col>pred_agg_rf</th><th scope=col>pred_seg_glm_ALL</th><th scope=col>pred_seg_rf_ALL</th><th scope=col>pred_seg2_glm_ALL</th><th scope=col>pred_seg2_rf_ALL</th></tr>\n",
       "\t<tr><th scope=col>&lt;int&gt;</th><th scope=col>&lt;fct&gt;</th><th scope=col>&lt;dbl&gt;</th><th scope=col>&lt;fct&gt;</th><th scope=col>&lt;fct&gt;</th><th scope=col>&lt;fct&gt;</th><th scope=col>&lt;int&gt;</th><th scope=col>&lt;date&gt;</th><th scope=col>&lt;fct&gt;</th><th scope=col>&lt;fct&gt;</th><th scope=col>&lt;fct&gt;</th><th scope=col>&lt;fct&gt;</th><th scope=col>&lt;lgl&gt;</th><th scope=col>&lt;int&gt;</th><th scope=col>&lt;dbl&gt;</th><th scope=col>&lt;dbl&gt;</th><th scope=col>&lt;int&gt;</th><th scope=col>&lt;int&gt;</th><th scope=col>&lt;fct&gt;</th><th scope=col>&lt;fct&gt;</th><th scope=col>&lt;fct&gt;</th><th scope=col>&lt;fct&gt;</th><th scope=col>&lt;dbl&gt;</th><th scope=col>&lt;dbl&gt;</th><th scope=col>&lt;fct&gt;</th><th scope=col>&lt;int&gt;</th><th scope=col>&lt;int&gt;</th><th scope=col>&lt;int&gt;</th><th scope=col>&lt;fct&gt;</th><th scope=col>&lt;fct&gt;</th><th scope=col>&lt;fct&gt;</th><th scope=col>&lt;fct&gt;</th><th scope=col>&lt;dbl&gt;</th><th scope=col>&lt;fct&gt;</th><th scope=col>&lt;fct&gt;</th><th scope=col>&lt;dbl&gt;</th><th scope=col>&lt;dbl&gt;</th><th scope=col>&lt;dbl&gt;</th><th scope=col>&lt;dbl&gt;</th><th scope=col>&lt;dbl&gt;</th><th scope=col>&lt;dbl&gt;</th><th scope=col>&lt;dbl&gt;</th><th scope=col>&lt;dbl&gt;</th></tr>\n",
       "</thead>\n",
       "<tbody>\n",
       "</tbody>\n",
       "</table>\n"
      ],
      "text/latex": [
       "A data.frame: 0 × 43\n",
       "\\begin{tabular}{lllllllllllllllllllllllllllllllllllllllllll}\n",
       " domain\\_id & model\\_meta & pred\\_meta & reseller & reseller\\_country & renewal\\_type & renewed\\_count & expiry\\_date & creation\\_date & status & domain & registrar & registrant\\_country & reg\\_period & reg\\_revenue & reg\\_arpt & renew\\_mbg & renewal\\_item\\_id & renew\\_type & autorenew\\_type & renewal\\_status & renew\\_date & renew\\_arpt & gibb\\_score & pattern & pattern\\_domain\\_count & day\\_domains & sld\\_length & sld\\_type & sld\\_type2 & tld & region & log\\_reg\\_arpt & tld\\_registrar\\_index & reseller\\_geo & pred\\_agg\\_glm\\_ALL & pred\\_agg\\_rf\\_ALL & pred\\_agg\\_glm & pred\\_agg\\_rf & pred\\_seg\\_glm\\_ALL & pred\\_seg\\_rf\\_ALL & pred\\_seg2\\_glm\\_ALL & pred\\_seg2\\_rf\\_ALL\\\\\n",
       " <int> & <fct> & <dbl> & <fct> & <fct> & <fct> & <int> & <date> & <fct> & <fct> & <fct> & <fct> & <lgl> & <int> & <dbl> & <dbl> & <int> & <int> & <fct> & <fct> & <fct> & <fct> & <dbl> & <dbl> & <fct> & <int> & <int> & <int> & <fct> & <fct> & <fct> & <fct> & <dbl> & <fct> & <fct> & <dbl> & <dbl> & <dbl> & <dbl> & <dbl> & <dbl> & <dbl> & <dbl>\\\\\n",
       "\\hline\n",
       "\\end{tabular}\n"
      ],
      "text/markdown": [
       "\n",
       "A data.frame: 0 × 43\n",
       "\n",
       "| domain_id &lt;int&gt; | model_meta &lt;fct&gt; | pred_meta &lt;dbl&gt; | reseller &lt;fct&gt; | reseller_country &lt;fct&gt; | renewal_type &lt;fct&gt; | renewed_count &lt;int&gt; | expiry_date &lt;date&gt; | creation_date &lt;fct&gt; | status &lt;fct&gt; | domain &lt;fct&gt; | registrar &lt;fct&gt; | registrant_country &lt;lgl&gt; | reg_period &lt;int&gt; | reg_revenue &lt;dbl&gt; | reg_arpt &lt;dbl&gt; | renew_mbg &lt;int&gt; | renewal_item_id &lt;int&gt; | renew_type &lt;fct&gt; | autorenew_type &lt;fct&gt; | renewal_status &lt;fct&gt; | renew_date &lt;fct&gt; | renew_arpt &lt;dbl&gt; | gibb_score &lt;dbl&gt; | pattern &lt;fct&gt; | pattern_domain_count &lt;int&gt; | day_domains &lt;int&gt; | sld_length &lt;int&gt; | sld_type &lt;fct&gt; | sld_type2 &lt;fct&gt; | tld &lt;fct&gt; | region &lt;fct&gt; | log_reg_arpt &lt;dbl&gt; | tld_registrar_index &lt;fct&gt; | reseller_geo &lt;fct&gt; | pred_agg_glm_ALL &lt;dbl&gt; | pred_agg_rf_ALL &lt;dbl&gt; | pred_agg_glm &lt;dbl&gt; | pred_agg_rf &lt;dbl&gt; | pred_seg_glm_ALL &lt;dbl&gt; | pred_seg_rf_ALL &lt;dbl&gt; | pred_seg2_glm_ALL &lt;dbl&gt; | pred_seg2_rf_ALL &lt;dbl&gt; |\n",
       "|---|---|---|---|---|---|---|---|---|---|---|---|---|---|---|---|---|---|---|---|---|---|---|---|---|---|---|---|---|---|---|---|---|---|---|---|---|---|---|---|---|---|---|\n",
       "\n"
      ],
      "text/plain": [
       "     domain_id model_meta pred_meta reseller reseller_country renewal_type\n",
       "     renewed_count expiry_date creation_date status domain registrar\n",
       "     registrant_country reg_period reg_revenue reg_arpt renew_mbg\n",
       "     renewal_item_id renew_type autorenew_type renewal_status renew_date\n",
       "     renew_arpt gibb_score pattern pattern_domain_count day_domains sld_length\n",
       "     sld_type sld_type2 tld region log_reg_arpt tld_registrar_index\n",
       "     reseller_geo pred_agg_glm_ALL pred_agg_rf_ALL pred_agg_glm pred_agg_rf\n",
       "     pred_seg_glm_ALL pred_seg_rf_ALL pred_seg2_glm_ALL pred_seg2_rf_ALL"
      ]
     },
     "metadata": {},
     "output_type": "display_data"
    }
   ],
   "source": [
    "# did we forget to exclude obs that are too green? NO\n",
    "preds_all$ expiry_date <- as.Date(preds_all$ expiry_date)\n",
    "preds_all %>% filter(expiry_date >= \"2020-10-08\")"
   ]
  },
  {
   "cell_type": "code",
   "execution_count": 24,
   "metadata": {},
   "outputs": [
    {
     "data": {
      "text/html": [
       "<table>\n",
       "<caption>A data.frame: 0 × 43</caption>\n",
       "<thead>\n",
       "\t<tr><th scope=col>domain_id</th><th scope=col>model_meta</th><th scope=col>pred_meta</th><th scope=col>reseller</th><th scope=col>reseller_country</th><th scope=col>renewal_type</th><th scope=col>renewed_count</th><th scope=col>expiry_date</th><th scope=col>creation_date</th><th scope=col>status</th><th scope=col>domain</th><th scope=col>registrar</th><th scope=col>registrant_country</th><th scope=col>reg_period</th><th scope=col>reg_revenue</th><th scope=col>reg_arpt</th><th scope=col>renew_mbg</th><th scope=col>renewal_item_id</th><th scope=col>renew_type</th><th scope=col>autorenew_type</th><th scope=col>renewal_status</th><th scope=col>renew_date</th><th scope=col>renew_arpt</th><th scope=col>gibb_score</th><th scope=col>pattern</th><th scope=col>pattern_domain_count</th><th scope=col>day_domains</th><th scope=col>sld_length</th><th scope=col>sld_type</th><th scope=col>sld_type2</th><th scope=col>tld</th><th scope=col>region</th><th scope=col>log_reg_arpt</th><th scope=col>tld_registrar_index</th><th scope=col>reseller_geo</th><th scope=col>pred_agg_glm_ALL</th><th scope=col>pred_agg_rf_ALL</th><th scope=col>pred_agg_glm</th><th scope=col>pred_agg_rf</th><th scope=col>pred_seg_glm_ALL</th><th scope=col>pred_seg_rf_ALL</th><th scope=col>pred_seg2_glm_ALL</th><th scope=col>pred_seg2_rf_ALL</th></tr>\n",
       "\t<tr><th scope=col>&lt;int&gt;</th><th scope=col>&lt;fct&gt;</th><th scope=col>&lt;dbl&gt;</th><th scope=col>&lt;fct&gt;</th><th scope=col>&lt;fct&gt;</th><th scope=col>&lt;fct&gt;</th><th scope=col>&lt;int&gt;</th><th scope=col>&lt;date&gt;</th><th scope=col>&lt;fct&gt;</th><th scope=col>&lt;fct&gt;</th><th scope=col>&lt;fct&gt;</th><th scope=col>&lt;fct&gt;</th><th scope=col>&lt;lgl&gt;</th><th scope=col>&lt;int&gt;</th><th scope=col>&lt;dbl&gt;</th><th scope=col>&lt;dbl&gt;</th><th scope=col>&lt;int&gt;</th><th scope=col>&lt;int&gt;</th><th scope=col>&lt;fct&gt;</th><th scope=col>&lt;fct&gt;</th><th scope=col>&lt;fct&gt;</th><th scope=col>&lt;fct&gt;</th><th scope=col>&lt;dbl&gt;</th><th scope=col>&lt;dbl&gt;</th><th scope=col>&lt;fct&gt;</th><th scope=col>&lt;int&gt;</th><th scope=col>&lt;int&gt;</th><th scope=col>&lt;int&gt;</th><th scope=col>&lt;fct&gt;</th><th scope=col>&lt;fct&gt;</th><th scope=col>&lt;fct&gt;</th><th scope=col>&lt;fct&gt;</th><th scope=col>&lt;dbl&gt;</th><th scope=col>&lt;fct&gt;</th><th scope=col>&lt;fct&gt;</th><th scope=col>&lt;dbl&gt;</th><th scope=col>&lt;dbl&gt;</th><th scope=col>&lt;dbl&gt;</th><th scope=col>&lt;dbl&gt;</th><th scope=col>&lt;dbl&gt;</th><th scope=col>&lt;dbl&gt;</th><th scope=col>&lt;dbl&gt;</th><th scope=col>&lt;dbl&gt;</th></tr>\n",
       "</thead>\n",
       "<tbody>\n",
       "</tbody>\n",
       "</table>\n"
      ],
      "text/latex": [
       "A data.frame: 0 × 43\n",
       "\\begin{tabular}{lllllllllllllllllllllllllllllllllllllllllll}\n",
       " domain\\_id & model\\_meta & pred\\_meta & reseller & reseller\\_country & renewal\\_type & renewed\\_count & expiry\\_date & creation\\_date & status & domain & registrar & registrant\\_country & reg\\_period & reg\\_revenue & reg\\_arpt & renew\\_mbg & renewal\\_item\\_id & renew\\_type & autorenew\\_type & renewal\\_status & renew\\_date & renew\\_arpt & gibb\\_score & pattern & pattern\\_domain\\_count & day\\_domains & sld\\_length & sld\\_type & sld\\_type2 & tld & region & log\\_reg\\_arpt & tld\\_registrar\\_index & reseller\\_geo & pred\\_agg\\_glm\\_ALL & pred\\_agg\\_rf\\_ALL & pred\\_agg\\_glm & pred\\_agg\\_rf & pred\\_seg\\_glm\\_ALL & pred\\_seg\\_rf\\_ALL & pred\\_seg2\\_glm\\_ALL & pred\\_seg2\\_rf\\_ALL\\\\\n",
       " <int> & <fct> & <dbl> & <fct> & <fct> & <fct> & <int> & <date> & <fct> & <fct> & <fct> & <fct> & <lgl> & <int> & <dbl> & <dbl> & <int> & <int> & <fct> & <fct> & <fct> & <fct> & <dbl> & <dbl> & <fct> & <int> & <int> & <int> & <fct> & <fct> & <fct> & <fct> & <dbl> & <fct> & <fct> & <dbl> & <dbl> & <dbl> & <dbl> & <dbl> & <dbl> & <dbl> & <dbl>\\\\\n",
       "\\hline\n",
       "\\end{tabular}\n"
      ],
      "text/markdown": [
       "\n",
       "A data.frame: 0 × 43\n",
       "\n",
       "| domain_id &lt;int&gt; | model_meta &lt;fct&gt; | pred_meta &lt;dbl&gt; | reseller &lt;fct&gt; | reseller_country &lt;fct&gt; | renewal_type &lt;fct&gt; | renewed_count &lt;int&gt; | expiry_date &lt;date&gt; | creation_date &lt;fct&gt; | status &lt;fct&gt; | domain &lt;fct&gt; | registrar &lt;fct&gt; | registrant_country &lt;lgl&gt; | reg_period &lt;int&gt; | reg_revenue &lt;dbl&gt; | reg_arpt &lt;dbl&gt; | renew_mbg &lt;int&gt; | renewal_item_id &lt;int&gt; | renew_type &lt;fct&gt; | autorenew_type &lt;fct&gt; | renewal_status &lt;fct&gt; | renew_date &lt;fct&gt; | renew_arpt &lt;dbl&gt; | gibb_score &lt;dbl&gt; | pattern &lt;fct&gt; | pattern_domain_count &lt;int&gt; | day_domains &lt;int&gt; | sld_length &lt;int&gt; | sld_type &lt;fct&gt; | sld_type2 &lt;fct&gt; | tld &lt;fct&gt; | region &lt;fct&gt; | log_reg_arpt &lt;dbl&gt; | tld_registrar_index &lt;fct&gt; | reseller_geo &lt;fct&gt; | pred_agg_glm_ALL &lt;dbl&gt; | pred_agg_rf_ALL &lt;dbl&gt; | pred_agg_glm &lt;dbl&gt; | pred_agg_rf &lt;dbl&gt; | pred_seg_glm_ALL &lt;dbl&gt; | pred_seg_rf_ALL &lt;dbl&gt; | pred_seg2_glm_ALL &lt;dbl&gt; | pred_seg2_rf_ALL &lt;dbl&gt; |\n",
       "|---|---|---|---|---|---|---|---|---|---|---|---|---|---|---|---|---|---|---|---|---|---|---|---|---|---|---|---|---|---|---|---|---|---|---|---|---|---|---|---|---|---|---|\n",
       "\n"
      ],
      "text/plain": [
       "     domain_id model_meta pred_meta reseller reseller_country renewal_type\n",
       "     renewed_count expiry_date creation_date status domain registrar\n",
       "     registrant_country reg_period reg_revenue reg_arpt renew_mbg\n",
       "     renewal_item_id renew_type autorenew_type renewal_status renew_date\n",
       "     renew_arpt gibb_score pattern pattern_domain_count day_domains sld_length\n",
       "     sld_type sld_type2 tld region log_reg_arpt tld_registrar_index\n",
       "     reseller_geo pred_agg_glm_ALL pred_agg_rf_ALL pred_agg_glm pred_agg_rf\n",
       "     pred_seg_glm_ALL pred_seg_rf_ALL pred_seg2_glm_ALL pred_seg2_rf_ALL"
      ]
     },
     "metadata": {},
     "output_type": "display_data"
    }
   ],
   "source": [
    "# did we forget to exclude obs w/ NA gibbscore?? NO\n",
    "preds_all %>% filter(is.na(gibb_score))"
   ]
  },
  {
   "cell_type": "code",
   "execution_count": 25,
   "metadata": {},
   "outputs": [
    {
     "data": {
      "text/html": [
       "1126"
      ],
      "text/latex": [
       "1126"
      ],
      "text/markdown": [
       "1126"
      ],
      "text/plain": [
       "[1] 1126"
      ]
     },
     "metadata": {},
     "output_type": "display_data"
    }
   ],
   "source": [
    "preds_all %>% filter(is.na(pred_meta)) %>% nrow()"
   ]
  },
  {
   "cell_type": "code",
   "execution_count": 26,
   "metadata": {},
   "outputs": [
    {
     "data": {
      "text/html": [
       "0"
      ],
      "text/latex": [
       "0"
      ],
      "text/markdown": [
       "0"
      ],
      "text/plain": [
       "[1] 0"
      ]
     },
     "metadata": {},
     "output_type": "display_data"
    }
   ],
   "source": [
    "preds_all %>% filter(is.na(pred_agg_rf_ALL)) %>% nrow()"
   ]
  },
  {
   "cell_type": "markdown",
   "metadata": {},
   "source": [
    "# Backfill pred_meta with available model preds"
   ]
  },
  {
   "cell_type": "code",
   "execution_count": 27,
   "metadata": {},
   "outputs": [
    {
     "data": {
      "text/plain": [
       ".\n",
       "  preds_agg_rf_ALL preds_seg2_glm_ALL  preds_seg2_glm_fb \n",
       "                 0               1126                  0 "
      ]
     },
     "metadata": {},
     "output_type": "display_data"
    },
    {
     "data": {
      "text/html": [
       "<table>\n",
       "<caption>A data.frame: 1 × 9</caption>\n",
       "<thead>\n",
       "\t<tr><th scope=col>pred_meta</th><th scope=col>pred_agg_glm_ALL</th><th scope=col>pred_agg_rf_ALL</th><th scope=col>pred_agg_glm</th><th scope=col>pred_agg_rf</th><th scope=col>pred_seg_glm_ALL</th><th scope=col>pred_seg_rf_ALL</th><th scope=col>pred_seg2_glm_ALL</th><th scope=col>pred_seg2_rf_ALL</th></tr>\n",
       "\t<tr><th scope=col>&lt;int&gt;</th><th scope=col>&lt;int&gt;</th><th scope=col>&lt;int&gt;</th><th scope=col>&lt;int&gt;</th><th scope=col>&lt;int&gt;</th><th scope=col>&lt;int&gt;</th><th scope=col>&lt;int&gt;</th><th scope=col>&lt;int&gt;</th><th scope=col>&lt;int&gt;</th></tr>\n",
       "</thead>\n",
       "<tbody>\n",
       "\t<tr><td>1126</td><td>67</td><td>0</td><td>718</td><td>0</td><td>187</td><td>114</td><td>1126</td><td>189</td></tr>\n",
       "</tbody>\n",
       "</table>\n"
      ],
      "text/latex": [
       "A data.frame: 1 × 9\n",
       "\\begin{tabular}{lllllllll}\n",
       " pred\\_meta & pred\\_agg\\_glm\\_ALL & pred\\_agg\\_rf\\_ALL & pred\\_agg\\_glm & pred\\_agg\\_rf & pred\\_seg\\_glm\\_ALL & pred\\_seg\\_rf\\_ALL & pred\\_seg2\\_glm\\_ALL & pred\\_seg2\\_rf\\_ALL\\\\\n",
       " <int> & <int> & <int> & <int> & <int> & <int> & <int> & <int> & <int>\\\\\n",
       "\\hline\n",
       "\t 1126 & 67 & 0 & 718 & 0 & 187 & 114 & 1126 & 189\\\\\n",
       "\\end{tabular}\n"
      ],
      "text/markdown": [
       "\n",
       "A data.frame: 1 × 9\n",
       "\n",
       "| pred_meta &lt;int&gt; | pred_agg_glm_ALL &lt;int&gt; | pred_agg_rf_ALL &lt;int&gt; | pred_agg_glm &lt;int&gt; | pred_agg_rf &lt;int&gt; | pred_seg_glm_ALL &lt;int&gt; | pred_seg_rf_ALL &lt;int&gt; | pred_seg2_glm_ALL &lt;int&gt; | pred_seg2_rf_ALL &lt;int&gt; |\n",
       "|---|---|---|---|---|---|---|---|---|\n",
       "| 1126 | 67 | 0 | 718 | 0 | 187 | 114 | 1126 | 189 |\n",
       "\n"
      ],
      "text/plain": [
       "  pred_meta pred_agg_glm_ALL pred_agg_rf_ALL pred_agg_glm pred_agg_rf\n",
       "1 1126      67               0               718          0          \n",
       "  pred_seg_glm_ALL pred_seg_rf_ALL pred_seg2_glm_ALL pred_seg2_rf_ALL\n",
       "1 187              114             1126              189             "
      ]
     },
     "metadata": {},
     "output_type": "display_data"
    }
   ],
   "source": [
    "# all missing obs ... pertain to seg2_glm\n",
    "preds_all %>% filter(is.na(pred_meta)) %>% select(model_meta) %>% table()\n",
    "# all missing obs ... have agg_rf predictions availale\n",
    "preds_all %>% filter(is.na(pred_meta)) %>% select(contains('pred')) %>% summarise_all(funs(sum(is.na(.))))\n",
    "# ... so backfill with agg_rf predictions"
   ]
  },
  {
   "cell_type": "code",
   "execution_count": 28,
   "metadata": {},
   "outputs": [],
   "source": [
    "preds_all <- preds_all %>% mutate(pred_meta_bf = ifelse(is.na(pred_meta),pred_agg_rf_ALL, pred_meta))"
   ]
  },
  {
   "cell_type": "code",
   "execution_count": 29,
   "metadata": {},
   "outputs": [
    {
     "data": {
      "text/html": [
       "<table>\n",
       "<caption>A data.frame: 6 × 3</caption>\n",
       "<thead>\n",
       "\t<tr><th></th><th scope=col>pred_meta</th><th scope=col>pred_meta_bf</th><th scope=col>pred_agg_rf_ALL</th></tr>\n",
       "\t<tr><th></th><th scope=col>&lt;dbl&gt;</th><th scope=col>&lt;dbl&gt;</th><th scope=col>&lt;dbl&gt;</th></tr>\n",
       "</thead>\n",
       "<tbody>\n",
       "\t<tr><th scope=row>1</th><td>NA</td><td>0.5336472</td><td>0.5336472</td></tr>\n",
       "\t<tr><th scope=row>2</th><td>NA</td><td>0.8064000</td><td>0.8064000</td></tr>\n",
       "\t<tr><th scope=row>3</th><td>NA</td><td>0.2499400</td><td>0.2499400</td></tr>\n",
       "\t<tr><th scope=row>4</th><td>NA</td><td>0.5055587</td><td>0.5055587</td></tr>\n",
       "\t<tr><th scope=row>5</th><td>NA</td><td>0.1598732</td><td>0.1598732</td></tr>\n",
       "\t<tr><th scope=row>6</th><td>NA</td><td>0.1678168</td><td>0.1678168</td></tr>\n",
       "</tbody>\n",
       "</table>\n"
      ],
      "text/latex": [
       "A data.frame: 6 × 3\n",
       "\\begin{tabular}{r|lll}\n",
       "  & pred\\_meta & pred\\_meta\\_bf & pred\\_agg\\_rf\\_ALL\\\\\n",
       "  & <dbl> & <dbl> & <dbl>\\\\\n",
       "\\hline\n",
       "\t1 & NA & 0.5336472 & 0.5336472\\\\\n",
       "\t2 & NA & 0.8064000 & 0.8064000\\\\\n",
       "\t3 & NA & 0.2499400 & 0.2499400\\\\\n",
       "\t4 & NA & 0.5055587 & 0.5055587\\\\\n",
       "\t5 & NA & 0.1598732 & 0.1598732\\\\\n",
       "\t6 & NA & 0.1678168 & 0.1678168\\\\\n",
       "\\end{tabular}\n"
      ],
      "text/markdown": [
       "\n",
       "A data.frame: 6 × 3\n",
       "\n",
       "| <!--/--> | pred_meta &lt;dbl&gt; | pred_meta_bf &lt;dbl&gt; | pred_agg_rf_ALL &lt;dbl&gt; |\n",
       "|---|---|---|---|\n",
       "| 1 | NA | 0.5336472 | 0.5336472 |\n",
       "| 2 | NA | 0.8064000 | 0.8064000 |\n",
       "| 3 | NA | 0.2499400 | 0.2499400 |\n",
       "| 4 | NA | 0.5055587 | 0.5055587 |\n",
       "| 5 | NA | 0.1598732 | 0.1598732 |\n",
       "| 6 | NA | 0.1678168 | 0.1678168 |\n",
       "\n"
      ],
      "text/plain": [
       "  pred_meta pred_meta_bf pred_agg_rf_ALL\n",
       "1 NA        0.5336472    0.5336472      \n",
       "2 NA        0.8064000    0.8064000      \n",
       "3 NA        0.2499400    0.2499400      \n",
       "4 NA        0.5055587    0.5055587      \n",
       "5 NA        0.1598732    0.1598732      \n",
       "6 NA        0.1678168    0.1678168      "
      ]
     },
     "metadata": {},
     "output_type": "display_data"
    }
   ],
   "source": [
    "preds_all %>% filter(is.na(pred_meta)) %>% select(pred_meta, pred_meta_bf, pred_agg_rf_ALL) %>% head()"
   ]
  },
  {
   "cell_type": "code",
   "execution_count": 30,
   "metadata": {},
   "outputs": [
    {
     "data": {
      "text/html": [
       "<table>\n",
       "<caption>A data.frame: 1 × 1</caption>\n",
       "<thead>\n",
       "\t<tr><th scope=col>sum(pred_meta_bf != pred_agg_rf_ALL)</th></tr>\n",
       "\t<tr><th scope=col>&lt;int&gt;</th></tr>\n",
       "</thead>\n",
       "<tbody>\n",
       "\t<tr><td>0</td></tr>\n",
       "</tbody>\n",
       "</table>\n"
      ],
      "text/latex": [
       "A data.frame: 1 × 1\n",
       "\\begin{tabular}{l}\n",
       " sum(pred\\_meta\\_bf != pred\\_agg\\_rf\\_ALL)\\\\\n",
       " <int>\\\\\n",
       "\\hline\n",
       "\t 0\\\\\n",
       "\\end{tabular}\n"
      ],
      "text/markdown": [
       "\n",
       "A data.frame: 1 × 1\n",
       "\n",
       "| sum(pred_meta_bf != pred_agg_rf_ALL) &lt;int&gt; |\n",
       "|---|\n",
       "| 0 |\n",
       "\n"
      ],
      "text/plain": [
       "  sum(pred_meta_bf != pred_agg_rf_ALL)\n",
       "1 0                                   "
      ]
     },
     "metadata": {},
     "output_type": "display_data"
    }
   ],
   "source": [
    "# for all obs where pred_mate is na, are any pred_meta_bf != pred_agg_rf_ALL NOPE\n",
    "preds_all %>% filter(is.na(pred_meta)) %>% select(pred_meta, pred_meta_bf, pred_agg_rf_ALL) %>% summarize(sum(pred_meta_bf!=pred_agg_rf_ALL))"
   ]
  },
  {
   "cell_type": "markdown",
   "metadata": {},
   "source": [
    "# Apply fallback to seg2_glm preds"
   ]
  },
  {
   "cell_type": "code",
   "execution_count": 31,
   "metadata": {},
   "outputs": [
    {
     "name": "stdout",
     "output_type": "stream",
     "text": [
      "Expiry data originally has 3729384 rows and 3729384 missing geo's.\n",
      "... after intial merge on reseller & _country, expiry has 3729384 rows and 3726455 missing geo's.\n",
      "... after secondary fill with _country, expiry has 3729384 rows and 6983 missing geo's.\n",
      "... after manual tweaks with _country, expiry has 3729384 rows and 29 missing geo's.\n"
     ]
    },
    {
     "name": "stderr",
     "output_type": "stream",
     "text": [
      "`summarise()` regrouping output by 'tld', 'reseller_geo' (override with `.groups` argument)\n",
      "\n",
      "`summarise()` regrouping output by 'reseller_geo' (override with `.groups` argument)\n",
      "\n",
      "`summarise()` regrouping output by 'tld' (override with `.groups` argument)\n",
      "\n",
      "`summarise()` regrouping output by 'tld' (override with `.groups` argument)\n",
      "\n",
      "`summarise()` ungrouping output (override with `.groups` argument)\n",
      "\n",
      "`summarise()` regrouping output by 'tld' (override with `.groups` argument)\n",
      "\n",
      "`summarise()` ungrouping output (override with `.groups` argument)\n",
      "\n",
      "`summarise()` regrouping output by 'region' (override with `.groups` argument)\n",
      "\n",
      "`summarise()` ungrouping output (override with `.groups` argument)\n",
      "\n",
      "`summarise()` ungrouping output (override with `.groups` argument)\n",
      "\n"
     ]
    },
    {
     "data": {
      "text/html": [
       "<style>\n",
       ".list-inline {list-style: none; margin:0; padding: 0}\n",
       ".list-inline>li {display: inline-block}\n",
       ".list-inline>li:not(:last-child)::after {content: \"\\00b7\"; padding: 0 .5ex}\n",
       "</style>\n",
       "<ol class=list-inline><li>'npv_fallback_first_geo_arpt_tld'</li><li>'npv_fallback_first_geo_arpt'</li><li>'npv_fallback_first_tld_arpt'</li><li>'npv_fallback_second_tld_geo'</li><li>'npv_fallback_second_geo'</li><li>'npv_fallback_third_tld_geo'</li><li>'npv_fallback_third_geo'</li><li>'npv_fallback_first_final'</li><li>'npv_fallback_second_final'</li><li>'npv_fallback_third_final'</li></ol>\n"
      ],
      "text/latex": [
       "\\begin{enumerate*}\n",
       "\\item 'npv\\_fallback\\_first\\_geo\\_arpt\\_tld'\n",
       "\\item 'npv\\_fallback\\_first\\_geo\\_arpt'\n",
       "\\item 'npv\\_fallback\\_first\\_tld\\_arpt'\n",
       "\\item 'npv\\_fallback\\_second\\_tld\\_geo'\n",
       "\\item 'npv\\_fallback\\_second\\_geo'\n",
       "\\item 'npv\\_fallback\\_third\\_tld\\_geo'\n",
       "\\item 'npv\\_fallback\\_third\\_geo'\n",
       "\\item 'npv\\_fallback\\_first\\_final'\n",
       "\\item 'npv\\_fallback\\_second\\_final'\n",
       "\\item 'npv\\_fallback\\_third\\_final'\n",
       "\\end{enumerate*}\n"
      ],
      "text/markdown": [
       "1. 'npv_fallback_first_geo_arpt_tld'\n",
       "2. 'npv_fallback_first_geo_arpt'\n",
       "3. 'npv_fallback_first_tld_arpt'\n",
       "4. 'npv_fallback_second_tld_geo'\n",
       "5. 'npv_fallback_second_geo'\n",
       "6. 'npv_fallback_third_tld_geo'\n",
       "7. 'npv_fallback_third_geo'\n",
       "8. 'npv_fallback_first_final'\n",
       "9. 'npv_fallback_second_final'\n",
       "10. 'npv_fallback_third_final'\n",
       "\n",
       "\n"
      ],
      "text/plain": [
       " [1] \"npv_fallback_first_geo_arpt_tld\" \"npv_fallback_first_geo_arpt\"    \n",
       " [3] \"npv_fallback_first_tld_arpt\"     \"npv_fallback_second_tld_geo\"    \n",
       " [5] \"npv_fallback_second_geo\"         \"npv_fallback_third_tld_geo\"     \n",
       " [7] \"npv_fallback_third_geo\"          \"npv_fallback_first_final\"       \n",
       " [9] \"npv_fallback_second_final\"       \"npv_fallback_third_final\"       "
      ]
     },
     "metadata": {},
     "output_type": "display_data"
    }
   ],
   "source": [
    "# read in training data\n",
    "expiry_df_train <- read.csv(\"../../data/output/datapull_20201116/expiry_df_train.csv\")\n",
    "expiry_df_train_g <- geo_suppl(expiry_df_train, geoLookupDF = geoLookupDF)\n",
    "# generate list of fallback tables\n",
    "npv_fallback_list = fallback_gen( npv_historic_renewal_data = expiry_df_train_g, \n",
    "                                 reseller_am_geo_map = geoLookupDF)\n",
    "names(npv_fallback_list)\n",
    "for(i in 1:length(npv_fallback_list)) assign(names(npv_fallback_list)[i], npv_fallback_list[[i]])"
   ]
  },
  {
   "cell_type": "code",
   "execution_count": 33,
   "metadata": {},
   "outputs": [
    {
     "name": "stdout",
     "output_type": "stream",
     "text": [
      "Excluding 1706 tld-re's (80.89%), due to volume < 500 \n",
      "Excluding 157 tld-re's (7.44%) associated with tld's 'pw' and 'in.net' \n"
     ]
    }
   ],
   "source": [
    "# generate list of low-volume tld-re's from training data\n",
    "tld_registrar_excl_list = tld_registrar_excl_df(expiry_df_train_g)\n",
    "# generate placeholder columns in preds df for fall backapp\n",
    "# ... where predictions for low-volume tld-registrars are NA\n",
    "preds_all <- preds_all %>%\n",
    "     mutate( across(contains('pred_'), \n",
    "                    .fns = list(fb = ~ifelse(tld_registrar_index %in% tld_registrar_excl_list, NA, . )) ))"
   ]
  },
  {
   "cell_type": "code",
   "execution_count": 34,
   "metadata": {},
   "outputs": [
    {
     "data": {
      "text/html": [
       "<table>\n",
       "<caption>A data.frame: 6 × 20</caption>\n",
       "<thead>\n",
       "\t<tr><th></th><th scope=col>pred_meta</th><th scope=col>pred_agg_glm_ALL</th><th scope=col>pred_agg_rf_ALL</th><th scope=col>pred_agg_glm</th><th scope=col>pred_agg_rf</th><th scope=col>pred_seg_glm_ALL</th><th scope=col>pred_seg_rf_ALL</th><th scope=col>pred_seg2_glm_ALL</th><th scope=col>pred_seg2_rf_ALL</th><th scope=col>pred_meta_bf</th><th scope=col>pred_meta_fb</th><th scope=col>pred_agg_glm_ALL_fb</th><th scope=col>pred_agg_rf_ALL_fb</th><th scope=col>pred_agg_glm_fb</th><th scope=col>pred_agg_rf_fb</th><th scope=col>pred_seg_glm_ALL_fb</th><th scope=col>pred_seg_rf_ALL_fb</th><th scope=col>pred_seg2_glm_ALL_fb</th><th scope=col>pred_seg2_rf_ALL_fb</th><th scope=col>pred_meta_bf_fb</th></tr>\n",
       "\t<tr><th></th><th scope=col>&lt;dbl&gt;</th><th scope=col>&lt;dbl&gt;</th><th scope=col>&lt;dbl&gt;</th><th scope=col>&lt;dbl&gt;</th><th scope=col>&lt;dbl&gt;</th><th scope=col>&lt;dbl&gt;</th><th scope=col>&lt;dbl&gt;</th><th scope=col>&lt;dbl&gt;</th><th scope=col>&lt;dbl&gt;</th><th scope=col>&lt;dbl&gt;</th><th scope=col>&lt;dbl&gt;</th><th scope=col>&lt;dbl&gt;</th><th scope=col>&lt;dbl&gt;</th><th scope=col>&lt;dbl&gt;</th><th scope=col>&lt;dbl&gt;</th><th scope=col>&lt;dbl&gt;</th><th scope=col>&lt;dbl&gt;</th><th scope=col>&lt;dbl&gt;</th><th scope=col>&lt;dbl&gt;</th><th scope=col>&lt;dbl&gt;</th></tr>\n",
       "</thead>\n",
       "<tbody>\n",
       "\t<tr><th scope=row>1</th><td>0.5988058</td><td>0.438</td><td>0.5988058</td><td>   NA</td><td>0.6346318</td><td>0.778</td><td>0.6171213</td><td>0.778650516</td><td>0.3910589</td><td>0.5988058</td><td>       NA</td><td>   NA</td><td>       NA</td><td>   NA</td><td>       NA</td><td>   NA</td><td>       NA</td><td>         NA</td><td>       NA</td><td>       NA</td></tr>\n",
       "\t<tr><th scope=row>2</th><td>0.8564813</td><td>0.416</td><td>0.8564813</td><td>   NA</td><td>0.6121264</td><td>0.749</td><td>0.7058457</td><td>0.816886319</td><td>0.6241285</td><td>0.8564813</td><td>       NA</td><td>   NA</td><td>       NA</td><td>   NA</td><td>       NA</td><td>   NA</td><td>       NA</td><td>         NA</td><td>       NA</td><td>       NA</td></tr>\n",
       "\t<tr><th scope=row>3</th><td>0.1398346</td><td>0.042</td><td>0.1398346</td><td>0.039</td><td>0.1391479</td><td>0.026</td><td>0.3133168</td><td>0.001886783</td><td>0.3663035</td><td>0.1398346</td><td>0.1398346</td><td>0.042</td><td>0.1398346</td><td>0.039</td><td>0.1391479</td><td>0.026</td><td>0.3133168</td><td>0.001886783</td><td>0.3663035</td><td>0.1398346</td></tr>\n",
       "\t<tr><th scope=row>4</th><td>0.1979831</td><td>0.077</td><td>0.1979831</td><td>0.069</td><td>0.1725707</td><td>0.135</td><td>0.2721024</td><td>0.100167528</td><td>0.3821253</td><td>0.1979831</td><td>0.1979831</td><td>0.077</td><td>0.1979831</td><td>0.069</td><td>0.1725707</td><td>0.135</td><td>0.2721024</td><td>0.100167528</td><td>0.3821253</td><td>0.1979831</td></tr>\n",
       "\t<tr><th scope=row>5</th><td>0.2805935</td><td>0.084</td><td>0.2805935</td><td>0.075</td><td>0.2683628</td><td>0.167</td><td>0.3523074</td><td>0.145996585</td><td>0.4215242</td><td>0.2805935</td><td>0.2805935</td><td>0.084</td><td>0.2805935</td><td>0.075</td><td>0.2683628</td><td>0.167</td><td>0.3523074</td><td>0.145996585</td><td>0.4215242</td><td>0.2805935</td></tr>\n",
       "\t<tr><th scope=row>6</th><td>0.1995516</td><td>0.074</td><td>0.1995516</td><td>0.066</td><td>0.2223433</td><td>0.142</td><td>0.2626757</td><td>0.112936327</td><td>0.2879022</td><td>0.1995516</td><td>0.1995516</td><td>0.074</td><td>0.1995516</td><td>0.066</td><td>0.2223433</td><td>0.142</td><td>0.2626757</td><td>0.112936327</td><td>0.2879022</td><td>0.1995516</td></tr>\n",
       "</tbody>\n",
       "</table>\n"
      ],
      "text/latex": [
       "A data.frame: 6 × 20\n",
       "\\begin{tabular}{r|llllllllllllllllllll}\n",
       "  & pred\\_meta & pred\\_agg\\_glm\\_ALL & pred\\_agg\\_rf\\_ALL & pred\\_agg\\_glm & pred\\_agg\\_rf & pred\\_seg\\_glm\\_ALL & pred\\_seg\\_rf\\_ALL & pred\\_seg2\\_glm\\_ALL & pred\\_seg2\\_rf\\_ALL & pred\\_meta\\_bf & pred\\_meta\\_fb & pred\\_agg\\_glm\\_ALL\\_fb & pred\\_agg\\_rf\\_ALL\\_fb & pred\\_agg\\_glm\\_fb & pred\\_agg\\_rf\\_fb & pred\\_seg\\_glm\\_ALL\\_fb & pred\\_seg\\_rf\\_ALL\\_fb & pred\\_seg2\\_glm\\_ALL\\_fb & pred\\_seg2\\_rf\\_ALL\\_fb & pred\\_meta\\_bf\\_fb\\\\\n",
       "  & <dbl> & <dbl> & <dbl> & <dbl> & <dbl> & <dbl> & <dbl> & <dbl> & <dbl> & <dbl> & <dbl> & <dbl> & <dbl> & <dbl> & <dbl> & <dbl> & <dbl> & <dbl> & <dbl> & <dbl>\\\\\n",
       "\\hline\n",
       "\t1 & 0.5988058 & 0.438 & 0.5988058 &    NA & 0.6346318 & 0.778 & 0.6171213 & 0.778650516 & 0.3910589 & 0.5988058 &        NA &    NA &        NA &    NA &        NA &    NA &        NA &          NA &        NA &        NA\\\\\n",
       "\t2 & 0.8564813 & 0.416 & 0.8564813 &    NA & 0.6121264 & 0.749 & 0.7058457 & 0.816886319 & 0.6241285 & 0.8564813 &        NA &    NA &        NA &    NA &        NA &    NA &        NA &          NA &        NA &        NA\\\\\n",
       "\t3 & 0.1398346 & 0.042 & 0.1398346 & 0.039 & 0.1391479 & 0.026 & 0.3133168 & 0.001886783 & 0.3663035 & 0.1398346 & 0.1398346 & 0.042 & 0.1398346 & 0.039 & 0.1391479 & 0.026 & 0.3133168 & 0.001886783 & 0.3663035 & 0.1398346\\\\\n",
       "\t4 & 0.1979831 & 0.077 & 0.1979831 & 0.069 & 0.1725707 & 0.135 & 0.2721024 & 0.100167528 & 0.3821253 & 0.1979831 & 0.1979831 & 0.077 & 0.1979831 & 0.069 & 0.1725707 & 0.135 & 0.2721024 & 0.100167528 & 0.3821253 & 0.1979831\\\\\n",
       "\t5 & 0.2805935 & 0.084 & 0.2805935 & 0.075 & 0.2683628 & 0.167 & 0.3523074 & 0.145996585 & 0.4215242 & 0.2805935 & 0.2805935 & 0.084 & 0.2805935 & 0.075 & 0.2683628 & 0.167 & 0.3523074 & 0.145996585 & 0.4215242 & 0.2805935\\\\\n",
       "\t6 & 0.1995516 & 0.074 & 0.1995516 & 0.066 & 0.2223433 & 0.142 & 0.2626757 & 0.112936327 & 0.2879022 & 0.1995516 & 0.1995516 & 0.074 & 0.1995516 & 0.066 & 0.2223433 & 0.142 & 0.2626757 & 0.112936327 & 0.2879022 & 0.1995516\\\\\n",
       "\\end{tabular}\n"
      ],
      "text/markdown": [
       "\n",
       "A data.frame: 6 × 20\n",
       "\n",
       "| <!--/--> | pred_meta &lt;dbl&gt; | pred_agg_glm_ALL &lt;dbl&gt; | pred_agg_rf_ALL &lt;dbl&gt; | pred_agg_glm &lt;dbl&gt; | pred_agg_rf &lt;dbl&gt; | pred_seg_glm_ALL &lt;dbl&gt; | pred_seg_rf_ALL &lt;dbl&gt; | pred_seg2_glm_ALL &lt;dbl&gt; | pred_seg2_rf_ALL &lt;dbl&gt; | pred_meta_bf &lt;dbl&gt; | pred_meta_fb &lt;dbl&gt; | pred_agg_glm_ALL_fb &lt;dbl&gt; | pred_agg_rf_ALL_fb &lt;dbl&gt; | pred_agg_glm_fb &lt;dbl&gt; | pred_agg_rf_fb &lt;dbl&gt; | pred_seg_glm_ALL_fb &lt;dbl&gt; | pred_seg_rf_ALL_fb &lt;dbl&gt; | pred_seg2_glm_ALL_fb &lt;dbl&gt; | pred_seg2_rf_ALL_fb &lt;dbl&gt; | pred_meta_bf_fb &lt;dbl&gt; |\n",
       "|---|---|---|---|---|---|---|---|---|---|---|---|---|---|---|---|---|---|---|---|---|\n",
       "| 1 | 0.5988058 | 0.438 | 0.5988058 |    NA | 0.6346318 | 0.778 | 0.6171213 | 0.778650516 | 0.3910589 | 0.5988058 |        NA |    NA |        NA |    NA |        NA |    NA |        NA |          NA |        NA |        NA |\n",
       "| 2 | 0.8564813 | 0.416 | 0.8564813 |    NA | 0.6121264 | 0.749 | 0.7058457 | 0.816886319 | 0.6241285 | 0.8564813 |        NA |    NA |        NA |    NA |        NA |    NA |        NA |          NA |        NA |        NA |\n",
       "| 3 | 0.1398346 | 0.042 | 0.1398346 | 0.039 | 0.1391479 | 0.026 | 0.3133168 | 0.001886783 | 0.3663035 | 0.1398346 | 0.1398346 | 0.042 | 0.1398346 | 0.039 | 0.1391479 | 0.026 | 0.3133168 | 0.001886783 | 0.3663035 | 0.1398346 |\n",
       "| 4 | 0.1979831 | 0.077 | 0.1979831 | 0.069 | 0.1725707 | 0.135 | 0.2721024 | 0.100167528 | 0.3821253 | 0.1979831 | 0.1979831 | 0.077 | 0.1979831 | 0.069 | 0.1725707 | 0.135 | 0.2721024 | 0.100167528 | 0.3821253 | 0.1979831 |\n",
       "| 5 | 0.2805935 | 0.084 | 0.2805935 | 0.075 | 0.2683628 | 0.167 | 0.3523074 | 0.145996585 | 0.4215242 | 0.2805935 | 0.2805935 | 0.084 | 0.2805935 | 0.075 | 0.2683628 | 0.167 | 0.3523074 | 0.145996585 | 0.4215242 | 0.2805935 |\n",
       "| 6 | 0.1995516 | 0.074 | 0.1995516 | 0.066 | 0.2223433 | 0.142 | 0.2626757 | 0.112936327 | 0.2879022 | 0.1995516 | 0.1995516 | 0.074 | 0.1995516 | 0.066 | 0.2223433 | 0.142 | 0.2626757 | 0.112936327 | 0.2879022 | 0.1995516 |\n",
       "\n"
      ],
      "text/plain": [
       "  pred_meta pred_agg_glm_ALL pred_agg_rf_ALL pred_agg_glm pred_agg_rf\n",
       "1 0.5988058 0.438            0.5988058          NA        0.6346318  \n",
       "2 0.8564813 0.416            0.8564813          NA        0.6121264  \n",
       "3 0.1398346 0.042            0.1398346       0.039        0.1391479  \n",
       "4 0.1979831 0.077            0.1979831       0.069        0.1725707  \n",
       "5 0.2805935 0.084            0.2805935       0.075        0.2683628  \n",
       "6 0.1995516 0.074            0.1995516       0.066        0.2223433  \n",
       "  pred_seg_glm_ALL pred_seg_rf_ALL pred_seg2_glm_ALL pred_seg2_rf_ALL\n",
       "1 0.778            0.6171213       0.778650516       0.3910589       \n",
       "2 0.749            0.7058457       0.816886319       0.6241285       \n",
       "3 0.026            0.3133168       0.001886783       0.3663035       \n",
       "4 0.135            0.2721024       0.100167528       0.3821253       \n",
       "5 0.167            0.3523074       0.145996585       0.4215242       \n",
       "6 0.142            0.2626757       0.112936327       0.2879022       \n",
       "  pred_meta_bf pred_meta_fb pred_agg_glm_ALL_fb pred_agg_rf_ALL_fb\n",
       "1 0.5988058           NA       NA                      NA         \n",
       "2 0.8564813           NA       NA                      NA         \n",
       "3 0.1398346    0.1398346    0.042               0.1398346         \n",
       "4 0.1979831    0.1979831    0.077               0.1979831         \n",
       "5 0.2805935    0.2805935    0.084               0.2805935         \n",
       "6 0.1995516    0.1995516    0.074               0.1995516         \n",
       "  pred_agg_glm_fb pred_agg_rf_fb pred_seg_glm_ALL_fb pred_seg_rf_ALL_fb\n",
       "1    NA                  NA         NA                      NA         \n",
       "2    NA                  NA         NA                      NA         \n",
       "3 0.039           0.1391479      0.026               0.3133168         \n",
       "4 0.069           0.1725707      0.135               0.2721024         \n",
       "5 0.075           0.2683628      0.167               0.3523074         \n",
       "6 0.066           0.2223433      0.142               0.2626757         \n",
       "  pred_seg2_glm_ALL_fb pred_seg2_rf_ALL_fb pred_meta_bf_fb\n",
       "1          NA                 NA                  NA      \n",
       "2          NA                 NA                  NA      \n",
       "3 0.001886783          0.3663035           0.1398346      \n",
       "4 0.100167528          0.3821253           0.1979831      \n",
       "5 0.145996585          0.4215242           0.2805935      \n",
       "6 0.112936327          0.2879022           0.1995516      "
      ]
     },
     "metadata": {},
     "output_type": "display_data"
    }
   ],
   "source": [
    "preds_all %>% select(contains('pred_')) %>% head()"
   ]
  },
  {
   "cell_type": "code",
   "execution_count": 35,
   "metadata": {},
   "outputs": [
    {
     "name": "stdout",
     "output_type": "stream",
     "text": [
      "Expiry data originally has 535698 rows and 535698 missing geo's.\n",
      "... after intial merge on reseller & _country, expiry has 535698 rows and 122 missing geo's.\n",
      "... after secondary fill with _country, expiry has 535698 rows and 122 missing geo's.\n",
      "... after manual tweaks with _country, expiry has 535698 rows and 122 missing geo's.\n"
     ]
    }
   ],
   "source": [
    "# apply fallback tables TST\n",
    "preds_all <- geo_suppl(preds_all, geoLookupDF = geoLookupDF)\n",
    "    \n",
    "preds_all <- fallback_app_1(test_data_op=preds_all,\n",
    "               in_col='pred_seg2_rf_ALL_fb',\n",
    "               out_col='pred_seg2_rf_ALL_fb')\n",
    "preds_all <- fallback_app_1(test_data_op=preds_all,\n",
    "               in_col='pred_seg2_glm_ALL_fb',\n",
    "               out_col='pred_seg2_glm_ALL_fb')\n",
    "\n",
    "preds_all <- fallback_app_1(test_data_op=preds_all,\n",
    "               in_col='pred_seg_rf_ALL_fb',\n",
    "               out_col='pred_seg_rf_ALL_fb')\n",
    "preds_all <- fallback_app_1(test_data_op=preds_all,\n",
    "               in_col='pred_seg_glm_ALL_fb',\n",
    "               out_col='pred_seg_glm_ALL_fb')\n",
    "\n",
    "preds_all <- fallback_app_1(test_data_op=preds_all,\n",
    "               in_col='pred_agg_rf_fb',\n",
    "               out_col='pred_agg_rf_fb')\n",
    "preds_all <- fallback_app_1(test_data_op=preds_all,\n",
    "               in_col='pred_agg_glm_fb',\n",
    "               out_col='pred_agg_glm_fb')\n",
    "\n",
    "preds_all <- fallback_app_1(test_data_op=preds_all,\n",
    "               in_col='pred_agg_rf_ALL_fb',\n",
    "               out_col='pred_agg_rf_ALL_fb')\n",
    "preds_all <- fallback_app_1(test_data_op=preds_all,\n",
    "               in_col='pred_agg_glm_ALL_fb',\n",
    "               out_col='pred_agg_glm_ALL_fb')\n",
    "\n",
    "# performance if we backfill all NAs and low-volume meta-based NAs (no agg_rf used) with fallback values\n",
    "preds_all <- fallback_app_1(test_data_op=preds_all,\n",
    "               in_col='pred_meta_fb',\n",
    "               out_col='pred_meta_fb2')\n",
    "\n",
    "# performance if we backfill meta-based NAs with fallback values intead of agg_rf\n",
    "preds_all <- fallback_app_1(test_data_op=preds_all,\n",
    "               in_col='pred_meta',\n",
    "               out_col='pred_meta_fb1')\n",
    "\n",
    "\n"
   ]
  },
  {
   "cell_type": "code",
   "execution_count": 36,
   "metadata": {},
   "outputs": [
    {
     "data": {
      "text/html": [
       "<table>\n",
       "<caption>A matrix: 22 × 1 of type int</caption>\n",
       "<tbody>\n",
       "\t<tr><th scope=row>pred_meta</th><td> 1126</td></tr>\n",
       "\t<tr><th scope=row>pred_agg_glm_ALL</th><td>  118</td></tr>\n",
       "\t<tr><th scope=row>pred_agg_rf_ALL</th><td>    0</td></tr>\n",
       "\t<tr><th scope=row>pred_agg_glm</th><td>11830</td></tr>\n",
       "\t<tr><th scope=row>pred_agg_rf</th><td>    0</td></tr>\n",
       "\t<tr><th scope=row>pred_seg_glm_ALL</th><td>  278</td></tr>\n",
       "\t<tr><th scope=row>pred_seg_rf_ALL</th><td>  187</td></tr>\n",
       "\t<tr><th scope=row>pred_seg2_glm_ALL</th><td> 1514</td></tr>\n",
       "\t<tr><th scope=row>pred_seg2_rf_ALL</th><td>  288</td></tr>\n",
       "\t<tr><th scope=row>pred_meta_bf</th><td>    0</td></tr>\n",
       "\t<tr><th scope=row>pred_meta_fb</th><td>57340</td></tr>\n",
       "\t<tr><th scope=row>pred_agg_glm_ALL_fb</th><td>    0</td></tr>\n",
       "\t<tr><th scope=row>pred_agg_rf_ALL_fb</th><td>    0</td></tr>\n",
       "\t<tr><th scope=row>pred_agg_glm_fb</th><td>    0</td></tr>\n",
       "\t<tr><th scope=row>pred_agg_rf_fb</th><td>    0</td></tr>\n",
       "\t<tr><th scope=row>pred_seg_glm_ALL_fb</th><td>    0</td></tr>\n",
       "\t<tr><th scope=row>pred_seg_rf_ALL_fb</th><td>    0</td></tr>\n",
       "\t<tr><th scope=row>pred_seg2_glm_ALL_fb</th><td>    0</td></tr>\n",
       "\t<tr><th scope=row>pred_seg2_rf_ALL_fb</th><td>    0</td></tr>\n",
       "\t<tr><th scope=row>pred_meta_bf_fb</th><td>57026</td></tr>\n",
       "\t<tr><th scope=row>pred_meta_fb2</th><td>    0</td></tr>\n",
       "\t<tr><th scope=row>pred_meta_fb1</th><td>    0</td></tr>\n",
       "</tbody>\n",
       "</table>\n"
      ],
      "text/latex": [
       "A matrix: 22 × 1 of type int\n",
       "\\begin{tabular}{r|l}\n",
       "\tpred\\_meta &  1126\\\\\n",
       "\tpred\\_agg\\_glm\\_ALL &   118\\\\\n",
       "\tpred\\_agg\\_rf\\_ALL &     0\\\\\n",
       "\tpred\\_agg\\_glm & 11830\\\\\n",
       "\tpred\\_agg\\_rf &     0\\\\\n",
       "\tpred\\_seg\\_glm\\_ALL &   278\\\\\n",
       "\tpred\\_seg\\_rf\\_ALL &   187\\\\\n",
       "\tpred\\_seg2\\_glm\\_ALL &  1514\\\\\n",
       "\tpred\\_seg2\\_rf\\_ALL &   288\\\\\n",
       "\tpred\\_meta\\_bf &     0\\\\\n",
       "\tpred\\_meta\\_fb & 57340\\\\\n",
       "\tpred\\_agg\\_glm\\_ALL\\_fb &     0\\\\\n",
       "\tpred\\_agg\\_rf\\_ALL\\_fb &     0\\\\\n",
       "\tpred\\_agg\\_glm\\_fb &     0\\\\\n",
       "\tpred\\_agg\\_rf\\_fb &     0\\\\\n",
       "\tpred\\_seg\\_glm\\_ALL\\_fb &     0\\\\\n",
       "\tpred\\_seg\\_rf\\_ALL\\_fb &     0\\\\\n",
       "\tpred\\_seg2\\_glm\\_ALL\\_fb &     0\\\\\n",
       "\tpred\\_seg2\\_rf\\_ALL\\_fb &     0\\\\\n",
       "\tpred\\_meta\\_bf\\_fb & 57026\\\\\n",
       "\tpred\\_meta\\_fb2 &     0\\\\\n",
       "\tpred\\_meta\\_fb1 &     0\\\\\n",
       "\\end{tabular}\n"
      ],
      "text/markdown": [
       "\n",
       "A matrix: 22 × 1 of type int\n",
       "\n",
       "| pred_meta |  1126 |\n",
       "| pred_agg_glm_ALL |   118 |\n",
       "| pred_agg_rf_ALL |     0 |\n",
       "| pred_agg_glm | 11830 |\n",
       "| pred_agg_rf |     0 |\n",
       "| pred_seg_glm_ALL |   278 |\n",
       "| pred_seg_rf_ALL |   187 |\n",
       "| pred_seg2_glm_ALL |  1514 |\n",
       "| pred_seg2_rf_ALL |   288 |\n",
       "| pred_meta_bf |     0 |\n",
       "| pred_meta_fb | 57340 |\n",
       "| pred_agg_glm_ALL_fb |     0 |\n",
       "| pred_agg_rf_ALL_fb |     0 |\n",
       "| pred_agg_glm_fb |     0 |\n",
       "| pred_agg_rf_fb |     0 |\n",
       "| pred_seg_glm_ALL_fb |     0 |\n",
       "| pred_seg_rf_ALL_fb |     0 |\n",
       "| pred_seg2_glm_ALL_fb |     0 |\n",
       "| pred_seg2_rf_ALL_fb |     0 |\n",
       "| pred_meta_bf_fb | 57026 |\n",
       "| pred_meta_fb2 |     0 |\n",
       "| pred_meta_fb1 |     0 |\n",
       "\n"
      ],
      "text/plain": [
       "                     [,1] \n",
       "pred_meta             1126\n",
       "pred_agg_glm_ALL       118\n",
       "pred_agg_rf_ALL          0\n",
       "pred_agg_glm         11830\n",
       "pred_agg_rf              0\n",
       "pred_seg_glm_ALL       278\n",
       "pred_seg_rf_ALL        187\n",
       "pred_seg2_glm_ALL     1514\n",
       "pred_seg2_rf_ALL       288\n",
       "pred_meta_bf             0\n",
       "pred_meta_fb         57340\n",
       "pred_agg_glm_ALL_fb      0\n",
       "pred_agg_rf_ALL_fb       0\n",
       "pred_agg_glm_fb          0\n",
       "pred_agg_rf_fb           0\n",
       "pred_seg_glm_ALL_fb      0\n",
       "pred_seg_rf_ALL_fb       0\n",
       "pred_seg2_glm_ALL_fb     0\n",
       "pred_seg2_rf_ALL_fb      0\n",
       "pred_meta_bf_fb      57026\n",
       "pred_meta_fb2            0\n",
       "pred_meta_fb1            0"
      ]
     },
     "metadata": {},
     "output_type": "display_data"
    }
   ],
   "source": [
    "preds_all %>%\n",
    "  select(contains('pred')) %>% \n",
    "  summarise_all(funs(sum(is.na(.)))) %>% t()"
   ]
  },
  {
   "cell_type": "code",
   "execution_count": 37,
   "metadata": {},
   "outputs": [
    {
     "data": {
      "text/html": [
       "<style>\n",
       ".list-inline {list-style: none; margin:0; padding: 0}\n",
       ".list-inline>li {display: inline-block}\n",
       ".list-inline>li:not(:last-child)::after {content: \"\\00b7\"; padding: 0 .5ex}\n",
       "</style>\n",
       "<ol class=list-inline><li>'pred_meta'</li><li>'pred_agg_glm_ALL'</li><li>'pred_agg_rf_ALL'</li><li>'pred_agg_glm'</li><li>'pred_agg_rf'</li><li>'pred_seg_glm_ALL'</li><li>'pred_seg_rf_ALL'</li><li>'pred_seg2_glm_ALL'</li><li>'pred_seg2_rf_ALL'</li><li>'pred_meta_bf'</li><li>'pred_meta_fb'</li><li>'pred_agg_glm_ALL_fb'</li><li>'pred_agg_rf_ALL_fb'</li><li>'pred_agg_glm_fb'</li><li>'pred_agg_rf_fb'</li><li>'pred_seg_glm_ALL_fb'</li><li>'pred_seg_rf_ALL_fb'</li><li>'pred_seg2_glm_ALL_fb'</li><li>'pred_seg2_rf_ALL_fb'</li><li>'pred_meta_bf_fb'</li><li>'pred_meta_fb2'</li><li>'pred_meta_fb1'</li></ol>\n"
      ],
      "text/latex": [
       "\\begin{enumerate*}\n",
       "\\item 'pred\\_meta'\n",
       "\\item 'pred\\_agg\\_glm\\_ALL'\n",
       "\\item 'pred\\_agg\\_rf\\_ALL'\n",
       "\\item 'pred\\_agg\\_glm'\n",
       "\\item 'pred\\_agg\\_rf'\n",
       "\\item 'pred\\_seg\\_glm\\_ALL'\n",
       "\\item 'pred\\_seg\\_rf\\_ALL'\n",
       "\\item 'pred\\_seg2\\_glm\\_ALL'\n",
       "\\item 'pred\\_seg2\\_rf\\_ALL'\n",
       "\\item 'pred\\_meta\\_bf'\n",
       "\\item 'pred\\_meta\\_fb'\n",
       "\\item 'pred\\_agg\\_glm\\_ALL\\_fb'\n",
       "\\item 'pred\\_agg\\_rf\\_ALL\\_fb'\n",
       "\\item 'pred\\_agg\\_glm\\_fb'\n",
       "\\item 'pred\\_agg\\_rf\\_fb'\n",
       "\\item 'pred\\_seg\\_glm\\_ALL\\_fb'\n",
       "\\item 'pred\\_seg\\_rf\\_ALL\\_fb'\n",
       "\\item 'pred\\_seg2\\_glm\\_ALL\\_fb'\n",
       "\\item 'pred\\_seg2\\_rf\\_ALL\\_fb'\n",
       "\\item 'pred\\_meta\\_bf\\_fb'\n",
       "\\item 'pred\\_meta\\_fb2'\n",
       "\\item 'pred\\_meta\\_fb1'\n",
       "\\end{enumerate*}\n"
      ],
      "text/markdown": [
       "1. 'pred_meta'\n",
       "2. 'pred_agg_glm_ALL'\n",
       "3. 'pred_agg_rf_ALL'\n",
       "4. 'pred_agg_glm'\n",
       "5. 'pred_agg_rf'\n",
       "6. 'pred_seg_glm_ALL'\n",
       "7. 'pred_seg_rf_ALL'\n",
       "8. 'pred_seg2_glm_ALL'\n",
       "9. 'pred_seg2_rf_ALL'\n",
       "10. 'pred_meta_bf'\n",
       "11. 'pred_meta_fb'\n",
       "12. 'pred_agg_glm_ALL_fb'\n",
       "13. 'pred_agg_rf_ALL_fb'\n",
       "14. 'pred_agg_glm_fb'\n",
       "15. 'pred_agg_rf_fb'\n",
       "16. 'pred_seg_glm_ALL_fb'\n",
       "17. 'pred_seg_rf_ALL_fb'\n",
       "18. 'pred_seg2_glm_ALL_fb'\n",
       "19. 'pred_seg2_rf_ALL_fb'\n",
       "20. 'pred_meta_bf_fb'\n",
       "21. 'pred_meta_fb2'\n",
       "22. 'pred_meta_fb1'\n",
       "\n",
       "\n"
      ],
      "text/plain": [
       " [1] \"pred_meta\"            \"pred_agg_glm_ALL\"     \"pred_agg_rf_ALL\"     \n",
       " [4] \"pred_agg_glm\"         \"pred_agg_rf\"          \"pred_seg_glm_ALL\"    \n",
       " [7] \"pred_seg_rf_ALL\"      \"pred_seg2_glm_ALL\"    \"pred_seg2_rf_ALL\"    \n",
       "[10] \"pred_meta_bf\"         \"pred_meta_fb\"         \"pred_agg_glm_ALL_fb\" \n",
       "[13] \"pred_agg_rf_ALL_fb\"   \"pred_agg_glm_fb\"      \"pred_agg_rf_fb\"      \n",
       "[16] \"pred_seg_glm_ALL_fb\"  \"pred_seg_rf_ALL_fb\"   \"pred_seg2_glm_ALL_fb\"\n",
       "[19] \"pred_seg2_rf_ALL_fb\"  \"pred_meta_bf_fb\"      \"pred_meta_fb2\"       \n",
       "[22] \"pred_meta_fb1\"       "
      ]
     },
     "metadata": {},
     "output_type": "display_data"
    }
   ],
   "source": [
    "preds_all %>%\n",
    "  select(contains('pred')) %>% \n",
    "  names()"
   ]
  },
  {
   "cell_type": "markdown",
   "metadata": {},
   "source": [
    "# Evaluate perfromance"
   ]
  },
  {
   "cell_type": "code",
   "execution_count": 38,
   "metadata": {},
   "outputs": [],
   "source": [
    "\n",
    "lift_list <- list()\n",
    "auc_list <- list()\n",
    "\n",
    "fallback_lift <- chart_lift(pred_df=preds_all,\n",
    "                        dep_var = \"renewal_status\",\n",
    "                        pred_var = \"pred_meta\") \n",
    "\n",
    "lift_list[[\"meta-based\"]] <- fallback_lift\n",
    "auc_list[[\"meta-based\"]] <- calc_auc(lift_df=fallback_lift)\n",
    "\n",
    "models <- c('pred_agg_glm_ALL','pred_agg_rf_ALL','pred_agg_glm','pred_agg_rf',\n",
    "            'pred_seg_glm_ALL','pred_seg_rf_ALL','pred_seg2_glm_ALL','pred_seg2_rf_ALL',\n",
    "            'pred_meta_bf', # meta-based preds, NA's backfilled with agg_rf values\n",
    "            'pred_agg_glm_ALL_fb','pred_agg_rf_ALL_fb','pred_agg_glm_fb','pred_agg_rf_fb',\n",
    "            'pred_seg_glm_ALL_fb','pred_seg_rf_ALL_fb','pred_seg2_glm_ALL_fb','pred_seg2_rf_ALL_fb',\n",
    "            'pred_meta_fb2', # meta-based preds, NA's backfilled with fallback values\n",
    "            'pred_meta_fb1' # meta-based preds, NAs and low-volume backfilled with fallback values\n",
    "           )\n",
    "\n",
    "\n",
    "for (model in models){\n",
    "    model_lift <- chart_lift(pred_df=preds_all,\n",
    "                        dep_var = \"renewal_status\",\n",
    "                        pred_var = model) \n",
    "    \n",
    "    fallback_lift <- merge(fallback_lift, model_lift, by=c(\"P\"),all= TRUE, \n",
    "                           suffixes = c(\"\",\n",
    "                                        paste(\"_\",gsub(\"pred_df_\", \"\", model)) ))\n",
    "    \n",
    "    lift_list[[model]] <- model_lift\n",
    "    auc_list[[model]] <- calc_auc(lift_df=model_lift)\n",
    "}\n",
    "\n",
    "lift_df <- fallback_lift\n"
   ]
  },
  {
   "cell_type": "code",
   "execution_count": 39,
   "metadata": {},
   "outputs": [
    {
     "data": {
      "text/plain": [
       "\n",
       "Not Renewd    Renewed \n",
       "0.91768123 0.08231877 "
      ]
     },
     "metadata": {},
     "output_type": "display_data"
    }
   ],
   "source": [
    "prop.table(table(preds_all$renewal_status))"
   ]
  },
  {
   "cell_type": "code",
   "execution_count": 40,
   "metadata": {},
   "outputs": [],
   "source": [
    "plot_multigains <- function (lift_df_list=list(metamodel = fallback_lift),\n",
    "                             auc_list = list(metamodel = calc_auc(lift_df=fallback_lift)),\n",
    "                             prop_positive = 0.08231877 ) {\n",
    "  \n",
    "  optimal_df <- data.frame( \"P\"=c(0,prop_positive,1.0),\n",
    "                            \"actu_renwd2\"=c(NA,NA,NA),\n",
    "                            \"gain\"=c(0,1.0,1.0),\n",
    "                            \"lift\"=c(NA,NA,NA))\n",
    "  \n",
    "  lift_df_list <- lapply(lift_df_list, function(df) {\n",
    "    df <- df %>%\n",
    "      add_row(P = 0, gain =0) %>%\n",
    "      arrange(P)\n",
    "  })\n",
    "\n",
    "  auc_lift_list = paste(lapply(auc_list, round, 3),sapply(lift_df_list, function(x) round(x[2,\"lift\"],2)), sep=\", \")\n",
    "  \n",
    "  auc_map = paste(names(lift_df_list),auc_lift_list, sep=\" = \")[1:length(lift_df_list)]\n",
    "  \n",
    "  \n",
    "  gains_plot <- ggplot(NULL, aes(P,  gain)) +\n",
    "    geom_line(data = lift_df_list[[1]] %>% slice(1, n())) +\n",
    "    \n",
    "    list(geom_line(data=optimal_df), geom_point(data=optimal_df)) +\n",
    "    \n",
    "    scale_y_continuous(breaks = seq(0, 1, by = .1), limits = c(0,1)) +\n",
    "    scale_x_continuous(breaks = seq(0, 1, by = .1)) +\n",
    "    labs(title = \"Cumulative Gains Plot\",\n",
    "         y = \"Cumulative Gain\",\n",
    "         x = \"Percentile\")+\n",
    "    theme(text = element_text(size=20))\n",
    "  \n",
    "  for(i in seq(length(lift_df_list))){\n",
    "    name = names(lift_df_list)[[i]]\n",
    "    df = lift_df_list[[i]]\n",
    "    auc = auc_list[[i]]\n",
    "    gains_plot <- gains_plot + list(geom_line(data=df), \n",
    "                                    geom_point(data=df))+ \n",
    "      annotate(\"text\", x = .4, y = .9-i*.075, hjust = 0, label = auc_map[[i]], size = 5)\n",
    "  }\n",
    "  \n",
    "  \n",
    "  return(gains_plot)\n",
    "}\n"
   ]
  },
  {
   "cell_type": "code",
   "execution_count": 41,
   "metadata": {},
   "outputs": [
    {
     "name": "stderr",
     "output_type": "stream",
     "text": [
      "Warning message:\n",
      "“Removed 1 rows containing missing values (geom_text).”\n",
      "Warning message:\n",
      "“Removed 1 rows containing missing values (geom_text).”\n",
      "Warning message:\n",
      "“Removed 1 rows containing missing values (geom_text).”\n",
      "Warning message:\n",
      "“Removed 1 rows containing missing values (geom_text).”\n",
      "Warning message:\n",
      "“Removed 1 rows containing missing values (geom_text).”\n",
      "Warning message:\n",
      "“Removed 1 rows containing missing values (geom_text).”\n",
      "Warning message:\n",
      "“Removed 1 rows containing missing values (geom_text).”\n",
      "Warning message:\n",
      "“Removed 1 rows containing missing values (geom_text).”\n"
     ]
    },
    {
     "data": {
      "image/png": "[encoded data removed]",
      "text/plain": [
       "plot without title"
      ]
     },
     "metadata": {
      "image/png": {
       "height": 420,
       "width": 420
      },
      "text/plain": {
       "height": 420,
       "width": 420
      }
     },
     "output_type": "display_data"
    }
   ],
   "source": [
    "plot_multigains(            lift_df_list=lift_list,\n",
    "                             auc_list = auc_list,\n",
    "                             prop_positive = 0.08231877 ) "
   ]
  },
  {
   "cell_type": "code",
   "execution_count": 42,
   "metadata": {},
   "outputs": [
    {
     "data": {
      "text/html": [
       "<table>\n",
       "<caption>A data.frame: 19 × 1</caption>\n",
       "<thead>\n",
       "\t<tr><th></th><th scope=col>V1</th></tr>\n",
       "\t<tr><th></th><th scope=col>&lt;dbl&gt;</th></tr>\n",
       "</thead>\n",
       "<tbody>\n",
       "\t<tr><th scope=row>lift_ pred_agg_glm_ALL</th><td>3.754139</td></tr>\n",
       "\t<tr><th scope=row>lift_ pred_seg2_glm_ALL</th><td>3.752551</td></tr>\n",
       "\t<tr><th scope=row>lift_ pred_agg_rf_ALL</th><td>3.679532</td></tr>\n",
       "\t<tr><th scope=row>lift_ pred_meta_bf</th><td>3.631911</td></tr>\n",
       "\t<tr><th scope=row>lift_ pred_meta_fb1</th><td>3.627829</td></tr>\n",
       "\t<tr><th scope=row>lift_ pred_agg_glm</th><td>3.596081</td></tr>\n",
       "\t<tr><th scope=row>lift_ pred_seg_rf_ALL</th><td>3.566602</td></tr>\n",
       "\t<tr><th scope=row>lift_ pred_agg_rf</th><td>3.555037</td></tr>\n",
       "\t<tr><th scope=row>lift_ pred_seg_glm_ALL</th><td>3.517166</td></tr>\n",
       "\t<tr><th scope=row>lift_ pred_seg2_glm_ALL_fb</th><td>3.513765</td></tr>\n",
       "\t<tr><th scope=row>lift_ pred_agg_glm_fb</th><td>3.502653</td></tr>\n",
       "\t<tr><th scope=row>lift_ pred_seg2_rf_ALL</th><td>3.484965</td></tr>\n",
       "\t<tr><th scope=row>lift_ pred_agg_glm_ALL_fb</th><td>3.483378</td></tr>\n",
       "\t<tr><th scope=row>lift_ pred_agg_rf_ALL_fb</th><td>3.384054</td></tr>\n",
       "\t<tr><th scope=row>lift_ pred_agg_rf_fb</th><td>3.378158</td></tr>\n",
       "\t<tr><th scope=row>lift_ pred_meta_fb2</th><td>3.377704</td></tr>\n",
       "\t<tr><th scope=row>lift_ pred_seg_rf_ALL_fb</th><td>3.294027</td></tr>\n",
       "\t<tr><th scope=row>lift_ pred_seg_glm_ALL_fb</th><td>3.281781</td></tr>\n",
       "\t<tr><th scope=row>lift_ pred_seg2_rf_ALL_fb</th><td>3.221008</td></tr>\n",
       "</tbody>\n",
       "</table>\n"
      ],
      "text/latex": [
       "A data.frame: 19 × 1\n",
       "\\begin{tabular}{r|l}\n",
       "  & V1\\\\\n",
       "  & <dbl>\\\\\n",
       "\\hline\n",
       "\tlift\\_ pred\\_agg\\_glm\\_ALL & 3.754139\\\\\n",
       "\tlift\\_ pred\\_seg2\\_glm\\_ALL & 3.752551\\\\\n",
       "\tlift\\_ pred\\_agg\\_rf\\_ALL & 3.679532\\\\\n",
       "\tlift\\_ pred\\_meta\\_bf & 3.631911\\\\\n",
       "\tlift\\_ pred\\_meta\\_fb1 & 3.627829\\\\\n",
       "\tlift\\_ pred\\_agg\\_glm & 3.596081\\\\\n",
       "\tlift\\_ pred\\_seg\\_rf\\_ALL & 3.566602\\\\\n",
       "\tlift\\_ pred\\_agg\\_rf & 3.555037\\\\\n",
       "\tlift\\_ pred\\_seg\\_glm\\_ALL & 3.517166\\\\\n",
       "\tlift\\_ pred\\_seg2\\_glm\\_ALL\\_fb & 3.513765\\\\\n",
       "\tlift\\_ pred\\_agg\\_glm\\_fb & 3.502653\\\\\n",
       "\tlift\\_ pred\\_seg2\\_rf\\_ALL & 3.484965\\\\\n",
       "\tlift\\_ pred\\_agg\\_glm\\_ALL\\_fb & 3.483378\\\\\n",
       "\tlift\\_ pred\\_agg\\_rf\\_ALL\\_fb & 3.384054\\\\\n",
       "\tlift\\_ pred\\_agg\\_rf\\_fb & 3.378158\\\\\n",
       "\tlift\\_ pred\\_meta\\_fb2 & 3.377704\\\\\n",
       "\tlift\\_ pred\\_seg\\_rf\\_ALL\\_fb & 3.294027\\\\\n",
       "\tlift\\_ pred\\_seg\\_glm\\_ALL\\_fb & 3.281781\\\\\n",
       "\tlift\\_ pred\\_seg2\\_rf\\_ALL\\_fb & 3.221008\\\\\n",
       "\\end{tabular}\n"
      ],
      "text/markdown": [
       "\n",
       "A data.frame: 19 × 1\n",
       "\n",
       "| <!--/--> | V1 &lt;dbl&gt; |\n",
       "|---|---|\n",
       "| lift_ pred_agg_glm_ALL | 3.754139 |\n",
       "| lift_ pred_seg2_glm_ALL | 3.752551 |\n",
       "| lift_ pred_agg_rf_ALL | 3.679532 |\n",
       "| lift_ pred_meta_bf | 3.631911 |\n",
       "| lift_ pred_meta_fb1 | 3.627829 |\n",
       "| lift_ pred_agg_glm | 3.596081 |\n",
       "| lift_ pred_seg_rf_ALL | 3.566602 |\n",
       "| lift_ pred_agg_rf | 3.555037 |\n",
       "| lift_ pred_seg_glm_ALL | 3.517166 |\n",
       "| lift_ pred_seg2_glm_ALL_fb | 3.513765 |\n",
       "| lift_ pred_agg_glm_fb | 3.502653 |\n",
       "| lift_ pred_seg2_rf_ALL | 3.484965 |\n",
       "| lift_ pred_agg_glm_ALL_fb | 3.483378 |\n",
       "| lift_ pred_agg_rf_ALL_fb | 3.384054 |\n",
       "| lift_ pred_agg_rf_fb | 3.378158 |\n",
       "| lift_ pred_meta_fb2 | 3.377704 |\n",
       "| lift_ pred_seg_rf_ALL_fb | 3.294027 |\n",
       "| lift_ pred_seg_glm_ALL_fb | 3.281781 |\n",
       "| lift_ pred_seg2_rf_ALL_fb | 3.221008 |\n",
       "\n"
      ],
      "text/plain": [
       "                           V1      \n",
       "lift_ pred_agg_glm_ALL     3.754139\n",
       "lift_ pred_seg2_glm_ALL    3.752551\n",
       "lift_ pred_agg_rf_ALL      3.679532\n",
       "lift_ pred_meta_bf         3.631911\n",
       "lift_ pred_meta_fb1        3.627829\n",
       "lift_ pred_agg_glm         3.596081\n",
       "lift_ pred_seg_rf_ALL      3.566602\n",
       "lift_ pred_agg_rf          3.555037\n",
       "lift_ pred_seg_glm_ALL     3.517166\n",
       "lift_ pred_seg2_glm_ALL_fb 3.513765\n",
       "lift_ pred_agg_glm_fb      3.502653\n",
       "lift_ pred_seg2_rf_ALL     3.484965\n",
       "lift_ pred_agg_glm_ALL_fb  3.483378\n",
       "lift_ pred_agg_rf_ALL_fb   3.384054\n",
       "lift_ pred_agg_rf_fb       3.378158\n",
       "lift_ pred_meta_fb2        3.377704\n",
       "lift_ pred_seg_rf_ALL_fb   3.294027\n",
       "lift_ pred_seg_glm_ALL_fb  3.281781\n",
       "lift_ pred_seg2_rf_ALL_fb  3.221008"
      ]
     },
     "metadata": {},
     "output_type": "display_data"
    }
   ],
   "source": [
    "lift_df_10 <- lift_df %>% filter(P==0.1) %>% select(contains(\"lift_\")) %>% t\n",
    "df <- as.data.frame(as.data.frame(lift_df_10))\n",
    "df %>% arrange(desc(V1))"
   ]
  },
  {
   "cell_type": "code",
   "execution_count": 43,
   "metadata": {},
   "outputs": [
    {
     "data": {
      "text/html": [
       "<strong>lift_ pred_meta_bf:</strong> 0.0336237495966439"
      ],
      "text/latex": [
       "\\textbf{lift\\textbackslash{}\\_ pred\\textbackslash{}\\_meta\\textbackslash{}\\_bf:} 0.0336237495966439"
      ],
      "text/markdown": [
       "**lift_ pred_meta_bf:** 0.0336237495966439"
      ],
      "text/plain": [
       "lift_ pred_meta_bf \n",
       "        0.03362375 "
      ]
     },
     "metadata": {},
     "output_type": "display_data"
    }
   ],
   "source": [
    "# 3.36% improvement in performance of meta based predictions NAs backfilled with agg_rf over backfilled seg2_glm\n",
    "(lift_df_10['lift_ pred_meta_bf',]-lift_df_10['lift_ pred_seg2_glm_ALL_fb',])/lift_df_10['lift_ pred_seg2_glm_ALL_fb',]"
   ]
  },
  {
   "cell_type": "code",
   "execution_count": 44,
   "metadata": {},
   "outputs": [
    {
     "data": {
      "text/html": [
       "<strong>lift_ pred_agg_rf_ALL:</strong> 0.0471765085511455"
      ],
      "text/latex": [
       "\\textbf{lift\\textbackslash{}\\_ pred\\textbackslash{}\\_agg\\textbackslash{}\\_rf\\textbackslash{}\\_ALL:} 0.0471765085511455"
      ],
      "text/markdown": [
       "**lift_ pred_agg_rf_ALL:** 0.0471765085511455"
      ],
      "text/plain": [
       "lift_ pred_agg_rf_ALL \n",
       "           0.04717651 "
      ]
     },
     "metadata": {},
     "output_type": "display_data"
    }
   ],
   "source": [
    "# 4.7% improvement in performance of agg_rf over backfilled seg2_glm\n",
    "(lift_df_10['lift_ pred_agg_rf_ALL',]-lift_df_10['lift_ pred_seg2_glm_ALL_fb',])/lift_df_10['lift_ pred_seg2_glm_ALL_fb',]"
   ]
  },
  {
   "cell_type": "code",
   "execution_count": 45,
   "metadata": {},
   "outputs": [
    {
     "data": {
      "text/html": [
       "<table>\n",
       "<caption>A data.frame: 20 × 1</caption>\n",
       "<thead>\n",
       "\t<tr><th></th><th scope=col>V1</th></tr>\n",
       "\t<tr><th></th><th scope=col>&lt;dbl&gt;</th></tr>\n",
       "</thead>\n",
       "<tbody>\n",
       "\t<tr><th scope=row>pred_agg_rf_ALL</th><td>0.8046351</td></tr>\n",
       "\t<tr><th scope=row>pred_seg_rf_ALL</th><td>0.8030500</td></tr>\n",
       "\t<tr><th scope=row>pred_agg_glm_ALL</th><td>0.8028913</td></tr>\n",
       "\t<tr><th scope=row>pred_agg_rf</th><td>0.8022654</td></tr>\n",
       "\t<tr><th scope=row>pred_seg_glm_ALL</th><td>0.7995283</td></tr>\n",
       "\t<tr><th scope=row>pred_meta_bf</th><td>0.7990453</td></tr>\n",
       "\t<tr><th scope=row>pred_meta_fb1</th><td>0.7988662</td></tr>\n",
       "\t<tr><th scope=row>pred_seg_rf_ALL_fb</th><td>0.7959907</td></tr>\n",
       "\t<tr><th scope=row>meta.based</th><td>0.7945666</td></tr>\n",
       "\t<tr><th scope=row>pred_agg_rf_fb</th><td>0.7937616</td></tr>\n",
       "\t<tr><th scope=row>pred_agg_rf_ALL_fb</th><td>0.7932038</td></tr>\n",
       "\t<tr><th scope=row>pred_agg_glm_ALL_fb</th><td>0.7920677</td></tr>\n",
       "\t<tr><th scope=row>pred_agg_glm_fb</th><td>0.7919316</td></tr>\n",
       "\t<tr><th scope=row>pred_meta_fb2</th><td>0.7917479</td></tr>\n",
       "\t<tr><th scope=row>pred_seg2_glm_ALL</th><td>0.7917411</td></tr>\n",
       "\t<tr><th scope=row>pred_seg_glm_ALL_fb</th><td>0.7913171</td></tr>\n",
       "\t<tr><th scope=row>pred_seg2_glm_ALL_fb</th><td>0.7912762</td></tr>\n",
       "\t<tr><th scope=row>pred_seg2_rf_ALL_fb</th><td>0.7845526</td></tr>\n",
       "\t<tr><th scope=row>pred_seg2_rf_ALL</th><td>0.7821420</td></tr>\n",
       "\t<tr><th scope=row>pred_agg_glm</th><td>0.7527620</td></tr>\n",
       "</tbody>\n",
       "</table>\n"
      ],
      "text/latex": [
       "A data.frame: 20 × 1\n",
       "\\begin{tabular}{r|l}\n",
       "  & V1\\\\\n",
       "  & <dbl>\\\\\n",
       "\\hline\n",
       "\tpred\\_agg\\_rf\\_ALL & 0.8046351\\\\\n",
       "\tpred\\_seg\\_rf\\_ALL & 0.8030500\\\\\n",
       "\tpred\\_agg\\_glm\\_ALL & 0.8028913\\\\\n",
       "\tpred\\_agg\\_rf & 0.8022654\\\\\n",
       "\tpred\\_seg\\_glm\\_ALL & 0.7995283\\\\\n",
       "\tpred\\_meta\\_bf & 0.7990453\\\\\n",
       "\tpred\\_meta\\_fb1 & 0.7988662\\\\\n",
       "\tpred\\_seg\\_rf\\_ALL\\_fb & 0.7959907\\\\\n",
       "\tmeta.based & 0.7945666\\\\\n",
       "\tpred\\_agg\\_rf\\_fb & 0.7937616\\\\\n",
       "\tpred\\_agg\\_rf\\_ALL\\_fb & 0.7932038\\\\\n",
       "\tpred\\_agg\\_glm\\_ALL\\_fb & 0.7920677\\\\\n",
       "\tpred\\_agg\\_glm\\_fb & 0.7919316\\\\\n",
       "\tpred\\_meta\\_fb2 & 0.7917479\\\\\n",
       "\tpred\\_seg2\\_glm\\_ALL & 0.7917411\\\\\n",
       "\tpred\\_seg\\_glm\\_ALL\\_fb & 0.7913171\\\\\n",
       "\tpred\\_seg2\\_glm\\_ALL\\_fb & 0.7912762\\\\\n",
       "\tpred\\_seg2\\_rf\\_ALL\\_fb & 0.7845526\\\\\n",
       "\tpred\\_seg2\\_rf\\_ALL & 0.7821420\\\\\n",
       "\tpred\\_agg\\_glm & 0.7527620\\\\\n",
       "\\end{tabular}\n"
      ],
      "text/markdown": [
       "\n",
       "A data.frame: 20 × 1\n",
       "\n",
       "| <!--/--> | V1 &lt;dbl&gt; |\n",
       "|---|---|\n",
       "| pred_agg_rf_ALL | 0.8046351 |\n",
       "| pred_seg_rf_ALL | 0.8030500 |\n",
       "| pred_agg_glm_ALL | 0.8028913 |\n",
       "| pred_agg_rf | 0.8022654 |\n",
       "| pred_seg_glm_ALL | 0.7995283 |\n",
       "| pred_meta_bf | 0.7990453 |\n",
       "| pred_meta_fb1 | 0.7988662 |\n",
       "| pred_seg_rf_ALL_fb | 0.7959907 |\n",
       "| meta.based | 0.7945666 |\n",
       "| pred_agg_rf_fb | 0.7937616 |\n",
       "| pred_agg_rf_ALL_fb | 0.7932038 |\n",
       "| pred_agg_glm_ALL_fb | 0.7920677 |\n",
       "| pred_agg_glm_fb | 0.7919316 |\n",
       "| pred_meta_fb2 | 0.7917479 |\n",
       "| pred_seg2_glm_ALL | 0.7917411 |\n",
       "| pred_seg_glm_ALL_fb | 0.7913171 |\n",
       "| pred_seg2_glm_ALL_fb | 0.7912762 |\n",
       "| pred_seg2_rf_ALL_fb | 0.7845526 |\n",
       "| pred_seg2_rf_ALL | 0.7821420 |\n",
       "| pred_agg_glm | 0.7527620 |\n",
       "\n"
      ],
      "text/plain": [
       "                     V1       \n",
       "pred_agg_rf_ALL      0.8046351\n",
       "pred_seg_rf_ALL      0.8030500\n",
       "pred_agg_glm_ALL     0.8028913\n",
       "pred_agg_rf          0.8022654\n",
       "pred_seg_glm_ALL     0.7995283\n",
       "pred_meta_bf         0.7990453\n",
       "pred_meta_fb1        0.7988662\n",
       "pred_seg_rf_ALL_fb   0.7959907\n",
       "meta.based           0.7945666\n",
       "pred_agg_rf_fb       0.7937616\n",
       "pred_agg_rf_ALL_fb   0.7932038\n",
       "pred_agg_glm_ALL_fb  0.7920677\n",
       "pred_agg_glm_fb      0.7919316\n",
       "pred_meta_fb2        0.7917479\n",
       "pred_seg2_glm_ALL    0.7917411\n",
       "pred_seg_glm_ALL_fb  0.7913171\n",
       "pred_seg2_glm_ALL_fb 0.7912762\n",
       "pred_seg2_rf_ALL_fb  0.7845526\n",
       "pred_seg2_rf_ALL     0.7821420\n",
       "pred_agg_glm         0.7527620"
      ]
     },
     "metadata": {},
     "output_type": "display_data"
    }
   ],
   "source": [
    "df <- as.data.frame(as.data.frame(as.data.frame(auc_list)) %>% t())\n",
    "df %>% arrange(desc(V1))"
   ]
  },
  {
   "cell_type": "code",
   "execution_count": 46,
   "metadata": {},
   "outputs": [
    {
     "data": {
      "text/html": [
       "0.799045308177242"
      ],
      "text/latex": [
       "0.799045308177242"
      ],
      "text/markdown": [
       "0.799045308177242"
      ],
      "text/plain": [
       "[1] 0.7990453"
      ]
     },
     "metadata": {},
     "output_type": "display_data"
    },
    {
     "data": {
      "text/html": [
       "0.791276248355934"
      ],
      "text/latex": [
       "0.791276248355934"
      ],
      "text/markdown": [
       "0.791276248355934"
      ],
      "text/plain": [
       "[1] 0.7912762"
      ]
     },
     "metadata": {},
     "output_type": "display_data"
    },
    {
     "data": {
      "text/html": [
       "0.009818391285533"
      ],
      "text/latex": [
       "0.009818391285533"
      ],
      "text/markdown": [
       "0.009818391285533"
      ],
      "text/plain": [
       "[1] 0.009818391"
      ]
     },
     "metadata": {},
     "output_type": "display_data"
    }
   ],
   "source": [
    "# improvement in performance of meta_bf over seg2_glm_fb - auc\n",
    "auc_list$pred_meta_bf\n",
    "auc_list$pred_seg2_glm_ALL_fb\n",
    "(auc_list$pred_meta_bf-auc_list$pred_seg2_glm_ALL_fb)/(auc_list$pred_seg2_glm_ALL_fb)"
   ]
  },
  {
   "cell_type": "code",
   "execution_count": 47,
   "metadata": {},
   "outputs": [
    {
     "data": {
      "text/html": [
       "0.804635130844936"
      ],
      "text/latex": [
       "0.804635130844936"
      ],
      "text/markdown": [
       "0.804635130844936"
      ],
      "text/plain": [
       "[1] 0.8046351"
      ]
     },
     "metadata": {},
     "output_type": "display_data"
    },
    {
     "data": {
      "text/html": [
       "0.791276248355934"
      ],
      "text/latex": [
       "0.791276248355934"
      ],
      "text/markdown": [
       "0.791276248355934"
      ],
      "text/plain": [
       "[1] 0.7912762"
      ]
     },
     "metadata": {},
     "output_type": "display_data"
    },
    {
     "data": {
      "text/html": [
       "0.0168827037545459"
      ],
      "text/latex": [
       "0.0168827037545459"
      ],
      "text/markdown": [
       "0.0168827037545459"
      ],
      "text/plain": [
       "[1] 0.0168827"
      ]
     },
     "metadata": {},
     "output_type": "display_data"
    }
   ],
   "source": [
    "# improvement in performance of agg_rf over seg2_glm_fb - auc\n",
    "auc_list$pred_agg_rf_ALL\n",
    "auc_list$pred_seg2_glm_ALL_fb\n",
    "(auc_list$pred_agg_rf_ALL-auc_list$pred_seg2_glm_ALL_fb)/(auc_list$pred_seg2_glm_ALL_fb)"
   ]
  },
  {
   "cell_type": "code",
   "execution_count": null,
   "metadata": {},
   "outputs": [],
   "source": [
    "# # agg_rf vs. seg2_glm Sensitivity & Specificity at cutoff of .5 and =proppos\n",
    "# compare_df = as.data.frame(list('agg_rf_0.089'=confusionMatrix(as.factor(ifelse(preds_df$pred_agg_rf_ALL > 0.08937016, \"Renewed\", \"Not Renewd\")), \n",
    "#                 preds_df$renewal_status, positive=\"Renewed\")$byClass,\n",
    "#                   'seg2_glm_fb_0.089'=confusionMatrix(as.factor(ifelse(preds_df$pred_seg2_glm_ALL_fb2 > 0.08937016, \"Renewed\", \"Not Renewd\")), \n",
    "#                 preds_df$renewal_status, positive=\"Renewed\")$byClass,\n",
    "#               'agg_rf_0.500'=confusionMatrix(as.factor(ifelse(preds_df$pred_agg_rf_ALL > 0.5, \"Renewed\", \"Not Renewd\")), \n",
    "#                 preds_df$renewal_status, positive=\"Renewed\")$byClass,\n",
    "#                   'seg2_glm_fb_0.500'=confusionMatrix(as.factor(ifelse(preds_df$pred_seg2_glm_ALL_fb2 > 0.5, \"Renewed\", \"Not Renewd\")), \n",
    "#                 preds_df$renewal_status, positive=\"Renewed\")$byClass))\n",
    "# compare_df"
   ]
  },
  {
   "cell_type": "code",
   "execution_count": null,
   "metadata": {},
   "outputs": [],
   "source": [
    "# (0.86437281-0.80430608)/0.80430608\n",
    "# (0.25372042-0.18124430)/0.18124430"
   ]
  },
  {
   "cell_type": "code",
   "execution_count": null,
   "metadata": {},
   "outputs": [],
   "source": [
    "# # improvement in accuracy for agg_rf vs. seg2_glm (NOT REPORTED -- not appropriate for imbal data)\n",
    "# (compare_df['Sensitivity','agg_rf_0.089']-compare_df['Sensitivity','seg2_glm_fb_0.089'])/compare_df['Sensitivity','seg2_glm_fb_0.089']\n",
    "# compare_df = as.data.frame(list(\n",
    "#     'agg_rf_0.089'=confusionMatrix(as.factor(ifelse(preds_df$pred_agg_rf_ALL > 0.08937016, \"Renewed\", \"Not Renewd\")), \n",
    "#                 preds_df$renewal_status, positive=\"Renewed\")$overall['Accuracy'],\n",
    "#                   'seg2_glm_fb_0.089'=confusionMatrix(as.factor(ifelse(preds_df$pred_seg2_glm_ALL_fb2 > 0.08937016, \"Renewed\", \"Not Renewd\")), \n",
    "#                 preds_df$renewal_status, positive=\"Renewed\")$overall['Accuracy'],\n",
    "#               'agg_rf_0.500'=confusionMatrix(as.factor(ifelse(preds_df$pred_agg_rf_ALL > 0.5, \"Renewed\", \"Not Renewd\")), \n",
    "#                 preds_df$renewal_status, positive=\"Renewed\")$overall['Accuracy'],\n",
    "#                   'seg2_glm_fb_0.500'=confusionMatrix(as.factor(ifelse(preds_df$pred_seg2_glm_ALL_fb2 > 0.5, \"Renewed\", \"Not Renewd\")), \n",
    "#                 preds_df$renewal_status, positive=\"Renewed\")$overall['Accuracy']))\n",
    "# compare_df"
   ]
  },
  {
   "cell_type": "code",
   "execution_count": null,
   "metadata": {},
   "outputs": [],
   "source": [
    "# (0.795-0.792)/0.792"
   ]
  },
  {
   "cell_type": "markdown",
   "metadata": {},
   "source": [
    "# FUP for Parag: \n",
    "## tabular (& visual) representation -- which registrars, which model (reseller priority level) \n",
    "## also performance metrics, see below (but that may be for the following Th)"
   ]
  },
  {
   "cell_type": "markdown",
   "metadata": {},
   "source": [
    "### 1. Tabular"
   ]
  },
  {
   "cell_type": "code",
   "execution_count": 48,
   "metadata": {},
   "outputs": [
    {
     "data": {
      "text/html": [
       "<style>\n",
       ".list-inline {list-style: none; margin:0; padding: 0}\n",
       ".list-inline>li {display: inline-block}\n",
       ".list-inline>li:not(:last-child)::after {content: \"\\00b7\"; padding: 0 .5ex}\n",
       "</style>\n",
       "<ol class=list-inline><li>'reseller'</li><li>'reseller_country'</li><li>'reseller_geo'</li><li>'domain_id'</li><li>'model_meta'</li><li>'pred_meta'</li><li>'renewal_type'</li><li>'renewed_count'</li><li>'expiry_date'</li><li>'creation_date'</li><li>'status'</li><li>'domain'</li><li>'registrar'</li><li>'registrant_country'</li><li>'reg_period'</li><li>'reg_revenue'</li><li>'reg_arpt'</li><li>'renew_mbg'</li><li>'renewal_item_id'</li><li>'renew_type'</li><li>'autorenew_type'</li><li>'renewal_status'</li><li>'renew_date'</li><li>'renew_arpt'</li><li>'gibb_score'</li><li>'pattern'</li><li>'pattern_domain_count'</li><li>'day_domains'</li><li>'sld_length'</li><li>'sld_type'</li><li>'sld_type2'</li><li>'tld'</li><li>'region'</li><li>'log_reg_arpt'</li><li>'tld_registrar_index'</li><li>'pred_agg_glm_ALL'</li><li>'pred_agg_rf_ALL'</li><li>'pred_agg_glm'</li><li>'pred_agg_rf'</li><li>'pred_seg_glm_ALL'</li><li>'pred_seg_rf_ALL'</li><li>'pred_seg2_glm_ALL'</li><li>'pred_seg2_rf_ALL'</li><li>'pred_meta_bf'</li><li>'pred_meta_fb'</li><li>'pred_agg_glm_ALL_fb'</li><li>'pred_agg_rf_ALL_fb'</li><li>'pred_agg_glm_fb'</li><li>'pred_agg_rf_fb'</li><li>'pred_seg_glm_ALL_fb'</li><li>'pred_seg_rf_ALL_fb'</li><li>'pred_seg2_glm_ALL_fb'</li><li>'pred_seg2_rf_ALL_fb'</li><li>'pred_meta_bf_fb'</li><li>'reg_arpt_org'</li><li>'reg_arpt_slab'</li><li>'pred_meta_fb2'</li><li>'pred_meta_fb1'</li></ol>\n"
      ],
      "text/latex": [
       "\\begin{enumerate*}\n",
       "\\item 'reseller'\n",
       "\\item 'reseller\\_country'\n",
       "\\item 'reseller\\_geo'\n",
       "\\item 'domain\\_id'\n",
       "\\item 'model\\_meta'\n",
       "\\item 'pred\\_meta'\n",
       "\\item 'renewal\\_type'\n",
       "\\item 'renewed\\_count'\n",
       "\\item 'expiry\\_date'\n",
       "\\item 'creation\\_date'\n",
       "\\item 'status'\n",
       "\\item 'domain'\n",
       "\\item 'registrar'\n",
       "\\item 'registrant\\_country'\n",
       "\\item 'reg\\_period'\n",
       "\\item 'reg\\_revenue'\n",
       "\\item 'reg\\_arpt'\n",
       "\\item 'renew\\_mbg'\n",
       "\\item 'renewal\\_item\\_id'\n",
       "\\item 'renew\\_type'\n",
       "\\item 'autorenew\\_type'\n",
       "\\item 'renewal\\_status'\n",
       "\\item 'renew\\_date'\n",
       "\\item 'renew\\_arpt'\n",
       "\\item 'gibb\\_score'\n",
       "\\item 'pattern'\n",
       "\\item 'pattern\\_domain\\_count'\n",
       "\\item 'day\\_domains'\n",
       "\\item 'sld\\_length'\n",
       "\\item 'sld\\_type'\n",
       "\\item 'sld\\_type2'\n",
       "\\item 'tld'\n",
       "\\item 'region'\n",
       "\\item 'log\\_reg\\_arpt'\n",
       "\\item 'tld\\_registrar\\_index'\n",
       "\\item 'pred\\_agg\\_glm\\_ALL'\n",
       "\\item 'pred\\_agg\\_rf\\_ALL'\n",
       "\\item 'pred\\_agg\\_glm'\n",
       "\\item 'pred\\_agg\\_rf'\n",
       "\\item 'pred\\_seg\\_glm\\_ALL'\n",
       "\\item 'pred\\_seg\\_rf\\_ALL'\n",
       "\\item 'pred\\_seg2\\_glm\\_ALL'\n",
       "\\item 'pred\\_seg2\\_rf\\_ALL'\n",
       "\\item 'pred\\_meta\\_bf'\n",
       "\\item 'pred\\_meta\\_fb'\n",
       "\\item 'pred\\_agg\\_glm\\_ALL\\_fb'\n",
       "\\item 'pred\\_agg\\_rf\\_ALL\\_fb'\n",
       "\\item 'pred\\_agg\\_glm\\_fb'\n",
       "\\item 'pred\\_agg\\_rf\\_fb'\n",
       "\\item 'pred\\_seg\\_glm\\_ALL\\_fb'\n",
       "\\item 'pred\\_seg\\_rf\\_ALL\\_fb'\n",
       "\\item 'pred\\_seg2\\_glm\\_ALL\\_fb'\n",
       "\\item 'pred\\_seg2\\_rf\\_ALL\\_fb'\n",
       "\\item 'pred\\_meta\\_bf\\_fb'\n",
       "\\item 'reg\\_arpt\\_org'\n",
       "\\item 'reg\\_arpt\\_slab'\n",
       "\\item 'pred\\_meta\\_fb2'\n",
       "\\item 'pred\\_meta\\_fb1'\n",
       "\\end{enumerate*}\n"
      ],
      "text/markdown": [
       "1. 'reseller'\n",
       "2. 'reseller_country'\n",
       "3. 'reseller_geo'\n",
       "4. 'domain_id'\n",
       "5. 'model_meta'\n",
       "6. 'pred_meta'\n",
       "7. 'renewal_type'\n",
       "8. 'renewed_count'\n",
       "9. 'expiry_date'\n",
       "10. 'creation_date'\n",
       "11. 'status'\n",
       "12. 'domain'\n",
       "13. 'registrar'\n",
       "14. 'registrant_country'\n",
       "15. 'reg_period'\n",
       "16. 'reg_revenue'\n",
       "17. 'reg_arpt'\n",
       "18. 'renew_mbg'\n",
       "19. 'renewal_item_id'\n",
       "20. 'renew_type'\n",
       "21. 'autorenew_type'\n",
       "22. 'renewal_status'\n",
       "23. 'renew_date'\n",
       "24. 'renew_arpt'\n",
       "25. 'gibb_score'\n",
       "26. 'pattern'\n",
       "27. 'pattern_domain_count'\n",
       "28. 'day_domains'\n",
       "29. 'sld_length'\n",
       "30. 'sld_type'\n",
       "31. 'sld_type2'\n",
       "32. 'tld'\n",
       "33. 'region'\n",
       "34. 'log_reg_arpt'\n",
       "35. 'tld_registrar_index'\n",
       "36. 'pred_agg_glm_ALL'\n",
       "37. 'pred_agg_rf_ALL'\n",
       "38. 'pred_agg_glm'\n",
       "39. 'pred_agg_rf'\n",
       "40. 'pred_seg_glm_ALL'\n",
       "41. 'pred_seg_rf_ALL'\n",
       "42. 'pred_seg2_glm_ALL'\n",
       "43. 'pred_seg2_rf_ALL'\n",
       "44. 'pred_meta_bf'\n",
       "45. 'pred_meta_fb'\n",
       "46. 'pred_agg_glm_ALL_fb'\n",
       "47. 'pred_agg_rf_ALL_fb'\n",
       "48. 'pred_agg_glm_fb'\n",
       "49. 'pred_agg_rf_fb'\n",
       "50. 'pred_seg_glm_ALL_fb'\n",
       "51. 'pred_seg_rf_ALL_fb'\n",
       "52. 'pred_seg2_glm_ALL_fb'\n",
       "53. 'pred_seg2_rf_ALL_fb'\n",
       "54. 'pred_meta_bf_fb'\n",
       "55. 'reg_arpt_org'\n",
       "56. 'reg_arpt_slab'\n",
       "57. 'pred_meta_fb2'\n",
       "58. 'pred_meta_fb1'\n",
       "\n",
       "\n"
      ],
      "text/plain": [
       " [1] \"reseller\"             \"reseller_country\"     \"reseller_geo\"        \n",
       " [4] \"domain_id\"            \"model_meta\"           \"pred_meta\"           \n",
       " [7] \"renewal_type\"         \"renewed_count\"        \"expiry_date\"         \n",
       "[10] \"creation_date\"        \"status\"               \"domain\"              \n",
       "[13] \"registrar\"            \"registrant_country\"   \"reg_period\"          \n",
       "[16] \"reg_revenue\"          \"reg_arpt\"             \"renew_mbg\"           \n",
       "[19] \"renewal_item_id\"      \"renew_type\"           \"autorenew_type\"      \n",
       "[22] \"renewal_status\"       \"renew_date\"           \"renew_arpt\"          \n",
       "[25] \"gibb_score\"           \"pattern\"              \"pattern_domain_count\"\n",
       "[28] \"day_domains\"          \"sld_length\"           \"sld_type\"            \n",
       "[31] \"sld_type2\"            \"tld\"                  \"region\"              \n",
       "[34] \"log_reg_arpt\"         \"tld_registrar_index\"  \"pred_agg_glm_ALL\"    \n",
       "[37] \"pred_agg_rf_ALL\"      \"pred_agg_glm\"         \"pred_agg_rf\"         \n",
       "[40] \"pred_seg_glm_ALL\"     \"pred_seg_rf_ALL\"      \"pred_seg2_glm_ALL\"   \n",
       "[43] \"pred_seg2_rf_ALL\"     \"pred_meta_bf\"         \"pred_meta_fb\"        \n",
       "[46] \"pred_agg_glm_ALL_fb\"  \"pred_agg_rf_ALL_fb\"   \"pred_agg_glm_fb\"     \n",
       "[49] \"pred_agg_rf_fb\"       \"pred_seg_glm_ALL_fb\"  \"pred_seg_rf_ALL_fb\"  \n",
       "[52] \"pred_seg2_glm_ALL_fb\" \"pred_seg2_rf_ALL_fb\"  \"pred_meta_bf_fb\"     \n",
       "[55] \"reg_arpt_org\"         \"reg_arpt_slab\"        \"pred_meta_fb2\"       \n",
       "[58] \"pred_meta_fb1\"       "
      ]
     },
     "metadata": {},
     "output_type": "display_data"
    },
    {
     "data": {
      "text/html": [
       "<table>\n",
       "<caption>A data.frame: 6 × 58</caption>\n",
       "<thead>\n",
       "\t<tr><th></th><th scope=col>reseller</th><th scope=col>reseller_country</th><th scope=col>reseller_geo</th><th scope=col>domain_id</th><th scope=col>model_meta</th><th scope=col>pred_meta</th><th scope=col>renewal_type</th><th scope=col>renewed_count</th><th scope=col>expiry_date</th><th scope=col>creation_date</th><th scope=col>status</th><th scope=col>domain</th><th scope=col>registrar</th><th scope=col>registrant_country</th><th scope=col>reg_period</th><th scope=col>reg_revenue</th><th scope=col>reg_arpt</th><th scope=col>renew_mbg</th><th scope=col>renewal_item_id</th><th scope=col>renew_type</th><th scope=col>autorenew_type</th><th scope=col>renewal_status</th><th scope=col>renew_date</th><th scope=col>renew_arpt</th><th scope=col>gibb_score</th><th scope=col>⋯</th><th scope=col>log_reg_arpt</th><th scope=col>tld_registrar_index</th><th scope=col>pred_agg_glm_ALL</th><th scope=col>pred_agg_rf_ALL</th><th scope=col>pred_agg_glm</th><th scope=col>pred_agg_rf</th><th scope=col>pred_seg_glm_ALL</th><th scope=col>pred_seg_rf_ALL</th><th scope=col>pred_seg2_glm_ALL</th><th scope=col>pred_seg2_rf_ALL</th><th scope=col>pred_meta_bf</th><th scope=col>pred_meta_fb</th><th scope=col>pred_agg_glm_ALL_fb</th><th scope=col>pred_agg_rf_ALL_fb</th><th scope=col>pred_agg_glm_fb</th><th scope=col>pred_agg_rf_fb</th><th scope=col>pred_seg_glm_ALL_fb</th><th scope=col>pred_seg_rf_ALL_fb</th><th scope=col>pred_seg2_glm_ALL_fb</th><th scope=col>pred_seg2_rf_ALL_fb</th><th scope=col>pred_meta_bf_fb</th><th scope=col>reg_arpt_org</th><th scope=col>reg_arpt_slab</th><th scope=col>pred_meta_fb2</th><th scope=col>pred_meta_fb1</th></tr>\n",
       "\t<tr><th></th><th scope=col>&lt;fct&gt;</th><th scope=col>&lt;fct&gt;</th><th scope=col>&lt;fct&gt;</th><th scope=col>&lt;int&gt;</th><th scope=col>&lt;fct&gt;</th><th scope=col>&lt;dbl&gt;</th><th scope=col>&lt;fct&gt;</th><th scope=col>&lt;int&gt;</th><th scope=col>&lt;date&gt;</th><th scope=col>&lt;fct&gt;</th><th scope=col>&lt;fct&gt;</th><th scope=col>&lt;fct&gt;</th><th scope=col>&lt;fct&gt;</th><th scope=col>&lt;lgl&gt;</th><th scope=col>&lt;int&gt;</th><th scope=col>&lt;dbl&gt;</th><th scope=col>&lt;dbl&gt;</th><th scope=col>&lt;int&gt;</th><th scope=col>&lt;int&gt;</th><th scope=col>&lt;fct&gt;</th><th scope=col>&lt;fct&gt;</th><th scope=col>&lt;fct&gt;</th><th scope=col>&lt;fct&gt;</th><th scope=col>&lt;dbl&gt;</th><th scope=col>&lt;dbl&gt;</th><th scope=col>⋯</th><th scope=col>&lt;dbl&gt;</th><th scope=col>&lt;fct&gt;</th><th scope=col>&lt;dbl&gt;</th><th scope=col>&lt;dbl&gt;</th><th scope=col>&lt;dbl&gt;</th><th scope=col>&lt;dbl&gt;</th><th scope=col>&lt;dbl&gt;</th><th scope=col>&lt;dbl&gt;</th><th scope=col>&lt;dbl&gt;</th><th scope=col>&lt;dbl&gt;</th><th scope=col>&lt;dbl&gt;</th><th scope=col>&lt;dbl&gt;</th><th scope=col>&lt;dbl&gt;</th><th scope=col>&lt;dbl&gt;</th><th scope=col>&lt;dbl&gt;</th><th scope=col>&lt;dbl&gt;</th><th scope=col>&lt;dbl&gt;</th><th scope=col>&lt;dbl&gt;</th><th scope=col>&lt;dbl&gt;</th><th scope=col>&lt;dbl&gt;</th><th scope=col>&lt;dbl&gt;</th><th scope=col>&lt;dbl&gt;</th><th scope=col>&lt;fct&gt;</th><th scope=col>&lt;dbl&gt;</th><th scope=col>&lt;dbl&gt;</th></tr>\n",
       "</thead>\n",
       "<tbody>\n",
       "\t<tr><th scope=row>1</th><td>1&amp;1 Internet</td><td>Germany</td><td>EU</td><td>129547106</td><td>preds_agg_rf_ALL</td><td>0.5921809</td><td>FirstTime</td><td>1</td><td>2020-09-17</td><td>2019-09-17</td><td>Active</td><td><span style=white-space:pre-wrap>preciodeloro.online             </span></td><td>1&amp;1 Internet</td><td>NA</td><td>1</td><td> 5</td><td> 5</td><td>0</td><td>279480871</td><td>transfer</td><td>NA</td><td>Renewed</td><td>2020-01-14</td><td>25</td><td>7.19</td><td>⋯</td><td>1.609438</td><td>online1&amp;1 internet</td><td>0.588</td><td>0.5921809</td><td>0.574</td><td>0.5846861</td><td>0.554</td><td>0.5702239</td><td>0.5438008</td><td>0.5917278</td><td>0.5921809</td><td>0.5921809</td><td>0.588</td><td>0.5921809</td><td>0.574</td><td>0.5846861</td><td>0.554</td><td>0.5702239</td><td>0.5438008</td><td>0.5917278</td><td>0.5921809</td><td> 5</td><td><span style=white-space:pre-wrap>(3,5]  </span></td><td>0.5921809</td><td>0.5921809</td></tr>\n",
       "\t<tr><th scope=row>2</th><td>1&amp;1 Internet</td><td>Germany</td><td>EU</td><td> 76285079</td><td>preds_agg_rf_ALL</td><td>0.6141844</td><td>FirstTime</td><td>1</td><td>2020-09-10</td><td>2018-09-10</td><td>Active</td><td><span style=white-space:pre-wrap>advance7.online                 </span></td><td>1&amp;1 Internet</td><td>NA</td><td>2</td><td>30</td><td>15</td><td>0</td><td>225404981</td><td>transfer</td><td>NA</td><td>Renewed</td><td>2019-08-27</td><td>25</td><td>5.42</td><td>⋯</td><td>2.708050</td><td>online1&amp;1 internet</td><td>0.572</td><td>0.6141844</td><td>0.562</td><td>0.6244877</td><td>0.484</td><td>0.6159490</td><td>0.4851443</td><td>0.6179782</td><td>0.6141844</td><td>0.6141844</td><td>0.572</td><td>0.6141844</td><td>0.562</td><td>0.6244877</td><td>0.484</td><td>0.6159490</td><td>0.4851443</td><td>0.6179782</td><td>0.6141844</td><td>15</td><td>(10,15]</td><td>0.6141844</td><td>0.6141844</td></tr>\n",
       "\t<tr><th scope=row>3</th><td>1&amp;1 Internet</td><td>Germany</td><td>EU</td><td>132626216</td><td>preds_agg_rf_ALL</td><td>0.5986996</td><td>FirstTime</td><td>1</td><td>2020-10-02</td><td>2019-10-02</td><td>Active</td><td>stellenanzeigen-on-demand.online</td><td>1&amp;1 Internet</td><td>NA</td><td>1</td><td> 5</td><td> 5</td><td>0</td><td>323941649</td><td>renewal </td><td>NA</td><td>Renewed</td><td>2020-06-22</td><td>25</td><td>6.99</td><td>⋯</td><td>1.609438</td><td>online1&amp;1 internet</td><td>0.552</td><td>0.5986996</td><td>0.545</td><td>0.5923937</td><td>0.586</td><td>0.6187455</td><td>0.5799558</td><td>0.6340684</td><td>0.5986996</td><td>0.5986996</td><td>0.552</td><td>0.5986996</td><td>0.545</td><td>0.5923937</td><td>0.586</td><td>0.6187455</td><td>0.5799558</td><td>0.6340684</td><td>0.5986996</td><td> 5</td><td><span style=white-space:pre-wrap>(3,5]  </span></td><td>0.5986996</td><td>0.5986996</td></tr>\n",
       "\t<tr><th scope=row>4</th><td>1&amp;1 Internet</td><td>Germany</td><td>EU</td><td>127423021</td><td>preds_agg_rf_ALL</td><td>0.4743705</td><td>FirstTime</td><td>1</td><td>2020-09-07</td><td>2019-09-07</td><td>Active</td><td><span style=white-space:pre-wrap>colmex.online                   </span></td><td>1&amp;1 Internet</td><td>NA</td><td>1</td><td> 5</td><td> 5</td><td>0</td><td>244331895</td><td>renewal </td><td>NA</td><td>Renewed</td><td>2019-10-28</td><td>25</td><td>4.32</td><td>⋯</td><td>1.609438</td><td>online1&amp;1 internet</td><td>0.602</td><td>0.4743705</td><td>0.586</td><td>0.4799012</td><td>0.578</td><td>0.4853137</td><td>0.5700971</td><td>0.4702835</td><td>0.4743705</td><td>0.4743705</td><td>0.602</td><td>0.4743705</td><td>0.586</td><td>0.4799012</td><td>0.578</td><td>0.4853137</td><td>0.5700971</td><td>0.4702835</td><td>0.4743705</td><td> 5</td><td><span style=white-space:pre-wrap>(3,5]  </span></td><td>0.4743705</td><td>0.4743705</td></tr>\n",
       "\t<tr><th scope=row>5</th><td>1&amp;1 Internet</td><td>Germany</td><td>EU</td><td>127588571</td><td>preds_agg_rf_ALL</td><td>0.4919164</td><td>FirstTime</td><td>1</td><td>2020-09-08</td><td>2019-09-08</td><td>Active</td><td><span style=white-space:pre-wrap>chattaboxforum.online           </span></td><td>1&amp;1 Internet</td><td>NA</td><td>1</td><td> 5</td><td> 5</td><td>0</td><td>229331376</td><td>renewal </td><td>NA</td><td>Renewed</td><td>2019-09-09</td><td>25</td><td>3.66</td><td>⋯</td><td>1.609438</td><td>online1&amp;1 internet</td><td>0.568</td><td>0.4919164</td><td>0.553</td><td>0.4825344</td><td>0.554</td><td>0.4803202</td><td>0.5428917</td><td>0.4597726</td><td>0.4919164</td><td>0.4919164</td><td>0.568</td><td>0.4919164</td><td>0.553</td><td>0.4825344</td><td>0.554</td><td>0.4803202</td><td>0.5428917</td><td>0.4597726</td><td>0.4919164</td><td> 5</td><td><span style=white-space:pre-wrap>(3,5]  </span></td><td>0.4919164</td><td>0.4919164</td></tr>\n",
       "\t<tr><th scope=row>6</th><td>1&amp;1 Internet</td><td>Germany</td><td>EU</td><td>132629291</td><td>preds_agg_rf_ALL</td><td>0.6497964</td><td>FirstTime</td><td>1</td><td>2020-10-02</td><td>2019-10-02</td><td>Active</td><td><span style=white-space:pre-wrap>jobpodcast.online               </span></td><td>1&amp;1 Internet</td><td>NA</td><td>1</td><td> 5</td><td> 5</td><td>0</td><td>323938864</td><td>renewal </td><td>NA</td><td>Renewed</td><td>2020-06-22</td><td>25</td><td>1.96</td><td>⋯</td><td>1.609438</td><td>online1&amp;1 internet</td><td>0.582</td><td>0.6497964</td><td>0.566</td><td>0.6369012</td><td>0.571</td><td>0.5675839</td><td>0.5590710</td><td>0.6092187</td><td>0.6497964</td><td>0.6497964</td><td>0.582</td><td>0.6497964</td><td>0.566</td><td>0.6369012</td><td>0.571</td><td>0.5675839</td><td>0.5590710</td><td>0.6092187</td><td>0.6497964</td><td> 5</td><td><span style=white-space:pre-wrap>(3,5]  </span></td><td>0.6497964</td><td>0.6497964</td></tr>\n",
       "</tbody>\n",
       "</table>\n"
      ],
      "text/latex": [
       "A data.frame: 6 × 58\n",
       "\\begin{tabular}{r|lllllllllllllllllllllllllllllllllllllllllllllllllll}\n",
       "  & reseller & reseller\\_country & reseller\\_geo & domain\\_id & model\\_meta & pred\\_meta & renewal\\_type & renewed\\_count & expiry\\_date & creation\\_date & status & domain & registrar & registrant\\_country & reg\\_period & reg\\_revenue & reg\\_arpt & renew\\_mbg & renewal\\_item\\_id & renew\\_type & autorenew\\_type & renewal\\_status & renew\\_date & renew\\_arpt & gibb\\_score & ⋯ & log\\_reg\\_arpt & tld\\_registrar\\_index & pred\\_agg\\_glm\\_ALL & pred\\_agg\\_rf\\_ALL & pred\\_agg\\_glm & pred\\_agg\\_rf & pred\\_seg\\_glm\\_ALL & pred\\_seg\\_rf\\_ALL & pred\\_seg2\\_glm\\_ALL & pred\\_seg2\\_rf\\_ALL & pred\\_meta\\_bf & pred\\_meta\\_fb & pred\\_agg\\_glm\\_ALL\\_fb & pred\\_agg\\_rf\\_ALL\\_fb & pred\\_agg\\_glm\\_fb & pred\\_agg\\_rf\\_fb & pred\\_seg\\_glm\\_ALL\\_fb & pred\\_seg\\_rf\\_ALL\\_fb & pred\\_seg2\\_glm\\_ALL\\_fb & pred\\_seg2\\_rf\\_ALL\\_fb & pred\\_meta\\_bf\\_fb & reg\\_arpt\\_org & reg\\_arpt\\_slab & pred\\_meta\\_fb2 & pred\\_meta\\_fb1\\\\\n",
       "  & <fct> & <fct> & <fct> & <int> & <fct> & <dbl> & <fct> & <int> & <date> & <fct> & <fct> & <fct> & <fct> & <lgl> & <int> & <dbl> & <dbl> & <int> & <int> & <fct> & <fct> & <fct> & <fct> & <dbl> & <dbl> & ⋯ & <dbl> & <fct> & <dbl> & <dbl> & <dbl> & <dbl> & <dbl> & <dbl> & <dbl> & <dbl> & <dbl> & <dbl> & <dbl> & <dbl> & <dbl> & <dbl> & <dbl> & <dbl> & <dbl> & <dbl> & <dbl> & <dbl> & <fct> & <dbl> & <dbl>\\\\\n",
       "\\hline\n",
       "\t1 & 1\\&1 Internet & Germany & EU & 129547106 & preds\\_agg\\_rf\\_ALL & 0.5921809 & FirstTime & 1 & 2020-09-17 & 2019-09-17 & Active & preciodeloro.online              & 1\\&1 Internet & NA & 1 &  5 &  5 & 0 & 279480871 & transfer & NA & Renewed & 2020-01-14 & 25 & 7.19 & ⋯ & 1.609438 & online1\\&1 internet & 0.588 & 0.5921809 & 0.574 & 0.5846861 & 0.554 & 0.5702239 & 0.5438008 & 0.5917278 & 0.5921809 & 0.5921809 & 0.588 & 0.5921809 & 0.574 & 0.5846861 & 0.554 & 0.5702239 & 0.5438008 & 0.5917278 & 0.5921809 &  5 & (3,5{]}   & 0.5921809 & 0.5921809\\\\\n",
       "\t2 & 1\\&1 Internet & Germany & EU &  76285079 & preds\\_agg\\_rf\\_ALL & 0.6141844 & FirstTime & 1 & 2020-09-10 & 2018-09-10 & Active & advance7.online                  & 1\\&1 Internet & NA & 2 & 30 & 15 & 0 & 225404981 & transfer & NA & Renewed & 2019-08-27 & 25 & 5.42 & ⋯ & 2.708050 & online1\\&1 internet & 0.572 & 0.6141844 & 0.562 & 0.6244877 & 0.484 & 0.6159490 & 0.4851443 & 0.6179782 & 0.6141844 & 0.6141844 & 0.572 & 0.6141844 & 0.562 & 0.6244877 & 0.484 & 0.6159490 & 0.4851443 & 0.6179782 & 0.6141844 & 15 & (10,15{]} & 0.6141844 & 0.6141844\\\\\n",
       "\t3 & 1\\&1 Internet & Germany & EU & 132626216 & preds\\_agg\\_rf\\_ALL & 0.5986996 & FirstTime & 1 & 2020-10-02 & 2019-10-02 & Active & stellenanzeigen-on-demand.online & 1\\&1 Internet & NA & 1 &  5 &  5 & 0 & 323941649 & renewal  & NA & Renewed & 2020-06-22 & 25 & 6.99 & ⋯ & 1.609438 & online1\\&1 internet & 0.552 & 0.5986996 & 0.545 & 0.5923937 & 0.586 & 0.6187455 & 0.5799558 & 0.6340684 & 0.5986996 & 0.5986996 & 0.552 & 0.5986996 & 0.545 & 0.5923937 & 0.586 & 0.6187455 & 0.5799558 & 0.6340684 & 0.5986996 &  5 & (3,5{]}   & 0.5986996 & 0.5986996\\\\\n",
       "\t4 & 1\\&1 Internet & Germany & EU & 127423021 & preds\\_agg\\_rf\\_ALL & 0.4743705 & FirstTime & 1 & 2020-09-07 & 2019-09-07 & Active & colmex.online                    & 1\\&1 Internet & NA & 1 &  5 &  5 & 0 & 244331895 & renewal  & NA & Renewed & 2019-10-28 & 25 & 4.32 & ⋯ & 1.609438 & online1\\&1 internet & 0.602 & 0.4743705 & 0.586 & 0.4799012 & 0.578 & 0.4853137 & 0.5700971 & 0.4702835 & 0.4743705 & 0.4743705 & 0.602 & 0.4743705 & 0.586 & 0.4799012 & 0.578 & 0.4853137 & 0.5700971 & 0.4702835 & 0.4743705 &  5 & (3,5{]}   & 0.4743705 & 0.4743705\\\\\n",
       "\t5 & 1\\&1 Internet & Germany & EU & 127588571 & preds\\_agg\\_rf\\_ALL & 0.4919164 & FirstTime & 1 & 2020-09-08 & 2019-09-08 & Active & chattaboxforum.online            & 1\\&1 Internet & NA & 1 &  5 &  5 & 0 & 229331376 & renewal  & NA & Renewed & 2019-09-09 & 25 & 3.66 & ⋯ & 1.609438 & online1\\&1 internet & 0.568 & 0.4919164 & 0.553 & 0.4825344 & 0.554 & 0.4803202 & 0.5428917 & 0.4597726 & 0.4919164 & 0.4919164 & 0.568 & 0.4919164 & 0.553 & 0.4825344 & 0.554 & 0.4803202 & 0.5428917 & 0.4597726 & 0.4919164 &  5 & (3,5{]}   & 0.4919164 & 0.4919164\\\\\n",
       "\t6 & 1\\&1 Internet & Germany & EU & 132629291 & preds\\_agg\\_rf\\_ALL & 0.6497964 & FirstTime & 1 & 2020-10-02 & 2019-10-02 & Active & jobpodcast.online                & 1\\&1 Internet & NA & 1 &  5 &  5 & 0 & 323938864 & renewal  & NA & Renewed & 2020-06-22 & 25 & 1.96 & ⋯ & 1.609438 & online1\\&1 internet & 0.582 & 0.6497964 & 0.566 & 0.6369012 & 0.571 & 0.5675839 & 0.5590710 & 0.6092187 & 0.6497964 & 0.6497964 & 0.582 & 0.6497964 & 0.566 & 0.6369012 & 0.571 & 0.5675839 & 0.5590710 & 0.6092187 & 0.6497964 &  5 & (3,5{]}   & 0.6497964 & 0.6497964\\\\\n",
       "\\end{tabular}\n"
      ],
      "text/markdown": [
       "\n",
       "A data.frame: 6 × 58\n",
       "\n",
       "| <!--/--> | reseller &lt;fct&gt; | reseller_country &lt;fct&gt; | reseller_geo &lt;fct&gt; | domain_id &lt;int&gt; | model_meta &lt;fct&gt; | pred_meta &lt;dbl&gt; | renewal_type &lt;fct&gt; | renewed_count &lt;int&gt; | expiry_date &lt;date&gt; | creation_date &lt;fct&gt; | status &lt;fct&gt; | domain &lt;fct&gt; | registrar &lt;fct&gt; | registrant_country &lt;lgl&gt; | reg_period &lt;int&gt; | reg_revenue &lt;dbl&gt; | reg_arpt &lt;dbl&gt; | renew_mbg &lt;int&gt; | renewal_item_id &lt;int&gt; | renew_type &lt;fct&gt; | autorenew_type &lt;fct&gt; | renewal_status &lt;fct&gt; | renew_date &lt;fct&gt; | renew_arpt &lt;dbl&gt; | gibb_score &lt;dbl&gt; | ⋯ ⋯ | log_reg_arpt &lt;dbl&gt; | tld_registrar_index &lt;fct&gt; | pred_agg_glm_ALL &lt;dbl&gt; | pred_agg_rf_ALL &lt;dbl&gt; | pred_agg_glm &lt;dbl&gt; | pred_agg_rf &lt;dbl&gt; | pred_seg_glm_ALL &lt;dbl&gt; | pred_seg_rf_ALL &lt;dbl&gt; | pred_seg2_glm_ALL &lt;dbl&gt; | pred_seg2_rf_ALL &lt;dbl&gt; | pred_meta_bf &lt;dbl&gt; | pred_meta_fb &lt;dbl&gt; | pred_agg_glm_ALL_fb &lt;dbl&gt; | pred_agg_rf_ALL_fb &lt;dbl&gt; | pred_agg_glm_fb &lt;dbl&gt; | pred_agg_rf_fb &lt;dbl&gt; | pred_seg_glm_ALL_fb &lt;dbl&gt; | pred_seg_rf_ALL_fb &lt;dbl&gt; | pred_seg2_glm_ALL_fb &lt;dbl&gt; | pred_seg2_rf_ALL_fb &lt;dbl&gt; | pred_meta_bf_fb &lt;dbl&gt; | reg_arpt_org &lt;dbl&gt; | reg_arpt_slab &lt;fct&gt; | pred_meta_fb2 &lt;dbl&gt; | pred_meta_fb1 &lt;dbl&gt; |\n",
       "|---|---|---|---|---|---|---|---|---|---|---|---|---|---|---|---|---|---|---|---|---|---|---|---|---|---|---|---|---|---|---|---|---|---|---|---|---|---|---|---|---|---|---|---|---|---|---|---|---|---|---|---|\n",
       "| 1 | 1&amp;1 Internet | Germany | EU | 129547106 | preds_agg_rf_ALL | 0.5921809 | FirstTime | 1 | 2020-09-17 | 2019-09-17 | Active | preciodeloro.online              | 1&amp;1 Internet | NA | 1 |  5 |  5 | 0 | 279480871 | transfer | NA | Renewed | 2020-01-14 | 25 | 7.19 | ⋯ | 1.609438 | online1&amp;1 internet | 0.588 | 0.5921809 | 0.574 | 0.5846861 | 0.554 | 0.5702239 | 0.5438008 | 0.5917278 | 0.5921809 | 0.5921809 | 0.588 | 0.5921809 | 0.574 | 0.5846861 | 0.554 | 0.5702239 | 0.5438008 | 0.5917278 | 0.5921809 |  5 | (3,5]   | 0.5921809 | 0.5921809 |\n",
       "| 2 | 1&amp;1 Internet | Germany | EU |  76285079 | preds_agg_rf_ALL | 0.6141844 | FirstTime | 1 | 2020-09-10 | 2018-09-10 | Active | advance7.online                  | 1&amp;1 Internet | NA | 2 | 30 | 15 | 0 | 225404981 | transfer | NA | Renewed | 2019-08-27 | 25 | 5.42 | ⋯ | 2.708050 | online1&amp;1 internet | 0.572 | 0.6141844 | 0.562 | 0.6244877 | 0.484 | 0.6159490 | 0.4851443 | 0.6179782 | 0.6141844 | 0.6141844 | 0.572 | 0.6141844 | 0.562 | 0.6244877 | 0.484 | 0.6159490 | 0.4851443 | 0.6179782 | 0.6141844 | 15 | (10,15] | 0.6141844 | 0.6141844 |\n",
       "| 3 | 1&amp;1 Internet | Germany | EU | 132626216 | preds_agg_rf_ALL | 0.5986996 | FirstTime | 1 | 2020-10-02 | 2019-10-02 | Active | stellenanzeigen-on-demand.online | 1&amp;1 Internet | NA | 1 |  5 |  5 | 0 | 323941649 | renewal  | NA | Renewed | 2020-06-22 | 25 | 6.99 | ⋯ | 1.609438 | online1&amp;1 internet | 0.552 | 0.5986996 | 0.545 | 0.5923937 | 0.586 | 0.6187455 | 0.5799558 | 0.6340684 | 0.5986996 | 0.5986996 | 0.552 | 0.5986996 | 0.545 | 0.5923937 | 0.586 | 0.6187455 | 0.5799558 | 0.6340684 | 0.5986996 |  5 | (3,5]   | 0.5986996 | 0.5986996 |\n",
       "| 4 | 1&amp;1 Internet | Germany | EU | 127423021 | preds_agg_rf_ALL | 0.4743705 | FirstTime | 1 | 2020-09-07 | 2019-09-07 | Active | colmex.online                    | 1&amp;1 Internet | NA | 1 |  5 |  5 | 0 | 244331895 | renewal  | NA | Renewed | 2019-10-28 | 25 | 4.32 | ⋯ | 1.609438 | online1&amp;1 internet | 0.602 | 0.4743705 | 0.586 | 0.4799012 | 0.578 | 0.4853137 | 0.5700971 | 0.4702835 | 0.4743705 | 0.4743705 | 0.602 | 0.4743705 | 0.586 | 0.4799012 | 0.578 | 0.4853137 | 0.5700971 | 0.4702835 | 0.4743705 |  5 | (3,5]   | 0.4743705 | 0.4743705 |\n",
       "| 5 | 1&amp;1 Internet | Germany | EU | 127588571 | preds_agg_rf_ALL | 0.4919164 | FirstTime | 1 | 2020-09-08 | 2019-09-08 | Active | chattaboxforum.online            | 1&amp;1 Internet | NA | 1 |  5 |  5 | 0 | 229331376 | renewal  | NA | Renewed | 2019-09-09 | 25 | 3.66 | ⋯ | 1.609438 | online1&amp;1 internet | 0.568 | 0.4919164 | 0.553 | 0.4825344 | 0.554 | 0.4803202 | 0.5428917 | 0.4597726 | 0.4919164 | 0.4919164 | 0.568 | 0.4919164 | 0.553 | 0.4825344 | 0.554 | 0.4803202 | 0.5428917 | 0.4597726 | 0.4919164 |  5 | (3,5]   | 0.4919164 | 0.4919164 |\n",
       "| 6 | 1&amp;1 Internet | Germany | EU | 132629291 | preds_agg_rf_ALL | 0.6497964 | FirstTime | 1 | 2020-10-02 | 2019-10-02 | Active | jobpodcast.online                | 1&amp;1 Internet | NA | 1 |  5 |  5 | 0 | 323938864 | renewal  | NA | Renewed | 2020-06-22 | 25 | 1.96 | ⋯ | 1.609438 | online1&amp;1 internet | 0.582 | 0.6497964 | 0.566 | 0.6369012 | 0.571 | 0.5675839 | 0.5590710 | 0.6092187 | 0.6497964 | 0.6497964 | 0.582 | 0.6497964 | 0.566 | 0.6369012 | 0.571 | 0.5675839 | 0.5590710 | 0.6092187 | 0.6497964 |  5 | (3,5]   | 0.6497964 | 0.6497964 |\n",
       "\n"
      ],
      "text/plain": [
       "  reseller     reseller_country reseller_geo domain_id model_meta      \n",
       "1 1&1 Internet Germany          EU           129547106 preds_agg_rf_ALL\n",
       "2 1&1 Internet Germany          EU            76285079 preds_agg_rf_ALL\n",
       "3 1&1 Internet Germany          EU           132626216 preds_agg_rf_ALL\n",
       "4 1&1 Internet Germany          EU           127423021 preds_agg_rf_ALL\n",
       "5 1&1 Internet Germany          EU           127588571 preds_agg_rf_ALL\n",
       "6 1&1 Internet Germany          EU           132629291 preds_agg_rf_ALL\n",
       "  pred_meta renewal_type renewed_count expiry_date creation_date status\n",
       "1 0.5921809 FirstTime    1             2020-09-17  2019-09-17    Active\n",
       "2 0.6141844 FirstTime    1             2020-09-10  2018-09-10    Active\n",
       "3 0.5986996 FirstTime    1             2020-10-02  2019-10-02    Active\n",
       "4 0.4743705 FirstTime    1             2020-09-07  2019-09-07    Active\n",
       "5 0.4919164 FirstTime    1             2020-09-08  2019-09-08    Active\n",
       "6 0.6497964 FirstTime    1             2020-10-02  2019-10-02    Active\n",
       "  domain                           registrar    registrant_country reg_period\n",
       "1 preciodeloro.online              1&1 Internet NA                 1         \n",
       "2 advance7.online                  1&1 Internet NA                 2         \n",
       "3 stellenanzeigen-on-demand.online 1&1 Internet NA                 1         \n",
       "4 colmex.online                    1&1 Internet NA                 1         \n",
       "5 chattaboxforum.online            1&1 Internet NA                 1         \n",
       "6 jobpodcast.online                1&1 Internet NA                 1         \n",
       "  reg_revenue reg_arpt renew_mbg renewal_item_id renew_type autorenew_type\n",
       "1  5           5       0         279480871       transfer   NA            \n",
       "2 30          15       0         225404981       transfer   NA            \n",
       "3  5           5       0         323941649       renewal    NA            \n",
       "4  5           5       0         244331895       renewal    NA            \n",
       "5  5           5       0         229331376       renewal    NA            \n",
       "6  5           5       0         323938864       renewal    NA            \n",
       "  renewal_status renew_date renew_arpt gibb_score ⋯ log_reg_arpt\n",
       "1 Renewed        2020-01-14 25         7.19       ⋯ 1.609438    \n",
       "2 Renewed        2019-08-27 25         5.42       ⋯ 2.708050    \n",
       "3 Renewed        2020-06-22 25         6.99       ⋯ 1.609438    \n",
       "4 Renewed        2019-10-28 25         4.32       ⋯ 1.609438    \n",
       "5 Renewed        2019-09-09 25         3.66       ⋯ 1.609438    \n",
       "6 Renewed        2020-06-22 25         1.96       ⋯ 1.609438    \n",
       "  tld_registrar_index pred_agg_glm_ALL pred_agg_rf_ALL pred_agg_glm pred_agg_rf\n",
       "1 online1&1 internet  0.588            0.5921809       0.574        0.5846861  \n",
       "2 online1&1 internet  0.572            0.6141844       0.562        0.6244877  \n",
       "3 online1&1 internet  0.552            0.5986996       0.545        0.5923937  \n",
       "4 online1&1 internet  0.602            0.4743705       0.586        0.4799012  \n",
       "5 online1&1 internet  0.568            0.4919164       0.553        0.4825344  \n",
       "6 online1&1 internet  0.582            0.6497964       0.566        0.6369012  \n",
       "  pred_seg_glm_ALL pred_seg_rf_ALL pred_seg2_glm_ALL pred_seg2_rf_ALL\n",
       "1 0.554            0.5702239       0.5438008         0.5917278       \n",
       "2 0.484            0.6159490       0.4851443         0.6179782       \n",
       "3 0.586            0.6187455       0.5799558         0.6340684       \n",
       "4 0.578            0.4853137       0.5700971         0.4702835       \n",
       "5 0.554            0.4803202       0.5428917         0.4597726       \n",
       "6 0.571            0.5675839       0.5590710         0.6092187       \n",
       "  pred_meta_bf pred_meta_fb pred_agg_glm_ALL_fb pred_agg_rf_ALL_fb\n",
       "1 0.5921809    0.5921809    0.588               0.5921809         \n",
       "2 0.6141844    0.6141844    0.572               0.6141844         \n",
       "3 0.5986996    0.5986996    0.552               0.5986996         \n",
       "4 0.4743705    0.4743705    0.602               0.4743705         \n",
       "5 0.4919164    0.4919164    0.568               0.4919164         \n",
       "6 0.6497964    0.6497964    0.582               0.6497964         \n",
       "  pred_agg_glm_fb pred_agg_rf_fb pred_seg_glm_ALL_fb pred_seg_rf_ALL_fb\n",
       "1 0.574           0.5846861      0.554               0.5702239         \n",
       "2 0.562           0.6244877      0.484               0.6159490         \n",
       "3 0.545           0.5923937      0.586               0.6187455         \n",
       "4 0.586           0.4799012      0.578               0.4853137         \n",
       "5 0.553           0.4825344      0.554               0.4803202         \n",
       "6 0.566           0.6369012      0.571               0.5675839         \n",
       "  pred_seg2_glm_ALL_fb pred_seg2_rf_ALL_fb pred_meta_bf_fb reg_arpt_org\n",
       "1 0.5438008            0.5917278           0.5921809        5          \n",
       "2 0.4851443            0.6179782           0.6141844       15          \n",
       "3 0.5799558            0.6340684           0.5986996        5          \n",
       "4 0.5700971            0.4702835           0.4743705        5          \n",
       "5 0.5428917            0.4597726           0.4919164        5          \n",
       "6 0.5590710            0.6092187           0.6497964        5          \n",
       "  reg_arpt_slab pred_meta_fb2 pred_meta_fb1\n",
       "1 (3,5]         0.5921809     0.5921809    \n",
       "2 (10,15]       0.6141844     0.6141844    \n",
       "3 (3,5]         0.5986996     0.5986996    \n",
       "4 (3,5]         0.4743705     0.4743705    \n",
       "5 (3,5]         0.4919164     0.4919164    \n",
       "6 (3,5]         0.6497964     0.6497964    "
      ]
     },
     "metadata": {},
     "output_type": "display_data"
    }
   ],
   "source": [
    "names(preds_all)\n",
    "head(preds_all)"
   ]
  },
  {
   "cell_type": "code",
   "execution_count": 49,
   "metadata": {},
   "outputs": [
    {
     "data": {
      "text/html": [
       "<style>\n",
       ".list-inline {list-style: none; margin:0; padding: 0}\n",
       ".list-inline>li {display: inline-block}\n",
       ".list-inline>li:not(:last-child)::after {content: \"\\00b7\"; padding: 0 .5ex}\n",
       "</style>\n",
       "<ol class=list-inline><li>535698</li><li>61</li></ol>\n"
      ],
      "text/latex": [
       "\\begin{enumerate*}\n",
       "\\item 535698\n",
       "\\item 61\n",
       "\\end{enumerate*}\n"
      ],
      "text/markdown": [
       "1. 535698\n",
       "2. 61\n",
       "\n",
       "\n"
      ],
      "text/plain": [
       "[1] 535698     61"
      ]
     },
     "metadata": {},
     "output_type": "display_data"
    },
    {
     "data": {
      "text/html": [
       "<table>\n",
       "<caption>A data.frame: 6 × 61</caption>\n",
       "<thead>\n",
       "\t<tr><th></th><th scope=col>reseller</th><th scope=col>reseller_country</th><th scope=col>reseller_geo</th><th scope=col>domain_id</th><th scope=col>model_meta</th><th scope=col>pred_meta</th><th scope=col>renewal_type</th><th scope=col>renewed_count</th><th scope=col>expiry_date</th><th scope=col>creation_date</th><th scope=col>status</th><th scope=col>domain</th><th scope=col>registrar</th><th scope=col>registrant_country</th><th scope=col>reg_period</th><th scope=col>reg_revenue</th><th scope=col>reg_arpt</th><th scope=col>renew_mbg</th><th scope=col>renewal_item_id</th><th scope=col>renew_type</th><th scope=col>autorenew_type</th><th scope=col>renewal_status</th><th scope=col>renew_date</th><th scope=col>renew_arpt</th><th scope=col>gibb_score</th><th scope=col>⋯</th><th scope=col>pred_agg_rf_ALL</th><th scope=col>pred_agg_glm</th><th scope=col>pred_agg_rf</th><th scope=col>pred_seg_glm_ALL</th><th scope=col>pred_seg_rf_ALL</th><th scope=col>pred_seg2_glm_ALL</th><th scope=col>pred_seg2_rf_ALL</th><th scope=col>pred_meta_bf</th><th scope=col>pred_meta_fb</th><th scope=col>pred_agg_glm_ALL_fb</th><th scope=col>pred_agg_rf_ALL_fb</th><th scope=col>pred_agg_glm_fb</th><th scope=col>pred_agg_rf_fb</th><th scope=col>pred_seg_glm_ALL_fb</th><th scope=col>pred_seg_rf_ALL_fb</th><th scope=col>pred_seg2_glm_ALL_fb</th><th scope=col>pred_seg2_rf_ALL_fb</th><th scope=col>pred_meta_bf_fb</th><th scope=col>reg_arpt_org</th><th scope=col>reg_arpt_slab</th><th scope=col>pred_meta_fb2</th><th scope=col>pred_meta_fb1</th><th scope=col>market</th><th scope=col>npv2020</th><th scope=col>priority</th></tr>\n",
       "\t<tr><th></th><th scope=col>&lt;chr&gt;</th><th scope=col>&lt;fct&gt;</th><th scope=col>&lt;fct&gt;</th><th scope=col>&lt;int&gt;</th><th scope=col>&lt;fct&gt;</th><th scope=col>&lt;dbl&gt;</th><th scope=col>&lt;fct&gt;</th><th scope=col>&lt;int&gt;</th><th scope=col>&lt;date&gt;</th><th scope=col>&lt;fct&gt;</th><th scope=col>&lt;fct&gt;</th><th scope=col>&lt;fct&gt;</th><th scope=col>&lt;fct&gt;</th><th scope=col>&lt;lgl&gt;</th><th scope=col>&lt;int&gt;</th><th scope=col>&lt;dbl&gt;</th><th scope=col>&lt;dbl&gt;</th><th scope=col>&lt;int&gt;</th><th scope=col>&lt;int&gt;</th><th scope=col>&lt;fct&gt;</th><th scope=col>&lt;fct&gt;</th><th scope=col>&lt;fct&gt;</th><th scope=col>&lt;fct&gt;</th><th scope=col>&lt;dbl&gt;</th><th scope=col>&lt;dbl&gt;</th><th scope=col>⋯</th><th scope=col>&lt;dbl&gt;</th><th scope=col>&lt;dbl&gt;</th><th scope=col>&lt;dbl&gt;</th><th scope=col>&lt;dbl&gt;</th><th scope=col>&lt;dbl&gt;</th><th scope=col>&lt;dbl&gt;</th><th scope=col>&lt;dbl&gt;</th><th scope=col>&lt;dbl&gt;</th><th scope=col>&lt;dbl&gt;</th><th scope=col>&lt;dbl&gt;</th><th scope=col>&lt;dbl&gt;</th><th scope=col>&lt;dbl&gt;</th><th scope=col>&lt;dbl&gt;</th><th scope=col>&lt;dbl&gt;</th><th scope=col>&lt;dbl&gt;</th><th scope=col>&lt;dbl&gt;</th><th scope=col>&lt;dbl&gt;</th><th scope=col>&lt;dbl&gt;</th><th scope=col>&lt;dbl&gt;</th><th scope=col>&lt;fct&gt;</th><th scope=col>&lt;dbl&gt;</th><th scope=col>&lt;dbl&gt;</th><th scope=col>&lt;fct&gt;</th><th scope=col>&lt;int&gt;</th><th scope=col>&lt;int&gt;</th></tr>\n",
       "</thead>\n",
       "<tbody>\n",
       "\t<tr><th scope=row>1</th><td>1&amp;1 internet</td><td>Germany</td><td>EU</td><td>126777746</td><td>preds_agg_rf_ALL</td><td>0.5564382</td><td>FirstTime</td><td>1</td><td>2020-09-05</td><td>2019-09-05</td><td>Active</td><td><span style=white-space:pre-wrap>xn--vila-4na.online    </span></td><td>1&amp;1 Internet</td><td>NA</td><td>1</td><td> 0</td><td> 0.0001</td><td>0</td><td>328863684</td><td>renewal</td><td>NA</td><td><span style=white-space:pre-wrap>Renewed   </span></td><td>2020-07-12</td><td>25</td><td>3.10</td><td>⋯</td><td>0.5564382</td><td>0.581</td><td>0.5428296</td><td>0.556</td><td>0.5435583</td><td>0.5583280</td><td>0.5613001</td><td>0.5564382</td><td>0.5564382</td><td>0.567</td><td>0.5564382</td><td>0.581</td><td>0.5428296</td><td>0.556</td><td>0.5435583</td><td>0.5583280</td><td>0.5613001</td><td>0.5564382</td><td> 0.0001</td><td>(0,0.3]</td><td>0.5564382</td><td>0.5564382</td><td>Europe</td><td>770943</td><td>1</td></tr>\n",
       "\t<tr><th scope=row>2</th><td>1&amp;1 internet</td><td>Germany</td><td>EU</td><td> 77524009</td><td>preds_agg_rf_ALL</td><td>0.6096149</td><td><span style=white-space:pre-wrap>Second   </span></td><td>2</td><td>2020-09-26</td><td>2018-09-26</td><td>Active</td><td><span style=white-space:pre-wrap>exquisitarium.online   </span></td><td>1&amp;1 Internet</td><td>NA</td><td>1</td><td>25</td><td>25.0000</td><td>0</td><td><span style=white-space:pre-wrap>        0</span></td><td><span style=white-space:pre-wrap>NA     </span></td><td>NA</td><td>Not Renewd</td><td><span style=white-space:pre-wrap>NA        </span></td><td>NA</td><td>3.78</td><td>⋯</td><td>0.6096149</td><td>0.560</td><td>0.5678253</td><td>0.563</td><td>0.5968072</td><td>0.5579031</td><td>0.5749734</td><td>0.6096149</td><td>0.6096149</td><td>0.578</td><td>0.6096149</td><td>0.560</td><td>0.5678253</td><td>0.563</td><td>0.5968072</td><td>0.5579031</td><td>0.5749734</td><td>0.6096149</td><td>25.0000</td><td>(15,25]</td><td>0.6096149</td><td>0.6096149</td><td>Europe</td><td>770943</td><td>1</td></tr>\n",
       "\t<tr><th scope=row>3</th><td>1&amp;1 internet</td><td>Germany</td><td>EU</td><td> 77860074</td><td>preds_agg_rf_ALL</td><td>0.7995883</td><td><span style=white-space:pre-wrap>Second   </span></td><td>2</td><td>2020-10-01</td><td>2018-10-01</td><td>Active</td><td><span style=white-space:pre-wrap>sesam-homebox.online   </span></td><td>1&amp;1 Internet</td><td>NA</td><td>1</td><td>25</td><td>25.0000</td><td>0</td><td><span style=white-space:pre-wrap>        0</span></td><td><span style=white-space:pre-wrap>NA     </span></td><td>NA</td><td>Not Renewd</td><td><span style=white-space:pre-wrap>NA        </span></td><td>NA</td><td>2.27</td><td>⋯</td><td>0.7995883</td><td>0.590</td><td>0.7872013</td><td>0.642</td><td>0.7377205</td><td>0.6361742</td><td>0.7510906</td><td>0.7995883</td><td>0.7995883</td><td>0.604</td><td>0.7995883</td><td>0.590</td><td>0.7872013</td><td>0.642</td><td>0.7377205</td><td>0.6361742</td><td>0.7510906</td><td>0.7995883</td><td>25.0000</td><td>(15,25]</td><td>0.7995883</td><td>0.7995883</td><td>Europe</td><td>770943</td><td>1</td></tr>\n",
       "\t<tr><th scope=row>4</th><td>1&amp;1 internet</td><td>Germany</td><td>EU</td><td> 77432764</td><td>preds_agg_rf_ALL</td><td>0.6364748</td><td><span style=white-space:pre-wrap>Second   </span></td><td>2</td><td>2020-09-25</td><td>2018-09-25</td><td>Active</td><td>nadelspiel-mobil.online</td><td>1&amp;1 Internet</td><td>NA</td><td>1</td><td>25</td><td>25.0000</td><td>0</td><td><span style=white-space:pre-wrap>        0</span></td><td><span style=white-space:pre-wrap>NA     </span></td><td>NA</td><td>Not Renewd</td><td><span style=white-space:pre-wrap>NA        </span></td><td>NA</td><td>3.31</td><td>⋯</td><td>0.6364748</td><td>0.567</td><td>0.6165210</td><td>0.626</td><td>0.6045442</td><td>0.6288092</td><td>0.5856717</td><td>0.6364748</td><td>0.6364748</td><td>0.579</td><td>0.6364748</td><td>0.567</td><td>0.6165210</td><td>0.626</td><td>0.6045442</td><td>0.6288092</td><td>0.5856717</td><td>0.6364748</td><td>25.0000</td><td>(15,25]</td><td>0.6364748</td><td>0.6364748</td><td>Europe</td><td>770943</td><td>1</td></tr>\n",
       "\t<tr><th scope=row>5</th><td>1&amp;1 internet</td><td>Germany</td><td>EU</td><td> 77499364</td><td>preds_agg_rf_ALL</td><td>0.5827407</td><td><span style=white-space:pre-wrap>Second   </span></td><td>2</td><td>2020-09-26</td><td>2018-09-26</td><td>Active</td><td><span style=white-space:pre-wrap>oceam-telecom.online   </span></td><td>1&amp;1 Internet</td><td>NA</td><td>1</td><td>25</td><td>25.0000</td><td>0</td><td><span style=white-space:pre-wrap>        0</span></td><td><span style=white-space:pre-wrap>NA     </span></td><td>NA</td><td>Not Renewd</td><td><span style=white-space:pre-wrap>NA        </span></td><td>NA</td><td>4.02</td><td>⋯</td><td>0.5827407</td><td>0.588</td><td>0.5609335</td><td>0.637</td><td>0.5666629</td><td>0.6356646</td><td>0.5093319</td><td>0.5827407</td><td>0.5827407</td><td>0.601</td><td>0.5827407</td><td>0.588</td><td>0.5609335</td><td>0.637</td><td>0.5666629</td><td>0.6356646</td><td>0.5093319</td><td>0.5827407</td><td>25.0000</td><td>(15,25]</td><td>0.5827407</td><td>0.5827407</td><td>Europe</td><td>770943</td><td>1</td></tr>\n",
       "\t<tr><th scope=row>6</th><td>1&amp;1 internet</td><td>Germany</td><td>EU</td><td>127236896</td><td>preds_agg_rf_ALL</td><td>0.4723398</td><td>FirstTime</td><td>1</td><td>2020-09-06</td><td>2019-09-06</td><td>Active</td><td><span style=white-space:pre-wrap>cecyt.online           </span></td><td>1&amp;1 Internet</td><td>NA</td><td>1</td><td> 0</td><td> 0.0001</td><td>0</td><td>329218794</td><td>renewal</td><td>NA</td><td><span style=white-space:pre-wrap>Renewed   </span></td><td>2020-07-14</td><td>25</td><td>2.80</td><td>⋯</td><td>0.4723398</td><td>0.499</td><td>0.4923456</td><td>0.516</td><td>0.4914385</td><td>0.5177195</td><td>0.4786710</td><td>0.4723398</td><td>0.4723398</td><td>0.491</td><td>0.4723398</td><td>0.499</td><td>0.4923456</td><td>0.516</td><td>0.4914385</td><td>0.5177195</td><td>0.4786710</td><td>0.4723398</td><td> 0.0001</td><td>(0,0.3]</td><td>0.4723398</td><td>0.4723398</td><td>Europe</td><td>770943</td><td>1</td></tr>\n",
       "</tbody>\n",
       "</table>\n"
      ],
      "text/latex": [
       "A data.frame: 6 × 61\n",
       "\\begin{tabular}{r|lllllllllllllllllllllllllllllllllllllllllllllllllll}\n",
       "  & reseller & reseller\\_country & reseller\\_geo & domain\\_id & model\\_meta & pred\\_meta & renewal\\_type & renewed\\_count & expiry\\_date & creation\\_date & status & domain & registrar & registrant\\_country & reg\\_period & reg\\_revenue & reg\\_arpt & renew\\_mbg & renewal\\_item\\_id & renew\\_type & autorenew\\_type & renewal\\_status & renew\\_date & renew\\_arpt & gibb\\_score & ⋯ & pred\\_agg\\_rf\\_ALL & pred\\_agg\\_glm & pred\\_agg\\_rf & pred\\_seg\\_glm\\_ALL & pred\\_seg\\_rf\\_ALL & pred\\_seg2\\_glm\\_ALL & pred\\_seg2\\_rf\\_ALL & pred\\_meta\\_bf & pred\\_meta\\_fb & pred\\_agg\\_glm\\_ALL\\_fb & pred\\_agg\\_rf\\_ALL\\_fb & pred\\_agg\\_glm\\_fb & pred\\_agg\\_rf\\_fb & pred\\_seg\\_glm\\_ALL\\_fb & pred\\_seg\\_rf\\_ALL\\_fb & pred\\_seg2\\_glm\\_ALL\\_fb & pred\\_seg2\\_rf\\_ALL\\_fb & pred\\_meta\\_bf\\_fb & reg\\_arpt\\_org & reg\\_arpt\\_slab & pred\\_meta\\_fb2 & pred\\_meta\\_fb1 & market & npv2020 & priority\\\\\n",
       "  & <chr> & <fct> & <fct> & <int> & <fct> & <dbl> & <fct> & <int> & <date> & <fct> & <fct> & <fct> & <fct> & <lgl> & <int> & <dbl> & <dbl> & <int> & <int> & <fct> & <fct> & <fct> & <fct> & <dbl> & <dbl> & ⋯ & <dbl> & <dbl> & <dbl> & <dbl> & <dbl> & <dbl> & <dbl> & <dbl> & <dbl> & <dbl> & <dbl> & <dbl> & <dbl> & <dbl> & <dbl> & <dbl> & <dbl> & <dbl> & <dbl> & <fct> & <dbl> & <dbl> & <fct> & <int> & <int>\\\\\n",
       "\\hline\n",
       "\t1 & 1\\&1 internet & Germany & EU & 126777746 & preds\\_agg\\_rf\\_ALL & 0.5564382 & FirstTime & 1 & 2020-09-05 & 2019-09-05 & Active & xn--vila-4na.online     & 1\\&1 Internet & NA & 1 &  0 &  0.0001 & 0 & 328863684 & renewal & NA & Renewed    & 2020-07-12 & 25 & 3.10 & ⋯ & 0.5564382 & 0.581 & 0.5428296 & 0.556 & 0.5435583 & 0.5583280 & 0.5613001 & 0.5564382 & 0.5564382 & 0.567 & 0.5564382 & 0.581 & 0.5428296 & 0.556 & 0.5435583 & 0.5583280 & 0.5613001 & 0.5564382 &  0.0001 & (0,0.3{]} & 0.5564382 & 0.5564382 & Europe & 770943 & 1\\\\\n",
       "\t2 & 1\\&1 internet & Germany & EU &  77524009 & preds\\_agg\\_rf\\_ALL & 0.6096149 & Second    & 2 & 2020-09-26 & 2018-09-26 & Active & exquisitarium.online    & 1\\&1 Internet & NA & 1 & 25 & 25.0000 & 0 &         0 & NA      & NA & Not Renewd & NA         & NA & 3.78 & ⋯ & 0.6096149 & 0.560 & 0.5678253 & 0.563 & 0.5968072 & 0.5579031 & 0.5749734 & 0.6096149 & 0.6096149 & 0.578 & 0.6096149 & 0.560 & 0.5678253 & 0.563 & 0.5968072 & 0.5579031 & 0.5749734 & 0.6096149 & 25.0000 & (15,25{]} & 0.6096149 & 0.6096149 & Europe & 770943 & 1\\\\\n",
       "\t3 & 1\\&1 internet & Germany & EU &  77860074 & preds\\_agg\\_rf\\_ALL & 0.7995883 & Second    & 2 & 2020-10-01 & 2018-10-01 & Active & sesam-homebox.online    & 1\\&1 Internet & NA & 1 & 25 & 25.0000 & 0 &         0 & NA      & NA & Not Renewd & NA         & NA & 2.27 & ⋯ & 0.7995883 & 0.590 & 0.7872013 & 0.642 & 0.7377205 & 0.6361742 & 0.7510906 & 0.7995883 & 0.7995883 & 0.604 & 0.7995883 & 0.590 & 0.7872013 & 0.642 & 0.7377205 & 0.6361742 & 0.7510906 & 0.7995883 & 25.0000 & (15,25{]} & 0.7995883 & 0.7995883 & Europe & 770943 & 1\\\\\n",
       "\t4 & 1\\&1 internet & Germany & EU &  77432764 & preds\\_agg\\_rf\\_ALL & 0.6364748 & Second    & 2 & 2020-09-25 & 2018-09-25 & Active & nadelspiel-mobil.online & 1\\&1 Internet & NA & 1 & 25 & 25.0000 & 0 &         0 & NA      & NA & Not Renewd & NA         & NA & 3.31 & ⋯ & 0.6364748 & 0.567 & 0.6165210 & 0.626 & 0.6045442 & 0.6288092 & 0.5856717 & 0.6364748 & 0.6364748 & 0.579 & 0.6364748 & 0.567 & 0.6165210 & 0.626 & 0.6045442 & 0.6288092 & 0.5856717 & 0.6364748 & 25.0000 & (15,25{]} & 0.6364748 & 0.6364748 & Europe & 770943 & 1\\\\\n",
       "\t5 & 1\\&1 internet & Germany & EU &  77499364 & preds\\_agg\\_rf\\_ALL & 0.5827407 & Second    & 2 & 2020-09-26 & 2018-09-26 & Active & oceam-telecom.online    & 1\\&1 Internet & NA & 1 & 25 & 25.0000 & 0 &         0 & NA      & NA & Not Renewd & NA         & NA & 4.02 & ⋯ & 0.5827407 & 0.588 & 0.5609335 & 0.637 & 0.5666629 & 0.6356646 & 0.5093319 & 0.5827407 & 0.5827407 & 0.601 & 0.5827407 & 0.588 & 0.5609335 & 0.637 & 0.5666629 & 0.6356646 & 0.5093319 & 0.5827407 & 25.0000 & (15,25{]} & 0.5827407 & 0.5827407 & Europe & 770943 & 1\\\\\n",
       "\t6 & 1\\&1 internet & Germany & EU & 127236896 & preds\\_agg\\_rf\\_ALL & 0.4723398 & FirstTime & 1 & 2020-09-06 & 2019-09-06 & Active & cecyt.online            & 1\\&1 Internet & NA & 1 &  0 &  0.0001 & 0 & 329218794 & renewal & NA & Renewed    & 2020-07-14 & 25 & 2.80 & ⋯ & 0.4723398 & 0.499 & 0.4923456 & 0.516 & 0.4914385 & 0.5177195 & 0.4786710 & 0.4723398 & 0.4723398 & 0.491 & 0.4723398 & 0.499 & 0.4923456 & 0.516 & 0.4914385 & 0.5177195 & 0.4786710 & 0.4723398 &  0.0001 & (0,0.3{]} & 0.4723398 & 0.4723398 & Europe & 770943 & 1\\\\\n",
       "\\end{tabular}\n"
      ],
      "text/markdown": [
       "\n",
       "A data.frame: 6 × 61\n",
       "\n",
       "| <!--/--> | reseller &lt;chr&gt; | reseller_country &lt;fct&gt; | reseller_geo &lt;fct&gt; | domain_id &lt;int&gt; | model_meta &lt;fct&gt; | pred_meta &lt;dbl&gt; | renewal_type &lt;fct&gt; | renewed_count &lt;int&gt; | expiry_date &lt;date&gt; | creation_date &lt;fct&gt; | status &lt;fct&gt; | domain &lt;fct&gt; | registrar &lt;fct&gt; | registrant_country &lt;lgl&gt; | reg_period &lt;int&gt; | reg_revenue &lt;dbl&gt; | reg_arpt &lt;dbl&gt; | renew_mbg &lt;int&gt; | renewal_item_id &lt;int&gt; | renew_type &lt;fct&gt; | autorenew_type &lt;fct&gt; | renewal_status &lt;fct&gt; | renew_date &lt;fct&gt; | renew_arpt &lt;dbl&gt; | gibb_score &lt;dbl&gt; | ⋯ ⋯ | pred_agg_rf_ALL &lt;dbl&gt; | pred_agg_glm &lt;dbl&gt; | pred_agg_rf &lt;dbl&gt; | pred_seg_glm_ALL &lt;dbl&gt; | pred_seg_rf_ALL &lt;dbl&gt; | pred_seg2_glm_ALL &lt;dbl&gt; | pred_seg2_rf_ALL &lt;dbl&gt; | pred_meta_bf &lt;dbl&gt; | pred_meta_fb &lt;dbl&gt; | pred_agg_glm_ALL_fb &lt;dbl&gt; | pred_agg_rf_ALL_fb &lt;dbl&gt; | pred_agg_glm_fb &lt;dbl&gt; | pred_agg_rf_fb &lt;dbl&gt; | pred_seg_glm_ALL_fb &lt;dbl&gt; | pred_seg_rf_ALL_fb &lt;dbl&gt; | pred_seg2_glm_ALL_fb &lt;dbl&gt; | pred_seg2_rf_ALL_fb &lt;dbl&gt; | pred_meta_bf_fb &lt;dbl&gt; | reg_arpt_org &lt;dbl&gt; | reg_arpt_slab &lt;fct&gt; | pred_meta_fb2 &lt;dbl&gt; | pred_meta_fb1 &lt;dbl&gt; | market &lt;fct&gt; | npv2020 &lt;int&gt; | priority &lt;int&gt; |\n",
       "|---|---|---|---|---|---|---|---|---|---|---|---|---|---|---|---|---|---|---|---|---|---|---|---|---|---|---|---|---|---|---|---|---|---|---|---|---|---|---|---|---|---|---|---|---|---|---|---|---|---|---|---|\n",
       "| 1 | 1&amp;1 internet | Germany | EU | 126777746 | preds_agg_rf_ALL | 0.5564382 | FirstTime | 1 | 2020-09-05 | 2019-09-05 | Active | xn--vila-4na.online     | 1&amp;1 Internet | NA | 1 |  0 |  0.0001 | 0 | 328863684 | renewal | NA | Renewed    | 2020-07-12 | 25 | 3.10 | ⋯ | 0.5564382 | 0.581 | 0.5428296 | 0.556 | 0.5435583 | 0.5583280 | 0.5613001 | 0.5564382 | 0.5564382 | 0.567 | 0.5564382 | 0.581 | 0.5428296 | 0.556 | 0.5435583 | 0.5583280 | 0.5613001 | 0.5564382 |  0.0001 | (0,0.3] | 0.5564382 | 0.5564382 | Europe | 770943 | 1 |\n",
       "| 2 | 1&amp;1 internet | Germany | EU |  77524009 | preds_agg_rf_ALL | 0.6096149 | Second    | 2 | 2020-09-26 | 2018-09-26 | Active | exquisitarium.online    | 1&amp;1 Internet | NA | 1 | 25 | 25.0000 | 0 |         0 | NA      | NA | Not Renewd | NA         | NA | 3.78 | ⋯ | 0.6096149 | 0.560 | 0.5678253 | 0.563 | 0.5968072 | 0.5579031 | 0.5749734 | 0.6096149 | 0.6096149 | 0.578 | 0.6096149 | 0.560 | 0.5678253 | 0.563 | 0.5968072 | 0.5579031 | 0.5749734 | 0.6096149 | 25.0000 | (15,25] | 0.6096149 | 0.6096149 | Europe | 770943 | 1 |\n",
       "| 3 | 1&amp;1 internet | Germany | EU |  77860074 | preds_agg_rf_ALL | 0.7995883 | Second    | 2 | 2020-10-01 | 2018-10-01 | Active | sesam-homebox.online    | 1&amp;1 Internet | NA | 1 | 25 | 25.0000 | 0 |         0 | NA      | NA | Not Renewd | NA         | NA | 2.27 | ⋯ | 0.7995883 | 0.590 | 0.7872013 | 0.642 | 0.7377205 | 0.6361742 | 0.7510906 | 0.7995883 | 0.7995883 | 0.604 | 0.7995883 | 0.590 | 0.7872013 | 0.642 | 0.7377205 | 0.6361742 | 0.7510906 | 0.7995883 | 25.0000 | (15,25] | 0.7995883 | 0.7995883 | Europe | 770943 | 1 |\n",
       "| 4 | 1&amp;1 internet | Germany | EU |  77432764 | preds_agg_rf_ALL | 0.6364748 | Second    | 2 | 2020-09-25 | 2018-09-25 | Active | nadelspiel-mobil.online | 1&amp;1 Internet | NA | 1 | 25 | 25.0000 | 0 |         0 | NA      | NA | Not Renewd | NA         | NA | 3.31 | ⋯ | 0.6364748 | 0.567 | 0.6165210 | 0.626 | 0.6045442 | 0.6288092 | 0.5856717 | 0.6364748 | 0.6364748 | 0.579 | 0.6364748 | 0.567 | 0.6165210 | 0.626 | 0.6045442 | 0.6288092 | 0.5856717 | 0.6364748 | 25.0000 | (15,25] | 0.6364748 | 0.6364748 | Europe | 770943 | 1 |\n",
       "| 5 | 1&amp;1 internet | Germany | EU |  77499364 | preds_agg_rf_ALL | 0.5827407 | Second    | 2 | 2020-09-26 | 2018-09-26 | Active | oceam-telecom.online    | 1&amp;1 Internet | NA | 1 | 25 | 25.0000 | 0 |         0 | NA      | NA | Not Renewd | NA         | NA | 4.02 | ⋯ | 0.5827407 | 0.588 | 0.5609335 | 0.637 | 0.5666629 | 0.6356646 | 0.5093319 | 0.5827407 | 0.5827407 | 0.601 | 0.5827407 | 0.588 | 0.5609335 | 0.637 | 0.5666629 | 0.6356646 | 0.5093319 | 0.5827407 | 25.0000 | (15,25] | 0.5827407 | 0.5827407 | Europe | 770943 | 1 |\n",
       "| 6 | 1&amp;1 internet | Germany | EU | 127236896 | preds_agg_rf_ALL | 0.4723398 | FirstTime | 1 | 2020-09-06 | 2019-09-06 | Active | cecyt.online            | 1&amp;1 Internet | NA | 1 |  0 |  0.0001 | 0 | 329218794 | renewal | NA | Renewed    | 2020-07-14 | 25 | 2.80 | ⋯ | 0.4723398 | 0.499 | 0.4923456 | 0.516 | 0.4914385 | 0.5177195 | 0.4786710 | 0.4723398 | 0.4723398 | 0.491 | 0.4723398 | 0.499 | 0.4923456 | 0.516 | 0.4914385 | 0.5177195 | 0.4786710 | 0.4723398 |  0.0001 | (0,0.3] | 0.4723398 | 0.4723398 | Europe | 770943 | 1 |\n",
       "\n"
      ],
      "text/plain": [
       "  reseller     reseller_country reseller_geo domain_id model_meta      \n",
       "1 1&1 internet Germany          EU           126777746 preds_agg_rf_ALL\n",
       "2 1&1 internet Germany          EU            77524009 preds_agg_rf_ALL\n",
       "3 1&1 internet Germany          EU            77860074 preds_agg_rf_ALL\n",
       "4 1&1 internet Germany          EU            77432764 preds_agg_rf_ALL\n",
       "5 1&1 internet Germany          EU            77499364 preds_agg_rf_ALL\n",
       "6 1&1 internet Germany          EU           127236896 preds_agg_rf_ALL\n",
       "  pred_meta renewal_type renewed_count expiry_date creation_date status\n",
       "1 0.5564382 FirstTime    1             2020-09-05  2019-09-05    Active\n",
       "2 0.6096149 Second       2             2020-09-26  2018-09-26    Active\n",
       "3 0.7995883 Second       2             2020-10-01  2018-10-01    Active\n",
       "4 0.6364748 Second       2             2020-09-25  2018-09-25    Active\n",
       "5 0.5827407 Second       2             2020-09-26  2018-09-26    Active\n",
       "6 0.4723398 FirstTime    1             2020-09-06  2019-09-06    Active\n",
       "  domain                  registrar    registrant_country reg_period\n",
       "1 xn--vila-4na.online     1&1 Internet NA                 1         \n",
       "2 exquisitarium.online    1&1 Internet NA                 1         \n",
       "3 sesam-homebox.online    1&1 Internet NA                 1         \n",
       "4 nadelspiel-mobil.online 1&1 Internet NA                 1         \n",
       "5 oceam-telecom.online    1&1 Internet NA                 1         \n",
       "6 cecyt.online            1&1 Internet NA                 1         \n",
       "  reg_revenue reg_arpt renew_mbg renewal_item_id renew_type autorenew_type\n",
       "1  0           0.0001  0         328863684       renewal    NA            \n",
       "2 25          25.0000  0                 0       NA         NA            \n",
       "3 25          25.0000  0                 0       NA         NA            \n",
       "4 25          25.0000  0                 0       NA         NA            \n",
       "5 25          25.0000  0                 0       NA         NA            \n",
       "6  0           0.0001  0         329218794       renewal    NA            \n",
       "  renewal_status renew_date renew_arpt gibb_score ⋯ pred_agg_rf_ALL\n",
       "1 Renewed        2020-07-12 25         3.10       ⋯ 0.5564382      \n",
       "2 Not Renewd     NA         NA         3.78       ⋯ 0.6096149      \n",
       "3 Not Renewd     NA         NA         2.27       ⋯ 0.7995883      \n",
       "4 Not Renewd     NA         NA         3.31       ⋯ 0.6364748      \n",
       "5 Not Renewd     NA         NA         4.02       ⋯ 0.5827407      \n",
       "6 Renewed        2020-07-14 25         2.80       ⋯ 0.4723398      \n",
       "  pred_agg_glm pred_agg_rf pred_seg_glm_ALL pred_seg_rf_ALL pred_seg2_glm_ALL\n",
       "1 0.581        0.5428296   0.556            0.5435583       0.5583280        \n",
       "2 0.560        0.5678253   0.563            0.5968072       0.5579031        \n",
       "3 0.590        0.7872013   0.642            0.7377205       0.6361742        \n",
       "4 0.567        0.6165210   0.626            0.6045442       0.6288092        \n",
       "5 0.588        0.5609335   0.637            0.5666629       0.6356646        \n",
       "6 0.499        0.4923456   0.516            0.4914385       0.5177195        \n",
       "  pred_seg2_rf_ALL pred_meta_bf pred_meta_fb pred_agg_glm_ALL_fb\n",
       "1 0.5613001        0.5564382    0.5564382    0.567              \n",
       "2 0.5749734        0.6096149    0.6096149    0.578              \n",
       "3 0.7510906        0.7995883    0.7995883    0.604              \n",
       "4 0.5856717        0.6364748    0.6364748    0.579              \n",
       "5 0.5093319        0.5827407    0.5827407    0.601              \n",
       "6 0.4786710        0.4723398    0.4723398    0.491              \n",
       "  pred_agg_rf_ALL_fb pred_agg_glm_fb pred_agg_rf_fb pred_seg_glm_ALL_fb\n",
       "1 0.5564382          0.581           0.5428296      0.556              \n",
       "2 0.6096149          0.560           0.5678253      0.563              \n",
       "3 0.7995883          0.590           0.7872013      0.642              \n",
       "4 0.6364748          0.567           0.6165210      0.626              \n",
       "5 0.5827407          0.588           0.5609335      0.637              \n",
       "6 0.4723398          0.499           0.4923456      0.516              \n",
       "  pred_seg_rf_ALL_fb pred_seg2_glm_ALL_fb pred_seg2_rf_ALL_fb pred_meta_bf_fb\n",
       "1 0.5435583          0.5583280            0.5613001           0.5564382      \n",
       "2 0.5968072          0.5579031            0.5749734           0.6096149      \n",
       "3 0.7377205          0.6361742            0.7510906           0.7995883      \n",
       "4 0.6045442          0.6288092            0.5856717           0.6364748      \n",
       "5 0.5666629          0.6356646            0.5093319           0.5827407      \n",
       "6 0.4914385          0.5177195            0.4786710           0.4723398      \n",
       "  reg_arpt_org reg_arpt_slab pred_meta_fb2 pred_meta_fb1 market npv2020\n",
       "1  0.0001      (0,0.3]       0.5564382     0.5564382     Europe 770943 \n",
       "2 25.0000      (15,25]       0.6096149     0.6096149     Europe 770943 \n",
       "3 25.0000      (15,25]       0.7995883     0.7995883     Europe 770943 \n",
       "4 25.0000      (15,25]       0.6364748     0.6364748     Europe 770943 \n",
       "5 25.0000      (15,25]       0.5827407     0.5827407     Europe 770943 \n",
       "6  0.0001      (0,0.3]       0.4723398     0.4723398     Europe 770943 \n",
       "  priority\n",
       "1 1       \n",
       "2 1       \n",
       "3 1       \n",
       "4 1       \n",
       "5 1       \n",
       "6 1       "
      ]
     },
     "metadata": {},
     "output_type": "display_data"
    }
   ],
   "source": [
    "vis_df <- preds_all\n",
    "# add reseller priority columns to metalearning predictions\n",
    "priorityLookup_df <- read.csv(\"/home/jupyter/Domains_202003/data/data_input/PredictiveModelAnalysis_ResellerPriorityList.csv\")\n",
    "names(priorityLookup_df) <- c(\"market\",\"reseller\",\"npv2020\",\"priority\")\n",
    "priorityLookup_df$reseller <- tolower(priorityLookup_df$reseller)\n",
    "vis_df$reseller <- tolower(vis_df$reseller)\n",
    "vis_df <- merge(vis_df, priorityLookup_df, by=\"reseller\", all.x=TRUE)\n",
    "\n",
    "\n",
    "\n",
    "dim(vis_df)\n",
    "head(vis_df)"
   ]
  },
  {
   "cell_type": "code",
   "execution_count": 51,
   "metadata": {},
   "outputs": [
    {
     "data": {
      "text/html": [
       "<style>\n",
       ".list-inline {list-style: none; margin:0; padding: 0}\n",
       ".list-inline>li {display: inline-block}\n",
       ".list-inline>li:not(:last-child)::after {content: \"\\00b7\"; padding: 0 .5ex}\n",
       "</style>\n",
       "<ol class=list-inline><li>2049</li><li>2</li></ol>\n"
      ],
      "text/latex": [
       "\\begin{enumerate*}\n",
       "\\item 2049\n",
       "\\item 2\n",
       "\\end{enumerate*}\n"
      ],
      "text/markdown": [
       "1. 2049\n",
       "2. 2\n",
       "\n",
       "\n"
      ],
      "text/plain": [
       "[1] 2049    2"
      ]
     },
     "metadata": {},
     "output_type": "display_data"
    },
    {
     "data": {
      "text/html": [
       "<table>\n",
       "<caption>A data.frame: 6 × 2</caption>\n",
       "<thead>\n",
       "\t<tr><th></th><th scope=col>tld_registrar_index</th><th scope=col>model_meta</th></tr>\n",
       "\t<tr><th></th><th scope=col>&lt;fct&gt;</th><th scope=col>&lt;fct&gt;</th></tr>\n",
       "</thead>\n",
       "<tbody>\n",
       "\t<tr><th scope=row>1</th><td>online1&amp;1 internet </td><td>preds_agg_rf_ALL</td></tr>\n",
       "\t<tr><th scope=row>2</th><td><span style=white-space:pre-wrap>site1&amp;1 internet   </span></td><td>preds_agg_rf_ALL</td></tr>\n",
       "\t<tr><th scope=row>3</th><td><span style=white-space:pre-wrap>space1&amp;1 internet  </span></td><td>preds_agg_rf_ALL</td></tr>\n",
       "\t<tr><th scope=row>4</th><td><span style=white-space:pre-wrap>store1&amp;1 internet  </span></td><td>preds_agg_rf_ALL</td></tr>\n",
       "\t<tr><th scope=row>5</th><td><span style=white-space:pre-wrap>tech1&amp;1 internet   </span></td><td>preds_agg_rf_ALL</td></tr>\n",
       "\t<tr><th scope=row>6</th><td>website1&amp;1 internet</td><td>preds_agg_rf_ALL</td></tr>\n",
       "</tbody>\n",
       "</table>\n"
      ],
      "text/latex": [
       "A data.frame: 6 × 2\n",
       "\\begin{tabular}{r|ll}\n",
       "  & tld\\_registrar\\_index & model\\_meta\\\\\n",
       "  & <fct> & <fct>\\\\\n",
       "\\hline\n",
       "\t1 & online1\\&1 internet  & preds\\_agg\\_rf\\_ALL\\\\\n",
       "\t2 & site1\\&1 internet    & preds\\_agg\\_rf\\_ALL\\\\\n",
       "\t3 & space1\\&1 internet   & preds\\_agg\\_rf\\_ALL\\\\\n",
       "\t4 & store1\\&1 internet   & preds\\_agg\\_rf\\_ALL\\\\\n",
       "\t5 & tech1\\&1 internet    & preds\\_agg\\_rf\\_ALL\\\\\n",
       "\t6 & website1\\&1 internet & preds\\_agg\\_rf\\_ALL\\\\\n",
       "\\end{tabular}\n"
      ],
      "text/markdown": [
       "\n",
       "A data.frame: 6 × 2\n",
       "\n",
       "| <!--/--> | tld_registrar_index &lt;fct&gt; | model_meta &lt;fct&gt; |\n",
       "|---|---|---|\n",
       "| 1 | online1&amp;1 internet  | preds_agg_rf_ALL |\n",
       "| 2 | site1&amp;1 internet    | preds_agg_rf_ALL |\n",
       "| 3 | space1&amp;1 internet   | preds_agg_rf_ALL |\n",
       "| 4 | store1&amp;1 internet   | preds_agg_rf_ALL |\n",
       "| 5 | tech1&amp;1 internet    | preds_agg_rf_ALL |\n",
       "| 6 | website1&amp;1 internet | preds_agg_rf_ALL |\n",
       "\n"
      ],
      "text/plain": [
       "  tld_registrar_index model_meta      \n",
       "1 online1&1 internet  preds_agg_rf_ALL\n",
       "2 site1&1 internet    preds_agg_rf_ALL\n",
       "3 space1&1 internet   preds_agg_rf_ALL\n",
       "4 store1&1 internet   preds_agg_rf_ALL\n",
       "5 tech1&1 internet    preds_agg_rf_ALL\n",
       "6 website1&1 internet preds_agg_rf_ALL"
      ]
     },
     "metadata": {},
     "output_type": "display_data"
    }
   ],
   "source": [
    "# by tld-reseller\n",
    "vis_df_01 <- vis_df %>% select(tld_registrar_index, model_meta) %>% distinct()\n",
    "dim(vis_df_01)\n",
    "head(vis_df_01)"
   ]
  },
  {
   "cell_type": "code",
   "execution_count": 52,
   "metadata": {},
   "outputs": [],
   "source": [
    "write.csv(vis_df_01, '../../data/output/deliv_20201210/20200902_20201008_model_bytldre.csv', row.names=FALSE)"
   ]
  },
  {
   "cell_type": "code",
   "execution_count": 54,
   "metadata": {},
   "outputs": [
    {
     "name": "stderr",
     "output_type": "stream",
     "text": [
      "`summarise()` regrouping output by 'reseller' (override with `.groups` argument)\n",
      "\n"
     ]
    },
    {
     "data": {
      "text/html": [
       "<table>\n",
       "<caption>A grouped_df: 6 × 4</caption>\n",
       "<thead>\n",
       "\t<tr><th scope=col>reseller</th><th scope=col>model_meta</th><th scope=col>n</th><th scope=col>freq</th></tr>\n",
       "\t<tr><th scope=col>&lt;chr&gt;</th><th scope=col>&lt;fct&gt;</th><th scope=col>&lt;int&gt;</th><th scope=col>&lt;dbl&gt;</th></tr>\n",
       "</thead>\n",
       "<tbody>\n",
       "\t<tr><td><span style=white-space:pre-wrap>1&amp;1 internet    </span></td><td><span style=white-space:pre-wrap>preds_agg_rf_ALL  </span></td><td>1</td><td>0.50</td></tr>\n",
       "\t<tr><td><span style=white-space:pre-wrap>1&amp;1 internet    </span></td><td>preds_seg2_glm_ALL</td><td>1</td><td>0.50</td></tr>\n",
       "\t<tr><td>101 domain      </td><td>preds_agg_rf_ALL  </td><td>1</td><td>0.33</td></tr>\n",
       "\t<tr><td>101 domain      </td><td>preds_seg2_glm_ALL</td><td>1</td><td>0.33</td></tr>\n",
       "\t<tr><td>101 domain      </td><td>preds_seg2_glm_fb </td><td>1</td><td>0.33</td></tr>\n",
       "\t<tr><td>10dencehispahard</td><td>preds_agg_rf_ALL  </td><td>1</td><td>0.50</td></tr>\n",
       "</tbody>\n",
       "</table>\n"
      ],
      "text/latex": [
       "A grouped\\_df: 6 × 4\n",
       "\\begin{tabular}{llll}\n",
       " reseller & model\\_meta & n & freq\\\\\n",
       " <chr> & <fct> & <int> & <dbl>\\\\\n",
       "\\hline\n",
       "\t 1\\&1 internet     & preds\\_agg\\_rf\\_ALL   & 1 & 0.50\\\\\n",
       "\t 1\\&1 internet     & preds\\_seg2\\_glm\\_ALL & 1 & 0.50\\\\\n",
       "\t 101 domain       & preds\\_agg\\_rf\\_ALL   & 1 & 0.33\\\\\n",
       "\t 101 domain       & preds\\_seg2\\_glm\\_ALL & 1 & 0.33\\\\\n",
       "\t 101 domain       & preds\\_seg2\\_glm\\_fb  & 1 & 0.33\\\\\n",
       "\t 10dencehispahard & preds\\_agg\\_rf\\_ALL   & 1 & 0.50\\\\\n",
       "\\end{tabular}\n"
      ],
      "text/markdown": [
       "\n",
       "A grouped_df: 6 × 4\n",
       "\n",
       "| reseller &lt;chr&gt; | model_meta &lt;fct&gt; | n &lt;int&gt; | freq &lt;dbl&gt; |\n",
       "|---|---|---|---|\n",
       "| 1&amp;1 internet     | preds_agg_rf_ALL   | 1 | 0.50 |\n",
       "| 1&amp;1 internet     | preds_seg2_glm_ALL | 1 | 0.50 |\n",
       "| 101 domain       | preds_agg_rf_ALL   | 1 | 0.33 |\n",
       "| 101 domain       | preds_seg2_glm_ALL | 1 | 0.33 |\n",
       "| 101 domain       | preds_seg2_glm_fb  | 1 | 0.33 |\n",
       "| 10dencehispahard | preds_agg_rf_ALL   | 1 | 0.50 |\n",
       "\n"
      ],
      "text/plain": [
       "  reseller         model_meta         n freq\n",
       "1 1&1 internet     preds_agg_rf_ALL   1 0.50\n",
       "2 1&1 internet     preds_seg2_glm_ALL 1 0.50\n",
       "3 101 domain       preds_agg_rf_ALL   1 0.33\n",
       "4 101 domain       preds_seg2_glm_ALL 1 0.33\n",
       "5 101 domain       preds_seg2_glm_fb  1 0.33\n",
       "6 10dencehispahard preds_agg_rf_ALL   1 0.50"
      ]
     },
     "metadata": {},
     "output_type": "display_data"
    }
   ],
   "source": [
    "# by reseller\n",
    "vis_df_02 <- vis_df %>% select(reseller, model_meta) %>% distinct()\n",
    "vis_df_02_01 <- vis_df_02 %>%\n",
    "  group_by(reseller, model_meta) %>%\n",
    "  summarise(n = n()) %>%\n",
    "  mutate(freq = round(n / sum(n),2))\n",
    "head(vis_df_02_01)"
   ]
  },
  {
   "cell_type": "code",
   "execution_count": 55,
   "metadata": {},
   "outputs": [],
   "source": [
    "write.csv(vis_df_02_01, '../../data/output/deliv_20201210/20200902_20201008_model_byre_auc.csv', row.names=FALSE)"
   ]
  },
  {
   "cell_type": "code",
   "execution_count": null,
   "metadata": {},
   "outputs": [],
   "source": [
    "# by tld\n",
    "vis_df_03 <- vis_df %>% select(tld,model) \n",
    "vis_df_03_01 <- vis_df_03 %>%\n",
    "  group_by(tld, model) %>%\n",
    "  summarise(n = n()) %>%\n",
    "  mutate(freq = round(n / sum(n),2))\n",
    "head(vis_df_03_01)"
   ]
  },
  {
   "cell_type": "code",
   "execution_count": null,
   "metadata": {},
   "outputs": [],
   "source": [
    "write.csv(vis_df_03_01, '../../data/output/deliv_20201210/20200902_20201008_model_bytld_auc.csv', row.names=FALSE)"
   ]
  },
  {
   "cell_type": "code",
   "execution_count": null,
   "metadata": {},
   "outputs": [],
   "source": [
    "# by priority\n",
    "vis_df_04 <- vis_df %>% select(priority, model)\n",
    "vis_df_04_01 <- vis_df_04 %>%\n",
    "  group_by(priority, model) %>%\n",
    "  summarise(n = n()) %>%\n",
    "  mutate(freq = round(n / sum(n),2))\n",
    "head(vis_df_04_01)"
   ]
  },
  {
   "cell_type": "code",
   "execution_count": null,
   "metadata": {},
   "outputs": [],
   "source": [
    "write.csv(vis_df_04_01, '../../data/output/deliv_20201210/20200902_20201008_model_bypri_auc.csv', row.names=FALSE)"
   ]
  },
  {
   "cell_type": "code",
   "execution_count": null,
   "metadata": {},
   "outputs": [],
   "source": [
    "# cross section graph of tld vs reseller and model (w/ shading) in the intersection: \n",
    "#    https://www.r-graph-gallery.com/79-levelplot-with-ggplot2.html\n",
    "# by reseller:  percentage of each model assigned\n",
    "# by tld:  percentage of each model assigned\n",
    "# by priority: percentage of each model assigned"
   ]
  },
  {
   "cell_type": "code",
   "execution_count": null,
   "metadata": {},
   "outputs": [],
   "source": [
    "vis_sub <- vis_df %>% group_by(tld, reseller, model) %>% tally()\n",
    "head(vis_sub)"
   ]
  },
  {
   "cell_type": "code",
   "execution_count": null,
   "metadata": {},
   "outputs": [],
   "source": [
    "vis_sub$reseller <- factor(vis_sub$reseller, levels =unique(vis_sub$reseller[order(vis_sub$n)]))"
   ]
  },
  {
   "cell_type": "code",
   "execution_count": null,
   "metadata": {},
   "outputs": [],
   "source": [
    "library(repr)\n",
    "options(repr.plot.width=10, repr.plot.height=100)\n",
    "ggplot(vis_sub , \n",
    "       aes(tld, reseller, fill=model)) + \n",
    "  geom_tile() + \n",
    "  theme(legend.position='top')\n",
    "ggsave('../../data/output/deliv_20201210/20200902_20201008_plot.pdf', width=10, height= 40) #A4 size in inches"
   ]
  },
  {
   "cell_type": "code",
   "execution_count": null,
   "metadata": {},
   "outputs": [],
   "source": [
    "\n",
    "system(\"gsutil cp -r /home/jupyter/Domains_202003/data/output/deliv_20201203/ gs://output_shared/\")"
   ]
  },
  {
   "cell_type": "code",
   "execution_count": null,
   "metadata": {},
   "outputs": [],
   "source": []
  },
  {
   "cell_type": "markdown",
   "metadata": {},
   "source": [
    "# FUP for Parag: \n",
    "## table of predictions at domain level based on model assignment"
   ]
  },
  {
   "cell_type": "code",
   "execution_count": null,
   "metadata": {},
   "outputs": [],
   "source": [
    "head(meta_preds)"
   ]
  },
  {
   "cell_type": "code",
   "execution_count": null,
   "metadata": {},
   "outputs": [],
   "source": [
    "names(meta_preds)"
   ]
  },
  {
   "cell_type": "code",
   "execution_count": null,
   "metadata": {},
   "outputs": [],
   "source": [
    "meta_preds %>% select(tld_registrar_index, reseller, tld, domain_id, domain,\n",
    "                                      actual, 'model','predicted') %>% head()"
   ]
  },
  {
   "cell_type": "code",
   "execution_count": null,
   "metadata": {},
   "outputs": [],
   "source": [
    "prop.table(table(meta_preds$model))"
   ]
  },
  {
   "cell_type": "code",
   "execution_count": null,
   "metadata": {},
   "outputs": [],
   "source": [
    "dim(meta_preds)"
   ]
  },
  {
   "cell_type": "code",
   "execution_count": null,
   "metadata": {},
   "outputs": [],
   "source": [
    "write.csv(meta_preds %>% select(tld_registrar_index, reseller, tld, domain_id, domain,\n",
    "                                      actual, 'model','predicted')  ,\n",
    "         '../../data/output/deliv_20201210/20200902_20201008_preds.csv', row.names=FALSE)"
   ]
  },
  {
   "cell_type": "code",
   "execution_count": null,
   "metadata": {},
   "outputs": [],
   "source": [
    "system(\"gsutil cp -r /home/jupyter/Domains_202003/data/output/deliv_20201210/ gs://output_shared/\")"
   ]
  },
  {
   "cell_type": "markdown",
   "metadata": {},
   "source": [
    "# Performance Metrics"
   ]
  },
  {
   "cell_type": "markdown",
   "metadata": {},
   "source": [
    "performance metrics on 3 diff levels (poss 4) - not in order of priority\n",
    "- aggregate probabilities at the tld-reseller level... over day or month\n",
    "- lift metric. what does the lift mean?\n",
    "- inverse of the lift. below which probability level can we be sure that these domains be dropped (not renewed) the other end of the lift. from the bottom up. will help formulate retention strategy\n",
    "- thresh-hold false positive or false negatives - determine what threshold will be good for which tld-registrar. kaybe at a tld-registrar level (MORE TIME, MORE THAN ANOTHER WEEK)\n",
    "top 10 registrars - understanding of one \n",
    "accuracy - false positive, false negatives... across all tld-re... big tld-re's overpower the general metrics. how do we address this? we look at it at the tld=reseller level. small and large separately? at the priority level... high priority is high, volume is high\n",
    "goal: to be accurate at the tld-reseller level. "
   ]
  },
  {
   "cell_type": "markdown",
   "metadata": {},
   "source": [
    "## aggregate probabilities at the tld-reseller level... over day or month"
   ]
  },
  {
   "cell_type": "code",
   "execution_count": null,
   "metadata": {},
   "outputs": [],
   "source": [
    "meta_preds$expiry_date <- as.Date(meta_preds$expiry_date)\n",
    "str(meta_preds$expiry_date)\n",
    "head(meta_preds)"
   ]
  },
  {
   "cell_type": "code",
   "execution_count": null,
   "metadata": {},
   "outputs": [],
   "source": [
    "options(scipen=999)\n",
    "library(lubridate)\n",
    "\n",
    "agg_prob <- meta_preds %>% group_by(tld_registrar_index) %>% summarize(sum_pred = round(sum(predicted, na.rm=TRUE),4), \n",
    "                                                                        sum_actl = sum(actual=='Renewed', na.rm=TRUE), \n",
    "                                                                        count = length(actual))  %>% arrange(desc(count))\n",
    "agg_prob_day <- meta_preds %>% group_by(tld_registrar_index, expiry_date) %>% summarize(sum_pred = round(sum(predicted, na.rm=TRUE),2), \n",
    "                                                                        sum_actl = sum(actual=='Renewed', na.rm=TRUE), \n",
    "                                                                        count = length(actual))  %>% arrange(desc(count))"
   ]
  },
  {
   "cell_type": "code",
   "execution_count": null,
   "metadata": {},
   "outputs": [],
   "source": [
    "agg_prob_month <- meta_preds %>% group_by(tld_registrar_index, \n",
    "                                          month=floor_date(as.Date(expiry_date), \"month\") ) %>% summarize(sum_pred = round(sum(predicted, na.rm=TRUE),2), \n",
    "                                                                        sum_actl = sum(actual=='Renewed', na.rm=TRUE), \n",
    "                                                                        count = length(actual))  %>% arrange(desc(count))"
   ]
  },
  {
   "cell_type": "code",
   "execution_count": null,
   "metadata": {},
   "outputs": [],
   "source": [
    "write.csv(agg_prob ,'../../data/output/deliv_20201210/perf_metrics/20200902_20201008_agg_prob.csv', row.names=FALSE)\n",
    "write.csv(agg_prob_day ,'../../data/output/deliv_20201210/perf_metrics/20200902_20201008_agg_prob_day.csv', row.names=FALSE)\n",
    "write.csv(agg_prob_month ,'../../data/output/deliv_20201210/perf_metrics/20200902_20201008_agg_prob_month.csv', row.names=FALSE)"
   ]
  },
  {
   "cell_type": "code",
   "execution_count": null,
   "metadata": {},
   "outputs": [],
   "source": [
    "system(\"gsutil cp -r /home/jupyter/Domains_202003/data/output/deliv_20201210/ gs://output_shared/\")"
   ]
  },
  {
   "cell_type": "markdown",
   "metadata": {},
   "source": [
    "# lift metric. by tld-reseller"
   ]
  },
  {
   "cell_type": "code",
   "execution_count": null,
   "metadata": {},
   "outputs": [],
   "source": [
    "calc_lift <- function (pred_df,\n",
    "                       P=0.1,\n",
    "                        dep_var = \"renewal_status\",\n",
    "                        pred_var = \"first_renewal_prediction\"){\n",
    "    actu_renwd <- sum(pred_df[[dep_var]]=='Renewed')\n",
    "    ttmp_df <- pred_df[order(pred_df[pred_var],decreasing = TRUE),][1:round(dim(pred_df)[1]*P),]\n",
    "    actu_renwd2 <-  sum(ttmp_df[[dep_var]] == 'Renewed')\n",
    "    gain = actu_renwd2/actu_renwd\n",
    "    lift = gain/(P)\n",
    "    return(lift)\n",
    "}"
   ]
  },
  {
   "cell_type": "code",
   "execution_count": null,
   "metadata": {},
   "outputs": [],
   "source": [
    "chart_lift <- function (pred_df=first_renewal_model_test_predict,\n",
    "                        dep_var = \"renewal_status\",\n",
    "                        pred_var = \"first_renewal_prediction\") {\n",
    "  N <- 10  # total number of rows to preallocate--possibly an overestimate\n",
    "  lift_df <- data.frame(P =rep(NA, N), \n",
    "                        actu_renwd2=rep(NA, N), \n",
    "                        gain=rep(NA, N), \n",
    "                        lift=rep(NA, N), \n",
    "                        stringsAsFactors=FALSE)          # you don't know levels yet\n",
    "  actu_renwd <- sum(pred_df[[dep_var]]=='Renewed')\n",
    "  \n",
    "  i = 1\n",
    "  for(P in seq(.1,1,length=10)){\n",
    "    temp_df <- data.frame(pred_df)[c(dep_var,pred_var)]\n",
    "    ttmp_df <- temp_df[order(temp_df[pred_var],decreasing = TRUE),][1:round(dim(temp_df)[1]*P),]\n",
    "    actu_renwd2 <-  sum(ttmp_df[[dep_var]] == 'Renewed')\n",
    "    gain = actu_renwd2/actu_renwd\n",
    "    lift = gain/(P)\n",
    "    \n",
    "    lift_df[i, ] <- list(P, actu_renwd2, gain, lift)\n",
    "    i = i+1\n",
    "  }\n",
    "  return(lift_df)\n",
    "}"
   ]
  },
  {
   "cell_type": "code",
   "execution_count": null,
   "metadata": {},
   "outputs": [],
   "source": [
    "tld_registrar_str='funkey-systems'\n",
    "meta_preds %>% filter(tld_registrar_index==tld_registrar_str) %>% nrow()\n",
    "chart_lift(meta_preds %>% filter(tld_registrar_index==tld_registrar_str), dep_var = \"renewal_status\", pred_var = \"predicted\")\n",
    "calc_lift(meta_preds %>% filter(tld_registrar_index==tld_registrar_str), dep_var = \"renewal_status\", pred_var = \"predicted\")\n",
    "lift_list[[tld_registrar_str]]\n",
    "lift_bytldre %>% filter(tld_registrar_index==tld_registrar_str)"
   ]
  },
  {
   "cell_type": "code",
   "execution_count": null,
   "metadata": {},
   "outputs": [],
   "source": [
    "meta_preds_list <- split(meta_preds, meta_preds$tld_registrar_index)\n",
    "lift_list <- lapply(meta_preds_list,calc_lift, dep_var = \"renewal_status\", pred_var = \"predicted\")\n",
    "lift_list[[tld_registrar_str]]"
   ]
  },
  {
   "cell_type": "code",
   "execution_count": null,
   "metadata": {},
   "outputs": [],
   "source": [
    "# lift_v <- sapply(meta_preds_list,calc_lift, dep_var = \"renewal_status\", pred_var = \"predicted\")\n",
    "# lift_v <- as.data.frame(lift_v)\n",
    "# lift_v$tld_registrar_index <- rownames(lift_v)\n",
    "rownames(lift_v) <- NULL\n",
    "head(lift_v)"
   ]
  },
  {
   "cell_type": "code",
   "execution_count": null,
   "metadata": {},
   "outputs": [],
   "source": [
    "lift_bytldre <- left_join(lift_v, meta_preds %>% group_by(tld_registrar_index) %>% summarize(count = length(actual)) ,\n",
    "                     by='tld_registrar_index')\n",
    "lift_bytldre <- lift_bytldre[c('tld_registrar_index', 'count', 'lift_v')] %>% rename(l10=lift_v) %>% arrange(desc(count))\n",
    "head(lift_bytldre)"
   ]
  },
  {
   "cell_type": "code",
   "execution_count": null,
   "metadata": {},
   "outputs": [],
   "source": [
    "write.csv(lift_bytldre ,'../../data/output/deliv_20201210/perf_metrics/20200902_20201008_lift_bytldre.csv', row.names=FALSE)"
   ]
  },
  {
   "cell_type": "code",
   "execution_count": null,
   "metadata": {},
   "outputs": [],
   "source": [
    "system(\"gsutil cp -r /home/jupyter/Domains_202003/data/output/deliv_20201210/ gs://output_shared/\")"
   ]
  },
  {
   "cell_type": "markdown",
   "metadata": {},
   "source": [
    "## inverse of the lift. \n",
    "below which probability level can we be sure that these domains be dropped (not renewed) the other end of the lift. from the bottom up. will help formulate retention strategy"
   ]
  },
  {
   "cell_type": "code",
   "execution_count": null,
   "metadata": {},
   "outputs": [],
   "source": [
    "meta_preds %>% group_by(tld_registrar_index) %>% summarize(count = length(actual), \n",
    "                                                           count_ren = sum(actual=='Renewed')) %>% arrange(desc(count_ren)) %>% \n",
    " filter(count==200) %>% head()"
   ]
  },
  {
   "cell_type": "code",
   "execution_count": null,
   "metadata": {},
   "outputs": [],
   "source": [
    "# playing around with l10 calc..\n",
    "# in the observations predicted to be most likely to renew (top 10%), .8 of them actually renew... compared to 68% over the whole data\n",
    "# so the additional benefit of using the model as computed by lift@10% is .8/.68=1.17\n",
    "test_df <- meta_preds_list[['onlinehosteurope']] %>% select(actual,predicted) %>% arrange(desc(predicted))\n",
    "(rate_all <- sum(test_df$actual=='Renewed')/nrow(test_df))\n",
    "subtest_df <- test_df[1:round(dim(test_df)[1]*0.1),]\n",
    "(rate_l10 <- sum(subtest_df$actual=='Renewed')/nrow(subtest_df))\n",
    "rate_l10/rate_all\n",
    "calc_lift(test_df, dep_var = \"actual\", pred_var = \"predicted\")"
   ]
  },
  {
   "cell_type": "code",
   "execution_count": null,
   "metadata": {},
   "outputs": [],
   "source": [
    "# playing around with il10 calc..\n",
    "# in the observations predicted to be least likely to renew (bottom 10%), half of them actually renew... compared to 68% over the whole data\n",
    "# so inverse lift is 0.5/0.68=0.735\n",
    "test_df <- meta_preds_list[['onlinehosteurope']] %>% select(actual,predicted) %>% arrange(predicted)\n",
    "(rate_all <- sum(test_df$actual=='Renewed')/nrow(test_df))\n",
    "subtest_df <- test_df[1:round(dim(test_df)[1]*0.1),]\n",
    "(rate_il10 <- sum(subtest_df$actual=='Renewed')/nrow(subtest_df))\n",
    "rate_il10/rate_all\n",
    "# calc_lift(test_df, dep_var = \"actual\", pred_var = \"predicted\")"
   ]
  },
  {
   "cell_type": "code",
   "execution_count": null,
   "metadata": {},
   "outputs": [],
   "source": [
    "calc_ilift <- function (pred_df,\n",
    "                       P=0.1,\n",
    "                        dep_var = \"renewal_status\",\n",
    "                        pred_var = \"first_renewal_prediction\"){\n",
    "    actu_renwd <- sum(pred_df[[dep_var]]=='Renewed')\n",
    "    ttmp_df <- pred_df[order(pred_df[pred_var],decreasing = FALSE),][1:round(dim(pred_df)[1]*P),]\n",
    "    actu_renwd2 <-  sum(ttmp_df[[dep_var]] == 'Renewed')\n",
    "    gain = actu_renwd2/actu_renwd\n",
    "    lift = gain/(P)\n",
    "    return(lift)\n",
    "}"
   ]
  },
  {
   "cell_type": "code",
   "execution_count": null,
   "metadata": {},
   "outputs": [],
   "source": [
    "ilift_v <- sapply(meta_preds_list,calc_ilift, dep_var = \"renewal_status\", pred_var = \"predicted\")\n",
    "ilift_v <- as.data.frame(ilift_v)\n",
    "ilift_v$tld_registrar_index <- rownames(ilift_v)\n",
    "rownames(ilift_v) <- NULL\n",
    "head(ilift_v)"
   ]
  },
  {
   "cell_type": "code",
   "execution_count": null,
   "metadata": {},
   "outputs": [],
   "source": [
    "ilift_v %>% filter(tld_registrar_index=='onlinehosteurope')"
   ]
  },
  {
   "cell_type": "code",
   "execution_count": null,
   "metadata": {},
   "outputs": [],
   "source": [
    "ilift_bytldre <- left_join(ilift_v, meta_preds %>% group_by(tld_registrar_index) %>% summarize(count = length(actual)) ,\n",
    "                     by='tld_registrar_index')\n",
    "ilift_bytldre <- ilift_bytldre[c('tld_registrar_index', 'count', 'ilift_v')] %>% rename(il10=ilift_v) %>% arrange(desc(count))\n",
    "head(ilift_bytldre)"
   ]
  },
  {
   "cell_type": "code",
   "execution_count": null,
   "metadata": {},
   "outputs": [],
   "source": [
    "write.csv(ilift_bytldre ,'../../data/output/deliv_20201210/perf_metrics/20200902_20201008_ilift_bytldre.csv', row.names=FALSE)"
   ]
  },
  {
   "cell_type": "code",
   "execution_count": null,
   "metadata": {},
   "outputs": [],
   "source": [
    "system(\"gsutil cp -r /home/jupyter/Domains_202003/data/output/deliv_20201210/ gs://output_shared/\")"
   ]
  },
  {
   "cell_type": "code",
   "execution_count": null,
   "metadata": {},
   "outputs": [],
   "source": [
    "# playing around with il10 calc..\n",
    "# in the observations predicted to be least likely to renew (bottom 10%), half of them actually renew... compared to 68% over the whole data\n",
    "# so inverse lift is 0.5/0.68=0.735\n",
    "test_df <- meta_preds_list[['sitegmo']] %>% select(actual,predicted) %>% arrange(predicted)\n",
    "(rate_all <- sum(test_df$actual=='Renewed')/nrow(test_df))\n",
    "subtest_df <- test_df[1:round(dim(test_df)[1]*0.1),]\n",
    "(rate_il10 <- sum(subtest_df$actual=='Renewed')/nrow(subtest_df))\n",
    "rate_il10/rate_all\n",
    "# calc_lift(test_df, dep_var = \"actual\", pred_var = \"predicted\")"
   ]
  },
  {
   "cell_type": "markdown",
   "metadata": {},
   "source": [
    "## accuracy metrics -- split by priority... by tld. tld priority 2x2 matrix"
   ]
  },
  {
   "cell_type": "code",
   "execution_count": null,
   "metadata": {},
   "outputs": [],
   "source": [
    "head(vis_df)"
   ]
  },
  {
   "cell_type": "code",
   "execution_count": null,
   "metadata": {},
   "outputs": [],
   "source": [
    "vis_df %>% filter((tld=='site') & (priority==1))"
   ]
  },
  {
   "cell_type": "code",
   "execution_count": null,
   "metadata": {},
   "outputs": [],
   "source": [
    "vis_temp <- vis_df %>% group_by(tld,priority) %>% summarize(sum_pred = round(sum(predicted, na.rm=TRUE),4), \n",
    "                                                sum_actl = sum(actual=='Renewed', na.rm=TRUE), \n",
    "                                                error_pa = round((sum_pred)/(sum_actl+0.0000001),2),\n",
    "                                                count = length(actual),\n",
    "                                               )  %>% \n",
    "    arrange(desc(count))\n",
    "head(vis_temp)\n",
    "tail(vis_temp)"
   ]
  },
  {
   "cell_type": "code",
   "execution_count": null,
   "metadata": {},
   "outputs": [],
   "source": [
    "wide_vis_temp <- vis_temp %>% select(tld, priority, error_pa) %>% spread(priority, error_pa)\n",
    "head(wide_vis_temp, 24)"
   ]
  },
  {
   "cell_type": "code",
   "execution_count": null,
   "metadata": {},
   "outputs": [],
   "source": [
    "write.csv(wide_vis_temp ,'../../data/output/deliv_20201210/perf_metrics/20200902_20201008_errorrate_bytldprio_matrix.csv', row.names=FALSE)"
   ]
  },
  {
   "cell_type": "code",
   "execution_count": null,
   "metadata": {},
   "outputs": [],
   "source": [
    "system(\"gsutil cp -r /home/jupyter/Domains_202003/data/output/deliv_20201210/ gs://output_shared/\")"
   ]
  },
  {
   "cell_type": "code",
   "execution_count": null,
   "metadata": {},
   "outputs": [],
   "source": []
  },
  {
   "cell_type": "code",
   "execution_count": null,
   "metadata": {},
   "outputs": [],
   "source": [
    "str(vis_temp$priority)\n",
    "vis_temp$priority <- factor(vis_temp$priority, levels=c(1,2,3,4))\n",
    "str(vis_temp$priority)"
   ]
  },
  {
   "cell_type": "code",
   "execution_count": null,
   "metadata": {},
   "outputs": [],
   "source": [
    "summary(vis_temp$error_pa)\n",
    "summary(vis_temp$error_pa[vis_temp$error_pa<5])\n",
    "min(vis_temp$error_pa)\n",
    "max(vis_temp$error_pa)"
   ]
  },
  {
   "cell_type": "code",
   "execution_count": null,
   "metadata": {},
   "outputs": [],
   "source": [
    "\n",
    "options(repr.plot.width=10, repr.plot.height=10)\n",
    "ggplot(vis_temp[vis_temp$error_pa<5,] , \n",
    "       aes(tld, priority, fill=error_pa)) + geom_raster() +geom_text(aes(label=error_pa), size=5)+ \n",
    "  theme(legend.position = \"none\",\n",
    "       axis.text=element_text(size=15),\n",
    "        axis.title=element_text(size=20),\n",
    "       plot.title = element_text(hjust = 0.5, size=20)) + ggtitle('Error Rate (pred/actual) by TLD x Reseller_Priority, excluding tail')\n"
   ]
  },
  {
   "cell_type": "code",
   "execution_count": null,
   "metadata": {},
   "outputs": [],
   "source": [
    "ggsave('../../data/output/deliv_20201210/20200902_20201008_errorrate_bytldprio_plot.pdf', width=10, height= 10) \n",
    "system(\"gsutil cp -r /home/jupyter/Domains_202003/data/output/deliv_20201203/ gs://output_shared/\")"
   ]
  },
  {
   "cell_type": "code",
   "execution_count": null,
   "metadata": {},
   "outputs": [],
   "source": []
  }
 ],
 "metadata": {
  "environment": {
   "name": "r-cpu.3-6.m48",
   "type": "gcloud",
   "uri": "gcr.io/deeplearning-platform-release/r-cpu.3-6:m48"
  },
  "kernelspec": {
   "display_name": "R",
   "language": "R",
   "name": "ir"
  },
  "language_info": {
   "codemirror_mode": "r",
   "file_extension": ".r",
   "mimetype": "text/x-r-source",
   "name": "R",
   "pygments_lexer": "r",
   "version": "3.6.3"
  }
 },
 "nbformat": 4,
 "nbformat_minor": 4
}
