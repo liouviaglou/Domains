{
 "cells": [
  {
   "cell_type": "markdown",
   "metadata": {},
   "source": [
    "# Get More Data \n",
    "expand time horizon Jan 1 2019 - July 31, 2020 - 5 quarters. note 45 day (safe: 2 mo.) window from now (10/08/2020)"
   ]
  },
  {
   "cell_type": "code",
   "execution_count": null,
   "metadata": {},
   "outputs": [],
   "source": [
    "# install.packages(\"readr\")"
   ]
  },
  {
   "cell_type": "code",
   "execution_count": null,
   "metadata": {},
   "outputs": [],
   "source": [
    "# https://stackoverflow.com/questions/63328348/invalid-value-at-start-index-type-uint64-1e05-invalid-issue-while-down\n",
    "# remotes::install_github(\"r-dbi/bigrquery\")"
   ]
  },
  {
   "cell_type": "code",
   "execution_count": 2,
   "metadata": {},
   "outputs": [
    {
     "name": "stderr",
     "output_type": "stream",
     "text": [
      "Loading required package: ggplot2\n",
      "\n",
      "\n",
      "Attaching package: ‘plotly’\n",
      "\n",
      "\n",
      "The following object is masked from ‘package:ggplot2’:\n",
      "\n",
      "    last_plot\n",
      "\n",
      "\n",
      "The following object is masked from ‘package:stats’:\n",
      "\n",
      "    filter\n",
      "\n",
      "\n",
      "The following object is masked from ‘package:graphics’:\n",
      "\n",
      "    layout\n",
      "\n",
      "\n"
     ]
    }
   ],
   "source": [
    "library(bigrquery)\n",
    "library(plotly)\n",
    "library(data.table)\n",
    "library(stringr)\n",
    "library(readr)"
   ]
  },
  {
   "cell_type": "code",
   "execution_count": 2,
   "metadata": {},
   "outputs": [
    {
     "data": {
      "text/html": [],
      "text/latex": [],
      "text/markdown": [],
      "text/plain": [
       "character(0)"
      ]
     },
     "metadata": {},
     "output_type": "display_data"
    }
   ],
   "source": [
    "objects()"
   ]
  },
  {
   "cell_type": "code",
   "execution_count": 3,
   "metadata": {},
   "outputs": [],
   "source": [
    "projectid <- \"radixbi-249015\""
   ]
  },
  {
   "cell_type": "markdown",
   "metadata": {},
   "source": [
    "## count number of rows we're working with"
   ]
  },
  {
   "cell_type": "code",
   "execution_count": 4,
   "metadata": {},
   "outputs": [],
   "source": [
    "expiry_date_start='2019-06-01'\n",
    "expiry_date_end='2020-09-01'\n",
    "\n",
    "source(\"../phaseII_06_fallbacksupp/query_string_defs_2.R\")\n",
    "\n",
    "# writeLines(count_expiry_data_str)"
   ]
  },
  {
   "cell_type": "code",
   "execution_count": 5,
   "metadata": {},
   "outputs": [
    {
     "data": {
      "text/html": [
       "<table>\n",
       "<caption>A tibble: 1 × 1</caption>\n",
       "<thead>\n",
       "\t<tr><th scope=col>f0_</th></tr>\n",
       "\t<tr><th scope=col>&lt;int&gt;</th></tr>\n",
       "</thead>\n",
       "<tbody>\n",
       "\t<tr><td>6876</td></tr>\n",
       "</tbody>\n",
       "</table>\n"
      ],
      "text/latex": [
       "A tibble: 1 × 1\n",
       "\\begin{tabular}{l}\n",
       " f0\\_\\\\\n",
       " <int>\\\\\n",
       "\\hline\n",
       "\t 6876\\\\\n",
       "\\end{tabular}\n"
      ],
      "text/markdown": [
       "\n",
       "A tibble: 1 × 1\n",
       "\n",
       "| f0_ &lt;int&gt; |\n",
       "|---|\n",
       "| 6876 |\n",
       "\n"
      ],
      "text/plain": [
       "  f0_ \n",
       "1 6876"
      ]
     },
     "metadata": {},
     "output_type": "display_data"
    }
   ],
   "source": [
    "sql <- count_expiry_data_str\n",
    "\n",
    "bq_table_download(bq_project_query(projectid, sql))"
   ]
  },
  {
   "cell_type": "code",
   "execution_count": null,
   "metadata": {},
   "outputs": [],
   "source": [
    "# result is wrong -- looking at something like 5.4M rows"
   ]
  },
  {
   "cell_type": "code",
   "execution_count": null,
   "metadata": {},
   "outputs": [],
   "source": [
    "# webUI returns 5427633 rows -- WHY??"
   ]
  },
  {
   "cell_type": "markdown",
   "metadata": {},
   "source": [
    "## "
   ]
  },
  {
   "cell_type": "code",
   "execution_count": 7,
   "metadata": {},
   "outputs": [
    {
     "name": "stdout",
     "output_type": "stream",
     "text": [
      "[1] 6876   28\n",
      "2 Mb\n"
     ]
    }
   ],
   "source": [
    "projectid <- \"radixbi-249015\"\n",
    "expiry_date_start='2019-06-01'\n",
    "expiry_date_end='2020-09-01'\n",
    "\n",
    "source(\"../phaseII_06_fallbacksupp/query_string_defs_2.R\")\n",
    "\n",
    "sql <- get_expiry_data_str\n",
    "\n",
    "expiry_data <- bq_table_download(bq_project_query(projectid, sql))\n",
    "print(dim(expiry_data))\n",
    "print(object.size(expiry_data), units = \"auto\") \n",
    "\n",
    "# [1] 1743356      30\n",
    "# 475.9 Mb"
   ]
  },
  {
   "cell_type": "code",
   "execution_count": null,
   "metadata": {},
   "outputs": [],
   "source": [
    "# saveRDS(expiry_data,\"../../data/output/expiry_data\")\n",
    "# system(\"gsutil cp /home/jupyter/local/Domains_202003/data/output/* gs://data_outputt/output/\")\n"
   ]
  },
  {
   "cell_type": "markdown",
   "metadata": {},
   "source": [
    "## saved results of new query to bigquery table in project radixbi_2020\n"
   ]
  },
  {
   "cell_type": "code",
   "execution_count": 3,
   "metadata": {},
   "outputs": [
    {
     "data": {
      "text/html": [
       "<table>\n",
       "<caption>A tibble: 1 × 1</caption>\n",
       "<thead>\n",
       "\t<tr><th scope=col>f0_</th></tr>\n",
       "\t<tr><th scope=col>&lt;int&gt;</th></tr>\n",
       "</thead>\n",
       "<tbody>\n",
       "\t<tr><td>943779</td></tr>\n",
       "</tbody>\n",
       "</table>\n"
      ],
      "text/latex": [
       "A tibble: 1 × 1\n",
       "\\begin{tabular}{l}\n",
       " f0\\_\\\\\n",
       " <int>\\\\\n",
       "\\hline\n",
       "\t 943779\\\\\n",
       "\\end{tabular}\n"
      ],
      "text/markdown": [
       "\n",
       "A tibble: 1 × 1\n",
       "\n",
       "| f0_ &lt;int&gt; |\n",
       "|---|\n",
       "| 943779 |\n",
       "\n"
      ],
      "text/plain": [
       "  f0_   \n",
       "1 943779"
      ]
     },
     "metadata": {},
     "output_type": "display_data"
    }
   ],
   "source": [
    "sql <- paste(\"SELECT COUNT(*) FROM `radix2020.expiry.expiry_20200902_20201102_20201127`\")\n",
    "\n",
    "bq_table_download(bq_project_query(\"radix2020\", sql))"
   ]
  },
  {
   "cell_type": "code",
   "execution_count": 6,
   "metadata": {},
   "outputs": [
    {
     "data": {
      "text/html": [
       "<table>\n",
       "<caption>A tibble: 1 × 1</caption>\n",
       "<thead>\n",
       "\t<tr><th scope=col>f0_</th></tr>\n",
       "\t<tr><th scope=col>&lt;int&gt;</th></tr>\n",
       "</thead>\n",
       "<tbody>\n",
       "\t<tr><td>5427638</td></tr>\n",
       "</tbody>\n",
       "</table>\n"
      ],
      "text/latex": [
       "A tibble: 1 × 1\n",
       "\\begin{tabular}{l}\n",
       " f0\\_\\\\\n",
       " <int>\\\\\n",
       "\\hline\n",
       "\t 5427638\\\\\n",
       "\\end{tabular}\n"
      ],
      "text/markdown": [
       "\n",
       "A tibble: 1 × 1\n",
       "\n",
       "| f0_ &lt;int&gt; |\n",
       "|---|\n",
       "| 5427638 |\n",
       "\n"
      ],
      "text/plain": [
       "  f0_    \n",
       "1 5427638"
      ]
     },
     "metadata": {},
     "output_type": "display_data"
    }
   ],
   "source": [
    "sql <- paste(\"SELECT COUNT(*) FROM `radix2020.expiry.expiry_20190601_20200901_20201116`\")\n",
    "\n",
    "bq_table_download(bq_project_query(\"radix2020\", sql))"
   ]
  },
  {
   "cell_type": "code",
   "execution_count": null,
   "metadata": {},
   "outputs": [],
   "source": [
    "# result is correct -- right number of rows"
   ]
  },
  {
   "cell_type": "markdown",
   "metadata": {},
   "source": [
    "# New data 11/27"
   ]
  },
  {
   "cell_type": "code",
   "execution_count": 5,
   "metadata": {},
   "outputs": [],
   "source": [
    "# https://community.exploratory.io/t/google-bigquery-import-fails-with-invalid-value-at-start-index-type-uint64-1e-05-invalid/1901\n",
    "options(scipen = 20)"
   ]
  },
  {
   "cell_type": "code",
   "execution_count": 6,
   "metadata": {},
   "outputs": [],
   "source": [
    "sql <- paste(\"SELECT * FROM `radix2020.expiry.expiry_20200902_20201102_20201127`\")\n",
    "\n",
    "expiry_20200902_20201102_20201127 <- bq_table_download(bq_project_query(\"radix2020\", sql))"
   ]
  },
  {
   "cell_type": "code",
   "execution_count": 7,
   "metadata": {},
   "outputs": [
    {
     "data": {
      "text/html": [
       "<style>\n",
       ".list-inline {list-style: none; margin:0; padding: 0}\n",
       ".list-inline>li {display: inline-block}\n",
       ".list-inline>li:not(:last-child)::after {content: \"\\00b7\"; padding: 0 .5ex}\n",
       "</style>\n",
       "<ol class=list-inline><li>943779</li><li>30</li></ol>\n"
      ],
      "text/latex": [
       "\\begin{enumerate*}\n",
       "\\item 943779\n",
       "\\item 30\n",
       "\\end{enumerate*}\n"
      ],
      "text/markdown": [
       "1. 943779\n",
       "2. 30\n",
       "\n",
       "\n"
      ],
      "text/plain": [
       "[1] 943779     30"
      ]
     },
     "metadata": {},
     "output_type": "display_data"
    }
   ],
   "source": [
    "dim(expiry_20200902_20201102_20201127)"
   ]
  },
  {
   "cell_type": "code",
   "execution_count": 8,
   "metadata": {},
   "outputs": [],
   "source": [
    "saveRDS(expiry_20200902_20201102_20201127,\"../../data/output/datapull_20201127/expiry_20200902_20201102_20201127\")\n",
    "system(\"gsutil cp /home/jupyter/local/Domains_202003/data/output/datapull_20201127/* gs://data_outputt/output/\")"
   ]
  },
  {
   "cell_type": "markdown",
   "metadata": {},
   "source": [
    "## PROTOTYPE load data script"
   ]
  },
  {
   "cell_type": "code",
   "execution_count": 5,
   "metadata": {},
   "outputs": [
    {
     "name": "stderr",
     "output_type": "stream",
     "text": [
      "\n",
      "Attaching package: ‘dplyr’\n",
      "\n",
      "\n",
      "The following objects are masked from ‘package:data.table’:\n",
      "\n",
      "    between, first, last\n",
      "\n",
      "\n",
      "The following objects are masked from ‘package:stats’:\n",
      "\n",
      "    filter, lag\n",
      "\n",
      "\n",
      "The following objects are masked from ‘package:base’:\n",
      "\n",
      "    intersect, setdiff, setequal, union\n",
      "\n",
      "\n"
     ]
    }
   ],
   "source": [
    "library(dplyr)"
   ]
  },
  {
   "cell_type": "code",
   "execution_count": 3,
   "metadata": {},
   "outputs": [
    {
     "name": "stdout",
     "output_type": "stream",
     "text": [
      "Loading data..."
     ]
    }
   ],
   "source": [
    "# load data\n",
    "cat(\"Loading data...\")\n",
    "expiry_df <- readRDS(\"/home/jupyter/local/Domains_202003/data/output/expiry_20190601_20200901\")"
   ]
  },
  {
   "cell_type": "code",
   "execution_count": 8,
   "metadata": {},
   "outputs": [
    {
     "name": "stdout",
     "output_type": "stream",
     "text": [
      "Removing 0 rows due to expiry_date constraintsRemoving 4661731 rows due to renewed_count constraintsRemoving 0 rows due to missing gibb_score... now dataset min(creation_date) is  2017-01-01 ."
     ]
    }
   ],
   "source": [
    "# select most recent 5Q [1 quarter = 90 days, 5 quarters = 450 days ]\n",
    "# 450 days before 20200901 is 20190609 ... round off to 20190601\n",
    "cat(\"Removing\", expiry_df %>%filter(expiry_date < as.Date(\"2019-06-01\") | expiry_date > as.Date(\"2020-09-01\")) %>% tally() %>% pull(n) ,\"rows due to expiry_date constraints\")\n",
    "expiry_df <- expiry_df %>% filter(expiry_date >= as.Date(\"2019-06-01\") & expiry_date <= as.Date(\"2020-09-01\"))\n",
    "\n",
    "# remove renewed_count>1\n",
    "cat(\"Removing\", expiry_df %>% filter(renewed_count==1) %>% tally() %>% pull(n) ,\"rows due to renewed_count constraints\")\n",
    "expiry_df <- expiry_df %>% filter(renewed_count==1)\n",
    "\n",
    "# remove where gibb_score, etc. are NA\n",
    "cat(\"Removing\", expiry_df %>% filter(is.na(gibb_score)) %>% tally() %>% pull(n) ,\"rows due to missing gibb_score\")\n",
    "expiry_df <- expiry_df %>% filter(!is.na(gibb_score))\n",
    "cat(\"... now dataset min(creation_date) is \", expiry_df %>% summarise(min(creation_date)) %>% pull(1) %>% as.character(),\".\")"
   ]
  },
  {
   "cell_type": "code",
   "execution_count": 34,
   "metadata": {},
   "outputs": [
    {
     "name": "stdout",
     "output_type": "stream",
     "text": [
      "Removing 410868 rows due to tld pw and in.net"
     ]
    },
    {
     "data": {
      "text/html": [
       "<style>\n",
       ".list-inline {list-style: none; margin:0; padding: 0}\n",
       ".list-inline>li {display: inline-block}\n",
       ".list-inline>li:not(:last-child)::after {content: \"\\00b7\"; padding: 0 .5ex}\n",
       "</style>\n",
       "<ol class=list-inline><li>4250863</li><li>29</li></ol>\n"
      ],
      "text/latex": [
       "\\begin{enumerate*}\n",
       "\\item 4250863\n",
       "\\item 29\n",
       "\\end{enumerate*}\n"
      ],
      "text/markdown": [
       "1. 4250863\n",
       "2. 29\n",
       "\n",
       "\n"
      ],
      "text/plain": [
       "[1] 4250863      29"
      ]
     },
     "metadata": {},
     "output_type": "display_data"
    }
   ],
   "source": [
    "# remove where gibb_score, etc. are NA\n",
    "cat(\"Removing\", expiry_df %>% filter(tld==\"pw\" | tld==\"in.net\") %>% tally() %>% pull(n) ,\"rows due to tld pw and in.net\")\n",
    "expiry_df <- expiry_df %>% filter(tld!=\"pw\" & tld!=\"in.net\") \n",
    "dim(expiry_df)"
   ]
  },
  {
   "cell_type": "code",
   "execution_count": 23,
   "metadata": {},
   "outputs": [
    {
     "data": {
      "text/html": [
       "<style>\n",
       ".list-inline {list-style: none; margin:0; padding: 0}\n",
       ".list-inline>li {display: inline-block}\n",
       ".list-inline>li:not(:last-child)::after {content: \"\\00b7\"; padding: 0 .5ex}\n",
       "</style>\n",
       "<ol class=list-inline><li>'fun'</li><li>'host'</li><li>'in.net'</li><li>'online'</li><li>'press'</li><li>'pw'</li><li>'site'</li><li>'space'</li><li>'store'</li><li>'tech'</li><li>'website'</li></ol>\n"
      ],
      "text/latex": [
       "\\begin{enumerate*}\n",
       "\\item 'fun'\n",
       "\\item 'host'\n",
       "\\item 'in.net'\n",
       "\\item 'online'\n",
       "\\item 'press'\n",
       "\\item 'pw'\n",
       "\\item 'site'\n",
       "\\item 'space'\n",
       "\\item 'store'\n",
       "\\item 'tech'\n",
       "\\item 'website'\n",
       "\\end{enumerate*}\n"
      ],
      "text/markdown": [
       "1. 'fun'\n",
       "2. 'host'\n",
       "3. 'in.net'\n",
       "4. 'online'\n",
       "5. 'press'\n",
       "6. 'pw'\n",
       "7. 'site'\n",
       "8. 'space'\n",
       "9. 'store'\n",
       "10. 'tech'\n",
       "11. 'website'\n",
       "\n",
       "\n"
      ],
      "text/plain": [
       " [1] \"fun\"     \"host\"    \"in.net\"  \"online\"  \"press\"   \"pw\"      \"site\"   \n",
       " [8] \"space\"   \"store\"   \"tech\"    \"website\""
      ]
     },
     "metadata": {},
     "output_type": "display_data"
    }
   ],
   "source": [
    "# exclude resellers  .pw and .in.net \n",
    "expiry_df %>% distinct(tld) %>% arrange(tld) %>% pull(tld)"
   ]
  },
  {
   "cell_type": "code",
   "execution_count": 7,
   "metadata": {},
   "outputs": [
    {
     "data": {
      "text/html": [
       "<style>\n",
       ".list-inline {list-style: none; margin:0; padding: 0}\n",
       ".list-inline>li {display: inline-block}\n",
       ".list-inline>li:not(:last-child)::after {content: \"\\00b7\"; padding: 0 .5ex}\n",
       "</style>\n",
       "<ol class=list-inline><li>4661731</li><li>29</li></ol>\n"
      ],
      "text/latex": [
       "\\begin{enumerate*}\n",
       "\\item 4661731\n",
       "\\item 29\n",
       "\\end{enumerate*}\n"
      ],
      "text/markdown": [
       "1. 4661731\n",
       "2. 29\n",
       "\n",
       "\n"
      ],
      "text/plain": [
       "[1] 4661731      29"
      ]
     },
     "metadata": {},
     "output_type": "display_data"
    }
   ],
   "source": [
    "dim(expiry_df)"
   ]
  },
  {
   "cell_type": "code",
   "execution_count": 24,
   "metadata": {},
   "outputs": [
    {
     "data": {
      "text/html": [
       "<table>\n",
       "<caption>A tibble: 6 × 29</caption>\n",
       "<thead>\n",
       "\t<tr><th scope=col>renewal_type</th><th scope=col>renewed_count</th><th scope=col>expiry_date</th><th scope=col>creation_date</th><th scope=col>status</th><th scope=col>domain_id</th><th scope=col>domain</th><th scope=col>registrar</th><th scope=col>reseller</th><th scope=col>reseller_country</th><th scope=col>⋯</th><th scope=col>renew_date</th><th scope=col>renew_arpt</th><th scope=col>gibb_score</th><th scope=col>pattern</th><th scope=col>pattern_domain_count</th><th scope=col>day_domains</th><th scope=col>sld_length</th><th scope=col>sld_type</th><th scope=col>sld_type2</th><th scope=col>tld</th></tr>\n",
       "\t<tr><th scope=col>&lt;chr&gt;</th><th scope=col>&lt;int&gt;</th><th scope=col>&lt;date&gt;</th><th scope=col>&lt;date&gt;</th><th scope=col>&lt;chr&gt;</th><th scope=col>&lt;int&gt;</th><th scope=col>&lt;chr&gt;</th><th scope=col>&lt;chr&gt;</th><th scope=col>&lt;chr&gt;</th><th scope=col>&lt;chr&gt;</th><th scope=col>⋯</th><th scope=col>&lt;date&gt;</th><th scope=col>&lt;dbl&gt;</th><th scope=col>&lt;dbl&gt;</th><th scope=col>&lt;chr&gt;</th><th scope=col>&lt;int&gt;</th><th scope=col>&lt;int&gt;</th><th scope=col>&lt;int&gt;</th><th scope=col>&lt;chr&gt;</th><th scope=col>&lt;chr&gt;</th><th scope=col>&lt;chr&gt;</th></tr>\n",
       "</thead>\n",
       "<tbody>\n",
       "\t<tr><td>FirstTime</td><td>1</td><td>2020-08-09</td><td>2019-08-09</td><td>Active</td><td>116566566</td><td>labong.in.net          </td><td>PDR Ltd  </td><td>Whois    </td><td>United States</td><td>⋯</td><td>2020-08-09</td><td>6</td><td> 8.66</td><td>labong          </td><td>1</td><td> 2</td><td> 6</td><td>l </td><td>6l  </td><td>in.net</td></tr>\n",
       "\t<tr><td>FirstTime</td><td>1</td><td>2020-02-22</td><td>2019-02-22</td><td>Active</td><td> 94523324</td><td>ygbh6vjkc3fuir0o.in.net</td><td>GMO      </td><td>MuuMuu   </td><td>Japan        </td><td>⋯</td><td>2020-01-23</td><td>6</td><td> 0.18</td><td>ygbh6vjkc3fuir0o</td><td>1</td><td>28</td><td>16</td><td>ln</td><td>16ln</td><td>in.net</td></tr>\n",
       "\t<tr><td>FirstTime</td><td>1</td><td>2019-08-08</td><td>2018-08-08</td><td>Active</td><td> 73838944</td><td>ldp4qse3twvcg6h.in.net </td><td>GMO      </td><td>MuuMuu   </td><td>Japan        </td><td>⋯</td><td>2019-07-09</td><td>6</td><td> 0.22</td><td>ldp4qse3twvcg6h </td><td>1</td><td>40</td><td>15</td><td>ln</td><td>15ln</td><td>in.net</td></tr>\n",
       "\t<tr><td>FirstTime</td><td>1</td><td>2020-06-20</td><td>2019-06-20</td><td>Active</td><td>109112786</td><td>empowered.in.net       </td><td>Namecheap</td><td>Namecheap</td><td>United States</td><td>⋯</td><td>2020-06-20</td><td>6</td><td> 8.84</td><td>empowered       </td><td>1</td><td> 1</td><td> 9</td><td>l </td><td>9l  </td><td>in.net</td></tr>\n",
       "\t<tr><td>FirstTime</td><td>1</td><td>2020-01-20</td><td>2019-01-20</td><td>Active</td><td> 91482063</td><td>astounding.in.net      </td><td>Namecheap</td><td>Namecheap</td><td>United States</td><td>⋯</td><td>2020-01-20</td><td>6</td><td>12.48</td><td>astounding      </td><td>1</td><td> 2</td><td>10</td><td>l </td><td>10l </td><td>in.net</td></tr>\n",
       "\t<tr><td>FirstTime</td><td>1</td><td>2019-08-05</td><td>2018-08-05</td><td>Active</td><td> 73623584</td><td>cheapuggsforsale.in.net</td><td>Namecheap</td><td>Namecheap</td><td>United States</td><td>⋯</td><td>2019-08-04</td><td>6</td><td> 4.86</td><td>cheapuggsforsale</td><td>1</td><td> 8</td><td>16</td><td>l </td><td>16l </td><td>in.net</td></tr>\n",
       "</tbody>\n",
       "</table>\n"
      ],
      "text/latex": [
       "A tibble: 6 × 29\n",
       "\\begin{tabular}{lllllllllllllllllllll}\n",
       " renewal\\_type & renewed\\_count & expiry\\_date & creation\\_date & status & domain\\_id & domain & registrar & reseller & reseller\\_country & ⋯ & renew\\_date & renew\\_arpt & gibb\\_score & pattern & pattern\\_domain\\_count & day\\_domains & sld\\_length & sld\\_type & sld\\_type2 & tld\\\\\n",
       " <chr> & <int> & <date> & <date> & <chr> & <int> & <chr> & <chr> & <chr> & <chr> & ⋯ & <date> & <dbl> & <dbl> & <chr> & <int> & <int> & <int> & <chr> & <chr> & <chr>\\\\\n",
       "\\hline\n",
       "\t FirstTime & 1 & 2020-08-09 & 2019-08-09 & Active & 116566566 & labong.in.net           & PDR Ltd   & Whois     & United States & ⋯ & 2020-08-09 & 6 &  8.66 & labong           & 1 &  2 &  6 & l  & 6l   & in.net\\\\\n",
       "\t FirstTime & 1 & 2020-02-22 & 2019-02-22 & Active &  94523324 & ygbh6vjkc3fuir0o.in.net & GMO       & MuuMuu    & Japan         & ⋯ & 2020-01-23 & 6 &  0.18 & ygbh6vjkc3fuir0o & 1 & 28 & 16 & ln & 16ln & in.net\\\\\n",
       "\t FirstTime & 1 & 2019-08-08 & 2018-08-08 & Active &  73838944 & ldp4qse3twvcg6h.in.net  & GMO       & MuuMuu    & Japan         & ⋯ & 2019-07-09 & 6 &  0.22 & ldp4qse3twvcg6h  & 1 & 40 & 15 & ln & 15ln & in.net\\\\\n",
       "\t FirstTime & 1 & 2020-06-20 & 2019-06-20 & Active & 109112786 & empowered.in.net        & Namecheap & Namecheap & United States & ⋯ & 2020-06-20 & 6 &  8.84 & empowered        & 1 &  1 &  9 & l  & 9l   & in.net\\\\\n",
       "\t FirstTime & 1 & 2020-01-20 & 2019-01-20 & Active &  91482063 & astounding.in.net       & Namecheap & Namecheap & United States & ⋯ & 2020-01-20 & 6 & 12.48 & astounding       & 1 &  2 & 10 & l  & 10l  & in.net\\\\\n",
       "\t FirstTime & 1 & 2019-08-05 & 2018-08-05 & Active &  73623584 & cheapuggsforsale.in.net & Namecheap & Namecheap & United States & ⋯ & 2019-08-04 & 6 &  4.86 & cheapuggsforsale & 1 &  8 & 16 & l  & 16l  & in.net\\\\\n",
       "\\end{tabular}\n"
      ],
      "text/markdown": [
       "\n",
       "A tibble: 6 × 29\n",
       "\n",
       "| renewal_type &lt;chr&gt; | renewed_count &lt;int&gt; | expiry_date &lt;date&gt; | creation_date &lt;date&gt; | status &lt;chr&gt; | domain_id &lt;int&gt; | domain &lt;chr&gt; | registrar &lt;chr&gt; | reseller &lt;chr&gt; | reseller_country &lt;chr&gt; | ⋯ ⋯ | renew_date &lt;date&gt; | renew_arpt &lt;dbl&gt; | gibb_score &lt;dbl&gt; | pattern &lt;chr&gt; | pattern_domain_count &lt;int&gt; | day_domains &lt;int&gt; | sld_length &lt;int&gt; | sld_type &lt;chr&gt; | sld_type2 &lt;chr&gt; | tld &lt;chr&gt; |\n",
       "|---|---|---|---|---|---|---|---|---|---|---|---|---|---|---|---|---|---|---|---|---|\n",
       "| FirstTime | 1 | 2020-08-09 | 2019-08-09 | Active | 116566566 | labong.in.net           | PDR Ltd   | Whois     | United States | ⋯ | 2020-08-09 | 6 |  8.66 | labong           | 1 |  2 |  6 | l  | 6l   | in.net |\n",
       "| FirstTime | 1 | 2020-02-22 | 2019-02-22 | Active |  94523324 | ygbh6vjkc3fuir0o.in.net | GMO       | MuuMuu    | Japan         | ⋯ | 2020-01-23 | 6 |  0.18 | ygbh6vjkc3fuir0o | 1 | 28 | 16 | ln | 16ln | in.net |\n",
       "| FirstTime | 1 | 2019-08-08 | 2018-08-08 | Active |  73838944 | ldp4qse3twvcg6h.in.net  | GMO       | MuuMuu    | Japan         | ⋯ | 2019-07-09 | 6 |  0.22 | ldp4qse3twvcg6h  | 1 | 40 | 15 | ln | 15ln | in.net |\n",
       "| FirstTime | 1 | 2020-06-20 | 2019-06-20 | Active | 109112786 | empowered.in.net        | Namecheap | Namecheap | United States | ⋯ | 2020-06-20 | 6 |  8.84 | empowered        | 1 |  1 |  9 | l  | 9l   | in.net |\n",
       "| FirstTime | 1 | 2020-01-20 | 2019-01-20 | Active |  91482063 | astounding.in.net       | Namecheap | Namecheap | United States | ⋯ | 2020-01-20 | 6 | 12.48 | astounding       | 1 |  2 | 10 | l  | 10l  | in.net |\n",
       "| FirstTime | 1 | 2019-08-05 | 2018-08-05 | Active |  73623584 | cheapuggsforsale.in.net | Namecheap | Namecheap | United States | ⋯ | 2019-08-04 | 6 |  4.86 | cheapuggsforsale | 1 |  8 | 16 | l  | 16l  | in.net |\n",
       "\n"
      ],
      "text/plain": [
       "  renewal_type renewed_count expiry_date creation_date status domain_id\n",
       "1 FirstTime    1             2020-08-09  2019-08-09    Active 116566566\n",
       "2 FirstTime    1             2020-02-22  2019-02-22    Active  94523324\n",
       "3 FirstTime    1             2019-08-08  2018-08-08    Active  73838944\n",
       "4 FirstTime    1             2020-06-20  2019-06-20    Active 109112786\n",
       "5 FirstTime    1             2020-01-20  2019-01-20    Active  91482063\n",
       "6 FirstTime    1             2019-08-05  2018-08-05    Active  73623584\n",
       "  domain                  registrar reseller  reseller_country ⋯ renew_date\n",
       "1 labong.in.net           PDR Ltd   Whois     United States    ⋯ 2020-08-09\n",
       "2 ygbh6vjkc3fuir0o.in.net GMO       MuuMuu    Japan            ⋯ 2020-01-23\n",
       "3 ldp4qse3twvcg6h.in.net  GMO       MuuMuu    Japan            ⋯ 2019-07-09\n",
       "4 empowered.in.net        Namecheap Namecheap United States    ⋯ 2020-06-20\n",
       "5 astounding.in.net       Namecheap Namecheap United States    ⋯ 2020-01-20\n",
       "6 cheapuggsforsale.in.net Namecheap Namecheap United States    ⋯ 2019-08-04\n",
       "  renew_arpt gibb_score pattern          pattern_domain_count day_domains\n",
       "1 6           8.66      labong           1                     2         \n",
       "2 6           0.18      ygbh6vjkc3fuir0o 1                    28         \n",
       "3 6           0.22      ldp4qse3twvcg6h  1                    40         \n",
       "4 6           8.84      empowered        1                     1         \n",
       "5 6          12.48      astounding       1                     2         \n",
       "6 6           4.86      cheapuggsforsale 1                     8         \n",
       "  sld_length sld_type sld_type2 tld   \n",
       "1  6         l        6l        in.net\n",
       "2 16         ln       16ln      in.net\n",
       "3 15         ln       15ln      in.net\n",
       "4  9         l        9l        in.net\n",
       "5 10         l        10l       in.net\n",
       "6 16         l        16l       in.net"
      ]
     },
     "metadata": {},
     "output_type": "display_data"
    }
   ],
   "source": []
  },
  {
   "cell_type": "code",
   "execution_count": 28,
   "metadata": {},
   "outputs": [
    {
     "name": "stderr",
     "output_type": "stream",
     "text": [
      "Warning message in cbind(parts$left, ellip_h, parts$right, deparse.level = 0L):\n",
      "“number of rows of result is not a multiple of vector length (arg 2)”\n",
      "Warning message in cbind(parts$left, ellip_h, parts$right, deparse.level = 0L):\n",
      "“number of rows of result is not a multiple of vector length (arg 2)”\n",
      "Warning message in cbind(parts$left, ellip_h, parts$right, deparse.level = 0L):\n",
      "“number of rows of result is not a multiple of vector length (arg 2)”\n",
      "Warning message in cbind(parts$left, ellip_h, parts$right, deparse.level = 0L):\n",
      "“number of rows of result is not a multiple of vector length (arg 2)”\n"
     ]
    },
    {
     "data": {
      "text/html": [
       "<table>\n",
       "<caption>A tibble: 0 × 29</caption>\n",
       "<thead>\n",
       "\t<tr><th scope=col>renewal_type</th><th scope=col>renewed_count</th><th scope=col>expiry_date</th><th scope=col>creation_date</th><th scope=col>status</th><th scope=col>domain_id</th><th scope=col>domain</th><th scope=col>registrar</th><th scope=col>reseller</th><th scope=col>reseller_country</th><th scope=col>⋯</th><th scope=col>renew_date</th><th scope=col>renew_arpt</th><th scope=col>gibb_score</th><th scope=col>pattern</th><th scope=col>pattern_domain_count</th><th scope=col>day_domains</th><th scope=col>sld_length</th><th scope=col>sld_type</th><th scope=col>sld_type2</th><th scope=col>tld</th></tr>\n",
       "\t<tr><th scope=col>&lt;chr&gt;</th><th scope=col>&lt;int&gt;</th><th scope=col>&lt;date&gt;</th><th scope=col>&lt;date&gt;</th><th scope=col>&lt;chr&gt;</th><th scope=col>&lt;int&gt;</th><th scope=col>&lt;chr&gt;</th><th scope=col>&lt;chr&gt;</th><th scope=col>&lt;chr&gt;</th><th scope=col>&lt;chr&gt;</th><th scope=col>⋯</th><th scope=col>&lt;date&gt;</th><th scope=col>&lt;dbl&gt;</th><th scope=col>&lt;dbl&gt;</th><th scope=col>&lt;chr&gt;</th><th scope=col>&lt;int&gt;</th><th scope=col>&lt;int&gt;</th><th scope=col>&lt;int&gt;</th><th scope=col>&lt;chr&gt;</th><th scope=col>&lt;chr&gt;</th><th scope=col>&lt;chr&gt;</th></tr>\n",
       "</thead>\n",
       "<tbody>\n",
       "</tbody>\n",
       "</table>\n"
      ],
      "text/latex": [
       "A tibble: 0 × 29\n",
       "\\begin{tabular}{lllllllllllllllllllll}\n",
       " renewal\\_type & renewed\\_count & expiry\\_date & creation\\_date & status & domain\\_id & domain & registrar & reseller & reseller\\_country & ⋯ & renew\\_date & renew\\_arpt & gibb\\_score & pattern & pattern\\_domain\\_count & day\\_domains & sld\\_length & sld\\_type & sld\\_type2 & tld\\\\\n",
       " <chr> & <int> & <date> & <date> & <chr> & <int> & <chr> & <chr> & <chr> & <chr> & ⋯ & <date> & <dbl> & <dbl> & <chr> & <int> & <int> & <int> & <chr> & <chr> & <chr>\\\\\n",
       "\\hline\n",
       "\\end{tabular}\n"
      ],
      "text/markdown": [
       "\n",
       "A tibble: 0 × 29\n",
       "\n",
       "| renewal_type &lt;chr&gt; | renewed_count &lt;int&gt; | expiry_date &lt;date&gt; | creation_date &lt;date&gt; | status &lt;chr&gt; | domain_id &lt;int&gt; | domain &lt;chr&gt; | registrar &lt;chr&gt; | reseller &lt;chr&gt; | reseller_country &lt;chr&gt; | ⋯ ⋯ | renew_date &lt;date&gt; | renew_arpt &lt;dbl&gt; | gibb_score &lt;dbl&gt; | pattern &lt;chr&gt; | pattern_domain_count &lt;int&gt; | day_domains &lt;int&gt; | sld_length &lt;int&gt; | sld_type &lt;chr&gt; | sld_type2 &lt;chr&gt; | tld &lt;chr&gt; |\n",
       "|---|---|---|---|---|---|---|---|---|---|---|---|---|---|---|---|---|---|---|---|---|\n",
       "\n"
      ],
      "text/plain": [
       "     renewal_type renewed_count expiry_date creation_date status domain_id\n",
       "     domain registrar reseller reseller_country ⋯ renew_date renew_arpt\n",
       "     gibb_score pattern pattern_domain_count day_domains sld_length sld_type\n",
       "     sld_type2 tld"
      ]
     },
     "metadata": {},
     "output_type": "display_data"
    }
   ],
   "source": [
    "expiry_df %>% filter(reseller==\"dotserve inc\") %>% head()\n"
   ]
  },
  {
   "cell_type": "code",
   "execution_count": 31,
   "metadata": {},
   "outputs": [
    {
     "data": {
      "text/html": [
       "396505"
      ],
      "text/latex": [
       "396505"
      ],
      "text/markdown": [
       "396505"
      ],
      "text/plain": [
       "[1] 396505"
      ]
     },
     "metadata": {},
     "output_type": "display_data"
    },
    {
     "data": {
      "text/html": [
       "14363"
      ],
      "text/latex": [
       "14363"
      ],
      "text/markdown": [
       "14363"
      ],
      "text/plain": [
       "[1] 14363"
      ]
     },
     "metadata": {},
     "output_type": "display_data"
    }
   ],
   "source": [
    "expiry_df %>% filter(tld==\"pw\") %>% tally() %>% pull(n) \n",
    "expiry_df %>% filter(tld==\"in.net\") %>% tally() %>% pull(n) \n"
   ]
  },
  {
   "cell_type": "code",
   "execution_count": 32,
   "metadata": {},
   "outputs": [
    {
     "data": {
      "text/html": [
       "<style>\n",
       ".list-inline {list-style: none; margin:0; padding: 0}\n",
       ".list-inline>li {display: inline-block}\n",
       ".list-inline>li:not(:last-child)::after {content: \"\\00b7\"; padding: 0 .5ex}\n",
       "</style>\n",
       "<ol class=list-inline><li>4661731</li><li>29</li></ol>\n"
      ],
      "text/latex": [
       "\\begin{enumerate*}\n",
       "\\item 4661731\n",
       "\\item 29\n",
       "\\end{enumerate*}\n"
      ],
      "text/markdown": [
       "1. 4661731\n",
       "2. 29\n",
       "\n",
       "\n"
      ],
      "text/plain": [
       "[1] 4661731      29"
      ]
     },
     "metadata": {},
     "output_type": "display_data"
    },
    {
     "data": {
      "text/html": [
       "410868"
      ],
      "text/latex": [
       "410868"
      ],
      "text/markdown": [
       "410868"
      ],
      "text/plain": [
       "[1] 410868"
      ]
     },
     "metadata": {},
     "output_type": "display_data"
    },
    {
     "data": {
      "text/html": [
       "4250863"
      ],
      "text/latex": [
       "4250863"
      ],
      "text/markdown": [
       "4250863"
      ],
      "text/plain": [
       "[1] 4250863"
      ]
     },
     "metadata": {},
     "output_type": "display_data"
    }
   ],
   "source": [
    "dim(expiry_df)\n",
    "expiry_df %>% filter(tld==\"pw\" | tld==\"in.net\") %>% tally() %>% pull(n) \n",
    "expiry_df %>% filter(tld!=\"pw\" & tld!=\"in.net\") %>% tally() %>% pull(n) "
   ]
  },
  {
   "cell_type": "code",
   "execution_count": 33,
   "metadata": {},
   "outputs": [
    {
     "data": {
      "text/html": [
       "4661731"
      ],
      "text/latex": [
       "4661731"
      ],
      "text/markdown": [
       "4661731"
      ],
      "text/plain": [
       "[1] 4661731"
      ]
     },
     "metadata": {},
     "output_type": "display_data"
    }
   ],
   "source": [
    "4250863+410868"
   ]
  },
  {
   "cell_type": "code",
   "execution_count": null,
   "metadata": {},
   "outputs": [],
   "source": []
  }
 ],
 "metadata": {
  "environment": {
   "name": "r-cpu.3-6.m48",
   "type": "gcloud",
   "uri": "gcr.io/deeplearning-platform-release/r-cpu.3-6:m48"
  },
  "kernelspec": {
   "display_name": "R",
   "language": "R",
   "name": "ir"
  },
  "language_info": {
   "codemirror_mode": "r",
   "file_extension": ".r",
   "mimetype": "text/x-r-source",
   "name": "R",
   "pygments_lexer": "r",
   "version": "3.6.3"
  }
 },
 "nbformat": 4,
 "nbformat_minor": 4
}
