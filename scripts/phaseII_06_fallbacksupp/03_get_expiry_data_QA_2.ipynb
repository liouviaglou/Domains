{
 "cells": [
  {
   "cell_type": "markdown",
   "metadata": {},
   "source": [
    "# Get More Data \n",
    "expand time horizon Jan 1 2019 - July 31, 2020 - 5 quarters. note 45 day (safe: 2 mo.) window from now (10/08/2020)"
   ]
  },
  {
   "cell_type": "code",
   "execution_count": 1,
   "metadata": {},
   "outputs": [],
   "source": [
    "# install.packages(\"readr\")"
   ]
  },
  {
   "cell_type": "code",
   "execution_count": 1,
   "metadata": {},
   "outputs": [
    {
     "name": "stderr",
     "output_type": "stream",
     "text": [
      "Loading required package: ggplot2\n",
      "\n",
      "\n",
      "Attaching package: ‘plotly’\n",
      "\n",
      "\n",
      "The following object is masked from ‘package:ggplot2’:\n",
      "\n",
      "    last_plot\n",
      "\n",
      "\n",
      "The following object is masked from ‘package:stats’:\n",
      "\n",
      "    filter\n",
      "\n",
      "\n",
      "The following object is masked from ‘package:graphics’:\n",
      "\n",
      "    layout\n",
      "\n",
      "\n"
     ]
    }
   ],
   "source": [
    "library(bigrquery)\n",
    "library(plotly)\n",
    "library(data.table)\n",
    "library(stringr)\n",
    "library(readr)"
   ]
  },
  {
   "cell_type": "code",
   "execution_count": 2,
   "metadata": {},
   "outputs": [
    {
     "data": {
      "text/html": [],
      "text/latex": [],
      "text/markdown": [],
      "text/plain": [
       "character(0)"
      ]
     },
     "metadata": {},
     "output_type": "display_data"
    }
   ],
   "source": [
    "objects()"
   ]
  },
  {
   "cell_type": "code",
   "execution_count": 3,
   "metadata": {},
   "outputs": [],
   "source": [
    "projectid <- \"radixbi-249015\""
   ]
  },
  {
   "cell_type": "markdown",
   "metadata": {},
   "source": [
    "## count number of rows we're working with"
   ]
  },
  {
   "cell_type": "code",
   "execution_count": 11,
   "metadata": {},
   "outputs": [],
   "source": [
    "expiry_date_start='2018-01-01'\n",
    "expiry_date_end='2020-07-31'\n",
    "\n",
    "source(\"../phaseII_06_fallbacksupp/query_string_defs_2.R\")\n",
    "\n",
    "# writeLines(count_expiry_data_str)"
   ]
  },
  {
   "cell_type": "code",
   "execution_count": 12,
   "metadata": {},
   "outputs": [
    {
     "data": {
      "text/html": [
       "<table>\n",
       "<caption>A tibble: 1 × 1</caption>\n",
       "<thead>\n",
       "\t<tr><th scope=col>f0_</th></tr>\n",
       "\t<tr><th scope=col>&lt;int&gt;</th></tr>\n",
       "</thead>\n",
       "<tbody>\n",
       "\t<tr><td>6524</td></tr>\n",
       "</tbody>\n",
       "</table>\n"
      ],
      "text/latex": [
       "A tibble: 1 × 1\n",
       "\\begin{tabular}{l}\n",
       " f0\\_\\\\\n",
       " <int>\\\\\n",
       "\\hline\n",
       "\t 6524\\\\\n",
       "\\end{tabular}\n"
      ],
      "text/markdown": [
       "\n",
       "A tibble: 1 × 1\n",
       "\n",
       "| f0_ &lt;int&gt; |\n",
       "|---|\n",
       "| 6524 |\n",
       "\n"
      ],
      "text/plain": [
       "  f0_ \n",
       "1 6524"
      ]
     },
     "metadata": {},
     "output_type": "display_data"
    }
   ],
   "source": [
    "sql <- count_expiry_data_str\n",
    "\n",
    "bq_table_download(bq_project_query(projectid, sql))"
   ]
  },
  {
   "cell_type": "code",
   "execution_count": null,
   "metadata": {},
   "outputs": [],
   "source": [
    "# webUI returns 9606009 rows -- WHY??"
   ]
  },
  {
   "cell_type": "markdown",
   "metadata": {},
   "source": [
    "## compare to size of first_renewal_preds\n",
    "\n",
    "dim = (1949082      38) <br>\n",
    "size = 807.4 Mb = 0.8074 Gb"
   ]
  },
  {
   "cell_type": "code",
   "execution_count": 3,
   "metadata": {},
   "outputs": [
    {
     "name": "stdout",
     "output_type": "stream",
     "text": [
      "[1] 1949082      38\n",
      "807.4 Mb\n"
     ]
    }
   ],
   "source": [
    "# first_renewal_preds <- readRDS('../../data/first_renewal_preds')\n",
    "# print(dim(first_renewal_preds))\n",
    "# print(object.size(first_renewal_preds), units = \"auto\") \n",
    "# rm(first_renewal_preds)"
   ]
  },
  {
   "cell_type": "code",
   "execution_count": 23,
   "metadata": {},
   "outputs": [
    {
     "data": {
      "text/html": [
       "3.1809923851331"
      ],
      "text/latex": [
       "3.1809923851331"
      ],
      "text/markdown": [
       "3.1809923851331"
      ],
      "text/plain": [
       "[1] 3.180992"
      ]
     },
     "metadata": {},
     "output_type": "display_data"
    }
   ],
   "source": [
    "6200015/1949082"
   ]
  },
  {
   "cell_type": "markdown",
   "metadata": {},
   "source": [
    "## size is almost 320% larger (row count) than first_renewal_preds. <br>will take 2.6 Gigabytes"
   ]
  },
  {
   "cell_type": "code",
   "execution_count": null,
   "metadata": {},
   "outputs": [],
   "source": []
  },
  {
   "cell_type": "code",
   "execution_count": 26,
   "metadata": {},
   "outputs": [
    {
     "name": "stdout",
     "output_type": "stream",
     "text": [
      "[1] 64821    27\n",
      "18.2 Mb\n"
     ]
    }
   ],
   "source": [
    "projectid <- \"radixbi-249015\"\n",
    "expiry_date_start <- '2020-10-06'\n",
    "expiry_date_end <- '2020-10-10'\n",
    "\n",
    "source(\"query_string_defs_2.R\")\n",
    "\n",
    "sql <- get_expiry_data_str\n",
    "\n",
    "expiry_data <- bq_table_download(bq_project_query(projectid, sql))\n",
    "print(dim(expiry_data))\n",
    "print(object.size(expiry_data), units = \"auto\") \n",
    "\n",
    "# [1] 1743356      30\n",
    "# 475.9 Mb"
   ]
  },
  {
   "cell_type": "markdown",
   "metadata": {},
   "source": [
    "## qa rest of get_expiry_data.R code"
   ]
  },
  {
   "cell_type": "code",
   "execution_count": 12,
   "metadata": {},
   "outputs": [],
   "source": [
    "expiry_data_orig <- expiry_data"
   ]
  },
  {
   "cell_type": "code",
   "execution_count": 13,
   "metadata": {},
   "outputs": [
    {
     "data": {
      "text/html": [
       "<style>\n",
       ".list-inline {list-style: none; margin:0; padding: 0}\n",
       ".list-inline>li {display: inline-block}\n",
       ".list-inline>li:not(:last-child)::after {content: \"\\00b7\"; padding: 0 .5ex}\n",
       "</style>\n",
       "<ol class=list-inline><li>'renewal_type'</li><li>'renewed_count'</li><li>'Expiry_date'</li><li>'domain_id'</li><li>'domain'</li><li>'creation_date1'</li><li>'status'</li><li>'tld'</li><li>'registrar_shortname'</li><li>'client_shortname'</li><li>'client_country'</li><li>'registrant_country'</li><li>'region'</li><li>'noofyears'</li><li>'renewal_status'</li><li>'renew_mbg'</li><li>'renewal_item_id'</li><li>'renew_type'</li><li>'autorenew_type'</li><li>'renew_date'</li><li>'Renew_Registrar_Shortname'</li><li>'Renew_Client_Shortname'</li><li>'domain_revenue'</li><li>'arpt'</li><li>'gross_profit'</li><li>'gp_less_icann_fixed'</li><li>'renew_domain_years'</li><li>'renew_domain_revenue'</li><li>'renew_arpt'</li><li>'registration_arpt'</li></ol>\n"
      ],
      "text/latex": [
       "\\begin{enumerate*}\n",
       "\\item 'renewal\\_type'\n",
       "\\item 'renewed\\_count'\n",
       "\\item 'Expiry\\_date'\n",
       "\\item 'domain\\_id'\n",
       "\\item 'domain'\n",
       "\\item 'creation\\_date1'\n",
       "\\item 'status'\n",
       "\\item 'tld'\n",
       "\\item 'registrar\\_shortname'\n",
       "\\item 'client\\_shortname'\n",
       "\\item 'client\\_country'\n",
       "\\item 'registrant\\_country'\n",
       "\\item 'region'\n",
       "\\item 'noofyears'\n",
       "\\item 'renewal\\_status'\n",
       "\\item 'renew\\_mbg'\n",
       "\\item 'renewal\\_item\\_id'\n",
       "\\item 'renew\\_type'\n",
       "\\item 'autorenew\\_type'\n",
       "\\item 'renew\\_date'\n",
       "\\item 'Renew\\_Registrar\\_Shortname'\n",
       "\\item 'Renew\\_Client\\_Shortname'\n",
       "\\item 'domain\\_revenue'\n",
       "\\item 'arpt'\n",
       "\\item 'gross\\_profit'\n",
       "\\item 'gp\\_less\\_icann\\_fixed'\n",
       "\\item 'renew\\_domain\\_years'\n",
       "\\item 'renew\\_domain\\_revenue'\n",
       "\\item 'renew\\_arpt'\n",
       "\\item 'registration\\_arpt'\n",
       "\\end{enumerate*}\n"
      ],
      "text/markdown": [
       "1. 'renewal_type'\n",
       "2. 'renewed_count'\n",
       "3. 'Expiry_date'\n",
       "4. 'domain_id'\n",
       "5. 'domain'\n",
       "6. 'creation_date1'\n",
       "7. 'status'\n",
       "8. 'tld'\n",
       "9. 'registrar_shortname'\n",
       "10. 'client_shortname'\n",
       "11. 'client_country'\n",
       "12. 'registrant_country'\n",
       "13. 'region'\n",
       "14. 'noofyears'\n",
       "15. 'renewal_status'\n",
       "16. 'renew_mbg'\n",
       "17. 'renewal_item_id'\n",
       "18. 'renew_type'\n",
       "19. 'autorenew_type'\n",
       "20. 'renew_date'\n",
       "21. 'Renew_Registrar_Shortname'\n",
       "22. 'Renew_Client_Shortname'\n",
       "23. 'domain_revenue'\n",
       "24. 'arpt'\n",
       "25. 'gross_profit'\n",
       "26. 'gp_less_icann_fixed'\n",
       "27. 'renew_domain_years'\n",
       "28. 'renew_domain_revenue'\n",
       "29. 'renew_arpt'\n",
       "30. 'registration_arpt'\n",
       "\n",
       "\n"
      ],
      "text/plain": [
       " [1] \"renewal_type\"              \"renewed_count\"            \n",
       " [3] \"Expiry_date\"               \"domain_id\"                \n",
       " [5] \"domain\"                    \"creation_date1\"           \n",
       " [7] \"status\"                    \"tld\"                      \n",
       " [9] \"registrar_shortname\"       \"client_shortname\"         \n",
       "[11] \"client_country\"            \"registrant_country\"       \n",
       "[13] \"region\"                    \"noofyears\"                \n",
       "[15] \"renewal_status\"            \"renew_mbg\"                \n",
       "[17] \"renewal_item_id\"           \"renew_type\"               \n",
       "[19] \"autorenew_type\"            \"renew_date\"               \n",
       "[21] \"Renew_Registrar_Shortname\" \"Renew_Client_Shortname\"   \n",
       "[23] \"domain_revenue\"            \"arpt\"                     \n",
       "[25] \"gross_profit\"              \"gp_less_icann_fixed\"      \n",
       "[27] \"renew_domain_years\"        \"renew_domain_revenue\"     \n",
       "[29] \"renew_arpt\"                \"registration_arpt\"        "
      ]
     },
     "metadata": {},
     "output_type": "display_data"
    }
   ],
   "source": [
    "names(expiry_data_orig)"
   ]
  },
  {
   "cell_type": "code",
   "execution_count": 14,
   "metadata": {},
   "outputs": [],
   "source": [
    "expiry_data < -expiry_data_orig %>%\n",
    "select(renewal_type, renewed_count, expiry_date = Expiry_date, domain_id, domain,\n",
    "       creation_date = creation_date1, status, tld, registrar = registrar_shortname,\n",
    "       reseller = client_shortname, reseller_country = client_country, region, reg_period = noofyears,\n",
    "       registrant_country,renewal_status,renew_mbg, renew_type, autorenew_type, renew_date, renew_registrar = Renew_Registrar_Shortname, \n",
    "       renew_reseller = Renew_Client_Shortname, reg_revenue = domain_revenue, reg_arpt = arpt,\n",
    "       renew_period = renew_domain_years, renew_domain_revenue, renew_arpt,reg_arpt_org = registration_arpt)"
   ]
  },
  {
   "cell_type": "code",
   "execution_count": 16,
   "metadata": {},
   "outputs": [
    {
     "data": {
      "text/html": [
       "<style>\n",
       ".list-inline {list-style: none; margin:0; padding: 0}\n",
       ".list-inline>li {display: inline-block}\n",
       ".list-inline>li:not(:last-child)::after {content: \"\\00b7\"; padding: 0 .5ex}\n",
       "</style>\n",
       "<ol class=list-inline><li>'renewal_type'</li><li>'renewed_count'</li><li>'expiry_date'</li><li>'domain_id'</li><li>'domain'</li><li>'creation_date'</li><li>'status'</li><li>'tld'</li><li>'registrar'</li><li>'reseller'</li><li>'reseller_country'</li><li>'region'</li><li>'reg_period'</li><li>'registrant_country'</li><li>'renewal_status'</li><li>'renew_mbg'</li><li>'renew_type'</li><li>'autorenew_type'</li><li>'renew_date'</li><li>'renew_registrar'</li><li>'renew_reseller'</li><li>'reg_revenue'</li><li>'reg_arpt'</li><li>'renew_period'</li><li>'renew_domain_revenue'</li><li>'renew_arpt'</li><li>'reg_arpt_org'</li></ol>\n"
      ],
      "text/latex": [
       "\\begin{enumerate*}\n",
       "\\item 'renewal\\_type'\n",
       "\\item 'renewed\\_count'\n",
       "\\item 'expiry\\_date'\n",
       "\\item 'domain\\_id'\n",
       "\\item 'domain'\n",
       "\\item 'creation\\_date'\n",
       "\\item 'status'\n",
       "\\item 'tld'\n",
       "\\item 'registrar'\n",
       "\\item 'reseller'\n",
       "\\item 'reseller\\_country'\n",
       "\\item 'region'\n",
       "\\item 'reg\\_period'\n",
       "\\item 'registrant\\_country'\n",
       "\\item 'renewal\\_status'\n",
       "\\item 'renew\\_mbg'\n",
       "\\item 'renew\\_type'\n",
       "\\item 'autorenew\\_type'\n",
       "\\item 'renew\\_date'\n",
       "\\item 'renew\\_registrar'\n",
       "\\item 'renew\\_reseller'\n",
       "\\item 'reg\\_revenue'\n",
       "\\item 'reg\\_arpt'\n",
       "\\item 'renew\\_period'\n",
       "\\item 'renew\\_domain\\_revenue'\n",
       "\\item 'renew\\_arpt'\n",
       "\\item 'reg\\_arpt\\_org'\n",
       "\\end{enumerate*}\n"
      ],
      "text/markdown": [
       "1. 'renewal_type'\n",
       "2. 'renewed_count'\n",
       "3. 'expiry_date'\n",
       "4. 'domain_id'\n",
       "5. 'domain'\n",
       "6. 'creation_date'\n",
       "7. 'status'\n",
       "8. 'tld'\n",
       "9. 'registrar'\n",
       "10. 'reseller'\n",
       "11. 'reseller_country'\n",
       "12. 'region'\n",
       "13. 'reg_period'\n",
       "14. 'registrant_country'\n",
       "15. 'renewal_status'\n",
       "16. 'renew_mbg'\n",
       "17. 'renew_type'\n",
       "18. 'autorenew_type'\n",
       "19. 'renew_date'\n",
       "20. 'renew_registrar'\n",
       "21. 'renew_reseller'\n",
       "22. 'reg_revenue'\n",
       "23. 'reg_arpt'\n",
       "24. 'renew_period'\n",
       "25. 'renew_domain_revenue'\n",
       "26. 'renew_arpt'\n",
       "27. 'reg_arpt_org'\n",
       "\n",
       "\n"
      ],
      "text/plain": [
       " [1] \"renewal_type\"         \"renewed_count\"        \"expiry_date\"         \n",
       " [4] \"domain_id\"            \"domain\"               \"creation_date\"       \n",
       " [7] \"status\"               \"tld\"                  \"registrar\"           \n",
       "[10] \"reseller\"             \"reseller_country\"     \"region\"              \n",
       "[13] \"reg_period\"           \"registrant_country\"   \"renewal_status\"      \n",
       "[16] \"renew_mbg\"            \"renew_type\"           \"autorenew_type\"      \n",
       "[19] \"renew_date\"           \"renew_registrar\"      \"renew_reseller\"      \n",
       "[22] \"reg_revenue\"          \"reg_arpt\"             \"renew_period\"        \n",
       "[25] \"renew_domain_revenue\" \"renew_arpt\"           \"reg_arpt_org\"        "
      ]
     },
     "metadata": {},
     "output_type": "display_data"
    }
   ],
   "source": [
    "names(expiry_data)"
   ]
  },
  {
   "cell_type": "code",
   "execution_count": 17,
   "metadata": {},
   "outputs": [],
   "source": [
    "expiry_data$expiry_date<-as.Date(expiry_data$expiry_date, \"%Y-%m-%d\")\n",
    "expiry_data$creation_date<-as.Date(expiry_data$creation_date, \"%Y-%m-%d\")\n",
    "expiry_data$renew_date<-as.Date(expiry_data$renew_date, \"%Y-%m-%d\")\n",
    "expiry_data$registrar<-tolower(expiry_data$registrar)\n",
    "expiry_data$reseller<-tolower(expiry_data$reseller)"
   ]
  },
  {
   "cell_type": "code",
   "execution_count": 18,
   "metadata": {},
   "outputs": [],
   "source": [
    "expiry_data$renewal_status[!(expiry_data$renew_mbg == 0)]<-\"Not Renewd\"\n",
    "expiry_data$autorenew_type[!(expiry_data$renew_mbg == 0)]<-\"unrealized\""
   ]
  },
  {
   "cell_type": "code",
   "execution_count": 19,
   "metadata": {},
   "outputs": [],
   "source": [
    "saveRDS(expiry_data,\"../../data/output/expiry_data\")\n",
    "system(\"gsutil cp /home/jupyter/local/Domains_202003/data/output/* gs://data_outputt/output/\")\n",
    "\n",
    "# expiry_data <- readRDS(file.path('../../data/output/',\"expiry_data\"))"
   ]
  },
  {
   "cell_type": "code",
   "execution_count": null,
   "metadata": {},
   "outputs": [],
   "source": []
  }
 ],
 "metadata": {
  "environment": {
   "name": "r-cpu.3-6.m48",
   "type": "gcloud",
   "uri": "gcr.io/deeplearning-platform-release/r-cpu.3-6:m48"
  },
  "kernelspec": {
   "display_name": "R",
   "language": "R",
   "name": "ir"
  },
  "language_info": {
   "codemirror_mode": "r",
   "file_extension": ".r",
   "mimetype": "text/x-r-source",
   "name": "R",
   "pygments_lexer": "r",
   "version": "3.6.3"
  }
 },
 "nbformat": 4,
 "nbformat_minor": 4
}
