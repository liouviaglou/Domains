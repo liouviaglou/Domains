{
 "cells": [
  {
   "cell_type": "markdown",
   "metadata": {},
   "source": [
    "# Get More Data \n",
    "expand time horizon Jan 1 2019 - July 31, 2020 - 5 quarters. note 45 day (safe: 2 mo.) window from now (10/08/2020)"
   ]
  },
  {
   "cell_type": "code",
   "execution_count": null,
   "metadata": {},
   "outputs": [],
   "source": [
    "# install.packages(\"readr\")"
   ]
  },
  {
   "cell_type": "code",
   "execution_count": null,
   "metadata": {},
   "outputs": [],
   "source": [
    "# https://stackoverflow.com/questions/63328348/invalid-value-at-start-index-type-uint64-1e05-invalid-issue-while-down\n",
    "# remotes::install_github(\"r-dbi/bigrquery\")"
   ]
  },
  {
   "cell_type": "code",
   "execution_count": 1,
   "metadata": {},
   "outputs": [
    {
     "name": "stderr",
     "output_type": "stream",
     "text": [
      "Warning message:\n",
      "“replacing previous import ‘vctrs::data_frame’ by ‘tibble::data_frame’ when loading ‘dplyr’”\n",
      "Loading required package: ggplot2\n",
      "\n",
      "\n",
      "Attaching package: ‘plotly’\n",
      "\n",
      "\n",
      "The following object is masked from ‘package:ggplot2’:\n",
      "\n",
      "    last_plot\n",
      "\n",
      "\n",
      "The following object is masked from ‘package:stats’:\n",
      "\n",
      "    filter\n",
      "\n",
      "\n",
      "The following object is masked from ‘package:graphics’:\n",
      "\n",
      "    layout\n",
      "\n",
      "\n"
     ]
    }
   ],
   "source": [
    "library(bigrquery)\n",
    "library(plotly)\n",
    "library(data.table)\n",
    "library(stringr)\n",
    "library(readr)"
   ]
  },
  {
   "cell_type": "code",
   "execution_count": null,
   "metadata": {},
   "outputs": [],
   "source": [
    "objects()"
   ]
  },
  {
   "cell_type": "code",
   "execution_count": null,
   "metadata": {},
   "outputs": [],
   "source": [
    "projectid <- \"radixbi-249015\""
   ]
  },
  {
   "cell_type": "markdown",
   "metadata": {},
   "source": [
    "## count number of rows we're working with"
   ]
  },
  {
   "cell_type": "code",
   "execution_count": null,
   "metadata": {},
   "outputs": [],
   "source": [
    "expiry_date_start='2018-01-01'\n",
    "expiry_date_end='2020-10-15'\n",
    "\n",
    "source(\"../phaseII_06_fallbacksupp/query_string_defs_2.R\")\n",
    "\n",
    "# writeLines(count_expiry_data_str)"
   ]
  },
  {
   "cell_type": "code",
   "execution_count": null,
   "metadata": {},
   "outputs": [],
   "source": [
    "sql <- count_expiry_data_str\n",
    "\n",
    "bq_table_download(bq_project_query(projectid, sql))"
   ]
  },
  {
   "cell_type": "code",
   "execution_count": null,
   "metadata": {},
   "outputs": [],
   "source": [
    "# result is wrong -- looking at something like 9.6M rows"
   ]
  },
  {
   "cell_type": "code",
   "execution_count": null,
   "metadata": {},
   "outputs": [],
   "source": [
    "# webUI returns 9606009 rows -- WHY??"
   ]
  },
  {
   "cell_type": "markdown",
   "metadata": {},
   "source": [
    "## saved results of new query to bigquery table in project radixbi_2020\n"
   ]
  },
  {
   "cell_type": "code",
   "execution_count": null,
   "metadata": {},
   "outputs": [],
   "source": [
    "sql <- paste(\"SELECT COUNT(*) FROM `radix2020.expiry.expiry_20180101_20201015_20201020`\")\n",
    "\n",
    "bq_table_download(bq_project_query(\"radix2020\", sql))"
   ]
  },
  {
   "cell_type": "code",
   "execution_count": null,
   "metadata": {},
   "outputs": [],
   "source": [
    "# result is correct -- right number of rows"
   ]
  },
  {
   "cell_type": "markdown",
   "metadata": {},
   "source": [
    "## Split into 5Q subsets"
   ]
  },
  {
   "cell_type": "code",
   "execution_count": null,
   "metadata": {},
   "outputs": [],
   "source": [
    "# 20180101 - 20190331  # 5Q dataset1\n",
    "# 20190401 - 20200630  # 5Q dataset2\n",
    "# 20200701 - 20200930? # 1Q dataset3"
   ]
  },
  {
   "cell_type": "code",
   "execution_count": null,
   "metadata": {},
   "outputs": [],
   "source": [
    "# num rows in dataset1 3M\n",
    "# num rows in dataset2 5M\n",
    "# num rows in dataset3 1.5M\n",
    "sql <- paste(\"SELECT count(*) FROM `radix2020.expiry.expiry_20180101_20201015_20201020` \n",
    "                WHERE expiry_date >= '2020-07-01' \")\n",
    "\n",
    "bq_table_download(bq_project_query(\"radix2020\", sql))"
   ]
  },
  {
   "cell_type": "markdown",
   "metadata": {},
   "source": [
    "## Extract 5Q subsets"
   ]
  },
  {
   "cell_type": "code",
   "execution_count": 2,
   "metadata": {},
   "outputs": [],
   "source": [
    "sql <- paste(\"SELECT * FROM `radix2020.expiry.expiry_20180101_20201015_20201021` \n",
    "                WHERE expiry_date <= '2019-03-31' \")\n",
    "\n",
    "expiry_20180101_20190331 <- bq_table_download(bq_project_query(\"radix2020\", sql))\n",
    "saveRDS(expiry_20180101_20190331,\"../../data/output/expiry_20180101_20190331\")\n",
    "system(\"gsutil cp /home/jupyter/local/Domains_202003/data/output/* gs://data_outputt/output/\")"
   ]
  },
  {
   "cell_type": "code",
   "execution_count": 3,
   "metadata": {},
   "outputs": [
    {
     "data": {
      "text/html": [
       "<style>\n",
       ".list-inline {list-style: none; margin:0; padding: 0}\n",
       ".list-inline>li {display: inline-block}\n",
       ".list-inline>li:not(:last-child)::after {content: \"\\00b7\"; padding: 0 .5ex}\n",
       "</style>\n",
       "<ol class=list-inline><li>3010584</li><li>28</li></ol>\n"
      ],
      "text/latex": [
       "\\begin{enumerate*}\n",
       "\\item 3010584\n",
       "\\item 28\n",
       "\\end{enumerate*}\n"
      ],
      "text/markdown": [
       "1. 3010584\n",
       "2. 28\n",
       "\n",
       "\n"
      ],
      "text/plain": [
       "[1] 3010584      28"
      ]
     },
     "metadata": {},
     "output_type": "display_data"
    }
   ],
   "source": [
    "dim(expiry_20180101_20190331)"
   ]
  },
  {
   "cell_type": "code",
   "execution_count": 4,
   "metadata": {},
   "outputs": [
    {
     "data": {
      "text/html": [
       "<table>\n",
       "<caption>A matrix: 2 × 6 of type dbl</caption>\n",
       "<thead>\n",
       "\t<tr><th></th><th scope=col>used</th><th scope=col>(Mb)</th><th scope=col>gc trigger</th><th scope=col>(Mb)</th><th scope=col>max used</th><th scope=col>(Mb)</th></tr>\n",
       "</thead>\n",
       "<tbody>\n",
       "\t<tr><th scope=row>Ncells</th><td> 971222</td><td>51.9</td><td>  6189980</td><td>330.6</td><td>  7737474</td><td>413.3</td></tr>\n",
       "\t<tr><th scope=row>Vcells</th><td>5805323</td><td>44.3</td><td>121391277</td><td>926.2</td><td>113490180</td><td>865.9</td></tr>\n",
       "</tbody>\n",
       "</table>\n"
      ],
      "text/latex": [
       "A matrix: 2 × 6 of type dbl\n",
       "\\begin{tabular}{r|llllll}\n",
       "  & used & (Mb) & gc trigger & (Mb) & max used & (Mb)\\\\\n",
       "\\hline\n",
       "\tNcells &  971222 & 51.9 &   6189980 & 330.6 &   7737474 & 413.3\\\\\n",
       "\tVcells & 5805323 & 44.3 & 121391277 & 926.2 & 113490180 & 865.9\\\\\n",
       "\\end{tabular}\n"
      ],
      "text/markdown": [
       "\n",
       "A matrix: 2 × 6 of type dbl\n",
       "\n",
       "| <!--/--> | used | (Mb) | gc trigger | (Mb) | max used | (Mb) |\n",
       "|---|---|---|---|---|---|---|\n",
       "| Ncells |  971222 | 51.9 |   6189980 | 330.6 |   7737474 | 413.3 |\n",
       "| Vcells | 5805323 | 44.3 | 121391277 | 926.2 | 113490180 | 865.9 |\n",
       "\n"
      ],
      "text/plain": [
       "       used    (Mb) gc trigger (Mb)  max used  (Mb) \n",
       "Ncells  971222 51.9   6189980  330.6   7737474 413.3\n",
       "Vcells 5805323 44.3 121391277  926.2 113490180 865.9"
      ]
     },
     "metadata": {},
     "output_type": "display_data"
    }
   ],
   "source": [
    "rm(expiry_20180101_20190331)\n",
    "gc()"
   ]
  },
  {
   "cell_type": "code",
   "execution_count": 5,
   "metadata": {},
   "outputs": [
    {
     "data": {
      "text/html": [
       "<style>\n",
       ".list-inline {list-style: none; margin:0; padding: 0}\n",
       ".list-inline>li {display: inline-block}\n",
       ".list-inline>li:not(:last-child)::after {content: \"\\00b7\"; padding: 0 .5ex}\n",
       "</style>\n",
       "<ol class=list-inline><li>5143121</li><li>28</li></ol>\n"
      ],
      "text/latex": [
       "\\begin{enumerate*}\n",
       "\\item 5143121\n",
       "\\item 28\n",
       "\\end{enumerate*}\n"
      ],
      "text/markdown": [
       "1. 5143121\n",
       "2. 28\n",
       "\n",
       "\n"
      ],
      "text/plain": [
       "[1] 5143121      28"
      ]
     },
     "metadata": {},
     "output_type": "display_data"
    }
   ],
   "source": [
    "sql <- paste(\"SELECT * FROM `radix2020.expiry.expiry_20180101_20201015_20201021` \n",
    "                WHERE expiry_date >= '2019-04-01' AND expiry_date <= '2020-06-30' \")\n",
    "\n",
    "expiry_20190401_20200630 <- bq_table_download(bq_project_query(\"radix2020\", sql))\n",
    "saveRDS(expiry_20190401_20200630,\"../../data/output/expiry_20190401_20200630\")\n",
    "system(\"gsutil cp /home/jupyter/local/Domains_202003/data/output/* gs://data_outputt/output/\")\n",
    "dim(expiry_20190401_20200630)"
   ]
  },
  {
   "cell_type": "code",
   "execution_count": 6,
   "metadata": {},
   "outputs": [
    {
     "data": {
      "text/html": [
       "<table>\n",
       "<caption>A matrix: 2 × 6 of type dbl</caption>\n",
       "<thead>\n",
       "\t<tr><th></th><th scope=col>used</th><th scope=col>(Mb)</th><th scope=col>gc trigger</th><th scope=col>(Mb)</th><th scope=col>max used</th><th scope=col>(Mb)</th></tr>\n",
       "</thead>\n",
       "<tbody>\n",
       "\t<tr><th scope=row>Ncells</th><td> 975081</td><td>52.1</td><td> 11921762</td><td> 636.7</td><td> 14902202</td><td> 795.9</td></tr>\n",
       "\t<tr><th scope=row>Vcells</th><td>5813967</td><td>44.4</td><td>209712232</td><td>1600.0</td><td>190814808</td><td>1455.9</td></tr>\n",
       "</tbody>\n",
       "</table>\n"
      ],
      "text/latex": [
       "A matrix: 2 × 6 of type dbl\n",
       "\\begin{tabular}{r|llllll}\n",
       "  & used & (Mb) & gc trigger & (Mb) & max used & (Mb)\\\\\n",
       "\\hline\n",
       "\tNcells &  975081 & 52.1 &  11921762 &  636.7 &  14902202 &  795.9\\\\\n",
       "\tVcells & 5813967 & 44.4 & 209712232 & 1600.0 & 190814808 & 1455.9\\\\\n",
       "\\end{tabular}\n"
      ],
      "text/markdown": [
       "\n",
       "A matrix: 2 × 6 of type dbl\n",
       "\n",
       "| <!--/--> | used | (Mb) | gc trigger | (Mb) | max used | (Mb) |\n",
       "|---|---|---|---|---|---|---|\n",
       "| Ncells |  975081 | 52.1 |  11921762 |  636.7 |  14902202 |  795.9 |\n",
       "| Vcells | 5813967 | 44.4 | 209712232 | 1600.0 | 190814808 | 1455.9 |\n",
       "\n"
      ],
      "text/plain": [
       "       used    (Mb) gc trigger (Mb)   max used  (Mb)  \n",
       "Ncells  975081 52.1  11921762   636.7  14902202  795.9\n",
       "Vcells 5813967 44.4 209712232  1600.0 190814808 1455.9"
      ]
     },
     "metadata": {},
     "output_type": "display_data"
    }
   ],
   "source": [
    "rm(expiry_20190401_20200630)\n",
    "gc()"
   ]
  },
  {
   "cell_type": "code",
   "execution_count": 7,
   "metadata": {},
   "outputs": [
    {
     "name": "stderr",
     "output_type": "stream",
     "text": [
      "Auto-refreshing stale OAuth token.\n",
      "\n"
     ]
    }
   ],
   "source": [
    "sql <- paste(\"SELECT * FROM `radix2020.expiry.expiry_20180101_20201015_20201020` \n",
    "                WHERE expiry_date >= '2020-07-01' \")\n",
    "\n",
    "expiry_20200701_20201015 <- bq_table_download(bq_project_query(\"radix2020\", sql))\n",
    "saveRDS(expiry_20200701_20201015,\"../../data/output/expiry_20200701_20201015\")\n",
    "system(\"gsutil cp /home/jupyter/local/Domains_202003/data/output/* gs://data_outputt/output/\")"
   ]
  },
  {
   "cell_type": "code",
   "execution_count": 9,
   "metadata": {},
   "outputs": [
    {
     "ename": "ERROR",
     "evalue": "Error in eval(expr, envir, enclos): object 'expiry_20200701_20201015' not found\n",
     "output_type": "error",
     "traceback": [
      "Error in eval(expr, envir, enclos): object 'expiry_20200701_20201015' not found\nTraceback:\n"
     ]
    }
   ],
   "source": [
    "dim(expiry_20200701_20201015)"
   ]
  },
  {
   "cell_type": "code",
   "execution_count": 8,
   "metadata": {},
   "outputs": [
    {
     "data": {
      "text/html": [
       "<table>\n",
       "<caption>A matrix: 2 × 6 of type dbl</caption>\n",
       "<thead>\n",
       "\t<tr><th></th><th scope=col>used</th><th scope=col>(Mb)</th><th scope=col>gc trigger</th><th scope=col>(Mb)</th><th scope=col>max used</th><th scope=col>(Mb)</th></tr>\n",
       "</thead>\n",
       "<tbody>\n",
       "\t<tr><th scope=row>Ncells</th><td> 975120</td><td>52.1</td><td>  7629928</td><td> 407.5</td><td> 14902202</td><td> 795.9</td></tr>\n",
       "\t<tr><th scope=row>Vcells</th><td>5814050</td><td>44.4</td><td>134215829</td><td>1024.0</td><td>209101432</td><td>1595.4</td></tr>\n",
       "</tbody>\n",
       "</table>\n"
      ],
      "text/latex": [
       "A matrix: 2 × 6 of type dbl\n",
       "\\begin{tabular}{r|llllll}\n",
       "  & used & (Mb) & gc trigger & (Mb) & max used & (Mb)\\\\\n",
       "\\hline\n",
       "\tNcells &  975120 & 52.1 &   7629928 &  407.5 &  14902202 &  795.9\\\\\n",
       "\tVcells & 5814050 & 44.4 & 134215829 & 1024.0 & 209101432 & 1595.4\\\\\n",
       "\\end{tabular}\n"
      ],
      "text/markdown": [
       "\n",
       "A matrix: 2 × 6 of type dbl\n",
       "\n",
       "| <!--/--> | used | (Mb) | gc trigger | (Mb) | max used | (Mb) |\n",
       "|---|---|---|---|---|---|---|\n",
       "| Ncells |  975120 | 52.1 |   7629928 |  407.5 |  14902202 |  795.9 |\n",
       "| Vcells | 5814050 | 44.4 | 134215829 | 1024.0 | 209101432 | 1595.4 |\n",
       "\n"
      ],
      "text/plain": [
       "       used    (Mb) gc trigger (Mb)   max used  (Mb)  \n",
       "Ncells  975120 52.1   7629928   407.5  14902202  795.9\n",
       "Vcells 5814050 44.4 134215829  1024.0 209101432 1595.4"
      ]
     },
     "metadata": {},
     "output_type": "display_data"
    }
   ],
   "source": [
    "rm(expiry_20200701_20201015)\n",
    "gc()"
   ]
  },
  {
   "cell_type": "code",
   "execution_count": null,
   "metadata": {},
   "outputs": [],
   "source": []
  }
 ],
 "metadata": {
  "environment": {
   "name": "r-cpu.3-6.m48",
   "type": "gcloud",
   "uri": "gcr.io/deeplearning-platform-release/r-cpu.3-6:m48"
  },
  "kernelspec": {
   "display_name": "R",
   "language": "R",
   "name": "ir"
  },
  "language_info": {
   "codemirror_mode": "r",
   "file_extension": ".r",
   "mimetype": "text/x-r-source",
   "name": "R",
   "pygments_lexer": "r",
   "version": "3.6.3"
  }
 },
 "nbformat": 4,
 "nbformat_minor": 4
}
